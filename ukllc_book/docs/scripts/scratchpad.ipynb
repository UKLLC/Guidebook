{
 "cells": [
  {
   "cell_type": "code",
   "execution_count": 1,
   "id": "90a7f005",
   "metadata": {},
   "outputs": [],
   "source": [
    "import requests\n",
    "import json\n",
    "import os\n",
    "import sqlalchemy\n",
    "import pandas as pd\n",
    "import mdapi_functions as md\n",
    "from IPython.display import display, Markdown\n",
    "import markdown\n",
    "from bokeh.plotting import figure, show\n",
    "from bokeh.models import (Span, TabPanel, Tabs, ColumnDataSource, DataCube,\n",
    "                          GroupingInfo, StringFormatter, SumAggregator,\n",
    "                          TableColumn, HoverTool)\n",
    "from bokeh.palettes import Category20c\n",
    "from bokeh.transform import cumsum\n",
    "from bokeh.io import output_notebook\n",
    "from math import pi\n",
    "from datetime import datetime\n",
    "import datacite_api_functions as dcf\n",
    "import numpy as np\n",
    "import data_doc_helper as dh\n",
    "\n",
    "from math import pi\n"
   ]
  },
  {
   "cell_type": "code",
   "execution_count": 2,
   "id": "f3cd7ea9",
   "metadata": {},
   "outputs": [
    {
     "data": {
      "application/javascript": "'use strict';\n(function(root) {\n  function now() {\n    return new Date();\n  }\n\n  const force = true;\n\n  if (typeof root._bokeh_onload_callbacks === \"undefined\" || force === true) {\n    root._bokeh_onload_callbacks = [];\n    root._bokeh_is_loading = undefined;\n  }\n\nconst JS_MIME_TYPE = 'application/javascript';\n  const HTML_MIME_TYPE = 'text/html';\n  const EXEC_MIME_TYPE = 'application/vnd.bokehjs_exec.v0+json';\n  const CLASS_NAME = 'output_bokeh rendered_html';\n\n  /**\n   * Render data to the DOM node\n   */\n  function render(props, node) {\n    const script = document.createElement(\"script\");\n    node.appendChild(script);\n  }\n\n  /**\n   * Handle when an output is cleared or removed\n   */\n  function handleClearOutput(event, handle) {\n    function drop(id) {\n      const view = Bokeh.index.get_by_id(id)\n      if (view != null) {\n        view.model.document.clear()\n        Bokeh.index.delete(view)\n      }\n    }\n\n    const cell = handle.cell;\n\n    const id = cell.output_area._bokeh_element_id;\n    const server_id = cell.output_area._bokeh_server_id;\n\n    // Clean up Bokeh references\n    if (id != null) {\n      drop(id)\n    }\n\n    if (server_id !== undefined) {\n      // Clean up Bokeh references\n      const cmd_clean = \"from bokeh.io.state import curstate; print(curstate().uuid_to_server['\" + server_id + \"'].get_sessions()[0].document.roots[0]._id)\";\n      cell.notebook.kernel.execute(cmd_clean, {\n        iopub: {\n          output: function(msg) {\n            const id = msg.content.text.trim()\n            drop(id)\n          }\n        }\n      });\n      // Destroy server and session\n      const cmd_destroy = \"import bokeh.io.notebook as ion; ion.destroy_server('\" + server_id + \"')\";\n      cell.notebook.kernel.execute(cmd_destroy);\n    }\n  }\n\n  /**\n   * Handle when a new output is added\n   */\n  function handleAddOutput(event, handle) {\n    const output_area = handle.output_area;\n    const output = handle.output;\n\n    // limit handleAddOutput to display_data with EXEC_MIME_TYPE content only\n    if ((output.output_type != \"display_data\") || (!Object.prototype.hasOwnProperty.call(output.data, EXEC_MIME_TYPE))) {\n      return\n    }\n\n    const toinsert = output_area.element.find(\".\" + CLASS_NAME.split(' ')[0]);\n\n    if (output.metadata[EXEC_MIME_TYPE][\"id\"] !== undefined) {\n      toinsert[toinsert.length - 1].firstChild.textContent = output.data[JS_MIME_TYPE];\n      // store reference to embed id on output_area\n      output_area._bokeh_element_id = output.metadata[EXEC_MIME_TYPE][\"id\"];\n    }\n    if (output.metadata[EXEC_MIME_TYPE][\"server_id\"] !== undefined) {\n      const bk_div = document.createElement(\"div\");\n      bk_div.innerHTML = output.data[HTML_MIME_TYPE];\n      const script_attrs = bk_div.children[0].attributes;\n      for (let i = 0; i < script_attrs.length; i++) {\n        toinsert[toinsert.length - 1].firstChild.setAttribute(script_attrs[i].name, script_attrs[i].value);\n        toinsert[toinsert.length - 1].firstChild.textContent = bk_div.children[0].textContent\n      }\n      // store reference to server id on output_area\n      output_area._bokeh_server_id = output.metadata[EXEC_MIME_TYPE][\"server_id\"];\n    }\n  }\n\n  function register_renderer(events, OutputArea) {\n\n    function append_mime(data, metadata, element) {\n      // create a DOM node to render to\n      const toinsert = this.create_output_subarea(\n        metadata,\n        CLASS_NAME,\n        EXEC_MIME_TYPE\n      );\n      this.keyboard_manager.register_events(toinsert);\n      // Render to node\n      const props = {data: data, metadata: metadata[EXEC_MIME_TYPE]};\n      render(props, toinsert[toinsert.length - 1]);\n      element.append(toinsert);\n      return toinsert\n    }\n\n    /* Handle when an output is cleared or removed */\n    events.on('clear_output.CodeCell', handleClearOutput);\n    events.on('delete.Cell', handleClearOutput);\n\n    /* Handle when a new output is added */\n    events.on('output_added.OutputArea', handleAddOutput);\n\n    /**\n     * Register the mime type and append_mime function with output_area\n     */\n    OutputArea.prototype.register_mime_type(EXEC_MIME_TYPE, append_mime, {\n      /* Is output safe? */\n      safe: true,\n      /* Index of renderer in `output_area.display_order` */\n      index: 0\n    });\n  }\n\n  // register the mime type if in Jupyter Notebook environment and previously unregistered\n  if (root.Jupyter !== undefined) {\n    const events = require('base/js/events');\n    const OutputArea = require('notebook/js/outputarea').OutputArea;\n\n    if (OutputArea.prototype.mime_types().indexOf(EXEC_MIME_TYPE) == -1) {\n      register_renderer(events, OutputArea);\n    }\n  }\n  if (typeof (root._bokeh_timeout) === \"undefined\" || force === true) {\n    root._bokeh_timeout = Date.now() + 5000;\n    root._bokeh_failed_load = false;\n  }\n\n  const NB_LOAD_WARNING = {'data': {'text/html':\n     \"<div style='background-color: #fdd'>\\n\"+\n     \"<p>\\n\"+\n     \"BokehJS does not appear to have successfully loaded. If loading BokehJS from CDN, this \\n\"+\n     \"may be due to a slow or bad network connection. Possible fixes:\\n\"+\n     \"</p>\\n\"+\n     \"<ul>\\n\"+\n     \"<li>re-rerun `output_notebook()` to attempt to load from CDN again, or</li>\\n\"+\n     \"<li>use INLINE resources instead, as so:</li>\\n\"+\n     \"</ul>\\n\"+\n     \"<code>\\n\"+\n     \"from bokeh.resources import INLINE\\n\"+\n     \"output_notebook(resources=INLINE)\\n\"+\n     \"</code>\\n\"+\n     \"</div>\"}};\n\n  function display_loaded(error = null) {\n    const el = document.getElementById(null);\n    if (el != null) {\n      const html = (() => {\n        if (typeof root.Bokeh === \"undefined\") {\n          if (error == null) {\n            return \"BokehJS is loading ...\";\n          } else {\n            return \"BokehJS failed to load.\";\n          }\n        } else {\n          const prefix = `BokehJS ${root.Bokeh.version}`;\n          if (error == null) {\n            return `${prefix} successfully loaded.`;\n          } else {\n            return `${prefix} <b>encountered errors</b> while loading and may not function as expected.`;\n          }\n        }\n      })();\n      el.innerHTML = html;\n\n      if (error != null) {\n        const wrapper = document.createElement(\"div\");\n        wrapper.style.overflow = \"auto\";\n        wrapper.style.height = \"5em\";\n        wrapper.style.resize = \"vertical\";\n        const content = document.createElement(\"div\");\n        content.style.fontFamily = \"monospace\";\n        content.style.whiteSpace = \"pre-wrap\";\n        content.style.backgroundColor = \"rgb(255, 221, 221)\";\n        content.textContent = error.stack ?? error.toString();\n        wrapper.append(content);\n        el.append(wrapper);\n      }\n    } else if (Date.now() < root._bokeh_timeout) {\n      setTimeout(() => display_loaded(error), 100);\n    }\n  }\n\n  function run_callbacks() {\n    try {\n      root._bokeh_onload_callbacks.forEach(function(callback) {\n        if (callback != null)\n          callback();\n      });\n    } finally {\n      delete root._bokeh_onload_callbacks\n    }\n    console.debug(\"Bokeh: all callbacks have finished\");\n  }\n\n  function load_libs(css_urls, js_urls, callback) {\n    if (css_urls == null) css_urls = [];\n    if (js_urls == null) js_urls = [];\n\n    root._bokeh_onload_callbacks.push(callback);\n    if (root._bokeh_is_loading > 0) {\n      console.debug(\"Bokeh: BokehJS is being loaded, scheduling callback at\", now());\n      return null;\n    }\n    if (js_urls == null || js_urls.length === 0) {\n      run_callbacks();\n      return null;\n    }\n    console.debug(\"Bokeh: BokehJS not loaded, scheduling load and callback at\", now());\n    root._bokeh_is_loading = css_urls.length + js_urls.length;\n\n    function on_load() {\n      root._bokeh_is_loading--;\n      if (root._bokeh_is_loading === 0) {\n        console.debug(\"Bokeh: all BokehJS libraries/stylesheets loaded\");\n        run_callbacks()\n      }\n    }\n\n    function on_error(url) {\n      console.error(\"failed to load \" + url);\n    }\n\n    for (let i = 0; i < css_urls.length; i++) {\n      const url = css_urls[i];\n      const element = document.createElement(\"link\");\n      element.onload = on_load;\n      element.onerror = on_error.bind(null, url);\n      element.rel = \"stylesheet\";\n      element.type = \"text/css\";\n      element.href = url;\n      console.debug(\"Bokeh: injecting link tag for BokehJS stylesheet: \", url);\n      document.body.appendChild(element);\n    }\n\n    for (let i = 0; i < js_urls.length; i++) {\n      const url = js_urls[i];\n      const element = document.createElement('script');\n      element.onload = on_load;\n      element.onerror = on_error.bind(null, url);\n      element.async = false;\n      element.src = url;\n      console.debug(\"Bokeh: injecting script tag for BokehJS library: \", url);\n      document.head.appendChild(element);\n    }\n  };\n\n  function inject_raw_css(css) {\n    const element = document.createElement(\"style\");\n    element.appendChild(document.createTextNode(css));\n    document.body.appendChild(element);\n  }\n\n  const js_urls = [\"https://cdn.bokeh.org/bokeh/release/bokeh-3.7.2.min.js\", \"https://cdn.bokeh.org/bokeh/release/bokeh-gl-3.7.2.min.js\", \"https://cdn.bokeh.org/bokeh/release/bokeh-widgets-3.7.2.min.js\", \"https://cdn.bokeh.org/bokeh/release/bokeh-tables-3.7.2.min.js\", \"https://cdn.bokeh.org/bokeh/release/bokeh-mathjax-3.7.2.min.js\"];\n  const css_urls = [];\n\n  const inline_js = [    function(Bokeh) {\n      Bokeh.set_log_level(\"info\");\n    },\nfunction(Bokeh) {\n    }\n  ];\n\n  function run_inline_js() {\n    if (root.Bokeh !== undefined || force === true) {\n      try {\n            for (let i = 0; i < inline_js.length; i++) {\n      inline_js[i].call(root, root.Bokeh);\n    }\n\n      } catch (error) {throw error;\n      }} else if (Date.now() < root._bokeh_timeout) {\n      setTimeout(run_inline_js, 100);\n    } else if (!root._bokeh_failed_load) {\n      console.log(\"Bokeh: BokehJS failed to load within specified timeout.\");\n      root._bokeh_failed_load = true;\n    } else if (force !== true) {\n      const cell = $(document.getElementById(null)).parents('.cell').data().cell;\n      cell.output_area.append_execute_result(NB_LOAD_WARNING)\n    }\n  }\n\n  if (root._bokeh_is_loading === 0) {\n    console.debug(\"Bokeh: BokehJS loaded, going straight to plotting\");\n    run_inline_js();\n  } else {\n    load_libs(css_urls, js_urls, function() {\n      console.debug(\"Bokeh: BokehJS plotting callback run at\", now());\n      run_inline_js();\n    });\n  }\n}(window));",
      "application/vnd.bokehjs_load.v0+json": ""
     },
     "metadata": {},
     "output_type": "display_data"
    },
    {
     "data": {
      "text/html": [
       "\n",
       "  <div id=\"bbbdf5d4-92fc-4dd7-8fa6-765f5fa41c2e\" data-root-id=\"p1001\" style=\"display: contents;\"></div>\n"
      ]
     },
     "metadata": {},
     "output_type": "display_data"
    },
    {
     "data": {
      "application/javascript": "(function(root) {\n  function embed_document(root) {\n  const docs_json = {\"ba036706-9f9d-4f14-992b-e7f979fd9baa\":{\"version\":\"3.7.2\",\"title\":\"Bokeh Application\",\"roots\":[{\"type\":\"object\",\"name\":\"Figure\",\"id\":\"p1001\",\"attributes\":{\"height\":350,\"x_range\":{\"type\":\"object\",\"name\":\"Range1d\",\"id\":\"p1011\",\"attributes\":{\"start\":-0.5}},\"y_range\":{\"type\":\"object\",\"name\":\"DataRange1d\",\"id\":\"p1003\"},\"x_scale\":{\"type\":\"object\",\"name\":\"LinearScale\",\"id\":\"p1012\"},\"y_scale\":{\"type\":\"object\",\"name\":\"LinearScale\",\"id\":\"p1013\"},\"title\":{\"type\":\"object\",\"name\":\"Title\",\"id\":\"p1004\",\"attributes\":{\"text\":\"Pie Chart\"}},\"renderers\":[{\"type\":\"object\",\"name\":\"GlyphRenderer\",\"id\":\"p1036\",\"attributes\":{\"data_source\":{\"type\":\"object\",\"name\":\"ColumnDataSource\",\"id\":\"p1027\",\"attributes\":{\"selected\":{\"type\":\"object\",\"name\":\"Selection\",\"id\":\"p1028\",\"attributes\":{\"indices\":[],\"line_indices\":[]}},\"selection_policy\":{\"type\":\"object\",\"name\":\"UnionRenderers\",\"id\":\"p1029\"},\"data\":{\"type\":\"map\",\"entries\":[[\"index\",{\"type\":\"ndarray\",\"array\":{\"type\":\"bytes\",\"data\":\"AAAAAAEAAAACAAAAAwAAAAQAAAAFAAAABgAAAAcAAAAIAAAACQAAAAoAAAALAAAA\"},\"shape\":[12],\"dtype\":\"int32\",\"order\":\"little\"}],[\"country\",{\"type\":\"ndarray\",\"array\":[\"United States\",\"United Kingdom\",\"Japan\",\"China\",\"Germany\",\"India\",\"Italy\",\"Australia\",\"Brazil\",\"France\",\"Taiwan\",\"Spain\"],\"shape\":[12],\"dtype\":\"object\",\"order\":\"little\"}],[\"value\",{\"type\":\"ndarray\",\"array\":{\"type\":\"bytes\",\"data\":\"nQAAAF0AAABZAAAAPwAAACwAAAAqAAAAKAAAACMAAAAgAAAAHwAAAB8AAAAdAAAA\"},\"shape\":[12],\"dtype\":\"int32\",\"order\":\"little\"}],[\"angle\",{\"type\":\"ndarray\",\"array\":{\"type\":\"bytes\",\"data\":\"eQLEMwAC9z+3V8R09kHrP+QcmNXVFeo/hZ74ygF34j8vDs2tzcrZP1vToA6tntg/iJh0b4xy1z93BYbhOoTUPzmtw/IJwtI/0I8to/kr0j/Qjy2j+SvSP/xUAQTZ/9A/\"},\"shape\":[12],\"dtype\":\"float64\",\"order\":\"little\"}],[\"color\",{\"type\":\"ndarray\",\"array\":[\"#3182bd\",\"#6baed6\",\"#9ecae1\",\"#c6dbef\",\"#e6550d\",\"#fd8d3c\",\"#fdae6b\",\"#fdd0a2\",\"#31a354\",\"#74c476\",\"#a1d99b\",\"#c7e9c0\"],\"shape\":[12],\"dtype\":\"object\",\"order\":\"little\"}]]}}},\"view\":{\"type\":\"object\",\"name\":\"CDSView\",\"id\":\"p1037\",\"attributes\":{\"filter\":{\"type\":\"object\",\"name\":\"AllIndices\",\"id\":\"p1038\"}}},\"glyph\":{\"type\":\"object\",\"name\":\"Wedge\",\"id\":\"p1033\",\"attributes\":{\"x\":{\"type\":\"value\",\"value\":0},\"y\":{\"type\":\"value\",\"value\":1},\"radius\":{\"type\":\"value\",\"value\":0.4},\"start_angle\":{\"type\":\"expr\",\"expr\":{\"type\":\"object\",\"name\":\"CumSum\",\"id\":\"p1025\",\"attributes\":{\"field\":\"angle\",\"include_zero\":true}}},\"end_angle\":{\"type\":\"expr\",\"expr\":{\"type\":\"object\",\"name\":\"CumSum\",\"id\":\"p1026\",\"attributes\":{\"field\":\"angle\"}}},\"line_color\":{\"type\":\"value\",\"value\":\"white\"},\"fill_color\":{\"type\":\"field\",\"field\":\"color\"}}},\"nonselection_glyph\":{\"type\":\"object\",\"name\":\"Wedge\",\"id\":\"p1034\",\"attributes\":{\"x\":{\"type\":\"value\",\"value\":0},\"y\":{\"type\":\"value\",\"value\":1},\"radius\":{\"type\":\"value\",\"value\":0.4},\"start_angle\":{\"type\":\"expr\",\"expr\":{\"id\":\"p1025\"}},\"end_angle\":{\"type\":\"expr\",\"expr\":{\"id\":\"p1026\"}},\"line_color\":{\"type\":\"value\",\"value\":\"white\"},\"line_alpha\":{\"type\":\"value\",\"value\":0.1},\"fill_color\":{\"type\":\"field\",\"field\":\"color\"},\"fill_alpha\":{\"type\":\"value\",\"value\":0.1},\"hatch_alpha\":{\"type\":\"value\",\"value\":0.1}}},\"muted_glyph\":{\"type\":\"object\",\"name\":\"Wedge\",\"id\":\"p1035\",\"attributes\":{\"x\":{\"type\":\"value\",\"value\":0},\"y\":{\"type\":\"value\",\"value\":1},\"radius\":{\"type\":\"value\",\"value\":0.4},\"start_angle\":{\"type\":\"expr\",\"expr\":{\"id\":\"p1025\"}},\"end_angle\":{\"type\":\"expr\",\"expr\":{\"id\":\"p1026\"}},\"line_color\":{\"type\":\"value\",\"value\":\"white\"},\"line_alpha\":{\"type\":\"value\",\"value\":0.2},\"fill_color\":{\"type\":\"field\",\"field\":\"color\"},\"fill_alpha\":{\"type\":\"value\",\"value\":0.2},\"hatch_alpha\":{\"type\":\"value\",\"value\":0.2}}}}}],\"toolbar\":{\"type\":\"object\",\"name\":\"Toolbar\",\"id\":\"p1010\",\"attributes\":{\"tools\":[{\"type\":\"object\",\"name\":\"HoverTool\",\"id\":\"p1024\",\"attributes\":{\"renderers\":\"auto\",\"tooltips\":\"@country: @value\"}}]}},\"toolbar_location\":null,\"left\":[{\"type\":\"object\",\"name\":\"LinearAxis\",\"id\":\"p1019\",\"attributes\":{\"visible\":false,\"ticker\":{\"type\":\"object\",\"name\":\"BasicTicker\",\"id\":\"p1020\",\"attributes\":{\"mantissas\":[1,2,5]}},\"formatter\":{\"type\":\"object\",\"name\":\"BasicTickFormatter\",\"id\":\"p1021\"},\"major_label_policy\":{\"type\":\"object\",\"name\":\"AllLabels\",\"id\":\"p1022\"}}}],\"below\":[{\"type\":\"object\",\"name\":\"LinearAxis\",\"id\":\"p1014\",\"attributes\":{\"visible\":false,\"ticker\":{\"type\":\"object\",\"name\":\"BasicTicker\",\"id\":\"p1015\",\"attributes\":{\"mantissas\":[1,2,5]}},\"formatter\":{\"type\":\"object\",\"name\":\"BasicTickFormatter\",\"id\":\"p1016\"},\"major_label_policy\":{\"type\":\"object\",\"name\":\"AllLabels\",\"id\":\"p1017\"}}}],\"center\":[{\"type\":\"object\",\"name\":\"Grid\",\"id\":\"p1018\",\"attributes\":{\"axis\":{\"id\":\"p1014\"},\"grid_line_color\":null}},{\"type\":\"object\",\"name\":\"Grid\",\"id\":\"p1023\",\"attributes\":{\"dimension\":1,\"axis\":{\"id\":\"p1019\"},\"grid_line_color\":null}},{\"type\":\"object\",\"name\":\"Legend\",\"id\":\"p1039\",\"attributes\":{\"items\":[{\"type\":\"object\",\"name\":\"LegendItem\",\"id\":\"p1040\",\"attributes\":{\"label\":{\"type\":\"field\",\"field\":\"country\"},\"renderers\":[{\"id\":\"p1036\"}]}}]}}]}}]}};\n  const render_items = [{\"docid\":\"ba036706-9f9d-4f14-992b-e7f979fd9baa\",\"roots\":{\"p1001\":\"bbbdf5d4-92fc-4dd7-8fa6-765f5fa41c2e\"},\"root_ids\":[\"p1001\"]}];\n  void root.Bokeh.embed.embed_items_notebook(docs_json, render_items);\n  }\n  if (root.Bokeh !== undefined) {\n    embed_document(root);\n  } else {\n    let attempts = 0;\n    const timer = setInterval(function(root) {\n      if (root.Bokeh !== undefined) {\n        clearInterval(timer);\n        embed_document(root);\n      } else {\n        attempts++;\n        if (attempts > 100) {\n          clearInterval(timer);\n          console.log(\"Bokeh: ERROR: Unable to run BokehJS code because BokehJS library is missing\");\n        }\n      }\n    }, 10, root)\n  }\n})(window);",
      "application/vnd.bokehjs_exec.v0+json": ""
     },
     "metadata": {
      "application/vnd.bokehjs_exec.v0+json": {
       "id": "p1001"
      }
     },
     "output_type": "display_data"
    }
   ],
   "source": [
    "output_notebook(hide_banner=True)\n",
    "\n",
    "x = {\n",
    "    'United States': 157,\n",
    "    'United Kingdom': 93,\n",
    "    'Japan': 89,\n",
    "    'China': 63,\n",
    "    'Germany': 44,\n",
    "    'India': 42,\n",
    "    'Italy': 40,\n",
    "    'Australia': 35,\n",
    "    'Brazil': 32,\n",
    "    'France': 31,\n",
    "    'Taiwan': 31,\n",
    "    'Spain': 29,\n",
    "}\n",
    "\n",
    "data = pd.Series(x).reset_index(name='value').rename(columns={'index': 'country'})\n",
    "data['angle'] = data['value']/data['value'].sum() * 2*pi\n",
    "data['color'] = Category20c[len(x)]\n",
    "\n",
    "p = figure(height=350, title=\"Pie Chart\", toolbar_location=None,\n",
    "           tools=\"hover\", tooltips=\"@country: @value\", x_range=(-0.5, 1.0))\n",
    "\n",
    "p.wedge(x=0, y=1, radius=0.4,\n",
    "        start_angle=cumsum('angle', include_zero=True), end_angle=cumsum('angle'),\n",
    "        line_color=\"white\", fill_color='color', legend_field='country', source=data)\n",
    "\n",
    "p.axis.axis_label = None\n",
    "p.axis.visible = False\n",
    "p.grid.grid_line_color = None\n",
    "\n",
    "show(p)"
   ]
  },
  {
   "cell_type": "code",
   "execution_count": 3,
   "id": "b38ba4cc",
   "metadata": {},
   "outputs": [
    {
     "data": {
      "application/javascript": "'use strict';\n(function(root) {\n  function now() {\n    return new Date();\n  }\n\n  const force = true;\n\n  if (typeof root._bokeh_onload_callbacks === \"undefined\" || force === true) {\n    root._bokeh_onload_callbacks = [];\n    root._bokeh_is_loading = undefined;\n  }\n\nconst JS_MIME_TYPE = 'application/javascript';\n  const HTML_MIME_TYPE = 'text/html';\n  const EXEC_MIME_TYPE = 'application/vnd.bokehjs_exec.v0+json';\n  const CLASS_NAME = 'output_bokeh rendered_html';\n\n  /**\n   * Render data to the DOM node\n   */\n  function render(props, node) {\n    const script = document.createElement(\"script\");\n    node.appendChild(script);\n  }\n\n  /**\n   * Handle when an output is cleared or removed\n   */\n  function handleClearOutput(event, handle) {\n    function drop(id) {\n      const view = Bokeh.index.get_by_id(id)\n      if (view != null) {\n        view.model.document.clear()\n        Bokeh.index.delete(view)\n      }\n    }\n\n    const cell = handle.cell;\n\n    const id = cell.output_area._bokeh_element_id;\n    const server_id = cell.output_area._bokeh_server_id;\n\n    // Clean up Bokeh references\n    if (id != null) {\n      drop(id)\n    }\n\n    if (server_id !== undefined) {\n      // Clean up Bokeh references\n      const cmd_clean = \"from bokeh.io.state import curstate; print(curstate().uuid_to_server['\" + server_id + \"'].get_sessions()[0].document.roots[0]._id)\";\n      cell.notebook.kernel.execute(cmd_clean, {\n        iopub: {\n          output: function(msg) {\n            const id = msg.content.text.trim()\n            drop(id)\n          }\n        }\n      });\n      // Destroy server and session\n      const cmd_destroy = \"import bokeh.io.notebook as ion; ion.destroy_server('\" + server_id + \"')\";\n      cell.notebook.kernel.execute(cmd_destroy);\n    }\n  }\n\n  /**\n   * Handle when a new output is added\n   */\n  function handleAddOutput(event, handle) {\n    const output_area = handle.output_area;\n    const output = handle.output;\n\n    // limit handleAddOutput to display_data with EXEC_MIME_TYPE content only\n    if ((output.output_type != \"display_data\") || (!Object.prototype.hasOwnProperty.call(output.data, EXEC_MIME_TYPE))) {\n      return\n    }\n\n    const toinsert = output_area.element.find(\".\" + CLASS_NAME.split(' ')[0]);\n\n    if (output.metadata[EXEC_MIME_TYPE][\"id\"] !== undefined) {\n      toinsert[toinsert.length - 1].firstChild.textContent = output.data[JS_MIME_TYPE];\n      // store reference to embed id on output_area\n      output_area._bokeh_element_id = output.metadata[EXEC_MIME_TYPE][\"id\"];\n    }\n    if (output.metadata[EXEC_MIME_TYPE][\"server_id\"] !== undefined) {\n      const bk_div = document.createElement(\"div\");\n      bk_div.innerHTML = output.data[HTML_MIME_TYPE];\n      const script_attrs = bk_div.children[0].attributes;\n      for (let i = 0; i < script_attrs.length; i++) {\n        toinsert[toinsert.length - 1].firstChild.setAttribute(script_attrs[i].name, script_attrs[i].value);\n        toinsert[toinsert.length - 1].firstChild.textContent = bk_div.children[0].textContent\n      }\n      // store reference to server id on output_area\n      output_area._bokeh_server_id = output.metadata[EXEC_MIME_TYPE][\"server_id\"];\n    }\n  }\n\n  function register_renderer(events, OutputArea) {\n\n    function append_mime(data, metadata, element) {\n      // create a DOM node to render to\n      const toinsert = this.create_output_subarea(\n        metadata,\n        CLASS_NAME,\n        EXEC_MIME_TYPE\n      );\n      this.keyboard_manager.register_events(toinsert);\n      // Render to node\n      const props = {data: data, metadata: metadata[EXEC_MIME_TYPE]};\n      render(props, toinsert[toinsert.length - 1]);\n      element.append(toinsert);\n      return toinsert\n    }\n\n    /* Handle when an output is cleared or removed */\n    events.on('clear_output.CodeCell', handleClearOutput);\n    events.on('delete.Cell', handleClearOutput);\n\n    /* Handle when a new output is added */\n    events.on('output_added.OutputArea', handleAddOutput);\n\n    /**\n     * Register the mime type and append_mime function with output_area\n     */\n    OutputArea.prototype.register_mime_type(EXEC_MIME_TYPE, append_mime, {\n      /* Is output safe? */\n      safe: true,\n      /* Index of renderer in `output_area.display_order` */\n      index: 0\n    });\n  }\n\n  // register the mime type if in Jupyter Notebook environment and previously unregistered\n  if (root.Jupyter !== undefined) {\n    const events = require('base/js/events');\n    const OutputArea = require('notebook/js/outputarea').OutputArea;\n\n    if (OutputArea.prototype.mime_types().indexOf(EXEC_MIME_TYPE) == -1) {\n      register_renderer(events, OutputArea);\n    }\n  }\n  if (typeof (root._bokeh_timeout) === \"undefined\" || force === true) {\n    root._bokeh_timeout = Date.now() + 5000;\n    root._bokeh_failed_load = false;\n  }\n\n  const NB_LOAD_WARNING = {'data': {'text/html':\n     \"<div style='background-color: #fdd'>\\n\"+\n     \"<p>\\n\"+\n     \"BokehJS does not appear to have successfully loaded. If loading BokehJS from CDN, this \\n\"+\n     \"may be due to a slow or bad network connection. Possible fixes:\\n\"+\n     \"</p>\\n\"+\n     \"<ul>\\n\"+\n     \"<li>re-rerun `output_notebook()` to attempt to load from CDN again, or</li>\\n\"+\n     \"<li>use INLINE resources instead, as so:</li>\\n\"+\n     \"</ul>\\n\"+\n     \"<code>\\n\"+\n     \"from bokeh.resources import INLINE\\n\"+\n     \"output_notebook(resources=INLINE)\\n\"+\n     \"</code>\\n\"+\n     \"</div>\"}};\n\n  function display_loaded(error = null) {\n    const el = document.getElementById(null);\n    if (el != null) {\n      const html = (() => {\n        if (typeof root.Bokeh === \"undefined\") {\n          if (error == null) {\n            return \"BokehJS is loading ...\";\n          } else {\n            return \"BokehJS failed to load.\";\n          }\n        } else {\n          const prefix = `BokehJS ${root.Bokeh.version}`;\n          if (error == null) {\n            return `${prefix} successfully loaded.`;\n          } else {\n            return `${prefix} <b>encountered errors</b> while loading and may not function as expected.`;\n          }\n        }\n      })();\n      el.innerHTML = html;\n\n      if (error != null) {\n        const wrapper = document.createElement(\"div\");\n        wrapper.style.overflow = \"auto\";\n        wrapper.style.height = \"5em\";\n        wrapper.style.resize = \"vertical\";\n        const content = document.createElement(\"div\");\n        content.style.fontFamily = \"monospace\";\n        content.style.whiteSpace = \"pre-wrap\";\n        content.style.backgroundColor = \"rgb(255, 221, 221)\";\n        content.textContent = error.stack ?? error.toString();\n        wrapper.append(content);\n        el.append(wrapper);\n      }\n    } else if (Date.now() < root._bokeh_timeout) {\n      setTimeout(() => display_loaded(error), 100);\n    }\n  }\n\n  function run_callbacks() {\n    try {\n      root._bokeh_onload_callbacks.forEach(function(callback) {\n        if (callback != null)\n          callback();\n      });\n    } finally {\n      delete root._bokeh_onload_callbacks\n    }\n    console.debug(\"Bokeh: all callbacks have finished\");\n  }\n\n  function load_libs(css_urls, js_urls, callback) {\n    if (css_urls == null) css_urls = [];\n    if (js_urls == null) js_urls = [];\n\n    root._bokeh_onload_callbacks.push(callback);\n    if (root._bokeh_is_loading > 0) {\n      console.debug(\"Bokeh: BokehJS is being loaded, scheduling callback at\", now());\n      return null;\n    }\n    if (js_urls == null || js_urls.length === 0) {\n      run_callbacks();\n      return null;\n    }\n    console.debug(\"Bokeh: BokehJS not loaded, scheduling load and callback at\", now());\n    root._bokeh_is_loading = css_urls.length + js_urls.length;\n\n    function on_load() {\n      root._bokeh_is_loading--;\n      if (root._bokeh_is_loading === 0) {\n        console.debug(\"Bokeh: all BokehJS libraries/stylesheets loaded\");\n        run_callbacks()\n      }\n    }\n\n    function on_error(url) {\n      console.error(\"failed to load \" + url);\n    }\n\n    for (let i = 0; i < css_urls.length; i++) {\n      const url = css_urls[i];\n      const element = document.createElement(\"link\");\n      element.onload = on_load;\n      element.onerror = on_error.bind(null, url);\n      element.rel = \"stylesheet\";\n      element.type = \"text/css\";\n      element.href = url;\n      console.debug(\"Bokeh: injecting link tag for BokehJS stylesheet: \", url);\n      document.body.appendChild(element);\n    }\n\n    for (let i = 0; i < js_urls.length; i++) {\n      const url = js_urls[i];\n      const element = document.createElement('script');\n      element.onload = on_load;\n      element.onerror = on_error.bind(null, url);\n      element.async = false;\n      element.src = url;\n      console.debug(\"Bokeh: injecting script tag for BokehJS library: \", url);\n      document.head.appendChild(element);\n    }\n  };\n\n  function inject_raw_css(css) {\n    const element = document.createElement(\"style\");\n    element.appendChild(document.createTextNode(css));\n    document.body.appendChild(element);\n  }\n\n  const js_urls = [\"https://cdn.bokeh.org/bokeh/release/bokeh-3.7.2.min.js\", \"https://cdn.bokeh.org/bokeh/release/bokeh-gl-3.7.2.min.js\", \"https://cdn.bokeh.org/bokeh/release/bokeh-widgets-3.7.2.min.js\", \"https://cdn.bokeh.org/bokeh/release/bokeh-tables-3.7.2.min.js\", \"https://cdn.bokeh.org/bokeh/release/bokeh-mathjax-3.7.2.min.js\"];\n  const css_urls = [];\n\n  const inline_js = [    function(Bokeh) {\n      Bokeh.set_log_level(\"info\");\n    },\nfunction(Bokeh) {\n    }\n  ];\n\n  function run_inline_js() {\n    if (root.Bokeh !== undefined || force === true) {\n      try {\n            for (let i = 0; i < inline_js.length; i++) {\n      inline_js[i].call(root, root.Bokeh);\n    }\n\n      } catch (error) {throw error;\n      }} else if (Date.now() < root._bokeh_timeout) {\n      setTimeout(run_inline_js, 100);\n    } else if (!root._bokeh_failed_load) {\n      console.log(\"Bokeh: BokehJS failed to load within specified timeout.\");\n      root._bokeh_failed_load = true;\n    } else if (force !== true) {\n      const cell = $(document.getElementById(null)).parents('.cell').data().cell;\n      cell.output_area.append_execute_result(NB_LOAD_WARNING)\n    }\n  }\n\n  if (root._bokeh_is_loading === 0) {\n    console.debug(\"Bokeh: BokehJS loaded, going straight to plotting\");\n    run_inline_js();\n  } else {\n    load_libs(css_urls, js_urls, function() {\n      console.debug(\"Bokeh: BokehJS plotting callback run at\", now());\n      run_inline_js();\n    });\n  }\n}(window));",
      "application/vnd.bokehjs_load.v0+json": ""
     },
     "metadata": {},
     "output_type": "display_data"
    },
    {
     "data": {
      "text/html": [
       "\n",
       "  <div id=\"fd213bb6-77f7-4be6-9da1-20ff93b58935\" data-root-id=\"p1044\" style=\"display: contents;\"></div>\n"
      ]
     },
     "metadata": {},
     "output_type": "display_data"
    },
    {
     "data": {
      "application/javascript": "(function(root) {\n  function embed_document(root) {\n  const docs_json = {\"2972a07e-3e9b-46e6-bdea-405b6005802a\":{\"version\":\"3.7.2\",\"title\":\"Bokeh Application\",\"roots\":[{\"type\":\"object\",\"name\":\"Figure\",\"id\":\"p1044\",\"attributes\":{\"height\":350,\"x_range\":{\"type\":\"object\",\"name\":\"Range1d\",\"id\":\"p1054\",\"attributes\":{\"start\":-0.5}},\"y_range\":{\"type\":\"object\",\"name\":\"DataRange1d\",\"id\":\"p1046\"},\"x_scale\":{\"type\":\"object\",\"name\":\"LinearScale\",\"id\":\"p1055\"},\"y_scale\":{\"type\":\"object\",\"name\":\"LinearScale\",\"id\":\"p1056\"},\"title\":{\"type\":\"object\",\"name\":\"Title\",\"id\":\"p1047\",\"attributes\":{\"text\":\"Pie Chart\"}},\"renderers\":[{\"type\":\"object\",\"name\":\"GlyphRenderer\",\"id\":\"p1079\",\"attributes\":{\"data_source\":{\"type\":\"object\",\"name\":\"ColumnDataSource\",\"id\":\"p1070\",\"attributes\":{\"selected\":{\"type\":\"object\",\"name\":\"Selection\",\"id\":\"p1071\",\"attributes\":{\"indices\":[],\"line_indices\":[]}},\"selection_policy\":{\"type\":\"object\",\"name\":\"UnionRenderers\",\"id\":\"p1072\"},\"data\":{\"type\":\"map\",\"entries\":[[\"index\",{\"type\":\"ndarray\",\"array\":{\"type\":\"bytes\",\"data\":\"DgAAAA8AAAAQAAAAEQAAABIAAAATAAAAFAAAAA==\"},\"shape\":[7],\"dtype\":\"int32\",\"order\":\"little\"}],[\"cat\",{\"type\":\"ndarray\",\"array\":[\"White\",\"Black\",\"South Asian\",\"Other Asian\",\"Mixed\",\"Other\",\"Missing\"],\"shape\":[7],\"dtype\":\"object\",\"order\":\"little\"}],[\"n\",{\"type\":\"ndarray\",\"array\":{\"type\":\"bytes\",\"data\":\"kNYBAAwJAAAcRAAA7wYAADkJAACJAwAAX84CAA==\"},\"shape\":[7],\"dtype\":\"int32\",\"order\":\"little\"}],[\"angle\",{\"type\":\"ndarray\",\"array\":{\"type\":\"bytes\",\"data\":\"dC6XCldlAkAA1JYzkqKmPxLbfTsNTdU/S0bx2QBZoT8c2kfwKBOnP2GgJYmSsJE/SOV34WEVDEA=\"},\"shape\":[7],\"dtype\":\"float64\",\"order\":\"little\"}],[\"color\",{\"type\":\"ndarray\",\"array\":[\"#3182bd\",\"#6baed6\",\"#9ecae1\",\"#c6dbef\",\"#e6550d\",\"#fd8d3c\",\"#fdae6b\"],\"shape\":[7],\"dtype\":\"object\",\"order\":\"little\"}],[\"tot\",{\"type\":\"ndarray\",\"array\":{\"type\":\"bytes\",\"data\":\"yAUFAMgFBQDIBQUAyAUFAMgFBQDIBQUAyAUFAA==\"},\"shape\":[7],\"dtype\":\"int32\",\"order\":\"little\"}]]}}},\"view\":{\"type\":\"object\",\"name\":\"CDSView\",\"id\":\"p1080\",\"attributes\":{\"filter\":{\"type\":\"object\",\"name\":\"AllIndices\",\"id\":\"p1081\"}}},\"glyph\":{\"type\":\"object\",\"name\":\"Wedge\",\"id\":\"p1076\",\"attributes\":{\"x\":{\"type\":\"value\",\"value\":0},\"y\":{\"type\":\"value\",\"value\":1},\"radius\":{\"type\":\"value\",\"value\":0.4},\"start_angle\":{\"type\":\"expr\",\"expr\":{\"type\":\"object\",\"name\":\"CumSum\",\"id\":\"p1068\",\"attributes\":{\"field\":\"angle\",\"include_zero\":true}}},\"end_angle\":{\"type\":\"expr\",\"expr\":{\"type\":\"object\",\"name\":\"CumSum\",\"id\":\"p1069\",\"attributes\":{\"field\":\"angle\"}}},\"line_color\":{\"type\":\"value\",\"value\":\"white\"},\"fill_color\":{\"type\":\"field\",\"field\":\"color\"}}},\"nonselection_glyph\":{\"type\":\"object\",\"name\":\"Wedge\",\"id\":\"p1077\",\"attributes\":{\"x\":{\"type\":\"value\",\"value\":0},\"y\":{\"type\":\"value\",\"value\":1},\"radius\":{\"type\":\"value\",\"value\":0.4},\"start_angle\":{\"type\":\"expr\",\"expr\":{\"id\":\"p1068\"}},\"end_angle\":{\"type\":\"expr\",\"expr\":{\"id\":\"p1069\"}},\"line_color\":{\"type\":\"value\",\"value\":\"white\"},\"line_alpha\":{\"type\":\"value\",\"value\":0.1},\"fill_color\":{\"type\":\"field\",\"field\":\"color\"},\"fill_alpha\":{\"type\":\"value\",\"value\":0.1},\"hatch_alpha\":{\"type\":\"value\",\"value\":0.1}}},\"muted_glyph\":{\"type\":\"object\",\"name\":\"Wedge\",\"id\":\"p1078\",\"attributes\":{\"x\":{\"type\":\"value\",\"value\":0},\"y\":{\"type\":\"value\",\"value\":1},\"radius\":{\"type\":\"value\",\"value\":0.4},\"start_angle\":{\"type\":\"expr\",\"expr\":{\"id\":\"p1068\"}},\"end_angle\":{\"type\":\"expr\",\"expr\":{\"id\":\"p1069\"}},\"line_color\":{\"type\":\"value\",\"value\":\"white\"},\"line_alpha\":{\"type\":\"value\",\"value\":0.2},\"fill_color\":{\"type\":\"field\",\"field\":\"color\"},\"fill_alpha\":{\"type\":\"value\",\"value\":0.2},\"hatch_alpha\":{\"type\":\"value\",\"value\":0.2}}}}}],\"toolbar\":{\"type\":\"object\",\"name\":\"Toolbar\",\"id\":\"p1053\",\"attributes\":{\"tools\":[{\"type\":\"object\",\"name\":\"HoverTool\",\"id\":\"p1067\",\"attributes\":{\"renderers\":\"auto\",\"tooltips\":\"@cat: @n / @tot\"}}]}},\"toolbar_location\":null,\"left\":[{\"type\":\"object\",\"name\":\"LinearAxis\",\"id\":\"p1062\",\"attributes\":{\"visible\":false,\"ticker\":{\"type\":\"object\",\"name\":\"BasicTicker\",\"id\":\"p1063\",\"attributes\":{\"mantissas\":[1,2,5]}},\"formatter\":{\"type\":\"object\",\"name\":\"BasicTickFormatter\",\"id\":\"p1064\"},\"major_label_policy\":{\"type\":\"object\",\"name\":\"AllLabels\",\"id\":\"p1065\"}}}],\"below\":[{\"type\":\"object\",\"name\":\"LinearAxis\",\"id\":\"p1057\",\"attributes\":{\"visible\":false,\"ticker\":{\"type\":\"object\",\"name\":\"BasicTicker\",\"id\":\"p1058\",\"attributes\":{\"mantissas\":[1,2,5]}},\"formatter\":{\"type\":\"object\",\"name\":\"BasicTickFormatter\",\"id\":\"p1059\"},\"major_label_policy\":{\"type\":\"object\",\"name\":\"AllLabels\",\"id\":\"p1060\"}}}],\"center\":[{\"type\":\"object\",\"name\":\"Grid\",\"id\":\"p1061\",\"attributes\":{\"axis\":{\"id\":\"p1057\"},\"grid_line_color\":null}},{\"type\":\"object\",\"name\":\"Grid\",\"id\":\"p1066\",\"attributes\":{\"dimension\":1,\"axis\":{\"id\":\"p1062\"},\"grid_line_color\":null}},{\"type\":\"object\",\"name\":\"Legend\",\"id\":\"p1082\",\"attributes\":{\"items\":[{\"type\":\"object\",\"name\":\"LegendItem\",\"id\":\"p1083\",\"attributes\":{\"label\":{\"type\":\"field\",\"field\":\"cat\"},\"renderers\":[{\"id\":\"p1079\"}]}}]}}]}}]}};\n  const render_items = [{\"docid\":\"2972a07e-3e9b-46e6-bdea-405b6005802a\",\"roots\":{\"p1044\":\"fd213bb6-77f7-4be6-9da1-20ff93b58935\"},\"root_ids\":[\"p1044\"]}];\n  void root.Bokeh.embed.embed_items_notebook(docs_json, render_items);\n  }\n  if (root.Bokeh !== undefined) {\n    embed_document(root);\n  } else {\n    let attempts = 0;\n    const timer = setInterval(function(root) {\n      if (root.Bokeh !== undefined) {\n        clearInterval(timer);\n        embed_document(root);\n      } else {\n        attempts++;\n        if (attempts > 100) {\n          clearInterval(timer);\n          console.log(\"Bokeh: ERROR: Unable to run BokehJS code because BokehJS library is missing\");\n        }\n      }\n    }, 10, root)\n  }\n})(window);",
      "application/vnd.bokehjs_exec.v0+json": ""
     },
     "metadata": {
      "application/vnd.bokehjs_exec.v0+json": {
       "id": "p1044"
      }
     },
     "output_type": "display_data"
    }
   ],
   "source": [
    "output_notebook(hide_banner=True)\n",
    "\n",
    "df = md.get_freeze_profile()\n",
    "df = df[df[\"demo_grp\"].isin([\"ethnicity\"])]\n",
    "df2 = df[[\"cat\", \"n\"]]\n",
    "df2[\"angle\"] = df2[\"n\"]/ df2[\"n\"].sum() * 2*pi\n",
    "df2['color'] = Category20c[df2.__len__()]\n",
    "df2[\"tot\"] = df2[\"n\"].sum()\n",
    "df2\n",
    "\n",
    "p = figure(height=350, title=\"Pie Chart\", toolbar_location=None,\n",
    "           tools=\"hover\", tooltips=\"@cat: @n / @tot\", x_range=(-0.5, 1.0))\n",
    "\n",
    "p.wedge(x=0, y=1, radius=0.4,\n",
    "        start_angle=cumsum('angle', include_zero=True), end_angle=cumsum('angle'),\n",
    "        line_color=\"white\", fill_color='color', legend_field='cat', source=df2)\n",
    "\n",
    "p.axis.axis_label = None\n",
    "p.axis.visible = False\n",
    "p.grid.grid_line_color = None\n",
    "show(p)\n"
   ]
  },
  {
   "cell_type": "code",
   "execution_count": 4,
   "id": "9ff6eeb4",
   "metadata": {},
   "outputs": [
    {
     "data": {
      "application/javascript": "'use strict';\n(function(root) {\n  function now() {\n    return new Date();\n  }\n\n  const force = true;\n\n  if (typeof root._bokeh_onload_callbacks === \"undefined\" || force === true) {\n    root._bokeh_onload_callbacks = [];\n    root._bokeh_is_loading = undefined;\n  }\n\nconst JS_MIME_TYPE = 'application/javascript';\n  const HTML_MIME_TYPE = 'text/html';\n  const EXEC_MIME_TYPE = 'application/vnd.bokehjs_exec.v0+json';\n  const CLASS_NAME = 'output_bokeh rendered_html';\n\n  /**\n   * Render data to the DOM node\n   */\n  function render(props, node) {\n    const script = document.createElement(\"script\");\n    node.appendChild(script);\n  }\n\n  /**\n   * Handle when an output is cleared or removed\n   */\n  function handleClearOutput(event, handle) {\n    function drop(id) {\n      const view = Bokeh.index.get_by_id(id)\n      if (view != null) {\n        view.model.document.clear()\n        Bokeh.index.delete(view)\n      }\n    }\n\n    const cell = handle.cell;\n\n    const id = cell.output_area._bokeh_element_id;\n    const server_id = cell.output_area._bokeh_server_id;\n\n    // Clean up Bokeh references\n    if (id != null) {\n      drop(id)\n    }\n\n    if (server_id !== undefined) {\n      // Clean up Bokeh references\n      const cmd_clean = \"from bokeh.io.state import curstate; print(curstate().uuid_to_server['\" + server_id + \"'].get_sessions()[0].document.roots[0]._id)\";\n      cell.notebook.kernel.execute(cmd_clean, {\n        iopub: {\n          output: function(msg) {\n            const id = msg.content.text.trim()\n            drop(id)\n          }\n        }\n      });\n      // Destroy server and session\n      const cmd_destroy = \"import bokeh.io.notebook as ion; ion.destroy_server('\" + server_id + \"')\";\n      cell.notebook.kernel.execute(cmd_destroy);\n    }\n  }\n\n  /**\n   * Handle when a new output is added\n   */\n  function handleAddOutput(event, handle) {\n    const output_area = handle.output_area;\n    const output = handle.output;\n\n    // limit handleAddOutput to display_data with EXEC_MIME_TYPE content only\n    if ((output.output_type != \"display_data\") || (!Object.prototype.hasOwnProperty.call(output.data, EXEC_MIME_TYPE))) {\n      return\n    }\n\n    const toinsert = output_area.element.find(\".\" + CLASS_NAME.split(' ')[0]);\n\n    if (output.metadata[EXEC_MIME_TYPE][\"id\"] !== undefined) {\n      toinsert[toinsert.length - 1].firstChild.textContent = output.data[JS_MIME_TYPE];\n      // store reference to embed id on output_area\n      output_area._bokeh_element_id = output.metadata[EXEC_MIME_TYPE][\"id\"];\n    }\n    if (output.metadata[EXEC_MIME_TYPE][\"server_id\"] !== undefined) {\n      const bk_div = document.createElement(\"div\");\n      bk_div.innerHTML = output.data[HTML_MIME_TYPE];\n      const script_attrs = bk_div.children[0].attributes;\n      for (let i = 0; i < script_attrs.length; i++) {\n        toinsert[toinsert.length - 1].firstChild.setAttribute(script_attrs[i].name, script_attrs[i].value);\n        toinsert[toinsert.length - 1].firstChild.textContent = bk_div.children[0].textContent\n      }\n      // store reference to server id on output_area\n      output_area._bokeh_server_id = output.metadata[EXEC_MIME_TYPE][\"server_id\"];\n    }\n  }\n\n  function register_renderer(events, OutputArea) {\n\n    function append_mime(data, metadata, element) {\n      // create a DOM node to render to\n      const toinsert = this.create_output_subarea(\n        metadata,\n        CLASS_NAME,\n        EXEC_MIME_TYPE\n      );\n      this.keyboard_manager.register_events(toinsert);\n      // Render to node\n      const props = {data: data, metadata: metadata[EXEC_MIME_TYPE]};\n      render(props, toinsert[toinsert.length - 1]);\n      element.append(toinsert);\n      return toinsert\n    }\n\n    /* Handle when an output is cleared or removed */\n    events.on('clear_output.CodeCell', handleClearOutput);\n    events.on('delete.Cell', handleClearOutput);\n\n    /* Handle when a new output is added */\n    events.on('output_added.OutputArea', handleAddOutput);\n\n    /**\n     * Register the mime type and append_mime function with output_area\n     */\n    OutputArea.prototype.register_mime_type(EXEC_MIME_TYPE, append_mime, {\n      /* Is output safe? */\n      safe: true,\n      /* Index of renderer in `output_area.display_order` */\n      index: 0\n    });\n  }\n\n  // register the mime type if in Jupyter Notebook environment and previously unregistered\n  if (root.Jupyter !== undefined) {\n    const events = require('base/js/events');\n    const OutputArea = require('notebook/js/outputarea').OutputArea;\n\n    if (OutputArea.prototype.mime_types().indexOf(EXEC_MIME_TYPE) == -1) {\n      register_renderer(events, OutputArea);\n    }\n  }\n  if (typeof (root._bokeh_timeout) === \"undefined\" || force === true) {\n    root._bokeh_timeout = Date.now() + 5000;\n    root._bokeh_failed_load = false;\n  }\n\n  const NB_LOAD_WARNING = {'data': {'text/html':\n     \"<div style='background-color: #fdd'>\\n\"+\n     \"<p>\\n\"+\n     \"BokehJS does not appear to have successfully loaded. If loading BokehJS from CDN, this \\n\"+\n     \"may be due to a slow or bad network connection. Possible fixes:\\n\"+\n     \"</p>\\n\"+\n     \"<ul>\\n\"+\n     \"<li>re-rerun `output_notebook()` to attempt to load from CDN again, or</li>\\n\"+\n     \"<li>use INLINE resources instead, as so:</li>\\n\"+\n     \"</ul>\\n\"+\n     \"<code>\\n\"+\n     \"from bokeh.resources import INLINE\\n\"+\n     \"output_notebook(resources=INLINE)\\n\"+\n     \"</code>\\n\"+\n     \"</div>\"}};\n\n  function display_loaded(error = null) {\n    const el = document.getElementById(null);\n    if (el != null) {\n      const html = (() => {\n        if (typeof root.Bokeh === \"undefined\") {\n          if (error == null) {\n            return \"BokehJS is loading ...\";\n          } else {\n            return \"BokehJS failed to load.\";\n          }\n        } else {\n          const prefix = `BokehJS ${root.Bokeh.version}`;\n          if (error == null) {\n            return `${prefix} successfully loaded.`;\n          } else {\n            return `${prefix} <b>encountered errors</b> while loading and may not function as expected.`;\n          }\n        }\n      })();\n      el.innerHTML = html;\n\n      if (error != null) {\n        const wrapper = document.createElement(\"div\");\n        wrapper.style.overflow = \"auto\";\n        wrapper.style.height = \"5em\";\n        wrapper.style.resize = \"vertical\";\n        const content = document.createElement(\"div\");\n        content.style.fontFamily = \"monospace\";\n        content.style.whiteSpace = \"pre-wrap\";\n        content.style.backgroundColor = \"rgb(255, 221, 221)\";\n        content.textContent = error.stack ?? error.toString();\n        wrapper.append(content);\n        el.append(wrapper);\n      }\n    } else if (Date.now() < root._bokeh_timeout) {\n      setTimeout(() => display_loaded(error), 100);\n    }\n  }\n\n  function run_callbacks() {\n    try {\n      root._bokeh_onload_callbacks.forEach(function(callback) {\n        if (callback != null)\n          callback();\n      });\n    } finally {\n      delete root._bokeh_onload_callbacks\n    }\n    console.debug(\"Bokeh: all callbacks have finished\");\n  }\n\n  function load_libs(css_urls, js_urls, callback) {\n    if (css_urls == null) css_urls = [];\n    if (js_urls == null) js_urls = [];\n\n    root._bokeh_onload_callbacks.push(callback);\n    if (root._bokeh_is_loading > 0) {\n      console.debug(\"Bokeh: BokehJS is being loaded, scheduling callback at\", now());\n      return null;\n    }\n    if (js_urls == null || js_urls.length === 0) {\n      run_callbacks();\n      return null;\n    }\n    console.debug(\"Bokeh: BokehJS not loaded, scheduling load and callback at\", now());\n    root._bokeh_is_loading = css_urls.length + js_urls.length;\n\n    function on_load() {\n      root._bokeh_is_loading--;\n      if (root._bokeh_is_loading === 0) {\n        console.debug(\"Bokeh: all BokehJS libraries/stylesheets loaded\");\n        run_callbacks()\n      }\n    }\n\n    function on_error(url) {\n      console.error(\"failed to load \" + url);\n    }\n\n    for (let i = 0; i < css_urls.length; i++) {\n      const url = css_urls[i];\n      const element = document.createElement(\"link\");\n      element.onload = on_load;\n      element.onerror = on_error.bind(null, url);\n      element.rel = \"stylesheet\";\n      element.type = \"text/css\";\n      element.href = url;\n      console.debug(\"Bokeh: injecting link tag for BokehJS stylesheet: \", url);\n      document.body.appendChild(element);\n    }\n\n    for (let i = 0; i < js_urls.length; i++) {\n      const url = js_urls[i];\n      const element = document.createElement('script');\n      element.onload = on_load;\n      element.onerror = on_error.bind(null, url);\n      element.async = false;\n      element.src = url;\n      console.debug(\"Bokeh: injecting script tag for BokehJS library: \", url);\n      document.head.appendChild(element);\n    }\n  };\n\n  function inject_raw_css(css) {\n    const element = document.createElement(\"style\");\n    element.appendChild(document.createTextNode(css));\n    document.body.appendChild(element);\n  }\n\n  const js_urls = [\"https://cdn.bokeh.org/bokeh/release/bokeh-3.7.2.min.js\", \"https://cdn.bokeh.org/bokeh/release/bokeh-gl-3.7.2.min.js\", \"https://cdn.bokeh.org/bokeh/release/bokeh-widgets-3.7.2.min.js\", \"https://cdn.bokeh.org/bokeh/release/bokeh-tables-3.7.2.min.js\", \"https://cdn.bokeh.org/bokeh/release/bokeh-mathjax-3.7.2.min.js\"];\n  const css_urls = [];\n\n  const inline_js = [    function(Bokeh) {\n      Bokeh.set_log_level(\"info\");\n    },\nfunction(Bokeh) {\n    }\n  ];\n\n  function run_inline_js() {\n    if (root.Bokeh !== undefined || force === true) {\n      try {\n            for (let i = 0; i < inline_js.length; i++) {\n      inline_js[i].call(root, root.Bokeh);\n    }\n\n      } catch (error) {throw error;\n      }} else if (Date.now() < root._bokeh_timeout) {\n      setTimeout(run_inline_js, 100);\n    } else if (!root._bokeh_failed_load) {\n      console.log(\"Bokeh: BokehJS failed to load within specified timeout.\");\n      root._bokeh_failed_load = true;\n    } else if (force !== true) {\n      const cell = $(document.getElementById(null)).parents('.cell').data().cell;\n      cell.output_area.append_execute_result(NB_LOAD_WARNING)\n    }\n  }\n\n  if (root._bokeh_is_loading === 0) {\n    console.debug(\"Bokeh: BokehJS loaded, going straight to plotting\");\n    run_inline_js();\n  } else {\n    load_libs(css_urls, js_urls, function() {\n      console.debug(\"Bokeh: BokehJS plotting callback run at\", now());\n      run_inline_js();\n    });\n  }\n}(window));",
      "application/vnd.bokehjs_load.v0+json": ""
     },
     "metadata": {},
     "output_type": "display_data"
    },
    {
     "data": {
      "text/html": [
       "\n",
       "  <div id=\"c16b68d5-a270-42e4-94b4-120778112ed0\" data-root-id=\"p1088\" style=\"display: contents;\"></div>\n"
      ]
     },
     "metadata": {},
     "output_type": "display_data"
    },
    {
     "data": {
      "application/javascript": "(function(root) {\n  function embed_document(root) {\n  const docs_json = {\"15571e05-1844-409a-b2fc-cf3e8b13de01\":{\"version\":\"3.7.2\",\"title\":\"Bokeh Application\",\"roots\":[{\"type\":\"object\",\"name\":\"Figure\",\"id\":\"p1088\",\"attributes\":{\"height\":350,\"x_range\":{\"type\":\"object\",\"name\":\"Range1d\",\"id\":\"p1098\",\"attributes\":{\"start\":-0.5}},\"y_range\":{\"type\":\"object\",\"name\":\"DataRange1d\",\"id\":\"p1090\"},\"x_scale\":{\"type\":\"object\",\"name\":\"LinearScale\",\"id\":\"p1099\"},\"y_scale\":{\"type\":\"object\",\"name\":\"LinearScale\",\"id\":\"p1100\"},\"title\":{\"type\":\"object\",\"name\":\"Title\",\"id\":\"p1091\",\"attributes\":{\"text\":\"Pie Chart\"}},\"renderers\":[{\"type\":\"object\",\"name\":\"GlyphRenderer\",\"id\":\"p1123\",\"attributes\":{\"data_source\":{\"type\":\"object\",\"name\":\"ColumnDataSource\",\"id\":\"p1114\",\"attributes\":{\"selected\":{\"type\":\"object\",\"name\":\"Selection\",\"id\":\"p1115\",\"attributes\":{\"indices\":[],\"line_indices\":[]}},\"selection_policy\":{\"type\":\"object\",\"name\":\"UnionRenderers\",\"id\":\"p1116\"},\"data\":{\"type\":\"map\",\"entries\":[[\"index\",{\"type\":\"ndarray\",\"array\":{\"type\":\"bytes\",\"data\":\"AQAAAAIAAAADAAAA\"},\"shape\":[3],\"dtype\":\"int32\",\"order\":\"little\"}],[\"cat\",{\"type\":\"ndarray\",\"array\":[\"Male\",\"Female\",\"Missing\"],\"shape\":[3],\"dtype\":\"object\",\"order\":\"little\"}],[\"n\",{\"type\":\"ndarray\",\"array\":{\"type\":\"bytes\",\"data\":\"mGIBAAVhAgArQgEA\"},\"shape\":[3],\"dtype\":\"int32\",\"order\":\"little\"}],[\"angle\",{\"type\":\"ndarray\",\"array\":{\"type\":\"bytes\",\"data\":\"j7jsUXm5+z+j3YnfAM8HQIxAEEByMPk/\"},\"shape\":[3],\"dtype\":\"float64\",\"order\":\"little\"}],[\"color\",{\"type\":\"ndarray\",\"array\":[\"#3182bd\",\"#6baed6\",\"#9ecae1\"],\"shape\":[3],\"dtype\":\"object\",\"order\":\"little\"}],[\"tot\",{\"type\":\"ndarray\",\"array\":{\"type\":\"bytes\",\"data\":\"yAUFAMgFBQDIBQUA\"},\"shape\":[3],\"dtype\":\"int32\",\"order\":\"little\"}]]}}},\"view\":{\"type\":\"object\",\"name\":\"CDSView\",\"id\":\"p1124\",\"attributes\":{\"filter\":{\"type\":\"object\",\"name\":\"AllIndices\",\"id\":\"p1125\"}}},\"glyph\":{\"type\":\"object\",\"name\":\"Wedge\",\"id\":\"p1120\",\"attributes\":{\"x\":{\"type\":\"value\",\"value\":0},\"y\":{\"type\":\"value\",\"value\":1},\"radius\":{\"type\":\"value\",\"value\":0.4},\"start_angle\":{\"type\":\"expr\",\"expr\":{\"type\":\"object\",\"name\":\"CumSum\",\"id\":\"p1112\",\"attributes\":{\"field\":\"angle\",\"include_zero\":true}}},\"end_angle\":{\"type\":\"expr\",\"expr\":{\"type\":\"object\",\"name\":\"CumSum\",\"id\":\"p1113\",\"attributes\":{\"field\":\"angle\"}}},\"line_color\":{\"type\":\"value\",\"value\":\"white\"},\"fill_color\":{\"type\":\"field\",\"field\":\"color\"}}},\"nonselection_glyph\":{\"type\":\"object\",\"name\":\"Wedge\",\"id\":\"p1121\",\"attributes\":{\"x\":{\"type\":\"value\",\"value\":0},\"y\":{\"type\":\"value\",\"value\":1},\"radius\":{\"type\":\"value\",\"value\":0.4},\"start_angle\":{\"type\":\"expr\",\"expr\":{\"id\":\"p1112\"}},\"end_angle\":{\"type\":\"expr\",\"expr\":{\"id\":\"p1113\"}},\"line_color\":{\"type\":\"value\",\"value\":\"white\"},\"line_alpha\":{\"type\":\"value\",\"value\":0.1},\"fill_color\":{\"type\":\"field\",\"field\":\"color\"},\"fill_alpha\":{\"type\":\"value\",\"value\":0.1},\"hatch_alpha\":{\"type\":\"value\",\"value\":0.1}}},\"muted_glyph\":{\"type\":\"object\",\"name\":\"Wedge\",\"id\":\"p1122\",\"attributes\":{\"x\":{\"type\":\"value\",\"value\":0},\"y\":{\"type\":\"value\",\"value\":1},\"radius\":{\"type\":\"value\",\"value\":0.4},\"start_angle\":{\"type\":\"expr\",\"expr\":{\"id\":\"p1112\"}},\"end_angle\":{\"type\":\"expr\",\"expr\":{\"id\":\"p1113\"}},\"line_color\":{\"type\":\"value\",\"value\":\"white\"},\"line_alpha\":{\"type\":\"value\",\"value\":0.2},\"fill_color\":{\"type\":\"field\",\"field\":\"color\"},\"fill_alpha\":{\"type\":\"value\",\"value\":0.2},\"hatch_alpha\":{\"type\":\"value\",\"value\":0.2}}}}}],\"toolbar\":{\"type\":\"object\",\"name\":\"Toolbar\",\"id\":\"p1097\",\"attributes\":{\"tools\":[{\"type\":\"object\",\"name\":\"HoverTool\",\"id\":\"p1111\",\"attributes\":{\"renderers\":\"auto\",\"tooltips\":\"@cat: @n / @tot\"}}]}},\"toolbar_location\":null,\"left\":[{\"type\":\"object\",\"name\":\"LinearAxis\",\"id\":\"p1106\",\"attributes\":{\"visible\":false,\"ticker\":{\"type\":\"object\",\"name\":\"BasicTicker\",\"id\":\"p1107\",\"attributes\":{\"mantissas\":[1,2,5]}},\"formatter\":{\"type\":\"object\",\"name\":\"BasicTickFormatter\",\"id\":\"p1108\"},\"major_label_policy\":{\"type\":\"object\",\"name\":\"AllLabels\",\"id\":\"p1109\"}}}],\"below\":[{\"type\":\"object\",\"name\":\"LinearAxis\",\"id\":\"p1101\",\"attributes\":{\"visible\":false,\"ticker\":{\"type\":\"object\",\"name\":\"BasicTicker\",\"id\":\"p1102\",\"attributes\":{\"mantissas\":[1,2,5]}},\"formatter\":{\"type\":\"object\",\"name\":\"BasicTickFormatter\",\"id\":\"p1103\"},\"major_label_policy\":{\"type\":\"object\",\"name\":\"AllLabels\",\"id\":\"p1104\"}}}],\"center\":[{\"type\":\"object\",\"name\":\"Grid\",\"id\":\"p1105\",\"attributes\":{\"axis\":{\"id\":\"p1101\"},\"grid_line_color\":null}},{\"type\":\"object\",\"name\":\"Grid\",\"id\":\"p1110\",\"attributes\":{\"dimension\":1,\"axis\":{\"id\":\"p1106\"},\"grid_line_color\":null}},{\"type\":\"object\",\"name\":\"Legend\",\"id\":\"p1126\",\"attributes\":{\"items\":[{\"type\":\"object\",\"name\":\"LegendItem\",\"id\":\"p1127\",\"attributes\":{\"label\":{\"type\":\"field\",\"field\":\"cat\"},\"renderers\":[{\"id\":\"p1123\"}]}}]}}]}}]}};\n  const render_items = [{\"docid\":\"15571e05-1844-409a-b2fc-cf3e8b13de01\",\"roots\":{\"p1088\":\"c16b68d5-a270-42e4-94b4-120778112ed0\"},\"root_ids\":[\"p1088\"]}];\n  void root.Bokeh.embed.embed_items_notebook(docs_json, render_items);\n  }\n  if (root.Bokeh !== undefined) {\n    embed_document(root);\n  } else {\n    let attempts = 0;\n    const timer = setInterval(function(root) {\n      if (root.Bokeh !== undefined) {\n        clearInterval(timer);\n        embed_document(root);\n      } else {\n        attempts++;\n        if (attempts > 100) {\n          clearInterval(timer);\n          console.log(\"Bokeh: ERROR: Unable to run BokehJS code because BokehJS library is missing\");\n        }\n      }\n    }, 10, root)\n  }\n})(window);",
      "application/vnd.bokehjs_exec.v0+json": ""
     },
     "metadata": {
      "application/vnd.bokehjs_exec.v0+json": {
       "id": "p1088"
      }
     },
     "output_type": "display_data"
    }
   ],
   "source": [
    "output_notebook(hide_banner=True)\n",
    "\n",
    "df = md.get_freeze_profile()\n",
    "df = df[df[\"demo_grp\"].isin([\"sex\"])]\n",
    "df2 = df[[\"cat\", \"n\"]]\n",
    "df2[\"angle\"] = df2[\"n\"]/ df2[\"n\"].sum() * 2*pi\n",
    "df2['color'] = Category20c[df2.__len__()]\n",
    "df2[\"tot\"] = df2[\"n\"].sum()\n",
    "df2\n",
    "\n",
    "p = figure(height=350, title=\"Pie Chart\", toolbar_location=None,\n",
    "           tools=\"hover\", tooltips=\"@cat: @n / @tot\", x_range=(-0.5, 1.0))\n",
    "\n",
    "p.wedge(x=0, y=1, radius=0.4,\n",
    "        start_angle=cumsum('angle', include_zero=True), end_angle=cumsum('angle'),\n",
    "        line_color=\"white\", fill_color='color', legend_field='cat', source=df2)\n",
    "\n",
    "p.axis.axis_label = None\n",
    "p.axis.visible = False\n",
    "p.grid.grid_line_color = None\n",
    "show(p)\n"
   ]
  },
  {
   "cell_type": "code",
   "execution_count": 5,
   "id": "4e896f1b",
   "metadata": {},
   "outputs": [
    {
     "data": {
      "application/javascript": "'use strict';\n(function(root) {\n  function now() {\n    return new Date();\n  }\n\n  const force = true;\n\n  if (typeof root._bokeh_onload_callbacks === \"undefined\" || force === true) {\n    root._bokeh_onload_callbacks = [];\n    root._bokeh_is_loading = undefined;\n  }\n\nconst JS_MIME_TYPE = 'application/javascript';\n  const HTML_MIME_TYPE = 'text/html';\n  const EXEC_MIME_TYPE = 'application/vnd.bokehjs_exec.v0+json';\n  const CLASS_NAME = 'output_bokeh rendered_html';\n\n  /**\n   * Render data to the DOM node\n   */\n  function render(props, node) {\n    const script = document.createElement(\"script\");\n    node.appendChild(script);\n  }\n\n  /**\n   * Handle when an output is cleared or removed\n   */\n  function handleClearOutput(event, handle) {\n    function drop(id) {\n      const view = Bokeh.index.get_by_id(id)\n      if (view != null) {\n        view.model.document.clear()\n        Bokeh.index.delete(view)\n      }\n    }\n\n    const cell = handle.cell;\n\n    const id = cell.output_area._bokeh_element_id;\n    const server_id = cell.output_area._bokeh_server_id;\n\n    // Clean up Bokeh references\n    if (id != null) {\n      drop(id)\n    }\n\n    if (server_id !== undefined) {\n      // Clean up Bokeh references\n      const cmd_clean = \"from bokeh.io.state import curstate; print(curstate().uuid_to_server['\" + server_id + \"'].get_sessions()[0].document.roots[0]._id)\";\n      cell.notebook.kernel.execute(cmd_clean, {\n        iopub: {\n          output: function(msg) {\n            const id = msg.content.text.trim()\n            drop(id)\n          }\n        }\n      });\n      // Destroy server and session\n      const cmd_destroy = \"import bokeh.io.notebook as ion; ion.destroy_server('\" + server_id + \"')\";\n      cell.notebook.kernel.execute(cmd_destroy);\n    }\n  }\n\n  /**\n   * Handle when a new output is added\n   */\n  function handleAddOutput(event, handle) {\n    const output_area = handle.output_area;\n    const output = handle.output;\n\n    // limit handleAddOutput to display_data with EXEC_MIME_TYPE content only\n    if ((output.output_type != \"display_data\") || (!Object.prototype.hasOwnProperty.call(output.data, EXEC_MIME_TYPE))) {\n      return\n    }\n\n    const toinsert = output_area.element.find(\".\" + CLASS_NAME.split(' ')[0]);\n\n    if (output.metadata[EXEC_MIME_TYPE][\"id\"] !== undefined) {\n      toinsert[toinsert.length - 1].firstChild.textContent = output.data[JS_MIME_TYPE];\n      // store reference to embed id on output_area\n      output_area._bokeh_element_id = output.metadata[EXEC_MIME_TYPE][\"id\"];\n    }\n    if (output.metadata[EXEC_MIME_TYPE][\"server_id\"] !== undefined) {\n      const bk_div = document.createElement(\"div\");\n      bk_div.innerHTML = output.data[HTML_MIME_TYPE];\n      const script_attrs = bk_div.children[0].attributes;\n      for (let i = 0; i < script_attrs.length; i++) {\n        toinsert[toinsert.length - 1].firstChild.setAttribute(script_attrs[i].name, script_attrs[i].value);\n        toinsert[toinsert.length - 1].firstChild.textContent = bk_div.children[0].textContent\n      }\n      // store reference to server id on output_area\n      output_area._bokeh_server_id = output.metadata[EXEC_MIME_TYPE][\"server_id\"];\n    }\n  }\n\n  function register_renderer(events, OutputArea) {\n\n    function append_mime(data, metadata, element) {\n      // create a DOM node to render to\n      const toinsert = this.create_output_subarea(\n        metadata,\n        CLASS_NAME,\n        EXEC_MIME_TYPE\n      );\n      this.keyboard_manager.register_events(toinsert);\n      // Render to node\n      const props = {data: data, metadata: metadata[EXEC_MIME_TYPE]};\n      render(props, toinsert[toinsert.length - 1]);\n      element.append(toinsert);\n      return toinsert\n    }\n\n    /* Handle when an output is cleared or removed */\n    events.on('clear_output.CodeCell', handleClearOutput);\n    events.on('delete.Cell', handleClearOutput);\n\n    /* Handle when a new output is added */\n    events.on('output_added.OutputArea', handleAddOutput);\n\n    /**\n     * Register the mime type and append_mime function with output_area\n     */\n    OutputArea.prototype.register_mime_type(EXEC_MIME_TYPE, append_mime, {\n      /* Is output safe? */\n      safe: true,\n      /* Index of renderer in `output_area.display_order` */\n      index: 0\n    });\n  }\n\n  // register the mime type if in Jupyter Notebook environment and previously unregistered\n  if (root.Jupyter !== undefined) {\n    const events = require('base/js/events');\n    const OutputArea = require('notebook/js/outputarea').OutputArea;\n\n    if (OutputArea.prototype.mime_types().indexOf(EXEC_MIME_TYPE) == -1) {\n      register_renderer(events, OutputArea);\n    }\n  }\n  if (typeof (root._bokeh_timeout) === \"undefined\" || force === true) {\n    root._bokeh_timeout = Date.now() + 5000;\n    root._bokeh_failed_load = false;\n  }\n\n  const NB_LOAD_WARNING = {'data': {'text/html':\n     \"<div style='background-color: #fdd'>\\n\"+\n     \"<p>\\n\"+\n     \"BokehJS does not appear to have successfully loaded. If loading BokehJS from CDN, this \\n\"+\n     \"may be due to a slow or bad network connection. Possible fixes:\\n\"+\n     \"</p>\\n\"+\n     \"<ul>\\n\"+\n     \"<li>re-rerun `output_notebook()` to attempt to load from CDN again, or</li>\\n\"+\n     \"<li>use INLINE resources instead, as so:</li>\\n\"+\n     \"</ul>\\n\"+\n     \"<code>\\n\"+\n     \"from bokeh.resources import INLINE\\n\"+\n     \"output_notebook(resources=INLINE)\\n\"+\n     \"</code>\\n\"+\n     \"</div>\"}};\n\n  function display_loaded(error = null) {\n    const el = document.getElementById(null);\n    if (el != null) {\n      const html = (() => {\n        if (typeof root.Bokeh === \"undefined\") {\n          if (error == null) {\n            return \"BokehJS is loading ...\";\n          } else {\n            return \"BokehJS failed to load.\";\n          }\n        } else {\n          const prefix = `BokehJS ${root.Bokeh.version}`;\n          if (error == null) {\n            return `${prefix} successfully loaded.`;\n          } else {\n            return `${prefix} <b>encountered errors</b> while loading and may not function as expected.`;\n          }\n        }\n      })();\n      el.innerHTML = html;\n\n      if (error != null) {\n        const wrapper = document.createElement(\"div\");\n        wrapper.style.overflow = \"auto\";\n        wrapper.style.height = \"5em\";\n        wrapper.style.resize = \"vertical\";\n        const content = document.createElement(\"div\");\n        content.style.fontFamily = \"monospace\";\n        content.style.whiteSpace = \"pre-wrap\";\n        content.style.backgroundColor = \"rgb(255, 221, 221)\";\n        content.textContent = error.stack ?? error.toString();\n        wrapper.append(content);\n        el.append(wrapper);\n      }\n    } else if (Date.now() < root._bokeh_timeout) {\n      setTimeout(() => display_loaded(error), 100);\n    }\n  }\n\n  function run_callbacks() {\n    try {\n      root._bokeh_onload_callbacks.forEach(function(callback) {\n        if (callback != null)\n          callback();\n      });\n    } finally {\n      delete root._bokeh_onload_callbacks\n    }\n    console.debug(\"Bokeh: all callbacks have finished\");\n  }\n\n  function load_libs(css_urls, js_urls, callback) {\n    if (css_urls == null) css_urls = [];\n    if (js_urls == null) js_urls = [];\n\n    root._bokeh_onload_callbacks.push(callback);\n    if (root._bokeh_is_loading > 0) {\n      console.debug(\"Bokeh: BokehJS is being loaded, scheduling callback at\", now());\n      return null;\n    }\n    if (js_urls == null || js_urls.length === 0) {\n      run_callbacks();\n      return null;\n    }\n    console.debug(\"Bokeh: BokehJS not loaded, scheduling load and callback at\", now());\n    root._bokeh_is_loading = css_urls.length + js_urls.length;\n\n    function on_load() {\n      root._bokeh_is_loading--;\n      if (root._bokeh_is_loading === 0) {\n        console.debug(\"Bokeh: all BokehJS libraries/stylesheets loaded\");\n        run_callbacks()\n      }\n    }\n\n    function on_error(url) {\n      console.error(\"failed to load \" + url);\n    }\n\n    for (let i = 0; i < css_urls.length; i++) {\n      const url = css_urls[i];\n      const element = document.createElement(\"link\");\n      element.onload = on_load;\n      element.onerror = on_error.bind(null, url);\n      element.rel = \"stylesheet\";\n      element.type = \"text/css\";\n      element.href = url;\n      console.debug(\"Bokeh: injecting link tag for BokehJS stylesheet: \", url);\n      document.body.appendChild(element);\n    }\n\n    for (let i = 0; i < js_urls.length; i++) {\n      const url = js_urls[i];\n      const element = document.createElement('script');\n      element.onload = on_load;\n      element.onerror = on_error.bind(null, url);\n      element.async = false;\n      element.src = url;\n      console.debug(\"Bokeh: injecting script tag for BokehJS library: \", url);\n      document.head.appendChild(element);\n    }\n  };\n\n  function inject_raw_css(css) {\n    const element = document.createElement(\"style\");\n    element.appendChild(document.createTextNode(css));\n    document.body.appendChild(element);\n  }\n\n  const js_urls = [\"https://cdn.bokeh.org/bokeh/release/bokeh-3.7.2.min.js\", \"https://cdn.bokeh.org/bokeh/release/bokeh-gl-3.7.2.min.js\", \"https://cdn.bokeh.org/bokeh/release/bokeh-widgets-3.7.2.min.js\", \"https://cdn.bokeh.org/bokeh/release/bokeh-tables-3.7.2.min.js\", \"https://cdn.bokeh.org/bokeh/release/bokeh-mathjax-3.7.2.min.js\"];\n  const css_urls = [];\n\n  const inline_js = [    function(Bokeh) {\n      Bokeh.set_log_level(\"info\");\n    },\nfunction(Bokeh) {\n    }\n  ];\n\n  function run_inline_js() {\n    if (root.Bokeh !== undefined || force === true) {\n      try {\n            for (let i = 0; i < inline_js.length; i++) {\n      inline_js[i].call(root, root.Bokeh);\n    }\n\n      } catch (error) {throw error;\n      }} else if (Date.now() < root._bokeh_timeout) {\n      setTimeout(run_inline_js, 100);\n    } else if (!root._bokeh_failed_load) {\n      console.log(\"Bokeh: BokehJS failed to load within specified timeout.\");\n      root._bokeh_failed_load = true;\n    } else if (force !== true) {\n      const cell = $(document.getElementById(null)).parents('.cell').data().cell;\n      cell.output_area.append_execute_result(NB_LOAD_WARNING)\n    }\n  }\n\n  if (root._bokeh_is_loading === 0) {\n    console.debug(\"Bokeh: BokehJS loaded, going straight to plotting\");\n    run_inline_js();\n  } else {\n    load_libs(css_urls, js_urls, function() {\n      console.debug(\"Bokeh: BokehJS plotting callback run at\", now());\n      run_inline_js();\n    });\n  }\n}(window));",
      "application/vnd.bokehjs_load.v0+json": ""
     },
     "metadata": {},
     "output_type": "display_data"
    },
    {
     "data": {
      "text/html": [
       "\n",
       "  <div id=\"a379c645-2562-49a2-a782-ca8983d74fa5\" data-root-id=\"p1132\" style=\"display: contents;\"></div>\n"
      ]
     },
     "metadata": {},
     "output_type": "display_data"
    },
    {
     "data": {
      "application/javascript": "(function(root) {\n  function embed_document(root) {\n  const docs_json = {\"3b8d133f-c43f-4da6-95c3-4f852a3ca2b6\":{\"version\":\"3.7.2\",\"title\":\"Bokeh Application\",\"roots\":[{\"type\":\"object\",\"name\":\"Figure\",\"id\":\"p1132\",\"attributes\":{\"height\":350,\"x_range\":{\"type\":\"object\",\"name\":\"Range1d\",\"id\":\"p1142\",\"attributes\":{\"start\":-0.5}},\"y_range\":{\"type\":\"object\",\"name\":\"DataRange1d\",\"id\":\"p1134\"},\"x_scale\":{\"type\":\"object\",\"name\":\"LinearScale\",\"id\":\"p1143\"},\"y_scale\":{\"type\":\"object\",\"name\":\"LinearScale\",\"id\":\"p1144\"},\"title\":{\"type\":\"object\",\"name\":\"Title\",\"id\":\"p1135\",\"attributes\":{\"text\":\"Pie Chart\"}},\"renderers\":[{\"type\":\"object\",\"name\":\"GlyphRenderer\",\"id\":\"p1167\",\"attributes\":{\"data_source\":{\"type\":\"object\",\"name\":\"ColumnDataSource\",\"id\":\"p1158\",\"attributes\":{\"selected\":{\"type\":\"object\",\"name\":\"Selection\",\"id\":\"p1159\",\"attributes\":{\"indices\":[],\"line_indices\":[]}},\"selection_policy\":{\"type\":\"object\",\"name\":\"UnionRenderers\",\"id\":\"p1160\"},\"data\":{\"type\":\"map\",\"entries\":[[\"index\",{\"type\":\"ndarray\",\"array\":{\"type\":\"bytes\",\"data\":\"BAAAAAUAAAAGAAAABwAAAAgAAAAJAAAACgAAAAsAAAAMAAAADQAAAA==\"},\"shape\":[10],\"dtype\":\"int32\",\"order\":\"little\"}],[\"cat\",{\"type\":\"ndarray\",\"array\":[\"Pre-1935\",\"1936-1945\",\"1946-1955\",\"1956-1965\",\"1966-1975\",\"1976-1985\",\"1986-1995\",\"1996-2005\",\"2006-2015\",\"Missing\"],\"shape\":[10],\"dtype\":\"object\",\"order\":\"little\"}],[\"n\",{\"type\":\"ndarray\",\"array\":{\"type\":\"bytes\",\"data\":\"Wx0AAOg/AADrowAAKb8AANLEAAAldwAAwpIAAFUtAABLNAAAGBUBAA==\"},\"shape\":[10],\"dtype\":\"int32\",\"order\":\"little\"}],[\"angle\",{\"type\":\"ndarray\",\"array\":{\"type\":\"bytes\",\"data\":\"C7/eRZVcwj/yahdGifzTPyv2Nynloek/E00VZXHk7T/EjzknB8fuP2IsCzOLoeI/bYnqbvLy5j+EdOro2VrMP+Z+4YC9WtA/EA+7DUCq9T8=\"},\"shape\":[10],\"dtype\":\"float64\",\"order\":\"little\"}],[\"color\",{\"type\":\"ndarray\",\"array\":[\"#3182bd\",\"#6baed6\",\"#9ecae1\",\"#c6dbef\",\"#e6550d\",\"#fd8d3c\",\"#fdae6b\",\"#fdd0a2\",\"#31a354\",\"#74c476\"],\"shape\":[10],\"dtype\":\"object\",\"order\":\"little\"}],[\"tot\",{\"type\":\"ndarray\",\"array\":{\"type\":\"bytes\",\"data\":\"yAUFAMgFBQDIBQUAyAUFAMgFBQDIBQUAyAUFAMgFBQDIBQUAyAUFAA==\"},\"shape\":[10],\"dtype\":\"int32\",\"order\":\"little\"}]]}}},\"view\":{\"type\":\"object\",\"name\":\"CDSView\",\"id\":\"p1168\",\"attributes\":{\"filter\":{\"type\":\"object\",\"name\":\"AllIndices\",\"id\":\"p1169\"}}},\"glyph\":{\"type\":\"object\",\"name\":\"Wedge\",\"id\":\"p1164\",\"attributes\":{\"x\":{\"type\":\"value\",\"value\":0},\"y\":{\"type\":\"value\",\"value\":1},\"radius\":{\"type\":\"value\",\"value\":0.4},\"start_angle\":{\"type\":\"expr\",\"expr\":{\"type\":\"object\",\"name\":\"CumSum\",\"id\":\"p1156\",\"attributes\":{\"field\":\"angle\",\"include_zero\":true}}},\"end_angle\":{\"type\":\"expr\",\"expr\":{\"type\":\"object\",\"name\":\"CumSum\",\"id\":\"p1157\",\"attributes\":{\"field\":\"angle\"}}},\"line_color\":{\"type\":\"value\",\"value\":\"white\"},\"fill_color\":{\"type\":\"field\",\"field\":\"color\"}}},\"nonselection_glyph\":{\"type\":\"object\",\"name\":\"Wedge\",\"id\":\"p1165\",\"attributes\":{\"x\":{\"type\":\"value\",\"value\":0},\"y\":{\"type\":\"value\",\"value\":1},\"radius\":{\"type\":\"value\",\"value\":0.4},\"start_angle\":{\"type\":\"expr\",\"expr\":{\"id\":\"p1156\"}},\"end_angle\":{\"type\":\"expr\",\"expr\":{\"id\":\"p1157\"}},\"line_color\":{\"type\":\"value\",\"value\":\"white\"},\"line_alpha\":{\"type\":\"value\",\"value\":0.1},\"fill_color\":{\"type\":\"field\",\"field\":\"color\"},\"fill_alpha\":{\"type\":\"value\",\"value\":0.1},\"hatch_alpha\":{\"type\":\"value\",\"value\":0.1}}},\"muted_glyph\":{\"type\":\"object\",\"name\":\"Wedge\",\"id\":\"p1166\",\"attributes\":{\"x\":{\"type\":\"value\",\"value\":0},\"y\":{\"type\":\"value\",\"value\":1},\"radius\":{\"type\":\"value\",\"value\":0.4},\"start_angle\":{\"type\":\"expr\",\"expr\":{\"id\":\"p1156\"}},\"end_angle\":{\"type\":\"expr\",\"expr\":{\"id\":\"p1157\"}},\"line_color\":{\"type\":\"value\",\"value\":\"white\"},\"line_alpha\":{\"type\":\"value\",\"value\":0.2},\"fill_color\":{\"type\":\"field\",\"field\":\"color\"},\"fill_alpha\":{\"type\":\"value\",\"value\":0.2},\"hatch_alpha\":{\"type\":\"value\",\"value\":0.2}}}}}],\"toolbar\":{\"type\":\"object\",\"name\":\"Toolbar\",\"id\":\"p1141\",\"attributes\":{\"tools\":[{\"type\":\"object\",\"name\":\"HoverTool\",\"id\":\"p1155\",\"attributes\":{\"renderers\":\"auto\",\"tooltips\":\"@cat: @n / @tot\"}}]}},\"toolbar_location\":null,\"left\":[{\"type\":\"object\",\"name\":\"LinearAxis\",\"id\":\"p1150\",\"attributes\":{\"visible\":false,\"ticker\":{\"type\":\"object\",\"name\":\"BasicTicker\",\"id\":\"p1151\",\"attributes\":{\"mantissas\":[1,2,5]}},\"formatter\":{\"type\":\"object\",\"name\":\"BasicTickFormatter\",\"id\":\"p1152\"},\"major_label_policy\":{\"type\":\"object\",\"name\":\"AllLabels\",\"id\":\"p1153\"}}}],\"below\":[{\"type\":\"object\",\"name\":\"LinearAxis\",\"id\":\"p1145\",\"attributes\":{\"visible\":false,\"ticker\":{\"type\":\"object\",\"name\":\"BasicTicker\",\"id\":\"p1146\",\"attributes\":{\"mantissas\":[1,2,5]}},\"formatter\":{\"type\":\"object\",\"name\":\"BasicTickFormatter\",\"id\":\"p1147\"},\"major_label_policy\":{\"type\":\"object\",\"name\":\"AllLabels\",\"id\":\"p1148\"}}}],\"center\":[{\"type\":\"object\",\"name\":\"Grid\",\"id\":\"p1149\",\"attributes\":{\"axis\":{\"id\":\"p1145\"},\"grid_line_color\":null}},{\"type\":\"object\",\"name\":\"Grid\",\"id\":\"p1154\",\"attributes\":{\"dimension\":1,\"axis\":{\"id\":\"p1150\"},\"grid_line_color\":null}},{\"type\":\"object\",\"name\":\"Legend\",\"id\":\"p1170\",\"attributes\":{\"items\":[{\"type\":\"object\",\"name\":\"LegendItem\",\"id\":\"p1171\",\"attributes\":{\"label\":{\"type\":\"field\",\"field\":\"cat\"},\"renderers\":[{\"id\":\"p1167\"}]}}]}}]}}]}};\n  const render_items = [{\"docid\":\"3b8d133f-c43f-4da6-95c3-4f852a3ca2b6\",\"roots\":{\"p1132\":\"a379c645-2562-49a2-a782-ca8983d74fa5\"},\"root_ids\":[\"p1132\"]}];\n  void root.Bokeh.embed.embed_items_notebook(docs_json, render_items);\n  }\n  if (root.Bokeh !== undefined) {\n    embed_document(root);\n  } else {\n    let attempts = 0;\n    const timer = setInterval(function(root) {\n      if (root.Bokeh !== undefined) {\n        clearInterval(timer);\n        embed_document(root);\n      } else {\n        attempts++;\n        if (attempts > 100) {\n          clearInterval(timer);\n          console.log(\"Bokeh: ERROR: Unable to run BokehJS code because BokehJS library is missing\");\n        }\n      }\n    }, 10, root)\n  }\n})(window);",
      "application/vnd.bokehjs_exec.v0+json": ""
     },
     "metadata": {
      "application/vnd.bokehjs_exec.v0+json": {
       "id": "p1132"
      }
     },
     "output_type": "display_data"
    }
   ],
   "source": [
    "output_notebook(hide_banner=True)\n",
    "\n",
    "df = md.get_freeze_profile()\n",
    "df = df[df[\"demo_grp\"].isin([\"year_of_birth\"])]\n",
    "df2 = df[[\"cat\", \"n\"]]\n",
    "df2[\"angle\"] = df2[\"n\"]/ df2[\"n\"].sum() * 2*pi\n",
    "df2['color'] = Category20c[df2.__len__()]\n",
    "df2[\"tot\"] = df2[\"n\"].sum()\n",
    "df2\n",
    "\n",
    "p = figure(height=350, title=\"Pie Chart\", toolbar_location=None,\n",
    "           tools=\"hover\", tooltips=\"@cat: @n / @tot\", x_range=(-0.5, 1.0))\n",
    "\n",
    "p.wedge(x=0, y=1, radius=0.4,\n",
    "        start_angle=cumsum('angle', include_zero=True), end_angle=cumsum('angle'),\n",
    "        line_color=\"white\", fill_color='color', legend_field='cat', source=df2)\n",
    "\n",
    "p.axis.axis_label = None\n",
    "p.axis.visible = False\n",
    "p.grid.grid_line_color = None\n",
    "show(p)\n"
   ]
  },
  {
   "cell_type": "code",
   "execution_count": 6,
   "id": "920418d7",
   "metadata": {},
   "outputs": [
    {
     "data": {
      "text/plain": [
       "' <a href=\"https://api.test.datacite.org/dois/10.83126/ukllc-dataset-00067-01/activities\" rel=\"noopener noreferrer\" target=\"_blank\">10.83126/ukllc-dataset-00067-01/activities</a>'"
      ]
     },
     "execution_count": 6,
     "metadata": {},
     "output_type": "execute_result"
    }
   ],
   "source": [
    "x = \"10.83126/ukllc-dataset-00067-01\"\n",
    "md.make_hlink(\"https://api.test.datacite.org/dois/{}/activities\".format(x), x + \"/activities\")"
   ]
  },
  {
   "cell_type": "code",
   "execution_count": 7,
   "id": "dbbafde7",
   "metadata": {},
   "outputs": [
    {
     "data": {
      "text/plain": [
       "' <a href=\"https://doi.org/10.83126/ukllc-dataset-00067-01\" rel=\"noopener noreferrer\" target=\"_blank\">10.83126/ukllc-dataset-00067-01</a>'"
      ]
     },
     "execution_count": 7,
     "metadata": {},
     "output_type": "execute_result"
    }
   ],
   "source": [
    "md.make_hlink(\"https://doi.org/\" + x, x)"
   ]
  },
  {
   "cell_type": "code",
   "execution_count": 8,
   "id": "21efd500",
   "metadata": {},
   "outputs": [],
   "source": [
    "df = md.get_md_api_dsvs()"
   ]
  },
  {
   "cell_type": "code",
   "execution_count": 9,
   "id": "4cf4fa52",
   "metadata": {},
   "outputs": [],
   "source": [
    "df2 = md.prep_dsvs_for_gb_pages()"
   ]
  },
  {
   "cell_type": "code",
   "execution_count": 10,
   "id": "05f69bb4",
   "metadata": {},
   "outputs": [
    {
     "data": {
      "application/vnd.microsoft.datawrangler.viewer.v0+json": {
       "columns": [
        {
         "name": "index",
         "rawType": "int64",
         "type": "integer"
        },
        {
         "name": "source",
         "rawType": "object",
         "type": "string"
        },
        {
         "name": "source_table",
         "rawType": "object",
         "type": "string"
        },
        {
         "name": "version_num",
         "rawType": "int64",
         "type": "integer"
        },
        {
         "name": "table",
         "rawType": "object",
         "type": "string"
        },
        {
         "name": "version_date",
         "rawType": "float64",
         "type": "float"
        },
        {
         "name": "table_name",
         "rawType": "object",
         "type": "string"
        },
        {
         "name": "short_desc",
         "rawType": "object",
         "type": "string"
        },
        {
         "name": "long_desc",
         "rawType": "object",
         "type": "string"
        },
        {
         "name": "collection_start",
         "rawType": "object",
         "type": "string"
        },
        {
         "name": "collection_end",
         "rawType": "object",
         "type": "string"
        },
        {
         "name": "topic_tags",
         "rawType": "object",
         "type": "string"
        },
        {
         "name": "source_name",
         "rawType": "object",
         "type": "string"
        },
        {
         "name": "research_grouping",
         "rawType": "object",
         "type": "string"
        },
        {
         "name": "participants_invited",
         "rawType": "object",
         "type": "string"
        },
        {
         "name": "participants_included",
         "rawType": "object",
         "type": "string"
        },
        {
         "name": "num_rows",
         "rawType": "float64",
         "type": "float"
        },
        {
         "name": "num_columns",
         "rawType": "float64",
         "type": "float"
        },
        {
         "name": "Owner",
         "rawType": "object",
         "type": "string"
        },
        {
         "name": "geographic_coverage_Nations",
         "rawType": "object",
         "type": "string"
        },
        {
         "name": "geographic_coverage_Regions",
         "rawType": "object",
         "type": "string"
        }
       ],
       "ref": "c91f1b9b-eba7-4441-9e7e-03cd7b9bd2b5",
       "rows": [
        [
         "169",
         "GENSCOT",
         "GENSCOT_SMOKING",
         "2",
         "SMOKING",
         "20220302.0",
         "Smoking",
         "",
         "Socio-demographic and clinical data were obtained from around 24,000 volunteers across Scotland. Volunteers were aged between 18-98 and were assessed via clinic visits and questionnaires.",
         "01/2006",
         "05/2011",
         "",
         "Generation Scotland: Scottish Family Health Study (GS:SFHS)",
         "Centre for Medical Informatics, Usher Institute, University of Edinburgh",
         "21552",
         "20944",
         "21552.0",
         "12.0",
         "University of Edinburgh",
         "Scotland",
         "Nationwide"
        ]
       ],
       "shape": {
        "columns": 20,
        "rows": 1
       }
      },
      "text/html": [
       "<div>\n",
       "<style scoped>\n",
       "    .dataframe tbody tr th:only-of-type {\n",
       "        vertical-align: middle;\n",
       "    }\n",
       "\n",
       "    .dataframe tbody tr th {\n",
       "        vertical-align: top;\n",
       "    }\n",
       "\n",
       "    .dataframe thead th {\n",
       "        text-align: right;\n",
       "    }\n",
       "</style>\n",
       "<table border=\"1\" class=\"dataframe\">\n",
       "  <thead>\n",
       "    <tr style=\"text-align: right;\">\n",
       "      <th></th>\n",
       "      <th>source</th>\n",
       "      <th>source_table</th>\n",
       "      <th>version_num</th>\n",
       "      <th>table</th>\n",
       "      <th>version_date</th>\n",
       "      <th>table_name</th>\n",
       "      <th>short_desc</th>\n",
       "      <th>long_desc</th>\n",
       "      <th>collection_start</th>\n",
       "      <th>collection_end</th>\n",
       "      <th>topic_tags</th>\n",
       "      <th>source_name</th>\n",
       "      <th>research_grouping</th>\n",
       "      <th>participants_invited</th>\n",
       "      <th>participants_included</th>\n",
       "      <th>num_rows</th>\n",
       "      <th>num_columns</th>\n",
       "      <th>Owner</th>\n",
       "      <th>geographic_coverage_Nations</th>\n",
       "      <th>geographic_coverage_Regions</th>\n",
       "    </tr>\n",
       "  </thead>\n",
       "  <tbody>\n",
       "    <tr>\n",
       "      <th>169</th>\n",
       "      <td>GENSCOT</td>\n",
       "      <td>GENSCOT_SMOKING</td>\n",
       "      <td>2</td>\n",
       "      <td>SMOKING</td>\n",
       "      <td>20220302.0</td>\n",
       "      <td>Smoking</td>\n",
       "      <td></td>\n",
       "      <td>Socio-demographic and clinical data were obtai...</td>\n",
       "      <td>01/2006</td>\n",
       "      <td>05/2011</td>\n",
       "      <td></td>\n",
       "      <td>Generation Scotland: Scottish Family Health St...</td>\n",
       "      <td>Centre for Medical Informatics, Usher Institut...</td>\n",
       "      <td>21552</td>\n",
       "      <td>20944</td>\n",
       "      <td>21552.0</td>\n",
       "      <td>12.0</td>\n",
       "      <td>University of Edinburgh</td>\n",
       "      <td>Scotland</td>\n",
       "      <td>Nationwide</td>\n",
       "    </tr>\n",
       "  </tbody>\n",
       "</table>\n",
       "</div>"
      ],
      "text/plain": [
       "      source     source_table  version_num    table  version_date table_name  \\\n",
       "169  GENSCOT  GENSCOT_SMOKING            2  SMOKING    20220302.0    Smoking   \n",
       "\n",
       "    short_desc                                          long_desc  \\\n",
       "169             Socio-demographic and clinical data were obtai...   \n",
       "\n",
       "    collection_start collection_end topic_tags  \\\n",
       "169          01/2006        05/2011              \n",
       "\n",
       "                                           source_name  \\\n",
       "169  Generation Scotland: Scottish Family Health St...   \n",
       "\n",
       "                                     research_grouping participants_invited  \\\n",
       "169  Centre for Medical Informatics, Usher Institut...                21552   \n",
       "\n",
       "    participants_included  num_rows  num_columns                    Owner  \\\n",
       "169                 20944   21552.0         12.0  University of Edinburgh   \n",
       "\n",
       "    geographic_coverage_Nations geographic_coverage_Regions  \n",
       "169                    Scotland                  Nationwide  "
      ]
     },
     "execution_count": 10,
     "metadata": {},
     "output_type": "execute_result"
    }
   ],
   "source": [
    "df2[df2[\"source_table\"] == \"GENSCOT_SMOKING\"]"
   ]
  },
  {
   "cell_type": "code",
   "execution_count": 13,
   "id": "6f8b4743",
   "metadata": {},
   "outputs": [
    {
     "data": {
      "application/vnd.microsoft.datawrangler.viewer.v0+json": {
       "columns": [
        {
         "name": "index",
         "rawType": "int64",
         "type": "integer"
        },
        {
         "name": "table_full",
         "rawType": "object",
         "type": "string"
        },
        {
         "name": "index",
         "rawType": "int64",
         "type": "integer"
        },
        {
         "name": "table",
         "rawType": "object",
         "type": "string"
        },
        {
         "name": "description_table",
         "rawType": "object",
         "type": "string"
        },
        {
         "name": "version_date",
         "rawType": "float64",
         "type": "float"
        },
        {
         "name": "num_rows",
         "rawType": "float64",
         "type": "float"
        },
        {
         "name": "source",
         "rawType": "object",
         "type": "string"
        },
        {
         "name": "values_table",
         "rawType": "object",
         "type": "unknown"
        },
        {
         "name": "version_num",
         "rawType": "object",
         "type": "string"
        },
        {
         "name": "num_columns",
         "rawType": "float64",
         "type": "float"
        },
        {
         "name": "num_participants",
         "rawType": "float64",
         "type": "float"
        }
       ],
       "ref": "1e89e27a-0ab4-4f58-840a-cbc790a6bc8d",
       "rows": [
        [
         "194",
         "COVID_CM_w1_v0001_20211101",
         "194",
         "COVID_CM_w1",
         "COVID_CM_w1_v0001_description_20211101",
         "20211101.0",
         "2640.0",
         "MCS",
         "COVID_CM_w1_v0001_values_20211101",
         "v0001",
         "304.0",
         "2542.0"
        ],
        [
         "195",
         "COVID_CM_w2_v0001_20211101",
         "195",
         "COVID_CM_w2",
         "COVID_CM_w2_v0001_description_20211101",
         "20211101.0",
         "3266.0",
         "MCS",
         "COVID_CM_w2_v0001_values_20211101",
         "v0001",
         "781.0",
         "3107.0"
        ],
        [
         "196",
         "COVID_CM_w3_v0001_20211101",
         "196",
         "COVID_CM_w3",
         "COVID_CM_w3_v0001_description_20211101",
         "20211101.0",
         "4464.0",
         "MCS",
         "COVID_CM_w3_v0001_values_20211101",
         "v0001",
         "828.0",
         "4338.0"
        ],
        [
         "197",
         "COVID_parent_w1_v0001_20211101",
         "197",
         "COVID_parent_w1",
         "COVID_parent_w1_v0001_description_20211101",
         "20211101.0",
         "2829.0",
         "MCS",
         "COVID_parent_w1_v0001_values_20211101",
         "v0001",
         "304.0",
         "2675.0"
        ],
        [
         "198",
         "COVID_parent_w2_v0001_20211101",
         "198",
         "COVID_parent_w2",
         "COVID_parent_w2_v0001_description_20211101",
         "20211101.0",
         "5702.0",
         "MCS",
         "COVID_parent_w2_v0001_values_20211101",
         "v0001",
         "781.0",
         "5310.0"
        ],
        [
         "199",
         "COVID_parent_w3_v0001_20211101",
         "199",
         "COVID_parent_w3",
         "COVID_parent_w3_v0001_description_20211101",
         "20211101.0",
         "5246.0",
         "MCS",
         "COVID_parent_w3_v0001_values_20211101",
         "v0001",
         "828.0",
         "5023.0"
        ],
        [
         "200",
         "Covid_19_Serology_CM_v0001_20211101",
         "200",
         "Covid_19_Serology_CM",
         "Covid_19_Serology_CM_v0001_description_20211101",
         "20211101.0",
         "5498.0",
         "MCS",
         "Covid_19_Serology_CM_v0001_values_20211101",
         "v0001",
         "18.0",
         "4590.0"
        ],
        [
         "201",
         "Covid_19_Serology_Parent_v0001_20211101",
         "201",
         "Covid_19_Serology_Parent",
         "Covid_19_Serology_Parent_v0001_description_20211101",
         "20211101.0",
         "9791.0",
         "MCS",
         "Covid_19_Serology_Parent_v0001_values_20211101",
         "v0001",
         "18.0",
         "6858.0"
        ],
        [
         "202",
         "MCS_basic_demographic_cm_v0001_20211101",
         "202",
         "MCS_basic_demographic_cm",
         "MCS_basic_demographic_cm_v0001_description_20211101",
         "20211101.0",
         "19483.0",
         "MCS",
         null,
         "v0001",
         "14.0",
         "9610.0"
        ],
        [
         "203",
         "basic_demographic_cm_v0001_20211101",
         "203",
         "basic_demographic_cm",
         "basic_demographic_cm_v0001_description_20211101",
         "20211101.0",
         "19483.0",
         "MCS",
         null,
         "v0001",
         "14.0",
         "9610.0"
        ],
        [
         "204",
         "basic_demographic_family_v0001_20211101",
         "204",
         "basic_demographic_family",
         "basic_demographic_family_v0001_description_20211101",
         "20211101.0",
         "337285.0",
         "MCS",
         null,
         "v0001",
         "9.0",
         null
        ],
        [
         "205",
         "basic_demographic_hhgrid_v0001_20211101",
         "205",
         "basic_demographic_hhgrid",
         "basic_demographic_hhgrid_v0001_description_20211101",
         "20211101.0",
         "57266.0",
         "MCS",
         null,
         "v0001",
         "21.0",
         "27866.0"
        ],
        [
         "206",
         "basic_demographic_parent_v0001_20211101",
         "206",
         "basic_demographic_parent",
         "basic_demographic_parent_v0001_description_20211101",
         "20211101.0",
         "37705.0",
         "MCS",
         null,
         "v0001",
         "24.0",
         "18127.0"
        ],
        [
         "207",
         "mcs1_cm_derived_v0001_20211101",
         "207",
         "mcs1_cm_derived",
         "mcs1_cm_derived_v0001_description_20211101",
         "20211101.0",
         "18786.0",
         "MCS",
         "mcs1_cm_derived_v0001_values_20211101",
         "v0001",
         "17.0",
         "9277.0"
        ],
        [
         "208",
         "mcs1_cm_interview_v0001_20211101",
         "208",
         "mcs1_cm_interview",
         "mcs1_cm_interview_v0001_description_20211101",
         "20211101.0",
         "18786.0",
         "MCS",
         "mcs1_cm_interview_v0001_values_20211101",
         "v0001",
         "6.0",
         "9277.0"
        ],
        [
         "209",
         "mcs1_family_derived_v0001_20211101",
         "209",
         "mcs1_family_derived",
         "mcs1_family_derived_v0001_description_20211101",
         "20211101.0",
         "56598.0",
         "MCS",
         "mcs1_family_derived_v0001_values_20211101",
         "v0001",
         "53.0",
         null
        ],
        [
         "210",
         "mcs1_hhgrid_v0001_20211101",
         "210",
         "mcs1_hhgrid",
         "mcs1_hhgrid_v0001_description_20211101",
         "20211101.0",
         "52738.0",
         "MCS",
         "mcs1_hhgrid_v0001_values_20211101",
         "v0001",
         "35.0",
         "26217.0"
        ],
        [
         "211",
         "mcs1_parent_cm_interview_v0001_20211101",
         "211",
         "mcs1_parent_cm_interview",
         "mcs1_parent_cm_interview_v0001_description_20211101",
         "20211101.0",
         "32165.0",
         "MCS",
         "mcs1_parent_cm_interview_v0001_values_20211101",
         "v0001",
         "178.0",
         "16473.0"
        ],
        [
         "212",
         "mcs1_parent_derived_v0001_20211101",
         "212",
         "mcs1_parent_derived",
         "mcs1_parent_derived_v0001_description_20211101",
         "20211101.0",
         "33884.0",
         "MCS",
         "mcs1_parent_derived_v0001_values_20211101",
         "v0001",
         "41.0",
         "16925.0"
        ],
        [
         "213",
         "mcs1_parent_interview_v0001_20211101",
         "213",
         "mcs1_parent_interview",
         "mcs1_parent_interview_v0001_description_20211101",
         "20211101.0",
         "31734.0",
         "MCS",
         "mcs1_parent_interview_v0001_values_20211101",
         "v0001",
         "666.0",
         "16473.0"
        ],
        [
         "214",
         "mcs1_proxy_partner_interview_v0001_20211101",
         "214",
         "mcs1_proxy_partner_interview",
         "mcs1_proxy_partner_interview_v0001_description_20211101",
         "20211101.0",
         "216.0",
         "MCS",
         "mcs1_proxy_partner_interview_v0001_values_20211101",
         "v0001",
         "70.0",
         "46.0"
        ],
        [
         "215",
         "mcs2_cm_cognitive_assessment_v0001_20211101",
         "215",
         "mcs2_cm_cognitive_assessment",
         "mcs2_cm_cognitive_assessment_v0001_description_20211101",
         "20211101.0",
         "15778.0",
         "MCS",
         "mcs2_cm_cognitive_assessment_v0001_values_20211101",
         "v0001",
         "586.0",
         "8867.0"
        ],
        [
         "216",
         "mcs2_cm_derived_v0001_20211101",
         "216",
         "mcs2_cm_derived",
         "mcs2_cm_derived_v0001_description_20211101",
         "20211101.0",
         "15778.0",
         "MCS",
         "mcs2_cm_derived_v0001_values_20211101",
         "v0001",
         "31.0",
         "8867.0"
        ],
        [
         "217",
         "mcs2_cm_interview_v0001_20211101",
         "217",
         "mcs2_cm_interview",
         "mcs2_cm_interview_v0001_description_20211101",
         "20211101.0",
         "15778.0",
         "MCS",
         "mcs2_cm_interview_v0001_values_20211101",
         "v0001",
         "58.0",
         "8867.0"
        ],
        [
         "218",
         "mcs2_family_derived_v0001_20211101",
         "218",
         "mcs2_family_derived",
         "mcs2_family_derived_v0001_description_20211101",
         "20211101.0",
         "47991.0",
         "MCS",
         "mcs2_family_derived_v0001_values_20211101",
         "v0001",
         "59.0",
         null
        ],
        [
         "219",
         "mcs2_hhgrid_v0001_20211101",
         "219",
         "mcs2_hhgrid",
         "mcs2_hhgrid_v0001_description_20211101",
         "20211101.0",
         "45339.0",
         "MCS",
         "mcs2_hhgrid_v0001_values_20211101",
         "v0001",
         "42.0",
         "25489.0"
        ],
        [
         "220",
         "mcs2_neighbourhood_observations_v0001_20211101",
         "220",
         "mcs2_neighbourhood_observations",
         "mcs2_neighbourhood_observations_v0001_description_20211101",
         "20211101.0",
         "47991.0",
         "MCS",
         "mcs2_neighbourhood_observations_v0001_values_20211101",
         "v0001",
         "20.0",
         "25985.0"
        ],
        [
         "221",
         "mcs2_older_siblings_questionnaire_v0001_20211101",
         "221",
         "mcs2_older_siblings_questionnaire",
         "mcs2_older_siblings_questionnaire_v0001_description_20211101",
         "20211101.0",
         "47991.0",
         "MCS",
         "mcs2_older_siblings_questionnaire_v0001_values_20211101",
         "v0001",
         "474.0",
         "25985.0"
        ],
        [
         "222",
         "mcs2_parent_cm_interview_v0001_20211101",
         "222",
         "mcs2_parent_cm_interview",
         "mcs2_parent_cm_interview_v0001_description_20211101",
         "20211101.0",
         "26243.0",
         "MCS",
         "mcs2_parent_cm_interview_v0001_values_20211101",
         "v0001",
         "457.0",
         "15698.0"
        ],
        [
         "223",
         "mcs2_parent_derived_v0001_20211101",
         "223",
         "mcs2_parent_derived",
         "mcs2_parent_derived_v0001_description_20211101",
         "20211101.0",
         "28422.0",
         "MCS",
         "mcs2_parent_derived_v0001_values_20211101",
         "v0001",
         "38.0",
         "16557.0"
        ],
        [
         "224",
         "mcs2_parent_interview_v0001_20211101",
         "224",
         "mcs2_parent_interview",
         "mcs2_parent_interview_v0001_description_20211101",
         "20211101.0",
         "25907.0",
         "MCS",
         "mcs2_parent_interview_v0001_values_20211101",
         "v0001",
         "969.0",
         "15698.0"
        ],
        [
         "225",
         "mcs2_proxy_partner_interview_v0001_20211101",
         "225",
         "mcs2_proxy_partner_interview",
         "mcs2_proxy_partner_interview_v0001_description_20211101",
         "20211101.0",
         "223.0",
         "MCS",
         "mcs2_proxy_partner_interview_v0001_values_20211101",
         "v0001",
         "109.0",
         "84.0"
        ],
        [
         "226",
         "mcs3_cm_cognitive_assessment_v0001_20211101",
         "226",
         "mcs3_cm_cognitive_assessment",
         "mcs3_cm_cognitive_assessment_v0001_description_20211101",
         "20211101.0",
         "15431.0",
         "MCS",
         "mcs3_cm_cognitive_assessment_v0001_values_20211101",
         "v0001",
         "343.0",
         "9108.0"
        ],
        [
         "227",
         "mcs3_cm_derived_v0001_20211101",
         "227",
         "mcs3_cm_derived",
         "mcs3_cm_derived_v0001_description_20211101",
         "20211101.0",
         "15431.0",
         "MCS",
         "mcs3_cm_derived_v0001_values_20211101",
         "v0001",
         "18.0",
         "9108.0"
        ],
        [
         "228",
         "mcs3_cm_interview_v0001_20211101",
         "228",
         "mcs3_cm_interview",
         "mcs3_cm_interview_v0001_description_20211101",
         "20211101.0",
         "15431.0",
         "MCS",
         "mcs3_cm_interview_v0001_values_20211101",
         "v0001",
         "115.0",
         "9108.0"
        ],
        [
         "229",
         "mcs3_cm_teacher_survey_v0001_20211101",
         "229",
         "mcs3_cm_teacher_survey",
         "mcs3_cm_teacher_survey_v0001_description_20211101",
         "20211101.0",
         "15431.0",
         "MCS",
         "mcs3_cm_teacher_survey_v0001_values_20211101",
         "v0001",
         "145.0",
         "9108.0"
        ],
        [
         "230",
         "mcs3_family_derived_v0001_20211101",
         "230",
         "mcs3_family_derived",
         "mcs3_family_derived_v0001_description_20211101",
         "20211101.0",
         "47093.0",
         "MCS",
         "mcs3_family_derived_v0001_values_20211101",
         "v0001",
         "46.0",
         null
        ],
        [
         "231",
         "mcs3_hhgrid_v0001_20211101",
         "231",
         "mcs3_hhgrid",
         "mcs3_hhgrid_v0001_description_20211101",
         "20211101.0",
         "44927.0",
         "MCS",
         "mcs3_hhgrid_v0001_values_20211101",
         "v0001",
         "61.0",
         "26559.0"
        ],
        [
         "232",
         "mcs3_older_siblings_questionnaire_v0001_20211101",
         "232",
         "mcs3_older_siblings_questionnaire",
         "mcs3_older_siblings_questionnaire_v0001_description_20211101",
         "20211101.0",
         "47093.0",
         "MCS",
         "mcs3_older_siblings_questionnaire_v0001_values_20211101",
         "v0001",
         "145.0",
         "26869.0"
        ],
        [
         "233",
         "mcs3_parent_cm_interview_v0001_20211101",
         "233",
         "mcs3_parent_cm_interview",
         "mcs3_parent_cm_interview_v0001_description_20211101",
         "20211101.0",
         "26005.0",
         "MCS",
         "mcs3_parent_cm_interview_v0001_values_20211101",
         "v0001",
         "686.0",
         "16953.0"
        ],
        [
         "234",
         "mcs3_parent_derived_v0001_20211101",
         "234",
         "mcs3_parent_derived",
         "mcs3_parent_derived_v0001_description_20211101",
         "20211101.0",
         "27443.0",
         "MCS",
         "mcs3_parent_derived_v0001_values_20211101",
         "v0001",
         "92.0",
         "17369.0"
        ],
        [
         "235",
         "mcs3_proxy_partner_interview_v0001_20211101",
         "235",
         "mcs3_proxy_partner_interview",
         "mcs3_proxy_partner_interview_v0001_description_20211101",
         "20211101.0",
         "287.0",
         "MCS",
         "mcs3_proxy_partner_interview_v0001_values_20211101",
         "v0001",
         "65.0",
         "88.0"
        ],
        [
         "236",
         "mcs4_cm_aspirations_v0001_20211101",
         "236",
         "mcs4_cm_aspirations",
         "mcs4_cm_aspirations_v0001_description_20211101",
         "20211101.0",
         "14013.0",
         "MCS",
         "mcs4_cm_aspirations_v0001_values_20211101",
         "v0001",
         "36.0",
         "8889.0"
        ],
        [
         "237",
         "mcs4_cm_cognitive_assessment_v0001_20211101",
         "237",
         "mcs4_cm_cognitive_assessment",
         "mcs4_cm_cognitive_assessment_v0001_description_20211101",
         "20211101.0",
         "14013.0",
         "MCS",
         "mcs4_cm_cognitive_assessment_v0001_values_20211101",
         "v0001",
         "504.0",
         "8889.0"
        ],
        [
         "238",
         "mcs4_cm_derived_v0001_20211101",
         "238",
         "mcs4_cm_derived",
         "mcs4_cm_derived_v0001_description_20211101",
         "20211101.0",
         "14013.0",
         "MCS",
         "mcs4_cm_derived_v0001_values_20211101",
         "v0001",
         "26.0",
         "8889.0"
        ],
        [
         "239",
         "mcs4_cm_interview_v0001_20211101",
         "239",
         "mcs4_cm_interview",
         "mcs4_cm_interview_v0001_description_20211101",
         "20211101.0",
         "14013.0",
         "MCS",
         "mcs4_cm_interview_v0001_values_20211101",
         "v0001",
         "186.0",
         "8889.0"
        ],
        [
         "240",
         "mcs4_cm_teacher_survey_v0001_20211101",
         "240",
         "mcs4_cm_teacher_survey",
         "mcs4_cm_teacher_survey_v0001_description_20211101",
         "20211101.0",
         "14013.0",
         "MCS",
         "mcs4_cm_teacher_survey_v0001_values_20211101",
         "v0001",
         "177.0",
         "8889.0"
        ],
        [
         "241",
         "mcs4_family_derived_v0001_20211101",
         "241",
         "mcs4_family_derived",
         "mcs4_family_derived_v0001_description_20211101",
         "20211101.0",
         "42905.0",
         "MCS",
         "mcs4_family_derived_v0001_values_20211101",
         "v0001",
         "50.0",
         null
        ],
        [
         "242",
         "mcs4_hhgrid_v0001_20211101",
         "242",
         "mcs4_hhgrid",
         "mcs4_hhgrid_v0001_description_20211101",
         "20211101.0",
         "41344.0",
         "MCS",
         "mcs4_hhgrid_v0001_values_20211101",
         "v0001",
         "63.0",
         "26962.0"
        ],
        [
         "243",
         "mcs4_parent_cm_interview_v0001_20211101",
         "243",
         "mcs4_parent_cm_interview",
         "mcs4_parent_cm_interview_v0001_description_20211101",
         "20211101.0",
         "23243.0",
         "MCS",
         "mcs4_parent_cm_interview_v0001_values_20211101",
         "v0001",
         "1097.0",
         "17931.0"
        ]
       ],
       "shape": {
        "columns": 11,
        "rows": 83
       }
      },
      "text/html": [
       "<div>\n",
       "<style scoped>\n",
       "    .dataframe tbody tr th:only-of-type {\n",
       "        vertical-align: middle;\n",
       "    }\n",
       "\n",
       "    .dataframe tbody tr th {\n",
       "        vertical-align: top;\n",
       "    }\n",
       "\n",
       "    .dataframe thead th {\n",
       "        text-align: right;\n",
       "    }\n",
       "</style>\n",
       "<table border=\"1\" class=\"dataframe\">\n",
       "  <thead>\n",
       "    <tr style=\"text-align: right;\">\n",
       "      <th></th>\n",
       "      <th>table_full</th>\n",
       "      <th>index</th>\n",
       "      <th>table</th>\n",
       "      <th>description_table</th>\n",
       "      <th>version_date</th>\n",
       "      <th>num_rows</th>\n",
       "      <th>source</th>\n",
       "      <th>values_table</th>\n",
       "      <th>version_num</th>\n",
       "      <th>num_columns</th>\n",
       "      <th>num_participants</th>\n",
       "    </tr>\n",
       "  </thead>\n",
       "  <tbody>\n",
       "    <tr>\n",
       "      <th>194</th>\n",
       "      <td>COVID_CM_w1_v0001_20211101</td>\n",
       "      <td>194</td>\n",
       "      <td>COVID_CM_w1</td>\n",
       "      <td>COVID_CM_w1_v0001_description_20211101</td>\n",
       "      <td>20211101.0</td>\n",
       "      <td>2640.0</td>\n",
       "      <td>MCS</td>\n",
       "      <td>COVID_CM_w1_v0001_values_20211101</td>\n",
       "      <td>v0001</td>\n",
       "      <td>304.0</td>\n",
       "      <td>2542.0</td>\n",
       "    </tr>\n",
       "    <tr>\n",
       "      <th>195</th>\n",
       "      <td>COVID_CM_w2_v0001_20211101</td>\n",
       "      <td>195</td>\n",
       "      <td>COVID_CM_w2</td>\n",
       "      <td>COVID_CM_w2_v0001_description_20211101</td>\n",
       "      <td>20211101.0</td>\n",
       "      <td>3266.0</td>\n",
       "      <td>MCS</td>\n",
       "      <td>COVID_CM_w2_v0001_values_20211101</td>\n",
       "      <td>v0001</td>\n",
       "      <td>781.0</td>\n",
       "      <td>3107.0</td>\n",
       "    </tr>\n",
       "    <tr>\n",
       "      <th>196</th>\n",
       "      <td>COVID_CM_w3_v0001_20211101</td>\n",
       "      <td>196</td>\n",
       "      <td>COVID_CM_w3</td>\n",
       "      <td>COVID_CM_w3_v0001_description_20211101</td>\n",
       "      <td>20211101.0</td>\n",
       "      <td>4464.0</td>\n",
       "      <td>MCS</td>\n",
       "      <td>COVID_CM_w3_v0001_values_20211101</td>\n",
       "      <td>v0001</td>\n",
       "      <td>828.0</td>\n",
       "      <td>4338.0</td>\n",
       "    </tr>\n",
       "    <tr>\n",
       "      <th>197</th>\n",
       "      <td>COVID_parent_w1_v0001_20211101</td>\n",
       "      <td>197</td>\n",
       "      <td>COVID_parent_w1</td>\n",
       "      <td>COVID_parent_w1_v0001_description_20211101</td>\n",
       "      <td>20211101.0</td>\n",
       "      <td>2829.0</td>\n",
       "      <td>MCS</td>\n",
       "      <td>COVID_parent_w1_v0001_values_20211101</td>\n",
       "      <td>v0001</td>\n",
       "      <td>304.0</td>\n",
       "      <td>2675.0</td>\n",
       "    </tr>\n",
       "    <tr>\n",
       "      <th>198</th>\n",
       "      <td>COVID_parent_w2_v0001_20211101</td>\n",
       "      <td>198</td>\n",
       "      <td>COVID_parent_w2</td>\n",
       "      <td>COVID_parent_w2_v0001_description_20211101</td>\n",
       "      <td>20211101.0</td>\n",
       "      <td>5702.0</td>\n",
       "      <td>MCS</td>\n",
       "      <td>COVID_parent_w2_v0001_values_20211101</td>\n",
       "      <td>v0001</td>\n",
       "      <td>781.0</td>\n",
       "      <td>5310.0</td>\n",
       "    </tr>\n",
       "    <tr>\n",
       "      <th>...</th>\n",
       "      <td>...</td>\n",
       "      <td>...</td>\n",
       "      <td>...</td>\n",
       "      <td>...</td>\n",
       "      <td>...</td>\n",
       "      <td>...</td>\n",
       "      <td>...</td>\n",
       "      <td>...</td>\n",
       "      <td>...</td>\n",
       "      <td>...</td>\n",
       "      <td>...</td>\n",
       "    </tr>\n",
       "    <tr>\n",
       "      <th>272</th>\n",
       "      <td>mcs7_hhgrid_v0001_20211101</td>\n",
       "      <td>272</td>\n",
       "      <td>mcs7_hhgrid</td>\n",
       "      <td>mcs7_hhgrid_v0001_description_20211101</td>\n",
       "      <td>20211101.0</td>\n",
       "      <td>22458.0</td>\n",
       "      <td>MCS</td>\n",
       "      <td>mcs7_hhgrid_v0001_values_20211101</td>\n",
       "      <td>v0001</td>\n",
       "      <td>67.0</td>\n",
       "      <td>15346.0</td>\n",
       "    </tr>\n",
       "    <tr>\n",
       "      <th>273</th>\n",
       "      <td>mcs7_parent_cm_interview_v0001_20211101</td>\n",
       "      <td>273</td>\n",
       "      <td>mcs7_parent_cm_interview</td>\n",
       "      <td>mcs7_parent_cm_interview_v0001_description_202...</td>\n",
       "      <td>20211101.0</td>\n",
       "      <td>14940.0</td>\n",
       "      <td>MCS</td>\n",
       "      <td>mcs7_parent_cm_interview_v0001_values_20211101</td>\n",
       "      <td>v0001</td>\n",
       "      <td>58.0</td>\n",
       "      <td>12001.0</td>\n",
       "    </tr>\n",
       "    <tr>\n",
       "      <th>274</th>\n",
       "      <td>mcs7_parent_derived_v0001_20211101</td>\n",
       "      <td>274</td>\n",
       "      <td>mcs7_parent_derived</td>\n",
       "      <td>mcs7_parent_derived_v0001_description_20211101</td>\n",
       "      <td>20211101.0</td>\n",
       "      <td>12679.0</td>\n",
       "      <td>MCS</td>\n",
       "      <td>mcs7_parent_derived_v0001_values_20211101</td>\n",
       "      <td>v0001</td>\n",
       "      <td>17.0</td>\n",
       "      <td>10468.0</td>\n",
       "    </tr>\n",
       "    <tr>\n",
       "      <th>275</th>\n",
       "      <td>mcs7_parent_interview_v0001_20211101</td>\n",
       "      <td>275</td>\n",
       "      <td>mcs7_parent_interview</td>\n",
       "      <td>mcs7_parent_interview_v0001_description_20211101</td>\n",
       "      <td>20211101.0</td>\n",
       "      <td>12679.0</td>\n",
       "      <td>MCS</td>\n",
       "      <td>mcs7_parent_interview_v0001_values_20211101</td>\n",
       "      <td>v0001</td>\n",
       "      <td>281.0</td>\n",
       "      <td>10468.0</td>\n",
       "    </tr>\n",
       "    <tr>\n",
       "      <th>276</th>\n",
       "      <td>mcs_longitudinal_family_file_v0001_20211101</td>\n",
       "      <td>276</td>\n",
       "      <td>mcs_longitudinal_family_file</td>\n",
       "      <td>mcs_longitudinal_family_file_v0001_description...</td>\n",
       "      <td>20211101.0</td>\n",
       "      <td>58699.0</td>\n",
       "      <td>MCS</td>\n",
       "      <td>mcs_longitudinal_family_file_v0001_values_2021...</td>\n",
       "      <td>v0001</td>\n",
       "      <td>49.0</td>\n",
       "      <td>NaN</td>\n",
       "    </tr>\n",
       "  </tbody>\n",
       "</table>\n",
       "<p>83 rows × 11 columns</p>\n",
       "</div>"
      ],
      "text/plain": [
       "                                      table_full  index  \\\n",
       "194                   COVID_CM_w1_v0001_20211101    194   \n",
       "195                   COVID_CM_w2_v0001_20211101    195   \n",
       "196                   COVID_CM_w3_v0001_20211101    196   \n",
       "197               COVID_parent_w1_v0001_20211101    197   \n",
       "198               COVID_parent_w2_v0001_20211101    198   \n",
       "..                                           ...    ...   \n",
       "272                   mcs7_hhgrid_v0001_20211101    272   \n",
       "273      mcs7_parent_cm_interview_v0001_20211101    273   \n",
       "274           mcs7_parent_derived_v0001_20211101    274   \n",
       "275         mcs7_parent_interview_v0001_20211101    275   \n",
       "276  mcs_longitudinal_family_file_v0001_20211101    276   \n",
       "\n",
       "                            table  \\\n",
       "194                   COVID_CM_w1   \n",
       "195                   COVID_CM_w2   \n",
       "196                   COVID_CM_w3   \n",
       "197               COVID_parent_w1   \n",
       "198               COVID_parent_w2   \n",
       "..                            ...   \n",
       "272                   mcs7_hhgrid   \n",
       "273      mcs7_parent_cm_interview   \n",
       "274           mcs7_parent_derived   \n",
       "275         mcs7_parent_interview   \n",
       "276  mcs_longitudinal_family_file   \n",
       "\n",
       "                                     description_table  version_date  \\\n",
       "194             COVID_CM_w1_v0001_description_20211101    20211101.0   \n",
       "195             COVID_CM_w2_v0001_description_20211101    20211101.0   \n",
       "196             COVID_CM_w3_v0001_description_20211101    20211101.0   \n",
       "197         COVID_parent_w1_v0001_description_20211101    20211101.0   \n",
       "198         COVID_parent_w2_v0001_description_20211101    20211101.0   \n",
       "..                                                 ...           ...   \n",
       "272             mcs7_hhgrid_v0001_description_20211101    20211101.0   \n",
       "273  mcs7_parent_cm_interview_v0001_description_202...    20211101.0   \n",
       "274     mcs7_parent_derived_v0001_description_20211101    20211101.0   \n",
       "275   mcs7_parent_interview_v0001_description_20211101    20211101.0   \n",
       "276  mcs_longitudinal_family_file_v0001_description...    20211101.0   \n",
       "\n",
       "     num_rows source                                       values_table  \\\n",
       "194    2640.0    MCS                  COVID_CM_w1_v0001_values_20211101   \n",
       "195    3266.0    MCS                  COVID_CM_w2_v0001_values_20211101   \n",
       "196    4464.0    MCS                  COVID_CM_w3_v0001_values_20211101   \n",
       "197    2829.0    MCS              COVID_parent_w1_v0001_values_20211101   \n",
       "198    5702.0    MCS              COVID_parent_w2_v0001_values_20211101   \n",
       "..        ...    ...                                                ...   \n",
       "272   22458.0    MCS                  mcs7_hhgrid_v0001_values_20211101   \n",
       "273   14940.0    MCS     mcs7_parent_cm_interview_v0001_values_20211101   \n",
       "274   12679.0    MCS          mcs7_parent_derived_v0001_values_20211101   \n",
       "275   12679.0    MCS        mcs7_parent_interview_v0001_values_20211101   \n",
       "276   58699.0    MCS  mcs_longitudinal_family_file_v0001_values_2021...   \n",
       "\n",
       "    version_num  num_columns  num_participants  \n",
       "194       v0001        304.0            2542.0  \n",
       "195       v0001        781.0            3107.0  \n",
       "196       v0001        828.0            4338.0  \n",
       "197       v0001        304.0            2675.0  \n",
       "198       v0001        781.0            5310.0  \n",
       "..          ...          ...               ...  \n",
       "272       v0001         67.0           15346.0  \n",
       "273       v0001         58.0           12001.0  \n",
       "274       v0001         17.0           10468.0  \n",
       "275       v0001        281.0           10468.0  \n",
       "276       v0001         49.0               NaN  \n",
       "\n",
       "[83 rows x 11 columns]"
      ]
     },
     "execution_count": 13,
     "metadata": {},
     "output_type": "execute_result"
    }
   ],
   "source": [
    "df = md.get_md_api_dsvs()\n",
    "df[df[\"source\"] == \"MCS\"]"
   ]
  },
  {
   "cell_type": "code",
   "execution_count": null,
   "id": "d45cdc2f",
   "metadata": {},
   "outputs": [],
   "source": []
  }
 ],
 "metadata": {
  "kernelspec": {
   "display_name": "jupbook",
   "language": "python",
   "name": "python3"
  },
  "language_info": {
   "codemirror_mode": {
    "name": "ipython",
    "version": 3
   },
   "file_extension": ".py",
   "mimetype": "text/x-python",
   "name": "python",
   "nbconvert_exporter": "python",
   "pygments_lexer": "ipython3",
   "version": "3.13.2"
  }
 },
 "nbformat": 4,
 "nbformat_minor": 5
}
