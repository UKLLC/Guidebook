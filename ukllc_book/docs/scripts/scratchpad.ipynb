{
 "cells": [
  {
   "cell_type": "code",
   "execution_count": 2,
   "id": "90a7f005",
   "metadata": {},
   "outputs": [],
   "source": [
    "import requests\n",
    "import json\n",
    "import os\n",
    "import sqlalchemy\n",
    "import pandas as pd\n",
    "import mdapi_functions as md\n",
    "from IPython.display import display, Markdown\n",
    "import markdown\n",
    "from bokeh.plotting import figure, show\n",
    "from bokeh.models import (Span, TabPanel, Tabs, ColumnDataSource, DataCube,\n",
    "                          GroupingInfo, StringFormatter, SumAggregator,\n",
    "                          TableColumn, HoverTool)\n",
    "from bokeh.io import output_notebook\n",
    "from math import pi\n",
    "from datetime import datetime\n",
    "import datacite_api_functions as dcf\n",
    "import numpy as np\n",
    "import data_doc_helper as dh"
   ]
  },
  {
   "cell_type": "code",
   "execution_count": 4,
   "id": "c1cb3f0f",
   "metadata": {},
   "outputs": [],
   "source": [
    "ds = dh.NHSEDataSet(\"CANCER\")\n",
    "dataset = ds.dataset"
   ]
  },
  {
   "cell_type": "code",
   "execution_count": 5,
   "id": "22db077c",
   "metadata": {},
   "outputs": [
    {
     "data": {
      "text/html": [
       "<style type=\"text/css\">\n",
       "#T_16fec th {\n",
       "  text-align: left;\n",
       "}\n",
       "#T_16fec_row0_col0, #T_16fec_row0_col1, #T_16fec_row0_col2, #T_16fec_row0_col3, #T_16fec_row0_col4, #T_16fec_row0_col5, #T_16fec_row0_col6, #T_16fec_row0_col7, #T_16fec_row0_col8, #T_16fec_row0_col9, #T_16fec_row0_col10, #T_16fec_row0_col11, #T_16fec_row0_col12, #T_16fec_row1_col0, #T_16fec_row1_col1, #T_16fec_row1_col2, #T_16fec_row1_col3, #T_16fec_row1_col4, #T_16fec_row1_col5, #T_16fec_row1_col6, #T_16fec_row1_col7, #T_16fec_row1_col8, #T_16fec_row1_col9, #T_16fec_row1_col10, #T_16fec_row1_col11, #T_16fec_row1_col12, #T_16fec_row2_col0, #T_16fec_row2_col1, #T_16fec_row2_col2, #T_16fec_row2_col3, #T_16fec_row2_col4, #T_16fec_row2_col5, #T_16fec_row2_col6, #T_16fec_row2_col7, #T_16fec_row2_col8, #T_16fec_row2_col9, #T_16fec_row2_col10, #T_16fec_row2_col11, #T_16fec_row2_col12, #T_16fec_row3_col0, #T_16fec_row3_col1, #T_16fec_row3_col2, #T_16fec_row3_col3, #T_16fec_row3_col4, #T_16fec_row3_col5, #T_16fec_row3_col6, #T_16fec_row3_col7, #T_16fec_row3_col8, #T_16fec_row3_col9, #T_16fec_row3_col10, #T_16fec_row3_col11, #T_16fec_row3_col12, #T_16fec_row4_col0, #T_16fec_row4_col1, #T_16fec_row4_col2, #T_16fec_row4_col3, #T_16fec_row4_col4, #T_16fec_row4_col5, #T_16fec_row4_col6, #T_16fec_row4_col7, #T_16fec_row4_col8, #T_16fec_row4_col9, #T_16fec_row4_col10, #T_16fec_row4_col11, #T_16fec_row4_col12, #T_16fec_row5_col0, #T_16fec_row5_col1, #T_16fec_row5_col2, #T_16fec_row5_col3, #T_16fec_row5_col4, #T_16fec_row5_col5, #T_16fec_row5_col6, #T_16fec_row5_col7, #T_16fec_row5_col8, #T_16fec_row5_col9, #T_16fec_row5_col10, #T_16fec_row5_col11, #T_16fec_row5_col12, #T_16fec_row6_col0, #T_16fec_row6_col1, #T_16fec_row6_col2, #T_16fec_row6_col3, #T_16fec_row6_col4, #T_16fec_row6_col5, #T_16fec_row6_col6, #T_16fec_row6_col7, #T_16fec_row6_col8, #T_16fec_row6_col9, #T_16fec_row6_col10, #T_16fec_row6_col11, #T_16fec_row6_col12 {\n",
       "  text-align: left;\n",
       "}\n",
       "</style>\n",
       "<table id=\"T_16fec\" style=\"font-size: 14px\">\n",
       "  <thead>\n",
       "    <tr>\n",
       "      <th id=\"T_16fec_level0_col0\" class=\"col_heading level0 col0\" >Version</th>\n",
       "      <th id=\"T_16fec_level0_col1\" class=\"col_heading level0 col1\" >2 (06 Jan 2022)</th>\n",
       "      <th id=\"T_16fec_level0_col2\" class=\"col_heading level0 col2\" >1 (06 Jan 2022)</th>\n",
       "      <th id=\"T_16fec_level0_col3\" class=\"col_heading level0 col3\" >1 (02 Mar 2022)</th>\n",
       "      <th id=\"T_16fec_level0_col4\" class=\"col_heading level0 col4\" >2 (02 Mar 2022)</th>\n",
       "      <th id=\"T_16fec_level0_col5\" class=\"col_heading level0 col5\" >1 (15 Jul 2022)</th>\n",
       "      <th id=\"T_16fec_level0_col6\" class=\"col_heading level0 col6\" >1 (16 Jul 2022)</th>\n",
       "      <th id=\"T_16fec_level0_col7\" class=\"col_heading level0 col7\" >1 (10 Nov 2022)</th>\n",
       "      <th id=\"T_16fec_level0_col8\" class=\"col_heading level0 col8\" >1 (28 Dec 2022)</th>\n",
       "      <th id=\"T_16fec_level0_col9\" class=\"col_heading level0 col9\" >2 (28 Dec 2022)</th>\n",
       "      <th id=\"T_16fec_level0_col10\" class=\"col_heading level0 col10\" >2 (02 Mar 2023)</th>\n",
       "      <th id=\"T_16fec_level0_col11\" class=\"col_heading level0 col11\" >2 (24 Apr 2024)</th>\n",
       "      <th id=\"T_16fec_level0_col12\" class=\"col_heading level0 col12\" >2 (23 May 2024)</th>\n",
       "    </tr>\n",
       "  </thead>\n",
       "  <tbody>\n",
       "    <tr>\n",
       "      <td id=\"T_16fec_row0_col0\" class=\"data row0 col0\" >Name in TRE</td>\n",
       "      <td id=\"T_16fec_row0_col1\" class=\"data row0 col1\" >NHSE_CANCER_20220106</td>\n",
       "      <td id=\"T_16fec_row0_col2\" class=\"data row0 col2\" >NHSE_CANCER_20220106</td>\n",
       "      <td id=\"T_16fec_row0_col3\" class=\"data row0 col3\" >NHSE_CANCER_20220302</td>\n",
       "      <td id=\"T_16fec_row0_col4\" class=\"data row0 col4\" >NHSE_CANCER_20220302</td>\n",
       "      <td id=\"T_16fec_row0_col5\" class=\"data row0 col5\" >NHSE_CANCER_20220715</td>\n",
       "      <td id=\"T_16fec_row0_col6\" class=\"data row0 col6\" >NHSE_CANCER_20220716</td>\n",
       "      <td id=\"T_16fec_row0_col7\" class=\"data row0 col7\" >NHSE_CANCER_20221110</td>\n",
       "      <td id=\"T_16fec_row0_col8\" class=\"data row0 col8\" >NHSE_CANCER_20221228</td>\n",
       "      <td id=\"T_16fec_row0_col9\" class=\"data row0 col9\" >NHSE_CANCER_20221228</td>\n",
       "      <td id=\"T_16fec_row0_col10\" class=\"data row0 col10\" >NHSE_CANCER_20230302</td>\n",
       "      <td id=\"T_16fec_row0_col11\" class=\"data row0 col11\" >NHSE_CANCER_20240424</td>\n",
       "      <td id=\"T_16fec_row0_col12\" class=\"data row0 col12\" >NHSE_CANCER_20240523</td>\n",
       "    </tr>\n",
       "    <tr>\n",
       "      <td id=\"T_16fec_row1_col0\" class=\"data row1 col0\" >Version Date</td>\n",
       "      <td id=\"T_16fec_row1_col1\" class=\"data row1 col1\" >06 Jan 2022</td>\n",
       "      <td id=\"T_16fec_row1_col2\" class=\"data row1 col2\" >06 Jan 2022</td>\n",
       "      <td id=\"T_16fec_row1_col3\" class=\"data row1 col3\" >02 Mar 2022</td>\n",
       "      <td id=\"T_16fec_row1_col4\" class=\"data row1 col4\" >02 Mar 2022</td>\n",
       "      <td id=\"T_16fec_row1_col5\" class=\"data row1 col5\" >15 Jul 2022</td>\n",
       "      <td id=\"T_16fec_row1_col6\" class=\"data row1 col6\" >16 Jul 2022</td>\n",
       "      <td id=\"T_16fec_row1_col7\" class=\"data row1 col7\" >10 Nov 2022</td>\n",
       "      <td id=\"T_16fec_row1_col8\" class=\"data row1 col8\" >28 Dec 2022</td>\n",
       "      <td id=\"T_16fec_row1_col9\" class=\"data row1 col9\" >28 Dec 2022</td>\n",
       "      <td id=\"T_16fec_row1_col10\" class=\"data row1 col10\" >02 Mar 2023</td>\n",
       "      <td id=\"T_16fec_row1_col11\" class=\"data row1 col11\" >24 Apr 2024</td>\n",
       "      <td id=\"T_16fec_row1_col12\" class=\"data row1 col12\" >23 May 2024</td>\n",
       "    </tr>\n",
       "    <tr>\n",
       "      <td id=\"T_16fec_row2_col0\" class=\"data row2 col0\" >Participant Count</td>\n",
       "      <td id=\"T_16fec_row2_col1\" class=\"data row2 col1\" >N/A</td>\n",
       "      <td id=\"T_16fec_row2_col2\" class=\"data row2 col2\" >N/A</td>\n",
       "      <td id=\"T_16fec_row2_col3\" class=\"data row2 col3\" >N/A</td>\n",
       "      <td id=\"T_16fec_row2_col4\" class=\"data row2 col4\" >N/A</td>\n",
       "      <td id=\"T_16fec_row2_col5\" class=\"data row2 col5\" >N/A</td>\n",
       "      <td id=\"T_16fec_row2_col6\" class=\"data row2 col6\" >N/A</td>\n",
       "      <td id=\"T_16fec_row2_col7\" class=\"data row2 col7\" >N/A</td>\n",
       "      <td id=\"T_16fec_row2_col8\" class=\"data row2 col8\" >N/A</td>\n",
       "      <td id=\"T_16fec_row2_col9\" class=\"data row2 col9\" >N/A</td>\n",
       "      <td id=\"T_16fec_row2_col10\" class=\"data row2 col10\" >N/A</td>\n",
       "      <td id=\"T_16fec_row2_col11\" class=\"data row2 col11\" >N/A</td>\n",
       "      <td id=\"T_16fec_row2_col12\" class=\"data row2 col12\" >N/A</td>\n",
       "    </tr>\n",
       "    <tr>\n",
       "      <td id=\"T_16fec_row3_col0\" class=\"data row3 col0\" >Number of Variables</td>\n",
       "      <td id=\"T_16fec_row3_col1\" class=\"data row3 col1\" >22</td>\n",
       "      <td id=\"T_16fec_row3_col2\" class=\"data row3 col2\" >21</td>\n",
       "      <td id=\"T_16fec_row3_col3\" class=\"data row3 col3\" >21</td>\n",
       "      <td id=\"T_16fec_row3_col4\" class=\"data row3 col4\" >21</td>\n",
       "      <td id=\"T_16fec_row3_col5\" class=\"data row3 col5\" >21</td>\n",
       "      <td id=\"T_16fec_row3_col6\" class=\"data row3 col6\" >21</td>\n",
       "      <td id=\"T_16fec_row3_col7\" class=\"data row3 col7\" >21</td>\n",
       "      <td id=\"T_16fec_row3_col8\" class=\"data row3 col8\" >21</td>\n",
       "      <td id=\"T_16fec_row3_col9\" class=\"data row3 col9\" >21</td>\n",
       "      <td id=\"T_16fec_row3_col10\" class=\"data row3 col10\" >21</td>\n",
       "      <td id=\"T_16fec_row3_col11\" class=\"data row3 col11\" >21</td>\n",
       "      <td id=\"T_16fec_row3_col12\" class=\"data row3 col12\" >21</td>\n",
       "    </tr>\n",
       "    <tr>\n",
       "      <td id=\"T_16fec_row4_col0\" class=\"data row4 col0\" >Number of Observations</td>\n",
       "      <td id=\"T_16fec_row4_col1\" class=\"data row4 col1\" >22520</td>\n",
       "      <td id=\"T_16fec_row4_col2\" class=\"data row4 col2\" >22520</td>\n",
       "      <td id=\"T_16fec_row4_col3\" class=\"data row4 col3\" >22728</td>\n",
       "      <td id=\"T_16fec_row4_col4\" class=\"data row4 col4\" >22728</td>\n",
       "      <td id=\"T_16fec_row4_col5\" class=\"data row4 col5\" >2245</td>\n",
       "      <td id=\"T_16fec_row4_col6\" class=\"data row4 col6\" >24973</td>\n",
       "      <td id=\"T_16fec_row4_col7\" class=\"data row4 col7\" >3507</td>\n",
       "      <td id=\"T_16fec_row4_col8\" class=\"data row4 col8\" >27579</td>\n",
       "      <td id=\"T_16fec_row4_col9\" class=\"data row4 col9\" >27579</td>\n",
       "      <td id=\"T_16fec_row4_col10\" class=\"data row4 col10\" >27579</td>\n",
       "      <td id=\"T_16fec_row4_col11\" class=\"data row4 col11\" >33682</td>\n",
       "      <td id=\"T_16fec_row4_col12\" class=\"data row4 col12\" >34039</td>\n",
       "    </tr>\n",
       "    <tr>\n",
       "      <td id=\"T_16fec_row5_col0\" class=\"data row5 col0\" >DOI</td>\n",
       "      <td id=\"T_16fec_row5_col1\" class=\"data row5 col1\" > <a href=\"https://doi.org/10.83126/ukllc-dataset-00062-02\" rel=\"noopener noreferrer\" target=\"_blank\">10.83126/ukllc-dataset-00062-02</a></td>\n",
       "      <td id=\"T_16fec_row5_col2\" class=\"data row5 col2\" > <a href=\"https://doi.org/10.83126/ukllc-dataset-00062-01\" rel=\"noopener noreferrer\" target=\"_blank\">10.83126/ukllc-dataset-00062-01</a></td>\n",
       "      <td id=\"T_16fec_row5_col3\" class=\"data row5 col3\" > <a href=\"https://doi.org/10.83126/ukllc-dataset-00061-01\" rel=\"noopener noreferrer\" target=\"_blank\">10.83126/ukllc-dataset-00061-01</a></td>\n",
       "      <td id=\"T_16fec_row5_col4\" class=\"data row5 col4\" > <a href=\"https://doi.org/10.83126/ukllc-dataset-00061-02\" rel=\"noopener noreferrer\" target=\"_blank\">10.83126/ukllc-dataset-00061-02</a></td>\n",
       "      <td id=\"T_16fec_row5_col5\" class=\"data row5 col5\" > <a href=\"https://doi.org/10.83126/ukllc-dataset-00063-01\" rel=\"noopener noreferrer\" target=\"_blank\">10.83126/ukllc-dataset-00063-01</a></td>\n",
       "      <td id=\"T_16fec_row5_col6\" class=\"data row5 col6\" > <a href=\"https://doi.org/10.83126/ukllc-dataset-00060-01\" rel=\"noopener noreferrer\" target=\"_blank\">10.83126/ukllc-dataset-00060-01</a></td>\n",
       "      <td id=\"T_16fec_row5_col7\" class=\"data row5 col7\" > <a href=\"https://doi.org/10.83126/ukllc-dataset-00059-01\" rel=\"noopener noreferrer\" target=\"_blank\">10.83126/ukllc-dataset-00059-01</a></td>\n",
       "      <td id=\"T_16fec_row5_col8\" class=\"data row5 col8\" > <a href=\"https://doi.org/10.83126/ukllc-dataset-00058-01\" rel=\"noopener noreferrer\" target=\"_blank\">10.83126/ukllc-dataset-00058-01</a></td>\n",
       "      <td id=\"T_16fec_row5_col9\" class=\"data row5 col9\" > <a href=\"https://doi.org/10.83126/ukllc-dataset-00058-02\" rel=\"noopener noreferrer\" target=\"_blank\">10.83126/ukllc-dataset-00058-02</a></td>\n",
       "      <td id=\"T_16fec_row5_col10\" class=\"data row5 col10\" > <a href=\"https://doi.org/10.83126/ukllc-dataset-00064-02\" rel=\"noopener noreferrer\" target=\"_blank\">10.83126/ukllc-dataset-00064-02</a></td>\n",
       "      <td id=\"T_16fec_row5_col11\" class=\"data row5 col11\" > <a href=\"https://doi.org/10.83126/ukllc-dataset-00066-02\" rel=\"noopener noreferrer\" target=\"_blank\">10.83126/ukllc-dataset-00066-02</a></td>\n",
       "      <td id=\"T_16fec_row5_col12\" class=\"data row5 col12\" > <a href=\"https://doi.org/10.83126/ukllc-dataset-00065-02\" rel=\"noopener noreferrer\" target=\"_blank\">10.83126/ukllc-dataset-00065-02</a></td>\n",
       "    </tr>\n",
       "    <tr>\n",
       "      <td id=\"T_16fec_row6_col0\" class=\"data row6 col0\" >Change Log</td>\n",
       "      <td id=\"T_16fec_row6_col1\" class=\"data row6 col1\" > <a href=\"https://api.test.datacite.org/dois/10.83126/ukllc-dataset-00062-02/activities\" rel=\"noopener noreferrer\" target=\"_blank\">10.83126/ukllc-dataset-00062-02/activities</a></td>\n",
       "      <td id=\"T_16fec_row6_col2\" class=\"data row6 col2\" > <a href=\"https://api.test.datacite.org/dois/10.83126/ukllc-dataset-00062-01/activities\" rel=\"noopener noreferrer\" target=\"_blank\">10.83126/ukllc-dataset-00062-01/activities</a></td>\n",
       "      <td id=\"T_16fec_row6_col3\" class=\"data row6 col3\" > <a href=\"https://api.test.datacite.org/dois/10.83126/ukllc-dataset-00061-01/activities\" rel=\"noopener noreferrer\" target=\"_blank\">10.83126/ukllc-dataset-00061-01/activities</a></td>\n",
       "      <td id=\"T_16fec_row6_col4\" class=\"data row6 col4\" > <a href=\"https://api.test.datacite.org/dois/10.83126/ukllc-dataset-00061-02/activities\" rel=\"noopener noreferrer\" target=\"_blank\">10.83126/ukllc-dataset-00061-02/activities</a></td>\n",
       "      <td id=\"T_16fec_row6_col5\" class=\"data row6 col5\" > <a href=\"https://api.test.datacite.org/dois/10.83126/ukllc-dataset-00063-01/activities\" rel=\"noopener noreferrer\" target=\"_blank\">10.83126/ukllc-dataset-00063-01/activities</a></td>\n",
       "      <td id=\"T_16fec_row6_col6\" class=\"data row6 col6\" > <a href=\"https://api.test.datacite.org/dois/10.83126/ukllc-dataset-00060-01/activities\" rel=\"noopener noreferrer\" target=\"_blank\">10.83126/ukllc-dataset-00060-01/activities</a></td>\n",
       "      <td id=\"T_16fec_row6_col7\" class=\"data row6 col7\" > <a href=\"https://api.test.datacite.org/dois/10.83126/ukllc-dataset-00059-01/activities\" rel=\"noopener noreferrer\" target=\"_blank\">10.83126/ukllc-dataset-00059-01/activities</a></td>\n",
       "      <td id=\"T_16fec_row6_col8\" class=\"data row6 col8\" > <a href=\"https://api.test.datacite.org/dois/10.83126/ukllc-dataset-00058-01/activities\" rel=\"noopener noreferrer\" target=\"_blank\">10.83126/ukllc-dataset-00058-01/activities</a></td>\n",
       "      <td id=\"T_16fec_row6_col9\" class=\"data row6 col9\" > <a href=\"https://api.test.datacite.org/dois/10.83126/ukllc-dataset-00058-02/activities\" rel=\"noopener noreferrer\" target=\"_blank\">10.83126/ukllc-dataset-00058-02/activities</a></td>\n",
       "      <td id=\"T_16fec_row6_col10\" class=\"data row6 col10\" > <a href=\"https://api.test.datacite.org/dois/10.83126/ukllc-dataset-00064-02/activities\" rel=\"noopener noreferrer\" target=\"_blank\">10.83126/ukllc-dataset-00064-02/activities</a></td>\n",
       "      <td id=\"T_16fec_row6_col11\" class=\"data row6 col11\" > <a href=\"https://api.test.datacite.org/dois/10.83126/ukllc-dataset-00066-02/activities\" rel=\"noopener noreferrer\" target=\"_blank\">10.83126/ukllc-dataset-00066-02/activities</a></td>\n",
       "      <td id=\"T_16fec_row6_col12\" class=\"data row6 col12\" > <a href=\"https://api.test.datacite.org/dois/10.83126/ukllc-dataset-00065-02/activities\" rel=\"noopener noreferrer\" target=\"_blank\">10.83126/ukllc-dataset-00065-02/activities</a></td>\n",
       "    </tr>\n",
       "  </tbody>\n",
       "</table>\n"
      ],
      "text/plain": [
       "<pandas.io.formats.style.Styler at 0x184f5c9af90>"
      ]
     },
     "execution_count": 5,
     "metadata": {},
     "output_type": "execute_result"
    }
   ],
   "source": [
    "dss1 = md.get_md_api_dss()\n",
    "dss1[\"source_table\"] = dss1[\"source\"] + \"_\" + dss1[\"table\"]\n",
    "dsvs1 = md.get_md_api_dsvs()\n",
    "dsvs1 = dsvs1[dsvs1[\"source\"] == \"nhsd\"]\n",
    "dsvs1[\"source\"] = \"NHSE\"\n",
    "dsvs1[\"version_num\"] = dsvs1[\"version_num\"].fillna(\"v0001\")\n",
    "def rm_aux_dss(x):\n",
    "    if x.split(\"_\")[0] in [\"CSDS\", \"IAPT\", \"MHSDS\", \"HESOP\", \"HESAE\"]:\n",
    "        return x.split(\"_\")[0].upper()\n",
    "    else:\n",
    "        return x.upper()\n",
    "\n",
    "dsvs1[\"table\"] = dsvs1[\"table\"].apply(lambda x: rm_aux_dss(x))\n",
    "\n",
    "def rm_aux_dss_full(x):\n",
    "    if x.split(\"_\")[0] in [\"CSDS\", \"IAPT\", \"MHSDS\", \"HESOP\", \"HESAE\"]:\n",
    "        return x.split(\"_\")[0] + \"_\" + x.split(\"_\")[-1]\n",
    "    else:\n",
    "        return x\n",
    "\n",
    "dsvs1[\"table_full\"] = dsvs1[\"table_full\"].apply(lambda x: rm_aux_dss_full(x))\n",
    "dsvs1 = dsvs1.sort_values(\"num_columns\", ascending=False)\n",
    "dsvs1 = dsvs1.drop_duplicates(subset=[\"table_full\"])\n",
    "dsvs1[\"source_table\"] = dsvs1[\"source\"] + \"_\" + dsvs1[\"table\"]\n",
    "dsvs1[\"version_num\"] = dsvs1[\"version_num\"].\\\n",
    "    apply(lambda x: int(x.replace(\"v\", \"\")))\n",
    "\n",
    "def rename_reg_dss(table, vdate):\n",
    "    return table + \"_\" + str(int(vdate))\n",
    "dsvs1[\"table\"] = dsvs1.apply(lambda row: rename_reg_dss(row[\"table\"], row[\"version_date\"]) if row[\"table\"] in [\"CANCER\", \"DEMOGRAPHICS\", \"MORTALITY\"] else row[\"table\"], axis=1)\n",
    "\n",
    "def rename_reg_src_tbl(src, tbl):\n",
    "    return src + \"_\" + tbl\n",
    "dsvs1[\"source_table\"] = dsvs1.apply(lambda row: rename_reg_src_tbl(row[\"source\"], row[\"table\"]) if row[\"source_table\"] in [\"NHSE_CANCER\", \"NHSE_DEMOGRAPHICS\", \"NHSE_MORTALITY\"] else row[\"source_table\"], axis=1)\n",
    "\n",
    "def infill_vdates(vdate, vnum):\n",
    "        vdict = {1: 20221221.0, 2: 20230413.0, 3: 20240426.0}\n",
    "        if np.isnan(vdate):\n",
    "            return vdict[vnum]\n",
    "        else:\n",
    "            return vdate\n",
    "\n",
    "dsvs1[\"version_date\"] = dsvs1.apply(lambda row: infill_vdates(row[\"version_date\"], row[\"version_num\"]), axis=1)\n",
    "ds_dois = dcf.get_doi_datasets()\n",
    "ds_dois = ds_dois[ds_dois[\"state\"] == \"findable\"]\n",
    "ds_dois[\"source_table\"] = ds_dois[\"attributes.titles\"].apply(lambda x: x[1][\"title\"])\n",
    "ds_dois[\"attributes.version\"] = ds_dois[\"attributes.version\"].apply(lambda x: int(x))\n",
    "dsvsf = dsvs1.merge(ds_dois, left_on=[\"source_table\", \"version_num\"], right_on=[\"source_table\", \"attributes.version\"])[[\"source_table\", \"version_num\", \"version_date\", \"num_participants\", \"num_columns\", \"num_rows\", \"id\"]]\n",
    "if dataset == \"HESAPC\":\n",
    "    dsvs_i = dsvsf[dsvsf[\"source_table\"] == \"NHSE_\" + dataset]\n",
    "else:\n",
    "    dsvs_i = dsvsf[dsvsf[\"source_table\"].str.startswith(\"NHSE_\" + dataset)]\n",
    "\n",
    "dsvs_i = dsvs_i.sort_values(\"version_date\")\n",
    "\n",
    "\n",
    "dsvs_i[\"version_date\"] = dsvs_i[\"version_date\"].apply(lambda x: datetime.strftime(datetime.strptime(str(int(x)), \"%Y%m%d\"), \"%d %b %Y\"))\n",
    "dsvs_i[\"num_participants\"] = dsvs_i[\"num_participants\"].apply(lambda x: \"N/A\" if np.isnan(x) else int(x))\n",
    "dsvs_i[\"num_columns\"] = dsvs_i[\"num_columns\"].apply(lambda x: int(x))\n",
    "dsvs_i[\"num_rows\"] = dsvs_i[\"num_rows\"].apply(lambda x: int(x))\n",
    "dsvs_i[\"Change Log\"] = dsvs_i[\"id\"].apply(lambda x: md.make_hlink(\"https://api.test.datacite.org/dois/\" + x + \"/activities\", x + \"/activities\"))\n",
    "dsvs_i[\"id\"] = dsvs_i[\"id\"].apply(lambda x: md.make_hlink(\"https://doi.org/\" + x, x))\n",
    "\n",
    "if dataset in [\"CANCER\", \"MORTALITY\", \"DEMOGRAPHICS\"]:\n",
    "    dsvs_i[\"version_num\"] = dsvs_i.apply(lambda row: str(row[\"version_num\"]) + \" (\" + row[\"version_date\"] + \")\", axis=1)\n",
    "\n",
    "dsvs_i = dsvs_i.rename(columns = {\"source_table\": \"Name in TRE\", \"version_num\": \"Version Number\", \"version_date\": \"Version Date\", \"num_participants\": \"Participant Count\", \"num_columns\": \"Number of Variables\", \"num_rows\": \"Number of Observations\", \"id\": \"DOI\"}).set_index(\"Version Number\")\n",
    "dsvs_i_T = dsvs_i.T.reset_index().rename(columns={\"index\": \"Version\"})\n",
    "\n",
    "dh.DocHelper.style_table(\"_\", dsvs_i_T)"
   ]
  },
  {
   "cell_type": "code",
   "execution_count": 6,
   "id": "f7aa7fa2",
   "metadata": {},
   "outputs": [],
   "source": [
    "def ds_doi(ss, ds: str):\n",
    "    \"\"\"Returns UKLLC DOI of LPS dataset\n",
    "\n",
    "    Args:\n",
    "        x (str): dataset e.g. \"IAPT\" or \"HESCC\"\n",
    "\n",
    "    Returns:\n",
    "        str: UKLLC DOI of dataset or \"DOI TBC\" if none minted\n",
    "    \"\"\"\n",
    "\n",
    "    doi_ds = dcf.get_doi_datasets()[dcf.get_doi_datasets()[\"state\"] == \"findable\"]\n",
    "    doi_ds[\"source_table\"] = doi_ds[\"attributes.titles\"].apply(lambda x: x[1][\"title\"] if len(x) > 1 else \"NA\")\n",
    "\n",
    "    doi_ds = doi_ds[doi_ds[\"source_table\"] == ss + \"_\" + ds]\n",
    "    doi_ds = doi_ds.sort_values(by=\"attributes.version\", ascending=False).drop_duplicates(subset=\"source_table\")\n",
    "\n",
    "    if len(doi_ds) == 1:\n",
    "        return doi_ds.iloc[0][\"id\"]\n",
    "    else:\n",
    "        return \"DOI TBC\""
   ]
  },
  {
   "cell_type": "code",
   "execution_count": 7,
   "id": "884ca6a9",
   "metadata": {},
   "outputs": [
    {
     "ename": "NameError",
     "evalue": "name 'df' is not defined",
     "output_type": "error",
     "traceback": [
      "\u001b[31m---------------------------------------------------------------------------\u001b[39m",
      "\u001b[31mNameError\u001b[39m                                 Traceback (most recent call last)",
      "\u001b[36mCell\u001b[39m\u001b[36m \u001b[39m\u001b[32mIn[7]\u001b[39m\u001b[32m, line 1\u001b[39m\n\u001b[32m----> \u001b[39m\u001b[32m1\u001b[39m \u001b[43mdf\u001b[49m\n",
      "\u001b[31mNameError\u001b[39m: name 'df' is not defined"
     ]
    }
   ],
   "source": [
    "df"
   ]
  },
  {
   "cell_type": "code",
   "execution_count": null,
   "id": "54ede294",
   "metadata": {},
   "outputs": [
    {
     "data": {
      "text/plain": [
       "'DOI TBC'"
      ]
     },
     "execution_count": 11,
     "metadata": {},
     "output_type": "execute_result"
    }
   ],
   "source": [
    "ds_doi(\"ALSPAC\", \"serology1m\")"
   ]
  },
  {
   "cell_type": "code",
   "execution_count": null,
   "id": "4dc69991",
   "metadata": {},
   "outputs": [
    {
     "ename": "SyntaxError",
     "evalue": "'return' outside function (1914446212.py, line 7)",
     "output_type": "error",
     "traceback": [
      "  \u001b[36mCell\u001b[39m\u001b[36m \u001b[39m\u001b[32mIn[13]\u001b[39m\u001b[32m, line 7\u001b[39m\n\u001b[31m    \u001b[39m\u001b[31mreturn doi_ds.iloc[0][\"id\"]\u001b[39m\n    ^\n\u001b[31mSyntaxError\u001b[39m\u001b[31m:\u001b[39m 'return' outside function\n"
     ]
    }
   ],
   "source": [
    "doi_ds = dcf.get_doi_datasets()[dcf.get_doi_datasets()[\"state\"] == \"findable\"]\n",
    "doi_ds[\"source_table\"] = doi_ds[\"attributes.titles\"].apply(lambda x: x[1][\"title\"] if len(x) > 1 else \"NA\")\n",
    "\n",
    "doi_ds = doi_ds[doi_ds[\"source_table\"] == \"BCS70\" + \"_\" + \"bcs10_housing\"]\n",
    "\n",
    "if len(doi_ds) == 1:\n",
    "    return doi_ds.iloc[0][\"id\"]\n",
    "else:\n",
    "    return \"DOI TBC\""
   ]
  },
  {
   "cell_type": "code",
   "execution_count": null,
   "id": "6a0e82b4",
   "metadata": {},
   "outputs": [],
   "source": [
    "doi_ds = dcf.get_doi_datasets()[dcf.get_doi_datasets()[\"state\"] == \"findable\"]\n",
    "doi_ds[\"source_table\"] = doi_ds[\"attributes.titles\"].apply(lambda x: x[1][\"title\"] if len(x) > 1 else \"NA\")\n",
    "\n",
    "doi_ds = doi_ds[doi_ds[\"source_table\"] == \"BCS70\" + \"_\" + \"bcs10_housing\"]\n"
   ]
  },
  {
   "cell_type": "code",
   "execution_count": null,
   "id": "1c5a1309",
   "metadata": {},
   "outputs": [
    {
     "data": {
      "application/vnd.microsoft.datawrangler.viewer.v0+json": {
       "columns": [
        {
         "name": "index",
         "rawType": "int64",
         "type": "integer"
        },
        {
         "name": "id",
         "rawType": "object",
         "type": "string"
        },
        {
         "name": "attributes.titles",
         "rawType": "object",
         "type": "unknown"
        },
        {
         "name": "attributes.version",
         "rawType": "object",
         "type": "string"
        },
        {
         "name": "state",
         "rawType": "object",
         "type": "string"
        },
        {
         "name": "attributes.identifiers",
         "rawType": "object",
         "type": "unknown"
        },
        {
         "name": "creators",
         "rawType": "object",
         "type": "string"
        },
        {
         "name": "title",
         "rawType": "object",
         "type": "string"
        },
        {
         "name": "source_table",
         "rawType": "object",
         "type": "string"
        }
       ],
       "ref": "b628bfa3-37ea-429e-8702-b3954f109a11",
       "rows": [
        [
         "1",
         "10.83126/ukllc-dataset-00032-01",
         "[{'lang': None, 'title': '1970 British Cohort Study (BCS70): Age 46 Housing', 'titleType': None}, {'lang': None, 'title': 'BCS70_bcs10_housing', 'titleType': 'AlternativeTitle'}]",
         "1",
         "findable",
         "[{'identifier': 'BCS70', 'identifierType': 'UKLLC series'}]",
         "University College London, UCL Social Research Institute, Centre for Longitudinal Studies",
         "1970 British Cohort Study (BCS70): Age 46 Housing",
         "BCS70_bcs10_housing"
        ]
       ],
       "shape": {
        "columns": 8,
        "rows": 1
       }
      },
      "text/html": [
       "<div>\n",
       "<style scoped>\n",
       "    .dataframe tbody tr th:only-of-type {\n",
       "        vertical-align: middle;\n",
       "    }\n",
       "\n",
       "    .dataframe tbody tr th {\n",
       "        vertical-align: top;\n",
       "    }\n",
       "\n",
       "    .dataframe thead th {\n",
       "        text-align: right;\n",
       "    }\n",
       "</style>\n",
       "<table border=\"1\" class=\"dataframe\">\n",
       "  <thead>\n",
       "    <tr style=\"text-align: right;\">\n",
       "      <th></th>\n",
       "      <th>id</th>\n",
       "      <th>attributes.titles</th>\n",
       "      <th>attributes.version</th>\n",
       "      <th>state</th>\n",
       "      <th>attributes.identifiers</th>\n",
       "      <th>creators</th>\n",
       "      <th>title</th>\n",
       "      <th>source_table</th>\n",
       "    </tr>\n",
       "  </thead>\n",
       "  <tbody>\n",
       "    <tr>\n",
       "      <th>1</th>\n",
       "      <td>10.83126/ukllc-dataset-00032-01</td>\n",
       "      <td>[{'lang': None, 'title': '1970 British Cohort ...</td>\n",
       "      <td>1</td>\n",
       "      <td>findable</td>\n",
       "      <td>[{'identifier': 'BCS70', 'identifierType': 'UK...</td>\n",
       "      <td>University College London, UCL Social Research...</td>\n",
       "      <td>1970 British Cohort Study (BCS70): Age 46 Housing</td>\n",
       "      <td>BCS70_bcs10_housing</td>\n",
       "    </tr>\n",
       "  </tbody>\n",
       "</table>\n",
       "</div>"
      ],
      "text/plain": [
       "                                id  \\\n",
       "1  10.83126/ukllc-dataset-00032-01   \n",
       "\n",
       "                                   attributes.titles attributes.version  \\\n",
       "1  [{'lang': None, 'title': '1970 British Cohort ...                  1   \n",
       "\n",
       "      state                             attributes.identifiers  \\\n",
       "1  findable  [{'identifier': 'BCS70', 'identifierType': 'UK...   \n",
       "\n",
       "                                            creators  \\\n",
       "1  University College London, UCL Social Research...   \n",
       "\n",
       "                                               title         source_table  \n",
       "1  1970 British Cohort Study (BCS70): Age 46 Housing  BCS70_bcs10_housing  "
      ]
     },
     "execution_count": 15,
     "metadata": {},
     "output_type": "execute_result"
    }
   ],
   "source": [
    "doi_ds"
   ]
  },
  {
   "cell_type": "code",
   "execution_count": null,
   "id": "70c0d0ec",
   "metadata": {},
   "outputs": [
    {
     "ename": "ValueError",
     "evalue": "You are trying to merge on object and int64 columns for key 'version_num'. If you wish to proceed you should use pd.concat",
     "output_type": "error",
     "traceback": [
      "\u001b[31m---------------------------------------------------------------------------\u001b[39m",
      "\u001b[31mValueError\u001b[39m                                Traceback (most recent call last)",
      "\u001b[36mCell\u001b[39m\u001b[36m \u001b[39m\u001b[32mIn[14]\u001b[39m\u001b[32m, line 12\u001b[39m\n\u001b[32m      9\u001b[39m ds_dois[\u001b[33m\"\u001b[39m\u001b[33mattributes.version\u001b[39m\u001b[33m\"\u001b[39m] = ds_dois[\u001b[33m\"\u001b[39m\u001b[33mattributes.version\u001b[39m\u001b[33m\"\u001b[39m].apply(\u001b[38;5;28;01mlambda\u001b[39;00m x: \u001b[38;5;28mint\u001b[39m(x))\n\u001b[32m     10\u001b[39m ds_dois = ds_dois[ds_dois[\u001b[33m\"\u001b[39m\u001b[33msource_table\u001b[39m\u001b[33m\"\u001b[39m] == \u001b[33m\"\u001b[39m\u001b[33mBCS70\u001b[39m\u001b[33m\"\u001b[39m + \u001b[33m\"\u001b[39m\u001b[33m_\u001b[39m\u001b[33m\"\u001b[39m + \u001b[33m\"\u001b[39m\u001b[33mbcs10_housing\u001b[39m\u001b[33m\"\u001b[39m]\n\u001b[32m---> \u001b[39m\u001b[32m12\u001b[39m dsvs = \u001b[43mdsvs\u001b[49m\u001b[43m.\u001b[49m\u001b[43mmerge\u001b[49m\u001b[43m(\u001b[49m\u001b[43mds_dois\u001b[49m\u001b[43m,\u001b[49m\u001b[43m \u001b[49m\u001b[43mleft_on\u001b[49m\u001b[43m=\u001b[49m\u001b[43m[\u001b[49m\u001b[33;43m\"\u001b[39;49m\u001b[33;43msource_table\u001b[39;49m\u001b[33;43m\"\u001b[39;49m\u001b[43m,\u001b[49m\u001b[43m \u001b[49m\u001b[33;43m\"\u001b[39;49m\u001b[33;43mversion_num\u001b[39;49m\u001b[33;43m\"\u001b[39;49m\u001b[43m]\u001b[49m\u001b[43m,\u001b[49m\u001b[43m \u001b[49m\u001b[43mright_on\u001b[49m\u001b[43m=\u001b[49m\u001b[43m[\u001b[49m\u001b[33;43m\"\u001b[39;49m\u001b[33;43msource_table\u001b[39;49m\u001b[33;43m\"\u001b[39;49m\u001b[43m,\u001b[49m\u001b[43m \u001b[49m\u001b[33;43m\"\u001b[39;49m\u001b[33;43mattributes.version\u001b[39;49m\u001b[33;43m\"\u001b[39;49m\u001b[43m]\u001b[49m\u001b[43m)\u001b[49m[[\u001b[33m\"\u001b[39m\u001b[33msource_table\u001b[39m\u001b[33m\"\u001b[39m, \u001b[33m\"\u001b[39m\u001b[33mversion_num\u001b[39m\u001b[33m\"\u001b[39m, \u001b[33m\"\u001b[39m\u001b[33mversion_date\u001b[39m\u001b[33m\"\u001b[39m, \u001b[33m\"\u001b[39m\u001b[33mnum_participants\u001b[39m\u001b[33m\"\u001b[39m, \u001b[33m\"\u001b[39m\u001b[33mnum_columns\u001b[39m\u001b[33m\"\u001b[39m, \u001b[33m\"\u001b[39m\u001b[33mnum_rows\u001b[39m\u001b[33m\"\u001b[39m, \u001b[33m\"\u001b[39m\u001b[33mid\u001b[39m\u001b[33m\"\u001b[39m]]\n\u001b[32m     15\u001b[39m dsvs[\u001b[33m\"\u001b[39m\u001b[33mversion_num\u001b[39m\u001b[33m\"\u001b[39m] = dsvs[\u001b[33m\"\u001b[39m\u001b[33mversion_num\u001b[39m\u001b[33m\"\u001b[39m].apply(\n\u001b[32m     16\u001b[39m     \u001b[38;5;28;01mlambda\u001b[39;00m x: \u001b[33m\"\u001b[39m\u001b[33mVersion \u001b[39m\u001b[33m\"\u001b[39m + \u001b[38;5;28mstr\u001b[39m(\u001b[38;5;28mint\u001b[39m(x.split(\u001b[33m\"\u001b[39m\u001b[33mv\u001b[39m\u001b[33m\"\u001b[39m)[\u001b[32m1\u001b[39m])))\n\u001b[32m     17\u001b[39m dsvs[\u001b[33m\"\u001b[39m\u001b[33mversion_date\u001b[39m\u001b[33m\"\u001b[39m] = dsvs[\u001b[33m\"\u001b[39m\u001b[33mversion_date\u001b[39m\u001b[33m\"\u001b[39m].apply(\n\u001b[32m     18\u001b[39m     \u001b[38;5;28;01mlambda\u001b[39;00m x: datetime.strftime(datetime.strptime(\n\u001b[32m     19\u001b[39m         \u001b[38;5;28mstr\u001b[39m(\u001b[38;5;28mint\u001b[39m(x)), \u001b[33m\"\u001b[39m\u001b[33m%\u001b[39m\u001b[33mY\u001b[39m\u001b[33m%\u001b[39m\u001b[33mm\u001b[39m\u001b[38;5;132;01m%d\u001b[39;00m\u001b[33m\"\u001b[39m), \u001b[33m\"\u001b[39m\u001b[38;5;132;01m%d\u001b[39;00m\u001b[33m \u001b[39m\u001b[33m%\u001b[39m\u001b[33mb \u001b[39m\u001b[33m%\u001b[39m\u001b[33mY\u001b[39m\u001b[33m\"\u001b[39m))\n",
      "\u001b[36mFile \u001b[39m\u001b[32mc:\\Users\\sn9395\\.conda\\envs\\jupbook\\Lib\\site-packages\\pandas\\core\\frame.py:10832\u001b[39m, in \u001b[36mDataFrame.merge\u001b[39m\u001b[34m(self, right, how, on, left_on, right_on, left_index, right_index, sort, suffixes, copy, indicator, validate)\u001b[39m\n\u001b[32m  10813\u001b[39m \u001b[38;5;129m@Substitution\u001b[39m(\u001b[33m\"\u001b[39m\u001b[33m\"\u001b[39m)\n\u001b[32m  10814\u001b[39m \u001b[38;5;129m@Appender\u001b[39m(_merge_doc, indents=\u001b[32m2\u001b[39m)\n\u001b[32m  10815\u001b[39m \u001b[38;5;28;01mdef\u001b[39;00m\u001b[38;5;250m \u001b[39m\u001b[34mmerge\u001b[39m(\n\u001b[32m   (...)\u001b[39m\u001b[32m  10828\u001b[39m     validate: MergeValidate | \u001b[38;5;28;01mNone\u001b[39;00m = \u001b[38;5;28;01mNone\u001b[39;00m,\n\u001b[32m  10829\u001b[39m ) -> DataFrame:\n\u001b[32m  10830\u001b[39m     \u001b[38;5;28;01mfrom\u001b[39;00m\u001b[38;5;250m \u001b[39m\u001b[34;01mpandas\u001b[39;00m\u001b[34;01m.\u001b[39;00m\u001b[34;01mcore\u001b[39;00m\u001b[34;01m.\u001b[39;00m\u001b[34;01mreshape\u001b[39;00m\u001b[34;01m.\u001b[39;00m\u001b[34;01mmerge\u001b[39;00m\u001b[38;5;250m \u001b[39m\u001b[38;5;28;01mimport\u001b[39;00m merge\n\u001b[32m> \u001b[39m\u001b[32m10832\u001b[39m     \u001b[38;5;28;01mreturn\u001b[39;00m \u001b[43mmerge\u001b[49m\u001b[43m(\u001b[49m\n\u001b[32m  10833\u001b[39m \u001b[43m        \u001b[49m\u001b[38;5;28;43mself\u001b[39;49m\u001b[43m,\u001b[49m\n\u001b[32m  10834\u001b[39m \u001b[43m        \u001b[49m\u001b[43mright\u001b[49m\u001b[43m,\u001b[49m\n\u001b[32m  10835\u001b[39m \u001b[43m        \u001b[49m\u001b[43mhow\u001b[49m\u001b[43m=\u001b[49m\u001b[43mhow\u001b[49m\u001b[43m,\u001b[49m\n\u001b[32m  10836\u001b[39m \u001b[43m        \u001b[49m\u001b[43mon\u001b[49m\u001b[43m=\u001b[49m\u001b[43mon\u001b[49m\u001b[43m,\u001b[49m\n\u001b[32m  10837\u001b[39m \u001b[43m        \u001b[49m\u001b[43mleft_on\u001b[49m\u001b[43m=\u001b[49m\u001b[43mleft_on\u001b[49m\u001b[43m,\u001b[49m\n\u001b[32m  10838\u001b[39m \u001b[43m        \u001b[49m\u001b[43mright_on\u001b[49m\u001b[43m=\u001b[49m\u001b[43mright_on\u001b[49m\u001b[43m,\u001b[49m\n\u001b[32m  10839\u001b[39m \u001b[43m        \u001b[49m\u001b[43mleft_index\u001b[49m\u001b[43m=\u001b[49m\u001b[43mleft_index\u001b[49m\u001b[43m,\u001b[49m\n\u001b[32m  10840\u001b[39m \u001b[43m        \u001b[49m\u001b[43mright_index\u001b[49m\u001b[43m=\u001b[49m\u001b[43mright_index\u001b[49m\u001b[43m,\u001b[49m\n\u001b[32m  10841\u001b[39m \u001b[43m        \u001b[49m\u001b[43msort\u001b[49m\u001b[43m=\u001b[49m\u001b[43msort\u001b[49m\u001b[43m,\u001b[49m\n\u001b[32m  10842\u001b[39m \u001b[43m        \u001b[49m\u001b[43msuffixes\u001b[49m\u001b[43m=\u001b[49m\u001b[43msuffixes\u001b[49m\u001b[43m,\u001b[49m\n\u001b[32m  10843\u001b[39m \u001b[43m        \u001b[49m\u001b[43mcopy\u001b[49m\u001b[43m=\u001b[49m\u001b[43mcopy\u001b[49m\u001b[43m,\u001b[49m\n\u001b[32m  10844\u001b[39m \u001b[43m        \u001b[49m\u001b[43mindicator\u001b[49m\u001b[43m=\u001b[49m\u001b[43mindicator\u001b[49m\u001b[43m,\u001b[49m\n\u001b[32m  10845\u001b[39m \u001b[43m        \u001b[49m\u001b[43mvalidate\u001b[49m\u001b[43m=\u001b[49m\u001b[43mvalidate\u001b[49m\u001b[43m,\u001b[49m\n\u001b[32m  10846\u001b[39m \u001b[43m    \u001b[49m\u001b[43m)\u001b[49m\n",
      "\u001b[36mFile \u001b[39m\u001b[32mc:\\Users\\sn9395\\.conda\\envs\\jupbook\\Lib\\site-packages\\pandas\\core\\reshape\\merge.py:170\u001b[39m, in \u001b[36mmerge\u001b[39m\u001b[34m(left, right, how, on, left_on, right_on, left_index, right_index, sort, suffixes, copy, indicator, validate)\u001b[39m\n\u001b[32m    155\u001b[39m     \u001b[38;5;28;01mreturn\u001b[39;00m _cross_merge(\n\u001b[32m    156\u001b[39m         left_df,\n\u001b[32m    157\u001b[39m         right_df,\n\u001b[32m   (...)\u001b[39m\u001b[32m    167\u001b[39m         copy=copy,\n\u001b[32m    168\u001b[39m     )\n\u001b[32m    169\u001b[39m \u001b[38;5;28;01melse\u001b[39;00m:\n\u001b[32m--> \u001b[39m\u001b[32m170\u001b[39m     op = \u001b[43m_MergeOperation\u001b[49m\u001b[43m(\u001b[49m\n\u001b[32m    171\u001b[39m \u001b[43m        \u001b[49m\u001b[43mleft_df\u001b[49m\u001b[43m,\u001b[49m\n\u001b[32m    172\u001b[39m \u001b[43m        \u001b[49m\u001b[43mright_df\u001b[49m\u001b[43m,\u001b[49m\n\u001b[32m    173\u001b[39m \u001b[43m        \u001b[49m\u001b[43mhow\u001b[49m\u001b[43m=\u001b[49m\u001b[43mhow\u001b[49m\u001b[43m,\u001b[49m\n\u001b[32m    174\u001b[39m \u001b[43m        \u001b[49m\u001b[43mon\u001b[49m\u001b[43m=\u001b[49m\u001b[43mon\u001b[49m\u001b[43m,\u001b[49m\n\u001b[32m    175\u001b[39m \u001b[43m        \u001b[49m\u001b[43mleft_on\u001b[49m\u001b[43m=\u001b[49m\u001b[43mleft_on\u001b[49m\u001b[43m,\u001b[49m\n\u001b[32m    176\u001b[39m \u001b[43m        \u001b[49m\u001b[43mright_on\u001b[49m\u001b[43m=\u001b[49m\u001b[43mright_on\u001b[49m\u001b[43m,\u001b[49m\n\u001b[32m    177\u001b[39m \u001b[43m        \u001b[49m\u001b[43mleft_index\u001b[49m\u001b[43m=\u001b[49m\u001b[43mleft_index\u001b[49m\u001b[43m,\u001b[49m\n\u001b[32m    178\u001b[39m \u001b[43m        \u001b[49m\u001b[43mright_index\u001b[49m\u001b[43m=\u001b[49m\u001b[43mright_index\u001b[49m\u001b[43m,\u001b[49m\n\u001b[32m    179\u001b[39m \u001b[43m        \u001b[49m\u001b[43msort\u001b[49m\u001b[43m=\u001b[49m\u001b[43msort\u001b[49m\u001b[43m,\u001b[49m\n\u001b[32m    180\u001b[39m \u001b[43m        \u001b[49m\u001b[43msuffixes\u001b[49m\u001b[43m=\u001b[49m\u001b[43msuffixes\u001b[49m\u001b[43m,\u001b[49m\n\u001b[32m    181\u001b[39m \u001b[43m        \u001b[49m\u001b[43mindicator\u001b[49m\u001b[43m=\u001b[49m\u001b[43mindicator\u001b[49m\u001b[43m,\u001b[49m\n\u001b[32m    182\u001b[39m \u001b[43m        \u001b[49m\u001b[43mvalidate\u001b[49m\u001b[43m=\u001b[49m\u001b[43mvalidate\u001b[49m\u001b[43m,\u001b[49m\n\u001b[32m    183\u001b[39m \u001b[43m    \u001b[49m\u001b[43m)\u001b[49m\n\u001b[32m    184\u001b[39m     \u001b[38;5;28;01mreturn\u001b[39;00m op.get_result(copy=copy)\n",
      "\u001b[36mFile \u001b[39m\u001b[32mc:\\Users\\sn9395\\.conda\\envs\\jupbook\\Lib\\site-packages\\pandas\\core\\reshape\\merge.py:807\u001b[39m, in \u001b[36m_MergeOperation.__init__\u001b[39m\u001b[34m(self, left, right, how, on, left_on, right_on, left_index, right_index, sort, suffixes, indicator, validate)\u001b[39m\n\u001b[32m    803\u001b[39m \u001b[38;5;28mself\u001b[39m._validate_tolerance(\u001b[38;5;28mself\u001b[39m.left_join_keys)\n\u001b[32m    805\u001b[39m \u001b[38;5;66;03m# validate the merge keys dtypes. We may need to coerce\u001b[39;00m\n\u001b[32m    806\u001b[39m \u001b[38;5;66;03m# to avoid incompatible dtypes\u001b[39;00m\n\u001b[32m--> \u001b[39m\u001b[32m807\u001b[39m \u001b[38;5;28;43mself\u001b[39;49m\u001b[43m.\u001b[49m\u001b[43m_maybe_coerce_merge_keys\u001b[49m\u001b[43m(\u001b[49m\u001b[43m)\u001b[49m\n\u001b[32m    809\u001b[39m \u001b[38;5;66;03m# If argument passed to validate,\u001b[39;00m\n\u001b[32m    810\u001b[39m \u001b[38;5;66;03m# check if columns specified as unique\u001b[39;00m\n\u001b[32m    811\u001b[39m \u001b[38;5;66;03m# are in fact unique.\u001b[39;00m\n\u001b[32m    812\u001b[39m \u001b[38;5;28;01mif\u001b[39;00m validate \u001b[38;5;129;01mis\u001b[39;00m \u001b[38;5;129;01mnot\u001b[39;00m \u001b[38;5;28;01mNone\u001b[39;00m:\n",
      "\u001b[36mFile \u001b[39m\u001b[32mc:\\Users\\sn9395\\.conda\\envs\\jupbook\\Lib\\site-packages\\pandas\\core\\reshape\\merge.py:1508\u001b[39m, in \u001b[36m_MergeOperation._maybe_coerce_merge_keys\u001b[39m\u001b[34m(self)\u001b[39m\n\u001b[32m   1502\u001b[39m     \u001b[38;5;66;03m# unless we are merging non-string-like with string-like\u001b[39;00m\n\u001b[32m   1503\u001b[39m     \u001b[38;5;28;01melif\u001b[39;00m (\n\u001b[32m   1504\u001b[39m         inferred_left \u001b[38;5;129;01min\u001b[39;00m string_types \u001b[38;5;129;01mand\u001b[39;00m inferred_right \u001b[38;5;129;01mnot\u001b[39;00m \u001b[38;5;129;01min\u001b[39;00m string_types\n\u001b[32m   1505\u001b[39m     ) \u001b[38;5;129;01mor\u001b[39;00m (\n\u001b[32m   1506\u001b[39m         inferred_right \u001b[38;5;129;01min\u001b[39;00m string_types \u001b[38;5;129;01mand\u001b[39;00m inferred_left \u001b[38;5;129;01mnot\u001b[39;00m \u001b[38;5;129;01min\u001b[39;00m string_types\n\u001b[32m   1507\u001b[39m     ):\n\u001b[32m-> \u001b[39m\u001b[32m1508\u001b[39m         \u001b[38;5;28;01mraise\u001b[39;00m \u001b[38;5;167;01mValueError\u001b[39;00m(msg)\n\u001b[32m   1510\u001b[39m \u001b[38;5;66;03m# datetimelikes must match exactly\u001b[39;00m\n\u001b[32m   1511\u001b[39m \u001b[38;5;28;01melif\u001b[39;00m needs_i8_conversion(lk.dtype) \u001b[38;5;129;01mand\u001b[39;00m \u001b[38;5;129;01mnot\u001b[39;00m needs_i8_conversion(rk.dtype):\n",
      "\u001b[31mValueError\u001b[39m: You are trying to merge on object and int64 columns for key 'version_num'. If you wish to proceed you should use pd.concat"
     ]
    }
   ],
   "source": [
    "dsvs = md.get_md_api_dsvs()\n",
    "dsvs = dsvs[(dsvs[\"source\"] == \"BCS70\")\n",
    "            & (dsvs[\"table\"] == \"bcs10_housing\")]\n",
    "dsvs[\"source_table\"] = dsvs[\"source\"] + \"_\" + dsvs[\"table\"]\n",
    "\n",
    "ds_dois = dcf.get_doi_datasets()\n",
    "ds_dois = ds_dois[ds_dois[\"state\"] == \"findable\"]\n",
    "ds_dois[\"source_table\"] = ds_dois[\"attributes.titles\"].apply(lambda x: x[1][\"title\"])\n",
    "ds_dois[\"attributes.version\"] = ds_dois[\"attributes.version\"].apply(lambda x: int(x))\n",
    "ds_dois = ds_dois[ds_dois[\"source_table\"] == \"BCS70\" + \"_\" + \"bcs10_housing\"]\n",
    "\n",
    "dsvs = dsvs.merge(ds_dois, left_on=[\"source_table\", \"version_num\"], right_on=[\"source_table\", \"attributes.version\"])[[\"source_table\", \"version_num\", \"version_date\", \"num_participants\", \"num_columns\", \"num_rows\", \"id\"]]\n",
    "\n",
    "\n",
    "dsvs[\"version_num\"] = dsvs[\"version_num\"].apply(\n",
    "    lambda x: \"Version \" + str(int(x.split(\"v\")[1])))\n",
    "dsvs[\"version_date\"] = dsvs[\"version_date\"].apply(\n",
    "    lambda x: datetime.strftime(datetime.strptime(\n",
    "        str(int(x)), \"%Y%m%d\"), \"%d %b %Y\"))\n",
    "dsvs[\"num_columns\"] = dsvs[\"num_columns\"].apply(lambda x: int(x))\n",
    "dsvs[\"num_participants\"] = dsvs[\"num_participants\"].apply(\n",
    "    lambda x: int(x))\n",
    "\n",
    "dsvs2 = dsvs[[\"version_num\",\n",
    "                \"version_date\",\n",
    "                \"num_columns\",\n",
    "                \"num_participants\",\n",
    "                \"id\"]].rename(\n",
    "                columns={\n",
    "                    \"version_num\": \"Version Number\",\n",
    "                    \"version_date\": \"Version Date\",\n",
    "                    \"num_columns\": \"Number of Variables\",\n",
    "                    \"num_participants\": \"Number of Participants\",\n",
    "                    \"act\": \"Change Log\"}\n",
    "                    ).set_index(\"Version Number\")\n",
    "dsvs2.T"
   ]
  },
  {
   "cell_type": "code",
   "execution_count": 10,
   "id": "e8763a7f",
   "metadata": {},
   "outputs": [
    {
     "data": {
      "application/vnd.microsoft.datawrangler.viewer.v0+json": {
       "columns": [
        {
         "name": "index",
         "rawType": "object",
         "type": "string"
        },
        {
         "name": "1",
         "rawType": "object",
         "type": "unknown"
        }
       ],
       "ref": "9b9fc6c6-8aba-4501-8dd0-6baa767bedac",
       "rows": [
        [
         "Version Date",
         "20220531.0"
        ],
        [
         "Number of Variables",
         "20"
        ],
        [
         "Number of Participants",
         "679"
        ],
        [
         "DOI",
         "TBC"
        ],
        [
         "Change Log",
         "TBC"
        ]
       ],
       "shape": {
        "columns": 1,
        "rows": 5
       }
      },
      "text/html": [
       "<div>\n",
       "<style scoped>\n",
       "    .dataframe tbody tr th:only-of-type {\n",
       "        vertical-align: middle;\n",
       "    }\n",
       "\n",
       "    .dataframe tbody tr th {\n",
       "        vertical-align: top;\n",
       "    }\n",
       "\n",
       "    .dataframe thead th {\n",
       "        text-align: right;\n",
       "    }\n",
       "</style>\n",
       "<table border=\"1\" class=\"dataframe\">\n",
       "  <thead>\n",
       "    <tr style=\"text-align: right;\">\n",
       "      <th>Version Number</th>\n",
       "      <th>1</th>\n",
       "    </tr>\n",
       "  </thead>\n",
       "  <tbody>\n",
       "    <tr>\n",
       "      <th>Version Date</th>\n",
       "      <td>20220531.0</td>\n",
       "    </tr>\n",
       "    <tr>\n",
       "      <th>Number of Variables</th>\n",
       "      <td>20</td>\n",
       "    </tr>\n",
       "    <tr>\n",
       "      <th>Number of Participants</th>\n",
       "      <td>679</td>\n",
       "    </tr>\n",
       "    <tr>\n",
       "      <th>DOI</th>\n",
       "      <td>TBC</td>\n",
       "    </tr>\n",
       "    <tr>\n",
       "      <th>Change Log</th>\n",
       "      <td>TBC</td>\n",
       "    </tr>\n",
       "  </tbody>\n",
       "</table>\n",
       "</div>"
      ],
      "text/plain": [
       "Version Number                   1\n",
       "Version Date            20220531.0\n",
       "Number of Variables             20\n",
       "Number of Participants         679\n",
       "DOI                            TBC\n",
       "Change Log                     TBC"
      ]
     },
     "execution_count": 10,
     "metadata": {},
     "output_type": "execute_result"
    }
   ],
   "source": [
    "dsvs = md.get_md_api_dsvs()\n",
    "dsvs = dsvs[(dsvs[\"source\"] == \"ALSPAC\")\n",
    "            & (dsvs[\"table\"] == \"serology1m\")]\n",
    "dsvs[\"source_table\"] = dsvs[\"source\"] + \"_\" + dsvs[\"table\"]\n",
    "dsvs[\"version_num\"] = dsvs[\"version_num\"].\\\n",
    "    apply(lambda x: int(x.replace(\"v\", \"\")))\n",
    "\n",
    "ds_dois = dcf.get_doi_datasets()\n",
    "ds_dois = ds_dois[ds_dois[\"state\"] == \"findable\"]\n",
    "ds_dois[\"source_table\"] = ds_dois[\"attributes.titles\"].apply(lambda x: x[1][\"title\"])\n",
    "ds_dois[\"attributes.version\"] = ds_dois[\"attributes.version\"].apply(lambda x: int(x))\n",
    "ds_dois = ds_dois[ds_dois[\"source_table\"] == \"BCS70\" + \"_\" + \"bcs10_housing\"]\n",
    "\n",
    "dsvs2 = dsvs.merge(ds_dois, how=\"left\", left_on=[\"source_table\", \"version_num\"], right_on=[\"source_table\", \"attributes.version\"])[[\"source_table\", \"version_num\", \"version_date\", \"num_participants\", \"num_columns\", \"num_rows\", \"id\"]]\n",
    "\n",
    "dsvs2[\"id\"] = dsvs2[\"id\"].fillna(\"TBC\")\n",
    "dsvs2[\"act\"] = dsvs2[\"id\"].apply(lambda x: \"TBC\" if x == \"TBC\" else x + \"/activites\")\n",
    "dsvs2[\"num_participants\"] = dsvs2[\"num_participants\"].apply(lambda x: \"N/A\" if np.isnan(x) else int(x))\n",
    "dsvs2[\"num_columns\"] = dsvs2[\"num_columns\"].apply(lambda x: int(x))\n",
    "dsvs2[\"num_rows\"] = dsvs2[\"num_rows\"].apply(lambda x: int(x))\n",
    "\n",
    "dsvs2 = dsvs2[[\"version_num\",\n",
    "                \"version_date\",\n",
    "                \"num_columns\",\n",
    "                \"num_participants\",\n",
    "                \"id\",\n",
    "                \"act\"]].rename(\n",
    "                columns={\n",
    "                    \"version_num\": \"Version Number\",\n",
    "                    \"version_date\": \"Version Date\",\n",
    "                    \"num_columns\": \"Number of Variables\",\n",
    "                    \"num_participants\": \"Number of Participants\",\n",
    "                    \"id\": \"DOI\",\n",
    "                    \"act\": \"Change Log\"}\n",
    "                    ).set_index(\"Version Number\")\n",
    "dsvs2.T"
   ]
  },
  {
   "cell_type": "code",
   "execution_count": 9,
   "id": "9008739d",
   "metadata": {},
   "outputs": [
    {
     "data": {
      "application/vnd.microsoft.datawrangler.viewer.v0+json": {
       "columns": [
        {
         "name": "index",
         "rawType": "int64",
         "type": "integer"
        },
        {
         "name": "source_table",
         "rawType": "object",
         "type": "string"
        },
        {
         "name": "version_num",
         "rawType": "int64",
         "type": "integer"
        },
        {
         "name": "version_date",
         "rawType": "float64",
         "type": "float"
        },
        {
         "name": "num_participants",
         "rawType": "float64",
         "type": "float"
        },
        {
         "name": "num_columns",
         "rawType": "float64",
         "type": "float"
        },
        {
         "name": "num_rows",
         "rawType": "float64",
         "type": "float"
        },
        {
         "name": "id",
         "rawType": "object",
         "type": "string"
        },
        {
         "name": "act",
         "rawType": "object",
         "type": "string"
        }
       ],
       "ref": "c3cd363e-b991-436d-bb50-d0945334dc17",
       "rows": [
        [
         "0",
         "ALSPAC_serology1m",
         "1",
         "20220531.0",
         "679.0",
         "20.0",
         "4978.0",
         "TBC",
         "TBC"
        ]
       ],
       "shape": {
        "columns": 8,
        "rows": 1
       }
      },
      "text/html": [
       "<div>\n",
       "<style scoped>\n",
       "    .dataframe tbody tr th:only-of-type {\n",
       "        vertical-align: middle;\n",
       "    }\n",
       "\n",
       "    .dataframe tbody tr th {\n",
       "        vertical-align: top;\n",
       "    }\n",
       "\n",
       "    .dataframe thead th {\n",
       "        text-align: right;\n",
       "    }\n",
       "</style>\n",
       "<table border=\"1\" class=\"dataframe\">\n",
       "  <thead>\n",
       "    <tr style=\"text-align: right;\">\n",
       "      <th></th>\n",
       "      <th>source_table</th>\n",
       "      <th>version_num</th>\n",
       "      <th>version_date</th>\n",
       "      <th>num_participants</th>\n",
       "      <th>num_columns</th>\n",
       "      <th>num_rows</th>\n",
       "      <th>id</th>\n",
       "      <th>act</th>\n",
       "    </tr>\n",
       "  </thead>\n",
       "  <tbody>\n",
       "    <tr>\n",
       "      <th>0</th>\n",
       "      <td>ALSPAC_serology1m</td>\n",
       "      <td>1</td>\n",
       "      <td>20220531.0</td>\n",
       "      <td>679.0</td>\n",
       "      <td>20.0</td>\n",
       "      <td>4978.0</td>\n",
       "      <td>TBC</td>\n",
       "      <td>TBC</td>\n",
       "    </tr>\n",
       "  </tbody>\n",
       "</table>\n",
       "</div>"
      ],
      "text/plain": [
       "        source_table  version_num  version_date  num_participants  \\\n",
       "0  ALSPAC_serology1m            1    20220531.0             679.0   \n",
       "\n",
       "   num_columns  num_rows   id  act  \n",
       "0         20.0    4978.0  TBC  TBC  "
      ]
     },
     "execution_count": 9,
     "metadata": {},
     "output_type": "execute_result"
    }
   ],
   "source": [
    "dsvs = md.get_md_api_dsvs()\n",
    "dsvs = dsvs[(dsvs[\"source\"] == \"ALSPAC\")\n",
    "            & (dsvs[\"table\"] == \"serology1m\")]\n",
    "dsvs[\"source_table\"] = dsvs[\"source\"] + \"_\" + dsvs[\"table\"]\n",
    "dsvs[\"version_num\"] = dsvs[\"version_num\"].\\\n",
    "    apply(lambda x: int(x.replace(\"v\", \"\")))\n",
    "\n",
    "ds_dois = dcf.get_doi_datasets()\n",
    "ds_dois = ds_dois[ds_dois[\"state\"] == \"findable\"]\n",
    "ds_dois[\"source_table\"] = ds_dois[\"attributes.titles\"].apply(lambda x: x[1][\"title\"])\n",
    "ds_dois[\"attributes.version\"] = ds_dois[\"attributes.version\"].apply(lambda x: int(x))\n",
    "ds_dois = ds_dois[ds_dois[\"source_table\"] == \"BCS70\" + \"_\" + \"bcs10_housing\"]\n",
    "\n",
    "dsvs2 = dsvs.merge(ds_dois, how=\"left\", left_on=[\"source_table\", \"version_num\"], right_on=[\"source_table\", \"attributes.version\"])[[\"source_table\", \"version_num\", \"version_date\", \"num_participants\", \"num_columns\", \"num_rows\", \"id\"]]\n",
    "\n",
    "dsvs2[\"id\"] = dsvs2[\"id\"].fillna(\"TBC\")\n",
    "dsvs2[\"act\"] = dsvs2[\"id\"].apply(lambda x: \"TBC\" if x == \"TBC\" else x + \"/activites\")\n",
    "dsvs2"
   ]
  },
  {
   "cell_type": "code",
   "execution_count": null,
   "id": "e30f653d",
   "metadata": {},
   "outputs": [
    {
     "data": {
      "application/javascript": "'use strict';\n(function(root) {\n  function now() {\n    return new Date();\n  }\n\n  const force = true;\n\n  if (typeof root._bokeh_onload_callbacks === \"undefined\" || force === true) {\n    root._bokeh_onload_callbacks = [];\n    root._bokeh_is_loading = undefined;\n  }\n\nconst JS_MIME_TYPE = 'application/javascript';\n  const HTML_MIME_TYPE = 'text/html';\n  const EXEC_MIME_TYPE = 'application/vnd.bokehjs_exec.v0+json';\n  const CLASS_NAME = 'output_bokeh rendered_html';\n\n  /**\n   * Render data to the DOM node\n   */\n  function render(props, node) {\n    const script = document.createElement(\"script\");\n    node.appendChild(script);\n  }\n\n  /**\n   * Handle when an output is cleared or removed\n   */\n  function handleClearOutput(event, handle) {\n    function drop(id) {\n      const view = Bokeh.index.get_by_id(id)\n      if (view != null) {\n        view.model.document.clear()\n        Bokeh.index.delete(view)\n      }\n    }\n\n    const cell = handle.cell;\n\n    const id = cell.output_area._bokeh_element_id;\n    const server_id = cell.output_area._bokeh_server_id;\n\n    // Clean up Bokeh references\n    if (id != null) {\n      drop(id)\n    }\n\n    if (server_id !== undefined) {\n      // Clean up Bokeh references\n      const cmd_clean = \"from bokeh.io.state import curstate; print(curstate().uuid_to_server['\" + server_id + \"'].get_sessions()[0].document.roots[0]._id)\";\n      cell.notebook.kernel.execute(cmd_clean, {\n        iopub: {\n          output: function(msg) {\n            const id = msg.content.text.trim()\n            drop(id)\n          }\n        }\n      });\n      // Destroy server and session\n      const cmd_destroy = \"import bokeh.io.notebook as ion; ion.destroy_server('\" + server_id + \"')\";\n      cell.notebook.kernel.execute(cmd_destroy);\n    }\n  }\n\n  /**\n   * Handle when a new output is added\n   */\n  function handleAddOutput(event, handle) {\n    const output_area = handle.output_area;\n    const output = handle.output;\n\n    // limit handleAddOutput to display_data with EXEC_MIME_TYPE content only\n    if ((output.output_type != \"display_data\") || (!Object.prototype.hasOwnProperty.call(output.data, EXEC_MIME_TYPE))) {\n      return\n    }\n\n    const toinsert = output_area.element.find(\".\" + CLASS_NAME.split(' ')[0]);\n\n    if (output.metadata[EXEC_MIME_TYPE][\"id\"] !== undefined) {\n      toinsert[toinsert.length - 1].firstChild.textContent = output.data[JS_MIME_TYPE];\n      // store reference to embed id on output_area\n      output_area._bokeh_element_id = output.metadata[EXEC_MIME_TYPE][\"id\"];\n    }\n    if (output.metadata[EXEC_MIME_TYPE][\"server_id\"] !== undefined) {\n      const bk_div = document.createElement(\"div\");\n      bk_div.innerHTML = output.data[HTML_MIME_TYPE];\n      const script_attrs = bk_div.children[0].attributes;\n      for (let i = 0; i < script_attrs.length; i++) {\n        toinsert[toinsert.length - 1].firstChild.setAttribute(script_attrs[i].name, script_attrs[i].value);\n        toinsert[toinsert.length - 1].firstChild.textContent = bk_div.children[0].textContent\n      }\n      // store reference to server id on output_area\n      output_area._bokeh_server_id = output.metadata[EXEC_MIME_TYPE][\"server_id\"];\n    }\n  }\n\n  function register_renderer(events, OutputArea) {\n\n    function append_mime(data, metadata, element) {\n      // create a DOM node to render to\n      const toinsert = this.create_output_subarea(\n        metadata,\n        CLASS_NAME,\n        EXEC_MIME_TYPE\n      );\n      this.keyboard_manager.register_events(toinsert);\n      // Render to node\n      const props = {data: data, metadata: metadata[EXEC_MIME_TYPE]};\n      render(props, toinsert[toinsert.length - 1]);\n      element.append(toinsert);\n      return toinsert\n    }\n\n    /* Handle when an output is cleared or removed */\n    events.on('clear_output.CodeCell', handleClearOutput);\n    events.on('delete.Cell', handleClearOutput);\n\n    /* Handle when a new output is added */\n    events.on('output_added.OutputArea', handleAddOutput);\n\n    /**\n     * Register the mime type and append_mime function with output_area\n     */\n    OutputArea.prototype.register_mime_type(EXEC_MIME_TYPE, append_mime, {\n      /* Is output safe? */\n      safe: true,\n      /* Index of renderer in `output_area.display_order` */\n      index: 0\n    });\n  }\n\n  // register the mime type if in Jupyter Notebook environment and previously unregistered\n  if (root.Jupyter !== undefined) {\n    const events = require('base/js/events');\n    const OutputArea = require('notebook/js/outputarea').OutputArea;\n\n    if (OutputArea.prototype.mime_types().indexOf(EXEC_MIME_TYPE) == -1) {\n      register_renderer(events, OutputArea);\n    }\n  }\n  if (typeof (root._bokeh_timeout) === \"undefined\" || force === true) {\n    root._bokeh_timeout = Date.now() + 5000;\n    root._bokeh_failed_load = false;\n  }\n\n  const NB_LOAD_WARNING = {'data': {'text/html':\n     \"<div style='background-color: #fdd'>\\n\"+\n     \"<p>\\n\"+\n     \"BokehJS does not appear to have successfully loaded. If loading BokehJS from CDN, this \\n\"+\n     \"may be due to a slow or bad network connection. Possible fixes:\\n\"+\n     \"</p>\\n\"+\n     \"<ul>\\n\"+\n     \"<li>re-rerun `output_notebook()` to attempt to load from CDN again, or</li>\\n\"+\n     \"<li>use INLINE resources instead, as so:</li>\\n\"+\n     \"</ul>\\n\"+\n     \"<code>\\n\"+\n     \"from bokeh.resources import INLINE\\n\"+\n     \"output_notebook(resources=INLINE)\\n\"+\n     \"</code>\\n\"+\n     \"</div>\"}};\n\n  function display_loaded(error = null) {\n    const el = document.getElementById(null);\n    if (el != null) {\n      const html = (() => {\n        if (typeof root.Bokeh === \"undefined\") {\n          if (error == null) {\n            return \"BokehJS is loading ...\";\n          } else {\n            return \"BokehJS failed to load.\";\n          }\n        } else {\n          const prefix = `BokehJS ${root.Bokeh.version}`;\n          if (error == null) {\n            return `${prefix} successfully loaded.`;\n          } else {\n            return `${prefix} <b>encountered errors</b> while loading and may not function as expected.`;\n          }\n        }\n      })();\n      el.innerHTML = html;\n\n      if (error != null) {\n        const wrapper = document.createElement(\"div\");\n        wrapper.style.overflow = \"auto\";\n        wrapper.style.height = \"5em\";\n        wrapper.style.resize = \"vertical\";\n        const content = document.createElement(\"div\");\n        content.style.fontFamily = \"monospace\";\n        content.style.whiteSpace = \"pre-wrap\";\n        content.style.backgroundColor = \"rgb(255, 221, 221)\";\n        content.textContent = error.stack ?? error.toString();\n        wrapper.append(content);\n        el.append(wrapper);\n      }\n    } else if (Date.now() < root._bokeh_timeout) {\n      setTimeout(() => display_loaded(error), 100);\n    }\n  }\n\n  function run_callbacks() {\n    try {\n      root._bokeh_onload_callbacks.forEach(function(callback) {\n        if (callback != null)\n          callback();\n      });\n    } finally {\n      delete root._bokeh_onload_callbacks\n    }\n    console.debug(\"Bokeh: all callbacks have finished\");\n  }\n\n  function load_libs(css_urls, js_urls, callback) {\n    if (css_urls == null) css_urls = [];\n    if (js_urls == null) js_urls = [];\n\n    root._bokeh_onload_callbacks.push(callback);\n    if (root._bokeh_is_loading > 0) {\n      console.debug(\"Bokeh: BokehJS is being loaded, scheduling callback at\", now());\n      return null;\n    }\n    if (js_urls == null || js_urls.length === 0) {\n      run_callbacks();\n      return null;\n    }\n    console.debug(\"Bokeh: BokehJS not loaded, scheduling load and callback at\", now());\n    root._bokeh_is_loading = css_urls.length + js_urls.length;\n\n    function on_load() {\n      root._bokeh_is_loading--;\n      if (root._bokeh_is_loading === 0) {\n        console.debug(\"Bokeh: all BokehJS libraries/stylesheets loaded\");\n        run_callbacks()\n      }\n    }\n\n    function on_error(url) {\n      console.error(\"failed to load \" + url);\n    }\n\n    for (let i = 0; i < css_urls.length; i++) {\n      const url = css_urls[i];\n      const element = document.createElement(\"link\");\n      element.onload = on_load;\n      element.onerror = on_error.bind(null, url);\n      element.rel = \"stylesheet\";\n      element.type = \"text/css\";\n      element.href = url;\n      console.debug(\"Bokeh: injecting link tag for BokehJS stylesheet: \", url);\n      document.body.appendChild(element);\n    }\n\n    for (let i = 0; i < js_urls.length; i++) {\n      const url = js_urls[i];\n      const element = document.createElement('script');\n      element.onload = on_load;\n      element.onerror = on_error.bind(null, url);\n      element.async = false;\n      element.src = url;\n      console.debug(\"Bokeh: injecting script tag for BokehJS library: \", url);\n      document.head.appendChild(element);\n    }\n  };\n\n  function inject_raw_css(css) {\n    const element = document.createElement(\"style\");\n    element.appendChild(document.createTextNode(css));\n    document.body.appendChild(element);\n  }\n\n  const js_urls = [\"https://cdn.bokeh.org/bokeh/release/bokeh-3.7.2.min.js\", \"https://cdn.bokeh.org/bokeh/release/bokeh-gl-3.7.2.min.js\", \"https://cdn.bokeh.org/bokeh/release/bokeh-widgets-3.7.2.min.js\", \"https://cdn.bokeh.org/bokeh/release/bokeh-tables-3.7.2.min.js\", \"https://cdn.bokeh.org/bokeh/release/bokeh-mathjax-3.7.2.min.js\"];\n  const css_urls = [];\n\n  const inline_js = [    function(Bokeh) {\n      Bokeh.set_log_level(\"info\");\n    },\nfunction(Bokeh) {\n    }\n  ];\n\n  function run_inline_js() {\n    if (root.Bokeh !== undefined || force === true) {\n      try {\n            for (let i = 0; i < inline_js.length; i++) {\n      inline_js[i].call(root, root.Bokeh);\n    }\n\n      } catch (error) {throw error;\n      }} else if (Date.now() < root._bokeh_timeout) {\n      setTimeout(run_inline_js, 100);\n    } else if (!root._bokeh_failed_load) {\n      console.log(\"Bokeh: BokehJS failed to load within specified timeout.\");\n      root._bokeh_failed_load = true;\n    } else if (force !== true) {\n      const cell = $(document.getElementById(null)).parents('.cell').data().cell;\n      cell.output_area.append_execute_result(NB_LOAD_WARNING)\n    }\n  }\n\n  if (root._bokeh_is_loading === 0) {\n    console.debug(\"Bokeh: BokehJS loaded, going straight to plotting\");\n    run_inline_js();\n  } else {\n    load_libs(css_urls, js_urls, function() {\n      console.debug(\"Bokeh: BokehJS plotting callback run at\", now());\n      run_inline_js();\n    });\n  }\n}(window));",
      "application/vnd.bokehjs_load.v0+json": ""
     },
     "metadata": {},
     "output_type": "display_data"
    },
    {
     "name": "stdout",
     "output_type": "stream",
     "text": [
      "HESAPC_ACP\n"
     ]
    },
    {
     "data": {
      "text/markdown": [
       "Click on the plus sign to see the number of participants represented in each dataset."
      ],
      "text/plain": [
       "<IPython.core.display.Markdown object>"
      ]
     },
     "metadata": {},
     "output_type": "display_data"
    },
    {
     "data": {
      "text/markdown": [
       "**Table 2:** Participants from each LPS represented in the HESAPC_ACP dataset in the UK LLC TRE. **Note:** Individual cohort counts of less than 10 are suppressed to <10 and excluded from total participant counts for datasets."
      ],
      "text/plain": [
       "<IPython.core.display.Markdown object>"
      ]
     },
     "metadata": {},
     "output_type": "display_data"
    },
    {
     "data": {
      "text/html": [
       "\n",
       "  <div id=\"cdcdc807-538d-4286-af2d-4afaa68ce6df\" data-root-id=\"p1017\" style=\"display: contents;\"></div>\n"
      ]
     },
     "metadata": {},
     "output_type": "display_data"
    },
    {
     "data": {
      "application/javascript": "(function(root) {\n  function embed_document(root) {\n  const docs_json = {\"3e72ac50-c001-46c9-a85b-001b97cfd6cb\":{\"version\":\"3.7.2\",\"title\":\"Bokeh Application\",\"roots\":[{\"type\":\"object\",\"name\":\"DataCube\",\"id\":\"p1017\",\"attributes\":{\"source\":{\"type\":\"object\",\"name\":\"ColumnDataSource\",\"id\":\"p1001\",\"attributes\":{\"selected\":{\"type\":\"object\",\"name\":\"Selection\",\"id\":\"p1002\",\"attributes\":{\"indices\":[],\"line_indices\":[]}},\"selection_policy\":{\"type\":\"object\",\"name\":\"UnionRenderers\",\"id\":\"p1003\"},\"data\":{\"type\":\"map\",\"entries\":[[\"d0\",[\"HESAPC_ACP\",\"HESAPC_ACP\",\"HESAPC_ACP\",\"HESAPC_ACP\",\"HESAPC_ACP\",\"HESAPC_ACP\",\"HESAPC_ACP\",\"HESAPC_ACP\",\"HESAPC_ACP\",\"HESAPC_ACP\",\"HESAPC_ACP\",\"HESAPC_ACP\",\"HESAPC_ACP\",\"HESAPC_ACP\",\"HESAPC_ACP\",\"HESAPC_ACP\",\"HESAPC_ACP\"]],[\"d1\",[\"ALSPAC\",\"BCS70\",\"BIB\",\"ELSA\",\"EPICN\",\"EXCEED\",\"FENLAND\",\"GLAD\",\"MCS\",\"NCDS58\",\"NEXTSTEP\",\"NIHRBIO_COPING\",\"NSHD46\",\"TEDS\",\"TRACKC19\",\"TWINSUK\",\"UKHLS\"]],[\"px\",[{\"type\":\"number\",\"value\":\"nan\"},65.0,424.0,124.0,639.0,75.0,76.0,611.0,293.0,65.0,27.0,205.0,119.0,34.0,28.0,244.0,73.0]]]}}},\"view\":{\"type\":\"object\",\"name\":\"CDSView\",\"id\":\"p1021\",\"attributes\":{\"filter\":{\"type\":\"object\",\"name\":\"AllIndices\",\"id\":\"p1022\"}}},\"columns\":[{\"type\":\"object\",\"name\":\"TableColumn\",\"id\":\"p1008\",\"attributes\":{\"field\":\"d1\",\"title\":\"HESAPC_ACP Dataset\",\"width\":80,\"formatter\":{\"type\":\"object\",\"name\":\"StringFormatter\",\"id\":\"p1007\",\"attributes\":{\"font_style\":{\"type\":\"value\",\"value\":\"bold\"}}},\"editor\":{\"type\":\"object\",\"name\":\"StringEditor\",\"id\":\"p1010\"},\"sortable\":false}},{\"type\":\"object\",\"name\":\"TableColumn\",\"id\":\"p1012\",\"attributes\":{\"field\":\"px\",\"title\":\"Participant Count\",\"width\":40,\"formatter\":{\"type\":\"object\",\"name\":\"StringFormatter\",\"id\":\"p1011\",\"attributes\":{\"text_align\":{\"type\":\"value\",\"value\":\"right\"},\"nan_format\":\"<10\"}},\"editor\":{\"type\":\"object\",\"name\":\"StringEditor\",\"id\":\"p1014\"},\"sortable\":false}}],\"grouping\":[{\"type\":\"object\",\"name\":\"GroupingInfo\",\"id\":\"p1016\",\"attributes\":{\"getter\":\"d0\",\"aggregators\":[{\"type\":\"object\",\"name\":\"SumAggregator\",\"id\":\"p1015\",\"attributes\":{\"field_\":\"px\"}}]}}],\"target\":{\"type\":\"object\",\"name\":\"ColumnDataSource\",\"id\":\"p1004\",\"attributes\":{\"selected\":{\"type\":\"object\",\"name\":\"Selection\",\"id\":\"p1005\",\"attributes\":{\"indices\":[],\"line_indices\":[]}},\"selection_policy\":{\"type\":\"object\",\"name\":\"UnionRenderers\",\"id\":\"p1006\"},\"data\":{\"type\":\"map\",\"entries\":[[\"row_indices\",[]],[\"labels\",[]]]}}}}}]}};\n  const render_items = [{\"docid\":\"3e72ac50-c001-46c9-a85b-001b97cfd6cb\",\"roots\":{\"p1017\":\"cdcdc807-538d-4286-af2d-4afaa68ce6df\"},\"root_ids\":[\"p1017\"]}];\n  void root.Bokeh.embed.embed_items_notebook(docs_json, render_items);\n  }\n  if (root.Bokeh !== undefined) {\n    embed_document(root);\n  } else {\n    let attempts = 0;\n    const timer = setInterval(function(root) {\n      if (root.Bokeh !== undefined) {\n        clearInterval(timer);\n        embed_document(root);\n      } else {\n        attempts++;\n        if (attempts > 100) {\n          clearInterval(timer);\n          console.log(\"Bokeh: ERROR: Unable to run BokehJS code because BokehJS library is missing\");\n        }\n      }\n    }, 10, root)\n  }\n})(window);",
      "application/vnd.bokehjs_exec.v0+json": ""
     },
     "metadata": {
      "application/vnd.bokehjs_exec.v0+json": {
       "id": "p1017"
      }
     },
     "output_type": "display_data"
    }
   ],
   "source": [
    "output_notebook(hide_banner=True)\n",
    "df = md.get_md_api_dsvs()\n",
    "def fix_hes(x):\n",
    "    if x in [\"HESAPC_acp\", \"HESAPC_mat\"]:\n",
    "        return x.upper()\n",
    "    else:\n",
    "        return x\n",
    "df[\"table\"] = df[\"table\"].apply(lambda x: fix_hes(x))\n",
    "df = df[(df[\"source\"] == \"nhsd\") & (df[\"table\"].str.startswith(\"HESAPC_ACP\"))].drop_duplicates(subset=\"table\")\n",
    "\n",
    "df = df[~df[\"table\"].isin([\"MHSDS_MHS003AccommStatus\", \"MHSDS_MHS104RTT\", \"MHSDS_MHS301GroupSession\", \"MHSDS_MHS901StaffDetails\", \"CSDS_group_sessions\"])]\n",
    "\n",
    "tbl_names = []\n",
    "metrics_tables = []\n",
    "\n",
    "for i in range(0, len(df)):\n",
    "    print(df.iloc[i][\"table\"])\n",
    "    dfcc = md.get_nhse_cohort_counts(df.iloc[i][\"table\"])\n",
    "    dfcc = dfcc[~dfcc['cohort'].isin(['GENSCOT', 'NICOLA', 'SABRE'])]\n",
    "    tbl_names += len(dfcc) * [df.iloc[i][\"table\"]]\n",
    "    dfcc[\"count\"] = dfcc[\"count\"].replace(\"<10\", np.nan).astype(float)\n",
    "    metrics_tables.append(dfcc)\n",
    "\n",
    "source = ColumnDataSource(data=dict(\n",
    "    d0=tbl_names,\n",
    "    d1=pd.concat(metrics_tables)[\"cohort\"].to_list(),\n",
    "    px=pd.concat(metrics_tables)[\"count\"].to_list(),\n",
    "))\n",
    "\n",
    "target = ColumnDataSource(data=dict(row_indices=[], labels=[]))\n",
    "\n",
    "formatter = StringFormatter(font_style='bold')\n",
    "\n",
    "columns = [\n",
    "    TableColumn(field='d1', title='{} Dataset'.format(\"HESAPC_ACP\"), width=80, sortable=False, formatter=formatter),\n",
    "    TableColumn(field='px', title='Participant Count', width=40, sortable=False, formatter=StringFormatter(text_align='right', nan_format='<10')),\n",
    "]\n",
    "\n",
    "grouping = [\n",
    "    GroupingInfo(getter='d0', aggregators=[SumAggregator(field_='px')]),\n",
    "]\n",
    "\n",
    "cube = DataCube(source=source, columns=columns, grouping=grouping, target=target)\n",
    "display(Markdown(\"Click on the plus sign to see the number of participants represented in each dataset.\"))\n",
    "display(Markdown(\"**Table 2:** Participants from each LPS represented in the {} dataset in the UK LLC TRE. **Note:** Individual cohort counts of less than 10 are suppressed to <10 and excluded from total participant counts for datasets.\".format(\"HESAPC_ACP\")))\n",
    "show(cube)"
   ]
  },
  {
   "cell_type": "code",
   "execution_count": 8,
   "id": "f8e1a615",
   "metadata": {},
   "outputs": [],
   "source": [
    "ds = md.get_md_api_dss()\n",
    "df_ds = ds[(ds[\"source\"] == \"NHSE\") & (ds[\"table\"] == \"HESAPC_ACP\")]"
   ]
  },
  {
   "cell_type": "code",
   "execution_count": 9,
   "id": "c3725dbf",
   "metadata": {},
   "outputs": [
    {
     "data": {
      "application/vnd.microsoft.datawrangler.viewer.v0+json": {
       "columns": [
        {
         "name": "index",
         "rawType": "int64",
         "type": "integer"
        },
        {
         "name": "table_name",
         "rawType": "object",
         "type": "string"
        },
        {
         "name": "source",
         "rawType": "object",
         "type": "string"
        },
        {
         "name": "collection_start",
         "rawType": "object",
         "type": "string"
        },
        {
         "name": "participants_invited",
         "rawType": "object",
         "type": "unknown"
        },
        {
         "name": "links",
         "rawType": "object",
         "type": "string"
        },
        {
         "name": "special_conditions",
         "rawType": "object",
         "type": "string"
        },
        {
         "name": "source_name",
         "rawType": "object",
         "type": "string"
        },
        {
         "name": "source_type",
         "rawType": "object",
         "type": "string"
        },
        {
         "name": "short_desc",
         "rawType": "object",
         "type": "string"
        },
        {
         "name": "index",
         "rawType": "int64",
         "type": "integer"
        },
        {
         "name": "table",
         "rawType": "object",
         "type": "string"
        },
        {
         "name": "long_desc",
         "rawType": "object",
         "type": "string"
        },
        {
         "name": "collection_time",
         "rawType": "object",
         "type": "string"
        },
        {
         "name": "collection_end",
         "rawType": "object",
         "type": "string"
        },
        {
         "name": "participants_included",
         "rawType": "object",
         "type": "string"
        },
        {
         "name": "topic_tags",
         "rawType": "object",
         "type": "unknown"
        }
       ],
       "ref": "722f9f8c-19ae-4117-b619-f66be7e5ffdb",
       "rows": [
        [
         "363",
         "Hospital Episode Statistics (HES) Augmented Care Periods (ACP) Dataset",
         "NHSE",
         "04/1997",
         null,
         "[ukllc book](https://ukllc-book.netlify.app/docs/linked_health_data/nhs_england/hes%20datasets/hes_intro)",
         "A Codelist must be completed.",
         "NHS England",
         "Linked",
         "People admitted  into an Intensive Care Unit (ICU) or High Dependency Unit (HDU) in  NHS hospitals in England. ",
         "364",
         "HESAPC_ACP",
         "This dataset is a subset of the HES Admitted Patient Care (APC) dataset and was retired in 2006. It includes information about patients admitted to intensive care settings.",
         "01/04/1997 00:00",
         "12/2006",
         "2218",
         null
        ]
       ],
       "shape": {
        "columns": 16,
        "rows": 1
       }
      },
      "text/html": [
       "<div>\n",
       "<style scoped>\n",
       "    .dataframe tbody tr th:only-of-type {\n",
       "        vertical-align: middle;\n",
       "    }\n",
       "\n",
       "    .dataframe tbody tr th {\n",
       "        vertical-align: top;\n",
       "    }\n",
       "\n",
       "    .dataframe thead th {\n",
       "        text-align: right;\n",
       "    }\n",
       "</style>\n",
       "<table border=\"1\" class=\"dataframe\">\n",
       "  <thead>\n",
       "    <tr style=\"text-align: right;\">\n",
       "      <th></th>\n",
       "      <th>table_name</th>\n",
       "      <th>source</th>\n",
       "      <th>collection_start</th>\n",
       "      <th>participants_invited</th>\n",
       "      <th>links</th>\n",
       "      <th>special_conditions</th>\n",
       "      <th>source_name</th>\n",
       "      <th>source_type</th>\n",
       "      <th>short_desc</th>\n",
       "      <th>index</th>\n",
       "      <th>table</th>\n",
       "      <th>long_desc</th>\n",
       "      <th>collection_time</th>\n",
       "      <th>collection_end</th>\n",
       "      <th>participants_included</th>\n",
       "      <th>topic_tags</th>\n",
       "    </tr>\n",
       "  </thead>\n",
       "  <tbody>\n",
       "    <tr>\n",
       "      <th>363</th>\n",
       "      <td>Hospital Episode Statistics (HES) Augmented Ca...</td>\n",
       "      <td>NHSE</td>\n",
       "      <td>04/1997</td>\n",
       "      <td>None</td>\n",
       "      <td>[ukllc book](https://ukllc-book.netlify.app/do...</td>\n",
       "      <td>A Codelist must be completed.</td>\n",
       "      <td>NHS England</td>\n",
       "      <td>Linked</td>\n",
       "      <td>People admitted  into an Intensive Care Unit (...</td>\n",
       "      <td>364</td>\n",
       "      <td>HESAPC_ACP</td>\n",
       "      <td>This dataset is a subset of the HES Admitted P...</td>\n",
       "      <td>01/04/1997 00:00</td>\n",
       "      <td>12/2006</td>\n",
       "      <td>2218</td>\n",
       "      <td>None</td>\n",
       "    </tr>\n",
       "  </tbody>\n",
       "</table>\n",
       "</div>"
      ],
      "text/plain": [
       "                                            table_name source  \\\n",
       "363  Hospital Episode Statistics (HES) Augmented Ca...   NHSE   \n",
       "\n",
       "    collection_start participants_invited  \\\n",
       "363          04/1997                 None   \n",
       "\n",
       "                                                 links  \\\n",
       "363  [ukllc book](https://ukllc-book.netlify.app/do...   \n",
       "\n",
       "                special_conditions  source_name source_type  \\\n",
       "363  A Codelist must be completed.  NHS England      Linked   \n",
       "\n",
       "                                            short_desc  index       table  \\\n",
       "363  People admitted  into an Intensive Care Unit (...    364  HESAPC_ACP   \n",
       "\n",
       "                                             long_desc   collection_time  \\\n",
       "363  This dataset is a subset of the HES Admitted P...  01/04/1997 00:00   \n",
       "\n",
       "    collection_end participants_included topic_tags  \n",
       "363        12/2006                  2218       None  "
      ]
     },
     "execution_count": 9,
     "metadata": {},
     "output_type": "execute_result"
    }
   ],
   "source": [
    "df_ds"
   ]
  },
  {
   "cell_type": "code",
   "execution_count": 10,
   "id": "060ed0fe",
   "metadata": {},
   "outputs": [
    {
     "data": {
      "application/vnd.microsoft.datawrangler.viewer.v0+json": {
       "columns": [
        {
         "name": "index",
         "rawType": "int64",
         "type": "integer"
        },
        {
         "name": "table",
         "rawType": "object",
         "type": "string"
        },
        {
         "name": "Keywords",
         "rawType": "object",
         "type": "string"
        },
        {
         "name": "Key_link",
         "rawType": "object",
         "type": "string"
        },
        {
         "name": "Geographical_coverage",
         "rawType": "object",
         "type": "string"
        },
        {
         "name": "Specific_restrictions_to_data_use",
         "rawType": "object",
         "type": "string"
        },
        {
         "name": "Owner",
         "rawType": "object",
         "type": "string"
        }
       ],
       "ref": "14e35487-eca5-46c4-a5eb-9d2f7c6c4a10",
       "rows": [
        [
         "0",
         "HESAPC_acp",
         "Inpatients, NHS hospitals",
         "https://digital.nhs.uk/data-and-information/data-tools-and-services/data-services/hospital-episode-statistics",
         "England",
         "None",
         "NHS England"
        ]
       ],
       "shape": {
        "columns": 6,
        "rows": 1
       }
      },
      "text/html": [
       "<div>\n",
       "<style scoped>\n",
       "    .dataframe tbody tr th:only-of-type {\n",
       "        vertical-align: middle;\n",
       "    }\n",
       "\n",
       "    .dataframe tbody tr th {\n",
       "        vertical-align: top;\n",
       "    }\n",
       "\n",
       "    .dataframe thead th {\n",
       "        text-align: right;\n",
       "    }\n",
       "</style>\n",
       "<table border=\"1\" class=\"dataframe\">\n",
       "  <thead>\n",
       "    <tr style=\"text-align: right;\">\n",
       "      <th></th>\n",
       "      <th>table</th>\n",
       "      <th>Keywords</th>\n",
       "      <th>Key_link</th>\n",
       "      <th>Geographical_coverage</th>\n",
       "      <th>Specific_restrictions_to_data_use</th>\n",
       "      <th>Owner</th>\n",
       "    </tr>\n",
       "  </thead>\n",
       "  <tbody>\n",
       "    <tr>\n",
       "      <th>0</th>\n",
       "      <td>HESAPC_acp</td>\n",
       "      <td>Inpatients, NHS hospitals</td>\n",
       "      <td>https://digital.nhs.uk/data-and-information/da...</td>\n",
       "      <td>England</td>\n",
       "      <td>None</td>\n",
       "      <td>NHS England</td>\n",
       "    </tr>\n",
       "  </tbody>\n",
       "</table>\n",
       "</div>"
      ],
      "text/plain": [
       "        table                   Keywords  \\\n",
       "0  HESAPC_acp  Inpatients, NHS hospitals   \n",
       "\n",
       "                                            Key_link Geographical_coverage  \\\n",
       "0  https://digital.nhs.uk/data-and-information/da...               England   \n",
       "\n",
       "  Specific_restrictions_to_data_use        Owner  \n",
       "0                              None  NHS England  "
      ]
     },
     "execution_count": 10,
     "metadata": {},
     "output_type": "execute_result"
    }
   ],
   "source": [
    "md.get_nhs_gb_info(\"HESAPC_ACP\")"
   ]
  },
  {
   "cell_type": "code",
   "execution_count": null,
   "id": "d51b3230",
   "metadata": {},
   "outputs": [],
   "source": []
  }
 ],
 "metadata": {
  "kernelspec": {
   "display_name": "jupbook",
   "language": "python",
   "name": "python3"
  },
  "language_info": {
   "codemirror_mode": {
    "name": "ipython",
    "version": 3
   },
   "file_extension": ".py",
   "mimetype": "text/x-python",
   "name": "python",
   "nbconvert_exporter": "python",
   "pygments_lexer": "ipython3",
   "version": "3.13.2"
  }
 },
 "nbformat": 4,
 "nbformat_minor": 5
}
