{
 "cells": [
  {
   "cell_type": "code",
   "execution_count": 1,
   "id": "90a7f005",
   "metadata": {},
   "outputs": [],
   "source": [
    "import requests\n",
    "import json\n",
    "import os\n",
    "import sqlalchemy\n",
    "import pandas as pd\n",
    "import mdapi_functions as md\n",
    "from IPython.display import display, Markdown\n",
    "import markdown\n",
    "from bokeh.plotting import figure, show\n",
    "from bokeh.models import (Span, TabPanel, Tabs, ColumnDataSource, DataCube,\n",
    "                          GroupingInfo, StringFormatter, SumAggregator,\n",
    "                          TableColumn, HoverTool)\n",
    "from bokeh.io import output_notebook\n",
    "from math import pi\n",
    "from datetime import datetime\n",
    "import datacite_api_functions as dcf\n",
    "import numpy as np\n",
    "import data_doc_helper as dh"
   ]
  },
  {
   "cell_type": "code",
   "execution_count": 23,
   "id": "c1cb3f0f",
   "metadata": {},
   "outputs": [],
   "source": [
    "ds = dh.NHSEDataSet(\"IAPT\")\n",
    "dataset = ds.dataset"
   ]
  },
  {
   "cell_type": "code",
   "execution_count": 26,
   "id": "22db077c",
   "metadata": {},
   "outputs": [
    {
     "data": {
      "application/javascript": "'use strict';\n(function(root) {\n  function now() {\n    return new Date();\n  }\n\n  const force = true;\n\n  if (typeof root._bokeh_onload_callbacks === \"undefined\" || force === true) {\n    root._bokeh_onload_callbacks = [];\n    root._bokeh_is_loading = undefined;\n  }\n\nconst JS_MIME_TYPE = 'application/javascript';\n  const HTML_MIME_TYPE = 'text/html';\n  const EXEC_MIME_TYPE = 'application/vnd.bokehjs_exec.v0+json';\n  const CLASS_NAME = 'output_bokeh rendered_html';\n\n  /**\n   * Render data to the DOM node\n   */\n  function render(props, node) {\n    const script = document.createElement(\"script\");\n    node.appendChild(script);\n  }\n\n  /**\n   * Handle when an output is cleared or removed\n   */\n  function handleClearOutput(event, handle) {\n    function drop(id) {\n      const view = Bokeh.index.get_by_id(id)\n      if (view != null) {\n        view.model.document.clear()\n        Bokeh.index.delete(view)\n      }\n    }\n\n    const cell = handle.cell;\n\n    const id = cell.output_area._bokeh_element_id;\n    const server_id = cell.output_area._bokeh_server_id;\n\n    // Clean up Bokeh references\n    if (id != null) {\n      drop(id)\n    }\n\n    if (server_id !== undefined) {\n      // Clean up Bokeh references\n      const cmd_clean = \"from bokeh.io.state import curstate; print(curstate().uuid_to_server['\" + server_id + \"'].get_sessions()[0].document.roots[0]._id)\";\n      cell.notebook.kernel.execute(cmd_clean, {\n        iopub: {\n          output: function(msg) {\n            const id = msg.content.text.trim()\n            drop(id)\n          }\n        }\n      });\n      // Destroy server and session\n      const cmd_destroy = \"import bokeh.io.notebook as ion; ion.destroy_server('\" + server_id + \"')\";\n      cell.notebook.kernel.execute(cmd_destroy);\n    }\n  }\n\n  /**\n   * Handle when a new output is added\n   */\n  function handleAddOutput(event, handle) {\n    const output_area = handle.output_area;\n    const output = handle.output;\n\n    // limit handleAddOutput to display_data with EXEC_MIME_TYPE content only\n    if ((output.output_type != \"display_data\") || (!Object.prototype.hasOwnProperty.call(output.data, EXEC_MIME_TYPE))) {\n      return\n    }\n\n    const toinsert = output_area.element.find(\".\" + CLASS_NAME.split(' ')[0]);\n\n    if (output.metadata[EXEC_MIME_TYPE][\"id\"] !== undefined) {\n      toinsert[toinsert.length - 1].firstChild.textContent = output.data[JS_MIME_TYPE];\n      // store reference to embed id on output_area\n      output_area._bokeh_element_id = output.metadata[EXEC_MIME_TYPE][\"id\"];\n    }\n    if (output.metadata[EXEC_MIME_TYPE][\"server_id\"] !== undefined) {\n      const bk_div = document.createElement(\"div\");\n      bk_div.innerHTML = output.data[HTML_MIME_TYPE];\n      const script_attrs = bk_div.children[0].attributes;\n      for (let i = 0; i < script_attrs.length; i++) {\n        toinsert[toinsert.length - 1].firstChild.setAttribute(script_attrs[i].name, script_attrs[i].value);\n        toinsert[toinsert.length - 1].firstChild.textContent = bk_div.children[0].textContent\n      }\n      // store reference to server id on output_area\n      output_area._bokeh_server_id = output.metadata[EXEC_MIME_TYPE][\"server_id\"];\n    }\n  }\n\n  function register_renderer(events, OutputArea) {\n\n    function append_mime(data, metadata, element) {\n      // create a DOM node to render to\n      const toinsert = this.create_output_subarea(\n        metadata,\n        CLASS_NAME,\n        EXEC_MIME_TYPE\n      );\n      this.keyboard_manager.register_events(toinsert);\n      // Render to node\n      const props = {data: data, metadata: metadata[EXEC_MIME_TYPE]};\n      render(props, toinsert[toinsert.length - 1]);\n      element.append(toinsert);\n      return toinsert\n    }\n\n    /* Handle when an output is cleared or removed */\n    events.on('clear_output.CodeCell', handleClearOutput);\n    events.on('delete.Cell', handleClearOutput);\n\n    /* Handle when a new output is added */\n    events.on('output_added.OutputArea', handleAddOutput);\n\n    /**\n     * Register the mime type and append_mime function with output_area\n     */\n    OutputArea.prototype.register_mime_type(EXEC_MIME_TYPE, append_mime, {\n      /* Is output safe? */\n      safe: true,\n      /* Index of renderer in `output_area.display_order` */\n      index: 0\n    });\n  }\n\n  // register the mime type if in Jupyter Notebook environment and previously unregistered\n  if (root.Jupyter !== undefined) {\n    const events = require('base/js/events');\n    const OutputArea = require('notebook/js/outputarea').OutputArea;\n\n    if (OutputArea.prototype.mime_types().indexOf(EXEC_MIME_TYPE) == -1) {\n      register_renderer(events, OutputArea);\n    }\n  }\n  if (typeof (root._bokeh_timeout) === \"undefined\" || force === true) {\n    root._bokeh_timeout = Date.now() + 5000;\n    root._bokeh_failed_load = false;\n  }\n\n  const NB_LOAD_WARNING = {'data': {'text/html':\n     \"<div style='background-color: #fdd'>\\n\"+\n     \"<p>\\n\"+\n     \"BokehJS does not appear to have successfully loaded. If loading BokehJS from CDN, this \\n\"+\n     \"may be due to a slow or bad network connection. Possible fixes:\\n\"+\n     \"</p>\\n\"+\n     \"<ul>\\n\"+\n     \"<li>re-rerun `output_notebook()` to attempt to load from CDN again, or</li>\\n\"+\n     \"<li>use INLINE resources instead, as so:</li>\\n\"+\n     \"</ul>\\n\"+\n     \"<code>\\n\"+\n     \"from bokeh.resources import INLINE\\n\"+\n     \"output_notebook(resources=INLINE)\\n\"+\n     \"</code>\\n\"+\n     \"</div>\"}};\n\n  function display_loaded(error = null) {\n    const el = document.getElementById(null);\n    if (el != null) {\n      const html = (() => {\n        if (typeof root.Bokeh === \"undefined\") {\n          if (error == null) {\n            return \"BokehJS is loading ...\";\n          } else {\n            return \"BokehJS failed to load.\";\n          }\n        } else {\n          const prefix = `BokehJS ${root.Bokeh.version}`;\n          if (error == null) {\n            return `${prefix} successfully loaded.`;\n          } else {\n            return `${prefix} <b>encountered errors</b> while loading and may not function as expected.`;\n          }\n        }\n      })();\n      el.innerHTML = html;\n\n      if (error != null) {\n        const wrapper = document.createElement(\"div\");\n        wrapper.style.overflow = \"auto\";\n        wrapper.style.height = \"5em\";\n        wrapper.style.resize = \"vertical\";\n        const content = document.createElement(\"div\");\n        content.style.fontFamily = \"monospace\";\n        content.style.whiteSpace = \"pre-wrap\";\n        content.style.backgroundColor = \"rgb(255, 221, 221)\";\n        content.textContent = error.stack ?? error.toString();\n        wrapper.append(content);\n        el.append(wrapper);\n      }\n    } else if (Date.now() < root._bokeh_timeout) {\n      setTimeout(() => display_loaded(error), 100);\n    }\n  }\n\n  function run_callbacks() {\n    try {\n      root._bokeh_onload_callbacks.forEach(function(callback) {\n        if (callback != null)\n          callback();\n      });\n    } finally {\n      delete root._bokeh_onload_callbacks\n    }\n    console.debug(\"Bokeh: all callbacks have finished\");\n  }\n\n  function load_libs(css_urls, js_urls, callback) {\n    if (css_urls == null) css_urls = [];\n    if (js_urls == null) js_urls = [];\n\n    root._bokeh_onload_callbacks.push(callback);\n    if (root._bokeh_is_loading > 0) {\n      console.debug(\"Bokeh: BokehJS is being loaded, scheduling callback at\", now());\n      return null;\n    }\n    if (js_urls == null || js_urls.length === 0) {\n      run_callbacks();\n      return null;\n    }\n    console.debug(\"Bokeh: BokehJS not loaded, scheduling load and callback at\", now());\n    root._bokeh_is_loading = css_urls.length + js_urls.length;\n\n    function on_load() {\n      root._bokeh_is_loading--;\n      if (root._bokeh_is_loading === 0) {\n        console.debug(\"Bokeh: all BokehJS libraries/stylesheets loaded\");\n        run_callbacks()\n      }\n    }\n\n    function on_error(url) {\n      console.error(\"failed to load \" + url);\n    }\n\n    for (let i = 0; i < css_urls.length; i++) {\n      const url = css_urls[i];\n      const element = document.createElement(\"link\");\n      element.onload = on_load;\n      element.onerror = on_error.bind(null, url);\n      element.rel = \"stylesheet\";\n      element.type = \"text/css\";\n      element.href = url;\n      console.debug(\"Bokeh: injecting link tag for BokehJS stylesheet: \", url);\n      document.body.appendChild(element);\n    }\n\n    for (let i = 0; i < js_urls.length; i++) {\n      const url = js_urls[i];\n      const element = document.createElement('script');\n      element.onload = on_load;\n      element.onerror = on_error.bind(null, url);\n      element.async = false;\n      element.src = url;\n      console.debug(\"Bokeh: injecting script tag for BokehJS library: \", url);\n      document.head.appendChild(element);\n    }\n  };\n\n  function inject_raw_css(css) {\n    const element = document.createElement(\"style\");\n    element.appendChild(document.createTextNode(css));\n    document.body.appendChild(element);\n  }\n\n  const js_urls = [\"https://cdn.bokeh.org/bokeh/release/bokeh-3.7.2.min.js\", \"https://cdn.bokeh.org/bokeh/release/bokeh-gl-3.7.2.min.js\", \"https://cdn.bokeh.org/bokeh/release/bokeh-widgets-3.7.2.min.js\", \"https://cdn.bokeh.org/bokeh/release/bokeh-tables-3.7.2.min.js\", \"https://cdn.bokeh.org/bokeh/release/bokeh-mathjax-3.7.2.min.js\"];\n  const css_urls = [];\n\n  const inline_js = [    function(Bokeh) {\n      Bokeh.set_log_level(\"info\");\n    },\nfunction(Bokeh) {\n    }\n  ];\n\n  function run_inline_js() {\n    if (root.Bokeh !== undefined || force === true) {\n      try {\n            for (let i = 0; i < inline_js.length; i++) {\n      inline_js[i].call(root, root.Bokeh);\n    }\n\n      } catch (error) {throw error;\n      }} else if (Date.now() < root._bokeh_timeout) {\n      setTimeout(run_inline_js, 100);\n    } else if (!root._bokeh_failed_load) {\n      console.log(\"Bokeh: BokehJS failed to load within specified timeout.\");\n      root._bokeh_failed_load = true;\n    } else if (force !== true) {\n      const cell = $(document.getElementById(null)).parents('.cell').data().cell;\n      cell.output_area.append_execute_result(NB_LOAD_WARNING)\n    }\n  }\n\n  if (root._bokeh_is_loading === 0) {\n    console.debug(\"Bokeh: BokehJS loaded, going straight to plotting\");\n    run_inline_js();\n  } else {\n    load_libs(css_urls, js_urls, function() {\n      console.debug(\"Bokeh: BokehJS plotting callback run at\", now());\n      run_inline_js();\n    });\n  }\n}(window));",
      "application/vnd.bokehjs_load.v0+json": ""
     },
     "metadata": {},
     "output_type": "display_data"
    },
    {
     "data": {
      "text/markdown": [
       "Click on the plus sign to see the number of participants represented in each dataset."
      ],
      "text/plain": [
       "<IPython.core.display.Markdown object>"
      ]
     },
     "metadata": {},
     "output_type": "display_data"
    },
    {
     "data": {
      "text/markdown": [
       "**Table 2:** Participants from each LPS represented in the IAPT dataset in the UK LLC TRE. **Note:** Individual cohort counts of less than 10 are suppressed to 0 and are therefore excluded from total participant counts for datasets"
      ],
      "text/plain": [
       "<IPython.core.display.Markdown object>"
      ]
     },
     "metadata": {},
     "output_type": "display_data"
    },
    {
     "data": {
      "text/html": [
       "\n",
       "  <div id=\"d762519a-8a89-4a1e-86e4-bd66b8861e11\" data-root-id=\"p1326\" style=\"display: contents;\"></div>\n"
      ]
     },
     "metadata": {},
     "output_type": "display_data"
    },
    {
     "data": {
      "application/javascript": "(function(root) {\n  function embed_document(root) {\n  const docs_json = {\"1b4ec877-dd7e-4066-9027-0b641d7ecece\":{\"version\":\"3.7.2\",\"title\":\"Bokeh Application\",\"roots\":[{\"type\":\"object\",\"name\":\"DataCube\",\"id\":\"p1326\",\"attributes\":{\"source\":{\"type\":\"object\",\"name\":\"ColumnDataSource\",\"id\":\"p1310\",\"attributes\":{\"selected\":{\"type\":\"object\",\"name\":\"Selection\",\"id\":\"p1311\",\"attributes\":{\"indices\":[],\"line_indices\":[]}},\"selection_policy\":{\"type\":\"object\",\"name\":\"UnionRenderers\",\"id\":\"p1312\"},\"data\":{\"type\":\"map\",\"entries\":[[\"d0\",[\"IAPT_care_activities\",\"IAPT_care_activities\",\"IAPT_care_activities\",\"IAPT_care_activities\",\"IAPT_care_activities\",\"IAPT_care_activities\",\"IAPT_care_activities\",\"IAPT_care_activities\",\"IAPT_care_activities\",\"IAPT_care_activities\",\"IAPT_care_activities\",\"IAPT_care_activities\",\"IAPT_care_activities\",\"IAPT_care_activities\",\"IAPT_care_activities\",\"IAPT_care_activities\",\"IAPT_care_activities\",\"IAPT_care_cluster\",\"IAPT_care_cluster\",\"IAPT_care_cluster\",\"IAPT_care_cluster\",\"IAPT_care_cluster\",\"IAPT_care_cluster\",\"IAPT_care_cluster\",\"IAPT_care_cluster\",\"IAPT_care_cluster\",\"IAPT_care_cluster\",\"IAPT_care_cluster\",\"IAPT_care_cluster\",\"IAPT_care_cluster\",\"IAPT_care_cluster\",\"IAPT_care_cluster\",\"IAPT_care_cluster\",\"IAPT_care_cluster\",\"IAPT_coded_scored_assessments\",\"IAPT_coded_scored_assessments\",\"IAPT_coded_scored_assessments\",\"IAPT_coded_scored_assessments\",\"IAPT_coded_scored_assessments\",\"IAPT_coded_scored_assessments\",\"IAPT_coded_scored_assessments\",\"IAPT_coded_scored_assessments\",\"IAPT_coded_scored_assessments\",\"IAPT_coded_scored_assessments\",\"IAPT_coded_scored_assessments\",\"IAPT_coded_scored_assessments\",\"IAPT_coded_scored_assessments\",\"IAPT_coded_scored_assessments\",\"IAPT_coded_scored_assessments\",\"IAPT_coded_scored_assessments\",\"IAPT_coded_scored_assessments\",\"IAPT_demographics_and_referral\",\"IAPT_demographics_and_referral\",\"IAPT_demographics_and_referral\",\"IAPT_demographics_and_referral\",\"IAPT_demographics_and_referral\",\"IAPT_demographics_and_referral\",\"IAPT_demographics_and_referral\",\"IAPT_demographics_and_referral\",\"IAPT_demographics_and_referral\",\"IAPT_demographics_and_referral\",\"IAPT_demographics_and_referral\",\"IAPT_demographics_and_referral\",\"IAPT_demographics_and_referral\",\"IAPT_demographics_and_referral\",\"IAPT_demographics_and_referral\",\"IAPT_demographics_and_referral\",\"IAPT_demographics_and_referral\",\"IAPT_employment_status\",\"IAPT_employment_status\",\"IAPT_employment_status\",\"IAPT_employment_status\",\"IAPT_employment_status\",\"IAPT_employment_status\",\"IAPT_employment_status\",\"IAPT_employment_status\",\"IAPT_employment_status\",\"IAPT_employment_status\",\"IAPT_employment_status\",\"IAPT_employment_status\",\"IAPT_employment_status\",\"IAPT_employment_status\",\"IAPT_employment_status\",\"IAPT_employment_status\",\"IAPT_employment_status\",\"IAPT_internet_enabled_therapies\",\"IAPT_internet_enabled_therapies\",\"IAPT_internet_enabled_therapies\",\"IAPT_internet_enabled_therapies\",\"IAPT_internet_enabled_therapies\",\"IAPT_internet_enabled_therapies\",\"IAPT_internet_enabled_therapies\",\"IAPT_internet_enabled_therapies\",\"IAPT_internet_enabled_therapies\",\"IAPT_internet_enabled_therapies\",\"IAPT_internet_enabled_therapies\",\"IAPT_internet_enabled_therapies\",\"IAPT_internet_enabled_therapies\",\"IAPT_internet_enabled_therapies\",\"IAPT_internet_enabled_therapies\",\"IAPT_internet_enabled_therapies\",\"IAPT_internet_enabled_therapies\",\"IAPT_mental_and_physical_health_conditions\",\"IAPT_mental_and_physical_health_conditions\",\"IAPT_mental_and_physical_health_conditions\",\"IAPT_mental_and_physical_health_conditions\",\"IAPT_mental_and_physical_health_conditions\",\"IAPT_mental_and_physical_health_conditions\",\"IAPT_mental_and_physical_health_conditions\",\"IAPT_mental_and_physical_health_conditions\",\"IAPT_mental_and_physical_health_conditions\",\"IAPT_mental_and_physical_health_conditions\",\"IAPT_mental_and_physical_health_conditions\",\"IAPT_mental_and_physical_health_conditions\",\"IAPT_mental_and_physical_health_conditions\",\"IAPT_mental_and_physical_health_conditions\",\"IAPT_mental_and_physical_health_conditions\",\"IAPT_mental_and_physical_health_conditions\",\"IAPT_mental_and_physical_health_conditions\",\"IAPT_onward_referrals\",\"IAPT_onward_referrals\",\"IAPT_onward_referrals\",\"IAPT_onward_referrals\",\"IAPT_onward_referrals\",\"IAPT_onward_referrals\",\"IAPT_onward_referrals\",\"IAPT_onward_referrals\",\"IAPT_onward_referrals\",\"IAPT_onward_referrals\",\"IAPT_onward_referrals\",\"IAPT_onward_referrals\",\"IAPT_onward_referrals\",\"IAPT_onward_referrals\",\"IAPT_onward_referrals\",\"IAPT_onward_referrals\",\"IAPT_onward_referrals\",\"IAPT_waiting_time_pauses\",\"IAPT_waiting_time_pauses\",\"IAPT_waiting_time_pauses\",\"IAPT_waiting_time_pauses\",\"IAPT_waiting_time_pauses\",\"IAPT_waiting_time_pauses\",\"IAPT_waiting_time_pauses\",\"IAPT_waiting_time_pauses\",\"IAPT_waiting_time_pauses\",\"IAPT_waiting_time_pauses\",\"IAPT_waiting_time_pauses\",\"IAPT_waiting_time_pauses\",\"IAPT_waiting_time_pauses\",\"IAPT_waiting_time_pauses\",\"IAPT_waiting_time_pauses\",\"IAPT_waiting_time_pauses\",\"IAPT_waiting_time_pauses\"]],[\"d1\",[\"ALSPAC\",\"BCS70\",\"BIB\",\"ELSA\",\"EPICN\",\"EXCEED\",\"FENLAND\",\"GLAD\",\"MCS\",\"NCDS58\",\"NEXTSTEP\",\"NIHRBIO_COPING\",\"NSHD46\",\"TEDS\",\"TRACKC19\",\"TWINSUK\",\"UKHLS\",\"ALSPAC\",\"BCS70\",\"BIB\",\"ELSA\",\"EPICN\",\"EXCEED\",\"FENLAND\",\"GLAD\",\"MCS\",\"NCDS58\",\"NEXTSTEP\",\"NIHRBIO_COPING\",\"NSHD46\",\"TEDS\",\"TRACKC19\",\"TWINSUK\",\"UKHLS\",\"ALSPAC\",\"BCS70\",\"BIB\",\"ELSA\",\"EPICN\",\"EXCEED\",\"FENLAND\",\"GLAD\",\"MCS\",\"NCDS58\",\"NEXTSTEP\",\"NIHRBIO_COPING\",\"NSHD46\",\"TEDS\",\"TRACKC19\",\"TWINSUK\",\"UKHLS\",\"ALSPAC\",\"BCS70\",\"BIB\",\"ELSA\",\"EPICN\",\"EXCEED\",\"FENLAND\",\"GLAD\",\"MCS\",\"NCDS58\",\"NEXTSTEP\",\"NIHRBIO_COPING\",\"NSHD46\",\"TEDS\",\"TRACKC19\",\"TWINSUK\",\"UKHLS\",\"ALSPAC\",\"BCS70\",\"BIB\",\"ELSA\",\"EPICN\",\"EXCEED\",\"FENLAND\",\"GLAD\",\"MCS\",\"NCDS58\",\"NEXTSTEP\",\"NIHRBIO_COPING\",\"NSHD46\",\"TEDS\",\"TRACKC19\",\"TWINSUK\",\"UKHLS\",\"ALSPAC\",\"BCS70\",\"BIB\",\"ELSA\",\"EPICN\",\"EXCEED\",\"FENLAND\",\"GLAD\",\"MCS\",\"NCDS58\",\"NEXTSTEP\",\"NIHRBIO_COPING\",\"NSHD46\",\"TEDS\",\"TRACKC19\",\"TWINSUK\",\"UKHLS\",\"ALSPAC\",\"BCS70\",\"BIB\",\"ELSA\",\"EPICN\",\"EXCEED\",\"FENLAND\",\"GLAD\",\"MCS\",\"NCDS58\",\"NEXTSTEP\",\"NIHRBIO_COPING\",\"NSHD46\",\"TEDS\",\"TRACKC19\",\"TWINSUK\",\"UKHLS\",\"ALSPAC\",\"BCS70\",\"BIB\",\"ELSA\",\"EPICN\",\"EXCEED\",\"FENLAND\",\"GLAD\",\"MCS\",\"NCDS58\",\"NEXTSTEP\",\"NIHRBIO_COPING\",\"NSHD46\",\"TEDS\",\"TRACKC19\",\"TWINSUK\",\"UKHLS\",\"ALSPAC\",\"BCS70\",\"BIB\",\"ELSA\",\"EPICN\",\"EXCEED\",\"FENLAND\",\"GLAD\",\"MCS\",\"NCDS58\",\"NEXTSTEP\",\"NIHRBIO_COPING\",\"NSHD46\",\"TEDS\",\"TRACKC19\",\"TWINSUK\",\"UKHLS\"]],[\"px\",[951.0,420.0,1411.0,190.0,334.0,524.0,500.0,27043.0,1980.0,248.0,828.0,1373.0,58.0,1315.0,884.0,928.0,489.0,451.0,310.0,810.0,140.0,101.0,470.0,347.0,19557.0,1363.0,177.0,562.0,918.0,39.0,893.0,563.0,638.0,328.0,913.0,397.0,1184.0,179.0,264.0,514.0,465.0,25832.0,1812.0,234.0,765.0,1310.0,54.0,1241.0,837.0,877.0,471.0,1055.0,473.0,1576.0,216.0,368.0,589.0,538.0,30184.0,2262.0,286.0,915.0,1482.0,66.0,1502.0,944.0,1032.0,550.0,886.0,378.0,1157.0,168.0,267.0,517.0,465.0,23611.0,1725.0,227.0,687.0,1185.0,50.0,1170.0,776.0,798.0,440.0,85.0,18.0,36.0,{\"type\":\"number\",\"value\":\"nan\"},0.0,24.0,{\"type\":\"number\",\"value\":\"nan\"},1528.0,120.0,{\"type\":\"number\",\"value\":\"nan\"},56.0,72.0,{\"type\":\"number\",\"value\":\"nan\"},94.0,83.0,41.0,30.0,853.0,395.0,1447.0,182.0,269.0,525.0,487.0,25723.0,1826.0,248.0,754.0,1257.0,55.0,1230.0,784.0,853.0,476.0,{\"type\":\"number\",\"value\":\"nan\"},15.0,164.0,{\"type\":\"number\",\"value\":\"nan\"},{\"type\":\"number\",\"value\":\"nan\"},12.0,48.0,1205.0,81.0,{\"type\":\"number\",\"value\":\"nan\"},25.0,56.0,{\"type\":\"number\",\"value\":\"nan\"},47.0,33.0,24.0,18.0,{\"type\":\"number\",\"value\":\"nan\"},18.0,{\"type\":\"number\",\"value\":\"nan\"},{\"type\":\"number\",\"value\":\"nan\"},{\"type\":\"number\",\"value\":\"nan\"},{\"type\":\"number\",\"value\":\"nan\"},14.0,1522.0,94.0,13.0,43.0,59.0,{\"type\":\"number\",\"value\":\"nan\"},61.0,26.0,58.0,21.0]]]}}},\"view\":{\"type\":\"object\",\"name\":\"CDSView\",\"id\":\"p1330\",\"attributes\":{\"filter\":{\"type\":\"object\",\"name\":\"AllIndices\",\"id\":\"p1331\"}}},\"columns\":[{\"type\":\"object\",\"name\":\"TableColumn\",\"id\":\"p1317\",\"attributes\":{\"field\":\"d1\",\"title\":\"IAPT Dataset\",\"width\":80,\"formatter\":{\"type\":\"object\",\"name\":\"StringFormatter\",\"id\":\"p1316\",\"attributes\":{\"font_style\":{\"type\":\"value\",\"value\":\"bold\"}}},\"editor\":{\"type\":\"object\",\"name\":\"StringEditor\",\"id\":\"p1319\"},\"sortable\":false}},{\"type\":\"object\",\"name\":\"TableColumn\",\"id\":\"p1321\",\"attributes\":{\"field\":\"px\",\"title\":\"Participant Count\",\"width\":40,\"formatter\":{\"type\":\"object\",\"name\":\"StringFormatter\",\"id\":\"p1320\",\"attributes\":{\"text_align\":{\"type\":\"value\",\"value\":\"right\"},\"nan_format\":\"<10\"}},\"editor\":{\"type\":\"object\",\"name\":\"StringEditor\",\"id\":\"p1323\"},\"sortable\":false}}],\"grouping\":[{\"type\":\"object\",\"name\":\"GroupingInfo\",\"id\":\"p1325\",\"attributes\":{\"getter\":\"d0\",\"aggregators\":[{\"type\":\"object\",\"name\":\"SumAggregator\",\"id\":\"p1324\",\"attributes\":{\"field_\":\"px\"}}]}}],\"target\":{\"type\":\"object\",\"name\":\"ColumnDataSource\",\"id\":\"p1313\",\"attributes\":{\"selected\":{\"type\":\"object\",\"name\":\"Selection\",\"id\":\"p1314\",\"attributes\":{\"indices\":[],\"line_indices\":[]}},\"selection_policy\":{\"type\":\"object\",\"name\":\"UnionRenderers\",\"id\":\"p1315\"},\"data\":{\"type\":\"map\",\"entries\":[[\"row_indices\",[]],[\"labels\",[]]]}}}}}]}};\n  const render_items = [{\"docid\":\"1b4ec877-dd7e-4066-9027-0b641d7ecece\",\"roots\":{\"p1326\":\"d762519a-8a89-4a1e-86e4-bd66b8861e11\"},\"root_ids\":[\"p1326\"]}];\n  void root.Bokeh.embed.embed_items_notebook(docs_json, render_items);\n  }\n  if (root.Bokeh !== undefined) {\n    embed_document(root);\n  } else {\n    let attempts = 0;\n    const timer = setInterval(function(root) {\n      if (root.Bokeh !== undefined) {\n        clearInterval(timer);\n        embed_document(root);\n      } else {\n        attempts++;\n        if (attempts > 100) {\n          clearInterval(timer);\n          console.log(\"Bokeh: ERROR: Unable to run BokehJS code because BokehJS library is missing\");\n        }\n      }\n    }, 10, root)\n  }\n})(window);",
      "application/vnd.bokehjs_exec.v0+json": ""
     },
     "metadata": {
      "application/vnd.bokehjs_exec.v0+json": {
       "id": "p1326"
      }
     },
     "output_type": "display_data"
    }
   ],
   "source": [
    "if dataset in [\"MHSDS\"]:\n",
    "    display(Markdown(\"Cohort counts for the {} dataset will be issued in due course.\".format(dataset)))\n",
    "\n",
    "else:\n",
    "    output_notebook(hide_banner=True)\n",
    "    df = md.get_md_api_dsvs()\n",
    "    df = df[(df[\"source\"] == \"nhsd\") & (df[\"table\"].str.startswith(dataset))].drop_duplicates(subset=\"table\")\n",
    "\n",
    "    df = df[~(df[\"table\"] == \"CSDS_group_sessions\")]\n",
    "\n",
    "    if dataset in [\"HESAPC\", \"HESOP\", \"HESAE\"]:\n",
    "        df = df[df[\"table\"] == dataset]\n",
    "\n",
    "    tbl_names = []\n",
    "    metrics_tables = []\n",
    "\n",
    "    for i in range(0, len(df)):\n",
    "        dfcc = md.get_nhse_cohort_counts(df.iloc[i][\"table\"])\n",
    "        dfcc = dfcc[~dfcc['cohort'].isin(['GENSCOT', 'NICOLA', 'SABRE'])]\n",
    "        tbl_names += len(dfcc) * [df.iloc[i][\"table\"]]\n",
    "        dfcc[\"count\"] = dfcc[\"count\"].replace(\"<10\", np.nan).astype(float)\n",
    "        metrics_tables.append(dfcc)\n",
    "\n",
    "    source = ColumnDataSource(data=dict(\n",
    "        d0=tbl_names,\n",
    "        d1=pd.concat(metrics_tables)[\"cohort\"].to_list(),\n",
    "        px=pd.concat(metrics_tables)[\"count\"].to_list(),\n",
    "    ))\n",
    "\n",
    "    target = ColumnDataSource(data=dict(row_indices=[], labels=[]))\n",
    "\n",
    "    formatter = StringFormatter(font_style='bold')\n",
    "\n",
    "    columns = [\n",
    "        TableColumn(field='d1', title='{} Dataset'.format(dataset), width=80, sortable=False, formatter=formatter),\n",
    "        TableColumn(field='px', title='Participant Count', width=40, sortable=False, formatter=StringFormatter(text_align='right', nan_format='<10')),\n",
    "    ]\n",
    "\n",
    "    grouping = [\n",
    "        GroupingInfo(getter='d0', aggregators=[SumAggregator(field_='px')]),\n",
    "    ]\n",
    "\n",
    "    cube = DataCube(source=source, columns=columns, grouping=grouping, target=target)\n",
    "    display(Markdown(\"Click on the plus sign to see the number of participants represented in each dataset.\"))\n",
    "    display(Markdown(\"**Table 2:** Participants from each LPS represented in the {} dataset in the UK LLC TRE. **Note:** Individual cohort counts of less than 10 are suppressed to 0 and are therefore excluded from total participant counts for datasets\".format(dataset)))\n",
    "    show(cube)"
   ]
  },
  {
   "cell_type": "code",
   "execution_count": null,
   "id": "f7aa7fa2",
   "metadata": {},
   "outputs": [],
   "source": []
  },
  {
   "cell_type": "code",
   "execution_count": null,
   "id": "48305a4e",
   "metadata": {},
   "outputs": [],
   "source": []
  }
 ],
 "metadata": {
  "kernelspec": {
   "display_name": "Python 3",
   "language": "python",
   "name": "python3"
  },
  "language_info": {
   "codemirror_mode": {
    "name": "ipython",
    "version": 3
   },
   "file_extension": ".py",
   "mimetype": "text/x-python",
   "name": "python",
   "nbconvert_exporter": "python",
   "pygments_lexer": "ipython3",
   "version": "3.13.2"
  }
 },
 "nbformat": 4,
 "nbformat_minor": 5
}
