{
 "cells": [
  {
   "cell_type": "code",
   "execution_count": 1,
   "id": "90a7f005",
   "metadata": {},
   "outputs": [],
   "source": [
    "import requests\n",
    "import json\n",
    "import os\n",
    "import sqlalchemy\n",
    "import pandas as pd\n",
    "import mdapi_functions as md\n",
    "from IPython.display import display, Markdown\n",
    "import markdown\n",
    "from bokeh.plotting import figure, show\n",
    "from bokeh.models import (Span, TabPanel, Tabs, ColumnDataSource, DataCube,\n",
    "                          GroupingInfo, StringFormatter, SumAggregator,\n",
    "                          TableColumn, HoverTool)\n",
    "from bokeh.io import output_notebook\n",
    "from math import pi\n",
    "from datetime import datetime\n",
    "import datacite_api_functions as dcf\n",
    "import numpy as np\n",
    "import data_doc_helper as dh"
   ]
  },
  {
   "cell_type": "code",
   "execution_count": 22,
   "id": "22db077c",
   "metadata": {},
   "outputs": [],
   "source": [
    "def cohort_total(ds):\n",
    "    if ds in [\"MHSDS\", \"IAPT\", \"CSDS\"]:\n",
    "      return \"N/A - contains multiple auxiliary datasets\"\n",
    "    else:\n",
    "       df = md.get_nhse_cohort_counts(ds)\n",
    "    df[\"count\"] = df[\"count\"].apply(lambda x: int(x.replace(\"<10\", \"0\")))\n",
    "    return str(df[\"count\"].sum())"
   ]
  },
  {
   "cell_type": "code",
   "execution_count": 23,
   "id": "71a51323",
   "metadata": {},
   "outputs": [
    {
     "data": {
      "text/plain": [
       "'188'"
      ]
     },
     "execution_count": 23,
     "metadata": {},
     "output_type": "execute_result"
    }
   ],
   "source": [
    "cohort_total(\"CHESS\")"
   ]
  },
  {
   "cell_type": "code",
   "execution_count": null,
   "id": "e396ac61",
   "metadata": {},
   "outputs": [],
   "source": []
  }
 ],
 "metadata": {
  "kernelspec": {
   "display_name": "Python 3",
   "language": "python",
   "name": "python3"
  },
  "language_info": {
   "codemirror_mode": {
    "name": "ipython",
    "version": 3
   },
   "file_extension": ".py",
   "mimetype": "text/x-python",
   "name": "python",
   "nbconvert_exporter": "python",
   "pygments_lexer": "ipython3",
   "version": "3.13.2"
  }
 },
 "nbformat": 4,
 "nbformat_minor": 5
}
