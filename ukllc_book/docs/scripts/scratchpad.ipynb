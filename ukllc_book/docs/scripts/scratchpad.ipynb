{
 "cells": [
  {
   "cell_type": "code",
   "execution_count": null,
   "id": "90a7f005",
   "metadata": {},
   "outputs": [],
   "source": [
    "import requests\n",
    "import json\n",
    "import os\n",
    "import sqlalchemy\n",
    "import pandas as pd\n",
    "import mdapi_functions as md\n",
    "from IPython.display import display, Markdown\n",
    "import markdown\n",
    "from bokeh.plotting import figure, show\n",
    "from bokeh.models import (Span, TabPanel, Tabs, ColumnDataSource, DataCube,\n",
    "                          GroupingInfo, StringFormatter, SumAggregator,\n",
    "                          TableColumn, HoverTool)\n",
    "from bokeh.palettes import Category20c\n",
    "from bokeh.transform import cumsum\n",
    "from bokeh.io import output_notebook\n",
    "from math import pi\n",
    "from datetime import datetime\n",
    "import datacite_api_functions as dcf\n",
    "import numpy as np\n",
    "import data_doc_helper as dh\n",
    "\n",
    "from math import pi\n"
   ]
  },
  {
   "cell_type": "code",
   "execution_count": null,
   "id": "f3cd7ea9",
   "metadata": {},
   "outputs": [],
   "source": [
    "output_notebook(hide_banner=True)\n",
    "\n",
    "x = {\n",
    "    'United States': 157,\n",
    "    'United Kingdom': 93,\n",
    "    'Japan': 89,\n",
    "    'China': 63,\n",
    "    'Germany': 44,\n",
    "    'India': 42,\n",
    "    'Italy': 40,\n",
    "    'Australia': 35,\n",
    "    'Brazil': 32,\n",
    "    'France': 31,\n",
    "    'Taiwan': 31,\n",
    "    'Spain': 29,\n",
    "}\n",
    "\n",
    "data = pd.Series(x).reset_index(name='value').rename(columns={'index': 'country'})\n",
    "data['angle'] = data['value']/data['value'].sum() * 2*pi\n",
    "data['color'] = Category20c[len(x)]\n",
    "\n",
    "p = figure(height=350, title=\"Pie Chart\", toolbar_location=None,\n",
    "           tools=\"hover\", tooltips=\"@country: @value\", x_range=(-0.5, 1.0))\n",
    "\n",
    "p.wedge(x=0, y=1, radius=0.4,\n",
    "        start_angle=cumsum('angle', include_zero=True), end_angle=cumsum('angle'),\n",
    "        line_color=\"white\", fill_color='color', legend_field='country', source=data)\n",
    "\n",
    "p.axis.axis_label = None\n",
    "p.axis.visible = False\n",
    "p.grid.grid_line_color = None\n",
    "\n",
    "show(p)"
   ]
  },
  {
   "cell_type": "code",
   "execution_count": null,
   "id": "b38ba4cc",
   "metadata": {},
   "outputs": [],
   "source": [
    "output_notebook(hide_banner=True)\n",
    "\n",
    "df = md.get_freeze_profile()\n",
    "df = df[df[\"demo_grp\"].isin([\"ethnicity\"])]\n",
    "df2 = df[[\"cat\", \"n\"]]\n",
    "df2[\"angle\"] = df2[\"n\"]/ df2[\"n\"].sum() * 2*pi\n",
    "df2['color'] = Category20c[df2.__len__()]\n",
    "df2[\"tot\"] = df2[\"n\"].sum()\n",
    "df2\n",
    "\n",
    "p = figure(height=350, title=\"Pie Chart\", toolbar_location=None,\n",
    "           tools=\"hover\", tooltips=\"@cat: @n / @tot\", x_range=(-0.5, 1.0))\n",
    "\n",
    "p.wedge(x=0, y=1, radius=0.4,\n",
    "        start_angle=cumsum('angle', include_zero=True), end_angle=cumsum('angle'),\n",
    "        line_color=\"white\", fill_color='color', legend_field='cat', source=df2)\n",
    "\n",
    "p.axis.axis_label = None\n",
    "p.axis.visible = False\n",
    "p.grid.grid_line_color = None\n",
    "show(p)\n"
   ]
  },
  {
   "cell_type": "code",
   "execution_count": null,
   "id": "9ff6eeb4",
   "metadata": {},
   "outputs": [],
   "source": [
    "output_notebook(hide_banner=True)\n",
    "\n",
    "df = md.get_freeze_profile()\n",
    "df = df[df[\"demo_grp\"].isin([\"sex\"])]\n",
    "df2 = df[[\"cat\", \"n\"]]\n",
    "df2[\"angle\"] = df2[\"n\"]/ df2[\"n\"].sum() * 2*pi\n",
    "df2['color'] = Category20c[df2.__len__()]\n",
    "df2[\"tot\"] = df2[\"n\"].sum()\n",
    "df2\n",
    "\n",
    "p = figure(height=350, title=\"Pie Chart\", toolbar_location=None,\n",
    "           tools=\"hover\", tooltips=\"@cat: @n / @tot\", x_range=(-0.5, 1.0))\n",
    "\n",
    "p.wedge(x=0, y=1, radius=0.4,\n",
    "        start_angle=cumsum('angle', include_zero=True), end_angle=cumsum('angle'),\n",
    "        line_color=\"white\", fill_color='color', legend_field='cat', source=df2)\n",
    "\n",
    "p.axis.axis_label = None\n",
    "p.axis.visible = False\n",
    "p.grid.grid_line_color = None\n",
    "show(p)\n"
   ]
  },
  {
   "cell_type": "code",
   "execution_count": null,
   "id": "4e896f1b",
   "metadata": {},
   "outputs": [],
   "source": [
    "output_notebook(hide_banner=True)\n",
    "\n",
    "df = md.get_freeze_profile()\n",
    "df = df[df[\"demo_grp\"].isin([\"year_of_birth\"])]\n",
    "df2 = df[[\"cat\", \"n\"]]\n",
    "df2[\"angle\"] = df2[\"n\"]/ df2[\"n\"].sum() * 2*pi\n",
    "df2['color'] = Category20c[df2.__len__()]\n",
    "df2[\"tot\"] = df2[\"n\"].sum()\n",
    "df2\n",
    "\n",
    "p = figure(height=350, title=\"Pie Chart\", toolbar_location=None,\n",
    "           tools=\"hover\", tooltips=\"@cat: @n / @tot\", x_range=(-0.5, 1.0))\n",
    "\n",
    "p.wedge(x=0, y=1, radius=0.4,\n",
    "        start_angle=cumsum('angle', include_zero=True), end_angle=cumsum('angle'),\n",
    "        line_color=\"white\", fill_color='color', legend_field='cat', source=df2)\n",
    "\n",
    "p.axis.axis_label = None\n",
    "p.axis.visible = False\n",
    "p.grid.grid_line_color = None\n",
    "show(p)\n"
   ]
  },
  {
   "cell_type": "code",
   "execution_count": null,
   "id": "1d612f10",
   "metadata": {},
   "outputs": [],
   "source": [
    "df = md.prep_dsvs_for_gb_pages()"
   ]
  },
  {
   "cell_type": "code",
   "execution_count": null,
   "id": "55e01a87",
   "metadata": {},
   "outputs": [],
   "source": [
    "df[df[\"source\"] == \"TEDS\"]"
   ]
  },
  {
   "cell_type": "code",
   "execution_count": null,
   "id": "868e0ef1",
   "metadata": {},
   "outputs": [],
   "source": [
    "md.get_md_api_dsvs()"
   ]
  },
  {
   "cell_type": "code",
   "execution_count": null,
   "id": "4c5f3604",
   "metadata": {},
   "outputs": [],
   "source": [
    "ds = md.get_md_api_dss()\n",
    "df_ds = ds[(ds[\"source\"] == \"PLACE\") & (ds[\"table\"] == \"greenspace_polygon_points_1000m_gb_hh\")]\n",
    "df_ds[\"source_table\"] = df_ds[\"source\"] + \"_\" + df_ds[\"table\"]\n",
    "ss = md.get_md_api_ss()[[\"Owner\", \"source\"]]\n",
    "df_ds = df_ds.merge(ss, on=\"source\")\n",
    "df_ds[\"dataset\"] = \"greenspace_polygon_points_1000m_gb_hh\"\n",
    "# df_ds2 = md.get_place_dataset_info()\n",
    "# df_ds2 = df_ds2[df_ds2[\"dataset\"] == \"greenspace_polygon_points_1000m_gb_hh\"][[\"dataset\", \"geographical_coverage\", \"authors\", \"hyperlink\"]]\n",
    "# df_ds = df_ds.merge(df_ds2, on=\"dataset\")"
   ]
  },
  {
   "cell_type": "code",
   "execution_count": null,
   "id": "71fa70b9",
   "metadata": {},
   "outputs": [],
   "source": [
    "df_ds"
   ]
  },
  {
   "cell_type": "code",
   "execution_count": null,
   "id": "3255034b",
   "metadata": {},
   "outputs": [],
   "source": [
    "def ds_doi(x: str):\n",
    "                \"\"\"Returns UKLLC DOI of dataset\n",
    "\n",
    "                Args:\n",
    "                    x (str): dataset e.g. \"IAPT\" or \"HESCC\"\n",
    "\n",
    "                Returns:\n",
    "                    str: UKLLC DOI of dataset or \"DOI TBC\" if none minted\n",
    "                \"\"\"\n",
    "\n",
    "                doi_ds = dcf.get_doi_datasets()[dcf.get_doi_datasets()[\"state\"] == \"findable\"]\n",
    "\n",
    "                if len(doi_ds) == 0:\n",
    "                    return \"DOI TBC\"\n",
    "\n",
    "                else:\n",
    "                    doi_ds[\"source_table\"] = doi_ds[\"attributes.titles\"].apply(lambda x: x[1][\"title\"] if len(x) > 1 else \"NA\")\n",
    "\n",
    "                    doi_ds = doi_ds[doi_ds[\"source_table\"] == \"GEO_\" + x]\n",
    "                    doi_ds = doi_ds.sort_values(by=\"attributes.version\", ascending=False).drop_duplicates(subset=\"source_table\")\n",
    "\n",
    "                    if len(doi_ds) == 1:\n",
    "                        return doi_ds.iloc[0][\"id\"]\n",
    "                    else:\n",
    "                        return \"DOI TBC\""
   ]
  },
  {
   "cell_type": "code",
   "execution_count": null,
   "id": "dfbd0935",
   "metadata": {},
   "outputs": [],
   "source": [
    "ds_doi(df_ds.iloc[0][\"table\"])"
   ]
  },
  {
   "cell_type": "code",
   "execution_count": null,
   "id": "de985531",
   "metadata": {},
   "outputs": [],
   "source": [
    "%%time\n",
    "dcf.get_doi_datasets()"
   ]
  },
  {
   "cell_type": "code",
   "execution_count": null,
   "id": "a0f54b1c",
   "metadata": {},
   "outputs": [],
   "source": [
    "from data_doc_helper import LPSSource as SS"
   ]
  },
  {
   "cell_type": "code",
   "execution_count": null,
   "id": "6a36a5dc",
   "metadata": {},
   "outputs": [],
   "source": [
    "teds = SS(\"TEDS\")"
   ]
  },
  {
   "cell_type": "code",
   "execution_count": null,
   "id": "2ae9854a",
   "metadata": {},
   "outputs": [],
   "source": [
    "teds.summary()"
   ]
  },
  {
   "cell_type": "code",
   "execution_count": null,
   "id": "c3b199d0",
   "metadata": {},
   "outputs": [],
   "source": [
    "df = md.get_md_api_ss()\n",
    "for i in df.columns:\n",
    "    print(i + \" ({})\".format(type(df.iloc[0][i]).__name__))"
   ]
  },
  {
   "cell_type": "code",
   "execution_count": null,
   "id": "b2765b2a",
   "metadata": {},
   "outputs": [],
   "source": [
    "md.get_md_api_ss()"
   ]
  },
  {
   "cell_type": "code",
   "execution_count": null,
   "id": "3383f6b3",
   "metadata": {},
   "outputs": [],
   "source": [
    "md.get_place_dataset_info()"
   ]
  },
  {
   "cell_type": "code",
   "execution_count": null,
   "id": "43205018",
   "metadata": {},
   "outputs": [],
   "source": []
  }
 ],
 "metadata": {
  "kernelspec": {
   "display_name": "jupbook",
   "language": "python",
   "name": "python3"
  },
  "language_info": {
   "codemirror_mode": {
    "name": "ipython",
    "version": 3
   },
   "file_extension": ".py",
   "mimetype": "text/x-python",
   "name": "python",
   "nbconvert_exporter": "python",
   "pygments_lexer": "ipython3",
   "version": "3.13.2"
  }
 },
 "nbformat": 4,
 "nbformat_minor": 5
}
