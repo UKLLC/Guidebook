{
 "cells": [
  {
   "cell_type": "code",
   "execution_count": null,
   "id": "90a7f005",
   "metadata": {},
   "outputs": [],
   "source": [
    "import data_doc_helper as dh\n",
    "import datacite_api_functions as dcf\n",
    "import mdapi_functions as md"
   ]
  },
  {
   "cell_type": "code",
   "execution_count": null,
   "id": "0377540c",
   "metadata": {},
   "outputs": [],
   "source": [
    "dsvs = md.get_md_api_dsvs()\n",
    "dsvs[dsvs[\"source\"] == \"nhsd\"]"
   ]
  }
 ],
 "metadata": {
  "kernelspec": {
   "display_name": "Python 3",
   "language": "python",
   "name": "python3"
  },
  "language_info": {
   "codemirror_mode": {
    "name": "ipython",
    "version": 3
   },
   "file_extension": ".py",
   "mimetype": "text/x-python",
   "name": "python",
   "nbconvert_exporter": "python",
   "pygments_lexer": "ipython3",
   "version": "3.13.2"
  }
 },
 "nbformat": 4,
 "nbformat_minor": 5
}
