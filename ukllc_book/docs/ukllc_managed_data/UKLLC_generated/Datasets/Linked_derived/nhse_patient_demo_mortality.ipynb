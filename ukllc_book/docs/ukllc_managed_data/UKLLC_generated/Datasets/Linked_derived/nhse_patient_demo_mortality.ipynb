{
 "cells": [
  {
   "cell_type": "markdown",
   "id": "beb97ca4",
   "metadata": {},
   "source": [
    "# NHS England Patient Demo Mortality Dataset"
   ]
  },
  {
   "cell_type": "code",
   "execution_count": 1,
   "id": "e3b8790c",
   "metadata": {
    "tags": [
     "remove-input"
    ]
   },
   "outputs": [
    {
     "data": {
      "text/markdown": [
       ">Last modified: 27 Oct 2025"
      ],
      "text/plain": [
       "<IPython.core.display.Markdown object>"
      ]
     },
     "metadata": {},
     "output_type": "display_data"
    }
   ],
   "source": [
    "import sys\n",
    "import os\n",
    "sys.path.append(os.path.abspath('../../../../scripts/'))\n",
    "from data_doc_helper import UKLLCDataSet as DS, last_modified\n",
    "API_KEY = os.environ['FASTAPI_KEY']\n",
    "ds = DS(\"nhse_patient_demo_mortality\")\n",
    "last_modified()"
   ]
  },
  {
   "cell_type": "markdown",
   "id": "5b3e81e6",
   "metadata": {},
   "source": [
    "<div style=\"background-color: rgba(0, 178, 169, 0.3); padding: 5px; border-radius: 5px;\"><strong>UK LLC has created a demographic and mortality dataset dervived from NHS England data.</strong></div>"
   ]
  },
  {
   "cell_type": "markdown",
   "id": "fe073008",
   "metadata": {},
   "source": [
    "## 1. Summary"
   ]
  },
  {
   "cell_type": "markdown",
   "id": "c938a7b1",
   "metadata": {},
   "source": [
    "The **NHS England patient demo mortality** dataset, formerly known as the **indicator** dataset contains the most recent and reliable record for certain key demographic variables sourced from NHS England datasets for each participant. Each project in the TRE is automatically provisioned a file named 'UKLLC_nhse_patient_demo_mortality_v0000_YYYYMMDD' (formerly known as 'CORE_derived_indicator_v0000_YYYYMMDD'). \n",
    "\n",
    "The dataset includes all **NHS England** linked participants who have permissions from the LPS selected and approved as part of your project. Sex, ethnicity (ethnic: NHS England ethncity coding system - see values table for coding lookup) and date of birth (dob_year_month: year and month of birth) are obtained from the following five datasets in the order presented (i.e. if the information isn't available in the Demographics dataset, the GDPPR dataset is then searched etc.):\n",
    "1. Demographics.\n",
    "2. General Practice Extraction Service (GPES) Data for Pandemic Planning and Research (GDPPR).\n",
    "3. HES Admitted Patient Care (HESAPC).\n",
    "4. HES Outpatients (HESOP).\n",
    "5. HES Accident & Emergency (HESAE).\n",
    " \n",
    "The following variables are then added:\n",
    "* Deceased: from the Mortality dataset\n",
    "* Date of death: from the Mortality dataset\n",
    "* last_seen_date: last date recorded in any NHS England dataset (patient_service_usage).\n",
    "\n",
    "The dataset **enables researchers to**:\n",
    "* ascertain whether a participant is alive or dead and, if applicable, see their recorded date of death \n",
    "* quickly retrieve basic demographic information such as sex, ethnicity and age (via date of birth)\n",
    "* see the date when a participant last used an NHS England service\n",
    "* easily filter/group demographic data to be integrated into analytical pipelines."
   ]
  },
  {
   "cell_type": "code",
   "execution_count": 2,
   "id": "fb0becc7",
   "metadata": {
    "tags": [
     "remove-input"
    ]
   },
   "outputs": [
    {
     "data": {
      "text/html": [
       "<style type=\"text/css\">\n",
       "#T_21659 th {\n",
       "  text-align: left;\n",
       "}\n",
       "#T_21659_row0_col0, #T_21659_row0_col1, #T_21659_row1_col0, #T_21659_row1_col1, #T_21659_row2_col0, #T_21659_row2_col1, #T_21659_row3_col0, #T_21659_row3_col1, #T_21659_row4_col0, #T_21659_row4_col1, #T_21659_row5_col0, #T_21659_row5_col1, #T_21659_row6_col0, #T_21659_row6_col1, #T_21659_row7_col0, #T_21659_row7_col1, #T_21659_row8_col0, #T_21659_row8_col1, #T_21659_row9_col0, #T_21659_row9_col1, #T_21659_row10_col0, #T_21659_row10_col1, #T_21659_row11_col0, #T_21659_row11_col1 {\n",
       "  text-align: left;\n",
       "}\n",
       "</style>\n",
       "<table id=\"T_21659\" style=\"font-size: 14px\">\n",
       "  <thead>\n",
       "    <tr>\n",
       "      <th id=\"T_21659_level0_col0\" class=\"col_heading level0 col0\" >Dataset Descriptor</th>\n",
       "      <th id=\"T_21659_level0_col1\" class=\"col_heading level0 col1\" >Dataset-specific Information</th>\n",
       "    </tr>\n",
       "  </thead>\n",
       "  <tbody>\n",
       "    <tr>\n",
       "      <td id=\"T_21659_row0_col0\" class=\"data row0 col0\" >Name of Dataset in TRE</td>\n",
       "      <td id=\"T_21659_row0_col1\" class=\"data row0 col1\" >UKLLC_nhse_patient_demo_mortality</td>\n",
       "    </tr>\n",
       "    <tr>\n",
       "      <td id=\"T_21659_row1_col0\" class=\"data row1 col0\" >Citation (APA)</td>\n",
       "      <td id=\"T_21659_row1_col1\" class=\"data row1 col1\" >UK Longitudinal Linkage Collaboration. (2024). <i>UK LLC Managed: NHSE Patient Demo Mortality Dataset.</i> UK Longitudinal Linkage Collaboration (UK LLC).  <a href=\"https://doi.org/10.71760/ukllc-dataset-00440-07\" rel=\"noopener noreferrer\" target=\"_blank\">https://doi.org/10.71760/ukllc-dataset-00440-07</a></td>\n",
       "    </tr>\n",
       "    <tr>\n",
       "      <td id=\"T_21659_row2_col0\" class=\"data row2 col0\" >Download Citation</td>\n",
       "      <td id=\"T_21659_row2_col1\" class=\"data row2 col1\" > <a href=\"https://api.datacite.org/application/vnd.citationstyles.csl+json/10.71760/ukllc-dataset-00440-07\" rel=\"noopener noreferrer\" target=\"_blank\">Citeproc JSON</a>&nbsp;&nbsp;&nbsp;&nbsp; <a href=\"https://api.datacite.org/application/x-bibtex/10.71760/ukllc-dataset-00440-07\" rel=\"noopener noreferrer\" target=\"_blank\">BibTeX</a>&nbsp;&nbsp;&nbsp;&nbsp; <a href=\"https://api.datacite.org/application/x-research-info-systems/10.71760/ukllc-dataset-00440-07\" rel=\"noopener noreferrer\" target=\"_blank\">RIS</a></td>\n",
       "    </tr>\n",
       "    <tr>\n",
       "      <td id=\"T_21659_row3_col0\" class=\"data row3 col0\" >Series</td>\n",
       "      <td id=\"T_21659_row3_col1\" class=\"data row3 col1\" > <a href=\"https://guidebook.ukllc.ac.uk/docs/ukllc_managed_data/ukllc_data\">UK LLC Managed</a></td>\n",
       "    </tr>\n",
       "    <tr>\n",
       "      <td id=\"T_21659_row4_col0\" class=\"data row4 col0\" >Owner</td>\n",
       "      <td id=\"T_21659_row4_col1\" class=\"data row4 col1\" >UK Longitudinal Linkage Collaboration</td>\n",
       "    </tr>\n",
       "    <tr>\n",
       "      <td id=\"T_21659_row5_col0\" class=\"data row5 col0\" >Temporal Coverage</td>\n",
       "      <td id=\"T_21659_row5_col1\" class=\"data row5 col1\" >Unknown - Unknown</td>\n",
       "    </tr>\n",
       "    <tr>\n",
       "      <td id=\"T_21659_row6_col0\" class=\"data row6 col0\" >Keywords</td>\n",
       "      <td id=\"T_21659_row6_col1\" class=\"data row6 col1\" ></td>\n",
       "    </tr>\n",
       "    <tr>\n",
       "      <td id=\"T_21659_row7_col0\" class=\"data row7 col0\" >Participant Count</td>\n",
       "      <td id=\"T_21659_row7_col1\" class=\"data row7 col1\" >250892</td>\n",
       "    </tr>\n",
       "    <tr>\n",
       "      <td id=\"T_21659_row8_col0\" class=\"data row8 col0\" >Number of variables</td>\n",
       "      <td id=\"T_21659_row8_col1\" class=\"data row8 col1\" >8</td>\n",
       "    </tr>\n",
       "    <tr>\n",
       "      <td id=\"T_21659_row9_col0\" class=\"data row9 col0\" >Number of observations</td>\n",
       "      <td id=\"T_21659_row9_col1\" class=\"data row9 col1\" >250892</td>\n",
       "    </tr>\n",
       "    <tr>\n",
       "      <td id=\"T_21659_row10_col0\" class=\"data row10 col0\" >Specific Restrictions to Data Use</td>\n",
       "      <td id=\"T_21659_row10_col1\" class=\"data row10 col1\" >None</td>\n",
       "    </tr>\n",
       "    <tr>\n",
       "      <td id=\"T_21659_row11_col0\" class=\"data row11 col0\" >Build a Data Request</td>\n",
       "      <td id=\"T_21659_row11_col1\" class=\"data row11 col1\" > <a href=\"https://explore.ukllc.ac.uk/\" rel=\"noopener noreferrer\" target=\"_blank\">https://explore.ukllc.ac.uk/</a></td>\n",
       "    </tr>\n",
       "  </tbody>\n",
       "</table>\n"
      ],
      "text/plain": [
       "<pandas.io.formats.style.Styler at 0x183b82eacf0>"
      ]
     },
     "execution_count": 2,
     "metadata": {},
     "output_type": "execute_result"
    }
   ],
   "source": [
    "ds.info_table()"
   ]
  },
  {
   "cell_type": "markdown",
   "id": "799ad0f1",
   "metadata": {},
   "source": [
    "## 2. Variables"
   ]
  },
  {
   "cell_type": "code",
   "execution_count": 3,
   "id": "4c6731f3",
   "metadata": {
    "tags": [
     "remove-input"
    ]
   },
   "outputs": [
    {
     "data": {
      "text/html": [
       "<style type=\"text/css\">\n",
       "#T_58119 th {\n",
       "  text-align: left;\n",
       "}\n",
       "#T_58119_row0_col0, #T_58119_row0_col1, #T_58119_row1_col0, #T_58119_row1_col1, #T_58119_row2_col0, #T_58119_row2_col1, #T_58119_row3_col0, #T_58119_row3_col1, #T_58119_row4_col0, #T_58119_row4_col1, #T_58119_row5_col0, #T_58119_row5_col1, #T_58119_row6_col0, #T_58119_row6_col1, #T_58119_row7_col0, #T_58119_row7_col1 {\n",
       "  text-align: left;\n",
       "}\n",
       "</style>\n",
       "<table id=\"T_58119\" style=\"font-size: 14px\">\n",
       "  <thead>\n",
       "    <tr>\n",
       "      <th id=\"T_58119_level0_col0\" class=\"col_heading level0 col0\" >Variable</th>\n",
       "      <th id=\"T_58119_level0_col1\" class=\"col_heading level0 col1\" >Description</th>\n",
       "    </tr>\n",
       "  </thead>\n",
       "  <tbody>\n",
       "    <tr>\n",
       "      <td id=\"T_58119_row0_col0\" class=\"data row0 col0\" >cohortkey_e</td>\n",
       "      <td id=\"T_58119_row0_col1\" class=\"data row0 col1\" >None</td>\n",
       "    </tr>\n",
       "    <tr>\n",
       "      <td id=\"T_58119_row1_col0\" class=\"data row1 col0\" >sex</td>\n",
       "      <td id=\"T_58119_row1_col1\" class=\"data row1 col1\" >sex</td>\n",
       "    </tr>\n",
       "    <tr>\n",
       "      <td id=\"T_58119_row2_col0\" class=\"data row2 col0\" >deceased</td>\n",
       "      <td id=\"T_58119_row2_col1\" class=\"data row2 col1\" >deceased</td>\n",
       "    </tr>\n",
       "    <tr>\n",
       "      <td id=\"T_58119_row3_col0\" class=\"data row3 col0\" >reg_date_of_death</td>\n",
       "      <td id=\"T_58119_row3_col1\" class=\"data row3 col1\" >If deceased, date of death</td>\n",
       "    </tr>\n",
       "    <tr>\n",
       "      <td id=\"T_58119_row4_col0\" class=\"data row4 col0\" >ethnic</td>\n",
       "      <td id=\"T_58119_row4_col1\" class=\"data row4 col1\" >ethnicity</td>\n",
       "    </tr>\n",
       "    <tr>\n",
       "      <td id=\"T_58119_row5_col0\" class=\"data row5 col0\" >dob_year_month</td>\n",
       "      <td id=\"T_58119_row5_col1\" class=\"data row5 col1\" >date of birth year and month</td>\n",
       "    </tr>\n",
       "    <tr>\n",
       "      <td id=\"T_58119_row6_col0\" class=\"data row6 col0\" >last_seen_date</td>\n",
       "      <td id=\"T_58119_row6_col1\" class=\"data row6 col1\" >most recent appearance in nhs data</td>\n",
       "    </tr>\n",
       "    <tr>\n",
       "      <td id=\"T_58119_row7_col0\" class=\"data row7 col0\" >avail_from_dt</td>\n",
       "      <td id=\"T_58119_row7_col1\" class=\"data row7 col1\" >None</td>\n",
       "    </tr>\n",
       "  </tbody>\n",
       "</table>\n"
      ],
      "text/plain": [
       "<pandas.io.formats.style.Styler at 0x183b81f7d90>"
      ]
     },
     "execution_count": 3,
     "metadata": {},
     "output_type": "execute_result"
    }
   ],
   "source": [
    "ds.variable_table()"
   ]
  },
  {
   "cell_type": "markdown",
   "id": "8a469c49",
   "metadata": {},
   "source": [
    "## 3. Version History"
   ]
  },
  {
   "cell_type": "code",
   "execution_count": 4,
   "id": "41fd9910",
   "metadata": {
    "tags": [
     "remove-input"
    ]
   },
   "outputs": [
    {
     "data": {
      "text/html": [
       "<style type=\"text/css\">\n",
       "#T_89436 th {\n",
       "  text-align: left;\n",
       "}\n",
       "#T_89436_row0_col0, #T_89436_row0_col1, #T_89436_row0_col2, #T_89436_row0_col3, #T_89436_row0_col4, #T_89436_row1_col0, #T_89436_row1_col1, #T_89436_row1_col2, #T_89436_row1_col3, #T_89436_row1_col4, #T_89436_row2_col0, #T_89436_row2_col1, #T_89436_row2_col2, #T_89436_row2_col3, #T_89436_row2_col4, #T_89436_row3_col0, #T_89436_row3_col1, #T_89436_row3_col2, #T_89436_row3_col3, #T_89436_row3_col4, #T_89436_row4_col0, #T_89436_row4_col1, #T_89436_row4_col2, #T_89436_row4_col3, #T_89436_row4_col4 {\n",
       "  text-align: left;\n",
       "}\n",
       "</style>\n",
       "<table id=\"T_89436\" style=\"font-size: 14px\">\n",
       "  <thead>\n",
       "    <tr>\n",
       "      <th id=\"T_89436_level0_col0\" class=\"col_heading level0 col0\" >Version</th>\n",
       "      <th id=\"T_89436_level0_col1\" class=\"col_heading level0 col1\" >4</th>\n",
       "      <th id=\"T_89436_level0_col2\" class=\"col_heading level0 col2\" >5</th>\n",
       "      <th id=\"T_89436_level0_col3\" class=\"col_heading level0 col3\" >6</th>\n",
       "      <th id=\"T_89436_level0_col4\" class=\"col_heading level0 col4\" >7</th>\n",
       "    </tr>\n",
       "  </thead>\n",
       "  <tbody>\n",
       "    <tr>\n",
       "      <td id=\"T_89436_row0_col0\" class=\"data row0 col0\" >Version Date</td>\n",
       "      <td id=\"T_89436_row0_col1\" class=\"data row0 col1\" >01 Nov 2022</td>\n",
       "      <td id=\"T_89436_row0_col2\" class=\"data row0 col2\" >17 Dec 2022</td>\n",
       "      <td id=\"T_89436_row0_col3\" class=\"data row0 col3\" >13 Dec 2023</td>\n",
       "      <td id=\"T_89436_row0_col4\" class=\"data row0 col4\" >01 Aug 2024</td>\n",
       "    </tr>\n",
       "    <tr>\n",
       "      <td id=\"T_89436_row1_col0\" class=\"data row1 col0\" >Number of Variables</td>\n",
       "      <td id=\"T_89436_row1_col1\" class=\"data row1 col1\" >8</td>\n",
       "      <td id=\"T_89436_row1_col2\" class=\"data row1 col2\" >8</td>\n",
       "      <td id=\"T_89436_row1_col3\" class=\"data row1 col3\" >8</td>\n",
       "      <td id=\"T_89436_row1_col4\" class=\"data row1 col4\" >8</td>\n",
       "    </tr>\n",
       "    <tr>\n",
       "      <td id=\"T_89436_row2_col0\" class=\"data row2 col0\" >Number of Observations</td>\n",
       "      <td id=\"T_89436_row2_col1\" class=\"data row2 col1\" >194544</td>\n",
       "      <td id=\"T_89436_row2_col2\" class=\"data row2 col2\" >194544</td>\n",
       "      <td id=\"T_89436_row2_col3\" class=\"data row2 col3\" >207205</td>\n",
       "      <td id=\"T_89436_row2_col4\" class=\"data row2 col4\" >250892</td>\n",
       "    </tr>\n",
       "    <tr>\n",
       "      <td id=\"T_89436_row3_col0\" class=\"data row3 col0\" >DOI</td>\n",
       "      <td id=\"T_89436_row3_col1\" class=\"data row3 col1\" > <a href=\"https://doi.org/10.71760/ukllc-dataset-00440-04\" rel=\"noopener noreferrer\" target=\"_blank\">10.71760/ukllc-dataset-00440-04</a></td>\n",
       "      <td id=\"T_89436_row3_col2\" class=\"data row3 col2\" > <a href=\"https://doi.org/10.71760/ukllc-dataset-00440-05\" rel=\"noopener noreferrer\" target=\"_blank\">10.71760/ukllc-dataset-00440-05</a></td>\n",
       "      <td id=\"T_89436_row3_col3\" class=\"data row3 col3\" > <a href=\"https://doi.org/10.71760/ukllc-dataset-00440-06\" rel=\"noopener noreferrer\" target=\"_blank\">10.71760/ukllc-dataset-00440-06</a></td>\n",
       "      <td id=\"T_89436_row3_col4\" class=\"data row3 col4\" > <a href=\"https://doi.org/10.71760/ukllc-dataset-00440-07\" rel=\"noopener noreferrer\" target=\"_blank\">10.71760/ukllc-dataset-00440-07</a></td>\n",
       "    </tr>\n",
       "    <tr>\n",
       "      <td id=\"T_89436_row4_col0\" class=\"data row4 col0\" >Change Log</td>\n",
       "      <td id=\"T_89436_row4_col1\" class=\"data row4 col1\" > <a href=\"https://api.datacite.org/dois/10.71760/ukllc-dataset-00440-04/activities\" rel=\"noopener noreferrer\" target=\"_blank\">10.71760/ukllc-dataset-00440-04/activities</a></td>\n",
       "      <td id=\"T_89436_row4_col2\" class=\"data row4 col2\" > <a href=\"https://api.datacite.org/dois/10.71760/ukllc-dataset-00440-05/activities\" rel=\"noopener noreferrer\" target=\"_blank\">10.71760/ukllc-dataset-00440-05/activities</a></td>\n",
       "      <td id=\"T_89436_row4_col3\" class=\"data row4 col3\" > <a href=\"https://api.datacite.org/dois/10.71760/ukllc-dataset-00440-06/activities\" rel=\"noopener noreferrer\" target=\"_blank\">10.71760/ukllc-dataset-00440-06/activities</a></td>\n",
       "      <td id=\"T_89436_row4_col4\" class=\"data row4 col4\" > <a href=\"https://api.datacite.org/dois/10.71760/ukllc-dataset-00440-07/activities\" rel=\"noopener noreferrer\" target=\"_blank\">10.71760/ukllc-dataset-00440-07/activities</a></td>\n",
       "    </tr>\n",
       "  </tbody>\n",
       "</table>\n"
      ],
      "text/plain": [
       "<pandas.io.formats.style.Styler at 0x183b8350690>"
      ]
     },
     "execution_count": 4,
     "metadata": {},
     "output_type": "execute_result"
    }
   ],
   "source": [
    "ds.version_history()"
   ]
  },
  {
   "cell_type": "markdown",
   "id": "bedf5551",
   "metadata": {},
   "source": [
    "## 4. Useful Syntax"
   ]
  },
  {
   "cell_type": "code",
   "execution_count": 5,
   "id": "29e9d5bb",
   "metadata": {
    "tags": [
     "remove-input"
    ]
   },
   "outputs": [
    {
     "data": {
      "text/markdown": [
       "Below we will include syntax that may be helpful to other researchers in the UK LLC TRE. For longer scripts, we will include a snippet of the code plus a link to Git where you can find the full scripts."
      ],
      "text/plain": [
       "<IPython.core.display.Markdown object>"
      ]
     },
     "metadata": {},
     "output_type": "display_data"
    }
   ],
   "source": [
    "ds.useful_syntax()"
   ]
  }
 ],
 "metadata": {
  "kernelspec": {
   "display_name": "jupbook",
   "language": "python",
   "name": "python3"
  },
  "language_info": {
   "codemirror_mode": {
    "name": "ipython",
    "version": 3
   },
   "file_extension": ".py",
   "mimetype": "text/x-python",
   "name": "python",
   "nbconvert_exporter": "python",
   "pygments_lexer": "ipython3",
   "version": "3.13.2"
  }
 },
 "nbformat": 4,
 "nbformat_minor": 5
}
