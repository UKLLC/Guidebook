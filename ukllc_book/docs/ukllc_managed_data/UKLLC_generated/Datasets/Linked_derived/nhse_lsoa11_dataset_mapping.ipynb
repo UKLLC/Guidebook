{
 "cells": [
  {
   "cell_type": "markdown",
   "id": "beb97ca4",
   "metadata": {},
   "source": [
    "# NHS England LSOA11 Mappings Dataset"
   ]
  },
  {
   "cell_type": "code",
   "execution_count": 1,
   "id": "e3b8790c",
   "metadata": {
    "tags": [
     "remove-input"
    ]
   },
   "outputs": [
    {
     "data": {
      "text/markdown": [
       ">Last modified: 24 Oct 2025"
      ],
      "text/plain": [
       "<IPython.core.display.Markdown object>"
      ]
     },
     "metadata": {},
     "output_type": "display_data"
    }
   ],
   "source": [
    "import sys\n",
    "import os\n",
    "sys.path.append(os.path.abspath('../../../../scripts/'))\n",
    "from data_doc_helper import UKLLCDataSet as DS, last_modified\n",
    "API_KEY = os.environ['FASTAPI_KEY']\n",
    "ds = DS(\"nhse_lsoa11_dataset_mapping\")\n",
    "last_modified()"
   ]
  },
  {
   "cell_type": "markdown",
   "id": "5b3e81e6",
   "metadata": {},
   "source": [
    "<div style=\"background-color: rgba(0, 178, 169, 0.3); padding: 5px; border-radius: 5px;\"><strong>UK LLC has created a LSOA11 mapping table enabling linkage of LSOA11 level data such as IMD to NHS England records.</strong></div>  "
   ]
  },
  {
   "cell_type": "markdown",
   "id": "fe073008",
   "metadata": {},
   "source": [
    "## 1. Summary"
   ]
  },
  {
   "cell_type": "markdown",
   "id": "c938a7b1",
   "metadata": {},
   "source": [
    "The **NHS England LSOA11 mappings** dataset contains encrypted **Lower layer Super Output Areas (LSOAs)**. **LSOA11** is encrypted because geographical units smaller than English region or devolved nation are not permitted ‘in-the-clear’ in the UK LLC TRE. Each project in the TRE is automatically provisioned a file named 'nhse_lsoa11_dataset_mapping_v0000_YYYYMMDD'. The dataset includes one row per health interaction where the project has selected the LPS and where participant permissions are in place. The indicator picks from the following NHS England datasets where **LSOA11** is routinely available:\n",
    "* [General Practice Extraction Service (GPES) Data for Pandemic Planning and Research (GDPPR)](../../../../linked_health_data/NHS_England/Primary_care_datasets/GDPPR/GDPPR.ipynb)\n",
    "* [HES Accident & Emergency (HESAE)](../../../../linked_health_data/NHS_England/HES%20datasets/AE/HESAE.ipynb)\n",
    "* [HES Admitted Patient Care (HESAPC)](../../../../linked_health_data/NHS_England/HES%20datasets/APC/HESAPC.ipynb)\n",
    "* [HES Outpatients (HESOP)](../../../../linked_health_data/NHS_England/HES%20datasets/OP/HESOP.ipynb).\n",
    "\n",
    "MOVE TO VARIABLES SECTION? The dataset currently contains the following variables:\n",
    "* **record_date**: date stamp from health record\n",
    "* **lsoa11cd_e**: encrypted LSOA 2011 from health record\n",
    "* **origin**: NHS England dataset the LSOA 2011 originated from. \n",
    "\n",
    "The dataset **enables researchers to**:\n",
    "* link encrypted LSOAs (lsoa11cd_e) in participants' health records to place-based datasets including [Index of Multiple Deprivation (IMD)](../../../../linked_geo_data/population_datasets/IMD/IMD.ipynb). The [Understanding IMD dataset guide](../../../../linked_geo_data/population_datasets/IMD/Understanding_IMD.md) provides an example of how to do this."
   ]
  },
  {
   "cell_type": "code",
   "execution_count": 2,
   "id": "fb0becc7",
   "metadata": {
    "tags": [
     "remove-input"
    ]
   },
   "outputs": [
    {
     "data": {
      "text/html": [
       "<style type=\"text/css\">\n",
       "#T_2b695 th {\n",
       "  text-align: left;\n",
       "}\n",
       "#T_2b695_row0_col0, #T_2b695_row0_col1, #T_2b695_row1_col0, #T_2b695_row1_col1, #T_2b695_row2_col0, #T_2b695_row2_col1, #T_2b695_row3_col0, #T_2b695_row3_col1, #T_2b695_row4_col0, #T_2b695_row4_col1, #T_2b695_row5_col0, #T_2b695_row5_col1, #T_2b695_row6_col0, #T_2b695_row6_col1, #T_2b695_row7_col0, #T_2b695_row7_col1, #T_2b695_row8_col0, #T_2b695_row8_col1, #T_2b695_row9_col0, #T_2b695_row9_col1, #T_2b695_row10_col0, #T_2b695_row10_col1, #T_2b695_row11_col0, #T_2b695_row11_col1 {\n",
       "  text-align: left;\n",
       "}\n",
       "</style>\n",
       "<table id=\"T_2b695\" style=\"font-size: 14px\">\n",
       "  <thead>\n",
       "    <tr>\n",
       "      <th id=\"T_2b695_level0_col0\" class=\"col_heading level0 col0\" >Dataset Descriptor</th>\n",
       "      <th id=\"T_2b695_level0_col1\" class=\"col_heading level0 col1\" >Dataset-specific Information</th>\n",
       "    </tr>\n",
       "  </thead>\n",
       "  <tbody>\n",
       "    <tr>\n",
       "      <td id=\"T_2b695_row0_col0\" class=\"data row0 col0\" >Name of Dataset in TRE</td>\n",
       "      <td id=\"T_2b695_row0_col1\" class=\"data row0 col1\" >UKLLC_nhse_lsoa11_dataset_mapping</td>\n",
       "    </tr>\n",
       "    <tr>\n",
       "      <td id=\"T_2b695_row1_col0\" class=\"data row1 col0\" >Citation (APA)</td>\n",
       "      <td id=\"T_2b695_row1_col1\" class=\"data row1 col1\" >UK Longitudinal Linkage Collaboration. (2024). <i>UK LLC Managed: NHSE LSOA11 Mappings Dataset.</i> UK Longitudinal Linkage Collaboration (UK LLC).  <a href=\"https://doi.org/10.71760/ukllc-dataset-00441-03\" rel=\"noopener noreferrer\" target=\"_blank\">https://doi.org/10.71760/ukllc-dataset-00441-03</a></td>\n",
       "    </tr>\n",
       "    <tr>\n",
       "      <td id=\"T_2b695_row2_col0\" class=\"data row2 col0\" >Download Citation</td>\n",
       "      <td id=\"T_2b695_row2_col1\" class=\"data row2 col1\" > <a href=\"https://api.datacite.org/application/vnd.citationstyles.csl+json/10.71760/ukllc-dataset-00441-03\" rel=\"noopener noreferrer\" target=\"_blank\">Citeproc JSON</a>&nbsp;&nbsp;&nbsp;&nbsp; <a href=\"https://api.datacite.org/application/x-bibtex/10.71760/ukllc-dataset-00441-03\" rel=\"noopener noreferrer\" target=\"_blank\">BibTeX</a>&nbsp;&nbsp;&nbsp;&nbsp; <a href=\"https://api.datacite.org/application/x-research-info-systems/10.71760/ukllc-dataset-00441-03\" rel=\"noopener noreferrer\" target=\"_blank\">RIS</a></td>\n",
       "    </tr>\n",
       "    <tr>\n",
       "      <td id=\"T_2b695_row3_col0\" class=\"data row3 col0\" >Series</td>\n",
       "      <td id=\"T_2b695_row3_col1\" class=\"data row3 col1\" > <a href=\"https://guidebook.ukllc.ac.uk/docs/ukllc_managed_data/ukllc_data\">UK LLC Managed</a></td>\n",
       "    </tr>\n",
       "    <tr>\n",
       "      <td id=\"T_2b695_row4_col0\" class=\"data row4 col0\" >Owner</td>\n",
       "      <td id=\"T_2b695_row4_col1\" class=\"data row4 col1\" >UK Longitudinal Linkage Collaboration</td>\n",
       "    </tr>\n",
       "    <tr>\n",
       "      <td id=\"T_2b695_row5_col0\" class=\"data row5 col0\" >Temporal Coverage</td>\n",
       "      <td id=\"T_2b695_row5_col1\" class=\"data row5 col1\" >Unknown - Unknown</td>\n",
       "    </tr>\n",
       "    <tr>\n",
       "      <td id=\"T_2b695_row6_col0\" class=\"data row6 col0\" >Keywords</td>\n",
       "      <td id=\"T_2b695_row6_col1\" class=\"data row6 col1\" ></td>\n",
       "    </tr>\n",
       "    <tr>\n",
       "      <td id=\"T_2b695_row7_col0\" class=\"data row7 col0\" >Participant Count</td>\n",
       "      <td id=\"T_2b695_row7_col1\" class=\"data row7 col1\" ></td>\n",
       "    </tr>\n",
       "    <tr>\n",
       "      <td id=\"T_2b695_row8_col0\" class=\"data row8 col0\" >Number of variables</td>\n",
       "      <td id=\"T_2b695_row8_col1\" class=\"data row8 col1\" >5</td>\n",
       "    </tr>\n",
       "    <tr>\n",
       "      <td id=\"T_2b695_row9_col0\" class=\"data row9 col0\" >Number of observations</td>\n",
       "      <td id=\"T_2b695_row9_col1\" class=\"data row9 col1\" >27909775</td>\n",
       "    </tr>\n",
       "    <tr>\n",
       "      <td id=\"T_2b695_row10_col0\" class=\"data row10 col0\" >Specific Restrictions to Data Use</td>\n",
       "      <td id=\"T_2b695_row10_col1\" class=\"data row10 col1\" >None</td>\n",
       "    </tr>\n",
       "    <tr>\n",
       "      <td id=\"T_2b695_row11_col0\" class=\"data row11 col0\" >Build a Data Request</td>\n",
       "      <td id=\"T_2b695_row11_col1\" class=\"data row11 col1\" > <a href=\"https://explore.ukllc.ac.uk/\" rel=\"noopener noreferrer\" target=\"_blank\">https://explore.ukllc.ac.uk/</a></td>\n",
       "    </tr>\n",
       "  </tbody>\n",
       "</table>\n"
      ],
      "text/plain": [
       "<pandas.io.formats.style.Styler at 0x178b84eacf0>"
      ]
     },
     "execution_count": 2,
     "metadata": {},
     "output_type": "execute_result"
    }
   ],
   "source": [
    "ds.info_table()"
   ]
  },
  {
   "cell_type": "markdown",
   "id": "799ad0f1",
   "metadata": {},
   "source": [
    "## 2. Variables"
   ]
  },
  {
   "cell_type": "code",
   "execution_count": 3,
   "id": "4c6731f3",
   "metadata": {
    "tags": [
     "remove-input"
    ]
   },
   "outputs": [
    {
     "data": {
      "text/html": [
       "<style type=\"text/css\">\n",
       "#T_9fbde th {\n",
       "  text-align: left;\n",
       "}\n",
       "#T_9fbde_row0_col0, #T_9fbde_row0_col1, #T_9fbde_row1_col0, #T_9fbde_row1_col1, #T_9fbde_row2_col0, #T_9fbde_row2_col1, #T_9fbde_row3_col0, #T_9fbde_row3_col1, #T_9fbde_row4_col0, #T_9fbde_row4_col1 {\n",
       "  text-align: left;\n",
       "}\n",
       "</style>\n",
       "<table id=\"T_9fbde\" style=\"font-size: 14px\">\n",
       "  <thead>\n",
       "    <tr>\n",
       "      <th id=\"T_9fbde_level0_col0\" class=\"col_heading level0 col0\" >Variable</th>\n",
       "      <th id=\"T_9fbde_level0_col1\" class=\"col_heading level0 col1\" >Description</th>\n",
       "    </tr>\n",
       "  </thead>\n",
       "  <tbody>\n",
       "    <tr>\n",
       "      <td id=\"T_9fbde_row0_col0\" class=\"data row0 col0\" >cohortkey_e</td>\n",
       "      <td id=\"T_9fbde_row0_col1\" class=\"data row0 col1\" >None</td>\n",
       "    </tr>\n",
       "    <tr>\n",
       "      <td id=\"T_9fbde_row1_col0\" class=\"data row1 col0\" >record_date</td>\n",
       "      <td id=\"T_9fbde_row1_col1\" class=\"data row1 col1\" >date stamp from health record</td>\n",
       "    </tr>\n",
       "    <tr>\n",
       "      <td id=\"T_9fbde_row2_col0\" class=\"data row2 col0\" >lsoa11cd_e</td>\n",
       "      <td id=\"T_9fbde_row2_col1\" class=\"data row2 col1\" >encrypted lower super output area 2011</td>\n",
       "    </tr>\n",
       "    <tr>\n",
       "      <td id=\"T_9fbde_row3_col0\" class=\"data row3 col0\" >origin</td>\n",
       "      <td id=\"T_9fbde_row3_col1\" class=\"data row3 col1\" >NHS D dataset LSOA originates</td>\n",
       "    </tr>\n",
       "    <tr>\n",
       "      <td id=\"T_9fbde_row4_col0\" class=\"data row4 col0\" >avail_from_dt</td>\n",
       "      <td id=\"T_9fbde_row4_col1\" class=\"data row4 col1\" >None</td>\n",
       "    </tr>\n",
       "  </tbody>\n",
       "</table>\n"
      ],
      "text/plain": [
       "<pandas.io.formats.style.Styler at 0x178b854d950>"
      ]
     },
     "execution_count": 3,
     "metadata": {},
     "output_type": "execute_result"
    }
   ],
   "source": [
    "ds.variable_table()"
   ]
  },
  {
   "cell_type": "markdown",
   "id": "8a469c49",
   "metadata": {},
   "source": [
    "## 3. Version History"
   ]
  },
  {
   "cell_type": "code",
   "execution_count": 4,
   "id": "41fd9910",
   "metadata": {
    "tags": [
     "remove-input"
    ]
   },
   "outputs": [
    {
     "data": {
      "text/html": [
       "<style type=\"text/css\">\n",
       "#T_024b6 th {\n",
       "  text-align: left;\n",
       "}\n",
       "#T_024b6_row0_col0, #T_024b6_row0_col1, #T_024b6_row0_col2, #T_024b6_row0_col3, #T_024b6_row1_col0, #T_024b6_row1_col1, #T_024b6_row1_col2, #T_024b6_row1_col3, #T_024b6_row2_col0, #T_024b6_row2_col1, #T_024b6_row2_col2, #T_024b6_row2_col3, #T_024b6_row3_col0, #T_024b6_row3_col1, #T_024b6_row3_col2, #T_024b6_row3_col3, #T_024b6_row4_col0, #T_024b6_row4_col1, #T_024b6_row4_col2, #T_024b6_row4_col3 {\n",
       "  text-align: left;\n",
       "}\n",
       "</style>\n",
       "<table id=\"T_024b6\" style=\"font-size: 14px\">\n",
       "  <thead>\n",
       "    <tr>\n",
       "      <th id=\"T_024b6_level0_col0\" class=\"col_heading level0 col0\" >Version</th>\n",
       "      <th id=\"T_024b6_level0_col1\" class=\"col_heading level0 col1\" >1</th>\n",
       "      <th id=\"T_024b6_level0_col2\" class=\"col_heading level0 col2\" >2</th>\n",
       "      <th id=\"T_024b6_level0_col3\" class=\"col_heading level0 col3\" >3</th>\n",
       "    </tr>\n",
       "  </thead>\n",
       "  <tbody>\n",
       "    <tr>\n",
       "      <td id=\"T_024b6_row0_col0\" class=\"data row0 col0\" >Version Date</td>\n",
       "      <td id=\"T_024b6_row0_col1\" class=\"data row0 col1\" >17 Dec 2022</td>\n",
       "      <td id=\"T_024b6_row0_col2\" class=\"data row0 col2\" >12 Dec 2023</td>\n",
       "      <td id=\"T_024b6_row0_col3\" class=\"data row0 col3\" >01 Aug 2024</td>\n",
       "    </tr>\n",
       "    <tr>\n",
       "      <td id=\"T_024b6_row1_col0\" class=\"data row1 col0\" >Number of Variables</td>\n",
       "      <td id=\"T_024b6_row1_col1\" class=\"data row1 col1\" >5</td>\n",
       "      <td id=\"T_024b6_row1_col2\" class=\"data row1 col2\" >5</td>\n",
       "      <td id=\"T_024b6_row1_col3\" class=\"data row1 col3\" >5</td>\n",
       "    </tr>\n",
       "    <tr>\n",
       "      <td id=\"T_024b6_row2_col0\" class=\"data row2 col0\" >Number of Observations</td>\n",
       "      <td id=\"T_024b6_row2_col1\" class=\"data row2 col1\" >18240466</td>\n",
       "      <td id=\"T_024b6_row2_col2\" class=\"data row2 col2\" >22328547</td>\n",
       "      <td id=\"T_024b6_row2_col3\" class=\"data row2 col3\" >27909775</td>\n",
       "    </tr>\n",
       "    <tr>\n",
       "      <td id=\"T_024b6_row3_col0\" class=\"data row3 col0\" >DOI</td>\n",
       "      <td id=\"T_024b6_row3_col1\" class=\"data row3 col1\" > <a href=\"https://doi.org/10.71760/ukllc-dataset-00441-01\" rel=\"noopener noreferrer\" target=\"_blank\">10.71760/ukllc-dataset-00441-01</a></td>\n",
       "      <td id=\"T_024b6_row3_col2\" class=\"data row3 col2\" > <a href=\"https://doi.org/10.71760/ukllc-dataset-00441-02\" rel=\"noopener noreferrer\" target=\"_blank\">10.71760/ukllc-dataset-00441-02</a></td>\n",
       "      <td id=\"T_024b6_row3_col3\" class=\"data row3 col3\" > <a href=\"https://doi.org/10.71760/ukllc-dataset-00441-03\" rel=\"noopener noreferrer\" target=\"_blank\">10.71760/ukllc-dataset-00441-03</a></td>\n",
       "    </tr>\n",
       "    <tr>\n",
       "      <td id=\"T_024b6_row4_col0\" class=\"data row4 col0\" >Change Log</td>\n",
       "      <td id=\"T_024b6_row4_col1\" class=\"data row4 col1\" > <a href=\"https://api.test.datacite.org/dois/10.71760/ukllc-dataset-00441-01/activities\" rel=\"noopener noreferrer\" target=\"_blank\">10.71760/ukllc-dataset-00441-01/activities</a></td>\n",
       "      <td id=\"T_024b6_row4_col2\" class=\"data row4 col2\" > <a href=\"https://api.test.datacite.org/dois/10.71760/ukllc-dataset-00441-02/activities\" rel=\"noopener noreferrer\" target=\"_blank\">10.71760/ukllc-dataset-00441-02/activities</a></td>\n",
       "      <td id=\"T_024b6_row4_col3\" class=\"data row4 col3\" > <a href=\"https://api.test.datacite.org/dois/10.71760/ukllc-dataset-00441-03/activities\" rel=\"noopener noreferrer\" target=\"_blank\">10.71760/ukllc-dataset-00441-03/activities</a></td>\n",
       "    </tr>\n",
       "  </tbody>\n",
       "</table>\n"
      ],
      "text/plain": [
       "<pandas.io.formats.style.Styler at 0x178b854d1d0>"
      ]
     },
     "execution_count": 4,
     "metadata": {},
     "output_type": "execute_result"
    }
   ],
   "source": [
    "ds.version_history()"
   ]
  },
  {
   "cell_type": "markdown",
   "id": "bedf5551",
   "metadata": {},
   "source": [
    "## 4. Useful Syntax"
   ]
  },
  {
   "cell_type": "code",
   "execution_count": 5,
   "id": "29e9d5bb",
   "metadata": {
    "tags": [
     "remove-input"
    ]
   },
   "outputs": [
    {
     "data": {
      "text/markdown": [
       "Below we will include syntax that may be helpful to other researchers in the UK LLC TRE. For longer scripts, we will include a snippet of the code plus a link to Git where you can find the full scripts."
      ],
      "text/plain": [
       "<IPython.core.display.Markdown object>"
      ]
     },
     "metadata": {},
     "output_type": "display_data"
    }
   ],
   "source": [
    "ds.useful_syntax()"
   ]
  }
 ],
 "metadata": {
  "kernelspec": {
   "display_name": "jupbook",
   "language": "python",
   "name": "python3"
  },
  "language_info": {
   "codemirror_mode": {
    "name": "ipython",
    "version": 3
   },
   "file_extension": ".py",
   "mimetype": "text/x-python",
   "name": "python",
   "nbconvert_exporter": "python",
   "pygments_lexer": "ipython3",
   "version": "3.13.2"
  }
 },
 "nbformat": 4,
 "nbformat_minor": 5
}
