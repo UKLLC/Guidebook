{
 "cells": [
  {
   "cell_type": "markdown",
   "id": "beb97ca4",
   "metadata": {},
   "source": [
    "# NHS England Patient Service Usage Dataset"
   ]
  },
  {
   "cell_type": "code",
   "execution_count": 1,
   "id": "e3b8790c",
   "metadata": {
    "tags": [
     "remove-input"
    ]
   },
   "outputs": [
    {
     "data": {
      "text/markdown": [
       ">Last modified: 24 Oct 2025"
      ],
      "text/plain": [
       "<IPython.core.display.Markdown object>"
      ]
     },
     "metadata": {},
     "output_type": "display_data"
    }
   ],
   "source": [
    "import sys\n",
    "import os\n",
    "sys.path.append(os.path.abspath('../../../../scripts/'))\n",
    "from data_doc_helper import UKLLCDataSet as DS, last_modified\n",
    "API_KEY = os.environ['FASTAPI_KEY']\n",
    "ds = DS(\"nhse_patient_service_usage\")\n",
    "last_modified()"
   ]
  },
  {
   "cell_type": "markdown",
   "id": "5b3e81e6",
   "metadata": {},
   "source": [
    "<div style=\"background-color: rgba(0, 178, 169, 0.3); padding: 5px; border-radius: 5px;\"><strong>UK LLC has created a summary dataset of patient service usage using NHS England data.</strong></div>  "
   ]
  },
  {
   "cell_type": "markdown",
   "id": "fe073008",
   "metadata": {},
   "source": [
    "## 1. Summary"
   ]
  },
  {
   "cell_type": "markdown",
   "id": "c938a7b1",
   "metadata": {},
   "source": [
    "The **NHS England patient service usage** dataset, formerly known as the **presence** dataset contains the number of appearances and the date of the most recent appearance in each NHS England dataset for each participant (if available - some NHS datasets do not include record dates). There is one exception - if a project has not been granted access to mental health datasets, data about a participant's presence in a mental health dataset will not be provided. Each project in the TRE is automatically provisioned a file named 'nhse_patient_service_usage_v0000_YYMMDD' (formerly known as 'CORE_NHSD_Presence_v0000_YYYYMMDD'). The dataset includes (CAN THIS BE MOVED TO VARIABLES):   \n",
    "* one row per participant\n",
    "* 'last seen date’ for each participant as the most recent record across all NHS data sources.\n",
    "\n",
    "The dataset includes all **NHS England** linked participants who have permissions from the LPS selected and approved as part of your project. \n",
    "\n",
    "The dataset **enables researchers to**:\n",
    "* identify a project's control group or denominator by comparing LPS participants' overall usage of **NHS England** services against the usage apparent in the data provisioned to a project. For NHS England datasets that have to be [**minimised by codelists**](../../../../linked_health_data/NHS_England/Coding/codelists.md), this comparison will establish which participants appear in the dataset but are not included in the provisioned data \n",
    "* elucidate the extent to which the codelist definitions provided cover the overall participant usage of a service. "
   ]
  },
  {
   "cell_type": "code",
   "execution_count": 2,
   "id": "fb0becc7",
   "metadata": {
    "tags": [
     "remove-input"
    ]
   },
   "outputs": [
    {
     "data": {
      "text/html": [
       "<style type=\"text/css\">\n",
       "#T_b05be th {\n",
       "  text-align: left;\n",
       "}\n",
       "#T_b05be_row0_col0, #T_b05be_row0_col1, #T_b05be_row1_col0, #T_b05be_row1_col1, #T_b05be_row2_col0, #T_b05be_row2_col1, #T_b05be_row3_col0, #T_b05be_row3_col1, #T_b05be_row4_col0, #T_b05be_row4_col1, #T_b05be_row5_col0, #T_b05be_row5_col1, #T_b05be_row6_col0, #T_b05be_row6_col1, #T_b05be_row7_col0, #T_b05be_row7_col1, #T_b05be_row8_col0, #T_b05be_row8_col1, #T_b05be_row9_col0, #T_b05be_row9_col1, #T_b05be_row10_col0, #T_b05be_row10_col1, #T_b05be_row11_col0, #T_b05be_row11_col1 {\n",
       "  text-align: left;\n",
       "}\n",
       "</style>\n",
       "<table id=\"T_b05be\" style=\"font-size: 14px\">\n",
       "  <thead>\n",
       "    <tr>\n",
       "      <th id=\"T_b05be_level0_col0\" class=\"col_heading level0 col0\" >Dataset Descriptor</th>\n",
       "      <th id=\"T_b05be_level0_col1\" class=\"col_heading level0 col1\" >Dataset-specific Information</th>\n",
       "    </tr>\n",
       "  </thead>\n",
       "  <tbody>\n",
       "    <tr>\n",
       "      <td id=\"T_b05be_row0_col0\" class=\"data row0 col0\" >Name of Dataset in TRE</td>\n",
       "      <td id=\"T_b05be_row0_col1\" class=\"data row0 col1\" >UKLLC_nhse_patient_service_usage</td>\n",
       "    </tr>\n",
       "    <tr>\n",
       "      <td id=\"T_b05be_row1_col0\" class=\"data row1 col0\" >Citation (APA)</td>\n",
       "      <td id=\"T_b05be_row1_col1\" class=\"data row1 col1\" >UK Longitudinal Linkage Collaboration. (2024). <i>UK LLC Managed: NHSE Patient Service Usage Dataset.</i> UK Longitudinal Linkage Collaboration (UK LLC).  <a href=\"https://doi.org/10.71760/ukllc-dataset-00439-08\" rel=\"noopener noreferrer\" target=\"_blank\">https://doi.org/10.71760/ukllc-dataset-00439-08</a></td>\n",
       "    </tr>\n",
       "    <tr>\n",
       "      <td id=\"T_b05be_row2_col0\" class=\"data row2 col0\" >Download Citation</td>\n",
       "      <td id=\"T_b05be_row2_col1\" class=\"data row2 col1\" > <a href=\"https://api.datacite.org/application/vnd.citationstyles.csl+json/10.71760/ukllc-dataset-00439-08\" rel=\"noopener noreferrer\" target=\"_blank\">Citeproc JSON</a>&nbsp;&nbsp;&nbsp;&nbsp; <a href=\"https://api.datacite.org/application/x-bibtex/10.71760/ukllc-dataset-00439-08\" rel=\"noopener noreferrer\" target=\"_blank\">BibTeX</a>&nbsp;&nbsp;&nbsp;&nbsp; <a href=\"https://api.datacite.org/application/x-research-info-systems/10.71760/ukllc-dataset-00439-08\" rel=\"noopener noreferrer\" target=\"_blank\">RIS</a></td>\n",
       "    </tr>\n",
       "    <tr>\n",
       "      <td id=\"T_b05be_row3_col0\" class=\"data row3 col0\" >Series</td>\n",
       "      <td id=\"T_b05be_row3_col1\" class=\"data row3 col1\" > <a href=\"https://guidebook.ukllc.ac.uk/docs/ukllc_managed_data/ukllc_data\">UK LLC Managed</a></td>\n",
       "    </tr>\n",
       "    <tr>\n",
       "      <td id=\"T_b05be_row4_col0\" class=\"data row4 col0\" >Owner</td>\n",
       "      <td id=\"T_b05be_row4_col1\" class=\"data row4 col1\" >UK Longitudinal Linkage Collaboration</td>\n",
       "    </tr>\n",
       "    <tr>\n",
       "      <td id=\"T_b05be_row5_col0\" class=\"data row5 col0\" >Temporal Coverage</td>\n",
       "      <td id=\"T_b05be_row5_col1\" class=\"data row5 col1\" >Unknown - Unknown</td>\n",
       "    </tr>\n",
       "    <tr>\n",
       "      <td id=\"T_b05be_row6_col0\" class=\"data row6 col0\" >Keywords</td>\n",
       "      <td id=\"T_b05be_row6_col1\" class=\"data row6 col1\" ></td>\n",
       "    </tr>\n",
       "    <tr>\n",
       "      <td id=\"T_b05be_row7_col0\" class=\"data row7 col0\" >Participant Count</td>\n",
       "      <td id=\"T_b05be_row7_col1\" class=\"data row7 col1\" >246456</td>\n",
       "    </tr>\n",
       "    <tr>\n",
       "      <td id=\"T_b05be_row8_col0\" class=\"data row8 col0\" >Number of variables</td>\n",
       "      <td id=\"T_b05be_row8_col1\" class=\"data row8 col1\" >25</td>\n",
       "    </tr>\n",
       "    <tr>\n",
       "      <td id=\"T_b05be_row9_col0\" class=\"data row9 col0\" >Number of observations</td>\n",
       "      <td id=\"T_b05be_row9_col1\" class=\"data row9 col1\" >246449</td>\n",
       "    </tr>\n",
       "    <tr>\n",
       "      <td id=\"T_b05be_row10_col0\" class=\"data row10 col0\" >Specific Restrictions to Data Use</td>\n",
       "      <td id=\"T_b05be_row10_col1\" class=\"data row10 col1\" >None</td>\n",
       "    </tr>\n",
       "    <tr>\n",
       "      <td id=\"T_b05be_row11_col0\" class=\"data row11 col0\" >Build a Data Request</td>\n",
       "      <td id=\"T_b05be_row11_col1\" class=\"data row11 col1\" > <a href=\"https://explore.ukllc.ac.uk/\" rel=\"noopener noreferrer\" target=\"_blank\">https://explore.ukllc.ac.uk/</a></td>\n",
       "    </tr>\n",
       "  </tbody>\n",
       "</table>\n"
      ],
      "text/plain": [
       "<pandas.io.formats.style.Styler at 0x27e05d4acf0>"
      ]
     },
     "execution_count": 2,
     "metadata": {},
     "output_type": "execute_result"
    }
   ],
   "source": [
    "ds.info_table()"
   ]
  },
  {
   "cell_type": "markdown",
   "id": "799ad0f1",
   "metadata": {},
   "source": [
    "## 2. Variables"
   ]
  },
  {
   "cell_type": "code",
   "execution_count": 3,
   "id": "4c6731f3",
   "metadata": {
    "tags": [
     "remove-input"
    ]
   },
   "outputs": [
    {
     "data": {
      "text/html": [
       "<style type=\"text/css\">\n",
       "#T_7d9b7 th {\n",
       "  text-align: left;\n",
       "}\n",
       "#T_7d9b7_row0_col0, #T_7d9b7_row0_col1, #T_7d9b7_row1_col0, #T_7d9b7_row1_col1, #T_7d9b7_row2_col0, #T_7d9b7_row2_col1, #T_7d9b7_row3_col0, #T_7d9b7_row3_col1, #T_7d9b7_row4_col0, #T_7d9b7_row4_col1, #T_7d9b7_row5_col0, #T_7d9b7_row5_col1, #T_7d9b7_row6_col0, #T_7d9b7_row6_col1, #T_7d9b7_row7_col0, #T_7d9b7_row7_col1, #T_7d9b7_row8_col0, #T_7d9b7_row8_col1, #T_7d9b7_row9_col0, #T_7d9b7_row9_col1, #T_7d9b7_row10_col0, #T_7d9b7_row10_col1, #T_7d9b7_row11_col0, #T_7d9b7_row11_col1, #T_7d9b7_row12_col0, #T_7d9b7_row12_col1, #T_7d9b7_row13_col0, #T_7d9b7_row13_col1, #T_7d9b7_row14_col0, #T_7d9b7_row14_col1, #T_7d9b7_row15_col0, #T_7d9b7_row15_col1, #T_7d9b7_row16_col0, #T_7d9b7_row16_col1, #T_7d9b7_row17_col0, #T_7d9b7_row17_col1, #T_7d9b7_row18_col0, #T_7d9b7_row18_col1, #T_7d9b7_row19_col0, #T_7d9b7_row19_col1, #T_7d9b7_row20_col0, #T_7d9b7_row20_col1, #T_7d9b7_row21_col0, #T_7d9b7_row21_col1, #T_7d9b7_row22_col0, #T_7d9b7_row22_col1, #T_7d9b7_row23_col0, #T_7d9b7_row23_col1, #T_7d9b7_row24_col0, #T_7d9b7_row24_col1 {\n",
       "  text-align: left;\n",
       "}\n",
       "</style>\n",
       "<table id=\"T_7d9b7\" style=\"font-size: 14px\">\n",
       "  <thead>\n",
       "    <tr>\n",
       "      <th id=\"T_7d9b7_level0_col0\" class=\"col_heading level0 col0\" >Variable</th>\n",
       "      <th id=\"T_7d9b7_level0_col1\" class=\"col_heading level0 col1\" >Description</th>\n",
       "    </tr>\n",
       "  </thead>\n",
       "  <tbody>\n",
       "    <tr>\n",
       "      <td id=\"T_7d9b7_row0_col0\" class=\"data row0 col0\" >cohortkey_e</td>\n",
       "      <td id=\"T_7d9b7_row0_col1\" class=\"data row0 col1\" >None</td>\n",
       "    </tr>\n",
       "    <tr>\n",
       "      <td id=\"T_7d9b7_row1_col0\" class=\"data row1 col0\" >cancer_count</td>\n",
       "      <td id=\"T_7d9b7_row1_col1\" class=\"data row1 col1\" >Appearances in cancer table</td>\n",
       "    </tr>\n",
       "    <tr>\n",
       "      <td id=\"T_7d9b7_row2_col0\" class=\"data row2 col0\" >cancer_date</td>\n",
       "      <td id=\"T_7d9b7_row2_col1\" class=\"data row2 col1\" >Date of last appearance in cancer table</td>\n",
       "    </tr>\n",
       "    <tr>\n",
       "      <td id=\"T_7d9b7_row3_col0\" class=\"data row3 col0\" >covidsgss_count</td>\n",
       "      <td id=\"T_7d9b7_row3_col1\" class=\"data row3 col1\" >Appearances in COVIDSGSS table</td>\n",
       "    </tr>\n",
       "    <tr>\n",
       "      <td id=\"T_7d9b7_row4_col0\" class=\"data row4 col0\" >covidsgss_date</td>\n",
       "      <td id=\"T_7d9b7_row4_col1\" class=\"data row4 col1\" >Date of last appearance in COVIDSGSS table</td>\n",
       "    </tr>\n",
       "    <tr>\n",
       "      <td id=\"T_7d9b7_row5_col0\" class=\"data row5 col0\" >cvar_count</td>\n",
       "      <td id=\"T_7d9b7_row5_col1\" class=\"data row5 col1\" >Appearances in CVAR table</td>\n",
       "    </tr>\n",
       "    <tr>\n",
       "      <td id=\"T_7d9b7_row6_col0\" class=\"data row6 col0\" >cvar_date</td>\n",
       "      <td id=\"T_7d9b7_row6_col1\" class=\"data row6 col1\" >Date of last appearance in CVAR table</td>\n",
       "    </tr>\n",
       "    <tr>\n",
       "      <td id=\"T_7d9b7_row7_col0\" class=\"data row7 col0\" >cvs_count</td>\n",
       "      <td id=\"T_7d9b7_row7_col1\" class=\"data row7 col1\" >Appearances in CVS table</td>\n",
       "    </tr>\n",
       "    <tr>\n",
       "      <td id=\"T_7d9b7_row8_col0\" class=\"data row8 col0\" >cvs_date</td>\n",
       "      <td id=\"T_7d9b7_row8_col1\" class=\"data row8 col1\" >Date of last appearance in CVS table</td>\n",
       "    </tr>\n",
       "    <tr>\n",
       "      <td id=\"T_7d9b7_row9_col0\" class=\"data row9 col0\" >gdppr_count</td>\n",
       "      <td id=\"T_7d9b7_row9_col1\" class=\"data row9 col1\" >Appearances in GDPPR table</td>\n",
       "    </tr>\n",
       "    <tr>\n",
       "      <td id=\"T_7d9b7_row10_col0\" class=\"data row10 col0\" >gdppr_date</td>\n",
       "      <td id=\"T_7d9b7_row10_col1\" class=\"data row10 col1\" >Date of last appearance in GDPPR table</td>\n",
       "    </tr>\n",
       "    <tr>\n",
       "      <td id=\"T_7d9b7_row11_col0\" class=\"data row11 col0\" >ielisa_count</td>\n",
       "      <td id=\"T_7d9b7_row11_col1\" class=\"data row11 col1\" >Appearances in IELISA table</td>\n",
       "    </tr>\n",
       "    <tr>\n",
       "      <td id=\"T_7d9b7_row12_col0\" class=\"data row12 col0\" >ielisa_date</td>\n",
       "      <td id=\"T_7d9b7_row12_col1\" class=\"data row12 col1\" >Date of last appearance in IELISA table</td>\n",
       "    </tr>\n",
       "    <tr>\n",
       "      <td id=\"T_7d9b7_row13_col0\" class=\"data row13 col0\" >mortality_count</td>\n",
       "      <td id=\"T_7d9b7_row13_col1\" class=\"data row13 col1\" >Appearances in MORTALITY table</td>\n",
       "    </tr>\n",
       "    <tr>\n",
       "      <td id=\"T_7d9b7_row14_col0\" class=\"data row14 col0\" >mortality_date</td>\n",
       "      <td id=\"T_7d9b7_row14_col1\" class=\"data row14 col1\" >Date of last appearance in MORTALITY table</td>\n",
       "    </tr>\n",
       "    <tr>\n",
       "      <td id=\"T_7d9b7_row15_col0\" class=\"data row15 col0\" >npex_count</td>\n",
       "      <td id=\"T_7d9b7_row15_col1\" class=\"data row15 col1\" >Appearances in NPEX table</td>\n",
       "    </tr>\n",
       "    <tr>\n",
       "      <td id=\"T_7d9b7_row16_col0\" class=\"data row16 col0\" >npex_date</td>\n",
       "      <td id=\"T_7d9b7_row16_col1\" class=\"data row16 col1\" >Date of last appearance in NPEX table</td>\n",
       "    </tr>\n",
       "    <tr>\n",
       "      <td id=\"T_7d9b7_row17_col0\" class=\"data row17 col0\" >pcm_count</td>\n",
       "      <td id=\"T_7d9b7_row17_col1\" class=\"data row17 col1\" >Appearances in PCM table</td>\n",
       "    </tr>\n",
       "    <tr>\n",
       "      <td id=\"T_7d9b7_row18_col0\" class=\"data row18 col0\" >pcm_date</td>\n",
       "      <td id=\"T_7d9b7_row18_col1\" class=\"data row18 col1\" >Date of last appearance in PCM table</td>\n",
       "    </tr>\n",
       "    <tr>\n",
       "      <td id=\"T_7d9b7_row19_col0\" class=\"data row19 col0\" >mhsds_count</td>\n",
       "      <td id=\"T_7d9b7_row19_col1\" class=\"data row19 col1\" >Appearances in MHSDS tables</td>\n",
       "    </tr>\n",
       "    <tr>\n",
       "      <td id=\"T_7d9b7_row20_col0\" class=\"data row20 col0\" >mhsds_date</td>\n",
       "      <td id=\"T_7d9b7_row20_col1\" class=\"data row20 col1\" >None</td>\n",
       "    </tr>\n",
       "    <tr>\n",
       "      <td id=\"T_7d9b7_row21_col0\" class=\"data row21 col0\" >hes_count</td>\n",
       "      <td id=\"T_7d9b7_row21_col1\" class=\"data row21 col1\" >Appearances in HES tables</td>\n",
       "    </tr>\n",
       "    <tr>\n",
       "      <td id=\"T_7d9b7_row22_col0\" class=\"data row22 col0\" >hes_date</td>\n",
       "      <td id=\"T_7d9b7_row22_col1\" class=\"data row22 col1\" >Date of last appearance in HES tables</td>\n",
       "    </tr>\n",
       "    <tr>\n",
       "      <td id=\"T_7d9b7_row23_col0\" class=\"data row23 col0\" >last_seen_date</td>\n",
       "      <td id=\"T_7d9b7_row23_col1\" class=\"data row23 col1\" >Date of last appearance across all NHS tables</td>\n",
       "    </tr>\n",
       "    <tr>\n",
       "      <td id=\"T_7d9b7_row24_col0\" class=\"data row24 col0\" >avail_from_dt</td>\n",
       "      <td id=\"T_7d9b7_row24_col1\" class=\"data row24 col1\" >None</td>\n",
       "    </tr>\n",
       "  </tbody>\n",
       "</table>\n"
      ],
      "text/plain": [
       "<pandas.io.formats.style.Styler at 0x27e05db1a90>"
      ]
     },
     "execution_count": 3,
     "metadata": {},
     "output_type": "execute_result"
    }
   ],
   "source": [
    "ds.variable_table()"
   ]
  },
  {
   "cell_type": "markdown",
   "id": "8a469c49",
   "metadata": {},
   "source": [
    "## 3. Version History"
   ]
  },
  {
   "cell_type": "code",
   "execution_count": 4,
   "id": "41fd9910",
   "metadata": {
    "tags": [
     "remove-input"
    ]
   },
   "outputs": [
    {
     "data": {
      "text/html": [
       "<style type=\"text/css\">\n",
       "#T_99b99 th {\n",
       "  text-align: left;\n",
       "}\n",
       "#T_99b99_row0_col0, #T_99b99_row0_col1, #T_99b99_row0_col2, #T_99b99_row0_col3, #T_99b99_row0_col4, #T_99b99_row1_col0, #T_99b99_row1_col1, #T_99b99_row1_col2, #T_99b99_row1_col3, #T_99b99_row1_col4, #T_99b99_row2_col0, #T_99b99_row2_col1, #T_99b99_row2_col2, #T_99b99_row2_col3, #T_99b99_row2_col4, #T_99b99_row3_col0, #T_99b99_row3_col1, #T_99b99_row3_col2, #T_99b99_row3_col3, #T_99b99_row3_col4, #T_99b99_row4_col0, #T_99b99_row4_col1, #T_99b99_row4_col2, #T_99b99_row4_col3, #T_99b99_row4_col4 {\n",
       "  text-align: left;\n",
       "}\n",
       "</style>\n",
       "<table id=\"T_99b99\" style=\"font-size: 14px\">\n",
       "  <thead>\n",
       "    <tr>\n",
       "      <th id=\"T_99b99_level0_col0\" class=\"col_heading level0 col0\" >Version</th>\n",
       "      <th id=\"T_99b99_level0_col1\" class=\"col_heading level0 col1\" >5</th>\n",
       "      <th id=\"T_99b99_level0_col2\" class=\"col_heading level0 col2\" >6</th>\n",
       "      <th id=\"T_99b99_level0_col3\" class=\"col_heading level0 col3\" >7</th>\n",
       "      <th id=\"T_99b99_level0_col4\" class=\"col_heading level0 col4\" >8</th>\n",
       "    </tr>\n",
       "  </thead>\n",
       "  <tbody>\n",
       "    <tr>\n",
       "      <td id=\"T_99b99_row0_col0\" class=\"data row0 col0\" >Version Date</td>\n",
       "      <td id=\"T_99b99_row0_col1\" class=\"data row0 col1\" >28 Oct 2022</td>\n",
       "      <td id=\"T_99b99_row0_col2\" class=\"data row0 col2\" >16 Dec 2022</td>\n",
       "      <td id=\"T_99b99_row0_col3\" class=\"data row0 col3\" >08 Dec 2023</td>\n",
       "      <td id=\"T_99b99_row0_col4\" class=\"data row0 col4\" >31 Jul 2024</td>\n",
       "    </tr>\n",
       "    <tr>\n",
       "      <td id=\"T_99b99_row1_col0\" class=\"data row1 col0\" >Number of Variables</td>\n",
       "      <td id=\"T_99b99_row1_col1\" class=\"data row1 col1\" >25</td>\n",
       "      <td id=\"T_99b99_row1_col2\" class=\"data row1 col2\" >25</td>\n",
       "      <td id=\"T_99b99_row1_col3\" class=\"data row1 col3\" >25</td>\n",
       "      <td id=\"T_99b99_row1_col4\" class=\"data row1 col4\" >25</td>\n",
       "    </tr>\n",
       "    <tr>\n",
       "      <td id=\"T_99b99_row2_col0\" class=\"data row2 col0\" >Number of Observations</td>\n",
       "      <td id=\"T_99b99_row2_col1\" class=\"data row2 col1\" >196592</td>\n",
       "      <td id=\"T_99b99_row2_col2\" class=\"data row2 col2\" >196592</td>\n",
       "      <td id=\"T_99b99_row2_col3\" class=\"data row2 col3\" >216123</td>\n",
       "      <td id=\"T_99b99_row2_col4\" class=\"data row2 col4\" >246449</td>\n",
       "    </tr>\n",
       "    <tr>\n",
       "      <td id=\"T_99b99_row3_col0\" class=\"data row3 col0\" >DOI</td>\n",
       "      <td id=\"T_99b99_row3_col1\" class=\"data row3 col1\" > <a href=\"https://doi.org/10.71760/ukllc-dataset-00439-05\" rel=\"noopener noreferrer\" target=\"_blank\">10.71760/ukllc-dataset-00439-05</a></td>\n",
       "      <td id=\"T_99b99_row3_col2\" class=\"data row3 col2\" > <a href=\"https://doi.org/10.71760/ukllc-dataset-00439-06\" rel=\"noopener noreferrer\" target=\"_blank\">10.71760/ukllc-dataset-00439-06</a></td>\n",
       "      <td id=\"T_99b99_row3_col3\" class=\"data row3 col3\" > <a href=\"https://doi.org/10.71760/ukllc-dataset-00439-07\" rel=\"noopener noreferrer\" target=\"_blank\">10.71760/ukllc-dataset-00439-07</a></td>\n",
       "      <td id=\"T_99b99_row3_col4\" class=\"data row3 col4\" > <a href=\"https://doi.org/10.71760/ukllc-dataset-00439-08\" rel=\"noopener noreferrer\" target=\"_blank\">10.71760/ukllc-dataset-00439-08</a></td>\n",
       "    </tr>\n",
       "    <tr>\n",
       "      <td id=\"T_99b99_row4_col0\" class=\"data row4 col0\" >Change Log</td>\n",
       "      <td id=\"T_99b99_row4_col1\" class=\"data row4 col1\" > <a href=\"https://api.test.datacite.org/dois/10.71760/ukllc-dataset-00439-05/activities\" rel=\"noopener noreferrer\" target=\"_blank\">10.71760/ukllc-dataset-00439-05/activities</a></td>\n",
       "      <td id=\"T_99b99_row4_col2\" class=\"data row4 col2\" > <a href=\"https://api.test.datacite.org/dois/10.71760/ukllc-dataset-00439-06/activities\" rel=\"noopener noreferrer\" target=\"_blank\">10.71760/ukllc-dataset-00439-06/activities</a></td>\n",
       "      <td id=\"T_99b99_row4_col3\" class=\"data row4 col3\" > <a href=\"https://api.test.datacite.org/dois/10.71760/ukllc-dataset-00439-07/activities\" rel=\"noopener noreferrer\" target=\"_blank\">10.71760/ukllc-dataset-00439-07/activities</a></td>\n",
       "      <td id=\"T_99b99_row4_col4\" class=\"data row4 col4\" > <a href=\"https://api.test.datacite.org/dois/10.71760/ukllc-dataset-00439-08/activities\" rel=\"noopener noreferrer\" target=\"_blank\">10.71760/ukllc-dataset-00439-08/activities</a></td>\n",
       "    </tr>\n",
       "  </tbody>\n",
       "</table>\n"
      ],
      "text/plain": [
       "<pandas.io.formats.style.Styler at 0x27e05db1450>"
      ]
     },
     "execution_count": 4,
     "metadata": {},
     "output_type": "execute_result"
    }
   ],
   "source": [
    "ds.version_history()"
   ]
  },
  {
   "cell_type": "markdown",
   "id": "bedf5551",
   "metadata": {},
   "source": [
    "## 4. Useful Syntax"
   ]
  },
  {
   "cell_type": "code",
   "execution_count": 5,
   "id": "29e9d5bb",
   "metadata": {
    "tags": [
     "remove-input"
    ]
   },
   "outputs": [
    {
     "data": {
      "text/markdown": [
       "Below we will include syntax that may be helpful to other researchers in the UK LLC TRE. For longer scripts, we will include a snippet of the code plus a link to Git where you can find the full scripts."
      ],
      "text/plain": [
       "<IPython.core.display.Markdown object>"
      ]
     },
     "metadata": {},
     "output_type": "display_data"
    }
   ],
   "source": [
    "ds.useful_syntax()"
   ]
  }
 ],
 "metadata": {
  "kernelspec": {
   "display_name": "jupbook",
   "language": "python",
   "name": "python3"
  },
  "language_info": {
   "codemirror_mode": {
    "name": "ipython",
    "version": 3
   },
   "file_extension": ".py",
   "mimetype": "text/x-python",
   "name": "python",
   "nbconvert_exporter": "python",
   "pygments_lexer": "ipython3",
   "version": "3.13.2"
  }
 },
 "nbformat": 4,
 "nbformat_minor": 5
}
