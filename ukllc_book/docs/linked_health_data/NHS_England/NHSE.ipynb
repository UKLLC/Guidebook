{
 "cells": [
  {
   "cell_type": "markdown",
   "id": "c09273ef",
   "metadata": {},
   "source": [
    "# NHS England (NHSE) data"
   ]
  },
  {
   "cell_type": "code",
   "execution_count": 1,
   "id": "f976e3d4",
   "metadata": {
    "tags": [
     "remove-input"
    ]
   },
   "outputs": [
    {
     "data": {
      "text/markdown": [
       ">Last modified: 23 Oct 2025"
      ],
      "text/plain": [
       "<IPython.core.display.Markdown object>"
      ]
     },
     "metadata": {},
     "output_type": "display_data"
    }
   ],
   "source": [
    "import sys\n",
    "import os\n",
    "sys.path.append(os.path.abspath('../../scripts/'))\n",
    "from data_doc_helper import NHSESource, last_modified\n",
    "ss = NHSESource()\n",
    "last_modified()"
   ]
  },
  {
   "cell_type": "markdown",
   "id": "c8463110",
   "metadata": {},
   "source": [
    "<div style=\"background-color: rgba(0, 178, 169, 0.3); padding: 5px; border-radius: 5px;\"><strong>UK LLC has a data sharing agreement with NHS England to flow extracts of >20 datasets into the UK LLC Trusted Research Environment (TRE).</strong></div>  \n",
    "<br>\n",
    "\n",
    "\n",
    "## 1. Introduction  \n",
    "Although NHS England is not the owner of all the datasets (acting as data controller or data processor on behalf of the owner for some), for ease, we refer to the datasets as NHS England datasets. The datasets cover a **variety of domains and time periods**. Their **geographic coverage is restricted to England**, apart from those listed in the footnotes. \n",
    "\n",
    ">* The UK LLC Data Team does **not change the names of the datasets** when they are ingested to the UK LLC TRE, apart from **SGSS** where we added COVID in front of it to distinguish it from the UK Health Security Agency's generalised Second Generation Surveillance System (SGSS).\n",
    "<br>\n",
    ">* Some datasets have been renamed by NHS England, e.g. the **CHESS** dataset is now called the **Severe Acute Respiratory Infection (SARI-Watch) surveillance system**, but we still receive the data from NHS England as the CHESS dataset.\n",
    "<br>\n",
    ">* Some datasets have been **retired** and therefore data only flows for the periods specified.\n",
    "<br>\n",
    ">* Each LPS participant has the power to **opt out** of linkage to their NHS England records.\n",
    "<br>\n",
    "\n",
    "<aside class=\"admonition note\"><p class=\"admonition-title\">FAQs on working with NHSE data are available <a href=\"https://guidebook.ukllc.ac.uk/docs/faq/pages/faq_nhse\" target=\"_blank\" rel=\"noopener noreferrer\">here</a></p></aside>\n",
    "<br>  \n",
    "\n",
    "## 2. Summary"
   ]
  },
  {
   "cell_type": "code",
   "execution_count": 2,
   "id": "63032bb1",
   "metadata": {
    "tags": [
     "remove-input"
    ]
   },
   "outputs": [
    {
     "data": {
      "text/html": [
       "<style type=\"text/css\">\n",
       "#T_4be5d th {\n",
       "  text-align: left;\n",
       "}\n",
       "#T_4be5d_row0_col0, #T_4be5d_row0_col1, #T_4be5d_row1_col0, #T_4be5d_row1_col1, #T_4be5d_row2_col0, #T_4be5d_row2_col1, #T_4be5d_row3_col0, #T_4be5d_row3_col1, #T_4be5d_row4_col0, #T_4be5d_row4_col1, #T_4be5d_row5_col0, #T_4be5d_row5_col1, #T_4be5d_row6_col0, #T_4be5d_row6_col1 {\n",
       "  text-align: left;\n",
       "}\n",
       "</style>\n",
       "<table id=\"T_4be5d\" style=\"font-size: 14px\">\n",
       "  <thead>\n",
       "    <tr>\n",
       "      <th id=\"T_4be5d_level0_col0\" class=\"col_heading level0 col0\" >Series Descriptor</th>\n",
       "      <th id=\"T_4be5d_level0_col1\" class=\"col_heading level0 col1\" >Series-specific Information</th>\n",
       "    </tr>\n",
       "  </thead>\n",
       "  <tbody>\n",
       "    <tr>\n",
       "      <td id=\"T_4be5d_row0_col0\" class=\"data row0 col0\" >Citation (APA)</td>\n",
       "      <td id=\"T_4be5d_row0_col1\" class=\"data row0 col1\" >Data Services, NHS England (NHSE) . (2021). <i>NHS England.</i> UK Longitudinal Linkage Collaboration (UK LLC).  <a href=\"https://doi.org/10.71760/ukllc-series-00014\" rel=\"noopener noreferrer\" target=\"_blank\">https://doi.org/10.71760/ukllc-series-00014</a></td>\n",
       "    </tr>\n",
       "    <tr>\n",
       "      <td id=\"T_4be5d_row1_col0\" class=\"data row1 col0\" >Download Citation</td>\n",
       "      <td id=\"T_4be5d_row1_col1\" class=\"data row1 col1\" > <a href=\"https://api.datacite.org/application/vnd.citationstyles.csl+json/10.71760/ukllc-series-00014\" rel=\"noopener noreferrer\" target=\"_blank\">Citeproc JSON</a>&nbsp;&nbsp;&nbsp;&nbsp; <a href=\"https://api.datacite.org/application/x-bibtex/10.71760/ukllc-series-00014\" rel=\"noopener noreferrer\" target=\"_blank\">BibTeX</a>&nbsp;&nbsp;&nbsp;&nbsp; <a href=\"https://api.datacite.org/application/x-research-info-systems/10.71760/ukllc-series-00014\" rel=\"noopener noreferrer\" target=\"_blank\">RIS</a></td>\n",
       "    </tr>\n",
       "    <tr>\n",
       "      <td id=\"T_4be5d_row2_col0\" class=\"data row2 col0\" >Owner</td>\n",
       "      <td id=\"T_4be5d_row2_col1\" class=\"data row2 col1\" >NHS England, Office for National Statistics and Department of Health and Social Care</td>\n",
       "    </tr>\n",
       "    <tr>\n",
       "      <td id=\"T_4be5d_row3_col0\" class=\"data row3 col0\" >Copyright</td>\n",
       "      <td id=\"T_4be5d_row3_col1\" class=\"data row3 col1\" >Copyright © (2025), NHS England. Data re-used with the permission of NHS England. All rights reserved.</td>\n",
       "    </tr>\n",
       "    <tr>\n",
       "      <td id=\"T_4be5d_row4_col0\" class=\"data row4 col0\" >Geographical Coverage - Nations</td>\n",
       "      <td id=\"T_4be5d_row4_col1\" class=\"data row4 col1\" >England</td>\n",
       "    </tr>\n",
       "    <tr>\n",
       "      <td id=\"T_4be5d_row5_col0\" class=\"data row5 col0\" >Start Date of Data Available</td>\n",
       "      <td id=\"T_4be5d_row5_col1\" class=\"data row5 col1\" >1940s (GDPPR)</td>\n",
       "    </tr>\n",
       "    <tr>\n",
       "      <td id=\"T_4be5d_row6_col0\" class=\"data row6 col0\" >Build a Data Request</td>\n",
       "      <td id=\"T_4be5d_row6_col1\" class=\"data row6 col1\" > <a href=\"https://explore.ukllc.ac.uk/\" rel=\"noopener noreferrer\" target=\"_blank\">https://explore.ukllc.ac.uk/</a></td>\n",
       "    </tr>\n",
       "  </tbody>\n",
       "</table>\n"
      ],
      "text/plain": [
       "<pandas.io.formats.style.Styler at 0x1c4cfc79e80>"
      ]
     },
     "execution_count": 2,
     "metadata": {},
     "output_type": "execute_result"
    }
   ],
   "source": [
    "ss.info_table()"
   ]
  },
  {
   "cell_type": "markdown",
   "id": "12171ceb",
   "metadata": {},
   "source": [
    "## 3. Overview of NHS England datasets\n",
    "**Table 1** Names and availability of NHS England datasets in the UK LLC TRE"
   ]
  },
  {
   "cell_type": "code",
   "execution_count": 3,
   "id": "7dbd10a7",
   "metadata": {
    "tags": [
     "remove-input"
    ]
   },
   "outputs": [
    {
     "data": {
      "text/html": [
       "<style type=\"text/css\">\n",
       "#T_85d10 th {\n",
       "  text-align: left;\n",
       "}\n",
       "#T_85d10_row0_col0, #T_85d10_row0_col1, #T_85d10_row0_col2, #T_85d10_row0_col3, #T_85d10_row0_col4, #T_85d10_row1_col0, #T_85d10_row1_col1, #T_85d10_row1_col2, #T_85d10_row1_col3, #T_85d10_row1_col4, #T_85d10_row2_col0, #T_85d10_row2_col1, #T_85d10_row2_col2, #T_85d10_row2_col3, #T_85d10_row2_col4, #T_85d10_row3_col0, #T_85d10_row3_col1, #T_85d10_row3_col2, #T_85d10_row3_col3, #T_85d10_row3_col4, #T_85d10_row4_col0, #T_85d10_row4_col1, #T_85d10_row4_col2, #T_85d10_row4_col3, #T_85d10_row4_col4, #T_85d10_row5_col0, #T_85d10_row5_col1, #T_85d10_row5_col2, #T_85d10_row5_col3, #T_85d10_row5_col4, #T_85d10_row6_col0, #T_85d10_row6_col1, #T_85d10_row6_col2, #T_85d10_row6_col3, #T_85d10_row6_col4, #T_85d10_row7_col0, #T_85d10_row7_col1, #T_85d10_row7_col2, #T_85d10_row7_col3, #T_85d10_row7_col4, #T_85d10_row8_col0, #T_85d10_row8_col1, #T_85d10_row8_col2, #T_85d10_row8_col3, #T_85d10_row8_col4, #T_85d10_row9_col0, #T_85d10_row9_col1, #T_85d10_row9_col2, #T_85d10_row9_col3, #T_85d10_row9_col4, #T_85d10_row10_col0, #T_85d10_row10_col1, #T_85d10_row10_col2, #T_85d10_row10_col3, #T_85d10_row10_col4, #T_85d10_row11_col0, #T_85d10_row11_col1, #T_85d10_row11_col2, #T_85d10_row11_col3, #T_85d10_row11_col4, #T_85d10_row12_col0, #T_85d10_row12_col1, #T_85d10_row12_col2, #T_85d10_row12_col3, #T_85d10_row12_col4, #T_85d10_row13_col0, #T_85d10_row13_col1, #T_85d10_row13_col2, #T_85d10_row13_col3, #T_85d10_row13_col4, #T_85d10_row14_col0, #T_85d10_row14_col1, #T_85d10_row14_col2, #T_85d10_row14_col3, #T_85d10_row14_col4, #T_85d10_row15_col0, #T_85d10_row15_col1, #T_85d10_row15_col2, #T_85d10_row15_col3, #T_85d10_row15_col4, #T_85d10_row16_col0, #T_85d10_row16_col1, #T_85d10_row16_col2, #T_85d10_row16_col3, #T_85d10_row16_col4, #T_85d10_row17_col0, #T_85d10_row17_col1, #T_85d10_row17_col2, #T_85d10_row17_col3, #T_85d10_row17_col4, #T_85d10_row18_col0, #T_85d10_row18_col1, #T_85d10_row18_col2, #T_85d10_row18_col3, #T_85d10_row18_col4, #T_85d10_row19_col0, #T_85d10_row19_col1, #T_85d10_row19_col2, #T_85d10_row19_col3, #T_85d10_row19_col4, #T_85d10_row20_col0, #T_85d10_row20_col1, #T_85d10_row20_col2, #T_85d10_row20_col3, #T_85d10_row20_col4, #T_85d10_row21_col0, #T_85d10_row21_col1, #T_85d10_row21_col2, #T_85d10_row21_col3, #T_85d10_row21_col4 {\n",
       "  text-align: left;\n",
       "}\n",
       "</style>\n",
       "<table id=\"T_85d10\" style=\"font-size: 14px\">\n",
       "  <thead>\n",
       "    <tr>\n",
       "      <th id=\"T_85d10_level0_col0\" class=\"col_heading level0 col0\" >Dataset</th>\n",
       "      <th id=\"T_85d10_level0_col1\" class=\"col_heading level0 col1\" >Dataset Name</th>\n",
       "      <th id=\"T_85d10_level0_col2\" class=\"col_heading level0 col2\" >Grouping</th>\n",
       "      <th id=\"T_85d10_level0_col3\" class=\"col_heading level0 col3\" >Data Available in TRE</th>\n",
       "      <th id=\"T_85d10_level0_col4\" class=\"col_heading level0 col4\" >Data Owner</th>\n",
       "    </tr>\n",
       "  </thead>\n",
       "  <tbody>\n",
       "    <tr>\n",
       "      <td id=\"T_85d10_row0_col0\" class=\"data row0 col0\" > <a href=\"../NHS_England/Primary_care_datasets/GDPPR/GDPPR.html\">GDPPR</a></td>\n",
       "      <td id=\"T_85d10_row0_col1\" class=\"data row0 col1\" >General Practice Extraction Service (GPES) Data for Pandemic Planning and Research</td>\n",
       "      <td id=\"T_85d10_row0_col2\" class=\"data row0 col2\" >Primary Care</td>\n",
       "      <td id=\"T_85d10_row0_col3\" class=\"data row0 col3\" >01/1940 - ongoing</td>\n",
       "      <td id=\"T_85d10_row0_col4\" class=\"data row0 col4\" >NHSE</td>\n",
       "    </tr>\n",
       "    <tr>\n",
       "      <td id=\"T_85d10_row1_col0\" class=\"data row1 col0\" > <a href=\"../NHS_England/Primary_care_datasets/PCM/PCM.html\">PCM</a></td>\n",
       "      <td id=\"T_85d10_row1_col1\" class=\"data row1 col1\" >Primary Care Medicines (PCM)</td>\n",
       "      <td id=\"T_85d10_row1_col2\" class=\"data row1 col2\" >Primary Care</td>\n",
       "      <td id=\"T_85d10_row1_col3\" class=\"data row1 col3\" >04/2015 - ongoing</td>\n",
       "      <td id=\"T_85d10_row1_col4\" class=\"data row1 col4\" >NHSE</td>\n",
       "    </tr>\n",
       "    <tr>\n",
       "      <td id=\"T_85d10_row2_col0\" class=\"data row2 col0\" > <a href=\"../NHS_England/HES%20datasets/OP/HESOP.html\">HESOP</a></td>\n",
       "      <td id=\"T_85d10_row2_col1\" class=\"data row2 col1\" >Hospital Episode Statistics (HES) Outpatients Dataset</td>\n",
       "      <td id=\"T_85d10_row2_col2\" class=\"data row2 col2\" >Hospital</td>\n",
       "      <td id=\"T_85d10_row2_col3\" class=\"data row2 col3\" >04/2003 - ongoing</td>\n",
       "      <td id=\"T_85d10_row2_col4\" class=\"data row2 col4\" >NHSE</td>\n",
       "    </tr>\n",
       "    <tr>\n",
       "      <td id=\"T_85d10_row3_col0\" class=\"data row3 col0\" > <a href=\"../NHS_England/HES%20datasets/APC/HESAPC.html\">HESAPC</a></td>\n",
       "      <td id=\"T_85d10_row3_col1\" class=\"data row3 col1\" >Hospital Episode Statistics (HES) Admitted Patient Care (APC) Dataset</td>\n",
       "      <td id=\"T_85d10_row3_col2\" class=\"data row3 col2\" >Hospital</td>\n",
       "      <td id=\"T_85d10_row3_col3\" class=\"data row3 col3\" >04/1998 - ongoing</td>\n",
       "      <td id=\"T_85d10_row3_col4\" class=\"data row3 col4\" >NHSE</td>\n",
       "    </tr>\n",
       "    <tr>\n",
       "      <td id=\"T_85d10_row4_col0\" class=\"data row4 col0\" > <a href=\"../NHS_England/HES%20datasets/ACP/HESAPC_ACP.html\">HESAPC_ACP</a></td>\n",
       "      <td id=\"T_85d10_row4_col1\" class=\"data row4 col1\" >Hospital Episode Statistics (HES) Augmented Care Periods (ACP) Dataset</td>\n",
       "      <td id=\"T_85d10_row4_col2\" class=\"data row4 col2\" >Hospital</td>\n",
       "      <td id=\"T_85d10_row4_col3\" class=\"data row4 col3\" >04/1997 - 12/2006</td>\n",
       "      <td id=\"T_85d10_row4_col4\" class=\"data row4 col4\" >NHSE</td>\n",
       "    </tr>\n",
       "    <tr>\n",
       "      <td id=\"T_85d10_row5_col0\" class=\"data row5 col0\" > <a href=\"../NHS_England/HES%20datasets/MAT/HESAPC_MAT.html\">HESAPC_MAT</a></td>\n",
       "      <td id=\"T_85d10_row5_col1\" class=\"data row5 col1\" >Hospital Episode Statistics (HES) Maternity Dataset</td>\n",
       "      <td id=\"T_85d10_row5_col2\" class=\"data row5 col2\" >Hospital</td>\n",
       "      <td id=\"T_85d10_row5_col3\" class=\"data row5 col3\" >04/2000 - ongoing</td>\n",
       "      <td id=\"T_85d10_row5_col4\" class=\"data row5 col4\" >NHSE</td>\n",
       "    </tr>\n",
       "    <tr>\n",
       "      <td id=\"T_85d10_row6_col0\" class=\"data row6 col0\" > <a href=\"../NHS_England/HES%20datasets/CC/HESCC.html\">HESCC</a></td>\n",
       "      <td id=\"T_85d10_row6_col1\" class=\"data row6 col1\" >Hospital Episode Statistics (HES) Critical Care (CC) Minimum Dataset</td>\n",
       "      <td id=\"T_85d10_row6_col2\" class=\"data row6 col2\" >Hospital</td>\n",
       "      <td id=\"T_85d10_row6_col3\" class=\"data row6 col3\" >04/2008 - ongoing</td>\n",
       "      <td id=\"T_85d10_row6_col4\" class=\"data row6 col4\" >NHSE</td>\n",
       "    </tr>\n",
       "    <tr>\n",
       "      <td id=\"T_85d10_row7_col0\" class=\"data row7 col0\" > <a href=\"../NHS_England/HES%20datasets/ECDS/ECDS.html\">ECDS</a></td>\n",
       "      <td id=\"T_85d10_row7_col1\" class=\"data row7 col1\" >Emergency Care Data Set (ECDS)</td>\n",
       "      <td id=\"T_85d10_row7_col2\" class=\"data row7 col2\" >Hospital</td>\n",
       "      <td id=\"T_85d10_row7_col3\" class=\"data row7 col3\" >10/2017 - ongoing</td>\n",
       "      <td id=\"T_85d10_row7_col4\" class=\"data row7 col4\" >NHSE</td>\n",
       "    </tr>\n",
       "    <tr>\n",
       "      <td id=\"T_85d10_row8_col0\" class=\"data row8 col0\" > <a href=\"../NHS_England/HES%20datasets/AE/HESAE.html\">HESAE</a></td>\n",
       "      <td id=\"T_85d10_row8_col1\" class=\"data row8 col1\" >Hospital Episode Statistics (HES) Accident and Emergency Dataset</td>\n",
       "      <td id=\"T_85d10_row8_col2\" class=\"data row8 col2\" >Hospital</td>\n",
       "      <td id=\"T_85d10_row8_col3\" class=\"data row8 col3\" >04/2007 - 12/2020</td>\n",
       "      <td id=\"T_85d10_row8_col4\" class=\"data row8 col4\" >NHSE</td>\n",
       "    </tr>\n",
       "    <tr>\n",
       "      <td id=\"T_85d10_row9_col0\" class=\"data row9 col0\" > <a href=\"../NHS_England/COVID%20datasets/COVIDSGSS/COVIDSGSS.html\">COVIDSGSS</a></td>\n",
       "      <td id=\"T_85d10_row9_col1\" class=\"data row9 col1\" >COVID-19 Second Generation Surveillance System (SGSS)</td>\n",
       "      <td id=\"T_85d10_row9_col2\" class=\"data row9 col2\" >COVID-19</td>\n",
       "      <td id=\"T_85d10_row9_col3\" class=\"data row9 col3\" >04/2020 - ongoing</td>\n",
       "      <td id=\"T_85d10_row9_col4\" class=\"data row9 col4\" >NHSE</td>\n",
       "    </tr>\n",
       "    <tr>\n",
       "      <td id=\"T_85d10_row10_col0\" class=\"data row10 col0\" > <a href=\"../NHS_England/COVID%20datasets/IELISA/IELISA.html\">IELISA</a></td>\n",
       "      <td id=\"T_85d10_row10_col1\" class=\"data row10 col1\" >Enzyme-Linked Immunosorbent Assay</td>\n",
       "      <td id=\"T_85d10_row10_col2\" class=\"data row10 col2\" >COVID-19</td>\n",
       "      <td id=\"T_85d10_row10_col3\" class=\"data row10 col3\" >09/2020 - ongoing</td>\n",
       "      <td id=\"T_85d10_row10_col4\" class=\"data row10 col4\" >DHSC</td>\n",
       "    </tr>\n",
       "    <tr>\n",
       "      <td id=\"T_85d10_row11_col0\" class=\"data row11 col0\" > <a href=\"../NHS_England/COVID%20datasets/NPEX/NPEX.html\">NPEX</a></td>\n",
       "      <td id=\"T_85d10_row11_col1\" class=\"data row11 col1\" >National Pathology Exchange</td>\n",
       "      <td id=\"T_85d10_row11_col2\" class=\"data row11 col2\" >COVID-19</td>\n",
       "      <td id=\"T_85d10_row11_col3\" class=\"data row11 col3\" >04/2020 - ongoing</td>\n",
       "      <td id=\"T_85d10_row11_col4\" class=\"data row11 col4\" >DHSC</td>\n",
       "    </tr>\n",
       "    <tr>\n",
       "      <td id=\"T_85d10_row12_col0\" class=\"data row12 col0\" > <a href=\"../NHS_England/COVID%20datasets/CHESS/CHESS.html\">CHESS</a></td>\n",
       "      <td id=\"T_85d10_row12_col1\" class=\"data row12 col1\" >COVID-19 Hospitalisation in England Surveillance System (CHESS)</td>\n",
       "      <td id=\"T_85d10_row12_col2\" class=\"data row12 col2\" >COVID-19</td>\n",
       "      <td id=\"T_85d10_row12_col3\" class=\"data row12 col3\" >03/2020 - 10/2022</td>\n",
       "      <td id=\"T_85d10_row12_col4\" class=\"data row12 col4\" >NHSE</td>\n",
       "    </tr>\n",
       "    <tr>\n",
       "      <td id=\"T_85d10_row13_col0\" class=\"data row13 col0\" > <a href=\"../NHS_England/COVID%20datasets/CVS/CVS.html\">CVS</a></td>\n",
       "      <td id=\"T_85d10_row13_col1\" class=\"data row13 col1\" >COVID-19 Vaccination Status</td>\n",
       "      <td id=\"T_85d10_row13_col2\" class=\"data row13 col2\" >COVID-19</td>\n",
       "      <td id=\"T_85d10_row13_col3\" class=\"data row13 col3\" >12/2020 - ongoing</td>\n",
       "      <td id=\"T_85d10_row13_col4\" class=\"data row13 col4\" >NHSE</td>\n",
       "    </tr>\n",
       "    <tr>\n",
       "      <td id=\"T_85d10_row14_col0\" class=\"data row14 col0\" > <a href=\"../NHS_England/COVID%20datasets/CVAR/CVAR.html\">CVAR</a></td>\n",
       "      <td id=\"T_85d10_row14_col1\" class=\"data row14 col1\" >COVID-19 Vaccination Adverse Reactions</td>\n",
       "      <td id=\"T_85d10_row14_col2\" class=\"data row14 col2\" >COVID-19</td>\n",
       "      <td id=\"T_85d10_row14_col3\" class=\"data row14 col3\" >12/2020 - ongoing</td>\n",
       "      <td id=\"T_85d10_row14_col4\" class=\"data row14 col4\" >NHSE</td>\n",
       "    </tr>\n",
       "    <tr>\n",
       "      <td id=\"T_85d10_row15_col0\" class=\"data row15 col0\" > <a href=\"../NHS_England/Registration%20datasets/CANCER/CANCER.html\">CANCER</a></td>\n",
       "      <td id=\"T_85d10_row15_col1\" class=\"data row15 col1\" >Cancer Registration Dataset</td>\n",
       "      <td id=\"T_85d10_row15_col2\" class=\"data row15 col2\" >Registration</td>\n",
       "      <td id=\"T_85d10_row15_col3\" class=\"data row15 col3\" >01/1971 - ongoing</td>\n",
       "      <td id=\"T_85d10_row15_col4\" class=\"data row15 col4\" >NHSE</td>\n",
       "    </tr>\n",
       "    <tr>\n",
       "      <td id=\"T_85d10_row16_col0\" class=\"data row16 col0\" > <a href=\"../NHS_England/Registration%20datasets/DEMOGRAPHICS/DEMOGRAPHICS.html\">DEMOGRAPHICS</a></td>\n",
       "      <td id=\"T_85d10_row16_col1\" class=\"data row16 col1\" >Demographics Dataset</td>\n",
       "      <td id=\"T_85d10_row16_col2\" class=\"data row16 col2\" >Registration</td>\n",
       "      <td id=\"T_85d10_row16_col3\" class=\"data row16 col3\" >06/2004 - ongoing</td>\n",
       "      <td id=\"T_85d10_row16_col4\" class=\"data row16 col4\" >NHSE</td>\n",
       "    </tr>\n",
       "    <tr>\n",
       "      <td id=\"T_85d10_row17_col0\" class=\"data row17 col0\" > <a href=\"../NHS_England/Registration%20datasets/MORTALITY/MORTALITY.html\">MORTALITY</a></td>\n",
       "      <td id=\"T_85d10_row17_col1\" class=\"data row17 col1\" >Civil Registration of Deaths Dataset</td>\n",
       "      <td id=\"T_85d10_row17_col2\" class=\"data row17 col2\" >Registration</td>\n",
       "      <td id=\"T_85d10_row17_col3\" class=\"data row17 col3\" >01/1993 - ongoing</td>\n",
       "      <td id=\"T_85d10_row17_col4\" class=\"data row17 col4\" >ONS</td>\n",
       "    </tr>\n",
       "    <tr>\n",
       "      <td id=\"T_85d10_row18_col0\" class=\"data row18 col0\" > <a href=\"../NHS_England/Mental%20health%20datasets/MHSDS/MHSDS.html\">MHSDS</a></td>\n",
       "      <td id=\"T_85d10_row18_col1\" class=\"data row18 col1\" >Mental Health Services Data Set</td>\n",
       "      <td id=\"T_85d10_row18_col2\" class=\"data row18 col2\" >Mental Health</td>\n",
       "      <td id=\"T_85d10_row18_col3\" class=\"data row18 col3\" >04/2006 - ongoing</td>\n",
       "      <td id=\"T_85d10_row18_col4\" class=\"data row18 col4\" >NHSE</td>\n",
       "    </tr>\n",
       "    <tr>\n",
       "      <td id=\"T_85d10_row19_col0\" class=\"data row19 col0\" > <a href=\"../NHS_England/Mental%20health%20datasets/IAPT/IAPT.html\">IAPT</a></td>\n",
       "      <td id=\"T_85d10_row19_col1\" class=\"data row19 col1\" >Talking Therapies for Anxiety and Depression (IAPT)</td>\n",
       "      <td id=\"T_85d10_row19_col2\" class=\"data row19 col2\" >Mental Health</td>\n",
       "      <td id=\"T_85d10_row19_col3\" class=\"data row19 col3\" >04/2012 - ongoing</td>\n",
       "      <td id=\"T_85d10_row19_col4\" class=\"data row19 col4\" >NHSE</td>\n",
       "    </tr>\n",
       "    <tr>\n",
       "      <td id=\"T_85d10_row20_col0\" class=\"data row20 col0\" > <a href=\"../NHS_England/Community%20datasets/CSDS/CSDS.html\">CSDS</a></td>\n",
       "      <td id=\"T_85d10_row20_col1\" class=\"data row20 col1\" >Community Services Data Set (CSDS)</td>\n",
       "      <td id=\"T_85d10_row20_col2\" class=\"data row20 col2\" >Community</td>\n",
       "      <td id=\"T_85d10_row20_col3\" class=\"data row20 col3\" >04/2015 - ongoing</td>\n",
       "      <td id=\"T_85d10_row20_col4\" class=\"data row20 col4\" >NHSE</td>\n",
       "    </tr>\n",
       "    <tr>\n",
       "      <td id=\"T_85d10_row21_col0\" class=\"data row21 col0\" > <a href=\"../NHS_England/Community%20datasets/MSDS/MSDS.html\">MSDS</a></td>\n",
       "      <td id=\"T_85d10_row21_col1\" class=\"data row21 col1\" >Maternity Services Data Set (MSDS)</td>\n",
       "      <td id=\"T_85d10_row21_col2\" class=\"data row21 col2\" >Community</td>\n",
       "      <td id=\"T_85d10_row21_col3\" class=\"data row21 col3\" >N/A</td>\n",
       "      <td id=\"T_85d10_row21_col4\" class=\"data row21 col4\" >NHSE</td>\n",
       "    </tr>\n",
       "  </tbody>\n",
       "</table>\n"
      ],
      "text/plain": [
       "<pandas.io.formats.style.Styler at 0x1c4cfcda210>"
      ]
     },
     "execution_count": 3,
     "metadata": {},
     "output_type": "execute_result"
    }
   ],
   "source": [
    "ss.datasets_table()"
   ]
  },
  {
   "cell_type": "markdown",
   "id": "654cde18",
   "metadata": {},
   "source": [
    "**Note**: \n",
    "* NPEX and IELISA cover England, Northern Ireland, Scotland and Wales.  \n",
    "* MORTALITY and DEMOGRAPHICS cover England and Wales.  \n",
    "* Within MHSDS we include its two precursors, the Mental Health and Learning Disabilities Data Set (MHLDDS) and the Mental Health Minimum Data Set (MHMDS).  \n",
    "* DHSC: Department of Health and Social Care; NHSE: NHS England; ONS: Office for National Statistics "
   ]
  },
  {
   "cell_type": "markdown",
   "id": "a7f6237c",
   "metadata": {},
   "source": [
    "## 4. Change Log"
   ]
  },
  {
   "cell_type": "code",
   "execution_count": 4,
   "id": "bcd13a65",
   "metadata": {
    "tags": [
     "remove-input"
    ]
   },
   "outputs": [
    {
     "data": {
      "text/markdown": [
       "We are currently working on a change log which will show changes to the dataset's metadata."
      ],
      "text/plain": [
       "<IPython.core.display.Markdown object>"
      ]
     },
     "metadata": {},
     "output_type": "display_data"
    }
   ],
   "source": [
    "ss.change_log()"
   ]
  },
  {
   "cell_type": "markdown",
   "id": "2fa5fb48",
   "metadata": {},
   "source": [
    "## 5. Documentation"
   ]
  },
  {
   "cell_type": "code",
   "execution_count": 5,
   "id": "79222d60",
   "metadata": {
    "tags": [
     "remove-input"
    ]
   },
   "outputs": [
    {
     "data": {
      "text/markdown": [
       "We are currently building a documentation storage system which will host useful documents related to datasets and data owners. We will surface these documents on Guidebook."
      ],
      "text/plain": [
       "<IPython.core.display.Markdown object>"
      ]
     },
     "metadata": {},
     "output_type": "display_data"
    }
   ],
   "source": [
    "ss.documentation()"
   ]
  }
 ],
 "metadata": {
  "kernelspec": {
   "display_name": "jupbook",
   "language": "python",
   "name": "python3"
  },
  "language_info": {
   "codemirror_mode": {
    "name": "ipython",
    "version": 3
   },
   "file_extension": ".py",
   "mimetype": "text/x-python",
   "name": "python",
   "nbconvert_exporter": "python",
   "pygments_lexer": "ipython3",
   "version": "3.13.2"
  }
 },
 "nbformat": 4,
 "nbformat_minor": 5
}
