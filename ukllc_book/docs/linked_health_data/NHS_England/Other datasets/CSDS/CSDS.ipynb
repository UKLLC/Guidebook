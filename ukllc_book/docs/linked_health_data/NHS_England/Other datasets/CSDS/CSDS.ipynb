{
 "cells": [
  {
   "attachments": {},
   "cell_type": "markdown",
   "id": "c928623b",
   "metadata": {},
   "source": [
    "# Community Services Data Set (CSDS)"
   ]
  },
  {
   "cell_type": "code",
   "execution_count": 1,
   "id": "910dadbd",
   "metadata": {},
   "outputs": [],
   "source": [
    "# define target dataset to document\n",
    "schema = 'nhsd'\n",
    "table = 'CSDS'\n",
    "table1 = 'CSDS_care_activities'\n",
    "table2 = 'CSDS_care_plans'\n",
    "table3 = 'CSDS_coded_scored_assessments'\n",
    "table4 = 'CSDS_demographics_and_referral'\n",
    "table5 = 'CSDS_diagnoses'\n",
    "table6 = 'CSDS_group_sessions'\n",
    "table7 = 'CSDS_immunisations'\n",
    "table8 = 'CSDS_onward_referrals'\n",
    "table9 = 'CSDS_rtt'\n",
    "version = 'v0003'\n",
    "# import functions from script helper\n",
    "import sys\n",
    "script_fp = \"../../../../scripts/\"\n",
    "sys.path.insert(0, script_fp)\n",
    "from data_doc_helper import DocHelper\n",
    "# create instance\n",
    "document = DocHelper(schema, table, version, script_fp)\n",
    "document1 = DocHelper(schema, table1, version, script_fp)\n",
    "document2 = DocHelper(schema, table2, version, script_fp)\n",
    "document3 = DocHelper(schema, table3, version, script_fp)\n",
    "document4 = DocHelper(schema, table4, version, script_fp)\n",
    "document5 = DocHelper(schema, table5, version, script_fp)\n",
    "document6 = DocHelper(schema, table6, version, script_fp)\n",
    "document7 = DocHelper(schema, table7, version, script_fp)\n",
    "document8 = DocHelper(schema, table8, version, script_fp)\n",
    "document9 = DocHelper(schema, table9, version, script_fp)\n",
    "# markdown/code hybrid cell module requirement\n",
    "from IPython.display import display, Markdown"
   ]
  },
  {
   "cell_type": "markdown",
   "id": "a30a368e",
   "metadata": {},
   "source": [
    "## 1. Summary\n",
    "The CSDS dataset in the UK LLC TRE comprises nine separate datasets."
   ]
  },
  {
   "cell_type": "code",
   "execution_count": 2,
   "id": "681ac7eb",
   "metadata": {},
   "outputs": [
    {
     "data": {
      "text/html": [
       "<style type=\"text/css\">\n",
       "#T_65dde th {\n",
       "  text-align: left;\n",
       "}\n",
       "#T_65dde_row0_col0, #T_65dde_row1_col0, #T_65dde_row2_col0, #T_65dde_row3_col0, #T_65dde_row4_col0, #T_65dde_row5_col0, #T_65dde_row6_col0, #T_65dde_row7_col0, #T_65dde_row8_col0, #T_65dde_row9_col0, #T_65dde_row10_col0, #T_65dde_row11_col0, #T_65dde_row12_col0, #T_65dde_row13_col0, #T_65dde_row14_col0, #T_65dde_row15_col0, #T_65dde_row16_col0, #T_65dde_row17_col0 {\n",
       "  text-align: left;\n",
       "}\n",
       "</style>\n",
       "<table id=\"T_65dde\" style=\"font-size: 14px\">\n",
       "  <thead>\n",
       "    <tr>\n",
       "      <th class=\"index_name level0\" >Dataset descriptor</th>\n",
       "      <th id=\"T_65dde_level0_col0\" class=\"col_heading level0 col0\" >Dataset-specific information</th>\n",
       "    </tr>\n",
       "  </thead>\n",
       "  <tbody>\n",
       "    <tr>\n",
       "      <th id=\"T_65dde_level0_row0\" class=\"row_heading level0 row0\" >Name of dataset in TRE</th>\n",
       "      <td id=\"T_65dde_row0_col0\" class=\"data row0 col0\" >CSDS</td>\n",
       "    </tr>\n",
       "    <tr>\n",
       "      <th id=\"T_65dde_level0_row1\" class=\"row_heading level0 row1\" >Other name</th>\n",
       "      <td id=\"T_65dde_row1_col0\" class=\"data row1 col0\" >None</td>\n",
       "    </tr>\n",
       "    <tr>\n",
       "      <th id=\"T_65dde_level0_row2\" class=\"row_heading level0 row2\" >Owner</th>\n",
       "      <td id=\"T_65dde_row2_col0\" class=\"data row2 col0\" >NHS England</td>\n",
       "    </tr>\n",
       "    <tr>\n",
       "      <th id=\"T_65dde_level0_row3\" class=\"row_heading level0 row3\" >Geographical coverage</th>\n",
       "      <td id=\"T_65dde_row3_col0\" class=\"data row3 col0\" >England</td>\n",
       "    </tr>\n",
       "    <tr>\n",
       "      <th id=\"T_65dde_level0_row4\" class=\"row_heading level0 row4\" >Temporal coverage</th>\n",
       "      <td id=\"T_65dde_row4_col0\" class=\"data row4 col0\" >01/04/2015 onwards</td>\n",
       "    </tr>\n",
       "    <tr>\n",
       "      <th id=\"T_65dde_level0_row5\" class=\"row_heading level0 row5\" >TRE temporal coverage </th>\n",
       "      <td id=\"T_65dde_row5_col0\" class=\"data row5 col0\" >01/04/2015 onwards</td>\n",
       "    </tr>\n",
       "    <tr>\n",
       "      <th id=\"T_65dde_level0_row6\" class=\"row_heading level0 row6\" >Frequency of update</th>\n",
       "      <td id=\"T_65dde_row6_col0\" class=\"data row6 col0\" >None</td>\n",
       "    </tr>\n",
       "    <tr>\n",
       "      <th id=\"T_65dde_level0_row7\" class=\"row_heading level0 row7\" >Date of last extract</th>\n",
       "      <td id=\"T_65dde_row7_col0\" class=\"data row7 col0\" >None</td>\n",
       "    </tr>\n",
       "    <tr>\n",
       "      <th id=\"T_65dde_level0_row8\" class=\"row_heading level0 row8\" >Keywords</th>\n",
       "      <td id=\"T_65dde_row8_col0\" class=\"data row8 col0\" >Community</td>\n",
       "    </tr>\n",
       "    <tr>\n",
       "      <th id=\"T_65dde_level0_row9\" class=\"row_heading level0 row9\" >Short description</th>\n",
       "      <td id=\"T_65dde_row9_col0\" class=\"data row9 col0\" >None</td>\n",
       "    </tr>\n",
       "    <tr>\n",
       "      <th id=\"T_65dde_level0_row10\" class=\"row_heading level0 row10\" >DOI</th>\n",
       "      <td id=\"T_65dde_row10_col0\" class=\"data row10 col0\" >None</td>\n",
       "    </tr>\n",
       "    <tr>\n",
       "      <th id=\"T_65dde_level0_row11\" class=\"row_heading level0 row11\" >Data resolution </th>\n",
       "      <td id=\"T_65dde_row11_col0\" class=\"data row11 col0\" >None</td>\n",
       "    </tr>\n",
       "    <tr>\n",
       "      <th id=\"T_65dde_level0_row12\" class=\"row_heading level0 row12\" >Number of variables</th>\n",
       "      <td id=\"T_65dde_row12_col0\" class=\"data row12 col0\" >None</td>\n",
       "    </tr>\n",
       "    <tr>\n",
       "      <th id=\"T_65dde_level0_row13\" class=\"row_heading level0 row13\" >Number of participants</th>\n",
       "      <td id=\"T_65dde_row13_col0\" class=\"data row13 col0\" >None</td>\n",
       "    </tr>\n",
       "    <tr>\n",
       "      <th id=\"T_65dde_level0_row14\" class=\"row_heading level0 row14\" >Number of observations</th>\n",
       "      <td id=\"T_65dde_row14_col0\" class=\"data row14 col0\" >None</td>\n",
       "    </tr>\n",
       "    <tr>\n",
       "      <th id=\"T_65dde_level0_row15\" class=\"row_heading level0 row15\" >Version </th>\n",
       "      <td id=\"T_65dde_row15_col0\" class=\"data row15 col0\" >None</td>\n",
       "    </tr>\n",
       "    <tr>\n",
       "      <th id=\"T_65dde_level0_row16\" class=\"row_heading level0 row16\" >Key link</th>\n",
       "      <td id=\"T_65dde_row16_col0\" class=\"data row16 col0\" >https://digital.nhs.uk/data-and-information/data-collections-and-data-sets/data-sets/community-services-data-set</td>\n",
       "    </tr>\n",
       "    <tr>\n",
       "      <th id=\"T_65dde_level0_row17\" class=\"row_heading level0 row17\" >Specific restrictions to data use</th>\n",
       "      <td id=\"T_65dde_row17_col0\" class=\"data row17 col0\" >None</td>\n",
       "    </tr>\n",
       "  </tbody>\n",
       "</table>\n"
      ],
      "text/plain": [
       "<pandas.io.formats.style.Styler at 0x1a8f0229520>"
      ]
     },
     "metadata": {},
     "output_type": "display_data"
    }
   ],
   "source": [
    "display(document.style_table(document.get_dataset_info()))"
   ]
  },
  {
   "attachments": {},
   "cell_type": "markdown",
   "id": "ee2455db",
   "metadata": {},
   "source": [
    "## 2. Metrics\n",
    "The tables below summarise the nine datasets that make up the CSDS dataset in the UK LLC TRE."
   ]
  },
  {
   "attachments": {},
   "cell_type": "markdown",
   "id": "784c3f31",
   "metadata": {},
   "source": [
    "**2.1 CSDS Care Activities**"
   ]
  },
  {
   "attachments": {},
   "cell_type": "markdown",
   "id": "e0d88fc3",
   "metadata": {},
   "source": [
    "**Table 1** The number of participants from each LPS that are represented in the CSDS_Care_Activities dataset in the UK LLC TRE  \n",
    "(**Note**: numbers relate to the most recent extract of NHS England data)"
   ]
  },
  {
   "cell_type": "code",
   "execution_count": 3,
   "id": "877ef22f",
   "metadata": {},
   "outputs": [
    {
     "name": "stdout",
     "output_type": "stream",
     "text": [
      "╒════════════════╤═════════════════════╕\n",
      "│ LPS            │   Participant count │\n",
      "╞════════════════╪═════════════════════╡\n",
      "│ ALSPAC         │                1855 │\n",
      "├────────────────┼─────────────────────┤\n",
      "│ BCS70          │                1536 │\n",
      "├────────────────┼─────────────────────┤\n",
      "│ BIB            │               15536 │\n",
      "├────────────────┼─────────────────────┤\n",
      "│ ELSA           │                3524 │\n",
      "├────────────────┼─────────────────────┤\n",
      "│ EPICN          │                9623 │\n",
      "├────────────────┼─────────────────────┤\n",
      "│ EXCEED         │                4263 │\n",
      "├────────────────┼─────────────────────┤\n",
      "│ FENLAND        │                3739 │\n",
      "├────────────────┼─────────────────────┤\n",
      "│ GLAD           │               27391 │\n",
      "├────────────────┼─────────────────────┤\n",
      "│ MCS            │                4788 │\n",
      "├────────────────┼─────────────────────┤\n",
      "│ NCDS58         │                2180 │\n",
      "├────────────────┼─────────────────────┤\n",
      "│ NEXTSTEP       │                1800 │\n",
      "├────────────────┼─────────────────────┤\n",
      "│ NIHRBIO_COPING │                5596 │\n",
      "├────────────────┼─────────────────────┤\n",
      "│ NSHD46         │                1200 │\n",
      "├────────────────┼─────────────────────┤\n",
      "│ TEDS           │                1698 │\n",
      "├────────────────┼─────────────────────┤\n",
      "│ TRACKC19       │                4040 │\n",
      "├────────────────┼─────────────────────┤\n",
      "│ TWINSUK        │                4586 │\n",
      "├────────────────┼─────────────────────┤\n",
      "│ UKHLS          │                2320 │\n",
      "├────────────────┼─────────────────────┤\n",
      "│ TOTAL          │               95675 │\n",
      "╘════════════════╧═════════════════════╛\n"
     ]
    }
   ],
   "source": [
    "gb_cohort = document1.get_cohort_count()\n",
    "print(gb_cohort.to_markdown(index=False, tablefmt=\"fancy_grid\"))"
   ]
  },
  {
   "attachments": {},
   "cell_type": "markdown",
   "id": "f7bfffd3",
   "metadata": {},
   "source": [
    "**2.2 CSDS Care Plans**"
   ]
  },
  {
   "attachments": {},
   "cell_type": "markdown",
   "id": "3ab7db70",
   "metadata": {},
   "source": [
    "**Table 2** The number of participants from each LPS that are represented in the CSDS_Care_Plans dataset in the UK LLC TRE  \n",
    "(**Note**: numbers relate to the most recent extract of NHS England data)"
   ]
  },
  {
   "cell_type": "code",
   "execution_count": 4,
   "id": "cc8e7c87",
   "metadata": {},
   "outputs": [
    {
     "name": "stdout",
     "output_type": "stream",
     "text": [
      "╒════════════════╤═════════════════════╕\n",
      "│ LPS            │   Participant count │\n",
      "╞════════════════╪═════════════════════╡\n",
      "│ ALSPAC         │                  21 │\n",
      "├────────────────┼─────────────────────┤\n",
      "│ BCS70          │                 109 │\n",
      "├────────────────┼─────────────────────┤\n",
      "│ BIB            │                 429 │\n",
      "├────────────────┼─────────────────────┤\n",
      "│ ELSA           │                 552 │\n",
      "├────────────────┼─────────────────────┤\n",
      "│ EPICN          │                4587 │\n",
      "├────────────────┼─────────────────────┤\n",
      "│ EXCEED         │                  30 │\n",
      "├────────────────┼─────────────────────┤\n",
      "│ FENLAND        │                 301 │\n",
      "├────────────────┼─────────────────────┤\n",
      "│ GLAD           │                1982 │\n",
      "├────────────────┼─────────────────────┤\n",
      "│ MCS            │                 347 │\n",
      "├────────────────┼─────────────────────┤\n",
      "│ NCDS58         │                 203 │\n",
      "├────────────────┼─────────────────────┤\n",
      "│ NEXTSTEP       │                  56 │\n",
      "├────────────────┼─────────────────────┤\n",
      "│ NIHRBIO_COPING │                 478 │\n",
      "├────────────────┼─────────────────────┤\n",
      "│ NSHD46         │                 162 │\n",
      "├────────────────┼─────────────────────┤\n",
      "│ TEDS           │                  55 │\n",
      "├────────────────┼─────────────────────┤\n",
      "│ TRACKC19       │                 291 │\n",
      "├────────────────┼─────────────────────┤\n",
      "│ TWINSUK        │                 533 │\n",
      "├────────────────┼─────────────────────┤\n",
      "│ UKHLS          │                 208 │\n",
      "├────────────────┼─────────────────────┤\n",
      "│ TOTAL          │               10344 │\n",
      "╘════════════════╧═════════════════════╛\n"
     ]
    }
   ],
   "source": [
    "gb_cohort = document2.get_cohort_count()\n",
    "print(gb_cohort.to_markdown(index=False, tablefmt=\"fancy_grid\"))"
   ]
  },
  {
   "attachments": {},
   "cell_type": "markdown",
   "id": "7c537db9",
   "metadata": {},
   "source": [
    "**2.3 CSDS Coded Scored Assessments**"
   ]
  },
  {
   "attachments": {},
   "cell_type": "markdown",
   "id": "e089d5a7",
   "metadata": {},
   "source": [
    "**Table 3** The number of participants from each LPS that are represented in the CSDS_Coded_Score_Assessments dataset in the UK LLC TRE  \n",
    "(**Note**: numbers relate to the most recent extract of NHS England data)"
   ]
  },
  {
   "cell_type": "code",
   "execution_count": 5,
   "id": "81c54745",
   "metadata": {},
   "outputs": [
    {
     "name": "stdout",
     "output_type": "stream",
     "text": [
      "╒════════════════╤═════════════════════╕\n",
      "│ LPS            │ Participant count   │\n",
      "╞════════════════╪═════════════════════╡\n",
      "│ ALSPAC         │ <10                 │\n",
      "├────────────────┼─────────────────────┤\n",
      "│ BCS70          │ <10                 │\n",
      "├────────────────┼─────────────────────┤\n",
      "│ BIB            │ <10                 │\n",
      "├────────────────┼─────────────────────┤\n",
      "│ ELSA           │ 25                  │\n",
      "├────────────────┼─────────────────────┤\n",
      "│ EPICN          │ <10                 │\n",
      "├────────────────┼─────────────────────┤\n",
      "│ EXCEED         │ 113                 │\n",
      "├────────────────┼─────────────────────┤\n",
      "│ FENLAND        │ <10                 │\n",
      "├────────────────┼─────────────────────┤\n",
      "│ GLAD           │ 43                  │\n",
      "├────────────────┼─────────────────────┤\n",
      "│ MCS            │ <10                 │\n",
      "├────────────────┼─────────────────────┤\n",
      "│ NCDS58         │ 11                  │\n",
      "├────────────────┼─────────────────────┤\n",
      "│ NEXTSTEP       │ 0                   │\n",
      "├────────────────┼─────────────────────┤\n",
      "│ NIHRBIO_COPING │ 21                  │\n",
      "├────────────────┼─────────────────────┤\n",
      "│ NSHD46         │ <10                 │\n",
      "├────────────────┼─────────────────────┤\n",
      "│ TEDS           │ 0                   │\n",
      "├────────────────┼─────────────────────┤\n",
      "│ TRACKC19       │ 17                  │\n",
      "├────────────────┼─────────────────────┤\n",
      "│ TWINSUK        │ 18                  │\n",
      "├────────────────┼─────────────────────┤\n",
      "│ UKHLS          │ 10                  │\n",
      "├────────────────┼─────────────────────┤\n",
      "│ TOTAL          │ 258                 │\n",
      "╘════════════════╧═════════════════════╛\n"
     ]
    }
   ],
   "source": [
    "gb_cohort = document3.get_cohort_count()\n",
    "print(gb_cohort.to_markdown(index=False, tablefmt=\"fancy_grid\"))"
   ]
  },
  {
   "attachments": {},
   "cell_type": "markdown",
   "id": "f8931224",
   "metadata": {},
   "source": [
    "**2.4 CSDS Demographics and Referral**"
   ]
  },
  {
   "attachments": {},
   "cell_type": "markdown",
   "id": "f052aba6",
   "metadata": {},
   "source": [
    "**Table 4** The number of participants from each LPS that are represented in the CSDS_demographics_and_referral dataset in the UK LLC TRE  \n",
    "(**Note**: numbers relate to the most recent extract of NHS England data)"
   ]
  },
  {
   "cell_type": "code",
   "execution_count": 6,
   "id": "0488b925",
   "metadata": {},
   "outputs": [
    {
     "name": "stdout",
     "output_type": "stream",
     "text": [
      "╒════════════════╤═════════════════════╕\n",
      "│ LPS            │   Participant count │\n",
      "╞════════════════╪═════════════════════╡\n",
      "│ ALSPAC         │                2502 │\n",
      "├────────────────┼─────────────────────┤\n",
      "│ BCS70          │                2007 │\n",
      "├────────────────┼─────────────────────┤\n",
      "│ BIB            │               20900 │\n",
      "├────────────────┼─────────────────────┤\n",
      "│ ELSA           │                4024 │\n",
      "├────────────────┼─────────────────────┤\n",
      "│ EPICN          │               10483 │\n",
      "├────────────────┼─────────────────────┤\n",
      "│ EXCEED         │                4766 │\n",
      "├────────────────┼─────────────────────┤\n",
      "│ FENLAND        │                4490 │\n",
      "├────────────────┼─────────────────────┤\n",
      "│ GLAD           │               36833 │\n",
      "├────────────────┼─────────────────────┤\n",
      "│ MCS            │                8348 │\n",
      "├────────────────┼─────────────────────┤\n",
      "│ NCDS58         │                2610 │\n",
      "├────────────────┼─────────────────────┤\n",
      "│ NEXTSTEP       │                2321 │\n",
      "├────────────────┼─────────────────────┤\n",
      "│ NIHRBIO_COPING │                6959 │\n",
      "├────────────────┼─────────────────────┤\n",
      "│ NSHD46         │                1381 │\n",
      "├────────────────┼─────────────────────┤\n",
      "│ TEDS           │                2412 │\n",
      "├────────────────┼─────────────────────┤\n",
      "│ TRACKC19       │                5168 │\n",
      "├────────────────┼─────────────────────┤\n",
      "│ TWINSUK        │                5815 │\n",
      "├────────────────┼─────────────────────┤\n",
      "│ UKHLS          │                2990 │\n",
      "├────────────────┼─────────────────────┤\n",
      "│ TOTAL          │              124009 │\n",
      "╘════════════════╧═════════════════════╛\n"
     ]
    }
   ],
   "source": [
    "gb_cohort = document4.get_cohort_count()\n",
    "print(gb_cohort.to_markdown(index=False, tablefmt=\"fancy_grid\"))"
   ]
  },
  {
   "attachments": {},
   "cell_type": "markdown",
   "id": "2949541d",
   "metadata": {},
   "source": [
    "**2.5 CSDS diagnoses**"
   ]
  },
  {
   "attachments": {},
   "cell_type": "markdown",
   "id": "c3ea0f8c",
   "metadata": {},
   "source": [
    "**Table 5** The number of participants from each LPS that are represented in the CSDS_diagnoses dataset in the UK LLC TRE  \n",
    "(**Note**: numbers relate to the most recent extract of NHS England data)"
   ]
  },
  {
   "cell_type": "code",
   "execution_count": 7,
   "id": "fea7cb7d",
   "metadata": {},
   "outputs": [
    {
     "name": "stdout",
     "output_type": "stream",
     "text": [
      "╒════════════════╤═════════════════════╕\n",
      "│ LPS            │   Participant count │\n",
      "╞════════════════╪═════════════════════╡\n",
      "│ ALSPAC         │                  29 │\n",
      "├────────────────┼─────────────────────┤\n",
      "│ BCS70          │                 270 │\n",
      "├────────────────┼─────────────────────┤\n",
      "│ BIB            │                1340 │\n",
      "├────────────────┼─────────────────────┤\n",
      "│ ELSA           │                 800 │\n",
      "├────────────────┼─────────────────────┤\n",
      "│ EPICN          │                2191 │\n",
      "├────────────────┼─────────────────────┤\n",
      "│ EXCEED         │                  54 │\n",
      "├────────────────┼─────────────────────┤\n",
      "│ FENLAND        │                 422 │\n",
      "├────────────────┼─────────────────────┤\n",
      "│ GLAD           │                4016 │\n",
      "├────────────────┼─────────────────────┤\n",
      "│ MCS            │                 727 │\n",
      "├────────────────┼─────────────────────┤\n",
      "│ NCDS58         │                 414 │\n",
      "├────────────────┼─────────────────────┤\n",
      "│ NEXTSTEP       │                 154 │\n",
      "├────────────────┼─────────────────────┤\n",
      "│ NIHRBIO_COPING │                 904 │\n",
      "├────────────────┼─────────────────────┤\n",
      "│ NSHD46         │                 266 │\n",
      "├────────────────┼─────────────────────┤\n",
      "│ TEDS           │                 160 │\n",
      "├────────────────┼─────────────────────┤\n",
      "│ TRACKC19       │                 712 │\n",
      "├────────────────┼─────────────────────┤\n",
      "│ TWINSUK        │                 771 │\n",
      "├────────────────┼─────────────────────┤\n",
      "│ UKHLS          │                 424 │\n",
      "├────────────────┼─────────────────────┤\n",
      "│ TOTAL          │               13654 │\n",
      "╘════════════════╧═════════════════════╛\n"
     ]
    }
   ],
   "source": [
    "gb_cohort = document5.get_cohort_count()\n",
    "print(gb_cohort.to_markdown(index=False, tablefmt=\"fancy_grid\"))"
   ]
  },
  {
   "attachments": {},
   "cell_type": "markdown",
   "id": "cb496974",
   "metadata": {},
   "source": [
    "**2.6 CSDS Group Sessions**"
   ]
  },
  {
   "attachments": {},
   "cell_type": "markdown",
   "id": "6f4484f3",
   "metadata": {},
   "source": [
    "**Table 6** The number of participants from each LPS that are represented in the CSDS_group_sessions dataset in the UK LLC TRE  \n",
    "(**Note**: numbers relate to the most recent extract of NHS England data)"
   ]
  },
  {
   "cell_type": "code",
   "execution_count": 8,
   "id": "e642ca2c",
   "metadata": {},
   "outputs": [
    {
     "name": "stdout",
     "output_type": "stream",
     "text": [
      "╒═══════╤═════════════════════╕\n",
      "│ LPS   │   Participant count │\n",
      "╞═══════╪═════════════════════╡\n",
      "│ TOTAL │                   0 │\n",
      "╘═══════╧═════════════════════╛\n"
     ]
    }
   ],
   "source": [
    "gb_cohort = document6.get_cohort_count()\n",
    "print(gb_cohort.to_markdown(index=False, tablefmt=\"fancy_grid\"))"
   ]
  },
  {
   "attachments": {},
   "cell_type": "markdown",
   "id": "9c6f5bee",
   "metadata": {},
   "source": [
    "**2.7 CSDS Immunisations**"
   ]
  },
  {
   "attachments": {},
   "cell_type": "markdown",
   "id": "b56ba8e3",
   "metadata": {},
   "source": [
    "**Table 7** The number of participants from each LPS that are represented in the CSDS_immunisations dataset in the UK LLC TRE  \n",
    "(**Note**: numbers relate to the most recent extract of NHS England data)"
   ]
  },
  {
   "cell_type": "code",
   "execution_count": 9,
   "id": "0005f4f8",
   "metadata": {},
   "outputs": [
    {
     "name": "stdout",
     "output_type": "stream",
     "text": [
      "╒════════════════╤═════════════════════╕\n",
      "│ LPS            │ Participant count   │\n",
      "╞════════════════╪═════════════════════╡\n",
      "│ ALSPAC         │ <10                 │\n",
      "├────────────────┼─────────────────────┤\n",
      "│ BCS70          │ <10                 │\n",
      "├────────────────┼─────────────────────┤\n",
      "│ BIB            │ 6392                │\n",
      "├────────────────┼─────────────────────┤\n",
      "│ ELSA           │ <10                 │\n",
      "├────────────────┼─────────────────────┤\n",
      "│ EPICN          │ <10                 │\n",
      "├────────────────┼─────────────────────┤\n",
      "│ EXCEED         │ 11                  │\n",
      "├────────────────┼─────────────────────┤\n",
      "│ FENLAND        │ 0                   │\n",
      "├────────────────┼─────────────────────┤\n",
      "│ GLAD           │ 2707                │\n",
      "├────────────────┼─────────────────────┤\n",
      "│ MCS            │ 1324                │\n",
      "├────────────────┼─────────────────────┤\n",
      "│ NCDS58         │ <10                 │\n",
      "├────────────────┼─────────────────────┤\n",
      "│ NEXTSTEP       │ 17                  │\n",
      "├────────────────┼─────────────────────┤\n",
      "│ NIHRBIO_COPING │ 46                  │\n",
      "├────────────────┼─────────────────────┤\n",
      "│ NSHD46         │ <10                 │\n",
      "├────────────────┼─────────────────────┤\n",
      "│ TEDS           │ 36                  │\n",
      "├────────────────┼─────────────────────┤\n",
      "│ TRACKC19       │ <10                 │\n",
      "├────────────────┼─────────────────────┤\n",
      "│ TWINSUK        │ 87                  │\n",
      "├────────────────┼─────────────────────┤\n",
      "│ UKHLS          │ 64                  │\n",
      "├────────────────┼─────────────────────┤\n",
      "│ TOTAL          │ 10684               │\n",
      "╘════════════════╧═════════════════════╛\n"
     ]
    }
   ],
   "source": [
    "gb_cohort = document7.get_cohort_count()\n",
    "print(gb_cohort.to_markdown(index=False, tablefmt=\"fancy_grid\"))"
   ]
  },
  {
   "attachments": {},
   "cell_type": "markdown",
   "id": "d86fffc8",
   "metadata": {},
   "source": [
    "**2.8 CSDS Onward Referrals**"
   ]
  },
  {
   "attachments": {},
   "cell_type": "markdown",
   "id": "62e1ee9c",
   "metadata": {},
   "source": [
    "**Table 8** The number of participants from each LPS that are represented in the CSDS_onward_referrals dataset in the UK LLC TRE  \n",
    "(**Note**: numbers relate to the most recent extract of NHS England data)"
   ]
  },
  {
   "cell_type": "code",
   "execution_count": 10,
   "id": "ef28fdb3",
   "metadata": {},
   "outputs": [
    {
     "name": "stdout",
     "output_type": "stream",
     "text": [
      "╒════════════════╤═════════════════════╕\n",
      "│ LPS            │   Participant count │\n",
      "╞════════════════╪═════════════════════╡\n",
      "│ ALSPAC         │                  14 │\n",
      "├────────────────┼─────────────────────┤\n",
      "│ BCS70          │                  60 │\n",
      "├────────────────┼─────────────────────┤\n",
      "│ BIB            │                 546 │\n",
      "├────────────────┼─────────────────────┤\n",
      "│ ELSA           │                 218 │\n",
      "├────────────────┼─────────────────────┤\n",
      "│ EPICN          │                 222 │\n",
      "├────────────────┼─────────────────────┤\n",
      "│ EXCEED         │                  52 │\n",
      "├────────────────┼─────────────────────┤\n",
      "│ FENLAND        │                 802 │\n",
      "├────────────────┼─────────────────────┤\n",
      "│ GLAD           │                1144 │\n",
      "├────────────────┼─────────────────────┤\n",
      "│ MCS            │                 229 │\n",
      "├────────────────┼─────────────────────┤\n",
      "│ NCDS58         │                 116 │\n",
      "├────────────────┼─────────────────────┤\n",
      "│ NEXTSTEP       │                  50 │\n",
      "├────────────────┼─────────────────────┤\n",
      "│ NIHRBIO_COPING │                 400 │\n",
      "├────────────────┼─────────────────────┤\n",
      "│ NSHD46         │                  56 │\n",
      "├────────────────┼─────────────────────┤\n",
      "│ TEDS           │                  33 │\n",
      "├────────────────┼─────────────────────┤\n",
      "│ TRACKC19       │                 203 │\n",
      "├────────────────┼─────────────────────┤\n",
      "│ TWINSUK        │                 253 │\n",
      "├────────────────┼─────────────────────┤\n",
      "│ UKHLS          │                  95 │\n",
      "├────────────────┼─────────────────────┤\n",
      "│ TOTAL          │                4493 │\n",
      "╘════════════════╧═════════════════════╛\n"
     ]
    }
   ],
   "source": [
    "gb_cohort = document8.get_cohort_count()\n",
    "print(gb_cohort.to_markdown(index=False, tablefmt=\"fancy_grid\"))"
   ]
  },
  {
   "attachments": {},
   "cell_type": "markdown",
   "id": "ce6b0eb6",
   "metadata": {},
   "source": [
    "**2.9 CSDS Referral to Treatment**"
   ]
  },
  {
   "attachments": {},
   "cell_type": "markdown",
   "id": "451fd401",
   "metadata": {},
   "source": [
    "**Table 9** The number of participants from each LPS that are represented in the CSDS_onward_referrals dataset in the UK LLC TRE  \n",
    "(**Note**: numbers relate to the most recent extract of NHS England data)"
   ]
  },
  {
   "cell_type": "code",
   "execution_count": 11,
   "id": "b9c2cb1e",
   "metadata": {},
   "outputs": [
    {
     "name": "stdout",
     "output_type": "stream",
     "text": [
      "╒════════════════╤═════════════════════╕\n",
      "│ LPS            │   Participant count │\n",
      "╞════════════════╪═════════════════════╡\n",
      "│ ALSPAC         │                 183 │\n",
      "├────────────────┼─────────────────────┤\n",
      "│ BCS70          │                 646 │\n",
      "├────────────────┼─────────────────────┤\n",
      "│ BIB            │                1382 │\n",
      "├────────────────┼─────────────────────┤\n",
      "│ ELSA           │                1563 │\n",
      "├────────────────┼─────────────────────┤\n",
      "│ EPICN          │                9007 │\n",
      "├────────────────┼─────────────────────┤\n",
      "│ EXCEED         │                3132 │\n",
      "├────────────────┼─────────────────────┤\n",
      "│ FENLAND        │                3425 │\n",
      "├────────────────┼─────────────────────┤\n",
      "│ GLAD           │               11358 │\n",
      "├────────────────┼─────────────────────┤\n",
      "│ MCS            │                1753 │\n",
      "├────────────────┼─────────────────────┤\n",
      "│ NCDS58         │                 916 │\n",
      "├────────────────┼─────────────────────┤\n",
      "│ NEXTSTEP       │                 456 │\n",
      "├────────────────┼─────────────────────┤\n",
      "│ NIHRBIO_COPING │                2786 │\n",
      "├────────────────┼─────────────────────┤\n",
      "│ NSHD46         │                 479 │\n",
      "├────────────────┼─────────────────────┤\n",
      "│ TEDS           │                 525 │\n",
      "├────────────────┼─────────────────────┤\n",
      "│ TRACKC19       │                1735 │\n",
      "├────────────────┼─────────────────────┤\n",
      "│ TWINSUK        │                1830 │\n",
      "├────────────────┼─────────────────────┤\n",
      "│ UKHLS          │                1039 │\n",
      "├────────────────┼─────────────────────┤\n",
      "│ TOTAL          │               42215 │\n",
      "╘════════════════╧═════════════════════╛\n"
     ]
    }
   ],
   "source": [
    "gb_cohort = document9.get_cohort_count()\n",
    "print(gb_cohort.to_markdown(index=False, tablefmt=\"fancy_grid\"))"
   ]
  },
  {
   "attachments": {},
   "cell_type": "markdown",
   "id": "4d7cab9b",
   "metadata": {},
   "source": [
    "## 3. Helpful syntax\n",
    "Below we will include syntax that may be helpful to other researchers in the UK LLC TRE. For longer scripts, we will include a snippet of the code plus a link to Git where you can find the full script. "
   ]
  },
  {
   "cell_type": "code",
   "execution_count": null,
   "id": "16a04f51",
   "metadata": {},
   "outputs": [],
   "source": []
  }
 ],
 "metadata": {
  "kernelspec": {
   "display_name": "Python 3",
   "language": "python",
   "name": "python3"
  },
  "language_info": {
   "codemirror_mode": {
    "name": "ipython",
    "version": 3
   },
   "file_extension": ".py",
   "mimetype": "text/x-python",
   "name": "python",
   "nbconvert_exporter": "python",
   "pygments_lexer": "ipython3",
   "version": "3.12.2"
  }
 },
 "nbformat": 4,
 "nbformat_minor": 5
}
