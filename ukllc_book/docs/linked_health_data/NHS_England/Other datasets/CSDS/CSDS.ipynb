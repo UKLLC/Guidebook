{
 "cells": [
  {
   "attachments": {},
   "cell_type": "markdown",
   "id": "c928623b",
   "metadata": {},
   "source": [
    "# Community Services Data Set (CSDS)\n",
    "## 1. Summary\n",
    "The information below is retrieved from the Health Data Gateway API developed by NHS England, with additional fields added by UK LLC (indicated by italics). The CSDS dataset in the UK LLC TRE comprises nine separate datasets."
   ]
  },
  {
   "cell_type": "code",
   "execution_count": 1,
   "id": "910dadbd",
   "metadata": {},
   "outputs": [],
   "source": [
    "# define target dataset to document\n",
    "schema = 'nhsd'\n",
    "table = 'CSDS'\n",
    "table1 = 'CSDS_care_activities'\n",
    "table2 = 'CSDS_care_plans'\n",
    "table3 = 'CSDS_coded_scored_assessments'\n",
    "table4 = 'CSDS_demographics_and_referral'\n",
    "table5 = 'CSDS_diagnoses'\n",
    "table6 = 'CSDS_group_sessions'\n",
    "table7 = 'CSDS_immunisations'\n",
    "table8 = 'CSDS_onward_referrals'\n",
    "table9 = 'CSDS_rtt'\n",
    "version = 'v0003'\n",
    "# import functions from script helper\n",
    "import sys\n",
    "script_fp = \"../../../../scripts/\"\n",
    "sys.path.insert(0, script_fp)\n",
    "from data_doc_helper import DocHelper\n",
    "# create instance\n",
    "document = DocHelper(schema, table, version, script_fp)\n",
    "document1 = DocHelper(schema, table1, version, script_fp)\n",
    "document2 = DocHelper(schema, table2, version, script_fp)\n",
    "document3 = DocHelper(schema, table3, version, script_fp)\n",
    "document4 = DocHelper(schema, table4, version, script_fp)\n",
    "document5 = DocHelper(schema, table5, version, script_fp)\n",
    "document6 = DocHelper(schema, table6, version, script_fp)\n",
    "document7 = DocHelper(schema, table7, version, script_fp)\n",
    "document8 = DocHelper(schema, table8, version, script_fp)\n",
    "document9 = DocHelper(schema, table9, version, script_fp)\n",
    "# markdown/code hybrid cell module requirement\n",
    "from IPython.display import display, Markdown"
   ]
  },
  {
   "cell_type": "code",
   "execution_count": 2,
   "id": "103f2c9b",
   "metadata": {},
   "outputs": [
    {
     "data": {
      "text/markdown": [
       "**NHS England title of dataset:** Community Services Data Set"
      ],
      "text/plain": [
       "<IPython.core.display.Markdown object>"
      ]
     },
     "metadata": {},
     "output_type": "display_data"
    },
    {
     "data": {
      "text/markdown": [
       "***Dataset name in UK LLC TRE:*** *nhsd.CSDS*"
      ],
      "text/plain": [
       "<IPython.core.display.Markdown object>"
      ]
     },
     "metadata": {},
     "output_type": "display_data"
    },
    {
     "data": {
      "text/markdown": [
       "**Short abstract:** CSDS sets out national definitions for the extraction of data about children and adults: \n",
       "•\tpersonal and demographic \n",
       "•\tsocial and personal circumstances \n",
       "•\tbreastfeeding and nutrition \n",
       "•\tcare event and screening activity \n",
       "•\tdiagnoses\n",
       "•\tscored assessments"
      ],
      "text/plain": [
       "<IPython.core.display.Markdown object>"
      ]
     },
     "metadata": {},
     "output_type": "display_data"
    },
    {
     "data": {
      "text/markdown": [
       "***Extended abstract:*** *The CSDS collects data about children, young people and adults who are in contact with NHS funded organisations that provide community services in England. Settings include health centres, day care facilities, schools or community centres, mobile facilities or people's homes. The CSDS dataset replaced the Children and Young People's Health Services Data Set (CYPHS) which was restricted to those aged 18 years and under. The dataset provides information about social and personal circumstances, breastfeeding and nutrition, care event and screening activity, diagnoses, including long-term conditions and disabilities, scored assessments, and weight management services. The CSDS comprises more than 30 datasets. To access the CSDS data model and technical output specification, click here: [https://digital.nhs.uk/data-and-information/data-collections-and-data-sets/data-sets/community-services-data-set/implementing-the-community-services-data-set-csds-v1.6-tools-and-guidance](https://digital.nhs.uk/data-and-information/data-collections-and-data-sets/data-sets/community-services-data-set/implementing-the-community-services-data-set-csds-v1.6-tools-and-guidance)*"
      ],
      "text/plain": [
       "<IPython.core.display.Markdown object>"
      ]
     },
     "metadata": {},
     "output_type": "display_data"
    },
    {
     "data": {
      "text/markdown": [
       "**Geographical coverage:** United Kingdom,England"
      ],
      "text/plain": [
       "<IPython.core.display.Markdown object>"
      ]
     },
     "metadata": {},
     "output_type": "display_data"
    },
    {
     "data": {
      "text/markdown": [
       "**Temporal coverage:** 10/01/2017"
      ],
      "text/plain": [
       "<IPython.core.display.Markdown object>"
      ]
     },
     "metadata": {},
     "output_type": "display_data"
    },
    {
     "data": {
      "text/markdown": [
       "***Data available in UK LLC TRE from:*** *01/04/2015 onwards*"
      ],
      "text/plain": [
       "<IPython.core.display.Markdown object>"
      ]
     },
     "metadata": {},
     "output_type": "display_data"
    },
    {
     "data": {
      "text/markdown": [
       "**Typical age range:** 0-150"
      ],
      "text/plain": [
       "<IPython.core.display.Markdown object>"
      ]
     },
     "metadata": {},
     "output_type": "display_data"
    },
    {
     "data": {
      "text/markdown": [
       "**Collection situation:** COMMUNITY"
      ],
      "text/plain": [
       "<IPython.core.display.Markdown object>"
      ]
     },
     "metadata": {},
     "output_type": "display_data"
    },
    {
     "data": {
      "text/markdown": [
       "**Purpose:** ADMINISTRATIVE"
      ],
      "text/plain": [
       "<IPython.core.display.Markdown object>"
      ]
     },
     "metadata": {},
     "output_type": "display_data"
    },
    {
     "data": {
      "text/markdown": [
       "**Source:** EPR"
      ],
      "text/plain": [
       "<IPython.core.display.Markdown object>"
      ]
     },
     "metadata": {},
     "output_type": "display_data"
    },
    {
     "data": {
      "text/markdown": [
       "**Pathway:** COMMUNITY SERVICES"
      ],
      "text/plain": [
       "<IPython.core.display.Markdown object>"
      ]
     },
     "metadata": {},
     "output_type": "display_data"
    },
    {
     "data": {
      "text/markdown": [
       "***Information collected:*** *Social and personal circumstances, breastfeeding and nutrition, care event and screening activity, diagnoses, including long-term conditions and disabilities, scored assessments, and weight management services.*"
      ],
      "text/plain": [
       "<IPython.core.display.Markdown object>"
      ]
     },
     "metadata": {},
     "output_type": "display_data"
    },
    {
     "data": {
      "text/markdown": [
       "***Structure of dataset:*** *TBC*"
      ],
      "text/plain": [
       "<IPython.core.display.Markdown object>"
      ]
     },
     "metadata": {},
     "output_type": "display_data"
    },
    {
     "data": {
      "text/markdown": [
       "***Update frequency in UK LLC TRE:*** *Quarterly*"
      ],
      "text/plain": [
       "<IPython.core.display.Markdown object>"
      ]
     },
     "metadata": {},
     "output_type": "display_data"
    },
    {
     "data": {
      "text/markdown": [
       "***Dataset versions in UK LLC TRE:*** *TBC*"
      ],
      "text/plain": [
       "<IPython.core.display.Markdown object>"
      ]
     },
     "metadata": {},
     "output_type": "display_data"
    },
    {
     "data": {
      "text/markdown": [
       "***Data quality issues:*** *TBC*"
      ],
      "text/plain": [
       "<IPython.core.display.Markdown object>"
      ]
     },
     "metadata": {},
     "output_type": "display_data"
    },
    {
     "data": {
      "text/markdown": [
       "***Restrictions to data usage***: *Medical purposes only (medical research) as defined in the NHS Act 2006: [https://www.legislation.gov.uk/ukpga/2006/41/part/13/crossheading/patient-information](https://www.legislation.gov.uk/ukpga/2006/41/part/13/crossheading/patient-information)*"
      ],
      "text/plain": [
       "<IPython.core.display.Markdown object>"
      ]
     },
     "metadata": {},
     "output_type": "display_data"
    },
    {
     "data": {
      "text/markdown": [
       "***Further information:*** *[https://digital.nhs.uk/data-and-information/data-collections-and-data-sets/data-sets/community-services-data-set](https://digital.nhs.uk/data-and-information/data-collections-and-data-sets/data-sets/community-services-data-set)*"
      ],
      "text/plain": [
       "<IPython.core.display.Markdown object>"
      ]
     },
     "metadata": {},
     "output_type": "display_data"
    }
   ],
   "source": [
    "# get api data\n",
    "dataset = document.get_api_data()\n",
    "display(Markdown(\"**NHS England title of dataset:** \"+dataset['datasetfields']['datautility']['title']))\n",
    "display(Markdown(\"***Dataset name in UK LLC TRE:*** *nhsd.CSDS*\"))  \n",
    "display(Markdown(\"**Short abstract:** \"+dataset['datasetfields']['abstract']))\n",
    "display(Markdown(\"***Extended abstract:*** *The CSDS collects data about children, young people and adults who are in contact with NHS funded organisations that provide community services in England. Settings include health centres, day care facilities, schools or community centres, mobile facilities or people's homes. The CSDS dataset replaced the Children and Young People's Health Services Data Set (CYPHS) which was restricted to those aged 18 years and under. The dataset provides information about social and personal circumstances, breastfeeding and nutrition, care event and screening activity, diagnoses, including long-term conditions and disabilities, scored assessments, and weight management services. The CSDS comprises more than 30 datasets. To access the CSDS data model and technical output specification, click here: [https://digital.nhs.uk/data-and-information/data-collections-and-data-sets/data-sets/community-services-data-set/implementing-the-community-services-data-set-csds-v1.6-tools-and-guidance](https://digital.nhs.uk/data-and-information/data-collections-and-data-sets/data-sets/community-services-data-set/implementing-the-community-services-data-set-csds-v1.6-tools-and-guidance)*\"))\n",
    "display(Markdown(\"**Geographical coverage:** \"+dataset['datasetfields']['geographicCoverage'][0]))\n",
    "display(Markdown(\"**Temporal coverage:** \"+dataset['datasetfields']['datasetStartDate']))\n",
    "display(Markdown(\"***Data available in UK LLC TRE from:*** *01/04/2015 onwards*\"))\n",
    "display(Markdown(\"**Typical age range:** \"+dataset['datasetfields']['ageBand']))\n",
    "display(Markdown(\"**Collection situation:** \"+dataset['datasetv2']['provenance']['origin']['collectionSituation'][0]))\n",
    "display(Markdown(\"**Purpose:** \"+dataset['datasetv2']['provenance']['origin']['purpose'][0]))\n",
    "display(Markdown(\"**Source:** \"+dataset['datasetv2']['provenance']['origin']['source'][0]))\n",
    "display(Markdown(\"**Pathway:** \"+dataset['datasetv2']['coverage']['pathway']))\n",
    "display(Markdown(\"***Information collected:*** *Social and personal circumstances, breastfeeding and nutrition, care event and screening activity, diagnoses, including long-term conditions and disabilities, scored assessments, and weight management services.*\"))  \n",
    "display(Markdown(\"***Structure of dataset:*** *TBC*\"))  \n",
    "display(Markdown(\"***Update frequency in UK LLC TRE:*** *Quarterly*\"))  \n",
    "display(Markdown(\"***Dataset versions in UK LLC TRE:*** *TBC*\"))\n",
    "display(Markdown(\"***Data quality issues:*** *TBC*\"))  \n",
    "display(Markdown(\"***Restrictions to data usage***: *Medical purposes only (medical research) as defined in the NHS Act 2006: [https://www.legislation.gov.uk/ukpga/2006/41/part/13/crossheading/patient-information](https://www.legislation.gov.uk/ukpga/2006/41/part/13/crossheading/patient-information)*\"))  \n",
    "display(Markdown(\"***Further information:*** *[https://digital.nhs.uk/data-and-information/data-collections-and-data-sets/data-sets/community-services-data-set](https://digital.nhs.uk/data-and-information/data-collections-and-data-sets/data-sets/community-services-data-set)*\"))"
   ]
  },
  {
   "attachments": {},
   "cell_type": "markdown",
   "id": "ee2455db",
   "metadata": {},
   "source": [
    "## 2. Metrics\n",
    "The tables below summarise the nine datasets that make up the CSDS dataset in the UK LLC TRE."
   ]
  },
  {
   "attachments": {},
   "cell_type": "markdown",
   "id": "784c3f31",
   "metadata": {},
   "source": [
    "**2.1 CSDS Care Activities**"
   ]
  },
  {
   "attachments": {},
   "cell_type": "markdown",
   "id": "e0d88fc3",
   "metadata": {},
   "source": [
    "**Table 1** The number of participants from each LPS that are represented in the CSDS_Care_Activities dataset in the UK LLC TRE  \n",
    "(**Note**: numbers relate to the most recent extract of NHS England data)"
   ]
  },
  {
   "cell_type": "code",
   "execution_count": 3,
   "id": "877ef22f",
   "metadata": {},
   "outputs": [
    {
     "name": "stdout",
     "output_type": "stream",
     "text": [
      "╒════════════════╤═════════╕\n",
      "│ cohort         │   count │\n",
      "╞════════════════╪═════════╡\n",
      "│ ALSPAC         │    1855 │\n",
      "├────────────────┼─────────┤\n",
      "│ BCS70          │    1536 │\n",
      "├────────────────┼─────────┤\n",
      "│ BIB            │   15536 │\n",
      "├────────────────┼─────────┤\n",
      "│ ELSA           │    3524 │\n",
      "├────────────────┼─────────┤\n",
      "│ EPICN          │    9623 │\n",
      "├────────────────┼─────────┤\n",
      "│ EXCEED         │    4264 │\n",
      "├────────────────┼─────────┤\n",
      "│ FENLAND        │    3739 │\n",
      "├────────────────┼─────────┤\n",
      "│ GLAD           │   27423 │\n",
      "├────────────────┼─────────┤\n",
      "│ MCS            │    4796 │\n",
      "├────────────────┼─────────┤\n",
      "│ NCDS58         │    2174 │\n",
      "├────────────────┼─────────┤\n",
      "│ NEXTSTEP       │    1797 │\n",
      "├────────────────┼─────────┤\n",
      "│ NIHRBIO_COPING │    5596 │\n",
      "├────────────────┼─────────┤\n",
      "│ NSHD46         │    1200 │\n",
      "├────────────────┼─────────┤\n",
      "│ TEDS           │    1698 │\n",
      "├────────────────┼─────────┤\n",
      "│ TRACKC19       │    4040 │\n",
      "├────────────────┼─────────┤\n",
      "│ TWINSUK        │    4586 │\n",
      "├────────────────┼─────────┤\n",
      "│ UKHLS          │    2320 │\n",
      "├────────────────┼─────────┤\n",
      "│ total          │   95707 │\n",
      "╘════════════════╧═════════╛\n"
     ]
    }
   ],
   "source": [
    "gb_cohort = document1.get_cohort_count()\n",
    "print(gb_cohort.to_markdown(index=False, tablefmt=\"fancy_grid\"))"
   ]
  },
  {
   "attachments": {},
   "cell_type": "markdown",
   "id": "f7bfffd3",
   "metadata": {},
   "source": [
    "**2.2 CSDS Care Plans**"
   ]
  },
  {
   "attachments": {},
   "cell_type": "markdown",
   "id": "3ab7db70",
   "metadata": {},
   "source": [
    "**Table 2** The number of participants from each LPS that are represented in the CSDS_Care_Plans dataset in the UK LLC TRE  \n",
    "(**Note**: numbers relate to the most recent extract of NHS England data)"
   ]
  },
  {
   "cell_type": "code",
   "execution_count": 4,
   "id": "cc8e7c87",
   "metadata": {},
   "outputs": [
    {
     "name": "stdout",
     "output_type": "stream",
     "text": [
      "╒════════════════╤═════════╕\n",
      "│ cohort         │   count │\n",
      "╞════════════════╪═════════╡\n",
      "│ ALSPAC         │      21 │\n",
      "├────────────────┼─────────┤\n",
      "│ BCS70          │     110 │\n",
      "├────────────────┼─────────┤\n",
      "│ BIB            │     429 │\n",
      "├────────────────┼─────────┤\n",
      "│ ELSA           │     552 │\n",
      "├────────────────┼─────────┤\n",
      "│ EPICN          │    4587 │\n",
      "├────────────────┼─────────┤\n",
      "│ EXCEED         │      30 │\n",
      "├────────────────┼─────────┤\n",
      "│ FENLAND        │     301 │\n",
      "├────────────────┼─────────┤\n",
      "│ GLAD           │    1983 │\n",
      "├────────────────┼─────────┤\n",
      "│ MCS            │     349 │\n",
      "├────────────────┼─────────┤\n",
      "│ NCDS58         │     203 │\n",
      "├────────────────┼─────────┤\n",
      "│ NEXTSTEP       │      55 │\n",
      "├────────────────┼─────────┤\n",
      "│ NIHRBIO_COPING │     478 │\n",
      "├────────────────┼─────────┤\n",
      "│ NSHD46         │     162 │\n",
      "├────────────────┼─────────┤\n",
      "│ TEDS           │      55 │\n",
      "├────────────────┼─────────┤\n",
      "│ TRACKC19       │     291 │\n",
      "├────────────────┼─────────┤\n",
      "│ TWINSUK        │     533 │\n",
      "├────────────────┼─────────┤\n",
      "│ UKHLS          │     208 │\n",
      "├────────────────┼─────────┤\n",
      "│ total          │   10347 │\n",
      "╘════════════════╧═════════╛\n"
     ]
    }
   ],
   "source": [
    "gb_cohort = document2.get_cohort_count()\n",
    "print(gb_cohort.to_markdown(index=False, tablefmt=\"fancy_grid\"))"
   ]
  },
  {
   "attachments": {},
   "cell_type": "markdown",
   "id": "7c537db9",
   "metadata": {},
   "source": [
    "**2.3 CSDS Coded Scored Assessments**"
   ]
  },
  {
   "attachments": {},
   "cell_type": "markdown",
   "id": "e089d5a7",
   "metadata": {},
   "source": [
    "**Table 3** The number of participants from each LPS that are represented in the CSDS_Coded_Score_Assessments dataset in the UK LLC TRE  \n",
    "(**Note**: numbers relate to the most recent extract of NHS England data)"
   ]
  },
  {
   "cell_type": "code",
   "execution_count": 5,
   "id": "81c54745",
   "metadata": {},
   "outputs": [
    {
     "name": "stdout",
     "output_type": "stream",
     "text": [
      "╒════════════════╤═════════╕\n",
      "│ cohort         │ count   │\n",
      "╞════════════════╪═════════╡\n",
      "│ ALSPAC         │ <10     │\n",
      "├────────────────┼─────────┤\n",
      "│ BCS70          │ <10     │\n",
      "├────────────────┼─────────┤\n",
      "│ BIB            │ <10     │\n",
      "├────────────────┼─────────┤\n",
      "│ ELSA           │ 25      │\n",
      "├────────────────┼─────────┤\n",
      "│ EPICN          │ <10     │\n",
      "├────────────────┼─────────┤\n",
      "│ EXCEED         │ 113     │\n",
      "├────────────────┼─────────┤\n",
      "│ FENLAND        │ <10     │\n",
      "├────────────────┼─────────┤\n",
      "│ GLAD           │ 43      │\n",
      "├────────────────┼─────────┤\n",
      "│ MCS            │ <10     │\n",
      "├────────────────┼─────────┤\n",
      "│ NCDS58         │ 11      │\n",
      "├────────────────┼─────────┤\n",
      "│ NEXTSTEP       │ 0       │\n",
      "├────────────────┼─────────┤\n",
      "│ NIHRBIO_COPING │ 21      │\n",
      "├────────────────┼─────────┤\n",
      "│ NSHD46         │ <10     │\n",
      "├────────────────┼─────────┤\n",
      "│ TEDS           │ 0       │\n",
      "├────────────────┼─────────┤\n",
      "│ TRACKC19       │ 17      │\n",
      "├────────────────┼─────────┤\n",
      "│ TWINSUK        │ 18      │\n",
      "├────────────────┼─────────┤\n",
      "│ UKHLS          │ 10      │\n",
      "├────────────────┼─────────┤\n",
      "│ total          │ 258     │\n",
      "╘════════════════╧═════════╛\n"
     ]
    }
   ],
   "source": [
    "gb_cohort = document3.get_cohort_count()\n",
    "print(gb_cohort.to_markdown(index=False, tablefmt=\"fancy_grid\"))"
   ]
  },
  {
   "attachments": {},
   "cell_type": "markdown",
   "id": "f8931224",
   "metadata": {},
   "source": [
    "**2.4 CSDS Demographics and Referral**"
   ]
  },
  {
   "attachments": {},
   "cell_type": "markdown",
   "id": "f052aba6",
   "metadata": {},
   "source": [
    "**Table 4** The number of participants from each LPS that are represented in the CSDS_demographics_and_referral dataset in the UK LLC TRE  \n",
    "(**Note**: numbers relate to the most recent extract of NHS England data)"
   ]
  },
  {
   "cell_type": "code",
   "execution_count": 6,
   "id": "0488b925",
   "metadata": {},
   "outputs": [
    {
     "name": "stdout",
     "output_type": "stream",
     "text": [
      "╒════════════════╤═════════╕\n",
      "│ cohort         │   count │\n",
      "╞════════════════╪═════════╡\n",
      "│ ALSPAC         │    2502 │\n",
      "├────────────────┼─────────┤\n",
      "│ BCS70          │    2004 │\n",
      "├────────────────┼─────────┤\n",
      "│ BIB            │   20900 │\n",
      "├────────────────┼─────────┤\n",
      "│ ELSA           │    4024 │\n",
      "├────────────────┼─────────┤\n",
      "│ EPICN          │   10483 │\n",
      "├────────────────┼─────────┤\n",
      "│ EXCEED         │    4767 │\n",
      "├────────────────┼─────────┤\n",
      "│ FENLAND        │    4490 │\n",
      "├────────────────┼─────────┤\n",
      "│ GLAD           │   36873 │\n",
      "├────────────────┼─────────┤\n",
      "│ MCS            │    8361 │\n",
      "├────────────────┼─────────┤\n",
      "│ NCDS58         │    2605 │\n",
      "├────────────────┼─────────┤\n",
      "│ NEXTSTEP       │    2316 │\n",
      "├────────────────┼─────────┤\n",
      "│ NIHRBIO_COPING │    6959 │\n",
      "├────────────────┼─────────┤\n",
      "│ NSHD46         │    1381 │\n",
      "├────────────────┼─────────┤\n",
      "│ TEDS           │    2412 │\n",
      "├────────────────┼─────────┤\n",
      "│ TRACKC19       │    5168 │\n",
      "├────────────────┼─────────┤\n",
      "│ TWINSUK        │    5815 │\n",
      "├────────────────┼─────────┤\n",
      "│ UKHLS          │    2990 │\n",
      "├────────────────┼─────────┤\n",
      "│ total          │  124050 │\n",
      "╘════════════════╧═════════╛\n"
     ]
    }
   ],
   "source": [
    "gb_cohort = document4.get_cohort_count()\n",
    "print(gb_cohort.to_markdown(index=False, tablefmt=\"fancy_grid\"))"
   ]
  },
  {
   "attachments": {},
   "cell_type": "markdown",
   "id": "2949541d",
   "metadata": {},
   "source": [
    "**2.5 CSDS diagnoses**"
   ]
  },
  {
   "attachments": {},
   "cell_type": "markdown",
   "id": "c3ea0f8c",
   "metadata": {},
   "source": [
    "**Table 5** The number of participants from each LPS that are represented in the CSDS_diagnoses dataset in the UK LLC TRE  \n",
    "(**Note**: numbers relate to the most recent extract of NHS England data)"
   ]
  },
  {
   "cell_type": "code",
   "execution_count": 7,
   "id": "fea7cb7d",
   "metadata": {},
   "outputs": [
    {
     "name": "stdout",
     "output_type": "stream",
     "text": [
      "╒════════════════╤═════════╕\n",
      "│ cohort         │   count │\n",
      "╞════════════════╪═════════╡\n",
      "│ ALSPAC         │      29 │\n",
      "├────────────────┼─────────┤\n",
      "│ BCS70          │     269 │\n",
      "├────────────────┼─────────┤\n",
      "│ BIB            │    1340 │\n",
      "├────────────────┼─────────┤\n",
      "│ ELSA           │     800 │\n",
      "├────────────────┼─────────┤\n",
      "│ EPICN          │    2191 │\n",
      "├────────────────┼─────────┤\n",
      "│ EXCEED         │      54 │\n",
      "├────────────────┼─────────┤\n",
      "│ FENLAND        │     422 │\n",
      "├────────────────┼─────────┤\n",
      "│ GLAD           │    4019 │\n",
      "├────────────────┼─────────┤\n",
      "│ MCS            │     727 │\n",
      "├────────────────┼─────────┤\n",
      "│ NCDS58         │     414 │\n",
      "├────────────────┼─────────┤\n",
      "│ NEXTSTEP       │     153 │\n",
      "├────────────────┼─────────┤\n",
      "│ NIHRBIO_COPING │     904 │\n",
      "├────────────────┼─────────┤\n",
      "│ NSHD46         │     266 │\n",
      "├────────────────┼─────────┤\n",
      "│ TEDS           │     160 │\n",
      "├────────────────┼─────────┤\n",
      "│ TRACKC19       │     712 │\n",
      "├────────────────┼─────────┤\n",
      "│ TWINSUK        │     771 │\n",
      "├────────────────┼─────────┤\n",
      "│ UKHLS          │     424 │\n",
      "├────────────────┼─────────┤\n",
      "│ total          │   13655 │\n",
      "╘════════════════╧═════════╛\n"
     ]
    }
   ],
   "source": [
    "gb_cohort = document5.get_cohort_count()\n",
    "print(gb_cohort.to_markdown(index=False, tablefmt=\"fancy_grid\"))"
   ]
  },
  {
   "attachments": {},
   "cell_type": "markdown",
   "id": "cb496974",
   "metadata": {},
   "source": [
    "**2.6 CSDS Group Sessions**"
   ]
  },
  {
   "attachments": {},
   "cell_type": "markdown",
   "id": "6f4484f3",
   "metadata": {},
   "source": [
    "**Table 6** The number of participants from each LPS that are represented in the CSDS_group_sessions dataset in the UK LLC TRE  \n",
    "(**Note**: numbers relate to the most recent extract of NHS England data)"
   ]
  },
  {
   "cell_type": "code",
   "execution_count": 8,
   "id": "e642ca2c",
   "metadata": {},
   "outputs": [
    {
     "name": "stdout",
     "output_type": "stream",
     "text": [
      "╒══════════╤═════════╕\n",
      "│ cohort   │   count │\n",
      "╞══════════╪═════════╡\n",
      "│ total    │       0 │\n",
      "╘══════════╧═════════╛\n"
     ]
    }
   ],
   "source": [
    "gb_cohort = document6.get_cohort_count()\n",
    "print(gb_cohort.to_markdown(index=False, tablefmt=\"fancy_grid\"))"
   ]
  },
  {
   "attachments": {},
   "cell_type": "markdown",
   "id": "9c6f5bee",
   "metadata": {},
   "source": [
    "**2.7 CSDS Immunisations**"
   ]
  },
  {
   "attachments": {},
   "cell_type": "markdown",
   "id": "b56ba8e3",
   "metadata": {},
   "source": [
    "**Table 7** The number of participants from each LPS that are represented in the CSDS_immunisations dataset in the UK LLC TRE  \n",
    "(**Note**: numbers relate to the most recent extract of NHS England data)"
   ]
  },
  {
   "cell_type": "code",
   "execution_count": 9,
   "id": "0005f4f8",
   "metadata": {},
   "outputs": [
    {
     "name": "stdout",
     "output_type": "stream",
     "text": [
      "╒════════════════╤═════════╕\n",
      "│ cohort         │ count   │\n",
      "╞════════════════╪═════════╡\n",
      "│ ALSPAC         │ <10     │\n",
      "├────────────────┼─────────┤\n",
      "│ BCS70          │ <10     │\n",
      "├────────────────┼─────────┤\n",
      "│ BIB            │ 6392    │\n",
      "├────────────────┼─────────┤\n",
      "│ ELSA           │ <10     │\n",
      "├────────────────┼─────────┤\n",
      "│ EPICN          │ <10     │\n",
      "├────────────────┼─────────┤\n",
      "│ EXCEED         │ 11      │\n",
      "├────────────────┼─────────┤\n",
      "│ FENLAND        │ 0       │\n",
      "├────────────────┼─────────┤\n",
      "│ GLAD           │ 2709    │\n",
      "├────────────────┼─────────┤\n",
      "│ MCS            │ 1322    │\n",
      "├────────────────┼─────────┤\n",
      "│ NCDS58         │ <10     │\n",
      "├────────────────┼─────────┤\n",
      "│ NEXTSTEP       │ 17      │\n",
      "├────────────────┼─────────┤\n",
      "│ NIHRBIO_COPING │ 46      │\n",
      "├────────────────┼─────────┤\n",
      "│ NSHD46         │ <10     │\n",
      "├────────────────┼─────────┤\n",
      "│ TEDS           │ 36      │\n",
      "├────────────────┼─────────┤\n",
      "│ TRACKC19       │ <10     │\n",
      "├────────────────┼─────────┤\n",
      "│ TWINSUK        │ 87      │\n",
      "├────────────────┼─────────┤\n",
      "│ UKHLS          │ 64      │\n",
      "├────────────────┼─────────┤\n",
      "│ total          │ 10684   │\n",
      "╘════════════════╧═════════╛\n"
     ]
    }
   ],
   "source": [
    "gb_cohort = document7.get_cohort_count()\n",
    "print(gb_cohort.to_markdown(index=False, tablefmt=\"fancy_grid\"))"
   ]
  },
  {
   "attachments": {},
   "cell_type": "markdown",
   "id": "d86fffc8",
   "metadata": {},
   "source": [
    "**2.8 CSDS Onward Referrals**"
   ]
  },
  {
   "attachments": {},
   "cell_type": "markdown",
   "id": "62e1ee9c",
   "metadata": {},
   "source": [
    "**Table 8** The number of participants from each LPS that are represented in the CSDS_onward_referrals dataset in the UK LLC TRE  \n",
    "(**Note**: numbers relate to the most recent extract of NHS England data)"
   ]
  },
  {
   "cell_type": "code",
   "execution_count": 10,
   "id": "ef28fdb3",
   "metadata": {},
   "outputs": [
    {
     "name": "stdout",
     "output_type": "stream",
     "text": [
      "╒════════════════╤═════════╕\n",
      "│ cohort         │   count │\n",
      "╞════════════════╪═════════╡\n",
      "│ ALSPAC         │      14 │\n",
      "├────────────────┼─────────┤\n",
      "│ BCS70          │      59 │\n",
      "├────────────────┼─────────┤\n",
      "│ BIB            │     546 │\n",
      "├────────────────┼─────────┤\n",
      "│ ELSA           │     218 │\n",
      "├────────────────┼─────────┤\n",
      "│ EPICN          │     222 │\n",
      "├────────────────┼─────────┤\n",
      "│ EXCEED         │      52 │\n",
      "├────────────────┼─────────┤\n",
      "│ FENLAND        │     802 │\n",
      "├────────────────┼─────────┤\n",
      "│ GLAD           │    1144 │\n",
      "├────────────────┼─────────┤\n",
      "│ MCS            │     229 │\n",
      "├────────────────┼─────────┤\n",
      "│ NCDS58         │     116 │\n",
      "├────────────────┼─────────┤\n",
      "│ NEXTSTEP       │      50 │\n",
      "├────────────────┼─────────┤\n",
      "│ NIHRBIO_COPING │     400 │\n",
      "├────────────────┼─────────┤\n",
      "│ NSHD46         │      56 │\n",
      "├────────────────┼─────────┤\n",
      "│ TEDS           │      33 │\n",
      "├────────────────┼─────────┤\n",
      "│ TRACKC19       │     203 │\n",
      "├────────────────┼─────────┤\n",
      "│ TWINSUK        │     253 │\n",
      "├────────────────┼─────────┤\n",
      "│ UKHLS          │      95 │\n",
      "├────────────────┼─────────┤\n",
      "│ total          │    4492 │\n",
      "╘════════════════╧═════════╛\n"
     ]
    }
   ],
   "source": [
    "gb_cohort = document8.get_cohort_count()\n",
    "print(gb_cohort.to_markdown(index=False, tablefmt=\"fancy_grid\"))"
   ]
  },
  {
   "attachments": {},
   "cell_type": "markdown",
   "id": "ce6b0eb6",
   "metadata": {},
   "source": [
    "**2.9 CSDS Referral to Treatment**"
   ]
  },
  {
   "attachments": {},
   "cell_type": "markdown",
   "id": "451fd401",
   "metadata": {},
   "source": [
    "**Table 9** The number of participants from each LPS that are represented in the CSDS_onward_referrals dataset in the UK LLC TRE  \n",
    "(**Note**: numbers relate to the most recent extract of NHS England data)"
   ]
  },
  {
   "cell_type": "code",
   "execution_count": 11,
   "id": "b9c2cb1e",
   "metadata": {},
   "outputs": [
    {
     "name": "stdout",
     "output_type": "stream",
     "text": [
      "╒════════════════╤═════════╕\n",
      "│ cohort         │   count │\n",
      "╞════════════════╪═════════╡\n",
      "│ ALSPAC         │     183 │\n",
      "├────────────────┼─────────┤\n",
      "│ BCS70          │     646 │\n",
      "├────────────────┼─────────┤\n",
      "│ BIB            │    1382 │\n",
      "├────────────────┼─────────┤\n",
      "│ ELSA           │    1563 │\n",
      "├────────────────┼─────────┤\n",
      "│ EPICN          │    9007 │\n",
      "├────────────────┼─────────┤\n",
      "│ EXCEED         │    3133 │\n",
      "├────────────────┼─────────┤\n",
      "│ FENLAND        │    3425 │\n",
      "├────────────────┼─────────┤\n",
      "│ GLAD           │   11375 │\n",
      "├────────────────┼─────────┤\n",
      "│ MCS            │    1757 │\n",
      "├────────────────┼─────────┤\n",
      "│ NCDS58         │     913 │\n",
      "├────────────────┼─────────┤\n",
      "│ NEXTSTEP       │     456 │\n",
      "├────────────────┼─────────┤\n",
      "│ NIHRBIO_COPING │    2786 │\n",
      "├────────────────┼─────────┤\n",
      "│ NSHD46         │     479 │\n",
      "├────────────────┼─────────┤\n",
      "│ TEDS           │     525 │\n",
      "├────────────────┼─────────┤\n",
      "│ TRACKC19       │    1735 │\n",
      "├────────────────┼─────────┤\n",
      "│ TWINSUK        │    1830 │\n",
      "├────────────────┼─────────┤\n",
      "│ UKHLS          │    1039 │\n",
      "├────────────────┼─────────┤\n",
      "│ total          │   42234 │\n",
      "╘════════════════╧═════════╛\n"
     ]
    }
   ],
   "source": [
    "gb_cohort = document9.get_cohort_count()\n",
    "print(gb_cohort.to_markdown(index=False, tablefmt=\"fancy_grid\"))"
   ]
  },
  {
   "attachments": {},
   "cell_type": "markdown",
   "id": "4d7cab9b",
   "metadata": {},
   "source": [
    "## 3. Helpful syntax\n",
    "Below we will include syntax that may be helpful to other researchers in the UK LLC TRE. For longer scripts, we will include a snippet of the code plus a link to Git where you can find the full script. "
   ]
  },
  {
   "cell_type": "code",
   "execution_count": null,
   "id": "16a04f51",
   "metadata": {},
   "outputs": [],
   "source": []
  }
 ],
 "metadata": {
  "kernelspec": {
   "display_name": "Python 3",
   "language": "python",
   "name": "python3"
  },
  "language_info": {
   "codemirror_mode": {
    "name": "ipython",
    "version": 3
   },
   "file_extension": ".py",
   "mimetype": "text/x-python",
   "name": "python",
   "nbconvert_exporter": "python",
   "pygments_lexer": "ipython3",
   "version": "3.12.0"
  }
 },
 "nbformat": 4,
 "nbformat_minor": 5
}
