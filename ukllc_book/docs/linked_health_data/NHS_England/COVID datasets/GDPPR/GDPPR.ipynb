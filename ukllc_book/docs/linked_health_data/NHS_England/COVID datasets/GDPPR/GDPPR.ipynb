{
 "cells": [
  {
   "attachments": {},
   "cell_type": "markdown",
   "id": "c928623b",
   "metadata": {},
   "source": [
    "# General Practice Extraction Service (GPES) Data for Pandemic Planning and Research (GDPPR) Dataset\n",
    "## 1. Summary\n",
    "The information below is retrieved from the Health Data Gateway API developed by NHS England, with additional fields added by UK LLC (indicated by italics). "
   ]
  },
  {
   "cell_type": "code",
   "execution_count": 1,
   "id": "910dadbd",
   "metadata": {},
   "outputs": [],
   "source": [
    "# define target dataset to document\n",
    "schema = 'nhsd'\n",
    "table = 'GDPPR'\n",
    "version = 'v0003'\n",
    "# import functions from script helper\n",
    "import sys\n",
    "script_fp = \"../../../../scripts/\"\n",
    "sys.path.insert(0, script_fp)\n",
    "from data_doc_helper import DocHelper\n",
    "# create instance\n",
    "document = DocHelper(schema, table, version, script_fp)\n",
    "# markdown/code hybrid cell module requirement\n",
    "from IPython.display import display, Markdown"
   ]
  },
  {
   "cell_type": "code",
   "execution_count": 2,
   "id": "103f2c9b",
   "metadata": {},
   "outputs": [
    {
     "data": {
      "text/markdown": [
       "**NHS England title of dataset:** GPES Data for Pandemic Planning and Research (COVID-19)"
      ],
      "text/plain": [
       "<IPython.core.display.Markdown object>"
      ]
     },
     "metadata": {},
     "output_type": "display_data"
    },
    {
     "data": {
      "text/markdown": [
       "***Dataset name in UK LLC TRE:*** *nhsd.GDPPR*"
      ],
      "text/plain": [
       "<IPython.core.display.Markdown object>"
      ]
     },
     "metadata": {},
     "output_type": "display_data"
    },
    {
     "data": {
      "text/markdown": [
       "**Short abstract:** NHS Digital’s fortnightly collection of GP data will provide data to support vital planning and research into coronavirus (COVID-19)."
      ],
      "text/plain": [
       "<IPython.core.display.Markdown object>"
      ]
     },
     "metadata": {},
     "output_type": "display_data"
    },
    {
     "data": {
      "text/markdown": [
       "***Extended abstract:*** *The existing General Practice Extraction Service (GPES) is used to run regular extracts from General Practices in England that have opted into contributing to the GDPPR dataset. Included in the extracts are all patients currently registered with a GP or with a date of death on or after 1 November 2019 whose health record contains coded information relevant to pandemic planning and research. Data collected include demographic information, diagnoses and findings, medications and other prescribed items, investigations, tests and results, treatments and outcomes, and vaccinations and immunisations. For a full list of variables see the [NHS England Metadata dashboard.](https://digital.nhs.uk/services/data-access-request-service-dars/dars-products-and-services/metadata-dashboard) For further information see the [GDPPR guide for analysts.](https://digital.nhs.uk/coronavirus/gpes-data-for-pandemic-planning-and-research/guide-for-analysts-and-users-of-the-data)*"
      ],
      "text/plain": [
       "<IPython.core.display.Markdown object>"
      ]
     },
     "metadata": {},
     "output_type": "display_data"
    },
    {
     "data": {
      "text/markdown": [
       "**Geographical coverage:** United Kingdom,England"
      ],
      "text/plain": [
       "<IPython.core.display.Markdown object>"
      ]
     },
     "metadata": {},
     "output_type": "display_data"
    },
    {
     "data": {
      "text/markdown": [
       "**Temporal coverage:** 01/01/1900"
      ],
      "text/plain": [
       "<IPython.core.display.Markdown object>"
      ]
     },
     "metadata": {},
     "output_type": "display_data"
    },
    {
     "data": {
      "text/markdown": [
       "***Data available in UK LLC TRE from:*** *1940s onwards*"
      ],
      "text/plain": [
       "<IPython.core.display.Markdown object>"
      ]
     },
     "metadata": {},
     "output_type": "display_data"
    },
    {
     "data": {
      "text/markdown": [
       "**Typical age range:** 16-150"
      ],
      "text/plain": [
       "<IPython.core.display.Markdown object>"
      ]
     },
     "metadata": {},
     "output_type": "display_data"
    },
    {
     "data": {
      "text/markdown": [
       "**Collection situation:** PRIMARY CARE"
      ],
      "text/plain": [
       "<IPython.core.display.Markdown object>"
      ]
     },
     "metadata": {},
     "output_type": "display_data"
    },
    {
     "data": {
      "text/markdown": [
       "**Purpose:** ADMINISTRATIVE"
      ],
      "text/plain": [
       "<IPython.core.display.Markdown object>"
      ]
     },
     "metadata": {},
     "output_type": "display_data"
    },
    {
     "data": {
      "text/markdown": [
       "**Source:** EPR"
      ],
      "text/plain": [
       "<IPython.core.display.Markdown object>"
      ]
     },
     "metadata": {},
     "output_type": "display_data"
    },
    {
     "data": {
      "text/markdown": [
       "**Pathway:** NOT APPLICABLE"
      ],
      "text/plain": [
       "<IPython.core.display.Markdown object>"
      ]
     },
     "metadata": {},
     "output_type": "display_data"
    },
    {
     "data": {
      "text/markdown": [
       "***Information collected:*** *Demographic information, diagnoses and findings, medications and other prescribed items, investigations, tests and results, treatments and outcomes, and vaccinations and immunisations*"
      ],
      "text/plain": [
       "<IPython.core.display.Markdown object>"
      ]
     },
     "metadata": {},
     "output_type": "display_data"
    },
    {
     "data": {
      "text/markdown": [
       "***Structure of dataset:*** *Each line represents one participant*"
      ],
      "text/plain": [
       "<IPython.core.display.Markdown object>"
      ]
     },
     "metadata": {},
     "output_type": "display_data"
    },
    {
     "data": {
      "text/markdown": [
       "***Update frequency in UK LLC TRE:*** *Quarterly*"
      ],
      "text/plain": [
       "<IPython.core.display.Markdown object>"
      ]
     },
     "metadata": {},
     "output_type": "display_data"
    },
    {
     "data": {
      "text/markdown": [
       "***Dataset versions in UK LLC TRE:*** *TBC*"
      ],
      "text/plain": [
       "<IPython.core.display.Markdown object>"
      ]
     },
     "metadata": {},
     "output_type": "display_data"
    },
    {
     "data": {
      "text/markdown": [
       "***Data quality issues:*** *TBC*"
      ],
      "text/plain": [
       "<IPython.core.display.Markdown object>"
      ]
     },
     "metadata": {},
     "output_type": "display_data"
    },
    {
     "data": {
      "text/markdown": [
       "***Restrictions to data usage***: *Research must be related to COVID-19; data must not be used for any form of performance management of General Practices; and research must be for medical purposes only (medical research) as defined in the NHS Act 2006: [https://www.legislation.gov.uk/ukpga/2006/41/part/13/crossheading/patient-information](https://www.legislation.gov.uk/ukpga/2006/41/part/13/crossheading/patient-information)*"
      ],
      "text/plain": [
       "<IPython.core.display.Markdown object>"
      ]
     },
     "metadata": {},
     "output_type": "display_data"
    },
    {
     "data": {
      "text/markdown": [
       "***Further information:*** *[https://digital.nhs.uk/coronavirus/gpes-data-for-pandemic-planning-and-research/guide-for-analysts-and-users-of-the-data](https://digital.nhs.uk/coronavirus/gpes-data-for-pandemic-planning-and-research/guide-for-analysts-and-users-of-the-data)*"
      ],
      "text/plain": [
       "<IPython.core.display.Markdown object>"
      ]
     },
     "metadata": {},
     "output_type": "display_data"
    }
   ],
   "source": [
    "# get api data\n",
    "dataset = document.get_api_data()\n",
    "display(Markdown(\"**NHS England title of dataset:** \"+dataset['datasetfields']['metadataquality']['title']))\n",
    "display(Markdown(\"***Dataset name in UK LLC TRE:*** *nhsd.GDPPR*\"))  \n",
    "display(Markdown(\"**Short abstract:** \"+dataset['datasetfields']['abstract']))\n",
    "display(Markdown(\"***Extended abstract:*** *The existing General Practice Extraction Service (GPES) is used to run regular extracts from General Practices in England that have opted into contributing to the GDPPR dataset. Included in the extracts are all patients currently registered with a GP or with a date of death on or after 1 November 2019 whose health record contains coded information relevant to pandemic planning and research. Data collected include demographic information, diagnoses and findings, medications and other prescribed items, investigations, tests and results, treatments and outcomes, and vaccinations and immunisations. For a full list of variables see the [NHS England Metadata dashboard.](https://digital.nhs.uk/services/data-access-request-service-dars/dars-products-and-services/metadata-dashboard) For further information see the [GDPPR guide for analysts.](https://digital.nhs.uk/coronavirus/gpes-data-for-pandemic-planning-and-research/guide-for-analysts-and-users-of-the-data)*\"))\n",
    "display(Markdown(\"**Geographical coverage:** \"+dataset['datasetfields']['geographicCoverage'][0]))\n",
    "display(Markdown(\"**Temporal coverage:** \"+dataset['datasetfields']['datasetStartDate']))\n",
    "display(Markdown(\"***Data available in UK LLC TRE from:*** *1940s onwards*\"))\n",
    "display(Markdown(\"**Typical age range:** \"+dataset['datasetfields']['ageBand']))\n",
    "display(Markdown(\"**Collection situation:** \"+dataset['datasetv2']['provenance']['origin']['collectionSituation'][0]))\n",
    "display(Markdown(\"**Purpose:** \"+dataset['datasetv2']['provenance']['origin']['purpose'][0]))\n",
    "display(Markdown(\"**Source:** \"+dataset['datasetv2']['provenance']['origin']['source'][0]))\n",
    "display(Markdown(\"**Pathway:** \"+dataset['datasetv2']['coverage']['pathway']))\n",
    "display(Markdown(\"***Information collected:*** *Demographic information, diagnoses and findings, medications and other prescribed items, investigations, tests and results, treatments and outcomes, and vaccinations and immunisations*\"))  \n",
    "display(Markdown(\"***Structure of dataset:*** *Each line represents one participant*\"))  \n",
    "display(Markdown(\"***Update frequency in UK LLC TRE:*** *Quarterly*\"))  \n",
    "display(Markdown(\"***Dataset versions in UK LLC TRE:*** *TBC*\"))\n",
    "display(Markdown(\"***Data quality issues:*** *TBC*\"))  \n",
    "display(Markdown(\"***Restrictions to data usage***: *Research must be related to COVID-19; data must not be used for any form of performance management of General Practices; and research must be for medical purposes only (medical research) as defined in the NHS Act 2006: [https://www.legislation.gov.uk/ukpga/2006/41/part/13/crossheading/patient-information](https://www.legislation.gov.uk/ukpga/2006/41/part/13/crossheading/patient-information)*\"))  \n",
    "display(Markdown(\"***Further information:*** *[https://digital.nhs.uk/coronavirus/gpes-data-for-pandemic-planning-and-research/guide-for-analysts-and-users-of-the-data](https://digital.nhs.uk/coronavirus/gpes-data-for-pandemic-planning-and-research/guide-for-analysts-and-users-of-the-data)*\"))\n"
   ]
  },
  {
   "attachments": {},
   "cell_type": "markdown",
   "id": "ee2455db",
   "metadata": {},
   "source": [
    "## 2. Metrics\n",
    "The tables below summarise the GDPPR dataset in the UK LLC TRE."
   ]
  },
  {
   "attachments": {},
   "cell_type": "markdown",
   "id": "e0d88fc3",
   "metadata": {},
   "source": [
    "**Table 1** The number of participants from each LPS that are represented in the GDPPR dataset in the UK LLC TRE  \n",
    "(**Note**: numbers relate to the most recent extract of NHS England data) "
   ]
  },
  {
   "cell_type": "code",
   "execution_count": 3,
   "id": "877ef22f",
   "metadata": {},
   "outputs": [
    {
     "name": "stdout",
     "output_type": "stream",
     "text": [
      "╒════════════════╤═════════╕\n",
      "│ cohort         │   count │\n",
      "╞════════════════╪═════════╡\n",
      "│ ALSPAC         │    5886 │\n",
      "├────────────────┼─────────┤\n",
      "│ BCS70          │    5789 │\n",
      "├────────────────┼─────────┤\n",
      "│ BIB            │   27323 │\n",
      "├────────────────┼─────────┤\n",
      "│ ELSA           │    6779 │\n",
      "├────────────────┼─────────┤\n",
      "│ EPICN          │   14119 │\n",
      "├────────────────┼─────────┤\n",
      "│ EXCEED         │    9417 │\n",
      "├────────────────┼─────────┤\n",
      "│ FENLAND        │   10105 │\n",
      "├────────────────┼─────────┤\n",
      "│ GLAD           │   64692 │\n",
      "├────────────────┼─────────┤\n",
      "│ MCS            │   17540 │\n",
      "├────────────────┼─────────┤\n",
      "│ NCDS58         │    5924 │\n",
      "├────────────────┼─────────┤\n",
      "│ NEXTSTEP       │    5169 │\n",
      "├────────────────┼─────────┤\n",
      "│ NIHRBIO_COPING │   16063 │\n",
      "├────────────────┼─────────┤\n",
      "│ NSHD46         │    2280 │\n",
      "├────────────────┼─────────┤\n",
      "│ TEDS           │    8038 │\n",
      "├────────────────┼─────────┤\n",
      "│ TRACKC19       │   13738 │\n",
      "├────────────────┼─────────┤\n",
      "│ TWINSUK        │   11711 │\n",
      "├────────────────┼─────────┤\n",
      "│ UKHLS          │    6729 │\n",
      "├────────────────┼─────────┤\n",
      "│ total          │  231302 │\n",
      "╘════════════════╧═════════╛\n"
     ]
    }
   ],
   "source": [
    "gb_cohort = document.get_cohort_count()\n",
    "print(gb_cohort.to_markdown(index=False, tablefmt=\"fancy_grid\"))"
   ]
  },
  {
   "attachments": {},
   "cell_type": "markdown",
   "id": "4d7cab9b",
   "metadata": {},
   "source": [
    "## 3. Helpful syntax\n",
    "Below we will include syntax that may be helpful to other researchers in the UK LLC TRE. For longer scripts, we will include a snippet of the code plus a link to Git where you can find the full script. "
   ]
  }
 ],
 "metadata": {
  "kernelspec": {
   "display_name": "Python 3",
   "language": "python",
   "name": "python3"
  },
  "language_info": {
   "codemirror_mode": {
    "name": "ipython",
    "version": 3
   },
   "file_extension": ".py",
   "mimetype": "text/x-python",
   "name": "python",
   "nbconvert_exporter": "python",
   "pygments_lexer": "ipython3",
   "version": "3.12.3"
  }
 },
 "nbformat": 4,
 "nbformat_minor": 5
}
