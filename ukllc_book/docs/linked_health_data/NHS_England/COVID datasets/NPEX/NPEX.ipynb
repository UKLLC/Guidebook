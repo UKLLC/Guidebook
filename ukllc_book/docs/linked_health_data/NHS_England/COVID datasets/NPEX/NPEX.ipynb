{
 "cells": [
  {
   "attachments": {},
   "cell_type": "markdown",
   "id": "c928623b",
   "metadata": {},
   "source": [
    "# National Pathology Exchange (NPEX) Dataset "
   ]
  },
  {
   "cell_type": "code",
   "execution_count": 1,
   "id": "910dadbd",
   "metadata": {
    "tags": [
     "remove-input"
    ]
   },
   "outputs": [],
   "source": [
    "# define target dataset to document\n",
    "schema = 'nhsd'\n",
    "table = 'NPEX'\n",
    "version = 'v0003'\n",
    "# import functions from script helper\n",
    "import sys\n",
    "script_fp = \"../../../../scripts/\"\n",
    "sys.path.insert(0, script_fp)\n",
    "from data_doc_helper import DocHelper\n",
    "# create instance\n",
    "document = DocHelper(schema, table, version, script_fp)\n",
    "# markdown/code hybrid cell module requirement\n",
    "from IPython.display import display, Markdown"
   ]
  },
  {
   "cell_type": "markdown",
   "id": "9f46ef38",
   "metadata": {},
   "source": [
    "## 1. Summary\n",
    "This dataset is also known as the **Covid-19 UK Non-hospital Antigen Testing Results dataset**. "
   ]
  },
  {
   "cell_type": "code",
   "execution_count": 2,
   "id": "052f7c9d",
   "metadata": {
    "tags": [
     "remove-input"
    ]
   },
   "outputs": [
    {
     "data": {
      "text/html": [
       "<style type=\"text/css\">\n",
       "#T_c4d6e th {\n",
       "  text-align: left;\n",
       "}\n",
       "#T_c4d6e_row0_col0, #T_c4d6e_row1_col0, #T_c4d6e_row2_col0, #T_c4d6e_row3_col0, #T_c4d6e_row4_col0, #T_c4d6e_row5_col0, #T_c4d6e_row6_col0, #T_c4d6e_row7_col0, #T_c4d6e_row8_col0, #T_c4d6e_row9_col0, #T_c4d6e_row10_col0, #T_c4d6e_row11_col0, #T_c4d6e_row12_col0, #T_c4d6e_row13_col0, #T_c4d6e_row14_col0, #T_c4d6e_row15_col0, #T_c4d6e_row16_col0, #T_c4d6e_row17_col0 {\n",
       "  text-align: left;\n",
       "}\n",
       "</style>\n",
       "<table id=\"T_c4d6e\" style=\"font-size: 14px\">\n",
       "  <thead>\n",
       "    <tr>\n",
       "      <th class=\"index_name level0\" >Dataset descriptor</th>\n",
       "      <th id=\"T_c4d6e_level0_col0\" class=\"col_heading level0 col0\" >Dataset-specific information</th>\n",
       "    </tr>\n",
       "  </thead>\n",
       "  <tbody>\n",
       "    <tr>\n",
       "      <th id=\"T_c4d6e_level0_row0\" class=\"row_heading level0 row0\" >Name of dataset in TRE</th>\n",
       "      <td id=\"T_c4d6e_row0_col0\" class=\"data row0 col0\" >NPEX</td>\n",
       "    </tr>\n",
       "    <tr>\n",
       "      <th id=\"T_c4d6e_level0_row1\" class=\"row_heading level0 row1\" >Other name</th>\n",
       "      <td id=\"T_c4d6e_row1_col0\" class=\"data row1 col0\" >Covid-19 UK Non-hospital Antigen Testing Results</td>\n",
       "    </tr>\n",
       "    <tr>\n",
       "      <th id=\"T_c4d6e_level0_row2\" class=\"row_heading level0 row2\" >Owner</th>\n",
       "      <td id=\"T_c4d6e_row2_col0\" class=\"data row2 col0\" >Department of Health and Social Care</td>\n",
       "    </tr>\n",
       "    <tr>\n",
       "      <th id=\"T_c4d6e_level0_row3\" class=\"row_heading level0 row3\" >Geographical coverage</th>\n",
       "      <td id=\"T_c4d6e_row3_col0\" class=\"data row3 col0\" >UK</td>\n",
       "    </tr>\n",
       "    <tr>\n",
       "      <th id=\"T_c4d6e_level0_row4\" class=\"row_heading level0 row4\" >Temporal coverage</th>\n",
       "      <td id=\"T_c4d6e_row4_col0\" class=\"data row4 col0\" >17/04/2020 onwards</td>\n",
       "    </tr>\n",
       "    <tr>\n",
       "      <th id=\"T_c4d6e_level0_row5\" class=\"row_heading level0 row5\" >TRE temporal coverage </th>\n",
       "      <td id=\"T_c4d6e_row5_col0\" class=\"data row5 col0\" >17/04/2020 onwards</td>\n",
       "    </tr>\n",
       "    <tr>\n",
       "      <th id=\"T_c4d6e_level0_row6\" class=\"row_heading level0 row6\" >Frequency of update</th>\n",
       "      <td id=\"T_c4d6e_row6_col0\" class=\"data row6 col0\" >None</td>\n",
       "    </tr>\n",
       "    <tr>\n",
       "      <th id=\"T_c4d6e_level0_row7\" class=\"row_heading level0 row7\" >Date of last extract</th>\n",
       "      <td id=\"T_c4d6e_row7_col0\" class=\"data row7 col0\" >None</td>\n",
       "    </tr>\n",
       "    <tr>\n",
       "      <th id=\"T_c4d6e_level0_row8\" class=\"row_heading level0 row8\" >Keywords</th>\n",
       "      <td id=\"T_c4d6e_row8_col0\" class=\"data row8 col0\" >COVID-19, Testing</td>\n",
       "    </tr>\n",
       "    <tr>\n",
       "      <th id=\"T_c4d6e_level0_row9\" class=\"row_heading level0 row9\" >Short description</th>\n",
       "      <td id=\"T_c4d6e_row9_col0\" class=\"data row9 col0\" >None</td>\n",
       "    </tr>\n",
       "    <tr>\n",
       "      <th id=\"T_c4d6e_level0_row10\" class=\"row_heading level0 row10\" >DOI</th>\n",
       "      <td id=\"T_c4d6e_row10_col0\" class=\"data row10 col0\" >None</td>\n",
       "    </tr>\n",
       "    <tr>\n",
       "      <th id=\"T_c4d6e_level0_row11\" class=\"row_heading level0 row11\" >Data resolution </th>\n",
       "      <td id=\"T_c4d6e_row11_col0\" class=\"data row11 col0\" >None</td>\n",
       "    </tr>\n",
       "    <tr>\n",
       "      <th id=\"T_c4d6e_level0_row12\" class=\"row_heading level0 row12\" >Number of variables</th>\n",
       "      <td id=\"T_c4d6e_row12_col0\" class=\"data row12 col0\" >None</td>\n",
       "    </tr>\n",
       "    <tr>\n",
       "      <th id=\"T_c4d6e_level0_row13\" class=\"row_heading level0 row13\" >Number of participants</th>\n",
       "      <td id=\"T_c4d6e_row13_col0\" class=\"data row13 col0\" >None</td>\n",
       "    </tr>\n",
       "    <tr>\n",
       "      <th id=\"T_c4d6e_level0_row14\" class=\"row_heading level0 row14\" >Number of observations</th>\n",
       "      <td id=\"T_c4d6e_row14_col0\" class=\"data row14 col0\" >None</td>\n",
       "    </tr>\n",
       "    <tr>\n",
       "      <th id=\"T_c4d6e_level0_row15\" class=\"row_heading level0 row15\" >Version </th>\n",
       "      <td id=\"T_c4d6e_row15_col0\" class=\"data row15 col0\" >None</td>\n",
       "    </tr>\n",
       "    <tr>\n",
       "      <th id=\"T_c4d6e_level0_row16\" class=\"row_heading level0 row16\" >Key link</th>\n",
       "      <td id=\"T_c4d6e_row16_col0\" class=\"data row16 col0\" >https://digital.nhs.uk/services/data-access-request-service-dars/dars-products-and-services/data-set-catalogue/covid-19-uk-non-hospital-antigen-testing-results-pillar-2</td>\n",
       "    </tr>\n",
       "    <tr>\n",
       "      <th id=\"T_c4d6e_level0_row17\" class=\"row_heading level0 row17\" >Specific restrictions to data use</th>\n",
       "      <td id=\"T_c4d6e_row17_col0\" class=\"data row17 col0\" >Only to be used in research with a focus on COVID-19 (as specified in the COVID-19 Public Health Directions 2020: https://digital.nhs.uk/about-nhs-digital/corporate-information-and-documents/directions-and-data-provision-notices/secretary-of-state-directions/covid-19-public-health-directions-2020)</td>\n",
       "    </tr>\n",
       "  </tbody>\n",
       "</table>\n"
      ],
      "text/plain": [
       "<pandas.io.formats.style.Styler at 0x27a29c23fe0>"
      ]
     },
     "metadata": {},
     "output_type": "display_data"
    }
   ],
   "source": [
    "display(document.style_table(document.get_dataset_info()))"
   ]
  },
  {
   "attachments": {},
   "cell_type": "markdown",
   "id": "ee2455db",
   "metadata": {},
   "source": [
    "## 2. Metrics\n",
    "The tables below summarise the NPEX dataset in the UK LLC TRE."
   ]
  },
  {
   "attachments": {},
   "cell_type": "markdown",
   "id": "e0d88fc3",
   "metadata": {},
   "source": [
    "**Table 1** The number of participants from each LPS that are represented in the NPEX dataset in the UK LLC TRE  \n",
    "**Note**: numbers relate to the most recent extract of NHS England data) "
   ]
  },
  {
   "cell_type": "code",
   "execution_count": 3,
   "id": "877ef22f",
   "metadata": {
    "tags": [
     "remove-input"
    ]
   },
   "outputs": [
    {
     "data": {
      "text/html": [
       "<style type=\"text/css\">\n",
       "#T_3f984 th {\n",
       "  text-align: left;\n",
       "}\n",
       "#T_3f984_row0_col0, #T_3f984_row1_col0, #T_3f984_row2_col0, #T_3f984_row3_col0, #T_3f984_row4_col0, #T_3f984_row5_col0, #T_3f984_row6_col0, #T_3f984_row7_col0, #T_3f984_row8_col0, #T_3f984_row9_col0, #T_3f984_row10_col0, #T_3f984_row11_col0, #T_3f984_row12_col0, #T_3f984_row13_col0, #T_3f984_row14_col0, #T_3f984_row15_col0, #T_3f984_row16_col0, #T_3f984_row17_col1 {\n",
       "  text-align: left;\n",
       "  font-weight: bold;\n",
       "}\n",
       "#T_3f984_row0_col1, #T_3f984_row1_col1, #T_3f984_row2_col1, #T_3f984_row3_col1, #T_3f984_row4_col1, #T_3f984_row5_col1, #T_3f984_row6_col1, #T_3f984_row7_col1, #T_3f984_row8_col1, #T_3f984_row9_col1, #T_3f984_row10_col1, #T_3f984_row11_col1, #T_3f984_row12_col1, #T_3f984_row13_col1, #T_3f984_row14_col1, #T_3f984_row15_col1, #T_3f984_row16_col1 {\n",
       "  text-align: left;\n",
       "}\n",
       "#T_3f984_row17_col0 {\n",
       "  text-align: left;\n",
       "  font-weight: bold;\n",
       "  font-weight: bold;\n",
       "}\n",
       "</style>\n",
       "<table id=\"T_3f984\" style=\"font-size: 14px\">\n",
       "  <thead>\n",
       "    <tr>\n",
       "      <th id=\"T_3f984_level0_col0\" class=\"col_heading level0 col0\" >LPS</th>\n",
       "      <th id=\"T_3f984_level0_col1\" class=\"col_heading level0 col1\" >Participant count</th>\n",
       "    </tr>\n",
       "  </thead>\n",
       "  <tbody>\n",
       "    <tr>\n",
       "      <td id=\"T_3f984_row0_col0\" class=\"data row0 col0\" >ALSPAC</td>\n",
       "      <td id=\"T_3f984_row0_col1\" class=\"data row0 col1\" >5141</td>\n",
       "    </tr>\n",
       "    <tr>\n",
       "      <td id=\"T_3f984_row1_col0\" class=\"data row1 col0\" >BCS70</td>\n",
       "      <td id=\"T_3f984_row1_col1\" class=\"data row1 col1\" >4508</td>\n",
       "    </tr>\n",
       "    <tr>\n",
       "      <td id=\"T_3f984_row2_col0\" class=\"data row2 col0\" >BIB</td>\n",
       "      <td id=\"T_3f984_row2_col1\" class=\"data row2 col1\" >20239</td>\n",
       "    </tr>\n",
       "    <tr>\n",
       "      <td id=\"T_3f984_row3_col0\" class=\"data row3 col0\" >ELSA</td>\n",
       "      <td id=\"T_3f984_row3_col1\" class=\"data row3 col1\" >3977</td>\n",
       "    </tr>\n",
       "    <tr>\n",
       "      <td id=\"T_3f984_row4_col0\" class=\"data row4 col0\" >EPICN</td>\n",
       "      <td id=\"T_3f984_row4_col1\" class=\"data row4 col1\" >7109</td>\n",
       "    </tr>\n",
       "    <tr>\n",
       "      <td id=\"T_3f984_row5_col0\" class=\"data row5 col0\" >EXCEED</td>\n",
       "      <td id=\"T_3f984_row5_col1\" class=\"data row5 col1\" >6898</td>\n",
       "    </tr>\n",
       "    <tr>\n",
       "      <td id=\"T_3f984_row6_col0\" class=\"data row6 col0\" >FENLAND</td>\n",
       "      <td id=\"T_3f984_row6_col1\" class=\"data row6 col1\" >7558</td>\n",
       "    </tr>\n",
       "    <tr>\n",
       "      <td id=\"T_3f984_row7_col0\" class=\"data row7 col0\" >GLAD</td>\n",
       "      <td id=\"T_3f984_row7_col1\" class=\"data row7 col1\" >54485</td>\n",
       "    </tr>\n",
       "    <tr>\n",
       "      <td id=\"T_3f984_row8_col0\" class=\"data row8 col0\" >MCS</td>\n",
       "      <td id=\"T_3f984_row8_col1\" class=\"data row8 col1\" >14267</td>\n",
       "    </tr>\n",
       "    <tr>\n",
       "      <td id=\"T_3f984_row9_col0\" class=\"data row9 col0\" >NCDS58</td>\n",
       "      <td id=\"T_3f984_row9_col1\" class=\"data row9 col1\" >4083</td>\n",
       "    </tr>\n",
       "    <tr>\n",
       "      <td id=\"T_3f984_row10_col0\" class=\"data row10 col0\" >NEXTSTEP</td>\n",
       "      <td id=\"T_3f984_row10_col1\" class=\"data row10 col1\" >4322</td>\n",
       "    </tr>\n",
       "    <tr>\n",
       "      <td id=\"T_3f984_row11_col0\" class=\"data row11 col0\" >NIHRBIO_COPING</td>\n",
       "      <td id=\"T_3f984_row11_col1\" class=\"data row11 col1\" >13893</td>\n",
       "    </tr>\n",
       "    <tr>\n",
       "      <td id=\"T_3f984_row12_col0\" class=\"data row12 col0\" >NSHD46</td>\n",
       "      <td id=\"T_3f984_row12_col1\" class=\"data row12 col1\" >1098</td>\n",
       "    </tr>\n",
       "    <tr>\n",
       "      <td id=\"T_3f984_row13_col0\" class=\"data row13 col0\" >TEDS</td>\n",
       "      <td id=\"T_3f984_row13_col1\" class=\"data row13 col1\" >6914</td>\n",
       "    </tr>\n",
       "    <tr>\n",
       "      <td id=\"T_3f984_row14_col0\" class=\"data row14 col0\" >TRACKC19</td>\n",
       "      <td id=\"T_3f984_row14_col1\" class=\"data row14 col1\" >12308</td>\n",
       "    </tr>\n",
       "    <tr>\n",
       "      <td id=\"T_3f984_row15_col0\" class=\"data row15 col0\" >TWINSUK</td>\n",
       "      <td id=\"T_3f984_row15_col1\" class=\"data row15 col1\" >8823</td>\n",
       "    </tr>\n",
       "    <tr>\n",
       "      <td id=\"T_3f984_row16_col0\" class=\"data row16 col0\" >UKHLS</td>\n",
       "      <td id=\"T_3f984_row16_col1\" class=\"data row16 col1\" >5352</td>\n",
       "    </tr>\n",
       "    <tr>\n",
       "      <td id=\"T_3f984_row17_col0\" class=\"data row17 col0\" >TOTAL</td>\n",
       "      <td id=\"T_3f984_row17_col1\" class=\"data row17 col1\" >180975</td>\n",
       "    </tr>\n",
       "  </tbody>\n",
       "</table>\n"
      ],
      "text/plain": [
       "<pandas.io.formats.style.Styler at 0x27a2817cda0>"
      ]
     },
     "metadata": {},
     "output_type": "display_data"
    }
   ],
   "source": [
    "display(document.style_table(document.get_cohort_count()))"
   ]
  },
  {
   "attachments": {},
   "cell_type": "markdown",
   "id": "4d7cab9b",
   "metadata": {},
   "source": [
    "## 3. Helpful syntax\n",
    "Below we will include syntax that may be helpful to other researchers in the UK LLC TRE. For longer scripts, we will include a snippet of the code plus a link to Git where you can find the full script. "
   ]
  },
  {
   "cell_type": "code",
   "execution_count": null,
   "id": "1478357b",
   "metadata": {
    "tags": [
     "remove-input"
    ]
   },
   "outputs": [],
   "source": []
  }
 ],
 "metadata": {
  "kernelspec": {
   "display_name": "Python 3",
   "language": "python",
   "name": "python3"
  },
  "language_info": {
   "codemirror_mode": {
    "name": "ipython",
    "version": 3
   },
   "file_extension": ".py",
   "mimetype": "text/x-python",
   "name": "python",
   "nbconvert_exporter": "python",
   "pygments_lexer": "ipython3",
   "version": "3.12.2"
  }
 },
 "nbformat": 4,
 "nbformat_minor": 5
}
