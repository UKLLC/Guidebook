{
 "cells": [
  {
   "attachments": {},
   "cell_type": "markdown",
   "id": "c928623b",
   "metadata": {
    "tags": [
     "remove-input"
    ]
   },
   "source": [
    "# COVID-19 Vaccination Status (CVS) Dataset"
   ]
  },
  {
   "cell_type": "code",
   "execution_count": 5,
   "id": "910dadbd",
   "metadata": {
    "tags": [
     "remove-input"
    ]
   },
   "outputs": [],
   "source": [
    "# define target dataset to document\n",
    "schema = 'nhsd'\n",
    "table = 'CVS'\n",
    "version = 'v0003'\n",
    "# import functions from script helper\n",
    "import sys\n",
    "script_fp = \"../../../../scripts/\"\n",
    "sys.path.insert(0, script_fp)\n",
    "from data_doc_helper import DocHelper\n",
    "# create instance\n",
    "document = DocHelper(schema, table, version, script_fp)\n",
    "# markdown/code hybrid cell module requirement\n",
    "from IPython.display import display, Markdown"
   ]
  },
  {
   "cell_type": "markdown",
   "id": "a750ab53",
   "metadata": {},
   "source": [
    "## 1. Summary"
   ]
  },
  {
   "cell_type": "code",
   "execution_count": 6,
   "id": "0b33c771",
   "metadata": {
    "tags": [
     "remove-input"
    ]
   },
   "outputs": [
    {
     "data": {
      "text/html": [
       "<style type=\"text/css\">\n",
       "#T_8eaee th {\n",
       "  text-align: left;\n",
       "}\n",
       "#T_8eaee_row0_col0, #T_8eaee_row1_col0, #T_8eaee_row2_col0, #T_8eaee_row3_col0, #T_8eaee_row4_col0, #T_8eaee_row5_col0, #T_8eaee_row6_col0, #T_8eaee_row7_col0, #T_8eaee_row8_col0, #T_8eaee_row9_col0, #T_8eaee_row10_col0, #T_8eaee_row11_col0, #T_8eaee_row12_col0, #T_8eaee_row13_col0, #T_8eaee_row14_col0, #T_8eaee_row15_col0, #T_8eaee_row16_col0, #T_8eaee_row17_col0 {\n",
       "  text-align: left;\n",
       "}\n",
       "</style>\n",
       "<table id=\"T_8eaee\" style=\"font-size: 14px\">\n",
       "  <thead>\n",
       "    <tr>\n",
       "      <th class=\"index_name level0\" >Dataset descriptor</th>\n",
       "      <th id=\"T_8eaee_level0_col0\" class=\"col_heading level0 col0\" >Dataset-specific information</th>\n",
       "    </tr>\n",
       "  </thead>\n",
       "  <tbody>\n",
       "    <tr>\n",
       "      <th id=\"T_8eaee_level0_row0\" class=\"row_heading level0 row0\" >Name of dataset in TRE</th>\n",
       "      <td id=\"T_8eaee_row0_col0\" class=\"data row0 col0\" >CVS</td>\n",
       "    </tr>\n",
       "    <tr>\n",
       "      <th id=\"T_8eaee_level0_row1\" class=\"row_heading level0 row1\" >Other name</th>\n",
       "      <td id=\"T_8eaee_row1_col0\" class=\"data row1 col0\" >None</td>\n",
       "    </tr>\n",
       "    <tr>\n",
       "      <th id=\"T_8eaee_level0_row2\" class=\"row_heading level0 row2\" >Keywords</th>\n",
       "      <td id=\"T_8eaee_row2_col0\" class=\"data row2 col0\" >COVID-19, Vaccination</td>\n",
       "    </tr>\n",
       "    <tr>\n",
       "      <th id=\"T_8eaee_level0_row3\" class=\"row_heading level0 row3\" >Short description</th>\n",
       "      <td id=\"T_8eaee_row3_col0\" class=\"data row3 col0\" >Dataset of anyone vaccinated against SARS-CoV-2 within England and anyone vaccinated in a devolved administration where this information is subsequently passed to England. The source of all vaccination data is the National Immunisation Management System (NIMS) database. A record represents one vaccination. </td>\n",
       "    </tr>\n",
       "    <tr>\n",
       "      <th id=\"T_8eaee_level0_row4\" class=\"row_heading level0 row4\" >Owner</th>\n",
       "      <td id=\"T_8eaee_row4_col0\" class=\"data row4 col0\" >NHS England</td>\n",
       "    </tr>\n",
       "    <tr>\n",
       "      <th id=\"T_8eaee_level0_row5\" class=\"row_heading level0 row5\" >Geographical coverage</th>\n",
       "      <td id=\"T_8eaee_row5_col0\" class=\"data row5 col0\" >England</td>\n",
       "    </tr>\n",
       "    <tr>\n",
       "      <th id=\"T_8eaee_level0_row6\" class=\"row_heading level0 row6\" >Temporal coverage</th>\n",
       "      <td id=\"T_8eaee_row6_col0\" class=\"data row6 col0\" >08/12/2020 onwards</td>\n",
       "    </tr>\n",
       "    <tr>\n",
       "      <th id=\"T_8eaee_level0_row7\" class=\"row_heading level0 row7\" >TRE temporal coverage </th>\n",
       "      <td id=\"T_8eaee_row7_col0\" class=\"data row7 col0\" >08/12/2020 onwards</td>\n",
       "    </tr>\n",
       "    <tr>\n",
       "      <th id=\"T_8eaee_level0_row8\" class=\"row_heading level0 row8\" >Frequency of update</th>\n",
       "      <td id=\"T_8eaee_row8_col0\" class=\"data row8 col0\" >Annually</td>\n",
       "    </tr>\n",
       "    <tr>\n",
       "      <th id=\"T_8eaee_level0_row9\" class=\"row_heading level0 row9\" >Date of last extract</th>\n",
       "      <td id=\"T_8eaee_row9_col0\" class=\"data row9 col0\" >None</td>\n",
       "    </tr>\n",
       "    <tr>\n",
       "      <th id=\"T_8eaee_level0_row10\" class=\"row_heading level0 row10\" >DOI</th>\n",
       "      <td id=\"T_8eaee_row10_col0\" class=\"data row10 col0\" >None</td>\n",
       "    </tr>\n",
       "    <tr>\n",
       "      <th id=\"T_8eaee_level0_row11\" class=\"row_heading level0 row11\" >Data resolution </th>\n",
       "      <td id=\"T_8eaee_row11_col0\" class=\"data row11 col0\" >Vaccination</td>\n",
       "    </tr>\n",
       "    <tr>\n",
       "      <th id=\"T_8eaee_level0_row12\" class=\"row_heading level0 row12\" >Number of variables</th>\n",
       "      <td id=\"T_8eaee_row12_col0\" class=\"data row12 col0\" >None</td>\n",
       "    </tr>\n",
       "    <tr>\n",
       "      <th id=\"T_8eaee_level0_row13\" class=\"row_heading level0 row13\" >Number of participants</th>\n",
       "      <td id=\"T_8eaee_row13_col0\" class=\"data row13 col0\" >None</td>\n",
       "    </tr>\n",
       "    <tr>\n",
       "      <th id=\"T_8eaee_level0_row14\" class=\"row_heading level0 row14\" >Number of observations</th>\n",
       "      <td id=\"T_8eaee_row14_col0\" class=\"data row14 col0\" >None</td>\n",
       "    </tr>\n",
       "    <tr>\n",
       "      <th id=\"T_8eaee_level0_row15\" class=\"row_heading level0 row15\" >Version </th>\n",
       "      <td id=\"T_8eaee_row15_col0\" class=\"data row15 col0\" >None</td>\n",
       "    </tr>\n",
       "    <tr>\n",
       "      <th id=\"T_8eaee_level0_row16\" class=\"row_heading level0 row16\" >Key link</th>\n",
       "      <td id=\"T_8eaee_row16_col0\" class=\"data row16 col0\" >https://digital.nhs.uk/services/data-access-request-service-dars/dars-products-and-services/data-set-catalogue/covid-19-vaccination-status</td>\n",
       "    </tr>\n",
       "    <tr>\n",
       "      <th id=\"T_8eaee_level0_row17\" class=\"row_heading level0 row17\" >Specific restrictions to data use</th>\n",
       "      <td id=\"T_8eaee_row17_col0\" class=\"data row17 col0\" >Research must be related to COVID-19. For examples of research purposes acceptable to NHS England see the COVID-19 Public Health Directions 2020: https://digital.nhs.uk/about-nhs-digital/corporate-information-and-documents/directions-and-data-provision-notices/secretary-of-state-directions/covid-19-public-health-directions-2020</td>\n",
       "    </tr>\n",
       "  </tbody>\n",
       "</table>\n"
      ],
      "text/plain": [
       "<pandas.io.formats.style.Styler at 0x1a522350a10>"
      ]
     },
     "metadata": {},
     "output_type": "display_data"
    }
   ],
   "source": [
    "display(document.style_table(document.get_dataset_info()))"
   ]
  },
  {
   "attachments": {},
   "cell_type": "markdown",
   "id": "ee2455db",
   "metadata": {},
   "source": [
    "## 2. Metrics\n",
    "The tables below summarise the CVS dataset in the UK LLC TRE."
   ]
  },
  {
   "attachments": {},
   "cell_type": "markdown",
   "id": "e0d88fc3",
   "metadata": {},
   "source": [
    "**Table 1** The number of participants from each LPS that are represented in the CVS dataset in the UK LLC TRE  \n",
    "(**Note**: numbers relate to the most recent extract of NHS England data) "
   ]
  },
  {
   "cell_type": "code",
   "execution_count": 7,
   "id": "877ef22f",
   "metadata": {
    "tags": [
     "remove-input"
    ]
   },
   "outputs": [
    {
     "data": {
      "text/html": [
       "<style type=\"text/css\">\n",
       "#T_d94aa th {\n",
       "  text-align: left;\n",
       "}\n",
       "#T_d94aa_row0_col0, #T_d94aa_row1_col0, #T_d94aa_row2_col0, #T_d94aa_row3_col0, #T_d94aa_row4_col0, #T_d94aa_row5_col0, #T_d94aa_row6_col0, #T_d94aa_row7_col0, #T_d94aa_row8_col0, #T_d94aa_row9_col0, #T_d94aa_row10_col0, #T_d94aa_row11_col0, #T_d94aa_row12_col0, #T_d94aa_row13_col0, #T_d94aa_row14_col0, #T_d94aa_row15_col0, #T_d94aa_row16_col0, #T_d94aa_row17_col1 {\n",
       "  text-align: left;\n",
       "  font-weight: bold;\n",
       "}\n",
       "#T_d94aa_row0_col1, #T_d94aa_row1_col1, #T_d94aa_row2_col1, #T_d94aa_row3_col1, #T_d94aa_row4_col1, #T_d94aa_row5_col1, #T_d94aa_row6_col1, #T_d94aa_row7_col1, #T_d94aa_row8_col1, #T_d94aa_row9_col1, #T_d94aa_row10_col1, #T_d94aa_row11_col1, #T_d94aa_row12_col1, #T_d94aa_row13_col1, #T_d94aa_row14_col1, #T_d94aa_row15_col1, #T_d94aa_row16_col1 {\n",
       "  text-align: left;\n",
       "}\n",
       "#T_d94aa_row17_col0 {\n",
       "  text-align: left;\n",
       "  font-weight: bold;\n",
       "  font-weight: bold;\n",
       "}\n",
       "</style>\n",
       "<table id=\"T_d94aa\" style=\"font-size: 14px\">\n",
       "  <thead>\n",
       "    <tr>\n",
       "      <th id=\"T_d94aa_level0_col0\" class=\"col_heading level0 col0\" >LPS</th>\n",
       "      <th id=\"T_d94aa_level0_col1\" class=\"col_heading level0 col1\" >Participant count</th>\n",
       "    </tr>\n",
       "  </thead>\n",
       "  <tbody>\n",
       "    <tr>\n",
       "      <td id=\"T_d94aa_row0_col0\" class=\"data row0 col0\" >ALSPAC</td>\n",
       "      <td id=\"T_d94aa_row0_col1\" class=\"data row0 col1\" >5424</td>\n",
       "    </tr>\n",
       "    <tr>\n",
       "      <td id=\"T_d94aa_row1_col0\" class=\"data row1 col0\" >BCS70</td>\n",
       "      <td id=\"T_d94aa_row1_col1\" class=\"data row1 col1\" >5572</td>\n",
       "    </tr>\n",
       "    <tr>\n",
       "      <td id=\"T_d94aa_row2_col0\" class=\"data row2 col0\" >BIB</td>\n",
       "      <td id=\"T_d94aa_row2_col1\" class=\"data row2 col1\" >16644</td>\n",
       "    </tr>\n",
       "    <tr>\n",
       "      <td id=\"T_d94aa_row3_col0\" class=\"data row3 col0\" >ELSA</td>\n",
       "      <td id=\"T_d94aa_row3_col1\" class=\"data row3 col1\" >6493</td>\n",
       "    </tr>\n",
       "    <tr>\n",
       "      <td id=\"T_d94aa_row4_col0\" class=\"data row4 col0\" >EPICN</td>\n",
       "      <td id=\"T_d94aa_row4_col1\" class=\"data row4 col1\" >12521</td>\n",
       "    </tr>\n",
       "    <tr>\n",
       "      <td id=\"T_d94aa_row5_col0\" class=\"data row5 col0\" >EXCEED</td>\n",
       "      <td id=\"T_d94aa_row5_col1\" class=\"data row5 col1\" >9202</td>\n",
       "    </tr>\n",
       "    <tr>\n",
       "      <td id=\"T_d94aa_row6_col0\" class=\"data row6 col0\" >FENLAND</td>\n",
       "      <td id=\"T_d94aa_row6_col1\" class=\"data row6 col1\" >9956</td>\n",
       "    </tr>\n",
       "    <tr>\n",
       "      <td id=\"T_d94aa_row7_col0\" class=\"data row7 col0\" >GLAD</td>\n",
       "      <td id=\"T_d94aa_row7_col1\" class=\"data row7 col1\" >62611</td>\n",
       "    </tr>\n",
       "    <tr>\n",
       "      <td id=\"T_d94aa_row8_col0\" class=\"data row8 col0\" >MCS</td>\n",
       "      <td id=\"T_d94aa_row8_col1\" class=\"data row8 col1\" >15710</td>\n",
       "    </tr>\n",
       "    <tr>\n",
       "      <td id=\"T_d94aa_row9_col0\" class=\"data row9 col0\" >NCDS58</td>\n",
       "      <td id=\"T_d94aa_row9_col1\" class=\"data row9 col1\" >5787</td>\n",
       "    </tr>\n",
       "    <tr>\n",
       "      <td id=\"T_d94aa_row10_col0\" class=\"data row10 col0\" >NEXTSTEP</td>\n",
       "      <td id=\"T_d94aa_row10_col1\" class=\"data row10 col1\" >4456</td>\n",
       "    </tr>\n",
       "    <tr>\n",
       "      <td id=\"T_d94aa_row11_col0\" class=\"data row11 col0\" >NIHRBIO_COPING</td>\n",
       "      <td id=\"T_d94aa_row11_col1\" class=\"data row11 col1\" >16325</td>\n",
       "    </tr>\n",
       "    <tr>\n",
       "      <td id=\"T_d94aa_row12_col0\" class=\"data row12 col0\" >NSHD46</td>\n",
       "      <td id=\"T_d94aa_row12_col1\" class=\"data row12 col1\" >2213</td>\n",
       "    </tr>\n",
       "    <tr>\n",
       "      <td id=\"T_d94aa_row13_col0\" class=\"data row13 col0\" >TEDS</td>\n",
       "      <td id=\"T_d94aa_row13_col1\" class=\"data row13 col1\" >7257</td>\n",
       "    </tr>\n",
       "    <tr>\n",
       "      <td id=\"T_d94aa_row14_col0\" class=\"data row14 col0\" >TRACKC19</td>\n",
       "      <td id=\"T_d94aa_row14_col1\" class=\"data row14 col1\" >13960</td>\n",
       "    </tr>\n",
       "    <tr>\n",
       "      <td id=\"T_d94aa_row15_col0\" class=\"data row15 col0\" >TWINSUK</td>\n",
       "      <td id=\"T_d94aa_row15_col1\" class=\"data row15 col1\" >11050</td>\n",
       "    </tr>\n",
       "    <tr>\n",
       "      <td id=\"T_d94aa_row16_col0\" class=\"data row16 col0\" >UKHLS</td>\n",
       "      <td id=\"T_d94aa_row16_col1\" class=\"data row16 col1\" >6719</td>\n",
       "    </tr>\n",
       "    <tr>\n",
       "      <td id=\"T_d94aa_row17_col0\" class=\"data row17 col0\" >TOTAL</td>\n",
       "      <td id=\"T_d94aa_row17_col1\" class=\"data row17 col1\" >211900</td>\n",
       "    </tr>\n",
       "  </tbody>\n",
       "</table>\n"
      ],
      "text/plain": [
       "<pandas.io.formats.style.Styler at 0x1a512bc37d0>"
      ]
     },
     "metadata": {},
     "output_type": "display_data"
    }
   ],
   "source": [
    "display(document.style_table(document.get_cohort_count()))"
   ]
  },
  {
   "attachments": {},
   "cell_type": "markdown",
   "id": "4d7cab9b",
   "metadata": {},
   "source": [
    "## 3. Helpful syntax\n",
    "Below we will include syntax that may be helpful to other researchers in the UK LLC TRE. For longer scripts, we will include a snippet of the code plus a link to Git where you can find the full script. "
   ]
  },
  {
   "cell_type": "code",
   "execution_count": null,
   "id": "84965aba",
   "metadata": {
    "tags": [
     "remove-input"
    ]
   },
   "outputs": [],
   "source": []
  },
  {
   "cell_type": "code",
   "execution_count": null,
   "id": "35462ceb",
   "metadata": {
    "tags": [
     "remove-input"
    ]
   },
   "outputs": [],
   "source": []
  }
 ],
 "metadata": {
  "kernelspec": {
   "display_name": "Python 3",
   "language": "python",
   "name": "python3"
  },
  "language_info": {
   "codemirror_mode": {
    "name": "ipython",
    "version": 3
   },
   "file_extension": ".py",
   "mimetype": "text/x-python",
   "name": "python",
   "nbconvert_exporter": "python",
   "pygments_lexer": "ipython3",
   "version": "3.12.2"
  }
 },
 "nbformat": 4,
 "nbformat_minor": 5
}
