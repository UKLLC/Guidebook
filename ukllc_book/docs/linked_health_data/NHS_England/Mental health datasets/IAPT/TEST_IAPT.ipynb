{
 "cells": [
  {
   "attachments": {},
   "cell_type": "markdown",
   "id": "c928623b",
   "metadata": {},
   "source": [
    "# Talking Therapies for Anxiety and Depression dataset"
   ]
  },
  {
   "cell_type": "code",
   "execution_count": 1,
   "id": "71405ccc",
   "metadata": {},
   "outputs": [],
   "source": [
    "import sys\n",
    "import os\n",
    "script_fp = \"../../../../scripts/\"\n",
    "sys.path.insert(0, script_fp)\n",
    "from data_doc_helper import DocHelper\n",
    "import mdapi_functions as md\n",
    "API_KEY = os.environ['FASTAPI_KEY']\n",
    "import requests\n",
    "import json\n",
    "import pandas as pd\n",
    "import datacite_api_functions as dcf\n",
    "from IPython.display import display, Markdown"
   ]
  },
  {
   "cell_type": "code",
   "execution_count": 4,
   "id": "578654b4",
   "metadata": {},
   "outputs": [
    {
     "data": {
      "application/vnd.microsoft.datawrangler.viewer.v0+json": {
       "columns": [
        {
         "name": "index",
         "rawType": "int64",
         "type": "integer"
        },
        {
         "name": "cohort",
         "rawType": "object",
         "type": "string"
        },
        {
         "name": "count",
         "rawType": "object",
         "type": "string"
        }
       ],
       "ref": "5fd5c98a-bbf5-4250-98a5-6c31ad43b4b4",
       "rows": [
        [
         "0",
         "ALSPAC",
         "6256"
        ],
        [
         "1",
         "BCS70",
         "6482"
        ],
        [
         "2",
         "BIB",
         "28427"
        ],
        [
         "3",
         "ELSA",
         "7102"
        ],
        [
         "4",
         "EPICN",
         "15117"
        ],
        [
         "5",
         "EXCEED",
         "9504"
        ],
        [
         "6",
         "FENLAND",
         "10595"
        ],
        [
         "7",
         "GENSCOT",
         "0"
        ],
        [
         "8",
         "GLAD",
         "67123"
        ],
        [
         "9",
         "MCS",
         "21907"
        ],
        [
         "10",
         "NCDS58",
         "7507"
        ],
        [
         "11",
         "NEXTSTEP",
         "5337"
        ],
        [
         "12",
         "NICOLA",
         "0"
        ],
        [
         "13",
         "NIHRBIO_COPING",
         "16793"
        ],
        [
         "14",
         "NSHD46",
         "4236"
        ],
        [
         "15",
         "SABRE",
         "0"
        ],
        [
         "16",
         "TEDS",
         "8677"
        ],
        [
         "17",
         "TRACKC19",
         "14188"
        ],
        [
         "18",
         "TWINSUK",
         "13933"
        ],
        [
         "19",
         "UKHLS",
         "7454"
        ]
       ],
       "shape": {
        "columns": 2,
        "rows": 20
       }
      },
      "text/html": [
       "<div>\n",
       "<style scoped>\n",
       "    .dataframe tbody tr th:only-of-type {\n",
       "        vertical-align: middle;\n",
       "    }\n",
       "\n",
       "    .dataframe tbody tr th {\n",
       "        vertical-align: top;\n",
       "    }\n",
       "\n",
       "    .dataframe thead th {\n",
       "        text-align: right;\n",
       "    }\n",
       "</style>\n",
       "<table border=\"1\" class=\"dataframe\">\n",
       "  <thead>\n",
       "    <tr style=\"text-align: right;\">\n",
       "      <th></th>\n",
       "      <th>cohort</th>\n",
       "      <th>count</th>\n",
       "    </tr>\n",
       "  </thead>\n",
       "  <tbody>\n",
       "    <tr>\n",
       "      <th>0</th>\n",
       "      <td>ALSPAC</td>\n",
       "      <td>6256</td>\n",
       "    </tr>\n",
       "    <tr>\n",
       "      <th>1</th>\n",
       "      <td>BCS70</td>\n",
       "      <td>6482</td>\n",
       "    </tr>\n",
       "    <tr>\n",
       "      <th>2</th>\n",
       "      <td>BIB</td>\n",
       "      <td>28427</td>\n",
       "    </tr>\n",
       "    <tr>\n",
       "      <th>3</th>\n",
       "      <td>ELSA</td>\n",
       "      <td>7102</td>\n",
       "    </tr>\n",
       "    <tr>\n",
       "      <th>4</th>\n",
       "      <td>EPICN</td>\n",
       "      <td>15117</td>\n",
       "    </tr>\n",
       "    <tr>\n",
       "      <th>5</th>\n",
       "      <td>EXCEED</td>\n",
       "      <td>9504</td>\n",
       "    </tr>\n",
       "    <tr>\n",
       "      <th>6</th>\n",
       "      <td>FENLAND</td>\n",
       "      <td>10595</td>\n",
       "    </tr>\n",
       "    <tr>\n",
       "      <th>7</th>\n",
       "      <td>GENSCOT</td>\n",
       "      <td>0</td>\n",
       "    </tr>\n",
       "    <tr>\n",
       "      <th>8</th>\n",
       "      <td>GLAD</td>\n",
       "      <td>67123</td>\n",
       "    </tr>\n",
       "    <tr>\n",
       "      <th>9</th>\n",
       "      <td>MCS</td>\n",
       "      <td>21907</td>\n",
       "    </tr>\n",
       "    <tr>\n",
       "      <th>10</th>\n",
       "      <td>NCDS58</td>\n",
       "      <td>7507</td>\n",
       "    </tr>\n",
       "    <tr>\n",
       "      <th>11</th>\n",
       "      <td>NEXTSTEP</td>\n",
       "      <td>5337</td>\n",
       "    </tr>\n",
       "    <tr>\n",
       "      <th>12</th>\n",
       "      <td>NICOLA</td>\n",
       "      <td>0</td>\n",
       "    </tr>\n",
       "    <tr>\n",
       "      <th>13</th>\n",
       "      <td>NIHRBIO_COPING</td>\n",
       "      <td>16793</td>\n",
       "    </tr>\n",
       "    <tr>\n",
       "      <th>14</th>\n",
       "      <td>NSHD46</td>\n",
       "      <td>4236</td>\n",
       "    </tr>\n",
       "    <tr>\n",
       "      <th>15</th>\n",
       "      <td>SABRE</td>\n",
       "      <td>0</td>\n",
       "    </tr>\n",
       "    <tr>\n",
       "      <th>16</th>\n",
       "      <td>TEDS</td>\n",
       "      <td>8677</td>\n",
       "    </tr>\n",
       "    <tr>\n",
       "      <th>17</th>\n",
       "      <td>TRACKC19</td>\n",
       "      <td>14188</td>\n",
       "    </tr>\n",
       "    <tr>\n",
       "      <th>18</th>\n",
       "      <td>TWINSUK</td>\n",
       "      <td>13933</td>\n",
       "    </tr>\n",
       "    <tr>\n",
       "      <th>19</th>\n",
       "      <td>UKHLS</td>\n",
       "      <td>7454</td>\n",
       "    </tr>\n",
       "  </tbody>\n",
       "</table>\n",
       "</div>"
      ],
      "text/plain": [
       "            cohort  count\n",
       "0           ALSPAC   6256\n",
       "1            BCS70   6482\n",
       "2              BIB  28427\n",
       "3             ELSA   7102\n",
       "4            EPICN  15117\n",
       "5           EXCEED   9504\n",
       "6          FENLAND  10595\n",
       "7          GENSCOT      0\n",
       "8             GLAD  67123\n",
       "9              MCS  21907\n",
       "10          NCDS58   7507\n",
       "11        NEXTSTEP   5337\n",
       "12          NICOLA      0\n",
       "13  NIHRBIO_COPING  16793\n",
       "14          NSHD46   4236\n",
       "15           SABRE      0\n",
       "16            TEDS   8677\n",
       "17        TRACKC19  14188\n",
       "18         TWINSUK  13933\n",
       "19           UKHLS   7454"
      ]
     },
     "execution_count": 4,
     "metadata": {},
     "output_type": "execute_result"
    }
   ],
   "source": [
    "md.get_nhse_cohort_counts(\"DEMOGRAPHICS\")"
   ]
  },
  {
   "cell_type": "code",
   "execution_count": null,
   "id": "58c2b5b6",
   "metadata": {},
   "outputs": [
    {
     "name": "stdout",
     "output_type": "stream",
     "text": [
      "Tables: 680 , Variables: 254290\n",
      "Tables: 428 , Variables: 156830\n"
     ]
    }
   ],
   "source": [
    "# code to get number of tables and number of variables for AB talk - 28/05/25\n",
    "dsvs = md.get_md_api_dsvs()\n",
    "dsvs[\"version_num\"] = dsvs[\"version_num\"].fillna(\"v0001\")\n",
    "dsvs[\"vnum\"] = dsvs[\"version_num\"].apply(lambda x: int(str(x).split(\"v\")[1]))\n",
    "dsvs2 = dsvs.sort_values(by=\"vnum\", ascending=False).drop_duplicates(subset=\"table\")\n",
    "dsvs2[\"source_table\"] = dsvs[\"source\"] + \"_\" + dsvs[\"table\"]\n",
    "print(\"Tables: {} , Variables: {}\".format(len(dsvs), int(dsvs[\"num_columns\"].sum())))\n",
    "print(\"Tables: {} , Variables: {}\".format(len(dsvs2), int(dsvs2[\"num_columns\"].sum())))"
   ]
  },
  {
   "cell_type": "code",
   "execution_count": null,
   "id": "8bd8f0ea",
   "metadata": {},
   "outputs": [
    {
     "name": "stderr",
     "output_type": "stream",
     "text": [
      "C:\\Users\\sn9395\\AppData\\Local\\Temp\\ipykernel_9636\\1443449575.py:5: SettingWithCopyWarning: \n",
      "A value is trying to be set on a copy of a slice from a DataFrame.\n",
      "Try using .loc[row_indexer,col_indexer] = value instead\n",
      "\n",
      "See the caveats in the documentation: https://pandas.pydata.org/pandas-docs/stable/user_guide/indexing.html#returning-a-view-versus-a-copy\n",
      "  df_ds[\"source_table\"] = df_ds[\"source\"] + \"_\" + df_ds[\"table\"]\n"
     ]
    },
    {
     "data": {
      "application/vnd.microsoft.datawrangler.viewer.v0+json": {
       "columns": [
        {
         "name": "index",
         "rawType": "int64",
         "type": "integer"
        },
        {
         "name": "source",
         "rawType": "object",
         "type": "string"
        },
        {
         "name": "index",
         "rawType": "int64",
         "type": "integer"
        },
        {
         "name": "table_name",
         "rawType": "object",
         "type": "string"
        },
        {
         "name": "collection_start",
         "rawType": "object",
         "type": "string"
        },
        {
         "name": "participants_invited",
         "rawType": "object",
         "type": "unknown"
        },
        {
         "name": "links",
         "rawType": "object",
         "type": "string"
        },
        {
         "name": "special_conditions",
         "rawType": "object",
         "type": "unknown"
        },
        {
         "name": "source_name",
         "rawType": "object",
         "type": "string"
        },
        {
         "name": "table",
         "rawType": "object",
         "type": "string"
        },
        {
         "name": "short_desc",
         "rawType": "object",
         "type": "string"
        },
        {
         "name": "long_desc",
         "rawType": "object",
         "type": "string"
        },
        {
         "name": "collection_time",
         "rawType": "object",
         "type": "string"
        },
        {
         "name": "collection_end",
         "rawType": "object",
         "type": "string"
        },
        {
         "name": "participants_included",
         "rawType": "object",
         "type": "string"
        },
        {
         "name": "topic_tags",
         "rawType": "object",
         "type": "unknown"
        },
        {
         "name": "source_type",
         "rawType": "object",
         "type": "string"
        },
        {
         "name": "source_table",
         "rawType": "object",
         "type": "string"
        },
        {
         "name": "Owner",
         "rawType": "object",
         "type": "string"
        }
       ],
       "ref": "a3295858-7c3d-412b-9727-c38a2f01e85c",
       "rows": [
        [
         "0",
         "NHSE",
         "379",
         "Improving Access to Psychological Therapies (IAPT)",
         "04/2012",
         null,
         "[digital.nhs.uk](https://digital.nhs.uk/data-and-information/data-collections-and-data-sets/data-sets/improving-access-to-psychological-therapies-data-set)",
         null,
         "NHS England",
         "IAPT",
         "People treated in England for depression and anxiety disorders under the NHS Talking Therapies Programme. ",
         "This dataset will shortly be renamed the NHS Talking Therapies for Anxiety and Depression Dataset. The dataset collects information about adults in England who receive NHS-funded treatment for depression and anxiety disorders under the NHS Talking Therapies programme. Conditions treated include agoraphobia, body dysmorphic disorder, depression, generalised anxiety disorder, obsessive-compulsive disorder, panic disorder, post traumatic stress disorder and a wide range of specific phobias.",
         "2012-04-01 00:00:00",
         "ongoing",
         "26601",
         null,
         "Linked",
         "NHSE_IAPT",
         "NHS England, Office for National Statistics and Department of Health and Social Care"
        ]
       ],
       "shape": {
        "columns": 18,
        "rows": 1
       }
      },
      "text/html": [
       "<div>\n",
       "<style scoped>\n",
       "    .dataframe tbody tr th:only-of-type {\n",
       "        vertical-align: middle;\n",
       "    }\n",
       "\n",
       "    .dataframe tbody tr th {\n",
       "        vertical-align: top;\n",
       "    }\n",
       "\n",
       "    .dataframe thead th {\n",
       "        text-align: right;\n",
       "    }\n",
       "</style>\n",
       "<table border=\"1\" class=\"dataframe\">\n",
       "  <thead>\n",
       "    <tr style=\"text-align: right;\">\n",
       "      <th></th>\n",
       "      <th>source</th>\n",
       "      <th>index</th>\n",
       "      <th>table_name</th>\n",
       "      <th>collection_start</th>\n",
       "      <th>participants_invited</th>\n",
       "      <th>links</th>\n",
       "      <th>special_conditions</th>\n",
       "      <th>source_name</th>\n",
       "      <th>table</th>\n",
       "      <th>short_desc</th>\n",
       "      <th>long_desc</th>\n",
       "      <th>collection_time</th>\n",
       "      <th>collection_end</th>\n",
       "      <th>participants_included</th>\n",
       "      <th>topic_tags</th>\n",
       "      <th>source_type</th>\n",
       "      <th>source_table</th>\n",
       "      <th>Owner</th>\n",
       "    </tr>\n",
       "  </thead>\n",
       "  <tbody>\n",
       "    <tr>\n",
       "      <th>0</th>\n",
       "      <td>NHSE</td>\n",
       "      <td>379</td>\n",
       "      <td>Improving Access to Psychological Therapies (I...</td>\n",
       "      <td>04/2012</td>\n",
       "      <td>None</td>\n",
       "      <td>[digital.nhs.uk](https://digital.nhs.uk/data-a...</td>\n",
       "      <td>None</td>\n",
       "      <td>NHS England</td>\n",
       "      <td>IAPT</td>\n",
       "      <td>People treated in England for depression and a...</td>\n",
       "      <td>This dataset will shortly be renamed the NHS T...</td>\n",
       "      <td>2012-04-01 00:00:00</td>\n",
       "      <td>ongoing</td>\n",
       "      <td>26601</td>\n",
       "      <td>None</td>\n",
       "      <td>Linked</td>\n",
       "      <td>NHSE_IAPT</td>\n",
       "      <td>NHS England, Office for National Statistics an...</td>\n",
       "    </tr>\n",
       "  </tbody>\n",
       "</table>\n",
       "</div>"
      ],
      "text/plain": [
       "  source  index                                         table_name  \\\n",
       "0   NHSE    379  Improving Access to Psychological Therapies (I...   \n",
       "\n",
       "  collection_start participants_invited  \\\n",
       "0          04/2012                 None   \n",
       "\n",
       "                                               links special_conditions  \\\n",
       "0  [digital.nhs.uk](https://digital.nhs.uk/data-a...               None   \n",
       "\n",
       "   source_name table                                         short_desc  \\\n",
       "0  NHS England  IAPT  People treated in England for depression and a...   \n",
       "\n",
       "                                           long_desc      collection_time  \\\n",
       "0  This dataset will shortly be renamed the NHS T...  2012-04-01 00:00:00   \n",
       "\n",
       "  collection_end participants_included topic_tags source_type source_table  \\\n",
       "0        ongoing                 26601       None      Linked    NHSE_IAPT   \n",
       "\n",
       "                                               Owner  \n",
       "0  NHS England, Office for National Statistics an...  "
      ]
     },
     "execution_count": 89,
     "metadata": {},
     "output_type": "execute_result"
    }
   ],
   "source": [
    "# part of get_descriptor_table\n",
    "def get_nhse_ds(x):\n",
    "    ds = md.get_md_api_dss()\n",
    "    df_ds = ds[(ds[\"source\"] == \"NHSE\") & (ds[\"table\"] == x)]\n",
    "    df_ds[\"source_table\"] = df_ds[\"source\"] + \"_\" + df_ds[\"table\"]\n",
    "    ss = md.get_md_api_ss()[[\"source\", \"Owner\"]]\n",
    "    df_ds = df_ds.merge(ss, on=\"source\")\n",
    "    return df_ds\n",
    "\n",
    "get_nhse_ds(\"IAPT\")"
   ]
  },
  {
   "cell_type": "code",
   "execution_count": 12,
   "id": "47720953",
   "metadata": {},
   "outputs": [
    {
     "data": {
      "application/vnd.microsoft.datawrangler.viewer.v0+json": {
       "columns": [
        {
         "name": "index",
         "rawType": "int64",
         "type": "integer"
        },
        {
         "name": "source",
         "rawType": "object",
         "type": "string"
        },
        {
         "name": "values_table",
         "rawType": "object",
         "type": "unknown"
        },
        {
         "name": "index",
         "rawType": "int64",
         "type": "integer"
        },
        {
         "name": "description_table",
         "rawType": "object",
         "type": "string"
        },
        {
         "name": "version_date",
         "rawType": "float64",
         "type": "float"
        },
        {
         "name": "num_rows",
         "rawType": "float64",
         "type": "float"
        },
        {
         "name": "table_full",
         "rawType": "object",
         "type": "string"
        },
        {
         "name": "table",
         "rawType": "object",
         "type": "string"
        },
        {
         "name": "version_num",
         "rawType": "object",
         "type": "string"
        },
        {
         "name": "num_columns",
         "rawType": "float64",
         "type": "float"
        },
        {
         "name": "num_participants",
         "rawType": "float64",
         "type": "float"
        }
       ],
       "ref": "e4a7d0e1-45d2-4741-b383-5e7961290adc",
       "rows": [
        [
         "550",
         "nhsd",
         null,
         "550",
         "IAPT_care_activities_v0002_description",
         null,
         "508758.0",
         "IAPT_care_activities_v0002",
         "IAPT_care_activities",
         "v0002",
         "47.0",
         null
        ],
        [
         "552",
         "nhsd",
         null,
         "552",
         "IAPT_care_cluster_v0002_description",
         null,
         "45723.0",
         "IAPT_care_cluster_v0002",
         "IAPT_care_cluster",
         "v0002",
         "12.0",
         null
        ],
        [
         "554",
         "nhsd",
         null,
         "554",
         "IAPT_coded_scored_assessments_v0002_description",
         null,
         "1267393.0",
         "IAPT_coded_scored_assessments_v0002",
         "IAPT_coded_scored_assessments",
         "v0002",
         "17.0",
         null
        ],
        [
         "556",
         "nhsd",
         null,
         "556",
         "IAPT_demographics_and_referral_v0002_description",
         null,
         "58680.0",
         "IAPT_demographics_and_referral_v0002",
         "IAPT_demographics_and_referral",
         "v0002",
         "192.0",
         null
        ],
        [
         "558",
         "nhsd",
         null,
         "558",
         "IAPT_employment_status_v0002_description",
         null,
         "115830.0",
         "IAPT_employment_status_v0002",
         "IAPT_employment_status",
         "v0002",
         "21.0",
         null
        ],
        [
         "560",
         "nhsd",
         null,
         "560",
         "IAPT_internet_enabled_therapies_v0002_description",
         null,
         "18057.0",
         "IAPT_internet_enabled_therapies_v0002",
         "IAPT_internet_enabled_therapies",
         "v0002",
         "18.0",
         null
        ],
        [
         "562",
         "nhsd",
         null,
         "562",
         "IAPT_mental_and_physical_health_conditions_v0002_description",
         null,
         "79715.0",
         "IAPT_mental_and_physical_health_conditions_v0002",
         "IAPT_mental_and_physical_health_conditions",
         "v0002",
         "17.0",
         null
        ],
        [
         "564",
         "nhsd",
         null,
         "564",
         "IAPT_onward_referrals_v0002_description",
         null,
         "1193.0",
         "IAPT_onward_referrals_v0002",
         "IAPT_onward_referrals",
         "v0002",
         "13.0",
         null
        ],
        [
         "566",
         "nhsd",
         null,
         "566",
         "IAPT_waiting_time_pauses_v0002_description",
         null,
         "1889.0",
         "IAPT_waiting_time_pauses_v0002",
         "IAPT_waiting_time_pauses",
         "v0002",
         "14.0",
         null
        ]
       ],
       "shape": {
        "columns": 11,
        "rows": 9
       }
      },
      "text/html": [
       "<div>\n",
       "<style scoped>\n",
       "    .dataframe tbody tr th:only-of-type {\n",
       "        vertical-align: middle;\n",
       "    }\n",
       "\n",
       "    .dataframe tbody tr th {\n",
       "        vertical-align: top;\n",
       "    }\n",
       "\n",
       "    .dataframe thead th {\n",
       "        text-align: right;\n",
       "    }\n",
       "</style>\n",
       "<table border=\"1\" class=\"dataframe\">\n",
       "  <thead>\n",
       "    <tr style=\"text-align: right;\">\n",
       "      <th></th>\n",
       "      <th>source</th>\n",
       "      <th>values_table</th>\n",
       "      <th>index</th>\n",
       "      <th>description_table</th>\n",
       "      <th>version_date</th>\n",
       "      <th>num_rows</th>\n",
       "      <th>table_full</th>\n",
       "      <th>table</th>\n",
       "      <th>version_num</th>\n",
       "      <th>num_columns</th>\n",
       "      <th>num_participants</th>\n",
       "    </tr>\n",
       "  </thead>\n",
       "  <tbody>\n",
       "    <tr>\n",
       "      <th>550</th>\n",
       "      <td>nhsd</td>\n",
       "      <td>None</td>\n",
       "      <td>550</td>\n",
       "      <td>IAPT_care_activities_v0002_description</td>\n",
       "      <td>NaN</td>\n",
       "      <td>508758.0</td>\n",
       "      <td>IAPT_care_activities_v0002</td>\n",
       "      <td>IAPT_care_activities</td>\n",
       "      <td>v0002</td>\n",
       "      <td>47.0</td>\n",
       "      <td>NaN</td>\n",
       "    </tr>\n",
       "    <tr>\n",
       "      <th>552</th>\n",
       "      <td>nhsd</td>\n",
       "      <td>None</td>\n",
       "      <td>552</td>\n",
       "      <td>IAPT_care_cluster_v0002_description</td>\n",
       "      <td>NaN</td>\n",
       "      <td>45723.0</td>\n",
       "      <td>IAPT_care_cluster_v0002</td>\n",
       "      <td>IAPT_care_cluster</td>\n",
       "      <td>v0002</td>\n",
       "      <td>12.0</td>\n",
       "      <td>NaN</td>\n",
       "    </tr>\n",
       "    <tr>\n",
       "      <th>554</th>\n",
       "      <td>nhsd</td>\n",
       "      <td>None</td>\n",
       "      <td>554</td>\n",
       "      <td>IAPT_coded_scored_assessments_v0002_description</td>\n",
       "      <td>NaN</td>\n",
       "      <td>1267393.0</td>\n",
       "      <td>IAPT_coded_scored_assessments_v0002</td>\n",
       "      <td>IAPT_coded_scored_assessments</td>\n",
       "      <td>v0002</td>\n",
       "      <td>17.0</td>\n",
       "      <td>NaN</td>\n",
       "    </tr>\n",
       "    <tr>\n",
       "      <th>556</th>\n",
       "      <td>nhsd</td>\n",
       "      <td>None</td>\n",
       "      <td>556</td>\n",
       "      <td>IAPT_demographics_and_referral_v0002_description</td>\n",
       "      <td>NaN</td>\n",
       "      <td>58680.0</td>\n",
       "      <td>IAPT_demographics_and_referral_v0002</td>\n",
       "      <td>IAPT_demographics_and_referral</td>\n",
       "      <td>v0002</td>\n",
       "      <td>192.0</td>\n",
       "      <td>NaN</td>\n",
       "    </tr>\n",
       "    <tr>\n",
       "      <th>558</th>\n",
       "      <td>nhsd</td>\n",
       "      <td>None</td>\n",
       "      <td>558</td>\n",
       "      <td>IAPT_employment_status_v0002_description</td>\n",
       "      <td>NaN</td>\n",
       "      <td>115830.0</td>\n",
       "      <td>IAPT_employment_status_v0002</td>\n",
       "      <td>IAPT_employment_status</td>\n",
       "      <td>v0002</td>\n",
       "      <td>21.0</td>\n",
       "      <td>NaN</td>\n",
       "    </tr>\n",
       "    <tr>\n",
       "      <th>560</th>\n",
       "      <td>nhsd</td>\n",
       "      <td>None</td>\n",
       "      <td>560</td>\n",
       "      <td>IAPT_internet_enabled_therapies_v0002_description</td>\n",
       "      <td>NaN</td>\n",
       "      <td>18057.0</td>\n",
       "      <td>IAPT_internet_enabled_therapies_v0002</td>\n",
       "      <td>IAPT_internet_enabled_therapies</td>\n",
       "      <td>v0002</td>\n",
       "      <td>18.0</td>\n",
       "      <td>NaN</td>\n",
       "    </tr>\n",
       "    <tr>\n",
       "      <th>562</th>\n",
       "      <td>nhsd</td>\n",
       "      <td>None</td>\n",
       "      <td>562</td>\n",
       "      <td>IAPT_mental_and_physical_health_conditions_v00...</td>\n",
       "      <td>NaN</td>\n",
       "      <td>79715.0</td>\n",
       "      <td>IAPT_mental_and_physical_health_conditions_v0002</td>\n",
       "      <td>IAPT_mental_and_physical_health_conditions</td>\n",
       "      <td>v0002</td>\n",
       "      <td>17.0</td>\n",
       "      <td>NaN</td>\n",
       "    </tr>\n",
       "    <tr>\n",
       "      <th>564</th>\n",
       "      <td>nhsd</td>\n",
       "      <td>None</td>\n",
       "      <td>564</td>\n",
       "      <td>IAPT_onward_referrals_v0002_description</td>\n",
       "      <td>NaN</td>\n",
       "      <td>1193.0</td>\n",
       "      <td>IAPT_onward_referrals_v0002</td>\n",
       "      <td>IAPT_onward_referrals</td>\n",
       "      <td>v0002</td>\n",
       "      <td>13.0</td>\n",
       "      <td>NaN</td>\n",
       "    </tr>\n",
       "    <tr>\n",
       "      <th>566</th>\n",
       "      <td>nhsd</td>\n",
       "      <td>None</td>\n",
       "      <td>566</td>\n",
       "      <td>IAPT_waiting_time_pauses_v0002_description</td>\n",
       "      <td>NaN</td>\n",
       "      <td>1889.0</td>\n",
       "      <td>IAPT_waiting_time_pauses_v0002</td>\n",
       "      <td>IAPT_waiting_time_pauses</td>\n",
       "      <td>v0002</td>\n",
       "      <td>14.0</td>\n",
       "      <td>NaN</td>\n",
       "    </tr>\n",
       "  </tbody>\n",
       "</table>\n",
       "</div>"
      ],
      "text/plain": [
       "    source values_table  index  \\\n",
       "550   nhsd         None    550   \n",
       "552   nhsd         None    552   \n",
       "554   nhsd         None    554   \n",
       "556   nhsd         None    556   \n",
       "558   nhsd         None    558   \n",
       "560   nhsd         None    560   \n",
       "562   nhsd         None    562   \n",
       "564   nhsd         None    564   \n",
       "566   nhsd         None    566   \n",
       "\n",
       "                                     description_table  version_date  \\\n",
       "550             IAPT_care_activities_v0002_description           NaN   \n",
       "552                IAPT_care_cluster_v0002_description           NaN   \n",
       "554    IAPT_coded_scored_assessments_v0002_description           NaN   \n",
       "556   IAPT_demographics_and_referral_v0002_description           NaN   \n",
       "558           IAPT_employment_status_v0002_description           NaN   \n",
       "560  IAPT_internet_enabled_therapies_v0002_description           NaN   \n",
       "562  IAPT_mental_and_physical_health_conditions_v00...           NaN   \n",
       "564            IAPT_onward_referrals_v0002_description           NaN   \n",
       "566         IAPT_waiting_time_pauses_v0002_description           NaN   \n",
       "\n",
       "      num_rows                                        table_full  \\\n",
       "550   508758.0                        IAPT_care_activities_v0002   \n",
       "552    45723.0                           IAPT_care_cluster_v0002   \n",
       "554  1267393.0               IAPT_coded_scored_assessments_v0002   \n",
       "556    58680.0              IAPT_demographics_and_referral_v0002   \n",
       "558   115830.0                      IAPT_employment_status_v0002   \n",
       "560    18057.0             IAPT_internet_enabled_therapies_v0002   \n",
       "562    79715.0  IAPT_mental_and_physical_health_conditions_v0002   \n",
       "564     1193.0                       IAPT_onward_referrals_v0002   \n",
       "566     1889.0                    IAPT_waiting_time_pauses_v0002   \n",
       "\n",
       "                                          table version_num  num_columns  \\\n",
       "550                        IAPT_care_activities       v0002         47.0   \n",
       "552                           IAPT_care_cluster       v0002         12.0   \n",
       "554               IAPT_coded_scored_assessments       v0002         17.0   \n",
       "556              IAPT_demographics_and_referral       v0002        192.0   \n",
       "558                      IAPT_employment_status       v0002         21.0   \n",
       "560             IAPT_internet_enabled_therapies       v0002         18.0   \n",
       "562  IAPT_mental_and_physical_health_conditions       v0002         17.0   \n",
       "564                       IAPT_onward_referrals       v0002         13.0   \n",
       "566                    IAPT_waiting_time_pauses       v0002         14.0   \n",
       "\n",
       "     num_participants  \n",
       "550               NaN  \n",
       "552               NaN  \n",
       "554               NaN  \n",
       "556               NaN  \n",
       "558               NaN  \n",
       "560               NaN  \n",
       "562               NaN  \n",
       "564               NaN  \n",
       "566               NaN  "
      ]
     },
     "execution_count": 12,
     "metadata": {},
     "output_type": "execute_result"
    }
   ],
   "source": [
    "df = md.get_md_api_dsvs()\n",
    "df = df[(df[\"source\"] == \"nhsd\") & (df[\"table\"].str.startswith(\"IAPT\"))].drop_duplicates(subset=\"table\")\n",
    "df"
   ]
  },
  {
   "cell_type": "code",
   "execution_count": 61,
   "id": "87439a9b",
   "metadata": {},
   "outputs": [
    {
     "name": "stdout",
     "output_type": "stream",
     "text": [
      "IAPT_internet_enabled_therapies\n"
     ]
    },
    {
     "data": {
      "application/vnd.microsoft.datawrangler.viewer.v0+json": {
       "columns": [
        {
         "name": "index",
         "rawType": "int64",
         "type": "integer"
        },
        {
         "name": "cohort",
         "rawType": "object",
         "type": "string"
        },
        {
         "name": "count",
         "rawType": "object",
         "type": "unknown"
        }
       ],
       "ref": "f238c107-50e7-4bcc-b5ea-c52e6c0de392",
       "rows": [
        [
         "0",
         "ALSPAC",
         "85"
        ],
        [
         "1",
         "BCS70",
         "18"
        ],
        [
         "2",
         "BIB",
         "36"
        ],
        [
         "3",
         "ELSA",
         "<10"
        ],
        [
         "4",
         "EPICN",
         "0"
        ],
        [
         "5",
         "EXCEED",
         "24"
        ],
        [
         "6",
         "FENLAND",
         "<10"
        ],
        [
         "8",
         "GLAD",
         "1528"
        ],
        [
         "9",
         "MCS",
         "120"
        ],
        [
         "10",
         "NCDS58",
         "<10"
        ],
        [
         "11",
         "NEXTSTEP",
         "56"
        ],
        [
         "13",
         "NIHRBIO_COPING",
         "72"
        ],
        [
         "14",
         "NSHD46",
         "<10"
        ],
        [
         "16",
         "TEDS",
         "94"
        ],
        [
         "17",
         "TRACKC19",
         "83"
        ],
        [
         "18",
         "TWINSUK",
         "41"
        ],
        [
         "19",
         "TOTAL",
         "2187"
        ]
       ],
       "shape": {
        "columns": 2,
        "rows": 17
       }
      },
      "text/html": [
       "<div>\n",
       "<style scoped>\n",
       "    .dataframe tbody tr th:only-of-type {\n",
       "        vertical-align: middle;\n",
       "    }\n",
       "\n",
       "    .dataframe tbody tr th {\n",
       "        vertical-align: top;\n",
       "    }\n",
       "\n",
       "    .dataframe thead th {\n",
       "        text-align: right;\n",
       "    }\n",
       "</style>\n",
       "<table border=\"1\" class=\"dataframe\">\n",
       "  <thead>\n",
       "    <tr style=\"text-align: right;\">\n",
       "      <th></th>\n",
       "      <th>cohort</th>\n",
       "      <th>count</th>\n",
       "    </tr>\n",
       "  </thead>\n",
       "  <tbody>\n",
       "    <tr>\n",
       "      <th>0</th>\n",
       "      <td>ALSPAC</td>\n",
       "      <td>85</td>\n",
       "    </tr>\n",
       "    <tr>\n",
       "      <th>1</th>\n",
       "      <td>BCS70</td>\n",
       "      <td>18</td>\n",
       "    </tr>\n",
       "    <tr>\n",
       "      <th>2</th>\n",
       "      <td>BIB</td>\n",
       "      <td>36</td>\n",
       "    </tr>\n",
       "    <tr>\n",
       "      <th>3</th>\n",
       "      <td>ELSA</td>\n",
       "      <td>&lt;10</td>\n",
       "    </tr>\n",
       "    <tr>\n",
       "      <th>4</th>\n",
       "      <td>EPICN</td>\n",
       "      <td>0</td>\n",
       "    </tr>\n",
       "    <tr>\n",
       "      <th>5</th>\n",
       "      <td>EXCEED</td>\n",
       "      <td>24</td>\n",
       "    </tr>\n",
       "    <tr>\n",
       "      <th>6</th>\n",
       "      <td>FENLAND</td>\n",
       "      <td>&lt;10</td>\n",
       "    </tr>\n",
       "    <tr>\n",
       "      <th>8</th>\n",
       "      <td>GLAD</td>\n",
       "      <td>1528</td>\n",
       "    </tr>\n",
       "    <tr>\n",
       "      <th>9</th>\n",
       "      <td>MCS</td>\n",
       "      <td>120</td>\n",
       "    </tr>\n",
       "    <tr>\n",
       "      <th>10</th>\n",
       "      <td>NCDS58</td>\n",
       "      <td>&lt;10</td>\n",
       "    </tr>\n",
       "    <tr>\n",
       "      <th>11</th>\n",
       "      <td>NEXTSTEP</td>\n",
       "      <td>56</td>\n",
       "    </tr>\n",
       "    <tr>\n",
       "      <th>13</th>\n",
       "      <td>NIHRBIO_COPING</td>\n",
       "      <td>72</td>\n",
       "    </tr>\n",
       "    <tr>\n",
       "      <th>14</th>\n",
       "      <td>NSHD46</td>\n",
       "      <td>&lt;10</td>\n",
       "    </tr>\n",
       "    <tr>\n",
       "      <th>16</th>\n",
       "      <td>TEDS</td>\n",
       "      <td>94</td>\n",
       "    </tr>\n",
       "    <tr>\n",
       "      <th>17</th>\n",
       "      <td>TRACKC19</td>\n",
       "      <td>83</td>\n",
       "    </tr>\n",
       "    <tr>\n",
       "      <th>18</th>\n",
       "      <td>TWINSUK</td>\n",
       "      <td>41</td>\n",
       "    </tr>\n",
       "    <tr>\n",
       "      <th>19</th>\n",
       "      <td>TOTAL</td>\n",
       "      <td>2187</td>\n",
       "    </tr>\n",
       "  </tbody>\n",
       "</table>\n",
       "</div>"
      ],
      "text/plain": [
       "            cohort count\n",
       "0           ALSPAC    85\n",
       "1            BCS70    18\n",
       "2              BIB    36\n",
       "3             ELSA   <10\n",
       "4            EPICN     0\n",
       "5           EXCEED    24\n",
       "6          FENLAND   <10\n",
       "8             GLAD  1528\n",
       "9              MCS   120\n",
       "10          NCDS58   <10\n",
       "11        NEXTSTEP    56\n",
       "13  NIHRBIO_COPING    72\n",
       "14          NSHD46   <10\n",
       "16            TEDS    94\n",
       "17        TRACKC19    83\n",
       "18         TWINSUK    41\n",
       "19           TOTAL  2187"
      ]
     },
     "execution_count": 61,
     "metadata": {},
     "output_type": "execute_result"
    }
   ],
   "source": [
    "url = \"https://metadata-api-4a09f2833a54.herokuapp.com/nhs-dataset-counts/?table={}\".format(df.iloc[5][\"table\"])\n",
    "r = requests.get(url, headers={'access_token': API_KEY})\n",
    "data = r.text\n",
    "pj = json.loads(data)\n",
    "dfcc = pd.json_normalize(pj)[[\"cohort\", \"count\"]]\n",
    "dfcc = dfcc[~dfcc['cohort'].isin(['GENSCOT', 'NICOLA', 'SABRE'])]\n",
    "dfcc[\"count2\"] = dfcc[\"count\"].replace(\"<10\", \"0\").astype(int)\n",
    "dfcc.loc[dfcc.index[-1]] = [\"TOTAL\", int(dfcc['count2'].sum()), int(dfcc['count2'].sum())]\n",
    "dfcc = dfcc.drop(columns=\"count2\")\n",
    "print(df.iloc[5][\"table\"])\n",
    "dfcc"
   ]
  },
  {
   "cell_type": "code",
   "execution_count": 57,
   "id": "8e72ff26",
   "metadata": {},
   "outputs": [
    {
     "data": {
      "application/javascript": "'use strict';\n(function(root) {\n  function now() {\n    return new Date();\n  }\n\n  const force = true;\n\n  if (typeof root._bokeh_onload_callbacks === \"undefined\" || force === true) {\n    root._bokeh_onload_callbacks = [];\n    root._bokeh_is_loading = undefined;\n  }\n\nconst JS_MIME_TYPE = 'application/javascript';\n  const HTML_MIME_TYPE = 'text/html';\n  const EXEC_MIME_TYPE = 'application/vnd.bokehjs_exec.v0+json';\n  const CLASS_NAME = 'output_bokeh rendered_html';\n\n  /**\n   * Render data to the DOM node\n   */\n  function render(props, node) {\n    const script = document.createElement(\"script\");\n    node.appendChild(script);\n  }\n\n  /**\n   * Handle when an output is cleared or removed\n   */\n  function handleClearOutput(event, handle) {\n    function drop(id) {\n      const view = Bokeh.index.get_by_id(id)\n      if (view != null) {\n        view.model.document.clear()\n        Bokeh.index.delete(view)\n      }\n    }\n\n    const cell = handle.cell;\n\n    const id = cell.output_area._bokeh_element_id;\n    const server_id = cell.output_area._bokeh_server_id;\n\n    // Clean up Bokeh references\n    if (id != null) {\n      drop(id)\n    }\n\n    if (server_id !== undefined) {\n      // Clean up Bokeh references\n      const cmd_clean = \"from bokeh.io.state import curstate; print(curstate().uuid_to_server['\" + server_id + \"'].get_sessions()[0].document.roots[0]._id)\";\n      cell.notebook.kernel.execute(cmd_clean, {\n        iopub: {\n          output: function(msg) {\n            const id = msg.content.text.trim()\n            drop(id)\n          }\n        }\n      });\n      // Destroy server and session\n      const cmd_destroy = \"import bokeh.io.notebook as ion; ion.destroy_server('\" + server_id + \"')\";\n      cell.notebook.kernel.execute(cmd_destroy);\n    }\n  }\n\n  /**\n   * Handle when a new output is added\n   */\n  function handleAddOutput(event, handle) {\n    const output_area = handle.output_area;\n    const output = handle.output;\n\n    // limit handleAddOutput to display_data with EXEC_MIME_TYPE content only\n    if ((output.output_type != \"display_data\") || (!Object.prototype.hasOwnProperty.call(output.data, EXEC_MIME_TYPE))) {\n      return\n    }\n\n    const toinsert = output_area.element.find(\".\" + CLASS_NAME.split(' ')[0]);\n\n    if (output.metadata[EXEC_MIME_TYPE][\"id\"] !== undefined) {\n      toinsert[toinsert.length - 1].firstChild.textContent = output.data[JS_MIME_TYPE];\n      // store reference to embed id on output_area\n      output_area._bokeh_element_id = output.metadata[EXEC_MIME_TYPE][\"id\"];\n    }\n    if (output.metadata[EXEC_MIME_TYPE][\"server_id\"] !== undefined) {\n      const bk_div = document.createElement(\"div\");\n      bk_div.innerHTML = output.data[HTML_MIME_TYPE];\n      const script_attrs = bk_div.children[0].attributes;\n      for (let i = 0; i < script_attrs.length; i++) {\n        toinsert[toinsert.length - 1].firstChild.setAttribute(script_attrs[i].name, script_attrs[i].value);\n        toinsert[toinsert.length - 1].firstChild.textContent = bk_div.children[0].textContent\n      }\n      // store reference to server id on output_area\n      output_area._bokeh_server_id = output.metadata[EXEC_MIME_TYPE][\"server_id\"];\n    }\n  }\n\n  function register_renderer(events, OutputArea) {\n\n    function append_mime(data, metadata, element) {\n      // create a DOM node to render to\n      const toinsert = this.create_output_subarea(\n        metadata,\n        CLASS_NAME,\n        EXEC_MIME_TYPE\n      );\n      this.keyboard_manager.register_events(toinsert);\n      // Render to node\n      const props = {data: data, metadata: metadata[EXEC_MIME_TYPE]};\n      render(props, toinsert[toinsert.length - 1]);\n      element.append(toinsert);\n      return toinsert\n    }\n\n    /* Handle when an output is cleared or removed */\n    events.on('clear_output.CodeCell', handleClearOutput);\n    events.on('delete.Cell', handleClearOutput);\n\n    /* Handle when a new output is added */\n    events.on('output_added.OutputArea', handleAddOutput);\n\n    /**\n     * Register the mime type and append_mime function with output_area\n     */\n    OutputArea.prototype.register_mime_type(EXEC_MIME_TYPE, append_mime, {\n      /* Is output safe? */\n      safe: true,\n      /* Index of renderer in `output_area.display_order` */\n      index: 0\n    });\n  }\n\n  // register the mime type if in Jupyter Notebook environment and previously unregistered\n  if (root.Jupyter !== undefined) {\n    const events = require('base/js/events');\n    const OutputArea = require('notebook/js/outputarea').OutputArea;\n\n    if (OutputArea.prototype.mime_types().indexOf(EXEC_MIME_TYPE) == -1) {\n      register_renderer(events, OutputArea);\n    }\n  }\n  if (typeof (root._bokeh_timeout) === \"undefined\" || force === true) {\n    root._bokeh_timeout = Date.now() + 5000;\n    root._bokeh_failed_load = false;\n  }\n\n  const NB_LOAD_WARNING = {'data': {'text/html':\n     \"<div style='background-color: #fdd'>\\n\"+\n     \"<p>\\n\"+\n     \"BokehJS does not appear to have successfully loaded. If loading BokehJS from CDN, this \\n\"+\n     \"may be due to a slow or bad network connection. Possible fixes:\\n\"+\n     \"</p>\\n\"+\n     \"<ul>\\n\"+\n     \"<li>re-rerun `output_notebook()` to attempt to load from CDN again, or</li>\\n\"+\n     \"<li>use INLINE resources instead, as so:</li>\\n\"+\n     \"</ul>\\n\"+\n     \"<code>\\n\"+\n     \"from bokeh.resources import INLINE\\n\"+\n     \"output_notebook(resources=INLINE)\\n\"+\n     \"</code>\\n\"+\n     \"</div>\"}};\n\n  function display_loaded(error = null) {\n    const el = document.getElementById(null);\n    if (el != null) {\n      const html = (() => {\n        if (typeof root.Bokeh === \"undefined\") {\n          if (error == null) {\n            return \"BokehJS is loading ...\";\n          } else {\n            return \"BokehJS failed to load.\";\n          }\n        } else {\n          const prefix = `BokehJS ${root.Bokeh.version}`;\n          if (error == null) {\n            return `${prefix} successfully loaded.`;\n          } else {\n            return `${prefix} <b>encountered errors</b> while loading and may not function as expected.`;\n          }\n        }\n      })();\n      el.innerHTML = html;\n\n      if (error != null) {\n        const wrapper = document.createElement(\"div\");\n        wrapper.style.overflow = \"auto\";\n        wrapper.style.height = \"5em\";\n        wrapper.style.resize = \"vertical\";\n        const content = document.createElement(\"div\");\n        content.style.fontFamily = \"monospace\";\n        content.style.whiteSpace = \"pre-wrap\";\n        content.style.backgroundColor = \"rgb(255, 221, 221)\";\n        content.textContent = error.stack ?? error.toString();\n        wrapper.append(content);\n        el.append(wrapper);\n      }\n    } else if (Date.now() < root._bokeh_timeout) {\n      setTimeout(() => display_loaded(error), 100);\n    }\n  }\n\n  function run_callbacks() {\n    try {\n      root._bokeh_onload_callbacks.forEach(function(callback) {\n        if (callback != null)\n          callback();\n      });\n    } finally {\n      delete root._bokeh_onload_callbacks\n    }\n    console.debug(\"Bokeh: all callbacks have finished\");\n  }\n\n  function load_libs(css_urls, js_urls, callback) {\n    if (css_urls == null) css_urls = [];\n    if (js_urls == null) js_urls = [];\n\n    root._bokeh_onload_callbacks.push(callback);\n    if (root._bokeh_is_loading > 0) {\n      console.debug(\"Bokeh: BokehJS is being loaded, scheduling callback at\", now());\n      return null;\n    }\n    if (js_urls == null || js_urls.length === 0) {\n      run_callbacks();\n      return null;\n    }\n    console.debug(\"Bokeh: BokehJS not loaded, scheduling load and callback at\", now());\n    root._bokeh_is_loading = css_urls.length + js_urls.length;\n\n    function on_load() {\n      root._bokeh_is_loading--;\n      if (root._bokeh_is_loading === 0) {\n        console.debug(\"Bokeh: all BokehJS libraries/stylesheets loaded\");\n        run_callbacks()\n      }\n    }\n\n    function on_error(url) {\n      console.error(\"failed to load \" + url);\n    }\n\n    for (let i = 0; i < css_urls.length; i++) {\n      const url = css_urls[i];\n      const element = document.createElement(\"link\");\n      element.onload = on_load;\n      element.onerror = on_error.bind(null, url);\n      element.rel = \"stylesheet\";\n      element.type = \"text/css\";\n      element.href = url;\n      console.debug(\"Bokeh: injecting link tag for BokehJS stylesheet: \", url);\n      document.body.appendChild(element);\n    }\n\n    for (let i = 0; i < js_urls.length; i++) {\n      const url = js_urls[i];\n      const element = document.createElement('script');\n      element.onload = on_load;\n      element.onerror = on_error.bind(null, url);\n      element.async = false;\n      element.src = url;\n      console.debug(\"Bokeh: injecting script tag for BokehJS library: \", url);\n      document.head.appendChild(element);\n    }\n  };\n\n  function inject_raw_css(css) {\n    const element = document.createElement(\"style\");\n    element.appendChild(document.createTextNode(css));\n    document.body.appendChild(element);\n  }\n\n  const js_urls = [\"https://cdn.bokeh.org/bokeh/release/bokeh-3.7.2.min.js\", \"https://cdn.bokeh.org/bokeh/release/bokeh-gl-3.7.2.min.js\", \"https://cdn.bokeh.org/bokeh/release/bokeh-widgets-3.7.2.min.js\", \"https://cdn.bokeh.org/bokeh/release/bokeh-tables-3.7.2.min.js\", \"https://cdn.bokeh.org/bokeh/release/bokeh-mathjax-3.7.2.min.js\"];\n  const css_urls = [];\n\n  const inline_js = [    function(Bokeh) {\n      Bokeh.set_log_level(\"info\");\n    },\nfunction(Bokeh) {\n    }\n  ];\n\n  function run_inline_js() {\n    if (root.Bokeh !== undefined || force === true) {\n      try {\n            for (let i = 0; i < inline_js.length; i++) {\n      inline_js[i].call(root, root.Bokeh);\n    }\n\n      } catch (error) {throw error;\n      }} else if (Date.now() < root._bokeh_timeout) {\n      setTimeout(run_inline_js, 100);\n    } else if (!root._bokeh_failed_load) {\n      console.log(\"Bokeh: BokehJS failed to load within specified timeout.\");\n      root._bokeh_failed_load = true;\n    } else if (force !== true) {\n      const cell = $(document.getElementById(null)).parents('.cell').data().cell;\n      cell.output_area.append_execute_result(NB_LOAD_WARNING)\n    }\n  }\n\n  if (root._bokeh_is_loading === 0) {\n    console.debug(\"Bokeh: BokehJS loaded, going straight to plotting\");\n    run_inline_js();\n  } else {\n    load_libs(css_urls, js_urls, function() {\n      console.debug(\"Bokeh: BokehJS plotting callback run at\", now());\n      run_inline_js();\n    });\n  }\n}(window));",
      "application/vnd.bokehjs_load.v0+json": ""
     },
     "metadata": {},
     "output_type": "display_data"
    }
   ],
   "source": [
    "from bokeh.layouts import column\n",
    "from bokeh.models import ColumnDataSource, CustomJS, Slider, Select\n",
    "from bokeh.plotting import figure, show\n",
    "from bokeh.io import output_notebook\n",
    "output_notebook(hide_banner=True)\n"
   ]
  },
  {
   "cell_type": "code",
   "execution_count": 83,
   "id": "9955ee30",
   "metadata": {},
   "outputs": [],
   "source": [
    "tbl_names = []\n",
    "metrics_tables = []\n",
    "for i in range(0, len(df)-1):\n",
    "    url = \"https://metadata-api-4a09f2833a54.herokuapp.com/nhs-dataset-counts/?table={}\".format(df.iloc[i][\"table\"])\n",
    "    r = requests.get(url, headers={'access_token': API_KEY})\n",
    "    data = r.text\n",
    "    pj = json.loads(data)\n",
    "    dfcc = pd.json_normalize(pj)[[\"cohort\", \"count\"]]\n",
    "    dfcc = dfcc[~dfcc['cohort'].isin(['GENSCOT', 'NICOLA', 'SABRE'])]\n",
    "    tbl_names += len(dfcc) * [df.iloc[i][\"table\"]]\n",
    "    #tbl_names.append(df.iloc[i][\"table\"] * len(dfcc))\n",
    "    dfcc[\"count\"] = dfcc[\"count\"].replace(\"<10\", \"0\").astype(int)\n",
    "    metrics_tables.append(dfcc)"
   ]
  },
  {
   "cell_type": "code",
   "execution_count": 84,
   "id": "67e92827",
   "metadata": {},
   "outputs": [
    {
     "data": {
      "text/plain": [
       "['IAPT_care_activities',\n",
       " 'IAPT_care_activities',\n",
       " 'IAPT_care_activities',\n",
       " 'IAPT_care_activities',\n",
       " 'IAPT_care_activities',\n",
       " 'IAPT_care_activities',\n",
       " 'IAPT_care_activities',\n",
       " 'IAPT_care_activities',\n",
       " 'IAPT_care_activities',\n",
       " 'IAPT_care_activities',\n",
       " 'IAPT_care_activities',\n",
       " 'IAPT_care_activities',\n",
       " 'IAPT_care_activities',\n",
       " 'IAPT_care_activities',\n",
       " 'IAPT_care_activities',\n",
       " 'IAPT_care_activities',\n",
       " 'IAPT_care_activities',\n",
       " 'IAPT_care_cluster',\n",
       " 'IAPT_care_cluster',\n",
       " 'IAPT_care_cluster',\n",
       " 'IAPT_care_cluster',\n",
       " 'IAPT_care_cluster',\n",
       " 'IAPT_care_cluster',\n",
       " 'IAPT_care_cluster',\n",
       " 'IAPT_care_cluster',\n",
       " 'IAPT_care_cluster',\n",
       " 'IAPT_care_cluster',\n",
       " 'IAPT_care_cluster',\n",
       " 'IAPT_care_cluster',\n",
       " 'IAPT_care_cluster',\n",
       " 'IAPT_care_cluster',\n",
       " 'IAPT_care_cluster',\n",
       " 'IAPT_care_cluster',\n",
       " 'IAPT_care_cluster',\n",
       " 'IAPT_coded_scored_assessments',\n",
       " 'IAPT_coded_scored_assessments',\n",
       " 'IAPT_coded_scored_assessments',\n",
       " 'IAPT_coded_scored_assessments',\n",
       " 'IAPT_coded_scored_assessments',\n",
       " 'IAPT_coded_scored_assessments',\n",
       " 'IAPT_coded_scored_assessments',\n",
       " 'IAPT_coded_scored_assessments',\n",
       " 'IAPT_coded_scored_assessments',\n",
       " 'IAPT_coded_scored_assessments',\n",
       " 'IAPT_coded_scored_assessments',\n",
       " 'IAPT_coded_scored_assessments',\n",
       " 'IAPT_coded_scored_assessments',\n",
       " 'IAPT_coded_scored_assessments',\n",
       " 'IAPT_coded_scored_assessments',\n",
       " 'IAPT_coded_scored_assessments',\n",
       " 'IAPT_coded_scored_assessments',\n",
       " 'IAPT_demographics_and_referral',\n",
       " 'IAPT_demographics_and_referral',\n",
       " 'IAPT_demographics_and_referral',\n",
       " 'IAPT_demographics_and_referral',\n",
       " 'IAPT_demographics_and_referral',\n",
       " 'IAPT_demographics_and_referral',\n",
       " 'IAPT_demographics_and_referral',\n",
       " 'IAPT_demographics_and_referral',\n",
       " 'IAPT_demographics_and_referral',\n",
       " 'IAPT_demographics_and_referral',\n",
       " 'IAPT_demographics_and_referral',\n",
       " 'IAPT_demographics_and_referral',\n",
       " 'IAPT_demographics_and_referral',\n",
       " 'IAPT_demographics_and_referral',\n",
       " 'IAPT_demographics_and_referral',\n",
       " 'IAPT_demographics_and_referral',\n",
       " 'IAPT_demographics_and_referral',\n",
       " 'IAPT_employment_status',\n",
       " 'IAPT_employment_status',\n",
       " 'IAPT_employment_status',\n",
       " 'IAPT_employment_status',\n",
       " 'IAPT_employment_status',\n",
       " 'IAPT_employment_status',\n",
       " 'IAPT_employment_status',\n",
       " 'IAPT_employment_status',\n",
       " 'IAPT_employment_status',\n",
       " 'IAPT_employment_status',\n",
       " 'IAPT_employment_status',\n",
       " 'IAPT_employment_status',\n",
       " 'IAPT_employment_status',\n",
       " 'IAPT_employment_status',\n",
       " 'IAPT_employment_status',\n",
       " 'IAPT_employment_status',\n",
       " 'IAPT_employment_status',\n",
       " 'IAPT_internet_enabled_therapies',\n",
       " 'IAPT_internet_enabled_therapies',\n",
       " 'IAPT_internet_enabled_therapies',\n",
       " 'IAPT_internet_enabled_therapies',\n",
       " 'IAPT_internet_enabled_therapies',\n",
       " 'IAPT_internet_enabled_therapies',\n",
       " 'IAPT_internet_enabled_therapies',\n",
       " 'IAPT_internet_enabled_therapies',\n",
       " 'IAPT_internet_enabled_therapies',\n",
       " 'IAPT_internet_enabled_therapies',\n",
       " 'IAPT_internet_enabled_therapies',\n",
       " 'IAPT_internet_enabled_therapies',\n",
       " 'IAPT_internet_enabled_therapies',\n",
       " 'IAPT_internet_enabled_therapies',\n",
       " 'IAPT_internet_enabled_therapies',\n",
       " 'IAPT_internet_enabled_therapies',\n",
       " 'IAPT_internet_enabled_therapies',\n",
       " 'IAPT_mental_and_physical_health_conditions',\n",
       " 'IAPT_mental_and_physical_health_conditions',\n",
       " 'IAPT_mental_and_physical_health_conditions',\n",
       " 'IAPT_mental_and_physical_health_conditions',\n",
       " 'IAPT_mental_and_physical_health_conditions',\n",
       " 'IAPT_mental_and_physical_health_conditions',\n",
       " 'IAPT_mental_and_physical_health_conditions',\n",
       " 'IAPT_mental_and_physical_health_conditions',\n",
       " 'IAPT_mental_and_physical_health_conditions',\n",
       " 'IAPT_mental_and_physical_health_conditions',\n",
       " 'IAPT_mental_and_physical_health_conditions',\n",
       " 'IAPT_mental_and_physical_health_conditions',\n",
       " 'IAPT_mental_and_physical_health_conditions',\n",
       " 'IAPT_mental_and_physical_health_conditions',\n",
       " 'IAPT_mental_and_physical_health_conditions',\n",
       " 'IAPT_mental_and_physical_health_conditions',\n",
       " 'IAPT_mental_and_physical_health_conditions',\n",
       " 'IAPT_onward_referrals',\n",
       " 'IAPT_onward_referrals',\n",
       " 'IAPT_onward_referrals',\n",
       " 'IAPT_onward_referrals',\n",
       " 'IAPT_onward_referrals',\n",
       " 'IAPT_onward_referrals',\n",
       " 'IAPT_onward_referrals',\n",
       " 'IAPT_onward_referrals',\n",
       " 'IAPT_onward_referrals',\n",
       " 'IAPT_onward_referrals',\n",
       " 'IAPT_onward_referrals',\n",
       " 'IAPT_onward_referrals',\n",
       " 'IAPT_onward_referrals',\n",
       " 'IAPT_onward_referrals',\n",
       " 'IAPT_onward_referrals',\n",
       " 'IAPT_onward_referrals',\n",
       " 'IAPT_onward_referrals']"
      ]
     },
     "execution_count": 84,
     "metadata": {},
     "output_type": "execute_result"
    }
   ],
   "source": [
    "tbl_names"
   ]
  },
  {
   "cell_type": "code",
   "execution_count": 12,
   "id": "511a48df",
   "metadata": {},
   "outputs": [
    {
     "data": {
      "application/javascript": "'use strict';\n(function(root) {\n  function now() {\n    return new Date();\n  }\n\n  const force = true;\n\n  if (typeof root._bokeh_onload_callbacks === \"undefined\" || force === true) {\n    root._bokeh_onload_callbacks = [];\n    root._bokeh_is_loading = undefined;\n  }\n\nconst JS_MIME_TYPE = 'application/javascript';\n  const HTML_MIME_TYPE = 'text/html';\n  const EXEC_MIME_TYPE = 'application/vnd.bokehjs_exec.v0+json';\n  const CLASS_NAME = 'output_bokeh rendered_html';\n\n  /**\n   * Render data to the DOM node\n   */\n  function render(props, node) {\n    const script = document.createElement(\"script\");\n    node.appendChild(script);\n  }\n\n  /**\n   * Handle when an output is cleared or removed\n   */\n  function handleClearOutput(event, handle) {\n    function drop(id) {\n      const view = Bokeh.index.get_by_id(id)\n      if (view != null) {\n        view.model.document.clear()\n        Bokeh.index.delete(view)\n      }\n    }\n\n    const cell = handle.cell;\n\n    const id = cell.output_area._bokeh_element_id;\n    const server_id = cell.output_area._bokeh_server_id;\n\n    // Clean up Bokeh references\n    if (id != null) {\n      drop(id)\n    }\n\n    if (server_id !== undefined) {\n      // Clean up Bokeh references\n      const cmd_clean = \"from bokeh.io.state import curstate; print(curstate().uuid_to_server['\" + server_id + \"'].get_sessions()[0].document.roots[0]._id)\";\n      cell.notebook.kernel.execute(cmd_clean, {\n        iopub: {\n          output: function(msg) {\n            const id = msg.content.text.trim()\n            drop(id)\n          }\n        }\n      });\n      // Destroy server and session\n      const cmd_destroy = \"import bokeh.io.notebook as ion; ion.destroy_server('\" + server_id + \"')\";\n      cell.notebook.kernel.execute(cmd_destroy);\n    }\n  }\n\n  /**\n   * Handle when a new output is added\n   */\n  function handleAddOutput(event, handle) {\n    const output_area = handle.output_area;\n    const output = handle.output;\n\n    // limit handleAddOutput to display_data with EXEC_MIME_TYPE content only\n    if ((output.output_type != \"display_data\") || (!Object.prototype.hasOwnProperty.call(output.data, EXEC_MIME_TYPE))) {\n      return\n    }\n\n    const toinsert = output_area.element.find(\".\" + CLASS_NAME.split(' ')[0]);\n\n    if (output.metadata[EXEC_MIME_TYPE][\"id\"] !== undefined) {\n      toinsert[toinsert.length - 1].firstChild.textContent = output.data[JS_MIME_TYPE];\n      // store reference to embed id on output_area\n      output_area._bokeh_element_id = output.metadata[EXEC_MIME_TYPE][\"id\"];\n    }\n    if (output.metadata[EXEC_MIME_TYPE][\"server_id\"] !== undefined) {\n      const bk_div = document.createElement(\"div\");\n      bk_div.innerHTML = output.data[HTML_MIME_TYPE];\n      const script_attrs = bk_div.children[0].attributes;\n      for (let i = 0; i < script_attrs.length; i++) {\n        toinsert[toinsert.length - 1].firstChild.setAttribute(script_attrs[i].name, script_attrs[i].value);\n        toinsert[toinsert.length - 1].firstChild.textContent = bk_div.children[0].textContent\n      }\n      // store reference to server id on output_area\n      output_area._bokeh_server_id = output.metadata[EXEC_MIME_TYPE][\"server_id\"];\n    }\n  }\n\n  function register_renderer(events, OutputArea) {\n\n    function append_mime(data, metadata, element) {\n      // create a DOM node to render to\n      const toinsert = this.create_output_subarea(\n        metadata,\n        CLASS_NAME,\n        EXEC_MIME_TYPE\n      );\n      this.keyboard_manager.register_events(toinsert);\n      // Render to node\n      const props = {data: data, metadata: metadata[EXEC_MIME_TYPE]};\n      render(props, toinsert[toinsert.length - 1]);\n      element.append(toinsert);\n      return toinsert\n    }\n\n    /* Handle when an output is cleared or removed */\n    events.on('clear_output.CodeCell', handleClearOutput);\n    events.on('delete.Cell', handleClearOutput);\n\n    /* Handle when a new output is added */\n    events.on('output_added.OutputArea', handleAddOutput);\n\n    /**\n     * Register the mime type and append_mime function with output_area\n     */\n    OutputArea.prototype.register_mime_type(EXEC_MIME_TYPE, append_mime, {\n      /* Is output safe? */\n      safe: true,\n      /* Index of renderer in `output_area.display_order` */\n      index: 0\n    });\n  }\n\n  // register the mime type if in Jupyter Notebook environment and previously unregistered\n  if (root.Jupyter !== undefined) {\n    const events = require('base/js/events');\n    const OutputArea = require('notebook/js/outputarea').OutputArea;\n\n    if (OutputArea.prototype.mime_types().indexOf(EXEC_MIME_TYPE) == -1) {\n      register_renderer(events, OutputArea);\n    }\n  }\n  if (typeof (root._bokeh_timeout) === \"undefined\" || force === true) {\n    root._bokeh_timeout = Date.now() + 5000;\n    root._bokeh_failed_load = false;\n  }\n\n  const NB_LOAD_WARNING = {'data': {'text/html':\n     \"<div style='background-color: #fdd'>\\n\"+\n     \"<p>\\n\"+\n     \"BokehJS does not appear to have successfully loaded. If loading BokehJS from CDN, this \\n\"+\n     \"may be due to a slow or bad network connection. Possible fixes:\\n\"+\n     \"</p>\\n\"+\n     \"<ul>\\n\"+\n     \"<li>re-rerun `output_notebook()` to attempt to load from CDN again, or</li>\\n\"+\n     \"<li>use INLINE resources instead, as so:</li>\\n\"+\n     \"</ul>\\n\"+\n     \"<code>\\n\"+\n     \"from bokeh.resources import INLINE\\n\"+\n     \"output_notebook(resources=INLINE)\\n\"+\n     \"</code>\\n\"+\n     \"</div>\"}};\n\n  function display_loaded(error = null) {\n    const el = document.getElementById(null);\n    if (el != null) {\n      const html = (() => {\n        if (typeof root.Bokeh === \"undefined\") {\n          if (error == null) {\n            return \"BokehJS is loading ...\";\n          } else {\n            return \"BokehJS failed to load.\";\n          }\n        } else {\n          const prefix = `BokehJS ${root.Bokeh.version}`;\n          if (error == null) {\n            return `${prefix} successfully loaded.`;\n          } else {\n            return `${prefix} <b>encountered errors</b> while loading and may not function as expected.`;\n          }\n        }\n      })();\n      el.innerHTML = html;\n\n      if (error != null) {\n        const wrapper = document.createElement(\"div\");\n        wrapper.style.overflow = \"auto\";\n        wrapper.style.height = \"5em\";\n        wrapper.style.resize = \"vertical\";\n        const content = document.createElement(\"div\");\n        content.style.fontFamily = \"monospace\";\n        content.style.whiteSpace = \"pre-wrap\";\n        content.style.backgroundColor = \"rgb(255, 221, 221)\";\n        content.textContent = error.stack ?? error.toString();\n        wrapper.append(content);\n        el.append(wrapper);\n      }\n    } else if (Date.now() < root._bokeh_timeout) {\n      setTimeout(() => display_loaded(error), 100);\n    }\n  }\n\n  function run_callbacks() {\n    try {\n      root._bokeh_onload_callbacks.forEach(function(callback) {\n        if (callback != null)\n          callback();\n      });\n    } finally {\n      delete root._bokeh_onload_callbacks\n    }\n    console.debug(\"Bokeh: all callbacks have finished\");\n  }\n\n  function load_libs(css_urls, js_urls, callback) {\n    if (css_urls == null) css_urls = [];\n    if (js_urls == null) js_urls = [];\n\n    root._bokeh_onload_callbacks.push(callback);\n    if (root._bokeh_is_loading > 0) {\n      console.debug(\"Bokeh: BokehJS is being loaded, scheduling callback at\", now());\n      return null;\n    }\n    if (js_urls == null || js_urls.length === 0) {\n      run_callbacks();\n      return null;\n    }\n    console.debug(\"Bokeh: BokehJS not loaded, scheduling load and callback at\", now());\n    root._bokeh_is_loading = css_urls.length + js_urls.length;\n\n    function on_load() {\n      root._bokeh_is_loading--;\n      if (root._bokeh_is_loading === 0) {\n        console.debug(\"Bokeh: all BokehJS libraries/stylesheets loaded\");\n        run_callbacks()\n      }\n    }\n\n    function on_error(url) {\n      console.error(\"failed to load \" + url);\n    }\n\n    for (let i = 0; i < css_urls.length; i++) {\n      const url = css_urls[i];\n      const element = document.createElement(\"link\");\n      element.onload = on_load;\n      element.onerror = on_error.bind(null, url);\n      element.rel = \"stylesheet\";\n      element.type = \"text/css\";\n      element.href = url;\n      console.debug(\"Bokeh: injecting link tag for BokehJS stylesheet: \", url);\n      document.body.appendChild(element);\n    }\n\n    for (let i = 0; i < js_urls.length; i++) {\n      const url = js_urls[i];\n      const element = document.createElement('script');\n      element.onload = on_load;\n      element.onerror = on_error.bind(null, url);\n      element.async = false;\n      element.src = url;\n      console.debug(\"Bokeh: injecting script tag for BokehJS library: \", url);\n      document.head.appendChild(element);\n    }\n  };\n\n  function inject_raw_css(css) {\n    const element = document.createElement(\"style\");\n    element.appendChild(document.createTextNode(css));\n    document.body.appendChild(element);\n  }\n\n  const js_urls = [\"https://cdn.bokeh.org/bokeh/release/bokeh-3.7.2.min.js\", \"https://cdn.bokeh.org/bokeh/release/bokeh-gl-3.7.2.min.js\", \"https://cdn.bokeh.org/bokeh/release/bokeh-widgets-3.7.2.min.js\", \"https://cdn.bokeh.org/bokeh/release/bokeh-tables-3.7.2.min.js\", \"https://cdn.bokeh.org/bokeh/release/bokeh-mathjax-3.7.2.min.js\"];\n  const css_urls = [];\n\n  const inline_js = [    function(Bokeh) {\n      Bokeh.set_log_level(\"info\");\n    },\nfunction(Bokeh) {\n    }\n  ];\n\n  function run_inline_js() {\n    if (root.Bokeh !== undefined || force === true) {\n      try {\n            for (let i = 0; i < inline_js.length; i++) {\n      inline_js[i].call(root, root.Bokeh);\n    }\n\n      } catch (error) {throw error;\n      }} else if (Date.now() < root._bokeh_timeout) {\n      setTimeout(run_inline_js, 100);\n    } else if (!root._bokeh_failed_load) {\n      console.log(\"Bokeh: BokehJS failed to load within specified timeout.\");\n      root._bokeh_failed_load = true;\n    } else if (force !== true) {\n      const cell = $(document.getElementById(null)).parents('.cell').data().cell;\n      cell.output_area.append_execute_result(NB_LOAD_WARNING)\n    }\n  }\n\n  if (root._bokeh_is_loading === 0) {\n    console.debug(\"Bokeh: BokehJS loaded, going straight to plotting\");\n    run_inline_js();\n  } else {\n    load_libs(css_urls, js_urls, function() {\n      console.debug(\"Bokeh: BokehJS plotting callback run at\", now());\n      run_inline_js();\n    });\n  }\n}(window));",
      "application/vnd.bokehjs_load.v0+json": ""
     },
     "metadata": {},
     "output_type": "display_data"
    },
    {
     "data": {
      "text/html": [
       "\n",
       "  <div id=\"bb88c46e-b96d-4aa0-b79b-9d4bbd83662f\" data-root-id=\"p1058\" style=\"display: contents;\"></div>\n"
      ]
     },
     "metadata": {},
     "output_type": "display_data"
    },
    {
     "data": {
      "application/javascript": "(function(root) {\n  function embed_document(root) {\n  const docs_json = {\"f738ad84-9704-4180-9339-4cc703419808\":{\"version\":\"3.7.2\",\"title\":\"Bokeh Application\",\"roots\":[{\"type\":\"object\",\"name\":\"DataCube\",\"id\":\"p1058\",\"attributes\":{\"source\":{\"type\":\"object\",\"name\":\"ColumnDataSource\",\"id\":\"p1043\",\"attributes\":{\"selected\":{\"type\":\"object\",\"name\":\"Selection\",\"id\":\"p1044\",\"attributes\":{\"indices\":[],\"line_indices\":[]}},\"selection_policy\":{\"type\":\"object\",\"name\":\"UnionRenderers\",\"id\":\"p1045\"},\"data\":{\"type\":\"map\",\"entries\":[[\"d0\",[\"IAPT_care_activities\",\"IAPT_care_activities\",\"IAPT_care_activities\",\"IAPT_care_activities\",\"IAPT_care_activities\",\"IAPT_care_activities\",\"IAPT_care_activities\",\"IAPT_care_activities\",\"IAPT_care_activities\",\"IAPT_care_activities\",\"IAPT_care_activities\",\"IAPT_care_activities\",\"IAPT_care_activities\",\"IAPT_care_activities\",\"IAPT_care_activities\",\"IAPT_care_activities\",\"IAPT_care_activities\",\"IAPT_care_cluster\",\"IAPT_care_cluster\",\"IAPT_care_cluster\",\"IAPT_care_cluster\",\"IAPT_care_cluster\",\"IAPT_care_cluster\",\"IAPT_care_cluster\",\"IAPT_care_cluster\",\"IAPT_care_cluster\",\"IAPT_care_cluster\",\"IAPT_care_cluster\",\"IAPT_care_cluster\",\"IAPT_care_cluster\",\"IAPT_care_cluster\",\"IAPT_care_cluster\",\"IAPT_care_cluster\",\"IAPT_care_cluster\",\"IAPT_coded_scored_assessments\",\"IAPT_coded_scored_assessments\",\"IAPT_coded_scored_assessments\",\"IAPT_coded_scored_assessments\",\"IAPT_coded_scored_assessments\",\"IAPT_coded_scored_assessments\",\"IAPT_coded_scored_assessments\",\"IAPT_coded_scored_assessments\",\"IAPT_coded_scored_assessments\",\"IAPT_coded_scored_assessments\",\"IAPT_coded_scored_assessments\",\"IAPT_coded_scored_assessments\",\"IAPT_coded_scored_assessments\",\"IAPT_coded_scored_assessments\",\"IAPT_coded_scored_assessments\",\"IAPT_coded_scored_assessments\",\"IAPT_coded_scored_assessments\",\"IAPT_demographics_and_referral\",\"IAPT_demographics_and_referral\",\"IAPT_demographics_and_referral\",\"IAPT_demographics_and_referral\",\"IAPT_demographics_and_referral\",\"IAPT_demographics_and_referral\",\"IAPT_demographics_and_referral\",\"IAPT_demographics_and_referral\",\"IAPT_demographics_and_referral\",\"IAPT_demographics_and_referral\",\"IAPT_demographics_and_referral\",\"IAPT_demographics_and_referral\",\"IAPT_demographics_and_referral\",\"IAPT_demographics_and_referral\",\"IAPT_demographics_and_referral\",\"IAPT_demographics_and_referral\",\"IAPT_demographics_and_referral\",\"IAPT_employment_status\",\"IAPT_employment_status\",\"IAPT_employment_status\",\"IAPT_employment_status\",\"IAPT_employment_status\",\"IAPT_employment_status\",\"IAPT_employment_status\",\"IAPT_employment_status\",\"IAPT_employment_status\",\"IAPT_employment_status\",\"IAPT_employment_status\",\"IAPT_employment_status\",\"IAPT_employment_status\",\"IAPT_employment_status\",\"IAPT_employment_status\",\"IAPT_employment_status\",\"IAPT_employment_status\",\"IAPT_internet_enabled_therapies\",\"IAPT_internet_enabled_therapies\",\"IAPT_internet_enabled_therapies\",\"IAPT_internet_enabled_therapies\",\"IAPT_internet_enabled_therapies\",\"IAPT_internet_enabled_therapies\",\"IAPT_internet_enabled_therapies\",\"IAPT_internet_enabled_therapies\",\"IAPT_internet_enabled_therapies\",\"IAPT_internet_enabled_therapies\",\"IAPT_internet_enabled_therapies\",\"IAPT_internet_enabled_therapies\",\"IAPT_internet_enabled_therapies\",\"IAPT_internet_enabled_therapies\",\"IAPT_internet_enabled_therapies\",\"IAPT_internet_enabled_therapies\",\"IAPT_internet_enabled_therapies\",\"IAPT_mental_and_physical_health_conditions\",\"IAPT_mental_and_physical_health_conditions\",\"IAPT_mental_and_physical_health_conditions\",\"IAPT_mental_and_physical_health_conditions\",\"IAPT_mental_and_physical_health_conditions\",\"IAPT_mental_and_physical_health_conditions\",\"IAPT_mental_and_physical_health_conditions\",\"IAPT_mental_and_physical_health_conditions\",\"IAPT_mental_and_physical_health_conditions\",\"IAPT_mental_and_physical_health_conditions\",\"IAPT_mental_and_physical_health_conditions\",\"IAPT_mental_and_physical_health_conditions\",\"IAPT_mental_and_physical_health_conditions\",\"IAPT_mental_and_physical_health_conditions\",\"IAPT_mental_and_physical_health_conditions\",\"IAPT_mental_and_physical_health_conditions\",\"IAPT_mental_and_physical_health_conditions\",\"IAPT_onward_referrals\",\"IAPT_onward_referrals\",\"IAPT_onward_referrals\",\"IAPT_onward_referrals\",\"IAPT_onward_referrals\",\"IAPT_onward_referrals\",\"IAPT_onward_referrals\",\"IAPT_onward_referrals\",\"IAPT_onward_referrals\",\"IAPT_onward_referrals\",\"IAPT_onward_referrals\",\"IAPT_onward_referrals\",\"IAPT_onward_referrals\",\"IAPT_onward_referrals\",\"IAPT_onward_referrals\",\"IAPT_onward_referrals\",\"IAPT_onward_referrals\",\"IAPT_waiting_time_pauses\",\"IAPT_waiting_time_pauses\",\"IAPT_waiting_time_pauses\",\"IAPT_waiting_time_pauses\",\"IAPT_waiting_time_pauses\",\"IAPT_waiting_time_pauses\",\"IAPT_waiting_time_pauses\",\"IAPT_waiting_time_pauses\",\"IAPT_waiting_time_pauses\",\"IAPT_waiting_time_pauses\",\"IAPT_waiting_time_pauses\",\"IAPT_waiting_time_pauses\",\"IAPT_waiting_time_pauses\",\"IAPT_waiting_time_pauses\",\"IAPT_waiting_time_pauses\",\"IAPT_waiting_time_pauses\",\"IAPT_waiting_time_pauses\"]],[\"d1\",[\"ALSPAC\",\"BCS70\",\"BIB\",\"ELSA\",\"EPICN\",\"EXCEED\",\"FENLAND\",\"GLAD\",\"MCS\",\"NCDS58\",\"NEXTSTEP\",\"NIHRBIO_COPING\",\"NSHD46\",\"TEDS\",\"TRACKC19\",\"TWINSUK\",\"UKHLS\",\"ALSPAC\",\"BCS70\",\"BIB\",\"ELSA\",\"EPICN\",\"EXCEED\",\"FENLAND\",\"GLAD\",\"MCS\",\"NCDS58\",\"NEXTSTEP\",\"NIHRBIO_COPING\",\"NSHD46\",\"TEDS\",\"TRACKC19\",\"TWINSUK\",\"UKHLS\",\"ALSPAC\",\"BCS70\",\"BIB\",\"ELSA\",\"EPICN\",\"EXCEED\",\"FENLAND\",\"GLAD\",\"MCS\",\"NCDS58\",\"NEXTSTEP\",\"NIHRBIO_COPING\",\"NSHD46\",\"TEDS\",\"TRACKC19\",\"TWINSUK\",\"UKHLS\",\"ALSPAC\",\"BCS70\",\"BIB\",\"ELSA\",\"EPICN\",\"EXCEED\",\"FENLAND\",\"GLAD\",\"MCS\",\"NCDS58\",\"NEXTSTEP\",\"NIHRBIO_COPING\",\"NSHD46\",\"TEDS\",\"TRACKC19\",\"TWINSUK\",\"UKHLS\",\"ALSPAC\",\"BCS70\",\"BIB\",\"ELSA\",\"EPICN\",\"EXCEED\",\"FENLAND\",\"GLAD\",\"MCS\",\"NCDS58\",\"NEXTSTEP\",\"NIHRBIO_COPING\",\"NSHD46\",\"TEDS\",\"TRACKC19\",\"TWINSUK\",\"UKHLS\",\"ALSPAC\",\"BCS70\",\"BIB\",\"ELSA\",\"EPICN\",\"EXCEED\",\"FENLAND\",\"GLAD\",\"MCS\",\"NCDS58\",\"NEXTSTEP\",\"NIHRBIO_COPING\",\"NSHD46\",\"TEDS\",\"TRACKC19\",\"TWINSUK\",\"UKHLS\",\"ALSPAC\",\"BCS70\",\"BIB\",\"ELSA\",\"EPICN\",\"EXCEED\",\"FENLAND\",\"GLAD\",\"MCS\",\"NCDS58\",\"NEXTSTEP\",\"NIHRBIO_COPING\",\"NSHD46\",\"TEDS\",\"TRACKC19\",\"TWINSUK\",\"UKHLS\",\"ALSPAC\",\"BCS70\",\"BIB\",\"ELSA\",\"EPICN\",\"EXCEED\",\"FENLAND\",\"GLAD\",\"MCS\",\"NCDS58\",\"NEXTSTEP\",\"NIHRBIO_COPING\",\"NSHD46\",\"TEDS\",\"TRACKC19\",\"TWINSUK\",\"UKHLS\",\"ALSPAC\",\"BCS70\",\"BIB\",\"ELSA\",\"EPICN\",\"EXCEED\",\"FENLAND\",\"GLAD\",\"MCS\",\"NCDS58\",\"NEXTSTEP\",\"NIHRBIO_COPING\",\"NSHD46\",\"TEDS\",\"TRACKC19\",\"TWINSUK\",\"UKHLS\"]],[\"px\",[951,420,1411,190,334,524,500,27043,1980,248,828,1373,58,1315,884,928,489,451,310,810,140,101,470,347,19557,1363,177,562,918,39,893,563,638,328,913,397,1184,179,264,514,465,25832,1812,234,765,1310,54,1241,837,877,471,1055,473,1576,216,368,589,538,30184,2262,286,915,1482,66,1502,944,1032,550,886,378,1157,168,267,517,465,23611,1725,227,687,1185,50,1170,776,798,440,85,18,36,0,0,24,0,1528,120,0,56,72,0,94,83,41,30,853,395,1447,182,269,525,487,25723,1826,248,754,1257,55,1230,784,853,476,0,15,164,0,0,12,48,1205,81,0,25,56,0,47,33,24,18,0,18,0,0,0,0,14,1522,94,13,43,59,0,61,26,58,21]]]}}},\"view\":{\"type\":\"object\",\"name\":\"CDSView\",\"id\":\"p1062\",\"attributes\":{\"filter\":{\"type\":\"object\",\"name\":\"AllIndices\",\"id\":\"p1063\"}}},\"columns\":[{\"type\":\"object\",\"name\":\"TableColumn\",\"id\":\"p1050\",\"attributes\":{\"field\":\"d1\",\"title\":\"IAPT Dataset\",\"width\":80,\"formatter\":{\"type\":\"object\",\"name\":\"StringFormatter\",\"id\":\"p1049\",\"attributes\":{\"font_style\":{\"type\":\"value\",\"value\":\"bold\"}}},\"editor\":{\"type\":\"object\",\"name\":\"StringEditor\",\"id\":\"p1052\"},\"sortable\":false}},{\"type\":\"object\",\"name\":\"TableColumn\",\"id\":\"p1053\",\"attributes\":{\"field\":\"px\",\"title\":\"Participant Count\",\"width\":40,\"formatter\":{\"type\":\"object\",\"name\":\"StringFormatter\",\"id\":\"p1054\"},\"editor\":{\"type\":\"object\",\"name\":\"StringEditor\",\"id\":\"p1055\"},\"sortable\":false}}],\"grouping\":[{\"type\":\"object\",\"name\":\"GroupingInfo\",\"id\":\"p1057\",\"attributes\":{\"getter\":\"d0\",\"aggregators\":[{\"type\":\"object\",\"name\":\"SumAggregator\",\"id\":\"p1056\",\"attributes\":{\"field_\":\"px\"}}]}}],\"target\":{\"type\":\"object\",\"name\":\"ColumnDataSource\",\"id\":\"p1046\",\"attributes\":{\"selected\":{\"type\":\"object\",\"name\":\"Selection\",\"id\":\"p1047\",\"attributes\":{\"indices\":[],\"line_indices\":[]}},\"selection_policy\":{\"type\":\"object\",\"name\":\"UnionRenderers\",\"id\":\"p1048\"},\"data\":{\"type\":\"map\",\"entries\":[[\"row_indices\",[]],[\"labels\",[]]]}}}}}]}};\n  const render_items = [{\"docid\":\"f738ad84-9704-4180-9339-4cc703419808\",\"roots\":{\"p1058\":\"bb88c46e-b96d-4aa0-b79b-9d4bbd83662f\"},\"root_ids\":[\"p1058\"]}];\n  void root.Bokeh.embed.embed_items_notebook(docs_json, render_items);\n  }\n  if (root.Bokeh !== undefined) {\n    embed_document(root);\n  } else {\n    let attempts = 0;\n    const timer = setInterval(function(root) {\n      if (root.Bokeh !== undefined) {\n        clearInterval(timer);\n        embed_document(root);\n      } else {\n        attempts++;\n        if (attempts > 100) {\n          clearInterval(timer);\n          console.log(\"Bokeh: ERROR: Unable to run BokehJS code because BokehJS library is missing\");\n        }\n      }\n    }, 10, root)\n  }\n})(window);",
      "application/vnd.bokehjs_exec.v0+json": ""
     },
     "metadata": {
      "application/vnd.bokehjs_exec.v0+json": {
       "id": "p1058"
      }
     },
     "output_type": "display_data"
    }
   ],
   "source": [
    "from bokeh.io import show\n",
    "from bokeh.models import (ColumnDataSource, DataCube, GroupingInfo,\n",
    "                          StringFormatter, SumAggregator, TableColumn)\n",
    "from bokeh.io import output_notebook\n",
    "output_notebook(hide_banner=True)\n",
    "\n",
    "df = md.get_md_api_dsvs()\n",
    "df = df[(df[\"source\"] == \"nhsd\") & (df[\"table\"].str.startswith(\"IAPT\"))].drop_duplicates(subset=\"table\")\n",
    "df\n",
    "\n",
    "tbl_names = []\n",
    "metrics_tables = []\n",
    "for i in range(0, len(df)):\n",
    "    url = \"https://metadata-api-4a09f2833a54.herokuapp.com/nhs-dataset-counts/?table={}\".format(df.iloc[i][\"table\"])\n",
    "    r = requests.get(url, headers={'access_token': API_KEY})\n",
    "    data = r.text\n",
    "    pj = json.loads(data)\n",
    "    dfcc = pd.json_normalize(pj)[[\"cohort\", \"count\"]]\n",
    "    dfcc = dfcc[~dfcc['cohort'].isin(['GENSCOT', 'NICOLA', 'SABRE'])]\n",
    "    tbl_names += len(dfcc) * [df.iloc[i][\"table\"]]\n",
    "    #tbl_names.append(df.iloc[i][\"table\"] * len(dfcc))\n",
    "    dfcc[\"count\"] = dfcc[\"count\"].replace(\"<10\", \"0\").astype(int)\n",
    "    metrics_tables.append(dfcc)\n",
    "\n",
    "source = ColumnDataSource(data=dict(\n",
    "    d0=tbl_names,\n",
    "    d1=pd.concat(metrics_tables)[\"cohort\"].to_list(),\n",
    "    px=pd.concat(metrics_tables)[\"count\"].to_list(),\n",
    "))\n",
    "\n",
    "target = ColumnDataSource(data=dict(row_indices=[], labels=[]))\n",
    "\n",
    "formatter = StringFormatter(font_style='bold')\n",
    "\n",
    "columns = [\n",
    "    TableColumn(field='d1', title='IAPT Dataset', width=80, sortable=False, formatter=formatter),\n",
    "    TableColumn(field='px', title='Participant Count', width=40, sortable=False),\n",
    "]\n",
    "\n",
    "grouping = [\n",
    "    GroupingInfo(getter='d0', aggregators=[SumAggregator(field_='px')]),\n",
    "]\n",
    "\n",
    "cube = DataCube(source=source, columns=columns, grouping=grouping, target=target)\n",
    "\n",
    "show(cube)"
   ]
  },
  {
   "cell_type": "code",
   "execution_count": null,
   "id": "d6e98885",
   "metadata": {},
   "outputs": [
    {
     "data": {
      "text/html": [
       "\n",
       "  <div id=\"b6055ea9-0d98-4df9-8506-54d3217028a3\" data-root-id=\"p1271\" style=\"display: contents;\"></div>\n"
      ]
     },
     "metadata": {},
     "output_type": "display_data"
    },
    {
     "data": {
      "application/javascript": "(function(root) {\n  function embed_document(root) {\n  const docs_json = {\"fa15b9af-f209-418d-88b5-5f37e4f41cde\":{\"version\":\"3.7.2\",\"title\":\"Bokeh Application\",\"roots\":[{\"type\":\"object\",\"name\":\"DataCube\",\"id\":\"p1271\",\"attributes\":{\"source\":{\"type\":\"object\",\"name\":\"ColumnDataSource\",\"id\":\"p1254\",\"attributes\":{\"selected\":{\"type\":\"object\",\"name\":\"Selection\",\"id\":\"p1255\",\"attributes\":{\"indices\":[],\"line_indices\":[]}},\"selection_policy\":{\"type\":\"object\",\"name\":\"UnionRenderers\",\"id\":\"p1256\"},\"data\":{\"type\":\"map\",\"entries\":[[\"d0\",[\"A\",\"E\",\"E\",\"E\",\"J\",\"L\",\"M\"]],[\"d1\",[\"B\",\"D\",\"D\",\"H\",\"K\",\"L\",\"N\"]],[\"d2\",[\"C\",\"F\",\"G\",\"H\",\"K\",\"L\",\"O\"]],[\"px\",[10,20,30,40,50,60,70]]]}}},\"view\":{\"type\":\"object\",\"name\":\"CDSView\",\"id\":\"p1275\",\"attributes\":{\"filter\":{\"type\":\"object\",\"name\":\"AllIndices\",\"id\":\"p1276\"}}},\"columns\":[{\"type\":\"object\",\"name\":\"TableColumn\",\"id\":\"p1261\",\"attributes\":{\"field\":\"d2\",\"title\":\"Name\",\"width\":80,\"formatter\":{\"type\":\"object\",\"name\":\"StringFormatter\",\"id\":\"p1260\",\"attributes\":{\"font_style\":{\"type\":\"value\",\"value\":\"bold\"}}},\"editor\":{\"type\":\"object\",\"name\":\"StringEditor\",\"id\":\"p1263\"},\"sortable\":false}},{\"type\":\"object\",\"name\":\"TableColumn\",\"id\":\"p1264\",\"attributes\":{\"field\":\"px\",\"title\":\"Price\",\"width\":40,\"formatter\":{\"type\":\"object\",\"name\":\"StringFormatter\",\"id\":\"p1265\"},\"editor\":{\"type\":\"object\",\"name\":\"StringEditor\",\"id\":\"p1266\"},\"sortable\":false}}],\"grouping\":[{\"type\":\"object\",\"name\":\"GroupingInfo\",\"id\":\"p1268\",\"attributes\":{\"getter\":\"d0\",\"aggregators\":[{\"type\":\"object\",\"name\":\"SumAggregator\",\"id\":\"p1267\",\"attributes\":{\"field_\":\"px\"}}]}},{\"type\":\"object\",\"name\":\"GroupingInfo\",\"id\":\"p1270\",\"attributes\":{\"getter\":\"d1\",\"aggregators\":[{\"type\":\"object\",\"name\":\"SumAggregator\",\"id\":\"p1269\",\"attributes\":{\"field_\":\"px\"}}]}}],\"target\":{\"type\":\"object\",\"name\":\"ColumnDataSource\",\"id\":\"p1257\",\"attributes\":{\"selected\":{\"type\":\"object\",\"name\":\"Selection\",\"id\":\"p1258\",\"attributes\":{\"indices\":[],\"line_indices\":[]}},\"selection_policy\":{\"type\":\"object\",\"name\":\"UnionRenderers\",\"id\":\"p1259\"},\"data\":{\"type\":\"map\",\"entries\":[[\"row_indices\",[]],[\"labels\",[]]]}}}}}]}};\n  const render_items = [{\"docid\":\"fa15b9af-f209-418d-88b5-5f37e4f41cde\",\"roots\":{\"p1271\":\"b6055ea9-0d98-4df9-8506-54d3217028a3\"},\"root_ids\":[\"p1271\"]}];\n  void root.Bokeh.embed.embed_items_notebook(docs_json, render_items);\n  }\n  if (root.Bokeh !== undefined) {\n    embed_document(root);\n  } else {\n    let attempts = 0;\n    const timer = setInterval(function(root) {\n      if (root.Bokeh !== undefined) {\n        clearInterval(timer);\n        embed_document(root);\n      } else {\n        attempts++;\n        if (attempts > 100) {\n          clearInterval(timer);\n          console.log(\"Bokeh: ERROR: Unable to run BokehJS code because BokehJS library is missing\");\n        }\n      }\n    }, 10, root)\n  }\n})(window);",
      "application/vnd.bokehjs_exec.v0+json": ""
     },
     "metadata": {
      "application/vnd.bokehjs_exec.v0+json": {
       "id": "p1271"
      }
     },
     "output_type": "display_data"
    }
   ],
   "source": [
    "from bokeh.io import show\n",
    "from bokeh.models import (ColumnDataSource, DataCube, GroupingInfo,\n",
    "                          StringFormatter, SumAggregator, TableColumn)\n",
    "\n",
    "source = ColumnDataSource(data=dict(\n",
    "    d0=['A', 'E', 'E', 'E', 'J', 'L', 'M'],\n",
    "    d1=['B', 'D', 'D', 'H', 'K', 'L', 'N'],\n",
    "    d2=['C', 'F', 'G', 'H', 'K', 'L', 'O'],\n",
    "    px=[10, 20, 30, 40, 50, 60, 70],\n",
    "))\n",
    "\n",
    "target = ColumnDataSource(data=dict(row_indices=[], labels=[]))\n",
    "\n",
    "formatter = StringFormatter(font_style='bold')\n",
    "\n",
    "columns = [\n",
    "    TableColumn(field='d2', title='Name', width=80, sortable=False, formatter=formatter),\n",
    "    TableColumn(field='px', title='Price', width=40, sortable=False),\n",
    "]\n",
    "\n",
    "grouping = [\n",
    "    GroupingInfo(getter='d0', aggregators=[SumAggregator(field_='px')]),\n",
    "    GroupingInfo(getter='d1', aggregators=[SumAggregator(field_='px')]),\n",
    "]\n",
    "\n",
    "cube = DataCube(source=source, columns=columns, grouping=grouping, target=target)\n",
    "\n",
    "show(cube)"
   ]
  },
  {
   "cell_type": "code",
   "execution_count": 60,
   "id": "3d8d578e",
   "metadata": {},
   "outputs": [
    {
     "data": {
      "text/html": [
       "\n",
       "  <div id=\"f5ba2c6e-20d5-4beb-ac04-6456b224b6e4\" data-root-id=\"p1253\" style=\"display: contents;\"></div>\n"
      ]
     },
     "metadata": {},
     "output_type": "display_data"
    },
    {
     "data": {
      "application/javascript": "(function(root) {\n  function embed_document(root) {\n  const docs_json = {\"a8d4ebc0-a7cf-42c5-ac59-c2208db8a9d7\":{\"version\":\"3.7.2\",\"title\":\"Bokeh Application\",\"roots\":[{\"type\":\"object\",\"name\":\"Column\",\"id\":\"p1253\",\"attributes\":{\"children\":[{\"type\":\"object\",\"name\":\"Select\",\"id\":\"p1252\",\"attributes\":{\"js_property_callbacks\":{\"type\":\"map\",\"entries\":[[\"change:value\",[{\"type\":\"object\",\"name\":\"CustomJS\",\"id\":\"p1251\",\"attributes\":{\"args\":{\"type\":\"map\",\"entries\":[[\"source\",{\"type\":\"object\",\"name\":\"ColumnDataSource\",\"id\":\"p1203\",\"attributes\":{\"selected\":{\"type\":\"object\",\"name\":\"Selection\",\"id\":\"p1204\",\"attributes\":{\"indices\":[],\"line_indices\":[]}},\"selection_policy\":{\"type\":\"object\",\"name\":\"UnionRenderers\",\"id\":\"p1205\"},\"data\":{\"type\":\"map\",\"entries\":[[\"x\",[0.0,0.005,0.01,0.015,0.02,0.025,0.03,0.035,0.04,0.045,0.05,0.055,0.06,0.065,0.07,0.075,0.08,0.085,0.09,0.095,0.1,0.105,0.11,0.115,0.12,0.125,0.13,0.135,0.14,0.145,0.15,0.155,0.16,0.165,0.17,0.17500000000000002,0.18,0.185,0.19,0.195,0.2,0.20500000000000002,0.21,0.215,0.22,0.225,0.23,0.23500000000000001,0.24,0.245,0.25,0.255,0.26,0.265,0.27,0.275,0.28,0.28500000000000003,0.29,0.295,0.3,0.305,0.31,0.315,0.32,0.325,0.33,0.335,0.34,0.34500000000000003,0.35000000000000003,0.355,0.36,0.365,0.37,0.375,0.38,0.385,0.39,0.395,0.4,0.405,0.41000000000000003,0.41500000000000004,0.42,0.425,0.43,0.435,0.44,0.445,0.45,0.455,0.46,0.465,0.47000000000000003,0.47500000000000003,0.48,0.485,0.49,0.495,0.5,0.505,0.51,0.515,0.52,0.525,0.53,0.535,0.54,0.545,0.55,0.555,0.56,0.5650000000000001,0.5700000000000001,0.5750000000000001,0.58,0.585,0.59,0.595,0.6,0.605,0.61,0.615,0.62,0.625,0.63,0.635,0.64,0.645,0.65,0.655,0.66,0.665,0.67,0.675,0.68,0.685,0.6900000000000001,0.6950000000000001,0.7000000000000001,0.705,0.71,0.715,0.72,0.725,0.73,0.735,0.74,0.745,0.75,0.755,0.76,0.765,0.77,0.775,0.78,0.785,0.79,0.795,0.8,0.805,0.81,0.8150000000000001,0.8200000000000001,0.8250000000000001,0.8300000000000001,0.835,0.84,0.845,0.85,0.855,0.86,0.865,0.87,0.875,0.88,0.885,0.89,0.895,0.9,0.905,0.91,0.915,0.92,0.925,0.93,0.935,0.9400000000000001,0.9450000000000001,0.9500000000000001,0.9550000000000001,0.96,0.965,0.97,0.975,0.98,0.985,0.99,0.995]],[\"y\",[0.0,0.005,0.01,0.015,0.02,0.025,0.03,0.035,0.04,0.045,0.05,0.055,0.06,0.065,0.07,0.075,0.08,0.085,0.09,0.095,0.1,0.105,0.11,0.115,0.12,0.125,0.13,0.135,0.14,0.145,0.15,0.155,0.16,0.165,0.17,0.17500000000000002,0.18,0.185,0.19,0.195,0.2,0.20500000000000002,0.21,0.215,0.22,0.225,0.23,0.23500000000000001,0.24,0.245,0.25,0.255,0.26,0.265,0.27,0.275,0.28,0.28500000000000003,0.29,0.295,0.3,0.305,0.31,0.315,0.32,0.325,0.33,0.335,0.34,0.34500000000000003,0.35000000000000003,0.355,0.36,0.365,0.37,0.375,0.38,0.385,0.39,0.395,0.4,0.405,0.41000000000000003,0.41500000000000004,0.42,0.425,0.43,0.435,0.44,0.445,0.45,0.455,0.46,0.465,0.47000000000000003,0.47500000000000003,0.48,0.485,0.49,0.495,0.5,0.505,0.51,0.515,0.52,0.525,0.53,0.535,0.54,0.545,0.55,0.555,0.56,0.5650000000000001,0.5700000000000001,0.5750000000000001,0.58,0.585,0.59,0.595,0.6,0.605,0.61,0.615,0.62,0.625,0.63,0.635,0.64,0.645,0.65,0.655,0.66,0.665,0.67,0.675,0.68,0.685,0.6900000000000001,0.6950000000000001,0.7000000000000001,0.705,0.71,0.715,0.72,0.725,0.73,0.735,0.74,0.745,0.75,0.755,0.76,0.765,0.77,0.775,0.78,0.785,0.79,0.795,0.8,0.805,0.81,0.8150000000000001,0.8200000000000001,0.8250000000000001,0.8300000000000001,0.835,0.84,0.845,0.85,0.855,0.86,0.865,0.87,0.875,0.88,0.885,0.89,0.895,0.9,0.905,0.91,0.915,0.92,0.925,0.93,0.935,0.9400000000000001,0.9450000000000001,0.9500000000000001,0.9550000000000001,0.96,0.965,0.97,0.975,0.98,0.985,0.99,0.995]]]}}}]]},\"code\":\"\\n    const f = cb_obj.value\\n    const x = source.data.x\\n    const y = Array.from(x, (x) => Math.pow(x, f))\\n    source.data = { x, y }\\n\"}}]]]},\"title\":\"Option:\",\"options\":[\"1\",\"2\",\"3\",\"4\"],\"value\":\"1\"}},{\"type\":\"object\",\"name\":\"Figure\",\"id\":\"p1206\",\"attributes\":{\"width\":400,\"height\":400,\"x_range\":{\"type\":\"object\",\"name\":\"Range1d\",\"id\":\"p1215\"},\"y_range\":{\"type\":\"object\",\"name\":\"Range1d\",\"id\":\"p1216\"},\"x_scale\":{\"type\":\"object\",\"name\":\"LinearScale\",\"id\":\"p1217\"},\"y_scale\":{\"type\":\"object\",\"name\":\"LinearScale\",\"id\":\"p1218\"},\"title\":{\"type\":\"object\",\"name\":\"Title\",\"id\":\"p1213\"},\"renderers\":[{\"type\":\"object\",\"name\":\"GlyphRenderer\",\"id\":\"p1248\",\"attributes\":{\"data_source\":{\"id\":\"p1203\"},\"view\":{\"type\":\"object\",\"name\":\"CDSView\",\"id\":\"p1249\",\"attributes\":{\"filter\":{\"type\":\"object\",\"name\":\"AllIndices\",\"id\":\"p1250\"}}},\"glyph\":{\"type\":\"object\",\"name\":\"Line\",\"id\":\"p1245\",\"attributes\":{\"x\":{\"type\":\"field\",\"field\":\"x\"},\"y\":{\"type\":\"field\",\"field\":\"y\"},\"line_color\":\"#1f77b4\",\"line_alpha\":0.6,\"line_width\":3}},\"nonselection_glyph\":{\"type\":\"object\",\"name\":\"Line\",\"id\":\"p1246\",\"attributes\":{\"x\":{\"type\":\"field\",\"field\":\"x\"},\"y\":{\"type\":\"field\",\"field\":\"y\"},\"line_color\":\"#1f77b4\",\"line_alpha\":0.1,\"line_width\":3}},\"muted_glyph\":{\"type\":\"object\",\"name\":\"Line\",\"id\":\"p1247\",\"attributes\":{\"x\":{\"type\":\"field\",\"field\":\"x\"},\"y\":{\"type\":\"field\",\"field\":\"y\"},\"line_color\":\"#1f77b4\",\"line_alpha\":0.2,\"line_width\":3}}}}],\"toolbar\":{\"type\":\"object\",\"name\":\"Toolbar\",\"id\":\"p1214\",\"attributes\":{\"tools\":[{\"type\":\"object\",\"name\":\"PanTool\",\"id\":\"p1229\"},{\"type\":\"object\",\"name\":\"WheelZoomTool\",\"id\":\"p1230\",\"attributes\":{\"renderers\":\"auto\"}},{\"type\":\"object\",\"name\":\"BoxZoomTool\",\"id\":\"p1231\",\"attributes\":{\"dimensions\":\"both\",\"overlay\":{\"type\":\"object\",\"name\":\"BoxAnnotation\",\"id\":\"p1232\",\"attributes\":{\"syncable\":false,\"line_color\":\"black\",\"line_alpha\":1.0,\"line_width\":2,\"line_dash\":[4,4],\"fill_color\":\"lightgrey\",\"fill_alpha\":0.5,\"level\":\"overlay\",\"visible\":false,\"left\":{\"type\":\"number\",\"value\":\"nan\"},\"right\":{\"type\":\"number\",\"value\":\"nan\"},\"top\":{\"type\":\"number\",\"value\":\"nan\"},\"bottom\":{\"type\":\"number\",\"value\":\"nan\"},\"left_units\":\"canvas\",\"right_units\":\"canvas\",\"top_units\":\"canvas\",\"bottom_units\":\"canvas\",\"handles\":{\"type\":\"object\",\"name\":\"BoxInteractionHandles\",\"id\":\"p1238\",\"attributes\":{\"all\":{\"type\":\"object\",\"name\":\"AreaVisuals\",\"id\":\"p1237\",\"attributes\":{\"fill_color\":\"white\",\"hover_fill_color\":\"lightgray\"}}}}}}}},{\"type\":\"object\",\"name\":\"SaveTool\",\"id\":\"p1239\"},{\"type\":\"object\",\"name\":\"ResetTool\",\"id\":\"p1240\"},{\"type\":\"object\",\"name\":\"HelpTool\",\"id\":\"p1241\"}]}},\"left\":[{\"type\":\"object\",\"name\":\"LinearAxis\",\"id\":\"p1224\",\"attributes\":{\"ticker\":{\"type\":\"object\",\"name\":\"BasicTicker\",\"id\":\"p1225\",\"attributes\":{\"mantissas\":[1,2,5]}},\"formatter\":{\"type\":\"object\",\"name\":\"BasicTickFormatter\",\"id\":\"p1226\"},\"major_label_policy\":{\"type\":\"object\",\"name\":\"AllLabels\",\"id\":\"p1227\"}}}],\"below\":[{\"type\":\"object\",\"name\":\"LinearAxis\",\"id\":\"p1219\",\"attributes\":{\"ticker\":{\"type\":\"object\",\"name\":\"BasicTicker\",\"id\":\"p1220\",\"attributes\":{\"mantissas\":[1,2,5]}},\"formatter\":{\"type\":\"object\",\"name\":\"BasicTickFormatter\",\"id\":\"p1221\"},\"major_label_policy\":{\"type\":\"object\",\"name\":\"AllLabels\",\"id\":\"p1222\"}}}],\"center\":[{\"type\":\"object\",\"name\":\"Grid\",\"id\":\"p1223\",\"attributes\":{\"axis\":{\"id\":\"p1219\"}}},{\"type\":\"object\",\"name\":\"Grid\",\"id\":\"p1228\",\"attributes\":{\"dimension\":1,\"axis\":{\"id\":\"p1224\"}}}]}}]}}]}};\n  const render_items = [{\"docid\":\"a8d4ebc0-a7cf-42c5-ac59-c2208db8a9d7\",\"roots\":{\"p1253\":\"f5ba2c6e-20d5-4beb-ac04-6456b224b6e4\"},\"root_ids\":[\"p1253\"]}];\n  void root.Bokeh.embed.embed_items_notebook(docs_json, render_items);\n  }\n  if (root.Bokeh !== undefined) {\n    embed_document(root);\n  } else {\n    let attempts = 0;\n    const timer = setInterval(function(root) {\n      if (root.Bokeh !== undefined) {\n        clearInterval(timer);\n        embed_document(root);\n      } else {\n        attempts++;\n        if (attempts > 100) {\n          clearInterval(timer);\n          console.log(\"Bokeh: ERROR: Unable to run BokehJS code because BokehJS library is missing\");\n        }\n      }\n    }, 10, root)\n  }\n})(window);",
      "application/vnd.bokehjs_exec.v0+json": ""
     },
     "metadata": {
      "application/vnd.bokehjs_exec.v0+json": {
       "id": "p1253"
      }
     },
     "output_type": "display_data"
    }
   ],
   "source": [
    "x = [x*0.005 for x in range(0, 200)]\n",
    "y = x\n",
    "\n",
    "source = ColumnDataSource(data=dict(x=x, y=y))\n",
    "\n",
    "plot = figure(width=400, height=400, x_range=(0, 1), y_range=(0, 1))\n",
    "\n",
    "plot.line('x', 'y', source=source, line_width=3, line_alpha=0.6)\n",
    "\n",
    "callback = CustomJS(args=dict(source=source), code=\"\"\"\n",
    "    const f = cb_obj.value\n",
    "    const x = source.data.x\n",
    "    const y = Array.from(x, (x) => Math.pow(x, f))\n",
    "    source.data = { x, y }\n",
    "\"\"\")\n",
    "\n",
    "# slider = Slider(start=0.1, end=4, value=1, step=.1, title=\"power\")\n",
    "# slider.js_on_change('value', callback)\n",
    "\n",
    "select = Select(title=\"Option:\", value=\"1\", options=[\"1\", \"2\", \"3\", \"4\"])\n",
    "select.js_on_change('value', callback)\n",
    "\n",
    "layout = column(select, plot)\n",
    "\n",
    "show(layout)"
   ]
  },
  {
   "cell_type": "code",
   "execution_count": null,
   "id": "c95ce79e",
   "metadata": {},
   "outputs": [],
   "source": []
  }
 ],
 "metadata": {
  "kernelspec": {
   "display_name": "Python 3",
   "language": "python",
   "name": "python3"
  },
  "language_info": {
   "codemirror_mode": {
    "name": "ipython",
    "version": 3
   },
   "file_extension": ".py",
   "mimetype": "text/x-python",
   "name": "python",
   "nbconvert_exporter": "python",
   "pygments_lexer": "ipython3",
   "version": "3.13.2"
  }
 },
 "nbformat": 4,
 "nbformat_minor": 5
}
