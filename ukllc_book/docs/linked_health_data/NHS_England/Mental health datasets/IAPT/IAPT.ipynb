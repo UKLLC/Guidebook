{
 "cells": [
  {
   "attachments": {},
   "cell_type": "markdown",
   "id": "c928623b",
   "metadata": {},
   "source": [
    "# Talking Therapies for Anxiety and Depression dataset\n",
    "## 1. Summary\n",
    "The information below is retrieved from the Health Data Gateway API developed by NHS England, with additional fields added by UK LLC (indicated by italics). The IAPT dataset in the UK LLC TRE comprises nine separate datasets. This dataset was previously known as the **Improving Access to Psychological Therapies (IAPT) Data Set**."
   ]
  },
  {
   "cell_type": "code",
   "execution_count": 1,
   "id": "910dadbd",
   "metadata": {},
   "outputs": [],
   "source": [
    "# define target dataset to document\n",
    "schema = 'nhsd'\n",
    "table = 'IAPT'\n",
    "table1 = 'IAPT_care_activities'\n",
    "table2 = 'IAPT_care_cluster'\n",
    "table3 = 'IAPT_coded_scored_assessments'\n",
    "table4 = 'IAPT_demographics_and_referral'\n",
    "table5 = 'IAPT_employment_status'\n",
    "table6 = 'IAPT_internet_enabled_therapies'\n",
    "table7 = 'IAPT_mental_and_physical_health_conditions'\n",
    "table8 = 'IAPT_onward_referrals'\n",
    "table9 = 'IAPT_waiting_time_pauses'\n",
    "version = 'v0003'\n",
    "# import functions from script helper\n",
    "import sys\n",
    "script_fp = \"../../../../scripts/\"\n",
    "sys.path.insert(0, script_fp)\n",
    "from data_doc_helper import DocHelper\n",
    "# create instance\n",
    "document = DocHelper(schema, table, version, script_fp)\n",
    "document1 = DocHelper(schema, table1, version, script_fp)\n",
    "document2 = DocHelper(schema, table2, version, script_fp)\n",
    "document3 = DocHelper(schema, table3, version, script_fp)\n",
    "document4 = DocHelper(schema, table4, version, script_fp)\n",
    "document5 = DocHelper(schema, table5, version, script_fp)\n",
    "document6 = DocHelper(schema, table6, version, script_fp)\n",
    "document7 = DocHelper(schema, table7, version, script_fp)\n",
    "document8 = DocHelper(schema, table8, version, script_fp)\n",
    "document9 = DocHelper(schema, table9, version, script_fp)\n",
    "# markdown/code hybrid cell module requirement\n",
    "from IPython.display import display, Markdown"
   ]
  },
  {
   "cell_type": "code",
   "execution_count": 2,
   "id": "103f2c9b",
   "metadata": {},
   "outputs": [
    {
     "data": {
      "text/markdown": [
       "**NHS England title of dataset:** Improving Access to Psychological Therapies Data Set"
      ],
      "text/plain": [
       "<IPython.core.display.Markdown object>"
      ]
     },
     "metadata": {},
     "output_type": "display_data"
    },
    {
     "data": {
      "text/markdown": [
       "***Dataset name in UK LLC TRE:*** *nhsd.IAPT*"
      ],
      "text/plain": [
       "<IPython.core.display.Markdown object>"
      ]
     },
     "metadata": {},
     "output_type": "display_data"
    },
    {
     "data": {
      "text/markdown": [
       "**Short abstract:** Patient-level data set that captures information about people in contact with services commissioned as part of the adult Improving Access to Psychological Services (IAPT) programme."
      ],
      "text/plain": [
       "<IPython.core.display.Markdown object>"
      ]
     },
     "metadata": {},
     "output_type": "display_data"
    },
    {
     "data": {
      "text/markdown": [
       "***Extended abstract:*** *The IAPT dataset will shortly be renamed the NHS Talking Therapies for Anxiety and Depression dataset. The dataset collects data about adults in England who receive NHS-funded treatment for depression and anxiety disorders under the NHS Talking Therapies programme. Conditions treated include agoraphobia, body dysmorphic disorder, depression, generalised anxiety disorder, health anxiety, obsessive-compulsive disorder, panic disorder, post traumatic stress disorder and a wide range of specific phobias. Submission of data is mandatory for all NHS funded IAPT service providers, including care delivered by independent sector healthcare providers. IAPT is referral based which allows tracking between services and settings. The dataset includes all data relevant to the reporting period, not just finished episodes, and so researchers need to be careful of over-counting. Current and past data models, user guidance and technical output specifications are available here: [https://digital.nhs.uk/data-and-information/data-collections-and-data-sets/data-sets/improving-access-to-psychological-therapies-data-set/implementing-iapt-tools-and-guidance](https://digital.nhs.uk/data-and-information/data-collections-and-data-sets/data-sets/improving-access-to-psychological-therapies-data-set/implementing-iapt-tools-and-guidance)*"
      ],
      "text/plain": [
       "<IPython.core.display.Markdown object>"
      ]
     },
     "metadata": {},
     "output_type": "display_data"
    },
    {
     "data": {
      "text/markdown": [
       "**Geographical coverage:** United Kingdom,England"
      ],
      "text/plain": [
       "<IPython.core.display.Markdown object>"
      ]
     },
     "metadata": {},
     "output_type": "display_data"
    },
    {
     "data": {
      "text/markdown": [
       "**Temporal coverage:** 01/04/2012"
      ],
      "text/plain": [
       "<IPython.core.display.Markdown object>"
      ]
     },
     "metadata": {},
     "output_type": "display_data"
    },
    {
     "data": {
      "text/markdown": [
       "***Data available in UK LLC TRE from:*** *01/04/2012 onwards*"
      ],
      "text/plain": [
       "<IPython.core.display.Markdown object>"
      ]
     },
     "metadata": {},
     "output_type": "display_data"
    },
    {
     "data": {
      "text/markdown": [
       "**Typical age range:** 18-150"
      ],
      "text/plain": [
       "<IPython.core.display.Markdown object>"
      ]
     },
     "metadata": {},
     "output_type": "display_data"
    },
    {
     "data": {
      "text/markdown": [
       "**Collection situation:** COMMUNITY"
      ],
      "text/plain": [
       "<IPython.core.display.Markdown object>"
      ]
     },
     "metadata": {},
     "output_type": "display_data"
    },
    {
     "data": {
      "text/markdown": [
       "**Purpose:** OTHER"
      ],
      "text/plain": [
       "<IPython.core.display.Markdown object>"
      ]
     },
     "metadata": {},
     "output_type": "display_data"
    },
    {
     "data": {
      "text/markdown": [
       "**Source:** EPR"
      ],
      "text/plain": [
       "<IPython.core.display.Markdown object>"
      ]
     },
     "metadata": {},
     "output_type": "display_data"
    },
    {
     "data": {
      "text/markdown": [
       "**Pathway:** "
      ],
      "text/plain": [
       "<IPython.core.display.Markdown object>"
      ]
     },
     "metadata": {},
     "output_type": "display_data"
    },
    {
     "data": {
      "text/markdown": [
       "***Information collected:*** *TBC*"
      ],
      "text/plain": [
       "<IPython.core.display.Markdown object>"
      ]
     },
     "metadata": {},
     "output_type": "display_data"
    },
    {
     "data": {
      "text/markdown": [
       "***Structure of dataset:*** *TBC*"
      ],
      "text/plain": [
       "<IPython.core.display.Markdown object>"
      ]
     },
     "metadata": {},
     "output_type": "display_data"
    },
    {
     "data": {
      "text/markdown": [
       "***Update frequency in UK LLC TRE:*** *Quarterly*"
      ],
      "text/plain": [
       "<IPython.core.display.Markdown object>"
      ]
     },
     "metadata": {},
     "output_type": "display_data"
    },
    {
     "data": {
      "text/markdown": [
       "***Dataset versions in UK LLC TRE:*** *TBC*"
      ],
      "text/plain": [
       "<IPython.core.display.Markdown object>"
      ]
     },
     "metadata": {},
     "output_type": "display_data"
    },
    {
     "data": {
      "text/markdown": [
       "***Data quality issues:*** *See the [IAPT data quality notes](https://digital.nhs.uk/data-and-information/data-collections-and-data-sets/data-sets/improving-access-to-psychological-therapies-data-set/improving-access-to-psychological-therapies-data-set-reports).*"
      ],
      "text/plain": [
       "<IPython.core.display.Markdown object>"
      ]
     },
     "metadata": {},
     "output_type": "display_data"
    },
    {
     "data": {
      "text/markdown": [
       "***Restrictions to data usage***: *Medical purposes only (medical research) as defined in the NHS Act 2006: [https://www.legislation.gov.uk/ukpga/2006/41/part/13/crossheading/patient-information](https://www.legislation.gov.uk/ukpga/2006/41/part/13/crossheading/patient-information)*"
      ],
      "text/plain": [
       "<IPython.core.display.Markdown object>"
      ]
     },
     "metadata": {},
     "output_type": "display_data"
    },
    {
     "data": {
      "text/markdown": [
       "***Further information:*** *[https://digital.nhs.uk/data-and-information/data-collections-and-data-sets/data-sets/improving-access-to-psychological-therapies-data-set/improving-access-to-psychological-therapies-data-set-reports](https://digital.nhs.uk/data-and-information/data-collections-and-data-sets/data-sets/improving-access-to-psychological-therapies-data-set/improving-access-to-psychological-therapies-data-set-reports)*"
      ],
      "text/plain": [
       "<IPython.core.display.Markdown object>"
      ]
     },
     "metadata": {},
     "output_type": "display_data"
    }
   ],
   "source": [
    "# get api data\n",
    "dataset = document.get_api_data()\n",
    "display(Markdown(\"**NHS England title of dataset:** \"+dataset['datasetfields']['datautility']['title']))\n",
    "display(Markdown(\"***Dataset name in UK LLC TRE:*** *nhsd.IAPT*\"))  \n",
    "display(Markdown(\"**Short abstract:** \"+dataset['datasetfields']['abstract']))\n",
    "display(Markdown(\"***Extended abstract:*** *The IAPT dataset will shortly be renamed the NHS Talking Therapies for Anxiety and Depression dataset. The dataset collects data about adults in England who receive NHS-funded treatment for depression and anxiety disorders under the NHS Talking Therapies programme. Conditions treated include agoraphobia, body dysmorphic disorder, depression, generalised anxiety disorder, health anxiety, obsessive-compulsive disorder, panic disorder, post traumatic stress disorder and a wide range of specific phobias. Submission of data is mandatory for all NHS funded IAPT service providers, including care delivered by independent sector healthcare providers. IAPT is referral based which allows tracking between services and settings. The dataset includes all data relevant to the reporting period, not just finished episodes, and so researchers need to be careful of over-counting. Current and past data models, user guidance and technical output specifications are available here: [https://digital.nhs.uk/data-and-information/data-collections-and-data-sets/data-sets/improving-access-to-psychological-therapies-data-set/implementing-iapt-tools-and-guidance](https://digital.nhs.uk/data-and-information/data-collections-and-data-sets/data-sets/improving-access-to-psychological-therapies-data-set/implementing-iapt-tools-and-guidance)*\"))\n",
    "display(Markdown(\"**Geographical coverage:** \"+dataset['datasetfields']['geographicCoverage'][0]))\n",
    "display(Markdown(\"**Temporal coverage:** \"+dataset['datasetfields']['datasetStartDate']))\n",
    "display(Markdown(\"***Data available in UK LLC TRE from:*** *01/04/2012 onwards*\"))\n",
    "display(Markdown(\"**Typical age range:** \"+dataset['datasetfields']['ageBand']))\n",
    "display(Markdown(\"**Collection situation:** \"+dataset['datasetv2']['provenance']['origin']['collectionSituation'][0]))\n",
    "display(Markdown(\"**Purpose:** \"+dataset['datasetv2']['provenance']['origin']['purpose'][0]))\n",
    "display(Markdown(\"**Source:** \"+dataset['datasetv2']['provenance']['origin']['source'][0]))\n",
    "display(Markdown(\"**Pathway:** \"+dataset['datasetv2']['coverage']['pathway']))\n",
    "display(Markdown(\"***Information collected:*** *TBC*\"))  \n",
    "display(Markdown(\"***Structure of dataset:*** *TBC*\"))  \n",
    "display(Markdown(\"***Update frequency in UK LLC TRE:*** *Quarterly*\"))  \n",
    "display(Markdown(\"***Dataset versions in UK LLC TRE:*** *TBC*\"))\n",
    "display(Markdown(\"***Data quality issues:*** *See the [IAPT data quality notes](https://digital.nhs.uk/data-and-information/data-collections-and-data-sets/data-sets/improving-access-to-psychological-therapies-data-set/improving-access-to-psychological-therapies-data-set-reports).*\"))  \n",
    "display(Markdown(\"***Restrictions to data usage***: *Medical purposes only (medical research) as defined in the NHS Act 2006: [https://www.legislation.gov.uk/ukpga/2006/41/part/13/crossheading/patient-information](https://www.legislation.gov.uk/ukpga/2006/41/part/13/crossheading/patient-information)*\"))  \n",
    "display(Markdown(\"***Further information:*** *[https://digital.nhs.uk/data-and-information/data-collections-and-data-sets/data-sets/improving-access-to-psychological-therapies-data-set/improving-access-to-psychological-therapies-data-set-reports](https://digital.nhs.uk/data-and-information/data-collections-and-data-sets/data-sets/improving-access-to-psychological-therapies-data-set/improving-access-to-psychological-therapies-data-set-reports)*\"))"
   ]
  },
  {
   "attachments": {},
   "cell_type": "markdown",
   "id": "ee2455db",
   "metadata": {},
   "source": [
    "## 2. Metrics\n",
    "The tables below summarise the nine datasets that make up the IAPT dataset in the UK LLC TRE."
   ]
  },
  {
   "attachments": {},
   "cell_type": "markdown",
   "id": "784c3f31",
   "metadata": {},
   "source": [
    "**2.1 IAPT Care Activities**"
   ]
  },
  {
   "attachments": {},
   "cell_type": "markdown",
   "id": "e0d88fc3",
   "metadata": {},
   "source": [
    "**Table 1** The number of participants from each LPS that are represented in the IAPT_Care_Activities dataset in the UK LLC TRE  \n",
    "(**Note**: numbers relate to the most recent extract of NHS England data) "
   ]
  },
  {
   "cell_type": "code",
   "execution_count": 3,
   "id": "877ef22f",
   "metadata": {},
   "outputs": [
    {
     "name": "stdout",
     "output_type": "stream",
     "text": [
      "╒════════════════╤═════════╕\n",
      "│ cohort         │   count │\n",
      "╞════════════════╪═════════╡\n",
      "│ ALSPAC         │     951 │\n",
      "├────────────────┼─────────┤\n",
      "│ BCS70          │     418 │\n",
      "├────────────────┼─────────┤\n",
      "│ BIB            │    1411 │\n",
      "├────────────────┼─────────┤\n",
      "│ ELSA           │     190 │\n",
      "├────────────────┼─────────┤\n",
      "│ EPICN          │     334 │\n",
      "├────────────────┼─────────┤\n",
      "│ EXCEED         │     524 │\n",
      "├────────────────┼─────────┤\n",
      "│ FENLAND        │     500 │\n",
      "├────────────────┼─────────┤\n",
      "│ GLAD           │   27065 │\n",
      "├────────────────┼─────────┤\n",
      "│ MCS            │    1984 │\n",
      "├────────────────┼─────────┤\n",
      "│ NCDS58         │     249 │\n",
      "├────────────────┼─────────┤\n",
      "│ NEXTSTEP       │     824 │\n",
      "├────────────────┼─────────┤\n",
      "│ NIHRBIO_COPING │    1373 │\n",
      "├────────────────┼─────────┤\n",
      "│ NSHD46         │      58 │\n",
      "├────────────────┼─────────┤\n",
      "│ TEDS           │    1315 │\n",
      "├────────────────┼─────────┤\n",
      "│ TRACKC19       │     884 │\n",
      "├────────────────┼─────────┤\n",
      "│ TWINSUK        │     928 │\n",
      "├────────────────┼─────────┤\n",
      "│ UKHLS          │     489 │\n",
      "├────────────────┼─────────┤\n",
      "│ total          │   39497 │\n",
      "╘════════════════╧═════════╛\n"
     ]
    }
   ],
   "source": [
    "gb_cohort = document1.get_cohort_count()\n",
    "print(gb_cohort.to_markdown(index=False, tablefmt=\"fancy_grid\"))"
   ]
  },
  {
   "attachments": {},
   "cell_type": "markdown",
   "id": "f7bfffd3",
   "metadata": {},
   "source": [
    "**2.2 IAPT Care Cluster**"
   ]
  },
  {
   "attachments": {},
   "cell_type": "markdown",
   "id": "3ab7db70",
   "metadata": {},
   "source": [
    "**Table 2** The number of participants from each LPS that are represented in the IAPT_Care_Cluster dataset in the UK LLC TRE  \n",
    "(**Note**: numbers relate to the most recent extract of NHS England data)"
   ]
  },
  {
   "cell_type": "code",
   "execution_count": 4,
   "id": "cc8e7c87",
   "metadata": {},
   "outputs": [
    {
     "name": "stdout",
     "output_type": "stream",
     "text": [
      "╒════════════════╤═════════╕\n",
      "│ cohort         │   count │\n",
      "╞════════════════╪═════════╡\n",
      "│ ALSPAC         │     451 │\n",
      "├────────────────┼─────────┤\n",
      "│ BCS70          │     308 │\n",
      "├────────────────┼─────────┤\n",
      "│ BIB            │     810 │\n",
      "├────────────────┼─────────┤\n",
      "│ ELSA           │     140 │\n",
      "├────────────────┼─────────┤\n",
      "│ EPICN          │     101 │\n",
      "├────────────────┼─────────┤\n",
      "│ EXCEED         │     470 │\n",
      "├────────────────┼─────────┤\n",
      "│ FENLAND        │     347 │\n",
      "├────────────────┼─────────┤\n",
      "│ GLAD           │   19573 │\n",
      "├────────────────┼─────────┤\n",
      "│ MCS            │    1367 │\n",
      "├────────────────┼─────────┤\n",
      "│ NCDS58         │     178 │\n",
      "├────────────────┼─────────┤\n",
      "│ NEXTSTEP       │     559 │\n",
      "├────────────────┼─────────┤\n",
      "│ NIHRBIO_COPING │     918 │\n",
      "├────────────────┼─────────┤\n",
      "│ NSHD46         │      39 │\n",
      "├────────────────┼─────────┤\n",
      "│ TEDS           │     893 │\n",
      "├────────────────┼─────────┤\n",
      "│ TRACKC19       │     563 │\n",
      "├────────────────┼─────────┤\n",
      "│ TWINSUK        │     638 │\n",
      "├────────────────┼─────────┤\n",
      "│ UKHLS          │     328 │\n",
      "├────────────────┼─────────┤\n",
      "│ total          │   27683 │\n",
      "╘════════════════╧═════════╛\n"
     ]
    }
   ],
   "source": [
    "gb_cohort = document2.get_cohort_count()\n",
    "print(gb_cohort.to_markdown(index=False, tablefmt=\"fancy_grid\"))"
   ]
  },
  {
   "attachments": {},
   "cell_type": "markdown",
   "id": "7c537db9",
   "metadata": {},
   "source": [
    "**2.3 IAPT Coded Scored Assessments**"
   ]
  },
  {
   "attachments": {},
   "cell_type": "markdown",
   "id": "e089d5a7",
   "metadata": {},
   "source": [
    "**Table 3** The number of participants from each LPS that are represented in the IAPT_Coded_Score_Assessments dataset in the UK LLC TRE  \n",
    "**Note**: numbers relate to the most recent extract of NHS England data) "
   ]
  },
  {
   "cell_type": "code",
   "execution_count": 5,
   "id": "81c54745",
   "metadata": {},
   "outputs": [
    {
     "name": "stdout",
     "output_type": "stream",
     "text": [
      "╒════════════════╤═════════╕\n",
      "│ cohort         │   count │\n",
      "╞════════════════╪═════════╡\n",
      "│ ALSPAC         │     913 │\n",
      "├────────────────┼─────────┤\n",
      "│ BCS70          │     395 │\n",
      "├────────────────┼─────────┤\n",
      "│ BIB            │    1184 │\n",
      "├────────────────┼─────────┤\n",
      "│ ELSA           │     179 │\n",
      "├────────────────┼─────────┤\n",
      "│ EPICN          │     264 │\n",
      "├────────────────┼─────────┤\n",
      "│ EXCEED         │     514 │\n",
      "├────────────────┼─────────┤\n",
      "│ FENLAND        │     465 │\n",
      "├────────────────┼─────────┤\n",
      "│ GLAD           │   25855 │\n",
      "├────────────────┼─────────┤\n",
      "│ MCS            │    1816 │\n",
      "├────────────────┼─────────┤\n",
      "│ NCDS58         │     235 │\n",
      "├────────────────┼─────────┤\n",
      "│ NEXTSTEP       │     761 │\n",
      "├────────────────┼─────────┤\n",
      "│ NIHRBIO_COPING │    1310 │\n",
      "├────────────────┼─────────┤\n",
      "│ NSHD46         │      54 │\n",
      "├────────────────┼─────────┤\n",
      "│ TEDS           │    1241 │\n",
      "├────────────────┼─────────┤\n",
      "│ TRACKC19       │     837 │\n",
      "├────────────────┼─────────┤\n",
      "│ TWINSUK        │     877 │\n",
      "├────────────────┼─────────┤\n",
      "│ UKHLS          │     471 │\n",
      "├────────────────┼─────────┤\n",
      "│ total          │   37371 │\n",
      "╘════════════════╧═════════╛\n"
     ]
    }
   ],
   "source": [
    "gb_cohort = document3.get_cohort_count()\n",
    "print(gb_cohort.to_markdown(index=False, tablefmt=\"fancy_grid\"))"
   ]
  },
  {
   "attachments": {},
   "cell_type": "markdown",
   "id": "f8931224",
   "metadata": {},
   "source": [
    "**2.4 IAPT Demographics and Referral**"
   ]
  },
  {
   "attachments": {},
   "cell_type": "markdown",
   "id": "f052aba6",
   "metadata": {},
   "source": [
    "**Table 4** The number of participants from each LPS that are represented in the IAPT_demographics_and_referral dataset in the UK LLC TRE  \n",
    "(**Note**: numbers relate to the most recent extract of NHS England data)"
   ]
  },
  {
   "cell_type": "code",
   "execution_count": 6,
   "id": "0488b925",
   "metadata": {},
   "outputs": [
    {
     "name": "stdout",
     "output_type": "stream",
     "text": [
      "╒════════════════╤═════════╕\n",
      "│ cohort         │   count │\n",
      "╞════════════════╪═════════╡\n",
      "│ ALSPAC         │    1055 │\n",
      "├────────────────┼─────────┤\n",
      "│ BCS70          │     471 │\n",
      "├────────────────┼─────────┤\n",
      "│ BIB            │    1576 │\n",
      "├────────────────┼─────────┤\n",
      "│ ELSA           │     216 │\n",
      "├────────────────┼─────────┤\n",
      "│ EPICN          │     368 │\n",
      "├────────────────┼─────────┤\n",
      "│ EXCEED         │     589 │\n",
      "├────────────────┼─────────┤\n",
      "│ FENLAND        │     538 │\n",
      "├────────────────┼─────────┤\n",
      "│ GLAD           │   30213 │\n",
      "├────────────────┼─────────┤\n",
      "│ MCS            │    2267 │\n",
      "├────────────────┼─────────┤\n",
      "│ NCDS58         │     287 │\n",
      "├────────────────┼─────────┤\n",
      "│ NEXTSTEP       │     911 │\n",
      "├────────────────┼─────────┤\n",
      "│ NIHRBIO_COPING │    1482 │\n",
      "├────────────────┼─────────┤\n",
      "│ NSHD46         │      66 │\n",
      "├────────────────┼─────────┤\n",
      "│ TEDS           │    1502 │\n",
      "├────────────────┼─────────┤\n",
      "│ TRACKC19       │     944 │\n",
      "├────────────────┼─────────┤\n",
      "│ TWINSUK        │    1032 │\n",
      "├────────────────┼─────────┤\n",
      "│ UKHLS          │     550 │\n",
      "├────────────────┼─────────┤\n",
      "│ total          │   44067 │\n",
      "╘════════════════╧═════════╛\n"
     ]
    }
   ],
   "source": [
    "gb_cohort = document4.get_cohort_count()\n",
    "print(gb_cohort.to_markdown(index=False, tablefmt=\"fancy_grid\"))"
   ]
  },
  {
   "attachments": {},
   "cell_type": "markdown",
   "id": "2949541d",
   "metadata": {},
   "source": [
    "**2.5 IAPT Employment Status**"
   ]
  },
  {
   "attachments": {},
   "cell_type": "markdown",
   "id": "c3ea0f8c",
   "metadata": {},
   "source": [
    "**Table 5** The number of participants from each LPS that are represented in the IAPT_employment_status dataset in the UK LLC TRE  \n",
    "(**Note**: numbers relate to the most recent extract of NHS England data)"
   ]
  },
  {
   "cell_type": "code",
   "execution_count": 7,
   "id": "fea7cb7d",
   "metadata": {},
   "outputs": [
    {
     "name": "stdout",
     "output_type": "stream",
     "text": [
      "╒════════════════╤═════════╕\n",
      "│ cohort         │   count │\n",
      "╞════════════════╪═════════╡\n",
      "│ ALSPAC         │     886 │\n",
      "├────────────────┼─────────┤\n",
      "│ BCS70          │     376 │\n",
      "├────────────────┼─────────┤\n",
      "│ BIB            │    1157 │\n",
      "├────────────────┼─────────┤\n",
      "│ ELSA           │     168 │\n",
      "├────────────────┼─────────┤\n",
      "│ EPICN          │     267 │\n",
      "├────────────────┼─────────┤\n",
      "│ EXCEED         │     517 │\n",
      "├────────────────┼─────────┤\n",
      "│ FENLAND        │     465 │\n",
      "├────────────────┼─────────┤\n",
      "│ GLAD           │   23630 │\n",
      "├────────────────┼─────────┤\n",
      "│ MCS            │    1730 │\n",
      "├────────────────┼─────────┤\n",
      "│ NCDS58         │     228 │\n",
      "├────────────────┼─────────┤\n",
      "│ NEXTSTEP       │     684 │\n",
      "├────────────────┼─────────┤\n",
      "│ NIHRBIO_COPING │    1185 │\n",
      "├────────────────┼─────────┤\n",
      "│ NSHD46         │      50 │\n",
      "├────────────────┼─────────┤\n",
      "│ TEDS           │    1170 │\n",
      "├────────────────┼─────────┤\n",
      "│ TRACKC19       │     776 │\n",
      "├────────────────┼─────────┤\n",
      "│ TWINSUK        │     798 │\n",
      "├────────────────┼─────────┤\n",
      "│ UKHLS          │     440 │\n",
      "├────────────────┼─────────┤\n",
      "│ total          │   34527 │\n",
      "╘════════════════╧═════════╛\n"
     ]
    }
   ],
   "source": [
    "gb_cohort = document5.get_cohort_count()\n",
    "print(gb_cohort.to_markdown(index=False, tablefmt=\"fancy_grid\"))"
   ]
  },
  {
   "attachments": {},
   "cell_type": "markdown",
   "id": "cb496974",
   "metadata": {},
   "source": [
    "**2.6 IAPT Internet Enabled Therapies**"
   ]
  },
  {
   "attachments": {},
   "cell_type": "markdown",
   "id": "6f4484f3",
   "metadata": {},
   "source": [
    "**Table 6** The number of participants from each LPS that are represented in the IAPT_internet_enabled_therapies dataset in the UK LLC TRE  \n",
    "(**Note**: numbers relate to the most recent extract of NHS England data) "
   ]
  },
  {
   "cell_type": "code",
   "execution_count": 8,
   "id": "e642ca2c",
   "metadata": {},
   "outputs": [
    {
     "name": "stdout",
     "output_type": "stream",
     "text": [
      "╒════════════════╤═════════╕\n",
      "│ cohort         │ count   │\n",
      "╞════════════════╪═════════╡\n",
      "│ ALSPAC         │ 85      │\n",
      "├────────────────┼─────────┤\n",
      "│ BCS70          │ 18      │\n",
      "├────────────────┼─────────┤\n",
      "│ BIB            │ 36      │\n",
      "├────────────────┼─────────┤\n",
      "│ ELSA           │ <10     │\n",
      "├────────────────┼─────────┤\n",
      "│ EPICN          │ 0       │\n",
      "├────────────────┼─────────┤\n",
      "│ EXCEED         │ 24      │\n",
      "├────────────────┼─────────┤\n",
      "│ FENLAND        │ <10     │\n",
      "├────────────────┼─────────┤\n",
      "│ GLAD           │ 1528    │\n",
      "├────────────────┼─────────┤\n",
      "│ MCS            │ 120     │\n",
      "├────────────────┼─────────┤\n",
      "│ NCDS58         │ 10      │\n",
      "├────────────────┼─────────┤\n",
      "│ NEXTSTEP       │ 56      │\n",
      "├────────────────┼─────────┤\n",
      "│ NIHRBIO_COPING │ 72      │\n",
      "├────────────────┼─────────┤\n",
      "│ NSHD46         │ <10     │\n",
      "├────────────────┼─────────┤\n",
      "│ TEDS           │ 94      │\n",
      "├────────────────┼─────────┤\n",
      "│ TRACKC19       │ 83      │\n",
      "├────────────────┼─────────┤\n",
      "│ TWINSUK        │ 41      │\n",
      "├────────────────┼─────────┤\n",
      "│ UKHLS          │ 30      │\n",
      "├────────────────┼─────────┤\n",
      "│ total          │ 2197    │\n",
      "╘════════════════╧═════════╛\n"
     ]
    }
   ],
   "source": [
    "gb_cohort = document6.get_cohort_count()\n",
    "print(gb_cohort.to_markdown(index=False, tablefmt=\"fancy_grid\"))"
   ]
  },
  {
   "attachments": {},
   "cell_type": "markdown",
   "id": "9c6f5bee",
   "metadata": {},
   "source": [
    "**2.7 IAPT Mental and Physical Health Conditions**"
   ]
  },
  {
   "attachments": {},
   "cell_type": "markdown",
   "id": "b56ba8e3",
   "metadata": {},
   "source": [
    "**Table 7** The number of participants from each LPS that are represented in the IAPT_mental_and_physical_health_conditions dataset in the UK LLC TRE  \n",
    "(**Note**: numbers relate to the most recent extract of NHS England data)"
   ]
  },
  {
   "cell_type": "code",
   "execution_count": 9,
   "id": "0005f4f8",
   "metadata": {},
   "outputs": [
    {
     "name": "stdout",
     "output_type": "stream",
     "text": [
      "╒════════════════╤═════════╕\n",
      "│ cohort         │   count │\n",
      "╞════════════════╪═════════╡\n",
      "│ ALSPAC         │     853 │\n",
      "├────────────────┼─────────┤\n",
      "│ BCS70          │     393 │\n",
      "├────────────────┼─────────┤\n",
      "│ BIB            │    1447 │\n",
      "├────────────────┼─────────┤\n",
      "│ ELSA           │     182 │\n",
      "├────────────────┼─────────┤\n",
      "│ EPICN          │     269 │\n",
      "├────────────────┼─────────┤\n",
      "│ EXCEED         │     525 │\n",
      "├────────────────┼─────────┤\n",
      "│ FENLAND        │     487 │\n",
      "├────────────────┼─────────┤\n",
      "│ GLAD           │   25746 │\n",
      "├────────────────┼─────────┤\n",
      "│ MCS            │    1830 │\n",
      "├────────────────┼─────────┤\n",
      "│ NCDS58         │     249 │\n",
      "├────────────────┼─────────┤\n",
      "│ NEXTSTEP       │     750 │\n",
      "├────────────────┼─────────┤\n",
      "│ NIHRBIO_COPING │    1257 │\n",
      "├────────────────┼─────────┤\n",
      "│ NSHD46         │      55 │\n",
      "├────────────────┼─────────┤\n",
      "│ TEDS           │    1230 │\n",
      "├────────────────┼─────────┤\n",
      "│ TRACKC19       │     784 │\n",
      "├────────────────┼─────────┤\n",
      "│ TWINSUK        │     853 │\n",
      "├────────────────┼─────────┤\n",
      "│ UKHLS          │     476 │\n",
      "├────────────────┼─────────┤\n",
      "│ total          │   37386 │\n",
      "╘════════════════╧═════════╛\n"
     ]
    }
   ],
   "source": [
    "gb_cohort = document7.get_cohort_count()\n",
    "print(gb_cohort.to_markdown(index=False, tablefmt=\"fancy_grid\"))"
   ]
  },
  {
   "attachments": {},
   "cell_type": "markdown",
   "id": "d86fffc8",
   "metadata": {},
   "source": [
    "**2.8 IAPT Onward Referrals**"
   ]
  },
  {
   "attachments": {},
   "cell_type": "markdown",
   "id": "62e1ee9c",
   "metadata": {},
   "source": [
    "**Table 8** The number of participants from each LPS that are represented in the IAPT_onward_referrals datasets in the UK LLC TRE  \n",
    "(**Note**: numbers relate to the most recent extract of NHS England data)"
   ]
  },
  {
   "cell_type": "code",
   "execution_count": 10,
   "id": "ef28fdb3",
   "metadata": {},
   "outputs": [
    {
     "name": "stdout",
     "output_type": "stream",
     "text": [
      "╒════════════════╤═════════╕\n",
      "│ cohort         │ count   │\n",
      "╞════════════════╪═════════╡\n",
      "│ ALSPAC         │ <10     │\n",
      "├────────────────┼─────────┤\n",
      "│ BCS70          │ 15      │\n",
      "├────────────────┼─────────┤\n",
      "│ BIB            │ 164     │\n",
      "├────────────────┼─────────┤\n",
      "│ ELSA           │ <10     │\n",
      "├────────────────┼─────────┤\n",
      "│ EPICN          │ <10     │\n",
      "├────────────────┼─────────┤\n",
      "│ EXCEED         │ 12      │\n",
      "├────────────────┼─────────┤\n",
      "│ FENLAND        │ 48      │\n",
      "├────────────────┼─────────┤\n",
      "│ GLAD           │ 1206    │\n",
      "├────────────────┼─────────┤\n",
      "│ MCS            │ 81      │\n",
      "├────────────────┼─────────┤\n",
      "│ NCDS58         │ <10     │\n",
      "├────────────────┼─────────┤\n",
      "│ NEXTSTEP       │ 25      │\n",
      "├────────────────┼─────────┤\n",
      "│ NIHRBIO_COPING │ 56      │\n",
      "├────────────────┼─────────┤\n",
      "│ NSHD46         │ <10     │\n",
      "├────────────────┼─────────┤\n",
      "│ TEDS           │ 47      │\n",
      "├────────────────┼─────────┤\n",
      "│ TRACKC19       │ 33      │\n",
      "├────────────────┼─────────┤\n",
      "│ TWINSUK        │ 24      │\n",
      "├────────────────┼─────────┤\n",
      "│ UKHLS          │ 18      │\n",
      "├────────────────┼─────────┤\n",
      "│ total          │ 1729    │\n",
      "╘════════════════╧═════════╛\n"
     ]
    }
   ],
   "source": [
    "gb_cohort = document8.get_cohort_count()\n",
    "print(gb_cohort.to_markdown(index=False, tablefmt=\"fancy_grid\"))"
   ]
  },
  {
   "attachments": {},
   "cell_type": "markdown",
   "id": "ce6b0eb6",
   "metadata": {},
   "source": [
    "**2.9 IAPT Waiting Time Pauses**"
   ]
  },
  {
   "attachments": {},
   "cell_type": "markdown",
   "id": "451fd401",
   "metadata": {},
   "source": [
    "**Table 9** The number of participants from each LPS that are represented in the IAPT_waiting_time_pauses dataset in the UK LLC TRE  \n",
    "(**Note**: numbers relate to the most recent extract of NHS England data) "
   ]
  },
  {
   "cell_type": "code",
   "execution_count": 11,
   "id": "b9c2cb1e",
   "metadata": {},
   "outputs": [
    {
     "name": "stdout",
     "output_type": "stream",
     "text": [
      "╒════════════════╤═════════╕\n",
      "│ cohort         │ count   │\n",
      "╞════════════════╪═════════╡\n",
      "│ ALSPAC         │ <10     │\n",
      "├────────────────┼─────────┤\n",
      "│ BCS70          │ 18      │\n",
      "├────────────────┼─────────┤\n",
      "│ BIB            │ <10     │\n",
      "├────────────────┼─────────┤\n",
      "│ ELSA           │ <10     │\n",
      "├────────────────┼─────────┤\n",
      "│ EPICN          │ <10     │\n",
      "├────────────────┼─────────┤\n",
      "│ EXCEED         │ <10     │\n",
      "├────────────────┼─────────┤\n",
      "│ FENLAND        │ 14      │\n",
      "├────────────────┼─────────┤\n",
      "│ GLAD           │ 1523    │\n",
      "├────────────────┼─────────┤\n",
      "│ MCS            │ 94      │\n",
      "├────────────────┼─────────┤\n",
      "│ NCDS58         │ 13      │\n",
      "├────────────────┼─────────┤\n",
      "│ NEXTSTEP       │ 43      │\n",
      "├────────────────┼─────────┤\n",
      "│ NIHRBIO_COPING │ 59      │\n",
      "├────────────────┼─────────┤\n",
      "│ NSHD46         │ <10     │\n",
      "├────────────────┼─────────┤\n",
      "│ TEDS           │ 61      │\n",
      "├────────────────┼─────────┤\n",
      "│ TRACKC19       │ 26      │\n",
      "├────────────────┼─────────┤\n",
      "│ TWINSUK        │ 58      │\n",
      "├────────────────┼─────────┤\n",
      "│ UKHLS          │ 21      │\n",
      "├────────────────┼─────────┤\n",
      "│ total          │ 1930    │\n",
      "╘════════════════╧═════════╛\n"
     ]
    }
   ],
   "source": [
    "gb_cohort = document9.get_cohort_count()\n",
    "print(gb_cohort.to_markdown(index=False, tablefmt=\"fancy_grid\"))"
   ]
  },
  {
   "attachments": {},
   "cell_type": "markdown",
   "id": "4d7cab9b",
   "metadata": {},
   "source": [
    "## 3. Helpful syntax\n",
    "Below we will include syntax that may be helpful to other researchers in the UK LLC TRE. For longer scripts, we will include a snippet of the code plus a link to Git where you can find the full script. "
   ]
  },
  {
   "cell_type": "code",
   "execution_count": null,
   "id": "16a04f51",
   "metadata": {},
   "outputs": [],
   "source": []
  }
 ],
 "metadata": {
  "kernelspec": {
   "display_name": "Python 3",
   "language": "python",
   "name": "python3"
  },
  "language_info": {
   "codemirror_mode": {
    "name": "ipython",
    "version": 3
   },
   "file_extension": ".py",
   "mimetype": "text/x-python",
   "name": "python",
   "nbconvert_exporter": "python",
   "pygments_lexer": "ipython3",
   "version": "3.12.0"
  }
 },
 "nbformat": 4,
 "nbformat_minor": 5
}
