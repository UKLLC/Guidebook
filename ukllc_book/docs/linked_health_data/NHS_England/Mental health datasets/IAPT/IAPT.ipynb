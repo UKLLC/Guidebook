{
 "cells": [
  {
   "attachments": {},
   "cell_type": "markdown",
   "id": "c928623b",
   "metadata": {},
   "source": [
    "# Talking Therapies for Anxiety and Depression dataset"
   ]
  },
  {
   "cell_type": "code",
   "execution_count": 12,
   "id": "910dadbd",
   "metadata": {},
   "outputs": [],
   "source": [
    "# define target dataset to document\n",
    "schema = 'nhsd'\n",
    "table = 'IAPT'\n",
    "table1 = 'IAPT_care_activities'\n",
    "table2 = 'IAPT_care_cluster'\n",
    "table3 = 'IAPT_coded_scored_assessments'\n",
    "table4 = 'IAPT_demographics_and_referral'\n",
    "table5 = 'IAPT_employment_status'\n",
    "table6 = 'IAPT_internet_enabled_therapies'\n",
    "table7 = 'IAPT_mental_and_physical_health_conditions'\n",
    "table8 = 'IAPT_onward_referrals'\n",
    "table9 = 'IAPT_waiting_time_pauses'\n",
    "version = 'v0003'\n",
    "# import functions from script helper\n",
    "import sys\n",
    "script_fp = \"../../../../scripts/\"\n",
    "sys.path.insert(0, script_fp)\n",
    "from data_doc_helper import DocHelper\n",
    "# create instance\n",
    "document = DocHelper(schema, table, version, script_fp)\n",
    "document1 = DocHelper(schema, table1, version, script_fp)\n",
    "document2 = DocHelper(schema, table2, version, script_fp)\n",
    "document3 = DocHelper(schema, table3, version, script_fp)\n",
    "document4 = DocHelper(schema, table4, version, script_fp)\n",
    "document5 = DocHelper(schema, table5, version, script_fp)\n",
    "document6 = DocHelper(schema, table6, version, script_fp)\n",
    "document7 = DocHelper(schema, table7, version, script_fp)\n",
    "document8 = DocHelper(schema, table8, version, script_fp)\n",
    "document9 = DocHelper(schema, table9, version, script_fp)\n",
    "# markdown/code hybrid cell module requirement\n",
    "from IPython.display import display, Markdown"
   ]
  },
  {
   "cell_type": "markdown",
   "id": "2789c326",
   "metadata": {},
   "source": [
    "## 1. Summary\n",
    "This dataset was previously known as the **Improving Access to Psychological Therapies (IAPT) Data Set**. In the UK LLC TRE this dataset comprises nine separate datasets. "
   ]
  },
  {
   "cell_type": "code",
   "execution_count": 13,
   "id": "791afe25",
   "metadata": {},
   "outputs": [
    {
     "data": {
      "text/html": [
       "<style type=\"text/css\">\n",
       "#T_f9119 th {\n",
       "  text-align: left;\n",
       "}\n",
       "#T_f9119_row0_col0, #T_f9119_row1_col0, #T_f9119_row2_col0, #T_f9119_row3_col0, #T_f9119_row4_col0, #T_f9119_row5_col0, #T_f9119_row6_col0, #T_f9119_row7_col0, #T_f9119_row8_col0, #T_f9119_row9_col0, #T_f9119_row10_col0, #T_f9119_row11_col0, #T_f9119_row12_col0, #T_f9119_row13_col0, #T_f9119_row14_col0, #T_f9119_row15_col0, #T_f9119_row16_col0, #T_f9119_row17_col0 {\n",
       "  text-align: left;\n",
       "}\n",
       "</style>\n",
       "<table id=\"T_f9119\" style=\"font-size: 14px\">\n",
       "  <thead>\n",
       "    <tr>\n",
       "      <th class=\"index_name level0\" >Dataset descriptor</th>\n",
       "      <th id=\"T_f9119_level0_col0\" class=\"col_heading level0 col0\" >Dataset-specific information</th>\n",
       "    </tr>\n",
       "  </thead>\n",
       "  <tbody>\n",
       "    <tr>\n",
       "      <th id=\"T_f9119_level0_row0\" class=\"row_heading level0 row0\" >Name of dataset in TRE</th>\n",
       "      <td id=\"T_f9119_row0_col0\" class=\"data row0 col0\" >IAPT</td>\n",
       "    </tr>\n",
       "    <tr>\n",
       "      <th id=\"T_f9119_level0_row1\" class=\"row_heading level0 row1\" >Other name</th>\n",
       "      <td id=\"T_f9119_row1_col0\" class=\"data row1 col0\" >Improving Access to Psychological Therapies Data Set</td>\n",
       "    </tr>\n",
       "    <tr>\n",
       "      <th id=\"T_f9119_level0_row2\" class=\"row_heading level0 row2\" >Owner</th>\n",
       "      <td id=\"T_f9119_row2_col0\" class=\"data row2 col0\" >NHS England</td>\n",
       "    </tr>\n",
       "    <tr>\n",
       "      <th id=\"T_f9119_level0_row3\" class=\"row_heading level0 row3\" >Geographical coverage</th>\n",
       "      <td id=\"T_f9119_row3_col0\" class=\"data row3 col0\" >England</td>\n",
       "    </tr>\n",
       "    <tr>\n",
       "      <th id=\"T_f9119_level0_row4\" class=\"row_heading level0 row4\" >Temporal coverage</th>\n",
       "      <td id=\"T_f9119_row4_col0\" class=\"data row4 col0\" >01/04/2012 onwards</td>\n",
       "    </tr>\n",
       "    <tr>\n",
       "      <th id=\"T_f9119_level0_row5\" class=\"row_heading level0 row5\" >TRE temporal coverage </th>\n",
       "      <td id=\"T_f9119_row5_col0\" class=\"data row5 col0\" >01/04/2012 onwards</td>\n",
       "    </tr>\n",
       "    <tr>\n",
       "      <th id=\"T_f9119_level0_row6\" class=\"row_heading level0 row6\" >Frequency of update</th>\n",
       "      <td id=\"T_f9119_row6_col0\" class=\"data row6 col0\" >None</td>\n",
       "    </tr>\n",
       "    <tr>\n",
       "      <th id=\"T_f9119_level0_row7\" class=\"row_heading level0 row7\" >Date of last extract</th>\n",
       "      <td id=\"T_f9119_row7_col0\" class=\"data row7 col0\" >None</td>\n",
       "    </tr>\n",
       "    <tr>\n",
       "      <th id=\"T_f9119_level0_row8\" class=\"row_heading level0 row8\" >Keywords</th>\n",
       "      <td id=\"T_f9119_row8_col0\" class=\"data row8 col0\" >Mental health, talking therapies</td>\n",
       "    </tr>\n",
       "    <tr>\n",
       "      <th id=\"T_f9119_level0_row9\" class=\"row_heading level0 row9\" >Short description</th>\n",
       "      <td id=\"T_f9119_row9_col0\" class=\"data row9 col0\" >None</td>\n",
       "    </tr>\n",
       "    <tr>\n",
       "      <th id=\"T_f9119_level0_row10\" class=\"row_heading level0 row10\" >DOI</th>\n",
       "      <td id=\"T_f9119_row10_col0\" class=\"data row10 col0\" >None</td>\n",
       "    </tr>\n",
       "    <tr>\n",
       "      <th id=\"T_f9119_level0_row11\" class=\"row_heading level0 row11\" >Data resolution </th>\n",
       "      <td id=\"T_f9119_row11_col0\" class=\"data row11 col0\" >None</td>\n",
       "    </tr>\n",
       "    <tr>\n",
       "      <th id=\"T_f9119_level0_row12\" class=\"row_heading level0 row12\" >Number of variables</th>\n",
       "      <td id=\"T_f9119_row12_col0\" class=\"data row12 col0\" >None</td>\n",
       "    </tr>\n",
       "    <tr>\n",
       "      <th id=\"T_f9119_level0_row13\" class=\"row_heading level0 row13\" >Number of participants</th>\n",
       "      <td id=\"T_f9119_row13_col0\" class=\"data row13 col0\" >None</td>\n",
       "    </tr>\n",
       "    <tr>\n",
       "      <th id=\"T_f9119_level0_row14\" class=\"row_heading level0 row14\" >Number of observations</th>\n",
       "      <td id=\"T_f9119_row14_col0\" class=\"data row14 col0\" >None</td>\n",
       "    </tr>\n",
       "    <tr>\n",
       "      <th id=\"T_f9119_level0_row15\" class=\"row_heading level0 row15\" >Version </th>\n",
       "      <td id=\"T_f9119_row15_col0\" class=\"data row15 col0\" >None</td>\n",
       "    </tr>\n",
       "    <tr>\n",
       "      <th id=\"T_f9119_level0_row16\" class=\"row_heading level0 row16\" >Key link</th>\n",
       "      <td id=\"T_f9119_row16_col0\" class=\"data row16 col0\" >https://digital.nhs.uk/data-and-information/data-collections-and-data-sets/data-sets/improving-access-to-psychological-therapies-data-set/improving-access-to-psychological-therapies-data-set-reports</td>\n",
       "    </tr>\n",
       "    <tr>\n",
       "      <th id=\"T_f9119_level0_row17\" class=\"row_heading level0 row17\" >Specific restrictions to data use</th>\n",
       "      <td id=\"T_f9119_row17_col0\" class=\"data row17 col0\" >None</td>\n",
       "    </tr>\n",
       "  </tbody>\n",
       "</table>\n"
      ],
      "text/plain": [
       "<pandas.io.formats.style.Styler at 0x22a8f3c3e00>"
      ]
     },
     "metadata": {},
     "output_type": "display_data"
    }
   ],
   "source": [
    "display(document.style_table(document.get_dataset_info()))"
   ]
  },
  {
   "attachments": {},
   "cell_type": "markdown",
   "id": "ee2455db",
   "metadata": {},
   "source": [
    "## 2. Metrics\n",
    "The tables below summarise the nine datasets that make up the IAPT dataset in the UK LLC TRE."
   ]
  },
  {
   "attachments": {},
   "cell_type": "markdown",
   "id": "784c3f31",
   "metadata": {},
   "source": [
    "**2.1 IAPT Care Activities**"
   ]
  },
  {
   "attachments": {},
   "cell_type": "markdown",
   "id": "e0d88fc3",
   "metadata": {},
   "source": [
    "**Table 1** The number of participants from each LPS that are represented in the IAPT_Care_Activities dataset in the UK LLC TRE  \n",
    "(**Note**: numbers relate to the most recent extract of NHS England data) "
   ]
  },
  {
   "cell_type": "code",
   "execution_count": 24,
   "id": "877ef22f",
   "metadata": {},
   "outputs": [
    {
     "name": "stdout",
     "output_type": "stream",
     "text": [
      "╒════════════════╤═════════════════════╕\n",
      "│ LPS            │   Participant count │\n",
      "╞════════════════╪═════════════════════╡\n",
      "│ ALSPAC         │                 951 │\n",
      "├────────────────┼─────────────────────┤\n",
      "│ BCS70          │                 420 │\n",
      "├────────────────┼─────────────────────┤\n",
      "│ BIB            │                1411 │\n",
      "├────────────────┼─────────────────────┤\n",
      "│ ELSA           │                 190 │\n",
      "├────────────────┼─────────────────────┤\n",
      "│ EPICN          │                 334 │\n",
      "├────────────────┼─────────────────────┤\n",
      "│ EXCEED         │                 524 │\n",
      "├────────────────┼─────────────────────┤\n",
      "│ FENLAND        │                 500 │\n",
      "├────────────────┼─────────────────────┤\n",
      "│ GLAD           │               27043 │\n",
      "├────────────────┼─────────────────────┤\n",
      "│ MCS            │                1980 │\n",
      "├────────────────┼─────────────────────┤\n",
      "│ NCDS58         │                 248 │\n",
      "├────────────────┼─────────────────────┤\n",
      "│ NEXTSTEP       │                 828 │\n",
      "├────────────────┼─────────────────────┤\n",
      "│ NIHRBIO_COPING │                1373 │\n",
      "├────────────────┼─────────────────────┤\n",
      "│ NSHD46         │                  58 │\n",
      "├────────────────┼─────────────────────┤\n",
      "│ TEDS           │                1315 │\n",
      "├────────────────┼─────────────────────┤\n",
      "│ TRACKC19       │                 884 │\n",
      "├────────────────┼─────────────────────┤\n",
      "│ TWINSUK        │                 928 │\n",
      "├────────────────┼─────────────────────┤\n",
      "│ UKHLS          │                 489 │\n",
      "├────────────────┼─────────────────────┤\n",
      "│ TOTAL          │               39476 │\n",
      "╘════════════════╧═════════════════════╛\n"
     ]
    }
   ],
   "source": [
    "gb_cohort = document1.get_cohort_count()\n",
    "print(gb_cohort.to_markdown(index=False, tablefmt=\"fancy_grid\"))"
   ]
  },
  {
   "attachments": {},
   "cell_type": "markdown",
   "id": "f7bfffd3",
   "metadata": {},
   "source": [
    "**2.2 IAPT Care Cluster**"
   ]
  },
  {
   "attachments": {},
   "cell_type": "markdown",
   "id": "3ab7db70",
   "metadata": {},
   "source": [
    "**Table 2** The number of participants from each LPS that are represented in the IAPT_Care_Cluster dataset in the UK LLC TRE  \n",
    "(**Note**: numbers relate to the most recent extract of NHS England data)"
   ]
  },
  {
   "cell_type": "code",
   "execution_count": 15,
   "id": "cc8e7c87",
   "metadata": {},
   "outputs": [
    {
     "name": "stdout",
     "output_type": "stream",
     "text": [
      "╒════════════════╤═════════════════════╕\n",
      "│ LPS            │   Participant count │\n",
      "╞════════════════╪═════════════════════╡\n",
      "│ ALSPAC         │                 451 │\n",
      "├────────────────┼─────────────────────┤\n",
      "│ BCS70          │                 310 │\n",
      "├────────────────┼─────────────────────┤\n",
      "│ BIB            │                 810 │\n",
      "├────────────────┼─────────────────────┤\n",
      "│ ELSA           │                 140 │\n",
      "├────────────────┼─────────────────────┤\n",
      "│ EPICN          │                 101 │\n",
      "├────────────────┼─────────────────────┤\n",
      "│ EXCEED         │                 470 │\n",
      "├────────────────┼─────────────────────┤\n",
      "│ FENLAND        │                 347 │\n",
      "├────────────────┼─────────────────────┤\n",
      "│ GLAD           │               19557 │\n",
      "├────────────────┼─────────────────────┤\n",
      "│ MCS            │                1363 │\n",
      "├────────────────┼─────────────────────┤\n",
      "│ NCDS58         │                 177 │\n",
      "├────────────────┼─────────────────────┤\n",
      "│ NEXTSTEP       │                 562 │\n",
      "├────────────────┼─────────────────────┤\n",
      "│ NIHRBIO_COPING │                 918 │\n",
      "├────────────────┼─────────────────────┤\n",
      "│ NSHD46         │                  39 │\n",
      "├────────────────┼─────────────────────┤\n",
      "│ TEDS           │                 893 │\n",
      "├────────────────┼─────────────────────┤\n",
      "│ TRACKC19       │                 563 │\n",
      "├────────────────┼─────────────────────┤\n",
      "│ TWINSUK        │                 638 │\n",
      "├────────────────┼─────────────────────┤\n",
      "│ UKHLS          │                 328 │\n",
      "├────────────────┼─────────────────────┤\n",
      "│ TOTAL          │               27667 │\n",
      "╘════════════════╧═════════════════════╛\n"
     ]
    }
   ],
   "source": [
    "gb_cohort = document2.get_cohort_count()\n",
    "print(gb_cohort.to_markdown(index=False, tablefmt=\"fancy_grid\"))"
   ]
  },
  {
   "attachments": {},
   "cell_type": "markdown",
   "id": "7c537db9",
   "metadata": {},
   "source": [
    "**2.3 IAPT Coded Scored Assessments**"
   ]
  },
  {
   "attachments": {},
   "cell_type": "markdown",
   "id": "e089d5a7",
   "metadata": {},
   "source": [
    "**Table 3** The number of participants from each LPS that are represented in the IAPT_Coded_Score_Assessments dataset in the UK LLC TRE  \n",
    "**Note**: numbers relate to the most recent extract of NHS England data) "
   ]
  },
  {
   "cell_type": "code",
   "execution_count": 16,
   "id": "81c54745",
   "metadata": {},
   "outputs": [
    {
     "name": "stdout",
     "output_type": "stream",
     "text": [
      "╒════════════════╤═════════════════════╕\n",
      "│ LPS            │   Participant count │\n",
      "╞════════════════╪═════════════════════╡\n",
      "│ ALSPAC         │                 913 │\n",
      "├────────────────┼─────────────────────┤\n",
      "│ BCS70          │                 397 │\n",
      "├────────────────┼─────────────────────┤\n",
      "│ BIB            │                1184 │\n",
      "├────────────────┼─────────────────────┤\n",
      "│ ELSA           │                 179 │\n",
      "├────────────────┼─────────────────────┤\n",
      "│ EPICN          │                 264 │\n",
      "├────────────────┼─────────────────────┤\n",
      "│ EXCEED         │                 514 │\n",
      "├────────────────┼─────────────────────┤\n",
      "│ FENLAND        │                 465 │\n",
      "├────────────────┼─────────────────────┤\n",
      "│ GLAD           │               25832 │\n",
      "├────────────────┼─────────────────────┤\n",
      "│ MCS            │                1812 │\n",
      "├────────────────┼─────────────────────┤\n",
      "│ NCDS58         │                 234 │\n",
      "├────────────────┼─────────────────────┤\n",
      "│ NEXTSTEP       │                 765 │\n",
      "├────────────────┼─────────────────────┤\n",
      "│ NIHRBIO_COPING │                1310 │\n",
      "├────────────────┼─────────────────────┤\n",
      "│ NSHD46         │                  54 │\n",
      "├────────────────┼─────────────────────┤\n",
      "│ TEDS           │                1241 │\n",
      "├────────────────┼─────────────────────┤\n",
      "│ TRACKC19       │                 837 │\n",
      "├────────────────┼─────────────────────┤\n",
      "│ TWINSUK        │                 877 │\n",
      "├────────────────┼─────────────────────┤\n",
      "│ UKHLS          │                 471 │\n",
      "├────────────────┼─────────────────────┤\n",
      "│ TOTAL          │               37349 │\n",
      "╘════════════════╧═════════════════════╛\n"
     ]
    }
   ],
   "source": [
    "gb_cohort = document3.get_cohort_count()\n",
    "print(gb_cohort.to_markdown(index=False, tablefmt=\"fancy_grid\"))"
   ]
  },
  {
   "attachments": {},
   "cell_type": "markdown",
   "id": "f8931224",
   "metadata": {},
   "source": [
    "**2.4 IAPT Demographics and Referral**"
   ]
  },
  {
   "attachments": {},
   "cell_type": "markdown",
   "id": "f052aba6",
   "metadata": {},
   "source": [
    "**Table 4** The number of participants from each LPS that are represented in the IAPT_demographics_and_referral dataset in the UK LLC TRE  \n",
    "(**Note**: numbers relate to the most recent extract of NHS England data)"
   ]
  },
  {
   "cell_type": "code",
   "execution_count": 17,
   "id": "0488b925",
   "metadata": {},
   "outputs": [
    {
     "name": "stdout",
     "output_type": "stream",
     "text": [
      "╒════════════════╤═════════════════════╕\n",
      "│ LPS            │   Participant count │\n",
      "╞════════════════╪═════════════════════╡\n",
      "│ ALSPAC         │                1055 │\n",
      "├────────────────┼─────────────────────┤\n",
      "│ BCS70          │                 473 │\n",
      "├────────────────┼─────────────────────┤\n",
      "│ BIB            │                1576 │\n",
      "├────────────────┼─────────────────────┤\n",
      "│ ELSA           │                 216 │\n",
      "├────────────────┼─────────────────────┤\n",
      "│ EPICN          │                 368 │\n",
      "├────────────────┼─────────────────────┤\n",
      "│ EXCEED         │                 589 │\n",
      "├────────────────┼─────────────────────┤\n",
      "│ FENLAND        │                 538 │\n",
      "├────────────────┼─────────────────────┤\n",
      "│ GLAD           │               30184 │\n",
      "├────────────────┼─────────────────────┤\n",
      "│ MCS            │                2262 │\n",
      "├────────────────┼─────────────────────┤\n",
      "│ NCDS58         │                 286 │\n",
      "├────────────────┼─────────────────────┤\n",
      "│ NEXTSTEP       │                 915 │\n",
      "├────────────────┼─────────────────────┤\n",
      "│ NIHRBIO_COPING │                1482 │\n",
      "├────────────────┼─────────────────────┤\n",
      "│ NSHD46         │                  66 │\n",
      "├────────────────┼─────────────────────┤\n",
      "│ TEDS           │                1502 │\n",
      "├────────────────┼─────────────────────┤\n",
      "│ TRACKC19       │                 944 │\n",
      "├────────────────┼─────────────────────┤\n",
      "│ TWINSUK        │                1032 │\n",
      "├────────────────┼─────────────────────┤\n",
      "│ UKHLS          │                 550 │\n",
      "├────────────────┼─────────────────────┤\n",
      "│ TOTAL          │               44038 │\n",
      "╘════════════════╧═════════════════════╛\n"
     ]
    }
   ],
   "source": [
    "gb_cohort = document4.get_cohort_count()\n",
    "print(gb_cohort.to_markdown(index=False, tablefmt=\"fancy_grid\"))"
   ]
  },
  {
   "attachments": {},
   "cell_type": "markdown",
   "id": "2949541d",
   "metadata": {},
   "source": [
    "**2.5 IAPT Employment Status**"
   ]
  },
  {
   "attachments": {},
   "cell_type": "markdown",
   "id": "c3ea0f8c",
   "metadata": {},
   "source": [
    "**Table 5** The number of participants from each LPS that are represented in the IAPT_employment_status dataset in the UK LLC TRE  \n",
    "(**Note**: numbers relate to the most recent extract of NHS England data)"
   ]
  },
  {
   "cell_type": "code",
   "execution_count": 18,
   "id": "fea7cb7d",
   "metadata": {},
   "outputs": [
    {
     "name": "stdout",
     "output_type": "stream",
     "text": [
      "╒════════════════╤═════════════════════╕\n",
      "│ LPS            │   Participant count │\n",
      "╞════════════════╪═════════════════════╡\n",
      "│ ALSPAC         │                 886 │\n",
      "├────────────────┼─────────────────────┤\n",
      "│ BCS70          │                 378 │\n",
      "├────────────────┼─────────────────────┤\n",
      "│ BIB            │                1157 │\n",
      "├────────────────┼─────────────────────┤\n",
      "│ ELSA           │                 168 │\n",
      "├────────────────┼─────────────────────┤\n",
      "│ EPICN          │                 267 │\n",
      "├────────────────┼─────────────────────┤\n",
      "│ EXCEED         │                 517 │\n",
      "├────────────────┼─────────────────────┤\n",
      "│ FENLAND        │                 465 │\n",
      "├────────────────┼─────────────────────┤\n",
      "│ GLAD           │               23611 │\n",
      "├────────────────┼─────────────────────┤\n",
      "│ MCS            │                1725 │\n",
      "├────────────────┼─────────────────────┤\n",
      "│ NCDS58         │                 227 │\n",
      "├────────────────┼─────────────────────┤\n",
      "│ NEXTSTEP       │                 687 │\n",
      "├────────────────┼─────────────────────┤\n",
      "│ NIHRBIO_COPING │                1185 │\n",
      "├────────────────┼─────────────────────┤\n",
      "│ NSHD46         │                  50 │\n",
      "├────────────────┼─────────────────────┤\n",
      "│ TEDS           │                1170 │\n",
      "├────────────────┼─────────────────────┤\n",
      "│ TRACKC19       │                 776 │\n",
      "├────────────────┼─────────────────────┤\n",
      "│ TWINSUK        │                 798 │\n",
      "├────────────────┼─────────────────────┤\n",
      "│ UKHLS          │                 440 │\n",
      "├────────────────┼─────────────────────┤\n",
      "│ TOTAL          │               34507 │\n",
      "╘════════════════╧═════════════════════╛\n"
     ]
    }
   ],
   "source": [
    "gb_cohort = document5.get_cohort_count()\n",
    "print(gb_cohort.to_markdown(index=False, tablefmt=\"fancy_grid\"))"
   ]
  },
  {
   "attachments": {},
   "cell_type": "markdown",
   "id": "cb496974",
   "metadata": {},
   "source": [
    "**2.6 IAPT Internet Enabled Therapies**"
   ]
  },
  {
   "attachments": {},
   "cell_type": "markdown",
   "id": "6f4484f3",
   "metadata": {},
   "source": [
    "**Table 6** The number of participants from each LPS that are represented in the IAPT_internet_enabled_therapies dataset in the UK LLC TRE  \n",
    "(**Note**: numbers relate to the most recent extract of NHS England data) "
   ]
  },
  {
   "cell_type": "code",
   "execution_count": 19,
   "id": "e642ca2c",
   "metadata": {},
   "outputs": [
    {
     "name": "stdout",
     "output_type": "stream",
     "text": [
      "╒════════════════╤═════════════════════╕\n",
      "│ LPS            │ Participant count   │\n",
      "╞════════════════╪═════════════════════╡\n",
      "│ ALSPAC         │ 85                  │\n",
      "├────────────────┼─────────────────────┤\n",
      "│ BCS70          │ 18                  │\n",
      "├────────────────┼─────────────────────┤\n",
      "│ BIB            │ 36                  │\n",
      "├────────────────┼─────────────────────┤\n",
      "│ ELSA           │ <10                 │\n",
      "├────────────────┼─────────────────────┤\n",
      "│ EPICN          │ 0                   │\n",
      "├────────────────┼─────────────────────┤\n",
      "│ EXCEED         │ 24                  │\n",
      "├────────────────┼─────────────────────┤\n",
      "│ FENLAND        │ <10                 │\n",
      "├────────────────┼─────────────────────┤\n",
      "│ GLAD           │ 1528                │\n",
      "├────────────────┼─────────────────────┤\n",
      "│ MCS            │ 120                 │\n",
      "├────────────────┼─────────────────────┤\n",
      "│ NCDS58         │ <10                 │\n",
      "├────────────────┼─────────────────────┤\n",
      "│ NEXTSTEP       │ 56                  │\n",
      "├────────────────┼─────────────────────┤\n",
      "│ NIHRBIO_COPING │ 72                  │\n",
      "├────────────────┼─────────────────────┤\n",
      "│ NSHD46         │ <10                 │\n",
      "├────────────────┼─────────────────────┤\n",
      "│ TEDS           │ 94                  │\n",
      "├────────────────┼─────────────────────┤\n",
      "│ TRACKC19       │ 83                  │\n",
      "├────────────────┼─────────────────────┤\n",
      "│ TWINSUK        │ 41                  │\n",
      "├────────────────┼─────────────────────┤\n",
      "│ UKHLS          │ 30                  │\n",
      "├────────────────┼─────────────────────┤\n",
      "│ TOTAL          │ 2187                │\n",
      "╘════════════════╧═════════════════════╛\n"
     ]
    }
   ],
   "source": [
    "gb_cohort = document6.get_cohort_count()\n",
    "print(gb_cohort.to_markdown(index=False, tablefmt=\"fancy_grid\"))"
   ]
  },
  {
   "attachments": {},
   "cell_type": "markdown",
   "id": "9c6f5bee",
   "metadata": {},
   "source": [
    "**2.7 IAPT Mental and Physical Health Conditions**"
   ]
  },
  {
   "attachments": {},
   "cell_type": "markdown",
   "id": "b56ba8e3",
   "metadata": {},
   "source": [
    "**Table 7** The number of participants from each LPS that are represented in the IAPT_mental_and_physical_health_conditions dataset in the UK LLC TRE  \n",
    "(**Note**: numbers relate to the most recent extract of NHS England data)"
   ]
  },
  {
   "cell_type": "code",
   "execution_count": 20,
   "id": "0005f4f8",
   "metadata": {},
   "outputs": [
    {
     "name": "stdout",
     "output_type": "stream",
     "text": [
      "╒════════════════╤═════════════════════╕\n",
      "│ LPS            │   Participant count │\n",
      "╞════════════════╪═════════════════════╡\n",
      "│ ALSPAC         │                 853 │\n",
      "├────────────────┼─────────────────────┤\n",
      "│ BCS70          │                 395 │\n",
      "├────────────────┼─────────────────────┤\n",
      "│ BIB            │                1447 │\n",
      "├────────────────┼─────────────────────┤\n",
      "│ ELSA           │                 182 │\n",
      "├────────────────┼─────────────────────┤\n",
      "│ EPICN          │                 269 │\n",
      "├────────────────┼─────────────────────┤\n",
      "│ EXCEED         │                 525 │\n",
      "├────────────────┼─────────────────────┤\n",
      "│ FENLAND        │                 487 │\n",
      "├────────────────┼─────────────────────┤\n",
      "│ GLAD           │               25723 │\n",
      "├────────────────┼─────────────────────┤\n",
      "│ MCS            │                1826 │\n",
      "├────────────────┼─────────────────────┤\n",
      "│ NCDS58         │                 248 │\n",
      "├────────────────┼─────────────────────┤\n",
      "│ NEXTSTEP       │                 754 │\n",
      "├────────────────┼─────────────────────┤\n",
      "│ NIHRBIO_COPING │                1257 │\n",
      "├────────────────┼─────────────────────┤\n",
      "│ NSHD46         │                  55 │\n",
      "├────────────────┼─────────────────────┤\n",
      "│ TEDS           │                1230 │\n",
      "├────────────────┼─────────────────────┤\n",
      "│ TRACKC19       │                 784 │\n",
      "├────────────────┼─────────────────────┤\n",
      "│ TWINSUK        │                 853 │\n",
      "├────────────────┼─────────────────────┤\n",
      "│ UKHLS          │                 476 │\n",
      "├────────────────┼─────────────────────┤\n",
      "│ TOTAL          │               37364 │\n",
      "╘════════════════╧═════════════════════╛\n"
     ]
    }
   ],
   "source": [
    "gb_cohort = document7.get_cohort_count()\n",
    "print(gb_cohort.to_markdown(index=False, tablefmt=\"fancy_grid\"))"
   ]
  },
  {
   "attachments": {},
   "cell_type": "markdown",
   "id": "d86fffc8",
   "metadata": {},
   "source": [
    "**2.8 IAPT Onward Referrals**"
   ]
  },
  {
   "attachments": {},
   "cell_type": "markdown",
   "id": "62e1ee9c",
   "metadata": {},
   "source": [
    "**Table 8** The number of participants from each LPS that are represented in the IAPT_onward_referrals datasets in the UK LLC TRE  \n",
    "(**Note**: numbers relate to the most recent extract of NHS England data)"
   ]
  },
  {
   "cell_type": "code",
   "execution_count": 21,
   "id": "ef28fdb3",
   "metadata": {},
   "outputs": [
    {
     "name": "stdout",
     "output_type": "stream",
     "text": [
      "╒════════════════╤═════════════════════╕\n",
      "│ LPS            │ Participant count   │\n",
      "╞════════════════╪═════════════════════╡\n",
      "│ ALSPAC         │ <10                 │\n",
      "├────────────────┼─────────────────────┤\n",
      "│ BCS70          │ 15                  │\n",
      "├────────────────┼─────────────────────┤\n",
      "│ BIB            │ 164                 │\n",
      "├────────────────┼─────────────────────┤\n",
      "│ ELSA           │ <10                 │\n",
      "├────────────────┼─────────────────────┤\n",
      "│ EPICN          │ <10                 │\n",
      "├────────────────┼─────────────────────┤\n",
      "│ EXCEED         │ 12                  │\n",
      "├────────────────┼─────────────────────┤\n",
      "│ FENLAND        │ 48                  │\n",
      "├────────────────┼─────────────────────┤\n",
      "│ GLAD           │ 1205                │\n",
      "├────────────────┼─────────────────────┤\n",
      "│ MCS            │ 81                  │\n",
      "├────────────────┼─────────────────────┤\n",
      "│ NCDS58         │ <10                 │\n",
      "├────────────────┼─────────────────────┤\n",
      "│ NEXTSTEP       │ 25                  │\n",
      "├────────────────┼─────────────────────┤\n",
      "│ NIHRBIO_COPING │ 56                  │\n",
      "├────────────────┼─────────────────────┤\n",
      "│ NSHD46         │ <10                 │\n",
      "├────────────────┼─────────────────────┤\n",
      "│ TEDS           │ 47                  │\n",
      "├────────────────┼─────────────────────┤\n",
      "│ TRACKC19       │ 33                  │\n",
      "├────────────────┼─────────────────────┤\n",
      "│ TWINSUK        │ 24                  │\n",
      "├────────────────┼─────────────────────┤\n",
      "│ UKHLS          │ 18                  │\n",
      "├────────────────┼─────────────────────┤\n",
      "│ TOTAL          │ 1728                │\n",
      "╘════════════════╧═════════════════════╛\n"
     ]
    }
   ],
   "source": [
    "gb_cohort = document8.get_cohort_count()\n",
    "print(gb_cohort.to_markdown(index=False, tablefmt=\"fancy_grid\"))"
   ]
  },
  {
   "attachments": {},
   "cell_type": "markdown",
   "id": "ce6b0eb6",
   "metadata": {},
   "source": [
    "**2.9 IAPT Waiting Time Pauses**"
   ]
  },
  {
   "attachments": {},
   "cell_type": "markdown",
   "id": "451fd401",
   "metadata": {},
   "source": [
    "**Table 9** The number of participants from each LPS that are represented in the IAPT_waiting_time_pauses dataset in the UK LLC TRE  \n",
    "(**Note**: numbers relate to the most recent extract of NHS England data) "
   ]
  },
  {
   "cell_type": "code",
   "execution_count": 22,
   "id": "b9c2cb1e",
   "metadata": {},
   "outputs": [
    {
     "name": "stdout",
     "output_type": "stream",
     "text": [
      "╒════════════════╤═════════════════════╕\n",
      "│ LPS            │ Participant count   │\n",
      "╞════════════════╪═════════════════════╡\n",
      "│ ALSPAC         │ <10                 │\n",
      "├────────────────┼─────────────────────┤\n",
      "│ BCS70          │ 18                  │\n",
      "├────────────────┼─────────────────────┤\n",
      "│ BIB            │ <10                 │\n",
      "├────────────────┼─────────────────────┤\n",
      "│ ELSA           │ <10                 │\n",
      "├────────────────┼─────────────────────┤\n",
      "│ EPICN          │ <10                 │\n",
      "├────────────────┼─────────────────────┤\n",
      "│ EXCEED         │ <10                 │\n",
      "├────────────────┼─────────────────────┤\n",
      "│ FENLAND        │ 14                  │\n",
      "├────────────────┼─────────────────────┤\n",
      "│ GLAD           │ 1522                │\n",
      "├────────────────┼─────────────────────┤\n",
      "│ MCS            │ 94                  │\n",
      "├────────────────┼─────────────────────┤\n",
      "│ NCDS58         │ 13                  │\n",
      "├────────────────┼─────────────────────┤\n",
      "│ NEXTSTEP       │ 43                  │\n",
      "├────────────────┼─────────────────────┤\n",
      "│ NIHRBIO_COPING │ 59                  │\n",
      "├────────────────┼─────────────────────┤\n",
      "│ NSHD46         │ <10                 │\n",
      "├────────────────┼─────────────────────┤\n",
      "│ TEDS           │ 61                  │\n",
      "├────────────────┼─────────────────────┤\n",
      "│ TRACKC19       │ 26                  │\n",
      "├────────────────┼─────────────────────┤\n",
      "│ TWINSUK        │ 58                  │\n",
      "├────────────────┼─────────────────────┤\n",
      "│ UKHLS          │ 21                  │\n",
      "├────────────────┼─────────────────────┤\n",
      "│ TOTAL          │ 1929                │\n",
      "╘════════════════╧═════════════════════╛\n"
     ]
    }
   ],
   "source": [
    "gb_cohort = document9.get_cohort_count()\n",
    "print(gb_cohort.to_markdown(index=False, tablefmt=\"fancy_grid\"))"
   ]
  },
  {
   "attachments": {},
   "cell_type": "markdown",
   "id": "4d7cab9b",
   "metadata": {},
   "source": [
    "## 3. Helpful syntax\n",
    "Below we will include syntax that may be helpful to other researchers in the UK LLC TRE. For longer scripts, we will include a snippet of the code plus a link to Git where you can find the full script. "
   ]
  },
  {
   "cell_type": "code",
   "execution_count": null,
   "id": "16a04f51",
   "metadata": {},
   "outputs": [],
   "source": []
  }
 ],
 "metadata": {
  "kernelspec": {
   "display_name": "Python 3",
   "language": "python",
   "name": "python3"
  },
  "language_info": {
   "codemirror_mode": {
    "name": "ipython",
    "version": 3
   },
   "file_extension": ".py",
   "mimetype": "text/x-python",
   "name": "python",
   "nbconvert_exporter": "python",
   "pygments_lexer": "ipython3",
   "version": "3.12.2"
  }
 },
 "nbformat": 4,
 "nbformat_minor": 5
}
