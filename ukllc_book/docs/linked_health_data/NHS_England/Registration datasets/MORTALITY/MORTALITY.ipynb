{
 "cells": [
  {
   "attachments": {},
   "cell_type": "markdown",
   "id": "c928623b",
   "metadata": {},
   "source": [
    "# Civil Registrations of Deaths (MORTALITY) Dataset\n",
    "## 1. Summary\n",
    "The information below is retrieved from the Health Data Gateway API developed by NHS England, with additional fields added by UK LLC (indicated by italics)."
   ]
  },
  {
   "cell_type": "code",
   "execution_count": 1,
   "id": "910dadbd",
   "metadata": {},
   "outputs": [],
   "source": [
    "# define target dataset to document\n",
    "schema = 'nhsd'\n",
    "table = 'MORTALITY'\n",
    "version = 'v0002'\n",
    "# import functions from script helper\n",
    "import sys\n",
    "script_fp = \"../../../../scripts/\"\n",
    "sys.path.insert(0, script_fp)\n",
    "from data_doc_helper import DocHelper\n",
    "# create instance\n",
    "document = DocHelper(schema, table, version, script_fp)\n",
    "# markdown/code hybrid cell module requirement\n",
    "from IPython.display import display, Markdown"
   ]
  },
  {
   "cell_type": "code",
   "execution_count": 2,
   "id": "103f2c9b",
   "metadata": {},
   "outputs": [
    {
     "data": {
      "text/markdown": [
       "**NHS England title of dataset:** Civil Registration - Deaths"
      ],
      "text/plain": [
       "<IPython.core.display.Markdown object>"
      ]
     },
     "metadata": {},
     "output_type": "display_data"
    },
    {
     "data": {
      "text/markdown": [
       "***Dataset name in UK LLC TRE***: *nhsd.MORTALITY*"
      ],
      "text/plain": [
       "<IPython.core.display.Markdown object>"
      ]
     },
     "metadata": {},
     "output_type": "display_data"
    },
    {
     "data": {
      "text/markdown": [
       "**Short abstract:** Deaths registration data (all deaths in England and Wales) collected from The Registrar General for England and Wales. Record-level person data set, where a record represents one death registration."
      ],
      "text/plain": [
       "<IPython.core.display.Markdown object>"
      ]
     },
     "metadata": {},
     "output_type": "display_data"
    },
    {
     "data": {
      "text/markdown": [
       "***Extended abstract***: *The Civil Registrations of Death dataset is collected by the [Office for National Statistics](https://www.ons.gov.uk/peoplepopulationandcommunity/birthsdeathsandmarriages/deaths). It is a legal requirement to report a death to a register office within five days. The informant provides demographic details to the registrar about the deceased, including occupation, sex, usual address, date and place of birth, marital status, date of death and place of death. If applicable, the informant also provides details about the deceased's spouse. If the deceased was a child, the full names and occupations of the parents are required. The informant usually also gives the Medical Certificate of Cause of Death (MCCD) to the registrar, which is a form completed by a medical practitioner when a death is certified. The MCCD includes information such as whether the body was seen after death, cause of death, when the deceased was last seen alive and whether a post-mortem was carried out. In instances where deaths are referred to and sometimes then investigated by a coroner, the coroner sends information to the registrar and this is used instead of the MCCD. The dataset includes details of all registered deaths in England and Wales since 1993. For further information see the [ONS Guide to Mortality Statistics.](https://www.ons.gov.uk/peoplepopulationandcommunity/birthsdeathsandmarriages/deaths/methodologies/userguidetomortalitystatisticsjuly2017#information-collected-at-death-registration)*"
      ],
      "text/plain": [
       "<IPython.core.display.Markdown object>"
      ]
     },
     "metadata": {},
     "output_type": "display_data"
    },
    {
     "data": {
      "text/markdown": [
       "**Geographical coverage:** United Kingdom,England"
      ],
      "text/plain": [
       "<IPython.core.display.Markdown object>"
      ]
     },
     "metadata": {},
     "output_type": "display_data"
    },
    {
     "data": {
      "text/markdown": [
       "**Temporal coverage:** 01/01/1993"
      ],
      "text/plain": [
       "<IPython.core.display.Markdown object>"
      ]
     },
     "metadata": {},
     "output_type": "display_data"
    },
    {
     "data": {
      "text/markdown": [
       "***Data available in UK LLC TRE from***: *01/01/1993 onwards*"
      ],
      "text/plain": [
       "<IPython.core.display.Markdown object>"
      ]
     },
     "metadata": {},
     "output_type": "display_data"
    },
    {
     "data": {
      "text/markdown": [
       "**Typical age range:** 0-150"
      ],
      "text/plain": [
       "<IPython.core.display.Markdown object>"
      ]
     },
     "metadata": {},
     "output_type": "display_data"
    },
    {
     "data": {
      "text/markdown": [
       "**Collection situation:** OTHER"
      ],
      "text/plain": [
       "<IPython.core.display.Markdown object>"
      ]
     },
     "metadata": {},
     "output_type": "display_data"
    },
    {
     "data": {
      "text/markdown": [
       "**Purpose:** ADMINISTRATIVE"
      ],
      "text/plain": [
       "<IPython.core.display.Markdown object>"
      ]
     },
     "metadata": {},
     "output_type": "display_data"
    },
    {
     "data": {
      "text/markdown": [
       "**Source:** OTHER"
      ],
      "text/plain": [
       "<IPython.core.display.Markdown object>"
      ]
     },
     "metadata": {},
     "output_type": "display_data"
    },
    {
     "data": {
      "text/markdown": [
       "**Pathway:** NOT APPLICABLE"
      ],
      "text/plain": [
       "<IPython.core.display.Markdown object>"
      ]
     },
     "metadata": {},
     "output_type": "display_data"
    },
    {
     "data": {
      "text/markdown": [
       "***Information collected***: *Demographic characteristics and details of deaths.*"
      ],
      "text/plain": [
       "<IPython.core.display.Markdown object>"
      ]
     },
     "metadata": {},
     "output_type": "display_data"
    },
    {
     "data": {
      "text/markdown": [
       "***Structure of dataset***: *Each death is represented by a distinct row of data.*"
      ],
      "text/plain": [
       "<IPython.core.display.Markdown object>"
      ]
     },
     "metadata": {},
     "output_type": "display_data"
    },
    {
     "data": {
      "text/markdown": [
       "***Update frequency in UK LLC TRE***: *Quarterly*"
      ],
      "text/plain": [
       "<IPython.core.display.Markdown object>"
      ]
     },
     "metadata": {},
     "output_type": "display_data"
    },
    {
     "data": {
      "text/markdown": [
       "***Dataset versions in UK LLC TRE***: *TBC*"
      ],
      "text/plain": [
       "<IPython.core.display.Markdown object>"
      ]
     },
     "metadata": {},
     "output_type": "display_data"
    },
    {
     "data": {
      "text/markdown": [
       "***Data quality issues***: *It is a legal requirement for all deaths to be registered and it is an offence for informants to provide knowingly false information. This means that civil registrations of death data provide the most complete information source for mortality statistics. The Registration Online System (RON) used by registrars conducts automatic checks. Most deaths (around 80%) have the underlying cause of death coded automatically; the remainder are coded manually by experienced coders. ICD-10 codes for cause of death replaced ICD-9 codes on 01/01/2001 and this may affect the interpretation of trends. For further details see section 12 of the [ONS Guide to Mortality Statistics,](https://www.ons.gov.uk/peoplepopulationandcommunity/birthsdeathsandmarriages/deaths/methodologies/userguidetomortalitystatisticsjuly2017#information-collected-at-death-registration) includes links to [Quality and Methodology Information Reports](https://www.ons.gov.uk/peoplepopulationandcommunity/birthsdeathsandmarriages/deaths/methodologies/mortalitystatisticsinenglandandwalesqmi).*"
      ],
      "text/plain": [
       "<IPython.core.display.Markdown object>"
      ]
     },
     "metadata": {},
     "output_type": "display_data"
    },
    {
     "data": {
      "text/markdown": [
       "***Restrictions to data usage***: *Medical purposes only (medical research) as defined in the NHS Act 2006: [https://www.legislation.gov.uk/ukpga/2006/41/part/13/crossheading/patient-information](https://www.legislation.gov.uk/ukpga/2006/41/part/13/crossheading/patient-information)*"
      ],
      "text/plain": [
       "<IPython.core.display.Markdown object>"
      ]
     },
     "metadata": {},
     "output_type": "display_data"
    },
    {
     "data": {
      "text/markdown": [
       "***Further information***: *[https://www.ons.gov.uk/peoplepopulationandcommunity/birthsdeathsandmarriages/deaths]((https://www.ons.gov.uk/peoplepopulationandcommunity/birthsdeathsandmarriages/deaths))*"
      ],
      "text/plain": [
       "<IPython.core.display.Markdown object>"
      ]
     },
     "metadata": {},
     "output_type": "display_data"
    }
   ],
   "source": [
    "# get api data\n",
    "dataset = document.get_api_data()\n",
    "display(Markdown(\"**NHS England title of dataset:** \"+dataset['datasetfields']['datautility']['title']))\n",
    "display(Markdown(\"***Dataset name in UK LLC TRE***: *nhsd.MORTALITY*\"))  \n",
    "display(Markdown(\"**Short abstract:** \"+dataset['datasetfields']['abstract']))\n",
    "display(Markdown(\"***Extended abstract***: *The Civil Registrations of Death dataset is collected by the [Office for National Statistics](https://www.ons.gov.uk/peoplepopulationandcommunity/birthsdeathsandmarriages/deaths). It is a legal requirement to report a death to a register office within five days. The informant provides demographic details to the registrar about the deceased, including occupation, sex, usual address, date and place of birth, marital status, date of death and place of death. If applicable, the informant also provides details about the deceased's spouse. If the deceased was a child, the full names and occupations of the parents are required. The informant usually also gives the Medical Certificate of Cause of Death (MCCD) to the registrar, which is a form completed by a medical practitioner when a death is certified. The MCCD includes information such as whether the body was seen after death, cause of death, when the deceased was last seen alive and whether a post-mortem was carried out. In instances where deaths are referred to and sometimes then investigated by a coroner, the coroner sends information to the registrar and this is used instead of the MCCD. The dataset includes details of all registered deaths in England and Wales since 1993. For further information see the [ONS Guide to Mortality Statistics.](https://www.ons.gov.uk/peoplepopulationandcommunity/birthsdeathsandmarriages/deaths/methodologies/userguidetomortalitystatisticsjuly2017#information-collected-at-death-registration)*\"))\n",
    "display(Markdown(\"**Geographical coverage:** \"+dataset['datasetfields']['geographicCoverage'][0]))\n",
    "display(Markdown(\"**Temporal coverage:** \"+dataset['datasetfields']['datasetStartDate']))\n",
    "display(Markdown(\"***Data available in UK LLC TRE from***: *01/01/1993 onwards*\"))\n",
    "display(Markdown(\"**Typical age range:** \"+dataset['datasetfields']['ageBand']))\n",
    "display(Markdown(\"**Collection situation:** \"+dataset['datasetv2']['provenance']['origin']['collectionSituation'][0]))\n",
    "display(Markdown(\"**Purpose:** \"+dataset['datasetv2']['provenance']['origin']['purpose'][0]))\n",
    "display(Markdown(\"**Source:** \"+dataset['datasetv2']['provenance']['origin']['source'][0]))\n",
    "display(Markdown(\"**Pathway:** \"+dataset['datasetv2']['coverage']['pathway']))\n",
    "display(Markdown(\"***Information collected***: *Demographic characteristics and details of deaths.*\"))  \n",
    "display(Markdown(\"***Structure of dataset***: *Each death is represented by a distinct row of data.*\"))  \n",
    "display(Markdown(\"***Update frequency in UK LLC TRE***: *Quarterly*\"))  \n",
    "display(Markdown(\"***Dataset versions in UK LLC TRE***: *TBC*\"))\n",
    "display(Markdown(\"***Data quality issues***: *It is a legal requirement for all deaths to be registered and it is an offence for informants to provide knowingly false information. This means that civil registrations of death data provide the most complete information source for mortality statistics. The Registration Online System (RON) used by registrars conducts automatic checks. Most deaths (around 80%) have the underlying cause of death coded automatically; the remainder are coded manually by experienced coders. ICD-10 codes for cause of death replaced ICD-9 codes on 01/01/2001 and this may affect the interpretation of trends. For further details see section 12 of the [ONS Guide to Mortality Statistics,](https://www.ons.gov.uk/peoplepopulationandcommunity/birthsdeathsandmarriages/deaths/methodologies/userguidetomortalitystatisticsjuly2017#information-collected-at-death-registration) includes links to [Quality and Methodology Information Reports](https://www.ons.gov.uk/peoplepopulationandcommunity/birthsdeathsandmarriages/deaths/methodologies/mortalitystatisticsinenglandandwalesqmi).*\"))  \n",
    "display(Markdown(\"***Restrictions to data usage***: *Medical purposes only (medical research) as defined in the NHS Act 2006: [https://www.legislation.gov.uk/ukpga/2006/41/part/13/crossheading/patient-information](https://www.legislation.gov.uk/ukpga/2006/41/part/13/crossheading/patient-information)*\"))  \n",
    "display(Markdown(\"***Further information***: *[https://www.ons.gov.uk/peoplepopulationandcommunity/birthsdeathsandmarriages/deaths](https://www.ons.gov.uk/peoplepopulationandcommunity/birthsdeathsandmarriages/deaths)*\"))\n"
   ]
  },
  {
   "attachments": {},
   "cell_type": "markdown",
   "id": "ee2455db",
   "metadata": {},
   "source": [
    "## 2. Metrics\n",
    "The tables below summarise the MORTALITY dataset in the UK LLC TRE."
   ]
  },
  {
   "attachments": {},
   "cell_type": "markdown",
   "id": "e0d88fc3",
   "metadata": {},
   "source": [
    "**Table 1** The number of participants from each LPS that are represented in the MORTALITY dataset in the UK LLC TRE   \n",
    "(**Note**: numbers relate to the most recent extract of NHS England data)\n"
   ]
  },
  {
   "cell_type": "code",
   "execution_count": 3,
   "id": "877ef22f",
   "metadata": {},
   "outputs": [
    {
     "name": "stdout",
     "output_type": "stream",
     "text": [
      "╒════════════════╤═════════╕\n",
      "│ cohort         │   count │\n",
      "╞════════════════╪═════════╡\n",
      "│ ALSPAC         │      10 │\n",
      "├────────────────┼─────────┤\n",
      "│ BCS70          │      98 │\n",
      "├────────────────┼─────────┤\n",
      "│ BIB            │     209 │\n",
      "├────────────────┼─────────┤\n",
      "│ ELSA           │     647 │\n",
      "├────────────────┼─────────┤\n",
      "│ EPICN          │    2848 │\n",
      "├────────────────┼─────────┤\n",
      "│ EXCEED         │     155 │\n",
      "├────────────────┼─────────┤\n",
      "│ FENLAND        │     136 │\n",
      "├────────────────┼─────────┤\n",
      "│ GLAD           │     230 │\n",
      "├────────────────┼─────────┤\n",
      "│ MCS            │     295 │\n",
      "├────────────────┼─────────┤\n",
      "│ NCDS58         │     404 │\n",
      "├────────────────┼─────────┤\n",
      "│ NEXTSTEP       │      15 │\n",
      "├────────────────┼─────────┤\n",
      "│ NIHRBIO_COPING │     115 │\n",
      "├────────────────┼─────────┤\n",
      "│ NSHD46         │     897 │\n",
      "├────────────────┼─────────┤\n",
      "│ TEDS           │       0 │\n",
      "├────────────────┼─────────┤\n",
      "│ TRACKC19       │      57 │\n",
      "├────────────────┼─────────┤\n",
      "│ TWINSUK        │    1631 │\n",
      "├────────────────┼─────────┤\n",
      "│ UKHLS          │      83 │\n",
      "├────────────────┼─────────┤\n",
      "│ total          │    7830 │\n",
      "╘════════════════╧═════════╛\n"
     ]
    }
   ],
   "source": [
    "gb_cohort = document.get_cohort_count()\n",
    "print(gb_cohort.to_markdown(index=False, tablefmt=\"fancy_grid\"))"
   ]
  },
  {
   "attachments": {},
   "cell_type": "markdown",
   "id": "4d7cab9b",
   "metadata": {},
   "source": [
    "## 3. Helpful syntax\n",
    "Below we will include syntax that may be helpful to other researchers in the UK LLC TRE. For longer scripts, we will include a snippet of the code plus a link to Git where you can find the full script. "
   ]
  }
 ],
 "metadata": {
  "kernelspec": {
   "display_name": "Python 3 (ipykernel)",
   "language": "python",
   "name": "python3"
  },
  "language_info": {
   "codemirror_mode": {
    "name": "ipython",
    "version": 3
   },
   "file_extension": ".py",
   "mimetype": "text/x-python",
   "name": "python",
   "nbconvert_exporter": "python",
   "pygments_lexer": "ipython3",
   "version": "3.12.2"
  }
 },
 "nbformat": 4,
 "nbformat_minor": 5
}
