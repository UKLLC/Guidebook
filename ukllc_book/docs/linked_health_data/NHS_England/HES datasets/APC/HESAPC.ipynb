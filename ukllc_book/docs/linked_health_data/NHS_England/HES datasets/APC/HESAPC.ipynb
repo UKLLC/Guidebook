{
 "cells": [
  {
   "cell_type": "markdown",
   "id": "93df96e5",
   "metadata": {},
   "source": [
    "# HES Admitted Patient Care (HESAPC) Dataset\n",
    "## 1. Summary\n",
    "The information below is retrieved from the Health Data Gateway API developed by NHS England, with additional fields added by UK LLC (indicated by italics)."
   ]
  },
  {
   "cell_type": "code",
   "execution_count": 4,
   "id": "910dadbd",
   "metadata": {},
   "outputs": [],
   "source": [
    "# define target dataset to document\n",
    "schema = 'nhsd'\n",
    "table = 'HESAPC'\n",
    "version = 'v0003'\n",
    "# import functions from script helper\n",
    "import sys\n",
    "script_fp = \"../../../../scripts/\"\n",
    "sys.path.insert(0, script_fp)\n",
    "from data_doc_helper import DocHelper\n",
    "# create instance\n",
    "document = DocHelper(schema, table, version, script_fp)\n",
    "# markdown/code hybrid cell module requirement\n",
    "from IPython.display import display, Markdown"
   ]
  },
  {
   "cell_type": "code",
   "execution_count": 5,
   "id": "103f2c9b",
   "metadata": {},
   "outputs": [
    {
     "data": {
      "text/markdown": [
       "**NHS England title of dataset:** Hospital Episode Statistics Admitted Patient Care"
      ],
      "text/plain": [
       "<IPython.core.display.Markdown object>"
      ]
     },
     "metadata": {},
     "output_type": "display_data"
    },
    {
     "data": {
      "text/markdown": [
       "***Dataset name in UK LLC TRE***: *nhsd.HESAPC*"
      ],
      "text/plain": [
       "<IPython.core.display.Markdown object>"
      ]
     },
     "metadata": {},
     "output_type": "display_data"
    },
    {
     "data": {
      "text/markdown": [
       "***Nested datasets***: *HESAPC encompasses the following three datasets: Maternity dataset (HESAPC_MAT), Critical Care minimum dataset (HESCC) and the retired Augmented Care Periods dataset (HESAPC_ACP)*"
      ],
      "text/plain": [
       "<IPython.core.display.Markdown object>"
      ]
     },
     "metadata": {},
     "output_type": "display_data"
    },
    {
     "data": {
      "text/markdown": [
       "**Short abstract:** Record-level patient data set of patients admitted for treatment at NHS hospitals in England, including delivery and birth data. A record represents one episode."
      ],
      "text/plain": [
       "<IPython.core.display.Markdown object>"
      ]
     },
     "metadata": {},
     "output_type": "display_data"
    },
    {
     "data": {
      "text/markdown": [
       "***Extended abstract***: [*https://web.www.healthdatagateway.org/dataset/6599230a-df54-4615-937c-d724d239491f*](https://web.www.healthdatagateway.org/dataset/6599230a-df54-4615-937c-d724d239491f)"
      ],
      "text/plain": [
       "<IPython.core.display.Markdown object>"
      ]
     },
     "metadata": {},
     "output_type": "display_data"
    },
    {
     "data": {
      "text/markdown": [
       "**Geographical coverage:** United Kingdom,England"
      ],
      "text/plain": [
       "<IPython.core.display.Markdown object>"
      ]
     },
     "metadata": {},
     "output_type": "display_data"
    },
    {
     "data": {
      "text/markdown": [
       "**Temporal coverage:** 01/04/1989"
      ],
      "text/plain": [
       "<IPython.core.display.Markdown object>"
      ]
     },
     "metadata": {},
     "output_type": "display_data"
    },
    {
     "data": {
      "text/markdown": [
       "***Data available in UK LLC TRE from***: *01/04/1997 onwards*"
      ],
      "text/plain": [
       "<IPython.core.display.Markdown object>"
      ]
     },
     "metadata": {},
     "output_type": "display_data"
    },
    {
     "data": {
      "text/markdown": [
       "**Typical age range:** 0-120"
      ],
      "text/plain": [
       "<IPython.core.display.Markdown object>"
      ]
     },
     "metadata": {},
     "output_type": "display_data"
    },
    {
     "data": {
      "text/markdown": [
       "**Collection situation:** IN-PATIENTS"
      ],
      "text/plain": [
       "<IPython.core.display.Markdown object>"
      ]
     },
     "metadata": {},
     "output_type": "display_data"
    },
    {
     "data": {
      "text/markdown": [
       "**Purpose:** CARE"
      ],
      "text/plain": [
       "<IPython.core.display.Markdown object>"
      ]
     },
     "metadata": {},
     "output_type": "display_data"
    },
    {
     "data": {
      "text/markdown": [
       "**Source:** EPR"
      ],
      "text/plain": [
       "<IPython.core.display.Markdown object>"
      ]
     },
     "metadata": {},
     "output_type": "display_data"
    },
    {
     "data": {
      "text/markdown": [
       "**Pathway:** Secondary Care pathway. This dataset covers inpatient admissions to hospitals in England. It includes information on the treatment and outcome of the hospital admission and can be linked to the HES A&E dataset to further the pathway if an A&E attendance took place prior to an admissions to hospital."
      ],
      "text/plain": [
       "<IPython.core.display.Markdown object>"
      ]
     },
     "metadata": {},
     "output_type": "display_data"
    },
    {
     "data": {
      "text/markdown": [
       "***Information collected***: *Patient demographics, date and source of admission, waiting time, reason for admission, clinical diagnosis and procedures performed, and date and destination of discharge.*"
      ],
      "text/plain": [
       "<IPython.core.display.Markdown object>"
      ]
     },
     "metadata": {},
     "output_type": "display_data"
    },
    {
     "data": {
      "text/markdown": [
       "***Structure of dataset***: *Data are organised into episodes and spells - see section 2 for further details.*"
      ],
      "text/plain": [
       "<IPython.core.display.Markdown object>"
      ]
     },
     "metadata": {},
     "output_type": "display_data"
    },
    {
     "data": {
      "text/markdown": [
       "***Update frequency in UK LLC TRE***: *Quarterly*"
      ],
      "text/plain": [
       "<IPython.core.display.Markdown object>"
      ]
     },
     "metadata": {},
     "output_type": "display_data"
    },
    {
     "data": {
      "text/markdown": [
       "***Dataset versions in UK LLC TRE***: *TBC*"
      ],
      "text/plain": [
       "<IPython.core.display.Markdown object>"
      ]
     },
     "metadata": {},
     "output_type": "display_data"
    },
    {
     "data": {
      "text/markdown": [
       "***Data quality issues***: *Data quality notes that highlight specific known issues are published alongside the finalised HES datasets: [https://digital.nhs.uk/data-and-information/data-tools-and-services/data-services/hospital-episode-statistics/the-processing-cycle-and-hes-data-quality](https://digital.nhs.uk/data-and-information/data-tools-and-services/data-services/hospital-episode-statistics/the-processing-cycle-and-hes-data-quality)*"
      ],
      "text/plain": [
       "<IPython.core.display.Markdown object>"
      ]
     },
     "metadata": {},
     "output_type": "display_data"
    },
    {
     "data": {
      "text/markdown": [
       "***Restrictions to data usage***: *Medical purposes only (medical research) as defined in the NHS Act 2006: [https://www.legislation.gov.uk/ukpga/2006/41/part/13/crossheading/patient-information](https://www.legislation.gov.uk/ukpga/2006/41/part/13/crossheading/patient-information)*"
      ],
      "text/plain": [
       "<IPython.core.display.Markdown object>"
      ]
     },
     "metadata": {},
     "output_type": "display_data"
    },
    {
     "data": {
      "text/markdown": [
       "***Further information***: [*https://digital.nhs.uk/data-and-information/data-tools-and-services/data-services/hospital-episode-statistics*](https://digital.nhs.uk/data-and-information/data-tools-and-services/data-services/hospital-episode-statistics)"
      ],
      "text/plain": [
       "<IPython.core.display.Markdown object>"
      ]
     },
     "metadata": {},
     "output_type": "display_data"
    }
   ],
   "source": [
    "# get api data\n",
    "dataset = document.get_api_data()\n",
    "display(Markdown(\"**NHS England title of dataset:** \"+dataset['datasetfields']['datautility']['title']))\n",
    "display(Markdown(\"***Dataset name in UK LLC TRE***: *nhsd.HESAPC*\"))  \n",
    "display(Markdown(\"***Nested datasets***: *HESAPC encompasses the following three datasets: Maternity dataset (HESAPC_MAT), Critical Care minimum dataset (HESCC) and the retired Augmented Care Periods dataset (HESAPC_ACP)*\"))  \n",
    "display(Markdown(\"**Short abstract:** \"+dataset['datasetfields']['abstract']))\n",
    "display(Markdown(\"***Extended abstract***: [*https://web.www.healthdatagateway.org/dataset/6599230a-df54-4615-937c-d724d239491f*](https://web.www.healthdatagateway.org/dataset/6599230a-df54-4615-937c-d724d239491f)\"))\n",
    "display(Markdown(\"**Geographical coverage:** \"+dataset['datasetfields']['geographicCoverage'][0]))\n",
    "display(Markdown(\"**Temporal coverage:** \"+dataset['datasetfields']['datasetStartDate']))\n",
    "display(Markdown(\"***Data available in UK LLC TRE from***: *01/04/1997 onwards*\"))\n",
    "display(Markdown(\"**Typical age range:** \"+dataset['datasetfields']['ageBand']))\n",
    "display(Markdown(\"**Collection situation:** \"+dataset['datasetv2']['provenance']['origin']['collectionSituation'][0]))\n",
    "display(Markdown(\"**Purpose:** \"+dataset['datasetv2']['provenance']['origin']['purpose'][0]))\n",
    "display(Markdown(\"**Source:** \"+dataset['datasetv2']['provenance']['origin']['source'][0]))\n",
    "display(Markdown(\"**Pathway:** \"+dataset['datasetv2']['coverage']['pathway']))\n",
    "display(Markdown(\"***Information collected***: *Patient demographics, date and source of admission, waiting time, reason for admission, clinical diagnosis and procedures performed, and date and destination of discharge.*\"))  \n",
    "display(Markdown(\"***Structure of dataset***: *Data are organised into episodes and spells - see section 2 for further details.*\"))  \n",
    "display(Markdown(\"***Update frequency in UK LLC TRE***: *Quarterly*\"))  \n",
    "display(Markdown(\"***Dataset versions in UK LLC TRE***: *TBC*\"))\n",
    "display(Markdown(\"***Data quality issues***: *Data quality notes that highlight specific known issues are published alongside the finalised HES datasets: [https://digital.nhs.uk/data-and-information/data-tools-and-services/data-services/hospital-episode-statistics/the-processing-cycle-and-hes-data-quality](https://digital.nhs.uk/data-and-information/data-tools-and-services/data-services/hospital-episode-statistics/the-processing-cycle-and-hes-data-quality)*\"))  \n",
    "display(Markdown(\"***Restrictions to data usage***: *Medical purposes only (medical research) as defined in the NHS Act 2006: [https://www.legislation.gov.uk/ukpga/2006/41/part/13/crossheading/patient-information](https://www.legislation.gov.uk/ukpga/2006/41/part/13/crossheading/patient-information)*\"))    \n",
    "display(Markdown(\"***Further information***: [*https://digital.nhs.uk/data-and-information/data-tools-and-services/data-services/hospital-episode-statistics*](https://digital.nhs.uk/data-and-information/data-tools-and-services/data-services/hospital-episode-statistics)\"))\n",
    "\n"
   ]
  },
  {
   "cell_type": "markdown",
   "id": "649e5298",
   "metadata": {},
   "source": [
    "## 2. Structure of the HESAPC dataset\n",
    "### Episodes and spells\n",
    "Data in the HESAPC dataset are organised into **episodes** and **spells**. Each row indicates a **Finished Consultant Episode (FCE)**, which is a continuous period of care under one consultant at a single hospital. A **spell** is a continuous period of care within a single hospital from admission to discharge or death. Most patients in the HESAPC datasets are represented by one row of data (i.e. a spell comprising one episode), but others may be represented by multiple rows if they move between consultants within or between hospitals (see the scenario below). Furthermore, in the **HESAPC_MAT** dataset, each birth generates at least two episodes, one recording details of the delivery (relating to the mother) and one episode per child delivered (relating to the child).  \n",
    "\n",
    "If the patient was seen by multiple consultants during the same stay at the same hospital, a spell may contain one or more FCEs, i.e. one or more rows of data per patient (see figure 1). The first (or only) FCE can also be called a **Finished Admission Episode (FAE)** and the final (or only) FCE can also be called a **Discharge Episode**. This is why there are more FCEs than FAEs in the APC dataset: [https://digital.nhs.uk/data-and-information/publications/statistical/hospital-admitted-patient-care-activity.](https://digital.nhs.uk/data-and-information/publications/statistical/hospital-admitted-patient-care-activity) \n",
    "\n",
    "<img src=\"../../../../images/Episodes_spells_diagram_APC.jpg\" width=\"600\"/>  \n",
    "\n",
    "**Figure 1** Episodes and spells in the HESAPC dataset - each row of data in the dataset corresponds to a single FCE\n",
    "### Continuous Inpatient (CIP) spells\n",
    "A more complex scenario again is if a patient is transferred to a different hospital. In this instance, a new spell begins. To identify and measure continuous hospital stays, which include transfers to other hospitals, Continuous Inpatient (CIP) spells need to be derived (see figure 2).\n",
    "\n",
    "<img src=\"../../../../images/CIP_spell_diagram_APC.jpg\" width=\"600\"/>  \n",
    "\n",
    "**Figure 2** Spells and CIP spells in the HESAPC dataset\n",
    "\n",
    "### Episodes/spells that span financial years\n",
    "FCEs are entered into the HESAPC dataset according to the financial year in which they end. Consequently, episodes/spells that start in one financial year and end in another will be classified as unfinished in the starting financial year and finished in the ending financial year. Unfinished episodes/spells need to be removed before analysis to prevent double counting. "
   ]
  },
  {
   "cell_type": "markdown",
   "id": "f623ec79",
   "metadata": {},
   "source": [
    "## 3. Metrics\n",
    "The tables below summarise the HESAPC dataset in the UK LLC TRE."
   ]
  },
  {
   "cell_type": "markdown",
   "id": "e96c5d35",
   "metadata": {},
   "source": [
    "**Table 1** The number of participants from each LPS that are represented in the HESAPC dataset in the UK LLC TRE   \n",
    "(**Note**: numbers relate to the most recent extract of NHS England data) \n"
   ]
  },
  {
   "cell_type": "code",
   "execution_count": 6,
   "id": "ed2b2510",
   "metadata": {},
   "outputs": [
    {
     "name": "stdout",
     "output_type": "stream",
     "text": [
      "╒════════════════╤═════════╕\n",
      "│ cohort         │   count │\n",
      "╞════════════════╪═════════╡\n",
      "│ ALSPAC         │    4644 │\n",
      "├────────────────┼─────────┤\n",
      "│ BCS70          │    5071 │\n",
      "├────────────────┼─────────┤\n",
      "│ BIB            │   27111 │\n",
      "├────────────────┼─────────┤\n",
      "│ ELSA           │    6528 │\n",
      "├────────────────┼─────────┤\n",
      "│ EPICN          │   14161 │\n",
      "├────────────────┼─────────┤\n",
      "│ EXCEED         │    8411 │\n",
      "├────────────────┼─────────┤\n",
      "│ FENLAND        │    8690 │\n",
      "├────────────────┼─────────┤\n",
      "│ GLAD           │   57756 │\n",
      "├────────────────┼─────────┤\n",
      "│ MCS            │   16041 │\n",
      "├────────────────┼─────────┤\n",
      "│ NCDS58         │    5515 │\n",
      "├────────────────┼─────────┤\n",
      "│ NEXTSTEP       │    4099 │\n",
      "├────────────────┼─────────┤\n",
      "│ NIHRBIO_COPING │   14278 │\n",
      "├────────────────┼─────────┤\n",
      "│ NSHD46         │    2820 │\n",
      "├────────────────┼─────────┤\n",
      "│ TEDS           │    5553 │\n",
      "├────────────────┼─────────┤\n",
      "│ TRACKC19       │   11317 │\n",
      "├────────────────┼─────────┤\n",
      "│ TWINSUK        │   11762 │\n",
      "├────────────────┼─────────┤\n",
      "│ UKHLS          │    5924 │\n",
      "├────────────────┼─────────┤\n",
      "│ total          │  209681 │\n",
      "╘════════════════╧═════════╛\n"
     ]
    }
   ],
   "source": [
    "gb_cohort = document.get_cohort_count()\n",
    "print(gb_cohort.to_markdown(index=False, tablefmt=\"fancy_grid\"))"
   ]
  },
  {
   "cell_type": "markdown",
   "id": "42334ef7",
   "metadata": {},
   "source": [
    "## 4. Helpful syntax\n",
    "Below we will include syntax that may be helpful to other researchers in the UK LLC TRE. For longer scripts, we will include a snippet of the code plus a link to Git where you can find the full script. "
   ]
  }
 ],
 "metadata": {
  "kernelspec": {
   "display_name": "Python 3 (ipykernel)",
   "language": "python",
   "name": "python3"
  },
  "language_info": {
   "codemirror_mode": {
    "name": "ipython",
    "version": 3
   },
   "file_extension": ".py",
   "mimetype": "text/x-python",
   "name": "python",
   "nbconvert_exporter": "python",
   "pygments_lexer": "ipython3",
   "version": "3.12.0"
  }
 },
 "nbformat": 4,
 "nbformat_minor": 5
}
