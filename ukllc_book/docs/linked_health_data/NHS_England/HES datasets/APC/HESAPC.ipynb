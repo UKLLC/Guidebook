{
 "cells": [
  {
   "cell_type": "markdown",
   "id": "93df96e5",
   "metadata": {},
   "source": [
    "# HES Admitted Patient Care (HESAPC) Dataset"
   ]
  },
  {
   "cell_type": "code",
   "execution_count": 1,
   "id": "910dadbd",
   "metadata": {},
   "outputs": [],
   "source": [
    "# define target dataset to document\n",
    "schema = 'nhsd'\n",
    "table = 'HESAPC'\n",
    "version = 'v0003'\n",
    "# import functions from script helper\n",
    "import sys\n",
    "script_fp = \"../../../../scripts/\"\n",
    "sys.path.insert(0, script_fp)\n",
    "from data_doc_helper import DocHelper\n",
    "# create instance\n",
    "document = DocHelper(schema, table, version, script_fp)\n",
    "# markdown/code hybrid cell module requirement\n",
    "from IPython.display import display, Markdown"
   ]
  },
  {
   "cell_type": "markdown",
   "id": "0019b343",
   "metadata": {},
   "source": [
    "## 1. Summary"
   ]
  },
  {
   "cell_type": "code",
   "execution_count": 2,
   "id": "619c5b8e",
   "metadata": {},
   "outputs": [
    {
     "data": {
      "text/html": [
       "<style type=\"text/css\">\n",
       "#T_08f4b th {\n",
       "  text-align: left;\n",
       "}\n",
       "#T_08f4b_row0_col0, #T_08f4b_row1_col0, #T_08f4b_row2_col0, #T_08f4b_row3_col0, #T_08f4b_row4_col0, #T_08f4b_row5_col0, #T_08f4b_row6_col0, #T_08f4b_row7_col0, #T_08f4b_row8_col0, #T_08f4b_row9_col0, #T_08f4b_row10_col0, #T_08f4b_row11_col0, #T_08f4b_row12_col0, #T_08f4b_row13_col0, #T_08f4b_row14_col0, #T_08f4b_row15_col0, #T_08f4b_row16_col0, #T_08f4b_row17_col0 {\n",
       "  text-align: left;\n",
       "}\n",
       "</style>\n",
       "<table id=\"T_08f4b\" style=\"font-size: 14px\">\n",
       "  <thead>\n",
       "    <tr>\n",
       "      <th class=\"index_name level0\" >Dataset descriptor</th>\n",
       "      <th id=\"T_08f4b_level0_col0\" class=\"col_heading level0 col0\" >Dataset-specific information</th>\n",
       "    </tr>\n",
       "  </thead>\n",
       "  <tbody>\n",
       "    <tr>\n",
       "      <th id=\"T_08f4b_level0_row0\" class=\"row_heading level0 row0\" >Name of dataset in TRE</th>\n",
       "      <td id=\"T_08f4b_row0_col0\" class=\"data row0 col0\" >HESAPC</td>\n",
       "    </tr>\n",
       "    <tr>\n",
       "      <th id=\"T_08f4b_level0_row1\" class=\"row_heading level0 row1\" >Other name</th>\n",
       "      <td id=\"T_08f4b_row1_col0\" class=\"data row1 col0\" >None</td>\n",
       "    </tr>\n",
       "    <tr>\n",
       "      <th id=\"T_08f4b_level0_row2\" class=\"row_heading level0 row2\" >Owner</th>\n",
       "      <td id=\"T_08f4b_row2_col0\" class=\"data row2 col0\" >NHS England</td>\n",
       "    </tr>\n",
       "    <tr>\n",
       "      <th id=\"T_08f4b_level0_row3\" class=\"row_heading level0 row3\" >Geographical coverage</th>\n",
       "      <td id=\"T_08f4b_row3_col0\" class=\"data row3 col0\" >England</td>\n",
       "    </tr>\n",
       "    <tr>\n",
       "      <th id=\"T_08f4b_level0_row4\" class=\"row_heading level0 row4\" >Temporal coverage</th>\n",
       "      <td id=\"T_08f4b_row4_col0\" class=\"data row4 col0\" >01/04/1989 onwards</td>\n",
       "    </tr>\n",
       "    <tr>\n",
       "      <th id=\"T_08f4b_level0_row5\" class=\"row_heading level0 row5\" >TRE temporal coverage </th>\n",
       "      <td id=\"T_08f4b_row5_col0\" class=\"data row5 col0\" >01/04/1998 onwards</td>\n",
       "    </tr>\n",
       "    <tr>\n",
       "      <th id=\"T_08f4b_level0_row6\" class=\"row_heading level0 row6\" >Frequency of update</th>\n",
       "      <td id=\"T_08f4b_row6_col0\" class=\"data row6 col0\" >None</td>\n",
       "    </tr>\n",
       "    <tr>\n",
       "      <th id=\"T_08f4b_level0_row7\" class=\"row_heading level0 row7\" >Date of last extract</th>\n",
       "      <td id=\"T_08f4b_row7_col0\" class=\"data row7 col0\" >None</td>\n",
       "    </tr>\n",
       "    <tr>\n",
       "      <th id=\"T_08f4b_level0_row8\" class=\"row_heading level0 row8\" >Keywords</th>\n",
       "      <td id=\"T_08f4b_row8_col0\" class=\"data row8 col0\" >Inpatients, NHS hospitals</td>\n",
       "    </tr>\n",
       "    <tr>\n",
       "      <th id=\"T_08f4b_level0_row9\" class=\"row_heading level0 row9\" >Short description</th>\n",
       "      <td id=\"T_08f4b_row9_col0\" class=\"data row9 col0\" >None</td>\n",
       "    </tr>\n",
       "    <tr>\n",
       "      <th id=\"T_08f4b_level0_row10\" class=\"row_heading level0 row10\" >DOI</th>\n",
       "      <td id=\"T_08f4b_row10_col0\" class=\"data row10 col0\" >None</td>\n",
       "    </tr>\n",
       "    <tr>\n",
       "      <th id=\"T_08f4b_level0_row11\" class=\"row_heading level0 row11\" >Data resolution </th>\n",
       "      <td id=\"T_08f4b_row11_col0\" class=\"data row11 col0\" >None</td>\n",
       "    </tr>\n",
       "    <tr>\n",
       "      <th id=\"T_08f4b_level0_row12\" class=\"row_heading level0 row12\" >Number of variables</th>\n",
       "      <td id=\"T_08f4b_row12_col0\" class=\"data row12 col0\" >None</td>\n",
       "    </tr>\n",
       "    <tr>\n",
       "      <th id=\"T_08f4b_level0_row13\" class=\"row_heading level0 row13\" >Number of participants</th>\n",
       "      <td id=\"T_08f4b_row13_col0\" class=\"data row13 col0\" >None</td>\n",
       "    </tr>\n",
       "    <tr>\n",
       "      <th id=\"T_08f4b_level0_row14\" class=\"row_heading level0 row14\" >Number of observations</th>\n",
       "      <td id=\"T_08f4b_row14_col0\" class=\"data row14 col0\" >None</td>\n",
       "    </tr>\n",
       "    <tr>\n",
       "      <th id=\"T_08f4b_level0_row15\" class=\"row_heading level0 row15\" >Version </th>\n",
       "      <td id=\"T_08f4b_row15_col0\" class=\"data row15 col0\" >None</td>\n",
       "    </tr>\n",
       "    <tr>\n",
       "      <th id=\"T_08f4b_level0_row16\" class=\"row_heading level0 row16\" >Key link</th>\n",
       "      <td id=\"T_08f4b_row16_col0\" class=\"data row16 col0\" >https://digital.nhs.uk/data-and-information/data-tools-and-services/data-services/hospital-episode-statistics</td>\n",
       "    </tr>\n",
       "    <tr>\n",
       "      <th id=\"T_08f4b_level0_row17\" class=\"row_heading level0 row17\" >Specific restrictions to data use</th>\n",
       "      <td id=\"T_08f4b_row17_col0\" class=\"data row17 col0\" >None</td>\n",
       "    </tr>\n",
       "  </tbody>\n",
       "</table>\n"
      ],
      "text/plain": [
       "<pandas.io.formats.style.Styler at 0x276f3f46180>"
      ]
     },
     "metadata": {},
     "output_type": "display_data"
    }
   ],
   "source": [
    "display(document.style_table(document.get_dataset_info()))\n"
   ]
  },
  {
   "cell_type": "markdown",
   "id": "649e5298",
   "metadata": {},
   "source": [
    "## 2. Structure of the HESAPC dataset\n",
    "### Episodes and spells\n",
    "Data in the HESAPC dataset are organised into **episodes** and **spells**. Each row indicates a **Finished Consultant Episode (FCE)**, which is a continuous period of care under one consultant at a single hospital. A **spell** is a continuous period of care within a single hospital from admission to discharge or death. Most patients in the HESAPC datasets are represented by one row of data (i.e. a spell comprising one episode), but others may be represented by multiple rows if they move between consultants within or between hospitals (see the scenario below). Furthermore, in the **HESAPC_MAT** dataset, each birth generates at least two episodes, one recording details of the delivery (relating to the mother) and one episode per child delivered (relating to the child).  \n",
    "\n",
    "If the patient was seen by multiple consultants during the same stay at the same hospital, a spell may contain one or more FCEs, i.e. one or more rows of data per patient (see figure 1). The first (or only) FCE can also be called a **Finished Admission Episode (FAE)** and the final (or only) FCE can also be called a **Discharge Episode**. This is why there are more FCEs than FAEs in the APC dataset: [https://digital.nhs.uk/data-and-information/publications/statistical/hospital-admitted-patient-care-activity.](https://digital.nhs.uk/data-and-information/publications/statistical/hospital-admitted-patient-care-activity) \n",
    "\n",
    "<img src=\"../../../../images/Episodes_spells_diagram_APC.jpg\" width=\"600\"/>  \n",
    "\n",
    "**Figure 1** Episodes and spells in the HESAPC dataset - each row of data in the dataset corresponds to a single FCE\n",
    "### Continuous Inpatient (CIP) spells\n",
    "A more complex scenario again is if a patient is transferred to a different hospital. In this instance, a new spell begins. To identify and measure continuous hospital stays, which include transfers to other hospitals, Continuous Inpatient (CIP) spells need to be derived (see figure 2).\n",
    "\n",
    "<img src=\"../../../../images/CIP_spell_diagram_APC.jpg\" width=\"600\"/>  \n",
    "\n",
    "**Figure 2** Spells and CIP spells in the HESAPC dataset\n",
    "\n",
    "### Episodes/spells that span financial years\n",
    "FCEs are entered into the HESAPC dataset according to the financial year in which they end. Consequently, episodes/spells that start in one financial year and end in another will be classified as unfinished in the starting financial year and finished in the ending financial year. Unfinished episodes/spells need to be removed before analysis to prevent double counting. "
   ]
  },
  {
   "cell_type": "markdown",
   "id": "f623ec79",
   "metadata": {},
   "source": [
    "## 3. Metrics\n",
    "The tables below summarise the HESAPC dataset in the UK LLC TRE."
   ]
  },
  {
   "cell_type": "markdown",
   "id": "e96c5d35",
   "metadata": {},
   "source": [
    "**Table 1** The number of participants from each LPS that are represented in the HESAPC dataset in the UK LLC TRE   \n",
    "(**Note**: numbers relate to the most recent extract of NHS England data) \n"
   ]
  },
  {
   "cell_type": "code",
   "execution_count": 5,
   "id": "ed2b2510",
   "metadata": {},
   "outputs": [
    {
     "data": {
      "text/html": [
       "<style type=\"text/css\">\n",
       "#T_9491b th {\n",
       "  text-align: left;\n",
       "}\n",
       "#T_9491b_row0_col0, #T_9491b_row1_col0, #T_9491b_row2_col0, #T_9491b_row3_col0, #T_9491b_row4_col0, #T_9491b_row5_col0, #T_9491b_row6_col0, #T_9491b_row7_col0, #T_9491b_row8_col0, #T_9491b_row9_col0, #T_9491b_row10_col0, #T_9491b_row11_col0, #T_9491b_row12_col0, #T_9491b_row13_col0, #T_9491b_row14_col0, #T_9491b_row15_col0, #T_9491b_row16_col0, #T_9491b_row17_col1 {\n",
       "  text-align: left;\n",
       "  font-weight: bold;\n",
       "}\n",
       "#T_9491b_row0_col1, #T_9491b_row1_col1, #T_9491b_row2_col1, #T_9491b_row3_col1, #T_9491b_row4_col1, #T_9491b_row5_col1, #T_9491b_row6_col1, #T_9491b_row7_col1, #T_9491b_row8_col1, #T_9491b_row9_col1, #T_9491b_row10_col1, #T_9491b_row11_col1, #T_9491b_row12_col1, #T_9491b_row13_col1, #T_9491b_row14_col1, #T_9491b_row15_col1, #T_9491b_row16_col1 {\n",
       "  text-align: left;\n",
       "}\n",
       "#T_9491b_row17_col0 {\n",
       "  text-align: left;\n",
       "  font-weight: bold;\n",
       "  font-weight: bold;\n",
       "}\n",
       "</style>\n",
       "<table id=\"T_9491b\" style=\"font-size: 14px\">\n",
       "  <thead>\n",
       "    <tr>\n",
       "      <th id=\"T_9491b_level0_col0\" class=\"col_heading level0 col0\" >LPS</th>\n",
       "      <th id=\"T_9491b_level0_col1\" class=\"col_heading level0 col1\" >Participant count</th>\n",
       "    </tr>\n",
       "  </thead>\n",
       "  <tbody>\n",
       "    <tr>\n",
       "      <td id=\"T_9491b_row0_col0\" class=\"data row0 col0\" >ALSPAC</td>\n",
       "      <td id=\"T_9491b_row0_col1\" class=\"data row0 col1\" >4644</td>\n",
       "    </tr>\n",
       "    <tr>\n",
       "      <td id=\"T_9491b_row1_col0\" class=\"data row1 col0\" >BCS70</td>\n",
       "      <td id=\"T_9491b_row1_col1\" class=\"data row1 col1\" >5082</td>\n",
       "    </tr>\n",
       "    <tr>\n",
       "      <td id=\"T_9491b_row2_col0\" class=\"data row2 col0\" >BIB</td>\n",
       "      <td id=\"T_9491b_row2_col1\" class=\"data row2 col1\" >27111</td>\n",
       "    </tr>\n",
       "    <tr>\n",
       "      <td id=\"T_9491b_row3_col0\" class=\"data row3 col0\" >ELSA</td>\n",
       "      <td id=\"T_9491b_row3_col1\" class=\"data row3 col1\" >6528</td>\n",
       "    </tr>\n",
       "    <tr>\n",
       "      <td id=\"T_9491b_row4_col0\" class=\"data row4 col0\" >EPICN</td>\n",
       "      <td id=\"T_9491b_row4_col1\" class=\"data row4 col1\" >14161</td>\n",
       "    </tr>\n",
       "    <tr>\n",
       "      <td id=\"T_9491b_row5_col0\" class=\"data row5 col0\" >EXCEED</td>\n",
       "      <td id=\"T_9491b_row5_col1\" class=\"data row5 col1\" >8411</td>\n",
       "    </tr>\n",
       "    <tr>\n",
       "      <td id=\"T_9491b_row6_col0\" class=\"data row6 col0\" >FENLAND</td>\n",
       "      <td id=\"T_9491b_row6_col1\" class=\"data row6 col1\" >8690</td>\n",
       "    </tr>\n",
       "    <tr>\n",
       "      <td id=\"T_9491b_row7_col0\" class=\"data row7 col0\" >GLAD</td>\n",
       "      <td id=\"T_9491b_row7_col1\" class=\"data row7 col1\" >57687</td>\n",
       "    </tr>\n",
       "    <tr>\n",
       "      <td id=\"T_9491b_row8_col0\" class=\"data row8 col0\" >MCS</td>\n",
       "      <td id=\"T_9491b_row8_col1\" class=\"data row8 col1\" >16009</td>\n",
       "    </tr>\n",
       "    <tr>\n",
       "      <td id=\"T_9491b_row9_col0\" class=\"data row9 col0\" >NCDS58</td>\n",
       "      <td id=\"T_9491b_row9_col1\" class=\"data row9 col1\" >5536</td>\n",
       "    </tr>\n",
       "    <tr>\n",
       "      <td id=\"T_9491b_row10_col0\" class=\"data row10 col0\" >NEXTSTEP</td>\n",
       "      <td id=\"T_9491b_row10_col1\" class=\"data row10 col1\" >4111</td>\n",
       "    </tr>\n",
       "    <tr>\n",
       "      <td id=\"T_9491b_row11_col0\" class=\"data row11 col0\" >NIHRBIO_COPING</td>\n",
       "      <td id=\"T_9491b_row11_col1\" class=\"data row11 col1\" >14278</td>\n",
       "    </tr>\n",
       "    <tr>\n",
       "      <td id=\"T_9491b_row12_col0\" class=\"data row12 col0\" >NSHD46</td>\n",
       "      <td id=\"T_9491b_row12_col1\" class=\"data row12 col1\" >2820</td>\n",
       "    </tr>\n",
       "    <tr>\n",
       "      <td id=\"T_9491b_row13_col0\" class=\"data row13 col0\" >TEDS</td>\n",
       "      <td id=\"T_9491b_row13_col1\" class=\"data row13 col1\" >5553</td>\n",
       "    </tr>\n",
       "    <tr>\n",
       "      <td id=\"T_9491b_row14_col0\" class=\"data row14 col0\" >TRACKC19</td>\n",
       "      <td id=\"T_9491b_row14_col1\" class=\"data row14 col1\" >11317</td>\n",
       "    </tr>\n",
       "    <tr>\n",
       "      <td id=\"T_9491b_row15_col0\" class=\"data row15 col0\" >TWINSUK</td>\n",
       "      <td id=\"T_9491b_row15_col1\" class=\"data row15 col1\" >11762</td>\n",
       "    </tr>\n",
       "    <tr>\n",
       "      <td id=\"T_9491b_row16_col0\" class=\"data row16 col0\" >UKHLS</td>\n",
       "      <td id=\"T_9491b_row16_col1\" class=\"data row16 col1\" >5924</td>\n",
       "    </tr>\n",
       "    <tr>\n",
       "      <td id=\"T_9491b_row17_col0\" class=\"data row17 col0\" >TOTAL</td>\n",
       "      <td id=\"T_9491b_row17_col1\" class=\"data row17 col1\" >209624</td>\n",
       "    </tr>\n",
       "  </tbody>\n",
       "</table>\n"
      ],
      "text/plain": [
       "<pandas.io.formats.style.Styler at 0x276f5bd68a0>"
      ]
     },
     "metadata": {},
     "output_type": "display_data"
    }
   ],
   "source": [
    "display(document.style_table(document.get_cohort_count()))"
   ]
  },
  {
   "cell_type": "markdown",
   "id": "42334ef7",
   "metadata": {},
   "source": [
    "## 4. Helpful syntax\n",
    "Below we will include syntax that may be helpful to other researchers in the UK LLC TRE. For longer scripts, we will include a snippet of the code plus a link to Git where you can find the full script. "
   ]
  }
 ],
 "metadata": {
  "kernelspec": {
   "display_name": "Python 3 (ipykernel)",
   "language": "python",
   "name": "python3"
  },
  "language_info": {
   "codemirror_mode": {
    "name": "ipython",
    "version": 3
   },
   "file_extension": ".py",
   "mimetype": "text/x-python",
   "name": "python",
   "nbconvert_exporter": "python",
   "pygments_lexer": "ipython3",
   "version": "3.12.2"
  }
 },
 "nbformat": 4,
 "nbformat_minor": 5
}
