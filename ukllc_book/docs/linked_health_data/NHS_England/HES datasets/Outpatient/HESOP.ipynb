{
 "cells": [
  {
   "cell_type": "markdown",
   "id": "c928623b",
   "metadata": {},
   "source": [
    "# HES Outpatients Dataset\n",
    "## 1. Summary\n",
    "The information below is retrieved from the Health Data Gateway API developed by NHS England."
   ]
  },
  {
   "cell_type": "code",
   "execution_count": 10,
   "id": "910dadbd",
   "metadata": {},
   "outputs": [],
   "source": [
    "# define target dataset to document\n",
    "schema = 'nhsd'\n",
    "table = 'HESOP'\n",
    "version = 'v0002'\n",
    "# import functions from script helper\n",
    "import sys\n",
    "script_fp = \"../../../../scripts/\"\n",
    "sys.path.insert(0, script_fp)\n",
    "from data_doc_helper import DocHelper\n",
    "# create instance\n",
    "document = DocHelper(schema, table, version, script_fp)\n",
    "# markdown/code hybrid cell module requirement\n",
    "from IPython.display import display, Markdown"
   ]
  },
  {
   "cell_type": "code",
   "execution_count": 11,
   "id": "103f2c9b",
   "metadata": {},
   "outputs": [
    {
     "data": {
      "text/markdown": [
       "**Title of dataset:** Hospital Episode Statistics Outpatients"
      ],
      "text/plain": [
       "<IPython.core.display.Markdown object>"
      ]
     },
     "metadata": {},
     "output_type": "display_data"
    },
    {
     "data": {
      "text/markdown": [
       "**Short abstract:** Record-level patient data set of patients attending outpatient clinics at NHS hospitals in England. A record represents one appointment."
      ],
      "text/plain": [
       "<IPython.core.display.Markdown object>"
      ]
     },
     "metadata": {},
     "output_type": "display_data"
    },
    {
     "data": {
      "text/markdown": [
       "**Extended abstract:** Hospital Episode Statistics (HES) is a database containing details of all admissions, A and E attendances and outpatient appointments at NHS hospitals in England.\n",
       "\n",
       "Initially this data is collected during a patient's time at hospital as part of the Commissioning Data Set (CDS). This is submitted to NHS Digital for processing and is returned to healthcare providers as the Secondary Uses Service (SUS) data set and includes information relating to payment for activity undertaken. It allows hospitals to be paid for the care they deliver. \n",
       "\n",
       "This same data can also be processed and used for non-clinical purposes, such as research and planning health services. Because these uses are not to do with direct patient care, they are called 'secondary uses'. This is the HES data set.\n",
       "\n",
       "HES data covers all NHS Clinical Commissioning Groups (CCGs) in England, including:\n",
       "\n",
       "private patients treated in NHS hospitals\n",
       "patients resident outside of England\n",
       "care delivered by treatment centres (including those in the independent sector) funded by the NHS\n",
       "Each HES record contains a wide range of information about an individual patient admitted to an NHS hospital, including:\n",
       "\n",
       "clinical information about diagnoses and operations\n",
       "patient information, such as age group, gender and ethnicity\n",
       "administrative information, such as dates and methods of admission and discharge\n",
       "geographical information such as where patients are treated and the area where they live\n",
       "We apply a strict statistical disclosure control in accordance with the NHS Digital protocol, to all published HES data. This suppresses small numbers to stop people identifying themselves and others, to ensure that patient confidentiality is maintained.\n",
       "\n",
       "https://digital.nhs.uk/data-and-information/publications/statistical/hospital-outpatient-activity"
      ],
      "text/plain": [
       "<IPython.core.display.Markdown object>"
      ]
     },
     "metadata": {},
     "output_type": "display_data"
    },
    {
     "data": {
      "text/markdown": [
       "**Associated links:** https://digital.nhs.uk/data-and-information/publications/statistical/hospital-outpatient-activity"
      ],
      "text/plain": [
       "<IPython.core.display.Markdown object>"
      ]
     },
     "metadata": {},
     "output_type": "display_data"
    },
    {
     "data": {
      "text/markdown": [
       "**Geographical coverage:** United Kingdom,England"
      ],
      "text/plain": [
       "<IPython.core.display.Markdown object>"
      ]
     },
     "metadata": {},
     "output_type": "display_data"
    },
    {
     "data": {
      "text/markdown": [
       "**Temporal coverage:** 2003-04-01"
      ],
      "text/plain": [
       "<IPython.core.display.Markdown object>"
      ]
     },
     "metadata": {},
     "output_type": "display_data"
    },
    {
     "data": {
      "text/markdown": [
       "**Typical age range:** 0-150"
      ],
      "text/plain": [
       "<IPython.core.display.Markdown object>"
      ]
     },
     "metadata": {},
     "output_type": "display_data"
    },
    {
     "data": {
      "text/markdown": [
       "**Purpose:** CARE"
      ],
      "text/plain": [
       "<IPython.core.display.Markdown object>"
      ]
     },
     "metadata": {},
     "output_type": "display_data"
    },
    {
     "data": {
      "text/markdown": [
       "**Source:** EPR"
      ],
      "text/plain": [
       "<IPython.core.display.Markdown object>"
      ]
     },
     "metadata": {},
     "output_type": "display_data"
    },
    {
     "data": {
      "text/markdown": [
       "**Collection situation:** OUTPATIENTS"
      ],
      "text/plain": [
       "<IPython.core.display.Markdown object>"
      ]
     },
     "metadata": {},
     "output_type": "display_data"
    },
    {
     "data": {
      "text/markdown": [
       "**Pathway:** Secondary Care pathway. This dataset covers outpatient appointments at hospitals in England. It includes information on the treatment and outcome of the appointment."
      ],
      "text/plain": [
       "<IPython.core.display.Markdown object>"
      ]
     },
     "metadata": {},
     "output_type": "display_data"
    },
    {
     "data": {
      "text/markdown": [
       "**Publishing frequency:** MONTHLY"
      ],
      "text/plain": [
       "<IPython.core.display.Markdown object>"
      ]
     },
     "metadata": {},
     "output_type": "display_data"
    },
    {
     "data": {
      "text/markdown": [
       "**Time lag:** 1-2 MONTHS"
      ],
      "text/plain": [
       "<IPython.core.display.Markdown object>"
      ]
     },
     "metadata": {},
     "output_type": "display_data"
    },
    {
     "data": {
      "text/markdown": [
       "**Semantic annotations:** OPCS4"
      ],
      "text/plain": [
       "<IPython.core.display.Markdown object>"
      ]
     },
     "metadata": {},
     "output_type": "display_data"
    },
    {
     "data": {
      "text/markdown": [
       "**Data models:** NHS DATA DICTIONARY"
      ],
      "text/plain": [
       "<IPython.core.display.Markdown object>"
      ]
     },
     "metadata": {},
     "output_type": "display_data"
    },
    {
     "data": {
      "text/markdown": [
       "**Language:** en"
      ],
      "text/plain": [
       "<IPython.core.display.Markdown object>"
      ]
     },
     "metadata": {},
     "output_type": "display_data"
    }
   ],
   "source": [
    "# get api data\n",
    "dataset = document.get_api_data()\n",
    "display(Markdown(\"**Title of dataset:** \"+dataset['datasetfields']['datautility']['title']))\n",
    "display(Markdown(\"**Short abstract:** \"+dataset['datasetfields']['abstract']))\n",
    "display(Markdown(\"**Extended abstract:** \"+dataset['datasetv2']['documentation']['description']))\n",
    "display(Markdown(\"**Associated links:** \"+dataset['datasetv2']['documentation']['associatedMedia'][0]))\n",
    "display(Markdown(\"**Geographical coverage:** \"+dataset['datasetfields']['geographicCoverage'][0]))\n",
    "display(Markdown(\"**Temporal coverage:** \"+dataset['datasetfields']['datasetStartDate']))\n",
    "display(Markdown(\"**Typical age range:** \"+dataset['datasetfields']['ageBand']))\n",
    "display(Markdown(\"**Purpose:** \"+dataset['datasetv2']['provenance']['origin']['purpose'][0]))\n",
    "display(Markdown(\"**Source:** \"+dataset['datasetv2']['provenance']['origin']['source'][0]))\n",
    "display(Markdown(\"**Collection situation:** \"+dataset['datasetv2']['provenance']['origin']['collectionSituation'][0]))\n",
    "display(Markdown(\"**Pathway:** \"+dataset['datasetv2']['coverage']['pathway']))\n",
    "display(Markdown(\"**Publishing frequency:** \"+dataset['datasetfields']['periodicity']))\n",
    "display(Markdown(\"**Time lag:** \"+dataset['datasetv2']['provenance']['temporal']['timeLag']))\n",
    "display(Markdown(\"**Semantic annotations:** \"+dataset['datasetv2']['accessibility']['formatAndStandards']['vocabularyEncodingScheme'][0]))\n",
    "display(Markdown(\"**Data models:** \"+dataset['datasetv2']['accessibility']['formatAndStandards']['conformsTo'][0]))\n",
    "display(Markdown(\"**Language:** \"+dataset['datasetv2']['accessibility']['formatAndStandards']['language'][0]))\n"
   ]
  },
  {
   "cell_type": "markdown",
   "id": "bdacad7d",
   "metadata": {},
   "source": [
    "## 2. Further details\n",
    "**Dataset name in UK LLC TRE**: nhsd.HESOP  \n",
    "**Data available from**: 01/04/2003 onwards  \n",
    "**Information collected**: Patient demographics, date and type of consultation, treatment specialty, referral source and waiting time, clincal diagnosis and procedures performed  \n",
    "**Structure of dataset**: Each appointment is represented by a distinct row of data. A patient may have multiple appointments in a financial year  \n",
    "**Update frequency in UK LLC TRE**: Quarterly  \n",
    "**Dataset version**: TBC  \n",
    "**Summary of changes between dataset versions**: TBC  \n",
    "**Data quality issues**: HESOP data were released on an 'experimental' basis in July 2006. In 2008 the data were accredited as a National Statistic. There may be potential data quality issues in the early years.  \n",
    "**Restrictions to data usage**: Medical purposes only  \n",
    "**Further information**: https://digital.nhs.uk/data-and-information/data-tools-and-services/data-services/hospital-episode-statistics"
   ]
  },
  {
   "cell_type": "markdown",
   "id": "ee2455db",
   "metadata": {},
   "source": [
    "## 3. Metrics\n",
    "Below we include tables that summarise the HESOP dataset in the UK LLC TRE."
   ]
  },
  {
   "cell_type": "code",
   "execution_count": 12,
   "id": "877ef22f",
   "metadata": {},
   "outputs": [
    {
     "name": "stdout",
     "output_type": "stream",
     "text": [
      "╒════════════════╤═════════╕\n",
      "│ cohort         │   count │\n",
      "╞════════════════╪═════════╡\n",
      "│ ALSPAC         │    5677 │\n",
      "├────────────────┼─────────┤\n",
      "│ BCS70          │    5681 │\n",
      "├────────────────┼─────────┤\n",
      "│ BIB            │   26088 │\n",
      "├────────────────┼─────────┤\n",
      "│ ELSA           │    6952 │\n",
      "├────────────────┼─────────┤\n",
      "│ EPICN          │   14684 │\n",
      "├────────────────┼─────────┤\n",
      "│ EXCEED         │    9144 │\n",
      "├────────────────┼─────────┤\n",
      "│ FENLAND        │   10027 │\n",
      "├────────────────┼─────────┤\n",
      "│ GLAD           │   44311 │\n",
      "├────────────────┼─────────┤\n",
      "│ MCS            │   17080 │\n",
      "├────────────────┼─────────┤\n",
      "│ NCDS58         │    6143 │\n",
      "├────────────────┼─────────┤\n",
      "│ NEXTSTEP       │    4428 │\n",
      "├────────────────┼─────────┤\n",
      "│ NIHRBIO_COPING │   16052 │\n",
      "├────────────────┼─────────┤\n",
      "│ NSHD46         │    2861 │\n",
      "├────────────────┼─────────┤\n",
      "│ TEDS           │       0 │\n",
      "├────────────────┼─────────┤\n",
      "│ TRACKC19       │   13247 │\n",
      "├────────────────┼─────────┤\n",
      "│ TWINSUK        │   12539 │\n",
      "├────────────────┼─────────┤\n",
      "│ UKHLS          │    6609 │\n",
      "├────────────────┼─────────┤\n",
      "│ total          │  201523 │\n",
      "╘════════════════╧═════════╛\n"
     ]
    }
   ],
   "source": [
    "gb_cohort = document.get_cohort_count()\n",
    "print(gb_cohort.to_markdown(index=False, tablefmt=\"fancy_grid\"))"
   ]
  },
  {
   "cell_type": "markdown",
   "id": "e0d88fc3",
   "metadata": {},
   "source": [
    "**Table 1** The number of participants from each LPS that are represented in the HESOP dataset in the UK LLC TRE"
   ]
  },
  {
   "cell_type": "markdown",
   "id": "4d7cab9b",
   "metadata": {},
   "source": [
    "## 4. Helpful syntax\n",
    "Below we will include syntax that may be helpful to other researchers in the UK LLC TRE. For longer scripts, we will include a snippet of the code plus a link to Git where you can find the full script. "
   ]
  }
 ],
 "metadata": {
  "kernelspec": {
   "display_name": "Python 3 (ipykernel)",
   "language": "python",
   "name": "python3"
  },
  "language_info": {
   "codemirror_mode": {
    "name": "ipython",
    "version": 3
   },
   "file_extension": ".py",
   "mimetype": "text/x-python",
   "name": "python",
   "nbconvert_exporter": "python",
   "pygments_lexer": "ipython3",
   "version": "3.12.0"
  }
 },
 "nbformat": 4,
 "nbformat_minor": 5
}
