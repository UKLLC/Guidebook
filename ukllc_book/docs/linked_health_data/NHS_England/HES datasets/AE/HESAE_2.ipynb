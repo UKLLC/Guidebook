{
 "cells": [
  {
   "attachments": {},
   "cell_type": "markdown",
   "id": "c928623b",
   "metadata": {},
   "source": [
    "# HES Accident & Emergency (HESAE) Dataset"
   ]
  },
  {
   "cell_type": "code",
   "execution_count": 1,
   "id": "910dadbd",
   "metadata": {
    "tags": [
     "remove-input"
    ]
   },
   "outputs": [],
   "source": [
    "# define target dataset to document\n",
    "schema = 'nhsd'\n",
    "table = 'HESAE'\n",
    "version = 'v0003'\n",
    "# import functions from script helper\n",
    "import sys\n",
    "script_fp = \"../../../../scripts/\"\n",
    "sys.path.insert(0, script_fp)\n",
    "from data_doc_helper import DocHelper\n",
    "# create instance\n",
    "document = DocHelper(schema, table, version, script_fp)\n",
    "# markdown/code hybrid cell module requirement\n",
    "from IPython.display import display, Markdown"
   ]
  },
  {
   "cell_type": "markdown",
   "id": "a90aca6e",
   "metadata": {},
   "source": [
    "## 1. Summary"
   ]
  },
  {
   "cell_type": "code",
   "execution_count": 2,
   "id": "a45d85d1",
   "metadata": {
    "tags": [
     "remove-input"
    ]
   },
   "outputs": [
    {
     "data": {
      "text/html": [
       "<style type=\"text/css\">\n",
       "#T_33589 th {\n",
       "  text-align: left;\n",
       "}\n",
       "#T_33589_row0_col0, #T_33589_row0_col1, #T_33589_row1_col0, #T_33589_row1_col1, #T_33589_row2_col0, #T_33589_row2_col1, #T_33589_row3_col0, #T_33589_row3_col1, #T_33589_row4_col0, #T_33589_row4_col1, #T_33589_row5_col0, #T_33589_row5_col1, #T_33589_row6_col0, #T_33589_row6_col1, #T_33589_row7_col0, #T_33589_row7_col1, #T_33589_row8_col0, #T_33589_row8_col1, #T_33589_row9_col0, #T_33589_row9_col1, #T_33589_row10_col0, #T_33589_row10_col1, #T_33589_row11_col0, #T_33589_row11_col1, #T_33589_row12_col0, #T_33589_row12_col1, #T_33589_row13_col0, #T_33589_row13_col1, #T_33589_row14_col0, #T_33589_row14_col1, #T_33589_row15_col0, #T_33589_row15_col1 {\n",
       "  text-align: left;\n",
       "}\n",
       "</style>\n",
       "<table id=\"T_33589\" style=\"font-size: 14px\">\n",
       "  <thead>\n",
       "    <tr>\n",
       "      <th id=\"T_33589_level0_col0\" class=\"col_heading level0 col0\" >Dataset descriptor</th>\n",
       "      <th id=\"T_33589_level0_col1\" class=\"col_heading level0 col1\" >Dataset-specific information</th>\n",
       "    </tr>\n",
       "  </thead>\n",
       "  <tbody>\n",
       "    <tr>\n",
       "      <td id=\"T_33589_row0_col0\" class=\"data row0 col0\" >Name of dataset in TRE</td>\n",
       "      <td id=\"T_33589_row0_col1\" class=\"data row0 col1\" >HESAE</td>\n",
       "    </tr>\n",
       "    <tr>\n",
       "      <td id=\"T_33589_row1_col0\" class=\"data row1 col0\" >Other name</td>\n",
       "      <td id=\"T_33589_row1_col1\" class=\"data row1 col1\" >None</td>\n",
       "    </tr>\n",
       "    <tr>\n",
       "      <td id=\"T_33589_row2_col0\" class=\"data row2 col0\" >Temporal coverage</td>\n",
       "      <td id=\"T_33589_row2_col1\" class=\"data row2 col1\" >01/04/2007 to 31/03/2020</td>\n",
       "    </tr>\n",
       "    <tr>\n",
       "      <td id=\"T_33589_row3_col0\" class=\"data row3 col0\" >TRE temporal coverage</td>\n",
       "      <td id=\"T_33589_row3_col1\" class=\"data row3 col1\" >01/04/2007 to 31/03/2020</td>\n",
       "    </tr>\n",
       "    <tr>\n",
       "      <td id=\"T_33589_row4_col0\" class=\"data row4 col0\" >Keywords</td>\n",
       "      <td id=\"T_33589_row4_col1\" class=\"data row4 col1\" >A&E patients, NHS hospitals</td>\n",
       "    </tr>\n",
       "    <tr>\n",
       "      <td id=\"T_33589_row5_col0\" class=\"data row5 col0\" >Geographical coverage</td>\n",
       "      <td id=\"T_33589_row5_col1\" class=\"data row5 col1\" >England</td>\n",
       "    </tr>\n",
       "    <tr>\n",
       "      <td id=\"T_33589_row6_col0\" class=\"data row6 col0\" >Data resolution</td>\n",
       "      <td id=\"T_33589_row6_col1\" class=\"data row6 col1\" >A&E attendance</td>\n",
       "    </tr>\n",
       "    <tr>\n",
       "      <td id=\"T_33589_row7_col0\" class=\"data row7 col0\" >Specific restrictions to data use</td>\n",
       "      <td id=\"T_33589_row7_col1\" class=\"data row7 col1\" >None</td>\n",
       "    </tr>\n",
       "    <tr>\n",
       "      <td id=\"T_33589_row8_col0\" class=\"data row8 col0\" >Owner</td>\n",
       "      <td id=\"T_33589_row8_col1\" class=\"data row8 col1\" >NHS England</td>\n",
       "    </tr>\n",
       "    <tr>\n",
       "      <td id=\"T_33589_row9_col0\" class=\"data row9 col0\" >Short description</td>\n",
       "      <td id=\"T_33589_row9_col1\" class=\"data row9 col1\" >Dataset of patients attending Accident and Emergency Departments (including minor injury units and walk-in centres) in England. A record represents one attendance.</td>\n",
       "    </tr>\n",
       "    <tr>\n",
       "      <td id=\"T_33589_row10_col0\" class=\"data row10 col0\" >Frequency of update</td>\n",
       "      <td id=\"T_33589_row10_col1\" class=\"data row10 col1\" >Annually</td>\n",
       "    </tr>\n",
       "    <tr>\n",
       "      <td id=\"T_33589_row11_col0\" class=\"data row11 col0\" >Key link</td>\n",
       "      <td id=\"T_33589_row11_col1\" class=\"data row11 col1\" >https://digital.nhs.uk/data-and-information/data-tools-and-services/data-services/hospital-episode-statistics</td>\n",
       "    </tr>\n",
       "    <tr>\n",
       "      <td id=\"T_33589_row12_col0\" class=\"data row12 col0\" >Number of variables</td>\n",
       "      <td id=\"T_33589_row12_col1\" class=\"data row12 col1\" >156</td>\n",
       "    </tr>\n",
       "    <tr>\n",
       "      <td id=\"T_33589_row13_col0\" class=\"data row13 col0\" >Number of observations</td>\n",
       "      <td id=\"T_33589_row13_col1\" class=\"data row13 col1\" >1565879</td>\n",
       "    </tr>\n",
       "    <tr>\n",
       "      <td id=\"T_33589_row14_col0\" class=\"data row14 col0\" >Participant count</td>\n",
       "      <td id=\"T_33589_row14_col1\" class=\"data row14 col1\" >191994</td>\n",
       "    </tr>\n",
       "    <tr>\n",
       "      <td id=\"T_33589_row15_col0\" class=\"data row15 col0\" >Date of last extract</td>\n",
       "      <td id=\"T_33589_row15_col1\" class=\"data row15 col1\" >2024-04-26</td>\n",
       "    </tr>\n",
       "  </tbody>\n",
       "</table>\n"
      ],
      "text/plain": [
       "<pandas.io.formats.style.Styler at 0x1237976c040>"
      ]
     },
     "metadata": {},
     "output_type": "display_data"
    }
   ],
   "source": [
    "display(document.style_table(document.get_dataset_info()))"
   ]
  },
  {
   "attachments": {},
   "cell_type": "markdown",
   "id": "ee2455db",
   "metadata": {},
   "source": [
    "## 2. Metrics\n",
    "The tables below summarise the HESAE dataset in the UK LLC TRE."
   ]
  },
  {
   "attachments": {},
   "cell_type": "markdown",
   "id": "e0d88fc3",
   "metadata": {},
   "source": [
    "**Table 1** The number of participants from each LPS that are represented in the HESAE dataset in the UK LLC TRE  \n",
    "(**Note**: numbers relate to the most recent extract of NHS England data) "
   ]
  },
  {
   "cell_type": "code",
   "execution_count": 3,
   "id": "877ef22f",
   "metadata": {
    "tags": [
     "remove-input"
    ]
   },
   "outputs": [
    {
     "data": {
      "text/html": [
       "<style type=\"text/css\">\n",
       "#T_e3df0 th {\n",
       "  text-align: left;\n",
       "}\n",
       "#T_e3df0_row0_col0, #T_e3df0_row1_col0, #T_e3df0_row2_col0, #T_e3df0_row3_col0, #T_e3df0_row4_col0, #T_e3df0_row5_col0, #T_e3df0_row6_col0, #T_e3df0_row7_col0, #T_e3df0_row8_col0, #T_e3df0_row9_col0, #T_e3df0_row10_col0, #T_e3df0_row11_col0, #T_e3df0_row12_col0, #T_e3df0_row13_col0, #T_e3df0_row14_col0, #T_e3df0_row15_col0, #T_e3df0_row16_col0, #T_e3df0_row17_col1 {\n",
       "  text-align: left;\n",
       "  font-weight: bold;\n",
       "}\n",
       "#T_e3df0_row0_col1, #T_e3df0_row1_col1, #T_e3df0_row2_col1, #T_e3df0_row3_col1, #T_e3df0_row4_col1, #T_e3df0_row5_col1, #T_e3df0_row6_col1, #T_e3df0_row7_col1, #T_e3df0_row8_col1, #T_e3df0_row9_col1, #T_e3df0_row10_col1, #T_e3df0_row11_col1, #T_e3df0_row12_col1, #T_e3df0_row13_col1, #T_e3df0_row14_col1, #T_e3df0_row15_col1, #T_e3df0_row16_col1 {\n",
       "  text-align: left;\n",
       "}\n",
       "#T_e3df0_row17_col0 {\n",
       "  text-align: left;\n",
       "  font-weight: bold;\n",
       "  font-weight: bold;\n",
       "}\n",
       "</style>\n",
       "<table id=\"T_e3df0\" style=\"font-size: 14px\">\n",
       "  <thead>\n",
       "    <tr>\n",
       "      <th id=\"T_e3df0_level0_col0\" class=\"col_heading level0 col0\" >LPS</th>\n",
       "      <th id=\"T_e3df0_level0_col1\" class=\"col_heading level0 col1\" >Participant count</th>\n",
       "    </tr>\n",
       "  </thead>\n",
       "  <tbody>\n",
       "    <tr>\n",
       "      <td id=\"T_e3df0_row0_col0\" class=\"data row0 col0\" >ALSPAC</td>\n",
       "      <td id=\"T_e3df0_row0_col1\" class=\"data row0 col1\" >4970</td>\n",
       "    </tr>\n",
       "    <tr>\n",
       "      <td id=\"T_e3df0_row1_col0\" class=\"data row1 col0\" >BCS70</td>\n",
       "      <td id=\"T_e3df0_row1_col1\" class=\"data row1 col1\" >4438</td>\n",
       "    </tr>\n",
       "    <tr>\n",
       "      <td id=\"T_e3df0_row2_col0\" class=\"data row2 col0\" >BIB</td>\n",
       "      <td id=\"T_e3df0_row2_col1\" class=\"data row2 col1\" >23568</td>\n",
       "    </tr>\n",
       "    <tr>\n",
       "      <td id=\"T_e3df0_row3_col0\" class=\"data row3 col0\" >ELSA</td>\n",
       "      <td id=\"T_e3df0_row3_col1\" class=\"data row3 col1\" >5665</td>\n",
       "    </tr>\n",
       "    <tr>\n",
       "      <td id=\"T_e3df0_row4_col0\" class=\"data row4 col0\" >EPICN</td>\n",
       "      <td id=\"T_e3df0_row4_col1\" class=\"data row4 col1\" >11054</td>\n",
       "    </tr>\n",
       "    <tr>\n",
       "      <td id=\"T_e3df0_row5_col0\" class=\"data row5 col0\" >EXCEED</td>\n",
       "      <td id=\"T_e3df0_row5_col1\" class=\"data row5 col1\" >7086</td>\n",
       "    </tr>\n",
       "    <tr>\n",
       "      <td id=\"T_e3df0_row6_col0\" class=\"data row6 col0\" >FENLAND</td>\n",
       "      <td id=\"T_e3df0_row6_col1\" class=\"data row6 col1\" >7608</td>\n",
       "    </tr>\n",
       "    <tr>\n",
       "      <td id=\"T_e3df0_row7_col0\" class=\"data row7 col0\" >GLAD</td>\n",
       "      <td id=\"T_e3df0_row7_col1\" class=\"data row7 col1\" >57439</td>\n",
       "    </tr>\n",
       "    <tr>\n",
       "      <td id=\"T_e3df0_row8_col0\" class=\"data row8 col0\" >MCS</td>\n",
       "      <td id=\"T_e3df0_row8_col1\" class=\"data row8 col1\" >14908</td>\n",
       "    </tr>\n",
       "    <tr>\n",
       "      <td id=\"T_e3df0_row9_col0\" class=\"data row9 col0\" >NCDS58</td>\n",
       "      <td id=\"T_e3df0_row9_col1\" class=\"data row9 col1\" >4914</td>\n",
       "    </tr>\n",
       "    <tr>\n",
       "      <td id=\"T_e3df0_row10_col0\" class=\"data row10 col0\" >NEXTSTEP</td>\n",
       "      <td id=\"T_e3df0_row10_col1\" class=\"data row10 col1\" >4539</td>\n",
       "    </tr>\n",
       "    <tr>\n",
       "      <td id=\"T_e3df0_row11_col0\" class=\"data row11 col0\" >NIHRBIO_COPING</td>\n",
       "      <td id=\"T_e3df0_row11_col1\" class=\"data row11 col1\" >12494</td>\n",
       "    </tr>\n",
       "    <tr>\n",
       "      <td id=\"T_e3df0_row12_col0\" class=\"data row12 col0\" >NSHD46</td>\n",
       "      <td id=\"T_e3df0_row12_col1\" class=\"data row12 col1\" >2168</td>\n",
       "    </tr>\n",
       "    <tr>\n",
       "      <td id=\"T_e3df0_row13_col0\" class=\"data row13 col0\" >TEDS</td>\n",
       "      <td id=\"T_e3df0_row13_col1\" class=\"data row13 col1\" >6373</td>\n",
       "    </tr>\n",
       "    <tr>\n",
       "      <td id=\"T_e3df0_row14_col0\" class=\"data row14 col0\" >TRACKC19</td>\n",
       "      <td id=\"T_e3df0_row14_col1\" class=\"data row14 col1\" >9325</td>\n",
       "    </tr>\n",
       "    <tr>\n",
       "      <td id=\"T_e3df0_row15_col0\" class=\"data row15 col0\" >TWINSUK</td>\n",
       "      <td id=\"T_e3df0_row15_col1\" class=\"data row15 col1\" >10286</td>\n",
       "    </tr>\n",
       "    <tr>\n",
       "      <td id=\"T_e3df0_row16_col0\" class=\"data row16 col0\" >UKHLS</td>\n",
       "      <td id=\"T_e3df0_row16_col1\" class=\"data row16 col1\" >5159</td>\n",
       "    </tr>\n",
       "    <tr>\n",
       "      <td id=\"T_e3df0_row17_col0\" class=\"data row17 col0\" >TOTAL</td>\n",
       "      <td id=\"T_e3df0_row17_col1\" class=\"data row17 col1\" >191994</td>\n",
       "    </tr>\n",
       "  </tbody>\n",
       "</table>\n"
      ],
      "text/plain": [
       "<pandas.io.formats.style.Styler at 0x12379994ee0>"
      ]
     },
     "metadata": {},
     "output_type": "display_data"
    }
   ],
   "source": [
    "display(document.style_table(document.get_cohort_count()))"
   ]
  },
  {
   "attachments": {},
   "cell_type": "markdown",
   "id": "4d7cab9b",
   "metadata": {},
   "source": [
    "## 3. Helpful syntax\n",
    "Below we will include syntax that may be helpful to other researchers in the UK LLC TRE. For longer scripts, we will include a snippet of the code plus a link to Git where you can find the full script. "
   ]
  }
 ],
 "metadata": {
  "kernelspec": {
   "display_name": "Python 3",
   "language": "python",
   "name": "python3"
  },
  "language_info": {
   "codemirror_mode": {
    "name": "ipython",
    "version": 3
   },
   "file_extension": ".py",
   "mimetype": "text/x-python",
   "name": "python",
   "nbconvert_exporter": "python",
   "pygments_lexer": "ipython3",
   "version": "3.8.18"
  }
 },
 "nbformat": 4,
 "nbformat_minor": 5
}
