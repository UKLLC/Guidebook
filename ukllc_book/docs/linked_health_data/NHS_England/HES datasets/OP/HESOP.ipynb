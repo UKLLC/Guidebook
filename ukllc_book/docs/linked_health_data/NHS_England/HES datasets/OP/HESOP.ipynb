{
 "cells": [
  {
   "attachments": {},
   "cell_type": "markdown",
   "id": "c928623b",
   "metadata": {},
   "source": [
    "# HES Outpatients (HESOP) Dataset\n",
    "## 1. Summary\n",
    "The information below is retrieved from the Health Data Gateway API developed by NHS England, with additional fields added by UK LLC (indicated by italics)."
   ]
  },
  {
   "cell_type": "code",
   "execution_count": 1,
   "id": "910dadbd",
   "metadata": {},
   "outputs": [],
   "source": [
    "# define target dataset to document\n",
    "schema = 'nhsd'\n",
    "table = 'HESOP'\n",
    "version = 'v0003'\n",
    "# import functions from script helper\n",
    "import sys\n",
    "script_fp = \"../../../../scripts/\"\n",
    "sys.path.insert(0, script_fp)\n",
    "from data_doc_helper import DocHelper\n",
    "# create instance\n",
    "document = DocHelper(schema, table, version, script_fp)\n",
    "# markdown/code hybrid cell module requirement\n",
    "from IPython.display import display, Markdown"
   ]
  },
  {
   "cell_type": "code",
   "execution_count": 2,
   "id": "04b9d605",
   "metadata": {},
   "outputs": [
    {
     "name": "stdout",
     "output_type": "stream",
     "text": [
      "╒═══════════════════════════════════╤═══════════════════════════════════════════════════════════════════════════════════════════════════════════════╕\n",
      "│ Dataset descriptor                │ Dataset specific information                                                                                  │\n",
      "╞═══════════════════════════════════╪═══════════════════════════════════════════════════════════════════════════════════════════════════════════════╡\n",
      "│ index                             │ 0                                                                                                             │\n",
      "├───────────────────────────────────┼───────────────────────────────────────────────────────────────────────────────────────────────────────────────┤\n",
      "│ Name of dataset in TRE            │ HESOP                                                                                                         │\n",
      "├───────────────────────────────────┼───────────────────────────────────────────────────────────────────────────────────────────────────────────────┤\n",
      "│ Other name                        │                                                                                                               │\n",
      "├───────────────────────────────────┼───────────────────────────────────────────────────────────────────────────────────────────────────────────────┤\n",
      "│ Owner                             │ NHS England                                                                                                   │\n",
      "├───────────────────────────────────┼───────────────────────────────────────────────────────────────────────────────────────────────────────────────┤\n",
      "│ Keywords                          │ Outpatients, NHS hospitals                                                                                    │\n",
      "├───────────────────────────────────┼───────────────────────────────────────────────────────────────────────────────────────────────────────────────┤\n",
      "│ Geographical coverage             │ England                                                                                                       │\n",
      "├───────────────────────────────────┼───────────────────────────────────────────────────────────────────────────────────────────────────────────────┤\n",
      "│ Temporal coverage                 │ 01/04/2003 onwards                                                                                            │\n",
      "├───────────────────────────────────┼───────────────────────────────────────────────────────────────────────────────────────────────────────────────┤\n",
      "│ TRE temporal coverage             │ 01/04/2003 onwards                                                                                            │\n",
      "├───────────────────────────────────┼───────────────────────────────────────────────────────────────────────────────────────────────────────────────┤\n",
      "│ Number of variables               │                                                                                                               │\n",
      "├───────────────────────────────────┼───────────────────────────────────────────────────────────────────────────────────────────────────────────────┤\n",
      "│ Number of participants            │                                                                                                               │\n",
      "├───────────────────────────────────┼───────────────────────────────────────────────────────────────────────────────────────────────────────────────┤\n",
      "│ Number of observations            │                                                                                                               │\n",
      "├───────────────────────────────────┼───────────────────────────────────────────────────────────────────────────────────────────────────────────────┤\n",
      "│ DOI                               │                                                                                                               │\n",
      "├───────────────────────────────────┼───────────────────────────────────────────────────────────────────────────────────────────────────────────────┤\n",
      "│ Key link                          │ https://digital.nhs.uk/data-and-information/data-tools-and-services/data-services/hospital-episode-statistics │\n",
      "├───────────────────────────────────┼───────────────────────────────────────────────────────────────────────────────────────────────────────────────┤\n",
      "│ Specific restrictions to data use │                                                                                                               │\n",
      "╘═══════════════════════════════════╧═══════════════════════════════════════════════════════════════════════════════════════════════════════════════╛\n"
     ]
    }
   ],
   "source": [
    "dataset_info = document.get_dataset_info()\n",
    "print(dataset_info.transpose().to_markdown(index=True, headers=['Dataset descriptor', 'Dataset specific information'], tablefmt=\"fancy_grid\"))"
   ]
  },
  {
   "attachments": {},
   "cell_type": "markdown",
   "id": "ee2455db",
   "metadata": {},
   "source": [
    "## 2. Metrics\n",
    "The tables below summarise the HESOP dataset in the UK LLC TRE."
   ]
  },
  {
   "attachments": {},
   "cell_type": "markdown",
   "id": "e0d88fc3",
   "metadata": {},
   "source": [
    "**Table 1** The number of participants from each LPS that are represented in the HESOP dataset in the UK LLC TRE   \n",
    "(**Note**: numbers relate to the most recent extract of NHS England data)\n"
   ]
  },
  {
   "cell_type": "code",
   "execution_count": 3,
   "id": "877ef22f",
   "metadata": {},
   "outputs": [
    {
     "name": "stdout",
     "output_type": "stream",
     "text": [
      "╒════════════════╤══════════════════════════╕\n",
      "│ LPS            │   Number of participants │\n",
      "╞════════════════╪══════════════════════════╡\n",
      "│ ALSPAC         │                     5692 │\n",
      "├────────────────┼──────────────────────────┤\n",
      "│ BCS70          │                     5698 │\n",
      "├────────────────┼──────────────────────────┤\n",
      "│ BIB            │                    26135 │\n",
      "├────────────────┼──────────────────────────┤\n",
      "│ ELSA           │                     6962 │\n",
      "├────────────────┼──────────────────────────┤\n",
      "│ EPICN          │                    14697 │\n",
      "├────────────────┼──────────────────────────┤\n",
      "│ EXCEED         │                     9161 │\n",
      "├────────────────┼──────────────────────────┤\n",
      "│ FENLAND        │                    10058 │\n",
      "├────────────────┼──────────────────────────┤\n",
      "│ GLAD           │                    50869 │\n",
      "├────────────────┼──────────────────────────┤\n",
      "│ MCS            │                    17141 │\n",
      "├────────────────┼──────────────────────────┤\n",
      "│ NCDS58         │                     6163 │\n",
      "├────────────────┼──────────────────────────┤\n",
      "│ NEXTSTEP       │                     4596 │\n",
      "├────────────────┼──────────────────────────┤\n",
      "│ NIHRBIO_COPING │                    16081 │\n",
      "├────────────────┼──────────────────────────┤\n",
      "│ NSHD46         │                     2870 │\n",
      "├────────────────┼──────────────────────────┤\n",
      "│ TEDS           │                     2276 │\n",
      "├────────────────┼──────────────────────────┤\n",
      "│ TRACKC19       │                    13284 │\n",
      "├────────────────┼──────────────────────────┤\n",
      "│ TWINSUK        │                    12607 │\n",
      "├────────────────┼──────────────────────────┤\n",
      "│ UKHLS          │                     6624 │\n",
      "├────────────────┼──────────────────────────┤\n",
      "│ total          │                   210914 │\n",
      "╘════════════════╧══════════════════════════╛\n"
     ]
    }
   ],
   "source": [
    "gb_cohort = document.get_cohort_count()\n",
    "print(gb_cohort.to_markdown(index=False, headers=['LPS', 'Number of participants'], tablefmt=\"fancy_grid\"))"
   ]
  },
  {
   "attachments": {},
   "cell_type": "markdown",
   "id": "4d7cab9b",
   "metadata": {},
   "source": [
    "## 3. Helpful syntax\n",
    "Below we will include syntax that may be helpful to other researchers in the UK LLC TRE. For longer scripts, we will include a snippet of the code plus a link to Git where you can find the full script. "
   ]
  }
 ],
 "metadata": {
  "kernelspec": {
   "display_name": "Python 3 (ipykernel)",
   "language": "python",
   "name": "python3"
  },
  "language_info": {
   "codemirror_mode": {
    "name": "ipython",
    "version": 3
   },
   "file_extension": ".py",
   "mimetype": "text/x-python",
   "name": "python",
   "nbconvert_exporter": "python",
   "pygments_lexer": "ipython3",
   "version": "3.12.0"
  }
 },
 "nbformat": 4,
 "nbformat_minor": 5
}
