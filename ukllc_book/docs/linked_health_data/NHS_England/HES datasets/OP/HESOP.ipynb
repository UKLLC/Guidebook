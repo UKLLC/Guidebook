{
 "cells": [
  {
   "attachments": {},
   "cell_type": "markdown",
   "id": "c928623b",
   "metadata": {},
   "source": [
    "# HES Outpatients (HESOP) Dataset\n",
    "## 1. Summary\n",
    "The information below is retrieved from the Health Data Gateway API developed by NHS England, with additional fields added by UK LLC (indicated by italics)."
   ]
  },
  {
   "cell_type": "code",
   "execution_count": 1,
   "id": "910dadbd",
   "metadata": {},
   "outputs": [],
   "source": [
    "# define target dataset to document\n",
    "schema = 'nhsd'\n",
    "table = 'HESOP'\n",
    "version = 'v0002'\n",
    "# import functions from script helper\n",
    "import sys\n",
    "script_fp = \"../../../../scripts/\"\n",
    "sys.path.insert(0, script_fp)\n",
    "from data_doc_helper import DocHelper\n",
    "# create instance\n",
    "document = DocHelper(schema, table, version, script_fp)\n",
    "# markdown/code hybrid cell module requirement\n",
    "from IPython.display import display, Markdown"
   ]
  },
  {
   "cell_type": "code",
   "execution_count": 8,
   "id": "04b9d605",
   "metadata": {},
   "outputs": [
    {
     "name": "stdout",
     "output_type": "stream",
     "text": [
      "╒═══════════════════════════════════╤═══════════════════════════════════════════════════════════════════════════════════════════════════════════════╕\n",
      "│ Dataset descriptor                │ Dataset specific information                                                                                  │\n",
      "╞═══════════════════════════════════╪═══════════════════════════════════════════════════════════════════════════════════════════════════════════════╡\n",
      "│ index                             │ 0                                                                                                             │\n",
      "├───────────────────────────────────┼───────────────────────────────────────────────────────────────────────────────────────────────────────────────┤\n",
      "│ Name of dataset in TRE            │ HESOP                                                                                                         │\n",
      "├───────────────────────────────────┼───────────────────────────────────────────────────────────────────────────────────────────────────────────────┤\n",
      "│ Other name                        │                                                                                                               │\n",
      "├───────────────────────────────────┼───────────────────────────────────────────────────────────────────────────────────────────────────────────────┤\n",
      "│ Owner                             │ NHS England                                                                                                   │\n",
      "├───────────────────────────────────┼───────────────────────────────────────────────────────────────────────────────────────────────────────────────┤\n",
      "│ Keywords                          │ Outpatients, NHS hospitals                                                                                    │\n",
      "├───────────────────────────────────┼───────────────────────────────────────────────────────────────────────────────────────────────────────────────┤\n",
      "│ Geographical coverage             │ England                                                                                                       │\n",
      "├───────────────────────────────────┼───────────────────────────────────────────────────────────────────────────────────────────────────────────────┤\n",
      "│ Temporal coverage                 │ 01/04/2003 onwards                                                                                            │\n",
      "├───────────────────────────────────┼───────────────────────────────────────────────────────────────────────────────────────────────────────────────┤\n",
      "│ TRE temporal coverage             │ 01/04/2003 onwards                                                                                            │\n",
      "├───────────────────────────────────┼───────────────────────────────────────────────────────────────────────────────────────────────────────────────┤\n",
      "│ Number of variables               │                                                                                                               │\n",
      "├───────────────────────────────────┼───────────────────────────────────────────────────────────────────────────────────────────────────────────────┤\n",
      "│ Number of participants            │                                                                                                               │\n",
      "├───────────────────────────────────┼───────────────────────────────────────────────────────────────────────────────────────────────────────────────┤\n",
      "│ Number of observations            │                                                                                                               │\n",
      "├───────────────────────────────────┼───────────────────────────────────────────────────────────────────────────────────────────────────────────────┤\n",
      "│ DOI                               │                                                                                                               │\n",
      "├───────────────────────────────────┼───────────────────────────────────────────────────────────────────────────────────────────────────────────────┤\n",
      "│ Key link                          │ https://digital.nhs.uk/data-and-information/data-tools-and-services/data-services/hospital-episode-statistics │\n",
      "├───────────────────────────────────┼───────────────────────────────────────────────────────────────────────────────────────────────────────────────┤\n",
      "│ Specific restrictions to data use │                                                                                                               │\n",
      "╘═══════════════════════════════════╧═══════════════════════════════════════════════════════════════════════════════════════════════════════════════╛\n"
     ]
    }
   ],
   "source": [
    "dataset_info = document.get_dataset_info()\n",
    "print(dataset_info.transpose().to_markdown(index=True, headers=['Dataset descriptor', 'Dataset specific information'], tablefmt=\"fancy_grid\"))"
   ]
  },
  {
   "attachments": {},
   "cell_type": "markdown",
   "id": "ee2455db",
   "metadata": {},
   "source": [
    "## 2. Metrics\n",
    "The tables below summarise the HESOP dataset in the UK LLC TRE."
   ]
  },
  {
   "attachments": {},
   "cell_type": "markdown",
   "id": "e0d88fc3",
   "metadata": {},
   "source": [
    "**Table 1** The number of participants from each LPS that are represented in the HESOP dataset in the UK LLC TRE   \n",
    "(**Note**: numbers relate to the most recent extract of NHS England data)\n"
   ]
  },
  {
   "cell_type": "code",
   "execution_count": null,
   "id": "877ef22f",
   "metadata": {},
   "outputs": [
    {
     "ename": "Exception",
     "evalue": "('DB connection failed with error', ModuleNotFoundError(\"No module named 'psycopg2'\"))",
     "output_type": "error",
     "traceback": [
      "\u001b[1;31m---------------------------------------------------------------------------\u001b[0m",
      "\u001b[1;31mModuleNotFoundError\u001b[0m                       Traceback (most recent call last)",
      "File \u001b[1;32mc:\\Users\\bzkme\\OneDrive - University of Bristol\\Documents\\Katharine\\GitHub\\jupyter-book\\ukllc_book\\docs\\linked_health_data\\NHS_England\\HES datasets\\OP\\../../../../scripts\\data_doc_helper.py:116\u001b[0m, in \u001b[0;36mDocHelper.connect\u001b[1;34m(self)\u001b[0m\n\u001b[0;32m    115\u001b[0m db_str \u001b[38;5;241m=\u001b[39m os\u001b[38;5;241m.\u001b[39menviron[\u001b[38;5;124m'\u001b[39m\u001b[38;5;124mDATABASE_URL\u001b[39m\u001b[38;5;124m'\u001b[39m]\u001b[38;5;241m.\u001b[39mreplace(\u001b[38;5;124m\"\u001b[39m\u001b[38;5;124mpostgres\u001b[39m\u001b[38;5;124m\"\u001b[39m, \u001b[38;5;124m\"\u001b[39m\u001b[38;5;124mpostgresql+psycopg2\u001b[39m\u001b[38;5;124m\"\u001b[39m, \u001b[38;5;241m1\u001b[39m)\n\u001b[1;32m--> 116\u001b[0m cnxn \u001b[38;5;241m=\u001b[39m \u001b[43msqlalchemy\u001b[49m\u001b[38;5;241;43m.\u001b[39;49m\u001b[43mcreate_engine\u001b[49m\u001b[43m(\u001b[49m\u001b[43mdb_str\u001b[49m\u001b[43m)\u001b[49m\n\u001b[0;32m    117\u001b[0m \u001b[38;5;28;01mreturn\u001b[39;00m(cnxn)\n",
      "File \u001b[1;32m<string>:2\u001b[0m, in \u001b[0;36mcreate_engine\u001b[1;34m(url, **kwargs)\u001b[0m\n",
      "File \u001b[1;32mc:\\Users\\bzkme\\.conda\\envs\\jupbook\\Lib\\site-packages\\sqlalchemy\\util\\deprecations.py:281\u001b[0m, in \u001b[0;36mdeprecated_params.<locals>.decorate.<locals>.warned\u001b[1;34m(fn, *args, **kwargs)\u001b[0m\n\u001b[0;32m    275\u001b[0m         _warn_with_version(\n\u001b[0;32m    276\u001b[0m             messages[m],\n\u001b[0;32m    277\u001b[0m             versions[m],\n\u001b[0;32m    278\u001b[0m             version_warnings[m],\n\u001b[0;32m    279\u001b[0m             stacklevel\u001b[38;5;241m=\u001b[39m\u001b[38;5;241m3\u001b[39m,\n\u001b[0;32m    280\u001b[0m         )\n\u001b[1;32m--> 281\u001b[0m \u001b[38;5;28;01mreturn\u001b[39;00m \u001b[43mfn\u001b[49m\u001b[43m(\u001b[49m\u001b[38;5;241;43m*\u001b[39;49m\u001b[43margs\u001b[49m\u001b[43m,\u001b[49m\u001b[43m \u001b[49m\u001b[38;5;241;43m*\u001b[39;49m\u001b[38;5;241;43m*\u001b[39;49m\u001b[43mkwargs\u001b[49m\u001b[43m)\u001b[49m\n",
      "File \u001b[1;32mc:\\Users\\bzkme\\.conda\\envs\\jupbook\\Lib\\site-packages\\sqlalchemy\\engine\\create.py:599\u001b[0m, in \u001b[0;36mcreate_engine\u001b[1;34m(url, **kwargs)\u001b[0m\n\u001b[0;32m    598\u001b[0m             dbapi_args[k] \u001b[38;5;241m=\u001b[39m pop_kwarg(k)\n\u001b[1;32m--> 599\u001b[0m     dbapi \u001b[38;5;241m=\u001b[39m \u001b[43mdbapi_meth\u001b[49m\u001b[43m(\u001b[49m\u001b[38;5;241;43m*\u001b[39;49m\u001b[38;5;241;43m*\u001b[39;49m\u001b[43mdbapi_args\u001b[49m\u001b[43m)\u001b[49m\n\u001b[0;32m    601\u001b[0m dialect_args[\u001b[38;5;124m\"\u001b[39m\u001b[38;5;124mdbapi\u001b[39m\u001b[38;5;124m\"\u001b[39m] \u001b[38;5;241m=\u001b[39m dbapi\n",
      "File \u001b[1;32mc:\\Users\\bzkme\\.conda\\envs\\jupbook\\Lib\\site-packages\\sqlalchemy\\dialects\\postgresql\\psycopg2.py:690\u001b[0m, in \u001b[0;36mPGDialect_psycopg2.import_dbapi\u001b[1;34m(cls)\u001b[0m\n\u001b[0;32m    688\u001b[0m \u001b[38;5;129m@classmethod\u001b[39m\n\u001b[0;32m    689\u001b[0m \u001b[38;5;28;01mdef\u001b[39;00m \u001b[38;5;21mimport_dbapi\u001b[39m(\u001b[38;5;28mcls\u001b[39m):\n\u001b[1;32m--> 690\u001b[0m     \u001b[38;5;28;01mimport\u001b[39;00m \u001b[38;5;21;01mpsycopg2\u001b[39;00m\n\u001b[0;32m    692\u001b[0m     \u001b[38;5;28;01mreturn\u001b[39;00m psycopg2\n",
      "\u001b[1;31mModuleNotFoundError\u001b[0m: No module named 'psycopg2'",
      "\nDuring handling of the above exception, another exception occurred:\n",
      "\u001b[1;31mException\u001b[0m                                 Traceback (most recent call last)",
      "Cell \u001b[1;32mIn[3], line 1\u001b[0m\n\u001b[1;32m----> 1\u001b[0m gb_cohort \u001b[38;5;241m=\u001b[39m \u001b[43mdocument\u001b[49m\u001b[38;5;241;43m.\u001b[39;49m\u001b[43mget_cohort_count\u001b[49m\u001b[43m(\u001b[49m\u001b[43m)\u001b[49m\n\u001b[0;32m      2\u001b[0m \u001b[38;5;28mprint\u001b[39m(gb_cohort\u001b[38;5;241m.\u001b[39mto_markdown(index\u001b[38;5;241m=\u001b[39m\u001b[38;5;28;01mFalse\u001b[39;00m, headers\u001b[38;5;241m=\u001b[39m[\u001b[38;5;124m'\u001b[39m\u001b[38;5;124mLPS\u001b[39m\u001b[38;5;124m'\u001b[39m, \u001b[38;5;124m'\u001b[39m\u001b[38;5;124mNumber of participants\u001b[39m\u001b[38;5;124m'\u001b[39m], tablefmt\u001b[38;5;241m=\u001b[39m\u001b[38;5;124m\"\u001b[39m\u001b[38;5;124mfancy_grid\u001b[39m\u001b[38;5;124m\"\u001b[39m))\n",
      "File \u001b[1;32mc:\\Users\\bzkme\\OneDrive - University of Bristol\\Documents\\Katharine\\GitHub\\jupyter-book\\ukllc_book\\docs\\linked_health_data\\NHS_England\\HES datasets\\OP\\../../../../scripts\\data_doc_helper.py:158\u001b[0m, in \u001b[0;36mDocHelper.get_cohort_count\u001b[1;34m(self)\u001b[0m\n\u001b[0;32m    151\u001b[0m q \u001b[38;5;241m=\u001b[39m \u001b[38;5;124m'''\u001b[39m\n\u001b[0;32m    152\u001b[0m \u001b[38;5;124mSELECT cohort, count\u001b[39m\n\u001b[0;32m    153\u001b[0m \u001b[38;5;124mFROM nhs_dataset_cohort_linkage\u001b[39m\n\u001b[0;32m    154\u001b[0m \u001b[38;5;124mwhere dataset like \u001b[39m\u001b[38;5;124m'\u001b[39m\u001b[38;5;132;01m{}\u001b[39;00m\u001b[38;5;124m_\u001b[39m\u001b[38;5;132;01m{}\u001b[39;00m\u001b[38;5;132;01m%%\u001b[39;00m\u001b[38;5;124m'\u001b[39m\n\u001b[0;32m    155\u001b[0m \u001b[38;5;124mand cohort not in (\u001b[39m\u001b[38;5;124m'\u001b[39m\u001b[38;5;124mGENSCOT\u001b[39m\u001b[38;5;124m'\u001b[39m\u001b[38;5;124m, \u001b[39m\u001b[38;5;124m'\u001b[39m\u001b[38;5;124mNICOLA\u001b[39m\u001b[38;5;124m'\u001b[39m\u001b[38;5;124m, \u001b[39m\u001b[38;5;124m'\u001b[39m\u001b[38;5;124mSABRE\u001b[39m\u001b[38;5;124m'\u001b[39m\u001b[38;5;124m)\u001b[39m\n\u001b[0;32m    156\u001b[0m \u001b[38;5;124morder by cohort;\u001b[39m\u001b[38;5;124m'''\u001b[39m\u001b[38;5;241m.\u001b[39mformat(\u001b[38;5;28mself\u001b[39m\u001b[38;5;241m.\u001b[39mdata, \u001b[38;5;28mself\u001b[39m\u001b[38;5;241m.\u001b[39mversion)\n\u001b[0;32m    157\u001b[0m \u001b[38;5;66;03m# pull data from database and return\u001b[39;00m\n\u001b[1;32m--> 158\u001b[0m cnxn \u001b[38;5;241m=\u001b[39m \u001b[38;5;28;43mself\u001b[39;49m\u001b[38;5;241;43m.\u001b[39;49m\u001b[43mconnect\u001b[49m\u001b[43m(\u001b[49m\u001b[43m)\u001b[49m\n\u001b[0;32m    159\u001b[0m cnt \u001b[38;5;241m=\u001b[39m pd\u001b[38;5;241m.\u001b[39mread_sql(q, cnxn)\n\u001b[0;32m    160\u001b[0m \u001b[38;5;66;03m# treat <10 as 0\u001b[39;00m\n",
      "File \u001b[1;32mc:\\Users\\bzkme\\OneDrive - University of Bristol\\Documents\\Katharine\\GitHub\\jupyter-book\\ukllc_book\\docs\\linked_health_data\\NHS_England\\HES datasets\\OP\\../../../../scripts\\data_doc_helper.py:120\u001b[0m, in \u001b[0;36mDocHelper.connect\u001b[1;34m(self)\u001b[0m\n\u001b[0;32m    118\u001b[0m \u001b[38;5;66;03m# raise exception if connection failure\u001b[39;00m\n\u001b[0;32m    119\u001b[0m \u001b[38;5;28;01mexcept\u001b[39;00m \u001b[38;5;167;01mException\u001b[39;00m \u001b[38;5;28;01mas\u001b[39;00m e:\n\u001b[1;32m--> 120\u001b[0m     \u001b[38;5;28;01mraise\u001b[39;00m \u001b[38;5;167;01mException\u001b[39;00m(\u001b[38;5;124m\"\u001b[39m\u001b[38;5;124mDB connection failed with error\u001b[39m\u001b[38;5;124m\"\u001b[39m, e)\n",
      "\u001b[1;31mException\u001b[0m: ('DB connection failed with error', ModuleNotFoundError(\"No module named 'psycopg2'\"))"
     ]
    }
   ],
   "source": [
    "gb_cohort = document.get_cohort_count()\n",
    "print(gb_cohort.to_markdown(index=False, headers=['LPS', 'Number of participants'], tablefmt=\"fancy_grid\"))"
   ]
  },
  {
   "attachments": {},
   "cell_type": "markdown",
   "id": "4d7cab9b",
   "metadata": {},
   "source": [
    "## 3. Helpful syntax\n",
    "Below we will include syntax that may be helpful to other researchers in the UK LLC TRE. For longer scripts, we will include a snippet of the code plus a link to Git where you can find the full script. "
   ]
  }
 ],
 "metadata": {
  "kernelspec": {
   "display_name": "Python 3 (ipykernel)",
   "language": "python",
   "name": "python3"
  },
  "language_info": {
   "codemirror_mode": {
    "name": "ipython",
    "version": 3
   },
   "file_extension": ".py",
   "mimetype": "text/x-python",
   "name": "python",
   "nbconvert_exporter": "python",
   "pygments_lexer": "ipython3",
   "version": "3.12.2"
  }
 },
 "nbformat": 4,
 "nbformat_minor": 5
}
