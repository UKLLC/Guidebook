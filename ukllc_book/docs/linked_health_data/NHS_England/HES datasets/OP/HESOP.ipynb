{
 "cells": [
  {
   "cell_type": "markdown",
   "id": "c928623b",
   "metadata": {},
   "source": [
    "# HES Outpatients (HESOP) Dataset\n",
    "## 1. Summary\n",
    "The information below is retrieved from the Health Data Gateway API developed by NHS England, with additional fields added by UK LLC (indicated by italics)."
   ]
  },
  {
   "cell_type": "code",
   "execution_count": 2,
   "id": "910dadbd",
   "metadata": {},
   "outputs": [],
   "source": [
    "# define target dataset to document\n",
    "schema = 'nhsd'\n",
    "table = 'HESOP'\n",
    "version = 'v0002'\n",
    "# import functions from script helper\n",
    "import sys\n",
    "script_fp = \"../../../../scripts/\"\n",
    "sys.path.insert(0, script_fp)\n",
    "from data_doc_helper import DocHelper\n",
    "# create instance\n",
    "document = DocHelper(schema, table, version, script_fp)\n",
    "# markdown/code hybrid cell module requirement\n",
    "from IPython.display import display, Markdown"
   ]
  },
  {
   "cell_type": "code",
   "execution_count": 3,
   "id": "103f2c9b",
   "metadata": {},
   "outputs": [
    {
     "data": {
      "text/markdown": [
       "**NHS England title of dataset:** Hospital Episode Statistics Outpatients"
      ],
      "text/plain": [
       "<IPython.core.display.Markdown object>"
      ]
     },
     "metadata": {},
     "output_type": "display_data"
    },
    {
     "data": {
      "text/markdown": [
       "***Dataset name in UK LLC TRE***: *nhsd.HESOP*"
      ],
      "text/plain": [
       "<IPython.core.display.Markdown object>"
      ]
     },
     "metadata": {},
     "output_type": "display_data"
    },
    {
     "data": {
      "text/markdown": [
       "**Short abstract:** Record-level patient data set of patients attending outpatient clinics at NHS hospitals in England. A record represents one appointment."
      ],
      "text/plain": [
       "<IPython.core.display.Markdown object>"
      ]
     },
     "metadata": {},
     "output_type": "display_data"
    },
    {
     "data": {
      "text/markdown": [
       "***Extended abstract***: [*https://web.www.healthdatagateway.org/dataset/2566eebb-417f-4a24-9c5d-7fa1f4d9d5e8*](https://web.www.healthdatagateway.org/dataset/2566eebb-417f-4a24-9c5d-7fa1f4d9d5e8)"
      ],
      "text/plain": [
       "<IPython.core.display.Markdown object>"
      ]
     },
     "metadata": {},
     "output_type": "display_data"
    },
    {
     "data": {
      "text/markdown": [
       "**Geographical coverage:** United Kingdom,England"
      ],
      "text/plain": [
       "<IPython.core.display.Markdown object>"
      ]
     },
     "metadata": {},
     "output_type": "display_data"
    },
    {
     "data": {
      "text/markdown": [
       "**Temporal coverage:** 2003-04-01"
      ],
      "text/plain": [
       "<IPython.core.display.Markdown object>"
      ]
     },
     "metadata": {},
     "output_type": "display_data"
    },
    {
     "data": {
      "text/markdown": [
       "***Data available in UK LLC TRE from***: *01/04/2003 onwards*"
      ],
      "text/plain": [
       "<IPython.core.display.Markdown object>"
      ]
     },
     "metadata": {},
     "output_type": "display_data"
    },
    {
     "data": {
      "text/markdown": [
       "**Typical age range:** 0-150"
      ],
      "text/plain": [
       "<IPython.core.display.Markdown object>"
      ]
     },
     "metadata": {},
     "output_type": "display_data"
    },
    {
     "data": {
      "text/markdown": [
       "**Collection situation:** OUTPATIENTS"
      ],
      "text/plain": [
       "<IPython.core.display.Markdown object>"
      ]
     },
     "metadata": {},
     "output_type": "display_data"
    },
    {
     "data": {
      "text/markdown": [
       "**Purpose:** CARE"
      ],
      "text/plain": [
       "<IPython.core.display.Markdown object>"
      ]
     },
     "metadata": {},
     "output_type": "display_data"
    },
    {
     "data": {
      "text/markdown": [
       "**Source:** EPR"
      ],
      "text/plain": [
       "<IPython.core.display.Markdown object>"
      ]
     },
     "metadata": {},
     "output_type": "display_data"
    },
    {
     "data": {
      "text/markdown": [
       "**Pathway:** Secondary Care pathway. This dataset covers outpatient appointments at hospitals in England. It includes information on the treatment and outcome of the appointment."
      ],
      "text/plain": [
       "<IPython.core.display.Markdown object>"
      ]
     },
     "metadata": {},
     "output_type": "display_data"
    },
    {
     "data": {
      "text/markdown": [
       "***Information collected***: *Patient demographics, date and type of consultation, treatment specialty, referral source and waiting time, clinical diagnosis and procedures performed.*"
      ],
      "text/plain": [
       "<IPython.core.display.Markdown object>"
      ]
     },
     "metadata": {},
     "output_type": "display_data"
    },
    {
     "data": {
      "text/markdown": [
       "***Structure of dataset***: *Each appointment is represented by a distinct row of data. A patient may have multiple appointments in a financial year.*"
      ],
      "text/plain": [
       "<IPython.core.display.Markdown object>"
      ]
     },
     "metadata": {},
     "output_type": "display_data"
    },
    {
     "data": {
      "text/markdown": [
       "***Update frequency in UK LLC TRE***: *Quarterly*"
      ],
      "text/plain": [
       "<IPython.core.display.Markdown object>"
      ]
     },
     "metadata": {},
     "output_type": "display_data"
    },
    {
     "data": {
      "text/markdown": [
       "***Dataset versions in UK LLC TRE***: *TBC*"
      ],
      "text/plain": [
       "<IPython.core.display.Markdown object>"
      ]
     },
     "metadata": {},
     "output_type": "display_data"
    },
    {
     "data": {
      "text/markdown": [
       "***Data quality issues***: *Data quality notes that highlight specific known issues are published alongside the finalised HES datasets: [https://digital.nhs.uk/data-and-information/data-tools-and-services/data-services/hospital-episode-statistics/the-processing-cycle-and-hes-data-quality](https://digital.nhs.uk/data-and-information/data-tools-and-services/data-services/hospital-episode-statistics/the-processing-cycle-and-hes-data-quality)*"
      ],
      "text/plain": [
       "<IPython.core.display.Markdown object>"
      ]
     },
     "metadata": {},
     "output_type": "display_data"
    },
    {
     "data": {
      "text/markdown": [
       "***Restrictions to data usage***: *Medical purposes only (medical research) as defined in the NHS Act 2006: [https://www.legislation.gov.uk/ukpga/2006/41/part/13/crossheading/patient-information](https://www.legislation.gov.uk/ukpga/2006/41/part/13/crossheading/patient-information)*"
      ],
      "text/plain": [
       "<IPython.core.display.Markdown object>"
      ]
     },
     "metadata": {},
     "output_type": "display_data"
    },
    {
     "data": {
      "text/markdown": [
       "***Further information***: [*https://digital.nhs.uk/data-and-information/data-tools-and-services/data-services/hospital-episode-statistics*](https://digital.nhs.uk/data-and-information/data-tools-and-services/data-services/hospital-episode-statistics)"
      ],
      "text/plain": [
       "<IPython.core.display.Markdown object>"
      ]
     },
     "metadata": {},
     "output_type": "display_data"
    }
   ],
   "source": [
    "# get api data\n",
    "dataset = document.get_api_data()\n",
    "display(Markdown(\"**NHS England title of dataset:** \"+dataset['datasetfields']['datautility']['title']))\n",
    "display(Markdown(\"***Dataset name in UK LLC TRE***: *nhsd.HESOP*\"))  \n",
    "display(Markdown(\"**Short abstract:** \"+dataset['datasetfields']['abstract']))\n",
    "display(Markdown(\"***Extended abstract***: [*https://web.www.healthdatagateway.org/dataset/2566eebb-417f-4a24-9c5d-7fa1f4d9d5e8*](https://web.www.healthdatagateway.org/dataset/2566eebb-417f-4a24-9c5d-7fa1f4d9d5e8)\"))\n",
    "display(Markdown(\"**Geographical coverage:** \"+dataset['datasetfields']['geographicCoverage'][0]))\n",
    "display(Markdown(\"**Temporal coverage:** \"+dataset['datasetfields']['datasetStartDate']))\n",
    "display(Markdown(\"***Data available in UK LLC TRE from***: *01/04/2003 onwards*\"))\n",
    "display(Markdown(\"**Typical age range:** \"+dataset['datasetfields']['ageBand']))\n",
    "display(Markdown(\"**Collection situation:** \"+dataset['datasetv2']['provenance']['origin']['collectionSituation'][0]))\n",
    "display(Markdown(\"**Purpose:** \"+dataset['datasetv2']['provenance']['origin']['purpose'][0]))\n",
    "display(Markdown(\"**Source:** \"+dataset['datasetv2']['provenance']['origin']['source'][0]))\n",
    "display(Markdown(\"**Pathway:** \"+dataset['datasetv2']['coverage']['pathway']))\n",
    "display(Markdown(\"***Information collected***: *Patient demographics, date and type of consultation, treatment specialty, referral source and waiting time, clinical diagnosis and procedures performed.*\"))  \n",
    "display(Markdown(\"***Structure of dataset***: *Each appointment is represented by a distinct row of data. A patient may have multiple appointments in a financial year.*\"))  \n",
    "display(Markdown(\"***Update frequency in UK LLC TRE***: *Quarterly*\"))  \n",
    "display(Markdown(\"***Dataset versions in UK LLC TRE***: *TBC*\"))\n",
    "display(Markdown(\"***Data quality issues***: *Data quality notes that highlight specific known issues are published alongside the finalised HES datasets: [https://digital.nhs.uk/data-and-information/data-tools-and-services/data-services/hospital-episode-statistics/the-processing-cycle-and-hes-data-quality](https://digital.nhs.uk/data-and-information/data-tools-and-services/data-services/hospital-episode-statistics/the-processing-cycle-and-hes-data-quality)*\"))  \n",
    "display(Markdown(\"***Restrictions to data usage***: *Medical purposes only (medical research) as defined in the NHS Act 2006: [https://www.legislation.gov.uk/ukpga/2006/41/part/13/crossheading/patient-information](https://www.legislation.gov.uk/ukpga/2006/41/part/13/crossheading/patient-information)*\"))  \n",
    "display(Markdown(\"***Further information***: [*https://digital.nhs.uk/data-and-information/data-tools-and-services/data-services/hospital-episode-statistics*](https://digital.nhs.uk/data-and-information/data-tools-and-services/data-services/hospital-episode-statistics)\"))\n"
   ]
  },
  {
   "cell_type": "markdown",
   "id": "ee2455db",
   "metadata": {},
   "source": [
    "## 2. Metrics\n",
    "The tables below summarise the HESOP dataset in the UK LLC TRE."
   ]
  },
  {
   "cell_type": "markdown",
   "id": "e0d88fc3",
   "metadata": {},
   "source": [
    "**Table 1** The number of participants from each LPS that are represented in the HESOP dataset in the UK LLC TRE   \n",
    "(**Note**: numbers relate to the most recent extract of NHS England data)\n"
   ]
  },
  {
   "cell_type": "code",
   "execution_count": 4,
   "id": "877ef22f",
   "metadata": {},
   "outputs": [],
   "source": [
    "gb_cohort = document.get_cohort_count()\n",
    "print(gb_cohort.to_markdown(index=False, tablefmt=\"fancy_grid\"))"
   ]
  },
  {
   "cell_type": "code",
   "execution_count": 6,
   "id": "0c759efd",
   "metadata": {},
   "outputs": [
    {
     "name": "stdout",
     "output_type": "stream",
     "text": [
      "   index Name of dataset in TRE Other name        Owner  \\\n",
      "0      0                  HESOP       None  NHS England   \n",
      "\n",
      "                     Keywords Geographical coverage   Temporal coverage  \\\n",
      "0  Outpatients, NHS hospitals               England  01/04/2003 onwards   \n",
      "\n",
      "  TRE temporal coverage Number of variables Number of participants  \\\n",
      "0    01/04/2003 onwards                None                   None   \n",
      "\n",
      "  Number of observations   DOI  \\\n",
      "0                   None  None   \n",
      "\n",
      "                                            Key link  \\\n",
      "0  https://digital.nhs.uk/data-and-information/da...   \n",
      "\n",
      "  Specific restrictions to data use  \n",
      "0                              None  \n",
      "\n",
      "\n",
      "                                                                                   0\n",
      "index                                                                              0\n",
      "Name of dataset in TRE                                                         HESOP\n",
      "Other name                                                                      None\n",
      "Owner                                                                    NHS England\n",
      "Keywords                                                  Outpatients, NHS hospitals\n",
      "Geographical coverage                                                        England\n",
      "Temporal coverage                                                 01/04/2003 onwards\n",
      "TRE temporal coverage                                             01/04/2003 onwards\n",
      "Number of variables                                                             None\n",
      "Number of participants                                                          None\n",
      "Number of observations                                                          None\n",
      "DOI                                                                             None\n",
      "Key link                           https://digital.nhs.uk/data-and-information/da...\n",
      "Specific restrictions to data use                                               None\n"
     ]
    },
    {
     "ename": "",
     "evalue": "",
     "output_type": "error",
     "traceback": [
      "\u001b[1;31mThe Kernel crashed while executing code in the current cell or a previous cell. \n",
      "\u001b[1;31mPlease review the code in the cell(s) to identify a possible cause of the failure. \n",
      "\u001b[1;31mClick <a href='https://aka.ms/vscodeJupyterKernelCrash'>here</a> for more info. \n",
      "\u001b[1;31mView Jupyter <a href='command:jupyter.viewOutput'>log</a> for further details."
     ]
    }
   ],
   "source": [
    "dataset_info = document.get_dataset_info()\n",
    "print(dataset_info.transpose().to_markdown(index=False, tablefmt=\"fancy_grid\"))"
   ]
  },
  {
   "cell_type": "markdown",
   "id": "4d7cab9b",
   "metadata": {},
   "source": [
    "## 3. Helpful syntax\n",
    "Below we will include syntax that may be helpful to other researchers in the UK LLC TRE. For longer scripts, we will include a snippet of the code plus a link to Git where you can find the full script. "
   ]
  }
 ],
 "metadata": {
  "kernelspec": {
   "display_name": "Python 3 (ipykernel)",
   "language": "python",
   "name": "python3"
  },
  "language_info": {
   "codemirror_mode": {
    "name": "ipython",
    "version": 3
   },
   "file_extension": ".py",
   "mimetype": "text/x-python",
   "name": "python",
   "nbconvert_exporter": "python",
   "pygments_lexer": "ipython3",
   "version": "3.10.13"
  }
 },
 "nbformat": 4,
 "nbformat_minor": 5
}
