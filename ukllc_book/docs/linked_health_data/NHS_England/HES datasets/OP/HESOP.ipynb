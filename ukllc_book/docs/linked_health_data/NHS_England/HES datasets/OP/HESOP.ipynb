{
 "cells": [
  {
   "attachments": {},
   "cell_type": "markdown",
   "id": "c928623b",
   "metadata": {},
   "source": [
    "# HES Outpatients (HESOP) Dataset"
   ]
  },
  {
   "cell_type": "code",
   "execution_count": 1,
   "id": "71405ccc",
   "metadata": {
    "tags": [
     "remove-input"
    ]
   },
   "outputs": [
    {
     "data": {
      "text/markdown": [
       ">Last modified: 03 Jul 2025"
      ],
      "text/plain": [
       "<IPython.core.display.Markdown object>"
      ]
     },
     "metadata": {},
     "output_type": "display_data"
    }
   ],
   "source": [
    "import sys\n",
    "import os\n",
    "sys.path.append(os.path.abspath('../../../../scripts/'))\n",
    "from data_doc_helper import NHSEDataSet as DS, last_modified\n",
    "ds = DS(\"HESOP\")\n",
    "last_modified()"
   ]
  },
  {
   "cell_type": "code",
   "execution_count": 2,
   "id": "91b35815",
   "metadata": {
    "tags": [
     "remove-input"
    ]
   },
   "outputs": [
    {
     "data": {
      "text/markdown": [
       "<div style=\"background-color: rgba(0, 178, 169, 0.3); padding: 5px; border-radius: 5px;\"><strong>Outpatient appointments at NHS hospitals in England.</strong></div>"
      ],
      "text/plain": [
       "<IPython.core.display.Markdown object>"
      ]
     },
     "metadata": {},
     "output_type": "display_data"
    }
   ],
   "source": [
    "ds.three_sec_summary()"
   ]
  },
  {
   "cell_type": "markdown",
   "id": "c7d719ca",
   "metadata": {},
   "source": [
    "## 1. Summary"
   ]
  },
  {
   "cell_type": "code",
   "execution_count": 3,
   "id": "31f20bc2",
   "metadata": {
    "tags": [
     "remove-input"
    ]
   },
   "outputs": [
    {
     "data": {
      "text/markdown": [
       "Data are collected about all outpatient appointments at NHS hospitals in England. Data collected include demographics, date and type of consultation, treatment specialty, referral source and waiting time, clinical diagnosis and procedures performed. "
      ],
      "text/plain": [
       "<IPython.core.display.Markdown object>"
      ]
     },
     "metadata": {},
     "output_type": "display_data"
    }
   ],
   "source": [
    "ds.summary()"
   ]
  },
  {
   "cell_type": "code",
   "execution_count": 4,
   "id": "8c00184b",
   "metadata": {
    "tags": [
     "remove-input"
    ]
   },
   "outputs": [
    {
     "data": {
      "text/html": [
       "<style type=\"text/css\">\n",
       "#T_ce189 th {\n",
       "  text-align: left;\n",
       "}\n",
       "#T_ce189_row0_col0, #T_ce189_row0_col1, #T_ce189_row1_col0, #T_ce189_row1_col1, #T_ce189_row2_col0, #T_ce189_row2_col1, #T_ce189_row3_col0, #T_ce189_row3_col1, #T_ce189_row4_col0, #T_ce189_row4_col1, #T_ce189_row5_col0, #T_ce189_row5_col1, #T_ce189_row6_col0, #T_ce189_row6_col1, #T_ce189_row7_col0, #T_ce189_row7_col1, #T_ce189_row8_col0, #T_ce189_row8_col1, #T_ce189_row9_col0, #T_ce189_row9_col1, #T_ce189_row10_col0, #T_ce189_row10_col1, #T_ce189_row11_col0, #T_ce189_row11_col1, #T_ce189_row12_col0, #T_ce189_row12_col1, #T_ce189_row13_col0, #T_ce189_row13_col1, #T_ce189_row14_col0, #T_ce189_row14_col1 {\n",
       "  text-align: left;\n",
       "}\n",
       "</style>\n",
       "<table id=\"T_ce189\" style=\"font-size: 14px\">\n",
       "  <thead>\n",
       "    <tr>\n",
       "      <th id=\"T_ce189_level0_col0\" class=\"col_heading level0 col0\" >Dataset Descriptor</th>\n",
       "      <th id=\"T_ce189_level0_col1\" class=\"col_heading level0 col1\" >Dataset-specific Information</th>\n",
       "    </tr>\n",
       "  </thead>\n",
       "  <tbody>\n",
       "    <tr>\n",
       "      <td id=\"T_ce189_row0_col0\" class=\"data row0 col0\" >Name of Dataset in TRE</td>\n",
       "      <td id=\"T_ce189_row0_col1\" class=\"data row0 col1\" >NHSE_HESOP</td>\n",
       "    </tr>\n",
       "    <tr>\n",
       "      <td id=\"T_ce189_row1_col0\" class=\"data row1 col0\" >Citation (APA)</td>\n",
       "      <td id=\"T_ce189_row1_col1\" class=\"data row1 col1\" >Data Services, NHS England (NHSE) . (2024). <i>NHS England: Hospital Episode Statistics (HES) Outpatients Dataset.</i> UK Longitudinal Linkage Collaboration (UK LLC).  <a href=\"https://doi.org/10.83126/ukllc-dataset-00038-03\" rel=\"noopener noreferrer\" target=\"_blank\">https://doi.org/10.83126/ukllc-dataset-00038-03</a></td>\n",
       "    </tr>\n",
       "    <tr>\n",
       "      <td id=\"T_ce189_row2_col0\" class=\"data row2 col0\" >Download Citation</td>\n",
       "      <td id=\"T_ce189_row2_col1\" class=\"data row2 col1\" > <a href=\"https://api.datacite.org/application/vnd.citationstyles.csl+json/10.83126/ukllc-dataset-00038-03\" rel=\"noopener noreferrer\" target=\"_blank\">Citeproc JSON</a>&nbsp;&nbsp;&nbsp;&nbsp; <a href=\"https://api.datacite.org/application/x-bibtex/10.83126/ukllc-dataset-00038-03\" rel=\"noopener noreferrer\" target=\"_blank\">BibTeX</a>&nbsp;&nbsp;&nbsp;&nbsp; <a href=\"https://api.datacite.org/application/x-research-info-systems/10.83126/ukllc-dataset-00038-03\" rel=\"noopener noreferrer\" target=\"_blank\">RIS</a></td>\n",
       "    </tr>\n",
       "    <tr>\n",
       "      <td id=\"T_ce189_row3_col0\" class=\"data row3 col0\" >Series</td>\n",
       "      <td id=\"T_ce189_row3_col1\" class=\"data row3 col1\" > <a href=\"https://guidebook.ukllc.ac.uk/docs//linked_health_data/NHS_England/NHSE_intro\" rel=\"noopener noreferrer\" target=\"_blank\">NHS England</a></td>\n",
       "    </tr>\n",
       "    <tr>\n",
       "      <td id=\"T_ce189_row4_col0\" class=\"data row4 col0\" >Owner</td>\n",
       "      <td id=\"T_ce189_row4_col1\" class=\"data row4 col1\" >NHS England, Office for National Statistics and Department of Health and Social Care</td>\n",
       "    </tr>\n",
       "    <tr>\n",
       "      <td id=\"T_ce189_row5_col0\" class=\"data row5 col0\" >Temporal Coverage in the TRE</td>\n",
       "      <td id=\"T_ce189_row5_col1\" class=\"data row5 col1\" >04/2003 - ongoing</td>\n",
       "    </tr>\n",
       "    <tr>\n",
       "      <td id=\"T_ce189_row6_col0\" class=\"data row6 col0\" >Geographical Coverage</td>\n",
       "      <td id=\"T_ce189_row6_col1\" class=\"data row6 col1\" >England</td>\n",
       "    </tr>\n",
       "    <tr>\n",
       "      <td id=\"T_ce189_row7_col0\" class=\"data row7 col0\" >Participant Count</td>\n",
       "      <td id=\"T_ce189_row7_col1\" class=\"data row7 col1\" >202907</td>\n",
       "    </tr>\n",
       "    <tr>\n",
       "      <td id=\"T_ce189_row8_col0\" class=\"data row8 col0\" >Number of Variables</td>\n",
       "      <td id=\"T_ce189_row8_col1\" class=\"data row8 col1\" >149</td>\n",
       "    </tr>\n",
       "    <tr>\n",
       "      <td id=\"T_ce189_row9_col0\" class=\"data row9 col0\" >Number of Observations</td>\n",
       "      <td id=\"T_ce189_row9_col1\" class=\"data row9 col1\" >8575150</td>\n",
       "    </tr>\n",
       "    <tr>\n",
       "      <td id=\"T_ce189_row10_col0\" class=\"data row10 col0\" >Key Link</td>\n",
       "      <td id=\"T_ce189_row10_col1\" class=\"data row10 col1\" > <a href=\"https://digital.nhs.uk/data-and-information/data-tools-and-services/data-services/hospital-episode-statistics\" rel=\"noopener noreferrer\" target=\"_blank\">https://digital.nhs.uk/data-and-information/data-tools-and-services/data-services/hospital-episode-statistics</a></td>\n",
       "    </tr>\n",
       "    <tr>\n",
       "      <td id=\"T_ce189_row11_col0\" class=\"data row11 col0\" >Keywords</td>\n",
       "      <td id=\"T_ce189_row11_col1\" class=\"data row11 col1\" >Outpatients, NHS hospitals</td>\n",
       "    </tr>\n",
       "    <tr>\n",
       "      <td id=\"T_ce189_row12_col0\" class=\"data row12 col0\" >Latest Extract Date</td>\n",
       "      <td id=\"T_ce189_row12_col1\" class=\"data row12 col1\" >2024-04-26</td>\n",
       "    </tr>\n",
       "    <tr>\n",
       "      <td id=\"T_ce189_row13_col0\" class=\"data row13 col0\" >Specific Restrictions to Data Use</td>\n",
       "      <td id=\"T_ce189_row13_col1\" class=\"data row13 col1\" >None</td>\n",
       "    </tr>\n",
       "    <tr>\n",
       "      <td id=\"T_ce189_row14_col0\" class=\"data row14 col0\" >Build a Data Request</td>\n",
       "      <td id=\"T_ce189_row14_col1\" class=\"data row14 col1\" > <a href=\"https://explore.ukllc.ac.uk/\" rel=\"noopener noreferrer\" target=\"_blank\">https://explore.ukllc.ac.uk/</a></td>\n",
       "    </tr>\n",
       "  </tbody>\n",
       "</table>\n"
      ],
      "text/plain": [
       "<pandas.io.formats.style.Styler at 0x24e12f02a50>"
      ]
     },
     "execution_count": 4,
     "metadata": {},
     "output_type": "execute_result"
    }
   ],
   "source": [
    "ds.info_table()"
   ]
  },
  {
   "cell_type": "markdown",
   "id": "ebf55707",
   "metadata": {},
   "source": [
    "## 2. Metrics"
   ]
  },
  {
   "cell_type": "code",
   "execution_count": 5,
   "id": "33994195",
   "metadata": {
    "tags": [
     "remove-input"
    ]
   },
   "outputs": [
    {
     "data": {
      "text/markdown": [
       "Cohort counts for the HESOP dataset will be issued in due course."
      ],
      "text/plain": [
       "<IPython.core.display.Markdown object>"
      ]
     },
     "metadata": {},
     "output_type": "display_data"
    }
   ],
   "source": [
    "ds.metrics()"
   ]
  },
  {
   "cell_type": "markdown",
   "id": "2d7fecf8",
   "metadata": {},
   "source": [
    "## 3. Version History"
   ]
  },
  {
   "cell_type": "code",
   "execution_count": 6,
   "id": "a176d142",
   "metadata": {
    "tags": [
     "remove-input"
    ]
   },
   "outputs": [
    {
     "data": {
      "application/vnd.microsoft.datawrangler.viewer.v0+json": {
       "columns": [
        {
         "name": "index",
         "rawType": "object",
         "type": "string"
        },
        {
         "name": "1",
         "rawType": "object",
         "type": "unknown"
        },
        {
         "name": "2",
         "rawType": "object",
         "type": "unknown"
        },
        {
         "name": "3",
         "rawType": "object",
         "type": "unknown"
        }
       ],
       "ref": "dbb22024-1e25-4a08-af82-03c4b7747ec9",
       "rows": [
        [
         "Name in TRE",
         "NHSE_HESOP",
         "NHSE_HESOP",
         "NHSE_HESOP"
        ],
        [
         "Version Date",
         "21 Dec 2022",
         "13 Apr 2023",
         "26 Apr 2024"
        ],
        [
         "Number of Variables",
         "149",
         "149",
         "149"
        ],
        [
         "Number of Rows",
         "6418599",
         "8013593",
         "8575150"
        ],
        [
         "DOI",
         "10.83126/ukllc-dataset-00038-01",
         "10.83126/ukllc-dataset-00038-02",
         "10.83126/ukllc-dataset-00038-03"
        ]
       ],
       "shape": {
        "columns": 3,
        "rows": 5
       }
      },
      "text/html": [
       "<div>\n",
       "<style scoped>\n",
       "    .dataframe tbody tr th:only-of-type {\n",
       "        vertical-align: middle;\n",
       "    }\n",
       "\n",
       "    .dataframe tbody tr th {\n",
       "        vertical-align: top;\n",
       "    }\n",
       "\n",
       "    .dataframe thead th {\n",
       "        text-align: right;\n",
       "    }\n",
       "</style>\n",
       "<table border=\"1\" class=\"dataframe\">\n",
       "  <thead>\n",
       "    <tr style=\"text-align: right;\">\n",
       "      <th>Version Number</th>\n",
       "      <th>1</th>\n",
       "      <th>2</th>\n",
       "      <th>3</th>\n",
       "    </tr>\n",
       "  </thead>\n",
       "  <tbody>\n",
       "    <tr>\n",
       "      <th>Name in TRE</th>\n",
       "      <td>NHSE_HESOP</td>\n",
       "      <td>NHSE_HESOP</td>\n",
       "      <td>NHSE_HESOP</td>\n",
       "    </tr>\n",
       "    <tr>\n",
       "      <th>Version Date</th>\n",
       "      <td>21 Dec 2022</td>\n",
       "      <td>13 Apr 2023</td>\n",
       "      <td>26 Apr 2024</td>\n",
       "    </tr>\n",
       "    <tr>\n",
       "      <th>Number of Variables</th>\n",
       "      <td>149</td>\n",
       "      <td>149</td>\n",
       "      <td>149</td>\n",
       "    </tr>\n",
       "    <tr>\n",
       "      <th>Number of Rows</th>\n",
       "      <td>6418599</td>\n",
       "      <td>8013593</td>\n",
       "      <td>8575150</td>\n",
       "    </tr>\n",
       "    <tr>\n",
       "      <th>DOI</th>\n",
       "      <td>10.83126/ukllc-dataset-00038-01</td>\n",
       "      <td>10.83126/ukllc-dataset-00038-02</td>\n",
       "      <td>10.83126/ukllc-dataset-00038-03</td>\n",
       "    </tr>\n",
       "  </tbody>\n",
       "</table>\n",
       "</div>"
      ],
      "text/plain": [
       "Version Number                                     1  \\\n",
       "Name in TRE                               NHSE_HESOP   \n",
       "Version Date                             21 Dec 2022   \n",
       "Number of Variables                              149   \n",
       "Number of Rows                               6418599   \n",
       "DOI                  10.83126/ukllc-dataset-00038-01   \n",
       "\n",
       "Version Number                                     2  \\\n",
       "Name in TRE                               NHSE_HESOP   \n",
       "Version Date                             13 Apr 2023   \n",
       "Number of Variables                              149   \n",
       "Number of Rows                               8013593   \n",
       "DOI                  10.83126/ukllc-dataset-00038-02   \n",
       "\n",
       "Version Number                                     3  \n",
       "Name in TRE                               NHSE_HESOP  \n",
       "Version Date                             26 Apr 2024  \n",
       "Number of Variables                              149  \n",
       "Number of Rows                               8575150  \n",
       "DOI                  10.83126/ukllc-dataset-00038-03  "
      ]
     },
     "execution_count": 6,
     "metadata": {},
     "output_type": "execute_result"
    }
   ],
   "source": [
    "ds.version_history()"
   ]
  },
  {
   "cell_type": "markdown",
   "id": "12e6b815",
   "metadata": {},
   "source": [
    "## 4. Documentation"
   ]
  },
  {
   "cell_type": "code",
   "execution_count": 8,
   "id": "02e29089",
   "metadata": {
    "tags": [
     "remove-input"
    ]
   },
   "outputs": [
    {
     "data": {
      "text/markdown": [
       "We are currently building a documentation storage system, which will host relevant and useful documents related to datasets, groupings, and studies themselves. Relevant documentation for this particular dataset will go here."
      ],
      "text/plain": [
       "<IPython.core.display.Markdown object>"
      ]
     },
     "metadata": {},
     "output_type": "display_data"
    }
   ],
   "source": [
    "ds.documentation()"
   ]
  },
  {
   "cell_type": "markdown",
   "id": "ecce32ec",
   "metadata": {},
   "source": [
    "## 5. Useful Syntax"
   ]
  },
  {
   "cell_type": "code",
   "execution_count": 9,
   "id": "ee22f894",
   "metadata": {
    "tags": [
     "remove-input"
    ]
   },
   "outputs": [
    {
     "data": {
      "text/markdown": [
       "Below we will include syntax that may be helpful to other researchers in the UK LLC TRE. For longer scripts, we will include a snippet of the code plus a link to Git where you can find the full script"
      ],
      "text/plain": [
       "<IPython.core.display.Markdown object>"
      ]
     },
     "metadata": {},
     "output_type": "display_data"
    }
   ],
   "source": [
    "ds.useful_syntax()"
   ]
  }
 ],
 "metadata": {
  "kernelspec": {
   "display_name": "jupbook",
   "language": "python",
   "name": "python3"
  },
  "language_info": {
   "codemirror_mode": {
    "name": "ipython",
    "version": 3
   },
   "file_extension": ".py",
   "mimetype": "text/x-python",
   "name": "python",
   "nbconvert_exporter": "python",
   "pygments_lexer": "ipython3",
   "version": "3.13.2"
  }
 },
 "nbformat": 4,
 "nbformat_minor": 5
}
