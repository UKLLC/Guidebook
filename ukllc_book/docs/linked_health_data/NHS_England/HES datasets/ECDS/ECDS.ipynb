{
 "cells": [
  {
   "attachments": {},
   "cell_type": "markdown",
   "id": "c928623b",
   "metadata": {},
   "source": [
    "# Emergency Care Data Set (ECDS)\n",
    "## 1. Summary\n",
    "The information below is retrieved from the Health Data Gateway API developed by NHS England, with additional fields added by UK LLC (indicated by italics)."
   ]
  },
  {
   "cell_type": "code",
   "execution_count": 1,
   "id": "910dadbd",
   "metadata": {},
   "outputs": [],
   "source": [
    "# define target dataset to document\n",
    "schema = 'nhsd'\n",
    "table = 'ECDS'\n",
    "version = 'v0003'\n",
    "# import functions from script helper\n",
    "import sys\n",
    "script_fp = \"../../../../scripts/\"\n",
    "sys.path.insert(0, script_fp)\n",
    "from data_doc_helper import DocHelper\n",
    "# create instance\n",
    "document = DocHelper(schema, table, version, script_fp)\n",
    "# markdown/code hybrid cell module requirement\n",
    "from IPython.display import display, Markdown"
   ]
  },
  {
   "cell_type": "code",
   "execution_count": 2,
   "id": "103f2c9b",
   "metadata": {},
   "outputs": [
    {
     "data": {
      "text/markdown": [
       "**NHS England title of dataset:** Emergency Care Data Set (ECDS)"
      ],
      "text/plain": [
       "<IPython.core.display.Markdown object>"
      ]
     },
     "metadata": {},
     "output_type": "display_data"
    },
    {
     "data": {
      "text/markdown": [
       "***Dataset name in UK LLC TRE***: *nhsd.ECDS*"
      ],
      "text/plain": [
       "<IPython.core.display.Markdown object>"
      ]
     },
     "metadata": {},
     "output_type": "display_data"
    },
    {
     "data": {
      "text/markdown": [
       "**Short abstract:** The Emergency Care Data Set (ECDS) is a national data set providing information to support the care provided in emergency departments by including the data items needed to understand capacity and demand and help improve patient care."
      ],
      "text/plain": [
       "<IPython.core.display.Markdown object>"
      ]
     },
     "metadata": {},
     "output_type": "display_data"
    },
    {
     "data": {
      "text/markdown": [
       "***Extended abstract:*** [*https://web.www.healthdatagateway.org/dataset/8883f996-7943-4ac3-a625-7793c19949cc*](https://web.www.healthdatagateway.org/dataset/8883f996-7943-4ac3-a625-7793c19949cc)"
      ],
      "text/plain": [
       "<IPython.core.display.Markdown object>"
      ]
     },
     "metadata": {},
     "output_type": "display_data"
    },
    {
     "data": {
      "text/markdown": [
       "**Geographical coverage:** United Kingdom,England"
      ],
      "text/plain": [
       "<IPython.core.display.Markdown object>"
      ]
     },
     "metadata": {},
     "output_type": "display_data"
    },
    {
     "data": {
      "text/markdown": [
       "**Temporal coverage:** 01/10/2017"
      ],
      "text/plain": [
       "<IPython.core.display.Markdown object>"
      ]
     },
     "metadata": {},
     "output_type": "display_data"
    },
    {
     "data": {
      "text/markdown": [
       "***Data available in UK LLC TRE from***: *01/10/2017 onwards*"
      ],
      "text/plain": [
       "<IPython.core.display.Markdown object>"
      ]
     },
     "metadata": {},
     "output_type": "display_data"
    },
    {
     "data": {
      "text/markdown": [
       "**Typical age range:** 0-150"
      ],
      "text/plain": [
       "<IPython.core.display.Markdown object>"
      ]
     },
     "metadata": {},
     "output_type": "display_data"
    },
    {
     "data": {
      "text/markdown": [
       "**Collection situation:** ACCIDENT AND EMERGENCY"
      ],
      "text/plain": [
       "<IPython.core.display.Markdown object>"
      ]
     },
     "metadata": {},
     "output_type": "display_data"
    },
    {
     "data": {
      "text/markdown": [
       "**Purpose:** CARE"
      ],
      "text/plain": [
       "<IPython.core.display.Markdown object>"
      ]
     },
     "metadata": {},
     "output_type": "display_data"
    },
    {
     "data": {
      "text/markdown": [
       "**Source:** EPR"
      ],
      "text/plain": [
       "<IPython.core.display.Markdown object>"
      ]
     },
     "metadata": {},
     "output_type": "display_data"
    },
    {
     "data": {
      "text/markdown": [
       "**Pathway:** Urgent and Emergency Care"
      ],
      "text/plain": [
       "<IPython.core.display.Markdown object>"
      ]
     },
     "metadata": {},
     "output_type": "display_data"
    },
    {
     "data": {
      "text/markdown": [
       "***Information collected***: *Patient demographics, dates of attendance, admission and discharge, presenting complaints, outcomes of attendance, waiting time, clinical investigations, diagnosis and treatment.*"
      ],
      "text/plain": [
       "<IPython.core.display.Markdown object>"
      ]
     },
     "metadata": {},
     "output_type": "display_data"
    },
    {
     "data": {
      "text/markdown": [
       "***Structure of dataset***: *Each attendance is represented by a distinct row of data. A patient may have multiple attendances in any given finanicial year. If a patient arrives and is sent to a different clinic (i.e. walk-in clinic), this may appear as two records. Where follow up care is required and provided by the A&E department, a second planned attendance is recorded.*"
      ],
      "text/plain": [
       "<IPython.core.display.Markdown object>"
      ]
     },
     "metadata": {},
     "output_type": "display_data"
    },
    {
     "data": {
      "text/markdown": [
       "***Update frequency in UK LLC TRE***: *Quarterly*"
      ],
      "text/plain": [
       "<IPython.core.display.Markdown object>"
      ]
     },
     "metadata": {},
     "output_type": "display_data"
    },
    {
     "data": {
      "text/markdown": [
       "***Dataset versions in UK LLC TRE***: *TBC*"
      ],
      "text/plain": [
       "<IPython.core.display.Markdown object>"
      ]
     },
     "metadata": {},
     "output_type": "display_data"
    },
    {
     "data": {
      "text/markdown": [
       "***Data quality issues***: *Data quality reports that highlight specific known issues are published alongside the finalised ECDS datasets: [https://digital.nhs.uk/data-and-information/data-collections-and-data-sets/data-sets/emergency-care-data-set-ecds/data-quality#further-a-e-and-ecds-data-quality-reports](https://digital.nhs.uk/data-and-information/data-collections-and-data-sets/data-sets/emergency-care-data-set-ecds/data-quality#further-a-e-and-ecds-data-quality-reports)*"
      ],
      "text/plain": [
       "<IPython.core.display.Markdown object>"
      ]
     },
     "metadata": {},
     "output_type": "display_data"
    },
    {
     "data": {
      "text/markdown": [
       "***Restrictions to data usage***: *Medical purposes only (medical research) as defined in the NHS Act 2006: [https://www.legislation.gov.uk/ukpga/2006/41/part/13/crossheading/patient-information](https://www.legislation.gov.uk/ukpga/2006/41/part/13/crossheading/patient-information)*"
      ],
      "text/plain": [
       "<IPython.core.display.Markdown object>"
      ]
     },
     "metadata": {},
     "output_type": "display_data"
    },
    {
     "data": {
      "text/markdown": [
       "***Further information***: [*https://digital.nhs.uk/data-and-information/data-collections-and-data-sets/data-sets/emergency-care-data-set-ecds*](https://digital.nhs.uk/data-and-information/data-collections-and-data-sets/data-sets/emergency-care-data-set-ecds)"
      ],
      "text/plain": [
       "<IPython.core.display.Markdown object>"
      ]
     },
     "metadata": {},
     "output_type": "display_data"
    }
   ],
   "source": [
    "# get api data\n",
    "dataset = document.get_api_data()\n",
    "display(Markdown(\"**NHS England title of dataset:** \"+dataset['datasetfields']['metadataquality']['title']))\n",
    "display(Markdown(\"***Dataset name in UK LLC TRE***: *nhsd.ECDS*\"))  \n",
    "display(Markdown(\"**Short abstract:** \"+dataset['datasetfields']['abstract']))\n",
    "display(Markdown(\"***Extended abstract:*** [*https://web.www.healthdatagateway.org/dataset/8883f996-7943-4ac3-a625-7793c19949cc*](https://web.www.healthdatagateway.org/dataset/8883f996-7943-4ac3-a625-7793c19949cc)\"))\n",
    "display(Markdown(\"**Geographical coverage:** \"+dataset['datasetfields']['geographicCoverage'][0]))\n",
    "display(Markdown(\"**Temporal coverage:** \"+dataset['datasetfields']['datasetStartDate']))\n",
    "display(Markdown(\"***Data available in UK LLC TRE from***: *01/10/2017 onwards*\"))\n",
    "display(Markdown(\"**Typical age range:** \"+dataset['datasetfields']['ageBand']))\n",
    "display(Markdown(\"**Collection situation:** \"+dataset['datasetv2']['provenance']['origin']['collectionSituation'][0]))\n",
    "display(Markdown(\"**Purpose:** \"+dataset['datasetv2']['provenance']['origin']['purpose'][0]))\n",
    "display(Markdown(\"**Source:** \"+dataset['datasetv2']['provenance']['origin']['source'][0]))\n",
    "display(Markdown(\"**Pathway:** \"+dataset['datasetv2']['coverage']['pathway']))\n",
    "display(Markdown(\"***Information collected***: *Patient demographics, dates of attendance, admission and discharge, presenting complaints, outcomes of attendance, waiting time, clinical investigations, diagnosis and treatment.*\"))  \n",
    "display(Markdown(\"***Structure of dataset***: *Each attendance is represented by a distinct row of data. A patient may have multiple attendances in any given finanicial year. If a patient arrives and is sent to a different clinic (i.e. walk-in clinic), this may appear as two records. Where follow up care is required and provided by the A&E department, a second planned attendance is recorded.*\"))  \n",
    "display(Markdown(\"***Update frequency in UK LLC TRE***: *Quarterly*\"))  \n",
    "display(Markdown(\"***Dataset versions in UK LLC TRE***: *TBC*\"))\n",
    "display(Markdown(\"***Data quality issues***: *Data quality reports that highlight specific known issues are published alongside the finalised ECDS datasets: [https://digital.nhs.uk/data-and-information/data-collections-and-data-sets/data-sets/emergency-care-data-set-ecds/data-quality#further-a-e-and-ecds-data-quality-reports](https://digital.nhs.uk/data-and-information/data-collections-and-data-sets/data-sets/emergency-care-data-set-ecds/data-quality#further-a-e-and-ecds-data-quality-reports)*\"))  \n",
    "display(Markdown(\"***Restrictions to data usage***: *Medical purposes only (medical research) as defined in the NHS Act 2006: [https://www.legislation.gov.uk/ukpga/2006/41/part/13/crossheading/patient-information](https://www.legislation.gov.uk/ukpga/2006/41/part/13/crossheading/patient-information)*\"))  \n",
    "display(Markdown(\"***Further information***: [*https://digital.nhs.uk/data-and-information/data-collections-and-data-sets/data-sets/emergency-care-data-set-ecds*](https://digital.nhs.uk/data-and-information/data-collections-and-data-sets/data-sets/emergency-care-data-set-ecds)\"))\n"
   ]
  },
  {
   "attachments": {},
   "cell_type": "markdown",
   "id": "ee2455db",
   "metadata": {},
   "source": [
    "## 2. Metrics\n",
    "The tables below summarise the ECDS dataset in the UK LLC TRE."
   ]
  },
  {
   "attachments": {},
   "cell_type": "markdown",
   "id": "e0d88fc3",
   "metadata": {},
   "source": [
    "**Table 1** The number of participants from each LPS that are represented in the ECDS dataset in the UK LLC TRE    \n",
    "(**Note**: numbers relate to the most recent extract of NHS England data)  "
   ]
  },
  {
   "cell_type": "code",
   "execution_count": 3,
   "id": "877ef22f",
   "metadata": {},
   "outputs": [
    {
     "name": "stdout",
     "output_type": "stream",
     "text": [
      "╒════════════════╤═════════╕\n",
      "│ cohort         │   count │\n",
      "╞════════════════╪═════════╡\n",
      "│ ALSPAC         │    2314 │\n",
      "├────────────────┼─────────┤\n",
      "│ BCS70          │    2633 │\n",
      "├────────────────┼─────────┤\n",
      "│ BIB            │   13855 │\n",
      "├────────────────┼─────────┤\n",
      "│ ELSA           │    3761 │\n",
      "├────────────────┼─────────┤\n",
      "│ EPICN          │    7801 │\n",
      "├────────────────┼─────────┤\n",
      "│ EXCEED         │    4195 │\n",
      "├────────────────┼─────────┤\n",
      "│ FENLAND        │    4930 │\n",
      "├────────────────┼─────────┤\n",
      "│ GLAD           │   40782 │\n",
      "├────────────────┼─────────┤\n",
      "│ MCS            │    9498 │\n",
      "├────────────────┼─────────┤\n",
      "│ NCDS58         │    2885 │\n",
      "├────────────────┼─────────┤\n",
      "│ NEXTSTEP       │    2627 │\n",
      "├────────────────┼─────────┤\n",
      "│ NIHRBIO_COPING │    7358 │\n",
      "├────────────────┼─────────┤\n",
      "│ NSHD46         │    1275 │\n",
      "├────────────────┼─────────┤\n",
      "│ TEDS           │    3683 │\n",
      "├────────────────┼─────────┤\n",
      "│ TRACKC19       │    5312 │\n",
      "├────────────────┼─────────┤\n",
      "│ TWINSUK        │    6074 │\n",
      "├────────────────┼─────────┤\n",
      "│ UKHLS          │    3090 │\n",
      "├────────────────┼─────────┤\n",
      "│ total          │  122073 │\n",
      "╘════════════════╧═════════╛\n"
     ]
    }
   ],
   "source": [
    "# group extract by date\n",
    "gb_cohort = document.get_cohort_count()\n",
    "print(gb_cohort.to_markdown(index=False, tablefmt=\"fancy_grid\"))\n",
    "#display(gb_cohort)"
   ]
  },
  {
   "attachments": {},
   "cell_type": "markdown",
   "id": "4d7cab9b",
   "metadata": {},
   "source": [
    "## 3. Helpful syntax\n",
    "Below we will include syntax that may be helpful to other researchers in the UK LLC TRE. For longer scripts, we will include a snippet of the code plus a link to Git where you can find the full script. "
   ]
  },
  {
   "cell_type": "code",
   "execution_count": null,
   "id": "7be91ae8",
   "metadata": {},
   "outputs": [],
   "source": []
  }
 ],
 "metadata": {
  "kernelspec": {
   "display_name": "Python 3",
   "language": "python",
   "name": "python3"
  },
  "language_info": {
   "codemirror_mode": {
    "name": "ipython",
    "version": 3
   },
   "file_extension": ".py",
   "mimetype": "text/x-python",
   "name": "python",
   "nbconvert_exporter": "python",
   "pygments_lexer": "ipython3",
   "version": "3.12.0"
  }
 },
 "nbformat": 4,
 "nbformat_minor": 5
}
