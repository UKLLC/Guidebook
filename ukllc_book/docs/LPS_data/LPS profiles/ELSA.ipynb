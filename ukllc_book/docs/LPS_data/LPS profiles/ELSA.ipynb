{
 "cells": [
  {
   "cell_type": "markdown",
   "id": "1c66c474",
   "metadata": {},
   "source": [
    "# English Longitudinal Study of Ageing (ELSA) (ELSA)"
   ]
  },
  {
   "cell_type": "code",
   "execution_count": 1,
   "id": "181df86c",
   "metadata": {
    "tags": [
     "remove-input"
    ]
   },
   "outputs": [
    {
     "data": {
      "text/markdown": [
       ">Last modified: 05 Jun 2025"
      ],
      "text/plain": [
       "<IPython.core.display.Markdown object>"
      ]
     },
     "metadata": {},
     "output_type": "display_data"
    }
   ],
   "source": [
    "import sys\n",
    "import os\n",
    "sys.path.append(os.path.abspath('../../scripts/'))\n",
    "from data_doc_helper import LPSSource as SS, last_modified\n",
    "ss = SS(\"ELSA\")\n",
    "last_modified()"
   ]
  },
  {
   "cell_type": "markdown",
   "id": "8199816b",
   "metadata": {},
   "source": [
    "## 1. Summary"
   ]
  },
  {
   "cell_type": "code",
   "execution_count": 2,
   "id": "2c7eed61",
   "metadata": {
    "tags": [
     "remove-input"
    ]
   },
   "outputs": [
    {
     "data": {
      "text/markdown": [
       "The English Longitudinal Study of Ageing (ELSA) is a longitudinal study that collects multidisciplinary data from a representative sample of the English population aged 50 years and older. The survey data are designed to be used for the investigation of a broad set of topics relevant to understanding the ageing process, including economic position, physical and mental health, labour market activity, retirement and social networks."
      ],
      "text/plain": [
       "<IPython.core.display.Markdown object>"
      ]
     },
     "metadata": {},
     "output_type": "display_data"
    }
   ],
   "source": [
    "ss.summary()"
   ]
  },
  {
   "cell_type": "code",
   "execution_count": 3,
   "id": "24482695",
   "metadata": {
    "tags": [
     "remove-input"
    ]
   },
   "outputs": [
    {
     "data": {
      "text/html": [
       "<style type=\"text/css\">\n",
       "#T_45834 th {\n",
       "  text-align: left;\n",
       "}\n",
       "#T_45834_row0_col0, #T_45834_row0_col1, #T_45834_row1_col0, #T_45834_row1_col1, #T_45834_row2_col0, #T_45834_row2_col1, #T_45834_row3_col0, #T_45834_row3_col1, #T_45834_row4_col0, #T_45834_row4_col1, #T_45834_row5_col0, #T_45834_row5_col1, #T_45834_row6_col0, #T_45834_row6_col1, #T_45834_row7_col0, #T_45834_row7_col1, #T_45834_row8_col0, #T_45834_row8_col1, #T_45834_row9_col0, #T_45834_row9_col1, #T_45834_row10_col0, #T_45834_row10_col1, #T_45834_row11_col0, #T_45834_row11_col1, #T_45834_row12_col0, #T_45834_row12_col1 {\n",
       "  text-align: left;\n",
       "}\n",
       "</style>\n",
       "<table id=\"T_45834\" style=\"font-size: 14px\">\n",
       "  <thead>\n",
       "    <tr>\n",
       "      <th id=\"T_45834_level0_col0\" class=\"col_heading level0 col0\" >Series Descriptor</th>\n",
       "      <th id=\"T_45834_level0_col1\" class=\"col_heading level0 col1\" >Series-specific Information</th>\n",
       "    </tr>\n",
       "  </thead>\n",
       "  <tbody>\n",
       "    <tr>\n",
       "      <td id=\"T_45834_row0_col0\" class=\"data row0 col0\" >Citation (APA)</td>\n",
       "      <td id=\"T_45834_row0_col1\" class=\"data row0 col1\" >DOI and Citation TBC</td>\n",
       "    </tr>\n",
       "    <tr>\n",
       "      <td id=\"T_45834_row1_col0\" class=\"data row1 col0\" >Download Citation</td>\n",
       "      <td id=\"T_45834_row1_col1\" class=\"data row1 col1\" >DOI and Citation Downloads TBC</td>\n",
       "    </tr>\n",
       "    <tr>\n",
       "      <td id=\"T_45834_row2_col0\" class=\"data row2 col0\" >Owner</td>\n",
       "      <td id=\"T_45834_row2_col1\" class=\"data row2 col1\" >UCL</td>\n",
       "    </tr>\n",
       "    <tr>\n",
       "      <td id=\"T_45834_row3_col0\" class=\"data row3 col0\" >Cohort</td>\n",
       "      <td id=\"T_45834_row3_col1\" class=\"data row3 col1\" >12,100 individuals</td>\n",
       "    </tr>\n",
       "    <tr>\n",
       "      <td id=\"T_45834_row4_col0\" class=\"data row4 col0\" >Age at Recruitment</td>\n",
       "      <td id=\"T_45834_row4_col1\" class=\"data row4 col1\" >50+</td>\n",
       "    </tr>\n",
       "    <tr>\n",
       "      <td id=\"T_45834_row5_col0\" class=\"data row5 col0\" >Geographical Coverage - Nations</td>\n",
       "      <td id=\"T_45834_row5_col1\" class=\"data row5 col1\" >England</td>\n",
       "    </tr>\n",
       "    <tr>\n",
       "      <td id=\"T_45834_row6_col0\" class=\"data row6 col0\" >Geographical Coverage - Regions</td>\n",
       "      <td id=\"T_45834_row6_col1\" class=\"data row6 col1\" >Nationwide</td>\n",
       "    </tr>\n",
       "    <tr>\n",
       "      <td id=\"T_45834_row7_col0\" class=\"data row7 col0\" >Start Date</td>\n",
       "      <td id=\"T_45834_row7_col1\" class=\"data row7 col1\" >2002</td>\n",
       "    </tr>\n",
       "    <tr>\n",
       "      <td id=\"T_45834_row8_col0\" class=\"data row8 col0\" >Permitted Linkages</td>\n",
       "      <td id=\"T_45834_row8_col1\" class=\"data row8 col1\" >See  <a href=\"https://guidebook.ukllc.ac.uk/docs/lps/linkages/lps_linkages\" rel=\"noopener noreferrer\" target=\"_blank\">here</a></td>\n",
       "    </tr>\n",
       "    <tr>\n",
       "      <td id=\"T_45834_row9_col0\" class=\"data row9 col0\" >Inclusion in Linkages</td>\n",
       "      <td id=\"T_45834_row9_col1\" class=\"data row9 col1\" >Consent</td>\n",
       "    </tr>\n",
       "    <tr>\n",
       "      <td id=\"T_45834_row10_col0\" class=\"data row10 col0\" >Cohort Profile</td>\n",
       "      <td id=\"T_45834_row10_col1\" class=\"data row10 col1\" > <a href=\"https://doi.org/10.1093/ije/dys168\" rel=\"noopener noreferrer\" target=\"_blank\">10.1093/ije/dys168</a></td>\n",
       "    </tr>\n",
       "    <tr>\n",
       "      <td id=\"T_45834_row11_col0\" class=\"data row11 col0\" >LPS Homepage</td>\n",
       "      <td id=\"T_45834_row11_col1\" class=\"data row11 col1\" ><p><a href=\"https://www.elsa-project.ac.uk\">elsa-project.ac.uk</a></p></td>\n",
       "    </tr>\n",
       "    <tr>\n",
       "      <td id=\"T_45834_row12_col0\" class=\"data row12 col0\" >Build a Data Request</td>\n",
       "      <td id=\"T_45834_row12_col1\" class=\"data row12 col1\" > <a href=\"https://explore.ukllc.ac.uk/\" rel=\"noopener noreferrer\" target=\"_blank\">https://explore.ukllc.ac.uk/</a></td>\n",
       "    </tr>\n",
       "  </tbody>\n",
       "</table>\n"
      ],
      "text/plain": [
       "<pandas.io.formats.style.Styler at 0x196915216a0>"
      ]
     },
     "execution_count": 3,
     "metadata": {},
     "output_type": "execute_result"
    }
   ],
   "source": [
    "ss.info_table()"
   ]
  },
  {
   "cell_type": "markdown",
   "id": "30cb6652",
   "metadata": {},
   "source": [
    "## 2. Permitted Linkages"
   ]
  },
  {
   "cell_type": "code",
   "execution_count": 4,
   "id": "57149c74",
   "metadata": {
    "tags": [
     "remove-input"
    ]
   },
   "outputs": [
    {
     "data": {
      "application/javascript": "'use strict';\n(function(root) {\n  function now() {\n    return new Date();\n  }\n\n  const force = true;\n\n  if (typeof root._bokeh_onload_callbacks === \"undefined\" || force === true) {\n    root._bokeh_onload_callbacks = [];\n    root._bokeh_is_loading = undefined;\n  }\n\nconst JS_MIME_TYPE = 'application/javascript';\n  const HTML_MIME_TYPE = 'text/html';\n  const EXEC_MIME_TYPE = 'application/vnd.bokehjs_exec.v0+json';\n  const CLASS_NAME = 'output_bokeh rendered_html';\n\n  /**\n   * Render data to the DOM node\n   */\n  function render(props, node) {\n    const script = document.createElement(\"script\");\n    node.appendChild(script);\n  }\n\n  /**\n   * Handle when an output is cleared or removed\n   */\n  function handleClearOutput(event, handle) {\n    function drop(id) {\n      const view = Bokeh.index.get_by_id(id)\n      if (view != null) {\n        view.model.document.clear()\n        Bokeh.index.delete(view)\n      }\n    }\n\n    const cell = handle.cell;\n\n    const id = cell.output_area._bokeh_element_id;\n    const server_id = cell.output_area._bokeh_server_id;\n\n    // Clean up Bokeh references\n    if (id != null) {\n      drop(id)\n    }\n\n    if (server_id !== undefined) {\n      // Clean up Bokeh references\n      const cmd_clean = \"from bokeh.io.state import curstate; print(curstate().uuid_to_server['\" + server_id + \"'].get_sessions()[0].document.roots[0]._id)\";\n      cell.notebook.kernel.execute(cmd_clean, {\n        iopub: {\n          output: function(msg) {\n            const id = msg.content.text.trim()\n            drop(id)\n          }\n        }\n      });\n      // Destroy server and session\n      const cmd_destroy = \"import bokeh.io.notebook as ion; ion.destroy_server('\" + server_id + \"')\";\n      cell.notebook.kernel.execute(cmd_destroy);\n    }\n  }\n\n  /**\n   * Handle when a new output is added\n   */\n  function handleAddOutput(event, handle) {\n    const output_area = handle.output_area;\n    const output = handle.output;\n\n    // limit handleAddOutput to display_data with EXEC_MIME_TYPE content only\n    if ((output.output_type != \"display_data\") || (!Object.prototype.hasOwnProperty.call(output.data, EXEC_MIME_TYPE))) {\n      return\n    }\n\n    const toinsert = output_area.element.find(\".\" + CLASS_NAME.split(' ')[0]);\n\n    if (output.metadata[EXEC_MIME_TYPE][\"id\"] !== undefined) {\n      toinsert[toinsert.length - 1].firstChild.textContent = output.data[JS_MIME_TYPE];\n      // store reference to embed id on output_area\n      output_area._bokeh_element_id = output.metadata[EXEC_MIME_TYPE][\"id\"];\n    }\n    if (output.metadata[EXEC_MIME_TYPE][\"server_id\"] !== undefined) {\n      const bk_div = document.createElement(\"div\");\n      bk_div.innerHTML = output.data[HTML_MIME_TYPE];\n      const script_attrs = bk_div.children[0].attributes;\n      for (let i = 0; i < script_attrs.length; i++) {\n        toinsert[toinsert.length - 1].firstChild.setAttribute(script_attrs[i].name, script_attrs[i].value);\n        toinsert[toinsert.length - 1].firstChild.textContent = bk_div.children[0].textContent\n      }\n      // store reference to server id on output_area\n      output_area._bokeh_server_id = output.metadata[EXEC_MIME_TYPE][\"server_id\"];\n    }\n  }\n\n  function register_renderer(events, OutputArea) {\n\n    function append_mime(data, metadata, element) {\n      // create a DOM node to render to\n      const toinsert = this.create_output_subarea(\n        metadata,\n        CLASS_NAME,\n        EXEC_MIME_TYPE\n      );\n      this.keyboard_manager.register_events(toinsert);\n      // Render to node\n      const props = {data: data, metadata: metadata[EXEC_MIME_TYPE]};\n      render(props, toinsert[toinsert.length - 1]);\n      element.append(toinsert);\n      return toinsert\n    }\n\n    /* Handle when an output is cleared or removed */\n    events.on('clear_output.CodeCell', handleClearOutput);\n    events.on('delete.Cell', handleClearOutput);\n\n    /* Handle when a new output is added */\n    events.on('output_added.OutputArea', handleAddOutput);\n\n    /**\n     * Register the mime type and append_mime function with output_area\n     */\n    OutputArea.prototype.register_mime_type(EXEC_MIME_TYPE, append_mime, {\n      /* Is output safe? */\n      safe: true,\n      /* Index of renderer in `output_area.display_order` */\n      index: 0\n    });\n  }\n\n  // register the mime type if in Jupyter Notebook environment and previously unregistered\n  if (root.Jupyter !== undefined) {\n    const events = require('base/js/events');\n    const OutputArea = require('notebook/js/outputarea').OutputArea;\n\n    if (OutputArea.prototype.mime_types().indexOf(EXEC_MIME_TYPE) == -1) {\n      register_renderer(events, OutputArea);\n    }\n  }\n  if (typeof (root._bokeh_timeout) === \"undefined\" || force === true) {\n    root._bokeh_timeout = Date.now() + 5000;\n    root._bokeh_failed_load = false;\n  }\n\n  const NB_LOAD_WARNING = {'data': {'text/html':\n     \"<div style='background-color: #fdd'>\\n\"+\n     \"<p>\\n\"+\n     \"BokehJS does not appear to have successfully loaded. If loading BokehJS from CDN, this \\n\"+\n     \"may be due to a slow or bad network connection. Possible fixes:\\n\"+\n     \"</p>\\n\"+\n     \"<ul>\\n\"+\n     \"<li>re-rerun `output_notebook()` to attempt to load from CDN again, or</li>\\n\"+\n     \"<li>use INLINE resources instead, as so:</li>\\n\"+\n     \"</ul>\\n\"+\n     \"<code>\\n\"+\n     \"from bokeh.resources import INLINE\\n\"+\n     \"output_notebook(resources=INLINE)\\n\"+\n     \"</code>\\n\"+\n     \"</div>\"}};\n\n  function display_loaded(error = null) {\n    const el = document.getElementById(null);\n    if (el != null) {\n      const html = (() => {\n        if (typeof root.Bokeh === \"undefined\") {\n          if (error == null) {\n            return \"BokehJS is loading ...\";\n          } else {\n            return \"BokehJS failed to load.\";\n          }\n        } else {\n          const prefix = `BokehJS ${root.Bokeh.version}`;\n          if (error == null) {\n            return `${prefix} successfully loaded.`;\n          } else {\n            return `${prefix} <b>encountered errors</b> while loading and may not function as expected.`;\n          }\n        }\n      })();\n      el.innerHTML = html;\n\n      if (error != null) {\n        const wrapper = document.createElement(\"div\");\n        wrapper.style.overflow = \"auto\";\n        wrapper.style.height = \"5em\";\n        wrapper.style.resize = \"vertical\";\n        const content = document.createElement(\"div\");\n        content.style.fontFamily = \"monospace\";\n        content.style.whiteSpace = \"pre-wrap\";\n        content.style.backgroundColor = \"rgb(255, 221, 221)\";\n        content.textContent = error.stack ?? error.toString();\n        wrapper.append(content);\n        el.append(wrapper);\n      }\n    } else if (Date.now() < root._bokeh_timeout) {\n      setTimeout(() => display_loaded(error), 100);\n    }\n  }\n\n  function run_callbacks() {\n    try {\n      root._bokeh_onload_callbacks.forEach(function(callback) {\n        if (callback != null)\n          callback();\n      });\n    } finally {\n      delete root._bokeh_onload_callbacks\n    }\n    console.debug(\"Bokeh: all callbacks have finished\");\n  }\n\n  function load_libs(css_urls, js_urls, callback) {\n    if (css_urls == null) css_urls = [];\n    if (js_urls == null) js_urls = [];\n\n    root._bokeh_onload_callbacks.push(callback);\n    if (root._bokeh_is_loading > 0) {\n      console.debug(\"Bokeh: BokehJS is being loaded, scheduling callback at\", now());\n      return null;\n    }\n    if (js_urls == null || js_urls.length === 0) {\n      run_callbacks();\n      return null;\n    }\n    console.debug(\"Bokeh: BokehJS not loaded, scheduling load and callback at\", now());\n    root._bokeh_is_loading = css_urls.length + js_urls.length;\n\n    function on_load() {\n      root._bokeh_is_loading--;\n      if (root._bokeh_is_loading === 0) {\n        console.debug(\"Bokeh: all BokehJS libraries/stylesheets loaded\");\n        run_callbacks()\n      }\n    }\n\n    function on_error(url) {\n      console.error(\"failed to load \" + url);\n    }\n\n    for (let i = 0; i < css_urls.length; i++) {\n      const url = css_urls[i];\n      const element = document.createElement(\"link\");\n      element.onload = on_load;\n      element.onerror = on_error.bind(null, url);\n      element.rel = \"stylesheet\";\n      element.type = \"text/css\";\n      element.href = url;\n      console.debug(\"Bokeh: injecting link tag for BokehJS stylesheet: \", url);\n      document.body.appendChild(element);\n    }\n\n    for (let i = 0; i < js_urls.length; i++) {\n      const url = js_urls[i];\n      const element = document.createElement('script');\n      element.onload = on_load;\n      element.onerror = on_error.bind(null, url);\n      element.async = false;\n      element.src = url;\n      console.debug(\"Bokeh: injecting script tag for BokehJS library: \", url);\n      document.head.appendChild(element);\n    }\n  };\n\n  function inject_raw_css(css) {\n    const element = document.createElement(\"style\");\n    element.appendChild(document.createTextNode(css));\n    document.body.appendChild(element);\n  }\n\n  const js_urls = [\"https://cdn.bokeh.org/bokeh/release/bokeh-3.7.2.min.js\", \"https://cdn.bokeh.org/bokeh/release/bokeh-gl-3.7.2.min.js\", \"https://cdn.bokeh.org/bokeh/release/bokeh-widgets-3.7.2.min.js\", \"https://cdn.bokeh.org/bokeh/release/bokeh-tables-3.7.2.min.js\", \"https://cdn.bokeh.org/bokeh/release/bokeh-mathjax-3.7.2.min.js\"];\n  const css_urls = [];\n\n  const inline_js = [    function(Bokeh) {\n      Bokeh.set_log_level(\"info\");\n    },\nfunction(Bokeh) {\n    }\n  ];\n\n  function run_inline_js() {\n    if (root.Bokeh !== undefined || force === true) {\n      try {\n            for (let i = 0; i < inline_js.length; i++) {\n      inline_js[i].call(root, root.Bokeh);\n    }\n\n      } catch (error) {throw error;\n      }} else if (Date.now() < root._bokeh_timeout) {\n      setTimeout(run_inline_js, 100);\n    } else if (!root._bokeh_failed_load) {\n      console.log(\"Bokeh: BokehJS failed to load within specified timeout.\");\n      root._bokeh_failed_load = true;\n    } else if (force !== true) {\n      const cell = $(document.getElementById(null)).parents('.cell').data().cell;\n      cell.output_area.append_execute_result(NB_LOAD_WARNING)\n    }\n  }\n\n  if (root._bokeh_is_loading === 0) {\n    console.debug(\"Bokeh: BokehJS loaded, going straight to plotting\");\n    run_inline_js();\n  } else {\n    load_libs(css_urls, js_urls, function() {\n      console.debug(\"Bokeh: BokehJS plotting callback run at\", now());\n      run_inline_js();\n    });\n  }\n}(window));",
      "application/vnd.bokehjs_load.v0+json": ""
     },
     "metadata": {},
     "output_type": "display_data"
    },
    {
     "data": {
      "text/html": [
       "\n",
       "  <div id=\"ccf501da-2187-4f05-8ad3-1fb59b544d44\" data-root-id=\"p1001\" style=\"display: contents;\"></div>\n"
      ]
     },
     "metadata": {},
     "output_type": "display_data"
    },
    {
     "data": {
      "application/javascript": "(function(root) {\n  function embed_document(root) {\n  const docs_json = {\"aa59f577-7084-4c30-84e7-a1218f055874\":{\"version\":\"3.7.2\",\"title\":\"Bokeh Application\",\"roots\":[{\"type\":\"object\",\"name\":\"Figure\",\"id\":\"p1001\",\"attributes\":{\"height\":400,\"x_range\":{\"type\":\"object\",\"name\":\"FactorRange\",\"id\":\"p1011\",\"attributes\":{\"factors\":[\"NHS England\",\"NHS Wales\",\"Neighbourhood Geographies\",\"Address Geographies\"]}},\"y_range\":{\"type\":\"object\",\"name\":\"DataRange1d\",\"id\":\"p1003\",\"attributes\":{\"start\":0,\"end\":100}},\"x_scale\":{\"type\":\"object\",\"name\":\"CategoricalScale\",\"id\":\"p1012\"},\"y_scale\":{\"type\":\"object\",\"name\":\"LinearScale\",\"id\":\"p1013\"},\"title\":{\"type\":\"object\",\"name\":\"Title\",\"id\":\"p1004\",\"attributes\":{\"text\":\"Linkage rates (%) of ELSA participants to linked Datasets for Freeze 11\"}},\"renderers\":[{\"type\":\"object\",\"name\":\"GlyphRenderer\",\"id\":\"p1046\",\"attributes\":{\"data_source\":{\"type\":\"object\",\"name\":\"ColumnDataSource\",\"id\":\"p1037\",\"attributes\":{\"selected\":{\"type\":\"object\",\"name\":\"Selection\",\"id\":\"p1038\",\"attributes\":{\"indices\":[],\"line_indices\":[]}},\"selection_policy\":{\"type\":\"object\",\"name\":\"UnionRenderers\",\"id\":\"p1039\"},\"data\":{\"type\":\"map\",\"entries\":[[\"link_series\",[\"NHS England\",\"NHS Wales\",\"Neighbourhood Geographies\",\"Address Geographies\"]],[\"link_pct\",[78.16079295154185,0,0,0]],[\"n_sent\",[9080,9080,9080,9080]],[\"n_linked\",[7097,0,0,0]]]}}},\"view\":{\"type\":\"object\",\"name\":\"CDSView\",\"id\":\"p1047\",\"attributes\":{\"filter\":{\"type\":\"object\",\"name\":\"AllIndices\",\"id\":\"p1048\"}}},\"glyph\":{\"type\":\"object\",\"name\":\"VBar\",\"id\":\"p1043\",\"attributes\":{\"x\":{\"type\":\"field\",\"field\":\"link_series\"},\"width\":{\"type\":\"value\",\"value\":0.8},\"top\":{\"type\":\"field\",\"field\":\"link_pct\"},\"line_color\":{\"type\":\"value\",\"value\":\"#1f77b4\"},\"fill_color\":{\"type\":\"value\",\"value\":\"#1f77b4\"}}},\"nonselection_glyph\":{\"type\":\"object\",\"name\":\"VBar\",\"id\":\"p1044\",\"attributes\":{\"x\":{\"type\":\"field\",\"field\":\"link_series\"},\"width\":{\"type\":\"value\",\"value\":0.8},\"top\":{\"type\":\"field\",\"field\":\"link_pct\"},\"line_color\":{\"type\":\"value\",\"value\":\"#1f77b4\"},\"line_alpha\":{\"type\":\"value\",\"value\":0.1},\"fill_color\":{\"type\":\"value\",\"value\":\"#1f77b4\"},\"fill_alpha\":{\"type\":\"value\",\"value\":0.1},\"hatch_alpha\":{\"type\":\"value\",\"value\":0.1}}},\"muted_glyph\":{\"type\":\"object\",\"name\":\"VBar\",\"id\":\"p1045\",\"attributes\":{\"x\":{\"type\":\"field\",\"field\":\"link_series\"},\"width\":{\"type\":\"value\",\"value\":0.8},\"top\":{\"type\":\"field\",\"field\":\"link_pct\"},\"line_color\":{\"type\":\"value\",\"value\":\"#1f77b4\"},\"line_alpha\":{\"type\":\"value\",\"value\":0.2},\"fill_color\":{\"type\":\"value\",\"value\":\"#1f77b4\"},\"fill_alpha\":{\"type\":\"value\",\"value\":0.2},\"hatch_alpha\":{\"type\":\"value\",\"value\":0.2}}}}}],\"toolbar\":{\"type\":\"object\",\"name\":\"Toolbar\",\"id\":\"p1010\",\"attributes\":{\"tools\":[{\"type\":\"object\",\"name\":\"PanTool\",\"id\":\"p1024\"},{\"type\":\"object\",\"name\":\"WheelZoomTool\",\"id\":\"p1025\",\"attributes\":{\"renderers\":\"auto\"}},{\"type\":\"object\",\"name\":\"BoxZoomTool\",\"id\":\"p1026\",\"attributes\":{\"dimensions\":\"both\",\"overlay\":{\"type\":\"object\",\"name\":\"BoxAnnotation\",\"id\":\"p1027\",\"attributes\":{\"syncable\":false,\"line_color\":\"black\",\"line_alpha\":1.0,\"line_width\":2,\"line_dash\":[4,4],\"fill_color\":\"lightgrey\",\"fill_alpha\":0.5,\"level\":\"overlay\",\"visible\":false,\"left\":{\"type\":\"number\",\"value\":\"nan\"},\"right\":{\"type\":\"number\",\"value\":\"nan\"},\"top\":{\"type\":\"number\",\"value\":\"nan\"},\"bottom\":{\"type\":\"number\",\"value\":\"nan\"},\"left_units\":\"canvas\",\"right_units\":\"canvas\",\"top_units\":\"canvas\",\"bottom_units\":\"canvas\",\"handles\":{\"type\":\"object\",\"name\":\"BoxInteractionHandles\",\"id\":\"p1033\",\"attributes\":{\"all\":{\"type\":\"object\",\"name\":\"AreaVisuals\",\"id\":\"p1032\",\"attributes\":{\"fill_color\":\"white\",\"hover_fill_color\":\"lightgray\"}}}}}}}},{\"type\":\"object\",\"name\":\"SaveTool\",\"id\":\"p1034\"},{\"type\":\"object\",\"name\":\"ResetTool\",\"id\":\"p1035\"},{\"type\":\"object\",\"name\":\"HelpTool\",\"id\":\"p1036\"},{\"type\":\"object\",\"name\":\"HoverTool\",\"id\":\"p1049\",\"attributes\":{\"renderers\":\"auto\",\"tooltips\":[[\"Linked Participants\",\"@n_linked\"],[\"Participants sent to UK LLC\",\"@n_sent\"]]}}]}},\"left\":[{\"type\":\"object\",\"name\":\"LinearAxis\",\"id\":\"p1019\",\"attributes\":{\"ticker\":{\"type\":\"object\",\"name\":\"BasicTicker\",\"id\":\"p1020\",\"attributes\":{\"mantissas\":[1,2,5]}},\"formatter\":{\"type\":\"object\",\"name\":\"BasicTickFormatter\",\"id\":\"p1021\"},\"major_label_policy\":{\"type\":\"object\",\"name\":\"AllLabels\",\"id\":\"p1022\"}}}],\"below\":[{\"type\":\"object\",\"name\":\"CategoricalAxis\",\"id\":\"p1014\",\"attributes\":{\"ticker\":{\"type\":\"object\",\"name\":\"CategoricalTicker\",\"id\":\"p1015\"},\"formatter\":{\"type\":\"object\",\"name\":\"CategoricalTickFormatter\",\"id\":\"p1016\"},\"major_label_orientation\":0.7853981633974483,\"major_label_policy\":{\"type\":\"object\",\"name\":\"AllLabels\",\"id\":\"p1017\"}}}],\"center\":[{\"type\":\"object\",\"name\":\"Grid\",\"id\":\"p1018\",\"attributes\":{\"axis\":{\"id\":\"p1014\"}}},{\"type\":\"object\",\"name\":\"Grid\",\"id\":\"p1023\",\"attributes\":{\"dimension\":1,\"axis\":{\"id\":\"p1019\"}}}]}}]}};\n  const render_items = [{\"docid\":\"aa59f577-7084-4c30-84e7-a1218f055874\",\"roots\":{\"p1001\":\"ccf501da-2187-4f05-8ad3-1fb59b544d44\"},\"root_ids\":[\"p1001\"]}];\n  void root.Bokeh.embed.embed_items_notebook(docs_json, render_items);\n  }\n  if (root.Bokeh !== undefined) {\n    embed_document(root);\n  } else {\n    let attempts = 0;\n    const timer = setInterval(function(root) {\n      if (root.Bokeh !== undefined) {\n        clearInterval(timer);\n        embed_document(root);\n      } else {\n        attempts++;\n        if (attempts > 100) {\n          clearInterval(timer);\n          console.log(\"Bokeh: ERROR: Unable to run BokehJS code because BokehJS library is missing\");\n        }\n      }\n    }, 10, root)\n  }\n})(window);",
      "application/vnd.bokehjs_exec.v0+json": ""
     },
     "metadata": {
      "application/vnd.bokehjs_exec.v0+json": {
       "id": "p1001"
      }
     },
     "output_type": "display_data"
    }
   ],
   "source": [
    "ss.linkages_plot()"
   ]
  },
  {
   "cell_type": "markdown",
   "id": "c4391801",
   "metadata": {},
   "source": [
    "## 3. Change Log"
   ]
  },
  {
   "cell_type": "code",
   "execution_count": 5,
   "id": "97db7d87",
   "metadata": {
    "tags": [
     "remove-input"
    ]
   },
   "outputs": [
    {
     "data": {
      "text/markdown": [
       "We are currently working on a change log which will show changes to the dataset's metadata."
      ],
      "text/plain": [
       "<IPython.core.display.Markdown object>"
      ]
     },
     "metadata": {},
     "output_type": "display_data"
    }
   ],
   "source": [
    "ss.change_log()"
   ]
  },
  {
   "cell_type": "markdown",
   "id": "770d2a20",
   "metadata": {},
   "source": [
    "## 4. Documentation"
   ]
  },
  {
   "cell_type": "code",
   "execution_count": 6,
   "id": "9fbb21a7",
   "metadata": {
    "tags": [
     "remove-input"
    ]
   },
   "outputs": [
    {
     "data": {
      "text/markdown": [
       "We are currently building a documentation storage system which will host relevant and useful documents related to datasets, groupings, and studies themselves."
      ],
      "text/plain": [
       "<IPython.core.display.Markdown object>"
      ]
     },
     "metadata": {},
     "output_type": "display_data"
    }
   ],
   "source": [
    "ss.documentation()"
   ]
  },
  {
   "cell_type": "markdown",
   "id": "44680ba8",
   "metadata": {},
   "source": [
    "## 5. Datasets"
   ]
  },
  {
   "cell_type": "code",
   "execution_count": 7,
   "id": "3d9483df",
   "metadata": {
    "tags": [
     "remove-input",
     "hide-output"
    ]
   },
   "outputs": [
    {
     "data": {
      "text/html": [
       "<style type=\"text/css\">\n",
       "#T_4956c th {\n",
       "  text-align: left;\n",
       "}\n",
       "#T_4956c_row0_col0, #T_4956c_row0_col1, #T_4956c_row0_col2, #T_4956c_row0_col3, #T_4956c_row0_col4, #T_4956c_row1_col0, #T_4956c_row1_col1, #T_4956c_row1_col2, #T_4956c_row1_col3, #T_4956c_row1_col4, #T_4956c_row2_col0, #T_4956c_row2_col1, #T_4956c_row2_col2, #T_4956c_row2_col3, #T_4956c_row2_col4, #T_4956c_row3_col0, #T_4956c_row3_col1, #T_4956c_row3_col2, #T_4956c_row3_col3, #T_4956c_row3_col4, #T_4956c_row4_col0, #T_4956c_row4_col1, #T_4956c_row4_col2, #T_4956c_row4_col3, #T_4956c_row4_col4, #T_4956c_row5_col0, #T_4956c_row5_col1, #T_4956c_row5_col2, #T_4956c_row5_col3, #T_4956c_row5_col4, #T_4956c_row6_col0, #T_4956c_row6_col1, #T_4956c_row6_col2, #T_4956c_row6_col3, #T_4956c_row6_col4, #T_4956c_row7_col0, #T_4956c_row7_col1, #T_4956c_row7_col2, #T_4956c_row7_col3, #T_4956c_row7_col4, #T_4956c_row8_col0, #T_4956c_row8_col1, #T_4956c_row8_col2, #T_4956c_row8_col3, #T_4956c_row8_col4, #T_4956c_row9_col0, #T_4956c_row9_col1, #T_4956c_row9_col2, #T_4956c_row9_col3, #T_4956c_row9_col4, #T_4956c_row10_col0, #T_4956c_row10_col1, #T_4956c_row10_col2, #T_4956c_row10_col3, #T_4956c_row10_col4, #T_4956c_row11_col0, #T_4956c_row11_col1, #T_4956c_row11_col2, #T_4956c_row11_col3, #T_4956c_row11_col4, #T_4956c_row12_col0, #T_4956c_row12_col1, #T_4956c_row12_col2, #T_4956c_row12_col3, #T_4956c_row12_col4, #T_4956c_row13_col0, #T_4956c_row13_col1, #T_4956c_row13_col2, #T_4956c_row13_col3, #T_4956c_row13_col4, #T_4956c_row14_col0, #T_4956c_row14_col1, #T_4956c_row14_col2, #T_4956c_row14_col3, #T_4956c_row14_col4, #T_4956c_row15_col0, #T_4956c_row15_col1, #T_4956c_row15_col2, #T_4956c_row15_col3, #T_4956c_row15_col4, #T_4956c_row16_col0, #T_4956c_row16_col1, #T_4956c_row16_col2, #T_4956c_row16_col3, #T_4956c_row16_col4, #T_4956c_row17_col0, #T_4956c_row17_col1, #T_4956c_row17_col2, #T_4956c_row17_col3, #T_4956c_row17_col4 {\n",
       "  text-align: left;\n",
       "}\n",
       "</style>\n",
       "<table id=\"T_4956c\" style=\"font-size: 14px\">\n",
       "  <thead>\n",
       "    <tr>\n",
       "      <th id=\"T_4956c_level0_col0\" class=\"col_heading level0 col0\" >Dataset</th>\n",
       "      <th id=\"T_4956c_level0_col1\" class=\"col_heading level0 col1\" >Dataset Name</th>\n",
       "      <th id=\"T_4956c_level0_col2\" class=\"col_heading level0 col2\" ># Participants</th>\n",
       "      <th id=\"T_4956c_level0_col3\" class=\"col_heading level0 col3\" ># Observations</th>\n",
       "      <th id=\"T_4956c_level0_col4\" class=\"col_heading level0 col4\" ># Variables</th>\n",
       "    </tr>\n",
       "  </thead>\n",
       "  <tbody>\n",
       "    <tr>\n",
       "      <td id=\"T_4956c_row0_col0\" class=\"data row0 col0\" > <a href=\"https://guidebook.ukllc.ac.uk/docs/LPS_data/Datasets/ELSA/Datasets/elsa_covid_w1_eul.html\" rel=\"noopener noreferrer\" target=\"_blank\">elsa_covid_w1_eul</a></td>\n",
       "      <td id=\"T_4956c_row0_col1\" class=\"data row0 col1\" >ELSA Wave 9 housing dataset part 1</td>\n",
       "      <td id=\"T_4956c_row0_col2\" class=\"data row0 col2\" >7040</td>\n",
       "      <td id=\"T_4956c_row0_col3\" class=\"data row0 col3\" >7040</td>\n",
       "      <td id=\"T_4956c_row0_col4\" class=\"data row0 col4\" >319</td>\n",
       "    </tr>\n",
       "    <tr>\n",
       "      <td id=\"T_4956c_row1_col0\" class=\"data row1 col0\" > <a href=\"https://guidebook.ukllc.ac.uk/docs/LPS_data/Datasets/ELSA/Datasets/elsa_covid_w2_eul.html\" rel=\"noopener noreferrer\" target=\"_blank\">elsa_covid_w2_eul</a></td>\n",
       "      <td id=\"T_4956c_row1_col1\" class=\"data row1 col1\" >ELSA Wave 9 housing dataset part 2</td>\n",
       "      <td id=\"T_4956c_row1_col2\" class=\"data row1 col2\" >6794</td>\n",
       "      <td id=\"T_4956c_row1_col3\" class=\"data row1 col3\" >6794</td>\n",
       "      <td id=\"T_4956c_row1_col4\" class=\"data row1 col4\" >443</td>\n",
       "    </tr>\n",
       "    <tr>\n",
       "      <td id=\"T_4956c_row2_col0\" class=\"data row2 col0\" > <a href=\"https://guidebook.ukllc.ac.uk/docs/LPS_data/Datasets/ELSA/Datasets/wave_9_elsa_data_eul_ca.html\" rel=\"noopener noreferrer\" target=\"_blank\">wave_9_elsa_data_eul_ca</a></td>\n",
       "      <td id=\"T_4956c_row2_col1\" class=\"data row2 col1\" > ELSA Wave 9 income and assets dataset part 1</td>\n",
       "      <td id=\"T_4956c_row2_col2\" class=\"data row2 col2\" >8736</td>\n",
       "      <td id=\"T_4956c_row2_col3\" class=\"data row2 col3\" >8736</td>\n",
       "      <td id=\"T_4956c_row2_col4\" class=\"data row2 col4\" >674</td>\n",
       "    </tr>\n",
       "    <tr>\n",
       "      <td id=\"T_4956c_row3_col0\" class=\"data row3 col0\" > <a href=\"https://guidebook.ukllc.ac.uk/docs/LPS_data/Datasets/ELSA/Datasets/wave_9_elsa_data_eul_cf.html\" rel=\"noopener noreferrer\" target=\"_blank\">wave_9_elsa_data_eul_cf</a></td>\n",
       "      <td id=\"T_4956c_row3_col1\" class=\"data row3 col1\" > ELSA Wave 9 income and assets dataset part 2</td>\n",
       "      <td id=\"T_4956c_row3_col2\" class=\"data row3 col2\" >8736</td>\n",
       "      <td id=\"T_4956c_row3_col3\" class=\"data row3 col3\" >8736</td>\n",
       "      <td id=\"T_4956c_row3_col4\" class=\"data row3 col4\" >88</td>\n",
       "    </tr>\n",
       "    <tr>\n",
       "      <td id=\"T_4956c_row4_col0\" class=\"data row4 col0\" > <a href=\"https://guidebook.ukllc.ac.uk/docs/LPS_data/Datasets/ELSA/Datasets/wave_9_elsa_data_eul_dhdi.html\" rel=\"noopener noreferrer\" target=\"_blank\">wave_9_elsa_data_eul_dhdi</a></td>\n",
       "      <td id=\"T_4956c_row4_col1\" class=\"data row4 col1\" > ELSA Wave 9 income and assets dataset part 3</td>\n",
       "      <td id=\"T_4956c_row4_col2\" class=\"data row4 col2\" >8736</td>\n",
       "      <td id=\"T_4956c_row4_col3\" class=\"data row4 col3\" >8736</td>\n",
       "      <td id=\"T_4956c_row4_col4\" class=\"data row4 col4\" >429</td>\n",
       "    </tr>\n",
       "    <tr>\n",
       "      <td id=\"T_4956c_row5_col0\" class=\"data row5 col0\" > <a href=\"https://guidebook.ukllc.ac.uk/docs/LPS_data/Datasets/ELSA/Datasets/wave_9_elsa_data_eul_er.html\" rel=\"noopener noreferrer\" target=\"_blank\">wave_9_elsa_data_eul_er</a></td>\n",
       "      <td id=\"T_4956c_row5_col1\" class=\"data row5 col1\" >ELSA Wave 9 Social Participation dataset</td>\n",
       "      <td id=\"T_4956c_row5_col2\" class=\"data row5 col2\" >8736</td>\n",
       "      <td id=\"T_4956c_row5_col3\" class=\"data row5 col3\" >8736</td>\n",
       "      <td id=\"T_4956c_row5_col4\" class=\"data row5 col4\" >120</td>\n",
       "    </tr>\n",
       "    <tr>\n",
       "      <td id=\"T_4956c_row6_col0\" class=\"data row6 col0\" > <a href=\"https://guidebook.ukllc.ac.uk/docs/LPS_data/Datasets/ELSA/Datasets/wave_9_elsa_data_eul_ex.html\" rel=\"noopener noreferrer\" target=\"_blank\">wave_9_elsa_data_eul_ex</a></td>\n",
       "      <td id=\"T_4956c_row6_col1\" class=\"data row6 col1\" >ELSA Wave 9 work and pensions dataset</td>\n",
       "      <td id=\"T_4956c_row6_col2\" class=\"data row6 col2\" >8736</td>\n",
       "      <td id=\"T_4956c_row6_col3\" class=\"data row6 col3\" >8736</td>\n",
       "      <td id=\"T_4956c_row6_col4\" class=\"data row6 col4\" >77</td>\n",
       "    </tr>\n",
       "    <tr>\n",
       "      <td id=\"T_4956c_row7_col0\" class=\"data row7 col0\" > <a href=\"https://guidebook.ukllc.ac.uk/docs/LPS_data/Datasets/ELSA/Datasets/wave_9_elsa_data_eul_fq.html\" rel=\"noopener noreferrer\" target=\"_blank\">wave_9_elsa_data_eul_fq</a></td>\n",
       "      <td id=\"T_4956c_row7_col1\" class=\"data row7 col1\" >Financial Derived Variables Wave 9</td>\n",
       "      <td id=\"T_4956c_row7_col2\" class=\"data row7 col2\" >8736</td>\n",
       "      <td id=\"T_4956c_row7_col3\" class=\"data row7 col3\" >8736</td>\n",
       "      <td id=\"T_4956c_row7_col4\" class=\"data row7 col4\" >96</td>\n",
       "    </tr>\n",
       "    <tr>\n",
       "      <td id=\"T_4956c_row8_col0\" class=\"data row8 col0\" > <a href=\"https://guidebook.ukllc.ac.uk/docs/LPS_data/Datasets/ELSA/Datasets/wave_9_elsa_data_eul_heps.html\" rel=\"noopener noreferrer\" target=\"_blank\">wave_9_elsa_data_eul_heps</a></td>\n",
       "      <td id=\"T_4956c_row8_col1\" class=\"data row8 col1\" >Non-financial Derived Variables Wave 9</td>\n",
       "      <td id=\"T_4956c_row8_col2\" class=\"data row8 col2\" >8736</td>\n",
       "      <td id=\"T_4956c_row8_col3\" class=\"data row8 col3\" >8736</td>\n",
       "      <td id=\"T_4956c_row8_col4\" class=\"data row8 col4\" >514</td>\n",
       "    </tr>\n",
       "    <tr>\n",
       "      <td id=\"T_4956c_row9_col0\" class=\"data row9 col0\" > <a href=\"https://guidebook.ukllc.ac.uk/docs/LPS_data/Datasets/ELSA/Datasets/wave_9_elsa_data_eul_ho1.html\" rel=\"noopener noreferrer\" target=\"_blank\">wave_9_elsa_data_eul_ho1</a></td>\n",
       "      <td id=\"T_4956c_row9_col1\" class=\"data row9 col1\" >ELSA Wave 9 Data (EUL) Housing 1</td>\n",
       "      <td id=\"T_4956c_row9_col2\" class=\"data row9 col2\" >8736</td>\n",
       "      <td id=\"T_4956c_row9_col3\" class=\"data row9 col3\" >8736</td>\n",
       "      <td id=\"T_4956c_row9_col4\" class=\"data row9 col4\" >990</td>\n",
       "    </tr>\n",
       "    <tr>\n",
       "      <td id=\"T_4956c_row10_col0\" class=\"data row10 col0\" > <a href=\"https://guidebook.ukllc.ac.uk/docs/LPS_data/Datasets/ELSA/Datasets/wave_9_elsa_data_eul_ho2.html\" rel=\"noopener noreferrer\" target=\"_blank\">wave_9_elsa_data_eul_ho2</a></td>\n",
       "      <td id=\"T_4956c_row10_col1\" class=\"data row10 col1\" >ELSA Wave 9 Data (EUL) Housing 2</td>\n",
       "      <td id=\"T_4956c_row10_col2\" class=\"data row10 col2\" >8736</td>\n",
       "      <td id=\"T_4956c_row10_col3\" class=\"data row10 col3\" >8736</td>\n",
       "      <td id=\"T_4956c_row10_col4\" class=\"data row10 col4\" >814</td>\n",
       "    </tr>\n",
       "    <tr>\n",
       "      <td id=\"T_4956c_row11_col0\" class=\"data row11 col0\" > <a href=\"https://guidebook.ukllc.ac.uk/docs/LPS_data/Datasets/ELSA/Datasets/wave_9_elsa_data_eul_ia1.html\" rel=\"noopener noreferrer\" target=\"_blank\">wave_9_elsa_data_eul_ia1</a></td>\n",
       "      <td id=\"T_4956c_row11_col1\" class=\"data row11 col1\" >ELSA Wave 9 Data (EUL) Income And Assets 1</td>\n",
       "      <td id=\"T_4956c_row11_col2\" class=\"data row11 col2\" >8736</td>\n",
       "      <td id=\"T_4956c_row11_col3\" class=\"data row11 col3\" >8736</td>\n",
       "      <td id=\"T_4956c_row11_col4\" class=\"data row11 col4\" >647</td>\n",
       "    </tr>\n",
       "    <tr>\n",
       "      <td id=\"T_4956c_row12_col0\" class=\"data row12 col0\" > <a href=\"https://guidebook.ukllc.ac.uk/docs/LPS_data/Datasets/ELSA/Datasets/wave_9_elsa_data_eul_ia2.html\" rel=\"noopener noreferrer\" target=\"_blank\">wave_9_elsa_data_eul_ia2</a></td>\n",
       "      <td id=\"T_4956c_row12_col1\" class=\"data row12 col1\" >ELSA Wave 9 Data (EUL) Income And Assets 2</td>\n",
       "      <td id=\"T_4956c_row12_col2\" class=\"data row12 col2\" >8736</td>\n",
       "      <td id=\"T_4956c_row12_col3\" class=\"data row12 col3\" >8736</td>\n",
       "      <td id=\"T_4956c_row12_col4\" class=\"data row12 col4\" >539</td>\n",
       "    </tr>\n",
       "    <tr>\n",
       "      <td id=\"T_4956c_row13_col0\" class=\"data row13 col0\" > <a href=\"https://guidebook.ukllc.ac.uk/docs/LPS_data/Datasets/ELSA/Datasets/wave_9_elsa_data_eul_ia3.html\" rel=\"noopener noreferrer\" target=\"_blank\">wave_9_elsa_data_eul_ia3</a></td>\n",
       "      <td id=\"T_4956c_row13_col1\" class=\"data row13 col1\" >ELSA Wave 9 Data (EUL) Income And Assets 3</td>\n",
       "      <td id=\"T_4956c_row13_col2\" class=\"data row13 col2\" >8736</td>\n",
       "      <td id=\"T_4956c_row13_col3\" class=\"data row13 col3\" >8736</td>\n",
       "      <td id=\"T_4956c_row13_col4\" class=\"data row13 col4\" >701</td>\n",
       "    </tr>\n",
       "    <tr>\n",
       "      <td id=\"T_4956c_row14_col0\" class=\"data row14 col0\" > <a href=\"https://guidebook.ukllc.ac.uk/docs/LPS_data/Datasets/ELSA/Datasets/wave_9_elsa_data_eul_spsc.html\" rel=\"noopener noreferrer\" target=\"_blank\">wave_9_elsa_data_eul_spsc</a></td>\n",
       "      <td id=\"T_4956c_row14_col1\" class=\"data row14 col1\" >ELSA Wave 9 Data (EUL) Social Participation And Social Capital</td>\n",
       "      <td id=\"T_4956c_row14_col2\" class=\"data row14 col2\" >8736</td>\n",
       "      <td id=\"T_4956c_row14_col3\" class=\"data row14 col3\" >8736</td>\n",
       "      <td id=\"T_4956c_row14_col4\" class=\"data row14 col4\" >257</td>\n",
       "    </tr>\n",
       "    <tr>\n",
       "      <td id=\"T_4956c_row15_col0\" class=\"data row15 col0\" > <a href=\"https://guidebook.ukllc.ac.uk/docs/LPS_data/Datasets/ELSA/Datasets/wave_9_elsa_data_eul_wp.html\" rel=\"noopener noreferrer\" target=\"_blank\">wave_9_elsa_data_eul_wp</a></td>\n",
       "      <td id=\"T_4956c_row15_col1\" class=\"data row15 col1\" >ELSA Wave 9 Data (EUL) Work and Pensions</td>\n",
       "      <td id=\"T_4956c_row15_col2\" class=\"data row15 col2\" >8736</td>\n",
       "      <td id=\"T_4956c_row15_col3\" class=\"data row15 col3\" >8736</td>\n",
       "      <td id=\"T_4956c_row15_col4\" class=\"data row15 col4\" >509</td>\n",
       "    </tr>\n",
       "    <tr>\n",
       "      <td id=\"T_4956c_row16_col0\" class=\"data row16 col0\" > <a href=\"https://guidebook.ukllc.ac.uk/docs/LPS_data/Datasets/ELSA/Datasets/wave_9_financial_derived_variables.html\" rel=\"noopener noreferrer\" target=\"_blank\">wave_9_financial_derived_variables</a></td>\n",
       "      <td id=\"T_4956c_row16_col1\" class=\"data row16 col1\" >ELSA Wave 9 Financial Derived Variables</td>\n",
       "      <td id=\"T_4956c_row16_col2\" class=\"data row16 col2\" >8736</td>\n",
       "      <td id=\"T_4956c_row16_col3\" class=\"data row16 col3\" >8736</td>\n",
       "      <td id=\"T_4956c_row16_col4\" class=\"data row16 col4\" >673</td>\n",
       "    </tr>\n",
       "    <tr>\n",
       "      <td id=\"T_4956c_row17_col0\" class=\"data row17 col0\" > <a href=\"https://guidebook.ukllc.ac.uk/docs/LPS_data/Datasets/ELSA/Datasets/wave_9_ifs_derived_variables.html\" rel=\"noopener noreferrer\" target=\"_blank\">wave_9_ifs_derived_variables</a></td>\n",
       "      <td id=\"T_4956c_row17_col1\" class=\"data row17 col1\" >ELSA Wave 9 Institute for Fiscal Studies (IFS) Derived Variables</td>\n",
       "      <td id=\"T_4956c_row17_col2\" class=\"data row17 col2\" >8736</td>\n",
       "      <td id=\"T_4956c_row17_col3\" class=\"data row17 col3\" >8736</td>\n",
       "      <td id=\"T_4956c_row17_col4\" class=\"data row17 col4\" >405</td>\n",
       "    </tr>\n",
       "  </tbody>\n",
       "</table>\n"
      ],
      "text/plain": [
       "<pandas.io.formats.style.Styler at 0x1969178d590>"
      ]
     },
     "execution_count": 7,
     "metadata": {},
     "output_type": "execute_result"
    }
   ],
   "source": [
    "ss.datasets()"
   ]
  }
 ],
 "metadata": {
  "kernelspec": {
   "display_name": "Python 3",
   "language": "python",
   "name": "python3"
  },
  "language_info": {
   "codemirror_mode": {
    "name": "ipython",
    "version": 3
   },
   "file_extension": ".py",
   "mimetype": "text/x-python",
   "name": "python",
   "nbconvert_exporter": "python",
   "pygments_lexer": "ipython3",
   "version": "3.13.2"
  }
 },
 "nbformat": 4,
 "nbformat_minor": 5
}
