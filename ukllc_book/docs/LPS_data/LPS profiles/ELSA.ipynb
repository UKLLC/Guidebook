{
 "cells": [
  {
   "cell_type": "markdown",
   "id": "9e97d855",
   "metadata": {},
   "source": [
    "# English Longitudinal Study of Ageing (ELSA) (ELSA)"
   ]
  },
  {
   "cell_type": "code",
   "execution_count": null,
   "id": "3b8d3efd",
   "metadata": {
    "tags": [
     "remove-cell"
    ]
   },
   "outputs": [],
   "source": [
    "\n",
    "import sys\n",
    "import os\n",
    "sys.path.append(os.path.abspath('../../scripts/'))\n",
    "from data_doc_helper import LPSSource as SS\n",
    "ss = SS(\"ELSA\")\n"
   ]
  },
  {
   "cell_type": "markdown",
   "id": "4c44fc47",
   "metadata": {},
   "source": [
    "## 1. Summary"
   ]
  },
  {
   "cell_type": "code",
   "execution_count": null,
   "id": "6c59b971",
   "metadata": {
    "tags": [
     "remove-input"
    ]
   },
   "outputs": [],
   "source": [
    "ss.summary()"
   ]
  },
  {
   "cell_type": "code",
   "execution_count": null,
   "id": "2fa434a2",
   "metadata": {
    "tags": [
     "remove-input"
    ]
   },
   "outputs": [],
   "source": [
    "ss.info_table()"
   ]
  },
  {
   "cell_type": "markdown",
   "id": "afeb1dbf",
   "metadata": {},
   "source": [
    "## 2. Permitted Linkages"
   ]
  },
  {
   "cell_type": "code",
   "execution_count": null,
   "id": "403ee86a",
   "metadata": {
    "tags": [
     "remove-input"
    ]
   },
   "outputs": [],
   "source": [
    "ss.linkages_plot()"
   ]
  },
  {
   "cell_type": "markdown",
   "id": "8226f65c",
   "metadata": {},
   "source": [
    "## 3. Change Log"
   ]
  },
  {
   "cell_type": "code",
   "execution_count": null,
   "id": "43406741",
   "metadata": {
    "tags": [
     "remove-input"
    ]
   },
   "outputs": [],
   "source": [
    "ss.change_log()"
   ]
  },
  {
   "cell_type": "markdown",
   "id": "51fbb966",
   "metadata": {},
   "source": [
    "## 4. Documentation"
   ]
  },
  {
   "cell_type": "code",
   "execution_count": null,
   "id": "80d6b688",
   "metadata": {
    "tags": [
     "remove-input"
    ]
   },
   "outputs": [],
   "source": [
    "ss.documentation()"
   ]
  },
  {
   "cell_type": "markdown",
   "id": "6851f665",
   "metadata": {},
   "source": [
    "## 5. Datasets"
   ]
  },
  {
   "cell_type": "code",
   "execution_count": null,
   "id": "941cf1d3",
   "metadata": {
    "tags": [
     "remove-input",
     "hide-output"
    ]
   },
   "outputs": [],
   "source": [
    "ss.datasets()"
   ]
  }
 ],
 "metadata": {},
 "nbformat": 4,
 "nbformat_minor": 5
}
