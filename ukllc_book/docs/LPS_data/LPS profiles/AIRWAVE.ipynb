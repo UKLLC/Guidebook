{
 "cells": [
  {
   "cell_type": "markdown",
   "id": "c09273ef",
   "metadata": {},
   "source": [
    "# The Airwave Health Monitoring Study (AIRWAVE)"
   ]
  },
  {
   "cell_type": "code",
   "execution_count": 1,
   "id": "f976e3d4",
   "metadata": {
    "tags": [
     "remove-input"
    ]
   },
   "outputs": [
    {
     "data": {
      "text/markdown": [
       ">Last modified: 05 Jun 2025"
      ],
      "text/plain": [
       "<IPython.core.display.Markdown object>"
      ]
     },
     "metadata": {},
     "output_type": "display_data"
    }
   ],
   "source": [
    "import sys\n",
    "import os\n",
    "sys.path.append(os.path.abspath('../../scripts/'))\n",
    "from data_doc_helper import LPSSource as SS, last_modified\n",
    "ss = SS(\"AIRWAVE\")\n",
    "last_modified()"
   ]
  },
  {
   "cell_type": "markdown",
   "id": "c8463110",
   "metadata": {},
   "source": [
    "## 1. Summary"
   ]
  },
  {
   "cell_type": "code",
   "execution_count": 2,
   "id": "3f7dc269",
   "metadata": {
    "tags": [
     "remove-input"
    ]
   },
   "outputs": [
    {
     "data": {
      "text/markdown": [
       "The Airwave Health Monitoring Study is an occupational cohort study which was established to evaluate the possible health risks associated with use of Terrestrial Trunked Radio (TETRA), a digital communication system used by the police force. Due to the collection of extensive phenotypic data, biological samples and the availability of linked health data, the study has been broadened to investigate more generally the health and social outcomes of working in the police force in Great Britain. "
      ],
      "text/plain": [
       "<IPython.core.display.Markdown object>"
      ]
     },
     "metadata": {},
     "output_type": "display_data"
    }
   ],
   "source": [
    "ss.summary()"
   ]
  },
  {
   "cell_type": "code",
   "execution_count": 3,
   "id": "63032bb1",
   "metadata": {
    "tags": [
     "remove-input"
    ]
   },
   "outputs": [
    {
     "data": {
      "text/html": [
       "<style type=\"text/css\">\n",
       "#T_6edd1 th {\n",
       "  text-align: left;\n",
       "}\n",
       "#T_6edd1_row0_col0, #T_6edd1_row0_col1, #T_6edd1_row1_col0, #T_6edd1_row1_col1, #T_6edd1_row2_col0, #T_6edd1_row2_col1, #T_6edd1_row3_col0, #T_6edd1_row3_col1, #T_6edd1_row4_col0, #T_6edd1_row4_col1, #T_6edd1_row5_col0, #T_6edd1_row5_col1, #T_6edd1_row6_col0, #T_6edd1_row6_col1, #T_6edd1_row7_col0, #T_6edd1_row7_col1, #T_6edd1_row8_col0, #T_6edd1_row8_col1, #T_6edd1_row9_col0, #T_6edd1_row9_col1, #T_6edd1_row10_col0, #T_6edd1_row10_col1, #T_6edd1_row11_col0, #T_6edd1_row11_col1, #T_6edd1_row12_col0, #T_6edd1_row12_col1 {\n",
       "  text-align: left;\n",
       "}\n",
       "</style>\n",
       "<table id=\"T_6edd1\" style=\"font-size: 14px\">\n",
       "  <thead>\n",
       "    <tr>\n",
       "      <th id=\"T_6edd1_level0_col0\" class=\"col_heading level0 col0\" >Series Descriptor</th>\n",
       "      <th id=\"T_6edd1_level0_col1\" class=\"col_heading level0 col1\" >Series-specific Information</th>\n",
       "    </tr>\n",
       "  </thead>\n",
       "  <tbody>\n",
       "    <tr>\n",
       "      <td id=\"T_6edd1_row0_col0\" class=\"data row0 col0\" >Citation (APA)</td>\n",
       "      <td id=\"T_6edd1_row0_col1\" class=\"data row0 col1\" >Imperial College London, Department Of Epidemiology. (2025). <i>The Airwave Health Monitoring Study.</i> UK Longitudinal Linkage Collaboration (UK LLC).  <a href=\"https://doi.org/10.83126/ukllc-series-00001-01\" rel=\"noopener noreferrer\" target=\"_blank\">https://doi.org/10.83126/ukllc-series-00001</a></td>\n",
       "    </tr>\n",
       "    <tr>\n",
       "      <td id=\"T_6edd1_row1_col0\" class=\"data row1 col0\" >Download Citation</td>\n",
       "      <td id=\"T_6edd1_row1_col1\" class=\"data row1 col1\" > <a href=\"https://api.datacite.org/application/vnd.citationstyles.csl+json/10.83126/ukllc-series-00001-01\" rel=\"noopener noreferrer\" target=\"_blank\">Citeproc JSON</a>&nbsp;&nbsp;&nbsp;&nbsp; <a href=\"https://api.datacite.org/application/x-bibtex/10.83126/ukllc-series-00001-01\" rel=\"noopener noreferrer\" target=\"_blank\">BibTeX</a>&nbsp;&nbsp;&nbsp;&nbsp; <a href=\"https://api.datacite.org/application/x-research-info-systems/10.83126/ukllc-series-00001-01\" rel=\"noopener noreferrer\" target=\"_blank\">RIS</a></td>\n",
       "    </tr>\n",
       "    <tr>\n",
       "      <td id=\"T_6edd1_row2_col0\" class=\"data row2 col0\" >Owner</td>\n",
       "      <td id=\"T_6edd1_row2_col1\" class=\"data row2 col1\" >Imperial College London</td>\n",
       "    </tr>\n",
       "    <tr>\n",
       "      <td id=\"T_6edd1_row3_col0\" class=\"data row3 col0\" >Cohort</td>\n",
       "      <td id=\"T_6edd1_row3_col1\" class=\"data row3 col1\" >53000</td>\n",
       "    </tr>\n",
       "    <tr>\n",
       "      <td id=\"T_6edd1_row4_col0\" class=\"data row4 col0\" >Age at Recruitment</td>\n",
       "      <td id=\"T_6edd1_row4_col1\" class=\"data row4 col1\" >18+</td>\n",
       "    </tr>\n",
       "    <tr>\n",
       "      <td id=\"T_6edd1_row5_col0\" class=\"data row5 col0\" >Geographical Coverage - Nations</td>\n",
       "      <td id=\"T_6edd1_row5_col1\" class=\"data row5 col1\" >England, Scotland, Wales</td>\n",
       "    </tr>\n",
       "    <tr>\n",
       "      <td id=\"T_6edd1_row6_col0\" class=\"data row6 col0\" >Geographical Coverage - Regions</td>\n",
       "      <td id=\"T_6edd1_row6_col1\" class=\"data row6 col1\" >Nationwide</td>\n",
       "    </tr>\n",
       "    <tr>\n",
       "      <td id=\"T_6edd1_row7_col0\" class=\"data row7 col0\" >Start Date</td>\n",
       "      <td id=\"T_6edd1_row7_col1\" class=\"data row7 col1\" >2004</td>\n",
       "    </tr>\n",
       "    <tr>\n",
       "      <td id=\"T_6edd1_row8_col0\" class=\"data row8 col0\" >Permitted Linkages</td>\n",
       "      <td id=\"T_6edd1_row8_col1\" class=\"data row8 col1\" >See  <a href=\"https://guidebook.ukllc.ac.uk/docs/lps/linkages/lps_linkages\" rel=\"noopener noreferrer\" target=\"_blank\">here</a></td>\n",
       "    </tr>\n",
       "    <tr>\n",
       "      <td id=\"T_6edd1_row9_col0\" class=\"data row9 col0\" >Inclusion in Linkages</td>\n",
       "      <td id=\"T_6edd1_row9_col1\" class=\"data row9 col1\" >Consent</td>\n",
       "    </tr>\n",
       "    <tr>\n",
       "      <td id=\"T_6edd1_row10_col0\" class=\"data row10 col0\" >Cohort Profile</td>\n",
       "      <td id=\"T_6edd1_row10_col1\" class=\"data row10 col1\" > <a href=\"https://doi.org/10.1016/j.envres.2014.07.025\" rel=\"noopener noreferrer\" target=\"_blank\">10.1016/j.envres.2014.07.025</a></td>\n",
       "    </tr>\n",
       "    <tr>\n",
       "      <td id=\"T_6edd1_row11_col0\" class=\"data row11 col0\" >LPS Homepage</td>\n",
       "      <td id=\"T_6edd1_row11_col1\" class=\"data row11 col1\" ><p><a href=\"https://police-health.org.uk/\">police-health.org.uk</a></p></td>\n",
       "    </tr>\n",
       "    <tr>\n",
       "      <td id=\"T_6edd1_row12_col0\" class=\"data row12 col0\" >Build a Data Request</td>\n",
       "      <td id=\"T_6edd1_row12_col1\" class=\"data row12 col1\" > <a href=\"https://explore.ukllc.ac.uk/\" rel=\"noopener noreferrer\" target=\"_blank\">https://explore.ukllc.ac.uk/</a></td>\n",
       "    </tr>\n",
       "  </tbody>\n",
       "</table>\n"
      ],
      "text/plain": [
       "<pandas.io.formats.style.Styler at 0x26c124056a0>"
      ]
     },
     "execution_count": 3,
     "metadata": {},
     "output_type": "execute_result"
    }
   ],
   "source": [
    "ss.info_table()"
   ]
  },
  {
   "cell_type": "markdown",
   "id": "12171ceb",
   "metadata": {},
   "source": [
    "## 2. Permitted Linkages"
   ]
  },
  {
   "cell_type": "code",
   "execution_count": 4,
   "id": "7dbd10a7",
   "metadata": {
    "tags": [
     "remove-input"
    ]
   },
   "outputs": [
    {
     "ename": "IndexError",
     "evalue": "single positional indexer is out-of-bounds",
     "output_type": "error",
     "traceback": [
      "\u001b[31m---------------------------------------------------------------------------\u001b[39m",
      "\u001b[31mIndexError\u001b[39m                                Traceback (most recent call last)",
      "\u001b[36mCell\u001b[39m\u001b[36m \u001b[39m\u001b[32mIn[4]\u001b[39m\u001b[32m, line 1\u001b[39m\n\u001b[32m----> \u001b[39m\u001b[32m1\u001b[39m \u001b[43mss\u001b[49m\u001b[43m.\u001b[49m\u001b[43mlinkages_plot\u001b[49m\u001b[43m(\u001b[49m\u001b[43m)\u001b[49m\n",
      "\u001b[36mFile \u001b[39m\u001b[32mc:\\Users\\sn9395\\GitHub\\Guidebook---KE-edits\\ukllc_book\\docs\\scripts\\data_doc_helper.py:668\u001b[39m, in \u001b[36mLPSSource.linkages_plot\u001b[39m\u001b[34m(self)\u001b[39m\n\u001b[32m    665\u001b[39m dff = dff[(dff[\u001b[33m\"\u001b[39m\u001b[33mLPS\u001b[39m\u001b[33m\"\u001b[39m] == \u001b[38;5;28mself\u001b[39m.source) & (dff[\u001b[33m\"\u001b[39m\u001b[33mfrz_num\u001b[39m\u001b[33m\"\u001b[39m] == dff[\u001b[33m\"\u001b[39m\u001b[33mfrz_num\u001b[39m\u001b[33m\"\u001b[39m].max())]\n\u001b[32m    667\u001b[39m lx = [\u001b[33m\"\u001b[39m\u001b[33mNHS England\u001b[39m\u001b[33m\"\u001b[39m, \u001b[33m\"\u001b[39m\u001b[33mNHS Wales\u001b[39m\u001b[33m\"\u001b[39m, \u001b[33m\"\u001b[39m\u001b[33mNHS Scotland\u001b[39m\u001b[33m\"\u001b[39m, \u001b[33m\"\u001b[39m\u001b[33mNeighbourhood Geographies\u001b[39m\u001b[33m\"\u001b[39m, \u001b[33m\"\u001b[39m\u001b[33mAddress Geographies\u001b[39m\u001b[33m\"\u001b[39m, \u001b[33m\"\u001b[39m\u001b[33mDfE\u001b[39m\u001b[33m\"\u001b[39m, \u001b[33m\"\u001b[39m\u001b[33mDWP\u001b[39m\u001b[33m\"\u001b[39m, \u001b[33m\"\u001b[39m\u001b[33mHMRC\u001b[39m\u001b[33m\"\u001b[39m]\n\u001b[32m--> \u001b[39m\u001b[32m668\u001b[39m ly = [\u001b[43mdff\u001b[49m\u001b[43m.\u001b[49m\u001b[43miloc\u001b[49m\u001b[43m[\u001b[49m\u001b[32;43m0\u001b[39;49m\u001b[43m]\u001b[49m[\u001b[33m\"\u001b[39m\u001b[33mn_l_tot\u001b[39m\u001b[33m\"\u001b[39m], \u001b[32m0\u001b[39m, \u001b[32m0\u001b[39m, \u001b[32m0\u001b[39m, \u001b[32m0\u001b[39m, \u001b[32m0\u001b[39m, \u001b[32m0\u001b[39m, \u001b[32m0\u001b[39m]\n\u001b[32m    670\u001b[39m output_notebook(hide_banner=\u001b[38;5;28;01mTrue\u001b[39;00m)\n\u001b[32m    671\u001b[39m p = figure(x_range=lx, width=\u001b[32m600\u001b[39m, height=\u001b[32m400\u001b[39m, title=\u001b[33m\"\u001b[39m\u001b[33mLinkage of \u001b[39m\u001b[38;5;132;01m{}\u001b[39;00m\u001b[33m participants to linked Datasets for Freeze \u001b[39m\u001b[38;5;132;01m{}\u001b[39;00m\u001b[33m\"\u001b[39m.format(\u001b[38;5;28mself\u001b[39m.source, dff[\u001b[33m\"\u001b[39m\u001b[33mfrz_num\u001b[39m\u001b[33m\"\u001b[39m].max()))\n",
      "\u001b[36mFile \u001b[39m\u001b[32mc:\\Users\\sn9395\\.conda\\envs\\jupbook\\Lib\\site-packages\\pandas\\core\\indexing.py:1191\u001b[39m, in \u001b[36m_LocationIndexer.__getitem__\u001b[39m\u001b[34m(self, key)\u001b[39m\n\u001b[32m   1189\u001b[39m maybe_callable = com.apply_if_callable(key, \u001b[38;5;28mself\u001b[39m.obj)\n\u001b[32m   1190\u001b[39m maybe_callable = \u001b[38;5;28mself\u001b[39m._check_deprecated_callable_usage(key, maybe_callable)\n\u001b[32m-> \u001b[39m\u001b[32m1191\u001b[39m \u001b[38;5;28;01mreturn\u001b[39;00m \u001b[38;5;28;43mself\u001b[39;49m\u001b[43m.\u001b[49m\u001b[43m_getitem_axis\u001b[49m\u001b[43m(\u001b[49m\u001b[43mmaybe_callable\u001b[49m\u001b[43m,\u001b[49m\u001b[43m \u001b[49m\u001b[43maxis\u001b[49m\u001b[43m=\u001b[49m\u001b[43maxis\u001b[49m\u001b[43m)\u001b[49m\n",
      "\u001b[36mFile \u001b[39m\u001b[32mc:\\Users\\sn9395\\.conda\\envs\\jupbook\\Lib\\site-packages\\pandas\\core\\indexing.py:1752\u001b[39m, in \u001b[36m_iLocIndexer._getitem_axis\u001b[39m\u001b[34m(self, key, axis)\u001b[39m\n\u001b[32m   1749\u001b[39m     \u001b[38;5;28;01mraise\u001b[39;00m \u001b[38;5;167;01mTypeError\u001b[39;00m(\u001b[33m\"\u001b[39m\u001b[33mCannot index by location index with a non-integer key\u001b[39m\u001b[33m\"\u001b[39m)\n\u001b[32m   1751\u001b[39m \u001b[38;5;66;03m# validate the location\u001b[39;00m\n\u001b[32m-> \u001b[39m\u001b[32m1752\u001b[39m \u001b[38;5;28;43mself\u001b[39;49m\u001b[43m.\u001b[49m\u001b[43m_validate_integer\u001b[49m\u001b[43m(\u001b[49m\u001b[43mkey\u001b[49m\u001b[43m,\u001b[49m\u001b[43m \u001b[49m\u001b[43maxis\u001b[49m\u001b[43m)\u001b[49m\n\u001b[32m   1754\u001b[39m \u001b[38;5;28;01mreturn\u001b[39;00m \u001b[38;5;28mself\u001b[39m.obj._ixs(key, axis=axis)\n",
      "\u001b[36mFile \u001b[39m\u001b[32mc:\\Users\\sn9395\\.conda\\envs\\jupbook\\Lib\\site-packages\\pandas\\core\\indexing.py:1685\u001b[39m, in \u001b[36m_iLocIndexer._validate_integer\u001b[39m\u001b[34m(self, key, axis)\u001b[39m\n\u001b[32m   1683\u001b[39m len_axis = \u001b[38;5;28mlen\u001b[39m(\u001b[38;5;28mself\u001b[39m.obj._get_axis(axis))\n\u001b[32m   1684\u001b[39m \u001b[38;5;28;01mif\u001b[39;00m key >= len_axis \u001b[38;5;129;01mor\u001b[39;00m key < -len_axis:\n\u001b[32m-> \u001b[39m\u001b[32m1685\u001b[39m     \u001b[38;5;28;01mraise\u001b[39;00m \u001b[38;5;167;01mIndexError\u001b[39;00m(\u001b[33m\"\u001b[39m\u001b[33msingle positional indexer is out-of-bounds\u001b[39m\u001b[33m\"\u001b[39m)\n",
      "\u001b[31mIndexError\u001b[39m: single positional indexer is out-of-bounds"
     ]
    }
   ],
   "source": [
    "ss.linkages_plot()"
   ]
  },
  {
   "cell_type": "markdown",
   "id": "a7f6237c",
   "metadata": {},
   "source": [
    "## 3. Change Log"
   ]
  },
  {
   "cell_type": "code",
   "execution_count": null,
   "id": "bcd13a65",
   "metadata": {
    "tags": [
     "remove-input"
    ]
   },
   "outputs": [],
   "source": [
    "ss.change_log()"
   ]
  },
  {
   "cell_type": "markdown",
   "id": "2fa5fb48",
   "metadata": {},
   "source": [
    "## 4. Documentation"
   ]
  },
  {
   "cell_type": "code",
   "execution_count": null,
   "id": "79222d60",
   "metadata": {
    "tags": [
     "remove-input"
    ]
   },
   "outputs": [],
   "source": [
    "ss.documentation()"
   ]
  }
 ],
 "metadata": {
  "kernelspec": {
   "display_name": "jupbook",
   "language": "python",
   "name": "python3"
  },
  "language_info": {
   "codemirror_mode": {
    "name": "ipython",
    "version": 3
   },
   "file_extension": ".py",
   "mimetype": "text/x-python",
   "name": "python",
   "nbconvert_exporter": "python",
   "pygments_lexer": "ipython3",
   "version": "3.13.2"
  }
 },
 "nbformat": 4,
 "nbformat_minor": 5
}
