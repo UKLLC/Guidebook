{
 "cells": [
  {
   "cell_type": "markdown",
   "id": "2029b374",
   "metadata": {},
   "source": [
    "# Avon Longitudinal Study of Parents & Children (ALSPAC) (ALSPAC)"
   ]
  },
  {
   "cell_type": "markdown",
   "id": "5fef9472",
   "metadata": {},
   "source": [
    "## 1. Summary"
   ]
  },
  {
   "cell_type": "markdown",
   "id": "827d1bb6",
   "metadata": {},
   "source": [
    "The Avon Longitudinal Study of Parents & Children (ALSPAC) is a multi-generational, population-based prospective birth cohort study. Established in the early 90s, ALSPAC follows the lives of over 14,500 people born between April 1991 and December 1992 and their family members. Children and their families have been followed intensively, primarily with annual questionnaires, as well as clinical assessments for a sub-sample of cohort members. ALSPAC was specifically designed to understand the ways in which genetic and environmental factors interact to influence health, behaviour, and development across the lifespan. \n",
    "\n",
    "The ALSPAC study has collected data using a range of methods. Mental health measures collected in postal questionnaires and from clinic assessments are detailed on the Catalogue. "
   ]
  },
  {
   "cell_type": "code",
   "execution_count": null,
   "id": "94acb99b",
   "metadata": {
    "tags": [
     "remove-input"
    ]
   },
   "outputs": [],
   "source": [
    "\n",
    "    import sys\n",
    "    import nbformat as nbf\n",
    "    import os\n",
    "    import requests\n",
    "    import json\n",
    "    import pandas as pd\n",
    "    import markdown\n",
    "    sys.path.append(os.path.abspath('../../scripts/'))\n",
    "    import mdapi_functions as md\n",
    "    from data_doc_helper import DocHelper as dh\n",
    "    from io import StringIO\n",
    "    API_KEY = os.environ['FASTAPI_KEY']\n",
    "\n",
    "    ss_df = md.get_md_api_ss()\n",
    "    lps_ss = ss_df[~ss_df[\"source\"].isin([\"GEO\", \"NHSE\", \"RETURNED\"])]\n",
    "    ss_df_i = lps_ss[lps_ss[\"source\"] == \"ALSPAC\"]\n",
    "\n",
    "    doi = \"10.83126/ukllc-series-00001-01\"\n",
    "    cite = json.loads(requests.get(\n",
    "            \"https://api.test.datacite.org/dois/\" + doi,\n",
    "    ).text)['data']['attributes']\n",
    "\n",
    "    citeprocjson = \"https://api.datacite.org/application/vnd.citationstyles.csl+json/\"\n",
    "    bibtex = \"https://api.datacite.org/application/x-bibtex/\"\n",
    "    ris = \"https://api.datacite.org/application/x-research-info-systems/\"\n",
    "\n",
    "    doi2 = \"10.5255/ukda-series-2000031\"\n",
    "\n",
    "    apa_cite = cite['creators'][0][\"name\"] +             \". (\" + str(cite[\"publicationYear\"]) + \"). <i>\" +             cite[\"titles\"][0][\"title\"] +             \".</i> \" +             cite[\"publisher\"] +             \". \" + md.make_hlink(\"https://doi.org/\" + doi, \"https://doi.org/10.83126/ukllc-series-00001\")\n",
    "\n",
    "    dl_cites = md.make_hlink(citeprocjson + doi2, \"Citeproc JSON\") + \"&nbsp;&nbsp;&nbsp;&nbsp;\" +             md.make_hlink(bibtex + doi2, \"BibTeX\") + \"&nbsp;&nbsp;&nbsp;&nbsp;\" + md.make_hlink(ris + doi2, \"RIS\")\n",
    "\n",
    "    chrt_doi = \"10.1016/j.envres.2014.07.025\"\n",
    "\n",
    "    ss_info_list = [\n",
    "        [\n",
    "            \"Citation (APA)\",\n",
    "            \"Download Citation\",\n",
    "            \"Owner\",\n",
    "            \"Cohort\",\n",
    "            \"Age at Recruitment\",\n",
    "            \"Geographical Coverage - Nations\",\n",
    "            \"Geographical Coverage - Regions\",\n",
    "            \"Start Date\",\n",
    "            \"Permitted Linkages\",\n",
    "            \"Inclusion in Linkages\",\n",
    "            \"Cohort Profile\",\n",
    "            \"LPS Homepage\",\n",
    "            \"Build a Data Request\"\n",
    "        ],\n",
    "        [\n",
    "            apa_cite,\n",
    "            dl_cites,\n",
    "            ss_df_i.iloc[0][\"Owner\"],\n",
    "            ss_df_i.iloc[0][\"sample_size_at_recruitment\"],\n",
    "            ss_df_i.iloc[0][\"age_at_recruitment\"],\n",
    "            ss_df_i.iloc[0][\"geographic_coverage_Nations\"],\n",
    "            ss_df_i.iloc[0][\"geographic_coverage_Regions\"],\n",
    "            ss_df_i.iloc[0][\"start_date\"],\n",
    "            \"See \" + md.make_hlink(\"https://guidebook.ukllc.ac.uk/docs/lps/linkages/lps_linkages\",\"here\"),\n",
    "            ss_df_i.iloc[0][\"participant_pathway\"],\n",
    "            md.make_hlink(\"https://doi.org/\" + chrt_doi, chrt_doi),\n",
    "            markdown.markdown(ss_df.iloc[0][\"Website\"]),\n",
    "            md.make_hlink(\"https://explore.ukllc.ac.uk/\",\"https://explore.ukllc.ac.uk/\")\n",
    "        ]\n",
    "        ]\n",
    "\n",
    "    df_ss_info = pd.DataFrame(ss_info_list, index=[\"Series Descriptor\", \"Series-specific Information\"]).T\n",
    "    df_ss_info = dh.style_table(\"_\", df_ss_info)\n",
    "    df_ss_info  \n",
    "    "
   ]
  }
 ],
 "metadata": {},
 "nbformat": 4,
 "nbformat_minor": 5
}
