{
 "cells": [
  {
   "cell_type": "markdown",
   "id": "17d267da",
   "metadata": {},
   "source": [
    "# Avon Longitudinal Study of Parents & Children (ALSPAC) (ALSPAC)"
   ]
  },
  {
   "cell_type": "code",
   "execution_count": null,
   "id": "c92d60bf",
   "metadata": {
    "tags": [
     "remove-cell"
    ]
   },
   "outputs": [],
   "source": [
    "\n",
    "import sys\n",
    "import os\n",
    "sys.path.append(os.path.abspath('../../scripts/'))\n",
    "from data_doc_helper import LPSSource as SS\n",
    "ss = SS(\"ALSPAC\")\n"
   ]
  },
  {
   "cell_type": "markdown",
   "id": "0f3bbe5b",
   "metadata": {},
   "source": [
    "## 1. Summary"
   ]
  },
  {
   "cell_type": "code",
   "execution_count": null,
   "id": "c66fbc54",
   "metadata": {
    "tags": [
     "remove-input"
    ]
   },
   "outputs": [],
   "source": [
    "ss.summary()"
   ]
  },
  {
   "cell_type": "code",
   "execution_count": null,
   "id": "90f14fc2",
   "metadata": {
    "tags": [
     "remove-input"
    ]
   },
   "outputs": [],
   "source": [
    "ss.info_table()"
   ]
  },
  {
   "cell_type": "markdown",
   "id": "e5b2c04c",
   "metadata": {},
   "source": [
    "## 2. Permitted Linkages"
   ]
  },
  {
   "cell_type": "code",
   "execution_count": null,
   "id": "14d8f3fd",
   "metadata": {
    "tags": [
     "remove-input"
    ]
   },
   "outputs": [],
   "source": [
    "ss.linkages_plot()"
   ]
  },
  {
   "cell_type": "markdown",
   "id": "7ebf4514",
   "metadata": {},
   "source": [
    "## 3. Change Log"
   ]
  },
  {
   "cell_type": "code",
   "execution_count": null,
   "id": "3dc8a359",
   "metadata": {
    "tags": [
     "remove-input"
    ]
   },
   "outputs": [],
   "source": [
    "ss.change_log()"
   ]
  },
  {
   "cell_type": "markdown",
   "id": "1199134a",
   "metadata": {},
   "source": [
    "## 4. Documentation"
   ]
  },
  {
   "cell_type": "code",
   "execution_count": null,
   "id": "7c4b2e35",
   "metadata": {
    "tags": [
     "remove-input"
    ]
   },
   "outputs": [],
   "source": [
    "ss.documentation()"
   ]
  },
  {
   "cell_type": "markdown",
   "id": "366f6ba1",
   "metadata": {},
   "source": [
    "## 5. Datasets"
   ]
  },
  {
   "cell_type": "code",
   "execution_count": null,
   "id": "15dd0ca4",
   "metadata": {
    "tags": [
     "remove-input",
     "hide-output"
    ]
   },
   "outputs": [],
   "source": [
    "ss.datasets()"
   ]
  }
 ],
 "metadata": {},
 "nbformat": 4,
 "nbformat_minor": 5
}
