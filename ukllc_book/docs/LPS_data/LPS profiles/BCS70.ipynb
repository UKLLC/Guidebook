{
 "cells": [
  {
   "cell_type": "markdown",
   "id": "0fef7b67",
   "metadata": {},
   "source": [
    "# 1970 British Cohort Study (BCS70) (BCS70)"
   ]
  },
  {
   "cell_type": "code",
   "execution_count": 1,
   "id": "67dc02df",
   "metadata": {
    "tags": [
     "remove-input"
    ]
   },
   "outputs": [
    {
     "data": {
      "text/markdown": [
       ">Last modified: 05 Jun 2025"
      ],
      "text/plain": [
       "<IPython.core.display.Markdown object>"
      ]
     },
     "metadata": {},
     "output_type": "display_data"
    }
   ],
   "source": [
    "import sys\n",
    "import os\n",
    "sys.path.append(os.path.abspath('../../scripts/'))\n",
    "from data_doc_helper import LPSSource as SS, last_modified\n",
    "ss = SS(\"BCS70\")\n",
    "last_modified()"
   ]
  },
  {
   "cell_type": "markdown",
   "id": "b36435ba",
   "metadata": {},
   "source": [
    "## 1. Summary"
   ]
  },
  {
   "cell_type": "code",
   "execution_count": 2,
   "id": "9fa31f80",
   "metadata": {
    "tags": [
     "remove-input"
    ]
   },
   "outputs": [
    {
     "data": {
      "text/markdown": [
       "The 1970 British Cohort Study (BCS70) is a multidisciplinary national longitudinal birth cohort study. Original aims were to examine the social and biological characteristics of the mother in relation to neonatal morbidity, and to compare the results with the 1958 National Child Development Study (NCDS). With each successive sweep, the scope of the enquiry has broadened from a strictly medical focus at birth, to encompass physical, educational, social and economic development."
      ],
      "text/plain": [
       "<IPython.core.display.Markdown object>"
      ]
     },
     "metadata": {},
     "output_type": "display_data"
    }
   ],
   "source": [
    "ss.summary()"
   ]
  },
  {
   "cell_type": "code",
   "execution_count": 3,
   "id": "a7c0c810",
   "metadata": {
    "tags": [
     "remove-input"
    ]
   },
   "outputs": [
    {
     "data": {
      "text/html": [
       "<style type=\"text/css\">\n",
       "#T_a98c7 th {\n",
       "  text-align: left;\n",
       "}\n",
       "#T_a98c7_row0_col0, #T_a98c7_row0_col1, #T_a98c7_row1_col0, #T_a98c7_row1_col1, #T_a98c7_row2_col0, #T_a98c7_row2_col1, #T_a98c7_row3_col0, #T_a98c7_row3_col1, #T_a98c7_row4_col0, #T_a98c7_row4_col1, #T_a98c7_row5_col0, #T_a98c7_row5_col1, #T_a98c7_row6_col0, #T_a98c7_row6_col1, #T_a98c7_row7_col0, #T_a98c7_row7_col1, #T_a98c7_row8_col0, #T_a98c7_row8_col1, #T_a98c7_row9_col0, #T_a98c7_row9_col1, #T_a98c7_row10_col0, #T_a98c7_row10_col1, #T_a98c7_row11_col0, #T_a98c7_row11_col1, #T_a98c7_row12_col0, #T_a98c7_row12_col1 {\n",
       "  text-align: left;\n",
       "}\n",
       "</style>\n",
       "<table id=\"T_a98c7\" style=\"font-size: 14px\">\n",
       "  <thead>\n",
       "    <tr>\n",
       "      <th id=\"T_a98c7_level0_col0\" class=\"col_heading level0 col0\" >Series Descriptor</th>\n",
       "      <th id=\"T_a98c7_level0_col1\" class=\"col_heading level0 col1\" >Series-specific Information</th>\n",
       "    </tr>\n",
       "  </thead>\n",
       "  <tbody>\n",
       "    <tr>\n",
       "      <td id=\"T_a98c7_row0_col0\" class=\"data row0 col0\" >Citation (APA)</td>\n",
       "      <td id=\"T_a98c7_row0_col1\" class=\"data row0 col1\" >DOI and Citation TBC</td>\n",
       "    </tr>\n",
       "    <tr>\n",
       "      <td id=\"T_a98c7_row1_col0\" class=\"data row1 col0\" >Download Citation</td>\n",
       "      <td id=\"T_a98c7_row1_col1\" class=\"data row1 col1\" >DOI and Citation Downloads TBC</td>\n",
       "    </tr>\n",
       "    <tr>\n",
       "      <td id=\"T_a98c7_row2_col0\" class=\"data row2 col0\" >Owner</td>\n",
       "      <td id=\"T_a98c7_row2_col1\" class=\"data row2 col1\" >UCL</td>\n",
       "    </tr>\n",
       "    <tr>\n",
       "      <td id=\"T_a98c7_row3_col0\" class=\"data row3 col0\" >Cohort</td>\n",
       "      <td id=\"T_a98c7_row3_col1\" class=\"data row3 col1\" >17,198 births</td>\n",
       "    </tr>\n",
       "    <tr>\n",
       "      <td id=\"T_a98c7_row4_col0\" class=\"data row4 col0\" >Age at Recruitment</td>\n",
       "      <td id=\"T_a98c7_row4_col1\" class=\"data row4 col1\" >Birth</td>\n",
       "    </tr>\n",
       "    <tr>\n",
       "      <td id=\"T_a98c7_row5_col0\" class=\"data row5 col0\" >Geographical Coverage - Nations</td>\n",
       "      <td id=\"T_a98c7_row5_col1\" class=\"data row5 col1\" >England, Scotland, Wales</td>\n",
       "    </tr>\n",
       "    <tr>\n",
       "      <td id=\"T_a98c7_row6_col0\" class=\"data row6 col0\" >Geographical Coverage - Regions</td>\n",
       "      <td id=\"T_a98c7_row6_col1\" class=\"data row6 col1\" >Nationwide</td>\n",
       "    </tr>\n",
       "    <tr>\n",
       "      <td id=\"T_a98c7_row7_col0\" class=\"data row7 col0\" >Start Date</td>\n",
       "      <td id=\"T_a98c7_row7_col1\" class=\"data row7 col1\" >1970</td>\n",
       "    </tr>\n",
       "    <tr>\n",
       "      <td id=\"T_a98c7_row8_col0\" class=\"data row8 col0\" >Permitted Linkages</td>\n",
       "      <td id=\"T_a98c7_row8_col1\" class=\"data row8 col1\" >See  <a href=\"https://guidebook.ukllc.ac.uk/docs/lps/linkages/lps_linkages\" rel=\"noopener noreferrer\" target=\"_blank\">here</a></td>\n",
       "    </tr>\n",
       "    <tr>\n",
       "      <td id=\"T_a98c7_row9_col0\" class=\"data row9 col0\" >Inclusion in Linkages</td>\n",
       "      <td id=\"T_a98c7_row9_col1\" class=\"data row9 col1\" >Consent</td>\n",
       "    </tr>\n",
       "    <tr>\n",
       "      <td id=\"T_a98c7_row10_col0\" class=\"data row10 col0\" >Cohort Profile</td>\n",
       "      <td id=\"T_a98c7_row10_col1\" class=\"data row10 col1\" > <a href=\"https://doi.org/10.1093/ije/dyac148\" rel=\"noopener noreferrer\" target=\"_blank\">10.1093/ije/dyac148</a></td>\n",
       "    </tr>\n",
       "    <tr>\n",
       "      <td id=\"T_a98c7_row11_col0\" class=\"data row11 col0\" >LPS Homepage</td>\n",
       "      <td id=\"T_a98c7_row11_col1\" class=\"data row11 col1\" ><p><a href=\"https://cls.ucl.ac.uk/cls-studies/1970-british-cohort-study/\">cls.ucl.ac.uk</a></p></td>\n",
       "    </tr>\n",
       "    <tr>\n",
       "      <td id=\"T_a98c7_row12_col0\" class=\"data row12 col0\" >Build a Data Request</td>\n",
       "      <td id=\"T_a98c7_row12_col1\" class=\"data row12 col1\" > <a href=\"https://explore.ukllc.ac.uk/\" rel=\"noopener noreferrer\" target=\"_blank\">https://explore.ukllc.ac.uk/</a></td>\n",
       "    </tr>\n",
       "  </tbody>\n",
       "</table>\n"
      ],
      "text/plain": [
       "<pandas.io.formats.style.Styler at 0x1bb17ff56a0>"
      ]
     },
     "execution_count": 3,
     "metadata": {},
     "output_type": "execute_result"
    }
   ],
   "source": [
    "ss.info_table()"
   ]
  },
  {
   "cell_type": "markdown",
   "id": "ea9e611e",
   "metadata": {},
   "source": [
    "## 2. Permitted Linkages"
   ]
  },
  {
   "cell_type": "code",
   "execution_count": 4,
   "id": "2f333fde",
   "metadata": {
    "tags": [
     "remove-input"
    ]
   },
   "outputs": [
    {
     "data": {
      "application/javascript": "'use strict';\n(function(root) {\n  function now() {\n    return new Date();\n  }\n\n  const force = true;\n\n  if (typeof root._bokeh_onload_callbacks === \"undefined\" || force === true) {\n    root._bokeh_onload_callbacks = [];\n    root._bokeh_is_loading = undefined;\n  }\n\nconst JS_MIME_TYPE = 'application/javascript';\n  const HTML_MIME_TYPE = 'text/html';\n  const EXEC_MIME_TYPE = 'application/vnd.bokehjs_exec.v0+json';\n  const CLASS_NAME = 'output_bokeh rendered_html';\n\n  /**\n   * Render data to the DOM node\n   */\n  function render(props, node) {\n    const script = document.createElement(\"script\");\n    node.appendChild(script);\n  }\n\n  /**\n   * Handle when an output is cleared or removed\n   */\n  function handleClearOutput(event, handle) {\n    function drop(id) {\n      const view = Bokeh.index.get_by_id(id)\n      if (view != null) {\n        view.model.document.clear()\n        Bokeh.index.delete(view)\n      }\n    }\n\n    const cell = handle.cell;\n\n    const id = cell.output_area._bokeh_element_id;\n    const server_id = cell.output_area._bokeh_server_id;\n\n    // Clean up Bokeh references\n    if (id != null) {\n      drop(id)\n    }\n\n    if (server_id !== undefined) {\n      // Clean up Bokeh references\n      const cmd_clean = \"from bokeh.io.state import curstate; print(curstate().uuid_to_server['\" + server_id + \"'].get_sessions()[0].document.roots[0]._id)\";\n      cell.notebook.kernel.execute(cmd_clean, {\n        iopub: {\n          output: function(msg) {\n            const id = msg.content.text.trim()\n            drop(id)\n          }\n        }\n      });\n      // Destroy server and session\n      const cmd_destroy = \"import bokeh.io.notebook as ion; ion.destroy_server('\" + server_id + \"')\";\n      cell.notebook.kernel.execute(cmd_destroy);\n    }\n  }\n\n  /**\n   * Handle when a new output is added\n   */\n  function handleAddOutput(event, handle) {\n    const output_area = handle.output_area;\n    const output = handle.output;\n\n    // limit handleAddOutput to display_data with EXEC_MIME_TYPE content only\n    if ((output.output_type != \"display_data\") || (!Object.prototype.hasOwnProperty.call(output.data, EXEC_MIME_TYPE))) {\n      return\n    }\n\n    const toinsert = output_area.element.find(\".\" + CLASS_NAME.split(' ')[0]);\n\n    if (output.metadata[EXEC_MIME_TYPE][\"id\"] !== undefined) {\n      toinsert[toinsert.length - 1].firstChild.textContent = output.data[JS_MIME_TYPE];\n      // store reference to embed id on output_area\n      output_area._bokeh_element_id = output.metadata[EXEC_MIME_TYPE][\"id\"];\n    }\n    if (output.metadata[EXEC_MIME_TYPE][\"server_id\"] !== undefined) {\n      const bk_div = document.createElement(\"div\");\n      bk_div.innerHTML = output.data[HTML_MIME_TYPE];\n      const script_attrs = bk_div.children[0].attributes;\n      for (let i = 0; i < script_attrs.length; i++) {\n        toinsert[toinsert.length - 1].firstChild.setAttribute(script_attrs[i].name, script_attrs[i].value);\n        toinsert[toinsert.length - 1].firstChild.textContent = bk_div.children[0].textContent\n      }\n      // store reference to server id on output_area\n      output_area._bokeh_server_id = output.metadata[EXEC_MIME_TYPE][\"server_id\"];\n    }\n  }\n\n  function register_renderer(events, OutputArea) {\n\n    function append_mime(data, metadata, element) {\n      // create a DOM node to render to\n      const toinsert = this.create_output_subarea(\n        metadata,\n        CLASS_NAME,\n        EXEC_MIME_TYPE\n      );\n      this.keyboard_manager.register_events(toinsert);\n      // Render to node\n      const props = {data: data, metadata: metadata[EXEC_MIME_TYPE]};\n      render(props, toinsert[toinsert.length - 1]);\n      element.append(toinsert);\n      return toinsert\n    }\n\n    /* Handle when an output is cleared or removed */\n    events.on('clear_output.CodeCell', handleClearOutput);\n    events.on('delete.Cell', handleClearOutput);\n\n    /* Handle when a new output is added */\n    events.on('output_added.OutputArea', handleAddOutput);\n\n    /**\n     * Register the mime type and append_mime function with output_area\n     */\n    OutputArea.prototype.register_mime_type(EXEC_MIME_TYPE, append_mime, {\n      /* Is output safe? */\n      safe: true,\n      /* Index of renderer in `output_area.display_order` */\n      index: 0\n    });\n  }\n\n  // register the mime type if in Jupyter Notebook environment and previously unregistered\n  if (root.Jupyter !== undefined) {\n    const events = require('base/js/events');\n    const OutputArea = require('notebook/js/outputarea').OutputArea;\n\n    if (OutputArea.prototype.mime_types().indexOf(EXEC_MIME_TYPE) == -1) {\n      register_renderer(events, OutputArea);\n    }\n  }\n  if (typeof (root._bokeh_timeout) === \"undefined\" || force === true) {\n    root._bokeh_timeout = Date.now() + 5000;\n    root._bokeh_failed_load = false;\n  }\n\n  const NB_LOAD_WARNING = {'data': {'text/html':\n     \"<div style='background-color: #fdd'>\\n\"+\n     \"<p>\\n\"+\n     \"BokehJS does not appear to have successfully loaded. If loading BokehJS from CDN, this \\n\"+\n     \"may be due to a slow or bad network connection. Possible fixes:\\n\"+\n     \"</p>\\n\"+\n     \"<ul>\\n\"+\n     \"<li>re-rerun `output_notebook()` to attempt to load from CDN again, or</li>\\n\"+\n     \"<li>use INLINE resources instead, as so:</li>\\n\"+\n     \"</ul>\\n\"+\n     \"<code>\\n\"+\n     \"from bokeh.resources import INLINE\\n\"+\n     \"output_notebook(resources=INLINE)\\n\"+\n     \"</code>\\n\"+\n     \"</div>\"}};\n\n  function display_loaded(error = null) {\n    const el = document.getElementById(null);\n    if (el != null) {\n      const html = (() => {\n        if (typeof root.Bokeh === \"undefined\") {\n          if (error == null) {\n            return \"BokehJS is loading ...\";\n          } else {\n            return \"BokehJS failed to load.\";\n          }\n        } else {\n          const prefix = `BokehJS ${root.Bokeh.version}`;\n          if (error == null) {\n            return `${prefix} successfully loaded.`;\n          } else {\n            return `${prefix} <b>encountered errors</b> while loading and may not function as expected.`;\n          }\n        }\n      })();\n      el.innerHTML = html;\n\n      if (error != null) {\n        const wrapper = document.createElement(\"div\");\n        wrapper.style.overflow = \"auto\";\n        wrapper.style.height = \"5em\";\n        wrapper.style.resize = \"vertical\";\n        const content = document.createElement(\"div\");\n        content.style.fontFamily = \"monospace\";\n        content.style.whiteSpace = \"pre-wrap\";\n        content.style.backgroundColor = \"rgb(255, 221, 221)\";\n        content.textContent = error.stack ?? error.toString();\n        wrapper.append(content);\n        el.append(wrapper);\n      }\n    } else if (Date.now() < root._bokeh_timeout) {\n      setTimeout(() => display_loaded(error), 100);\n    }\n  }\n\n  function run_callbacks() {\n    try {\n      root._bokeh_onload_callbacks.forEach(function(callback) {\n        if (callback != null)\n          callback();\n      });\n    } finally {\n      delete root._bokeh_onload_callbacks\n    }\n    console.debug(\"Bokeh: all callbacks have finished\");\n  }\n\n  function load_libs(css_urls, js_urls, callback) {\n    if (css_urls == null) css_urls = [];\n    if (js_urls == null) js_urls = [];\n\n    root._bokeh_onload_callbacks.push(callback);\n    if (root._bokeh_is_loading > 0) {\n      console.debug(\"Bokeh: BokehJS is being loaded, scheduling callback at\", now());\n      return null;\n    }\n    if (js_urls == null || js_urls.length === 0) {\n      run_callbacks();\n      return null;\n    }\n    console.debug(\"Bokeh: BokehJS not loaded, scheduling load and callback at\", now());\n    root._bokeh_is_loading = css_urls.length + js_urls.length;\n\n    function on_load() {\n      root._bokeh_is_loading--;\n      if (root._bokeh_is_loading === 0) {\n        console.debug(\"Bokeh: all BokehJS libraries/stylesheets loaded\");\n        run_callbacks()\n      }\n    }\n\n    function on_error(url) {\n      console.error(\"failed to load \" + url);\n    }\n\n    for (let i = 0; i < css_urls.length; i++) {\n      const url = css_urls[i];\n      const element = document.createElement(\"link\");\n      element.onload = on_load;\n      element.onerror = on_error.bind(null, url);\n      element.rel = \"stylesheet\";\n      element.type = \"text/css\";\n      element.href = url;\n      console.debug(\"Bokeh: injecting link tag for BokehJS stylesheet: \", url);\n      document.body.appendChild(element);\n    }\n\n    for (let i = 0; i < js_urls.length; i++) {\n      const url = js_urls[i];\n      const element = document.createElement('script');\n      element.onload = on_load;\n      element.onerror = on_error.bind(null, url);\n      element.async = false;\n      element.src = url;\n      console.debug(\"Bokeh: injecting script tag for BokehJS library: \", url);\n      document.head.appendChild(element);\n    }\n  };\n\n  function inject_raw_css(css) {\n    const element = document.createElement(\"style\");\n    element.appendChild(document.createTextNode(css));\n    document.body.appendChild(element);\n  }\n\n  const js_urls = [\"https://cdn.bokeh.org/bokeh/release/bokeh-3.7.2.min.js\", \"https://cdn.bokeh.org/bokeh/release/bokeh-gl-3.7.2.min.js\", \"https://cdn.bokeh.org/bokeh/release/bokeh-widgets-3.7.2.min.js\", \"https://cdn.bokeh.org/bokeh/release/bokeh-tables-3.7.2.min.js\", \"https://cdn.bokeh.org/bokeh/release/bokeh-mathjax-3.7.2.min.js\"];\n  const css_urls = [];\n\n  const inline_js = [    function(Bokeh) {\n      Bokeh.set_log_level(\"info\");\n    },\nfunction(Bokeh) {\n    }\n  ];\n\n  function run_inline_js() {\n    if (root.Bokeh !== undefined || force === true) {\n      try {\n            for (let i = 0; i < inline_js.length; i++) {\n      inline_js[i].call(root, root.Bokeh);\n    }\n\n      } catch (error) {throw error;\n      }} else if (Date.now() < root._bokeh_timeout) {\n      setTimeout(run_inline_js, 100);\n    } else if (!root._bokeh_failed_load) {\n      console.log(\"Bokeh: BokehJS failed to load within specified timeout.\");\n      root._bokeh_failed_load = true;\n    } else if (force !== true) {\n      const cell = $(document.getElementById(null)).parents('.cell').data().cell;\n      cell.output_area.append_execute_result(NB_LOAD_WARNING)\n    }\n  }\n\n  if (root._bokeh_is_loading === 0) {\n    console.debug(\"Bokeh: BokehJS loaded, going straight to plotting\");\n    run_inline_js();\n  } else {\n    load_libs(css_urls, js_urls, function() {\n      console.debug(\"Bokeh: BokehJS plotting callback run at\", now());\n      run_inline_js();\n    });\n  }\n}(window));",
      "application/vnd.bokehjs_load.v0+json": ""
     },
     "metadata": {},
     "output_type": "display_data"
    },
    {
     "data": {
      "text/html": [
       "\n",
       "  <div id=\"c6092d56-ee59-4dd6-97f8-840d530de481\" data-root-id=\"p1001\" style=\"display: contents;\"></div>\n"
      ]
     },
     "metadata": {},
     "output_type": "display_data"
    },
    {
     "data": {
      "application/javascript": "(function(root) {\n  function embed_document(root) {\n  const docs_json = {\"c10cc46f-94da-4e94-8e0a-09df91080b7a\":{\"version\":\"3.7.2\",\"title\":\"Bokeh Application\",\"roots\":[{\"type\":\"object\",\"name\":\"Figure\",\"id\":\"p1001\",\"attributes\":{\"height\":400,\"x_range\":{\"type\":\"object\",\"name\":\"FactorRange\",\"id\":\"p1011\",\"attributes\":{\"factors\":[\"NHS England\",\"NHS Wales\",\"Neighbourhood Geographies\",\"Address Geographies\"]}},\"y_range\":{\"type\":\"object\",\"name\":\"DataRange1d\",\"id\":\"p1003\",\"attributes\":{\"start\":0,\"end\":100}},\"x_scale\":{\"type\":\"object\",\"name\":\"CategoricalScale\",\"id\":\"p1012\"},\"y_scale\":{\"type\":\"object\",\"name\":\"LinearScale\",\"id\":\"p1013\"},\"title\":{\"type\":\"object\",\"name\":\"Title\",\"id\":\"p1004\",\"attributes\":{\"text\":\"Linkage rates (%) of BCS70 participants to linked Datasets for Freeze 11\"}},\"renderers\":[{\"type\":\"object\",\"name\":\"GlyphRenderer\",\"id\":\"p1046\",\"attributes\":{\"data_source\":{\"type\":\"object\",\"name\":\"ColumnDataSource\",\"id\":\"p1037\",\"attributes\":{\"selected\":{\"type\":\"object\",\"name\":\"Selection\",\"id\":\"p1038\",\"attributes\":{\"indices\":[],\"line_indices\":[]}},\"selection_policy\":{\"type\":\"object\",\"name\":\"UnionRenderers\",\"id\":\"p1039\"},\"data\":{\"type\":\"map\",\"entries\":[[\"link_series\",[\"NHS England\",\"NHS Wales\",\"Neighbourhood Geographies\",\"Address Geographies\"]],[\"link_pct\",[74.03176053924369,0,0,0]],[\"n_sent\",[8753,8753,8753,8753]],[\"n_linked\",[6480,0,0,0]]]}}},\"view\":{\"type\":\"object\",\"name\":\"CDSView\",\"id\":\"p1047\",\"attributes\":{\"filter\":{\"type\":\"object\",\"name\":\"AllIndices\",\"id\":\"p1048\"}}},\"glyph\":{\"type\":\"object\",\"name\":\"VBar\",\"id\":\"p1043\",\"attributes\":{\"x\":{\"type\":\"field\",\"field\":\"link_series\"},\"width\":{\"type\":\"value\",\"value\":0.8},\"top\":{\"type\":\"field\",\"field\":\"link_pct\"},\"line_color\":{\"type\":\"value\",\"value\":\"#1f77b4\"},\"fill_color\":{\"type\":\"value\",\"value\":\"#1f77b4\"}}},\"nonselection_glyph\":{\"type\":\"object\",\"name\":\"VBar\",\"id\":\"p1044\",\"attributes\":{\"x\":{\"type\":\"field\",\"field\":\"link_series\"},\"width\":{\"type\":\"value\",\"value\":0.8},\"top\":{\"type\":\"field\",\"field\":\"link_pct\"},\"line_color\":{\"type\":\"value\",\"value\":\"#1f77b4\"},\"line_alpha\":{\"type\":\"value\",\"value\":0.1},\"fill_color\":{\"type\":\"value\",\"value\":\"#1f77b4\"},\"fill_alpha\":{\"type\":\"value\",\"value\":0.1},\"hatch_alpha\":{\"type\":\"value\",\"value\":0.1}}},\"muted_glyph\":{\"type\":\"object\",\"name\":\"VBar\",\"id\":\"p1045\",\"attributes\":{\"x\":{\"type\":\"field\",\"field\":\"link_series\"},\"width\":{\"type\":\"value\",\"value\":0.8},\"top\":{\"type\":\"field\",\"field\":\"link_pct\"},\"line_color\":{\"type\":\"value\",\"value\":\"#1f77b4\"},\"line_alpha\":{\"type\":\"value\",\"value\":0.2},\"fill_color\":{\"type\":\"value\",\"value\":\"#1f77b4\"},\"fill_alpha\":{\"type\":\"value\",\"value\":0.2},\"hatch_alpha\":{\"type\":\"value\",\"value\":0.2}}}}}],\"toolbar\":{\"type\":\"object\",\"name\":\"Toolbar\",\"id\":\"p1010\",\"attributes\":{\"tools\":[{\"type\":\"object\",\"name\":\"PanTool\",\"id\":\"p1024\"},{\"type\":\"object\",\"name\":\"WheelZoomTool\",\"id\":\"p1025\",\"attributes\":{\"renderers\":\"auto\"}},{\"type\":\"object\",\"name\":\"BoxZoomTool\",\"id\":\"p1026\",\"attributes\":{\"dimensions\":\"both\",\"overlay\":{\"type\":\"object\",\"name\":\"BoxAnnotation\",\"id\":\"p1027\",\"attributes\":{\"syncable\":false,\"line_color\":\"black\",\"line_alpha\":1.0,\"line_width\":2,\"line_dash\":[4,4],\"fill_color\":\"lightgrey\",\"fill_alpha\":0.5,\"level\":\"overlay\",\"visible\":false,\"left\":{\"type\":\"number\",\"value\":\"nan\"},\"right\":{\"type\":\"number\",\"value\":\"nan\"},\"top\":{\"type\":\"number\",\"value\":\"nan\"},\"bottom\":{\"type\":\"number\",\"value\":\"nan\"},\"left_units\":\"canvas\",\"right_units\":\"canvas\",\"top_units\":\"canvas\",\"bottom_units\":\"canvas\",\"handles\":{\"type\":\"object\",\"name\":\"BoxInteractionHandles\",\"id\":\"p1033\",\"attributes\":{\"all\":{\"type\":\"object\",\"name\":\"AreaVisuals\",\"id\":\"p1032\",\"attributes\":{\"fill_color\":\"white\",\"hover_fill_color\":\"lightgray\"}}}}}}}},{\"type\":\"object\",\"name\":\"SaveTool\",\"id\":\"p1034\"},{\"type\":\"object\",\"name\":\"ResetTool\",\"id\":\"p1035\"},{\"type\":\"object\",\"name\":\"HelpTool\",\"id\":\"p1036\"},{\"type\":\"object\",\"name\":\"HoverTool\",\"id\":\"p1049\",\"attributes\":{\"renderers\":\"auto\",\"tooltips\":[[\"Linked Participants\",\"@n_linked\"],[\"Participants sent to UK LLC\",\"@n_sent\"]]}}]}},\"left\":[{\"type\":\"object\",\"name\":\"LinearAxis\",\"id\":\"p1019\",\"attributes\":{\"ticker\":{\"type\":\"object\",\"name\":\"BasicTicker\",\"id\":\"p1020\",\"attributes\":{\"mantissas\":[1,2,5]}},\"formatter\":{\"type\":\"object\",\"name\":\"BasicTickFormatter\",\"id\":\"p1021\"},\"major_label_policy\":{\"type\":\"object\",\"name\":\"AllLabels\",\"id\":\"p1022\"}}}],\"below\":[{\"type\":\"object\",\"name\":\"CategoricalAxis\",\"id\":\"p1014\",\"attributes\":{\"ticker\":{\"type\":\"object\",\"name\":\"CategoricalTicker\",\"id\":\"p1015\"},\"formatter\":{\"type\":\"object\",\"name\":\"CategoricalTickFormatter\",\"id\":\"p1016\"},\"major_label_orientation\":0.7853981633974483,\"major_label_policy\":{\"type\":\"object\",\"name\":\"AllLabels\",\"id\":\"p1017\"}}}],\"center\":[{\"type\":\"object\",\"name\":\"Grid\",\"id\":\"p1018\",\"attributes\":{\"axis\":{\"id\":\"p1014\"}}},{\"type\":\"object\",\"name\":\"Grid\",\"id\":\"p1023\",\"attributes\":{\"dimension\":1,\"axis\":{\"id\":\"p1019\"}}}]}}]}};\n  const render_items = [{\"docid\":\"c10cc46f-94da-4e94-8e0a-09df91080b7a\",\"roots\":{\"p1001\":\"c6092d56-ee59-4dd6-97f8-840d530de481\"},\"root_ids\":[\"p1001\"]}];\n  void root.Bokeh.embed.embed_items_notebook(docs_json, render_items);\n  }\n  if (root.Bokeh !== undefined) {\n    embed_document(root);\n  } else {\n    let attempts = 0;\n    const timer = setInterval(function(root) {\n      if (root.Bokeh !== undefined) {\n        clearInterval(timer);\n        embed_document(root);\n      } else {\n        attempts++;\n        if (attempts > 100) {\n          clearInterval(timer);\n          console.log(\"Bokeh: ERROR: Unable to run BokehJS code because BokehJS library is missing\");\n        }\n      }\n    }, 10, root)\n  }\n})(window);",
      "application/vnd.bokehjs_exec.v0+json": ""
     },
     "metadata": {
      "application/vnd.bokehjs_exec.v0+json": {
       "id": "p1001"
      }
     },
     "output_type": "display_data"
    }
   ],
   "source": [
    "ss.linkages_plot()"
   ]
  },
  {
   "cell_type": "markdown",
   "id": "3553734d",
   "metadata": {},
   "source": [
    "## 3. Change Log"
   ]
  },
  {
   "cell_type": "code",
   "execution_count": 5,
   "id": "45b558af",
   "metadata": {
    "tags": [
     "remove-input"
    ]
   },
   "outputs": [
    {
     "data": {
      "text/markdown": [
       "We are currently working on a change log which will show changes to the dataset's metadata."
      ],
      "text/plain": [
       "<IPython.core.display.Markdown object>"
      ]
     },
     "metadata": {},
     "output_type": "display_data"
    }
   ],
   "source": [
    "ss.change_log()"
   ]
  },
  {
   "cell_type": "markdown",
   "id": "096824f7",
   "metadata": {},
   "source": [
    "## 4. Documentation"
   ]
  },
  {
   "cell_type": "code",
   "execution_count": 6,
   "id": "daf4d117",
   "metadata": {
    "tags": [
     "remove-input"
    ]
   },
   "outputs": [
    {
     "data": {
      "text/markdown": [
       "We are currently building a documentation storage system which will host relevant and useful documents related to datasets, groupings, and studies themselves."
      ],
      "text/plain": [
       "<IPython.core.display.Markdown object>"
      ]
     },
     "metadata": {},
     "output_type": "display_data"
    }
   ],
   "source": [
    "ss.documentation()"
   ]
  },
  {
   "cell_type": "markdown",
   "id": "09a951c4",
   "metadata": {},
   "source": [
    "## 5. Datasets"
   ]
  },
  {
   "cell_type": "code",
   "execution_count": 7,
   "id": "91b56f51",
   "metadata": {
    "tags": [
     "remove-input",
     "hide-output"
    ]
   },
   "outputs": [
    {
     "data": {
      "text/html": [
       "<style type=\"text/css\">\n",
       "#T_b472d th {\n",
       "  text-align: left;\n",
       "}\n",
       "#T_b472d_row0_col0, #T_b472d_row0_col1, #T_b472d_row0_col2, #T_b472d_row0_col3, #T_b472d_row0_col4, #T_b472d_row1_col0, #T_b472d_row1_col1, #T_b472d_row1_col2, #T_b472d_row1_col3, #T_b472d_row1_col4, #T_b472d_row2_col0, #T_b472d_row2_col1, #T_b472d_row2_col2, #T_b472d_row2_col3, #T_b472d_row2_col4, #T_b472d_row3_col0, #T_b472d_row3_col1, #T_b472d_row3_col2, #T_b472d_row3_col3, #T_b472d_row3_col4, #T_b472d_row4_col0, #T_b472d_row4_col1, #T_b472d_row4_col2, #T_b472d_row4_col3, #T_b472d_row4_col4, #T_b472d_row5_col0, #T_b472d_row5_col1, #T_b472d_row5_col2, #T_b472d_row5_col3, #T_b472d_row5_col4, #T_b472d_row6_col0, #T_b472d_row6_col1, #T_b472d_row6_col2, #T_b472d_row6_col3, #T_b472d_row6_col4, #T_b472d_row7_col0, #T_b472d_row7_col1, #T_b472d_row7_col2, #T_b472d_row7_col3, #T_b472d_row7_col4, #T_b472d_row8_col0, #T_b472d_row8_col1, #T_b472d_row8_col2, #T_b472d_row8_col3, #T_b472d_row8_col4, #T_b472d_row9_col0, #T_b472d_row9_col1, #T_b472d_row9_col2, #T_b472d_row9_col3, #T_b472d_row9_col4, #T_b472d_row10_col0, #T_b472d_row10_col1, #T_b472d_row10_col2, #T_b472d_row10_col3, #T_b472d_row10_col4, #T_b472d_row11_col0, #T_b472d_row11_col1, #T_b472d_row11_col2, #T_b472d_row11_col3, #T_b472d_row11_col4, #T_b472d_row12_col0, #T_b472d_row12_col1, #T_b472d_row12_col2, #T_b472d_row12_col3, #T_b472d_row12_col4, #T_b472d_row13_col0, #T_b472d_row13_col1, #T_b472d_row13_col2, #T_b472d_row13_col3, #T_b472d_row13_col4, #T_b472d_row14_col0, #T_b472d_row14_col1, #T_b472d_row14_col2, #T_b472d_row14_col3, #T_b472d_row14_col4, #T_b472d_row15_col0, #T_b472d_row15_col1, #T_b472d_row15_col2, #T_b472d_row15_col3, #T_b472d_row15_col4, #T_b472d_row16_col0, #T_b472d_row16_col1, #T_b472d_row16_col2, #T_b472d_row16_col3, #T_b472d_row16_col4, #T_b472d_row17_col0, #T_b472d_row17_col1, #T_b472d_row17_col2, #T_b472d_row17_col3, #T_b472d_row17_col4, #T_b472d_row18_col0, #T_b472d_row18_col1, #T_b472d_row18_col2, #T_b472d_row18_col3, #T_b472d_row18_col4, #T_b472d_row19_col0, #T_b472d_row19_col1, #T_b472d_row19_col2, #T_b472d_row19_col3, #T_b472d_row19_col4, #T_b472d_row20_col0, #T_b472d_row20_col1, #T_b472d_row20_col2, #T_b472d_row20_col3, #T_b472d_row20_col4, #T_b472d_row21_col0, #T_b472d_row21_col1, #T_b472d_row21_col2, #T_b472d_row21_col3, #T_b472d_row21_col4, #T_b472d_row22_col0, #T_b472d_row22_col1, #T_b472d_row22_col2, #T_b472d_row22_col3, #T_b472d_row22_col4, #T_b472d_row23_col0, #T_b472d_row23_col1, #T_b472d_row23_col2, #T_b472d_row23_col3, #T_b472d_row23_col4, #T_b472d_row24_col0, #T_b472d_row24_col1, #T_b472d_row24_col2, #T_b472d_row24_col3, #T_b472d_row24_col4, #T_b472d_row25_col0, #T_b472d_row25_col1, #T_b472d_row25_col2, #T_b472d_row25_col3, #T_b472d_row25_col4, #T_b472d_row26_col0, #T_b472d_row26_col1, #T_b472d_row26_col2, #T_b472d_row26_col3, #T_b472d_row26_col4, #T_b472d_row27_col0, #T_b472d_row27_col1, #T_b472d_row27_col2, #T_b472d_row27_col3, #T_b472d_row27_col4, #T_b472d_row28_col0, #T_b472d_row28_col1, #T_b472d_row28_col2, #T_b472d_row28_col3, #T_b472d_row28_col4, #T_b472d_row29_col0, #T_b472d_row29_col1, #T_b472d_row29_col2, #T_b472d_row29_col3, #T_b472d_row29_col4, #T_b472d_row30_col0, #T_b472d_row30_col1, #T_b472d_row30_col2, #T_b472d_row30_col3, #T_b472d_row30_col4, #T_b472d_row31_col0, #T_b472d_row31_col1, #T_b472d_row31_col2, #T_b472d_row31_col3, #T_b472d_row31_col4, #T_b472d_row32_col0, #T_b472d_row32_col1, #T_b472d_row32_col2, #T_b472d_row32_col3, #T_b472d_row32_col4, #T_b472d_row33_col0, #T_b472d_row33_col1, #T_b472d_row33_col2, #T_b472d_row33_col3, #T_b472d_row33_col4, #T_b472d_row34_col0, #T_b472d_row34_col1, #T_b472d_row34_col2, #T_b472d_row34_col3, #T_b472d_row34_col4, #T_b472d_row35_col0, #T_b472d_row35_col1, #T_b472d_row35_col2, #T_b472d_row35_col3, #T_b472d_row35_col4, #T_b472d_row36_col0, #T_b472d_row36_col1, #T_b472d_row36_col2, #T_b472d_row36_col3, #T_b472d_row36_col4, #T_b472d_row37_col0, #T_b472d_row37_col1, #T_b472d_row37_col2, #T_b472d_row37_col3, #T_b472d_row37_col4, #T_b472d_row38_col0, #T_b472d_row38_col1, #T_b472d_row38_col2, #T_b472d_row38_col3, #T_b472d_row38_col4, #T_b472d_row39_col0, #T_b472d_row39_col1, #T_b472d_row39_col2, #T_b472d_row39_col3, #T_b472d_row39_col4, #T_b472d_row40_col0, #T_b472d_row40_col1, #T_b472d_row40_col2, #T_b472d_row40_col3, #T_b472d_row40_col4, #T_b472d_row41_col0, #T_b472d_row41_col1, #T_b472d_row41_col2, #T_b472d_row41_col3, #T_b472d_row41_col4, #T_b472d_row42_col0, #T_b472d_row42_col1, #T_b472d_row42_col2, #T_b472d_row42_col3, #T_b472d_row42_col4, #T_b472d_row43_col0, #T_b472d_row43_col1, #T_b472d_row43_col2, #T_b472d_row43_col3, #T_b472d_row43_col4, #T_b472d_row44_col0, #T_b472d_row44_col1, #T_b472d_row44_col2, #T_b472d_row44_col3, #T_b472d_row44_col4, #T_b472d_row45_col0, #T_b472d_row45_col1, #T_b472d_row45_col2, #T_b472d_row45_col3, #T_b472d_row45_col4, #T_b472d_row46_col0, #T_b472d_row46_col1, #T_b472d_row46_col2, #T_b472d_row46_col3, #T_b472d_row46_col4, #T_b472d_row47_col0, #T_b472d_row47_col1, #T_b472d_row47_col2, #T_b472d_row47_col3, #T_b472d_row47_col4, #T_b472d_row48_col0, #T_b472d_row48_col1, #T_b472d_row48_col2, #T_b472d_row48_col3, #T_b472d_row48_col4, #T_b472d_row49_col0, #T_b472d_row49_col1, #T_b472d_row49_col2, #T_b472d_row49_col3, #T_b472d_row49_col4, #T_b472d_row50_col0, #T_b472d_row50_col1, #T_b472d_row50_col2, #T_b472d_row50_col3, #T_b472d_row50_col4 {\n",
       "  text-align: left;\n",
       "}\n",
       "</style>\n",
       "<table id=\"T_b472d\" style=\"font-size: 14px\">\n",
       "  <thead>\n",
       "    <tr>\n",
       "      <th id=\"T_b472d_level0_col0\" class=\"col_heading level0 col0\" >Dataset</th>\n",
       "      <th id=\"T_b472d_level0_col1\" class=\"col_heading level0 col1\" >Dataset Name</th>\n",
       "      <th id=\"T_b472d_level0_col2\" class=\"col_heading level0 col2\" ># Participants</th>\n",
       "      <th id=\"T_b472d_level0_col3\" class=\"col_heading level0 col3\" ># Observations</th>\n",
       "      <th id=\"T_b472d_level0_col4\" class=\"col_heading level0 col4\" ># Variables</th>\n",
       "    </tr>\n",
       "  </thead>\n",
       "  <tbody>\n",
       "    <tr>\n",
       "      <td id=\"T_b472d_row0_col0\" class=\"data row0 col0\" > <a href=\"https://guidebook.ukllc.ac.uk/docs/LPS_data/Datasets/BCS70/Datasets/bcs7_parent_and_child.html\" rel=\"noopener noreferrer\" target=\"_blank\">bcs7_parent_and_child</a></td>\n",
       "      <td id=\"T_b472d_row0_col1\" class=\"data row0 col1\" >Parent and Child interview</td>\n",
       "      <td id=\"T_b472d_row0_col2\" class=\"data row0 col2\" >2002</td>\n",
       "      <td id=\"T_b472d_row0_col3\" class=\"data row0 col3\" >5207</td>\n",
       "      <td id=\"T_b472d_row0_col4\" class=\"data row0 col4\" >220</td>\n",
       "    </tr>\n",
       "    <tr>\n",
       "      <td id=\"T_b472d_row1_col0\" class=\"data row1 col0\" > <a href=\"https://guidebook.ukllc.ac.uk/docs/LPS_data/Datasets/BCS70/Datasets/bcs10_relationships.html\" rel=\"noopener noreferrer\" target=\"_blank\">bcs10_relationships</a></td>\n",
       "      <td id=\"T_b472d_row1_col1\" class=\"data row1 col1\" >Age 46 Relationships</td>\n",
       "      <td id=\"T_b472d_row1_col2\" class=\"data row1 col2\" >6993</td>\n",
       "      <td id=\"T_b472d_row1_col3\" class=\"data row1 col3\" >9518</td>\n",
       "      <td id=\"T_b472d_row1_col4\" class=\"data row1 col4\" >33</td>\n",
       "    </tr>\n",
       "    <tr>\n",
       "      <td id=\"T_b472d_row2_col0\" class=\"data row2 col0\" > <a href=\"https://guidebook.ukllc.ac.uk/docs/LPS_data/Datasets/BCS70/Datasets/bcs10.html\" rel=\"noopener noreferrer\" target=\"_blank\">bcs10</a></td>\n",
       "      <td id=\"T_b472d_row2_col1\" class=\"data row2 col1\" >Age 46 Main Data</td>\n",
       "      <td id=\"T_b472d_row2_col2\" class=\"data row2 col2\" >6993</td>\n",
       "      <td id=\"T_b472d_row2_col3\" class=\"data row2 col3\" >8581</td>\n",
       "      <td id=\"T_b472d_row2_col4\" class=\"data row2 col4\" >1279</td>\n",
       "    </tr>\n",
       "    <tr>\n",
       "      <td id=\"T_b472d_row3_col0\" class=\"data row3 col0\" > <a href=\"https://guidebook.ukllc.ac.uk/docs/LPS_data/Datasets/BCS70/Datasets/bcs1_22month.html\" rel=\"noopener noreferrer\" target=\"_blank\">bcs1_22month</a></td>\n",
       "      <td id=\"T_b472d_row3_col1\" class=\"data row3 col1\" >22-Month Sub-sample Survey</td>\n",
       "      <td id=\"T_b472d_row3_col2\" class=\"data row3 col2\" >1190</td>\n",
       "      <td id=\"T_b472d_row3_col3\" class=\"data row3 col3\" >2457</td>\n",
       "      <td id=\"T_b472d_row3_col4\" class=\"data row3 col4\" >162</td>\n",
       "    </tr>\n",
       "    <tr>\n",
       "      <td id=\"T_b472d_row4_col0\" class=\"data row4 col0\" > <a href=\"https://guidebook.ukllc.ac.uk/docs/LPS_data/Datasets/BCS70/Datasets/bcs1_derived.html\" rel=\"noopener noreferrer\" target=\"_blank\">bcs1_derived</a></td>\n",
       "      <td id=\"T_b472d_row4_col1\" class=\"data row4 col1\" >Birth Survey Derived Data</td>\n",
       "      <td id=\"T_b472d_row4_col2\" class=\"data row4 col2\" >7923</td>\n",
       "      <td id=\"T_b472d_row4_col3\" class=\"data row4 col3\" >17196</td>\n",
       "      <td id=\"T_b472d_row4_col4\" class=\"data row4 col4\" >12</td>\n",
       "    </tr>\n",
       "    <tr>\n",
       "      <td id=\"T_b472d_row5_col0\" class=\"data row5 col0\" > <a href=\"https://guidebook.ukllc.ac.uk/docs/LPS_data/Datasets/BCS70/Datasets/bcs1.html\" rel=\"noopener noreferrer\" target=\"_blank\">bcs1</a></td>\n",
       "      <td id=\"T_b472d_row5_col1\" class=\"data row5 col1\" >Birth Survey</td>\n",
       "      <td id=\"T_b472d_row5_col2\" class=\"data row5 col2\" >7923</td>\n",
       "      <td id=\"T_b472d_row5_col3\" class=\"data row5 col3\" >17196</td>\n",
       "      <td id=\"T_b472d_row5_col4\" class=\"data row5 col4\" >414</td>\n",
       "    </tr>\n",
       "    <tr>\n",
       "      <td id=\"T_b472d_row6_col0\" class=\"data row6 col0\" > <a href=\"https://guidebook.ukllc.ac.uk/docs/LPS_data/Datasets/BCS70/Datasets/bcs2_child.html\" rel=\"noopener noreferrer\" target=\"_blank\">bcs2_child</a></td>\n",
       "      <td id=\"T_b472d_row6_col1\" class=\"data row6 col1\" >Age 5 Test booklet</td>\n",
       "      <td id=\"T_b472d_row6_col2\" class=\"data row6 col2\" >7026</td>\n",
       "      <td id=\"T_b472d_row6_col3\" class=\"data row6 col3\" >13135</td>\n",
       "      <td id=\"T_b472d_row6_col4\" class=\"data row6 col4\" >123</td>\n",
       "    </tr>\n",
       "    <tr>\n",
       "      <td id=\"T_b472d_row7_col0\" class=\"data row7 col0\" > <a href=\"https://guidebook.ukllc.ac.uk/docs/LPS_data/Datasets/BCS70/Datasets/bcs2_derived.html\" rel=\"noopener noreferrer\" target=\"_blank\">bcs2_derived</a></td>\n",
       "      <td id=\"T_b472d_row7_col1\" class=\"data row7 col1\" >Age 5 Derived Data</td>\n",
       "      <td id=\"T_b472d_row7_col2\" class=\"data row7 col2\" >7026</td>\n",
       "      <td id=\"T_b472d_row7_col3\" class=\"data row7 col3\" >13135</td>\n",
       "      <td id=\"T_b472d_row7_col4\" class=\"data row7 col4\" >15</td>\n",
       "    </tr>\n",
       "    <tr>\n",
       "      <td id=\"T_b472d_row8_col0\" class=\"data row8 col0\" > <a href=\"https://guidebook.ukllc.ac.uk/docs/LPS_data/Datasets/BCS70/Datasets/bcs2_history.html\" rel=\"noopener noreferrer\" target=\"_blank\">bcs2_history</a></td>\n",
       "      <td id=\"T_b472d_row8_col1\" class=\"data row8 col1\" >Age 5 Development History</td>\n",
       "      <td id=\"T_b472d_row8_col2\" class=\"data row8 col2\" >7026</td>\n",
       "      <td id=\"T_b472d_row8_col3\" class=\"data row8 col3\" >13135</td>\n",
       "      <td id=\"T_b472d_row8_col4\" class=\"data row8 col4\" >198</td>\n",
       "    </tr>\n",
       "    <tr>\n",
       "      <td id=\"T_b472d_row9_col0\" class=\"data row9 col0\" > <a href=\"https://guidebook.ukllc.ac.uk/docs/LPS_data/Datasets/BCS70/Datasets/bcs2_maternal_sc.html\" rel=\"noopener noreferrer\" target=\"_blank\">bcs2_maternal_sc</a></td>\n",
       "      <td id=\"T_b472d_row9_col1\" class=\"data row9 col1\" >Age 5 Maternal Self-Completion</td>\n",
       "      <td id=\"T_b472d_row9_col2\" class=\"data row9 col2\" >7026</td>\n",
       "      <td id=\"T_b472d_row9_col3\" class=\"data row9 col3\" >13135</td>\n",
       "      <td id=\"T_b472d_row9_col4\" class=\"data row9 col4\" >133</td>\n",
       "    </tr>\n",
       "    <tr>\n",
       "      <td id=\"T_b472d_row10_col0\" class=\"data row10 col0\" > <a href=\"https://guidebook.ukllc.ac.uk/docs/LPS_data/Datasets/BCS70/Datasets/bcs2.html\" rel=\"noopener noreferrer\" target=\"_blank\">bcs2</a></td>\n",
       "      <td id=\"T_b472d_row10_col1\" class=\"data row10 col1\" >Age 5 Survey Data</td>\n",
       "      <td id=\"T_b472d_row10_col2\" class=\"data row10 col2\" >7026</td>\n",
       "      <td id=\"T_b472d_row10_col3\" class=\"data row10 col3\" >13135</td>\n",
       "      <td id=\"T_b472d_row10_col4\" class=\"data row10 col4\" >393</td>\n",
       "    </tr>\n",
       "    <tr>\n",
       "      <td id=\"T_b472d_row11_col0\" class=\"data row11 col0\" > <a href=\"https://guidebook.ukllc.ac.uk/docs/LPS_data/Datasets/BCS70/Datasets/bcs3_audiometry.html\" rel=\"noopener noreferrer\" target=\"_blank\">bcs3_audiometry</a></td>\n",
       "      <td id=\"T_b472d_row11_col1\" class=\"data row11 col1\" >Age 10 Audiometry</td>\n",
       "      <td id=\"T_b472d_row11_col2\" class=\"data row11 col2\" >5346</td>\n",
       "      <td id=\"T_b472d_row11_col3\" class=\"data row11 col3\" >14903</td>\n",
       "      <td id=\"T_b472d_row11_col4\" class=\"data row11 col4\" >10</td>\n",
       "    </tr>\n",
       "    <tr>\n",
       "      <td id=\"T_b472d_row12_col0\" class=\"data row12 col0\" > <a href=\"https://guidebook.ukllc.ac.uk/docs/LPS_data/Datasets/BCS70/Datasets/bcs3_derived.html\" rel=\"noopener noreferrer\" target=\"_blank\">bcs3_derived</a></td>\n",
       "      <td id=\"T_b472d_row12_col1\" class=\"data row12 col1\" >Age 10 Derived Data</td>\n",
       "      <td id=\"T_b472d_row12_col2\" class=\"data row12 col2\" >7914</td>\n",
       "      <td id=\"T_b472d_row12_col3\" class=\"data row12 col3\" >19052</td>\n",
       "      <td id=\"T_b472d_row12_col4\" class=\"data row12 col4\" >19</td>\n",
       "    </tr>\n",
       "    <tr>\n",
       "      <td id=\"T_b472d_row13_col0\" class=\"data row13 col0\" > <a href=\"https://guidebook.ukllc.ac.uk/docs/LPS_data/Datasets/BCS70/Datasets/bcs3.html\" rel=\"noopener noreferrer\" target=\"_blank\">bcs3</a></td>\n",
       "      <td id=\"T_b472d_row13_col1\" class=\"data row13 col1\" >Age 10 Survey</td>\n",
       "      <td id=\"T_b472d_row13_col2\" class=\"data row13 col2\" >7914</td>\n",
       "      <td id=\"T_b472d_row13_col3\" class=\"data row13 col3\" >14870</td>\n",
       "      <td id=\"T_b472d_row13_col4\" class=\"data row13 col4\" >2969</td>\n",
       "    </tr>\n",
       "    <tr>\n",
       "      <td id=\"T_b472d_row14_col0\" class=\"data row14 col0\" > <a href=\"https://guidebook.ukllc.ac.uk/docs/LPS_data/Datasets/BCS70/Datasets/bcs4_arithmetic_data.html\" rel=\"noopener noreferrer\" target=\"_blank\">bcs4_arithmetic_data</a></td>\n",
       "      <td id=\"T_b472d_row14_col1\" class=\"data row14 col1\" >Age 16 Arithmetic Data</td>\n",
       "      <td id=\"T_b472d_row14_col2\" class=\"data row14 col2\" >2274</td>\n",
       "      <td id=\"T_b472d_row14_col3\" class=\"data row14 col3\" >3677</td>\n",
       "      <td id=\"T_b472d_row14_col4\" class=\"data row14 col4\" >126</td>\n",
       "    </tr>\n",
       "    <tr>\n",
       "      <td id=\"T_b472d_row15_col0\" class=\"data row15 col0\" > <a href=\"https://guidebook.ukllc.ac.uk/docs/LPS_data/Datasets/BCS70/Datasets/bcs4_derived.html\" rel=\"noopener noreferrer\" target=\"_blank\">bcs4_derived</a></td>\n",
       "      <td id=\"T_b472d_row15_col1\" class=\"data row15 col1\" >Age 16 Derived Data</td>\n",
       "      <td id=\"T_b472d_row15_col2\" class=\"data row15 col2\" >6722</td>\n",
       "      <td id=\"T_b472d_row15_col3\" class=\"data row15 col3\" >11615</td>\n",
       "      <td id=\"T_b472d_row15_col4\" class=\"data row15 col4\" >20</td>\n",
       "    </tr>\n",
       "    <tr>\n",
       "      <td id=\"T_b472d_row16_col0\" class=\"data row16 col0\" > <a href=\"https://guidebook.ukllc.ac.uk/docs/LPS_data/Datasets/BCS70/Datasets/bcs4.html\" rel=\"noopener noreferrer\" target=\"_blank\">bcs4</a></td>\n",
       "      <td id=\"T_b472d_row16_col1\" class=\"data row16 col1\" >Age 16 Survey Data</td>\n",
       "      <td id=\"T_b472d_row16_col2\" class=\"data row16 col2\" >6722</td>\n",
       "      <td id=\"T_b472d_row16_col3\" class=\"data row16 col3\" >11615</td>\n",
       "      <td id=\"T_b472d_row16_col4\" class=\"data row16 col4\" >4703</td>\n",
       "    </tr>\n",
       "    <tr>\n",
       "      <td id=\"T_b472d_row17_col0\" class=\"data row17 col0\" > <a href=\"https://guidebook.ukllc.ac.uk/docs/LPS_data/Datasets/BCS70/Datasets/bcs5_derived.html\" rel=\"noopener noreferrer\" target=\"_blank\">bcs5_derived</a></td>\n",
       "      <td id=\"T_b472d_row17_col1\" class=\"data row17 col1\" >Age 26 Derived Data</td>\n",
       "      <td id=\"T_b472d_row17_col2\" class=\"data row17 col2\" >5917</td>\n",
       "      <td id=\"T_b472d_row17_col3\" class=\"data row17 col3\" >9003</td>\n",
       "      <td id=\"T_b472d_row17_col4\" class=\"data row17 col4\" >8</td>\n",
       "    </tr>\n",
       "    <tr>\n",
       "      <td id=\"T_b472d_row18_col0\" class=\"data row18 col0\" > <a href=\"https://guidebook.ukllc.ac.uk/docs/LPS_data/Datasets/BCS70/Datasets/bcs5.html\" rel=\"noopener noreferrer\" target=\"_blank\">bcs5</a></td>\n",
       "      <td id=\"T_b472d_row18_col1\" class=\"data row18 col1\" >Age 26 Main Data</td>\n",
       "      <td id=\"T_b472d_row18_col2\" class=\"data row18 col2\" >5918</td>\n",
       "      <td id=\"T_b472d_row18_col3\" class=\"data row18 col3\" >9003</td>\n",
       "      <td id=\"T_b472d_row18_col4\" class=\"data row18 col4\" >641</td>\n",
       "    </tr>\n",
       "    <tr>\n",
       "      <td id=\"T_b472d_row19_col0\" class=\"data row19 col0\" > <a href=\"https://guidebook.ukllc.ac.uk/docs/LPS_data/Datasets/BCS70/Datasets/bcs6_derived.html\" rel=\"noopener noreferrer\" target=\"_blank\">bcs6_derived</a></td>\n",
       "      <td id=\"T_b472d_row19_col1\" class=\"data row19 col1\" >Age 30 Derived Data</td>\n",
       "      <td id=\"T_b472d_row19_col2\" class=\"data row19 col2\" >7288</td>\n",
       "      <td id=\"T_b472d_row19_col3\" class=\"data row19 col3\" >11261</td>\n",
       "      <td id=\"T_b472d_row19_col4\" class=\"data row19 col4\" >12</td>\n",
       "    </tr>\n",
       "    <tr>\n",
       "      <td id=\"T_b472d_row20_col0\" class=\"data row20 col0\" > <a href=\"https://guidebook.ukllc.ac.uk/docs/LPS_data/Datasets/BCS70/Datasets/bcs6.html\" rel=\"noopener noreferrer\" target=\"_blank\">bcs6</a></td>\n",
       "      <td id=\"T_b472d_row20_col1\" class=\"data row20 col1\" >Age 30 Main Survey Data</td>\n",
       "      <td id=\"T_b472d_row20_col2\" class=\"data row20 col2\" >7288</td>\n",
       "      <td id=\"T_b472d_row20_col3\" class=\"data row20 col3\" >11261</td>\n",
       "      <td id=\"T_b472d_row20_col4\" class=\"data row20 col4\" >4028</td>\n",
       "    </tr>\n",
       "    <tr>\n",
       "      <td id=\"T_b472d_row21_col0\" class=\"data row21 col0\" > <a href=\"https://guidebook.ukllc.ac.uk/docs/LPS_data/Datasets/BCS70/Datasets/bcs7_adult_assessment_basic_skills.html\" rel=\"noopener noreferrer\" target=\"_blank\">bcs7_adult_assessment_basic_skills</a></td>\n",
       "      <td id=\"T_b472d_row21_col1\" class=\"data row21 col1\" >Cohort member adult assessment data</td>\n",
       "      <td id=\"T_b472d_row21_col2\" class=\"data row21 col2\" >6795</td>\n",
       "      <td id=\"T_b472d_row21_col3\" class=\"data row21 col3\" >9665</td>\n",
       "      <td id=\"T_b472d_row21_col4\" class=\"data row21 col4\" >29</td>\n",
       "    </tr>\n",
       "    <tr>\n",
       "      <td id=\"T_b472d_row22_col0\" class=\"data row22 col0\" > <a href=\"https://guidebook.ukllc.ac.uk/docs/LPS_data/Datasets/BCS70/Datasets/bcs7_child_assessment_bas.html\" rel=\"noopener noreferrer\" target=\"_blank\">bcs7_child_assessment_bas</a></td>\n",
       "      <td id=\"T_b472d_row22_col1\" class=\"data row22 col1\" >Cohort member's child assessment data</td>\n",
       "      <td id=\"T_b472d_row22_col2\" class=\"data row22 col2\" >2002</td>\n",
       "      <td id=\"T_b472d_row22_col3\" class=\"data row22 col3\" >5207</td>\n",
       "      <td id=\"T_b472d_row22_col4\" class=\"data row22 col4\" >259</td>\n",
       "    </tr>\n",
       "    <tr>\n",
       "      <td id=\"T_b472d_row23_col0\" class=\"data row23 col0\" > <a href=\"https://guidebook.ukllc.ac.uk/docs/LPS_data/Datasets/BCS70/Datasets/bcs7_derived_follow_up.html\" rel=\"noopener noreferrer\" target=\"_blank\">bcs7_derived_follow_up</a></td>\n",
       "      <td id=\"T_b472d_row23_col1\" class=\"data row23 col1\" >Derived Follow Up</td>\n",
       "      <td id=\"T_b472d_row23_col2\" class=\"data row23 col2\" >6795</td>\n",
       "      <td id=\"T_b472d_row23_col3\" class=\"data row23 col3\" >9665</td>\n",
       "      <td id=\"T_b472d_row23_col4\" class=\"data row23 col4\" >2657</td>\n",
       "    </tr>\n",
       "    <tr>\n",
       "      <td id=\"T_b472d_row24_col0\" class=\"data row24 col0\" > <a href=\"https://guidebook.ukllc.ac.uk/docs/LPS_data/Datasets/BCS70/Datasets/bcs7_derived.html\" rel=\"noopener noreferrer\" target=\"_blank\">bcs7_derived</a></td>\n",
       "      <td id=\"T_b472d_row24_col1\" class=\"data row24 col1\" >Age 34 Derived Variables</td>\n",
       "      <td id=\"T_b472d_row24_col2\" class=\"data row24 col2\" >6795</td>\n",
       "      <td id=\"T_b472d_row24_col3\" class=\"data row24 col3\" >9665</td>\n",
       "      <td id=\"T_b472d_row24_col4\" class=\"data row24 col4\" >16</td>\n",
       "    </tr>\n",
       "    <tr>\n",
       "      <td id=\"T_b472d_row25_col0\" class=\"data row25 col0\" > <a href=\"https://guidebook.ukllc.ac.uk/docs/LPS_data/Datasets/BCS70/Datasets/bcs7.html\" rel=\"noopener noreferrer\" target=\"_blank\">bcs7</a></td>\n",
       "      <td id=\"T_b472d_row25_col1\" class=\"data row25 col1\" >Age 34 Main Survey Data</td>\n",
       "      <td id=\"T_b472d_row25_col2\" class=\"data row25 col2\" >6795</td>\n",
       "      <td id=\"T_b472d_row25_col3\" class=\"data row25 col3\" >9665</td>\n",
       "      <td id=\"T_b472d_row25_col4\" class=\"data row25 col4\" >2644</td>\n",
       "    </tr>\n",
       "    <tr>\n",
       "      <td id=\"T_b472d_row26_col0\" class=\"data row26 col0\" > <a href=\"https://guidebook.ukllc.ac.uk/docs/LPS_data/Datasets/BCS70/Datasets/bcs8_derived.html\" rel=\"noopener noreferrer\" target=\"_blank\">bcs8_derived</a></td>\n",
       "      <td id=\"T_b472d_row26_col1\" class=\"data row26 col1\" >Age 38 Derived Variables</td>\n",
       "      <td id=\"T_b472d_row26_col2\" class=\"data row26 col2\" >6747</td>\n",
       "      <td id=\"T_b472d_row26_col3\" class=\"data row26 col3\" >8874</td>\n",
       "      <td id=\"T_b472d_row26_col4\" class=\"data row26 col4\" >21</td>\n",
       "    </tr>\n",
       "    <tr>\n",
       "      <td id=\"T_b472d_row27_col0\" class=\"data row27 col0\" > <a href=\"https://guidebook.ukllc.ac.uk/docs/LPS_data/Datasets/BCS70/Datasets/bcs8.html\" rel=\"noopener noreferrer\" target=\"_blank\">bcs8</a></td>\n",
       "      <td id=\"T_b472d_row27_col1\" class=\"data row27 col1\" >Age 38 Main Survey Data</td>\n",
       "      <td id=\"T_b472d_row27_col2\" class=\"data row27 col2\" >6747</td>\n",
       "      <td id=\"T_b472d_row27_col3\" class=\"data row27 col3\" >8874</td>\n",
       "      <td id=\"T_b472d_row27_col4\" class=\"data row27 col4\" >2990</td>\n",
       "    </tr>\n",
       "    <tr>\n",
       "      <td id=\"T_b472d_row28_col0\" class=\"data row28 col0\" > <a href=\"https://guidebook.ukllc.ac.uk/docs/LPS_data/Datasets/BCS70/Datasets/bcs9_absent_older_child.html\" rel=\"noopener noreferrer\" target=\"_blank\">bcs9_absent_older_child</a></td>\n",
       "      <td id=\"T_b472d_row28_col1\" class=\"data row28 col1\" >Age 42 Absent Older Child</td>\n",
       "      <td id=\"T_b472d_row28_col2\" class=\"data row28 col2\" >3094</td>\n",
       "      <td id=\"T_b472d_row28_col3\" class=\"data row28 col3\" >6985</td>\n",
       "      <td id=\"T_b472d_row28_col4\" class=\"data row28 col4\" >74</td>\n",
       "    </tr>\n",
       "    <tr>\n",
       "      <td id=\"T_b472d_row29_col0\" class=\"data row29 col0\" > <a href=\"https://guidebook.ukllc.ac.uk/docs/LPS_data/Datasets/BCS70/Datasets/bcs9_child_died.html\" rel=\"noopener noreferrer\" target=\"_blank\">bcs9_child_died</a></td>\n",
       "      <td id=\"T_b472d_row29_col1\" class=\"data row29 col1\" >Age 42 Child Died</td>\n",
       "      <td id=\"T_b472d_row29_col2\" class=\"data row29 col2\" >109</td>\n",
       "      <td id=\"T_b472d_row29_col3\" class=\"data row29 col3\" >158</td>\n",
       "      <td id=\"T_b472d_row29_col4\" class=\"data row29 col4\" >10</td>\n",
       "    </tr>\n",
       "    <tr>\n",
       "      <td id=\"T_b472d_row30_col0\" class=\"data row30 col0\" > <a href=\"https://guidebook.ukllc.ac.uk/docs/LPS_data/Datasets/BCS70/Datasets/bcs9_derived.html\" rel=\"noopener noreferrer\" target=\"_blank\">bcs9_derived</a></td>\n",
       "      <td id=\"T_b472d_row30_col1\" class=\"data row30 col1\" >Age 42 Derived Variables</td>\n",
       "      <td id=\"T_b472d_row30_col2\" class=\"data row30 col2\" >7955</td>\n",
       "      <td id=\"T_b472d_row30_col3\" class=\"data row30 col3\" >9841</td>\n",
       "      <td id=\"T_b472d_row30_col4\" class=\"data row30 col4\" >60</td>\n",
       "    </tr>\n",
       "    <tr>\n",
       "      <td id=\"T_b472d_row31_col0\" class=\"data row31 col0\" > <a href=\"https://guidebook.ukllc.ac.uk/docs/LPS_data/Datasets/BCS70/Datasets/bcs9_employment.html\" rel=\"noopener noreferrer\" target=\"_blank\">bcs9_employment</a></td>\n",
       "      <td id=\"T_b472d_row31_col1\" class=\"data row31 col1\" >Age 42 Employment Data</td>\n",
       "      <td id=\"T_b472d_row31_col2\" class=\"data row31 col2\" >3217</td>\n",
       "      <td id=\"T_b472d_row31_col3\" class=\"data row31 col3\" >6899</td>\n",
       "      <td id=\"T_b472d_row31_col4\" class=\"data row31 col4\" >21</td>\n",
       "    </tr>\n",
       "    <tr>\n",
       "      <td id=\"T_b472d_row32_col0\" class=\"data row32 col0\" > <a href=\"https://guidebook.ukllc.ac.uk/docs/LPS_data/Datasets/BCS70/Datasets/bcs9_housing.html\" rel=\"noopener noreferrer\" target=\"_blank\">bcs9_housing</a></td>\n",
       "      <td id=\"T_b472d_row32_col1\" class=\"data row32 col1\" >Age 42 Housing Data</td>\n",
       "      <td id=\"T_b472d_row32_col2\" class=\"data row32 col2\" >2402</td>\n",
       "      <td id=\"T_b472d_row32_col3\" class=\"data row32 col3\" >4854</td>\n",
       "      <td id=\"T_b472d_row32_col4\" class=\"data row32 col4\" >8</td>\n",
       "    </tr>\n",
       "    <tr>\n",
       "      <td id=\"T_b472d_row33_col0\" class=\"data row33 col0\" > <a href=\"https://guidebook.ukllc.ac.uk/docs/LPS_data/Datasets/BCS70/Datasets/bcs9_persongrid.html\" rel=\"noopener noreferrer\" target=\"_blank\">bcs9_persongrid</a></td>\n",
       "      <td id=\"T_b472d_row33_col1\" class=\"data row33 col1\" >Age 42 Household Grid</td>\n",
       "      <td id=\"T_b472d_row33_col2\" class=\"data row33 col2\" >7846</td>\n",
       "      <td id=\"T_b472d_row33_col3\" class=\"data row33 col3\" >37144</td>\n",
       "      <td id=\"T_b472d_row33_col4\" class=\"data row33 col4\" >19</td>\n",
       "    </tr>\n",
       "    <tr>\n",
       "      <td id=\"T_b472d_row34_col0\" class=\"data row34 col0\" > <a href=\"https://guidebook.ukllc.ac.uk/docs/LPS_data/Datasets/BCS70/Datasets/bcs9_qualifications.html\" rel=\"noopener noreferrer\" target=\"_blank\">bcs9_qualifications</a></td>\n",
       "      <td id=\"T_b472d_row34_col1\" class=\"data row34 col1\" >Age 42 Qualifications</td>\n",
       "      <td id=\"T_b472d_row34_col2\" class=\"data row34 col2\" >2260</td>\n",
       "      <td id=\"T_b472d_row34_col3\" class=\"data row34 col3\" >4988</td>\n",
       "      <td id=\"T_b472d_row34_col4\" class=\"data row34 col4\" >18</td>\n",
       "    </tr>\n",
       "    <tr>\n",
       "      <td id=\"T_b472d_row35_col0\" class=\"data row35 col0\" > <a href=\"https://guidebook.ukllc.ac.uk/docs/LPS_data/Datasets/BCS70/Datasets/bcs9_relationships.html\" rel=\"noopener noreferrer\" target=\"_blank\">bcs9_relationships</a></td>\n",
       "      <td id=\"T_b472d_row35_col1\" class=\"data row35 col1\" >Age 42 Relationships</td>\n",
       "      <td id=\"T_b472d_row35_col2\" class=\"data row35 col2\" >7945</td>\n",
       "      <td id=\"T_b472d_row35_col3\" class=\"data row35 col3\" >11351</td>\n",
       "      <td id=\"T_b472d_row35_col4\" class=\"data row35 col4\" >26</td>\n",
       "    </tr>\n",
       "    <tr>\n",
       "      <td id=\"T_b472d_row36_col0\" class=\"data row36 col0\" > <a href=\"https://guidebook.ukllc.ac.uk/docs/LPS_data/Datasets/BCS70/Datasets/bcs9.html\" rel=\"noopener noreferrer\" target=\"_blank\">bcs9</a></td>\n",
       "      <td id=\"T_b472d_row36_col1\" class=\"data row36 col1\" >Age 42 Main Survey Data</td>\n",
       "      <td id=\"T_b472d_row36_col2\" class=\"data row36 col2\" >7955</td>\n",
       "      <td id=\"T_b472d_row36_col3\" class=\"data row36 col3\" >9841</td>\n",
       "      <td id=\"T_b472d_row36_col4\" class=\"data row36 col4\" >1534</td>\n",
       "    </tr>\n",
       "    <tr>\n",
       "      <td id=\"T_b472d_row37_col0\" class=\"data row37 col0\" > <a href=\"https://guidebook.ukllc.ac.uk/docs/LPS_data/Datasets/BCS70/Datasets/response_1970_2016.html\" rel=\"noopener noreferrer\" target=\"_blank\">response_1970_2016</a></td>\n",
       "      <td id=\"T_b472d_row37_col1\" class=\"data row37 col1\" >1970-2016 Response Data</td>\n",
       "      <td id=\"T_b472d_row37_col2\" class=\"data row37 col2\" >8536</td>\n",
       "      <td id=\"T_b472d_row37_col3\" class=\"data row37 col3\" >18037</td>\n",
       "      <td id=\"T_b472d_row37_col4\" class=\"data row37 col4\" >17</td>\n",
       "    </tr>\n",
       "    <tr>\n",
       "      <td id=\"T_b472d_row38_col0\" class=\"data row38 col0\" > <a href=\"https://guidebook.ukllc.ac.uk/docs/LPS_data/Datasets/BCS70/Datasets/bcs10_qualifications.html\" rel=\"noopener noreferrer\" target=\"_blank\">bcs10_qualifications</a></td>\n",
       "      <td id=\"T_b472d_row38_col1\" class=\"data row38 col1\" >Age 46 Qualifications</td>\n",
       "      <td id=\"T_b472d_row38_col2\" class=\"data row38 col2\" >1505</td>\n",
       "      <td id=\"T_b472d_row38_col3\" class=\"data row38 col3\" >3182</td>\n",
       "      <td id=\"T_b472d_row38_col4\" class=\"data row38 col4\" >18</td>\n",
       "    </tr>\n",
       "    <tr>\n",
       "      <td id=\"T_b472d_row39_col0\" class=\"data row39 col0\" > <a href=\"https://guidebook.ukllc.ac.uk/docs/LPS_data/Datasets/BCS70/Datasets/COVID_w1.html\" rel=\"noopener noreferrer\" target=\"_blank\">COVID_w1</a></td>\n",
       "      <td id=\"T_b472d_row39_col1\" class=\"data row39 col1\" >COVID-19 Survey Wave 1</td>\n",
       "      <td id=\"T_b472d_row39_col2\" class=\"data row39 col2\" >3696</td>\n",
       "      <td id=\"T_b472d_row39_col3\" class=\"data row39 col3\" >1907</td>\n",
       "      <td id=\"T_b472d_row39_col4\" class=\"data row39 col4\" >1512</td>\n",
       "    </tr>\n",
       "    <tr>\n",
       "      <td id=\"T_b472d_row40_col0\" class=\"data row40 col0\" > <a href=\"https://guidebook.ukllc.ac.uk/docs/LPS_data/Datasets/BCS70/Datasets/COVID_w2.html\" rel=\"noopener noreferrer\" target=\"_blank\">COVID_w2</a></td>\n",
       "      <td id=\"T_b472d_row40_col1\" class=\"data row40 col1\" >COVID-19 Survey Wave 2</td>\n",
       "      <td id=\"T_b472d_row40_col2\" class=\"data row40 col2\" >4687</td>\n",
       "      <td id=\"T_b472d_row40_col3\" class=\"data row40 col3\" >3664</td>\n",
       "      <td id=\"T_b472d_row40_col4\" class=\"data row40 col4\" >3897</td>\n",
       "    </tr>\n",
       "    <tr>\n",
       "      <td id=\"T_b472d_row41_col0\" class=\"data row41 col0\" > <a href=\"https://guidebook.ukllc.ac.uk/docs/LPS_data/Datasets/BCS70/Datasets/COVID_w3.html\" rel=\"noopener noreferrer\" target=\"_blank\">COVID_w3</a></td>\n",
       "      <td id=\"T_b472d_row41_col1\" class=\"data row41 col1\" >COVID-19 Survey Wave 3</td>\n",
       "      <td id=\"T_b472d_row41_col2\" class=\"data row41 col2\" >5221</td>\n",
       "      <td id=\"T_b472d_row41_col3\" class=\"data row41 col3\" >4239</td>\n",
       "      <td id=\"T_b472d_row41_col4\" class=\"data row41 col4\" >4132</td>\n",
       "    </tr>\n",
       "    <tr>\n",
       "      <td id=\"T_b472d_row42_col0\" class=\"data row42 col0\" > <a href=\"https://guidebook.ukllc.ac.uk/docs/LPS_data/Datasets/BCS70/Datasets/Covid_19_Serology.html\" rel=\"noopener noreferrer\" target=\"_blank\">Covid_19_Serology</a></td>\n",
       "      <td id=\"T_b472d_row42_col1\" class=\"data row42 col1\" >COVID-19 Antibody Testing</td>\n",
       "      <td id=\"T_b472d_row42_col2\" class=\"data row42 col2\" >3448</td>\n",
       "      <td id=\"T_b472d_row42_col3\" class=\"data row42 col3\" >2091</td>\n",
       "      <td id=\"T_b472d_row42_col4\" class=\"data row42 col4\" >72</td>\n",
       "    </tr>\n",
       "    <tr>\n",
       "      <td id=\"T_b472d_row43_col0\" class=\"data row43 col0\" > <a href=\"https://guidebook.ukllc.ac.uk/docs/LPS_data/Datasets/BCS70/Datasets/basic_demographic.html\" rel=\"noopener noreferrer\" target=\"_blank\">basic_demographic</a></td>\n",
       "      <td id=\"T_b472d_row43_col1\" class=\"data row43 col1\" >Basic demographic variables</td>\n",
       "      <td id=\"T_b472d_row43_col2\" class=\"data row43 col2\" >8527</td>\n",
       "      <td id=\"T_b472d_row43_col3\" class=\"data row43 col3\" >18558</td>\n",
       "      <td id=\"T_b472d_row43_col4\" class=\"data row43 col4\" >51</td>\n",
       "    </tr>\n",
       "    <tr>\n",
       "      <td id=\"T_b472d_row44_col0\" class=\"data row44 col0\" > <a href=\"https://guidebook.ukllc.ac.uk/docs/LPS_data/Datasets/BCS70/Datasets/bcs10_child_died.html\" rel=\"noopener noreferrer\" target=\"_blank\">bcs10_child_died</a></td>\n",
       "      <td id=\"T_b472d_row44_col1\" class=\"data row44 col1\" >Age 46 Child Died</td>\n",
       "      <td id=\"T_b472d_row44_col2\" class=\"data row44 col2\" >12</td>\n",
       "      <td id=\"T_b472d_row44_col3\" class=\"data row44 col3\" >24</td>\n",
       "      <td id=\"T_b472d_row44_col4\" class=\"data row44 col4\" >10</td>\n",
       "    </tr>\n",
       "    <tr>\n",
       "      <td id=\"T_b472d_row45_col0\" class=\"data row45 col0\" > <a href=\"https://guidebook.ukllc.ac.uk/docs/LPS_data/Datasets/BCS70/Datasets/bcs10_dietary_questionnaire.html\" rel=\"noopener noreferrer\" target=\"_blank\">bcs10_dietary_questionnaire</a></td>\n",
       "      <td id=\"T_b472d_row45_col1\" class=\"data row45 col1\" >Age 46 Dietary Questionnaire</td>\n",
       "      <td id=\"T_b472d_row45_col2\" class=\"data row45 col2\" >5146</td>\n",
       "      <td id=\"T_b472d_row45_col3\" class=\"data row45 col3\" >10899</td>\n",
       "      <td id=\"T_b472d_row45_col4\" class=\"data row45 col4\" >492</td>\n",
       "    </tr>\n",
       "    <tr>\n",
       "      <td id=\"T_b472d_row46_col0\" class=\"data row46 col0\" > <a href=\"https://guidebook.ukllc.ac.uk/docs/LPS_data/Datasets/BCS70/Datasets/bcs10_employment.html\" rel=\"noopener noreferrer\" target=\"_blank\">bcs10_employment</a></td>\n",
       "      <td id=\"T_b472d_row46_col1\" class=\"data row46 col1\" >Age 46 Employment Data</td>\n",
       "      <td id=\"T_b472d_row46_col2\" class=\"data row46 col2\" >2827</td>\n",
       "      <td id=\"T_b472d_row46_col3\" class=\"data row46 col3\" >5280</td>\n",
       "      <td id=\"T_b472d_row46_col4\" class=\"data row46 col4\" >24</td>\n",
       "    </tr>\n",
       "    <tr>\n",
       "      <td id=\"T_b472d_row47_col0\" class=\"data row47 col0\" > <a href=\"https://guidebook.ukllc.ac.uk/docs/LPS_data/Datasets/BCS70/Datasets/bcs10_housing.html\" rel=\"noopener noreferrer\" target=\"_blank\">bcs10_housing</a></td>\n",
       "      <td id=\"T_b472d_row47_col1\" class=\"data row47 col1\" >Age 46 Housing</td>\n",
       "      <td id=\"T_b472d_row47_col2\" class=\"data row47 col2\" >1879</td>\n",
       "      <td id=\"T_b472d_row47_col3\" class=\"data row47 col3\" >3364</td>\n",
       "      <td id=\"T_b472d_row47_col4\" class=\"data row47 col4\" >9</td>\n",
       "    </tr>\n",
       "    <tr>\n",
       "      <td id=\"T_b472d_row48_col0\" class=\"data row48 col0\" > <a href=\"https://guidebook.ukllc.ac.uk/docs/LPS_data/Datasets/BCS70/Datasets/bcs10_long_acting_medication.html\" rel=\"noopener noreferrer\" target=\"_blank\">bcs10_long_acting_medication</a></td>\n",
       "      <td id=\"T_b472d_row48_col1\" class=\"data row48 col1\" >Age 46 Long-acting Medication</td>\n",
       "      <td id=\"T_b472d_row48_col2\" class=\"data row48 col2\" >317</td>\n",
       "      <td id=\"T_b472d_row48_col3\" class=\"data row48 col3\" >404</td>\n",
       "      <td id=\"T_b472d_row48_col4\" class=\"data row48 col4\" >7</td>\n",
       "    </tr>\n",
       "    <tr>\n",
       "      <td id=\"T_b472d_row49_col0\" class=\"data row49 col0\" > <a href=\"https://guidebook.ukllc.ac.uk/docs/LPS_data/Datasets/BCS70/Datasets/bcs10_medication.html\" rel=\"noopener noreferrer\" target=\"_blank\">bcs10_medication</a></td>\n",
       "      <td id=\"T_b472d_row49_col1\" class=\"data row49 col1\" >Age 46 Medication</td>\n",
       "      <td id=\"T_b472d_row49_col2\" class=\"data row49 col2\" >2987</td>\n",
       "      <td id=\"T_b472d_row49_col3\" class=\"data row49 col3\" >9586</td>\n",
       "      <td id=\"T_b472d_row49_col4\" class=\"data row49 col4\" >7</td>\n",
       "    </tr>\n",
       "    <tr>\n",
       "      <td id=\"T_b472d_row50_col0\" class=\"data row50 col0\" > <a href=\"https://guidebook.ukllc.ac.uk/docs/LPS_data/Datasets/BCS70/Datasets/bcs10_persongrid.html\" rel=\"noopener noreferrer\" target=\"_blank\">bcs10_persongrid</a></td>\n",
       "      <td id=\"T_b472d_row50_col1\" class=\"data row50 col1\" >Age 46 Household Grid</td>\n",
       "      <td id=\"T_b472d_row50_col2\" class=\"data row50 col2\" >6667</td>\n",
       "      <td id=\"T_b472d_row50_col3\" class=\"data row50 col3\" >25659</td>\n",
       "      <td id=\"T_b472d_row50_col4\" class=\"data row50 col4\" >19</td>\n",
       "    </tr>\n",
       "  </tbody>\n",
       "</table>\n"
      ],
      "text/plain": [
       "<pandas.io.formats.style.Styler at 0x1bb1825df90>"
      ]
     },
     "execution_count": 7,
     "metadata": {},
     "output_type": "execute_result"
    }
   ],
   "source": [
    "ss.datasets()"
   ]
  }
 ],
 "metadata": {
  "kernelspec": {
   "display_name": "Python 3",
   "language": "python",
   "name": "python3"
  },
  "language_info": {
   "codemirror_mode": {
    "name": "ipython",
    "version": 3
   },
   "file_extension": ".py",
   "mimetype": "text/x-python",
   "name": "python",
   "nbconvert_exporter": "python",
   "pygments_lexer": "ipython3",
   "version": "3.13.2"
  }
 },
 "nbformat": 4,
 "nbformat_minor": 5
}
