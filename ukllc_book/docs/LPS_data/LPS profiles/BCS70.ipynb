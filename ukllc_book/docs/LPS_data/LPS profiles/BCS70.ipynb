{
 "cells": [
  {
   "cell_type": "markdown",
   "id": "ac17f2db",
   "metadata": {},
   "source": [
    "# 1970 British Cohort Study (BCS70) (BCS70)"
   ]
  },
  {
   "cell_type": "markdown",
   "id": "24f0ea56",
   "metadata": {},
   "source": [
    "## 1. Summary"
   ]
  },
  {
   "cell_type": "markdown",
   "id": "c91ec72a",
   "metadata": {},
   "source": [
    "The 1970 British Cohort Study (BCS70) is a multidisciplinary national longitudinal birth cohort study. Original aims were to examine the social and biological characteristics of the mother in relation to neonatal morbidity, and to compare the results with the 1958 National Child Development Study. With each successive sweep, the scope of the enquiry has broadened from a strictly medical focus at birth, to encompass physical, educational, social and economic development. "
   ]
  },
  {
   "cell_type": "code",
   "execution_count": null,
   "id": "3b938fd4",
   "metadata": {
    "tags": [
     "remove-input"
    ]
   },
   "outputs": [],
   "source": [
    "\n",
    "    import sys\n",
    "    import nbformat as nbf\n",
    "    import os\n",
    "    import requests\n",
    "    import json\n",
    "    import pandas as pd\n",
    "    import markdown\n",
    "    sys.path.append(os.path.abspath('../../scripts/'))\n",
    "    import mdapi_functions as md\n",
    "    from data_doc_helper import DocHelper as dh\n",
    "    from io import StringIO\n",
    "    API_KEY = os.environ['FASTAPI_KEY']\n",
    "\n",
    "    ss_df = md.get_md_api_ss()\n",
    "    lps_ss = ss_df[~ss_df[\"source\"].isin([\"GEO\", \"NHSE\", \"RETURNED\"])]\n",
    "    ss_df_i = lps_ss[lps_ss[\"source\"] == \"BCS70\"]\n",
    "\n",
    "    doi = \"10.83126/ukllc-series-00001-01\"\n",
    "    cite = json.loads(requests.get(\n",
    "            \"https://api.test.datacite.org/dois/\" + doi,\n",
    "    ).text)['data']['attributes']\n",
    "\n",
    "    citeprocjson = \"https://api.datacite.org/application/vnd.citationstyles.csl+json/\"\n",
    "    bibtex = \"https://api.datacite.org/application/x-bibtex/\"\n",
    "    ris = \"https://api.datacite.org/application/x-research-info-systems/\"\n",
    "\n",
    "    doi2 = \"10.5255/ukda-series-2000031\"\n",
    "\n",
    "    apa_cite = cite['creators'][0][\"name\"] +             \". (\" + str(cite[\"publicationYear\"]) + \"). <i>\" +             cite[\"titles\"][0][\"title\"] +             \".</i> \" +             cite[\"publisher\"] +             \". \" + md.make_hlink(\"https://doi.org/\" + doi, \"https://doi.org/10.83126/ukllc-series-00001\")\n",
    "\n",
    "    dl_cites = md.make_hlink(citeprocjson + doi2, \"Citeproc JSON\") + \"&nbsp;&nbsp;&nbsp;&nbsp;\" +             md.make_hlink(bibtex + doi2, \"BibTeX\") + \"&nbsp;&nbsp;&nbsp;&nbsp;\" + md.make_hlink(ris + doi2, \"RIS\")\n",
    "\n",
    "    chrt_doi = \"10.1016/j.envres.2014.07.025\"\n",
    "\n",
    "    ss_info_list = [\n",
    "        [\n",
    "            \"Citation (APA)\",\n",
    "            \"Download Citation\",\n",
    "            \"Owner\",\n",
    "            \"Cohort\",\n",
    "            \"Age at Recruitment\",\n",
    "            \"Geographical Coverage - Nations\",\n",
    "            \"Geographical Coverage - Regions\",\n",
    "            \"Start Date\",\n",
    "            \"Permitted Linkages\",\n",
    "            \"Inclusion in Linkages\",\n",
    "            \"Cohort Profile\",\n",
    "            \"LPS Homepage\",\n",
    "            \"Build a Data Request\"\n",
    "        ],\n",
    "        [\n",
    "            apa_cite,\n",
    "            dl_cites,\n",
    "            ss_df_i.iloc[0][\"Owner\"],\n",
    "            ss_df_i.iloc[0][\"sample_size_at_recruitment\"],\n",
    "            ss_df_i.iloc[0][\"age_at_recruitment\"],\n",
    "            ss_df_i.iloc[0][\"geographic_coverage_Nations\"],\n",
    "            ss_df_i.iloc[0][\"geographic_coverage_Regions\"],\n",
    "            ss_df_i.iloc[0][\"start_date\"],\n",
    "            \"See \" + md.make_hlink(\"https://guidebook.ukllc.ac.uk/docs/lps/linkages/lps_linkages\",\"here\"),\n",
    "            ss_df_i.iloc[0][\"participant_pathway\"],\n",
    "            md.make_hlink(\"https://doi.org/\" + chrt_doi, chrt_doi),\n",
    "            markdown.markdown(ss_df.iloc[0][\"Website\"]),\n",
    "            md.make_hlink(\"https://explore.ukllc.ac.uk/\",\"https://explore.ukllc.ac.uk/\")\n",
    "        ]\n",
    "        ]\n",
    "\n",
    "    df_ss_info = pd.DataFrame(ss_info_list, index=[\"Series Descriptor\", \"Series-specific Information\"]).T\n",
    "    df_ss_info = dh.style_table(\"_\", df_ss_info)\n",
    "    df_ss_info  \n",
    "    "
   ]
  }
 ],
 "metadata": {},
 "nbformat": 4,
 "nbformat_minor": 5
}
