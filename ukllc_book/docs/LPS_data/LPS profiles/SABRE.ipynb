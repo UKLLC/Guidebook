{
 "cells": [
  {
   "cell_type": "markdown",
   "id": "82a97b0d",
   "metadata": {},
   "source": [
    "# Southall & Brent Revisited (SABRE)"
   ]
  },
  {
   "cell_type": "code",
   "execution_count": 1,
   "id": "b3ab86ee",
   "metadata": {
    "execution": {
     "iopub.execute_input": "2025-07-28T20:21:54.590426Z",
     "iopub.status.busy": "2025-07-28T20:21:54.589424Z",
     "iopub.status.idle": "2025-07-28T20:21:59.305142Z",
     "shell.execute_reply": "2025-07-28T20:21:59.303614Z"
    },
    "tags": [
     "remove-input"
    ]
   },
   "outputs": [
    {
     "data": {
      "text/markdown": [
       ">Last modified: 19 Sep 2025"
      ],
      "text/plain": [
       "<IPython.core.display.Markdown object>"
      ]
     },
     "metadata": {},
     "output_type": "display_data"
    }
   ],
   "source": [
    "\n",
    "import sys\n",
    "import os\n",
    "sys.path.append(os.path.abspath('../../scripts/'))\n",
    "from data_doc_helper import LPSSource as SS, last_modified\n",
    "ss = SS(\"SABRE\")\n",
    "last_modified()\n"
   ]
  },
  {
   "cell_type": "markdown",
   "id": "d111be3d",
   "metadata": {},
   "source": [
    "## 1. Summary"
   ]
  },
  {
   "cell_type": "code",
   "execution_count": 2,
   "id": "e56d8e84",
   "metadata": {
    "execution": {
     "iopub.execute_input": "2025-07-28T20:21:59.310139Z",
     "iopub.status.busy": "2025-07-28T20:21:59.310139Z",
     "iopub.status.idle": "2025-07-28T20:21:59.319977Z",
     "shell.execute_reply": "2025-07-28T20:21:59.318958Z"
    },
    "tags": [
     "remove-input"
    ]
   },
   "outputs": [
    {
     "data": {
      "text/markdown": [
       "The Southall And Brent REvisited (SABRE) study is the largest tri-ethnic population-based cohort in the UK, involving nearly 5,000 European, Indian Asian and African Caribbean men and women. The study originally focused on the causes of diabetes and disorders of the heart and circulation. It was broadened to include cognitive function in the follow up stages."
      ],
      "text/plain": [
       "<IPython.core.display.Markdown object>"
      ]
     },
     "metadata": {},
     "output_type": "display_data"
    }
   ],
   "source": [
    "ss.summary()"
   ]
  },
  {
   "cell_type": "code",
   "execution_count": 3,
   "id": "2d9cf13d",
   "metadata": {
    "execution": {
     "iopub.execute_input": "2025-07-28T20:21:59.326609Z",
     "iopub.status.busy": "2025-07-28T20:21:59.325611Z",
     "iopub.status.idle": "2025-07-28T20:22:01.421086Z",
     "shell.execute_reply": "2025-07-28T20:22:01.419572Z"
    },
    "tags": [
     "remove-input"
    ]
   },
   "outputs": [
    {
     "data": {
      "text/html": [
       "<style type=\"text/css\">\n",
       "#T_e991f th {\n",
       "  text-align: left;\n",
       "}\n",
       "#T_e991f_row0_col0, #T_e991f_row0_col1, #T_e991f_row1_col0, #T_e991f_row1_col1, #T_e991f_row2_col0, #T_e991f_row2_col1, #T_e991f_row3_col0, #T_e991f_row3_col1, #T_e991f_row4_col0, #T_e991f_row4_col1, #T_e991f_row5_col0, #T_e991f_row5_col1, #T_e991f_row6_col0, #T_e991f_row6_col1, #T_e991f_row7_col0, #T_e991f_row7_col1, #T_e991f_row8_col0, #T_e991f_row8_col1, #T_e991f_row9_col0, #T_e991f_row9_col1, #T_e991f_row10_col0, #T_e991f_row10_col1, #T_e991f_row11_col0, #T_e991f_row11_col1, #T_e991f_row12_col0, #T_e991f_row12_col1 {\n",
       "  text-align: left;\n",
       "}\n",
       "</style>\n",
       "<table id=\"T_e991f\" style=\"font-size: 14px\">\n",
       "  <thead>\n",
       "    <tr>\n",
       "      <th id=\"T_e991f_level0_col0\" class=\"col_heading level0 col0\" >Series Descriptor</th>\n",
       "      <th id=\"T_e991f_level0_col1\" class=\"col_heading level0 col1\" >Series-specific Information</th>\n",
       "    </tr>\n",
       "  </thead>\n",
       "  <tbody>\n",
       "    <tr>\n",
       "      <td id=\"T_e991f_row0_col0\" class=\"data row0 col0\" >Citation (APA)</td>\n",
       "      <td id=\"T_e991f_row0_col1\" class=\"data row0 col1\" >University College London, Institute of Cardiovascular Science, Unit for Lifelong Health and Ageing. (2021). <i>Southall & Brent Revisited (SABRE).</i> UK Longitudinal Linkage Collaboration (UK LLC).  <a href=\"https://doi.org/10.71760/ukllc-series-00018\" rel=\"noopener noreferrer\" target=\"_blank\">https://doi.org/10.71760/ukllc-series-00018</a></td>\n",
       "    </tr>\n",
       "    <tr>\n",
       "      <td id=\"T_e991f_row1_col0\" class=\"data row1 col0\" >Download Citation</td>\n",
       "      <td id=\"T_e991f_row1_col1\" class=\"data row1 col1\" > <a href=\"https://api.datacite.org/application/vnd.citationstyles.csl+json/10.71760/ukllc-series-00018\" rel=\"noopener noreferrer\" target=\"_blank\">Citeproc JSON</a>&nbsp;&nbsp;&nbsp;&nbsp; <a href=\"https://api.datacite.org/application/x-bibtex/10.71760/ukllc-series-00018\" rel=\"noopener noreferrer\" target=\"_blank\">BibTeX</a>&nbsp;&nbsp;&nbsp;&nbsp; <a href=\"https://api.datacite.org/application/x-research-info-systems/10.71760/ukllc-series-00018\" rel=\"noopener noreferrer\" target=\"_blank\">RIS</a></td>\n",
       "    </tr>\n",
       "    <tr>\n",
       "      <td id=\"T_e991f_row2_col0\" class=\"data row2 col0\" >Owner</td>\n",
       "      <td id=\"T_e991f_row2_col1\" class=\"data row2 col1\" >UCL</td>\n",
       "    </tr>\n",
       "    <tr>\n",
       "      <td id=\"T_e991f_row3_col0\" class=\"data row3 col0\" >Cohort</td>\n",
       "      <td id=\"T_e991f_row3_col1\" class=\"data row3 col1\" >4858</td>\n",
       "    </tr>\n",
       "    <tr>\n",
       "      <td id=\"T_e991f_row4_col0\" class=\"data row4 col0\" >Age at Recruitment</td>\n",
       "      <td id=\"T_e991f_row4_col1\" class=\"data row4 col1\" >40-69 years</td>\n",
       "    </tr>\n",
       "    <tr>\n",
       "      <td id=\"T_e991f_row5_col0\" class=\"data row5 col0\" >Geographical Coverage - Nations</td>\n",
       "      <td id=\"T_e991f_row5_col1\" class=\"data row5 col1\" >England</td>\n",
       "    </tr>\n",
       "    <tr>\n",
       "      <td id=\"T_e991f_row6_col0\" class=\"data row6 col0\" >Geographical Coverage - Regions</td>\n",
       "      <td id=\"T_e991f_row6_col1\" class=\"data row6 col1\" >London - Southall; Brent</td>\n",
       "    </tr>\n",
       "    <tr>\n",
       "      <td id=\"T_e991f_row7_col0\" class=\"data row7 col0\" >Start Date</td>\n",
       "      <td id=\"T_e991f_row7_col1\" class=\"data row7 col1\" >1988</td>\n",
       "    </tr>\n",
       "    <tr>\n",
       "      <td id=\"T_e991f_row8_col0\" class=\"data row8 col0\" >Permitted Linkages</td>\n",
       "      <td id=\"T_e991f_row8_col1\" class=\"data row8 col1\" >See  <a href=\"https://guidebook.ukllc.ac.uk/docs/linkages/lps_linkages\" rel=\"noopener noreferrer\" target=\"_blank\">here</a></td>\n",
       "    </tr>\n",
       "    <tr>\n",
       "      <td id=\"T_e991f_row9_col0\" class=\"data row9 col0\" >Inclusion in Linkages</td>\n",
       "      <td id=\"T_e991f_row9_col1\" class=\"data row9 col1\" >Consent</td>\n",
       "    </tr>\n",
       "    <tr>\n",
       "      <td id=\"T_e991f_row10_col0\" class=\"data row10 col0\" >Cohort Profile</td>\n",
       "      <td id=\"T_e991f_row10_col1\" class=\"data row10 col1\" > <a href=\"https://doi.org/10.1093/ije/dyaa135\" rel=\"noopener noreferrer\" target=\"_blank\">10.1093/ije/dyaa135</a></td>\n",
       "    </tr>\n",
       "    <tr>\n",
       "      <td id=\"T_e991f_row11_col0\" class=\"data row11 col0\" >LPS Homepage</td>\n",
       "      <td id=\"T_e991f_row11_col1\" class=\"data row11 col1\" ><p><a href=\"https://mrc.ukri.org/research/facilities-and-resources-for-researchers/cohort-directory/southall-and-brent-revisited-sabre/\">mrc.ukri.org</a></p></td>\n",
       "    </tr>\n",
       "    <tr>\n",
       "      <td id=\"T_e991f_row12_col0\" class=\"data row12 col0\" >Build a Data Request</td>\n",
       "      <td id=\"T_e991f_row12_col1\" class=\"data row12 col1\" > <a href=\"https://explore.ukllc.ac.uk/\" rel=\"noopener noreferrer\" target=\"_blank\">https://explore.ukllc.ac.uk/</a></td>\n",
       "    </tr>\n",
       "  </tbody>\n",
       "</table>\n"
      ],
      "text/plain": [
       "<pandas.io.formats.style.Styler at 0x231a42f97f0>"
      ]
     },
     "execution_count": 3,
     "metadata": {},
     "output_type": "execute_result"
    }
   ],
   "source": [
    "ss.info_table()"
   ]
  },
  {
   "cell_type": "markdown",
   "id": "850ffb15",
   "metadata": {},
   "source": [
    "## 2. Linkage Rates"
   ]
  },
  {
   "cell_type": "code",
   "execution_count": 4,
   "id": "fe6e26ee",
   "metadata": {
    "execution": {
     "iopub.execute_input": "2025-07-28T20:22:01.429460Z",
     "iopub.status.busy": "2025-07-28T20:22:01.429460Z",
     "iopub.status.idle": "2025-07-28T20:22:01.438383Z",
     "shell.execute_reply": "2025-07-28T20:22:01.436857Z"
    },
    "tags": [
     "remove-input"
    ]
   },
   "outputs": [
    {
     "data": {
      "text/markdown": [
       "Linkage rates will be displayed for SABRE in due course."
      ],
      "text/plain": [
       "<IPython.core.display.Markdown object>"
      ]
     },
     "metadata": {},
     "output_type": "display_data"
    }
   ],
   "source": [
    "ss.linkages_plot()"
   ]
  },
  {
   "cell_type": "markdown",
   "id": "d7a787d7",
   "metadata": {},
   "source": [
    "## 3. Documentation"
   ]
  },
  {
   "cell_type": "code",
   "execution_count": 5,
   "id": "023d5fe2",
   "metadata": {
    "execution": {
     "iopub.execute_input": "2025-07-28T20:22:01.444791Z",
     "iopub.status.busy": "2025-07-28T20:22:01.444791Z",
     "iopub.status.idle": "2025-07-28T20:22:01.454267Z",
     "shell.execute_reply": "2025-07-28T20:22:01.453245Z"
    },
    "tags": [
     "remove-input"
    ]
   },
   "outputs": [
    {
     "data": {
      "text/markdown": [
       "We are currently building a documentation storage system which will host useful documents related to datasets and data owners. We will surface these documents on Guidebook."
      ],
      "text/plain": [
       "<IPython.core.display.Markdown object>"
      ]
     },
     "metadata": {},
     "output_type": "display_data"
    }
   ],
   "source": [
    "ss.documentation()"
   ]
  }
 ],
 "metadata": {
  "kernelspec": {
   "display_name": "jupbook",
   "language": "python",
   "name": "python3"
  },
  "language_info": {
   "codemirror_mode": {
    "name": "ipython",
    "version": 3
   },
   "file_extension": ".py",
   "mimetype": "text/x-python",
   "name": "python",
   "nbconvert_exporter": "python",
   "pygments_lexer": "ipython3",
   "version": "3.13.2"
  }
 },
 "nbformat": 4,
 "nbformat_minor": 5
}
