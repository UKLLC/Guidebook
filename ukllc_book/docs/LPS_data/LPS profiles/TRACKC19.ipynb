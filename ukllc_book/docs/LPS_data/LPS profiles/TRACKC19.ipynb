{
 "cells": [
  {
   "cell_type": "markdown",
   "id": "a1133562",
   "metadata": {},
   "source": [
    "# TRACK-COVID Study"
   ]
  },
  {
   "cell_type": "code",
   "execution_count": null,
   "id": "67688a89",
   "metadata": {
    "tags": [
     "remove-input"
    ]
   },
   "outputs": [],
   "source": [
    "\n",
    "import sys\n",
    "import os\n",
    "sys.path.append(os.path.abspath('../../scripts/'))\n",
    "from data_doc_helper import LPSSource as SS, last_modified\n",
    "ss = SS(\"TRACKC19\")\n",
    "last_modified()\n"
   ]
  },
  {
   "cell_type": "markdown",
   "id": "16a92fb0",
   "metadata": {},
   "source": [
    "## 1. Summary"
   ]
  },
  {
   "cell_type": "code",
   "execution_count": null,
   "id": "e05eb9f6",
   "metadata": {
    "tags": [
     "remove-input"
    ]
   },
   "outputs": [],
   "source": [
    "ss.summary()"
   ]
  },
  {
   "cell_type": "code",
   "execution_count": null,
   "id": "c458e338",
   "metadata": {
    "tags": [
     "remove-input"
    ]
   },
   "outputs": [],
   "source": [
    "ss.info_table()"
   ]
  },
  {
   "cell_type": "markdown",
   "id": "f9f3cc56",
   "metadata": {},
   "source": [
    "## 2. Permitted Linkages"
   ]
  },
  {
   "cell_type": "code",
   "execution_count": null,
   "id": "90e6cc53",
   "metadata": {
    "tags": [
     "remove-input"
    ]
   },
   "outputs": [],
   "source": [
    "ss.linkages_plot()"
   ]
  },
  {
   "cell_type": "markdown",
   "id": "a0b93ddf",
   "metadata": {},
   "source": [
    "## 3. Documentation"
   ]
  },
  {
   "cell_type": "code",
   "execution_count": null,
   "id": "74b05839",
   "metadata": {
    "tags": [
     "remove-input"
    ]
   },
   "outputs": [],
   "source": [
    "ss.documentation()"
   ]
  }
 ],
 "metadata": {},
 "nbformat": 4,
 "nbformat_minor": 5
}
