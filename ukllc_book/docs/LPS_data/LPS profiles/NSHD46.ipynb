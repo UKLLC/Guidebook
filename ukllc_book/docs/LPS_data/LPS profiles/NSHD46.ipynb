{
 "cells": [
  {
   "cell_type": "markdown",
   "id": "2764e0d7",
   "metadata": {},
   "source": [
    "# Medical Research Council (MRC) National Survey of Health and Development (NSHD)"
   ]
  },
  {
   "cell_type": "code",
   "execution_count": null,
   "id": "f3e50dca",
   "metadata": {
    "tags": [
     "remove-input"
    ]
   },
   "outputs": [],
   "source": [
    "\n",
    "import sys\n",
    "import os\n",
    "sys.path.append(os.path.abspath('../../scripts/'))\n",
    "from data_doc_helper import LPSSource as SS, last_modified\n",
    "ss = SS(\"NSHD46\")\n",
    "last_modified()\n"
   ]
  },
  {
   "cell_type": "markdown",
   "id": "9423a8c1",
   "metadata": {},
   "source": [
    "## 1. Summary"
   ]
  },
  {
   "cell_type": "code",
   "execution_count": null,
   "id": "c7e761d8",
   "metadata": {
    "tags": [
     "remove-input"
    ]
   },
   "outputs": [],
   "source": [
    "ss.summary()"
   ]
  },
  {
   "cell_type": "code",
   "execution_count": null,
   "id": "c4cac94a",
   "metadata": {
    "tags": [
     "remove-input"
    ]
   },
   "outputs": [],
   "source": [
    "ss.info_table()"
   ]
  },
  {
   "cell_type": "markdown",
   "id": "856fbfa8",
   "metadata": {},
   "source": [
    "## 2. Linkage Rates"
   ]
  },
  {
   "cell_type": "code",
   "execution_count": null,
   "id": "986d31da",
   "metadata": {
    "tags": [
     "remove-input"
    ]
   },
   "outputs": [],
   "source": [
    "ss.linkages_plot()"
   ]
  },
  {
   "cell_type": "markdown",
   "id": "3fcf6bc6",
   "metadata": {},
   "source": [
    "## 3. Documentation"
   ]
  },
  {
   "cell_type": "code",
   "execution_count": null,
   "id": "18aec29c",
   "metadata": {
    "tags": [
     "remove-input"
    ]
   },
   "outputs": [],
   "source": [
    "ss.documentation()"
   ]
  }
 ],
 "metadata": {
  "language_info": {
   "name": "python"
  }
 },
 "nbformat": 4,
 "nbformat_minor": 5
}
