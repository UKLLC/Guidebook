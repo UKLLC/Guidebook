{
 "cells": [
  {
   "cell_type": "markdown",
   "id": "74cdbf10",
   "metadata": {},
   "source": [
    "# UKHLS COVID-19 Survey, Baseline (UKHLS)"
   ]
  },
  {
   "cell_type": "code",
   "execution_count": 1,
   "id": "7f22f6df",
   "metadata": {
    "execution": {
     "iopub.execute_input": "2025-07-18T10:46:52.713776Z",
     "iopub.status.busy": "2025-07-18T10:46:52.713776Z",
     "iopub.status.idle": "2025-07-18T10:47:00.259049Z",
     "shell.execute_reply": "2025-07-18T10:47:00.257214Z"
    },
    "tags": [
     "remove-input"
    ]
   },
   "outputs": [
    {
     "data": {
      "text/markdown": [
       ">Last modified: 28 Jul 2025"
      ],
      "text/plain": [
       "<IPython.core.display.Markdown object>"
      ]
     },
     "metadata": {},
     "output_type": "display_data"
    }
   ],
   "source": [
    "\n",
    "import sys\n",
    "import os\n",
    "sys.path.append(os.path.abspath('../../../../scripts/'))\n",
    "from data_doc_helper import LPSDataSet as DS, last_modified\n",
    "API_KEY = os.environ['FASTAPI_KEY']\n",
    "ds = DS(\"UKHLS\", \"xbaseline\")\n",
    "last_modified()\n"
   ]
  },
  {
   "cell_type": "markdown",
   "id": "1adbe263",
   "metadata": {},
   "source": [
    "## 1. Summary"
   ]
  },
  {
   "cell_type": "code",
   "execution_count": 2,
   "id": "29c17908",
   "metadata": {
    "execution": {
     "iopub.execute_input": "2025-07-18T10:47:00.263047Z",
     "iopub.status.busy": "2025-07-18T10:47:00.262047Z",
     "iopub.status.idle": "2025-07-18T10:47:00.271563Z",
     "shell.execute_reply": "2025-07-18T10:47:00.270556Z"
    },
    "tags": [
     "remove-input"
    ]
   },
   "outputs": [
    {
     "data": {
      "text/markdown": [
       "The COVID-19 surveys asked a series of questions about a January-February 2020 pre-pandemic “baseline”. These questions, which cover aspects of health, employment and finances were only asked of respondents once: the first time they completed a full COVID-19 survey. This means that baseline information for the sample of respondents is spread across different data files, depending on when the respondent first completed the survey. To simplify analyses, we have collected the responses to these questions in a single file, “xbaseline”."
      ],
      "text/plain": [
       "<IPython.core.display.Markdown object>"
      ]
     },
     "metadata": {},
     "output_type": "display_data"
    }
   ],
   "source": [
    "ds.summary()"
   ]
  },
  {
   "cell_type": "code",
   "execution_count": 3,
   "id": "91083878",
   "metadata": {
    "execution": {
     "iopub.execute_input": "2025-07-18T10:47:00.276563Z",
     "iopub.status.busy": "2025-07-18T10:47:00.276563Z",
     "iopub.status.idle": "2025-07-18T10:47:01.323848Z",
     "shell.execute_reply": "2025-07-18T10:47:01.321847Z"
    },
    "tags": [
     "remove-input"
    ]
   },
   "outputs": [
    {
     "data": {
      "text/html": [
       "<style type=\"text/css\">\n",
       "#T_7fa72 th {\n",
       "  text-align: left;\n",
       "}\n",
       "#T_7fa72_row0_col0, #T_7fa72_row0_col1, #T_7fa72_row1_col0, #T_7fa72_row1_col1, #T_7fa72_row2_col0, #T_7fa72_row2_col1, #T_7fa72_row3_col0, #T_7fa72_row3_col1, #T_7fa72_row4_col0, #T_7fa72_row4_col1, #T_7fa72_row5_col0, #T_7fa72_row5_col1, #T_7fa72_row6_col0, #T_7fa72_row6_col1, #T_7fa72_row7_col0, #T_7fa72_row7_col1, #T_7fa72_row8_col0, #T_7fa72_row8_col1, #T_7fa72_row9_col0, #T_7fa72_row9_col1, #T_7fa72_row10_col0, #T_7fa72_row10_col1, #T_7fa72_row11_col0, #T_7fa72_row11_col1, #T_7fa72_row12_col0, #T_7fa72_row12_col1 {\n",
       "  text-align: left;\n",
       "}\n",
       "</style>\n",
       "<table id=\"T_7fa72\" style=\"font-size: 14px\">\n",
       "  <thead>\n",
       "    <tr>\n",
       "      <th id=\"T_7fa72_level0_col0\" class=\"col_heading level0 col0\" >Dataset Descriptor</th>\n",
       "      <th id=\"T_7fa72_level0_col1\" class=\"col_heading level0 col1\" >Dataset-specific Information</th>\n",
       "    </tr>\n",
       "  </thead>\n",
       "  <tbody>\n",
       "    <tr>\n",
       "      <td id=\"T_7fa72_row0_col0\" class=\"data row0 col0\" >Name of Dataset in TRE</td>\n",
       "      <td id=\"T_7fa72_row0_col1\" class=\"data row0 col1\" >UKHLS_xbaseline</td>\n",
       "    </tr>\n",
       "    <tr>\n",
       "      <td id=\"T_7fa72_row1_col0\" class=\"data row1 col0\" >Citation (APA)</td>\n",
       "      <td id=\"T_7fa72_row1_col1\" class=\"data row1 col1\" >University of Essex, Institute for Social and Economic Research. (2023). <i>Understanding Society, the UK Household Longitudinal Survey & British Household Panel Survey (UKHLS): UKHLS COVID-19 Survey, Baseline.</i> UK Longitudinal Linkage Collaboration (UK LLC).  <a href=\"https://doi.org/10.71760/ukllc-dataset-00357-06\" rel=\"noopener noreferrer\" target=\"_blank\">https://doi.org/10.71760/ukllc-dataset-00357-06</a></td>\n",
       "    </tr>\n",
       "    <tr>\n",
       "      <td id=\"T_7fa72_row2_col0\" class=\"data row2 col0\" >Download Citation</td>\n",
       "      <td id=\"T_7fa72_row2_col1\" class=\"data row2 col1\" > <a href=\"https://api.datacite.org/application/vnd.citationstyles.csl+json/10.71760/ukllc-dataset-00357-06\" rel=\"noopener noreferrer\" target=\"_blank\">Citeproc JSON</a>&nbsp;&nbsp;&nbsp;&nbsp; <a href=\"https://api.datacite.org/application/x-bibtex/10.71760/ukllc-dataset-00357-06\" rel=\"noopener noreferrer\" target=\"_blank\">BibTeX</a>&nbsp;&nbsp;&nbsp;&nbsp; <a href=\"https://api.datacite.org/application/x-research-info-systems/10.71760/ukllc-dataset-00357-06\" rel=\"noopener noreferrer\" target=\"_blank\">RIS</a></td>\n",
       "    </tr>\n",
       "    <tr>\n",
       "      <td id=\"T_7fa72_row3_col0\" class=\"data row3 col0\" >Series</td>\n",
       "      <td id=\"T_7fa72_row3_col1\" class=\"data row3 col1\" > <a href=\"https://guidebook.ukllc.ac.uk/docs/lps_data/lps%20profiles/UKHLS\">Understanding Society, the UK Household Longitudinal Survey & British Household Panel Survey (UKHLS)</a></td>\n",
       "    </tr>\n",
       "    <tr>\n",
       "      <td id=\"T_7fa72_row4_col0\" class=\"data row4 col0\" >Owner</td>\n",
       "      <td id=\"T_7fa72_row4_col1\" class=\"data row4 col1\" >University of Essex</td>\n",
       "    </tr>\n",
       "    <tr>\n",
       "      <td id=\"T_7fa72_row5_col0\" class=\"data row5 col0\" >Temporal Coverage</td>\n",
       "      <td id=\"T_7fa72_row5_col1\" class=\"data row5 col1\" >04/2020 - 04/2020</td>\n",
       "    </tr>\n",
       "    <tr>\n",
       "      <td id=\"T_7fa72_row6_col0\" class=\"data row6 col0\" >Keywords</td>\n",
       "      <td id=\"T_7fa72_row6_col1\" class=\"data row6 col1\" >Health,Employment,Finances</td>\n",
       "    </tr>\n",
       "    <tr>\n",
       "      <td id=\"T_7fa72_row7_col0\" class=\"data row7 col0\" >Participants Invited</td>\n",
       "      <td id=\"T_7fa72_row7_col1\" class=\"data row7 col1\" >8880</td>\n",
       "    </tr>\n",
       "    <tr>\n",
       "      <td id=\"T_7fa72_row8_col0\" class=\"data row8 col0\" >Participant Count</td>\n",
       "      <td id=\"T_7fa72_row8_col1\" class=\"data row8 col1\" >8880</td>\n",
       "    </tr>\n",
       "    <tr>\n",
       "      <td id=\"T_7fa72_row9_col0\" class=\"data row9 col0\" >Number of variables</td>\n",
       "      <td id=\"T_7fa72_row9_col1\" class=\"data row9 col1\" >77</td>\n",
       "    </tr>\n",
       "    <tr>\n",
       "      <td id=\"T_7fa72_row10_col0\" class=\"data row10 col0\" >Number of observations</td>\n",
       "      <td id=\"T_7fa72_row10_col1\" class=\"data row10 col1\" >8390</td>\n",
       "    </tr>\n",
       "    <tr>\n",
       "      <td id=\"T_7fa72_row11_col0\" class=\"data row11 col0\" >Specific Restrictions to Data Use</td>\n",
       "      <td id=\"T_7fa72_row11_col1\" class=\"data row11 col1\" >None</td>\n",
       "    </tr>\n",
       "    <tr>\n",
       "      <td id=\"T_7fa72_row12_col0\" class=\"data row12 col0\" >Build a Data Request</td>\n",
       "      <td id=\"T_7fa72_row12_col1\" class=\"data row12 col1\" > <a href=\"https://explore.ukllc.ac.uk/\" rel=\"noopener noreferrer\" target=\"_blank\">https://explore.ukllc.ac.uk/</a></td>\n",
       "    </tr>\n",
       "  </tbody>\n",
       "</table>\n"
      ],
      "text/plain": [
       "<pandas.io.formats.style.Styler at 0x22557f26e40>"
      ]
     },
     "execution_count": 3,
     "metadata": {},
     "output_type": "execute_result"
    }
   ],
   "source": [
    "ds.info_table()"
   ]
  },
  {
   "cell_type": "markdown",
   "id": "9872e8b0",
   "metadata": {},
   "source": [
    "## 2. Version History"
   ]
  },
  {
   "cell_type": "code",
   "execution_count": 4,
   "id": "a263ede3",
   "metadata": {
    "execution": {
     "iopub.execute_input": "2025-07-18T10:47:01.328847Z",
     "iopub.status.busy": "2025-07-18T10:47:01.327846Z",
     "iopub.status.idle": "2025-07-18T10:47:03.804337Z",
     "shell.execute_reply": "2025-07-18T10:47:03.802976Z"
    },
    "tags": [
     "remove-input"
    ]
   },
   "outputs": [
    {
     "data": {
      "text/html": [
       "<style type=\"text/css\">\n",
       "#T_8a620 th {\n",
       "  text-align: left;\n",
       "}\n",
       "#T_8a620_row0_col0, #T_8a620_row0_col1, #T_8a620_row0_col2, #T_8a620_row0_col3, #T_8a620_row0_col4, #T_8a620_row1_col0, #T_8a620_row1_col1, #T_8a620_row1_col2, #T_8a620_row1_col3, #T_8a620_row1_col4, #T_8a620_row2_col0, #T_8a620_row2_col1, #T_8a620_row2_col2, #T_8a620_row2_col3, #T_8a620_row2_col4, #T_8a620_row3_col0, #T_8a620_row3_col1, #T_8a620_row3_col2, #T_8a620_row3_col3, #T_8a620_row3_col4, #T_8a620_row4_col0, #T_8a620_row4_col1, #T_8a620_row4_col2, #T_8a620_row4_col3, #T_8a620_row4_col4 {\n",
       "  text-align: left;\n",
       "}\n",
       "</style>\n",
       "<table id=\"T_8a620\" style=\"font-size: 14px\">\n",
       "  <thead>\n",
       "    <tr>\n",
       "      <th id=\"T_8a620_level0_col0\" class=\"col_heading level0 col0\" >Version</th>\n",
       "      <th id=\"T_8a620_level0_col1\" class=\"col_heading level0 col1\" >2</th>\n",
       "      <th id=\"T_8a620_level0_col2\" class=\"col_heading level0 col2\" >3</th>\n",
       "      <th id=\"T_8a620_level0_col3\" class=\"col_heading level0 col3\" >5</th>\n",
       "      <th id=\"T_8a620_level0_col4\" class=\"col_heading level0 col4\" >6</th>\n",
       "    </tr>\n",
       "  </thead>\n",
       "  <tbody>\n",
       "    <tr>\n",
       "      <td id=\"T_8a620_row0_col0\" class=\"data row0 col0\" >Version Date</td>\n",
       "      <td id=\"T_8a620_row0_col1\" class=\"data row0 col1\" >18 Jan 2022</td>\n",
       "      <td id=\"T_8a620_row0_col2\" class=\"data row0 col2\" >31 May 2022</td>\n",
       "      <td id=\"T_8a620_row0_col3\" class=\"data row0 col3\" >21 Feb 2023</td>\n",
       "      <td id=\"T_8a620_row0_col4\" class=\"data row0 col4\" >14 Jun 2023</td>\n",
       "    </tr>\n",
       "    <tr>\n",
       "      <td id=\"T_8a620_row1_col0\" class=\"data row1 col0\" >Number of Variables</td>\n",
       "      <td id=\"T_8a620_row1_col1\" class=\"data row1 col1\" >77</td>\n",
       "      <td id=\"T_8a620_row1_col2\" class=\"data row1 col2\" >77</td>\n",
       "      <td id=\"T_8a620_row1_col3\" class=\"data row1 col3\" >77</td>\n",
       "      <td id=\"T_8a620_row1_col4\" class=\"data row1 col4\" >77</td>\n",
       "    </tr>\n",
       "    <tr>\n",
       "      <td id=\"T_8a620_row2_col0\" class=\"data row2 col0\" >Number of Observations</td>\n",
       "      <td id=\"T_8a620_row2_col1\" class=\"data row2 col1\" >8880</td>\n",
       "      <td id=\"T_8a620_row2_col2\" class=\"data row2 col2\" >8873</td>\n",
       "      <td id=\"T_8a620_row2_col3\" class=\"data row2 col3\" >8851</td>\n",
       "      <td id=\"T_8a620_row2_col4\" class=\"data row2 col4\" >8390</td>\n",
       "    </tr>\n",
       "    <tr>\n",
       "      <td id=\"T_8a620_row3_col0\" class=\"data row3 col0\" >DOI</td>\n",
       "      <td id=\"T_8a620_row3_col1\" class=\"data row3 col1\" > <a href=\"https://doi.org/10.71760/ukllc-dataset-00357-02\" rel=\"noopener noreferrer\" target=\"_blank\">10.71760/ukllc-dataset-00357-02</a></td>\n",
       "      <td id=\"T_8a620_row3_col2\" class=\"data row3 col2\" > <a href=\"https://doi.org/10.71760/ukllc-dataset-00357-03\" rel=\"noopener noreferrer\" target=\"_blank\">10.71760/ukllc-dataset-00357-03</a></td>\n",
       "      <td id=\"T_8a620_row3_col3\" class=\"data row3 col3\" > <a href=\"https://doi.org/10.71760/ukllc-dataset-00357-05\" rel=\"noopener noreferrer\" target=\"_blank\">10.71760/ukllc-dataset-00357-05</a></td>\n",
       "      <td id=\"T_8a620_row3_col4\" class=\"data row3 col4\" > <a href=\"https://doi.org/10.71760/ukllc-dataset-00357-06\" rel=\"noopener noreferrer\" target=\"_blank\">10.71760/ukllc-dataset-00357-06</a></td>\n",
       "    </tr>\n",
       "    <tr>\n",
       "      <td id=\"T_8a620_row4_col0\" class=\"data row4 col0\" >Change Log</td>\n",
       "      <td id=\"T_8a620_row4_col1\" class=\"data row4 col1\" > <a href=\"https://api.test.datacite.org/dois/10.71760/ukllc-dataset-00357-02/activities\" rel=\"noopener noreferrer\" target=\"_blank\">10.71760/ukllc-dataset-00357-02/activities</a></td>\n",
       "      <td id=\"T_8a620_row4_col2\" class=\"data row4 col2\" > <a href=\"https://api.test.datacite.org/dois/10.71760/ukllc-dataset-00357-03/activities\" rel=\"noopener noreferrer\" target=\"_blank\">10.71760/ukllc-dataset-00357-03/activities</a></td>\n",
       "      <td id=\"T_8a620_row4_col3\" class=\"data row4 col3\" > <a href=\"https://api.test.datacite.org/dois/10.71760/ukllc-dataset-00357-05/activities\" rel=\"noopener noreferrer\" target=\"_blank\">10.71760/ukllc-dataset-00357-05/activities</a></td>\n",
       "      <td id=\"T_8a620_row4_col4\" class=\"data row4 col4\" > <a href=\"https://api.test.datacite.org/dois/10.71760/ukllc-dataset-00357-06/activities\" rel=\"noopener noreferrer\" target=\"_blank\">10.71760/ukllc-dataset-00357-06/activities</a></td>\n",
       "    </tr>\n",
       "  </tbody>\n",
       "</table>\n"
      ],
      "text/plain": [
       "<pandas.io.formats.style.Styler at 0x22557f8da90>"
      ]
     },
     "execution_count": 4,
     "metadata": {},
     "output_type": "execute_result"
    }
   ],
   "source": [
    "ds.version_history()"
   ]
  },
  {
   "cell_type": "markdown",
   "id": "831fe356",
   "metadata": {},
   "source": [
    "## 3. Documentation"
   ]
  },
  {
   "cell_type": "code",
   "execution_count": 5,
   "id": "f6471d8d",
   "metadata": {
    "execution": {
     "iopub.execute_input": "2025-07-18T10:47:03.809576Z",
     "iopub.status.busy": "2025-07-18T10:47:03.809576Z",
     "iopub.status.idle": "2025-07-18T10:47:03.818214Z",
     "shell.execute_reply": "2025-07-18T10:47:03.816721Z"
    },
    "tags": [
     "remove-input"
    ]
   },
   "outputs": [
    {
     "data": {
      "text/markdown": [
       "We are currently building a documentation storage system which will host useful documents related to datasets and data owners. We will surface these documents on Guidebook."
      ],
      "text/plain": [
       "<IPython.core.display.Markdown object>"
      ]
     },
     "metadata": {},
     "output_type": "display_data"
    }
   ],
   "source": [
    "ds.documentation()"
   ]
  },
  {
   "cell_type": "markdown",
   "id": "dcbb3e3e",
   "metadata": {},
   "source": [
    "## 4. Useful Syntax"
   ]
  },
  {
   "cell_type": "code",
   "execution_count": 6,
   "id": "25088ed8",
   "metadata": {
    "execution": {
     "iopub.execute_input": "2025-07-18T10:47:03.821210Z",
     "iopub.status.busy": "2025-07-18T10:47:03.821210Z",
     "iopub.status.idle": "2025-07-18T10:47:03.828058Z",
     "shell.execute_reply": "2025-07-18T10:47:03.827052Z"
    },
    "tags": [
     "remove-input"
    ]
   },
   "outputs": [
    {
     "data": {
      "text/markdown": [
       "Below we will include syntax that may be helpful to other researchers in the UK LLC TRE. For longer scripts, we will include a snippet of the code plus a link to Git where you can find the full scripts."
      ],
      "text/plain": [
       "<IPython.core.display.Markdown object>"
      ]
     },
     "metadata": {},
     "output_type": "display_data"
    }
   ],
   "source": [
    "ds.useful_syntax()"
   ]
  }
 ],
 "metadata": {
  "kernelspec": {
   "display_name": "jupbook",
   "language": "python",
   "name": "python3"
  },
  "language_info": {
   "codemirror_mode": {
    "name": "ipython",
    "version": 3
   },
   "file_extension": ".py",
   "mimetype": "text/x-python",
   "name": "python",
   "nbconvert_exporter": "python",
   "pygments_lexer": "ipython3",
   "version": "3.13.2"
  }
 },
 "nbformat": 4,
 "nbformat_minor": 5
}
