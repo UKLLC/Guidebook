{
 "cells": [
  {
   "cell_type": "markdown",
   "id": "4d4ba431",
   "metadata": {},
   "source": [
    "# Understanding Society (UKHLS), Wave 4 (UKHLS)"
   ]
  },
  {
   "cell_type": "code",
   "execution_count": 1,
   "id": "9873c69e",
   "metadata": {
    "execution": {
     "iopub.execute_input": "2025-07-28T20:50:15.315465Z",
     "iopub.status.busy": "2025-07-28T20:50:15.315465Z",
     "iopub.status.idle": "2025-07-28T20:50:30.126756Z",
     "shell.execute_reply": "2025-07-28T20:50:30.124752Z"
    },
    "tags": [
     "remove-input"
    ]
   },
   "outputs": [
    {
     "data": {
      "text/markdown": [
       ">Last modified: 28 Jul 2025"
      ],
      "text/plain": [
       "<IPython.core.display.Markdown object>"
      ]
     },
     "metadata": {},
     "output_type": "display_data"
    }
   ],
   "source": [
    "\n",
    "import sys\n",
    "import os\n",
    "sys.path.append(os.path.abspath('../../../../scripts/'))\n",
    "from data_doc_helper import LPSDataSet as DS, last_modified\n",
    "API_KEY = os.environ['FASTAPI_KEY']\n",
    "ds = DS(\"UKHLS\", \"d_indresp\")\n",
    "last_modified()\n"
   ]
  },
  {
   "cell_type": "markdown",
   "id": "e3c21abb",
   "metadata": {},
   "source": [
    "## 1. Summary"
   ]
  },
  {
   "cell_type": "code",
   "execution_count": 2,
   "id": "8a9c2a43",
   "metadata": {
    "execution": {
     "iopub.execute_input": "2025-07-28T20:50:30.155557Z",
     "iopub.status.busy": "2025-07-28T20:50:30.152556Z",
     "iopub.status.idle": "2025-07-28T20:50:30.177775Z",
     "shell.execute_reply": "2025-07-28T20:50:30.176756Z"
    },
    "tags": [
     "remove-input"
    ]
   },
   "outputs": [
    {
     "data": {
      "text/markdown": [
       "Annual UKHLS household and individual questionnaire."
      ],
      "text/plain": [
       "<IPython.core.display.Markdown object>"
      ]
     },
     "metadata": {},
     "output_type": "display_data"
    }
   ],
   "source": [
    "ds.summary()"
   ]
  },
  {
   "cell_type": "code",
   "execution_count": 3,
   "id": "3f46e40f",
   "metadata": {
    "execution": {
     "iopub.execute_input": "2025-07-28T20:50:30.194136Z",
     "iopub.status.busy": "2025-07-28T20:50:30.191138Z",
     "iopub.status.idle": "2025-07-28T20:50:33.457810Z",
     "shell.execute_reply": "2025-07-28T20:50:33.456795Z"
    },
    "tags": [
     "remove-input"
    ]
   },
   "outputs": [
    {
     "data": {
      "text/html": [
       "<style type=\"text/css\">\n",
       "#T_91d10 th {\n",
       "  text-align: left;\n",
       "}\n",
       "#T_91d10_row0_col0, #T_91d10_row0_col1, #T_91d10_row1_col0, #T_91d10_row1_col1, #T_91d10_row2_col0, #T_91d10_row2_col1, #T_91d10_row3_col0, #T_91d10_row3_col1, #T_91d10_row4_col0, #T_91d10_row4_col1, #T_91d10_row5_col0, #T_91d10_row5_col1, #T_91d10_row6_col0, #T_91d10_row6_col1, #T_91d10_row7_col0, #T_91d10_row7_col1, #T_91d10_row8_col0, #T_91d10_row8_col1, #T_91d10_row9_col0, #T_91d10_row9_col1, #T_91d10_row10_col0, #T_91d10_row10_col1, #T_91d10_row11_col0, #T_91d10_row11_col1, #T_91d10_row12_col0, #T_91d10_row12_col1 {\n",
       "  text-align: left;\n",
       "}\n",
       "</style>\n",
       "<table id=\"T_91d10\" style=\"font-size: 14px\">\n",
       "  <thead>\n",
       "    <tr>\n",
       "      <th id=\"T_91d10_level0_col0\" class=\"col_heading level0 col0\" >Dataset Descriptor</th>\n",
       "      <th id=\"T_91d10_level0_col1\" class=\"col_heading level0 col1\" >Dataset-specific Information</th>\n",
       "    </tr>\n",
       "  </thead>\n",
       "  <tbody>\n",
       "    <tr>\n",
       "      <td id=\"T_91d10_row0_col0\" class=\"data row0 col0\" >Name of Dataset in TRE</td>\n",
       "      <td id=\"T_91d10_row0_col1\" class=\"data row0 col1\" >UKHLS_d_indresp</td>\n",
       "    </tr>\n",
       "    <tr>\n",
       "      <td id=\"T_91d10_row1_col0\" class=\"data row1 col0\" >Citation (APA)</td>\n",
       "      <td id=\"T_91d10_row1_col1\" class=\"data row1 col1\" >University of Essex, Institute for Social and Economic Research. (2023). <i>Understanding Society, the UK Household Longitudinal Survey & British Household Panel Survey (UKHLS): Understanding Society (UKHLS), Wave 4.</i> UK Longitudinal Linkage Collaboration (UK LLC).  <a href=\"https://doi.org/10.71760/ukllc-dataset-00348-06\" rel=\"noopener noreferrer\" target=\"_blank\">https://doi.org/10.71760/ukllc-dataset-00348-06</a></td>\n",
       "    </tr>\n",
       "    <tr>\n",
       "      <td id=\"T_91d10_row2_col0\" class=\"data row2 col0\" >Download Citation</td>\n",
       "      <td id=\"T_91d10_row2_col1\" class=\"data row2 col1\" > <a href=\"https://api.datacite.org/application/vnd.citationstyles.csl+json/10.71760/ukllc-dataset-00348-06\" rel=\"noopener noreferrer\" target=\"_blank\">Citeproc JSON</a>&nbsp;&nbsp;&nbsp;&nbsp; <a href=\"https://api.datacite.org/application/x-bibtex/10.71760/ukllc-dataset-00348-06\" rel=\"noopener noreferrer\" target=\"_blank\">BibTeX</a>&nbsp;&nbsp;&nbsp;&nbsp; <a href=\"https://api.datacite.org/application/x-research-info-systems/10.71760/ukllc-dataset-00348-06\" rel=\"noopener noreferrer\" target=\"_blank\">RIS</a></td>\n",
       "    </tr>\n",
       "    <tr>\n",
       "      <td id=\"T_91d10_row3_col0\" class=\"data row3 col0\" >Series</td>\n",
       "      <td id=\"T_91d10_row3_col1\" class=\"data row3 col1\" > <a href=\"https://guidebook.ukllc.ac.uk/docs/lps_data/lps%20profiles/UKHLS\">Understanding Society, the UK Household Longitudinal Survey & British Household Panel Survey (UKHLS)</a></td>\n",
       "    </tr>\n",
       "    <tr>\n",
       "      <td id=\"T_91d10_row4_col0\" class=\"data row4 col0\" >Owner</td>\n",
       "      <td id=\"T_91d10_row4_col1\" class=\"data row4 col1\" >University of Essex</td>\n",
       "    </tr>\n",
       "    <tr>\n",
       "      <td id=\"T_91d10_row5_col0\" class=\"data row5 col0\" >Temporal Coverage</td>\n",
       "      <td id=\"T_91d10_row5_col1\" class=\"data row5 col1\" >01/2012 - 06/2014</td>\n",
       "    </tr>\n",
       "    <tr>\n",
       "      <td id=\"T_91d10_row6_col0\" class=\"data row6 col0\" >Keywords</td>\n",
       "      <td id=\"T_91d10_row6_col1\" class=\"data row6 col1\" >Household composition,Employment,Income,Health,Family,Education,Civic participation</td>\n",
       "    </tr>\n",
       "    <tr>\n",
       "      <td id=\"T_91d10_row7_col0\" class=\"data row7 col0\" >Participants Invited</td>\n",
       "      <td id=\"T_91d10_row7_col1\" class=\"data row7 col1\" >7704</td>\n",
       "    </tr>\n",
       "    <tr>\n",
       "      <td id=\"T_91d10_row8_col0\" class=\"data row8 col0\" >Participant Count</td>\n",
       "      <td id=\"T_91d10_row8_col1\" class=\"data row8 col1\" >7704</td>\n",
       "    </tr>\n",
       "    <tr>\n",
       "      <td id=\"T_91d10_row9_col0\" class=\"data row9 col0\" >Number of variables</td>\n",
       "      <td id=\"T_91d10_row9_col1\" class=\"data row9 col1\" >2096</td>\n",
       "    </tr>\n",
       "    <tr>\n",
       "      <td id=\"T_91d10_row10_col0\" class=\"data row10 col0\" >Number of observations</td>\n",
       "      <td id=\"T_91d10_row10_col1\" class=\"data row10 col1\" >7252</td>\n",
       "    </tr>\n",
       "    <tr>\n",
       "      <td id=\"T_91d10_row11_col0\" class=\"data row11 col0\" >Specific Restrictions to Data Use</td>\n",
       "      <td id=\"T_91d10_row11_col1\" class=\"data row11 col1\" >None</td>\n",
       "    </tr>\n",
       "    <tr>\n",
       "      <td id=\"T_91d10_row12_col0\" class=\"data row12 col0\" >Build a Data Request</td>\n",
       "      <td id=\"T_91d10_row12_col1\" class=\"data row12 col1\" > <a href=\"https://explore.ukllc.ac.uk/\" rel=\"noopener noreferrer\" target=\"_blank\">https://explore.ukllc.ac.uk/</a></td>\n",
       "    </tr>\n",
       "  </tbody>\n",
       "</table>\n"
      ],
      "text/plain": [
       "<pandas.io.formats.style.Styler at 0x211e23b00b0>"
      ]
     },
     "execution_count": 3,
     "metadata": {},
     "output_type": "execute_result"
    }
   ],
   "source": [
    "ds.info_table()"
   ]
  },
  {
   "cell_type": "markdown",
   "id": "11be8f2c",
   "metadata": {},
   "source": [
    "## 2. Version History"
   ]
  },
  {
   "cell_type": "code",
   "execution_count": 4,
   "id": "be786121",
   "metadata": {
    "execution": {
     "iopub.execute_input": "2025-07-28T20:50:33.465802Z",
     "iopub.status.busy": "2025-07-28T20:50:33.464801Z",
     "iopub.status.idle": "2025-07-28T20:50:38.913783Z",
     "shell.execute_reply": "2025-07-28T20:50:38.913783Z"
    },
    "tags": [
     "remove-input"
    ]
   },
   "outputs": [
    {
     "data": {
      "text/html": [
       "<style type=\"text/css\">\n",
       "#T_68cdb th {\n",
       "  text-align: left;\n",
       "}\n",
       "#T_68cdb_row0_col0, #T_68cdb_row0_col1, #T_68cdb_row0_col2, #T_68cdb_row0_col3, #T_68cdb_row1_col0, #T_68cdb_row1_col1, #T_68cdb_row1_col2, #T_68cdb_row1_col3, #T_68cdb_row2_col0, #T_68cdb_row2_col1, #T_68cdb_row2_col2, #T_68cdb_row2_col3, #T_68cdb_row3_col0, #T_68cdb_row3_col1, #T_68cdb_row3_col2, #T_68cdb_row3_col3, #T_68cdb_row4_col0, #T_68cdb_row4_col1, #T_68cdb_row4_col2, #T_68cdb_row4_col3 {\n",
       "  text-align: left;\n",
       "}\n",
       "</style>\n",
       "<table id=\"T_68cdb\" style=\"font-size: 14px\">\n",
       "  <thead>\n",
       "    <tr>\n",
       "      <th id=\"T_68cdb_level0_col0\" class=\"col_heading level0 col0\" >Version</th>\n",
       "      <th id=\"T_68cdb_level0_col1\" class=\"col_heading level0 col1\" >3</th>\n",
       "      <th id=\"T_68cdb_level0_col2\" class=\"col_heading level0 col2\" >5</th>\n",
       "      <th id=\"T_68cdb_level0_col3\" class=\"col_heading level0 col3\" >6</th>\n",
       "    </tr>\n",
       "  </thead>\n",
       "  <tbody>\n",
       "    <tr>\n",
       "      <td id=\"T_68cdb_row0_col0\" class=\"data row0 col0\" >Version Date</td>\n",
       "      <td id=\"T_68cdb_row0_col1\" class=\"data row0 col1\" >31 May 2022</td>\n",
       "      <td id=\"T_68cdb_row0_col2\" class=\"data row0 col2\" >21 Feb 2023</td>\n",
       "      <td id=\"T_68cdb_row0_col3\" class=\"data row0 col3\" >14 Jun 2023</td>\n",
       "    </tr>\n",
       "    <tr>\n",
       "      <td id=\"T_68cdb_row1_col0\" class=\"data row1 col0\" >Number of Variables</td>\n",
       "      <td id=\"T_68cdb_row1_col1\" class=\"data row1 col1\" >2099</td>\n",
       "      <td id=\"T_68cdb_row1_col2\" class=\"data row1 col2\" >2099</td>\n",
       "      <td id=\"T_68cdb_row1_col3\" class=\"data row1 col3\" >2099</td>\n",
       "    </tr>\n",
       "    <tr>\n",
       "      <td id=\"T_68cdb_row2_col0\" class=\"data row2 col0\" >Number of Observations</td>\n",
       "      <td id=\"T_68cdb_row2_col1\" class=\"data row2 col1\" >7704</td>\n",
       "      <td id=\"T_68cdb_row2_col2\" class=\"data row2 col2\" >7627</td>\n",
       "      <td id=\"T_68cdb_row2_col3\" class=\"data row2 col3\" >7252</td>\n",
       "    </tr>\n",
       "    <tr>\n",
       "      <td id=\"T_68cdb_row3_col0\" class=\"data row3 col0\" >DOI</td>\n",
       "      <td id=\"T_68cdb_row3_col1\" class=\"data row3 col1\" > <a href=\"https://doi.org/10.71760/ukllc-dataset-00348-03\" rel=\"noopener noreferrer\" target=\"_blank\">10.71760/ukllc-dataset-00348-03</a></td>\n",
       "      <td id=\"T_68cdb_row3_col2\" class=\"data row3 col2\" > <a href=\"https://doi.org/10.71760/ukllc-dataset-00348-05\" rel=\"noopener noreferrer\" target=\"_blank\">10.71760/ukllc-dataset-00348-05</a></td>\n",
       "      <td id=\"T_68cdb_row3_col3\" class=\"data row3 col3\" > <a href=\"https://doi.org/10.71760/ukllc-dataset-00348-06\" rel=\"noopener noreferrer\" target=\"_blank\">10.71760/ukllc-dataset-00348-06</a></td>\n",
       "    </tr>\n",
       "    <tr>\n",
       "      <td id=\"T_68cdb_row4_col0\" class=\"data row4 col0\" >Change Log</td>\n",
       "      <td id=\"T_68cdb_row4_col1\" class=\"data row4 col1\" > <a href=\"https://api.test.datacite.org/dois/10.71760/ukllc-dataset-00348-03/activities\" rel=\"noopener noreferrer\" target=\"_blank\">10.71760/ukllc-dataset-00348-03/activities</a></td>\n",
       "      <td id=\"T_68cdb_row4_col2\" class=\"data row4 col2\" > <a href=\"https://api.test.datacite.org/dois/10.71760/ukllc-dataset-00348-05/activities\" rel=\"noopener noreferrer\" target=\"_blank\">10.71760/ukllc-dataset-00348-05/activities</a></td>\n",
       "      <td id=\"T_68cdb_row4_col3\" class=\"data row4 col3\" > <a href=\"https://api.test.datacite.org/dois/10.71760/ukllc-dataset-00348-06/activities\" rel=\"noopener noreferrer\" target=\"_blank\">10.71760/ukllc-dataset-00348-06/activities</a></td>\n",
       "    </tr>\n",
       "  </tbody>\n",
       "</table>\n"
      ],
      "text/plain": [
       "<pandas.io.formats.style.Styler at 0x211e41d7ce0>"
      ]
     },
     "execution_count": 4,
     "metadata": {},
     "output_type": "execute_result"
    }
   ],
   "source": [
    "ds.version_history()"
   ]
  },
  {
   "cell_type": "markdown",
   "id": "7961a8d2",
   "metadata": {},
   "source": [
    "## 3. Documentation"
   ]
  },
  {
   "cell_type": "code",
   "execution_count": 5,
   "id": "2143489b",
   "metadata": {
    "execution": {
     "iopub.execute_input": "2025-07-28T20:50:38.919720Z",
     "iopub.status.busy": "2025-07-28T20:50:38.918718Z",
     "iopub.status.idle": "2025-07-28T20:50:38.927867Z",
     "shell.execute_reply": "2025-07-28T20:50:38.925859Z"
    },
    "tags": [
     "remove-input"
    ]
   },
   "outputs": [
    {
     "data": {
      "text/markdown": [
       "We are currently building a documentation storage system which will host useful documents related to datasets and data owners. We will surface these documents on Guidebook."
      ],
      "text/plain": [
       "<IPython.core.display.Markdown object>"
      ]
     },
     "metadata": {},
     "output_type": "display_data"
    }
   ],
   "source": [
    "ds.documentation()"
   ]
  },
  {
   "cell_type": "markdown",
   "id": "7526d443",
   "metadata": {},
   "source": [
    "## 4. Useful Syntax"
   ]
  },
  {
   "cell_type": "code",
   "execution_count": 6,
   "id": "5572d98d",
   "metadata": {
    "execution": {
     "iopub.execute_input": "2025-07-28T20:50:38.933219Z",
     "iopub.status.busy": "2025-07-28T20:50:38.933219Z",
     "iopub.status.idle": "2025-07-28T20:50:38.947751Z",
     "shell.execute_reply": "2025-07-28T20:50:38.945732Z"
    },
    "tags": [
     "remove-input"
    ]
   },
   "outputs": [
    {
     "data": {
      "text/markdown": [
       "Below we will include syntax that may be helpful to other researchers in the UK LLC TRE. For longer scripts, we will include a snippet of the code plus a link to Git where you can find the full scripts."
      ],
      "text/plain": [
       "<IPython.core.display.Markdown object>"
      ]
     },
     "metadata": {},
     "output_type": "display_data"
    }
   ],
   "source": [
    "ds.useful_syntax()"
   ]
  }
 ],
 "metadata": {
  "language_info": {
   "codemirror_mode": {
    "name": "ipython",
    "version": 3
   },
   "file_extension": ".py",
   "mimetype": "text/x-python",
   "name": "python",
   "nbconvert_exporter": "python",
   "pygments_lexer": "ipython3",
   "version": "3.12.7"
  }
 },
 "nbformat": 4,
 "nbformat_minor": 5
}
