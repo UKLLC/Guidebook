{
 "cells": [
  {
   "cell_type": "markdown",
   "id": "72d668f8",
   "metadata": {},
   "source": [
    "# Understanding Society (UKHLS), Wave 11 (UKHLS)"
   ]
  },
  {
   "cell_type": "code",
   "execution_count": 1,
   "id": "8385384d",
   "metadata": {
    "execution": {
     "iopub.execute_input": "2025-07-28T20:53:26.409624Z",
     "iopub.status.busy": "2025-07-28T20:53:26.409624Z",
     "iopub.status.idle": "2025-07-28T20:53:38.336384Z",
     "shell.execute_reply": "2025-07-28T20:53:38.329799Z"
    },
    "tags": [
     "remove-input"
    ]
   },
   "outputs": [
    {
     "data": {
      "text/markdown": [
       ">Last modified: 28 Jul 2025"
      ],
      "text/plain": [
       "<IPython.core.display.Markdown object>"
      ]
     },
     "metadata": {},
     "output_type": "display_data"
    }
   ],
   "source": [
    "\n",
    "import sys\n",
    "import os\n",
    "sys.path.append(os.path.abspath('../../../../scripts/'))\n",
    "from data_doc_helper import LPSDataSet as DS, last_modified\n",
    "API_KEY = os.environ['FASTAPI_KEY']\n",
    "ds = DS(\"UKHLS\", \"k_indresp\")\n",
    "last_modified()\n"
   ]
  },
  {
   "cell_type": "markdown",
   "id": "30e943ad",
   "metadata": {},
   "source": [
    "## 1. Summary"
   ]
  },
  {
   "cell_type": "code",
   "execution_count": 2,
   "id": "f39a8285",
   "metadata": {
    "execution": {
     "iopub.execute_input": "2025-07-28T20:53:38.360383Z",
     "iopub.status.busy": "2025-07-28T20:53:38.354847Z",
     "iopub.status.idle": "2025-07-28T20:53:38.389574Z",
     "shell.execute_reply": "2025-07-28T20:53:38.382088Z"
    },
    "tags": [
     "remove-input"
    ]
   },
   "outputs": [
    {
     "data": {
      "text/markdown": [
       "Annual UKHLS household and individual questionnaire."
      ],
      "text/plain": [
       "<IPython.core.display.Markdown object>"
      ]
     },
     "metadata": {},
     "output_type": "display_data"
    }
   ],
   "source": [
    "ds.summary()"
   ]
  },
  {
   "cell_type": "code",
   "execution_count": 3,
   "id": "23404b3d",
   "metadata": {
    "execution": {
     "iopub.execute_input": "2025-07-28T20:53:38.409617Z",
     "iopub.status.busy": "2025-07-28T20:53:38.407620Z",
     "iopub.status.idle": "2025-07-28T20:53:42.713942Z",
     "shell.execute_reply": "2025-07-28T20:53:42.711409Z"
    },
    "tags": [
     "remove-input"
    ]
   },
   "outputs": [
    {
     "data": {
      "text/html": [
       "<style type=\"text/css\">\n",
       "#T_3c63a th {\n",
       "  text-align: left;\n",
       "}\n",
       "#T_3c63a_row0_col0, #T_3c63a_row0_col1, #T_3c63a_row1_col0, #T_3c63a_row1_col1, #T_3c63a_row2_col0, #T_3c63a_row2_col1, #T_3c63a_row3_col0, #T_3c63a_row3_col1, #T_3c63a_row4_col0, #T_3c63a_row4_col1, #T_3c63a_row5_col0, #T_3c63a_row5_col1, #T_3c63a_row6_col0, #T_3c63a_row6_col1, #T_3c63a_row7_col0, #T_3c63a_row7_col1, #T_3c63a_row8_col0, #T_3c63a_row8_col1, #T_3c63a_row9_col0, #T_3c63a_row9_col1, #T_3c63a_row10_col0, #T_3c63a_row10_col1, #T_3c63a_row11_col0, #T_3c63a_row11_col1, #T_3c63a_row12_col0, #T_3c63a_row12_col1 {\n",
       "  text-align: left;\n",
       "}\n",
       "</style>\n",
       "<table id=\"T_3c63a\" style=\"font-size: 14px\">\n",
       "  <thead>\n",
       "    <tr>\n",
       "      <th id=\"T_3c63a_level0_col0\" class=\"col_heading level0 col0\" >Dataset Descriptor</th>\n",
       "      <th id=\"T_3c63a_level0_col1\" class=\"col_heading level0 col1\" >Dataset-specific Information</th>\n",
       "    </tr>\n",
       "  </thead>\n",
       "  <tbody>\n",
       "    <tr>\n",
       "      <td id=\"T_3c63a_row0_col0\" class=\"data row0 col0\" >Name of Dataset in TRE</td>\n",
       "      <td id=\"T_3c63a_row0_col1\" class=\"data row0 col1\" >UKHLS_k_indresp</td>\n",
       "    </tr>\n",
       "    <tr>\n",
       "      <td id=\"T_3c63a_row1_col0\" class=\"data row1 col0\" >Citation (APA)</td>\n",
       "      <td id=\"T_3c63a_row1_col1\" class=\"data row1 col1\" >University of Essex, Institute for Social and Economic Research. (2023). <i>Understanding Society, the UK Household Longitudinal Survey & British Household Panel Survey (UKHLS): Understanding Society (UKHLS), Wave 11.</i> UK Longitudinal Linkage Collaboration (UK LLC).  <a href=\"https://doi.org/10.71760/ukllc-dataset-00355-06\" rel=\"noopener noreferrer\" target=\"_blank\">https://doi.org/10.71760/ukllc-dataset-00355-06</a></td>\n",
       "    </tr>\n",
       "    <tr>\n",
       "      <td id=\"T_3c63a_row2_col0\" class=\"data row2 col0\" >Download Citation</td>\n",
       "      <td id=\"T_3c63a_row2_col1\" class=\"data row2 col1\" > <a href=\"https://api.datacite.org/application/vnd.citationstyles.csl+json/10.71760/ukllc-dataset-00355-06\" rel=\"noopener noreferrer\" target=\"_blank\">Citeproc JSON</a>&nbsp;&nbsp;&nbsp;&nbsp; <a href=\"https://api.datacite.org/application/x-bibtex/10.71760/ukllc-dataset-00355-06\" rel=\"noopener noreferrer\" target=\"_blank\">BibTeX</a>&nbsp;&nbsp;&nbsp;&nbsp; <a href=\"https://api.datacite.org/application/x-research-info-systems/10.71760/ukllc-dataset-00355-06\" rel=\"noopener noreferrer\" target=\"_blank\">RIS</a></td>\n",
       "    </tr>\n",
       "    <tr>\n",
       "      <td id=\"T_3c63a_row3_col0\" class=\"data row3 col0\" >Series</td>\n",
       "      <td id=\"T_3c63a_row3_col1\" class=\"data row3 col1\" > <a href=\"https://guidebook.ukllc.ac.uk/docs/lps_data/lps%20profiles/UKHLS\">Understanding Society, the UK Household Longitudinal Survey & British Household Panel Survey (UKHLS)</a></td>\n",
       "    </tr>\n",
       "    <tr>\n",
       "      <td id=\"T_3c63a_row4_col0\" class=\"data row4 col0\" >Owner</td>\n",
       "      <td id=\"T_3c63a_row4_col1\" class=\"data row4 col1\" >University of Essex</td>\n",
       "    </tr>\n",
       "    <tr>\n",
       "      <td id=\"T_3c63a_row5_col0\" class=\"data row5 col0\" >Temporal Coverage</td>\n",
       "      <td id=\"T_3c63a_row5_col1\" class=\"data row5 col1\" >01/2019 - 05/2021</td>\n",
       "    </tr>\n",
       "    <tr>\n",
       "      <td id=\"T_3c63a_row6_col0\" class=\"data row6 col0\" >Keywords</td>\n",
       "      <td id=\"T_3c63a_row6_col1\" class=\"data row6 col1\" >Household composition,Employment,Income,Health,Family,Education,Civic participation</td>\n",
       "    </tr>\n",
       "    <tr>\n",
       "      <td id=\"T_3c63a_row7_col0\" class=\"data row7 col0\" >Participants Invited</td>\n",
       "      <td id=\"T_3c63a_row7_col1\" class=\"data row7 col1\" >8646</td>\n",
       "    </tr>\n",
       "    <tr>\n",
       "      <td id=\"T_3c63a_row8_col0\" class=\"data row8 col0\" >Participant Count</td>\n",
       "      <td id=\"T_3c63a_row8_col1\" class=\"data row8 col1\" >8646</td>\n",
       "    </tr>\n",
       "    <tr>\n",
       "      <td id=\"T_3c63a_row9_col0\" class=\"data row9 col0\" >Number of variables</td>\n",
       "      <td id=\"T_3c63a_row9_col1\" class=\"data row9 col1\" >3230</td>\n",
       "    </tr>\n",
       "    <tr>\n",
       "      <td id=\"T_3c63a_row10_col0\" class=\"data row10 col0\" >Number of observations</td>\n",
       "      <td id=\"T_3c63a_row10_col1\" class=\"data row10 col1\" >8116</td>\n",
       "    </tr>\n",
       "    <tr>\n",
       "      <td id=\"T_3c63a_row11_col0\" class=\"data row11 col0\" >Specific Restrictions to Data Use</td>\n",
       "      <td id=\"T_3c63a_row11_col1\" class=\"data row11 col1\" >None</td>\n",
       "    </tr>\n",
       "    <tr>\n",
       "      <td id=\"T_3c63a_row12_col0\" class=\"data row12 col0\" >Build a Data Request</td>\n",
       "      <td id=\"T_3c63a_row12_col1\" class=\"data row12 col1\" > <a href=\"https://explore.ukllc.ac.uk/\" rel=\"noopener noreferrer\" target=\"_blank\">https://explore.ukllc.ac.uk/</a></td>\n",
       "    </tr>\n",
       "  </tbody>\n",
       "</table>\n"
      ],
      "text/plain": [
       "<pandas.io.formats.style.Styler at 0x2157087ac00>"
      ]
     },
     "execution_count": 3,
     "metadata": {},
     "output_type": "execute_result"
    }
   ],
   "source": [
    "ds.info_table()"
   ]
  },
  {
   "cell_type": "markdown",
   "id": "27b0b6f6",
   "metadata": {},
   "source": [
    "## 2. Version History"
   ]
  },
  {
   "cell_type": "code",
   "execution_count": 4,
   "id": "fff80201",
   "metadata": {
    "execution": {
     "iopub.execute_input": "2025-07-28T20:53:42.724460Z",
     "iopub.status.busy": "2025-07-28T20:53:42.723460Z",
     "iopub.status.idle": "2025-07-28T20:53:48.259850Z",
     "shell.execute_reply": "2025-07-28T20:53:48.253784Z"
    },
    "tags": [
     "remove-input"
    ]
   },
   "outputs": [
    {
     "data": {
      "text/html": [
       "<style type=\"text/css\">\n",
       "#T_c3b9a th {\n",
       "  text-align: left;\n",
       "}\n",
       "#T_c3b9a_row0_col0, #T_c3b9a_row0_col1, #T_c3b9a_row0_col2, #T_c3b9a_row0_col3, #T_c3b9a_row1_col0, #T_c3b9a_row1_col1, #T_c3b9a_row1_col2, #T_c3b9a_row1_col3, #T_c3b9a_row2_col0, #T_c3b9a_row2_col1, #T_c3b9a_row2_col2, #T_c3b9a_row2_col3, #T_c3b9a_row3_col0, #T_c3b9a_row3_col1, #T_c3b9a_row3_col2, #T_c3b9a_row3_col3, #T_c3b9a_row4_col0, #T_c3b9a_row4_col1, #T_c3b9a_row4_col2, #T_c3b9a_row4_col3 {\n",
       "  text-align: left;\n",
       "}\n",
       "</style>\n",
       "<table id=\"T_c3b9a\" style=\"font-size: 14px\">\n",
       "  <thead>\n",
       "    <tr>\n",
       "      <th id=\"T_c3b9a_level0_col0\" class=\"col_heading level0 col0\" >Version</th>\n",
       "      <th id=\"T_c3b9a_level0_col1\" class=\"col_heading level0 col1\" >3</th>\n",
       "      <th id=\"T_c3b9a_level0_col2\" class=\"col_heading level0 col2\" >5</th>\n",
       "      <th id=\"T_c3b9a_level0_col3\" class=\"col_heading level0 col3\" >6</th>\n",
       "    </tr>\n",
       "  </thead>\n",
       "  <tbody>\n",
       "    <tr>\n",
       "      <td id=\"T_c3b9a_row0_col0\" class=\"data row0 col0\" >Version Date</td>\n",
       "      <td id=\"T_c3b9a_row0_col1\" class=\"data row0 col1\" >31 May 2022</td>\n",
       "      <td id=\"T_c3b9a_row0_col2\" class=\"data row0 col2\" >21 Feb 2023</td>\n",
       "      <td id=\"T_c3b9a_row0_col3\" class=\"data row0 col3\" >14 Jun 2023</td>\n",
       "    </tr>\n",
       "    <tr>\n",
       "      <td id=\"T_c3b9a_row1_col0\" class=\"data row1 col0\" >Number of Variables</td>\n",
       "      <td id=\"T_c3b9a_row1_col1\" class=\"data row1 col1\" >3222</td>\n",
       "      <td id=\"T_c3b9a_row1_col2\" class=\"data row1 col2\" >3220</td>\n",
       "      <td id=\"T_c3b9a_row1_col3\" class=\"data row1 col3\" >3220</td>\n",
       "    </tr>\n",
       "    <tr>\n",
       "      <td id=\"T_c3b9a_row2_col0\" class=\"data row2 col0\" >Number of Observations</td>\n",
       "      <td id=\"T_c3b9a_row2_col1\" class=\"data row2 col1\" >8646</td>\n",
       "      <td id=\"T_c3b9a_row2_col2\" class=\"data row2 col2\" >8557</td>\n",
       "      <td id=\"T_c3b9a_row2_col3\" class=\"data row2 col3\" >8116</td>\n",
       "    </tr>\n",
       "    <tr>\n",
       "      <td id=\"T_c3b9a_row3_col0\" class=\"data row3 col0\" >DOI</td>\n",
       "      <td id=\"T_c3b9a_row3_col1\" class=\"data row3 col1\" > <a href=\"https://doi.org/10.71760/ukllc-dataset-00355-03\" rel=\"noopener noreferrer\" target=\"_blank\">10.71760/ukllc-dataset-00355-03</a></td>\n",
       "      <td id=\"T_c3b9a_row3_col2\" class=\"data row3 col2\" > <a href=\"https://doi.org/10.71760/ukllc-dataset-00355-05\" rel=\"noopener noreferrer\" target=\"_blank\">10.71760/ukllc-dataset-00355-05</a></td>\n",
       "      <td id=\"T_c3b9a_row3_col3\" class=\"data row3 col3\" > <a href=\"https://doi.org/10.71760/ukllc-dataset-00355-06\" rel=\"noopener noreferrer\" target=\"_blank\">10.71760/ukllc-dataset-00355-06</a></td>\n",
       "    </tr>\n",
       "    <tr>\n",
       "      <td id=\"T_c3b9a_row4_col0\" class=\"data row4 col0\" >Change Log</td>\n",
       "      <td id=\"T_c3b9a_row4_col1\" class=\"data row4 col1\" > <a href=\"https://api.test.datacite.org/dois/10.71760/ukllc-dataset-00355-03/activities\" rel=\"noopener noreferrer\" target=\"_blank\">10.71760/ukllc-dataset-00355-03/activities</a></td>\n",
       "      <td id=\"T_c3b9a_row4_col2\" class=\"data row4 col2\" > <a href=\"https://api.test.datacite.org/dois/10.71760/ukllc-dataset-00355-05/activities\" rel=\"noopener noreferrer\" target=\"_blank\">10.71760/ukllc-dataset-00355-05/activities</a></td>\n",
       "      <td id=\"T_c3b9a_row4_col3\" class=\"data row4 col3\" > <a href=\"https://api.test.datacite.org/dois/10.71760/ukllc-dataset-00355-06/activities\" rel=\"noopener noreferrer\" target=\"_blank\">10.71760/ukllc-dataset-00355-06/activities</a></td>\n",
       "    </tr>\n",
       "  </tbody>\n",
       "</table>\n"
      ],
      "text/plain": [
       "<pandas.io.formats.style.Styler at 0x21571f06a50>"
      ]
     },
     "execution_count": 4,
     "metadata": {},
     "output_type": "execute_result"
    }
   ],
   "source": [
    "ds.version_history()"
   ]
  },
  {
   "cell_type": "markdown",
   "id": "5ddabe5f",
   "metadata": {},
   "source": [
    "## 3. Documentation"
   ]
  },
  {
   "cell_type": "code",
   "execution_count": 5,
   "id": "2067a87f",
   "metadata": {
    "execution": {
     "iopub.execute_input": "2025-07-28T20:53:48.269826Z",
     "iopub.status.busy": "2025-07-28T20:53:48.269826Z",
     "iopub.status.idle": "2025-07-28T20:53:48.282484Z",
     "shell.execute_reply": "2025-07-28T20:53:48.280377Z"
    },
    "tags": [
     "remove-input"
    ]
   },
   "outputs": [
    {
     "data": {
      "text/markdown": [
       "We are currently building a documentation storage system which will host useful documents related to datasets and data owners. We will surface these documents on Guidebook."
      ],
      "text/plain": [
       "<IPython.core.display.Markdown object>"
      ]
     },
     "metadata": {},
     "output_type": "display_data"
    }
   ],
   "source": [
    "ds.documentation()"
   ]
  },
  {
   "cell_type": "markdown",
   "id": "7b2066c5",
   "metadata": {},
   "source": [
    "## 4. Useful Syntax"
   ]
  },
  {
   "cell_type": "code",
   "execution_count": 6,
   "id": "7b99a165",
   "metadata": {
    "execution": {
     "iopub.execute_input": "2025-07-28T20:53:48.291481Z",
     "iopub.status.busy": "2025-07-28T20:53:48.290484Z",
     "iopub.status.idle": "2025-07-28T20:53:48.303303Z",
     "shell.execute_reply": "2025-07-28T20:53:48.301278Z"
    },
    "tags": [
     "remove-input"
    ]
   },
   "outputs": [
    {
     "data": {
      "text/markdown": [
       "Below we will include syntax that may be helpful to other researchers in the UK LLC TRE. For longer scripts, we will include a snippet of the code plus a link to Git where you can find the full scripts."
      ],
      "text/plain": [
       "<IPython.core.display.Markdown object>"
      ]
     },
     "metadata": {},
     "output_type": "display_data"
    }
   ],
   "source": [
    "ds.useful_syntax()"
   ]
  }
 ],
 "metadata": {
  "kernelspec": {
   "display_name": "jupbook",
   "language": "python",
   "name": "python3"
  },
  "language_info": {
   "codemirror_mode": {
    "name": "ipython",
    "version": 3
   },
   "file_extension": ".py",
   "mimetype": "text/x-python",
   "name": "python",
   "nbconvert_exporter": "python",
   "pygments_lexer": "ipython3",
   "version": "3.12.7"
  }
 },
 "nbformat": 4,
 "nbformat_minor": 5
}
