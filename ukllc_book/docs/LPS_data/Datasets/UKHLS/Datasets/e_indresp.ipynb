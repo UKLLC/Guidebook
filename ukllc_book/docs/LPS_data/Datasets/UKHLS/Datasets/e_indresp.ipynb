{
 "cells": [
  {
   "cell_type": "markdown",
   "id": "9b4e7638",
   "metadata": {},
   "source": [
    "# Understanding Society (UKHLS), Wave 5 (UKHLS)"
   ]
  },
  {
   "cell_type": "code",
   "execution_count": 1,
   "id": "ff6a5472",
   "metadata": {
    "execution": {
     "iopub.execute_input": "2025-07-18T10:44:38.382829Z",
     "iopub.status.busy": "2025-07-18T10:44:38.382829Z",
     "iopub.status.idle": "2025-07-18T10:44:44.472697Z",
     "shell.execute_reply": "2025-07-18T10:44:44.470689Z"
    },
    "tags": [
     "remove-input"
    ]
   },
   "outputs": [
    {
     "data": {
      "text/markdown": [
       ">Last modified: 18 Jul 2025"
      ],
      "text/plain": [
       "<IPython.core.display.Markdown object>"
      ]
     },
     "metadata": {},
     "output_type": "display_data"
    }
   ],
   "source": [
    "\n",
    "import sys\n",
    "import os\n",
    "sys.path.append(os.path.abspath('../../../../scripts/'))\n",
    "from data_doc_helper import LPSDataSet as DS, last_modified\n",
    "API_KEY = os.environ['FASTAPI_KEY']\n",
    "ds = DS(\"UKHLS\", \"e_indresp\")\n",
    "last_modified()\n"
   ]
  },
  {
   "cell_type": "markdown",
   "id": "2b07b89f",
   "metadata": {},
   "source": [
    "## 1. Summary"
   ]
  },
  {
   "cell_type": "code",
   "execution_count": 2,
   "id": "e132312b",
   "metadata": {
    "execution": {
     "iopub.execute_input": "2025-07-18T10:44:44.478697Z",
     "iopub.status.busy": "2025-07-18T10:44:44.477697Z",
     "iopub.status.idle": "2025-07-18T10:44:44.487095Z",
     "shell.execute_reply": "2025-07-18T10:44:44.485082Z"
    },
    "tags": [
     "remove-input"
    ]
   },
   "outputs": [
    {
     "data": {
      "text/markdown": [
       "Annual UKHLS household and individual questionnaire."
      ],
      "text/plain": [
       "<IPython.core.display.Markdown object>"
      ]
     },
     "metadata": {},
     "output_type": "display_data"
    }
   ],
   "source": [
    "ds.summary()"
   ]
  },
  {
   "cell_type": "code",
   "execution_count": 3,
   "id": "9ad326f7",
   "metadata": {
    "execution": {
     "iopub.execute_input": "2025-07-18T10:44:44.492093Z",
     "iopub.status.busy": "2025-07-18T10:44:44.491091Z",
     "iopub.status.idle": "2025-07-18T10:44:46.924350Z",
     "shell.execute_reply": "2025-07-18T10:44:46.924059Z"
    },
    "tags": [
     "remove-input"
    ]
   },
   "outputs": [
    {
     "data": {
      "text/html": [
       "<style type=\"text/css\">\n",
       "#T_72140 th {\n",
       "  text-align: left;\n",
       "}\n",
       "#T_72140_row0_col0, #T_72140_row0_col1, #T_72140_row1_col0, #T_72140_row1_col1, #T_72140_row2_col0, #T_72140_row2_col1, #T_72140_row3_col0, #T_72140_row3_col1, #T_72140_row4_col0, #T_72140_row4_col1, #T_72140_row5_col0, #T_72140_row5_col1, #T_72140_row6_col0, #T_72140_row6_col1, #T_72140_row7_col0, #T_72140_row7_col1, #T_72140_row8_col0, #T_72140_row8_col1, #T_72140_row9_col0, #T_72140_row9_col1, #T_72140_row10_col0, #T_72140_row10_col1, #T_72140_row11_col0, #T_72140_row11_col1, #T_72140_row12_col0, #T_72140_row12_col1 {\n",
       "  text-align: left;\n",
       "}\n",
       "</style>\n",
       "<table id=\"T_72140\" style=\"font-size: 14px\">\n",
       "  <thead>\n",
       "    <tr>\n",
       "      <th id=\"T_72140_level0_col0\" class=\"col_heading level0 col0\" >Dataset Descriptor</th>\n",
       "      <th id=\"T_72140_level0_col1\" class=\"col_heading level0 col1\" >Dataset-specific Information</th>\n",
       "    </tr>\n",
       "  </thead>\n",
       "  <tbody>\n",
       "    <tr>\n",
       "      <td id=\"T_72140_row0_col0\" class=\"data row0 col0\" >Name of Dataset in TRE</td>\n",
       "      <td id=\"T_72140_row0_col1\" class=\"data row0 col1\" >UKHLS_e_indresp</td>\n",
       "    </tr>\n",
       "    <tr>\n",
       "      <td id=\"T_72140_row1_col0\" class=\"data row1 col0\" >Citation (APA)</td>\n",
       "      <td id=\"T_72140_row1_col1\" class=\"data row1 col1\" >University of Essex, Institute for Social and Economic Research. (2023). <i>Understanding Society, the UK Household Longitudinal Survey & British Household Panel Survey (UKHLS): Understanding Society (UKHLS), Wave 5.</i> UK Longitudinal Linkage Collaboration (UK LLC).  <a href=\"https://doi.org/10.83126/ukllc-dataset-00418-06\" rel=\"noopener noreferrer\" target=\"_blank\">https://doi.org/10.83126/ukllc-dataset-00418-06</a></td>\n",
       "    </tr>\n",
       "    <tr>\n",
       "      <td id=\"T_72140_row2_col0\" class=\"data row2 col0\" >Download Citation</td>\n",
       "      <td id=\"T_72140_row2_col1\" class=\"data row2 col1\" > <a href=\"https://api.test.datacite.org/application/vnd.citationstyles.csl+json/10.83126/ukllc-dataset-00418-06\" rel=\"noopener noreferrer\" target=\"_blank\">Citeproc JSON</a>&nbsp;&nbsp;&nbsp;&nbsp; <a href=\"https://api.test.datacite.org/application/x-bibtex/10.83126/ukllc-dataset-00418-06\" rel=\"noopener noreferrer\" target=\"_blank\">BibTeX</a>&nbsp;&nbsp;&nbsp;&nbsp; <a href=\"https://api.test.datacite.org/application/x-research-info-systems/10.83126/ukllc-dataset-00418-06\" rel=\"noopener noreferrer\" target=\"_blank\">RIS</a></td>\n",
       "    </tr>\n",
       "    <tr>\n",
       "      <td id=\"T_72140_row3_col0\" class=\"data row3 col0\" >Series</td>\n",
       "      <td id=\"T_72140_row3_col1\" class=\"data row3 col1\" > <a href=\"https://guidebook.ukllc.ac.uk/docs/lps/lps%20profiles/UKHLS\">Understanding Society, the UK Household Longitudinal Survey & British Household Panel Survey (UKHLS)</a></td>\n",
       "    </tr>\n",
       "    <tr>\n",
       "      <td id=\"T_72140_row4_col0\" class=\"data row4 col0\" >Owner</td>\n",
       "      <td id=\"T_72140_row4_col1\" class=\"data row4 col1\" >University of Essex</td>\n",
       "    </tr>\n",
       "    <tr>\n",
       "      <td id=\"T_72140_row5_col0\" class=\"data row5 col0\" >Temporal Coverage</td>\n",
       "      <td id=\"T_72140_row5_col1\" class=\"data row5 col1\" >01/2013 - 06/2015</td>\n",
       "    </tr>\n",
       "    <tr>\n",
       "      <td id=\"T_72140_row6_col0\" class=\"data row6 col0\" >Keywords</td>\n",
       "      <td id=\"T_72140_row6_col1\" class=\"data row6 col1\" >Household composition,Employment,Income,Health,Family,Education,Civic participation</td>\n",
       "    </tr>\n",
       "    <tr>\n",
       "      <td id=\"T_72140_row7_col0\" class=\"data row7 col0\" >Participants Invited</td>\n",
       "      <td id=\"T_72140_row7_col1\" class=\"data row7 col1\" >7799</td>\n",
       "    </tr>\n",
       "    <tr>\n",
       "      <td id=\"T_72140_row8_col0\" class=\"data row8 col0\" >Participant Count</td>\n",
       "      <td id=\"T_72140_row8_col1\" class=\"data row8 col1\" >7799</td>\n",
       "    </tr>\n",
       "    <tr>\n",
       "      <td id=\"T_72140_row9_col0\" class=\"data row9 col0\" >Number of variables</td>\n",
       "      <td id=\"T_72140_row9_col1\" class=\"data row9 col1\" >2605</td>\n",
       "    </tr>\n",
       "    <tr>\n",
       "      <td id=\"T_72140_row10_col0\" class=\"data row10 col0\" >Number of observations</td>\n",
       "      <td id=\"T_72140_row10_col1\" class=\"data row10 col1\" >7340</td>\n",
       "    </tr>\n",
       "    <tr>\n",
       "      <td id=\"T_72140_row11_col0\" class=\"data row11 col0\" >Specific Restrictions to Data Use</td>\n",
       "      <td id=\"T_72140_row11_col1\" class=\"data row11 col1\" >None</td>\n",
       "    </tr>\n",
       "    <tr>\n",
       "      <td id=\"T_72140_row12_col0\" class=\"data row12 col0\" >Build a Data Request</td>\n",
       "      <td id=\"T_72140_row12_col1\" class=\"data row12 col1\" > <a href=\"https://explore.ukllc.ac.uk/\" rel=\"noopener noreferrer\" target=\"_blank\">https://explore.ukllc.ac.uk/</a></td>\n",
       "    </tr>\n",
       "  </tbody>\n",
       "</table>\n"
      ],
      "text/plain": [
       "<pandas.io.formats.style.Styler at 0x1424529edb0>"
      ]
     },
     "execution_count": 3,
     "metadata": {},
     "output_type": "execute_result"
    }
   ],
   "source": [
    "ds.info_table()"
   ]
  },
  {
   "cell_type": "markdown",
   "id": "f3768355",
   "metadata": {},
   "source": [
    "## 2. Version History"
   ]
  },
  {
   "cell_type": "code",
   "execution_count": 4,
   "id": "fa59b039",
   "metadata": {
    "execution": {
     "iopub.execute_input": "2025-07-18T10:44:46.929379Z",
     "iopub.status.busy": "2025-07-18T10:44:46.929379Z",
     "iopub.status.idle": "2025-07-18T10:44:49.238161Z",
     "shell.execute_reply": "2025-07-18T10:44:49.237177Z"
    },
    "tags": [
     "remove-input"
    ]
   },
   "outputs": [
    {
     "data": {
      "text/html": [
       "<style type=\"text/css\">\n",
       "#T_0693a th {\n",
       "  text-align: left;\n",
       "}\n",
       "#T_0693a_row0_col0, #T_0693a_row0_col1, #T_0693a_row0_col2, #T_0693a_row0_col3, #T_0693a_row1_col0, #T_0693a_row1_col1, #T_0693a_row1_col2, #T_0693a_row1_col3, #T_0693a_row2_col0, #T_0693a_row2_col1, #T_0693a_row2_col2, #T_0693a_row2_col3, #T_0693a_row3_col0, #T_0693a_row3_col1, #T_0693a_row3_col2, #T_0693a_row3_col3, #T_0693a_row4_col0, #T_0693a_row4_col1, #T_0693a_row4_col2, #T_0693a_row4_col3 {\n",
       "  text-align: left;\n",
       "}\n",
       "</style>\n",
       "<table id=\"T_0693a\" style=\"font-size: 14px\">\n",
       "  <thead>\n",
       "    <tr>\n",
       "      <th id=\"T_0693a_level0_col0\" class=\"col_heading level0 col0\" >Version</th>\n",
       "      <th id=\"T_0693a_level0_col1\" class=\"col_heading level0 col1\" >3</th>\n",
       "      <th id=\"T_0693a_level0_col2\" class=\"col_heading level0 col2\" >5</th>\n",
       "      <th id=\"T_0693a_level0_col3\" class=\"col_heading level0 col3\" >6</th>\n",
       "    </tr>\n",
       "  </thead>\n",
       "  <tbody>\n",
       "    <tr>\n",
       "      <td id=\"T_0693a_row0_col0\" class=\"data row0 col0\" >Version Date</td>\n",
       "      <td id=\"T_0693a_row0_col1\" class=\"data row0 col1\" >31 May 2022</td>\n",
       "      <td id=\"T_0693a_row0_col2\" class=\"data row0 col2\" >21 Feb 2023</td>\n",
       "      <td id=\"T_0693a_row0_col3\" class=\"data row0 col3\" >14 Jun 2023</td>\n",
       "    </tr>\n",
       "    <tr>\n",
       "      <td id=\"T_0693a_row1_col0\" class=\"data row1 col0\" >Number of Variables</td>\n",
       "      <td id=\"T_0693a_row1_col1\" class=\"data row1 col1\" >2608</td>\n",
       "      <td id=\"T_0693a_row1_col2\" class=\"data row1 col2\" >2600</td>\n",
       "      <td id=\"T_0693a_row1_col3\" class=\"data row1 col3\" >2600</td>\n",
       "    </tr>\n",
       "    <tr>\n",
       "      <td id=\"T_0693a_row2_col0\" class=\"data row2 col0\" >Number of Observations</td>\n",
       "      <td id=\"T_0693a_row2_col1\" class=\"data row2 col1\" >7799</td>\n",
       "      <td id=\"T_0693a_row2_col2\" class=\"data row2 col2\" >7724</td>\n",
       "      <td id=\"T_0693a_row2_col3\" class=\"data row2 col3\" >7340</td>\n",
       "    </tr>\n",
       "    <tr>\n",
       "      <td id=\"T_0693a_row3_col0\" class=\"data row3 col0\" >DOI</td>\n",
       "      <td id=\"T_0693a_row3_col1\" class=\"data row3 col1\" > <a href=\"https://doi.org/10.83126/ukllc-dataset-00418-03\" rel=\"noopener noreferrer\" target=\"_blank\">10.83126/ukllc-dataset-00418-03</a></td>\n",
       "      <td id=\"T_0693a_row3_col2\" class=\"data row3 col2\" > <a href=\"https://doi.org/10.83126/ukllc-dataset-00418-05\" rel=\"noopener noreferrer\" target=\"_blank\">10.83126/ukllc-dataset-00418-05</a></td>\n",
       "      <td id=\"T_0693a_row3_col3\" class=\"data row3 col3\" > <a href=\"https://doi.org/10.83126/ukllc-dataset-00418-06\" rel=\"noopener noreferrer\" target=\"_blank\">10.83126/ukllc-dataset-00418-06</a></td>\n",
       "    </tr>\n",
       "    <tr>\n",
       "      <td id=\"T_0693a_row4_col0\" class=\"data row4 col0\" >Change Log</td>\n",
       "      <td id=\"T_0693a_row4_col1\" class=\"data row4 col1\" > <a href=\"https://api.test.datacite.org/dois/10.83126/ukllc-dataset-00418-03/activities\" rel=\"noopener noreferrer\" target=\"_blank\">10.83126/ukllc-dataset-00418-03/activities</a></td>\n",
       "      <td id=\"T_0693a_row4_col2\" class=\"data row4 col2\" > <a href=\"https://api.test.datacite.org/dois/10.83126/ukllc-dataset-00418-05/activities\" rel=\"noopener noreferrer\" target=\"_blank\">10.83126/ukllc-dataset-00418-05/activities</a></td>\n",
       "      <td id=\"T_0693a_row4_col3\" class=\"data row4 col3\" > <a href=\"https://api.test.datacite.org/dois/10.83126/ukllc-dataset-00418-06/activities\" rel=\"noopener noreferrer\" target=\"_blank\">10.83126/ukllc-dataset-00418-06/activities</a></td>\n",
       "    </tr>\n",
       "  </tbody>\n",
       "</table>\n"
      ],
      "text/plain": [
       "<pandas.io.formats.style.Styler at 0x1424aceaff0>"
      ]
     },
     "execution_count": 4,
     "metadata": {},
     "output_type": "execute_result"
    }
   ],
   "source": [
    "ds.version_history()"
   ]
  },
  {
   "cell_type": "markdown",
   "id": "7f572141",
   "metadata": {},
   "source": [
    "## 3. Documentation"
   ]
  },
  {
   "cell_type": "code",
   "execution_count": 5,
   "id": "50772478",
   "metadata": {
    "execution": {
     "iopub.execute_input": "2025-07-18T10:44:49.242204Z",
     "iopub.status.busy": "2025-07-18T10:44:49.242204Z",
     "iopub.status.idle": "2025-07-18T10:44:49.246543Z",
     "shell.execute_reply": "2025-07-18T10:44:49.246543Z"
    },
    "tags": [
     "remove-input"
    ]
   },
   "outputs": [
    {
     "data": {
      "text/markdown": [
       "We are currently building a documentation storage system which will host useful documents related to datasets and data owners. We will surface these documents on Guidebook."
      ],
      "text/plain": [
       "<IPython.core.display.Markdown object>"
      ]
     },
     "metadata": {},
     "output_type": "display_data"
    }
   ],
   "source": [
    "ds.documentation()"
   ]
  },
  {
   "cell_type": "markdown",
   "id": "5b0f5f7d",
   "metadata": {},
   "source": [
    "## 4. Useful Syntax"
   ]
  },
  {
   "cell_type": "code",
   "execution_count": 6,
   "id": "415472c1",
   "metadata": {
    "execution": {
     "iopub.execute_input": "2025-07-18T10:44:49.250553Z",
     "iopub.status.busy": "2025-07-18T10:44:49.249552Z",
     "iopub.status.idle": "2025-07-18T10:44:49.258402Z",
     "shell.execute_reply": "2025-07-18T10:44:49.257396Z"
    },
    "tags": [
     "remove-input"
    ]
   },
   "outputs": [
    {
     "data": {
      "text/markdown": [
       "Below we will include syntax that may be helpful to other researchers in the UK LLC TRE. For longer scripts, we will include a snippet of the code plus a link to Git where you can find the full scripts."
      ],
      "text/plain": [
       "<IPython.core.display.Markdown object>"
      ]
     },
     "metadata": {},
     "output_type": "display_data"
    }
   ],
   "source": [
    "ds.useful_syntax()"
   ]
  }
 ],
 "metadata": {
  "language_info": {
   "codemirror_mode": {
    "name": "ipython",
    "version": 3
   },
   "file_extension": ".py",
   "mimetype": "text/x-python",
   "name": "python",
   "nbconvert_exporter": "python",
   "pygments_lexer": "ipython3",
   "version": "3.12.7"
  }
 },
 "nbformat": 4,
 "nbformat_minor": 5
}
