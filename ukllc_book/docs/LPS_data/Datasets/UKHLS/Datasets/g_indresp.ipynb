{
 "cells": [
  {
   "cell_type": "markdown",
   "id": "53c98a94",
   "metadata": {},
   "source": [
    "# Understanding Society (UKHLS), Wave 7 (UKHLS)"
   ]
  },
  {
   "cell_type": "code",
   "execution_count": 1,
   "id": "fe8c98c9",
   "metadata": {
    "execution": {
     "iopub.execute_input": "2025-07-18T10:45:08.585313Z",
     "iopub.status.busy": "2025-07-18T10:45:08.585313Z",
     "iopub.status.idle": "2025-07-18T10:45:15.704879Z",
     "shell.execute_reply": "2025-07-18T10:45:15.703872Z"
    },
    "tags": [
     "remove-input"
    ]
   },
   "outputs": [
    {
     "data": {
      "text/markdown": [
       ">Last modified: 18 Jul 2025"
      ],
      "text/plain": [
       "<IPython.core.display.Markdown object>"
      ]
     },
     "metadata": {},
     "output_type": "display_data"
    }
   ],
   "source": [
    "\n",
    "import sys\n",
    "import os\n",
    "sys.path.append(os.path.abspath('../../../../scripts/'))\n",
    "from data_doc_helper import LPSDataSet as DS, last_modified\n",
    "API_KEY = os.environ['FASTAPI_KEY']\n",
    "ds = DS(\"UKHLS\", \"g_indresp\")\n",
    "last_modified()\n"
   ]
  },
  {
   "cell_type": "markdown",
   "id": "0420ef8d",
   "metadata": {},
   "source": [
    "## 1. Summary"
   ]
  },
  {
   "cell_type": "code",
   "execution_count": 2,
   "id": "33ac637a",
   "metadata": {
    "execution": {
     "iopub.execute_input": "2025-07-18T10:45:15.710879Z",
     "iopub.status.busy": "2025-07-18T10:45:15.709882Z",
     "iopub.status.idle": "2025-07-18T10:45:15.721117Z",
     "shell.execute_reply": "2025-07-18T10:45:15.720100Z"
    },
    "tags": [
     "remove-input"
    ]
   },
   "outputs": [
    {
     "data": {
      "text/markdown": [
       "Annual UKHLS household and individual questionnaire."
      ],
      "text/plain": [
       "<IPython.core.display.Markdown object>"
      ]
     },
     "metadata": {},
     "output_type": "display_data"
    }
   ],
   "source": [
    "ds.summary()"
   ]
  },
  {
   "cell_type": "code",
   "execution_count": 3,
   "id": "589b662b",
   "metadata": {
    "execution": {
     "iopub.execute_input": "2025-07-18T10:45:15.726437Z",
     "iopub.status.busy": "2025-07-18T10:45:15.726437Z",
     "iopub.status.idle": "2025-07-18T10:45:18.533937Z",
     "shell.execute_reply": "2025-07-18T10:45:18.531931Z"
    },
    "tags": [
     "remove-input"
    ]
   },
   "outputs": [
    {
     "data": {
      "text/html": [
       "<style type=\"text/css\">\n",
       "#T_d6a19 th {\n",
       "  text-align: left;\n",
       "}\n",
       "#T_d6a19_row0_col0, #T_d6a19_row0_col1, #T_d6a19_row1_col0, #T_d6a19_row1_col1, #T_d6a19_row2_col0, #T_d6a19_row2_col1, #T_d6a19_row3_col0, #T_d6a19_row3_col1, #T_d6a19_row4_col0, #T_d6a19_row4_col1, #T_d6a19_row5_col0, #T_d6a19_row5_col1, #T_d6a19_row6_col0, #T_d6a19_row6_col1, #T_d6a19_row7_col0, #T_d6a19_row7_col1, #T_d6a19_row8_col0, #T_d6a19_row8_col1, #T_d6a19_row9_col0, #T_d6a19_row9_col1, #T_d6a19_row10_col0, #T_d6a19_row10_col1, #T_d6a19_row11_col0, #T_d6a19_row11_col1, #T_d6a19_row12_col0, #T_d6a19_row12_col1 {\n",
       "  text-align: left;\n",
       "}\n",
       "</style>\n",
       "<table id=\"T_d6a19\" style=\"font-size: 14px\">\n",
       "  <thead>\n",
       "    <tr>\n",
       "      <th id=\"T_d6a19_level0_col0\" class=\"col_heading level0 col0\" >Dataset Descriptor</th>\n",
       "      <th id=\"T_d6a19_level0_col1\" class=\"col_heading level0 col1\" >Dataset-specific Information</th>\n",
       "    </tr>\n",
       "  </thead>\n",
       "  <tbody>\n",
       "    <tr>\n",
       "      <td id=\"T_d6a19_row0_col0\" class=\"data row0 col0\" >Name of Dataset in TRE</td>\n",
       "      <td id=\"T_d6a19_row0_col1\" class=\"data row0 col1\" >UKHLS_g_indresp</td>\n",
       "    </tr>\n",
       "    <tr>\n",
       "      <td id=\"T_d6a19_row1_col0\" class=\"data row1 col0\" >Citation (APA)</td>\n",
       "      <td id=\"T_d6a19_row1_col1\" class=\"data row1 col1\" >University of Essex, Institute for Social and Economic Research. (2023). <i>Understanding Society, the UK Household Longitudinal Survey & British Household Panel Survey (UKHLS): Understanding Society (UKHLS), Wave 7.</i> UK Longitudinal Linkage Collaboration (UK LLC).  <a href=\"https://doi.org/10.83126/ukllc-dataset-00420-06\" rel=\"noopener noreferrer\" target=\"_blank\">https://doi.org/10.83126/ukllc-dataset-00420-06</a></td>\n",
       "    </tr>\n",
       "    <tr>\n",
       "      <td id=\"T_d6a19_row2_col0\" class=\"data row2 col0\" >Download Citation</td>\n",
       "      <td id=\"T_d6a19_row2_col1\" class=\"data row2 col1\" > <a href=\"https://api.test.datacite.org/application/vnd.citationstyles.csl+json/10.83126/ukllc-dataset-00420-06\" rel=\"noopener noreferrer\" target=\"_blank\">Citeproc JSON</a>&nbsp;&nbsp;&nbsp;&nbsp; <a href=\"https://api.test.datacite.org/application/x-bibtex/10.83126/ukllc-dataset-00420-06\" rel=\"noopener noreferrer\" target=\"_blank\">BibTeX</a>&nbsp;&nbsp;&nbsp;&nbsp; <a href=\"https://api.test.datacite.org/application/x-research-info-systems/10.83126/ukllc-dataset-00420-06\" rel=\"noopener noreferrer\" target=\"_blank\">RIS</a></td>\n",
       "    </tr>\n",
       "    <tr>\n",
       "      <td id=\"T_d6a19_row3_col0\" class=\"data row3 col0\" >Series</td>\n",
       "      <td id=\"T_d6a19_row3_col1\" class=\"data row3 col1\" > <a href=\"https://guidebook.ukllc.ac.uk/docs/lps/lps%20profiles/UKHLS\">Understanding Society, the UK Household Longitudinal Survey & British Household Panel Survey (UKHLS)</a></td>\n",
       "    </tr>\n",
       "    <tr>\n",
       "      <td id=\"T_d6a19_row4_col0\" class=\"data row4 col0\" >Owner</td>\n",
       "      <td id=\"T_d6a19_row4_col1\" class=\"data row4 col1\" >University of Essex</td>\n",
       "    </tr>\n",
       "    <tr>\n",
       "      <td id=\"T_d6a19_row5_col0\" class=\"data row5 col0\" >Temporal Coverage</td>\n",
       "      <td id=\"T_d6a19_row5_col1\" class=\"data row5 col1\" >01/2015 - 05/2017</td>\n",
       "    </tr>\n",
       "    <tr>\n",
       "      <td id=\"T_d6a19_row6_col0\" class=\"data row6 col0\" >Keywords</td>\n",
       "      <td id=\"T_d6a19_row6_col1\" class=\"data row6 col1\" >Household composition,Employment,Income,Health,Family,Education,Civic participation</td>\n",
       "    </tr>\n",
       "    <tr>\n",
       "      <td id=\"T_d6a19_row7_col0\" class=\"data row7 col0\" >Participants Invited</td>\n",
       "      <td id=\"T_d6a19_row7_col1\" class=\"data row7 col1\" >8241</td>\n",
       "    </tr>\n",
       "    <tr>\n",
       "      <td id=\"T_d6a19_row8_col0\" class=\"data row8 col0\" >Participant Count</td>\n",
       "      <td id=\"T_d6a19_row8_col1\" class=\"data row8 col1\" >8241</td>\n",
       "    </tr>\n",
       "    <tr>\n",
       "      <td id=\"T_d6a19_row9_col0\" class=\"data row9 col0\" >Number of variables</td>\n",
       "      <td id=\"T_d6a19_row9_col1\" class=\"data row9 col1\" >2817</td>\n",
       "    </tr>\n",
       "    <tr>\n",
       "      <td id=\"T_d6a19_row10_col0\" class=\"data row10 col0\" >Number of observations</td>\n",
       "      <td id=\"T_d6a19_row10_col1\" class=\"data row10 col1\" >7742</td>\n",
       "    </tr>\n",
       "    <tr>\n",
       "      <td id=\"T_d6a19_row11_col0\" class=\"data row11 col0\" >Specific Restrictions to Data Use</td>\n",
       "      <td id=\"T_d6a19_row11_col1\" class=\"data row11 col1\" >None</td>\n",
       "    </tr>\n",
       "    <tr>\n",
       "      <td id=\"T_d6a19_row12_col0\" class=\"data row12 col0\" >Build a Data Request</td>\n",
       "      <td id=\"T_d6a19_row12_col1\" class=\"data row12 col1\" > <a href=\"https://explore.ukllc.ac.uk/\" rel=\"noopener noreferrer\" target=\"_blank\">https://explore.ukllc.ac.uk/</a></td>\n",
       "    </tr>\n",
       "  </tbody>\n",
       "</table>\n"
      ],
      "text/plain": [
       "<pandas.io.formats.style.Styler at 0x1e79493de80>"
      ]
     },
     "execution_count": 3,
     "metadata": {},
     "output_type": "execute_result"
    }
   ],
   "source": [
    "ds.info_table()"
   ]
  },
  {
   "cell_type": "markdown",
   "id": "a1ae21ca",
   "metadata": {},
   "source": [
    "## 2. Version History"
   ]
  },
  {
   "cell_type": "code",
   "execution_count": 4,
   "id": "d48e3b5d",
   "metadata": {
    "execution": {
     "iopub.execute_input": "2025-07-18T10:45:18.540939Z",
     "iopub.status.busy": "2025-07-18T10:45:18.539939Z",
     "iopub.status.idle": "2025-07-18T10:45:21.504545Z",
     "shell.execute_reply": "2025-07-18T10:45:21.503926Z"
    },
    "tags": [
     "remove-input"
    ]
   },
   "outputs": [
    {
     "data": {
      "text/html": [
       "<style type=\"text/css\">\n",
       "#T_cf14b th {\n",
       "  text-align: left;\n",
       "}\n",
       "#T_cf14b_row0_col0, #T_cf14b_row0_col1, #T_cf14b_row0_col2, #T_cf14b_row0_col3, #T_cf14b_row1_col0, #T_cf14b_row1_col1, #T_cf14b_row1_col2, #T_cf14b_row1_col3, #T_cf14b_row2_col0, #T_cf14b_row2_col1, #T_cf14b_row2_col2, #T_cf14b_row2_col3, #T_cf14b_row3_col0, #T_cf14b_row3_col1, #T_cf14b_row3_col2, #T_cf14b_row3_col3, #T_cf14b_row4_col0, #T_cf14b_row4_col1, #T_cf14b_row4_col2, #T_cf14b_row4_col3 {\n",
       "  text-align: left;\n",
       "}\n",
       "</style>\n",
       "<table id=\"T_cf14b\" style=\"font-size: 14px\">\n",
       "  <thead>\n",
       "    <tr>\n",
       "      <th id=\"T_cf14b_level0_col0\" class=\"col_heading level0 col0\" >Version</th>\n",
       "      <th id=\"T_cf14b_level0_col1\" class=\"col_heading level0 col1\" >3</th>\n",
       "      <th id=\"T_cf14b_level0_col2\" class=\"col_heading level0 col2\" >5</th>\n",
       "      <th id=\"T_cf14b_level0_col3\" class=\"col_heading level0 col3\" >6</th>\n",
       "    </tr>\n",
       "  </thead>\n",
       "  <tbody>\n",
       "    <tr>\n",
       "      <td id=\"T_cf14b_row0_col0\" class=\"data row0 col0\" >Version Date</td>\n",
       "      <td id=\"T_cf14b_row0_col1\" class=\"data row0 col1\" >31 May 2022</td>\n",
       "      <td id=\"T_cf14b_row0_col2\" class=\"data row0 col2\" >21 Feb 2023</td>\n",
       "      <td id=\"T_cf14b_row0_col3\" class=\"data row0 col3\" >14 Jun 2023</td>\n",
       "    </tr>\n",
       "    <tr>\n",
       "      <td id=\"T_cf14b_row1_col0\" class=\"data row1 col0\" >Number of Variables</td>\n",
       "      <td id=\"T_cf14b_row1_col1\" class=\"data row1 col1\" >2822</td>\n",
       "      <td id=\"T_cf14b_row1_col2\" class=\"data row1 col2\" >2818</td>\n",
       "      <td id=\"T_cf14b_row1_col3\" class=\"data row1 col3\" >2818</td>\n",
       "    </tr>\n",
       "    <tr>\n",
       "      <td id=\"T_cf14b_row2_col0\" class=\"data row2 col0\" >Number of Observations</td>\n",
       "      <td id=\"T_cf14b_row2_col1\" class=\"data row2 col1\" >8241</td>\n",
       "      <td id=\"T_cf14b_row2_col2\" class=\"data row2 col2\" >8157</td>\n",
       "      <td id=\"T_cf14b_row2_col3\" class=\"data row2 col3\" >7742</td>\n",
       "    </tr>\n",
       "    <tr>\n",
       "      <td id=\"T_cf14b_row3_col0\" class=\"data row3 col0\" >DOI</td>\n",
       "      <td id=\"T_cf14b_row3_col1\" class=\"data row3 col1\" > <a href=\"https://doi.org/10.83126/ukllc-dataset-00420-03\" rel=\"noopener noreferrer\" target=\"_blank\">10.83126/ukllc-dataset-00420-03</a></td>\n",
       "      <td id=\"T_cf14b_row3_col2\" class=\"data row3 col2\" > <a href=\"https://doi.org/10.83126/ukllc-dataset-00420-05\" rel=\"noopener noreferrer\" target=\"_blank\">10.83126/ukllc-dataset-00420-05</a></td>\n",
       "      <td id=\"T_cf14b_row3_col3\" class=\"data row3 col3\" > <a href=\"https://doi.org/10.83126/ukllc-dataset-00420-06\" rel=\"noopener noreferrer\" target=\"_blank\">10.83126/ukllc-dataset-00420-06</a></td>\n",
       "    </tr>\n",
       "    <tr>\n",
       "      <td id=\"T_cf14b_row4_col0\" class=\"data row4 col0\" >Change Log</td>\n",
       "      <td id=\"T_cf14b_row4_col1\" class=\"data row4 col1\" > <a href=\"https://api.test.datacite.org/dois/10.83126/ukllc-dataset-00420-03/activities\" rel=\"noopener noreferrer\" target=\"_blank\">10.83126/ukllc-dataset-00420-03/activities</a></td>\n",
       "      <td id=\"T_cf14b_row4_col2\" class=\"data row4 col2\" > <a href=\"https://api.test.datacite.org/dois/10.83126/ukllc-dataset-00420-05/activities\" rel=\"noopener noreferrer\" target=\"_blank\">10.83126/ukllc-dataset-00420-05/activities</a></td>\n",
       "      <td id=\"T_cf14b_row4_col3\" class=\"data row4 col3\" > <a href=\"https://api.test.datacite.org/dois/10.83126/ukllc-dataset-00420-06/activities\" rel=\"noopener noreferrer\" target=\"_blank\">10.83126/ukllc-dataset-00420-06/activities</a></td>\n",
       "    </tr>\n",
       "  </tbody>\n",
       "</table>\n"
      ],
      "text/plain": [
       "<pandas.io.formats.style.Styler at 0x1e79a5ba9f0>"
      ]
     },
     "execution_count": 4,
     "metadata": {},
     "output_type": "execute_result"
    }
   ],
   "source": [
    "ds.version_history()"
   ]
  },
  {
   "cell_type": "markdown",
   "id": "7b610b7e",
   "metadata": {},
   "source": [
    "## 3. Documentation"
   ]
  },
  {
   "cell_type": "code",
   "execution_count": 5,
   "id": "31fef254",
   "metadata": {
    "execution": {
     "iopub.execute_input": "2025-07-18T10:45:21.511553Z",
     "iopub.status.busy": "2025-07-18T10:45:21.511553Z",
     "iopub.status.idle": "2025-07-18T10:45:21.519551Z",
     "shell.execute_reply": "2025-07-18T10:45:21.519551Z"
    },
    "tags": [
     "remove-input"
    ]
   },
   "outputs": [
    {
     "data": {
      "text/markdown": [
       "We are currently building a documentation storage system which will host useful documents related to datasets and data owners. We will surface these documents on Guidebook."
      ],
      "text/plain": [
       "<IPython.core.display.Markdown object>"
      ]
     },
     "metadata": {},
     "output_type": "display_data"
    }
   ],
   "source": [
    "ds.documentation()"
   ]
  },
  {
   "cell_type": "markdown",
   "id": "df0b5825",
   "metadata": {},
   "source": [
    "## 4. Useful Syntax"
   ]
  },
  {
   "cell_type": "code",
   "execution_count": 6,
   "id": "21727f77",
   "metadata": {
    "execution": {
     "iopub.execute_input": "2025-07-18T10:45:21.525951Z",
     "iopub.status.busy": "2025-07-18T10:45:21.525951Z",
     "iopub.status.idle": "2025-07-18T10:45:21.534354Z",
     "shell.execute_reply": "2025-07-18T10:45:21.533348Z"
    },
    "tags": [
     "remove-input"
    ]
   },
   "outputs": [
    {
     "data": {
      "text/markdown": [
       "Below we will include syntax that may be helpful to other researchers in the UK LLC TRE. For longer scripts, we will include a snippet of the code plus a link to Git where you can find the full scripts."
      ],
      "text/plain": [
       "<IPython.core.display.Markdown object>"
      ]
     },
     "metadata": {},
     "output_type": "display_data"
    }
   ],
   "source": [
    "ds.useful_syntax()"
   ]
  }
 ],
 "metadata": {
  "language_info": {
   "codemirror_mode": {
    "name": "ipython",
    "version": 3
   },
   "file_extension": ".py",
   "mimetype": "text/x-python",
   "name": "python",
   "nbconvert_exporter": "python",
   "pygments_lexer": "ipython3",
   "version": "3.12.7"
  }
 },
 "nbformat": 4,
 "nbformat_minor": 5
}
