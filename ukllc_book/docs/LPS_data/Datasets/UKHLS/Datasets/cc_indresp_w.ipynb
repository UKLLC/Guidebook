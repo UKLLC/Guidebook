{
 "cells": [
  {
   "cell_type": "markdown",
   "id": "1b345bef",
   "metadata": {},
   "source": [
    "# UKHLS COVID-19 Survey, Wave 3 (UKHLS)"
   ]
  },
  {
   "cell_type": "code",
   "execution_count": 1,
   "id": "a0c11121",
   "metadata": {
    "execution": {
     "iopub.execute_input": "2025-07-28T20:46:35.653435Z",
     "iopub.status.busy": "2025-07-28T20:46:35.652442Z",
     "iopub.status.idle": "2025-07-28T20:46:47.334624Z",
     "shell.execute_reply": "2025-07-28T20:46:47.331513Z"
    },
    "tags": [
     "remove-input"
    ]
   },
   "outputs": [
    {
     "data": {
      "text/markdown": [
       ">Last modified: 28 Jul 2025"
      ],
      "text/plain": [
       "<IPython.core.display.Markdown object>"
      ]
     },
     "metadata": {},
     "output_type": "display_data"
    }
   ],
   "source": [
    "\n",
    "import sys\n",
    "import os\n",
    "sys.path.append(os.path.abspath('../../../../scripts/'))\n",
    "from data_doc_helper import LPSDataSet as DS, last_modified\n",
    "API_KEY = os.environ['FASTAPI_KEY']\n",
    "ds = DS(\"UKHLS\", \"cc_indresp_w\")\n",
    "last_modified()\n"
   ]
  },
  {
   "cell_type": "markdown",
   "id": "a849917a",
   "metadata": {},
   "source": [
    "## 1. Summary"
   ]
  },
  {
   "cell_type": "code",
   "execution_count": 2,
   "id": "0716faa7",
   "metadata": {
    "execution": {
     "iopub.execute_input": "2025-07-28T20:46:47.343553Z",
     "iopub.status.busy": "2025-07-28T20:46:47.342558Z",
     "iopub.status.idle": "2025-07-28T20:46:47.357006Z",
     "shell.execute_reply": "2025-07-28T20:46:47.354981Z"
    },
    "tags": [
     "remove-input"
    ]
   },
   "outputs": [
    {
     "data": {
      "text/markdown": [
       "The 20 minute web-based questionnaire included core content repeated at each data collection to track changes through the pandemic, as well as rotating content.  It builds on the longitudinal strengths of Understanding Society, and links to data we have collected before or will collect in the future and is enhanced by the household structure of the Study.  It was designed to complement existing Understanding Society content."
      ],
      "text/plain": [
       "<IPython.core.display.Markdown object>"
      ]
     },
     "metadata": {},
     "output_type": "display_data"
    }
   ],
   "source": [
    "ds.summary()"
   ]
  },
  {
   "cell_type": "code",
   "execution_count": 3,
   "id": "8d4696a5",
   "metadata": {
    "execution": {
     "iopub.execute_input": "2025-07-28T20:46:47.364093Z",
     "iopub.status.busy": "2025-07-28T20:46:47.364093Z",
     "iopub.status.idle": "2025-07-28T20:46:49.466451Z",
     "shell.execute_reply": "2025-07-28T20:46:49.464918Z"
    },
    "tags": [
     "remove-input"
    ]
   },
   "outputs": [
    {
     "data": {
      "text/html": [
       "<style type=\"text/css\">\n",
       "#T_8a2b0 th {\n",
       "  text-align: left;\n",
       "}\n",
       "#T_8a2b0_row0_col0, #T_8a2b0_row0_col1, #T_8a2b0_row1_col0, #T_8a2b0_row1_col1, #T_8a2b0_row2_col0, #T_8a2b0_row2_col1, #T_8a2b0_row3_col0, #T_8a2b0_row3_col1, #T_8a2b0_row4_col0, #T_8a2b0_row4_col1, #T_8a2b0_row5_col0, #T_8a2b0_row5_col1, #T_8a2b0_row6_col0, #T_8a2b0_row6_col1, #T_8a2b0_row7_col0, #T_8a2b0_row7_col1, #T_8a2b0_row8_col0, #T_8a2b0_row8_col1, #T_8a2b0_row9_col0, #T_8a2b0_row9_col1, #T_8a2b0_row10_col0, #T_8a2b0_row10_col1, #T_8a2b0_row11_col0, #T_8a2b0_row11_col1, #T_8a2b0_row12_col0, #T_8a2b0_row12_col1 {\n",
       "  text-align: left;\n",
       "}\n",
       "</style>\n",
       "<table id=\"T_8a2b0\" style=\"font-size: 14px\">\n",
       "  <thead>\n",
       "    <tr>\n",
       "      <th id=\"T_8a2b0_level0_col0\" class=\"col_heading level0 col0\" >Dataset Descriptor</th>\n",
       "      <th id=\"T_8a2b0_level0_col1\" class=\"col_heading level0 col1\" >Dataset-specific Information</th>\n",
       "    </tr>\n",
       "  </thead>\n",
       "  <tbody>\n",
       "    <tr>\n",
       "      <td id=\"T_8a2b0_row0_col0\" class=\"data row0 col0\" >Name of Dataset in TRE</td>\n",
       "      <td id=\"T_8a2b0_row0_col1\" class=\"data row0 col1\" >UKHLS_cc_indresp_w</td>\n",
       "    </tr>\n",
       "    <tr>\n",
       "      <td id=\"T_8a2b0_row1_col0\" class=\"data row1 col0\" >Citation (APA)</td>\n",
       "      <td id=\"T_8a2b0_row1_col1\" class=\"data row1 col1\" >University of Essex, Institute for Social and Economic Research. (2023). <i>Understanding Society, the UK Household Longitudinal Survey & British Household Panel Survey (UKHLS): UKHLS COVID-19 Survey, Wave 3.</i> UK Longitudinal Linkage Collaboration (UK LLC).  <a href=\"https://doi.org/10.71760/ukllc-dataset-00340-06\" rel=\"noopener noreferrer\" target=\"_blank\">https://doi.org/10.71760/ukllc-dataset-00340-06</a></td>\n",
       "    </tr>\n",
       "    <tr>\n",
       "      <td id=\"T_8a2b0_row2_col0\" class=\"data row2 col0\" >Download Citation</td>\n",
       "      <td id=\"T_8a2b0_row2_col1\" class=\"data row2 col1\" > <a href=\"https://api.datacite.org/application/vnd.citationstyles.csl+json/10.71760/ukllc-dataset-00340-06\" rel=\"noopener noreferrer\" target=\"_blank\">Citeproc JSON</a>&nbsp;&nbsp;&nbsp;&nbsp; <a href=\"https://api.datacite.org/application/x-bibtex/10.71760/ukllc-dataset-00340-06\" rel=\"noopener noreferrer\" target=\"_blank\">BibTeX</a>&nbsp;&nbsp;&nbsp;&nbsp; <a href=\"https://api.datacite.org/application/x-research-info-systems/10.71760/ukllc-dataset-00340-06\" rel=\"noopener noreferrer\" target=\"_blank\">RIS</a></td>\n",
       "    </tr>\n",
       "    <tr>\n",
       "      <td id=\"T_8a2b0_row3_col0\" class=\"data row3 col0\" >Series</td>\n",
       "      <td id=\"T_8a2b0_row3_col1\" class=\"data row3 col1\" > <a href=\"https://guidebook.ukllc.ac.uk/docs/lps_data/lps%20profiles/UKHLS\">Understanding Society, the UK Household Longitudinal Survey & British Household Panel Survey (UKHLS)</a></td>\n",
       "    </tr>\n",
       "    <tr>\n",
       "      <td id=\"T_8a2b0_row4_col0\" class=\"data row4 col0\" >Owner</td>\n",
       "      <td id=\"T_8a2b0_row4_col1\" class=\"data row4 col1\" >University of Essex</td>\n",
       "    </tr>\n",
       "    <tr>\n",
       "      <td id=\"T_8a2b0_row5_col0\" class=\"data row5 col0\" >Temporal Coverage</td>\n",
       "      <td id=\"T_8a2b0_row5_col1\" class=\"data row5 col1\" >06/2020 - 07/2020</td>\n",
       "    </tr>\n",
       "    <tr>\n",
       "      <td id=\"T_8a2b0_row6_col0\" class=\"data row6 col0\" >Keywords</td>\n",
       "      <td id=\"T_8a2b0_row6_col1\" class=\"data row6 col1\" >Household composition,Coronavirus illness,Long-term health conditions management,GHQ,Loneliness,Employment</td>\n",
       "    </tr>\n",
       "    <tr>\n",
       "      <td id=\"T_8a2b0_row7_col0\" class=\"data row7 col0\" >Participants Invited</td>\n",
       "      <td id=\"T_8a2b0_row7_col1\" class=\"data row7 col1\" >8103</td>\n",
       "    </tr>\n",
       "    <tr>\n",
       "      <td id=\"T_8a2b0_row8_col0\" class=\"data row8 col0\" >Participant Count</td>\n",
       "      <td id=\"T_8a2b0_row8_col1\" class=\"data row8 col1\" >8103</td>\n",
       "    </tr>\n",
       "    <tr>\n",
       "      <td id=\"T_8a2b0_row9_col0\" class=\"data row9 col0\" >Number of variables</td>\n",
       "      <td id=\"T_8a2b0_row9_col1\" class=\"data row9 col1\" >769</td>\n",
       "    </tr>\n",
       "    <tr>\n",
       "      <td id=\"T_8a2b0_row10_col0\" class=\"data row10 col0\" >Number of observations</td>\n",
       "      <td id=\"T_8a2b0_row10_col1\" class=\"data row10 col1\" >7637</td>\n",
       "    </tr>\n",
       "    <tr>\n",
       "      <td id=\"T_8a2b0_row11_col0\" class=\"data row11 col0\" >Specific Restrictions to Data Use</td>\n",
       "      <td id=\"T_8a2b0_row11_col1\" class=\"data row11 col1\" >None</td>\n",
       "    </tr>\n",
       "    <tr>\n",
       "      <td id=\"T_8a2b0_row12_col0\" class=\"data row12 col0\" >Build a Data Request</td>\n",
       "      <td id=\"T_8a2b0_row12_col1\" class=\"data row12 col1\" > <a href=\"https://explore.ukllc.ac.uk/\" rel=\"noopener noreferrer\" target=\"_blank\">https://explore.ukllc.ac.uk/</a></td>\n",
       "    </tr>\n",
       "  </tbody>\n",
       "</table>\n"
      ],
      "text/plain": [
       "<pandas.io.formats.style.Styler at 0x152a3acee40>"
      ]
     },
     "execution_count": 3,
     "metadata": {},
     "output_type": "execute_result"
    }
   ],
   "source": [
    "ds.info_table()"
   ]
  },
  {
   "cell_type": "markdown",
   "id": "8ba74053",
   "metadata": {},
   "source": [
    "## 2. Version History"
   ]
  },
  {
   "cell_type": "code",
   "execution_count": 4,
   "id": "fefa263f",
   "metadata": {
    "execution": {
     "iopub.execute_input": "2025-07-28T20:46:49.486469Z",
     "iopub.status.busy": "2025-07-28T20:46:49.476460Z",
     "iopub.status.idle": "2025-07-28T20:46:54.678080Z",
     "shell.execute_reply": "2025-07-28T20:46:54.676546Z"
    },
    "tags": [
     "remove-input"
    ]
   },
   "outputs": [
    {
     "data": {
      "text/html": [
       "<style type=\"text/css\">\n",
       "#T_150eb th {\n",
       "  text-align: left;\n",
       "}\n",
       "#T_150eb_row0_col0, #T_150eb_row0_col1, #T_150eb_row0_col2, #T_150eb_row0_col3, #T_150eb_row0_col4, #T_150eb_row0_col5, #T_150eb_row1_col0, #T_150eb_row1_col1, #T_150eb_row1_col2, #T_150eb_row1_col3, #T_150eb_row1_col4, #T_150eb_row1_col5, #T_150eb_row2_col0, #T_150eb_row2_col1, #T_150eb_row2_col2, #T_150eb_row2_col3, #T_150eb_row2_col4, #T_150eb_row2_col5, #T_150eb_row3_col0, #T_150eb_row3_col1, #T_150eb_row3_col2, #T_150eb_row3_col3, #T_150eb_row3_col4, #T_150eb_row3_col5, #T_150eb_row4_col0, #T_150eb_row4_col1, #T_150eb_row4_col2, #T_150eb_row4_col3, #T_150eb_row4_col4, #T_150eb_row4_col5 {\n",
       "  text-align: left;\n",
       "}\n",
       "</style>\n",
       "<table id=\"T_150eb\" style=\"font-size: 14px\">\n",
       "  <thead>\n",
       "    <tr>\n",
       "      <th id=\"T_150eb_level0_col0\" class=\"col_heading level0 col0\" >Version</th>\n",
       "      <th id=\"T_150eb_level0_col1\" class=\"col_heading level0 col1\" >1</th>\n",
       "      <th id=\"T_150eb_level0_col2\" class=\"col_heading level0 col2\" >2</th>\n",
       "      <th id=\"T_150eb_level0_col3\" class=\"col_heading level0 col3\" >3</th>\n",
       "      <th id=\"T_150eb_level0_col4\" class=\"col_heading level0 col4\" >5</th>\n",
       "      <th id=\"T_150eb_level0_col5\" class=\"col_heading level0 col5\" >6</th>\n",
       "    </tr>\n",
       "  </thead>\n",
       "  <tbody>\n",
       "    <tr>\n",
       "      <td id=\"T_150eb_row0_col0\" class=\"data row0 col0\" >Version Date</td>\n",
       "      <td id=\"T_150eb_row0_col1\" class=\"data row0 col1\" >01 Nov 2021</td>\n",
       "      <td id=\"T_150eb_row0_col2\" class=\"data row0 col2\" >18 Jan 2022</td>\n",
       "      <td id=\"T_150eb_row0_col3\" class=\"data row0 col3\" >31 May 2022</td>\n",
       "      <td id=\"T_150eb_row0_col4\" class=\"data row0 col4\" >21 Feb 2023</td>\n",
       "      <td id=\"T_150eb_row0_col5\" class=\"data row0 col5\" >14 Jun 2023</td>\n",
       "    </tr>\n",
       "    <tr>\n",
       "      <td id=\"T_150eb_row1_col0\" class=\"data row1 col0\" >Number of Variables</td>\n",
       "      <td id=\"T_150eb_row1_col1\" class=\"data row1 col1\" >769</td>\n",
       "      <td id=\"T_150eb_row1_col2\" class=\"data row1 col2\" >769</td>\n",
       "      <td id=\"T_150eb_row1_col3\" class=\"data row1 col3\" >769</td>\n",
       "      <td id=\"T_150eb_row1_col4\" class=\"data row1 col4\" >769</td>\n",
       "      <td id=\"T_150eb_row1_col5\" class=\"data row1 col5\" >769</td>\n",
       "    </tr>\n",
       "    <tr>\n",
       "      <td id=\"T_150eb_row2_col0\" class=\"data row2 col0\" >Number of Observations</td>\n",
       "      <td id=\"T_150eb_row2_col1\" class=\"data row2 col1\" >8103</td>\n",
       "      <td id=\"T_150eb_row2_col2\" class=\"data row2 col2\" >8046</td>\n",
       "      <td id=\"T_150eb_row2_col3\" class=\"data row2 col3\" >8041</td>\n",
       "      <td id=\"T_150eb_row2_col4\" class=\"data row2 col4\" >8021</td>\n",
       "      <td id=\"T_150eb_row2_col5\" class=\"data row2 col5\" >7637</td>\n",
       "    </tr>\n",
       "    <tr>\n",
       "      <td id=\"T_150eb_row3_col0\" class=\"data row3 col0\" >DOI</td>\n",
       "      <td id=\"T_150eb_row3_col1\" class=\"data row3 col1\" > <a href=\"https://doi.org/10.71760/ukllc-dataset-00340-01\" rel=\"noopener noreferrer\" target=\"_blank\">10.71760/ukllc-dataset-00340-01</a></td>\n",
       "      <td id=\"T_150eb_row3_col2\" class=\"data row3 col2\" > <a href=\"https://doi.org/10.71760/ukllc-dataset-00340-02\" rel=\"noopener noreferrer\" target=\"_blank\">10.71760/ukllc-dataset-00340-02</a></td>\n",
       "      <td id=\"T_150eb_row3_col3\" class=\"data row3 col3\" > <a href=\"https://doi.org/10.71760/ukllc-dataset-00340-03\" rel=\"noopener noreferrer\" target=\"_blank\">10.71760/ukllc-dataset-00340-03</a></td>\n",
       "      <td id=\"T_150eb_row3_col4\" class=\"data row3 col4\" > <a href=\"https://doi.org/10.71760/ukllc-dataset-00340-05\" rel=\"noopener noreferrer\" target=\"_blank\">10.71760/ukllc-dataset-00340-05</a></td>\n",
       "      <td id=\"T_150eb_row3_col5\" class=\"data row3 col5\" > <a href=\"https://doi.org/10.71760/ukllc-dataset-00340-06\" rel=\"noopener noreferrer\" target=\"_blank\">10.71760/ukllc-dataset-00340-06</a></td>\n",
       "    </tr>\n",
       "    <tr>\n",
       "      <td id=\"T_150eb_row4_col0\" class=\"data row4 col0\" >Change Log</td>\n",
       "      <td id=\"T_150eb_row4_col1\" class=\"data row4 col1\" > <a href=\"https://api.test.datacite.org/dois/10.71760/ukllc-dataset-00340-01/activities\" rel=\"noopener noreferrer\" target=\"_blank\">10.71760/ukllc-dataset-00340-01/activities</a></td>\n",
       "      <td id=\"T_150eb_row4_col2\" class=\"data row4 col2\" > <a href=\"https://api.test.datacite.org/dois/10.71760/ukllc-dataset-00340-02/activities\" rel=\"noopener noreferrer\" target=\"_blank\">10.71760/ukllc-dataset-00340-02/activities</a></td>\n",
       "      <td id=\"T_150eb_row4_col3\" class=\"data row4 col3\" > <a href=\"https://api.test.datacite.org/dois/10.71760/ukllc-dataset-00340-03/activities\" rel=\"noopener noreferrer\" target=\"_blank\">10.71760/ukllc-dataset-00340-03/activities</a></td>\n",
       "      <td id=\"T_150eb_row4_col4\" class=\"data row4 col4\" > <a href=\"https://api.test.datacite.org/dois/10.71760/ukllc-dataset-00340-05/activities\" rel=\"noopener noreferrer\" target=\"_blank\">10.71760/ukllc-dataset-00340-05/activities</a></td>\n",
       "      <td id=\"T_150eb_row4_col5\" class=\"data row4 col5\" > <a href=\"https://api.test.datacite.org/dois/10.71760/ukllc-dataset-00340-06/activities\" rel=\"noopener noreferrer\" target=\"_blank\">10.71760/ukllc-dataset-00340-06/activities</a></td>\n",
       "    </tr>\n",
       "  </tbody>\n",
       "</table>\n"
      ],
      "text/plain": [
       "<pandas.io.formats.style.Styler at 0x152a399a8d0>"
      ]
     },
     "execution_count": 4,
     "metadata": {},
     "output_type": "execute_result"
    }
   ],
   "source": [
    "ds.version_history()"
   ]
  },
  {
   "cell_type": "markdown",
   "id": "a02a35bd",
   "metadata": {},
   "source": [
    "## 3. Documentation"
   ]
  },
  {
   "cell_type": "code",
   "execution_count": 5,
   "id": "11825d99",
   "metadata": {
    "execution": {
     "iopub.execute_input": "2025-07-28T20:46:54.687080Z",
     "iopub.status.busy": "2025-07-28T20:46:54.687080Z",
     "iopub.status.idle": "2025-07-28T20:46:54.700828Z",
     "shell.execute_reply": "2025-07-28T20:46:54.699814Z"
    },
    "tags": [
     "remove-input"
    ]
   },
   "outputs": [
    {
     "data": {
      "text/markdown": [
       "We are currently building a documentation storage system which will host useful documents related to datasets and data owners. We will surface these documents on Guidebook."
      ],
      "text/plain": [
       "<IPython.core.display.Markdown object>"
      ]
     },
     "metadata": {},
     "output_type": "display_data"
    }
   ],
   "source": [
    "ds.documentation()"
   ]
  },
  {
   "cell_type": "markdown",
   "id": "d30a0246",
   "metadata": {},
   "source": [
    "## 4. Useful Syntax"
   ]
  },
  {
   "cell_type": "code",
   "execution_count": 6,
   "id": "65404c81",
   "metadata": {
    "execution": {
     "iopub.execute_input": "2025-07-28T20:46:54.711598Z",
     "iopub.status.busy": "2025-07-28T20:46:54.710439Z",
     "iopub.status.idle": "2025-07-28T20:46:54.722118Z",
     "shell.execute_reply": "2025-07-28T20:46:54.720098Z"
    },
    "tags": [
     "remove-input"
    ]
   },
   "outputs": [
    {
     "data": {
      "text/markdown": [
       "Below we will include syntax that may be helpful to other researchers in the UK LLC TRE. For longer scripts, we will include a snippet of the code plus a link to Git where you can find the full scripts."
      ],
      "text/plain": [
       "<IPython.core.display.Markdown object>"
      ]
     },
     "metadata": {},
     "output_type": "display_data"
    }
   ],
   "source": [
    "ds.useful_syntax()"
   ]
  }
 ],
 "metadata": {
  "language_info": {
   "codemirror_mode": {
    "name": "ipython",
    "version": 3
   },
   "file_extension": ".py",
   "mimetype": "text/x-python",
   "name": "python",
   "nbconvert_exporter": "python",
   "pygments_lexer": "ipython3",
   "version": "3.12.7"
  }
 },
 "nbformat": 4,
 "nbformat_minor": 5
}
