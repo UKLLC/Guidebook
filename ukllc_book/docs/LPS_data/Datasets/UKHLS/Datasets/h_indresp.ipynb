{
 "cells": [
  {
   "cell_type": "markdown",
   "id": "f7587e68",
   "metadata": {},
   "source": [
    "# Understanding Society (UKHLS), Wave 8 (UKHLS)"
   ]
  },
  {
   "cell_type": "code",
   "execution_count": 1,
   "id": "69ea0a53",
   "metadata": {
    "execution": {
     "iopub.execute_input": "2025-07-28T20:52:06.891980Z",
     "iopub.status.busy": "2025-07-28T20:52:06.891980Z",
     "iopub.status.idle": "2025-07-28T20:52:18.424188Z",
     "shell.execute_reply": "2025-07-28T20:52:18.422648Z"
    },
    "tags": [
     "remove-input"
    ]
   },
   "outputs": [
    {
     "data": {
      "text/markdown": [
       ">Last modified: 28 Jul 2025"
      ],
      "text/plain": [
       "<IPython.core.display.Markdown object>"
      ]
     },
     "metadata": {},
     "output_type": "display_data"
    }
   ],
   "source": [
    "\n",
    "import sys\n",
    "import os\n",
    "sys.path.append(os.path.abspath('../../../../scripts/'))\n",
    "from data_doc_helper import LPSDataSet as DS, last_modified\n",
    "API_KEY = os.environ['FASTAPI_KEY']\n",
    "ds = DS(\"UKHLS\", \"h_indresp\")\n",
    "last_modified()\n"
   ]
  },
  {
   "cell_type": "markdown",
   "id": "6ca7f0c0",
   "metadata": {},
   "source": [
    "## 1. Summary"
   ]
  },
  {
   "cell_type": "code",
   "execution_count": 2,
   "id": "2493a525",
   "metadata": {
    "execution": {
     "iopub.execute_input": "2025-07-28T20:52:18.432505Z",
     "iopub.status.busy": "2025-07-28T20:52:18.432505Z",
     "iopub.status.idle": "2025-07-28T20:52:18.444000Z",
     "shell.execute_reply": "2025-07-28T20:52:18.441980Z"
    },
    "tags": [
     "remove-input"
    ]
   },
   "outputs": [
    {
     "data": {
      "text/markdown": [
       "Annual UKHLS household and individual questionnaire."
      ],
      "text/plain": [
       "<IPython.core.display.Markdown object>"
      ]
     },
     "metadata": {},
     "output_type": "display_data"
    }
   ],
   "source": [
    "ds.summary()"
   ]
  },
  {
   "cell_type": "code",
   "execution_count": 3,
   "id": "e98a8d12",
   "metadata": {
    "execution": {
     "iopub.execute_input": "2025-07-28T20:52:18.450999Z",
     "iopub.status.busy": "2025-07-28T20:52:18.450999Z",
     "iopub.status.idle": "2025-07-28T20:52:24.539891Z",
     "shell.execute_reply": "2025-07-28T20:52:24.536867Z"
    },
    "tags": [
     "remove-input"
    ]
   },
   "outputs": [
    {
     "data": {
      "text/html": [
       "<style type=\"text/css\">\n",
       "#T_1fb69 th {\n",
       "  text-align: left;\n",
       "}\n",
       "#T_1fb69_row0_col0, #T_1fb69_row0_col1, #T_1fb69_row1_col0, #T_1fb69_row1_col1, #T_1fb69_row2_col0, #T_1fb69_row2_col1, #T_1fb69_row3_col0, #T_1fb69_row3_col1, #T_1fb69_row4_col0, #T_1fb69_row4_col1, #T_1fb69_row5_col0, #T_1fb69_row5_col1, #T_1fb69_row6_col0, #T_1fb69_row6_col1, #T_1fb69_row7_col0, #T_1fb69_row7_col1, #T_1fb69_row8_col0, #T_1fb69_row8_col1, #T_1fb69_row9_col0, #T_1fb69_row9_col1, #T_1fb69_row10_col0, #T_1fb69_row10_col1, #T_1fb69_row11_col0, #T_1fb69_row11_col1, #T_1fb69_row12_col0, #T_1fb69_row12_col1 {\n",
       "  text-align: left;\n",
       "}\n",
       "</style>\n",
       "<table id=\"T_1fb69\" style=\"font-size: 14px\">\n",
       "  <thead>\n",
       "    <tr>\n",
       "      <th id=\"T_1fb69_level0_col0\" class=\"col_heading level0 col0\" >Dataset Descriptor</th>\n",
       "      <th id=\"T_1fb69_level0_col1\" class=\"col_heading level0 col1\" >Dataset-specific Information</th>\n",
       "    </tr>\n",
       "  </thead>\n",
       "  <tbody>\n",
       "    <tr>\n",
       "      <td id=\"T_1fb69_row0_col0\" class=\"data row0 col0\" >Name of Dataset in TRE</td>\n",
       "      <td id=\"T_1fb69_row0_col1\" class=\"data row0 col1\" >UKHLS_h_indresp</td>\n",
       "    </tr>\n",
       "    <tr>\n",
       "      <td id=\"T_1fb69_row1_col0\" class=\"data row1 col0\" >Citation (APA)</td>\n",
       "      <td id=\"T_1fb69_row1_col1\" class=\"data row1 col1\" >University of Essex, Institute for Social and Economic Research. (2023). <i>Understanding Society, the UK Household Longitudinal Survey & British Household Panel Survey (UKHLS): Understanding Society (UKHLS), Wave 8.</i> UK Longitudinal Linkage Collaboration (UK LLC).  <a href=\"https://doi.org/10.71760/ukllc-dataset-00352-06\" rel=\"noopener noreferrer\" target=\"_blank\">https://doi.org/10.71760/ukllc-dataset-00352-06</a></td>\n",
       "    </tr>\n",
       "    <tr>\n",
       "      <td id=\"T_1fb69_row2_col0\" class=\"data row2 col0\" >Download Citation</td>\n",
       "      <td id=\"T_1fb69_row2_col1\" class=\"data row2 col1\" > <a href=\"https://api.datacite.org/application/vnd.citationstyles.csl+json/10.71760/ukllc-dataset-00352-06\" rel=\"noopener noreferrer\" target=\"_blank\">Citeproc JSON</a>&nbsp;&nbsp;&nbsp;&nbsp; <a href=\"https://api.datacite.org/application/x-bibtex/10.71760/ukllc-dataset-00352-06\" rel=\"noopener noreferrer\" target=\"_blank\">BibTeX</a>&nbsp;&nbsp;&nbsp;&nbsp; <a href=\"https://api.datacite.org/application/x-research-info-systems/10.71760/ukllc-dataset-00352-06\" rel=\"noopener noreferrer\" target=\"_blank\">RIS</a></td>\n",
       "    </tr>\n",
       "    <tr>\n",
       "      <td id=\"T_1fb69_row3_col0\" class=\"data row3 col0\" >Series</td>\n",
       "      <td id=\"T_1fb69_row3_col1\" class=\"data row3 col1\" > <a href=\"https://guidebook.ukllc.ac.uk/docs/lps_data/lps%20profiles/UKHLS\">Understanding Society, the UK Household Longitudinal Survey & British Household Panel Survey (UKHLS)</a></td>\n",
       "    </tr>\n",
       "    <tr>\n",
       "      <td id=\"T_1fb69_row4_col0\" class=\"data row4 col0\" >Owner</td>\n",
       "      <td id=\"T_1fb69_row4_col1\" class=\"data row4 col1\" >University of Essex</td>\n",
       "    </tr>\n",
       "    <tr>\n",
       "      <td id=\"T_1fb69_row5_col0\" class=\"data row5 col0\" >Temporal Coverage</td>\n",
       "      <td id=\"T_1fb69_row5_col1\" class=\"data row5 col1\" >01/2016 - 05/2018</td>\n",
       "    </tr>\n",
       "    <tr>\n",
       "      <td id=\"T_1fb69_row6_col0\" class=\"data row6 col0\" >Keywords</td>\n",
       "      <td id=\"T_1fb69_row6_col1\" class=\"data row6 col1\" >Household composition,Employment,Income,Health,Family,Education,Civic participation</td>\n",
       "    </tr>\n",
       "    <tr>\n",
       "      <td id=\"T_1fb69_row7_col0\" class=\"data row7 col0\" >Participants Invited</td>\n",
       "      <td id=\"T_1fb69_row7_col1\" class=\"data row7 col1\" >8388</td>\n",
       "    </tr>\n",
       "    <tr>\n",
       "      <td id=\"T_1fb69_row8_col0\" class=\"data row8 col0\" >Participant Count</td>\n",
       "      <td id=\"T_1fb69_row8_col1\" class=\"data row8 col1\" >8388</td>\n",
       "    </tr>\n",
       "    <tr>\n",
       "      <td id=\"T_1fb69_row9_col0\" class=\"data row9 col0\" >Number of variables</td>\n",
       "      <td id=\"T_1fb69_row9_col1\" class=\"data row9 col1\" >2143</td>\n",
       "    </tr>\n",
       "    <tr>\n",
       "      <td id=\"T_1fb69_row10_col0\" class=\"data row10 col0\" >Number of observations</td>\n",
       "      <td id=\"T_1fb69_row10_col1\" class=\"data row10 col1\" >7870</td>\n",
       "    </tr>\n",
       "    <tr>\n",
       "      <td id=\"T_1fb69_row11_col0\" class=\"data row11 col0\" >Specific Restrictions to Data Use</td>\n",
       "      <td id=\"T_1fb69_row11_col1\" class=\"data row11 col1\" >None</td>\n",
       "    </tr>\n",
       "    <tr>\n",
       "      <td id=\"T_1fb69_row12_col0\" class=\"data row12 col0\" >Build a Data Request</td>\n",
       "      <td id=\"T_1fb69_row12_col1\" class=\"data row12 col1\" > <a href=\"https://explore.ukllc.ac.uk/\" rel=\"noopener noreferrer\" target=\"_blank\">https://explore.ukllc.ac.uk/</a></td>\n",
       "    </tr>\n",
       "  </tbody>\n",
       "</table>\n"
      ],
      "text/plain": [
       "<pandas.io.formats.style.Styler at 0x18d2f72f050>"
      ]
     },
     "execution_count": 3,
     "metadata": {},
     "output_type": "execute_result"
    }
   ],
   "source": [
    "ds.info_table()"
   ]
  },
  {
   "cell_type": "markdown",
   "id": "768dac6d",
   "metadata": {},
   "source": [
    "## 2. Version History"
   ]
  },
  {
   "cell_type": "code",
   "execution_count": 4,
   "id": "bedbe4c0",
   "metadata": {
    "execution": {
     "iopub.execute_input": "2025-07-28T20:52:24.550448Z",
     "iopub.status.busy": "2025-07-28T20:52:24.549452Z",
     "iopub.status.idle": "2025-07-28T20:52:29.842076Z",
     "shell.execute_reply": "2025-07-28T20:52:29.840780Z"
    },
    "tags": [
     "remove-input"
    ]
   },
   "outputs": [
    {
     "data": {
      "text/html": [
       "<style type=\"text/css\">\n",
       "#T_2f644 th {\n",
       "  text-align: left;\n",
       "}\n",
       "#T_2f644_row0_col0, #T_2f644_row0_col1, #T_2f644_row0_col2, #T_2f644_row0_col3, #T_2f644_row1_col0, #T_2f644_row1_col1, #T_2f644_row1_col2, #T_2f644_row1_col3, #T_2f644_row2_col0, #T_2f644_row2_col1, #T_2f644_row2_col2, #T_2f644_row2_col3, #T_2f644_row3_col0, #T_2f644_row3_col1, #T_2f644_row3_col2, #T_2f644_row3_col3, #T_2f644_row4_col0, #T_2f644_row4_col1, #T_2f644_row4_col2, #T_2f644_row4_col3 {\n",
       "  text-align: left;\n",
       "}\n",
       "</style>\n",
       "<table id=\"T_2f644\" style=\"font-size: 14px\">\n",
       "  <thead>\n",
       "    <tr>\n",
       "      <th id=\"T_2f644_level0_col0\" class=\"col_heading level0 col0\" >Version</th>\n",
       "      <th id=\"T_2f644_level0_col1\" class=\"col_heading level0 col1\" >3</th>\n",
       "      <th id=\"T_2f644_level0_col2\" class=\"col_heading level0 col2\" >5</th>\n",
       "      <th id=\"T_2f644_level0_col3\" class=\"col_heading level0 col3\" >6</th>\n",
       "    </tr>\n",
       "  </thead>\n",
       "  <tbody>\n",
       "    <tr>\n",
       "      <td id=\"T_2f644_row0_col0\" class=\"data row0 col0\" >Version Date</td>\n",
       "      <td id=\"T_2f644_row0_col1\" class=\"data row0 col1\" >31 May 2022</td>\n",
       "      <td id=\"T_2f644_row0_col2\" class=\"data row0 col2\" >21 Feb 2023</td>\n",
       "      <td id=\"T_2f644_row0_col3\" class=\"data row0 col3\" >14 Jun 2023</td>\n",
       "    </tr>\n",
       "    <tr>\n",
       "      <td id=\"T_2f644_row1_col0\" class=\"data row1 col0\" >Number of Variables</td>\n",
       "      <td id=\"T_2f644_row1_col1\" class=\"data row1 col1\" >2146</td>\n",
       "      <td id=\"T_2f644_row1_col2\" class=\"data row1 col2\" >2142</td>\n",
       "      <td id=\"T_2f644_row1_col3\" class=\"data row1 col3\" >2142</td>\n",
       "    </tr>\n",
       "    <tr>\n",
       "      <td id=\"T_2f644_row2_col0\" class=\"data row2 col0\" >Number of Observations</td>\n",
       "      <td id=\"T_2f644_row2_col1\" class=\"data row2 col1\" >8388</td>\n",
       "      <td id=\"T_2f644_row2_col2\" class=\"data row2 col2\" >8302</td>\n",
       "      <td id=\"T_2f644_row2_col3\" class=\"data row2 col3\" >7870</td>\n",
       "    </tr>\n",
       "    <tr>\n",
       "      <td id=\"T_2f644_row3_col0\" class=\"data row3 col0\" >DOI</td>\n",
       "      <td id=\"T_2f644_row3_col1\" class=\"data row3 col1\" > <a href=\"https://doi.org/10.71760/ukllc-dataset-00352-03\" rel=\"noopener noreferrer\" target=\"_blank\">10.71760/ukllc-dataset-00352-03</a></td>\n",
       "      <td id=\"T_2f644_row3_col2\" class=\"data row3 col2\" > <a href=\"https://doi.org/10.71760/ukllc-dataset-00352-05\" rel=\"noopener noreferrer\" target=\"_blank\">10.71760/ukllc-dataset-00352-05</a></td>\n",
       "      <td id=\"T_2f644_row3_col3\" class=\"data row3 col3\" > <a href=\"https://doi.org/10.71760/ukllc-dataset-00352-06\" rel=\"noopener noreferrer\" target=\"_blank\">10.71760/ukllc-dataset-00352-06</a></td>\n",
       "    </tr>\n",
       "    <tr>\n",
       "      <td id=\"T_2f644_row4_col0\" class=\"data row4 col0\" >Change Log</td>\n",
       "      <td id=\"T_2f644_row4_col1\" class=\"data row4 col1\" > <a href=\"https://api.test.datacite.org/dois/10.71760/ukllc-dataset-00352-03/activities\" rel=\"noopener noreferrer\" target=\"_blank\">10.71760/ukllc-dataset-00352-03/activities</a></td>\n",
       "      <td id=\"T_2f644_row4_col2\" class=\"data row4 col2\" > <a href=\"https://api.test.datacite.org/dois/10.71760/ukllc-dataset-00352-05/activities\" rel=\"noopener noreferrer\" target=\"_blank\">10.71760/ukllc-dataset-00352-05/activities</a></td>\n",
       "      <td id=\"T_2f644_row4_col3\" class=\"data row4 col3\" > <a href=\"https://api.test.datacite.org/dois/10.71760/ukllc-dataset-00352-06/activities\" rel=\"noopener noreferrer\" target=\"_blank\">10.71760/ukllc-dataset-00352-06/activities</a></td>\n",
       "    </tr>\n",
       "  </tbody>\n",
       "</table>\n"
      ],
      "text/plain": [
       "<pandas.io.formats.style.Styler at 0x18d34e03b90>"
      ]
     },
     "execution_count": 4,
     "metadata": {},
     "output_type": "execute_result"
    }
   ],
   "source": [
    "ds.version_history()"
   ]
  },
  {
   "cell_type": "markdown",
   "id": "7f1be187",
   "metadata": {},
   "source": [
    "## 3. Documentation"
   ]
  },
  {
   "cell_type": "code",
   "execution_count": 5,
   "id": "6e2d67b9",
   "metadata": {
    "execution": {
     "iopub.execute_input": "2025-07-28T20:52:29.851668Z",
     "iopub.status.busy": "2025-07-28T20:52:29.848664Z",
     "iopub.status.idle": "2025-07-28T20:52:29.871715Z",
     "shell.execute_reply": "2025-07-28T20:52:29.869694Z"
    },
    "tags": [
     "remove-input"
    ]
   },
   "outputs": [
    {
     "data": {
      "text/markdown": [
       "We are currently building a documentation storage system which will host useful documents related to datasets and data owners. We will surface these documents on Guidebook."
      ],
      "text/plain": [
       "<IPython.core.display.Markdown object>"
      ]
     },
     "metadata": {},
     "output_type": "display_data"
    }
   ],
   "source": [
    "ds.documentation()"
   ]
  },
  {
   "cell_type": "markdown",
   "id": "372cc29b",
   "metadata": {},
   "source": [
    "## 4. Useful Syntax"
   ]
  },
  {
   "cell_type": "code",
   "execution_count": 6,
   "id": "420f5ab2",
   "metadata": {
    "execution": {
     "iopub.execute_input": "2025-07-28T20:52:29.883883Z",
     "iopub.status.busy": "2025-07-28T20:52:29.882889Z",
     "iopub.status.idle": "2025-07-28T20:52:29.897608Z",
     "shell.execute_reply": "2025-07-28T20:52:29.896074Z"
    },
    "tags": [
     "remove-input"
    ]
   },
   "outputs": [
    {
     "data": {
      "text/markdown": [
       "Below we will include syntax that may be helpful to other researchers in the UK LLC TRE. For longer scripts, we will include a snippet of the code plus a link to Git where you can find the full scripts."
      ],
      "text/plain": [
       "<IPython.core.display.Markdown object>"
      ]
     },
     "metadata": {},
     "output_type": "display_data"
    }
   ],
   "source": [
    "ds.useful_syntax()"
   ]
  }
 ],
 "metadata": {
  "language_info": {
   "codemirror_mode": {
    "name": "ipython",
    "version": 3
   },
   "file_extension": ".py",
   "mimetype": "text/x-python",
   "name": "python",
   "nbconvert_exporter": "python",
   "pygments_lexer": "ipython3",
   "version": "3.12.7"
  }
 },
 "nbformat": 4,
 "nbformat_minor": 5
}
