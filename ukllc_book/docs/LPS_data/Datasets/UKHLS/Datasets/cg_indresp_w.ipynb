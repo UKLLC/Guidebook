{
 "cells": [
  {
   "cell_type": "markdown",
   "id": "c8df9f19",
   "metadata": {},
   "source": [
    "# UKHLS COVID-19 Survey, Wave 7 (UKHLS)"
   ]
  },
  {
   "cell_type": "code",
   "execution_count": 1,
   "id": "b9e62d25",
   "metadata": {
    "execution": {
     "iopub.execute_input": "2025-07-28T20:48:13.207756Z",
     "iopub.status.busy": "2025-07-28T20:48:13.207756Z",
     "iopub.status.idle": "2025-07-28T20:48:25.330315Z",
     "shell.execute_reply": "2025-07-28T20:48:25.328228Z"
    },
    "tags": [
     "remove-input"
    ]
   },
   "outputs": [
    {
     "data": {
      "text/markdown": [
       ">Last modified: 28 Jul 2025"
      ],
      "text/plain": [
       "<IPython.core.display.Markdown object>"
      ]
     },
     "metadata": {},
     "output_type": "display_data"
    }
   ],
   "source": [
    "\n",
    "import sys\n",
    "import os\n",
    "sys.path.append(os.path.abspath('../../../../scripts/'))\n",
    "from data_doc_helper import LPSDataSet as DS, last_modified\n",
    "API_KEY = os.environ['FASTAPI_KEY']\n",
    "ds = DS(\"UKHLS\", \"cg_indresp_w\")\n",
    "last_modified()\n"
   ]
  },
  {
   "cell_type": "markdown",
   "id": "a1d6c5ee",
   "metadata": {},
   "source": [
    "## 1. Summary"
   ]
  },
  {
   "cell_type": "code",
   "execution_count": 2,
   "id": "335644e2",
   "metadata": {
    "execution": {
     "iopub.execute_input": "2025-07-28T20:48:25.339337Z",
     "iopub.status.busy": "2025-07-28T20:48:25.338339Z",
     "iopub.status.idle": "2025-07-28T20:48:25.353275Z",
     "shell.execute_reply": "2025-07-28T20:48:25.352256Z"
    },
    "tags": [
     "remove-input"
    ]
   },
   "outputs": [
    {
     "data": {
      "text/markdown": [
       "The 20 minute web-based questionnaire included core content repeated at each data collection to track changes through the pandemic, as well as rotating content.  It builds on the longitudinal strengths of Understanding Society, and links to data we have collected before or will collect in the future and is enhanced by the household structure of the Study.  It was designed to complement existing Understanding Society content."
      ],
      "text/plain": [
       "<IPython.core.display.Markdown object>"
      ]
     },
     "metadata": {},
     "output_type": "display_data"
    }
   ],
   "source": [
    "ds.summary()"
   ]
  },
  {
   "cell_type": "code",
   "execution_count": 3,
   "id": "f7c022ba",
   "metadata": {
    "execution": {
     "iopub.execute_input": "2025-07-28T20:48:25.362685Z",
     "iopub.status.busy": "2025-07-28T20:48:25.360686Z",
     "iopub.status.idle": "2025-07-28T20:48:27.712039Z",
     "shell.execute_reply": "2025-07-28T20:48:27.709490Z"
    },
    "tags": [
     "remove-input"
    ]
   },
   "outputs": [
    {
     "data": {
      "text/html": [
       "<style type=\"text/css\">\n",
       "#T_cee44 th {\n",
       "  text-align: left;\n",
       "}\n",
       "#T_cee44_row0_col0, #T_cee44_row0_col1, #T_cee44_row1_col0, #T_cee44_row1_col1, #T_cee44_row2_col0, #T_cee44_row2_col1, #T_cee44_row3_col0, #T_cee44_row3_col1, #T_cee44_row4_col0, #T_cee44_row4_col1, #T_cee44_row5_col0, #T_cee44_row5_col1, #T_cee44_row6_col0, #T_cee44_row6_col1, #T_cee44_row7_col0, #T_cee44_row7_col1, #T_cee44_row8_col0, #T_cee44_row8_col1, #T_cee44_row9_col0, #T_cee44_row9_col1, #T_cee44_row10_col0, #T_cee44_row10_col1, #T_cee44_row11_col0, #T_cee44_row11_col1, #T_cee44_row12_col0, #T_cee44_row12_col1 {\n",
       "  text-align: left;\n",
       "}\n",
       "</style>\n",
       "<table id=\"T_cee44\" style=\"font-size: 14px\">\n",
       "  <thead>\n",
       "    <tr>\n",
       "      <th id=\"T_cee44_level0_col0\" class=\"col_heading level0 col0\" >Dataset Descriptor</th>\n",
       "      <th id=\"T_cee44_level0_col1\" class=\"col_heading level0 col1\" >Dataset-specific Information</th>\n",
       "    </tr>\n",
       "  </thead>\n",
       "  <tbody>\n",
       "    <tr>\n",
       "      <td id=\"T_cee44_row0_col0\" class=\"data row0 col0\" >Name of Dataset in TRE</td>\n",
       "      <td id=\"T_cee44_row0_col1\" class=\"data row0 col1\" >UKHLS_cg_indresp_w</td>\n",
       "    </tr>\n",
       "    <tr>\n",
       "      <td id=\"T_cee44_row1_col0\" class=\"data row1 col0\" >Citation (APA)</td>\n",
       "      <td id=\"T_cee44_row1_col1\" class=\"data row1 col1\" >University of Essex, Institute for Social and Economic Research. (2023). <i>Understanding Society, the UK Household Longitudinal Survey & British Household Panel Survey (UKHLS): UKHLS COVID-19 Survey, Wave 7.</i> UK Longitudinal Linkage Collaboration (UK LLC).  <a href=\"https://doi.org/10.71760/ukllc-dataset-00344-06\" rel=\"noopener noreferrer\" target=\"_blank\">https://doi.org/10.71760/ukllc-dataset-00344-06</a></td>\n",
       "    </tr>\n",
       "    <tr>\n",
       "      <td id=\"T_cee44_row2_col0\" class=\"data row2 col0\" >Download Citation</td>\n",
       "      <td id=\"T_cee44_row2_col1\" class=\"data row2 col1\" > <a href=\"https://api.datacite.org/application/vnd.citationstyles.csl+json/10.71760/ukllc-dataset-00344-06\" rel=\"noopener noreferrer\" target=\"_blank\">Citeproc JSON</a>&nbsp;&nbsp;&nbsp;&nbsp; <a href=\"https://api.datacite.org/application/x-bibtex/10.71760/ukllc-dataset-00344-06\" rel=\"noopener noreferrer\" target=\"_blank\">BibTeX</a>&nbsp;&nbsp;&nbsp;&nbsp; <a href=\"https://api.datacite.org/application/x-research-info-systems/10.71760/ukllc-dataset-00344-06\" rel=\"noopener noreferrer\" target=\"_blank\">RIS</a></td>\n",
       "    </tr>\n",
       "    <tr>\n",
       "      <td id=\"T_cee44_row3_col0\" class=\"data row3 col0\" >Series</td>\n",
       "      <td id=\"T_cee44_row3_col1\" class=\"data row3 col1\" > <a href=\"https://guidebook.ukllc.ac.uk/docs/lps_data/lps%20profiles/UKHLS\">Understanding Society, the UK Household Longitudinal Survey & British Household Panel Survey (UKHLS)</a></td>\n",
       "    </tr>\n",
       "    <tr>\n",
       "      <td id=\"T_cee44_row4_col0\" class=\"data row4 col0\" >Owner</td>\n",
       "      <td id=\"T_cee44_row4_col1\" class=\"data row4 col1\" >University of Essex</td>\n",
       "    </tr>\n",
       "    <tr>\n",
       "      <td id=\"T_cee44_row5_col0\" class=\"data row5 col0\" >Temporal Coverage</td>\n",
       "      <td id=\"T_cee44_row5_col1\" class=\"data row5 col1\" >01/2020 - 02/2021</td>\n",
       "    </tr>\n",
       "    <tr>\n",
       "      <td id=\"T_cee44_row6_col0\" class=\"data row6 col0\" >Keywords</td>\n",
       "      <td id=\"T_cee44_row6_col1\" class=\"data row6 col1\" >Household composition,Coronavirus illness,Long-term health conditions management,GHQ,Loneliness,Employment</td>\n",
       "    </tr>\n",
       "    <tr>\n",
       "      <td id=\"T_cee44_row7_col0\" class=\"data row7 col0\" >Participants Invited</td>\n",
       "      <td id=\"T_cee44_row7_col1\" class=\"data row7 col1\" >7689</td>\n",
       "    </tr>\n",
       "    <tr>\n",
       "      <td id=\"T_cee44_row8_col0\" class=\"data row8 col0\" >Participant Count</td>\n",
       "      <td id=\"T_cee44_row8_col1\" class=\"data row8 col1\" >7689</td>\n",
       "    </tr>\n",
       "    <tr>\n",
       "      <td id=\"T_cee44_row9_col0\" class=\"data row9 col0\" >Number of variables</td>\n",
       "      <td id=\"T_cee44_row9_col1\" class=\"data row9 col1\" >807</td>\n",
       "    </tr>\n",
       "    <tr>\n",
       "      <td id=\"T_cee44_row10_col0\" class=\"data row10 col0\" >Number of observations</td>\n",
       "      <td id=\"T_cee44_row10_col1\" class=\"data row10 col1\" >7252</td>\n",
       "    </tr>\n",
       "    <tr>\n",
       "      <td id=\"T_cee44_row11_col0\" class=\"data row11 col0\" >Specific Restrictions to Data Use</td>\n",
       "      <td id=\"T_cee44_row11_col1\" class=\"data row11 col1\" >None</td>\n",
       "    </tr>\n",
       "    <tr>\n",
       "      <td id=\"T_cee44_row12_col0\" class=\"data row12 col0\" >Build a Data Request</td>\n",
       "      <td id=\"T_cee44_row12_col1\" class=\"data row12 col1\" > <a href=\"https://explore.ukllc.ac.uk/\" rel=\"noopener noreferrer\" target=\"_blank\">https://explore.ukllc.ac.uk/</a></td>\n",
       "    </tr>\n",
       "  </tbody>\n",
       "</table>\n"
      ],
      "text/plain": [
       "<pandas.io.formats.style.Styler at 0x1b48ead1610>"
      ]
     },
     "execution_count": 3,
     "metadata": {},
     "output_type": "execute_result"
    }
   ],
   "source": [
    "ds.info_table()"
   ]
  },
  {
   "cell_type": "markdown",
   "id": "1c4a21c1",
   "metadata": {},
   "source": [
    "## 2. Version History"
   ]
  },
  {
   "cell_type": "code",
   "execution_count": 4,
   "id": "f12d8499",
   "metadata": {
    "execution": {
     "iopub.execute_input": "2025-07-28T20:48:27.721062Z",
     "iopub.status.busy": "2025-07-28T20:48:27.720040Z",
     "iopub.status.idle": "2025-07-28T20:48:32.676866Z",
     "shell.execute_reply": "2025-07-28T20:48:32.673846Z"
    },
    "tags": [
     "remove-input"
    ]
   },
   "outputs": [
    {
     "data": {
      "text/html": [
       "<style type=\"text/css\">\n",
       "#T_a1ab5 th {\n",
       "  text-align: left;\n",
       "}\n",
       "#T_a1ab5_row0_col0, #T_a1ab5_row0_col1, #T_a1ab5_row0_col2, #T_a1ab5_row0_col3, #T_a1ab5_row0_col4, #T_a1ab5_row0_col5, #T_a1ab5_row1_col0, #T_a1ab5_row1_col1, #T_a1ab5_row1_col2, #T_a1ab5_row1_col3, #T_a1ab5_row1_col4, #T_a1ab5_row1_col5, #T_a1ab5_row2_col0, #T_a1ab5_row2_col1, #T_a1ab5_row2_col2, #T_a1ab5_row2_col3, #T_a1ab5_row2_col4, #T_a1ab5_row2_col5, #T_a1ab5_row3_col0, #T_a1ab5_row3_col1, #T_a1ab5_row3_col2, #T_a1ab5_row3_col3, #T_a1ab5_row3_col4, #T_a1ab5_row3_col5, #T_a1ab5_row4_col0, #T_a1ab5_row4_col1, #T_a1ab5_row4_col2, #T_a1ab5_row4_col3, #T_a1ab5_row4_col4, #T_a1ab5_row4_col5 {\n",
       "  text-align: left;\n",
       "}\n",
       "</style>\n",
       "<table id=\"T_a1ab5\" style=\"font-size: 14px\">\n",
       "  <thead>\n",
       "    <tr>\n",
       "      <th id=\"T_a1ab5_level0_col0\" class=\"col_heading level0 col0\" >Version</th>\n",
       "      <th id=\"T_a1ab5_level0_col1\" class=\"col_heading level0 col1\" >1</th>\n",
       "      <th id=\"T_a1ab5_level0_col2\" class=\"col_heading level0 col2\" >2</th>\n",
       "      <th id=\"T_a1ab5_level0_col3\" class=\"col_heading level0 col3\" >3</th>\n",
       "      <th id=\"T_a1ab5_level0_col4\" class=\"col_heading level0 col4\" >5</th>\n",
       "      <th id=\"T_a1ab5_level0_col5\" class=\"col_heading level0 col5\" >6</th>\n",
       "    </tr>\n",
       "  </thead>\n",
       "  <tbody>\n",
       "    <tr>\n",
       "      <td id=\"T_a1ab5_row0_col0\" class=\"data row0 col0\" >Version Date</td>\n",
       "      <td id=\"T_a1ab5_row0_col1\" class=\"data row0 col1\" >01 Nov 2021</td>\n",
       "      <td id=\"T_a1ab5_row0_col2\" class=\"data row0 col2\" >18 Jan 2022</td>\n",
       "      <td id=\"T_a1ab5_row0_col3\" class=\"data row0 col3\" >31 May 2022</td>\n",
       "      <td id=\"T_a1ab5_row0_col4\" class=\"data row0 col4\" >21 Feb 2023</td>\n",
       "      <td id=\"T_a1ab5_row0_col5\" class=\"data row0 col5\" >14 Jun 2023</td>\n",
       "    </tr>\n",
       "    <tr>\n",
       "      <td id=\"T_a1ab5_row1_col0\" class=\"data row1 col0\" >Number of Variables</td>\n",
       "      <td id=\"T_a1ab5_row1_col1\" class=\"data row1 col1\" >807</td>\n",
       "      <td id=\"T_a1ab5_row1_col2\" class=\"data row1 col2\" >807</td>\n",
       "      <td id=\"T_a1ab5_row1_col3\" class=\"data row1 col3\" >807</td>\n",
       "      <td id=\"T_a1ab5_row1_col4\" class=\"data row1 col4\" >807</td>\n",
       "      <td id=\"T_a1ab5_row1_col5\" class=\"data row1 col5\" >807</td>\n",
       "    </tr>\n",
       "    <tr>\n",
       "      <td id=\"T_a1ab5_row2_col0\" class=\"data row2 col0\" >Number of Observations</td>\n",
       "      <td id=\"T_a1ab5_row2_col1\" class=\"data row2 col1\" >7689</td>\n",
       "      <td id=\"T_a1ab5_row2_col2\" class=\"data row2 col2\" >7636</td>\n",
       "      <td id=\"T_a1ab5_row2_col3\" class=\"data row2 col3\" >7630</td>\n",
       "      <td id=\"T_a1ab5_row2_col4\" class=\"data row2 col4\" >7612</td>\n",
       "      <td id=\"T_a1ab5_row2_col5\" class=\"data row2 col5\" >7252</td>\n",
       "    </tr>\n",
       "    <tr>\n",
       "      <td id=\"T_a1ab5_row3_col0\" class=\"data row3 col0\" >DOI</td>\n",
       "      <td id=\"T_a1ab5_row3_col1\" class=\"data row3 col1\" > <a href=\"https://doi.org/10.71760/ukllc-dataset-00344-01\" rel=\"noopener noreferrer\" target=\"_blank\">10.71760/ukllc-dataset-00344-01</a></td>\n",
       "      <td id=\"T_a1ab5_row3_col2\" class=\"data row3 col2\" > <a href=\"https://doi.org/10.71760/ukllc-dataset-00344-02\" rel=\"noopener noreferrer\" target=\"_blank\">10.71760/ukllc-dataset-00344-02</a></td>\n",
       "      <td id=\"T_a1ab5_row3_col3\" class=\"data row3 col3\" > <a href=\"https://doi.org/10.71760/ukllc-dataset-00344-03\" rel=\"noopener noreferrer\" target=\"_blank\">10.71760/ukllc-dataset-00344-03</a></td>\n",
       "      <td id=\"T_a1ab5_row3_col4\" class=\"data row3 col4\" > <a href=\"https://doi.org/10.71760/ukllc-dataset-00344-05\" rel=\"noopener noreferrer\" target=\"_blank\">10.71760/ukllc-dataset-00344-05</a></td>\n",
       "      <td id=\"T_a1ab5_row3_col5\" class=\"data row3 col5\" > <a href=\"https://doi.org/10.71760/ukllc-dataset-00344-06\" rel=\"noopener noreferrer\" target=\"_blank\">10.71760/ukllc-dataset-00344-06</a></td>\n",
       "    </tr>\n",
       "    <tr>\n",
       "      <td id=\"T_a1ab5_row4_col0\" class=\"data row4 col0\" >Change Log</td>\n",
       "      <td id=\"T_a1ab5_row4_col1\" class=\"data row4 col1\" > <a href=\"https://api.test.datacite.org/dois/10.71760/ukllc-dataset-00344-01/activities\" rel=\"noopener noreferrer\" target=\"_blank\">10.71760/ukllc-dataset-00344-01/activities</a></td>\n",
       "      <td id=\"T_a1ab5_row4_col2\" class=\"data row4 col2\" > <a href=\"https://api.test.datacite.org/dois/10.71760/ukllc-dataset-00344-02/activities\" rel=\"noopener noreferrer\" target=\"_blank\">10.71760/ukllc-dataset-00344-02/activities</a></td>\n",
       "      <td id=\"T_a1ab5_row4_col3\" class=\"data row4 col3\" > <a href=\"https://api.test.datacite.org/dois/10.71760/ukllc-dataset-00344-03/activities\" rel=\"noopener noreferrer\" target=\"_blank\">10.71760/ukllc-dataset-00344-03/activities</a></td>\n",
       "      <td id=\"T_a1ab5_row4_col4\" class=\"data row4 col4\" > <a href=\"https://api.test.datacite.org/dois/10.71760/ukllc-dataset-00344-05/activities\" rel=\"noopener noreferrer\" target=\"_blank\">10.71760/ukllc-dataset-00344-05/activities</a></td>\n",
       "      <td id=\"T_a1ab5_row4_col5\" class=\"data row4 col5\" > <a href=\"https://api.test.datacite.org/dois/10.71760/ukllc-dataset-00344-06/activities\" rel=\"noopener noreferrer\" target=\"_blank\">10.71760/ukllc-dataset-00344-06/activities</a></td>\n",
       "    </tr>\n",
       "  </tbody>\n",
       "</table>\n"
      ],
      "text/plain": [
       "<pandas.io.formats.style.Styler at 0x1b48eabaab0>"
      ]
     },
     "execution_count": 4,
     "metadata": {},
     "output_type": "execute_result"
    }
   ],
   "source": [
    "ds.version_history()"
   ]
  },
  {
   "cell_type": "markdown",
   "id": "09676999",
   "metadata": {},
   "source": [
    "## 3. Documentation"
   ]
  },
  {
   "cell_type": "code",
   "execution_count": 5,
   "id": "59cb46d7",
   "metadata": {
    "execution": {
     "iopub.execute_input": "2025-07-28T20:48:32.687128Z",
     "iopub.status.busy": "2025-07-28T20:48:32.686152Z",
     "iopub.status.idle": "2025-07-28T20:48:32.699877Z",
     "shell.execute_reply": "2025-07-28T20:48:32.698551Z"
    },
    "tags": [
     "remove-input"
    ]
   },
   "outputs": [
    {
     "data": {
      "text/markdown": [
       "We are currently building a documentation storage system which will host useful documents related to datasets and data owners. We will surface these documents on Guidebook."
      ],
      "text/plain": [
       "<IPython.core.display.Markdown object>"
      ]
     },
     "metadata": {},
     "output_type": "display_data"
    }
   ],
   "source": [
    "ds.documentation()"
   ]
  },
  {
   "cell_type": "markdown",
   "id": "956da466",
   "metadata": {},
   "source": [
    "## 4. Useful Syntax"
   ]
  },
  {
   "cell_type": "code",
   "execution_count": 6,
   "id": "4535b14a",
   "metadata": {
    "execution": {
     "iopub.execute_input": "2025-07-28T20:48:32.706955Z",
     "iopub.status.busy": "2025-07-28T20:48:32.705962Z",
     "iopub.status.idle": "2025-07-28T20:48:32.718244Z",
     "shell.execute_reply": "2025-07-28T20:48:32.716227Z"
    },
    "tags": [
     "remove-input"
    ]
   },
   "outputs": [
    {
     "data": {
      "text/markdown": [
       "Below we will include syntax that may be helpful to other researchers in the UK LLC TRE. For longer scripts, we will include a snippet of the code plus a link to Git where you can find the full scripts."
      ],
      "text/plain": [
       "<IPython.core.display.Markdown object>"
      ]
     },
     "metadata": {},
     "output_type": "display_data"
    }
   ],
   "source": [
    "ds.useful_syntax()"
   ]
  }
 ],
 "metadata": {
  "language_info": {
   "codemirror_mode": {
    "name": "ipython",
    "version": 3
   },
   "file_extension": ".py",
   "mimetype": "text/x-python",
   "name": "python",
   "nbconvert_exporter": "python",
   "pygments_lexer": "ipython3",
   "version": "3.12.7"
  }
 },
 "nbformat": 4,
 "nbformat_minor": 5
}
