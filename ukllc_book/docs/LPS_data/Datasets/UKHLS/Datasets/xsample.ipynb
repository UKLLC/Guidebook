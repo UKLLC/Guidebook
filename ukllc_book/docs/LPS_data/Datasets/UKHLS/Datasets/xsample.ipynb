{
 "cells": [
  {
   "cell_type": "markdown",
   "id": "30cc339a",
   "metadata": {},
   "source": [
    "# UKHLS COVID-19 Survey, Allocations/Outcomes (UKHLS)"
   ]
  },
  {
   "cell_type": "code",
   "execution_count": 1,
   "id": "c5b76b33",
   "metadata": {
    "execution": {
     "iopub.execute_input": "2025-07-18T10:47:08.596798Z",
     "iopub.status.busy": "2025-07-18T10:47:08.596798Z",
     "iopub.status.idle": "2025-07-18T10:47:16.167017Z",
     "shell.execute_reply": "2025-07-18T10:47:16.164021Z"
    },
    "tags": [
     "remove-input"
    ]
   },
   "outputs": [
    {
     "data": {
      "text/markdown": [
       ">Last modified: 28 Jul 2025"
      ],
      "text/plain": [
       "<IPython.core.display.Markdown object>"
      ]
     },
     "metadata": {},
     "output_type": "display_data"
    }
   ],
   "source": [
    "\n",
    "import sys\n",
    "import os\n",
    "sys.path.append(os.path.abspath('../../../../scripts/'))\n",
    "from data_doc_helper import LPSDataSet as DS, last_modified\n",
    "API_KEY = os.environ['FASTAPI_KEY']\n",
    "ds = DS(\"UKHLS\", \"xsample\")\n",
    "last_modified()\n"
   ]
  },
  {
   "cell_type": "markdown",
   "id": "c54fab0c",
   "metadata": {},
   "source": [
    "## 1. Summary"
   ]
  },
  {
   "cell_type": "code",
   "execution_count": 2,
   "id": "11b2a8c0",
   "metadata": {
    "execution": {
     "iopub.execute_input": "2025-07-18T10:47:16.171023Z",
     "iopub.status.busy": "2025-07-18T10:47:16.170022Z",
     "iopub.status.idle": "2025-07-18T10:47:16.178530Z",
     "shell.execute_reply": "2025-07-18T10:47:16.178023Z"
    },
    "tags": [
     "remove-input"
    ]
   },
   "outputs": [
    {
     "data": {
      "text/markdown": [
       "The XSAMPLE file includes one observation on each of the 44,067 sample members who were eligible for the COVID-19 study in April 2020. This file was updated after each wave to include information about the survey implementation and outcomes from the latest survey."
      ],
      "text/plain": [
       "<IPython.core.display.Markdown object>"
      ]
     },
     "metadata": {},
     "output_type": "display_data"
    }
   ],
   "source": [
    "ds.summary()"
   ]
  },
  {
   "cell_type": "code",
   "execution_count": 3,
   "id": "b73df877",
   "metadata": {
    "execution": {
     "iopub.execute_input": "2025-07-18T10:47:16.184537Z",
     "iopub.status.busy": "2025-07-18T10:47:16.183537Z",
     "iopub.status.idle": "2025-07-18T10:47:17.361820Z",
     "shell.execute_reply": "2025-07-18T10:47:17.359580Z"
    },
    "tags": [
     "remove-input"
    ]
   },
   "outputs": [
    {
     "data": {
      "text/html": [
       "<style type=\"text/css\">\n",
       "#T_1cfe6 th {\n",
       "  text-align: left;\n",
       "}\n",
       "#T_1cfe6_row0_col0, #T_1cfe6_row0_col1, #T_1cfe6_row1_col0, #T_1cfe6_row1_col1, #T_1cfe6_row2_col0, #T_1cfe6_row2_col1, #T_1cfe6_row3_col0, #T_1cfe6_row3_col1, #T_1cfe6_row4_col0, #T_1cfe6_row4_col1, #T_1cfe6_row5_col0, #T_1cfe6_row5_col1, #T_1cfe6_row6_col0, #T_1cfe6_row6_col1, #T_1cfe6_row7_col0, #T_1cfe6_row7_col1, #T_1cfe6_row8_col0, #T_1cfe6_row8_col1, #T_1cfe6_row9_col0, #T_1cfe6_row9_col1, #T_1cfe6_row10_col0, #T_1cfe6_row10_col1, #T_1cfe6_row11_col0, #T_1cfe6_row11_col1, #T_1cfe6_row12_col0, #T_1cfe6_row12_col1 {\n",
       "  text-align: left;\n",
       "}\n",
       "</style>\n",
       "<table id=\"T_1cfe6\" style=\"font-size: 14px\">\n",
       "  <thead>\n",
       "    <tr>\n",
       "      <th id=\"T_1cfe6_level0_col0\" class=\"col_heading level0 col0\" >Dataset Descriptor</th>\n",
       "      <th id=\"T_1cfe6_level0_col1\" class=\"col_heading level0 col1\" >Dataset-specific Information</th>\n",
       "    </tr>\n",
       "  </thead>\n",
       "  <tbody>\n",
       "    <tr>\n",
       "      <td id=\"T_1cfe6_row0_col0\" class=\"data row0 col0\" >Name of Dataset in TRE</td>\n",
       "      <td id=\"T_1cfe6_row0_col1\" class=\"data row0 col1\" >UKHLS_xsample</td>\n",
       "    </tr>\n",
       "    <tr>\n",
       "      <td id=\"T_1cfe6_row1_col0\" class=\"data row1 col0\" >Citation (APA)</td>\n",
       "      <td id=\"T_1cfe6_row1_col1\" class=\"data row1 col1\" >University of Essex, Institute for Social and Economic Research. (2023). <i>Understanding Society, the UK Household Longitudinal Survey & British Household Panel Survey (UKHLS): UKHLS COVID-19 Survey, Allocations/Outcomes.</i> UK Longitudinal Linkage Collaboration (UK LLC).  <a href=\"https://doi.org/10.71760/ukllc-dataset-00358-06\" rel=\"noopener noreferrer\" target=\"_blank\">https://doi.org/10.71760/ukllc-dataset-00358-06</a></td>\n",
       "    </tr>\n",
       "    <tr>\n",
       "      <td id=\"T_1cfe6_row2_col0\" class=\"data row2 col0\" >Download Citation</td>\n",
       "      <td id=\"T_1cfe6_row2_col1\" class=\"data row2 col1\" > <a href=\"https://api.datacite.org/application/vnd.citationstyles.csl+json/10.71760/ukllc-dataset-00358-06\" rel=\"noopener noreferrer\" target=\"_blank\">Citeproc JSON</a>&nbsp;&nbsp;&nbsp;&nbsp; <a href=\"https://api.datacite.org/application/x-bibtex/10.71760/ukllc-dataset-00358-06\" rel=\"noopener noreferrer\" target=\"_blank\">BibTeX</a>&nbsp;&nbsp;&nbsp;&nbsp; <a href=\"https://api.datacite.org/application/x-research-info-systems/10.71760/ukllc-dataset-00358-06\" rel=\"noopener noreferrer\" target=\"_blank\">RIS</a></td>\n",
       "    </tr>\n",
       "    <tr>\n",
       "      <td id=\"T_1cfe6_row3_col0\" class=\"data row3 col0\" >Series</td>\n",
       "      <td id=\"T_1cfe6_row3_col1\" class=\"data row3 col1\" > <a href=\"https://guidebook.ukllc.ac.uk/docs/lps_data/lps%20profiles/UKHLS\">Understanding Society, the UK Household Longitudinal Survey & British Household Panel Survey (UKHLS)</a></td>\n",
       "    </tr>\n",
       "    <tr>\n",
       "      <td id=\"T_1cfe6_row4_col0\" class=\"data row4 col0\" >Owner</td>\n",
       "      <td id=\"T_1cfe6_row4_col1\" class=\"data row4 col1\" >University of Essex</td>\n",
       "    </tr>\n",
       "    <tr>\n",
       "      <td id=\"T_1cfe6_row5_col0\" class=\"data row5 col0\" >Temporal Coverage</td>\n",
       "      <td id=\"T_1cfe6_row5_col1\" class=\"data row5 col1\" >04/2020 - 10/2021</td>\n",
       "    </tr>\n",
       "    <tr>\n",
       "      <td id=\"T_1cfe6_row6_col0\" class=\"data row6 col0\" >Keywords</td>\n",
       "      <td id=\"T_1cfe6_row6_col1\" class=\"data row6 col1\" >Survey design,Experimental allocations,Outcomes</td>\n",
       "    </tr>\n",
       "    <tr>\n",
       "      <td id=\"T_1cfe6_row7_col0\" class=\"data row7 col0\" >Participants Invited</td>\n",
       "      <td id=\"T_1cfe6_row7_col1\" class=\"data row7 col1\" >8873</td>\n",
       "    </tr>\n",
       "    <tr>\n",
       "      <td id=\"T_1cfe6_row8_col0\" class=\"data row8 col0\" >Participant Count</td>\n",
       "      <td id=\"T_1cfe6_row8_col1\" class=\"data row8 col1\" >8873</td>\n",
       "    </tr>\n",
       "    <tr>\n",
       "      <td id=\"T_1cfe6_row9_col0\" class=\"data row9 col0\" >Number of variables</td>\n",
       "      <td id=\"T_1cfe6_row9_col1\" class=\"data row9 col1\" >511</td>\n",
       "    </tr>\n",
       "    <tr>\n",
       "      <td id=\"T_1cfe6_row10_col0\" class=\"data row10 col0\" >Number of observations</td>\n",
       "      <td id=\"T_1cfe6_row10_col1\" class=\"data row10 col1\" >8390</td>\n",
       "    </tr>\n",
       "    <tr>\n",
       "      <td id=\"T_1cfe6_row11_col0\" class=\"data row11 col0\" >Specific Restrictions to Data Use</td>\n",
       "      <td id=\"T_1cfe6_row11_col1\" class=\"data row11 col1\" >None</td>\n",
       "    </tr>\n",
       "    <tr>\n",
       "      <td id=\"T_1cfe6_row12_col0\" class=\"data row12 col0\" >Build a Data Request</td>\n",
       "      <td id=\"T_1cfe6_row12_col1\" class=\"data row12 col1\" > <a href=\"https://explore.ukllc.ac.uk/\" rel=\"noopener noreferrer\" target=\"_blank\">https://explore.ukllc.ac.uk/</a></td>\n",
       "    </tr>\n",
       "  </tbody>\n",
       "</table>\n"
      ],
      "text/plain": [
       "<pandas.io.formats.style.Styler at 0x20117736e40>"
      ]
     },
     "execution_count": 3,
     "metadata": {},
     "output_type": "execute_result"
    }
   ],
   "source": [
    "ds.info_table()"
   ]
  },
  {
   "cell_type": "markdown",
   "id": "5e0271f1",
   "metadata": {},
   "source": [
    "## 2. Version History"
   ]
  },
  {
   "cell_type": "code",
   "execution_count": 4,
   "id": "9d834377",
   "metadata": {
    "execution": {
     "iopub.execute_input": "2025-07-18T10:47:17.369346Z",
     "iopub.status.busy": "2025-07-18T10:47:17.368837Z",
     "iopub.status.idle": "2025-07-18T10:47:20.010208Z",
     "shell.execute_reply": "2025-07-18T10:47:20.009545Z"
    },
    "tags": [
     "remove-input"
    ]
   },
   "outputs": [
    {
     "data": {
      "text/html": [
       "<style type=\"text/css\">\n",
       "#T_cd588 th {\n",
       "  text-align: left;\n",
       "}\n",
       "#T_cd588_row0_col0, #T_cd588_row0_col1, #T_cd588_row0_col2, #T_cd588_row0_col3, #T_cd588_row1_col0, #T_cd588_row1_col1, #T_cd588_row1_col2, #T_cd588_row1_col3, #T_cd588_row2_col0, #T_cd588_row2_col1, #T_cd588_row2_col2, #T_cd588_row2_col3, #T_cd588_row3_col0, #T_cd588_row3_col1, #T_cd588_row3_col2, #T_cd588_row3_col3, #T_cd588_row4_col0, #T_cd588_row4_col1, #T_cd588_row4_col2, #T_cd588_row4_col3 {\n",
       "  text-align: left;\n",
       "}\n",
       "</style>\n",
       "<table id=\"T_cd588\" style=\"font-size: 14px\">\n",
       "  <thead>\n",
       "    <tr>\n",
       "      <th id=\"T_cd588_level0_col0\" class=\"col_heading level0 col0\" >Version</th>\n",
       "      <th id=\"T_cd588_level0_col1\" class=\"col_heading level0 col1\" >3</th>\n",
       "      <th id=\"T_cd588_level0_col2\" class=\"col_heading level0 col2\" >5</th>\n",
       "      <th id=\"T_cd588_level0_col3\" class=\"col_heading level0 col3\" >6</th>\n",
       "    </tr>\n",
       "  </thead>\n",
       "  <tbody>\n",
       "    <tr>\n",
       "      <td id=\"T_cd588_row0_col0\" class=\"data row0 col0\" >Version Date</td>\n",
       "      <td id=\"T_cd588_row0_col1\" class=\"data row0 col1\" >31 May 2022</td>\n",
       "      <td id=\"T_cd588_row0_col2\" class=\"data row0 col2\" >21 Feb 2023</td>\n",
       "      <td id=\"T_cd588_row0_col3\" class=\"data row0 col3\" >14 Jun 2023</td>\n",
       "    </tr>\n",
       "    <tr>\n",
       "      <td id=\"T_cd588_row1_col0\" class=\"data row1 col0\" >Number of Variables</td>\n",
       "      <td id=\"T_cd588_row1_col1\" class=\"data row1 col1\" >511</td>\n",
       "      <td id=\"T_cd588_row1_col2\" class=\"data row1 col2\" >511</td>\n",
       "      <td id=\"T_cd588_row1_col3\" class=\"data row1 col3\" >511</td>\n",
       "    </tr>\n",
       "    <tr>\n",
       "      <td id=\"T_cd588_row2_col0\" class=\"data row2 col0\" >Number of Observations</td>\n",
       "      <td id=\"T_cd588_row2_col1\" class=\"data row2 col1\" >8873</td>\n",
       "      <td id=\"T_cd588_row2_col2\" class=\"data row2 col2\" >8851</td>\n",
       "      <td id=\"T_cd588_row2_col3\" class=\"data row2 col3\" >8390</td>\n",
       "    </tr>\n",
       "    <tr>\n",
       "      <td id=\"T_cd588_row3_col0\" class=\"data row3 col0\" >DOI</td>\n",
       "      <td id=\"T_cd588_row3_col1\" class=\"data row3 col1\" > <a href=\"https://doi.org/10.71760/ukllc-dataset-00358-03\" rel=\"noopener noreferrer\" target=\"_blank\">10.71760/ukllc-dataset-00358-03</a></td>\n",
       "      <td id=\"T_cd588_row3_col2\" class=\"data row3 col2\" > <a href=\"https://doi.org/10.71760/ukllc-dataset-00358-05\" rel=\"noopener noreferrer\" target=\"_blank\">10.71760/ukllc-dataset-00358-05</a></td>\n",
       "      <td id=\"T_cd588_row3_col3\" class=\"data row3 col3\" > <a href=\"https://doi.org/10.71760/ukllc-dataset-00358-06\" rel=\"noopener noreferrer\" target=\"_blank\">10.71760/ukllc-dataset-00358-06</a></td>\n",
       "    </tr>\n",
       "    <tr>\n",
       "      <td id=\"T_cd588_row4_col0\" class=\"data row4 col0\" >Change Log</td>\n",
       "      <td id=\"T_cd588_row4_col1\" class=\"data row4 col1\" > <a href=\"https://api.test.datacite.org/dois/10.71760/ukllc-dataset-00358-03/activities\" rel=\"noopener noreferrer\" target=\"_blank\">10.71760/ukllc-dataset-00358-03/activities</a></td>\n",
       "      <td id=\"T_cd588_row4_col2\" class=\"data row4 col2\" > <a href=\"https://api.test.datacite.org/dois/10.71760/ukllc-dataset-00358-05/activities\" rel=\"noopener noreferrer\" target=\"_blank\">10.71760/ukllc-dataset-00358-05/activities</a></td>\n",
       "      <td id=\"T_cd588_row4_col3\" class=\"data row4 col3\" > <a href=\"https://api.test.datacite.org/dois/10.71760/ukllc-dataset-00358-06/activities\" rel=\"noopener noreferrer\" target=\"_blank\">10.71760/ukllc-dataset-00358-06/activities</a></td>\n",
       "    </tr>\n",
       "  </tbody>\n",
       "</table>\n"
      ],
      "text/plain": [
       "<pandas.io.formats.style.Styler at 0x201177a1950>"
      ]
     },
     "execution_count": 4,
     "metadata": {},
     "output_type": "execute_result"
    }
   ],
   "source": [
    "ds.version_history()"
   ]
  },
  {
   "cell_type": "markdown",
   "id": "0074a82c",
   "metadata": {},
   "source": [
    "## 3. Documentation"
   ]
  },
  {
   "cell_type": "code",
   "execution_count": 5,
   "id": "65a32821",
   "metadata": {
    "execution": {
     "iopub.execute_input": "2025-07-18T10:47:20.014227Z",
     "iopub.status.busy": "2025-07-18T10:47:20.014227Z",
     "iopub.status.idle": "2025-07-18T10:47:20.020674Z",
     "shell.execute_reply": "2025-07-18T10:47:20.019669Z"
    },
    "tags": [
     "remove-input"
    ]
   },
   "outputs": [
    {
     "data": {
      "text/markdown": [
       "We are currently building a documentation storage system which will host useful documents related to datasets and data owners. We will surface these documents on Guidebook."
      ],
      "text/plain": [
       "<IPython.core.display.Markdown object>"
      ]
     },
     "metadata": {},
     "output_type": "display_data"
    }
   ],
   "source": [
    "ds.documentation()"
   ]
  },
  {
   "cell_type": "markdown",
   "id": "e26710b0",
   "metadata": {},
   "source": [
    "## 4. Useful Syntax"
   ]
  },
  {
   "cell_type": "code",
   "execution_count": 6,
   "id": "126f33c5",
   "metadata": {
    "execution": {
     "iopub.execute_input": "2025-07-18T10:47:20.025675Z",
     "iopub.status.busy": "2025-07-18T10:47:20.024676Z",
     "iopub.status.idle": "2025-07-18T10:47:20.033129Z",
     "shell.execute_reply": "2025-07-18T10:47:20.031122Z"
    },
    "tags": [
     "remove-input"
    ]
   },
   "outputs": [
    {
     "data": {
      "text/markdown": [
       "Below we will include syntax that may be helpful to other researchers in the UK LLC TRE. For longer scripts, we will include a snippet of the code plus a link to Git where you can find the full scripts."
      ],
      "text/plain": [
       "<IPython.core.display.Markdown object>"
      ]
     },
     "metadata": {},
     "output_type": "display_data"
    }
   ],
   "source": [
    "ds.useful_syntax()"
   ]
  }
 ],
 "metadata": {
  "kernelspec": {
   "display_name": "jupbook",
   "language": "python",
   "name": "python3"
  },
  "language_info": {
   "codemirror_mode": {
    "name": "ipython",
    "version": 3
   },
   "file_extension": ".py",
   "mimetype": "text/x-python",
   "name": "python",
   "nbconvert_exporter": "python",
   "pygments_lexer": "ipython3",
   "version": "3.13.2"
  }
 },
 "nbformat": 4,
 "nbformat_minor": 5
}
