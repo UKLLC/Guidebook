{
 "cells": [
  {
   "cell_type": "markdown",
   "id": "51bf2bd7",
   "metadata": {},
   "source": [
    "# Understanding Society (UKHLS), Wave 12 (UKHLS)"
   ]
  },
  {
   "cell_type": "code",
   "execution_count": 1,
   "id": "963cced1",
   "metadata": {
    "execution": {
     "iopub.execute_input": "2025-07-18T10:46:30.727924Z",
     "iopub.status.busy": "2025-07-18T10:46:30.727924Z",
     "iopub.status.idle": "2025-07-18T10:46:37.633368Z",
     "shell.execute_reply": "2025-07-18T10:46:37.631359Z"
    },
    "tags": [
     "remove-input"
    ]
   },
   "outputs": [
    {
     "data": {
      "text/markdown": [
       ">Last modified: 18 Jul 2025"
      ],
      "text/plain": [
       "<IPython.core.display.Markdown object>"
      ]
     },
     "metadata": {},
     "output_type": "display_data"
    }
   ],
   "source": [
    "\n",
    "import sys\n",
    "import os\n",
    "sys.path.append(os.path.abspath('../../../../scripts/'))\n",
    "from data_doc_helper import LPSDataSet as DS, last_modified\n",
    "API_KEY = os.environ['FASTAPI_KEY']\n",
    "ds = DS(\"UKHLS\", \"l_indresp\")\n",
    "last_modified()\n"
   ]
  },
  {
   "cell_type": "markdown",
   "id": "1699151e",
   "metadata": {},
   "source": [
    "## 1. Summary"
   ]
  },
  {
   "cell_type": "code",
   "execution_count": 2,
   "id": "a19fb4f4",
   "metadata": {
    "execution": {
     "iopub.execute_input": "2025-07-18T10:46:37.639366Z",
     "iopub.status.busy": "2025-07-18T10:46:37.639366Z",
     "iopub.status.idle": "2025-07-18T10:46:37.649643Z",
     "shell.execute_reply": "2025-07-18T10:46:37.647642Z"
    },
    "tags": [
     "remove-input"
    ]
   },
   "outputs": [
    {
     "data": {
      "text/markdown": [
       "Annual UKHLS household and individual questionnaire."
      ],
      "text/plain": [
       "<IPython.core.display.Markdown object>"
      ]
     },
     "metadata": {},
     "output_type": "display_data"
    }
   ],
   "source": [
    "ds.summary()"
   ]
  },
  {
   "cell_type": "code",
   "execution_count": 3,
   "id": "06d8bc98",
   "metadata": {
    "execution": {
     "iopub.execute_input": "2025-07-18T10:46:37.654644Z",
     "iopub.status.busy": "2025-07-18T10:46:37.653642Z",
     "iopub.status.idle": "2025-07-18T10:46:40.108405Z",
     "shell.execute_reply": "2025-07-18T10:46:40.107397Z"
    },
    "tags": [
     "remove-input"
    ]
   },
   "outputs": [
    {
     "data": {
      "text/html": [
       "<style type=\"text/css\">\n",
       "#T_31778 th {\n",
       "  text-align: left;\n",
       "}\n",
       "#T_31778_row0_col0, #T_31778_row0_col1, #T_31778_row1_col0, #T_31778_row1_col1, #T_31778_row2_col0, #T_31778_row2_col1, #T_31778_row3_col0, #T_31778_row3_col1, #T_31778_row4_col0, #T_31778_row4_col1, #T_31778_row5_col0, #T_31778_row5_col1, #T_31778_row6_col0, #T_31778_row6_col1, #T_31778_row7_col0, #T_31778_row7_col1, #T_31778_row8_col0, #T_31778_row8_col1, #T_31778_row9_col0, #T_31778_row9_col1, #T_31778_row10_col0, #T_31778_row10_col1, #T_31778_row11_col0, #T_31778_row11_col1, #T_31778_row12_col0, #T_31778_row12_col1 {\n",
       "  text-align: left;\n",
       "}\n",
       "</style>\n",
       "<table id=\"T_31778\" style=\"font-size: 14px\">\n",
       "  <thead>\n",
       "    <tr>\n",
       "      <th id=\"T_31778_level0_col0\" class=\"col_heading level0 col0\" >Dataset Descriptor</th>\n",
       "      <th id=\"T_31778_level0_col1\" class=\"col_heading level0 col1\" >Dataset-specific Information</th>\n",
       "    </tr>\n",
       "  </thead>\n",
       "  <tbody>\n",
       "    <tr>\n",
       "      <td id=\"T_31778_row0_col0\" class=\"data row0 col0\" >Name of Dataset in TRE</td>\n",
       "      <td id=\"T_31778_row0_col1\" class=\"data row0 col1\" >UKHLS_l_indresp</td>\n",
       "    </tr>\n",
       "    <tr>\n",
       "      <td id=\"T_31778_row1_col0\" class=\"data row1 col0\" >Citation (APA)</td>\n",
       "      <td id=\"T_31778_row1_col1\" class=\"data row1 col1\" >University of Essex, Institute for Social and Economic Research. (2023). <i>Understanding Society, the UK Household Longitudinal Survey & British Household Panel Survey (UKHLS): Understanding Society (UKHLS), Wave 12.</i> UK Longitudinal Linkage Collaboration (UK LLC).  <a href=\"https://doi.org/10.83126/ukllc-dataset-00425-06\" rel=\"noopener noreferrer\" target=\"_blank\">https://doi.org/10.83126/ukllc-dataset-00425-06</a></td>\n",
       "    </tr>\n",
       "    <tr>\n",
       "      <td id=\"T_31778_row2_col0\" class=\"data row2 col0\" >Download Citation</td>\n",
       "      <td id=\"T_31778_row2_col1\" class=\"data row2 col1\" > <a href=\"https://api.test.datacite.org/application/vnd.citationstyles.csl+json/10.83126/ukllc-dataset-00425-06\" rel=\"noopener noreferrer\" target=\"_blank\">Citeproc JSON</a>&nbsp;&nbsp;&nbsp;&nbsp; <a href=\"https://api.test.datacite.org/application/x-bibtex/10.83126/ukllc-dataset-00425-06\" rel=\"noopener noreferrer\" target=\"_blank\">BibTeX</a>&nbsp;&nbsp;&nbsp;&nbsp; <a href=\"https://api.test.datacite.org/application/x-research-info-systems/10.83126/ukllc-dataset-00425-06\" rel=\"noopener noreferrer\" target=\"_blank\">RIS</a></td>\n",
       "    </tr>\n",
       "    <tr>\n",
       "      <td id=\"T_31778_row3_col0\" class=\"data row3 col0\" >Series</td>\n",
       "      <td id=\"T_31778_row3_col1\" class=\"data row3 col1\" > <a href=\"https://guidebook.ukllc.ac.uk/docs/lps/lps%20profiles/UKHLS\">Understanding Society, the UK Household Longitudinal Survey & British Household Panel Survey (UKHLS)</a></td>\n",
       "    </tr>\n",
       "    <tr>\n",
       "      <td id=\"T_31778_row4_col0\" class=\"data row4 col0\" >Owner</td>\n",
       "      <td id=\"T_31778_row4_col1\" class=\"data row4 col1\" >University of Essex</td>\n",
       "    </tr>\n",
       "    <tr>\n",
       "      <td id=\"T_31778_row5_col0\" class=\"data row5 col0\" >Temporal Coverage</td>\n",
       "      <td id=\"T_31778_row5_col1\" class=\"data row5 col1\" >01/2020 - 05/2022</td>\n",
       "    </tr>\n",
       "    <tr>\n",
       "      <td id=\"T_31778_row6_col0\" class=\"data row6 col0\" >Keywords</td>\n",
       "      <td id=\"T_31778_row6_col1\" class=\"data row6 col1\" >Household composition,Employment,Income,Health,Family,Education,Civic participation</td>\n",
       "    </tr>\n",
       "    <tr>\n",
       "      <td id=\"T_31778_row7_col0\" class=\"data row7 col0\" >Participants Invited</td>\n",
       "      <td id=\"T_31778_row7_col1\" class=\"data row7 col1\" >8543</td>\n",
       "    </tr>\n",
       "    <tr>\n",
       "      <td id=\"T_31778_row8_col0\" class=\"data row8 col0\" >Participant Count</td>\n",
       "      <td id=\"T_31778_row8_col1\" class=\"data row8 col1\" >8543</td>\n",
       "    </tr>\n",
       "    <tr>\n",
       "      <td id=\"T_31778_row9_col0\" class=\"data row9 col0\" >Number of variables</td>\n",
       "      <td id=\"T_31778_row9_col1\" class=\"data row9 col1\" >2547</td>\n",
       "    </tr>\n",
       "    <tr>\n",
       "      <td id=\"T_31778_row10_col0\" class=\"data row10 col0\" >Number of observations</td>\n",
       "      <td id=\"T_31778_row10_col1\" class=\"data row10 col1\" >8105</td>\n",
       "    </tr>\n",
       "    <tr>\n",
       "      <td id=\"T_31778_row11_col0\" class=\"data row11 col0\" >Specific Restrictions to Data Use</td>\n",
       "      <td id=\"T_31778_row11_col1\" class=\"data row11 col1\" >None</td>\n",
       "    </tr>\n",
       "    <tr>\n",
       "      <td id=\"T_31778_row12_col0\" class=\"data row12 col0\" >Build a Data Request</td>\n",
       "      <td id=\"T_31778_row12_col1\" class=\"data row12 col1\" > <a href=\"https://explore.ukllc.ac.uk/\" rel=\"noopener noreferrer\" target=\"_blank\">https://explore.ukllc.ac.uk/</a></td>\n",
       "    </tr>\n",
       "  </tbody>\n",
       "</table>\n"
      ],
      "text/plain": [
       "<pandas.io.formats.style.Styler at 0x1f15209c650>"
      ]
     },
     "execution_count": 3,
     "metadata": {},
     "output_type": "execute_result"
    }
   ],
   "source": [
    "ds.info_table()"
   ]
  },
  {
   "cell_type": "markdown",
   "id": "45158545",
   "metadata": {},
   "source": [
    "## 2. Version History"
   ]
  },
  {
   "cell_type": "code",
   "execution_count": 4,
   "id": "ea54795c",
   "metadata": {
    "execution": {
     "iopub.execute_input": "2025-07-18T10:46:40.116410Z",
     "iopub.status.busy": "2025-07-18T10:46:40.115418Z",
     "iopub.status.idle": "2025-07-18T10:46:42.386056Z",
     "shell.execute_reply": "2025-07-18T10:46:42.384995Z"
    },
    "tags": [
     "remove-input"
    ]
   },
   "outputs": [
    {
     "data": {
      "text/html": [
       "<style type=\"text/css\">\n",
       "#T_04e48 th {\n",
       "  text-align: left;\n",
       "}\n",
       "#T_04e48_row0_col0, #T_04e48_row0_col1, #T_04e48_row0_col2, #T_04e48_row1_col0, #T_04e48_row1_col1, #T_04e48_row1_col2, #T_04e48_row2_col0, #T_04e48_row2_col1, #T_04e48_row2_col2, #T_04e48_row3_col0, #T_04e48_row3_col1, #T_04e48_row3_col2, #T_04e48_row4_col0, #T_04e48_row4_col1, #T_04e48_row4_col2 {\n",
       "  text-align: left;\n",
       "}\n",
       "</style>\n",
       "<table id=\"T_04e48\" style=\"font-size: 14px\">\n",
       "  <thead>\n",
       "    <tr>\n",
       "      <th id=\"T_04e48_level0_col0\" class=\"col_heading level0 col0\" >Version</th>\n",
       "      <th id=\"T_04e48_level0_col1\" class=\"col_heading level0 col1\" >5</th>\n",
       "      <th id=\"T_04e48_level0_col2\" class=\"col_heading level0 col2\" >6</th>\n",
       "    </tr>\n",
       "  </thead>\n",
       "  <tbody>\n",
       "    <tr>\n",
       "      <td id=\"T_04e48_row0_col0\" class=\"data row0 col0\" >Version Date</td>\n",
       "      <td id=\"T_04e48_row0_col1\" class=\"data row0 col1\" >21 Feb 2023</td>\n",
       "      <td id=\"T_04e48_row0_col2\" class=\"data row0 col2\" >14 Jun 2023</td>\n",
       "    </tr>\n",
       "    <tr>\n",
       "      <td id=\"T_04e48_row1_col0\" class=\"data row1 col0\" >Number of Variables</td>\n",
       "      <td id=\"T_04e48_row1_col1\" class=\"data row1 col1\" >2551</td>\n",
       "      <td id=\"T_04e48_row1_col2\" class=\"data row1 col2\" >2551</td>\n",
       "    </tr>\n",
       "    <tr>\n",
       "      <td id=\"T_04e48_row2_col0\" class=\"data row2 col0\" >Number of Observations</td>\n",
       "      <td id=\"T_04e48_row2_col1\" class=\"data row2 col1\" >8543</td>\n",
       "      <td id=\"T_04e48_row2_col2\" class=\"data row2 col2\" >8105</td>\n",
       "    </tr>\n",
       "    <tr>\n",
       "      <td id=\"T_04e48_row3_col0\" class=\"data row3 col0\" >DOI</td>\n",
       "      <td id=\"T_04e48_row3_col1\" class=\"data row3 col1\" > <a href=\"https://doi.org/10.83126/ukllc-dataset-00425-05\" rel=\"noopener noreferrer\" target=\"_blank\">10.83126/ukllc-dataset-00425-05</a></td>\n",
       "      <td id=\"T_04e48_row3_col2\" class=\"data row3 col2\" > <a href=\"https://doi.org/10.83126/ukllc-dataset-00425-06\" rel=\"noopener noreferrer\" target=\"_blank\">10.83126/ukllc-dataset-00425-06</a></td>\n",
       "    </tr>\n",
       "    <tr>\n",
       "      <td id=\"T_04e48_row4_col0\" class=\"data row4 col0\" >Change Log</td>\n",
       "      <td id=\"T_04e48_row4_col1\" class=\"data row4 col1\" > <a href=\"https://api.test.datacite.org/dois/10.83126/ukllc-dataset-00425-05/activities\" rel=\"noopener noreferrer\" target=\"_blank\">10.83126/ukllc-dataset-00425-05/activities</a></td>\n",
       "      <td id=\"T_04e48_row4_col2\" class=\"data row4 col2\" > <a href=\"https://api.test.datacite.org/dois/10.83126/ukllc-dataset-00425-06/activities\" rel=\"noopener noreferrer\" target=\"_blank\">10.83126/ukllc-dataset-00425-06/activities</a></td>\n",
       "    </tr>\n",
       "  </tbody>\n",
       "</table>\n"
      ],
      "text/plain": [
       "<pandas.io.formats.style.Styler at 0x1f157c5be30>"
      ]
     },
     "execution_count": 4,
     "metadata": {},
     "output_type": "execute_result"
    }
   ],
   "source": [
    "ds.version_history()"
   ]
  },
  {
   "cell_type": "markdown",
   "id": "615a6212",
   "metadata": {},
   "source": [
    "## 3. Documentation"
   ]
  },
  {
   "cell_type": "code",
   "execution_count": 5,
   "id": "b91e9e3b",
   "metadata": {
    "execution": {
     "iopub.execute_input": "2025-07-18T10:46:42.392059Z",
     "iopub.status.busy": "2025-07-18T10:46:42.391058Z",
     "iopub.status.idle": "2025-07-18T10:46:42.400155Z",
     "shell.execute_reply": "2025-07-18T10:46:42.399145Z"
    },
    "tags": [
     "remove-input"
    ]
   },
   "outputs": [
    {
     "data": {
      "text/markdown": [
       "We are currently building a documentation storage system which will host useful documents related to datasets and data owners. We will surface these documents on Guidebook."
      ],
      "text/plain": [
       "<IPython.core.display.Markdown object>"
      ]
     },
     "metadata": {},
     "output_type": "display_data"
    }
   ],
   "source": [
    "ds.documentation()"
   ]
  },
  {
   "cell_type": "markdown",
   "id": "3b9ec27a",
   "metadata": {},
   "source": [
    "## 4. Useful Syntax"
   ]
  },
  {
   "cell_type": "code",
   "execution_count": 6,
   "id": "9bf8e72a",
   "metadata": {
    "execution": {
     "iopub.execute_input": "2025-07-18T10:46:42.406153Z",
     "iopub.status.busy": "2025-07-18T10:46:42.405153Z",
     "iopub.status.idle": "2025-07-18T10:46:42.414308Z",
     "shell.execute_reply": "2025-07-18T10:46:42.413300Z"
    },
    "tags": [
     "remove-input"
    ]
   },
   "outputs": [
    {
     "data": {
      "text/markdown": [
       "Below we will include syntax that may be helpful to other researchers in the UK LLC TRE. For longer scripts, we will include a snippet of the code plus a link to Git where you can find the full scripts."
      ],
      "text/plain": [
       "<IPython.core.display.Markdown object>"
      ]
     },
     "metadata": {},
     "output_type": "display_data"
    }
   ],
   "source": [
    "ds.useful_syntax()"
   ]
  }
 ],
 "metadata": {
  "language_info": {
   "codemirror_mode": {
    "name": "ipython",
    "version": 3
   },
   "file_extension": ".py",
   "mimetype": "text/x-python",
   "name": "python",
   "nbconvert_exporter": "python",
   "pygments_lexer": "ipython3",
   "version": "3.12.7"
  }
 },
 "nbformat": 4,
 "nbformat_minor": 5
}
