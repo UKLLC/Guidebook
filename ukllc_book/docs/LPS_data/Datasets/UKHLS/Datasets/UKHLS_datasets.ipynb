{
 "cells": [
  {
   "cell_type": "markdown",
   "id": "faa33f25",
   "metadata": {},
   "source": [
    "# Understanding Society, the UK Household Longitudinal Survey & British Household Panel Survey (UKHLS) Datasets"
   ]
  },
  {
   "cell_type": "code",
   "execution_count": 1,
   "id": "5925b55b",
   "metadata": {
    "execution": {
     "iopub.execute_input": "2025-07-28T20:54:16.661607Z",
     "iopub.status.busy": "2025-07-28T20:54:16.660607Z",
     "iopub.status.idle": "2025-07-28T20:54:21.422320Z",
     "shell.execute_reply": "2025-07-28T20:54:21.419787Z"
    },
    "tags": [
     "remove-input"
    ]
   },
   "outputs": [
    {
     "data": {
      "text/markdown": [
       ">Last modified: 28 Jul 2025"
      ],
      "text/plain": [
       "<IPython.core.display.Markdown object>"
      ]
     },
     "metadata": {},
     "output_type": "display_data"
    }
   ],
   "source": [
    "\n",
    "import sys\n",
    "import os\n",
    "sys.path.append(os.path.abspath('../../../../scripts/'))\n",
    "from data_doc_helper import LPSSource as SS, last_modified\n",
    "API_KEY = os.environ['FASTAPI_KEY']\n",
    "ss = SS(\"UKHLS\")\n",
    "last_modified()\n"
   ]
  },
  {
   "cell_type": "markdown",
   "id": "c372d36c",
   "metadata": {},
   "source": [
    "## 1. Datasets"
   ]
  },
  {
   "cell_type": "code",
   "execution_count": 2,
   "id": "c1aa733d",
   "metadata": {
    "execution": {
     "iopub.execute_input": "2025-07-28T20:54:21.430866Z",
     "iopub.status.busy": "2025-07-28T20:54:21.430866Z",
     "iopub.status.idle": "2025-07-28T20:54:21.443108Z",
     "shell.execute_reply": "2025-07-28T20:54:21.440085Z"
    },
    "tags": [
     "remove-input"
    ]
   },
   "outputs": [
    {
     "data": {
      "text/markdown": [
       "**Table 1:** Datasets and metrics in the UK LLC belonging to UKHLS."
      ],
      "text/plain": [
       "<IPython.core.display.Markdown object>"
      ]
     },
     "metadata": {},
     "output_type": "display_data"
    }
   ],
   "source": [
    "ss.table_caption_ds()"
   ]
  },
  {
   "cell_type": "code",
   "execution_count": 3,
   "id": "d02c7605",
   "metadata": {
    "execution": {
     "iopub.execute_input": "2025-07-28T20:54:21.451523Z",
     "iopub.status.busy": "2025-07-28T20:54:21.450519Z",
     "iopub.status.idle": "2025-07-28T20:54:23.963247Z",
     "shell.execute_reply": "2025-07-28T20:54:23.961229Z"
    },
    "tags": [
     "remove-input",
     "hide-cell"
    ]
   },
   "outputs": [
    {
     "data": {
      "text/html": [
       "<style type=\"text/css\">\n",
       "#T_bdcd3 th {\n",
       "  text-align: left;\n",
       "}\n",
       "#T_bdcd3_row0_col0, #T_bdcd3_row0_col1, #T_bdcd3_row0_col2, #T_bdcd3_row0_col3, #T_bdcd3_row0_col4, #T_bdcd3_row1_col0, #T_bdcd3_row1_col1, #T_bdcd3_row1_col2, #T_bdcd3_row1_col3, #T_bdcd3_row1_col4, #T_bdcd3_row2_col0, #T_bdcd3_row2_col1, #T_bdcd3_row2_col2, #T_bdcd3_row2_col3, #T_bdcd3_row2_col4, #T_bdcd3_row3_col0, #T_bdcd3_row3_col1, #T_bdcd3_row3_col2, #T_bdcd3_row3_col3, #T_bdcd3_row3_col4, #T_bdcd3_row4_col0, #T_bdcd3_row4_col1, #T_bdcd3_row4_col2, #T_bdcd3_row4_col3, #T_bdcd3_row4_col4, #T_bdcd3_row5_col0, #T_bdcd3_row5_col1, #T_bdcd3_row5_col2, #T_bdcd3_row5_col3, #T_bdcd3_row5_col4, #T_bdcd3_row6_col0, #T_bdcd3_row6_col1, #T_bdcd3_row6_col2, #T_bdcd3_row6_col3, #T_bdcd3_row6_col4, #T_bdcd3_row7_col0, #T_bdcd3_row7_col1, #T_bdcd3_row7_col2, #T_bdcd3_row7_col3, #T_bdcd3_row7_col4, #T_bdcd3_row8_col0, #T_bdcd3_row8_col1, #T_bdcd3_row8_col2, #T_bdcd3_row8_col3, #T_bdcd3_row8_col4, #T_bdcd3_row9_col0, #T_bdcd3_row9_col1, #T_bdcd3_row9_col2, #T_bdcd3_row9_col3, #T_bdcd3_row9_col4, #T_bdcd3_row10_col0, #T_bdcd3_row10_col1, #T_bdcd3_row10_col2, #T_bdcd3_row10_col3, #T_bdcd3_row10_col4, #T_bdcd3_row11_col0, #T_bdcd3_row11_col1, #T_bdcd3_row11_col2, #T_bdcd3_row11_col3, #T_bdcd3_row11_col4, #T_bdcd3_row12_col0, #T_bdcd3_row12_col1, #T_bdcd3_row12_col2, #T_bdcd3_row12_col3, #T_bdcd3_row12_col4, #T_bdcd3_row13_col0, #T_bdcd3_row13_col1, #T_bdcd3_row13_col2, #T_bdcd3_row13_col3, #T_bdcd3_row13_col4, #T_bdcd3_row14_col0, #T_bdcd3_row14_col1, #T_bdcd3_row14_col2, #T_bdcd3_row14_col3, #T_bdcd3_row14_col4, #T_bdcd3_row15_col0, #T_bdcd3_row15_col1, #T_bdcd3_row15_col2, #T_bdcd3_row15_col3, #T_bdcd3_row15_col4, #T_bdcd3_row16_col0, #T_bdcd3_row16_col1, #T_bdcd3_row16_col2, #T_bdcd3_row16_col3, #T_bdcd3_row16_col4, #T_bdcd3_row17_col0, #T_bdcd3_row17_col1, #T_bdcd3_row17_col2, #T_bdcd3_row17_col3, #T_bdcd3_row17_col4, #T_bdcd3_row18_col0, #T_bdcd3_row18_col1, #T_bdcd3_row18_col2, #T_bdcd3_row18_col3, #T_bdcd3_row18_col4, #T_bdcd3_row19_col0, #T_bdcd3_row19_col1, #T_bdcd3_row19_col2, #T_bdcd3_row19_col3, #T_bdcd3_row19_col4, #T_bdcd3_row20_col0, #T_bdcd3_row20_col1, #T_bdcd3_row20_col2, #T_bdcd3_row20_col3, #T_bdcd3_row20_col4, #T_bdcd3_row21_col0, #T_bdcd3_row21_col1, #T_bdcd3_row21_col2, #T_bdcd3_row21_col3, #T_bdcd3_row21_col4, #T_bdcd3_row22_col0, #T_bdcd3_row22_col1, #T_bdcd3_row22_col2, #T_bdcd3_row22_col3, #T_bdcd3_row22_col4, #T_bdcd3_row23_col0, #T_bdcd3_row23_col1, #T_bdcd3_row23_col2, #T_bdcd3_row23_col3, #T_bdcd3_row23_col4 {\n",
       "  text-align: left;\n",
       "}\n",
       "</style>\n",
       "<table id=\"T_bdcd3\" style=\"font-size: 14px\">\n",
       "  <thead>\n",
       "    <tr>\n",
       "      <th id=\"T_bdcd3_level0_col0\" class=\"col_heading level0 col0\" >Dataset</th>\n",
       "      <th id=\"T_bdcd3_level0_col1\" class=\"col_heading level0 col1\" >Dataset Name</th>\n",
       "      <th id=\"T_bdcd3_level0_col2\" class=\"col_heading level0 col2\" ># Participants</th>\n",
       "      <th id=\"T_bdcd3_level0_col3\" class=\"col_heading level0 col3\" ># Observations</th>\n",
       "      <th id=\"T_bdcd3_level0_col4\" class=\"col_heading level0 col4\" ># Variables</th>\n",
       "    </tr>\n",
       "  </thead>\n",
       "  <tbody>\n",
       "    <tr>\n",
       "      <td id=\"T_bdcd3_row0_col0\" class=\"data row0 col0\" > <a href=\"j_indresp.html\">j_indresp</a></td>\n",
       "      <td id=\"T_bdcd3_row0_col1\" class=\"data row0 col1\" >Understanding Society (UKHLS), Wave 10</td>\n",
       "      <td id=\"T_bdcd3_row0_col2\" class=\"data row0 col2\" >8577</td>\n",
       "      <td id=\"T_bdcd3_row0_col3\" class=\"data row0 col3\" >8053</td>\n",
       "      <td id=\"T_bdcd3_row0_col4\" class=\"data row0 col4\" >2451</td>\n",
       "    </tr>\n",
       "    <tr>\n",
       "      <td id=\"T_bdcd3_row1_col0\" class=\"data row1 col0\" > <a href=\"l_indresp.html\">l_indresp</a></td>\n",
       "      <td id=\"T_bdcd3_row1_col1\" class=\"data row1 col1\" >Understanding Society (UKHLS), Wave 12</td>\n",
       "      <td id=\"T_bdcd3_row1_col2\" class=\"data row1 col2\" >8543</td>\n",
       "      <td id=\"T_bdcd3_row1_col3\" class=\"data row1 col3\" >8105</td>\n",
       "      <td id=\"T_bdcd3_row1_col4\" class=\"data row1 col4\" >2551</td>\n",
       "    </tr>\n",
       "    <tr>\n",
       "      <td id=\"T_bdcd3_row2_col0\" class=\"data row2 col0\" > <a href=\"k_indresp.html\">k_indresp</a></td>\n",
       "      <td id=\"T_bdcd3_row2_col1\" class=\"data row2 col1\" >Understanding Society (UKHLS), Wave 11</td>\n",
       "      <td id=\"T_bdcd3_row2_col2\" class=\"data row2 col2\" >8646</td>\n",
       "      <td id=\"T_bdcd3_row2_col3\" class=\"data row2 col3\" >8116</td>\n",
       "      <td id=\"T_bdcd3_row2_col4\" class=\"data row2 col4\" >3220</td>\n",
       "    </tr>\n",
       "    <tr>\n",
       "      <td id=\"T_bdcd3_row3_col0\" class=\"data row3 col0\" > <a href=\"xbaseline.html\">xbaseline</a></td>\n",
       "      <td id=\"T_bdcd3_row3_col1\" class=\"data row3 col1\" >UKHLS COVID-19 Survey, Baseline</td>\n",
       "      <td id=\"T_bdcd3_row3_col2\" class=\"data row3 col2\" >8880</td>\n",
       "      <td id=\"T_bdcd3_row3_col3\" class=\"data row3 col3\" >8390</td>\n",
       "      <td id=\"T_bdcd3_row3_col4\" class=\"data row3 col4\" >77</td>\n",
       "    </tr>\n",
       "    <tr>\n",
       "      <td id=\"T_bdcd3_row4_col0\" class=\"data row4 col0\" > <a href=\"h_indresp.html\">h_indresp</a></td>\n",
       "      <td id=\"T_bdcd3_row4_col1\" class=\"data row4 col1\" >Understanding Society (UKHLS), Wave 8</td>\n",
       "      <td id=\"T_bdcd3_row4_col2\" class=\"data row4 col2\" >8388</td>\n",
       "      <td id=\"T_bdcd3_row4_col3\" class=\"data row4 col3\" >7870</td>\n",
       "      <td id=\"T_bdcd3_row4_col4\" class=\"data row4 col4\" >2142</td>\n",
       "    </tr>\n",
       "    <tr>\n",
       "      <td id=\"T_bdcd3_row5_col0\" class=\"data row5 col0\" > <a href=\"i_indresp.html\">i_indresp</a></td>\n",
       "      <td id=\"T_bdcd3_row5_col1\" class=\"data row5 col1\" >Understanding Society (UKHLS), Wave 9</td>\n",
       "      <td id=\"T_bdcd3_row5_col2\" class=\"data row5 col2\" >8498</td>\n",
       "      <td id=\"T_bdcd3_row5_col3\" class=\"data row5 col3\" >7973</td>\n",
       "      <td id=\"T_bdcd3_row5_col4\" class=\"data row5 col4\" >3125</td>\n",
       "    </tr>\n",
       "    <tr>\n",
       "      <td id=\"T_bdcd3_row6_col0\" class=\"data row6 col0\" > <a href=\"cg_indresp_w.html\">cg_indresp_w</a></td>\n",
       "      <td id=\"T_bdcd3_row6_col1\" class=\"data row6 col1\" >UKHLS COVID-19 Survey, Wave 7</td>\n",
       "      <td id=\"T_bdcd3_row6_col2\" class=\"data row6 col2\" >7689</td>\n",
       "      <td id=\"T_bdcd3_row6_col3\" class=\"data row6 col3\" >7252</td>\n",
       "      <td id=\"T_bdcd3_row6_col4\" class=\"data row6 col4\" >807</td>\n",
       "    </tr>\n",
       "    <tr>\n",
       "      <td id=\"T_bdcd3_row7_col0\" class=\"data row7 col0\" > <a href=\"f_indresp.html\">f_indresp</a></td>\n",
       "      <td id=\"T_bdcd3_row7_col1\" class=\"data row7 col1\" >Understanding Society (UKHLS), Wave 6</td>\n",
       "      <td id=\"T_bdcd3_row7_col2\" class=\"data row7 col2\" >8008</td>\n",
       "      <td id=\"T_bdcd3_row7_col3\" class=\"data row7 col3\" >7530</td>\n",
       "      <td id=\"T_bdcd3_row7_col4\" class=\"data row7 col4\" >2052</td>\n",
       "    </tr>\n",
       "    <tr>\n",
       "      <td id=\"T_bdcd3_row8_col0\" class=\"data row8 col0\" > <a href=\"a_indresp.html\">a_indresp</a></td>\n",
       "      <td id=\"T_bdcd3_row8_col1\" class=\"data row8 col1\" >Understanding Society (UKHLS), Wave 1</td>\n",
       "      <td id=\"T_bdcd3_row8_col2\" class=\"data row8 col2\" >5735</td>\n",
       "      <td id=\"T_bdcd3_row8_col3\" class=\"data row8 col3\" >5399</td>\n",
       "      <td id=\"T_bdcd3_row8_col4\" class=\"data row8 col4\" >1390</td>\n",
       "    </tr>\n",
       "    <tr>\n",
       "      <td id=\"T_bdcd3_row9_col0\" class=\"data row9 col0\" > <a href=\"b_indresp.html\">b_indresp</a></td>\n",
       "      <td id=\"T_bdcd3_row9_col1\" class=\"data row9 col1\" >Understanding Society (UKHLS), Wave 2</td>\n",
       "      <td id=\"T_bdcd3_row9_col2\" class=\"data row9 col2\" >7346</td>\n",
       "      <td id=\"T_bdcd3_row9_col3\" class=\"data row9 col3\" >6923</td>\n",
       "      <td id=\"T_bdcd3_row9_col4\" class=\"data row9 col4\" >1635</td>\n",
       "    </tr>\n",
       "    <tr>\n",
       "      <td id=\"T_bdcd3_row10_col0\" class=\"data row10 col0\" > <a href=\"c_indresp.html\">c_indresp</a></td>\n",
       "      <td id=\"T_bdcd3_row10_col1\" class=\"data row10 col1\" >Understanding Society (UKHLS), Wave 3</td>\n",
       "      <td id=\"T_bdcd3_row10_col2\" class=\"data row10 col2\" >7510</td>\n",
       "      <td id=\"T_bdcd3_row10_col3\" class=\"data row10 col3\" >7076</td>\n",
       "      <td id=\"T_bdcd3_row10_col4\" class=\"data row10 col4\" >3050</td>\n",
       "    </tr>\n",
       "    <tr>\n",
       "      <td id=\"T_bdcd3_row11_col0\" class=\"data row11 col0\" > <a href=\"ca_indresp_w.html\">ca_indresp_w</a></td>\n",
       "      <td id=\"T_bdcd3_row11_col1\" class=\"data row11 col1\" >UKHLS COVID-19 Survey, Wave 1</td>\n",
       "      <td id=\"T_bdcd3_row11_col2\" class=\"data row11 col2\" >8492</td>\n",
       "      <td id=\"T_bdcd3_row11_col3\" class=\"data row11 col3\" >7984</td>\n",
       "      <td id=\"T_bdcd3_row11_col4\" class=\"data row11 col4\" >464</td>\n",
       "    </tr>\n",
       "    <tr>\n",
       "      <td id=\"T_bdcd3_row12_col0\" class=\"data row12 col0\" > <a href=\"cb_indresp_w.html\">cb_indresp_w</a></td>\n",
       "      <td id=\"T_bdcd3_row12_col1\" class=\"data row12 col1\" >UKHLS COVID-19 Survey, Wave 2</td>\n",
       "      <td id=\"T_bdcd3_row12_col2\" class=\"data row12 col2\" >8166</td>\n",
       "      <td id=\"T_bdcd3_row12_col3\" class=\"data row12 col3\" >7691</td>\n",
       "      <td id=\"T_bdcd3_row12_col4\" class=\"data row12 col4\" >506</td>\n",
       "    </tr>\n",
       "    <tr>\n",
       "      <td id=\"T_bdcd3_row13_col0\" class=\"data row13 col0\" > <a href=\"cc_indresp_w.html\">cc_indresp_w</a></td>\n",
       "      <td id=\"T_bdcd3_row13_col1\" class=\"data row13 col1\" >UKHLS COVID-19 Survey, Wave 3</td>\n",
       "      <td id=\"T_bdcd3_row13_col2\" class=\"data row13 col2\" >8103</td>\n",
       "      <td id=\"T_bdcd3_row13_col3\" class=\"data row13 col3\" >7637</td>\n",
       "      <td id=\"T_bdcd3_row13_col4\" class=\"data row13 col4\" >769</td>\n",
       "    </tr>\n",
       "    <tr>\n",
       "      <td id=\"T_bdcd3_row14_col0\" class=\"data row14 col0\" > <a href=\"cd_indresp_w.html\">cd_indresp_w</a></td>\n",
       "      <td id=\"T_bdcd3_row14_col1\" class=\"data row14 col1\" >UKHLS COVID-19 Survey, Wave 4</td>\n",
       "      <td id=\"T_bdcd3_row14_col2\" class=\"data row14 col2\" >7984</td>\n",
       "      <td id=\"T_bdcd3_row14_col3\" class=\"data row14 col3\" >7516</td>\n",
       "      <td id=\"T_bdcd3_row14_col4\" class=\"data row14 col4\" >755</td>\n",
       "    </tr>\n",
       "    <tr>\n",
       "      <td id=\"T_bdcd3_row15_col0\" class=\"data row15 col0\" > <a href=\"ce_indresp_w.html\">ce_indresp_w</a></td>\n",
       "      <td id=\"T_bdcd3_row15_col1\" class=\"data row15 col1\" >UKHLS COVID-19 Survey, Wave 5</td>\n",
       "      <td id=\"T_bdcd3_row15_col2\" class=\"data row15 col2\" >7820</td>\n",
       "      <td id=\"T_bdcd3_row15_col3\" class=\"data row15 col3\" >7370</td>\n",
       "      <td id=\"T_bdcd3_row15_col4\" class=\"data row15 col4\" >1039</td>\n",
       "    </tr>\n",
       "    <tr>\n",
       "      <td id=\"T_bdcd3_row16_col0\" class=\"data row16 col0\" > <a href=\"cf_indresp_w.html\">cf_indresp_w</a></td>\n",
       "      <td id=\"T_bdcd3_row16_col1\" class=\"data row16 col1\" >UKHLS COVID-19 Survey, Wave 6</td>\n",
       "      <td id=\"T_bdcd3_row16_col2\" class=\"data row16 col2\" >7662</td>\n",
       "      <td id=\"T_bdcd3_row16_col3\" class=\"data row16 col3\" >7222</td>\n",
       "      <td id=\"T_bdcd3_row16_col4\" class=\"data row16 col4\" >914</td>\n",
       "    </tr>\n",
       "    <tr>\n",
       "      <td id=\"T_bdcd3_row17_col0\" class=\"data row17 col0\" > <a href=\"ch_indresp_w.html\">ch_indresp_w</a></td>\n",
       "      <td id=\"T_bdcd3_row17_col1\" class=\"data row17 col1\" >UKHLS COVID-19 Survey, Wave 8</td>\n",
       "      <td id=\"T_bdcd3_row17_col2\" class=\"data row17 col2\" >8935</td>\n",
       "      <td id=\"T_bdcd3_row17_col3\" class=\"data row17 col3\" >8390</td>\n",
       "      <td id=\"T_bdcd3_row17_col4\" class=\"data row17 col4\" >877</td>\n",
       "    </tr>\n",
       "    <tr>\n",
       "      <td id=\"T_bdcd3_row18_col0\" class=\"data row18 col0\" > <a href=\"ch_serology.html\">ch_serology</a></td>\n",
       "      <td id=\"T_bdcd3_row18_col1\" class=\"data row18 col1\" >UKHLS COVID-19 Survey, Serology results</td>\n",
       "      <td id=\"T_bdcd3_row18_col2\" class=\"data row18 col2\" >8874</td>\n",
       "      <td id=\"T_bdcd3_row18_col3\" class=\"data row18 col3\" >8390</td>\n",
       "      <td id=\"T_bdcd3_row18_col4\" class=\"data row18 col4\" >19</td>\n",
       "    </tr>\n",
       "    <tr>\n",
       "      <td id=\"T_bdcd3_row19_col0\" class=\"data row19 col0\" > <a href=\"ci_indresp_w.html\">ci_indresp_w</a></td>\n",
       "      <td id=\"T_bdcd3_row19_col1\" class=\"data row19 col1\" >UKHLS COVID-19 Survey, Wave 9</td>\n",
       "      <td id=\"T_bdcd3_row19_col2\" class=\"data row19 col2\" >7675</td>\n",
       "      <td id=\"T_bdcd3_row19_col3\" class=\"data row19 col3\" >7278</td>\n",
       "      <td id=\"T_bdcd3_row19_col4\" class=\"data row19 col4\" >749</td>\n",
       "    </tr>\n",
       "    <tr>\n",
       "      <td id=\"T_bdcd3_row20_col0\" class=\"data row20 col0\" > <a href=\"d_indresp.html\">d_indresp</a></td>\n",
       "      <td id=\"T_bdcd3_row20_col1\" class=\"data row20 col1\" >Understanding Society (UKHLS), Wave 4</td>\n",
       "      <td id=\"T_bdcd3_row20_col2\" class=\"data row20 col2\" >7704</td>\n",
       "      <td id=\"T_bdcd3_row20_col3\" class=\"data row20 col3\" >7252</td>\n",
       "      <td id=\"T_bdcd3_row20_col4\" class=\"data row20 col4\" >2099</td>\n",
       "    </tr>\n",
       "    <tr>\n",
       "      <td id=\"T_bdcd3_row21_col0\" class=\"data row21 col0\" > <a href=\"e_indresp.html\">e_indresp</a></td>\n",
       "      <td id=\"T_bdcd3_row21_col1\" class=\"data row21 col1\" >Understanding Society (UKHLS), Wave 5</td>\n",
       "      <td id=\"T_bdcd3_row21_col2\" class=\"data row21 col2\" >7799</td>\n",
       "      <td id=\"T_bdcd3_row21_col3\" class=\"data row21 col3\" >7340</td>\n",
       "      <td id=\"T_bdcd3_row21_col4\" class=\"data row21 col4\" >2600</td>\n",
       "    </tr>\n",
       "    <tr>\n",
       "      <td id=\"T_bdcd3_row22_col0\" class=\"data row22 col0\" > <a href=\"g_indresp.html\">g_indresp</a></td>\n",
       "      <td id=\"T_bdcd3_row22_col1\" class=\"data row22 col1\" >Understanding Society (UKHLS), Wave 7</td>\n",
       "      <td id=\"T_bdcd3_row22_col2\" class=\"data row22 col2\" >8241</td>\n",
       "      <td id=\"T_bdcd3_row22_col3\" class=\"data row22 col3\" >7742</td>\n",
       "      <td id=\"T_bdcd3_row22_col4\" class=\"data row22 col4\" >2818</td>\n",
       "    </tr>\n",
       "    <tr>\n",
       "      <td id=\"T_bdcd3_row23_col0\" class=\"data row23 col0\" > <a href=\"xsample.html\">xsample</a></td>\n",
       "      <td id=\"T_bdcd3_row23_col1\" class=\"data row23 col1\" >UKHLS COVID-19 Survey, Allocations/Outcomes</td>\n",
       "      <td id=\"T_bdcd3_row23_col2\" class=\"data row23 col2\" >8873</td>\n",
       "      <td id=\"T_bdcd3_row23_col3\" class=\"data row23 col3\" >8390</td>\n",
       "      <td id=\"T_bdcd3_row23_col4\" class=\"data row23 col4\" >511</td>\n",
       "    </tr>\n",
       "  </tbody>\n",
       "</table>\n"
      ],
      "text/plain": [
       "<pandas.io.formats.style.Styler at 0x18550a1f6e0>"
      ]
     },
     "execution_count": 3,
     "metadata": {},
     "output_type": "execute_result"
    }
   ],
   "source": [
    "ss.datasets()"
   ]
  }
 ],
 "metadata": {
  "language_info": {
   "codemirror_mode": {
    "name": "ipython",
    "version": 3
   },
   "file_extension": ".py",
   "mimetype": "text/x-python",
   "name": "python",
   "nbconvert_exporter": "python",
   "pygments_lexer": "ipython3",
   "version": "3.12.7"
  },
  "mystnb": {
   "code_prompt_hide": "Hide Datasets",
   "code_prompt_show": "Show Datasets"
  }
 },
 "nbformat": 4,
 "nbformat_minor": 5
}
