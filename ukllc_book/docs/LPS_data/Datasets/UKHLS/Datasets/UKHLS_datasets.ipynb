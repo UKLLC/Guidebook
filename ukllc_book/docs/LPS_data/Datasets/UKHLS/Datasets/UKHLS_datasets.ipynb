{
 "cells": [
  {
   "cell_type": "markdown",
   "id": "0f1a641b",
   "metadata": {},
   "source": [
    "# UKHLS Datasets"
   ]
  },
  {
   "cell_type": "code",
   "execution_count": null,
   "id": "30a0b9a4",
   "metadata": {
    "tags": [
     "remove-cell"
    ]
   },
   "outputs": [],
   "source": [
    "import sys\n",
    "import os\n",
    "sys.path.append(os.path.abspath('../../../../scripts/'))\n",
    "from data_doc_helper import LPSSource as SS\n",
    "API_KEY = os.environ['FASTAPI_KEY']\n",
    "ss = SS(\"UKHLS\")\n"
   ]
  },
  {
   "cell_type": "markdown",
   "id": "6072e702",
   "metadata": {},
   "source": [
    "## 1. Datasets"
   ]
  },
  {
   "cell_type": "code",
   "execution_count": 2,
   "id": "4a0300fa",
   "metadata": {
    "tags": [
     "remove-input"
    ]
   },
   "outputs": [
    {
     "data": {
      "text/markdown": [
       "**Table 1:** Datasets and metrics in the UK LLC belonging to ALSPAC."
      ],
      "text/plain": [
       "<IPython.core.display.Markdown object>"
      ]
     },
     "metadata": {},
     "output_type": "display_data"
    }
   ],
   "source": [
    "ss.table_caption_ds()"
   ]
  },
  {
   "cell_type": "code",
   "execution_count": 3,
   "id": "d620a7d9",
   "metadata": {
    "tags": [
     "remove-input",
     "hide-cell"
    ]
   },
   "outputs": [
    {
     "data": {
      "text/html": [
       "<style type=\"text/css\">\n",
       "#T_50303 th {\n",
       "  text-align: left;\n",
       "}\n",
       "#T_50303_row0_col0, #T_50303_row0_col1, #T_50303_row0_col2, #T_50303_row0_col3, #T_50303_row0_col4, #T_50303_row1_col0, #T_50303_row1_col1, #T_50303_row1_col2, #T_50303_row1_col3, #T_50303_row1_col4, #T_50303_row2_col0, #T_50303_row2_col1, #T_50303_row2_col2, #T_50303_row2_col3, #T_50303_row2_col4, #T_50303_row3_col0, #T_50303_row3_col1, #T_50303_row3_col2, #T_50303_row3_col3, #T_50303_row3_col4, #T_50303_row4_col0, #T_50303_row4_col1, #T_50303_row4_col2, #T_50303_row4_col3, #T_50303_row4_col4, #T_50303_row5_col0, #T_50303_row5_col1, #T_50303_row5_col2, #T_50303_row5_col3, #T_50303_row5_col4, #T_50303_row6_col0, #T_50303_row6_col1, #T_50303_row6_col2, #T_50303_row6_col3, #T_50303_row6_col4, #T_50303_row7_col0, #T_50303_row7_col1, #T_50303_row7_col2, #T_50303_row7_col3, #T_50303_row7_col4, #T_50303_row8_col0, #T_50303_row8_col1, #T_50303_row8_col2, #T_50303_row8_col3, #T_50303_row8_col4, #T_50303_row9_col0, #T_50303_row9_col1, #T_50303_row9_col2, #T_50303_row9_col3, #T_50303_row9_col4, #T_50303_row10_col0, #T_50303_row10_col1, #T_50303_row10_col2, #T_50303_row10_col3, #T_50303_row10_col4, #T_50303_row11_col0, #T_50303_row11_col1, #T_50303_row11_col2, #T_50303_row11_col3, #T_50303_row11_col4, #T_50303_row12_col0, #T_50303_row12_col1, #T_50303_row12_col2, #T_50303_row12_col3, #T_50303_row12_col4, #T_50303_row13_col0, #T_50303_row13_col1, #T_50303_row13_col2, #T_50303_row13_col3, #T_50303_row13_col4, #T_50303_row14_col0, #T_50303_row14_col1, #T_50303_row14_col2, #T_50303_row14_col3, #T_50303_row14_col4, #T_50303_row15_col0, #T_50303_row15_col1, #T_50303_row15_col2, #T_50303_row15_col3, #T_50303_row15_col4, #T_50303_row16_col0, #T_50303_row16_col1, #T_50303_row16_col2, #T_50303_row16_col3, #T_50303_row16_col4, #T_50303_row17_col0, #T_50303_row17_col1, #T_50303_row17_col2, #T_50303_row17_col3, #T_50303_row17_col4 {\n",
       "  text-align: left;\n",
       "}\n",
       "</style>\n",
       "<table id=\"T_50303\" style=\"font-size: 14px\">\n",
       "  <thead>\n",
       "    <tr>\n",
       "      <th id=\"T_50303_level0_col0\" class=\"col_heading level0 col0\" >Dataset</th>\n",
       "      <th id=\"T_50303_level0_col1\" class=\"col_heading level0 col1\" >Dataset Name</th>\n",
       "      <th id=\"T_50303_level0_col2\" class=\"col_heading level0 col2\" ># Participants</th>\n",
       "      <th id=\"T_50303_level0_col3\" class=\"col_heading level0 col3\" ># Observations</th>\n",
       "      <th id=\"T_50303_level0_col4\" class=\"col_heading level0 col4\" ># Variables</th>\n",
       "    </tr>\n",
       "  </thead>\n",
       "  <tbody>\n",
       "    <tr>\n",
       "      <td id=\"T_50303_row0_col0\" class=\"data row0 col0\" > <a href=\"https://guidebook.ukllc.ac.uk/docs/LPS_data/Datasets/ALSPAC/Datasets/serology1m.html\" rel=\"noopener noreferrer\" target=\"_blank\">serology1m</a></td>\n",
       "      <td id=\"T_50303_row0_col1\" class=\"data row0 col1\" >Serology 1 Mothers</td>\n",
       "      <td id=\"T_50303_row0_col2\" class=\"data row0 col2\" >679</td>\n",
       "      <td id=\"T_50303_row0_col3\" class=\"data row0 col3\" >4978</td>\n",
       "      <td id=\"T_50303_row0_col4\" class=\"data row0 col4\" >20</td>\n",
       "    </tr>\n",
       "    <tr>\n",
       "      <td id=\"T_50303_row1_col0\" class=\"data row1 col0\" > <a href=\"https://guidebook.ukllc.ac.uk/docs/LPS_data/Datasets/ALSPAC/Datasets/serology1y.html\" rel=\"noopener noreferrer\" target=\"_blank\">serology1y</a></td>\n",
       "      <td id=\"T_50303_row1_col1\" class=\"data row1 col1\" >Serology 1 G1</td>\n",
       "      <td id=\"T_50303_row1_col2\" class=\"data row1 col2\" >5717</td>\n",
       "      <td id=\"T_50303_row1_col3\" class=\"data row1 col3\" >6504</td>\n",
       "      <td id=\"T_50303_row1_col4\" class=\"data row1 col4\" >20</td>\n",
       "    </tr>\n",
       "    <tr>\n",
       "      <td id=\"T_50303_row2_col0\" class=\"data row2 col0\" > <a href=\"https://guidebook.ukllc.ac.uk/docs/LPS_data/Datasets/ALSPAC/Datasets/serology2m.html\" rel=\"noopener noreferrer\" target=\"_blank\">serology2m</a></td>\n",
       "      <td id=\"T_50303_row2_col1\" class=\"data row2 col1\" >Serology 2 Mothers</td>\n",
       "      <td id=\"T_50303_row2_col2\" class=\"data row2 col2\" >591</td>\n",
       "      <td id=\"T_50303_row2_col3\" class=\"data row2 col3\" >591</td>\n",
       "      <td id=\"T_50303_row2_col4\" class=\"data row2 col4\" >19</td>\n",
       "    </tr>\n",
       "    <tr>\n",
       "      <td id=\"T_50303_row3_col0\" class=\"data row3 col0\" > <a href=\"https://guidebook.ukllc.ac.uk/docs/LPS_data/Datasets/ALSPAC/Datasets/serology2y.html\" rel=\"noopener noreferrer\" target=\"_blank\">serology2y</a></td>\n",
       "      <td id=\"T_50303_row3_col1\" class=\"data row3 col1\" >Serology 2 G1</td>\n",
       "      <td id=\"T_50303_row3_col2\" class=\"data row3 col2\" >5708</td>\n",
       "      <td id=\"T_50303_row3_col3\" class=\"data row3 col3\" >5710</td>\n",
       "      <td id=\"T_50303_row3_col4\" class=\"data row3 col4\" >18</td>\n",
       "    </tr>\n",
       "    <tr>\n",
       "      <td id=\"T_50303_row4_col0\" class=\"data row4 col0\" > <a href=\"https://guidebook.ukllc.ac.uk/docs/LPS_data/Datasets/ALSPAC/Datasets/wave0y.html\" rel=\"noopener noreferrer\" target=\"_blank\">wave0y</a></td>\n",
       "      <td id=\"T_50303_row4_col1\" class=\"data row4 col1\" >Sociodemographic G1</td>\n",
       "      <td id=\"T_50303_row4_col2\" class=\"data row4 col2\" >5738</td>\n",
       "      <td id=\"T_50303_row4_col3\" class=\"data row4 col3\" >6687</td>\n",
       "      <td id=\"T_50303_row4_col4\" class=\"data row4 col4\" >55</td>\n",
       "    </tr>\n",
       "    <tr>\n",
       "      <td id=\"T_50303_row5_col0\" class=\"data row5 col0\" > <a href=\"https://guidebook.ukllc.ac.uk/docs/LPS_data/Datasets/ALSPAC/Datasets/wave1m.html\" rel=\"noopener noreferrer\" target=\"_blank\">wave1m</a></td>\n",
       "      <td id=\"T_50303_row5_col1\" class=\"data row5 col1\" >Covid Questionnaire 1 Mothers</td>\n",
       "      <td id=\"T_50303_row5_col2\" class=\"data row5 col2\" >481</td>\n",
       "      <td id=\"T_50303_row5_col3\" class=\"data row5 col3\" >2292</td>\n",
       "      <td id=\"T_50303_row5_col4\" class=\"data row5 col4\" >459</td>\n",
       "    </tr>\n",
       "    <tr>\n",
       "      <td id=\"T_50303_row6_col0\" class=\"data row6 col0\" > <a href=\"https://guidebook.ukllc.ac.uk/docs/LPS_data/Datasets/ALSPAC/Datasets/wave1y.html\" rel=\"noopener noreferrer\" target=\"_blank\">wave1y</a></td>\n",
       "      <td id=\"T_50303_row6_col1\" class=\"data row6 col1\" >Covid Questionnaire 1 G1</td>\n",
       "      <td id=\"T_50303_row6_col2\" class=\"data row6 col2\" >2607</td>\n",
       "      <td id=\"T_50303_row6_col3\" class=\"data row6 col3\" >2666</td>\n",
       "      <td id=\"T_50303_row6_col4\" class=\"data row6 col4\" >461</td>\n",
       "    </tr>\n",
       "    <tr>\n",
       "      <td id=\"T_50303_row7_col0\" class=\"data row7 col0\" > <a href=\"https://guidebook.ukllc.ac.uk/docs/LPS_data/Datasets/ALSPAC/Datasets/wave2m.html\" rel=\"noopener noreferrer\" target=\"_blank\">wave2m</a></td>\n",
       "      <td id=\"T_50303_row7_col1\" class=\"data row7 col1\" >Covid Questionnaire 2 Mothers</td>\n",
       "      <td id=\"T_50303_row7_col2\" class=\"data row7 col2\" >476</td>\n",
       "      <td id=\"T_50303_row7_col3\" class=\"data row7 col3\" >2232</td>\n",
       "      <td id=\"T_50303_row7_col4\" class=\"data row7 col4\" >305</td>\n",
       "    </tr>\n",
       "    <tr>\n",
       "      <td id=\"T_50303_row8_col0\" class=\"data row8 col0\" > <a href=\"https://guidebook.ukllc.ac.uk/docs/LPS_data/Datasets/ALSPAC/Datasets/wave2y.html\" rel=\"noopener noreferrer\" target=\"_blank\">wave2y</a></td>\n",
       "      <td id=\"T_50303_row8_col1\" class=\"data row8 col1\" >Covid Questionnaire 2 G1</td>\n",
       "      <td id=\"T_50303_row8_col2\" class=\"data row8 col2\" >2378</td>\n",
       "      <td id=\"T_50303_row8_col3\" class=\"data row8 col3\" >2440</td>\n",
       "      <td id=\"T_50303_row8_col4\" class=\"data row8 col4\" >305</td>\n",
       "    </tr>\n",
       "    <tr>\n",
       "      <td id=\"T_50303_row9_col0\" class=\"data row9 col0\" > <a href=\"https://guidebook.ukllc.ac.uk/docs/LPS_data/Datasets/ALSPAC/Datasets/wave3m.html\" rel=\"noopener noreferrer\" target=\"_blank\">wave3m</a></td>\n",
       "      <td id=\"T_50303_row9_col1\" class=\"data row9 col1\" >Covid Questionnaire 3 Mothers</td>\n",
       "      <td id=\"T_50303_row9_col2\" class=\"data row9 col2\" >375</td>\n",
       "      <td id=\"T_50303_row9_col3\" class=\"data row9 col3\" >1679</td>\n",
       "      <td id=\"T_50303_row9_col4\" class=\"data row9 col4\" >293</td>\n",
       "    </tr>\n",
       "    <tr>\n",
       "      <td id=\"T_50303_row10_col0\" class=\"data row10 col0\" > <a href=\"https://guidebook.ukllc.ac.uk/docs/LPS_data/Datasets/ALSPAC/Datasets/wave3y.html\" rel=\"noopener noreferrer\" target=\"_blank\">wave3y</a></td>\n",
       "      <td id=\"T_50303_row10_col1\" class=\"data row10 col1\" >Covid Questionnaire 3 G1</td>\n",
       "      <td id=\"T_50303_row10_col2\" class=\"data row10 col2\" >1855</td>\n",
       "      <td id=\"T_50303_row10_col3\" class=\"data row10 col3\" >1880</td>\n",
       "      <td id=\"T_50303_row10_col4\" class=\"data row10 col4\" >293</td>\n",
       "    </tr>\n",
       "    <tr>\n",
       "      <td id=\"T_50303_row11_col0\" class=\"data row11 col0\" > <a href=\"https://guidebook.ukllc.ac.uk/docs/LPS_data/Datasets/ALSPAC/Datasets/wave4m.html\" rel=\"noopener noreferrer\" target=\"_blank\">wave4m</a></td>\n",
       "      <td id=\"T_50303_row11_col1\" class=\"data row11 col1\" >Covid Questionnaire 4 Mothers</td>\n",
       "      <td id=\"T_50303_row11_col2\" class=\"data row11 col2\" >679</td>\n",
       "      <td id=\"T_50303_row11_col3\" class=\"data row11 col3\" >4978</td>\n",
       "      <td id=\"T_50303_row11_col4\" class=\"data row11 col4\" >427</td>\n",
       "    </tr>\n",
       "    <tr>\n",
       "      <td id=\"T_50303_row12_col0\" class=\"data row12 col0\" > <a href=\"https://guidebook.ukllc.ac.uk/docs/LPS_data/Datasets/ALSPAC/Datasets/wave4y.html\" rel=\"noopener noreferrer\" target=\"_blank\">wave4y</a></td>\n",
       "      <td id=\"T_50303_row12_col1\" class=\"data row12 col1\" >Covid Questionnaire 4 G1</td>\n",
       "      <td id=\"T_50303_row12_col2\" class=\"data row12 col2\" >5717</td>\n",
       "      <td id=\"T_50303_row12_col3\" class=\"data row12 col3\" >6504</td>\n",
       "      <td id=\"T_50303_row12_col4\" class=\"data row12 col4\" >430</td>\n",
       "    </tr>\n",
       "    <tr>\n",
       "      <td id=\"T_50303_row13_col0\" class=\"data row13 col0\" > <a href=\"https://guidebook.ukllc.ac.uk/docs/LPS_data/Datasets/ALSPAC/Datasets/wave5m.html\" rel=\"noopener noreferrer\" target=\"_blank\">wave5m</a></td>\n",
       "      <td id=\"T_50303_row13_col1\" class=\"data row13 col1\" >Covid Questionnaire 5 Mothers</td>\n",
       "      <td id=\"T_50303_row13_col2\" class=\"data row13 col2\" >677</td>\n",
       "      <td id=\"T_50303_row13_col3\" class=\"data row13 col3\" >677</td>\n",
       "      <td id=\"T_50303_row13_col4\" class=\"data row13 col4\" >358</td>\n",
       "    </tr>\n",
       "    <tr>\n",
       "      <td id=\"T_50303_row14_col0\" class=\"data row14 col0\" > <a href=\"https://guidebook.ukllc.ac.uk/docs/LPS_data/Datasets/ALSPAC/Datasets/wave5y.html\" rel=\"noopener noreferrer\" target=\"_blank\">wave5y</a></td>\n",
       "      <td id=\"T_50303_row14_col1\" class=\"data row14 col1\" >Covid Questionnaire 5 G1</td>\n",
       "      <td id=\"T_50303_row14_col2\" class=\"data row14 col2\" >5710</td>\n",
       "      <td id=\"T_50303_row14_col3\" class=\"data row14 col3\" >5710</td>\n",
       "      <td id=\"T_50303_row14_col4\" class=\"data row14 col4\" >352</td>\n",
       "    </tr>\n",
       "    <tr>\n",
       "      <td id=\"T_50303_row15_col0\" class=\"data row15 col0\" > <a href=\"https://guidebook.ukllc.ac.uk/docs/LPS_data/Datasets/ALSPAC/Datasets/wave6m.html\" rel=\"noopener noreferrer\" target=\"_blank\">wave6m</a></td>\n",
       "      <td id=\"T_50303_row15_col1\" class=\"data row15 col1\" >Covid Questionnaire 6 Mothers</td>\n",
       "      <td id=\"T_50303_row15_col2\" class=\"data row15 col2\" >677</td>\n",
       "      <td id=\"T_50303_row15_col3\" class=\"data row15 col3\" >677</td>\n",
       "      <td id=\"T_50303_row15_col4\" class=\"data row15 col4\" >209</td>\n",
       "    </tr>\n",
       "    <tr>\n",
       "      <td id=\"T_50303_row16_col0\" class=\"data row16 col0\" > <a href=\"https://guidebook.ukllc.ac.uk/docs/LPS_data/Datasets/ALSPAC/Datasets/wave6y.html\" rel=\"noopener noreferrer\" target=\"_blank\">wave6y</a></td>\n",
       "      <td id=\"T_50303_row16_col1\" class=\"data row16 col1\" >Covid Questionnaire 6 G1</td>\n",
       "      <td id=\"T_50303_row16_col2\" class=\"data row16 col2\" >5709</td>\n",
       "      <td id=\"T_50303_row16_col3\" class=\"data row16 col3\" >5710</td>\n",
       "      <td id=\"T_50303_row16_col4\" class=\"data row16 col4\" >209</td>\n",
       "    </tr>\n",
       "    <tr>\n",
       "      <td id=\"T_50303_row17_col0\" class=\"data row17 col0\" > <a href=\"https://guidebook.ukllc.ac.uk/docs/LPS_data/Datasets/ALSPAC/Datasets/wave0m.html\" rel=\"noopener noreferrer\" target=\"_blank\">wave0m</a></td>\n",
       "      <td id=\"T_50303_row17_col1\" class=\"data row17 col1\" >Sociodemographic Mothers</td>\n",
       "      <td id=\"T_50303_row17_col2\" class=\"data row17 col2\" >648</td>\n",
       "      <td id=\"T_50303_row17_col3\" class=\"data row17 col3\" >4978</td>\n",
       "      <td id=\"T_50303_row17_col4\" class=\"data row17 col4\" >49</td>\n",
       "    </tr>\n",
       "  </tbody>\n",
       "</table>\n"
      ],
      "text/plain": [
       "<pandas.io.formats.style.Styler at 0x1c78902dfd0>"
      ]
     },
     "execution_count": 3,
     "metadata": {},
     "output_type": "execute_result"
    }
   ],
   "source": [
    "# Table | Table Name | # Participants | # Variables | # Observations\n",
    "ss.datasets()"
   ]
  }
 ],
 "metadata": {
  "kernelspec": {
   "display_name": "jupbook",
   "language": "python",
   "name": "python3"
  },
  "language_info": {
   "codemirror_mode": {
    "name": "ipython",
    "version": 3
   },
   "file_extension": ".py",
   "mimetype": "text/x-python",
   "name": "python",
   "nbconvert_exporter": "python",
   "pygments_lexer": "ipython3",
   "version": "3.13.2"
  },
  "mystnb": {
   "code_prompt_hide": "Hide Datasets",
   "code_prompt_show": "Show Datasets"
  }
 },
 "nbformat": 4,
 "nbformat_minor": 5
}
