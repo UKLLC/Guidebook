{
 "cells": [
  {
   "cell_type": "markdown",
   "id": "1c1152dd",
   "metadata": {},
   "source": [
    "# Controls from the COPING study (NIHRBIO_COPING)"
   ]
  },
  {
   "cell_type": "code",
   "execution_count": 1,
   "id": "d90dfedb",
   "metadata": {
    "execution": {
     "iopub.execute_input": "2025-07-28T20:16:04.298379Z",
     "iopub.status.busy": "2025-07-28T20:16:04.298379Z",
     "iopub.status.idle": "2025-07-28T20:16:16.428975Z",
     "shell.execute_reply": "2025-07-28T20:16:16.426848Z"
    },
    "tags": [
     "remove-input"
    ]
   },
   "outputs": [
    {
     "data": {
      "text/markdown": [
       ">Last modified: 28 Jul 2025"
      ],
      "text/plain": [
       "<IPython.core.display.Markdown object>"
      ]
     },
     "metadata": {},
     "output_type": "display_data"
    }
   ],
   "source": [
    "\n",
    "import sys\n",
    "import os\n",
    "sys.path.append(os.path.abspath('../../../../scripts/'))\n",
    "from data_doc_helper import LPSDataSet as DS, last_modified\n",
    "API_KEY = os.environ['FASTAPI_KEY']\n",
    "ds = DS(\"NIHRBIO_COPING\", \"Bioresource\")\n",
    "last_modified()\n"
   ]
  },
  {
   "cell_type": "markdown",
   "id": "958c272b",
   "metadata": {},
   "source": [
    "## 1. Summary"
   ]
  },
  {
   "cell_type": "code",
   "execution_count": 2,
   "id": "fffc1f01",
   "metadata": {
    "execution": {
     "iopub.execute_input": "2025-07-28T20:16:16.437954Z",
     "iopub.status.busy": "2025-07-28T20:16:16.437954Z",
     "iopub.status.idle": "2025-07-28T20:16:16.449583Z",
     "shell.execute_reply": "2025-07-28T20:16:16.449583Z"
    },
    "tags": [
     "remove-input"
    ]
   },
   "outputs": [
    {
     "data": {
      "text/markdown": [
       "All participants in the study were sent a baseline questionnaire to complete, followed by followup questionnaires online. The questions covered topics of wellbeing before the pandemic and how it changed, as well as the impact of COVID on their mental health, work, and family life. The data covers prepandemic, baseline, and retrospective data from non-GLAD participants taking part in the COPING study."
      ],
      "text/plain": [
       "<IPython.core.display.Markdown object>"
      ]
     },
     "metadata": {},
     "output_type": "display_data"
    }
   ],
   "source": [
    "ds.summary()"
   ]
  },
  {
   "cell_type": "code",
   "execution_count": 3,
   "id": "5377e6ff",
   "metadata": {
    "execution": {
     "iopub.execute_input": "2025-07-28T20:16:16.456657Z",
     "iopub.status.busy": "2025-07-28T20:16:16.456657Z",
     "iopub.status.idle": "2025-07-28T20:16:18.558615Z",
     "shell.execute_reply": "2025-07-28T20:16:18.556081Z"
    },
    "tags": [
     "remove-input"
    ]
   },
   "outputs": [
    {
     "data": {
      "text/html": [
       "<style type=\"text/css\">\n",
       "#T_34218 th {\n",
       "  text-align: left;\n",
       "}\n",
       "#T_34218_row0_col0, #T_34218_row0_col1, #T_34218_row1_col0, #T_34218_row1_col1, #T_34218_row2_col0, #T_34218_row2_col1, #T_34218_row3_col0, #T_34218_row3_col1, #T_34218_row4_col0, #T_34218_row4_col1, #T_34218_row5_col0, #T_34218_row5_col1, #T_34218_row6_col0, #T_34218_row6_col1, #T_34218_row7_col0, #T_34218_row7_col1, #T_34218_row8_col0, #T_34218_row8_col1, #T_34218_row9_col0, #T_34218_row9_col1, #T_34218_row10_col0, #T_34218_row10_col1, #T_34218_row11_col0, #T_34218_row11_col1, #T_34218_row12_col0, #T_34218_row12_col1 {\n",
       "  text-align: left;\n",
       "}\n",
       "</style>\n",
       "<table id=\"T_34218\" style=\"font-size: 14px\">\n",
       "  <thead>\n",
       "    <tr>\n",
       "      <th id=\"T_34218_level0_col0\" class=\"col_heading level0 col0\" >Dataset Descriptor</th>\n",
       "      <th id=\"T_34218_level0_col1\" class=\"col_heading level0 col1\" >Dataset-specific Information</th>\n",
       "    </tr>\n",
       "  </thead>\n",
       "  <tbody>\n",
       "    <tr>\n",
       "      <td id=\"T_34218_row0_col0\" class=\"data row0 col0\" >Name of Dataset in TRE</td>\n",
       "      <td id=\"T_34218_row0_col1\" class=\"data row0 col1\" >NIHRBIO_COPING_Bioresource</td>\n",
       "    </tr>\n",
       "    <tr>\n",
       "      <td id=\"T_34218_row1_col0\" class=\"data row1 col0\" >Citation (APA)</td>\n",
       "      <td id=\"T_34218_row1_col1\" class=\"data row1 col1\" >King's College London, Institute of Psychiatry, Psychology & Neuroscience, Social, Genetic & Developmental Psychiatry Centre. (2021). <i>National Institute for Health and Care Research (NIHR) Mental Health BioResource COVID-19 Psychiatry and Neurological Genetics (COPING) Study: Controls from the COPING study.</i> UK Longitudinal Linkage Collaboration (UK LLC).  <a href=\"https://doi.org/10.71760/ukllc-dataset-00298-01\" rel=\"noopener noreferrer\" target=\"_blank\">https://doi.org/10.71760/ukllc-dataset-00298-01</a></td>\n",
       "    </tr>\n",
       "    <tr>\n",
       "      <td id=\"T_34218_row2_col0\" class=\"data row2 col0\" >Download Citation</td>\n",
       "      <td id=\"T_34218_row2_col1\" class=\"data row2 col1\" > <a href=\"https://api.datacite.org/application/vnd.citationstyles.csl+json/10.71760/ukllc-dataset-00298-01\" rel=\"noopener noreferrer\" target=\"_blank\">Citeproc JSON</a>&nbsp;&nbsp;&nbsp;&nbsp; <a href=\"https://api.datacite.org/application/x-bibtex/10.71760/ukllc-dataset-00298-01\" rel=\"noopener noreferrer\" target=\"_blank\">BibTeX</a>&nbsp;&nbsp;&nbsp;&nbsp; <a href=\"https://api.datacite.org/application/x-research-info-systems/10.71760/ukllc-dataset-00298-01\" rel=\"noopener noreferrer\" target=\"_blank\">RIS</a></td>\n",
       "    </tr>\n",
       "    <tr>\n",
       "      <td id=\"T_34218_row3_col0\" class=\"data row3 col0\" >Series</td>\n",
       "      <td id=\"T_34218_row3_col1\" class=\"data row3 col1\" > <a href=\"https://guidebook.ukllc.ac.uk/docs/lps_data/lps%20profiles/NIHRBIO_COPING\">National Institute for Health and Care Research (NIHR) Mental Health BioResource COVID-19 Psychiatry and Neurological Genetics (COPING) Study</a></td>\n",
       "    </tr>\n",
       "    <tr>\n",
       "      <td id=\"T_34218_row4_col0\" class=\"data row4 col0\" >Owner</td>\n",
       "      <td id=\"T_34218_row4_col1\" class=\"data row4 col1\" >Cambridge University Hospitals NHS Foundation Trust</td>\n",
       "    </tr>\n",
       "    <tr>\n",
       "      <td id=\"T_34218_row5_col0\" class=\"data row5 col0\" >Temporal Coverage</td>\n",
       "      <td id=\"T_34218_row5_col1\" class=\"data row5 col1\" >09/2018 - 05/2021</td>\n",
       "    </tr>\n",
       "    <tr>\n",
       "      <td id=\"T_34218_row6_col0\" class=\"data row6 col0\" >Keywords</td>\n",
       "      <td id=\"T_34218_row6_col1\" class=\"data row6 col1\" >Mental Health,Occupation,Anxiety,Sociodemographic,Stress,Depression</td>\n",
       "    </tr>\n",
       "    <tr>\n",
       "      <td id=\"T_34218_row7_col0\" class=\"data row7 col0\" >Participants Invited</td>\n",
       "      <td id=\"T_34218_row7_col1\" class=\"data row7 col1\" ></td>\n",
       "    </tr>\n",
       "    <tr>\n",
       "      <td id=\"T_34218_row8_col0\" class=\"data row8 col0\" >Participant Count</td>\n",
       "      <td id=\"T_34218_row8_col1\" class=\"data row8 col1\" >13836</td>\n",
       "    </tr>\n",
       "    <tr>\n",
       "      <td id=\"T_34218_row9_col0\" class=\"data row9 col0\" >Number of variables</td>\n",
       "      <td id=\"T_34218_row9_col1\" class=\"data row9 col1\" >351</td>\n",
       "    </tr>\n",
       "    <tr>\n",
       "      <td id=\"T_34218_row10_col0\" class=\"data row10 col0\" >Number of observations</td>\n",
       "      <td id=\"T_34218_row10_col1\" class=\"data row10 col1\" >13836</td>\n",
       "    </tr>\n",
       "    <tr>\n",
       "      <td id=\"T_34218_row11_col0\" class=\"data row11 col0\" >Specific Restrictions to Data Use</td>\n",
       "      <td id=\"T_34218_row11_col1\" class=\"data row11 col1\" >None</td>\n",
       "    </tr>\n",
       "    <tr>\n",
       "      <td id=\"T_34218_row12_col0\" class=\"data row12 col0\" >Build a Data Request</td>\n",
       "      <td id=\"T_34218_row12_col1\" class=\"data row12 col1\" > <a href=\"https://explore.ukllc.ac.uk/\" rel=\"noopener noreferrer\" target=\"_blank\">https://explore.ukllc.ac.uk/</a></td>\n",
       "    </tr>\n",
       "  </tbody>\n",
       "</table>\n"
      ],
      "text/plain": [
       "<pandas.io.formats.style.Styler at 0x257ddf9c890>"
      ]
     },
     "execution_count": 3,
     "metadata": {},
     "output_type": "execute_result"
    }
   ],
   "source": [
    "ds.info_table()"
   ]
  },
  {
   "cell_type": "markdown",
   "id": "62446a0b",
   "metadata": {},
   "source": [
    "## 2. Version History"
   ]
  },
  {
   "cell_type": "code",
   "execution_count": 4,
   "id": "c0d6a899",
   "metadata": {
    "execution": {
     "iopub.execute_input": "2025-07-28T20:16:18.567520Z",
     "iopub.status.busy": "2025-07-28T20:16:18.566521Z",
     "iopub.status.idle": "2025-07-28T20:16:23.761687Z",
     "shell.execute_reply": "2025-07-28T20:16:23.758596Z"
    },
    "tags": [
     "remove-input"
    ]
   },
   "outputs": [
    {
     "data": {
      "text/html": [
       "<style type=\"text/css\">\n",
       "#T_c71f1 th {\n",
       "  text-align: left;\n",
       "}\n",
       "#T_c71f1_row0_col0, #T_c71f1_row0_col1, #T_c71f1_row1_col0, #T_c71f1_row1_col1, #T_c71f1_row2_col0, #T_c71f1_row2_col1, #T_c71f1_row3_col0, #T_c71f1_row3_col1, #T_c71f1_row4_col0, #T_c71f1_row4_col1 {\n",
       "  text-align: left;\n",
       "}\n",
       "</style>\n",
       "<table id=\"T_c71f1\" style=\"font-size: 14px\">\n",
       "  <thead>\n",
       "    <tr>\n",
       "      <th id=\"T_c71f1_level0_col0\" class=\"col_heading level0 col0\" >Version</th>\n",
       "      <th id=\"T_c71f1_level0_col1\" class=\"col_heading level0 col1\" >1</th>\n",
       "    </tr>\n",
       "  </thead>\n",
       "  <tbody>\n",
       "    <tr>\n",
       "      <td id=\"T_c71f1_row0_col0\" class=\"data row0 col0\" >Version Date</td>\n",
       "      <td id=\"T_c71f1_row0_col1\" class=\"data row0 col1\" >19 Jul 2021</td>\n",
       "    </tr>\n",
       "    <tr>\n",
       "      <td id=\"T_c71f1_row1_col0\" class=\"data row1 col0\" >Number of Variables</td>\n",
       "      <td id=\"T_c71f1_row1_col1\" class=\"data row1 col1\" >351</td>\n",
       "    </tr>\n",
       "    <tr>\n",
       "      <td id=\"T_c71f1_row2_col0\" class=\"data row2 col0\" >Number of Observations</td>\n",
       "      <td id=\"T_c71f1_row2_col1\" class=\"data row2 col1\" >13836</td>\n",
       "    </tr>\n",
       "    <tr>\n",
       "      <td id=\"T_c71f1_row3_col0\" class=\"data row3 col0\" >DOI</td>\n",
       "      <td id=\"T_c71f1_row3_col1\" class=\"data row3 col1\" > <a href=\"https://doi.org/10.71760/ukllc-dataset-00298-01\" rel=\"noopener noreferrer\" target=\"_blank\">10.71760/ukllc-dataset-00298-01</a></td>\n",
       "    </tr>\n",
       "    <tr>\n",
       "      <td id=\"T_c71f1_row4_col0\" class=\"data row4 col0\" >Change Log</td>\n",
       "      <td id=\"T_c71f1_row4_col1\" class=\"data row4 col1\" > <a href=\"https://api.test.datacite.org/dois/10.71760/ukllc-dataset-00298-01/activities\" rel=\"noopener noreferrer\" target=\"_blank\">10.71760/ukllc-dataset-00298-01/activities</a></td>\n",
       "    </tr>\n",
       "  </tbody>\n",
       "</table>\n"
      ],
      "text/plain": [
       "<pandas.io.formats.style.Styler at 0x257e39995b0>"
      ]
     },
     "execution_count": 4,
     "metadata": {},
     "output_type": "execute_result"
    }
   ],
   "source": [
    "ds.version_history()"
   ]
  },
  {
   "cell_type": "markdown",
   "id": "54d6a783",
   "metadata": {},
   "source": [
    "## 3. Documentation"
   ]
  },
  {
   "cell_type": "code",
   "execution_count": 5,
   "id": "0c836597",
   "metadata": {
    "execution": {
     "iopub.execute_input": "2025-07-28T20:16:23.770680Z",
     "iopub.status.busy": "2025-07-28T20:16:23.770680Z",
     "iopub.status.idle": "2025-07-28T20:16:23.784870Z",
     "shell.execute_reply": "2025-07-28T20:16:23.782296Z"
    },
    "tags": [
     "remove-input"
    ]
   },
   "outputs": [
    {
     "data": {
      "text/markdown": [
       "We are currently building a documentation storage system which will host useful documents related to datasets and data owners. We will surface these documents on Guidebook."
      ],
      "text/plain": [
       "<IPython.core.display.Markdown object>"
      ]
     },
     "metadata": {},
     "output_type": "display_data"
    }
   ],
   "source": [
    "ds.documentation()"
   ]
  },
  {
   "cell_type": "markdown",
   "id": "7274987a",
   "metadata": {},
   "source": [
    "## 4. Useful Syntax"
   ]
  },
  {
   "cell_type": "code",
   "execution_count": 6,
   "id": "52f47372",
   "metadata": {
    "execution": {
     "iopub.execute_input": "2025-07-28T20:16:23.792865Z",
     "iopub.status.busy": "2025-07-28T20:16:23.792865Z",
     "iopub.status.idle": "2025-07-28T20:16:23.804128Z",
     "shell.execute_reply": "2025-07-28T20:16:23.802096Z"
    },
    "tags": [
     "remove-input"
    ]
   },
   "outputs": [
    {
     "data": {
      "text/markdown": [
       "Below we will include syntax that may be helpful to other researchers in the UK LLC TRE. For longer scripts, we will include a snippet of the code plus a link to Git where you can find the full scripts."
      ],
      "text/plain": [
       "<IPython.core.display.Markdown object>"
      ]
     },
     "metadata": {},
     "output_type": "display_data"
    }
   ],
   "source": [
    "ds.useful_syntax()"
   ]
  }
 ],
 "metadata": {
  "language_info": {
   "codemirror_mode": {
    "name": "ipython",
    "version": 3
   },
   "file_extension": ".py",
   "mimetype": "text/x-python",
   "name": "python",
   "nbconvert_exporter": "python",
   "pygments_lexer": "ipython3",
   "version": "3.12.7"
  }
 },
 "nbformat": 4,
 "nbformat_minor": 5
}
