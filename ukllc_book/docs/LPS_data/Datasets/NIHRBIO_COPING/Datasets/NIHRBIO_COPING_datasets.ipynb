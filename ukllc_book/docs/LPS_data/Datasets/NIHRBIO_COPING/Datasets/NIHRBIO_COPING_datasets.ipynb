{
 "cells": [
  {
   "cell_type": "markdown",
   "id": "2bf662db",
   "metadata": {},
   "source": [
    "# National Institute for Health and Care Research (NIHR) Mental Health BioResource COVID-19 Psychiatry and Neurological Genetics (COPING) Study Datasets"
   ]
  },
  {
   "cell_type": "code",
   "execution_count": 1,
   "id": "a9209474",
   "metadata": {
    "execution": {
     "iopub.execute_input": "2025-07-28T20:16:29.254421Z",
     "iopub.status.busy": "2025-07-28T20:16:29.253113Z",
     "iopub.status.idle": "2025-07-28T20:16:33.470154Z",
     "shell.execute_reply": "2025-07-28T20:16:33.467099Z"
    },
    "tags": [
     "remove-input"
    ]
   },
   "outputs": [
    {
     "data": {
      "text/markdown": [
       ">Last modified: 28 Jul 2025"
      ],
      "text/plain": [
       "<IPython.core.display.Markdown object>"
      ]
     },
     "metadata": {},
     "output_type": "display_data"
    }
   ],
   "source": [
    "\n",
    "import sys\n",
    "import os\n",
    "sys.path.append(os.path.abspath('../../../../scripts/'))\n",
    "from data_doc_helper import LPSSource as SS, last_modified\n",
    "API_KEY = os.environ['FASTAPI_KEY']\n",
    "ss = SS(\"NIHRBIO_COPING\")\n",
    "last_modified()\n"
   ]
  },
  {
   "cell_type": "markdown",
   "id": "e8537f06",
   "metadata": {},
   "source": [
    "## 1. Datasets"
   ]
  },
  {
   "cell_type": "code",
   "execution_count": 2,
   "id": "9b867398",
   "metadata": {
    "execution": {
     "iopub.execute_input": "2025-07-28T20:16:33.479128Z",
     "iopub.status.busy": "2025-07-28T20:16:33.478128Z",
     "iopub.status.idle": "2025-07-28T20:16:33.493545Z",
     "shell.execute_reply": "2025-07-28T20:16:33.491529Z"
    },
    "tags": [
     "remove-input"
    ]
   },
   "outputs": [
    {
     "data": {
      "text/markdown": [
       "**Table 1:** Datasets and metrics in the UK LLC belonging to NIHRBIO_COPING."
      ],
      "text/plain": [
       "<IPython.core.display.Markdown object>"
      ]
     },
     "metadata": {},
     "output_type": "display_data"
    }
   ],
   "source": [
    "ss.table_caption_ds()"
   ]
  },
  {
   "cell_type": "code",
   "execution_count": 3,
   "id": "76ccb0af",
   "metadata": {
    "execution": {
     "iopub.execute_input": "2025-07-28T20:16:33.500565Z",
     "iopub.status.busy": "2025-07-28T20:16:33.499564Z",
     "iopub.status.idle": "2025-07-28T20:16:35.899176Z",
     "shell.execute_reply": "2025-07-28T20:16:35.897162Z"
    },
    "tags": [
     "remove-input",
     "hide-cell"
    ]
   },
   "outputs": [
    {
     "data": {
      "text/html": [
       "<style type=\"text/css\">\n",
       "#T_80aa7 th {\n",
       "  text-align: left;\n",
       "}\n",
       "#T_80aa7_row0_col0, #T_80aa7_row0_col1, #T_80aa7_row0_col2, #T_80aa7_row0_col3, #T_80aa7_row0_col4 {\n",
       "  text-align: left;\n",
       "}\n",
       "</style>\n",
       "<table id=\"T_80aa7\" style=\"font-size: 14px\">\n",
       "  <thead>\n",
       "    <tr>\n",
       "      <th id=\"T_80aa7_level0_col0\" class=\"col_heading level0 col0\" >Dataset</th>\n",
       "      <th id=\"T_80aa7_level0_col1\" class=\"col_heading level0 col1\" >Dataset Name</th>\n",
       "      <th id=\"T_80aa7_level0_col2\" class=\"col_heading level0 col2\" ># Participants</th>\n",
       "      <th id=\"T_80aa7_level0_col3\" class=\"col_heading level0 col3\" ># Observations</th>\n",
       "      <th id=\"T_80aa7_level0_col4\" class=\"col_heading level0 col4\" ># Variables</th>\n",
       "    </tr>\n",
       "  </thead>\n",
       "  <tbody>\n",
       "    <tr>\n",
       "      <td id=\"T_80aa7_row0_col0\" class=\"data row0 col0\" > <a href=\"Bioresource.html\">Bioresource</a></td>\n",
       "      <td id=\"T_80aa7_row0_col1\" class=\"data row0 col1\" >Controls from the COPING study</td>\n",
       "      <td id=\"T_80aa7_row0_col2\" class=\"data row0 col2\" >13836</td>\n",
       "      <td id=\"T_80aa7_row0_col3\" class=\"data row0 col3\" >13836</td>\n",
       "      <td id=\"T_80aa7_row0_col4\" class=\"data row0 col4\" >351</td>\n",
       "    </tr>\n",
       "  </tbody>\n",
       "</table>\n"
      ],
      "text/plain": [
       "<pandas.io.formats.style.Styler at 0x18cb29d38c0>"
      ]
     },
     "execution_count": 3,
     "metadata": {},
     "output_type": "execute_result"
    }
   ],
   "source": [
    "ss.datasets()"
   ]
  }
 ],
 "metadata": {
  "language_info": {
   "codemirror_mode": {
    "name": "ipython",
    "version": 3
   },
   "file_extension": ".py",
   "mimetype": "text/x-python",
   "name": "python",
   "nbconvert_exporter": "python",
   "pygments_lexer": "ipython3",
   "version": "3.12.7"
  },
  "mystnb": {
   "code_prompt_hide": "Hide Datasets",
   "code_prompt_show": "Show Datasets"
  }
 },
 "nbformat": 4,
 "nbformat_minor": 5
}
