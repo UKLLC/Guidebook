{
 "cells": [
  {
   "cell_type": "markdown",
   "id": "79aa8b27",
   "metadata": {},
   "source": [
    "#  ELSA Wave 9 income and assets dataset part 3 (ELSA)"
   ]
  },
  {
   "cell_type": "code",
   "execution_count": 1,
   "id": "1b01d5f4",
   "metadata": {
    "execution": {
     "iopub.execute_input": "2025-07-28T18:14:11.754606Z",
     "iopub.status.busy": "2025-07-28T18:14:11.754606Z",
     "iopub.status.idle": "2025-07-28T18:14:28.029343Z",
     "shell.execute_reply": "2025-07-28T18:14:28.028334Z"
    },
    "tags": [
     "remove-input"
    ]
   },
   "outputs": [
    {
     "data": {
      "text/markdown": [
       ">Last modified: 28 Jul 2025"
      ],
      "text/plain": [
       "<IPython.core.display.Markdown object>"
      ]
     },
     "metadata": {},
     "output_type": "display_data"
    }
   ],
   "source": [
    "\n",
    "import sys\n",
    "import os\n",
    "sys.path.append(os.path.abspath('../../../../scripts/'))\n",
    "from data_doc_helper import LPSDataSet as DS, last_modified\n",
    "API_KEY = os.environ['FASTAPI_KEY']\n",
    "ds = DS(\"ELSA\", \"wave_9_elsa_data_eul_dhdi\")\n",
    "last_modified()\n"
   ]
  },
  {
   "cell_type": "markdown",
   "id": "941a025f",
   "metadata": {},
   "source": [
    "## 1. Summary"
   ]
  },
  {
   "cell_type": "code",
   "execution_count": 2,
   "id": "6cac6575",
   "metadata": {
    "execution": {
     "iopub.execute_input": "2025-07-28T18:14:28.033350Z",
     "iopub.status.busy": "2025-07-28T18:14:28.033350Z",
     "iopub.status.idle": "2025-07-28T18:14:28.039866Z",
     "shell.execute_reply": "2025-07-28T18:14:28.039866Z"
    },
    "tags": [
     "remove-input"
    ]
   },
   "outputs": [
    {
     "data": {
      "text/markdown": [
       "Participants from the ELSA sample were invited to take part in a face-to-face interview in 2018-2019. Respondents took part in a interview on a number of topics but this block contains variables from the 'Income and assets' module. This questionnaire module contains questions on the following topics:\n",
       "earnings, state benefits, private pensions, asset income (by asset category),  other income (including receipt of lump sums),  wealth,  financial assets (12 categories),  physical assets (5 categories),  business wealth,  debt (3 categories), housing wealth and mortgage debt (including equity release and home reversion plans), lifetime inheritances and gifts, life insurance "
      ],
      "text/plain": [
       "<IPython.core.display.Markdown object>"
      ]
     },
     "metadata": {},
     "output_type": "display_data"
    }
   ],
   "source": [
    "ds.summary()"
   ]
  },
  {
   "cell_type": "code",
   "execution_count": 3,
   "id": "167f2f83",
   "metadata": {
    "execution": {
     "iopub.execute_input": "2025-07-28T18:14:28.044386Z",
     "iopub.status.busy": "2025-07-28T18:14:28.044386Z",
     "iopub.status.idle": "2025-07-28T18:14:29.767064Z",
     "shell.execute_reply": "2025-07-28T18:14:29.766064Z"
    },
    "tags": [
     "remove-input"
    ]
   },
   "outputs": [
    {
     "data": {
      "text/html": [
       "<style type=\"text/css\">\n",
       "#T_5dd8f th {\n",
       "  text-align: left;\n",
       "}\n",
       "#T_5dd8f_row0_col0, #T_5dd8f_row0_col1, #T_5dd8f_row1_col0, #T_5dd8f_row1_col1, #T_5dd8f_row2_col0, #T_5dd8f_row2_col1, #T_5dd8f_row3_col0, #T_5dd8f_row3_col1, #T_5dd8f_row4_col0, #T_5dd8f_row4_col1, #T_5dd8f_row5_col0, #T_5dd8f_row5_col1, #T_5dd8f_row6_col0, #T_5dd8f_row6_col1, #T_5dd8f_row7_col0, #T_5dd8f_row7_col1, #T_5dd8f_row8_col0, #T_5dd8f_row8_col1, #T_5dd8f_row9_col0, #T_5dd8f_row9_col1, #T_5dd8f_row10_col0, #T_5dd8f_row10_col1, #T_5dd8f_row11_col0, #T_5dd8f_row11_col1, #T_5dd8f_row12_col0, #T_5dd8f_row12_col1 {\n",
       "  text-align: left;\n",
       "}\n",
       "</style>\n",
       "<table id=\"T_5dd8f\" style=\"font-size: 14px\">\n",
       "  <thead>\n",
       "    <tr>\n",
       "      <th id=\"T_5dd8f_level0_col0\" class=\"col_heading level0 col0\" >Dataset Descriptor</th>\n",
       "      <th id=\"T_5dd8f_level0_col1\" class=\"col_heading level0 col1\" >Dataset-specific Information</th>\n",
       "    </tr>\n",
       "  </thead>\n",
       "  <tbody>\n",
       "    <tr>\n",
       "      <td id=\"T_5dd8f_row0_col0\" class=\"data row0 col0\" >Name of Dataset in TRE</td>\n",
       "      <td id=\"T_5dd8f_row0_col1\" class=\"data row0 col1\" >ELSA_wave_9_elsa_data_eul_dhdi</td>\n",
       "    </tr>\n",
       "    <tr>\n",
       "      <td id=\"T_5dd8f_row1_col0\" class=\"data row1 col0\" >Citation (APA)</td>\n",
       "      <td id=\"T_5dd8f_row1_col1\" class=\"data row1 col1\" >University College London, National Centre for Social Research, The Institute for Fiscal Studies, The University of East Anglia, and The University of Manchester. (2021). <i>English Longitudinal Study of Ageing (ELSA):  ELSA Wave 9 income and assets dataset part 3.</i> UK Longitudinal Linkage Collaboration (UK LLC).  <a href=\"https://doi.org/10.71760/ukllc-dataset-00090-01\" rel=\"noopener noreferrer\" target=\"_blank\">https://doi.org/10.71760/ukllc-dataset-00090-01</a></td>\n",
       "    </tr>\n",
       "    <tr>\n",
       "      <td id=\"T_5dd8f_row2_col0\" class=\"data row2 col0\" >Download Citation</td>\n",
       "      <td id=\"T_5dd8f_row2_col1\" class=\"data row2 col1\" > <a href=\"https://api.datacite.org/application/vnd.citationstyles.csl+json/10.71760/ukllc-dataset-00090-01\" rel=\"noopener noreferrer\" target=\"_blank\">Citeproc JSON</a>&nbsp;&nbsp;&nbsp;&nbsp; <a href=\"https://api.datacite.org/application/x-bibtex/10.71760/ukllc-dataset-00090-01\" rel=\"noopener noreferrer\" target=\"_blank\">BibTeX</a>&nbsp;&nbsp;&nbsp;&nbsp; <a href=\"https://api.datacite.org/application/x-research-info-systems/10.71760/ukllc-dataset-00090-01\" rel=\"noopener noreferrer\" target=\"_blank\">RIS</a></td>\n",
       "    </tr>\n",
       "    <tr>\n",
       "      <td id=\"T_5dd8f_row3_col0\" class=\"data row3 col0\" >Series</td>\n",
       "      <td id=\"T_5dd8f_row3_col1\" class=\"data row3 col1\" > <a href=\"https://guidebook.ukllc.ac.uk/docs/lps_data/lps%20profiles/ELSA\">English Longitudinal Study of Ageing (ELSA)</a></td>\n",
       "    </tr>\n",
       "    <tr>\n",
       "      <td id=\"T_5dd8f_row4_col0\" class=\"data row4 col0\" >Owner</td>\n",
       "      <td id=\"T_5dd8f_row4_col1\" class=\"data row4 col1\" >UCL</td>\n",
       "    </tr>\n",
       "    <tr>\n",
       "      <td id=\"T_5dd8f_row5_col0\" class=\"data row5 col0\" >Temporal Coverage</td>\n",
       "      <td id=\"T_5dd8f_row5_col1\" class=\"data row5 col1\" >06/2018 - 07/2019</td>\n",
       "    </tr>\n",
       "    <tr>\n",
       "      <td id=\"T_5dd8f_row6_col0\" class=\"data row6 col0\" >Keywords</td>\n",
       "      <td id=\"T_5dd8f_row6_col1\" class=\"data row6 col1\" >individual demographics,household demographics,household composition,marital status,parental occupation,relationship grid,children,grandchildren.</td>\n",
       "    </tr>\n",
       "    <tr>\n",
       "      <td id=\"T_5dd8f_row7_col0\" class=\"data row7 col0\" >Participants Invited</td>\n",
       "      <td id=\"T_5dd8f_row7_col1\" class=\"data row7 col1\" >8736</td>\n",
       "    </tr>\n",
       "    <tr>\n",
       "      <td id=\"T_5dd8f_row8_col0\" class=\"data row8 col0\" >Participant Count</td>\n",
       "      <td id=\"T_5dd8f_row8_col1\" class=\"data row8 col1\" >8736</td>\n",
       "    </tr>\n",
       "    <tr>\n",
       "      <td id=\"T_5dd8f_row9_col0\" class=\"data row9 col0\" >Number of variables</td>\n",
       "      <td id=\"T_5dd8f_row9_col1\" class=\"data row9 col1\" >429</td>\n",
       "    </tr>\n",
       "    <tr>\n",
       "      <td id=\"T_5dd8f_row10_col0\" class=\"data row10 col0\" >Number of observations</td>\n",
       "      <td id=\"T_5dd8f_row10_col1\" class=\"data row10 col1\" >8736</td>\n",
       "    </tr>\n",
       "    <tr>\n",
       "      <td id=\"T_5dd8f_row11_col0\" class=\"data row11 col0\" >Specific Restrictions to Data Use</td>\n",
       "      <td id=\"T_5dd8f_row11_col1\" class=\"data row11 col1\" >None</td>\n",
       "    </tr>\n",
       "    <tr>\n",
       "      <td id=\"T_5dd8f_row12_col0\" class=\"data row12 col0\" >Build a Data Request</td>\n",
       "      <td id=\"T_5dd8f_row12_col1\" class=\"data row12 col1\" > <a href=\"https://explore.ukllc.ac.uk/\" rel=\"noopener noreferrer\" target=\"_blank\">https://explore.ukllc.ac.uk/</a></td>\n",
       "    </tr>\n",
       "  </tbody>\n",
       "</table>\n"
      ],
      "text/plain": [
       "<pandas.io.formats.style.Styler at 0x20342d04ad0>"
      ]
     },
     "execution_count": 3,
     "metadata": {},
     "output_type": "execute_result"
    }
   ],
   "source": [
    "ds.info_table()"
   ]
  },
  {
   "cell_type": "markdown",
   "id": "c8f833d4",
   "metadata": {},
   "source": [
    "## 2. Version History"
   ]
  },
  {
   "cell_type": "code",
   "execution_count": 4,
   "id": "d99b4b42",
   "metadata": {
    "execution": {
     "iopub.execute_input": "2025-07-28T18:14:29.776069Z",
     "iopub.status.busy": "2025-07-28T18:14:29.776069Z",
     "iopub.status.idle": "2025-07-28T18:14:37.062295Z",
     "shell.execute_reply": "2025-07-28T18:14:37.061283Z"
    },
    "tags": [
     "remove-input"
    ]
   },
   "outputs": [
    {
     "data": {
      "text/html": [
       "<style type=\"text/css\">\n",
       "#T_d12e9 th {\n",
       "  text-align: left;\n",
       "}\n",
       "#T_d12e9_row0_col0, #T_d12e9_row0_col1, #T_d12e9_row1_col0, #T_d12e9_row1_col1, #T_d12e9_row2_col0, #T_d12e9_row2_col1, #T_d12e9_row3_col0, #T_d12e9_row3_col1, #T_d12e9_row4_col0, #T_d12e9_row4_col1 {\n",
       "  text-align: left;\n",
       "}\n",
       "</style>\n",
       "<table id=\"T_d12e9\" style=\"font-size: 14px\">\n",
       "  <thead>\n",
       "    <tr>\n",
       "      <th id=\"T_d12e9_level0_col0\" class=\"col_heading level0 col0\" >Version</th>\n",
       "      <th id=\"T_d12e9_level0_col1\" class=\"col_heading level0 col1\" >1</th>\n",
       "    </tr>\n",
       "  </thead>\n",
       "  <tbody>\n",
       "    <tr>\n",
       "      <td id=\"T_d12e9_row0_col0\" class=\"data row0 col0\" >Version Date</td>\n",
       "      <td id=\"T_d12e9_row0_col1\" class=\"data row0 col1\" >01 Nov 2021</td>\n",
       "    </tr>\n",
       "    <tr>\n",
       "      <td id=\"T_d12e9_row1_col0\" class=\"data row1 col0\" >Number of Variables</td>\n",
       "      <td id=\"T_d12e9_row1_col1\" class=\"data row1 col1\" >429</td>\n",
       "    </tr>\n",
       "    <tr>\n",
       "      <td id=\"T_d12e9_row2_col0\" class=\"data row2 col0\" >Number of Observations</td>\n",
       "      <td id=\"T_d12e9_row2_col1\" class=\"data row2 col1\" >8736</td>\n",
       "    </tr>\n",
       "    <tr>\n",
       "      <td id=\"T_d12e9_row3_col0\" class=\"data row3 col0\" >DOI</td>\n",
       "      <td id=\"T_d12e9_row3_col1\" class=\"data row3 col1\" > <a href=\"https://doi.org/10.71760/ukllc-dataset-00090-01\" rel=\"noopener noreferrer\" target=\"_blank\">10.71760/ukllc-dataset-00090-01</a></td>\n",
       "    </tr>\n",
       "    <tr>\n",
       "      <td id=\"T_d12e9_row4_col0\" class=\"data row4 col0\" >Change Log</td>\n",
       "      <td id=\"T_d12e9_row4_col1\" class=\"data row4 col1\" > <a href=\"https://api.test.datacite.org/dois/10.71760/ukllc-dataset-00090-01/activities\" rel=\"noopener noreferrer\" target=\"_blank\">10.71760/ukllc-dataset-00090-01/activities</a></td>\n",
       "    </tr>\n",
       "  </tbody>\n",
       "</table>\n"
      ],
      "text/plain": [
       "<pandas.io.formats.style.Styler at 0x20344b8fe60>"
      ]
     },
     "execution_count": 4,
     "metadata": {},
     "output_type": "execute_result"
    }
   ],
   "source": [
    "ds.version_history()"
   ]
  },
  {
   "cell_type": "markdown",
   "id": "bfd154bf",
   "metadata": {},
   "source": [
    "## 3. Documentation"
   ]
  },
  {
   "cell_type": "code",
   "execution_count": 5,
   "id": "c9afa56d",
   "metadata": {
    "execution": {
     "iopub.execute_input": "2025-07-28T18:14:37.066295Z",
     "iopub.status.busy": "2025-07-28T18:14:37.066295Z",
     "iopub.status.idle": "2025-07-28T18:14:37.073814Z",
     "shell.execute_reply": "2025-07-28T18:14:37.072294Z"
    },
    "tags": [
     "remove-input"
    ]
   },
   "outputs": [
    {
     "data": {
      "text/markdown": [
       "We are currently building a documentation storage system which will host useful documents related to datasets and data owners. We will surface these documents on Guidebook."
      ],
      "text/plain": [
       "<IPython.core.display.Markdown object>"
      ]
     },
     "metadata": {},
     "output_type": "display_data"
    }
   ],
   "source": [
    "ds.documentation()"
   ]
  },
  {
   "cell_type": "markdown",
   "id": "d00ce055",
   "metadata": {},
   "source": [
    "## 4. Useful Syntax"
   ]
  },
  {
   "cell_type": "code",
   "execution_count": 6,
   "id": "809355aa",
   "metadata": {
    "execution": {
     "iopub.execute_input": "2025-07-28T18:14:37.079814Z",
     "iopub.status.busy": "2025-07-28T18:14:37.078814Z",
     "iopub.status.idle": "2025-07-28T18:14:37.090915Z",
     "shell.execute_reply": "2025-07-28T18:14:37.088907Z"
    },
    "tags": [
     "remove-input"
    ]
   },
   "outputs": [
    {
     "data": {
      "text/markdown": [
       "Below we will include syntax that may be helpful to other researchers in the UK LLC TRE. For longer scripts, we will include a snippet of the code plus a link to Git where you can find the full scripts."
      ],
      "text/plain": [
       "<IPython.core.display.Markdown object>"
      ]
     },
     "metadata": {},
     "output_type": "display_data"
    }
   ],
   "source": [
    "ds.useful_syntax()"
   ]
  }
 ],
 "metadata": {
  "language_info": {
   "codemirror_mode": {
    "name": "ipython",
    "version": 3
   },
   "file_extension": ".py",
   "mimetype": "text/x-python",
   "name": "python",
   "nbconvert_exporter": "python",
   "pygments_lexer": "ipython3",
   "version": "3.12.7"
  }
 },
 "nbformat": 4,
 "nbformat_minor": 5
}
