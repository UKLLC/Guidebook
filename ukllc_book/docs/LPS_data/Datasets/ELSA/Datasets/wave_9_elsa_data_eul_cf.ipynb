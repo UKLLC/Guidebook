{
 "cells": [
  {
   "cell_type": "markdown",
   "id": "b0592ab2",
   "metadata": {},
   "source": [
    "#  ELSA Wave 9 income and assets dataset part 2 (ELSA)"
   ]
  },
  {
   "cell_type": "code",
   "execution_count": 1,
   "id": "993d2204",
   "metadata": {
    "execution": {
     "iopub.execute_input": "2025-07-17T15:13:38.840045Z",
     "iopub.status.busy": "2025-07-17T15:13:38.839036Z",
     "iopub.status.idle": "2025-07-17T15:13:46.943329Z",
     "shell.execute_reply": "2025-07-17T15:13:46.942318Z"
    },
    "tags": [
     "remove-input"
    ]
   },
   "outputs": [
    {
     "data": {
      "text/markdown": [
       ">Last modified: 17 Jul 2025"
      ],
      "text/plain": [
       "<IPython.core.display.Markdown object>"
      ]
     },
     "metadata": {},
     "output_type": "display_data"
    }
   ],
   "source": [
    "\n",
    "import sys\n",
    "import os\n",
    "sys.path.append(os.path.abspath('../../../../scripts/'))\n",
    "from data_doc_helper import LPSDataSet as DS, last_modified\n",
    "API_KEY = os.environ['FASTAPI_KEY']\n",
    "ds = DS(\"ELSA\", \"wave_9_elsa_data_eul_cf\")\n",
    "last_modified()\n"
   ]
  },
  {
   "cell_type": "markdown",
   "id": "8b3bce8f",
   "metadata": {},
   "source": [
    "## 1. Summary"
   ]
  },
  {
   "cell_type": "code",
   "execution_count": 2,
   "id": "ab921865",
   "metadata": {
    "execution": {
     "iopub.execute_input": "2025-07-17T15:13:46.948837Z",
     "iopub.status.busy": "2025-07-17T15:13:46.948837Z",
     "iopub.status.idle": "2025-07-17T15:13:46.957848Z",
     "shell.execute_reply": "2025-07-17T15:13:46.956781Z"
    },
    "tags": [
     "remove-input"
    ]
   },
   "outputs": [
    {
     "data": {
      "text/markdown": [
       "Participants from the ELSA sample were invited to take part in a face-to-face interview in 2018-2019. Respondents took part in a interview on a number of topics but this block contains variables from the 'Income and assets' module. This questionnaire module contains questions on the following topics:\r\n",
       "earnings, state benefits, private pensions, asset income (by asset category),  other income (including receipt of lump sums),  wealth,  financial assets (12 categories),  physical assets (5 categories),  business wealth,  debt (3 categories), housing wealth and mortgage debt (including equity release and home reversion plans), lifetime inheritances and gifts, life insurance "
      ],
      "text/plain": [
       "<IPython.core.display.Markdown object>"
      ]
     },
     "metadata": {},
     "output_type": "display_data"
    }
   ],
   "source": [
    "ds.summary()"
   ]
  },
  {
   "cell_type": "code",
   "execution_count": 3,
   "id": "62f1278a",
   "metadata": {
    "execution": {
     "iopub.execute_input": "2025-07-17T15:13:46.963361Z",
     "iopub.status.busy": "2025-07-17T15:13:46.962373Z",
     "iopub.status.idle": "2025-07-17T15:13:47.986840Z",
     "shell.execute_reply": "2025-07-17T15:13:47.985830Z"
    },
    "tags": [
     "remove-input"
    ]
   },
   "outputs": [
    {
     "data": {
      "text/html": [
       "<style type=\"text/css\">\n",
       "#T_f94e2 th {\n",
       "  text-align: left;\n",
       "}\n",
       "#T_f94e2_row0_col0, #T_f94e2_row0_col1, #T_f94e2_row1_col0, #T_f94e2_row1_col1, #T_f94e2_row2_col0, #T_f94e2_row2_col1, #T_f94e2_row3_col0, #T_f94e2_row3_col1, #T_f94e2_row4_col0, #T_f94e2_row4_col1, #T_f94e2_row5_col0, #T_f94e2_row5_col1, #T_f94e2_row6_col0, #T_f94e2_row6_col1, #T_f94e2_row7_col0, #T_f94e2_row7_col1, #T_f94e2_row8_col0, #T_f94e2_row8_col1, #T_f94e2_row9_col0, #T_f94e2_row9_col1, #T_f94e2_row10_col0, #T_f94e2_row10_col1, #T_f94e2_row11_col0, #T_f94e2_row11_col1, #T_f94e2_row12_col0, #T_f94e2_row12_col1 {\n",
       "  text-align: left;\n",
       "}\n",
       "</style>\n",
       "<table id=\"T_f94e2\" style=\"font-size: 14px\">\n",
       "  <thead>\n",
       "    <tr>\n",
       "      <th id=\"T_f94e2_level0_col0\" class=\"col_heading level0 col0\" >Dataset Descriptor</th>\n",
       "      <th id=\"T_f94e2_level0_col1\" class=\"col_heading level0 col1\" >Dataset-specific Information</th>\n",
       "    </tr>\n",
       "  </thead>\n",
       "  <tbody>\n",
       "    <tr>\n",
       "      <td id=\"T_f94e2_row0_col0\" class=\"data row0 col0\" >Name of Dataset in TRE</td>\n",
       "      <td id=\"T_f94e2_row0_col1\" class=\"data row0 col1\" >ELSA_wave_9_elsa_data_eul_cf</td>\n",
       "    </tr>\n",
       "    <tr>\n",
       "      <td id=\"T_f94e2_row1_col0\" class=\"data row1 col0\" >Citation (APA)</td>\n",
       "      <td id=\"T_f94e2_row1_col1\" class=\"data row1 col1\" >University College London, National Centre for Social Research, The Institute for Fiscal Studies, The University of East Anglia, and The University of Manchester. (2021). <i>English Longitudinal Study of Ageing (ELSA):  ELSA Wave 9 income and assets dataset part 2.</i> UK Longitudinal Linkage Collaboration (UK LLC).  <a href=\"https://doi.org/10.83126/ukllc-dataset-00170-01\" rel=\"noopener noreferrer\" target=\"_blank\">https://doi.org/10.83126/ukllc-dataset-00170-01</a></td>\n",
       "    </tr>\n",
       "    <tr>\n",
       "      <td id=\"T_f94e2_row2_col0\" class=\"data row2 col0\" >Download Citation</td>\n",
       "      <td id=\"T_f94e2_row2_col1\" class=\"data row2 col1\" > <a href=\"https://api.test.datacite.org/application/vnd.citationstyles.csl+json/10.83126/ukllc-dataset-00170-01\" rel=\"noopener noreferrer\" target=\"_blank\">Citeproc JSON</a>&nbsp;&nbsp;&nbsp;&nbsp; <a href=\"https://api.test.datacite.org/application/x-bibtex/10.83126/ukllc-dataset-00170-01\" rel=\"noopener noreferrer\" target=\"_blank\">BibTeX</a>&nbsp;&nbsp;&nbsp;&nbsp; <a href=\"https://api.test.datacite.org/application/x-research-info-systems/10.83126/ukllc-dataset-00170-01\" rel=\"noopener noreferrer\" target=\"_blank\">RIS</a></td>\n",
       "    </tr>\n",
       "    <tr>\n",
       "      <td id=\"T_f94e2_row3_col0\" class=\"data row3 col0\" >Series</td>\n",
       "      <td id=\"T_f94e2_row3_col1\" class=\"data row3 col1\" > <a href=\"https://guidebook.ukllc.ac.uk/docs/lps/lps%20profiles/ELSA\">English Longitudinal Study of Ageing (ELSA)</a></td>\n",
       "    </tr>\n",
       "    <tr>\n",
       "      <td id=\"T_f94e2_row4_col0\" class=\"data row4 col0\" >Owner</td>\n",
       "      <td id=\"T_f94e2_row4_col1\" class=\"data row4 col1\" >UCL</td>\n",
       "    </tr>\n",
       "    <tr>\n",
       "      <td id=\"T_f94e2_row5_col0\" class=\"data row5 col0\" >Temporal Coverage</td>\n",
       "      <td id=\"T_f94e2_row5_col1\" class=\"data row5 col1\" >06/2018 - 07/2019</td>\n",
       "    </tr>\n",
       "    <tr>\n",
       "      <td id=\"T_f94e2_row6_col0\" class=\"data row6 col0\" >Keywords</td>\n",
       "      <td id=\"T_f94e2_row6_col1\" class=\"data row6 col1\" >cognitive function,memory,verbal learning,recall,cognitive test,verbal fluency,executive function.</td>\n",
       "    </tr>\n",
       "    <tr>\n",
       "      <td id=\"T_f94e2_row7_col0\" class=\"data row7 col0\" >Participants Invited</td>\n",
       "      <td id=\"T_f94e2_row7_col1\" class=\"data row7 col1\" >8736</td>\n",
       "    </tr>\n",
       "    <tr>\n",
       "      <td id=\"T_f94e2_row8_col0\" class=\"data row8 col0\" >Participant Count</td>\n",
       "      <td id=\"T_f94e2_row8_col1\" class=\"data row8 col1\" >8736</td>\n",
       "    </tr>\n",
       "    <tr>\n",
       "      <td id=\"T_f94e2_row9_col0\" class=\"data row9 col0\" >Number of variables</td>\n",
       "      <td id=\"T_f94e2_row9_col1\" class=\"data row9 col1\" >88</td>\n",
       "    </tr>\n",
       "    <tr>\n",
       "      <td id=\"T_f94e2_row10_col0\" class=\"data row10 col0\" >Number of observations</td>\n",
       "      <td id=\"T_f94e2_row10_col1\" class=\"data row10 col1\" >8736</td>\n",
       "    </tr>\n",
       "    <tr>\n",
       "      <td id=\"T_f94e2_row11_col0\" class=\"data row11 col0\" >Specific Restrictions to Data Use</td>\n",
       "      <td id=\"T_f94e2_row11_col1\" class=\"data row11 col1\" >None</td>\n",
       "    </tr>\n",
       "    <tr>\n",
       "      <td id=\"T_f94e2_row12_col0\" class=\"data row12 col0\" >Build a Data Request</td>\n",
       "      <td id=\"T_f94e2_row12_col1\" class=\"data row12 col1\" > <a href=\"https://explore.ukllc.ac.uk/\" rel=\"noopener noreferrer\" target=\"_blank\">https://explore.ukllc.ac.uk/</a></td>\n",
       "    </tr>\n",
       "  </tbody>\n",
       "</table>\n"
      ],
      "text/plain": [
       "<pandas.io.formats.style.Styler at 0x1ab63733170>"
      ]
     },
     "execution_count": 3,
     "metadata": {},
     "output_type": "execute_result"
    }
   ],
   "source": [
    "ds.info_table()"
   ]
  },
  {
   "cell_type": "markdown",
   "id": "371f2787",
   "metadata": {},
   "source": [
    "## 2. Version History"
   ]
  },
  {
   "cell_type": "code",
   "execution_count": 4,
   "id": "796a43ce",
   "metadata": {
    "execution": {
     "iopub.execute_input": "2025-07-17T15:13:47.991044Z",
     "iopub.status.busy": "2025-07-17T15:13:47.991044Z",
     "iopub.status.idle": "2025-07-17T15:13:59.559072Z",
     "shell.execute_reply": "2025-07-17T15:13:59.556957Z"
    },
    "tags": [
     "remove-input"
    ]
   },
   "outputs": [
    {
     "data": {
      "text/html": [
       "<style type=\"text/css\">\n",
       "#T_0e5d3 th {\n",
       "  text-align: left;\n",
       "}\n",
       "#T_0e5d3_row0_col0, #T_0e5d3_row0_col1, #T_0e5d3_row1_col0, #T_0e5d3_row1_col1, #T_0e5d3_row2_col0, #T_0e5d3_row2_col1, #T_0e5d3_row3_col0, #T_0e5d3_row3_col1, #T_0e5d3_row4_col0, #T_0e5d3_row4_col1 {\n",
       "  text-align: left;\n",
       "}\n",
       "</style>\n",
       "<table id=\"T_0e5d3\" style=\"font-size: 14px\">\n",
       "  <thead>\n",
       "    <tr>\n",
       "      <th id=\"T_0e5d3_level0_col0\" class=\"col_heading level0 col0\" >Version</th>\n",
       "      <th id=\"T_0e5d3_level0_col1\" class=\"col_heading level0 col1\" >1</th>\n",
       "    </tr>\n",
       "  </thead>\n",
       "  <tbody>\n",
       "    <tr>\n",
       "      <td id=\"T_0e5d3_row0_col0\" class=\"data row0 col0\" >Version Date</td>\n",
       "      <td id=\"T_0e5d3_row0_col1\" class=\"data row0 col1\" >01 Nov 2021</td>\n",
       "    </tr>\n",
       "    <tr>\n",
       "      <td id=\"T_0e5d3_row1_col0\" class=\"data row1 col0\" >Number of Variables</td>\n",
       "      <td id=\"T_0e5d3_row1_col1\" class=\"data row1 col1\" >88</td>\n",
       "    </tr>\n",
       "    <tr>\n",
       "      <td id=\"T_0e5d3_row2_col0\" class=\"data row2 col0\" >Number of Observations</td>\n",
       "      <td id=\"T_0e5d3_row2_col1\" class=\"data row2 col1\" >8736</td>\n",
       "    </tr>\n",
       "    <tr>\n",
       "      <td id=\"T_0e5d3_row3_col0\" class=\"data row3 col0\" >DOI</td>\n",
       "      <td id=\"T_0e5d3_row3_col1\" class=\"data row3 col1\" > <a href=\"https://doi.org/10.83126/ukllc-dataset-00170-01\" rel=\"noopener noreferrer\" target=\"_blank\">10.83126/ukllc-dataset-00170-01</a></td>\n",
       "    </tr>\n",
       "    <tr>\n",
       "      <td id=\"T_0e5d3_row4_col0\" class=\"data row4 col0\" >Change Log</td>\n",
       "      <td id=\"T_0e5d3_row4_col1\" class=\"data row4 col1\" > <a href=\"https://api.test.datacite.org/dois/10.83126/ukllc-dataset-00170-01/activities\" rel=\"noopener noreferrer\" target=\"_blank\">10.83126/ukllc-dataset-00170-01/activities</a></td>\n",
       "    </tr>\n",
       "  </tbody>\n",
       "</table>\n"
      ],
      "text/plain": [
       "<pandas.io.formats.style.Styler at 0x1ab6531ea80>"
      ]
     },
     "execution_count": 4,
     "metadata": {},
     "output_type": "execute_result"
    }
   ],
   "source": [
    "ds.version_history()"
   ]
  },
  {
   "cell_type": "markdown",
   "id": "8255c735",
   "metadata": {},
   "source": [
    "## 3. Documentation"
   ]
  },
  {
   "cell_type": "code",
   "execution_count": 5,
   "id": "bdd22e8f",
   "metadata": {
    "execution": {
     "iopub.execute_input": "2025-07-17T15:13:59.565942Z",
     "iopub.status.busy": "2025-07-17T15:13:59.565429Z",
     "iopub.status.idle": "2025-07-17T15:13:59.574111Z",
     "shell.execute_reply": "2025-07-17T15:13:59.572096Z"
    },
    "tags": [
     "remove-input"
    ]
   },
   "outputs": [
    {
     "data": {
      "text/markdown": [
       "We are currently building a documentation storage system which will host useful documents related to datasets and data owners. We will surface these documents on Guidebook."
      ],
      "text/plain": [
       "<IPython.core.display.Markdown object>"
      ]
     },
     "metadata": {},
     "output_type": "display_data"
    }
   ],
   "source": [
    "ds.documentation()"
   ]
  },
  {
   "cell_type": "markdown",
   "id": "6f7cd98e",
   "metadata": {},
   "source": [
    "## 4. Useful Syntax"
   ]
  },
  {
   "cell_type": "code",
   "execution_count": 6,
   "id": "a99b3067",
   "metadata": {
    "execution": {
     "iopub.execute_input": "2025-07-17T15:13:59.580492Z",
     "iopub.status.busy": "2025-07-17T15:13:59.580492Z",
     "iopub.status.idle": "2025-07-17T15:13:59.588580Z",
     "shell.execute_reply": "2025-07-17T15:13:59.586565Z"
    },
    "tags": [
     "remove-input"
    ]
   },
   "outputs": [
    {
     "data": {
      "text/markdown": [
       "Below we will include syntax that may be helpful to other researchers in the UK LLC TRE. For longer scripts, we will include a snippet of the code plus a link to Git where you can find the full scripts."
      ],
      "text/plain": [
       "<IPython.core.display.Markdown object>"
      ]
     },
     "metadata": {},
     "output_type": "display_data"
    }
   ],
   "source": [
    "ds.useful_syntax()"
   ]
  }
 ],
 "metadata": {
  "language_info": {
   "codemirror_mode": {
    "name": "ipython",
    "version": 3
   },
   "file_extension": ".py",
   "mimetype": "text/x-python",
   "name": "python",
   "nbconvert_exporter": "python",
   "pygments_lexer": "ipython3",
   "version": "3.12.7"
  }
 },
 "nbformat": 4,
 "nbformat_minor": 5
}
