{
 "cells": [
  {
   "cell_type": "markdown",
   "id": "888f0f48",
   "metadata": {},
   "source": [
    "# ELSA Wave 9 housing dataset part 1 (ELSA)"
   ]
  },
  {
   "cell_type": "code",
   "execution_count": 1,
   "id": "88ec8583",
   "metadata": {
    "execution": {
     "iopub.execute_input": "2025-07-28T18:12:27.753738Z",
     "iopub.status.busy": "2025-07-28T18:12:27.753738Z",
     "iopub.status.idle": "2025-07-28T18:12:39.573798Z",
     "shell.execute_reply": "2025-07-28T18:12:39.562285Z"
    },
    "tags": [
     "remove-input"
    ]
   },
   "outputs": [
    {
     "data": {
      "text/markdown": [
       ">Last modified: 28 Jul 2025"
      ],
      "text/plain": [
       "<IPython.core.display.Markdown object>"
      ]
     },
     "metadata": {},
     "output_type": "display_data"
    }
   ],
   "source": [
    "\n",
    "import sys\n",
    "import os\n",
    "sys.path.append(os.path.abspath('../../../../scripts/'))\n",
    "from data_doc_helper import LPSDataSet as DS, last_modified\n",
    "API_KEY = os.environ['FASTAPI_KEY']\n",
    "ds = DS(\"ELSA\", \"elsa_covid_w1_eul\")\n",
    "last_modified()\n"
   ]
  },
  {
   "cell_type": "markdown",
   "id": "154fc837",
   "metadata": {},
   "source": [
    "## 1. Summary"
   ]
  },
  {
   "cell_type": "code",
   "execution_count": 2,
   "id": "ef06fe04",
   "metadata": {
    "execution": {
     "iopub.execute_input": "2025-07-28T18:12:39.580803Z",
     "iopub.status.busy": "2025-07-28T18:12:39.580803Z",
     "iopub.status.idle": "2025-07-28T18:12:39.591397Z",
     "shell.execute_reply": "2025-07-28T18:12:39.590393Z"
    },
    "tags": [
     "remove-input"
    ]
   },
   "outputs": [
    {
     "data": {
      "text/markdown": [
       "Participants from the ELSA sample were invited to take part in a face-to-face interview in 2018-2019. Respondents took part in a interview on a number of topics but this block contains variables from the 'Housing and consumption' module. This questionnaire module contains questions on the following topics: housing (rent and mortgage payments), satisfaction with housing and area, vehicle ownership, durable ownership,  durable purchases, food expenditures,  fuel expenditures,  health insurance contributions,  leisure expenditures,  clothing expenditures, transfers (incl. charitable giving and Child Trust Funds), accommodation quality , gas and electricity expenditures (especially heating). \n",
       "\n"
      ],
      "text/plain": [
       "<IPython.core.display.Markdown object>"
      ]
     },
     "metadata": {},
     "output_type": "display_data"
    }
   ],
   "source": [
    "ds.summary()"
   ]
  },
  {
   "cell_type": "code",
   "execution_count": 3,
   "id": "3e680a4e",
   "metadata": {
    "execution": {
     "iopub.execute_input": "2025-07-28T18:12:39.596907Z",
     "iopub.status.busy": "2025-07-28T18:12:39.595907Z",
     "iopub.status.idle": "2025-07-28T18:12:40.701733Z",
     "shell.execute_reply": "2025-07-28T18:12:40.700221Z"
    },
    "tags": [
     "remove-input"
    ]
   },
   "outputs": [
    {
     "data": {
      "text/html": [
       "<style type=\"text/css\">\n",
       "#T_2c1b9 th {\n",
       "  text-align: left;\n",
       "}\n",
       "#T_2c1b9_row0_col0, #T_2c1b9_row0_col1, #T_2c1b9_row1_col0, #T_2c1b9_row1_col1, #T_2c1b9_row2_col0, #T_2c1b9_row2_col1, #T_2c1b9_row3_col0, #T_2c1b9_row3_col1, #T_2c1b9_row4_col0, #T_2c1b9_row4_col1, #T_2c1b9_row5_col0, #T_2c1b9_row5_col1, #T_2c1b9_row6_col0, #T_2c1b9_row6_col1, #T_2c1b9_row7_col0, #T_2c1b9_row7_col1, #T_2c1b9_row8_col0, #T_2c1b9_row8_col1, #T_2c1b9_row9_col0, #T_2c1b9_row9_col1, #T_2c1b9_row10_col0, #T_2c1b9_row10_col1, #T_2c1b9_row11_col0, #T_2c1b9_row11_col1, #T_2c1b9_row12_col0, #T_2c1b9_row12_col1 {\n",
       "  text-align: left;\n",
       "}\n",
       "</style>\n",
       "<table id=\"T_2c1b9\" style=\"font-size: 14px\">\n",
       "  <thead>\n",
       "    <tr>\n",
       "      <th id=\"T_2c1b9_level0_col0\" class=\"col_heading level0 col0\" >Dataset Descriptor</th>\n",
       "      <th id=\"T_2c1b9_level0_col1\" class=\"col_heading level0 col1\" >Dataset-specific Information</th>\n",
       "    </tr>\n",
       "  </thead>\n",
       "  <tbody>\n",
       "    <tr>\n",
       "      <td id=\"T_2c1b9_row0_col0\" class=\"data row0 col0\" >Name of Dataset in TRE</td>\n",
       "      <td id=\"T_2c1b9_row0_col1\" class=\"data row0 col1\" >ELSA_elsa_covid_w1_eul</td>\n",
       "    </tr>\n",
       "    <tr>\n",
       "      <td id=\"T_2c1b9_row1_col0\" class=\"data row1 col0\" >Citation (APA)</td>\n",
       "      <td id=\"T_2c1b9_row1_col1\" class=\"data row1 col1\" >University College London, National Centre for Social Research, The Institute for Fiscal Studies, The University of East Anglia, and The University of Manchester. (2021). <i>English Longitudinal Study of Ageing (ELSA): ELSA Wave 9 housing dataset part 1.</i> UK Longitudinal Linkage Collaboration (UK LLC).  <a href=\"https://doi.org/10.71760/ukllc-dataset-00086-01\" rel=\"noopener noreferrer\" target=\"_blank\">https://doi.org/10.71760/ukllc-dataset-00086-01</a></td>\n",
       "    </tr>\n",
       "    <tr>\n",
       "      <td id=\"T_2c1b9_row2_col0\" class=\"data row2 col0\" >Download Citation</td>\n",
       "      <td id=\"T_2c1b9_row2_col1\" class=\"data row2 col1\" > <a href=\"https://api.datacite.org/application/vnd.citationstyles.csl+json/10.71760/ukllc-dataset-00086-01\" rel=\"noopener noreferrer\" target=\"_blank\">Citeproc JSON</a>&nbsp;&nbsp;&nbsp;&nbsp; <a href=\"https://api.datacite.org/application/x-bibtex/10.71760/ukllc-dataset-00086-01\" rel=\"noopener noreferrer\" target=\"_blank\">BibTeX</a>&nbsp;&nbsp;&nbsp;&nbsp; <a href=\"https://api.datacite.org/application/x-research-info-systems/10.71760/ukllc-dataset-00086-01\" rel=\"noopener noreferrer\" target=\"_blank\">RIS</a></td>\n",
       "    </tr>\n",
       "    <tr>\n",
       "      <td id=\"T_2c1b9_row3_col0\" class=\"data row3 col0\" >Series</td>\n",
       "      <td id=\"T_2c1b9_row3_col1\" class=\"data row3 col1\" > <a href=\"https://guidebook.ukllc.ac.uk/docs/lps_data/lps%20profiles/ELSA\">English Longitudinal Study of Ageing (ELSA)</a></td>\n",
       "    </tr>\n",
       "    <tr>\n",
       "      <td id=\"T_2c1b9_row4_col0\" class=\"data row4 col0\" >Owner</td>\n",
       "      <td id=\"T_2c1b9_row4_col1\" class=\"data row4 col1\" >UCL</td>\n",
       "    </tr>\n",
       "    <tr>\n",
       "      <td id=\"T_2c1b9_row5_col0\" class=\"data row5 col0\" >Temporal Coverage</td>\n",
       "      <td id=\"T_2c1b9_row5_col1\" class=\"data row5 col1\" >06/2020 - 07/2020</td>\n",
       "    </tr>\n",
       "    <tr>\n",
       "      <td id=\"T_2c1b9_row6_col0\" class=\"data row6 col0\" >Keywords</td>\n",
       "      <td id=\"T_2c1b9_row6_col1\" class=\"data row6 col1\" >COVID,health,mental health,employment,social participation,financial security,care and volunteering.</td>\n",
       "    </tr>\n",
       "    <tr>\n",
       "      <td id=\"T_2c1b9_row7_col0\" class=\"data row7 col0\" >Participants Invited</td>\n",
       "      <td id=\"T_2c1b9_row7_col1\" class=\"data row7 col1\" >7040</td>\n",
       "    </tr>\n",
       "    <tr>\n",
       "      <td id=\"T_2c1b9_row8_col0\" class=\"data row8 col0\" >Participant Count</td>\n",
       "      <td id=\"T_2c1b9_row8_col1\" class=\"data row8 col1\" >7040</td>\n",
       "    </tr>\n",
       "    <tr>\n",
       "      <td id=\"T_2c1b9_row9_col0\" class=\"data row9 col0\" >Number of variables</td>\n",
       "      <td id=\"T_2c1b9_row9_col1\" class=\"data row9 col1\" >319</td>\n",
       "    </tr>\n",
       "    <tr>\n",
       "      <td id=\"T_2c1b9_row10_col0\" class=\"data row10 col0\" >Number of observations</td>\n",
       "      <td id=\"T_2c1b9_row10_col1\" class=\"data row10 col1\" >7040</td>\n",
       "    </tr>\n",
       "    <tr>\n",
       "      <td id=\"T_2c1b9_row11_col0\" class=\"data row11 col0\" >Specific Restrictions to Data Use</td>\n",
       "      <td id=\"T_2c1b9_row11_col1\" class=\"data row11 col1\" >None</td>\n",
       "    </tr>\n",
       "    <tr>\n",
       "      <td id=\"T_2c1b9_row12_col0\" class=\"data row12 col0\" >Build a Data Request</td>\n",
       "      <td id=\"T_2c1b9_row12_col1\" class=\"data row12 col1\" > <a href=\"https://explore.ukllc.ac.uk/\" rel=\"noopener noreferrer\" target=\"_blank\">https://explore.ukllc.ac.uk/</a></td>\n",
       "    </tr>\n",
       "  </tbody>\n",
       "</table>\n"
      ],
      "text/plain": [
       "<pandas.io.formats.style.Styler at 0x1b872465310>"
      ]
     },
     "execution_count": 3,
     "metadata": {},
     "output_type": "execute_result"
    }
   ],
   "source": [
    "ds.info_table()"
   ]
  },
  {
   "cell_type": "markdown",
   "id": "78eaee35",
   "metadata": {},
   "source": [
    "## 2. Version History"
   ]
  },
  {
   "cell_type": "code",
   "execution_count": 4,
   "id": "aceb223c",
   "metadata": {
    "execution": {
     "iopub.execute_input": "2025-07-28T18:12:40.707733Z",
     "iopub.status.busy": "2025-07-28T18:12:40.707733Z",
     "iopub.status.idle": "2025-07-28T18:12:46.474454Z",
     "shell.execute_reply": "2025-07-28T18:12:46.473444Z"
    },
    "tags": [
     "remove-input"
    ]
   },
   "outputs": [
    {
     "data": {
      "text/html": [
       "<style type=\"text/css\">\n",
       "#T_67805 th {\n",
       "  text-align: left;\n",
       "}\n",
       "#T_67805_row0_col0, #T_67805_row0_col1, #T_67805_row1_col0, #T_67805_row1_col1, #T_67805_row2_col0, #T_67805_row2_col1, #T_67805_row3_col0, #T_67805_row3_col1, #T_67805_row4_col0, #T_67805_row4_col1 {\n",
       "  text-align: left;\n",
       "}\n",
       "</style>\n",
       "<table id=\"T_67805\" style=\"font-size: 14px\">\n",
       "  <thead>\n",
       "    <tr>\n",
       "      <th id=\"T_67805_level0_col0\" class=\"col_heading level0 col0\" >Version</th>\n",
       "      <th id=\"T_67805_level0_col1\" class=\"col_heading level0 col1\" >1</th>\n",
       "    </tr>\n",
       "  </thead>\n",
       "  <tbody>\n",
       "    <tr>\n",
       "      <td id=\"T_67805_row0_col0\" class=\"data row0 col0\" >Version Date</td>\n",
       "      <td id=\"T_67805_row0_col1\" class=\"data row0 col1\" >01 Nov 2021</td>\n",
       "    </tr>\n",
       "    <tr>\n",
       "      <td id=\"T_67805_row1_col0\" class=\"data row1 col0\" >Number of Variables</td>\n",
       "      <td id=\"T_67805_row1_col1\" class=\"data row1 col1\" >319</td>\n",
       "    </tr>\n",
       "    <tr>\n",
       "      <td id=\"T_67805_row2_col0\" class=\"data row2 col0\" >Number of Observations</td>\n",
       "      <td id=\"T_67805_row2_col1\" class=\"data row2 col1\" >7040</td>\n",
       "    </tr>\n",
       "    <tr>\n",
       "      <td id=\"T_67805_row3_col0\" class=\"data row3 col0\" >DOI</td>\n",
       "      <td id=\"T_67805_row3_col1\" class=\"data row3 col1\" > <a href=\"https://doi.org/10.71760/ukllc-dataset-00086-01\" rel=\"noopener noreferrer\" target=\"_blank\">10.71760/ukllc-dataset-00086-01</a></td>\n",
       "    </tr>\n",
       "    <tr>\n",
       "      <td id=\"T_67805_row4_col0\" class=\"data row4 col0\" >Change Log</td>\n",
       "      <td id=\"T_67805_row4_col1\" class=\"data row4 col1\" > <a href=\"https://api.test.datacite.org/dois/10.71760/ukllc-dataset-00086-01/activities\" rel=\"noopener noreferrer\" target=\"_blank\">10.71760/ukllc-dataset-00086-01/activities</a></td>\n",
       "    </tr>\n",
       "  </tbody>\n",
       "</table>\n"
      ],
      "text/plain": [
       "<pandas.io.formats.style.Styler at 0x1b874068800>"
      ]
     },
     "execution_count": 4,
     "metadata": {},
     "output_type": "execute_result"
    }
   ],
   "source": [
    "ds.version_history()"
   ]
  },
  {
   "cell_type": "markdown",
   "id": "80e79e03",
   "metadata": {},
   "source": [
    "## 3. Documentation"
   ]
  },
  {
   "cell_type": "code",
   "execution_count": 5,
   "id": "345f13a7",
   "metadata": {
    "execution": {
     "iopub.execute_input": "2025-07-28T18:12:46.478453Z",
     "iopub.status.busy": "2025-07-28T18:12:46.478453Z",
     "iopub.status.idle": "2025-07-28T18:12:46.486600Z",
     "shell.execute_reply": "2025-07-28T18:12:46.484594Z"
    },
    "tags": [
     "remove-input"
    ]
   },
   "outputs": [
    {
     "data": {
      "text/markdown": [
       "We are currently building a documentation storage system which will host useful documents related to datasets and data owners. We will surface these documents on Guidebook."
      ],
      "text/plain": [
       "<IPython.core.display.Markdown object>"
      ]
     },
     "metadata": {},
     "output_type": "display_data"
    }
   ],
   "source": [
    "ds.documentation()"
   ]
  },
  {
   "cell_type": "markdown",
   "id": "483df0bd",
   "metadata": {},
   "source": [
    "## 4. Useful Syntax"
   ]
  },
  {
   "cell_type": "code",
   "execution_count": 6,
   "id": "00ed1a1f",
   "metadata": {
    "execution": {
     "iopub.execute_input": "2025-07-28T18:12:46.491600Z",
     "iopub.status.busy": "2025-07-28T18:12:46.491600Z",
     "iopub.status.idle": "2025-07-28T18:12:46.501123Z",
     "shell.execute_reply": "2025-07-28T18:12:46.500113Z"
    },
    "tags": [
     "remove-input"
    ]
   },
   "outputs": [
    {
     "data": {
      "text/markdown": [
       "Below we will include syntax that may be helpful to other researchers in the UK LLC TRE. For longer scripts, we will include a snippet of the code plus a link to Git where you can find the full scripts."
      ],
      "text/plain": [
       "<IPython.core.display.Markdown object>"
      ]
     },
     "metadata": {},
     "output_type": "display_data"
    }
   ],
   "source": [
    "ds.useful_syntax()"
   ]
  }
 ],
 "metadata": {
  "language_info": {
   "codemirror_mode": {
    "name": "ipython",
    "version": 3
   },
   "file_extension": ".py",
   "mimetype": "text/x-python",
   "name": "python",
   "nbconvert_exporter": "python",
   "pygments_lexer": "ipython3",
   "version": "3.12.7"
  }
 },
 "nbformat": 4,
 "nbformat_minor": 5
}
