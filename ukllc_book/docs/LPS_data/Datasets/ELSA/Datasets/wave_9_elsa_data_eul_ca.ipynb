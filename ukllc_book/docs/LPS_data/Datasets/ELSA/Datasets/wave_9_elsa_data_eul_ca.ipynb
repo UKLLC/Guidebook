{
 "cells": [
  {
   "cell_type": "markdown",
   "id": "b4ff9ba1",
   "metadata": {},
   "source": [
    "#  ELSA Wave 9 income and assets dataset part 1 (ELSA)"
   ]
  },
  {
   "cell_type": "code",
   "execution_count": 1,
   "id": "8042c382",
   "metadata": {
    "execution": {
     "iopub.execute_input": "2025-07-17T15:13:23.221500Z",
     "iopub.status.busy": "2025-07-17T15:13:23.221500Z",
     "iopub.status.idle": "2025-07-17T15:13:32.146532Z",
     "shell.execute_reply": "2025-07-17T15:13:32.145518Z"
    },
    "tags": [
     "remove-input"
    ]
   },
   "outputs": [
    {
     "data": {
      "text/markdown": [
       ">Last modified: 17 Jul 2025"
      ],
      "text/plain": [
       "<IPython.core.display.Markdown object>"
      ]
     },
     "metadata": {},
     "output_type": "display_data"
    }
   ],
   "source": [
    "\n",
    "import sys\n",
    "import os\n",
    "sys.path.append(os.path.abspath('../../../../scripts/'))\n",
    "from data_doc_helper import LPSDataSet as DS, last_modified\n",
    "API_KEY = os.environ['FASTAPI_KEY']\n",
    "ds = DS(\"ELSA\", \"wave_9_elsa_data_eul_ca\")\n",
    "last_modified()\n"
   ]
  },
  {
   "cell_type": "markdown",
   "id": "981fd414",
   "metadata": {},
   "source": [
    "## 1. Summary"
   ]
  },
  {
   "cell_type": "code",
   "execution_count": 2,
   "id": "95bfe341",
   "metadata": {
    "execution": {
     "iopub.execute_input": "2025-07-17T15:13:32.154530Z",
     "iopub.status.busy": "2025-07-17T15:13:32.153530Z",
     "iopub.status.idle": "2025-07-17T15:13:32.160530Z",
     "shell.execute_reply": "2025-07-17T15:13:32.160530Z"
    },
    "tags": [
     "remove-input"
    ]
   },
   "outputs": [
    {
     "data": {
      "text/markdown": [
       "Participants from the ELSA sample were invited to take part in a face-to-face interview in 2018-2019. Respondents took part in a interview on a number of topics but this block contains variables from the 'Income and assets' module. This questionnaire module contains questions on the following topics:\r\n",
       "earnings, state benefits, private pensions, asset income (by asset category),  other income (including receipt of lump sums),  wealth,  financial assets (12 categories),  physical assets (5 categories),  business wealth,  debt (3 categories), housing wealth and mortgage debt (including equity release and home reversion plans), lifetime inheritances and gifts, life insurance "
      ],
      "text/plain": [
       "<IPython.core.display.Markdown object>"
      ]
     },
     "metadata": {},
     "output_type": "display_data"
    }
   ],
   "source": [
    "ds.summary()"
   ]
  },
  {
   "cell_type": "code",
   "execution_count": 3,
   "id": "0a203a6e",
   "metadata": {
    "execution": {
     "iopub.execute_input": "2025-07-17T15:13:32.166993Z",
     "iopub.status.busy": "2025-07-17T15:13:32.166993Z",
     "iopub.status.idle": "2025-07-17T15:13:34.007117Z",
     "shell.execute_reply": "2025-07-17T15:13:34.006100Z"
    },
    "tags": [
     "remove-input"
    ]
   },
   "outputs": [
    {
     "data": {
      "text/html": [
       "<style type=\"text/css\">\n",
       "#T_f0036 th {\n",
       "  text-align: left;\n",
       "}\n",
       "#T_f0036_row0_col0, #T_f0036_row0_col1, #T_f0036_row1_col0, #T_f0036_row1_col1, #T_f0036_row2_col0, #T_f0036_row2_col1, #T_f0036_row3_col0, #T_f0036_row3_col1, #T_f0036_row4_col0, #T_f0036_row4_col1, #T_f0036_row5_col0, #T_f0036_row5_col1, #T_f0036_row6_col0, #T_f0036_row6_col1, #T_f0036_row7_col0, #T_f0036_row7_col1, #T_f0036_row8_col0, #T_f0036_row8_col1, #T_f0036_row9_col0, #T_f0036_row9_col1, #T_f0036_row10_col0, #T_f0036_row10_col1, #T_f0036_row11_col0, #T_f0036_row11_col1, #T_f0036_row12_col0, #T_f0036_row12_col1 {\n",
       "  text-align: left;\n",
       "}\n",
       "</style>\n",
       "<table id=\"T_f0036\" style=\"font-size: 14px\">\n",
       "  <thead>\n",
       "    <tr>\n",
       "      <th id=\"T_f0036_level0_col0\" class=\"col_heading level0 col0\" >Dataset Descriptor</th>\n",
       "      <th id=\"T_f0036_level0_col1\" class=\"col_heading level0 col1\" >Dataset-specific Information</th>\n",
       "    </tr>\n",
       "  </thead>\n",
       "  <tbody>\n",
       "    <tr>\n",
       "      <td id=\"T_f0036_row0_col0\" class=\"data row0 col0\" >Name of Dataset in TRE</td>\n",
       "      <td id=\"T_f0036_row0_col1\" class=\"data row0 col1\" >ELSA_wave_9_elsa_data_eul_ca</td>\n",
       "    </tr>\n",
       "    <tr>\n",
       "      <td id=\"T_f0036_row1_col0\" class=\"data row1 col0\" >Citation (APA)</td>\n",
       "      <td id=\"T_f0036_row1_col1\" class=\"data row1 col1\" >University College London, National Centre for Social Research, The Institute for Fiscal Studies, The University of East Anglia, and The University of Manchester. (2021). <i>English Longitudinal Study of Ageing (ELSA):  ELSA Wave 9 income and assets dataset part 1.</i> UK Longitudinal Linkage Collaboration (UK LLC).  <a href=\"https://doi.org/10.83126/ukllc-dataset-00169-01\" rel=\"noopener noreferrer\" target=\"_blank\">https://doi.org/10.83126/ukllc-dataset-00169-01</a></td>\n",
       "    </tr>\n",
       "    <tr>\n",
       "      <td id=\"T_f0036_row2_col0\" class=\"data row2 col0\" >Download Citation</td>\n",
       "      <td id=\"T_f0036_row2_col1\" class=\"data row2 col1\" > <a href=\"https://api.test.datacite.org/application/vnd.citationstyles.csl+json/10.83126/ukllc-dataset-00169-01\" rel=\"noopener noreferrer\" target=\"_blank\">Citeproc JSON</a>&nbsp;&nbsp;&nbsp;&nbsp; <a href=\"https://api.test.datacite.org/application/x-bibtex/10.83126/ukllc-dataset-00169-01\" rel=\"noopener noreferrer\" target=\"_blank\">BibTeX</a>&nbsp;&nbsp;&nbsp;&nbsp; <a href=\"https://api.test.datacite.org/application/x-research-info-systems/10.83126/ukllc-dataset-00169-01\" rel=\"noopener noreferrer\" target=\"_blank\">RIS</a></td>\n",
       "    </tr>\n",
       "    <tr>\n",
       "      <td id=\"T_f0036_row3_col0\" class=\"data row3 col0\" >Series</td>\n",
       "      <td id=\"T_f0036_row3_col1\" class=\"data row3 col1\" > <a href=\"https://guidebook.ukllc.ac.uk/docs/lps/lps%20profiles/ELSA\">English Longitudinal Study of Ageing (ELSA)</a></td>\n",
       "    </tr>\n",
       "    <tr>\n",
       "      <td id=\"T_f0036_row4_col0\" class=\"data row4 col0\" >Owner</td>\n",
       "      <td id=\"T_f0036_row4_col1\" class=\"data row4 col1\" >UCL</td>\n",
       "    </tr>\n",
       "    <tr>\n",
       "      <td id=\"T_f0036_row5_col0\" class=\"data row5 col0\" >Temporal Coverage</td>\n",
       "      <td id=\"T_f0036_row5_col1\" class=\"data row5 col1\" >06/2018 - 07/2019</td>\n",
       "    </tr>\n",
       "    <tr>\n",
       "      <td id=\"T_f0036_row6_col0\" class=\"data row6 col0\" >Keywords</td>\n",
       "      <td id=\"T_f0036_row6_col1\" class=\"data row6 col1\" >care,caregiving,quality of care,cost of care.</td>\n",
       "    </tr>\n",
       "    <tr>\n",
       "      <td id=\"T_f0036_row7_col0\" class=\"data row7 col0\" >Participants Invited</td>\n",
       "      <td id=\"T_f0036_row7_col1\" class=\"data row7 col1\" >8736</td>\n",
       "    </tr>\n",
       "    <tr>\n",
       "      <td id=\"T_f0036_row8_col0\" class=\"data row8 col0\" >Participant Count</td>\n",
       "      <td id=\"T_f0036_row8_col1\" class=\"data row8 col1\" >8736</td>\n",
       "    </tr>\n",
       "    <tr>\n",
       "      <td id=\"T_f0036_row9_col0\" class=\"data row9 col0\" >Number of variables</td>\n",
       "      <td id=\"T_f0036_row9_col1\" class=\"data row9 col1\" >674</td>\n",
       "    </tr>\n",
       "    <tr>\n",
       "      <td id=\"T_f0036_row10_col0\" class=\"data row10 col0\" >Number of observations</td>\n",
       "      <td id=\"T_f0036_row10_col1\" class=\"data row10 col1\" >8736</td>\n",
       "    </tr>\n",
       "    <tr>\n",
       "      <td id=\"T_f0036_row11_col0\" class=\"data row11 col0\" >Specific Restrictions to Data Use</td>\n",
       "      <td id=\"T_f0036_row11_col1\" class=\"data row11 col1\" >None</td>\n",
       "    </tr>\n",
       "    <tr>\n",
       "      <td id=\"T_f0036_row12_col0\" class=\"data row12 col0\" >Build a Data Request</td>\n",
       "      <td id=\"T_f0036_row12_col1\" class=\"data row12 col1\" > <a href=\"https://explore.ukllc.ac.uk/\" rel=\"noopener noreferrer\" target=\"_blank\">https://explore.ukllc.ac.uk/</a></td>\n",
       "    </tr>\n",
       "  </tbody>\n",
       "</table>\n"
      ],
      "text/plain": [
       "<pandas.io.formats.style.Styler at 0x23423f082c0>"
      ]
     },
     "execution_count": 3,
     "metadata": {},
     "output_type": "execute_result"
    }
   ],
   "source": [
    "ds.info_table()"
   ]
  },
  {
   "cell_type": "markdown",
   "id": "e17ece2f",
   "metadata": {},
   "source": [
    "## 2. Version History"
   ]
  },
  {
   "cell_type": "code",
   "execution_count": 4,
   "id": "c33464ed",
   "metadata": {
    "execution": {
     "iopub.execute_input": "2025-07-17T15:13:34.010640Z",
     "iopub.status.busy": "2025-07-17T15:13:34.010640Z",
     "iopub.status.idle": "2025-07-17T15:13:36.415351Z",
     "shell.execute_reply": "2025-07-17T15:13:36.415351Z"
    },
    "tags": [
     "remove-input"
    ]
   },
   "outputs": [
    {
     "data": {
      "text/html": [
       "<style type=\"text/css\">\n",
       "#T_c13ef th {\n",
       "  text-align: left;\n",
       "}\n",
       "#T_c13ef_row0_col0, #T_c13ef_row0_col1, #T_c13ef_row1_col0, #T_c13ef_row1_col1, #T_c13ef_row2_col0, #T_c13ef_row2_col1, #T_c13ef_row3_col0, #T_c13ef_row3_col1, #T_c13ef_row4_col0, #T_c13ef_row4_col1 {\n",
       "  text-align: left;\n",
       "}\n",
       "</style>\n",
       "<table id=\"T_c13ef\" style=\"font-size: 14px\">\n",
       "  <thead>\n",
       "    <tr>\n",
       "      <th id=\"T_c13ef_level0_col0\" class=\"col_heading level0 col0\" >Version</th>\n",
       "      <th id=\"T_c13ef_level0_col1\" class=\"col_heading level0 col1\" >1</th>\n",
       "    </tr>\n",
       "  </thead>\n",
       "  <tbody>\n",
       "    <tr>\n",
       "      <td id=\"T_c13ef_row0_col0\" class=\"data row0 col0\" >Version Date</td>\n",
       "      <td id=\"T_c13ef_row0_col1\" class=\"data row0 col1\" >01 Nov 2021</td>\n",
       "    </tr>\n",
       "    <tr>\n",
       "      <td id=\"T_c13ef_row1_col0\" class=\"data row1 col0\" >Number of Variables</td>\n",
       "      <td id=\"T_c13ef_row1_col1\" class=\"data row1 col1\" >674</td>\n",
       "    </tr>\n",
       "    <tr>\n",
       "      <td id=\"T_c13ef_row2_col0\" class=\"data row2 col0\" >Number of Observations</td>\n",
       "      <td id=\"T_c13ef_row2_col1\" class=\"data row2 col1\" >8736</td>\n",
       "    </tr>\n",
       "    <tr>\n",
       "      <td id=\"T_c13ef_row3_col0\" class=\"data row3 col0\" >DOI</td>\n",
       "      <td id=\"T_c13ef_row3_col1\" class=\"data row3 col1\" > <a href=\"https://doi.org/10.83126/ukllc-dataset-00169-01\" rel=\"noopener noreferrer\" target=\"_blank\">10.83126/ukllc-dataset-00169-01</a></td>\n",
       "    </tr>\n",
       "    <tr>\n",
       "      <td id=\"T_c13ef_row4_col0\" class=\"data row4 col0\" >Change Log</td>\n",
       "      <td id=\"T_c13ef_row4_col1\" class=\"data row4 col1\" > <a href=\"https://api.test.datacite.org/dois/10.83126/ukllc-dataset-00169-01/activities\" rel=\"noopener noreferrer\" target=\"_blank\">10.83126/ukllc-dataset-00169-01/activities</a></td>\n",
       "    </tr>\n",
       "  </tbody>\n",
       "</table>\n"
      ],
      "text/plain": [
       "<pandas.io.formats.style.Styler at 0x23425dcfa40>"
      ]
     },
     "execution_count": 4,
     "metadata": {},
     "output_type": "execute_result"
    }
   ],
   "source": [
    "ds.version_history()"
   ]
  },
  {
   "cell_type": "markdown",
   "id": "f10c9f30",
   "metadata": {},
   "source": [
    "## 3. Documentation"
   ]
  },
  {
   "cell_type": "code",
   "execution_count": 5,
   "id": "0036f007",
   "metadata": {
    "execution": {
     "iopub.execute_input": "2025-07-17T15:13:36.419514Z",
     "iopub.status.busy": "2025-07-17T15:13:36.419514Z",
     "iopub.status.idle": "2025-07-17T15:13:36.425635Z",
     "shell.execute_reply": "2025-07-17T15:13:36.424618Z"
    },
    "tags": [
     "remove-input"
    ]
   },
   "outputs": [
    {
     "data": {
      "text/markdown": [
       "We are currently building a documentation storage system which will host useful documents related to datasets and data owners. We will surface these documents on Guidebook."
      ],
      "text/plain": [
       "<IPython.core.display.Markdown object>"
      ]
     },
     "metadata": {},
     "output_type": "display_data"
    }
   ],
   "source": [
    "ds.documentation()"
   ]
  },
  {
   "cell_type": "markdown",
   "id": "b08ed24f",
   "metadata": {},
   "source": [
    "## 4. Useful Syntax"
   ]
  },
  {
   "cell_type": "code",
   "execution_count": 6,
   "id": "4c487828",
   "metadata": {
    "execution": {
     "iopub.execute_input": "2025-07-17T15:13:36.429637Z",
     "iopub.status.busy": "2025-07-17T15:13:36.429637Z",
     "iopub.status.idle": "2025-07-17T15:13:36.440170Z",
     "shell.execute_reply": "2025-07-17T15:13:36.439141Z"
    },
    "tags": [
     "remove-input"
    ]
   },
   "outputs": [
    {
     "data": {
      "text/markdown": [
       "Below we will include syntax that may be helpful to other researchers in the UK LLC TRE. For longer scripts, we will include a snippet of the code plus a link to Git where you can find the full scripts."
      ],
      "text/plain": [
       "<IPython.core.display.Markdown object>"
      ]
     },
     "metadata": {},
     "output_type": "display_data"
    }
   ],
   "source": [
    "ds.useful_syntax()"
   ]
  }
 ],
 "metadata": {
  "language_info": {
   "codemirror_mode": {
    "name": "ipython",
    "version": 3
   },
   "file_extension": ".py",
   "mimetype": "text/x-python",
   "name": "python",
   "nbconvert_exporter": "python",
   "pygments_lexer": "ipython3",
   "version": "3.12.7"
  }
 },
 "nbformat": 4,
 "nbformat_minor": 5
}
