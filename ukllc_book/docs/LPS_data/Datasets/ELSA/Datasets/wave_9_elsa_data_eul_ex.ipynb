{
 "cells": [
  {
   "cell_type": "markdown",
   "id": "ef2ba53e",
   "metadata": {},
   "source": [
    "# ELSA Wave 9 work and pensions dataset (ELSA)"
   ]
  },
  {
   "cell_type": "code",
   "execution_count": 1,
   "id": "4789921f",
   "metadata": {
    "execution": {
     "iopub.execute_input": "2025-07-17T15:14:34.947216Z",
     "iopub.status.busy": "2025-07-17T15:14:34.946232Z",
     "iopub.status.idle": "2025-07-17T15:14:42.959239Z",
     "shell.execute_reply": "2025-07-17T15:14:42.958227Z"
    },
    "tags": [
     "remove-input"
    ]
   },
   "outputs": [
    {
     "data": {
      "text/markdown": [
       ">Last modified: 17 Jul 2025"
      ],
      "text/plain": [
       "<IPython.core.display.Markdown object>"
      ]
     },
     "metadata": {},
     "output_type": "display_data"
    }
   ],
   "source": [
    "\n",
    "import sys\n",
    "import os\n",
    "sys.path.append(os.path.abspath('../../../../scripts/'))\n",
    "from data_doc_helper import LPSDataSet as DS, last_modified\n",
    "API_KEY = os.environ['FASTAPI_KEY']\n",
    "ds = DS(\"ELSA\", \"wave_9_elsa_data_eul_ex\")\n",
    "last_modified()\n"
   ]
  },
  {
   "cell_type": "markdown",
   "id": "f5b3efe4",
   "metadata": {},
   "source": [
    "## 1. Summary"
   ]
  },
  {
   "cell_type": "code",
   "execution_count": 2,
   "id": "d6726d99",
   "metadata": {
    "execution": {
     "iopub.execute_input": "2025-07-17T15:14:42.966695Z",
     "iopub.status.busy": "2025-07-17T15:14:42.965285Z",
     "iopub.status.idle": "2025-07-17T15:14:42.977119Z",
     "shell.execute_reply": "2025-07-17T15:14:42.975109Z"
    },
    "tags": [
     "remove-input"
    ]
   },
   "outputs": [
    {
     "data": {
      "text/markdown": [
       "Participants from the ELSA sample were invited to take part in a face-to-face interview in 2018-2019. Respondents took part in a interview on a number of topics but this block contains variables from the 'Pensions' module. This questionnaire module contains questions on the following topics: pension plan name, state pension deferral, current plan details, date of joining pension plan, current contributions, self-reported accrued pension wealth, past pension details (up to 3 past pensions). \r\n",
       "\r\n"
      ],
      "text/plain": [
       "<IPython.core.display.Markdown object>"
      ]
     },
     "metadata": {},
     "output_type": "display_data"
    }
   ],
   "source": [
    "ds.summary()"
   ]
  },
  {
   "cell_type": "code",
   "execution_count": 3,
   "id": "25cacb26",
   "metadata": {
    "execution": {
     "iopub.execute_input": "2025-07-17T15:14:42.983883Z",
     "iopub.status.busy": "2025-07-17T15:14:42.982866Z",
     "iopub.status.idle": "2025-07-17T15:14:43.974869Z",
     "shell.execute_reply": "2025-07-17T15:14:43.973673Z"
    },
    "tags": [
     "remove-input"
    ]
   },
   "outputs": [
    {
     "data": {
      "text/html": [
       "<style type=\"text/css\">\n",
       "#T_7ffde th {\n",
       "  text-align: left;\n",
       "}\n",
       "#T_7ffde_row0_col0, #T_7ffde_row0_col1, #T_7ffde_row1_col0, #T_7ffde_row1_col1, #T_7ffde_row2_col0, #T_7ffde_row2_col1, #T_7ffde_row3_col0, #T_7ffde_row3_col1, #T_7ffde_row4_col0, #T_7ffde_row4_col1, #T_7ffde_row5_col0, #T_7ffde_row5_col1, #T_7ffde_row6_col0, #T_7ffde_row6_col1, #T_7ffde_row7_col0, #T_7ffde_row7_col1, #T_7ffde_row8_col0, #T_7ffde_row8_col1, #T_7ffde_row9_col0, #T_7ffde_row9_col1, #T_7ffde_row10_col0, #T_7ffde_row10_col1, #T_7ffde_row11_col0, #T_7ffde_row11_col1, #T_7ffde_row12_col0, #T_7ffde_row12_col1 {\n",
       "  text-align: left;\n",
       "}\n",
       "</style>\n",
       "<table id=\"T_7ffde\" style=\"font-size: 14px\">\n",
       "  <thead>\n",
       "    <tr>\n",
       "      <th id=\"T_7ffde_level0_col0\" class=\"col_heading level0 col0\" >Dataset Descriptor</th>\n",
       "      <th id=\"T_7ffde_level0_col1\" class=\"col_heading level0 col1\" >Dataset-specific Information</th>\n",
       "    </tr>\n",
       "  </thead>\n",
       "  <tbody>\n",
       "    <tr>\n",
       "      <td id=\"T_7ffde_row0_col0\" class=\"data row0 col0\" >Name of Dataset in TRE</td>\n",
       "      <td id=\"T_7ffde_row0_col1\" class=\"data row0 col1\" >ELSA_wave_9_elsa_data_eul_ex</td>\n",
       "    </tr>\n",
       "    <tr>\n",
       "      <td id=\"T_7ffde_row1_col0\" class=\"data row1 col0\" >Citation (APA)</td>\n",
       "      <td id=\"T_7ffde_row1_col1\" class=\"data row1 col1\" >University College London, National Centre for Social Research, The Institute for Fiscal Studies, The University of East Anglia, and The University of Manchester. (2021). <i>English Longitudinal Study of Ageing (ELSA): ELSA Wave 9 work and pensions dataset.</i> UK Longitudinal Linkage Collaboration (UK LLC).  <a href=\"https://doi.org/10.83126/ukllc-dataset-00173-01\" rel=\"noopener noreferrer\" target=\"_blank\">https://doi.org/10.83126/ukllc-dataset-00173-01</a></td>\n",
       "    </tr>\n",
       "    <tr>\n",
       "      <td id=\"T_7ffde_row2_col0\" class=\"data row2 col0\" >Download Citation</td>\n",
       "      <td id=\"T_7ffde_row2_col1\" class=\"data row2 col1\" > <a href=\"https://api.test.datacite.org/application/vnd.citationstyles.csl+json/10.83126/ukllc-dataset-00173-01\" rel=\"noopener noreferrer\" target=\"_blank\">Citeproc JSON</a>&nbsp;&nbsp;&nbsp;&nbsp; <a href=\"https://api.test.datacite.org/application/x-bibtex/10.83126/ukllc-dataset-00173-01\" rel=\"noopener noreferrer\" target=\"_blank\">BibTeX</a>&nbsp;&nbsp;&nbsp;&nbsp; <a href=\"https://api.test.datacite.org/application/x-research-info-systems/10.83126/ukllc-dataset-00173-01\" rel=\"noopener noreferrer\" target=\"_blank\">RIS</a></td>\n",
       "    </tr>\n",
       "    <tr>\n",
       "      <td id=\"T_7ffde_row3_col0\" class=\"data row3 col0\" >Series</td>\n",
       "      <td id=\"T_7ffde_row3_col1\" class=\"data row3 col1\" > <a href=\"https://guidebook.ukllc.ac.uk/docs/lps/lps%20profiles/ELSA\">English Longitudinal Study of Ageing (ELSA)</a></td>\n",
       "    </tr>\n",
       "    <tr>\n",
       "      <td id=\"T_7ffde_row4_col0\" class=\"data row4 col0\" >Owner</td>\n",
       "      <td id=\"T_7ffde_row4_col1\" class=\"data row4 col1\" >UCL</td>\n",
       "    </tr>\n",
       "    <tr>\n",
       "      <td id=\"T_7ffde_row5_col0\" class=\"data row5 col0\" >Temporal Coverage</td>\n",
       "      <td id=\"T_7ffde_row5_col1\" class=\"data row5 col1\" >06/2018 - 07/2019</td>\n",
       "    </tr>\n",
       "    <tr>\n",
       "      <td id=\"T_7ffde_row6_col0\" class=\"data row6 col0\" >Keywords</td>\n",
       "      <td id=\"T_7ffde_row6_col1\" class=\"data row6 col1\" >expectations,likelihood of events,self-rated scenarios.</td>\n",
       "    </tr>\n",
       "    <tr>\n",
       "      <td id=\"T_7ffde_row7_col0\" class=\"data row7 col0\" >Participants Invited</td>\n",
       "      <td id=\"T_7ffde_row7_col1\" class=\"data row7 col1\" >8736</td>\n",
       "    </tr>\n",
       "    <tr>\n",
       "      <td id=\"T_7ffde_row8_col0\" class=\"data row8 col0\" >Participant Count</td>\n",
       "      <td id=\"T_7ffde_row8_col1\" class=\"data row8 col1\" >8736</td>\n",
       "    </tr>\n",
       "    <tr>\n",
       "      <td id=\"T_7ffde_row9_col0\" class=\"data row9 col0\" >Number of variables</td>\n",
       "      <td id=\"T_7ffde_row9_col1\" class=\"data row9 col1\" >77</td>\n",
       "    </tr>\n",
       "    <tr>\n",
       "      <td id=\"T_7ffde_row10_col0\" class=\"data row10 col0\" >Number of observations</td>\n",
       "      <td id=\"T_7ffde_row10_col1\" class=\"data row10 col1\" >8736</td>\n",
       "    </tr>\n",
       "    <tr>\n",
       "      <td id=\"T_7ffde_row11_col0\" class=\"data row11 col0\" >Specific Restrictions to Data Use</td>\n",
       "      <td id=\"T_7ffde_row11_col1\" class=\"data row11 col1\" >None</td>\n",
       "    </tr>\n",
       "    <tr>\n",
       "      <td id=\"T_7ffde_row12_col0\" class=\"data row12 col0\" >Build a Data Request</td>\n",
       "      <td id=\"T_7ffde_row12_col1\" class=\"data row12 col1\" > <a href=\"https://explore.ukllc.ac.uk/\" rel=\"noopener noreferrer\" target=\"_blank\">https://explore.ukllc.ac.uk/</a></td>\n",
       "    </tr>\n",
       "  </tbody>\n",
       "</table>\n"
      ],
      "text/plain": [
       "<pandas.io.formats.style.Styler at 0x200d41123f0>"
      ]
     },
     "execution_count": 3,
     "metadata": {},
     "output_type": "execute_result"
    }
   ],
   "source": [
    "ds.info_table()"
   ]
  },
  {
   "cell_type": "markdown",
   "id": "77dbe6f1",
   "metadata": {},
   "source": [
    "## 2. Version History"
   ]
  },
  {
   "cell_type": "code",
   "execution_count": 4,
   "id": "cd5487c8",
   "metadata": {
    "execution": {
     "iopub.execute_input": "2025-07-17T15:14:43.978061Z",
     "iopub.status.busy": "2025-07-17T15:14:43.976877Z",
     "iopub.status.idle": "2025-07-17T15:14:47.086134Z",
     "shell.execute_reply": "2025-07-17T15:14:47.084920Z"
    },
    "tags": [
     "remove-input"
    ]
   },
   "outputs": [
    {
     "data": {
      "text/html": [
       "<style type=\"text/css\">\n",
       "#T_1be02 th {\n",
       "  text-align: left;\n",
       "}\n",
       "#T_1be02_row0_col0, #T_1be02_row0_col1, #T_1be02_row1_col0, #T_1be02_row1_col1, #T_1be02_row2_col0, #T_1be02_row2_col1, #T_1be02_row3_col0, #T_1be02_row3_col1, #T_1be02_row4_col0, #T_1be02_row4_col1 {\n",
       "  text-align: left;\n",
       "}\n",
       "</style>\n",
       "<table id=\"T_1be02\" style=\"font-size: 14px\">\n",
       "  <thead>\n",
       "    <tr>\n",
       "      <th id=\"T_1be02_level0_col0\" class=\"col_heading level0 col0\" >Version</th>\n",
       "      <th id=\"T_1be02_level0_col1\" class=\"col_heading level0 col1\" >1</th>\n",
       "    </tr>\n",
       "  </thead>\n",
       "  <tbody>\n",
       "    <tr>\n",
       "      <td id=\"T_1be02_row0_col0\" class=\"data row0 col0\" >Version Date</td>\n",
       "      <td id=\"T_1be02_row0_col1\" class=\"data row0 col1\" >01 Nov 2021</td>\n",
       "    </tr>\n",
       "    <tr>\n",
       "      <td id=\"T_1be02_row1_col0\" class=\"data row1 col0\" >Number of Variables</td>\n",
       "      <td id=\"T_1be02_row1_col1\" class=\"data row1 col1\" >77</td>\n",
       "    </tr>\n",
       "    <tr>\n",
       "      <td id=\"T_1be02_row2_col0\" class=\"data row2 col0\" >Number of Observations</td>\n",
       "      <td id=\"T_1be02_row2_col1\" class=\"data row2 col1\" >8736</td>\n",
       "    </tr>\n",
       "    <tr>\n",
       "      <td id=\"T_1be02_row3_col0\" class=\"data row3 col0\" >DOI</td>\n",
       "      <td id=\"T_1be02_row3_col1\" class=\"data row3 col1\" > <a href=\"https://doi.org/10.83126/ukllc-dataset-00173-01\" rel=\"noopener noreferrer\" target=\"_blank\">10.83126/ukllc-dataset-00173-01</a></td>\n",
       "    </tr>\n",
       "    <tr>\n",
       "      <td id=\"T_1be02_row4_col0\" class=\"data row4 col0\" >Change Log</td>\n",
       "      <td id=\"T_1be02_row4_col1\" class=\"data row4 col1\" > <a href=\"https://api.test.datacite.org/dois/10.83126/ukllc-dataset-00173-01/activities\" rel=\"noopener noreferrer\" target=\"_blank\">10.83126/ukllc-dataset-00173-01/activities</a></td>\n",
       "    </tr>\n",
       "  </tbody>\n",
       "</table>\n"
      ],
      "text/plain": [
       "<pandas.io.formats.style.Styler at 0x200d5e8c2c0>"
      ]
     },
     "execution_count": 4,
     "metadata": {},
     "output_type": "execute_result"
    }
   ],
   "source": [
    "ds.version_history()"
   ]
  },
  {
   "cell_type": "markdown",
   "id": "fb3a2b24",
   "metadata": {},
   "source": [
    "## 3. Documentation"
   ]
  },
  {
   "cell_type": "code",
   "execution_count": 5,
   "id": "73109b7d",
   "metadata": {
    "execution": {
     "iopub.execute_input": "2025-07-17T15:14:47.094430Z",
     "iopub.status.busy": "2025-07-17T15:14:47.093282Z",
     "iopub.status.idle": "2025-07-17T15:14:47.102958Z",
     "shell.execute_reply": "2025-07-17T15:14:47.101694Z"
    },
    "tags": [
     "remove-input"
    ]
   },
   "outputs": [
    {
     "data": {
      "text/markdown": [
       "We are currently building a documentation storage system which will host useful documents related to datasets and data owners. We will surface these documents on Guidebook."
      ],
      "text/plain": [
       "<IPython.core.display.Markdown object>"
      ]
     },
     "metadata": {},
     "output_type": "display_data"
    }
   ],
   "source": [
    "ds.documentation()"
   ]
  },
  {
   "cell_type": "markdown",
   "id": "da175ef0",
   "metadata": {},
   "source": [
    "## 4. Useful Syntax"
   ]
  },
  {
   "cell_type": "code",
   "execution_count": 6,
   "id": "e6797f19",
   "metadata": {
    "execution": {
     "iopub.execute_input": "2025-07-17T15:14:47.109512Z",
     "iopub.status.busy": "2025-07-17T15:14:47.109512Z",
     "iopub.status.idle": "2025-07-17T15:14:47.116605Z",
     "shell.execute_reply": "2025-07-17T15:14:47.115533Z"
    },
    "tags": [
     "remove-input"
    ]
   },
   "outputs": [
    {
     "data": {
      "text/markdown": [
       "Below we will include syntax that may be helpful to other researchers in the UK LLC TRE. For longer scripts, we will include a snippet of the code plus a link to Git where you can find the full scripts."
      ],
      "text/plain": [
       "<IPython.core.display.Markdown object>"
      ]
     },
     "metadata": {},
     "output_type": "display_data"
    }
   ],
   "source": [
    "ds.useful_syntax()"
   ]
  }
 ],
 "metadata": {
  "language_info": {
   "codemirror_mode": {
    "name": "ipython",
    "version": 3
   },
   "file_extension": ".py",
   "mimetype": "text/x-python",
   "name": "python",
   "nbconvert_exporter": "python",
   "pygments_lexer": "ipython3",
   "version": "3.12.7"
  }
 },
 "nbformat": 4,
 "nbformat_minor": 5
}
