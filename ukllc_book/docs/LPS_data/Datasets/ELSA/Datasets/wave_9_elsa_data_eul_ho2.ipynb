{
 "cells": [
  {
   "cell_type": "markdown",
   "id": "556cd765",
   "metadata": {},
   "source": [
    "# ELSA Wave 9 Data (EUL) Housing 2 (ELSA)"
   ]
  },
  {
   "cell_type": "code",
   "execution_count": 1,
   "id": "9b13090c",
   "metadata": {
    "execution": {
     "iopub.execute_input": "2025-07-17T15:15:39.076691Z",
     "iopub.status.busy": "2025-07-17T15:15:39.076691Z",
     "iopub.status.idle": "2025-07-17T15:15:47.150636Z",
     "shell.execute_reply": "2025-07-17T15:15:47.148537Z"
    },
    "tags": [
     "remove-input"
    ]
   },
   "outputs": [
    {
     "data": {
      "text/markdown": [
       ">Last modified: 17 Jul 2025"
      ],
      "text/plain": [
       "<IPython.core.display.Markdown object>"
      ]
     },
     "metadata": {},
     "output_type": "display_data"
    }
   ],
   "source": [
    "\n",
    "import sys\n",
    "import os\n",
    "sys.path.append(os.path.abspath('../../../../scripts/'))\n",
    "from data_doc_helper import LPSDataSet as DS, last_modified\n",
    "API_KEY = os.environ['FASTAPI_KEY']\n",
    "ds = DS(\"ELSA\", \"wave_9_elsa_data_eul_ho2\")\n",
    "last_modified()\n"
   ]
  },
  {
   "cell_type": "markdown",
   "id": "4ca7f81a",
   "metadata": {},
   "source": [
    "## 1. Summary"
   ]
  },
  {
   "cell_type": "code",
   "execution_count": 2,
   "id": "731ddbee",
   "metadata": {
    "execution": {
     "iopub.execute_input": "2025-07-17T15:15:47.159484Z",
     "iopub.status.busy": "2025-07-17T15:15:47.158485Z",
     "iopub.status.idle": "2025-07-17T15:15:47.169761Z",
     "shell.execute_reply": "2025-07-17T15:15:47.168746Z"
    },
    "tags": [
     "remove-input"
    ]
   },
   "outputs": [
    {
     "data": {
      "text/markdown": [
       "Participants from the ELSA sample were invited to take part in a face-to-face interview in 2018-2019. Respondents took part in a interview on a nmber of topics but this block contains only variables from the ho (housing) module"
      ],
      "text/plain": [
       "<IPython.core.display.Markdown object>"
      ]
     },
     "metadata": {},
     "output_type": "display_data"
    }
   ],
   "source": [
    "ds.summary()"
   ]
  },
  {
   "cell_type": "code",
   "execution_count": 3,
   "id": "fc30b72c",
   "metadata": {
    "execution": {
     "iopub.execute_input": "2025-07-17T15:15:47.174880Z",
     "iopub.status.busy": "2025-07-17T15:15:47.174880Z",
     "iopub.status.idle": "2025-07-17T15:15:48.607689Z",
     "shell.execute_reply": "2025-07-17T15:15:48.607689Z"
    },
    "tags": [
     "remove-input"
    ]
   },
   "outputs": [
    {
     "data": {
      "text/html": [
       "<style type=\"text/css\">\n",
       "#T_ae4dc th {\n",
       "  text-align: left;\n",
       "}\n",
       "#T_ae4dc_row0_col0, #T_ae4dc_row0_col1, #T_ae4dc_row1_col0, #T_ae4dc_row1_col1, #T_ae4dc_row2_col0, #T_ae4dc_row2_col1, #T_ae4dc_row3_col0, #T_ae4dc_row3_col1, #T_ae4dc_row4_col0, #T_ae4dc_row4_col1, #T_ae4dc_row5_col0, #T_ae4dc_row5_col1, #T_ae4dc_row6_col0, #T_ae4dc_row6_col1, #T_ae4dc_row7_col0, #T_ae4dc_row7_col1, #T_ae4dc_row8_col0, #T_ae4dc_row8_col1, #T_ae4dc_row9_col0, #T_ae4dc_row9_col1, #T_ae4dc_row10_col0, #T_ae4dc_row10_col1, #T_ae4dc_row11_col0, #T_ae4dc_row11_col1, #T_ae4dc_row12_col0, #T_ae4dc_row12_col1 {\n",
       "  text-align: left;\n",
       "}\n",
       "</style>\n",
       "<table id=\"T_ae4dc\" style=\"font-size: 14px\">\n",
       "  <thead>\n",
       "    <tr>\n",
       "      <th id=\"T_ae4dc_level0_col0\" class=\"col_heading level0 col0\" >Dataset Descriptor</th>\n",
       "      <th id=\"T_ae4dc_level0_col1\" class=\"col_heading level0 col1\" >Dataset-specific Information</th>\n",
       "    </tr>\n",
       "  </thead>\n",
       "  <tbody>\n",
       "    <tr>\n",
       "      <td id=\"T_ae4dc_row0_col0\" class=\"data row0 col0\" >Name of Dataset in TRE</td>\n",
       "      <td id=\"T_ae4dc_row0_col1\" class=\"data row0 col1\" >ELSA_wave_9_elsa_data_eul_ho2</td>\n",
       "    </tr>\n",
       "    <tr>\n",
       "      <td id=\"T_ae4dc_row1_col0\" class=\"data row1 col0\" >Citation (APA)</td>\n",
       "      <td id=\"T_ae4dc_row1_col1\" class=\"data row1 col1\" >University College London, National Centre for Social Research, The Institute for Fiscal Studies, The University of East Anglia, and The University of Manchester. (2021). <i>English Longitudinal Study of Ageing (ELSA): ELSA Wave 9 Data (EUL) Housing 2.</i> UK Longitudinal Linkage Collaboration (UK LLC).  <a href=\"https://doi.org/10.83126/ukllc-dataset-00177-01\" rel=\"noopener noreferrer\" target=\"_blank\">https://doi.org/10.83126/ukllc-dataset-00177-01</a></td>\n",
       "    </tr>\n",
       "    <tr>\n",
       "      <td id=\"T_ae4dc_row2_col0\" class=\"data row2 col0\" >Download Citation</td>\n",
       "      <td id=\"T_ae4dc_row2_col1\" class=\"data row2 col1\" > <a href=\"https://api.test.datacite.org/application/vnd.citationstyles.csl+json/10.83126/ukllc-dataset-00177-01\" rel=\"noopener noreferrer\" target=\"_blank\">Citeproc JSON</a>&nbsp;&nbsp;&nbsp;&nbsp; <a href=\"https://api.test.datacite.org/application/x-bibtex/10.83126/ukllc-dataset-00177-01\" rel=\"noopener noreferrer\" target=\"_blank\">BibTeX</a>&nbsp;&nbsp;&nbsp;&nbsp; <a href=\"https://api.test.datacite.org/application/x-research-info-systems/10.83126/ukllc-dataset-00177-01\" rel=\"noopener noreferrer\" target=\"_blank\">RIS</a></td>\n",
       "    </tr>\n",
       "    <tr>\n",
       "      <td id=\"T_ae4dc_row3_col0\" class=\"data row3 col0\" >Series</td>\n",
       "      <td id=\"T_ae4dc_row3_col1\" class=\"data row3 col1\" > <a href=\"https://guidebook.ukllc.ac.uk/docs/lps/lps%20profiles/ELSA\">English Longitudinal Study of Ageing (ELSA)</a></td>\n",
       "    </tr>\n",
       "    <tr>\n",
       "      <td id=\"T_ae4dc_row4_col0\" class=\"data row4 col0\" >Owner</td>\n",
       "      <td id=\"T_ae4dc_row4_col1\" class=\"data row4 col1\" >UCL</td>\n",
       "    </tr>\n",
       "    <tr>\n",
       "      <td id=\"T_ae4dc_row5_col0\" class=\"data row5 col0\" >Temporal Coverage</td>\n",
       "      <td id=\"T_ae4dc_row5_col1\" class=\"data row5 col1\" >06/2018 - 07/2019</td>\n",
       "    </tr>\n",
       "    <tr>\n",
       "      <td id=\"T_ae4dc_row6_col0\" class=\"data row6 col0\" >Keywords</td>\n",
       "      <td id=\"T_ae4dc_row6_col1\" class=\"data row6 col1\" >housing conditions,household contents,cost of living,vehicle ownership,durable ownership,food expenditures,fuel expenditures,quality of accomodation,tenure.</td>\n",
       "    </tr>\n",
       "    <tr>\n",
       "      <td id=\"T_ae4dc_row7_col0\" class=\"data row7 col0\" >Participants Invited</td>\n",
       "      <td id=\"T_ae4dc_row7_col1\" class=\"data row7 col1\" >8736</td>\n",
       "    </tr>\n",
       "    <tr>\n",
       "      <td id=\"T_ae4dc_row8_col0\" class=\"data row8 col0\" >Participant Count</td>\n",
       "      <td id=\"T_ae4dc_row8_col1\" class=\"data row8 col1\" >8736</td>\n",
       "    </tr>\n",
       "    <tr>\n",
       "      <td id=\"T_ae4dc_row9_col0\" class=\"data row9 col0\" >Number of variables</td>\n",
       "      <td id=\"T_ae4dc_row9_col1\" class=\"data row9 col1\" >814</td>\n",
       "    </tr>\n",
       "    <tr>\n",
       "      <td id=\"T_ae4dc_row10_col0\" class=\"data row10 col0\" >Number of observations</td>\n",
       "      <td id=\"T_ae4dc_row10_col1\" class=\"data row10 col1\" >8736</td>\n",
       "    </tr>\n",
       "    <tr>\n",
       "      <td id=\"T_ae4dc_row11_col0\" class=\"data row11 col0\" >Specific Restrictions to Data Use</td>\n",
       "      <td id=\"T_ae4dc_row11_col1\" class=\"data row11 col1\" >None</td>\n",
       "    </tr>\n",
       "    <tr>\n",
       "      <td id=\"T_ae4dc_row12_col0\" class=\"data row12 col0\" >Build a Data Request</td>\n",
       "      <td id=\"T_ae4dc_row12_col1\" class=\"data row12 col1\" > <a href=\"https://explore.ukllc.ac.uk/\" rel=\"noopener noreferrer\" target=\"_blank\">https://explore.ukllc.ac.uk/</a></td>\n",
       "    </tr>\n",
       "  </tbody>\n",
       "</table>\n"
      ],
      "text/plain": [
       "<pandas.io.formats.style.Styler at 0x1e2bf08fd40>"
      ]
     },
     "execution_count": 3,
     "metadata": {},
     "output_type": "execute_result"
    }
   ],
   "source": [
    "ds.info_table()"
   ]
  },
  {
   "cell_type": "markdown",
   "id": "7906a0ff",
   "metadata": {},
   "source": [
    "## 2. Version History"
   ]
  },
  {
   "cell_type": "code",
   "execution_count": 4,
   "id": "66982121",
   "metadata": {
    "execution": {
     "iopub.execute_input": "2025-07-17T15:15:48.612896Z",
     "iopub.status.busy": "2025-07-17T15:15:48.612896Z",
     "iopub.status.idle": "2025-07-17T15:15:51.791005Z",
     "shell.execute_reply": "2025-07-17T15:15:51.789709Z"
    },
    "tags": [
     "remove-input"
    ]
   },
   "outputs": [
    {
     "data": {
      "text/html": [
       "<style type=\"text/css\">\n",
       "#T_214af th {\n",
       "  text-align: left;\n",
       "}\n",
       "#T_214af_row0_col0, #T_214af_row0_col1, #T_214af_row1_col0, #T_214af_row1_col1, #T_214af_row2_col0, #T_214af_row2_col1, #T_214af_row3_col0, #T_214af_row3_col1, #T_214af_row4_col0, #T_214af_row4_col1 {\n",
       "  text-align: left;\n",
       "}\n",
       "</style>\n",
       "<table id=\"T_214af\" style=\"font-size: 14px\">\n",
       "  <thead>\n",
       "    <tr>\n",
       "      <th id=\"T_214af_level0_col0\" class=\"col_heading level0 col0\" >Version</th>\n",
       "      <th id=\"T_214af_level0_col1\" class=\"col_heading level0 col1\" >1</th>\n",
       "    </tr>\n",
       "  </thead>\n",
       "  <tbody>\n",
       "    <tr>\n",
       "      <td id=\"T_214af_row0_col0\" class=\"data row0 col0\" >Version Date</td>\n",
       "      <td id=\"T_214af_row0_col1\" class=\"data row0 col1\" >01 Nov 2021</td>\n",
       "    </tr>\n",
       "    <tr>\n",
       "      <td id=\"T_214af_row1_col0\" class=\"data row1 col0\" >Number of Variables</td>\n",
       "      <td id=\"T_214af_row1_col1\" class=\"data row1 col1\" >814</td>\n",
       "    </tr>\n",
       "    <tr>\n",
       "      <td id=\"T_214af_row2_col0\" class=\"data row2 col0\" >Number of Observations</td>\n",
       "      <td id=\"T_214af_row2_col1\" class=\"data row2 col1\" >8736</td>\n",
       "    </tr>\n",
       "    <tr>\n",
       "      <td id=\"T_214af_row3_col0\" class=\"data row3 col0\" >DOI</td>\n",
       "      <td id=\"T_214af_row3_col1\" class=\"data row3 col1\" > <a href=\"https://doi.org/10.83126/ukllc-dataset-00177-01\" rel=\"noopener noreferrer\" target=\"_blank\">10.83126/ukllc-dataset-00177-01</a></td>\n",
       "    </tr>\n",
       "    <tr>\n",
       "      <td id=\"T_214af_row4_col0\" class=\"data row4 col0\" >Change Log</td>\n",
       "      <td id=\"T_214af_row4_col1\" class=\"data row4 col1\" > <a href=\"https://api.test.datacite.org/dois/10.83126/ukllc-dataset-00177-01/activities\" rel=\"noopener noreferrer\" target=\"_blank\">10.83126/ukllc-dataset-00177-01/activities</a></td>\n",
       "    </tr>\n",
       "  </tbody>\n",
       "</table>\n"
      ],
      "text/plain": [
       "<pandas.io.formats.style.Styler at 0x1e2bbfd0500>"
      ]
     },
     "execution_count": 4,
     "metadata": {},
     "output_type": "execute_result"
    }
   ],
   "source": [
    "ds.version_history()"
   ]
  },
  {
   "cell_type": "markdown",
   "id": "b193e931",
   "metadata": {},
   "source": [
    "## 3. Documentation"
   ]
  },
  {
   "cell_type": "code",
   "execution_count": 5,
   "id": "0c66a7fd",
   "metadata": {
    "execution": {
     "iopub.execute_input": "2025-07-17T15:15:51.797278Z",
     "iopub.status.busy": "2025-07-17T15:15:51.797278Z",
     "iopub.status.idle": "2025-07-17T15:15:51.806292Z",
     "shell.execute_reply": "2025-07-17T15:15:51.805774Z"
    },
    "tags": [
     "remove-input"
    ]
   },
   "outputs": [
    {
     "data": {
      "text/markdown": [
       "We are currently building a documentation storage system which will host useful documents related to datasets and data owners. We will surface these documents on Guidebook."
      ],
      "text/plain": [
       "<IPython.core.display.Markdown object>"
      ]
     },
     "metadata": {},
     "output_type": "display_data"
    }
   ],
   "source": [
    "ds.documentation()"
   ]
  },
  {
   "cell_type": "markdown",
   "id": "a852d896",
   "metadata": {},
   "source": [
    "## 4. Useful Syntax"
   ]
  },
  {
   "cell_type": "code",
   "execution_count": 6,
   "id": "dd0a3671",
   "metadata": {
    "execution": {
     "iopub.execute_input": "2025-07-17T15:15:51.812711Z",
     "iopub.status.busy": "2025-07-17T15:15:51.811712Z",
     "iopub.status.idle": "2025-07-17T15:15:51.821583Z",
     "shell.execute_reply": "2025-07-17T15:15:51.819930Z"
    },
    "tags": [
     "remove-input"
    ]
   },
   "outputs": [
    {
     "data": {
      "text/markdown": [
       "Below we will include syntax that may be helpful to other researchers in the UK LLC TRE. For longer scripts, we will include a snippet of the code plus a link to Git where you can find the full scripts."
      ],
      "text/plain": [
       "<IPython.core.display.Markdown object>"
      ]
     },
     "metadata": {},
     "output_type": "display_data"
    }
   ],
   "source": [
    "ds.useful_syntax()"
   ]
  }
 ],
 "metadata": {
  "language_info": {
   "codemirror_mode": {
    "name": "ipython",
    "version": 3
   },
   "file_extension": ".py",
   "mimetype": "text/x-python",
   "name": "python",
   "nbconvert_exporter": "python",
   "pygments_lexer": "ipython3",
   "version": "3.12.7"
  }
 },
 "nbformat": 4,
 "nbformat_minor": 5
}
