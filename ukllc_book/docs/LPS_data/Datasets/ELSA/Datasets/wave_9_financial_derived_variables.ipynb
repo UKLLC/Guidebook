{
 "cells": [
  {
   "cell_type": "markdown",
   "id": "2e6b9ed2",
   "metadata": {},
   "source": [
    "# ELSA Wave 9 Financial Derived Variables (ELSA)"
   ]
  },
  {
   "cell_type": "code",
   "execution_count": 1,
   "id": "7454e3c3",
   "metadata": {
    "execution": {
     "iopub.execute_input": "2025-07-17T15:17:11.837797Z",
     "iopub.status.busy": "2025-07-17T15:17:11.836797Z",
     "iopub.status.idle": "2025-07-17T15:17:23.704455Z",
     "shell.execute_reply": "2025-07-17T15:17:23.701932Z"
    },
    "tags": [
     "remove-input"
    ]
   },
   "outputs": [
    {
     "data": {
      "text/markdown": [
       ">Last modified: 17 Jul 2025"
      ],
      "text/plain": [
       "<IPython.core.display.Markdown object>"
      ]
     },
     "metadata": {},
     "output_type": "display_data"
    }
   ],
   "source": [
    "\n",
    "import sys\n",
    "import os\n",
    "sys.path.append(os.path.abspath('../../../../scripts/'))\n",
    "from data_doc_helper import LPSDataSet as DS, last_modified\n",
    "API_KEY = os.environ['FASTAPI_KEY']\n",
    "ds = DS(\"ELSA\", \"wave_9_financial_derived_variables\")\n",
    "last_modified()\n"
   ]
  },
  {
   "cell_type": "markdown",
   "id": "abf41026",
   "metadata": {},
   "source": [
    "## 1. Summary"
   ]
  },
  {
   "cell_type": "code",
   "execution_count": 2,
   "id": "cd1fd67a",
   "metadata": {
    "execution": {
     "iopub.execute_input": "2025-07-17T15:17:23.710943Z",
     "iopub.status.busy": "2025-07-17T15:17:23.710943Z",
     "iopub.status.idle": "2025-07-17T15:17:23.720717Z",
     "shell.execute_reply": "2025-07-17T15:17:23.719455Z"
    },
    "tags": [
     "remove-input"
    ]
   },
   "outputs": [
    {
     "data": {
      "text/markdown": [
       "Participants from the ELSA sample were invited to take part in a face-to-face interview in 2018-2019. Respondents took part in a interview on a nmber of topics but this block contains financial  variables that are derived from the main ELSA survey"
      ],
      "text/plain": [
       "<IPython.core.display.Markdown object>"
      ]
     },
     "metadata": {},
     "output_type": "display_data"
    }
   ],
   "source": [
    "ds.summary()"
   ]
  },
  {
   "cell_type": "code",
   "execution_count": 3,
   "id": "2ab80086",
   "metadata": {
    "execution": {
     "iopub.execute_input": "2025-07-17T15:17:23.727761Z",
     "iopub.status.busy": "2025-07-17T15:17:23.727761Z",
     "iopub.status.idle": "2025-07-17T15:17:25.023177Z",
     "shell.execute_reply": "2025-07-17T15:17:25.022153Z"
    },
    "tags": [
     "remove-input"
    ]
   },
   "outputs": [
    {
     "data": {
      "text/html": [
       "<style type=\"text/css\">\n",
       "#T_492bd th {\n",
       "  text-align: left;\n",
       "}\n",
       "#T_492bd_row0_col0, #T_492bd_row0_col1, #T_492bd_row1_col0, #T_492bd_row1_col1, #T_492bd_row2_col0, #T_492bd_row2_col1, #T_492bd_row3_col0, #T_492bd_row3_col1, #T_492bd_row4_col0, #T_492bd_row4_col1, #T_492bd_row5_col0, #T_492bd_row5_col1, #T_492bd_row6_col0, #T_492bd_row6_col1, #T_492bd_row7_col0, #T_492bd_row7_col1, #T_492bd_row8_col0, #T_492bd_row8_col1, #T_492bd_row9_col0, #T_492bd_row9_col1, #T_492bd_row10_col0, #T_492bd_row10_col1, #T_492bd_row11_col0, #T_492bd_row11_col1, #T_492bd_row12_col0, #T_492bd_row12_col1 {\n",
       "  text-align: left;\n",
       "}\n",
       "</style>\n",
       "<table id=\"T_492bd\" style=\"font-size: 14px\">\n",
       "  <thead>\n",
       "    <tr>\n",
       "      <th id=\"T_492bd_level0_col0\" class=\"col_heading level0 col0\" >Dataset Descriptor</th>\n",
       "      <th id=\"T_492bd_level0_col1\" class=\"col_heading level0 col1\" >Dataset-specific Information</th>\n",
       "    </tr>\n",
       "  </thead>\n",
       "  <tbody>\n",
       "    <tr>\n",
       "      <td id=\"T_492bd_row0_col0\" class=\"data row0 col0\" >Name of Dataset in TRE</td>\n",
       "      <td id=\"T_492bd_row0_col1\" class=\"data row0 col1\" >ELSA_wave_9_financial_derived_variables</td>\n",
       "    </tr>\n",
       "    <tr>\n",
       "      <td id=\"T_492bd_row1_col0\" class=\"data row1 col0\" >Citation (APA)</td>\n",
       "      <td id=\"T_492bd_row1_col1\" class=\"data row1 col1\" >University College London, National Centre for Social Research, The Institute for Fiscal Studies, The University of East Anglia, and The University of Manchester. (2021). <i>English Longitudinal Study of Ageing (ELSA): ELSA Wave 9 Financial Derived Variables.</i> UK Longitudinal Linkage Collaboration (UK LLC).  <a href=\"https://doi.org/10.83126/ukllc-dataset-00183-01\" rel=\"noopener noreferrer\" target=\"_blank\">https://doi.org/10.83126/ukllc-dataset-00183-01</a></td>\n",
       "    </tr>\n",
       "    <tr>\n",
       "      <td id=\"T_492bd_row2_col0\" class=\"data row2 col0\" >Download Citation</td>\n",
       "      <td id=\"T_492bd_row2_col1\" class=\"data row2 col1\" > <a href=\"https://api.test.datacite.org/application/vnd.citationstyles.csl+json/10.83126/ukllc-dataset-00183-01\" rel=\"noopener noreferrer\" target=\"_blank\">Citeproc JSON</a>&nbsp;&nbsp;&nbsp;&nbsp; <a href=\"https://api.test.datacite.org/application/x-bibtex/10.83126/ukllc-dataset-00183-01\" rel=\"noopener noreferrer\" target=\"_blank\">BibTeX</a>&nbsp;&nbsp;&nbsp;&nbsp; <a href=\"https://api.test.datacite.org/application/x-research-info-systems/10.83126/ukllc-dataset-00183-01\" rel=\"noopener noreferrer\" target=\"_blank\">RIS</a></td>\n",
       "    </tr>\n",
       "    <tr>\n",
       "      <td id=\"T_492bd_row3_col0\" class=\"data row3 col0\" >Series</td>\n",
       "      <td id=\"T_492bd_row3_col1\" class=\"data row3 col1\" > <a href=\"https://guidebook.ukllc.ac.uk/docs/lps/lps%20profiles/ELSA\">English Longitudinal Study of Ageing (ELSA)</a></td>\n",
       "    </tr>\n",
       "    <tr>\n",
       "      <td id=\"T_492bd_row4_col0\" class=\"data row4 col0\" >Owner</td>\n",
       "      <td id=\"T_492bd_row4_col1\" class=\"data row4 col1\" >UCL</td>\n",
       "    </tr>\n",
       "    <tr>\n",
       "      <td id=\"T_492bd_row5_col0\" class=\"data row5 col0\" >Temporal Coverage</td>\n",
       "      <td id=\"T_492bd_row5_col1\" class=\"data row5 col1\" >06/2018 - 07/2019</td>\n",
       "    </tr>\n",
       "    <tr>\n",
       "      <td id=\"T_492bd_row6_col0\" class=\"data row6 col0\" >Keywords</td>\n",
       "      <td id=\"T_492bd_row6_col1\" class=\"data row6 col1\" >income,wealth,benefits,investments,savings,earnings</td>\n",
       "    </tr>\n",
       "    <tr>\n",
       "      <td id=\"T_492bd_row7_col0\" class=\"data row7 col0\" >Participants Invited</td>\n",
       "      <td id=\"T_492bd_row7_col1\" class=\"data row7 col1\" >8736</td>\n",
       "    </tr>\n",
       "    <tr>\n",
       "      <td id=\"T_492bd_row8_col0\" class=\"data row8 col0\" >Participant Count</td>\n",
       "      <td id=\"T_492bd_row8_col1\" class=\"data row8 col1\" >8736</td>\n",
       "    </tr>\n",
       "    <tr>\n",
       "      <td id=\"T_492bd_row9_col0\" class=\"data row9 col0\" >Number of variables</td>\n",
       "      <td id=\"T_492bd_row9_col1\" class=\"data row9 col1\" >673</td>\n",
       "    </tr>\n",
       "    <tr>\n",
       "      <td id=\"T_492bd_row10_col0\" class=\"data row10 col0\" >Number of observations</td>\n",
       "      <td id=\"T_492bd_row10_col1\" class=\"data row10 col1\" >8736</td>\n",
       "    </tr>\n",
       "    <tr>\n",
       "      <td id=\"T_492bd_row11_col0\" class=\"data row11 col0\" >Specific Restrictions to Data Use</td>\n",
       "      <td id=\"T_492bd_row11_col1\" class=\"data row11 col1\" >None</td>\n",
       "    </tr>\n",
       "    <tr>\n",
       "      <td id=\"T_492bd_row12_col0\" class=\"data row12 col0\" >Build a Data Request</td>\n",
       "      <td id=\"T_492bd_row12_col1\" class=\"data row12 col1\" > <a href=\"https://explore.ukllc.ac.uk/\" rel=\"noopener noreferrer\" target=\"_blank\">https://explore.ukllc.ac.uk/</a></td>\n",
       "    </tr>\n",
       "  </tbody>\n",
       "</table>\n"
      ],
      "text/plain": [
       "<pandas.io.formats.style.Styler at 0x1a1da7e3770>"
      ]
     },
     "execution_count": 3,
     "metadata": {},
     "output_type": "execute_result"
    }
   ],
   "source": [
    "ds.info_table()"
   ]
  },
  {
   "cell_type": "markdown",
   "id": "4a87a4ba",
   "metadata": {},
   "source": [
    "## 2. Version History"
   ]
  },
  {
   "cell_type": "code",
   "execution_count": 4,
   "id": "3416ac68",
   "metadata": {
    "execution": {
     "iopub.execute_input": "2025-07-17T15:17:25.027169Z",
     "iopub.status.busy": "2025-07-17T15:17:25.027169Z",
     "iopub.status.idle": "2025-07-17T15:17:28.581890Z",
     "shell.execute_reply": "2025-07-17T15:17:28.579875Z"
    },
    "tags": [
     "remove-input"
    ]
   },
   "outputs": [
    {
     "data": {
      "text/html": [
       "<style type=\"text/css\">\n",
       "#T_ab8ee th {\n",
       "  text-align: left;\n",
       "}\n",
       "#T_ab8ee_row0_col0, #T_ab8ee_row0_col1, #T_ab8ee_row1_col0, #T_ab8ee_row1_col1, #T_ab8ee_row2_col0, #T_ab8ee_row2_col1, #T_ab8ee_row3_col0, #T_ab8ee_row3_col1, #T_ab8ee_row4_col0, #T_ab8ee_row4_col1 {\n",
       "  text-align: left;\n",
       "}\n",
       "</style>\n",
       "<table id=\"T_ab8ee\" style=\"font-size: 14px\">\n",
       "  <thead>\n",
       "    <tr>\n",
       "      <th id=\"T_ab8ee_level0_col0\" class=\"col_heading level0 col0\" >Version</th>\n",
       "      <th id=\"T_ab8ee_level0_col1\" class=\"col_heading level0 col1\" >1</th>\n",
       "    </tr>\n",
       "  </thead>\n",
       "  <tbody>\n",
       "    <tr>\n",
       "      <td id=\"T_ab8ee_row0_col0\" class=\"data row0 col0\" >Version Date</td>\n",
       "      <td id=\"T_ab8ee_row0_col1\" class=\"data row0 col1\" >01 Nov 2021</td>\n",
       "    </tr>\n",
       "    <tr>\n",
       "      <td id=\"T_ab8ee_row1_col0\" class=\"data row1 col0\" >Number of Variables</td>\n",
       "      <td id=\"T_ab8ee_row1_col1\" class=\"data row1 col1\" >673</td>\n",
       "    </tr>\n",
       "    <tr>\n",
       "      <td id=\"T_ab8ee_row2_col0\" class=\"data row2 col0\" >Number of Observations</td>\n",
       "      <td id=\"T_ab8ee_row2_col1\" class=\"data row2 col1\" >8736</td>\n",
       "    </tr>\n",
       "    <tr>\n",
       "      <td id=\"T_ab8ee_row3_col0\" class=\"data row3 col0\" >DOI</td>\n",
       "      <td id=\"T_ab8ee_row3_col1\" class=\"data row3 col1\" > <a href=\"https://doi.org/10.83126/ukllc-dataset-00183-01\" rel=\"noopener noreferrer\" target=\"_blank\">10.83126/ukllc-dataset-00183-01</a></td>\n",
       "    </tr>\n",
       "    <tr>\n",
       "      <td id=\"T_ab8ee_row4_col0\" class=\"data row4 col0\" >Change Log</td>\n",
       "      <td id=\"T_ab8ee_row4_col1\" class=\"data row4 col1\" > <a href=\"https://api.test.datacite.org/dois/10.83126/ukllc-dataset-00183-01/activities\" rel=\"noopener noreferrer\" target=\"_blank\">10.83126/ukllc-dataset-00183-01/activities</a></td>\n",
       "    </tr>\n",
       "  </tbody>\n",
       "</table>\n"
      ],
      "text/plain": [
       "<pandas.io.formats.style.Styler at 0x1a1dc35da00>"
      ]
     },
     "execution_count": 4,
     "metadata": {},
     "output_type": "execute_result"
    }
   ],
   "source": [
    "ds.version_history()"
   ]
  },
  {
   "cell_type": "markdown",
   "id": "7879493f",
   "metadata": {},
   "source": [
    "## 3. Documentation"
   ]
  },
  {
   "cell_type": "code",
   "execution_count": 5,
   "id": "da48cb60",
   "metadata": {
    "execution": {
     "iopub.execute_input": "2025-07-17T15:17:28.589719Z",
     "iopub.status.busy": "2025-07-17T15:17:28.588781Z",
     "iopub.status.idle": "2025-07-17T15:17:28.598484Z",
     "shell.execute_reply": "2025-07-17T15:17:28.596958Z"
    },
    "tags": [
     "remove-input"
    ]
   },
   "outputs": [
    {
     "data": {
      "text/markdown": [
       "We are currently building a documentation storage system which will host useful documents related to datasets and data owners. We will surface these documents on Guidebook."
      ],
      "text/plain": [
       "<IPython.core.display.Markdown object>"
      ]
     },
     "metadata": {},
     "output_type": "display_data"
    }
   ],
   "source": [
    "ds.documentation()"
   ]
  },
  {
   "cell_type": "markdown",
   "id": "941343a9",
   "metadata": {},
   "source": [
    "## 4. Useful Syntax"
   ]
  },
  {
   "cell_type": "code",
   "execution_count": 6,
   "id": "f6f42e64",
   "metadata": {
    "execution": {
     "iopub.execute_input": "2025-07-17T15:17:28.605494Z",
     "iopub.status.busy": "2025-07-17T15:17:28.604493Z",
     "iopub.status.idle": "2025-07-17T15:17:28.613026Z",
     "shell.execute_reply": "2025-07-17T15:17:28.611969Z"
    },
    "tags": [
     "remove-input"
    ]
   },
   "outputs": [
    {
     "data": {
      "text/markdown": [
       "Below we will include syntax that may be helpful to other researchers in the UK LLC TRE. For longer scripts, we will include a snippet of the code plus a link to Git where you can find the full scripts."
      ],
      "text/plain": [
       "<IPython.core.display.Markdown object>"
      ]
     },
     "metadata": {},
     "output_type": "display_data"
    }
   ],
   "source": [
    "ds.useful_syntax()"
   ]
  }
 ],
 "metadata": {
  "language_info": {
   "codemirror_mode": {
    "name": "ipython",
    "version": 3
   },
   "file_extension": ".py",
   "mimetype": "text/x-python",
   "name": "python",
   "nbconvert_exporter": "python",
   "pygments_lexer": "ipython3",
   "version": "3.12.7"
  }
 },
 "nbformat": 4,
 "nbformat_minor": 5
}
