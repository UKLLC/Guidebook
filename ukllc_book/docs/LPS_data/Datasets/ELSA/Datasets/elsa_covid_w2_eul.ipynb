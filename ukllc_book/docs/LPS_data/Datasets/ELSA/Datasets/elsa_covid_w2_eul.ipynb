{
 "cells": [
  {
   "cell_type": "markdown",
   "id": "1ad3c1f3",
   "metadata": {},
   "source": [
    "# ELSA Wave 9 housing dataset part 2 (ELSA)"
   ]
  },
  {
   "cell_type": "code",
   "execution_count": 1,
   "id": "c53e308b",
   "metadata": {
    "execution": {
     "iopub.execute_input": "2025-07-17T15:12:56.156801Z",
     "iopub.status.busy": "2025-07-17T15:12:56.156801Z",
     "iopub.status.idle": "2025-07-17T15:13:04.208781Z",
     "shell.execute_reply": "2025-07-17T15:13:04.207326Z"
    },
    "tags": [
     "remove-input"
    ]
   },
   "outputs": [
    {
     "data": {
      "text/markdown": [
       ">Last modified: 17 Jul 2025"
      ],
      "text/plain": [
       "<IPython.core.display.Markdown object>"
      ]
     },
     "metadata": {},
     "output_type": "display_data"
    }
   ],
   "source": [
    "\n",
    "import sys\n",
    "import os\n",
    "sys.path.append(os.path.abspath('../../../../scripts/'))\n",
    "from data_doc_helper import LPSDataSet as DS, last_modified\n",
    "API_KEY = os.environ['FASTAPI_KEY']\n",
    "ds = DS(\"ELSA\", \"elsa_covid_w2_eul\")\n",
    "last_modified()\n"
   ]
  },
  {
   "cell_type": "markdown",
   "id": "d8fd511e",
   "metadata": {},
   "source": [
    "## 1. Summary"
   ]
  },
  {
   "cell_type": "code",
   "execution_count": 2,
   "id": "e434d593",
   "metadata": {
    "execution": {
     "iopub.execute_input": "2025-07-17T15:13:04.214802Z",
     "iopub.status.busy": "2025-07-17T15:13:04.214802Z",
     "iopub.status.idle": "2025-07-17T15:13:04.222740Z",
     "shell.execute_reply": "2025-07-17T15:13:04.221698Z"
    },
    "tags": [
     "remove-input"
    ]
   },
   "outputs": [
    {
     "data": {
      "text/markdown": [
       "Participants from the ELSA sample were invited to take part in a face-to-face interview in 2018-2019. Respondents took part in a interview on a number of topics but this block contains variables from the 'Housing and consumption' module. This questionnaire module contains questions on the following topics: housing (rent and mortgage payments), satisfaction with housing and area, vehicle ownership, durable ownership,  durable purchases, food expenditures,  fuel expenditures,  health insurance contributions,  leisure expenditures,  clothing expenditures, transfers (incl. charitable giving and Child Trust Funds), accommodation quality , gas and electricity expenditures (especially heating). \r\n",
       "\r\n"
      ],
      "text/plain": [
       "<IPython.core.display.Markdown object>"
      ]
     },
     "metadata": {},
     "output_type": "display_data"
    }
   ],
   "source": [
    "ds.summary()"
   ]
  },
  {
   "cell_type": "code",
   "execution_count": 3,
   "id": "c2f1ae50",
   "metadata": {
    "execution": {
     "iopub.execute_input": "2025-07-17T15:13:04.229740Z",
     "iopub.status.busy": "2025-07-17T15:13:04.228748Z",
     "iopub.status.idle": "2025-07-17T15:13:05.413272Z",
     "shell.execute_reply": "2025-07-17T15:13:05.412241Z"
    },
    "tags": [
     "remove-input"
    ]
   },
   "outputs": [
    {
     "data": {
      "text/html": [
       "<style type=\"text/css\">\n",
       "#T_fb3a8 th {\n",
       "  text-align: left;\n",
       "}\n",
       "#T_fb3a8_row0_col0, #T_fb3a8_row0_col1, #T_fb3a8_row1_col0, #T_fb3a8_row1_col1, #T_fb3a8_row2_col0, #T_fb3a8_row2_col1, #T_fb3a8_row3_col0, #T_fb3a8_row3_col1, #T_fb3a8_row4_col0, #T_fb3a8_row4_col1, #T_fb3a8_row5_col0, #T_fb3a8_row5_col1, #T_fb3a8_row6_col0, #T_fb3a8_row6_col1, #T_fb3a8_row7_col0, #T_fb3a8_row7_col1, #T_fb3a8_row8_col0, #T_fb3a8_row8_col1, #T_fb3a8_row9_col0, #T_fb3a8_row9_col1, #T_fb3a8_row10_col0, #T_fb3a8_row10_col1, #T_fb3a8_row11_col0, #T_fb3a8_row11_col1, #T_fb3a8_row12_col0, #T_fb3a8_row12_col1 {\n",
       "  text-align: left;\n",
       "}\n",
       "</style>\n",
       "<table id=\"T_fb3a8\" style=\"font-size: 14px\">\n",
       "  <thead>\n",
       "    <tr>\n",
       "      <th id=\"T_fb3a8_level0_col0\" class=\"col_heading level0 col0\" >Dataset Descriptor</th>\n",
       "      <th id=\"T_fb3a8_level0_col1\" class=\"col_heading level0 col1\" >Dataset-specific Information</th>\n",
       "    </tr>\n",
       "  </thead>\n",
       "  <tbody>\n",
       "    <tr>\n",
       "      <td id=\"T_fb3a8_row0_col0\" class=\"data row0 col0\" >Name of Dataset in TRE</td>\n",
       "      <td id=\"T_fb3a8_row0_col1\" class=\"data row0 col1\" >ELSA_elsa_covid_w2_eul</td>\n",
       "    </tr>\n",
       "    <tr>\n",
       "      <td id=\"T_fb3a8_row1_col0\" class=\"data row1 col0\" >Citation (APA)</td>\n",
       "      <td id=\"T_fb3a8_row1_col1\" class=\"data row1 col1\" >University College London, National Centre for Social Research, The Institute for Fiscal Studies, The University of East Anglia, and The University of Manchester. (2021). <i>English Longitudinal Study of Ageing (ELSA): ELSA Wave 9 housing dataset part 2.</i> UK Longitudinal Linkage Collaboration (UK LLC).  <a href=\"https://doi.org/10.83126/ukllc-dataset-00168-01\" rel=\"noopener noreferrer\" target=\"_blank\">https://doi.org/10.83126/ukllc-dataset-00168-01</a></td>\n",
       "    </tr>\n",
       "    <tr>\n",
       "      <td id=\"T_fb3a8_row2_col0\" class=\"data row2 col0\" >Download Citation</td>\n",
       "      <td id=\"T_fb3a8_row2_col1\" class=\"data row2 col1\" > <a href=\"https://api.test.datacite.org/application/vnd.citationstyles.csl+json/10.83126/ukllc-dataset-00168-01\" rel=\"noopener noreferrer\" target=\"_blank\">Citeproc JSON</a>&nbsp;&nbsp;&nbsp;&nbsp; <a href=\"https://api.test.datacite.org/application/x-bibtex/10.83126/ukllc-dataset-00168-01\" rel=\"noopener noreferrer\" target=\"_blank\">BibTeX</a>&nbsp;&nbsp;&nbsp;&nbsp; <a href=\"https://api.test.datacite.org/application/x-research-info-systems/10.83126/ukllc-dataset-00168-01\" rel=\"noopener noreferrer\" target=\"_blank\">RIS</a></td>\n",
       "    </tr>\n",
       "    <tr>\n",
       "      <td id=\"T_fb3a8_row3_col0\" class=\"data row3 col0\" >Series</td>\n",
       "      <td id=\"T_fb3a8_row3_col1\" class=\"data row3 col1\" > <a href=\"https://guidebook.ukllc.ac.uk/docs/lps/lps%20profiles/ELSA\">English Longitudinal Study of Ageing (ELSA)</a></td>\n",
       "    </tr>\n",
       "    <tr>\n",
       "      <td id=\"T_fb3a8_row4_col0\" class=\"data row4 col0\" >Owner</td>\n",
       "      <td id=\"T_fb3a8_row4_col1\" class=\"data row4 col1\" >UCL</td>\n",
       "    </tr>\n",
       "    <tr>\n",
       "      <td id=\"T_fb3a8_row5_col0\" class=\"data row5 col0\" >Temporal Coverage</td>\n",
       "      <td id=\"T_fb3a8_row5_col1\" class=\"data row5 col1\" >11/2020 - 12/2020</td>\n",
       "    </tr>\n",
       "    <tr>\n",
       "      <td id=\"T_fb3a8_row6_col0\" class=\"data row6 col0\" >Keywords</td>\n",
       "      <td id=\"T_fb3a8_row6_col1\" class=\"data row6 col1\" >COVID,health,mental health,employment,social participation,financial security,care and volunteering.</td>\n",
       "    </tr>\n",
       "    <tr>\n",
       "      <td id=\"T_fb3a8_row7_col0\" class=\"data row7 col0\" >Participants Invited</td>\n",
       "      <td id=\"T_fb3a8_row7_col1\" class=\"data row7 col1\" >6794</td>\n",
       "    </tr>\n",
       "    <tr>\n",
       "      <td id=\"T_fb3a8_row8_col0\" class=\"data row8 col0\" >Participant Count</td>\n",
       "      <td id=\"T_fb3a8_row8_col1\" class=\"data row8 col1\" >6794</td>\n",
       "    </tr>\n",
       "    <tr>\n",
       "      <td id=\"T_fb3a8_row9_col0\" class=\"data row9 col0\" >Number of variables</td>\n",
       "      <td id=\"T_fb3a8_row9_col1\" class=\"data row9 col1\" >443</td>\n",
       "    </tr>\n",
       "    <tr>\n",
       "      <td id=\"T_fb3a8_row10_col0\" class=\"data row10 col0\" >Number of observations</td>\n",
       "      <td id=\"T_fb3a8_row10_col1\" class=\"data row10 col1\" >6794</td>\n",
       "    </tr>\n",
       "    <tr>\n",
       "      <td id=\"T_fb3a8_row11_col0\" class=\"data row11 col0\" >Specific Restrictions to Data Use</td>\n",
       "      <td id=\"T_fb3a8_row11_col1\" class=\"data row11 col1\" >None</td>\n",
       "    </tr>\n",
       "    <tr>\n",
       "      <td id=\"T_fb3a8_row12_col0\" class=\"data row12 col0\" >Build a Data Request</td>\n",
       "      <td id=\"T_fb3a8_row12_col1\" class=\"data row12 col1\" > <a href=\"https://explore.ukllc.ac.uk/\" rel=\"noopener noreferrer\" target=\"_blank\">https://explore.ukllc.ac.uk/</a></td>\n",
       "    </tr>\n",
       "  </tbody>\n",
       "</table>\n"
      ],
      "text/plain": [
       "<pandas.io.formats.style.Styler at 0x14c9ff138f0>"
      ]
     },
     "execution_count": 3,
     "metadata": {},
     "output_type": "execute_result"
    }
   ],
   "source": [
    "ds.info_table()"
   ]
  },
  {
   "cell_type": "markdown",
   "id": "0e278bc4",
   "metadata": {},
   "source": [
    "## 2. Version History"
   ]
  },
  {
   "cell_type": "code",
   "execution_count": 4,
   "id": "c383016b",
   "metadata": {
    "execution": {
     "iopub.execute_input": "2025-07-17T15:13:05.418282Z",
     "iopub.status.busy": "2025-07-17T15:13:05.417265Z",
     "iopub.status.idle": "2025-07-17T15:13:09.214420Z",
     "shell.execute_reply": "2025-07-17T15:13:09.212406Z"
    },
    "tags": [
     "remove-input"
    ]
   },
   "outputs": [
    {
     "data": {
      "text/html": [
       "<style type=\"text/css\">\n",
       "#T_8a8bb th {\n",
       "  text-align: left;\n",
       "}\n",
       "#T_8a8bb_row0_col0, #T_8a8bb_row0_col1, #T_8a8bb_row1_col0, #T_8a8bb_row1_col1, #T_8a8bb_row2_col0, #T_8a8bb_row2_col1, #T_8a8bb_row3_col0, #T_8a8bb_row3_col1, #T_8a8bb_row4_col0, #T_8a8bb_row4_col1 {\n",
       "  text-align: left;\n",
       "}\n",
       "</style>\n",
       "<table id=\"T_8a8bb\" style=\"font-size: 14px\">\n",
       "  <thead>\n",
       "    <tr>\n",
       "      <th id=\"T_8a8bb_level0_col0\" class=\"col_heading level0 col0\" >Version</th>\n",
       "      <th id=\"T_8a8bb_level0_col1\" class=\"col_heading level0 col1\" >1</th>\n",
       "    </tr>\n",
       "  </thead>\n",
       "  <tbody>\n",
       "    <tr>\n",
       "      <td id=\"T_8a8bb_row0_col0\" class=\"data row0 col0\" >Version Date</td>\n",
       "      <td id=\"T_8a8bb_row0_col1\" class=\"data row0 col1\" >01 Nov 2021</td>\n",
       "    </tr>\n",
       "    <tr>\n",
       "      <td id=\"T_8a8bb_row1_col0\" class=\"data row1 col0\" >Number of Variables</td>\n",
       "      <td id=\"T_8a8bb_row1_col1\" class=\"data row1 col1\" >443</td>\n",
       "    </tr>\n",
       "    <tr>\n",
       "      <td id=\"T_8a8bb_row2_col0\" class=\"data row2 col0\" >Number of Observations</td>\n",
       "      <td id=\"T_8a8bb_row2_col1\" class=\"data row2 col1\" >6794</td>\n",
       "    </tr>\n",
       "    <tr>\n",
       "      <td id=\"T_8a8bb_row3_col0\" class=\"data row3 col0\" >DOI</td>\n",
       "      <td id=\"T_8a8bb_row3_col1\" class=\"data row3 col1\" > <a href=\"https://doi.org/10.83126/ukllc-dataset-00168-01\" rel=\"noopener noreferrer\" target=\"_blank\">10.83126/ukllc-dataset-00168-01</a></td>\n",
       "    </tr>\n",
       "    <tr>\n",
       "      <td id=\"T_8a8bb_row4_col0\" class=\"data row4 col0\" >Change Log</td>\n",
       "      <td id=\"T_8a8bb_row4_col1\" class=\"data row4 col1\" > <a href=\"https://api.test.datacite.org/dois/10.83126/ukllc-dataset-00168-01/activities\" rel=\"noopener noreferrer\" target=\"_blank\">10.83126/ukllc-dataset-00168-01/activities</a></td>\n",
       "    </tr>\n",
       "  </tbody>\n",
       "</table>\n"
      ],
      "text/plain": [
       "<pandas.io.formats.style.Styler at 0x14ca1ccc350>"
      ]
     },
     "execution_count": 4,
     "metadata": {},
     "output_type": "execute_result"
    }
   ],
   "source": [
    "ds.version_history()"
   ]
  },
  {
   "cell_type": "markdown",
   "id": "c6e64a4f",
   "metadata": {},
   "source": [
    "## 3. Documentation"
   ]
  },
  {
   "cell_type": "code",
   "execution_count": 5,
   "id": "d9a1a498",
   "metadata": {
    "execution": {
     "iopub.execute_input": "2025-07-17T15:13:09.220648Z",
     "iopub.status.busy": "2025-07-17T15:13:09.219648Z",
     "iopub.status.idle": "2025-07-17T15:13:09.230315Z",
     "shell.execute_reply": "2025-07-17T15:13:09.228844Z"
    },
    "tags": [
     "remove-input"
    ]
   },
   "outputs": [
    {
     "data": {
      "text/markdown": [
       "We are currently building a documentation storage system which will host useful documents related to datasets and data owners. We will surface these documents on Guidebook."
      ],
      "text/plain": [
       "<IPython.core.display.Markdown object>"
      ]
     },
     "metadata": {},
     "output_type": "display_data"
    }
   ],
   "source": [
    "ds.documentation()"
   ]
  },
  {
   "cell_type": "markdown",
   "id": "f878498a",
   "metadata": {},
   "source": [
    "## 4. Useful Syntax"
   ]
  },
  {
   "cell_type": "code",
   "execution_count": 6,
   "id": "944b15a2",
   "metadata": {
    "execution": {
     "iopub.execute_input": "2025-07-17T15:13:09.234845Z",
     "iopub.status.busy": "2025-07-17T15:13:09.234845Z",
     "iopub.status.idle": "2025-07-17T15:13:09.243525Z",
     "shell.execute_reply": "2025-07-17T15:13:09.242001Z"
    },
    "tags": [
     "remove-input"
    ]
   },
   "outputs": [
    {
     "data": {
      "text/markdown": [
       "Below we will include syntax that may be helpful to other researchers in the UK LLC TRE. For longer scripts, we will include a snippet of the code plus a link to Git where you can find the full scripts."
      ],
      "text/plain": [
       "<IPython.core.display.Markdown object>"
      ]
     },
     "metadata": {},
     "output_type": "display_data"
    }
   ],
   "source": [
    "ds.useful_syntax()"
   ]
  }
 ],
 "metadata": {
  "language_info": {
   "codemirror_mode": {
    "name": "ipython",
    "version": 3
   },
   "file_extension": ".py",
   "mimetype": "text/x-python",
   "name": "python",
   "nbconvert_exporter": "python",
   "pygments_lexer": "ipython3",
   "version": "3.12.7"
  }
 },
 "nbformat": 4,
 "nbformat_minor": 5
}
