{
 "cells": [
  {
   "cell_type": "markdown",
   "id": "36fe2db8",
   "metadata": {},
   "source": [
    "# ELSA Wave 9 Data (EUL) Social Participation And Social Capital (ELSA)"
   ]
  },
  {
   "cell_type": "code",
   "execution_count": 1,
   "id": "8dd2a9a1",
   "metadata": {
    "execution": {
     "iopub.execute_input": "2025-07-17T15:16:38.938848Z",
     "iopub.status.busy": "2025-07-17T15:16:38.937861Z",
     "iopub.status.idle": "2025-07-17T15:16:46.670581Z",
     "shell.execute_reply": "2025-07-17T15:16:46.669565Z"
    },
    "tags": [
     "remove-input"
    ]
   },
   "outputs": [
    {
     "data": {
      "text/markdown": [
       ">Last modified: 17 Jul 2025"
      ],
      "text/plain": [
       "<IPython.core.display.Markdown object>"
      ]
     },
     "metadata": {},
     "output_type": "display_data"
    }
   ],
   "source": [
    "\n",
    "import sys\n",
    "import os\n",
    "sys.path.append(os.path.abspath('../../../../scripts/'))\n",
    "from data_doc_helper import LPSDataSet as DS, last_modified\n",
    "API_KEY = os.environ['FASTAPI_KEY']\n",
    "ds = DS(\"ELSA\", \"wave_9_elsa_data_eul_spsc\")\n",
    "last_modified()\n"
   ]
  },
  {
   "cell_type": "markdown",
   "id": "b9afbcb0",
   "metadata": {},
   "source": [
    "## 1. Summary"
   ]
  },
  {
   "cell_type": "code",
   "execution_count": 2,
   "id": "6586d6e5",
   "metadata": {
    "execution": {
     "iopub.execute_input": "2025-07-17T15:16:46.677204Z",
     "iopub.status.busy": "2025-07-17T15:16:46.677204Z",
     "iopub.status.idle": "2025-07-17T15:16:46.687525Z",
     "shell.execute_reply": "2025-07-17T15:16:46.686243Z"
    },
    "tags": [
     "remove-input"
    ]
   },
   "outputs": [
    {
     "data": {
      "text/markdown": [
       "Participants from the ELSA sample were invited to take part in a face-to-face interview in 2018-2019. Respondents took part in a interview on a nmber of topics but this block contains only variables from the sp and sc (social participation and social capital) modules"
      ],
      "text/plain": [
       "<IPython.core.display.Markdown object>"
      ]
     },
     "metadata": {},
     "output_type": "display_data"
    }
   ],
   "source": [
    "ds.summary()"
   ]
  },
  {
   "cell_type": "code",
   "execution_count": 3,
   "id": "d209373d",
   "metadata": {
    "execution": {
     "iopub.execute_input": "2025-07-17T15:16:46.693942Z",
     "iopub.status.busy": "2025-07-17T15:16:46.693942Z",
     "iopub.status.idle": "2025-07-17T15:16:47.835906Z",
     "shell.execute_reply": "2025-07-17T15:16:47.834817Z"
    },
    "tags": [
     "remove-input"
    ]
   },
   "outputs": [
    {
     "data": {
      "text/html": [
       "<style type=\"text/css\">\n",
       "#T_847a7 th {\n",
       "  text-align: left;\n",
       "}\n",
       "#T_847a7_row0_col0, #T_847a7_row0_col1, #T_847a7_row1_col0, #T_847a7_row1_col1, #T_847a7_row2_col0, #T_847a7_row2_col1, #T_847a7_row3_col0, #T_847a7_row3_col1, #T_847a7_row4_col0, #T_847a7_row4_col1, #T_847a7_row5_col0, #T_847a7_row5_col1, #T_847a7_row6_col0, #T_847a7_row6_col1, #T_847a7_row7_col0, #T_847a7_row7_col1, #T_847a7_row8_col0, #T_847a7_row8_col1, #T_847a7_row9_col0, #T_847a7_row9_col1, #T_847a7_row10_col0, #T_847a7_row10_col1, #T_847a7_row11_col0, #T_847a7_row11_col1, #T_847a7_row12_col0, #T_847a7_row12_col1 {\n",
       "  text-align: left;\n",
       "}\n",
       "</style>\n",
       "<table id=\"T_847a7\" style=\"font-size: 14px\">\n",
       "  <thead>\n",
       "    <tr>\n",
       "      <th id=\"T_847a7_level0_col0\" class=\"col_heading level0 col0\" >Dataset Descriptor</th>\n",
       "      <th id=\"T_847a7_level0_col1\" class=\"col_heading level0 col1\" >Dataset-specific Information</th>\n",
       "    </tr>\n",
       "  </thead>\n",
       "  <tbody>\n",
       "    <tr>\n",
       "      <td id=\"T_847a7_row0_col0\" class=\"data row0 col0\" >Name of Dataset in TRE</td>\n",
       "      <td id=\"T_847a7_row0_col1\" class=\"data row0 col1\" >ELSA_wave_9_elsa_data_eul_spsc</td>\n",
       "    </tr>\n",
       "    <tr>\n",
       "      <td id=\"T_847a7_row1_col0\" class=\"data row1 col0\" >Citation (APA)</td>\n",
       "      <td id=\"T_847a7_row1_col1\" class=\"data row1 col1\" >University College London, National Centre for Social Research, The Institute for Fiscal Studies, The University of East Anglia, and The University of Manchester. (2021). <i>English Longitudinal Study of Ageing (ELSA): ELSA Wave 9 Data (EUL) Social Participation And Social Capital.</i> UK Longitudinal Linkage Collaboration (UK LLC).  <a href=\"https://doi.org/10.83126/ukllc-dataset-00181-01\" rel=\"noopener noreferrer\" target=\"_blank\">https://doi.org/10.83126/ukllc-dataset-00181-01</a></td>\n",
       "    </tr>\n",
       "    <tr>\n",
       "      <td id=\"T_847a7_row2_col0\" class=\"data row2 col0\" >Download Citation</td>\n",
       "      <td id=\"T_847a7_row2_col1\" class=\"data row2 col1\" > <a href=\"https://api.test.datacite.org/application/vnd.citationstyles.csl+json/10.83126/ukllc-dataset-00181-01\" rel=\"noopener noreferrer\" target=\"_blank\">Citeproc JSON</a>&nbsp;&nbsp;&nbsp;&nbsp; <a href=\"https://api.test.datacite.org/application/x-bibtex/10.83126/ukllc-dataset-00181-01\" rel=\"noopener noreferrer\" target=\"_blank\">BibTeX</a>&nbsp;&nbsp;&nbsp;&nbsp; <a href=\"https://api.test.datacite.org/application/x-research-info-systems/10.83126/ukllc-dataset-00181-01\" rel=\"noopener noreferrer\" target=\"_blank\">RIS</a></td>\n",
       "    </tr>\n",
       "    <tr>\n",
       "      <td id=\"T_847a7_row3_col0\" class=\"data row3 col0\" >Series</td>\n",
       "      <td id=\"T_847a7_row3_col1\" class=\"data row3 col1\" > <a href=\"https://guidebook.ukllc.ac.uk/docs/lps/lps%20profiles/ELSA\">English Longitudinal Study of Ageing (ELSA)</a></td>\n",
       "    </tr>\n",
       "    <tr>\n",
       "      <td id=\"T_847a7_row4_col0\" class=\"data row4 col0\" >Owner</td>\n",
       "      <td id=\"T_847a7_row4_col1\" class=\"data row4 col1\" >UCL</td>\n",
       "    </tr>\n",
       "    <tr>\n",
       "      <td id=\"T_847a7_row5_col0\" class=\"data row5 col0\" >Temporal Coverage</td>\n",
       "      <td id=\"T_847a7_row5_col1\" class=\"data row5 col1\" >06/2018 - 07/2019</td>\n",
       "    </tr>\n",
       "    <tr>\n",
       "      <td id=\"T_847a7_row6_col0\" class=\"data row6 col0\" >Keywords</td>\n",
       "      <td id=\"T_847a7_row6_col1\" class=\"data row6 col1\" >social participation,transport use,civic participation,loneliness,internet use,social networks.</td>\n",
       "    </tr>\n",
       "    <tr>\n",
       "      <td id=\"T_847a7_row7_col0\" class=\"data row7 col0\" >Participants Invited</td>\n",
       "      <td id=\"T_847a7_row7_col1\" class=\"data row7 col1\" >8736</td>\n",
       "    </tr>\n",
       "    <tr>\n",
       "      <td id=\"T_847a7_row8_col0\" class=\"data row8 col0\" >Participant Count</td>\n",
       "      <td id=\"T_847a7_row8_col1\" class=\"data row8 col1\" >8736</td>\n",
       "    </tr>\n",
       "    <tr>\n",
       "      <td id=\"T_847a7_row9_col0\" class=\"data row9 col0\" >Number of variables</td>\n",
       "      <td id=\"T_847a7_row9_col1\" class=\"data row9 col1\" >257</td>\n",
       "    </tr>\n",
       "    <tr>\n",
       "      <td id=\"T_847a7_row10_col0\" class=\"data row10 col0\" >Number of observations</td>\n",
       "      <td id=\"T_847a7_row10_col1\" class=\"data row10 col1\" >8736</td>\n",
       "    </tr>\n",
       "    <tr>\n",
       "      <td id=\"T_847a7_row11_col0\" class=\"data row11 col0\" >Specific Restrictions to Data Use</td>\n",
       "      <td id=\"T_847a7_row11_col1\" class=\"data row11 col1\" >None</td>\n",
       "    </tr>\n",
       "    <tr>\n",
       "      <td id=\"T_847a7_row12_col0\" class=\"data row12 col0\" >Build a Data Request</td>\n",
       "      <td id=\"T_847a7_row12_col1\" class=\"data row12 col1\" > <a href=\"https://explore.ukllc.ac.uk/\" rel=\"noopener noreferrer\" target=\"_blank\">https://explore.ukllc.ac.uk/</a></td>\n",
       "    </tr>\n",
       "  </tbody>\n",
       "</table>\n"
      ],
      "text/plain": [
       "<pandas.io.formats.style.Styler at 0x13efdcc5940>"
      ]
     },
     "execution_count": 3,
     "metadata": {},
     "output_type": "execute_result"
    }
   ],
   "source": [
    "ds.info_table()"
   ]
  },
  {
   "cell_type": "markdown",
   "id": "4f3c9a4f",
   "metadata": {},
   "source": [
    "## 2. Version History"
   ]
  },
  {
   "cell_type": "code",
   "execution_count": 4,
   "id": "ecc29793",
   "metadata": {
    "execution": {
     "iopub.execute_input": "2025-07-17T15:16:47.839921Z",
     "iopub.status.busy": "2025-07-17T15:16:47.839921Z",
     "iopub.status.idle": "2025-07-17T15:16:50.179157Z",
     "shell.execute_reply": "2025-07-17T15:16:50.178139Z"
    },
    "tags": [
     "remove-input"
    ]
   },
   "outputs": [
    {
     "data": {
      "text/html": [
       "<style type=\"text/css\">\n",
       "#T_ab2de th {\n",
       "  text-align: left;\n",
       "}\n",
       "#T_ab2de_row0_col0, #T_ab2de_row0_col1, #T_ab2de_row1_col0, #T_ab2de_row1_col1, #T_ab2de_row2_col0, #T_ab2de_row2_col1, #T_ab2de_row3_col0, #T_ab2de_row3_col1, #T_ab2de_row4_col0, #T_ab2de_row4_col1 {\n",
       "  text-align: left;\n",
       "}\n",
       "</style>\n",
       "<table id=\"T_ab2de\" style=\"font-size: 14px\">\n",
       "  <thead>\n",
       "    <tr>\n",
       "      <th id=\"T_ab2de_level0_col0\" class=\"col_heading level0 col0\" >Version</th>\n",
       "      <th id=\"T_ab2de_level0_col1\" class=\"col_heading level0 col1\" >1</th>\n",
       "    </tr>\n",
       "  </thead>\n",
       "  <tbody>\n",
       "    <tr>\n",
       "      <td id=\"T_ab2de_row0_col0\" class=\"data row0 col0\" >Version Date</td>\n",
       "      <td id=\"T_ab2de_row0_col1\" class=\"data row0 col1\" >01 Nov 2021</td>\n",
       "    </tr>\n",
       "    <tr>\n",
       "      <td id=\"T_ab2de_row1_col0\" class=\"data row1 col0\" >Number of Variables</td>\n",
       "      <td id=\"T_ab2de_row1_col1\" class=\"data row1 col1\" >257</td>\n",
       "    </tr>\n",
       "    <tr>\n",
       "      <td id=\"T_ab2de_row2_col0\" class=\"data row2 col0\" >Number of Observations</td>\n",
       "      <td id=\"T_ab2de_row2_col1\" class=\"data row2 col1\" >8736</td>\n",
       "    </tr>\n",
       "    <tr>\n",
       "      <td id=\"T_ab2de_row3_col0\" class=\"data row3 col0\" >DOI</td>\n",
       "      <td id=\"T_ab2de_row3_col1\" class=\"data row3 col1\" > <a href=\"https://doi.org/10.83126/ukllc-dataset-00181-01\" rel=\"noopener noreferrer\" target=\"_blank\">10.83126/ukllc-dataset-00181-01</a></td>\n",
       "    </tr>\n",
       "    <tr>\n",
       "      <td id=\"T_ab2de_row4_col0\" class=\"data row4 col0\" >Change Log</td>\n",
       "      <td id=\"T_ab2de_row4_col1\" class=\"data row4 col1\" > <a href=\"https://api.test.datacite.org/dois/10.83126/ukllc-dataset-00181-01/activities\" rel=\"noopener noreferrer\" target=\"_blank\">10.83126/ukllc-dataset-00181-01/activities</a></td>\n",
       "    </tr>\n",
       "  </tbody>\n",
       "</table>\n"
      ],
      "text/plain": [
       "<pandas.io.formats.style.Styler at 0x13eff7e1970>"
      ]
     },
     "execution_count": 4,
     "metadata": {},
     "output_type": "execute_result"
    }
   ],
   "source": [
    "ds.version_history()"
   ]
  },
  {
   "cell_type": "markdown",
   "id": "a1dde165",
   "metadata": {},
   "source": [
    "## 3. Documentation"
   ]
  },
  {
   "cell_type": "code",
   "execution_count": 5,
   "id": "1e1b338e",
   "metadata": {
    "execution": {
     "iopub.execute_input": "2025-07-17T15:16:50.187852Z",
     "iopub.status.busy": "2025-07-17T15:16:50.187852Z",
     "iopub.status.idle": "2025-07-17T15:16:50.194774Z",
     "shell.execute_reply": "2025-07-17T15:16:50.193763Z"
    },
    "tags": [
     "remove-input"
    ]
   },
   "outputs": [
    {
     "data": {
      "text/markdown": [
       "We are currently building a documentation storage system which will host useful documents related to datasets and data owners. We will surface these documents on Guidebook."
      ],
      "text/plain": [
       "<IPython.core.display.Markdown object>"
      ]
     },
     "metadata": {},
     "output_type": "display_data"
    }
   ],
   "source": [
    "ds.documentation()"
   ]
  },
  {
   "cell_type": "markdown",
   "id": "0aed4d27",
   "metadata": {},
   "source": [
    "## 4. Useful Syntax"
   ]
  },
  {
   "cell_type": "code",
   "execution_count": 6,
   "id": "e321f506",
   "metadata": {
    "execution": {
     "iopub.execute_input": "2025-07-17T15:16:50.200808Z",
     "iopub.status.busy": "2025-07-17T15:16:50.200808Z",
     "iopub.status.idle": "2025-07-17T15:16:50.208644Z",
     "shell.execute_reply": "2025-07-17T15:16:50.208110Z"
    },
    "tags": [
     "remove-input"
    ]
   },
   "outputs": [
    {
     "data": {
      "text/markdown": [
       "Below we will include syntax that may be helpful to other researchers in the UK LLC TRE. For longer scripts, we will include a snippet of the code plus a link to Git where you can find the full scripts."
      ],
      "text/plain": [
       "<IPython.core.display.Markdown object>"
      ]
     },
     "metadata": {},
     "output_type": "display_data"
    }
   ],
   "source": [
    "ds.useful_syntax()"
   ]
  }
 ],
 "metadata": {
  "language_info": {
   "codemirror_mode": {
    "name": "ipython",
    "version": 3
   },
   "file_extension": ".py",
   "mimetype": "text/x-python",
   "name": "python",
   "nbconvert_exporter": "python",
   "pygments_lexer": "ipython3",
   "version": "3.12.7"
  }
 },
 "nbformat": 4,
 "nbformat_minor": 5
}
