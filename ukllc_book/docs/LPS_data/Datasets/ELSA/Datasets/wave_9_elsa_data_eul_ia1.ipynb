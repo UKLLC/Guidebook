{
 "cells": [
  {
   "cell_type": "markdown",
   "id": "b0d86b57",
   "metadata": {},
   "source": [
    "# ELSA Wave 9 Data (EUL) Income And Assets 1 (ELSA)"
   ]
  },
  {
   "cell_type": "code",
   "execution_count": 1,
   "id": "d3ae3a07",
   "metadata": {
    "execution": {
     "iopub.execute_input": "2025-07-28T18:16:49.976064Z",
     "iopub.status.busy": "2025-07-28T18:16:49.976064Z",
     "iopub.status.idle": "2025-07-28T18:17:00.816301Z",
     "shell.execute_reply": "2025-07-28T18:17:00.815285Z"
    },
    "tags": [
     "remove-input"
    ]
   },
   "outputs": [
    {
     "data": {
      "text/markdown": [
       ">Last modified: 28 Jul 2025"
      ],
      "text/plain": [
       "<IPython.core.display.Markdown object>"
      ]
     },
     "metadata": {},
     "output_type": "display_data"
    }
   ],
   "source": [
    "\n",
    "import sys\n",
    "import os\n",
    "sys.path.append(os.path.abspath('../../../../scripts/'))\n",
    "from data_doc_helper import LPSDataSet as DS, last_modified\n",
    "API_KEY = os.environ['FASTAPI_KEY']\n",
    "ds = DS(\"ELSA\", \"wave_9_elsa_data_eul_ia1\")\n",
    "last_modified()\n"
   ]
  },
  {
   "cell_type": "markdown",
   "id": "202c40fd",
   "metadata": {},
   "source": [
    "## 1. Summary"
   ]
  },
  {
   "cell_type": "code",
   "execution_count": 2,
   "id": "a582774f",
   "metadata": {
    "execution": {
     "iopub.execute_input": "2025-07-28T18:17:00.820299Z",
     "iopub.status.busy": "2025-07-28T18:17:00.820299Z",
     "iopub.status.idle": "2025-07-28T18:17:00.826299Z",
     "shell.execute_reply": "2025-07-28T18:17:00.826299Z"
    },
    "tags": [
     "remove-input"
    ]
   },
   "outputs": [
    {
     "data": {
      "text/markdown": [
       "Participants from the ELSA sample were invited to take part in a face-to-face interview in 2018-2019. Respondents took part in a interview on a nmber of topics but this block contains only variables from the ia (income and assests) module"
      ],
      "text/plain": [
       "<IPython.core.display.Markdown object>"
      ]
     },
     "metadata": {},
     "output_type": "display_data"
    }
   ],
   "source": [
    "ds.summary()"
   ]
  },
  {
   "cell_type": "code",
   "execution_count": 3,
   "id": "151f0bc8",
   "metadata": {
    "execution": {
     "iopub.execute_input": "2025-07-28T18:17:00.830737Z",
     "iopub.status.busy": "2025-07-28T18:17:00.829741Z",
     "iopub.status.idle": "2025-07-28T18:17:01.984878Z",
     "shell.execute_reply": "2025-07-28T18:17:01.984878Z"
    },
    "tags": [
     "remove-input"
    ]
   },
   "outputs": [
    {
     "data": {
      "text/html": [
       "<style type=\"text/css\">\n",
       "#T_3e5a1 th {\n",
       "  text-align: left;\n",
       "}\n",
       "#T_3e5a1_row0_col0, #T_3e5a1_row0_col1, #T_3e5a1_row1_col0, #T_3e5a1_row1_col1, #T_3e5a1_row2_col0, #T_3e5a1_row2_col1, #T_3e5a1_row3_col0, #T_3e5a1_row3_col1, #T_3e5a1_row4_col0, #T_3e5a1_row4_col1, #T_3e5a1_row5_col0, #T_3e5a1_row5_col1, #T_3e5a1_row6_col0, #T_3e5a1_row6_col1, #T_3e5a1_row7_col0, #T_3e5a1_row7_col1, #T_3e5a1_row8_col0, #T_3e5a1_row8_col1, #T_3e5a1_row9_col0, #T_3e5a1_row9_col1, #T_3e5a1_row10_col0, #T_3e5a1_row10_col1, #T_3e5a1_row11_col0, #T_3e5a1_row11_col1, #T_3e5a1_row12_col0, #T_3e5a1_row12_col1 {\n",
       "  text-align: left;\n",
       "}\n",
       "</style>\n",
       "<table id=\"T_3e5a1\" style=\"font-size: 14px\">\n",
       "  <thead>\n",
       "    <tr>\n",
       "      <th id=\"T_3e5a1_level0_col0\" class=\"col_heading level0 col0\" >Dataset Descriptor</th>\n",
       "      <th id=\"T_3e5a1_level0_col1\" class=\"col_heading level0 col1\" >Dataset-specific Information</th>\n",
       "    </tr>\n",
       "  </thead>\n",
       "  <tbody>\n",
       "    <tr>\n",
       "      <td id=\"T_3e5a1_row0_col0\" class=\"data row0 col0\" >Name of Dataset in TRE</td>\n",
       "      <td id=\"T_3e5a1_row0_col1\" class=\"data row0 col1\" >ELSA_wave_9_elsa_data_eul_ia1</td>\n",
       "    </tr>\n",
       "    <tr>\n",
       "      <td id=\"T_3e5a1_row1_col0\" class=\"data row1 col0\" >Citation (APA)</td>\n",
       "      <td id=\"T_3e5a1_row1_col1\" class=\"data row1 col1\" >University College London, National Centre for Social Research, The Institute for Fiscal Studies, The University of East Anglia, and The University of Manchester. (2021). <i>English Longitudinal Study of Ageing (ELSA): ELSA Wave 9 Data (EUL) Income And Assets 1.</i> UK Longitudinal Linkage Collaboration (UK LLC).  <a href=\"https://doi.org/10.71760/ukllc-dataset-00097-01\" rel=\"noopener noreferrer\" target=\"_blank\">https://doi.org/10.71760/ukllc-dataset-00097-01</a></td>\n",
       "    </tr>\n",
       "    <tr>\n",
       "      <td id=\"T_3e5a1_row2_col0\" class=\"data row2 col0\" >Download Citation</td>\n",
       "      <td id=\"T_3e5a1_row2_col1\" class=\"data row2 col1\" > <a href=\"https://api.datacite.org/application/vnd.citationstyles.csl+json/10.71760/ukllc-dataset-00097-01\" rel=\"noopener noreferrer\" target=\"_blank\">Citeproc JSON</a>&nbsp;&nbsp;&nbsp;&nbsp; <a href=\"https://api.datacite.org/application/x-bibtex/10.71760/ukllc-dataset-00097-01\" rel=\"noopener noreferrer\" target=\"_blank\">BibTeX</a>&nbsp;&nbsp;&nbsp;&nbsp; <a href=\"https://api.datacite.org/application/x-research-info-systems/10.71760/ukllc-dataset-00097-01\" rel=\"noopener noreferrer\" target=\"_blank\">RIS</a></td>\n",
       "    </tr>\n",
       "    <tr>\n",
       "      <td id=\"T_3e5a1_row3_col0\" class=\"data row3 col0\" >Series</td>\n",
       "      <td id=\"T_3e5a1_row3_col1\" class=\"data row3 col1\" > <a href=\"https://guidebook.ukllc.ac.uk/docs/lps_data/lps%20profiles/ELSA\">English Longitudinal Study of Ageing (ELSA)</a></td>\n",
       "    </tr>\n",
       "    <tr>\n",
       "      <td id=\"T_3e5a1_row4_col0\" class=\"data row4 col0\" >Owner</td>\n",
       "      <td id=\"T_3e5a1_row4_col1\" class=\"data row4 col1\" >UCL</td>\n",
       "    </tr>\n",
       "    <tr>\n",
       "      <td id=\"T_3e5a1_row5_col0\" class=\"data row5 col0\" >Temporal Coverage</td>\n",
       "      <td id=\"T_3e5a1_row5_col1\" class=\"data row5 col1\" >06/2018 - 07/2019</td>\n",
       "    </tr>\n",
       "    <tr>\n",
       "      <td id=\"T_3e5a1_row6_col0\" class=\"data row6 col0\" >Keywords</td>\n",
       "      <td id=\"T_3e5a1_row6_col1\" class=\"data row6 col1\" >income,wealth,finances,state benefits,private pension income,assets,debt.</td>\n",
       "    </tr>\n",
       "    <tr>\n",
       "      <td id=\"T_3e5a1_row7_col0\" class=\"data row7 col0\" >Participants Invited</td>\n",
       "      <td id=\"T_3e5a1_row7_col1\" class=\"data row7 col1\" >8736</td>\n",
       "    </tr>\n",
       "    <tr>\n",
       "      <td id=\"T_3e5a1_row8_col0\" class=\"data row8 col0\" >Participant Count</td>\n",
       "      <td id=\"T_3e5a1_row8_col1\" class=\"data row8 col1\" >8736</td>\n",
       "    </tr>\n",
       "    <tr>\n",
       "      <td id=\"T_3e5a1_row9_col0\" class=\"data row9 col0\" >Number of variables</td>\n",
       "      <td id=\"T_3e5a1_row9_col1\" class=\"data row9 col1\" >647</td>\n",
       "    </tr>\n",
       "    <tr>\n",
       "      <td id=\"T_3e5a1_row10_col0\" class=\"data row10 col0\" >Number of observations</td>\n",
       "      <td id=\"T_3e5a1_row10_col1\" class=\"data row10 col1\" >8736</td>\n",
       "    </tr>\n",
       "    <tr>\n",
       "      <td id=\"T_3e5a1_row11_col0\" class=\"data row11 col0\" >Specific Restrictions to Data Use</td>\n",
       "      <td id=\"T_3e5a1_row11_col1\" class=\"data row11 col1\" >None</td>\n",
       "    </tr>\n",
       "    <tr>\n",
       "      <td id=\"T_3e5a1_row12_col0\" class=\"data row12 col0\" >Build a Data Request</td>\n",
       "      <td id=\"T_3e5a1_row12_col1\" class=\"data row12 col1\" > <a href=\"https://explore.ukllc.ac.uk/\" rel=\"noopener noreferrer\" target=\"_blank\">https://explore.ukllc.ac.uk/</a></td>\n",
       "    </tr>\n",
       "  </tbody>\n",
       "</table>\n"
      ],
      "text/plain": [
       "<pandas.io.formats.style.Styler at 0x2411e1c2e10>"
      ]
     },
     "execution_count": 3,
     "metadata": {},
     "output_type": "execute_result"
    }
   ],
   "source": [
    "ds.info_table()"
   ]
  },
  {
   "cell_type": "markdown",
   "id": "fc30634b",
   "metadata": {},
   "source": [
    "## 2. Version History"
   ]
  },
  {
   "cell_type": "code",
   "execution_count": 4,
   "id": "9462e950",
   "metadata": {
    "execution": {
     "iopub.execute_input": "2025-07-28T18:17:01.988852Z",
     "iopub.status.busy": "2025-07-28T18:17:01.988852Z",
     "iopub.status.idle": "2025-07-28T18:17:07.117947Z",
     "shell.execute_reply": "2025-07-28T18:17:07.116936Z"
    },
    "tags": [
     "remove-input"
    ]
   },
   "outputs": [
    {
     "data": {
      "text/html": [
       "<style type=\"text/css\">\n",
       "#T_d3aef th {\n",
       "  text-align: left;\n",
       "}\n",
       "#T_d3aef_row0_col0, #T_d3aef_row0_col1, #T_d3aef_row1_col0, #T_d3aef_row1_col1, #T_d3aef_row2_col0, #T_d3aef_row2_col1, #T_d3aef_row3_col0, #T_d3aef_row3_col1, #T_d3aef_row4_col0, #T_d3aef_row4_col1 {\n",
       "  text-align: left;\n",
       "}\n",
       "</style>\n",
       "<table id=\"T_d3aef\" style=\"font-size: 14px\">\n",
       "  <thead>\n",
       "    <tr>\n",
       "      <th id=\"T_d3aef_level0_col0\" class=\"col_heading level0 col0\" >Version</th>\n",
       "      <th id=\"T_d3aef_level0_col1\" class=\"col_heading level0 col1\" >1</th>\n",
       "    </tr>\n",
       "  </thead>\n",
       "  <tbody>\n",
       "    <tr>\n",
       "      <td id=\"T_d3aef_row0_col0\" class=\"data row0 col0\" >Version Date</td>\n",
       "      <td id=\"T_d3aef_row0_col1\" class=\"data row0 col1\" >01 Nov 2021</td>\n",
       "    </tr>\n",
       "    <tr>\n",
       "      <td id=\"T_d3aef_row1_col0\" class=\"data row1 col0\" >Number of Variables</td>\n",
       "      <td id=\"T_d3aef_row1_col1\" class=\"data row1 col1\" >647</td>\n",
       "    </tr>\n",
       "    <tr>\n",
       "      <td id=\"T_d3aef_row2_col0\" class=\"data row2 col0\" >Number of Observations</td>\n",
       "      <td id=\"T_d3aef_row2_col1\" class=\"data row2 col1\" >8736</td>\n",
       "    </tr>\n",
       "    <tr>\n",
       "      <td id=\"T_d3aef_row3_col0\" class=\"data row3 col0\" >DOI</td>\n",
       "      <td id=\"T_d3aef_row3_col1\" class=\"data row3 col1\" > <a href=\"https://doi.org/10.71760/ukllc-dataset-00097-01\" rel=\"noopener noreferrer\" target=\"_blank\">10.71760/ukllc-dataset-00097-01</a></td>\n",
       "    </tr>\n",
       "    <tr>\n",
       "      <td id=\"T_d3aef_row4_col0\" class=\"data row4 col0\" >Change Log</td>\n",
       "      <td id=\"T_d3aef_row4_col1\" class=\"data row4 col1\" > <a href=\"https://api.test.datacite.org/dois/10.71760/ukllc-dataset-00097-01/activities\" rel=\"noopener noreferrer\" target=\"_blank\">10.71760/ukllc-dataset-00097-01/activities</a></td>\n",
       "    </tr>\n",
       "  </tbody>\n",
       "</table>\n"
      ],
      "text/plain": [
       "<pandas.io.formats.style.Styler at 0x24123b9dd60>"
      ]
     },
     "execution_count": 4,
     "metadata": {},
     "output_type": "execute_result"
    }
   ],
   "source": [
    "ds.version_history()"
   ]
  },
  {
   "cell_type": "markdown",
   "id": "415c9626",
   "metadata": {},
   "source": [
    "## 3. Documentation"
   ]
  },
  {
   "cell_type": "code",
   "execution_count": 5,
   "id": "5715ff11",
   "metadata": {
    "execution": {
     "iopub.execute_input": "2025-07-28T18:17:07.122943Z",
     "iopub.status.busy": "2025-07-28T18:17:07.122943Z",
     "iopub.status.idle": "2025-07-28T18:17:07.131243Z",
     "shell.execute_reply": "2025-07-28T18:17:07.130235Z"
    },
    "tags": [
     "remove-input"
    ]
   },
   "outputs": [
    {
     "data": {
      "text/markdown": [
       "We are currently building a documentation storage system which will host useful documents related to datasets and data owners. We will surface these documents on Guidebook."
      ],
      "text/plain": [
       "<IPython.core.display.Markdown object>"
      ]
     },
     "metadata": {},
     "output_type": "display_data"
    }
   ],
   "source": [
    "ds.documentation()"
   ]
  },
  {
   "cell_type": "markdown",
   "id": "09ff7368",
   "metadata": {},
   "source": [
    "## 4. Useful Syntax"
   ]
  },
  {
   "cell_type": "code",
   "execution_count": 6,
   "id": "7b3ae9d3",
   "metadata": {
    "execution": {
     "iopub.execute_input": "2025-07-28T18:17:07.137243Z",
     "iopub.status.busy": "2025-07-28T18:17:07.137243Z",
     "iopub.status.idle": "2025-07-28T18:17:07.148542Z",
     "shell.execute_reply": "2025-07-28T18:17:07.147535Z"
    },
    "tags": [
     "remove-input"
    ]
   },
   "outputs": [
    {
     "data": {
      "text/markdown": [
       "Below we will include syntax that may be helpful to other researchers in the UK LLC TRE. For longer scripts, we will include a snippet of the code plus a link to Git where you can find the full scripts."
      ],
      "text/plain": [
       "<IPython.core.display.Markdown object>"
      ]
     },
     "metadata": {},
     "output_type": "display_data"
    }
   ],
   "source": [
    "ds.useful_syntax()"
   ]
  }
 ],
 "metadata": {
  "language_info": {
   "codemirror_mode": {
    "name": "ipython",
    "version": 3
   },
   "file_extension": ".py",
   "mimetype": "text/x-python",
   "name": "python",
   "nbconvert_exporter": "python",
   "pygments_lexer": "ipython3",
   "version": "3.12.7"
  }
 },
 "nbformat": 4,
 "nbformat_minor": 5
}
