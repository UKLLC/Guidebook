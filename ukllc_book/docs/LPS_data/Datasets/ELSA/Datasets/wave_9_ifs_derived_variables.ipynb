{
 "cells": [
  {
   "cell_type": "markdown",
   "id": "bc391930",
   "metadata": {},
   "source": [
    "# ELSA Wave 9 Institute for Fiscal Studies (IFS) Derived Variables (ELSA)"
   ]
  },
  {
   "cell_type": "code",
   "execution_count": null,
   "id": "3ae9736e",
   "metadata": {
    "tags": [
     "remove-input"
    ]
   },
   "outputs": [],
   "source": [
    "\n",
    "import sys\n",
    "import os\n",
    "sys.path.append(os.path.abspath('../../../../scripts/'))\n",
    "from data_doc_helper import LPSDataSet as DS\n",
    "API_KEY = os.environ['FASTAPI_KEY']\n",
    "ds = DS(\"ELSA\", \"wave_9_ifs_derived_variables\")\n"
   ]
  },
  {
   "cell_type": "markdown",
   "id": "da3e1c6e",
   "metadata": {},
   "source": [
    "## 1. Summary"
   ]
  },
  {
   "cell_type": "code",
   "execution_count": null,
   "id": "94cd0097",
   "metadata": {
    "tags": [
     "remove-input"
    ]
   },
   "outputs": [],
   "source": [
    "ds.summary()"
   ]
  },
  {
   "cell_type": "code",
   "execution_count": null,
   "id": "467bba1f",
   "metadata": {
    "tags": [
     "remove-input"
    ]
   },
   "outputs": [],
   "source": [
    "ds.info_table()"
   ]
  },
  {
   "cell_type": "markdown",
   "id": "2ae4347a",
   "metadata": {},
   "source": [
    "## 2. Version History"
   ]
  },
  {
   "cell_type": "code",
   "execution_count": null,
   "id": "4681f63f",
   "metadata": {
    "tags": [
     "remove-input"
    ]
   },
   "outputs": [],
   "source": [
    "ds.version_history()"
   ]
  },
  {
   "cell_type": "markdown",
   "id": "9778779e",
   "metadata": {},
   "source": [
    "## 3. Change Log"
   ]
  },
  {
   "cell_type": "code",
   "execution_count": null,
   "id": "ab098f31",
   "metadata": {
    "tags": [
     "remove-input"
    ]
   },
   "outputs": [],
   "source": [
    "ds.change_log()"
   ]
  },
  {
   "cell_type": "markdown",
   "id": "40a7b9ec",
   "metadata": {},
   "source": [
    "## 4. Documentation"
   ]
  },
  {
   "cell_type": "code",
   "execution_count": null,
   "id": "f2613058",
   "metadata": {
    "tags": [
     "remove-input"
    ]
   },
   "outputs": [],
   "source": [
    "ds.documentation()"
   ]
  },
  {
   "cell_type": "markdown",
   "id": "285c907a",
   "metadata": {},
   "source": [
    "## 5. Useful Syntax"
   ]
  },
  {
   "cell_type": "code",
   "execution_count": null,
   "id": "0957d7e2",
   "metadata": {
    "tags": [
     "remove-input"
    ]
   },
   "outputs": [],
   "source": [
    "ds.useful_syntax()"
   ]
  }
 ],
 "metadata": {},
 "nbformat": 4,
 "nbformat_minor": 5
}
