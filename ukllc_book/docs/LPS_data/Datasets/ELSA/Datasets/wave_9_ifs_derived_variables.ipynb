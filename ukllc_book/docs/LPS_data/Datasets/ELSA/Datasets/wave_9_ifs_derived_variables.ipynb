{
 "cells": [
  {
   "cell_type": "markdown",
   "id": "b44fd025",
   "metadata": {},
   "source": [
    "# ELSA Wave 9 Institute for Fiscal Studies (IFS) Derived Variables (ELSA)"
   ]
  },
  {
   "cell_type": "code",
   "execution_count": 1,
   "id": "7168d4aa",
   "metadata": {
    "execution": {
     "iopub.execute_input": "2025-07-17T15:17:31.074430Z",
     "iopub.status.busy": "2025-07-17T15:17:31.073431Z",
     "iopub.status.idle": "2025-07-17T15:17:39.276055Z",
     "shell.execute_reply": "2025-07-17T15:17:39.274043Z"
    },
    "tags": [
     "remove-input"
    ]
   },
   "outputs": [
    {
     "data": {
      "text/markdown": [
       ">Last modified: 17 Jul 2025"
      ],
      "text/plain": [
       "<IPython.core.display.Markdown object>"
      ]
     },
     "metadata": {},
     "output_type": "display_data"
    }
   ],
   "source": [
    "\n",
    "import sys\n",
    "import os\n",
    "sys.path.append(os.path.abspath('../../../../scripts/'))\n",
    "from data_doc_helper import LPSDataSet as DS, last_modified\n",
    "API_KEY = os.environ['FASTAPI_KEY']\n",
    "ds = DS(\"ELSA\", \"wave_9_ifs_derived_variables\")\n",
    "last_modified()\n"
   ]
  },
  {
   "cell_type": "markdown",
   "id": "d11c45f7",
   "metadata": {},
   "source": [
    "## 1. Summary"
   ]
  },
  {
   "cell_type": "code",
   "execution_count": 2,
   "id": "780f6d4c",
   "metadata": {
    "execution": {
     "iopub.execute_input": "2025-07-17T15:17:39.283069Z",
     "iopub.status.busy": "2025-07-17T15:17:39.282071Z",
     "iopub.status.idle": "2025-07-17T15:17:39.292514Z",
     "shell.execute_reply": "2025-07-17T15:17:39.290931Z"
    },
    "tags": [
     "remove-input"
    ]
   },
   "outputs": [
    {
     "data": {
      "text/markdown": [
       "Participants from the ELSA sample were invited to take part in a face-to-face interview in 2018-2019. Respondents took part in a interview on a nmber of topics but this block contains non-financial variables that are cleaned and derived from the main ELSA survey"
      ],
      "text/plain": [
       "<IPython.core.display.Markdown object>"
      ]
     },
     "metadata": {},
     "output_type": "display_data"
    }
   ],
   "source": [
    "ds.summary()"
   ]
  },
  {
   "cell_type": "code",
   "execution_count": 3,
   "id": "938b55a5",
   "metadata": {
    "execution": {
     "iopub.execute_input": "2025-07-17T15:17:39.298850Z",
     "iopub.status.busy": "2025-07-17T15:17:39.298850Z",
     "iopub.status.idle": "2025-07-17T15:17:40.581851Z",
     "shell.execute_reply": "2025-07-17T15:17:40.579823Z"
    },
    "tags": [
     "remove-input"
    ]
   },
   "outputs": [
    {
     "data": {
      "text/html": [
       "<style type=\"text/css\">\n",
       "#T_43a97 th {\n",
       "  text-align: left;\n",
       "}\n",
       "#T_43a97_row0_col0, #T_43a97_row0_col1, #T_43a97_row1_col0, #T_43a97_row1_col1, #T_43a97_row2_col0, #T_43a97_row2_col1, #T_43a97_row3_col0, #T_43a97_row3_col1, #T_43a97_row4_col0, #T_43a97_row4_col1, #T_43a97_row5_col0, #T_43a97_row5_col1, #T_43a97_row6_col0, #T_43a97_row6_col1, #T_43a97_row7_col0, #T_43a97_row7_col1, #T_43a97_row8_col0, #T_43a97_row8_col1, #T_43a97_row9_col0, #T_43a97_row9_col1, #T_43a97_row10_col0, #T_43a97_row10_col1, #T_43a97_row11_col0, #T_43a97_row11_col1, #T_43a97_row12_col0, #T_43a97_row12_col1 {\n",
       "  text-align: left;\n",
       "}\n",
       "</style>\n",
       "<table id=\"T_43a97\" style=\"font-size: 14px\">\n",
       "  <thead>\n",
       "    <tr>\n",
       "      <th id=\"T_43a97_level0_col0\" class=\"col_heading level0 col0\" >Dataset Descriptor</th>\n",
       "      <th id=\"T_43a97_level0_col1\" class=\"col_heading level0 col1\" >Dataset-specific Information</th>\n",
       "    </tr>\n",
       "  </thead>\n",
       "  <tbody>\n",
       "    <tr>\n",
       "      <td id=\"T_43a97_row0_col0\" class=\"data row0 col0\" >Name of Dataset in TRE</td>\n",
       "      <td id=\"T_43a97_row0_col1\" class=\"data row0 col1\" >ELSA_wave_9_ifs_derived_variables</td>\n",
       "    </tr>\n",
       "    <tr>\n",
       "      <td id=\"T_43a97_row1_col0\" class=\"data row1 col0\" >Citation (APA)</td>\n",
       "      <td id=\"T_43a97_row1_col1\" class=\"data row1 col1\" >University College London, National Centre for Social Research, The Institute for Fiscal Studies, The University of East Anglia, and The University of Manchester. (2021). <i>English Longitudinal Study of Ageing (ELSA): ELSA Wave 9 Institute for Fiscal Studies (IFS) Derived Variables.</i> UK Longitudinal Linkage Collaboration (UK LLC).  <a href=\"https://doi.org/10.83126/ukllc-dataset-00184-01\" rel=\"noopener noreferrer\" target=\"_blank\">https://doi.org/10.83126/ukllc-dataset-00184-01</a></td>\n",
       "    </tr>\n",
       "    <tr>\n",
       "      <td id=\"T_43a97_row2_col0\" class=\"data row2 col0\" >Download Citation</td>\n",
       "      <td id=\"T_43a97_row2_col1\" class=\"data row2 col1\" > <a href=\"https://api.test.datacite.org/application/vnd.citationstyles.csl+json/10.83126/ukllc-dataset-00184-01\" rel=\"noopener noreferrer\" target=\"_blank\">Citeproc JSON</a>&nbsp;&nbsp;&nbsp;&nbsp; <a href=\"https://api.test.datacite.org/application/x-bibtex/10.83126/ukllc-dataset-00184-01\" rel=\"noopener noreferrer\" target=\"_blank\">BibTeX</a>&nbsp;&nbsp;&nbsp;&nbsp; <a href=\"https://api.test.datacite.org/application/x-research-info-systems/10.83126/ukllc-dataset-00184-01\" rel=\"noopener noreferrer\" target=\"_blank\">RIS</a></td>\n",
       "    </tr>\n",
       "    <tr>\n",
       "      <td id=\"T_43a97_row3_col0\" class=\"data row3 col0\" >Series</td>\n",
       "      <td id=\"T_43a97_row3_col1\" class=\"data row3 col1\" > <a href=\"https://guidebook.ukllc.ac.uk/docs/lps/lps%20profiles/ELSA\">English Longitudinal Study of Ageing (ELSA)</a></td>\n",
       "    </tr>\n",
       "    <tr>\n",
       "      <td id=\"T_43a97_row4_col0\" class=\"data row4 col0\" >Owner</td>\n",
       "      <td id=\"T_43a97_row4_col1\" class=\"data row4 col1\" >UCL</td>\n",
       "    </tr>\n",
       "    <tr>\n",
       "      <td id=\"T_43a97_row5_col0\" class=\"data row5 col0\" >Temporal Coverage</td>\n",
       "      <td id=\"T_43a97_row5_col1\" class=\"data row5 col1\" >06/2018 - 07/2019</td>\n",
       "    </tr>\n",
       "    <tr>\n",
       "      <td id=\"T_43a97_row6_col0\" class=\"data row6 col0\" >Keywords</td>\n",
       "      <td id=\"T_43a97_row6_col1\" class=\"data row6 col1\" >demographics,expectations,health,children,expenditure,employment</td>\n",
       "    </tr>\n",
       "    <tr>\n",
       "      <td id=\"T_43a97_row7_col0\" class=\"data row7 col0\" >Participants Invited</td>\n",
       "      <td id=\"T_43a97_row7_col1\" class=\"data row7 col1\" >8736</td>\n",
       "    </tr>\n",
       "    <tr>\n",
       "      <td id=\"T_43a97_row8_col0\" class=\"data row8 col0\" >Participant Count</td>\n",
       "      <td id=\"T_43a97_row8_col1\" class=\"data row8 col1\" >8736</td>\n",
       "    </tr>\n",
       "    <tr>\n",
       "      <td id=\"T_43a97_row9_col0\" class=\"data row9 col0\" >Number of variables</td>\n",
       "      <td id=\"T_43a97_row9_col1\" class=\"data row9 col1\" >405</td>\n",
       "    </tr>\n",
       "    <tr>\n",
       "      <td id=\"T_43a97_row10_col0\" class=\"data row10 col0\" >Number of observations</td>\n",
       "      <td id=\"T_43a97_row10_col1\" class=\"data row10 col1\" >8736</td>\n",
       "    </tr>\n",
       "    <tr>\n",
       "      <td id=\"T_43a97_row11_col0\" class=\"data row11 col0\" >Specific Restrictions to Data Use</td>\n",
       "      <td id=\"T_43a97_row11_col1\" class=\"data row11 col1\" >None</td>\n",
       "    </tr>\n",
       "    <tr>\n",
       "      <td id=\"T_43a97_row12_col0\" class=\"data row12 col0\" >Build a Data Request</td>\n",
       "      <td id=\"T_43a97_row12_col1\" class=\"data row12 col1\" > <a href=\"https://explore.ukllc.ac.uk/\" rel=\"noopener noreferrer\" target=\"_blank\">https://explore.ukllc.ac.uk/</a></td>\n",
       "    </tr>\n",
       "  </tbody>\n",
       "</table>\n"
      ],
      "text/plain": [
       "<pandas.io.formats.style.Styler at 0x2a9f722d130>"
      ]
     },
     "execution_count": 3,
     "metadata": {},
     "output_type": "execute_result"
    }
   ],
   "source": [
    "ds.info_table()"
   ]
  },
  {
   "cell_type": "markdown",
   "id": "9ef5d171",
   "metadata": {},
   "source": [
    "## 2. Version History"
   ]
  },
  {
   "cell_type": "code",
   "execution_count": 4,
   "id": "d1e3c4e7",
   "metadata": {
    "execution": {
     "iopub.execute_input": "2025-07-17T15:17:40.586864Z",
     "iopub.status.busy": "2025-07-17T15:17:40.585919Z",
     "iopub.status.idle": "2025-07-17T15:17:42.902121Z",
     "shell.execute_reply": "2025-07-17T15:17:42.901110Z"
    },
    "tags": [
     "remove-input"
    ]
   },
   "outputs": [
    {
     "data": {
      "text/html": [
       "<style type=\"text/css\">\n",
       "#T_2c5bb th {\n",
       "  text-align: left;\n",
       "}\n",
       "#T_2c5bb_row0_col0, #T_2c5bb_row0_col1, #T_2c5bb_row1_col0, #T_2c5bb_row1_col1, #T_2c5bb_row2_col0, #T_2c5bb_row2_col1, #T_2c5bb_row3_col0, #T_2c5bb_row3_col1, #T_2c5bb_row4_col0, #T_2c5bb_row4_col1 {\n",
       "  text-align: left;\n",
       "}\n",
       "</style>\n",
       "<table id=\"T_2c5bb\" style=\"font-size: 14px\">\n",
       "  <thead>\n",
       "    <tr>\n",
       "      <th id=\"T_2c5bb_level0_col0\" class=\"col_heading level0 col0\" >Version</th>\n",
       "      <th id=\"T_2c5bb_level0_col1\" class=\"col_heading level0 col1\" >1</th>\n",
       "    </tr>\n",
       "  </thead>\n",
       "  <tbody>\n",
       "    <tr>\n",
       "      <td id=\"T_2c5bb_row0_col0\" class=\"data row0 col0\" >Version Date</td>\n",
       "      <td id=\"T_2c5bb_row0_col1\" class=\"data row0 col1\" >01 Nov 2021</td>\n",
       "    </tr>\n",
       "    <tr>\n",
       "      <td id=\"T_2c5bb_row1_col0\" class=\"data row1 col0\" >Number of Variables</td>\n",
       "      <td id=\"T_2c5bb_row1_col1\" class=\"data row1 col1\" >405</td>\n",
       "    </tr>\n",
       "    <tr>\n",
       "      <td id=\"T_2c5bb_row2_col0\" class=\"data row2 col0\" >Number of Observations</td>\n",
       "      <td id=\"T_2c5bb_row2_col1\" class=\"data row2 col1\" >8736</td>\n",
       "    </tr>\n",
       "    <tr>\n",
       "      <td id=\"T_2c5bb_row3_col0\" class=\"data row3 col0\" >DOI</td>\n",
       "      <td id=\"T_2c5bb_row3_col1\" class=\"data row3 col1\" > <a href=\"https://doi.org/10.83126/ukllc-dataset-00184-01\" rel=\"noopener noreferrer\" target=\"_blank\">10.83126/ukllc-dataset-00184-01</a></td>\n",
       "    </tr>\n",
       "    <tr>\n",
       "      <td id=\"T_2c5bb_row4_col0\" class=\"data row4 col0\" >Change Log</td>\n",
       "      <td id=\"T_2c5bb_row4_col1\" class=\"data row4 col1\" > <a href=\"https://api.test.datacite.org/dois/10.83126/ukllc-dataset-00184-01/activities\" rel=\"noopener noreferrer\" target=\"_blank\">10.83126/ukllc-dataset-00184-01/activities</a></td>\n",
       "    </tr>\n",
       "  </tbody>\n",
       "</table>\n"
      ],
      "text/plain": [
       "<pandas.io.formats.style.Styler at 0x2a9f91e0b90>"
      ]
     },
     "execution_count": 4,
     "metadata": {},
     "output_type": "execute_result"
    }
   ],
   "source": [
    "ds.version_history()"
   ]
  },
  {
   "cell_type": "markdown",
   "id": "2c0faa11",
   "metadata": {},
   "source": [
    "## 3. Documentation"
   ]
  },
  {
   "cell_type": "code",
   "execution_count": 5,
   "id": "9e2db3c6",
   "metadata": {
    "execution": {
     "iopub.execute_input": "2025-07-17T15:17:42.907483Z",
     "iopub.status.busy": "2025-07-17T15:17:42.907483Z",
     "iopub.status.idle": "2025-07-17T15:17:42.917056Z",
     "shell.execute_reply": "2025-07-17T15:17:42.915985Z"
    },
    "tags": [
     "remove-input"
    ]
   },
   "outputs": [
    {
     "data": {
      "text/markdown": [
       "We are currently building a documentation storage system which will host useful documents related to datasets and data owners. We will surface these documents on Guidebook."
      ],
      "text/plain": [
       "<IPython.core.display.Markdown object>"
      ]
     },
     "metadata": {},
     "output_type": "display_data"
    }
   ],
   "source": [
    "ds.documentation()"
   ]
  },
  {
   "cell_type": "markdown",
   "id": "2edfae78",
   "metadata": {},
   "source": [
    "## 4. Useful Syntax"
   ]
  },
  {
   "cell_type": "code",
   "execution_count": 6,
   "id": "65bd6117",
   "metadata": {
    "execution": {
     "iopub.execute_input": "2025-07-17T15:17:42.923000Z",
     "iopub.status.busy": "2025-07-17T15:17:42.922000Z",
     "iopub.status.idle": "2025-07-17T15:17:42.930164Z",
     "shell.execute_reply": "2025-07-17T15:17:42.929154Z"
    },
    "tags": [
     "remove-input"
    ]
   },
   "outputs": [
    {
     "data": {
      "text/markdown": [
       "Below we will include syntax that may be helpful to other researchers in the UK LLC TRE. For longer scripts, we will include a snippet of the code plus a link to Git where you can find the full scripts."
      ],
      "text/plain": [
       "<IPython.core.display.Markdown object>"
      ]
     },
     "metadata": {},
     "output_type": "display_data"
    }
   ],
   "source": [
    "ds.useful_syntax()"
   ]
  }
 ],
 "metadata": {
  "language_info": {
   "codemirror_mode": {
    "name": "ipython",
    "version": 3
   },
   "file_extension": ".py",
   "mimetype": "text/x-python",
   "name": "python",
   "nbconvert_exporter": "python",
   "pygments_lexer": "ipython3",
   "version": "3.12.7"
  }
 },
 "nbformat": 4,
 "nbformat_minor": 5
}
