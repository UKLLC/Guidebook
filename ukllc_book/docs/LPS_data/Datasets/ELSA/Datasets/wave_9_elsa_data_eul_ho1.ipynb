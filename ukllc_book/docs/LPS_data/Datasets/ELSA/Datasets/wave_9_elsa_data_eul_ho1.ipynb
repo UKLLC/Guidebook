{
 "cells": [
  {
   "cell_type": "markdown",
   "id": "99261d68",
   "metadata": {},
   "source": [
    "# ELSA Wave 9 Data (EUL) Housing 1 (ELSA)"
   ]
  },
  {
   "cell_type": "code",
   "execution_count": 1,
   "id": "1f5a0c32",
   "metadata": {
    "execution": {
     "iopub.execute_input": "2025-07-28T18:16:07.286425Z",
     "iopub.status.busy": "2025-07-28T18:16:07.286425Z",
     "iopub.status.idle": "2025-07-28T18:16:18.698440Z",
     "shell.execute_reply": "2025-07-28T18:16:18.698440Z"
    },
    "tags": [
     "remove-input"
    ]
   },
   "outputs": [
    {
     "data": {
      "text/markdown": [
       ">Last modified: 28 Jul 2025"
      ],
      "text/plain": [
       "<IPython.core.display.Markdown object>"
      ]
     },
     "metadata": {},
     "output_type": "display_data"
    }
   ],
   "source": [
    "\n",
    "import sys\n",
    "import os\n",
    "sys.path.append(os.path.abspath('../../../../scripts/'))\n",
    "from data_doc_helper import LPSDataSet as DS, last_modified\n",
    "API_KEY = os.environ['FASTAPI_KEY']\n",
    "ds = DS(\"ELSA\", \"wave_9_elsa_data_eul_ho1\")\n",
    "last_modified()\n"
   ]
  },
  {
   "cell_type": "markdown",
   "id": "bc4c9e75",
   "metadata": {},
   "source": [
    "## 1. Summary"
   ]
  },
  {
   "cell_type": "code",
   "execution_count": 2,
   "id": "21f77472",
   "metadata": {
    "execution": {
     "iopub.execute_input": "2025-07-28T18:16:18.702458Z",
     "iopub.status.busy": "2025-07-28T18:16:18.701450Z",
     "iopub.status.idle": "2025-07-28T18:16:18.708321Z",
     "shell.execute_reply": "2025-07-28T18:16:18.708321Z"
    },
    "tags": [
     "remove-input"
    ]
   },
   "outputs": [
    {
     "data": {
      "text/markdown": [
       "Participants from the ELSA sample were invited to take part in a face-to-face interview in 2018-2019. Respondents took part in a interview on a nmber of topics but this block contains only variables from the ho (housing) module"
      ],
      "text/plain": [
       "<IPython.core.display.Markdown object>"
      ]
     },
     "metadata": {},
     "output_type": "display_data"
    }
   ],
   "source": [
    "ds.summary()"
   ]
  },
  {
   "cell_type": "code",
   "execution_count": 3,
   "id": "a12bea4d",
   "metadata": {
    "execution": {
     "iopub.execute_input": "2025-07-28T18:16:18.713770Z",
     "iopub.status.busy": "2025-07-28T18:16:18.712770Z",
     "iopub.status.idle": "2025-07-28T18:16:20.124757Z",
     "shell.execute_reply": "2025-07-28T18:16:20.122761Z"
    },
    "tags": [
     "remove-input"
    ]
   },
   "outputs": [
    {
     "data": {
      "text/html": [
       "<style type=\"text/css\">\n",
       "#T_5f22e th {\n",
       "  text-align: left;\n",
       "}\n",
       "#T_5f22e_row0_col0, #T_5f22e_row0_col1, #T_5f22e_row1_col0, #T_5f22e_row1_col1, #T_5f22e_row2_col0, #T_5f22e_row2_col1, #T_5f22e_row3_col0, #T_5f22e_row3_col1, #T_5f22e_row4_col0, #T_5f22e_row4_col1, #T_5f22e_row5_col0, #T_5f22e_row5_col1, #T_5f22e_row6_col0, #T_5f22e_row6_col1, #T_5f22e_row7_col0, #T_5f22e_row7_col1, #T_5f22e_row8_col0, #T_5f22e_row8_col1, #T_5f22e_row9_col0, #T_5f22e_row9_col1, #T_5f22e_row10_col0, #T_5f22e_row10_col1, #T_5f22e_row11_col0, #T_5f22e_row11_col1, #T_5f22e_row12_col0, #T_5f22e_row12_col1 {\n",
       "  text-align: left;\n",
       "}\n",
       "</style>\n",
       "<table id=\"T_5f22e\" style=\"font-size: 14px\">\n",
       "  <thead>\n",
       "    <tr>\n",
       "      <th id=\"T_5f22e_level0_col0\" class=\"col_heading level0 col0\" >Dataset Descriptor</th>\n",
       "      <th id=\"T_5f22e_level0_col1\" class=\"col_heading level0 col1\" >Dataset-specific Information</th>\n",
       "    </tr>\n",
       "  </thead>\n",
       "  <tbody>\n",
       "    <tr>\n",
       "      <td id=\"T_5f22e_row0_col0\" class=\"data row0 col0\" >Name of Dataset in TRE</td>\n",
       "      <td id=\"T_5f22e_row0_col1\" class=\"data row0 col1\" >ELSA_wave_9_elsa_data_eul_ho1</td>\n",
       "    </tr>\n",
       "    <tr>\n",
       "      <td id=\"T_5f22e_row1_col0\" class=\"data row1 col0\" >Citation (APA)</td>\n",
       "      <td id=\"T_5f22e_row1_col1\" class=\"data row1 col1\" >University College London, National Centre for Social Research, The Institute for Fiscal Studies, The University of East Anglia, and The University of Manchester. (2021). <i>English Longitudinal Study of Ageing (ELSA): ELSA Wave 9 Data (EUL) Housing 1.</i> UK Longitudinal Linkage Collaboration (UK LLC).  <a href=\"https://doi.org/10.71760/ukllc-dataset-00095-01\" rel=\"noopener noreferrer\" target=\"_blank\">https://doi.org/10.71760/ukllc-dataset-00095-01</a></td>\n",
       "    </tr>\n",
       "    <tr>\n",
       "      <td id=\"T_5f22e_row2_col0\" class=\"data row2 col0\" >Download Citation</td>\n",
       "      <td id=\"T_5f22e_row2_col1\" class=\"data row2 col1\" > <a href=\"https://api.datacite.org/application/vnd.citationstyles.csl+json/10.71760/ukllc-dataset-00095-01\" rel=\"noopener noreferrer\" target=\"_blank\">Citeproc JSON</a>&nbsp;&nbsp;&nbsp;&nbsp; <a href=\"https://api.datacite.org/application/x-bibtex/10.71760/ukllc-dataset-00095-01\" rel=\"noopener noreferrer\" target=\"_blank\">BibTeX</a>&nbsp;&nbsp;&nbsp;&nbsp; <a href=\"https://api.datacite.org/application/x-research-info-systems/10.71760/ukllc-dataset-00095-01\" rel=\"noopener noreferrer\" target=\"_blank\">RIS</a></td>\n",
       "    </tr>\n",
       "    <tr>\n",
       "      <td id=\"T_5f22e_row3_col0\" class=\"data row3 col0\" >Series</td>\n",
       "      <td id=\"T_5f22e_row3_col1\" class=\"data row3 col1\" > <a href=\"https://guidebook.ukllc.ac.uk/docs/lps_data/lps%20profiles/ELSA\">English Longitudinal Study of Ageing (ELSA)</a></td>\n",
       "    </tr>\n",
       "    <tr>\n",
       "      <td id=\"T_5f22e_row4_col0\" class=\"data row4 col0\" >Owner</td>\n",
       "      <td id=\"T_5f22e_row4_col1\" class=\"data row4 col1\" >UCL</td>\n",
       "    </tr>\n",
       "    <tr>\n",
       "      <td id=\"T_5f22e_row5_col0\" class=\"data row5 col0\" >Temporal Coverage</td>\n",
       "      <td id=\"T_5f22e_row5_col1\" class=\"data row5 col1\" >06/2018 - 07/2019</td>\n",
       "    </tr>\n",
       "    <tr>\n",
       "      <td id=\"T_5f22e_row6_col0\" class=\"data row6 col0\" >Keywords</td>\n",
       "      <td id=\"T_5f22e_row6_col1\" class=\"data row6 col1\" >housing conditions,household contents,cost of living,vehicle ownership,durable ownership,food expenditures,fuel expenditures,quality of accomodation,tenure.</td>\n",
       "    </tr>\n",
       "    <tr>\n",
       "      <td id=\"T_5f22e_row7_col0\" class=\"data row7 col0\" >Participants Invited</td>\n",
       "      <td id=\"T_5f22e_row7_col1\" class=\"data row7 col1\" >8736</td>\n",
       "    </tr>\n",
       "    <tr>\n",
       "      <td id=\"T_5f22e_row8_col0\" class=\"data row8 col0\" >Participant Count</td>\n",
       "      <td id=\"T_5f22e_row8_col1\" class=\"data row8 col1\" >8736</td>\n",
       "    </tr>\n",
       "    <tr>\n",
       "      <td id=\"T_5f22e_row9_col0\" class=\"data row9 col0\" >Number of variables</td>\n",
       "      <td id=\"T_5f22e_row9_col1\" class=\"data row9 col1\" >990</td>\n",
       "    </tr>\n",
       "    <tr>\n",
       "      <td id=\"T_5f22e_row10_col0\" class=\"data row10 col0\" >Number of observations</td>\n",
       "      <td id=\"T_5f22e_row10_col1\" class=\"data row10 col1\" >8736</td>\n",
       "    </tr>\n",
       "    <tr>\n",
       "      <td id=\"T_5f22e_row11_col0\" class=\"data row11 col0\" >Specific Restrictions to Data Use</td>\n",
       "      <td id=\"T_5f22e_row11_col1\" class=\"data row11 col1\" >None</td>\n",
       "    </tr>\n",
       "    <tr>\n",
       "      <td id=\"T_5f22e_row12_col0\" class=\"data row12 col0\" >Build a Data Request</td>\n",
       "      <td id=\"T_5f22e_row12_col1\" class=\"data row12 col1\" > <a href=\"https://explore.ukllc.ac.uk/\" rel=\"noopener noreferrer\" target=\"_blank\">https://explore.ukllc.ac.uk/</a></td>\n",
       "    </tr>\n",
       "  </tbody>\n",
       "</table>\n"
      ],
      "text/plain": [
       "<pandas.io.formats.style.Styler at 0x277c761de20>"
      ]
     },
     "execution_count": 3,
     "metadata": {},
     "output_type": "execute_result"
    }
   ],
   "source": [
    "ds.info_table()"
   ]
  },
  {
   "cell_type": "markdown",
   "id": "250e5a8a",
   "metadata": {},
   "source": [
    "## 2. Version History"
   ]
  },
  {
   "cell_type": "code",
   "execution_count": 4,
   "id": "da6126a1",
   "metadata": {
    "execution": {
     "iopub.execute_input": "2025-07-28T18:16:20.130760Z",
     "iopub.status.busy": "2025-07-28T18:16:20.130760Z",
     "iopub.status.idle": "2025-07-28T18:16:25.409539Z",
     "shell.execute_reply": "2025-07-28T18:16:25.408516Z"
    },
    "tags": [
     "remove-input"
    ]
   },
   "outputs": [
    {
     "data": {
      "text/html": [
       "<style type=\"text/css\">\n",
       "#T_7a26a th {\n",
       "  text-align: left;\n",
       "}\n",
       "#T_7a26a_row0_col0, #T_7a26a_row0_col1, #T_7a26a_row1_col0, #T_7a26a_row1_col1, #T_7a26a_row2_col0, #T_7a26a_row2_col1, #T_7a26a_row3_col0, #T_7a26a_row3_col1, #T_7a26a_row4_col0, #T_7a26a_row4_col1 {\n",
       "  text-align: left;\n",
       "}\n",
       "</style>\n",
       "<table id=\"T_7a26a\" style=\"font-size: 14px\">\n",
       "  <thead>\n",
       "    <tr>\n",
       "      <th id=\"T_7a26a_level0_col0\" class=\"col_heading level0 col0\" >Version</th>\n",
       "      <th id=\"T_7a26a_level0_col1\" class=\"col_heading level0 col1\" >1</th>\n",
       "    </tr>\n",
       "  </thead>\n",
       "  <tbody>\n",
       "    <tr>\n",
       "      <td id=\"T_7a26a_row0_col0\" class=\"data row0 col0\" >Version Date</td>\n",
       "      <td id=\"T_7a26a_row0_col1\" class=\"data row0 col1\" >01 Nov 2021</td>\n",
       "    </tr>\n",
       "    <tr>\n",
       "      <td id=\"T_7a26a_row1_col0\" class=\"data row1 col0\" >Number of Variables</td>\n",
       "      <td id=\"T_7a26a_row1_col1\" class=\"data row1 col1\" >990</td>\n",
       "    </tr>\n",
       "    <tr>\n",
       "      <td id=\"T_7a26a_row2_col0\" class=\"data row2 col0\" >Number of Observations</td>\n",
       "      <td id=\"T_7a26a_row2_col1\" class=\"data row2 col1\" >8736</td>\n",
       "    </tr>\n",
       "    <tr>\n",
       "      <td id=\"T_7a26a_row3_col0\" class=\"data row3 col0\" >DOI</td>\n",
       "      <td id=\"T_7a26a_row3_col1\" class=\"data row3 col1\" > <a href=\"https://doi.org/10.71760/ukllc-dataset-00095-01\" rel=\"noopener noreferrer\" target=\"_blank\">10.71760/ukllc-dataset-00095-01</a></td>\n",
       "    </tr>\n",
       "    <tr>\n",
       "      <td id=\"T_7a26a_row4_col0\" class=\"data row4 col0\" >Change Log</td>\n",
       "      <td id=\"T_7a26a_row4_col1\" class=\"data row4 col1\" > <a href=\"https://api.test.datacite.org/dois/10.71760/ukllc-dataset-00095-01/activities\" rel=\"noopener noreferrer\" target=\"_blank\">10.71760/ukllc-dataset-00095-01/activities</a></td>\n",
       "    </tr>\n",
       "  </tbody>\n",
       "</table>\n"
      ],
      "text/plain": [
       "<pandas.io.formats.style.Styler at 0x277c945c320>"
      ]
     },
     "execution_count": 4,
     "metadata": {},
     "output_type": "execute_result"
    }
   ],
   "source": [
    "ds.version_history()"
   ]
  },
  {
   "cell_type": "markdown",
   "id": "0e75f161",
   "metadata": {},
   "source": [
    "## 3. Documentation"
   ]
  },
  {
   "cell_type": "code",
   "execution_count": 5,
   "id": "5e270aa3",
   "metadata": {
    "execution": {
     "iopub.execute_input": "2025-07-28T18:16:25.413528Z",
     "iopub.status.busy": "2025-07-28T18:16:25.412525Z",
     "iopub.status.idle": "2025-07-28T18:16:25.421398Z",
     "shell.execute_reply": "2025-07-28T18:16:25.420391Z"
    },
    "tags": [
     "remove-input"
    ]
   },
   "outputs": [
    {
     "data": {
      "text/markdown": [
       "We are currently building a documentation storage system which will host useful documents related to datasets and data owners. We will surface these documents on Guidebook."
      ],
      "text/plain": [
       "<IPython.core.display.Markdown object>"
      ]
     },
     "metadata": {},
     "output_type": "display_data"
    }
   ],
   "source": [
    "ds.documentation()"
   ]
  },
  {
   "cell_type": "markdown",
   "id": "cf5c153c",
   "metadata": {},
   "source": [
    "## 4. Useful Syntax"
   ]
  },
  {
   "cell_type": "code",
   "execution_count": 6,
   "id": "74a5298a",
   "metadata": {
    "execution": {
     "iopub.execute_input": "2025-07-28T18:16:25.427398Z",
     "iopub.status.busy": "2025-07-28T18:16:25.426398Z",
     "iopub.status.idle": "2025-07-28T18:16:25.436180Z",
     "shell.execute_reply": "2025-07-28T18:16:25.435174Z"
    },
    "tags": [
     "remove-input"
    ]
   },
   "outputs": [
    {
     "data": {
      "text/markdown": [
       "Below we will include syntax that may be helpful to other researchers in the UK LLC TRE. For longer scripts, we will include a snippet of the code plus a link to Git where you can find the full scripts."
      ],
      "text/plain": [
       "<IPython.core.display.Markdown object>"
      ]
     },
     "metadata": {},
     "output_type": "display_data"
    }
   ],
   "source": [
    "ds.useful_syntax()"
   ]
  }
 ],
 "metadata": {
  "language_info": {
   "codemirror_mode": {
    "name": "ipython",
    "version": 3
   },
   "file_extension": ".py",
   "mimetype": "text/x-python",
   "name": "python",
   "nbconvert_exporter": "python",
   "pygments_lexer": "ipython3",
   "version": "3.12.7"
  }
 },
 "nbformat": 4,
 "nbformat_minor": 5
}
