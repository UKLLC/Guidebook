{
 "cells": [
  {
   "cell_type": "markdown",
   "id": "99261d68",
   "metadata": {},
   "source": [
    "# ELSA Wave 9 Data (EUL) Housing 1 (ELSA)"
   ]
  },
  {
   "cell_type": "code",
   "execution_count": 1,
   "id": "1f5a0c32",
   "metadata": {
    "execution": {
     "iopub.execute_input": "2025-07-17T15:15:23.298443Z",
     "iopub.status.busy": "2025-07-17T15:15:23.297837Z",
     "iopub.status.idle": "2025-07-17T15:15:31.367990Z",
     "shell.execute_reply": "2025-07-17T15:15:31.366474Z"
    },
    "tags": [
     "remove-input"
    ]
   },
   "outputs": [
    {
     "data": {
      "text/markdown": [
       ">Last modified: 17 Jul 2025"
      ],
      "text/plain": [
       "<IPython.core.display.Markdown object>"
      ]
     },
     "metadata": {},
     "output_type": "display_data"
    }
   ],
   "source": [
    "\n",
    "import sys\n",
    "import os\n",
    "sys.path.append(os.path.abspath('../../../../scripts/'))\n",
    "from data_doc_helper import LPSDataSet as DS, last_modified\n",
    "API_KEY = os.environ['FASTAPI_KEY']\n",
    "ds = DS(\"ELSA\", \"wave_9_elsa_data_eul_ho1\")\n",
    "last_modified()\n"
   ]
  },
  {
   "cell_type": "markdown",
   "id": "bc4c9e75",
   "metadata": {},
   "source": [
    "## 1. Summary"
   ]
  },
  {
   "cell_type": "code",
   "execution_count": 2,
   "id": "21f77472",
   "metadata": {
    "execution": {
     "iopub.execute_input": "2025-07-17T15:15:31.374993Z",
     "iopub.status.busy": "2025-07-17T15:15:31.374993Z",
     "iopub.status.idle": "2025-07-17T15:15:31.385338Z",
     "shell.execute_reply": "2025-07-17T15:15:31.383853Z"
    },
    "tags": [
     "remove-input"
    ]
   },
   "outputs": [
    {
     "data": {
      "text/markdown": [
       "Participants from the ELSA sample were invited to take part in a face-to-face interview in 2018-2019. Respondents took part in a interview on a nmber of topics but this block contains only variables from the ho (housing) module"
      ],
      "text/plain": [
       "<IPython.core.display.Markdown object>"
      ]
     },
     "metadata": {},
     "output_type": "display_data"
    }
   ],
   "source": [
    "ds.summary()"
   ]
  },
  {
   "cell_type": "code",
   "execution_count": 3,
   "id": "a12bea4d",
   "metadata": {
    "execution": {
     "iopub.execute_input": "2025-07-17T15:15:31.392368Z",
     "iopub.status.busy": "2025-07-17T15:15:31.391338Z",
     "iopub.status.idle": "2025-07-17T15:15:32.980311Z",
     "shell.execute_reply": "2025-07-17T15:15:32.980311Z"
    },
    "tags": [
     "remove-input"
    ]
   },
   "outputs": [
    {
     "data": {
      "text/html": [
       "<style type=\"text/css\">\n",
       "#T_6a3e6 th {\n",
       "  text-align: left;\n",
       "}\n",
       "#T_6a3e6_row0_col0, #T_6a3e6_row0_col1, #T_6a3e6_row1_col0, #T_6a3e6_row1_col1, #T_6a3e6_row2_col0, #T_6a3e6_row2_col1, #T_6a3e6_row3_col0, #T_6a3e6_row3_col1, #T_6a3e6_row4_col0, #T_6a3e6_row4_col1, #T_6a3e6_row5_col0, #T_6a3e6_row5_col1, #T_6a3e6_row6_col0, #T_6a3e6_row6_col1, #T_6a3e6_row7_col0, #T_6a3e6_row7_col1, #T_6a3e6_row8_col0, #T_6a3e6_row8_col1, #T_6a3e6_row9_col0, #T_6a3e6_row9_col1, #T_6a3e6_row10_col0, #T_6a3e6_row10_col1, #T_6a3e6_row11_col0, #T_6a3e6_row11_col1, #T_6a3e6_row12_col0, #T_6a3e6_row12_col1 {\n",
       "  text-align: left;\n",
       "}\n",
       "</style>\n",
       "<table id=\"T_6a3e6\" style=\"font-size: 14px\">\n",
       "  <thead>\n",
       "    <tr>\n",
       "      <th id=\"T_6a3e6_level0_col0\" class=\"col_heading level0 col0\" >Dataset Descriptor</th>\n",
       "      <th id=\"T_6a3e6_level0_col1\" class=\"col_heading level0 col1\" >Dataset-specific Information</th>\n",
       "    </tr>\n",
       "  </thead>\n",
       "  <tbody>\n",
       "    <tr>\n",
       "      <td id=\"T_6a3e6_row0_col0\" class=\"data row0 col0\" >Name of Dataset in TRE</td>\n",
       "      <td id=\"T_6a3e6_row0_col1\" class=\"data row0 col1\" >ELSA_wave_9_elsa_data_eul_ho1</td>\n",
       "    </tr>\n",
       "    <tr>\n",
       "      <td id=\"T_6a3e6_row1_col0\" class=\"data row1 col0\" >Citation (APA)</td>\n",
       "      <td id=\"T_6a3e6_row1_col1\" class=\"data row1 col1\" >University College London, National Centre for Social Research, The Institute for Fiscal Studies, The University of East Anglia, and The University of Manchester. (2021). <i>English Longitudinal Study of Ageing (ELSA): ELSA Wave 9 Data (EUL) Housing 1.</i> UK Longitudinal Linkage Collaboration (UK LLC).  <a href=\"https://doi.org/10.83126/ukllc-dataset-00176-01\" rel=\"noopener noreferrer\" target=\"_blank\">https://doi.org/10.83126/ukllc-dataset-00176-01</a></td>\n",
       "    </tr>\n",
       "    <tr>\n",
       "      <td id=\"T_6a3e6_row2_col0\" class=\"data row2 col0\" >Download Citation</td>\n",
       "      <td id=\"T_6a3e6_row2_col1\" class=\"data row2 col1\" > <a href=\"https://api.test.datacite.org/application/vnd.citationstyles.csl+json/10.83126/ukllc-dataset-00176-01\" rel=\"noopener noreferrer\" target=\"_blank\">Citeproc JSON</a>&nbsp;&nbsp;&nbsp;&nbsp; <a href=\"https://api.test.datacite.org/application/x-bibtex/10.83126/ukllc-dataset-00176-01\" rel=\"noopener noreferrer\" target=\"_blank\">BibTeX</a>&nbsp;&nbsp;&nbsp;&nbsp; <a href=\"https://api.test.datacite.org/application/x-research-info-systems/10.83126/ukllc-dataset-00176-01\" rel=\"noopener noreferrer\" target=\"_blank\">RIS</a></td>\n",
       "    </tr>\n",
       "    <tr>\n",
       "      <td id=\"T_6a3e6_row3_col0\" class=\"data row3 col0\" >Series</td>\n",
       "      <td id=\"T_6a3e6_row3_col1\" class=\"data row3 col1\" > <a href=\"https://guidebook.ukllc.ac.uk/docs/lps/lps%20profiles/ELSA\">English Longitudinal Study of Ageing (ELSA)</a></td>\n",
       "    </tr>\n",
       "    <tr>\n",
       "      <td id=\"T_6a3e6_row4_col0\" class=\"data row4 col0\" >Owner</td>\n",
       "      <td id=\"T_6a3e6_row4_col1\" class=\"data row4 col1\" >UCL</td>\n",
       "    </tr>\n",
       "    <tr>\n",
       "      <td id=\"T_6a3e6_row5_col0\" class=\"data row5 col0\" >Temporal Coverage</td>\n",
       "      <td id=\"T_6a3e6_row5_col1\" class=\"data row5 col1\" >06/2018 - 07/2019</td>\n",
       "    </tr>\n",
       "    <tr>\n",
       "      <td id=\"T_6a3e6_row6_col0\" class=\"data row6 col0\" >Keywords</td>\n",
       "      <td id=\"T_6a3e6_row6_col1\" class=\"data row6 col1\" >housing conditions,household contents,cost of living,vehicle ownership,durable ownership,food expenditures,fuel expenditures,quality of accomodation,tenure.</td>\n",
       "    </tr>\n",
       "    <tr>\n",
       "      <td id=\"T_6a3e6_row7_col0\" class=\"data row7 col0\" >Participants Invited</td>\n",
       "      <td id=\"T_6a3e6_row7_col1\" class=\"data row7 col1\" >8736</td>\n",
       "    </tr>\n",
       "    <tr>\n",
       "      <td id=\"T_6a3e6_row8_col0\" class=\"data row8 col0\" >Participant Count</td>\n",
       "      <td id=\"T_6a3e6_row8_col1\" class=\"data row8 col1\" >8736</td>\n",
       "    </tr>\n",
       "    <tr>\n",
       "      <td id=\"T_6a3e6_row9_col0\" class=\"data row9 col0\" >Number of variables</td>\n",
       "      <td id=\"T_6a3e6_row9_col1\" class=\"data row9 col1\" >990</td>\n",
       "    </tr>\n",
       "    <tr>\n",
       "      <td id=\"T_6a3e6_row10_col0\" class=\"data row10 col0\" >Number of observations</td>\n",
       "      <td id=\"T_6a3e6_row10_col1\" class=\"data row10 col1\" >8736</td>\n",
       "    </tr>\n",
       "    <tr>\n",
       "      <td id=\"T_6a3e6_row11_col0\" class=\"data row11 col0\" >Specific Restrictions to Data Use</td>\n",
       "      <td id=\"T_6a3e6_row11_col1\" class=\"data row11 col1\" >None</td>\n",
       "    </tr>\n",
       "    <tr>\n",
       "      <td id=\"T_6a3e6_row12_col0\" class=\"data row12 col0\" >Build a Data Request</td>\n",
       "      <td id=\"T_6a3e6_row12_col1\" class=\"data row12 col1\" > <a href=\"https://explore.ukllc.ac.uk/\" rel=\"noopener noreferrer\" target=\"_blank\">https://explore.ukllc.ac.uk/</a></td>\n",
       "    </tr>\n",
       "  </tbody>\n",
       "</table>\n"
      ],
      "text/plain": [
       "<pandas.io.formats.style.Styler at 0x280a1224a10>"
      ]
     },
     "execution_count": 3,
     "metadata": {},
     "output_type": "execute_result"
    }
   ],
   "source": [
    "ds.info_table()"
   ]
  },
  {
   "cell_type": "markdown",
   "id": "250e5a8a",
   "metadata": {},
   "source": [
    "## 2. Version History"
   ]
  },
  {
   "cell_type": "code",
   "execution_count": 4,
   "id": "da6126a1",
   "metadata": {
    "execution": {
     "iopub.execute_input": "2025-07-17T15:15:32.984807Z",
     "iopub.status.busy": "2025-07-17T15:15:32.984807Z",
     "iopub.status.idle": "2025-07-17T15:15:36.114054Z",
     "shell.execute_reply": "2025-07-17T15:15:36.112036Z"
    },
    "tags": [
     "remove-input"
    ]
   },
   "outputs": [
    {
     "data": {
      "text/html": [
       "<style type=\"text/css\">\n",
       "#T_25e75 th {\n",
       "  text-align: left;\n",
       "}\n",
       "#T_25e75_row0_col0, #T_25e75_row0_col1, #T_25e75_row1_col0, #T_25e75_row1_col1, #T_25e75_row2_col0, #T_25e75_row2_col1, #T_25e75_row3_col0, #T_25e75_row3_col1, #T_25e75_row4_col0, #T_25e75_row4_col1 {\n",
       "  text-align: left;\n",
       "}\n",
       "</style>\n",
       "<table id=\"T_25e75\" style=\"font-size: 14px\">\n",
       "  <thead>\n",
       "    <tr>\n",
       "      <th id=\"T_25e75_level0_col0\" class=\"col_heading level0 col0\" >Version</th>\n",
       "      <th id=\"T_25e75_level0_col1\" class=\"col_heading level0 col1\" >1</th>\n",
       "    </tr>\n",
       "  </thead>\n",
       "  <tbody>\n",
       "    <tr>\n",
       "      <td id=\"T_25e75_row0_col0\" class=\"data row0 col0\" >Version Date</td>\n",
       "      <td id=\"T_25e75_row0_col1\" class=\"data row0 col1\" >01 Nov 2021</td>\n",
       "    </tr>\n",
       "    <tr>\n",
       "      <td id=\"T_25e75_row1_col0\" class=\"data row1 col0\" >Number of Variables</td>\n",
       "      <td id=\"T_25e75_row1_col1\" class=\"data row1 col1\" >990</td>\n",
       "    </tr>\n",
       "    <tr>\n",
       "      <td id=\"T_25e75_row2_col0\" class=\"data row2 col0\" >Number of Observations</td>\n",
       "      <td id=\"T_25e75_row2_col1\" class=\"data row2 col1\" >8736</td>\n",
       "    </tr>\n",
       "    <tr>\n",
       "      <td id=\"T_25e75_row3_col0\" class=\"data row3 col0\" >DOI</td>\n",
       "      <td id=\"T_25e75_row3_col1\" class=\"data row3 col1\" > <a href=\"https://doi.org/10.83126/ukllc-dataset-00176-01\" rel=\"noopener noreferrer\" target=\"_blank\">10.83126/ukllc-dataset-00176-01</a></td>\n",
       "    </tr>\n",
       "    <tr>\n",
       "      <td id=\"T_25e75_row4_col0\" class=\"data row4 col0\" >Change Log</td>\n",
       "      <td id=\"T_25e75_row4_col1\" class=\"data row4 col1\" > <a href=\"https://api.test.datacite.org/dois/10.83126/ukllc-dataset-00176-01/activities\" rel=\"noopener noreferrer\" target=\"_blank\">10.83126/ukllc-dataset-00176-01/activities</a></td>\n",
       "    </tr>\n",
       "  </tbody>\n",
       "</table>\n"
      ],
      "text/plain": [
       "<pandas.io.formats.style.Styler at 0x280a2cee870>"
      ]
     },
     "execution_count": 4,
     "metadata": {},
     "output_type": "execute_result"
    }
   ],
   "source": [
    "ds.version_history()"
   ]
  },
  {
   "cell_type": "markdown",
   "id": "0e75f161",
   "metadata": {},
   "source": [
    "## 3. Documentation"
   ]
  },
  {
   "cell_type": "code",
   "execution_count": 5,
   "id": "5e270aa3",
   "metadata": {
    "execution": {
     "iopub.execute_input": "2025-07-17T15:15:36.120473Z",
     "iopub.status.busy": "2025-07-17T15:15:36.119474Z",
     "iopub.status.idle": "2025-07-17T15:15:36.131019Z",
     "shell.execute_reply": "2025-07-17T15:15:36.129497Z"
    },
    "tags": [
     "remove-input"
    ]
   },
   "outputs": [
    {
     "data": {
      "text/markdown": [
       "We are currently building a documentation storage system which will host useful documents related to datasets and data owners. We will surface these documents on Guidebook."
      ],
      "text/plain": [
       "<IPython.core.display.Markdown object>"
      ]
     },
     "metadata": {},
     "output_type": "display_data"
    }
   ],
   "source": [
    "ds.documentation()"
   ]
  },
  {
   "cell_type": "markdown",
   "id": "cf5c153c",
   "metadata": {},
   "source": [
    "## 4. Useful Syntax"
   ]
  },
  {
   "cell_type": "code",
   "execution_count": 6,
   "id": "74a5298a",
   "metadata": {
    "execution": {
     "iopub.execute_input": "2025-07-17T15:15:36.135916Z",
     "iopub.status.busy": "2025-07-17T15:15:36.135916Z",
     "iopub.status.idle": "2025-07-17T15:15:36.144110Z",
     "shell.execute_reply": "2025-07-17T15:15:36.143622Z"
    },
    "tags": [
     "remove-input"
    ]
   },
   "outputs": [
    {
     "data": {
      "text/markdown": [
       "Below we will include syntax that may be helpful to other researchers in the UK LLC TRE. For longer scripts, we will include a snippet of the code plus a link to Git where you can find the full scripts."
      ],
      "text/plain": [
       "<IPython.core.display.Markdown object>"
      ]
     },
     "metadata": {},
     "output_type": "display_data"
    }
   ],
   "source": [
    "ds.useful_syntax()"
   ]
  }
 ],
 "metadata": {
  "language_info": {
   "codemirror_mode": {
    "name": "ipython",
    "version": 3
   },
   "file_extension": ".py",
   "mimetype": "text/x-python",
   "name": "python",
   "nbconvert_exporter": "python",
   "pygments_lexer": "ipython3",
   "version": "3.12.7"
  }
 },
 "nbformat": 4,
 "nbformat_minor": 5
}
