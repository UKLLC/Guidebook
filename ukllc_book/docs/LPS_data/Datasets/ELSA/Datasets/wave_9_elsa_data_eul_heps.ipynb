{
 "cells": [
  {
   "cell_type": "markdown",
   "id": "869fb371",
   "metadata": {},
   "source": [
    "# Non-financial Derived Variables Wave 9 (ELSA)"
   ]
  },
  {
   "cell_type": "code",
   "execution_count": 1,
   "id": "d6ace66a",
   "metadata": {
    "execution": {
     "iopub.execute_input": "2025-07-28T18:15:43.916264Z",
     "iopub.status.busy": "2025-07-28T18:15:43.916264Z",
     "iopub.status.idle": "2025-07-28T18:15:56.043385Z",
     "shell.execute_reply": "2025-07-28T18:15:56.042374Z"
    },
    "tags": [
     "remove-input"
    ]
   },
   "outputs": [
    {
     "data": {
      "text/markdown": [
       ">Last modified: 28 Jul 2025"
      ],
      "text/plain": [
       "<IPython.core.display.Markdown object>"
      ]
     },
     "metadata": {},
     "output_type": "display_data"
    }
   ],
   "source": [
    "\n",
    "import sys\n",
    "import os\n",
    "sys.path.append(os.path.abspath('../../../../scripts/'))\n",
    "from data_doc_helper import LPSDataSet as DS, last_modified\n",
    "API_KEY = os.environ['FASTAPI_KEY']\n",
    "ds = DS(\"ELSA\", \"wave_9_elsa_data_eul_heps\")\n",
    "last_modified()\n"
   ]
  },
  {
   "cell_type": "markdown",
   "id": "ad8755ea",
   "metadata": {},
   "source": [
    "## 1. Summary"
   ]
  },
  {
   "cell_type": "code",
   "execution_count": 2,
   "id": "71c569d1",
   "metadata": {
    "execution": {
     "iopub.execute_input": "2025-07-28T18:15:56.047845Z",
     "iopub.status.busy": "2025-07-28T18:15:56.047845Z",
     "iopub.status.idle": "2025-07-28T18:15:56.053276Z",
     "shell.execute_reply": "2025-07-28T18:15:56.053276Z"
    },
    "tags": [
     "remove-input"
    ]
   },
   "outputs": [
    {
     "data": {
      "text/markdown": [
       "Takes some of the complex information relating to demographics, health and other circumstances  contained across all the whole ELSA interview creates useful variables for analysis. It includes additional identifers, variables relating to children inside and outside the household, family type, labour market participation, summary pension variables, summary health variables, expectations and expenditure."
      ],
      "text/plain": [
       "<IPython.core.display.Markdown object>"
      ]
     },
     "metadata": {},
     "output_type": "display_data"
    }
   ],
   "source": [
    "ds.summary()"
   ]
  },
  {
   "cell_type": "code",
   "execution_count": 3,
   "id": "62ef53e8",
   "metadata": {
    "execution": {
     "iopub.execute_input": "2025-07-28T18:15:56.057286Z",
     "iopub.status.busy": "2025-07-28T18:15:56.057286Z",
     "iopub.status.idle": "2025-07-28T18:15:57.505613Z",
     "shell.execute_reply": "2025-07-28T18:15:57.503606Z"
    },
    "tags": [
     "remove-input"
    ]
   },
   "outputs": [
    {
     "data": {
      "text/html": [
       "<style type=\"text/css\">\n",
       "#T_18df3 th {\n",
       "  text-align: left;\n",
       "}\n",
       "#T_18df3_row0_col0, #T_18df3_row0_col1, #T_18df3_row1_col0, #T_18df3_row1_col1, #T_18df3_row2_col0, #T_18df3_row2_col1, #T_18df3_row3_col0, #T_18df3_row3_col1, #T_18df3_row4_col0, #T_18df3_row4_col1, #T_18df3_row5_col0, #T_18df3_row5_col1, #T_18df3_row6_col0, #T_18df3_row6_col1, #T_18df3_row7_col0, #T_18df3_row7_col1, #T_18df3_row8_col0, #T_18df3_row8_col1, #T_18df3_row9_col0, #T_18df3_row9_col1, #T_18df3_row10_col0, #T_18df3_row10_col1, #T_18df3_row11_col0, #T_18df3_row11_col1, #T_18df3_row12_col0, #T_18df3_row12_col1 {\n",
       "  text-align: left;\n",
       "}\n",
       "</style>\n",
       "<table id=\"T_18df3\" style=\"font-size: 14px\">\n",
       "  <thead>\n",
       "    <tr>\n",
       "      <th id=\"T_18df3_level0_col0\" class=\"col_heading level0 col0\" >Dataset Descriptor</th>\n",
       "      <th id=\"T_18df3_level0_col1\" class=\"col_heading level0 col1\" >Dataset-specific Information</th>\n",
       "    </tr>\n",
       "  </thead>\n",
       "  <tbody>\n",
       "    <tr>\n",
       "      <td id=\"T_18df3_row0_col0\" class=\"data row0 col0\" >Name of Dataset in TRE</td>\n",
       "      <td id=\"T_18df3_row0_col1\" class=\"data row0 col1\" >ELSA_wave_9_elsa_data_eul_heps</td>\n",
       "    </tr>\n",
       "    <tr>\n",
       "      <td id=\"T_18df3_row1_col0\" class=\"data row1 col0\" >Citation (APA)</td>\n",
       "      <td id=\"T_18df3_row1_col1\" class=\"data row1 col1\" >University College London, National Centre for Social Research, The Institute for Fiscal Studies, The University of East Anglia, and The University of Manchester. (2021). <i>English Longitudinal Study of Ageing (ELSA): Non-financial Derived Variables Wave 9.</i> UK Longitudinal Linkage Collaboration (UK LLC).  <a href=\"https://doi.org/10.71760/ukllc-dataset-00094-01\" rel=\"noopener noreferrer\" target=\"_blank\">https://doi.org/10.71760/ukllc-dataset-00094-01</a></td>\n",
       "    </tr>\n",
       "    <tr>\n",
       "      <td id=\"T_18df3_row2_col0\" class=\"data row2 col0\" >Download Citation</td>\n",
       "      <td id=\"T_18df3_row2_col1\" class=\"data row2 col1\" > <a href=\"https://api.datacite.org/application/vnd.citationstyles.csl+json/10.71760/ukllc-dataset-00094-01\" rel=\"noopener noreferrer\" target=\"_blank\">Citeproc JSON</a>&nbsp;&nbsp;&nbsp;&nbsp; <a href=\"https://api.datacite.org/application/x-bibtex/10.71760/ukllc-dataset-00094-01\" rel=\"noopener noreferrer\" target=\"_blank\">BibTeX</a>&nbsp;&nbsp;&nbsp;&nbsp; <a href=\"https://api.datacite.org/application/x-research-info-systems/10.71760/ukllc-dataset-00094-01\" rel=\"noopener noreferrer\" target=\"_blank\">RIS</a></td>\n",
       "    </tr>\n",
       "    <tr>\n",
       "      <td id=\"T_18df3_row3_col0\" class=\"data row3 col0\" >Series</td>\n",
       "      <td id=\"T_18df3_row3_col1\" class=\"data row3 col1\" > <a href=\"https://guidebook.ukllc.ac.uk/docs/lps_data/lps%20profiles/ELSA\">English Longitudinal Study of Ageing (ELSA)</a></td>\n",
       "    </tr>\n",
       "    <tr>\n",
       "      <td id=\"T_18df3_row4_col0\" class=\"data row4 col0\" >Owner</td>\n",
       "      <td id=\"T_18df3_row4_col1\" class=\"data row4 col1\" >UCL</td>\n",
       "    </tr>\n",
       "    <tr>\n",
       "      <td id=\"T_18df3_row5_col0\" class=\"data row5 col0\" >Temporal Coverage</td>\n",
       "      <td id=\"T_18df3_row5_col1\" class=\"data row5 col1\" >06/2018 - 07/2019</td>\n",
       "    </tr>\n",
       "    <tr>\n",
       "      <td id=\"T_18df3_row6_col0\" class=\"data row6 col0\" >Keywords</td>\n",
       "      <td id=\"T_18df3_row6_col1\" class=\"data row6 col1\" >Physical health,Mental Health,dental health,frailty,mobility,diagnosed health conditions,social prescribing,health behaviours.</td>\n",
       "    </tr>\n",
       "    <tr>\n",
       "      <td id=\"T_18df3_row7_col0\" class=\"data row7 col0\" >Participants Invited</td>\n",
       "      <td id=\"T_18df3_row7_col1\" class=\"data row7 col1\" >8736</td>\n",
       "    </tr>\n",
       "    <tr>\n",
       "      <td id=\"T_18df3_row8_col0\" class=\"data row8 col0\" >Participant Count</td>\n",
       "      <td id=\"T_18df3_row8_col1\" class=\"data row8 col1\" >8736</td>\n",
       "    </tr>\n",
       "    <tr>\n",
       "      <td id=\"T_18df3_row9_col0\" class=\"data row9 col0\" >Number of variables</td>\n",
       "      <td id=\"T_18df3_row9_col1\" class=\"data row9 col1\" >514</td>\n",
       "    </tr>\n",
       "    <tr>\n",
       "      <td id=\"T_18df3_row10_col0\" class=\"data row10 col0\" >Number of observations</td>\n",
       "      <td id=\"T_18df3_row10_col1\" class=\"data row10 col1\" >8736</td>\n",
       "    </tr>\n",
       "    <tr>\n",
       "      <td id=\"T_18df3_row11_col0\" class=\"data row11 col0\" >Specific Restrictions to Data Use</td>\n",
       "      <td id=\"T_18df3_row11_col1\" class=\"data row11 col1\" >None</td>\n",
       "    </tr>\n",
       "    <tr>\n",
       "      <td id=\"T_18df3_row12_col0\" class=\"data row12 col0\" >Build a Data Request</td>\n",
       "      <td id=\"T_18df3_row12_col1\" class=\"data row12 col1\" > <a href=\"https://explore.ukllc.ac.uk/\" rel=\"noopener noreferrer\" target=\"_blank\">https://explore.ukllc.ac.uk/</a></td>\n",
       "    </tr>\n",
       "  </tbody>\n",
       "</table>\n"
      ],
      "text/plain": [
       "<pandas.io.formats.style.Styler at 0x27be92132f0>"
      ]
     },
     "execution_count": 3,
     "metadata": {},
     "output_type": "execute_result"
    }
   ],
   "source": [
    "ds.info_table()"
   ]
  },
  {
   "cell_type": "markdown",
   "id": "df53c229",
   "metadata": {},
   "source": [
    "## 2. Version History"
   ]
  },
  {
   "cell_type": "code",
   "execution_count": 4,
   "id": "fd135be7",
   "metadata": {
    "execution": {
     "iopub.execute_input": "2025-07-28T18:15:57.512613Z",
     "iopub.status.busy": "2025-07-28T18:15:57.511611Z",
     "iopub.status.idle": "2025-07-28T18:16:02.653914Z",
     "shell.execute_reply": "2025-07-28T18:16:02.653914Z"
    },
    "tags": [
     "remove-input"
    ]
   },
   "outputs": [
    {
     "data": {
      "text/html": [
       "<style type=\"text/css\">\n",
       "#T_7d71b th {\n",
       "  text-align: left;\n",
       "}\n",
       "#T_7d71b_row0_col0, #T_7d71b_row0_col1, #T_7d71b_row1_col0, #T_7d71b_row1_col1, #T_7d71b_row2_col0, #T_7d71b_row2_col1, #T_7d71b_row3_col0, #T_7d71b_row3_col1, #T_7d71b_row4_col0, #T_7d71b_row4_col1 {\n",
       "  text-align: left;\n",
       "}\n",
       "</style>\n",
       "<table id=\"T_7d71b\" style=\"font-size: 14px\">\n",
       "  <thead>\n",
       "    <tr>\n",
       "      <th id=\"T_7d71b_level0_col0\" class=\"col_heading level0 col0\" >Version</th>\n",
       "      <th id=\"T_7d71b_level0_col1\" class=\"col_heading level0 col1\" >1</th>\n",
       "    </tr>\n",
       "  </thead>\n",
       "  <tbody>\n",
       "    <tr>\n",
       "      <td id=\"T_7d71b_row0_col0\" class=\"data row0 col0\" >Version Date</td>\n",
       "      <td id=\"T_7d71b_row0_col1\" class=\"data row0 col1\" >01 Nov 2021</td>\n",
       "    </tr>\n",
       "    <tr>\n",
       "      <td id=\"T_7d71b_row1_col0\" class=\"data row1 col0\" >Number of Variables</td>\n",
       "      <td id=\"T_7d71b_row1_col1\" class=\"data row1 col1\" >514</td>\n",
       "    </tr>\n",
       "    <tr>\n",
       "      <td id=\"T_7d71b_row2_col0\" class=\"data row2 col0\" >Number of Observations</td>\n",
       "      <td id=\"T_7d71b_row2_col1\" class=\"data row2 col1\" >8736</td>\n",
       "    </tr>\n",
       "    <tr>\n",
       "      <td id=\"T_7d71b_row3_col0\" class=\"data row3 col0\" >DOI</td>\n",
       "      <td id=\"T_7d71b_row3_col1\" class=\"data row3 col1\" > <a href=\"https://doi.org/10.71760/ukllc-dataset-00094-01\" rel=\"noopener noreferrer\" target=\"_blank\">10.71760/ukllc-dataset-00094-01</a></td>\n",
       "    </tr>\n",
       "    <tr>\n",
       "      <td id=\"T_7d71b_row4_col0\" class=\"data row4 col0\" >Change Log</td>\n",
       "      <td id=\"T_7d71b_row4_col1\" class=\"data row4 col1\" > <a href=\"https://api.test.datacite.org/dois/10.71760/ukllc-dataset-00094-01/activities\" rel=\"noopener noreferrer\" target=\"_blank\">10.71760/ukllc-dataset-00094-01/activities</a></td>\n",
       "    </tr>\n",
       "  </tbody>\n",
       "</table>\n"
      ],
      "text/plain": [
       "<pandas.io.formats.style.Styler at 0x27beaa2d160>"
      ]
     },
     "execution_count": 4,
     "metadata": {},
     "output_type": "execute_result"
    }
   ],
   "source": [
    "ds.version_history()"
   ]
  },
  {
   "cell_type": "markdown",
   "id": "4784bdcc",
   "metadata": {},
   "source": [
    "## 3. Documentation"
   ]
  },
  {
   "cell_type": "code",
   "execution_count": 5,
   "id": "14b89b4b",
   "metadata": {
    "execution": {
     "iopub.execute_input": "2025-07-28T18:16:02.657925Z",
     "iopub.status.busy": "2025-07-28T18:16:02.656924Z",
     "iopub.status.idle": "2025-07-28T18:16:02.663556Z",
     "shell.execute_reply": "2025-07-28T18:16:02.662540Z"
    },
    "tags": [
     "remove-input"
    ]
   },
   "outputs": [
    {
     "data": {
      "text/markdown": [
       "We are currently building a documentation storage system which will host useful documents related to datasets and data owners. We will surface these documents on Guidebook."
      ],
      "text/plain": [
       "<IPython.core.display.Markdown object>"
      ]
     },
     "metadata": {},
     "output_type": "display_data"
    }
   ],
   "source": [
    "ds.documentation()"
   ]
  },
  {
   "cell_type": "markdown",
   "id": "16296e28",
   "metadata": {},
   "source": [
    "## 4. Useful Syntax"
   ]
  },
  {
   "cell_type": "code",
   "execution_count": 6,
   "id": "22f7911e",
   "metadata": {
    "execution": {
     "iopub.execute_input": "2025-07-28T18:16:02.671548Z",
     "iopub.status.busy": "2025-07-28T18:16:02.669548Z",
     "iopub.status.idle": "2025-07-28T18:16:02.682063Z",
     "shell.execute_reply": "2025-07-28T18:16:02.680550Z"
    },
    "tags": [
     "remove-input"
    ]
   },
   "outputs": [
    {
     "data": {
      "text/markdown": [
       "Below we will include syntax that may be helpful to other researchers in the UK LLC TRE. For longer scripts, we will include a snippet of the code plus a link to Git where you can find the full scripts."
      ],
      "text/plain": [
       "<IPython.core.display.Markdown object>"
      ]
     },
     "metadata": {},
     "output_type": "display_data"
    }
   ],
   "source": [
    "ds.useful_syntax()"
   ]
  }
 ],
 "metadata": {
  "language_info": {
   "codemirror_mode": {
    "name": "ipython",
    "version": 3
   },
   "file_extension": ".py",
   "mimetype": "text/x-python",
   "name": "python",
   "nbconvert_exporter": "python",
   "pygments_lexer": "ipython3",
   "version": "3.12.7"
  }
 },
 "nbformat": 4,
 "nbformat_minor": 5
}
