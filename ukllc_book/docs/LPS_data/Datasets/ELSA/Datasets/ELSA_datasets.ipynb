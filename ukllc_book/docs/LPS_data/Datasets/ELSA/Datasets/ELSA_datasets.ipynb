{
 "cells": [
  {
   "cell_type": "markdown",
   "id": "9e1c5939",
   "metadata": {},
   "source": [
    "# English Longitudinal Study of Ageing (ELSA) Datasets"
   ]
  },
  {
   "cell_type": "code",
   "execution_count": 1,
   "id": "a1dc948e",
   "metadata": {
    "execution": {
     "iopub.execute_input": "2025-07-17T15:13:14.464341Z",
     "iopub.status.busy": "2025-07-17T15:13:14.464341Z",
     "iopub.status.idle": "2025-07-17T15:13:18.967085Z",
     "shell.execute_reply": "2025-07-17T15:13:18.966069Z"
    },
    "tags": [
     "remove-input"
    ]
   },
   "outputs": [
    {
     "data": {
      "text/markdown": [
       ">Last modified: 17 Jul 2025"
      ],
      "text/plain": [
       "<IPython.core.display.Markdown object>"
      ]
     },
     "metadata": {},
     "output_type": "display_data"
    }
   ],
   "source": [
    "\n",
    "import sys\n",
    "import os\n",
    "sys.path.append(os.path.abspath('../../../../scripts/'))\n",
    "from data_doc_helper import LPSSource as SS, last_modified\n",
    "API_KEY = os.environ['FASTAPI_KEY']\n",
    "ss = SS(\"ELSA\")\n",
    "last_modified()\n"
   ]
  },
  {
   "cell_type": "markdown",
   "id": "16aad22b",
   "metadata": {},
   "source": [
    "## 1. Datasets"
   ]
  },
  {
   "cell_type": "code",
   "execution_count": 2,
   "id": "c104931f",
   "metadata": {
    "execution": {
     "iopub.execute_input": "2025-07-17T15:13:18.974106Z",
     "iopub.status.busy": "2025-07-17T15:13:18.974106Z",
     "iopub.status.idle": "2025-07-17T15:13:18.983034Z",
     "shell.execute_reply": "2025-07-17T15:13:18.982019Z"
    },
    "tags": [
     "remove-input"
    ]
   },
   "outputs": [
    {
     "data": {
      "text/markdown": [
       "**Table 1:** Datasets and metrics in the UK LLC belonging to ELSA."
      ],
      "text/plain": [
       "<IPython.core.display.Markdown object>"
      ]
     },
     "metadata": {},
     "output_type": "display_data"
    }
   ],
   "source": [
    "ss.table_caption_ds()"
   ]
  },
  {
   "cell_type": "code",
   "execution_count": 3,
   "id": "34bf63f7",
   "metadata": {
    "execution": {
     "iopub.execute_input": "2025-07-17T15:13:18.989034Z",
     "iopub.status.busy": "2025-07-17T15:13:18.989034Z",
     "iopub.status.idle": "2025-07-17T15:13:20.745119Z",
     "shell.execute_reply": "2025-07-17T15:13:20.744019Z"
    },
    "tags": [
     "remove-input",
     "hide-cell"
    ]
   },
   "outputs": [
    {
     "data": {
      "text/html": [
       "<style type=\"text/css\">\n",
       "#T_20a59 th {\n",
       "  text-align: left;\n",
       "}\n",
       "#T_20a59_row0_col0, #T_20a59_row0_col1, #T_20a59_row0_col2, #T_20a59_row0_col3, #T_20a59_row0_col4, #T_20a59_row1_col0, #T_20a59_row1_col1, #T_20a59_row1_col2, #T_20a59_row1_col3, #T_20a59_row1_col4, #T_20a59_row2_col0, #T_20a59_row2_col1, #T_20a59_row2_col2, #T_20a59_row2_col3, #T_20a59_row2_col4, #T_20a59_row3_col0, #T_20a59_row3_col1, #T_20a59_row3_col2, #T_20a59_row3_col3, #T_20a59_row3_col4, #T_20a59_row4_col0, #T_20a59_row4_col1, #T_20a59_row4_col2, #T_20a59_row4_col3, #T_20a59_row4_col4, #T_20a59_row5_col0, #T_20a59_row5_col1, #T_20a59_row5_col2, #T_20a59_row5_col3, #T_20a59_row5_col4, #T_20a59_row6_col0, #T_20a59_row6_col1, #T_20a59_row6_col2, #T_20a59_row6_col3, #T_20a59_row6_col4, #T_20a59_row7_col0, #T_20a59_row7_col1, #T_20a59_row7_col2, #T_20a59_row7_col3, #T_20a59_row7_col4, #T_20a59_row8_col0, #T_20a59_row8_col1, #T_20a59_row8_col2, #T_20a59_row8_col3, #T_20a59_row8_col4, #T_20a59_row9_col0, #T_20a59_row9_col1, #T_20a59_row9_col2, #T_20a59_row9_col3, #T_20a59_row9_col4, #T_20a59_row10_col0, #T_20a59_row10_col1, #T_20a59_row10_col2, #T_20a59_row10_col3, #T_20a59_row10_col4, #T_20a59_row11_col0, #T_20a59_row11_col1, #T_20a59_row11_col2, #T_20a59_row11_col3, #T_20a59_row11_col4, #T_20a59_row12_col0, #T_20a59_row12_col1, #T_20a59_row12_col2, #T_20a59_row12_col3, #T_20a59_row12_col4, #T_20a59_row13_col0, #T_20a59_row13_col1, #T_20a59_row13_col2, #T_20a59_row13_col3, #T_20a59_row13_col4, #T_20a59_row14_col0, #T_20a59_row14_col1, #T_20a59_row14_col2, #T_20a59_row14_col3, #T_20a59_row14_col4, #T_20a59_row15_col0, #T_20a59_row15_col1, #T_20a59_row15_col2, #T_20a59_row15_col3, #T_20a59_row15_col4, #T_20a59_row16_col0, #T_20a59_row16_col1, #T_20a59_row16_col2, #T_20a59_row16_col3, #T_20a59_row16_col4, #T_20a59_row17_col0, #T_20a59_row17_col1, #T_20a59_row17_col2, #T_20a59_row17_col3, #T_20a59_row17_col4 {\n",
       "  text-align: left;\n",
       "}\n",
       "</style>\n",
       "<table id=\"T_20a59\" style=\"font-size: 14px\">\n",
       "  <thead>\n",
       "    <tr>\n",
       "      <th id=\"T_20a59_level0_col0\" class=\"col_heading level0 col0\" >Dataset</th>\n",
       "      <th id=\"T_20a59_level0_col1\" class=\"col_heading level0 col1\" >Dataset Name</th>\n",
       "      <th id=\"T_20a59_level0_col2\" class=\"col_heading level0 col2\" ># Participants</th>\n",
       "      <th id=\"T_20a59_level0_col3\" class=\"col_heading level0 col3\" ># Observations</th>\n",
       "      <th id=\"T_20a59_level0_col4\" class=\"col_heading level0 col4\" ># Variables</th>\n",
       "    </tr>\n",
       "  </thead>\n",
       "  <tbody>\n",
       "    <tr>\n",
       "      <td id=\"T_20a59_row0_col0\" class=\"data row0 col0\" > <a href=\"elsa_covid_w1_eul.html\">elsa_covid_w1_eul</a></td>\n",
       "      <td id=\"T_20a59_row0_col1\" class=\"data row0 col1\" >ELSA Wave 9 housing dataset part 1</td>\n",
       "      <td id=\"T_20a59_row0_col2\" class=\"data row0 col2\" >7040</td>\n",
       "      <td id=\"T_20a59_row0_col3\" class=\"data row0 col3\" >7040</td>\n",
       "      <td id=\"T_20a59_row0_col4\" class=\"data row0 col4\" >319</td>\n",
       "    </tr>\n",
       "    <tr>\n",
       "      <td id=\"T_20a59_row1_col0\" class=\"data row1 col0\" > <a href=\"elsa_covid_w2_eul.html\">elsa_covid_w2_eul</a></td>\n",
       "      <td id=\"T_20a59_row1_col1\" class=\"data row1 col1\" >ELSA Wave 9 housing dataset part 2</td>\n",
       "      <td id=\"T_20a59_row1_col2\" class=\"data row1 col2\" >6794</td>\n",
       "      <td id=\"T_20a59_row1_col3\" class=\"data row1 col3\" >6794</td>\n",
       "      <td id=\"T_20a59_row1_col4\" class=\"data row1 col4\" >443</td>\n",
       "    </tr>\n",
       "    <tr>\n",
       "      <td id=\"T_20a59_row2_col0\" class=\"data row2 col0\" > <a href=\"wave_9_elsa_data_eul_ca.html\">wave_9_elsa_data_eul_ca</a></td>\n",
       "      <td id=\"T_20a59_row2_col1\" class=\"data row2 col1\" > ELSA Wave 9 income and assets dataset part 1</td>\n",
       "      <td id=\"T_20a59_row2_col2\" class=\"data row2 col2\" >8736</td>\n",
       "      <td id=\"T_20a59_row2_col3\" class=\"data row2 col3\" >8736</td>\n",
       "      <td id=\"T_20a59_row2_col4\" class=\"data row2 col4\" >674</td>\n",
       "    </tr>\n",
       "    <tr>\n",
       "      <td id=\"T_20a59_row3_col0\" class=\"data row3 col0\" > <a href=\"wave_9_elsa_data_eul_er.html\">wave_9_elsa_data_eul_er</a></td>\n",
       "      <td id=\"T_20a59_row3_col1\" class=\"data row3 col1\" >ELSA Wave 9 Social Participation dataset</td>\n",
       "      <td id=\"T_20a59_row3_col2\" class=\"data row3 col2\" >8736</td>\n",
       "      <td id=\"T_20a59_row3_col3\" class=\"data row3 col3\" >8736</td>\n",
       "      <td id=\"T_20a59_row3_col4\" class=\"data row3 col4\" >120</td>\n",
       "    </tr>\n",
       "    <tr>\n",
       "      <td id=\"T_20a59_row4_col0\" class=\"data row4 col0\" > <a href=\"wave_9_ifs_derived_variables.html\">wave_9_ifs_derived_variables</a></td>\n",
       "      <td id=\"T_20a59_row4_col1\" class=\"data row4 col1\" >ELSA Wave 9 Institute for Fiscal Studies (IFS) Derived Variables</td>\n",
       "      <td id=\"T_20a59_row4_col2\" class=\"data row4 col2\" >8736</td>\n",
       "      <td id=\"T_20a59_row4_col3\" class=\"data row4 col3\" >8736</td>\n",
       "      <td id=\"T_20a59_row4_col4\" class=\"data row4 col4\" >405</td>\n",
       "    </tr>\n",
       "    <tr>\n",
       "      <td id=\"T_20a59_row5_col0\" class=\"data row5 col0\" > <a href=\"wave_9_elsa_data_eul_ex.html\">wave_9_elsa_data_eul_ex</a></td>\n",
       "      <td id=\"T_20a59_row5_col1\" class=\"data row5 col1\" >ELSA Wave 9 work and pensions dataset</td>\n",
       "      <td id=\"T_20a59_row5_col2\" class=\"data row5 col2\" >8736</td>\n",
       "      <td id=\"T_20a59_row5_col3\" class=\"data row5 col3\" >8736</td>\n",
       "      <td id=\"T_20a59_row5_col4\" class=\"data row5 col4\" >77</td>\n",
       "    </tr>\n",
       "    <tr>\n",
       "      <td id=\"T_20a59_row6_col0\" class=\"data row6 col0\" > <a href=\"wave_9_financial_derived_variables.html\">wave_9_financial_derived_variables</a></td>\n",
       "      <td id=\"T_20a59_row6_col1\" class=\"data row6 col1\" >ELSA Wave 9 Financial Derived Variables</td>\n",
       "      <td id=\"T_20a59_row6_col2\" class=\"data row6 col2\" >8736</td>\n",
       "      <td id=\"T_20a59_row6_col3\" class=\"data row6 col3\" >8736</td>\n",
       "      <td id=\"T_20a59_row6_col4\" class=\"data row6 col4\" >673</td>\n",
       "    </tr>\n",
       "    <tr>\n",
       "      <td id=\"T_20a59_row7_col0\" class=\"data row7 col0\" > <a href=\"wave_9_elsa_data_eul_wp.html\">wave_9_elsa_data_eul_wp</a></td>\n",
       "      <td id=\"T_20a59_row7_col1\" class=\"data row7 col1\" >ELSA Wave 9 Data (EUL) Work and Pensions</td>\n",
       "      <td id=\"T_20a59_row7_col2\" class=\"data row7 col2\" >8736</td>\n",
       "      <td id=\"T_20a59_row7_col3\" class=\"data row7 col3\" >8736</td>\n",
       "      <td id=\"T_20a59_row7_col4\" class=\"data row7 col4\" >509</td>\n",
       "    </tr>\n",
       "    <tr>\n",
       "      <td id=\"T_20a59_row8_col0\" class=\"data row8 col0\" > <a href=\"wave_9_elsa_data_eul_ia3.html\">wave_9_elsa_data_eul_ia3</a></td>\n",
       "      <td id=\"T_20a59_row8_col1\" class=\"data row8 col1\" >ELSA Wave 9 Data (EUL) Income And Assets 3</td>\n",
       "      <td id=\"T_20a59_row8_col2\" class=\"data row8 col2\" >8736</td>\n",
       "      <td id=\"T_20a59_row8_col3\" class=\"data row8 col3\" >8736</td>\n",
       "      <td id=\"T_20a59_row8_col4\" class=\"data row8 col4\" >701</td>\n",
       "    </tr>\n",
       "    <tr>\n",
       "      <td id=\"T_20a59_row9_col0\" class=\"data row9 col0\" > <a href=\"wave_9_elsa_data_eul_ia2.html\">wave_9_elsa_data_eul_ia2</a></td>\n",
       "      <td id=\"T_20a59_row9_col1\" class=\"data row9 col1\" >ELSA Wave 9 Data (EUL) Income And Assets 2</td>\n",
       "      <td id=\"T_20a59_row9_col2\" class=\"data row9 col2\" >8736</td>\n",
       "      <td id=\"T_20a59_row9_col3\" class=\"data row9 col3\" >8736</td>\n",
       "      <td id=\"T_20a59_row9_col4\" class=\"data row9 col4\" >539</td>\n",
       "    </tr>\n",
       "    <tr>\n",
       "      <td id=\"T_20a59_row10_col0\" class=\"data row10 col0\" > <a href=\"wave_9_elsa_data_eul_ia1.html\">wave_9_elsa_data_eul_ia1</a></td>\n",
       "      <td id=\"T_20a59_row10_col1\" class=\"data row10 col1\" >ELSA Wave 9 Data (EUL) Income And Assets 1</td>\n",
       "      <td id=\"T_20a59_row10_col2\" class=\"data row10 col2\" >8736</td>\n",
       "      <td id=\"T_20a59_row10_col3\" class=\"data row10 col3\" >8736</td>\n",
       "      <td id=\"T_20a59_row10_col4\" class=\"data row10 col4\" >647</td>\n",
       "    </tr>\n",
       "    <tr>\n",
       "      <td id=\"T_20a59_row11_col0\" class=\"data row11 col0\" > <a href=\"wave_9_elsa_data_eul_ho2.html\">wave_9_elsa_data_eul_ho2</a></td>\n",
       "      <td id=\"T_20a59_row11_col1\" class=\"data row11 col1\" >ELSA Wave 9 Data (EUL) Housing 2</td>\n",
       "      <td id=\"T_20a59_row11_col2\" class=\"data row11 col2\" >8736</td>\n",
       "      <td id=\"T_20a59_row11_col3\" class=\"data row11 col3\" >8736</td>\n",
       "      <td id=\"T_20a59_row11_col4\" class=\"data row11 col4\" >814</td>\n",
       "    </tr>\n",
       "    <tr>\n",
       "      <td id=\"T_20a59_row12_col0\" class=\"data row12 col0\" > <a href=\"wave_9_elsa_data_eul_fq.html\">wave_9_elsa_data_eul_fq</a></td>\n",
       "      <td id=\"T_20a59_row12_col1\" class=\"data row12 col1\" >Financial Derived Variables Wave 9</td>\n",
       "      <td id=\"T_20a59_row12_col2\" class=\"data row12 col2\" >8736</td>\n",
       "      <td id=\"T_20a59_row12_col3\" class=\"data row12 col3\" >8736</td>\n",
       "      <td id=\"T_20a59_row12_col4\" class=\"data row12 col4\" >96</td>\n",
       "    </tr>\n",
       "    <tr>\n",
       "      <td id=\"T_20a59_row13_col0\" class=\"data row13 col0\" > <a href=\"wave_9_elsa_data_eul_ho1.html\">wave_9_elsa_data_eul_ho1</a></td>\n",
       "      <td id=\"T_20a59_row13_col1\" class=\"data row13 col1\" >ELSA Wave 9 Data (EUL) Housing 1</td>\n",
       "      <td id=\"T_20a59_row13_col2\" class=\"data row13 col2\" >8736</td>\n",
       "      <td id=\"T_20a59_row13_col3\" class=\"data row13 col3\" >8736</td>\n",
       "      <td id=\"T_20a59_row13_col4\" class=\"data row13 col4\" >990</td>\n",
       "    </tr>\n",
       "    <tr>\n",
       "      <td id=\"T_20a59_row14_col0\" class=\"data row14 col0\" > <a href=\"wave_9_elsa_data_eul_spsc.html\">wave_9_elsa_data_eul_spsc</a></td>\n",
       "      <td id=\"T_20a59_row14_col1\" class=\"data row14 col1\" >ELSA Wave 9 Data (EUL) Social Participation And Social Capital</td>\n",
       "      <td id=\"T_20a59_row14_col2\" class=\"data row14 col2\" >8736</td>\n",
       "      <td id=\"T_20a59_row14_col3\" class=\"data row14 col3\" >8736</td>\n",
       "      <td id=\"T_20a59_row14_col4\" class=\"data row14 col4\" >257</td>\n",
       "    </tr>\n",
       "    <tr>\n",
       "      <td id=\"T_20a59_row15_col0\" class=\"data row15 col0\" > <a href=\"wave_9_elsa_data_eul_dhdi.html\">wave_9_elsa_data_eul_dhdi</a></td>\n",
       "      <td id=\"T_20a59_row15_col1\" class=\"data row15 col1\" > ELSA Wave 9 income and assets dataset part 3</td>\n",
       "      <td id=\"T_20a59_row15_col2\" class=\"data row15 col2\" >8736</td>\n",
       "      <td id=\"T_20a59_row15_col3\" class=\"data row15 col3\" >8736</td>\n",
       "      <td id=\"T_20a59_row15_col4\" class=\"data row15 col4\" >429</td>\n",
       "    </tr>\n",
       "    <tr>\n",
       "      <td id=\"T_20a59_row16_col0\" class=\"data row16 col0\" > <a href=\"wave_9_elsa_data_eul_heps.html\">wave_9_elsa_data_eul_heps</a></td>\n",
       "      <td id=\"T_20a59_row16_col1\" class=\"data row16 col1\" >Non-financial Derived Variables Wave 9</td>\n",
       "      <td id=\"T_20a59_row16_col2\" class=\"data row16 col2\" >8736</td>\n",
       "      <td id=\"T_20a59_row16_col3\" class=\"data row16 col3\" >8736</td>\n",
       "      <td id=\"T_20a59_row16_col4\" class=\"data row16 col4\" >514</td>\n",
       "    </tr>\n",
       "    <tr>\n",
       "      <td id=\"T_20a59_row17_col0\" class=\"data row17 col0\" > <a href=\"wave_9_elsa_data_eul_cf.html\">wave_9_elsa_data_eul_cf</a></td>\n",
       "      <td id=\"T_20a59_row17_col1\" class=\"data row17 col1\" > ELSA Wave 9 income and assets dataset part 2</td>\n",
       "      <td id=\"T_20a59_row17_col2\" class=\"data row17 col2\" >8736</td>\n",
       "      <td id=\"T_20a59_row17_col3\" class=\"data row17 col3\" >8736</td>\n",
       "      <td id=\"T_20a59_row17_col4\" class=\"data row17 col4\" >88</td>\n",
       "    </tr>\n",
       "  </tbody>\n",
       "</table>\n"
      ],
      "text/plain": [
       "<pandas.io.formats.style.Styler at 0x1f587d63e90>"
      ]
     },
     "execution_count": 3,
     "metadata": {},
     "output_type": "execute_result"
    }
   ],
   "source": [
    "ss.datasets()"
   ]
  }
 ],
 "metadata": {
  "language_info": {
   "codemirror_mode": {
    "name": "ipython",
    "version": 3
   },
   "file_extension": ".py",
   "mimetype": "text/x-python",
   "name": "python",
   "nbconvert_exporter": "python",
   "pygments_lexer": "ipython3",
   "version": "3.12.7"
  },
  "mystnb": {
   "code_prompt_hide": "Hide Datasets",
   "code_prompt_show": "Show Datasets"
  }
 },
 "nbformat": 4,
 "nbformat_minor": 5
}
