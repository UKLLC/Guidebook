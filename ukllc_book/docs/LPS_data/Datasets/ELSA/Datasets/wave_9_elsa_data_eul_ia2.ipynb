{
 "cells": [
  {
   "cell_type": "markdown",
   "id": "7077a052",
   "metadata": {},
   "source": [
    "# ELSA Wave 9 Data (EUL) Income And Assets 2 (ELSA)"
   ]
  },
  {
   "cell_type": "code",
   "execution_count": 1,
   "id": "a1575f8a",
   "metadata": {
    "execution": {
     "iopub.execute_input": "2025-07-17T15:16:10.038361Z",
     "iopub.status.busy": "2025-07-17T15:16:10.037361Z",
     "iopub.status.idle": "2025-07-17T15:16:17.770806Z",
     "shell.execute_reply": "2025-07-17T15:16:17.770295Z"
    },
    "tags": [
     "remove-input"
    ]
   },
   "outputs": [
    {
     "data": {
      "text/markdown": [
       ">Last modified: 17 Jul 2025"
      ],
      "text/plain": [
       "<IPython.core.display.Markdown object>"
      ]
     },
     "metadata": {},
     "output_type": "display_data"
    }
   ],
   "source": [
    "\n",
    "import sys\n",
    "import os\n",
    "sys.path.append(os.path.abspath('../../../../scripts/'))\n",
    "from data_doc_helper import LPSDataSet as DS, last_modified\n",
    "API_KEY = os.environ['FASTAPI_KEY']\n",
    "ds = DS(\"ELSA\", \"wave_9_elsa_data_eul_ia2\")\n",
    "last_modified()\n"
   ]
  },
  {
   "cell_type": "markdown",
   "id": "3941c9cd",
   "metadata": {},
   "source": [
    "## 1. Summary"
   ]
  },
  {
   "cell_type": "code",
   "execution_count": 2,
   "id": "bc8111a7",
   "metadata": {
    "execution": {
     "iopub.execute_input": "2025-07-17T15:16:17.779818Z",
     "iopub.status.busy": "2025-07-17T15:16:17.778818Z",
     "iopub.status.idle": "2025-07-17T15:16:17.788521Z",
     "shell.execute_reply": "2025-07-17T15:16:17.787017Z"
    },
    "tags": [
     "remove-input"
    ]
   },
   "outputs": [
    {
     "data": {
      "text/markdown": [
       "Participants from the ELSA sample were invited to take part in a face-to-face interview in 2018-2019. Respondents took part in a interview on a nmber of topics but this block contains only variables from the ia (income and assests) module"
      ],
      "text/plain": [
       "<IPython.core.display.Markdown object>"
      ]
     },
     "metadata": {},
     "output_type": "display_data"
    }
   ],
   "source": [
    "ds.summary()"
   ]
  },
  {
   "cell_type": "code",
   "execution_count": 3,
   "id": "0f345269",
   "metadata": {
    "execution": {
     "iopub.execute_input": "2025-07-17T15:16:17.795517Z",
     "iopub.status.busy": "2025-07-17T15:16:17.794502Z",
     "iopub.status.idle": "2025-07-17T15:16:19.139472Z",
     "shell.execute_reply": "2025-07-17T15:16:19.138458Z"
    },
    "tags": [
     "remove-input"
    ]
   },
   "outputs": [
    {
     "data": {
      "text/html": [
       "<style type=\"text/css\">\n",
       "#T_455f6 th {\n",
       "  text-align: left;\n",
       "}\n",
       "#T_455f6_row0_col0, #T_455f6_row0_col1, #T_455f6_row1_col0, #T_455f6_row1_col1, #T_455f6_row2_col0, #T_455f6_row2_col1, #T_455f6_row3_col0, #T_455f6_row3_col1, #T_455f6_row4_col0, #T_455f6_row4_col1, #T_455f6_row5_col0, #T_455f6_row5_col1, #T_455f6_row6_col0, #T_455f6_row6_col1, #T_455f6_row7_col0, #T_455f6_row7_col1, #T_455f6_row8_col0, #T_455f6_row8_col1, #T_455f6_row9_col0, #T_455f6_row9_col1, #T_455f6_row10_col0, #T_455f6_row10_col1, #T_455f6_row11_col0, #T_455f6_row11_col1, #T_455f6_row12_col0, #T_455f6_row12_col1 {\n",
       "  text-align: left;\n",
       "}\n",
       "</style>\n",
       "<table id=\"T_455f6\" style=\"font-size: 14px\">\n",
       "  <thead>\n",
       "    <tr>\n",
       "      <th id=\"T_455f6_level0_col0\" class=\"col_heading level0 col0\" >Dataset Descriptor</th>\n",
       "      <th id=\"T_455f6_level0_col1\" class=\"col_heading level0 col1\" >Dataset-specific Information</th>\n",
       "    </tr>\n",
       "  </thead>\n",
       "  <tbody>\n",
       "    <tr>\n",
       "      <td id=\"T_455f6_row0_col0\" class=\"data row0 col0\" >Name of Dataset in TRE</td>\n",
       "      <td id=\"T_455f6_row0_col1\" class=\"data row0 col1\" >ELSA_wave_9_elsa_data_eul_ia2</td>\n",
       "    </tr>\n",
       "    <tr>\n",
       "      <td id=\"T_455f6_row1_col0\" class=\"data row1 col0\" >Citation (APA)</td>\n",
       "      <td id=\"T_455f6_row1_col1\" class=\"data row1 col1\" >University College London, National Centre for Social Research, The Institute for Fiscal Studies, The University of East Anglia, and The University of Manchester. (2021). <i>English Longitudinal Study of Ageing (ELSA): ELSA Wave 9 Data (EUL) Income And Assets 2.</i> UK Longitudinal Linkage Collaboration (UK LLC).  <a href=\"https://doi.org/10.83126/ukllc-dataset-00179-01\" rel=\"noopener noreferrer\" target=\"_blank\">https://doi.org/10.83126/ukllc-dataset-00179-01</a></td>\n",
       "    </tr>\n",
       "    <tr>\n",
       "      <td id=\"T_455f6_row2_col0\" class=\"data row2 col0\" >Download Citation</td>\n",
       "      <td id=\"T_455f6_row2_col1\" class=\"data row2 col1\" > <a href=\"https://api.test.datacite.org/application/vnd.citationstyles.csl+json/10.83126/ukllc-dataset-00179-01\" rel=\"noopener noreferrer\" target=\"_blank\">Citeproc JSON</a>&nbsp;&nbsp;&nbsp;&nbsp; <a href=\"https://api.test.datacite.org/application/x-bibtex/10.83126/ukllc-dataset-00179-01\" rel=\"noopener noreferrer\" target=\"_blank\">BibTeX</a>&nbsp;&nbsp;&nbsp;&nbsp; <a href=\"https://api.test.datacite.org/application/x-research-info-systems/10.83126/ukllc-dataset-00179-01\" rel=\"noopener noreferrer\" target=\"_blank\">RIS</a></td>\n",
       "    </tr>\n",
       "    <tr>\n",
       "      <td id=\"T_455f6_row3_col0\" class=\"data row3 col0\" >Series</td>\n",
       "      <td id=\"T_455f6_row3_col1\" class=\"data row3 col1\" > <a href=\"https://guidebook.ukllc.ac.uk/docs/lps/lps%20profiles/ELSA\">English Longitudinal Study of Ageing (ELSA)</a></td>\n",
       "    </tr>\n",
       "    <tr>\n",
       "      <td id=\"T_455f6_row4_col0\" class=\"data row4 col0\" >Owner</td>\n",
       "      <td id=\"T_455f6_row4_col1\" class=\"data row4 col1\" >UCL</td>\n",
       "    </tr>\n",
       "    <tr>\n",
       "      <td id=\"T_455f6_row5_col0\" class=\"data row5 col0\" >Temporal Coverage</td>\n",
       "      <td id=\"T_455f6_row5_col1\" class=\"data row5 col1\" >06/2018 - 07/2019</td>\n",
       "    </tr>\n",
       "    <tr>\n",
       "      <td id=\"T_455f6_row6_col0\" class=\"data row6 col0\" >Keywords</td>\n",
       "      <td id=\"T_455f6_row6_col1\" class=\"data row6 col1\" >income,wealth,finances,state benefits,private pension income,assets,debt.</td>\n",
       "    </tr>\n",
       "    <tr>\n",
       "      <td id=\"T_455f6_row7_col0\" class=\"data row7 col0\" >Participants Invited</td>\n",
       "      <td id=\"T_455f6_row7_col1\" class=\"data row7 col1\" >8736</td>\n",
       "    </tr>\n",
       "    <tr>\n",
       "      <td id=\"T_455f6_row8_col0\" class=\"data row8 col0\" >Participant Count</td>\n",
       "      <td id=\"T_455f6_row8_col1\" class=\"data row8 col1\" >8736</td>\n",
       "    </tr>\n",
       "    <tr>\n",
       "      <td id=\"T_455f6_row9_col0\" class=\"data row9 col0\" >Number of variables</td>\n",
       "      <td id=\"T_455f6_row9_col1\" class=\"data row9 col1\" >539</td>\n",
       "    </tr>\n",
       "    <tr>\n",
       "      <td id=\"T_455f6_row10_col0\" class=\"data row10 col0\" >Number of observations</td>\n",
       "      <td id=\"T_455f6_row10_col1\" class=\"data row10 col1\" >8736</td>\n",
       "    </tr>\n",
       "    <tr>\n",
       "      <td id=\"T_455f6_row11_col0\" class=\"data row11 col0\" >Specific Restrictions to Data Use</td>\n",
       "      <td id=\"T_455f6_row11_col1\" class=\"data row11 col1\" >None</td>\n",
       "    </tr>\n",
       "    <tr>\n",
       "      <td id=\"T_455f6_row12_col0\" class=\"data row12 col0\" >Build a Data Request</td>\n",
       "      <td id=\"T_455f6_row12_col1\" class=\"data row12 col1\" > <a href=\"https://explore.ukllc.ac.uk/\" rel=\"noopener noreferrer\" target=\"_blank\">https://explore.ukllc.ac.uk/</a></td>\n",
       "    </tr>\n",
       "  </tbody>\n",
       "</table>\n"
      ],
      "text/plain": [
       "<pandas.io.formats.style.Styler at 0x15aaeadedb0>"
      ]
     },
     "execution_count": 3,
     "metadata": {},
     "output_type": "execute_result"
    }
   ],
   "source": [
    "ds.info_table()"
   ]
  },
  {
   "cell_type": "markdown",
   "id": "1ea93336",
   "metadata": {},
   "source": [
    "## 2. Version History"
   ]
  },
  {
   "cell_type": "code",
   "execution_count": 4,
   "id": "e244bf04",
   "metadata": {
    "execution": {
     "iopub.execute_input": "2025-07-17T15:16:19.144471Z",
     "iopub.status.busy": "2025-07-17T15:16:19.143497Z",
     "iopub.status.idle": "2025-07-17T15:16:22.113782Z",
     "shell.execute_reply": "2025-07-17T15:16:22.112769Z"
    },
    "tags": [
     "remove-input"
    ]
   },
   "outputs": [
    {
     "data": {
      "text/html": [
       "<style type=\"text/css\">\n",
       "#T_78306 th {\n",
       "  text-align: left;\n",
       "}\n",
       "#T_78306_row0_col0, #T_78306_row0_col1, #T_78306_row1_col0, #T_78306_row1_col1, #T_78306_row2_col0, #T_78306_row2_col1, #T_78306_row3_col0, #T_78306_row3_col1, #T_78306_row4_col0, #T_78306_row4_col1 {\n",
       "  text-align: left;\n",
       "}\n",
       "</style>\n",
       "<table id=\"T_78306\" style=\"font-size: 14px\">\n",
       "  <thead>\n",
       "    <tr>\n",
       "      <th id=\"T_78306_level0_col0\" class=\"col_heading level0 col0\" >Version</th>\n",
       "      <th id=\"T_78306_level0_col1\" class=\"col_heading level0 col1\" >1</th>\n",
       "    </tr>\n",
       "  </thead>\n",
       "  <tbody>\n",
       "    <tr>\n",
       "      <td id=\"T_78306_row0_col0\" class=\"data row0 col0\" >Version Date</td>\n",
       "      <td id=\"T_78306_row0_col1\" class=\"data row0 col1\" >01 Nov 2021</td>\n",
       "    </tr>\n",
       "    <tr>\n",
       "      <td id=\"T_78306_row1_col0\" class=\"data row1 col0\" >Number of Variables</td>\n",
       "      <td id=\"T_78306_row1_col1\" class=\"data row1 col1\" >539</td>\n",
       "    </tr>\n",
       "    <tr>\n",
       "      <td id=\"T_78306_row2_col0\" class=\"data row2 col0\" >Number of Observations</td>\n",
       "      <td id=\"T_78306_row2_col1\" class=\"data row2 col1\" >8736</td>\n",
       "    </tr>\n",
       "    <tr>\n",
       "      <td id=\"T_78306_row3_col0\" class=\"data row3 col0\" >DOI</td>\n",
       "      <td id=\"T_78306_row3_col1\" class=\"data row3 col1\" > <a href=\"https://doi.org/10.83126/ukllc-dataset-00179-01\" rel=\"noopener noreferrer\" target=\"_blank\">10.83126/ukllc-dataset-00179-01</a></td>\n",
       "    </tr>\n",
       "    <tr>\n",
       "      <td id=\"T_78306_row4_col0\" class=\"data row4 col0\" >Change Log</td>\n",
       "      <td id=\"T_78306_row4_col1\" class=\"data row4 col1\" > <a href=\"https://api.test.datacite.org/dois/10.83126/ukllc-dataset-00179-01/activities\" rel=\"noopener noreferrer\" target=\"_blank\">10.83126/ukllc-dataset-00179-01/activities</a></td>\n",
       "    </tr>\n",
       "  </tbody>\n",
       "</table>\n"
      ],
      "text/plain": [
       "<pandas.io.formats.style.Styler at 0x15ab447e330>"
      ]
     },
     "execution_count": 4,
     "metadata": {},
     "output_type": "execute_result"
    }
   ],
   "source": [
    "ds.version_history()"
   ]
  },
  {
   "cell_type": "markdown",
   "id": "e4d9d995",
   "metadata": {},
   "source": [
    "## 3. Documentation"
   ]
  },
  {
   "cell_type": "code",
   "execution_count": 5,
   "id": "71959736",
   "metadata": {
    "execution": {
     "iopub.execute_input": "2025-07-17T15:16:22.120208Z",
     "iopub.status.busy": "2025-07-17T15:16:22.120208Z",
     "iopub.status.idle": "2025-07-17T15:16:22.129186Z",
     "shell.execute_reply": "2025-07-17T15:16:22.128175Z"
    },
    "tags": [
     "remove-input"
    ]
   },
   "outputs": [
    {
     "data": {
      "text/markdown": [
       "We are currently building a documentation storage system which will host useful documents related to datasets and data owners. We will surface these documents on Guidebook."
      ],
      "text/plain": [
       "<IPython.core.display.Markdown object>"
      ]
     },
     "metadata": {},
     "output_type": "display_data"
    }
   ],
   "source": [
    "ds.documentation()"
   ]
  },
  {
   "cell_type": "markdown",
   "id": "c2346c94",
   "metadata": {},
   "source": [
    "## 4. Useful Syntax"
   ]
  },
  {
   "cell_type": "code",
   "execution_count": 6,
   "id": "520c200e",
   "metadata": {
    "execution": {
     "iopub.execute_input": "2025-07-17T15:16:22.135264Z",
     "iopub.status.busy": "2025-07-17T15:16:22.135264Z",
     "iopub.status.idle": "2025-07-17T15:16:22.142656Z",
     "shell.execute_reply": "2025-07-17T15:16:22.141319Z"
    },
    "tags": [
     "remove-input"
    ]
   },
   "outputs": [
    {
     "data": {
      "text/markdown": [
       "Below we will include syntax that may be helpful to other researchers in the UK LLC TRE. For longer scripts, we will include a snippet of the code plus a link to Git where you can find the full scripts."
      ],
      "text/plain": [
       "<IPython.core.display.Markdown object>"
      ]
     },
     "metadata": {},
     "output_type": "display_data"
    }
   ],
   "source": [
    "ds.useful_syntax()"
   ]
  }
 ],
 "metadata": {
  "language_info": {
   "codemirror_mode": {
    "name": "ipython",
    "version": 3
   },
   "file_extension": ".py",
   "mimetype": "text/x-python",
   "name": "python",
   "nbconvert_exporter": "python",
   "pygments_lexer": "ipython3",
   "version": "3.12.7"
  }
 },
 "nbformat": 4,
 "nbformat_minor": 5
}
