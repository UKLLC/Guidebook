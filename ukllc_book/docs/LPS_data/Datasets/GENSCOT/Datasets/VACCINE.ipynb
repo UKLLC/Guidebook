{
 "cells": [
  {
   "cell_type": "markdown",
   "id": "42a2f35c",
   "metadata": {},
   "source": [
    "# Vaccine (GENSCOT)"
   ]
  },
  {
   "cell_type": "code",
   "execution_count": 1,
   "id": "3b6d9424",
   "metadata": {
    "execution": {
     "iopub.execute_input": "2025-07-28T19:06:11.808551Z",
     "iopub.status.busy": "2025-07-28T19:06:11.808551Z",
     "iopub.status.idle": "2025-07-28T19:06:24.108139Z",
     "shell.execute_reply": "2025-07-28T19:06:24.106122Z"
    },
    "tags": [
     "remove-input"
    ]
   },
   "outputs": [
    {
     "data": {
      "text/markdown": [
       ">Last modified: 28 Jul 2025"
      ],
      "text/plain": [
       "<IPython.core.display.Markdown object>"
      ]
     },
     "metadata": {},
     "output_type": "display_data"
    }
   ],
   "source": [
    "\n",
    "import sys\n",
    "import os\n",
    "sys.path.append(os.path.abspath('../../../../scripts/'))\n",
    "from data_doc_helper import LPSDataSet as DS, last_modified\n",
    "API_KEY = os.environ['FASTAPI_KEY']\n",
    "ds = DS(\"GENSCOT\", \"VACCINE\")\n",
    "last_modified()\n"
   ]
  },
  {
   "cell_type": "markdown",
   "id": "9bbbb152",
   "metadata": {},
   "source": [
    "## 1. Summary"
   ]
  },
  {
   "cell_type": "code",
   "execution_count": 2,
   "id": "429e0d15",
   "metadata": {
    "execution": {
     "iopub.execute_input": "2025-07-28T19:06:24.117048Z",
     "iopub.status.busy": "2025-07-28T19:06:24.116048Z",
     "iopub.status.idle": "2025-07-28T19:06:24.129588Z",
     "shell.execute_reply": "2025-07-28T19:06:24.128051Z"
    },
    "tags": [
     "remove-input"
    ]
   },
   "outputs": [
    {
     "data": {
      "text/markdown": [
       "Covid-19 vaccine data from Public Health Scotland"
      ],
      "text/plain": [
       "<IPython.core.display.Markdown object>"
      ]
     },
     "metadata": {},
     "output_type": "display_data"
    }
   ],
   "source": [
    "ds.summary()"
   ]
  },
  {
   "cell_type": "code",
   "execution_count": 3,
   "id": "8f30cf01",
   "metadata": {
    "execution": {
     "iopub.execute_input": "2025-07-28T19:06:24.136589Z",
     "iopub.status.busy": "2025-07-28T19:06:24.136589Z",
     "iopub.status.idle": "2025-07-28T19:06:25.733609Z",
     "shell.execute_reply": "2025-07-28T19:06:25.731596Z"
    },
    "tags": [
     "remove-input"
    ]
   },
   "outputs": [
    {
     "data": {
      "text/html": [
       "<style type=\"text/css\">\n",
       "#T_67837 th {\n",
       "  text-align: left;\n",
       "}\n",
       "#T_67837_row0_col0, #T_67837_row0_col1, #T_67837_row1_col0, #T_67837_row1_col1, #T_67837_row2_col0, #T_67837_row2_col1, #T_67837_row3_col0, #T_67837_row3_col1, #T_67837_row4_col0, #T_67837_row4_col1, #T_67837_row5_col0, #T_67837_row5_col1, #T_67837_row6_col0, #T_67837_row6_col1, #T_67837_row7_col0, #T_67837_row7_col1, #T_67837_row8_col0, #T_67837_row8_col1, #T_67837_row9_col0, #T_67837_row9_col1, #T_67837_row10_col0, #T_67837_row10_col1, #T_67837_row11_col0, #T_67837_row11_col1, #T_67837_row12_col0, #T_67837_row12_col1 {\n",
       "  text-align: left;\n",
       "}\n",
       "</style>\n",
       "<table id=\"T_67837\" style=\"font-size: 14px\">\n",
       "  <thead>\n",
       "    <tr>\n",
       "      <th id=\"T_67837_level0_col0\" class=\"col_heading level0 col0\" >Dataset Descriptor</th>\n",
       "      <th id=\"T_67837_level0_col1\" class=\"col_heading level0 col1\" >Dataset-specific Information</th>\n",
       "    </tr>\n",
       "  </thead>\n",
       "  <tbody>\n",
       "    <tr>\n",
       "      <td id=\"T_67837_row0_col0\" class=\"data row0 col0\" >Name of Dataset in TRE</td>\n",
       "      <td id=\"T_67837_row0_col1\" class=\"data row0 col1\" >GENSCOT_VACCINE</td>\n",
       "    </tr>\n",
       "    <tr>\n",
       "      <td id=\"T_67837_row1_col0\" class=\"data row1 col0\" >Citation (APA)</td>\n",
       "      <td id=\"T_67837_row1_col1\" class=\"data row1 col1\" >Centre for Medical Informatics, Usher Institute, University of Edinburgh. (2021). <i>Generation Scotland (GENSCOT): Vaccine.</i> UK Longitudinal Linkage Collaboration (UK LLC).  <a href=\"https://doi.org/10.71760/ukllc-dataset-00145-01\" rel=\"noopener noreferrer\" target=\"_blank\">https://doi.org/10.71760/ukllc-dataset-00145-01</a></td>\n",
       "    </tr>\n",
       "    <tr>\n",
       "      <td id=\"T_67837_row2_col0\" class=\"data row2 col0\" >Download Citation</td>\n",
       "      <td id=\"T_67837_row2_col1\" class=\"data row2 col1\" > <a href=\"https://api.datacite.org/application/vnd.citationstyles.csl+json/10.71760/ukllc-dataset-00145-01\" rel=\"noopener noreferrer\" target=\"_blank\">Citeproc JSON</a>&nbsp;&nbsp;&nbsp;&nbsp; <a href=\"https://api.datacite.org/application/x-bibtex/10.71760/ukllc-dataset-00145-01\" rel=\"noopener noreferrer\" target=\"_blank\">BibTeX</a>&nbsp;&nbsp;&nbsp;&nbsp; <a href=\"https://api.datacite.org/application/x-research-info-systems/10.71760/ukllc-dataset-00145-01\" rel=\"noopener noreferrer\" target=\"_blank\">RIS</a></td>\n",
       "    </tr>\n",
       "    <tr>\n",
       "      <td id=\"T_67837_row3_col0\" class=\"data row3 col0\" >Series</td>\n",
       "      <td id=\"T_67837_row3_col1\" class=\"data row3 col1\" > <a href=\"https://guidebook.ukllc.ac.uk/docs/lps_data/lps%20profiles/GENSCOT\">Generation Scotland (GENSCOT)</a></td>\n",
       "    </tr>\n",
       "    <tr>\n",
       "      <td id=\"T_67837_row4_col0\" class=\"data row4 col0\" >Owner</td>\n",
       "      <td id=\"T_67837_row4_col1\" class=\"data row4 col1\" >University of Edinburgh</td>\n",
       "    </tr>\n",
       "    <tr>\n",
       "      <td id=\"T_67837_row5_col0\" class=\"data row5 col0\" >Temporal Coverage</td>\n",
       "      <td id=\"T_67837_row5_col1\" class=\"data row5 col1\" >01/2006 - 06/2021</td>\n",
       "    </tr>\n",
       "    <tr>\n",
       "      <td id=\"T_67837_row6_col0\" class=\"data row6 col0\" >Keywords</td>\n",
       "      <td id=\"T_67837_row6_col1\" class=\"data row6 col1\" ></td>\n",
       "    </tr>\n",
       "    <tr>\n",
       "      <td id=\"T_67837_row7_col0\" class=\"data row7 col0\" >Participants Invited</td>\n",
       "      <td id=\"T_67837_row7_col1\" class=\"data row7 col1\" >16640</td>\n",
       "    </tr>\n",
       "    <tr>\n",
       "      <td id=\"T_67837_row8_col0\" class=\"data row8 col0\" >Participant Count</td>\n",
       "      <td id=\"T_67837_row8_col1\" class=\"data row8 col1\" ></td>\n",
       "    </tr>\n",
       "    <tr>\n",
       "      <td id=\"T_67837_row9_col0\" class=\"data row9 col0\" >Number of variables</td>\n",
       "      <td id=\"T_67837_row9_col1\" class=\"data row9 col1\" >14</td>\n",
       "    </tr>\n",
       "    <tr>\n",
       "      <td id=\"T_67837_row10_col0\" class=\"data row10 col0\" >Number of observations</td>\n",
       "      <td id=\"T_67837_row10_col1\" class=\"data row10 col1\" >26938</td>\n",
       "    </tr>\n",
       "    <tr>\n",
       "      <td id=\"T_67837_row11_col0\" class=\"data row11 col0\" >Specific Restrictions to Data Use</td>\n",
       "      <td id=\"T_67837_row11_col1\" class=\"data row11 col1\" >None</td>\n",
       "    </tr>\n",
       "    <tr>\n",
       "      <td id=\"T_67837_row12_col0\" class=\"data row12 col0\" >Build a Data Request</td>\n",
       "      <td id=\"T_67837_row12_col1\" class=\"data row12 col1\" > <a href=\"https://explore.ukllc.ac.uk/\" rel=\"noopener noreferrer\" target=\"_blank\">https://explore.ukllc.ac.uk/</a></td>\n",
       "    </tr>\n",
       "  </tbody>\n",
       "</table>\n"
      ],
      "text/plain": [
       "<pandas.io.formats.style.Styler at 0x226c9ef6420>"
      ]
     },
     "execution_count": 3,
     "metadata": {},
     "output_type": "execute_result"
    }
   ],
   "source": [
    "ds.info_table()"
   ]
  },
  {
   "cell_type": "markdown",
   "id": "086e6df6",
   "metadata": {},
   "source": [
    "## 2. Version History"
   ]
  },
  {
   "cell_type": "code",
   "execution_count": 4,
   "id": "20e9d39f",
   "metadata": {
    "execution": {
     "iopub.execute_input": "2025-07-28T19:06:25.739150Z",
     "iopub.status.busy": "2025-07-28T19:06:25.739150Z",
     "iopub.status.idle": "2025-07-28T19:06:31.132077Z",
     "shell.execute_reply": "2025-07-28T19:06:31.129040Z"
    },
    "tags": [
     "remove-input"
    ]
   },
   "outputs": [
    {
     "data": {
      "text/html": [
       "<style type=\"text/css\">\n",
       "#T_4de0a th {\n",
       "  text-align: left;\n",
       "}\n",
       "#T_4de0a_row0_col0, #T_4de0a_row0_col1, #T_4de0a_row1_col0, #T_4de0a_row1_col1, #T_4de0a_row2_col0, #T_4de0a_row2_col1, #T_4de0a_row3_col0, #T_4de0a_row3_col1, #T_4de0a_row4_col0, #T_4de0a_row4_col1 {\n",
       "  text-align: left;\n",
       "}\n",
       "</style>\n",
       "<table id=\"T_4de0a\" style=\"font-size: 14px\">\n",
       "  <thead>\n",
       "    <tr>\n",
       "      <th id=\"T_4de0a_level0_col0\" class=\"col_heading level0 col0\" >Version</th>\n",
       "      <th id=\"T_4de0a_level0_col1\" class=\"col_heading level0 col1\" >1</th>\n",
       "    </tr>\n",
       "  </thead>\n",
       "  <tbody>\n",
       "    <tr>\n",
       "      <td id=\"T_4de0a_row0_col0\" class=\"data row0 col0\" >Version Date</td>\n",
       "      <td id=\"T_4de0a_row0_col1\" class=\"data row0 col1\" >01 Nov 2021</td>\n",
       "    </tr>\n",
       "    <tr>\n",
       "      <td id=\"T_4de0a_row1_col0\" class=\"data row1 col0\" >Number of Variables</td>\n",
       "      <td id=\"T_4de0a_row1_col1\" class=\"data row1 col1\" >14</td>\n",
       "    </tr>\n",
       "    <tr>\n",
       "      <td id=\"T_4de0a_row2_col0\" class=\"data row2 col0\" >Number of Observations</td>\n",
       "      <td id=\"T_4de0a_row2_col1\" class=\"data row2 col1\" >26938</td>\n",
       "    </tr>\n",
       "    <tr>\n",
       "      <td id=\"T_4de0a_row3_col0\" class=\"data row3 col0\" >DOI</td>\n",
       "      <td id=\"T_4de0a_row3_col1\" class=\"data row3 col1\" > <a href=\"https://doi.org/10.71760/ukllc-dataset-00145-01\" rel=\"noopener noreferrer\" target=\"_blank\">10.71760/ukllc-dataset-00145-01</a></td>\n",
       "    </tr>\n",
       "    <tr>\n",
       "      <td id=\"T_4de0a_row4_col0\" class=\"data row4 col0\" >Change Log</td>\n",
       "      <td id=\"T_4de0a_row4_col1\" class=\"data row4 col1\" > <a href=\"https://api.test.datacite.org/dois/10.71760/ukllc-dataset-00145-01/activities\" rel=\"noopener noreferrer\" target=\"_blank\">10.71760/ukllc-dataset-00145-01/activities</a></td>\n",
       "    </tr>\n",
       "  </tbody>\n",
       "</table>\n"
      ],
      "text/plain": [
       "<pandas.io.formats.style.Styler at 0x226d0f3be30>"
      ]
     },
     "execution_count": 4,
     "metadata": {},
     "output_type": "execute_result"
    }
   ],
   "source": [
    "ds.version_history()"
   ]
  },
  {
   "cell_type": "markdown",
   "id": "b042f837",
   "metadata": {},
   "source": [
    "## 3. Documentation"
   ]
  },
  {
   "cell_type": "code",
   "execution_count": 5,
   "id": "25db6ac8",
   "metadata": {
    "execution": {
     "iopub.execute_input": "2025-07-28T19:06:31.141659Z",
     "iopub.status.busy": "2025-07-28T19:06:31.141659Z",
     "iopub.status.idle": "2025-07-28T19:06:31.150984Z",
     "shell.execute_reply": "2025-07-28T19:06:31.149968Z"
    },
    "tags": [
     "remove-input"
    ]
   },
   "outputs": [
    {
     "data": {
      "text/markdown": [
       "We are currently building a documentation storage system which will host useful documents related to datasets and data owners. We will surface these documents on Guidebook."
      ],
      "text/plain": [
       "<IPython.core.display.Markdown object>"
      ]
     },
     "metadata": {},
     "output_type": "display_data"
    }
   ],
   "source": [
    "ds.documentation()"
   ]
  },
  {
   "cell_type": "markdown",
   "id": "b3cf6820",
   "metadata": {},
   "source": [
    "## 4. Useful Syntax"
   ]
  },
  {
   "cell_type": "code",
   "execution_count": 6,
   "id": "3a516766",
   "metadata": {
    "execution": {
     "iopub.execute_input": "2025-07-28T19:06:31.158993Z",
     "iopub.status.busy": "2025-07-28T19:06:31.157998Z",
     "iopub.status.idle": "2025-07-28T19:06:31.171599Z",
     "shell.execute_reply": "2025-07-28T19:06:31.169172Z"
    },
    "tags": [
     "remove-input"
    ]
   },
   "outputs": [
    {
     "data": {
      "text/markdown": [
       "Below we will include syntax that may be helpful to other researchers in the UK LLC TRE. For longer scripts, we will include a snippet of the code plus a link to Git where you can find the full scripts."
      ],
      "text/plain": [
       "<IPython.core.display.Markdown object>"
      ]
     },
     "metadata": {},
     "output_type": "display_data"
    }
   ],
   "source": [
    "ds.useful_syntax()"
   ]
  }
 ],
 "metadata": {
  "language_info": {
   "codemirror_mode": {
    "name": "ipython",
    "version": 3
   },
   "file_extension": ".py",
   "mimetype": "text/x-python",
   "name": "python",
   "nbconvert_exporter": "python",
   "pygments_lexer": "ipython3",
   "version": "3.12.7"
  }
 },
 "nbformat": 4,
 "nbformat_minor": 5
}
