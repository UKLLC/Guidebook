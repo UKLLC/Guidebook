{
 "cells": [
  {
   "cell_type": "markdown",
   "id": "42a2f35c",
   "metadata": {},
   "source": [
    "# Vaccine (GENSCOT)"
   ]
  },
  {
   "cell_type": "code",
   "execution_count": 1,
   "id": "3b6d9424",
   "metadata": {
    "execution": {
     "iopub.execute_input": "2025-07-17T17:28:22.891884Z",
     "iopub.status.busy": "2025-07-17T17:28:22.891884Z",
     "iopub.status.idle": "2025-07-17T17:28:29.082976Z",
     "shell.execute_reply": "2025-07-17T17:28:29.082976Z"
    },
    "tags": [
     "remove-input"
    ]
   },
   "outputs": [
    {
     "data": {
      "text/markdown": [
       ">Last modified: 17 Jul 2025"
      ],
      "text/plain": [
       "<IPython.core.display.Markdown object>"
      ]
     },
     "metadata": {},
     "output_type": "display_data"
    }
   ],
   "source": [
    "\n",
    "import sys\n",
    "import os\n",
    "sys.path.append(os.path.abspath('../../../../scripts/'))\n",
    "from data_doc_helper import LPSDataSet as DS, last_modified\n",
    "API_KEY = os.environ['FASTAPI_KEY']\n",
    "ds = DS(\"GENSCOT\", \"VACCINE\")\n",
    "last_modified()\n"
   ]
  },
  {
   "cell_type": "markdown",
   "id": "9bbbb152",
   "metadata": {},
   "source": [
    "## 1. Summary"
   ]
  },
  {
   "cell_type": "code",
   "execution_count": 2,
   "id": "429e0d15",
   "metadata": {
    "execution": {
     "iopub.execute_input": "2025-07-17T17:28:29.085986Z",
     "iopub.status.busy": "2025-07-17T17:28:29.085986Z",
     "iopub.status.idle": "2025-07-17T17:28:29.089019Z",
     "shell.execute_reply": "2025-07-17T17:28:29.089019Z"
    },
    "tags": [
     "remove-input"
    ]
   },
   "outputs": [
    {
     "data": {
      "text/markdown": [
       "Covid-19 vaccine data from Public Health Scotland"
      ],
      "text/plain": [
       "<IPython.core.display.Markdown object>"
      ]
     },
     "metadata": {},
     "output_type": "display_data"
    }
   ],
   "source": [
    "ds.summary()"
   ]
  },
  {
   "cell_type": "code",
   "execution_count": 3,
   "id": "8f30cf01",
   "metadata": {
    "execution": {
     "iopub.execute_input": "2025-07-17T17:28:29.090535Z",
     "iopub.status.busy": "2025-07-17T17:28:29.090535Z",
     "iopub.status.idle": "2025-07-17T17:28:29.667542Z",
     "shell.execute_reply": "2025-07-17T17:28:29.666534Z"
    },
    "tags": [
     "remove-input"
    ]
   },
   "outputs": [
    {
     "data": {
      "text/html": [
       "<style type=\"text/css\">\n",
       "#T_29f28 th {\n",
       "  text-align: left;\n",
       "}\n",
       "#T_29f28_row0_col0, #T_29f28_row0_col1, #T_29f28_row1_col0, #T_29f28_row1_col1, #T_29f28_row2_col0, #T_29f28_row2_col1, #T_29f28_row3_col0, #T_29f28_row3_col1, #T_29f28_row4_col0, #T_29f28_row4_col1, #T_29f28_row5_col0, #T_29f28_row5_col1, #T_29f28_row6_col0, #T_29f28_row6_col1, #T_29f28_row7_col0, #T_29f28_row7_col1, #T_29f28_row8_col0, #T_29f28_row8_col1, #T_29f28_row9_col0, #T_29f28_row9_col1, #T_29f28_row10_col0, #T_29f28_row10_col1, #T_29f28_row11_col0, #T_29f28_row11_col1, #T_29f28_row12_col0, #T_29f28_row12_col1 {\n",
       "  text-align: left;\n",
       "}\n",
       "</style>\n",
       "<table id=\"T_29f28\" style=\"font-size: 14px\">\n",
       "  <thead>\n",
       "    <tr>\n",
       "      <th id=\"T_29f28_level0_col0\" class=\"col_heading level0 col0\" >Dataset Descriptor</th>\n",
       "      <th id=\"T_29f28_level0_col1\" class=\"col_heading level0 col1\" >Dataset-specific Information</th>\n",
       "    </tr>\n",
       "  </thead>\n",
       "  <tbody>\n",
       "    <tr>\n",
       "      <td id=\"T_29f28_row0_col0\" class=\"data row0 col0\" >Name of Dataset in TRE</td>\n",
       "      <td id=\"T_29f28_row0_col1\" class=\"data row0 col1\" >GENSCOT_VACCINE</td>\n",
       "    </tr>\n",
       "    <tr>\n",
       "      <td id=\"T_29f28_row1_col0\" class=\"data row1 col0\" >Citation (APA)</td>\n",
       "      <td id=\"T_29f28_row1_col1\" class=\"data row1 col1\" >Centre for Medical Informatics, Usher Institute, University of Edinburgh. (2021). <i>Generation Scotland: Scottish Family Health Study (GS:SFHS): Vaccine.</i> UK Longitudinal Linkage Collaboration (UK LLC).  <a href=\"https://doi.org/10.83126/ukllc-dataset-00226-01\" rel=\"noopener noreferrer\" target=\"_blank\">https://doi.org/10.83126/ukllc-dataset-00226-01</a></td>\n",
       "    </tr>\n",
       "    <tr>\n",
       "      <td id=\"T_29f28_row2_col0\" class=\"data row2 col0\" >Download Citation</td>\n",
       "      <td id=\"T_29f28_row2_col1\" class=\"data row2 col1\" > <a href=\"https://api.test.datacite.org/application/vnd.citationstyles.csl+json/10.83126/ukllc-dataset-00226-01\" rel=\"noopener noreferrer\" target=\"_blank\">Citeproc JSON</a>&nbsp;&nbsp;&nbsp;&nbsp; <a href=\"https://api.test.datacite.org/application/x-bibtex/10.83126/ukllc-dataset-00226-01\" rel=\"noopener noreferrer\" target=\"_blank\">BibTeX</a>&nbsp;&nbsp;&nbsp;&nbsp; <a href=\"https://api.test.datacite.org/application/x-research-info-systems/10.83126/ukllc-dataset-00226-01\" rel=\"noopener noreferrer\" target=\"_blank\">RIS</a></td>\n",
       "    </tr>\n",
       "    <tr>\n",
       "      <td id=\"T_29f28_row3_col0\" class=\"data row3 col0\" >Series</td>\n",
       "      <td id=\"T_29f28_row3_col1\" class=\"data row3 col1\" > <a href=\"https://guidebook.ukllc.ac.uk/docs/lps/lps%20profiles/GENSCOT\">Generation Scotland: Scottish Family Health Study (GS:SFHS)</a></td>\n",
       "    </tr>\n",
       "    <tr>\n",
       "      <td id=\"T_29f28_row4_col0\" class=\"data row4 col0\" >Owner</td>\n",
       "      <td id=\"T_29f28_row4_col1\" class=\"data row4 col1\" >University of Edinburgh</td>\n",
       "    </tr>\n",
       "    <tr>\n",
       "      <td id=\"T_29f28_row5_col0\" class=\"data row5 col0\" >Temporal Coverage</td>\n",
       "      <td id=\"T_29f28_row5_col1\" class=\"data row5 col1\" >01/2006 - 06/2021</td>\n",
       "    </tr>\n",
       "    <tr>\n",
       "      <td id=\"T_29f28_row6_col0\" class=\"data row6 col0\" >Keywords</td>\n",
       "      <td id=\"T_29f28_row6_col1\" class=\"data row6 col1\" ></td>\n",
       "    </tr>\n",
       "    <tr>\n",
       "      <td id=\"T_29f28_row7_col0\" class=\"data row7 col0\" >Participants Invited</td>\n",
       "      <td id=\"T_29f28_row7_col1\" class=\"data row7 col1\" >16640</td>\n",
       "    </tr>\n",
       "    <tr>\n",
       "      <td id=\"T_29f28_row8_col0\" class=\"data row8 col0\" >Participant Count</td>\n",
       "      <td id=\"T_29f28_row8_col1\" class=\"data row8 col1\" ></td>\n",
       "    </tr>\n",
       "    <tr>\n",
       "      <td id=\"T_29f28_row9_col0\" class=\"data row9 col0\" >Number of variables</td>\n",
       "      <td id=\"T_29f28_row9_col1\" class=\"data row9 col1\" >14</td>\n",
       "    </tr>\n",
       "    <tr>\n",
       "      <td id=\"T_29f28_row10_col0\" class=\"data row10 col0\" >Number of observations</td>\n",
       "      <td id=\"T_29f28_row10_col1\" class=\"data row10 col1\" >26938</td>\n",
       "    </tr>\n",
       "    <tr>\n",
       "      <td id=\"T_29f28_row11_col0\" class=\"data row11 col0\" >Specific Restrictions to Data Use</td>\n",
       "      <td id=\"T_29f28_row11_col1\" class=\"data row11 col1\" >None</td>\n",
       "    </tr>\n",
       "    <tr>\n",
       "      <td id=\"T_29f28_row12_col0\" class=\"data row12 col0\" >Build a Data Request</td>\n",
       "      <td id=\"T_29f28_row12_col1\" class=\"data row12 col1\" > <a href=\"https://explore.ukllc.ac.uk/\" rel=\"noopener noreferrer\" target=\"_blank\">https://explore.ukllc.ac.uk/</a></td>\n",
       "    </tr>\n",
       "  </tbody>\n",
       "</table>\n"
      ],
      "text/plain": [
       "<pandas.io.formats.style.Styler at 0x1d44e158110>"
      ]
     },
     "execution_count": 3,
     "metadata": {},
     "output_type": "execute_result"
    }
   ],
   "source": [
    "ds.info_table()"
   ]
  },
  {
   "cell_type": "markdown",
   "id": "086e6df6",
   "metadata": {},
   "source": [
    "## 2. Version History"
   ]
  },
  {
   "cell_type": "code",
   "execution_count": 4,
   "id": "20e9d39f",
   "metadata": {
    "execution": {
     "iopub.execute_input": "2025-07-17T17:28:29.670541Z",
     "iopub.status.busy": "2025-07-17T17:28:29.670541Z",
     "iopub.status.idle": "2025-07-17T17:28:32.024951Z",
     "shell.execute_reply": "2025-07-17T17:28:32.024951Z"
    },
    "tags": [
     "remove-input"
    ]
   },
   "outputs": [
    {
     "data": {
      "text/html": [
       "<style type=\"text/css\">\n",
       "#T_bf1af th {\n",
       "  text-align: left;\n",
       "}\n",
       "#T_bf1af_row0_col0, #T_bf1af_row0_col1, #T_bf1af_row1_col0, #T_bf1af_row1_col1, #T_bf1af_row2_col0, #T_bf1af_row2_col1, #T_bf1af_row3_col0, #T_bf1af_row3_col1, #T_bf1af_row4_col0, #T_bf1af_row4_col1 {\n",
       "  text-align: left;\n",
       "}\n",
       "</style>\n",
       "<table id=\"T_bf1af\" style=\"font-size: 14px\">\n",
       "  <thead>\n",
       "    <tr>\n",
       "      <th id=\"T_bf1af_level0_col0\" class=\"col_heading level0 col0\" >Version</th>\n",
       "      <th id=\"T_bf1af_level0_col1\" class=\"col_heading level0 col1\" >1</th>\n",
       "    </tr>\n",
       "  </thead>\n",
       "  <tbody>\n",
       "    <tr>\n",
       "      <td id=\"T_bf1af_row0_col0\" class=\"data row0 col0\" >Version Date</td>\n",
       "      <td id=\"T_bf1af_row0_col1\" class=\"data row0 col1\" >01 Nov 2021</td>\n",
       "    </tr>\n",
       "    <tr>\n",
       "      <td id=\"T_bf1af_row1_col0\" class=\"data row1 col0\" >Number of Variables</td>\n",
       "      <td id=\"T_bf1af_row1_col1\" class=\"data row1 col1\" >14</td>\n",
       "    </tr>\n",
       "    <tr>\n",
       "      <td id=\"T_bf1af_row2_col0\" class=\"data row2 col0\" >Number of Observations</td>\n",
       "      <td id=\"T_bf1af_row2_col1\" class=\"data row2 col1\" >26938</td>\n",
       "    </tr>\n",
       "    <tr>\n",
       "      <td id=\"T_bf1af_row3_col0\" class=\"data row3 col0\" >DOI</td>\n",
       "      <td id=\"T_bf1af_row3_col1\" class=\"data row3 col1\" > <a href=\"https://doi.org/10.83126/ukllc-dataset-00226-01\" rel=\"noopener noreferrer\" target=\"_blank\">10.83126/ukllc-dataset-00226-01</a></td>\n",
       "    </tr>\n",
       "    <tr>\n",
       "      <td id=\"T_bf1af_row4_col0\" class=\"data row4 col0\" >Change Log</td>\n",
       "      <td id=\"T_bf1af_row4_col1\" class=\"data row4 col1\" > <a href=\"https://api.test.datacite.org/dois/10.83126/ukllc-dataset-00226-01/activities\" rel=\"noopener noreferrer\" target=\"_blank\">10.83126/ukllc-dataset-00226-01/activities</a></td>\n",
       "    </tr>\n",
       "  </tbody>\n",
       "</table>\n"
      ],
      "text/plain": [
       "<pandas.io.formats.style.Styler at 0x1d44fab1550>"
      ]
     },
     "execution_count": 4,
     "metadata": {},
     "output_type": "execute_result"
    }
   ],
   "source": [
    "ds.version_history()"
   ]
  },
  {
   "cell_type": "markdown",
   "id": "b042f837",
   "metadata": {},
   "source": [
    "## 3. Documentation"
   ]
  },
  {
   "cell_type": "code",
   "execution_count": 5,
   "id": "25db6ac8",
   "metadata": {
    "execution": {
     "iopub.execute_input": "2025-07-17T17:28:32.027960Z",
     "iopub.status.busy": "2025-07-17T17:28:32.026959Z",
     "iopub.status.idle": "2025-07-17T17:28:32.030966Z",
     "shell.execute_reply": "2025-07-17T17:28:32.030966Z"
    },
    "tags": [
     "remove-input"
    ]
   },
   "outputs": [
    {
     "data": {
      "text/markdown": [
       "We are currently building a documentation storage system which will host useful documents related to datasets and data owners. We will surface these documents on Guidebook."
      ],
      "text/plain": [
       "<IPython.core.display.Markdown object>"
      ]
     },
     "metadata": {},
     "output_type": "display_data"
    }
   ],
   "source": [
    "ds.documentation()"
   ]
  },
  {
   "cell_type": "markdown",
   "id": "b3cf6820",
   "metadata": {},
   "source": [
    "## 4. Useful Syntax"
   ]
  },
  {
   "cell_type": "code",
   "execution_count": 6,
   "id": "3a516766",
   "metadata": {
    "execution": {
     "iopub.execute_input": "2025-07-17T17:28:32.032973Z",
     "iopub.status.busy": "2025-07-17T17:28:32.032973Z",
     "iopub.status.idle": "2025-07-17T17:28:32.036402Z",
     "shell.execute_reply": "2025-07-17T17:28:32.036402Z"
    },
    "tags": [
     "remove-input"
    ]
   },
   "outputs": [
    {
     "data": {
      "text/markdown": [
       "Below we will include syntax that may be helpful to other researchers in the UK LLC TRE. For longer scripts, we will include a snippet of the code plus a link to Git where you can find the full scripts."
      ],
      "text/plain": [
       "<IPython.core.display.Markdown object>"
      ]
     },
     "metadata": {},
     "output_type": "display_data"
    }
   ],
   "source": [
    "ds.useful_syntax()"
   ]
  }
 ],
 "metadata": {
  "language_info": {
   "codemirror_mode": {
    "name": "ipython",
    "version": 3
   },
   "file_extension": ".py",
   "mimetype": "text/x-python",
   "name": "python",
   "nbconvert_exporter": "python",
   "pygments_lexer": "ipython3",
   "version": "3.12.7"
  }
 },
 "nbformat": 4,
 "nbformat_minor": 5
}
