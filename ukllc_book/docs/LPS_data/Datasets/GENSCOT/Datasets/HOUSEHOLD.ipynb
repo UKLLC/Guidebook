{
 "cells": [
  {
   "cell_type": "markdown",
   "id": "f736de9b",
   "metadata": {},
   "source": [
    "# Household (GENSCOT)"
   ]
  },
  {
   "cell_type": "code",
   "execution_count": 1,
   "id": "5edacb61",
   "metadata": {
    "execution": {
     "iopub.execute_input": "2025-07-28T19:01:39.709276Z",
     "iopub.status.busy": "2025-07-28T19:01:39.709276Z",
     "iopub.status.idle": "2025-07-28T19:01:52.278301Z",
     "shell.execute_reply": "2025-07-28T19:01:52.276235Z"
    },
    "tags": [
     "remove-input"
    ]
   },
   "outputs": [
    {
     "data": {
      "text/markdown": [
       ">Last modified: 28 Jul 2025"
      ],
      "text/plain": [
       "<IPython.core.display.Markdown object>"
      ]
     },
     "metadata": {},
     "output_type": "display_data"
    }
   ],
   "source": [
    "\n",
    "import sys\n",
    "import os\n",
    "sys.path.append(os.path.abspath('../../../../scripts/'))\n",
    "from data_doc_helper import LPSDataSet as DS, last_modified\n",
    "API_KEY = os.environ['FASTAPI_KEY']\n",
    "ds = DS(\"GENSCOT\", \"HOUSEHOLD\")\n",
    "last_modified()\n"
   ]
  },
  {
   "cell_type": "markdown",
   "id": "23c50159",
   "metadata": {},
   "source": [
    "## 1. Summary"
   ]
  },
  {
   "cell_type": "code",
   "execution_count": 2,
   "id": "92a7475a",
   "metadata": {
    "execution": {
     "iopub.execute_input": "2025-07-28T19:01:52.288092Z",
     "iopub.status.busy": "2025-07-28T19:01:52.287093Z",
     "iopub.status.idle": "2025-07-28T19:01:52.305713Z",
     "shell.execute_reply": "2025-07-28T19:01:52.302810Z"
    },
    "tags": [
     "remove-input"
    ]
   },
   "outputs": [
    {
     "data": {
      "text/markdown": [
       "Socio-demographic and clinical data were obtained from around 24,000 volunteers across Scotland. Volunteers were aged between 18-98 and were assessed via clinic visits and questionnaires."
      ],
      "text/plain": [
       "<IPython.core.display.Markdown object>"
      ]
     },
     "metadata": {},
     "output_type": "display_data"
    }
   ],
   "source": [
    "ds.summary()"
   ]
  },
  {
   "cell_type": "code",
   "execution_count": 3,
   "id": "ac1db909",
   "metadata": {
    "execution": {
     "iopub.execute_input": "2025-07-28T19:01:52.313735Z",
     "iopub.status.busy": "2025-07-28T19:01:52.312734Z",
     "iopub.status.idle": "2025-07-28T19:01:53.987532Z",
     "shell.execute_reply": "2025-07-28T19:01:53.985518Z"
    },
    "tags": [
     "remove-input"
    ]
   },
   "outputs": [
    {
     "data": {
      "text/html": [
       "<style type=\"text/css\">\n",
       "#T_ab3ca th {\n",
       "  text-align: left;\n",
       "}\n",
       "#T_ab3ca_row0_col0, #T_ab3ca_row0_col1, #T_ab3ca_row1_col0, #T_ab3ca_row1_col1, #T_ab3ca_row2_col0, #T_ab3ca_row2_col1, #T_ab3ca_row3_col0, #T_ab3ca_row3_col1, #T_ab3ca_row4_col0, #T_ab3ca_row4_col1, #T_ab3ca_row5_col0, #T_ab3ca_row5_col1, #T_ab3ca_row6_col0, #T_ab3ca_row6_col1, #T_ab3ca_row7_col0, #T_ab3ca_row7_col1, #T_ab3ca_row8_col0, #T_ab3ca_row8_col1, #T_ab3ca_row9_col0, #T_ab3ca_row9_col1, #T_ab3ca_row10_col0, #T_ab3ca_row10_col1, #T_ab3ca_row11_col0, #T_ab3ca_row11_col1, #T_ab3ca_row12_col0, #T_ab3ca_row12_col1 {\n",
       "  text-align: left;\n",
       "}\n",
       "</style>\n",
       "<table id=\"T_ab3ca\" style=\"font-size: 14px\">\n",
       "  <thead>\n",
       "    <tr>\n",
       "      <th id=\"T_ab3ca_level0_col0\" class=\"col_heading level0 col0\" >Dataset Descriptor</th>\n",
       "      <th id=\"T_ab3ca_level0_col1\" class=\"col_heading level0 col1\" >Dataset-specific Information</th>\n",
       "    </tr>\n",
       "  </thead>\n",
       "  <tbody>\n",
       "    <tr>\n",
       "      <td id=\"T_ab3ca_row0_col0\" class=\"data row0 col0\" >Name of Dataset in TRE</td>\n",
       "      <td id=\"T_ab3ca_row0_col1\" class=\"data row0 col1\" >GENSCOT_HOUSEHOLD</td>\n",
       "    </tr>\n",
       "    <tr>\n",
       "      <td id=\"T_ab3ca_row1_col0\" class=\"data row1 col0\" >Citation (APA)</td>\n",
       "      <td id=\"T_ab3ca_row1_col1\" class=\"data row1 col1\" >Centre for Medical Informatics, Usher Institute, University of Edinburgh. (2022). <i>Generation Scotland (GENSCOT): Household.</i> UK Longitudinal Linkage Collaboration (UK LLC).  <a href=\"https://doi.org/10.71760/ukllc-dataset-00134-02\" rel=\"noopener noreferrer\" target=\"_blank\">https://doi.org/10.71760/ukllc-dataset-00134-02</a></td>\n",
       "    </tr>\n",
       "    <tr>\n",
       "      <td id=\"T_ab3ca_row2_col0\" class=\"data row2 col0\" >Download Citation</td>\n",
       "      <td id=\"T_ab3ca_row2_col1\" class=\"data row2 col1\" > <a href=\"https://api.datacite.org/application/vnd.citationstyles.csl+json/10.71760/ukllc-dataset-00134-02\" rel=\"noopener noreferrer\" target=\"_blank\">Citeproc JSON</a>&nbsp;&nbsp;&nbsp;&nbsp; <a href=\"https://api.datacite.org/application/x-bibtex/10.71760/ukllc-dataset-00134-02\" rel=\"noopener noreferrer\" target=\"_blank\">BibTeX</a>&nbsp;&nbsp;&nbsp;&nbsp; <a href=\"https://api.datacite.org/application/x-research-info-systems/10.71760/ukllc-dataset-00134-02\" rel=\"noopener noreferrer\" target=\"_blank\">RIS</a></td>\n",
       "    </tr>\n",
       "    <tr>\n",
       "      <td id=\"T_ab3ca_row3_col0\" class=\"data row3 col0\" >Series</td>\n",
       "      <td id=\"T_ab3ca_row3_col1\" class=\"data row3 col1\" > <a href=\"https://guidebook.ukllc.ac.uk/docs/lps_data/lps%20profiles/GENSCOT\">Generation Scotland (GENSCOT)</a></td>\n",
       "    </tr>\n",
       "    <tr>\n",
       "      <td id=\"T_ab3ca_row4_col0\" class=\"data row4 col0\" >Owner</td>\n",
       "      <td id=\"T_ab3ca_row4_col1\" class=\"data row4 col1\" >University of Edinburgh</td>\n",
       "    </tr>\n",
       "    <tr>\n",
       "      <td id=\"T_ab3ca_row5_col0\" class=\"data row5 col0\" >Temporal Coverage</td>\n",
       "      <td id=\"T_ab3ca_row5_col1\" class=\"data row5 col1\" >01/2006 - 05/2011</td>\n",
       "    </tr>\n",
       "    <tr>\n",
       "      <td id=\"T_ab3ca_row6_col0\" class=\"data row6 col0\" >Keywords</td>\n",
       "      <td id=\"T_ab3ca_row6_col1\" class=\"data row6 col1\" ></td>\n",
       "    </tr>\n",
       "    <tr>\n",
       "      <td id=\"T_ab3ca_row7_col0\" class=\"data row7 col0\" >Participants Invited</td>\n",
       "      <td id=\"T_ab3ca_row7_col1\" class=\"data row7 col1\" >21592</td>\n",
       "    </tr>\n",
       "    <tr>\n",
       "      <td id=\"T_ab3ca_row8_col0\" class=\"data row8 col0\" >Participant Count</td>\n",
       "      <td id=\"T_ab3ca_row8_col1\" class=\"data row8 col1\" >20881</td>\n",
       "    </tr>\n",
       "    <tr>\n",
       "      <td id=\"T_ab3ca_row9_col0\" class=\"data row9 col0\" >Number of variables</td>\n",
       "      <td id=\"T_ab3ca_row9_col1\" class=\"data row9 col1\" >8</td>\n",
       "    </tr>\n",
       "    <tr>\n",
       "      <td id=\"T_ab3ca_row10_col0\" class=\"data row10 col0\" >Number of observations</td>\n",
       "      <td id=\"T_ab3ca_row10_col1\" class=\"data row10 col1\" >21592</td>\n",
       "    </tr>\n",
       "    <tr>\n",
       "      <td id=\"T_ab3ca_row11_col0\" class=\"data row11 col0\" >Specific Restrictions to Data Use</td>\n",
       "      <td id=\"T_ab3ca_row11_col1\" class=\"data row11 col1\" >None</td>\n",
       "    </tr>\n",
       "    <tr>\n",
       "      <td id=\"T_ab3ca_row12_col0\" class=\"data row12 col0\" >Build a Data Request</td>\n",
       "      <td id=\"T_ab3ca_row12_col1\" class=\"data row12 col1\" > <a href=\"https://explore.ukllc.ac.uk/\" rel=\"noopener noreferrer\" target=\"_blank\">https://explore.ukllc.ac.uk/</a></td>\n",
       "    </tr>\n",
       "  </tbody>\n",
       "</table>\n"
      ],
      "text/plain": [
       "<pandas.io.formats.style.Styler at 0x22c44569040>"
      ]
     },
     "execution_count": 3,
     "metadata": {},
     "output_type": "execute_result"
    }
   ],
   "source": [
    "ds.info_table()"
   ]
  },
  {
   "cell_type": "markdown",
   "id": "0fd19be2",
   "metadata": {},
   "source": [
    "## 2. Version History"
   ]
  },
  {
   "cell_type": "code",
   "execution_count": 4,
   "id": "2bf61b53",
   "metadata": {
    "execution": {
     "iopub.execute_input": "2025-07-28T19:01:53.995535Z",
     "iopub.status.busy": "2025-07-28T19:01:53.995535Z",
     "iopub.status.idle": "2025-07-28T19:01:59.707458Z",
     "shell.execute_reply": "2025-07-28T19:01:59.704439Z"
    },
    "tags": [
     "remove-input"
    ]
   },
   "outputs": [
    {
     "data": {
      "text/html": [
       "<style type=\"text/css\">\n",
       "#T_0f1d7 th {\n",
       "  text-align: left;\n",
       "}\n",
       "#T_0f1d7_row0_col0, #T_0f1d7_row0_col1, #T_0f1d7_row0_col2, #T_0f1d7_row1_col0, #T_0f1d7_row1_col1, #T_0f1d7_row1_col2, #T_0f1d7_row2_col0, #T_0f1d7_row2_col1, #T_0f1d7_row2_col2, #T_0f1d7_row3_col0, #T_0f1d7_row3_col1, #T_0f1d7_row3_col2, #T_0f1d7_row4_col0, #T_0f1d7_row4_col1, #T_0f1d7_row4_col2 {\n",
       "  text-align: left;\n",
       "}\n",
       "</style>\n",
       "<table id=\"T_0f1d7\" style=\"font-size: 14px\">\n",
       "  <thead>\n",
       "    <tr>\n",
       "      <th id=\"T_0f1d7_level0_col0\" class=\"col_heading level0 col0\" >Version</th>\n",
       "      <th id=\"T_0f1d7_level0_col1\" class=\"col_heading level0 col1\" >1</th>\n",
       "      <th id=\"T_0f1d7_level0_col2\" class=\"col_heading level0 col2\" >2</th>\n",
       "    </tr>\n",
       "  </thead>\n",
       "  <tbody>\n",
       "    <tr>\n",
       "      <td id=\"T_0f1d7_row0_col0\" class=\"data row0 col0\" >Version Date</td>\n",
       "      <td id=\"T_0f1d7_row0_col1\" class=\"data row0 col1\" >01 Nov 2021</td>\n",
       "      <td id=\"T_0f1d7_row0_col2\" class=\"data row0 col2\" >02 Mar 2022</td>\n",
       "    </tr>\n",
       "    <tr>\n",
       "      <td id=\"T_0f1d7_row1_col0\" class=\"data row1 col0\" >Number of Variables</td>\n",
       "      <td id=\"T_0f1d7_row1_col1\" class=\"data row1 col1\" >7</td>\n",
       "      <td id=\"T_0f1d7_row1_col2\" class=\"data row1 col2\" >8</td>\n",
       "    </tr>\n",
       "    <tr>\n",
       "      <td id=\"T_0f1d7_row2_col0\" class=\"data row2 col0\" >Number of Observations</td>\n",
       "      <td id=\"T_0f1d7_row2_col1\" class=\"data row2 col1\" >21592</td>\n",
       "      <td id=\"T_0f1d7_row2_col2\" class=\"data row2 col2\" >21592</td>\n",
       "    </tr>\n",
       "    <tr>\n",
       "      <td id=\"T_0f1d7_row3_col0\" class=\"data row3 col0\" >DOI</td>\n",
       "      <td id=\"T_0f1d7_row3_col1\" class=\"data row3 col1\" > <a href=\"https://doi.org/10.71760/ukllc-dataset-00134-01\" rel=\"noopener noreferrer\" target=\"_blank\">10.71760/ukllc-dataset-00134-01</a></td>\n",
       "      <td id=\"T_0f1d7_row3_col2\" class=\"data row3 col2\" > <a href=\"https://doi.org/10.71760/ukllc-dataset-00134-02\" rel=\"noopener noreferrer\" target=\"_blank\">10.71760/ukllc-dataset-00134-02</a></td>\n",
       "    </tr>\n",
       "    <tr>\n",
       "      <td id=\"T_0f1d7_row4_col0\" class=\"data row4 col0\" >Change Log</td>\n",
       "      <td id=\"T_0f1d7_row4_col1\" class=\"data row4 col1\" > <a href=\"https://api.test.datacite.org/dois/10.71760/ukllc-dataset-00134-01/activities\" rel=\"noopener noreferrer\" target=\"_blank\">10.71760/ukllc-dataset-00134-01/activities</a></td>\n",
       "      <td id=\"T_0f1d7_row4_col2\" class=\"data row4 col2\" > <a href=\"https://api.test.datacite.org/dois/10.71760/ukllc-dataset-00134-02/activities\" rel=\"noopener noreferrer\" target=\"_blank\">10.71760/ukllc-dataset-00134-02/activities</a></td>\n",
       "    </tr>\n",
       "  </tbody>\n",
       "</table>\n"
      ],
      "text/plain": [
       "<pandas.io.formats.style.Styler at 0x22c4070c290>"
      ]
     },
     "execution_count": 4,
     "metadata": {},
     "output_type": "execute_result"
    }
   ],
   "source": [
    "ds.version_history()"
   ]
  },
  {
   "cell_type": "markdown",
   "id": "fd392de2",
   "metadata": {},
   "source": [
    "## 3. Documentation"
   ]
  },
  {
   "cell_type": "code",
   "execution_count": 5,
   "id": "1e1cb625",
   "metadata": {
    "execution": {
     "iopub.execute_input": "2025-07-28T19:01:59.716151Z",
     "iopub.status.busy": "2025-07-28T19:01:59.715143Z",
     "iopub.status.idle": "2025-07-28T19:01:59.727967Z",
     "shell.execute_reply": "2025-07-28T19:01:59.726158Z"
    },
    "tags": [
     "remove-input"
    ]
   },
   "outputs": [
    {
     "data": {
      "text/markdown": [
       "We are currently building a documentation storage system which will host useful documents related to datasets and data owners. We will surface these documents on Guidebook."
      ],
      "text/plain": [
       "<IPython.core.display.Markdown object>"
      ]
     },
     "metadata": {},
     "output_type": "display_data"
    }
   ],
   "source": [
    "ds.documentation()"
   ]
  },
  {
   "cell_type": "markdown",
   "id": "d407ab42",
   "metadata": {},
   "source": [
    "## 4. Useful Syntax"
   ]
  },
  {
   "cell_type": "code",
   "execution_count": 6,
   "id": "2529a11f",
   "metadata": {
    "execution": {
     "iopub.execute_input": "2025-07-28T19:01:59.734996Z",
     "iopub.status.busy": "2025-07-28T19:01:59.734996Z",
     "iopub.status.idle": "2025-07-28T19:01:59.747649Z",
     "shell.execute_reply": "2025-07-28T19:01:59.744635Z"
    },
    "tags": [
     "remove-input"
    ]
   },
   "outputs": [
    {
     "data": {
      "text/markdown": [
       "Below we will include syntax that may be helpful to other researchers in the UK LLC TRE. For longer scripts, we will include a snippet of the code plus a link to Git where you can find the full scripts."
      ],
      "text/plain": [
       "<IPython.core.display.Markdown object>"
      ]
     },
     "metadata": {},
     "output_type": "display_data"
    }
   ],
   "source": [
    "ds.useful_syntax()"
   ]
  }
 ],
 "metadata": {
  "language_info": {
   "codemirror_mode": {
    "name": "ipython",
    "version": 3
   },
   "file_extension": ".py",
   "mimetype": "text/x-python",
   "name": "python",
   "nbconvert_exporter": "python",
   "pygments_lexer": "ipython3",
   "version": "3.12.7"
  }
 },
 "nbformat": 4,
 "nbformat_minor": 5
}
