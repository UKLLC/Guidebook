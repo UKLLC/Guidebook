{
 "cells": [
  {
   "cell_type": "markdown",
   "id": "67f99cca",
   "metadata": {},
   "source": [
    "# Cognitive (GENSCOT)"
   ]
  },
  {
   "cell_type": "code",
   "execution_count": 1,
   "id": "d4807b07",
   "metadata": {
    "execution": {
     "iopub.execute_input": "2025-07-28T18:58:02.675544Z",
     "iopub.status.busy": "2025-07-28T18:58:02.674545Z",
     "iopub.status.idle": "2025-07-28T18:58:15.546910Z",
     "shell.execute_reply": "2025-07-28T18:58:15.544378Z"
    },
    "tags": [
     "remove-input"
    ]
   },
   "outputs": [
    {
     "data": {
      "text/markdown": [
       ">Last modified: 28 Jul 2025"
      ],
      "text/plain": [
       "<IPython.core.display.Markdown object>"
      ]
     },
     "metadata": {},
     "output_type": "display_data"
    }
   ],
   "source": [
    "\n",
    "import sys\n",
    "import os\n",
    "sys.path.append(os.path.abspath('../../../../scripts/'))\n",
    "from data_doc_helper import LPSDataSet as DS, last_modified\n",
    "API_KEY = os.environ['FASTAPI_KEY']\n",
    "ds = DS(\"GENSCOT\", \"COGNITIVE\")\n",
    "last_modified()\n"
   ]
  },
  {
   "cell_type": "markdown",
   "id": "ca211ad8",
   "metadata": {},
   "source": [
    "## 1. Summary"
   ]
  },
  {
   "cell_type": "code",
   "execution_count": 2,
   "id": "100b7022",
   "metadata": {
    "execution": {
     "iopub.execute_input": "2025-07-28T18:58:15.555342Z",
     "iopub.status.busy": "2025-07-28T18:58:15.555342Z",
     "iopub.status.idle": "2025-07-28T18:58:15.566574Z",
     "shell.execute_reply": "2025-07-28T18:58:15.564555Z"
    },
    "tags": [
     "remove-input"
    ]
   },
   "outputs": [
    {
     "data": {
      "text/markdown": [
       "Socio-demographic and clinical data were obtained from around 24,000 volunteers across Scotland. Volunteers were aged between 18-98 and were assessed via clinic visits and questionnaires."
      ],
      "text/plain": [
       "<IPython.core.display.Markdown object>"
      ]
     },
     "metadata": {},
     "output_type": "display_data"
    }
   ],
   "source": [
    "ds.summary()"
   ]
  },
  {
   "cell_type": "code",
   "execution_count": 3,
   "id": "28a4210e",
   "metadata": {
    "execution": {
     "iopub.execute_input": "2025-07-28T18:58:15.575311Z",
     "iopub.status.busy": "2025-07-28T18:58:15.573907Z",
     "iopub.status.idle": "2025-07-28T18:58:17.103014Z",
     "shell.execute_reply": "2025-07-28T18:58:17.101993Z"
    },
    "tags": [
     "remove-input"
    ]
   },
   "outputs": [
    {
     "data": {
      "text/html": [
       "<style type=\"text/css\">\n",
       "#T_895d4 th {\n",
       "  text-align: left;\n",
       "}\n",
       "#T_895d4_row0_col0, #T_895d4_row0_col1, #T_895d4_row1_col0, #T_895d4_row1_col1, #T_895d4_row2_col0, #T_895d4_row2_col1, #T_895d4_row3_col0, #T_895d4_row3_col1, #T_895d4_row4_col0, #T_895d4_row4_col1, #T_895d4_row5_col0, #T_895d4_row5_col1, #T_895d4_row6_col0, #T_895d4_row6_col1, #T_895d4_row7_col0, #T_895d4_row7_col1, #T_895d4_row8_col0, #T_895d4_row8_col1, #T_895d4_row9_col0, #T_895d4_row9_col1, #T_895d4_row10_col0, #T_895d4_row10_col1, #T_895d4_row11_col0, #T_895d4_row11_col1, #T_895d4_row12_col0, #T_895d4_row12_col1 {\n",
       "  text-align: left;\n",
       "}\n",
       "</style>\n",
       "<table id=\"T_895d4\" style=\"font-size: 14px\">\n",
       "  <thead>\n",
       "    <tr>\n",
       "      <th id=\"T_895d4_level0_col0\" class=\"col_heading level0 col0\" >Dataset Descriptor</th>\n",
       "      <th id=\"T_895d4_level0_col1\" class=\"col_heading level0 col1\" >Dataset-specific Information</th>\n",
       "    </tr>\n",
       "  </thead>\n",
       "  <tbody>\n",
       "    <tr>\n",
       "      <td id=\"T_895d4_row0_col0\" class=\"data row0 col0\" >Name of Dataset in TRE</td>\n",
       "      <td id=\"T_895d4_row0_col1\" class=\"data row0 col1\" >GENSCOT_COGNITIVE</td>\n",
       "    </tr>\n",
       "    <tr>\n",
       "      <td id=\"T_895d4_row1_col0\" class=\"data row1 col0\" >Citation (APA)</td>\n",
       "      <td id=\"T_895d4_row1_col1\" class=\"data row1 col1\" >Centre for Medical Informatics, Usher Institute, University of Edinburgh. (2022). <i>Generation Scotland (GENSCOT): Cognitive.</i> UK Longitudinal Linkage Collaboration (UK LLC).  <a href=\"https://doi.org/10.71760/ukllc-dataset-00126-02\" rel=\"noopener noreferrer\" target=\"_blank\">https://doi.org/10.71760/ukllc-dataset-00126-02</a></td>\n",
       "    </tr>\n",
       "    <tr>\n",
       "      <td id=\"T_895d4_row2_col0\" class=\"data row2 col0\" >Download Citation</td>\n",
       "      <td id=\"T_895d4_row2_col1\" class=\"data row2 col1\" > <a href=\"https://api.datacite.org/application/vnd.citationstyles.csl+json/10.71760/ukllc-dataset-00126-02\" rel=\"noopener noreferrer\" target=\"_blank\">Citeproc JSON</a>&nbsp;&nbsp;&nbsp;&nbsp; <a href=\"https://api.datacite.org/application/x-bibtex/10.71760/ukllc-dataset-00126-02\" rel=\"noopener noreferrer\" target=\"_blank\">BibTeX</a>&nbsp;&nbsp;&nbsp;&nbsp; <a href=\"https://api.datacite.org/application/x-research-info-systems/10.71760/ukllc-dataset-00126-02\" rel=\"noopener noreferrer\" target=\"_blank\">RIS</a></td>\n",
       "    </tr>\n",
       "    <tr>\n",
       "      <td id=\"T_895d4_row3_col0\" class=\"data row3 col0\" >Series</td>\n",
       "      <td id=\"T_895d4_row3_col1\" class=\"data row3 col1\" > <a href=\"https://guidebook.ukllc.ac.uk/docs/lps_data/lps%20profiles/GENSCOT\">Generation Scotland (GENSCOT)</a></td>\n",
       "    </tr>\n",
       "    <tr>\n",
       "      <td id=\"T_895d4_row4_col0\" class=\"data row4 col0\" >Owner</td>\n",
       "      <td id=\"T_895d4_row4_col1\" class=\"data row4 col1\" >University of Edinburgh</td>\n",
       "    </tr>\n",
       "    <tr>\n",
       "      <td id=\"T_895d4_row5_col0\" class=\"data row5 col0\" >Temporal Coverage</td>\n",
       "      <td id=\"T_895d4_row5_col1\" class=\"data row5 col1\" >01/2006 - 05/2011</td>\n",
       "    </tr>\n",
       "    <tr>\n",
       "      <td id=\"T_895d4_row6_col0\" class=\"data row6 col0\" >Keywords</td>\n",
       "      <td id=\"T_895d4_row6_col1\" class=\"data row6 col1\" ></td>\n",
       "    </tr>\n",
       "    <tr>\n",
       "      <td id=\"T_895d4_row7_col0\" class=\"data row7 col0\" >Participants Invited</td>\n",
       "      <td id=\"T_895d4_row7_col1\" class=\"data row7 col1\" >20828</td>\n",
       "    </tr>\n",
       "    <tr>\n",
       "      <td id=\"T_895d4_row8_col0\" class=\"data row8 col0\" >Participant Count</td>\n",
       "      <td id=\"T_895d4_row8_col1\" class=\"data row8 col1\" >20236</td>\n",
       "    </tr>\n",
       "    <tr>\n",
       "      <td id=\"T_895d4_row9_col0\" class=\"data row9 col0\" >Number of variables</td>\n",
       "      <td id=\"T_895d4_row9_col1\" class=\"data row9 col1\" >23</td>\n",
       "    </tr>\n",
       "    <tr>\n",
       "      <td id=\"T_895d4_row10_col0\" class=\"data row10 col0\" >Number of observations</td>\n",
       "      <td id=\"T_895d4_row10_col1\" class=\"data row10 col1\" >20828</td>\n",
       "    </tr>\n",
       "    <tr>\n",
       "      <td id=\"T_895d4_row11_col0\" class=\"data row11 col0\" >Specific Restrictions to Data Use</td>\n",
       "      <td id=\"T_895d4_row11_col1\" class=\"data row11 col1\" >None</td>\n",
       "    </tr>\n",
       "    <tr>\n",
       "      <td id=\"T_895d4_row12_col0\" class=\"data row12 col0\" >Build a Data Request</td>\n",
       "      <td id=\"T_895d4_row12_col1\" class=\"data row12 col1\" > <a href=\"https://explore.ukllc.ac.uk/\" rel=\"noopener noreferrer\" target=\"_blank\">https://explore.ukllc.ac.uk/</a></td>\n",
       "    </tr>\n",
       "  </tbody>\n",
       "</table>\n"
      ],
      "text/plain": [
       "<pandas.io.formats.style.Styler at 0x214825df9e0>"
      ]
     },
     "execution_count": 3,
     "metadata": {},
     "output_type": "execute_result"
    }
   ],
   "source": [
    "ds.info_table()"
   ]
  },
  {
   "cell_type": "markdown",
   "id": "4c152a28",
   "metadata": {},
   "source": [
    "## 2. Version History"
   ]
  },
  {
   "cell_type": "code",
   "execution_count": 4,
   "id": "2d6bc53b",
   "metadata": {
    "execution": {
     "iopub.execute_input": "2025-07-28T18:58:17.112467Z",
     "iopub.status.busy": "2025-07-28T18:58:17.112467Z",
     "iopub.status.idle": "2025-07-28T18:58:22.598964Z",
     "shell.execute_reply": "2025-07-28T18:58:22.596950Z"
    },
    "tags": [
     "remove-input"
    ]
   },
   "outputs": [
    {
     "data": {
      "text/html": [
       "<style type=\"text/css\">\n",
       "#T_74bfa th {\n",
       "  text-align: left;\n",
       "}\n",
       "#T_74bfa_row0_col0, #T_74bfa_row0_col1, #T_74bfa_row0_col2, #T_74bfa_row1_col0, #T_74bfa_row1_col1, #T_74bfa_row1_col2, #T_74bfa_row2_col0, #T_74bfa_row2_col1, #T_74bfa_row2_col2, #T_74bfa_row3_col0, #T_74bfa_row3_col1, #T_74bfa_row3_col2, #T_74bfa_row4_col0, #T_74bfa_row4_col1, #T_74bfa_row4_col2 {\n",
       "  text-align: left;\n",
       "}\n",
       "</style>\n",
       "<table id=\"T_74bfa\" style=\"font-size: 14px\">\n",
       "  <thead>\n",
       "    <tr>\n",
       "      <th id=\"T_74bfa_level0_col0\" class=\"col_heading level0 col0\" >Version</th>\n",
       "      <th id=\"T_74bfa_level0_col1\" class=\"col_heading level0 col1\" >1</th>\n",
       "      <th id=\"T_74bfa_level0_col2\" class=\"col_heading level0 col2\" >2</th>\n",
       "    </tr>\n",
       "  </thead>\n",
       "  <tbody>\n",
       "    <tr>\n",
       "      <td id=\"T_74bfa_row0_col0\" class=\"data row0 col0\" >Version Date</td>\n",
       "      <td id=\"T_74bfa_row0_col1\" class=\"data row0 col1\" >01 Nov 2021</td>\n",
       "      <td id=\"T_74bfa_row0_col2\" class=\"data row0 col2\" >02 Mar 2022</td>\n",
       "    </tr>\n",
       "    <tr>\n",
       "      <td id=\"T_74bfa_row1_col0\" class=\"data row1 col0\" >Number of Variables</td>\n",
       "      <td id=\"T_74bfa_row1_col1\" class=\"data row1 col1\" >22</td>\n",
       "      <td id=\"T_74bfa_row1_col2\" class=\"data row1 col2\" >23</td>\n",
       "    </tr>\n",
       "    <tr>\n",
       "      <td id=\"T_74bfa_row2_col0\" class=\"data row2 col0\" >Number of Observations</td>\n",
       "      <td id=\"T_74bfa_row2_col1\" class=\"data row2 col1\" >20828</td>\n",
       "      <td id=\"T_74bfa_row2_col2\" class=\"data row2 col2\" >20828</td>\n",
       "    </tr>\n",
       "    <tr>\n",
       "      <td id=\"T_74bfa_row3_col0\" class=\"data row3 col0\" >DOI</td>\n",
       "      <td id=\"T_74bfa_row3_col1\" class=\"data row3 col1\" > <a href=\"https://doi.org/10.71760/ukllc-dataset-00126-01\" rel=\"noopener noreferrer\" target=\"_blank\">10.71760/ukllc-dataset-00126-01</a></td>\n",
       "      <td id=\"T_74bfa_row3_col2\" class=\"data row3 col2\" > <a href=\"https://doi.org/10.71760/ukllc-dataset-00126-02\" rel=\"noopener noreferrer\" target=\"_blank\">10.71760/ukllc-dataset-00126-02</a></td>\n",
       "    </tr>\n",
       "    <tr>\n",
       "      <td id=\"T_74bfa_row4_col0\" class=\"data row4 col0\" >Change Log</td>\n",
       "      <td id=\"T_74bfa_row4_col1\" class=\"data row4 col1\" > <a href=\"https://api.test.datacite.org/dois/10.71760/ukllc-dataset-00126-01/activities\" rel=\"noopener noreferrer\" target=\"_blank\">10.71760/ukllc-dataset-00126-01/activities</a></td>\n",
       "      <td id=\"T_74bfa_row4_col2\" class=\"data row4 col2\" > <a href=\"https://api.test.datacite.org/dois/10.71760/ukllc-dataset-00126-02/activities\" rel=\"noopener noreferrer\" target=\"_blank\">10.71760/ukllc-dataset-00126-02/activities</a></td>\n",
       "    </tr>\n",
       "  </tbody>\n",
       "</table>\n"
      ],
      "text/plain": [
       "<pandas.io.formats.style.Styler at 0x214842ba9c0>"
      ]
     },
     "execution_count": 4,
     "metadata": {},
     "output_type": "execute_result"
    }
   ],
   "source": [
    "ds.version_history()"
   ]
  },
  {
   "cell_type": "markdown",
   "id": "c4a97f30",
   "metadata": {},
   "source": [
    "## 3. Documentation"
   ]
  },
  {
   "cell_type": "code",
   "execution_count": 5,
   "id": "393ff336",
   "metadata": {
    "execution": {
     "iopub.execute_input": "2025-07-28T18:58:22.609966Z",
     "iopub.status.busy": "2025-07-28T18:58:22.608965Z",
     "iopub.status.idle": "2025-07-28T18:58:22.630344Z",
     "shell.execute_reply": "2025-07-28T18:58:22.627339Z"
    },
    "tags": [
     "remove-input"
    ]
   },
   "outputs": [
    {
     "data": {
      "text/markdown": [
       "We are currently building a documentation storage system which will host useful documents related to datasets and data owners. We will surface these documents on Guidebook."
      ],
      "text/plain": [
       "<IPython.core.display.Markdown object>"
      ]
     },
     "metadata": {},
     "output_type": "display_data"
    }
   ],
   "source": [
    "ds.documentation()"
   ]
  },
  {
   "cell_type": "markdown",
   "id": "fb4bbcf9",
   "metadata": {},
   "source": [
    "## 4. Useful Syntax"
   ]
  },
  {
   "cell_type": "code",
   "execution_count": 6,
   "id": "dfaa02e8",
   "metadata": {
    "execution": {
     "iopub.execute_input": "2025-07-28T18:58:22.643863Z",
     "iopub.status.busy": "2025-07-28T18:58:22.640850Z",
     "iopub.status.idle": "2025-07-28T18:58:22.661773Z",
     "shell.execute_reply": "2025-07-28T18:58:22.659753Z"
    },
    "tags": [
     "remove-input"
    ]
   },
   "outputs": [
    {
     "data": {
      "text/markdown": [
       "Below we will include syntax that may be helpful to other researchers in the UK LLC TRE. For longer scripts, we will include a snippet of the code plus a link to Git where you can find the full scripts."
      ],
      "text/plain": [
       "<IPython.core.display.Markdown object>"
      ]
     },
     "metadata": {},
     "output_type": "display_data"
    }
   ],
   "source": [
    "ds.useful_syntax()"
   ]
  }
 ],
 "metadata": {
  "language_info": {
   "codemirror_mode": {
    "name": "ipython",
    "version": 3
   },
   "file_extension": ".py",
   "mimetype": "text/x-python",
   "name": "python",
   "nbconvert_exporter": "python",
   "pygments_lexer": "ipython3",
   "version": "3.12.7"
  }
 },
 "nbformat": 4,
 "nbformat_minor": 5
}
