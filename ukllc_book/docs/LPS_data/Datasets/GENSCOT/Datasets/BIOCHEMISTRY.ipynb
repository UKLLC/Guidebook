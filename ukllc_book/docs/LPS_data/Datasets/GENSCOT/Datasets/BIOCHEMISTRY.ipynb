{
 "cells": [
  {
   "cell_type": "markdown",
   "id": "7ed41507",
   "metadata": {},
   "source": [
    "# Biochemistry (GENSCOT)"
   ]
  },
  {
   "cell_type": "code",
   "execution_count": 1,
   "id": "66fe86d1",
   "metadata": {
    "execution": {
     "iopub.execute_input": "2025-07-17T17:23:17.535028Z",
     "iopub.status.busy": "2025-07-17T17:23:17.535028Z",
     "iopub.status.idle": "2025-07-17T17:23:25.908976Z",
     "shell.execute_reply": "2025-07-17T17:23:25.908976Z"
    },
    "tags": [
     "remove-input"
    ]
   },
   "outputs": [
    {
     "data": {
      "text/markdown": [
       ">Last modified: 17 Jul 2025"
      ],
      "text/plain": [
       "<IPython.core.display.Markdown object>"
      ]
     },
     "metadata": {},
     "output_type": "display_data"
    }
   ],
   "source": [
    "\n",
    "import sys\n",
    "import os\n",
    "sys.path.append(os.path.abspath('../../../../scripts/'))\n",
    "from data_doc_helper import LPSDataSet as DS, last_modified\n",
    "API_KEY = os.environ['FASTAPI_KEY']\n",
    "ds = DS(\"GENSCOT\", \"BIOCHEMISTRY\")\n",
    "last_modified()\n"
   ]
  },
  {
   "cell_type": "markdown",
   "id": "a6101af4",
   "metadata": {},
   "source": [
    "## 1. Summary"
   ]
  },
  {
   "cell_type": "code",
   "execution_count": 2,
   "id": "08e24078",
   "metadata": {
    "execution": {
     "iopub.execute_input": "2025-07-17T17:23:25.911505Z",
     "iopub.status.busy": "2025-07-17T17:23:25.911505Z",
     "iopub.status.idle": "2025-07-17T17:23:25.914811Z",
     "shell.execute_reply": "2025-07-17T17:23:25.914811Z"
    },
    "tags": [
     "remove-input"
    ]
   },
   "outputs": [
    {
     "data": {
      "text/markdown": [
       "Socio-demographic and clinical data were obtained from around 24,000 volunteers across Scotland. Volunteers were aged between 18-98 and were assessed via clinic visits and questionnaires."
      ],
      "text/plain": [
       "<IPython.core.display.Markdown object>"
      ]
     },
     "metadata": {},
     "output_type": "display_data"
    }
   ],
   "source": [
    "ds.summary()"
   ]
  },
  {
   "cell_type": "code",
   "execution_count": 3,
   "id": "5990d1fe",
   "metadata": {
    "execution": {
     "iopub.execute_input": "2025-07-17T17:23:25.916816Z",
     "iopub.status.busy": "2025-07-17T17:23:25.916816Z",
     "iopub.status.idle": "2025-07-17T17:23:26.515230Z",
     "shell.execute_reply": "2025-07-17T17:23:26.515230Z"
    },
    "tags": [
     "remove-input"
    ]
   },
   "outputs": [
    {
     "data": {
      "text/html": [
       "<style type=\"text/css\">\n",
       "#T_c6155 th {\n",
       "  text-align: left;\n",
       "}\n",
       "#T_c6155_row0_col0, #T_c6155_row0_col1, #T_c6155_row1_col0, #T_c6155_row1_col1, #T_c6155_row2_col0, #T_c6155_row2_col1, #T_c6155_row3_col0, #T_c6155_row3_col1, #T_c6155_row4_col0, #T_c6155_row4_col1, #T_c6155_row5_col0, #T_c6155_row5_col1, #T_c6155_row6_col0, #T_c6155_row6_col1, #T_c6155_row7_col0, #T_c6155_row7_col1, #T_c6155_row8_col0, #T_c6155_row8_col1, #T_c6155_row9_col0, #T_c6155_row9_col1, #T_c6155_row10_col0, #T_c6155_row10_col1, #T_c6155_row11_col0, #T_c6155_row11_col1, #T_c6155_row12_col0, #T_c6155_row12_col1 {\n",
       "  text-align: left;\n",
       "}\n",
       "</style>\n",
       "<table id=\"T_c6155\" style=\"font-size: 14px\">\n",
       "  <thead>\n",
       "    <tr>\n",
       "      <th id=\"T_c6155_level0_col0\" class=\"col_heading level0 col0\" >Dataset Descriptor</th>\n",
       "      <th id=\"T_c6155_level0_col1\" class=\"col_heading level0 col1\" >Dataset-specific Information</th>\n",
       "    </tr>\n",
       "  </thead>\n",
       "  <tbody>\n",
       "    <tr>\n",
       "      <td id=\"T_c6155_row0_col0\" class=\"data row0 col0\" >Name of Dataset in TRE</td>\n",
       "      <td id=\"T_c6155_row0_col1\" class=\"data row0 col1\" >GENSCOT_BIOCHEMISTRY</td>\n",
       "    </tr>\n",
       "    <tr>\n",
       "      <td id=\"T_c6155_row1_col0\" class=\"data row1 col0\" >Citation (APA)</td>\n",
       "      <td id=\"T_c6155_row1_col1\" class=\"data row1 col1\" >Centre for Medical Informatics, Usher Institute, University of Edinburgh. (2022). <i>Generation Scotland: Scottish Family Health Study (GS:SFHS): Biochemistry.</i> UK Longitudinal Linkage Collaboration (UK LLC).  <a href=\"https://doi.org/10.83126/ukllc-dataset-00202-02\" rel=\"noopener noreferrer\" target=\"_blank\">https://doi.org/10.83126/ukllc-dataset-00202-02</a></td>\n",
       "    </tr>\n",
       "    <tr>\n",
       "      <td id=\"T_c6155_row2_col0\" class=\"data row2 col0\" >Download Citation</td>\n",
       "      <td id=\"T_c6155_row2_col1\" class=\"data row2 col1\" > <a href=\"https://api.test.datacite.org/application/vnd.citationstyles.csl+json/10.83126/ukllc-dataset-00202-02\" rel=\"noopener noreferrer\" target=\"_blank\">Citeproc JSON</a>&nbsp;&nbsp;&nbsp;&nbsp; <a href=\"https://api.test.datacite.org/application/x-bibtex/10.83126/ukllc-dataset-00202-02\" rel=\"noopener noreferrer\" target=\"_blank\">BibTeX</a>&nbsp;&nbsp;&nbsp;&nbsp; <a href=\"https://api.test.datacite.org/application/x-research-info-systems/10.83126/ukllc-dataset-00202-02\" rel=\"noopener noreferrer\" target=\"_blank\">RIS</a></td>\n",
       "    </tr>\n",
       "    <tr>\n",
       "      <td id=\"T_c6155_row3_col0\" class=\"data row3 col0\" >Series</td>\n",
       "      <td id=\"T_c6155_row3_col1\" class=\"data row3 col1\" > <a href=\"https://guidebook.ukllc.ac.uk/docs/lps/lps%20profiles/GENSCOT\">Generation Scotland: Scottish Family Health Study (GS:SFHS)</a></td>\n",
       "    </tr>\n",
       "    <tr>\n",
       "      <td id=\"T_c6155_row4_col0\" class=\"data row4 col0\" >Owner</td>\n",
       "      <td id=\"T_c6155_row4_col1\" class=\"data row4 col1\" >University of Edinburgh</td>\n",
       "    </tr>\n",
       "    <tr>\n",
       "      <td id=\"T_c6155_row5_col0\" class=\"data row5 col0\" >Temporal Coverage</td>\n",
       "      <td id=\"T_c6155_row5_col1\" class=\"data row5 col1\" >01/2006 - 05/2011</td>\n",
       "    </tr>\n",
       "    <tr>\n",
       "      <td id=\"T_c6155_row6_col0\" class=\"data row6 col0\" >Keywords</td>\n",
       "      <td id=\"T_c6155_row6_col1\" class=\"data row6 col1\" ></td>\n",
       "    </tr>\n",
       "    <tr>\n",
       "      <td id=\"T_c6155_row7_col0\" class=\"data row7 col0\" >Participants Invited</td>\n",
       "      <td id=\"T_c6155_row7_col1\" class=\"data row7 col1\" >19718</td>\n",
       "    </tr>\n",
       "    <tr>\n",
       "      <td id=\"T_c6155_row8_col0\" class=\"data row8 col0\" >Participant Count</td>\n",
       "      <td id=\"T_c6155_row8_col1\" class=\"data row8 col1\" >19220</td>\n",
       "    </tr>\n",
       "    <tr>\n",
       "      <td id=\"T_c6155_row9_col0\" class=\"data row9 col0\" >Number of variables</td>\n",
       "      <td id=\"T_c6155_row9_col1\" class=\"data row9 col1\" >12</td>\n",
       "    </tr>\n",
       "    <tr>\n",
       "      <td id=\"T_c6155_row10_col0\" class=\"data row10 col0\" >Number of observations</td>\n",
       "      <td id=\"T_c6155_row10_col1\" class=\"data row10 col1\" >19718</td>\n",
       "    </tr>\n",
       "    <tr>\n",
       "      <td id=\"T_c6155_row11_col0\" class=\"data row11 col0\" >Specific Restrictions to Data Use</td>\n",
       "      <td id=\"T_c6155_row11_col1\" class=\"data row11 col1\" >None</td>\n",
       "    </tr>\n",
       "    <tr>\n",
       "      <td id=\"T_c6155_row12_col0\" class=\"data row12 col0\" >Build a Data Request</td>\n",
       "      <td id=\"T_c6155_row12_col1\" class=\"data row12 col1\" > <a href=\"https://explore.ukllc.ac.uk/\" rel=\"noopener noreferrer\" target=\"_blank\">https://explore.ukllc.ac.uk/</a></td>\n",
       "    </tr>\n",
       "  </tbody>\n",
       "</table>\n"
      ],
      "text/plain": [
       "<pandas.io.formats.style.Styler at 0x218028dc590>"
      ]
     },
     "execution_count": 3,
     "metadata": {},
     "output_type": "execute_result"
    }
   ],
   "source": [
    "ds.info_table()"
   ]
  },
  {
   "cell_type": "markdown",
   "id": "9b9f71cd",
   "metadata": {},
   "source": [
    "## 2. Version History"
   ]
  },
  {
   "cell_type": "code",
   "execution_count": 4,
   "id": "83056507",
   "metadata": {
    "execution": {
     "iopub.execute_input": "2025-07-17T17:23:26.519237Z",
     "iopub.status.busy": "2025-07-17T17:23:26.519237Z",
     "iopub.status.idle": "2025-07-17T17:23:30.302081Z",
     "shell.execute_reply": "2025-07-17T17:23:30.302081Z"
    },
    "tags": [
     "remove-input"
    ]
   },
   "outputs": [
    {
     "data": {
      "text/html": [
       "<style type=\"text/css\">\n",
       "#T_37980 th {\n",
       "  text-align: left;\n",
       "}\n",
       "#T_37980_row0_col0, #T_37980_row0_col1, #T_37980_row0_col2, #T_37980_row1_col0, #T_37980_row1_col1, #T_37980_row1_col2, #T_37980_row2_col0, #T_37980_row2_col1, #T_37980_row2_col2, #T_37980_row3_col0, #T_37980_row3_col1, #T_37980_row3_col2, #T_37980_row4_col0, #T_37980_row4_col1, #T_37980_row4_col2 {\n",
       "  text-align: left;\n",
       "}\n",
       "</style>\n",
       "<table id=\"T_37980\" style=\"font-size: 14px\">\n",
       "  <thead>\n",
       "    <tr>\n",
       "      <th id=\"T_37980_level0_col0\" class=\"col_heading level0 col0\" >Version</th>\n",
       "      <th id=\"T_37980_level0_col1\" class=\"col_heading level0 col1\" >1</th>\n",
       "      <th id=\"T_37980_level0_col2\" class=\"col_heading level0 col2\" >2</th>\n",
       "    </tr>\n",
       "  </thead>\n",
       "  <tbody>\n",
       "    <tr>\n",
       "      <td id=\"T_37980_row0_col0\" class=\"data row0 col0\" >Version Date</td>\n",
       "      <td id=\"T_37980_row0_col1\" class=\"data row0 col1\" >01 Nov 2021</td>\n",
       "      <td id=\"T_37980_row0_col2\" class=\"data row0 col2\" >02 Mar 2022</td>\n",
       "    </tr>\n",
       "    <tr>\n",
       "      <td id=\"T_37980_row1_col0\" class=\"data row1 col0\" >Number of Variables</td>\n",
       "      <td id=\"T_37980_row1_col1\" class=\"data row1 col1\" >11</td>\n",
       "      <td id=\"T_37980_row1_col2\" class=\"data row1 col2\" >12</td>\n",
       "    </tr>\n",
       "    <tr>\n",
       "      <td id=\"T_37980_row2_col0\" class=\"data row2 col0\" >Number of Observations</td>\n",
       "      <td id=\"T_37980_row2_col1\" class=\"data row2 col1\" >19718</td>\n",
       "      <td id=\"T_37980_row2_col2\" class=\"data row2 col2\" >19718</td>\n",
       "    </tr>\n",
       "    <tr>\n",
       "      <td id=\"T_37980_row3_col0\" class=\"data row3 col0\" >DOI</td>\n",
       "      <td id=\"T_37980_row3_col1\" class=\"data row3 col1\" > <a href=\"https://doi.org/10.83126/ukllc-dataset-00202-01\" rel=\"noopener noreferrer\" target=\"_blank\">10.83126/ukllc-dataset-00202-01</a></td>\n",
       "      <td id=\"T_37980_row3_col2\" class=\"data row3 col2\" > <a href=\"https://doi.org/10.83126/ukllc-dataset-00202-02\" rel=\"noopener noreferrer\" target=\"_blank\">10.83126/ukllc-dataset-00202-02</a></td>\n",
       "    </tr>\n",
       "    <tr>\n",
       "      <td id=\"T_37980_row4_col0\" class=\"data row4 col0\" >Change Log</td>\n",
       "      <td id=\"T_37980_row4_col1\" class=\"data row4 col1\" > <a href=\"https://api.test.datacite.org/dois/10.83126/ukllc-dataset-00202-01/activities\" rel=\"noopener noreferrer\" target=\"_blank\">10.83126/ukllc-dataset-00202-01/activities</a></td>\n",
       "      <td id=\"T_37980_row4_col2\" class=\"data row4 col2\" > <a href=\"https://api.test.datacite.org/dois/10.83126/ukllc-dataset-00202-02/activities\" rel=\"noopener noreferrer\" target=\"_blank\">10.83126/ukllc-dataset-00202-02/activities</a></td>\n",
       "    </tr>\n",
       "  </tbody>\n",
       "</table>\n"
      ],
      "text/plain": [
       "<pandas.io.formats.style.Styler at 0x21808737c80>"
      ]
     },
     "execution_count": 4,
     "metadata": {},
     "output_type": "execute_result"
    }
   ],
   "source": [
    "ds.version_history()"
   ]
  },
  {
   "cell_type": "markdown",
   "id": "8a7af991",
   "metadata": {},
   "source": [
    "## 3. Documentation"
   ]
  },
  {
   "cell_type": "code",
   "execution_count": 5,
   "id": "5266033f",
   "metadata": {
    "execution": {
     "iopub.execute_input": "2025-07-17T17:23:30.306087Z",
     "iopub.status.busy": "2025-07-17T17:23:30.305087Z",
     "iopub.status.idle": "2025-07-17T17:23:30.309086Z",
     "shell.execute_reply": "2025-07-17T17:23:30.309086Z"
    },
    "tags": [
     "remove-input"
    ]
   },
   "outputs": [
    {
     "data": {
      "text/markdown": [
       "We are currently building a documentation storage system which will host useful documents related to datasets and data owners. We will surface these documents on Guidebook."
      ],
      "text/plain": [
       "<IPython.core.display.Markdown object>"
      ]
     },
     "metadata": {},
     "output_type": "display_data"
    }
   ],
   "source": [
    "ds.documentation()"
   ]
  },
  {
   "cell_type": "markdown",
   "id": "daf8a397",
   "metadata": {},
   "source": [
    "## 4. Useful Syntax"
   ]
  },
  {
   "cell_type": "code",
   "execution_count": 6,
   "id": "710b7185",
   "metadata": {
    "execution": {
     "iopub.execute_input": "2025-07-17T17:23:30.312102Z",
     "iopub.status.busy": "2025-07-17T17:23:30.311101Z",
     "iopub.status.idle": "2025-07-17T17:23:30.314956Z",
     "shell.execute_reply": "2025-07-17T17:23:30.314956Z"
    },
    "tags": [
     "remove-input"
    ]
   },
   "outputs": [
    {
     "data": {
      "text/markdown": [
       "Below we will include syntax that may be helpful to other researchers in the UK LLC TRE. For longer scripts, we will include a snippet of the code plus a link to Git where you can find the full scripts."
      ],
      "text/plain": [
       "<IPython.core.display.Markdown object>"
      ]
     },
     "metadata": {},
     "output_type": "display_data"
    }
   ],
   "source": [
    "ds.useful_syntax()"
   ]
  }
 ],
 "metadata": {
  "language_info": {
   "codemirror_mode": {
    "name": "ipython",
    "version": 3
   },
   "file_extension": ".py",
   "mimetype": "text/x-python",
   "name": "python",
   "nbconvert_exporter": "python",
   "pygments_lexer": "ipython3",
   "version": "3.12.7"
  }
 },
 "nbformat": 4,
 "nbformat_minor": 5
}
