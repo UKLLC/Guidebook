{
 "cells": [
  {
   "cell_type": "markdown",
   "id": "660325e9",
   "metadata": {},
   "source": [
    "# Body (GENSCOT)"
   ]
  },
  {
   "cell_type": "code",
   "execution_count": 1,
   "id": "84dd950d",
   "metadata": {
    "execution": {
     "iopub.execute_input": "2025-07-28T18:56:49.920339Z",
     "iopub.status.busy": "2025-07-28T18:56:49.920339Z",
     "iopub.status.idle": "2025-07-28T18:57:02.839772Z",
     "shell.execute_reply": "2025-07-28T18:57:02.838753Z"
    },
    "tags": [
     "remove-input"
    ]
   },
   "outputs": [
    {
     "data": {
      "text/markdown": [
       ">Last modified: 28 Jul 2025"
      ],
      "text/plain": [
       "<IPython.core.display.Markdown object>"
      ]
     },
     "metadata": {},
     "output_type": "display_data"
    }
   ],
   "source": [
    "\n",
    "import sys\n",
    "import os\n",
    "sys.path.append(os.path.abspath('../../../../scripts/'))\n",
    "from data_doc_helper import LPSDataSet as DS, last_modified\n",
    "API_KEY = os.environ['FASTAPI_KEY']\n",
    "ds = DS(\"GENSCOT\", \"BODY\")\n",
    "last_modified()\n"
   ]
  },
  {
   "cell_type": "markdown",
   "id": "a8973bac",
   "metadata": {},
   "source": [
    "## 1. Summary"
   ]
  },
  {
   "cell_type": "code",
   "execution_count": 2,
   "id": "6819c7e0",
   "metadata": {
    "execution": {
     "iopub.execute_input": "2025-07-28T18:57:02.848770Z",
     "iopub.status.busy": "2025-07-28T18:57:02.847763Z",
     "iopub.status.idle": "2025-07-28T18:57:02.861802Z",
     "shell.execute_reply": "2025-07-28T18:57:02.860185Z"
    },
    "tags": [
     "remove-input"
    ]
   },
   "outputs": [
    {
     "data": {
      "text/markdown": [
       "Socio-demographic and clinical data were obtained from around 24,000 volunteers across Scotland. Volunteers were aged between 18-98 and were assessed via clinic visits and questionnaires."
      ],
      "text/plain": [
       "<IPython.core.display.Markdown object>"
      ]
     },
     "metadata": {},
     "output_type": "display_data"
    }
   ],
   "source": [
    "ds.summary()"
   ]
  },
  {
   "cell_type": "code",
   "execution_count": 3,
   "id": "e752afbd",
   "metadata": {
    "execution": {
     "iopub.execute_input": "2025-07-28T18:57:02.868706Z",
     "iopub.status.busy": "2025-07-28T18:57:02.868706Z",
     "iopub.status.idle": "2025-07-28T18:57:04.824758Z",
     "shell.execute_reply": "2025-07-28T18:57:04.822716Z"
    },
    "tags": [
     "remove-input"
    ]
   },
   "outputs": [
    {
     "data": {
      "text/html": [
       "<style type=\"text/css\">\n",
       "#T_94d02 th {\n",
       "  text-align: left;\n",
       "}\n",
       "#T_94d02_row0_col0, #T_94d02_row0_col1, #T_94d02_row1_col0, #T_94d02_row1_col1, #T_94d02_row2_col0, #T_94d02_row2_col1, #T_94d02_row3_col0, #T_94d02_row3_col1, #T_94d02_row4_col0, #T_94d02_row4_col1, #T_94d02_row5_col0, #T_94d02_row5_col1, #T_94d02_row6_col0, #T_94d02_row6_col1, #T_94d02_row7_col0, #T_94d02_row7_col1, #T_94d02_row8_col0, #T_94d02_row8_col1, #T_94d02_row9_col0, #T_94d02_row9_col1, #T_94d02_row10_col0, #T_94d02_row10_col1, #T_94d02_row11_col0, #T_94d02_row11_col1, #T_94d02_row12_col0, #T_94d02_row12_col1 {\n",
       "  text-align: left;\n",
       "}\n",
       "</style>\n",
       "<table id=\"T_94d02\" style=\"font-size: 14px\">\n",
       "  <thead>\n",
       "    <tr>\n",
       "      <th id=\"T_94d02_level0_col0\" class=\"col_heading level0 col0\" >Dataset Descriptor</th>\n",
       "      <th id=\"T_94d02_level0_col1\" class=\"col_heading level0 col1\" >Dataset-specific Information</th>\n",
       "    </tr>\n",
       "  </thead>\n",
       "  <tbody>\n",
       "    <tr>\n",
       "      <td id=\"T_94d02_row0_col0\" class=\"data row0 col0\" >Name of Dataset in TRE</td>\n",
       "      <td id=\"T_94d02_row0_col1\" class=\"data row0 col1\" >GENSCOT_BODY</td>\n",
       "    </tr>\n",
       "    <tr>\n",
       "      <td id=\"T_94d02_row1_col0\" class=\"data row1 col0\" >Citation (APA)</td>\n",
       "      <td id=\"T_94d02_row1_col1\" class=\"data row1 col1\" >Centre for Medical Informatics, Usher Institute, University of Edinburgh. (2022). <i>Generation Scotland (GENSCOT): Body.</i> UK Longitudinal Linkage Collaboration (UK LLC).  <a href=\"https://doi.org/10.71760/ukllc-dataset-00123-02\" rel=\"noopener noreferrer\" target=\"_blank\">https://doi.org/10.71760/ukllc-dataset-00123-02</a></td>\n",
       "    </tr>\n",
       "    <tr>\n",
       "      <td id=\"T_94d02_row2_col0\" class=\"data row2 col0\" >Download Citation</td>\n",
       "      <td id=\"T_94d02_row2_col1\" class=\"data row2 col1\" > <a href=\"https://api.datacite.org/application/vnd.citationstyles.csl+json/10.71760/ukllc-dataset-00123-02\" rel=\"noopener noreferrer\" target=\"_blank\">Citeproc JSON</a>&nbsp;&nbsp;&nbsp;&nbsp; <a href=\"https://api.datacite.org/application/x-bibtex/10.71760/ukllc-dataset-00123-02\" rel=\"noopener noreferrer\" target=\"_blank\">BibTeX</a>&nbsp;&nbsp;&nbsp;&nbsp; <a href=\"https://api.datacite.org/application/x-research-info-systems/10.71760/ukllc-dataset-00123-02\" rel=\"noopener noreferrer\" target=\"_blank\">RIS</a></td>\n",
       "    </tr>\n",
       "    <tr>\n",
       "      <td id=\"T_94d02_row3_col0\" class=\"data row3 col0\" >Series</td>\n",
       "      <td id=\"T_94d02_row3_col1\" class=\"data row3 col1\" > <a href=\"https://guidebook.ukllc.ac.uk/docs/lps_data/lps%20profiles/GENSCOT\">Generation Scotland (GENSCOT)</a></td>\n",
       "    </tr>\n",
       "    <tr>\n",
       "      <td id=\"T_94d02_row4_col0\" class=\"data row4 col0\" >Owner</td>\n",
       "      <td id=\"T_94d02_row4_col1\" class=\"data row4 col1\" >University of Edinburgh</td>\n",
       "    </tr>\n",
       "    <tr>\n",
       "      <td id=\"T_94d02_row5_col0\" class=\"data row5 col0\" >Temporal Coverage</td>\n",
       "      <td id=\"T_94d02_row5_col1\" class=\"data row5 col1\" >01/2006 - 05/2011</td>\n",
       "    </tr>\n",
       "    <tr>\n",
       "      <td id=\"T_94d02_row6_col0\" class=\"data row6 col0\" >Keywords</td>\n",
       "      <td id=\"T_94d02_row6_col1\" class=\"data row6 col1\" ></td>\n",
       "    </tr>\n",
       "    <tr>\n",
       "      <td id=\"T_94d02_row7_col0\" class=\"data row7 col0\" >Participants Invited</td>\n",
       "      <td id=\"T_94d02_row7_col1\" class=\"data row7 col1\" >20770</td>\n",
       "    </tr>\n",
       "    <tr>\n",
       "      <td id=\"T_94d02_row8_col0\" class=\"data row8 col0\" >Participant Count</td>\n",
       "      <td id=\"T_94d02_row8_col1\" class=\"data row8 col1\" >20201</td>\n",
       "    </tr>\n",
       "    <tr>\n",
       "      <td id=\"T_94d02_row9_col0\" class=\"data row9 col0\" >Number of variables</td>\n",
       "      <td id=\"T_94d02_row9_col1\" class=\"data row9 col1\" >11</td>\n",
       "    </tr>\n",
       "    <tr>\n",
       "      <td id=\"T_94d02_row10_col0\" class=\"data row10 col0\" >Number of observations</td>\n",
       "      <td id=\"T_94d02_row10_col1\" class=\"data row10 col1\" >20770</td>\n",
       "    </tr>\n",
       "    <tr>\n",
       "      <td id=\"T_94d02_row11_col0\" class=\"data row11 col0\" >Specific Restrictions to Data Use</td>\n",
       "      <td id=\"T_94d02_row11_col1\" class=\"data row11 col1\" >None</td>\n",
       "    </tr>\n",
       "    <tr>\n",
       "      <td id=\"T_94d02_row12_col0\" class=\"data row12 col0\" >Build a Data Request</td>\n",
       "      <td id=\"T_94d02_row12_col1\" class=\"data row12 col1\" > <a href=\"https://explore.ukllc.ac.uk/\" rel=\"noopener noreferrer\" target=\"_blank\">https://explore.ukllc.ac.uk/</a></td>\n",
       "    </tr>\n",
       "  </tbody>\n",
       "</table>\n"
      ],
      "text/plain": [
       "<pandas.io.formats.style.Styler at 0x23a3043c3e0>"
      ]
     },
     "execution_count": 3,
     "metadata": {},
     "output_type": "execute_result"
    }
   ],
   "source": [
    "ds.info_table()"
   ]
  },
  {
   "cell_type": "markdown",
   "id": "2b41960f",
   "metadata": {},
   "source": [
    "## 2. Version History"
   ]
  },
  {
   "cell_type": "code",
   "execution_count": 4,
   "id": "2c792bbd",
   "metadata": {
    "execution": {
     "iopub.execute_input": "2025-07-28T18:57:04.833736Z",
     "iopub.status.busy": "2025-07-28T18:57:04.832726Z",
     "iopub.status.idle": "2025-07-28T18:57:10.379766Z",
     "shell.execute_reply": "2025-07-28T18:57:10.376744Z"
    },
    "tags": [
     "remove-input"
    ]
   },
   "outputs": [
    {
     "data": {
      "text/html": [
       "<style type=\"text/css\">\n",
       "#T_41b07 th {\n",
       "  text-align: left;\n",
       "}\n",
       "#T_41b07_row0_col0, #T_41b07_row0_col1, #T_41b07_row0_col2, #T_41b07_row1_col0, #T_41b07_row1_col1, #T_41b07_row1_col2, #T_41b07_row2_col0, #T_41b07_row2_col1, #T_41b07_row2_col2, #T_41b07_row3_col0, #T_41b07_row3_col1, #T_41b07_row3_col2, #T_41b07_row4_col0, #T_41b07_row4_col1, #T_41b07_row4_col2 {\n",
       "  text-align: left;\n",
       "}\n",
       "</style>\n",
       "<table id=\"T_41b07\" style=\"font-size: 14px\">\n",
       "  <thead>\n",
       "    <tr>\n",
       "      <th id=\"T_41b07_level0_col0\" class=\"col_heading level0 col0\" >Version</th>\n",
       "      <th id=\"T_41b07_level0_col1\" class=\"col_heading level0 col1\" >1</th>\n",
       "      <th id=\"T_41b07_level0_col2\" class=\"col_heading level0 col2\" >2</th>\n",
       "    </tr>\n",
       "  </thead>\n",
       "  <tbody>\n",
       "    <tr>\n",
       "      <td id=\"T_41b07_row0_col0\" class=\"data row0 col0\" >Version Date</td>\n",
       "      <td id=\"T_41b07_row0_col1\" class=\"data row0 col1\" >01 Nov 2021</td>\n",
       "      <td id=\"T_41b07_row0_col2\" class=\"data row0 col2\" >02 Mar 2022</td>\n",
       "    </tr>\n",
       "    <tr>\n",
       "      <td id=\"T_41b07_row1_col0\" class=\"data row1 col0\" >Number of Variables</td>\n",
       "      <td id=\"T_41b07_row1_col1\" class=\"data row1 col1\" >10</td>\n",
       "      <td id=\"T_41b07_row1_col2\" class=\"data row1 col2\" >11</td>\n",
       "    </tr>\n",
       "    <tr>\n",
       "      <td id=\"T_41b07_row2_col0\" class=\"data row2 col0\" >Number of Observations</td>\n",
       "      <td id=\"T_41b07_row2_col1\" class=\"data row2 col1\" >20770</td>\n",
       "      <td id=\"T_41b07_row2_col2\" class=\"data row2 col2\" >20770</td>\n",
       "    </tr>\n",
       "    <tr>\n",
       "      <td id=\"T_41b07_row3_col0\" class=\"data row3 col0\" >DOI</td>\n",
       "      <td id=\"T_41b07_row3_col1\" class=\"data row3 col1\" > <a href=\"https://doi.org/10.71760/ukllc-dataset-00123-01\" rel=\"noopener noreferrer\" target=\"_blank\">10.71760/ukllc-dataset-00123-01</a></td>\n",
       "      <td id=\"T_41b07_row3_col2\" class=\"data row3 col2\" > <a href=\"https://doi.org/10.71760/ukllc-dataset-00123-02\" rel=\"noopener noreferrer\" target=\"_blank\">10.71760/ukllc-dataset-00123-02</a></td>\n",
       "    </tr>\n",
       "    <tr>\n",
       "      <td id=\"T_41b07_row4_col0\" class=\"data row4 col0\" >Change Log</td>\n",
       "      <td id=\"T_41b07_row4_col1\" class=\"data row4 col1\" > <a href=\"https://api.test.datacite.org/dois/10.71760/ukllc-dataset-00123-01/activities\" rel=\"noopener noreferrer\" target=\"_blank\">10.71760/ukllc-dataset-00123-01/activities</a></td>\n",
       "      <td id=\"T_41b07_row4_col2\" class=\"data row4 col2\" > <a href=\"https://api.test.datacite.org/dois/10.71760/ukllc-dataset-00123-02/activities\" rel=\"noopener noreferrer\" target=\"_blank\">10.71760/ukllc-dataset-00123-02/activities</a></td>\n",
       "    </tr>\n",
       "  </tbody>\n",
       "</table>\n"
      ],
      "text/plain": [
       "<pandas.io.formats.style.Styler at 0x23a3619d9d0>"
      ]
     },
     "execution_count": 4,
     "metadata": {},
     "output_type": "execute_result"
    }
   ],
   "source": [
    "ds.version_history()"
   ]
  },
  {
   "cell_type": "markdown",
   "id": "d8a699dc",
   "metadata": {},
   "source": [
    "## 3. Documentation"
   ]
  },
  {
   "cell_type": "code",
   "execution_count": 5,
   "id": "eecf43d4",
   "metadata": {
    "execution": {
     "iopub.execute_input": "2025-07-28T18:57:10.389520Z",
     "iopub.status.busy": "2025-07-28T18:57:10.387721Z",
     "iopub.status.idle": "2025-07-28T18:57:10.400980Z",
     "shell.execute_reply": "2025-07-28T18:57:10.398960Z"
    },
    "tags": [
     "remove-input"
    ]
   },
   "outputs": [
    {
     "data": {
      "text/markdown": [
       "We are currently building a documentation storage system which will host useful documents related to datasets and data owners. We will surface these documents on Guidebook."
      ],
      "text/plain": [
       "<IPython.core.display.Markdown object>"
      ]
     },
     "metadata": {},
     "output_type": "display_data"
    }
   ],
   "source": [
    "ds.documentation()"
   ]
  },
  {
   "cell_type": "markdown",
   "id": "c5d20707",
   "metadata": {},
   "source": [
    "## 4. Useful Syntax"
   ]
  },
  {
   "cell_type": "code",
   "execution_count": 6,
   "id": "d356a3b7",
   "metadata": {
    "execution": {
     "iopub.execute_input": "2025-07-28T18:57:10.410185Z",
     "iopub.status.busy": "2025-07-28T18:57:10.408189Z",
     "iopub.status.idle": "2025-07-28T18:57:10.420728Z",
     "shell.execute_reply": "2025-07-28T18:57:10.419065Z"
    },
    "tags": [
     "remove-input"
    ]
   },
   "outputs": [
    {
     "data": {
      "text/markdown": [
       "Below we will include syntax that may be helpful to other researchers in the UK LLC TRE. For longer scripts, we will include a snippet of the code plus a link to Git where you can find the full scripts."
      ],
      "text/plain": [
       "<IPython.core.display.Markdown object>"
      ]
     },
     "metadata": {},
     "output_type": "display_data"
    }
   ],
   "source": [
    "ds.useful_syntax()"
   ]
  }
 ],
 "metadata": {
  "language_info": {
   "codemirror_mode": {
    "name": "ipython",
    "version": 3
   },
   "file_extension": ".py",
   "mimetype": "text/x-python",
   "name": "python",
   "nbconvert_exporter": "python",
   "pygments_lexer": "ipython3",
   "version": "3.12.7"
  }
 },
 "nbformat": 4,
 "nbformat_minor": 5
}
