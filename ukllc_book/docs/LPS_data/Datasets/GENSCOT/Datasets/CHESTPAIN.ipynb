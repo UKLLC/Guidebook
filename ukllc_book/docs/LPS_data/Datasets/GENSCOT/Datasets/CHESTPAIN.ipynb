{
 "cells": [
  {
   "cell_type": "markdown",
   "id": "f6c0a4b7",
   "metadata": {},
   "source": [
    "# Chest Pain (GENSCOT)"
   ]
  },
  {
   "cell_type": "code",
   "execution_count": 1,
   "id": "f4699722",
   "metadata": {
    "execution": {
     "iopub.execute_input": "2025-07-17T17:23:57.428261Z",
     "iopub.status.busy": "2025-07-17T17:23:57.428261Z",
     "iopub.status.idle": "2025-07-17T17:24:04.779171Z",
     "shell.execute_reply": "2025-07-17T17:24:04.779171Z"
    },
    "tags": [
     "remove-input"
    ]
   },
   "outputs": [
    {
     "data": {
      "text/markdown": [
       ">Last modified: 17 Jul 2025"
      ],
      "text/plain": [
       "<IPython.core.display.Markdown object>"
      ]
     },
     "metadata": {},
     "output_type": "display_data"
    }
   ],
   "source": [
    "\n",
    "import sys\n",
    "import os\n",
    "sys.path.append(os.path.abspath('../../../../scripts/'))\n",
    "from data_doc_helper import LPSDataSet as DS, last_modified\n",
    "API_KEY = os.environ['FASTAPI_KEY']\n",
    "ds = DS(\"GENSCOT\", \"CHESTPAIN\")\n",
    "last_modified()\n"
   ]
  },
  {
   "cell_type": "markdown",
   "id": "ee7ba52c",
   "metadata": {},
   "source": [
    "## 1. Summary"
   ]
  },
  {
   "cell_type": "code",
   "execution_count": 2,
   "id": "4b32acad",
   "metadata": {
    "execution": {
     "iopub.execute_input": "2025-07-17T17:24:04.782179Z",
     "iopub.status.busy": "2025-07-17T17:24:04.781182Z",
     "iopub.status.idle": "2025-07-17T17:24:04.785113Z",
     "shell.execute_reply": "2025-07-17T17:24:04.785113Z"
    },
    "tags": [
     "remove-input"
    ]
   },
   "outputs": [
    {
     "data": {
      "text/markdown": [
       "Socio-demographic and clinical data were obtained from around 24,000 volunteers across Scotland. Volunteers were aged between 18-98 and were assessed via clinic visits and questionnaires."
      ],
      "text/plain": [
       "<IPython.core.display.Markdown object>"
      ]
     },
     "metadata": {},
     "output_type": "display_data"
    }
   ],
   "source": [
    "ds.summary()"
   ]
  },
  {
   "cell_type": "code",
   "execution_count": 3,
   "id": "0d1c5dc5",
   "metadata": {
    "execution": {
     "iopub.execute_input": "2025-07-17T17:24:04.787414Z",
     "iopub.status.busy": "2025-07-17T17:24:04.787119Z",
     "iopub.status.idle": "2025-07-17T17:24:05.346660Z",
     "shell.execute_reply": "2025-07-17T17:24:05.346660Z"
    },
    "tags": [
     "remove-input"
    ]
   },
   "outputs": [
    {
     "data": {
      "text/html": [
       "<style type=\"text/css\">\n",
       "#T_a2412 th {\n",
       "  text-align: left;\n",
       "}\n",
       "#T_a2412_row0_col0, #T_a2412_row0_col1, #T_a2412_row1_col0, #T_a2412_row1_col1, #T_a2412_row2_col0, #T_a2412_row2_col1, #T_a2412_row3_col0, #T_a2412_row3_col1, #T_a2412_row4_col0, #T_a2412_row4_col1, #T_a2412_row5_col0, #T_a2412_row5_col1, #T_a2412_row6_col0, #T_a2412_row6_col1, #T_a2412_row7_col0, #T_a2412_row7_col1, #T_a2412_row8_col0, #T_a2412_row8_col1, #T_a2412_row9_col0, #T_a2412_row9_col1, #T_a2412_row10_col0, #T_a2412_row10_col1, #T_a2412_row11_col0, #T_a2412_row11_col1, #T_a2412_row12_col0, #T_a2412_row12_col1 {\n",
       "  text-align: left;\n",
       "}\n",
       "</style>\n",
       "<table id=\"T_a2412\" style=\"font-size: 14px\">\n",
       "  <thead>\n",
       "    <tr>\n",
       "      <th id=\"T_a2412_level0_col0\" class=\"col_heading level0 col0\" >Dataset Descriptor</th>\n",
       "      <th id=\"T_a2412_level0_col1\" class=\"col_heading level0 col1\" >Dataset-specific Information</th>\n",
       "    </tr>\n",
       "  </thead>\n",
       "  <tbody>\n",
       "    <tr>\n",
       "      <td id=\"T_a2412_row0_col0\" class=\"data row0 col0\" >Name of Dataset in TRE</td>\n",
       "      <td id=\"T_a2412_row0_col1\" class=\"data row0 col1\" >GENSCOT_CHESTPAIN</td>\n",
       "    </tr>\n",
       "    <tr>\n",
       "      <td id=\"T_a2412_row1_col0\" class=\"data row1 col0\" >Citation (APA)</td>\n",
       "      <td id=\"T_a2412_row1_col1\" class=\"data row1 col1\" >Centre for Medical Informatics, Usher Institute, University of Edinburgh. (2022). <i>Generation Scotland: Scottish Family Health Study (GS:SFHS): Chest Pain.</i> UK Longitudinal Linkage Collaboration (UK LLC).  <a href=\"https://doi.org/10.83126/ukllc-dataset-00205-02\" rel=\"noopener noreferrer\" target=\"_blank\">https://doi.org/10.83126/ukllc-dataset-00205-02</a></td>\n",
       "    </tr>\n",
       "    <tr>\n",
       "      <td id=\"T_a2412_row2_col0\" class=\"data row2 col0\" >Download Citation</td>\n",
       "      <td id=\"T_a2412_row2_col1\" class=\"data row2 col1\" > <a href=\"https://api.test.datacite.org/application/vnd.citationstyles.csl+json/10.83126/ukllc-dataset-00205-02\" rel=\"noopener noreferrer\" target=\"_blank\">Citeproc JSON</a>&nbsp;&nbsp;&nbsp;&nbsp; <a href=\"https://api.test.datacite.org/application/x-bibtex/10.83126/ukllc-dataset-00205-02\" rel=\"noopener noreferrer\" target=\"_blank\">BibTeX</a>&nbsp;&nbsp;&nbsp;&nbsp; <a href=\"https://api.test.datacite.org/application/x-research-info-systems/10.83126/ukllc-dataset-00205-02\" rel=\"noopener noreferrer\" target=\"_blank\">RIS</a></td>\n",
       "    </tr>\n",
       "    <tr>\n",
       "      <td id=\"T_a2412_row3_col0\" class=\"data row3 col0\" >Series</td>\n",
       "      <td id=\"T_a2412_row3_col1\" class=\"data row3 col1\" > <a href=\"https://guidebook.ukllc.ac.uk/docs/lps/lps%20profiles/GENSCOT\">Generation Scotland: Scottish Family Health Study (GS:SFHS)</a></td>\n",
       "    </tr>\n",
       "    <tr>\n",
       "      <td id=\"T_a2412_row4_col0\" class=\"data row4 col0\" >Owner</td>\n",
       "      <td id=\"T_a2412_row4_col1\" class=\"data row4 col1\" >University of Edinburgh</td>\n",
       "    </tr>\n",
       "    <tr>\n",
       "      <td id=\"T_a2412_row5_col0\" class=\"data row5 col0\" >Temporal Coverage</td>\n",
       "      <td id=\"T_a2412_row5_col1\" class=\"data row5 col1\" >01/2006 - 05/2011</td>\n",
       "    </tr>\n",
       "    <tr>\n",
       "      <td id=\"T_a2412_row6_col0\" class=\"data row6 col0\" >Keywords</td>\n",
       "      <td id=\"T_a2412_row6_col1\" class=\"data row6 col1\" ></td>\n",
       "    </tr>\n",
       "    <tr>\n",
       "      <td id=\"T_a2412_row7_col0\" class=\"data row7 col0\" >Participants Invited</td>\n",
       "      <td id=\"T_a2412_row7_col1\" class=\"data row7 col1\" >21552</td>\n",
       "    </tr>\n",
       "    <tr>\n",
       "      <td id=\"T_a2412_row8_col0\" class=\"data row8 col0\" >Participant Count</td>\n",
       "      <td id=\"T_a2412_row8_col1\" class=\"data row8 col1\" >20365</td>\n",
       "    </tr>\n",
       "    <tr>\n",
       "      <td id=\"T_a2412_row9_col0\" class=\"data row9 col0\" >Number of variables</td>\n",
       "      <td id=\"T_a2412_row9_col1\" class=\"data row9 col1\" >14</td>\n",
       "    </tr>\n",
       "    <tr>\n",
       "      <td id=\"T_a2412_row10_col0\" class=\"data row10 col0\" >Number of observations</td>\n",
       "      <td id=\"T_a2412_row10_col1\" class=\"data row10 col1\" >21552</td>\n",
       "    </tr>\n",
       "    <tr>\n",
       "      <td id=\"T_a2412_row11_col0\" class=\"data row11 col0\" >Specific Restrictions to Data Use</td>\n",
       "      <td id=\"T_a2412_row11_col1\" class=\"data row11 col1\" >None</td>\n",
       "    </tr>\n",
       "    <tr>\n",
       "      <td id=\"T_a2412_row12_col0\" class=\"data row12 col0\" >Build a Data Request</td>\n",
       "      <td id=\"T_a2412_row12_col1\" class=\"data row12 col1\" > <a href=\"https://explore.ukllc.ac.uk/\" rel=\"noopener noreferrer\" target=\"_blank\">https://explore.ukllc.ac.uk/</a></td>\n",
       "    </tr>\n",
       "  </tbody>\n",
       "</table>\n"
      ],
      "text/plain": [
       "<pandas.io.formats.style.Styler at 0x2852276c5c0>"
      ]
     },
     "execution_count": 3,
     "metadata": {},
     "output_type": "execute_result"
    }
   ],
   "source": [
    "ds.info_table()"
   ]
  },
  {
   "cell_type": "markdown",
   "id": "3516c180",
   "metadata": {},
   "source": [
    "## 2. Version History"
   ]
  },
  {
   "cell_type": "code",
   "execution_count": 4,
   "id": "37c5341a",
   "metadata": {
    "execution": {
     "iopub.execute_input": "2025-07-17T17:24:05.349666Z",
     "iopub.status.busy": "2025-07-17T17:24:05.349666Z",
     "iopub.status.idle": "2025-07-17T17:24:07.539315Z",
     "shell.execute_reply": "2025-07-17T17:24:07.539012Z"
    },
    "tags": [
     "remove-input"
    ]
   },
   "outputs": [
    {
     "data": {
      "text/html": [
       "<style type=\"text/css\">\n",
       "#T_14a2c th {\n",
       "  text-align: left;\n",
       "}\n",
       "#T_14a2c_row0_col0, #T_14a2c_row0_col1, #T_14a2c_row0_col2, #T_14a2c_row1_col0, #T_14a2c_row1_col1, #T_14a2c_row1_col2, #T_14a2c_row2_col0, #T_14a2c_row2_col1, #T_14a2c_row2_col2, #T_14a2c_row3_col0, #T_14a2c_row3_col1, #T_14a2c_row3_col2, #T_14a2c_row4_col0, #T_14a2c_row4_col1, #T_14a2c_row4_col2 {\n",
       "  text-align: left;\n",
       "}\n",
       "</style>\n",
       "<table id=\"T_14a2c\" style=\"font-size: 14px\">\n",
       "  <thead>\n",
       "    <tr>\n",
       "      <th id=\"T_14a2c_level0_col0\" class=\"col_heading level0 col0\" >Version</th>\n",
       "      <th id=\"T_14a2c_level0_col1\" class=\"col_heading level0 col1\" >1</th>\n",
       "      <th id=\"T_14a2c_level0_col2\" class=\"col_heading level0 col2\" >2</th>\n",
       "    </tr>\n",
       "  </thead>\n",
       "  <tbody>\n",
       "    <tr>\n",
       "      <td id=\"T_14a2c_row0_col0\" class=\"data row0 col0\" >Version Date</td>\n",
       "      <td id=\"T_14a2c_row0_col1\" class=\"data row0 col1\" >01 Nov 2021</td>\n",
       "      <td id=\"T_14a2c_row0_col2\" class=\"data row0 col2\" >02 Mar 2022</td>\n",
       "    </tr>\n",
       "    <tr>\n",
       "      <td id=\"T_14a2c_row1_col0\" class=\"data row1 col0\" >Number of Variables</td>\n",
       "      <td id=\"T_14a2c_row1_col1\" class=\"data row1 col1\" >13</td>\n",
       "      <td id=\"T_14a2c_row1_col2\" class=\"data row1 col2\" >14</td>\n",
       "    </tr>\n",
       "    <tr>\n",
       "      <td id=\"T_14a2c_row2_col0\" class=\"data row2 col0\" >Number of Observations</td>\n",
       "      <td id=\"T_14a2c_row2_col1\" class=\"data row2 col1\" >21552</td>\n",
       "      <td id=\"T_14a2c_row2_col2\" class=\"data row2 col2\" >21552</td>\n",
       "    </tr>\n",
       "    <tr>\n",
       "      <td id=\"T_14a2c_row3_col0\" class=\"data row3 col0\" >DOI</td>\n",
       "      <td id=\"T_14a2c_row3_col1\" class=\"data row3 col1\" > <a href=\"https://doi.org/10.83126/ukllc-dataset-00205-01\" rel=\"noopener noreferrer\" target=\"_blank\">10.83126/ukllc-dataset-00205-01</a></td>\n",
       "      <td id=\"T_14a2c_row3_col2\" class=\"data row3 col2\" > <a href=\"https://doi.org/10.83126/ukllc-dataset-00205-02\" rel=\"noopener noreferrer\" target=\"_blank\">10.83126/ukllc-dataset-00205-02</a></td>\n",
       "    </tr>\n",
       "    <tr>\n",
       "      <td id=\"T_14a2c_row4_col0\" class=\"data row4 col0\" >Change Log</td>\n",
       "      <td id=\"T_14a2c_row4_col1\" class=\"data row4 col1\" > <a href=\"https://api.test.datacite.org/dois/10.83126/ukllc-dataset-00205-01/activities\" rel=\"noopener noreferrer\" target=\"_blank\">10.83126/ukllc-dataset-00205-01/activities</a></td>\n",
       "      <td id=\"T_14a2c_row4_col2\" class=\"data row4 col2\" > <a href=\"https://api.test.datacite.org/dois/10.83126/ukllc-dataset-00205-02/activities\" rel=\"noopener noreferrer\" target=\"_blank\">10.83126/ukllc-dataset-00205-02/activities</a></td>\n",
       "    </tr>\n",
       "  </tbody>\n",
       "</table>\n"
      ],
      "text/plain": [
       "<pandas.io.formats.style.Styler at 0x285282d4d40>"
      ]
     },
     "execution_count": 4,
     "metadata": {},
     "output_type": "execute_result"
    }
   ],
   "source": [
    "ds.version_history()"
   ]
  },
  {
   "cell_type": "markdown",
   "id": "50034cba",
   "metadata": {},
   "source": [
    "## 3. Documentation"
   ]
  },
  {
   "cell_type": "code",
   "execution_count": 5,
   "id": "e44dc06b",
   "metadata": {
    "execution": {
     "iopub.execute_input": "2025-07-17T17:24:07.542321Z",
     "iopub.status.busy": "2025-07-17T17:24:07.541320Z",
     "iopub.status.idle": "2025-07-17T17:24:07.545331Z",
     "shell.execute_reply": "2025-07-17T17:24:07.545331Z"
    },
    "tags": [
     "remove-input"
    ]
   },
   "outputs": [
    {
     "data": {
      "text/markdown": [
       "We are currently building a documentation storage system which will host useful documents related to datasets and data owners. We will surface these documents on Guidebook."
      ],
      "text/plain": [
       "<IPython.core.display.Markdown object>"
      ]
     },
     "metadata": {},
     "output_type": "display_data"
    }
   ],
   "source": [
    "ds.documentation()"
   ]
  },
  {
   "cell_type": "markdown",
   "id": "a2299444",
   "metadata": {},
   "source": [
    "## 4. Useful Syntax"
   ]
  },
  {
   "cell_type": "code",
   "execution_count": 6,
   "id": "8a0e7438",
   "metadata": {
    "execution": {
     "iopub.execute_input": "2025-07-17T17:24:07.547273Z",
     "iopub.status.busy": "2025-07-17T17:24:07.547273Z",
     "iopub.status.idle": "2025-07-17T17:24:07.550441Z",
     "shell.execute_reply": "2025-07-17T17:24:07.550441Z"
    },
    "tags": [
     "remove-input"
    ]
   },
   "outputs": [
    {
     "data": {
      "text/markdown": [
       "Below we will include syntax that may be helpful to other researchers in the UK LLC TRE. For longer scripts, we will include a snippet of the code plus a link to Git where you can find the full scripts."
      ],
      "text/plain": [
       "<IPython.core.display.Markdown object>"
      ]
     },
     "metadata": {},
     "output_type": "display_data"
    }
   ],
   "source": [
    "ds.useful_syntax()"
   ]
  }
 ],
 "metadata": {
  "language_info": {
   "codemirror_mode": {
    "name": "ipython",
    "version": 3
   },
   "file_extension": ".py",
   "mimetype": "text/x-python",
   "name": "python",
   "nbconvert_exporter": "python",
   "pygments_lexer": "ipython3",
   "version": "3.12.7"
  }
 },
 "nbformat": 4,
 "nbformat_minor": 5
}
