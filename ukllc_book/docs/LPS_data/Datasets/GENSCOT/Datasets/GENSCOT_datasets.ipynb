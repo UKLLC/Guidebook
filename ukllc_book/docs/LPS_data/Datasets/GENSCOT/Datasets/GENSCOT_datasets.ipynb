{
 "cells": [
  {
   "cell_type": "markdown",
   "id": "84aacf23",
   "metadata": {},
   "source": [
    "# Generation Scotland: Scottish Family Health Study (GS:SFHS) Datasets"
   ]
  },
  {
   "cell_type": "code",
   "execution_count": 1,
   "id": "e949832b",
   "metadata": {
    "execution": {
     "iopub.execute_input": "2025-07-28T19:01:27.379582Z",
     "iopub.status.busy": "2025-07-28T19:01:27.379582Z",
     "iopub.status.idle": "2025-07-28T19:01:32.140025Z",
     "shell.execute_reply": "2025-07-28T19:01:32.138011Z"
    },
    "tags": [
     "remove-input"
    ]
   },
   "outputs": [
    {
     "data": {
      "text/markdown": [
       ">Last modified: 28 Jul 2025"
      ],
      "text/plain": [
       "<IPython.core.display.Markdown object>"
      ]
     },
     "metadata": {},
     "output_type": "display_data"
    }
   ],
   "source": [
    "\n",
    "import sys\n",
    "import os\n",
    "sys.path.append(os.path.abspath('../../../../scripts/'))\n",
    "from data_doc_helper import LPSSource as SS, last_modified\n",
    "API_KEY = os.environ['FASTAPI_KEY']\n",
    "ss = SS(\"GENSCOT\")\n",
    "last_modified()\n"
   ]
  },
  {
   "cell_type": "markdown",
   "id": "fe57b219",
   "metadata": {},
   "source": [
    "## 1. Datasets"
   ]
  },
  {
   "cell_type": "code",
   "execution_count": 2,
   "id": "4da3f65e",
   "metadata": {
    "execution": {
     "iopub.execute_input": "2025-07-28T19:01:32.148028Z",
     "iopub.status.busy": "2025-07-28T19:01:32.147028Z",
     "iopub.status.idle": "2025-07-28T19:01:32.160651Z",
     "shell.execute_reply": "2025-07-28T19:01:32.158634Z"
    },
    "tags": [
     "remove-input"
    ]
   },
   "outputs": [
    {
     "data": {
      "text/markdown": [
       "**Table 1:** Datasets and metrics in the UK LLC belonging to GENSCOT."
      ],
      "text/plain": [
       "<IPython.core.display.Markdown object>"
      ]
     },
     "metadata": {},
     "output_type": "display_data"
    }
   ],
   "source": [
    "ss.table_caption_ds()"
   ]
  },
  {
   "cell_type": "code",
   "execution_count": 3,
   "id": "32183922",
   "metadata": {
    "execution": {
     "iopub.execute_input": "2025-07-28T19:01:32.166092Z",
     "iopub.status.busy": "2025-07-28T19:01:32.166092Z",
     "iopub.status.idle": "2025-07-28T19:01:34.582925Z",
     "shell.execute_reply": "2025-07-28T19:01:34.581905Z"
    },
    "tags": [
     "remove-input",
     "hide-cell"
    ]
   },
   "outputs": [
    {
     "data": {
      "text/html": [
       "<style type=\"text/css\">\n",
       "#T_81523 th {\n",
       "  text-align: left;\n",
       "}\n",
       "#T_81523_row0_col0, #T_81523_row0_col1, #T_81523_row0_col2, #T_81523_row0_col3, #T_81523_row0_col4, #T_81523_row1_col0, #T_81523_row1_col1, #T_81523_row1_col2, #T_81523_row1_col3, #T_81523_row1_col4, #T_81523_row2_col0, #T_81523_row2_col1, #T_81523_row2_col2, #T_81523_row2_col3, #T_81523_row2_col4, #T_81523_row3_col0, #T_81523_row3_col1, #T_81523_row3_col2, #T_81523_row3_col3, #T_81523_row3_col4, #T_81523_row4_col0, #T_81523_row4_col1, #T_81523_row4_col2, #T_81523_row4_col3, #T_81523_row4_col4, #T_81523_row5_col0, #T_81523_row5_col1, #T_81523_row5_col2, #T_81523_row5_col3, #T_81523_row5_col4, #T_81523_row6_col0, #T_81523_row6_col1, #T_81523_row6_col2, #T_81523_row6_col3, #T_81523_row6_col4, #T_81523_row7_col0, #T_81523_row7_col1, #T_81523_row7_col2, #T_81523_row7_col3, #T_81523_row7_col4, #T_81523_row8_col0, #T_81523_row8_col1, #T_81523_row8_col2, #T_81523_row8_col3, #T_81523_row8_col4, #T_81523_row9_col0, #T_81523_row9_col1, #T_81523_row9_col2, #T_81523_row9_col3, #T_81523_row9_col4, #T_81523_row10_col0, #T_81523_row10_col1, #T_81523_row10_col2, #T_81523_row10_col3, #T_81523_row10_col4, #T_81523_row11_col0, #T_81523_row11_col1, #T_81523_row11_col2, #T_81523_row11_col3, #T_81523_row11_col4, #T_81523_row12_col0, #T_81523_row12_col1, #T_81523_row12_col2, #T_81523_row12_col3, #T_81523_row12_col4, #T_81523_row13_col0, #T_81523_row13_col1, #T_81523_row13_col2, #T_81523_row13_col3, #T_81523_row13_col4, #T_81523_row14_col0, #T_81523_row14_col1, #T_81523_row14_col2, #T_81523_row14_col3, #T_81523_row14_col4, #T_81523_row15_col0, #T_81523_row15_col1, #T_81523_row15_col2, #T_81523_row15_col3, #T_81523_row15_col4, #T_81523_row16_col0, #T_81523_row16_col1, #T_81523_row16_col2, #T_81523_row16_col3, #T_81523_row16_col4, #T_81523_row17_col0, #T_81523_row17_col1, #T_81523_row17_col2, #T_81523_row17_col3, #T_81523_row17_col4, #T_81523_row18_col0, #T_81523_row18_col1, #T_81523_row18_col2, #T_81523_row18_col3, #T_81523_row18_col4, #T_81523_row19_col0, #T_81523_row19_col1, #T_81523_row19_col2, #T_81523_row19_col3, #T_81523_row19_col4, #T_81523_row20_col0, #T_81523_row20_col1, #T_81523_row20_col2, #T_81523_row20_col3, #T_81523_row20_col4, #T_81523_row21_col0, #T_81523_row21_col1, #T_81523_row21_col2, #T_81523_row21_col3, #T_81523_row21_col4, #T_81523_row22_col0, #T_81523_row22_col1, #T_81523_row22_col2, #T_81523_row22_col3, #T_81523_row22_col4, #T_81523_row23_col0, #T_81523_row23_col1, #T_81523_row23_col2, #T_81523_row23_col3, #T_81523_row23_col4, #T_81523_row24_col0, #T_81523_row24_col1, #T_81523_row24_col2, #T_81523_row24_col3, #T_81523_row24_col4, #T_81523_row25_col0, #T_81523_row25_col1, #T_81523_row25_col2, #T_81523_row25_col3, #T_81523_row25_col4 {\n",
       "  text-align: left;\n",
       "}\n",
       "</style>\n",
       "<table id=\"T_81523\" style=\"font-size: 14px\">\n",
       "  <thead>\n",
       "    <tr>\n",
       "      <th id=\"T_81523_level0_col0\" class=\"col_heading level0 col0\" >Dataset</th>\n",
       "      <th id=\"T_81523_level0_col1\" class=\"col_heading level0 col1\" >Dataset Name</th>\n",
       "      <th id=\"T_81523_level0_col2\" class=\"col_heading level0 col2\" ># Participants</th>\n",
       "      <th id=\"T_81523_level0_col3\" class=\"col_heading level0 col3\" ># Observations</th>\n",
       "      <th id=\"T_81523_level0_col4\" class=\"col_heading level0 col4\" ># Variables</th>\n",
       "    </tr>\n",
       "  </thead>\n",
       "  <tbody>\n",
       "    <tr>\n",
       "      <td id=\"T_81523_row0_col0\" class=\"data row0 col0\" > <a href=\"SMR01.html\">SMR01</a></td>\n",
       "      <td id=\"T_81523_row0_col1\" class=\"data row0 col1\" >Scottish Medical Records 01 (SMR01)</td>\n",
       "      <td id=\"T_81523_row0_col2\" class=\"data row0 col2\" ></td>\n",
       "      <td id=\"T_81523_row0_col3\" class=\"data row0 col3\" >66960</td>\n",
       "      <td id=\"T_81523_row0_col4\" class=\"data row0 col4\" >12</td>\n",
       "    </tr>\n",
       "    <tr>\n",
       "      <td id=\"T_81523_row1_col0\" class=\"data row1 col0\" > <a href=\"SIMD.html\">SIMD</a></td>\n",
       "      <td id=\"T_81523_row1_col1\" class=\"data row1 col1\" >Scottish Index of Multipled Deprivation (SIMD)</td>\n",
       "      <td id=\"T_81523_row1_col2\" class=\"data row1 col2\" >20080</td>\n",
       "      <td id=\"T_81523_row1_col3\" class=\"data row1 col3\" >20653</td>\n",
       "      <td id=\"T_81523_row1_col4\" class=\"data row1 col4\" >6</td>\n",
       "    </tr>\n",
       "    <tr>\n",
       "      <td id=\"T_81523_row2_col0\" class=\"data row2 col0\" > <a href=\"PRESCRIPTIONS.html\">PRESCRIPTIONS</a></td>\n",
       "      <td id=\"T_81523_row2_col1\" class=\"data row2 col1\" >Prescriptions</td>\n",
       "      <td id=\"T_81523_row2_col2\" class=\"data row2 col2\" ></td>\n",
       "      <td id=\"T_81523_row2_col3\" class=\"data row2 col3\" >4385889</td>\n",
       "      <td id=\"T_81523_row2_col4\" class=\"data row2 col4\" >13</td>\n",
       "    </tr>\n",
       "    <tr>\n",
       "      <td id=\"T_81523_row3_col0\" class=\"data row3 col0\" > <a href=\"ECOSS.html\">ECOSS</a></td>\n",
       "      <td id=\"T_81523_row3_col1\" class=\"data row3 col1\" >ECOSS Data</td>\n",
       "      <td id=\"T_81523_row3_col2\" class=\"data row3 col2\" ></td>\n",
       "      <td id=\"T_81523_row3_col3\" class=\"data row3 col3\" >6616</td>\n",
       "      <td id=\"T_81523_row3_col4\" class=\"data row3 col4\" >12</td>\n",
       "    </tr>\n",
       "    <tr>\n",
       "      <td id=\"T_81523_row4_col0\" class=\"data row4 col0\" > <a href=\"DEMOGRAPHICS.html\">DEMOGRAPHICS</a></td>\n",
       "      <td id=\"T_81523_row4_col1\" class=\"data row4 col1\" >Demographics</td>\n",
       "      <td id=\"T_81523_row4_col2\" class=\"data row4 col2\" >21390</td>\n",
       "      <td id=\"T_81523_row4_col3\" class=\"data row4 col3\" >22009</td>\n",
       "      <td id=\"T_81523_row4_col4\" class=\"data row4 col4\" >6</td>\n",
       "    </tr>\n",
       "    <tr>\n",
       "      <td id=\"T_81523_row5_col0\" class=\"data row5 col0\" > <a href=\"DEATH.html\">DEATH</a></td>\n",
       "      <td id=\"T_81523_row5_col1\" class=\"data row5 col1\" >Death</td>\n",
       "      <td id=\"T_81523_row5_col2\" class=\"data row5 col2\" ></td>\n",
       "      <td id=\"T_81523_row5_col3\" class=\"data row5 col3\" >1443</td>\n",
       "      <td id=\"T_81523_row5_col4\" class=\"data row5 col4\" >19</td>\n",
       "    </tr>\n",
       "    <tr>\n",
       "      <td id=\"T_81523_row6_col0\" class=\"data row6 col0\" > <a href=\"COVIDLIFE2.html\">COVIDLIFE2</a></td>\n",
       "      <td id=\"T_81523_row6_col1\" class=\"data row6 col1\" >COVID-19 Life 2</td>\n",
       "      <td id=\"T_81523_row6_col2\" class=\"data row6 col2\" >3300</td>\n",
       "      <td id=\"T_81523_row6_col3\" class=\"data row6 col3\" >3303</td>\n",
       "      <td id=\"T_81523_row6_col4\" class=\"data row6 col4\" >508</td>\n",
       "    </tr>\n",
       "    <tr>\n",
       "      <td id=\"T_81523_row7_col0\" class=\"data row7 col0\" > <a href=\"COVIDLIFE1.html\">COVIDLIFE1</a></td>\n",
       "      <td id=\"T_81523_row7_col1\" class=\"data row7 col1\" >COVID-19 Life 1</td>\n",
       "      <td id=\"T_81523_row7_col2\" class=\"data row7 col2\" >4576</td>\n",
       "      <td id=\"T_81523_row7_col3\" class=\"data row7 col3\" >4585</td>\n",
       "      <td id=\"T_81523_row7_col4\" class=\"data row7 col4\" >471</td>\n",
       "    </tr>\n",
       "    <tr>\n",
       "      <td id=\"T_81523_row8_col0\" class=\"data row8 col0\" > <a href=\"VACCINE.html\">VACCINE</a></td>\n",
       "      <td id=\"T_81523_row8_col1\" class=\"data row8 col1\" >Vaccine</td>\n",
       "      <td id=\"T_81523_row8_col2\" class=\"data row8 col2\" ></td>\n",
       "      <td id=\"T_81523_row8_col3\" class=\"data row8 col3\" >26938</td>\n",
       "      <td id=\"T_81523_row8_col4\" class=\"data row8 col4\" >14</td>\n",
       "    </tr>\n",
       "    <tr>\n",
       "      <td id=\"T_81523_row9_col0\" class=\"data row9 col0\" > <a href=\"COVIDLIFE3.html\">COVIDLIFE3</a></td>\n",
       "      <td id=\"T_81523_row9_col1\" class=\"data row9 col1\" >COVID-19 Life 3</td>\n",
       "      <td id=\"T_81523_row9_col2\" class=\"data row9 col2\" >3066</td>\n",
       "      <td id=\"T_81523_row9_col3\" class=\"data row9 col3\" >3068</td>\n",
       "      <td id=\"T_81523_row9_col4\" class=\"data row9 col4\" >279</td>\n",
       "    </tr>\n",
       "    <tr>\n",
       "      <td id=\"T_81523_row10_col0\" class=\"data row10 col0\" > <a href=\"BPHR.html\">BPHR</a></td>\n",
       "      <td id=\"T_81523_row10_col1\" class=\"data row10 col1\" >Blood Pressure and Heart Rate (BPHR)</td>\n",
       "      <td id=\"T_81523_row10_col2\" class=\"data row10 col2\" >20220</td>\n",
       "      <td id=\"T_81523_row10_col3\" class=\"data row10 col3\" >20770</td>\n",
       "      <td id=\"T_81523_row10_col4\" class=\"data row10 col4\" >13</td>\n",
       "    </tr>\n",
       "    <tr>\n",
       "      <td id=\"T_81523_row11_col0\" class=\"data row11 col0\" > <a href=\"BODY.html\">BODY</a></td>\n",
       "      <td id=\"T_81523_row11_col1\" class=\"data row11 col1\" >Body</td>\n",
       "      <td id=\"T_81523_row11_col2\" class=\"data row11 col2\" >20201</td>\n",
       "      <td id=\"T_81523_row11_col3\" class=\"data row11 col3\" >20770</td>\n",
       "      <td id=\"T_81523_row11_col4\" class=\"data row11 col4\" >11</td>\n",
       "    </tr>\n",
       "    <tr>\n",
       "      <td id=\"T_81523_row12_col0\" class=\"data row12 col0\" > <a href=\"TOBACCO.html\">TOBACCO</a></td>\n",
       "      <td id=\"T_81523_row12_col1\" class=\"data row12 col1\" >Tobacco</td>\n",
       "      <td id=\"T_81523_row12_col2\" class=\"data row12 col2\" >21953</td>\n",
       "      <td id=\"T_81523_row12_col3\" class=\"data row12 col3\" >21629</td>\n",
       "      <td id=\"T_81523_row12_col4\" class=\"data row12 col4\" >9</td>\n",
       "    </tr>\n",
       "    <tr>\n",
       "      <td id=\"T_81523_row13_col0\" class=\"data row13 col0\" > <a href=\"SCID.html\">SCID</a></td>\n",
       "      <td id=\"T_81523_row13_col1\" class=\"data row13 col1\" >Structured Clinical Interview for DSM Disorders (SCID)</td>\n",
       "      <td id=\"T_81523_row13_col2\" class=\"data row13 col2\" >20246</td>\n",
       "      <td id=\"T_81523_row13_col3\" class=\"data row13 col3\" >20770</td>\n",
       "      <td id=\"T_81523_row13_col4\" class=\"data row13 col4\" >14</td>\n",
       "    </tr>\n",
       "    <tr>\n",
       "      <td id=\"T_81523_row14_col0\" class=\"data row14 col0\" > <a href=\"OCCUPATION.html\">OCCUPATION</a></td>\n",
       "      <td id=\"T_81523_row14_col1\" class=\"data row14 col1\" >Occupation</td>\n",
       "      <td id=\"T_81523_row14_col2\" class=\"data row14 col2\" >20843</td>\n",
       "      <td id=\"T_81523_row14_col3\" class=\"data row14 col3\" >21552</td>\n",
       "      <td id=\"T_81523_row14_col4\" class=\"data row14 col4\" >9</td>\n",
       "    </tr>\n",
       "    <tr>\n",
       "      <td id=\"T_81523_row15_col0\" class=\"data row15 col0\" > <a href=\"MDQ.html\">MDQ</a></td>\n",
       "      <td id=\"T_81523_row15_col1\" class=\"data row15 col1\" >Mood Disorder Questionnaire (MDQ)</td>\n",
       "      <td id=\"T_81523_row15_col2\" class=\"data row15 col2\" >11994</td>\n",
       "      <td id=\"T_81523_row15_col3\" class=\"data row15 col3\" >12387</td>\n",
       "      <td id=\"T_81523_row15_col4\" class=\"data row15 col4\" >19</td>\n",
       "    </tr>\n",
       "    <tr>\n",
       "      <td id=\"T_81523_row16_col0\" class=\"data row16 col0\" > <a href=\"HOUSEHOLD.html\">HOUSEHOLD</a></td>\n",
       "      <td id=\"T_81523_row16_col1\" class=\"data row16 col1\" >Household</td>\n",
       "      <td id=\"T_81523_row16_col2\" class=\"data row16 col2\" >20881</td>\n",
       "      <td id=\"T_81523_row16_col3\" class=\"data row16 col3\" >21592</td>\n",
       "      <td id=\"T_81523_row16_col4\" class=\"data row16 col4\" >8</td>\n",
       "    </tr>\n",
       "    <tr>\n",
       "      <td id=\"T_81523_row17_col0\" class=\"data row17 col0\" > <a href=\"ETHNIC.html\">ETHNIC</a></td>\n",
       "      <td id=\"T_81523_row17_col1\" class=\"data row17 col1\" >Ethnic</td>\n",
       "      <td id=\"T_81523_row17_col2\" class=\"data row17 col2\" >21157</td>\n",
       "      <td id=\"T_81523_row17_col3\" class=\"data row17 col3\" >21766</td>\n",
       "      <td id=\"T_81523_row17_col4\" class=\"data row17 col4\" >7</td>\n",
       "    </tr>\n",
       "    <tr>\n",
       "      <td id=\"T_81523_row18_col0\" class=\"data row18 col0\" > <a href=\"ALCOHOL.html\">ALCOHOL</a></td>\n",
       "      <td id=\"T_81523_row18_col1\" class=\"data row18 col1\" >Alcohol</td>\n",
       "      <td id=\"T_81523_row18_col2\" class=\"data row18 col2\" >20838</td>\n",
       "      <td id=\"T_81523_row18_col3\" class=\"data row18 col3\" >21552</td>\n",
       "      <td id=\"T_81523_row18_col4\" class=\"data row18 col4\" >6</td>\n",
       "    </tr>\n",
       "    <tr>\n",
       "      <td id=\"T_81523_row19_col0\" class=\"data row19 col0\" > <a href=\"COGNITIVE.html\">COGNITIVE</a></td>\n",
       "      <td id=\"T_81523_row19_col1\" class=\"data row19 col1\" >Cognitive</td>\n",
       "      <td id=\"T_81523_row19_col2\" class=\"data row19 col2\" >20236</td>\n",
       "      <td id=\"T_81523_row19_col3\" class=\"data row19 col3\" >20828</td>\n",
       "      <td id=\"T_81523_row19_col4\" class=\"data row19 col4\" >23</td>\n",
       "    </tr>\n",
       "    <tr>\n",
       "      <td id=\"T_81523_row20_col0\" class=\"data row20 col0\" > <a href=\"BIOCHEMISTRY.html\">BIOCHEMISTRY</a></td>\n",
       "      <td id=\"T_81523_row20_col1\" class=\"data row20 col1\" >Biochemistry</td>\n",
       "      <td id=\"T_81523_row20_col2\" class=\"data row20 col2\" >19220</td>\n",
       "      <td id=\"T_81523_row20_col3\" class=\"data row20 col3\" >19718</td>\n",
       "      <td id=\"T_81523_row20_col4\" class=\"data row20 col4\" >12</td>\n",
       "    </tr>\n",
       "    <tr>\n",
       "      <td id=\"T_81523_row21_col0\" class=\"data row21 col0\" > <a href=\"CHESTPAIN.html\">CHESTPAIN</a></td>\n",
       "      <td id=\"T_81523_row21_col1\" class=\"data row21 col1\" >Chest Pain</td>\n",
       "      <td id=\"T_81523_row21_col2\" class=\"data row21 col2\" >20365</td>\n",
       "      <td id=\"T_81523_row21_col3\" class=\"data row21 col3\" >21552</td>\n",
       "      <td id=\"T_81523_row21_col4\" class=\"data row21 col4\" >14</td>\n",
       "    </tr>\n",
       "    <tr>\n",
       "      <td id=\"T_81523_row22_col0\" class=\"data row22 col0\" > <a href=\"DISEASE.html\">DISEASE</a></td>\n",
       "      <td id=\"T_81523_row22_col1\" class=\"data row22 col1\" >Disease</td>\n",
       "      <td id=\"T_81523_row22_col2\" class=\"data row22 col2\" >22027</td>\n",
       "      <td id=\"T_81523_row22_col3\" class=\"data row22 col3\" >21629</td>\n",
       "      <td id=\"T_81523_row22_col4\" class=\"data row22 col4\" >115</td>\n",
       "    </tr>\n",
       "    <tr>\n",
       "      <td id=\"T_81523_row23_col0\" class=\"data row23 col0\" > <a href=\"SMOKING.html\">SMOKING</a></td>\n",
       "      <td id=\"T_81523_row23_col1\" class=\"data row23 col1\" >Smoking</td>\n",
       "      <td id=\"T_81523_row23_col2\" class=\"data row23 col2\" >20944</td>\n",
       "      <td id=\"T_81523_row23_col3\" class=\"data row23 col3\" >21552</td>\n",
       "      <td id=\"T_81523_row23_col4\" class=\"data row23 col4\" >12</td>\n",
       "    </tr>\n",
       "    <tr>\n",
       "      <td id=\"T_81523_row24_col0\" class=\"data row24 col0\" > <a href=\"SKELETAL.html\">SKELETAL</a></td>\n",
       "      <td id=\"T_81523_row24_col1\" class=\"data row24 col1\" >Skeletal</td>\n",
       "      <td id=\"T_81523_row24_col2\" class=\"data row24 col2\" >20857</td>\n",
       "      <td id=\"T_81523_row24_col3\" class=\"data row24 col3\" >21552</td>\n",
       "      <td id=\"T_81523_row24_col4\" class=\"data row24 col4\" >6</td>\n",
       "    </tr>\n",
       "    <tr>\n",
       "      <td id=\"T_81523_row25_col0\" class=\"data row25 col0\" > <a href=\"SPQ.html\">SPQ</a></td>\n",
       "      <td id=\"T_81523_row25_col1\" class=\"data row25 col1\" >Schizotypal Personality Questionnaire (SPQ)</td>\n",
       "      <td id=\"T_81523_row25_col2\" class=\"data row25 col2\" >12042</td>\n",
       "      <td id=\"T_81523_row25_col3\" class=\"data row25 col3\" >12336</td>\n",
       "      <td id=\"T_81523_row25_col4\" class=\"data row25 col4\" >29</td>\n",
       "    </tr>\n",
       "  </tbody>\n",
       "</table>\n"
      ],
      "text/plain": [
       "<pandas.io.formats.style.Styler at 0x2a54616ede0>"
      ]
     },
     "execution_count": 3,
     "metadata": {},
     "output_type": "execute_result"
    }
   ],
   "source": [
    "ss.datasets()"
   ]
  }
 ],
 "metadata": {
  "language_info": {
   "codemirror_mode": {
    "name": "ipython",
    "version": 3
   },
   "file_extension": ".py",
   "mimetype": "text/x-python",
   "name": "python",
   "nbconvert_exporter": "python",
   "pygments_lexer": "ipython3",
   "version": "3.12.7"
  },
  "mystnb": {
   "code_prompt_hide": "Hide Datasets",
   "code_prompt_show": "Show Datasets"
  }
 },
 "nbformat": 4,
 "nbformat_minor": 5
}
