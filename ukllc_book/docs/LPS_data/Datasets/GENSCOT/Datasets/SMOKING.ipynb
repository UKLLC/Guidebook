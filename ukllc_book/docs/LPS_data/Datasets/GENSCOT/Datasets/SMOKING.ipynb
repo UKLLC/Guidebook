{
 "cells": [
  {
   "cell_type": "markdown",
   "id": "4d042762",
   "metadata": {},
   "source": [
    "# Smoking (GENSCOT)"
   ]
  },
  {
   "cell_type": "code",
   "execution_count": 1,
   "id": "511edfa7",
   "metadata": {
    "execution": {
     "iopub.execute_input": "2025-07-17T17:27:27.904141Z",
     "iopub.status.busy": "2025-07-17T17:27:27.904141Z",
     "iopub.status.idle": "2025-07-17T17:27:34.777419Z",
     "shell.execute_reply": "2025-07-17T17:27:34.777419Z"
    },
    "tags": [
     "remove-input"
    ]
   },
   "outputs": [
    {
     "data": {
      "text/markdown": [
       ">Last modified: 17 Jul 2025"
      ],
      "text/plain": [
       "<IPython.core.display.Markdown object>"
      ]
     },
     "metadata": {},
     "output_type": "display_data"
    }
   ],
   "source": [
    "\n",
    "import sys\n",
    "import os\n",
    "sys.path.append(os.path.abspath('../../../../scripts/'))\n",
    "from data_doc_helper import LPSDataSet as DS, last_modified\n",
    "API_KEY = os.environ['FASTAPI_KEY']\n",
    "ds = DS(\"GENSCOT\", \"SMOKING\")\n",
    "last_modified()\n"
   ]
  },
  {
   "cell_type": "markdown",
   "id": "30e4cd98",
   "metadata": {},
   "source": [
    "## 1. Summary"
   ]
  },
  {
   "cell_type": "code",
   "execution_count": 2,
   "id": "231e9274",
   "metadata": {
    "execution": {
     "iopub.execute_input": "2025-07-17T17:27:34.780426Z",
     "iopub.status.busy": "2025-07-17T17:27:34.779432Z",
     "iopub.status.idle": "2025-07-17T17:27:34.783312Z",
     "shell.execute_reply": "2025-07-17T17:27:34.783312Z"
    },
    "tags": [
     "remove-input"
    ]
   },
   "outputs": [
    {
     "data": {
      "text/markdown": [
       "Socio-demographic and clinical data were obtained from around 24,000 volunteers across Scotland. Volunteers were aged between 18-98 and were assessed via clinic visits and questionnaires."
      ],
      "text/plain": [
       "<IPython.core.display.Markdown object>"
      ]
     },
     "metadata": {},
     "output_type": "display_data"
    }
   ],
   "source": [
    "ds.summary()"
   ]
  },
  {
   "cell_type": "code",
   "execution_count": 3,
   "id": "d76e726f",
   "metadata": {
    "execution": {
     "iopub.execute_input": "2025-07-17T17:27:34.785317Z",
     "iopub.status.busy": "2025-07-17T17:27:34.785317Z",
     "iopub.status.idle": "2025-07-17T17:27:35.370635Z",
     "shell.execute_reply": "2025-07-17T17:27:35.369629Z"
    },
    "tags": [
     "remove-input"
    ]
   },
   "outputs": [
    {
     "data": {
      "text/html": [
       "<style type=\"text/css\">\n",
       "#T_a29e8 th {\n",
       "  text-align: left;\n",
       "}\n",
       "#T_a29e8_row0_col0, #T_a29e8_row0_col1, #T_a29e8_row1_col0, #T_a29e8_row1_col1, #T_a29e8_row2_col0, #T_a29e8_row2_col1, #T_a29e8_row3_col0, #T_a29e8_row3_col1, #T_a29e8_row4_col0, #T_a29e8_row4_col1, #T_a29e8_row5_col0, #T_a29e8_row5_col1, #T_a29e8_row6_col0, #T_a29e8_row6_col1, #T_a29e8_row7_col0, #T_a29e8_row7_col1, #T_a29e8_row8_col0, #T_a29e8_row8_col1, #T_a29e8_row9_col0, #T_a29e8_row9_col1, #T_a29e8_row10_col0, #T_a29e8_row10_col1, #T_a29e8_row11_col0, #T_a29e8_row11_col1, #T_a29e8_row12_col0, #T_a29e8_row12_col1 {\n",
       "  text-align: left;\n",
       "}\n",
       "</style>\n",
       "<table id=\"T_a29e8\" style=\"font-size: 14px\">\n",
       "  <thead>\n",
       "    <tr>\n",
       "      <th id=\"T_a29e8_level0_col0\" class=\"col_heading level0 col0\" >Dataset Descriptor</th>\n",
       "      <th id=\"T_a29e8_level0_col1\" class=\"col_heading level0 col1\" >Dataset-specific Information</th>\n",
       "    </tr>\n",
       "  </thead>\n",
       "  <tbody>\n",
       "    <tr>\n",
       "      <td id=\"T_a29e8_row0_col0\" class=\"data row0 col0\" >Name of Dataset in TRE</td>\n",
       "      <td id=\"T_a29e8_row0_col1\" class=\"data row0 col1\" >GENSCOT_SMOKING</td>\n",
       "    </tr>\n",
       "    <tr>\n",
       "      <td id=\"T_a29e8_row1_col0\" class=\"data row1 col0\" >Citation (APA)</td>\n",
       "      <td id=\"T_a29e8_row1_col1\" class=\"data row1 col1\" >Centre for Medical Informatics, Usher Institute, University of Edinburgh. (2022). <i>Generation Scotland: Scottish Family Health Study (GS:SFHS): Smoking.</i> UK Longitudinal Linkage Collaboration (UK LLC).  <a href=\"https://doi.org/10.83126/ukllc-dataset-00222-02\" rel=\"noopener noreferrer\" target=\"_blank\">https://doi.org/10.83126/ukllc-dataset-00222-02</a></td>\n",
       "    </tr>\n",
       "    <tr>\n",
       "      <td id=\"T_a29e8_row2_col0\" class=\"data row2 col0\" >Download Citation</td>\n",
       "      <td id=\"T_a29e8_row2_col1\" class=\"data row2 col1\" > <a href=\"https://api.test.datacite.org/application/vnd.citationstyles.csl+json/10.83126/ukllc-dataset-00222-02\" rel=\"noopener noreferrer\" target=\"_blank\">Citeproc JSON</a>&nbsp;&nbsp;&nbsp;&nbsp; <a href=\"https://api.test.datacite.org/application/x-bibtex/10.83126/ukllc-dataset-00222-02\" rel=\"noopener noreferrer\" target=\"_blank\">BibTeX</a>&nbsp;&nbsp;&nbsp;&nbsp; <a href=\"https://api.test.datacite.org/application/x-research-info-systems/10.83126/ukllc-dataset-00222-02\" rel=\"noopener noreferrer\" target=\"_blank\">RIS</a></td>\n",
       "    </tr>\n",
       "    <tr>\n",
       "      <td id=\"T_a29e8_row3_col0\" class=\"data row3 col0\" >Series</td>\n",
       "      <td id=\"T_a29e8_row3_col1\" class=\"data row3 col1\" > <a href=\"https://guidebook.ukllc.ac.uk/docs/lps/lps%20profiles/GENSCOT\">Generation Scotland: Scottish Family Health Study (GS:SFHS)</a></td>\n",
       "    </tr>\n",
       "    <tr>\n",
       "      <td id=\"T_a29e8_row4_col0\" class=\"data row4 col0\" >Owner</td>\n",
       "      <td id=\"T_a29e8_row4_col1\" class=\"data row4 col1\" >University of Edinburgh</td>\n",
       "    </tr>\n",
       "    <tr>\n",
       "      <td id=\"T_a29e8_row5_col0\" class=\"data row5 col0\" >Temporal Coverage</td>\n",
       "      <td id=\"T_a29e8_row5_col1\" class=\"data row5 col1\" >01/2006 - 05/2011</td>\n",
       "    </tr>\n",
       "    <tr>\n",
       "      <td id=\"T_a29e8_row6_col0\" class=\"data row6 col0\" >Keywords</td>\n",
       "      <td id=\"T_a29e8_row6_col1\" class=\"data row6 col1\" ></td>\n",
       "    </tr>\n",
       "    <tr>\n",
       "      <td id=\"T_a29e8_row7_col0\" class=\"data row7 col0\" >Participants Invited</td>\n",
       "      <td id=\"T_a29e8_row7_col1\" class=\"data row7 col1\" >21552</td>\n",
       "    </tr>\n",
       "    <tr>\n",
       "      <td id=\"T_a29e8_row8_col0\" class=\"data row8 col0\" >Participant Count</td>\n",
       "      <td id=\"T_a29e8_row8_col1\" class=\"data row8 col1\" >20944</td>\n",
       "    </tr>\n",
       "    <tr>\n",
       "      <td id=\"T_a29e8_row9_col0\" class=\"data row9 col0\" >Number of variables</td>\n",
       "      <td id=\"T_a29e8_row9_col1\" class=\"data row9 col1\" >12</td>\n",
       "    </tr>\n",
       "    <tr>\n",
       "      <td id=\"T_a29e8_row10_col0\" class=\"data row10 col0\" >Number of observations</td>\n",
       "      <td id=\"T_a29e8_row10_col1\" class=\"data row10 col1\" >21552</td>\n",
       "    </tr>\n",
       "    <tr>\n",
       "      <td id=\"T_a29e8_row11_col0\" class=\"data row11 col0\" >Specific Restrictions to Data Use</td>\n",
       "      <td id=\"T_a29e8_row11_col1\" class=\"data row11 col1\" >None</td>\n",
       "    </tr>\n",
       "    <tr>\n",
       "      <td id=\"T_a29e8_row12_col0\" class=\"data row12 col0\" >Build a Data Request</td>\n",
       "      <td id=\"T_a29e8_row12_col1\" class=\"data row12 col1\" > <a href=\"https://explore.ukllc.ac.uk/\" rel=\"noopener noreferrer\" target=\"_blank\">https://explore.ukllc.ac.uk/</a></td>\n",
       "    </tr>\n",
       "  </tbody>\n",
       "</table>\n"
      ],
      "text/plain": [
       "<pandas.io.formats.style.Styler at 0x1c6eb791820>"
      ]
     },
     "execution_count": 3,
     "metadata": {},
     "output_type": "execute_result"
    }
   ],
   "source": [
    "ds.info_table()"
   ]
  },
  {
   "cell_type": "markdown",
   "id": "a7946582",
   "metadata": {},
   "source": [
    "## 2. Version History"
   ]
  },
  {
   "cell_type": "code",
   "execution_count": 4,
   "id": "4598fd40",
   "metadata": {
    "execution": {
     "iopub.execute_input": "2025-07-17T17:27:35.372634Z",
     "iopub.status.busy": "2025-07-17T17:27:35.372634Z",
     "iopub.status.idle": "2025-07-17T17:27:38.293771Z",
     "shell.execute_reply": "2025-07-17T17:27:38.292996Z"
    },
    "tags": [
     "remove-input"
    ]
   },
   "outputs": [
    {
     "data": {
      "text/html": [
       "<style type=\"text/css\">\n",
       "#T_ad2e5 th {\n",
       "  text-align: left;\n",
       "}\n",
       "#T_ad2e5_row0_col0, #T_ad2e5_row0_col1, #T_ad2e5_row0_col2, #T_ad2e5_row1_col0, #T_ad2e5_row1_col1, #T_ad2e5_row1_col2, #T_ad2e5_row2_col0, #T_ad2e5_row2_col1, #T_ad2e5_row2_col2, #T_ad2e5_row3_col0, #T_ad2e5_row3_col1, #T_ad2e5_row3_col2, #T_ad2e5_row4_col0, #T_ad2e5_row4_col1, #T_ad2e5_row4_col2 {\n",
       "  text-align: left;\n",
       "}\n",
       "</style>\n",
       "<table id=\"T_ad2e5\" style=\"font-size: 14px\">\n",
       "  <thead>\n",
       "    <tr>\n",
       "      <th id=\"T_ad2e5_level0_col0\" class=\"col_heading level0 col0\" >Version</th>\n",
       "      <th id=\"T_ad2e5_level0_col1\" class=\"col_heading level0 col1\" >1</th>\n",
       "      <th id=\"T_ad2e5_level0_col2\" class=\"col_heading level0 col2\" >2</th>\n",
       "    </tr>\n",
       "  </thead>\n",
       "  <tbody>\n",
       "    <tr>\n",
       "      <td id=\"T_ad2e5_row0_col0\" class=\"data row0 col0\" >Version Date</td>\n",
       "      <td id=\"T_ad2e5_row0_col1\" class=\"data row0 col1\" >01 Nov 2021</td>\n",
       "      <td id=\"T_ad2e5_row0_col2\" class=\"data row0 col2\" >02 Mar 2022</td>\n",
       "    </tr>\n",
       "    <tr>\n",
       "      <td id=\"T_ad2e5_row1_col0\" class=\"data row1 col0\" >Number of Variables</td>\n",
       "      <td id=\"T_ad2e5_row1_col1\" class=\"data row1 col1\" >0</td>\n",
       "      <td id=\"T_ad2e5_row1_col2\" class=\"data row1 col2\" >12</td>\n",
       "    </tr>\n",
       "    <tr>\n",
       "      <td id=\"T_ad2e5_row2_col0\" class=\"data row2 col0\" >Number of Observations</td>\n",
       "      <td id=\"T_ad2e5_row2_col1\" class=\"data row2 col1\" >0</td>\n",
       "      <td id=\"T_ad2e5_row2_col2\" class=\"data row2 col2\" >21552</td>\n",
       "    </tr>\n",
       "    <tr>\n",
       "      <td id=\"T_ad2e5_row3_col0\" class=\"data row3 col0\" >DOI</td>\n",
       "      <td id=\"T_ad2e5_row3_col1\" class=\"data row3 col1\" > <a href=\"https://doi.org/10.83126/ukllc-dataset-00222-01\" rel=\"noopener noreferrer\" target=\"_blank\">10.83126/ukllc-dataset-00222-01</a></td>\n",
       "      <td id=\"T_ad2e5_row3_col2\" class=\"data row3 col2\" > <a href=\"https://doi.org/10.83126/ukllc-dataset-00222-02\" rel=\"noopener noreferrer\" target=\"_blank\">10.83126/ukllc-dataset-00222-02</a></td>\n",
       "    </tr>\n",
       "    <tr>\n",
       "      <td id=\"T_ad2e5_row4_col0\" class=\"data row4 col0\" >Change Log</td>\n",
       "      <td id=\"T_ad2e5_row4_col1\" class=\"data row4 col1\" > <a href=\"https://api.test.datacite.org/dois/10.83126/ukllc-dataset-00222-01/activities\" rel=\"noopener noreferrer\" target=\"_blank\">10.83126/ukllc-dataset-00222-01/activities</a></td>\n",
       "      <td id=\"T_ad2e5_row4_col2\" class=\"data row4 col2\" > <a href=\"https://api.test.datacite.org/dois/10.83126/ukllc-dataset-00222-02/activities\" rel=\"noopener noreferrer\" target=\"_blank\">10.83126/ukllc-dataset-00222-02/activities</a></td>\n",
       "    </tr>\n",
       "  </tbody>\n",
       "</table>\n"
      ],
      "text/plain": [
       "<pandas.io.formats.style.Styler at 0x1c6ed634a70>"
      ]
     },
     "execution_count": 4,
     "metadata": {},
     "output_type": "execute_result"
    }
   ],
   "source": [
    "ds.version_history()"
   ]
  },
  {
   "cell_type": "markdown",
   "id": "45e13510",
   "metadata": {},
   "source": [
    "## 3. Documentation"
   ]
  },
  {
   "cell_type": "code",
   "execution_count": 5,
   "id": "931efbd1",
   "metadata": {
    "execution": {
     "iopub.execute_input": "2025-07-17T17:27:38.295777Z",
     "iopub.status.busy": "2025-07-17T17:27:38.295777Z",
     "iopub.status.idle": "2025-07-17T17:27:38.299802Z",
     "shell.execute_reply": "2025-07-17T17:27:38.299802Z"
    },
    "tags": [
     "remove-input"
    ]
   },
   "outputs": [
    {
     "data": {
      "text/markdown": [
       "We are currently building a documentation storage system which will host useful documents related to datasets and data owners. We will surface these documents on Guidebook."
      ],
      "text/plain": [
       "<IPython.core.display.Markdown object>"
      ]
     },
     "metadata": {},
     "output_type": "display_data"
    }
   ],
   "source": [
    "ds.documentation()"
   ]
  },
  {
   "cell_type": "markdown",
   "id": "0b62de6e",
   "metadata": {},
   "source": [
    "## 4. Useful Syntax"
   ]
  },
  {
   "cell_type": "code",
   "execution_count": 6,
   "id": "963dd2d6",
   "metadata": {
    "execution": {
     "iopub.execute_input": "2025-07-17T17:27:38.301818Z",
     "iopub.status.busy": "2025-07-17T17:27:38.301818Z",
     "iopub.status.idle": "2025-07-17T17:27:38.304956Z",
     "shell.execute_reply": "2025-07-17T17:27:38.304773Z"
    },
    "tags": [
     "remove-input"
    ]
   },
   "outputs": [
    {
     "data": {
      "text/markdown": [
       "Below we will include syntax that may be helpful to other researchers in the UK LLC TRE. For longer scripts, we will include a snippet of the code plus a link to Git where you can find the full scripts."
      ],
      "text/plain": [
       "<IPython.core.display.Markdown object>"
      ]
     },
     "metadata": {},
     "output_type": "display_data"
    }
   ],
   "source": [
    "ds.useful_syntax()"
   ]
  }
 ],
 "metadata": {
  "language_info": {
   "codemirror_mode": {
    "name": "ipython",
    "version": 3
   },
   "file_extension": ".py",
   "mimetype": "text/x-python",
   "name": "python",
   "nbconvert_exporter": "python",
   "pygments_lexer": "ipython3",
   "version": "3.12.7"
  }
 },
 "nbformat": 4,
 "nbformat_minor": 5
}
