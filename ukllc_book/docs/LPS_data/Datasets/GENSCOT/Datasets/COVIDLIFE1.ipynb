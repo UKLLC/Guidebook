{
 "cells": [
  {
   "cell_type": "markdown",
   "id": "96af619c",
   "metadata": {},
   "source": [
    "# COVID-19 Life 1 (GENSCOT)"
   ]
  },
  {
   "cell_type": "code",
   "execution_count": 1,
   "id": "f48b4854",
   "metadata": {
    "execution": {
     "iopub.execute_input": "2025-07-28T18:58:28.421398Z",
     "iopub.status.busy": "2025-07-28T18:58:28.420391Z",
     "iopub.status.idle": "2025-07-28T18:58:40.778719Z",
     "shell.execute_reply": "2025-07-28T18:58:40.776801Z"
    },
    "tags": [
     "remove-input"
    ]
   },
   "outputs": [
    {
     "data": {
      "text/markdown": [
       ">Last modified: 28 Jul 2025"
      ],
      "text/plain": [
       "<IPython.core.display.Markdown object>"
      ]
     },
     "metadata": {},
     "output_type": "display_data"
    }
   ],
   "source": [
    "\n",
    "import sys\n",
    "import os\n",
    "sys.path.append(os.path.abspath('../../../../scripts/'))\n",
    "from data_doc_helper import LPSDataSet as DS, last_modified\n",
    "API_KEY = os.environ['FASTAPI_KEY']\n",
    "ds = DS(\"GENSCOT\", \"COVIDLIFE1\")\n",
    "last_modified()\n"
   ]
  },
  {
   "cell_type": "markdown",
   "id": "f39a9a11",
   "metadata": {},
   "source": [
    "## 1. Summary"
   ]
  },
  {
   "cell_type": "code",
   "execution_count": 2,
   "id": "04373e82",
   "metadata": {
    "execution": {
     "iopub.execute_input": "2025-07-28T18:58:40.790641Z",
     "iopub.status.busy": "2025-07-28T18:58:40.788990Z",
     "iopub.status.idle": "2025-07-28T18:58:40.951633Z",
     "shell.execute_reply": "2025-07-28T18:58:40.936427Z"
    },
    "tags": [
     "remove-input"
    ]
   },
   "outputs": [
    {
     "data": {
      "text/markdown": [
       "Participants filled out an online questionnaire examining physical and mental wellbeing during the Covid-19 pandemic"
      ],
      "text/plain": [
       "<IPython.core.display.Markdown object>"
      ]
     },
     "metadata": {},
     "output_type": "display_data"
    }
   ],
   "source": [
    "ds.summary()"
   ]
  },
  {
   "cell_type": "code",
   "execution_count": 3,
   "id": "aee34d78",
   "metadata": {
    "execution": {
     "iopub.execute_input": "2025-07-28T18:58:40.998405Z",
     "iopub.status.busy": "2025-07-28T18:58:40.995401Z",
     "iopub.status.idle": "2025-07-28T18:58:43.011546Z",
     "shell.execute_reply": "2025-07-28T18:58:43.010044Z"
    },
    "tags": [
     "remove-input"
    ]
   },
   "outputs": [
    {
     "data": {
      "text/html": [
       "<style type=\"text/css\">\n",
       "#T_33dfa th {\n",
       "  text-align: left;\n",
       "}\n",
       "#T_33dfa_row0_col0, #T_33dfa_row0_col1, #T_33dfa_row1_col0, #T_33dfa_row1_col1, #T_33dfa_row2_col0, #T_33dfa_row2_col1, #T_33dfa_row3_col0, #T_33dfa_row3_col1, #T_33dfa_row4_col0, #T_33dfa_row4_col1, #T_33dfa_row5_col0, #T_33dfa_row5_col1, #T_33dfa_row6_col0, #T_33dfa_row6_col1, #T_33dfa_row7_col0, #T_33dfa_row7_col1, #T_33dfa_row8_col0, #T_33dfa_row8_col1, #T_33dfa_row9_col0, #T_33dfa_row9_col1, #T_33dfa_row10_col0, #T_33dfa_row10_col1, #T_33dfa_row11_col0, #T_33dfa_row11_col1, #T_33dfa_row12_col0, #T_33dfa_row12_col1 {\n",
       "  text-align: left;\n",
       "}\n",
       "</style>\n",
       "<table id=\"T_33dfa\" style=\"font-size: 14px\">\n",
       "  <thead>\n",
       "    <tr>\n",
       "      <th id=\"T_33dfa_level0_col0\" class=\"col_heading level0 col0\" >Dataset Descriptor</th>\n",
       "      <th id=\"T_33dfa_level0_col1\" class=\"col_heading level0 col1\" >Dataset-specific Information</th>\n",
       "    </tr>\n",
       "  </thead>\n",
       "  <tbody>\n",
       "    <tr>\n",
       "      <td id=\"T_33dfa_row0_col0\" class=\"data row0 col0\" >Name of Dataset in TRE</td>\n",
       "      <td id=\"T_33dfa_row0_col1\" class=\"data row0 col1\" >GENSCOT_COVIDLIFE1</td>\n",
       "    </tr>\n",
       "    <tr>\n",
       "      <td id=\"T_33dfa_row1_col0\" class=\"data row1 col0\" >Citation (APA)</td>\n",
       "      <td id=\"T_33dfa_row1_col1\" class=\"data row1 col1\" >Centre for Medical Informatics, Usher Institute, University of Edinburgh. (2021). <i>Generation Scotland (GENSCOT): COVID-19 Life 1.</i> UK Longitudinal Linkage Collaboration (UK LLC).  <a href=\"https://doi.org/10.71760/ukllc-dataset-00127-01\" rel=\"noopener noreferrer\" target=\"_blank\">https://doi.org/10.71760/ukllc-dataset-00127-01</a></td>\n",
       "    </tr>\n",
       "    <tr>\n",
       "      <td id=\"T_33dfa_row2_col0\" class=\"data row2 col0\" >Download Citation</td>\n",
       "      <td id=\"T_33dfa_row2_col1\" class=\"data row2 col1\" > <a href=\"https://api.datacite.org/application/vnd.citationstyles.csl+json/10.71760/ukllc-dataset-00127-01\" rel=\"noopener noreferrer\" target=\"_blank\">Citeproc JSON</a>&nbsp;&nbsp;&nbsp;&nbsp; <a href=\"https://api.datacite.org/application/x-bibtex/10.71760/ukllc-dataset-00127-01\" rel=\"noopener noreferrer\" target=\"_blank\">BibTeX</a>&nbsp;&nbsp;&nbsp;&nbsp; <a href=\"https://api.datacite.org/application/x-research-info-systems/10.71760/ukllc-dataset-00127-01\" rel=\"noopener noreferrer\" target=\"_blank\">RIS</a></td>\n",
       "    </tr>\n",
       "    <tr>\n",
       "      <td id=\"T_33dfa_row3_col0\" class=\"data row3 col0\" >Series</td>\n",
       "      <td id=\"T_33dfa_row3_col1\" class=\"data row3 col1\" > <a href=\"https://guidebook.ukllc.ac.uk/docs/lps_data/lps%20profiles/GENSCOT\">Generation Scotland (GENSCOT)</a></td>\n",
       "    </tr>\n",
       "    <tr>\n",
       "      <td id=\"T_33dfa_row4_col0\" class=\"data row4 col0\" >Owner</td>\n",
       "      <td id=\"T_33dfa_row4_col1\" class=\"data row4 col1\" >University of Edinburgh</td>\n",
       "    </tr>\n",
       "    <tr>\n",
       "      <td id=\"T_33dfa_row5_col0\" class=\"data row5 col0\" >Temporal Coverage</td>\n",
       "      <td id=\"T_33dfa_row5_col1\" class=\"data row5 col1\" >04/2020 - 06/2020</td>\n",
       "    </tr>\n",
       "    <tr>\n",
       "      <td id=\"T_33dfa_row6_col0\" class=\"data row6 col0\" >Keywords</td>\n",
       "      <td id=\"T_33dfa_row6_col1\" class=\"data row6 col1\" ></td>\n",
       "    </tr>\n",
       "    <tr>\n",
       "      <td id=\"T_33dfa_row7_col0\" class=\"data row7 col0\" >Participants Invited</td>\n",
       "      <td id=\"T_33dfa_row7_col1\" class=\"data row7 col1\" >4585</td>\n",
       "    </tr>\n",
       "    <tr>\n",
       "      <td id=\"T_33dfa_row8_col0\" class=\"data row8 col0\" >Participant Count</td>\n",
       "      <td id=\"T_33dfa_row8_col1\" class=\"data row8 col1\" >4576</td>\n",
       "    </tr>\n",
       "    <tr>\n",
       "      <td id=\"T_33dfa_row9_col0\" class=\"data row9 col0\" >Number of variables</td>\n",
       "      <td id=\"T_33dfa_row9_col1\" class=\"data row9 col1\" >471</td>\n",
       "    </tr>\n",
       "    <tr>\n",
       "      <td id=\"T_33dfa_row10_col0\" class=\"data row10 col0\" >Number of observations</td>\n",
       "      <td id=\"T_33dfa_row10_col1\" class=\"data row10 col1\" >4585</td>\n",
       "    </tr>\n",
       "    <tr>\n",
       "      <td id=\"T_33dfa_row11_col0\" class=\"data row11 col0\" >Specific Restrictions to Data Use</td>\n",
       "      <td id=\"T_33dfa_row11_col1\" class=\"data row11 col1\" >None</td>\n",
       "    </tr>\n",
       "    <tr>\n",
       "      <td id=\"T_33dfa_row12_col0\" class=\"data row12 col0\" >Build a Data Request</td>\n",
       "      <td id=\"T_33dfa_row12_col1\" class=\"data row12 col1\" > <a href=\"https://explore.ukllc.ac.uk/\" rel=\"noopener noreferrer\" target=\"_blank\">https://explore.ukllc.ac.uk/</a></td>\n",
       "    </tr>\n",
       "  </tbody>\n",
       "</table>\n"
      ],
      "text/plain": [
       "<pandas.io.formats.style.Styler at 0x180c3b1c560>"
      ]
     },
     "execution_count": 3,
     "metadata": {},
     "output_type": "execute_result"
    }
   ],
   "source": [
    "ds.info_table()"
   ]
  },
  {
   "cell_type": "markdown",
   "id": "a0f27033",
   "metadata": {},
   "source": [
    "## 2. Version History"
   ]
  },
  {
   "cell_type": "code",
   "execution_count": 4,
   "id": "5f125483",
   "metadata": {
    "execution": {
     "iopub.execute_input": "2025-07-28T18:58:43.020574Z",
     "iopub.status.busy": "2025-07-28T18:58:43.020059Z",
     "iopub.status.idle": "2025-07-28T18:58:48.849269Z",
     "shell.execute_reply": "2025-07-28T18:58:48.847249Z"
    },
    "tags": [
     "remove-input"
    ]
   },
   "outputs": [
    {
     "data": {
      "text/html": [
       "<style type=\"text/css\">\n",
       "#T_ec535 th {\n",
       "  text-align: left;\n",
       "}\n",
       "#T_ec535_row0_col0, #T_ec535_row0_col1, #T_ec535_row1_col0, #T_ec535_row1_col1, #T_ec535_row2_col0, #T_ec535_row2_col1, #T_ec535_row3_col0, #T_ec535_row3_col1, #T_ec535_row4_col0, #T_ec535_row4_col1 {\n",
       "  text-align: left;\n",
       "}\n",
       "</style>\n",
       "<table id=\"T_ec535\" style=\"font-size: 14px\">\n",
       "  <thead>\n",
       "    <tr>\n",
       "      <th id=\"T_ec535_level0_col0\" class=\"col_heading level0 col0\" >Version</th>\n",
       "      <th id=\"T_ec535_level0_col1\" class=\"col_heading level0 col1\" >1</th>\n",
       "    </tr>\n",
       "  </thead>\n",
       "  <tbody>\n",
       "    <tr>\n",
       "      <td id=\"T_ec535_row0_col0\" class=\"data row0 col0\" >Version Date</td>\n",
       "      <td id=\"T_ec535_row0_col1\" class=\"data row0 col1\" >01 Nov 2021</td>\n",
       "    </tr>\n",
       "    <tr>\n",
       "      <td id=\"T_ec535_row1_col0\" class=\"data row1 col0\" >Number of Variables</td>\n",
       "      <td id=\"T_ec535_row1_col1\" class=\"data row1 col1\" >471</td>\n",
       "    </tr>\n",
       "    <tr>\n",
       "      <td id=\"T_ec535_row2_col0\" class=\"data row2 col0\" >Number of Observations</td>\n",
       "      <td id=\"T_ec535_row2_col1\" class=\"data row2 col1\" >4585</td>\n",
       "    </tr>\n",
       "    <tr>\n",
       "      <td id=\"T_ec535_row3_col0\" class=\"data row3 col0\" >DOI</td>\n",
       "      <td id=\"T_ec535_row3_col1\" class=\"data row3 col1\" > <a href=\"https://doi.org/10.71760/ukllc-dataset-00127-01\" rel=\"noopener noreferrer\" target=\"_blank\">10.71760/ukllc-dataset-00127-01</a></td>\n",
       "    </tr>\n",
       "    <tr>\n",
       "      <td id=\"T_ec535_row4_col0\" class=\"data row4 col0\" >Change Log</td>\n",
       "      <td id=\"T_ec535_row4_col1\" class=\"data row4 col1\" > <a href=\"https://api.test.datacite.org/dois/10.71760/ukllc-dataset-00127-01/activities\" rel=\"noopener noreferrer\" target=\"_blank\">10.71760/ukllc-dataset-00127-01/activities</a></td>\n",
       "    </tr>\n",
       "  </tbody>\n",
       "</table>\n"
      ],
      "text/plain": [
       "<pandas.io.formats.style.Styler at 0x180c9779940>"
      ]
     },
     "execution_count": 4,
     "metadata": {},
     "output_type": "execute_result"
    }
   ],
   "source": [
    "ds.version_history()"
   ]
  },
  {
   "cell_type": "markdown",
   "id": "8e165d74",
   "metadata": {},
   "source": [
    "## 3. Documentation"
   ]
  },
  {
   "cell_type": "code",
   "execution_count": 5,
   "id": "1e63615e",
   "metadata": {
    "execution": {
     "iopub.execute_input": "2025-07-28T18:58:48.857791Z",
     "iopub.status.busy": "2025-07-28T18:58:48.857791Z",
     "iopub.status.idle": "2025-07-28T18:58:48.869289Z",
     "shell.execute_reply": "2025-07-28T18:58:48.868781Z"
    },
    "tags": [
     "remove-input"
    ]
   },
   "outputs": [
    {
     "data": {
      "text/markdown": [
       "We are currently building a documentation storage system which will host useful documents related to datasets and data owners. We will surface these documents on Guidebook."
      ],
      "text/plain": [
       "<IPython.core.display.Markdown object>"
      ]
     },
     "metadata": {},
     "output_type": "display_data"
    }
   ],
   "source": [
    "ds.documentation()"
   ]
  },
  {
   "cell_type": "markdown",
   "id": "ab70906f",
   "metadata": {},
   "source": [
    "## 4. Useful Syntax"
   ]
  },
  {
   "cell_type": "code",
   "execution_count": 6,
   "id": "8591f0a6",
   "metadata": {
    "execution": {
     "iopub.execute_input": "2025-07-28T18:58:48.879384Z",
     "iopub.status.busy": "2025-07-28T18:58:48.877376Z",
     "iopub.status.idle": "2025-07-28T18:58:48.892713Z",
     "shell.execute_reply": "2025-07-28T18:58:48.890698Z"
    },
    "tags": [
     "remove-input"
    ]
   },
   "outputs": [
    {
     "data": {
      "text/markdown": [
       "Below we will include syntax that may be helpful to other researchers in the UK LLC TRE. For longer scripts, we will include a snippet of the code plus a link to Git where you can find the full scripts."
      ],
      "text/plain": [
       "<IPython.core.display.Markdown object>"
      ]
     },
     "metadata": {},
     "output_type": "display_data"
    }
   ],
   "source": [
    "ds.useful_syntax()"
   ]
  }
 ],
 "metadata": {
  "language_info": {
   "codemirror_mode": {
    "name": "ipython",
    "version": 3
   },
   "file_extension": ".py",
   "mimetype": "text/x-python",
   "name": "python",
   "nbconvert_exporter": "python",
   "pygments_lexer": "ipython3",
   "version": "3.12.7"
  }
 },
 "nbformat": 4,
 "nbformat_minor": 5
}
