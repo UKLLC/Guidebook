{
 "cells": [
  {
   "cell_type": "markdown",
   "id": "699bf3d5",
   "metadata": {},
   "source": [
    "# Scottish Medical Records 01 (SMR01) (GENSCOT)"
   ]
  },
  {
   "cell_type": "code",
   "execution_count": 1,
   "id": "9ca2f509",
   "metadata": {
    "execution": {
     "iopub.execute_input": "2025-07-28T19:05:00.483765Z",
     "iopub.status.busy": "2025-07-28T19:05:00.482770Z",
     "iopub.status.idle": "2025-07-28T19:05:15.285094Z",
     "shell.execute_reply": "2025-07-28T19:05:15.283077Z"
    },
    "tags": [
     "remove-input"
    ]
   },
   "outputs": [
    {
     "data": {
      "text/markdown": [
       ">Last modified: 28 Jul 2025"
      ],
      "text/plain": [
       "<IPython.core.display.Markdown object>"
      ]
     },
     "metadata": {},
     "output_type": "display_data"
    }
   ],
   "source": [
    "\n",
    "import sys\n",
    "import os\n",
    "sys.path.append(os.path.abspath('../../../../scripts/'))\n",
    "from data_doc_helper import LPSDataSet as DS, last_modified\n",
    "API_KEY = os.environ['FASTAPI_KEY']\n",
    "ds = DS(\"GENSCOT\", \"SMR01\")\n",
    "last_modified()\n"
   ]
  },
  {
   "cell_type": "markdown",
   "id": "209a3279",
   "metadata": {},
   "source": [
    "## 1. Summary"
   ]
  },
  {
   "cell_type": "code",
   "execution_count": 2,
   "id": "3df7484d",
   "metadata": {
    "execution": {
     "iopub.execute_input": "2025-07-28T19:05:15.294096Z",
     "iopub.status.busy": "2025-07-28T19:05:15.293090Z",
     "iopub.status.idle": "2025-07-28T19:05:15.306630Z",
     "shell.execute_reply": "2025-07-28T19:05:15.304104Z"
    },
    "tags": [
     "remove-input"
    ]
   },
   "outputs": [
    {
     "data": {
      "text/markdown": [
       "Hospital admissions data derived from Public Health Scotland"
      ],
      "text/plain": [
       "<IPython.core.display.Markdown object>"
      ]
     },
     "metadata": {},
     "output_type": "display_data"
    }
   ],
   "source": [
    "ds.summary()"
   ]
  },
  {
   "cell_type": "code",
   "execution_count": 3,
   "id": "4dca2d83",
   "metadata": {
    "execution": {
     "iopub.execute_input": "2025-07-28T19:05:15.313403Z",
     "iopub.status.busy": "2025-07-28T19:05:15.312404Z",
     "iopub.status.idle": "2025-07-28T19:05:16.941289Z",
     "shell.execute_reply": "2025-07-28T19:05:16.938271Z"
    },
    "tags": [
     "remove-input"
    ]
   },
   "outputs": [
    {
     "data": {
      "text/html": [
       "<style type=\"text/css\">\n",
       "#T_f52f9 th {\n",
       "  text-align: left;\n",
       "}\n",
       "#T_f52f9_row0_col0, #T_f52f9_row0_col1, #T_f52f9_row1_col0, #T_f52f9_row1_col1, #T_f52f9_row2_col0, #T_f52f9_row2_col1, #T_f52f9_row3_col0, #T_f52f9_row3_col1, #T_f52f9_row4_col0, #T_f52f9_row4_col1, #T_f52f9_row5_col0, #T_f52f9_row5_col1, #T_f52f9_row6_col0, #T_f52f9_row6_col1, #T_f52f9_row7_col0, #T_f52f9_row7_col1, #T_f52f9_row8_col0, #T_f52f9_row8_col1, #T_f52f9_row9_col0, #T_f52f9_row9_col1, #T_f52f9_row10_col0, #T_f52f9_row10_col1, #T_f52f9_row11_col0, #T_f52f9_row11_col1, #T_f52f9_row12_col0, #T_f52f9_row12_col1 {\n",
       "  text-align: left;\n",
       "}\n",
       "</style>\n",
       "<table id=\"T_f52f9\" style=\"font-size: 14px\">\n",
       "  <thead>\n",
       "    <tr>\n",
       "      <th id=\"T_f52f9_level0_col0\" class=\"col_heading level0 col0\" >Dataset Descriptor</th>\n",
       "      <th id=\"T_f52f9_level0_col1\" class=\"col_heading level0 col1\" >Dataset-specific Information</th>\n",
       "    </tr>\n",
       "  </thead>\n",
       "  <tbody>\n",
       "    <tr>\n",
       "      <td id=\"T_f52f9_row0_col0\" class=\"data row0 col0\" >Name of Dataset in TRE</td>\n",
       "      <td id=\"T_f52f9_row0_col1\" class=\"data row0 col1\" >GENSCOT_SMR01</td>\n",
       "    </tr>\n",
       "    <tr>\n",
       "      <td id=\"T_f52f9_row1_col0\" class=\"data row1 col0\" >Citation (APA)</td>\n",
       "      <td id=\"T_f52f9_row1_col1\" class=\"data row1 col1\" >Centre for Medical Informatics, Usher Institute, University of Edinburgh. (2021). <i>Generation Scotland (GENSCOT): Scottish Medical Records 01 (SMR01).</i> UK Longitudinal Linkage Collaboration (UK LLC).  <a href=\"https://doi.org/10.71760/ukllc-dataset-00142-01\" rel=\"noopener noreferrer\" target=\"_blank\">https://doi.org/10.71760/ukllc-dataset-00142-01</a></td>\n",
       "    </tr>\n",
       "    <tr>\n",
       "      <td id=\"T_f52f9_row2_col0\" class=\"data row2 col0\" >Download Citation</td>\n",
       "      <td id=\"T_f52f9_row2_col1\" class=\"data row2 col1\" > <a href=\"https://api.datacite.org/application/vnd.citationstyles.csl+json/10.71760/ukllc-dataset-00142-01\" rel=\"noopener noreferrer\" target=\"_blank\">Citeproc JSON</a>&nbsp;&nbsp;&nbsp;&nbsp; <a href=\"https://api.datacite.org/application/x-bibtex/10.71760/ukllc-dataset-00142-01\" rel=\"noopener noreferrer\" target=\"_blank\">BibTeX</a>&nbsp;&nbsp;&nbsp;&nbsp; <a href=\"https://api.datacite.org/application/x-research-info-systems/10.71760/ukllc-dataset-00142-01\" rel=\"noopener noreferrer\" target=\"_blank\">RIS</a></td>\n",
       "    </tr>\n",
       "    <tr>\n",
       "      <td id=\"T_f52f9_row3_col0\" class=\"data row3 col0\" >Series</td>\n",
       "      <td id=\"T_f52f9_row3_col1\" class=\"data row3 col1\" > <a href=\"https://guidebook.ukllc.ac.uk/docs/lps_data/lps%20profiles/GENSCOT\">Generation Scotland (GENSCOT)</a></td>\n",
       "    </tr>\n",
       "    <tr>\n",
       "      <td id=\"T_f52f9_row4_col0\" class=\"data row4 col0\" >Owner</td>\n",
       "      <td id=\"T_f52f9_row4_col1\" class=\"data row4 col1\" >University of Edinburgh</td>\n",
       "    </tr>\n",
       "    <tr>\n",
       "      <td id=\"T_f52f9_row5_col0\" class=\"data row5 col0\" >Temporal Coverage</td>\n",
       "      <td id=\"T_f52f9_row5_col1\" class=\"data row5 col1\" >01/2006 - 06/2021</td>\n",
       "    </tr>\n",
       "    <tr>\n",
       "      <td id=\"T_f52f9_row6_col0\" class=\"data row6 col0\" >Keywords</td>\n",
       "      <td id=\"T_f52f9_row6_col1\" class=\"data row6 col1\" ></td>\n",
       "    </tr>\n",
       "    <tr>\n",
       "      <td id=\"T_f52f9_row7_col0\" class=\"data row7 col0\" >Participants Invited</td>\n",
       "      <td id=\"T_f52f9_row7_col1\" class=\"data row7 col1\" >13452</td>\n",
       "    </tr>\n",
       "    <tr>\n",
       "      <td id=\"T_f52f9_row8_col0\" class=\"data row8 col0\" >Participant Count</td>\n",
       "      <td id=\"T_f52f9_row8_col1\" class=\"data row8 col1\" ></td>\n",
       "    </tr>\n",
       "    <tr>\n",
       "      <td id=\"T_f52f9_row9_col0\" class=\"data row9 col0\" >Number of variables</td>\n",
       "      <td id=\"T_f52f9_row9_col1\" class=\"data row9 col1\" >12</td>\n",
       "    </tr>\n",
       "    <tr>\n",
       "      <td id=\"T_f52f9_row10_col0\" class=\"data row10 col0\" >Number of observations</td>\n",
       "      <td id=\"T_f52f9_row10_col1\" class=\"data row10 col1\" >66960</td>\n",
       "    </tr>\n",
       "    <tr>\n",
       "      <td id=\"T_f52f9_row11_col0\" class=\"data row11 col0\" >Specific Restrictions to Data Use</td>\n",
       "      <td id=\"T_f52f9_row11_col1\" class=\"data row11 col1\" >None</td>\n",
       "    </tr>\n",
       "    <tr>\n",
       "      <td id=\"T_f52f9_row12_col0\" class=\"data row12 col0\" >Build a Data Request</td>\n",
       "      <td id=\"T_f52f9_row12_col1\" class=\"data row12 col1\" > <a href=\"https://explore.ukllc.ac.uk/\" rel=\"noopener noreferrer\" target=\"_blank\">https://explore.ukllc.ac.uk/</a></td>\n",
       "    </tr>\n",
       "  </tbody>\n",
       "</table>\n"
      ],
      "text/plain": [
       "<pandas.io.formats.style.Styler at 0x1b74c966420>"
      ]
     },
     "execution_count": 3,
     "metadata": {},
     "output_type": "execute_result"
    }
   ],
   "source": [
    "ds.info_table()"
   ]
  },
  {
   "cell_type": "markdown",
   "id": "c62c5b3b",
   "metadata": {},
   "source": [
    "## 2. Version History"
   ]
  },
  {
   "cell_type": "code",
   "execution_count": 4,
   "id": "53cb5c4c",
   "metadata": {
    "execution": {
     "iopub.execute_input": "2025-07-28T19:05:16.950290Z",
     "iopub.status.busy": "2025-07-28T19:05:16.949287Z",
     "iopub.status.idle": "2025-07-28T19:05:22.578446Z",
     "shell.execute_reply": "2025-07-28T19:05:22.576339Z"
    },
    "tags": [
     "remove-input"
    ]
   },
   "outputs": [
    {
     "data": {
      "text/html": [
       "<style type=\"text/css\">\n",
       "#T_7a127 th {\n",
       "  text-align: left;\n",
       "}\n",
       "#T_7a127_row0_col0, #T_7a127_row0_col1, #T_7a127_row1_col0, #T_7a127_row1_col1, #T_7a127_row2_col0, #T_7a127_row2_col1, #T_7a127_row3_col0, #T_7a127_row3_col1, #T_7a127_row4_col0, #T_7a127_row4_col1 {\n",
       "  text-align: left;\n",
       "}\n",
       "</style>\n",
       "<table id=\"T_7a127\" style=\"font-size: 14px\">\n",
       "  <thead>\n",
       "    <tr>\n",
       "      <th id=\"T_7a127_level0_col0\" class=\"col_heading level0 col0\" >Version</th>\n",
       "      <th id=\"T_7a127_level0_col1\" class=\"col_heading level0 col1\" >1</th>\n",
       "    </tr>\n",
       "  </thead>\n",
       "  <tbody>\n",
       "    <tr>\n",
       "      <td id=\"T_7a127_row0_col0\" class=\"data row0 col0\" >Version Date</td>\n",
       "      <td id=\"T_7a127_row0_col1\" class=\"data row0 col1\" >01 Nov 2021</td>\n",
       "    </tr>\n",
       "    <tr>\n",
       "      <td id=\"T_7a127_row1_col0\" class=\"data row1 col0\" >Number of Variables</td>\n",
       "      <td id=\"T_7a127_row1_col1\" class=\"data row1 col1\" >12</td>\n",
       "    </tr>\n",
       "    <tr>\n",
       "      <td id=\"T_7a127_row2_col0\" class=\"data row2 col0\" >Number of Observations</td>\n",
       "      <td id=\"T_7a127_row2_col1\" class=\"data row2 col1\" >66960</td>\n",
       "    </tr>\n",
       "    <tr>\n",
       "      <td id=\"T_7a127_row3_col0\" class=\"data row3 col0\" >DOI</td>\n",
       "      <td id=\"T_7a127_row3_col1\" class=\"data row3 col1\" > <a href=\"https://doi.org/10.71760/ukllc-dataset-00142-01\" rel=\"noopener noreferrer\" target=\"_blank\">10.71760/ukllc-dataset-00142-01</a></td>\n",
       "    </tr>\n",
       "    <tr>\n",
       "      <td id=\"T_7a127_row4_col0\" class=\"data row4 col0\" >Change Log</td>\n",
       "      <td id=\"T_7a127_row4_col1\" class=\"data row4 col1\" > <a href=\"https://api.test.datacite.org/dois/10.71760/ukllc-dataset-00142-01/activities\" rel=\"noopener noreferrer\" target=\"_blank\">10.71760/ukllc-dataset-00142-01/activities</a></td>\n",
       "    </tr>\n",
       "  </tbody>\n",
       "</table>\n"
      ],
      "text/plain": [
       "<pandas.io.formats.style.Styler at 0x1b753955d60>"
      ]
     },
     "execution_count": 4,
     "metadata": {},
     "output_type": "execute_result"
    }
   ],
   "source": [
    "ds.version_history()"
   ]
  },
  {
   "cell_type": "markdown",
   "id": "24cbce0d",
   "metadata": {},
   "source": [
    "## 3. Documentation"
   ]
  },
  {
   "cell_type": "code",
   "execution_count": 5,
   "id": "053a7f68",
   "metadata": {
    "execution": {
     "iopub.execute_input": "2025-07-28T19:05:22.586376Z",
     "iopub.status.busy": "2025-07-28T19:05:22.585387Z",
     "iopub.status.idle": "2025-07-28T19:05:22.598881Z",
     "shell.execute_reply": "2025-07-28T19:05:22.596851Z"
    },
    "tags": [
     "remove-input"
    ]
   },
   "outputs": [
    {
     "data": {
      "text/markdown": [
       "We are currently building a documentation storage system which will host useful documents related to datasets and data owners. We will surface these documents on Guidebook."
      ],
      "text/plain": [
       "<IPython.core.display.Markdown object>"
      ]
     },
     "metadata": {},
     "output_type": "display_data"
    }
   ],
   "source": [
    "ds.documentation()"
   ]
  },
  {
   "cell_type": "markdown",
   "id": "6847d39c",
   "metadata": {},
   "source": [
    "## 4. Useful Syntax"
   ]
  },
  {
   "cell_type": "code",
   "execution_count": 6,
   "id": "a69179b0",
   "metadata": {
    "execution": {
     "iopub.execute_input": "2025-07-28T19:05:22.606940Z",
     "iopub.status.busy": "2025-07-28T19:05:22.606940Z",
     "iopub.status.idle": "2025-07-28T19:05:22.619275Z",
     "shell.execute_reply": "2025-07-28T19:05:22.617224Z"
    },
    "tags": [
     "remove-input"
    ]
   },
   "outputs": [
    {
     "data": {
      "text/markdown": [
       "Below we will include syntax that may be helpful to other researchers in the UK LLC TRE. For longer scripts, we will include a snippet of the code plus a link to Git where you can find the full scripts."
      ],
      "text/plain": [
       "<IPython.core.display.Markdown object>"
      ]
     },
     "metadata": {},
     "output_type": "display_data"
    }
   ],
   "source": [
    "ds.useful_syntax()"
   ]
  }
 ],
 "metadata": {
  "language_info": {
   "codemirror_mode": {
    "name": "ipython",
    "version": 3
   },
   "file_extension": ".py",
   "mimetype": "text/x-python",
   "name": "python",
   "nbconvert_exporter": "python",
   "pygments_lexer": "ipython3",
   "version": "3.12.7"
  }
 },
 "nbformat": 4,
 "nbformat_minor": 5
}
