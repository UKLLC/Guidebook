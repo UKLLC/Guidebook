{
 "cells": [
  {
   "cell_type": "markdown",
   "id": "334287f9",
   "metadata": {},
   "source": [
    "# COVID-19 Life 2 (GENSCOT)"
   ]
  },
  {
   "cell_type": "code",
   "execution_count": 1,
   "id": "22022b06",
   "metadata": {
    "execution": {
     "iopub.execute_input": "2025-07-28T18:58:51.896480Z",
     "iopub.status.busy": "2025-07-28T18:58:51.895482Z",
     "iopub.status.idle": "2025-07-28T18:59:04.307375Z",
     "shell.execute_reply": "2025-07-28T18:59:04.306357Z"
    },
    "tags": [
     "remove-input"
    ]
   },
   "outputs": [
    {
     "data": {
      "text/markdown": [
       ">Last modified: 28 Jul 2025"
      ],
      "text/plain": [
       "<IPython.core.display.Markdown object>"
      ]
     },
     "metadata": {},
     "output_type": "display_data"
    }
   ],
   "source": [
    "\n",
    "import sys\n",
    "import os\n",
    "sys.path.append(os.path.abspath('../../../../scripts/'))\n",
    "from data_doc_helper import LPSDataSet as DS, last_modified\n",
    "API_KEY = os.environ['FASTAPI_KEY']\n",
    "ds = DS(\"GENSCOT\", \"COVIDLIFE2\")\n",
    "last_modified()\n"
   ]
  },
  {
   "cell_type": "markdown",
   "id": "ff6aadb2",
   "metadata": {},
   "source": [
    "## 1. Summary"
   ]
  },
  {
   "cell_type": "code",
   "execution_count": 2,
   "id": "c0c29e10",
   "metadata": {
    "execution": {
     "iopub.execute_input": "2025-07-28T18:59:04.318374Z",
     "iopub.status.busy": "2025-07-28T18:59:04.317377Z",
     "iopub.status.idle": "2025-07-28T18:59:04.332417Z",
     "shell.execute_reply": "2025-07-28T18:59:04.329878Z"
    },
    "tags": [
     "remove-input"
    ]
   },
   "outputs": [
    {
     "data": {
      "text/markdown": [
       "Participants filled out an online questionnaire examining physical and mental wellbeing during the Covid-19 pandemic"
      ],
      "text/plain": [
       "<IPython.core.display.Markdown object>"
      ]
     },
     "metadata": {},
     "output_type": "display_data"
    }
   ],
   "source": [
    "ds.summary()"
   ]
  },
  {
   "cell_type": "code",
   "execution_count": 3,
   "id": "46203a29",
   "metadata": {
    "execution": {
     "iopub.execute_input": "2025-07-28T18:59:04.340412Z",
     "iopub.status.busy": "2025-07-28T18:59:04.340412Z",
     "iopub.status.idle": "2025-07-28T18:59:06.210734Z",
     "shell.execute_reply": "2025-07-28T18:59:06.208714Z"
    },
    "tags": [
     "remove-input"
    ]
   },
   "outputs": [
    {
     "data": {
      "text/html": [
       "<style type=\"text/css\">\n",
       "#T_b474f th {\n",
       "  text-align: left;\n",
       "}\n",
       "#T_b474f_row0_col0, #T_b474f_row0_col1, #T_b474f_row1_col0, #T_b474f_row1_col1, #T_b474f_row2_col0, #T_b474f_row2_col1, #T_b474f_row3_col0, #T_b474f_row3_col1, #T_b474f_row4_col0, #T_b474f_row4_col1, #T_b474f_row5_col0, #T_b474f_row5_col1, #T_b474f_row6_col0, #T_b474f_row6_col1, #T_b474f_row7_col0, #T_b474f_row7_col1, #T_b474f_row8_col0, #T_b474f_row8_col1, #T_b474f_row9_col0, #T_b474f_row9_col1, #T_b474f_row10_col0, #T_b474f_row10_col1, #T_b474f_row11_col0, #T_b474f_row11_col1, #T_b474f_row12_col0, #T_b474f_row12_col1 {\n",
       "  text-align: left;\n",
       "}\n",
       "</style>\n",
       "<table id=\"T_b474f\" style=\"font-size: 14px\">\n",
       "  <thead>\n",
       "    <tr>\n",
       "      <th id=\"T_b474f_level0_col0\" class=\"col_heading level0 col0\" >Dataset Descriptor</th>\n",
       "      <th id=\"T_b474f_level0_col1\" class=\"col_heading level0 col1\" >Dataset-specific Information</th>\n",
       "    </tr>\n",
       "  </thead>\n",
       "  <tbody>\n",
       "    <tr>\n",
       "      <td id=\"T_b474f_row0_col0\" class=\"data row0 col0\" >Name of Dataset in TRE</td>\n",
       "      <td id=\"T_b474f_row0_col1\" class=\"data row0 col1\" >GENSCOT_COVIDLIFE2</td>\n",
       "    </tr>\n",
       "    <tr>\n",
       "      <td id=\"T_b474f_row1_col0\" class=\"data row1 col0\" >Citation (APA)</td>\n",
       "      <td id=\"T_b474f_row1_col1\" class=\"data row1 col1\" >Centre for Medical Informatics, Usher Institute, University of Edinburgh. (2021). <i>Generation Scotland (GENSCOT): COVID-19 Life 2.</i> UK Longitudinal Linkage Collaboration (UK LLC).  <a href=\"https://doi.org/10.71760/ukllc-dataset-00128-01\" rel=\"noopener noreferrer\" target=\"_blank\">https://doi.org/10.71760/ukllc-dataset-00128-01</a></td>\n",
       "    </tr>\n",
       "    <tr>\n",
       "      <td id=\"T_b474f_row2_col0\" class=\"data row2 col0\" >Download Citation</td>\n",
       "      <td id=\"T_b474f_row2_col1\" class=\"data row2 col1\" > <a href=\"https://api.datacite.org/application/vnd.citationstyles.csl+json/10.71760/ukllc-dataset-00128-01\" rel=\"noopener noreferrer\" target=\"_blank\">Citeproc JSON</a>&nbsp;&nbsp;&nbsp;&nbsp; <a href=\"https://api.datacite.org/application/x-bibtex/10.71760/ukllc-dataset-00128-01\" rel=\"noopener noreferrer\" target=\"_blank\">BibTeX</a>&nbsp;&nbsp;&nbsp;&nbsp; <a href=\"https://api.datacite.org/application/x-research-info-systems/10.71760/ukllc-dataset-00128-01\" rel=\"noopener noreferrer\" target=\"_blank\">RIS</a></td>\n",
       "    </tr>\n",
       "    <tr>\n",
       "      <td id=\"T_b474f_row3_col0\" class=\"data row3 col0\" >Series</td>\n",
       "      <td id=\"T_b474f_row3_col1\" class=\"data row3 col1\" > <a href=\"https://guidebook.ukllc.ac.uk/docs/lps_data/lps%20profiles/GENSCOT\">Generation Scotland (GENSCOT)</a></td>\n",
       "    </tr>\n",
       "    <tr>\n",
       "      <td id=\"T_b474f_row4_col0\" class=\"data row4 col0\" >Owner</td>\n",
       "      <td id=\"T_b474f_row4_col1\" class=\"data row4 col1\" >University of Edinburgh</td>\n",
       "    </tr>\n",
       "    <tr>\n",
       "      <td id=\"T_b474f_row5_col0\" class=\"data row5 col0\" >Temporal Coverage</td>\n",
       "      <td id=\"T_b474f_row5_col1\" class=\"data row5 col1\" >07/2020 - 08/2020</td>\n",
       "    </tr>\n",
       "    <tr>\n",
       "      <td id=\"T_b474f_row6_col0\" class=\"data row6 col0\" >Keywords</td>\n",
       "      <td id=\"T_b474f_row6_col1\" class=\"data row6 col1\" ></td>\n",
       "    </tr>\n",
       "    <tr>\n",
       "      <td id=\"T_b474f_row7_col0\" class=\"data row7 col0\" >Participants Invited</td>\n",
       "      <td id=\"T_b474f_row7_col1\" class=\"data row7 col1\" >3303</td>\n",
       "    </tr>\n",
       "    <tr>\n",
       "      <td id=\"T_b474f_row8_col0\" class=\"data row8 col0\" >Participant Count</td>\n",
       "      <td id=\"T_b474f_row8_col1\" class=\"data row8 col1\" >3300</td>\n",
       "    </tr>\n",
       "    <tr>\n",
       "      <td id=\"T_b474f_row9_col0\" class=\"data row9 col0\" >Number of variables</td>\n",
       "      <td id=\"T_b474f_row9_col1\" class=\"data row9 col1\" >508</td>\n",
       "    </tr>\n",
       "    <tr>\n",
       "      <td id=\"T_b474f_row10_col0\" class=\"data row10 col0\" >Number of observations</td>\n",
       "      <td id=\"T_b474f_row10_col1\" class=\"data row10 col1\" >3303</td>\n",
       "    </tr>\n",
       "    <tr>\n",
       "      <td id=\"T_b474f_row11_col0\" class=\"data row11 col0\" >Specific Restrictions to Data Use</td>\n",
       "      <td id=\"T_b474f_row11_col1\" class=\"data row11 col1\" >None</td>\n",
       "    </tr>\n",
       "    <tr>\n",
       "      <td id=\"T_b474f_row12_col0\" class=\"data row12 col0\" >Build a Data Request</td>\n",
       "      <td id=\"T_b474f_row12_col1\" class=\"data row12 col1\" > <a href=\"https://explore.ukllc.ac.uk/\" rel=\"noopener noreferrer\" target=\"_blank\">https://explore.ukllc.ac.uk/</a></td>\n",
       "    </tr>\n",
       "  </tbody>\n",
       "</table>\n"
      ],
      "text/plain": [
       "<pandas.io.formats.style.Styler at 0x164cd186420>"
      ]
     },
     "execution_count": 3,
     "metadata": {},
     "output_type": "execute_result"
    }
   ],
   "source": [
    "ds.info_table()"
   ]
  },
  {
   "cell_type": "markdown",
   "id": "5215e181",
   "metadata": {},
   "source": [
    "## 2. Version History"
   ]
  },
  {
   "cell_type": "code",
   "execution_count": 4,
   "id": "91113e3a",
   "metadata": {
    "execution": {
     "iopub.execute_input": "2025-07-28T18:59:06.219731Z",
     "iopub.status.busy": "2025-07-28T18:59:06.217784Z",
     "iopub.status.idle": "2025-07-28T18:59:11.926579Z",
     "shell.execute_reply": "2025-07-28T18:59:11.924271Z"
    },
    "tags": [
     "remove-input"
    ]
   },
   "outputs": [
    {
     "data": {
      "text/html": [
       "<style type=\"text/css\">\n",
       "#T_4bbc4 th {\n",
       "  text-align: left;\n",
       "}\n",
       "#T_4bbc4_row0_col0, #T_4bbc4_row0_col1, #T_4bbc4_row1_col0, #T_4bbc4_row1_col1, #T_4bbc4_row2_col0, #T_4bbc4_row2_col1, #T_4bbc4_row3_col0, #T_4bbc4_row3_col1, #T_4bbc4_row4_col0, #T_4bbc4_row4_col1 {\n",
       "  text-align: left;\n",
       "}\n",
       "</style>\n",
       "<table id=\"T_4bbc4\" style=\"font-size: 14px\">\n",
       "  <thead>\n",
       "    <tr>\n",
       "      <th id=\"T_4bbc4_level0_col0\" class=\"col_heading level0 col0\" >Version</th>\n",
       "      <th id=\"T_4bbc4_level0_col1\" class=\"col_heading level0 col1\" >1</th>\n",
       "    </tr>\n",
       "  </thead>\n",
       "  <tbody>\n",
       "    <tr>\n",
       "      <td id=\"T_4bbc4_row0_col0\" class=\"data row0 col0\" >Version Date</td>\n",
       "      <td id=\"T_4bbc4_row0_col1\" class=\"data row0 col1\" >01 Nov 2021</td>\n",
       "    </tr>\n",
       "    <tr>\n",
       "      <td id=\"T_4bbc4_row1_col0\" class=\"data row1 col0\" >Number of Variables</td>\n",
       "      <td id=\"T_4bbc4_row1_col1\" class=\"data row1 col1\" >508</td>\n",
       "    </tr>\n",
       "    <tr>\n",
       "      <td id=\"T_4bbc4_row2_col0\" class=\"data row2 col0\" >Number of Observations</td>\n",
       "      <td id=\"T_4bbc4_row2_col1\" class=\"data row2 col1\" >3303</td>\n",
       "    </tr>\n",
       "    <tr>\n",
       "      <td id=\"T_4bbc4_row3_col0\" class=\"data row3 col0\" >DOI</td>\n",
       "      <td id=\"T_4bbc4_row3_col1\" class=\"data row3 col1\" > <a href=\"https://doi.org/10.71760/ukllc-dataset-00128-01\" rel=\"noopener noreferrer\" target=\"_blank\">10.71760/ukllc-dataset-00128-01</a></td>\n",
       "    </tr>\n",
       "    <tr>\n",
       "      <td id=\"T_4bbc4_row4_col0\" class=\"data row4 col0\" >Change Log</td>\n",
       "      <td id=\"T_4bbc4_row4_col1\" class=\"data row4 col1\" > <a href=\"https://api.test.datacite.org/dois/10.71760/ukllc-dataset-00128-01/activities\" rel=\"noopener noreferrer\" target=\"_blank\">10.71760/ukllc-dataset-00128-01/activities</a></td>\n",
       "    </tr>\n",
       "  </tbody>\n",
       "</table>\n"
      ],
      "text/plain": [
       "<pandas.io.formats.style.Styler at 0x164ce3ef710>"
      ]
     },
     "execution_count": 4,
     "metadata": {},
     "output_type": "execute_result"
    }
   ],
   "source": [
    "ds.version_history()"
   ]
  },
  {
   "cell_type": "markdown",
   "id": "653791b7",
   "metadata": {},
   "source": [
    "## 3. Documentation"
   ]
  },
  {
   "cell_type": "code",
   "execution_count": 5,
   "id": "ee178cfc",
   "metadata": {
    "execution": {
     "iopub.execute_input": "2025-07-28T18:59:11.935609Z",
     "iopub.status.busy": "2025-07-28T18:59:11.935609Z",
     "iopub.status.idle": "2025-07-28T18:59:11.948024Z",
     "shell.execute_reply": "2025-07-28T18:59:11.946125Z"
    },
    "tags": [
     "remove-input"
    ]
   },
   "outputs": [
    {
     "data": {
      "text/markdown": [
       "We are currently building a documentation storage system which will host useful documents related to datasets and data owners. We will surface these documents on Guidebook."
      ],
      "text/plain": [
       "<IPython.core.display.Markdown object>"
      ]
     },
     "metadata": {},
     "output_type": "display_data"
    }
   ],
   "source": [
    "ds.documentation()"
   ]
  },
  {
   "cell_type": "markdown",
   "id": "f5b83389",
   "metadata": {},
   "source": [
    "## 4. Useful Syntax"
   ]
  },
  {
   "cell_type": "code",
   "execution_count": 6,
   "id": "5cae7518",
   "metadata": {
    "execution": {
     "iopub.execute_input": "2025-07-28T18:59:11.957152Z",
     "iopub.status.busy": "2025-07-28T18:59:11.956045Z",
     "iopub.status.idle": "2025-07-28T18:59:11.966700Z",
     "shell.execute_reply": "2025-07-28T18:59:11.965169Z"
    },
    "tags": [
     "remove-input"
    ]
   },
   "outputs": [
    {
     "data": {
      "text/markdown": [
       "Below we will include syntax that may be helpful to other researchers in the UK LLC TRE. For longer scripts, we will include a snippet of the code plus a link to Git where you can find the full scripts."
      ],
      "text/plain": [
       "<IPython.core.display.Markdown object>"
      ]
     },
     "metadata": {},
     "output_type": "display_data"
    }
   ],
   "source": [
    "ds.useful_syntax()"
   ]
  }
 ],
 "metadata": {
  "language_info": {
   "codemirror_mode": {
    "name": "ipython",
    "version": 3
   },
   "file_extension": ".py",
   "mimetype": "text/x-python",
   "name": "python",
   "nbconvert_exporter": "python",
   "pygments_lexer": "ipython3",
   "version": "3.12.7"
  }
 },
 "nbformat": 4,
 "nbformat_minor": 5
}
