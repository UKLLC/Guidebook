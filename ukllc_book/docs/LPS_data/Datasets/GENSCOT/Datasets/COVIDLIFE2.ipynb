{
 "cells": [
  {
   "cell_type": "markdown",
   "id": "334287f9",
   "metadata": {},
   "source": [
    "# COVID-19 Life 2 (GENSCOT)"
   ]
  },
  {
   "cell_type": "code",
   "execution_count": 1,
   "id": "22022b06",
   "metadata": {
    "execution": {
     "iopub.execute_input": "2025-07-17T17:24:34.175611Z",
     "iopub.status.busy": "2025-07-17T17:24:34.175611Z",
     "iopub.status.idle": "2025-07-17T17:24:41.658154Z",
     "shell.execute_reply": "2025-07-17T17:24:41.658154Z"
    },
    "tags": [
     "remove-input"
    ]
   },
   "outputs": [
    {
     "data": {
      "text/markdown": [
       ">Last modified: 17 Jul 2025"
      ],
      "text/plain": [
       "<IPython.core.display.Markdown object>"
      ]
     },
     "metadata": {},
     "output_type": "display_data"
    }
   ],
   "source": [
    "\n",
    "import sys\n",
    "import os\n",
    "sys.path.append(os.path.abspath('../../../../scripts/'))\n",
    "from data_doc_helper import LPSDataSet as DS, last_modified\n",
    "API_KEY = os.environ['FASTAPI_KEY']\n",
    "ds = DS(\"GENSCOT\", \"COVIDLIFE2\")\n",
    "last_modified()\n"
   ]
  },
  {
   "cell_type": "markdown",
   "id": "ff6aadb2",
   "metadata": {},
   "source": [
    "## 1. Summary"
   ]
  },
  {
   "cell_type": "code",
   "execution_count": 2,
   "id": "c0c29e10",
   "metadata": {
    "execution": {
     "iopub.execute_input": "2025-07-17T17:24:41.660165Z",
     "iopub.status.busy": "2025-07-17T17:24:41.660165Z",
     "iopub.status.idle": "2025-07-17T17:24:41.664017Z",
     "shell.execute_reply": "2025-07-17T17:24:41.664017Z"
    },
    "tags": [
     "remove-input"
    ]
   },
   "outputs": [
    {
     "data": {
      "text/markdown": [
       "Participants filled out an online questionnaire examining physical and mental wellbeing during the Covid-19 pandemic"
      ],
      "text/plain": [
       "<IPython.core.display.Markdown object>"
      ]
     },
     "metadata": {},
     "output_type": "display_data"
    }
   ],
   "source": [
    "ds.summary()"
   ]
  },
  {
   "cell_type": "code",
   "execution_count": 3,
   "id": "46203a29",
   "metadata": {
    "execution": {
     "iopub.execute_input": "2025-07-17T17:24:41.666022Z",
     "iopub.status.busy": "2025-07-17T17:24:41.666022Z",
     "iopub.status.idle": "2025-07-17T17:24:42.411374Z",
     "shell.execute_reply": "2025-07-17T17:24:42.411374Z"
    },
    "tags": [
     "remove-input"
    ]
   },
   "outputs": [
    {
     "data": {
      "text/html": [
       "<style type=\"text/css\">\n",
       "#T_07384 th {\n",
       "  text-align: left;\n",
       "}\n",
       "#T_07384_row0_col0, #T_07384_row0_col1, #T_07384_row1_col0, #T_07384_row1_col1, #T_07384_row2_col0, #T_07384_row2_col1, #T_07384_row3_col0, #T_07384_row3_col1, #T_07384_row4_col0, #T_07384_row4_col1, #T_07384_row5_col0, #T_07384_row5_col1, #T_07384_row6_col0, #T_07384_row6_col1, #T_07384_row7_col0, #T_07384_row7_col1, #T_07384_row8_col0, #T_07384_row8_col1, #T_07384_row9_col0, #T_07384_row9_col1, #T_07384_row10_col0, #T_07384_row10_col1, #T_07384_row11_col0, #T_07384_row11_col1, #T_07384_row12_col0, #T_07384_row12_col1 {\n",
       "  text-align: left;\n",
       "}\n",
       "</style>\n",
       "<table id=\"T_07384\" style=\"font-size: 14px\">\n",
       "  <thead>\n",
       "    <tr>\n",
       "      <th id=\"T_07384_level0_col0\" class=\"col_heading level0 col0\" >Dataset Descriptor</th>\n",
       "      <th id=\"T_07384_level0_col1\" class=\"col_heading level0 col1\" >Dataset-specific Information</th>\n",
       "    </tr>\n",
       "  </thead>\n",
       "  <tbody>\n",
       "    <tr>\n",
       "      <td id=\"T_07384_row0_col0\" class=\"data row0 col0\" >Name of Dataset in TRE</td>\n",
       "      <td id=\"T_07384_row0_col1\" class=\"data row0 col1\" >GENSCOT_COVIDLIFE2</td>\n",
       "    </tr>\n",
       "    <tr>\n",
       "      <td id=\"T_07384_row1_col0\" class=\"data row1 col0\" >Citation (APA)</td>\n",
       "      <td id=\"T_07384_row1_col1\" class=\"data row1 col1\" >Centre for Medical Informatics, Usher Institute, University of Edinburgh. (2021). <i>Generation Scotland: Scottish Family Health Study (GS:SFHS): COVID-19 Life 2.</i> UK Longitudinal Linkage Collaboration (UK LLC).  <a href=\"https://doi.org/10.83126/ukllc-dataset-00208-01\" rel=\"noopener noreferrer\" target=\"_blank\">https://doi.org/10.83126/ukllc-dataset-00208-01</a></td>\n",
       "    </tr>\n",
       "    <tr>\n",
       "      <td id=\"T_07384_row2_col0\" class=\"data row2 col0\" >Download Citation</td>\n",
       "      <td id=\"T_07384_row2_col1\" class=\"data row2 col1\" > <a href=\"https://api.test.datacite.org/application/vnd.citationstyles.csl+json/10.83126/ukllc-dataset-00208-01\" rel=\"noopener noreferrer\" target=\"_blank\">Citeproc JSON</a>&nbsp;&nbsp;&nbsp;&nbsp; <a href=\"https://api.test.datacite.org/application/x-bibtex/10.83126/ukllc-dataset-00208-01\" rel=\"noopener noreferrer\" target=\"_blank\">BibTeX</a>&nbsp;&nbsp;&nbsp;&nbsp; <a href=\"https://api.test.datacite.org/application/x-research-info-systems/10.83126/ukllc-dataset-00208-01\" rel=\"noopener noreferrer\" target=\"_blank\">RIS</a></td>\n",
       "    </tr>\n",
       "    <tr>\n",
       "      <td id=\"T_07384_row3_col0\" class=\"data row3 col0\" >Series</td>\n",
       "      <td id=\"T_07384_row3_col1\" class=\"data row3 col1\" > <a href=\"https://guidebook.ukllc.ac.uk/docs/lps/lps%20profiles/GENSCOT\">Generation Scotland: Scottish Family Health Study (GS:SFHS)</a></td>\n",
       "    </tr>\n",
       "    <tr>\n",
       "      <td id=\"T_07384_row4_col0\" class=\"data row4 col0\" >Owner</td>\n",
       "      <td id=\"T_07384_row4_col1\" class=\"data row4 col1\" >University of Edinburgh</td>\n",
       "    </tr>\n",
       "    <tr>\n",
       "      <td id=\"T_07384_row5_col0\" class=\"data row5 col0\" >Temporal Coverage</td>\n",
       "      <td id=\"T_07384_row5_col1\" class=\"data row5 col1\" >07/2020 - 08/2020</td>\n",
       "    </tr>\n",
       "    <tr>\n",
       "      <td id=\"T_07384_row6_col0\" class=\"data row6 col0\" >Keywords</td>\n",
       "      <td id=\"T_07384_row6_col1\" class=\"data row6 col1\" ></td>\n",
       "    </tr>\n",
       "    <tr>\n",
       "      <td id=\"T_07384_row7_col0\" class=\"data row7 col0\" >Participants Invited</td>\n",
       "      <td id=\"T_07384_row7_col1\" class=\"data row7 col1\" >3303</td>\n",
       "    </tr>\n",
       "    <tr>\n",
       "      <td id=\"T_07384_row8_col0\" class=\"data row8 col0\" >Participant Count</td>\n",
       "      <td id=\"T_07384_row8_col1\" class=\"data row8 col1\" >3300</td>\n",
       "    </tr>\n",
       "    <tr>\n",
       "      <td id=\"T_07384_row9_col0\" class=\"data row9 col0\" >Number of variables</td>\n",
       "      <td id=\"T_07384_row9_col1\" class=\"data row9 col1\" >508</td>\n",
       "    </tr>\n",
       "    <tr>\n",
       "      <td id=\"T_07384_row10_col0\" class=\"data row10 col0\" >Number of observations</td>\n",
       "      <td id=\"T_07384_row10_col1\" class=\"data row10 col1\" >3303</td>\n",
       "    </tr>\n",
       "    <tr>\n",
       "      <td id=\"T_07384_row11_col0\" class=\"data row11 col0\" >Specific Restrictions to Data Use</td>\n",
       "      <td id=\"T_07384_row11_col1\" class=\"data row11 col1\" >None</td>\n",
       "    </tr>\n",
       "    <tr>\n",
       "      <td id=\"T_07384_row12_col0\" class=\"data row12 col0\" >Build a Data Request</td>\n",
       "      <td id=\"T_07384_row12_col1\" class=\"data row12 col1\" > <a href=\"https://explore.ukllc.ac.uk/\" rel=\"noopener noreferrer\" target=\"_blank\">https://explore.ukllc.ac.uk/</a></td>\n",
       "    </tr>\n",
       "  </tbody>\n",
       "</table>\n"
      ],
      "text/plain": [
       "<pandas.io.formats.style.Styler at 0x1fc56c90590>"
      ]
     },
     "execution_count": 3,
     "metadata": {},
     "output_type": "execute_result"
    }
   ],
   "source": [
    "ds.info_table()"
   ]
  },
  {
   "cell_type": "markdown",
   "id": "5215e181",
   "metadata": {},
   "source": [
    "## 2. Version History"
   ]
  },
  {
   "cell_type": "code",
   "execution_count": 4,
   "id": "91113e3a",
   "metadata": {
    "execution": {
     "iopub.execute_input": "2025-07-17T17:24:42.414654Z",
     "iopub.status.busy": "2025-07-17T17:24:42.414654Z",
     "iopub.status.idle": "2025-07-17T17:24:44.710725Z",
     "shell.execute_reply": "2025-07-17T17:24:44.710135Z"
    },
    "tags": [
     "remove-input"
    ]
   },
   "outputs": [
    {
     "data": {
      "text/html": [
       "<style type=\"text/css\">\n",
       "#T_f9731 th {\n",
       "  text-align: left;\n",
       "}\n",
       "#T_f9731_row0_col0, #T_f9731_row0_col1, #T_f9731_row1_col0, #T_f9731_row1_col1, #T_f9731_row2_col0, #T_f9731_row2_col1, #T_f9731_row3_col0, #T_f9731_row3_col1, #T_f9731_row4_col0, #T_f9731_row4_col1 {\n",
       "  text-align: left;\n",
       "}\n",
       "</style>\n",
       "<table id=\"T_f9731\" style=\"font-size: 14px\">\n",
       "  <thead>\n",
       "    <tr>\n",
       "      <th id=\"T_f9731_level0_col0\" class=\"col_heading level0 col0\" >Version</th>\n",
       "      <th id=\"T_f9731_level0_col1\" class=\"col_heading level0 col1\" >1</th>\n",
       "    </tr>\n",
       "  </thead>\n",
       "  <tbody>\n",
       "    <tr>\n",
       "      <td id=\"T_f9731_row0_col0\" class=\"data row0 col0\" >Version Date</td>\n",
       "      <td id=\"T_f9731_row0_col1\" class=\"data row0 col1\" >01 Nov 2021</td>\n",
       "    </tr>\n",
       "    <tr>\n",
       "      <td id=\"T_f9731_row1_col0\" class=\"data row1 col0\" >Number of Variables</td>\n",
       "      <td id=\"T_f9731_row1_col1\" class=\"data row1 col1\" >508</td>\n",
       "    </tr>\n",
       "    <tr>\n",
       "      <td id=\"T_f9731_row2_col0\" class=\"data row2 col0\" >Number of Observations</td>\n",
       "      <td id=\"T_f9731_row2_col1\" class=\"data row2 col1\" >3303</td>\n",
       "    </tr>\n",
       "    <tr>\n",
       "      <td id=\"T_f9731_row3_col0\" class=\"data row3 col0\" >DOI</td>\n",
       "      <td id=\"T_f9731_row3_col1\" class=\"data row3 col1\" > <a href=\"https://doi.org/10.83126/ukllc-dataset-00208-01\" rel=\"noopener noreferrer\" target=\"_blank\">10.83126/ukllc-dataset-00208-01</a></td>\n",
       "    </tr>\n",
       "    <tr>\n",
       "      <td id=\"T_f9731_row4_col0\" class=\"data row4 col0\" >Change Log</td>\n",
       "      <td id=\"T_f9731_row4_col1\" class=\"data row4 col1\" > <a href=\"https://api.test.datacite.org/dois/10.83126/ukllc-dataset-00208-01/activities\" rel=\"noopener noreferrer\" target=\"_blank\">10.83126/ukllc-dataset-00208-01/activities</a></td>\n",
       "    </tr>\n",
       "  </tbody>\n",
       "</table>\n"
      ],
      "text/plain": [
       "<pandas.io.formats.style.Styler at 0x1fc58992270>"
      ]
     },
     "execution_count": 4,
     "metadata": {},
     "output_type": "execute_result"
    }
   ],
   "source": [
    "ds.version_history()"
   ]
  },
  {
   "cell_type": "markdown",
   "id": "653791b7",
   "metadata": {},
   "source": [
    "## 3. Documentation"
   ]
  },
  {
   "cell_type": "code",
   "execution_count": 5,
   "id": "ee178cfc",
   "metadata": {
    "execution": {
     "iopub.execute_input": "2025-07-17T17:24:44.712728Z",
     "iopub.status.busy": "2025-07-17T17:24:44.712728Z",
     "iopub.status.idle": "2025-07-17T17:24:44.716080Z",
     "shell.execute_reply": "2025-07-17T17:24:44.716080Z"
    },
    "tags": [
     "remove-input"
    ]
   },
   "outputs": [
    {
     "data": {
      "text/markdown": [
       "We are currently building a documentation storage system which will host useful documents related to datasets and data owners. We will surface these documents on Guidebook."
      ],
      "text/plain": [
       "<IPython.core.display.Markdown object>"
      ]
     },
     "metadata": {},
     "output_type": "display_data"
    }
   ],
   "source": [
    "ds.documentation()"
   ]
  },
  {
   "cell_type": "markdown",
   "id": "f5b83389",
   "metadata": {},
   "source": [
    "## 4. Useful Syntax"
   ]
  },
  {
   "cell_type": "code",
   "execution_count": 6,
   "id": "5cae7518",
   "metadata": {
    "execution": {
     "iopub.execute_input": "2025-07-17T17:24:44.718091Z",
     "iopub.status.busy": "2025-07-17T17:24:44.718091Z",
     "iopub.status.idle": "2025-07-17T17:24:44.721089Z",
     "shell.execute_reply": "2025-07-17T17:24:44.721089Z"
    },
    "tags": [
     "remove-input"
    ]
   },
   "outputs": [
    {
     "data": {
      "text/markdown": [
       "Below we will include syntax that may be helpful to other researchers in the UK LLC TRE. For longer scripts, we will include a snippet of the code plus a link to Git where you can find the full scripts."
      ],
      "text/plain": [
       "<IPython.core.display.Markdown object>"
      ]
     },
     "metadata": {},
     "output_type": "display_data"
    }
   ],
   "source": [
    "ds.useful_syntax()"
   ]
  }
 ],
 "metadata": {
  "language_info": {
   "codemirror_mode": {
    "name": "ipython",
    "version": 3
   },
   "file_extension": ".py",
   "mimetype": "text/x-python",
   "name": "python",
   "nbconvert_exporter": "python",
   "pygments_lexer": "ipython3",
   "version": "3.12.7"
  }
 },
 "nbformat": 4,
 "nbformat_minor": 5
}
