{
 "cells": [
  {
   "cell_type": "markdown",
   "id": "1e7bf4da",
   "metadata": {},
   "source": [
    "# Teds 21 Year Twin COVID-19 Phase 2 (TEDS)"
   ]
  },
  {
   "cell_type": "code",
   "execution_count": 1,
   "id": "921ddecd",
   "metadata": {
    "execution": {
     "iopub.execute_input": "2025-07-28T20:30:21.980903Z",
     "iopub.status.busy": "2025-07-28T20:30:21.980903Z",
     "iopub.status.idle": "2025-07-28T20:30:34.021143Z",
     "shell.execute_reply": "2025-07-28T20:30:34.018104Z"
    },
    "tags": [
     "remove-input"
    ]
   },
   "outputs": [
    {
     "data": {
      "text/markdown": [
       ">Last modified: 28 Jul 2025"
      ],
      "text/plain": [
       "<IPython.core.display.Markdown object>"
      ]
     },
     "metadata": {},
     "output_type": "display_data"
    }
   ],
   "source": [
    "\n",
    "import sys\n",
    "import os\n",
    "sys.path.append(os.path.abspath('../../../../scripts/'))\n",
    "from data_doc_helper import LPSDataSet as DS, last_modified\n",
    "API_KEY = os.environ['FASTAPI_KEY']\n",
    "ds = DS(\"TEDS\", \"TEDS_21yr_twin_covid_phase2\")\n",
    "last_modified()\n"
   ]
  },
  {
   "cell_type": "markdown",
   "id": "e111ea8a",
   "metadata": {},
   "source": [
    "## 1. Summary"
   ]
  },
  {
   "cell_type": "code",
   "execution_count": 2,
   "id": "62ce29e5",
   "metadata": {
    "execution": {
     "iopub.execute_input": "2025-07-28T20:30:34.030082Z",
     "iopub.status.busy": "2025-07-28T20:30:34.029083Z",
     "iopub.status.idle": "2025-07-28T20:30:34.048844Z",
     "shell.execute_reply": "2025-07-28T20:30:34.046456Z"
    },
    "tags": [
     "remove-input"
    ]
   },
   "outputs": [
    {
     "data": {
      "text/markdown": [
       "Actively participating twins contactable by email were asked to complete this questionnaire online. The questionnaire length was around 15 minutes on average. The questions included measures adapted from CRISIS. They covered a range of themes including current mental and physical health, and changes brought about by the covid pandemic and lockdown measures."
      ],
      "text/plain": [
       "<IPython.core.display.Markdown object>"
      ]
     },
     "metadata": {},
     "output_type": "display_data"
    }
   ],
   "source": [
    "ds.summary()"
   ]
  },
  {
   "cell_type": "code",
   "execution_count": 3,
   "id": "1fa5837b",
   "metadata": {
    "execution": {
     "iopub.execute_input": "2025-07-28T20:30:34.056043Z",
     "iopub.status.busy": "2025-07-28T20:30:34.056043Z",
     "iopub.status.idle": "2025-07-28T20:30:35.861047Z",
     "shell.execute_reply": "2025-07-28T20:30:35.859029Z"
    },
    "tags": [
     "remove-input"
    ]
   },
   "outputs": [
    {
     "data": {
      "text/html": [
       "<style type=\"text/css\">\n",
       "#T_101be th {\n",
       "  text-align: left;\n",
       "}\n",
       "#T_101be_row0_col0, #T_101be_row0_col1, #T_101be_row1_col0, #T_101be_row1_col1, #T_101be_row2_col0, #T_101be_row2_col1, #T_101be_row3_col0, #T_101be_row3_col1, #T_101be_row4_col0, #T_101be_row4_col1, #T_101be_row5_col0, #T_101be_row5_col1, #T_101be_row6_col0, #T_101be_row6_col1, #T_101be_row7_col0, #T_101be_row7_col1, #T_101be_row8_col0, #T_101be_row8_col1, #T_101be_row9_col0, #T_101be_row9_col1, #T_101be_row10_col0, #T_101be_row10_col1, #T_101be_row11_col0, #T_101be_row11_col1, #T_101be_row12_col0, #T_101be_row12_col1 {\n",
       "  text-align: left;\n",
       "}\n",
       "</style>\n",
       "<table id=\"T_101be\" style=\"font-size: 14px\">\n",
       "  <thead>\n",
       "    <tr>\n",
       "      <th id=\"T_101be_level0_col0\" class=\"col_heading level0 col0\" >Dataset Descriptor</th>\n",
       "      <th id=\"T_101be_level0_col1\" class=\"col_heading level0 col1\" >Dataset-specific Information</th>\n",
       "    </tr>\n",
       "  </thead>\n",
       "  <tbody>\n",
       "    <tr>\n",
       "      <td id=\"T_101be_row0_col0\" class=\"data row0 col0\" >Name of Dataset in TRE</td>\n",
       "      <td id=\"T_101be_row0_col1\" class=\"data row0 col1\" >TEDS_TEDS_21yr_twin_covid_phase2</td>\n",
       "    </tr>\n",
       "    <tr>\n",
       "      <td id=\"T_101be_row1_col0\" class=\"data row1 col0\" >Citation (APA)</td>\n",
       "      <td id=\"T_101be_row1_col1\" class=\"data row1 col1\" >King's College London, Institute of Psychiatry, Psychology & Neuroscience, Social, Genetic & Developmental Psychiatry Centre. (2025). <i>Twins Early Development Study (TEDS): Teds 21 Year Twin COVID-19 Phase 2.</i> UK Longitudinal Linkage Collaboration (UK LLC).  <a href=\"https://doi.org/10.71760/ukllc-dataset-00313-02\" rel=\"noopener noreferrer\" target=\"_blank\">https://doi.org/10.71760/ukllc-dataset-00313-02</a></td>\n",
       "    </tr>\n",
       "    <tr>\n",
       "      <td id=\"T_101be_row2_col0\" class=\"data row2 col0\" >Download Citation</td>\n",
       "      <td id=\"T_101be_row2_col1\" class=\"data row2 col1\" > <a href=\"https://api.datacite.org/application/vnd.citationstyles.csl+json/10.71760/ukllc-dataset-00313-02\" rel=\"noopener noreferrer\" target=\"_blank\">Citeproc JSON</a>&nbsp;&nbsp;&nbsp;&nbsp; <a href=\"https://api.datacite.org/application/x-bibtex/10.71760/ukllc-dataset-00313-02\" rel=\"noopener noreferrer\" target=\"_blank\">BibTeX</a>&nbsp;&nbsp;&nbsp;&nbsp; <a href=\"https://api.datacite.org/application/x-research-info-systems/10.71760/ukllc-dataset-00313-02\" rel=\"noopener noreferrer\" target=\"_blank\">RIS</a></td>\n",
       "    </tr>\n",
       "    <tr>\n",
       "      <td id=\"T_101be_row3_col0\" class=\"data row3 col0\" >Series</td>\n",
       "      <td id=\"T_101be_row3_col1\" class=\"data row3 col1\" > <a href=\"https://guidebook.ukllc.ac.uk/docs/lps_data/lps%20profiles/TEDS\">Twins Early Development Study (TEDS)</a></td>\n",
       "    </tr>\n",
       "    <tr>\n",
       "      <td id=\"T_101be_row4_col0\" class=\"data row4 col0\" >Owner</td>\n",
       "      <td id=\"T_101be_row4_col1\" class=\"data row4 col1\" >King's College London</td>\n",
       "    </tr>\n",
       "    <tr>\n",
       "      <td id=\"T_101be_row5_col0\" class=\"data row5 col0\" >Temporal Coverage</td>\n",
       "      <td id=\"T_101be_row5_col1\" class=\"data row5 col1\" >06/2020 - 07/2020</td>\n",
       "    </tr>\n",
       "    <tr>\n",
       "      <td id=\"T_101be_row6_col0\" class=\"data row6 col0\" >Keywords</td>\n",
       "      <td id=\"T_101be_row6_col1\" class=\"data row6 col1\" ></td>\n",
       "    </tr>\n",
       "    <tr>\n",
       "      <td id=\"T_101be_row7_col0\" class=\"data row7 col0\" >Participants Invited</td>\n",
       "      <td id=\"T_101be_row7_col1\" class=\"data row7 col1\" >8394</td>\n",
       "    </tr>\n",
       "    <tr>\n",
       "      <td id=\"T_101be_row8_col0\" class=\"data row8 col0\" >Participant Count</td>\n",
       "      <td id=\"T_101be_row8_col1\" class=\"data row8 col1\" >3706</td>\n",
       "    </tr>\n",
       "    <tr>\n",
       "      <td id=\"T_101be_row9_col0\" class=\"data row9 col0\" >Number of variables</td>\n",
       "      <td id=\"T_101be_row9_col1\" class=\"data row9 col1\" >233</td>\n",
       "    </tr>\n",
       "    <tr>\n",
       "      <td id=\"T_101be_row10_col0\" class=\"data row10 col0\" >Number of observations</td>\n",
       "      <td id=\"T_101be_row10_col1\" class=\"data row10 col1\" >3708</td>\n",
       "    </tr>\n",
       "    <tr>\n",
       "      <td id=\"T_101be_row11_col0\" class=\"data row11 col0\" >Specific Restrictions to Data Use</td>\n",
       "      <td id=\"T_101be_row11_col1\" class=\"data row11 col1\" >None</td>\n",
       "    </tr>\n",
       "    <tr>\n",
       "      <td id=\"T_101be_row12_col0\" class=\"data row12 col0\" >Build a Data Request</td>\n",
       "      <td id=\"T_101be_row12_col1\" class=\"data row12 col1\" > <a href=\"https://explore.ukllc.ac.uk/\" rel=\"noopener noreferrer\" target=\"_blank\">https://explore.ukllc.ac.uk/</a></td>\n",
       "    </tr>\n",
       "  </tbody>\n",
       "</table>\n"
      ],
      "text/plain": [
       "<pandas.io.formats.style.Styler at 0x1aea5c01430>"
      ]
     },
     "execution_count": 3,
     "metadata": {},
     "output_type": "execute_result"
    }
   ],
   "source": [
    "ds.info_table()"
   ]
  },
  {
   "cell_type": "markdown",
   "id": "ed963b21",
   "metadata": {},
   "source": [
    "## 2. Version History"
   ]
  },
  {
   "cell_type": "code",
   "execution_count": 4,
   "id": "bb5938f1",
   "metadata": {
    "execution": {
     "iopub.execute_input": "2025-07-28T20:30:35.870046Z",
     "iopub.status.busy": "2025-07-28T20:30:35.869048Z",
     "iopub.status.idle": "2025-07-28T20:30:40.524941Z",
     "shell.execute_reply": "2025-07-28T20:30:40.523935Z"
    },
    "tags": [
     "remove-input"
    ]
   },
   "outputs": [
    {
     "data": {
      "text/html": [
       "<style type=\"text/css\">\n",
       "#T_cb371 th {\n",
       "  text-align: left;\n",
       "}\n",
       "#T_cb371_row0_col0, #T_cb371_row0_col1, #T_cb371_row0_col2, #T_cb371_row1_col0, #T_cb371_row1_col1, #T_cb371_row1_col2, #T_cb371_row2_col0, #T_cb371_row2_col1, #T_cb371_row2_col2, #T_cb371_row3_col0, #T_cb371_row3_col1, #T_cb371_row3_col2, #T_cb371_row4_col0, #T_cb371_row4_col1, #T_cb371_row4_col2 {\n",
       "  text-align: left;\n",
       "}\n",
       "</style>\n",
       "<table id=\"T_cb371\" style=\"font-size: 14px\">\n",
       "  <thead>\n",
       "    <tr>\n",
       "      <th id=\"T_cb371_level0_col0\" class=\"col_heading level0 col0\" >Version</th>\n",
       "      <th id=\"T_cb371_level0_col1\" class=\"col_heading level0 col1\" >1</th>\n",
       "      <th id=\"T_cb371_level0_col2\" class=\"col_heading level0 col2\" >2</th>\n",
       "    </tr>\n",
       "  </thead>\n",
       "  <tbody>\n",
       "    <tr>\n",
       "      <td id=\"T_cb371_row0_col0\" class=\"data row0 col0\" >Version Date</td>\n",
       "      <td id=\"T_cb371_row0_col1\" class=\"data row0 col1\" >17 Sep 2024</td>\n",
       "      <td id=\"T_cb371_row0_col2\" class=\"data row0 col2\" >06 Feb 2025</td>\n",
       "    </tr>\n",
       "    <tr>\n",
       "      <td id=\"T_cb371_row1_col0\" class=\"data row1 col0\" >Number of Variables</td>\n",
       "      <td id=\"T_cb371_row1_col1\" class=\"data row1 col1\" >233</td>\n",
       "      <td id=\"T_cb371_row1_col2\" class=\"data row1 col2\" >233</td>\n",
       "    </tr>\n",
       "    <tr>\n",
       "      <td id=\"T_cb371_row2_col0\" class=\"data row2 col0\" >Number of Observations</td>\n",
       "      <td id=\"T_cb371_row2_col1\" class=\"data row2 col1\" >3706</td>\n",
       "      <td id=\"T_cb371_row2_col2\" class=\"data row2 col2\" >3708</td>\n",
       "    </tr>\n",
       "    <tr>\n",
       "      <td id=\"T_cb371_row3_col0\" class=\"data row3 col0\" >DOI</td>\n",
       "      <td id=\"T_cb371_row3_col1\" class=\"data row3 col1\" > <a href=\"https://doi.org/10.71760/ukllc-dataset-00313-01\" rel=\"noopener noreferrer\" target=\"_blank\">10.71760/ukllc-dataset-00313-01</a></td>\n",
       "      <td id=\"T_cb371_row3_col2\" class=\"data row3 col2\" > <a href=\"https://doi.org/10.71760/ukllc-dataset-00313-02\" rel=\"noopener noreferrer\" target=\"_blank\">10.71760/ukllc-dataset-00313-02</a></td>\n",
       "    </tr>\n",
       "    <tr>\n",
       "      <td id=\"T_cb371_row4_col0\" class=\"data row4 col0\" >Change Log</td>\n",
       "      <td id=\"T_cb371_row4_col1\" class=\"data row4 col1\" > <a href=\"https://api.test.datacite.org/dois/10.71760/ukllc-dataset-00313-01/activities\" rel=\"noopener noreferrer\" target=\"_blank\">10.71760/ukllc-dataset-00313-01/activities</a></td>\n",
       "      <td id=\"T_cb371_row4_col2\" class=\"data row4 col2\" > <a href=\"https://api.test.datacite.org/dois/10.71760/ukllc-dataset-00313-02/activities\" rel=\"noopener noreferrer\" target=\"_blank\">10.71760/ukllc-dataset-00313-02/activities</a></td>\n",
       "    </tr>\n",
       "  </tbody>\n",
       "</table>\n"
      ],
      "text/plain": [
       "<pandas.io.formats.style.Styler at 0x1aea74962d0>"
      ]
     },
     "execution_count": 4,
     "metadata": {},
     "output_type": "execute_result"
    }
   ],
   "source": [
    "ds.version_history()"
   ]
  },
  {
   "cell_type": "markdown",
   "id": "8a380ff1",
   "metadata": {},
   "source": [
    "## 3. Documentation"
   ]
  },
  {
   "cell_type": "code",
   "execution_count": 5,
   "id": "07ac9a5a",
   "metadata": {
    "execution": {
     "iopub.execute_input": "2025-07-28T20:30:40.530952Z",
     "iopub.status.busy": "2025-07-28T20:30:40.529954Z",
     "iopub.status.idle": "2025-07-28T20:30:40.551963Z",
     "shell.execute_reply": "2025-07-28T20:30:40.547325Z"
    },
    "tags": [
     "remove-input"
    ]
   },
   "outputs": [
    {
     "data": {
      "text/markdown": [
       "We are currently building a documentation storage system which will host useful documents related to datasets and data owners. We will surface these documents on Guidebook."
      ],
      "text/plain": [
       "<IPython.core.display.Markdown object>"
      ]
     },
     "metadata": {},
     "output_type": "display_data"
    }
   ],
   "source": [
    "ds.documentation()"
   ]
  },
  {
   "cell_type": "markdown",
   "id": "b230f990",
   "metadata": {},
   "source": [
    "## 4. Useful Syntax"
   ]
  },
  {
   "cell_type": "code",
   "execution_count": 6,
   "id": "3f78f942",
   "metadata": {
    "execution": {
     "iopub.execute_input": "2025-07-28T20:30:40.559937Z",
     "iopub.status.busy": "2025-07-28T20:30:40.557933Z",
     "iopub.status.idle": "2025-07-28T20:30:40.580172Z",
     "shell.execute_reply": "2025-07-28T20:30:40.578150Z"
    },
    "tags": [
     "remove-input"
    ]
   },
   "outputs": [
    {
     "data": {
      "text/markdown": [
       "Below we will include syntax that may be helpful to other researchers in the UK LLC TRE. For longer scripts, we will include a snippet of the code plus a link to Git where you can find the full scripts."
      ],
      "text/plain": [
       "<IPython.core.display.Markdown object>"
      ]
     },
     "metadata": {},
     "output_type": "display_data"
    }
   ],
   "source": [
    "ds.useful_syntax()"
   ]
  }
 ],
 "metadata": {
  "language_info": {
   "codemirror_mode": {
    "name": "ipython",
    "version": 3
   },
   "file_extension": ".py",
   "mimetype": "text/x-python",
   "name": "python",
   "nbconvert_exporter": "python",
   "pygments_lexer": "ipython3",
   "version": "3.12.7"
  }
 },
 "nbformat": 4,
 "nbformat_minor": 5
}
