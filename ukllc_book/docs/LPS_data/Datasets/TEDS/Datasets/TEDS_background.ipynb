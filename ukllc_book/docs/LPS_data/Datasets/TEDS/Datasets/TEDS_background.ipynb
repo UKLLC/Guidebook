{
 "cells": [
  {
   "cell_type": "markdown",
   "id": "a8677299",
   "metadata": {},
   "source": [
    "# TEDS Background (TEDS)"
   ]
  },
  {
   "cell_type": "code",
   "execution_count": 1,
   "id": "cd52da0b",
   "metadata": {
    "execution": {
     "iopub.execute_input": "2025-07-18T10:34:20.619058Z",
     "iopub.status.busy": "2025-07-18T10:34:20.619058Z",
     "iopub.status.idle": "2025-07-18T10:34:26.997560Z",
     "shell.execute_reply": "2025-07-18T10:34:26.995833Z"
    },
    "tags": [
     "remove-input"
    ]
   },
   "outputs": [
    {
     "data": {
      "text/markdown": [
       ">Last modified: 18 Jul 2025"
      ],
      "text/plain": [
       "<IPython.core.display.Markdown object>"
      ]
     },
     "metadata": {},
     "output_type": "display_data"
    }
   ],
   "source": [
    "\n",
    "import sys\n",
    "import os\n",
    "sys.path.append(os.path.abspath('../../../../scripts/'))\n",
    "from data_doc_helper import LPSDataSet as DS, last_modified\n",
    "API_KEY = os.environ['FASTAPI_KEY']\n",
    "ds = DS(\"TEDS\", \"TEDS_background\")\n",
    "last_modified()\n"
   ]
  },
  {
   "cell_type": "markdown",
   "id": "a6fb6197",
   "metadata": {},
   "source": [
    "## 1. Summary"
   ]
  },
  {
   "cell_type": "code",
   "execution_count": 2,
   "id": "6b7c877e",
   "metadata": {
    "execution": {
     "iopub.execute_input": "2025-07-18T10:34:27.002572Z",
     "iopub.status.busy": "2025-07-18T10:34:27.001572Z",
     "iopub.status.idle": "2025-07-18T10:34:27.013719Z",
     "shell.execute_reply": "2025-07-18T10:34:27.011571Z"
    },
    "tags": [
     "remove-input"
    ]
   },
   "outputs": [
    {
     "data": {
      "text/markdown": [
       "All participating parents in TEDS were sent a baseline \"1st Contact\" questionnaire, when their twins were aged around 1.5 years. The questionnaire contained questions about a range of topics including family demographics, twin physical health and twin zygosity. The questionnaire was sent and returned by post. This dataset contains a small subset of variables from this baseline questionnaire. The dataset also contains background variables from assessments at later dates, such as zygosities and genotypic covariates derived from DNA. It is recommended that this dataset is used alongside all other TEDS datasets."
      ],
      "text/plain": [
       "<IPython.core.display.Markdown object>"
      ]
     },
     "metadata": {},
     "output_type": "display_data"
    }
   ],
   "source": [
    "ds.summary()"
   ]
  },
  {
   "cell_type": "code",
   "execution_count": 3,
   "id": "bb0d6bf1",
   "metadata": {
    "execution": {
     "iopub.execute_input": "2025-07-18T10:34:27.019718Z",
     "iopub.status.busy": "2025-07-18T10:34:27.019718Z",
     "iopub.status.idle": "2025-07-18T10:34:29.342196Z",
     "shell.execute_reply": "2025-07-18T10:34:29.339944Z"
    },
    "tags": [
     "remove-input"
    ]
   },
   "outputs": [
    {
     "data": {
      "text/html": [
       "<style type=\"text/css\">\n",
       "#T_ab795 th {\n",
       "  text-align: left;\n",
       "}\n",
       "#T_ab795_row0_col0, #T_ab795_row0_col1, #T_ab795_row1_col0, #T_ab795_row1_col1, #T_ab795_row2_col0, #T_ab795_row2_col1, #T_ab795_row3_col0, #T_ab795_row3_col1, #T_ab795_row4_col0, #T_ab795_row4_col1, #T_ab795_row5_col0, #T_ab795_row5_col1, #T_ab795_row6_col0, #T_ab795_row6_col1, #T_ab795_row7_col0, #T_ab795_row7_col1, #T_ab795_row8_col0, #T_ab795_row8_col1, #T_ab795_row9_col0, #T_ab795_row9_col1, #T_ab795_row10_col0, #T_ab795_row10_col1, #T_ab795_row11_col0, #T_ab795_row11_col1, #T_ab795_row12_col0, #T_ab795_row12_col1 {\n",
       "  text-align: left;\n",
       "}\n",
       "</style>\n",
       "<table id=\"T_ab795\" style=\"font-size: 14px\">\n",
       "  <thead>\n",
       "    <tr>\n",
       "      <th id=\"T_ab795_level0_col0\" class=\"col_heading level0 col0\" >Dataset Descriptor</th>\n",
       "      <th id=\"T_ab795_level0_col1\" class=\"col_heading level0 col1\" >Dataset-specific Information</th>\n",
       "    </tr>\n",
       "  </thead>\n",
       "  <tbody>\n",
       "    <tr>\n",
       "      <td id=\"T_ab795_row0_col0\" class=\"data row0 col0\" >Name of Dataset in TRE</td>\n",
       "      <td id=\"T_ab795_row0_col1\" class=\"data row0 col1\" >TEDS_TEDS_background</td>\n",
       "    </tr>\n",
       "    <tr>\n",
       "      <td id=\"T_ab795_row1_col0\" class=\"data row1 col0\" >Citation (APA)</td>\n",
       "      <td id=\"T_ab795_row1_col1\" class=\"data row1 col1\" >King's College London, Institute of Psychiatry, Psychology & Neuroscience, Social, Genetic & Developmental Psychiatry Centre. (2024). <i>Twins Early Development Study (TEDS): TEDS Background.</i> UK Longitudinal Linkage Collaboration (UK LLC).  <a href=\"https://doi.org/10.83126/ukllc-dataset-00388-01\" rel=\"noopener noreferrer\" target=\"_blank\">https://doi.org/10.83126/ukllc-dataset-00388-01</a></td>\n",
       "    </tr>\n",
       "    <tr>\n",
       "      <td id=\"T_ab795_row2_col0\" class=\"data row2 col0\" >Download Citation</td>\n",
       "      <td id=\"T_ab795_row2_col1\" class=\"data row2 col1\" > <a href=\"https://api.test.datacite.org/application/vnd.citationstyles.csl+json/10.83126/ukllc-dataset-00388-01\" rel=\"noopener noreferrer\" target=\"_blank\">Citeproc JSON</a>&nbsp;&nbsp;&nbsp;&nbsp; <a href=\"https://api.test.datacite.org/application/x-bibtex/10.83126/ukllc-dataset-00388-01\" rel=\"noopener noreferrer\" target=\"_blank\">BibTeX</a>&nbsp;&nbsp;&nbsp;&nbsp; <a href=\"https://api.test.datacite.org/application/x-research-info-systems/10.83126/ukllc-dataset-00388-01\" rel=\"noopener noreferrer\" target=\"_blank\">RIS</a></td>\n",
       "    </tr>\n",
       "    <tr>\n",
       "      <td id=\"T_ab795_row3_col0\" class=\"data row3 col0\" >Series</td>\n",
       "      <td id=\"T_ab795_row3_col1\" class=\"data row3 col1\" > <a href=\"https://guidebook.ukllc.ac.uk/docs/lps/lps%20profiles/TEDS\">Twins Early Development Study (TEDS)</a></td>\n",
       "    </tr>\n",
       "    <tr>\n",
       "      <td id=\"T_ab795_row4_col0\" class=\"data row4 col0\" >Owner</td>\n",
       "      <td id=\"T_ab795_row4_col1\" class=\"data row4 col1\" >King's College London</td>\n",
       "    </tr>\n",
       "    <tr>\n",
       "      <td id=\"T_ab795_row5_col0\" class=\"data row5 col0\" >Temporal Coverage</td>\n",
       "      <td id=\"T_ab795_row5_col1\" class=\"data row5 col1\" >01/1995 - 11/2005</td>\n",
       "    </tr>\n",
       "    <tr>\n",
       "      <td id=\"T_ab795_row6_col0\" class=\"data row6 col0\" >Keywords</td>\n",
       "      <td id=\"T_ab795_row6_col1\" class=\"data row6 col1\" ></td>\n",
       "    </tr>\n",
       "    <tr>\n",
       "      <td id=\"T_ab795_row7_col0\" class=\"data row7 col0\" >Participants Invited</td>\n",
       "      <td id=\"T_ab795_row7_col1\" class=\"data row7 col1\" >32606</td>\n",
       "    </tr>\n",
       "    <tr>\n",
       "      <td id=\"T_ab795_row8_col0\" class=\"data row8 col0\" >Participant Count</td>\n",
       "      <td id=\"T_ab795_row8_col1\" class=\"data row8 col1\" >10845</td>\n",
       "    </tr>\n",
       "    <tr>\n",
       "      <td id=\"T_ab795_row9_col0\" class=\"data row9 col0\" >Number of variables</td>\n",
       "      <td id=\"T_ab795_row9_col1\" class=\"data row9 col1\" >47</td>\n",
       "    </tr>\n",
       "    <tr>\n",
       "      <td id=\"T_ab795_row10_col0\" class=\"data row10 col0\" >Number of observations</td>\n",
       "      <td id=\"T_ab795_row10_col1\" class=\"data row10 col1\" >10845</td>\n",
       "    </tr>\n",
       "    <tr>\n",
       "      <td id=\"T_ab795_row11_col0\" class=\"data row11 col0\" >Specific Restrictions to Data Use</td>\n",
       "      <td id=\"T_ab795_row11_col1\" class=\"data row11 col1\" >None</td>\n",
       "    </tr>\n",
       "    <tr>\n",
       "      <td id=\"T_ab795_row12_col0\" class=\"data row12 col0\" >Build a Data Request</td>\n",
       "      <td id=\"T_ab795_row12_col1\" class=\"data row12 col1\" > <a href=\"https://explore.ukllc.ac.uk/\" rel=\"noopener noreferrer\" target=\"_blank\">https://explore.ukllc.ac.uk/</a></td>\n",
       "    </tr>\n",
       "  </tbody>\n",
       "</table>\n"
      ],
      "text/plain": [
       "<pandas.io.formats.style.Styler at 0x2043a59bb90>"
      ]
     },
     "execution_count": 3,
     "metadata": {},
     "output_type": "execute_result"
    }
   ],
   "source": [
    "ds.info_table()"
   ]
  },
  {
   "cell_type": "markdown",
   "id": "1ff807d4",
   "metadata": {},
   "source": [
    "## 2. Version History"
   ]
  },
  {
   "cell_type": "code",
   "execution_count": 4,
   "id": "c10310b4",
   "metadata": {
    "execution": {
     "iopub.execute_input": "2025-07-18T10:34:29.349196Z",
     "iopub.status.busy": "2025-07-18T10:34:29.349196Z",
     "iopub.status.idle": "2025-07-18T10:34:32.285867Z",
     "shell.execute_reply": "2025-07-18T10:34:32.285358Z"
    },
    "tags": [
     "remove-input"
    ]
   },
   "outputs": [
    {
     "data": {
      "text/html": [
       "<style type=\"text/css\">\n",
       "#T_b32f2 th {\n",
       "  text-align: left;\n",
       "}\n",
       "#T_b32f2_row0_col0, #T_b32f2_row0_col1, #T_b32f2_row1_col0, #T_b32f2_row1_col1, #T_b32f2_row2_col0, #T_b32f2_row2_col1, #T_b32f2_row3_col0, #T_b32f2_row3_col1, #T_b32f2_row4_col0, #T_b32f2_row4_col1 {\n",
       "  text-align: left;\n",
       "}\n",
       "</style>\n",
       "<table id=\"T_b32f2\" style=\"font-size: 14px\">\n",
       "  <thead>\n",
       "    <tr>\n",
       "      <th id=\"T_b32f2_level0_col0\" class=\"col_heading level0 col0\" >Version</th>\n",
       "      <th id=\"T_b32f2_level0_col1\" class=\"col_heading level0 col1\" >1</th>\n",
       "    </tr>\n",
       "  </thead>\n",
       "  <tbody>\n",
       "    <tr>\n",
       "      <td id=\"T_b32f2_row0_col0\" class=\"data row0 col0\" >Version Date</td>\n",
       "      <td id=\"T_b32f2_row0_col1\" class=\"data row0 col1\" >07 Jun 2024</td>\n",
       "    </tr>\n",
       "    <tr>\n",
       "      <td id=\"T_b32f2_row1_col0\" class=\"data row1 col0\" >Number of Variables</td>\n",
       "      <td id=\"T_b32f2_row1_col1\" class=\"data row1 col1\" >47</td>\n",
       "    </tr>\n",
       "    <tr>\n",
       "      <td id=\"T_b32f2_row2_col0\" class=\"data row2 col0\" >Number of Observations</td>\n",
       "      <td id=\"T_b32f2_row2_col1\" class=\"data row2 col1\" >10845</td>\n",
       "    </tr>\n",
       "    <tr>\n",
       "      <td id=\"T_b32f2_row3_col0\" class=\"data row3 col0\" >DOI</td>\n",
       "      <td id=\"T_b32f2_row3_col1\" class=\"data row3 col1\" > <a href=\"https://doi.org/10.83126/ukllc-dataset-00388-01\" rel=\"noopener noreferrer\" target=\"_blank\">10.83126/ukllc-dataset-00388-01</a></td>\n",
       "    </tr>\n",
       "    <tr>\n",
       "      <td id=\"T_b32f2_row4_col0\" class=\"data row4 col0\" >Change Log</td>\n",
       "      <td id=\"T_b32f2_row4_col1\" class=\"data row4 col1\" > <a href=\"https://api.test.datacite.org/dois/10.83126/ukllc-dataset-00388-01/activities\" rel=\"noopener noreferrer\" target=\"_blank\">10.83126/ukllc-dataset-00388-01/activities</a></td>\n",
       "    </tr>\n",
       "  </tbody>\n",
       "</table>\n"
      ],
      "text/plain": [
       "<pandas.io.formats.style.Styler at 0x2043e58c560>"
      ]
     },
     "execution_count": 4,
     "metadata": {},
     "output_type": "execute_result"
    }
   ],
   "source": [
    "ds.version_history()"
   ]
  },
  {
   "cell_type": "markdown",
   "id": "06e67651",
   "metadata": {},
   "source": [
    "## 3. Documentation"
   ]
  },
  {
   "cell_type": "code",
   "execution_count": 5,
   "id": "874dbcb8",
   "metadata": {
    "execution": {
     "iopub.execute_input": "2025-07-18T10:34:32.290880Z",
     "iopub.status.busy": "2025-07-18T10:34:32.290880Z",
     "iopub.status.idle": "2025-07-18T10:34:32.298818Z",
     "shell.execute_reply": "2025-07-18T10:34:32.297811Z"
    },
    "tags": [
     "remove-input"
    ]
   },
   "outputs": [
    {
     "data": {
      "text/markdown": [
       "We are currently building a documentation storage system which will host useful documents related to datasets and data owners. We will surface these documents on Guidebook."
      ],
      "text/plain": [
       "<IPython.core.display.Markdown object>"
      ]
     },
     "metadata": {},
     "output_type": "display_data"
    }
   ],
   "source": [
    "ds.documentation()"
   ]
  },
  {
   "cell_type": "markdown",
   "id": "f81995bf",
   "metadata": {},
   "source": [
    "## 4. Useful Syntax"
   ]
  },
  {
   "cell_type": "code",
   "execution_count": 6,
   "id": "5da50e78",
   "metadata": {
    "execution": {
     "iopub.execute_input": "2025-07-18T10:34:32.303682Z",
     "iopub.status.busy": "2025-07-18T10:34:32.303682Z",
     "iopub.status.idle": "2025-07-18T10:34:32.312592Z",
     "shell.execute_reply": "2025-07-18T10:34:32.311585Z"
    },
    "tags": [
     "remove-input"
    ]
   },
   "outputs": [
    {
     "data": {
      "text/markdown": [
       "Below we will include syntax that may be helpful to other researchers in the UK LLC TRE. For longer scripts, we will include a snippet of the code plus a link to Git where you can find the full scripts."
      ],
      "text/plain": [
       "<IPython.core.display.Markdown object>"
      ]
     },
     "metadata": {},
     "output_type": "display_data"
    }
   ],
   "source": [
    "ds.useful_syntax()"
   ]
  }
 ],
 "metadata": {
  "language_info": {
   "codemirror_mode": {
    "name": "ipython",
    "version": 3
   },
   "file_extension": ".py",
   "mimetype": "text/x-python",
   "name": "python",
   "nbconvert_exporter": "python",
   "pygments_lexer": "ipython3",
   "version": "3.12.7"
  }
 },
 "nbformat": 4,
 "nbformat_minor": 5
}
