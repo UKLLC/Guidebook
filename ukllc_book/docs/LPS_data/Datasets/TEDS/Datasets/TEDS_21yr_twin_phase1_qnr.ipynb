{
 "cells": [
  {
   "cell_type": "markdown",
   "id": "d9d5a299",
   "metadata": {},
   "source": [
    "# Teds 21 Year Twin Phase 1 Questionnaire (TEDS)"
   ]
  },
  {
   "cell_type": "code",
   "execution_count": 1,
   "id": "ed0123b5",
   "metadata": {
    "execution": {
     "iopub.execute_input": "2025-07-28T20:31:38.968093Z",
     "iopub.status.busy": "2025-07-28T20:31:38.968093Z",
     "iopub.status.idle": "2025-07-28T20:31:51.404290Z",
     "shell.execute_reply": "2025-07-28T20:31:51.402244Z"
    },
    "tags": [
     "remove-input"
    ]
   },
   "outputs": [
    {
     "data": {
      "text/markdown": [
       ">Last modified: 28 Jul 2025"
      ],
      "text/plain": [
       "<IPython.core.display.Markdown object>"
      ]
     },
     "metadata": {},
     "output_type": "display_data"
    }
   ],
   "source": [
    "\n",
    "import sys\n",
    "import os\n",
    "sys.path.append(os.path.abspath('../../../../scripts/'))\n",
    "from data_doc_helper import LPSDataSet as DS, last_modified\n",
    "API_KEY = os.environ['FASTAPI_KEY']\n",
    "ds = DS(\"TEDS\", \"TEDS_21yr_twin_phase1_qnr\")\n",
    "last_modified()\n"
   ]
  },
  {
   "cell_type": "markdown",
   "id": "f05651af",
   "metadata": {},
   "source": [
    "## 1. Summary"
   ]
  },
  {
   "cell_type": "code",
   "execution_count": 2,
   "id": "b39b990e",
   "metadata": {
    "execution": {
     "iopub.execute_input": "2025-07-28T20:31:51.414277Z",
     "iopub.status.busy": "2025-07-28T20:31:51.412295Z",
     "iopub.status.idle": "2025-07-28T20:31:51.427246Z",
     "shell.execute_reply": "2025-07-28T20:31:51.425177Z"
    },
    "tags": [
     "remove-input"
    ]
   },
   "outputs": [
    {
     "data": {
      "text/markdown": [
       "All contactable participating twins in TEDS were asked to complete this questionnaire, either online or on paper. The questionnaire length was around 45 minutes on average. The questions covered a wide range of themes including mental health traits, emerging adulthood, physical health, personality traits and sociodemographics."
      ],
      "text/plain": [
       "<IPython.core.display.Markdown object>"
      ]
     },
     "metadata": {},
     "output_type": "display_data"
    }
   ],
   "source": [
    "ds.summary()"
   ]
  },
  {
   "cell_type": "code",
   "execution_count": 3,
   "id": "3ff8781a",
   "metadata": {
    "execution": {
     "iopub.execute_input": "2025-07-28T20:31:51.434201Z",
     "iopub.status.busy": "2025-07-28T20:31:51.434201Z",
     "iopub.status.idle": "2025-07-28T20:31:53.683853Z",
     "shell.execute_reply": "2025-07-28T20:31:53.682320Z"
    },
    "tags": [
     "remove-input"
    ]
   },
   "outputs": [
    {
     "data": {
      "text/html": [
       "<style type=\"text/css\">\n",
       "#T_a2435 th {\n",
       "  text-align: left;\n",
       "}\n",
       "#T_a2435_row0_col0, #T_a2435_row0_col1, #T_a2435_row1_col0, #T_a2435_row1_col1, #T_a2435_row2_col0, #T_a2435_row2_col1, #T_a2435_row3_col0, #T_a2435_row3_col1, #T_a2435_row4_col0, #T_a2435_row4_col1, #T_a2435_row5_col0, #T_a2435_row5_col1, #T_a2435_row6_col0, #T_a2435_row6_col1, #T_a2435_row7_col0, #T_a2435_row7_col1, #T_a2435_row8_col0, #T_a2435_row8_col1, #T_a2435_row9_col0, #T_a2435_row9_col1, #T_a2435_row10_col0, #T_a2435_row10_col1, #T_a2435_row11_col0, #T_a2435_row11_col1, #T_a2435_row12_col0, #T_a2435_row12_col1 {\n",
       "  text-align: left;\n",
       "}\n",
       "</style>\n",
       "<table id=\"T_a2435\" style=\"font-size: 14px\">\n",
       "  <thead>\n",
       "    <tr>\n",
       "      <th id=\"T_a2435_level0_col0\" class=\"col_heading level0 col0\" >Dataset Descriptor</th>\n",
       "      <th id=\"T_a2435_level0_col1\" class=\"col_heading level0 col1\" >Dataset-specific Information</th>\n",
       "    </tr>\n",
       "  </thead>\n",
       "  <tbody>\n",
       "    <tr>\n",
       "      <td id=\"T_a2435_row0_col0\" class=\"data row0 col0\" >Name of Dataset in TRE</td>\n",
       "      <td id=\"T_a2435_row0_col1\" class=\"data row0 col1\" >TEDS_TEDS_21yr_twin_phase1_qnr</td>\n",
       "    </tr>\n",
       "    <tr>\n",
       "      <td id=\"T_a2435_row1_col0\" class=\"data row1 col0\" >Citation (APA)</td>\n",
       "      <td id=\"T_a2435_row1_col1\" class=\"data row1 col1\" >King's College London, Institute of Psychiatry, Psychology & Neuroscience, Social, Genetic & Developmental Psychiatry Centre. (2025). <i>Twins Early Development Study (TEDS): Teds 21 Year Twin Phase 1 Questionnaire.</i> UK Longitudinal Linkage Collaboration (UK LLC).  <a href=\"https://doi.org/10.71760/ukllc-dataset-00316-02\" rel=\"noopener noreferrer\" target=\"_blank\">https://doi.org/10.71760/ukllc-dataset-00316-02</a></td>\n",
       "    </tr>\n",
       "    <tr>\n",
       "      <td id=\"T_a2435_row2_col0\" class=\"data row2 col0\" >Download Citation</td>\n",
       "      <td id=\"T_a2435_row2_col1\" class=\"data row2 col1\" > <a href=\"https://api.datacite.org/application/vnd.citationstyles.csl+json/10.71760/ukllc-dataset-00316-02\" rel=\"noopener noreferrer\" target=\"_blank\">Citeproc JSON</a>&nbsp;&nbsp;&nbsp;&nbsp; <a href=\"https://api.datacite.org/application/x-bibtex/10.71760/ukllc-dataset-00316-02\" rel=\"noopener noreferrer\" target=\"_blank\">BibTeX</a>&nbsp;&nbsp;&nbsp;&nbsp; <a href=\"https://api.datacite.org/application/x-research-info-systems/10.71760/ukllc-dataset-00316-02\" rel=\"noopener noreferrer\" target=\"_blank\">RIS</a></td>\n",
       "    </tr>\n",
       "    <tr>\n",
       "      <td id=\"T_a2435_row3_col0\" class=\"data row3 col0\" >Series</td>\n",
       "      <td id=\"T_a2435_row3_col1\" class=\"data row3 col1\" > <a href=\"https://guidebook.ukllc.ac.uk/docs/lps_data/lps%20profiles/TEDS\">Twins Early Development Study (TEDS)</a></td>\n",
       "    </tr>\n",
       "    <tr>\n",
       "      <td id=\"T_a2435_row4_col0\" class=\"data row4 col0\" >Owner</td>\n",
       "      <td id=\"T_a2435_row4_col1\" class=\"data row4 col1\" >King's College London</td>\n",
       "    </tr>\n",
       "    <tr>\n",
       "      <td id=\"T_a2435_row5_col0\" class=\"data row5 col0\" >Temporal Coverage</td>\n",
       "      <td id=\"T_a2435_row5_col1\" class=\"data row5 col1\" >06/2017 - 02/2019</td>\n",
       "    </tr>\n",
       "    <tr>\n",
       "      <td id=\"T_a2435_row6_col0\" class=\"data row6 col0\" >Keywords</td>\n",
       "      <td id=\"T_a2435_row6_col1\" class=\"data row6 col1\" ></td>\n",
       "    </tr>\n",
       "    <tr>\n",
       "      <td id=\"T_a2435_row7_col0\" class=\"data row7 col0\" >Participants Invited</td>\n",
       "      <td id=\"T_a2435_row7_col1\" class=\"data row7 col1\" >20986</td>\n",
       "    </tr>\n",
       "    <tr>\n",
       "      <td id=\"T_a2435_row8_col0\" class=\"data row8 col0\" >Participant Count</td>\n",
       "      <td id=\"T_a2435_row8_col1\" class=\"data row8 col1\" >8757</td>\n",
       "    </tr>\n",
       "    <tr>\n",
       "      <td id=\"T_a2435_row9_col0\" class=\"data row9 col0\" >Number of variables</td>\n",
       "      <td id=\"T_a2435_row9_col1\" class=\"data row9 col1\" >463</td>\n",
       "    </tr>\n",
       "    <tr>\n",
       "      <td id=\"T_a2435_row10_col0\" class=\"data row10 col0\" >Number of observations</td>\n",
       "      <td id=\"T_a2435_row10_col1\" class=\"data row10 col1\" >8793</td>\n",
       "    </tr>\n",
       "    <tr>\n",
       "      <td id=\"T_a2435_row11_col0\" class=\"data row11 col0\" >Specific Restrictions to Data Use</td>\n",
       "      <td id=\"T_a2435_row11_col1\" class=\"data row11 col1\" >None</td>\n",
       "    </tr>\n",
       "    <tr>\n",
       "      <td id=\"T_a2435_row12_col0\" class=\"data row12 col0\" >Build a Data Request</td>\n",
       "      <td id=\"T_a2435_row12_col1\" class=\"data row12 col1\" > <a href=\"https://explore.ukllc.ac.uk/\" rel=\"noopener noreferrer\" target=\"_blank\">https://explore.ukllc.ac.uk/</a></td>\n",
       "    </tr>\n",
       "  </tbody>\n",
       "</table>\n"
      ],
      "text/plain": [
       "<pandas.io.formats.style.Styler at 0x2633b57ec90>"
      ]
     },
     "execution_count": 3,
     "metadata": {},
     "output_type": "execute_result"
    }
   ],
   "source": [
    "ds.info_table()"
   ]
  },
  {
   "cell_type": "markdown",
   "id": "6f97831f",
   "metadata": {},
   "source": [
    "## 2. Version History"
   ]
  },
  {
   "cell_type": "code",
   "execution_count": 4,
   "id": "3d4b698f",
   "metadata": {
    "execution": {
     "iopub.execute_input": "2025-07-28T20:31:53.693852Z",
     "iopub.status.busy": "2025-07-28T20:31:53.692854Z",
     "iopub.status.idle": "2025-07-28T20:32:00.999623Z",
     "shell.execute_reply": "2025-07-28T20:32:00.997608Z"
    },
    "tags": [
     "remove-input"
    ]
   },
   "outputs": [
    {
     "data": {
      "text/html": [
       "<style type=\"text/css\">\n",
       "#T_4cb56 th {\n",
       "  text-align: left;\n",
       "}\n",
       "#T_4cb56_row0_col0, #T_4cb56_row0_col1, #T_4cb56_row0_col2, #T_4cb56_row1_col0, #T_4cb56_row1_col1, #T_4cb56_row1_col2, #T_4cb56_row2_col0, #T_4cb56_row2_col1, #T_4cb56_row2_col2, #T_4cb56_row3_col0, #T_4cb56_row3_col1, #T_4cb56_row3_col2, #T_4cb56_row4_col0, #T_4cb56_row4_col1, #T_4cb56_row4_col2 {\n",
       "  text-align: left;\n",
       "}\n",
       "</style>\n",
       "<table id=\"T_4cb56\" style=\"font-size: 14px\">\n",
       "  <thead>\n",
       "    <tr>\n",
       "      <th id=\"T_4cb56_level0_col0\" class=\"col_heading level0 col0\" >Version</th>\n",
       "      <th id=\"T_4cb56_level0_col1\" class=\"col_heading level0 col1\" >1</th>\n",
       "      <th id=\"T_4cb56_level0_col2\" class=\"col_heading level0 col2\" >2</th>\n",
       "    </tr>\n",
       "  </thead>\n",
       "  <tbody>\n",
       "    <tr>\n",
       "      <td id=\"T_4cb56_row0_col0\" class=\"data row0 col0\" >Version Date</td>\n",
       "      <td id=\"T_4cb56_row0_col1\" class=\"data row0 col1\" >07 Jun 2024</td>\n",
       "      <td id=\"T_4cb56_row0_col2\" class=\"data row0 col2\" >06 Feb 2025</td>\n",
       "    </tr>\n",
       "    <tr>\n",
       "      <td id=\"T_4cb56_row1_col0\" class=\"data row1 col0\" >Number of Variables</td>\n",
       "      <td id=\"T_4cb56_row1_col1\" class=\"data row1 col1\" >463</td>\n",
       "      <td id=\"T_4cb56_row1_col2\" class=\"data row1 col2\" >463</td>\n",
       "    </tr>\n",
       "    <tr>\n",
       "      <td id=\"T_4cb56_row2_col0\" class=\"data row2 col0\" >Number of Observations</td>\n",
       "      <td id=\"T_4cb56_row2_col1\" class=\"data row2 col1\" >8757</td>\n",
       "      <td id=\"T_4cb56_row2_col2\" class=\"data row2 col2\" >8793</td>\n",
       "    </tr>\n",
       "    <tr>\n",
       "      <td id=\"T_4cb56_row3_col0\" class=\"data row3 col0\" >DOI</td>\n",
       "      <td id=\"T_4cb56_row3_col1\" class=\"data row3 col1\" > <a href=\"https://doi.org/10.71760/ukllc-dataset-00316-01\" rel=\"noopener noreferrer\" target=\"_blank\">10.71760/ukllc-dataset-00316-01</a></td>\n",
       "      <td id=\"T_4cb56_row3_col2\" class=\"data row3 col2\" > <a href=\"https://doi.org/10.71760/ukllc-dataset-00316-02\" rel=\"noopener noreferrer\" target=\"_blank\">10.71760/ukllc-dataset-00316-02</a></td>\n",
       "    </tr>\n",
       "    <tr>\n",
       "      <td id=\"T_4cb56_row4_col0\" class=\"data row4 col0\" >Change Log</td>\n",
       "      <td id=\"T_4cb56_row4_col1\" class=\"data row4 col1\" > <a href=\"https://api.test.datacite.org/dois/10.71760/ukllc-dataset-00316-01/activities\" rel=\"noopener noreferrer\" target=\"_blank\">10.71760/ukllc-dataset-00316-01/activities</a></td>\n",
       "      <td id=\"T_4cb56_row4_col2\" class=\"data row4 col2\" > <a href=\"https://api.test.datacite.org/dois/10.71760/ukllc-dataset-00316-02/activities\" rel=\"noopener noreferrer\" target=\"_blank\">10.71760/ukllc-dataset-00316-02/activities</a></td>\n",
       "    </tr>\n",
       "  </tbody>\n",
       "</table>\n"
      ],
      "text/plain": [
       "<pandas.io.formats.style.Styler at 0x26341288f20>"
      ]
     },
     "execution_count": 4,
     "metadata": {},
     "output_type": "execute_result"
    }
   ],
   "source": [
    "ds.version_history()"
   ]
  },
  {
   "cell_type": "markdown",
   "id": "5885a8fb",
   "metadata": {},
   "source": [
    "## 3. Documentation"
   ]
  },
  {
   "cell_type": "code",
   "execution_count": 5,
   "id": "8ee60982",
   "metadata": {
    "execution": {
     "iopub.execute_input": "2025-07-28T20:32:01.007393Z",
     "iopub.status.busy": "2025-07-28T20:32:01.007393Z",
     "iopub.status.idle": "2025-07-28T20:32:01.018982Z",
     "shell.execute_reply": "2025-07-28T20:32:01.016965Z"
    },
    "tags": [
     "remove-input"
    ]
   },
   "outputs": [
    {
     "data": {
      "text/markdown": [
       "We are currently building a documentation storage system which will host useful documents related to datasets and data owners. We will surface these documents on Guidebook."
      ],
      "text/plain": [
       "<IPython.core.display.Markdown object>"
      ]
     },
     "metadata": {},
     "output_type": "display_data"
    }
   ],
   "source": [
    "ds.documentation()"
   ]
  },
  {
   "cell_type": "markdown",
   "id": "a4dbc4fc",
   "metadata": {},
   "source": [
    "## 4. Useful Syntax"
   ]
  },
  {
   "cell_type": "code",
   "execution_count": 6,
   "id": "01a387d0",
   "metadata": {
    "execution": {
     "iopub.execute_input": "2025-07-28T20:32:01.026873Z",
     "iopub.status.busy": "2025-07-28T20:32:01.025856Z",
     "iopub.status.idle": "2025-07-28T20:32:01.037771Z",
     "shell.execute_reply": "2025-07-28T20:32:01.035872Z"
    },
    "tags": [
     "remove-input"
    ]
   },
   "outputs": [
    {
     "data": {
      "text/markdown": [
       "Below we will include syntax that may be helpful to other researchers in the UK LLC TRE. For longer scripts, we will include a snippet of the code plus a link to Git where you can find the full scripts."
      ],
      "text/plain": [
       "<IPython.core.display.Markdown object>"
      ]
     },
     "metadata": {},
     "output_type": "display_data"
    }
   ],
   "source": [
    "ds.useful_syntax()"
   ]
  }
 ],
 "metadata": {
  "language_info": {
   "codemirror_mode": {
    "name": "ipython",
    "version": 3
   },
   "file_extension": ".py",
   "mimetype": "text/x-python",
   "name": "python",
   "nbconvert_exporter": "python",
   "pygments_lexer": "ipython3",
   "version": "3.12.7"
  }
 },
 "nbformat": 4,
 "nbformat_minor": 5
}
