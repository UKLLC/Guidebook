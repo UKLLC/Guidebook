{
 "cells": [
  {
   "cell_type": "markdown",
   "id": "d9d5a299",
   "metadata": {},
   "source": [
    "# Teds 21 Year Twin Phase 1 Questionnaire (TEDS)"
   ]
  },
  {
   "cell_type": "code",
   "execution_count": 1,
   "id": "ed0123b5",
   "metadata": {
    "execution": {
     "iopub.execute_input": "2025-07-18T10:33:38.180936Z",
     "iopub.status.busy": "2025-07-18T10:33:38.180936Z",
     "iopub.status.idle": "2025-07-18T10:33:45.334892Z",
     "shell.execute_reply": "2025-07-18T10:33:45.332379Z"
    },
    "tags": [
     "remove-input"
    ]
   },
   "outputs": [
    {
     "data": {
      "text/markdown": [
       ">Last modified: 18 Jul 2025"
      ],
      "text/plain": [
       "<IPython.core.display.Markdown object>"
      ]
     },
     "metadata": {},
     "output_type": "display_data"
    }
   ],
   "source": [
    "\n",
    "import sys\n",
    "import os\n",
    "sys.path.append(os.path.abspath('../../../../scripts/'))\n",
    "from data_doc_helper import LPSDataSet as DS, last_modified\n",
    "API_KEY = os.environ['FASTAPI_KEY']\n",
    "ds = DS(\"TEDS\", \"TEDS_21yr_twin_phase1_qnr\")\n",
    "last_modified()\n"
   ]
  },
  {
   "cell_type": "markdown",
   "id": "f05651af",
   "metadata": {},
   "source": [
    "## 1. Summary"
   ]
  },
  {
   "cell_type": "code",
   "execution_count": 2,
   "id": "b39b990e",
   "metadata": {
    "execution": {
     "iopub.execute_input": "2025-07-18T10:33:45.339947Z",
     "iopub.status.busy": "2025-07-18T10:33:45.339947Z",
     "iopub.status.idle": "2025-07-18T10:33:45.350332Z",
     "shell.execute_reply": "2025-07-18T10:33:45.349242Z"
    },
    "tags": [
     "remove-input"
    ]
   },
   "outputs": [
    {
     "data": {
      "text/markdown": [
       "All contactable participating twins in TEDS were asked to complete this questionnaire, either online or on paper. The questionnaire length was around 45 minutes on average. The questions covered a wide range of themes including mental health traits, emerging adulthood, physical health, personality traits and sociodemographics."
      ],
      "text/plain": [
       "<IPython.core.display.Markdown object>"
      ]
     },
     "metadata": {},
     "output_type": "display_data"
    }
   ],
   "source": [
    "ds.summary()"
   ]
  },
  {
   "cell_type": "code",
   "execution_count": 3,
   "id": "3ff8781a",
   "metadata": {
    "execution": {
     "iopub.execute_input": "2025-07-18T10:33:45.356330Z",
     "iopub.status.busy": "2025-07-18T10:33:45.356330Z",
     "iopub.status.idle": "2025-07-18T10:33:46.717957Z",
     "shell.execute_reply": "2025-07-18T10:33:46.715951Z"
    },
    "tags": [
     "remove-input"
    ]
   },
   "outputs": [
    {
     "data": {
      "text/html": [
       "<style type=\"text/css\">\n",
       "#T_3e4ec th {\n",
       "  text-align: left;\n",
       "}\n",
       "#T_3e4ec_row0_col0, #T_3e4ec_row0_col1, #T_3e4ec_row1_col0, #T_3e4ec_row1_col1, #T_3e4ec_row2_col0, #T_3e4ec_row2_col1, #T_3e4ec_row3_col0, #T_3e4ec_row3_col1, #T_3e4ec_row4_col0, #T_3e4ec_row4_col1, #T_3e4ec_row5_col0, #T_3e4ec_row5_col1, #T_3e4ec_row6_col0, #T_3e4ec_row6_col1, #T_3e4ec_row7_col0, #T_3e4ec_row7_col1, #T_3e4ec_row8_col0, #T_3e4ec_row8_col1, #T_3e4ec_row9_col0, #T_3e4ec_row9_col1, #T_3e4ec_row10_col0, #T_3e4ec_row10_col1, #T_3e4ec_row11_col0, #T_3e4ec_row11_col1, #T_3e4ec_row12_col0, #T_3e4ec_row12_col1 {\n",
       "  text-align: left;\n",
       "}\n",
       "</style>\n",
       "<table id=\"T_3e4ec\" style=\"font-size: 14px\">\n",
       "  <thead>\n",
       "    <tr>\n",
       "      <th id=\"T_3e4ec_level0_col0\" class=\"col_heading level0 col0\" >Dataset Descriptor</th>\n",
       "      <th id=\"T_3e4ec_level0_col1\" class=\"col_heading level0 col1\" >Dataset-specific Information</th>\n",
       "    </tr>\n",
       "  </thead>\n",
       "  <tbody>\n",
       "    <tr>\n",
       "      <td id=\"T_3e4ec_row0_col0\" class=\"data row0 col0\" >Name of Dataset in TRE</td>\n",
       "      <td id=\"T_3e4ec_row0_col1\" class=\"data row0 col1\" >TEDS_TEDS_21yr_twin_phase1_qnr</td>\n",
       "    </tr>\n",
       "    <tr>\n",
       "      <td id=\"T_3e4ec_row1_col0\" class=\"data row1 col0\" >Citation (APA)</td>\n",
       "      <td id=\"T_3e4ec_row1_col1\" class=\"data row1 col1\" >King's College London, Institute of Psychiatry, Psychology & Neuroscience, Social, Genetic & Developmental Psychiatry Centre. (2024). <i>Twins Early Development Study (TEDS): Teds 21 Year Twin Phase 1 Questionnaire.</i> UK Longitudinal Linkage Collaboration (UK LLC).  <a href=\"https://doi.org/10.83126/ukllc-dataset-00385-01\" rel=\"noopener noreferrer\" target=\"_blank\">https://doi.org/10.83126/ukllc-dataset-00385-01</a></td>\n",
       "    </tr>\n",
       "    <tr>\n",
       "      <td id=\"T_3e4ec_row2_col0\" class=\"data row2 col0\" >Download Citation</td>\n",
       "      <td id=\"T_3e4ec_row2_col1\" class=\"data row2 col1\" > <a href=\"https://api.test.datacite.org/application/vnd.citationstyles.csl+json/10.83126/ukllc-dataset-00385-01\" rel=\"noopener noreferrer\" target=\"_blank\">Citeproc JSON</a>&nbsp;&nbsp;&nbsp;&nbsp; <a href=\"https://api.test.datacite.org/application/x-bibtex/10.83126/ukllc-dataset-00385-01\" rel=\"noopener noreferrer\" target=\"_blank\">BibTeX</a>&nbsp;&nbsp;&nbsp;&nbsp; <a href=\"https://api.test.datacite.org/application/x-research-info-systems/10.83126/ukllc-dataset-00385-01\" rel=\"noopener noreferrer\" target=\"_blank\">RIS</a></td>\n",
       "    </tr>\n",
       "    <tr>\n",
       "      <td id=\"T_3e4ec_row3_col0\" class=\"data row3 col0\" >Series</td>\n",
       "      <td id=\"T_3e4ec_row3_col1\" class=\"data row3 col1\" > <a href=\"https://guidebook.ukllc.ac.uk/docs/lps/lps%20profiles/TEDS\">Twins Early Development Study (TEDS)</a></td>\n",
       "    </tr>\n",
       "    <tr>\n",
       "      <td id=\"T_3e4ec_row4_col0\" class=\"data row4 col0\" >Owner</td>\n",
       "      <td id=\"T_3e4ec_row4_col1\" class=\"data row4 col1\" >King's College London</td>\n",
       "    </tr>\n",
       "    <tr>\n",
       "      <td id=\"T_3e4ec_row5_col0\" class=\"data row5 col0\" >Temporal Coverage</td>\n",
       "      <td id=\"T_3e4ec_row5_col1\" class=\"data row5 col1\" >06/2017 - 02/2019</td>\n",
       "    </tr>\n",
       "    <tr>\n",
       "      <td id=\"T_3e4ec_row6_col0\" class=\"data row6 col0\" >Keywords</td>\n",
       "      <td id=\"T_3e4ec_row6_col1\" class=\"data row6 col1\" ></td>\n",
       "    </tr>\n",
       "    <tr>\n",
       "      <td id=\"T_3e4ec_row7_col0\" class=\"data row7 col0\" >Participants Invited</td>\n",
       "      <td id=\"T_3e4ec_row7_col1\" class=\"data row7 col1\" >20986</td>\n",
       "    </tr>\n",
       "    <tr>\n",
       "      <td id=\"T_3e4ec_row8_col0\" class=\"data row8 col0\" >Participant Count</td>\n",
       "      <td id=\"T_3e4ec_row8_col1\" class=\"data row8 col1\" >8757</td>\n",
       "    </tr>\n",
       "    <tr>\n",
       "      <td id=\"T_3e4ec_row9_col0\" class=\"data row9 col0\" >Number of variables</td>\n",
       "      <td id=\"T_3e4ec_row9_col1\" class=\"data row9 col1\" >463</td>\n",
       "    </tr>\n",
       "    <tr>\n",
       "      <td id=\"T_3e4ec_row10_col0\" class=\"data row10 col0\" >Number of observations</td>\n",
       "      <td id=\"T_3e4ec_row10_col1\" class=\"data row10 col1\" >8757</td>\n",
       "    </tr>\n",
       "    <tr>\n",
       "      <td id=\"T_3e4ec_row11_col0\" class=\"data row11 col0\" >Specific Restrictions to Data Use</td>\n",
       "      <td id=\"T_3e4ec_row11_col1\" class=\"data row11 col1\" >None</td>\n",
       "    </tr>\n",
       "    <tr>\n",
       "      <td id=\"T_3e4ec_row12_col0\" class=\"data row12 col0\" >Build a Data Request</td>\n",
       "      <td id=\"T_3e4ec_row12_col1\" class=\"data row12 col1\" > <a href=\"https://explore.ukllc.ac.uk/\" rel=\"noopener noreferrer\" target=\"_blank\">https://explore.ukllc.ac.uk/</a></td>\n",
       "    </tr>\n",
       "  </tbody>\n",
       "</table>\n"
      ],
      "text/plain": [
       "<pandas.io.formats.style.Styler at 0x2445adbbe60>"
      ]
     },
     "execution_count": 3,
     "metadata": {},
     "output_type": "execute_result"
    }
   ],
   "source": [
    "ds.info_table()"
   ]
  },
  {
   "cell_type": "markdown",
   "id": "6f97831f",
   "metadata": {},
   "source": [
    "## 2. Version History"
   ]
  },
  {
   "cell_type": "code",
   "execution_count": 4,
   "id": "3d4b698f",
   "metadata": {
    "execution": {
     "iopub.execute_input": "2025-07-18T10:33:46.723961Z",
     "iopub.status.busy": "2025-07-18T10:33:46.722961Z",
     "iopub.status.idle": "2025-07-18T10:33:48.939971Z",
     "shell.execute_reply": "2025-07-18T10:33:48.937950Z"
    },
    "tags": [
     "remove-input"
    ]
   },
   "outputs": [
    {
     "data": {
      "text/html": [
       "<style type=\"text/css\">\n",
       "#T_401c7 th {\n",
       "  text-align: left;\n",
       "}\n",
       "#T_401c7_row0_col0, #T_401c7_row0_col1, #T_401c7_row1_col0, #T_401c7_row1_col1, #T_401c7_row2_col0, #T_401c7_row2_col1, #T_401c7_row3_col0, #T_401c7_row3_col1, #T_401c7_row4_col0, #T_401c7_row4_col1 {\n",
       "  text-align: left;\n",
       "}\n",
       "</style>\n",
       "<table id=\"T_401c7\" style=\"font-size: 14px\">\n",
       "  <thead>\n",
       "    <tr>\n",
       "      <th id=\"T_401c7_level0_col0\" class=\"col_heading level0 col0\" >Version</th>\n",
       "      <th id=\"T_401c7_level0_col1\" class=\"col_heading level0 col1\" >1</th>\n",
       "    </tr>\n",
       "  </thead>\n",
       "  <tbody>\n",
       "    <tr>\n",
       "      <td id=\"T_401c7_row0_col0\" class=\"data row0 col0\" >Version Date</td>\n",
       "      <td id=\"T_401c7_row0_col1\" class=\"data row0 col1\" >07 Jun 2024</td>\n",
       "    </tr>\n",
       "    <tr>\n",
       "      <td id=\"T_401c7_row1_col0\" class=\"data row1 col0\" >Number of Variables</td>\n",
       "      <td id=\"T_401c7_row1_col1\" class=\"data row1 col1\" >463</td>\n",
       "    </tr>\n",
       "    <tr>\n",
       "      <td id=\"T_401c7_row2_col0\" class=\"data row2 col0\" >Number of Observations</td>\n",
       "      <td id=\"T_401c7_row2_col1\" class=\"data row2 col1\" >8757</td>\n",
       "    </tr>\n",
       "    <tr>\n",
       "      <td id=\"T_401c7_row3_col0\" class=\"data row3 col0\" >DOI</td>\n",
       "      <td id=\"T_401c7_row3_col1\" class=\"data row3 col1\" > <a href=\"https://doi.org/10.83126/ukllc-dataset-00385-01\" rel=\"noopener noreferrer\" target=\"_blank\">10.83126/ukllc-dataset-00385-01</a></td>\n",
       "    </tr>\n",
       "    <tr>\n",
       "      <td id=\"T_401c7_row4_col0\" class=\"data row4 col0\" >Change Log</td>\n",
       "      <td id=\"T_401c7_row4_col1\" class=\"data row4 col1\" > <a href=\"https://api.test.datacite.org/dois/10.83126/ukllc-dataset-00385-01/activities\" rel=\"noopener noreferrer\" target=\"_blank\">10.83126/ukllc-dataset-00385-01/activities</a></td>\n",
       "    </tr>\n",
       "  </tbody>\n",
       "</table>\n"
      ],
      "text/plain": [
       "<pandas.io.formats.style.Styler at 0x244626c6630>"
      ]
     },
     "execution_count": 4,
     "metadata": {},
     "output_type": "execute_result"
    }
   ],
   "source": [
    "ds.version_history()"
   ]
  },
  {
   "cell_type": "markdown",
   "id": "5885a8fb",
   "metadata": {},
   "source": [
    "## 3. Documentation"
   ]
  },
  {
   "cell_type": "code",
   "execution_count": 5,
   "id": "8ee60982",
   "metadata": {
    "execution": {
     "iopub.execute_input": "2025-07-18T10:33:48.946976Z",
     "iopub.status.busy": "2025-07-18T10:33:48.946976Z",
     "iopub.status.idle": "2025-07-18T10:33:48.955969Z",
     "shell.execute_reply": "2025-07-18T10:33:48.954963Z"
    },
    "tags": [
     "remove-input"
    ]
   },
   "outputs": [
    {
     "data": {
      "text/markdown": [
       "We are currently building a documentation storage system which will host useful documents related to datasets and data owners. We will surface these documents on Guidebook."
      ],
      "text/plain": [
       "<IPython.core.display.Markdown object>"
      ]
     },
     "metadata": {},
     "output_type": "display_data"
    }
   ],
   "source": [
    "ds.documentation()"
   ]
  },
  {
   "cell_type": "markdown",
   "id": "a4dbc4fc",
   "metadata": {},
   "source": [
    "## 4. Useful Syntax"
   ]
  },
  {
   "cell_type": "code",
   "execution_count": 6,
   "id": "01a387d0",
   "metadata": {
    "execution": {
     "iopub.execute_input": "2025-07-18T10:33:48.962479Z",
     "iopub.status.busy": "2025-07-18T10:33:48.961479Z",
     "iopub.status.idle": "2025-07-18T10:33:48.970361Z",
     "shell.execute_reply": "2025-07-18T10:33:48.969355Z"
    },
    "tags": [
     "remove-input"
    ]
   },
   "outputs": [
    {
     "data": {
      "text/markdown": [
       "Below we will include syntax that may be helpful to other researchers in the UK LLC TRE. For longer scripts, we will include a snippet of the code plus a link to Git where you can find the full scripts."
      ],
      "text/plain": [
       "<IPython.core.display.Markdown object>"
      ]
     },
     "metadata": {},
     "output_type": "display_data"
    }
   ],
   "source": [
    "ds.useful_syntax()"
   ]
  }
 ],
 "metadata": {
  "language_info": {
   "codemirror_mode": {
    "name": "ipython",
    "version": 3
   },
   "file_extension": ".py",
   "mimetype": "text/x-python",
   "name": "python",
   "nbconvert_exporter": "python",
   "pygments_lexer": "ipython3",
   "version": "3.12.7"
  }
 },
 "nbformat": 4,
 "nbformat_minor": 5
}
