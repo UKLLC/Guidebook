{
 "cells": [
  {
   "cell_type": "markdown",
   "id": "63f4f67d",
   "metadata": {},
   "source": [
    "# Teds 21 Year Twin Phase 2 Questionnaire (TEDS)"
   ]
  },
  {
   "cell_type": "code",
   "execution_count": 1,
   "id": "0bb0fd30",
   "metadata": {
    "execution": {
     "iopub.execute_input": "2025-07-28T20:32:06.612438Z",
     "iopub.status.busy": "2025-07-28T20:32:06.611340Z",
     "iopub.status.idle": "2025-07-28T20:32:19.511617Z",
     "shell.execute_reply": "2025-07-28T20:32:19.510608Z"
    },
    "tags": [
     "remove-input"
    ]
   },
   "outputs": [
    {
     "data": {
      "text/markdown": [
       ">Last modified: 28 Jul 2025"
      ],
      "text/plain": [
       "<IPython.core.display.Markdown object>"
      ]
     },
     "metadata": {},
     "output_type": "display_data"
    }
   ],
   "source": [
    "\n",
    "import sys\n",
    "import os\n",
    "sys.path.append(os.path.abspath('../../../../scripts/'))\n",
    "from data_doc_helper import LPSDataSet as DS, last_modified\n",
    "API_KEY = os.environ['FASTAPI_KEY']\n",
    "ds = DS(\"TEDS\", \"TEDS_21yr_twin_phase2_qnr\")\n",
    "last_modified()\n"
   ]
  },
  {
   "cell_type": "markdown",
   "id": "76b2291b",
   "metadata": {},
   "source": [
    "## 1. Summary"
   ]
  },
  {
   "cell_type": "code",
   "execution_count": 2,
   "id": "1983e751",
   "metadata": {
    "execution": {
     "iopub.execute_input": "2025-07-28T20:32:19.517236Z",
     "iopub.status.busy": "2025-07-28T20:32:19.516118Z",
     "iopub.status.idle": "2025-07-28T20:32:19.526095Z",
     "shell.execute_reply": "2025-07-28T20:32:19.525580Z"
    },
    "tags": [
     "remove-input"
    ]
   },
   "outputs": [
    {
     "data": {
      "text/markdown": [
       "Contactable participating twins in TEDS were asked to complete this questionnaire, either online or on paper. The questionnaire length was around 45 minutes on average. The questions covered a wide range of themes including mental health traits, emerging adulthood, physical health and substance use."
      ],
      "text/plain": [
       "<IPython.core.display.Markdown object>"
      ]
     },
     "metadata": {},
     "output_type": "display_data"
    }
   ],
   "source": [
    "ds.summary()"
   ]
  },
  {
   "cell_type": "code",
   "execution_count": 3,
   "id": "0ed034f2",
   "metadata": {
    "execution": {
     "iopub.execute_input": "2025-07-28T20:32:19.534172Z",
     "iopub.status.busy": "2025-07-28T20:32:19.533163Z",
     "iopub.status.idle": "2025-07-28T20:32:21.345255Z",
     "shell.execute_reply": "2025-07-28T20:32:21.343236Z"
    },
    "tags": [
     "remove-input"
    ]
   },
   "outputs": [
    {
     "data": {
      "text/html": [
       "<style type=\"text/css\">\n",
       "#T_97692 th {\n",
       "  text-align: left;\n",
       "}\n",
       "#T_97692_row0_col0, #T_97692_row0_col1, #T_97692_row1_col0, #T_97692_row1_col1, #T_97692_row2_col0, #T_97692_row2_col1, #T_97692_row3_col0, #T_97692_row3_col1, #T_97692_row4_col0, #T_97692_row4_col1, #T_97692_row5_col0, #T_97692_row5_col1, #T_97692_row6_col0, #T_97692_row6_col1, #T_97692_row7_col0, #T_97692_row7_col1, #T_97692_row8_col0, #T_97692_row8_col1, #T_97692_row9_col0, #T_97692_row9_col1, #T_97692_row10_col0, #T_97692_row10_col1, #T_97692_row11_col0, #T_97692_row11_col1, #T_97692_row12_col0, #T_97692_row12_col1 {\n",
       "  text-align: left;\n",
       "}\n",
       "</style>\n",
       "<table id=\"T_97692\" style=\"font-size: 14px\">\n",
       "  <thead>\n",
       "    <tr>\n",
       "      <th id=\"T_97692_level0_col0\" class=\"col_heading level0 col0\" >Dataset Descriptor</th>\n",
       "      <th id=\"T_97692_level0_col1\" class=\"col_heading level0 col1\" >Dataset-specific Information</th>\n",
       "    </tr>\n",
       "  </thead>\n",
       "  <tbody>\n",
       "    <tr>\n",
       "      <td id=\"T_97692_row0_col0\" class=\"data row0 col0\" >Name of Dataset in TRE</td>\n",
       "      <td id=\"T_97692_row0_col1\" class=\"data row0 col1\" >TEDS_TEDS_21yr_twin_phase2_qnr</td>\n",
       "    </tr>\n",
       "    <tr>\n",
       "      <td id=\"T_97692_row1_col0\" class=\"data row1 col0\" >Citation (APA)</td>\n",
       "      <td id=\"T_97692_row1_col1\" class=\"data row1 col1\" >King's College London, Institute of Psychiatry, Psychology & Neuroscience, Social, Genetic & Developmental Psychiatry Centre. (2025). <i>Twins Early Development Study (TEDS): Teds 21 Year Twin Phase 2 Questionnaire.</i> UK Longitudinal Linkage Collaboration (UK LLC).  <a href=\"https://doi.org/10.71760/ukllc-dataset-00317-02\" rel=\"noopener noreferrer\" target=\"_blank\">https://doi.org/10.71760/ukllc-dataset-00317-02</a></td>\n",
       "    </tr>\n",
       "    <tr>\n",
       "      <td id=\"T_97692_row2_col0\" class=\"data row2 col0\" >Download Citation</td>\n",
       "      <td id=\"T_97692_row2_col1\" class=\"data row2 col1\" > <a href=\"https://api.datacite.org/application/vnd.citationstyles.csl+json/10.71760/ukllc-dataset-00317-02\" rel=\"noopener noreferrer\" target=\"_blank\">Citeproc JSON</a>&nbsp;&nbsp;&nbsp;&nbsp; <a href=\"https://api.datacite.org/application/x-bibtex/10.71760/ukllc-dataset-00317-02\" rel=\"noopener noreferrer\" target=\"_blank\">BibTeX</a>&nbsp;&nbsp;&nbsp;&nbsp; <a href=\"https://api.datacite.org/application/x-research-info-systems/10.71760/ukllc-dataset-00317-02\" rel=\"noopener noreferrer\" target=\"_blank\">RIS</a></td>\n",
       "    </tr>\n",
       "    <tr>\n",
       "      <td id=\"T_97692_row3_col0\" class=\"data row3 col0\" >Series</td>\n",
       "      <td id=\"T_97692_row3_col1\" class=\"data row3 col1\" > <a href=\"https://guidebook.ukllc.ac.uk/docs/lps_data/lps%20profiles/TEDS\">Twins Early Development Study (TEDS)</a></td>\n",
       "    </tr>\n",
       "    <tr>\n",
       "      <td id=\"T_97692_row4_col0\" class=\"data row4 col0\" >Owner</td>\n",
       "      <td id=\"T_97692_row4_col1\" class=\"data row4 col1\" >King's College London</td>\n",
       "    </tr>\n",
       "    <tr>\n",
       "      <td id=\"T_97692_row5_col0\" class=\"data row5 col0\" >Temporal Coverage</td>\n",
       "      <td id=\"T_97692_row5_col1\" class=\"data row5 col1\" >02/2018 - 02/2019</td>\n",
       "    </tr>\n",
       "    <tr>\n",
       "      <td id=\"T_97692_row6_col0\" class=\"data row6 col0\" >Keywords</td>\n",
       "      <td id=\"T_97692_row6_col1\" class=\"data row6 col1\" ></td>\n",
       "    </tr>\n",
       "    <tr>\n",
       "      <td id=\"T_97692_row7_col0\" class=\"data row7 col0\" >Participants Invited</td>\n",
       "      <td id=\"T_97692_row7_col1\" class=\"data row7 col1\" >17128</td>\n",
       "    </tr>\n",
       "    <tr>\n",
       "      <td id=\"T_97692_row8_col0\" class=\"data row8 col0\" >Participant Count</td>\n",
       "      <td id=\"T_97692_row8_col1\" class=\"data row8 col1\" >7492</td>\n",
       "    </tr>\n",
       "    <tr>\n",
       "      <td id=\"T_97692_row9_col0\" class=\"data row9 col0\" >Number of variables</td>\n",
       "      <td id=\"T_97692_row9_col1\" class=\"data row9 col1\" >326</td>\n",
       "    </tr>\n",
       "    <tr>\n",
       "      <td id=\"T_97692_row10_col0\" class=\"data row10 col0\" >Number of observations</td>\n",
       "      <td id=\"T_97692_row10_col1\" class=\"data row10 col1\" >7518</td>\n",
       "    </tr>\n",
       "    <tr>\n",
       "      <td id=\"T_97692_row11_col0\" class=\"data row11 col0\" >Specific Restrictions to Data Use</td>\n",
       "      <td id=\"T_97692_row11_col1\" class=\"data row11 col1\" >None</td>\n",
       "    </tr>\n",
       "    <tr>\n",
       "      <td id=\"T_97692_row12_col0\" class=\"data row12 col0\" >Build a Data Request</td>\n",
       "      <td id=\"T_97692_row12_col1\" class=\"data row12 col1\" > <a href=\"https://explore.ukllc.ac.uk/\" rel=\"noopener noreferrer\" target=\"_blank\">https://explore.ukllc.ac.uk/</a></td>\n",
       "    </tr>\n",
       "  </tbody>\n",
       "</table>\n"
      ],
      "text/plain": [
       "<pandas.io.formats.style.Styler at 0x1c47cb78f50>"
      ]
     },
     "execution_count": 3,
     "metadata": {},
     "output_type": "execute_result"
    }
   ],
   "source": [
    "ds.info_table()"
   ]
  },
  {
   "cell_type": "markdown",
   "id": "3798c5c3",
   "metadata": {},
   "source": [
    "## 2. Version History"
   ]
  },
  {
   "cell_type": "code",
   "execution_count": 4,
   "id": "9e1e9176",
   "metadata": {
    "execution": {
     "iopub.execute_input": "2025-07-28T20:32:21.354466Z",
     "iopub.status.busy": "2025-07-28T20:32:21.353439Z",
     "iopub.status.idle": "2025-07-28T20:32:26.396075Z",
     "shell.execute_reply": "2025-07-28T20:32:26.395048Z"
    },
    "tags": [
     "remove-input"
    ]
   },
   "outputs": [
    {
     "data": {
      "text/html": [
       "<style type=\"text/css\">\n",
       "#T_4cb15 th {\n",
       "  text-align: left;\n",
       "}\n",
       "#T_4cb15_row0_col0, #T_4cb15_row0_col1, #T_4cb15_row0_col2, #T_4cb15_row1_col0, #T_4cb15_row1_col1, #T_4cb15_row1_col2, #T_4cb15_row2_col0, #T_4cb15_row2_col1, #T_4cb15_row2_col2, #T_4cb15_row3_col0, #T_4cb15_row3_col1, #T_4cb15_row3_col2, #T_4cb15_row4_col0, #T_4cb15_row4_col1, #T_4cb15_row4_col2 {\n",
       "  text-align: left;\n",
       "}\n",
       "</style>\n",
       "<table id=\"T_4cb15\" style=\"font-size: 14px\">\n",
       "  <thead>\n",
       "    <tr>\n",
       "      <th id=\"T_4cb15_level0_col0\" class=\"col_heading level0 col0\" >Version</th>\n",
       "      <th id=\"T_4cb15_level0_col1\" class=\"col_heading level0 col1\" >1</th>\n",
       "      <th id=\"T_4cb15_level0_col2\" class=\"col_heading level0 col2\" >2</th>\n",
       "    </tr>\n",
       "  </thead>\n",
       "  <tbody>\n",
       "    <tr>\n",
       "      <td id=\"T_4cb15_row0_col0\" class=\"data row0 col0\" >Version Date</td>\n",
       "      <td id=\"T_4cb15_row0_col1\" class=\"data row0 col1\" >07 Jun 2024</td>\n",
       "      <td id=\"T_4cb15_row0_col2\" class=\"data row0 col2\" >06 Feb 2025</td>\n",
       "    </tr>\n",
       "    <tr>\n",
       "      <td id=\"T_4cb15_row1_col0\" class=\"data row1 col0\" >Number of Variables</td>\n",
       "      <td id=\"T_4cb15_row1_col1\" class=\"data row1 col1\" >326</td>\n",
       "      <td id=\"T_4cb15_row1_col2\" class=\"data row1 col2\" >326</td>\n",
       "    </tr>\n",
       "    <tr>\n",
       "      <td id=\"T_4cb15_row2_col0\" class=\"data row2 col0\" >Number of Observations</td>\n",
       "      <td id=\"T_4cb15_row2_col1\" class=\"data row2 col1\" >7492</td>\n",
       "      <td id=\"T_4cb15_row2_col2\" class=\"data row2 col2\" >7518</td>\n",
       "    </tr>\n",
       "    <tr>\n",
       "      <td id=\"T_4cb15_row3_col0\" class=\"data row3 col0\" >DOI</td>\n",
       "      <td id=\"T_4cb15_row3_col1\" class=\"data row3 col1\" > <a href=\"https://doi.org/10.71760/ukllc-dataset-00317-01\" rel=\"noopener noreferrer\" target=\"_blank\">10.71760/ukllc-dataset-00317-01</a></td>\n",
       "      <td id=\"T_4cb15_row3_col2\" class=\"data row3 col2\" > <a href=\"https://doi.org/10.71760/ukllc-dataset-00317-02\" rel=\"noopener noreferrer\" target=\"_blank\">10.71760/ukllc-dataset-00317-02</a></td>\n",
       "    </tr>\n",
       "    <tr>\n",
       "      <td id=\"T_4cb15_row4_col0\" class=\"data row4 col0\" >Change Log</td>\n",
       "      <td id=\"T_4cb15_row4_col1\" class=\"data row4 col1\" > <a href=\"https://api.test.datacite.org/dois/10.71760/ukllc-dataset-00317-01/activities\" rel=\"noopener noreferrer\" target=\"_blank\">10.71760/ukllc-dataset-00317-01/activities</a></td>\n",
       "      <td id=\"T_4cb15_row4_col2\" class=\"data row4 col2\" > <a href=\"https://api.test.datacite.org/dois/10.71760/ukllc-dataset-00317-02/activities\" rel=\"noopener noreferrer\" target=\"_blank\">10.71760/ukllc-dataset-00317-02/activities</a></td>\n",
       "    </tr>\n",
       "  </tbody>\n",
       "</table>\n"
      ],
      "text/plain": [
       "<pandas.io.formats.style.Styler at 0x1c47e8beed0>"
      ]
     },
     "execution_count": 4,
     "metadata": {},
     "output_type": "execute_result"
    }
   ],
   "source": [
    "ds.version_history()"
   ]
  },
  {
   "cell_type": "markdown",
   "id": "1c81b4ca",
   "metadata": {},
   "source": [
    "## 3. Documentation"
   ]
  },
  {
   "cell_type": "code",
   "execution_count": 5,
   "id": "8dae9f1e",
   "metadata": {
    "execution": {
     "iopub.execute_input": "2025-07-28T20:32:26.404374Z",
     "iopub.status.busy": "2025-07-28T20:32:26.404374Z",
     "iopub.status.idle": "2025-07-28T20:32:26.416143Z",
     "shell.execute_reply": "2025-07-28T20:32:26.414861Z"
    },
    "tags": [
     "remove-input"
    ]
   },
   "outputs": [
    {
     "data": {
      "text/markdown": [
       "We are currently building a documentation storage system which will host useful documents related to datasets and data owners. We will surface these documents on Guidebook."
      ],
      "text/plain": [
       "<IPython.core.display.Markdown object>"
      ]
     },
     "metadata": {},
     "output_type": "display_data"
    }
   ],
   "source": [
    "ds.documentation()"
   ]
  },
  {
   "cell_type": "markdown",
   "id": "b85660f9",
   "metadata": {},
   "source": [
    "## 4. Useful Syntax"
   ]
  },
  {
   "cell_type": "code",
   "execution_count": 6,
   "id": "1d591a04",
   "metadata": {
    "execution": {
     "iopub.execute_input": "2025-07-28T20:32:26.421730Z",
     "iopub.status.busy": "2025-07-28T20:32:26.420733Z",
     "iopub.status.idle": "2025-07-28T20:32:26.430677Z",
     "shell.execute_reply": "2025-07-28T20:32:26.428660Z"
    },
    "tags": [
     "remove-input"
    ]
   },
   "outputs": [
    {
     "data": {
      "text/markdown": [
       "Below we will include syntax that may be helpful to other researchers in the UK LLC TRE. For longer scripts, we will include a snippet of the code plus a link to Git where you can find the full scripts."
      ],
      "text/plain": [
       "<IPython.core.display.Markdown object>"
      ]
     },
     "metadata": {},
     "output_type": "display_data"
    }
   ],
   "source": [
    "ds.useful_syntax()"
   ]
  }
 ],
 "metadata": {
  "language_info": {
   "codemirror_mode": {
    "name": "ipython",
    "version": 3
   },
   "file_extension": ".py",
   "mimetype": "text/x-python",
   "name": "python",
   "nbconvert_exporter": "python",
   "pygments_lexer": "ipython3",
   "version": "3.12.7"
  }
 },
 "nbformat": 4,
 "nbformat_minor": 5
}
