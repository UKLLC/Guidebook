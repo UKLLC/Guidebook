{
 "cells": [
  {
   "cell_type": "markdown",
   "id": "f199844a",
   "metadata": {},
   "source": [
    "# Twins Early Development Study (TEDS) Datasets"
   ]
  },
  {
   "cell_type": "code",
   "execution_count": 1,
   "id": "65be692e",
   "metadata": {
    "execution": {
     "iopub.execute_input": "2025-07-18T10:34:37.578010Z",
     "iopub.status.busy": "2025-07-18T10:34:37.577010Z",
     "iopub.status.idle": "2025-07-18T10:34:40.072260Z",
     "shell.execute_reply": "2025-07-18T10:34:40.072260Z"
    },
    "tags": [
     "remove-input"
    ]
   },
   "outputs": [
    {
     "data": {
      "text/markdown": [
       ">Last modified: 18 Jul 2025"
      ],
      "text/plain": [
       "<IPython.core.display.Markdown object>"
      ]
     },
     "metadata": {},
     "output_type": "display_data"
    }
   ],
   "source": [
    "\n",
    "import sys\n",
    "import os\n",
    "sys.path.append(os.path.abspath('../../../../scripts/'))\n",
    "from data_doc_helper import LPSSource as SS, last_modified\n",
    "API_KEY = os.environ['FASTAPI_KEY']\n",
    "ss = SS(\"TEDS\")\n",
    "last_modified()\n"
   ]
  },
  {
   "cell_type": "markdown",
   "id": "3bc4f8e8",
   "metadata": {},
   "source": [
    "## 1. Datasets"
   ]
  },
  {
   "cell_type": "code",
   "execution_count": 2,
   "id": "e322bcf8",
   "metadata": {
    "execution": {
     "iopub.execute_input": "2025-07-18T10:34:40.077575Z",
     "iopub.status.busy": "2025-07-18T10:34:40.077575Z",
     "iopub.status.idle": "2025-07-18T10:34:40.080907Z",
     "shell.execute_reply": "2025-07-18T10:34:40.080907Z"
    },
    "tags": [
     "remove-input"
    ]
   },
   "outputs": [
    {
     "data": {
      "text/markdown": [
       "**Table 1:** Datasets and metrics in the UK LLC belonging to TEDS."
      ],
      "text/plain": [
       "<IPython.core.display.Markdown object>"
      ]
     },
     "metadata": {},
     "output_type": "display_data"
    }
   ],
   "source": [
    "ss.table_caption_ds()"
   ]
  },
  {
   "cell_type": "code",
   "execution_count": 3,
   "id": "ff13e647",
   "metadata": {
    "execution": {
     "iopub.execute_input": "2025-07-18T10:34:40.084769Z",
     "iopub.status.busy": "2025-07-18T10:34:40.084769Z",
     "iopub.status.idle": "2025-07-18T10:34:41.299989Z",
     "shell.execute_reply": "2025-07-18T10:34:41.299989Z"
    },
    "tags": [
     "remove-input",
     "hide-cell"
    ]
   },
   "outputs": [
    {
     "data": {
      "text/html": [
       "<style type=\"text/css\">\n",
       "#T_658c9 th {\n",
       "  text-align: left;\n",
       "}\n",
       "#T_658c9_row0_col0, #T_658c9_row0_col1, #T_658c9_row0_col2, #T_658c9_row0_col3, #T_658c9_row0_col4, #T_658c9_row1_col0, #T_658c9_row1_col1, #T_658c9_row1_col2, #T_658c9_row1_col3, #T_658c9_row1_col4, #T_658c9_row2_col0, #T_658c9_row2_col1, #T_658c9_row2_col2, #T_658c9_row2_col3, #T_658c9_row2_col4, #T_658c9_row3_col0, #T_658c9_row3_col1, #T_658c9_row3_col2, #T_658c9_row3_col3, #T_658c9_row3_col4, #T_658c9_row4_col0, #T_658c9_row4_col1, #T_658c9_row4_col2, #T_658c9_row4_col3, #T_658c9_row4_col4, #T_658c9_row5_col0, #T_658c9_row5_col1, #T_658c9_row5_col2, #T_658c9_row5_col3, #T_658c9_row5_col4, #T_658c9_row6_col0, #T_658c9_row6_col1, #T_658c9_row6_col2, #T_658c9_row6_col3, #T_658c9_row6_col4, #T_658c9_row7_col0, #T_658c9_row7_col1, #T_658c9_row7_col2, #T_658c9_row7_col3, #T_658c9_row7_col4 {\n",
       "  text-align: left;\n",
       "}\n",
       "</style>\n",
       "<table id=\"T_658c9\" style=\"font-size: 14px\">\n",
       "  <thead>\n",
       "    <tr>\n",
       "      <th id=\"T_658c9_level0_col0\" class=\"col_heading level0 col0\" >Dataset</th>\n",
       "      <th id=\"T_658c9_level0_col1\" class=\"col_heading level0 col1\" >Dataset Name</th>\n",
       "      <th id=\"T_658c9_level0_col2\" class=\"col_heading level0 col2\" ># Participants</th>\n",
       "      <th id=\"T_658c9_level0_col3\" class=\"col_heading level0 col3\" ># Observations</th>\n",
       "      <th id=\"T_658c9_level0_col4\" class=\"col_heading level0 col4\" ># Variables</th>\n",
       "    </tr>\n",
       "  </thead>\n",
       "  <tbody>\n",
       "    <tr>\n",
       "      <td id=\"T_658c9_row0_col0\" class=\"data row0 col0\" > <a href=\"TEDS_26yr_mhq.html\">TEDS_26yr_mhq</a></td>\n",
       "      <td id=\"T_658c9_row0_col1\" class=\"data row0 col1\" >Teds 26 Year Mental Health Questionnaire</td>\n",
       "      <td id=\"T_658c9_row0_col2\" class=\"data row0 col2\" >7866</td>\n",
       "      <td id=\"T_658c9_row0_col3\" class=\"data row0 col3\" >7866</td>\n",
       "      <td id=\"T_658c9_row0_col4\" class=\"data row0 col4\" >798</td>\n",
       "    </tr>\n",
       "    <tr>\n",
       "      <td id=\"T_658c9_row1_col0\" class=\"data row1 col0\" > <a href=\"TEDS_21yr_twin_phase2_qnr.html\">TEDS_21yr_twin_phase2_qnr</a></td>\n",
       "      <td id=\"T_658c9_row1_col1\" class=\"data row1 col1\" >Teds 21 Year Twin Phase 2 Questionnaire</td>\n",
       "      <td id=\"T_658c9_row1_col2\" class=\"data row1 col2\" >7492</td>\n",
       "      <td id=\"T_658c9_row1_col3\" class=\"data row1 col3\" >7492</td>\n",
       "      <td id=\"T_658c9_row1_col4\" class=\"data row1 col4\" >326</td>\n",
       "    </tr>\n",
       "    <tr>\n",
       "      <td id=\"T_658c9_row2_col0\" class=\"data row2 col0\" > <a href=\"TEDS_21yr_twin_phase1_qnr.html\">TEDS_21yr_twin_phase1_qnr</a></td>\n",
       "      <td id=\"T_658c9_row2_col1\" class=\"data row2 col1\" >Teds 21 Year Twin Phase 1 Questionnaire</td>\n",
       "      <td id=\"T_658c9_row2_col2\" class=\"data row2 col2\" >8757</td>\n",
       "      <td id=\"T_658c9_row2_col3\" class=\"data row2 col3\" >8757</td>\n",
       "      <td id=\"T_658c9_row2_col4\" class=\"data row2 col4\" >463</td>\n",
       "    </tr>\n",
       "    <tr>\n",
       "      <td id=\"T_658c9_row3_col0\" class=\"data row3 col0\" > <a href=\"TEDS_21yr_twin_covid_phase4.html\">TEDS_21yr_twin_covid_phase4</a></td>\n",
       "      <td id=\"T_658c9_row3_col1\" class=\"data row3 col1\" >Teds 21 Year Twin COVID-19 Phase 4</td>\n",
       "      <td id=\"T_658c9_row3_col2\" class=\"data row3 col2\" >3641</td>\n",
       "      <td id=\"T_658c9_row3_col3\" class=\"data row3 col3\" >3641</td>\n",
       "      <td id=\"T_658c9_row3_col4\" class=\"data row3 col4\" >227</td>\n",
       "    </tr>\n",
       "    <tr>\n",
       "      <td id=\"T_658c9_row4_col0\" class=\"data row4 col0\" > <a href=\"TEDS_21yr_twin_covid_phase3.html\">TEDS_21yr_twin_covid_phase3</a></td>\n",
       "      <td id=\"T_658c9_row4_col1\" class=\"data row4 col1\" >Teds 21 Year Twin COVID-19 Phase 3</td>\n",
       "      <td id=\"T_658c9_row4_col2\" class=\"data row4 col2\" >3349</td>\n",
       "      <td id=\"T_658c9_row4_col3\" class=\"data row4 col3\" >3349</td>\n",
       "      <td id=\"T_658c9_row4_col4\" class=\"data row4 col4\" >229</td>\n",
       "    </tr>\n",
       "    <tr>\n",
       "      <td id=\"T_658c9_row5_col0\" class=\"data row5 col0\" > <a href=\"TEDS_background.html\">TEDS_background</a></td>\n",
       "      <td id=\"T_658c9_row5_col1\" class=\"data row5 col1\" >TEDS Background</td>\n",
       "      <td id=\"T_658c9_row5_col2\" class=\"data row5 col2\" >10845</td>\n",
       "      <td id=\"T_658c9_row5_col3\" class=\"data row5 col3\" >10845</td>\n",
       "      <td id=\"T_658c9_row5_col4\" class=\"data row5 col4\" >47</td>\n",
       "    </tr>\n",
       "    <tr>\n",
       "      <td id=\"T_658c9_row6_col0\" class=\"data row6 col0\" > <a href=\"TEDS_21yr_twin_covid_phase1.html\">TEDS_21yr_twin_covid_phase1</a></td>\n",
       "      <td id=\"T_658c9_row6_col1\" class=\"data row6 col1\" >Teds 21 Year Twin COVID-19 Phase 1</td>\n",
       "      <td id=\"T_658c9_row6_col2\" class=\"data row6 col2\" >4400</td>\n",
       "      <td id=\"T_658c9_row6_col3\" class=\"data row6 col3\" >4408</td>\n",
       "      <td id=\"T_658c9_row6_col4\" class=\"data row6 col4\" >230</td>\n",
       "    </tr>\n",
       "    <tr>\n",
       "      <td id=\"T_658c9_row7_col0\" class=\"data row7 col0\" > <a href=\"TEDS_21yr_twin_covid_phase2.html\">TEDS_21yr_twin_covid_phase2</a></td>\n",
       "      <td id=\"T_658c9_row7_col1\" class=\"data row7 col1\" >Teds 21 Year Twin COVID-19 Phase 2</td>\n",
       "      <td id=\"T_658c9_row7_col2\" class=\"data row7 col2\" >3706</td>\n",
       "      <td id=\"T_658c9_row7_col3\" class=\"data row7 col3\" >3708</td>\n",
       "      <td id=\"T_658c9_row7_col4\" class=\"data row7 col4\" >233</td>\n",
       "    </tr>\n",
       "  </tbody>\n",
       "</table>\n"
      ],
      "text/plain": [
       "<pandas.io.formats.style.Styler at 0x16c211fae40>"
      ]
     },
     "execution_count": 3,
     "metadata": {},
     "output_type": "execute_result"
    }
   ],
   "source": [
    "ss.datasets()"
   ]
  }
 ],
 "metadata": {
  "language_info": {
   "codemirror_mode": {
    "name": "ipython",
    "version": 3
   },
   "file_extension": ".py",
   "mimetype": "text/x-python",
   "name": "python",
   "nbconvert_exporter": "python",
   "pygments_lexer": "ipython3",
   "version": "3.12.7"
  },
  "mystnb": {
   "code_prompt_hide": "Hide Datasets",
   "code_prompt_show": "Show Datasets"
  }
 },
 "nbformat": 4,
 "nbformat_minor": 5
}
