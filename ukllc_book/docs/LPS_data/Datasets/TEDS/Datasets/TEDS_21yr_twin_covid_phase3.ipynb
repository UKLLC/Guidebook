{
 "cells": [
  {
   "cell_type": "markdown",
   "id": "a447a000",
   "metadata": {},
   "source": [
    "# Teds 21 Year Twin COVID-19 Phase 3 (TEDS)"
   ]
  },
  {
   "cell_type": "code",
   "execution_count": 1,
   "id": "7a4e7599",
   "metadata": {
    "execution": {
     "iopub.execute_input": "2025-07-18T10:33:11.658268Z",
     "iopub.status.busy": "2025-07-18T10:33:11.657264Z",
     "iopub.status.idle": "2025-07-18T10:33:18.777218Z",
     "shell.execute_reply": "2025-07-18T10:33:18.777218Z"
    },
    "tags": [
     "remove-input"
    ]
   },
   "outputs": [
    {
     "data": {
      "text/markdown": [
       ">Last modified: 18 Jul 2025"
      ],
      "text/plain": [
       "<IPython.core.display.Markdown object>"
      ]
     },
     "metadata": {},
     "output_type": "display_data"
    }
   ],
   "source": [
    "\n",
    "import sys\n",
    "import os\n",
    "sys.path.append(os.path.abspath('../../../../scripts/'))\n",
    "from data_doc_helper import LPSDataSet as DS, last_modified\n",
    "API_KEY = os.environ['FASTAPI_KEY']\n",
    "ds = DS(\"TEDS\", \"TEDS_21yr_twin_covid_phase3\")\n",
    "last_modified()\n"
   ]
  },
  {
   "cell_type": "markdown",
   "id": "628d5d79",
   "metadata": {},
   "source": [
    "## 1. Summary"
   ]
  },
  {
   "cell_type": "code",
   "execution_count": 2,
   "id": "457cce1b",
   "metadata": {
    "execution": {
     "iopub.execute_input": "2025-07-18T10:33:18.783371Z",
     "iopub.status.busy": "2025-07-18T10:33:18.782373Z",
     "iopub.status.idle": "2025-07-18T10:33:18.794004Z",
     "shell.execute_reply": "2025-07-18T10:33:18.792997Z"
    },
    "tags": [
     "remove-input"
    ]
   },
   "outputs": [
    {
     "data": {
      "text/markdown": [
       "Actively participating twins contactable by email were asked to complete this questionnaire online. The questionnaire length was around 15 minutes on average. The questions included measures adapted from CRISIS. They covered a range of themes including current mental and physical health, and changes brought about by the covid pandemic and lockdown measures."
      ],
      "text/plain": [
       "<IPython.core.display.Markdown object>"
      ]
     },
     "metadata": {},
     "output_type": "display_data"
    }
   ],
   "source": [
    "ds.summary()"
   ]
  },
  {
   "cell_type": "code",
   "execution_count": 3,
   "id": "fa816133",
   "metadata": {
    "execution": {
     "iopub.execute_input": "2025-07-18T10:33:18.800006Z",
     "iopub.status.busy": "2025-07-18T10:33:18.800006Z",
     "iopub.status.idle": "2025-07-18T10:33:20.130170Z",
     "shell.execute_reply": "2025-07-18T10:33:20.127543Z"
    },
    "tags": [
     "remove-input"
    ]
   },
   "outputs": [
    {
     "data": {
      "text/html": [
       "<style type=\"text/css\">\n",
       "#T_ca2a0 th {\n",
       "  text-align: left;\n",
       "}\n",
       "#T_ca2a0_row0_col0, #T_ca2a0_row0_col1, #T_ca2a0_row1_col0, #T_ca2a0_row1_col1, #T_ca2a0_row2_col0, #T_ca2a0_row2_col1, #T_ca2a0_row3_col0, #T_ca2a0_row3_col1, #T_ca2a0_row4_col0, #T_ca2a0_row4_col1, #T_ca2a0_row5_col0, #T_ca2a0_row5_col1, #T_ca2a0_row6_col0, #T_ca2a0_row6_col1, #T_ca2a0_row7_col0, #T_ca2a0_row7_col1, #T_ca2a0_row8_col0, #T_ca2a0_row8_col1, #T_ca2a0_row9_col0, #T_ca2a0_row9_col1, #T_ca2a0_row10_col0, #T_ca2a0_row10_col1, #T_ca2a0_row11_col0, #T_ca2a0_row11_col1, #T_ca2a0_row12_col0, #T_ca2a0_row12_col1 {\n",
       "  text-align: left;\n",
       "}\n",
       "</style>\n",
       "<table id=\"T_ca2a0\" style=\"font-size: 14px\">\n",
       "  <thead>\n",
       "    <tr>\n",
       "      <th id=\"T_ca2a0_level0_col0\" class=\"col_heading level0 col0\" >Dataset Descriptor</th>\n",
       "      <th id=\"T_ca2a0_level0_col1\" class=\"col_heading level0 col1\" >Dataset-specific Information</th>\n",
       "    </tr>\n",
       "  </thead>\n",
       "  <tbody>\n",
       "    <tr>\n",
       "      <td id=\"T_ca2a0_row0_col0\" class=\"data row0 col0\" >Name of Dataset in TRE</td>\n",
       "      <td id=\"T_ca2a0_row0_col1\" class=\"data row0 col1\" >TEDS_TEDS_21yr_twin_covid_phase3</td>\n",
       "    </tr>\n",
       "    <tr>\n",
       "      <td id=\"T_ca2a0_row1_col0\" class=\"data row1 col0\" >Citation (APA)</td>\n",
       "      <td id=\"T_ca2a0_row1_col1\" class=\"data row1 col1\" >King's College London, Institute of Psychiatry, Psychology & Neuroscience, Social, Genetic & Developmental Psychiatry Centre. (2024). <i>Twins Early Development Study (TEDS): Teds 21 Year Twin COVID-19 Phase 3.</i> UK Longitudinal Linkage Collaboration (UK LLC).  <a href=\"https://doi.org/10.83126/ukllc-dataset-00383-01\" rel=\"noopener noreferrer\" target=\"_blank\">https://doi.org/10.83126/ukllc-dataset-00383-01</a></td>\n",
       "    </tr>\n",
       "    <tr>\n",
       "      <td id=\"T_ca2a0_row2_col0\" class=\"data row2 col0\" >Download Citation</td>\n",
       "      <td id=\"T_ca2a0_row2_col1\" class=\"data row2 col1\" > <a href=\"https://api.test.datacite.org/application/vnd.citationstyles.csl+json/10.83126/ukllc-dataset-00383-01\" rel=\"noopener noreferrer\" target=\"_blank\">Citeproc JSON</a>&nbsp;&nbsp;&nbsp;&nbsp; <a href=\"https://api.test.datacite.org/application/x-bibtex/10.83126/ukllc-dataset-00383-01\" rel=\"noopener noreferrer\" target=\"_blank\">BibTeX</a>&nbsp;&nbsp;&nbsp;&nbsp; <a href=\"https://api.test.datacite.org/application/x-research-info-systems/10.83126/ukllc-dataset-00383-01\" rel=\"noopener noreferrer\" target=\"_blank\">RIS</a></td>\n",
       "    </tr>\n",
       "    <tr>\n",
       "      <td id=\"T_ca2a0_row3_col0\" class=\"data row3 col0\" >Series</td>\n",
       "      <td id=\"T_ca2a0_row3_col1\" class=\"data row3 col1\" > <a href=\"https://guidebook.ukllc.ac.uk/docs/lps/lps%20profiles/TEDS\">Twins Early Development Study (TEDS)</a></td>\n",
       "    </tr>\n",
       "    <tr>\n",
       "      <td id=\"T_ca2a0_row4_col0\" class=\"data row4 col0\" >Owner</td>\n",
       "      <td id=\"T_ca2a0_row4_col1\" class=\"data row4 col1\" >King's College London</td>\n",
       "    </tr>\n",
       "    <tr>\n",
       "      <td id=\"T_ca2a0_row5_col0\" class=\"data row5 col0\" >Temporal Coverage</td>\n",
       "      <td id=\"T_ca2a0_row5_col1\" class=\"data row5 col1\" >10/2020 - 11/2020</td>\n",
       "    </tr>\n",
       "    <tr>\n",
       "      <td id=\"T_ca2a0_row6_col0\" class=\"data row6 col0\" >Keywords</td>\n",
       "      <td id=\"T_ca2a0_row6_col1\" class=\"data row6 col1\" ></td>\n",
       "    </tr>\n",
       "    <tr>\n",
       "      <td id=\"T_ca2a0_row7_col0\" class=\"data row7 col0\" >Participants Invited</td>\n",
       "      <td id=\"T_ca2a0_row7_col1\" class=\"data row7 col1\" >8394</td>\n",
       "    </tr>\n",
       "    <tr>\n",
       "      <td id=\"T_ca2a0_row8_col0\" class=\"data row8 col0\" >Participant Count</td>\n",
       "      <td id=\"T_ca2a0_row8_col1\" class=\"data row8 col1\" >3349</td>\n",
       "    </tr>\n",
       "    <tr>\n",
       "      <td id=\"T_ca2a0_row9_col0\" class=\"data row9 col0\" >Number of variables</td>\n",
       "      <td id=\"T_ca2a0_row9_col1\" class=\"data row9 col1\" >229</td>\n",
       "    </tr>\n",
       "    <tr>\n",
       "      <td id=\"T_ca2a0_row10_col0\" class=\"data row10 col0\" >Number of observations</td>\n",
       "      <td id=\"T_ca2a0_row10_col1\" class=\"data row10 col1\" >3349</td>\n",
       "    </tr>\n",
       "    <tr>\n",
       "      <td id=\"T_ca2a0_row11_col0\" class=\"data row11 col0\" >Specific Restrictions to Data Use</td>\n",
       "      <td id=\"T_ca2a0_row11_col1\" class=\"data row11 col1\" >None</td>\n",
       "    </tr>\n",
       "    <tr>\n",
       "      <td id=\"T_ca2a0_row12_col0\" class=\"data row12 col0\" >Build a Data Request</td>\n",
       "      <td id=\"T_ca2a0_row12_col1\" class=\"data row12 col1\" > <a href=\"https://explore.ukllc.ac.uk/\" rel=\"noopener noreferrer\" target=\"_blank\">https://explore.ukllc.ac.uk/</a></td>\n",
       "    </tr>\n",
       "  </tbody>\n",
       "</table>\n"
      ],
      "text/plain": [
       "<pandas.io.formats.style.Styler at 0x12ed1c6ad20>"
      ]
     },
     "execution_count": 3,
     "metadata": {},
     "output_type": "execute_result"
    }
   ],
   "source": [
    "ds.info_table()"
   ]
  },
  {
   "cell_type": "markdown",
   "id": "9897d727",
   "metadata": {},
   "source": [
    "## 2. Version History"
   ]
  },
  {
   "cell_type": "code",
   "execution_count": 4,
   "id": "c1ce05b2",
   "metadata": {
    "execution": {
     "iopub.execute_input": "2025-07-18T10:33:20.136170Z",
     "iopub.status.busy": "2025-07-18T10:33:20.135169Z",
     "iopub.status.idle": "2025-07-18T10:33:22.446370Z",
     "shell.execute_reply": "2025-07-18T10:33:22.444082Z"
    },
    "tags": [
     "remove-input"
    ]
   },
   "outputs": [
    {
     "data": {
      "text/html": [
       "<style type=\"text/css\">\n",
       "#T_0280e th {\n",
       "  text-align: left;\n",
       "}\n",
       "#T_0280e_row0_col0, #T_0280e_row0_col1, #T_0280e_row1_col0, #T_0280e_row1_col1, #T_0280e_row2_col0, #T_0280e_row2_col1, #T_0280e_row3_col0, #T_0280e_row3_col1, #T_0280e_row4_col0, #T_0280e_row4_col1 {\n",
       "  text-align: left;\n",
       "}\n",
       "</style>\n",
       "<table id=\"T_0280e\" style=\"font-size: 14px\">\n",
       "  <thead>\n",
       "    <tr>\n",
       "      <th id=\"T_0280e_level0_col0\" class=\"col_heading level0 col0\" >Version</th>\n",
       "      <th id=\"T_0280e_level0_col1\" class=\"col_heading level0 col1\" >1</th>\n",
       "    </tr>\n",
       "  </thead>\n",
       "  <tbody>\n",
       "    <tr>\n",
       "      <td id=\"T_0280e_row0_col0\" class=\"data row0 col0\" >Version Date</td>\n",
       "      <td id=\"T_0280e_row0_col1\" class=\"data row0 col1\" >17 Sep 2024</td>\n",
       "    </tr>\n",
       "    <tr>\n",
       "      <td id=\"T_0280e_row1_col0\" class=\"data row1 col0\" >Number of Variables</td>\n",
       "      <td id=\"T_0280e_row1_col1\" class=\"data row1 col1\" >229</td>\n",
       "    </tr>\n",
       "    <tr>\n",
       "      <td id=\"T_0280e_row2_col0\" class=\"data row2 col0\" >Number of Observations</td>\n",
       "      <td id=\"T_0280e_row2_col1\" class=\"data row2 col1\" >3349</td>\n",
       "    </tr>\n",
       "    <tr>\n",
       "      <td id=\"T_0280e_row3_col0\" class=\"data row3 col0\" >DOI</td>\n",
       "      <td id=\"T_0280e_row3_col1\" class=\"data row3 col1\" > <a href=\"https://doi.org/10.83126/ukllc-dataset-00383-01\" rel=\"noopener noreferrer\" target=\"_blank\">10.83126/ukllc-dataset-00383-01</a></td>\n",
       "    </tr>\n",
       "    <tr>\n",
       "      <td id=\"T_0280e_row4_col0\" class=\"data row4 col0\" >Change Log</td>\n",
       "      <td id=\"T_0280e_row4_col1\" class=\"data row4 col1\" > <a href=\"https://api.test.datacite.org/dois/10.83126/ukllc-dataset-00383-01/activities\" rel=\"noopener noreferrer\" target=\"_blank\">10.83126/ukllc-dataset-00383-01/activities</a></td>\n",
       "    </tr>\n",
       "  </tbody>\n",
       "</table>\n"
      ],
      "text/plain": [
       "<pandas.io.formats.style.Styler at 0x12ed3b6ca10>"
      ]
     },
     "execution_count": 4,
     "metadata": {},
     "output_type": "execute_result"
    }
   ],
   "source": [
    "ds.version_history()"
   ]
  },
  {
   "cell_type": "markdown",
   "id": "67fae0a5",
   "metadata": {},
   "source": [
    "## 3. Documentation"
   ]
  },
  {
   "cell_type": "code",
   "execution_count": 5,
   "id": "bd815173",
   "metadata": {
    "execution": {
     "iopub.execute_input": "2025-07-18T10:33:22.452363Z",
     "iopub.status.busy": "2025-07-18T10:33:22.452363Z",
     "iopub.status.idle": "2025-07-18T10:33:22.460356Z",
     "shell.execute_reply": "2025-07-18T10:33:22.460356Z"
    },
    "tags": [
     "remove-input"
    ]
   },
   "outputs": [
    {
     "data": {
      "text/markdown": [
       "We are currently building a documentation storage system which will host useful documents related to datasets and data owners. We will surface these documents on Guidebook."
      ],
      "text/plain": [
       "<IPython.core.display.Markdown object>"
      ]
     },
     "metadata": {},
     "output_type": "display_data"
    }
   ],
   "source": [
    "ds.documentation()"
   ]
  },
  {
   "cell_type": "markdown",
   "id": "b91fd532",
   "metadata": {},
   "source": [
    "## 4. Useful Syntax"
   ]
  },
  {
   "cell_type": "code",
   "execution_count": 6,
   "id": "34e6f262",
   "metadata": {
    "execution": {
     "iopub.execute_input": "2025-07-18T10:33:22.465863Z",
     "iopub.status.busy": "2025-07-18T10:33:22.464865Z",
     "iopub.status.idle": "2025-07-18T10:33:22.475813Z",
     "shell.execute_reply": "2025-07-18T10:33:22.473807Z"
    },
    "tags": [
     "remove-input"
    ]
   },
   "outputs": [
    {
     "data": {
      "text/markdown": [
       "Below we will include syntax that may be helpful to other researchers in the UK LLC TRE. For longer scripts, we will include a snippet of the code plus a link to Git where you can find the full scripts."
      ],
      "text/plain": [
       "<IPython.core.display.Markdown object>"
      ]
     },
     "metadata": {},
     "output_type": "display_data"
    }
   ],
   "source": [
    "ds.useful_syntax()"
   ]
  }
 ],
 "metadata": {
  "language_info": {
   "codemirror_mode": {
    "name": "ipython",
    "version": 3
   },
   "file_extension": ".py",
   "mimetype": "text/x-python",
   "name": "python",
   "nbconvert_exporter": "python",
   "pygments_lexer": "ipython3",
   "version": "3.12.7"
  }
 },
 "nbformat": 4,
 "nbformat_minor": 5
}
