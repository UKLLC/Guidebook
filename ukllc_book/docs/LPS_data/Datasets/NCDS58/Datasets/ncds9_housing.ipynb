{
 "cells": [
  {
   "cell_type": "markdown",
   "id": "2430d8ab",
   "metadata": {},
   "source": [
    "# sweep 9 housing (NCDS58)"
   ]
  },
  {
   "cell_type": "code",
   "execution_count": 1,
   "id": "f7a41df6",
   "metadata": {
    "execution": {
     "iopub.execute_input": "2025-07-28T19:52:32.632675Z",
     "iopub.status.busy": "2025-07-28T19:52:32.632675Z",
     "iopub.status.idle": "2025-07-28T19:52:45.829425Z",
     "shell.execute_reply": "2025-07-28T19:52:45.827149Z"
    },
    "tags": [
     "remove-input"
    ]
   },
   "outputs": [
    {
     "data": {
      "text/markdown": [
       ">Last modified: 28 Jul 2025"
      ],
      "text/plain": [
       "<IPython.core.display.Markdown object>"
      ]
     },
     "metadata": {},
     "output_type": "display_data"
    }
   ],
   "source": [
    "\n",
    "import sys\n",
    "import os\n",
    "sys.path.append(os.path.abspath('../../../../scripts/'))\n",
    "from data_doc_helper import LPSDataSet as DS, last_modified\n",
    "API_KEY = os.environ['FASTAPI_KEY']\n",
    "ds = DS(\"NCDS58\", \"ncds9_housing\")\n",
    "last_modified()\n"
   ]
  },
  {
   "cell_type": "markdown",
   "id": "55f2a612",
   "metadata": {},
   "source": [
    "## 1. Summary"
   ]
  },
  {
   "cell_type": "code",
   "execution_count": 2,
   "id": "c1909b44",
   "metadata": {
    "execution": {
     "iopub.execute_input": "2025-07-28T19:52:45.840001Z",
     "iopub.status.busy": "2025-07-28T19:52:45.837454Z",
     "iopub.status.idle": "2025-07-28T19:52:45.852458Z",
     "shell.execute_reply": "2025-07-28T19:52:45.850981Z"
    },
    "tags": [
     "remove-input"
    ]
   },
   "outputs": [
    {
     "data": {
      "text/markdown": [
       "This is the data on the housing of the Cohort Members from sweep 9 (2013, age 55) with information about each of housing spell of each of the Cohort Member. The data are long and the IDs are the NCDSID and the N9HOMEID."
      ],
      "text/plain": [
       "<IPython.core.display.Markdown object>"
      ]
     },
     "metadata": {},
     "output_type": "display_data"
    }
   ],
   "source": [
    "ds.summary()"
   ]
  },
  {
   "cell_type": "code",
   "execution_count": 3,
   "id": "e40f2e01",
   "metadata": {
    "execution": {
     "iopub.execute_input": "2025-07-28T19:52:45.860137Z",
     "iopub.status.busy": "2025-07-28T19:52:45.859138Z",
     "iopub.status.idle": "2025-07-28T19:52:47.498973Z",
     "shell.execute_reply": "2025-07-28T19:52:47.497438Z"
    },
    "tags": [
     "remove-input"
    ]
   },
   "outputs": [
    {
     "data": {
      "text/html": [
       "<style type=\"text/css\">\n",
       "#T_afa0a th {\n",
       "  text-align: left;\n",
       "}\n",
       "#T_afa0a_row0_col0, #T_afa0a_row0_col1, #T_afa0a_row1_col0, #T_afa0a_row1_col1, #T_afa0a_row2_col0, #T_afa0a_row2_col1, #T_afa0a_row3_col0, #T_afa0a_row3_col1, #T_afa0a_row4_col0, #T_afa0a_row4_col1, #T_afa0a_row5_col0, #T_afa0a_row5_col1, #T_afa0a_row6_col0, #T_afa0a_row6_col1, #T_afa0a_row7_col0, #T_afa0a_row7_col1, #T_afa0a_row8_col0, #T_afa0a_row8_col1, #T_afa0a_row9_col0, #T_afa0a_row9_col1, #T_afa0a_row10_col0, #T_afa0a_row10_col1, #T_afa0a_row11_col0, #T_afa0a_row11_col1, #T_afa0a_row12_col0, #T_afa0a_row12_col1 {\n",
       "  text-align: left;\n",
       "}\n",
       "</style>\n",
       "<table id=\"T_afa0a\" style=\"font-size: 14px\">\n",
       "  <thead>\n",
       "    <tr>\n",
       "      <th id=\"T_afa0a_level0_col0\" class=\"col_heading level0 col0\" >Dataset Descriptor</th>\n",
       "      <th id=\"T_afa0a_level0_col1\" class=\"col_heading level0 col1\" >Dataset-specific Information</th>\n",
       "    </tr>\n",
       "  </thead>\n",
       "  <tbody>\n",
       "    <tr>\n",
       "      <td id=\"T_afa0a_row0_col0\" class=\"data row0 col0\" >Name of Dataset in TRE</td>\n",
       "      <td id=\"T_afa0a_row0_col1\" class=\"data row0 col1\" >NCDS58_ncds9_housing</td>\n",
       "    </tr>\n",
       "    <tr>\n",
       "      <td id=\"T_afa0a_row1_col0\" class=\"data row1 col0\" >Citation (APA)</td>\n",
       "      <td id=\"T_afa0a_row1_col1\" class=\"data row1 col1\" >University College London, UCL Social Research Institute, Centre for Longitudinal Studies. (2021). <i>1958 National Child Development Study (NCDS): sweep 9 housing.</i> UK Longitudinal Linkage Collaboration (UK LLC).  <a href=\"https://doi.org/10.71760/ukllc-dataset-00250-01\" rel=\"noopener noreferrer\" target=\"_blank\">https://doi.org/10.71760/ukllc-dataset-00250-01</a></td>\n",
       "    </tr>\n",
       "    <tr>\n",
       "      <td id=\"T_afa0a_row2_col0\" class=\"data row2 col0\" >Download Citation</td>\n",
       "      <td id=\"T_afa0a_row2_col1\" class=\"data row2 col1\" > <a href=\"https://api.datacite.org/application/vnd.citationstyles.csl+json/10.71760/ukllc-dataset-00250-01\" rel=\"noopener noreferrer\" target=\"_blank\">Citeproc JSON</a>&nbsp;&nbsp;&nbsp;&nbsp; <a href=\"https://api.datacite.org/application/x-bibtex/10.71760/ukllc-dataset-00250-01\" rel=\"noopener noreferrer\" target=\"_blank\">BibTeX</a>&nbsp;&nbsp;&nbsp;&nbsp; <a href=\"https://api.datacite.org/application/x-research-info-systems/10.71760/ukllc-dataset-00250-01\" rel=\"noopener noreferrer\" target=\"_blank\">RIS</a></td>\n",
       "    </tr>\n",
       "    <tr>\n",
       "      <td id=\"T_afa0a_row3_col0\" class=\"data row3 col0\" >Series</td>\n",
       "      <td id=\"T_afa0a_row3_col1\" class=\"data row3 col1\" > <a href=\"https://guidebook.ukllc.ac.uk/docs/lps_data/lps%20profiles/NCDS58\">1958 National Child Development Study (NCDS)</a></td>\n",
       "    </tr>\n",
       "    <tr>\n",
       "      <td id=\"T_afa0a_row4_col0\" class=\"data row4 col0\" >Owner</td>\n",
       "      <td id=\"T_afa0a_row4_col1\" class=\"data row4 col1\" >UCL</td>\n",
       "    </tr>\n",
       "    <tr>\n",
       "      <td id=\"T_afa0a_row5_col0\" class=\"data row5 col0\" >Temporal Coverage</td>\n",
       "      <td id=\"T_afa0a_row5_col1\" class=\"data row5 col1\" >09/2013 - 03/2014</td>\n",
       "    </tr>\n",
       "    <tr>\n",
       "      <td id=\"T_afa0a_row6_col0\" class=\"data row6 col0\" >Keywords</td>\n",
       "      <td id=\"T_afa0a_row6_col1\" class=\"data row6 col1\" >House-move dates,Reasons,Fixed addresses</td>\n",
       "    </tr>\n",
       "    <tr>\n",
       "      <td id=\"T_afa0a_row7_col0\" class=\"data row7 col0\" >Participants Invited</td>\n",
       "      <td id=\"T_afa0a_row7_col1\" class=\"data row7 col1\" >9137</td>\n",
       "    </tr>\n",
       "    <tr>\n",
       "      <td id=\"T_afa0a_row8_col0\" class=\"data row8 col0\" >Participant Count</td>\n",
       "      <td id=\"T_afa0a_row8_col1\" class=\"data row8 col1\" >1434</td>\n",
       "    </tr>\n",
       "    <tr>\n",
       "      <td id=\"T_afa0a_row9_col0\" class=\"data row9 col0\" >Number of variables</td>\n",
       "      <td id=\"T_afa0a_row9_col1\" class=\"data row9 col1\" >9</td>\n",
       "    </tr>\n",
       "    <tr>\n",
       "      <td id=\"T_afa0a_row10_col0\" class=\"data row10 col0\" >Number of observations</td>\n",
       "      <td id=\"T_afa0a_row10_col1\" class=\"data row10 col1\" >2489</td>\n",
       "    </tr>\n",
       "    <tr>\n",
       "      <td id=\"T_afa0a_row11_col0\" class=\"data row11 col0\" >Specific Restrictions to Data Use</td>\n",
       "      <td id=\"T_afa0a_row11_col1\" class=\"data row11 col1\" >None</td>\n",
       "    </tr>\n",
       "    <tr>\n",
       "      <td id=\"T_afa0a_row12_col0\" class=\"data row12 col0\" >Build a Data Request</td>\n",
       "      <td id=\"T_afa0a_row12_col1\" class=\"data row12 col1\" > <a href=\"https://explore.ukllc.ac.uk/\" rel=\"noopener noreferrer\" target=\"_blank\">https://explore.ukllc.ac.uk/</a></td>\n",
       "    </tr>\n",
       "  </tbody>\n",
       "</table>\n"
      ],
      "text/plain": [
       "<pandas.io.formats.style.Styler at 0x18bc9678590>"
      ]
     },
     "execution_count": 3,
     "metadata": {},
     "output_type": "execute_result"
    }
   ],
   "source": [
    "ds.info_table()"
   ]
  },
  {
   "cell_type": "markdown",
   "id": "4732ee1e",
   "metadata": {},
   "source": [
    "## 2. Version History"
   ]
  },
  {
   "cell_type": "code",
   "execution_count": 4,
   "id": "32a22f8e",
   "metadata": {
    "execution": {
     "iopub.execute_input": "2025-07-28T19:52:47.507973Z",
     "iopub.status.busy": "2025-07-28T19:52:47.506991Z",
     "iopub.status.idle": "2025-07-28T19:52:52.933146Z",
     "shell.execute_reply": "2025-07-28T19:52:52.931614Z"
    },
    "tags": [
     "remove-input"
    ]
   },
   "outputs": [
    {
     "data": {
      "text/html": [
       "<style type=\"text/css\">\n",
       "#T_1e05d th {\n",
       "  text-align: left;\n",
       "}\n",
       "#T_1e05d_row0_col0, #T_1e05d_row0_col1, #T_1e05d_row1_col0, #T_1e05d_row1_col1, #T_1e05d_row2_col0, #T_1e05d_row2_col1, #T_1e05d_row3_col0, #T_1e05d_row3_col1, #T_1e05d_row4_col0, #T_1e05d_row4_col1 {\n",
       "  text-align: left;\n",
       "}\n",
       "</style>\n",
       "<table id=\"T_1e05d\" style=\"font-size: 14px\">\n",
       "  <thead>\n",
       "    <tr>\n",
       "      <th id=\"T_1e05d_level0_col0\" class=\"col_heading level0 col0\" >Version</th>\n",
       "      <th id=\"T_1e05d_level0_col1\" class=\"col_heading level0 col1\" >1</th>\n",
       "    </tr>\n",
       "  </thead>\n",
       "  <tbody>\n",
       "    <tr>\n",
       "      <td id=\"T_1e05d_row0_col0\" class=\"data row0 col0\" >Version Date</td>\n",
       "      <td id=\"T_1e05d_row0_col1\" class=\"data row0 col1\" >01 Nov 2021</td>\n",
       "    </tr>\n",
       "    <tr>\n",
       "      <td id=\"T_1e05d_row1_col0\" class=\"data row1 col0\" >Number of Variables</td>\n",
       "      <td id=\"T_1e05d_row1_col1\" class=\"data row1 col1\" >18</td>\n",
       "    </tr>\n",
       "    <tr>\n",
       "      <td id=\"T_1e05d_row2_col0\" class=\"data row2 col0\" >Number of Observations</td>\n",
       "      <td id=\"T_1e05d_row2_col1\" class=\"data row2 col1\" >2489</td>\n",
       "    </tr>\n",
       "    <tr>\n",
       "      <td id=\"T_1e05d_row3_col0\" class=\"data row3 col0\" >DOI</td>\n",
       "      <td id=\"T_1e05d_row3_col1\" class=\"data row3 col1\" > <a href=\"https://doi.org/10.71760/ukllc-dataset-00250-01\" rel=\"noopener noreferrer\" target=\"_blank\">10.71760/ukllc-dataset-00250-01</a></td>\n",
       "    </tr>\n",
       "    <tr>\n",
       "      <td id=\"T_1e05d_row4_col0\" class=\"data row4 col0\" >Change Log</td>\n",
       "      <td id=\"T_1e05d_row4_col1\" class=\"data row4 col1\" > <a href=\"https://api.test.datacite.org/dois/10.71760/ukllc-dataset-00250-01/activities\" rel=\"noopener noreferrer\" target=\"_blank\">10.71760/ukllc-dataset-00250-01/activities</a></td>\n",
       "    </tr>\n",
       "  </tbody>\n",
       "</table>\n"
      ],
      "text/plain": [
       "<pandas.io.formats.style.Styler at 0x18bcb4007d0>"
      ]
     },
     "execution_count": 4,
     "metadata": {},
     "output_type": "execute_result"
    }
   ],
   "source": [
    "ds.version_history()"
   ]
  },
  {
   "cell_type": "markdown",
   "id": "2d9e347a",
   "metadata": {},
   "source": [
    "## 3. Documentation"
   ]
  },
  {
   "cell_type": "code",
   "execution_count": 5,
   "id": "16114ede",
   "metadata": {
    "execution": {
     "iopub.execute_input": "2025-07-28T19:52:52.943166Z",
     "iopub.status.busy": "2025-07-28T19:52:52.942146Z",
     "iopub.status.idle": "2025-07-28T19:52:52.954218Z",
     "shell.execute_reply": "2025-07-28T19:52:52.952564Z"
    },
    "tags": [
     "remove-input"
    ]
   },
   "outputs": [
    {
     "data": {
      "text/markdown": [
       "We are currently building a documentation storage system which will host useful documents related to datasets and data owners. We will surface these documents on Guidebook."
      ],
      "text/plain": [
       "<IPython.core.display.Markdown object>"
      ]
     },
     "metadata": {},
     "output_type": "display_data"
    }
   ],
   "source": [
    "ds.documentation()"
   ]
  },
  {
   "cell_type": "markdown",
   "id": "e9a62a44",
   "metadata": {},
   "source": [
    "## 4. Useful Syntax"
   ]
  },
  {
   "cell_type": "code",
   "execution_count": 6,
   "id": "710b4a93",
   "metadata": {
    "execution": {
     "iopub.execute_input": "2025-07-28T19:52:52.959483Z",
     "iopub.status.busy": "2025-07-28T19:52:52.959483Z",
     "iopub.status.idle": "2025-07-28T19:52:52.970696Z",
     "shell.execute_reply": "2025-07-28T19:52:52.969640Z"
    },
    "tags": [
     "remove-input"
    ]
   },
   "outputs": [
    {
     "data": {
      "text/markdown": [
       "Below we will include syntax that may be helpful to other researchers in the UK LLC TRE. For longer scripts, we will include a snippet of the code plus a link to Git where you can find the full scripts."
      ],
      "text/plain": [
       "<IPython.core.display.Markdown object>"
      ]
     },
     "metadata": {},
     "output_type": "display_data"
    }
   ],
   "source": [
    "ds.useful_syntax()"
   ]
  }
 ],
 "metadata": {
  "language_info": {
   "codemirror_mode": {
    "name": "ipython",
    "version": 3
   },
   "file_extension": ".py",
   "mimetype": "text/x-python",
   "name": "python",
   "nbconvert_exporter": "python",
   "pygments_lexer": "ipython3",
   "version": "3.12.7"
  }
 },
 "nbformat": 4,
 "nbformat_minor": 5
}
