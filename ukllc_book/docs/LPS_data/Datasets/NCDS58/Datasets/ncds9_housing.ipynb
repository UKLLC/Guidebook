{
 "cells": [
  {
   "cell_type": "markdown",
   "id": "2430d8ab",
   "metadata": {},
   "source": [
    "# sweep 9 housing (NCDS58)"
   ]
  },
  {
   "cell_type": "code",
   "execution_count": 1,
   "id": "f7a41df6",
   "metadata": {
    "execution": {
     "iopub.execute_input": "2025-07-18T10:10:08.519054Z",
     "iopub.status.busy": "2025-07-18T10:10:08.519054Z",
     "iopub.status.idle": "2025-07-18T10:10:15.451885Z",
     "shell.execute_reply": "2025-07-18T10:10:15.449875Z"
    },
    "tags": [
     "remove-input"
    ]
   },
   "outputs": [
    {
     "data": {
      "text/markdown": [
       ">Last modified: 18 Jul 2025"
      ],
      "text/plain": [
       "<IPython.core.display.Markdown object>"
      ]
     },
     "metadata": {},
     "output_type": "display_data"
    }
   ],
   "source": [
    "\n",
    "import sys\n",
    "import os\n",
    "sys.path.append(os.path.abspath('../../../../scripts/'))\n",
    "from data_doc_helper import LPSDataSet as DS, last_modified\n",
    "API_KEY = os.environ['FASTAPI_KEY']\n",
    "ds = DS(\"NCDS58\", \"ncds9_housing\")\n",
    "last_modified()\n"
   ]
  },
  {
   "cell_type": "markdown",
   "id": "55f2a612",
   "metadata": {},
   "source": [
    "## 1. Summary"
   ]
  },
  {
   "cell_type": "code",
   "execution_count": 2,
   "id": "c1909b44",
   "metadata": {
    "execution": {
     "iopub.execute_input": "2025-07-18T10:10:15.459882Z",
     "iopub.status.busy": "2025-07-18T10:10:15.458882Z",
     "iopub.status.idle": "2025-07-18T10:10:15.468398Z",
     "shell.execute_reply": "2025-07-18T10:10:15.466885Z"
    },
    "tags": [
     "remove-input"
    ]
   },
   "outputs": [
    {
     "data": {
      "text/markdown": [
       "This is the data on the housing of the Cohort Members from sweep 9 (2013, age 55) with information about each of housing spell of each of the Cohort Member. The data are long and the IDs are the NCDSID and the N9HOMEID."
      ],
      "text/plain": [
       "<IPython.core.display.Markdown object>"
      ]
     },
     "metadata": {},
     "output_type": "display_data"
    }
   ],
   "source": [
    "ds.summary()"
   ]
  },
  {
   "cell_type": "code",
   "execution_count": 3,
   "id": "e40f2e01",
   "metadata": {
    "execution": {
     "iopub.execute_input": "2025-07-18T10:10:15.472430Z",
     "iopub.status.busy": "2025-07-18T10:10:15.472430Z",
     "iopub.status.idle": "2025-07-18T10:10:16.483557Z",
     "shell.execute_reply": "2025-07-18T10:10:16.481722Z"
    },
    "tags": [
     "remove-input"
    ]
   },
   "outputs": [
    {
     "data": {
      "text/html": [
       "<style type=\"text/css\">\n",
       "#T_95937 th {\n",
       "  text-align: left;\n",
       "}\n",
       "#T_95937_row0_col0, #T_95937_row0_col1, #T_95937_row1_col0, #T_95937_row1_col1, #T_95937_row2_col0, #T_95937_row2_col1, #T_95937_row3_col0, #T_95937_row3_col1, #T_95937_row4_col0, #T_95937_row4_col1, #T_95937_row5_col0, #T_95937_row5_col1, #T_95937_row6_col0, #T_95937_row6_col1, #T_95937_row7_col0, #T_95937_row7_col1, #T_95937_row8_col0, #T_95937_row8_col1, #T_95937_row9_col0, #T_95937_row9_col1, #T_95937_row10_col0, #T_95937_row10_col1, #T_95937_row11_col0, #T_95937_row11_col1, #T_95937_row12_col0, #T_95937_row12_col1 {\n",
       "  text-align: left;\n",
       "}\n",
       "</style>\n",
       "<table id=\"T_95937\" style=\"font-size: 14px\">\n",
       "  <thead>\n",
       "    <tr>\n",
       "      <th id=\"T_95937_level0_col0\" class=\"col_heading level0 col0\" >Dataset Descriptor</th>\n",
       "      <th id=\"T_95937_level0_col1\" class=\"col_heading level0 col1\" >Dataset-specific Information</th>\n",
       "    </tr>\n",
       "  </thead>\n",
       "  <tbody>\n",
       "    <tr>\n",
       "      <td id=\"T_95937_row0_col0\" class=\"data row0 col0\" >Name of Dataset in TRE</td>\n",
       "      <td id=\"T_95937_row0_col1\" class=\"data row0 col1\" >NCDS58_ncds9_housing</td>\n",
       "    </tr>\n",
       "    <tr>\n",
       "      <td id=\"T_95937_row1_col0\" class=\"data row1 col0\" >Citation (APA)</td>\n",
       "      <td id=\"T_95937_row1_col1\" class=\"data row1 col1\" >University College London, UCL Social Research Institute, Centre for Longitudinal Studies. (2021). <i>1958 National Child Development Study (NCDS): sweep 9 housing.</i> UK Longitudinal Linkage Collaboration (UK LLC).  <a href=\"https://doi.org/10.83126/ukllc-dataset-00323-01\" rel=\"noopener noreferrer\" target=\"_blank\">https://doi.org/10.83126/ukllc-dataset-00323-01</a></td>\n",
       "    </tr>\n",
       "    <tr>\n",
       "      <td id=\"T_95937_row2_col0\" class=\"data row2 col0\" >Download Citation</td>\n",
       "      <td id=\"T_95937_row2_col1\" class=\"data row2 col1\" > <a href=\"https://api.test.datacite.org/application/vnd.citationstyles.csl+json/10.83126/ukllc-dataset-00323-01\" rel=\"noopener noreferrer\" target=\"_blank\">Citeproc JSON</a>&nbsp;&nbsp;&nbsp;&nbsp; <a href=\"https://api.test.datacite.org/application/x-bibtex/10.83126/ukllc-dataset-00323-01\" rel=\"noopener noreferrer\" target=\"_blank\">BibTeX</a>&nbsp;&nbsp;&nbsp;&nbsp; <a href=\"https://api.test.datacite.org/application/x-research-info-systems/10.83126/ukllc-dataset-00323-01\" rel=\"noopener noreferrer\" target=\"_blank\">RIS</a></td>\n",
       "    </tr>\n",
       "    <tr>\n",
       "      <td id=\"T_95937_row3_col0\" class=\"data row3 col0\" >Series</td>\n",
       "      <td id=\"T_95937_row3_col1\" class=\"data row3 col1\" > <a href=\"https://guidebook.ukllc.ac.uk/docs/lps/lps%20profiles/NCDS58\">1958 National Child Development Study (NCDS)</a></td>\n",
       "    </tr>\n",
       "    <tr>\n",
       "      <td id=\"T_95937_row4_col0\" class=\"data row4 col0\" >Owner</td>\n",
       "      <td id=\"T_95937_row4_col1\" class=\"data row4 col1\" >UCL</td>\n",
       "    </tr>\n",
       "    <tr>\n",
       "      <td id=\"T_95937_row5_col0\" class=\"data row5 col0\" >Temporal Coverage</td>\n",
       "      <td id=\"T_95937_row5_col1\" class=\"data row5 col1\" >09/2013 - 03/2014</td>\n",
       "    </tr>\n",
       "    <tr>\n",
       "      <td id=\"T_95937_row6_col0\" class=\"data row6 col0\" >Keywords</td>\n",
       "      <td id=\"T_95937_row6_col1\" class=\"data row6 col1\" >House-move dates,Reasons,Fixed addresses</td>\n",
       "    </tr>\n",
       "    <tr>\n",
       "      <td id=\"T_95937_row7_col0\" class=\"data row7 col0\" >Participants Invited</td>\n",
       "      <td id=\"T_95937_row7_col1\" class=\"data row7 col1\" >9137</td>\n",
       "    </tr>\n",
       "    <tr>\n",
       "      <td id=\"T_95937_row8_col0\" class=\"data row8 col0\" >Participant Count</td>\n",
       "      <td id=\"T_95937_row8_col1\" class=\"data row8 col1\" >1434</td>\n",
       "    </tr>\n",
       "    <tr>\n",
       "      <td id=\"T_95937_row9_col0\" class=\"data row9 col0\" >Number of variables</td>\n",
       "      <td id=\"T_95937_row9_col1\" class=\"data row9 col1\" >9</td>\n",
       "    </tr>\n",
       "    <tr>\n",
       "      <td id=\"T_95937_row10_col0\" class=\"data row10 col0\" >Number of observations</td>\n",
       "      <td id=\"T_95937_row10_col1\" class=\"data row10 col1\" >2489</td>\n",
       "    </tr>\n",
       "    <tr>\n",
       "      <td id=\"T_95937_row11_col0\" class=\"data row11 col0\" >Specific Restrictions to Data Use</td>\n",
       "      <td id=\"T_95937_row11_col1\" class=\"data row11 col1\" >None</td>\n",
       "    </tr>\n",
       "    <tr>\n",
       "      <td id=\"T_95937_row12_col0\" class=\"data row12 col0\" >Build a Data Request</td>\n",
       "      <td id=\"T_95937_row12_col1\" class=\"data row12 col1\" > <a href=\"https://explore.ukllc.ac.uk/\" rel=\"noopener noreferrer\" target=\"_blank\">https://explore.ukllc.ac.uk/</a></td>\n",
       "    </tr>\n",
       "  </tbody>\n",
       "</table>\n"
      ],
      "text/plain": [
       "<pandas.io.formats.style.Styler at 0x25b68e4c740>"
      ]
     },
     "execution_count": 3,
     "metadata": {},
     "output_type": "execute_result"
    }
   ],
   "source": [
    "ds.info_table()"
   ]
  },
  {
   "cell_type": "markdown",
   "id": "4732ee1e",
   "metadata": {},
   "source": [
    "## 2. Version History"
   ]
  },
  {
   "cell_type": "code",
   "execution_count": 4,
   "id": "32a22f8e",
   "metadata": {
    "execution": {
     "iopub.execute_input": "2025-07-18T10:10:16.489555Z",
     "iopub.status.busy": "2025-07-18T10:10:16.488556Z",
     "iopub.status.idle": "2025-07-18T10:10:19.484140Z",
     "shell.execute_reply": "2025-07-18T10:10:19.482134Z"
    },
    "tags": [
     "remove-input"
    ]
   },
   "outputs": [
    {
     "data": {
      "text/html": [
       "<style type=\"text/css\">\n",
       "#T_ddc4c th {\n",
       "  text-align: left;\n",
       "}\n",
       "#T_ddc4c_row0_col0, #T_ddc4c_row0_col1, #T_ddc4c_row1_col0, #T_ddc4c_row1_col1, #T_ddc4c_row2_col0, #T_ddc4c_row2_col1, #T_ddc4c_row3_col0, #T_ddc4c_row3_col1, #T_ddc4c_row4_col0, #T_ddc4c_row4_col1 {\n",
       "  text-align: left;\n",
       "}\n",
       "</style>\n",
       "<table id=\"T_ddc4c\" style=\"font-size: 14px\">\n",
       "  <thead>\n",
       "    <tr>\n",
       "      <th id=\"T_ddc4c_level0_col0\" class=\"col_heading level0 col0\" >Version</th>\n",
       "      <th id=\"T_ddc4c_level0_col1\" class=\"col_heading level0 col1\" >1</th>\n",
       "    </tr>\n",
       "  </thead>\n",
       "  <tbody>\n",
       "    <tr>\n",
       "      <td id=\"T_ddc4c_row0_col0\" class=\"data row0 col0\" >Version Date</td>\n",
       "      <td id=\"T_ddc4c_row0_col1\" class=\"data row0 col1\" >01 Nov 2021</td>\n",
       "    </tr>\n",
       "    <tr>\n",
       "      <td id=\"T_ddc4c_row1_col0\" class=\"data row1 col0\" >Number of Variables</td>\n",
       "      <td id=\"T_ddc4c_row1_col1\" class=\"data row1 col1\" >18</td>\n",
       "    </tr>\n",
       "    <tr>\n",
       "      <td id=\"T_ddc4c_row2_col0\" class=\"data row2 col0\" >Number of Observations</td>\n",
       "      <td id=\"T_ddc4c_row2_col1\" class=\"data row2 col1\" >2489</td>\n",
       "    </tr>\n",
       "    <tr>\n",
       "      <td id=\"T_ddc4c_row3_col0\" class=\"data row3 col0\" >DOI</td>\n",
       "      <td id=\"T_ddc4c_row3_col1\" class=\"data row3 col1\" > <a href=\"https://doi.org/10.83126/ukllc-dataset-00323-01\" rel=\"noopener noreferrer\" target=\"_blank\">10.83126/ukllc-dataset-00323-01</a></td>\n",
       "    </tr>\n",
       "    <tr>\n",
       "      <td id=\"T_ddc4c_row4_col0\" class=\"data row4 col0\" >Change Log</td>\n",
       "      <td id=\"T_ddc4c_row4_col1\" class=\"data row4 col1\" > <a href=\"https://api.test.datacite.org/dois/10.83126/ukllc-dataset-00323-01/activities\" rel=\"noopener noreferrer\" target=\"_blank\">10.83126/ukllc-dataset-00323-01/activities</a></td>\n",
       "    </tr>\n",
       "  </tbody>\n",
       "</table>\n"
      ],
      "text/plain": [
       "<pandas.io.formats.style.Styler at 0x25b6eaaf5c0>"
      ]
     },
     "execution_count": 4,
     "metadata": {},
     "output_type": "execute_result"
    }
   ],
   "source": [
    "ds.version_history()"
   ]
  },
  {
   "cell_type": "markdown",
   "id": "2d9e347a",
   "metadata": {},
   "source": [
    "## 3. Documentation"
   ]
  },
  {
   "cell_type": "code",
   "execution_count": 5,
   "id": "16114ede",
   "metadata": {
    "execution": {
     "iopub.execute_input": "2025-07-18T10:10:19.490140Z",
     "iopub.status.busy": "2025-07-18T10:10:19.490140Z",
     "iopub.status.idle": "2025-07-18T10:10:19.499243Z",
     "shell.execute_reply": "2025-07-18T10:10:19.498175Z"
    },
    "tags": [
     "remove-input"
    ]
   },
   "outputs": [
    {
     "data": {
      "text/markdown": [
       "We are currently building a documentation storage system which will host useful documents related to datasets and data owners. We will surface these documents on Guidebook."
      ],
      "text/plain": [
       "<IPython.core.display.Markdown object>"
      ]
     },
     "metadata": {},
     "output_type": "display_data"
    }
   ],
   "source": [
    "ds.documentation()"
   ]
  },
  {
   "cell_type": "markdown",
   "id": "e9a62a44",
   "metadata": {},
   "source": [
    "## 4. Useful Syntax"
   ]
  },
  {
   "cell_type": "code",
   "execution_count": 6,
   "id": "710b4a93",
   "metadata": {
    "execution": {
     "iopub.execute_input": "2025-07-18T10:10:19.503258Z",
     "iopub.status.busy": "2025-07-18T10:10:19.503258Z",
     "iopub.status.idle": "2025-07-18T10:10:19.511579Z",
     "shell.execute_reply": "2025-07-18T10:10:19.510175Z"
    },
    "tags": [
     "remove-input"
    ]
   },
   "outputs": [
    {
     "data": {
      "text/markdown": [
       "Below we will include syntax that may be helpful to other researchers in the UK LLC TRE. For longer scripts, we will include a snippet of the code plus a link to Git where you can find the full scripts."
      ],
      "text/plain": [
       "<IPython.core.display.Markdown object>"
      ]
     },
     "metadata": {},
     "output_type": "display_data"
    }
   ],
   "source": [
    "ds.useful_syntax()"
   ]
  }
 ],
 "metadata": {
  "language_info": {
   "codemirror_mode": {
    "name": "ipython",
    "version": 3
   },
   "file_extension": ".py",
   "mimetype": "text/x-python",
   "name": "python",
   "nbconvert_exporter": "python",
   "pygments_lexer": "ipython3",
   "version": "3.12.7"
  }
 },
 "nbformat": 4,
 "nbformat_minor": 5
}
