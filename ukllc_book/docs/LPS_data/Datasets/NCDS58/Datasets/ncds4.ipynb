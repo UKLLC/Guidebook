{
 "cells": [
  {
   "cell_type": "markdown",
   "id": "a0b6b3f0",
   "metadata": {},
   "source": [
    "# sweep 4 main survey (NCDS58)"
   ]
  },
  {
   "cell_type": "code",
   "execution_count": 1,
   "id": "16357484",
   "metadata": {
    "execution": {
     "iopub.execute_input": "2025-07-18T10:07:01.800479Z",
     "iopub.status.busy": "2025-07-18T10:07:01.800479Z",
     "iopub.status.idle": "2025-07-18T10:07:08.645851Z",
     "shell.execute_reply": "2025-07-18T10:07:08.643845Z"
    },
    "tags": [
     "remove-input"
    ]
   },
   "outputs": [
    {
     "data": {
      "text/markdown": [
       ">Last modified: 18 Jul 2025"
      ],
      "text/plain": [
       "<IPython.core.display.Markdown object>"
      ]
     },
     "metadata": {},
     "output_type": "display_data"
    }
   ],
   "source": [
    "\n",
    "import sys\n",
    "import os\n",
    "sys.path.append(os.path.abspath('../../../../scripts/'))\n",
    "from data_doc_helper import LPSDataSet as DS, last_modified\n",
    "API_KEY = os.environ['FASTAPI_KEY']\n",
    "ds = DS(\"NCDS58\", \"ncds4\")\n",
    "last_modified()\n"
   ]
  },
  {
   "cell_type": "markdown",
   "id": "7c7ee717",
   "metadata": {},
   "source": [
    "## 1. Summary"
   ]
  },
  {
   "cell_type": "code",
   "execution_count": 2,
   "id": "b698975f",
   "metadata": {
    "execution": {
     "iopub.execute_input": "2025-07-18T10:07:08.653852Z",
     "iopub.status.busy": "2025-07-18T10:07:08.652853Z",
     "iopub.status.idle": "2025-07-18T10:07:08.660395Z",
     "shell.execute_reply": "2025-07-18T10:07:08.659306Z"
    },
    "tags": [
     "remove-input"
    ]
   },
   "outputs": [
    {
     "data": {
      "text/markdown": [
       "Data from sweep 4 (1981) at age 23. The data are flat (1-row-per-Cohort-Member) on the NCDSID. The file contains information about the Cohort Member's health, employment and economic circumstances and household members among others."
      ],
      "text/plain": [
       "<IPython.core.display.Markdown object>"
      ]
     },
     "metadata": {},
     "output_type": "display_data"
    }
   ],
   "source": [
    "ds.summary()"
   ]
  },
  {
   "cell_type": "code",
   "execution_count": 3,
   "id": "d0e69a2c",
   "metadata": {
    "execution": {
     "iopub.execute_input": "2025-07-18T10:07:08.664396Z",
     "iopub.status.busy": "2025-07-18T10:07:08.664396Z",
     "iopub.status.idle": "2025-07-18T10:07:10.957943Z",
     "shell.execute_reply": "2025-07-18T10:07:10.955937Z"
    },
    "tags": [
     "remove-input"
    ]
   },
   "outputs": [
    {
     "data": {
      "text/html": [
       "<style type=\"text/css\">\n",
       "#T_07160 th {\n",
       "  text-align: left;\n",
       "}\n",
       "#T_07160_row0_col0, #T_07160_row0_col1, #T_07160_row1_col0, #T_07160_row1_col1, #T_07160_row2_col0, #T_07160_row2_col1, #T_07160_row3_col0, #T_07160_row3_col1, #T_07160_row4_col0, #T_07160_row4_col1, #T_07160_row5_col0, #T_07160_row5_col1, #T_07160_row6_col0, #T_07160_row6_col1, #T_07160_row7_col0, #T_07160_row7_col1, #T_07160_row8_col0, #T_07160_row8_col1, #T_07160_row9_col0, #T_07160_row9_col1, #T_07160_row10_col0, #T_07160_row10_col1, #T_07160_row11_col0, #T_07160_row11_col1, #T_07160_row12_col0, #T_07160_row12_col1 {\n",
       "  text-align: left;\n",
       "}\n",
       "</style>\n",
       "<table id=\"T_07160\" style=\"font-size: 14px\">\n",
       "  <thead>\n",
       "    <tr>\n",
       "      <th id=\"T_07160_level0_col0\" class=\"col_heading level0 col0\" >Dataset Descriptor</th>\n",
       "      <th id=\"T_07160_level0_col1\" class=\"col_heading level0 col1\" >Dataset-specific Information</th>\n",
       "    </tr>\n",
       "  </thead>\n",
       "  <tbody>\n",
       "    <tr>\n",
       "      <td id=\"T_07160_row0_col0\" class=\"data row0 col0\" >Name of Dataset in TRE</td>\n",
       "      <td id=\"T_07160_row0_col1\" class=\"data row0 col1\" >NCDS58_ncds4</td>\n",
       "    </tr>\n",
       "    <tr>\n",
       "      <td id=\"T_07160_row1_col0\" class=\"data row1 col0\" >Citation (APA)</td>\n",
       "      <td id=\"T_07160_row1_col1\" class=\"data row1 col1\" >University College London, UCL Social Research Institute, Centre for Longitudinal Studies. (2021). <i>1958 National Child Development Study (NCDS): sweep 4 main survey.</i> UK Longitudinal Linkage Collaboration (UK LLC).  <a href=\"https://doi.org/10.83126/ukllc-dataset-00312-01\" rel=\"noopener noreferrer\" target=\"_blank\">https://doi.org/10.83126/ukllc-dataset-00312-01</a></td>\n",
       "    </tr>\n",
       "    <tr>\n",
       "      <td id=\"T_07160_row2_col0\" class=\"data row2 col0\" >Download Citation</td>\n",
       "      <td id=\"T_07160_row2_col1\" class=\"data row2 col1\" > <a href=\"https://api.test.datacite.org/application/vnd.citationstyles.csl+json/10.83126/ukllc-dataset-00312-01\" rel=\"noopener noreferrer\" target=\"_blank\">Citeproc JSON</a>&nbsp;&nbsp;&nbsp;&nbsp; <a href=\"https://api.test.datacite.org/application/x-bibtex/10.83126/ukllc-dataset-00312-01\" rel=\"noopener noreferrer\" target=\"_blank\">BibTeX</a>&nbsp;&nbsp;&nbsp;&nbsp; <a href=\"https://api.test.datacite.org/application/x-research-info-systems/10.83126/ukllc-dataset-00312-01\" rel=\"noopener noreferrer\" target=\"_blank\">RIS</a></td>\n",
       "    </tr>\n",
       "    <tr>\n",
       "      <td id=\"T_07160_row3_col0\" class=\"data row3 col0\" >Series</td>\n",
       "      <td id=\"T_07160_row3_col1\" class=\"data row3 col1\" > <a href=\"https://guidebook.ukllc.ac.uk/docs/lps/lps%20profiles/NCDS58\">1958 National Child Development Study (NCDS)</a></td>\n",
       "    </tr>\n",
       "    <tr>\n",
       "      <td id=\"T_07160_row4_col0\" class=\"data row4 col0\" >Owner</td>\n",
       "      <td id=\"T_07160_row4_col1\" class=\"data row4 col1\" >UCL</td>\n",
       "    </tr>\n",
       "    <tr>\n",
       "      <td id=\"T_07160_row5_col0\" class=\"data row5 col0\" >Temporal Coverage</td>\n",
       "      <td id=\"T_07160_row5_col1\" class=\"data row5 col1\" >08/1981 - 03/1982</td>\n",
       "    </tr>\n",
       "    <tr>\n",
       "      <td id=\"T_07160_row6_col0\" class=\"data row6 col0\" >Keywords</td>\n",
       "      <td id=\"T_07160_row6_col1\" class=\"data row6 col1\" >Health,Education,Employment,Partnerships,Attitudes,Parenthood</td>\n",
       "    </tr>\n",
       "    <tr>\n",
       "      <td id=\"T_07160_row7_col0\" class=\"data row7 col0\" >Participants Invited</td>\n",
       "      <td id=\"T_07160_row7_col1\" class=\"data row7 col1\" >12537</td>\n",
       "    </tr>\n",
       "    <tr>\n",
       "      <td id=\"T_07160_row8_col0\" class=\"data row8 col0\" >Participant Count</td>\n",
       "      <td id=\"T_07160_row8_col1\" class=\"data row8 col1\" >7617</td>\n",
       "    </tr>\n",
       "    <tr>\n",
       "      <td id=\"T_07160_row9_col0\" class=\"data row9 col0\" >Number of variables</td>\n",
       "      <td id=\"T_07160_row9_col1\" class=\"data row9 col1\" >1475</td>\n",
       "    </tr>\n",
       "    <tr>\n",
       "      <td id=\"T_07160_row10_col0\" class=\"data row10 col0\" >Number of observations</td>\n",
       "      <td id=\"T_07160_row10_col1\" class=\"data row10 col1\" >12537</td>\n",
       "    </tr>\n",
       "    <tr>\n",
       "      <td id=\"T_07160_row11_col0\" class=\"data row11 col0\" >Specific Restrictions to Data Use</td>\n",
       "      <td id=\"T_07160_row11_col1\" class=\"data row11 col1\" >None</td>\n",
       "    </tr>\n",
       "    <tr>\n",
       "      <td id=\"T_07160_row12_col0\" class=\"data row12 col0\" >Build a Data Request</td>\n",
       "      <td id=\"T_07160_row12_col1\" class=\"data row12 col1\" > <a href=\"https://explore.ukllc.ac.uk/\" rel=\"noopener noreferrer\" target=\"_blank\">https://explore.ukllc.ac.uk/</a></td>\n",
       "    </tr>\n",
       "  </tbody>\n",
       "</table>\n"
      ],
      "text/plain": [
       "<pandas.io.formats.style.Styler at 0x2cf3a4e4c50>"
      ]
     },
     "execution_count": 3,
     "metadata": {},
     "output_type": "execute_result"
    }
   ],
   "source": [
    "ds.info_table()"
   ]
  },
  {
   "cell_type": "markdown",
   "id": "48583e35",
   "metadata": {},
   "source": [
    "## 2. Version History"
   ]
  },
  {
   "cell_type": "code",
   "execution_count": 4,
   "id": "f9b69809",
   "metadata": {
    "execution": {
     "iopub.execute_input": "2025-07-18T10:07:10.963944Z",
     "iopub.status.busy": "2025-07-18T10:07:10.962943Z",
     "iopub.status.idle": "2025-07-18T10:07:14.048828Z",
     "shell.execute_reply": "2025-07-18T10:07:14.047815Z"
    },
    "tags": [
     "remove-input"
    ]
   },
   "outputs": [
    {
     "data": {
      "text/html": [
       "<style type=\"text/css\">\n",
       "#T_f263f th {\n",
       "  text-align: left;\n",
       "}\n",
       "#T_f263f_row0_col0, #T_f263f_row0_col1, #T_f263f_row1_col0, #T_f263f_row1_col1, #T_f263f_row2_col0, #T_f263f_row2_col1, #T_f263f_row3_col0, #T_f263f_row3_col1, #T_f263f_row4_col0, #T_f263f_row4_col1 {\n",
       "  text-align: left;\n",
       "}\n",
       "</style>\n",
       "<table id=\"T_f263f\" style=\"font-size: 14px\">\n",
       "  <thead>\n",
       "    <tr>\n",
       "      <th id=\"T_f263f_level0_col0\" class=\"col_heading level0 col0\" >Version</th>\n",
       "      <th id=\"T_f263f_level0_col1\" class=\"col_heading level0 col1\" >1</th>\n",
       "    </tr>\n",
       "  </thead>\n",
       "  <tbody>\n",
       "    <tr>\n",
       "      <td id=\"T_f263f_row0_col0\" class=\"data row0 col0\" >Version Date</td>\n",
       "      <td id=\"T_f263f_row0_col1\" class=\"data row0 col1\" >01 Nov 2021</td>\n",
       "    </tr>\n",
       "    <tr>\n",
       "      <td id=\"T_f263f_row1_col0\" class=\"data row1 col0\" >Number of Variables</td>\n",
       "      <td id=\"T_f263f_row1_col1\" class=\"data row1 col1\" >2378</td>\n",
       "    </tr>\n",
       "    <tr>\n",
       "      <td id=\"T_f263f_row2_col0\" class=\"data row2 col0\" >Number of Observations</td>\n",
       "      <td id=\"T_f263f_row2_col1\" class=\"data row2 col1\" >12537</td>\n",
       "    </tr>\n",
       "    <tr>\n",
       "      <td id=\"T_f263f_row3_col0\" class=\"data row3 col0\" >DOI</td>\n",
       "      <td id=\"T_f263f_row3_col1\" class=\"data row3 col1\" > <a href=\"https://doi.org/10.83126/ukllc-dataset-00312-01\" rel=\"noopener noreferrer\" target=\"_blank\">10.83126/ukllc-dataset-00312-01</a></td>\n",
       "    </tr>\n",
       "    <tr>\n",
       "      <td id=\"T_f263f_row4_col0\" class=\"data row4 col0\" >Change Log</td>\n",
       "      <td id=\"T_f263f_row4_col1\" class=\"data row4 col1\" > <a href=\"https://api.test.datacite.org/dois/10.83126/ukllc-dataset-00312-01/activities\" rel=\"noopener noreferrer\" target=\"_blank\">10.83126/ukllc-dataset-00312-01/activities</a></td>\n",
       "    </tr>\n",
       "  </tbody>\n",
       "</table>\n"
      ],
      "text/plain": [
       "<pandas.io.formats.style.Styler at 0x2cf3bdc68d0>"
      ]
     },
     "execution_count": 4,
     "metadata": {},
     "output_type": "execute_result"
    }
   ],
   "source": [
    "ds.version_history()"
   ]
  },
  {
   "cell_type": "markdown",
   "id": "8c28ad69",
   "metadata": {},
   "source": [
    "## 3. Documentation"
   ]
  },
  {
   "cell_type": "code",
   "execution_count": 5,
   "id": "b018588b",
   "metadata": {
    "execution": {
     "iopub.execute_input": "2025-07-18T10:07:14.054823Z",
     "iopub.status.busy": "2025-07-18T10:07:14.054823Z",
     "iopub.status.idle": "2025-07-18T10:07:14.062330Z",
     "shell.execute_reply": "2025-07-18T10:07:14.061822Z"
    },
    "tags": [
     "remove-input"
    ]
   },
   "outputs": [
    {
     "data": {
      "text/markdown": [
       "We are currently building a documentation storage system which will host useful documents related to datasets and data owners. We will surface these documents on Guidebook."
      ],
      "text/plain": [
       "<IPython.core.display.Markdown object>"
      ]
     },
     "metadata": {},
     "output_type": "display_data"
    }
   ],
   "source": [
    "ds.documentation()"
   ]
  },
  {
   "cell_type": "markdown",
   "id": "650f6830",
   "metadata": {},
   "source": [
    "## 4. Useful Syntax"
   ]
  },
  {
   "cell_type": "code",
   "execution_count": 6,
   "id": "87161631",
   "metadata": {
    "execution": {
     "iopub.execute_input": "2025-07-18T10:07:14.068337Z",
     "iopub.status.busy": "2025-07-18T10:07:14.068337Z",
     "iopub.status.idle": "2025-07-18T10:07:14.075450Z",
     "shell.execute_reply": "2025-07-18T10:07:14.074443Z"
    },
    "tags": [
     "remove-input"
    ]
   },
   "outputs": [
    {
     "data": {
      "text/markdown": [
       "Below we will include syntax that may be helpful to other researchers in the UK LLC TRE. For longer scripts, we will include a snippet of the code plus a link to Git where you can find the full scripts."
      ],
      "text/plain": [
       "<IPython.core.display.Markdown object>"
      ]
     },
     "metadata": {},
     "output_type": "display_data"
    }
   ],
   "source": [
    "ds.useful_syntax()"
   ]
  }
 ],
 "metadata": {
  "language_info": {
   "codemirror_mode": {
    "name": "ipython",
    "version": 3
   },
   "file_extension": ".py",
   "mimetype": "text/x-python",
   "name": "python",
   "nbconvert_exporter": "python",
   "pygments_lexer": "ipython3",
   "version": "3.12.7"
  }
 },
 "nbformat": 4,
 "nbformat_minor": 5
}
