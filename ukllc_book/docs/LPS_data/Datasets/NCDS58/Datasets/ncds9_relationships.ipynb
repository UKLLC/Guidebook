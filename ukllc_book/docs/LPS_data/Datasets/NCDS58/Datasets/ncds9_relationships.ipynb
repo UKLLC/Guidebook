{
 "cells": [
  {
   "cell_type": "markdown",
   "id": "6c2b2a24",
   "metadata": {},
   "source": [
    "# sweep 9 relationships (NCDS58)"
   ]
  },
  {
   "cell_type": "code",
   "execution_count": 1,
   "id": "addb057c",
   "metadata": {
    "execution": {
     "iopub.execute_input": "2025-07-28T19:53:42.250823Z",
     "iopub.status.busy": "2025-07-28T19:53:42.249820Z",
     "iopub.status.idle": "2025-07-28T19:53:54.314580Z",
     "shell.execute_reply": "2025-07-28T19:53:54.312564Z"
    },
    "tags": [
     "remove-input"
    ]
   },
   "outputs": [
    {
     "data": {
      "text/markdown": [
       ">Last modified: 28 Jul 2025"
      ],
      "text/plain": [
       "<IPython.core.display.Markdown object>"
      ]
     },
     "metadata": {},
     "output_type": "display_data"
    }
   ],
   "source": [
    "\n",
    "import sys\n",
    "import os\n",
    "sys.path.append(os.path.abspath('../../../../scripts/'))\n",
    "from data_doc_helper import LPSDataSet as DS, last_modified\n",
    "API_KEY = os.environ['FASTAPI_KEY']\n",
    "ds = DS(\"NCDS58\", \"ncds9_relationships\")\n",
    "last_modified()\n"
   ]
  },
  {
   "cell_type": "markdown",
   "id": "d8cc5e2b",
   "metadata": {},
   "source": [
    "## 1. Summary"
   ]
  },
  {
   "cell_type": "code",
   "execution_count": 2,
   "id": "10ab763c",
   "metadata": {
    "execution": {
     "iopub.execute_input": "2025-07-28T19:53:54.324130Z",
     "iopub.status.busy": "2025-07-28T19:53:54.323131Z",
     "iopub.status.idle": "2025-07-28T19:53:54.335624Z",
     "shell.execute_reply": "2025-07-28T19:53:54.334131Z"
    },
    "tags": [
     "remove-input"
    ]
   },
   "outputs": [
    {
     "data": {
      "text/markdown": [
       "This is the data on the relationships of the Cohort Members from sweep 9 (2013, age 55) with information about each of the relationship's partner demographics, relationship outcome and dates. The data are long and the IDs are the NCDSID and the N9RELID."
      ],
      "text/plain": [
       "<IPython.core.display.Markdown object>"
      ]
     },
     "metadata": {},
     "output_type": "display_data"
    }
   ],
   "source": [
    "ds.summary()"
   ]
  },
  {
   "cell_type": "code",
   "execution_count": 3,
   "id": "e98ffe8a",
   "metadata": {
    "execution": {
     "iopub.execute_input": "2025-07-28T19:53:54.352840Z",
     "iopub.status.busy": "2025-07-28T19:53:54.349617Z",
     "iopub.status.idle": "2025-07-28T19:53:56.098184Z",
     "shell.execute_reply": "2025-07-28T19:53:56.096164Z"
    },
    "tags": [
     "remove-input"
    ]
   },
   "outputs": [
    {
     "data": {
      "text/html": [
       "<style type=\"text/css\">\n",
       "#T_fc473 th {\n",
       "  text-align: left;\n",
       "}\n",
       "#T_fc473_row0_col0, #T_fc473_row0_col1, #T_fc473_row1_col0, #T_fc473_row1_col1, #T_fc473_row2_col0, #T_fc473_row2_col1, #T_fc473_row3_col0, #T_fc473_row3_col1, #T_fc473_row4_col0, #T_fc473_row4_col1, #T_fc473_row5_col0, #T_fc473_row5_col1, #T_fc473_row6_col0, #T_fc473_row6_col1, #T_fc473_row7_col0, #T_fc473_row7_col1, #T_fc473_row8_col0, #T_fc473_row8_col1, #T_fc473_row9_col0, #T_fc473_row9_col1, #T_fc473_row10_col0, #T_fc473_row10_col1, #T_fc473_row11_col0, #T_fc473_row11_col1, #T_fc473_row12_col0, #T_fc473_row12_col1 {\n",
       "  text-align: left;\n",
       "}\n",
       "</style>\n",
       "<table id=\"T_fc473\" style=\"font-size: 14px\">\n",
       "  <thead>\n",
       "    <tr>\n",
       "      <th id=\"T_fc473_level0_col0\" class=\"col_heading level0 col0\" >Dataset Descriptor</th>\n",
       "      <th id=\"T_fc473_level0_col1\" class=\"col_heading level0 col1\" >Dataset-specific Information</th>\n",
       "    </tr>\n",
       "  </thead>\n",
       "  <tbody>\n",
       "    <tr>\n",
       "      <td id=\"T_fc473_row0_col0\" class=\"data row0 col0\" >Name of Dataset in TRE</td>\n",
       "      <td id=\"T_fc473_row0_col1\" class=\"data row0 col1\" >NCDS58_ncds9_relationships</td>\n",
       "    </tr>\n",
       "    <tr>\n",
       "      <td id=\"T_fc473_row1_col0\" class=\"data row1 col0\" >Citation (APA)</td>\n",
       "      <td id=\"T_fc473_row1_col1\" class=\"data row1 col1\" >University College London, UCL Social Research Institute, Centre for Longitudinal Studies. (2021). <i>1958 National Child Development Study (NCDS): sweep 9 relationships.</i> UK Longitudinal Linkage Collaboration (UK LLC).  <a href=\"https://doi.org/10.71760/ukllc-dataset-00253-01\" rel=\"noopener noreferrer\" target=\"_blank\">https://doi.org/10.71760/ukllc-dataset-00253-01</a></td>\n",
       "    </tr>\n",
       "    <tr>\n",
       "      <td id=\"T_fc473_row2_col0\" class=\"data row2 col0\" >Download Citation</td>\n",
       "      <td id=\"T_fc473_row2_col1\" class=\"data row2 col1\" > <a href=\"https://api.datacite.org/application/vnd.citationstyles.csl+json/10.71760/ukllc-dataset-00253-01\" rel=\"noopener noreferrer\" target=\"_blank\">Citeproc JSON</a>&nbsp;&nbsp;&nbsp;&nbsp; <a href=\"https://api.datacite.org/application/x-bibtex/10.71760/ukllc-dataset-00253-01\" rel=\"noopener noreferrer\" target=\"_blank\">BibTeX</a>&nbsp;&nbsp;&nbsp;&nbsp; <a href=\"https://api.datacite.org/application/x-research-info-systems/10.71760/ukllc-dataset-00253-01\" rel=\"noopener noreferrer\" target=\"_blank\">RIS</a></td>\n",
       "    </tr>\n",
       "    <tr>\n",
       "      <td id=\"T_fc473_row3_col0\" class=\"data row3 col0\" >Series</td>\n",
       "      <td id=\"T_fc473_row3_col1\" class=\"data row3 col1\" > <a href=\"https://guidebook.ukllc.ac.uk/docs/lps_data/lps%20profiles/NCDS58\">1958 National Child Development Study (NCDS)</a></td>\n",
       "    </tr>\n",
       "    <tr>\n",
       "      <td id=\"T_fc473_row4_col0\" class=\"data row4 col0\" >Owner</td>\n",
       "      <td id=\"T_fc473_row4_col1\" class=\"data row4 col1\" >UCL</td>\n",
       "    </tr>\n",
       "    <tr>\n",
       "      <td id=\"T_fc473_row5_col0\" class=\"data row5 col0\" >Temporal Coverage</td>\n",
       "      <td id=\"T_fc473_row5_col1\" class=\"data row5 col1\" >09/2013 - 03/2014</td>\n",
       "    </tr>\n",
       "    <tr>\n",
       "      <td id=\"T_fc473_row6_col0\" class=\"data row6 col0\" >Keywords</td>\n",
       "      <td id=\"T_fc473_row6_col1\" class=\"data row6 col1\" >Marriage,Dates,Cohabitation,Divorce</td>\n",
       "    </tr>\n",
       "    <tr>\n",
       "      <td id=\"T_fc473_row7_col0\" class=\"data row7 col0\" >Participants Invited</td>\n",
       "      <td id=\"T_fc473_row7_col1\" class=\"data row7 col1\" >9137</td>\n",
       "    </tr>\n",
       "    <tr>\n",
       "      <td id=\"T_fc473_row8_col0\" class=\"data row8 col0\" >Participant Count</td>\n",
       "      <td id=\"T_fc473_row8_col1\" class=\"data row8 col1\" >7778</td>\n",
       "    </tr>\n",
       "    <tr>\n",
       "      <td id=\"T_fc473_row9_col0\" class=\"data row9 col0\" >Number of variables</td>\n",
       "      <td id=\"T_fc473_row9_col1\" class=\"data row9 col1\" >22</td>\n",
       "    </tr>\n",
       "    <tr>\n",
       "      <td id=\"T_fc473_row10_col0\" class=\"data row10 col0\" >Number of observations</td>\n",
       "      <td id=\"T_fc473_row10_col1\" class=\"data row10 col1\" >9804</td>\n",
       "    </tr>\n",
       "    <tr>\n",
       "      <td id=\"T_fc473_row11_col0\" class=\"data row11 col0\" >Specific Restrictions to Data Use</td>\n",
       "      <td id=\"T_fc473_row11_col1\" class=\"data row11 col1\" >None</td>\n",
       "    </tr>\n",
       "    <tr>\n",
       "      <td id=\"T_fc473_row12_col0\" class=\"data row12 col0\" >Build a Data Request</td>\n",
       "      <td id=\"T_fc473_row12_col1\" class=\"data row12 col1\" > <a href=\"https://explore.ukllc.ac.uk/\" rel=\"noopener noreferrer\" target=\"_blank\">https://explore.ukllc.ac.uk/</a></td>\n",
       "    </tr>\n",
       "  </tbody>\n",
       "</table>\n"
      ],
      "text/plain": [
       "<pandas.io.formats.style.Styler at 0x2045ae9bfb0>"
      ]
     },
     "execution_count": 3,
     "metadata": {},
     "output_type": "execute_result"
    }
   ],
   "source": [
    "ds.info_table()"
   ]
  },
  {
   "cell_type": "markdown",
   "id": "53b08040",
   "metadata": {},
   "source": [
    "## 2. Version History"
   ]
  },
  {
   "cell_type": "code",
   "execution_count": 4,
   "id": "a8a8be78",
   "metadata": {
    "execution": {
     "iopub.execute_input": "2025-07-28T19:53:56.107181Z",
     "iopub.status.busy": "2025-07-28T19:53:56.106181Z",
     "iopub.status.idle": "2025-07-28T19:54:01.600874Z",
     "shell.execute_reply": "2025-07-28T19:54:01.598855Z"
    },
    "tags": [
     "remove-input"
    ]
   },
   "outputs": [
    {
     "data": {
      "text/html": [
       "<style type=\"text/css\">\n",
       "#T_6d511 th {\n",
       "  text-align: left;\n",
       "}\n",
       "#T_6d511_row0_col0, #T_6d511_row0_col1, #T_6d511_row1_col0, #T_6d511_row1_col1, #T_6d511_row2_col0, #T_6d511_row2_col1, #T_6d511_row3_col0, #T_6d511_row3_col1, #T_6d511_row4_col0, #T_6d511_row4_col1 {\n",
       "  text-align: left;\n",
       "}\n",
       "</style>\n",
       "<table id=\"T_6d511\" style=\"font-size: 14px\">\n",
       "  <thead>\n",
       "    <tr>\n",
       "      <th id=\"T_6d511_level0_col0\" class=\"col_heading level0 col0\" >Version</th>\n",
       "      <th id=\"T_6d511_level0_col1\" class=\"col_heading level0 col1\" >1</th>\n",
       "    </tr>\n",
       "  </thead>\n",
       "  <tbody>\n",
       "    <tr>\n",
       "      <td id=\"T_6d511_row0_col0\" class=\"data row0 col0\" >Version Date</td>\n",
       "      <td id=\"T_6d511_row0_col1\" class=\"data row0 col1\" >01 Nov 2021</td>\n",
       "    </tr>\n",
       "    <tr>\n",
       "      <td id=\"T_6d511_row1_col0\" class=\"data row1 col0\" >Number of Variables</td>\n",
       "      <td id=\"T_6d511_row1_col1\" class=\"data row1 col1\" >44</td>\n",
       "    </tr>\n",
       "    <tr>\n",
       "      <td id=\"T_6d511_row2_col0\" class=\"data row2 col0\" >Number of Observations</td>\n",
       "      <td id=\"T_6d511_row2_col1\" class=\"data row2 col1\" >9804</td>\n",
       "    </tr>\n",
       "    <tr>\n",
       "      <td id=\"T_6d511_row3_col0\" class=\"data row3 col0\" >DOI</td>\n",
       "      <td id=\"T_6d511_row3_col1\" class=\"data row3 col1\" > <a href=\"https://doi.org/10.71760/ukllc-dataset-00253-01\" rel=\"noopener noreferrer\" target=\"_blank\">10.71760/ukllc-dataset-00253-01</a></td>\n",
       "    </tr>\n",
       "    <tr>\n",
       "      <td id=\"T_6d511_row4_col0\" class=\"data row4 col0\" >Change Log</td>\n",
       "      <td id=\"T_6d511_row4_col1\" class=\"data row4 col1\" > <a href=\"https://api.test.datacite.org/dois/10.71760/ukllc-dataset-00253-01/activities\" rel=\"noopener noreferrer\" target=\"_blank\">10.71760/ukllc-dataset-00253-01/activities</a></td>\n",
       "    </tr>\n",
       "  </tbody>\n",
       "</table>\n"
      ],
      "text/plain": [
       "<pandas.io.formats.style.Styler at 0x2045cbaf590>"
      ]
     },
     "execution_count": 4,
     "metadata": {},
     "output_type": "execute_result"
    }
   ],
   "source": [
    "ds.version_history()"
   ]
  },
  {
   "cell_type": "markdown",
   "id": "0b7b4c2b",
   "metadata": {},
   "source": [
    "## 3. Documentation"
   ]
  },
  {
   "cell_type": "code",
   "execution_count": 5,
   "id": "469d21b2",
   "metadata": {
    "execution": {
     "iopub.execute_input": "2025-07-28T19:54:01.609405Z",
     "iopub.status.busy": "2025-07-28T19:54:01.609405Z",
     "iopub.status.idle": "2025-07-28T19:54:01.631307Z",
     "shell.execute_reply": "2025-07-28T19:54:01.629288Z"
    },
    "tags": [
     "remove-input"
    ]
   },
   "outputs": [
    {
     "data": {
      "text/markdown": [
       "We are currently building a documentation storage system which will host useful documents related to datasets and data owners. We will surface these documents on Guidebook."
      ],
      "text/plain": [
       "<IPython.core.display.Markdown object>"
      ]
     },
     "metadata": {},
     "output_type": "display_data"
    }
   ],
   "source": [
    "ds.documentation()"
   ]
  },
  {
   "cell_type": "markdown",
   "id": "b49835b2",
   "metadata": {},
   "source": [
    "## 4. Useful Syntax"
   ]
  },
  {
   "cell_type": "code",
   "execution_count": 6,
   "id": "37671a20",
   "metadata": {
    "execution": {
     "iopub.execute_input": "2025-07-28T19:54:01.637282Z",
     "iopub.status.busy": "2025-07-28T19:54:01.636288Z",
     "iopub.status.idle": "2025-07-28T19:54:01.646851Z",
     "shell.execute_reply": "2025-07-28T19:54:01.646346Z"
    },
    "tags": [
     "remove-input"
    ]
   },
   "outputs": [
    {
     "data": {
      "text/markdown": [
       "Below we will include syntax that may be helpful to other researchers in the UK LLC TRE. For longer scripts, we will include a snippet of the code plus a link to Git where you can find the full scripts."
      ],
      "text/plain": [
       "<IPython.core.display.Markdown object>"
      ]
     },
     "metadata": {},
     "output_type": "display_data"
    }
   ],
   "source": [
    "ds.useful_syntax()"
   ]
  }
 ],
 "metadata": {
  "language_info": {
   "codemirror_mode": {
    "name": "ipython",
    "version": 3
   },
   "file_extension": ".py",
   "mimetype": "text/x-python",
   "name": "python",
   "nbconvert_exporter": "python",
   "pygments_lexer": "ipython3",
   "version": "3.12.7"
  }
 },
 "nbformat": 4,
 "nbformat_minor": 5
}
