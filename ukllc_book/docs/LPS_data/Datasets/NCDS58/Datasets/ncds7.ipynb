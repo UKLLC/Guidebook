{
 "cells": [
  {
   "cell_type": "markdown",
   "id": "61316c71",
   "metadata": {},
   "source": [
    "# sweep 7 main survey (NCDS58)"
   ]
  },
  {
   "cell_type": "code",
   "execution_count": 1,
   "id": "eb5d21ae",
   "metadata": {
    "execution": {
     "iopub.execute_input": "2025-07-28T19:49:59.642453Z",
     "iopub.status.busy": "2025-07-28T19:49:59.642453Z",
     "iopub.status.idle": "2025-07-28T19:50:12.360586Z",
     "shell.execute_reply": "2025-07-28T19:50:12.355564Z"
    },
    "tags": [
     "remove-input"
    ]
   },
   "outputs": [
    {
     "data": {
      "text/markdown": [
       ">Last modified: 28 Jul 2025"
      ],
      "text/plain": [
       "<IPython.core.display.Markdown object>"
      ]
     },
     "metadata": {},
     "output_type": "display_data"
    }
   ],
   "source": [
    "\n",
    "import sys\n",
    "import os\n",
    "sys.path.append(os.path.abspath('../../../../scripts/'))\n",
    "from data_doc_helper import LPSDataSet as DS, last_modified\n",
    "API_KEY = os.environ['FASTAPI_KEY']\n",
    "ds = DS(\"NCDS58\", \"ncds7\")\n",
    "last_modified()\n"
   ]
  },
  {
   "cell_type": "markdown",
   "id": "e4139171",
   "metadata": {},
   "source": [
    "## 1. Summary"
   ]
  },
  {
   "cell_type": "code",
   "execution_count": 2,
   "id": "36b274c1",
   "metadata": {
    "execution": {
     "iopub.execute_input": "2025-07-28T19:50:12.373608Z",
     "iopub.status.busy": "2025-07-28T19:50:12.372606Z",
     "iopub.status.idle": "2025-07-28T19:50:12.386145Z",
     "shell.execute_reply": "2025-07-28T19:50:12.384613Z"
    },
    "tags": [
     "remove-input"
    ]
   },
   "outputs": [
    {
     "data": {
      "text/markdown": [
       "Data from sweep 7 (2004, age 46). The data file is flat (1-row-per-Cohort-Member) on the NCDSID. The file contains information about the Cohort Member's household members, children, derived information, employment, education/qualifications, health and everyday life among others."
      ],
      "text/plain": [
       "<IPython.core.display.Markdown object>"
      ]
     },
     "metadata": {},
     "output_type": "display_data"
    }
   ],
   "source": [
    "ds.summary()"
   ]
  },
  {
   "cell_type": "code",
   "execution_count": 3,
   "id": "1d049d4e",
   "metadata": {
    "execution": {
     "iopub.execute_input": "2025-07-28T19:50:12.393674Z",
     "iopub.status.busy": "2025-07-28T19:50:12.393674Z",
     "iopub.status.idle": "2025-07-28T19:50:17.735890Z",
     "shell.execute_reply": "2025-07-28T19:50:17.734879Z"
    },
    "tags": [
     "remove-input"
    ]
   },
   "outputs": [
    {
     "data": {
      "text/html": [
       "<style type=\"text/css\">\n",
       "#T_24779 th {\n",
       "  text-align: left;\n",
       "}\n",
       "#T_24779_row0_col0, #T_24779_row0_col1, #T_24779_row1_col0, #T_24779_row1_col1, #T_24779_row2_col0, #T_24779_row2_col1, #T_24779_row3_col0, #T_24779_row3_col1, #T_24779_row4_col0, #T_24779_row4_col1, #T_24779_row5_col0, #T_24779_row5_col1, #T_24779_row6_col0, #T_24779_row6_col1, #T_24779_row7_col0, #T_24779_row7_col1, #T_24779_row8_col0, #T_24779_row8_col1, #T_24779_row9_col0, #T_24779_row9_col1, #T_24779_row10_col0, #T_24779_row10_col1, #T_24779_row11_col0, #T_24779_row11_col1, #T_24779_row12_col0, #T_24779_row12_col1 {\n",
       "  text-align: left;\n",
       "}\n",
       "</style>\n",
       "<table id=\"T_24779\" style=\"font-size: 14px\">\n",
       "  <thead>\n",
       "    <tr>\n",
       "      <th id=\"T_24779_level0_col0\" class=\"col_heading level0 col0\" >Dataset Descriptor</th>\n",
       "      <th id=\"T_24779_level0_col1\" class=\"col_heading level0 col1\" >Dataset-specific Information</th>\n",
       "    </tr>\n",
       "  </thead>\n",
       "  <tbody>\n",
       "    <tr>\n",
       "      <td id=\"T_24779_row0_col0\" class=\"data row0 col0\" >Name of Dataset in TRE</td>\n",
       "      <td id=\"T_24779_row0_col1\" class=\"data row0 col1\" >NCDS58_ncds7</td>\n",
       "    </tr>\n",
       "    <tr>\n",
       "      <td id=\"T_24779_row1_col0\" class=\"data row1 col0\" >Citation (APA)</td>\n",
       "      <td id=\"T_24779_row1_col1\" class=\"data row1 col1\" >University College London, UCL Social Research Institute, Centre for Longitudinal Studies. (2021). <i>1958 National Child Development Study (NCDS): sweep 7 main survey.</i> UK Longitudinal Linkage Collaboration (UK LLC).  <a href=\"https://doi.org/10.71760/ukllc-dataset-00245-01\" rel=\"noopener noreferrer\" target=\"_blank\">https://doi.org/10.71760/ukllc-dataset-00245-01</a></td>\n",
       "    </tr>\n",
       "    <tr>\n",
       "      <td id=\"T_24779_row2_col0\" class=\"data row2 col0\" >Download Citation</td>\n",
       "      <td id=\"T_24779_row2_col1\" class=\"data row2 col1\" > <a href=\"https://api.datacite.org/application/vnd.citationstyles.csl+json/10.71760/ukllc-dataset-00245-01\" rel=\"noopener noreferrer\" target=\"_blank\">Citeproc JSON</a>&nbsp;&nbsp;&nbsp;&nbsp; <a href=\"https://api.datacite.org/application/x-bibtex/10.71760/ukllc-dataset-00245-01\" rel=\"noopener noreferrer\" target=\"_blank\">BibTeX</a>&nbsp;&nbsp;&nbsp;&nbsp; <a href=\"https://api.datacite.org/application/x-research-info-systems/10.71760/ukllc-dataset-00245-01\" rel=\"noopener noreferrer\" target=\"_blank\">RIS</a></td>\n",
       "    </tr>\n",
       "    <tr>\n",
       "      <td id=\"T_24779_row3_col0\" class=\"data row3 col0\" >Series</td>\n",
       "      <td id=\"T_24779_row3_col1\" class=\"data row3 col1\" > <a href=\"https://guidebook.ukllc.ac.uk/docs/lps_data/lps%20profiles/NCDS58\">1958 National Child Development Study (NCDS)</a></td>\n",
       "    </tr>\n",
       "    <tr>\n",
       "      <td id=\"T_24779_row4_col0\" class=\"data row4 col0\" >Owner</td>\n",
       "      <td id=\"T_24779_row4_col1\" class=\"data row4 col1\" >UCL</td>\n",
       "    </tr>\n",
       "    <tr>\n",
       "      <td id=\"T_24779_row5_col0\" class=\"data row5 col0\" >Temporal Coverage</td>\n",
       "      <td id=\"T_24779_row5_col1\" class=\"data row5 col1\" >06/2004 - 11/2005</td>\n",
       "    </tr>\n",
       "    <tr>\n",
       "      <td id=\"T_24779_row6_col0\" class=\"data row6 col0\" >Keywords</td>\n",
       "      <td id=\"T_24779_row6_col1\" class=\"data row6 col1\" >Health,Employment,Family,Attitudes,Education,Social mobility</td>\n",
       "    </tr>\n",
       "    <tr>\n",
       "      <td id=\"T_24779_row7_col0\" class=\"data row7 col0\" >Participants Invited</td>\n",
       "      <td id=\"T_24779_row7_col1\" class=\"data row7 col1\" >9534</td>\n",
       "    </tr>\n",
       "    <tr>\n",
       "      <td id=\"T_24779_row8_col0\" class=\"data row8 col0\" >Participant Count</td>\n",
       "      <td id=\"T_24779_row8_col1\" class=\"data row8 col1\" >7646</td>\n",
       "    </tr>\n",
       "    <tr>\n",
       "      <td id=\"T_24779_row9_col0\" class=\"data row9 col0\" >Number of variables</td>\n",
       "      <td id=\"T_24779_row9_col1\" class=\"data row9 col1\" >1567</td>\n",
       "    </tr>\n",
       "    <tr>\n",
       "      <td id=\"T_24779_row10_col0\" class=\"data row10 col0\" >Number of observations</td>\n",
       "      <td id=\"T_24779_row10_col1\" class=\"data row10 col1\" >9534</td>\n",
       "    </tr>\n",
       "    <tr>\n",
       "      <td id=\"T_24779_row11_col0\" class=\"data row11 col0\" >Specific Restrictions to Data Use</td>\n",
       "      <td id=\"T_24779_row11_col1\" class=\"data row11 col1\" >None</td>\n",
       "    </tr>\n",
       "    <tr>\n",
       "      <td id=\"T_24779_row12_col0\" class=\"data row12 col0\" >Build a Data Request</td>\n",
       "      <td id=\"T_24779_row12_col1\" class=\"data row12 col1\" > <a href=\"https://explore.ukllc.ac.uk/\" rel=\"noopener noreferrer\" target=\"_blank\">https://explore.ukllc.ac.uk/</a></td>\n",
       "    </tr>\n",
       "  </tbody>\n",
       "</table>\n"
      ],
      "text/plain": [
       "<pandas.io.formats.style.Styler at 0x190c5e97dd0>"
      ]
     },
     "execution_count": 3,
     "metadata": {},
     "output_type": "execute_result"
    }
   ],
   "source": [
    "ds.info_table()"
   ]
  },
  {
   "cell_type": "markdown",
   "id": "c289b94c",
   "metadata": {},
   "source": [
    "## 2. Version History"
   ]
  },
  {
   "cell_type": "code",
   "execution_count": 4,
   "id": "477f5d95",
   "metadata": {
    "execution": {
     "iopub.execute_input": "2025-07-28T19:50:17.752435Z",
     "iopub.status.busy": "2025-07-28T19:50:17.749434Z",
     "iopub.status.idle": "2025-07-28T19:50:23.505913Z",
     "shell.execute_reply": "2025-07-28T19:50:23.503899Z"
    },
    "tags": [
     "remove-input"
    ]
   },
   "outputs": [
    {
     "data": {
      "text/html": [
       "<style type=\"text/css\">\n",
       "#T_6fa4a th {\n",
       "  text-align: left;\n",
       "}\n",
       "#T_6fa4a_row0_col0, #T_6fa4a_row0_col1, #T_6fa4a_row1_col0, #T_6fa4a_row1_col1, #T_6fa4a_row2_col0, #T_6fa4a_row2_col1, #T_6fa4a_row3_col0, #T_6fa4a_row3_col1, #T_6fa4a_row4_col0, #T_6fa4a_row4_col1 {\n",
       "  text-align: left;\n",
       "}\n",
       "</style>\n",
       "<table id=\"T_6fa4a\" style=\"font-size: 14px\">\n",
       "  <thead>\n",
       "    <tr>\n",
       "      <th id=\"T_6fa4a_level0_col0\" class=\"col_heading level0 col0\" >Version</th>\n",
       "      <th id=\"T_6fa4a_level0_col1\" class=\"col_heading level0 col1\" >1</th>\n",
       "    </tr>\n",
       "  </thead>\n",
       "  <tbody>\n",
       "    <tr>\n",
       "      <td id=\"T_6fa4a_row0_col0\" class=\"data row0 col0\" >Version Date</td>\n",
       "      <td id=\"T_6fa4a_row0_col1\" class=\"data row0 col1\" >01 Nov 2021</td>\n",
       "    </tr>\n",
       "    <tr>\n",
       "      <td id=\"T_6fa4a_row1_col0\" class=\"data row1 col0\" >Number of Variables</td>\n",
       "      <td id=\"T_6fa4a_row1_col1\" class=\"data row1 col1\" >1569</td>\n",
       "    </tr>\n",
       "    <tr>\n",
       "      <td id=\"T_6fa4a_row2_col0\" class=\"data row2 col0\" >Number of Observations</td>\n",
       "      <td id=\"T_6fa4a_row2_col1\" class=\"data row2 col1\" >9534</td>\n",
       "    </tr>\n",
       "    <tr>\n",
       "      <td id=\"T_6fa4a_row3_col0\" class=\"data row3 col0\" >DOI</td>\n",
       "      <td id=\"T_6fa4a_row3_col1\" class=\"data row3 col1\" > <a href=\"https://doi.org/10.71760/ukllc-dataset-00245-01\" rel=\"noopener noreferrer\" target=\"_blank\">10.71760/ukllc-dataset-00245-01</a></td>\n",
       "    </tr>\n",
       "    <tr>\n",
       "      <td id=\"T_6fa4a_row4_col0\" class=\"data row4 col0\" >Change Log</td>\n",
       "      <td id=\"T_6fa4a_row4_col1\" class=\"data row4 col1\" > <a href=\"https://api.test.datacite.org/dois/10.71760/ukllc-dataset-00245-01/activities\" rel=\"noopener noreferrer\" target=\"_blank\">10.71760/ukllc-dataset-00245-01/activities</a></td>\n",
       "    </tr>\n",
       "  </tbody>\n",
       "</table>\n"
      ],
      "text/plain": [
       "<pandas.io.formats.style.Styler at 0x190c7c37e60>"
      ]
     },
     "execution_count": 4,
     "metadata": {},
     "output_type": "execute_result"
    }
   ],
   "source": [
    "ds.version_history()"
   ]
  },
  {
   "cell_type": "markdown",
   "id": "04af4f59",
   "metadata": {},
   "source": [
    "## 3. Documentation"
   ]
  },
  {
   "cell_type": "code",
   "execution_count": 5,
   "id": "58aa91ac",
   "metadata": {
    "execution": {
     "iopub.execute_input": "2025-07-28T19:50:23.514605Z",
     "iopub.status.busy": "2025-07-28T19:50:23.513186Z",
     "iopub.status.idle": "2025-07-28T19:50:23.527122Z",
     "shell.execute_reply": "2025-07-28T19:50:23.525105Z"
    },
    "tags": [
     "remove-input"
    ]
   },
   "outputs": [
    {
     "data": {
      "text/markdown": [
       "We are currently building a documentation storage system which will host useful documents related to datasets and data owners. We will surface these documents on Guidebook."
      ],
      "text/plain": [
       "<IPython.core.display.Markdown object>"
      ]
     },
     "metadata": {},
     "output_type": "display_data"
    }
   ],
   "source": [
    "ds.documentation()"
   ]
  },
  {
   "cell_type": "markdown",
   "id": "3e5322d5",
   "metadata": {},
   "source": [
    "## 4. Useful Syntax"
   ]
  },
  {
   "cell_type": "code",
   "execution_count": 6,
   "id": "96f208e0",
   "metadata": {
    "execution": {
     "iopub.execute_input": "2025-07-28T19:50:23.535124Z",
     "iopub.status.busy": "2025-07-28T19:50:23.535124Z",
     "iopub.status.idle": "2025-07-28T19:50:23.545450Z",
     "shell.execute_reply": "2025-07-28T19:50:23.544124Z"
    },
    "tags": [
     "remove-input"
    ]
   },
   "outputs": [
    {
     "data": {
      "text/markdown": [
       "Below we will include syntax that may be helpful to other researchers in the UK LLC TRE. For longer scripts, we will include a snippet of the code plus a link to Git where you can find the full scripts."
      ],
      "text/plain": [
       "<IPython.core.display.Markdown object>"
      ]
     },
     "metadata": {},
     "output_type": "display_data"
    }
   ],
   "source": [
    "ds.useful_syntax()"
   ]
  }
 ],
 "metadata": {
  "language_info": {
   "codemirror_mode": {
    "name": "ipython",
    "version": 3
   },
   "file_extension": ".py",
   "mimetype": "text/x-python",
   "name": "python",
   "nbconvert_exporter": "python",
   "pygments_lexer": "ipython3",
   "version": "3.12.7"
  }
 },
 "nbformat": 4,
 "nbformat_minor": 5
}
