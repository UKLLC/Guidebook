{
 "cells": [
  {
   "cell_type": "markdown",
   "id": "61316c71",
   "metadata": {},
   "source": [
    "# sweep 7 main survey (NCDS58)"
   ]
  },
  {
   "cell_type": "code",
   "execution_count": 1,
   "id": "eb5d21ae",
   "metadata": {
    "execution": {
     "iopub.execute_input": "2025-07-18T10:08:35.678026Z",
     "iopub.status.busy": "2025-07-18T10:08:35.678026Z",
     "iopub.status.idle": "2025-07-18T10:08:43.131760Z",
     "shell.execute_reply": "2025-07-18T10:08:43.130242Z"
    },
    "tags": [
     "remove-input"
    ]
   },
   "outputs": [
    {
     "data": {
      "text/markdown": [
       ">Last modified: 18 Jul 2025"
      ],
      "text/plain": [
       "<IPython.core.display.Markdown object>"
      ]
     },
     "metadata": {},
     "output_type": "display_data"
    }
   ],
   "source": [
    "\n",
    "import sys\n",
    "import os\n",
    "sys.path.append(os.path.abspath('../../../../scripts/'))\n",
    "from data_doc_helper import LPSDataSet as DS, last_modified\n",
    "API_KEY = os.environ['FASTAPI_KEY']\n",
    "ds = DS(\"NCDS58\", \"ncds7\")\n",
    "last_modified()\n"
   ]
  },
  {
   "cell_type": "markdown",
   "id": "e4139171",
   "metadata": {},
   "source": [
    "## 1. Summary"
   ]
  },
  {
   "cell_type": "code",
   "execution_count": 2,
   "id": "36b274c1",
   "metadata": {
    "execution": {
     "iopub.execute_input": "2025-07-18T10:08:43.137760Z",
     "iopub.status.busy": "2025-07-18T10:08:43.137760Z",
     "iopub.status.idle": "2025-07-18T10:08:43.145851Z",
     "shell.execute_reply": "2025-07-18T10:08:43.144844Z"
    },
    "tags": [
     "remove-input"
    ]
   },
   "outputs": [
    {
     "data": {
      "text/markdown": [
       "Data from sweep 7 (2004, age 46). The data file is flat (1-row-per-Cohort-Member) on the NCDSID. The file contains information about the Cohort Member's household members, children, derived information, employment, education/qualifications, health and everyday life among others."
      ],
      "text/plain": [
       "<IPython.core.display.Markdown object>"
      ]
     },
     "metadata": {},
     "output_type": "display_data"
    }
   ],
   "source": [
    "ds.summary()"
   ]
  },
  {
   "cell_type": "code",
   "execution_count": 3,
   "id": "1d049d4e",
   "metadata": {
    "execution": {
     "iopub.execute_input": "2025-07-18T10:08:43.151851Z",
     "iopub.status.busy": "2025-07-18T10:08:43.150849Z",
     "iopub.status.idle": "2025-07-18T10:08:47.348252Z",
     "shell.execute_reply": "2025-07-18T10:08:47.346281Z"
    },
    "tags": [
     "remove-input"
    ]
   },
   "outputs": [
    {
     "data": {
      "text/html": [
       "<style type=\"text/css\">\n",
       "#T_c4f0d th {\n",
       "  text-align: left;\n",
       "}\n",
       "#T_c4f0d_row0_col0, #T_c4f0d_row0_col1, #T_c4f0d_row1_col0, #T_c4f0d_row1_col1, #T_c4f0d_row2_col0, #T_c4f0d_row2_col1, #T_c4f0d_row3_col0, #T_c4f0d_row3_col1, #T_c4f0d_row4_col0, #T_c4f0d_row4_col1, #T_c4f0d_row5_col0, #T_c4f0d_row5_col1, #T_c4f0d_row6_col0, #T_c4f0d_row6_col1, #T_c4f0d_row7_col0, #T_c4f0d_row7_col1, #T_c4f0d_row8_col0, #T_c4f0d_row8_col1, #T_c4f0d_row9_col0, #T_c4f0d_row9_col1, #T_c4f0d_row10_col0, #T_c4f0d_row10_col1, #T_c4f0d_row11_col0, #T_c4f0d_row11_col1, #T_c4f0d_row12_col0, #T_c4f0d_row12_col1 {\n",
       "  text-align: left;\n",
       "}\n",
       "</style>\n",
       "<table id=\"T_c4f0d\" style=\"font-size: 14px\">\n",
       "  <thead>\n",
       "    <tr>\n",
       "      <th id=\"T_c4f0d_level0_col0\" class=\"col_heading level0 col0\" >Dataset Descriptor</th>\n",
       "      <th id=\"T_c4f0d_level0_col1\" class=\"col_heading level0 col1\" >Dataset-specific Information</th>\n",
       "    </tr>\n",
       "  </thead>\n",
       "  <tbody>\n",
       "    <tr>\n",
       "      <td id=\"T_c4f0d_row0_col0\" class=\"data row0 col0\" >Name of Dataset in TRE</td>\n",
       "      <td id=\"T_c4f0d_row0_col1\" class=\"data row0 col1\" >NCDS58_ncds7</td>\n",
       "    </tr>\n",
       "    <tr>\n",
       "      <td id=\"T_c4f0d_row1_col0\" class=\"data row1 col0\" >Citation (APA)</td>\n",
       "      <td id=\"T_c4f0d_row1_col1\" class=\"data row1 col1\" >University College London, UCL Social Research Institute, Centre for Longitudinal Studies. (2021). <i>1958 National Child Development Study (NCDS): sweep 7 main survey.</i> UK Longitudinal Linkage Collaboration (UK LLC).  <a href=\"https://doi.org/10.83126/ukllc-dataset-00318-01\" rel=\"noopener noreferrer\" target=\"_blank\">https://doi.org/10.83126/ukllc-dataset-00318-01</a></td>\n",
       "    </tr>\n",
       "    <tr>\n",
       "      <td id=\"T_c4f0d_row2_col0\" class=\"data row2 col0\" >Download Citation</td>\n",
       "      <td id=\"T_c4f0d_row2_col1\" class=\"data row2 col1\" > <a href=\"https://api.test.datacite.org/application/vnd.citationstyles.csl+json/10.83126/ukllc-dataset-00318-01\" rel=\"noopener noreferrer\" target=\"_blank\">Citeproc JSON</a>&nbsp;&nbsp;&nbsp;&nbsp; <a href=\"https://api.test.datacite.org/application/x-bibtex/10.83126/ukllc-dataset-00318-01\" rel=\"noopener noreferrer\" target=\"_blank\">BibTeX</a>&nbsp;&nbsp;&nbsp;&nbsp; <a href=\"https://api.test.datacite.org/application/x-research-info-systems/10.83126/ukllc-dataset-00318-01\" rel=\"noopener noreferrer\" target=\"_blank\">RIS</a></td>\n",
       "    </tr>\n",
       "    <tr>\n",
       "      <td id=\"T_c4f0d_row3_col0\" class=\"data row3 col0\" >Series</td>\n",
       "      <td id=\"T_c4f0d_row3_col1\" class=\"data row3 col1\" > <a href=\"https://guidebook.ukllc.ac.uk/docs/lps/lps%20profiles/NCDS58\">1958 National Child Development Study (NCDS)</a></td>\n",
       "    </tr>\n",
       "    <tr>\n",
       "      <td id=\"T_c4f0d_row4_col0\" class=\"data row4 col0\" >Owner</td>\n",
       "      <td id=\"T_c4f0d_row4_col1\" class=\"data row4 col1\" >UCL</td>\n",
       "    </tr>\n",
       "    <tr>\n",
       "      <td id=\"T_c4f0d_row5_col0\" class=\"data row5 col0\" >Temporal Coverage</td>\n",
       "      <td id=\"T_c4f0d_row5_col1\" class=\"data row5 col1\" >06/2004 - 11/2005</td>\n",
       "    </tr>\n",
       "    <tr>\n",
       "      <td id=\"T_c4f0d_row6_col0\" class=\"data row6 col0\" >Keywords</td>\n",
       "      <td id=\"T_c4f0d_row6_col1\" class=\"data row6 col1\" >Health,Employment,Family,Attitudes,Education,Social mobility</td>\n",
       "    </tr>\n",
       "    <tr>\n",
       "      <td id=\"T_c4f0d_row7_col0\" class=\"data row7 col0\" >Participants Invited</td>\n",
       "      <td id=\"T_c4f0d_row7_col1\" class=\"data row7 col1\" >9534</td>\n",
       "    </tr>\n",
       "    <tr>\n",
       "      <td id=\"T_c4f0d_row8_col0\" class=\"data row8 col0\" >Participant Count</td>\n",
       "      <td id=\"T_c4f0d_row8_col1\" class=\"data row8 col1\" >7646</td>\n",
       "    </tr>\n",
       "    <tr>\n",
       "      <td id=\"T_c4f0d_row9_col0\" class=\"data row9 col0\" >Number of variables</td>\n",
       "      <td id=\"T_c4f0d_row9_col1\" class=\"data row9 col1\" >1567</td>\n",
       "    </tr>\n",
       "    <tr>\n",
       "      <td id=\"T_c4f0d_row10_col0\" class=\"data row10 col0\" >Number of observations</td>\n",
       "      <td id=\"T_c4f0d_row10_col1\" class=\"data row10 col1\" >9534</td>\n",
       "    </tr>\n",
       "    <tr>\n",
       "      <td id=\"T_c4f0d_row11_col0\" class=\"data row11 col0\" >Specific Restrictions to Data Use</td>\n",
       "      <td id=\"T_c4f0d_row11_col1\" class=\"data row11 col1\" >None</td>\n",
       "    </tr>\n",
       "    <tr>\n",
       "      <td id=\"T_c4f0d_row12_col0\" class=\"data row12 col0\" >Build a Data Request</td>\n",
       "      <td id=\"T_c4f0d_row12_col1\" class=\"data row12 col1\" > <a href=\"https://explore.ukllc.ac.uk/\" rel=\"noopener noreferrer\" target=\"_blank\">https://explore.ukllc.ac.uk/</a></td>\n",
       "    </tr>\n",
       "  </tbody>\n",
       "</table>\n"
      ],
      "text/plain": [
       "<pandas.io.formats.style.Styler at 0x1db52eabb60>"
      ]
     },
     "execution_count": 3,
     "metadata": {},
     "output_type": "execute_result"
    }
   ],
   "source": [
    "ds.info_table()"
   ]
  },
  {
   "cell_type": "markdown",
   "id": "c289b94c",
   "metadata": {},
   "source": [
    "## 2. Version History"
   ]
  },
  {
   "cell_type": "code",
   "execution_count": 4,
   "id": "477f5d95",
   "metadata": {
    "execution": {
     "iopub.execute_input": "2025-07-18T10:08:47.354391Z",
     "iopub.status.busy": "2025-07-18T10:08:47.353392Z",
     "iopub.status.idle": "2025-07-18T10:08:49.670558Z",
     "shell.execute_reply": "2025-07-18T10:08:49.669390Z"
    },
    "tags": [
     "remove-input"
    ]
   },
   "outputs": [
    {
     "data": {
      "text/html": [
       "<style type=\"text/css\">\n",
       "#T_63aee th {\n",
       "  text-align: left;\n",
       "}\n",
       "#T_63aee_row0_col0, #T_63aee_row0_col1, #T_63aee_row1_col0, #T_63aee_row1_col1, #T_63aee_row2_col0, #T_63aee_row2_col1, #T_63aee_row3_col0, #T_63aee_row3_col1, #T_63aee_row4_col0, #T_63aee_row4_col1 {\n",
       "  text-align: left;\n",
       "}\n",
       "</style>\n",
       "<table id=\"T_63aee\" style=\"font-size: 14px\">\n",
       "  <thead>\n",
       "    <tr>\n",
       "      <th id=\"T_63aee_level0_col0\" class=\"col_heading level0 col0\" >Version</th>\n",
       "      <th id=\"T_63aee_level0_col1\" class=\"col_heading level0 col1\" >1</th>\n",
       "    </tr>\n",
       "  </thead>\n",
       "  <tbody>\n",
       "    <tr>\n",
       "      <td id=\"T_63aee_row0_col0\" class=\"data row0 col0\" >Version Date</td>\n",
       "      <td id=\"T_63aee_row0_col1\" class=\"data row0 col1\" >01 Nov 2021</td>\n",
       "    </tr>\n",
       "    <tr>\n",
       "      <td id=\"T_63aee_row1_col0\" class=\"data row1 col0\" >Number of Variables</td>\n",
       "      <td id=\"T_63aee_row1_col1\" class=\"data row1 col1\" >1569</td>\n",
       "    </tr>\n",
       "    <tr>\n",
       "      <td id=\"T_63aee_row2_col0\" class=\"data row2 col0\" >Number of Observations</td>\n",
       "      <td id=\"T_63aee_row2_col1\" class=\"data row2 col1\" >9534</td>\n",
       "    </tr>\n",
       "    <tr>\n",
       "      <td id=\"T_63aee_row3_col0\" class=\"data row3 col0\" >DOI</td>\n",
       "      <td id=\"T_63aee_row3_col1\" class=\"data row3 col1\" > <a href=\"https://doi.org/10.83126/ukllc-dataset-00318-01\" rel=\"noopener noreferrer\" target=\"_blank\">10.83126/ukllc-dataset-00318-01</a></td>\n",
       "    </tr>\n",
       "    <tr>\n",
       "      <td id=\"T_63aee_row4_col0\" class=\"data row4 col0\" >Change Log</td>\n",
       "      <td id=\"T_63aee_row4_col1\" class=\"data row4 col1\" > <a href=\"https://api.test.datacite.org/dois/10.83126/ukllc-dataset-00318-01/activities\" rel=\"noopener noreferrer\" target=\"_blank\">10.83126/ukllc-dataset-00318-01/activities</a></td>\n",
       "    </tr>\n",
       "  </tbody>\n",
       "</table>\n"
      ],
      "text/plain": [
       "<pandas.io.formats.style.Styler at 0x1db5700b470>"
      ]
     },
     "execution_count": 4,
     "metadata": {},
     "output_type": "execute_result"
    }
   ],
   "source": [
    "ds.version_history()"
   ]
  },
  {
   "cell_type": "markdown",
   "id": "04af4f59",
   "metadata": {},
   "source": [
    "## 3. Documentation"
   ]
  },
  {
   "cell_type": "code",
   "execution_count": 5,
   "id": "58aa91ac",
   "metadata": {
    "execution": {
     "iopub.execute_input": "2025-07-18T10:08:49.675568Z",
     "iopub.status.busy": "2025-07-18T10:08:49.675568Z",
     "iopub.status.idle": "2025-07-18T10:08:49.683469Z",
     "shell.execute_reply": "2025-07-18T10:08:49.682460Z"
    },
    "tags": [
     "remove-input"
    ]
   },
   "outputs": [
    {
     "data": {
      "text/markdown": [
       "We are currently building a documentation storage system which will host useful documents related to datasets and data owners. We will surface these documents on Guidebook."
      ],
      "text/plain": [
       "<IPython.core.display.Markdown object>"
      ]
     },
     "metadata": {},
     "output_type": "display_data"
    }
   ],
   "source": [
    "ds.documentation()"
   ]
  },
  {
   "cell_type": "markdown",
   "id": "3e5322d5",
   "metadata": {},
   "source": [
    "## 4. Useful Syntax"
   ]
  },
  {
   "cell_type": "code",
   "execution_count": 6,
   "id": "96f208e0",
   "metadata": {
    "execution": {
     "iopub.execute_input": "2025-07-18T10:08:49.687466Z",
     "iopub.status.busy": "2025-07-18T10:08:49.687466Z",
     "iopub.status.idle": "2025-07-18T10:08:49.697382Z",
     "shell.execute_reply": "2025-07-18T10:08:49.696216Z"
    },
    "tags": [
     "remove-input"
    ]
   },
   "outputs": [
    {
     "data": {
      "text/markdown": [
       "Below we will include syntax that may be helpful to other researchers in the UK LLC TRE. For longer scripts, we will include a snippet of the code plus a link to Git where you can find the full scripts."
      ],
      "text/plain": [
       "<IPython.core.display.Markdown object>"
      ]
     },
     "metadata": {},
     "output_type": "display_data"
    }
   ],
   "source": [
    "ds.useful_syntax()"
   ]
  }
 ],
 "metadata": {
  "language_info": {
   "codemirror_mode": {
    "name": "ipython",
    "version": 3
   },
   "file_extension": ".py",
   "mimetype": "text/x-python",
   "name": "python",
   "nbconvert_exporter": "python",
   "pygments_lexer": "ipython3",
   "version": "3.12.7"
  }
 },
 "nbformat": 4,
 "nbformat_minor": 5
}
