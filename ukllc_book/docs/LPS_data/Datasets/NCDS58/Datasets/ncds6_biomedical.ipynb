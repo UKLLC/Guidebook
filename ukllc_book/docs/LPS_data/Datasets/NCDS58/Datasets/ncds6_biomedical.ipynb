{
 "cells": [
  {
   "cell_type": "markdown",
   "id": "30de113d",
   "metadata": {},
   "source": [
    "# face-to-face nurse biomedical sweep 6 (NCDS58)"
   ]
  },
  {
   "cell_type": "code",
   "execution_count": 1,
   "id": "a48f3316",
   "metadata": {
    "execution": {
     "iopub.execute_input": "2025-07-18T10:08:22.243268Z",
     "iopub.status.busy": "2025-07-18T10:08:22.243268Z",
     "iopub.status.idle": "2025-07-18T10:08:29.828819Z",
     "shell.execute_reply": "2025-07-18T10:08:29.827053Z"
    },
    "tags": [
     "remove-input"
    ]
   },
   "outputs": [
    {
     "data": {
      "text/markdown": [
       ">Last modified: 18 Jul 2025"
      ],
      "text/plain": [
       "<IPython.core.display.Markdown object>"
      ]
     },
     "metadata": {},
     "output_type": "display_data"
    }
   ],
   "source": [
    "\n",
    "import sys\n",
    "import os\n",
    "sys.path.append(os.path.abspath('../../../../scripts/'))\n",
    "from data_doc_helper import LPSDataSet as DS, last_modified\n",
    "API_KEY = os.environ['FASTAPI_KEY']\n",
    "ds = DS(\"NCDS58\", \"ncds6_biomedical\")\n",
    "last_modified()\n"
   ]
  },
  {
   "cell_type": "markdown",
   "id": "77fb92de",
   "metadata": {},
   "source": [
    "## 1. Summary"
   ]
  },
  {
   "cell_type": "code",
   "execution_count": 2,
   "id": "a70ebb25",
   "metadata": {
    "execution": {
     "iopub.execute_input": "2025-07-18T10:08:29.833831Z",
     "iopub.status.busy": "2025-07-18T10:08:29.833831Z",
     "iopub.status.idle": "2025-07-18T10:08:29.843401Z",
     "shell.execute_reply": "2025-07-18T10:08:29.843401Z"
    },
    "tags": [
     "remove-input"
    ]
   },
   "outputs": [
    {
     "data": {
      "text/markdown": [
       "The data are from the biomedical sweep that took place closely after sweep 6 (2002, age 45). The data are flat (one-row-per-Cohort-Member) on the NCDSID. The data include a nurse interview on Cohort Member's vision, physical measurements, blood pressure,  lung function, general health, diet, activity, and biomarker results of the blood sample."
      ],
      "text/plain": [
       "<IPython.core.display.Markdown object>"
      ]
     },
     "metadata": {},
     "output_type": "display_data"
    }
   ],
   "source": [
    "ds.summary()"
   ]
  },
  {
   "cell_type": "code",
   "execution_count": 3,
   "id": "359ae17e",
   "metadata": {
    "execution": {
     "iopub.execute_input": "2025-07-18T10:08:29.848375Z",
     "iopub.status.busy": "2025-07-18T10:08:29.848375Z",
     "iopub.status.idle": "2025-07-18T10:08:31.372231Z",
     "shell.execute_reply": "2025-07-18T10:08:31.371218Z"
    },
    "tags": [
     "remove-input"
    ]
   },
   "outputs": [
    {
     "data": {
      "text/html": [
       "<style type=\"text/css\">\n",
       "#T_7124d th {\n",
       "  text-align: left;\n",
       "}\n",
       "#T_7124d_row0_col0, #T_7124d_row0_col1, #T_7124d_row1_col0, #T_7124d_row1_col1, #T_7124d_row2_col0, #T_7124d_row2_col1, #T_7124d_row3_col0, #T_7124d_row3_col1, #T_7124d_row4_col0, #T_7124d_row4_col1, #T_7124d_row5_col0, #T_7124d_row5_col1, #T_7124d_row6_col0, #T_7124d_row6_col1, #T_7124d_row7_col0, #T_7124d_row7_col1, #T_7124d_row8_col0, #T_7124d_row8_col1, #T_7124d_row9_col0, #T_7124d_row9_col1, #T_7124d_row10_col0, #T_7124d_row10_col1, #T_7124d_row11_col0, #T_7124d_row11_col1, #T_7124d_row12_col0, #T_7124d_row12_col1 {\n",
       "  text-align: left;\n",
       "}\n",
       "</style>\n",
       "<table id=\"T_7124d\" style=\"font-size: 14px\">\n",
       "  <thead>\n",
       "    <tr>\n",
       "      <th id=\"T_7124d_level0_col0\" class=\"col_heading level0 col0\" >Dataset Descriptor</th>\n",
       "      <th id=\"T_7124d_level0_col1\" class=\"col_heading level0 col1\" >Dataset-specific Information</th>\n",
       "    </tr>\n",
       "  </thead>\n",
       "  <tbody>\n",
       "    <tr>\n",
       "      <td id=\"T_7124d_row0_col0\" class=\"data row0 col0\" >Name of Dataset in TRE</td>\n",
       "      <td id=\"T_7124d_row0_col1\" class=\"data row0 col1\" >NCDS58_ncds6_biomedical</td>\n",
       "    </tr>\n",
       "    <tr>\n",
       "      <td id=\"T_7124d_row1_col0\" class=\"data row1 col0\" >Citation (APA)</td>\n",
       "      <td id=\"T_7124d_row1_col1\" class=\"data row1 col1\" >University College London, UCL Social Research Institute, Centre for Longitudinal Studies. (2021). <i>1958 National Child Development Study (NCDS): face-to-face nurse biomedical sweep 6.</i> UK Longitudinal Linkage Collaboration (UK LLC).  <a href=\"https://doi.org/10.83126/ukllc-dataset-00316-01\" rel=\"noopener noreferrer\" target=\"_blank\">https://doi.org/10.83126/ukllc-dataset-00316-01</a></td>\n",
       "    </tr>\n",
       "    <tr>\n",
       "      <td id=\"T_7124d_row2_col0\" class=\"data row2 col0\" >Download Citation</td>\n",
       "      <td id=\"T_7124d_row2_col1\" class=\"data row2 col1\" > <a href=\"https://api.test.datacite.org/application/vnd.citationstyles.csl+json/10.83126/ukllc-dataset-00316-01\" rel=\"noopener noreferrer\" target=\"_blank\">Citeproc JSON</a>&nbsp;&nbsp;&nbsp;&nbsp; <a href=\"https://api.test.datacite.org/application/x-bibtex/10.83126/ukllc-dataset-00316-01\" rel=\"noopener noreferrer\" target=\"_blank\">BibTeX</a>&nbsp;&nbsp;&nbsp;&nbsp; <a href=\"https://api.test.datacite.org/application/x-research-info-systems/10.83126/ukllc-dataset-00316-01\" rel=\"noopener noreferrer\" target=\"_blank\">RIS</a></td>\n",
       "    </tr>\n",
       "    <tr>\n",
       "      <td id=\"T_7124d_row3_col0\" class=\"data row3 col0\" >Series</td>\n",
       "      <td id=\"T_7124d_row3_col1\" class=\"data row3 col1\" > <a href=\"https://guidebook.ukllc.ac.uk/docs/lps/lps%20profiles/NCDS58\">1958 National Child Development Study (NCDS)</a></td>\n",
       "    </tr>\n",
       "    <tr>\n",
       "      <td id=\"T_7124d_row4_col0\" class=\"data row4 col0\" >Owner</td>\n",
       "      <td id=\"T_7124d_row4_col1\" class=\"data row4 col1\" >UCL</td>\n",
       "    </tr>\n",
       "    <tr>\n",
       "      <td id=\"T_7124d_row5_col0\" class=\"data row5 col0\" >Temporal Coverage</td>\n",
       "      <td id=\"T_7124d_row5_col1\" class=\"data row5 col1\" >11/1999 - 05/2000</td>\n",
       "    </tr>\n",
       "    <tr>\n",
       "      <td id=\"T_7124d_row6_col0\" class=\"data row6 col0\" >Keywords</td>\n",
       "      <td id=\"T_7124d_row6_col1\" class=\"data row6 col1\" >Health,Objective measures,Mental health,Attitudes,Blood sample,Biomarkers</td>\n",
       "    </tr>\n",
       "    <tr>\n",
       "      <td id=\"T_7124d_row7_col0\" class=\"data row7 col0\" >Participants Invited</td>\n",
       "      <td id=\"T_7124d_row7_col1\" class=\"data row7 col1\" >11419</td>\n",
       "    </tr>\n",
       "    <tr>\n",
       "      <td id=\"T_7124d_row8_col0\" class=\"data row8 col0\" >Participant Count</td>\n",
       "      <td id=\"T_7124d_row8_col1\" class=\"data row8 col1\" >7049</td>\n",
       "    </tr>\n",
       "    <tr>\n",
       "      <td id=\"T_7124d_row9_col0\" class=\"data row9 col0\" >Number of variables</td>\n",
       "      <td id=\"T_7124d_row9_col1\" class=\"data row9 col1\" >1089</td>\n",
       "    </tr>\n",
       "    <tr>\n",
       "      <td id=\"T_7124d_row10_col0\" class=\"data row10 col0\" >Number of observations</td>\n",
       "      <td id=\"T_7124d_row10_col1\" class=\"data row10 col1\" >8791</td>\n",
       "    </tr>\n",
       "    <tr>\n",
       "      <td id=\"T_7124d_row11_col0\" class=\"data row11 col0\" >Specific Restrictions to Data Use</td>\n",
       "      <td id=\"T_7124d_row11_col1\" class=\"data row11 col1\" >None</td>\n",
       "    </tr>\n",
       "    <tr>\n",
       "      <td id=\"T_7124d_row12_col0\" class=\"data row12 col0\" >Build a Data Request</td>\n",
       "      <td id=\"T_7124d_row12_col1\" class=\"data row12 col1\" > <a href=\"https://explore.ukllc.ac.uk/\" rel=\"noopener noreferrer\" target=\"_blank\">https://explore.ukllc.ac.uk/</a></td>\n",
       "    </tr>\n",
       "  </tbody>\n",
       "</table>\n"
      ],
      "text/plain": [
       "<pandas.io.formats.style.Styler at 0x1e299881b20>"
      ]
     },
     "execution_count": 3,
     "metadata": {},
     "output_type": "execute_result"
    }
   ],
   "source": [
    "ds.info_table()"
   ]
  },
  {
   "cell_type": "markdown",
   "id": "1740c796",
   "metadata": {},
   "source": [
    "## 2. Version History"
   ]
  },
  {
   "cell_type": "code",
   "execution_count": 4,
   "id": "d5b57005",
   "metadata": {
    "execution": {
     "iopub.execute_input": "2025-07-18T10:08:31.378598Z",
     "iopub.status.busy": "2025-07-18T10:08:31.377601Z",
     "iopub.status.idle": "2025-07-18T10:08:33.600435Z",
     "shell.execute_reply": "2025-07-18T10:08:33.599406Z"
    },
    "tags": [
     "remove-input"
    ]
   },
   "outputs": [
    {
     "data": {
      "text/html": [
       "<style type=\"text/css\">\n",
       "#T_c7b90 th {\n",
       "  text-align: left;\n",
       "}\n",
       "#T_c7b90_row0_col0, #T_c7b90_row0_col1, #T_c7b90_row1_col0, #T_c7b90_row1_col1, #T_c7b90_row2_col0, #T_c7b90_row2_col1, #T_c7b90_row3_col0, #T_c7b90_row3_col1, #T_c7b90_row4_col0, #T_c7b90_row4_col1 {\n",
       "  text-align: left;\n",
       "}\n",
       "</style>\n",
       "<table id=\"T_c7b90\" style=\"font-size: 14px\">\n",
       "  <thead>\n",
       "    <tr>\n",
       "      <th id=\"T_c7b90_level0_col0\" class=\"col_heading level0 col0\" >Version</th>\n",
       "      <th id=\"T_c7b90_level0_col1\" class=\"col_heading level0 col1\" >1</th>\n",
       "    </tr>\n",
       "  </thead>\n",
       "  <tbody>\n",
       "    <tr>\n",
       "      <td id=\"T_c7b90_row0_col0\" class=\"data row0 col0\" >Version Date</td>\n",
       "      <td id=\"T_c7b90_row0_col1\" class=\"data row0 col1\" >01 Nov 2021</td>\n",
       "    </tr>\n",
       "    <tr>\n",
       "      <td id=\"T_c7b90_row1_col0\" class=\"data row1 col0\" >Number of Variables</td>\n",
       "      <td id=\"T_c7b90_row1_col1\" class=\"data row1 col1\" >1091</td>\n",
       "    </tr>\n",
       "    <tr>\n",
       "      <td id=\"T_c7b90_row2_col0\" class=\"data row2 col0\" >Number of Observations</td>\n",
       "      <td id=\"T_c7b90_row2_col1\" class=\"data row2 col1\" >8791</td>\n",
       "    </tr>\n",
       "    <tr>\n",
       "      <td id=\"T_c7b90_row3_col0\" class=\"data row3 col0\" >DOI</td>\n",
       "      <td id=\"T_c7b90_row3_col1\" class=\"data row3 col1\" > <a href=\"https://doi.org/10.83126/ukllc-dataset-00316-01\" rel=\"noopener noreferrer\" target=\"_blank\">10.83126/ukllc-dataset-00316-01</a></td>\n",
       "    </tr>\n",
       "    <tr>\n",
       "      <td id=\"T_c7b90_row4_col0\" class=\"data row4 col0\" >Change Log</td>\n",
       "      <td id=\"T_c7b90_row4_col1\" class=\"data row4 col1\" > <a href=\"https://api.test.datacite.org/dois/10.83126/ukllc-dataset-00316-01/activities\" rel=\"noopener noreferrer\" target=\"_blank\">10.83126/ukllc-dataset-00316-01/activities</a></td>\n",
       "    </tr>\n",
       "  </tbody>\n",
       "</table>\n"
      ],
      "text/plain": [
       "<pandas.io.formats.style.Styler at 0x1e29b26f800>"
      ]
     },
     "execution_count": 4,
     "metadata": {},
     "output_type": "execute_result"
    }
   ],
   "source": [
    "ds.version_history()"
   ]
  },
  {
   "cell_type": "markdown",
   "id": "d47d3a99",
   "metadata": {},
   "source": [
    "## 3. Documentation"
   ]
  },
  {
   "cell_type": "code",
   "execution_count": 5,
   "id": "1d0455d3",
   "metadata": {
    "execution": {
     "iopub.execute_input": "2025-07-18T10:08:33.606416Z",
     "iopub.status.busy": "2025-07-18T10:08:33.605417Z",
     "iopub.status.idle": "2025-07-18T10:08:33.613359Z",
     "shell.execute_reply": "2025-07-18T10:08:33.611353Z"
    },
    "tags": [
     "remove-input"
    ]
   },
   "outputs": [
    {
     "data": {
      "text/markdown": [
       "We are currently building a documentation storage system which will host useful documents related to datasets and data owners. We will surface these documents on Guidebook."
      ],
      "text/plain": [
       "<IPython.core.display.Markdown object>"
      ]
     },
     "metadata": {},
     "output_type": "display_data"
    }
   ],
   "source": [
    "ds.documentation()"
   ]
  },
  {
   "cell_type": "markdown",
   "id": "81d81742",
   "metadata": {},
   "source": [
    "## 4. Useful Syntax"
   ]
  },
  {
   "cell_type": "code",
   "execution_count": 6,
   "id": "1fb24ded",
   "metadata": {
    "execution": {
     "iopub.execute_input": "2025-07-18T10:08:33.616359Z",
     "iopub.status.busy": "2025-07-18T10:08:33.616359Z",
     "iopub.status.idle": "2025-07-18T10:08:33.624864Z",
     "shell.execute_reply": "2025-07-18T10:08:33.623845Z"
    },
    "tags": [
     "remove-input"
    ]
   },
   "outputs": [
    {
     "data": {
      "text/markdown": [
       "Below we will include syntax that may be helpful to other researchers in the UK LLC TRE. For longer scripts, we will include a snippet of the code plus a link to Git where you can find the full scripts."
      ],
      "text/plain": [
       "<IPython.core.display.Markdown object>"
      ]
     },
     "metadata": {},
     "output_type": "display_data"
    }
   ],
   "source": [
    "ds.useful_syntax()"
   ]
  }
 ],
 "metadata": {
  "language_info": {
   "codemirror_mode": {
    "name": "ipython",
    "version": 3
   },
   "file_extension": ".py",
   "mimetype": "text/x-python",
   "name": "python",
   "nbconvert_exporter": "python",
   "pygments_lexer": "ipython3",
   "version": "3.12.7"
  }
 },
 "nbformat": 4,
 "nbformat_minor": 5
}
