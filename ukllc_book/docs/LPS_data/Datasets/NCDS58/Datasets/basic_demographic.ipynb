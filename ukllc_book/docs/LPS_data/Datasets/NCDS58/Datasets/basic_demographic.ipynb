{
 "cells": [
  {
   "cell_type": "markdown",
   "id": "a0b6b3f0",
   "metadata": {},
   "source": [
    "# COVID-19 Survey Wave 1 (NCDS58)"
   ]
  },
  {
   "cell_type": "code",
   "execution_count": 1,
   "id": "16357484",
   "metadata": {
    "execution": {
     "iopub.execute_input": "2025-07-28T19:44:41.959578Z",
     "iopub.status.busy": "2025-07-28T19:44:41.958581Z",
     "iopub.status.idle": "2025-07-28T19:44:54.146276Z",
     "shell.execute_reply": "2025-07-28T19:44:54.144160Z"
    },
    "tags": [
     "remove-input"
    ]
   },
   "outputs": [
    {
     "data": {
      "text/markdown": [
       ">Last modified: 28 Jul 2025"
      ],
      "text/plain": [
       "<IPython.core.display.Markdown object>"
      ]
     },
     "metadata": {},
     "output_type": "display_data"
    }
   ],
   "source": [
    "\n",
    "import sys\n",
    "import os\n",
    "sys.path.append(os.path.abspath('../../../../scripts/'))\n",
    "from data_doc_helper import LPSDataSet as DS, last_modified\n",
    "API_KEY = os.environ['FASTAPI_KEY']\n",
    "ds = DS(\"NCDS58\", \"COVID_w1\")\n",
    "last_modified()\n"
   ]
  },
  {
   "cell_type": "markdown",
   "id": "7c7ee717",
   "metadata": {},
   "source": [
    "## 1. Summary"
   ]
  },
  {
   "cell_type": "code",
   "execution_count": 2,
   "id": "b698975f",
   "metadata": {
    "execution": {
     "iopub.execute_input": "2025-07-28T19:44:54.156206Z",
     "iopub.status.busy": "2025-07-28T19:44:54.155218Z",
     "iopub.status.idle": "2025-07-28T19:44:54.174436Z",
     "shell.execute_reply": "2025-07-28T19:44:54.172405Z"
    },
    "tags": [
     "remove-input"
    ]
   },
   "outputs": [
    {
     "data": {
      "text/markdown": [
       "An online questionnaire sent to all participants. Questions cover topics of wellbeing during the first wave of the pandemic, including the impact of COVID on participants’ mental health, work and family life. This dataset is the first of 3 over the course of the pandemic and was collected between April and June 2020. It was designed to complement existing content collected during normal operations."
      ],
      "text/plain": [
       "<IPython.core.display.Markdown object>"
      ]
     },
     "metadata": {},
     "output_type": "display_data"
    }
   ],
   "source": [
    "ds.summary()"
   ]
  },
  {
   "cell_type": "code",
   "execution_count": 3,
   "id": "d0e69a2c",
   "metadata": {
    "execution": {
     "iopub.execute_input": "2025-07-28T19:44:54.181952Z",
     "iopub.status.busy": "2025-07-28T19:44:54.181952Z",
     "iopub.status.idle": "2025-07-28T19:44:56.036081Z",
     "shell.execute_reply": "2025-07-28T19:44:56.034547Z"
    },
    "tags": [
     "remove-input"
    ]
   },
   "outputs": [
    {
     "data": {
      "text/html": [
       "<style type=\"text/css\">\n",
       "#T_3ba1c th {\n",
       "  text-align: left;\n",
       "}\n",
       "#T_3ba1c_row0_col0, #T_3ba1c_row0_col1, #T_3ba1c_row1_col0, #T_3ba1c_row1_col1, #T_3ba1c_row2_col0, #T_3ba1c_row2_col1, #T_3ba1c_row3_col0, #T_3ba1c_row3_col1, #T_3ba1c_row4_col0, #T_3ba1c_row4_col1, #T_3ba1c_row5_col0, #T_3ba1c_row5_col1, #T_3ba1c_row6_col0, #T_3ba1c_row6_col1, #T_3ba1c_row7_col0, #T_3ba1c_row7_col1, #T_3ba1c_row8_col0, #T_3ba1c_row8_col1, #T_3ba1c_row9_col0, #T_3ba1c_row9_col1, #T_3ba1c_row10_col0, #T_3ba1c_row10_col1, #T_3ba1c_row11_col0, #T_3ba1c_row11_col1, #T_3ba1c_row12_col0, #T_3ba1c_row12_col1 {\n",
       "  text-align: left;\n",
       "}\n",
       "</style>\n",
       "<table id=\"T_3ba1c\" style=\"font-size: 14px\">\n",
       "  <thead>\n",
       "    <tr>\n",
       "      <th id=\"T_3ba1c_level0_col0\" class=\"col_heading level0 col0\" >Dataset Descriptor</th>\n",
       "      <th id=\"T_3ba1c_level0_col1\" class=\"col_heading level0 col1\" >Dataset-specific Information</th>\n",
       "    </tr>\n",
       "  </thead>\n",
       "  <tbody>\n",
       "    <tr>\n",
       "      <td id=\"T_3ba1c_row0_col0\" class=\"data row0 col0\" >Name of Dataset in TRE</td>\n",
       "      <td id=\"T_3ba1c_row0_col1\" class=\"data row0 col1\" >NCDS58_COVID_w1</td>\n",
       "    </tr>\n",
       "    <tr>\n",
       "      <td id=\"T_3ba1c_row1_col0\" class=\"data row1 col0\" >Citation (APA)</td>\n",
       "      <td id=\"T_3ba1c_row1_col1\" class=\"data row1 col1\" >University College London, UCL Social Research Institute, Centre for Longitudinal Studies. (2021). <i>1958 National Child Development Study (NCDS): COVID-19 Survey Wave 1.</i> UK Longitudinal Linkage Collaboration (UK LLC).  <a href=\"https://doi.org/10.71760/ukllc-dataset-00233-01\" rel=\"noopener noreferrer\" target=\"_blank\">https://doi.org/10.71760/ukllc-dataset-00233-01</a></td>\n",
       "    </tr>\n",
       "    <tr>\n",
       "      <td id=\"T_3ba1c_row2_col0\" class=\"data row2 col0\" >Download Citation</td>\n",
       "      <td id=\"T_3ba1c_row2_col1\" class=\"data row2 col1\" > <a href=\"https://api.datacite.org/application/vnd.citationstyles.csl+json/10.71760/ukllc-dataset-00233-01\" rel=\"noopener noreferrer\" target=\"_blank\">Citeproc JSON</a>&nbsp;&nbsp;&nbsp;&nbsp; <a href=\"https://api.datacite.org/application/x-bibtex/10.71760/ukllc-dataset-00233-01\" rel=\"noopener noreferrer\" target=\"_blank\">BibTeX</a>&nbsp;&nbsp;&nbsp;&nbsp; <a href=\"https://api.datacite.org/application/x-research-info-systems/10.71760/ukllc-dataset-00233-01\" rel=\"noopener noreferrer\" target=\"_blank\">RIS</a></td>\n",
       "    </tr>\n",
       "    <tr>\n",
       "      <td id=\"T_3ba1c_row3_col0\" class=\"data row3 col0\" >Series</td>\n",
       "      <td id=\"T_3ba1c_row3_col1\" class=\"data row3 col1\" > <a href=\"https://guidebook.ukllc.ac.uk/docs/lps_data/lps%20profiles/NCDS58\">1958 National Child Development Study (NCDS)</a></td>\n",
       "    </tr>\n",
       "    <tr>\n",
       "      <td id=\"T_3ba1c_row4_col0\" class=\"data row4 col0\" >Owner</td>\n",
       "      <td id=\"T_3ba1c_row4_col1\" class=\"data row4 col1\" >UCL</td>\n",
       "    </tr>\n",
       "    <tr>\n",
       "      <td id=\"T_3ba1c_row5_col0\" class=\"data row5 col0\" >Temporal Coverage</td>\n",
       "      <td id=\"T_3ba1c_row5_col1\" class=\"data row5 col1\" >05/2020 - 05/2020</td>\n",
       "    </tr>\n",
       "    <tr>\n",
       "      <td id=\"T_3ba1c_row6_col0\" class=\"data row6 col0\" >Keywords</td>\n",
       "      <td id=\"T_3ba1c_row6_col1\" class=\"data row6 col1\" >COVIDW1,Education,Employment,Income,Household,Mental Health</td>\n",
       "    </tr>\n",
       "    <tr>\n",
       "      <td id=\"T_3ba1c_row7_col0\" class=\"data row7 col0\" >Participants Invited</td>\n",
       "      <td id=\"T_3ba1c_row7_col1\" class=\"data row7 col1\" >5178</td>\n",
       "    </tr>\n",
       "    <tr>\n",
       "      <td id=\"T_3ba1c_row8_col0\" class=\"data row8 col0\" >Participant Count</td>\n",
       "      <td id=\"T_3ba1c_row8_col1\" class=\"data row8 col1\" >4635</td>\n",
       "    </tr>\n",
       "    <tr>\n",
       "      <td id=\"T_3ba1c_row9_col0\" class=\"data row9 col0\" >Number of variables</td>\n",
       "      <td id=\"T_3ba1c_row9_col1\" class=\"data row9 col1\" >302</td>\n",
       "    </tr>\n",
       "    <tr>\n",
       "      <td id=\"T_3ba1c_row10_col0\" class=\"data row10 col0\" >Number of observations</td>\n",
       "      <td id=\"T_3ba1c_row10_col1\" class=\"data row10 col1\" >5178</td>\n",
       "    </tr>\n",
       "    <tr>\n",
       "      <td id=\"T_3ba1c_row11_col0\" class=\"data row11 col0\" >Specific Restrictions to Data Use</td>\n",
       "      <td id=\"T_3ba1c_row11_col1\" class=\"data row11 col1\" >None</td>\n",
       "    </tr>\n",
       "    <tr>\n",
       "      <td id=\"T_3ba1c_row12_col0\" class=\"data row12 col0\" >Build a Data Request</td>\n",
       "      <td id=\"T_3ba1c_row12_col1\" class=\"data row12 col1\" > <a href=\"https://explore.ukllc.ac.uk/\" rel=\"noopener noreferrer\" target=\"_blank\">https://explore.ukllc.ac.uk/</a></td>\n",
       "    </tr>\n",
       "  </tbody>\n",
       "</table>\n"
      ],
      "text/plain": [
       "<pandas.io.formats.style.Styler at 0x1f0c3461880>"
      ]
     },
     "execution_count": 3,
     "metadata": {},
     "output_type": "execute_result"
    }
   ],
   "source": [
    "ds.info_table()"
   ]
  },
  {
   "cell_type": "markdown",
   "id": "48583e35",
   "metadata": {},
   "source": [
    "## 2. Version History"
   ]
  },
  {
   "cell_type": "code",
   "execution_count": 4,
   "id": "f9b69809",
   "metadata": {
    "execution": {
     "iopub.execute_input": "2025-07-28T19:44:56.044074Z",
     "iopub.status.busy": "2025-07-28T19:44:56.043100Z",
     "iopub.status.idle": "2025-07-28T19:45:01.846393Z",
     "shell.execute_reply": "2025-07-28T19:45:01.844373Z"
    },
    "tags": [
     "remove-input"
    ]
   },
   "outputs": [
    {
     "data": {
      "text/html": [
       "<style type=\"text/css\">\n",
       "#T_7e5dd th {\n",
       "  text-align: left;\n",
       "}\n",
       "#T_7e5dd_row0_col0, #T_7e5dd_row0_col1, #T_7e5dd_row1_col0, #T_7e5dd_row1_col1, #T_7e5dd_row2_col0, #T_7e5dd_row2_col1, #T_7e5dd_row3_col0, #T_7e5dd_row3_col1, #T_7e5dd_row4_col0, #T_7e5dd_row4_col1 {\n",
       "  text-align: left;\n",
       "}\n",
       "</style>\n",
       "<table id=\"T_7e5dd\" style=\"font-size: 14px\">\n",
       "  <thead>\n",
       "    <tr>\n",
       "      <th id=\"T_7e5dd_level0_col0\" class=\"col_heading level0 col0\" >Version</th>\n",
       "      <th id=\"T_7e5dd_level0_col1\" class=\"col_heading level0 col1\" >1</th>\n",
       "    </tr>\n",
       "  </thead>\n",
       "  <tbody>\n",
       "    <tr>\n",
       "      <td id=\"T_7e5dd_row0_col0\" class=\"data row0 col0\" >Version Date</td>\n",
       "      <td id=\"T_7e5dd_row0_col1\" class=\"data row0 col1\" >01 Nov 2021</td>\n",
       "    </tr>\n",
       "    <tr>\n",
       "      <td id=\"T_7e5dd_row1_col0\" class=\"data row1 col0\" >Number of Variables</td>\n",
       "      <td id=\"T_7e5dd_row1_col1\" class=\"data row1 col1\" >1512</td>\n",
       "    </tr>\n",
       "    <tr>\n",
       "      <td id=\"T_7e5dd_row2_col0\" class=\"data row2 col0\" >Number of Observations</td>\n",
       "      <td id=\"T_7e5dd_row2_col1\" class=\"data row2 col1\" >5178</td>\n",
       "    </tr>\n",
       "    <tr>\n",
       "      <td id=\"T_7e5dd_row3_col0\" class=\"data row3 col0\" >DOI</td>\n",
       "      <td id=\"T_7e5dd_row3_col1\" class=\"data row3 col1\" > <a href=\"https://doi.org/10.71760/ukllc-dataset-00233-01\" rel=\"noopener noreferrer\" target=\"_blank\">10.71760/ukllc-dataset-00233-01</a></td>\n",
       "    </tr>\n",
       "    <tr>\n",
       "      <td id=\"T_7e5dd_row4_col0\" class=\"data row4 col0\" >Change Log</td>\n",
       "      <td id=\"T_7e5dd_row4_col1\" class=\"data row4 col1\" > <a href=\"https://api.test.datacite.org/dois/10.71760/ukllc-dataset-00233-01/activities\" rel=\"noopener noreferrer\" target=\"_blank\">10.71760/ukllc-dataset-00233-01/activities</a></td>\n",
       "    </tr>\n",
       "  </tbody>\n",
       "</table>\n"
      ],
      "text/plain": [
       "<pandas.io.formats.style.Styler at 0x1f0c35c9640>"
      ]
     },
     "execution_count": 4,
     "metadata": {},
     "output_type": "execute_result"
    }
   ],
   "source": [
    "ds.version_history()"
   ]
  },
  {
   "cell_type": "markdown",
   "id": "8c28ad69",
   "metadata": {},
   "source": [
    "## 3. Documentation"
   ]
  },
  {
   "cell_type": "code",
   "execution_count": 5,
   "id": "b018588b",
   "metadata": {
    "execution": {
     "iopub.execute_input": "2025-07-28T19:45:01.855392Z",
     "iopub.status.busy": "2025-07-28T19:45:01.854393Z",
     "iopub.status.idle": "2025-07-28T19:45:01.867995Z",
     "shell.execute_reply": "2025-07-28T19:45:01.865699Z"
    },
    "tags": [
     "remove-input"
    ]
   },
   "outputs": [
    {
     "data": {
      "text/markdown": [
       "We are currently building a documentation storage system which will host useful documents related to datasets and data owners. We will surface these documents on Guidebook."
      ],
      "text/plain": [
       "<IPython.core.display.Markdown object>"
      ]
     },
     "metadata": {},
     "output_type": "display_data"
    }
   ],
   "source": [
    "ds.documentation()"
   ]
  },
  {
   "cell_type": "markdown",
   "id": "650f6830",
   "metadata": {},
   "source": [
    "## 4. Useful Syntax"
   ]
  },
  {
   "cell_type": "code",
   "execution_count": 6,
   "id": "87161631",
   "metadata": {
    "execution": {
     "iopub.execute_input": "2025-07-28T19:45:01.875556Z",
     "iopub.status.busy": "2025-07-28T19:45:01.875556Z",
     "iopub.status.idle": "2025-07-28T19:45:01.888646Z",
     "shell.execute_reply": "2025-07-28T19:45:01.886556Z"
    },
    "tags": [
     "remove-input"
    ]
   },
   "outputs": [
    {
     "data": {
      "text/markdown": [
       "Below we will include syntax that may be helpful to other researchers in the UK LLC TRE. For longer scripts, we will include a snippet of the code plus a link to Git where you can find the full scripts."
      ],
      "text/plain": [
       "<IPython.core.display.Markdown object>"
      ]
     },
     "metadata": {},
     "output_type": "display_data"
    }
   ],
   "source": [
    "ds.useful_syntax()"
   ]
  }
 ],
 "metadata": {
  "kernelspec": {
   "display_name": "jupbook",
   "language": "python",
   "name": "python3"
  },
  "language_info": {
   "codemirror_mode": {
    "name": "ipython",
    "version": 3
   },
   "file_extension": ".py",
   "mimetype": "text/x-python",
   "name": "python",
   "nbconvert_exporter": "python",
   "pygments_lexer": "ipython3",
   "version": "3.12.7"
  }
 },
 "nbformat": 4,
 "nbformat_minor": 5
}
