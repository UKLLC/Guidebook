{
 "cells": [
  {
   "cell_type": "markdown",
   "id": "66e90207",
   "metadata": {},
   "source": [
    "# sweep 9 main survey (NCDS58)"
   ]
  },
  {
   "cell_type": "code",
   "execution_count": 1,
   "id": "37898769",
   "metadata": {
    "execution": {
     "iopub.execute_input": "2025-07-18T10:09:08.086129Z",
     "iopub.status.busy": "2025-07-18T10:09:08.085128Z",
     "iopub.status.idle": "2025-07-18T10:09:14.903378Z",
     "shell.execute_reply": "2025-07-18T10:09:14.901120Z"
    },
    "tags": [
     "remove-input"
    ]
   },
   "outputs": [
    {
     "data": {
      "text/markdown": [
       ">Last modified: 18 Jul 2025"
      ],
      "text/plain": [
       "<IPython.core.display.Markdown object>"
      ]
     },
     "metadata": {},
     "output_type": "display_data"
    }
   ],
   "source": [
    "\n",
    "import sys\n",
    "import os\n",
    "sys.path.append(os.path.abspath('../../../../scripts/'))\n",
    "from data_doc_helper import LPSDataSet as DS, last_modified\n",
    "API_KEY = os.environ['FASTAPI_KEY']\n",
    "ds = DS(\"NCDS58\", \"ncds9\")\n",
    "last_modified()\n"
   ]
  },
  {
   "cell_type": "markdown",
   "id": "763dec4e",
   "metadata": {},
   "source": [
    "## 1. Summary"
   ]
  },
  {
   "cell_type": "code",
   "execution_count": 2,
   "id": "1bd354fc",
   "metadata": {
    "execution": {
     "iopub.execute_input": "2025-07-18T10:09:14.911394Z",
     "iopub.status.busy": "2025-07-18T10:09:14.910391Z",
     "iopub.status.idle": "2025-07-18T10:09:14.923600Z",
     "shell.execute_reply": "2025-07-18T10:09:14.921399Z"
    },
    "tags": [
     "remove-input"
    ]
   },
   "outputs": [
    {
     "data": {
      "text/markdown": [
       "Data from sweep 9 (2013, age 55). The data file is flat (1-row-per-Cohort-Member) on the NCDSID.  The file contains information about the Cohort Member's time spent with family, employment, income, health, and everyday activities among others. "
      ],
      "text/plain": [
       "<IPython.core.display.Markdown object>"
      ]
     },
     "metadata": {},
     "output_type": "display_data"
    }
   ],
   "source": [
    "ds.summary()"
   ]
  },
  {
   "cell_type": "code",
   "execution_count": 3,
   "id": "93faaa72",
   "metadata": {
    "execution": {
     "iopub.execute_input": "2025-07-18T10:09:14.928105Z",
     "iopub.status.busy": "2025-07-18T10:09:14.928105Z",
     "iopub.status.idle": "2025-07-18T10:09:16.174052Z",
     "shell.execute_reply": "2025-07-18T10:09:16.171358Z"
    },
    "tags": [
     "remove-input"
    ]
   },
   "outputs": [
    {
     "data": {
      "text/html": [
       "<style type=\"text/css\">\n",
       "#T_81544 th {\n",
       "  text-align: left;\n",
       "}\n",
       "#T_81544_row0_col0, #T_81544_row0_col1, #T_81544_row1_col0, #T_81544_row1_col1, #T_81544_row2_col0, #T_81544_row2_col1, #T_81544_row3_col0, #T_81544_row3_col1, #T_81544_row4_col0, #T_81544_row4_col1, #T_81544_row5_col0, #T_81544_row5_col1, #T_81544_row6_col0, #T_81544_row6_col1, #T_81544_row7_col0, #T_81544_row7_col1, #T_81544_row8_col0, #T_81544_row8_col1, #T_81544_row9_col0, #T_81544_row9_col1, #T_81544_row10_col0, #T_81544_row10_col1, #T_81544_row11_col0, #T_81544_row11_col1, #T_81544_row12_col0, #T_81544_row12_col1 {\n",
       "  text-align: left;\n",
       "}\n",
       "</style>\n",
       "<table id=\"T_81544\" style=\"font-size: 14px\">\n",
       "  <thead>\n",
       "    <tr>\n",
       "      <th id=\"T_81544_level0_col0\" class=\"col_heading level0 col0\" >Dataset Descriptor</th>\n",
       "      <th id=\"T_81544_level0_col1\" class=\"col_heading level0 col1\" >Dataset-specific Information</th>\n",
       "    </tr>\n",
       "  </thead>\n",
       "  <tbody>\n",
       "    <tr>\n",
       "      <td id=\"T_81544_row0_col0\" class=\"data row0 col0\" >Name of Dataset in TRE</td>\n",
       "      <td id=\"T_81544_row0_col1\" class=\"data row0 col1\" >NCDS58_ncds9</td>\n",
       "    </tr>\n",
       "    <tr>\n",
       "      <td id=\"T_81544_row1_col0\" class=\"data row1 col0\" >Citation (APA)</td>\n",
       "      <td id=\"T_81544_row1_col1\" class=\"data row1 col1\" >University College London, UCL Social Research Institute, Centre for Longitudinal Studies. (2021). <i>1958 National Child Development Study (NCDS): sweep 9 main survey.</i> UK Longitudinal Linkage Collaboration (UK LLC).  <a href=\"https://doi.org/10.83126/ukllc-dataset-00327-01\" rel=\"noopener noreferrer\" target=\"_blank\">https://doi.org/10.83126/ukllc-dataset-00327-01</a></td>\n",
       "    </tr>\n",
       "    <tr>\n",
       "      <td id=\"T_81544_row2_col0\" class=\"data row2 col0\" >Download Citation</td>\n",
       "      <td id=\"T_81544_row2_col1\" class=\"data row2 col1\" > <a href=\"https://api.test.datacite.org/application/vnd.citationstyles.csl+json/10.83126/ukllc-dataset-00327-01\" rel=\"noopener noreferrer\" target=\"_blank\">Citeproc JSON</a>&nbsp;&nbsp;&nbsp;&nbsp; <a href=\"https://api.test.datacite.org/application/x-bibtex/10.83126/ukllc-dataset-00327-01\" rel=\"noopener noreferrer\" target=\"_blank\">BibTeX</a>&nbsp;&nbsp;&nbsp;&nbsp; <a href=\"https://api.test.datacite.org/application/x-research-info-systems/10.83126/ukllc-dataset-00327-01\" rel=\"noopener noreferrer\" target=\"_blank\">RIS</a></td>\n",
       "    </tr>\n",
       "    <tr>\n",
       "      <td id=\"T_81544_row3_col0\" class=\"data row3 col0\" >Series</td>\n",
       "      <td id=\"T_81544_row3_col1\" class=\"data row3 col1\" > <a href=\"https://guidebook.ukllc.ac.uk/docs/lps/lps%20profiles/NCDS58\">1958 National Child Development Study (NCDS)</a></td>\n",
       "    </tr>\n",
       "    <tr>\n",
       "      <td id=\"T_81544_row4_col0\" class=\"data row4 col0\" >Owner</td>\n",
       "      <td id=\"T_81544_row4_col1\" class=\"data row4 col1\" >UCL</td>\n",
       "    </tr>\n",
       "    <tr>\n",
       "      <td id=\"T_81544_row5_col0\" class=\"data row5 col0\" >Temporal Coverage</td>\n",
       "      <td id=\"T_81544_row5_col1\" class=\"data row5 col1\" >09/2013 - 03/2014</td>\n",
       "    </tr>\n",
       "    <tr>\n",
       "      <td id=\"T_81544_row6_col0\" class=\"data row6 col0\" >Keywords</td>\n",
       "      <td id=\"T_81544_row6_col1\" class=\"data row6 col1\" >Health,Employment,Elderly,Attitudes,Housing,Social mobility</td>\n",
       "    </tr>\n",
       "    <tr>\n",
       "      <td id=\"T_81544_row7_col0\" class=\"data row7 col0\" >Participants Invited</td>\n",
       "      <td id=\"T_81544_row7_col1\" class=\"data row7 col1\" >9137</td>\n",
       "    </tr>\n",
       "    <tr>\n",
       "      <td id=\"T_81544_row8_col0\" class=\"data row8 col0\" >Participant Count</td>\n",
       "      <td id=\"T_81544_row8_col1\" class=\"data row8 col1\" >7781</td>\n",
       "    </tr>\n",
       "    <tr>\n",
       "      <td id=\"T_81544_row9_col0\" class=\"data row9 col0\" >Number of variables</td>\n",
       "      <td id=\"T_81544_row9_col1\" class=\"data row9 col1\" >430</td>\n",
       "    </tr>\n",
       "    <tr>\n",
       "      <td id=\"T_81544_row10_col0\" class=\"data row10 col0\" >Number of observations</td>\n",
       "      <td id=\"T_81544_row10_col1\" class=\"data row10 col1\" >9137</td>\n",
       "    </tr>\n",
       "    <tr>\n",
       "      <td id=\"T_81544_row11_col0\" class=\"data row11 col0\" >Specific Restrictions to Data Use</td>\n",
       "      <td id=\"T_81544_row11_col1\" class=\"data row11 col1\" >None</td>\n",
       "    </tr>\n",
       "    <tr>\n",
       "      <td id=\"T_81544_row12_col0\" class=\"data row12 col0\" >Build a Data Request</td>\n",
       "      <td id=\"T_81544_row12_col1\" class=\"data row12 col1\" > <a href=\"https://explore.ukllc.ac.uk/\" rel=\"noopener noreferrer\" target=\"_blank\">https://explore.ukllc.ac.uk/</a></td>\n",
       "    </tr>\n",
       "  </tbody>\n",
       "</table>\n"
      ],
      "text/plain": [
       "<pandas.io.formats.style.Styler at 0x18fd28938c0>"
      ]
     },
     "execution_count": 3,
     "metadata": {},
     "output_type": "execute_result"
    }
   ],
   "source": [
    "ds.info_table()"
   ]
  },
  {
   "cell_type": "markdown",
   "id": "8b2c6bc5",
   "metadata": {},
   "source": [
    "## 2. Version History"
   ]
  },
  {
   "cell_type": "code",
   "execution_count": 4,
   "id": "bb4884e4",
   "metadata": {
    "execution": {
     "iopub.execute_input": "2025-07-18T10:09:16.180067Z",
     "iopub.status.busy": "2025-07-18T10:09:16.179067Z",
     "iopub.status.idle": "2025-07-18T10:09:18.647749Z",
     "shell.execute_reply": "2025-07-18T10:09:18.646741Z"
    },
    "tags": [
     "remove-input"
    ]
   },
   "outputs": [
    {
     "data": {
      "text/html": [
       "<style type=\"text/css\">\n",
       "#T_e5ca9 th {\n",
       "  text-align: left;\n",
       "}\n",
       "#T_e5ca9_row0_col0, #T_e5ca9_row0_col1, #T_e5ca9_row1_col0, #T_e5ca9_row1_col1, #T_e5ca9_row2_col0, #T_e5ca9_row2_col1, #T_e5ca9_row3_col0, #T_e5ca9_row3_col1, #T_e5ca9_row4_col0, #T_e5ca9_row4_col1 {\n",
       "  text-align: left;\n",
       "}\n",
       "</style>\n",
       "<table id=\"T_e5ca9\" style=\"font-size: 14px\">\n",
       "  <thead>\n",
       "    <tr>\n",
       "      <th id=\"T_e5ca9_level0_col0\" class=\"col_heading level0 col0\" >Version</th>\n",
       "      <th id=\"T_e5ca9_level0_col1\" class=\"col_heading level0 col1\" >1</th>\n",
       "    </tr>\n",
       "  </thead>\n",
       "  <tbody>\n",
       "    <tr>\n",
       "      <td id=\"T_e5ca9_row0_col0\" class=\"data row0 col0\" >Version Date</td>\n",
       "      <td id=\"T_e5ca9_row0_col1\" class=\"data row0 col1\" >01 Nov 2021</td>\n",
       "    </tr>\n",
       "    <tr>\n",
       "      <td id=\"T_e5ca9_row1_col0\" class=\"data row1 col0\" >Number of Variables</td>\n",
       "      <td id=\"T_e5ca9_row1_col1\" class=\"data row1 col1\" >860</td>\n",
       "    </tr>\n",
       "    <tr>\n",
       "      <td id=\"T_e5ca9_row2_col0\" class=\"data row2 col0\" >Number of Observations</td>\n",
       "      <td id=\"T_e5ca9_row2_col1\" class=\"data row2 col1\" >9137</td>\n",
       "    </tr>\n",
       "    <tr>\n",
       "      <td id=\"T_e5ca9_row3_col0\" class=\"data row3 col0\" >DOI</td>\n",
       "      <td id=\"T_e5ca9_row3_col1\" class=\"data row3 col1\" > <a href=\"https://doi.org/10.83126/ukllc-dataset-00327-01\" rel=\"noopener noreferrer\" target=\"_blank\">10.83126/ukllc-dataset-00327-01</a></td>\n",
       "    </tr>\n",
       "    <tr>\n",
       "      <td id=\"T_e5ca9_row4_col0\" class=\"data row4 col0\" >Change Log</td>\n",
       "      <td id=\"T_e5ca9_row4_col1\" class=\"data row4 col1\" > <a href=\"https://api.test.datacite.org/dois/10.83126/ukllc-dataset-00327-01/activities\" rel=\"noopener noreferrer\" target=\"_blank\">10.83126/ukllc-dataset-00327-01/activities</a></td>\n",
       "    </tr>\n",
       "  </tbody>\n",
       "</table>\n"
      ],
      "text/plain": [
       "<pandas.io.formats.style.Styler at 0x18fd7af02f0>"
      ]
     },
     "execution_count": 4,
     "metadata": {},
     "output_type": "execute_result"
    }
   ],
   "source": [
    "ds.version_history()"
   ]
  },
  {
   "cell_type": "markdown",
   "id": "8f0ea360",
   "metadata": {},
   "source": [
    "## 3. Documentation"
   ]
  },
  {
   "cell_type": "code",
   "execution_count": 5,
   "id": "2f6b6c81",
   "metadata": {
    "execution": {
     "iopub.execute_input": "2025-07-18T10:09:18.654749Z",
     "iopub.status.busy": "2025-07-18T10:09:18.654749Z",
     "iopub.status.idle": "2025-07-18T10:09:18.665062Z",
     "shell.execute_reply": "2025-07-18T10:09:18.663058Z"
    },
    "tags": [
     "remove-input"
    ]
   },
   "outputs": [
    {
     "data": {
      "text/markdown": [
       "We are currently building a documentation storage system which will host useful documents related to datasets and data owners. We will surface these documents on Guidebook."
      ],
      "text/plain": [
       "<IPython.core.display.Markdown object>"
      ]
     },
     "metadata": {},
     "output_type": "display_data"
    }
   ],
   "source": [
    "ds.documentation()"
   ]
  },
  {
   "cell_type": "markdown",
   "id": "91615440",
   "metadata": {},
   "source": [
    "## 4. Useful Syntax"
   ]
  },
  {
   "cell_type": "code",
   "execution_count": 6,
   "id": "f30b6098",
   "metadata": {
    "execution": {
     "iopub.execute_input": "2025-07-18T10:09:18.670064Z",
     "iopub.status.busy": "2025-07-18T10:09:18.670064Z",
     "iopub.status.idle": "2025-07-18T10:09:18.678147Z",
     "shell.execute_reply": "2025-07-18T10:09:18.677067Z"
    },
    "tags": [
     "remove-input"
    ]
   },
   "outputs": [
    {
     "data": {
      "text/markdown": [
       "Below we will include syntax that may be helpful to other researchers in the UK LLC TRE. For longer scripts, we will include a snippet of the code plus a link to Git where you can find the full scripts."
      ],
      "text/plain": [
       "<IPython.core.display.Markdown object>"
      ]
     },
     "metadata": {},
     "output_type": "display_data"
    }
   ],
   "source": [
    "ds.useful_syntax()"
   ]
  }
 ],
 "metadata": {
  "language_info": {
   "codemirror_mode": {
    "name": "ipython",
    "version": 3
   },
   "file_extension": ".py",
   "mimetype": "text/x-python",
   "name": "python",
   "nbconvert_exporter": "python",
   "pygments_lexer": "ipython3",
   "version": "3.12.7"
  }
 },
 "nbformat": 4,
 "nbformat_minor": 5
}
