{
 "cells": [
  {
   "cell_type": "markdown",
   "id": "1ba0089f",
   "metadata": {},
   "source": [
    "# longitudinal outcomes per sweep (NCDS58)"
   ]
  },
  {
   "cell_type": "code",
   "execution_count": 1,
   "id": "418c0a55",
   "metadata": {
    "execution": {
     "iopub.execute_input": "2025-07-18T10:11:05.733500Z",
     "iopub.status.busy": "2025-07-18T10:11:05.732500Z",
     "iopub.status.idle": "2025-07-18T10:11:12.605099Z",
     "shell.execute_reply": "2025-07-18T10:11:12.603092Z"
    },
    "tags": [
     "remove-input"
    ]
   },
   "outputs": [
    {
     "data": {
      "text/markdown": [
       ">Last modified: 18 Jul 2025"
      ],
      "text/plain": [
       "<IPython.core.display.Markdown object>"
      ]
     },
     "metadata": {},
     "output_type": "display_data"
    }
   ],
   "source": [
    "\n",
    "import sys\n",
    "import os\n",
    "sys.path.append(os.path.abspath('../../../../scripts/'))\n",
    "from data_doc_helper import LPSDataSet as DS, last_modified\n",
    "API_KEY = os.environ['FASTAPI_KEY']\n",
    "ds = DS(\"NCDS58\", \"response_1958_2013\")\n",
    "last_modified()\n"
   ]
  },
  {
   "cell_type": "markdown",
   "id": "925ad239",
   "metadata": {},
   "source": [
    "## 1. Summary"
   ]
  },
  {
   "cell_type": "code",
   "execution_count": 2,
   "id": "2e86d681",
   "metadata": {
    "execution": {
     "iopub.execute_input": "2025-07-18T10:11:12.611099Z",
     "iopub.status.busy": "2025-07-18T10:11:12.611099Z",
     "iopub.status.idle": "2025-07-18T10:11:12.623352Z",
     "shell.execute_reply": "2025-07-18T10:11:12.622340Z"
    },
    "tags": [
     "remove-input"
    ]
   },
   "outputs": [
    {
     "data": {
      "text/markdown": [
       "This file contains information about the birth status from the Perinatal Mortality Survey apart from the outcomes (productive or not) for each sweep and the data_availability information."
      ],
      "text/plain": [
       "<IPython.core.display.Markdown object>"
      ]
     },
     "metadata": {},
     "output_type": "display_data"
    }
   ],
   "source": [
    "ds.summary()"
   ]
  },
  {
   "cell_type": "code",
   "execution_count": 3,
   "id": "3c668f5b",
   "metadata": {
    "execution": {
     "iopub.execute_input": "2025-07-18T10:11:12.629347Z",
     "iopub.status.busy": "2025-07-18T10:11:12.628347Z",
     "iopub.status.idle": "2025-07-18T10:11:14.413230Z",
     "shell.execute_reply": "2025-07-18T10:11:14.412223Z"
    },
    "tags": [
     "remove-input"
    ]
   },
   "outputs": [
    {
     "data": {
      "text/html": [
       "<style type=\"text/css\">\n",
       "#T_fe5c6 th {\n",
       "  text-align: left;\n",
       "}\n",
       "#T_fe5c6_row0_col0, #T_fe5c6_row0_col1, #T_fe5c6_row1_col0, #T_fe5c6_row1_col1, #T_fe5c6_row2_col0, #T_fe5c6_row2_col1, #T_fe5c6_row3_col0, #T_fe5c6_row3_col1, #T_fe5c6_row4_col0, #T_fe5c6_row4_col1, #T_fe5c6_row5_col0, #T_fe5c6_row5_col1, #T_fe5c6_row6_col0, #T_fe5c6_row6_col1, #T_fe5c6_row7_col0, #T_fe5c6_row7_col1, #T_fe5c6_row8_col0, #T_fe5c6_row8_col1, #T_fe5c6_row9_col0, #T_fe5c6_row9_col1, #T_fe5c6_row10_col0, #T_fe5c6_row10_col1, #T_fe5c6_row11_col0, #T_fe5c6_row11_col1, #T_fe5c6_row12_col0, #T_fe5c6_row12_col1 {\n",
       "  text-align: left;\n",
       "}\n",
       "</style>\n",
       "<table id=\"T_fe5c6\" style=\"font-size: 14px\">\n",
       "  <thead>\n",
       "    <tr>\n",
       "      <th id=\"T_fe5c6_level0_col0\" class=\"col_heading level0 col0\" >Dataset Descriptor</th>\n",
       "      <th id=\"T_fe5c6_level0_col1\" class=\"col_heading level0 col1\" >Dataset-specific Information</th>\n",
       "    </tr>\n",
       "  </thead>\n",
       "  <tbody>\n",
       "    <tr>\n",
       "      <td id=\"T_fe5c6_row0_col0\" class=\"data row0 col0\" >Name of Dataset in TRE</td>\n",
       "      <td id=\"T_fe5c6_row0_col1\" class=\"data row0 col1\" >NCDS58_response_1958_2013</td>\n",
       "    </tr>\n",
       "    <tr>\n",
       "      <td id=\"T_fe5c6_row1_col0\" class=\"data row1 col0\" >Citation (APA)</td>\n",
       "      <td id=\"T_fe5c6_row1_col1\" class=\"data row1 col1\" >University College London, UCL Social Research Institute, Centre for Longitudinal Studies. (2021). <i>1958 National Child Development Study (NCDS): longitudinal outcomes per sweep.</i> UK Longitudinal Linkage Collaboration (UK LLC).  <a href=\"https://doi.org/10.83126/ukllc-dataset-00328-01\" rel=\"noopener noreferrer\" target=\"_blank\">https://doi.org/10.83126/ukllc-dataset-00328-01</a></td>\n",
       "    </tr>\n",
       "    <tr>\n",
       "      <td id=\"T_fe5c6_row2_col0\" class=\"data row2 col0\" >Download Citation</td>\n",
       "      <td id=\"T_fe5c6_row2_col1\" class=\"data row2 col1\" > <a href=\"https://api.test.datacite.org/application/vnd.citationstyles.csl+json/10.83126/ukllc-dataset-00328-01\" rel=\"noopener noreferrer\" target=\"_blank\">Citeproc JSON</a>&nbsp;&nbsp;&nbsp;&nbsp; <a href=\"https://api.test.datacite.org/application/x-bibtex/10.83126/ukllc-dataset-00328-01\" rel=\"noopener noreferrer\" target=\"_blank\">BibTeX</a>&nbsp;&nbsp;&nbsp;&nbsp; <a href=\"https://api.test.datacite.org/application/x-research-info-systems/10.83126/ukllc-dataset-00328-01\" rel=\"noopener noreferrer\" target=\"_blank\">RIS</a></td>\n",
       "    </tr>\n",
       "    <tr>\n",
       "      <td id=\"T_fe5c6_row3_col0\" class=\"data row3 col0\" >Series</td>\n",
       "      <td id=\"T_fe5c6_row3_col1\" class=\"data row3 col1\" > <a href=\"https://guidebook.ukllc.ac.uk/docs/lps/lps%20profiles/NCDS58\">1958 National Child Development Study (NCDS)</a></td>\n",
       "    </tr>\n",
       "    <tr>\n",
       "      <td id=\"T_fe5c6_row4_col0\" class=\"data row4 col0\" >Owner</td>\n",
       "      <td id=\"T_fe5c6_row4_col1\" class=\"data row4 col1\" >UCL</td>\n",
       "    </tr>\n",
       "    <tr>\n",
       "      <td id=\"T_fe5c6_row5_col0\" class=\"data row5 col0\" >Temporal Coverage</td>\n",
       "      <td id=\"T_fe5c6_row5_col1\" class=\"data row5 col1\" >04/1958 - 03/2014</td>\n",
       "    </tr>\n",
       "    <tr>\n",
       "      <td id=\"T_fe5c6_row6_col0\" class=\"data row6 col0\" >Keywords</td>\n",
       "      <td id=\"T_fe5c6_row6_col1\" class=\"data row6 col1\" >Participation,Mortality,outcome,fieldwork result</td>\n",
       "    </tr>\n",
       "    <tr>\n",
       "      <td id=\"T_fe5c6_row7_col0\" class=\"data row7 col0\" >Participants Invited</td>\n",
       "      <td id=\"T_fe5c6_row7_col1\" class=\"data row7 col1\" >17415</td>\n",
       "    </tr>\n",
       "    <tr>\n",
       "      <td id=\"T_fe5c6_row8_col0\" class=\"data row8 col0\" >Participant Count</td>\n",
       "      <td id=\"T_fe5c6_row8_col1\" class=\"data row8 col1\" >8973</td>\n",
       "    </tr>\n",
       "    <tr>\n",
       "      <td id=\"T_fe5c6_row9_col0\" class=\"data row9 col0\" >Number of variables</td>\n",
       "      <td id=\"T_fe5c6_row9_col1\" class=\"data row9 col1\" >20</td>\n",
       "    </tr>\n",
       "    <tr>\n",
       "      <td id=\"T_fe5c6_row10_col0\" class=\"data row10 col0\" >Number of observations</td>\n",
       "      <td id=\"T_fe5c6_row10_col1\" class=\"data row10 col1\" >18558</td>\n",
       "    </tr>\n",
       "    <tr>\n",
       "      <td id=\"T_fe5c6_row11_col0\" class=\"data row11 col0\" >Specific Restrictions to Data Use</td>\n",
       "      <td id=\"T_fe5c6_row11_col1\" class=\"data row11 col1\" >None</td>\n",
       "    </tr>\n",
       "    <tr>\n",
       "      <td id=\"T_fe5c6_row12_col0\" class=\"data row12 col0\" >Build a Data Request</td>\n",
       "      <td id=\"T_fe5c6_row12_col1\" class=\"data row12 col1\" > <a href=\"https://explore.ukllc.ac.uk/\" rel=\"noopener noreferrer\" target=\"_blank\">https://explore.ukllc.ac.uk/</a></td>\n",
       "    </tr>\n",
       "  </tbody>\n",
       "</table>\n"
      ],
      "text/plain": [
       "<pandas.io.formats.style.Styler at 0x1600c7b0770>"
      ]
     },
     "execution_count": 3,
     "metadata": {},
     "output_type": "execute_result"
    }
   ],
   "source": [
    "ds.info_table()"
   ]
  },
  {
   "cell_type": "markdown",
   "id": "944a4d5a",
   "metadata": {},
   "source": [
    "## 2. Version History"
   ]
  },
  {
   "cell_type": "code",
   "execution_count": 4,
   "id": "7ad0bbbd",
   "metadata": {
    "execution": {
     "iopub.execute_input": "2025-07-18T10:11:14.423230Z",
     "iopub.status.busy": "2025-07-18T10:11:14.422229Z",
     "iopub.status.idle": "2025-07-18T10:11:16.720884Z",
     "shell.execute_reply": "2025-07-18T10:11:16.718840Z"
    },
    "tags": [
     "remove-input"
    ]
   },
   "outputs": [
    {
     "data": {
      "text/html": [
       "<style type=\"text/css\">\n",
       "#T_c420c th {\n",
       "  text-align: left;\n",
       "}\n",
       "#T_c420c_row0_col0, #T_c420c_row0_col1, #T_c420c_row1_col0, #T_c420c_row1_col1, #T_c420c_row2_col0, #T_c420c_row2_col1, #T_c420c_row3_col0, #T_c420c_row3_col1, #T_c420c_row4_col0, #T_c420c_row4_col1 {\n",
       "  text-align: left;\n",
       "}\n",
       "</style>\n",
       "<table id=\"T_c420c\" style=\"font-size: 14px\">\n",
       "  <thead>\n",
       "    <tr>\n",
       "      <th id=\"T_c420c_level0_col0\" class=\"col_heading level0 col0\" >Version</th>\n",
       "      <th id=\"T_c420c_level0_col1\" class=\"col_heading level0 col1\" >1</th>\n",
       "    </tr>\n",
       "  </thead>\n",
       "  <tbody>\n",
       "    <tr>\n",
       "      <td id=\"T_c420c_row0_col0\" class=\"data row0 col0\" >Version Date</td>\n",
       "      <td id=\"T_c420c_row0_col1\" class=\"data row0 col1\" >01 Nov 2021</td>\n",
       "    </tr>\n",
       "    <tr>\n",
       "      <td id=\"T_c420c_row1_col0\" class=\"data row1 col0\" >Number of Variables</td>\n",
       "      <td id=\"T_c420c_row1_col1\" class=\"data row1 col1\" >40</td>\n",
       "    </tr>\n",
       "    <tr>\n",
       "      <td id=\"T_c420c_row2_col0\" class=\"data row2 col0\" >Number of Observations</td>\n",
       "      <td id=\"T_c420c_row2_col1\" class=\"data row2 col1\" >18558</td>\n",
       "    </tr>\n",
       "    <tr>\n",
       "      <td id=\"T_c420c_row3_col0\" class=\"data row3 col0\" >DOI</td>\n",
       "      <td id=\"T_c420c_row3_col1\" class=\"data row3 col1\" > <a href=\"https://doi.org/10.83126/ukllc-dataset-00328-01\" rel=\"noopener noreferrer\" target=\"_blank\">10.83126/ukllc-dataset-00328-01</a></td>\n",
       "    </tr>\n",
       "    <tr>\n",
       "      <td id=\"T_c420c_row4_col0\" class=\"data row4 col0\" >Change Log</td>\n",
       "      <td id=\"T_c420c_row4_col1\" class=\"data row4 col1\" > <a href=\"https://api.test.datacite.org/dois/10.83126/ukllc-dataset-00328-01/activities\" rel=\"noopener noreferrer\" target=\"_blank\">10.83126/ukllc-dataset-00328-01/activities</a></td>\n",
       "    </tr>\n",
       "  </tbody>\n",
       "</table>\n"
      ],
      "text/plain": [
       "<pandas.io.formats.style.Styler at 0x16012501520>"
      ]
     },
     "execution_count": 4,
     "metadata": {},
     "output_type": "execute_result"
    }
   ],
   "source": [
    "ds.version_history()"
   ]
  },
  {
   "cell_type": "markdown",
   "id": "045063a9",
   "metadata": {},
   "source": [
    "## 3. Documentation"
   ]
  },
  {
   "cell_type": "code",
   "execution_count": 5,
   "id": "d87697f9",
   "metadata": {
    "execution": {
     "iopub.execute_input": "2025-07-18T10:11:16.725823Z",
     "iopub.status.busy": "2025-07-18T10:11:16.724823Z",
     "iopub.status.idle": "2025-07-18T10:11:16.733128Z",
     "shell.execute_reply": "2025-07-18T10:11:16.732822Z"
    },
    "tags": [
     "remove-input"
    ]
   },
   "outputs": [
    {
     "data": {
      "text/markdown": [
       "We are currently building a documentation storage system which will host useful documents related to datasets and data owners. We will surface these documents on Guidebook."
      ],
      "text/plain": [
       "<IPython.core.display.Markdown object>"
      ]
     },
     "metadata": {},
     "output_type": "display_data"
    }
   ],
   "source": [
    "ds.documentation()"
   ]
  },
  {
   "cell_type": "markdown",
   "id": "f4067444",
   "metadata": {},
   "source": [
    "## 4. Useful Syntax"
   ]
  },
  {
   "cell_type": "code",
   "execution_count": 6,
   "id": "bacbd988",
   "metadata": {
    "execution": {
     "iopub.execute_input": "2025-07-18T10:11:16.736143Z",
     "iopub.status.busy": "2025-07-18T10:11:16.736143Z",
     "iopub.status.idle": "2025-07-18T10:11:16.744043Z",
     "shell.execute_reply": "2025-07-18T10:11:16.742027Z"
    },
    "tags": [
     "remove-input"
    ]
   },
   "outputs": [
    {
     "data": {
      "text/markdown": [
       "Below we will include syntax that may be helpful to other researchers in the UK LLC TRE. For longer scripts, we will include a snippet of the code plus a link to Git where you can find the full scripts."
      ],
      "text/plain": [
       "<IPython.core.display.Markdown object>"
      ]
     },
     "metadata": {},
     "output_type": "display_data"
    }
   ],
   "source": [
    "ds.useful_syntax()"
   ]
  }
 ],
 "metadata": {
  "language_info": {
   "codemirror_mode": {
    "name": "ipython",
    "version": 3
   },
   "file_extension": ".py",
   "mimetype": "text/x-python",
   "name": "python",
   "nbconvert_exporter": "python",
   "pygments_lexer": "ipython3",
   "version": "3.12.7"
  }
 },
 "nbformat": 4,
 "nbformat_minor": 5
}
