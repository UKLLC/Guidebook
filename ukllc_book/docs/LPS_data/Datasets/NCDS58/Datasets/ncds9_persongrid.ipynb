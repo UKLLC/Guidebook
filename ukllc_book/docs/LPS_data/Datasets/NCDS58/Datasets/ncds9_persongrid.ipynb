{
 "cells": [
  {
   "cell_type": "markdown",
   "id": "931565a0",
   "metadata": {},
   "source": [
    "# sweep 9 persons grid (NCDS58)"
   ]
  },
  {
   "cell_type": "code",
   "execution_count": 1,
   "id": "9955cbca",
   "metadata": {
    "execution": {
     "iopub.execute_input": "2025-07-28T19:52:56.232011Z",
     "iopub.status.busy": "2025-07-28T19:52:56.232011Z",
     "iopub.status.idle": "2025-07-28T19:53:08.544191Z",
     "shell.execute_reply": "2025-07-28T19:53:08.541661Z"
    },
    "tags": [
     "remove-input"
    ]
   },
   "outputs": [
    {
     "data": {
      "text/markdown": [
       ">Last modified: 28 Jul 2025"
      ],
      "text/plain": [
       "<IPython.core.display.Markdown object>"
      ]
     },
     "metadata": {},
     "output_type": "display_data"
    }
   ],
   "source": [
    "\n",
    "import sys\n",
    "import os\n",
    "sys.path.append(os.path.abspath('../../../../scripts/'))\n",
    "from data_doc_helper import LPSDataSet as DS, last_modified\n",
    "API_KEY = os.environ['FASTAPI_KEY']\n",
    "ds = DS(\"NCDS58\", \"ncds9_persongrid\")\n",
    "last_modified()\n"
   ]
  },
  {
   "cell_type": "markdown",
   "id": "fc41ccce",
   "metadata": {},
   "source": [
    "## 1. Summary"
   ]
  },
  {
   "cell_type": "code",
   "execution_count": 2,
   "id": "b9296710",
   "metadata": {
    "execution": {
     "iopub.execute_input": "2025-07-28T19:53:08.553562Z",
     "iopub.status.busy": "2025-07-28T19:53:08.552575Z",
     "iopub.status.idle": "2025-07-28T19:53:08.568251Z",
     "shell.execute_reply": "2025-07-28T19:53:08.566231Z"
    },
    "tags": [
     "remove-input"
    ]
   },
   "outputs": [
    {
     "data": {
      "text/markdown": [
       "This is the data on the members of the household of the Cohort Members from sweep 9 and previous sweeps (2013, age 55) with information about demographics and whether they are currently (in sweep 9) in the Household. The data are long and the IDs are the NCDSID and the N9GRIDID."
      ],
      "text/plain": [
       "<IPython.core.display.Markdown object>"
      ]
     },
     "metadata": {},
     "output_type": "display_data"
    }
   ],
   "source": [
    "ds.summary()"
   ]
  },
  {
   "cell_type": "code",
   "execution_count": 3,
   "id": "6217391b",
   "metadata": {
    "execution": {
     "iopub.execute_input": "2025-07-28T19:53:08.575070Z",
     "iopub.status.busy": "2025-07-28T19:53:08.575070Z",
     "iopub.status.idle": "2025-07-28T19:53:10.179338Z",
     "shell.execute_reply": "2025-07-28T19:53:10.179338Z"
    },
    "tags": [
     "remove-input"
    ]
   },
   "outputs": [
    {
     "data": {
      "text/html": [
       "<style type=\"text/css\">\n",
       "#T_769ce th {\n",
       "  text-align: left;\n",
       "}\n",
       "#T_769ce_row0_col0, #T_769ce_row0_col1, #T_769ce_row1_col0, #T_769ce_row1_col1, #T_769ce_row2_col0, #T_769ce_row2_col1, #T_769ce_row3_col0, #T_769ce_row3_col1, #T_769ce_row4_col0, #T_769ce_row4_col1, #T_769ce_row5_col0, #T_769ce_row5_col1, #T_769ce_row6_col0, #T_769ce_row6_col1, #T_769ce_row7_col0, #T_769ce_row7_col1, #T_769ce_row8_col0, #T_769ce_row8_col1, #T_769ce_row9_col0, #T_769ce_row9_col1, #T_769ce_row10_col0, #T_769ce_row10_col1, #T_769ce_row11_col0, #T_769ce_row11_col1, #T_769ce_row12_col0, #T_769ce_row12_col1 {\n",
       "  text-align: left;\n",
       "}\n",
       "</style>\n",
       "<table id=\"T_769ce\" style=\"font-size: 14px\">\n",
       "  <thead>\n",
       "    <tr>\n",
       "      <th id=\"T_769ce_level0_col0\" class=\"col_heading level0 col0\" >Dataset Descriptor</th>\n",
       "      <th id=\"T_769ce_level0_col1\" class=\"col_heading level0 col1\" >Dataset-specific Information</th>\n",
       "    </tr>\n",
       "  </thead>\n",
       "  <tbody>\n",
       "    <tr>\n",
       "      <td id=\"T_769ce_row0_col0\" class=\"data row0 col0\" >Name of Dataset in TRE</td>\n",
       "      <td id=\"T_769ce_row0_col1\" class=\"data row0 col1\" >NCDS58_ncds9_persongrid</td>\n",
       "    </tr>\n",
       "    <tr>\n",
       "      <td id=\"T_769ce_row1_col0\" class=\"data row1 col0\" >Citation (APA)</td>\n",
       "      <td id=\"T_769ce_row1_col1\" class=\"data row1 col1\" >University College London, UCL Social Research Institute, Centre for Longitudinal Studies. (2021). <i>1958 National Child Development Study (NCDS): sweep 9 persons grid.</i> UK Longitudinal Linkage Collaboration (UK LLC).  <a href=\"https://doi.org/10.71760/ukllc-dataset-00251-01\" rel=\"noopener noreferrer\" target=\"_blank\">https://doi.org/10.71760/ukllc-dataset-00251-01</a></td>\n",
       "    </tr>\n",
       "    <tr>\n",
       "      <td id=\"T_769ce_row2_col0\" class=\"data row2 col0\" >Download Citation</td>\n",
       "      <td id=\"T_769ce_row2_col1\" class=\"data row2 col1\" > <a href=\"https://api.datacite.org/application/vnd.citationstyles.csl+json/10.71760/ukllc-dataset-00251-01\" rel=\"noopener noreferrer\" target=\"_blank\">Citeproc JSON</a>&nbsp;&nbsp;&nbsp;&nbsp; <a href=\"https://api.datacite.org/application/x-bibtex/10.71760/ukllc-dataset-00251-01\" rel=\"noopener noreferrer\" target=\"_blank\">BibTeX</a>&nbsp;&nbsp;&nbsp;&nbsp; <a href=\"https://api.datacite.org/application/x-research-info-systems/10.71760/ukllc-dataset-00251-01\" rel=\"noopener noreferrer\" target=\"_blank\">RIS</a></td>\n",
       "    </tr>\n",
       "    <tr>\n",
       "      <td id=\"T_769ce_row3_col0\" class=\"data row3 col0\" >Series</td>\n",
       "      <td id=\"T_769ce_row3_col1\" class=\"data row3 col1\" > <a href=\"https://guidebook.ukllc.ac.uk/docs/lps_data/lps%20profiles/NCDS58\">1958 National Child Development Study (NCDS)</a></td>\n",
       "    </tr>\n",
       "    <tr>\n",
       "      <td id=\"T_769ce_row4_col0\" class=\"data row4 col0\" >Owner</td>\n",
       "      <td id=\"T_769ce_row4_col1\" class=\"data row4 col1\" >UCL</td>\n",
       "    </tr>\n",
       "    <tr>\n",
       "      <td id=\"T_769ce_row5_col0\" class=\"data row5 col0\" >Temporal Coverage</td>\n",
       "      <td id=\"T_769ce_row5_col1\" class=\"data row5 col1\" >09/2013 - 03/2014</td>\n",
       "    </tr>\n",
       "    <tr>\n",
       "      <td id=\"T_769ce_row6_col0\" class=\"data row6 col0\" >Keywords</td>\n",
       "      <td id=\"T_769ce_row6_col1\" class=\"data row6 col1\" >Household members,Ages,Dates in household,Relationships</td>\n",
       "    </tr>\n",
       "    <tr>\n",
       "      <td id=\"T_769ce_row7_col0\" class=\"data row7 col0\" >Participants Invited</td>\n",
       "      <td id=\"T_769ce_row7_col1\" class=\"data row7 col1\" >9137</td>\n",
       "    </tr>\n",
       "    <tr>\n",
       "      <td id=\"T_769ce_row8_col0\" class=\"data row8 col0\" >Participant Count</td>\n",
       "      <td id=\"T_769ce_row8_col1\" class=\"data row8 col1\" >7591</td>\n",
       "    </tr>\n",
       "    <tr>\n",
       "      <td id=\"T_769ce_row9_col0\" class=\"data row9 col0\" >Number of variables</td>\n",
       "      <td id=\"T_769ce_row9_col1\" class=\"data row9 col1\" >18</td>\n",
       "    </tr>\n",
       "    <tr>\n",
       "      <td id=\"T_769ce_row10_col0\" class=\"data row10 col0\" >Number of observations</td>\n",
       "      <td id=\"T_769ce_row10_col1\" class=\"data row10 col1\" >31757</td>\n",
       "    </tr>\n",
       "    <tr>\n",
       "      <td id=\"T_769ce_row11_col0\" class=\"data row11 col0\" >Specific Restrictions to Data Use</td>\n",
       "      <td id=\"T_769ce_row11_col1\" class=\"data row11 col1\" >None</td>\n",
       "    </tr>\n",
       "    <tr>\n",
       "      <td id=\"T_769ce_row12_col0\" class=\"data row12 col0\" >Build a Data Request</td>\n",
       "      <td id=\"T_769ce_row12_col1\" class=\"data row12 col1\" > <a href=\"https://explore.ukllc.ac.uk/\" rel=\"noopener noreferrer\" target=\"_blank\">https://explore.ukllc.ac.uk/</a></td>\n",
       "    </tr>\n",
       "  </tbody>\n",
       "</table>\n"
      ],
      "text/plain": [
       "<pandas.io.formats.style.Styler at 0x262a6a8d2b0>"
      ]
     },
     "execution_count": 3,
     "metadata": {},
     "output_type": "execute_result"
    }
   ],
   "source": [
    "ds.info_table()"
   ]
  },
  {
   "cell_type": "markdown",
   "id": "34f04bac",
   "metadata": {},
   "source": [
    "## 2. Version History"
   ]
  },
  {
   "cell_type": "code",
   "execution_count": 4,
   "id": "c46d4377",
   "metadata": {
    "execution": {
     "iopub.execute_input": "2025-07-28T19:53:10.184625Z",
     "iopub.status.busy": "2025-07-28T19:53:10.183619Z",
     "iopub.status.idle": "2025-07-28T19:53:15.538062Z",
     "shell.execute_reply": "2025-07-28T19:53:15.536043Z"
    },
    "tags": [
     "remove-input"
    ]
   },
   "outputs": [
    {
     "data": {
      "text/html": [
       "<style type=\"text/css\">\n",
       "#T_072c9 th {\n",
       "  text-align: left;\n",
       "}\n",
       "#T_072c9_row0_col0, #T_072c9_row0_col1, #T_072c9_row1_col0, #T_072c9_row1_col1, #T_072c9_row2_col0, #T_072c9_row2_col1, #T_072c9_row3_col0, #T_072c9_row3_col1, #T_072c9_row4_col0, #T_072c9_row4_col1 {\n",
       "  text-align: left;\n",
       "}\n",
       "</style>\n",
       "<table id=\"T_072c9\" style=\"font-size: 14px\">\n",
       "  <thead>\n",
       "    <tr>\n",
       "      <th id=\"T_072c9_level0_col0\" class=\"col_heading level0 col0\" >Version</th>\n",
       "      <th id=\"T_072c9_level0_col1\" class=\"col_heading level0 col1\" >1</th>\n",
       "    </tr>\n",
       "  </thead>\n",
       "  <tbody>\n",
       "    <tr>\n",
       "      <td id=\"T_072c9_row0_col0\" class=\"data row0 col0\" >Version Date</td>\n",
       "      <td id=\"T_072c9_row0_col1\" class=\"data row0 col1\" >01 Nov 2021</td>\n",
       "    </tr>\n",
       "    <tr>\n",
       "      <td id=\"T_072c9_row1_col0\" class=\"data row1 col0\" >Number of Variables</td>\n",
       "      <td id=\"T_072c9_row1_col1\" class=\"data row1 col1\" >36</td>\n",
       "    </tr>\n",
       "    <tr>\n",
       "      <td id=\"T_072c9_row2_col0\" class=\"data row2 col0\" >Number of Observations</td>\n",
       "      <td id=\"T_072c9_row2_col1\" class=\"data row2 col1\" >31757</td>\n",
       "    </tr>\n",
       "    <tr>\n",
       "      <td id=\"T_072c9_row3_col0\" class=\"data row3 col0\" >DOI</td>\n",
       "      <td id=\"T_072c9_row3_col1\" class=\"data row3 col1\" > <a href=\"https://doi.org/10.71760/ukllc-dataset-00251-01\" rel=\"noopener noreferrer\" target=\"_blank\">10.71760/ukllc-dataset-00251-01</a></td>\n",
       "    </tr>\n",
       "    <tr>\n",
       "      <td id=\"T_072c9_row4_col0\" class=\"data row4 col0\" >Change Log</td>\n",
       "      <td id=\"T_072c9_row4_col1\" class=\"data row4 col1\" > <a href=\"https://api.test.datacite.org/dois/10.71760/ukllc-dataset-00251-01/activities\" rel=\"noopener noreferrer\" target=\"_blank\">10.71760/ukllc-dataset-00251-01/activities</a></td>\n",
       "    </tr>\n",
       "  </tbody>\n",
       "</table>\n"
      ],
      "text/plain": [
       "<pandas.io.formats.style.Styler at 0x262a6a13230>"
      ]
     },
     "execution_count": 4,
     "metadata": {},
     "output_type": "execute_result"
    }
   ],
   "source": [
    "ds.version_history()"
   ]
  },
  {
   "cell_type": "markdown",
   "id": "3cbaafe3",
   "metadata": {},
   "source": [
    "## 3. Documentation"
   ]
  },
  {
   "cell_type": "code",
   "execution_count": 5,
   "id": "0b839b89",
   "metadata": {
    "execution": {
     "iopub.execute_input": "2025-07-28T19:53:15.545857Z",
     "iopub.status.busy": "2025-07-28T19:53:15.544864Z",
     "iopub.status.idle": "2025-07-28T19:53:15.556655Z",
     "shell.execute_reply": "2025-07-28T19:53:15.554863Z"
    },
    "tags": [
     "remove-input"
    ]
   },
   "outputs": [
    {
     "data": {
      "text/markdown": [
       "We are currently building a documentation storage system which will host useful documents related to datasets and data owners. We will surface these documents on Guidebook."
      ],
      "text/plain": [
       "<IPython.core.display.Markdown object>"
      ]
     },
     "metadata": {},
     "output_type": "display_data"
    }
   ],
   "source": [
    "ds.documentation()"
   ]
  },
  {
   "cell_type": "markdown",
   "id": "01d58a65",
   "metadata": {},
   "source": [
    "## 4. Useful Syntax"
   ]
  },
  {
   "cell_type": "code",
   "execution_count": 6,
   "id": "8fc6a798",
   "metadata": {
    "execution": {
     "iopub.execute_input": "2025-07-28T19:53:15.563677Z",
     "iopub.status.busy": "2025-07-28T19:53:15.563677Z",
     "iopub.status.idle": "2025-07-28T19:53:15.573541Z",
     "shell.execute_reply": "2025-07-28T19:53:15.573541Z"
    },
    "tags": [
     "remove-input"
    ]
   },
   "outputs": [
    {
     "data": {
      "text/markdown": [
       "Below we will include syntax that may be helpful to other researchers in the UK LLC TRE. For longer scripts, we will include a snippet of the code plus a link to Git where you can find the full scripts."
      ],
      "text/plain": [
       "<IPython.core.display.Markdown object>"
      ]
     },
     "metadata": {},
     "output_type": "display_data"
    }
   ],
   "source": [
    "ds.useful_syntax()"
   ]
  }
 ],
 "metadata": {
  "language_info": {
   "codemirror_mode": {
    "name": "ipython",
    "version": 3
   },
   "file_extension": ".py",
   "mimetype": "text/x-python",
   "name": "python",
   "nbconvert_exporter": "python",
   "pygments_lexer": "ipython3",
   "version": "3.12.7"
  }
 },
 "nbformat": 4,
 "nbformat_minor": 5
}
