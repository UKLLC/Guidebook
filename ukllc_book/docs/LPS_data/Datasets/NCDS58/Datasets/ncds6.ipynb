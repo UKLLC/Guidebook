{
 "cells": [
  {
   "cell_type": "markdown",
   "id": "7704ca54",
   "metadata": {},
   "source": [
    "# sweep 6 main survey (NCDS58)"
   ]
  },
  {
   "cell_type": "code",
   "execution_count": 1,
   "id": "aa2ceafd",
   "metadata": {
    "execution": {
     "iopub.execute_input": "2025-07-28T19:48:56.588981Z",
     "iopub.status.busy": "2025-07-28T19:48:56.588981Z",
     "iopub.status.idle": "2025-07-28T19:49:17.577744Z",
     "shell.execute_reply": "2025-07-28T19:49:17.573172Z"
    },
    "tags": [
     "remove-input"
    ]
   },
   "outputs": [
    {
     "data": {
      "text/markdown": [
       ">Last modified: 28 Jul 2025"
      ],
      "text/plain": [
       "<IPython.core.display.Markdown object>"
      ]
     },
     "metadata": {},
     "output_type": "display_data"
    }
   ],
   "source": [
    "\n",
    "import sys\n",
    "import os\n",
    "sys.path.append(os.path.abspath('../../../../scripts/'))\n",
    "from data_doc_helper import LPSDataSet as DS, last_modified\n",
    "API_KEY = os.environ['FASTAPI_KEY']\n",
    "ds = DS(\"NCDS58\", \"ncds6\")\n",
    "last_modified()\n"
   ]
  },
  {
   "cell_type": "markdown",
   "id": "69647fd8",
   "metadata": {},
   "source": [
    "## 1. Summary"
   ]
  },
  {
   "cell_type": "code",
   "execution_count": 2,
   "id": "c978b9df",
   "metadata": {
    "execution": {
     "iopub.execute_input": "2025-07-28T19:49:17.591734Z",
     "iopub.status.busy": "2025-07-28T19:49:17.590728Z",
     "iopub.status.idle": "2025-07-28T19:49:17.603733Z",
     "shell.execute_reply": "2025-07-28T19:49:17.601709Z"
    },
    "tags": [
     "remove-input"
    ]
   },
   "outputs": [
    {
     "data": {
      "text/markdown": [
       "Data from sweep 6 (2000, age 42). The data are flat (one-row-per-Cohort-Member) on the NCDSID. The topics cover Cohort Member's children and household members, Cohort Member's employment, income, education/qualifications, health and data of the self-completion questionnaire."
      ],
      "text/plain": [
       "<IPython.core.display.Markdown object>"
      ]
     },
     "metadata": {},
     "output_type": "display_data"
    }
   ],
   "source": [
    "ds.summary()"
   ]
  },
  {
   "cell_type": "code",
   "execution_count": 3,
   "id": "58a00c0c",
   "metadata": {
    "execution": {
     "iopub.execute_input": "2025-07-28T19:49:17.610741Z",
     "iopub.status.busy": "2025-07-28T19:49:17.610741Z",
     "iopub.status.idle": "2025-07-28T19:49:20.560786Z",
     "shell.execute_reply": "2025-07-28T19:49:20.559262Z"
    },
    "tags": [
     "remove-input"
    ]
   },
   "outputs": [
    {
     "data": {
      "text/html": [
       "<style type=\"text/css\">\n",
       "#T_1b3ca th {\n",
       "  text-align: left;\n",
       "}\n",
       "#T_1b3ca_row0_col0, #T_1b3ca_row0_col1, #T_1b3ca_row1_col0, #T_1b3ca_row1_col1, #T_1b3ca_row2_col0, #T_1b3ca_row2_col1, #T_1b3ca_row3_col0, #T_1b3ca_row3_col1, #T_1b3ca_row4_col0, #T_1b3ca_row4_col1, #T_1b3ca_row5_col0, #T_1b3ca_row5_col1, #T_1b3ca_row6_col0, #T_1b3ca_row6_col1, #T_1b3ca_row7_col0, #T_1b3ca_row7_col1, #T_1b3ca_row8_col0, #T_1b3ca_row8_col1, #T_1b3ca_row9_col0, #T_1b3ca_row9_col1, #T_1b3ca_row10_col0, #T_1b3ca_row10_col1, #T_1b3ca_row11_col0, #T_1b3ca_row11_col1, #T_1b3ca_row12_col0, #T_1b3ca_row12_col1 {\n",
       "  text-align: left;\n",
       "}\n",
       "</style>\n",
       "<table id=\"T_1b3ca\" style=\"font-size: 14px\">\n",
       "  <thead>\n",
       "    <tr>\n",
       "      <th id=\"T_1b3ca_level0_col0\" class=\"col_heading level0 col0\" >Dataset Descriptor</th>\n",
       "      <th id=\"T_1b3ca_level0_col1\" class=\"col_heading level0 col1\" >Dataset-specific Information</th>\n",
       "    </tr>\n",
       "  </thead>\n",
       "  <tbody>\n",
       "    <tr>\n",
       "      <td id=\"T_1b3ca_row0_col0\" class=\"data row0 col0\" >Name of Dataset in TRE</td>\n",
       "      <td id=\"T_1b3ca_row0_col1\" class=\"data row0 col1\" >NCDS58_ncds6</td>\n",
       "    </tr>\n",
       "    <tr>\n",
       "      <td id=\"T_1b3ca_row1_col0\" class=\"data row1 col0\" >Citation (APA)</td>\n",
       "      <td id=\"T_1b3ca_row1_col1\" class=\"data row1 col1\" >University College London, UCL Social Research Institute, Centre for Longitudinal Studies. (2021). <i>1958 National Child Development Study (NCDS): sweep 6 main survey.</i> UK Longitudinal Linkage Collaboration (UK LLC).  <a href=\"https://doi.org/10.71760/ukllc-dataset-00244-01\" rel=\"noopener noreferrer\" target=\"_blank\">https://doi.org/10.71760/ukllc-dataset-00244-01</a></td>\n",
       "    </tr>\n",
       "    <tr>\n",
       "      <td id=\"T_1b3ca_row2_col0\" class=\"data row2 col0\" >Download Citation</td>\n",
       "      <td id=\"T_1b3ca_row2_col1\" class=\"data row2 col1\" > <a href=\"https://api.datacite.org/application/vnd.citationstyles.csl+json/10.71760/ukllc-dataset-00244-01\" rel=\"noopener noreferrer\" target=\"_blank\">Citeproc JSON</a>&nbsp;&nbsp;&nbsp;&nbsp; <a href=\"https://api.datacite.org/application/x-bibtex/10.71760/ukllc-dataset-00244-01\" rel=\"noopener noreferrer\" target=\"_blank\">BibTeX</a>&nbsp;&nbsp;&nbsp;&nbsp; <a href=\"https://api.datacite.org/application/x-research-info-systems/10.71760/ukllc-dataset-00244-01\" rel=\"noopener noreferrer\" target=\"_blank\">RIS</a></td>\n",
       "    </tr>\n",
       "    <tr>\n",
       "      <td id=\"T_1b3ca_row3_col0\" class=\"data row3 col0\" >Series</td>\n",
       "      <td id=\"T_1b3ca_row3_col1\" class=\"data row3 col1\" > <a href=\"https://guidebook.ukllc.ac.uk/docs/lps_data/lps%20profiles/NCDS58\">1958 National Child Development Study (NCDS)</a></td>\n",
       "    </tr>\n",
       "    <tr>\n",
       "      <td id=\"T_1b3ca_row4_col0\" class=\"data row4 col0\" >Owner</td>\n",
       "      <td id=\"T_1b3ca_row4_col1\" class=\"data row4 col1\" >UCL</td>\n",
       "    </tr>\n",
       "    <tr>\n",
       "      <td id=\"T_1b3ca_row5_col0\" class=\"data row5 col0\" >Temporal Coverage</td>\n",
       "      <td id=\"T_1b3ca_row5_col1\" class=\"data row5 col1\" >11/1999 - 05/2000</td>\n",
       "    </tr>\n",
       "    <tr>\n",
       "      <td id=\"T_1b3ca_row6_col0\" class=\"data row6 col0\" >Keywords</td>\n",
       "      <td id=\"T_1b3ca_row6_col1\" class=\"data row6 col1\" ></td>\n",
       "    </tr>\n",
       "    <tr>\n",
       "      <td id=\"T_1b3ca_row7_col0\" class=\"data row7 col0\" >Participants Invited</td>\n",
       "      <td id=\"T_1b3ca_row7_col1\" class=\"data row7 col1\" >11419</td>\n",
       "    </tr>\n",
       "    <tr>\n",
       "      <td id=\"T_1b3ca_row8_col0\" class=\"data row8 col0\" >Participant Count</td>\n",
       "      <td id=\"T_1b3ca_row8_col1\" class=\"data row8 col1\" >8243</td>\n",
       "    </tr>\n",
       "    <tr>\n",
       "      <td id=\"T_1b3ca_row9_col0\" class=\"data row9 col0\" >Number of variables</td>\n",
       "      <td id=\"T_1b3ca_row9_col1\" class=\"data row9 col1\" >3622</td>\n",
       "    </tr>\n",
       "    <tr>\n",
       "      <td id=\"T_1b3ca_row10_col0\" class=\"data row10 col0\" >Number of observations</td>\n",
       "      <td id=\"T_1b3ca_row10_col1\" class=\"data row10 col1\" >11419</td>\n",
       "    </tr>\n",
       "    <tr>\n",
       "      <td id=\"T_1b3ca_row11_col0\" class=\"data row11 col0\" >Specific Restrictions to Data Use</td>\n",
       "      <td id=\"T_1b3ca_row11_col1\" class=\"data row11 col1\" >None</td>\n",
       "    </tr>\n",
       "    <tr>\n",
       "      <td id=\"T_1b3ca_row12_col0\" class=\"data row12 col0\" >Build a Data Request</td>\n",
       "      <td id=\"T_1b3ca_row12_col1\" class=\"data row12 col1\" > <a href=\"https://explore.ukllc.ac.uk/\" rel=\"noopener noreferrer\" target=\"_blank\">https://explore.ukllc.ac.uk/</a></td>\n",
       "    </tr>\n",
       "  </tbody>\n",
       "</table>\n"
      ],
      "text/plain": [
       "<pandas.io.formats.style.Styler at 0x1996e61d2b0>"
      ]
     },
     "execution_count": 3,
     "metadata": {},
     "output_type": "execute_result"
    }
   ],
   "source": [
    "ds.info_table()"
   ]
  },
  {
   "cell_type": "markdown",
   "id": "47ae41e9",
   "metadata": {},
   "source": [
    "## 2. Version History"
   ]
  },
  {
   "cell_type": "code",
   "execution_count": 4,
   "id": "f9221916",
   "metadata": {
    "execution": {
     "iopub.execute_input": "2025-07-28T19:49:20.569785Z",
     "iopub.status.busy": "2025-07-28T19:49:20.568808Z",
     "iopub.status.idle": "2025-07-28T19:49:33.005150Z",
     "shell.execute_reply": "2025-07-28T19:49:32.997773Z"
    },
    "tags": [
     "remove-input"
    ]
   },
   "outputs": [
    {
     "data": {
      "text/html": [
       "<style type=\"text/css\">\n",
       "#T_f99ca th {\n",
       "  text-align: left;\n",
       "}\n",
       "#T_f99ca_row0_col0, #T_f99ca_row0_col1, #T_f99ca_row1_col0, #T_f99ca_row1_col1, #T_f99ca_row2_col0, #T_f99ca_row2_col1, #T_f99ca_row3_col0, #T_f99ca_row3_col1, #T_f99ca_row4_col0, #T_f99ca_row4_col1 {\n",
       "  text-align: left;\n",
       "}\n",
       "</style>\n",
       "<table id=\"T_f99ca\" style=\"font-size: 14px\">\n",
       "  <thead>\n",
       "    <tr>\n",
       "      <th id=\"T_f99ca_level0_col0\" class=\"col_heading level0 col0\" >Version</th>\n",
       "      <th id=\"T_f99ca_level0_col1\" class=\"col_heading level0 col1\" >1</th>\n",
       "    </tr>\n",
       "  </thead>\n",
       "  <tbody>\n",
       "    <tr>\n",
       "      <td id=\"T_f99ca_row0_col0\" class=\"data row0 col0\" >Version Date</td>\n",
       "      <td id=\"T_f99ca_row0_col1\" class=\"data row0 col1\" >01 Nov 2021</td>\n",
       "    </tr>\n",
       "    <tr>\n",
       "      <td id=\"T_f99ca_row1_col0\" class=\"data row1 col0\" >Number of Variables</td>\n",
       "      <td id=\"T_f99ca_row1_col1\" class=\"data row1 col1\" >3630</td>\n",
       "    </tr>\n",
       "    <tr>\n",
       "      <td id=\"T_f99ca_row2_col0\" class=\"data row2 col0\" >Number of Observations</td>\n",
       "      <td id=\"T_f99ca_row2_col1\" class=\"data row2 col1\" >11419</td>\n",
       "    </tr>\n",
       "    <tr>\n",
       "      <td id=\"T_f99ca_row3_col0\" class=\"data row3 col0\" >DOI</td>\n",
       "      <td id=\"T_f99ca_row3_col1\" class=\"data row3 col1\" > <a href=\"https://doi.org/10.71760/ukllc-dataset-00244-01\" rel=\"noopener noreferrer\" target=\"_blank\">10.71760/ukllc-dataset-00244-01</a></td>\n",
       "    </tr>\n",
       "    <tr>\n",
       "      <td id=\"T_f99ca_row4_col0\" class=\"data row4 col0\" >Change Log</td>\n",
       "      <td id=\"T_f99ca_row4_col1\" class=\"data row4 col1\" > <a href=\"https://api.test.datacite.org/dois/10.71760/ukllc-dataset-00244-01/activities\" rel=\"noopener noreferrer\" target=\"_blank\">10.71760/ukllc-dataset-00244-01/activities</a></td>\n",
       "    </tr>\n",
       "  </tbody>\n",
       "</table>\n"
      ],
      "text/plain": [
       "<pandas.io.formats.style.Styler at 0x1996e508860>"
      ]
     },
     "execution_count": 4,
     "metadata": {},
     "output_type": "execute_result"
    }
   ],
   "source": [
    "ds.version_history()"
   ]
  },
  {
   "cell_type": "markdown",
   "id": "d8371cd1",
   "metadata": {},
   "source": [
    "## 3. Documentation"
   ]
  },
  {
   "cell_type": "code",
   "execution_count": 5,
   "id": "d0ae24d0",
   "metadata": {
    "execution": {
     "iopub.execute_input": "2025-07-28T19:49:33.026232Z",
     "iopub.status.busy": "2025-07-28T19:49:33.024215Z",
     "iopub.status.idle": "2025-07-28T19:49:33.049126Z",
     "shell.execute_reply": "2025-07-28T19:49:33.046604Z"
    },
    "tags": [
     "remove-input"
    ]
   },
   "outputs": [
    {
     "data": {
      "text/markdown": [
       "We are currently building a documentation storage system which will host useful documents related to datasets and data owners. We will surface these documents on Guidebook."
      ],
      "text/plain": [
       "<IPython.core.display.Markdown object>"
      ]
     },
     "metadata": {},
     "output_type": "display_data"
    }
   ],
   "source": [
    "ds.documentation()"
   ]
  },
  {
   "cell_type": "markdown",
   "id": "7d037a08",
   "metadata": {},
   "source": [
    "## 4. Useful Syntax"
   ]
  },
  {
   "cell_type": "code",
   "execution_count": 6,
   "id": "4059703e",
   "metadata": {
    "execution": {
     "iopub.execute_input": "2025-07-28T19:49:33.060203Z",
     "iopub.status.busy": "2025-07-28T19:49:33.058133Z",
     "iopub.status.idle": "2025-07-28T19:49:33.082150Z",
     "shell.execute_reply": "2025-07-28T19:49:33.076620Z"
    },
    "tags": [
     "remove-input"
    ]
   },
   "outputs": [
    {
     "data": {
      "text/markdown": [
       "Below we will include syntax that may be helpful to other researchers in the UK LLC TRE. For longer scripts, we will include a snippet of the code plus a link to Git where you can find the full scripts."
      ],
      "text/plain": [
       "<IPython.core.display.Markdown object>"
      ]
     },
     "metadata": {},
     "output_type": "display_data"
    }
   ],
   "source": [
    "ds.useful_syntax()"
   ]
  }
 ],
 "metadata": {
  "language_info": {
   "codemirror_mode": {
    "name": "ipython",
    "version": 3
   },
   "file_extension": ".py",
   "mimetype": "text/x-python",
   "name": "python",
   "nbconvert_exporter": "python",
   "pygments_lexer": "ipython3",
   "version": "3.12.7"
  }
 },
 "nbformat": 4,
 "nbformat_minor": 5
}
