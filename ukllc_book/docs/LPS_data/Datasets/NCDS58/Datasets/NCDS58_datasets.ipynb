{
 "cells": [
  {
   "cell_type": "markdown",
   "id": "c5a90778",
   "metadata": {},
   "source": [
    "# 1958 National Child Development Study (NCDS) Datasets"
   ]
  },
  {
   "cell_type": "code",
   "execution_count": 1,
   "id": "d9146fef",
   "metadata": {
    "execution": {
     "iopub.execute_input": "2025-07-28T19:47:53.712532Z",
     "iopub.status.busy": "2025-07-28T19:47:53.711530Z",
     "iopub.status.idle": "2025-07-28T19:47:58.022411Z",
     "shell.execute_reply": "2025-07-28T19:47:58.020878Z"
    },
    "tags": [
     "remove-input"
    ]
   },
   "outputs": [
    {
     "data": {
      "text/markdown": [
       ">Last modified: 28 Jul 2025"
      ],
      "text/plain": [
       "<IPython.core.display.Markdown object>"
      ]
     },
     "metadata": {},
     "output_type": "display_data"
    }
   ],
   "source": [
    "\n",
    "import sys\n",
    "import os\n",
    "sys.path.append(os.path.abspath('../../../../scripts/'))\n",
    "from data_doc_helper import LPSSource as SS, last_modified\n",
    "API_KEY = os.environ['FASTAPI_KEY']\n",
    "ss = SS(\"NCDS58\")\n",
    "last_modified()\n"
   ]
  },
  {
   "cell_type": "markdown",
   "id": "97a694cd",
   "metadata": {},
   "source": [
    "## 1. Datasets"
   ]
  },
  {
   "cell_type": "code",
   "execution_count": 2,
   "id": "3ee9c640",
   "metadata": {
    "execution": {
     "iopub.execute_input": "2025-07-28T19:47:58.030713Z",
     "iopub.status.busy": "2025-07-28T19:47:58.029701Z",
     "iopub.status.idle": "2025-07-28T19:47:58.036525Z",
     "shell.execute_reply": "2025-07-28T19:47:58.036525Z"
    },
    "tags": [
     "remove-input"
    ]
   },
   "outputs": [
    {
     "data": {
      "text/markdown": [
       "**Table 1:** Datasets and metrics in the UK LLC belonging to NCDS58."
      ],
      "text/plain": [
       "<IPython.core.display.Markdown object>"
      ]
     },
     "metadata": {},
     "output_type": "display_data"
    }
   ],
   "source": [
    "ss.table_caption_ds()"
   ]
  },
  {
   "cell_type": "code",
   "execution_count": 3,
   "id": "59c3789f",
   "metadata": {
    "execution": {
     "iopub.execute_input": "2025-07-28T19:47:58.040389Z",
     "iopub.status.busy": "2025-07-28T19:47:58.040389Z",
     "iopub.status.idle": "2025-07-28T19:48:00.530209Z",
     "shell.execute_reply": "2025-07-28T19:48:00.529189Z"
    },
    "tags": [
     "remove-input",
     "hide-cell"
    ]
   },
   "outputs": [
    {
     "data": {
      "text/html": [
       "<style type=\"text/css\">\n",
       "#T_c734a th {\n",
       "  text-align: left;\n",
       "}\n",
       "#T_c734a_row0_col0, #T_c734a_row0_col1, #T_c734a_row0_col2, #T_c734a_row0_col3, #T_c734a_row0_col4, #T_c734a_row1_col0, #T_c734a_row1_col1, #T_c734a_row1_col2, #T_c734a_row1_col3, #T_c734a_row1_col4, #T_c734a_row2_col0, #T_c734a_row2_col1, #T_c734a_row2_col2, #T_c734a_row2_col3, #T_c734a_row2_col4, #T_c734a_row3_col0, #T_c734a_row3_col1, #T_c734a_row3_col2, #T_c734a_row3_col3, #T_c734a_row3_col4, #T_c734a_row4_col0, #T_c734a_row4_col1, #T_c734a_row4_col2, #T_c734a_row4_col3, #T_c734a_row4_col4, #T_c734a_row5_col0, #T_c734a_row5_col1, #T_c734a_row5_col2, #T_c734a_row5_col3, #T_c734a_row5_col4, #T_c734a_row6_col0, #T_c734a_row6_col1, #T_c734a_row6_col2, #T_c734a_row6_col3, #T_c734a_row6_col4, #T_c734a_row7_col0, #T_c734a_row7_col1, #T_c734a_row7_col2, #T_c734a_row7_col3, #T_c734a_row7_col4, #T_c734a_row8_col0, #T_c734a_row8_col1, #T_c734a_row8_col2, #T_c734a_row8_col3, #T_c734a_row8_col4, #T_c734a_row9_col0, #T_c734a_row9_col1, #T_c734a_row9_col2, #T_c734a_row9_col3, #T_c734a_row9_col4, #T_c734a_row10_col0, #T_c734a_row10_col1, #T_c734a_row10_col2, #T_c734a_row10_col3, #T_c734a_row10_col4, #T_c734a_row11_col0, #T_c734a_row11_col1, #T_c734a_row11_col2, #T_c734a_row11_col3, #T_c734a_row11_col4, #T_c734a_row12_col0, #T_c734a_row12_col1, #T_c734a_row12_col2, #T_c734a_row12_col3, #T_c734a_row12_col4, #T_c734a_row13_col0, #T_c734a_row13_col1, #T_c734a_row13_col2, #T_c734a_row13_col3, #T_c734a_row13_col4, #T_c734a_row14_col0, #T_c734a_row14_col1, #T_c734a_row14_col2, #T_c734a_row14_col3, #T_c734a_row14_col4, #T_c734a_row15_col0, #T_c734a_row15_col1, #T_c734a_row15_col2, #T_c734a_row15_col3, #T_c734a_row15_col4, #T_c734a_row16_col0, #T_c734a_row16_col1, #T_c734a_row16_col2, #T_c734a_row16_col3, #T_c734a_row16_col4, #T_c734a_row17_col0, #T_c734a_row17_col1, #T_c734a_row17_col2, #T_c734a_row17_col3, #T_c734a_row17_col4, #T_c734a_row18_col0, #T_c734a_row18_col1, #T_c734a_row18_col2, #T_c734a_row18_col3, #T_c734a_row18_col4, #T_c734a_row19_col0, #T_c734a_row19_col1, #T_c734a_row19_col2, #T_c734a_row19_col3, #T_c734a_row19_col4, #T_c734a_row20_col0, #T_c734a_row20_col1, #T_c734a_row20_col2, #T_c734a_row20_col3, #T_c734a_row20_col4, #T_c734a_row21_col0, #T_c734a_row21_col1, #T_c734a_row21_col2, #T_c734a_row21_col3, #T_c734a_row21_col4, #T_c734a_row22_col0, #T_c734a_row22_col1, #T_c734a_row22_col2, #T_c734a_row22_col3, #T_c734a_row22_col4 {\n",
       "  text-align: left;\n",
       "}\n",
       "</style>\n",
       "<table id=\"T_c734a\" style=\"font-size: 14px\">\n",
       "  <thead>\n",
       "    <tr>\n",
       "      <th id=\"T_c734a_level0_col0\" class=\"col_heading level0 col0\" >Dataset</th>\n",
       "      <th id=\"T_c734a_level0_col1\" class=\"col_heading level0 col1\" >Dataset Name</th>\n",
       "      <th id=\"T_c734a_level0_col2\" class=\"col_heading level0 col2\" ># Participants</th>\n",
       "      <th id=\"T_c734a_level0_col3\" class=\"col_heading level0 col3\" ># Observations</th>\n",
       "      <th id=\"T_c734a_level0_col4\" class=\"col_heading level0 col4\" ># Variables</th>\n",
       "    </tr>\n",
       "  </thead>\n",
       "  <tbody>\n",
       "    <tr>\n",
       "      <td id=\"T_c734a_row0_col0\" class=\"data row0 col0\" > <a href=\"ncds6_biomedical.html\">ncds6_biomedical</a></td>\n",
       "      <td id=\"T_c734a_row0_col1\" class=\"data row0 col1\" >face-to-face nurse biomedical sweep 6</td>\n",
       "      <td id=\"T_c734a_row0_col2\" class=\"data row0 col2\" >7049</td>\n",
       "      <td id=\"T_c734a_row0_col3\" class=\"data row0 col3\" >8791</td>\n",
       "      <td id=\"T_c734a_row0_col4\" class=\"data row0 col4\" >1091</td>\n",
       "    </tr>\n",
       "    <tr>\n",
       "      <td id=\"T_c734a_row1_col0\" class=\"data row1 col0\" > <a href=\"ncds5.html\">ncds5</a></td>\n",
       "      <td id=\"T_c734a_row1_col1\" class=\"data row1 col1\" >sweep 5 main survey</td>\n",
       "      <td id=\"T_c734a_row1_col2\" class=\"data row1 col2\" >7796</td>\n",
       "      <td id=\"T_c734a_row1_col3\" class=\"data row1 col3\" >11469</td>\n",
       "      <td id=\"T_c734a_row1_col4\" class=\"data row1 col4\" >3197</td>\n",
       "    </tr>\n",
       "    <tr>\n",
       "      <td id=\"T_c734a_row2_col0\" class=\"data row2 col0\" > <a href=\"ncds5_partner.html\">ncds5_partner</a></td>\n",
       "      <td id=\"T_c734a_row2_col1\" class=\"data row2 col1\" >sweep 5 partner data</td>\n",
       "      <td id=\"T_c734a_row2_col2\" class=\"data row2 col2\" >5480</td>\n",
       "      <td id=\"T_c734a_row2_col3\" class=\"data row2 col3\" >7719</td>\n",
       "      <td id=\"T_c734a_row2_col4\" class=\"data row2 col4\" >1882</td>\n",
       "    </tr>\n",
       "    <tr>\n",
       "      <td id=\"T_c734a_row3_col0\" class=\"data row3 col0\" > <a href=\"ncds4.html\">ncds4</a></td>\n",
       "      <td id=\"T_c734a_row3_col1\" class=\"data row3 col1\" >sweep 4 main survey</td>\n",
       "      <td id=\"T_c734a_row3_col2\" class=\"data row3 col2\" >7617</td>\n",
       "      <td id=\"T_c734a_row3_col3\" class=\"data row3 col3\" >12537</td>\n",
       "      <td id=\"T_c734a_row3_col4\" class=\"data row3 col4\" >2378</td>\n",
       "    </tr>\n",
       "    <tr>\n",
       "      <td id=\"T_c734a_row4_col0\" class=\"data row4 col0\" > <a href=\"ncds0123.html\">ncds0123</a></td>\n",
       "      <td id=\"T_c734a_row4_col1\" class=\"data row4 col1\" >sweeps 0-3 main surveys</td>\n",
       "      <td id=\"T_c734a_row4_col2\" class=\"data row4 col2\" >8973</td>\n",
       "      <td id=\"T_c734a_row4_col3\" class=\"data row4 col3\" >18558</td>\n",
       "      <td id=\"T_c734a_row4_col4\" class=\"data row4 col4\" >3538</td>\n",
       "    </tr>\n",
       "    <tr>\n",
       "      <td id=\"T_c734a_row5_col0\" class=\"data row5 col0\" > <a href=\"basic_demographic.html\">basic_demographic</a></td>\n",
       "      <td id=\"T_c734a_row5_col1\" class=\"data row5 col1\" >Basic demographic variables</td>\n",
       "      <td id=\"T_c734a_row5_col2\" class=\"data row5 col2\" >8965</td>\n",
       "      <td id=\"T_c734a_row5_col3\" class=\"data row5 col3\" >18558</td>\n",
       "      <td id=\"T_c734a_row5_col4\" class=\"data row5 col4\" >51</td>\n",
       "    </tr>\n",
       "    <tr>\n",
       "      <td id=\"T_c734a_row6_col0\" class=\"data row6 col0\" > <a href=\"Covid_19_Serology.html\">Covid_19_Serology</a></td>\n",
       "      <td id=\"T_c734a_row6_col1\" class=\"data row6 col1\" >COVID-19 Antibody Testing</td>\n",
       "      <td id=\"T_c734a_row6_col2\" class=\"data row6 col2\" >3878</td>\n",
       "      <td id=\"T_c734a_row6_col3\" class=\"data row6 col3\" >4157</td>\n",
       "      <td id=\"T_c734a_row6_col4\" class=\"data row6 col4\" >72</td>\n",
       "    </tr>\n",
       "    <tr>\n",
       "      <td id=\"T_c734a_row7_col0\" class=\"data row7 col0\" > <a href=\"COVID_w3.html\">COVID_w3</a></td>\n",
       "      <td id=\"T_c734a_row7_col1\" class=\"data row7 col1\" >COVID-19 Survey Wave 3</td>\n",
       "      <td id=\"T_c734a_row7_col2\" class=\"data row7 col2\" >6205</td>\n",
       "      <td id=\"T_c734a_row7_col3\" class=\"data row7 col3\" >6809</td>\n",
       "      <td id=\"T_c734a_row7_col4\" class=\"data row7 col4\" >4132</td>\n",
       "    </tr>\n",
       "    <tr>\n",
       "      <td id=\"T_c734a_row8_col0\" class=\"data row8 col0\" > <a href=\"COVID_w2.html\">COVID_w2</a></td>\n",
       "      <td id=\"T_c734a_row8_col1\" class=\"data row8 col1\" >COVID-19 Survey Wave 2</td>\n",
       "      <td id=\"T_c734a_row8_col2\" class=\"data row8 col2\" >5619</td>\n",
       "      <td id=\"T_c734a_row8_col3\" class=\"data row8 col3\" >6282</td>\n",
       "      <td id=\"T_c734a_row8_col4\" class=\"data row8 col4\" >3897</td>\n",
       "    </tr>\n",
       "    <tr>\n",
       "      <td id=\"T_c734a_row9_col0\" class=\"data row9 col0\" > <a href=\"COVID_w1.html\">COVID_w1</a></td>\n",
       "      <td id=\"T_c734a_row9_col1\" class=\"data row9 col1\" >COVID-19 Survey Wave 1</td>\n",
       "      <td id=\"T_c734a_row9_col2\" class=\"data row9 col2\" >4635</td>\n",
       "      <td id=\"T_c734a_row9_col3\" class=\"data row9 col3\" >5178</td>\n",
       "      <td id=\"T_c734a_row9_col4\" class=\"data row9 col4\" >1512</td>\n",
       "    </tr>\n",
       "    <tr>\n",
       "      <td id=\"T_c734a_row10_col0\" class=\"data row10 col0\" > <a href=\"ncds6.html\">ncds6</a></td>\n",
       "      <td id=\"T_c734a_row10_col1\" class=\"data row10 col1\" >sweep 6 main survey</td>\n",
       "      <td id=\"T_c734a_row10_col2\" class=\"data row10 col2\" >8243</td>\n",
       "      <td id=\"T_c734a_row10_col3\" class=\"data row10 col3\" >11419</td>\n",
       "      <td id=\"T_c734a_row10_col4\" class=\"data row10 col4\" >3630</td>\n",
       "    </tr>\n",
       "    <tr>\n",
       "      <td id=\"T_c734a_row11_col0\" class=\"data row11 col0\" > <a href=\"ncds7.html\">ncds7</a></td>\n",
       "      <td id=\"T_c734a_row11_col1\" class=\"data row11 col1\" >sweep 7 main survey</td>\n",
       "      <td id=\"T_c734a_row11_col2\" class=\"data row11 col2\" >7646</td>\n",
       "      <td id=\"T_c734a_row11_col3\" class=\"data row11 col3\" >9534</td>\n",
       "      <td id=\"T_c734a_row11_col4\" class=\"data row11 col4\" >1569</td>\n",
       "    </tr>\n",
       "    <tr>\n",
       "      <td id=\"T_c734a_row12_col0\" class=\"data row12 col0\" > <a href=\"ncds9_child_died.html\">ncds9_child_died</a></td>\n",
       "      <td id=\"T_c734a_row12_col1\" class=\"data row12 col1\" >sweep 9 deceased children</td>\n",
       "      <td id=\"T_c734a_row12_col2\" class=\"data row12 col2\" >190</td>\n",
       "      <td id=\"T_c734a_row12_col3\" class=\"data row12 col3\" >228</td>\n",
       "      <td id=\"T_c734a_row12_col4\" class=\"data row12 col4\" >20</td>\n",
       "    </tr>\n",
       "    <tr>\n",
       "      <td id=\"T_c734a_row13_col0\" class=\"data row13 col0\" > <a href=\"response_1958_2013.html\">response_1958_2013</a></td>\n",
       "      <td id=\"T_c734a_row13_col1\" class=\"data row13 col1\" >longitudinal outcomes per sweep</td>\n",
       "      <td id=\"T_c734a_row13_col2\" class=\"data row13 col2\" >8973</td>\n",
       "      <td id=\"T_c734a_row13_col3\" class=\"data row13 col3\" >18558</td>\n",
       "      <td id=\"T_c734a_row13_col4\" class=\"data row13 col4\" >40</td>\n",
       "    </tr>\n",
       "    <tr>\n",
       "      <td id=\"T_c734a_row14_col0\" class=\"data row14 col0\" > <a href=\"ncds9.html\">ncds9</a></td>\n",
       "      <td id=\"T_c734a_row14_col1\" class=\"data row14 col1\" >sweep 9 main survey</td>\n",
       "      <td id=\"T_c734a_row14_col2\" class=\"data row14 col2\" >7781</td>\n",
       "      <td id=\"T_c734a_row14_col3\" class=\"data row14 col3\" >9137</td>\n",
       "      <td id=\"T_c734a_row14_col4\" class=\"data row14 col4\" >860</td>\n",
       "    </tr>\n",
       "    <tr>\n",
       "      <td id=\"T_c734a_row15_col0\" class=\"data row15 col0\" > <a href=\"ncds9_relationships.html\">ncds9_relationships</a></td>\n",
       "      <td id=\"T_c734a_row15_col1\" class=\"data row15 col1\" >sweep 9 relationships</td>\n",
       "      <td id=\"T_c734a_row15_col2\" class=\"data row15 col2\" >7778</td>\n",
       "      <td id=\"T_c734a_row15_col3\" class=\"data row15 col3\" >9804</td>\n",
       "      <td id=\"T_c734a_row15_col4\" class=\"data row15 col4\" >44</td>\n",
       "    </tr>\n",
       "    <tr>\n",
       "      <td id=\"T_c734a_row16_col0\" class=\"data row16 col0\" > <a href=\"ncds9_qualifications.html\">ncds9_qualifications</a></td>\n",
       "      <td id=\"T_c734a_row16_col1\" class=\"data row16 col1\" >sweep 9 qualifications</td>\n",
       "      <td id=\"T_c734a_row16_col2\" class=\"data row16 col2\" >1119</td>\n",
       "      <td id=\"T_c734a_row16_col3\" class=\"data row16 col3\" >2124</td>\n",
       "      <td id=\"T_c734a_row16_col4\" class=\"data row16 col4\" >36</td>\n",
       "    </tr>\n",
       "    <tr>\n",
       "      <td id=\"T_c734a_row17_col0\" class=\"data row17 col0\" > <a href=\"ncds9_persongrid.html\">ncds9_persongrid</a></td>\n",
       "      <td id=\"T_c734a_row17_col1\" class=\"data row17 col1\" >sweep 9 persons grid</td>\n",
       "      <td id=\"T_c734a_row17_col2\" class=\"data row17 col2\" >7591</td>\n",
       "      <td id=\"T_c734a_row17_col3\" class=\"data row17 col3\" >31757</td>\n",
       "      <td id=\"T_c734a_row17_col4\" class=\"data row17 col4\" >36</td>\n",
       "    </tr>\n",
       "    <tr>\n",
       "      <td id=\"T_c734a_row18_col0\" class=\"data row18 col0\" > <a href=\"ncds9_housing.html\">ncds9_housing</a></td>\n",
       "      <td id=\"T_c734a_row18_col1\" class=\"data row18 col1\" >sweep 9 housing</td>\n",
       "      <td id=\"T_c734a_row18_col2\" class=\"data row18 col2\" >1434</td>\n",
       "      <td id=\"T_c734a_row18_col3\" class=\"data row18 col3\" >2489</td>\n",
       "      <td id=\"T_c734a_row18_col4\" class=\"data row18 col4\" >18</td>\n",
       "    </tr>\n",
       "    <tr>\n",
       "      <td id=\"T_c734a_row19_col0\" class=\"data row19 col0\" > <a href=\"ncds9_employment.html\">ncds9_employment</a></td>\n",
       "      <td id=\"T_c734a_row19_col1\" class=\"data row19 col1\" >sweep 9 employment</td>\n",
       "      <td id=\"T_c734a_row19_col2\" class=\"data row19 col2\" >2447</td>\n",
       "      <td id=\"T_c734a_row19_col3\" class=\"data row19 col3\" >4483</td>\n",
       "      <td id=\"T_c734a_row19_col4\" class=\"data row19 col4\" >52</td>\n",
       "    </tr>\n",
       "    <tr>\n",
       "      <td id=\"T_c734a_row20_col0\" class=\"data row20 col0\" > <a href=\"ncds9_derived.html\">ncds9_derived</a></td>\n",
       "      <td id=\"T_c734a_row20_col1\" class=\"data row20 col1\" >sweep 9 derived </td>\n",
       "      <td id=\"T_c734a_row20_col2\" class=\"data row20 col2\" >7781</td>\n",
       "      <td id=\"T_c734a_row20_col3\" class=\"data row20 col3\" >9137</td>\n",
       "      <td id=\"T_c734a_row20_col4\" class=\"data row20 col4\" >112</td>\n",
       "    </tr>\n",
       "    <tr>\n",
       "      <td id=\"T_c734a_row21_col0\" class=\"data row21 col0\" > <a href=\"ncds8.html\">ncds8</a></td>\n",
       "      <td id=\"T_c734a_row21_col1\" class=\"data row21 col1\" >sweep 8 main survey</td>\n",
       "      <td id=\"T_c734a_row21_col2\" class=\"data row21 col2\" >8421</td>\n",
       "      <td id=\"T_c734a_row21_col3\" class=\"data row21 col3\" >9790</td>\n",
       "      <td id=\"T_c734a_row21_col4\" class=\"data row21 col4\" >1620</td>\n",
       "    </tr>\n",
       "    <tr>\n",
       "      <td id=\"T_c734a_row22_col0\" class=\"data row22 col0\" > <a href=\"ncds5_mother_child.html\">ncds5_mother_child</a></td>\n",
       "      <td id=\"T_c734a_row22_col1\" class=\"data row22 col1\" >sweep 5 mother child data</td>\n",
       "      <td id=\"T_c734a_row22_col2\" class=\"data row22 col2\" >1751</td>\n",
       "      <td id=\"T_c734a_row22_col3\" class=\"data row22 col3\" >4287</td>\n",
       "      <td id=\"T_c734a_row22_col4\" class=\"data row22 col4\" >1748</td>\n",
       "    </tr>\n",
       "  </tbody>\n",
       "</table>\n"
      ],
      "text/plain": [
       "<pandas.io.formats.style.Styler at 0x20358cc5c40>"
      ]
     },
     "execution_count": 3,
     "metadata": {},
     "output_type": "execute_result"
    }
   ],
   "source": [
    "ss.datasets()"
   ]
  }
 ],
 "metadata": {
  "language_info": {
   "codemirror_mode": {
    "name": "ipython",
    "version": 3
   },
   "file_extension": ".py",
   "mimetype": "text/x-python",
   "name": "python",
   "nbconvert_exporter": "python",
   "pygments_lexer": "ipython3",
   "version": "3.12.7"
  },
  "mystnb": {
   "code_prompt_hide": "Hide Datasets",
   "code_prompt_show": "Show Datasets"
  }
 },
 "nbformat": 4,
 "nbformat_minor": 5
}
