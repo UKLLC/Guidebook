{
 "cells": [
  {
   "cell_type": "markdown",
   "id": "c5a90778",
   "metadata": {},
   "source": [
    "# 1958 National Child Development Study (NCDS) Datasets"
   ]
  },
  {
   "cell_type": "code",
   "execution_count": null,
   "id": "d9146fef",
   "metadata": {
    "tags": [
     "remove-input"
    ]
   },
   "outputs": [],
   "source": [
    "\n",
    "import sys\n",
    "import os\n",
    "sys.path.append(os.path.abspath('../../../../scripts/'))\n",
    "from data_doc_helper import LPSSource as SS, last_modified\n",
    "API_KEY = os.environ['FASTAPI_KEY']\n",
    "ss = SS(\"NCDS58\")\n",
    "last_modified()\n"
   ]
  },
  {
   "cell_type": "markdown",
   "id": "97a694cd",
   "metadata": {},
   "source": [
    "## 1. Datasets"
   ]
  },
  {
   "cell_type": "code",
   "execution_count": null,
   "id": "3ee9c640",
   "metadata": {
    "tags": [
     "remove-input"
    ]
   },
   "outputs": [],
   "source": [
    "ss.table_caption_ds()"
   ]
  },
  {
   "cell_type": "code",
   "execution_count": null,
   "id": "59c3789f",
   "metadata": {
    "tags": [
     "remove-input",
     "hide-cell"
    ]
   },
   "outputs": [],
   "source": [
    "ss.datasets()"
   ]
  }
 ],
 "metadata": {
  "mystnb": {
   "code_prompt_hide": "Hide Datasets",
   "code_prompt_show": "Show Datasets"
  }
 },
 "nbformat": 4,
 "nbformat_minor": 5
}
