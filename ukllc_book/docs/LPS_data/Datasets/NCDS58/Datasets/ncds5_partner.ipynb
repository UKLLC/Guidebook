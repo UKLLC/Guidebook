{
 "cells": [
  {
   "cell_type": "markdown",
   "id": "983808a8",
   "metadata": {},
   "source": [
    "# sweep 5 partner data (NCDS58)"
   ]
  },
  {
   "cell_type": "code",
   "execution_count": 1,
   "id": "ccfbaf40",
   "metadata": {
    "execution": {
     "iopub.execute_input": "2025-07-18T10:07:54.637488Z",
     "iopub.status.busy": "2025-07-18T10:07:54.637488Z",
     "iopub.status.idle": "2025-07-18T10:08:01.594069Z",
     "shell.execute_reply": "2025-07-18T10:08:01.594069Z"
    },
    "tags": [
     "remove-input"
    ]
   },
   "outputs": [
    {
     "data": {
      "text/markdown": [
       ">Last modified: 18 Jul 2025"
      ],
      "text/plain": [
       "<IPython.core.display.Markdown object>"
      ]
     },
     "metadata": {},
     "output_type": "display_data"
    }
   ],
   "source": [
    "\n",
    "import sys\n",
    "import os\n",
    "sys.path.append(os.path.abspath('../../../../scripts/'))\n",
    "from data_doc_helper import LPSDataSet as DS, last_modified\n",
    "API_KEY = os.environ['FASTAPI_KEY']\n",
    "ds = DS(\"NCDS58\", \"ncds5_partner\")\n",
    "last_modified()\n"
   ]
  },
  {
   "cell_type": "markdown",
   "id": "781de49b",
   "metadata": {},
   "source": [
    "## 1. Summary"
   ]
  },
  {
   "cell_type": "code",
   "execution_count": 2,
   "id": "ab3c916b",
   "metadata": {
    "execution": {
     "iopub.execute_input": "2025-07-18T10:08:01.600085Z",
     "iopub.status.busy": "2025-07-18T10:08:01.600085Z",
     "iopub.status.idle": "2025-07-18T10:08:01.608220Z",
     "shell.execute_reply": "2025-07-18T10:08:01.608220Z"
    },
    "tags": [
     "remove-input"
    ]
   },
   "outputs": [
    {
     "data": {
      "text/markdown": [
       "This is the partner data of sweep 5 (1991, age 33). The data are flat, one row per partner of the Cohort Member and they contain information about the partner's employment."
      ],
      "text/plain": [
       "<IPython.core.display.Markdown object>"
      ]
     },
     "metadata": {},
     "output_type": "display_data"
    }
   ],
   "source": [
    "ds.summary()"
   ]
  },
  {
   "cell_type": "code",
   "execution_count": 3,
   "id": "9fdb5a7e",
   "metadata": {
    "execution": {
     "iopub.execute_input": "2025-07-18T10:08:01.612250Z",
     "iopub.status.busy": "2025-07-18T10:08:01.611250Z",
     "iopub.status.idle": "2025-07-18T10:08:02.938340Z",
     "shell.execute_reply": "2025-07-18T10:08:02.936332Z"
    },
    "tags": [
     "remove-input"
    ]
   },
   "outputs": [
    {
     "data": {
      "text/html": [
       "<style type=\"text/css\">\n",
       "#T_7dabf th {\n",
       "  text-align: left;\n",
       "}\n",
       "#T_7dabf_row0_col0, #T_7dabf_row0_col1, #T_7dabf_row1_col0, #T_7dabf_row1_col1, #T_7dabf_row2_col0, #T_7dabf_row2_col1, #T_7dabf_row3_col0, #T_7dabf_row3_col1, #T_7dabf_row4_col0, #T_7dabf_row4_col1, #T_7dabf_row5_col0, #T_7dabf_row5_col1, #T_7dabf_row6_col0, #T_7dabf_row6_col1, #T_7dabf_row7_col0, #T_7dabf_row7_col1, #T_7dabf_row8_col0, #T_7dabf_row8_col1, #T_7dabf_row9_col0, #T_7dabf_row9_col1, #T_7dabf_row10_col0, #T_7dabf_row10_col1, #T_7dabf_row11_col0, #T_7dabf_row11_col1, #T_7dabf_row12_col0, #T_7dabf_row12_col1 {\n",
       "  text-align: left;\n",
       "}\n",
       "</style>\n",
       "<table id=\"T_7dabf\" style=\"font-size: 14px\">\n",
       "  <thead>\n",
       "    <tr>\n",
       "      <th id=\"T_7dabf_level0_col0\" class=\"col_heading level0 col0\" >Dataset Descriptor</th>\n",
       "      <th id=\"T_7dabf_level0_col1\" class=\"col_heading level0 col1\" >Dataset-specific Information</th>\n",
       "    </tr>\n",
       "  </thead>\n",
       "  <tbody>\n",
       "    <tr>\n",
       "      <td id=\"T_7dabf_row0_col0\" class=\"data row0 col0\" >Name of Dataset in TRE</td>\n",
       "      <td id=\"T_7dabf_row0_col1\" class=\"data row0 col1\" >NCDS58_ncds5_partner</td>\n",
       "    </tr>\n",
       "    <tr>\n",
       "      <td id=\"T_7dabf_row1_col0\" class=\"data row1 col0\" >Citation (APA)</td>\n",
       "      <td id=\"T_7dabf_row1_col1\" class=\"data row1 col1\" >University College London, UCL Social Research Institute, Centre for Longitudinal Studies. (2021). <i>1958 National Child Development Study (NCDS): sweep 5 partner data.</i> UK Longitudinal Linkage Collaboration (UK LLC).  <a href=\"https://doi.org/10.83126/ukllc-dataset-00314-01\" rel=\"noopener noreferrer\" target=\"_blank\">https://doi.org/10.83126/ukllc-dataset-00314-01</a></td>\n",
       "    </tr>\n",
       "    <tr>\n",
       "      <td id=\"T_7dabf_row2_col0\" class=\"data row2 col0\" >Download Citation</td>\n",
       "      <td id=\"T_7dabf_row2_col1\" class=\"data row2 col1\" > <a href=\"https://api.test.datacite.org/application/vnd.citationstyles.csl+json/10.83126/ukllc-dataset-00314-01\" rel=\"noopener noreferrer\" target=\"_blank\">Citeproc JSON</a>&nbsp;&nbsp;&nbsp;&nbsp; <a href=\"https://api.test.datacite.org/application/x-bibtex/10.83126/ukllc-dataset-00314-01\" rel=\"noopener noreferrer\" target=\"_blank\">BibTeX</a>&nbsp;&nbsp;&nbsp;&nbsp; <a href=\"https://api.test.datacite.org/application/x-research-info-systems/10.83126/ukllc-dataset-00314-01\" rel=\"noopener noreferrer\" target=\"_blank\">RIS</a></td>\n",
       "    </tr>\n",
       "    <tr>\n",
       "      <td id=\"T_7dabf_row3_col0\" class=\"data row3 col0\" >Series</td>\n",
       "      <td id=\"T_7dabf_row3_col1\" class=\"data row3 col1\" > <a href=\"https://guidebook.ukllc.ac.uk/docs/lps/lps%20profiles/NCDS58\">1958 National Child Development Study (NCDS)</a></td>\n",
       "    </tr>\n",
       "    <tr>\n",
       "      <td id=\"T_7dabf_row4_col0\" class=\"data row4 col0\" >Owner</td>\n",
       "      <td id=\"T_7dabf_row4_col1\" class=\"data row4 col1\" >UCL</td>\n",
       "    </tr>\n",
       "    <tr>\n",
       "      <td id=\"T_7dabf_row5_col0\" class=\"data row5 col0\" >Temporal Coverage</td>\n",
       "      <td id=\"T_7dabf_row5_col1\" class=\"data row5 col1\" >03/1991 - 12/1991</td>\n",
       "    </tr>\n",
       "    <tr>\n",
       "      <td id=\"T_7dabf_row6_col0\" class=\"data row6 col0\" >Keywords</td>\n",
       "      <td id=\"T_7dabf_row6_col1\" class=\"data row6 col1\" >Partner,Employment,Health,Attitudes,Parenthood,Education</td>\n",
       "    </tr>\n",
       "    <tr>\n",
       "      <td id=\"T_7dabf_row7_col0\" class=\"data row7 col0\" >Participants Invited</td>\n",
       "      <td id=\"T_7dabf_row7_col1\" class=\"data row7 col1\" >11469</td>\n",
       "    </tr>\n",
       "    <tr>\n",
       "      <td id=\"T_7dabf_row8_col0\" class=\"data row8 col0\" >Participant Count</td>\n",
       "      <td id=\"T_7dabf_row8_col1\" class=\"data row8 col1\" >5480</td>\n",
       "    </tr>\n",
       "    <tr>\n",
       "      <td id=\"T_7dabf_row9_col0\" class=\"data row9 col0\" >Number of variables</td>\n",
       "      <td id=\"T_7dabf_row9_col1\" class=\"data row9 col1\" >941</td>\n",
       "    </tr>\n",
       "    <tr>\n",
       "      <td id=\"T_7dabf_row10_col0\" class=\"data row10 col0\" >Number of observations</td>\n",
       "      <td id=\"T_7dabf_row10_col1\" class=\"data row10 col1\" >7719</td>\n",
       "    </tr>\n",
       "    <tr>\n",
       "      <td id=\"T_7dabf_row11_col0\" class=\"data row11 col0\" >Specific Restrictions to Data Use</td>\n",
       "      <td id=\"T_7dabf_row11_col1\" class=\"data row11 col1\" >None</td>\n",
       "    </tr>\n",
       "    <tr>\n",
       "      <td id=\"T_7dabf_row12_col0\" class=\"data row12 col0\" >Build a Data Request</td>\n",
       "      <td id=\"T_7dabf_row12_col1\" class=\"data row12 col1\" > <a href=\"https://explore.ukllc.ac.uk/\" rel=\"noopener noreferrer\" target=\"_blank\">https://explore.ukllc.ac.uk/</a></td>\n",
       "    </tr>\n",
       "  </tbody>\n",
       "</table>\n"
      ],
      "text/plain": [
       "<pandas.io.formats.style.Styler at 0x1b9d38a9010>"
      ]
     },
     "execution_count": 3,
     "metadata": {},
     "output_type": "execute_result"
    }
   ],
   "source": [
    "ds.info_table()"
   ]
  },
  {
   "cell_type": "markdown",
   "id": "b480b5ca",
   "metadata": {},
   "source": [
    "## 2. Version History"
   ]
  },
  {
   "cell_type": "code",
   "execution_count": 4,
   "id": "6ecc858a",
   "metadata": {
    "execution": {
     "iopub.execute_input": "2025-07-18T10:08:02.945338Z",
     "iopub.status.busy": "2025-07-18T10:08:02.944338Z",
     "iopub.status.idle": "2025-07-18T10:08:05.430590Z",
     "shell.execute_reply": "2025-07-18T10:08:05.428538Z"
    },
    "tags": [
     "remove-input"
    ]
   },
   "outputs": [
    {
     "data": {
      "text/html": [
       "<style type=\"text/css\">\n",
       "#T_29c6d th {\n",
       "  text-align: left;\n",
       "}\n",
       "#T_29c6d_row0_col0, #T_29c6d_row0_col1, #T_29c6d_row1_col0, #T_29c6d_row1_col1, #T_29c6d_row2_col0, #T_29c6d_row2_col1, #T_29c6d_row3_col0, #T_29c6d_row3_col1, #T_29c6d_row4_col0, #T_29c6d_row4_col1 {\n",
       "  text-align: left;\n",
       "}\n",
       "</style>\n",
       "<table id=\"T_29c6d\" style=\"font-size: 14px\">\n",
       "  <thead>\n",
       "    <tr>\n",
       "      <th id=\"T_29c6d_level0_col0\" class=\"col_heading level0 col0\" >Version</th>\n",
       "      <th id=\"T_29c6d_level0_col1\" class=\"col_heading level0 col1\" >1</th>\n",
       "    </tr>\n",
       "  </thead>\n",
       "  <tbody>\n",
       "    <tr>\n",
       "      <td id=\"T_29c6d_row0_col0\" class=\"data row0 col0\" >Version Date</td>\n",
       "      <td id=\"T_29c6d_row0_col1\" class=\"data row0 col1\" >01 Nov 2021</td>\n",
       "    </tr>\n",
       "    <tr>\n",
       "      <td id=\"T_29c6d_row1_col0\" class=\"data row1 col0\" >Number of Variables</td>\n",
       "      <td id=\"T_29c6d_row1_col1\" class=\"data row1 col1\" >1882</td>\n",
       "    </tr>\n",
       "    <tr>\n",
       "      <td id=\"T_29c6d_row2_col0\" class=\"data row2 col0\" >Number of Observations</td>\n",
       "      <td id=\"T_29c6d_row2_col1\" class=\"data row2 col1\" >7719</td>\n",
       "    </tr>\n",
       "    <tr>\n",
       "      <td id=\"T_29c6d_row3_col0\" class=\"data row3 col0\" >DOI</td>\n",
       "      <td id=\"T_29c6d_row3_col1\" class=\"data row3 col1\" > <a href=\"https://doi.org/10.83126/ukllc-dataset-00314-01\" rel=\"noopener noreferrer\" target=\"_blank\">10.83126/ukllc-dataset-00314-01</a></td>\n",
       "    </tr>\n",
       "    <tr>\n",
       "      <td id=\"T_29c6d_row4_col0\" class=\"data row4 col0\" >Change Log</td>\n",
       "      <td id=\"T_29c6d_row4_col1\" class=\"data row4 col1\" > <a href=\"https://api.test.datacite.org/dois/10.83126/ukllc-dataset-00314-01/activities\" rel=\"noopener noreferrer\" target=\"_blank\">10.83126/ukllc-dataset-00314-01/activities</a></td>\n",
       "    </tr>\n",
       "  </tbody>\n",
       "</table>\n"
      ],
      "text/plain": [
       "<pandas.io.formats.style.Styler at 0x1b9d57915b0>"
      ]
     },
     "execution_count": 4,
     "metadata": {},
     "output_type": "execute_result"
    }
   ],
   "source": [
    "ds.version_history()"
   ]
  },
  {
   "cell_type": "markdown",
   "id": "8dc5b89b",
   "metadata": {},
   "source": [
    "## 3. Documentation"
   ]
  },
  {
   "cell_type": "code",
   "execution_count": 5,
   "id": "8d1cf013",
   "metadata": {
    "execution": {
     "iopub.execute_input": "2025-07-18T10:08:05.436326Z",
     "iopub.status.busy": "2025-07-18T10:08:05.435327Z",
     "iopub.status.idle": "2025-07-18T10:08:05.443699Z",
     "shell.execute_reply": "2025-07-18T10:08:05.442692Z"
    },
    "tags": [
     "remove-input"
    ]
   },
   "outputs": [
    {
     "data": {
      "text/markdown": [
       "We are currently building a documentation storage system which will host useful documents related to datasets and data owners. We will surface these documents on Guidebook."
      ],
      "text/plain": [
       "<IPython.core.display.Markdown object>"
      ]
     },
     "metadata": {},
     "output_type": "display_data"
    }
   ],
   "source": [
    "ds.documentation()"
   ]
  },
  {
   "cell_type": "markdown",
   "id": "47e8dba6",
   "metadata": {},
   "source": [
    "## 4. Useful Syntax"
   ]
  },
  {
   "cell_type": "code",
   "execution_count": 6,
   "id": "921b23ba",
   "metadata": {
    "execution": {
     "iopub.execute_input": "2025-07-18T10:08:05.448707Z",
     "iopub.status.busy": "2025-07-18T10:08:05.448707Z",
     "iopub.status.idle": "2025-07-18T10:08:05.456081Z",
     "shell.execute_reply": "2025-07-18T10:08:05.455066Z"
    },
    "tags": [
     "remove-input"
    ]
   },
   "outputs": [
    {
     "data": {
      "text/markdown": [
       "Below we will include syntax that may be helpful to other researchers in the UK LLC TRE. For longer scripts, we will include a snippet of the code plus a link to Git where you can find the full scripts."
      ],
      "text/plain": [
       "<IPython.core.display.Markdown object>"
      ]
     },
     "metadata": {},
     "output_type": "display_data"
    }
   ],
   "source": [
    "ds.useful_syntax()"
   ]
  }
 ],
 "metadata": {
  "language_info": {
   "codemirror_mode": {
    "name": "ipython",
    "version": 3
   },
   "file_extension": ".py",
   "mimetype": "text/x-python",
   "name": "python",
   "nbconvert_exporter": "python",
   "pygments_lexer": "ipython3",
   "version": "3.12.7"
  }
 },
 "nbformat": 4,
 "nbformat_minor": 5
}
