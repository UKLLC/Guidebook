{
 "cells": [
  {
   "cell_type": "markdown",
   "id": "8684a860",
   "metadata": {},
   "source": [
    "# sweep 5 mother child data (NCDS58)"
   ]
  },
  {
   "cell_type": "code",
   "execution_count": 1,
   "id": "a7757163",
   "metadata": {
    "execution": {
     "iopub.execute_input": "2025-07-28T19:48:04.319198Z",
     "iopub.status.busy": "2025-07-28T19:48:04.318205Z",
     "iopub.status.idle": "2025-07-28T19:48:16.979111Z",
     "shell.execute_reply": "2025-07-28T19:48:16.972078Z"
    },
    "tags": [
     "remove-input"
    ]
   },
   "outputs": [
    {
     "data": {
      "text/markdown": [
       ">Last modified: 28 Jul 2025"
      ],
      "text/plain": [
       "<IPython.core.display.Markdown object>"
      ]
     },
     "metadata": {},
     "output_type": "display_data"
    }
   ],
   "source": [
    "\n",
    "import sys\n",
    "import os\n",
    "sys.path.append(os.path.abspath('../../../../scripts/'))\n",
    "from data_doc_helper import LPSDataSet as DS, last_modified\n",
    "API_KEY = os.environ['FASTAPI_KEY']\n",
    "ds = DS(\"NCDS58\", \"ncds5_mother_child\")\n",
    "last_modified()\n"
   ]
  },
  {
   "cell_type": "markdown",
   "id": "1b213e82",
   "metadata": {},
   "source": [
    "## 1. Summary"
   ]
  },
  {
   "cell_type": "code",
   "execution_count": 2,
   "id": "a786dbe2",
   "metadata": {
    "execution": {
     "iopub.execute_input": "2025-07-28T19:48:17.013218Z",
     "iopub.status.busy": "2025-07-28T19:48:17.003678Z",
     "iopub.status.idle": "2025-07-28T19:48:17.029304Z",
     "shell.execute_reply": "2025-07-28T19:48:17.025258Z"
    },
    "tags": [
     "remove-input"
    ]
   },
   "outputs": [
    {
     "data": {
      "text/markdown": [
       "This is the mother child data of sweep 5 (1991, age 33). The data are long (the IDs are ncdsid and person, one row per person/child in the family of the Cohort Member) and they contain information about motherhood and raising children in the household as well as health and educational attainment/skills."
      ],
      "text/plain": [
       "<IPython.core.display.Markdown object>"
      ]
     },
     "metadata": {},
     "output_type": "display_data"
    }
   ],
   "source": [
    "ds.summary()"
   ]
  },
  {
   "cell_type": "code",
   "execution_count": 3,
   "id": "42ae7c7e",
   "metadata": {
    "execution": {
     "iopub.execute_input": "2025-07-28T19:48:17.038832Z",
     "iopub.status.busy": "2025-07-28T19:48:17.037319Z",
     "iopub.status.idle": "2025-07-28T19:48:19.351849Z",
     "shell.execute_reply": "2025-07-28T19:48:19.349316Z"
    },
    "tags": [
     "remove-input"
    ]
   },
   "outputs": [
    {
     "data": {
      "text/html": [
       "<style type=\"text/css\">\n",
       "#T_d62c9 th {\n",
       "  text-align: left;\n",
       "}\n",
       "#T_d62c9_row0_col0, #T_d62c9_row0_col1, #T_d62c9_row1_col0, #T_d62c9_row1_col1, #T_d62c9_row2_col0, #T_d62c9_row2_col1, #T_d62c9_row3_col0, #T_d62c9_row3_col1, #T_d62c9_row4_col0, #T_d62c9_row4_col1, #T_d62c9_row5_col0, #T_d62c9_row5_col1, #T_d62c9_row6_col0, #T_d62c9_row6_col1, #T_d62c9_row7_col0, #T_d62c9_row7_col1, #T_d62c9_row8_col0, #T_d62c9_row8_col1, #T_d62c9_row9_col0, #T_d62c9_row9_col1, #T_d62c9_row10_col0, #T_d62c9_row10_col1, #T_d62c9_row11_col0, #T_d62c9_row11_col1, #T_d62c9_row12_col0, #T_d62c9_row12_col1 {\n",
       "  text-align: left;\n",
       "}\n",
       "</style>\n",
       "<table id=\"T_d62c9\" style=\"font-size: 14px\">\n",
       "  <thead>\n",
       "    <tr>\n",
       "      <th id=\"T_d62c9_level0_col0\" class=\"col_heading level0 col0\" >Dataset Descriptor</th>\n",
       "      <th id=\"T_d62c9_level0_col1\" class=\"col_heading level0 col1\" >Dataset-specific Information</th>\n",
       "    </tr>\n",
       "  </thead>\n",
       "  <tbody>\n",
       "    <tr>\n",
       "      <td id=\"T_d62c9_row0_col0\" class=\"data row0 col0\" >Name of Dataset in TRE</td>\n",
       "      <td id=\"T_d62c9_row0_col1\" class=\"data row0 col1\" >NCDS58_ncds5_mother_child</td>\n",
       "    </tr>\n",
       "    <tr>\n",
       "      <td id=\"T_d62c9_row1_col0\" class=\"data row1 col0\" >Citation (APA)</td>\n",
       "      <td id=\"T_d62c9_row1_col1\" class=\"data row1 col1\" >University College London, UCL Social Research Institute, Centre for Longitudinal Studies. (2021). <i>1958 National Child Development Study (NCDS): sweep 5 mother child data.</i> UK Longitudinal Linkage Collaboration (UK LLC).  <a href=\"https://doi.org/10.71760/ukllc-dataset-00240-02\" rel=\"noopener noreferrer\" target=\"_blank\">https://doi.org/10.71760/ukllc-dataset-00240-02</a></td>\n",
       "    </tr>\n",
       "    <tr>\n",
       "      <td id=\"T_d62c9_row2_col0\" class=\"data row2 col0\" >Download Citation</td>\n",
       "      <td id=\"T_d62c9_row2_col1\" class=\"data row2 col1\" > <a href=\"https://api.datacite.org/application/vnd.citationstyles.csl+json/10.71760/ukllc-dataset-00240-02\" rel=\"noopener noreferrer\" target=\"_blank\">Citeproc JSON</a>&nbsp;&nbsp;&nbsp;&nbsp; <a href=\"https://api.datacite.org/application/x-bibtex/10.71760/ukllc-dataset-00240-02\" rel=\"noopener noreferrer\" target=\"_blank\">BibTeX</a>&nbsp;&nbsp;&nbsp;&nbsp; <a href=\"https://api.datacite.org/application/x-research-info-systems/10.71760/ukllc-dataset-00240-02\" rel=\"noopener noreferrer\" target=\"_blank\">RIS</a></td>\n",
       "    </tr>\n",
       "    <tr>\n",
       "      <td id=\"T_d62c9_row3_col0\" class=\"data row3 col0\" >Series</td>\n",
       "      <td id=\"T_d62c9_row3_col1\" class=\"data row3 col1\" > <a href=\"https://guidebook.ukllc.ac.uk/docs/lps_data/lps%20profiles/NCDS58\">1958 National Child Development Study (NCDS)</a></td>\n",
       "    </tr>\n",
       "    <tr>\n",
       "      <td id=\"T_d62c9_row4_col0\" class=\"data row4 col0\" >Owner</td>\n",
       "      <td id=\"T_d62c9_row4_col1\" class=\"data row4 col1\" >UCL</td>\n",
       "    </tr>\n",
       "    <tr>\n",
       "      <td id=\"T_d62c9_row5_col0\" class=\"data row5 col0\" >Temporal Coverage</td>\n",
       "      <td id=\"T_d62c9_row5_col1\" class=\"data row5 col1\" >03/1991 - 12/1991</td>\n",
       "    </tr>\n",
       "    <tr>\n",
       "      <td id=\"T_d62c9_row6_col0\" class=\"data row6 col0\" >Keywords</td>\n",
       "      <td id=\"T_d62c9_row6_col1\" class=\"data row6 col1\" >Mother,child cognition,Behaviour,Attitudes,Parenthood,Inter-generational</td>\n",
       "    </tr>\n",
       "    <tr>\n",
       "      <td id=\"T_d62c9_row7_col0\" class=\"data row7 col0\" >Participants Invited</td>\n",
       "      <td id=\"T_d62c9_row7_col1\" class=\"data row7 col1\" >11469</td>\n",
       "    </tr>\n",
       "    <tr>\n",
       "      <td id=\"T_d62c9_row8_col0\" class=\"data row8 col0\" >Participant Count</td>\n",
       "      <td id=\"T_d62c9_row8_col1\" class=\"data row8 col1\" >1751</td>\n",
       "    </tr>\n",
       "    <tr>\n",
       "      <td id=\"T_d62c9_row9_col0\" class=\"data row9 col0\" >Number of variables</td>\n",
       "      <td id=\"T_d62c9_row9_col1\" class=\"data row9 col1\" >1745</td>\n",
       "    </tr>\n",
       "    <tr>\n",
       "      <td id=\"T_d62c9_row10_col0\" class=\"data row10 col0\" >Number of observations</td>\n",
       "      <td id=\"T_d62c9_row10_col1\" class=\"data row10 col1\" >4287</td>\n",
       "    </tr>\n",
       "    <tr>\n",
       "      <td id=\"T_d62c9_row11_col0\" class=\"data row11 col0\" >Specific Restrictions to Data Use</td>\n",
       "      <td id=\"T_d62c9_row11_col1\" class=\"data row11 col1\" >None</td>\n",
       "    </tr>\n",
       "    <tr>\n",
       "      <td id=\"T_d62c9_row12_col0\" class=\"data row12 col0\" >Build a Data Request</td>\n",
       "      <td id=\"T_d62c9_row12_col1\" class=\"data row12 col1\" > <a href=\"https://explore.ukllc.ac.uk/\" rel=\"noopener noreferrer\" target=\"_blank\">https://explore.ukllc.ac.uk/</a></td>\n",
       "    </tr>\n",
       "  </tbody>\n",
       "</table>\n"
      ],
      "text/plain": [
       "<pandas.io.formats.style.Styler at 0x24b97c7f9e0>"
      ]
     },
     "execution_count": 3,
     "metadata": {},
     "output_type": "execute_result"
    }
   ],
   "source": [
    "ds.info_table()"
   ]
  },
  {
   "cell_type": "markdown",
   "id": "98c10f79",
   "metadata": {},
   "source": [
    "## 2. Version History"
   ]
  },
  {
   "cell_type": "code",
   "execution_count": 4,
   "id": "b69bded1",
   "metadata": {
    "execution": {
     "iopub.execute_input": "2025-07-28T19:48:19.359847Z",
     "iopub.status.busy": "2025-07-28T19:48:19.358846Z",
     "iopub.status.idle": "2025-07-28T19:48:24.504439Z",
     "shell.execute_reply": "2025-07-28T19:48:24.502400Z"
    },
    "tags": [
     "remove-input"
    ]
   },
   "outputs": [
    {
     "data": {
      "text/html": [
       "<style type=\"text/css\">\n",
       "#T_751ed th {\n",
       "  text-align: left;\n",
       "}\n",
       "#T_751ed_row0_col0, #T_751ed_row0_col1, #T_751ed_row0_col2, #T_751ed_row1_col0, #T_751ed_row1_col1, #T_751ed_row1_col2, #T_751ed_row2_col0, #T_751ed_row2_col1, #T_751ed_row2_col2, #T_751ed_row3_col0, #T_751ed_row3_col1, #T_751ed_row3_col2, #T_751ed_row4_col0, #T_751ed_row4_col1, #T_751ed_row4_col2 {\n",
       "  text-align: left;\n",
       "}\n",
       "</style>\n",
       "<table id=\"T_751ed\" style=\"font-size: 14px\">\n",
       "  <thead>\n",
       "    <tr>\n",
       "      <th id=\"T_751ed_level0_col0\" class=\"col_heading level0 col0\" >Version</th>\n",
       "      <th id=\"T_751ed_level0_col1\" class=\"col_heading level0 col1\" >1</th>\n",
       "      <th id=\"T_751ed_level0_col2\" class=\"col_heading level0 col2\" >2</th>\n",
       "    </tr>\n",
       "  </thead>\n",
       "  <tbody>\n",
       "    <tr>\n",
       "      <td id=\"T_751ed_row0_col0\" class=\"data row0 col0\" >Version Date</td>\n",
       "      <td id=\"T_751ed_row0_col1\" class=\"data row0 col1\" >01 Nov 2021</td>\n",
       "      <td id=\"T_751ed_row0_col2\" class=\"data row0 col2\" >01 Nov 2021</td>\n",
       "    </tr>\n",
       "    <tr>\n",
       "      <td id=\"T_751ed_row1_col0\" class=\"data row1 col0\" >Number of Variables</td>\n",
       "      <td id=\"T_751ed_row1_col1\" class=\"data row1 col1\" >1747</td>\n",
       "      <td id=\"T_751ed_row1_col2\" class=\"data row1 col2\" >1748</td>\n",
       "    </tr>\n",
       "    <tr>\n",
       "      <td id=\"T_751ed_row2_col0\" class=\"data row2 col0\" >Number of Observations</td>\n",
       "      <td id=\"T_751ed_row2_col1\" class=\"data row2 col1\" >4287</td>\n",
       "      <td id=\"T_751ed_row2_col2\" class=\"data row2 col2\" >4287</td>\n",
       "    </tr>\n",
       "    <tr>\n",
       "      <td id=\"T_751ed_row3_col0\" class=\"data row3 col0\" >DOI</td>\n",
       "      <td id=\"T_751ed_row3_col1\" class=\"data row3 col1\" > <a href=\"https://doi.org/10.71760/ukllc-dataset-00240-01\" rel=\"noopener noreferrer\" target=\"_blank\">10.71760/ukllc-dataset-00240-01</a></td>\n",
       "      <td id=\"T_751ed_row3_col2\" class=\"data row3 col2\" > <a href=\"https://doi.org/10.71760/ukllc-dataset-00240-02\" rel=\"noopener noreferrer\" target=\"_blank\">10.71760/ukllc-dataset-00240-02</a></td>\n",
       "    </tr>\n",
       "    <tr>\n",
       "      <td id=\"T_751ed_row4_col0\" class=\"data row4 col0\" >Change Log</td>\n",
       "      <td id=\"T_751ed_row4_col1\" class=\"data row4 col1\" > <a href=\"https://api.test.datacite.org/dois/10.71760/ukllc-dataset-00240-01/activities\" rel=\"noopener noreferrer\" target=\"_blank\">10.71760/ukllc-dataset-00240-01/activities</a></td>\n",
       "      <td id=\"T_751ed_row4_col2\" class=\"data row4 col2\" > <a href=\"https://api.test.datacite.org/dois/10.71760/ukllc-dataset-00240-02/activities\" rel=\"noopener noreferrer\" target=\"_blank\">10.71760/ukllc-dataset-00240-02/activities</a></td>\n",
       "    </tr>\n",
       "  </tbody>\n",
       "</table>\n"
      ],
      "text/plain": [
       "<pandas.io.formats.style.Styler at 0x24b99b27b60>"
      ]
     },
     "execution_count": 4,
     "metadata": {},
     "output_type": "execute_result"
    }
   ],
   "source": [
    "ds.version_history()"
   ]
  },
  {
   "cell_type": "markdown",
   "id": "1755eaf6",
   "metadata": {},
   "source": [
    "## 3. Documentation"
   ]
  },
  {
   "cell_type": "code",
   "execution_count": 5,
   "id": "8e75eaa9",
   "metadata": {
    "execution": {
     "iopub.execute_input": "2025-07-28T19:48:24.514658Z",
     "iopub.status.busy": "2025-07-28T19:48:24.513660Z",
     "iopub.status.idle": "2025-07-28T19:48:24.527706Z",
     "shell.execute_reply": "2025-07-28T19:48:24.525689Z"
    },
    "tags": [
     "remove-input"
    ]
   },
   "outputs": [
    {
     "data": {
      "text/markdown": [
       "We are currently building a documentation storage system which will host useful documents related to datasets and data owners. We will surface these documents on Guidebook."
      ],
      "text/plain": [
       "<IPython.core.display.Markdown object>"
      ]
     },
     "metadata": {},
     "output_type": "display_data"
    }
   ],
   "source": [
    "ds.documentation()"
   ]
  },
  {
   "cell_type": "markdown",
   "id": "67aea5cb",
   "metadata": {},
   "source": [
    "## 4. Useful Syntax"
   ]
  },
  {
   "cell_type": "code",
   "execution_count": 6,
   "id": "c9f45d73",
   "metadata": {
    "execution": {
     "iopub.execute_input": "2025-07-28T19:48:24.535347Z",
     "iopub.status.busy": "2025-07-28T19:48:24.535347Z",
     "iopub.status.idle": "2025-07-28T19:48:24.546137Z",
     "shell.execute_reply": "2025-07-28T19:48:24.544380Z"
    },
    "tags": [
     "remove-input"
    ]
   },
   "outputs": [
    {
     "data": {
      "text/markdown": [
       "Below we will include syntax that may be helpful to other researchers in the UK LLC TRE. For longer scripts, we will include a snippet of the code plus a link to Git where you can find the full scripts."
      ],
      "text/plain": [
       "<IPython.core.display.Markdown object>"
      ]
     },
     "metadata": {},
     "output_type": "display_data"
    }
   ],
   "source": [
    "ds.useful_syntax()"
   ]
  }
 ],
 "metadata": {
  "language_info": {
   "codemirror_mode": {
    "name": "ipython",
    "version": 3
   },
   "file_extension": ".py",
   "mimetype": "text/x-python",
   "name": "python",
   "nbconvert_exporter": "python",
   "pygments_lexer": "ipython3",
   "version": "3.12.7"
  }
 },
 "nbformat": 4,
 "nbformat_minor": 5
}
