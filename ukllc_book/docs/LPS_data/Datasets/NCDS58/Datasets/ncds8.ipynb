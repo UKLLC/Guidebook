{
 "cells": [
  {
   "cell_type": "markdown",
   "id": "d08090fb",
   "metadata": {},
   "source": [
    "# sweep 8 main survey (NCDS58)"
   ]
  },
  {
   "cell_type": "code",
   "execution_count": 1,
   "id": "ba88831d",
   "metadata": {
    "execution": {
     "iopub.execute_input": "2025-07-18T10:08:51.776824Z",
     "iopub.status.busy": "2025-07-18T10:08:51.776824Z",
     "iopub.status.idle": "2025-07-18T10:08:58.630150Z",
     "shell.execute_reply": "2025-07-18T10:08:58.628143Z"
    },
    "tags": [
     "remove-input"
    ]
   },
   "outputs": [
    {
     "data": {
      "text/markdown": [
       ">Last modified: 18 Jul 2025"
      ],
      "text/plain": [
       "<IPython.core.display.Markdown object>"
      ]
     },
     "metadata": {},
     "output_type": "display_data"
    }
   ],
   "source": [
    "\n",
    "import sys\n",
    "import os\n",
    "sys.path.append(os.path.abspath('../../../../scripts/'))\n",
    "from data_doc_helper import LPSDataSet as DS, last_modified\n",
    "API_KEY = os.environ['FASTAPI_KEY']\n",
    "ds = DS(\"NCDS58\", \"ncds8\")\n",
    "last_modified()\n"
   ]
  },
  {
   "cell_type": "markdown",
   "id": "b15d2107",
   "metadata": {},
   "source": [
    "## 1. Summary"
   ]
  },
  {
   "cell_type": "code",
   "execution_count": 2,
   "id": "4f062f7b",
   "metadata": {
    "execution": {
     "iopub.execute_input": "2025-07-18T10:08:58.637182Z",
     "iopub.status.busy": "2025-07-18T10:08:58.636149Z",
     "iopub.status.idle": "2025-07-18T10:08:58.647261Z",
     "shell.execute_reply": "2025-07-18T10:08:58.646253Z"
    },
    "tags": [
     "remove-input"
    ]
   },
   "outputs": [
    {
     "data": {
      "text/markdown": [
       "Data from sweep 8 (2008, age 50). The data file is flat (1-row-per-Cohort-Member) on the NCDSID. The file contains information about the Cohort Member's household members, children, housing and partnership histories, derived information, employment, education/qualifications, and health among others. It also includes the data of the self completion questionnaire (CASI) on everyday life, emotional wellbeing and personality."
      ],
      "text/plain": [
       "<IPython.core.display.Markdown object>"
      ]
     },
     "metadata": {},
     "output_type": "display_data"
    }
   ],
   "source": [
    "ds.summary()"
   ]
  },
  {
   "cell_type": "code",
   "execution_count": 3,
   "id": "18a8f332",
   "metadata": {
    "execution": {
     "iopub.execute_input": "2025-07-18T10:08:58.651266Z",
     "iopub.status.busy": "2025-07-18T10:08:58.651266Z",
     "iopub.status.idle": "2025-07-18T10:09:00.382968Z",
     "shell.execute_reply": "2025-07-18T10:09:00.381075Z"
    },
    "tags": [
     "remove-input"
    ]
   },
   "outputs": [
    {
     "data": {
      "text/html": [
       "<style type=\"text/css\">\n",
       "#T_4c9ef th {\n",
       "  text-align: left;\n",
       "}\n",
       "#T_4c9ef_row0_col0, #T_4c9ef_row0_col1, #T_4c9ef_row1_col0, #T_4c9ef_row1_col1, #T_4c9ef_row2_col0, #T_4c9ef_row2_col1, #T_4c9ef_row3_col0, #T_4c9ef_row3_col1, #T_4c9ef_row4_col0, #T_4c9ef_row4_col1, #T_4c9ef_row5_col0, #T_4c9ef_row5_col1, #T_4c9ef_row6_col0, #T_4c9ef_row6_col1, #T_4c9ef_row7_col0, #T_4c9ef_row7_col1, #T_4c9ef_row8_col0, #T_4c9ef_row8_col1, #T_4c9ef_row9_col0, #T_4c9ef_row9_col1, #T_4c9ef_row10_col0, #T_4c9ef_row10_col1, #T_4c9ef_row11_col0, #T_4c9ef_row11_col1, #T_4c9ef_row12_col0, #T_4c9ef_row12_col1 {\n",
       "  text-align: left;\n",
       "}\n",
       "</style>\n",
       "<table id=\"T_4c9ef\" style=\"font-size: 14px\">\n",
       "  <thead>\n",
       "    <tr>\n",
       "      <th id=\"T_4c9ef_level0_col0\" class=\"col_heading level0 col0\" >Dataset Descriptor</th>\n",
       "      <th id=\"T_4c9ef_level0_col1\" class=\"col_heading level0 col1\" >Dataset-specific Information</th>\n",
       "    </tr>\n",
       "  </thead>\n",
       "  <tbody>\n",
       "    <tr>\n",
       "      <td id=\"T_4c9ef_row0_col0\" class=\"data row0 col0\" >Name of Dataset in TRE</td>\n",
       "      <td id=\"T_4c9ef_row0_col1\" class=\"data row0 col1\" >NCDS58_ncds8</td>\n",
       "    </tr>\n",
       "    <tr>\n",
       "      <td id=\"T_4c9ef_row1_col0\" class=\"data row1 col0\" >Citation (APA)</td>\n",
       "      <td id=\"T_4c9ef_row1_col1\" class=\"data row1 col1\" >University College London, UCL Social Research Institute, Centre for Longitudinal Studies. (2021). <i>1958 National Child Development Study (NCDS): sweep 8 main survey.</i> UK Longitudinal Linkage Collaboration (UK LLC).  <a href=\"https://doi.org/10.83126/ukllc-dataset-00319-01\" rel=\"noopener noreferrer\" target=\"_blank\">https://doi.org/10.83126/ukllc-dataset-00319-01</a></td>\n",
       "    </tr>\n",
       "    <tr>\n",
       "      <td id=\"T_4c9ef_row2_col0\" class=\"data row2 col0\" >Download Citation</td>\n",
       "      <td id=\"T_4c9ef_row2_col1\" class=\"data row2 col1\" > <a href=\"https://api.test.datacite.org/application/vnd.citationstyles.csl+json/10.83126/ukllc-dataset-00319-01\" rel=\"noopener noreferrer\" target=\"_blank\">Citeproc JSON</a>&nbsp;&nbsp;&nbsp;&nbsp; <a href=\"https://api.test.datacite.org/application/x-bibtex/10.83126/ukllc-dataset-00319-01\" rel=\"noopener noreferrer\" target=\"_blank\">BibTeX</a>&nbsp;&nbsp;&nbsp;&nbsp; <a href=\"https://api.test.datacite.org/application/x-research-info-systems/10.83126/ukllc-dataset-00319-01\" rel=\"noopener noreferrer\" target=\"_blank\">RIS</a></td>\n",
       "    </tr>\n",
       "    <tr>\n",
       "      <td id=\"T_4c9ef_row3_col0\" class=\"data row3 col0\" >Series</td>\n",
       "      <td id=\"T_4c9ef_row3_col1\" class=\"data row3 col1\" > <a href=\"https://guidebook.ukllc.ac.uk/docs/lps/lps%20profiles/NCDS58\">1958 National Child Development Study (NCDS)</a></td>\n",
       "    </tr>\n",
       "    <tr>\n",
       "      <td id=\"T_4c9ef_row4_col0\" class=\"data row4 col0\" >Owner</td>\n",
       "      <td id=\"T_4c9ef_row4_col1\" class=\"data row4 col1\" >UCL</td>\n",
       "    </tr>\n",
       "    <tr>\n",
       "      <td id=\"T_4c9ef_row5_col0\" class=\"data row5 col0\" >Temporal Coverage</td>\n",
       "      <td id=\"T_4c9ef_row5_col1\" class=\"data row5 col1\" >08/2008 - 04/2009</td>\n",
       "    </tr>\n",
       "    <tr>\n",
       "      <td id=\"T_4c9ef_row6_col0\" class=\"data row6 col0\" >Keywords</td>\n",
       "      <td id=\"T_4c9ef_row6_col1\" class=\"data row6 col1\" >Health,Employment,Children,Political attitudes,Education,Social mobility</td>\n",
       "    </tr>\n",
       "    <tr>\n",
       "      <td id=\"T_4c9ef_row7_col0\" class=\"data row7 col0\" >Participants Invited</td>\n",
       "      <td id=\"T_4c9ef_row7_col1\" class=\"data row7 col1\" >9790</td>\n",
       "    </tr>\n",
       "    <tr>\n",
       "      <td id=\"T_4c9ef_row8_col0\" class=\"data row8 col0\" >Participant Count</td>\n",
       "      <td id=\"T_4c9ef_row8_col1\" class=\"data row8 col1\" >8421</td>\n",
       "    </tr>\n",
       "    <tr>\n",
       "      <td id=\"T_4c9ef_row9_col0\" class=\"data row9 col0\" >Number of variables</td>\n",
       "      <td id=\"T_4c9ef_row9_col1\" class=\"data row9 col1\" >1618</td>\n",
       "    </tr>\n",
       "    <tr>\n",
       "      <td id=\"T_4c9ef_row10_col0\" class=\"data row10 col0\" >Number of observations</td>\n",
       "      <td id=\"T_4c9ef_row10_col1\" class=\"data row10 col1\" >9790</td>\n",
       "    </tr>\n",
       "    <tr>\n",
       "      <td id=\"T_4c9ef_row11_col0\" class=\"data row11 col0\" >Specific Restrictions to Data Use</td>\n",
       "      <td id=\"T_4c9ef_row11_col1\" class=\"data row11 col1\" >None</td>\n",
       "    </tr>\n",
       "    <tr>\n",
       "      <td id=\"T_4c9ef_row12_col0\" class=\"data row12 col0\" >Build a Data Request</td>\n",
       "      <td id=\"T_4c9ef_row12_col1\" class=\"data row12 col1\" > <a href=\"https://explore.ukllc.ac.uk/\" rel=\"noopener noreferrer\" target=\"_blank\">https://explore.ukllc.ac.uk/</a></td>\n",
       "    </tr>\n",
       "  </tbody>\n",
       "</table>\n"
      ],
      "text/plain": [
       "<pandas.io.formats.style.Styler at 0x2039a40adb0>"
      ]
     },
     "execution_count": 3,
     "metadata": {},
     "output_type": "execute_result"
    }
   ],
   "source": [
    "ds.info_table()"
   ]
  },
  {
   "cell_type": "markdown",
   "id": "497b5604",
   "metadata": {},
   "source": [
    "## 2. Version History"
   ]
  },
  {
   "cell_type": "code",
   "execution_count": 4,
   "id": "5cd93fd3",
   "metadata": {
    "execution": {
     "iopub.execute_input": "2025-07-18T10:09:00.388976Z",
     "iopub.status.busy": "2025-07-18T10:09:00.387977Z",
     "iopub.status.idle": "2025-07-18T10:09:03.094667Z",
     "shell.execute_reply": "2025-07-18T10:09:03.092150Z"
    },
    "tags": [
     "remove-input"
    ]
   },
   "outputs": [
    {
     "data": {
      "text/html": [
       "<style type=\"text/css\">\n",
       "#T_78423 th {\n",
       "  text-align: left;\n",
       "}\n",
       "#T_78423_row0_col0, #T_78423_row0_col1, #T_78423_row1_col0, #T_78423_row1_col1, #T_78423_row2_col0, #T_78423_row2_col1, #T_78423_row3_col0, #T_78423_row3_col1, #T_78423_row4_col0, #T_78423_row4_col1 {\n",
       "  text-align: left;\n",
       "}\n",
       "</style>\n",
       "<table id=\"T_78423\" style=\"font-size: 14px\">\n",
       "  <thead>\n",
       "    <tr>\n",
       "      <th id=\"T_78423_level0_col0\" class=\"col_heading level0 col0\" >Version</th>\n",
       "      <th id=\"T_78423_level0_col1\" class=\"col_heading level0 col1\" >1</th>\n",
       "    </tr>\n",
       "  </thead>\n",
       "  <tbody>\n",
       "    <tr>\n",
       "      <td id=\"T_78423_row0_col0\" class=\"data row0 col0\" >Version Date</td>\n",
       "      <td id=\"T_78423_row0_col1\" class=\"data row0 col1\" >01 Nov 2021</td>\n",
       "    </tr>\n",
       "    <tr>\n",
       "      <td id=\"T_78423_row1_col0\" class=\"data row1 col0\" >Number of Variables</td>\n",
       "      <td id=\"T_78423_row1_col1\" class=\"data row1 col1\" >1620</td>\n",
       "    </tr>\n",
       "    <tr>\n",
       "      <td id=\"T_78423_row2_col0\" class=\"data row2 col0\" >Number of Observations</td>\n",
       "      <td id=\"T_78423_row2_col1\" class=\"data row2 col1\" >9790</td>\n",
       "    </tr>\n",
       "    <tr>\n",
       "      <td id=\"T_78423_row3_col0\" class=\"data row3 col0\" >DOI</td>\n",
       "      <td id=\"T_78423_row3_col1\" class=\"data row3 col1\" > <a href=\"https://doi.org/10.83126/ukllc-dataset-00319-01\" rel=\"noopener noreferrer\" target=\"_blank\">10.83126/ukllc-dataset-00319-01</a></td>\n",
       "    </tr>\n",
       "    <tr>\n",
       "      <td id=\"T_78423_row4_col0\" class=\"data row4 col0\" >Change Log</td>\n",
       "      <td id=\"T_78423_row4_col1\" class=\"data row4 col1\" > <a href=\"https://api.test.datacite.org/dois/10.83126/ukllc-dataset-00319-01/activities\" rel=\"noopener noreferrer\" target=\"_blank\">10.83126/ukllc-dataset-00319-01/activities</a></td>\n",
       "    </tr>\n",
       "  </tbody>\n",
       "</table>\n"
      ],
      "text/plain": [
       "<pandas.io.formats.style.Styler at 0x2039ff11550>"
      ]
     },
     "execution_count": 4,
     "metadata": {},
     "output_type": "execute_result"
    }
   ],
   "source": [
    "ds.version_history()"
   ]
  },
  {
   "cell_type": "markdown",
   "id": "13febb2f",
   "metadata": {},
   "source": [
    "## 3. Documentation"
   ]
  },
  {
   "cell_type": "code",
   "execution_count": 5,
   "id": "c197da0a",
   "metadata": {
    "execution": {
     "iopub.execute_input": "2025-07-18T10:09:03.100663Z",
     "iopub.status.busy": "2025-07-18T10:09:03.099664Z",
     "iopub.status.idle": "2025-07-18T10:09:03.110209Z",
     "shell.execute_reply": "2025-07-18T10:09:03.108200Z"
    },
    "tags": [
     "remove-input"
    ]
   },
   "outputs": [
    {
     "data": {
      "text/markdown": [
       "We are currently building a documentation storage system which will host useful documents related to datasets and data owners. We will surface these documents on Guidebook."
      ],
      "text/plain": [
       "<IPython.core.display.Markdown object>"
      ]
     },
     "metadata": {},
     "output_type": "display_data"
    }
   ],
   "source": [
    "ds.documentation()"
   ]
  },
  {
   "cell_type": "markdown",
   "id": "69202d4f",
   "metadata": {},
   "source": [
    "## 4. Useful Syntax"
   ]
  },
  {
   "cell_type": "code",
   "execution_count": 6,
   "id": "2837d4b0",
   "metadata": {
    "execution": {
     "iopub.execute_input": "2025-07-18T10:09:03.115207Z",
     "iopub.status.busy": "2025-07-18T10:09:03.115207Z",
     "iopub.status.idle": "2025-07-18T10:09:03.124167Z",
     "shell.execute_reply": "2025-07-18T10:09:03.122370Z"
    },
    "tags": [
     "remove-input"
    ]
   },
   "outputs": [
    {
     "data": {
      "text/markdown": [
       "Below we will include syntax that may be helpful to other researchers in the UK LLC TRE. For longer scripts, we will include a snippet of the code plus a link to Git where you can find the full scripts."
      ],
      "text/plain": [
       "<IPython.core.display.Markdown object>"
      ]
     },
     "metadata": {},
     "output_type": "display_data"
    }
   ],
   "source": [
    "ds.useful_syntax()"
   ]
  }
 ],
 "metadata": {
  "language_info": {
   "codemirror_mode": {
    "name": "ipython",
    "version": 3
   },
   "file_extension": ".py",
   "mimetype": "text/x-python",
   "name": "python",
   "nbconvert_exporter": "python",
   "pygments_lexer": "ipython3",
   "version": "3.12.7"
  }
 },
 "nbformat": 4,
 "nbformat_minor": 5
}
