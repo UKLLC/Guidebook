{
 "cells": [
  {
   "cell_type": "markdown",
   "id": "fe55f918",
   "metadata": {},
   "source": [
    "# sweep 9 qualifications (NCDS58)"
   ]
  },
  {
   "cell_type": "code",
   "execution_count": 1,
   "id": "ef458098",
   "metadata": {
    "execution": {
     "iopub.execute_input": "2025-07-18T10:10:34.572308Z",
     "iopub.status.busy": "2025-07-18T10:10:34.572308Z",
     "iopub.status.idle": "2025-07-18T10:10:41.725834Z",
     "shell.execute_reply": "2025-07-18T10:10:41.724129Z"
    },
    "tags": [
     "remove-input"
    ]
   },
   "outputs": [
    {
     "data": {
      "text/markdown": [
       ">Last modified: 18 Jul 2025"
      ],
      "text/plain": [
       "<IPython.core.display.Markdown object>"
      ]
     },
     "metadata": {},
     "output_type": "display_data"
    }
   ],
   "source": [
    "\n",
    "import sys\n",
    "import os\n",
    "sys.path.append(os.path.abspath('../../../../scripts/'))\n",
    "from data_doc_helper import LPSDataSet as DS, last_modified\n",
    "API_KEY = os.environ['FASTAPI_KEY']\n",
    "ds = DS(\"NCDS58\", \"ncds9_qualifications\")\n",
    "last_modified()\n"
   ]
  },
  {
   "cell_type": "markdown",
   "id": "c481fc6b",
   "metadata": {},
   "source": [
    "## 1. Summary"
   ]
  },
  {
   "cell_type": "code",
   "execution_count": 2,
   "id": "b88e7f06",
   "metadata": {
    "execution": {
     "iopub.execute_input": "2025-07-18T10:10:41.730350Z",
     "iopub.status.busy": "2025-07-18T10:10:41.730350Z",
     "iopub.status.idle": "2025-07-18T10:10:41.737243Z",
     "shell.execute_reply": "2025-07-18T10:10:41.736236Z"
    },
    "tags": [
     "remove-input"
    ]
   },
   "outputs": [
    {
     "data": {
      "text/markdown": [
       "This is the data on the qualifications of the Cohort Members from sweep 9 (2013, age 55) with information about each of the qualifications. The data are long and the IDs are the NCDSID and the N9QUALID."
      ],
      "text/plain": [
       "<IPython.core.display.Markdown object>"
      ]
     },
     "metadata": {},
     "output_type": "display_data"
    }
   ],
   "source": [
    "ds.summary()"
   ]
  },
  {
   "cell_type": "code",
   "execution_count": 3,
   "id": "4b36792d",
   "metadata": {
    "execution": {
     "iopub.execute_input": "2025-07-18T10:10:41.742244Z",
     "iopub.status.busy": "2025-07-18T10:10:41.742244Z",
     "iopub.status.idle": "2025-07-18T10:10:42.780625Z",
     "shell.execute_reply": "2025-07-18T10:10:42.779109Z"
    },
    "tags": [
     "remove-input"
    ]
   },
   "outputs": [
    {
     "data": {
      "text/html": [
       "<style type=\"text/css\">\n",
       "#T_0e4f1 th {\n",
       "  text-align: left;\n",
       "}\n",
       "#T_0e4f1_row0_col0, #T_0e4f1_row0_col1, #T_0e4f1_row1_col0, #T_0e4f1_row1_col1, #T_0e4f1_row2_col0, #T_0e4f1_row2_col1, #T_0e4f1_row3_col0, #T_0e4f1_row3_col1, #T_0e4f1_row4_col0, #T_0e4f1_row4_col1, #T_0e4f1_row5_col0, #T_0e4f1_row5_col1, #T_0e4f1_row6_col0, #T_0e4f1_row6_col1, #T_0e4f1_row7_col0, #T_0e4f1_row7_col1, #T_0e4f1_row8_col0, #T_0e4f1_row8_col1, #T_0e4f1_row9_col0, #T_0e4f1_row9_col1, #T_0e4f1_row10_col0, #T_0e4f1_row10_col1, #T_0e4f1_row11_col0, #T_0e4f1_row11_col1, #T_0e4f1_row12_col0, #T_0e4f1_row12_col1 {\n",
       "  text-align: left;\n",
       "}\n",
       "</style>\n",
       "<table id=\"T_0e4f1\" style=\"font-size: 14px\">\n",
       "  <thead>\n",
       "    <tr>\n",
       "      <th id=\"T_0e4f1_level0_col0\" class=\"col_heading level0 col0\" >Dataset Descriptor</th>\n",
       "      <th id=\"T_0e4f1_level0_col1\" class=\"col_heading level0 col1\" >Dataset-specific Information</th>\n",
       "    </tr>\n",
       "  </thead>\n",
       "  <tbody>\n",
       "    <tr>\n",
       "      <td id=\"T_0e4f1_row0_col0\" class=\"data row0 col0\" >Name of Dataset in TRE</td>\n",
       "      <td id=\"T_0e4f1_row0_col1\" class=\"data row0 col1\" >NCDS58_ncds9_qualifications</td>\n",
       "    </tr>\n",
       "    <tr>\n",
       "      <td id=\"T_0e4f1_row1_col0\" class=\"data row1 col0\" >Citation (APA)</td>\n",
       "      <td id=\"T_0e4f1_row1_col1\" class=\"data row1 col1\" >University College London, UCL Social Research Institute, Centre for Longitudinal Studies. (2021). <i>1958 National Child Development Study (NCDS): sweep 9 qualifications.</i> UK Longitudinal Linkage Collaboration (UK LLC).  <a href=\"https://doi.org/10.83126/ukllc-dataset-00325-01\" rel=\"noopener noreferrer\" target=\"_blank\">https://doi.org/10.83126/ukllc-dataset-00325-01</a></td>\n",
       "    </tr>\n",
       "    <tr>\n",
       "      <td id=\"T_0e4f1_row2_col0\" class=\"data row2 col0\" >Download Citation</td>\n",
       "      <td id=\"T_0e4f1_row2_col1\" class=\"data row2 col1\" > <a href=\"https://api.test.datacite.org/application/vnd.citationstyles.csl+json/10.83126/ukllc-dataset-00325-01\" rel=\"noopener noreferrer\" target=\"_blank\">Citeproc JSON</a>&nbsp;&nbsp;&nbsp;&nbsp; <a href=\"https://api.test.datacite.org/application/x-bibtex/10.83126/ukllc-dataset-00325-01\" rel=\"noopener noreferrer\" target=\"_blank\">BibTeX</a>&nbsp;&nbsp;&nbsp;&nbsp; <a href=\"https://api.test.datacite.org/application/x-research-info-systems/10.83126/ukllc-dataset-00325-01\" rel=\"noopener noreferrer\" target=\"_blank\">RIS</a></td>\n",
       "    </tr>\n",
       "    <tr>\n",
       "      <td id=\"T_0e4f1_row3_col0\" class=\"data row3 col0\" >Series</td>\n",
       "      <td id=\"T_0e4f1_row3_col1\" class=\"data row3 col1\" > <a href=\"https://guidebook.ukllc.ac.uk/docs/lps/lps%20profiles/NCDS58\">1958 National Child Development Study (NCDS)</a></td>\n",
       "    </tr>\n",
       "    <tr>\n",
       "      <td id=\"T_0e4f1_row4_col0\" class=\"data row4 col0\" >Owner</td>\n",
       "      <td id=\"T_0e4f1_row4_col1\" class=\"data row4 col1\" >UCL</td>\n",
       "    </tr>\n",
       "    <tr>\n",
       "      <td id=\"T_0e4f1_row5_col0\" class=\"data row5 col0\" >Temporal Coverage</td>\n",
       "      <td id=\"T_0e4f1_row5_col1\" class=\"data row5 col1\" >09/2013 - 03/2014</td>\n",
       "    </tr>\n",
       "    <tr>\n",
       "      <td id=\"T_0e4f1_row6_col0\" class=\"data row6 col0\" >Keywords</td>\n",
       "      <td id=\"T_0e4f1_row6_col1\" class=\"data row6 col1\" >Courses,Degree type,Vocational,Fees,Dates</td>\n",
       "    </tr>\n",
       "    <tr>\n",
       "      <td id=\"T_0e4f1_row7_col0\" class=\"data row7 col0\" >Participants Invited</td>\n",
       "      <td id=\"T_0e4f1_row7_col1\" class=\"data row7 col1\" >9137</td>\n",
       "    </tr>\n",
       "    <tr>\n",
       "      <td id=\"T_0e4f1_row8_col0\" class=\"data row8 col0\" >Participant Count</td>\n",
       "      <td id=\"T_0e4f1_row8_col1\" class=\"data row8 col1\" >1119</td>\n",
       "    </tr>\n",
       "    <tr>\n",
       "      <td id=\"T_0e4f1_row9_col0\" class=\"data row9 col0\" >Number of variables</td>\n",
       "      <td id=\"T_0e4f1_row9_col1\" class=\"data row9 col1\" >18</td>\n",
       "    </tr>\n",
       "    <tr>\n",
       "      <td id=\"T_0e4f1_row10_col0\" class=\"data row10 col0\" >Number of observations</td>\n",
       "      <td id=\"T_0e4f1_row10_col1\" class=\"data row10 col1\" >2124</td>\n",
       "    </tr>\n",
       "    <tr>\n",
       "      <td id=\"T_0e4f1_row11_col0\" class=\"data row11 col0\" >Specific Restrictions to Data Use</td>\n",
       "      <td id=\"T_0e4f1_row11_col1\" class=\"data row11 col1\" >None</td>\n",
       "    </tr>\n",
       "    <tr>\n",
       "      <td id=\"T_0e4f1_row12_col0\" class=\"data row12 col0\" >Build a Data Request</td>\n",
       "      <td id=\"T_0e4f1_row12_col1\" class=\"data row12 col1\" > <a href=\"https://explore.ukllc.ac.uk/\" rel=\"noopener noreferrer\" target=\"_blank\">https://explore.ukllc.ac.uk/</a></td>\n",
       "    </tr>\n",
       "  </tbody>\n",
       "</table>\n"
      ],
      "text/plain": [
       "<pandas.io.formats.style.Styler at 0x26a619697c0>"
      ]
     },
     "execution_count": 3,
     "metadata": {},
     "output_type": "execute_result"
    }
   ],
   "source": [
    "ds.info_table()"
   ]
  },
  {
   "cell_type": "markdown",
   "id": "f20a99ee",
   "metadata": {},
   "source": [
    "## 2. Version History"
   ]
  },
  {
   "cell_type": "code",
   "execution_count": 4,
   "id": "a5a3e435",
   "metadata": {
    "execution": {
     "iopub.execute_input": "2025-07-18T10:10:42.786623Z",
     "iopub.status.busy": "2025-07-18T10:10:42.785625Z",
     "iopub.status.idle": "2025-07-18T10:10:45.290726Z",
     "shell.execute_reply": "2025-07-18T10:10:45.288776Z"
    },
    "tags": [
     "remove-input"
    ]
   },
   "outputs": [
    {
     "data": {
      "text/html": [
       "<style type=\"text/css\">\n",
       "#T_87551 th {\n",
       "  text-align: left;\n",
       "}\n",
       "#T_87551_row0_col0, #T_87551_row0_col1, #T_87551_row1_col0, #T_87551_row1_col1, #T_87551_row2_col0, #T_87551_row2_col1, #T_87551_row3_col0, #T_87551_row3_col1, #T_87551_row4_col0, #T_87551_row4_col1 {\n",
       "  text-align: left;\n",
       "}\n",
       "</style>\n",
       "<table id=\"T_87551\" style=\"font-size: 14px\">\n",
       "  <thead>\n",
       "    <tr>\n",
       "      <th id=\"T_87551_level0_col0\" class=\"col_heading level0 col0\" >Version</th>\n",
       "      <th id=\"T_87551_level0_col1\" class=\"col_heading level0 col1\" >1</th>\n",
       "    </tr>\n",
       "  </thead>\n",
       "  <tbody>\n",
       "    <tr>\n",
       "      <td id=\"T_87551_row0_col0\" class=\"data row0 col0\" >Version Date</td>\n",
       "      <td id=\"T_87551_row0_col1\" class=\"data row0 col1\" >01 Nov 2021</td>\n",
       "    </tr>\n",
       "    <tr>\n",
       "      <td id=\"T_87551_row1_col0\" class=\"data row1 col0\" >Number of Variables</td>\n",
       "      <td id=\"T_87551_row1_col1\" class=\"data row1 col1\" >36</td>\n",
       "    </tr>\n",
       "    <tr>\n",
       "      <td id=\"T_87551_row2_col0\" class=\"data row2 col0\" >Number of Observations</td>\n",
       "      <td id=\"T_87551_row2_col1\" class=\"data row2 col1\" >2124</td>\n",
       "    </tr>\n",
       "    <tr>\n",
       "      <td id=\"T_87551_row3_col0\" class=\"data row3 col0\" >DOI</td>\n",
       "      <td id=\"T_87551_row3_col1\" class=\"data row3 col1\" > <a href=\"https://doi.org/10.83126/ukllc-dataset-00325-01\" rel=\"noopener noreferrer\" target=\"_blank\">10.83126/ukllc-dataset-00325-01</a></td>\n",
       "    </tr>\n",
       "    <tr>\n",
       "      <td id=\"T_87551_row4_col0\" class=\"data row4 col0\" >Change Log</td>\n",
       "      <td id=\"T_87551_row4_col1\" class=\"data row4 col1\" > <a href=\"https://api.test.datacite.org/dois/10.83126/ukllc-dataset-00325-01/activities\" rel=\"noopener noreferrer\" target=\"_blank\">10.83126/ukllc-dataset-00325-01/activities</a></td>\n",
       "    </tr>\n",
       "  </tbody>\n",
       "</table>\n"
      ],
      "text/plain": [
       "<pandas.io.formats.style.Styler at 0x26a6196b080>"
      ]
     },
     "execution_count": 4,
     "metadata": {},
     "output_type": "execute_result"
    }
   ],
   "source": [
    "ds.version_history()"
   ]
  },
  {
   "cell_type": "markdown",
   "id": "74adb3d8",
   "metadata": {},
   "source": [
    "## 3. Documentation"
   ]
  },
  {
   "cell_type": "code",
   "execution_count": 5,
   "id": "4060ebb1",
   "metadata": {
    "execution": {
     "iopub.execute_input": "2025-07-18T10:10:45.295737Z",
     "iopub.status.busy": "2025-07-18T10:10:45.294737Z",
     "iopub.status.idle": "2025-07-18T10:10:45.304077Z",
     "shell.execute_reply": "2025-07-18T10:10:45.303065Z"
    },
    "tags": [
     "remove-input"
    ]
   },
   "outputs": [
    {
     "data": {
      "text/markdown": [
       "We are currently building a documentation storage system which will host useful documents related to datasets and data owners. We will surface these documents on Guidebook."
      ],
      "text/plain": [
       "<IPython.core.display.Markdown object>"
      ]
     },
     "metadata": {},
     "output_type": "display_data"
    }
   ],
   "source": [
    "ds.documentation()"
   ]
  },
  {
   "cell_type": "markdown",
   "id": "3f73fef9",
   "metadata": {},
   "source": [
    "## 4. Useful Syntax"
   ]
  },
  {
   "cell_type": "code",
   "execution_count": 6,
   "id": "032dd6e4",
   "metadata": {
    "execution": {
     "iopub.execute_input": "2025-07-18T10:10:45.310075Z",
     "iopub.status.busy": "2025-07-18T10:10:45.309072Z",
     "iopub.status.idle": "2025-07-18T10:10:45.316173Z",
     "shell.execute_reply": "2025-07-18T10:10:45.315153Z"
    },
    "tags": [
     "remove-input"
    ]
   },
   "outputs": [
    {
     "data": {
      "text/markdown": [
       "Below we will include syntax that may be helpful to other researchers in the UK LLC TRE. For longer scripts, we will include a snippet of the code plus a link to Git where you can find the full scripts."
      ],
      "text/plain": [
       "<IPython.core.display.Markdown object>"
      ]
     },
     "metadata": {},
     "output_type": "display_data"
    }
   ],
   "source": [
    "ds.useful_syntax()"
   ]
  }
 ],
 "metadata": {
  "language_info": {
   "codemirror_mode": {
    "name": "ipython",
    "version": 3
   },
   "file_extension": ".py",
   "mimetype": "text/x-python",
   "name": "python",
   "nbconvert_exporter": "python",
   "pygments_lexer": "ipython3",
   "version": "3.12.7"
  }
 },
 "nbformat": 4,
 "nbformat_minor": 5
}
