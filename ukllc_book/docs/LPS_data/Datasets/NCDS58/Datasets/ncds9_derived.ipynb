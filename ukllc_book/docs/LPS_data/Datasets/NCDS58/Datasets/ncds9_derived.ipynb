{
 "cells": [
  {
   "cell_type": "markdown",
   "id": "23d800f6",
   "metadata": {},
   "source": [
    "# sweep 9 derived  (NCDS58)"
   ]
  },
  {
   "cell_type": "code",
   "execution_count": 1,
   "id": "233fc2c8",
   "metadata": {
    "execution": {
     "iopub.execute_input": "2025-07-28T19:51:42.260924Z",
     "iopub.status.busy": "2025-07-28T19:51:42.259930Z",
     "iopub.status.idle": "2025-07-28T19:51:54.669140Z",
     "shell.execute_reply": "2025-07-28T19:51:54.667127Z"
    },
    "tags": [
     "remove-input"
    ]
   },
   "outputs": [
    {
     "data": {
      "text/markdown": [
       ">Last modified: 28 Jul 2025"
      ],
      "text/plain": [
       "<IPython.core.display.Markdown object>"
      ]
     },
     "metadata": {},
     "output_type": "display_data"
    }
   ],
   "source": [
    "\n",
    "import sys\n",
    "import os\n",
    "sys.path.append(os.path.abspath('../../../../scripts/'))\n",
    "from data_doc_helper import LPSDataSet as DS, last_modified\n",
    "API_KEY = os.environ['FASTAPI_KEY']\n",
    "ds = DS(\"NCDS58\", \"ncds9_derived\")\n",
    "last_modified()\n"
   ]
  },
  {
   "cell_type": "markdown",
   "id": "45aaf9ed",
   "metadata": {},
   "source": [
    "## 1. Summary"
   ]
  },
  {
   "cell_type": "code",
   "execution_count": 2,
   "id": "b05c0d73",
   "metadata": {
    "execution": {
     "iopub.execute_input": "2025-07-28T19:51:54.680448Z",
     "iopub.status.busy": "2025-07-28T19:51:54.678436Z",
     "iopub.status.idle": "2025-07-28T19:51:54.699380Z",
     "shell.execute_reply": "2025-07-28T19:51:54.697366Z"
    },
    "tags": [
     "remove-input"
    ]
   },
   "outputs": [
    {
     "data": {
      "text/markdown": [
       "This is the derived variables data of sweep 9 (2013, age 55). The data file is flat (1-row-per-Cohort-Member) on the NCDSID."
      ],
      "text/plain": [
       "<IPython.core.display.Markdown object>"
      ]
     },
     "metadata": {},
     "output_type": "display_data"
    }
   ],
   "source": [
    "ds.summary()"
   ]
  },
  {
   "cell_type": "code",
   "execution_count": 3,
   "id": "ab83263a",
   "metadata": {
    "execution": {
     "iopub.execute_input": "2025-07-28T19:51:54.708678Z",
     "iopub.status.busy": "2025-07-28T19:51:54.706657Z",
     "iopub.status.idle": "2025-07-28T19:51:57.651251Z",
     "shell.execute_reply": "2025-07-28T19:51:57.649236Z"
    },
    "tags": [
     "remove-input"
    ]
   },
   "outputs": [
    {
     "data": {
      "text/html": [
       "<style type=\"text/css\">\n",
       "#T_968a8 th {\n",
       "  text-align: left;\n",
       "}\n",
       "#T_968a8_row0_col0, #T_968a8_row0_col1, #T_968a8_row1_col0, #T_968a8_row1_col1, #T_968a8_row2_col0, #T_968a8_row2_col1, #T_968a8_row3_col0, #T_968a8_row3_col1, #T_968a8_row4_col0, #T_968a8_row4_col1, #T_968a8_row5_col0, #T_968a8_row5_col1, #T_968a8_row6_col0, #T_968a8_row6_col1, #T_968a8_row7_col0, #T_968a8_row7_col1, #T_968a8_row8_col0, #T_968a8_row8_col1, #T_968a8_row9_col0, #T_968a8_row9_col1, #T_968a8_row10_col0, #T_968a8_row10_col1, #T_968a8_row11_col0, #T_968a8_row11_col1, #T_968a8_row12_col0, #T_968a8_row12_col1 {\n",
       "  text-align: left;\n",
       "}\n",
       "</style>\n",
       "<table id=\"T_968a8\" style=\"font-size: 14px\">\n",
       "  <thead>\n",
       "    <tr>\n",
       "      <th id=\"T_968a8_level0_col0\" class=\"col_heading level0 col0\" >Dataset Descriptor</th>\n",
       "      <th id=\"T_968a8_level0_col1\" class=\"col_heading level0 col1\" >Dataset-specific Information</th>\n",
       "    </tr>\n",
       "  </thead>\n",
       "  <tbody>\n",
       "    <tr>\n",
       "      <td id=\"T_968a8_row0_col0\" class=\"data row0 col0\" >Name of Dataset in TRE</td>\n",
       "      <td id=\"T_968a8_row0_col1\" class=\"data row0 col1\" >NCDS58_ncds9_derived</td>\n",
       "    </tr>\n",
       "    <tr>\n",
       "      <td id=\"T_968a8_row1_col0\" class=\"data row1 col0\" >Citation (APA)</td>\n",
       "      <td id=\"T_968a8_row1_col1\" class=\"data row1 col1\" >University College London, UCL Social Research Institute, Centre for Longitudinal Studies. (2021). <i>1958 National Child Development Study (NCDS): sweep 9 derived .</i> UK Longitudinal Linkage Collaboration (UK LLC).  <a href=\"https://doi.org/10.71760/ukllc-dataset-00248-01\" rel=\"noopener noreferrer\" target=\"_blank\">https://doi.org/10.71760/ukllc-dataset-00248-01</a></td>\n",
       "    </tr>\n",
       "    <tr>\n",
       "      <td id=\"T_968a8_row2_col0\" class=\"data row2 col0\" >Download Citation</td>\n",
       "      <td id=\"T_968a8_row2_col1\" class=\"data row2 col1\" > <a href=\"https://api.datacite.org/application/vnd.citationstyles.csl+json/10.71760/ukllc-dataset-00248-01\" rel=\"noopener noreferrer\" target=\"_blank\">Citeproc JSON</a>&nbsp;&nbsp;&nbsp;&nbsp; <a href=\"https://api.datacite.org/application/x-bibtex/10.71760/ukllc-dataset-00248-01\" rel=\"noopener noreferrer\" target=\"_blank\">BibTeX</a>&nbsp;&nbsp;&nbsp;&nbsp; <a href=\"https://api.datacite.org/application/x-research-info-systems/10.71760/ukllc-dataset-00248-01\" rel=\"noopener noreferrer\" target=\"_blank\">RIS</a></td>\n",
       "    </tr>\n",
       "    <tr>\n",
       "      <td id=\"T_968a8_row3_col0\" class=\"data row3 col0\" >Series</td>\n",
       "      <td id=\"T_968a8_row3_col1\" class=\"data row3 col1\" > <a href=\"https://guidebook.ukllc.ac.uk/docs/lps_data/lps%20profiles/NCDS58\">1958 National Child Development Study (NCDS)</a></td>\n",
       "    </tr>\n",
       "    <tr>\n",
       "      <td id=\"T_968a8_row4_col0\" class=\"data row4 col0\" >Owner</td>\n",
       "      <td id=\"T_968a8_row4_col1\" class=\"data row4 col1\" >UCL</td>\n",
       "    </tr>\n",
       "    <tr>\n",
       "      <td id=\"T_968a8_row5_col0\" class=\"data row5 col0\" >Temporal Coverage</td>\n",
       "      <td id=\"T_968a8_row5_col1\" class=\"data row5 col1\" >09/2013 - 03/2014</td>\n",
       "    </tr>\n",
       "    <tr>\n",
       "      <td id=\"T_968a8_row6_col0\" class=\"data row6 col0\" >Keywords</td>\n",
       "      <td id=\"T_968a8_row6_col1\" class=\"data row6 col1\" >Household,Adult Children,Activities,Qualifications,Menopause,Partner</td>\n",
       "    </tr>\n",
       "    <tr>\n",
       "      <td id=\"T_968a8_row7_col0\" class=\"data row7 col0\" >Participants Invited</td>\n",
       "      <td id=\"T_968a8_row7_col1\" class=\"data row7 col1\" >9137</td>\n",
       "    </tr>\n",
       "    <tr>\n",
       "      <td id=\"T_968a8_row8_col0\" class=\"data row8 col0\" >Participant Count</td>\n",
       "      <td id=\"T_968a8_row8_col1\" class=\"data row8 col1\" >7781</td>\n",
       "    </tr>\n",
       "    <tr>\n",
       "      <td id=\"T_968a8_row9_col0\" class=\"data row9 col0\" >Number of variables</td>\n",
       "      <td id=\"T_968a8_row9_col1\" class=\"data row9 col1\" >56</td>\n",
       "    </tr>\n",
       "    <tr>\n",
       "      <td id=\"T_968a8_row10_col0\" class=\"data row10 col0\" >Number of observations</td>\n",
       "      <td id=\"T_968a8_row10_col1\" class=\"data row10 col1\" >9137</td>\n",
       "    </tr>\n",
       "    <tr>\n",
       "      <td id=\"T_968a8_row11_col0\" class=\"data row11 col0\" >Specific Restrictions to Data Use</td>\n",
       "      <td id=\"T_968a8_row11_col1\" class=\"data row11 col1\" >None</td>\n",
       "    </tr>\n",
       "    <tr>\n",
       "      <td id=\"T_968a8_row12_col0\" class=\"data row12 col0\" >Build a Data Request</td>\n",
       "      <td id=\"T_968a8_row12_col1\" class=\"data row12 col1\" > <a href=\"https://explore.ukllc.ac.uk/\" rel=\"noopener noreferrer\" target=\"_blank\">https://explore.ukllc.ac.uk/</a></td>\n",
       "    </tr>\n",
       "  </tbody>\n",
       "</table>\n"
      ],
      "text/plain": [
       "<pandas.io.formats.style.Styler at 0x2b63dc5fad0>"
      ]
     },
     "execution_count": 3,
     "metadata": {},
     "output_type": "execute_result"
    }
   ],
   "source": [
    "ds.info_table()"
   ]
  },
  {
   "cell_type": "markdown",
   "id": "382aa5cc",
   "metadata": {},
   "source": [
    "## 2. Version History"
   ]
  },
  {
   "cell_type": "code",
   "execution_count": 4,
   "id": "bd0bd3fe",
   "metadata": {
    "execution": {
     "iopub.execute_input": "2025-07-28T19:51:57.658795Z",
     "iopub.status.busy": "2025-07-28T19:51:57.658795Z",
     "iopub.status.idle": "2025-07-28T19:52:03.064958Z",
     "shell.execute_reply": "2025-07-28T19:52:03.064451Z"
    },
    "tags": [
     "remove-input"
    ]
   },
   "outputs": [
    {
     "data": {
      "text/html": [
       "<style type=\"text/css\">\n",
       "#T_89407 th {\n",
       "  text-align: left;\n",
       "}\n",
       "#T_89407_row0_col0, #T_89407_row0_col1, #T_89407_row1_col0, #T_89407_row1_col1, #T_89407_row2_col0, #T_89407_row2_col1, #T_89407_row3_col0, #T_89407_row3_col1, #T_89407_row4_col0, #T_89407_row4_col1 {\n",
       "  text-align: left;\n",
       "}\n",
       "</style>\n",
       "<table id=\"T_89407\" style=\"font-size: 14px\">\n",
       "  <thead>\n",
       "    <tr>\n",
       "      <th id=\"T_89407_level0_col0\" class=\"col_heading level0 col0\" >Version</th>\n",
       "      <th id=\"T_89407_level0_col1\" class=\"col_heading level0 col1\" >1</th>\n",
       "    </tr>\n",
       "  </thead>\n",
       "  <tbody>\n",
       "    <tr>\n",
       "      <td id=\"T_89407_row0_col0\" class=\"data row0 col0\" >Version Date</td>\n",
       "      <td id=\"T_89407_row0_col1\" class=\"data row0 col1\" >01 Nov 2021</td>\n",
       "    </tr>\n",
       "    <tr>\n",
       "      <td id=\"T_89407_row1_col0\" class=\"data row1 col0\" >Number of Variables</td>\n",
       "      <td id=\"T_89407_row1_col1\" class=\"data row1 col1\" >112</td>\n",
       "    </tr>\n",
       "    <tr>\n",
       "      <td id=\"T_89407_row2_col0\" class=\"data row2 col0\" >Number of Observations</td>\n",
       "      <td id=\"T_89407_row2_col1\" class=\"data row2 col1\" >9137</td>\n",
       "    </tr>\n",
       "    <tr>\n",
       "      <td id=\"T_89407_row3_col0\" class=\"data row3 col0\" >DOI</td>\n",
       "      <td id=\"T_89407_row3_col1\" class=\"data row3 col1\" > <a href=\"https://doi.org/10.71760/ukllc-dataset-00248-01\" rel=\"noopener noreferrer\" target=\"_blank\">10.71760/ukllc-dataset-00248-01</a></td>\n",
       "    </tr>\n",
       "    <tr>\n",
       "      <td id=\"T_89407_row4_col0\" class=\"data row4 col0\" >Change Log</td>\n",
       "      <td id=\"T_89407_row4_col1\" class=\"data row4 col1\" > <a href=\"https://api.test.datacite.org/dois/10.71760/ukllc-dataset-00248-01/activities\" rel=\"noopener noreferrer\" target=\"_blank\">10.71760/ukllc-dataset-00248-01/activities</a></td>\n",
       "    </tr>\n",
       "  </tbody>\n",
       "</table>\n"
      ],
      "text/plain": [
       "<pandas.io.formats.style.Styler at 0x2b643936300>"
      ]
     },
     "execution_count": 4,
     "metadata": {},
     "output_type": "execute_result"
    }
   ],
   "source": [
    "ds.version_history()"
   ]
  },
  {
   "cell_type": "markdown",
   "id": "a626710a",
   "metadata": {},
   "source": [
    "## 3. Documentation"
   ]
  },
  {
   "cell_type": "code",
   "execution_count": 5,
   "id": "9aa840c6",
   "metadata": {
    "execution": {
     "iopub.execute_input": "2025-07-28T19:52:03.069549Z",
     "iopub.status.busy": "2025-07-28T19:52:03.069549Z",
     "iopub.status.idle": "2025-07-28T19:52:03.079971Z",
     "shell.execute_reply": "2025-07-28T19:52:03.078885Z"
    },
    "tags": [
     "remove-input"
    ]
   },
   "outputs": [
    {
     "data": {
      "text/markdown": [
       "We are currently building a documentation storage system which will host useful documents related to datasets and data owners. We will surface these documents on Guidebook."
      ],
      "text/plain": [
       "<IPython.core.display.Markdown object>"
      ]
     },
     "metadata": {},
     "output_type": "display_data"
    }
   ],
   "source": [
    "ds.documentation()"
   ]
  },
  {
   "cell_type": "markdown",
   "id": "078542ea",
   "metadata": {},
   "source": [
    "## 4. Useful Syntax"
   ]
  },
  {
   "cell_type": "code",
   "execution_count": 6,
   "id": "0d8d0d25",
   "metadata": {
    "execution": {
     "iopub.execute_input": "2025-07-28T19:52:03.085571Z",
     "iopub.status.busy": "2025-07-28T19:52:03.083564Z",
     "iopub.status.idle": "2025-07-28T19:52:03.094137Z",
     "shell.execute_reply": "2025-07-28T19:52:03.094137Z"
    },
    "tags": [
     "remove-input"
    ]
   },
   "outputs": [
    {
     "data": {
      "text/markdown": [
       "Below we will include syntax that may be helpful to other researchers in the UK LLC TRE. For longer scripts, we will include a snippet of the code plus a link to Git where you can find the full scripts."
      ],
      "text/plain": [
       "<IPython.core.display.Markdown object>"
      ]
     },
     "metadata": {},
     "output_type": "display_data"
    }
   ],
   "source": [
    "ds.useful_syntax()"
   ]
  }
 ],
 "metadata": {
  "language_info": {
   "codemirror_mode": {
    "name": "ipython",
    "version": 3
   },
   "file_extension": ".py",
   "mimetype": "text/x-python",
   "name": "python",
   "nbconvert_exporter": "python",
   "pygments_lexer": "ipython3",
   "version": "3.12.7"
  }
 },
 "nbformat": 4,
 "nbformat_minor": 5
}
