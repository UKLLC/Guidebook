{
 "cells": [
  {
   "cell_type": "markdown",
   "id": "bbe20733",
   "metadata": {},
   "source": [
    "# sweep 5 main survey (NCDS58)"
   ]
  },
  {
   "cell_type": "code",
   "execution_count": 1,
   "id": "dfc70882",
   "metadata": {
    "execution": {
     "iopub.execute_input": "2025-07-28T19:47:29.630919Z",
     "iopub.status.busy": "2025-07-28T19:47:29.629919Z",
     "iopub.status.idle": "2025-07-28T19:47:42.104275Z",
     "shell.execute_reply": "2025-07-28T19:47:42.102260Z"
    },
    "tags": [
     "remove-input"
    ]
   },
   "outputs": [
    {
     "data": {
      "text/markdown": [
       ">Last modified: 28 Jul 2025"
      ],
      "text/plain": [
       "<IPython.core.display.Markdown object>"
      ]
     },
     "metadata": {},
     "output_type": "display_data"
    }
   ],
   "source": [
    "\n",
    "import sys\n",
    "import os\n",
    "sys.path.append(os.path.abspath('../../../../scripts/'))\n",
    "from data_doc_helper import LPSDataSet as DS, last_modified\n",
    "API_KEY = os.environ['FASTAPI_KEY']\n",
    "ds = DS(\"NCDS58\", \"ncds5\")\n",
    "last_modified()\n"
   ]
  },
  {
   "cell_type": "markdown",
   "id": "bfcbb58c",
   "metadata": {},
   "source": [
    "## 1. Summary"
   ]
  },
  {
   "cell_type": "code",
   "execution_count": 2,
   "id": "9d1cf2ec",
   "metadata": {
    "execution": {
     "iopub.execute_input": "2025-07-28T19:47:42.113169Z",
     "iopub.status.busy": "2025-07-28T19:47:42.112170Z",
     "iopub.status.idle": "2025-07-28T19:47:42.128637Z",
     "shell.execute_reply": "2025-07-28T19:47:42.127097Z"
    },
    "tags": [
     "remove-input"
    ]
   },
   "outputs": [
    {
     "data": {
      "text/markdown": [
       "Data from sweep 5 (1991, age 33). The data file is flat (1-row-per-Cohort-Member) on the NCDSID. The file contains information about the Cohort Member's employment and economic activity, parenthood, accommodation and information about their relationships, children, household, and derived variables. "
      ],
      "text/plain": [
       "<IPython.core.display.Markdown object>"
      ]
     },
     "metadata": {},
     "output_type": "display_data"
    }
   ],
   "source": [
    "ds.summary()"
   ]
  },
  {
   "cell_type": "code",
   "execution_count": 3,
   "id": "f1e43f55",
   "metadata": {
    "execution": {
     "iopub.execute_input": "2025-07-28T19:47:42.137199Z",
     "iopub.status.busy": "2025-07-28T19:47:42.136200Z",
     "iopub.status.idle": "2025-07-28T19:47:44.928959Z",
     "shell.execute_reply": "2025-07-28T19:47:44.926942Z"
    },
    "tags": [
     "remove-input"
    ]
   },
   "outputs": [
    {
     "data": {
      "text/html": [
       "<style type=\"text/css\">\n",
       "#T_174a5 th {\n",
       "  text-align: left;\n",
       "}\n",
       "#T_174a5_row0_col0, #T_174a5_row0_col1, #T_174a5_row1_col0, #T_174a5_row1_col1, #T_174a5_row2_col0, #T_174a5_row2_col1, #T_174a5_row3_col0, #T_174a5_row3_col1, #T_174a5_row4_col0, #T_174a5_row4_col1, #T_174a5_row5_col0, #T_174a5_row5_col1, #T_174a5_row6_col0, #T_174a5_row6_col1, #T_174a5_row7_col0, #T_174a5_row7_col1, #T_174a5_row8_col0, #T_174a5_row8_col1, #T_174a5_row9_col0, #T_174a5_row9_col1, #T_174a5_row10_col0, #T_174a5_row10_col1, #T_174a5_row11_col0, #T_174a5_row11_col1, #T_174a5_row12_col0, #T_174a5_row12_col1 {\n",
       "  text-align: left;\n",
       "}\n",
       "</style>\n",
       "<table id=\"T_174a5\" style=\"font-size: 14px\">\n",
       "  <thead>\n",
       "    <tr>\n",
       "      <th id=\"T_174a5_level0_col0\" class=\"col_heading level0 col0\" >Dataset Descriptor</th>\n",
       "      <th id=\"T_174a5_level0_col1\" class=\"col_heading level0 col1\" >Dataset-specific Information</th>\n",
       "    </tr>\n",
       "  </thead>\n",
       "  <tbody>\n",
       "    <tr>\n",
       "      <td id=\"T_174a5_row0_col0\" class=\"data row0 col0\" >Name of Dataset in TRE</td>\n",
       "      <td id=\"T_174a5_row0_col1\" class=\"data row0 col1\" >NCDS58_ncds5</td>\n",
       "    </tr>\n",
       "    <tr>\n",
       "      <td id=\"T_174a5_row1_col0\" class=\"data row1 col0\" >Citation (APA)</td>\n",
       "      <td id=\"T_174a5_row1_col1\" class=\"data row1 col1\" >University College London, UCL Social Research Institute, Centre for Longitudinal Studies. (2021). <i>1958 National Child Development Study (NCDS): sweep 5 main survey.</i> UK Longitudinal Linkage Collaboration (UK LLC).  <a href=\"https://doi.org/10.71760/ukllc-dataset-00242-01\" rel=\"noopener noreferrer\" target=\"_blank\">https://doi.org/10.71760/ukllc-dataset-00242-01</a></td>\n",
       "    </tr>\n",
       "    <tr>\n",
       "      <td id=\"T_174a5_row2_col0\" class=\"data row2 col0\" >Download Citation</td>\n",
       "      <td id=\"T_174a5_row2_col1\" class=\"data row2 col1\" > <a href=\"https://api.datacite.org/application/vnd.citationstyles.csl+json/10.71760/ukllc-dataset-00242-01\" rel=\"noopener noreferrer\" target=\"_blank\">Citeproc JSON</a>&nbsp;&nbsp;&nbsp;&nbsp; <a href=\"https://api.datacite.org/application/x-bibtex/10.71760/ukllc-dataset-00242-01\" rel=\"noopener noreferrer\" target=\"_blank\">BibTeX</a>&nbsp;&nbsp;&nbsp;&nbsp; <a href=\"https://api.datacite.org/application/x-research-info-systems/10.71760/ukllc-dataset-00242-01\" rel=\"noopener noreferrer\" target=\"_blank\">RIS</a></td>\n",
       "    </tr>\n",
       "    <tr>\n",
       "      <td id=\"T_174a5_row3_col0\" class=\"data row3 col0\" >Series</td>\n",
       "      <td id=\"T_174a5_row3_col1\" class=\"data row3 col1\" > <a href=\"https://guidebook.ukllc.ac.uk/docs/lps_data/lps%20profiles/NCDS58\">1958 National Child Development Study (NCDS)</a></td>\n",
       "    </tr>\n",
       "    <tr>\n",
       "      <td id=\"T_174a5_row4_col0\" class=\"data row4 col0\" >Owner</td>\n",
       "      <td id=\"T_174a5_row4_col1\" class=\"data row4 col1\" >UCL</td>\n",
       "    </tr>\n",
       "    <tr>\n",
       "      <td id=\"T_174a5_row5_col0\" class=\"data row5 col0\" >Temporal Coverage</td>\n",
       "      <td id=\"T_174a5_row5_col1\" class=\"data row5 col1\" >03/1991 - 12/1991</td>\n",
       "    </tr>\n",
       "    <tr>\n",
       "      <td id=\"T_174a5_row6_col0\" class=\"data row6 col0\" >Keywords</td>\n",
       "      <td id=\"T_174a5_row6_col1\" class=\"data row6 col1\" >Health,Employment,Partnerships,Attitudes,Parenthood,Pregnancies</td>\n",
       "    </tr>\n",
       "    <tr>\n",
       "      <td id=\"T_174a5_row7_col0\" class=\"data row7 col0\" >Participants Invited</td>\n",
       "      <td id=\"T_174a5_row7_col1\" class=\"data row7 col1\" >11469</td>\n",
       "    </tr>\n",
       "    <tr>\n",
       "      <td id=\"T_174a5_row8_col0\" class=\"data row8 col0\" >Participant Count</td>\n",
       "      <td id=\"T_174a5_row8_col1\" class=\"data row8 col1\" >7796</td>\n",
       "    </tr>\n",
       "    <tr>\n",
       "      <td id=\"T_174a5_row9_col0\" class=\"data row9 col0\" >Number of variables</td>\n",
       "      <td id=\"T_174a5_row9_col1\" class=\"data row9 col1\" >3191</td>\n",
       "    </tr>\n",
       "    <tr>\n",
       "      <td id=\"T_174a5_row10_col0\" class=\"data row10 col0\" >Number of observations</td>\n",
       "      <td id=\"T_174a5_row10_col1\" class=\"data row10 col1\" >11469</td>\n",
       "    </tr>\n",
       "    <tr>\n",
       "      <td id=\"T_174a5_row11_col0\" class=\"data row11 col0\" >Specific Restrictions to Data Use</td>\n",
       "      <td id=\"T_174a5_row11_col1\" class=\"data row11 col1\" >None</td>\n",
       "    </tr>\n",
       "    <tr>\n",
       "      <td id=\"T_174a5_row12_col0\" class=\"data row12 col0\" >Build a Data Request</td>\n",
       "      <td id=\"T_174a5_row12_col1\" class=\"data row12 col1\" > <a href=\"https://explore.ukllc.ac.uk/\" rel=\"noopener noreferrer\" target=\"_blank\">https://explore.ukllc.ac.uk/</a></td>\n",
       "    </tr>\n",
       "  </tbody>\n",
       "</table>\n"
      ],
      "text/plain": [
       "<pandas.io.formats.style.Styler at 0x1b3c7330680>"
      ]
     },
     "execution_count": 3,
     "metadata": {},
     "output_type": "execute_result"
    }
   ],
   "source": [
    "ds.info_table()"
   ]
  },
  {
   "cell_type": "markdown",
   "id": "22ea507d",
   "metadata": {},
   "source": [
    "## 2. Version History"
   ]
  },
  {
   "cell_type": "code",
   "execution_count": 4,
   "id": "f716e298",
   "metadata": {
    "execution": {
     "iopub.execute_input": "2025-07-28T19:47:44.936968Z",
     "iopub.status.busy": "2025-07-28T19:47:44.935961Z",
     "iopub.status.idle": "2025-07-28T19:47:50.460428Z",
     "shell.execute_reply": "2025-07-28T19:47:50.454396Z"
    },
    "tags": [
     "remove-input"
    ]
   },
   "outputs": [
    {
     "data": {
      "text/html": [
       "<style type=\"text/css\">\n",
       "#T_a760c th {\n",
       "  text-align: left;\n",
       "}\n",
       "#T_a760c_row0_col0, #T_a760c_row0_col1, #T_a760c_row1_col0, #T_a760c_row1_col1, #T_a760c_row2_col0, #T_a760c_row2_col1, #T_a760c_row3_col0, #T_a760c_row3_col1, #T_a760c_row4_col0, #T_a760c_row4_col1 {\n",
       "  text-align: left;\n",
       "}\n",
       "</style>\n",
       "<table id=\"T_a760c\" style=\"font-size: 14px\">\n",
       "  <thead>\n",
       "    <tr>\n",
       "      <th id=\"T_a760c_level0_col0\" class=\"col_heading level0 col0\" >Version</th>\n",
       "      <th id=\"T_a760c_level0_col1\" class=\"col_heading level0 col1\" >1</th>\n",
       "    </tr>\n",
       "  </thead>\n",
       "  <tbody>\n",
       "    <tr>\n",
       "      <td id=\"T_a760c_row0_col0\" class=\"data row0 col0\" >Version Date</td>\n",
       "      <td id=\"T_a760c_row0_col1\" class=\"data row0 col1\" >01 Nov 2021</td>\n",
       "    </tr>\n",
       "    <tr>\n",
       "      <td id=\"T_a760c_row1_col0\" class=\"data row1 col0\" >Number of Variables</td>\n",
       "      <td id=\"T_a760c_row1_col1\" class=\"data row1 col1\" >3197</td>\n",
       "    </tr>\n",
       "    <tr>\n",
       "      <td id=\"T_a760c_row2_col0\" class=\"data row2 col0\" >Number of Observations</td>\n",
       "      <td id=\"T_a760c_row2_col1\" class=\"data row2 col1\" >11469</td>\n",
       "    </tr>\n",
       "    <tr>\n",
       "      <td id=\"T_a760c_row3_col0\" class=\"data row3 col0\" >DOI</td>\n",
       "      <td id=\"T_a760c_row3_col1\" class=\"data row3 col1\" > <a href=\"https://doi.org/10.71760/ukllc-dataset-00242-01\" rel=\"noopener noreferrer\" target=\"_blank\">10.71760/ukllc-dataset-00242-01</a></td>\n",
       "    </tr>\n",
       "    <tr>\n",
       "      <td id=\"T_a760c_row4_col0\" class=\"data row4 col0\" >Change Log</td>\n",
       "      <td id=\"T_a760c_row4_col1\" class=\"data row4 col1\" > <a href=\"https://api.test.datacite.org/dois/10.71760/ukllc-dataset-00242-01/activities\" rel=\"noopener noreferrer\" target=\"_blank\">10.71760/ukllc-dataset-00242-01/activities</a></td>\n",
       "    </tr>\n",
       "  </tbody>\n",
       "</table>\n"
      ],
      "text/plain": [
       "<pandas.io.formats.style.Styler at 0x1b3c90fa240>"
      ]
     },
     "execution_count": 4,
     "metadata": {},
     "output_type": "execute_result"
    }
   ],
   "source": [
    "ds.version_history()"
   ]
  },
  {
   "cell_type": "markdown",
   "id": "22a2fa22",
   "metadata": {},
   "source": [
    "## 3. Documentation"
   ]
  },
  {
   "cell_type": "code",
   "execution_count": 5,
   "id": "003da39d",
   "metadata": {
    "execution": {
     "iopub.execute_input": "2025-07-28T19:47:50.477991Z",
     "iopub.status.busy": "2025-07-28T19:47:50.477010Z",
     "iopub.status.idle": "2025-07-28T19:47:50.493008Z",
     "shell.execute_reply": "2025-07-28T19:47:50.490908Z"
    },
    "tags": [
     "remove-input"
    ]
   },
   "outputs": [
    {
     "data": {
      "text/markdown": [
       "We are currently building a documentation storage system which will host useful documents related to datasets and data owners. We will surface these documents on Guidebook."
      ],
      "text/plain": [
       "<IPython.core.display.Markdown object>"
      ]
     },
     "metadata": {},
     "output_type": "display_data"
    }
   ],
   "source": [
    "ds.documentation()"
   ]
  },
  {
   "cell_type": "markdown",
   "id": "be800974",
   "metadata": {},
   "source": [
    "## 4. Useful Syntax"
   ]
  },
  {
   "cell_type": "code",
   "execution_count": 6,
   "id": "ed611b79",
   "metadata": {
    "execution": {
     "iopub.execute_input": "2025-07-28T19:47:50.500997Z",
     "iopub.status.busy": "2025-07-28T19:47:50.500997Z",
     "iopub.status.idle": "2025-07-28T19:47:50.514394Z",
     "shell.execute_reply": "2025-07-28T19:47:50.511638Z"
    },
    "tags": [
     "remove-input"
    ]
   },
   "outputs": [
    {
     "data": {
      "text/markdown": [
       "Below we will include syntax that may be helpful to other researchers in the UK LLC TRE. For longer scripts, we will include a snippet of the code plus a link to Git where you can find the full scripts."
      ],
      "text/plain": [
       "<IPython.core.display.Markdown object>"
      ]
     },
     "metadata": {},
     "output_type": "display_data"
    }
   ],
   "source": [
    "ds.useful_syntax()"
   ]
  }
 ],
 "metadata": {
  "language_info": {
   "codemirror_mode": {
    "name": "ipython",
    "version": 3
   },
   "file_extension": ".py",
   "mimetype": "text/x-python",
   "name": "python",
   "nbconvert_exporter": "python",
   "pygments_lexer": "ipython3",
   "version": "3.12.7"
  }
 },
 "nbformat": 4,
 "nbformat_minor": 5
}
