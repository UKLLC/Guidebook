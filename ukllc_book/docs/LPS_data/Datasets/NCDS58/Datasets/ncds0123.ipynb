{
 "cells": [
  {
   "cell_type": "markdown",
   "id": "ca4a69ce",
   "metadata": {},
   "source": [
    "# sweeps 0-3 main surveys (NCDS58)"
   ]
  },
  {
   "cell_type": "code",
   "execution_count": 1,
   "id": "485ab6ef",
   "metadata": {
    "execution": {
     "iopub.execute_input": "2025-07-28T19:46:41.191263Z",
     "iopub.status.busy": "2025-07-28T19:46:41.191263Z",
     "iopub.status.idle": "2025-07-28T19:46:54.244813Z",
     "shell.execute_reply": "2025-07-28T19:46:54.242282Z"
    },
    "tags": [
     "remove-input"
    ]
   },
   "outputs": [
    {
     "data": {
      "text/markdown": [
       ">Last modified: 28 Jul 2025"
      ],
      "text/plain": [
       "<IPython.core.display.Markdown object>"
      ]
     },
     "metadata": {},
     "output_type": "display_data"
    }
   ],
   "source": [
    "\n",
    "import sys\n",
    "import os\n",
    "sys.path.append(os.path.abspath('../../../../scripts/'))\n",
    "from data_doc_helper import LPSDataSet as DS, last_modified\n",
    "API_KEY = os.environ['FASTAPI_KEY']\n",
    "ds = DS(\"NCDS58\", \"ncds0123\")\n",
    "last_modified()\n"
   ]
  },
  {
   "cell_type": "markdown",
   "id": "e32762e1",
   "metadata": {},
   "source": [
    "## 1. Summary"
   ]
  },
  {
   "cell_type": "code",
   "execution_count": 2,
   "id": "bf568ee4",
   "metadata": {
    "execution": {
     "iopub.execute_input": "2025-07-28T19:46:54.252257Z",
     "iopub.status.busy": "2025-07-28T19:46:54.251259Z",
     "iopub.status.idle": "2025-07-28T19:46:54.263842Z",
     "shell.execute_reply": "2025-07-28T19:46:54.261315Z"
    },
    "tags": [
     "remove-input"
    ]
   },
   "outputs": [
    {
     "data": {
      "text/markdown": [
       "Data from sweep 0 (1958, at birth, Perinatal Mortality Survey), sweep 1 (1965, age 7), sweep 2 (1969, age 11), and, sweep 3 (1974, age 16), all face-to-face. The data are flat (1-row-per-Cohort-Member) on the ncdsid. They contain information about the Cohort Member's first years by the parents. The topics covered are education and health, among others."
      ],
      "text/plain": [
       "<IPython.core.display.Markdown object>"
      ]
     },
     "metadata": {},
     "output_type": "display_data"
    }
   ],
   "source": [
    "ds.summary()"
   ]
  },
  {
   "cell_type": "code",
   "execution_count": 3,
   "id": "fb272d14",
   "metadata": {
    "execution": {
     "iopub.execute_input": "2025-07-28T19:46:54.271394Z",
     "iopub.status.busy": "2025-07-28T19:46:54.269902Z",
     "iopub.status.idle": "2025-07-28T19:46:56.794966Z",
     "shell.execute_reply": "2025-07-28T19:46:56.793437Z"
    },
    "tags": [
     "remove-input"
    ]
   },
   "outputs": [
    {
     "data": {
      "text/html": [
       "<style type=\"text/css\">\n",
       "#T_1ff3a th {\n",
       "  text-align: left;\n",
       "}\n",
       "#T_1ff3a_row0_col0, #T_1ff3a_row0_col1, #T_1ff3a_row1_col0, #T_1ff3a_row1_col1, #T_1ff3a_row2_col0, #T_1ff3a_row2_col1, #T_1ff3a_row3_col0, #T_1ff3a_row3_col1, #T_1ff3a_row4_col0, #T_1ff3a_row4_col1, #T_1ff3a_row5_col0, #T_1ff3a_row5_col1, #T_1ff3a_row6_col0, #T_1ff3a_row6_col1, #T_1ff3a_row7_col0, #T_1ff3a_row7_col1, #T_1ff3a_row8_col0, #T_1ff3a_row8_col1, #T_1ff3a_row9_col0, #T_1ff3a_row9_col1, #T_1ff3a_row10_col0, #T_1ff3a_row10_col1, #T_1ff3a_row11_col0, #T_1ff3a_row11_col1, #T_1ff3a_row12_col0, #T_1ff3a_row12_col1 {\n",
       "  text-align: left;\n",
       "}\n",
       "</style>\n",
       "<table id=\"T_1ff3a\" style=\"font-size: 14px\">\n",
       "  <thead>\n",
       "    <tr>\n",
       "      <th id=\"T_1ff3a_level0_col0\" class=\"col_heading level0 col0\" >Dataset Descriptor</th>\n",
       "      <th id=\"T_1ff3a_level0_col1\" class=\"col_heading level0 col1\" >Dataset-specific Information</th>\n",
       "    </tr>\n",
       "  </thead>\n",
       "  <tbody>\n",
       "    <tr>\n",
       "      <td id=\"T_1ff3a_row0_col0\" class=\"data row0 col0\" >Name of Dataset in TRE</td>\n",
       "      <td id=\"T_1ff3a_row0_col1\" class=\"data row0 col1\" >NCDS58_ncds0123</td>\n",
       "    </tr>\n",
       "    <tr>\n",
       "      <td id=\"T_1ff3a_row1_col0\" class=\"data row1 col0\" >Citation (APA)</td>\n",
       "      <td id=\"T_1ff3a_row1_col1\" class=\"data row1 col1\" >University College London, UCL Social Research Institute, Centre for Longitudinal Studies. (2021). <i>1958 National Child Development Study (NCDS): sweeps 0-3 main surveys.</i> UK Longitudinal Linkage Collaboration (UK LLC).  <a href=\"https://doi.org/10.71760/ukllc-dataset-00238-01\" rel=\"noopener noreferrer\" target=\"_blank\">https://doi.org/10.71760/ukllc-dataset-00238-01</a></td>\n",
       "    </tr>\n",
       "    <tr>\n",
       "      <td id=\"T_1ff3a_row2_col0\" class=\"data row2 col0\" >Download Citation</td>\n",
       "      <td id=\"T_1ff3a_row2_col1\" class=\"data row2 col1\" > <a href=\"https://api.datacite.org/application/vnd.citationstyles.csl+json/10.71760/ukllc-dataset-00238-01\" rel=\"noopener noreferrer\" target=\"_blank\">Citeproc JSON</a>&nbsp;&nbsp;&nbsp;&nbsp; <a href=\"https://api.datacite.org/application/x-bibtex/10.71760/ukllc-dataset-00238-01\" rel=\"noopener noreferrer\" target=\"_blank\">BibTeX</a>&nbsp;&nbsp;&nbsp;&nbsp; <a href=\"https://api.datacite.org/application/x-research-info-systems/10.71760/ukllc-dataset-00238-01\" rel=\"noopener noreferrer\" target=\"_blank\">RIS</a></td>\n",
       "    </tr>\n",
       "    <tr>\n",
       "      <td id=\"T_1ff3a_row3_col0\" class=\"data row3 col0\" >Series</td>\n",
       "      <td id=\"T_1ff3a_row3_col1\" class=\"data row3 col1\" > <a href=\"https://guidebook.ukllc.ac.uk/docs/lps_data/lps%20profiles/NCDS58\">1958 National Child Development Study (NCDS)</a></td>\n",
       "    </tr>\n",
       "    <tr>\n",
       "      <td id=\"T_1ff3a_row4_col0\" class=\"data row4 col0\" >Owner</td>\n",
       "      <td id=\"T_1ff3a_row4_col1\" class=\"data row4 col1\" >UCL</td>\n",
       "    </tr>\n",
       "    <tr>\n",
       "      <td id=\"T_1ff3a_row5_col0\" class=\"data row5 col0\" >Temporal Coverage</td>\n",
       "      <td id=\"T_1ff3a_row5_col1\" class=\"data row5 col1\" >03/1958 - 03/1974</td>\n",
       "    </tr>\n",
       "    <tr>\n",
       "      <td id=\"T_1ff3a_row6_col0\" class=\"data row6 col0\" >Keywords</td>\n",
       "      <td id=\"T_1ff3a_row6_col1\" class=\"data row6 col1\" >Childhood,Education,Cognition,Birth Characteristics,Adolescence,Health</td>\n",
       "    </tr>\n",
       "    <tr>\n",
       "      <td id=\"T_1ff3a_row7_col0\" class=\"data row7 col0\" >Participants Invited</td>\n",
       "      <td id=\"T_1ff3a_row7_col1\" class=\"data row7 col1\" >17415</td>\n",
       "    </tr>\n",
       "    <tr>\n",
       "      <td id=\"T_1ff3a_row8_col0\" class=\"data row8 col0\" >Participant Count</td>\n",
       "      <td id=\"T_1ff3a_row8_col1\" class=\"data row8 col1\" >8973</td>\n",
       "    </tr>\n",
       "    <tr>\n",
       "      <td id=\"T_1ff3a_row9_col0\" class=\"data row9 col0\" >Number of variables</td>\n",
       "      <td id=\"T_1ff3a_row9_col1\" class=\"data row9 col1\" >1767</td>\n",
       "    </tr>\n",
       "    <tr>\n",
       "      <td id=\"T_1ff3a_row10_col0\" class=\"data row10 col0\" >Number of observations</td>\n",
       "      <td id=\"T_1ff3a_row10_col1\" class=\"data row10 col1\" >18558</td>\n",
       "    </tr>\n",
       "    <tr>\n",
       "      <td id=\"T_1ff3a_row11_col0\" class=\"data row11 col0\" >Specific Restrictions to Data Use</td>\n",
       "      <td id=\"T_1ff3a_row11_col1\" class=\"data row11 col1\" >None</td>\n",
       "    </tr>\n",
       "    <tr>\n",
       "      <td id=\"T_1ff3a_row12_col0\" class=\"data row12 col0\" >Build a Data Request</td>\n",
       "      <td id=\"T_1ff3a_row12_col1\" class=\"data row12 col1\" > <a href=\"https://explore.ukllc.ac.uk/\" rel=\"noopener noreferrer\" target=\"_blank\">https://explore.ukllc.ac.uk/</a></td>\n",
       "    </tr>\n",
       "  </tbody>\n",
       "</table>\n"
      ],
      "text/plain": [
       "<pandas.io.formats.style.Styler at 0x1f4dac7ae70>"
      ]
     },
     "execution_count": 3,
     "metadata": {},
     "output_type": "execute_result"
    }
   ],
   "source": [
    "ds.info_table()"
   ]
  },
  {
   "cell_type": "markdown",
   "id": "02846eaa",
   "metadata": {},
   "source": [
    "## 2. Version History"
   ]
  },
  {
   "cell_type": "code",
   "execution_count": 4,
   "id": "024e9342",
   "metadata": {
    "execution": {
     "iopub.execute_input": "2025-07-28T19:46:56.803969Z",
     "iopub.status.busy": "2025-07-28T19:46:56.802968Z",
     "iopub.status.idle": "2025-07-28T19:47:02.029997Z",
     "shell.execute_reply": "2025-07-28T19:47:02.023956Z"
    },
    "tags": [
     "remove-input"
    ]
   },
   "outputs": [
    {
     "data": {
      "text/html": [
       "<style type=\"text/css\">\n",
       "#T_13546 th {\n",
       "  text-align: left;\n",
       "}\n",
       "#T_13546_row0_col0, #T_13546_row0_col1, #T_13546_row1_col0, #T_13546_row1_col1, #T_13546_row2_col0, #T_13546_row2_col1, #T_13546_row3_col0, #T_13546_row3_col1, #T_13546_row4_col0, #T_13546_row4_col1 {\n",
       "  text-align: left;\n",
       "}\n",
       "</style>\n",
       "<table id=\"T_13546\" style=\"font-size: 14px\">\n",
       "  <thead>\n",
       "    <tr>\n",
       "      <th id=\"T_13546_level0_col0\" class=\"col_heading level0 col0\" >Version</th>\n",
       "      <th id=\"T_13546_level0_col1\" class=\"col_heading level0 col1\" >1</th>\n",
       "    </tr>\n",
       "  </thead>\n",
       "  <tbody>\n",
       "    <tr>\n",
       "      <td id=\"T_13546_row0_col0\" class=\"data row0 col0\" >Version Date</td>\n",
       "      <td id=\"T_13546_row0_col1\" class=\"data row0 col1\" >01 Nov 2021</td>\n",
       "    </tr>\n",
       "    <tr>\n",
       "      <td id=\"T_13546_row1_col0\" class=\"data row1 col0\" >Number of Variables</td>\n",
       "      <td id=\"T_13546_row1_col1\" class=\"data row1 col1\" >3538</td>\n",
       "    </tr>\n",
       "    <tr>\n",
       "      <td id=\"T_13546_row2_col0\" class=\"data row2 col0\" >Number of Observations</td>\n",
       "      <td id=\"T_13546_row2_col1\" class=\"data row2 col1\" >18558</td>\n",
       "    </tr>\n",
       "    <tr>\n",
       "      <td id=\"T_13546_row3_col0\" class=\"data row3 col0\" >DOI</td>\n",
       "      <td id=\"T_13546_row3_col1\" class=\"data row3 col1\" > <a href=\"https://doi.org/10.71760/ukllc-dataset-00238-01\" rel=\"noopener noreferrer\" target=\"_blank\">10.71760/ukllc-dataset-00238-01</a></td>\n",
       "    </tr>\n",
       "    <tr>\n",
       "      <td id=\"T_13546_row4_col0\" class=\"data row4 col0\" >Change Log</td>\n",
       "      <td id=\"T_13546_row4_col1\" class=\"data row4 col1\" > <a href=\"https://api.test.datacite.org/dois/10.71760/ukllc-dataset-00238-01/activities\" rel=\"noopener noreferrer\" target=\"_blank\">10.71760/ukllc-dataset-00238-01/activities</a></td>\n",
       "    </tr>\n",
       "  </tbody>\n",
       "</table>\n"
      ],
      "text/plain": [
       "<pandas.io.formats.style.Styler at 0x1f4e0962720>"
      ]
     },
     "execution_count": 4,
     "metadata": {},
     "output_type": "execute_result"
    }
   ],
   "source": [
    "ds.version_history()"
   ]
  },
  {
   "cell_type": "markdown",
   "id": "10752cb7",
   "metadata": {},
   "source": [
    "## 3. Documentation"
   ]
  },
  {
   "cell_type": "code",
   "execution_count": 5,
   "id": "5a625f0f",
   "metadata": {
    "execution": {
     "iopub.execute_input": "2025-07-28T19:47:02.052179Z",
     "iopub.status.busy": "2025-07-28T19:47:02.048996Z",
     "iopub.status.idle": "2025-07-28T19:47:02.066839Z",
     "shell.execute_reply": "2025-07-28T19:47:02.063786Z"
    },
    "tags": [
     "remove-input"
    ]
   },
   "outputs": [
    {
     "data": {
      "text/markdown": [
       "We are currently building a documentation storage system which will host useful documents related to datasets and data owners. We will surface these documents on Guidebook."
      ],
      "text/plain": [
       "<IPython.core.display.Markdown object>"
      ]
     },
     "metadata": {},
     "output_type": "display_data"
    }
   ],
   "source": [
    "ds.documentation()"
   ]
  },
  {
   "cell_type": "markdown",
   "id": "76fc65ee",
   "metadata": {},
   "source": [
    "## 4. Useful Syntax"
   ]
  },
  {
   "cell_type": "code",
   "execution_count": 6,
   "id": "2e372ec8",
   "metadata": {
    "execution": {
     "iopub.execute_input": "2025-07-28T19:47:02.075862Z",
     "iopub.status.busy": "2025-07-28T19:47:02.075862Z",
     "iopub.status.idle": "2025-07-28T19:47:02.087940Z",
     "shell.execute_reply": "2025-07-28T19:47:02.085818Z"
    },
    "tags": [
     "remove-input"
    ]
   },
   "outputs": [
    {
     "data": {
      "text/markdown": [
       "Below we will include syntax that may be helpful to other researchers in the UK LLC TRE. For longer scripts, we will include a snippet of the code plus a link to Git where you can find the full scripts."
      ],
      "text/plain": [
       "<IPython.core.display.Markdown object>"
      ]
     },
     "metadata": {},
     "output_type": "display_data"
    }
   ],
   "source": [
    "ds.useful_syntax()"
   ]
  }
 ],
 "metadata": {
  "language_info": {
   "codemirror_mode": {
    "name": "ipython",
    "version": 3
   },
   "file_extension": ".py",
   "mimetype": "text/x-python",
   "name": "python",
   "nbconvert_exporter": "python",
   "pygments_lexer": "ipython3",
   "version": "3.12.7"
  }
 },
 "nbformat": 4,
 "nbformat_minor": 5
}
