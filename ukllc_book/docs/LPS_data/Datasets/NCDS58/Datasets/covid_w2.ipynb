{
 "cells": [
  {
   "cell_type": "markdown",
   "id": "a0b6b3f0",
   "metadata": {},
   "source": [
    "# COVID-19 Survey Wave 2 (NCDS58)"
   ]
  },
  {
   "cell_type": "code",
   "execution_count": 1,
   "id": "16357484",
   "metadata": {
    "execution": {
     "iopub.execute_input": "2025-07-28T19:45:52.893794Z",
     "iopub.status.busy": "2025-07-28T19:45:52.893794Z",
     "iopub.status.idle": "2025-07-28T19:46:06.862025Z",
     "shell.execute_reply": "2025-07-28T19:46:06.859495Z"
    },
    "tags": [
     "remove-input"
    ]
   },
   "outputs": [
    {
     "data": {
      "text/markdown": [
       ">Last modified: 28 Jul 2025"
      ],
      "text/plain": [
       "<IPython.core.display.Markdown object>"
      ]
     },
     "metadata": {},
     "output_type": "display_data"
    }
   ],
   "source": [
    "\n",
    "import sys\n",
    "import os\n",
    "sys.path.append(os.path.abspath('../../../../scripts/'))\n",
    "from data_doc_helper import LPSDataSet as DS, last_modified\n",
    "API_KEY = os.environ['FASTAPI_KEY']\n",
    "ds = DS(\"NCDS58\", \"COVID_w2\")\n",
    "last_modified()\n"
   ]
  },
  {
   "cell_type": "markdown",
   "id": "7c7ee717",
   "metadata": {},
   "source": [
    "## 1. Summary"
   ]
  },
  {
   "cell_type": "code",
   "execution_count": 2,
   "id": "b698975f",
   "metadata": {
    "execution": {
     "iopub.execute_input": "2025-07-28T19:46:06.872173Z",
     "iopub.status.busy": "2025-07-28T19:46:06.870941Z",
     "iopub.status.idle": "2025-07-28T19:46:06.887112Z",
     "shell.execute_reply": "2025-07-28T19:46:06.885192Z"
    },
    "tags": [
     "remove-input"
    ]
   },
   "outputs": [
    {
     "data": {
      "text/markdown": [
       "An online questionnaire sent to all participants. Questions cover topics of wellbeing during the first wave of the pandemic, including the impact of COVID on participants’ mental health, work and family life. This dataset, as well as building on the sample of respondents from wave 1, covered additional questions about the impact of the pandemic on healthcare, schooling, finance, and life events"
      ],
      "text/plain": [
       "<IPython.core.display.Markdown object>"
      ]
     },
     "metadata": {},
     "output_type": "display_data"
    }
   ],
   "source": [
    "ds.summary()"
   ]
  },
  {
   "cell_type": "code",
   "execution_count": 3,
   "id": "d0e69a2c",
   "metadata": {
    "execution": {
     "iopub.execute_input": "2025-07-28T19:46:06.894569Z",
     "iopub.status.busy": "2025-07-28T19:46:06.893247Z",
     "iopub.status.idle": "2025-07-28T19:46:08.928885Z",
     "shell.execute_reply": "2025-07-28T19:46:08.924866Z"
    },
    "tags": [
     "remove-input"
    ]
   },
   "outputs": [
    {
     "data": {
      "text/html": [
       "<style type=\"text/css\">\n",
       "#T_90ed3 th {\n",
       "  text-align: left;\n",
       "}\n",
       "#T_90ed3_row0_col0, #T_90ed3_row0_col1, #T_90ed3_row1_col0, #T_90ed3_row1_col1, #T_90ed3_row2_col0, #T_90ed3_row2_col1, #T_90ed3_row3_col0, #T_90ed3_row3_col1, #T_90ed3_row4_col0, #T_90ed3_row4_col1, #T_90ed3_row5_col0, #T_90ed3_row5_col1, #T_90ed3_row6_col0, #T_90ed3_row6_col1, #T_90ed3_row7_col0, #T_90ed3_row7_col1, #T_90ed3_row8_col0, #T_90ed3_row8_col1, #T_90ed3_row9_col0, #T_90ed3_row9_col1, #T_90ed3_row10_col0, #T_90ed3_row10_col1, #T_90ed3_row11_col0, #T_90ed3_row11_col1, #T_90ed3_row12_col0, #T_90ed3_row12_col1 {\n",
       "  text-align: left;\n",
       "}\n",
       "</style>\n",
       "<table id=\"T_90ed3\" style=\"font-size: 14px\">\n",
       "  <thead>\n",
       "    <tr>\n",
       "      <th id=\"T_90ed3_level0_col0\" class=\"col_heading level0 col0\" >Dataset Descriptor</th>\n",
       "      <th id=\"T_90ed3_level0_col1\" class=\"col_heading level0 col1\" >Dataset-specific Information</th>\n",
       "    </tr>\n",
       "  </thead>\n",
       "  <tbody>\n",
       "    <tr>\n",
       "      <td id=\"T_90ed3_row0_col0\" class=\"data row0 col0\" >Name of Dataset in TRE</td>\n",
       "      <td id=\"T_90ed3_row0_col1\" class=\"data row0 col1\" >NCDS58_COVID_w2</td>\n",
       "    </tr>\n",
       "    <tr>\n",
       "      <td id=\"T_90ed3_row1_col0\" class=\"data row1 col0\" >Citation (APA)</td>\n",
       "      <td id=\"T_90ed3_row1_col1\" class=\"data row1 col1\" >University College London, UCL Social Research Institute, Centre for Longitudinal Studies. (2021). <i>1958 National Child Development Study (NCDS): COVID-19 Survey Wave 2.</i> UK Longitudinal Linkage Collaboration (UK LLC).  <a href=\"https://doi.org/10.71760/ukllc-dataset-00234-01\" rel=\"noopener noreferrer\" target=\"_blank\">https://doi.org/10.71760/ukllc-dataset-00234-01</a></td>\n",
       "    </tr>\n",
       "    <tr>\n",
       "      <td id=\"T_90ed3_row2_col0\" class=\"data row2 col0\" >Download Citation</td>\n",
       "      <td id=\"T_90ed3_row2_col1\" class=\"data row2 col1\" > <a href=\"https://api.datacite.org/application/vnd.citationstyles.csl+json/10.71760/ukllc-dataset-00234-01\" rel=\"noopener noreferrer\" target=\"_blank\">Citeproc JSON</a>&nbsp;&nbsp;&nbsp;&nbsp; <a href=\"https://api.datacite.org/application/x-bibtex/10.71760/ukllc-dataset-00234-01\" rel=\"noopener noreferrer\" target=\"_blank\">BibTeX</a>&nbsp;&nbsp;&nbsp;&nbsp; <a href=\"https://api.datacite.org/application/x-research-info-systems/10.71760/ukllc-dataset-00234-01\" rel=\"noopener noreferrer\" target=\"_blank\">RIS</a></td>\n",
       "    </tr>\n",
       "    <tr>\n",
       "      <td id=\"T_90ed3_row3_col0\" class=\"data row3 col0\" >Series</td>\n",
       "      <td id=\"T_90ed3_row3_col1\" class=\"data row3 col1\" > <a href=\"https://guidebook.ukllc.ac.uk/docs/lps_data/lps%20profiles/NCDS58\">1958 National Child Development Study (NCDS)</a></td>\n",
       "    </tr>\n",
       "    <tr>\n",
       "      <td id=\"T_90ed3_row4_col0\" class=\"data row4 col0\" >Owner</td>\n",
       "      <td id=\"T_90ed3_row4_col1\" class=\"data row4 col1\" >UCL</td>\n",
       "    </tr>\n",
       "    <tr>\n",
       "      <td id=\"T_90ed3_row5_col0\" class=\"data row5 col0\" >Temporal Coverage</td>\n",
       "      <td id=\"T_90ed3_row5_col1\" class=\"data row5 col1\" >09/2020 - 10/2020</td>\n",
       "    </tr>\n",
       "    <tr>\n",
       "      <td id=\"T_90ed3_row6_col0\" class=\"data row6 col0\" >Keywords</td>\n",
       "      <td id=\"T_90ed3_row6_col1\" class=\"data row6 col1\" >COVIDW2,Education,Employment,Income,Household,Mental Health</td>\n",
       "    </tr>\n",
       "    <tr>\n",
       "      <td id=\"T_90ed3_row7_col0\" class=\"data row7 col0\" >Participants Invited</td>\n",
       "      <td id=\"T_90ed3_row7_col1\" class=\"data row7 col1\" >6282</td>\n",
       "    </tr>\n",
       "    <tr>\n",
       "      <td id=\"T_90ed3_row8_col0\" class=\"data row8 col0\" >Participant Count</td>\n",
       "      <td id=\"T_90ed3_row8_col1\" class=\"data row8 col1\" >5619</td>\n",
       "    </tr>\n",
       "    <tr>\n",
       "      <td id=\"T_90ed3_row9_col0\" class=\"data row9 col0\" >Number of variables</td>\n",
       "      <td id=\"T_90ed3_row9_col1\" class=\"data row9 col1\" >779</td>\n",
       "    </tr>\n",
       "    <tr>\n",
       "      <td id=\"T_90ed3_row10_col0\" class=\"data row10 col0\" >Number of observations</td>\n",
       "      <td id=\"T_90ed3_row10_col1\" class=\"data row10 col1\" >6282</td>\n",
       "    </tr>\n",
       "    <tr>\n",
       "      <td id=\"T_90ed3_row11_col0\" class=\"data row11 col0\" >Specific Restrictions to Data Use</td>\n",
       "      <td id=\"T_90ed3_row11_col1\" class=\"data row11 col1\" >None</td>\n",
       "    </tr>\n",
       "    <tr>\n",
       "      <td id=\"T_90ed3_row12_col0\" class=\"data row12 col0\" >Build a Data Request</td>\n",
       "      <td id=\"T_90ed3_row12_col1\" class=\"data row12 col1\" > <a href=\"https://explore.ukllc.ac.uk/\" rel=\"noopener noreferrer\" target=\"_blank\">https://explore.ukllc.ac.uk/</a></td>\n",
       "    </tr>\n",
       "  </tbody>\n",
       "</table>\n"
      ],
      "text/plain": [
       "<pandas.io.formats.style.Styler at 0x19a16733ef0>"
      ]
     },
     "execution_count": 3,
     "metadata": {},
     "output_type": "execute_result"
    }
   ],
   "source": [
    "ds.info_table()"
   ]
  },
  {
   "cell_type": "markdown",
   "id": "48583e35",
   "metadata": {},
   "source": [
    "## 2. Version History"
   ]
  },
  {
   "cell_type": "code",
   "execution_count": 4,
   "id": "f9b69809",
   "metadata": {
    "execution": {
     "iopub.execute_input": "2025-07-28T19:46:08.937358Z",
     "iopub.status.busy": "2025-07-28T19:46:08.935878Z",
     "iopub.status.idle": "2025-07-28T19:46:14.453533Z",
     "shell.execute_reply": "2025-07-28T19:46:14.452516Z"
    },
    "tags": [
     "remove-input"
    ]
   },
   "outputs": [
    {
     "data": {
      "text/html": [
       "<style type=\"text/css\">\n",
       "#T_ee1e0 th {\n",
       "  text-align: left;\n",
       "}\n",
       "#T_ee1e0_row0_col0, #T_ee1e0_row0_col1, #T_ee1e0_row1_col0, #T_ee1e0_row1_col1, #T_ee1e0_row2_col0, #T_ee1e0_row2_col1, #T_ee1e0_row3_col0, #T_ee1e0_row3_col1, #T_ee1e0_row4_col0, #T_ee1e0_row4_col1 {\n",
       "  text-align: left;\n",
       "}\n",
       "</style>\n",
       "<table id=\"T_ee1e0\" style=\"font-size: 14px\">\n",
       "  <thead>\n",
       "    <tr>\n",
       "      <th id=\"T_ee1e0_level0_col0\" class=\"col_heading level0 col0\" >Version</th>\n",
       "      <th id=\"T_ee1e0_level0_col1\" class=\"col_heading level0 col1\" >1</th>\n",
       "    </tr>\n",
       "  </thead>\n",
       "  <tbody>\n",
       "    <tr>\n",
       "      <td id=\"T_ee1e0_row0_col0\" class=\"data row0 col0\" >Version Date</td>\n",
       "      <td id=\"T_ee1e0_row0_col1\" class=\"data row0 col1\" >01 Nov 2021</td>\n",
       "    </tr>\n",
       "    <tr>\n",
       "      <td id=\"T_ee1e0_row1_col0\" class=\"data row1 col0\" >Number of Variables</td>\n",
       "      <td id=\"T_ee1e0_row1_col1\" class=\"data row1 col1\" >3897</td>\n",
       "    </tr>\n",
       "    <tr>\n",
       "      <td id=\"T_ee1e0_row2_col0\" class=\"data row2 col0\" >Number of Observations</td>\n",
       "      <td id=\"T_ee1e0_row2_col1\" class=\"data row2 col1\" >6282</td>\n",
       "    </tr>\n",
       "    <tr>\n",
       "      <td id=\"T_ee1e0_row3_col0\" class=\"data row3 col0\" >DOI</td>\n",
       "      <td id=\"T_ee1e0_row3_col1\" class=\"data row3 col1\" > <a href=\"https://doi.org/10.71760/ukllc-dataset-00234-01\" rel=\"noopener noreferrer\" target=\"_blank\">10.71760/ukllc-dataset-00234-01</a></td>\n",
       "    </tr>\n",
       "    <tr>\n",
       "      <td id=\"T_ee1e0_row4_col0\" class=\"data row4 col0\" >Change Log</td>\n",
       "      <td id=\"T_ee1e0_row4_col1\" class=\"data row4 col1\" > <a href=\"https://api.test.datacite.org/dois/10.71760/ukllc-dataset-00234-01/activities\" rel=\"noopener noreferrer\" target=\"_blank\">10.71760/ukllc-dataset-00234-01/activities</a></td>\n",
       "    </tr>\n",
       "  </tbody>\n",
       "</table>\n"
      ],
      "text/plain": [
       "<pandas.io.formats.style.Styler at 0x19a17cebfb0>"
      ]
     },
     "execution_count": 4,
     "metadata": {},
     "output_type": "execute_result"
    }
   ],
   "source": [
    "ds.version_history()"
   ]
  },
  {
   "cell_type": "markdown",
   "id": "8c28ad69",
   "metadata": {},
   "source": [
    "## 3. Documentation"
   ]
  },
  {
   "cell_type": "code",
   "execution_count": 5,
   "id": "b018588b",
   "metadata": {
    "execution": {
     "iopub.execute_input": "2025-07-28T19:46:14.463074Z",
     "iopub.status.busy": "2025-07-28T19:46:14.462069Z",
     "iopub.status.idle": "2025-07-28T19:46:14.475257Z",
     "shell.execute_reply": "2025-07-28T19:46:14.473231Z"
    },
    "tags": [
     "remove-input"
    ]
   },
   "outputs": [
    {
     "data": {
      "text/markdown": [
       "We are currently building a documentation storage system which will host useful documents related to datasets and data owners. We will surface these documents on Guidebook."
      ],
      "text/plain": [
       "<IPython.core.display.Markdown object>"
      ]
     },
     "metadata": {},
     "output_type": "display_data"
    }
   ],
   "source": [
    "ds.documentation()"
   ]
  },
  {
   "cell_type": "markdown",
   "id": "650f6830",
   "metadata": {},
   "source": [
    "## 4. Useful Syntax"
   ]
  },
  {
   "cell_type": "code",
   "execution_count": 6,
   "id": "87161631",
   "metadata": {
    "execution": {
     "iopub.execute_input": "2025-07-28T19:46:14.482950Z",
     "iopub.status.busy": "2025-07-28T19:46:14.482950Z",
     "iopub.status.idle": "2025-07-28T19:46:14.495287Z",
     "shell.execute_reply": "2025-07-28T19:46:14.492883Z"
    },
    "tags": [
     "remove-input"
    ]
   },
   "outputs": [
    {
     "data": {
      "text/markdown": [
       "Below we will include syntax that may be helpful to other researchers in the UK LLC TRE. For longer scripts, we will include a snippet of the code plus a link to Git where you can find the full scripts."
      ],
      "text/plain": [
       "<IPython.core.display.Markdown object>"
      ]
     },
     "metadata": {},
     "output_type": "display_data"
    }
   ],
   "source": [
    "ds.useful_syntax()"
   ]
  }
 ],
 "metadata": {
  "kernelspec": {
   "display_name": "jupbook",
   "language": "python",
   "name": "python3"
  },
  "language_info": {
   "codemirror_mode": {
    "name": "ipython",
    "version": 3
   },
   "file_extension": ".py",
   "mimetype": "text/x-python",
   "name": "python",
   "nbconvert_exporter": "python",
   "pygments_lexer": "ipython3",
   "version": "3.12.7"
  }
 },
 "nbformat": 4,
 "nbformat_minor": 5
}
