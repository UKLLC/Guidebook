{
 "cells": [
  {
   "cell_type": "markdown",
   "id": "a0b6b3f0",
   "metadata": {},
   "source": [
    "# COVID-19 Survey Wave 3 (NCDS58)"
   ]
  },
  {
   "cell_type": "code",
   "execution_count": 1,
   "id": "16357484",
   "metadata": {
    "execution": {
     "iopub.execute_input": "2025-07-28T19:46:17.720228Z",
     "iopub.status.busy": "2025-07-28T19:46:17.720228Z",
     "iopub.status.idle": "2025-07-28T19:46:30.271472Z",
     "shell.execute_reply": "2025-07-28T19:46:30.269457Z"
    },
    "tags": [
     "remove-input"
    ]
   },
   "outputs": [
    {
     "data": {
      "text/markdown": [
       ">Last modified: 28 Jul 2025"
      ],
      "text/plain": [
       "<IPython.core.display.Markdown object>"
      ]
     },
     "metadata": {},
     "output_type": "display_data"
    }
   ],
   "source": [
    "\n",
    "import sys\n",
    "import os\n",
    "sys.path.append(os.path.abspath('../../../../scripts/'))\n",
    "from data_doc_helper import LPSDataSet as DS, last_modified\n",
    "API_KEY = os.environ['FASTAPI_KEY']\n",
    "ds = DS(\"NCDS58\", \"COVID_w3\")\n",
    "last_modified()\n"
   ]
  },
  {
   "cell_type": "markdown",
   "id": "7c7ee717",
   "metadata": {},
   "source": [
    "## 1. Summary"
   ]
  },
  {
   "cell_type": "code",
   "execution_count": 2,
   "id": "b698975f",
   "metadata": {
    "execution": {
     "iopub.execute_input": "2025-07-28T19:46:30.281210Z",
     "iopub.status.busy": "2025-07-28T19:46:30.280211Z",
     "iopub.status.idle": "2025-07-28T19:46:30.295579Z",
     "shell.execute_reply": "2025-07-28T19:46:30.293911Z"
    },
    "tags": [
     "remove-input"
    ]
   },
   "outputs": [
    {
     "data": {
      "text/markdown": [
       "An online questionnaire sent to all participants. Questions cover topics of wellbeing during the first wave of the pandemic, including the impact of COVID on participants’ mental health, work and family life. This dataset aimed to assess the continued impact of the pandemic and included additional questions on income during covid"
      ],
      "text/plain": [
       "<IPython.core.display.Markdown object>"
      ]
     },
     "metadata": {},
     "output_type": "display_data"
    }
   ],
   "source": [
    "ds.summary()"
   ]
  },
  {
   "cell_type": "code",
   "execution_count": 3,
   "id": "d0e69a2c",
   "metadata": {
    "execution": {
     "iopub.execute_input": "2025-07-28T19:46:30.302580Z",
     "iopub.status.busy": "2025-07-28T19:46:30.302580Z",
     "iopub.status.idle": "2025-07-28T19:46:32.636053Z",
     "shell.execute_reply": "2025-07-28T19:46:32.636053Z"
    },
    "tags": [
     "remove-input"
    ]
   },
   "outputs": [
    {
     "data": {
      "text/html": [
       "<style type=\"text/css\">\n",
       "#T_4d8d9 th {\n",
       "  text-align: left;\n",
       "}\n",
       "#T_4d8d9_row0_col0, #T_4d8d9_row0_col1, #T_4d8d9_row1_col0, #T_4d8d9_row1_col1, #T_4d8d9_row2_col0, #T_4d8d9_row2_col1, #T_4d8d9_row3_col0, #T_4d8d9_row3_col1, #T_4d8d9_row4_col0, #T_4d8d9_row4_col1, #T_4d8d9_row5_col0, #T_4d8d9_row5_col1, #T_4d8d9_row6_col0, #T_4d8d9_row6_col1, #T_4d8d9_row7_col0, #T_4d8d9_row7_col1, #T_4d8d9_row8_col0, #T_4d8d9_row8_col1, #T_4d8d9_row9_col0, #T_4d8d9_row9_col1, #T_4d8d9_row10_col0, #T_4d8d9_row10_col1, #T_4d8d9_row11_col0, #T_4d8d9_row11_col1, #T_4d8d9_row12_col0, #T_4d8d9_row12_col1 {\n",
       "  text-align: left;\n",
       "}\n",
       "</style>\n",
       "<table id=\"T_4d8d9\" style=\"font-size: 14px\">\n",
       "  <thead>\n",
       "    <tr>\n",
       "      <th id=\"T_4d8d9_level0_col0\" class=\"col_heading level0 col0\" >Dataset Descriptor</th>\n",
       "      <th id=\"T_4d8d9_level0_col1\" class=\"col_heading level0 col1\" >Dataset-specific Information</th>\n",
       "    </tr>\n",
       "  </thead>\n",
       "  <tbody>\n",
       "    <tr>\n",
       "      <td id=\"T_4d8d9_row0_col0\" class=\"data row0 col0\" >Name of Dataset in TRE</td>\n",
       "      <td id=\"T_4d8d9_row0_col1\" class=\"data row0 col1\" >NCDS58_COVID_w3</td>\n",
       "    </tr>\n",
       "    <tr>\n",
       "      <td id=\"T_4d8d9_row1_col0\" class=\"data row1 col0\" >Citation (APA)</td>\n",
       "      <td id=\"T_4d8d9_row1_col1\" class=\"data row1 col1\" >University College London, UCL Social Research Institute, Centre for Longitudinal Studies. (2021). <i>1958 National Child Development Study (NCDS): COVID-19 Survey Wave 3.</i> UK Longitudinal Linkage Collaboration (UK LLC).  <a href=\"https://doi.org/10.71760/ukllc-dataset-00235-01\" rel=\"noopener noreferrer\" target=\"_blank\">https://doi.org/10.71760/ukllc-dataset-00235-01</a></td>\n",
       "    </tr>\n",
       "    <tr>\n",
       "      <td id=\"T_4d8d9_row2_col0\" class=\"data row2 col0\" >Download Citation</td>\n",
       "      <td id=\"T_4d8d9_row2_col1\" class=\"data row2 col1\" > <a href=\"https://api.datacite.org/application/vnd.citationstyles.csl+json/10.71760/ukllc-dataset-00235-01\" rel=\"noopener noreferrer\" target=\"_blank\">Citeproc JSON</a>&nbsp;&nbsp;&nbsp;&nbsp; <a href=\"https://api.datacite.org/application/x-bibtex/10.71760/ukllc-dataset-00235-01\" rel=\"noopener noreferrer\" target=\"_blank\">BibTeX</a>&nbsp;&nbsp;&nbsp;&nbsp; <a href=\"https://api.datacite.org/application/x-research-info-systems/10.71760/ukllc-dataset-00235-01\" rel=\"noopener noreferrer\" target=\"_blank\">RIS</a></td>\n",
       "    </tr>\n",
       "    <tr>\n",
       "      <td id=\"T_4d8d9_row3_col0\" class=\"data row3 col0\" >Series</td>\n",
       "      <td id=\"T_4d8d9_row3_col1\" class=\"data row3 col1\" > <a href=\"https://guidebook.ukllc.ac.uk/docs/lps_data/lps%20profiles/NCDS58\">1958 National Child Development Study (NCDS)</a></td>\n",
       "    </tr>\n",
       "    <tr>\n",
       "      <td id=\"T_4d8d9_row4_col0\" class=\"data row4 col0\" >Owner</td>\n",
       "      <td id=\"T_4d8d9_row4_col1\" class=\"data row4 col1\" >UCL</td>\n",
       "    </tr>\n",
       "    <tr>\n",
       "      <td id=\"T_4d8d9_row5_col0\" class=\"data row5 col0\" >Temporal Coverage</td>\n",
       "      <td id=\"T_4d8d9_row5_col1\" class=\"data row5 col1\" >02/2021 - 03/2021</td>\n",
       "    </tr>\n",
       "    <tr>\n",
       "      <td id=\"T_4d8d9_row6_col0\" class=\"data row6 col0\" >Keywords</td>\n",
       "      <td id=\"T_4d8d9_row6_col1\" class=\"data row6 col1\" >COVIDW3,Education,Employment,Income,Household,Mental Health</td>\n",
       "    </tr>\n",
       "    <tr>\n",
       "      <td id=\"T_4d8d9_row7_col0\" class=\"data row7 col0\" >Participants Invited</td>\n",
       "      <td id=\"T_4d8d9_row7_col1\" class=\"data row7 col1\" >6809</td>\n",
       "    </tr>\n",
       "    <tr>\n",
       "      <td id=\"T_4d8d9_row8_col0\" class=\"data row8 col0\" >Participant Count</td>\n",
       "      <td id=\"T_4d8d9_row8_col1\" class=\"data row8 col1\" >6205</td>\n",
       "    </tr>\n",
       "    <tr>\n",
       "      <td id=\"T_4d8d9_row9_col0\" class=\"data row9 col0\" >Number of variables</td>\n",
       "      <td id=\"T_4d8d9_row9_col1\" class=\"data row9 col1\" >826</td>\n",
       "    </tr>\n",
       "    <tr>\n",
       "      <td id=\"T_4d8d9_row10_col0\" class=\"data row10 col0\" >Number of observations</td>\n",
       "      <td id=\"T_4d8d9_row10_col1\" class=\"data row10 col1\" >6809</td>\n",
       "    </tr>\n",
       "    <tr>\n",
       "      <td id=\"T_4d8d9_row11_col0\" class=\"data row11 col0\" >Specific Restrictions to Data Use</td>\n",
       "      <td id=\"T_4d8d9_row11_col1\" class=\"data row11 col1\" >None</td>\n",
       "    </tr>\n",
       "    <tr>\n",
       "      <td id=\"T_4d8d9_row12_col0\" class=\"data row12 col0\" >Build a Data Request</td>\n",
       "      <td id=\"T_4d8d9_row12_col1\" class=\"data row12 col1\" > <a href=\"https://explore.ukllc.ac.uk/\" rel=\"noopener noreferrer\" target=\"_blank\">https://explore.ukllc.ac.uk/</a></td>\n",
       "    </tr>\n",
       "  </tbody>\n",
       "</table>\n"
      ],
      "text/plain": [
       "<pandas.io.formats.style.Styler at 0x1ee97be9880>"
      ]
     },
     "execution_count": 3,
     "metadata": {},
     "output_type": "execute_result"
    }
   ],
   "source": [
    "ds.info_table()"
   ]
  },
  {
   "cell_type": "markdown",
   "id": "48583e35",
   "metadata": {},
   "source": [
    "## 2. Version History"
   ]
  },
  {
   "cell_type": "code",
   "execution_count": 4,
   "id": "f9b69809",
   "metadata": {
    "execution": {
     "iopub.execute_input": "2025-07-28T19:46:32.643574Z",
     "iopub.status.busy": "2025-07-28T19:46:32.642212Z",
     "iopub.status.idle": "2025-07-28T19:46:38.110977Z",
     "shell.execute_reply": "2025-07-28T19:46:38.109943Z"
    },
    "tags": [
     "remove-input"
    ]
   },
   "outputs": [
    {
     "data": {
      "text/html": [
       "<style type=\"text/css\">\n",
       "#T_5618b th {\n",
       "  text-align: left;\n",
       "}\n",
       "#T_5618b_row0_col0, #T_5618b_row0_col1, #T_5618b_row1_col0, #T_5618b_row1_col1, #T_5618b_row2_col0, #T_5618b_row2_col1, #T_5618b_row3_col0, #T_5618b_row3_col1, #T_5618b_row4_col0, #T_5618b_row4_col1 {\n",
       "  text-align: left;\n",
       "}\n",
       "</style>\n",
       "<table id=\"T_5618b\" style=\"font-size: 14px\">\n",
       "  <thead>\n",
       "    <tr>\n",
       "      <th id=\"T_5618b_level0_col0\" class=\"col_heading level0 col0\" >Version</th>\n",
       "      <th id=\"T_5618b_level0_col1\" class=\"col_heading level0 col1\" >1</th>\n",
       "    </tr>\n",
       "  </thead>\n",
       "  <tbody>\n",
       "    <tr>\n",
       "      <td id=\"T_5618b_row0_col0\" class=\"data row0 col0\" >Version Date</td>\n",
       "      <td id=\"T_5618b_row0_col1\" class=\"data row0 col1\" >01 Nov 2021</td>\n",
       "    </tr>\n",
       "    <tr>\n",
       "      <td id=\"T_5618b_row1_col0\" class=\"data row1 col0\" >Number of Variables</td>\n",
       "      <td id=\"T_5618b_row1_col1\" class=\"data row1 col1\" >4132</td>\n",
       "    </tr>\n",
       "    <tr>\n",
       "      <td id=\"T_5618b_row2_col0\" class=\"data row2 col0\" >Number of Observations</td>\n",
       "      <td id=\"T_5618b_row2_col1\" class=\"data row2 col1\" >6809</td>\n",
       "    </tr>\n",
       "    <tr>\n",
       "      <td id=\"T_5618b_row3_col0\" class=\"data row3 col0\" >DOI</td>\n",
       "      <td id=\"T_5618b_row3_col1\" class=\"data row3 col1\" > <a href=\"https://doi.org/10.71760/ukllc-dataset-00235-01\" rel=\"noopener noreferrer\" target=\"_blank\">10.71760/ukllc-dataset-00235-01</a></td>\n",
       "    </tr>\n",
       "    <tr>\n",
       "      <td id=\"T_5618b_row4_col0\" class=\"data row4 col0\" >Change Log</td>\n",
       "      <td id=\"T_5618b_row4_col1\" class=\"data row4 col1\" > <a href=\"https://api.test.datacite.org/dois/10.71760/ukllc-dataset-00235-01/activities\" rel=\"noopener noreferrer\" target=\"_blank\">10.71760/ukllc-dataset-00235-01/activities</a></td>\n",
       "    </tr>\n",
       "  </tbody>\n",
       "</table>\n"
      ],
      "text/plain": [
       "<pandas.io.formats.style.Styler at 0x1ee97b064b0>"
      ]
     },
     "execution_count": 4,
     "metadata": {},
     "output_type": "execute_result"
    }
   ],
   "source": [
    "ds.version_history()"
   ]
  },
  {
   "cell_type": "markdown",
   "id": "8c28ad69",
   "metadata": {},
   "source": [
    "## 3. Documentation"
   ]
  },
  {
   "cell_type": "code",
   "execution_count": 5,
   "id": "b018588b",
   "metadata": {
    "execution": {
     "iopub.execute_input": "2025-07-28T19:46:38.116923Z",
     "iopub.status.busy": "2025-07-28T19:46:38.115913Z",
     "iopub.status.idle": "2025-07-28T19:46:38.134920Z",
     "shell.execute_reply": "2025-07-28T19:46:38.132901Z"
    },
    "tags": [
     "remove-input"
    ]
   },
   "outputs": [
    {
     "data": {
      "text/markdown": [
       "We are currently building a documentation storage system which will host useful documents related to datasets and data owners. We will surface these documents on Guidebook."
      ],
      "text/plain": [
       "<IPython.core.display.Markdown object>"
      ]
     },
     "metadata": {},
     "output_type": "display_data"
    }
   ],
   "source": [
    "ds.documentation()"
   ]
  },
  {
   "cell_type": "markdown",
   "id": "650f6830",
   "metadata": {},
   "source": [
    "## 4. Useful Syntax"
   ]
  },
  {
   "cell_type": "code",
   "execution_count": 6,
   "id": "87161631",
   "metadata": {
    "execution": {
     "iopub.execute_input": "2025-07-28T19:46:38.147920Z",
     "iopub.status.busy": "2025-07-28T19:46:38.146924Z",
     "iopub.status.idle": "2025-07-28T19:46:38.157966Z",
     "shell.execute_reply": "2025-07-28T19:46:38.156947Z"
    },
    "tags": [
     "remove-input"
    ]
   },
   "outputs": [
    {
     "data": {
      "text/markdown": [
       "Below we will include syntax that may be helpful to other researchers in the UK LLC TRE. For longer scripts, we will include a snippet of the code plus a link to Git where you can find the full scripts."
      ],
      "text/plain": [
       "<IPython.core.display.Markdown object>"
      ]
     },
     "metadata": {},
     "output_type": "display_data"
    }
   ],
   "source": [
    "ds.useful_syntax()"
   ]
  }
 ],
 "metadata": {
  "kernelspec": {
   "display_name": "jupbook",
   "language": "python",
   "name": "python3"
  },
  "language_info": {
   "codemirror_mode": {
    "name": "ipython",
    "version": 3
   },
   "file_extension": ".py",
   "mimetype": "text/x-python",
   "name": "python",
   "nbconvert_exporter": "python",
   "pygments_lexer": "ipython3",
   "version": "3.12.7"
  }
 },
 "nbformat": 4,
 "nbformat_minor": 5
}
