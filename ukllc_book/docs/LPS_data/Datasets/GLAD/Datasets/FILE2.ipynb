{
 "cells": [
  {
   "cell_type": "markdown",
   "id": "33b36764",
   "metadata": {},
   "source": [
    "# File2 (GLAD)"
   ]
  },
  {
   "cell_type": "code",
   "execution_count": 1,
   "id": "2d213c95",
   "metadata": {
    "execution": {
     "iopub.execute_input": "2025-07-18T07:51:24.440252Z",
     "iopub.status.busy": "2025-07-18T07:51:24.439033Z",
     "iopub.status.idle": "2025-07-18T07:51:31.908822Z",
     "shell.execute_reply": "2025-07-18T07:51:31.907812Z"
    },
    "tags": [
     "remove-input"
    ]
   },
   "outputs": [
    {
     "data": {
      "text/markdown": [
       ">Last modified: 18 Jul 2025"
      ],
      "text/plain": [
       "<IPython.core.display.Markdown object>"
      ]
     },
     "metadata": {},
     "output_type": "display_data"
    }
   ],
   "source": [
    "\n",
    "import sys\n",
    "import os\n",
    "sys.path.append(os.path.abspath('../../../../scripts/'))\n",
    "from data_doc_helper import LPSDataSet as DS, last_modified\n",
    "API_KEY = os.environ['FASTAPI_KEY']\n",
    "ds = DS(\"GLAD\", \"FILE2\")\n",
    "last_modified()\n"
   ]
  },
  {
   "cell_type": "markdown",
   "id": "bd3dc3d3",
   "metadata": {},
   "source": [
    "## 1. Summary"
   ]
  },
  {
   "cell_type": "code",
   "execution_count": 2,
   "id": "26800a0a",
   "metadata": {
    "execution": {
     "iopub.execute_input": "2025-07-18T07:51:31.914552Z",
     "iopub.status.busy": "2025-07-18T07:51:31.914552Z",
     "iopub.status.idle": "2025-07-18T07:51:31.922263Z",
     "shell.execute_reply": "2025-07-18T07:51:31.921254Z"
    },
    "tags": [
     "remove-input"
    ]
   },
   "outputs": [
    {
     "data": {
      "text/markdown": [
       "All participants in cohort were sent a baseline questionnaire to complete, followed by followup questionnaires online. The questions covered topics of wellbeing before the pandemic and how it changed as well as the impact of COVID on their mental health, work, and family life. The data covers prepandemic, baseline, and retrospective data from GLAD participants taking part in the COPING study."
      ],
      "text/plain": [
       "<IPython.core.display.Markdown object>"
      ]
     },
     "metadata": {},
     "output_type": "display_data"
    }
   ],
   "source": [
    "ds.summary()"
   ]
  },
  {
   "cell_type": "code",
   "execution_count": 3,
   "id": "3c7b508e",
   "metadata": {
    "execution": {
     "iopub.execute_input": "2025-07-18T07:51:31.927136Z",
     "iopub.status.busy": "2025-07-18T07:51:31.926115Z",
     "iopub.status.idle": "2025-07-18T07:51:33.175795Z",
     "shell.execute_reply": "2025-07-18T07:51:33.173322Z"
    },
    "tags": [
     "remove-input"
    ]
   },
   "outputs": [
    {
     "data": {
      "text/html": [
       "<style type=\"text/css\">\n",
       "#T_b83d2 th {\n",
       "  text-align: left;\n",
       "}\n",
       "#T_b83d2_row0_col0, #T_b83d2_row0_col1, #T_b83d2_row1_col0, #T_b83d2_row1_col1, #T_b83d2_row2_col0, #T_b83d2_row2_col1, #T_b83d2_row3_col0, #T_b83d2_row3_col1, #T_b83d2_row4_col0, #T_b83d2_row4_col1, #T_b83d2_row5_col0, #T_b83d2_row5_col1, #T_b83d2_row6_col0, #T_b83d2_row6_col1, #T_b83d2_row7_col0, #T_b83d2_row7_col1, #T_b83d2_row8_col0, #T_b83d2_row8_col1, #T_b83d2_row9_col0, #T_b83d2_row9_col1, #T_b83d2_row10_col0, #T_b83d2_row10_col1, #T_b83d2_row11_col0, #T_b83d2_row11_col1, #T_b83d2_row12_col0, #T_b83d2_row12_col1 {\n",
       "  text-align: left;\n",
       "}\n",
       "</style>\n",
       "<table id=\"T_b83d2\" style=\"font-size: 14px\">\n",
       "  <thead>\n",
       "    <tr>\n",
       "      <th id=\"T_b83d2_level0_col0\" class=\"col_heading level0 col0\" >Dataset Descriptor</th>\n",
       "      <th id=\"T_b83d2_level0_col1\" class=\"col_heading level0 col1\" >Dataset-specific Information</th>\n",
       "    </tr>\n",
       "  </thead>\n",
       "  <tbody>\n",
       "    <tr>\n",
       "      <td id=\"T_b83d2_row0_col0\" class=\"data row0 col0\" >Name of Dataset in TRE</td>\n",
       "      <td id=\"T_b83d2_row0_col1\" class=\"data row0 col1\" >GLAD_FILE2</td>\n",
       "    </tr>\n",
       "    <tr>\n",
       "      <td id=\"T_b83d2_row1_col0\" class=\"data row1 col0\" >Citation (APA)</td>\n",
       "      <td id=\"T_b83d2_row1_col1\" class=\"data row1 col1\" >King's College London, Institute of Psychiatry, Psychology & Neuroscience, Social, Genetic & Developmental Psychiatry Centre. (2023). <i>Genetic Links to Anxiety and Depression (GLAD) Study: File2.</i> UK Longitudinal Linkage Collaboration (UK LLC).  <a href=\"https://doi.org/10.83126/ukllc-dataset-00227-02\" rel=\"noopener noreferrer\" target=\"_blank\">https://doi.org/10.83126/ukllc-dataset-00227-02</a></td>\n",
       "    </tr>\n",
       "    <tr>\n",
       "      <td id=\"T_b83d2_row2_col0\" class=\"data row2 col0\" >Download Citation</td>\n",
       "      <td id=\"T_b83d2_row2_col1\" class=\"data row2 col1\" > <a href=\"https://api.test.datacite.org/application/vnd.citationstyles.csl+json/10.83126/ukllc-dataset-00227-02\" rel=\"noopener noreferrer\" target=\"_blank\">Citeproc JSON</a>&nbsp;&nbsp;&nbsp;&nbsp; <a href=\"https://api.test.datacite.org/application/x-bibtex/10.83126/ukllc-dataset-00227-02\" rel=\"noopener noreferrer\" target=\"_blank\">BibTeX</a>&nbsp;&nbsp;&nbsp;&nbsp; <a href=\"https://api.test.datacite.org/application/x-research-info-systems/10.83126/ukllc-dataset-00227-02\" rel=\"noopener noreferrer\" target=\"_blank\">RIS</a></td>\n",
       "    </tr>\n",
       "    <tr>\n",
       "      <td id=\"T_b83d2_row3_col0\" class=\"data row3 col0\" >Series</td>\n",
       "      <td id=\"T_b83d2_row3_col1\" class=\"data row3 col1\" > <a href=\"https://guidebook.ukllc.ac.uk/docs/lps/lps%20profiles/GLAD\">Genetic Links to Anxiety and Depression (GLAD) Study</a></td>\n",
       "    </tr>\n",
       "    <tr>\n",
       "      <td id=\"T_b83d2_row4_col0\" class=\"data row4 col0\" >Owner</td>\n",
       "      <td id=\"T_b83d2_row4_col1\" class=\"data row4 col1\" >King's College London</td>\n",
       "    </tr>\n",
       "    <tr>\n",
       "      <td id=\"T_b83d2_row5_col0\" class=\"data row5 col0\" >Temporal Coverage</td>\n",
       "      <td id=\"T_b83d2_row5_col1\" class=\"data row5 col1\" >09/2018 - 05/2021</td>\n",
       "    </tr>\n",
       "    <tr>\n",
       "      <td id=\"T_b83d2_row6_col0\" class=\"data row6 col0\" >Keywords</td>\n",
       "      <td id=\"T_b83d2_row6_col1\" class=\"data row6 col1\" ></td>\n",
       "    </tr>\n",
       "    <tr>\n",
       "      <td id=\"T_b83d2_row7_col0\" class=\"data row7 col0\" >Participants Invited</td>\n",
       "      <td id=\"T_b83d2_row7_col1\" class=\"data row7 col1\" >41256</td>\n",
       "    </tr>\n",
       "    <tr>\n",
       "      <td id=\"T_b83d2_row8_col0\" class=\"data row8 col0\" >Participant Count</td>\n",
       "      <td id=\"T_b83d2_row8_col1\" class=\"data row8 col1\" >41034</td>\n",
       "    </tr>\n",
       "    <tr>\n",
       "      <td id=\"T_b83d2_row9_col0\" class=\"data row9 col0\" >Number of variables</td>\n",
       "      <td id=\"T_b83d2_row9_col1\" class=\"data row9 col1\" >404</td>\n",
       "    </tr>\n",
       "    <tr>\n",
       "      <td id=\"T_b83d2_row10_col0\" class=\"data row10 col0\" >Number of observations</td>\n",
       "      <td id=\"T_b83d2_row10_col1\" class=\"data row10 col1\" >40816</td>\n",
       "    </tr>\n",
       "    <tr>\n",
       "      <td id=\"T_b83d2_row11_col0\" class=\"data row11 col0\" >Specific Restrictions to Data Use</td>\n",
       "      <td id=\"T_b83d2_row11_col1\" class=\"data row11 col1\" >None</td>\n",
       "    </tr>\n",
       "    <tr>\n",
       "      <td id=\"T_b83d2_row12_col0\" class=\"data row12 col0\" >Build a Data Request</td>\n",
       "      <td id=\"T_b83d2_row12_col1\" class=\"data row12 col1\" > <a href=\"https://explore.ukllc.ac.uk/\" rel=\"noopener noreferrer\" target=\"_blank\">https://explore.ukllc.ac.uk/</a></td>\n",
       "    </tr>\n",
       "  </tbody>\n",
       "</table>\n"
      ],
      "text/plain": [
       "<pandas.io.formats.style.Styler at 0x240dd488c50>"
      ]
     },
     "execution_count": 3,
     "metadata": {},
     "output_type": "execute_result"
    }
   ],
   "source": [
    "ds.info_table()"
   ]
  },
  {
   "cell_type": "markdown",
   "id": "d2f97c25",
   "metadata": {},
   "source": [
    "## 2. Version History"
   ]
  },
  {
   "cell_type": "code",
   "execution_count": 4,
   "id": "337be815",
   "metadata": {
    "execution": {
     "iopub.execute_input": "2025-07-18T07:51:33.180703Z",
     "iopub.status.busy": "2025-07-18T07:51:33.180703Z",
     "iopub.status.idle": "2025-07-18T07:51:36.136040Z",
     "shell.execute_reply": "2025-07-18T07:51:36.134990Z"
    },
    "tags": [
     "remove-input"
    ]
   },
   "outputs": [
    {
     "data": {
      "text/html": [
       "<style type=\"text/css\">\n",
       "#T_c59d5 th {\n",
       "  text-align: left;\n",
       "}\n",
       "#T_c59d5_row0_col0, #T_c59d5_row0_col1, #T_c59d5_row0_col2, #T_c59d5_row1_col0, #T_c59d5_row1_col1, #T_c59d5_row1_col2, #T_c59d5_row2_col0, #T_c59d5_row2_col1, #T_c59d5_row2_col2, #T_c59d5_row3_col0, #T_c59d5_row3_col1, #T_c59d5_row3_col2, #T_c59d5_row4_col0, #T_c59d5_row4_col1, #T_c59d5_row4_col2 {\n",
       "  text-align: left;\n",
       "}\n",
       "</style>\n",
       "<table id=\"T_c59d5\" style=\"font-size: 14px\">\n",
       "  <thead>\n",
       "    <tr>\n",
       "      <th id=\"T_c59d5_level0_col0\" class=\"col_heading level0 col0\" >Version</th>\n",
       "      <th id=\"T_c59d5_level0_col1\" class=\"col_heading level0 col1\" >1</th>\n",
       "      <th id=\"T_c59d5_level0_col2\" class=\"col_heading level0 col2\" >2</th>\n",
       "    </tr>\n",
       "  </thead>\n",
       "  <tbody>\n",
       "    <tr>\n",
       "      <td id=\"T_c59d5_row0_col0\" class=\"data row0 col0\" >Version Date</td>\n",
       "      <td id=\"T_c59d5_row0_col1\" class=\"data row0 col1\" >01 Nov 2021</td>\n",
       "      <td id=\"T_c59d5_row0_col2\" class=\"data row0 col2\" >07 Nov 2023</td>\n",
       "    </tr>\n",
       "    <tr>\n",
       "      <td id=\"T_c59d5_row1_col0\" class=\"data row1 col0\" >Number of Variables</td>\n",
       "      <td id=\"T_c59d5_row1_col1\" class=\"data row1 col1\" >351</td>\n",
       "      <td id=\"T_c59d5_row1_col2\" class=\"data row1 col2\" >400</td>\n",
       "    </tr>\n",
       "    <tr>\n",
       "      <td id=\"T_c59d5_row2_col0\" class=\"data row2 col0\" >Number of Observations</td>\n",
       "      <td id=\"T_c59d5_row2_col1\" class=\"data row2 col1\" >41043</td>\n",
       "      <td id=\"T_c59d5_row2_col2\" class=\"data row2 col2\" >40816</td>\n",
       "    </tr>\n",
       "    <tr>\n",
       "      <td id=\"T_c59d5_row3_col0\" class=\"data row3 col0\" >DOI</td>\n",
       "      <td id=\"T_c59d5_row3_col1\" class=\"data row3 col1\" > <a href=\"https://doi.org/10.83126/ukllc-dataset-00227-01\" rel=\"noopener noreferrer\" target=\"_blank\">10.83126/ukllc-dataset-00227-01</a></td>\n",
       "      <td id=\"T_c59d5_row3_col2\" class=\"data row3 col2\" > <a href=\"https://doi.org/10.83126/ukllc-dataset-00227-02\" rel=\"noopener noreferrer\" target=\"_blank\">10.83126/ukllc-dataset-00227-02</a></td>\n",
       "    </tr>\n",
       "    <tr>\n",
       "      <td id=\"T_c59d5_row4_col0\" class=\"data row4 col0\" >Change Log</td>\n",
       "      <td id=\"T_c59d5_row4_col1\" class=\"data row4 col1\" > <a href=\"https://api.test.datacite.org/dois/10.83126/ukllc-dataset-00227-01/activities\" rel=\"noopener noreferrer\" target=\"_blank\">10.83126/ukllc-dataset-00227-01/activities</a></td>\n",
       "      <td id=\"T_c59d5_row4_col2\" class=\"data row4 col2\" > <a href=\"https://api.test.datacite.org/dois/10.83126/ukllc-dataset-00227-02/activities\" rel=\"noopener noreferrer\" target=\"_blank\">10.83126/ukllc-dataset-00227-02/activities</a></td>\n",
       "    </tr>\n",
       "  </tbody>\n",
       "</table>\n"
      ],
      "text/plain": [
       "<pandas.io.formats.style.Styler at 0x240df060e90>"
      ]
     },
     "execution_count": 4,
     "metadata": {},
     "output_type": "execute_result"
    }
   ],
   "source": [
    "ds.version_history()"
   ]
  },
  {
   "cell_type": "markdown",
   "id": "e36c3ea2",
   "metadata": {},
   "source": [
    "## 3. Documentation"
   ]
  },
  {
   "cell_type": "code",
   "execution_count": 5,
   "id": "0ef70918",
   "metadata": {
    "execution": {
     "iopub.execute_input": "2025-07-18T07:51:36.141010Z",
     "iopub.status.busy": "2025-07-18T07:51:36.141010Z",
     "iopub.status.idle": "2025-07-18T07:51:36.147897Z",
     "shell.execute_reply": "2025-07-18T07:51:36.146886Z"
    },
    "tags": [
     "remove-input"
    ]
   },
   "outputs": [
    {
     "data": {
      "text/markdown": [
       "We are currently building a documentation storage system which will host useful documents related to datasets and data owners. We will surface these documents on Guidebook."
      ],
      "text/plain": [
       "<IPython.core.display.Markdown object>"
      ]
     },
     "metadata": {},
     "output_type": "display_data"
    }
   ],
   "source": [
    "ds.documentation()"
   ]
  },
  {
   "cell_type": "markdown",
   "id": "9b1a1c4e",
   "metadata": {},
   "source": [
    "## 4. Useful Syntax"
   ]
  },
  {
   "cell_type": "code",
   "execution_count": 6,
   "id": "ecd96a1f",
   "metadata": {
    "execution": {
     "iopub.execute_input": "2025-07-18T07:51:36.153076Z",
     "iopub.status.busy": "2025-07-18T07:51:36.151757Z",
     "iopub.status.idle": "2025-07-18T07:51:36.158073Z",
     "shell.execute_reply": "2025-07-18T07:51:36.158073Z"
    },
    "tags": [
     "remove-input"
    ]
   },
   "outputs": [
    {
     "data": {
      "text/markdown": [
       "Below we will include syntax that may be helpful to other researchers in the UK LLC TRE. For longer scripts, we will include a snippet of the code plus a link to Git where you can find the full scripts."
      ],
      "text/plain": [
       "<IPython.core.display.Markdown object>"
      ]
     },
     "metadata": {},
     "output_type": "display_data"
    }
   ],
   "source": [
    "ds.useful_syntax()"
   ]
  }
 ],
 "metadata": {
  "language_info": {
   "codemirror_mode": {
    "name": "ipython",
    "version": 3
   },
   "file_extension": ".py",
   "mimetype": "text/x-python",
   "name": "python",
   "nbconvert_exporter": "python",
   "pygments_lexer": "ipython3",
   "version": "3.12.7"
  }
 },
 "nbformat": 4,
 "nbformat_minor": 5
}
