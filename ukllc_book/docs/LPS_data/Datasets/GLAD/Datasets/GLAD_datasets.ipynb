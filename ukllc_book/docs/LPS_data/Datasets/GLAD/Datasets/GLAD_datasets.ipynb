{
 "cells": [
  {
   "cell_type": "markdown",
   "id": "354eda9d",
   "metadata": {},
   "source": [
    "# Genetic Links to Anxiety and Depression (GLAD) Study Datasets"
   ]
  },
  {
   "cell_type": "code",
   "execution_count": 1,
   "id": "577d1a36",
   "metadata": {
    "execution": {
     "iopub.execute_input": "2025-07-28T19:08:02.445511Z",
     "iopub.status.busy": "2025-07-28T19:08:02.444511Z",
     "iopub.status.idle": "2025-07-28T19:08:06.681333Z",
     "shell.execute_reply": "2025-07-28T19:08:06.678295Z"
    },
    "tags": [
     "remove-input"
    ]
   },
   "outputs": [
    {
     "data": {
      "text/markdown": [
       ">Last modified: 28 Jul 2025"
      ],
      "text/plain": [
       "<IPython.core.display.Markdown object>"
      ]
     },
     "metadata": {},
     "output_type": "display_data"
    }
   ],
   "source": [
    "\n",
    "import sys\n",
    "import os\n",
    "sys.path.append(os.path.abspath('../../../../scripts/'))\n",
    "from data_doc_helper import LPSSource as SS, last_modified\n",
    "API_KEY = os.environ['FASTAPI_KEY']\n",
    "ss = SS(\"GLAD\")\n",
    "last_modified()\n"
   ]
  },
  {
   "cell_type": "markdown",
   "id": "8e5022ed",
   "metadata": {},
   "source": [
    "## 1. Datasets"
   ]
  },
  {
   "cell_type": "code",
   "execution_count": 2,
   "id": "dc39c1ef",
   "metadata": {
    "execution": {
     "iopub.execute_input": "2025-07-28T19:08:06.693334Z",
     "iopub.status.busy": "2025-07-28T19:08:06.692335Z",
     "iopub.status.idle": "2025-07-28T19:08:06.713389Z",
     "shell.execute_reply": "2025-07-28T19:08:06.712872Z"
    },
    "tags": [
     "remove-input"
    ]
   },
   "outputs": [
    {
     "data": {
      "text/markdown": [
       "**Table 1:** Datasets and metrics in the UK LLC belonging to GLAD."
      ],
      "text/plain": [
       "<IPython.core.display.Markdown object>"
      ]
     },
     "metadata": {},
     "output_type": "display_data"
    }
   ],
   "source": [
    "ss.table_caption_ds()"
   ]
  },
  {
   "cell_type": "code",
   "execution_count": 3,
   "id": "94c30f22",
   "metadata": {
    "execution": {
     "iopub.execute_input": "2025-07-28T19:08:06.722673Z",
     "iopub.status.busy": "2025-07-28T19:08:06.721672Z",
     "iopub.status.idle": "2025-07-28T19:08:09.060937Z",
     "shell.execute_reply": "2025-07-28T19:08:09.058928Z"
    },
    "tags": [
     "remove-input",
     "hide-cell"
    ]
   },
   "outputs": [
    {
     "data": {
      "text/html": [
       "<style type=\"text/css\">\n",
       "#T_dcb14 th {\n",
       "  text-align: left;\n",
       "}\n",
       "#T_dcb14_row0_col0, #T_dcb14_row0_col1, #T_dcb14_row0_col2, #T_dcb14_row0_col3, #T_dcb14_row0_col4 {\n",
       "  text-align: left;\n",
       "}\n",
       "</style>\n",
       "<table id=\"T_dcb14\" style=\"font-size: 14px\">\n",
       "  <thead>\n",
       "    <tr>\n",
       "      <th id=\"T_dcb14_level0_col0\" class=\"col_heading level0 col0\" >Dataset</th>\n",
       "      <th id=\"T_dcb14_level0_col1\" class=\"col_heading level0 col1\" >Dataset Name</th>\n",
       "      <th id=\"T_dcb14_level0_col2\" class=\"col_heading level0 col2\" ># Participants</th>\n",
       "      <th id=\"T_dcb14_level0_col3\" class=\"col_heading level0 col3\" ># Observations</th>\n",
       "      <th id=\"T_dcb14_level0_col4\" class=\"col_heading level0 col4\" ># Variables</th>\n",
       "    </tr>\n",
       "  </thead>\n",
       "  <tbody>\n",
       "    <tr>\n",
       "      <td id=\"T_dcb14_row0_col0\" class=\"data row0 col0\" > <a href=\"FILE2.html\">FILE2</a></td>\n",
       "      <td id=\"T_dcb14_row0_col1\" class=\"data row0 col1\" >File2</td>\n",
       "      <td id=\"T_dcb14_row0_col2\" class=\"data row0 col2\" >41034</td>\n",
       "      <td id=\"T_dcb14_row0_col3\" class=\"data row0 col3\" >40816</td>\n",
       "      <td id=\"T_dcb14_row0_col4\" class=\"data row0 col4\" >400</td>\n",
       "    </tr>\n",
       "  </tbody>\n",
       "</table>\n"
      ],
      "text/plain": [
       "<pandas.io.formats.style.Styler at 0x29d6033f980>"
      ]
     },
     "execution_count": 3,
     "metadata": {},
     "output_type": "execute_result"
    }
   ],
   "source": [
    "ss.datasets()"
   ]
  }
 ],
 "metadata": {
  "language_info": {
   "codemirror_mode": {
    "name": "ipython",
    "version": 3
   },
   "file_extension": ".py",
   "mimetype": "text/x-python",
   "name": "python",
   "nbconvert_exporter": "python",
   "pygments_lexer": "ipython3",
   "version": "3.12.7"
  },
  "mystnb": {
   "code_prompt_hide": "Hide Datasets",
   "code_prompt_show": "Show Datasets"
  }
 },
 "nbformat": 4,
 "nbformat_minor": 5
}
