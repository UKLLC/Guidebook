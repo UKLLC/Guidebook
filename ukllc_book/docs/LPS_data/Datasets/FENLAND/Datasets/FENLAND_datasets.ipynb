{
 "cells": [
  {
   "cell_type": "markdown",
   "id": "f88b95dd",
   "metadata": {},
   "source": [
    "# Fenland Study Datasets"
   ]
  },
  {
   "cell_type": "code",
   "execution_count": 1,
   "id": "e42e6ac4",
   "metadata": {
    "execution": {
     "iopub.execute_input": "2025-07-17T15:27:28.217857Z",
     "iopub.status.busy": "2025-07-17T15:27:28.217857Z",
     "iopub.status.idle": "2025-07-17T15:27:31.920365Z",
     "shell.execute_reply": "2025-07-17T15:27:31.920365Z"
    },
    "tags": [
     "remove-input"
    ]
   },
   "outputs": [
    {
     "data": {
      "text/markdown": [
       ">Last modified: 17 Jul 2025"
      ],
      "text/plain": [
       "<IPython.core.display.Markdown object>"
      ]
     },
     "metadata": {},
     "output_type": "display_data"
    }
   ],
   "source": [
    "\n",
    "import sys\n",
    "import os\n",
    "sys.path.append(os.path.abspath('../../../../scripts/'))\n",
    "from data_doc_helper import LPSSource as SS, last_modified\n",
    "API_KEY = os.environ['FASTAPI_KEY']\n",
    "ss = SS(\"FENLAND\")\n",
    "last_modified()\n"
   ]
  },
  {
   "cell_type": "markdown",
   "id": "588002bb",
   "metadata": {},
   "source": [
    "## 1. Datasets"
   ]
  },
  {
   "cell_type": "code",
   "execution_count": 2,
   "id": "44295af2",
   "metadata": {
    "execution": {
     "iopub.execute_input": "2025-07-17T15:27:31.923377Z",
     "iopub.status.busy": "2025-07-17T15:27:31.923377Z",
     "iopub.status.idle": "2025-07-17T15:27:31.926717Z",
     "shell.execute_reply": "2025-07-17T15:27:31.926717Z"
    },
    "tags": [
     "remove-input"
    ]
   },
   "outputs": [
    {
     "data": {
      "text/markdown": [
       "**Table 1:** Datasets and metrics in the UK LLC belonging to FENLAND."
      ],
      "text/plain": [
       "<IPython.core.display.Markdown object>"
      ]
     },
     "metadata": {},
     "output_type": "display_data"
    }
   ],
   "source": [
    "ss.table_caption_ds()"
   ]
  },
  {
   "cell_type": "code",
   "execution_count": 3,
   "id": "4cbe2468",
   "metadata": {
    "execution": {
     "iopub.execute_input": "2025-07-17T15:27:31.928721Z",
     "iopub.status.busy": "2025-07-17T15:27:31.928721Z",
     "iopub.status.idle": "2025-07-17T15:27:33.228548Z",
     "shell.execute_reply": "2025-07-17T15:27:33.228548Z"
    },
    "tags": [
     "remove-input",
     "hide-cell"
    ]
   },
   "outputs": [
    {
     "data": {
      "text/html": [
       "<style type=\"text/css\">\n",
       "#T_9f4ee th {\n",
       "  text-align: left;\n",
       "}\n",
       "#T_9f4ee_row0_col0, #T_9f4ee_row0_col1, #T_9f4ee_row0_col2, #T_9f4ee_row0_col3, #T_9f4ee_row0_col4 {\n",
       "  text-align: left;\n",
       "}\n",
       "</style>\n",
       "<table id=\"T_9f4ee\" style=\"font-size: 14px\">\n",
       "  <thead>\n",
       "    <tr>\n",
       "      <th id=\"T_9f4ee_level0_col0\" class=\"col_heading level0 col0\" >Dataset</th>\n",
       "      <th id=\"T_9f4ee_level0_col1\" class=\"col_heading level0 col1\" >Dataset Name</th>\n",
       "      <th id=\"T_9f4ee_level0_col2\" class=\"col_heading level0 col2\" ># Participants</th>\n",
       "      <th id=\"T_9f4ee_level0_col3\" class=\"col_heading level0 col3\" ># Observations</th>\n",
       "      <th id=\"T_9f4ee_level0_col4\" class=\"col_heading level0 col4\" ># Variables</th>\n",
       "    </tr>\n",
       "  </thead>\n",
       "  <tbody>\n",
       "    <tr>\n",
       "      <td id=\"T_9f4ee_row0_col0\" class=\"data row0 col0\" > <a href=\"P1.html\">P1</a></td>\n",
       "      <td id=\"T_9f4ee_row0_col1\" class=\"data row0 col1\" >Phase 1 </td>\n",
       "      <td id=\"T_9f4ee_row0_col2\" class=\"data row0 col2\" >12072</td>\n",
       "      <td id=\"T_9f4ee_row0_col3\" class=\"data row0 col3\" >12072</td>\n",
       "      <td id=\"T_9f4ee_row0_col4\" class=\"data row0 col4\" >52</td>\n",
       "    </tr>\n",
       "  </tbody>\n",
       "</table>\n"
      ],
      "text/plain": [
       "<pandas.io.formats.style.Styler at 0x21243c3bcb0>"
      ]
     },
     "execution_count": 3,
     "metadata": {},
     "output_type": "execute_result"
    }
   ],
   "source": [
    "ss.datasets()"
   ]
  }
 ],
 "metadata": {
  "language_info": {
   "codemirror_mode": {
    "name": "ipython",
    "version": 3
   },
   "file_extension": ".py",
   "mimetype": "text/x-python",
   "name": "python",
   "nbconvert_exporter": "python",
   "pygments_lexer": "ipython3",
   "version": "3.12.7"
  },
  "mystnb": {
   "code_prompt_hide": "Hide Datasets",
   "code_prompt_show": "Show Datasets"
  }
 },
 "nbformat": 4,
 "nbformat_minor": 5
}
