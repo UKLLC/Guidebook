{
 "cells": [
  {
   "cell_type": "markdown",
   "id": "f88b95dd",
   "metadata": {},
   "source": [
    "# Fenland Study Datasets"
   ]
  },
  {
   "cell_type": "code",
   "execution_count": 1,
   "id": "e42e6ac4",
   "metadata": {
    "execution": {
     "iopub.execute_input": "2025-07-28T18:54:38.931674Z",
     "iopub.status.busy": "2025-07-28T18:54:38.930689Z",
     "iopub.status.idle": "2025-07-28T18:54:46.930986Z",
     "shell.execute_reply": "2025-07-28T18:54:46.928488Z"
    },
    "tags": [
     "remove-input"
    ]
   },
   "outputs": [
    {
     "data": {
      "text/markdown": [
       ">Last modified: 28 Jul 2025"
      ],
      "text/plain": [
       "<IPython.core.display.Markdown object>"
      ]
     },
     "metadata": {},
     "output_type": "display_data"
    }
   ],
   "source": [
    "\n",
    "import sys\n",
    "import os\n",
    "sys.path.append(os.path.abspath('../../../../scripts/'))\n",
    "from data_doc_helper import LPSSource as SS, last_modified\n",
    "API_KEY = os.environ['FASTAPI_KEY']\n",
    "ss = SS(\"FENLAND\")\n",
    "last_modified()\n"
   ]
  },
  {
   "cell_type": "markdown",
   "id": "588002bb",
   "metadata": {},
   "source": [
    "## 1. Datasets"
   ]
  },
  {
   "cell_type": "code",
   "execution_count": 2,
   "id": "44295af2",
   "metadata": {
    "execution": {
     "iopub.execute_input": "2025-07-28T18:54:46.958985Z",
     "iopub.status.busy": "2025-07-28T18:54:46.955985Z",
     "iopub.status.idle": "2025-07-28T18:54:46.976964Z",
     "shell.execute_reply": "2025-07-28T18:54:46.975940Z"
    },
    "tags": [
     "remove-input"
    ]
   },
   "outputs": [
    {
     "data": {
      "text/markdown": [
       "**Table 1:** Datasets and metrics in the UK LLC belonging to FENLAND."
      ],
      "text/plain": [
       "<IPython.core.display.Markdown object>"
      ]
     },
     "metadata": {},
     "output_type": "display_data"
    }
   ],
   "source": [
    "ss.table_caption_ds()"
   ]
  },
  {
   "cell_type": "code",
   "execution_count": 3,
   "id": "4cbe2468",
   "metadata": {
    "execution": {
     "iopub.execute_input": "2025-07-28T18:54:46.985462Z",
     "iopub.status.busy": "2025-07-28T18:54:46.985462Z",
     "iopub.status.idle": "2025-07-28T18:54:49.523312Z",
     "shell.execute_reply": "2025-07-28T18:54:49.522292Z"
    },
    "tags": [
     "remove-input",
     "hide-cell"
    ]
   },
   "outputs": [
    {
     "data": {
      "text/html": [
       "<style type=\"text/css\">\n",
       "#T_ebdc2 th {\n",
       "  text-align: left;\n",
       "}\n",
       "#T_ebdc2_row0_col0, #T_ebdc2_row0_col1, #T_ebdc2_row0_col2, #T_ebdc2_row0_col3, #T_ebdc2_row0_col4 {\n",
       "  text-align: left;\n",
       "}\n",
       "</style>\n",
       "<table id=\"T_ebdc2\" style=\"font-size: 14px\">\n",
       "  <thead>\n",
       "    <tr>\n",
       "      <th id=\"T_ebdc2_level0_col0\" class=\"col_heading level0 col0\" >Dataset</th>\n",
       "      <th id=\"T_ebdc2_level0_col1\" class=\"col_heading level0 col1\" >Dataset Name</th>\n",
       "      <th id=\"T_ebdc2_level0_col2\" class=\"col_heading level0 col2\" ># Participants</th>\n",
       "      <th id=\"T_ebdc2_level0_col3\" class=\"col_heading level0 col3\" ># Observations</th>\n",
       "      <th id=\"T_ebdc2_level0_col4\" class=\"col_heading level0 col4\" ># Variables</th>\n",
       "    </tr>\n",
       "  </thead>\n",
       "  <tbody>\n",
       "    <tr>\n",
       "      <td id=\"T_ebdc2_row0_col0\" class=\"data row0 col0\" > <a href=\"P1.html\">P1</a></td>\n",
       "      <td id=\"T_ebdc2_row0_col1\" class=\"data row0 col1\" >Phase 1 </td>\n",
       "      <td id=\"T_ebdc2_row0_col2\" class=\"data row0 col2\" >12072</td>\n",
       "      <td id=\"T_ebdc2_row0_col3\" class=\"data row0 col3\" >12072</td>\n",
       "      <td id=\"T_ebdc2_row0_col4\" class=\"data row0 col4\" >52</td>\n",
       "    </tr>\n",
       "  </tbody>\n",
       "</table>\n"
      ],
      "text/plain": [
       "<pandas.io.formats.style.Styler at 0x18c716eaea0>"
      ]
     },
     "execution_count": 3,
     "metadata": {},
     "output_type": "execute_result"
    }
   ],
   "source": [
    "ss.datasets()"
   ]
  }
 ],
 "metadata": {
  "language_info": {
   "codemirror_mode": {
    "name": "ipython",
    "version": 3
   },
   "file_extension": ".py",
   "mimetype": "text/x-python",
   "name": "python",
   "nbconvert_exporter": "python",
   "pygments_lexer": "ipython3",
   "version": "3.12.7"
  },
  "mystnb": {
   "code_prompt_hide": "Hide Datasets",
   "code_prompt_show": "Show Datasets"
  }
 },
 "nbformat": 4,
 "nbformat_minor": 5
}
