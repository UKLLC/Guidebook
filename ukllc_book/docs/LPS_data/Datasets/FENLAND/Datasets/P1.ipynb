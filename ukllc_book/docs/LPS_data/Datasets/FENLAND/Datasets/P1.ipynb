{
 "cells": [
  {
   "cell_type": "markdown",
   "id": "f911bd84",
   "metadata": {},
   "source": [
    "# Phase 1  (FENLAND)"
   ]
  },
  {
   "cell_type": "code",
   "execution_count": 1,
   "id": "1baad3e7",
   "metadata": {
    "execution": {
     "iopub.execute_input": "2025-07-28T18:54:52.596802Z",
     "iopub.status.busy": "2025-07-28T18:54:52.596802Z",
     "iopub.status.idle": "2025-07-28T18:55:05.614081Z",
     "shell.execute_reply": "2025-07-28T18:55:05.612065Z"
    },
    "tags": [
     "remove-input"
    ]
   },
   "outputs": [
    {
     "data": {
      "text/markdown": [
       ">Last modified: 28 Jul 2025"
      ],
      "text/plain": [
       "<IPython.core.display.Markdown object>"
      ]
     },
     "metadata": {},
     "output_type": "display_data"
    }
   ],
   "source": [
    "\n",
    "import sys\n",
    "import os\n",
    "sys.path.append(os.path.abspath('../../../../scripts/'))\n",
    "from data_doc_helper import LPSDataSet as DS, last_modified\n",
    "API_KEY = os.environ['FASTAPI_KEY']\n",
    "ds = DS(\"FENLAND\", \"P1\")\n",
    "last_modified()\n"
   ]
  },
  {
   "cell_type": "markdown",
   "id": "5a3b1a3a",
   "metadata": {},
   "source": [
    "## 1. Summary"
   ]
  },
  {
   "cell_type": "code",
   "execution_count": 2,
   "id": "99857cbe",
   "metadata": {
    "execution": {
     "iopub.execute_input": "2025-07-28T18:55:05.624655Z",
     "iopub.status.busy": "2025-07-28T18:55:05.622971Z",
     "iopub.status.idle": "2025-07-28T18:55:05.640917Z",
     "shell.execute_reply": "2025-07-28T18:55:05.638897Z"
    },
    "tags": [
     "remove-input"
    ]
   },
   "outputs": [
    {
     "data": {
      "text/markdown": [
       "Demographics data collected from general questionnaire at the baseline appointment"
      ],
      "text/plain": [
       "<IPython.core.display.Markdown object>"
      ]
     },
     "metadata": {},
     "output_type": "display_data"
    }
   ],
   "source": [
    "ds.summary()"
   ]
  },
  {
   "cell_type": "code",
   "execution_count": 3,
   "id": "e96d8ee4",
   "metadata": {
    "execution": {
     "iopub.execute_input": "2025-07-28T18:55:05.649429Z",
     "iopub.status.busy": "2025-07-28T18:55:05.647914Z",
     "iopub.status.idle": "2025-07-28T18:55:07.291669Z",
     "shell.execute_reply": "2025-07-28T18:55:07.289651Z"
    },
    "tags": [
     "remove-input"
    ]
   },
   "outputs": [
    {
     "data": {
      "text/html": [
       "<style type=\"text/css\">\n",
       "#T_e31cb th {\n",
       "  text-align: left;\n",
       "}\n",
       "#T_e31cb_row0_col0, #T_e31cb_row0_col1, #T_e31cb_row1_col0, #T_e31cb_row1_col1, #T_e31cb_row2_col0, #T_e31cb_row2_col1, #T_e31cb_row3_col0, #T_e31cb_row3_col1, #T_e31cb_row4_col0, #T_e31cb_row4_col1, #T_e31cb_row5_col0, #T_e31cb_row5_col1, #T_e31cb_row6_col0, #T_e31cb_row6_col1, #T_e31cb_row7_col0, #T_e31cb_row7_col1, #T_e31cb_row8_col0, #T_e31cb_row8_col1, #T_e31cb_row9_col0, #T_e31cb_row9_col1, #T_e31cb_row10_col0, #T_e31cb_row10_col1, #T_e31cb_row11_col0, #T_e31cb_row11_col1, #T_e31cb_row12_col0, #T_e31cb_row12_col1 {\n",
       "  text-align: left;\n",
       "}\n",
       "</style>\n",
       "<table id=\"T_e31cb\" style=\"font-size: 14px\">\n",
       "  <thead>\n",
       "    <tr>\n",
       "      <th id=\"T_e31cb_level0_col0\" class=\"col_heading level0 col0\" >Dataset Descriptor</th>\n",
       "      <th id=\"T_e31cb_level0_col1\" class=\"col_heading level0 col1\" >Dataset-specific Information</th>\n",
       "    </tr>\n",
       "  </thead>\n",
       "  <tbody>\n",
       "    <tr>\n",
       "      <td id=\"T_e31cb_row0_col0\" class=\"data row0 col0\" >Name of Dataset in TRE</td>\n",
       "      <td id=\"T_e31cb_row0_col1\" class=\"data row0 col1\" >FENLAND_P1</td>\n",
       "    </tr>\n",
       "    <tr>\n",
       "      <td id=\"T_e31cb_row1_col0\" class=\"data row1 col0\" >Citation (APA)</td>\n",
       "      <td id=\"T_e31cb_row1_col1\" class=\"data row1 col1\" >University of Cambridge, MRC Epidemiology Unit. (2022). <i>Fenland Study: Phase 1 .</i> UK Longitudinal Linkage Collaboration (UK LLC).  <a href=\"https://doi.org/10.71760/ukllc-dataset-00119-01\" rel=\"noopener noreferrer\" target=\"_blank\">https://doi.org/10.71760/ukllc-dataset-00119-01</a></td>\n",
       "    </tr>\n",
       "    <tr>\n",
       "      <td id=\"T_e31cb_row2_col0\" class=\"data row2 col0\" >Download Citation</td>\n",
       "      <td id=\"T_e31cb_row2_col1\" class=\"data row2 col1\" > <a href=\"https://api.datacite.org/application/vnd.citationstyles.csl+json/10.71760/ukllc-dataset-00119-01\" rel=\"noopener noreferrer\" target=\"_blank\">Citeproc JSON</a>&nbsp;&nbsp;&nbsp;&nbsp; <a href=\"https://api.datacite.org/application/x-bibtex/10.71760/ukllc-dataset-00119-01\" rel=\"noopener noreferrer\" target=\"_blank\">BibTeX</a>&nbsp;&nbsp;&nbsp;&nbsp; <a href=\"https://api.datacite.org/application/x-research-info-systems/10.71760/ukllc-dataset-00119-01\" rel=\"noopener noreferrer\" target=\"_blank\">RIS</a></td>\n",
       "    </tr>\n",
       "    <tr>\n",
       "      <td id=\"T_e31cb_row3_col0\" class=\"data row3 col0\" >Series</td>\n",
       "      <td id=\"T_e31cb_row3_col1\" class=\"data row3 col1\" > <a href=\"https://guidebook.ukllc.ac.uk/docs/lps_data/lps%20profiles/FENLAND\">Fenland Study</a></td>\n",
       "    </tr>\n",
       "    <tr>\n",
       "      <td id=\"T_e31cb_row4_col0\" class=\"data row4 col0\" >Owner</td>\n",
       "      <td id=\"T_e31cb_row4_col1\" class=\"data row4 col1\" >University of Cambridge</td>\n",
       "    </tr>\n",
       "    <tr>\n",
       "      <td id=\"T_e31cb_row5_col0\" class=\"data row5 col0\" >Temporal Coverage</td>\n",
       "      <td id=\"T_e31cb_row5_col1\" class=\"data row5 col1\" >01/2005 - 12/2015</td>\n",
       "    </tr>\n",
       "    <tr>\n",
       "      <td id=\"T_e31cb_row6_col0\" class=\"data row6 col0\" >Keywords</td>\n",
       "      <td id=\"T_e31cb_row6_col1\" class=\"data row6 col1\" ></td>\n",
       "    </tr>\n",
       "    <tr>\n",
       "      <td id=\"T_e31cb_row7_col0\" class=\"data row7 col0\" >Participants Invited</td>\n",
       "      <td id=\"T_e31cb_row7_col1\" class=\"data row7 col1\" >46023</td>\n",
       "    </tr>\n",
       "    <tr>\n",
       "      <td id=\"T_e31cb_row8_col0\" class=\"data row8 col0\" >Participant Count</td>\n",
       "      <td id=\"T_e31cb_row8_col1\" class=\"data row8 col1\" >12072</td>\n",
       "    </tr>\n",
       "    <tr>\n",
       "      <td id=\"T_e31cb_row9_col0\" class=\"data row9 col0\" >Number of variables</td>\n",
       "      <td id=\"T_e31cb_row9_col1\" class=\"data row9 col1\" >52</td>\n",
       "    </tr>\n",
       "    <tr>\n",
       "      <td id=\"T_e31cb_row10_col0\" class=\"data row10 col0\" >Number of observations</td>\n",
       "      <td id=\"T_e31cb_row10_col1\" class=\"data row10 col1\" >12072</td>\n",
       "    </tr>\n",
       "    <tr>\n",
       "      <td id=\"T_e31cb_row11_col0\" class=\"data row11 col0\" >Specific Restrictions to Data Use</td>\n",
       "      <td id=\"T_e31cb_row11_col1\" class=\"data row11 col1\" >None</td>\n",
       "    </tr>\n",
       "    <tr>\n",
       "      <td id=\"T_e31cb_row12_col0\" class=\"data row12 col0\" >Build a Data Request</td>\n",
       "      <td id=\"T_e31cb_row12_col1\" class=\"data row12 col1\" > <a href=\"https://explore.ukllc.ac.uk/\" rel=\"noopener noreferrer\" target=\"_blank\">https://explore.ukllc.ac.uk/</a></td>\n",
       "    </tr>\n",
       "  </tbody>\n",
       "</table>\n"
      ],
      "text/plain": [
       "<pandas.io.formats.style.Styler at 0x2447a69ccb0>"
      ]
     },
     "execution_count": 3,
     "metadata": {},
     "output_type": "execute_result"
    }
   ],
   "source": [
    "ds.info_table()"
   ]
  },
  {
   "cell_type": "markdown",
   "id": "bb22dbc5",
   "metadata": {},
   "source": [
    "## 2. Version History"
   ]
  },
  {
   "cell_type": "code",
   "execution_count": 4,
   "id": "142d9a13",
   "metadata": {
    "execution": {
     "iopub.execute_input": "2025-07-28T18:55:07.300669Z",
     "iopub.status.busy": "2025-07-28T18:55:07.299669Z",
     "iopub.status.idle": "2025-07-28T18:55:13.643026Z",
     "shell.execute_reply": "2025-07-28T18:55:13.641004Z"
    },
    "tags": [
     "remove-input"
    ]
   },
   "outputs": [
    {
     "data": {
      "text/html": [
       "<style type=\"text/css\">\n",
       "#T_aa956 th {\n",
       "  text-align: left;\n",
       "}\n",
       "#T_aa956_row0_col0, #T_aa956_row0_col1, #T_aa956_row1_col0, #T_aa956_row1_col1, #T_aa956_row2_col0, #T_aa956_row2_col1, #T_aa956_row3_col0, #T_aa956_row3_col1, #T_aa956_row4_col0, #T_aa956_row4_col1 {\n",
       "  text-align: left;\n",
       "}\n",
       "</style>\n",
       "<table id=\"T_aa956\" style=\"font-size: 14px\">\n",
       "  <thead>\n",
       "    <tr>\n",
       "      <th id=\"T_aa956_level0_col0\" class=\"col_heading level0 col0\" >Version</th>\n",
       "      <th id=\"T_aa956_level0_col1\" class=\"col_heading level0 col1\" >1</th>\n",
       "    </tr>\n",
       "  </thead>\n",
       "  <tbody>\n",
       "    <tr>\n",
       "      <td id=\"T_aa956_row0_col0\" class=\"data row0 col0\" >Version Date</td>\n",
       "      <td id=\"T_aa956_row0_col1\" class=\"data row0 col1\" >10 Aug 2022</td>\n",
       "    </tr>\n",
       "    <tr>\n",
       "      <td id=\"T_aa956_row1_col0\" class=\"data row1 col0\" >Number of Variables</td>\n",
       "      <td id=\"T_aa956_row1_col1\" class=\"data row1 col1\" >52</td>\n",
       "    </tr>\n",
       "    <tr>\n",
       "      <td id=\"T_aa956_row2_col0\" class=\"data row2 col0\" >Number of Observations</td>\n",
       "      <td id=\"T_aa956_row2_col1\" class=\"data row2 col1\" >12072</td>\n",
       "    </tr>\n",
       "    <tr>\n",
       "      <td id=\"T_aa956_row3_col0\" class=\"data row3 col0\" >DOI</td>\n",
       "      <td id=\"T_aa956_row3_col1\" class=\"data row3 col1\" > <a href=\"https://doi.org/10.71760/ukllc-dataset-00119-01\" rel=\"noopener noreferrer\" target=\"_blank\">10.71760/ukllc-dataset-00119-01</a></td>\n",
       "    </tr>\n",
       "    <tr>\n",
       "      <td id=\"T_aa956_row4_col0\" class=\"data row4 col0\" >Change Log</td>\n",
       "      <td id=\"T_aa956_row4_col1\" class=\"data row4 col1\" > <a href=\"https://api.test.datacite.org/dois/10.71760/ukllc-dataset-00119-01/activities\" rel=\"noopener noreferrer\" target=\"_blank\">10.71760/ukllc-dataset-00119-01/activities</a></td>\n",
       "    </tr>\n",
       "  </tbody>\n",
       "</table>\n"
      ],
      "text/plain": [
       "<pandas.io.formats.style.Styler at 0x24400276540>"
      ]
     },
     "execution_count": 4,
     "metadata": {},
     "output_type": "execute_result"
    }
   ],
   "source": [
    "ds.version_history()"
   ]
  },
  {
   "cell_type": "markdown",
   "id": "65809951",
   "metadata": {},
   "source": [
    "## 3. Documentation"
   ]
  },
  {
   "cell_type": "code",
   "execution_count": 5,
   "id": "23d8b4a6",
   "metadata": {
    "execution": {
     "iopub.execute_input": "2025-07-28T18:55:13.651697Z",
     "iopub.status.busy": "2025-07-28T18:55:13.650686Z",
     "iopub.status.idle": "2025-07-28T18:55:13.665136Z",
     "shell.execute_reply": "2025-07-28T18:55:13.663601Z"
    },
    "tags": [
     "remove-input"
    ]
   },
   "outputs": [
    {
     "data": {
      "text/markdown": [
       "We are currently building a documentation storage system which will host useful documents related to datasets and data owners. We will surface these documents on Guidebook."
      ],
      "text/plain": [
       "<IPython.core.display.Markdown object>"
      ]
     },
     "metadata": {},
     "output_type": "display_data"
    }
   ],
   "source": [
    "ds.documentation()"
   ]
  },
  {
   "cell_type": "markdown",
   "id": "34961276",
   "metadata": {},
   "source": [
    "## 4. Useful Syntax"
   ]
  },
  {
   "cell_type": "code",
   "execution_count": 6,
   "id": "61df7bce",
   "metadata": {
    "execution": {
     "iopub.execute_input": "2025-07-28T18:55:13.670796Z",
     "iopub.status.busy": "2025-07-28T18:55:13.670796Z",
     "iopub.status.idle": "2025-07-28T18:55:13.685883Z",
     "shell.execute_reply": "2025-07-28T18:55:13.683600Z"
    },
    "tags": [
     "remove-input"
    ]
   },
   "outputs": [
    {
     "data": {
      "text/markdown": [
       "Below we will include syntax that may be helpful to other researchers in the UK LLC TRE. For longer scripts, we will include a snippet of the code plus a link to Git where you can find the full scripts."
      ],
      "text/plain": [
       "<IPython.core.display.Markdown object>"
      ]
     },
     "metadata": {},
     "output_type": "display_data"
    }
   ],
   "source": [
    "ds.useful_syntax()"
   ]
  }
 ],
 "metadata": {
  "language_info": {
   "codemirror_mode": {
    "name": "ipython",
    "version": 3
   },
   "file_extension": ".py",
   "mimetype": "text/x-python",
   "name": "python",
   "nbconvert_exporter": "python",
   "pygments_lexer": "ipython3",
   "version": "3.12.7"
  }
 },
 "nbformat": 4,
 "nbformat_minor": 5
}
