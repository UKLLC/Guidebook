{
 "cells": [
  {
   "cell_type": "markdown",
   "id": "2761bbf1",
   "metadata": {},
   "source": [
    "# Serum metabolomics 1996-2021 (TWINSUK)"
   ]
  },
  {
   "cell_type": "code",
   "execution_count": 1,
   "id": "94073f38",
   "metadata": {
    "execution": {
     "iopub.execute_input": "2025-07-18T10:37:20.843853Z",
     "iopub.status.busy": "2025-07-18T10:37:20.842853Z",
     "iopub.status.idle": "2025-07-18T10:37:27.298112Z",
     "shell.execute_reply": "2025-07-18T10:37:27.296113Z"
    },
    "tags": [
     "remove-input"
    ]
   },
   "outputs": [
    {
     "data": {
      "text/markdown": [
       ">Last modified: 18 Jul 2025"
      ],
      "text/plain": [
       "<IPython.core.display.Markdown object>"
      ]
     },
     "metadata": {},
     "output_type": "display_data"
    }
   ],
   "source": [
    "\n",
    "import sys\n",
    "import os\n",
    "sys.path.append(os.path.abspath('../../../../scripts/'))\n",
    "from data_doc_helper import LPSDataSet as DS, last_modified\n",
    "API_KEY = os.environ['FASTAPI_KEY']\n",
    "ds = DS(\"TWINSUK\", \"METABOLOMICS2\")\n",
    "last_modified()\n"
   ]
  },
  {
   "cell_type": "markdown",
   "id": "e77ec692",
   "metadata": {},
   "source": [
    "## 1. Summary"
   ]
  },
  {
   "cell_type": "code",
   "execution_count": 2,
   "id": "f6b6baca",
   "metadata": {
    "execution": {
     "iopub.execute_input": "2025-07-18T10:37:27.305115Z",
     "iopub.status.busy": "2025-07-18T10:37:27.304115Z",
     "iopub.status.idle": "2025-07-18T10:37:27.316088Z",
     "shell.execute_reply": "2025-07-18T10:37:27.314077Z"
    },
    "tags": [
     "remove-input"
    ]
   },
   "outputs": [
    {
     "data": {
      "text/markdown": [
       "Raw metabolomics data for serum sample collected for up to 2 time-points. The samples were analysed in 2022 by Nightingale using a high-throughput NMR metabolomics platform."
      ],
      "text/plain": [
       "<IPython.core.display.Markdown object>"
      ]
     },
     "metadata": {},
     "output_type": "display_data"
    }
   ],
   "source": [
    "ds.summary()"
   ]
  },
  {
   "cell_type": "code",
   "execution_count": 3,
   "id": "97672794",
   "metadata": {
    "execution": {
     "iopub.execute_input": "2025-07-18T10:37:27.321084Z",
     "iopub.status.busy": "2025-07-18T10:37:27.321084Z",
     "iopub.status.idle": "2025-07-18T10:37:28.396749Z",
     "shell.execute_reply": "2025-07-18T10:37:28.395738Z"
    },
    "tags": [
     "remove-input"
    ]
   },
   "outputs": [
    {
     "data": {
      "text/html": [
       "<style type=\"text/css\">\n",
       "#T_f1464 th {\n",
       "  text-align: left;\n",
       "}\n",
       "#T_f1464_row0_col0, #T_f1464_row0_col1, #T_f1464_row1_col0, #T_f1464_row1_col1, #T_f1464_row2_col0, #T_f1464_row2_col1, #T_f1464_row3_col0, #T_f1464_row3_col1, #T_f1464_row4_col0, #T_f1464_row4_col1, #T_f1464_row5_col0, #T_f1464_row5_col1, #T_f1464_row6_col0, #T_f1464_row6_col1, #T_f1464_row7_col0, #T_f1464_row7_col1, #T_f1464_row8_col0, #T_f1464_row8_col1, #T_f1464_row9_col0, #T_f1464_row9_col1, #T_f1464_row10_col0, #T_f1464_row10_col1, #T_f1464_row11_col0, #T_f1464_row11_col1, #T_f1464_row12_col0, #T_f1464_row12_col1 {\n",
       "  text-align: left;\n",
       "}\n",
       "</style>\n",
       "<table id=\"T_f1464\" style=\"font-size: 14px\">\n",
       "  <thead>\n",
       "    <tr>\n",
       "      <th id=\"T_f1464_level0_col0\" class=\"col_heading level0 col0\" >Dataset Descriptor</th>\n",
       "      <th id=\"T_f1464_level0_col1\" class=\"col_heading level0 col1\" >Dataset-specific Information</th>\n",
       "    </tr>\n",
       "  </thead>\n",
       "  <tbody>\n",
       "    <tr>\n",
       "      <td id=\"T_f1464_row0_col0\" class=\"data row0 col0\" >Name of Dataset in TRE</td>\n",
       "      <td id=\"T_f1464_row0_col1\" class=\"data row0 col1\" >TWINSUK_METABOLOMICS2</td>\n",
       "    </tr>\n",
       "    <tr>\n",
       "      <td id=\"T_f1464_row1_col0\" class=\"data row1 col0\" >Citation (APA)</td>\n",
       "      <td id=\"T_f1464_row1_col1\" class=\"data row1 col1\" >King’s College London, Department of Twin Research & Genetic Epidemiology. (2022). <i>TwinsUK - The UK Adult Twin Registry: Serum metabolomics 1996-2021.</i> UK Longitudinal Linkage Collaboration (UK LLC).  <a href=\"https://doi.org/10.83126/ukllc-dataset-00401-01\" rel=\"noopener noreferrer\" target=\"_blank\">https://doi.org/10.83126/ukllc-dataset-00401-01</a></td>\n",
       "    </tr>\n",
       "    <tr>\n",
       "      <td id=\"T_f1464_row2_col0\" class=\"data row2 col0\" >Download Citation</td>\n",
       "      <td id=\"T_f1464_row2_col1\" class=\"data row2 col1\" > <a href=\"https://api.test.datacite.org/application/vnd.citationstyles.csl+json/10.83126/ukllc-dataset-00401-01\" rel=\"noopener noreferrer\" target=\"_blank\">Citeproc JSON</a>&nbsp;&nbsp;&nbsp;&nbsp; <a href=\"https://api.test.datacite.org/application/x-bibtex/10.83126/ukllc-dataset-00401-01\" rel=\"noopener noreferrer\" target=\"_blank\">BibTeX</a>&nbsp;&nbsp;&nbsp;&nbsp; <a href=\"https://api.test.datacite.org/application/x-research-info-systems/10.83126/ukllc-dataset-00401-01\" rel=\"noopener noreferrer\" target=\"_blank\">RIS</a></td>\n",
       "    </tr>\n",
       "    <tr>\n",
       "      <td id=\"T_f1464_row3_col0\" class=\"data row3 col0\" >Series</td>\n",
       "      <td id=\"T_f1464_row3_col1\" class=\"data row3 col1\" > <a href=\"https://guidebook.ukllc.ac.uk/docs/lps/lps%20profiles/TWINSUK\">TwinsUK - The UK Adult Twin Registry</a></td>\n",
       "    </tr>\n",
       "    <tr>\n",
       "      <td id=\"T_f1464_row4_col0\" class=\"data row4 col0\" >Owner</td>\n",
       "      <td id=\"T_f1464_row4_col1\" class=\"data row4 col1\" >King's College London</td>\n",
       "    </tr>\n",
       "    <tr>\n",
       "      <td id=\"T_f1464_row5_col0\" class=\"data row5 col0\" >Temporal Coverage</td>\n",
       "      <td id=\"T_f1464_row5_col1\" class=\"data row5 col1\" >01/1996 - 12/2021</td>\n",
       "    </tr>\n",
       "    <tr>\n",
       "      <td id=\"T_f1464_row6_col0\" class=\"data row6 col0\" >Keywords</td>\n",
       "      <td id=\"T_f1464_row6_col1\" class=\"data row6 col1\" >Metabolomics,Nightingale,Metabolites,Raw,NMR</td>\n",
       "    </tr>\n",
       "    <tr>\n",
       "      <td id=\"T_f1464_row7_col0\" class=\"data row7 col0\" >Participants Invited</td>\n",
       "      <td id=\"T_f1464_row7_col1\" class=\"data row7 col1\" >1063</td>\n",
       "    </tr>\n",
       "    <tr>\n",
       "      <td id=\"T_f1464_row8_col0\" class=\"data row8 col0\" >Participant Count</td>\n",
       "      <td id=\"T_f1464_row8_col1\" class=\"data row8 col1\" >1063</td>\n",
       "    </tr>\n",
       "    <tr>\n",
       "      <td id=\"T_f1464_row9_col0\" class=\"data row9 col0\" >Number of variables</td>\n",
       "      <td id=\"T_f1464_row9_col1\" class=\"data row9 col1\" >253</td>\n",
       "    </tr>\n",
       "    <tr>\n",
       "      <td id=\"T_f1464_row10_col0\" class=\"data row10 col0\" >Number of observations</td>\n",
       "      <td id=\"T_f1464_row10_col1\" class=\"data row10 col1\" >1515</td>\n",
       "    </tr>\n",
       "    <tr>\n",
       "      <td id=\"T_f1464_row11_col0\" class=\"data row11 col0\" >Specific Restrictions to Data Use</td>\n",
       "      <td id=\"T_f1464_row11_col1\" class=\"data row11 col1\" >None</td>\n",
       "    </tr>\n",
       "    <tr>\n",
       "      <td id=\"T_f1464_row12_col0\" class=\"data row12 col0\" >Build a Data Request</td>\n",
       "      <td id=\"T_f1464_row12_col1\" class=\"data row12 col1\" > <a href=\"https://explore.ukllc.ac.uk/\" rel=\"noopener noreferrer\" target=\"_blank\">https://explore.ukllc.ac.uk/</a></td>\n",
       "    </tr>\n",
       "  </tbody>\n",
       "</table>\n"
      ],
      "text/plain": [
       "<pandas.io.formats.style.Styler at 0x20d3540f9e0>"
      ]
     },
     "execution_count": 3,
     "metadata": {},
     "output_type": "execute_result"
    }
   ],
   "source": [
    "ds.info_table()"
   ]
  },
  {
   "cell_type": "markdown",
   "id": "22064bc2",
   "metadata": {},
   "source": [
    "## 2. Version History"
   ]
  },
  {
   "cell_type": "code",
   "execution_count": 4,
   "id": "d53dfe84",
   "metadata": {
    "execution": {
     "iopub.execute_input": "2025-07-18T10:37:28.404744Z",
     "iopub.status.busy": "2025-07-18T10:37:28.403744Z",
     "iopub.status.idle": "2025-07-18T10:37:30.751019Z",
     "shell.execute_reply": "2025-07-18T10:37:30.749539Z"
    },
    "tags": [
     "remove-input"
    ]
   },
   "outputs": [
    {
     "data": {
      "text/html": [
       "<style type=\"text/css\">\n",
       "#T_d22e7 th {\n",
       "  text-align: left;\n",
       "}\n",
       "#T_d22e7_row0_col0, #T_d22e7_row0_col1, #T_d22e7_row1_col0, #T_d22e7_row1_col1, #T_d22e7_row2_col0, #T_d22e7_row2_col1, #T_d22e7_row3_col0, #T_d22e7_row3_col1, #T_d22e7_row4_col0, #T_d22e7_row4_col1 {\n",
       "  text-align: left;\n",
       "}\n",
       "</style>\n",
       "<table id=\"T_d22e7\" style=\"font-size: 14px\">\n",
       "  <thead>\n",
       "    <tr>\n",
       "      <th id=\"T_d22e7_level0_col0\" class=\"col_heading level0 col0\" >Version</th>\n",
       "      <th id=\"T_d22e7_level0_col1\" class=\"col_heading level0 col1\" >1</th>\n",
       "    </tr>\n",
       "  </thead>\n",
       "  <tbody>\n",
       "    <tr>\n",
       "      <td id=\"T_d22e7_row0_col0\" class=\"data row0 col0\" >Version Date</td>\n",
       "      <td id=\"T_d22e7_row0_col1\" class=\"data row0 col1\" >25 Oct 2022</td>\n",
       "    </tr>\n",
       "    <tr>\n",
       "      <td id=\"T_d22e7_row1_col0\" class=\"data row1 col0\" >Number of Variables</td>\n",
       "      <td id=\"T_d22e7_row1_col1\" class=\"data row1 col1\" >253</td>\n",
       "    </tr>\n",
       "    <tr>\n",
       "      <td id=\"T_d22e7_row2_col0\" class=\"data row2 col0\" >Number of Observations</td>\n",
       "      <td id=\"T_d22e7_row2_col1\" class=\"data row2 col1\" >1515</td>\n",
       "    </tr>\n",
       "    <tr>\n",
       "      <td id=\"T_d22e7_row3_col0\" class=\"data row3 col0\" >DOI</td>\n",
       "      <td id=\"T_d22e7_row3_col1\" class=\"data row3 col1\" > <a href=\"https://doi.org/10.83126/ukllc-dataset-00401-01\" rel=\"noopener noreferrer\" target=\"_blank\">10.83126/ukllc-dataset-00401-01</a></td>\n",
       "    </tr>\n",
       "    <tr>\n",
       "      <td id=\"T_d22e7_row4_col0\" class=\"data row4 col0\" >Change Log</td>\n",
       "      <td id=\"T_d22e7_row4_col1\" class=\"data row4 col1\" > <a href=\"https://api.test.datacite.org/dois/10.83126/ukllc-dataset-00401-01/activities\" rel=\"noopener noreferrer\" target=\"_blank\">10.83126/ukllc-dataset-00401-01/activities</a></td>\n",
       "    </tr>\n",
       "  </tbody>\n",
       "</table>\n"
      ],
      "text/plain": [
       "<pandas.io.formats.style.Styler at 0x20d371e6090>"
      ]
     },
     "execution_count": 4,
     "metadata": {},
     "output_type": "execute_result"
    }
   ],
   "source": [
    "ds.version_history()"
   ]
  },
  {
   "cell_type": "markdown",
   "id": "00270dcd",
   "metadata": {},
   "source": [
    "## 3. Documentation"
   ]
  },
  {
   "cell_type": "code",
   "execution_count": 5,
   "id": "518d4236",
   "metadata": {
    "execution": {
     "iopub.execute_input": "2025-07-18T10:37:30.757033Z",
     "iopub.status.busy": "2025-07-18T10:37:30.757033Z",
     "iopub.status.idle": "2025-07-18T10:37:30.766249Z",
     "shell.execute_reply": "2025-07-18T10:37:30.765242Z"
    },
    "tags": [
     "remove-input"
    ]
   },
   "outputs": [
    {
     "data": {
      "text/markdown": [
       "We are currently building a documentation storage system which will host useful documents related to datasets and data owners. We will surface these documents on Guidebook."
      ],
      "text/plain": [
       "<IPython.core.display.Markdown object>"
      ]
     },
     "metadata": {},
     "output_type": "display_data"
    }
   ],
   "source": [
    "ds.documentation()"
   ]
  },
  {
   "cell_type": "markdown",
   "id": "b6dce38e",
   "metadata": {},
   "source": [
    "## 4. Useful Syntax"
   ]
  },
  {
   "cell_type": "code",
   "execution_count": 6,
   "id": "dd32d88c",
   "metadata": {
    "execution": {
     "iopub.execute_input": "2025-07-18T10:37:30.772248Z",
     "iopub.status.busy": "2025-07-18T10:37:30.772248Z",
     "iopub.status.idle": "2025-07-18T10:37:30.782222Z",
     "shell.execute_reply": "2025-07-18T10:37:30.780216Z"
    },
    "tags": [
     "remove-input"
    ]
   },
   "outputs": [
    {
     "data": {
      "text/markdown": [
       "Below we will include syntax that may be helpful to other researchers in the UK LLC TRE. For longer scripts, we will include a snippet of the code plus a link to Git where you can find the full scripts."
      ],
      "text/plain": [
       "<IPython.core.display.Markdown object>"
      ]
     },
     "metadata": {},
     "output_type": "display_data"
    }
   ],
   "source": [
    "ds.useful_syntax()"
   ]
  }
 ],
 "metadata": {
  "language_info": {
   "codemirror_mode": {
    "name": "ipython",
    "version": 3
   },
   "file_extension": ".py",
   "mimetype": "text/x-python",
   "name": "python",
   "nbconvert_exporter": "python",
   "pygments_lexer": "ipython3",
   "version": "3.12.7"
  }
 },
 "nbformat": 4,
 "nbformat_minor": 5
}
