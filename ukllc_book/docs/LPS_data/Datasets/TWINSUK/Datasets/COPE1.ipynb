{
 "cells": [
  {
   "cell_type": "markdown",
   "id": "797921a7",
   "metadata": {},
   "source": [
    "# COVID-19 personal experience questionnaire wave 1 (TWINSUK)"
   ]
  },
  {
   "cell_type": "code",
   "execution_count": 1,
   "id": "d6dc5c73",
   "metadata": {
    "execution": {
     "iopub.execute_input": "2025-07-28T20:37:22.957394Z",
     "iopub.status.busy": "2025-07-28T20:37:22.955928Z",
     "iopub.status.idle": "2025-07-28T20:37:35.427585Z",
     "shell.execute_reply": "2025-07-28T20:37:35.421528Z"
    },
    "tags": [
     "remove-input"
    ]
   },
   "outputs": [
    {
     "data": {
      "text/markdown": [
       ">Last modified: 28 Jul 2025"
      ],
      "text/plain": [
       "<IPython.core.display.Markdown object>"
      ]
     },
     "metadata": {},
     "output_type": "display_data"
    }
   ],
   "source": [
    "\n",
    "import sys\n",
    "import os\n",
    "sys.path.append(os.path.abspath('../../../../scripts/'))\n",
    "from data_doc_helper import LPSDataSet as DS, last_modified\n",
    "API_KEY = os.environ['FASTAPI_KEY']\n",
    "ds = DS(\"TWINSUK\", \"COPE1\")\n",
    "last_modified()\n"
   ]
  },
  {
   "cell_type": "markdown",
   "id": "e83f8f76",
   "metadata": {},
   "source": [
    "## 1. Summary"
   ]
  },
  {
   "cell_type": "code",
   "execution_count": 2,
   "id": "51826b51",
   "metadata": {
    "execution": {
     "iopub.execute_input": "2025-07-28T20:37:35.436552Z",
     "iopub.status.busy": "2025-07-28T20:37:35.435571Z",
     "iopub.status.idle": "2025-07-28T20:37:35.449047Z",
     "shell.execute_reply": "2025-07-28T20:37:35.447026Z"
    },
    "tags": [
     "remove-input"
    ]
   },
   "outputs": [
    {
     "data": {
      "text/markdown": [
       "All participants with a valid email address or a postal address were sent a questionnaire if they were current members of the TwinsUK registry , if they lived in the UK,  and had previously taken part in at least one prior questionnaire (indicating them as engaged participants). The topics covered aim at understanding how social isolation measures might influence both physical and mental health, and what factors help to lessen any negative impact or potentially make a person more at risk."
      ],
      "text/plain": [
       "<IPython.core.display.Markdown object>"
      ]
     },
     "metadata": {},
     "output_type": "display_data"
    }
   ],
   "source": [
    "ds.summary()"
   ]
  },
  {
   "cell_type": "code",
   "execution_count": 3,
   "id": "831e5650",
   "metadata": {
    "execution": {
     "iopub.execute_input": "2025-07-28T20:37:35.456047Z",
     "iopub.status.busy": "2025-07-28T20:37:35.456047Z",
     "iopub.status.idle": "2025-07-28T20:37:37.488923Z",
     "shell.execute_reply": "2025-07-28T20:37:37.486907Z"
    },
    "tags": [
     "remove-input"
    ]
   },
   "outputs": [
    {
     "data": {
      "text/html": [
       "<style type=\"text/css\">\n",
       "#T_d61dd th {\n",
       "  text-align: left;\n",
       "}\n",
       "#T_d61dd_row0_col0, #T_d61dd_row0_col1, #T_d61dd_row1_col0, #T_d61dd_row1_col1, #T_d61dd_row2_col0, #T_d61dd_row2_col1, #T_d61dd_row3_col0, #T_d61dd_row3_col1, #T_d61dd_row4_col0, #T_d61dd_row4_col1, #T_d61dd_row5_col0, #T_d61dd_row5_col1, #T_d61dd_row6_col0, #T_d61dd_row6_col1, #T_d61dd_row7_col0, #T_d61dd_row7_col1, #T_d61dd_row8_col0, #T_d61dd_row8_col1, #T_d61dd_row9_col0, #T_d61dd_row9_col1, #T_d61dd_row10_col0, #T_d61dd_row10_col1, #T_d61dd_row11_col0, #T_d61dd_row11_col1, #T_d61dd_row12_col0, #T_d61dd_row12_col1 {\n",
       "  text-align: left;\n",
       "}\n",
       "</style>\n",
       "<table id=\"T_d61dd\" style=\"font-size: 14px\">\n",
       "  <thead>\n",
       "    <tr>\n",
       "      <th id=\"T_d61dd_level0_col0\" class=\"col_heading level0 col0\" >Dataset Descriptor</th>\n",
       "      <th id=\"T_d61dd_level0_col1\" class=\"col_heading level0 col1\" >Dataset-specific Information</th>\n",
       "    </tr>\n",
       "  </thead>\n",
       "  <tbody>\n",
       "    <tr>\n",
       "      <td id=\"T_d61dd_row0_col0\" class=\"data row0 col0\" >Name of Dataset in TRE</td>\n",
       "      <td id=\"T_d61dd_row0_col1\" class=\"data row0 col1\" >TWINSUK_COPE1</td>\n",
       "    </tr>\n",
       "    <tr>\n",
       "      <td id=\"T_d61dd_row1_col0\" class=\"data row1 col0\" >Citation (APA)</td>\n",
       "      <td id=\"T_d61dd_row1_col1\" class=\"data row1 col1\" >King's College London, Department of Twin Research & Genetic Epidemiology. (2021). <i>TwinsUK - The UK Adult Twin Registry: COVID-19 personal experience questionnaire wave 1.</i> UK Longitudinal Linkage Collaboration (UK LLC).  <a href=\"https://doi.org/10.71760/ukllc-dataset-00323-01\" rel=\"noopener noreferrer\" target=\"_blank\">https://doi.org/10.71760/ukllc-dataset-00323-01</a></td>\n",
       "    </tr>\n",
       "    <tr>\n",
       "      <td id=\"T_d61dd_row2_col0\" class=\"data row2 col0\" >Download Citation</td>\n",
       "      <td id=\"T_d61dd_row2_col1\" class=\"data row2 col1\" > <a href=\"https://api.datacite.org/application/vnd.citationstyles.csl+json/10.71760/ukllc-dataset-00323-01\" rel=\"noopener noreferrer\" target=\"_blank\">Citeproc JSON</a>&nbsp;&nbsp;&nbsp;&nbsp; <a href=\"https://api.datacite.org/application/x-bibtex/10.71760/ukllc-dataset-00323-01\" rel=\"noopener noreferrer\" target=\"_blank\">BibTeX</a>&nbsp;&nbsp;&nbsp;&nbsp; <a href=\"https://api.datacite.org/application/x-research-info-systems/10.71760/ukllc-dataset-00323-01\" rel=\"noopener noreferrer\" target=\"_blank\">RIS</a></td>\n",
       "    </tr>\n",
       "    <tr>\n",
       "      <td id=\"T_d61dd_row3_col0\" class=\"data row3 col0\" >Series</td>\n",
       "      <td id=\"T_d61dd_row3_col1\" class=\"data row3 col1\" > <a href=\"https://guidebook.ukllc.ac.uk/docs/lps_data/lps%20profiles/TWINSUK\">TwinsUK - The UK Adult Twin Registry</a></td>\n",
       "    </tr>\n",
       "    <tr>\n",
       "      <td id=\"T_d61dd_row4_col0\" class=\"data row4 col0\" >Owner</td>\n",
       "      <td id=\"T_d61dd_row4_col1\" class=\"data row4 col1\" >King's College London</td>\n",
       "    </tr>\n",
       "    <tr>\n",
       "      <td id=\"T_d61dd_row5_col0\" class=\"data row5 col0\" >Temporal Coverage</td>\n",
       "      <td id=\"T_d61dd_row5_col1\" class=\"data row5 col1\" >04/2020 - 05/2020</td>\n",
       "    </tr>\n",
       "    <tr>\n",
       "      <td id=\"T_d61dd_row6_col0\" class=\"data row6 col0\" >Keywords</td>\n",
       "      <td id=\"T_d61dd_row6_col1\" class=\"data row6 col1\" >COVIDW1,Mental Health,Physical Health,Sociodemographics,Household,Self-isolation</td>\n",
       "    </tr>\n",
       "    <tr>\n",
       "      <td id=\"T_d61dd_row7_col0\" class=\"data row7 col0\" >Participants Invited</td>\n",
       "      <td id=\"T_d61dd_row7_col1\" class=\"data row7 col1\" >6070\n",
       "</td>\n",
       "    </tr>\n",
       "    <tr>\n",
       "      <td id=\"T_d61dd_row8_col0\" class=\"data row8 col0\" >Participant Count</td>\n",
       "      <td id=\"T_d61dd_row8_col1\" class=\"data row8 col1\" >3623</td>\n",
       "    </tr>\n",
       "    <tr>\n",
       "      <td id=\"T_d61dd_row9_col0\" class=\"data row9 col0\" >Number of variables</td>\n",
       "      <td id=\"T_d61dd_row9_col1\" class=\"data row9 col1\" >227</td>\n",
       "    </tr>\n",
       "    <tr>\n",
       "      <td id=\"T_d61dd_row10_col0\" class=\"data row10 col0\" >Number of observations</td>\n",
       "      <td id=\"T_d61dd_row10_col1\" class=\"data row10 col1\" >3623</td>\n",
       "    </tr>\n",
       "    <tr>\n",
       "      <td id=\"T_d61dd_row11_col0\" class=\"data row11 col0\" >Specific Restrictions to Data Use</td>\n",
       "      <td id=\"T_d61dd_row11_col1\" class=\"data row11 col1\" >None</td>\n",
       "    </tr>\n",
       "    <tr>\n",
       "      <td id=\"T_d61dd_row12_col0\" class=\"data row12 col0\" >Build a Data Request</td>\n",
       "      <td id=\"T_d61dd_row12_col1\" class=\"data row12 col1\" > <a href=\"https://explore.ukllc.ac.uk/\" rel=\"noopener noreferrer\" target=\"_blank\">https://explore.ukllc.ac.uk/</a></td>\n",
       "    </tr>\n",
       "  </tbody>\n",
       "</table>\n"
      ],
      "text/plain": [
       "<pandas.io.formats.style.Styler at 0x1b74167bce0>"
      ]
     },
     "execution_count": 3,
     "metadata": {},
     "output_type": "execute_result"
    }
   ],
   "source": [
    "ds.info_table()"
   ]
  },
  {
   "cell_type": "markdown",
   "id": "d58972e1",
   "metadata": {},
   "source": [
    "## 2. Version History"
   ]
  },
  {
   "cell_type": "code",
   "execution_count": 4,
   "id": "7b1085ca",
   "metadata": {
    "execution": {
     "iopub.execute_input": "2025-07-28T20:37:37.504318Z",
     "iopub.status.busy": "2025-07-28T20:37:37.500208Z",
     "iopub.status.idle": "2025-07-28T20:37:42.721833Z",
     "shell.execute_reply": "2025-07-28T20:37:42.719815Z"
    },
    "tags": [
     "remove-input"
    ]
   },
   "outputs": [
    {
     "data": {
      "text/html": [
       "<style type=\"text/css\">\n",
       "#T_94175 th {\n",
       "  text-align: left;\n",
       "}\n",
       "#T_94175_row0_col0, #T_94175_row0_col1, #T_94175_row1_col0, #T_94175_row1_col1, #T_94175_row2_col0, #T_94175_row2_col1, #T_94175_row3_col0, #T_94175_row3_col1, #T_94175_row4_col0, #T_94175_row4_col1 {\n",
       "  text-align: left;\n",
       "}\n",
       "</style>\n",
       "<table id=\"T_94175\" style=\"font-size: 14px\">\n",
       "  <thead>\n",
       "    <tr>\n",
       "      <th id=\"T_94175_level0_col0\" class=\"col_heading level0 col0\" >Version</th>\n",
       "      <th id=\"T_94175_level0_col1\" class=\"col_heading level0 col1\" >1</th>\n",
       "    </tr>\n",
       "  </thead>\n",
       "  <tbody>\n",
       "    <tr>\n",
       "      <td id=\"T_94175_row0_col0\" class=\"data row0 col0\" >Version Date</td>\n",
       "      <td id=\"T_94175_row0_col1\" class=\"data row0 col1\" >01 Nov 2021</td>\n",
       "    </tr>\n",
       "    <tr>\n",
       "      <td id=\"T_94175_row1_col0\" class=\"data row1 col0\" >Number of Variables</td>\n",
       "      <td id=\"T_94175_row1_col1\" class=\"data row1 col1\" >227</td>\n",
       "    </tr>\n",
       "    <tr>\n",
       "      <td id=\"T_94175_row2_col0\" class=\"data row2 col0\" >Number of Observations</td>\n",
       "      <td id=\"T_94175_row2_col1\" class=\"data row2 col1\" >3623</td>\n",
       "    </tr>\n",
       "    <tr>\n",
       "      <td id=\"T_94175_row3_col0\" class=\"data row3 col0\" >DOI</td>\n",
       "      <td id=\"T_94175_row3_col1\" class=\"data row3 col1\" > <a href=\"https://doi.org/10.71760/ukllc-dataset-00323-01\" rel=\"noopener noreferrer\" target=\"_blank\">10.71760/ukllc-dataset-00323-01</a></td>\n",
       "    </tr>\n",
       "    <tr>\n",
       "      <td id=\"T_94175_row4_col0\" class=\"data row4 col0\" >Change Log</td>\n",
       "      <td id=\"T_94175_row4_col1\" class=\"data row4 col1\" > <a href=\"https://api.test.datacite.org/dois/10.71760/ukllc-dataset-00323-01/activities\" rel=\"noopener noreferrer\" target=\"_blank\">10.71760/ukllc-dataset-00323-01/activities</a></td>\n",
       "    </tr>\n",
       "  </tbody>\n",
       "</table>\n"
      ],
      "text/plain": [
       "<pandas.io.formats.style.Styler at 0x1b7433b42f0>"
      ]
     },
     "execution_count": 4,
     "metadata": {},
     "output_type": "execute_result"
    }
   ],
   "source": [
    "ds.version_history()"
   ]
  },
  {
   "cell_type": "markdown",
   "id": "582aebf4",
   "metadata": {},
   "source": [
    "## 3. Documentation"
   ]
  },
  {
   "cell_type": "code",
   "execution_count": 5,
   "id": "cbc4650b",
   "metadata": {
    "execution": {
     "iopub.execute_input": "2025-07-28T20:37:42.730834Z",
     "iopub.status.busy": "2025-07-28T20:37:42.729835Z",
     "iopub.status.idle": "2025-07-28T20:37:42.745930Z",
     "shell.execute_reply": "2025-07-28T20:37:42.743911Z"
    },
    "tags": [
     "remove-input"
    ]
   },
   "outputs": [
    {
     "data": {
      "text/markdown": [
       "We are currently building a documentation storage system which will host useful documents related to datasets and data owners. We will surface these documents on Guidebook."
      ],
      "text/plain": [
       "<IPython.core.display.Markdown object>"
      ]
     },
     "metadata": {},
     "output_type": "display_data"
    }
   ],
   "source": [
    "ds.documentation()"
   ]
  },
  {
   "cell_type": "markdown",
   "id": "a1619d7e",
   "metadata": {},
   "source": [
    "## 4. Useful Syntax"
   ]
  },
  {
   "cell_type": "code",
   "execution_count": 6,
   "id": "1c683aa5",
   "metadata": {
    "execution": {
     "iopub.execute_input": "2025-07-28T20:37:42.755930Z",
     "iopub.status.busy": "2025-07-28T20:37:42.754928Z",
     "iopub.status.idle": "2025-07-28T20:37:42.769929Z",
     "shell.execute_reply": "2025-07-28T20:37:42.767907Z"
    },
    "tags": [
     "remove-input"
    ]
   },
   "outputs": [
    {
     "data": {
      "text/markdown": [
       "Below we will include syntax that may be helpful to other researchers in the UK LLC TRE. For longer scripts, we will include a snippet of the code plus a link to Git where you can find the full scripts."
      ],
      "text/plain": [
       "<IPython.core.display.Markdown object>"
      ]
     },
     "metadata": {},
     "output_type": "display_data"
    }
   ],
   "source": [
    "ds.useful_syntax()"
   ]
  }
 ],
 "metadata": {
  "language_info": {
   "codemirror_mode": {
    "name": "ipython",
    "version": 3
   },
   "file_extension": ".py",
   "mimetype": "text/x-python",
   "name": "python",
   "nbconvert_exporter": "python",
   "pygments_lexer": "ipython3",
   "version": "3.12.7"
  }
 },
 "nbformat": 4,
 "nbformat_minor": 5
}
