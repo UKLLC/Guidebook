{
 "cells": [
  {
   "cell_type": "markdown",
   "id": "3c2764f7",
   "metadata": {},
   "source": [
    "# Covid-19 antibody response (TWINSUK)"
   ]
  },
  {
   "cell_type": "code",
   "execution_count": 1,
   "id": "12f71994",
   "metadata": {
    "execution": {
     "iopub.execute_input": "2025-07-18T10:37:35.080826Z",
     "iopub.status.busy": "2025-07-18T10:37:35.080826Z",
     "iopub.status.idle": "2025-07-18T10:37:42.684761Z",
     "shell.execute_reply": "2025-07-18T10:37:42.683242Z"
    },
    "tags": [
     "remove-input"
    ]
   },
   "outputs": [
    {
     "data": {
      "text/markdown": [
       ">Last modified: 18 Jul 2025"
      ],
      "text/plain": [
       "<IPython.core.display.Markdown object>"
      ]
     },
     "metadata": {},
     "output_type": "display_data"
    }
   ],
   "source": [
    "\n",
    "import sys\n",
    "import os\n",
    "sys.path.append(os.path.abspath('../../../../scripts/'))\n",
    "from data_doc_helper import LPSDataSet as DS, last_modified\n",
    "API_KEY = os.environ['FASTAPI_KEY']\n",
    "ds = DS(\"TWINSUK\", \"SEROLOGY\")\n",
    "last_modified()\n"
   ]
  },
  {
   "cell_type": "markdown",
   "id": "b7f85252",
   "metadata": {},
   "source": [
    "## 1. Summary"
   ]
  },
  {
   "cell_type": "code",
   "execution_count": 2,
   "id": "a40b3493",
   "metadata": {
    "execution": {
     "iopub.execute_input": "2025-07-18T10:37:42.692762Z",
     "iopub.status.busy": "2025-07-18T10:37:42.690761Z",
     "iopub.status.idle": "2025-07-18T10:37:42.702383Z",
     "shell.execute_reply": "2025-07-18T10:37:42.700714Z"
    },
    "tags": [
     "remove-input"
    ]
   },
   "outputs": [
    {
     "data": {
      "text/markdown": [
       "This dataset shows the participants' antibody response to natural infection, which is one way of measuring the main exposure."
      ],
      "text/plain": [
       "<IPython.core.display.Markdown object>"
      ]
     },
     "metadata": {},
     "output_type": "display_data"
    }
   ],
   "source": [
    "ds.summary()"
   ]
  },
  {
   "cell_type": "code",
   "execution_count": 3,
   "id": "ee2fd197",
   "metadata": {
    "execution": {
     "iopub.execute_input": "2025-07-18T10:37:42.706381Z",
     "iopub.status.busy": "2025-07-18T10:37:42.706381Z",
     "iopub.status.idle": "2025-07-18T10:37:43.880218Z",
     "shell.execute_reply": "2025-07-18T10:37:43.880218Z"
    },
    "tags": [
     "remove-input"
    ]
   },
   "outputs": [
    {
     "data": {
      "text/html": [
       "<style type=\"text/css\">\n",
       "#T_d7368 th {\n",
       "  text-align: left;\n",
       "}\n",
       "#T_d7368_row0_col0, #T_d7368_row0_col1, #T_d7368_row1_col0, #T_d7368_row1_col1, #T_d7368_row2_col0, #T_d7368_row2_col1, #T_d7368_row3_col0, #T_d7368_row3_col1, #T_d7368_row4_col0, #T_d7368_row4_col1, #T_d7368_row5_col0, #T_d7368_row5_col1, #T_d7368_row6_col0, #T_d7368_row6_col1, #T_d7368_row7_col0, #T_d7368_row7_col1, #T_d7368_row8_col0, #T_d7368_row8_col1, #T_d7368_row9_col0, #T_d7368_row9_col1, #T_d7368_row10_col0, #T_d7368_row10_col1, #T_d7368_row11_col0, #T_d7368_row11_col1, #T_d7368_row12_col0, #T_d7368_row12_col1 {\n",
       "  text-align: left;\n",
       "}\n",
       "</style>\n",
       "<table id=\"T_d7368\" style=\"font-size: 14px\">\n",
       "  <thead>\n",
       "    <tr>\n",
       "      <th id=\"T_d7368_level0_col0\" class=\"col_heading level0 col0\" >Dataset Descriptor</th>\n",
       "      <th id=\"T_d7368_level0_col1\" class=\"col_heading level0 col1\" >Dataset-specific Information</th>\n",
       "    </tr>\n",
       "  </thead>\n",
       "  <tbody>\n",
       "    <tr>\n",
       "      <td id=\"T_d7368_row0_col0\" class=\"data row0 col0\" >Name of Dataset in TRE</td>\n",
       "      <td id=\"T_d7368_row0_col1\" class=\"data row0 col1\" >TWINSUK_SEROLOGY</td>\n",
       "    </tr>\n",
       "    <tr>\n",
       "      <td id=\"T_d7368_row1_col0\" class=\"data row1 col0\" >Citation (APA)</td>\n",
       "      <td id=\"T_d7368_row1_col1\" class=\"data row1 col1\" >King’s College London, Department of Twin Research & Genetic Epidemiology. (2022). <i>TwinsUK - The UK Adult Twin Registry: Covid-19 antibody response.</i> UK Longitudinal Linkage Collaboration (UK LLC).  <a href=\"https://doi.org/10.83126/ukllc-dataset-00403-01\" rel=\"noopener noreferrer\" target=\"_blank\">https://doi.org/10.83126/ukllc-dataset-00403-01</a></td>\n",
       "    </tr>\n",
       "    <tr>\n",
       "      <td id=\"T_d7368_row2_col0\" class=\"data row2 col0\" >Download Citation</td>\n",
       "      <td id=\"T_d7368_row2_col1\" class=\"data row2 col1\" > <a href=\"https://api.test.datacite.org/application/vnd.citationstyles.csl+json/10.83126/ukllc-dataset-00403-01\" rel=\"noopener noreferrer\" target=\"_blank\">Citeproc JSON</a>&nbsp;&nbsp;&nbsp;&nbsp; <a href=\"https://api.test.datacite.org/application/x-bibtex/10.83126/ukllc-dataset-00403-01\" rel=\"noopener noreferrer\" target=\"_blank\">BibTeX</a>&nbsp;&nbsp;&nbsp;&nbsp; <a href=\"https://api.test.datacite.org/application/x-research-info-systems/10.83126/ukllc-dataset-00403-01\" rel=\"noopener noreferrer\" target=\"_blank\">RIS</a></td>\n",
       "    </tr>\n",
       "    <tr>\n",
       "      <td id=\"T_d7368_row3_col0\" class=\"data row3 col0\" >Series</td>\n",
       "      <td id=\"T_d7368_row3_col1\" class=\"data row3 col1\" > <a href=\"https://guidebook.ukllc.ac.uk/docs/lps/lps%20profiles/TWINSUK\">TwinsUK - The UK Adult Twin Registry</a></td>\n",
       "    </tr>\n",
       "    <tr>\n",
       "      <td id=\"T_d7368_row4_col0\" class=\"data row4 col0\" >Owner</td>\n",
       "      <td id=\"T_d7368_row4_col1\" class=\"data row4 col1\" >King's College London</td>\n",
       "    </tr>\n",
       "    <tr>\n",
       "      <td id=\"T_d7368_row5_col0\" class=\"data row5 col0\" >Temporal Coverage</td>\n",
       "      <td id=\"T_d7368_row5_col1\" class=\"data row5 col1\" >04/2021 - 01/2022</td>\n",
       "    </tr>\n",
       "    <tr>\n",
       "      <td id=\"T_d7368_row6_col0\" class=\"data row6 col0\" >Keywords</td>\n",
       "      <td id=\"T_d7368_row6_col1\" class=\"data row6 col1\" >COVID,Serology,Infection,Antibody,Exposure,Serum</td>\n",
       "    </tr>\n",
       "    <tr>\n",
       "      <td id=\"T_d7368_row7_col0\" class=\"data row7 col0\" >Participants Invited</td>\n",
       "      <td id=\"T_d7368_row7_col1\" class=\"data row7 col1\" >7850</td>\n",
       "    </tr>\n",
       "    <tr>\n",
       "      <td id=\"T_d7368_row8_col0\" class=\"data row8 col0\" >Participant Count</td>\n",
       "      <td id=\"T_d7368_row8_col1\" class=\"data row8 col1\" >4753</td>\n",
       "    </tr>\n",
       "    <tr>\n",
       "      <td id=\"T_d7368_row9_col0\" class=\"data row9 col0\" >Number of variables</td>\n",
       "      <td id=\"T_d7368_row9_col1\" class=\"data row9 col1\" >9</td>\n",
       "    </tr>\n",
       "    <tr>\n",
       "      <td id=\"T_d7368_row10_col0\" class=\"data row10 col0\" >Number of observations</td>\n",
       "      <td id=\"T_d7368_row10_col1\" class=\"data row10 col1\" >15600</td>\n",
       "    </tr>\n",
       "    <tr>\n",
       "      <td id=\"T_d7368_row11_col0\" class=\"data row11 col0\" >Specific Restrictions to Data Use</td>\n",
       "      <td id=\"T_d7368_row11_col1\" class=\"data row11 col1\" >None</td>\n",
       "    </tr>\n",
       "    <tr>\n",
       "      <td id=\"T_d7368_row12_col0\" class=\"data row12 col0\" >Build a Data Request</td>\n",
       "      <td id=\"T_d7368_row12_col1\" class=\"data row12 col1\" > <a href=\"https://explore.ukllc.ac.uk/\" rel=\"noopener noreferrer\" target=\"_blank\">https://explore.ukllc.ac.uk/</a></td>\n",
       "    </tr>\n",
       "  </tbody>\n",
       "</table>\n"
      ],
      "text/plain": [
       "<pandas.io.formats.style.Styler at 0x152e97cf9e0>"
      ]
     },
     "execution_count": 3,
     "metadata": {},
     "output_type": "execute_result"
    }
   ],
   "source": [
    "ds.info_table()"
   ]
  },
  {
   "cell_type": "markdown",
   "id": "e98bb678",
   "metadata": {},
   "source": [
    "## 2. Version History"
   ]
  },
  {
   "cell_type": "code",
   "execution_count": 4,
   "id": "fdee04a6",
   "metadata": {
    "execution": {
     "iopub.execute_input": "2025-07-18T10:37:43.884532Z",
     "iopub.status.busy": "2025-07-18T10:37:43.884532Z",
     "iopub.status.idle": "2025-07-18T10:37:46.195256Z",
     "shell.execute_reply": "2025-07-18T10:37:46.193249Z"
    },
    "tags": [
     "remove-input"
    ]
   },
   "outputs": [
    {
     "data": {
      "text/html": [
       "<style type=\"text/css\">\n",
       "#T_05152 th {\n",
       "  text-align: left;\n",
       "}\n",
       "#T_05152_row0_col0, #T_05152_row0_col1, #T_05152_row1_col0, #T_05152_row1_col1, #T_05152_row2_col0, #T_05152_row2_col1, #T_05152_row3_col0, #T_05152_row3_col1, #T_05152_row4_col0, #T_05152_row4_col1 {\n",
       "  text-align: left;\n",
       "}\n",
       "</style>\n",
       "<table id=\"T_05152\" style=\"font-size: 14px\">\n",
       "  <thead>\n",
       "    <tr>\n",
       "      <th id=\"T_05152_level0_col0\" class=\"col_heading level0 col0\" >Version</th>\n",
       "      <th id=\"T_05152_level0_col1\" class=\"col_heading level0 col1\" >1</th>\n",
       "    </tr>\n",
       "  </thead>\n",
       "  <tbody>\n",
       "    <tr>\n",
       "      <td id=\"T_05152_row0_col0\" class=\"data row0 col0\" >Version Date</td>\n",
       "      <td id=\"T_05152_row0_col1\" class=\"data row0 col1\" >02 Mar 2022</td>\n",
       "    </tr>\n",
       "    <tr>\n",
       "      <td id=\"T_05152_row1_col0\" class=\"data row1 col0\" >Number of Variables</td>\n",
       "      <td id=\"T_05152_row1_col1\" class=\"data row1 col1\" >9</td>\n",
       "    </tr>\n",
       "    <tr>\n",
       "      <td id=\"T_05152_row2_col0\" class=\"data row2 col0\" >Number of Observations</td>\n",
       "      <td id=\"T_05152_row2_col1\" class=\"data row2 col1\" >15600</td>\n",
       "    </tr>\n",
       "    <tr>\n",
       "      <td id=\"T_05152_row3_col0\" class=\"data row3 col0\" >DOI</td>\n",
       "      <td id=\"T_05152_row3_col1\" class=\"data row3 col1\" > <a href=\"https://doi.org/10.83126/ukllc-dataset-00403-01\" rel=\"noopener noreferrer\" target=\"_blank\">10.83126/ukllc-dataset-00403-01</a></td>\n",
       "    </tr>\n",
       "    <tr>\n",
       "      <td id=\"T_05152_row4_col0\" class=\"data row4 col0\" >Change Log</td>\n",
       "      <td id=\"T_05152_row4_col1\" class=\"data row4 col1\" > <a href=\"https://api.test.datacite.org/dois/10.83126/ukllc-dataset-00403-01/activities\" rel=\"noopener noreferrer\" target=\"_blank\">10.83126/ukllc-dataset-00403-01/activities</a></td>\n",
       "    </tr>\n",
       "  </tbody>\n",
       "</table>\n"
      ],
      "text/plain": [
       "<pandas.io.formats.style.Styler at 0x152eb4b7890>"
      ]
     },
     "execution_count": 4,
     "metadata": {},
     "output_type": "execute_result"
    }
   ],
   "source": [
    "ds.version_history()"
   ]
  },
  {
   "cell_type": "markdown",
   "id": "834174f6",
   "metadata": {},
   "source": [
    "## 3. Documentation"
   ]
  },
  {
   "cell_type": "code",
   "execution_count": 5,
   "id": "78462dc1",
   "metadata": {
    "execution": {
     "iopub.execute_input": "2025-07-18T10:37:46.201256Z",
     "iopub.status.busy": "2025-07-18T10:37:46.201256Z",
     "iopub.status.idle": "2025-07-18T10:37:46.211253Z",
     "shell.execute_reply": "2025-07-18T10:37:46.209087Z"
    },
    "tags": [
     "remove-input"
    ]
   },
   "outputs": [
    {
     "data": {
      "text/markdown": [
       "We are currently building a documentation storage system which will host useful documents related to datasets and data owners. We will surface these documents on Guidebook."
      ],
      "text/plain": [
       "<IPython.core.display.Markdown object>"
      ]
     },
     "metadata": {},
     "output_type": "display_data"
    }
   ],
   "source": [
    "ds.documentation()"
   ]
  },
  {
   "cell_type": "markdown",
   "id": "0f2151bf",
   "metadata": {},
   "source": [
    "## 4. Useful Syntax"
   ]
  },
  {
   "cell_type": "code",
   "execution_count": 6,
   "id": "036593c6",
   "metadata": {
    "execution": {
     "iopub.execute_input": "2025-07-18T10:37:46.217253Z",
     "iopub.status.busy": "2025-07-18T10:37:46.217253Z",
     "iopub.status.idle": "2025-07-18T10:37:46.226557Z",
     "shell.execute_reply": "2025-07-18T10:37:46.224551Z"
    },
    "tags": [
     "remove-input"
    ]
   },
   "outputs": [
    {
     "data": {
      "text/markdown": [
       "Below we will include syntax that may be helpful to other researchers in the UK LLC TRE. For longer scripts, we will include a snippet of the code plus a link to Git where you can find the full scripts."
      ],
      "text/plain": [
       "<IPython.core.display.Markdown object>"
      ]
     },
     "metadata": {},
     "output_type": "display_data"
    }
   ],
   "source": [
    "ds.useful_syntax()"
   ]
  }
 ],
 "metadata": {
  "language_info": {
   "codemirror_mode": {
    "name": "ipython",
    "version": 3
   },
   "file_extension": ".py",
   "mimetype": "text/x-python",
   "name": "python",
   "nbconvert_exporter": "python",
   "pygments_lexer": "ipython3",
   "version": "3.12.7"
  }
 },
 "nbformat": 4,
 "nbformat_minor": 5
}
