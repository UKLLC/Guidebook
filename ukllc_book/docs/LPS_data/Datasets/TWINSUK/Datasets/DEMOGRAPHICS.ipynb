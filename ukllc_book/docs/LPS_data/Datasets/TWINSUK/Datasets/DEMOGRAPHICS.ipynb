{
 "cells": [
  {
   "cell_type": "markdown",
   "id": "897cb380",
   "metadata": {},
   "source": [
    "# Demographics (TWINSUK)"
   ]
  },
  {
   "cell_type": "code",
   "execution_count": 1,
   "id": "493867bb",
   "metadata": {
    "execution": {
     "iopub.execute_input": "2025-07-18T10:36:27.619633Z",
     "iopub.status.busy": "2025-07-18T10:36:27.618639Z",
     "iopub.status.idle": "2025-07-18T10:36:34.348479Z",
     "shell.execute_reply": "2025-07-18T10:36:34.346479Z"
    },
    "tags": [
     "remove-input"
    ]
   },
   "outputs": [
    {
     "data": {
      "text/markdown": [
       ">Last modified: 18 Jul 2025"
      ],
      "text/plain": [
       "<IPython.core.display.Markdown object>"
      ]
     },
     "metadata": {},
     "output_type": "display_data"
    }
   ],
   "source": [
    "\n",
    "import sys\n",
    "import os\n",
    "sys.path.append(os.path.abspath('../../../../scripts/'))\n",
    "from data_doc_helper import LPSDataSet as DS, last_modified\n",
    "API_KEY = os.environ['FASTAPI_KEY']\n",
    "ds = DS(\"TWINSUK\", \"DEMOGRAPHICS\")\n",
    "last_modified()\n"
   ]
  },
  {
   "cell_type": "markdown",
   "id": "82490624",
   "metadata": {},
   "source": [
    "## 1. Summary"
   ]
  },
  {
   "cell_type": "code",
   "execution_count": 2,
   "id": "0dbdc009",
   "metadata": {
    "execution": {
     "iopub.execute_input": "2025-07-18T10:36:34.355478Z",
     "iopub.status.busy": "2025-07-18T10:36:34.354479Z",
     "iopub.status.idle": "2025-07-18T10:36:34.365094Z",
     "shell.execute_reply": "2025-07-18T10:36:34.364087Z"
    },
    "tags": [
     "remove-input"
    ]
   },
   "outputs": [
    {
     "data": {
      "text/markdown": [
       "Provides core demographic information such as sex, year of birth,  ethnicity and the year of data collection. Sex and year of birth are self-reported and collected when a participant join the TwinsUK registry. Ethnicity is self-reported and collected on different occasions."
      ],
      "text/plain": [
       "<IPython.core.display.Markdown object>"
      ]
     },
     "metadata": {},
     "output_type": "display_data"
    }
   ],
   "source": [
    "ds.summary()"
   ]
  },
  {
   "cell_type": "code",
   "execution_count": 3,
   "id": "75e423cb",
   "metadata": {
    "execution": {
     "iopub.execute_input": "2025-07-18T10:36:34.372096Z",
     "iopub.status.busy": "2025-07-18T10:36:34.371093Z",
     "iopub.status.idle": "2025-07-18T10:36:35.391940Z",
     "shell.execute_reply": "2025-07-18T10:36:35.390310Z"
    },
    "tags": [
     "remove-input"
    ]
   },
   "outputs": [
    {
     "data": {
      "text/html": [
       "<style type=\"text/css\">\n",
       "#T_71abb th {\n",
       "  text-align: left;\n",
       "}\n",
       "#T_71abb_row0_col0, #T_71abb_row0_col1, #T_71abb_row1_col0, #T_71abb_row1_col1, #T_71abb_row2_col0, #T_71abb_row2_col1, #T_71abb_row3_col0, #T_71abb_row3_col1, #T_71abb_row4_col0, #T_71abb_row4_col1, #T_71abb_row5_col0, #T_71abb_row5_col1, #T_71abb_row6_col0, #T_71abb_row6_col1, #T_71abb_row7_col0, #T_71abb_row7_col1, #T_71abb_row8_col0, #T_71abb_row8_col1, #T_71abb_row9_col0, #T_71abb_row9_col1, #T_71abb_row10_col0, #T_71abb_row10_col1, #T_71abb_row11_col0, #T_71abb_row11_col1, #T_71abb_row12_col0, #T_71abb_row12_col1 {\n",
       "  text-align: left;\n",
       "}\n",
       "</style>\n",
       "<table id=\"T_71abb\" style=\"font-size: 14px\">\n",
       "  <thead>\n",
       "    <tr>\n",
       "      <th id=\"T_71abb_level0_col0\" class=\"col_heading level0 col0\" >Dataset Descriptor</th>\n",
       "      <th id=\"T_71abb_level0_col1\" class=\"col_heading level0 col1\" >Dataset-specific Information</th>\n",
       "    </tr>\n",
       "  </thead>\n",
       "  <tbody>\n",
       "    <tr>\n",
       "      <td id=\"T_71abb_row0_col0\" class=\"data row0 col0\" >Name of Dataset in TRE</td>\n",
       "      <td id=\"T_71abb_row0_col1\" class=\"data row0 col1\" >TWINSUK_DEMOGRAPHICS</td>\n",
       "    </tr>\n",
       "    <tr>\n",
       "      <td id=\"T_71abb_row1_col0\" class=\"data row1 col0\" >Citation (APA)</td>\n",
       "      <td id=\"T_71abb_row1_col1\" class=\"data row1 col1\" >King’s College London, Department of Twin Research & Genetic Epidemiology. (2022). <i>TwinsUK - The UK Adult Twin Registry: Demographics.</i> UK Longitudinal Linkage Collaboration (UK LLC).  <a href=\"https://doi.org/10.83126/ukllc-dataset-00398-05\" rel=\"noopener noreferrer\" target=\"_blank\">https://doi.org/10.83126/ukllc-dataset-00398-05</a></td>\n",
       "    </tr>\n",
       "    <tr>\n",
       "      <td id=\"T_71abb_row2_col0\" class=\"data row2 col0\" >Download Citation</td>\n",
       "      <td id=\"T_71abb_row2_col1\" class=\"data row2 col1\" > <a href=\"https://api.test.datacite.org/application/vnd.citationstyles.csl+json/10.83126/ukllc-dataset-00398-05\" rel=\"noopener noreferrer\" target=\"_blank\">Citeproc JSON</a>&nbsp;&nbsp;&nbsp;&nbsp; <a href=\"https://api.test.datacite.org/application/x-bibtex/10.83126/ukllc-dataset-00398-05\" rel=\"noopener noreferrer\" target=\"_blank\">BibTeX</a>&nbsp;&nbsp;&nbsp;&nbsp; <a href=\"https://api.test.datacite.org/application/x-research-info-systems/10.83126/ukllc-dataset-00398-05\" rel=\"noopener noreferrer\" target=\"_blank\">RIS</a></td>\n",
       "    </tr>\n",
       "    <tr>\n",
       "      <td id=\"T_71abb_row3_col0\" class=\"data row3 col0\" >Series</td>\n",
       "      <td id=\"T_71abb_row3_col1\" class=\"data row3 col1\" > <a href=\"https://guidebook.ukllc.ac.uk/docs/lps/lps%20profiles/TWINSUK\">TwinsUK - The UK Adult Twin Registry</a></td>\n",
       "    </tr>\n",
       "    <tr>\n",
       "      <td id=\"T_71abb_row4_col0\" class=\"data row4 col0\" >Owner</td>\n",
       "      <td id=\"T_71abb_row4_col1\" class=\"data row4 col1\" >King's College London</td>\n",
       "    </tr>\n",
       "    <tr>\n",
       "      <td id=\"T_71abb_row5_col0\" class=\"data row5 col0\" >Temporal Coverage</td>\n",
       "      <td id=\"T_71abb_row5_col1\" class=\"data row5 col1\" >01/2000 - 12/2022</td>\n",
       "    </tr>\n",
       "    <tr>\n",
       "      <td id=\"T_71abb_row6_col0\" class=\"data row6 col0\" >Keywords</td>\n",
       "      <td id=\"T_71abb_row6_col1\" class=\"data row6 col1\" >Sex,Ethnicity,Demographics,Birth,Sociodemographics,Gender</td>\n",
       "    </tr>\n",
       "    <tr>\n",
       "      <td id=\"T_71abb_row7_col0\" class=\"data row7 col0\" >Participants Invited</td>\n",
       "      <td id=\"T_71abb_row7_col1\" class=\"data row7 col1\" ></td>\n",
       "    </tr>\n",
       "    <tr>\n",
       "      <td id=\"T_71abb_row8_col0\" class=\"data row8 col0\" >Participant Count</td>\n",
       "      <td id=\"T_71abb_row8_col1\" class=\"data row8 col1\" >15731</td>\n",
       "    </tr>\n",
       "    <tr>\n",
       "      <td id=\"T_71abb_row9_col0\" class=\"data row9 col0\" >Number of variables</td>\n",
       "      <td id=\"T_71abb_row9_col1\" class=\"data row9 col1\" >9</td>\n",
       "    </tr>\n",
       "    <tr>\n",
       "      <td id=\"T_71abb_row10_col0\" class=\"data row10 col0\" >Number of observations</td>\n",
       "      <td id=\"T_71abb_row10_col1\" class=\"data row10 col1\" >15731</td>\n",
       "    </tr>\n",
       "    <tr>\n",
       "      <td id=\"T_71abb_row11_col0\" class=\"data row11 col0\" >Specific Restrictions to Data Use</td>\n",
       "      <td id=\"T_71abb_row11_col1\" class=\"data row11 col1\" >None</td>\n",
       "    </tr>\n",
       "    <tr>\n",
       "      <td id=\"T_71abb_row12_col0\" class=\"data row12 col0\" >Build a Data Request</td>\n",
       "      <td id=\"T_71abb_row12_col1\" class=\"data row12 col1\" > <a href=\"https://explore.ukllc.ac.uk/\" rel=\"noopener noreferrer\" target=\"_blank\">https://explore.ukllc.ac.uk/</a></td>\n",
       "    </tr>\n",
       "  </tbody>\n",
       "</table>\n"
      ],
      "text/plain": [
       "<pandas.io.formats.style.Styler at 0x26b0005c440>"
      ]
     },
     "execution_count": 3,
     "metadata": {},
     "output_type": "execute_result"
    }
   ],
   "source": [
    "ds.info_table()"
   ]
  },
  {
   "cell_type": "markdown",
   "id": "7976afcf",
   "metadata": {},
   "source": [
    "## 2. Version History"
   ]
  },
  {
   "cell_type": "code",
   "execution_count": 4,
   "id": "9d8fbe63",
   "metadata": {
    "execution": {
     "iopub.execute_input": "2025-07-18T10:36:35.397954Z",
     "iopub.status.busy": "2025-07-18T10:36:35.397954Z",
     "iopub.status.idle": "2025-07-18T10:36:37.943738Z",
     "shell.execute_reply": "2025-07-18T10:36:37.941734Z"
    },
    "tags": [
     "remove-input"
    ]
   },
   "outputs": [
    {
     "data": {
      "text/html": [
       "<style type=\"text/css\">\n",
       "#T_af56c th {\n",
       "  text-align: left;\n",
       "}\n",
       "#T_af56c_row0_col0, #T_af56c_row0_col1, #T_af56c_row0_col2, #T_af56c_row1_col0, #T_af56c_row1_col1, #T_af56c_row1_col2, #T_af56c_row2_col0, #T_af56c_row2_col1, #T_af56c_row2_col2, #T_af56c_row3_col0, #T_af56c_row3_col1, #T_af56c_row3_col2, #T_af56c_row4_col0, #T_af56c_row4_col1, #T_af56c_row4_col2 {\n",
       "  text-align: left;\n",
       "}\n",
       "</style>\n",
       "<table id=\"T_af56c\" style=\"font-size: 14px\">\n",
       "  <thead>\n",
       "    <tr>\n",
       "      <th id=\"T_af56c_level0_col0\" class=\"col_heading level0 col0\" >Version</th>\n",
       "      <th id=\"T_af56c_level0_col1\" class=\"col_heading level0 col1\" >1</th>\n",
       "      <th id=\"T_af56c_level0_col2\" class=\"col_heading level0 col2\" >5</th>\n",
       "    </tr>\n",
       "  </thead>\n",
       "  <tbody>\n",
       "    <tr>\n",
       "      <td id=\"T_af56c_row0_col0\" class=\"data row0 col0\" >Version Date</td>\n",
       "      <td id=\"T_af56c_row0_col1\" class=\"data row0 col1\" >31 May 2022</td>\n",
       "      <td id=\"T_af56c_row0_col2\" class=\"data row0 col2\" >13 Sep 2022</td>\n",
       "    </tr>\n",
       "    <tr>\n",
       "      <td id=\"T_af56c_row1_col0\" class=\"data row1 col0\" >Number of Variables</td>\n",
       "      <td id=\"T_af56c_row1_col1\" class=\"data row1 col1\" >12</td>\n",
       "      <td id=\"T_af56c_row1_col2\" class=\"data row1 col2\" >9</td>\n",
       "    </tr>\n",
       "    <tr>\n",
       "      <td id=\"T_af56c_row2_col0\" class=\"data row2 col0\" >Number of Observations</td>\n",
       "      <td id=\"T_af56c_row2_col1\" class=\"data row2 col1\" >15731</td>\n",
       "      <td id=\"T_af56c_row2_col2\" class=\"data row2 col2\" >15731</td>\n",
       "    </tr>\n",
       "    <tr>\n",
       "      <td id=\"T_af56c_row3_col0\" class=\"data row3 col0\" >DOI</td>\n",
       "      <td id=\"T_af56c_row3_col1\" class=\"data row3 col1\" > <a href=\"https://doi.org/10.83126/ukllc-dataset-00398-01\" rel=\"noopener noreferrer\" target=\"_blank\">10.83126/ukllc-dataset-00398-01</a></td>\n",
       "      <td id=\"T_af56c_row3_col2\" class=\"data row3 col2\" > <a href=\"https://doi.org/10.83126/ukllc-dataset-00398-05\" rel=\"noopener noreferrer\" target=\"_blank\">10.83126/ukllc-dataset-00398-05</a></td>\n",
       "    </tr>\n",
       "    <tr>\n",
       "      <td id=\"T_af56c_row4_col0\" class=\"data row4 col0\" >Change Log</td>\n",
       "      <td id=\"T_af56c_row4_col1\" class=\"data row4 col1\" > <a href=\"https://api.test.datacite.org/dois/10.83126/ukllc-dataset-00398-01/activities\" rel=\"noopener noreferrer\" target=\"_blank\">10.83126/ukllc-dataset-00398-01/activities</a></td>\n",
       "      <td id=\"T_af56c_row4_col2\" class=\"data row4 col2\" > <a href=\"https://api.test.datacite.org/dois/10.83126/ukllc-dataset-00398-05/activities\" rel=\"noopener noreferrer\" target=\"_blank\">10.83126/ukllc-dataset-00398-05/activities</a></td>\n",
       "    </tr>\n",
       "  </tbody>\n",
       "</table>\n"
      ],
      "text/plain": [
       "<pandas.io.formats.style.Styler at 0x26b0589e270>"
      ]
     },
     "execution_count": 4,
     "metadata": {},
     "output_type": "execute_result"
    }
   ],
   "source": [
    "ds.version_history()"
   ]
  },
  {
   "cell_type": "markdown",
   "id": "52c3f357",
   "metadata": {},
   "source": [
    "## 3. Documentation"
   ]
  },
  {
   "cell_type": "code",
   "execution_count": 5,
   "id": "ad75ea02",
   "metadata": {
    "execution": {
     "iopub.execute_input": "2025-07-18T10:36:37.950738Z",
     "iopub.status.busy": "2025-07-18T10:36:37.949740Z",
     "iopub.status.idle": "2025-07-18T10:36:37.959861Z",
     "shell.execute_reply": "2025-07-18T10:36:37.957853Z"
    },
    "tags": [
     "remove-input"
    ]
   },
   "outputs": [
    {
     "data": {
      "text/markdown": [
       "We are currently building a documentation storage system which will host useful documents related to datasets and data owners. We will surface these documents on Guidebook."
      ],
      "text/plain": [
       "<IPython.core.display.Markdown object>"
      ]
     },
     "metadata": {},
     "output_type": "display_data"
    }
   ],
   "source": [
    "ds.documentation()"
   ]
  },
  {
   "cell_type": "markdown",
   "id": "bdf3885d",
   "metadata": {},
   "source": [
    "## 4. Useful Syntax"
   ]
  },
  {
   "cell_type": "code",
   "execution_count": 6,
   "id": "ee675cae",
   "metadata": {
    "execution": {
     "iopub.execute_input": "2025-07-18T10:36:37.966860Z",
     "iopub.status.busy": "2025-07-18T10:36:37.965860Z",
     "iopub.status.idle": "2025-07-18T10:36:37.976208Z",
     "shell.execute_reply": "2025-07-18T10:36:37.974200Z"
    },
    "tags": [
     "remove-input"
    ]
   },
   "outputs": [
    {
     "data": {
      "text/markdown": [
       "Below we will include syntax that may be helpful to other researchers in the UK LLC TRE. For longer scripts, we will include a snippet of the code plus a link to Git where you can find the full scripts."
      ],
      "text/plain": [
       "<IPython.core.display.Markdown object>"
      ]
     },
     "metadata": {},
     "output_type": "display_data"
    }
   ],
   "source": [
    "ds.useful_syntax()"
   ]
  }
 ],
 "metadata": {
  "language_info": {
   "codemirror_mode": {
    "name": "ipython",
    "version": 3
   },
   "file_extension": ".py",
   "mimetype": "text/x-python",
   "name": "python",
   "nbconvert_exporter": "python",
   "pygments_lexer": "ipython3",
   "version": "3.12.7"
  }
 },
 "nbformat": 4,
 "nbformat_minor": 5
}
