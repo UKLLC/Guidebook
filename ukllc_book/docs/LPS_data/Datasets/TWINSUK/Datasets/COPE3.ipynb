{
 "cells": [
  {
   "cell_type": "markdown",
   "id": "e5273a75",
   "metadata": {},
   "source": [
    "# COVID-19 personal experience questionnaire wave 3 (TWINSUK)"
   ]
  },
  {
   "cell_type": "code",
   "execution_count": 1,
   "id": "39e29bbd",
   "metadata": {
    "execution": {
     "iopub.execute_input": "2025-07-28T20:38:12.601153Z",
     "iopub.status.busy": "2025-07-28T20:38:12.601153Z",
     "iopub.status.idle": "2025-07-28T20:38:25.211977Z",
     "shell.execute_reply": "2025-07-28T20:38:25.210959Z"
    },
    "tags": [
     "remove-input"
    ]
   },
   "outputs": [
    {
     "data": {
      "text/markdown": [
       ">Last modified: 28 Jul 2025"
      ],
      "text/plain": [
       "<IPython.core.display.Markdown object>"
      ]
     },
     "metadata": {},
     "output_type": "display_data"
    }
   ],
   "source": [
    "\n",
    "import sys\n",
    "import os\n",
    "sys.path.append(os.path.abspath('../../../../scripts/'))\n",
    "from data_doc_helper import LPSDataSet as DS, last_modified\n",
    "API_KEY = os.environ['FASTAPI_KEY']\n",
    "ds = DS(\"TWINSUK\", \"COPE3\")\n",
    "last_modified()\n"
   ]
  },
  {
   "cell_type": "markdown",
   "id": "c717fbf4",
   "metadata": {},
   "source": [
    "## 1. Summary"
   ]
  },
  {
   "cell_type": "code",
   "execution_count": 2,
   "id": "5173e07a",
   "metadata": {
    "execution": {
     "iopub.execute_input": "2025-07-28T20:38:25.222980Z",
     "iopub.status.busy": "2025-07-28T20:38:25.220970Z",
     "iopub.status.idle": "2025-07-28T20:38:25.240350Z",
     "shell.execute_reply": "2025-07-28T20:38:25.236334Z"
    },
    "tags": [
     "remove-input"
    ]
   },
   "outputs": [
    {
     "data": {
      "text/markdown": [
       "All participants with a valid email address or a postal address were sent a questionnaire if they were current members of the TwinsUK registry, if they lived in the UK,  and had previously taken part in at least one prior questionnaire (indicating them as engaged participants). The questionnaire captures a variety of social, behevioural, environmental and health factors. It aim at understanding how social isolation measures might influence both physical and mental health, and what factors help to lessen any negative impact or potentially make a person more at risk."
      ],
      "text/plain": [
       "<IPython.core.display.Markdown object>"
      ]
     },
     "metadata": {},
     "output_type": "display_data"
    }
   ],
   "source": [
    "ds.summary()"
   ]
  },
  {
   "cell_type": "code",
   "execution_count": 3,
   "id": "8e66a265",
   "metadata": {
    "execution": {
     "iopub.execute_input": "2025-07-28T20:38:25.247352Z",
     "iopub.status.busy": "2025-07-28T20:38:25.247352Z",
     "iopub.status.idle": "2025-07-28T20:38:27.047474Z",
     "shell.execute_reply": "2025-07-28T20:38:27.045470Z"
    },
    "tags": [
     "remove-input"
    ]
   },
   "outputs": [
    {
     "data": {
      "text/html": [
       "<style type=\"text/css\">\n",
       "#T_36c4b th {\n",
       "  text-align: left;\n",
       "}\n",
       "#T_36c4b_row0_col0, #T_36c4b_row0_col1, #T_36c4b_row1_col0, #T_36c4b_row1_col1, #T_36c4b_row2_col0, #T_36c4b_row2_col1, #T_36c4b_row3_col0, #T_36c4b_row3_col1, #T_36c4b_row4_col0, #T_36c4b_row4_col1, #T_36c4b_row5_col0, #T_36c4b_row5_col1, #T_36c4b_row6_col0, #T_36c4b_row6_col1, #T_36c4b_row7_col0, #T_36c4b_row7_col1, #T_36c4b_row8_col0, #T_36c4b_row8_col1, #T_36c4b_row9_col0, #T_36c4b_row9_col1, #T_36c4b_row10_col0, #T_36c4b_row10_col1, #T_36c4b_row11_col0, #T_36c4b_row11_col1, #T_36c4b_row12_col0, #T_36c4b_row12_col1 {\n",
       "  text-align: left;\n",
       "}\n",
       "</style>\n",
       "<table id=\"T_36c4b\" style=\"font-size: 14px\">\n",
       "  <thead>\n",
       "    <tr>\n",
       "      <th id=\"T_36c4b_level0_col0\" class=\"col_heading level0 col0\" >Dataset Descriptor</th>\n",
       "      <th id=\"T_36c4b_level0_col1\" class=\"col_heading level0 col1\" >Dataset-specific Information</th>\n",
       "    </tr>\n",
       "  </thead>\n",
       "  <tbody>\n",
       "    <tr>\n",
       "      <td id=\"T_36c4b_row0_col0\" class=\"data row0 col0\" >Name of Dataset in TRE</td>\n",
       "      <td id=\"T_36c4b_row0_col1\" class=\"data row0 col1\" >TWINSUK_COPE3</td>\n",
       "    </tr>\n",
       "    <tr>\n",
       "      <td id=\"T_36c4b_row1_col0\" class=\"data row1 col0\" >Citation (APA)</td>\n",
       "      <td id=\"T_36c4b_row1_col1\" class=\"data row1 col1\" >King's College London, Department of Twin Research & Genetic Epidemiology. (2022). <i>TwinsUK - The UK Adult Twin Registry: COVID-19 personal experience questionnaire wave 3.</i> UK Longitudinal Linkage Collaboration (UK LLC).  <a href=\"https://doi.org/10.71760/ukllc-dataset-00325-01\" rel=\"noopener noreferrer\" target=\"_blank\">https://doi.org/10.71760/ukllc-dataset-00325-01</a></td>\n",
       "    </tr>\n",
       "    <tr>\n",
       "      <td id=\"T_36c4b_row2_col0\" class=\"data row2 col0\" >Download Citation</td>\n",
       "      <td id=\"T_36c4b_row2_col1\" class=\"data row2 col1\" > <a href=\"https://api.datacite.org/application/vnd.citationstyles.csl+json/10.71760/ukllc-dataset-00325-01\" rel=\"noopener noreferrer\" target=\"_blank\">Citeproc JSON</a>&nbsp;&nbsp;&nbsp;&nbsp; <a href=\"https://api.datacite.org/application/x-bibtex/10.71760/ukllc-dataset-00325-01\" rel=\"noopener noreferrer\" target=\"_blank\">BibTeX</a>&nbsp;&nbsp;&nbsp;&nbsp; <a href=\"https://api.datacite.org/application/x-research-info-systems/10.71760/ukllc-dataset-00325-01\" rel=\"noopener noreferrer\" target=\"_blank\">RIS</a></td>\n",
       "    </tr>\n",
       "    <tr>\n",
       "      <td id=\"T_36c4b_row3_col0\" class=\"data row3 col0\" >Series</td>\n",
       "      <td id=\"T_36c4b_row3_col1\" class=\"data row3 col1\" > <a href=\"https://guidebook.ukllc.ac.uk/docs/lps_data/lps%20profiles/TWINSUK\">TwinsUK - The UK Adult Twin Registry</a></td>\n",
       "    </tr>\n",
       "    <tr>\n",
       "      <td id=\"T_36c4b_row4_col0\" class=\"data row4 col0\" >Owner</td>\n",
       "      <td id=\"T_36c4b_row4_col1\" class=\"data row4 col1\" >King's College London</td>\n",
       "    </tr>\n",
       "    <tr>\n",
       "      <td id=\"T_36c4b_row5_col0\" class=\"data row5 col0\" >Temporal Coverage</td>\n",
       "      <td id=\"T_36c4b_row5_col1\" class=\"data row5 col1\" >12/2020 - 02/2021</td>\n",
       "    </tr>\n",
       "    <tr>\n",
       "      <td id=\"T_36c4b_row6_col0\" class=\"data row6 col0\" >Keywords</td>\n",
       "      <td id=\"T_36c4b_row6_col1\" class=\"data row6 col1\" >COVIDW3,Mental Health,Physical Health,Sociodemographics,Household,Self-isolation</td>\n",
       "    </tr>\n",
       "    <tr>\n",
       "      <td id=\"T_36c4b_row7_col0\" class=\"data row7 col0\" >Participants Invited</td>\n",
       "      <td id=\"T_36c4b_row7_col1\" class=\"data row7 col1\" >6568</td>\n",
       "    </tr>\n",
       "    <tr>\n",
       "      <td id=\"T_36c4b_row8_col0\" class=\"data row8 col0\" >Participant Count</td>\n",
       "      <td id=\"T_36c4b_row8_col1\" class=\"data row8 col1\" >4823</td>\n",
       "    </tr>\n",
       "    <tr>\n",
       "      <td id=\"T_36c4b_row9_col0\" class=\"data row9 col0\" >Number of variables</td>\n",
       "      <td id=\"T_36c4b_row9_col1\" class=\"data row9 col1\" >268</td>\n",
       "    </tr>\n",
       "    <tr>\n",
       "      <td id=\"T_36c4b_row10_col0\" class=\"data row10 col0\" >Number of observations</td>\n",
       "      <td id=\"T_36c4b_row10_col1\" class=\"data row10 col1\" >4823</td>\n",
       "    </tr>\n",
       "    <tr>\n",
       "      <td id=\"T_36c4b_row11_col0\" class=\"data row11 col0\" >Specific Restrictions to Data Use</td>\n",
       "      <td id=\"T_36c4b_row11_col1\" class=\"data row11 col1\" >None</td>\n",
       "    </tr>\n",
       "    <tr>\n",
       "      <td id=\"T_36c4b_row12_col0\" class=\"data row12 col0\" >Build a Data Request</td>\n",
       "      <td id=\"T_36c4b_row12_col1\" class=\"data row12 col1\" > <a href=\"https://explore.ukllc.ac.uk/\" rel=\"noopener noreferrer\" target=\"_blank\">https://explore.ukllc.ac.uk/</a></td>\n",
       "    </tr>\n",
       "  </tbody>\n",
       "</table>\n"
      ],
      "text/plain": [
       "<pandas.io.formats.style.Styler at 0x2125c97d640>"
      ]
     },
     "execution_count": 3,
     "metadata": {},
     "output_type": "execute_result"
    }
   ],
   "source": [
    "ds.info_table()"
   ]
  },
  {
   "cell_type": "markdown",
   "id": "44258916",
   "metadata": {},
   "source": [
    "## 2. Version History"
   ]
  },
  {
   "cell_type": "code",
   "execution_count": 4,
   "id": "a0ef6a38",
   "metadata": {
    "execution": {
     "iopub.execute_input": "2025-07-28T20:38:27.055637Z",
     "iopub.status.busy": "2025-07-28T20:38:27.054634Z",
     "iopub.status.idle": "2025-07-28T20:38:32.329312Z",
     "shell.execute_reply": "2025-07-28T20:38:32.327206Z"
    },
    "tags": [
     "remove-input"
    ]
   },
   "outputs": [
    {
     "data": {
      "text/html": [
       "<style type=\"text/css\">\n",
       "#T_7101f th {\n",
       "  text-align: left;\n",
       "}\n",
       "#T_7101f_row0_col0, #T_7101f_row0_col1, #T_7101f_row1_col0, #T_7101f_row1_col1, #T_7101f_row2_col0, #T_7101f_row2_col1, #T_7101f_row3_col0, #T_7101f_row3_col1, #T_7101f_row4_col0, #T_7101f_row4_col1 {\n",
       "  text-align: left;\n",
       "}\n",
       "</style>\n",
       "<table id=\"T_7101f\" style=\"font-size: 14px\">\n",
       "  <thead>\n",
       "    <tr>\n",
       "      <th id=\"T_7101f_level0_col0\" class=\"col_heading level0 col0\" >Version</th>\n",
       "      <th id=\"T_7101f_level0_col1\" class=\"col_heading level0 col1\" >1</th>\n",
       "    </tr>\n",
       "  </thead>\n",
       "  <tbody>\n",
       "    <tr>\n",
       "      <td id=\"T_7101f_row0_col0\" class=\"data row0 col0\" >Version Date</td>\n",
       "      <td id=\"T_7101f_row0_col1\" class=\"data row0 col1\" >31 May 2022</td>\n",
       "    </tr>\n",
       "    <tr>\n",
       "      <td id=\"T_7101f_row1_col0\" class=\"data row1 col0\" >Number of Variables</td>\n",
       "      <td id=\"T_7101f_row1_col1\" class=\"data row1 col1\" >536</td>\n",
       "    </tr>\n",
       "    <tr>\n",
       "      <td id=\"T_7101f_row2_col0\" class=\"data row2 col0\" >Number of Observations</td>\n",
       "      <td id=\"T_7101f_row2_col1\" class=\"data row2 col1\" >4823</td>\n",
       "    </tr>\n",
       "    <tr>\n",
       "      <td id=\"T_7101f_row3_col0\" class=\"data row3 col0\" >DOI</td>\n",
       "      <td id=\"T_7101f_row3_col1\" class=\"data row3 col1\" > <a href=\"https://doi.org/10.71760/ukllc-dataset-00325-01\" rel=\"noopener noreferrer\" target=\"_blank\">10.71760/ukllc-dataset-00325-01</a></td>\n",
       "    </tr>\n",
       "    <tr>\n",
       "      <td id=\"T_7101f_row4_col0\" class=\"data row4 col0\" >Change Log</td>\n",
       "      <td id=\"T_7101f_row4_col1\" class=\"data row4 col1\" > <a href=\"https://api.test.datacite.org/dois/10.71760/ukllc-dataset-00325-01/activities\" rel=\"noopener noreferrer\" target=\"_blank\">10.71760/ukllc-dataset-00325-01/activities</a></td>\n",
       "    </tr>\n",
       "  </tbody>\n",
       "</table>\n"
      ],
      "text/plain": [
       "<pandas.io.formats.style.Styler at 0x2125e3bb2c0>"
      ]
     },
     "execution_count": 4,
     "metadata": {},
     "output_type": "execute_result"
    }
   ],
   "source": [
    "ds.version_history()"
   ]
  },
  {
   "cell_type": "markdown",
   "id": "f8966863",
   "metadata": {},
   "source": [
    "## 3. Documentation"
   ]
  },
  {
   "cell_type": "code",
   "execution_count": 5,
   "id": "395c7771",
   "metadata": {
    "execution": {
     "iopub.execute_input": "2025-07-28T20:38:32.342245Z",
     "iopub.status.busy": "2025-07-28T20:38:32.340243Z",
     "iopub.status.idle": "2025-07-28T20:38:32.372188Z",
     "shell.execute_reply": "2025-07-28T20:38:32.365682Z"
    },
    "tags": [
     "remove-input"
    ]
   },
   "outputs": [
    {
     "data": {
      "text/markdown": [
       "We are currently building a documentation storage system which will host useful documents related to datasets and data owners. We will surface these documents on Guidebook."
      ],
      "text/plain": [
       "<IPython.core.display.Markdown object>"
      ]
     },
     "metadata": {},
     "output_type": "display_data"
    }
   ],
   "source": [
    "ds.documentation()"
   ]
  },
  {
   "cell_type": "markdown",
   "id": "019f4f84",
   "metadata": {},
   "source": [
    "## 4. Useful Syntax"
   ]
  },
  {
   "cell_type": "code",
   "execution_count": 6,
   "id": "206bcb01",
   "metadata": {
    "execution": {
     "iopub.execute_input": "2025-07-28T20:38:32.389633Z",
     "iopub.status.busy": "2025-07-28T20:38:32.388159Z",
     "iopub.status.idle": "2025-07-28T20:38:32.421319Z",
     "shell.execute_reply": "2025-07-28T20:38:32.415270Z"
    },
    "tags": [
     "remove-input"
    ]
   },
   "outputs": [
    {
     "data": {
      "text/markdown": [
       "Below we will include syntax that may be helpful to other researchers in the UK LLC TRE. For longer scripts, we will include a snippet of the code plus a link to Git where you can find the full scripts."
      ],
      "text/plain": [
       "<IPython.core.display.Markdown object>"
      ]
     },
     "metadata": {},
     "output_type": "display_data"
    }
   ],
   "source": [
    "ds.useful_syntax()"
   ]
  }
 ],
 "metadata": {
  "language_info": {
   "codemirror_mode": {
    "name": "ipython",
    "version": 3
   },
   "file_extension": ".py",
   "mimetype": "text/x-python",
   "name": "python",
   "nbconvert_exporter": "python",
   "pygments_lexer": "ipython3",
   "version": "3.12.7"
  }
 },
 "nbformat": 4,
 "nbformat_minor": 5
}
