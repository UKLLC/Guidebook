{
 "cells": [
  {
   "cell_type": "markdown",
   "id": "d1328fd3",
   "metadata": {},
   "source": [
    "# COVID-19 personal experience questionnaire wave 6 (TWINSUK)"
   ]
  },
  {
   "cell_type": "code",
   "execution_count": 1,
   "id": "4227ee41",
   "metadata": {
    "execution": {
     "iopub.execute_input": "2025-07-18T10:36:13.843409Z",
     "iopub.status.busy": "2025-07-18T10:36:13.843409Z",
     "iopub.status.idle": "2025-07-18T10:36:21.189536Z",
     "shell.execute_reply": "2025-07-18T10:36:21.187530Z"
    },
    "tags": [
     "remove-input"
    ]
   },
   "outputs": [
    {
     "data": {
      "text/markdown": [
       ">Last modified: 18 Jul 2025"
      ],
      "text/plain": [
       "<IPython.core.display.Markdown object>"
      ]
     },
     "metadata": {},
     "output_type": "display_data"
    }
   ],
   "source": [
    "\n",
    "import sys\n",
    "import os\n",
    "sys.path.append(os.path.abspath('../../../../scripts/'))\n",
    "from data_doc_helper import LPSDataSet as DS, last_modified\n",
    "API_KEY = os.environ['FASTAPI_KEY']\n",
    "ds = DS(\"TWINSUK\", \"COPE6\")\n",
    "last_modified()\n"
   ]
  },
  {
   "cell_type": "markdown",
   "id": "18831fb2",
   "metadata": {},
   "source": [
    "## 1. Summary"
   ]
  },
  {
   "cell_type": "code",
   "execution_count": 2,
   "id": "bf1cb76c",
   "metadata": {
    "execution": {
     "iopub.execute_input": "2025-07-18T10:36:21.195536Z",
     "iopub.status.busy": "2025-07-18T10:36:21.194538Z",
     "iopub.status.idle": "2025-07-18T10:36:21.204744Z",
     "shell.execute_reply": "2025-07-18T10:36:21.203738Z"
    },
    "tags": [
     "remove-input"
    ]
   },
   "outputs": [
    {
     "data": {
      "text/markdown": [
       "All participants with a valid email address were sent a questionnaire if they were current members of the TwinsUK registry. The questionnaire aims at  measuring social, economic and health factors, prior to and during the COVID-19 pandemic. Broadly, these measures will be used to investigate predictors and outcomes of the COVID-19 pandemic (e.g. COVID-19 infection), including outcomes such as continuation and recovery of health, wellbeing and day-to-day function."
      ],
      "text/plain": [
       "<IPython.core.display.Markdown object>"
      ]
     },
     "metadata": {},
     "output_type": "display_data"
    }
   ],
   "source": [
    "ds.summary()"
   ]
  },
  {
   "cell_type": "code",
   "execution_count": 3,
   "id": "c2482626",
   "metadata": {
    "execution": {
     "iopub.execute_input": "2025-07-18T10:36:21.211745Z",
     "iopub.status.busy": "2025-07-18T10:36:21.211745Z",
     "iopub.status.idle": "2025-07-18T10:36:22.414556Z",
     "shell.execute_reply": "2025-07-18T10:36:22.412687Z"
    },
    "tags": [
     "remove-input"
    ]
   },
   "outputs": [
    {
     "data": {
      "text/html": [
       "<style type=\"text/css\">\n",
       "#T_06f23 th {\n",
       "  text-align: left;\n",
       "}\n",
       "#T_06f23_row0_col0, #T_06f23_row0_col1, #T_06f23_row1_col0, #T_06f23_row1_col1, #T_06f23_row2_col0, #T_06f23_row2_col1, #T_06f23_row3_col0, #T_06f23_row3_col1, #T_06f23_row4_col0, #T_06f23_row4_col1, #T_06f23_row5_col0, #T_06f23_row5_col1, #T_06f23_row6_col0, #T_06f23_row6_col1, #T_06f23_row7_col0, #T_06f23_row7_col1, #T_06f23_row8_col0, #T_06f23_row8_col1, #T_06f23_row9_col0, #T_06f23_row9_col1, #T_06f23_row10_col0, #T_06f23_row10_col1, #T_06f23_row11_col0, #T_06f23_row11_col1, #T_06f23_row12_col0, #T_06f23_row12_col1 {\n",
       "  text-align: left;\n",
       "}\n",
       "</style>\n",
       "<table id=\"T_06f23\" style=\"font-size: 14px\">\n",
       "  <thead>\n",
       "    <tr>\n",
       "      <th id=\"T_06f23_level0_col0\" class=\"col_heading level0 col0\" >Dataset Descriptor</th>\n",
       "      <th id=\"T_06f23_level0_col1\" class=\"col_heading level0 col1\" >Dataset-specific Information</th>\n",
       "    </tr>\n",
       "  </thead>\n",
       "  <tbody>\n",
       "    <tr>\n",
       "      <td id=\"T_06f23_row0_col0\" class=\"data row0 col0\" >Name of Dataset in TRE</td>\n",
       "      <td id=\"T_06f23_row0_col1\" class=\"data row0 col1\" >TWINSUK_COPE6</td>\n",
       "    </tr>\n",
       "    <tr>\n",
       "      <td id=\"T_06f23_row1_col0\" class=\"data row1 col0\" >Citation (APA)</td>\n",
       "      <td id=\"T_06f23_row1_col1\" class=\"data row1 col1\" >King’s College London, Department of Twin Research & Genetic Epidemiology. (2022). <i>TwinsUK - The UK Adult Twin Registry: COVID-19 personal experience questionnaire wave 6.</i> UK Longitudinal Linkage Collaboration (UK LLC).  <a href=\"https://doi.org/10.83126/ukllc-dataset-00397-01\" rel=\"noopener noreferrer\" target=\"_blank\">https://doi.org/10.83126/ukllc-dataset-00397-01</a></td>\n",
       "    </tr>\n",
       "    <tr>\n",
       "      <td id=\"T_06f23_row2_col0\" class=\"data row2 col0\" >Download Citation</td>\n",
       "      <td id=\"T_06f23_row2_col1\" class=\"data row2 col1\" > <a href=\"https://api.test.datacite.org/application/vnd.citationstyles.csl+json/10.83126/ukllc-dataset-00397-01\" rel=\"noopener noreferrer\" target=\"_blank\">Citeproc JSON</a>&nbsp;&nbsp;&nbsp;&nbsp; <a href=\"https://api.test.datacite.org/application/x-bibtex/10.83126/ukllc-dataset-00397-01\" rel=\"noopener noreferrer\" target=\"_blank\">BibTeX</a>&nbsp;&nbsp;&nbsp;&nbsp; <a href=\"https://api.test.datacite.org/application/x-research-info-systems/10.83126/ukllc-dataset-00397-01\" rel=\"noopener noreferrer\" target=\"_blank\">RIS</a></td>\n",
       "    </tr>\n",
       "    <tr>\n",
       "      <td id=\"T_06f23_row3_col0\" class=\"data row3 col0\" >Series</td>\n",
       "      <td id=\"T_06f23_row3_col1\" class=\"data row3 col1\" > <a href=\"https://guidebook.ukllc.ac.uk/docs/lps/lps%20profiles/TWINSUK\">TwinsUK - The UK Adult Twin Registry</a></td>\n",
       "    </tr>\n",
       "    <tr>\n",
       "      <td id=\"T_06f23_row4_col0\" class=\"data row4 col0\" >Owner</td>\n",
       "      <td id=\"T_06f23_row4_col1\" class=\"data row4 col1\" >King's College London</td>\n",
       "    </tr>\n",
       "    <tr>\n",
       "      <td id=\"T_06f23_row5_col0\" class=\"data row5 col0\" >Temporal Coverage</td>\n",
       "      <td id=\"T_06f23_row5_col1\" class=\"data row5 col1\" >04/2022 - 05/2022</td>\n",
       "    </tr>\n",
       "    <tr>\n",
       "      <td id=\"T_06f23_row6_col0\" class=\"data row6 col0\" >Keywords</td>\n",
       "      <td id=\"T_06f23_row6_col1\" class=\"data row6 col1\" >COVIDW6,Mental Health,Physical Health,Sociodemographics,Household,Vaccination</td>\n",
       "    </tr>\n",
       "    <tr>\n",
       "      <td id=\"T_06f23_row7_col0\" class=\"data row7 col0\" >Participants Invited</td>\n",
       "      <td id=\"T_06f23_row7_col1\" class=\"data row7 col1\" >7883</td>\n",
       "    </tr>\n",
       "    <tr>\n",
       "      <td id=\"T_06f23_row8_col0\" class=\"data row8 col0\" >Participant Count</td>\n",
       "      <td id=\"T_06f23_row8_col1\" class=\"data row8 col1\" >4109</td>\n",
       "    </tr>\n",
       "    <tr>\n",
       "      <td id=\"T_06f23_row9_col0\" class=\"data row9 col0\" >Number of variables</td>\n",
       "      <td id=\"T_06f23_row9_col1\" class=\"data row9 col1\" >239</td>\n",
       "    </tr>\n",
       "    <tr>\n",
       "      <td id=\"T_06f23_row10_col0\" class=\"data row10 col0\" >Number of observations</td>\n",
       "      <td id=\"T_06f23_row10_col1\" class=\"data row10 col1\" >4109</td>\n",
       "    </tr>\n",
       "    <tr>\n",
       "      <td id=\"T_06f23_row11_col0\" class=\"data row11 col0\" >Specific Restrictions to Data Use</td>\n",
       "      <td id=\"T_06f23_row11_col1\" class=\"data row11 col1\" >None</td>\n",
       "    </tr>\n",
       "    <tr>\n",
       "      <td id=\"T_06f23_row12_col0\" class=\"data row12 col0\" >Build a Data Request</td>\n",
       "      <td id=\"T_06f23_row12_col1\" class=\"data row12 col1\" > <a href=\"https://explore.ukllc.ac.uk/\" rel=\"noopener noreferrer\" target=\"_blank\">https://explore.ukllc.ac.uk/</a></td>\n",
       "    </tr>\n",
       "  </tbody>\n",
       "</table>\n"
      ],
      "text/plain": [
       "<pandas.io.formats.style.Styler at 0x2860f5607d0>"
      ]
     },
     "execution_count": 3,
     "metadata": {},
     "output_type": "execute_result"
    }
   ],
   "source": [
    "ds.info_table()"
   ]
  },
  {
   "cell_type": "markdown",
   "id": "5f3a7e43",
   "metadata": {},
   "source": [
    "## 2. Version History"
   ]
  },
  {
   "cell_type": "code",
   "execution_count": 4,
   "id": "2b1daa20",
   "metadata": {
    "execution": {
     "iopub.execute_input": "2025-07-18T10:36:22.421509Z",
     "iopub.status.busy": "2025-07-18T10:36:22.421509Z",
     "iopub.status.idle": "2025-07-18T10:36:25.412997Z",
     "shell.execute_reply": "2025-07-18T10:36:25.410986Z"
    },
    "tags": [
     "remove-input"
    ]
   },
   "outputs": [
    {
     "data": {
      "text/html": [
       "<style type=\"text/css\">\n",
       "#T_04eb7 th {\n",
       "  text-align: left;\n",
       "}\n",
       "#T_04eb7_row0_col0, #T_04eb7_row0_col1, #T_04eb7_row1_col0, #T_04eb7_row1_col1, #T_04eb7_row2_col0, #T_04eb7_row2_col1, #T_04eb7_row3_col0, #T_04eb7_row3_col1, #T_04eb7_row4_col0, #T_04eb7_row4_col1 {\n",
       "  text-align: left;\n",
       "}\n",
       "</style>\n",
       "<table id=\"T_04eb7\" style=\"font-size: 14px\">\n",
       "  <thead>\n",
       "    <tr>\n",
       "      <th id=\"T_04eb7_level0_col0\" class=\"col_heading level0 col0\" >Version</th>\n",
       "      <th id=\"T_04eb7_level0_col1\" class=\"col_heading level0 col1\" >1</th>\n",
       "    </tr>\n",
       "  </thead>\n",
       "  <tbody>\n",
       "    <tr>\n",
       "      <td id=\"T_04eb7_row0_col0\" class=\"data row0 col0\" >Version Date</td>\n",
       "      <td id=\"T_04eb7_row0_col1\" class=\"data row0 col1\" >10 Aug 2022</td>\n",
       "    </tr>\n",
       "    <tr>\n",
       "      <td id=\"T_04eb7_row1_col0\" class=\"data row1 col0\" >Number of Variables</td>\n",
       "      <td id=\"T_04eb7_row1_col1\" class=\"data row1 col1\" >239</td>\n",
       "    </tr>\n",
       "    <tr>\n",
       "      <td id=\"T_04eb7_row2_col0\" class=\"data row2 col0\" >Number of Observations</td>\n",
       "      <td id=\"T_04eb7_row2_col1\" class=\"data row2 col1\" >4109</td>\n",
       "    </tr>\n",
       "    <tr>\n",
       "      <td id=\"T_04eb7_row3_col0\" class=\"data row3 col0\" >DOI</td>\n",
       "      <td id=\"T_04eb7_row3_col1\" class=\"data row3 col1\" > <a href=\"https://doi.org/10.83126/ukllc-dataset-00397-01\" rel=\"noopener noreferrer\" target=\"_blank\">10.83126/ukllc-dataset-00397-01</a></td>\n",
       "    </tr>\n",
       "    <tr>\n",
       "      <td id=\"T_04eb7_row4_col0\" class=\"data row4 col0\" >Change Log</td>\n",
       "      <td id=\"T_04eb7_row4_col1\" class=\"data row4 col1\" > <a href=\"https://api.test.datacite.org/dois/10.83126/ukllc-dataset-00397-01/activities\" rel=\"noopener noreferrer\" target=\"_blank\">10.83126/ukllc-dataset-00397-01/activities</a></td>\n",
       "    </tr>\n",
       "  </tbody>\n",
       "</table>\n"
      ],
      "text/plain": [
       "<pandas.io.formats.style.Styler at 0x2861506b440>"
      ]
     },
     "execution_count": 4,
     "metadata": {},
     "output_type": "execute_result"
    }
   ],
   "source": [
    "ds.version_history()"
   ]
  },
  {
   "cell_type": "markdown",
   "id": "57bcd290",
   "metadata": {},
   "source": [
    "## 3. Documentation"
   ]
  },
  {
   "cell_type": "code",
   "execution_count": 5,
   "id": "7293a18b",
   "metadata": {
    "execution": {
     "iopub.execute_input": "2025-07-18T10:36:25.419992Z",
     "iopub.status.busy": "2025-07-18T10:36:25.418992Z",
     "iopub.status.idle": "2025-07-18T10:36:25.430479Z",
     "shell.execute_reply": "2025-07-18T10:36:25.428706Z"
    },
    "tags": [
     "remove-input"
    ]
   },
   "outputs": [
    {
     "data": {
      "text/markdown": [
       "We are currently building a documentation storage system which will host useful documents related to datasets and data owners. We will surface these documents on Guidebook."
      ],
      "text/plain": [
       "<IPython.core.display.Markdown object>"
      ]
     },
     "metadata": {},
     "output_type": "display_data"
    }
   ],
   "source": [
    "ds.documentation()"
   ]
  },
  {
   "cell_type": "markdown",
   "id": "02183676",
   "metadata": {},
   "source": [
    "## 4. Useful Syntax"
   ]
  },
  {
   "cell_type": "code",
   "execution_count": 6,
   "id": "c9fd4241",
   "metadata": {
    "execution": {
     "iopub.execute_input": "2025-07-18T10:36:25.435479Z",
     "iopub.status.busy": "2025-07-18T10:36:25.435479Z",
     "iopub.status.idle": "2025-07-18T10:36:25.446001Z",
     "shell.execute_reply": "2025-07-18T10:36:25.444481Z"
    },
    "tags": [
     "remove-input"
    ]
   },
   "outputs": [
    {
     "data": {
      "text/markdown": [
       "Below we will include syntax that may be helpful to other researchers in the UK LLC TRE. For longer scripts, we will include a snippet of the code plus a link to Git where you can find the full scripts."
      ],
      "text/plain": [
       "<IPython.core.display.Markdown object>"
      ]
     },
     "metadata": {},
     "output_type": "display_data"
    }
   ],
   "source": [
    "ds.useful_syntax()"
   ]
  }
 ],
 "metadata": {
  "language_info": {
   "codemirror_mode": {
    "name": "ipython",
    "version": 3
   },
   "file_extension": ".py",
   "mimetype": "text/x-python",
   "name": "python",
   "nbconvert_exporter": "python",
   "pygments_lexer": "ipython3",
   "version": "3.12.7"
  }
 },
 "nbformat": 4,
 "nbformat_minor": 5
}
