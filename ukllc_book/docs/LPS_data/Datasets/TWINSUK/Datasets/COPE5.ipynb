{
 "cells": [
  {
   "cell_type": "markdown",
   "id": "0bb8d888",
   "metadata": {},
   "source": [
    "# COVID-19 personal experience questionnaire wave 5 (TWINSUK)"
   ]
  },
  {
   "cell_type": "code",
   "execution_count": 1,
   "id": "e2909b78",
   "metadata": {
    "execution": {
     "iopub.execute_input": "2025-07-18T10:36:00.591212Z",
     "iopub.status.busy": "2025-07-18T10:36:00.591212Z",
     "iopub.status.idle": "2025-07-18T10:36:07.759011Z",
     "shell.execute_reply": "2025-07-18T10:36:07.757989Z"
    },
    "tags": [
     "remove-input"
    ]
   },
   "outputs": [
    {
     "data": {
      "text/markdown": [
       ">Last modified: 18 Jul 2025"
      ],
      "text/plain": [
       "<IPython.core.display.Markdown object>"
      ]
     },
     "metadata": {},
     "output_type": "display_data"
    }
   ],
   "source": [
    "\n",
    "import sys\n",
    "import os\n",
    "sys.path.append(os.path.abspath('../../../../scripts/'))\n",
    "from data_doc_helper import LPSDataSet as DS, last_modified\n",
    "API_KEY = os.environ['FASTAPI_KEY']\n",
    "ds = DS(\"TWINSUK\", \"COPE5\")\n",
    "last_modified()\n"
   ]
  },
  {
   "cell_type": "markdown",
   "id": "3aea7e5e",
   "metadata": {},
   "source": [
    "## 1. Summary"
   ]
  },
  {
   "cell_type": "code",
   "execution_count": 2,
   "id": "3e0e9874",
   "metadata": {
    "execution": {
     "iopub.execute_input": "2025-07-18T10:36:07.762998Z",
     "iopub.status.busy": "2025-07-18T10:36:07.762998Z",
     "iopub.status.idle": "2025-07-18T10:36:07.768999Z",
     "shell.execute_reply": "2025-07-18T10:36:07.768999Z"
    },
    "tags": [
     "remove-input"
    ]
   },
   "outputs": [
    {
     "data": {
      "text/markdown": [
       "All participants with a valid email address were sent a questionnaire if they were current members of the TwinsUK registry, live in the UK and signed up for a postal blood collection/antibody testing study . The questionnaire aims at  measuring social, economic and health factors, prior to and during the COVID-19 pandemic. Broadly, these measures will be used to investigate predictors and outcomes of the COVID-19 pandemic (e.g. COVID-19 infection), including outcomes such as continuation and recovery of health, wellbeing and day-to-day function."
      ],
      "text/plain": [
       "<IPython.core.display.Markdown object>"
      ]
     },
     "metadata": {},
     "output_type": "display_data"
    }
   ],
   "source": [
    "ds.summary()"
   ]
  },
  {
   "cell_type": "code",
   "execution_count": 3,
   "id": "cdef0dfa",
   "metadata": {
    "execution": {
     "iopub.execute_input": "2025-07-18T10:36:07.774089Z",
     "iopub.status.busy": "2025-07-18T10:36:07.773089Z",
     "iopub.status.idle": "2025-07-18T10:36:08.916268Z",
     "shell.execute_reply": "2025-07-18T10:36:08.914262Z"
    },
    "tags": [
     "remove-input"
    ]
   },
   "outputs": [
    {
     "data": {
      "text/html": [
       "<style type=\"text/css\">\n",
       "#T_73a3b th {\n",
       "  text-align: left;\n",
       "}\n",
       "#T_73a3b_row0_col0, #T_73a3b_row0_col1, #T_73a3b_row1_col0, #T_73a3b_row1_col1, #T_73a3b_row2_col0, #T_73a3b_row2_col1, #T_73a3b_row3_col0, #T_73a3b_row3_col1, #T_73a3b_row4_col0, #T_73a3b_row4_col1, #T_73a3b_row5_col0, #T_73a3b_row5_col1, #T_73a3b_row6_col0, #T_73a3b_row6_col1, #T_73a3b_row7_col0, #T_73a3b_row7_col1, #T_73a3b_row8_col0, #T_73a3b_row8_col1, #T_73a3b_row9_col0, #T_73a3b_row9_col1, #T_73a3b_row10_col0, #T_73a3b_row10_col1, #T_73a3b_row11_col0, #T_73a3b_row11_col1, #T_73a3b_row12_col0, #T_73a3b_row12_col1 {\n",
       "  text-align: left;\n",
       "}\n",
       "</style>\n",
       "<table id=\"T_73a3b\" style=\"font-size: 14px\">\n",
       "  <thead>\n",
       "    <tr>\n",
       "      <th id=\"T_73a3b_level0_col0\" class=\"col_heading level0 col0\" >Dataset Descriptor</th>\n",
       "      <th id=\"T_73a3b_level0_col1\" class=\"col_heading level0 col1\" >Dataset-specific Information</th>\n",
       "    </tr>\n",
       "  </thead>\n",
       "  <tbody>\n",
       "    <tr>\n",
       "      <td id=\"T_73a3b_row0_col0\" class=\"data row0 col0\" >Name of Dataset in TRE</td>\n",
       "      <td id=\"T_73a3b_row0_col1\" class=\"data row0 col1\" >TWINSUK_COPE5</td>\n",
       "    </tr>\n",
       "    <tr>\n",
       "      <td id=\"T_73a3b_row1_col0\" class=\"data row1 col0\" >Citation (APA)</td>\n",
       "      <td id=\"T_73a3b_row1_col1\" class=\"data row1 col1\" >King’s College London, Department of Twin Research & Genetic Epidemiology. (2022). <i>TwinsUK - The UK Adult Twin Registry: COVID-19 personal experience questionnaire wave 5.</i> UK Longitudinal Linkage Collaboration (UK LLC).  <a href=\"https://doi.org/10.83126/ukllc-dataset-00396-01\" rel=\"noopener noreferrer\" target=\"_blank\">https://doi.org/10.83126/ukllc-dataset-00396-01</a></td>\n",
       "    </tr>\n",
       "    <tr>\n",
       "      <td id=\"T_73a3b_row2_col0\" class=\"data row2 col0\" >Download Citation</td>\n",
       "      <td id=\"T_73a3b_row2_col1\" class=\"data row2 col1\" > <a href=\"https://api.test.datacite.org/application/vnd.citationstyles.csl+json/10.83126/ukllc-dataset-00396-01\" rel=\"noopener noreferrer\" target=\"_blank\">Citeproc JSON</a>&nbsp;&nbsp;&nbsp;&nbsp; <a href=\"https://api.test.datacite.org/application/x-bibtex/10.83126/ukllc-dataset-00396-01\" rel=\"noopener noreferrer\" target=\"_blank\">BibTeX</a>&nbsp;&nbsp;&nbsp;&nbsp; <a href=\"https://api.test.datacite.org/application/x-research-info-systems/10.83126/ukllc-dataset-00396-01\" rel=\"noopener noreferrer\" target=\"_blank\">RIS</a></td>\n",
       "    </tr>\n",
       "    <tr>\n",
       "      <td id=\"T_73a3b_row3_col0\" class=\"data row3 col0\" >Series</td>\n",
       "      <td id=\"T_73a3b_row3_col1\" class=\"data row3 col1\" > <a href=\"https://guidebook.ukllc.ac.uk/docs/lps/lps%20profiles/TWINSUK\">TwinsUK - The UK Adult Twin Registry</a></td>\n",
       "    </tr>\n",
       "    <tr>\n",
       "      <td id=\"T_73a3b_row4_col0\" class=\"data row4 col0\" >Owner</td>\n",
       "      <td id=\"T_73a3b_row4_col1\" class=\"data row4 col1\" >King's College London</td>\n",
       "    </tr>\n",
       "    <tr>\n",
       "      <td id=\"T_73a3b_row5_col0\" class=\"data row5 col0\" >Temporal Coverage</td>\n",
       "      <td id=\"T_73a3b_row5_col1\" class=\"data row5 col1\" >11/2021 - 02/2022</td>\n",
       "    </tr>\n",
       "    <tr>\n",
       "      <td id=\"T_73a3b_row6_col0\" class=\"data row6 col0\" >Keywords</td>\n",
       "      <td id=\"T_73a3b_row6_col1\" class=\"data row6 col1\" >COVIDW5,Mental Health,Physical Health,Sociodemographics,Vaccination</td>\n",
       "    </tr>\n",
       "    <tr>\n",
       "      <td id=\"T_73a3b_row7_col0\" class=\"data row7 col0\" >Participants Invited</td>\n",
       "      <td id=\"T_73a3b_row7_col1\" class=\"data row7 col1\" >4773</td>\n",
       "    </tr>\n",
       "    <tr>\n",
       "      <td id=\"T_73a3b_row8_col0\" class=\"data row8 col0\" >Participant Count</td>\n",
       "      <td id=\"T_73a3b_row8_col1\" class=\"data row8 col1\" >3456</td>\n",
       "    </tr>\n",
       "    <tr>\n",
       "      <td id=\"T_73a3b_row9_col0\" class=\"data row9 col0\" >Number of variables</td>\n",
       "      <td id=\"T_73a3b_row9_col1\" class=\"data row9 col1\" >178</td>\n",
       "    </tr>\n",
       "    <tr>\n",
       "      <td id=\"T_73a3b_row10_col0\" class=\"data row10 col0\" >Number of observations</td>\n",
       "      <td id=\"T_73a3b_row10_col1\" class=\"data row10 col1\" >3462</td>\n",
       "    </tr>\n",
       "    <tr>\n",
       "      <td id=\"T_73a3b_row11_col0\" class=\"data row11 col0\" >Specific Restrictions to Data Use</td>\n",
       "      <td id=\"T_73a3b_row11_col1\" class=\"data row11 col1\" >None</td>\n",
       "    </tr>\n",
       "    <tr>\n",
       "      <td id=\"T_73a3b_row12_col0\" class=\"data row12 col0\" >Build a Data Request</td>\n",
       "      <td id=\"T_73a3b_row12_col1\" class=\"data row12 col1\" > <a href=\"https://explore.ukllc.ac.uk/\" rel=\"noopener noreferrer\" target=\"_blank\">https://explore.ukllc.ac.uk/</a></td>\n",
       "    </tr>\n",
       "  </tbody>\n",
       "</table>\n"
      ],
      "text/plain": [
       "<pandas.io.formats.style.Styler at 0x2185fa68a10>"
      ]
     },
     "execution_count": 3,
     "metadata": {},
     "output_type": "execute_result"
    }
   ],
   "source": [
    "ds.info_table()"
   ]
  },
  {
   "cell_type": "markdown",
   "id": "7f90701a",
   "metadata": {},
   "source": [
    "## 2. Version History"
   ]
  },
  {
   "cell_type": "code",
   "execution_count": 4,
   "id": "d13edeb8",
   "metadata": {
    "execution": {
     "iopub.execute_input": "2025-07-18T10:36:08.922268Z",
     "iopub.status.busy": "2025-07-18T10:36:08.922268Z",
     "iopub.status.idle": "2025-07-18T10:36:11.188053Z",
     "shell.execute_reply": "2025-07-18T10:36:11.186536Z"
    },
    "tags": [
     "remove-input"
    ]
   },
   "outputs": [
    {
     "data": {
      "text/html": [
       "<style type=\"text/css\">\n",
       "#T_9fc4f th {\n",
       "  text-align: left;\n",
       "}\n",
       "#T_9fc4f_row0_col0, #T_9fc4f_row0_col1, #T_9fc4f_row1_col0, #T_9fc4f_row1_col1, #T_9fc4f_row2_col0, #T_9fc4f_row2_col1, #T_9fc4f_row3_col0, #T_9fc4f_row3_col1, #T_9fc4f_row4_col0, #T_9fc4f_row4_col1 {\n",
       "  text-align: left;\n",
       "}\n",
       "</style>\n",
       "<table id=\"T_9fc4f\" style=\"font-size: 14px\">\n",
       "  <thead>\n",
       "    <tr>\n",
       "      <th id=\"T_9fc4f_level0_col0\" class=\"col_heading level0 col0\" >Version</th>\n",
       "      <th id=\"T_9fc4f_level0_col1\" class=\"col_heading level0 col1\" >1</th>\n",
       "    </tr>\n",
       "  </thead>\n",
       "  <tbody>\n",
       "    <tr>\n",
       "      <td id=\"T_9fc4f_row0_col0\" class=\"data row0 col0\" >Version Date</td>\n",
       "      <td id=\"T_9fc4f_row0_col1\" class=\"data row0 col1\" >25 Oct 2022</td>\n",
       "    </tr>\n",
       "    <tr>\n",
       "      <td id=\"T_9fc4f_row1_col0\" class=\"data row1 col0\" >Number of Variables</td>\n",
       "      <td id=\"T_9fc4f_row1_col1\" class=\"data row1 col1\" >178</td>\n",
       "    </tr>\n",
       "    <tr>\n",
       "      <td id=\"T_9fc4f_row2_col0\" class=\"data row2 col0\" >Number of Observations</td>\n",
       "      <td id=\"T_9fc4f_row2_col1\" class=\"data row2 col1\" >3462</td>\n",
       "    </tr>\n",
       "    <tr>\n",
       "      <td id=\"T_9fc4f_row3_col0\" class=\"data row3 col0\" >DOI</td>\n",
       "      <td id=\"T_9fc4f_row3_col1\" class=\"data row3 col1\" > <a href=\"https://doi.org/10.83126/ukllc-dataset-00396-01\" rel=\"noopener noreferrer\" target=\"_blank\">10.83126/ukllc-dataset-00396-01</a></td>\n",
       "    </tr>\n",
       "    <tr>\n",
       "      <td id=\"T_9fc4f_row4_col0\" class=\"data row4 col0\" >Change Log</td>\n",
       "      <td id=\"T_9fc4f_row4_col1\" class=\"data row4 col1\" > <a href=\"https://api.test.datacite.org/dois/10.83126/ukllc-dataset-00396-01/activities\" rel=\"noopener noreferrer\" target=\"_blank\">10.83126/ukllc-dataset-00396-01/activities</a></td>\n",
       "    </tr>\n",
       "  </tbody>\n",
       "</table>\n"
      ],
      "text/plain": [
       "<pandas.io.formats.style.Styler at 0x2185baa03b0>"
      ]
     },
     "execution_count": 4,
     "metadata": {},
     "output_type": "execute_result"
    }
   ],
   "source": [
    "ds.version_history()"
   ]
  },
  {
   "cell_type": "markdown",
   "id": "5585abda",
   "metadata": {},
   "source": [
    "## 3. Documentation"
   ]
  },
  {
   "cell_type": "code",
   "execution_count": 5,
   "id": "05b9e128",
   "metadata": {
    "execution": {
     "iopub.execute_input": "2025-07-18T10:36:11.196063Z",
     "iopub.status.busy": "2025-07-18T10:36:11.195058Z",
     "iopub.status.idle": "2025-07-18T10:36:11.205571Z",
     "shell.execute_reply": "2025-07-18T10:36:11.204560Z"
    },
    "tags": [
     "remove-input"
    ]
   },
   "outputs": [
    {
     "data": {
      "text/markdown": [
       "We are currently building a documentation storage system which will host useful documents related to datasets and data owners. We will surface these documents on Guidebook."
      ],
      "text/plain": [
       "<IPython.core.display.Markdown object>"
      ]
     },
     "metadata": {},
     "output_type": "display_data"
    }
   ],
   "source": [
    "ds.documentation()"
   ]
  },
  {
   "cell_type": "markdown",
   "id": "733f5362",
   "metadata": {},
   "source": [
    "## 4. Useful Syntax"
   ]
  },
  {
   "cell_type": "code",
   "execution_count": 6,
   "id": "d354ee91",
   "metadata": {
    "execution": {
     "iopub.execute_input": "2025-07-18T10:36:11.210083Z",
     "iopub.status.busy": "2025-07-18T10:36:11.209083Z",
     "iopub.status.idle": "2025-07-18T10:36:11.219554Z",
     "shell.execute_reply": "2025-07-18T10:36:11.217548Z"
    },
    "tags": [
     "remove-input"
    ]
   },
   "outputs": [
    {
     "data": {
      "text/markdown": [
       "Below we will include syntax that may be helpful to other researchers in the UK LLC TRE. For longer scripts, we will include a snippet of the code plus a link to Git where you can find the full scripts."
      ],
      "text/plain": [
       "<IPython.core.display.Markdown object>"
      ]
     },
     "metadata": {},
     "output_type": "display_data"
    }
   ],
   "source": [
    "ds.useful_syntax()"
   ]
  }
 ],
 "metadata": {
  "language_info": {
   "codemirror_mode": {
    "name": "ipython",
    "version": 3
   },
   "file_extension": ".py",
   "mimetype": "text/x-python",
   "name": "python",
   "nbconvert_exporter": "python",
   "pygments_lexer": "ipython3",
   "version": "3.12.7"
  }
 },
 "nbformat": 4,
 "nbformat_minor": 5
}
