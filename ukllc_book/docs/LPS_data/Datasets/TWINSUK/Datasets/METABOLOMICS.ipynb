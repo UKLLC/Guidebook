{
 "cells": [
  {
   "cell_type": "markdown",
   "id": "12222a2d",
   "metadata": {},
   "source": [
    "# Serum metabolomics 1994- 2014 (TWINSUK)"
   ]
  },
  {
   "cell_type": "code",
   "execution_count": 1,
   "id": "e3e42f31",
   "metadata": {
    "execution": {
     "iopub.execute_input": "2025-07-28T20:41:14.917744Z",
     "iopub.status.busy": "2025-07-28T20:41:14.917744Z",
     "iopub.status.idle": "2025-07-28T20:41:27.440075Z",
     "shell.execute_reply": "2025-07-28T20:41:27.439059Z"
    },
    "tags": [
     "remove-input"
    ]
   },
   "outputs": [
    {
     "data": {
      "text/markdown": [
       ">Last modified: 28 Jul 2025"
      ],
      "text/plain": [
       "<IPython.core.display.Markdown object>"
      ]
     },
     "metadata": {},
     "output_type": "display_data"
    }
   ],
   "source": [
    "\n",
    "import sys\n",
    "import os\n",
    "sys.path.append(os.path.abspath('../../../../scripts/'))\n",
    "from data_doc_helper import LPSDataSet as DS, last_modified\n",
    "API_KEY = os.environ['FASTAPI_KEY']\n",
    "ds = DS(\"TWINSUK\", \"METABOLOMICS\")\n",
    "last_modified()\n"
   ]
  },
  {
   "cell_type": "markdown",
   "id": "e6b9e737",
   "metadata": {},
   "source": [
    "## 1. Summary"
   ]
  },
  {
   "cell_type": "code",
   "execution_count": 2,
   "id": "22c68e0c",
   "metadata": {
    "execution": {
     "iopub.execute_input": "2025-07-28T20:41:27.448656Z",
     "iopub.status.busy": "2025-07-28T20:41:27.447647Z",
     "iopub.status.idle": "2025-07-28T20:41:27.458278Z",
     "shell.execute_reply": "2025-07-28T20:41:27.456807Z"
    },
    "tags": [
     "remove-input"
    ]
   },
   "outputs": [
    {
     "data": {
      "text/markdown": [
       "Raw metabolomics data for serum sample collected for up to 3 time-points. The samples were analysed in 2016 by Brainshake Ltd., rebranded Nightingale using a high-throughput NMR metabolomics platform."
      ],
      "text/plain": [
       "<IPython.core.display.Markdown object>"
      ]
     },
     "metadata": {},
     "output_type": "display_data"
    }
   ],
   "source": [
    "ds.summary()"
   ]
  },
  {
   "cell_type": "code",
   "execution_count": 3,
   "id": "7765d9f8",
   "metadata": {
    "execution": {
     "iopub.execute_input": "2025-07-28T20:41:27.465414Z",
     "iopub.status.busy": "2025-07-28T20:41:27.464330Z",
     "iopub.status.idle": "2025-07-28T20:41:29.023802Z",
     "shell.execute_reply": "2025-07-28T20:41:29.021901Z"
    },
    "tags": [
     "remove-input"
    ]
   },
   "outputs": [
    {
     "data": {
      "text/html": [
       "<style type=\"text/css\">\n",
       "#T_a5126 th {\n",
       "  text-align: left;\n",
       "}\n",
       "#T_a5126_row0_col0, #T_a5126_row0_col1, #T_a5126_row1_col0, #T_a5126_row1_col1, #T_a5126_row2_col0, #T_a5126_row2_col1, #T_a5126_row3_col0, #T_a5126_row3_col1, #T_a5126_row4_col0, #T_a5126_row4_col1, #T_a5126_row5_col0, #T_a5126_row5_col1, #T_a5126_row6_col0, #T_a5126_row6_col1, #T_a5126_row7_col0, #T_a5126_row7_col1, #T_a5126_row8_col0, #T_a5126_row8_col1, #T_a5126_row9_col0, #T_a5126_row9_col1, #T_a5126_row10_col0, #T_a5126_row10_col1, #T_a5126_row11_col0, #T_a5126_row11_col1, #T_a5126_row12_col0, #T_a5126_row12_col1 {\n",
       "  text-align: left;\n",
       "}\n",
       "</style>\n",
       "<table id=\"T_a5126\" style=\"font-size: 14px\">\n",
       "  <thead>\n",
       "    <tr>\n",
       "      <th id=\"T_a5126_level0_col0\" class=\"col_heading level0 col0\" >Dataset Descriptor</th>\n",
       "      <th id=\"T_a5126_level0_col1\" class=\"col_heading level0 col1\" >Dataset-specific Information</th>\n",
       "    </tr>\n",
       "  </thead>\n",
       "  <tbody>\n",
       "    <tr>\n",
       "      <td id=\"T_a5126_row0_col0\" class=\"data row0 col0\" >Name of Dataset in TRE</td>\n",
       "      <td id=\"T_a5126_row0_col1\" class=\"data row0 col1\" >TWINSUK_METABOLOMICS</td>\n",
       "    </tr>\n",
       "    <tr>\n",
       "      <td id=\"T_a5126_row1_col0\" class=\"data row1 col0\" >Citation (APA)</td>\n",
       "      <td id=\"T_a5126_row1_col1\" class=\"data row1 col1\" >King's College London, Department of Twin Research & Genetic Epidemiology. (2022). <i>TwinsUK - The UK Adult Twin Registry: Serum metabolomics 1994- 2014.</i> UK Longitudinal Linkage Collaboration (UK LLC).  <a href=\"https://doi.org/10.71760/ukllc-dataset-00333-01\" rel=\"noopener noreferrer\" target=\"_blank\">https://doi.org/10.71760/ukllc-dataset-00333-01</a></td>\n",
       "    </tr>\n",
       "    <tr>\n",
       "      <td id=\"T_a5126_row2_col0\" class=\"data row2 col0\" >Download Citation</td>\n",
       "      <td id=\"T_a5126_row2_col1\" class=\"data row2 col1\" > <a href=\"https://api.datacite.org/application/vnd.citationstyles.csl+json/10.71760/ukllc-dataset-00333-01\" rel=\"noopener noreferrer\" target=\"_blank\">Citeproc JSON</a>&nbsp;&nbsp;&nbsp;&nbsp; <a href=\"https://api.datacite.org/application/x-bibtex/10.71760/ukllc-dataset-00333-01\" rel=\"noopener noreferrer\" target=\"_blank\">BibTeX</a>&nbsp;&nbsp;&nbsp;&nbsp; <a href=\"https://api.datacite.org/application/x-research-info-systems/10.71760/ukllc-dataset-00333-01\" rel=\"noopener noreferrer\" target=\"_blank\">RIS</a></td>\n",
       "    </tr>\n",
       "    <tr>\n",
       "      <td id=\"T_a5126_row3_col0\" class=\"data row3 col0\" >Series</td>\n",
       "      <td id=\"T_a5126_row3_col1\" class=\"data row3 col1\" > <a href=\"https://guidebook.ukllc.ac.uk/docs/lps_data/lps%20profiles/TWINSUK\">TwinsUK - The UK Adult Twin Registry</a></td>\n",
       "    </tr>\n",
       "    <tr>\n",
       "      <td id=\"T_a5126_row4_col0\" class=\"data row4 col0\" >Owner</td>\n",
       "      <td id=\"T_a5126_row4_col1\" class=\"data row4 col1\" >King's College London</td>\n",
       "    </tr>\n",
       "    <tr>\n",
       "      <td id=\"T_a5126_row5_col0\" class=\"data row5 col0\" >Temporal Coverage</td>\n",
       "      <td id=\"T_a5126_row5_col1\" class=\"data row5 col1\" >01/1996 - 12/2014</td>\n",
       "    </tr>\n",
       "    <tr>\n",
       "      <td id=\"T_a5126_row6_col0\" class=\"data row6 col0\" >Keywords</td>\n",
       "      <td id=\"T_a5126_row6_col1\" class=\"data row6 col1\" >Metabolomics,Brainshake,Nightingale,Metabolites,Raw,NMR</td>\n",
       "    </tr>\n",
       "    <tr>\n",
       "      <td id=\"T_a5126_row7_col0\" class=\"data row7 col0\" >Participants Invited</td>\n",
       "      <td id=\"T_a5126_row7_col1\" class=\"data row7 col1\" >2066</td>\n",
       "    </tr>\n",
       "    <tr>\n",
       "      <td id=\"T_a5126_row8_col0\" class=\"data row8 col0\" >Participant Count</td>\n",
       "      <td id=\"T_a5126_row8_col1\" class=\"data row8 col1\" >2066</td>\n",
       "    </tr>\n",
       "    <tr>\n",
       "      <td id=\"T_a5126_row9_col0\" class=\"data row9 col0\" >Number of variables</td>\n",
       "      <td id=\"T_a5126_row9_col1\" class=\"data row9 col1\" >238</td>\n",
       "    </tr>\n",
       "    <tr>\n",
       "      <td id=\"T_a5126_row10_col0\" class=\"data row10 col0\" >Number of observations</td>\n",
       "      <td id=\"T_a5126_row10_col1\" class=\"data row10 col1\" >4830</td>\n",
       "    </tr>\n",
       "    <tr>\n",
       "      <td id=\"T_a5126_row11_col0\" class=\"data row11 col0\" >Specific Restrictions to Data Use</td>\n",
       "      <td id=\"T_a5126_row11_col1\" class=\"data row11 col1\" >None</td>\n",
       "    </tr>\n",
       "    <tr>\n",
       "      <td id=\"T_a5126_row12_col0\" class=\"data row12 col0\" >Build a Data Request</td>\n",
       "      <td id=\"T_a5126_row12_col1\" class=\"data row12 col1\" > <a href=\"https://explore.ukllc.ac.uk/\" rel=\"noopener noreferrer\" target=\"_blank\">https://explore.ukllc.ac.uk/</a></td>\n",
       "    </tr>\n",
       "  </tbody>\n",
       "</table>\n"
      ],
      "text/plain": [
       "<pandas.io.formats.style.Styler at 0x10abb970050>"
      ]
     },
     "execution_count": 3,
     "metadata": {},
     "output_type": "execute_result"
    }
   ],
   "source": [
    "ds.info_table()"
   ]
  },
  {
   "cell_type": "markdown",
   "id": "df579f2b",
   "metadata": {},
   "source": [
    "## 2. Version History"
   ]
  },
  {
   "cell_type": "code",
   "execution_count": 4,
   "id": "c6404ef9",
   "metadata": {
    "execution": {
     "iopub.execute_input": "2025-07-28T20:41:29.030917Z",
     "iopub.status.busy": "2025-07-28T20:41:29.030917Z",
     "iopub.status.idle": "2025-07-28T20:41:34.520796Z",
     "shell.execute_reply": "2025-07-28T20:41:34.510756Z"
    },
    "tags": [
     "remove-input"
    ]
   },
   "outputs": [
    {
     "data": {
      "text/html": [
       "<style type=\"text/css\">\n",
       "#T_ff66f th {\n",
       "  text-align: left;\n",
       "}\n",
       "#T_ff66f_row0_col0, #T_ff66f_row0_col1, #T_ff66f_row1_col0, #T_ff66f_row1_col1, #T_ff66f_row2_col0, #T_ff66f_row2_col1, #T_ff66f_row3_col0, #T_ff66f_row3_col1, #T_ff66f_row4_col0, #T_ff66f_row4_col1 {\n",
       "  text-align: left;\n",
       "}\n",
       "</style>\n",
       "<table id=\"T_ff66f\" style=\"font-size: 14px\">\n",
       "  <thead>\n",
       "    <tr>\n",
       "      <th id=\"T_ff66f_level0_col0\" class=\"col_heading level0 col0\" >Version</th>\n",
       "      <th id=\"T_ff66f_level0_col1\" class=\"col_heading level0 col1\" >1</th>\n",
       "    </tr>\n",
       "  </thead>\n",
       "  <tbody>\n",
       "    <tr>\n",
       "      <td id=\"T_ff66f_row0_col0\" class=\"data row0 col0\" >Version Date</td>\n",
       "      <td id=\"T_ff66f_row0_col1\" class=\"data row0 col1\" >31 May 2022</td>\n",
       "    </tr>\n",
       "    <tr>\n",
       "      <td id=\"T_ff66f_row1_col0\" class=\"data row1 col0\" >Number of Variables</td>\n",
       "      <td id=\"T_ff66f_row1_col1\" class=\"data row1 col1\" >238</td>\n",
       "    </tr>\n",
       "    <tr>\n",
       "      <td id=\"T_ff66f_row2_col0\" class=\"data row2 col0\" >Number of Observations</td>\n",
       "      <td id=\"T_ff66f_row2_col1\" class=\"data row2 col1\" >4830</td>\n",
       "    </tr>\n",
       "    <tr>\n",
       "      <td id=\"T_ff66f_row3_col0\" class=\"data row3 col0\" >DOI</td>\n",
       "      <td id=\"T_ff66f_row3_col1\" class=\"data row3 col1\" > <a href=\"https://doi.org/10.71760/ukllc-dataset-00333-01\" rel=\"noopener noreferrer\" target=\"_blank\">10.71760/ukllc-dataset-00333-01</a></td>\n",
       "    </tr>\n",
       "    <tr>\n",
       "      <td id=\"T_ff66f_row4_col0\" class=\"data row4 col0\" >Change Log</td>\n",
       "      <td id=\"T_ff66f_row4_col1\" class=\"data row4 col1\" > <a href=\"https://api.test.datacite.org/dois/10.71760/ukllc-dataset-00333-01/activities\" rel=\"noopener noreferrer\" target=\"_blank\">10.71760/ukllc-dataset-00333-01/activities</a></td>\n",
       "    </tr>\n",
       "  </tbody>\n",
       "</table>\n"
      ],
      "text/plain": [
       "<pandas.io.formats.style.Styler at 0x10ac15b2f00>"
      ]
     },
     "execution_count": 4,
     "metadata": {},
     "output_type": "execute_result"
    }
   ],
   "source": [
    "ds.version_history()"
   ]
  },
  {
   "cell_type": "markdown",
   "id": "d87979d0",
   "metadata": {},
   "source": [
    "## 3. Documentation"
   ]
  },
  {
   "cell_type": "code",
   "execution_count": 5,
   "id": "6978dd72",
   "metadata": {
    "execution": {
     "iopub.execute_input": "2025-07-28T20:41:34.538536Z",
     "iopub.status.busy": "2025-07-28T20:41:34.537539Z",
     "iopub.status.idle": "2025-07-28T20:41:34.551132Z",
     "shell.execute_reply": "2025-07-28T20:41:34.549073Z"
    },
    "tags": [
     "remove-input"
    ]
   },
   "outputs": [
    {
     "data": {
      "text/markdown": [
       "We are currently building a documentation storage system which will host useful documents related to datasets and data owners. We will surface these documents on Guidebook."
      ],
      "text/plain": [
       "<IPython.core.display.Markdown object>"
      ]
     },
     "metadata": {},
     "output_type": "display_data"
    }
   ],
   "source": [
    "ds.documentation()"
   ]
  },
  {
   "cell_type": "markdown",
   "id": "ab2de055",
   "metadata": {},
   "source": [
    "## 4. Useful Syntax"
   ]
  },
  {
   "cell_type": "code",
   "execution_count": 6,
   "id": "b608a4cf",
   "metadata": {
    "execution": {
     "iopub.execute_input": "2025-07-28T20:41:34.560112Z",
     "iopub.status.busy": "2025-07-28T20:41:34.560112Z",
     "iopub.status.idle": "2025-07-28T20:41:34.573038Z",
     "shell.execute_reply": "2025-07-28T20:41:34.571003Z"
    },
    "tags": [
     "remove-input"
    ]
   },
   "outputs": [
    {
     "data": {
      "text/markdown": [
       "Below we will include syntax that may be helpful to other researchers in the UK LLC TRE. For longer scripts, we will include a snippet of the code plus a link to Git where you can find the full scripts."
      ],
      "text/plain": [
       "<IPython.core.display.Markdown object>"
      ]
     },
     "metadata": {},
     "output_type": "display_data"
    }
   ],
   "source": [
    "ds.useful_syntax()"
   ]
  }
 ],
 "metadata": {
  "language_info": {
   "codemirror_mode": {
    "name": "ipython",
    "version": 3
   },
   "file_extension": ".py",
   "mimetype": "text/x-python",
   "name": "python",
   "nbconvert_exporter": "python",
   "pygments_lexer": "ipython3",
   "version": "3.12.7"
  }
 },
 "nbformat": 4,
 "nbformat_minor": 5
}
