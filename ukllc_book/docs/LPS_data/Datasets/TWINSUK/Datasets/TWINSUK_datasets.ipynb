{
 "cells": [
  {
   "cell_type": "markdown",
   "id": "53a461aa",
   "metadata": {},
   "source": [
    "# TwinsUK - The UK Adult Twin Registry Datasets"
   ]
  },
  {
   "cell_type": "code",
   "execution_count": 1,
   "id": "3bef2142",
   "metadata": {
    "execution": {
     "iopub.execute_input": "2025-07-28T20:42:25.836487Z",
     "iopub.status.busy": "2025-07-28T20:42:25.836487Z",
     "iopub.status.idle": "2025-07-28T20:42:30.183067Z",
     "shell.execute_reply": "2025-07-28T20:42:30.181534Z"
    },
    "tags": [
     "remove-input"
    ]
   },
   "outputs": [
    {
     "data": {
      "text/markdown": [
       ">Last modified: 28 Jul 2025"
      ],
      "text/plain": [
       "<IPython.core.display.Markdown object>"
      ]
     },
     "metadata": {},
     "output_type": "display_data"
    }
   ],
   "source": [
    "\n",
    "import sys\n",
    "import os\n",
    "sys.path.append(os.path.abspath('../../../../scripts/'))\n",
    "from data_doc_helper import LPSSource as SS, last_modified\n",
    "API_KEY = os.environ['FASTAPI_KEY']\n",
    "ss = SS(\"TWINSUK\")\n",
    "last_modified()\n"
   ]
  },
  {
   "cell_type": "markdown",
   "id": "2464ec67",
   "metadata": {},
   "source": [
    "## 1. Datasets"
   ]
  },
  {
   "cell_type": "code",
   "execution_count": 2,
   "id": "56c7e5ce",
   "metadata": {
    "execution": {
     "iopub.execute_input": "2025-07-28T20:42:30.190616Z",
     "iopub.status.busy": "2025-07-28T20:42:30.190616Z",
     "iopub.status.idle": "2025-07-28T20:42:30.197639Z",
     "shell.execute_reply": "2025-07-28T20:42:30.196670Z"
    },
    "tags": [
     "remove-input"
    ]
   },
   "outputs": [
    {
     "data": {
      "text/markdown": [
       "**Table 1:** Datasets and metrics in the UK LLC belonging to TWINSUK."
      ],
      "text/plain": [
       "<IPython.core.display.Markdown object>"
      ]
     },
     "metadata": {},
     "output_type": "display_data"
    }
   ],
   "source": [
    "ss.table_caption_ds()"
   ]
  },
  {
   "cell_type": "code",
   "execution_count": 3,
   "id": "19ffe24e",
   "metadata": {
    "execution": {
     "iopub.execute_input": "2025-07-28T20:42:30.204660Z",
     "iopub.status.busy": "2025-07-28T20:42:30.204660Z",
     "iopub.status.idle": "2025-07-28T20:42:32.579027Z",
     "shell.execute_reply": "2025-07-28T20:42:32.573493Z"
    },
    "tags": [
     "remove-input",
     "hide-cell"
    ]
   },
   "outputs": [
    {
     "data": {
      "text/html": [
       "<style type=\"text/css\">\n",
       "#T_5a2ec th {\n",
       "  text-align: left;\n",
       "}\n",
       "#T_5a2ec_row0_col0, #T_5a2ec_row0_col1, #T_5a2ec_row0_col2, #T_5a2ec_row0_col3, #T_5a2ec_row0_col4, #T_5a2ec_row1_col0, #T_5a2ec_row1_col1, #T_5a2ec_row1_col2, #T_5a2ec_row1_col3, #T_5a2ec_row1_col4, #T_5a2ec_row2_col0, #T_5a2ec_row2_col1, #T_5a2ec_row2_col2, #T_5a2ec_row2_col3, #T_5a2ec_row2_col4, #T_5a2ec_row3_col0, #T_5a2ec_row3_col1, #T_5a2ec_row3_col2, #T_5a2ec_row3_col3, #T_5a2ec_row3_col4, #T_5a2ec_row4_col0, #T_5a2ec_row4_col1, #T_5a2ec_row4_col2, #T_5a2ec_row4_col3, #T_5a2ec_row4_col4, #T_5a2ec_row5_col0, #T_5a2ec_row5_col1, #T_5a2ec_row5_col2, #T_5a2ec_row5_col3, #T_5a2ec_row5_col4, #T_5a2ec_row6_col0, #T_5a2ec_row6_col1, #T_5a2ec_row6_col2, #T_5a2ec_row6_col3, #T_5a2ec_row6_col4, #T_5a2ec_row7_col0, #T_5a2ec_row7_col1, #T_5a2ec_row7_col2, #T_5a2ec_row7_col3, #T_5a2ec_row7_col4, #T_5a2ec_row8_col0, #T_5a2ec_row8_col1, #T_5a2ec_row8_col2, #T_5a2ec_row8_col3, #T_5a2ec_row8_col4, #T_5a2ec_row9_col0, #T_5a2ec_row9_col1, #T_5a2ec_row9_col2, #T_5a2ec_row9_col3, #T_5a2ec_row9_col4, #T_5a2ec_row10_col0, #T_5a2ec_row10_col1, #T_5a2ec_row10_col2, #T_5a2ec_row10_col3, #T_5a2ec_row10_col4, #T_5a2ec_row11_col0, #T_5a2ec_row11_col1, #T_5a2ec_row11_col2, #T_5a2ec_row11_col3, #T_5a2ec_row11_col4 {\n",
       "  text-align: left;\n",
       "}\n",
       "</style>\n",
       "<table id=\"T_5a2ec\" style=\"font-size: 14px\">\n",
       "  <thead>\n",
       "    <tr>\n",
       "      <th id=\"T_5a2ec_level0_col0\" class=\"col_heading level0 col0\" >Dataset</th>\n",
       "      <th id=\"T_5a2ec_level0_col1\" class=\"col_heading level0 col1\" >Dataset Name</th>\n",
       "      <th id=\"T_5a2ec_level0_col2\" class=\"col_heading level0 col2\" ># Participants</th>\n",
       "      <th id=\"T_5a2ec_level0_col3\" class=\"col_heading level0 col3\" ># Observations</th>\n",
       "      <th id=\"T_5a2ec_level0_col4\" class=\"col_heading level0 col4\" ># Variables</th>\n",
       "    </tr>\n",
       "  </thead>\n",
       "  <tbody>\n",
       "    <tr>\n",
       "      <td id=\"T_5a2ec_row0_col0\" class=\"data row0 col0\" > <a href=\"SEROLOGY.html\">SEROLOGY</a></td>\n",
       "      <td id=\"T_5a2ec_row0_col1\" class=\"data row0 col1\" >Covid-19 antibody response</td>\n",
       "      <td id=\"T_5a2ec_row0_col2\" class=\"data row0 col2\" >4753</td>\n",
       "      <td id=\"T_5a2ec_row0_col3\" class=\"data row0 col3\" >15600</td>\n",
       "      <td id=\"T_5a2ec_row0_col4\" class=\"data row0 col4\" >9</td>\n",
       "    </tr>\n",
       "    <tr>\n",
       "      <td id=\"T_5a2ec_row1_col0\" class=\"data row1 col0\" > <a href=\"METABOLOMICS.html\">METABOLOMICS</a></td>\n",
       "      <td id=\"T_5a2ec_row1_col1\" class=\"data row1 col1\" >Serum metabolomics 1994- 2014</td>\n",
       "      <td id=\"T_5a2ec_row1_col2\" class=\"data row1 col2\" >2066</td>\n",
       "      <td id=\"T_5a2ec_row1_col3\" class=\"data row1 col3\" >4830</td>\n",
       "      <td id=\"T_5a2ec_row1_col4\" class=\"data row1 col4\" >238</td>\n",
       "    </tr>\n",
       "    <tr>\n",
       "      <td id=\"T_5a2ec_row2_col0\" class=\"data row2 col0\" > <a href=\"METABOLOMICS2.html\">METABOLOMICS2</a></td>\n",
       "      <td id=\"T_5a2ec_row2_col1\" class=\"data row2 col1\" >Serum metabolomics 1996-2021</td>\n",
       "      <td id=\"T_5a2ec_row2_col2\" class=\"data row2 col2\" >1063</td>\n",
       "      <td id=\"T_5a2ec_row2_col3\" class=\"data row2 col3\" >1515</td>\n",
       "      <td id=\"T_5a2ec_row2_col4\" class=\"data row2 col4\" >253</td>\n",
       "    </tr>\n",
       "    <tr>\n",
       "      <td id=\"T_5a2ec_row3_col0\" class=\"data row3 col0\" > <a href=\"INFECTION.html\">INFECTION</a></td>\n",
       "      <td id=\"T_5a2ec_row3_col1\" class=\"data row3 col1\" >Covid-19 infection status</td>\n",
       "      <td id=\"T_5a2ec_row3_col2\" class=\"data row3 col2\" >6430</td>\n",
       "      <td id=\"T_5a2ec_row3_col3\" class=\"data row3 col3\" >6430</td>\n",
       "      <td id=\"T_5a2ec_row3_col4\" class=\"data row3 col4\" >4</td>\n",
       "    </tr>\n",
       "    <tr>\n",
       "      <td id=\"T_5a2ec_row4_col0\" class=\"data row4 col0\" > <a href=\"COPE6.html\">COPE6</a></td>\n",
       "      <td id=\"T_5a2ec_row4_col1\" class=\"data row4 col1\" >COVID-19 personal experience questionnaire wave 6</td>\n",
       "      <td id=\"T_5a2ec_row4_col2\" class=\"data row4 col2\" >4109</td>\n",
       "      <td id=\"T_5a2ec_row4_col3\" class=\"data row4 col3\" >4109</td>\n",
       "      <td id=\"T_5a2ec_row4_col4\" class=\"data row4 col4\" >239</td>\n",
       "    </tr>\n",
       "    <tr>\n",
       "      <td id=\"T_5a2ec_row5_col0\" class=\"data row5 col0\" > <a href=\"COPE5.html\">COPE5</a></td>\n",
       "      <td id=\"T_5a2ec_row5_col1\" class=\"data row5 col1\" >COVID-19 personal experience questionnaire wave 5</td>\n",
       "      <td id=\"T_5a2ec_row5_col2\" class=\"data row5 col2\" >3456</td>\n",
       "      <td id=\"T_5a2ec_row5_col3\" class=\"data row5 col3\" >3462</td>\n",
       "      <td id=\"T_5a2ec_row5_col4\" class=\"data row5 col4\" >178</td>\n",
       "    </tr>\n",
       "    <tr>\n",
       "      <td id=\"T_5a2ec_row6_col0\" class=\"data row6 col0\" > <a href=\"COPE4.html\">COPE4</a></td>\n",
       "      <td id=\"T_5a2ec_row6_col1\" class=\"data row6 col1\" >COVID-19 personal experience questionnaire wave 4</td>\n",
       "      <td id=\"T_5a2ec_row6_col2\" class=\"data row6 col2\" >4428</td>\n",
       "      <td id=\"T_5a2ec_row6_col3\" class=\"data row6 col3\" >4429</td>\n",
       "      <td id=\"T_5a2ec_row6_col4\" class=\"data row6 col4\" >331</td>\n",
       "    </tr>\n",
       "    <tr>\n",
       "      <td id=\"T_5a2ec_row7_col0\" class=\"data row7 col0\" > <a href=\"COPE3.html\">COPE3</a></td>\n",
       "      <td id=\"T_5a2ec_row7_col1\" class=\"data row7 col1\" >COVID-19 personal experience questionnaire wave 3</td>\n",
       "      <td id=\"T_5a2ec_row7_col2\" class=\"data row7 col2\" >4823</td>\n",
       "      <td id=\"T_5a2ec_row7_col3\" class=\"data row7 col3\" >4823</td>\n",
       "      <td id=\"T_5a2ec_row7_col4\" class=\"data row7 col4\" >536</td>\n",
       "    </tr>\n",
       "    <tr>\n",
       "      <td id=\"T_5a2ec_row8_col0\" class=\"data row8 col0\" > <a href=\"COPE1.html\">COPE1</a></td>\n",
       "      <td id=\"T_5a2ec_row8_col1\" class=\"data row8 col1\" >COVID-19 personal experience questionnaire wave 1</td>\n",
       "      <td id=\"T_5a2ec_row8_col2\" class=\"data row8 col2\" >3623</td>\n",
       "      <td id=\"T_5a2ec_row8_col3\" class=\"data row8 col3\" >3623</td>\n",
       "      <td id=\"T_5a2ec_row8_col4\" class=\"data row8 col4\" >227</td>\n",
       "    </tr>\n",
       "    <tr>\n",
       "      <td id=\"T_5a2ec_row9_col0\" class=\"data row9 col0\" > <a href=\"COPE2.html\">COPE2</a></td>\n",
       "      <td id=\"T_5a2ec_row9_col1\" class=\"data row9 col1\" >COVID-19 personal experience questionnaire wave 2</td>\n",
       "      <td id=\"T_5a2ec_row9_col2\" class=\"data row9 col2\" >4847</td>\n",
       "      <td id=\"T_5a2ec_row9_col3\" class=\"data row9 col3\" >4847</td>\n",
       "      <td id=\"T_5a2ec_row9_col4\" class=\"data row9 col4\" >324</td>\n",
       "    </tr>\n",
       "    <tr>\n",
       "      <td id=\"T_5a2ec_row10_col0\" class=\"data row10 col0\" > <a href=\"FAMILY.html\">FAMILY</a></td>\n",
       "      <td id=\"T_5a2ec_row10_col1\" class=\"data row10 col1\" >Family structure</td>\n",
       "      <td id=\"T_5a2ec_row10_col2\" class=\"data row10 col2\" >15435</td>\n",
       "      <td id=\"T_5a2ec_row10_col3\" class=\"data row10 col3\" >15731</td>\n",
       "      <td id=\"T_5a2ec_row10_col4\" class=\"data row10 col4\" >8</td>\n",
       "    </tr>\n",
       "    <tr>\n",
       "      <td id=\"T_5a2ec_row11_col0\" class=\"data row11 col0\" > <a href=\"DEMOGRAPHICS.html\">DEMOGRAPHICS</a></td>\n",
       "      <td id=\"T_5a2ec_row11_col1\" class=\"data row11 col1\" >Demographics</td>\n",
       "      <td id=\"T_5a2ec_row11_col2\" class=\"data row11 col2\" >15731</td>\n",
       "      <td id=\"T_5a2ec_row11_col3\" class=\"data row11 col3\" >15731</td>\n",
       "      <td id=\"T_5a2ec_row11_col4\" class=\"data row11 col4\" >9</td>\n",
       "    </tr>\n",
       "  </tbody>\n",
       "</table>\n"
      ],
      "text/plain": [
       "<pandas.io.formats.style.Styler at 0x149d888da60>"
      ]
     },
     "execution_count": 3,
     "metadata": {},
     "output_type": "execute_result"
    }
   ],
   "source": [
    "ss.datasets()"
   ]
  }
 ],
 "metadata": {
  "language_info": {
   "codemirror_mode": {
    "name": "ipython",
    "version": 3
   },
   "file_extension": ".py",
   "mimetype": "text/x-python",
   "name": "python",
   "nbconvert_exporter": "python",
   "pygments_lexer": "ipython3",
   "version": "3.12.7"
  },
  "mystnb": {
   "code_prompt_hide": "Hide Datasets",
   "code_prompt_show": "Show Datasets"
  }
 },
 "nbformat": 4,
 "nbformat_minor": 5
}
