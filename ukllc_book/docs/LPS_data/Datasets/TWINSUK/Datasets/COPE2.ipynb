{
 "cells": [
  {
   "cell_type": "markdown",
   "id": "d42916e0",
   "metadata": {},
   "source": [
    "# COVID-19 personal experience questionnaire wave 2 (TWINSUK)"
   ]
  },
  {
   "cell_type": "code",
   "execution_count": 1,
   "id": "f3b7fcf7",
   "metadata": {
    "execution": {
     "iopub.execute_input": "2025-07-18T10:35:19.331981Z",
     "iopub.status.busy": "2025-07-18T10:35:19.331981Z",
     "iopub.status.idle": "2025-07-18T10:35:26.577720Z",
     "shell.execute_reply": "2025-07-18T10:35:26.574082Z"
    },
    "tags": [
     "remove-input"
    ]
   },
   "outputs": [
    {
     "data": {
      "text/markdown": [
       ">Last modified: 18 Jul 2025"
      ],
      "text/plain": [
       "<IPython.core.display.Markdown object>"
      ]
     },
     "metadata": {},
     "output_type": "display_data"
    }
   ],
   "source": [
    "\n",
    "import sys\n",
    "import os\n",
    "sys.path.append(os.path.abspath('../../../../scripts/'))\n",
    "from data_doc_helper import LPSDataSet as DS, last_modified\n",
    "API_KEY = os.environ['FASTAPI_KEY']\n",
    "ds = DS(\"TWINSUK\", \"COPE2\")\n",
    "last_modified()\n"
   ]
  },
  {
   "cell_type": "markdown",
   "id": "6933aaa3",
   "metadata": {},
   "source": [
    "## 1. Summary"
   ]
  },
  {
   "cell_type": "code",
   "execution_count": 2,
   "id": "597a61a7",
   "metadata": {
    "execution": {
     "iopub.execute_input": "2025-07-18T10:35:26.583731Z",
     "iopub.status.busy": "2025-07-18T10:35:26.583731Z",
     "iopub.status.idle": "2025-07-18T10:35:26.593121Z",
     "shell.execute_reply": "2025-07-18T10:35:26.592113Z"
    },
    "tags": [
     "remove-input"
    ]
   },
   "outputs": [
    {
     "data": {
      "text/markdown": [
       "All participants with a valid email address or a postal address were sent a questionnaire if they were current members of the TwinsUK registry , if they lived in the UK,  and had previously taken part in at least one prior questionnaire (indicating them as engaged participants). The topics covered aim at understanding how social isolation measures might influence both physical and mental health, and what factors help to lessen any negative impact or potentially make a person more at risk."
      ],
      "text/plain": [
       "<IPython.core.display.Markdown object>"
      ]
     },
     "metadata": {},
     "output_type": "display_data"
    }
   ],
   "source": [
    "ds.summary()"
   ]
  },
  {
   "cell_type": "code",
   "execution_count": 3,
   "id": "be13df07",
   "metadata": {
    "execution": {
     "iopub.execute_input": "2025-07-18T10:35:26.599119Z",
     "iopub.status.busy": "2025-07-18T10:35:26.599119Z",
     "iopub.status.idle": "2025-07-18T10:35:27.810919Z",
     "shell.execute_reply": "2025-07-18T10:35:27.809911Z"
    },
    "tags": [
     "remove-input"
    ]
   },
   "outputs": [
    {
     "data": {
      "text/html": [
       "<style type=\"text/css\">\n",
       "#T_ae36f th {\n",
       "  text-align: left;\n",
       "}\n",
       "#T_ae36f_row0_col0, #T_ae36f_row0_col1, #T_ae36f_row1_col0, #T_ae36f_row1_col1, #T_ae36f_row2_col0, #T_ae36f_row2_col1, #T_ae36f_row3_col0, #T_ae36f_row3_col1, #T_ae36f_row4_col0, #T_ae36f_row4_col1, #T_ae36f_row5_col0, #T_ae36f_row5_col1, #T_ae36f_row6_col0, #T_ae36f_row6_col1, #T_ae36f_row7_col0, #T_ae36f_row7_col1, #T_ae36f_row8_col0, #T_ae36f_row8_col1, #T_ae36f_row9_col0, #T_ae36f_row9_col1, #T_ae36f_row10_col0, #T_ae36f_row10_col1, #T_ae36f_row11_col0, #T_ae36f_row11_col1, #T_ae36f_row12_col0, #T_ae36f_row12_col1 {\n",
       "  text-align: left;\n",
       "}\n",
       "</style>\n",
       "<table id=\"T_ae36f\" style=\"font-size: 14px\">\n",
       "  <thead>\n",
       "    <tr>\n",
       "      <th id=\"T_ae36f_level0_col0\" class=\"col_heading level0 col0\" >Dataset Descriptor</th>\n",
       "      <th id=\"T_ae36f_level0_col1\" class=\"col_heading level0 col1\" >Dataset-specific Information</th>\n",
       "    </tr>\n",
       "  </thead>\n",
       "  <tbody>\n",
       "    <tr>\n",
       "      <td id=\"T_ae36f_row0_col0\" class=\"data row0 col0\" >Name of Dataset in TRE</td>\n",
       "      <td id=\"T_ae36f_row0_col1\" class=\"data row0 col1\" >TWINSUK_COPE2</td>\n",
       "    </tr>\n",
       "    <tr>\n",
       "      <td id=\"T_ae36f_row1_col0\" class=\"data row1 col0\" >Citation (APA)</td>\n",
       "      <td id=\"T_ae36f_row1_col1\" class=\"data row1 col1\" >King’s College London, Department of Twin Research & Genetic Epidemiology. (2022). <i>TwinsUK - The UK Adult Twin Registry: COVID-19 personal experience questionnaire wave 2.</i> UK Longitudinal Linkage Collaboration (UK LLC).  <a href=\"https://doi.org/10.83126/ukllc-dataset-00393-02\" rel=\"noopener noreferrer\" target=\"_blank\">https://doi.org/10.83126/ukllc-dataset-00393-02</a></td>\n",
       "    </tr>\n",
       "    <tr>\n",
       "      <td id=\"T_ae36f_row2_col0\" class=\"data row2 col0\" >Download Citation</td>\n",
       "      <td id=\"T_ae36f_row2_col1\" class=\"data row2 col1\" > <a href=\"https://api.test.datacite.org/application/vnd.citationstyles.csl+json/10.83126/ukllc-dataset-00393-02\" rel=\"noopener noreferrer\" target=\"_blank\">Citeproc JSON</a>&nbsp;&nbsp;&nbsp;&nbsp; <a href=\"https://api.test.datacite.org/application/x-bibtex/10.83126/ukllc-dataset-00393-02\" rel=\"noopener noreferrer\" target=\"_blank\">BibTeX</a>&nbsp;&nbsp;&nbsp;&nbsp; <a href=\"https://api.test.datacite.org/application/x-research-info-systems/10.83126/ukllc-dataset-00393-02\" rel=\"noopener noreferrer\" target=\"_blank\">RIS</a></td>\n",
       "    </tr>\n",
       "    <tr>\n",
       "      <td id=\"T_ae36f_row3_col0\" class=\"data row3 col0\" >Series</td>\n",
       "      <td id=\"T_ae36f_row3_col1\" class=\"data row3 col1\" > <a href=\"https://guidebook.ukllc.ac.uk/docs/lps/lps%20profiles/TWINSUK\">TwinsUK - The UK Adult Twin Registry</a></td>\n",
       "    </tr>\n",
       "    <tr>\n",
       "      <td id=\"T_ae36f_row4_col0\" class=\"data row4 col0\" >Owner</td>\n",
       "      <td id=\"T_ae36f_row4_col1\" class=\"data row4 col1\" >King's College London</td>\n",
       "    </tr>\n",
       "    <tr>\n",
       "      <td id=\"T_ae36f_row5_col0\" class=\"data row5 col0\" >Temporal Coverage</td>\n",
       "      <td id=\"T_ae36f_row5_col1\" class=\"data row5 col1\" >07/2020 - 08/2020</td>\n",
       "    </tr>\n",
       "    <tr>\n",
       "      <td id=\"T_ae36f_row6_col0\" class=\"data row6 col0\" >Keywords</td>\n",
       "      <td id=\"T_ae36f_row6_col1\" class=\"data row6 col1\" >COVIDW2,Mental Health,Physical Health,Sociodemographics,Household,Self-isolation</td>\n",
       "    </tr>\n",
       "    <tr>\n",
       "      <td id=\"T_ae36f_row7_col0\" class=\"data row7 col0\" >Participants Invited</td>\n",
       "      <td id=\"T_ae36f_row7_col1\" class=\"data row7 col1\" >6846</td>\n",
       "    </tr>\n",
       "    <tr>\n",
       "      <td id=\"T_ae36f_row8_col0\" class=\"data row8 col0\" >Participant Count</td>\n",
       "      <td id=\"T_ae36f_row8_col1\" class=\"data row8 col1\" >4847</td>\n",
       "    </tr>\n",
       "    <tr>\n",
       "      <td id=\"T_ae36f_row9_col0\" class=\"data row9 col0\" >Number of variables</td>\n",
       "      <td id=\"T_ae36f_row9_col1\" class=\"data row9 col1\" >324</td>\n",
       "    </tr>\n",
       "    <tr>\n",
       "      <td id=\"T_ae36f_row10_col0\" class=\"data row10 col0\" >Number of observations</td>\n",
       "      <td id=\"T_ae36f_row10_col1\" class=\"data row10 col1\" >4847</td>\n",
       "    </tr>\n",
       "    <tr>\n",
       "      <td id=\"T_ae36f_row11_col0\" class=\"data row11 col0\" >Specific Restrictions to Data Use</td>\n",
       "      <td id=\"T_ae36f_row11_col1\" class=\"data row11 col1\" >None</td>\n",
       "    </tr>\n",
       "    <tr>\n",
       "      <td id=\"T_ae36f_row12_col0\" class=\"data row12 col0\" >Build a Data Request</td>\n",
       "      <td id=\"T_ae36f_row12_col1\" class=\"data row12 col1\" > <a href=\"https://explore.ukllc.ac.uk/\" rel=\"noopener noreferrer\" target=\"_blank\">https://explore.ukllc.ac.uk/</a></td>\n",
       "    </tr>\n",
       "  </tbody>\n",
       "</table>\n"
      ],
      "text/plain": [
       "<pandas.io.formats.style.Styler at 0x1ae9e8a8c20>"
      ]
     },
     "execution_count": 3,
     "metadata": {},
     "output_type": "execute_result"
    }
   ],
   "source": [
    "ds.info_table()"
   ]
  },
  {
   "cell_type": "markdown",
   "id": "a2ff8646",
   "metadata": {},
   "source": [
    "## 2. Version History"
   ]
  },
  {
   "cell_type": "code",
   "execution_count": 4,
   "id": "4f36c30c",
   "metadata": {
    "execution": {
     "iopub.execute_input": "2025-07-18T10:35:27.815924Z",
     "iopub.status.busy": "2025-07-18T10:35:27.815924Z",
     "iopub.status.idle": "2025-07-18T10:35:30.943666Z",
     "shell.execute_reply": "2025-07-18T10:35:30.941660Z"
    },
    "tags": [
     "remove-input"
    ]
   },
   "outputs": [
    {
     "data": {
      "text/html": [
       "<style type=\"text/css\">\n",
       "#T_de9c8 th {\n",
       "  text-align: left;\n",
       "}\n",
       "#T_de9c8_row0_col0, #T_de9c8_row0_col1, #T_de9c8_row1_col0, #T_de9c8_row1_col1, #T_de9c8_row2_col0, #T_de9c8_row2_col1, #T_de9c8_row3_col0, #T_de9c8_row3_col1, #T_de9c8_row4_col0, #T_de9c8_row4_col1 {\n",
       "  text-align: left;\n",
       "}\n",
       "</style>\n",
       "<table id=\"T_de9c8\" style=\"font-size: 14px\">\n",
       "  <thead>\n",
       "    <tr>\n",
       "      <th id=\"T_de9c8_level0_col0\" class=\"col_heading level0 col0\" >Version</th>\n",
       "      <th id=\"T_de9c8_level0_col1\" class=\"col_heading level0 col1\" >2</th>\n",
       "    </tr>\n",
       "  </thead>\n",
       "  <tbody>\n",
       "    <tr>\n",
       "      <td id=\"T_de9c8_row0_col0\" class=\"data row0 col0\" >Version Date</td>\n",
       "      <td id=\"T_de9c8_row0_col1\" class=\"data row0 col1\" >02 Mar 2022</td>\n",
       "    </tr>\n",
       "    <tr>\n",
       "      <td id=\"T_de9c8_row1_col0\" class=\"data row1 col0\" >Number of Variables</td>\n",
       "      <td id=\"T_de9c8_row1_col1\" class=\"data row1 col1\" >324</td>\n",
       "    </tr>\n",
       "    <tr>\n",
       "      <td id=\"T_de9c8_row2_col0\" class=\"data row2 col0\" >Number of Observations</td>\n",
       "      <td id=\"T_de9c8_row2_col1\" class=\"data row2 col1\" >4847</td>\n",
       "    </tr>\n",
       "    <tr>\n",
       "      <td id=\"T_de9c8_row3_col0\" class=\"data row3 col0\" >DOI</td>\n",
       "      <td id=\"T_de9c8_row3_col1\" class=\"data row3 col1\" > <a href=\"https://doi.org/10.83126/ukllc-dataset-00393-02\" rel=\"noopener noreferrer\" target=\"_blank\">10.83126/ukllc-dataset-00393-02</a></td>\n",
       "    </tr>\n",
       "    <tr>\n",
       "      <td id=\"T_de9c8_row4_col0\" class=\"data row4 col0\" >Change Log</td>\n",
       "      <td id=\"T_de9c8_row4_col1\" class=\"data row4 col1\" > <a href=\"https://api.test.datacite.org/dois/10.83126/ukllc-dataset-00393-02/activities\" rel=\"noopener noreferrer\" target=\"_blank\">10.83126/ukllc-dataset-00393-02/activities</a></td>\n",
       "    </tr>\n",
       "  </tbody>\n",
       "</table>\n"
      ],
      "text/plain": [
       "<pandas.io.formats.style.Styler at 0x1aea05eac30>"
      ]
     },
     "execution_count": 4,
     "metadata": {},
     "output_type": "execute_result"
    }
   ],
   "source": [
    "ds.version_history()"
   ]
  },
  {
   "cell_type": "markdown",
   "id": "10af25ca",
   "metadata": {},
   "source": [
    "## 3. Documentation"
   ]
  },
  {
   "cell_type": "code",
   "execution_count": 5,
   "id": "03178df9",
   "metadata": {
    "execution": {
     "iopub.execute_input": "2025-07-18T10:35:30.949668Z",
     "iopub.status.busy": "2025-07-18T10:35:30.948666Z",
     "iopub.status.idle": "2025-07-18T10:35:30.959439Z",
     "shell.execute_reply": "2025-07-18T10:35:30.958433Z"
    },
    "tags": [
     "remove-input"
    ]
   },
   "outputs": [
    {
     "data": {
      "text/markdown": [
       "We are currently building a documentation storage system which will host useful documents related to datasets and data owners. We will surface these documents on Guidebook."
      ],
      "text/plain": [
       "<IPython.core.display.Markdown object>"
      ]
     },
     "metadata": {},
     "output_type": "display_data"
    }
   ],
   "source": [
    "ds.documentation()"
   ]
  },
  {
   "cell_type": "markdown",
   "id": "7edca868",
   "metadata": {},
   "source": [
    "## 4. Useful Syntax"
   ]
  },
  {
   "cell_type": "code",
   "execution_count": 6,
   "id": "2ab5661d",
   "metadata": {
    "execution": {
     "iopub.execute_input": "2025-07-18T10:35:30.963440Z",
     "iopub.status.busy": "2025-07-18T10:35:30.963440Z",
     "iopub.status.idle": "2025-07-18T10:35:30.967519Z",
     "shell.execute_reply": "2025-07-18T10:35:30.967519Z"
    },
    "tags": [
     "remove-input"
    ]
   },
   "outputs": [
    {
     "data": {
      "text/markdown": [
       "Below we will include syntax that may be helpful to other researchers in the UK LLC TRE. For longer scripts, we will include a snippet of the code plus a link to Git where you can find the full scripts."
      ],
      "text/plain": [
       "<IPython.core.display.Markdown object>"
      ]
     },
     "metadata": {},
     "output_type": "display_data"
    }
   ],
   "source": [
    "ds.useful_syntax()"
   ]
  }
 ],
 "metadata": {
  "language_info": {
   "codemirror_mode": {
    "name": "ipython",
    "version": 3
   },
   "file_extension": ".py",
   "mimetype": "text/x-python",
   "name": "python",
   "nbconvert_exporter": "python",
   "pygments_lexer": "ipython3",
   "version": "3.12.7"
  }
 },
 "nbformat": 4,
 "nbformat_minor": 5
}
