{
 "cells": [
  {
   "cell_type": "markdown",
   "id": "7ca5214c",
   "metadata": {},
   "source": [
    "# Family structure (TWINSUK)"
   ]
  },
  {
   "cell_type": "code",
   "execution_count": 1,
   "id": "9576823e",
   "metadata": {
    "execution": {
     "iopub.execute_input": "2025-07-18T10:36:40.137786Z",
     "iopub.status.busy": "2025-07-18T10:36:40.137786Z",
     "iopub.status.idle": "2025-07-18T10:36:46.869038Z",
     "shell.execute_reply": "2025-07-18T10:36:46.867223Z"
    },
    "tags": [
     "remove-input"
    ]
   },
   "outputs": [
    {
     "data": {
      "text/markdown": [
       ">Last modified: 18 Jul 2025"
      ],
      "text/plain": [
       "<IPython.core.display.Markdown object>"
      ]
     },
     "metadata": {},
     "output_type": "display_data"
    }
   ],
   "source": [
    "\n",
    "import sys\n",
    "import os\n",
    "sys.path.append(os.path.abspath('../../../../scripts/'))\n",
    "from data_doc_helper import LPSDataSet as DS, last_modified\n",
    "API_KEY = os.environ['FASTAPI_KEY']\n",
    "ds = DS(\"TWINSUK\", \"FAMILY\")\n",
    "last_modified()\n"
   ]
  },
  {
   "cell_type": "markdown",
   "id": "d413608c",
   "metadata": {},
   "source": [
    "## 1. Summary"
   ]
  },
  {
   "cell_type": "code",
   "execution_count": 2,
   "id": "350c7243",
   "metadata": {
    "execution": {
     "iopub.execute_input": "2025-07-18T10:36:46.875050Z",
     "iopub.status.busy": "2025-07-18T10:36:46.874048Z",
     "iopub.status.idle": "2025-07-18T10:36:46.886046Z",
     "shell.execute_reply": "2025-07-18T10:36:46.884890Z"
    },
    "tags": [
     "remove-input"
    ]
   },
   "outputs": [
    {
     "data": {
      "text/markdown": [
       "Provides the  zigosity of each participant as well as the relatedness between each them (family structure)."
      ],
      "text/plain": [
       "<IPython.core.display.Markdown object>"
      ]
     },
     "metadata": {},
     "output_type": "display_data"
    }
   ],
   "source": [
    "ds.summary()"
   ]
  },
  {
   "cell_type": "code",
   "execution_count": 3,
   "id": "d833c533",
   "metadata": {
    "execution": {
     "iopub.execute_input": "2025-07-18T10:36:46.892045Z",
     "iopub.status.busy": "2025-07-18T10:36:46.891045Z",
     "iopub.status.idle": "2025-07-18T10:36:47.860998Z",
     "shell.execute_reply": "2025-07-18T10:36:47.859486Z"
    },
    "tags": [
     "remove-input"
    ]
   },
   "outputs": [
    {
     "data": {
      "text/html": [
       "<style type=\"text/css\">\n",
       "#T_e57e4 th {\n",
       "  text-align: left;\n",
       "}\n",
       "#T_e57e4_row0_col0, #T_e57e4_row0_col1, #T_e57e4_row1_col0, #T_e57e4_row1_col1, #T_e57e4_row2_col0, #T_e57e4_row2_col1, #T_e57e4_row3_col0, #T_e57e4_row3_col1, #T_e57e4_row4_col0, #T_e57e4_row4_col1, #T_e57e4_row5_col0, #T_e57e4_row5_col1, #T_e57e4_row6_col0, #T_e57e4_row6_col1, #T_e57e4_row7_col0, #T_e57e4_row7_col1, #T_e57e4_row8_col0, #T_e57e4_row8_col1, #T_e57e4_row9_col0, #T_e57e4_row9_col1, #T_e57e4_row10_col0, #T_e57e4_row10_col1, #T_e57e4_row11_col0, #T_e57e4_row11_col1, #T_e57e4_row12_col0, #T_e57e4_row12_col1 {\n",
       "  text-align: left;\n",
       "}\n",
       "</style>\n",
       "<table id=\"T_e57e4\" style=\"font-size: 14px\">\n",
       "  <thead>\n",
       "    <tr>\n",
       "      <th id=\"T_e57e4_level0_col0\" class=\"col_heading level0 col0\" >Dataset Descriptor</th>\n",
       "      <th id=\"T_e57e4_level0_col1\" class=\"col_heading level0 col1\" >Dataset-specific Information</th>\n",
       "    </tr>\n",
       "  </thead>\n",
       "  <tbody>\n",
       "    <tr>\n",
       "      <td id=\"T_e57e4_row0_col0\" class=\"data row0 col0\" >Name of Dataset in TRE</td>\n",
       "      <td id=\"T_e57e4_row0_col1\" class=\"data row0 col1\" >TWINSUK_FAMILY</td>\n",
       "    </tr>\n",
       "    <tr>\n",
       "      <td id=\"T_e57e4_row1_col0\" class=\"data row1 col0\" >Citation (APA)</td>\n",
       "      <td id=\"T_e57e4_row1_col1\" class=\"data row1 col1\" >King’s College London, Department of Twin Research & Genetic Epidemiology. (2022). <i>TwinsUK - The UK Adult Twin Registry: Family structure.</i> UK Longitudinal Linkage Collaboration (UK LLC).  <a href=\"https://doi.org/10.83126/ukllc-dataset-00399-02\" rel=\"noopener noreferrer\" target=\"_blank\">https://doi.org/10.83126/ukllc-dataset-00399-02</a></td>\n",
       "    </tr>\n",
       "    <tr>\n",
       "      <td id=\"T_e57e4_row2_col0\" class=\"data row2 col0\" >Download Citation</td>\n",
       "      <td id=\"T_e57e4_row2_col1\" class=\"data row2 col1\" > <a href=\"https://api.test.datacite.org/application/vnd.citationstyles.csl+json/10.83126/ukllc-dataset-00399-02\" rel=\"noopener noreferrer\" target=\"_blank\">Citeproc JSON</a>&nbsp;&nbsp;&nbsp;&nbsp; <a href=\"https://api.test.datacite.org/application/x-bibtex/10.83126/ukllc-dataset-00399-02\" rel=\"noopener noreferrer\" target=\"_blank\">BibTeX</a>&nbsp;&nbsp;&nbsp;&nbsp; <a href=\"https://api.test.datacite.org/application/x-research-info-systems/10.83126/ukllc-dataset-00399-02\" rel=\"noopener noreferrer\" target=\"_blank\">RIS</a></td>\n",
       "    </tr>\n",
       "    <tr>\n",
       "      <td id=\"T_e57e4_row3_col0\" class=\"data row3 col0\" >Series</td>\n",
       "      <td id=\"T_e57e4_row3_col1\" class=\"data row3 col1\" > <a href=\"https://guidebook.ukllc.ac.uk/docs/lps/lps%20profiles/TWINSUK\">TwinsUK - The UK Adult Twin Registry</a></td>\n",
       "    </tr>\n",
       "    <tr>\n",
       "      <td id=\"T_e57e4_row4_col0\" class=\"data row4 col0\" >Owner</td>\n",
       "      <td id=\"T_e57e4_row4_col1\" class=\"data row4 col1\" >King's College London</td>\n",
       "    </tr>\n",
       "    <tr>\n",
       "      <td id=\"T_e57e4_row5_col0\" class=\"data row5 col0\" >Temporal Coverage</td>\n",
       "      <td id=\"T_e57e4_row5_col1\" class=\"data row5 col1\" >Unknown - Unknown</td>\n",
       "    </tr>\n",
       "    <tr>\n",
       "      <td id=\"T_e57e4_row6_col0\" class=\"data row6 col0\" >Keywords</td>\n",
       "      <td id=\"T_e57e4_row6_col1\" class=\"data row6 col1\" >Zygosity,Family,Twin,Heritability,Relatives,Relatedness</td>\n",
       "    </tr>\n",
       "    <tr>\n",
       "      <td id=\"T_e57e4_row7_col0\" class=\"data row7 col0\" >Participants Invited</td>\n",
       "      <td id=\"T_e57e4_row7_col1\" class=\"data row7 col1\" ></td>\n",
       "    </tr>\n",
       "    <tr>\n",
       "      <td id=\"T_e57e4_row8_col0\" class=\"data row8 col0\" >Participant Count</td>\n",
       "      <td id=\"T_e57e4_row8_col1\" class=\"data row8 col1\" >15435</td>\n",
       "    </tr>\n",
       "    <tr>\n",
       "      <td id=\"T_e57e4_row9_col0\" class=\"data row9 col0\" >Number of variables</td>\n",
       "      <td id=\"T_e57e4_row9_col1\" class=\"data row9 col1\" >4</td>\n",
       "    </tr>\n",
       "    <tr>\n",
       "      <td id=\"T_e57e4_row10_col0\" class=\"data row10 col0\" >Number of observations</td>\n",
       "      <td id=\"T_e57e4_row10_col1\" class=\"data row10 col1\" >15731</td>\n",
       "    </tr>\n",
       "    <tr>\n",
       "      <td id=\"T_e57e4_row11_col0\" class=\"data row11 col0\" >Specific Restrictions to Data Use</td>\n",
       "      <td id=\"T_e57e4_row11_col1\" class=\"data row11 col1\" >None</td>\n",
       "    </tr>\n",
       "    <tr>\n",
       "      <td id=\"T_e57e4_row12_col0\" class=\"data row12 col0\" >Build a Data Request</td>\n",
       "      <td id=\"T_e57e4_row12_col1\" class=\"data row12 col1\" > <a href=\"https://explore.ukllc.ac.uk/\" rel=\"noopener noreferrer\" target=\"_blank\">https://explore.ukllc.ac.uk/</a></td>\n",
       "    </tr>\n",
       "  </tbody>\n",
       "</table>\n"
      ],
      "text/plain": [
       "<pandas.io.formats.style.Styler at 0x1afe28dbec0>"
      ]
     },
     "execution_count": 3,
     "metadata": {},
     "output_type": "execute_result"
    }
   ],
   "source": [
    "ds.info_table()"
   ]
  },
  {
   "cell_type": "markdown",
   "id": "44c1a649",
   "metadata": {},
   "source": [
    "## 2. Version History"
   ]
  },
  {
   "cell_type": "code",
   "execution_count": 4,
   "id": "82c17ad3",
   "metadata": {
    "execution": {
     "iopub.execute_input": "2025-07-18T10:36:47.867529Z",
     "iopub.status.busy": "2025-07-18T10:36:47.866529Z",
     "iopub.status.idle": "2025-07-18T10:36:50.821575Z",
     "shell.execute_reply": "2025-07-18T10:36:50.819565Z"
    },
    "tags": [
     "remove-input"
    ]
   },
   "outputs": [
    {
     "data": {
      "text/html": [
       "<style type=\"text/css\">\n",
       "#T_0684a th {\n",
       "  text-align: left;\n",
       "}\n",
       "#T_0684a_row0_col0, #T_0684a_row0_col1, #T_0684a_row0_col2, #T_0684a_row1_col0, #T_0684a_row1_col1, #T_0684a_row1_col2, #T_0684a_row2_col0, #T_0684a_row2_col1, #T_0684a_row2_col2, #T_0684a_row3_col0, #T_0684a_row3_col1, #T_0684a_row3_col2, #T_0684a_row4_col0, #T_0684a_row4_col1, #T_0684a_row4_col2 {\n",
       "  text-align: left;\n",
       "}\n",
       "</style>\n",
       "<table id=\"T_0684a\" style=\"font-size: 14px\">\n",
       "  <thead>\n",
       "    <tr>\n",
       "      <th id=\"T_0684a_level0_col0\" class=\"col_heading level0 col0\" >Version</th>\n",
       "      <th id=\"T_0684a_level0_col1\" class=\"col_heading level0 col1\" >1</th>\n",
       "      <th id=\"T_0684a_level0_col2\" class=\"col_heading level0 col2\" >2</th>\n",
       "    </tr>\n",
       "  </thead>\n",
       "  <tbody>\n",
       "    <tr>\n",
       "      <td id=\"T_0684a_row0_col0\" class=\"data row0 col0\" >Version Date</td>\n",
       "      <td id=\"T_0684a_row0_col1\" class=\"data row0 col1\" >05 Apr 2022</td>\n",
       "      <td id=\"T_0684a_row0_col2\" class=\"data row0 col2\" >31 May 2022</td>\n",
       "    </tr>\n",
       "    <tr>\n",
       "      <td id=\"T_0684a_row1_col0\" class=\"data row1 col0\" >Number of Variables</td>\n",
       "      <td id=\"T_0684a_row1_col1\" class=\"data row1 col1\" >4</td>\n",
       "      <td id=\"T_0684a_row1_col2\" class=\"data row1 col2\" >8</td>\n",
       "    </tr>\n",
       "    <tr>\n",
       "      <td id=\"T_0684a_row2_col0\" class=\"data row2 col0\" >Number of Observations</td>\n",
       "      <td id=\"T_0684a_row2_col1\" class=\"data row2 col1\" >15435</td>\n",
       "      <td id=\"T_0684a_row2_col2\" class=\"data row2 col2\" >15731</td>\n",
       "    </tr>\n",
       "    <tr>\n",
       "      <td id=\"T_0684a_row3_col0\" class=\"data row3 col0\" >DOI</td>\n",
       "      <td id=\"T_0684a_row3_col1\" class=\"data row3 col1\" > <a href=\"https://doi.org/10.83126/ukllc-dataset-00399-01\" rel=\"noopener noreferrer\" target=\"_blank\">10.83126/ukllc-dataset-00399-01</a></td>\n",
       "      <td id=\"T_0684a_row3_col2\" class=\"data row3 col2\" > <a href=\"https://doi.org/10.83126/ukllc-dataset-00399-02\" rel=\"noopener noreferrer\" target=\"_blank\">10.83126/ukllc-dataset-00399-02</a></td>\n",
       "    </tr>\n",
       "    <tr>\n",
       "      <td id=\"T_0684a_row4_col0\" class=\"data row4 col0\" >Change Log</td>\n",
       "      <td id=\"T_0684a_row4_col1\" class=\"data row4 col1\" > <a href=\"https://api.test.datacite.org/dois/10.83126/ukllc-dataset-00399-01/activities\" rel=\"noopener noreferrer\" target=\"_blank\">10.83126/ukllc-dataset-00399-01/activities</a></td>\n",
       "      <td id=\"T_0684a_row4_col2\" class=\"data row4 col2\" > <a href=\"https://api.test.datacite.org/dois/10.83126/ukllc-dataset-00399-02/activities\" rel=\"noopener noreferrer\" target=\"_blank\">10.83126/ukllc-dataset-00399-02/activities</a></td>\n",
       "    </tr>\n",
       "  </tbody>\n",
       "</table>\n"
      ],
      "text/plain": [
       "<pandas.io.formats.style.Styler at 0x1afe845ade0>"
      ]
     },
     "execution_count": 4,
     "metadata": {},
     "output_type": "execute_result"
    }
   ],
   "source": [
    "ds.version_history()"
   ]
  },
  {
   "cell_type": "markdown",
   "id": "1be7e008",
   "metadata": {},
   "source": [
    "## 3. Documentation"
   ]
  },
  {
   "cell_type": "code",
   "execution_count": 5,
   "id": "e9d21432",
   "metadata": {
    "execution": {
     "iopub.execute_input": "2025-07-18T10:36:50.826580Z",
     "iopub.status.busy": "2025-07-18T10:36:50.826580Z",
     "iopub.status.idle": "2025-07-18T10:36:50.836344Z",
     "shell.execute_reply": "2025-07-18T10:36:50.834667Z"
    },
    "tags": [
     "remove-input"
    ]
   },
   "outputs": [
    {
     "data": {
      "text/markdown": [
       "We are currently building a documentation storage system which will host useful documents related to datasets and data owners. We will surface these documents on Guidebook."
      ],
      "text/plain": [
       "<IPython.core.display.Markdown object>"
      ]
     },
     "metadata": {},
     "output_type": "display_data"
    }
   ],
   "source": [
    "ds.documentation()"
   ]
  },
  {
   "cell_type": "markdown",
   "id": "65fd5a49",
   "metadata": {},
   "source": [
    "## 4. Useful Syntax"
   ]
  },
  {
   "cell_type": "code",
   "execution_count": 6,
   "id": "701f3ef0",
   "metadata": {
    "execution": {
     "iopub.execute_input": "2025-07-18T10:36:50.841358Z",
     "iopub.status.busy": "2025-07-18T10:36:50.841358Z",
     "iopub.status.idle": "2025-07-18T10:36:50.851577Z",
     "shell.execute_reply": "2025-07-18T10:36:50.849571Z"
    },
    "tags": [
     "remove-input"
    ]
   },
   "outputs": [
    {
     "data": {
      "text/markdown": [
       "Below we will include syntax that may be helpful to other researchers in the UK LLC TRE. For longer scripts, we will include a snippet of the code plus a link to Git where you can find the full scripts."
      ],
      "text/plain": [
       "<IPython.core.display.Markdown object>"
      ]
     },
     "metadata": {},
     "output_type": "display_data"
    }
   ],
   "source": [
    "ds.useful_syntax()"
   ]
  }
 ],
 "metadata": {
  "language_info": {
   "codemirror_mode": {
    "name": "ipython",
    "version": 3
   },
   "file_extension": ".py",
   "mimetype": "text/x-python",
   "name": "python",
   "nbconvert_exporter": "python",
   "pygments_lexer": "ipython3",
   "version": "3.12.7"
  }
 },
 "nbformat": 4,
 "nbformat_minor": 5
}
