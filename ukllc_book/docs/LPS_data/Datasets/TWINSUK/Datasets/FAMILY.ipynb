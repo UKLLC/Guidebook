{
 "cells": [
  {
   "cell_type": "markdown",
   "id": "7ca5214c",
   "metadata": {},
   "source": [
    "# Family structure (TWINSUK)"
   ]
  },
  {
   "cell_type": "code",
   "execution_count": 1,
   "id": "9576823e",
   "metadata": {
    "execution": {
     "iopub.execute_input": "2025-07-28T20:40:27.694945Z",
     "iopub.status.busy": "2025-07-28T20:40:27.693943Z",
     "iopub.status.idle": "2025-07-28T20:40:40.544650Z",
     "shell.execute_reply": "2025-07-28T20:40:40.541536Z"
    },
    "tags": [
     "remove-input"
    ]
   },
   "outputs": [
    {
     "data": {
      "text/markdown": [
       ">Last modified: 28 Jul 2025"
      ],
      "text/plain": [
       "<IPython.core.display.Markdown object>"
      ]
     },
     "metadata": {},
     "output_type": "display_data"
    }
   ],
   "source": [
    "\n",
    "import sys\n",
    "import os\n",
    "sys.path.append(os.path.abspath('../../../../scripts/'))\n",
    "from data_doc_helper import LPSDataSet as DS, last_modified\n",
    "API_KEY = os.environ['FASTAPI_KEY']\n",
    "ds = DS(\"TWINSUK\", \"FAMILY\")\n",
    "last_modified()\n"
   ]
  },
  {
   "cell_type": "markdown",
   "id": "d413608c",
   "metadata": {},
   "source": [
    "## 1. Summary"
   ]
  },
  {
   "cell_type": "code",
   "execution_count": 2,
   "id": "350c7243",
   "metadata": {
    "execution": {
     "iopub.execute_input": "2025-07-28T20:40:40.553725Z",
     "iopub.status.busy": "2025-07-28T20:40:40.552286Z",
     "iopub.status.idle": "2025-07-28T20:40:40.567431Z",
     "shell.execute_reply": "2025-07-28T20:40:40.565414Z"
    },
    "tags": [
     "remove-input"
    ]
   },
   "outputs": [
    {
     "data": {
      "text/markdown": [
       "Provides the  zigosity of each participant as well as the relatedness between each them (family structure)."
      ],
      "text/plain": [
       "<IPython.core.display.Markdown object>"
      ]
     },
     "metadata": {},
     "output_type": "display_data"
    }
   ],
   "source": [
    "ds.summary()"
   ]
  },
  {
   "cell_type": "code",
   "execution_count": 3,
   "id": "d833c533",
   "metadata": {
    "execution": {
     "iopub.execute_input": "2025-07-28T20:40:40.576436Z",
     "iopub.status.busy": "2025-07-28T20:40:40.574430Z",
     "iopub.status.idle": "2025-07-28T20:40:42.287003Z",
     "shell.execute_reply": "2025-07-28T20:40:42.284986Z"
    },
    "tags": [
     "remove-input"
    ]
   },
   "outputs": [
    {
     "data": {
      "text/html": [
       "<style type=\"text/css\">\n",
       "#T_77414 th {\n",
       "  text-align: left;\n",
       "}\n",
       "#T_77414_row0_col0, #T_77414_row0_col1, #T_77414_row1_col0, #T_77414_row1_col1, #T_77414_row2_col0, #T_77414_row2_col1, #T_77414_row3_col0, #T_77414_row3_col1, #T_77414_row4_col0, #T_77414_row4_col1, #T_77414_row5_col0, #T_77414_row5_col1, #T_77414_row6_col0, #T_77414_row6_col1, #T_77414_row7_col0, #T_77414_row7_col1, #T_77414_row8_col0, #T_77414_row8_col1, #T_77414_row9_col0, #T_77414_row9_col1, #T_77414_row10_col0, #T_77414_row10_col1, #T_77414_row11_col0, #T_77414_row11_col1, #T_77414_row12_col0, #T_77414_row12_col1 {\n",
       "  text-align: left;\n",
       "}\n",
       "</style>\n",
       "<table id=\"T_77414\" style=\"font-size: 14px\">\n",
       "  <thead>\n",
       "    <tr>\n",
       "      <th id=\"T_77414_level0_col0\" class=\"col_heading level0 col0\" >Dataset Descriptor</th>\n",
       "      <th id=\"T_77414_level0_col1\" class=\"col_heading level0 col1\" >Dataset-specific Information</th>\n",
       "    </tr>\n",
       "  </thead>\n",
       "  <tbody>\n",
       "    <tr>\n",
       "      <td id=\"T_77414_row0_col0\" class=\"data row0 col0\" >Name of Dataset in TRE</td>\n",
       "      <td id=\"T_77414_row0_col1\" class=\"data row0 col1\" >TWINSUK_FAMILY</td>\n",
       "    </tr>\n",
       "    <tr>\n",
       "      <td id=\"T_77414_row1_col0\" class=\"data row1 col0\" >Citation (APA)</td>\n",
       "      <td id=\"T_77414_row1_col1\" class=\"data row1 col1\" >King's College London, Department of Twin Research & Genetic Epidemiology. (2022). <i>TwinsUK - The UK Adult Twin Registry: Family structure.</i> UK Longitudinal Linkage Collaboration (UK LLC).  <a href=\"https://doi.org/10.71760/ukllc-dataset-00330-02\" rel=\"noopener noreferrer\" target=\"_blank\">https://doi.org/10.71760/ukllc-dataset-00330-02</a></td>\n",
       "    </tr>\n",
       "    <tr>\n",
       "      <td id=\"T_77414_row2_col0\" class=\"data row2 col0\" >Download Citation</td>\n",
       "      <td id=\"T_77414_row2_col1\" class=\"data row2 col1\" > <a href=\"https://api.datacite.org/application/vnd.citationstyles.csl+json/10.71760/ukllc-dataset-00330-02\" rel=\"noopener noreferrer\" target=\"_blank\">Citeproc JSON</a>&nbsp;&nbsp;&nbsp;&nbsp; <a href=\"https://api.datacite.org/application/x-bibtex/10.71760/ukllc-dataset-00330-02\" rel=\"noopener noreferrer\" target=\"_blank\">BibTeX</a>&nbsp;&nbsp;&nbsp;&nbsp; <a href=\"https://api.datacite.org/application/x-research-info-systems/10.71760/ukllc-dataset-00330-02\" rel=\"noopener noreferrer\" target=\"_blank\">RIS</a></td>\n",
       "    </tr>\n",
       "    <tr>\n",
       "      <td id=\"T_77414_row3_col0\" class=\"data row3 col0\" >Series</td>\n",
       "      <td id=\"T_77414_row3_col1\" class=\"data row3 col1\" > <a href=\"https://guidebook.ukllc.ac.uk/docs/lps_data/lps%20profiles/TWINSUK\">TwinsUK - The UK Adult Twin Registry</a></td>\n",
       "    </tr>\n",
       "    <tr>\n",
       "      <td id=\"T_77414_row4_col0\" class=\"data row4 col0\" >Owner</td>\n",
       "      <td id=\"T_77414_row4_col1\" class=\"data row4 col1\" >King's College London</td>\n",
       "    </tr>\n",
       "    <tr>\n",
       "      <td id=\"T_77414_row5_col0\" class=\"data row5 col0\" >Temporal Coverage</td>\n",
       "      <td id=\"T_77414_row5_col1\" class=\"data row5 col1\" >Unknown - Unknown</td>\n",
       "    </tr>\n",
       "    <tr>\n",
       "      <td id=\"T_77414_row6_col0\" class=\"data row6 col0\" >Keywords</td>\n",
       "      <td id=\"T_77414_row6_col1\" class=\"data row6 col1\" >Zygosity,Family,Twin,Heritability,Relatives,Relatedness</td>\n",
       "    </tr>\n",
       "    <tr>\n",
       "      <td id=\"T_77414_row7_col0\" class=\"data row7 col0\" >Participants Invited</td>\n",
       "      <td id=\"T_77414_row7_col1\" class=\"data row7 col1\" ></td>\n",
       "    </tr>\n",
       "    <tr>\n",
       "      <td id=\"T_77414_row8_col0\" class=\"data row8 col0\" >Participant Count</td>\n",
       "      <td id=\"T_77414_row8_col1\" class=\"data row8 col1\" >15435</td>\n",
       "    </tr>\n",
       "    <tr>\n",
       "      <td id=\"T_77414_row9_col0\" class=\"data row9 col0\" >Number of variables</td>\n",
       "      <td id=\"T_77414_row9_col1\" class=\"data row9 col1\" >4</td>\n",
       "    </tr>\n",
       "    <tr>\n",
       "      <td id=\"T_77414_row10_col0\" class=\"data row10 col0\" >Number of observations</td>\n",
       "      <td id=\"T_77414_row10_col1\" class=\"data row10 col1\" >15731</td>\n",
       "    </tr>\n",
       "    <tr>\n",
       "      <td id=\"T_77414_row11_col0\" class=\"data row11 col0\" >Specific Restrictions to Data Use</td>\n",
       "      <td id=\"T_77414_row11_col1\" class=\"data row11 col1\" >None</td>\n",
       "    </tr>\n",
       "    <tr>\n",
       "      <td id=\"T_77414_row12_col0\" class=\"data row12 col0\" >Build a Data Request</td>\n",
       "      <td id=\"T_77414_row12_col1\" class=\"data row12 col1\" > <a href=\"https://explore.ukllc.ac.uk/\" rel=\"noopener noreferrer\" target=\"_blank\">https://explore.ukllc.ac.uk/</a></td>\n",
       "    </tr>\n",
       "  </tbody>\n",
       "</table>\n"
      ],
      "text/plain": [
       "<pandas.io.formats.style.Styler at 0x1a5cb51b4a0>"
      ]
     },
     "execution_count": 3,
     "metadata": {},
     "output_type": "execute_result"
    }
   ],
   "source": [
    "ds.info_table()"
   ]
  },
  {
   "cell_type": "markdown",
   "id": "44c1a649",
   "metadata": {},
   "source": [
    "## 2. Version History"
   ]
  },
  {
   "cell_type": "code",
   "execution_count": 4,
   "id": "82c17ad3",
   "metadata": {
    "execution": {
     "iopub.execute_input": "2025-07-28T20:40:42.296191Z",
     "iopub.status.busy": "2025-07-28T20:40:42.295180Z",
     "iopub.status.idle": "2025-07-28T20:40:47.456445Z",
     "shell.execute_reply": "2025-07-28T20:40:47.454925Z"
    },
    "tags": [
     "remove-input"
    ]
   },
   "outputs": [
    {
     "data": {
      "text/html": [
       "<style type=\"text/css\">\n",
       "#T_eae90 th {\n",
       "  text-align: left;\n",
       "}\n",
       "#T_eae90_row0_col0, #T_eae90_row0_col1, #T_eae90_row0_col2, #T_eae90_row1_col0, #T_eae90_row1_col1, #T_eae90_row1_col2, #T_eae90_row2_col0, #T_eae90_row2_col1, #T_eae90_row2_col2, #T_eae90_row3_col0, #T_eae90_row3_col1, #T_eae90_row3_col2, #T_eae90_row4_col0, #T_eae90_row4_col1, #T_eae90_row4_col2 {\n",
       "  text-align: left;\n",
       "}\n",
       "</style>\n",
       "<table id=\"T_eae90\" style=\"font-size: 14px\">\n",
       "  <thead>\n",
       "    <tr>\n",
       "      <th id=\"T_eae90_level0_col0\" class=\"col_heading level0 col0\" >Version</th>\n",
       "      <th id=\"T_eae90_level0_col1\" class=\"col_heading level0 col1\" >1</th>\n",
       "      <th id=\"T_eae90_level0_col2\" class=\"col_heading level0 col2\" >2</th>\n",
       "    </tr>\n",
       "  </thead>\n",
       "  <tbody>\n",
       "    <tr>\n",
       "      <td id=\"T_eae90_row0_col0\" class=\"data row0 col0\" >Version Date</td>\n",
       "      <td id=\"T_eae90_row0_col1\" class=\"data row0 col1\" >05 Apr 2022</td>\n",
       "      <td id=\"T_eae90_row0_col2\" class=\"data row0 col2\" >31 May 2022</td>\n",
       "    </tr>\n",
       "    <tr>\n",
       "      <td id=\"T_eae90_row1_col0\" class=\"data row1 col0\" >Number of Variables</td>\n",
       "      <td id=\"T_eae90_row1_col1\" class=\"data row1 col1\" >4</td>\n",
       "      <td id=\"T_eae90_row1_col2\" class=\"data row1 col2\" >8</td>\n",
       "    </tr>\n",
       "    <tr>\n",
       "      <td id=\"T_eae90_row2_col0\" class=\"data row2 col0\" >Number of Observations</td>\n",
       "      <td id=\"T_eae90_row2_col1\" class=\"data row2 col1\" >15435</td>\n",
       "      <td id=\"T_eae90_row2_col2\" class=\"data row2 col2\" >15731</td>\n",
       "    </tr>\n",
       "    <tr>\n",
       "      <td id=\"T_eae90_row3_col0\" class=\"data row3 col0\" >DOI</td>\n",
       "      <td id=\"T_eae90_row3_col1\" class=\"data row3 col1\" > <a href=\"https://doi.org/10.71760/ukllc-dataset-00330-01\" rel=\"noopener noreferrer\" target=\"_blank\">10.71760/ukllc-dataset-00330-01</a></td>\n",
       "      <td id=\"T_eae90_row3_col2\" class=\"data row3 col2\" > <a href=\"https://doi.org/10.71760/ukllc-dataset-00330-02\" rel=\"noopener noreferrer\" target=\"_blank\">10.71760/ukllc-dataset-00330-02</a></td>\n",
       "    </tr>\n",
       "    <tr>\n",
       "      <td id=\"T_eae90_row4_col0\" class=\"data row4 col0\" >Change Log</td>\n",
       "      <td id=\"T_eae90_row4_col1\" class=\"data row4 col1\" > <a href=\"https://api.test.datacite.org/dois/10.71760/ukllc-dataset-00330-01/activities\" rel=\"noopener noreferrer\" target=\"_blank\">10.71760/ukllc-dataset-00330-01/activities</a></td>\n",
       "      <td id=\"T_eae90_row4_col2\" class=\"data row4 col2\" > <a href=\"https://api.test.datacite.org/dois/10.71760/ukllc-dataset-00330-02/activities\" rel=\"noopener noreferrer\" target=\"_blank\">10.71760/ukllc-dataset-00330-02/activities</a></td>\n",
       "    </tr>\n",
       "  </tbody>\n",
       "</table>\n"
      ],
      "text/plain": [
       "<pandas.io.formats.style.Styler at 0x1a5cd27f710>"
      ]
     },
     "execution_count": 4,
     "metadata": {},
     "output_type": "execute_result"
    }
   ],
   "source": [
    "ds.version_history()"
   ]
  },
  {
   "cell_type": "markdown",
   "id": "1be7e008",
   "metadata": {},
   "source": [
    "## 3. Documentation"
   ]
  },
  {
   "cell_type": "code",
   "execution_count": 5,
   "id": "e9d21432",
   "metadata": {
    "execution": {
     "iopub.execute_input": "2025-07-28T20:40:47.466446Z",
     "iopub.status.busy": "2025-07-28T20:40:47.465465Z",
     "iopub.status.idle": "2025-07-28T20:40:47.478686Z",
     "shell.execute_reply": "2025-07-28T20:40:47.476633Z"
    },
    "tags": [
     "remove-input"
    ]
   },
   "outputs": [
    {
     "data": {
      "text/markdown": [
       "We are currently building a documentation storage system which will host useful documents related to datasets and data owners. We will surface these documents on Guidebook."
      ],
      "text/plain": [
       "<IPython.core.display.Markdown object>"
      ]
     },
     "metadata": {},
     "output_type": "display_data"
    }
   ],
   "source": [
    "ds.documentation()"
   ]
  },
  {
   "cell_type": "markdown",
   "id": "65fd5a49",
   "metadata": {},
   "source": [
    "## 4. Useful Syntax"
   ]
  },
  {
   "cell_type": "code",
   "execution_count": 6,
   "id": "701f3ef0",
   "metadata": {
    "execution": {
     "iopub.execute_input": "2025-07-28T20:40:47.486662Z",
     "iopub.status.busy": "2025-07-28T20:40:47.486662Z",
     "iopub.status.idle": "2025-07-28T20:40:47.498460Z",
     "shell.execute_reply": "2025-07-28T20:40:47.496739Z"
    },
    "tags": [
     "remove-input"
    ]
   },
   "outputs": [
    {
     "data": {
      "text/markdown": [
       "Below we will include syntax that may be helpful to other researchers in the UK LLC TRE. For longer scripts, we will include a snippet of the code plus a link to Git where you can find the full scripts."
      ],
      "text/plain": [
       "<IPython.core.display.Markdown object>"
      ]
     },
     "metadata": {},
     "output_type": "display_data"
    }
   ],
   "source": [
    "ds.useful_syntax()"
   ]
  }
 ],
 "metadata": {
  "language_info": {
   "codemirror_mode": {
    "name": "ipython",
    "version": 3
   },
   "file_extension": ".py",
   "mimetype": "text/x-python",
   "name": "python",
   "nbconvert_exporter": "python",
   "pygments_lexer": "ipython3",
   "version": "3.12.7"
  }
 },
 "nbformat": 4,
 "nbformat_minor": 5
}
