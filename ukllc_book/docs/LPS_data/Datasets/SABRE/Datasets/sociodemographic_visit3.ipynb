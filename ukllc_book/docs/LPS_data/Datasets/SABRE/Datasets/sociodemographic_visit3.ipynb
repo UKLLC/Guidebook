{
 "cells": [
  {
   "cell_type": "markdown",
   "id": "f9247cd4",
   "metadata": {},
   "source": [
    "# Sociodemographic Visit 3 (SABRE)"
   ]
  },
  {
   "cell_type": "code",
   "execution_count": 1,
   "id": "82b49458",
   "metadata": {
    "execution": {
     "iopub.execute_input": "2025-07-28T20:24:37.730270Z",
     "iopub.status.busy": "2025-07-28T20:24:37.730270Z",
     "iopub.status.idle": "2025-07-28T20:24:52.792349Z",
     "shell.execute_reply": "2025-07-28T20:24:52.791325Z"
    },
    "tags": [
     "remove-input"
    ]
   },
   "outputs": [
    {
     "data": {
      "text/markdown": [
       ">Last modified: 28 Jul 2025"
      ],
      "text/plain": [
       "<IPython.core.display.Markdown object>"
      ]
     },
     "metadata": {},
     "output_type": "display_data"
    }
   ],
   "source": [
    "\n",
    "import sys\n",
    "import os\n",
    "sys.path.append(os.path.abspath('../../../../scripts/'))\n",
    "from data_doc_helper import LPSDataSet as DS, last_modified\n",
    "API_KEY = os.environ['FASTAPI_KEY']\n",
    "ds = DS(\"SABRE\", \"sociodemographic_visit3\")\n",
    "last_modified()\n"
   ]
  },
  {
   "cell_type": "markdown",
   "id": "61bd593d",
   "metadata": {},
   "source": [
    "## 1. Summary"
   ]
  },
  {
   "cell_type": "code",
   "execution_count": 2,
   "id": "ea12dc99",
   "metadata": {
    "execution": {
     "iopub.execute_input": "2025-07-28T20:24:52.802466Z",
     "iopub.status.busy": "2025-07-28T20:24:52.801468Z",
     "iopub.status.idle": "2025-07-28T20:24:52.815737Z",
     "shell.execute_reply": "2025-07-28T20:24:52.813714Z"
    },
    "tags": [
     "remove-input"
    ]
   },
   "outputs": [
    {
     "data": {
      "text/markdown": [
       "Sent to surviving/continuing  index  participants and new participants recruited at visit 3.  Three self-completion questionnaires completed close to time of visit 3/postal approach."
      ],
      "text/plain": [
       "<IPython.core.display.Markdown object>"
      ]
     },
     "metadata": {},
     "output_type": "display_data"
    }
   ],
   "source": [
    "ds.summary()"
   ]
  },
  {
   "cell_type": "code",
   "execution_count": 3,
   "id": "57f40f27",
   "metadata": {
    "execution": {
     "iopub.execute_input": "2025-07-28T20:24:52.824714Z",
     "iopub.status.busy": "2025-07-28T20:24:52.822721Z",
     "iopub.status.idle": "2025-07-28T20:24:57.559730Z",
     "shell.execute_reply": "2025-07-28T20:24:57.557712Z"
    },
    "tags": [
     "remove-input"
    ]
   },
   "outputs": [
    {
     "data": {
      "text/html": [
       "<style type=\"text/css\">\n",
       "#T_06826 th {\n",
       "  text-align: left;\n",
       "}\n",
       "#T_06826_row0_col0, #T_06826_row0_col1, #T_06826_row1_col0, #T_06826_row1_col1, #T_06826_row2_col0, #T_06826_row2_col1, #T_06826_row3_col0, #T_06826_row3_col1, #T_06826_row4_col0, #T_06826_row4_col1, #T_06826_row5_col0, #T_06826_row5_col1, #T_06826_row6_col0, #T_06826_row6_col1, #T_06826_row7_col0, #T_06826_row7_col1, #T_06826_row8_col0, #T_06826_row8_col1, #T_06826_row9_col0, #T_06826_row9_col1, #T_06826_row10_col0, #T_06826_row10_col1, #T_06826_row11_col0, #T_06826_row11_col1, #T_06826_row12_col0, #T_06826_row12_col1 {\n",
       "  text-align: left;\n",
       "}\n",
       "</style>\n",
       "<table id=\"T_06826\" style=\"font-size: 14px\">\n",
       "  <thead>\n",
       "    <tr>\n",
       "      <th id=\"T_06826_level0_col0\" class=\"col_heading level0 col0\" >Dataset Descriptor</th>\n",
       "      <th id=\"T_06826_level0_col1\" class=\"col_heading level0 col1\" >Dataset-specific Information</th>\n",
       "    </tr>\n",
       "  </thead>\n",
       "  <tbody>\n",
       "    <tr>\n",
       "      <td id=\"T_06826_row0_col0\" class=\"data row0 col0\" >Name of Dataset in TRE</td>\n",
       "      <td id=\"T_06826_row0_col1\" class=\"data row0 col1\" >SABRE_sociodemographic_visit3</td>\n",
       "    </tr>\n",
       "    <tr>\n",
       "      <td id=\"T_06826_row1_col0\" class=\"data row1 col0\" >Citation (APA)</td>\n",
       "      <td id=\"T_06826_row1_col1\" class=\"data row1 col1\" >University College London, Institute of Cardiovascular Science, Unit for Lifelong Health and Ageing. (2021). <i>Southall & Brent Revisited (SABRE): Sociodemographic Visit 3.</i> UK Longitudinal Linkage Collaboration (UK LLC).  <a href=\"https://doi.org/10.71760/ukllc-dataset-00311-01\" rel=\"noopener noreferrer\" target=\"_blank\">https://doi.org/10.71760/ukllc-dataset-00311-01</a></td>\n",
       "    </tr>\n",
       "    <tr>\n",
       "      <td id=\"T_06826_row2_col0\" class=\"data row2 col0\" >Download Citation</td>\n",
       "      <td id=\"T_06826_row2_col1\" class=\"data row2 col1\" > <a href=\"https://api.datacite.org/application/vnd.citationstyles.csl+json/10.71760/ukllc-dataset-00311-01\" rel=\"noopener noreferrer\" target=\"_blank\">Citeproc JSON</a>&nbsp;&nbsp;&nbsp;&nbsp; <a href=\"https://api.datacite.org/application/x-bibtex/10.71760/ukllc-dataset-00311-01\" rel=\"noopener noreferrer\" target=\"_blank\">BibTeX</a>&nbsp;&nbsp;&nbsp;&nbsp; <a href=\"https://api.datacite.org/application/x-research-info-systems/10.71760/ukllc-dataset-00311-01\" rel=\"noopener noreferrer\" target=\"_blank\">RIS</a></td>\n",
       "    </tr>\n",
       "    <tr>\n",
       "      <td id=\"T_06826_row3_col0\" class=\"data row3 col0\" >Series</td>\n",
       "      <td id=\"T_06826_row3_col1\" class=\"data row3 col1\" > <a href=\"https://guidebook.ukllc.ac.uk/docs/lps_data/lps%20profiles/SABRE\">Southall & Brent Revisited (SABRE)</a></td>\n",
       "    </tr>\n",
       "    <tr>\n",
       "      <td id=\"T_06826_row4_col0\" class=\"data row4 col0\" >Owner</td>\n",
       "      <td id=\"T_06826_row4_col1\" class=\"data row4 col1\" >UCL</td>\n",
       "    </tr>\n",
       "    <tr>\n",
       "      <td id=\"T_06826_row5_col0\" class=\"data row5 col0\" >Temporal Coverage</td>\n",
       "      <td id=\"T_06826_row5_col1\" class=\"data row5 col1\" >01/2014 - 12/2018</td>\n",
       "    </tr>\n",
       "    <tr>\n",
       "      <td id=\"T_06826_row6_col0\" class=\"data row6 col0\" >Keywords</td>\n",
       "      <td id=\"T_06826_row6_col1\" class=\"data row6 col1\" ></td>\n",
       "    </tr>\n",
       "    <tr>\n",
       "      <td id=\"T_06826_row7_col0\" class=\"data row7 col0\" >Participants Invited</td>\n",
       "      <td id=\"T_06826_row7_col1\" class=\"data row7 col1\" >1412 surviving index participants who had taken part at both visits 1 and 2 (~56% response from this group).  New participants were recruited from partners of index participants and by newspaper advertisements (response rate cannot be calculated for this group))</td>\n",
       "    </tr>\n",
       "    <tr>\n",
       "      <td id=\"T_06826_row8_col0\" class=\"data row8 col0\" >Participant Count</td>\n",
       "      <td id=\"T_06826_row8_col1\" class=\"data row8 col1\" >1039</td>\n",
       "    </tr>\n",
       "    <tr>\n",
       "      <td id=\"T_06826_row9_col0\" class=\"data row9 col0\" >Number of variables</td>\n",
       "      <td id=\"T_06826_row9_col1\" class=\"data row9 col1\" >17</td>\n",
       "    </tr>\n",
       "    <tr>\n",
       "      <td id=\"T_06826_row10_col0\" class=\"data row10 col0\" >Number of observations</td>\n",
       "      <td id=\"T_06826_row10_col1\" class=\"data row10 col1\" >4719</td>\n",
       "    </tr>\n",
       "    <tr>\n",
       "      <td id=\"T_06826_row11_col0\" class=\"data row11 col0\" >Specific Restrictions to Data Use</td>\n",
       "      <td id=\"T_06826_row11_col1\" class=\"data row11 col1\" >None</td>\n",
       "    </tr>\n",
       "    <tr>\n",
       "      <td id=\"T_06826_row12_col0\" class=\"data row12 col0\" >Build a Data Request</td>\n",
       "      <td id=\"T_06826_row12_col1\" class=\"data row12 col1\" > <a href=\"https://explore.ukllc.ac.uk/\" rel=\"noopener noreferrer\" target=\"_blank\">https://explore.ukllc.ac.uk/</a></td>\n",
       "    </tr>\n",
       "  </tbody>\n",
       "</table>\n"
      ],
      "text/plain": [
       "<pandas.io.formats.style.Styler at 0x1fb2a990410>"
      ]
     },
     "execution_count": 3,
     "metadata": {},
     "output_type": "execute_result"
    }
   ],
   "source": [
    "ds.info_table()"
   ]
  },
  {
   "cell_type": "markdown",
   "id": "9b5bc5aa",
   "metadata": {},
   "source": [
    "## 2. Version History"
   ]
  },
  {
   "cell_type": "code",
   "execution_count": 4,
   "id": "17b47bbd",
   "metadata": {
    "execution": {
     "iopub.execute_input": "2025-07-28T20:24:57.568742Z",
     "iopub.status.busy": "2025-07-28T20:24:57.567755Z",
     "iopub.status.idle": "2025-07-28T20:25:03.049919Z",
     "shell.execute_reply": "2025-07-28T20:25:03.047896Z"
    },
    "tags": [
     "remove-input"
    ]
   },
   "outputs": [
    {
     "data": {
      "text/html": [
       "<style type=\"text/css\">\n",
       "#T_7f488 th {\n",
       "  text-align: left;\n",
       "}\n",
       "#T_7f488_row0_col0, #T_7f488_row0_col1, #T_7f488_row1_col0, #T_7f488_row1_col1, #T_7f488_row2_col0, #T_7f488_row2_col1, #T_7f488_row3_col0, #T_7f488_row3_col1, #T_7f488_row4_col0, #T_7f488_row4_col1 {\n",
       "  text-align: left;\n",
       "}\n",
       "</style>\n",
       "<table id=\"T_7f488\" style=\"font-size: 14px\">\n",
       "  <thead>\n",
       "    <tr>\n",
       "      <th id=\"T_7f488_level0_col0\" class=\"col_heading level0 col0\" >Version</th>\n",
       "      <th id=\"T_7f488_level0_col1\" class=\"col_heading level0 col1\" >1</th>\n",
       "    </tr>\n",
       "  </thead>\n",
       "  <tbody>\n",
       "    <tr>\n",
       "      <td id=\"T_7f488_row0_col0\" class=\"data row0 col0\" >Version Date</td>\n",
       "      <td id=\"T_7f488_row0_col1\" class=\"data row0 col1\" >01 Nov 2021</td>\n",
       "    </tr>\n",
       "    <tr>\n",
       "      <td id=\"T_7f488_row1_col0\" class=\"data row1 col0\" >Number of Variables</td>\n",
       "      <td id=\"T_7f488_row1_col1\" class=\"data row1 col1\" >17</td>\n",
       "    </tr>\n",
       "    <tr>\n",
       "      <td id=\"T_7f488_row2_col0\" class=\"data row2 col0\" >Number of Observations</td>\n",
       "      <td id=\"T_7f488_row2_col1\" class=\"data row2 col1\" >4719</td>\n",
       "    </tr>\n",
       "    <tr>\n",
       "      <td id=\"T_7f488_row3_col0\" class=\"data row3 col0\" >DOI</td>\n",
       "      <td id=\"T_7f488_row3_col1\" class=\"data row3 col1\" > <a href=\"https://doi.org/10.71760/ukllc-dataset-00311-01\" rel=\"noopener noreferrer\" target=\"_blank\">10.71760/ukllc-dataset-00311-01</a></td>\n",
       "    </tr>\n",
       "    <tr>\n",
       "      <td id=\"T_7f488_row4_col0\" class=\"data row4 col0\" >Change Log</td>\n",
       "      <td id=\"T_7f488_row4_col1\" class=\"data row4 col1\" > <a href=\"https://api.test.datacite.org/dois/10.71760/ukllc-dataset-00311-01/activities\" rel=\"noopener noreferrer\" target=\"_blank\">10.71760/ukllc-dataset-00311-01/activities</a></td>\n",
       "    </tr>\n",
       "  </tbody>\n",
       "</table>\n"
      ],
      "text/plain": [
       "<pandas.io.formats.style.Styler at 0x1fb302bd0a0>"
      ]
     },
     "execution_count": 4,
     "metadata": {},
     "output_type": "execute_result"
    }
   ],
   "source": [
    "ds.version_history()"
   ]
  },
  {
   "cell_type": "markdown",
   "id": "f64a0ec8",
   "metadata": {},
   "source": [
    "## 3. Documentation"
   ]
  },
  {
   "cell_type": "code",
   "execution_count": 5,
   "id": "964c6ad4",
   "metadata": {
    "execution": {
     "iopub.execute_input": "2025-07-28T20:25:03.059920Z",
     "iopub.status.busy": "2025-07-28T20:25:03.058921Z",
     "iopub.status.idle": "2025-07-28T20:25:03.075306Z",
     "shell.execute_reply": "2025-07-28T20:25:03.072283Z"
    },
    "tags": [
     "remove-input"
    ]
   },
   "outputs": [
    {
     "data": {
      "text/markdown": [
       "We are currently building a documentation storage system which will host useful documents related to datasets and data owners. We will surface these documents on Guidebook."
      ],
      "text/plain": [
       "<IPython.core.display.Markdown object>"
      ]
     },
     "metadata": {},
     "output_type": "display_data"
    }
   ],
   "source": [
    "ds.documentation()"
   ]
  },
  {
   "cell_type": "markdown",
   "id": "553dcf22",
   "metadata": {},
   "source": [
    "## 4. Useful Syntax"
   ]
  },
  {
   "cell_type": "code",
   "execution_count": 6,
   "id": "0ea56f48",
   "metadata": {
    "execution": {
     "iopub.execute_input": "2025-07-28T20:25:03.084301Z",
     "iopub.status.busy": "2025-07-28T20:25:03.083308Z",
     "iopub.status.idle": "2025-07-28T20:25:03.093546Z",
     "shell.execute_reply": "2025-07-28T20:25:03.091523Z"
    },
    "tags": [
     "remove-input"
    ]
   },
   "outputs": [
    {
     "data": {
      "text/markdown": [
       "Below we will include syntax that may be helpful to other researchers in the UK LLC TRE. For longer scripts, we will include a snippet of the code plus a link to Git where you can find the full scripts."
      ],
      "text/plain": [
       "<IPython.core.display.Markdown object>"
      ]
     },
     "metadata": {},
     "output_type": "display_data"
    }
   ],
   "source": [
    "ds.useful_syntax()"
   ]
  }
 ],
 "metadata": {
  "language_info": {
   "codemirror_mode": {
    "name": "ipython",
    "version": 3
   },
   "file_extension": ".py",
   "mimetype": "text/x-python",
   "name": "python",
   "nbconvert_exporter": "python",
   "pygments_lexer": "ipython3",
   "version": "3.12.7"
  }
 },
 "nbformat": 4,
 "nbformat_minor": 5
}
