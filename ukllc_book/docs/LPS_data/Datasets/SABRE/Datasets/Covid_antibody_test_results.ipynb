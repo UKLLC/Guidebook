{
 "cells": [
  {
   "cell_type": "markdown",
   "id": "66df62b9",
   "metadata": {},
   "source": [
    "# COVID-19 Antibody Test Results (SABRE)"
   ]
  },
  {
   "cell_type": "code",
   "execution_count": 1,
   "id": "769cbc41",
   "metadata": {
    "execution": {
     "iopub.execute_input": "2025-07-18T10:30:02.118176Z",
     "iopub.status.busy": "2025-07-18T10:30:02.118176Z",
     "iopub.status.idle": "2025-07-18T10:30:08.631974Z",
     "shell.execute_reply": "2025-07-18T10:30:08.630967Z"
    },
    "tags": [
     "remove-input"
    ]
   },
   "outputs": [
    {
     "data": {
      "text/markdown": [
       ">Last modified: 18 Jul 2025"
      ],
      "text/plain": [
       "<IPython.core.display.Markdown object>"
      ]
     },
     "metadata": {},
     "output_type": "display_data"
    }
   ],
   "source": [
    "\n",
    "import sys\n",
    "import os\n",
    "sys.path.append(os.path.abspath('../../../../scripts/'))\n",
    "from data_doc_helper import LPSDataSet as DS, last_modified\n",
    "API_KEY = os.environ['FASTAPI_KEY']\n",
    "ds = DS(\"SABRE\", \"Covid_antibody_test_results\")\n",
    "last_modified()\n"
   ]
  },
  {
   "cell_type": "markdown",
   "id": "6ff12b4b",
   "metadata": {},
   "source": [
    "## 1. Summary"
   ]
  },
  {
   "cell_type": "code",
   "execution_count": 2,
   "id": "ed531683",
   "metadata": {
    "execution": {
     "iopub.execute_input": "2025-07-18T10:30:08.638973Z",
     "iopub.status.busy": "2025-07-18T10:30:08.637975Z",
     "iopub.status.idle": "2025-07-18T10:30:08.648459Z",
     "shell.execute_reply": "2025-07-18T10:30:08.646451Z"
    },
    "tags": [
     "remove-input"
    ]
   },
   "outputs": [
    {
     "data": {
      "text/markdown": [
       "Antibody study request sent to surviving participants who had completeted Covid questionnaire at wave 1 or wave 2.  Finger tip blood sample by post to Thriva"
      ],
      "text/plain": [
       "<IPython.core.display.Markdown object>"
      ]
     },
     "metadata": {},
     "output_type": "display_data"
    }
   ],
   "source": [
    "ds.summary()"
   ]
  },
  {
   "cell_type": "code",
   "execution_count": 3,
   "id": "cfd026f7",
   "metadata": {
    "execution": {
     "iopub.execute_input": "2025-07-18T10:30:08.654604Z",
     "iopub.status.busy": "2025-07-18T10:30:08.653605Z",
     "iopub.status.idle": "2025-07-18T10:30:09.685145Z",
     "shell.execute_reply": "2025-07-18T10:30:09.684136Z"
    },
    "tags": [
     "remove-input"
    ]
   },
   "outputs": [
    {
     "data": {
      "text/html": [
       "<style type=\"text/css\">\n",
       "#T_fce64 th {\n",
       "  text-align: left;\n",
       "}\n",
       "#T_fce64_row0_col0, #T_fce64_row0_col1, #T_fce64_row1_col0, #T_fce64_row1_col1, #T_fce64_row2_col0, #T_fce64_row2_col1, #T_fce64_row3_col0, #T_fce64_row3_col1, #T_fce64_row4_col0, #T_fce64_row4_col1, #T_fce64_row5_col0, #T_fce64_row5_col1, #T_fce64_row6_col0, #T_fce64_row6_col1, #T_fce64_row7_col0, #T_fce64_row7_col1, #T_fce64_row8_col0, #T_fce64_row8_col1, #T_fce64_row9_col0, #T_fce64_row9_col1, #T_fce64_row10_col0, #T_fce64_row10_col1, #T_fce64_row11_col0, #T_fce64_row11_col1, #T_fce64_row12_col0, #T_fce64_row12_col1 {\n",
       "  text-align: left;\n",
       "}\n",
       "</style>\n",
       "<table id=\"T_fce64\" style=\"font-size: 14px\">\n",
       "  <thead>\n",
       "    <tr>\n",
       "      <th id=\"T_fce64_level0_col0\" class=\"col_heading level0 col0\" >Dataset Descriptor</th>\n",
       "      <th id=\"T_fce64_level0_col1\" class=\"col_heading level0 col1\" >Dataset-specific Information</th>\n",
       "    </tr>\n",
       "  </thead>\n",
       "  <tbody>\n",
       "    <tr>\n",
       "      <td id=\"T_fce64_row0_col0\" class=\"data row0 col0\" >Name of Dataset in TRE</td>\n",
       "      <td id=\"T_fce64_row0_col1\" class=\"data row0 col1\" >SABRE_Covid_antibody_test_results</td>\n",
       "    </tr>\n",
       "    <tr>\n",
       "      <td id=\"T_fce64_row1_col0\" class=\"data row1 col0\" >Citation (APA)</td>\n",
       "      <td id=\"T_fce64_row1_col1\" class=\"data row1 col1\" >University College London, Institute of Cardiovascular Science, Unit for Lifelong Health and Ageing. (2021). <i>Southall & Brent Revisited (SABRE): COVID-19 Antibody Test Results.</i> UK Longitudinal Linkage Collaboration (UK LLC).  <a href=\"https://doi.org/10.83126/ukllc-dataset-00377-01\" rel=\"noopener noreferrer\" target=\"_blank\">https://doi.org/10.83126/ukllc-dataset-00377-01</a></td>\n",
       "    </tr>\n",
       "    <tr>\n",
       "      <td id=\"T_fce64_row2_col0\" class=\"data row2 col0\" >Download Citation</td>\n",
       "      <td id=\"T_fce64_row2_col1\" class=\"data row2 col1\" > <a href=\"https://api.test.datacite.org/application/vnd.citationstyles.csl+json/10.83126/ukllc-dataset-00377-01\" rel=\"noopener noreferrer\" target=\"_blank\">Citeproc JSON</a>&nbsp;&nbsp;&nbsp;&nbsp; <a href=\"https://api.test.datacite.org/application/x-bibtex/10.83126/ukllc-dataset-00377-01\" rel=\"noopener noreferrer\" target=\"_blank\">BibTeX</a>&nbsp;&nbsp;&nbsp;&nbsp; <a href=\"https://api.test.datacite.org/application/x-research-info-systems/10.83126/ukllc-dataset-00377-01\" rel=\"noopener noreferrer\" target=\"_blank\">RIS</a></td>\n",
       "    </tr>\n",
       "    <tr>\n",
       "      <td id=\"T_fce64_row3_col0\" class=\"data row3 col0\" >Series</td>\n",
       "      <td id=\"T_fce64_row3_col1\" class=\"data row3 col1\" > <a href=\"https://guidebook.ukllc.ac.uk/docs/lps/lps%20profiles/SABRE\">Southall & Brent Revisited (SABRE)</a></td>\n",
       "    </tr>\n",
       "    <tr>\n",
       "      <td id=\"T_fce64_row4_col0\" class=\"data row4 col0\" >Owner</td>\n",
       "      <td id=\"T_fce64_row4_col1\" class=\"data row4 col1\" >UCL</td>\n",
       "    </tr>\n",
       "    <tr>\n",
       "      <td id=\"T_fce64_row5_col0\" class=\"data row5 col0\" >Temporal Coverage</td>\n",
       "      <td id=\"T_fce64_row5_col1\" class=\"data row5 col1\" >05/2021 - 07/2021</td>\n",
       "    </tr>\n",
       "    <tr>\n",
       "      <td id=\"T_fce64_row6_col0\" class=\"data row6 col0\" >Keywords</td>\n",
       "      <td id=\"T_fce64_row6_col1\" class=\"data row6 col1\" ></td>\n",
       "    </tr>\n",
       "    <tr>\n",
       "      <td id=\"T_fce64_row7_col0\" class=\"data row7 col0\" >Participants Invited</td>\n",
       "      <td id=\"T_fce64_row7_col1\" class=\"data row7 col1\" >612 (404 index participants and 208 new participants at visit 3)</td>\n",
       "    </tr>\n",
       "    <tr>\n",
       "      <td id=\"T_fce64_row8_col0\" class=\"data row8 col0\" >Participant Count</td>\n",
       "      <td id=\"T_fce64_row8_col1\" class=\"data row8 col1\" >166</td>\n",
       "    </tr>\n",
       "    <tr>\n",
       "      <td id=\"T_fce64_row9_col0\" class=\"data row9 col0\" >Number of variables</td>\n",
       "      <td id=\"T_fce64_row9_col1\" class=\"data row9 col1\" >15</td>\n",
       "    </tr>\n",
       "    <tr>\n",
       "      <td id=\"T_fce64_row10_col0\" class=\"data row10 col0\" >Number of observations</td>\n",
       "      <td id=\"T_fce64_row10_col1\" class=\"data row10 col1\" >5144</td>\n",
       "    </tr>\n",
       "    <tr>\n",
       "      <td id=\"T_fce64_row11_col0\" class=\"data row11 col0\" >Specific Restrictions to Data Use</td>\n",
       "      <td id=\"T_fce64_row11_col1\" class=\"data row11 col1\" >None</td>\n",
       "    </tr>\n",
       "    <tr>\n",
       "      <td id=\"T_fce64_row12_col0\" class=\"data row12 col0\" >Build a Data Request</td>\n",
       "      <td id=\"T_fce64_row12_col1\" class=\"data row12 col1\" > <a href=\"https://explore.ukllc.ac.uk/\" rel=\"noopener noreferrer\" target=\"_blank\">https://explore.ukllc.ac.uk/</a></td>\n",
       "    </tr>\n",
       "  </tbody>\n",
       "</table>\n"
      ],
      "text/plain": [
       "<pandas.io.formats.style.Styler at 0x1c3c8930260>"
      ]
     },
     "execution_count": 3,
     "metadata": {},
     "output_type": "execute_result"
    }
   ],
   "source": [
    "ds.info_table()"
   ]
  },
  {
   "cell_type": "markdown",
   "id": "8fa1c334",
   "metadata": {},
   "source": [
    "## 2. Version History"
   ]
  },
  {
   "cell_type": "code",
   "execution_count": 4,
   "id": "7c81a151",
   "metadata": {
    "execution": {
     "iopub.execute_input": "2025-07-18T10:30:09.694142Z",
     "iopub.status.busy": "2025-07-18T10:30:09.693142Z",
     "iopub.status.idle": "2025-07-18T10:30:11.980982Z",
     "shell.execute_reply": "2025-07-18T10:30:11.978738Z"
    },
    "tags": [
     "remove-input"
    ]
   },
   "outputs": [
    {
     "data": {
      "text/html": [
       "<style type=\"text/css\">\n",
       "#T_ff227 th {\n",
       "  text-align: left;\n",
       "}\n",
       "#T_ff227_row0_col0, #T_ff227_row0_col1, #T_ff227_row1_col0, #T_ff227_row1_col1, #T_ff227_row2_col0, #T_ff227_row2_col1, #T_ff227_row3_col0, #T_ff227_row3_col1, #T_ff227_row4_col0, #T_ff227_row4_col1 {\n",
       "  text-align: left;\n",
       "}\n",
       "</style>\n",
       "<table id=\"T_ff227\" style=\"font-size: 14px\">\n",
       "  <thead>\n",
       "    <tr>\n",
       "      <th id=\"T_ff227_level0_col0\" class=\"col_heading level0 col0\" >Version</th>\n",
       "      <th id=\"T_ff227_level0_col1\" class=\"col_heading level0 col1\" >1</th>\n",
       "    </tr>\n",
       "  </thead>\n",
       "  <tbody>\n",
       "    <tr>\n",
       "      <td id=\"T_ff227_row0_col0\" class=\"data row0 col0\" >Version Date</td>\n",
       "      <td id=\"T_ff227_row0_col1\" class=\"data row0 col1\" >01 Nov 2021</td>\n",
       "    </tr>\n",
       "    <tr>\n",
       "      <td id=\"T_ff227_row1_col0\" class=\"data row1 col0\" >Number of Variables</td>\n",
       "      <td id=\"T_ff227_row1_col1\" class=\"data row1 col1\" >15</td>\n",
       "    </tr>\n",
       "    <tr>\n",
       "      <td id=\"T_ff227_row2_col0\" class=\"data row2 col0\" >Number of Observations</td>\n",
       "      <td id=\"T_ff227_row2_col1\" class=\"data row2 col1\" >5144</td>\n",
       "    </tr>\n",
       "    <tr>\n",
       "      <td id=\"T_ff227_row3_col0\" class=\"data row3 col0\" >DOI</td>\n",
       "      <td id=\"T_ff227_row3_col1\" class=\"data row3 col1\" > <a href=\"https://doi.org/10.83126/ukllc-dataset-00377-01\" rel=\"noopener noreferrer\" target=\"_blank\">10.83126/ukllc-dataset-00377-01</a></td>\n",
       "    </tr>\n",
       "    <tr>\n",
       "      <td id=\"T_ff227_row4_col0\" class=\"data row4 col0\" >Change Log</td>\n",
       "      <td id=\"T_ff227_row4_col1\" class=\"data row4 col1\" > <a href=\"https://api.test.datacite.org/dois/10.83126/ukllc-dataset-00377-01/activities\" rel=\"noopener noreferrer\" target=\"_blank\">10.83126/ukllc-dataset-00377-01/activities</a></td>\n",
       "    </tr>\n",
       "  </tbody>\n",
       "</table>\n"
      ],
      "text/plain": [
       "<pandas.io.formats.style.Styler at 0x1c3cced0470>"
      ]
     },
     "execution_count": 4,
     "metadata": {},
     "output_type": "execute_result"
    }
   ],
   "source": [
    "ds.version_history()"
   ]
  },
  {
   "cell_type": "markdown",
   "id": "00bb59b2",
   "metadata": {},
   "source": [
    "## 3. Documentation"
   ]
  },
  {
   "cell_type": "code",
   "execution_count": 5,
   "id": "934140d6",
   "metadata": {
    "execution": {
     "iopub.execute_input": "2025-07-18T10:30:11.987982Z",
     "iopub.status.busy": "2025-07-18T10:30:11.987982Z",
     "iopub.status.idle": "2025-07-18T10:30:11.999410Z",
     "shell.execute_reply": "2025-07-18T10:30:11.996403Z"
    },
    "tags": [
     "remove-input"
    ]
   },
   "outputs": [
    {
     "data": {
      "text/markdown": [
       "We are currently building a documentation storage system which will host useful documents related to datasets and data owners. We will surface these documents on Guidebook."
      ],
      "text/plain": [
       "<IPython.core.display.Markdown object>"
      ]
     },
     "metadata": {},
     "output_type": "display_data"
    }
   ],
   "source": [
    "ds.documentation()"
   ]
  },
  {
   "cell_type": "markdown",
   "id": "c8c49a07",
   "metadata": {},
   "source": [
    "## 4. Useful Syntax"
   ]
  },
  {
   "cell_type": "code",
   "execution_count": 6,
   "id": "6be4159f",
   "metadata": {
    "execution": {
     "iopub.execute_input": "2025-07-18T10:30:12.005410Z",
     "iopub.status.busy": "2025-07-18T10:30:12.005410Z",
     "iopub.status.idle": "2025-07-18T10:30:12.015811Z",
     "shell.execute_reply": "2025-07-18T10:30:12.013803Z"
    },
    "tags": [
     "remove-input"
    ]
   },
   "outputs": [
    {
     "data": {
      "text/markdown": [
       "Below we will include syntax that may be helpful to other researchers in the UK LLC TRE. For longer scripts, we will include a snippet of the code plus a link to Git where you can find the full scripts."
      ],
      "text/plain": [
       "<IPython.core.display.Markdown object>"
      ]
     },
     "metadata": {},
     "output_type": "display_data"
    }
   ],
   "source": [
    "ds.useful_syntax()"
   ]
  }
 ],
 "metadata": {
  "language_info": {
   "codemirror_mode": {
    "name": "ipython",
    "version": 3
   },
   "file_extension": ".py",
   "mimetype": "text/x-python",
   "name": "python",
   "nbconvert_exporter": "python",
   "pygments_lexer": "ipython3",
   "version": "3.12.7"
  }
 },
 "nbformat": 4,
 "nbformat_minor": 5
}
