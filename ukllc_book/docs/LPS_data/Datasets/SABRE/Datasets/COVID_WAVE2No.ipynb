{
 "cells": [
  {
   "cell_type": "markdown",
   "id": "59cb411e",
   "metadata": {},
   "source": [
    "# COVID-19 Wave 2 No (SABRE)"
   ]
  },
  {
   "cell_type": "code",
   "execution_count": 1,
   "id": "28cf4a2c",
   "metadata": {
    "execution": {
     "iopub.execute_input": "2025-07-28T20:22:53.149985Z",
     "iopub.status.busy": "2025-07-28T20:22:53.148984Z",
     "iopub.status.idle": "2025-07-28T20:23:05.634383Z",
     "shell.execute_reply": "2025-07-28T20:23:05.632367Z"
    },
    "tags": [
     "remove-input"
    ]
   },
   "outputs": [
    {
     "data": {
      "text/markdown": [
       ">Last modified: 28 Jul 2025"
      ],
      "text/plain": [
       "<IPython.core.display.Markdown object>"
      ]
     },
     "metadata": {},
     "output_type": "display_data"
    }
   ],
   "source": [
    "\n",
    "import sys\n",
    "import os\n",
    "sys.path.append(os.path.abspath('../../../../scripts/'))\n",
    "from data_doc_helper import LPSDataSet as DS, last_modified\n",
    "API_KEY = os.environ['FASTAPI_KEY']\n",
    "ds = DS(\"SABRE\", \"COVID_WAVE2No\")\n",
    "last_modified()\n"
   ]
  },
  {
   "cell_type": "markdown",
   "id": "16914617",
   "metadata": {},
   "source": [
    "## 1. Summary"
   ]
  },
  {
   "cell_type": "code",
   "execution_count": 2,
   "id": "04cb41ae",
   "metadata": {
    "execution": {
     "iopub.execute_input": "2025-07-28T20:23:05.643775Z",
     "iopub.status.busy": "2025-07-28T20:23:05.642775Z",
     "iopub.status.idle": "2025-07-28T20:23:05.662616Z",
     "shell.execute_reply": "2025-07-28T20:23:05.661599Z"
    },
    "tags": [
     "remove-input"
    ]
   },
   "outputs": [
    {
     "data": {
      "text/markdown": [
       "Postal questionnaire "
      ],
      "text/plain": [
       "<IPython.core.display.Markdown object>"
      ]
     },
     "metadata": {},
     "output_type": "display_data"
    }
   ],
   "source": [
    "ds.summary()"
   ]
  },
  {
   "cell_type": "code",
   "execution_count": 3,
   "id": "9f9f2ae6",
   "metadata": {
    "execution": {
     "iopub.execute_input": "2025-07-28T20:23:05.670978Z",
     "iopub.status.busy": "2025-07-28T20:23:05.669979Z",
     "iopub.status.idle": "2025-07-28T20:23:07.504766Z",
     "shell.execute_reply": "2025-07-28T20:23:07.503751Z"
    },
    "tags": [
     "remove-input"
    ]
   },
   "outputs": [
    {
     "data": {
      "text/html": [
       "<style type=\"text/css\">\n",
       "#T_d64dd th {\n",
       "  text-align: left;\n",
       "}\n",
       "#T_d64dd_row0_col0, #T_d64dd_row0_col1, #T_d64dd_row1_col0, #T_d64dd_row1_col1, #T_d64dd_row2_col0, #T_d64dd_row2_col1, #T_d64dd_row3_col0, #T_d64dd_row3_col1, #T_d64dd_row4_col0, #T_d64dd_row4_col1, #T_d64dd_row5_col0, #T_d64dd_row5_col1, #T_d64dd_row6_col0, #T_d64dd_row6_col1, #T_d64dd_row7_col0, #T_d64dd_row7_col1, #T_d64dd_row8_col0, #T_d64dd_row8_col1, #T_d64dd_row9_col0, #T_d64dd_row9_col1, #T_d64dd_row10_col0, #T_d64dd_row10_col1, #T_d64dd_row11_col0, #T_d64dd_row11_col1, #T_d64dd_row12_col0, #T_d64dd_row12_col1 {\n",
       "  text-align: left;\n",
       "}\n",
       "</style>\n",
       "<table id=\"T_d64dd\" style=\"font-size: 14px\">\n",
       "  <thead>\n",
       "    <tr>\n",
       "      <th id=\"T_d64dd_level0_col0\" class=\"col_heading level0 col0\" >Dataset Descriptor</th>\n",
       "      <th id=\"T_d64dd_level0_col1\" class=\"col_heading level0 col1\" >Dataset-specific Information</th>\n",
       "    </tr>\n",
       "  </thead>\n",
       "  <tbody>\n",
       "    <tr>\n",
       "      <td id=\"T_d64dd_row0_col0\" class=\"data row0 col0\" >Name of Dataset in TRE</td>\n",
       "      <td id=\"T_d64dd_row0_col1\" class=\"data row0 col1\" >SABRE_COVID_WAVE2No</td>\n",
       "    </tr>\n",
       "    <tr>\n",
       "      <td id=\"T_d64dd_row1_col0\" class=\"data row1 col0\" >Citation (APA)</td>\n",
       "      <td id=\"T_d64dd_row1_col1\" class=\"data row1 col1\" >University College London, Institute of Cardiovascular Science, Unit for Lifelong Health and Ageing. (2021). <i>Southall & Brent Revisited (SABRE): COVID-19 Wave 2 No.</i> UK Longitudinal Linkage Collaboration (UK LLC).  <a href=\"https://doi.org/10.71760/ukllc-dataset-00305-02\" rel=\"noopener noreferrer\" target=\"_blank\">https://doi.org/10.71760/ukllc-dataset-00305-02</a></td>\n",
       "    </tr>\n",
       "    <tr>\n",
       "      <td id=\"T_d64dd_row2_col0\" class=\"data row2 col0\" >Download Citation</td>\n",
       "      <td id=\"T_d64dd_row2_col1\" class=\"data row2 col1\" > <a href=\"https://api.datacite.org/application/vnd.citationstyles.csl+json/10.71760/ukllc-dataset-00305-02\" rel=\"noopener noreferrer\" target=\"_blank\">Citeproc JSON</a>&nbsp;&nbsp;&nbsp;&nbsp; <a href=\"https://api.datacite.org/application/x-bibtex/10.71760/ukllc-dataset-00305-02\" rel=\"noopener noreferrer\" target=\"_blank\">BibTeX</a>&nbsp;&nbsp;&nbsp;&nbsp; <a href=\"https://api.datacite.org/application/x-research-info-systems/10.71760/ukllc-dataset-00305-02\" rel=\"noopener noreferrer\" target=\"_blank\">RIS</a></td>\n",
       "    </tr>\n",
       "    <tr>\n",
       "      <td id=\"T_d64dd_row3_col0\" class=\"data row3 col0\" >Series</td>\n",
       "      <td id=\"T_d64dd_row3_col1\" class=\"data row3 col1\" > <a href=\"https://guidebook.ukllc.ac.uk/docs/lps_data/lps%20profiles/SABRE\">Southall & Brent Revisited (SABRE)</a></td>\n",
       "    </tr>\n",
       "    <tr>\n",
       "      <td id=\"T_d64dd_row4_col0\" class=\"data row4 col0\" >Owner</td>\n",
       "      <td id=\"T_d64dd_row4_col1\" class=\"data row4 col1\" >UCL</td>\n",
       "    </tr>\n",
       "    <tr>\n",
       "      <td id=\"T_d64dd_row5_col0\" class=\"data row5 col0\" >Temporal Coverage</td>\n",
       "      <td id=\"T_d64dd_row5_col1\" class=\"data row5 col1\" >11/2020 - 12/2020</td>\n",
       "    </tr>\n",
       "    <tr>\n",
       "      <td id=\"T_d64dd_row6_col0\" class=\"data row6 col0\" >Keywords</td>\n",
       "      <td id=\"T_d64dd_row6_col1\" class=\"data row6 col1\" ></td>\n",
       "    </tr>\n",
       "    <tr>\n",
       "      <td id=\"T_d64dd_row7_col0\" class=\"data row7 col0\" >Participants Invited</td>\n",
       "      <td id=\"T_d64dd_row7_col1\" class=\"data row7 col1\" >319</td>\n",
       "    </tr>\n",
       "    <tr>\n",
       "      <td id=\"T_d64dd_row8_col0\" class=\"data row8 col0\" >Participant Count</td>\n",
       "      <td id=\"T_d64dd_row8_col1\" class=\"data row8 col1\" >48</td>\n",
       "    </tr>\n",
       "    <tr>\n",
       "      <td id=\"T_d64dd_row9_col0\" class=\"data row9 col0\" >Number of variables</td>\n",
       "      <td id=\"T_d64dd_row9_col1\" class=\"data row9 col1\" >365</td>\n",
       "    </tr>\n",
       "    <tr>\n",
       "      <td id=\"T_d64dd_row10_col0\" class=\"data row10 col0\" >Number of observations</td>\n",
       "      <td id=\"T_d64dd_row10_col1\" class=\"data row10 col1\" >4719</td>\n",
       "    </tr>\n",
       "    <tr>\n",
       "      <td id=\"T_d64dd_row11_col0\" class=\"data row11 col0\" >Specific Restrictions to Data Use</td>\n",
       "      <td id=\"T_d64dd_row11_col1\" class=\"data row11 col1\" >None</td>\n",
       "    </tr>\n",
       "    <tr>\n",
       "      <td id=\"T_d64dd_row12_col0\" class=\"data row12 col0\" >Build a Data Request</td>\n",
       "      <td id=\"T_d64dd_row12_col1\" class=\"data row12 col1\" > <a href=\"https://explore.ukllc.ac.uk/\" rel=\"noopener noreferrer\" target=\"_blank\">https://explore.ukllc.ac.uk/</a></td>\n",
       "    </tr>\n",
       "  </tbody>\n",
       "</table>\n"
      ],
      "text/plain": [
       "<pandas.io.formats.style.Styler at 0x27aefabede0>"
      ]
     },
     "execution_count": 3,
     "metadata": {},
     "output_type": "execute_result"
    }
   ],
   "source": [
    "ds.info_table()"
   ]
  },
  {
   "cell_type": "markdown",
   "id": "2c8e1aee",
   "metadata": {},
   "source": [
    "## 2. Version History"
   ]
  },
  {
   "cell_type": "code",
   "execution_count": 4,
   "id": "33540008",
   "metadata": {
    "execution": {
     "iopub.execute_input": "2025-07-28T20:23:07.513779Z",
     "iopub.status.busy": "2025-07-28T20:23:07.512780Z",
     "iopub.status.idle": "2025-07-28T20:23:12.622475Z",
     "shell.execute_reply": "2025-07-28T20:23:12.612402Z"
    },
    "tags": [
     "remove-input"
    ]
   },
   "outputs": [
    {
     "data": {
      "text/html": [
       "<style type=\"text/css\">\n",
       "#T_024c0 th {\n",
       "  text-align: left;\n",
       "}\n",
       "#T_024c0_row0_col0, #T_024c0_row0_col1, #T_024c0_row1_col0, #T_024c0_row1_col1, #T_024c0_row2_col0, #T_024c0_row2_col1, #T_024c0_row3_col0, #T_024c0_row3_col1, #T_024c0_row4_col0, #T_024c0_row4_col1 {\n",
       "  text-align: left;\n",
       "}\n",
       "</style>\n",
       "<table id=\"T_024c0\" style=\"font-size: 14px\">\n",
       "  <thead>\n",
       "    <tr>\n",
       "      <th id=\"T_024c0_level0_col0\" class=\"col_heading level0 col0\" >Version</th>\n",
       "      <th id=\"T_024c0_level0_col1\" class=\"col_heading level0 col1\" >2</th>\n",
       "    </tr>\n",
       "  </thead>\n",
       "  <tbody>\n",
       "    <tr>\n",
       "      <td id=\"T_024c0_row0_col0\" class=\"data row0 col0\" >Version Date</td>\n",
       "      <td id=\"T_024c0_row0_col1\" class=\"data row0 col1\" >01 Nov 2021</td>\n",
       "    </tr>\n",
       "    <tr>\n",
       "      <td id=\"T_024c0_row1_col0\" class=\"data row1 col0\" >Number of Variables</td>\n",
       "      <td id=\"T_024c0_row1_col1\" class=\"data row1 col1\" >365</td>\n",
       "    </tr>\n",
       "    <tr>\n",
       "      <td id=\"T_024c0_row2_col0\" class=\"data row2 col0\" >Number of Observations</td>\n",
       "      <td id=\"T_024c0_row2_col1\" class=\"data row2 col1\" >4719</td>\n",
       "    </tr>\n",
       "    <tr>\n",
       "      <td id=\"T_024c0_row3_col0\" class=\"data row3 col0\" >DOI</td>\n",
       "      <td id=\"T_024c0_row3_col1\" class=\"data row3 col1\" > <a href=\"https://doi.org/10.71760/ukllc-dataset-00305-02\" rel=\"noopener noreferrer\" target=\"_blank\">10.71760/ukllc-dataset-00305-02</a></td>\n",
       "    </tr>\n",
       "    <tr>\n",
       "      <td id=\"T_024c0_row4_col0\" class=\"data row4 col0\" >Change Log</td>\n",
       "      <td id=\"T_024c0_row4_col1\" class=\"data row4 col1\" > <a href=\"https://api.test.datacite.org/dois/10.71760/ukllc-dataset-00305-02/activities\" rel=\"noopener noreferrer\" target=\"_blank\">10.71760/ukllc-dataset-00305-02/activities</a></td>\n",
       "    </tr>\n",
       "  </tbody>\n",
       "</table>\n"
      ],
      "text/plain": [
       "<pandas.io.formats.style.Styler at 0x27af164e450>"
      ]
     },
     "execution_count": 4,
     "metadata": {},
     "output_type": "execute_result"
    }
   ],
   "source": [
    "ds.version_history()"
   ]
  },
  {
   "cell_type": "markdown",
   "id": "da3661f3",
   "metadata": {},
   "source": [
    "## 3. Documentation"
   ]
  },
  {
   "cell_type": "code",
   "execution_count": 5,
   "id": "68377e38",
   "metadata": {
    "execution": {
     "iopub.execute_input": "2025-07-28T20:23:12.635218Z",
     "iopub.status.busy": "2025-07-28T20:23:12.635218Z",
     "iopub.status.idle": "2025-07-28T20:23:12.647381Z",
     "shell.execute_reply": "2025-07-28T20:23:12.645789Z"
    },
    "tags": [
     "remove-input"
    ]
   },
   "outputs": [
    {
     "data": {
      "text/markdown": [
       "We are currently building a documentation storage system which will host useful documents related to datasets and data owners. We will surface these documents on Guidebook."
      ],
      "text/plain": [
       "<IPython.core.display.Markdown object>"
      ]
     },
     "metadata": {},
     "output_type": "display_data"
    }
   ],
   "source": [
    "ds.documentation()"
   ]
  },
  {
   "cell_type": "markdown",
   "id": "cdd8bbf0",
   "metadata": {},
   "source": [
    "## 4. Useful Syntax"
   ]
  },
  {
   "cell_type": "code",
   "execution_count": 6,
   "id": "a47258b3",
   "metadata": {
    "execution": {
     "iopub.execute_input": "2025-07-28T20:23:12.655436Z",
     "iopub.status.busy": "2025-07-28T20:23:12.655436Z",
     "iopub.status.idle": "2025-07-28T20:23:12.668224Z",
     "shell.execute_reply": "2025-07-28T20:23:12.666108Z"
    },
    "tags": [
     "remove-input"
    ]
   },
   "outputs": [
    {
     "data": {
      "text/markdown": [
       "Below we will include syntax that may be helpful to other researchers in the UK LLC TRE. For longer scripts, we will include a snippet of the code plus a link to Git where you can find the full scripts."
      ],
      "text/plain": [
       "<IPython.core.display.Markdown object>"
      ]
     },
     "metadata": {},
     "output_type": "display_data"
    }
   ],
   "source": [
    "ds.useful_syntax()"
   ]
  }
 ],
 "metadata": {
  "language_info": {
   "codemirror_mode": {
    "name": "ipython",
    "version": 3
   },
   "file_extension": ".py",
   "mimetype": "text/x-python",
   "name": "python",
   "nbconvert_exporter": "python",
   "pygments_lexer": "ipython3",
   "version": "3.12.7"
  }
 },
 "nbformat": 4,
 "nbformat_minor": 5
}
