{
 "cells": [
  {
   "cell_type": "markdown",
   "id": "59cb411e",
   "metadata": {},
   "source": [
    "# COVID-19 Wave 2 No (SABRE)"
   ]
  },
  {
   "cell_type": "code",
   "execution_count": 1,
   "id": "28cf4a2c",
   "metadata": {
    "execution": {
     "iopub.execute_input": "2025-07-18T10:30:14.668212Z",
     "iopub.status.busy": "2025-07-18T10:30:14.667212Z",
     "iopub.status.idle": "2025-07-18T10:30:22.134506Z",
     "shell.execute_reply": "2025-07-18T10:30:22.132985Z"
    },
    "tags": [
     "remove-input"
    ]
   },
   "outputs": [
    {
     "data": {
      "text/markdown": [
       ">Last modified: 18 Jul 2025"
      ],
      "text/plain": [
       "<IPython.core.display.Markdown object>"
      ]
     },
     "metadata": {},
     "output_type": "display_data"
    }
   ],
   "source": [
    "\n",
    "import sys\n",
    "import os\n",
    "sys.path.append(os.path.abspath('../../../../scripts/'))\n",
    "from data_doc_helper import LPSDataSet as DS, last_modified\n",
    "API_KEY = os.environ['FASTAPI_KEY']\n",
    "ds = DS(\"SABRE\", \"COVID_WAVE2No\")\n",
    "last_modified()\n"
   ]
  },
  {
   "cell_type": "markdown",
   "id": "16914617",
   "metadata": {},
   "source": [
    "## 1. Summary"
   ]
  },
  {
   "cell_type": "code",
   "execution_count": 2,
   "id": "04cb41ae",
   "metadata": {
    "execution": {
     "iopub.execute_input": "2025-07-18T10:30:22.141399Z",
     "iopub.status.busy": "2025-07-18T10:30:22.140504Z",
     "iopub.status.idle": "2025-07-18T10:30:22.153130Z",
     "shell.execute_reply": "2025-07-18T10:30:22.151124Z"
    },
    "tags": [
     "remove-input"
    ]
   },
   "outputs": [
    {
     "data": {
      "text/markdown": [
       "Postal questionnaire "
      ],
      "text/plain": [
       "<IPython.core.display.Markdown object>"
      ]
     },
     "metadata": {},
     "output_type": "display_data"
    }
   ],
   "source": [
    "ds.summary()"
   ]
  },
  {
   "cell_type": "code",
   "execution_count": 3,
   "id": "9f9f2ae6",
   "metadata": {
    "execution": {
     "iopub.execute_input": "2025-07-18T10:30:22.159130Z",
     "iopub.status.busy": "2025-07-18T10:30:22.158130Z",
     "iopub.status.idle": "2025-07-18T10:30:23.436076Z",
     "shell.execute_reply": "2025-07-18T10:30:23.435066Z"
    },
    "tags": [
     "remove-input"
    ]
   },
   "outputs": [
    {
     "data": {
      "text/html": [
       "<style type=\"text/css\">\n",
       "#T_7408e th {\n",
       "  text-align: left;\n",
       "}\n",
       "#T_7408e_row0_col0, #T_7408e_row0_col1, #T_7408e_row1_col0, #T_7408e_row1_col1, #T_7408e_row2_col0, #T_7408e_row2_col1, #T_7408e_row3_col0, #T_7408e_row3_col1, #T_7408e_row4_col0, #T_7408e_row4_col1, #T_7408e_row5_col0, #T_7408e_row5_col1, #T_7408e_row6_col0, #T_7408e_row6_col1, #T_7408e_row7_col0, #T_7408e_row7_col1, #T_7408e_row8_col0, #T_7408e_row8_col1, #T_7408e_row9_col0, #T_7408e_row9_col1, #T_7408e_row10_col0, #T_7408e_row10_col1, #T_7408e_row11_col0, #T_7408e_row11_col1, #T_7408e_row12_col0, #T_7408e_row12_col1 {\n",
       "  text-align: left;\n",
       "}\n",
       "</style>\n",
       "<table id=\"T_7408e\" style=\"font-size: 14px\">\n",
       "  <thead>\n",
       "    <tr>\n",
       "      <th id=\"T_7408e_level0_col0\" class=\"col_heading level0 col0\" >Dataset Descriptor</th>\n",
       "      <th id=\"T_7408e_level0_col1\" class=\"col_heading level0 col1\" >Dataset-specific Information</th>\n",
       "    </tr>\n",
       "  </thead>\n",
       "  <tbody>\n",
       "    <tr>\n",
       "      <td id=\"T_7408e_row0_col0\" class=\"data row0 col0\" >Name of Dataset in TRE</td>\n",
       "      <td id=\"T_7408e_row0_col1\" class=\"data row0 col1\" >SABRE_COVID_WAVE2No</td>\n",
       "    </tr>\n",
       "    <tr>\n",
       "      <td id=\"T_7408e_row1_col0\" class=\"data row1 col0\" >Citation (APA)</td>\n",
       "      <td id=\"T_7408e_row1_col1\" class=\"data row1 col1\" >University College London, Institute of Cardiovascular Science, Unit for Lifelong Health and Ageing. (2021). <i>Southall & Brent Revisited (SABRE): COVID-19 Wave 2 No.</i> UK Longitudinal Linkage Collaboration (UK LLC).  <a href=\"https://doi.org/10.83126/ukllc-dataset-00374-02\" rel=\"noopener noreferrer\" target=\"_blank\">https://doi.org/10.83126/ukllc-dataset-00374-02</a></td>\n",
       "    </tr>\n",
       "    <tr>\n",
       "      <td id=\"T_7408e_row2_col0\" class=\"data row2 col0\" >Download Citation</td>\n",
       "      <td id=\"T_7408e_row2_col1\" class=\"data row2 col1\" > <a href=\"https://api.test.datacite.org/application/vnd.citationstyles.csl+json/10.83126/ukllc-dataset-00374-02\" rel=\"noopener noreferrer\" target=\"_blank\">Citeproc JSON</a>&nbsp;&nbsp;&nbsp;&nbsp; <a href=\"https://api.test.datacite.org/application/x-bibtex/10.83126/ukllc-dataset-00374-02\" rel=\"noopener noreferrer\" target=\"_blank\">BibTeX</a>&nbsp;&nbsp;&nbsp;&nbsp; <a href=\"https://api.test.datacite.org/application/x-research-info-systems/10.83126/ukllc-dataset-00374-02\" rel=\"noopener noreferrer\" target=\"_blank\">RIS</a></td>\n",
       "    </tr>\n",
       "    <tr>\n",
       "      <td id=\"T_7408e_row3_col0\" class=\"data row3 col0\" >Series</td>\n",
       "      <td id=\"T_7408e_row3_col1\" class=\"data row3 col1\" > <a href=\"https://guidebook.ukllc.ac.uk/docs/lps/lps%20profiles/SABRE\">Southall & Brent Revisited (SABRE)</a></td>\n",
       "    </tr>\n",
       "    <tr>\n",
       "      <td id=\"T_7408e_row4_col0\" class=\"data row4 col0\" >Owner</td>\n",
       "      <td id=\"T_7408e_row4_col1\" class=\"data row4 col1\" >UCL</td>\n",
       "    </tr>\n",
       "    <tr>\n",
       "      <td id=\"T_7408e_row5_col0\" class=\"data row5 col0\" >Temporal Coverage</td>\n",
       "      <td id=\"T_7408e_row5_col1\" class=\"data row5 col1\" >11/2020 - 12/2020</td>\n",
       "    </tr>\n",
       "    <tr>\n",
       "      <td id=\"T_7408e_row6_col0\" class=\"data row6 col0\" >Keywords</td>\n",
       "      <td id=\"T_7408e_row6_col1\" class=\"data row6 col1\" ></td>\n",
       "    </tr>\n",
       "    <tr>\n",
       "      <td id=\"T_7408e_row7_col0\" class=\"data row7 col0\" >Participants Invited</td>\n",
       "      <td id=\"T_7408e_row7_col1\" class=\"data row7 col1\" >319</td>\n",
       "    </tr>\n",
       "    <tr>\n",
       "      <td id=\"T_7408e_row8_col0\" class=\"data row8 col0\" >Participant Count</td>\n",
       "      <td id=\"T_7408e_row8_col1\" class=\"data row8 col1\" >48</td>\n",
       "    </tr>\n",
       "    <tr>\n",
       "      <td id=\"T_7408e_row9_col0\" class=\"data row9 col0\" >Number of variables</td>\n",
       "      <td id=\"T_7408e_row9_col1\" class=\"data row9 col1\" >365</td>\n",
       "    </tr>\n",
       "    <tr>\n",
       "      <td id=\"T_7408e_row10_col0\" class=\"data row10 col0\" >Number of observations</td>\n",
       "      <td id=\"T_7408e_row10_col1\" class=\"data row10 col1\" >4719</td>\n",
       "    </tr>\n",
       "    <tr>\n",
       "      <td id=\"T_7408e_row11_col0\" class=\"data row11 col0\" >Specific Restrictions to Data Use</td>\n",
       "      <td id=\"T_7408e_row11_col1\" class=\"data row11 col1\" >None</td>\n",
       "    </tr>\n",
       "    <tr>\n",
       "      <td id=\"T_7408e_row12_col0\" class=\"data row12 col0\" >Build a Data Request</td>\n",
       "      <td id=\"T_7408e_row12_col1\" class=\"data row12 col1\" > <a href=\"https://explore.ukllc.ac.uk/\" rel=\"noopener noreferrer\" target=\"_blank\">https://explore.ukllc.ac.uk/</a></td>\n",
       "    </tr>\n",
       "  </tbody>\n",
       "</table>\n"
      ],
      "text/plain": [
       "<pandas.io.formats.style.Styler at 0x28fb8f371a0>"
      ]
     },
     "execution_count": 3,
     "metadata": {},
     "output_type": "execute_result"
    }
   ],
   "source": [
    "ds.info_table()"
   ]
  },
  {
   "cell_type": "markdown",
   "id": "2c8e1aee",
   "metadata": {},
   "source": [
    "## 2. Version History"
   ]
  },
  {
   "cell_type": "code",
   "execution_count": 4,
   "id": "33540008",
   "metadata": {
    "execution": {
     "iopub.execute_input": "2025-07-18T10:30:23.441075Z",
     "iopub.status.busy": "2025-07-18T10:30:23.440078Z",
     "iopub.status.idle": "2025-07-18T10:30:25.775333Z",
     "shell.execute_reply": "2025-07-18T10:30:25.773326Z"
    },
    "tags": [
     "remove-input"
    ]
   },
   "outputs": [
    {
     "data": {
      "text/html": [
       "<style type=\"text/css\">\n",
       "#T_2a57a th {\n",
       "  text-align: left;\n",
       "}\n",
       "#T_2a57a_row0_col0, #T_2a57a_row0_col1, #T_2a57a_row1_col0, #T_2a57a_row1_col1, #T_2a57a_row2_col0, #T_2a57a_row2_col1, #T_2a57a_row3_col0, #T_2a57a_row3_col1, #T_2a57a_row4_col0, #T_2a57a_row4_col1 {\n",
       "  text-align: left;\n",
       "}\n",
       "</style>\n",
       "<table id=\"T_2a57a\" style=\"font-size: 14px\">\n",
       "  <thead>\n",
       "    <tr>\n",
       "      <th id=\"T_2a57a_level0_col0\" class=\"col_heading level0 col0\" >Version</th>\n",
       "      <th id=\"T_2a57a_level0_col1\" class=\"col_heading level0 col1\" >2</th>\n",
       "    </tr>\n",
       "  </thead>\n",
       "  <tbody>\n",
       "    <tr>\n",
       "      <td id=\"T_2a57a_row0_col0\" class=\"data row0 col0\" >Version Date</td>\n",
       "      <td id=\"T_2a57a_row0_col1\" class=\"data row0 col1\" >01 Nov 2021</td>\n",
       "    </tr>\n",
       "    <tr>\n",
       "      <td id=\"T_2a57a_row1_col0\" class=\"data row1 col0\" >Number of Variables</td>\n",
       "      <td id=\"T_2a57a_row1_col1\" class=\"data row1 col1\" >365</td>\n",
       "    </tr>\n",
       "    <tr>\n",
       "      <td id=\"T_2a57a_row2_col0\" class=\"data row2 col0\" >Number of Observations</td>\n",
       "      <td id=\"T_2a57a_row2_col1\" class=\"data row2 col1\" >4719</td>\n",
       "    </tr>\n",
       "    <tr>\n",
       "      <td id=\"T_2a57a_row3_col0\" class=\"data row3 col0\" >DOI</td>\n",
       "      <td id=\"T_2a57a_row3_col1\" class=\"data row3 col1\" > <a href=\"https://doi.org/10.83126/ukllc-dataset-00374-02\" rel=\"noopener noreferrer\" target=\"_blank\">10.83126/ukllc-dataset-00374-02</a></td>\n",
       "    </tr>\n",
       "    <tr>\n",
       "      <td id=\"T_2a57a_row4_col0\" class=\"data row4 col0\" >Change Log</td>\n",
       "      <td id=\"T_2a57a_row4_col1\" class=\"data row4 col1\" > <a href=\"https://api.test.datacite.org/dois/10.83126/ukllc-dataset-00374-02/activities\" rel=\"noopener noreferrer\" target=\"_blank\">10.83126/ukllc-dataset-00374-02/activities</a></td>\n",
       "    </tr>\n",
       "  </tbody>\n",
       "</table>\n"
      ],
      "text/plain": [
       "<pandas.io.formats.style.Styler at 0x28fba970e30>"
      ]
     },
     "execution_count": 4,
     "metadata": {},
     "output_type": "execute_result"
    }
   ],
   "source": [
    "ds.version_history()"
   ]
  },
  {
   "cell_type": "markdown",
   "id": "da3661f3",
   "metadata": {},
   "source": [
    "## 3. Documentation"
   ]
  },
  {
   "cell_type": "code",
   "execution_count": 5,
   "id": "68377e38",
   "metadata": {
    "execution": {
     "iopub.execute_input": "2025-07-18T10:30:25.782332Z",
     "iopub.status.busy": "2025-07-18T10:30:25.781332Z",
     "iopub.status.idle": "2025-07-18T10:30:25.794170Z",
     "shell.execute_reply": "2025-07-18T10:30:25.792665Z"
    },
    "tags": [
     "remove-input"
    ]
   },
   "outputs": [
    {
     "data": {
      "text/markdown": [
       "We are currently building a documentation storage system which will host useful documents related to datasets and data owners. We will surface these documents on Guidebook."
      ],
      "text/plain": [
       "<IPython.core.display.Markdown object>"
      ]
     },
     "metadata": {},
     "output_type": "display_data"
    }
   ],
   "source": [
    "ds.documentation()"
   ]
  },
  {
   "cell_type": "markdown",
   "id": "cdd8bbf0",
   "metadata": {},
   "source": [
    "## 4. Useful Syntax"
   ]
  },
  {
   "cell_type": "code",
   "execution_count": 6,
   "id": "a47258b3",
   "metadata": {
    "execution": {
     "iopub.execute_input": "2025-07-18T10:30:25.800168Z",
     "iopub.status.busy": "2025-07-18T10:30:25.799165Z",
     "iopub.status.idle": "2025-07-18T10:30:25.807172Z",
     "shell.execute_reply": "2025-07-18T10:30:25.806166Z"
    },
    "tags": [
     "remove-input"
    ]
   },
   "outputs": [
    {
     "data": {
      "text/markdown": [
       "Below we will include syntax that may be helpful to other researchers in the UK LLC TRE. For longer scripts, we will include a snippet of the code plus a link to Git where you can find the full scripts."
      ],
      "text/plain": [
       "<IPython.core.display.Markdown object>"
      ]
     },
     "metadata": {},
     "output_type": "display_data"
    }
   ],
   "source": [
    "ds.useful_syntax()"
   ]
  }
 ],
 "metadata": {
  "language_info": {
   "codemirror_mode": {
    "name": "ipython",
    "version": 3
   },
   "file_extension": ".py",
   "mimetype": "text/x-python",
   "name": "python",
   "nbconvert_exporter": "python",
   "pygments_lexer": "ipython3",
   "version": "3.12.7"
  }
 },
 "nbformat": 4,
 "nbformat_minor": 5
}
