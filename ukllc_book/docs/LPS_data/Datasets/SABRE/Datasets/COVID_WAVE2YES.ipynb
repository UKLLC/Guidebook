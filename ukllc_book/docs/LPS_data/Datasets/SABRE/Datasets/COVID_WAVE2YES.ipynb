{
 "cells": [
  {
   "cell_type": "markdown",
   "id": "5da9cf49",
   "metadata": {},
   "source": [
    "# COVID-19 Wave 2 Yes (SABRE)"
   ]
  },
  {
   "cell_type": "code",
   "execution_count": 1,
   "id": "2e9f1672",
   "metadata": {
    "execution": {
     "iopub.execute_input": "2025-07-18T10:30:30.461313Z",
     "iopub.status.busy": "2025-07-18T10:30:30.461313Z",
     "iopub.status.idle": "2025-07-18T10:30:37.420192Z",
     "shell.execute_reply": "2025-07-18T10:30:37.418707Z"
    },
    "tags": [
     "remove-input"
    ]
   },
   "outputs": [
    {
     "data": {
      "text/markdown": [
       ">Last modified: 18 Jul 2025"
      ],
      "text/plain": [
       "<IPython.core.display.Markdown object>"
      ]
     },
     "metadata": {},
     "output_type": "display_data"
    }
   ],
   "source": [
    "\n",
    "import sys\n",
    "import os\n",
    "sys.path.append(os.path.abspath('../../../../scripts/'))\n",
    "from data_doc_helper import LPSDataSet as DS, last_modified\n",
    "API_KEY = os.environ['FASTAPI_KEY']\n",
    "ds = DS(\"SABRE\", \"COVID_WAVE2YES\")\n",
    "last_modified()\n"
   ]
  },
  {
   "cell_type": "markdown",
   "id": "06f6003d",
   "metadata": {},
   "source": [
    "## 1. Summary"
   ]
  },
  {
   "cell_type": "code",
   "execution_count": 2,
   "id": "b1abc8e3",
   "metadata": {
    "execution": {
     "iopub.execute_input": "2025-07-18T10:30:37.425200Z",
     "iopub.status.busy": "2025-07-18T10:30:37.425200Z",
     "iopub.status.idle": "2025-07-18T10:30:37.434106Z",
     "shell.execute_reply": "2025-07-18T10:30:37.433099Z"
    },
    "tags": [
     "remove-input"
    ]
   },
   "outputs": [
    {
     "data": {
      "text/markdown": [
       "Postal questionnaire "
      ],
      "text/plain": [
       "<IPython.core.display.Markdown object>"
      ]
     },
     "metadata": {},
     "output_type": "display_data"
    }
   ],
   "source": [
    "ds.summary()"
   ]
  },
  {
   "cell_type": "code",
   "execution_count": 3,
   "id": "5a124f61",
   "metadata": {
    "execution": {
     "iopub.execute_input": "2025-07-18T10:30:37.441107Z",
     "iopub.status.busy": "2025-07-18T10:30:37.440110Z",
     "iopub.status.idle": "2025-07-18T10:30:38.853666Z",
     "shell.execute_reply": "2025-07-18T10:30:38.851534Z"
    },
    "tags": [
     "remove-input"
    ]
   },
   "outputs": [
    {
     "data": {
      "text/html": [
       "<style type=\"text/css\">\n",
       "#T_6263b th {\n",
       "  text-align: left;\n",
       "}\n",
       "#T_6263b_row0_col0, #T_6263b_row0_col1, #T_6263b_row1_col0, #T_6263b_row1_col1, #T_6263b_row2_col0, #T_6263b_row2_col1, #T_6263b_row3_col0, #T_6263b_row3_col1, #T_6263b_row4_col0, #T_6263b_row4_col1, #T_6263b_row5_col0, #T_6263b_row5_col1, #T_6263b_row6_col0, #T_6263b_row6_col1, #T_6263b_row7_col0, #T_6263b_row7_col1, #T_6263b_row8_col0, #T_6263b_row8_col1, #T_6263b_row9_col0, #T_6263b_row9_col1, #T_6263b_row10_col0, #T_6263b_row10_col1, #T_6263b_row11_col0, #T_6263b_row11_col1, #T_6263b_row12_col0, #T_6263b_row12_col1 {\n",
       "  text-align: left;\n",
       "}\n",
       "</style>\n",
       "<table id=\"T_6263b\" style=\"font-size: 14px\">\n",
       "  <thead>\n",
       "    <tr>\n",
       "      <th id=\"T_6263b_level0_col0\" class=\"col_heading level0 col0\" >Dataset Descriptor</th>\n",
       "      <th id=\"T_6263b_level0_col1\" class=\"col_heading level0 col1\" >Dataset-specific Information</th>\n",
       "    </tr>\n",
       "  </thead>\n",
       "  <tbody>\n",
       "    <tr>\n",
       "      <td id=\"T_6263b_row0_col0\" class=\"data row0 col0\" >Name of Dataset in TRE</td>\n",
       "      <td id=\"T_6263b_row0_col1\" class=\"data row0 col1\" >SABRE_COVID_WAVE2YES</td>\n",
       "    </tr>\n",
       "    <tr>\n",
       "      <td id=\"T_6263b_row1_col0\" class=\"data row1 col0\" >Citation (APA)</td>\n",
       "      <td id=\"T_6263b_row1_col1\" class=\"data row1 col1\" >University College London, Institute of Cardiovascular Science, Unit for Lifelong Health and Ageing. (2022). <i>Southall & Brent Revisited (SABRE): COVID-19 Wave 2 Yes.</i> UK Longitudinal Linkage Collaboration (UK LLC).  <a href=\"https://doi.org/10.83126/ukllc-dataset-00375-02\" rel=\"noopener noreferrer\" target=\"_blank\">https://doi.org/10.83126/ukllc-dataset-00375-02</a></td>\n",
       "    </tr>\n",
       "    <tr>\n",
       "      <td id=\"T_6263b_row2_col0\" class=\"data row2 col0\" >Download Citation</td>\n",
       "      <td id=\"T_6263b_row2_col1\" class=\"data row2 col1\" > <a href=\"https://api.test.datacite.org/application/vnd.citationstyles.csl+json/10.83126/ukllc-dataset-00375-02\" rel=\"noopener noreferrer\" target=\"_blank\">Citeproc JSON</a>&nbsp;&nbsp;&nbsp;&nbsp; <a href=\"https://api.test.datacite.org/application/x-bibtex/10.83126/ukllc-dataset-00375-02\" rel=\"noopener noreferrer\" target=\"_blank\">BibTeX</a>&nbsp;&nbsp;&nbsp;&nbsp; <a href=\"https://api.test.datacite.org/application/x-research-info-systems/10.83126/ukllc-dataset-00375-02\" rel=\"noopener noreferrer\" target=\"_blank\">RIS</a></td>\n",
       "    </tr>\n",
       "    <tr>\n",
       "      <td id=\"T_6263b_row3_col0\" class=\"data row3 col0\" >Series</td>\n",
       "      <td id=\"T_6263b_row3_col1\" class=\"data row3 col1\" > <a href=\"https://guidebook.ukllc.ac.uk/docs/lps/lps%20profiles/SABRE\">Southall & Brent Revisited (SABRE)</a></td>\n",
       "    </tr>\n",
       "    <tr>\n",
       "      <td id=\"T_6263b_row4_col0\" class=\"data row4 col0\" >Owner</td>\n",
       "      <td id=\"T_6263b_row4_col1\" class=\"data row4 col1\" >UCL</td>\n",
       "    </tr>\n",
       "    <tr>\n",
       "      <td id=\"T_6263b_row5_col0\" class=\"data row5 col0\" >Temporal Coverage</td>\n",
       "      <td id=\"T_6263b_row5_col1\" class=\"data row5 col1\" >11/2020 - 12/2020</td>\n",
       "    </tr>\n",
       "    <tr>\n",
       "      <td id=\"T_6263b_row6_col0\" class=\"data row6 col0\" >Keywords</td>\n",
       "      <td id=\"T_6263b_row6_col1\" class=\"data row6 col1\" ></td>\n",
       "    </tr>\n",
       "    <tr>\n",
       "      <td id=\"T_6263b_row7_col0\" class=\"data row7 col0\" >Participants Invited</td>\n",
       "      <td id=\"T_6263b_row7_col1\" class=\"data row7 col1\" >570</td>\n",
       "    </tr>\n",
       "    <tr>\n",
       "      <td id=\"T_6263b_row8_col0\" class=\"data row8 col0\" >Participant Count</td>\n",
       "      <td id=\"T_6263b_row8_col1\" class=\"data row8 col1\" >437</td>\n",
       "    </tr>\n",
       "    <tr>\n",
       "      <td id=\"T_6263b_row9_col0\" class=\"data row9 col0\" >Number of variables</td>\n",
       "      <td id=\"T_6263b_row9_col1\" class=\"data row9 col1\" >309</td>\n",
       "    </tr>\n",
       "    <tr>\n",
       "      <td id=\"T_6263b_row10_col0\" class=\"data row10 col0\" >Number of observations</td>\n",
       "      <td id=\"T_6263b_row10_col1\" class=\"data row10 col1\" >4719</td>\n",
       "    </tr>\n",
       "    <tr>\n",
       "      <td id=\"T_6263b_row11_col0\" class=\"data row11 col0\" >Specific Restrictions to Data Use</td>\n",
       "      <td id=\"T_6263b_row11_col1\" class=\"data row11 col1\" >None</td>\n",
       "    </tr>\n",
       "    <tr>\n",
       "      <td id=\"T_6263b_row12_col0\" class=\"data row12 col0\" >Build a Data Request</td>\n",
       "      <td id=\"T_6263b_row12_col1\" class=\"data row12 col1\" > <a href=\"https://explore.ukllc.ac.uk/\" rel=\"noopener noreferrer\" target=\"_blank\">https://explore.ukllc.ac.uk/</a></td>\n",
       "    </tr>\n",
       "  </tbody>\n",
       "</table>\n"
      ],
      "text/plain": [
       "<pandas.io.formats.style.Styler at 0x2746cc204d0>"
      ]
     },
     "execution_count": 3,
     "metadata": {},
     "output_type": "execute_result"
    }
   ],
   "source": [
    "ds.info_table()"
   ]
  },
  {
   "cell_type": "markdown",
   "id": "8dede6f0",
   "metadata": {},
   "source": [
    "## 2. Version History"
   ]
  },
  {
   "cell_type": "code",
   "execution_count": 4,
   "id": "49db46a5",
   "metadata": {
    "execution": {
     "iopub.execute_input": "2025-07-18T10:30:38.859680Z",
     "iopub.status.busy": "2025-07-18T10:30:38.858680Z",
     "iopub.status.idle": "2025-07-18T10:30:41.164089Z",
     "shell.execute_reply": "2025-07-18T10:30:41.163082Z"
    },
    "tags": [
     "remove-input"
    ]
   },
   "outputs": [
    {
     "data": {
      "text/html": [
       "<style type=\"text/css\">\n",
       "#T_63d36 th {\n",
       "  text-align: left;\n",
       "}\n",
       "#T_63d36_row0_col0, #T_63d36_row0_col1, #T_63d36_row1_col0, #T_63d36_row1_col1, #T_63d36_row2_col0, #T_63d36_row2_col1, #T_63d36_row3_col0, #T_63d36_row3_col1, #T_63d36_row4_col0, #T_63d36_row4_col1 {\n",
       "  text-align: left;\n",
       "}\n",
       "</style>\n",
       "<table id=\"T_63d36\" style=\"font-size: 14px\">\n",
       "  <thead>\n",
       "    <tr>\n",
       "      <th id=\"T_63d36_level0_col0\" class=\"col_heading level0 col0\" >Version</th>\n",
       "      <th id=\"T_63d36_level0_col1\" class=\"col_heading level0 col1\" >2</th>\n",
       "    </tr>\n",
       "  </thead>\n",
       "  <tbody>\n",
       "    <tr>\n",
       "      <td id=\"T_63d36_row0_col0\" class=\"data row0 col0\" >Version Date</td>\n",
       "      <td id=\"T_63d36_row0_col1\" class=\"data row0 col1\" >18 Jan 2022</td>\n",
       "    </tr>\n",
       "    <tr>\n",
       "      <td id=\"T_63d36_row1_col0\" class=\"data row1 col0\" >Number of Variables</td>\n",
       "      <td id=\"T_63d36_row1_col1\" class=\"data row1 col1\" >309</td>\n",
       "    </tr>\n",
       "    <tr>\n",
       "      <td id=\"T_63d36_row2_col0\" class=\"data row2 col0\" >Number of Observations</td>\n",
       "      <td id=\"T_63d36_row2_col1\" class=\"data row2 col1\" >4719</td>\n",
       "    </tr>\n",
       "    <tr>\n",
       "      <td id=\"T_63d36_row3_col0\" class=\"data row3 col0\" >DOI</td>\n",
       "      <td id=\"T_63d36_row3_col1\" class=\"data row3 col1\" > <a href=\"https://doi.org/10.83126/ukllc-dataset-00375-02\" rel=\"noopener noreferrer\" target=\"_blank\">10.83126/ukllc-dataset-00375-02</a></td>\n",
       "    </tr>\n",
       "    <tr>\n",
       "      <td id=\"T_63d36_row4_col0\" class=\"data row4 col0\" >Change Log</td>\n",
       "      <td id=\"T_63d36_row4_col1\" class=\"data row4 col1\" > <a href=\"https://api.test.datacite.org/dois/10.83126/ukllc-dataset-00375-02/activities\" rel=\"noopener noreferrer\" target=\"_blank\">10.83126/ukllc-dataset-00375-02/activities</a></td>\n",
       "    </tr>\n",
       "  </tbody>\n",
       "</table>\n"
      ],
      "text/plain": [
       "<pandas.io.formats.style.Styler at 0x274712184d0>"
      ]
     },
     "execution_count": 4,
     "metadata": {},
     "output_type": "execute_result"
    }
   ],
   "source": [
    "ds.version_history()"
   ]
  },
  {
   "cell_type": "markdown",
   "id": "a10f8058",
   "metadata": {},
   "source": [
    "## 3. Documentation"
   ]
  },
  {
   "cell_type": "code",
   "execution_count": 5,
   "id": "ce6bb4a5",
   "metadata": {
    "execution": {
     "iopub.execute_input": "2025-07-18T10:30:41.172090Z",
     "iopub.status.busy": "2025-07-18T10:30:41.171088Z",
     "iopub.status.idle": "2025-07-18T10:30:41.180558Z",
     "shell.execute_reply": "2025-07-18T10:30:41.178552Z"
    },
    "tags": [
     "remove-input"
    ]
   },
   "outputs": [
    {
     "data": {
      "text/markdown": [
       "We are currently building a documentation storage system which will host useful documents related to datasets and data owners. We will surface these documents on Guidebook."
      ],
      "text/plain": [
       "<IPython.core.display.Markdown object>"
      ]
     },
     "metadata": {},
     "output_type": "display_data"
    }
   ],
   "source": [
    "ds.documentation()"
   ]
  },
  {
   "cell_type": "markdown",
   "id": "c524b6cc",
   "metadata": {},
   "source": [
    "## 4. Useful Syntax"
   ]
  },
  {
   "cell_type": "code",
   "execution_count": 6,
   "id": "ffa24562",
   "metadata": {
    "execution": {
     "iopub.execute_input": "2025-07-18T10:30:41.187558Z",
     "iopub.status.busy": "2025-07-18T10:30:41.186558Z",
     "iopub.status.idle": "2025-07-18T10:30:41.196533Z",
     "shell.execute_reply": "2025-07-18T10:30:41.194527Z"
    },
    "tags": [
     "remove-input"
    ]
   },
   "outputs": [
    {
     "data": {
      "text/markdown": [
       "Below we will include syntax that may be helpful to other researchers in the UK LLC TRE. For longer scripts, we will include a snippet of the code plus a link to Git where you can find the full scripts."
      ],
      "text/plain": [
       "<IPython.core.display.Markdown object>"
      ]
     },
     "metadata": {},
     "output_type": "display_data"
    }
   ],
   "source": [
    "ds.useful_syntax()"
   ]
  }
 ],
 "metadata": {
  "language_info": {
   "codemirror_mode": {
    "name": "ipython",
    "version": 3
   },
   "file_extension": ".py",
   "mimetype": "text/x-python",
   "name": "python",
   "nbconvert_exporter": "python",
   "pygments_lexer": "ipython3",
   "version": "3.12.7"
  }
 },
 "nbformat": 4,
 "nbformat_minor": 5
}
