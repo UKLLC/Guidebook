{
 "cells": [
  {
   "cell_type": "markdown",
   "id": "cc07a598",
   "metadata": {},
   "source": [
    "# Southall & Brent Revisited (SABRE) Datasets"
   ]
  },
  {
   "cell_type": "code",
   "execution_count": 1,
   "id": "490f1cbd",
   "metadata": {
    "execution": {
     "iopub.execute_input": "2025-07-28T20:24:04.508851Z",
     "iopub.status.busy": "2025-07-28T20:24:04.508851Z",
     "iopub.status.idle": "2025-07-28T20:24:09.165681Z",
     "shell.execute_reply": "2025-07-28T20:24:09.164142Z"
    },
    "tags": [
     "remove-input"
    ]
   },
   "outputs": [
    {
     "data": {
      "text/markdown": [
       ">Last modified: 28 Jul 2025"
      ],
      "text/plain": [
       "<IPython.core.display.Markdown object>"
      ]
     },
     "metadata": {},
     "output_type": "display_data"
    }
   ],
   "source": [
    "\n",
    "import sys\n",
    "import os\n",
    "sys.path.append(os.path.abspath('../../../../scripts/'))\n",
    "from data_doc_helper import LPSSource as SS, last_modified\n",
    "API_KEY = os.environ['FASTAPI_KEY']\n",
    "ss = SS(\"SABRE\")\n",
    "last_modified()\n"
   ]
  },
  {
   "cell_type": "markdown",
   "id": "eabd4a60",
   "metadata": {},
   "source": [
    "## 1. Datasets"
   ]
  },
  {
   "cell_type": "code",
   "execution_count": 2,
   "id": "ed27fba8",
   "metadata": {
    "execution": {
     "iopub.execute_input": "2025-07-28T20:24:09.173633Z",
     "iopub.status.busy": "2025-07-28T20:24:09.173633Z",
     "iopub.status.idle": "2025-07-28T20:24:09.187395Z",
     "shell.execute_reply": "2025-07-28T20:24:09.185863Z"
    },
    "tags": [
     "remove-input"
    ]
   },
   "outputs": [
    {
     "data": {
      "text/markdown": [
       "**Table 1:** Datasets and metrics in the UK LLC belonging to SABRE."
      ],
      "text/plain": [
       "<IPython.core.display.Markdown object>"
      ]
     },
     "metadata": {},
     "output_type": "display_data"
    }
   ],
   "source": [
    "ss.table_caption_ds()"
   ]
  },
  {
   "cell_type": "code",
   "execution_count": 3,
   "id": "a63f233b",
   "metadata": {
    "execution": {
     "iopub.execute_input": "2025-07-28T20:24:09.195306Z",
     "iopub.status.busy": "2025-07-28T20:24:09.194306Z",
     "iopub.status.idle": "2025-07-28T20:24:11.737271Z",
     "shell.execute_reply": "2025-07-28T20:24:11.734205Z"
    },
    "tags": [
     "remove-input",
     "hide-cell"
    ]
   },
   "outputs": [
    {
     "data": {
      "text/html": [
       "<style type=\"text/css\">\n",
       "#T_1a247 th {\n",
       "  text-align: left;\n",
       "}\n",
       "#T_1a247_row0_col0, #T_1a247_row0_col1, #T_1a247_row0_col2, #T_1a247_row0_col3, #T_1a247_row0_col4, #T_1a247_row1_col0, #T_1a247_row1_col1, #T_1a247_row1_col2, #T_1a247_row1_col3, #T_1a247_row1_col4, #T_1a247_row2_col0, #T_1a247_row2_col1, #T_1a247_row2_col2, #T_1a247_row2_col3, #T_1a247_row2_col4, #T_1a247_row3_col0, #T_1a247_row3_col1, #T_1a247_row3_col2, #T_1a247_row3_col3, #T_1a247_row3_col4, #T_1a247_row4_col0, #T_1a247_row4_col1, #T_1a247_row4_col2, #T_1a247_row4_col3, #T_1a247_row4_col4, #T_1a247_row5_col0, #T_1a247_row5_col1, #T_1a247_row5_col2, #T_1a247_row5_col3, #T_1a247_row5_col4, #T_1a247_row6_col0, #T_1a247_row6_col1, #T_1a247_row6_col2, #T_1a247_row6_col3, #T_1a247_row6_col4 {\n",
       "  text-align: left;\n",
       "}\n",
       "</style>\n",
       "<table id=\"T_1a247\" style=\"font-size: 14px\">\n",
       "  <thead>\n",
       "    <tr>\n",
       "      <th id=\"T_1a247_level0_col0\" class=\"col_heading level0 col0\" >Dataset</th>\n",
       "      <th id=\"T_1a247_level0_col1\" class=\"col_heading level0 col1\" >Dataset Name</th>\n",
       "      <th id=\"T_1a247_level0_col2\" class=\"col_heading level0 col2\" ># Participants</th>\n",
       "      <th id=\"T_1a247_level0_col3\" class=\"col_heading level0 col3\" ># Observations</th>\n",
       "      <th id=\"T_1a247_level0_col4\" class=\"col_heading level0 col4\" ># Variables</th>\n",
       "    </tr>\n",
       "  </thead>\n",
       "  <tbody>\n",
       "    <tr>\n",
       "      <td id=\"T_1a247_row0_col0\" class=\"data row0 col0\" > <a href=\"sociodemographic_visit3.html\">sociodemographic_visit3</a></td>\n",
       "      <td id=\"T_1a247_row0_col1\" class=\"data row0 col1\" >Sociodemographic Visit 3</td>\n",
       "      <td id=\"T_1a247_row0_col2\" class=\"data row0 col2\" >1039</td>\n",
       "      <td id=\"T_1a247_row0_col3\" class=\"data row0 col3\" >4719</td>\n",
       "      <td id=\"T_1a247_row0_col4\" class=\"data row0 col4\" >17</td>\n",
       "    </tr>\n",
       "    <tr>\n",
       "      <td id=\"T_1a247_row1_col0\" class=\"data row1 col0\" > <a href=\"sociodemographic_visit1.html\">sociodemographic_visit1</a></td>\n",
       "      <td id=\"T_1a247_row1_col1\" class=\"data row1 col1\" >Sociodemographic Visit 1</td>\n",
       "      <td id=\"T_1a247_row1_col2\" class=\"data row1 col2\" >4373</td>\n",
       "      <td id=\"T_1a247_row1_col3\" class=\"data row1 col3\" >4373</td>\n",
       "      <td id=\"T_1a247_row1_col4\" class=\"data row1 col4\" >7</td>\n",
       "    </tr>\n",
       "    <tr>\n",
       "      <td id=\"T_1a247_row2_col0\" class=\"data row2 col0\" > <a href=\"Covid_antibody_test_results.html\">Covid_antibody_test_results</a></td>\n",
       "      <td id=\"T_1a247_row2_col1\" class=\"data row2 col1\" >COVID-19 Antibody Test Results</td>\n",
       "      <td id=\"T_1a247_row2_col2\" class=\"data row2 col2\" >166</td>\n",
       "      <td id=\"T_1a247_row2_col3\" class=\"data row2 col3\" >5144</td>\n",
       "      <td id=\"T_1a247_row2_col4\" class=\"data row2 col4\" >15</td>\n",
       "    </tr>\n",
       "    <tr>\n",
       "      <td id=\"T_1a247_row3_col0\" class=\"data row3 col0\" > <a href=\"COVID_WAVE2No.html\">COVID_WAVE2No</a></td>\n",
       "      <td id=\"T_1a247_row3_col1\" class=\"data row3 col1\" >COVID-19 Wave 2 No</td>\n",
       "      <td id=\"T_1a247_row3_col2\" class=\"data row3 col2\" >48</td>\n",
       "      <td id=\"T_1a247_row3_col3\" class=\"data row3 col3\" >4719</td>\n",
       "      <td id=\"T_1a247_row3_col4\" class=\"data row3 col4\" >365</td>\n",
       "    </tr>\n",
       "    <tr>\n",
       "      <td id=\"T_1a247_row4_col0\" class=\"data row4 col0\" > <a href=\"COVID_WAVE2YES.html\">COVID_WAVE2YES</a></td>\n",
       "      <td id=\"T_1a247_row4_col1\" class=\"data row4 col1\" >COVID-19 Wave 2 Yes</td>\n",
       "      <td id=\"T_1a247_row4_col2\" class=\"data row4 col2\" >437</td>\n",
       "      <td id=\"T_1a247_row4_col3\" class=\"data row4 col3\" >4719</td>\n",
       "      <td id=\"T_1a247_row4_col4\" class=\"data row4 col4\" >309</td>\n",
       "    </tr>\n",
       "    <tr>\n",
       "      <td id=\"T_1a247_row5_col0\" class=\"data row5 col0\" > <a href=\"COVID_WAVE3.html\">COVID_WAVE3</a></td>\n",
       "      <td id=\"T_1a247_row5_col1\" class=\"data row5 col1\" >COVID-19 Wave 3</td>\n",
       "      <td id=\"T_1a247_row5_col2\" class=\"data row5 col2\" >421</td>\n",
       "      <td id=\"T_1a247_row5_col3\" class=\"data row5 col3\" >4719</td>\n",
       "      <td id=\"T_1a247_row5_col4\" class=\"data row5 col4\" >315</td>\n",
       "    </tr>\n",
       "    <tr>\n",
       "      <td id=\"T_1a247_row6_col0\" class=\"data row6 col0\" > <a href=\"Covidwave1.html\">Covidwave1</a></td>\n",
       "      <td id=\"T_1a247_row6_col1\" class=\"data row6 col1\" >COVID-19 Wave 1</td>\n",
       "      <td id=\"T_1a247_row6_col2\" class=\"data row6 col2\" >547</td>\n",
       "      <td id=\"T_1a247_row6_col3\" class=\"data row6 col3\" >4719</td>\n",
       "      <td id=\"T_1a247_row6_col4\" class=\"data row6 col4\" >264</td>\n",
       "    </tr>\n",
       "  </tbody>\n",
       "</table>\n"
      ],
      "text/plain": [
       "<pandas.io.formats.style.Styler at 0x232c55d3a10>"
      ]
     },
     "execution_count": 3,
     "metadata": {},
     "output_type": "execute_result"
    }
   ],
   "source": [
    "ss.datasets()"
   ]
  }
 ],
 "metadata": {
  "language_info": {
   "codemirror_mode": {
    "name": "ipython",
    "version": 3
   },
   "file_extension": ".py",
   "mimetype": "text/x-python",
   "name": "python",
   "nbconvert_exporter": "python",
   "pygments_lexer": "ipython3",
   "version": "3.12.7"
  },
  "mystnb": {
   "code_prompt_hide": "Hide Datasets",
   "code_prompt_show": "Show Datasets"
  }
 },
 "nbformat": 4,
 "nbformat_minor": 5
}
