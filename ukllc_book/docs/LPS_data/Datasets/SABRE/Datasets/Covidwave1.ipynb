{
 "cells": [
  {
   "cell_type": "markdown",
   "id": "4bf67bcd",
   "metadata": {},
   "source": [
    "# COVID-19 Wave 1 (SABRE)"
   ]
  },
  {
   "cell_type": "code",
   "execution_count": 1,
   "id": "03427730",
   "metadata": {
    "execution": {
     "iopub.execute_input": "2025-07-18T10:29:46.855989Z",
     "iopub.status.busy": "2025-07-18T10:29:46.854484Z",
     "iopub.status.idle": "2025-07-18T10:29:54.208037Z",
     "shell.execute_reply": "2025-07-18T10:29:54.206519Z"
    },
    "tags": [
     "remove-input"
    ]
   },
   "outputs": [
    {
     "data": {
      "text/markdown": [
       ">Last modified: 18 Jul 2025"
      ],
      "text/plain": [
       "<IPython.core.display.Markdown object>"
      ]
     },
     "metadata": {},
     "output_type": "display_data"
    }
   ],
   "source": [
    "\n",
    "import sys\n",
    "import os\n",
    "sys.path.append(os.path.abspath('../../../../scripts/'))\n",
    "from data_doc_helper import LPSDataSet as DS, last_modified\n",
    "API_KEY = os.environ['FASTAPI_KEY']\n",
    "ds = DS(\"SABRE\", \"Covidwave1\")\n",
    "last_modified()\n"
   ]
  },
  {
   "cell_type": "markdown",
   "id": "b739908c",
   "metadata": {},
   "source": [
    "## 1. Summary"
   ]
  },
  {
   "cell_type": "code",
   "execution_count": 2,
   "id": "d28eff89",
   "metadata": {
    "execution": {
     "iopub.execute_input": "2025-07-18T10:29:54.213033Z",
     "iopub.status.busy": "2025-07-18T10:29:54.213033Z",
     "iopub.status.idle": "2025-07-18T10:29:54.222390Z",
     "shell.execute_reply": "2025-07-18T10:29:54.221252Z"
    },
    "tags": [
     "remove-input"
    ]
   },
   "outputs": [
    {
     "data": {
      "text/markdown": [
       "Sent to surviving participants who had consented to data linkage and who had attended or completed questionnaires at visit3. 87 were email and the remainder were paper questionnaires"
      ],
      "text/plain": [
       "<IPython.core.display.Markdown object>"
      ]
     },
     "metadata": {},
     "output_type": "display_data"
    }
   ],
   "source": [
    "ds.summary()"
   ]
  },
  {
   "cell_type": "code",
   "execution_count": 3,
   "id": "61ec6024",
   "metadata": {
    "execution": {
     "iopub.execute_input": "2025-07-18T10:29:54.226404Z",
     "iopub.status.busy": "2025-07-18T10:29:54.226404Z",
     "iopub.status.idle": "2025-07-18T10:29:55.549093Z",
     "shell.execute_reply": "2025-07-18T10:29:55.547578Z"
    },
    "tags": [
     "remove-input"
    ]
   },
   "outputs": [
    {
     "data": {
      "text/html": [
       "<style type=\"text/css\">\n",
       "#T_7f063 th {\n",
       "  text-align: left;\n",
       "}\n",
       "#T_7f063_row0_col0, #T_7f063_row0_col1, #T_7f063_row1_col0, #T_7f063_row1_col1, #T_7f063_row2_col0, #T_7f063_row2_col1, #T_7f063_row3_col0, #T_7f063_row3_col1, #T_7f063_row4_col0, #T_7f063_row4_col1, #T_7f063_row5_col0, #T_7f063_row5_col1, #T_7f063_row6_col0, #T_7f063_row6_col1, #T_7f063_row7_col0, #T_7f063_row7_col1, #T_7f063_row8_col0, #T_7f063_row8_col1, #T_7f063_row9_col0, #T_7f063_row9_col1, #T_7f063_row10_col0, #T_7f063_row10_col1, #T_7f063_row11_col0, #T_7f063_row11_col1, #T_7f063_row12_col0, #T_7f063_row12_col1 {\n",
       "  text-align: left;\n",
       "}\n",
       "</style>\n",
       "<table id=\"T_7f063\" style=\"font-size: 14px\">\n",
       "  <thead>\n",
       "    <tr>\n",
       "      <th id=\"T_7f063_level0_col0\" class=\"col_heading level0 col0\" >Dataset Descriptor</th>\n",
       "      <th id=\"T_7f063_level0_col1\" class=\"col_heading level0 col1\" >Dataset-specific Information</th>\n",
       "    </tr>\n",
       "  </thead>\n",
       "  <tbody>\n",
       "    <tr>\n",
       "      <td id=\"T_7f063_row0_col0\" class=\"data row0 col0\" >Name of Dataset in TRE</td>\n",
       "      <td id=\"T_7f063_row0_col1\" class=\"data row0 col1\" >SABRE_Covidwave1</td>\n",
       "    </tr>\n",
       "    <tr>\n",
       "      <td id=\"T_7f063_row1_col0\" class=\"data row1 col0\" >Citation (APA)</td>\n",
       "      <td id=\"T_7f063_row1_col1\" class=\"data row1 col1\" >University College London, Institute of Cardiovascular Science, Unit for Lifelong Health and Ageing. (2021). <i>Southall & Brent Revisited (SABRE): COVID-19 Wave 1.</i> UK Longitudinal Linkage Collaboration (UK LLC).  <a href=\"https://doi.org/10.83126/ukllc-dataset-00378-02\" rel=\"noopener noreferrer\" target=\"_blank\">https://doi.org/10.83126/ukllc-dataset-00378-02</a></td>\n",
       "    </tr>\n",
       "    <tr>\n",
       "      <td id=\"T_7f063_row2_col0\" class=\"data row2 col0\" >Download Citation</td>\n",
       "      <td id=\"T_7f063_row2_col1\" class=\"data row2 col1\" > <a href=\"https://api.test.datacite.org/application/vnd.citationstyles.csl+json/10.83126/ukllc-dataset-00378-02\" rel=\"noopener noreferrer\" target=\"_blank\">Citeproc JSON</a>&nbsp;&nbsp;&nbsp;&nbsp; <a href=\"https://api.test.datacite.org/application/x-bibtex/10.83126/ukllc-dataset-00378-02\" rel=\"noopener noreferrer\" target=\"_blank\">BibTeX</a>&nbsp;&nbsp;&nbsp;&nbsp; <a href=\"https://api.test.datacite.org/application/x-research-info-systems/10.83126/ukllc-dataset-00378-02\" rel=\"noopener noreferrer\" target=\"_blank\">RIS</a></td>\n",
       "    </tr>\n",
       "    <tr>\n",
       "      <td id=\"T_7f063_row3_col0\" class=\"data row3 col0\" >Series</td>\n",
       "      <td id=\"T_7f063_row3_col1\" class=\"data row3 col1\" > <a href=\"https://guidebook.ukllc.ac.uk/docs/lps/lps%20profiles/SABRE\">Southall & Brent Revisited (SABRE)</a></td>\n",
       "    </tr>\n",
       "    <tr>\n",
       "      <td id=\"T_7f063_row4_col0\" class=\"data row4 col0\" >Owner</td>\n",
       "      <td id=\"T_7f063_row4_col1\" class=\"data row4 col1\" >UCL</td>\n",
       "    </tr>\n",
       "    <tr>\n",
       "      <td id=\"T_7f063_row5_col0\" class=\"data row5 col0\" >Temporal Coverage</td>\n",
       "      <td id=\"T_7f063_row5_col1\" class=\"data row5 col1\" >06/2020 - 07/2020</td>\n",
       "    </tr>\n",
       "    <tr>\n",
       "      <td id=\"T_7f063_row6_col0\" class=\"data row6 col0\" >Keywords</td>\n",
       "      <td id=\"T_7f063_row6_col1\" class=\"data row6 col1\" ></td>\n",
       "    </tr>\n",
       "    <tr>\n",
       "      <td id=\"T_7f063_row7_col0\" class=\"data row7 col0\" >Participants Invited</td>\n",
       "      <td id=\"T_7f063_row7_col1\" class=\"data row7 col1\" >950 (of these 611 were index particpants and 339 were new participants recruited at visit 3</td>\n",
       "    </tr>\n",
       "    <tr>\n",
       "      <td id=\"T_7f063_row8_col0\" class=\"data row8 col0\" >Participant Count</td>\n",
       "      <td id=\"T_7f063_row8_col1\" class=\"data row8 col1\" >547</td>\n",
       "    </tr>\n",
       "    <tr>\n",
       "      <td id=\"T_7f063_row9_col0\" class=\"data row9 col0\" >Number of variables</td>\n",
       "      <td id=\"T_7f063_row9_col1\" class=\"data row9 col1\" >264</td>\n",
       "    </tr>\n",
       "    <tr>\n",
       "      <td id=\"T_7f063_row10_col0\" class=\"data row10 col0\" >Number of observations</td>\n",
       "      <td id=\"T_7f063_row10_col1\" class=\"data row10 col1\" >4719</td>\n",
       "    </tr>\n",
       "    <tr>\n",
       "      <td id=\"T_7f063_row11_col0\" class=\"data row11 col0\" >Specific Restrictions to Data Use</td>\n",
       "      <td id=\"T_7f063_row11_col1\" class=\"data row11 col1\" >None</td>\n",
       "    </tr>\n",
       "    <tr>\n",
       "      <td id=\"T_7f063_row12_col0\" class=\"data row12 col0\" >Build a Data Request</td>\n",
       "      <td id=\"T_7f063_row12_col1\" class=\"data row12 col1\" > <a href=\"https://explore.ukllc.ac.uk/\" rel=\"noopener noreferrer\" target=\"_blank\">https://explore.ukllc.ac.uk/</a></td>\n",
       "    </tr>\n",
       "  </tbody>\n",
       "</table>\n"
      ],
      "text/plain": [
       "<pandas.io.formats.style.Styler at 0x13055eda6c0>"
      ]
     },
     "execution_count": 3,
     "metadata": {},
     "output_type": "execute_result"
    }
   ],
   "source": [
    "ds.info_table()"
   ]
  },
  {
   "cell_type": "markdown",
   "id": "aacac9b8",
   "metadata": {},
   "source": [
    "## 2. Version History"
   ]
  },
  {
   "cell_type": "code",
   "execution_count": 4,
   "id": "294230ae",
   "metadata": {
    "execution": {
     "iopub.execute_input": "2025-07-18T10:29:55.557093Z",
     "iopub.status.busy": "2025-07-18T10:29:55.557093Z",
     "iopub.status.idle": "2025-07-18T10:29:57.840509Z",
     "shell.execute_reply": "2025-07-18T10:29:57.840509Z"
    },
    "tags": [
     "remove-input"
    ]
   },
   "outputs": [
    {
     "data": {
      "text/html": [
       "<style type=\"text/css\">\n",
       "#T_8e13b th {\n",
       "  text-align: left;\n",
       "}\n",
       "#T_8e13b_row0_col0, #T_8e13b_row0_col1, #T_8e13b_row1_col0, #T_8e13b_row1_col1, #T_8e13b_row2_col0, #T_8e13b_row2_col1, #T_8e13b_row3_col0, #T_8e13b_row3_col1, #T_8e13b_row4_col0, #T_8e13b_row4_col1 {\n",
       "  text-align: left;\n",
       "}\n",
       "</style>\n",
       "<table id=\"T_8e13b\" style=\"font-size: 14px\">\n",
       "  <thead>\n",
       "    <tr>\n",
       "      <th id=\"T_8e13b_level0_col0\" class=\"col_heading level0 col0\" >Version</th>\n",
       "      <th id=\"T_8e13b_level0_col1\" class=\"col_heading level0 col1\" >2</th>\n",
       "    </tr>\n",
       "  </thead>\n",
       "  <tbody>\n",
       "    <tr>\n",
       "      <td id=\"T_8e13b_row0_col0\" class=\"data row0 col0\" >Version Date</td>\n",
       "      <td id=\"T_8e13b_row0_col1\" class=\"data row0 col1\" >01 Nov 2021</td>\n",
       "    </tr>\n",
       "    <tr>\n",
       "      <td id=\"T_8e13b_row1_col0\" class=\"data row1 col0\" >Number of Variables</td>\n",
       "      <td id=\"T_8e13b_row1_col1\" class=\"data row1 col1\" >264</td>\n",
       "    </tr>\n",
       "    <tr>\n",
       "      <td id=\"T_8e13b_row2_col0\" class=\"data row2 col0\" >Number of Observations</td>\n",
       "      <td id=\"T_8e13b_row2_col1\" class=\"data row2 col1\" >4719</td>\n",
       "    </tr>\n",
       "    <tr>\n",
       "      <td id=\"T_8e13b_row3_col0\" class=\"data row3 col0\" >DOI</td>\n",
       "      <td id=\"T_8e13b_row3_col1\" class=\"data row3 col1\" > <a href=\"https://doi.org/10.83126/ukllc-dataset-00378-02\" rel=\"noopener noreferrer\" target=\"_blank\">10.83126/ukllc-dataset-00378-02</a></td>\n",
       "    </tr>\n",
       "    <tr>\n",
       "      <td id=\"T_8e13b_row4_col0\" class=\"data row4 col0\" >Change Log</td>\n",
       "      <td id=\"T_8e13b_row4_col1\" class=\"data row4 col1\" > <a href=\"https://api.test.datacite.org/dois/10.83126/ukllc-dataset-00378-02/activities\" rel=\"noopener noreferrer\" target=\"_blank\">10.83126/ukllc-dataset-00378-02/activities</a></td>\n",
       "    </tr>\n",
       "  </tbody>\n",
       "</table>\n"
      ],
      "text/plain": [
       "<pandas.io.formats.style.Styler at 0x13057d9fa40>"
      ]
     },
     "execution_count": 4,
     "metadata": {},
     "output_type": "execute_result"
    }
   ],
   "source": [
    "ds.version_history()"
   ]
  },
  {
   "cell_type": "markdown",
   "id": "4864ac5e",
   "metadata": {},
   "source": [
    "## 3. Documentation"
   ]
  },
  {
   "cell_type": "code",
   "execution_count": 5,
   "id": "b43814f5",
   "metadata": {
    "execution": {
     "iopub.execute_input": "2025-07-18T10:29:57.845516Z",
     "iopub.status.busy": "2025-07-18T10:29:57.844516Z",
     "iopub.status.idle": "2025-07-18T10:29:57.853543Z",
     "shell.execute_reply": "2025-07-18T10:29:57.852536Z"
    },
    "tags": [
     "remove-input"
    ]
   },
   "outputs": [
    {
     "data": {
      "text/markdown": [
       "We are currently building a documentation storage system which will host useful documents related to datasets and data owners. We will surface these documents on Guidebook."
      ],
      "text/plain": [
       "<IPython.core.display.Markdown object>"
      ]
     },
     "metadata": {},
     "output_type": "display_data"
    }
   ],
   "source": [
    "ds.documentation()"
   ]
  },
  {
   "cell_type": "markdown",
   "id": "c2830179",
   "metadata": {},
   "source": [
    "## 4. Useful Syntax"
   ]
  },
  {
   "cell_type": "code",
   "execution_count": 6,
   "id": "9f0af112",
   "metadata": {
    "execution": {
     "iopub.execute_input": "2025-07-18T10:29:57.859542Z",
     "iopub.status.busy": "2025-07-18T10:29:57.858542Z",
     "iopub.status.idle": "2025-07-18T10:29:57.867017Z",
     "shell.execute_reply": "2025-07-18T10:29:57.866010Z"
    },
    "tags": [
     "remove-input"
    ]
   },
   "outputs": [
    {
     "data": {
      "text/markdown": [
       "Below we will include syntax that may be helpful to other researchers in the UK LLC TRE. For longer scripts, we will include a snippet of the code plus a link to Git where you can find the full scripts."
      ],
      "text/plain": [
       "<IPython.core.display.Markdown object>"
      ]
     },
     "metadata": {},
     "output_type": "display_data"
    }
   ],
   "source": [
    "ds.useful_syntax()"
   ]
  }
 ],
 "metadata": {
  "language_info": {
   "codemirror_mode": {
    "name": "ipython",
    "version": 3
   },
   "file_extension": ".py",
   "mimetype": "text/x-python",
   "name": "python",
   "nbconvert_exporter": "python",
   "pygments_lexer": "ipython3",
   "version": "3.12.7"
  }
 },
 "nbformat": 4,
 "nbformat_minor": 5
}
