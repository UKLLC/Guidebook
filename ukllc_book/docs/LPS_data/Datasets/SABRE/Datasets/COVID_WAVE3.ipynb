{
 "cells": [
  {
   "cell_type": "markdown",
   "id": "b9be656f",
   "metadata": {},
   "source": [
    "# COVID-19 Wave 3 (SABRE)"
   ]
  },
  {
   "cell_type": "code",
   "execution_count": 1,
   "id": "1eefc031",
   "metadata": {
    "execution": {
     "iopub.execute_input": "2025-07-28T20:23:39.019269Z",
     "iopub.status.busy": "2025-07-28T20:23:39.018266Z",
     "iopub.status.idle": "2025-07-28T20:23:51.576795Z",
     "shell.execute_reply": "2025-07-28T20:23:51.575263Z"
    },
    "tags": [
     "remove-input"
    ]
   },
   "outputs": [
    {
     "data": {
      "text/markdown": [
       ">Last modified: 28 Jul 2025"
      ],
      "text/plain": [
       "<IPython.core.display.Markdown object>"
      ]
     },
     "metadata": {},
     "output_type": "display_data"
    }
   ],
   "source": [
    "\n",
    "import sys\n",
    "import os\n",
    "sys.path.append(os.path.abspath('../../../../scripts/'))\n",
    "from data_doc_helper import LPSDataSet as DS, last_modified\n",
    "API_KEY = os.environ['FASTAPI_KEY']\n",
    "ds = DS(\"SABRE\", \"COVID_WAVE3\")\n",
    "last_modified()\n"
   ]
  },
  {
   "cell_type": "markdown",
   "id": "903ad610",
   "metadata": {},
   "source": [
    "## 1. Summary"
   ]
  },
  {
   "cell_type": "code",
   "execution_count": 2,
   "id": "076f1b31",
   "metadata": {
    "execution": {
     "iopub.execute_input": "2025-07-28T20:23:51.586795Z",
     "iopub.status.busy": "2025-07-28T20:23:51.585794Z",
     "iopub.status.idle": "2025-07-28T20:23:51.599848Z",
     "shell.execute_reply": "2025-07-28T20:23:51.595832Z"
    },
    "tags": [
     "remove-input"
    ]
   },
   "outputs": [
    {
     "data": {
      "text/markdown": [
       "Postal questionnaire "
      ],
      "text/plain": [
       "<IPython.core.display.Markdown object>"
      ]
     },
     "metadata": {},
     "output_type": "display_data"
    }
   ],
   "source": [
    "ds.summary()"
   ]
  },
  {
   "cell_type": "code",
   "execution_count": 3,
   "id": "b34233a2",
   "metadata": {
    "execution": {
     "iopub.execute_input": "2025-07-28T20:23:51.609371Z",
     "iopub.status.busy": "2025-07-28T20:23:51.608369Z",
     "iopub.status.idle": "2025-07-28T20:23:53.282516Z",
     "shell.execute_reply": "2025-07-28T20:23:53.280498Z"
    },
    "tags": [
     "remove-input"
    ]
   },
   "outputs": [
    {
     "data": {
      "text/html": [
       "<style type=\"text/css\">\n",
       "#T_b7da2 th {\n",
       "  text-align: left;\n",
       "}\n",
       "#T_b7da2_row0_col0, #T_b7da2_row0_col1, #T_b7da2_row1_col0, #T_b7da2_row1_col1, #T_b7da2_row2_col0, #T_b7da2_row2_col1, #T_b7da2_row3_col0, #T_b7da2_row3_col1, #T_b7da2_row4_col0, #T_b7da2_row4_col1, #T_b7da2_row5_col0, #T_b7da2_row5_col1, #T_b7da2_row6_col0, #T_b7da2_row6_col1, #T_b7da2_row7_col0, #T_b7da2_row7_col1, #T_b7da2_row8_col0, #T_b7da2_row8_col1, #T_b7da2_row9_col0, #T_b7da2_row9_col1, #T_b7da2_row10_col0, #T_b7da2_row10_col1, #T_b7da2_row11_col0, #T_b7da2_row11_col1, #T_b7da2_row12_col0, #T_b7da2_row12_col1 {\n",
       "  text-align: left;\n",
       "}\n",
       "</style>\n",
       "<table id=\"T_b7da2\" style=\"font-size: 14px\">\n",
       "  <thead>\n",
       "    <tr>\n",
       "      <th id=\"T_b7da2_level0_col0\" class=\"col_heading level0 col0\" >Dataset Descriptor</th>\n",
       "      <th id=\"T_b7da2_level0_col1\" class=\"col_heading level0 col1\" >Dataset-specific Information</th>\n",
       "    </tr>\n",
       "  </thead>\n",
       "  <tbody>\n",
       "    <tr>\n",
       "      <td id=\"T_b7da2_row0_col0\" class=\"data row0 col0\" >Name of Dataset in TRE</td>\n",
       "      <td id=\"T_b7da2_row0_col1\" class=\"data row0 col1\" >SABRE_COVID_WAVE3</td>\n",
       "    </tr>\n",
       "    <tr>\n",
       "      <td id=\"T_b7da2_row1_col0\" class=\"data row1 col0\" >Citation (APA)</td>\n",
       "      <td id=\"T_b7da2_row1_col1\" class=\"data row1 col1\" >University College London, Institute of Cardiovascular Science, Unit for Lifelong Health and Ageing. (2022). <i>Southall & Brent Revisited (SABRE): COVID-19 Wave 3.</i> UK Longitudinal Linkage Collaboration (UK LLC).  <a href=\"https://doi.org/10.71760/ukllc-dataset-00307-02\" rel=\"noopener noreferrer\" target=\"_blank\">https://doi.org/10.71760/ukllc-dataset-00307-02</a></td>\n",
       "    </tr>\n",
       "    <tr>\n",
       "      <td id=\"T_b7da2_row2_col0\" class=\"data row2 col0\" >Download Citation</td>\n",
       "      <td id=\"T_b7da2_row2_col1\" class=\"data row2 col1\" > <a href=\"https://api.datacite.org/application/vnd.citationstyles.csl+json/10.71760/ukllc-dataset-00307-02\" rel=\"noopener noreferrer\" target=\"_blank\">Citeproc JSON</a>&nbsp;&nbsp;&nbsp;&nbsp; <a href=\"https://api.datacite.org/application/x-bibtex/10.71760/ukllc-dataset-00307-02\" rel=\"noopener noreferrer\" target=\"_blank\">BibTeX</a>&nbsp;&nbsp;&nbsp;&nbsp; <a href=\"https://api.datacite.org/application/x-research-info-systems/10.71760/ukllc-dataset-00307-02\" rel=\"noopener noreferrer\" target=\"_blank\">RIS</a></td>\n",
       "    </tr>\n",
       "    <tr>\n",
       "      <td id=\"T_b7da2_row3_col0\" class=\"data row3 col0\" >Series</td>\n",
       "      <td id=\"T_b7da2_row3_col1\" class=\"data row3 col1\" > <a href=\"https://guidebook.ukllc.ac.uk/docs/lps_data/lps%20profiles/SABRE\">Southall & Brent Revisited (SABRE)</a></td>\n",
       "    </tr>\n",
       "    <tr>\n",
       "      <td id=\"T_b7da2_row4_col0\" class=\"data row4 col0\" >Owner</td>\n",
       "      <td id=\"T_b7da2_row4_col1\" class=\"data row4 col1\" >UCL</td>\n",
       "    </tr>\n",
       "    <tr>\n",
       "      <td id=\"T_b7da2_row5_col0\" class=\"data row5 col0\" >Temporal Coverage</td>\n",
       "      <td id=\"T_b7da2_row5_col1\" class=\"data row5 col1\" >05/2021 - 07/2021</td>\n",
       "    </tr>\n",
       "    <tr>\n",
       "      <td id=\"T_b7da2_row6_col0\" class=\"data row6 col0\" >Keywords</td>\n",
       "      <td id=\"T_b7da2_row6_col1\" class=\"data row6 col1\" ></td>\n",
       "    </tr>\n",
       "    <tr>\n",
       "      <td id=\"T_b7da2_row7_col0\" class=\"data row7 col0\" >Participants Invited</td>\n",
       "      <td id=\"T_b7da2_row7_col1\" class=\"data row7 col1\" >944</td>\n",
       "    </tr>\n",
       "    <tr>\n",
       "      <td id=\"T_b7da2_row8_col0\" class=\"data row8 col0\" >Participant Count</td>\n",
       "      <td id=\"T_b7da2_row8_col1\" class=\"data row8 col1\" >421</td>\n",
       "    </tr>\n",
       "    <tr>\n",
       "      <td id=\"T_b7da2_row9_col0\" class=\"data row9 col0\" >Number of variables</td>\n",
       "      <td id=\"T_b7da2_row9_col1\" class=\"data row9 col1\" >315</td>\n",
       "    </tr>\n",
       "    <tr>\n",
       "      <td id=\"T_b7da2_row10_col0\" class=\"data row10 col0\" >Number of observations</td>\n",
       "      <td id=\"T_b7da2_row10_col1\" class=\"data row10 col1\" >4719</td>\n",
       "    </tr>\n",
       "    <tr>\n",
       "      <td id=\"T_b7da2_row11_col0\" class=\"data row11 col0\" >Specific Restrictions to Data Use</td>\n",
       "      <td id=\"T_b7da2_row11_col1\" class=\"data row11 col1\" >None</td>\n",
       "    </tr>\n",
       "    <tr>\n",
       "      <td id=\"T_b7da2_row12_col0\" class=\"data row12 col0\" >Build a Data Request</td>\n",
       "      <td id=\"T_b7da2_row12_col1\" class=\"data row12 col1\" > <a href=\"https://explore.ukllc.ac.uk/\" rel=\"noopener noreferrer\" target=\"_blank\">https://explore.ukllc.ac.uk/</a></td>\n",
       "    </tr>\n",
       "  </tbody>\n",
       "</table>\n"
      ],
      "text/plain": [
       "<pandas.io.formats.style.Styler at 0x291c8dad220>"
      ]
     },
     "execution_count": 3,
     "metadata": {},
     "output_type": "execute_result"
    }
   ],
   "source": [
    "ds.info_table()"
   ]
  },
  {
   "cell_type": "markdown",
   "id": "d7ba2c35",
   "metadata": {},
   "source": [
    "## 2. Version History"
   ]
  },
  {
   "cell_type": "code",
   "execution_count": 4,
   "id": "067f5cfd",
   "metadata": {
    "execution": {
     "iopub.execute_input": "2025-07-28T20:23:53.291083Z",
     "iopub.status.busy": "2025-07-28T20:23:53.291083Z",
     "iopub.status.idle": "2025-07-28T20:23:58.947039Z",
     "shell.execute_reply": "2025-07-28T20:23:58.944957Z"
    },
    "tags": [
     "remove-input"
    ]
   },
   "outputs": [
    {
     "data": {
      "text/html": [
       "<style type=\"text/css\">\n",
       "#T_bec33 th {\n",
       "  text-align: left;\n",
       "}\n",
       "#T_bec33_row0_col0, #T_bec33_row0_col1, #T_bec33_row1_col0, #T_bec33_row1_col1, #T_bec33_row2_col0, #T_bec33_row2_col1, #T_bec33_row3_col0, #T_bec33_row3_col1, #T_bec33_row4_col0, #T_bec33_row4_col1 {\n",
       "  text-align: left;\n",
       "}\n",
       "</style>\n",
       "<table id=\"T_bec33\" style=\"font-size: 14px\">\n",
       "  <thead>\n",
       "    <tr>\n",
       "      <th id=\"T_bec33_level0_col0\" class=\"col_heading level0 col0\" >Version</th>\n",
       "      <th id=\"T_bec33_level0_col1\" class=\"col_heading level0 col1\" >2</th>\n",
       "    </tr>\n",
       "  </thead>\n",
       "  <tbody>\n",
       "    <tr>\n",
       "      <td id=\"T_bec33_row0_col0\" class=\"data row0 col0\" >Version Date</td>\n",
       "      <td id=\"T_bec33_row0_col1\" class=\"data row0 col1\" >18 Jan 2022</td>\n",
       "    </tr>\n",
       "    <tr>\n",
       "      <td id=\"T_bec33_row1_col0\" class=\"data row1 col0\" >Number of Variables</td>\n",
       "      <td id=\"T_bec33_row1_col1\" class=\"data row1 col1\" >315</td>\n",
       "    </tr>\n",
       "    <tr>\n",
       "      <td id=\"T_bec33_row2_col0\" class=\"data row2 col0\" >Number of Observations</td>\n",
       "      <td id=\"T_bec33_row2_col1\" class=\"data row2 col1\" >4719</td>\n",
       "    </tr>\n",
       "    <tr>\n",
       "      <td id=\"T_bec33_row3_col0\" class=\"data row3 col0\" >DOI</td>\n",
       "      <td id=\"T_bec33_row3_col1\" class=\"data row3 col1\" > <a href=\"https://doi.org/10.71760/ukllc-dataset-00307-02\" rel=\"noopener noreferrer\" target=\"_blank\">10.71760/ukllc-dataset-00307-02</a></td>\n",
       "    </tr>\n",
       "    <tr>\n",
       "      <td id=\"T_bec33_row4_col0\" class=\"data row4 col0\" >Change Log</td>\n",
       "      <td id=\"T_bec33_row4_col1\" class=\"data row4 col1\" > <a href=\"https://api.test.datacite.org/dois/10.71760/ukllc-dataset-00307-02/activities\" rel=\"noopener noreferrer\" target=\"_blank\">10.71760/ukllc-dataset-00307-02/activities</a></td>\n",
       "    </tr>\n",
       "  </tbody>\n",
       "</table>\n"
      ],
      "text/plain": [
       "<pandas.io.formats.style.Styler at 0x291caae48f0>"
      ]
     },
     "execution_count": 4,
     "metadata": {},
     "output_type": "execute_result"
    }
   ],
   "source": [
    "ds.version_history()"
   ]
  },
  {
   "cell_type": "markdown",
   "id": "ebb86e1d",
   "metadata": {},
   "source": [
    "## 3. Documentation"
   ]
  },
  {
   "cell_type": "code",
   "execution_count": 5,
   "id": "c757f710",
   "metadata": {
    "execution": {
     "iopub.execute_input": "2025-07-28T20:23:58.955999Z",
     "iopub.status.busy": "2025-07-28T20:23:58.955999Z",
     "iopub.status.idle": "2025-07-28T20:23:58.968786Z",
     "shell.execute_reply": "2025-07-28T20:23:58.966678Z"
    },
    "tags": [
     "remove-input"
    ]
   },
   "outputs": [
    {
     "data": {
      "text/markdown": [
       "We are currently building a documentation storage system which will host useful documents related to datasets and data owners. We will surface these documents on Guidebook."
      ],
      "text/plain": [
       "<IPython.core.display.Markdown object>"
      ]
     },
     "metadata": {},
     "output_type": "display_data"
    }
   ],
   "source": [
    "ds.documentation()"
   ]
  },
  {
   "cell_type": "markdown",
   "id": "8baad75d",
   "metadata": {},
   "source": [
    "## 4. Useful Syntax"
   ]
  },
  {
   "cell_type": "code",
   "execution_count": 6,
   "id": "bad4e51a",
   "metadata": {
    "execution": {
     "iopub.execute_input": "2025-07-28T20:23:58.979796Z",
     "iopub.status.busy": "2025-07-28T20:23:58.977795Z",
     "iopub.status.idle": "2025-07-28T20:23:58.990311Z",
     "shell.execute_reply": "2025-07-28T20:23:58.989190Z"
    },
    "tags": [
     "remove-input"
    ]
   },
   "outputs": [
    {
     "data": {
      "text/markdown": [
       "Below we will include syntax that may be helpful to other researchers in the UK LLC TRE. For longer scripts, we will include a snippet of the code plus a link to Git where you can find the full scripts."
      ],
      "text/plain": [
       "<IPython.core.display.Markdown object>"
      ]
     },
     "metadata": {},
     "output_type": "display_data"
    }
   ],
   "source": [
    "ds.useful_syntax()"
   ]
  }
 ],
 "metadata": {
  "language_info": {
   "codemirror_mode": {
    "name": "ipython",
    "version": 3
   },
   "file_extension": ".py",
   "mimetype": "text/x-python",
   "name": "python",
   "nbconvert_exporter": "python",
   "pygments_lexer": "ipython3",
   "version": "3.12.7"
  }
 },
 "nbformat": 4,
 "nbformat_minor": 5
}
