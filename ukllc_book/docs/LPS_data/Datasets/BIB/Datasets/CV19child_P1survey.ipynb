{
 "cells": [
  {
   "cell_type": "markdown",
   "id": "cd04cb0a",
   "metadata": {},
   "source": [
    "# COVID-19 Child Phase 1 Survey (BIB)"
   ]
  },
  {
   "cell_type": "code",
   "execution_count": 1,
   "id": "f334f29a",
   "metadata": {
    "execution": {
     "iopub.execute_input": "2025-07-28T18:03:24.242576Z",
     "iopub.status.busy": "2025-07-28T18:03:24.242576Z",
     "iopub.status.idle": "2025-07-28T18:03:36.425086Z",
     "shell.execute_reply": "2025-07-28T18:03:36.423626Z"
    },
    "tags": [
     "remove-input"
    ]
   },
   "outputs": [
    {
     "data": {
      "text/markdown": [
       ">Last modified: 28 Jul 2025"
      ],
      "text/plain": [
       "<IPython.core.display.Markdown object>"
      ]
     },
     "metadata": {},
     "output_type": "display_data"
    }
   ],
   "source": [
    "\n",
    "import sys\n",
    "import os\n",
    "sys.path.append(os.path.abspath('../../../../scripts/'))\n",
    "from data_doc_helper import LPSDataSet as DS, last_modified\n",
    "API_KEY = os.environ['FASTAPI_KEY']\n",
    "ds = DS(\"BIB\", \"CV19child_P1survey\")\n",
    "last_modified()\n"
   ]
  },
  {
   "cell_type": "markdown",
   "id": "adc1ec35",
   "metadata": {},
   "source": [
    "## 1. Summary"
   ]
  },
  {
   "cell_type": "code",
   "execution_count": 2,
   "id": "358b37fb",
   "metadata": {
    "execution": {
     "iopub.execute_input": "2025-07-28T18:03:36.430096Z",
     "iopub.status.busy": "2025-07-28T18:03:36.429098Z",
     "iopub.status.idle": "2025-07-28T18:03:36.437031Z",
     "shell.execute_reply": "2025-07-28T18:03:36.436020Z"
    },
    "tags": [
     "remove-input"
    ]
   },
   "outputs": [
    {
     "data": {
      "text/markdown": [
       "A mixed-mode survey conducted during 2020 at the start of the COVID-19 national lockdown and in the months that followed. All children in the BiB Growing Up subcohort were invited. Mix of child and parent (on behalf of child) responses "
      ],
      "text/plain": [
       "<IPython.core.display.Markdown object>"
      ]
     },
     "metadata": {},
     "output_type": "display_data"
    }
   ],
   "source": [
    "ds.summary()"
   ]
  },
  {
   "cell_type": "code",
   "execution_count": 3,
   "id": "24cdc9e9",
   "metadata": {
    "execution": {
     "iopub.execute_input": "2025-07-28T18:03:36.440029Z",
     "iopub.status.busy": "2025-07-28T18:03:36.440029Z",
     "iopub.status.idle": "2025-07-28T18:03:37.546476Z",
     "shell.execute_reply": "2025-07-28T18:03:37.546476Z"
    },
    "tags": [
     "remove-input"
    ]
   },
   "outputs": [
    {
     "data": {
      "text/html": [
       "<style type=\"text/css\">\n",
       "#T_824cb th {\n",
       "  text-align: left;\n",
       "}\n",
       "#T_824cb_row0_col0, #T_824cb_row0_col1, #T_824cb_row1_col0, #T_824cb_row1_col1, #T_824cb_row2_col0, #T_824cb_row2_col1, #T_824cb_row3_col0, #T_824cb_row3_col1, #T_824cb_row4_col0, #T_824cb_row4_col1, #T_824cb_row5_col0, #T_824cb_row5_col1, #T_824cb_row6_col0, #T_824cb_row6_col1, #T_824cb_row7_col0, #T_824cb_row7_col1, #T_824cb_row8_col0, #T_824cb_row8_col1, #T_824cb_row9_col0, #T_824cb_row9_col1, #T_824cb_row10_col0, #T_824cb_row10_col1, #T_824cb_row11_col0, #T_824cb_row11_col1, #T_824cb_row12_col0, #T_824cb_row12_col1 {\n",
       "  text-align: left;\n",
       "}\n",
       "</style>\n",
       "<table id=\"T_824cb\" style=\"font-size: 14px\">\n",
       "  <thead>\n",
       "    <tr>\n",
       "      <th id=\"T_824cb_level0_col0\" class=\"col_heading level0 col0\" >Dataset Descriptor</th>\n",
       "      <th id=\"T_824cb_level0_col1\" class=\"col_heading level0 col1\" >Dataset-specific Information</th>\n",
       "    </tr>\n",
       "  </thead>\n",
       "  <tbody>\n",
       "    <tr>\n",
       "      <td id=\"T_824cb_row0_col0\" class=\"data row0 col0\" >Name of Dataset in TRE</td>\n",
       "      <td id=\"T_824cb_row0_col1\" class=\"data row0 col1\" >BIB_CV19child_P1survey</td>\n",
       "    </tr>\n",
       "    <tr>\n",
       "      <td id=\"T_824cb_row1_col0\" class=\"data row1 col0\" >Citation (APA)</td>\n",
       "      <td id=\"T_824cb_row1_col1\" class=\"data row1 col1\" >Bradford Institute for Health Research, Bradford Teaching Hospitals NHS Foundation Trust. (2022). <i>Born in Bradford (BiB): COVID-19 Child Phase 1 Survey.</i> UK Longitudinal Linkage Collaboration (UK LLC).  <a href=\"https://doi.org/10.71760/ukllc-dataset-00074-01\" rel=\"noopener noreferrer\" target=\"_blank\">https://doi.org/10.71760/ukllc-dataset-00074-01</a></td>\n",
       "    </tr>\n",
       "    <tr>\n",
       "      <td id=\"T_824cb_row2_col0\" class=\"data row2 col0\" >Download Citation</td>\n",
       "      <td id=\"T_824cb_row2_col1\" class=\"data row2 col1\" > <a href=\"https://api.datacite.org/application/vnd.citationstyles.csl+json/10.71760/ukllc-dataset-00074-01\" rel=\"noopener noreferrer\" target=\"_blank\">Citeproc JSON</a>&nbsp;&nbsp;&nbsp;&nbsp; <a href=\"https://api.datacite.org/application/x-bibtex/10.71760/ukllc-dataset-00074-01\" rel=\"noopener noreferrer\" target=\"_blank\">BibTeX</a>&nbsp;&nbsp;&nbsp;&nbsp; <a href=\"https://api.datacite.org/application/x-research-info-systems/10.71760/ukllc-dataset-00074-01\" rel=\"noopener noreferrer\" target=\"_blank\">RIS</a></td>\n",
       "    </tr>\n",
       "    <tr>\n",
       "      <td id=\"T_824cb_row3_col0\" class=\"data row3 col0\" >Series</td>\n",
       "      <td id=\"T_824cb_row3_col1\" class=\"data row3 col1\" > <a href=\"https://guidebook.ukllc.ac.uk/docs/lps_data/lps%20profiles/BIB\">Born in Bradford (BiB)</a></td>\n",
       "    </tr>\n",
       "    <tr>\n",
       "      <td id=\"T_824cb_row4_col0\" class=\"data row4 col0\" >Owner</td>\n",
       "      <td id=\"T_824cb_row4_col1\" class=\"data row4 col1\" >Bradford Teaching Hospitals NHS Foundation Trust</td>\n",
       "    </tr>\n",
       "    <tr>\n",
       "      <td id=\"T_824cb_row5_col0\" class=\"data row5 col0\" >Temporal Coverage</td>\n",
       "      <td id=\"T_824cb_row5_col1\" class=\"data row5 col1\" >05/2020 - 07/2020</td>\n",
       "    </tr>\n",
       "    <tr>\n",
       "      <td id=\"T_824cb_row6_col0\" class=\"data row6 col0\" >Keywords</td>\n",
       "      <td id=\"T_824cb_row6_col1\" class=\"data row6 col1\" ></td>\n",
       "    </tr>\n",
       "    <tr>\n",
       "      <td id=\"T_824cb_row7_col0\" class=\"data row7 col0\" >Participants Invited</td>\n",
       "      <td id=\"T_824cb_row7_col1\" class=\"data row7 col1\" >28591</td>\n",
       "    </tr>\n",
       "    <tr>\n",
       "      <td id=\"T_824cb_row8_col0\" class=\"data row8 col0\" >Participant Count</td>\n",
       "      <td id=\"T_824cb_row8_col1\" class=\"data row8 col1\" >940</td>\n",
       "    </tr>\n",
       "    <tr>\n",
       "      <td id=\"T_824cb_row9_col0\" class=\"data row9 col0\" >Number of variables</td>\n",
       "      <td id=\"T_824cb_row9_col1\" class=\"data row9 col1\" >122</td>\n",
       "    </tr>\n",
       "    <tr>\n",
       "      <td id=\"T_824cb_row10_col0\" class=\"data row10 col0\" >Number of observations</td>\n",
       "      <td id=\"T_824cb_row10_col1\" class=\"data row10 col1\" >28591</td>\n",
       "    </tr>\n",
       "    <tr>\n",
       "      <td id=\"T_824cb_row11_col0\" class=\"data row11 col0\" >Specific Restrictions to Data Use</td>\n",
       "      <td id=\"T_824cb_row11_col1\" class=\"data row11 col1\" >None</td>\n",
       "    </tr>\n",
       "    <tr>\n",
       "      <td id=\"T_824cb_row12_col0\" class=\"data row12 col0\" >Build a Data Request</td>\n",
       "      <td id=\"T_824cb_row12_col1\" class=\"data row12 col1\" > <a href=\"https://explore.ukllc.ac.uk/\" rel=\"noopener noreferrer\" target=\"_blank\">https://explore.ukllc.ac.uk/</a></td>\n",
       "    </tr>\n",
       "  </tbody>\n",
       "</table>\n"
      ],
      "text/plain": [
       "<pandas.io.formats.style.Styler at 0x1debbc80a70>"
      ]
     },
     "execution_count": 3,
     "metadata": {},
     "output_type": "execute_result"
    }
   ],
   "source": [
    "ds.info_table()"
   ]
  },
  {
   "cell_type": "markdown",
   "id": "a2cceca1",
   "metadata": {},
   "source": [
    "## 2. Version History"
   ]
  },
  {
   "cell_type": "code",
   "execution_count": 4,
   "id": "2d6f2c9a",
   "metadata": {
    "execution": {
     "iopub.execute_input": "2025-07-28T18:03:37.551484Z",
     "iopub.status.busy": "2025-07-28T18:03:37.551484Z",
     "iopub.status.idle": "2025-07-28T18:03:44.946304Z",
     "shell.execute_reply": "2025-07-28T18:03:44.946304Z"
    },
    "tags": [
     "remove-input"
    ]
   },
   "outputs": [
    {
     "data": {
      "text/html": [
       "<style type=\"text/css\">\n",
       "#T_926bd th {\n",
       "  text-align: left;\n",
       "}\n",
       "#T_926bd_row0_col0, #T_926bd_row0_col1, #T_926bd_row1_col0, #T_926bd_row1_col1, #T_926bd_row2_col0, #T_926bd_row2_col1, #T_926bd_row3_col0, #T_926bd_row3_col1, #T_926bd_row4_col0, #T_926bd_row4_col1 {\n",
       "  text-align: left;\n",
       "}\n",
       "</style>\n",
       "<table id=\"T_926bd\" style=\"font-size: 14px\">\n",
       "  <thead>\n",
       "    <tr>\n",
       "      <th id=\"T_926bd_level0_col0\" class=\"col_heading level0 col0\" >Version</th>\n",
       "      <th id=\"T_926bd_level0_col1\" class=\"col_heading level0 col1\" >1</th>\n",
       "    </tr>\n",
       "  </thead>\n",
       "  <tbody>\n",
       "    <tr>\n",
       "      <td id=\"T_926bd_row0_col0\" class=\"data row0 col0\" >Version Date</td>\n",
       "      <td id=\"T_926bd_row0_col1\" class=\"data row0 col1\" >31 May 2022</td>\n",
       "    </tr>\n",
       "    <tr>\n",
       "      <td id=\"T_926bd_row1_col0\" class=\"data row1 col0\" >Number of Variables</td>\n",
       "      <td id=\"T_926bd_row1_col1\" class=\"data row1 col1\" >122</td>\n",
       "    </tr>\n",
       "    <tr>\n",
       "      <td id=\"T_926bd_row2_col0\" class=\"data row2 col0\" >Number of Observations</td>\n",
       "      <td id=\"T_926bd_row2_col1\" class=\"data row2 col1\" >28591</td>\n",
       "    </tr>\n",
       "    <tr>\n",
       "      <td id=\"T_926bd_row3_col0\" class=\"data row3 col0\" >DOI</td>\n",
       "      <td id=\"T_926bd_row3_col1\" class=\"data row3 col1\" > <a href=\"https://doi.org/10.71760/ukllc-dataset-00074-01\" rel=\"noopener noreferrer\" target=\"_blank\">10.71760/ukllc-dataset-00074-01</a></td>\n",
       "    </tr>\n",
       "    <tr>\n",
       "      <td id=\"T_926bd_row4_col0\" class=\"data row4 col0\" >Change Log</td>\n",
       "      <td id=\"T_926bd_row4_col1\" class=\"data row4 col1\" > <a href=\"https://api.test.datacite.org/dois/10.71760/ukllc-dataset-00074-01/activities\" rel=\"noopener noreferrer\" target=\"_blank\">10.71760/ukllc-dataset-00074-01/activities</a></td>\n",
       "    </tr>\n",
       "  </tbody>\n",
       "</table>\n"
      ],
      "text/plain": [
       "<pandas.io.formats.style.Styler at 0x1debd7df410>"
      ]
     },
     "execution_count": 4,
     "metadata": {},
     "output_type": "execute_result"
    }
   ],
   "source": [
    "ds.version_history()"
   ]
  },
  {
   "cell_type": "markdown",
   "id": "3072e2eb",
   "metadata": {},
   "source": [
    "## 3. Documentation"
   ]
  },
  {
   "cell_type": "code",
   "execution_count": 5,
   "id": "c58216f5",
   "metadata": {
    "execution": {
     "iopub.execute_input": "2025-07-28T18:03:44.950733Z",
     "iopub.status.busy": "2025-07-28T18:03:44.949734Z",
     "iopub.status.idle": "2025-07-28T18:03:44.955162Z",
     "shell.execute_reply": "2025-07-28T18:03:44.955162Z"
    },
    "tags": [
     "remove-input"
    ]
   },
   "outputs": [
    {
     "data": {
      "text/markdown": [
       "We are currently building a documentation storage system which will host useful documents related to datasets and data owners. We will surface these documents on Guidebook."
      ],
      "text/plain": [
       "<IPython.core.display.Markdown object>"
      ]
     },
     "metadata": {},
     "output_type": "display_data"
    }
   ],
   "source": [
    "ds.documentation()"
   ]
  },
  {
   "cell_type": "markdown",
   "id": "7f9c7602",
   "metadata": {},
   "source": [
    "## 4. Useful Syntax"
   ]
  },
  {
   "cell_type": "code",
   "execution_count": 6,
   "id": "a6c30983",
   "metadata": {
    "execution": {
     "iopub.execute_input": "2025-07-28T18:03:44.958168Z",
     "iopub.status.busy": "2025-07-28T18:03:44.957170Z",
     "iopub.status.idle": "2025-07-28T18:03:44.961322Z",
     "shell.execute_reply": "2025-07-28T18:03:44.961167Z"
    },
    "tags": [
     "remove-input"
    ]
   },
   "outputs": [
    {
     "data": {
      "text/markdown": [
       "Below we will include syntax that may be helpful to other researchers in the UK LLC TRE. For longer scripts, we will include a snippet of the code plus a link to Git where you can find the full scripts."
      ],
      "text/plain": [
       "<IPython.core.display.Markdown object>"
      ]
     },
     "metadata": {},
     "output_type": "display_data"
    }
   ],
   "source": [
    "ds.useful_syntax()"
   ]
  }
 ],
 "metadata": {
  "language_info": {
   "codemirror_mode": {
    "name": "ipython",
    "version": 3
   },
   "file_extension": ".py",
   "mimetype": "text/x-python",
   "name": "python",
   "nbconvert_exporter": "python",
   "pygments_lexer": "ipython3",
   "version": "3.12.7"
  }
 },
 "nbformat": 4,
 "nbformat_minor": 5
}
