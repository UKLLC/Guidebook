{
 "cells": [
  {
   "cell_type": "markdown",
   "id": "77ef228b",
   "metadata": {},
   "source": [
    "# COVID-19 Adult Phase 3  (BIB)"
   ]
  },
  {
   "cell_type": "code",
   "execution_count": 1,
   "id": "89ff3102",
   "metadata": {
    "execution": {
     "iopub.execute_input": "2025-07-28T18:02:16.382673Z",
     "iopub.status.busy": "2025-07-28T18:02:16.382673Z",
     "iopub.status.idle": "2025-07-28T18:02:28.951637Z",
     "shell.execute_reply": "2025-07-28T18:02:28.949631Z"
    },
    "tags": [
     "remove-input"
    ]
   },
   "outputs": [
    {
     "data": {
      "text/markdown": [
       ">Last modified: 28 Jul 2025"
      ],
      "text/plain": [
       "<IPython.core.display.Markdown object>"
      ]
     },
     "metadata": {},
     "output_type": "display_data"
    }
   ],
   "source": [
    "\n",
    "import sys\n",
    "import os\n",
    "sys.path.append(os.path.abspath('../../../../scripts/'))\n",
    "from data_doc_helper import LPSDataSet as DS, last_modified\n",
    "API_KEY = os.environ['FASTAPI_KEY']\n",
    "ds = DS(\"BIB\", \"CV19adult_P3\")\n",
    "last_modified()\n"
   ]
  },
  {
   "cell_type": "markdown",
   "id": "60f7be77",
   "metadata": {},
   "source": [
    "## 1. Summary"
   ]
  },
  {
   "cell_type": "code",
   "execution_count": 2,
   "id": "b9a32d41",
   "metadata": {
    "execution": {
     "iopub.execute_input": "2025-07-28T18:02:28.957637Z",
     "iopub.status.busy": "2025-07-28T18:02:28.957637Z",
     "iopub.status.idle": "2025-07-28T18:02:28.968905Z",
     "shell.execute_reply": "2025-07-28T18:02:28.967886Z"
    },
    "tags": [
     "remove-input"
    ]
   },
   "outputs": [
    {
     "data": {
      "text/markdown": [
       "A follow up to the Covid 19 Phase 1 and 2 surveys conducted at the start of the national lockdown. "
      ],
      "text/plain": [
       "<IPython.core.display.Markdown object>"
      ]
     },
     "metadata": {},
     "output_type": "display_data"
    }
   ],
   "source": [
    "ds.summary()"
   ]
  },
  {
   "cell_type": "code",
   "execution_count": 3,
   "id": "006a8aa2",
   "metadata": {
    "execution": {
     "iopub.execute_input": "2025-07-28T18:02:28.975907Z",
     "iopub.status.busy": "2025-07-28T18:02:28.974905Z",
     "iopub.status.idle": "2025-07-28T18:02:30.139422Z",
     "shell.execute_reply": "2025-07-28T18:02:30.137414Z"
    },
    "tags": [
     "remove-input"
    ]
   },
   "outputs": [
    {
     "data": {
      "text/html": [
       "<style type=\"text/css\">\n",
       "#T_c715d th {\n",
       "  text-align: left;\n",
       "}\n",
       "#T_c715d_row0_col0, #T_c715d_row0_col1, #T_c715d_row1_col0, #T_c715d_row1_col1, #T_c715d_row2_col0, #T_c715d_row2_col1, #T_c715d_row3_col0, #T_c715d_row3_col1, #T_c715d_row4_col0, #T_c715d_row4_col1, #T_c715d_row5_col0, #T_c715d_row5_col1, #T_c715d_row6_col0, #T_c715d_row6_col1, #T_c715d_row7_col0, #T_c715d_row7_col1, #T_c715d_row8_col0, #T_c715d_row8_col1, #T_c715d_row9_col0, #T_c715d_row9_col1, #T_c715d_row10_col0, #T_c715d_row10_col1, #T_c715d_row11_col0, #T_c715d_row11_col1, #T_c715d_row12_col0, #T_c715d_row12_col1 {\n",
       "  text-align: left;\n",
       "}\n",
       "</style>\n",
       "<table id=\"T_c715d\" style=\"font-size: 14px\">\n",
       "  <thead>\n",
       "    <tr>\n",
       "      <th id=\"T_c715d_level0_col0\" class=\"col_heading level0 col0\" >Dataset Descriptor</th>\n",
       "      <th id=\"T_c715d_level0_col1\" class=\"col_heading level0 col1\" >Dataset-specific Information</th>\n",
       "    </tr>\n",
       "  </thead>\n",
       "  <tbody>\n",
       "    <tr>\n",
       "      <td id=\"T_c715d_row0_col0\" class=\"data row0 col0\" >Name of Dataset in TRE</td>\n",
       "      <td id=\"T_c715d_row0_col1\" class=\"data row0 col1\" >BIB_CV19adult_P3</td>\n",
       "    </tr>\n",
       "    <tr>\n",
       "      <td id=\"T_c715d_row1_col0\" class=\"data row1 col0\" >Citation (APA)</td>\n",
       "      <td id=\"T_c715d_row1_col1\" class=\"data row1 col1\" >Bradford Institute for Health Research, Bradford Teaching Hospitals NHS Foundation Trust. (2022). <i>Born in Bradford (BiB): COVID-19 Adult Phase 3 .</i> UK Longitudinal Linkage Collaboration (UK LLC).  <a href=\"https://doi.org/10.71760/ukllc-dataset-00071-01\" rel=\"noopener noreferrer\" target=\"_blank\">https://doi.org/10.71760/ukllc-dataset-00071-01</a></td>\n",
       "    </tr>\n",
       "    <tr>\n",
       "      <td id=\"T_c715d_row2_col0\" class=\"data row2 col0\" >Download Citation</td>\n",
       "      <td id=\"T_c715d_row2_col1\" class=\"data row2 col1\" > <a href=\"https://api.datacite.org/application/vnd.citationstyles.csl+json/10.71760/ukllc-dataset-00071-01\" rel=\"noopener noreferrer\" target=\"_blank\">Citeproc JSON</a>&nbsp;&nbsp;&nbsp;&nbsp; <a href=\"https://api.datacite.org/application/x-bibtex/10.71760/ukllc-dataset-00071-01\" rel=\"noopener noreferrer\" target=\"_blank\">BibTeX</a>&nbsp;&nbsp;&nbsp;&nbsp; <a href=\"https://api.datacite.org/application/x-research-info-systems/10.71760/ukllc-dataset-00071-01\" rel=\"noopener noreferrer\" target=\"_blank\">RIS</a></td>\n",
       "    </tr>\n",
       "    <tr>\n",
       "      <td id=\"T_c715d_row3_col0\" class=\"data row3 col0\" >Series</td>\n",
       "      <td id=\"T_c715d_row3_col1\" class=\"data row3 col1\" > <a href=\"https://guidebook.ukllc.ac.uk/docs/lps_data/lps%20profiles/BIB\">Born in Bradford (BiB)</a></td>\n",
       "    </tr>\n",
       "    <tr>\n",
       "      <td id=\"T_c715d_row4_col0\" class=\"data row4 col0\" >Owner</td>\n",
       "      <td id=\"T_c715d_row4_col1\" class=\"data row4 col1\" >Bradford Teaching Hospitals NHS Foundation Trust</td>\n",
       "    </tr>\n",
       "    <tr>\n",
       "      <td id=\"T_c715d_row5_col0\" class=\"data row5 col0\" >Temporal Coverage</td>\n",
       "      <td id=\"T_c715d_row5_col1\" class=\"data row5 col1\" >04/2021 - 01/2021</td>\n",
       "    </tr>\n",
       "    <tr>\n",
       "      <td id=\"T_c715d_row6_col0\" class=\"data row6 col0\" >Keywords</td>\n",
       "      <td id=\"T_c715d_row6_col1\" class=\"data row6 col1\" ></td>\n",
       "    </tr>\n",
       "    <tr>\n",
       "      <td id=\"T_c715d_row7_col0\" class=\"data row7 col0\" >Participants Invited</td>\n",
       "      <td id=\"T_c715d_row7_col1\" class=\"data row7 col1\" >28591</td>\n",
       "    </tr>\n",
       "    <tr>\n",
       "      <td id=\"T_c715d_row8_col0\" class=\"data row8 col0\" >Participant Count</td>\n",
       "      <td id=\"T_c715d_row8_col1\" class=\"data row8 col1\" >1158</td>\n",
       "    </tr>\n",
       "    <tr>\n",
       "      <td id=\"T_c715d_row9_col0\" class=\"data row9 col0\" >Number of variables</td>\n",
       "      <td id=\"T_c715d_row9_col1\" class=\"data row9 col1\" >162</td>\n",
       "    </tr>\n",
       "    <tr>\n",
       "      <td id=\"T_c715d_row10_col0\" class=\"data row10 col0\" >Number of observations</td>\n",
       "      <td id=\"T_c715d_row10_col1\" class=\"data row10 col1\" >1184</td>\n",
       "    </tr>\n",
       "    <tr>\n",
       "      <td id=\"T_c715d_row11_col0\" class=\"data row11 col0\" >Specific Restrictions to Data Use</td>\n",
       "      <td id=\"T_c715d_row11_col1\" class=\"data row11 col1\" >None</td>\n",
       "    </tr>\n",
       "    <tr>\n",
       "      <td id=\"T_c715d_row12_col0\" class=\"data row12 col0\" >Build a Data Request</td>\n",
       "      <td id=\"T_c715d_row12_col1\" class=\"data row12 col1\" > <a href=\"https://explore.ukllc.ac.uk/\" rel=\"noopener noreferrer\" target=\"_blank\">https://explore.ukllc.ac.uk/</a></td>\n",
       "    </tr>\n",
       "  </tbody>\n",
       "</table>\n"
      ],
      "text/plain": [
       "<pandas.io.formats.style.Styler at 0x1fbf9fad1c0>"
      ]
     },
     "execution_count": 3,
     "metadata": {},
     "output_type": "execute_result"
    }
   ],
   "source": [
    "ds.info_table()"
   ]
  },
  {
   "cell_type": "markdown",
   "id": "8f9382c9",
   "metadata": {},
   "source": [
    "## 2. Version History"
   ]
  },
  {
   "cell_type": "code",
   "execution_count": 4,
   "id": "16ed0026",
   "metadata": {
    "execution": {
     "iopub.execute_input": "2025-07-28T18:02:30.147420Z",
     "iopub.status.busy": "2025-07-28T18:02:30.146420Z",
     "iopub.status.idle": "2025-07-28T18:02:35.741425Z",
     "shell.execute_reply": "2025-07-28T18:02:35.740916Z"
    },
    "tags": [
     "remove-input"
    ]
   },
   "outputs": [
    {
     "data": {
      "text/html": [
       "<style type=\"text/css\">\n",
       "#T_b12bb th {\n",
       "  text-align: left;\n",
       "}\n",
       "#T_b12bb_row0_col0, #T_b12bb_row0_col1, #T_b12bb_row1_col0, #T_b12bb_row1_col1, #T_b12bb_row2_col0, #T_b12bb_row2_col1, #T_b12bb_row3_col0, #T_b12bb_row3_col1, #T_b12bb_row4_col0, #T_b12bb_row4_col1 {\n",
       "  text-align: left;\n",
       "}\n",
       "</style>\n",
       "<table id=\"T_b12bb\" style=\"font-size: 14px\">\n",
       "  <thead>\n",
       "    <tr>\n",
       "      <th id=\"T_b12bb_level0_col0\" class=\"col_heading level0 col0\" >Version</th>\n",
       "      <th id=\"T_b12bb_level0_col1\" class=\"col_heading level0 col1\" >1</th>\n",
       "    </tr>\n",
       "  </thead>\n",
       "  <tbody>\n",
       "    <tr>\n",
       "      <td id=\"T_b12bb_row0_col0\" class=\"data row0 col0\" >Version Date</td>\n",
       "      <td id=\"T_b12bb_row0_col1\" class=\"data row0 col1\" >10 Aug 2022</td>\n",
       "    </tr>\n",
       "    <tr>\n",
       "      <td id=\"T_b12bb_row1_col0\" class=\"data row1 col0\" >Number of Variables</td>\n",
       "      <td id=\"T_b12bb_row1_col1\" class=\"data row1 col1\" >162</td>\n",
       "    </tr>\n",
       "    <tr>\n",
       "      <td id=\"T_b12bb_row2_col0\" class=\"data row2 col0\" >Number of Observations</td>\n",
       "      <td id=\"T_b12bb_row2_col1\" class=\"data row2 col1\" >1184</td>\n",
       "    </tr>\n",
       "    <tr>\n",
       "      <td id=\"T_b12bb_row3_col0\" class=\"data row3 col0\" >DOI</td>\n",
       "      <td id=\"T_b12bb_row3_col1\" class=\"data row3 col1\" > <a href=\"https://doi.org/10.71760/ukllc-dataset-00071-01\" rel=\"noopener noreferrer\" target=\"_blank\">10.71760/ukllc-dataset-00071-01</a></td>\n",
       "    </tr>\n",
       "    <tr>\n",
       "      <td id=\"T_b12bb_row4_col0\" class=\"data row4 col0\" >Change Log</td>\n",
       "      <td id=\"T_b12bb_row4_col1\" class=\"data row4 col1\" > <a href=\"https://api.test.datacite.org/dois/10.71760/ukllc-dataset-00071-01/activities\" rel=\"noopener noreferrer\" target=\"_blank\">10.71760/ukllc-dataset-00071-01/activities</a></td>\n",
       "    </tr>\n",
       "  </tbody>\n",
       "</table>\n"
      ],
      "text/plain": [
       "<pandas.io.formats.style.Styler at 0x1fbfa0d3ce0>"
      ]
     },
     "execution_count": 4,
     "metadata": {},
     "output_type": "execute_result"
    }
   ],
   "source": [
    "ds.version_history()"
   ]
  },
  {
   "cell_type": "markdown",
   "id": "5fb2a280",
   "metadata": {},
   "source": [
    "## 3. Documentation"
   ]
  },
  {
   "cell_type": "code",
   "execution_count": 5,
   "id": "a5d07d87",
   "metadata": {
    "execution": {
     "iopub.execute_input": "2025-07-28T18:02:35.745433Z",
     "iopub.status.busy": "2025-07-28T18:02:35.744433Z",
     "iopub.status.idle": "2025-07-28T18:02:35.751288Z",
     "shell.execute_reply": "2025-07-28T18:02:35.751288Z"
    },
    "tags": [
     "remove-input"
    ]
   },
   "outputs": [
    {
     "data": {
      "text/markdown": [
       "We are currently building a documentation storage system which will host useful documents related to datasets and data owners. We will surface these documents on Guidebook."
      ],
      "text/plain": [
       "<IPython.core.display.Markdown object>"
      ]
     },
     "metadata": {},
     "output_type": "display_data"
    }
   ],
   "source": [
    "ds.documentation()"
   ]
  },
  {
   "cell_type": "markdown",
   "id": "8454dfa7",
   "metadata": {},
   "source": [
    "## 4. Useful Syntax"
   ]
  },
  {
   "cell_type": "code",
   "execution_count": 6,
   "id": "6d880a13",
   "metadata": {
    "execution": {
     "iopub.execute_input": "2025-07-28T18:02:35.754293Z",
     "iopub.status.busy": "2025-07-28T18:02:35.754293Z",
     "iopub.status.idle": "2025-07-28T18:02:35.757695Z",
     "shell.execute_reply": "2025-07-28T18:02:35.757695Z"
    },
    "tags": [
     "remove-input"
    ]
   },
   "outputs": [
    {
     "data": {
      "text/markdown": [
       "Below we will include syntax that may be helpful to other researchers in the UK LLC TRE. For longer scripts, we will include a snippet of the code plus a link to Git where you can find the full scripts."
      ],
      "text/plain": [
       "<IPython.core.display.Markdown object>"
      ]
     },
     "metadata": {},
     "output_type": "display_data"
    }
   ],
   "source": [
    "ds.useful_syntax()"
   ]
  }
 ],
 "metadata": {
  "language_info": {
   "codemirror_mode": {
    "name": "ipython",
    "version": 3
   },
   "file_extension": ".py",
   "mimetype": "text/x-python",
   "name": "python",
   "nbconvert_exporter": "python",
   "pygments_lexer": "ipython3",
   "version": "3.12.7"
  }
 },
 "nbformat": 4,
 "nbformat_minor": 5
}
