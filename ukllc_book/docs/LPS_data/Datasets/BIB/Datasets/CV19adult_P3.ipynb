{
 "cells": [
  {
   "cell_type": "markdown",
   "id": "77ef228b",
   "metadata": {},
   "source": [
    "# COVID-19 Adult Phase 3  (BIB)"
   ]
  },
  {
   "cell_type": "code",
   "execution_count": 1,
   "id": "89ff3102",
   "metadata": {
    "execution": {
     "iopub.execute_input": "2025-07-17T15:08:08.064478Z",
     "iopub.status.busy": "2025-07-17T15:08:08.064478Z",
     "iopub.status.idle": "2025-07-17T15:08:16.097863Z",
     "shell.execute_reply": "2025-07-17T15:08:16.095845Z"
    },
    "tags": [
     "remove-input"
    ]
   },
   "outputs": [
    {
     "data": {
      "text/markdown": [
       ">Last modified: 17 Jul 2025"
      ],
      "text/plain": [
       "<IPython.core.display.Markdown object>"
      ]
     },
     "metadata": {},
     "output_type": "display_data"
    }
   ],
   "source": [
    "\n",
    "import sys\n",
    "import os\n",
    "sys.path.append(os.path.abspath('../../../../scripts/'))\n",
    "from data_doc_helper import LPSDataSet as DS, last_modified\n",
    "API_KEY = os.environ['FASTAPI_KEY']\n",
    "ds = DS(\"BIB\", \"CV19adult_P3\")\n",
    "last_modified()\n"
   ]
  },
  {
   "cell_type": "markdown",
   "id": "60f7be77",
   "metadata": {},
   "source": [
    "## 1. Summary"
   ]
  },
  {
   "cell_type": "code",
   "execution_count": 2,
   "id": "b9a32d41",
   "metadata": {
    "execution": {
     "iopub.execute_input": "2025-07-17T15:08:16.106967Z",
     "iopub.status.busy": "2025-07-17T15:08:16.106967Z",
     "iopub.status.idle": "2025-07-17T15:08:16.119828Z",
     "shell.execute_reply": "2025-07-17T15:08:16.117968Z"
    },
    "tags": [
     "remove-input"
    ]
   },
   "outputs": [
    {
     "data": {
      "text/markdown": [
       "A follow up to the Covid 19 Phase 1 and 2 surveys conducted at the start of the national lockdown. "
      ],
      "text/plain": [
       "<IPython.core.display.Markdown object>"
      ]
     },
     "metadata": {},
     "output_type": "display_data"
    }
   ],
   "source": [
    "ds.summary()"
   ]
  },
  {
   "cell_type": "code",
   "execution_count": 3,
   "id": "006a8aa2",
   "metadata": {
    "execution": {
     "iopub.execute_input": "2025-07-17T15:08:16.126646Z",
     "iopub.status.busy": "2025-07-17T15:08:16.126646Z",
     "iopub.status.idle": "2025-07-17T15:08:18.883033Z",
     "shell.execute_reply": "2025-07-17T15:08:18.881016Z"
    },
    "tags": [
     "remove-input"
    ]
   },
   "outputs": [
    {
     "data": {
      "text/html": [
       "<style type=\"text/css\">\n",
       "#T_98b20 th {\n",
       "  text-align: left;\n",
       "}\n",
       "#T_98b20_row0_col0, #T_98b20_row0_col1, #T_98b20_row1_col0, #T_98b20_row1_col1, #T_98b20_row2_col0, #T_98b20_row2_col1, #T_98b20_row3_col0, #T_98b20_row3_col1, #T_98b20_row4_col0, #T_98b20_row4_col1, #T_98b20_row5_col0, #T_98b20_row5_col1, #T_98b20_row6_col0, #T_98b20_row6_col1, #T_98b20_row7_col0, #T_98b20_row7_col1, #T_98b20_row8_col0, #T_98b20_row8_col1, #T_98b20_row9_col0, #T_98b20_row9_col1, #T_98b20_row10_col0, #T_98b20_row10_col1, #T_98b20_row11_col0, #T_98b20_row11_col1, #T_98b20_row12_col0, #T_98b20_row12_col1 {\n",
       "  text-align: left;\n",
       "}\n",
       "</style>\n",
       "<table id=\"T_98b20\" style=\"font-size: 14px\">\n",
       "  <thead>\n",
       "    <tr>\n",
       "      <th id=\"T_98b20_level0_col0\" class=\"col_heading level0 col0\" >Dataset Descriptor</th>\n",
       "      <th id=\"T_98b20_level0_col1\" class=\"col_heading level0 col1\" >Dataset-specific Information</th>\n",
       "    </tr>\n",
       "  </thead>\n",
       "  <tbody>\n",
       "    <tr>\n",
       "      <td id=\"T_98b20_row0_col0\" class=\"data row0 col0\" >Name of Dataset in TRE</td>\n",
       "      <td id=\"T_98b20_row0_col1\" class=\"data row0 col1\" >BIB_CV19adult_P3</td>\n",
       "    </tr>\n",
       "    <tr>\n",
       "      <td id=\"T_98b20_row1_col0\" class=\"data row1 col0\" >Citation (APA)</td>\n",
       "      <td id=\"T_98b20_row1_col1\" class=\"data row1 col1\" >Bradford Institute for Health Research, Bradford Teaching Hospitals NHS Foundation Trust. (2022). <i>Born in Bradford (BiB): COVID-19 Adult Phase 3 .</i> UK Longitudinal Linkage Collaboration (UK LLC).  <a href=\"https://doi.org/10.83126/ukllc-dataset-00152-01\" rel=\"noopener noreferrer\" target=\"_blank\">https://doi.org/10.83126/ukllc-dataset-00152-01</a></td>\n",
       "    </tr>\n",
       "    <tr>\n",
       "      <td id=\"T_98b20_row2_col0\" class=\"data row2 col0\" >Download Citation</td>\n",
       "      <td id=\"T_98b20_row2_col1\" class=\"data row2 col1\" > <a href=\"https://api.test.datacite.org/application/vnd.citationstyles.csl+json/10.83126/ukllc-dataset-00152-01\" rel=\"noopener noreferrer\" target=\"_blank\">Citeproc JSON</a>&nbsp;&nbsp;&nbsp;&nbsp; <a href=\"https://api.test.datacite.org/application/x-bibtex/10.83126/ukllc-dataset-00152-01\" rel=\"noopener noreferrer\" target=\"_blank\">BibTeX</a>&nbsp;&nbsp;&nbsp;&nbsp; <a href=\"https://api.test.datacite.org/application/x-research-info-systems/10.83126/ukllc-dataset-00152-01\" rel=\"noopener noreferrer\" target=\"_blank\">RIS</a></td>\n",
       "    </tr>\n",
       "    <tr>\n",
       "      <td id=\"T_98b20_row3_col0\" class=\"data row3 col0\" >Series</td>\n",
       "      <td id=\"T_98b20_row3_col1\" class=\"data row3 col1\" > <a href=\"https://guidebook.ukllc.ac.uk/docs/lps/lps%20profiles/BIB\">Born in Bradford (BiB)</a></td>\n",
       "    </tr>\n",
       "    <tr>\n",
       "      <td id=\"T_98b20_row4_col0\" class=\"data row4 col0\" >Owner</td>\n",
       "      <td id=\"T_98b20_row4_col1\" class=\"data row4 col1\" >Bradford Teaching Hospitals NHS Foundation Trust</td>\n",
       "    </tr>\n",
       "    <tr>\n",
       "      <td id=\"T_98b20_row5_col0\" class=\"data row5 col0\" >Temporal Coverage</td>\n",
       "      <td id=\"T_98b20_row5_col1\" class=\"data row5 col1\" >04/2021 - 01/2021</td>\n",
       "    </tr>\n",
       "    <tr>\n",
       "      <td id=\"T_98b20_row6_col0\" class=\"data row6 col0\" >Keywords</td>\n",
       "      <td id=\"T_98b20_row6_col1\" class=\"data row6 col1\" ></td>\n",
       "    </tr>\n",
       "    <tr>\n",
       "      <td id=\"T_98b20_row7_col0\" class=\"data row7 col0\" >Participants Invited</td>\n",
       "      <td id=\"T_98b20_row7_col1\" class=\"data row7 col1\" >28591</td>\n",
       "    </tr>\n",
       "    <tr>\n",
       "      <td id=\"T_98b20_row8_col0\" class=\"data row8 col0\" >Participant Count</td>\n",
       "      <td id=\"T_98b20_row8_col1\" class=\"data row8 col1\" >1158</td>\n",
       "    </tr>\n",
       "    <tr>\n",
       "      <td id=\"T_98b20_row9_col0\" class=\"data row9 col0\" >Number of variables</td>\n",
       "      <td id=\"T_98b20_row9_col1\" class=\"data row9 col1\" >162</td>\n",
       "    </tr>\n",
       "    <tr>\n",
       "      <td id=\"T_98b20_row10_col0\" class=\"data row10 col0\" >Number of observations</td>\n",
       "      <td id=\"T_98b20_row10_col1\" class=\"data row10 col1\" >1184</td>\n",
       "    </tr>\n",
       "    <tr>\n",
       "      <td id=\"T_98b20_row11_col0\" class=\"data row11 col0\" >Specific Restrictions to Data Use</td>\n",
       "      <td id=\"T_98b20_row11_col1\" class=\"data row11 col1\" >None</td>\n",
       "    </tr>\n",
       "    <tr>\n",
       "      <td id=\"T_98b20_row12_col0\" class=\"data row12 col0\" >Build a Data Request</td>\n",
       "      <td id=\"T_98b20_row12_col1\" class=\"data row12 col1\" > <a href=\"https://explore.ukllc.ac.uk/\" rel=\"noopener noreferrer\" target=\"_blank\">https://explore.ukllc.ac.uk/</a></td>\n",
       "    </tr>\n",
       "  </tbody>\n",
       "</table>\n"
      ],
      "text/plain": [
       "<pandas.io.formats.style.Styler at 0x2638d2837a0>"
      ]
     },
     "execution_count": 3,
     "metadata": {},
     "output_type": "execute_result"
    }
   ],
   "source": [
    "ds.info_table()"
   ]
  },
  {
   "cell_type": "markdown",
   "id": "8f9382c9",
   "metadata": {},
   "source": [
    "## 2. Version History"
   ]
  },
  {
   "cell_type": "code",
   "execution_count": 4,
   "id": "16ed0026",
   "metadata": {
    "execution": {
     "iopub.execute_input": "2025-07-17T15:08:18.893034Z",
     "iopub.status.busy": "2025-07-17T15:08:18.892037Z",
     "iopub.status.idle": "2025-07-17T15:08:22.048297Z",
     "shell.execute_reply": "2025-07-17T15:08:22.046285Z"
    },
    "tags": [
     "remove-input"
    ]
   },
   "outputs": [
    {
     "data": {
      "text/html": [
       "<style type=\"text/css\">\n",
       "#T_0652d th {\n",
       "  text-align: left;\n",
       "}\n",
       "#T_0652d_row0_col0, #T_0652d_row0_col1, #T_0652d_row1_col0, #T_0652d_row1_col1, #T_0652d_row2_col0, #T_0652d_row2_col1, #T_0652d_row3_col0, #T_0652d_row3_col1, #T_0652d_row4_col0, #T_0652d_row4_col1 {\n",
       "  text-align: left;\n",
       "}\n",
       "</style>\n",
       "<table id=\"T_0652d\" style=\"font-size: 14px\">\n",
       "  <thead>\n",
       "    <tr>\n",
       "      <th id=\"T_0652d_level0_col0\" class=\"col_heading level0 col0\" >Version</th>\n",
       "      <th id=\"T_0652d_level0_col1\" class=\"col_heading level0 col1\" >1</th>\n",
       "    </tr>\n",
       "  </thead>\n",
       "  <tbody>\n",
       "    <tr>\n",
       "      <td id=\"T_0652d_row0_col0\" class=\"data row0 col0\" >Version Date</td>\n",
       "      <td id=\"T_0652d_row0_col1\" class=\"data row0 col1\" >10 Aug 2022</td>\n",
       "    </tr>\n",
       "    <tr>\n",
       "      <td id=\"T_0652d_row1_col0\" class=\"data row1 col0\" >Number of Variables</td>\n",
       "      <td id=\"T_0652d_row1_col1\" class=\"data row1 col1\" >162</td>\n",
       "    </tr>\n",
       "    <tr>\n",
       "      <td id=\"T_0652d_row2_col0\" class=\"data row2 col0\" >Number of Observations</td>\n",
       "      <td id=\"T_0652d_row2_col1\" class=\"data row2 col1\" >1184</td>\n",
       "    </tr>\n",
       "    <tr>\n",
       "      <td id=\"T_0652d_row3_col0\" class=\"data row3 col0\" >DOI</td>\n",
       "      <td id=\"T_0652d_row3_col1\" class=\"data row3 col1\" > <a href=\"https://doi.org/10.83126/ukllc-dataset-00152-01\" rel=\"noopener noreferrer\" target=\"_blank\">10.83126/ukllc-dataset-00152-01</a></td>\n",
       "    </tr>\n",
       "    <tr>\n",
       "      <td id=\"T_0652d_row4_col0\" class=\"data row4 col0\" >Change Log</td>\n",
       "      <td id=\"T_0652d_row4_col1\" class=\"data row4 col1\" > <a href=\"https://api.test.datacite.org/dois/10.83126/ukllc-dataset-00152-01/activities\" rel=\"noopener noreferrer\" target=\"_blank\">10.83126/ukllc-dataset-00152-01/activities</a></td>\n",
       "    </tr>\n",
       "  </tbody>\n",
       "</table>\n"
      ],
      "text/plain": [
       "<pandas.io.formats.style.Styler at 0x2638f06eae0>"
      ]
     },
     "execution_count": 4,
     "metadata": {},
     "output_type": "execute_result"
    }
   ],
   "source": [
    "ds.version_history()"
   ]
  },
  {
   "cell_type": "markdown",
   "id": "5fb2a280",
   "metadata": {},
   "source": [
    "## 3. Documentation"
   ]
  },
  {
   "cell_type": "code",
   "execution_count": 5,
   "id": "a5d07d87",
   "metadata": {
    "execution": {
     "iopub.execute_input": "2025-07-17T15:08:22.055687Z",
     "iopub.status.busy": "2025-07-17T15:08:22.055687Z",
     "iopub.status.idle": "2025-07-17T15:08:22.067250Z",
     "shell.execute_reply": "2025-07-17T15:08:22.065686Z"
    },
    "tags": [
     "remove-input"
    ]
   },
   "outputs": [
    {
     "data": {
      "text/markdown": [
       "We are currently building a documentation storage system which will host useful documents related to datasets and data owners. We will surface these documents on Guidebook."
      ],
      "text/plain": [
       "<IPython.core.display.Markdown object>"
      ]
     },
     "metadata": {},
     "output_type": "display_data"
    }
   ],
   "source": [
    "ds.documentation()"
   ]
  },
  {
   "cell_type": "markdown",
   "id": "8454dfa7",
   "metadata": {},
   "source": [
    "## 4. Useful Syntax"
   ]
  },
  {
   "cell_type": "code",
   "execution_count": 6,
   "id": "6d880a13",
   "metadata": {
    "execution": {
     "iopub.execute_input": "2025-07-17T15:08:22.076828Z",
     "iopub.status.busy": "2025-07-17T15:08:22.075823Z",
     "iopub.status.idle": "2025-07-17T15:08:22.088280Z",
     "shell.execute_reply": "2025-07-17T15:08:22.085699Z"
    },
    "tags": [
     "remove-input"
    ]
   },
   "outputs": [
    {
     "data": {
      "text/markdown": [
       "Below we will include syntax that may be helpful to other researchers in the UK LLC TRE. For longer scripts, we will include a snippet of the code plus a link to Git where you can find the full scripts."
      ],
      "text/plain": [
       "<IPython.core.display.Markdown object>"
      ]
     },
     "metadata": {},
     "output_type": "display_data"
    }
   ],
   "source": [
    "ds.useful_syntax()"
   ]
  }
 ],
 "metadata": {
  "language_info": {
   "codemirror_mode": {
    "name": "ipython",
    "version": 3
   },
   "file_extension": ".py",
   "mimetype": "text/x-python",
   "name": "python",
   "nbconvert_exporter": "python",
   "pygments_lexer": "ipython3",
   "version": "3.12.7"
  }
 },
 "nbformat": 4,
 "nbformat_minor": 5
}
