{
 "cells": [
  {
   "cell_type": "markdown",
   "id": "9692416f",
   "metadata": {},
   "source": [
    "# NMR Metabolomics Baby (BIB)"
   ]
  },
  {
   "cell_type": "code",
   "execution_count": 1,
   "id": "705982a1",
   "metadata": {
    "execution": {
     "iopub.execute_input": "2025-07-17T15:10:56.581146Z",
     "iopub.status.busy": "2025-07-17T15:10:56.581146Z",
     "iopub.status.idle": "2025-07-17T15:11:10.524237Z",
     "shell.execute_reply": "2025-07-17T15:11:10.522229Z"
    },
    "tags": [
     "remove-input"
    ]
   },
   "outputs": [
    {
     "data": {
      "text/markdown": [
       ">Last modified: 17 Jul 2025"
      ],
      "text/plain": [
       "<IPython.core.display.Markdown object>"
      ]
     },
     "metadata": {},
     "output_type": "display_data"
    }
   ],
   "source": [
    "\n",
    "import sys\n",
    "import os\n",
    "sys.path.append(os.path.abspath('../../../../scripts/'))\n",
    "from data_doc_helper import LPSDataSet as DS, last_modified\n",
    "API_KEY = os.environ['FASTAPI_KEY']\n",
    "ds = DS(\"BIB\", \"nmrmetabolomics_baby\")\n",
    "last_modified()\n"
   ]
  },
  {
   "cell_type": "markdown",
   "id": "33919705",
   "metadata": {},
   "source": [
    "## 1. Summary"
   ]
  },
  {
   "cell_type": "code",
   "execution_count": 2,
   "id": "ab79cdb9",
   "metadata": {
    "execution": {
     "iopub.execute_input": "2025-07-17T15:11:10.533320Z",
     "iopub.status.busy": "2025-07-17T15:11:10.532321Z",
     "iopub.status.idle": "2025-07-17T15:11:10.545655Z",
     "shell.execute_reply": "2025-07-17T15:11:10.543639Z"
    },
    "tags": [
     "remove-input"
    ]
   },
   "outputs": [
    {
     "data": {
      "text/markdown": [
       "Nuclear magnetic resonance metabolomics (Nightingale) with 85 markers from neonatal cord bloods."
      ],
      "text/plain": [
       "<IPython.core.display.Markdown object>"
      ]
     },
     "metadata": {},
     "output_type": "display_data"
    }
   ],
   "source": [
    "ds.summary()"
   ]
  },
  {
   "cell_type": "code",
   "execution_count": 3,
   "id": "355279d4",
   "metadata": {
    "execution": {
     "iopub.execute_input": "2025-07-17T15:11:10.552804Z",
     "iopub.status.busy": "2025-07-17T15:11:10.552804Z",
     "iopub.status.idle": "2025-07-17T15:11:12.316844Z",
     "shell.execute_reply": "2025-07-17T15:11:12.314829Z"
    },
    "tags": [
     "remove-input"
    ]
   },
   "outputs": [
    {
     "data": {
      "text/html": [
       "<style type=\"text/css\">\n",
       "#T_b075d th {\n",
       "  text-align: left;\n",
       "}\n",
       "#T_b075d_row0_col0, #T_b075d_row0_col1, #T_b075d_row1_col0, #T_b075d_row1_col1, #T_b075d_row2_col0, #T_b075d_row2_col1, #T_b075d_row3_col0, #T_b075d_row3_col1, #T_b075d_row4_col0, #T_b075d_row4_col1, #T_b075d_row5_col0, #T_b075d_row5_col1, #T_b075d_row6_col0, #T_b075d_row6_col1, #T_b075d_row7_col0, #T_b075d_row7_col1, #T_b075d_row8_col0, #T_b075d_row8_col1, #T_b075d_row9_col0, #T_b075d_row9_col1, #T_b075d_row10_col0, #T_b075d_row10_col1, #T_b075d_row11_col0, #T_b075d_row11_col1, #T_b075d_row12_col0, #T_b075d_row12_col1 {\n",
       "  text-align: left;\n",
       "}\n",
       "</style>\n",
       "<table id=\"T_b075d\" style=\"font-size: 14px\">\n",
       "  <thead>\n",
       "    <tr>\n",
       "      <th id=\"T_b075d_level0_col0\" class=\"col_heading level0 col0\" >Dataset Descriptor</th>\n",
       "      <th id=\"T_b075d_level0_col1\" class=\"col_heading level0 col1\" >Dataset-specific Information</th>\n",
       "    </tr>\n",
       "  </thead>\n",
       "  <tbody>\n",
       "    <tr>\n",
       "      <td id=\"T_b075d_row0_col0\" class=\"data row0 col0\" >Name of Dataset in TRE</td>\n",
       "      <td id=\"T_b075d_row0_col1\" class=\"data row0 col1\" >BIB_nmrmetabolomics_baby</td>\n",
       "    </tr>\n",
       "    <tr>\n",
       "      <td id=\"T_b075d_row1_col0\" class=\"data row1 col0\" >Citation (APA)</td>\n",
       "      <td id=\"T_b075d_row1_col1\" class=\"data row1 col1\" >Bradford Institute for Health Research, Bradford Teaching Hospitals NHS Foundation Trust. (2022). <i>Born in Bradford (BiB): NMR Metabolomics Baby.</i> UK Longitudinal Linkage Collaboration (UK LLC).  <a href=\"https://doi.org/10.83126/ukllc-dataset-00163-02\" rel=\"noopener noreferrer\" target=\"_blank\">https://doi.org/10.83126/ukllc-dataset-00163-02</a></td>\n",
       "    </tr>\n",
       "    <tr>\n",
       "      <td id=\"T_b075d_row2_col0\" class=\"data row2 col0\" >Download Citation</td>\n",
       "      <td id=\"T_b075d_row2_col1\" class=\"data row2 col1\" > <a href=\"https://api.test.datacite.org/application/vnd.citationstyles.csl+json/10.83126/ukllc-dataset-00163-02\" rel=\"noopener noreferrer\" target=\"_blank\">Citeproc JSON</a>&nbsp;&nbsp;&nbsp;&nbsp; <a href=\"https://api.test.datacite.org/application/x-bibtex/10.83126/ukllc-dataset-00163-02\" rel=\"noopener noreferrer\" target=\"_blank\">BibTeX</a>&nbsp;&nbsp;&nbsp;&nbsp; <a href=\"https://api.test.datacite.org/application/x-research-info-systems/10.83126/ukllc-dataset-00163-02\" rel=\"noopener noreferrer\" target=\"_blank\">RIS</a></td>\n",
       "    </tr>\n",
       "    <tr>\n",
       "      <td id=\"T_b075d_row3_col0\" class=\"data row3 col0\" >Series</td>\n",
       "      <td id=\"T_b075d_row3_col1\" class=\"data row3 col1\" > <a href=\"https://guidebook.ukllc.ac.uk/docs/lps/lps%20profiles/BIB\">Born in Bradford (BiB)</a></td>\n",
       "    </tr>\n",
       "    <tr>\n",
       "      <td id=\"T_b075d_row4_col0\" class=\"data row4 col0\" >Owner</td>\n",
       "      <td id=\"T_b075d_row4_col1\" class=\"data row4 col1\" >Bradford Teaching Hospitals NHS Foundation Trust</td>\n",
       "    </tr>\n",
       "    <tr>\n",
       "      <td id=\"T_b075d_row5_col0\" class=\"data row5 col0\" >Temporal Coverage</td>\n",
       "      <td id=\"T_b075d_row5_col1\" class=\"data row5 col1\" >06/2007 - 06/2011</td>\n",
       "    </tr>\n",
       "    <tr>\n",
       "      <td id=\"T_b075d_row6_col0\" class=\"data row6 col0\" >Keywords</td>\n",
       "      <td id=\"T_b075d_row6_col1\" class=\"data row6 col1\" ></td>\n",
       "    </tr>\n",
       "    <tr>\n",
       "      <td id=\"T_b075d_row7_col0\" class=\"data row7 col0\" >Participants Invited</td>\n",
       "      <td id=\"T_b075d_row7_col1\" class=\"data row7 col1\" >28591</td>\n",
       "    </tr>\n",
       "    <tr>\n",
       "      <td id=\"T_b075d_row8_col0\" class=\"data row8 col0\" >Participant Count</td>\n",
       "      <td id=\"T_b075d_row8_col1\" class=\"data row8 col1\" >7650</td>\n",
       "    </tr>\n",
       "    <tr>\n",
       "      <td id=\"T_b075d_row9_col0\" class=\"data row9 col0\" >Number of variables</td>\n",
       "      <td id=\"T_b075d_row9_col1\" class=\"data row9 col1\" >112</td>\n",
       "    </tr>\n",
       "    <tr>\n",
       "      <td id=\"T_b075d_row10_col0\" class=\"data row10 col0\" >Number of observations</td>\n",
       "      <td id=\"T_b075d_row10_col1\" class=\"data row10 col1\" >28591</td>\n",
       "    </tr>\n",
       "    <tr>\n",
       "      <td id=\"T_b075d_row11_col0\" class=\"data row11 col0\" >Specific Restrictions to Data Use</td>\n",
       "      <td id=\"T_b075d_row11_col1\" class=\"data row11 col1\" >None</td>\n",
       "    </tr>\n",
       "    <tr>\n",
       "      <td id=\"T_b075d_row12_col0\" class=\"data row12 col0\" >Build a Data Request</td>\n",
       "      <td id=\"T_b075d_row12_col1\" class=\"data row12 col1\" > <a href=\"https://explore.ukllc.ac.uk/\" rel=\"noopener noreferrer\" target=\"_blank\">https://explore.ukllc.ac.uk/</a></td>\n",
       "    </tr>\n",
       "  </tbody>\n",
       "</table>\n"
      ],
      "text/plain": [
       "<pandas.io.formats.style.Styler at 0x1ecfc7c0320>"
      ]
     },
     "execution_count": 3,
     "metadata": {},
     "output_type": "execute_result"
    }
   ],
   "source": [
    "ds.info_table()"
   ]
  },
  {
   "cell_type": "markdown",
   "id": "031dcdb6",
   "metadata": {},
   "source": [
    "## 2. Version History"
   ]
  },
  {
   "cell_type": "code",
   "execution_count": 4,
   "id": "776c6663",
   "metadata": {
    "execution": {
     "iopub.execute_input": "2025-07-17T15:11:12.324839Z",
     "iopub.status.busy": "2025-07-17T15:11:12.323846Z",
     "iopub.status.idle": "2025-07-17T15:11:15.101585Z",
     "shell.execute_reply": "2025-07-17T15:11:15.099568Z"
    },
    "tags": [
     "remove-input"
    ]
   },
   "outputs": [
    {
     "data": {
      "text/html": [
       "<style type=\"text/css\">\n",
       "#T_ade4f th {\n",
       "  text-align: left;\n",
       "}\n",
       "#T_ade4f_row0_col0, #T_ade4f_row0_col1, #T_ade4f_row0_col2, #T_ade4f_row1_col0, #T_ade4f_row1_col1, #T_ade4f_row1_col2, #T_ade4f_row2_col0, #T_ade4f_row2_col1, #T_ade4f_row2_col2, #T_ade4f_row3_col0, #T_ade4f_row3_col1, #T_ade4f_row3_col2, #T_ade4f_row4_col0, #T_ade4f_row4_col1, #T_ade4f_row4_col2 {\n",
       "  text-align: left;\n",
       "}\n",
       "</style>\n",
       "<table id=\"T_ade4f\" style=\"font-size: 14px\">\n",
       "  <thead>\n",
       "    <tr>\n",
       "      <th id=\"T_ade4f_level0_col0\" class=\"col_heading level0 col0\" >Version</th>\n",
       "      <th id=\"T_ade4f_level0_col1\" class=\"col_heading level0 col1\" >1</th>\n",
       "      <th id=\"T_ade4f_level0_col2\" class=\"col_heading level0 col2\" >2</th>\n",
       "    </tr>\n",
       "  </thead>\n",
       "  <tbody>\n",
       "    <tr>\n",
       "      <td id=\"T_ade4f_row0_col0\" class=\"data row0 col0\" >Version Date</td>\n",
       "      <td id=\"T_ade4f_row0_col1\" class=\"data row0 col1\" >10 Aug 2022</td>\n",
       "      <td id=\"T_ade4f_row0_col2\" class=\"data row0 col2\" >22 Nov 2022</td>\n",
       "    </tr>\n",
       "    <tr>\n",
       "      <td id=\"T_ade4f_row1_col0\" class=\"data row1 col0\" >Number of Variables</td>\n",
       "      <td id=\"T_ade4f_row1_col1\" class=\"data row1 col1\" >112</td>\n",
       "      <td id=\"T_ade4f_row1_col2\" class=\"data row1 col2\" >110</td>\n",
       "    </tr>\n",
       "    <tr>\n",
       "      <td id=\"T_ade4f_row2_col0\" class=\"data row2 col0\" >Number of Observations</td>\n",
       "      <td id=\"T_ade4f_row2_col1\" class=\"data row2 col1\" >28591</td>\n",
       "      <td id=\"T_ade4f_row2_col2\" class=\"data row2 col2\" >28591</td>\n",
       "    </tr>\n",
       "    <tr>\n",
       "      <td id=\"T_ade4f_row3_col0\" class=\"data row3 col0\" >DOI</td>\n",
       "      <td id=\"T_ade4f_row3_col1\" class=\"data row3 col1\" > <a href=\"https://doi.org/10.83126/ukllc-dataset-00163-01\" rel=\"noopener noreferrer\" target=\"_blank\">10.83126/ukllc-dataset-00163-01</a></td>\n",
       "      <td id=\"T_ade4f_row3_col2\" class=\"data row3 col2\" > <a href=\"https://doi.org/10.83126/ukllc-dataset-00163-02\" rel=\"noopener noreferrer\" target=\"_blank\">10.83126/ukllc-dataset-00163-02</a></td>\n",
       "    </tr>\n",
       "    <tr>\n",
       "      <td id=\"T_ade4f_row4_col0\" class=\"data row4 col0\" >Change Log</td>\n",
       "      <td id=\"T_ade4f_row4_col1\" class=\"data row4 col1\" > <a href=\"https://api.test.datacite.org/dois/10.83126/ukllc-dataset-00163-01/activities\" rel=\"noopener noreferrer\" target=\"_blank\">10.83126/ukllc-dataset-00163-01/activities</a></td>\n",
       "      <td id=\"T_ade4f_row4_col2\" class=\"data row4 col2\" > <a href=\"https://api.test.datacite.org/dois/10.83126/ukllc-dataset-00163-02/activities\" rel=\"noopener noreferrer\" target=\"_blank\">10.83126/ukllc-dataset-00163-02/activities</a></td>\n",
       "    </tr>\n",
       "  </tbody>\n",
       "</table>\n"
      ],
      "text/plain": [
       "<pandas.io.formats.style.Styler at 0x1ec82693fe0>"
      ]
     },
     "execution_count": 4,
     "metadata": {},
     "output_type": "execute_result"
    }
   ],
   "source": [
    "ds.version_history()"
   ]
  },
  {
   "cell_type": "markdown",
   "id": "ca192e0c",
   "metadata": {},
   "source": [
    "## 3. Documentation"
   ]
  },
  {
   "cell_type": "code",
   "execution_count": 5,
   "id": "0a560ba0",
   "metadata": {
    "execution": {
     "iopub.execute_input": "2025-07-17T15:11:15.110008Z",
     "iopub.status.busy": "2025-07-17T15:11:15.110008Z",
     "iopub.status.idle": "2025-07-17T15:11:15.121903Z",
     "shell.execute_reply": "2025-07-17T15:11:15.120894Z"
    },
    "tags": [
     "remove-input"
    ]
   },
   "outputs": [
    {
     "data": {
      "text/markdown": [
       "We are currently building a documentation storage system which will host useful documents related to datasets and data owners. We will surface these documents on Guidebook."
      ],
      "text/plain": [
       "<IPython.core.display.Markdown object>"
      ]
     },
     "metadata": {},
     "output_type": "display_data"
    }
   ],
   "source": [
    "ds.documentation()"
   ]
  },
  {
   "cell_type": "markdown",
   "id": "4be16729",
   "metadata": {},
   "source": [
    "## 4. Useful Syntax"
   ]
  },
  {
   "cell_type": "code",
   "execution_count": 6,
   "id": "71c08eeb",
   "metadata": {
    "execution": {
     "iopub.execute_input": "2025-07-17T15:11:15.128906Z",
     "iopub.status.busy": "2025-07-17T15:11:15.128906Z",
     "iopub.status.idle": "2025-07-17T15:11:15.140042Z",
     "shell.execute_reply": "2025-07-17T15:11:15.138026Z"
    },
    "tags": [
     "remove-input"
    ]
   },
   "outputs": [
    {
     "data": {
      "text/markdown": [
       "Below we will include syntax that may be helpful to other researchers in the UK LLC TRE. For longer scripts, we will include a snippet of the code plus a link to Git where you can find the full scripts."
      ],
      "text/plain": [
       "<IPython.core.display.Markdown object>"
      ]
     },
     "metadata": {},
     "output_type": "display_data"
    }
   ],
   "source": [
    "ds.useful_syntax()"
   ]
  }
 ],
 "metadata": {
  "language_info": {
   "codemirror_mode": {
    "name": "ipython",
    "version": 3
   },
   "file_extension": ".py",
   "mimetype": "text/x-python",
   "name": "python",
   "nbconvert_exporter": "python",
   "pygments_lexer": "ipython3",
   "version": "3.12.7"
  }
 },
 "nbformat": 4,
 "nbformat_minor": 5
}
