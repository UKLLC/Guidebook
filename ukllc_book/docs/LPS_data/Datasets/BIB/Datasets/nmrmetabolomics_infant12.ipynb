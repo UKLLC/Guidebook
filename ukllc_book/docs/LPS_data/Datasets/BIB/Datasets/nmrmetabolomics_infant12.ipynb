{
 "cells": [
  {
   "cell_type": "markdown",
   "id": "c0ec865a",
   "metadata": {},
   "source": [
    "# NMR Metabolomics Infant 12 (BIB)"
   ]
  },
  {
   "cell_type": "code",
   "execution_count": 1,
   "id": "1fe3708d",
   "metadata": {
    "execution": {
     "iopub.execute_input": "2025-07-28T18:06:20.776678Z",
     "iopub.status.busy": "2025-07-28T18:06:20.776678Z",
     "iopub.status.idle": "2025-07-28T18:06:33.112290Z",
     "shell.execute_reply": "2025-07-28T18:06:33.111283Z"
    },
    "tags": [
     "remove-input"
    ]
   },
   "outputs": [
    {
     "data": {
      "text/markdown": [
       ">Last modified: 28 Jul 2025"
      ],
      "text/plain": [
       "<IPython.core.display.Markdown object>"
      ]
     },
     "metadata": {},
     "output_type": "display_data"
    }
   ],
   "source": [
    "\n",
    "import sys\n",
    "import os\n",
    "sys.path.append(os.path.abspath('../../../../scripts/'))\n",
    "from data_doc_helper import LPSDataSet as DS, last_modified\n",
    "API_KEY = os.environ['FASTAPI_KEY']\n",
    "ds = DS(\"BIB\", \"nmrmetabolomics_infant12\")\n",
    "last_modified()\n"
   ]
  },
  {
   "cell_type": "markdown",
   "id": "3434ea67",
   "metadata": {},
   "source": [
    "## 1. Summary"
   ]
  },
  {
   "cell_type": "code",
   "execution_count": 2,
   "id": "eb246a8a",
   "metadata": {
    "execution": {
     "iopub.execute_input": "2025-07-28T18:06:33.116533Z",
     "iopub.status.busy": "2025-07-28T18:06:33.116533Z",
     "iopub.status.idle": "2025-07-28T18:06:33.122035Z",
     "shell.execute_reply": "2025-07-28T18:06:33.121529Z"
    },
    "tags": [
     "remove-input"
    ]
   },
   "outputs": [
    {
     "data": {
      "text/markdown": [
       "Nuclear magnetic resonance metabolomics (Nightingale) with 228 markers from infant bloods collected at the 12m wave."
      ],
      "text/plain": [
       "<IPython.core.display.Markdown object>"
      ]
     },
     "metadata": {},
     "output_type": "display_data"
    }
   ],
   "source": [
    "ds.summary()"
   ]
  },
  {
   "cell_type": "code",
   "execution_count": 3,
   "id": "ed0284f9",
   "metadata": {
    "execution": {
     "iopub.execute_input": "2025-07-28T18:06:33.125040Z",
     "iopub.status.busy": "2025-07-28T18:06:33.125040Z",
     "iopub.status.idle": "2025-07-28T18:06:34.403431Z",
     "shell.execute_reply": "2025-07-28T18:06:34.403047Z"
    },
    "tags": [
     "remove-input"
    ]
   },
   "outputs": [
    {
     "data": {
      "text/html": [
       "<style type=\"text/css\">\n",
       "#T_1eb13 th {\n",
       "  text-align: left;\n",
       "}\n",
       "#T_1eb13_row0_col0, #T_1eb13_row0_col1, #T_1eb13_row1_col0, #T_1eb13_row1_col1, #T_1eb13_row2_col0, #T_1eb13_row2_col1, #T_1eb13_row3_col0, #T_1eb13_row3_col1, #T_1eb13_row4_col0, #T_1eb13_row4_col1, #T_1eb13_row5_col0, #T_1eb13_row5_col1, #T_1eb13_row6_col0, #T_1eb13_row6_col1, #T_1eb13_row7_col0, #T_1eb13_row7_col1, #T_1eb13_row8_col0, #T_1eb13_row8_col1, #T_1eb13_row9_col0, #T_1eb13_row9_col1, #T_1eb13_row10_col0, #T_1eb13_row10_col1, #T_1eb13_row11_col0, #T_1eb13_row11_col1, #T_1eb13_row12_col0, #T_1eb13_row12_col1 {\n",
       "  text-align: left;\n",
       "}\n",
       "</style>\n",
       "<table id=\"T_1eb13\" style=\"font-size: 14px\">\n",
       "  <thead>\n",
       "    <tr>\n",
       "      <th id=\"T_1eb13_level0_col0\" class=\"col_heading level0 col0\" >Dataset Descriptor</th>\n",
       "      <th id=\"T_1eb13_level0_col1\" class=\"col_heading level0 col1\" >Dataset-specific Information</th>\n",
       "    </tr>\n",
       "  </thead>\n",
       "  <tbody>\n",
       "    <tr>\n",
       "      <td id=\"T_1eb13_row0_col0\" class=\"data row0 col0\" >Name of Dataset in TRE</td>\n",
       "      <td id=\"T_1eb13_row0_col1\" class=\"data row0 col1\" >BIB_nmrmetabolomics_infant12</td>\n",
       "    </tr>\n",
       "    <tr>\n",
       "      <td id=\"T_1eb13_row1_col0\" class=\"data row1 col0\" >Citation (APA)</td>\n",
       "      <td id=\"T_1eb13_row1_col1\" class=\"data row1 col1\" >Bradford Institute for Health Research, Bradford Teaching Hospitals NHS Foundation Trust. (2022). <i>Born in Bradford (BiB): NMR Metabolomics Infant 12.</i> UK Longitudinal Linkage Collaboration (UK LLC).  <a href=\"https://doi.org/10.71760/ukllc-dataset-00083-02\" rel=\"noopener noreferrer\" target=\"_blank\">https://doi.org/10.71760/ukllc-dataset-00083-02</a></td>\n",
       "    </tr>\n",
       "    <tr>\n",
       "      <td id=\"T_1eb13_row2_col0\" class=\"data row2 col0\" >Download Citation</td>\n",
       "      <td id=\"T_1eb13_row2_col1\" class=\"data row2 col1\" > <a href=\"https://api.datacite.org/application/vnd.citationstyles.csl+json/10.71760/ukllc-dataset-00083-02\" rel=\"noopener noreferrer\" target=\"_blank\">Citeproc JSON</a>&nbsp;&nbsp;&nbsp;&nbsp; <a href=\"https://api.datacite.org/application/x-bibtex/10.71760/ukllc-dataset-00083-02\" rel=\"noopener noreferrer\" target=\"_blank\">BibTeX</a>&nbsp;&nbsp;&nbsp;&nbsp; <a href=\"https://api.datacite.org/application/x-research-info-systems/10.71760/ukllc-dataset-00083-02\" rel=\"noopener noreferrer\" target=\"_blank\">RIS</a></td>\n",
       "    </tr>\n",
       "    <tr>\n",
       "      <td id=\"T_1eb13_row3_col0\" class=\"data row3 col0\" >Series</td>\n",
       "      <td id=\"T_1eb13_row3_col1\" class=\"data row3 col1\" > <a href=\"https://guidebook.ukllc.ac.uk/docs/lps_data/lps%20profiles/BIB\">Born in Bradford (BiB)</a></td>\n",
       "    </tr>\n",
       "    <tr>\n",
       "      <td id=\"T_1eb13_row4_col0\" class=\"data row4 col0\" >Owner</td>\n",
       "      <td id=\"T_1eb13_row4_col1\" class=\"data row4 col1\" >Bradford Teaching Hospitals NHS Foundation Trust</td>\n",
       "    </tr>\n",
       "    <tr>\n",
       "      <td id=\"T_1eb13_row5_col0\" class=\"data row5 col0\" >Temporal Coverage</td>\n",
       "      <td id=\"T_1eb13_row5_col1\" class=\"data row5 col1\" >03/2009 - 07/2012</td>\n",
       "    </tr>\n",
       "    <tr>\n",
       "      <td id=\"T_1eb13_row6_col0\" class=\"data row6 col0\" >Keywords</td>\n",
       "      <td id=\"T_1eb13_row6_col1\" class=\"data row6 col1\" ></td>\n",
       "    </tr>\n",
       "    <tr>\n",
       "      <td id=\"T_1eb13_row7_col0\" class=\"data row7 col0\" >Participants Invited</td>\n",
       "      <td id=\"T_1eb13_row7_col1\" class=\"data row7 col1\" >28591</td>\n",
       "    </tr>\n",
       "    <tr>\n",
       "      <td id=\"T_1eb13_row8_col0\" class=\"data row8 col0\" >Participant Count</td>\n",
       "      <td id=\"T_1eb13_row8_col1\" class=\"data row8 col1\" >1663</td>\n",
       "    </tr>\n",
       "    <tr>\n",
       "      <td id=\"T_1eb13_row9_col0\" class=\"data row9 col0\" >Number of variables</td>\n",
       "      <td id=\"T_1eb13_row9_col1\" class=\"data row9 col1\" >258</td>\n",
       "    </tr>\n",
       "    <tr>\n",
       "      <td id=\"T_1eb13_row10_col0\" class=\"data row10 col0\" >Number of observations</td>\n",
       "      <td id=\"T_1eb13_row10_col1\" class=\"data row10 col1\" >28591</td>\n",
       "    </tr>\n",
       "    <tr>\n",
       "      <td id=\"T_1eb13_row11_col0\" class=\"data row11 col0\" >Specific Restrictions to Data Use</td>\n",
       "      <td id=\"T_1eb13_row11_col1\" class=\"data row11 col1\" >None</td>\n",
       "    </tr>\n",
       "    <tr>\n",
       "      <td id=\"T_1eb13_row12_col0\" class=\"data row12 col0\" >Build a Data Request</td>\n",
       "      <td id=\"T_1eb13_row12_col1\" class=\"data row12 col1\" > <a href=\"https://explore.ukllc.ac.uk/\" rel=\"noopener noreferrer\" target=\"_blank\">https://explore.ukllc.ac.uk/</a></td>\n",
       "    </tr>\n",
       "  </tbody>\n",
       "</table>\n"
      ],
      "text/plain": [
       "<pandas.io.formats.style.Styler at 0x25c49f32c00>"
      ]
     },
     "execution_count": 3,
     "metadata": {},
     "output_type": "execute_result"
    }
   ],
   "source": [
    "ds.info_table()"
   ]
  },
  {
   "cell_type": "markdown",
   "id": "c598e9ba",
   "metadata": {},
   "source": [
    "## 2. Version History"
   ]
  },
  {
   "cell_type": "code",
   "execution_count": 4,
   "id": "40fab807",
   "metadata": {
    "execution": {
     "iopub.execute_input": "2025-07-28T18:06:34.408451Z",
     "iopub.status.busy": "2025-07-28T18:06:34.408451Z",
     "iopub.status.idle": "2025-07-28T18:06:39.774054Z",
     "shell.execute_reply": "2025-07-28T18:06:39.773048Z"
    },
    "tags": [
     "remove-input"
    ]
   },
   "outputs": [
    {
     "data": {
      "text/html": [
       "<style type=\"text/css\">\n",
       "#T_b8601 th {\n",
       "  text-align: left;\n",
       "}\n",
       "#T_b8601_row0_col0, #T_b8601_row0_col1, #T_b8601_row0_col2, #T_b8601_row1_col0, #T_b8601_row1_col1, #T_b8601_row1_col2, #T_b8601_row2_col0, #T_b8601_row2_col1, #T_b8601_row2_col2, #T_b8601_row3_col0, #T_b8601_row3_col1, #T_b8601_row3_col2, #T_b8601_row4_col0, #T_b8601_row4_col1, #T_b8601_row4_col2 {\n",
       "  text-align: left;\n",
       "}\n",
       "</style>\n",
       "<table id=\"T_b8601\" style=\"font-size: 14px\">\n",
       "  <thead>\n",
       "    <tr>\n",
       "      <th id=\"T_b8601_level0_col0\" class=\"col_heading level0 col0\" >Version</th>\n",
       "      <th id=\"T_b8601_level0_col1\" class=\"col_heading level0 col1\" >1</th>\n",
       "      <th id=\"T_b8601_level0_col2\" class=\"col_heading level0 col2\" >2</th>\n",
       "    </tr>\n",
       "  </thead>\n",
       "  <tbody>\n",
       "    <tr>\n",
       "      <td id=\"T_b8601_row0_col0\" class=\"data row0 col0\" >Version Date</td>\n",
       "      <td id=\"T_b8601_row0_col1\" class=\"data row0 col1\" >10 Aug 2022</td>\n",
       "      <td id=\"T_b8601_row0_col2\" class=\"data row0 col2\" >22 Nov 2022</td>\n",
       "    </tr>\n",
       "    <tr>\n",
       "      <td id=\"T_b8601_row1_col0\" class=\"data row1 col0\" >Number of Variables</td>\n",
       "      <td id=\"T_b8601_row1_col1\" class=\"data row1 col1\" >258</td>\n",
       "      <td id=\"T_b8601_row1_col2\" class=\"data row1 col2\" >256</td>\n",
       "    </tr>\n",
       "    <tr>\n",
       "      <td id=\"T_b8601_row2_col0\" class=\"data row2 col0\" >Number of Observations</td>\n",
       "      <td id=\"T_b8601_row2_col1\" class=\"data row2 col1\" >28591</td>\n",
       "      <td id=\"T_b8601_row2_col2\" class=\"data row2 col2\" >28591</td>\n",
       "    </tr>\n",
       "    <tr>\n",
       "      <td id=\"T_b8601_row3_col0\" class=\"data row3 col0\" >DOI</td>\n",
       "      <td id=\"T_b8601_row3_col1\" class=\"data row3 col1\" > <a href=\"https://doi.org/10.71760/ukllc-dataset-00083-01\" rel=\"noopener noreferrer\" target=\"_blank\">10.71760/ukllc-dataset-00083-01</a></td>\n",
       "      <td id=\"T_b8601_row3_col2\" class=\"data row3 col2\" > <a href=\"https://doi.org/10.71760/ukllc-dataset-00083-02\" rel=\"noopener noreferrer\" target=\"_blank\">10.71760/ukllc-dataset-00083-02</a></td>\n",
       "    </tr>\n",
       "    <tr>\n",
       "      <td id=\"T_b8601_row4_col0\" class=\"data row4 col0\" >Change Log</td>\n",
       "      <td id=\"T_b8601_row4_col1\" class=\"data row4 col1\" > <a href=\"https://api.test.datacite.org/dois/10.71760/ukllc-dataset-00083-01/activities\" rel=\"noopener noreferrer\" target=\"_blank\">10.71760/ukllc-dataset-00083-01/activities</a></td>\n",
       "      <td id=\"T_b8601_row4_col2\" class=\"data row4 col2\" > <a href=\"https://api.test.datacite.org/dois/10.71760/ukllc-dataset-00083-02/activities\" rel=\"noopener noreferrer\" target=\"_blank\">10.71760/ukllc-dataset-00083-02/activities</a></td>\n",
       "    </tr>\n",
       "  </tbody>\n",
       "</table>\n"
      ],
      "text/plain": [
       "<pandas.io.formats.style.Styler at 0x25c4fc7bdd0>"
      ]
     },
     "execution_count": 4,
     "metadata": {},
     "output_type": "execute_result"
    }
   ],
   "source": [
    "ds.version_history()"
   ]
  },
  {
   "cell_type": "markdown",
   "id": "97cf70ab",
   "metadata": {},
   "source": [
    "## 3. Documentation"
   ]
  },
  {
   "cell_type": "code",
   "execution_count": 5,
   "id": "e7ce8c08",
   "metadata": {
    "execution": {
     "iopub.execute_input": "2025-07-28T18:06:39.780055Z",
     "iopub.status.busy": "2025-07-28T18:06:39.780055Z",
     "iopub.status.idle": "2025-07-28T18:06:39.790401Z",
     "shell.execute_reply": "2025-07-28T18:06:39.788394Z"
    },
    "tags": [
     "remove-input"
    ]
   },
   "outputs": [
    {
     "data": {
      "text/markdown": [
       "We are currently building a documentation storage system which will host useful documents related to datasets and data owners. We will surface these documents on Guidebook."
      ],
      "text/plain": [
       "<IPython.core.display.Markdown object>"
      ]
     },
     "metadata": {},
     "output_type": "display_data"
    }
   ],
   "source": [
    "ds.documentation()"
   ]
  },
  {
   "cell_type": "markdown",
   "id": "a9f83c31",
   "metadata": {},
   "source": [
    "## 4. Useful Syntax"
   ]
  },
  {
   "cell_type": "code",
   "execution_count": 6,
   "id": "71576fb7",
   "metadata": {
    "execution": {
     "iopub.execute_input": "2025-07-28T18:06:39.798401Z",
     "iopub.status.busy": "2025-07-28T18:06:39.798401Z",
     "iopub.status.idle": "2025-07-28T18:06:39.805911Z",
     "shell.execute_reply": "2025-07-28T18:06:39.805401Z"
    },
    "tags": [
     "remove-input"
    ]
   },
   "outputs": [
    {
     "data": {
      "text/markdown": [
       "Below we will include syntax that may be helpful to other researchers in the UK LLC TRE. For longer scripts, we will include a snippet of the code plus a link to Git where you can find the full scripts."
      ],
      "text/plain": [
       "<IPython.core.display.Markdown object>"
      ]
     },
     "metadata": {},
     "output_type": "display_data"
    }
   ],
   "source": [
    "ds.useful_syntax()"
   ]
  }
 ],
 "metadata": {
  "language_info": {
   "codemirror_mode": {
    "name": "ipython",
    "version": 3
   },
   "file_extension": ".py",
   "mimetype": "text/x-python",
   "name": "python",
   "nbconvert_exporter": "python",
   "pygments_lexer": "ipython3",
   "version": "3.12.7"
  }
 },
 "nbformat": 4,
 "nbformat_minor": 5
}
