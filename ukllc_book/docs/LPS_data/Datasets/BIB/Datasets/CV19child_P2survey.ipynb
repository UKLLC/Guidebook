{
 "cells": [
  {
   "cell_type": "markdown",
   "id": "2a6745bd",
   "metadata": {},
   "source": [
    "# COVID-19 Child Phase 2 Survey (BIB)"
   ]
  },
  {
   "cell_type": "code",
   "execution_count": 1,
   "id": "63a8bfd2",
   "metadata": {
    "execution": {
     "iopub.execute_input": "2025-07-28T18:04:08.982485Z",
     "iopub.status.busy": "2025-07-28T18:04:08.982485Z",
     "iopub.status.idle": "2025-07-28T18:04:21.360694Z",
     "shell.execute_reply": "2025-07-28T18:04:21.359682Z"
    },
    "tags": [
     "remove-input"
    ]
   },
   "outputs": [
    {
     "data": {
      "text/markdown": [
       ">Last modified: 28 Jul 2025"
      ],
      "text/plain": [
       "<IPython.core.display.Markdown object>"
      ]
     },
     "metadata": {},
     "output_type": "display_data"
    }
   ],
   "source": [
    "\n",
    "import sys\n",
    "import os\n",
    "sys.path.append(os.path.abspath('../../../../scripts/'))\n",
    "from data_doc_helper import LPSDataSet as DS, last_modified\n",
    "API_KEY = os.environ['FASTAPI_KEY']\n",
    "ds = DS(\"BIB\", \"CV19child_P2survey\")\n",
    "last_modified()\n"
   ]
  },
  {
   "cell_type": "markdown",
   "id": "88861e33",
   "metadata": {},
   "source": [
    "## 1. Summary"
   ]
  },
  {
   "cell_type": "code",
   "execution_count": 2,
   "id": "da3409f6",
   "metadata": {
    "execution": {
     "iopub.execute_input": "2025-07-28T18:04:21.365716Z",
     "iopub.status.busy": "2025-07-28T18:04:21.364691Z",
     "iopub.status.idle": "2025-07-28T18:04:21.370015Z",
     "shell.execute_reply": "2025-07-28T18:04:21.370015Z"
    },
    "tags": [
     "remove-input"
    ]
   },
   "outputs": [
    {
     "data": {
      "text/markdown": [
       "A follow up to the Covid 19 Phase 1 survey conducted at the start of the national lockdown. The Covid Phase 2 survey was conducted 6-9 months after the first national lockdown."
      ],
      "text/plain": [
       "<IPython.core.display.Markdown object>"
      ]
     },
     "metadata": {},
     "output_type": "display_data"
    }
   ],
   "source": [
    "ds.summary()"
   ]
  },
  {
   "cell_type": "code",
   "execution_count": 3,
   "id": "43ad85a9",
   "metadata": {
    "execution": {
     "iopub.execute_input": "2025-07-28T18:04:21.374025Z",
     "iopub.status.busy": "2025-07-28T18:04:21.374025Z",
     "iopub.status.idle": "2025-07-28T18:04:22.446645Z",
     "shell.execute_reply": "2025-07-28T18:04:22.445643Z"
    },
    "tags": [
     "remove-input"
    ]
   },
   "outputs": [
    {
     "data": {
      "text/html": [
       "<style type=\"text/css\">\n",
       "#T_6fe03 th {\n",
       "  text-align: left;\n",
       "}\n",
       "#T_6fe03_row0_col0, #T_6fe03_row0_col1, #T_6fe03_row1_col0, #T_6fe03_row1_col1, #T_6fe03_row2_col0, #T_6fe03_row2_col1, #T_6fe03_row3_col0, #T_6fe03_row3_col1, #T_6fe03_row4_col0, #T_6fe03_row4_col1, #T_6fe03_row5_col0, #T_6fe03_row5_col1, #T_6fe03_row6_col0, #T_6fe03_row6_col1, #T_6fe03_row7_col0, #T_6fe03_row7_col1, #T_6fe03_row8_col0, #T_6fe03_row8_col1, #T_6fe03_row9_col0, #T_6fe03_row9_col1, #T_6fe03_row10_col0, #T_6fe03_row10_col1, #T_6fe03_row11_col0, #T_6fe03_row11_col1, #T_6fe03_row12_col0, #T_6fe03_row12_col1 {\n",
       "  text-align: left;\n",
       "}\n",
       "</style>\n",
       "<table id=\"T_6fe03\" style=\"font-size: 14px\">\n",
       "  <thead>\n",
       "    <tr>\n",
       "      <th id=\"T_6fe03_level0_col0\" class=\"col_heading level0 col0\" >Dataset Descriptor</th>\n",
       "      <th id=\"T_6fe03_level0_col1\" class=\"col_heading level0 col1\" >Dataset-specific Information</th>\n",
       "    </tr>\n",
       "  </thead>\n",
       "  <tbody>\n",
       "    <tr>\n",
       "      <td id=\"T_6fe03_row0_col0\" class=\"data row0 col0\" >Name of Dataset in TRE</td>\n",
       "      <td id=\"T_6fe03_row0_col1\" class=\"data row0 col1\" >BIB_CV19child_P2survey</td>\n",
       "    </tr>\n",
       "    <tr>\n",
       "      <td id=\"T_6fe03_row1_col0\" class=\"data row1 col0\" >Citation (APA)</td>\n",
       "      <td id=\"T_6fe03_row1_col1\" class=\"data row1 col1\" >Bradford Institute for Health Research, Bradford Teaching Hospitals NHS Foundation Trust. (2022). <i>Born in Bradford (BiB): COVID-19 Child Phase 2 Survey.</i> UK Longitudinal Linkage Collaboration (UK LLC).  <a href=\"https://doi.org/10.71760/ukllc-dataset-00076-01\" rel=\"noopener noreferrer\" target=\"_blank\">https://doi.org/10.71760/ukllc-dataset-00076-01</a></td>\n",
       "    </tr>\n",
       "    <tr>\n",
       "      <td id=\"T_6fe03_row2_col0\" class=\"data row2 col0\" >Download Citation</td>\n",
       "      <td id=\"T_6fe03_row2_col1\" class=\"data row2 col1\" > <a href=\"https://api.datacite.org/application/vnd.citationstyles.csl+json/10.71760/ukllc-dataset-00076-01\" rel=\"noopener noreferrer\" target=\"_blank\">Citeproc JSON</a>&nbsp;&nbsp;&nbsp;&nbsp; <a href=\"https://api.datacite.org/application/x-bibtex/10.71760/ukllc-dataset-00076-01\" rel=\"noopener noreferrer\" target=\"_blank\">BibTeX</a>&nbsp;&nbsp;&nbsp;&nbsp; <a href=\"https://api.datacite.org/application/x-research-info-systems/10.71760/ukllc-dataset-00076-01\" rel=\"noopener noreferrer\" target=\"_blank\">RIS</a></td>\n",
       "    </tr>\n",
       "    <tr>\n",
       "      <td id=\"T_6fe03_row3_col0\" class=\"data row3 col0\" >Series</td>\n",
       "      <td id=\"T_6fe03_row3_col1\" class=\"data row3 col1\" > <a href=\"https://guidebook.ukllc.ac.uk/docs/lps_data/lps%20profiles/BIB\">Born in Bradford (BiB)</a></td>\n",
       "    </tr>\n",
       "    <tr>\n",
       "      <td id=\"T_6fe03_row4_col0\" class=\"data row4 col0\" >Owner</td>\n",
       "      <td id=\"T_6fe03_row4_col1\" class=\"data row4 col1\" >Bradford Teaching Hospitals NHS Foundation Trust</td>\n",
       "    </tr>\n",
       "    <tr>\n",
       "      <td id=\"T_6fe03_row5_col0\" class=\"data row5 col0\" >Temporal Coverage</td>\n",
       "      <td id=\"T_6fe03_row5_col1\" class=\"data row5 col1\" >10/2020 - 12/2020</td>\n",
       "    </tr>\n",
       "    <tr>\n",
       "      <td id=\"T_6fe03_row6_col0\" class=\"data row6 col0\" >Keywords</td>\n",
       "      <td id=\"T_6fe03_row6_col1\" class=\"data row6 col1\" ></td>\n",
       "    </tr>\n",
       "    <tr>\n",
       "      <td id=\"T_6fe03_row7_col0\" class=\"data row7 col0\" >Participants Invited</td>\n",
       "      <td id=\"T_6fe03_row7_col1\" class=\"data row7 col1\" >28591</td>\n",
       "    </tr>\n",
       "    <tr>\n",
       "      <td id=\"T_6fe03_row8_col0\" class=\"data row8 col0\" >Participant Count</td>\n",
       "      <td id=\"T_6fe03_row8_col1\" class=\"data row8 col1\" >633</td>\n",
       "    </tr>\n",
       "    <tr>\n",
       "      <td id=\"T_6fe03_row9_col0\" class=\"data row9 col0\" >Number of variables</td>\n",
       "      <td id=\"T_6fe03_row9_col1\" class=\"data row9 col1\" >101</td>\n",
       "    </tr>\n",
       "    <tr>\n",
       "      <td id=\"T_6fe03_row10_col0\" class=\"data row10 col0\" >Number of observations</td>\n",
       "      <td id=\"T_6fe03_row10_col1\" class=\"data row10 col1\" >28591</td>\n",
       "    </tr>\n",
       "    <tr>\n",
       "      <td id=\"T_6fe03_row11_col0\" class=\"data row11 col0\" >Specific Restrictions to Data Use</td>\n",
       "      <td id=\"T_6fe03_row11_col1\" class=\"data row11 col1\" >None</td>\n",
       "    </tr>\n",
       "    <tr>\n",
       "      <td id=\"T_6fe03_row12_col0\" class=\"data row12 col0\" >Build a Data Request</td>\n",
       "      <td id=\"T_6fe03_row12_col1\" class=\"data row12 col1\" > <a href=\"https://explore.ukllc.ac.uk/\" rel=\"noopener noreferrer\" target=\"_blank\">https://explore.ukllc.ac.uk/</a></td>\n",
       "    </tr>\n",
       "  </tbody>\n",
       "</table>\n"
      ],
      "text/plain": [
       "<pandas.io.formats.style.Styler at 0x1fdfe9b7110>"
      ]
     },
     "execution_count": 3,
     "metadata": {},
     "output_type": "execute_result"
    }
   ],
   "source": [
    "ds.info_table()"
   ]
  },
  {
   "cell_type": "markdown",
   "id": "68e34ea4",
   "metadata": {},
   "source": [
    "## 2. Version History"
   ]
  },
  {
   "cell_type": "code",
   "execution_count": 4,
   "id": "e9939e54",
   "metadata": {
    "execution": {
     "iopub.execute_input": "2025-07-28T18:04:22.454155Z",
     "iopub.status.busy": "2025-07-28T18:04:22.454155Z",
     "iopub.status.idle": "2025-07-28T18:04:27.781294Z",
     "shell.execute_reply": "2025-07-28T18:04:27.780301Z"
    },
    "tags": [
     "remove-input"
    ]
   },
   "outputs": [
    {
     "data": {
      "text/html": [
       "<style type=\"text/css\">\n",
       "#T_1fad4 th {\n",
       "  text-align: left;\n",
       "}\n",
       "#T_1fad4_row0_col0, #T_1fad4_row0_col1, #T_1fad4_row1_col0, #T_1fad4_row1_col1, #T_1fad4_row2_col0, #T_1fad4_row2_col1, #T_1fad4_row3_col0, #T_1fad4_row3_col1, #T_1fad4_row4_col0, #T_1fad4_row4_col1 {\n",
       "  text-align: left;\n",
       "}\n",
       "</style>\n",
       "<table id=\"T_1fad4\" style=\"font-size: 14px\">\n",
       "  <thead>\n",
       "    <tr>\n",
       "      <th id=\"T_1fad4_level0_col0\" class=\"col_heading level0 col0\" >Version</th>\n",
       "      <th id=\"T_1fad4_level0_col1\" class=\"col_heading level0 col1\" >1</th>\n",
       "    </tr>\n",
       "  </thead>\n",
       "  <tbody>\n",
       "    <tr>\n",
       "      <td id=\"T_1fad4_row0_col0\" class=\"data row0 col0\" >Version Date</td>\n",
       "      <td id=\"T_1fad4_row0_col1\" class=\"data row0 col1\" >31 May 2022</td>\n",
       "    </tr>\n",
       "    <tr>\n",
       "      <td id=\"T_1fad4_row1_col0\" class=\"data row1 col0\" >Number of Variables</td>\n",
       "      <td id=\"T_1fad4_row1_col1\" class=\"data row1 col1\" >101</td>\n",
       "    </tr>\n",
       "    <tr>\n",
       "      <td id=\"T_1fad4_row2_col0\" class=\"data row2 col0\" >Number of Observations</td>\n",
       "      <td id=\"T_1fad4_row2_col1\" class=\"data row2 col1\" >28591</td>\n",
       "    </tr>\n",
       "    <tr>\n",
       "      <td id=\"T_1fad4_row3_col0\" class=\"data row3 col0\" >DOI</td>\n",
       "      <td id=\"T_1fad4_row3_col1\" class=\"data row3 col1\" > <a href=\"https://doi.org/10.71760/ukllc-dataset-00076-01\" rel=\"noopener noreferrer\" target=\"_blank\">10.71760/ukllc-dataset-00076-01</a></td>\n",
       "    </tr>\n",
       "    <tr>\n",
       "      <td id=\"T_1fad4_row4_col0\" class=\"data row4 col0\" >Change Log</td>\n",
       "      <td id=\"T_1fad4_row4_col1\" class=\"data row4 col1\" > <a href=\"https://api.test.datacite.org/dois/10.71760/ukllc-dataset-00076-01/activities\" rel=\"noopener noreferrer\" target=\"_blank\">10.71760/ukllc-dataset-00076-01/activities</a></td>\n",
       "    </tr>\n",
       "  </tbody>\n",
       "</table>\n"
      ],
      "text/plain": [
       "<pandas.io.formats.style.Styler at 0x1fd80943e60>"
      ]
     },
     "execution_count": 4,
     "metadata": {},
     "output_type": "execute_result"
    }
   ],
   "source": [
    "ds.version_history()"
   ]
  },
  {
   "cell_type": "markdown",
   "id": "0afa88e3",
   "metadata": {},
   "source": [
    "## 3. Documentation"
   ]
  },
  {
   "cell_type": "code",
   "execution_count": 5,
   "id": "09c46de1",
   "metadata": {
    "execution": {
     "iopub.execute_input": "2025-07-28T18:04:27.788294Z",
     "iopub.status.busy": "2025-07-28T18:04:27.787294Z",
     "iopub.status.idle": "2025-07-28T18:04:27.797530Z",
     "shell.execute_reply": "2025-07-28T18:04:27.795523Z"
    },
    "tags": [
     "remove-input"
    ]
   },
   "outputs": [
    {
     "data": {
      "text/markdown": [
       "We are currently building a documentation storage system which will host useful documents related to datasets and data owners. We will surface these documents on Guidebook."
      ],
      "text/plain": [
       "<IPython.core.display.Markdown object>"
      ]
     },
     "metadata": {},
     "output_type": "display_data"
    }
   ],
   "source": [
    "ds.documentation()"
   ]
  },
  {
   "cell_type": "markdown",
   "id": "d2345723",
   "metadata": {},
   "source": [
    "## 4. Useful Syntax"
   ]
  },
  {
   "cell_type": "code",
   "execution_count": 6,
   "id": "f403824b",
   "metadata": {
    "execution": {
     "iopub.execute_input": "2025-07-28T18:04:27.803042Z",
     "iopub.status.busy": "2025-07-28T18:04:27.802043Z",
     "iopub.status.idle": "2025-07-28T18:04:27.812086Z",
     "shell.execute_reply": "2025-07-28T18:04:27.811081Z"
    },
    "tags": [
     "remove-input"
    ]
   },
   "outputs": [
    {
     "data": {
      "text/markdown": [
       "Below we will include syntax that may be helpful to other researchers in the UK LLC TRE. For longer scripts, we will include a snippet of the code plus a link to Git where you can find the full scripts."
      ],
      "text/plain": [
       "<IPython.core.display.Markdown object>"
      ]
     },
     "metadata": {},
     "output_type": "display_data"
    }
   ],
   "source": [
    "ds.useful_syntax()"
   ]
  }
 ],
 "metadata": {
  "language_info": {
   "codemirror_mode": {
    "name": "ipython",
    "version": 3
   },
   "file_extension": ".py",
   "mimetype": "text/x-python",
   "name": "python",
   "nbconvert_exporter": "python",
   "pygments_lexer": "ipython3",
   "version": "3.12.7"
  }
 },
 "nbformat": 4,
 "nbformat_minor": 5
}
