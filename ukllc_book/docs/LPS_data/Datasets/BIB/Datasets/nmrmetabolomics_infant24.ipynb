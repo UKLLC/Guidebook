{
 "cells": [
  {
   "cell_type": "markdown",
   "id": "5e6bbd63",
   "metadata": {},
   "source": [
    "# NMR Metabolomics Infant 24 (BIB)"
   ]
  },
  {
   "cell_type": "code",
   "execution_count": 1,
   "id": "ecca65fc",
   "metadata": {
    "execution": {
     "iopub.execute_input": "2025-07-28T18:06:45.205635Z",
     "iopub.status.busy": "2025-07-28T18:06:45.204630Z",
     "iopub.status.idle": "2025-07-28T18:06:57.622749Z",
     "shell.execute_reply": "2025-07-28T18:06:57.622749Z"
    },
    "tags": [
     "remove-input"
    ]
   },
   "outputs": [
    {
     "data": {
      "text/markdown": [
       ">Last modified: 28 Jul 2025"
      ],
      "text/plain": [
       "<IPython.core.display.Markdown object>"
      ]
     },
     "metadata": {},
     "output_type": "display_data"
    }
   ],
   "source": [
    "\n",
    "import sys\n",
    "import os\n",
    "sys.path.append(os.path.abspath('../../../../scripts/'))\n",
    "from data_doc_helper import LPSDataSet as DS, last_modified\n",
    "API_KEY = os.environ['FASTAPI_KEY']\n",
    "ds = DS(\"BIB\", \"nmrmetabolomics_infant24\")\n",
    "last_modified()\n"
   ]
  },
  {
   "cell_type": "markdown",
   "id": "bd879687",
   "metadata": {},
   "source": [
    "## 1. Summary"
   ]
  },
  {
   "cell_type": "code",
   "execution_count": 2,
   "id": "41d0643b",
   "metadata": {
    "execution": {
     "iopub.execute_input": "2025-07-28T18:06:57.627146Z",
     "iopub.status.busy": "2025-07-28T18:06:57.626146Z",
     "iopub.status.idle": "2025-07-28T18:06:57.637421Z",
     "shell.execute_reply": "2025-07-28T18:06:57.635413Z"
    },
    "tags": [
     "remove-input"
    ]
   },
   "outputs": [
    {
     "data": {
      "text/markdown": [
       "Nuclear magnetic resonance metabolomics (Nightingale) with 228 markers from infant bloods collected at the 12m wave."
      ],
      "text/plain": [
       "<IPython.core.display.Markdown object>"
      ]
     },
     "metadata": {},
     "output_type": "display_data"
    }
   ],
   "source": [
    "ds.summary()"
   ]
  },
  {
   "cell_type": "code",
   "execution_count": 3,
   "id": "6726bf27",
   "metadata": {
    "execution": {
     "iopub.execute_input": "2025-07-28T18:06:57.641424Z",
     "iopub.status.busy": "2025-07-28T18:06:57.641424Z",
     "iopub.status.idle": "2025-07-28T18:06:58.756162Z",
     "shell.execute_reply": "2025-07-28T18:06:58.755156Z"
    },
    "tags": [
     "remove-input"
    ]
   },
   "outputs": [
    {
     "data": {
      "text/html": [
       "<style type=\"text/css\">\n",
       "#T_71d69 th {\n",
       "  text-align: left;\n",
       "}\n",
       "#T_71d69_row0_col0, #T_71d69_row0_col1, #T_71d69_row1_col0, #T_71d69_row1_col1, #T_71d69_row2_col0, #T_71d69_row2_col1, #T_71d69_row3_col0, #T_71d69_row3_col1, #T_71d69_row4_col0, #T_71d69_row4_col1, #T_71d69_row5_col0, #T_71d69_row5_col1, #T_71d69_row6_col0, #T_71d69_row6_col1, #T_71d69_row7_col0, #T_71d69_row7_col1, #T_71d69_row8_col0, #T_71d69_row8_col1, #T_71d69_row9_col0, #T_71d69_row9_col1, #T_71d69_row10_col0, #T_71d69_row10_col1, #T_71d69_row11_col0, #T_71d69_row11_col1, #T_71d69_row12_col0, #T_71d69_row12_col1 {\n",
       "  text-align: left;\n",
       "}\n",
       "</style>\n",
       "<table id=\"T_71d69\" style=\"font-size: 14px\">\n",
       "  <thead>\n",
       "    <tr>\n",
       "      <th id=\"T_71d69_level0_col0\" class=\"col_heading level0 col0\" >Dataset Descriptor</th>\n",
       "      <th id=\"T_71d69_level0_col1\" class=\"col_heading level0 col1\" >Dataset-specific Information</th>\n",
       "    </tr>\n",
       "  </thead>\n",
       "  <tbody>\n",
       "    <tr>\n",
       "      <td id=\"T_71d69_row0_col0\" class=\"data row0 col0\" >Name of Dataset in TRE</td>\n",
       "      <td id=\"T_71d69_row0_col1\" class=\"data row0 col1\" >BIB_nmrmetabolomics_infant24</td>\n",
       "    </tr>\n",
       "    <tr>\n",
       "      <td id=\"T_71d69_row1_col0\" class=\"data row1 col0\" >Citation (APA)</td>\n",
       "      <td id=\"T_71d69_row1_col1\" class=\"data row1 col1\" >Bradford Institute for Health Research, Bradford Teaching Hospitals NHS Foundation Trust. (2022). <i>Born in Bradford (BiB): NMR Metabolomics Infant 24.</i> UK Longitudinal Linkage Collaboration (UK LLC).  <a href=\"https://doi.org/10.71760/ukllc-dataset-00084-02\" rel=\"noopener noreferrer\" target=\"_blank\">https://doi.org/10.71760/ukllc-dataset-00084-02</a></td>\n",
       "    </tr>\n",
       "    <tr>\n",
       "      <td id=\"T_71d69_row2_col0\" class=\"data row2 col0\" >Download Citation</td>\n",
       "      <td id=\"T_71d69_row2_col1\" class=\"data row2 col1\" > <a href=\"https://api.datacite.org/application/vnd.citationstyles.csl+json/10.71760/ukllc-dataset-00084-02\" rel=\"noopener noreferrer\" target=\"_blank\">Citeproc JSON</a>&nbsp;&nbsp;&nbsp;&nbsp; <a href=\"https://api.datacite.org/application/x-bibtex/10.71760/ukllc-dataset-00084-02\" rel=\"noopener noreferrer\" target=\"_blank\">BibTeX</a>&nbsp;&nbsp;&nbsp;&nbsp; <a href=\"https://api.datacite.org/application/x-research-info-systems/10.71760/ukllc-dataset-00084-02\" rel=\"noopener noreferrer\" target=\"_blank\">RIS</a></td>\n",
       "    </tr>\n",
       "    <tr>\n",
       "      <td id=\"T_71d69_row3_col0\" class=\"data row3 col0\" >Series</td>\n",
       "      <td id=\"T_71d69_row3_col1\" class=\"data row3 col1\" > <a href=\"https://guidebook.ukllc.ac.uk/docs/lps_data/lps%20profiles/BIB\">Born in Bradford (BiB)</a></td>\n",
       "    </tr>\n",
       "    <tr>\n",
       "      <td id=\"T_71d69_row4_col0\" class=\"data row4 col0\" >Owner</td>\n",
       "      <td id=\"T_71d69_row4_col1\" class=\"data row4 col1\" >Bradford Teaching Hospitals NHS Foundation Trust</td>\n",
       "    </tr>\n",
       "    <tr>\n",
       "      <td id=\"T_71d69_row5_col0\" class=\"data row5 col0\" >Temporal Coverage</td>\n",
       "      <td id=\"T_71d69_row5_col1\" class=\"data row5 col1\" >03/2009 - 07/2012</td>\n",
       "    </tr>\n",
       "    <tr>\n",
       "      <td id=\"T_71d69_row6_col0\" class=\"data row6 col0\" >Keywords</td>\n",
       "      <td id=\"T_71d69_row6_col1\" class=\"data row6 col1\" ></td>\n",
       "    </tr>\n",
       "    <tr>\n",
       "      <td id=\"T_71d69_row7_col0\" class=\"data row7 col0\" >Participants Invited</td>\n",
       "      <td id=\"T_71d69_row7_col1\" class=\"data row7 col1\" >28591</td>\n",
       "    </tr>\n",
       "    <tr>\n",
       "      <td id=\"T_71d69_row8_col0\" class=\"data row8 col0\" >Participant Count</td>\n",
       "      <td id=\"T_71d69_row8_col1\" class=\"data row8 col1\" >1519</td>\n",
       "    </tr>\n",
       "    <tr>\n",
       "      <td id=\"T_71d69_row9_col0\" class=\"data row9 col0\" >Number of variables</td>\n",
       "      <td id=\"T_71d69_row9_col1\" class=\"data row9 col1\" >258</td>\n",
       "    </tr>\n",
       "    <tr>\n",
       "      <td id=\"T_71d69_row10_col0\" class=\"data row10 col0\" >Number of observations</td>\n",
       "      <td id=\"T_71d69_row10_col1\" class=\"data row10 col1\" >28591</td>\n",
       "    </tr>\n",
       "    <tr>\n",
       "      <td id=\"T_71d69_row11_col0\" class=\"data row11 col0\" >Specific Restrictions to Data Use</td>\n",
       "      <td id=\"T_71d69_row11_col1\" class=\"data row11 col1\" >None</td>\n",
       "    </tr>\n",
       "    <tr>\n",
       "      <td id=\"T_71d69_row12_col0\" class=\"data row12 col0\" >Build a Data Request</td>\n",
       "      <td id=\"T_71d69_row12_col1\" class=\"data row12 col1\" > <a href=\"https://explore.ukllc.ac.uk/\" rel=\"noopener noreferrer\" target=\"_blank\">https://explore.ukllc.ac.uk/</a></td>\n",
       "    </tr>\n",
       "  </tbody>\n",
       "</table>\n"
      ],
      "text/plain": [
       "<pandas.io.formats.style.Styler at 0x1c4f6959760>"
      ]
     },
     "execution_count": 3,
     "metadata": {},
     "output_type": "execute_result"
    }
   ],
   "source": [
    "ds.info_table()"
   ]
  },
  {
   "cell_type": "markdown",
   "id": "bffe1a05",
   "metadata": {},
   "source": [
    "## 2. Version History"
   ]
  },
  {
   "cell_type": "code",
   "execution_count": 4,
   "id": "11fe6d8c",
   "metadata": {
    "execution": {
     "iopub.execute_input": "2025-07-28T18:06:58.762163Z",
     "iopub.status.busy": "2025-07-28T18:06:58.761163Z",
     "iopub.status.idle": "2025-07-28T18:07:03.530792Z",
     "shell.execute_reply": "2025-07-28T18:07:03.529784Z"
    },
    "tags": [
     "remove-input"
    ]
   },
   "outputs": [
    {
     "data": {
      "text/html": [
       "<style type=\"text/css\">\n",
       "#T_757f1 th {\n",
       "  text-align: left;\n",
       "}\n",
       "#T_757f1_row0_col0, #T_757f1_row0_col1, #T_757f1_row0_col2, #T_757f1_row1_col0, #T_757f1_row1_col1, #T_757f1_row1_col2, #T_757f1_row2_col0, #T_757f1_row2_col1, #T_757f1_row2_col2, #T_757f1_row3_col0, #T_757f1_row3_col1, #T_757f1_row3_col2, #T_757f1_row4_col0, #T_757f1_row4_col1, #T_757f1_row4_col2 {\n",
       "  text-align: left;\n",
       "}\n",
       "</style>\n",
       "<table id=\"T_757f1\" style=\"font-size: 14px\">\n",
       "  <thead>\n",
       "    <tr>\n",
       "      <th id=\"T_757f1_level0_col0\" class=\"col_heading level0 col0\" >Version</th>\n",
       "      <th id=\"T_757f1_level0_col1\" class=\"col_heading level0 col1\" >1</th>\n",
       "      <th id=\"T_757f1_level0_col2\" class=\"col_heading level0 col2\" >2</th>\n",
       "    </tr>\n",
       "  </thead>\n",
       "  <tbody>\n",
       "    <tr>\n",
       "      <td id=\"T_757f1_row0_col0\" class=\"data row0 col0\" >Version Date</td>\n",
       "      <td id=\"T_757f1_row0_col1\" class=\"data row0 col1\" >10 Aug 2022</td>\n",
       "      <td id=\"T_757f1_row0_col2\" class=\"data row0 col2\" >22 Nov 2022</td>\n",
       "    </tr>\n",
       "    <tr>\n",
       "      <td id=\"T_757f1_row1_col0\" class=\"data row1 col0\" >Number of Variables</td>\n",
       "      <td id=\"T_757f1_row1_col1\" class=\"data row1 col1\" >258</td>\n",
       "      <td id=\"T_757f1_row1_col2\" class=\"data row1 col2\" >256</td>\n",
       "    </tr>\n",
       "    <tr>\n",
       "      <td id=\"T_757f1_row2_col0\" class=\"data row2 col0\" >Number of Observations</td>\n",
       "      <td id=\"T_757f1_row2_col1\" class=\"data row2 col1\" >28591</td>\n",
       "      <td id=\"T_757f1_row2_col2\" class=\"data row2 col2\" >28591</td>\n",
       "    </tr>\n",
       "    <tr>\n",
       "      <td id=\"T_757f1_row3_col0\" class=\"data row3 col0\" >DOI</td>\n",
       "      <td id=\"T_757f1_row3_col1\" class=\"data row3 col1\" > <a href=\"https://doi.org/10.71760/ukllc-dataset-00084-01\" rel=\"noopener noreferrer\" target=\"_blank\">10.71760/ukllc-dataset-00084-01</a></td>\n",
       "      <td id=\"T_757f1_row3_col2\" class=\"data row3 col2\" > <a href=\"https://doi.org/10.71760/ukllc-dataset-00084-02\" rel=\"noopener noreferrer\" target=\"_blank\">10.71760/ukllc-dataset-00084-02</a></td>\n",
       "    </tr>\n",
       "    <tr>\n",
       "      <td id=\"T_757f1_row4_col0\" class=\"data row4 col0\" >Change Log</td>\n",
       "      <td id=\"T_757f1_row4_col1\" class=\"data row4 col1\" > <a href=\"https://api.test.datacite.org/dois/10.71760/ukllc-dataset-00084-01/activities\" rel=\"noopener noreferrer\" target=\"_blank\">10.71760/ukllc-dataset-00084-01/activities</a></td>\n",
       "      <td id=\"T_757f1_row4_col2\" class=\"data row4 col2\" > <a href=\"https://api.test.datacite.org/dois/10.71760/ukllc-dataset-00084-02/activities\" rel=\"noopener noreferrer\" target=\"_blank\">10.71760/ukllc-dataset-00084-02/activities</a></td>\n",
       "    </tr>\n",
       "  </tbody>\n",
       "</table>\n"
      ],
      "text/plain": [
       "<pandas.io.formats.style.Styler at 0x1c4f74bf4a0>"
      ]
     },
     "execution_count": 4,
     "metadata": {},
     "output_type": "execute_result"
    }
   ],
   "source": [
    "ds.version_history()"
   ]
  },
  {
   "cell_type": "markdown",
   "id": "1bf4b34b",
   "metadata": {},
   "source": [
    "## 3. Documentation"
   ]
  },
  {
   "cell_type": "code",
   "execution_count": 5,
   "id": "c5ff55fc",
   "metadata": {
    "execution": {
     "iopub.execute_input": "2025-07-28T18:07:03.536790Z",
     "iopub.status.busy": "2025-07-28T18:07:03.536790Z",
     "iopub.status.idle": "2025-07-28T18:07:03.548307Z",
     "shell.execute_reply": "2025-07-28T18:07:03.546297Z"
    },
    "tags": [
     "remove-input"
    ]
   },
   "outputs": [
    {
     "data": {
      "text/markdown": [
       "We are currently building a documentation storage system which will host useful documents related to datasets and data owners. We will surface these documents on Guidebook."
      ],
      "text/plain": [
       "<IPython.core.display.Markdown object>"
      ]
     },
     "metadata": {},
     "output_type": "display_data"
    }
   ],
   "source": [
    "ds.documentation()"
   ]
  },
  {
   "cell_type": "markdown",
   "id": "c3fe28bb",
   "metadata": {},
   "source": [
    "## 4. Useful Syntax"
   ]
  },
  {
   "cell_type": "code",
   "execution_count": 6,
   "id": "f9ca4467",
   "metadata": {
    "execution": {
     "iopub.execute_input": "2025-07-28T18:07:03.552303Z",
     "iopub.status.busy": "2025-07-28T18:07:03.551303Z",
     "iopub.status.idle": "2025-07-28T18:07:03.560477Z",
     "shell.execute_reply": "2025-07-28T18:07:03.559468Z"
    },
    "tags": [
     "remove-input"
    ]
   },
   "outputs": [
    {
     "data": {
      "text/markdown": [
       "Below we will include syntax that may be helpful to other researchers in the UK LLC TRE. For longer scripts, we will include a snippet of the code plus a link to Git where you can find the full scripts."
      ],
      "text/plain": [
       "<IPython.core.display.Markdown object>"
      ]
     },
     "metadata": {},
     "output_type": "display_data"
    }
   ],
   "source": [
    "ds.useful_syntax()"
   ]
  }
 ],
 "metadata": {
  "language_info": {
   "codemirror_mode": {
    "name": "ipython",
    "version": 3
   },
   "file_extension": ".py",
   "mimetype": "text/x-python",
   "name": "python",
   "nbconvert_exporter": "python",
   "pygments_lexer": "ipython3",
   "version": "3.12.7"
  }
 },
 "nbformat": 4,
 "nbformat_minor": 5
}
