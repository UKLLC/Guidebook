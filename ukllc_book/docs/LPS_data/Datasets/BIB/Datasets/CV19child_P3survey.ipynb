{
 "cells": [
  {
   "cell_type": "markdown",
   "id": "08fc6754",
   "metadata": {},
   "source": [
    "# COVID-19 Child Phase 3 Survey (BIB)"
   ]
  },
  {
   "cell_type": "code",
   "execution_count": 1,
   "id": "be0fb386",
   "metadata": {
    "execution": {
     "iopub.execute_input": "2025-07-17T15:10:06.941003Z",
     "iopub.status.busy": "2025-07-17T15:10:06.939708Z",
     "iopub.status.idle": "2025-07-17T15:10:16.328585Z",
     "shell.execute_reply": "2025-07-17T15:10:16.325782Z"
    },
    "tags": [
     "remove-input"
    ]
   },
   "outputs": [
    {
     "data": {
      "text/markdown": [
       ">Last modified: 17 Jul 2025"
      ],
      "text/plain": [
       "<IPython.core.display.Markdown object>"
      ]
     },
     "metadata": {},
     "output_type": "display_data"
    }
   ],
   "source": [
    "\n",
    "import sys\n",
    "import os\n",
    "sys.path.append(os.path.abspath('../../../../scripts/'))\n",
    "from data_doc_helper import LPSDataSet as DS, last_modified\n",
    "API_KEY = os.environ['FASTAPI_KEY']\n",
    "ds = DS(\"BIB\", \"CV19child_P3survey\")\n",
    "last_modified()\n"
   ]
  },
  {
   "cell_type": "markdown",
   "id": "a298c689",
   "metadata": {},
   "source": [
    "## 1. Summary"
   ]
  },
  {
   "cell_type": "code",
   "execution_count": 2,
   "id": "5f3b6a94",
   "metadata": {
    "execution": {
     "iopub.execute_input": "2025-07-17T15:10:16.336793Z",
     "iopub.status.busy": "2025-07-17T15:10:16.336793Z",
     "iopub.status.idle": "2025-07-17T15:10:16.350710Z",
     "shell.execute_reply": "2025-07-17T15:10:16.348694Z"
    },
    "tags": [
     "remove-input"
    ]
   },
   "outputs": [
    {
     "data": {
      "text/markdown": [
       "A follow up to the Covid 19 Phase 1 and 2 surveys conducted at the start of the national lockdown. "
      ],
      "text/plain": [
       "<IPython.core.display.Markdown object>"
      ]
     },
     "metadata": {},
     "output_type": "display_data"
    }
   ],
   "source": [
    "ds.summary()"
   ]
  },
  {
   "cell_type": "code",
   "execution_count": 3,
   "id": "c5345bc8",
   "metadata": {
    "execution": {
     "iopub.execute_input": "2025-07-17T15:10:16.357711Z",
     "iopub.status.busy": "2025-07-17T15:10:16.356710Z",
     "iopub.status.idle": "2025-07-17T15:10:18.033052Z",
     "shell.execute_reply": "2025-07-17T15:10:18.031464Z"
    },
    "tags": [
     "remove-input"
    ]
   },
   "outputs": [
    {
     "data": {
      "text/html": [
       "<style type=\"text/css\">\n",
       "#T_e362e th {\n",
       "  text-align: left;\n",
       "}\n",
       "#T_e362e_row0_col0, #T_e362e_row0_col1, #T_e362e_row1_col0, #T_e362e_row1_col1, #T_e362e_row2_col0, #T_e362e_row2_col1, #T_e362e_row3_col0, #T_e362e_row3_col1, #T_e362e_row4_col0, #T_e362e_row4_col1, #T_e362e_row5_col0, #T_e362e_row5_col1, #T_e362e_row6_col0, #T_e362e_row6_col1, #T_e362e_row7_col0, #T_e362e_row7_col1, #T_e362e_row8_col0, #T_e362e_row8_col1, #T_e362e_row9_col0, #T_e362e_row9_col1, #T_e362e_row10_col0, #T_e362e_row10_col1, #T_e362e_row11_col0, #T_e362e_row11_col1, #T_e362e_row12_col0, #T_e362e_row12_col1 {\n",
       "  text-align: left;\n",
       "}\n",
       "</style>\n",
       "<table id=\"T_e362e\" style=\"font-size: 14px\">\n",
       "  <thead>\n",
       "    <tr>\n",
       "      <th id=\"T_e362e_level0_col0\" class=\"col_heading level0 col0\" >Dataset Descriptor</th>\n",
       "      <th id=\"T_e362e_level0_col1\" class=\"col_heading level0 col1\" >Dataset-specific Information</th>\n",
       "    </tr>\n",
       "  </thead>\n",
       "  <tbody>\n",
       "    <tr>\n",
       "      <td id=\"T_e362e_row0_col0\" class=\"data row0 col0\" >Name of Dataset in TRE</td>\n",
       "      <td id=\"T_e362e_row0_col1\" class=\"data row0 col1\" >BIB_CV19child_P3survey</td>\n",
       "    </tr>\n",
       "    <tr>\n",
       "      <td id=\"T_e362e_row1_col0\" class=\"data row1 col0\" >Citation (APA)</td>\n",
       "      <td id=\"T_e362e_row1_col1\" class=\"data row1 col1\" >Bradford Institute for Health Research, Bradford Teaching Hospitals NHS Foundation Trust. (2022). <i>Born in Bradford (BiB): COVID-19 Child Phase 3 Survey.</i> UK Longitudinal Linkage Collaboration (UK LLC).  <a href=\"https://doi.org/10.83126/ukllc-dataset-00159-01\" rel=\"noopener noreferrer\" target=\"_blank\">https://doi.org/10.83126/ukllc-dataset-00159-01</a></td>\n",
       "    </tr>\n",
       "    <tr>\n",
       "      <td id=\"T_e362e_row2_col0\" class=\"data row2 col0\" >Download Citation</td>\n",
       "      <td id=\"T_e362e_row2_col1\" class=\"data row2 col1\" > <a href=\"https://api.test.datacite.org/application/vnd.citationstyles.csl+json/10.83126/ukllc-dataset-00159-01\" rel=\"noopener noreferrer\" target=\"_blank\">Citeproc JSON</a>&nbsp;&nbsp;&nbsp;&nbsp; <a href=\"https://api.test.datacite.org/application/x-bibtex/10.83126/ukllc-dataset-00159-01\" rel=\"noopener noreferrer\" target=\"_blank\">BibTeX</a>&nbsp;&nbsp;&nbsp;&nbsp; <a href=\"https://api.test.datacite.org/application/x-research-info-systems/10.83126/ukllc-dataset-00159-01\" rel=\"noopener noreferrer\" target=\"_blank\">RIS</a></td>\n",
       "    </tr>\n",
       "    <tr>\n",
       "      <td id=\"T_e362e_row3_col0\" class=\"data row3 col0\" >Series</td>\n",
       "      <td id=\"T_e362e_row3_col1\" class=\"data row3 col1\" > <a href=\"https://guidebook.ukllc.ac.uk/docs/lps/lps%20profiles/BIB\">Born in Bradford (BiB)</a></td>\n",
       "    </tr>\n",
       "    <tr>\n",
       "      <td id=\"T_e362e_row4_col0\" class=\"data row4 col0\" >Owner</td>\n",
       "      <td id=\"T_e362e_row4_col1\" class=\"data row4 col1\" >Bradford Teaching Hospitals NHS Foundation Trust</td>\n",
       "    </tr>\n",
       "    <tr>\n",
       "      <td id=\"T_e362e_row5_col0\" class=\"data row5 col0\" >Temporal Coverage</td>\n",
       "      <td id=\"T_e362e_row5_col1\" class=\"data row5 col1\" >06/2021 - 11/2021</td>\n",
       "    </tr>\n",
       "    <tr>\n",
       "      <td id=\"T_e362e_row6_col0\" class=\"data row6 col0\" >Keywords</td>\n",
       "      <td id=\"T_e362e_row6_col1\" class=\"data row6 col1\" ></td>\n",
       "    </tr>\n",
       "    <tr>\n",
       "      <td id=\"T_e362e_row7_col0\" class=\"data row7 col0\" >Participants Invited</td>\n",
       "      <td id=\"T_e362e_row7_col1\" class=\"data row7 col1\" >28591</td>\n",
       "    </tr>\n",
       "    <tr>\n",
       "      <td id=\"T_e362e_row8_col0\" class=\"data row8 col0\" >Participant Count</td>\n",
       "      <td id=\"T_e362e_row8_col1\" class=\"data row8 col1\" >586</td>\n",
       "    </tr>\n",
       "    <tr>\n",
       "      <td id=\"T_e362e_row9_col0\" class=\"data row9 col0\" >Number of variables</td>\n",
       "      <td id=\"T_e362e_row9_col1\" class=\"data row9 col1\" >60</td>\n",
       "    </tr>\n",
       "    <tr>\n",
       "      <td id=\"T_e362e_row10_col0\" class=\"data row10 col0\" >Number of observations</td>\n",
       "      <td id=\"T_e362e_row10_col1\" class=\"data row10 col1\" >28591</td>\n",
       "    </tr>\n",
       "    <tr>\n",
       "      <td id=\"T_e362e_row11_col0\" class=\"data row11 col0\" >Specific Restrictions to Data Use</td>\n",
       "      <td id=\"T_e362e_row11_col1\" class=\"data row11 col1\" >None</td>\n",
       "    </tr>\n",
       "    <tr>\n",
       "      <td id=\"T_e362e_row12_col0\" class=\"data row12 col0\" >Build a Data Request</td>\n",
       "      <td id=\"T_e362e_row12_col1\" class=\"data row12 col1\" > <a href=\"https://explore.ukllc.ac.uk/\" rel=\"noopener noreferrer\" target=\"_blank\">https://explore.ukllc.ac.uk/</a></td>\n",
       "    </tr>\n",
       "  </tbody>\n",
       "</table>\n"
      ],
      "text/plain": [
       "<pandas.io.formats.style.Styler at 0x1e2580400e0>"
      ]
     },
     "execution_count": 3,
     "metadata": {},
     "output_type": "execute_result"
    }
   ],
   "source": [
    "ds.info_table()"
   ]
  },
  {
   "cell_type": "markdown",
   "id": "e316cdc2",
   "metadata": {},
   "source": [
    "## 2. Version History"
   ]
  },
  {
   "cell_type": "code",
   "execution_count": 4,
   "id": "c3345bd8",
   "metadata": {
    "execution": {
     "iopub.execute_input": "2025-07-17T15:10:18.040999Z",
     "iopub.status.busy": "2025-07-17T15:10:18.039998Z",
     "iopub.status.idle": "2025-07-17T15:10:21.118021Z",
     "shell.execute_reply": "2025-07-17T15:10:21.112662Z"
    },
    "tags": [
     "remove-input"
    ]
   },
   "outputs": [
    {
     "data": {
      "text/html": [
       "<style type=\"text/css\">\n",
       "#T_3c0a5 th {\n",
       "  text-align: left;\n",
       "}\n",
       "#T_3c0a5_row0_col0, #T_3c0a5_row0_col1, #T_3c0a5_row1_col0, #T_3c0a5_row1_col1, #T_3c0a5_row2_col0, #T_3c0a5_row2_col1, #T_3c0a5_row3_col0, #T_3c0a5_row3_col1, #T_3c0a5_row4_col0, #T_3c0a5_row4_col1 {\n",
       "  text-align: left;\n",
       "}\n",
       "</style>\n",
       "<table id=\"T_3c0a5\" style=\"font-size: 14px\">\n",
       "  <thead>\n",
       "    <tr>\n",
       "      <th id=\"T_3c0a5_level0_col0\" class=\"col_heading level0 col0\" >Version</th>\n",
       "      <th id=\"T_3c0a5_level0_col1\" class=\"col_heading level0 col1\" >1</th>\n",
       "    </tr>\n",
       "  </thead>\n",
       "  <tbody>\n",
       "    <tr>\n",
       "      <td id=\"T_3c0a5_row0_col0\" class=\"data row0 col0\" >Version Date</td>\n",
       "      <td id=\"T_3c0a5_row0_col1\" class=\"data row0 col1\" >31 May 2022</td>\n",
       "    </tr>\n",
       "    <tr>\n",
       "      <td id=\"T_3c0a5_row1_col0\" class=\"data row1 col0\" >Number of Variables</td>\n",
       "      <td id=\"T_3c0a5_row1_col1\" class=\"data row1 col1\" >60</td>\n",
       "    </tr>\n",
       "    <tr>\n",
       "      <td id=\"T_3c0a5_row2_col0\" class=\"data row2 col0\" >Number of Observations</td>\n",
       "      <td id=\"T_3c0a5_row2_col1\" class=\"data row2 col1\" >28591</td>\n",
       "    </tr>\n",
       "    <tr>\n",
       "      <td id=\"T_3c0a5_row3_col0\" class=\"data row3 col0\" >DOI</td>\n",
       "      <td id=\"T_3c0a5_row3_col1\" class=\"data row3 col1\" > <a href=\"https://doi.org/10.83126/ukllc-dataset-00159-01\" rel=\"noopener noreferrer\" target=\"_blank\">10.83126/ukllc-dataset-00159-01</a></td>\n",
       "    </tr>\n",
       "    <tr>\n",
       "      <td id=\"T_3c0a5_row4_col0\" class=\"data row4 col0\" >Change Log</td>\n",
       "      <td id=\"T_3c0a5_row4_col1\" class=\"data row4 col1\" > <a href=\"https://api.test.datacite.org/dois/10.83126/ukllc-dataset-00159-01/activities\" rel=\"noopener noreferrer\" target=\"_blank\">10.83126/ukllc-dataset-00159-01/activities</a></td>\n",
       "    </tr>\n",
       "  </tbody>\n",
       "</table>\n"
      ],
      "text/plain": [
       "<pandas.io.formats.style.Styler at 0x1e25d5c06e0>"
      ]
     },
     "execution_count": 4,
     "metadata": {},
     "output_type": "execute_result"
    }
   ],
   "source": [
    "ds.version_history()"
   ]
  },
  {
   "cell_type": "markdown",
   "id": "c0e969c6",
   "metadata": {},
   "source": [
    "## 3. Documentation"
   ]
  },
  {
   "cell_type": "code",
   "execution_count": 5,
   "id": "fb972542",
   "metadata": {
    "execution": {
     "iopub.execute_input": "2025-07-17T15:10:21.133007Z",
     "iopub.status.busy": "2025-07-17T15:10:21.131024Z",
     "iopub.status.idle": "2025-07-17T15:10:21.160564Z",
     "shell.execute_reply": "2025-07-17T15:10:21.154527Z"
    },
    "tags": [
     "remove-input"
    ]
   },
   "outputs": [
    {
     "data": {
      "text/markdown": [
       "We are currently building a documentation storage system which will host useful documents related to datasets and data owners. We will surface these documents on Guidebook."
      ],
      "text/plain": [
       "<IPython.core.display.Markdown object>"
      ]
     },
     "metadata": {},
     "output_type": "display_data"
    }
   ],
   "source": [
    "ds.documentation()"
   ]
  },
  {
   "cell_type": "markdown",
   "id": "ac2fed3e",
   "metadata": {},
   "source": [
    "## 4. Useful Syntax"
   ]
  },
  {
   "cell_type": "code",
   "execution_count": 6,
   "id": "97f273d9",
   "metadata": {
    "execution": {
     "iopub.execute_input": "2025-07-17T15:10:21.184560Z",
     "iopub.status.busy": "2025-07-17T15:10:21.183576Z",
     "iopub.status.idle": "2025-07-17T15:10:21.208137Z",
     "shell.execute_reply": "2025-07-17T15:10:21.203617Z"
    },
    "tags": [
     "remove-input"
    ]
   },
   "outputs": [
    {
     "data": {
      "text/markdown": [
       "Below we will include syntax that may be helpful to other researchers in the UK LLC TRE. For longer scripts, we will include a snippet of the code plus a link to Git where you can find the full scripts."
      ],
      "text/plain": [
       "<IPython.core.display.Markdown object>"
      ]
     },
     "metadata": {},
     "output_type": "display_data"
    }
   ],
   "source": [
    "ds.useful_syntax()"
   ]
  }
 ],
 "metadata": {
  "language_info": {
   "codemirror_mode": {
    "name": "ipython",
    "version": 3
   },
   "file_extension": ".py",
   "mimetype": "text/x-python",
   "name": "python",
   "nbconvert_exporter": "python",
   "pygments_lexer": "ipython3",
   "version": "3.12.7"
  }
 },
 "nbformat": 4,
 "nbformat_minor": 5
}
