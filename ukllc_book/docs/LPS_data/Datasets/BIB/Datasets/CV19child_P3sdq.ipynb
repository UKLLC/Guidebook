{
 "cells": [
  {
   "cell_type": "markdown",
   "id": "673b0418",
   "metadata": {},
   "source": [
    "# COVID-19 Child Phase 3 Strengths and Difficulties Questionnaire (BIB)"
   ]
  },
  {
   "cell_type": "code",
   "execution_count": 1,
   "id": "26aaf19a",
   "metadata": {
    "execution": {
     "iopub.execute_input": "2025-07-28T18:04:33.295185Z",
     "iopub.status.busy": "2025-07-28T18:04:33.294183Z",
     "iopub.status.idle": "2025-07-28T18:04:45.642836Z",
     "shell.execute_reply": "2025-07-28T18:04:45.642111Z"
    },
    "tags": [
     "remove-input"
    ]
   },
   "outputs": [
    {
     "data": {
      "text/markdown": [
       ">Last modified: 28 Jul 2025"
      ],
      "text/plain": [
       "<IPython.core.display.Markdown object>"
      ]
     },
     "metadata": {},
     "output_type": "display_data"
    }
   ],
   "source": [
    "\n",
    "import sys\n",
    "import os\n",
    "sys.path.append(os.path.abspath('../../../../scripts/'))\n",
    "from data_doc_helper import LPSDataSet as DS, last_modified\n",
    "API_KEY = os.environ['FASTAPI_KEY']\n",
    "ds = DS(\"BIB\", \"CV19child_P3sdq\")\n",
    "last_modified()\n"
   ]
  },
  {
   "cell_type": "markdown",
   "id": "57dc1b9a",
   "metadata": {},
   "source": [
    "## 1. Summary"
   ]
  },
  {
   "cell_type": "code",
   "execution_count": 2,
   "id": "2f1aaf85",
   "metadata": {
    "execution": {
     "iopub.execute_input": "2025-07-28T18:04:45.647846Z",
     "iopub.status.busy": "2025-07-28T18:04:45.647846Z",
     "iopub.status.idle": "2025-07-28T18:04:45.652337Z",
     "shell.execute_reply": "2025-07-28T18:04:45.652337Z"
    },
    "tags": [
     "remove-input"
    ]
   },
   "outputs": [
    {
     "data": {
      "text/markdown": [
       "A follow up to the Covid 19 Phase 1 and 2 surveys conducted at the start of the national lockdown. "
      ],
      "text/plain": [
       "<IPython.core.display.Markdown object>"
      ]
     },
     "metadata": {},
     "output_type": "display_data"
    }
   ],
   "source": [
    "ds.summary()"
   ]
  },
  {
   "cell_type": "code",
   "execution_count": 3,
   "id": "b740ae05",
   "metadata": {
    "execution": {
     "iopub.execute_input": "2025-07-28T18:04:45.655347Z",
     "iopub.status.busy": "2025-07-28T18:04:45.655347Z",
     "iopub.status.idle": "2025-07-28T18:04:46.607539Z",
     "shell.execute_reply": "2025-07-28T18:04:46.606528Z"
    },
    "tags": [
     "remove-input"
    ]
   },
   "outputs": [
    {
     "data": {
      "text/html": [
       "<style type=\"text/css\">\n",
       "#T_4de76 th {\n",
       "  text-align: left;\n",
       "}\n",
       "#T_4de76_row0_col0, #T_4de76_row0_col1, #T_4de76_row1_col0, #T_4de76_row1_col1, #T_4de76_row2_col0, #T_4de76_row2_col1, #T_4de76_row3_col0, #T_4de76_row3_col1, #T_4de76_row4_col0, #T_4de76_row4_col1, #T_4de76_row5_col0, #T_4de76_row5_col1, #T_4de76_row6_col0, #T_4de76_row6_col1, #T_4de76_row7_col0, #T_4de76_row7_col1, #T_4de76_row8_col0, #T_4de76_row8_col1, #T_4de76_row9_col0, #T_4de76_row9_col1, #T_4de76_row10_col0, #T_4de76_row10_col1, #T_4de76_row11_col0, #T_4de76_row11_col1, #T_4de76_row12_col0, #T_4de76_row12_col1 {\n",
       "  text-align: left;\n",
       "}\n",
       "</style>\n",
       "<table id=\"T_4de76\" style=\"font-size: 14px\">\n",
       "  <thead>\n",
       "    <tr>\n",
       "      <th id=\"T_4de76_level0_col0\" class=\"col_heading level0 col0\" >Dataset Descriptor</th>\n",
       "      <th id=\"T_4de76_level0_col1\" class=\"col_heading level0 col1\" >Dataset-specific Information</th>\n",
       "    </tr>\n",
       "  </thead>\n",
       "  <tbody>\n",
       "    <tr>\n",
       "      <td id=\"T_4de76_row0_col0\" class=\"data row0 col0\" >Name of Dataset in TRE</td>\n",
       "      <td id=\"T_4de76_row0_col1\" class=\"data row0 col1\" >BIB_CV19child_P3sdq</td>\n",
       "    </tr>\n",
       "    <tr>\n",
       "      <td id=\"T_4de76_row1_col0\" class=\"data row1 col0\" >Citation (APA)</td>\n",
       "      <td id=\"T_4de76_row1_col1\" class=\"data row1 col1\" >Bradford Institute for Health Research, Bradford Teaching Hospitals NHS Foundation Trust. (2022). <i>Born in Bradford (BiB): COVID-19 Child Phase 3 Strengths and Difficulties Questionnaire.</i> UK Longitudinal Linkage Collaboration (UK LLC).  <a href=\"https://doi.org/10.71760/ukllc-dataset-00077-01\" rel=\"noopener noreferrer\" target=\"_blank\">https://doi.org/10.71760/ukllc-dataset-00077-01</a></td>\n",
       "    </tr>\n",
       "    <tr>\n",
       "      <td id=\"T_4de76_row2_col0\" class=\"data row2 col0\" >Download Citation</td>\n",
       "      <td id=\"T_4de76_row2_col1\" class=\"data row2 col1\" > <a href=\"https://api.datacite.org/application/vnd.citationstyles.csl+json/10.71760/ukllc-dataset-00077-01\" rel=\"noopener noreferrer\" target=\"_blank\">Citeproc JSON</a>&nbsp;&nbsp;&nbsp;&nbsp; <a href=\"https://api.datacite.org/application/x-bibtex/10.71760/ukllc-dataset-00077-01\" rel=\"noopener noreferrer\" target=\"_blank\">BibTeX</a>&nbsp;&nbsp;&nbsp;&nbsp; <a href=\"https://api.datacite.org/application/x-research-info-systems/10.71760/ukllc-dataset-00077-01\" rel=\"noopener noreferrer\" target=\"_blank\">RIS</a></td>\n",
       "    </tr>\n",
       "    <tr>\n",
       "      <td id=\"T_4de76_row3_col0\" class=\"data row3 col0\" >Series</td>\n",
       "      <td id=\"T_4de76_row3_col1\" class=\"data row3 col1\" > <a href=\"https://guidebook.ukllc.ac.uk/docs/lps_data/lps%20profiles/BIB\">Born in Bradford (BiB)</a></td>\n",
       "    </tr>\n",
       "    <tr>\n",
       "      <td id=\"T_4de76_row4_col0\" class=\"data row4 col0\" >Owner</td>\n",
       "      <td id=\"T_4de76_row4_col1\" class=\"data row4 col1\" >Bradford Teaching Hospitals NHS Foundation Trust</td>\n",
       "    </tr>\n",
       "    <tr>\n",
       "      <td id=\"T_4de76_row5_col0\" class=\"data row5 col0\" >Temporal Coverage</td>\n",
       "      <td id=\"T_4de76_row5_col1\" class=\"data row5 col1\" >06/2021 - 11/2021</td>\n",
       "    </tr>\n",
       "    <tr>\n",
       "      <td id=\"T_4de76_row6_col0\" class=\"data row6 col0\" >Keywords</td>\n",
       "      <td id=\"T_4de76_row6_col1\" class=\"data row6 col1\" ></td>\n",
       "    </tr>\n",
       "    <tr>\n",
       "      <td id=\"T_4de76_row7_col0\" class=\"data row7 col0\" >Participants Invited</td>\n",
       "      <td id=\"T_4de76_row7_col1\" class=\"data row7 col1\" >28591</td>\n",
       "    </tr>\n",
       "    <tr>\n",
       "      <td id=\"T_4de76_row8_col0\" class=\"data row8 col0\" >Participant Count</td>\n",
       "      <td id=\"T_4de76_row8_col1\" class=\"data row8 col1\" >582</td>\n",
       "    </tr>\n",
       "    <tr>\n",
       "      <td id=\"T_4de76_row9_col0\" class=\"data row9 col0\" >Number of variables</td>\n",
       "      <td id=\"T_4de76_row9_col1\" class=\"data row9 col1\" >40</td>\n",
       "    </tr>\n",
       "    <tr>\n",
       "      <td id=\"T_4de76_row10_col0\" class=\"data row10 col0\" >Number of observations</td>\n",
       "      <td id=\"T_4de76_row10_col1\" class=\"data row10 col1\" >28591</td>\n",
       "    </tr>\n",
       "    <tr>\n",
       "      <td id=\"T_4de76_row11_col0\" class=\"data row11 col0\" >Specific Restrictions to Data Use</td>\n",
       "      <td id=\"T_4de76_row11_col1\" class=\"data row11 col1\" >None</td>\n",
       "    </tr>\n",
       "    <tr>\n",
       "      <td id=\"T_4de76_row12_col0\" class=\"data row12 col0\" >Build a Data Request</td>\n",
       "      <td id=\"T_4de76_row12_col1\" class=\"data row12 col1\" > <a href=\"https://explore.ukllc.ac.uk/\" rel=\"noopener noreferrer\" target=\"_blank\">https://explore.ukllc.ac.uk/</a></td>\n",
       "    </tr>\n",
       "  </tbody>\n",
       "</table>\n"
      ],
      "text/plain": [
       "<pandas.io.formats.style.Styler at 0x1faa046bfb0>"
      ]
     },
     "execution_count": 3,
     "metadata": {},
     "output_type": "execute_result"
    }
   ],
   "source": [
    "ds.info_table()"
   ]
  },
  {
   "cell_type": "markdown",
   "id": "b49ebf8b",
   "metadata": {},
   "source": [
    "## 2. Version History"
   ]
  },
  {
   "cell_type": "code",
   "execution_count": 4,
   "id": "6d9f9bd1",
   "metadata": {
    "execution": {
     "iopub.execute_input": "2025-07-28T18:04:46.615535Z",
     "iopub.status.busy": "2025-07-28T18:04:46.613535Z",
     "iopub.status.idle": "2025-07-28T18:04:51.680461Z",
     "shell.execute_reply": "2025-07-28T18:04:51.679409Z"
    },
    "tags": [
     "remove-input"
    ]
   },
   "outputs": [
    {
     "data": {
      "text/html": [
       "<style type=\"text/css\">\n",
       "#T_60bfc th {\n",
       "  text-align: left;\n",
       "}\n",
       "#T_60bfc_row0_col0, #T_60bfc_row0_col1, #T_60bfc_row1_col0, #T_60bfc_row1_col1, #T_60bfc_row2_col0, #T_60bfc_row2_col1, #T_60bfc_row3_col0, #T_60bfc_row3_col1, #T_60bfc_row4_col0, #T_60bfc_row4_col1 {\n",
       "  text-align: left;\n",
       "}\n",
       "</style>\n",
       "<table id=\"T_60bfc\" style=\"font-size: 14px\">\n",
       "  <thead>\n",
       "    <tr>\n",
       "      <th id=\"T_60bfc_level0_col0\" class=\"col_heading level0 col0\" >Version</th>\n",
       "      <th id=\"T_60bfc_level0_col1\" class=\"col_heading level0 col1\" >1</th>\n",
       "    </tr>\n",
       "  </thead>\n",
       "  <tbody>\n",
       "    <tr>\n",
       "      <td id=\"T_60bfc_row0_col0\" class=\"data row0 col0\" >Version Date</td>\n",
       "      <td id=\"T_60bfc_row0_col1\" class=\"data row0 col1\" >31 May 2022</td>\n",
       "    </tr>\n",
       "    <tr>\n",
       "      <td id=\"T_60bfc_row1_col0\" class=\"data row1 col0\" >Number of Variables</td>\n",
       "      <td id=\"T_60bfc_row1_col1\" class=\"data row1 col1\" >40</td>\n",
       "    </tr>\n",
       "    <tr>\n",
       "      <td id=\"T_60bfc_row2_col0\" class=\"data row2 col0\" >Number of Observations</td>\n",
       "      <td id=\"T_60bfc_row2_col1\" class=\"data row2 col1\" >28591</td>\n",
       "    </tr>\n",
       "    <tr>\n",
       "      <td id=\"T_60bfc_row3_col0\" class=\"data row3 col0\" >DOI</td>\n",
       "      <td id=\"T_60bfc_row3_col1\" class=\"data row3 col1\" > <a href=\"https://doi.org/10.71760/ukllc-dataset-00077-01\" rel=\"noopener noreferrer\" target=\"_blank\">10.71760/ukllc-dataset-00077-01</a></td>\n",
       "    </tr>\n",
       "    <tr>\n",
       "      <td id=\"T_60bfc_row4_col0\" class=\"data row4 col0\" >Change Log</td>\n",
       "      <td id=\"T_60bfc_row4_col1\" class=\"data row4 col1\" > <a href=\"https://api.test.datacite.org/dois/10.71760/ukllc-dataset-00077-01/activities\" rel=\"noopener noreferrer\" target=\"_blank\">10.71760/ukllc-dataset-00077-01/activities</a></td>\n",
       "    </tr>\n",
       "  </tbody>\n",
       "</table>\n"
      ],
      "text/plain": [
       "<pandas.io.formats.style.Styler at 0x1faa5f7a510>"
      ]
     },
     "execution_count": 4,
     "metadata": {},
     "output_type": "execute_result"
    }
   ],
   "source": [
    "ds.version_history()"
   ]
  },
  {
   "cell_type": "markdown",
   "id": "1acb2376",
   "metadata": {},
   "source": [
    "## 3. Documentation"
   ]
  },
  {
   "cell_type": "code",
   "execution_count": 5,
   "id": "b6f895b1",
   "metadata": {
    "execution": {
     "iopub.execute_input": "2025-07-28T18:04:51.685476Z",
     "iopub.status.busy": "2025-07-28T18:04:51.684473Z",
     "iopub.status.idle": "2025-07-28T18:04:51.690640Z",
     "shell.execute_reply": "2025-07-28T18:04:51.690640Z"
    },
    "tags": [
     "remove-input"
    ]
   },
   "outputs": [
    {
     "data": {
      "text/markdown": [
       "We are currently building a documentation storage system which will host useful documents related to datasets and data owners. We will surface these documents on Guidebook."
      ],
      "text/plain": [
       "<IPython.core.display.Markdown object>"
      ]
     },
     "metadata": {},
     "output_type": "display_data"
    }
   ],
   "source": [
    "ds.documentation()"
   ]
  },
  {
   "cell_type": "markdown",
   "id": "4d942170",
   "metadata": {},
   "source": [
    "## 4. Useful Syntax"
   ]
  },
  {
   "cell_type": "code",
   "execution_count": 6,
   "id": "e4a030d0",
   "metadata": {
    "execution": {
     "iopub.execute_input": "2025-07-28T18:04:51.693652Z",
     "iopub.status.busy": "2025-07-28T18:04:51.693652Z",
     "iopub.status.idle": "2025-07-28T18:04:51.696660Z",
     "shell.execute_reply": "2025-07-28T18:04:51.696660Z"
    },
    "tags": [
     "remove-input"
    ]
   },
   "outputs": [
    {
     "data": {
      "text/markdown": [
       "Below we will include syntax that may be helpful to other researchers in the UK LLC TRE. For longer scripts, we will include a snippet of the code plus a link to Git where you can find the full scripts."
      ],
      "text/plain": [
       "<IPython.core.display.Markdown object>"
      ]
     },
     "metadata": {},
     "output_type": "display_data"
    }
   ],
   "source": [
    "ds.useful_syntax()"
   ]
  }
 ],
 "metadata": {
  "language_info": {
   "codemirror_mode": {
    "name": "ipython",
    "version": 3
   },
   "file_extension": ".py",
   "mimetype": "text/x-python",
   "name": "python",
   "nbconvert_exporter": "python",
   "pygments_lexer": "ipython3",
   "version": "3.12.7"
  }
 },
 "nbformat": 4,
 "nbformat_minor": 5
}
