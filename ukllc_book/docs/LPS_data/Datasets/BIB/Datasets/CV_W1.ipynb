{
 "cells": [
  {
   "cell_type": "markdown",
   "id": "92ad2ea1",
   "metadata": {},
   "source": [
    "# COVID-19 Wave 1 (BIB)"
   ]
  },
  {
   "cell_type": "code",
   "execution_count": null,
   "id": "6cbfeda3",
   "metadata": {
    "tags": [
     "remove-input"
    ]
   },
   "outputs": [],
   "source": [
    "\n",
    "import sys\n",
    "import os\n",
    "sys.path.append(os.path.abspath('../../../../scripts/'))\n",
    "from data_doc_helper import LPSDataSet as DS\n",
    "API_KEY = os.environ['FASTAPI_KEY']\n",
    "ds = DS(\"BIB\", \"CV_W1\")\n"
   ]
  },
  {
   "cell_type": "markdown",
   "id": "d88ebefb",
   "metadata": {},
   "source": [
    "## 1. Summary"
   ]
  },
  {
   "cell_type": "code",
   "execution_count": null,
   "id": "9b7caeea",
   "metadata": {
    "tags": [
     "remove-input"
    ]
   },
   "outputs": [],
   "source": [
    "ds.summary()"
   ]
  },
  {
   "cell_type": "code",
   "execution_count": null,
   "id": "3d3a36f3",
   "metadata": {
    "tags": [
     "remove-input"
    ]
   },
   "outputs": [],
   "source": [
    "ds.info_table()"
   ]
  },
  {
   "cell_type": "markdown",
   "id": "16c26f18",
   "metadata": {},
   "source": [
    "## 2. Version History"
   ]
  },
  {
   "cell_type": "code",
   "execution_count": null,
   "id": "17affa95",
   "metadata": {
    "tags": [
     "remove-input"
    ]
   },
   "outputs": [],
   "source": [
    "ds.version_history()"
   ]
  },
  {
   "cell_type": "markdown",
   "id": "3279a81a",
   "metadata": {},
   "source": [
    "## 3. Change Log"
   ]
  },
  {
   "cell_type": "code",
   "execution_count": null,
   "id": "6724e808",
   "metadata": {
    "tags": [
     "remove-input"
    ]
   },
   "outputs": [],
   "source": [
    "ds.change_log()"
   ]
  },
  {
   "cell_type": "markdown",
   "id": "ed63bf49",
   "metadata": {},
   "source": [
    "## 4. Documentation"
   ]
  },
  {
   "cell_type": "code",
   "execution_count": null,
   "id": "32b281ea",
   "metadata": {
    "tags": [
     "remove-input"
    ]
   },
   "outputs": [],
   "source": [
    "ds.documentation()"
   ]
  },
  {
   "cell_type": "markdown",
   "id": "efd91259",
   "metadata": {},
   "source": [
    "## 5. Useful Syntax"
   ]
  },
  {
   "cell_type": "code",
   "execution_count": null,
   "id": "c941a3dd",
   "metadata": {
    "tags": [
     "remove-input"
    ]
   },
   "outputs": [],
   "source": [
    "ds.useful_syntax()"
   ]
  }
 ],
 "metadata": {},
 "nbformat": 4,
 "nbformat_minor": 5
}
