{
 "cells": [
  {
   "cell_type": "markdown",
   "id": "59b869b5",
   "metadata": {},
   "source": [
    "# COVID-19 Wave 1 (BIB)"
   ]
  },
  {
   "cell_type": "code",
   "execution_count": 1,
   "id": "0358cd20",
   "metadata": {
    "execution": {
     "iopub.execute_input": "2025-07-28T18:05:16.739418Z",
     "iopub.status.busy": "2025-07-28T18:05:16.738419Z",
     "iopub.status.idle": "2025-07-28T18:05:28.733877Z",
     "shell.execute_reply": "2025-07-28T18:05:28.732867Z"
    },
    "tags": [
     "remove-input"
    ]
   },
   "outputs": [
    {
     "data": {
      "text/markdown": [
       ">Last modified: 28 Jul 2025"
      ],
      "text/plain": [
       "<IPython.core.display.Markdown object>"
      ]
     },
     "metadata": {},
     "output_type": "display_data"
    }
   ],
   "source": [
    "\n",
    "import sys\n",
    "import os\n",
    "sys.path.append(os.path.abspath('../../../../scripts/'))\n",
    "from data_doc_helper import LPSDataSet as DS, last_modified\n",
    "API_KEY = os.environ['FASTAPI_KEY']\n",
    "ds = DS(\"BIB\", \"CV_W1\")\n",
    "last_modified()\n"
   ]
  },
  {
   "cell_type": "markdown",
   "id": "5dd272f0",
   "metadata": {},
   "source": [
    "## 1. Summary"
   ]
  },
  {
   "cell_type": "code",
   "execution_count": 2,
   "id": "82773027",
   "metadata": {
    "execution": {
     "iopub.execute_input": "2025-07-28T18:05:28.736875Z",
     "iopub.status.busy": "2025-07-28T18:05:28.735874Z",
     "iopub.status.idle": "2025-07-28T18:05:28.743673Z",
     "shell.execute_reply": "2025-07-28T18:05:28.742671Z"
    },
    "tags": [
     "remove-input"
    ]
   },
   "outputs": [
    {
     "data": {
      "text/markdown": [
       "A mixed-mode survey conducted during 2020 at the start of the COVID-19 national lockdown and in the months that followed."
      ],
      "text/plain": [
       "<IPython.core.display.Markdown object>"
      ]
     },
     "metadata": {},
     "output_type": "display_data"
    }
   ],
   "source": [
    "ds.summary()"
   ]
  },
  {
   "cell_type": "code",
   "execution_count": 3,
   "id": "34a94087",
   "metadata": {
    "execution": {
     "iopub.execute_input": "2025-07-28T18:05:28.749677Z",
     "iopub.status.busy": "2025-07-28T18:05:28.749677Z",
     "iopub.status.idle": "2025-07-28T18:05:29.942827Z",
     "shell.execute_reply": "2025-07-28T18:05:29.940821Z"
    },
    "tags": [
     "remove-input"
    ]
   },
   "outputs": [
    {
     "data": {
      "text/html": [
       "<style type=\"text/css\">\n",
       "#T_6108c th {\n",
       "  text-align: left;\n",
       "}\n",
       "#T_6108c_row0_col0, #T_6108c_row0_col1, #T_6108c_row1_col0, #T_6108c_row1_col1, #T_6108c_row2_col0, #T_6108c_row2_col1, #T_6108c_row3_col0, #T_6108c_row3_col1, #T_6108c_row4_col0, #T_6108c_row4_col1, #T_6108c_row5_col0, #T_6108c_row5_col1, #T_6108c_row6_col0, #T_6108c_row6_col1, #T_6108c_row7_col0, #T_6108c_row7_col1, #T_6108c_row8_col0, #T_6108c_row8_col1, #T_6108c_row9_col0, #T_6108c_row9_col1, #T_6108c_row10_col0, #T_6108c_row10_col1, #T_6108c_row11_col0, #T_6108c_row11_col1, #T_6108c_row12_col0, #T_6108c_row12_col1 {\n",
       "  text-align: left;\n",
       "}\n",
       "</style>\n",
       "<table id=\"T_6108c\" style=\"font-size: 14px\">\n",
       "  <thead>\n",
       "    <tr>\n",
       "      <th id=\"T_6108c_level0_col0\" class=\"col_heading level0 col0\" >Dataset Descriptor</th>\n",
       "      <th id=\"T_6108c_level0_col1\" class=\"col_heading level0 col1\" >Dataset-specific Information</th>\n",
       "    </tr>\n",
       "  </thead>\n",
       "  <tbody>\n",
       "    <tr>\n",
       "      <td id=\"T_6108c_row0_col0\" class=\"data row0 col0\" >Name of Dataset in TRE</td>\n",
       "      <td id=\"T_6108c_row0_col1\" class=\"data row0 col1\" >BIB_CV_W1</td>\n",
       "    </tr>\n",
       "    <tr>\n",
       "      <td id=\"T_6108c_row1_col0\" class=\"data row1 col0\" >Citation (APA)</td>\n",
       "      <td id=\"T_6108c_row1_col1\" class=\"data row1 col1\" >Bradford Institute for Health Research, Bradford Teaching Hospitals NHS Foundation Trust. (2022). <i>Born in Bradford (BiB): COVID-19 Wave 1.</i> UK Longitudinal Linkage Collaboration (UK LLC).  <a href=\"https://doi.org/10.71760/ukllc-dataset-00079-01\" rel=\"noopener noreferrer\" target=\"_blank\">https://doi.org/10.71760/ukllc-dataset-00079-01</a></td>\n",
       "    </tr>\n",
       "    <tr>\n",
       "      <td id=\"T_6108c_row2_col0\" class=\"data row2 col0\" >Download Citation</td>\n",
       "      <td id=\"T_6108c_row2_col1\" class=\"data row2 col1\" > <a href=\"https://api.datacite.org/application/vnd.citationstyles.csl+json/10.71760/ukllc-dataset-00079-01\" rel=\"noopener noreferrer\" target=\"_blank\">Citeproc JSON</a>&nbsp;&nbsp;&nbsp;&nbsp; <a href=\"https://api.datacite.org/application/x-bibtex/10.71760/ukllc-dataset-00079-01\" rel=\"noopener noreferrer\" target=\"_blank\">BibTeX</a>&nbsp;&nbsp;&nbsp;&nbsp; <a href=\"https://api.datacite.org/application/x-research-info-systems/10.71760/ukllc-dataset-00079-01\" rel=\"noopener noreferrer\" target=\"_blank\">RIS</a></td>\n",
       "    </tr>\n",
       "    <tr>\n",
       "      <td id=\"T_6108c_row3_col0\" class=\"data row3 col0\" >Series</td>\n",
       "      <td id=\"T_6108c_row3_col1\" class=\"data row3 col1\" > <a href=\"https://guidebook.ukllc.ac.uk/docs/lps_data/lps%20profiles/BIB\">Born in Bradford (BiB)</a></td>\n",
       "    </tr>\n",
       "    <tr>\n",
       "      <td id=\"T_6108c_row4_col0\" class=\"data row4 col0\" >Owner</td>\n",
       "      <td id=\"T_6108c_row4_col1\" class=\"data row4 col1\" >Bradford Teaching Hospitals NHS Foundation Trust</td>\n",
       "    </tr>\n",
       "    <tr>\n",
       "      <td id=\"T_6108c_row5_col0\" class=\"data row5 col0\" >Temporal Coverage</td>\n",
       "      <td id=\"T_6108c_row5_col1\" class=\"data row5 col1\" >04/2020 - 06/2020</td>\n",
       "    </tr>\n",
       "    <tr>\n",
       "      <td id=\"T_6108c_row6_col0\" class=\"data row6 col0\" >Keywords</td>\n",
       "      <td id=\"T_6108c_row6_col1\" class=\"data row6 col1\" ></td>\n",
       "    </tr>\n",
       "    <tr>\n",
       "      <td id=\"T_6108c_row7_col0\" class=\"data row7 col0\" >Participants Invited</td>\n",
       "      <td id=\"T_6108c_row7_col1\" class=\"data row7 col1\" >5154</td>\n",
       "    </tr>\n",
       "    <tr>\n",
       "      <td id=\"T_6108c_row8_col0\" class=\"data row8 col0\" >Participant Count</td>\n",
       "      <td id=\"T_6108c_row8_col1\" class=\"data row8 col1\" >1560</td>\n",
       "    </tr>\n",
       "    <tr>\n",
       "      <td id=\"T_6108c_row9_col0\" class=\"data row9 col0\" >Number of variables</td>\n",
       "      <td id=\"T_6108c_row9_col1\" class=\"data row9 col1\" >176</td>\n",
       "    </tr>\n",
       "    <tr>\n",
       "      <td id=\"T_6108c_row10_col0\" class=\"data row10 col0\" >Number of observations</td>\n",
       "      <td id=\"T_6108c_row10_col1\" class=\"data row10 col1\" >28591</td>\n",
       "    </tr>\n",
       "    <tr>\n",
       "      <td id=\"T_6108c_row11_col0\" class=\"data row11 col0\" >Specific Restrictions to Data Use</td>\n",
       "      <td id=\"T_6108c_row11_col1\" class=\"data row11 col1\" >None</td>\n",
       "    </tr>\n",
       "    <tr>\n",
       "      <td id=\"T_6108c_row12_col0\" class=\"data row12 col0\" >Build a Data Request</td>\n",
       "      <td id=\"T_6108c_row12_col1\" class=\"data row12 col1\" > <a href=\"https://explore.ukllc.ac.uk/\" rel=\"noopener noreferrer\" target=\"_blank\">https://explore.ukllc.ac.uk/</a></td>\n",
       "    </tr>\n",
       "  </tbody>\n",
       "</table>\n"
      ],
      "text/plain": [
       "<pandas.io.formats.style.Styler at 0x24d63a43da0>"
      ]
     },
     "execution_count": 3,
     "metadata": {},
     "output_type": "execute_result"
    }
   ],
   "source": [
    "ds.info_table()"
   ]
  },
  {
   "cell_type": "markdown",
   "id": "f387b29d",
   "metadata": {},
   "source": [
    "## 2. Version History"
   ]
  },
  {
   "cell_type": "code",
   "execution_count": 4,
   "id": "122342cc",
   "metadata": {
    "execution": {
     "iopub.execute_input": "2025-07-28T18:05:29.949826Z",
     "iopub.status.busy": "2025-07-28T18:05:29.948826Z",
     "iopub.status.idle": "2025-07-28T18:05:34.648367Z",
     "shell.execute_reply": "2025-07-28T18:05:34.647360Z"
    },
    "tags": [
     "remove-input"
    ]
   },
   "outputs": [
    {
     "data": {
      "text/html": [
       "<style type=\"text/css\">\n",
       "#T_16135 th {\n",
       "  text-align: left;\n",
       "}\n",
       "#T_16135_row0_col0, #T_16135_row0_col1, #T_16135_row1_col0, #T_16135_row1_col1, #T_16135_row2_col0, #T_16135_row2_col1, #T_16135_row3_col0, #T_16135_row3_col1, #T_16135_row4_col0, #T_16135_row4_col1 {\n",
       "  text-align: left;\n",
       "}\n",
       "</style>\n",
       "<table id=\"T_16135\" style=\"font-size: 14px\">\n",
       "  <thead>\n",
       "    <tr>\n",
       "      <th id=\"T_16135_level0_col0\" class=\"col_heading level0 col0\" >Version</th>\n",
       "      <th id=\"T_16135_level0_col1\" class=\"col_heading level0 col1\" >1</th>\n",
       "    </tr>\n",
       "  </thead>\n",
       "  <tbody>\n",
       "    <tr>\n",
       "      <td id=\"T_16135_row0_col0\" class=\"data row0 col0\" >Version Date</td>\n",
       "      <td id=\"T_16135_row0_col1\" class=\"data row0 col1\" >18 Jan 2022</td>\n",
       "    </tr>\n",
       "    <tr>\n",
       "      <td id=\"T_16135_row1_col0\" class=\"data row1 col0\" >Number of Variables</td>\n",
       "      <td id=\"T_16135_row1_col1\" class=\"data row1 col1\" >176</td>\n",
       "    </tr>\n",
       "    <tr>\n",
       "      <td id=\"T_16135_row2_col0\" class=\"data row2 col0\" >Number of Observations</td>\n",
       "      <td id=\"T_16135_row2_col1\" class=\"data row2 col1\" >28591</td>\n",
       "    </tr>\n",
       "    <tr>\n",
       "      <td id=\"T_16135_row3_col0\" class=\"data row3 col0\" >DOI</td>\n",
       "      <td id=\"T_16135_row3_col1\" class=\"data row3 col1\" > <a href=\"https://doi.org/10.71760/ukllc-dataset-00079-01\" rel=\"noopener noreferrer\" target=\"_blank\">10.71760/ukllc-dataset-00079-01</a></td>\n",
       "    </tr>\n",
       "    <tr>\n",
       "      <td id=\"T_16135_row4_col0\" class=\"data row4 col0\" >Change Log</td>\n",
       "      <td id=\"T_16135_row4_col1\" class=\"data row4 col1\" > <a href=\"https://api.test.datacite.org/dois/10.71760/ukllc-dataset-00079-01/activities\" rel=\"noopener noreferrer\" target=\"_blank\">10.71760/ukllc-dataset-00079-01/activities</a></td>\n",
       "    </tr>\n",
       "  </tbody>\n",
       "</table>\n"
      ],
      "text/plain": [
       "<pandas.io.formats.style.Styler at 0x24d65727da0>"
      ]
     },
     "execution_count": 4,
     "metadata": {},
     "output_type": "execute_result"
    }
   ],
   "source": [
    "ds.version_history()"
   ]
  },
  {
   "cell_type": "markdown",
   "id": "d5063fde",
   "metadata": {},
   "source": [
    "## 3. Documentation"
   ]
  },
  {
   "cell_type": "code",
   "execution_count": 5,
   "id": "325e4cad",
   "metadata": {
    "execution": {
     "iopub.execute_input": "2025-07-28T18:05:34.652661Z",
     "iopub.status.busy": "2025-07-28T18:05:34.652661Z",
     "iopub.status.idle": "2025-07-28T18:05:34.656699Z",
     "shell.execute_reply": "2025-07-28T18:05:34.656699Z"
    },
    "tags": [
     "remove-input"
    ]
   },
   "outputs": [
    {
     "data": {
      "text/markdown": [
       "We are currently building a documentation storage system which will host useful documents related to datasets and data owners. We will surface these documents on Guidebook."
      ],
      "text/plain": [
       "<IPython.core.display.Markdown object>"
      ]
     },
     "metadata": {},
     "output_type": "display_data"
    }
   ],
   "source": [
    "ds.documentation()"
   ]
  },
  {
   "cell_type": "markdown",
   "id": "4d37a25a",
   "metadata": {},
   "source": [
    "## 4. Useful Syntax"
   ]
  },
  {
   "cell_type": "code",
   "execution_count": 6,
   "id": "c4f0a1eb",
   "metadata": {
    "execution": {
     "iopub.execute_input": "2025-07-28T18:05:34.658705Z",
     "iopub.status.busy": "2025-07-28T18:05:34.658705Z",
     "iopub.status.idle": "2025-07-28T18:05:34.663020Z",
     "shell.execute_reply": "2025-07-28T18:05:34.663020Z"
    },
    "tags": [
     "remove-input"
    ]
   },
   "outputs": [
    {
     "data": {
      "text/markdown": [
       "Below we will include syntax that may be helpful to other researchers in the UK LLC TRE. For longer scripts, we will include a snippet of the code plus a link to Git where you can find the full scripts."
      ],
      "text/plain": [
       "<IPython.core.display.Markdown object>"
      ]
     },
     "metadata": {},
     "output_type": "display_data"
    }
   ],
   "source": [
    "ds.useful_syntax()"
   ]
  }
 ],
 "metadata": {
  "language_info": {
   "codemirror_mode": {
    "name": "ipython",
    "version": 3
   },
   "file_extension": ".py",
   "mimetype": "text/x-python",
   "name": "python",
   "nbconvert_exporter": "python",
   "pygments_lexer": "ipython3",
   "version": "3.12.7"
  }
 },
 "nbformat": 4,
 "nbformat_minor": 5
}
