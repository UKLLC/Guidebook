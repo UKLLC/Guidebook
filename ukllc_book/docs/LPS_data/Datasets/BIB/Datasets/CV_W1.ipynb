{
 "cells": [
  {
   "cell_type": "markdown",
   "id": "4cc2de63",
   "metadata": {},
   "source": [
    "# COVID-19 Wave 1 (BIB)"
   ]
  },
  {
   "cell_type": "markdown",
   "id": "399db34d",
   "metadata": {},
   "source": [
    "## 1. Summary"
   ]
  },
  {
   "cell_type": "markdown",
   "id": "96982a61",
   "metadata": {},
   "source": [
    "A mixed-mode survey conducted during 2020 at the start of the COVID-19 national lockdown and in the months that followed."
   ]
  },
  {
   "cell_type": "code",
   "execution_count": null,
   "id": "8f73c30b",
   "metadata": {
    "tags": [
     "remove-input"
    ]
   },
   "outputs": [],
   "source": [
    "\n",
    "    import sys\n",
    "    import nbformat as nbf\n",
    "    import os\n",
    "    import requests\n",
    "    import json\n",
    "    import pandas as pd\n",
    "    import markdown\n",
    "    sys.path.append(os.path.abspath('../../../scripts/'))\n",
    "    import mdapi_functions as md\n",
    "    from data_doc_helper import DocHelper as dh\n",
    "    API_KEY = os.environ['FASTAPI_KEY']\n",
    "\n",
    "    infill = os.path.abspath('../../../scripts/dsvs_infill.csv')\n",
    "\n",
    "    df_ds = md.prep_dsvs_for_gb_pages(infill)\n",
    "    df_ds_i = df_ds[df_ds[\"source_table\"] == \"BIB_CV_W1\"]\n",
    "\n",
    "    doi = \"10.83126/ukllc-series-00001-01\"\n",
    "    pref = \"10.83126/\"\n",
    "    suff = \"ukllc-dataset-00032-01\"\n",
    "    cite = json.loads(requests.get(\n",
    "            \"https://api.test.datacite.org/dois/\" + pref + suff,\n",
    "    ).text)['data']['attributes']\n",
    "\n",
    "    citeprocjson = \"https://api.datacite.org/application/vnd.citationstyles.csl+json/\"\n",
    "    bibtex = \"https://api.datacite.org/application/x-bibtex/\"\n",
    "    ris = \"https://api.datacite.org/application/x-research-info-systems/\"\n",
    "\n",
    "    apa_cite = cite['creators'][0][\"name\"] +             \". (\" + str(cite[\"publicationYear\"]) + \"). <i>\" +             cite[\"titles\"][0][\"title\"] +             \".</i> (Version \" +             cite[\"version\"] +             \") [Data set]. \" +             cite[\"publisher\"] +             \". \" + md.make_hlink(\"https://doi.org/\" + pref + suff, \"https://doi.org/\" + pref + suff)\n",
    "\n",
    "    dl_cites = md.make_hlink(citeprocjson + pref + suff, \"Citeproc JSON\") + \"&nbsp;&nbsp;&nbsp;&nbsp;\" +             md.make_hlink(bibtex + pref + suff, \"BibTeX\") + \"&nbsp;&nbsp;&nbsp;&nbsp;\" + md.make_hlink(ris + pref + suff, \"RIS\")\n",
    "\n",
    "\n",
    "    ds_info_list = [\n",
    "        [\n",
    "            \"Name of Dataset in TRE\",\n",
    "            \"Citation (APA)\",\n",
    "            \"Download Citation\",\n",
    "            \"Series\",\n",
    "            \"Owner\",\n",
    "            \"Temporal Coverage\",\n",
    "            \"Geographical Coverage - Nations\",\n",
    "            \"Geographical Coverage - Regions\",\n",
    "            \"Participants Invited\",\n",
    "            \"Participant Count\",\n",
    "            \"Number of variables\",\n",
    "            \"Number of observations\",\n",
    "            \"Specific Restrictions to Data Use\",\n",
    "            \"Build a Data Request\"\n",
    "        ],\n",
    "        [\n",
    "            df_ds_i.iloc[0][\"source_table\"], # DS in TRE\n",
    "            apa_cite, # Citation\n",
    "            dl_cites, # Download Cite\n",
    "            md.make_hlink(\"https://guidebook.ukllc.ac.uk/docs/lps/lps%20profiles/{}\".format(df_ds_i.iloc[0][\"source\"]), df_ds_i.iloc[0][\"source_name\"]), # Series\n",
    "            df_ds_i.iloc[0][\"Owner\"], # Owner\n",
    "            df_ds_i.iloc[0][\"collection_start\"] + \" - \" + df_ds_i.iloc[0][\"collection_end\"], # Temporal Coverage\n",
    "            df_ds_i.iloc[0][\"geographic_coverage_Nations\"], # Geographical Coverage - Nations\n",
    "            df_ds_i.iloc[0][\"geographic_coverage_Regions\"], # Geographical Coverage - Nations\n",
    "            df_ds_i.iloc[0][\"participants_invited\"], # Participants invited\n",
    "            df_ds_i.iloc[0][\"participants_included\"], # Participants included\n",
    "            md.get_num_vars(df_ds_i.iloc[0][\"source\"], df_ds_i.iloc[0][\"table\"]), # Number of variables\n",
    "            int(df_ds_i.iloc[0][\"num_rows\"]), # Number of observations\n",
    "            \"None\", # Restrictions to Data Use\n",
    "            md.make_hlink(\"https://explore.ukllc.ac.uk/\",\"https://explore.ukllc.ac.uk/\") # Build a data request\n",
    "        ]\n",
    "        ]\n",
    "\n",
    "    df_ss_info = pd.DataFrame(ds_info_list, index=[\"Dataset Descriptor\", \"Dataset-specific Information\"]).T\n",
    "    df_ss_info = dh.style_table(\"_\", df_ss_info)\n",
    "    df_ss_info\n",
    "    "
   ]
  }
 ],
 "metadata": {},
 "nbformat": 4,
 "nbformat_minor": 5
}
