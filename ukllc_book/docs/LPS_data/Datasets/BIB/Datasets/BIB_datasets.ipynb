{
 "cells": [
  {
   "cell_type": "markdown",
   "id": "834fe05f",
   "metadata": {},
   "source": [
    "# Born in Bradford (BiB) Datasets"
   ]
  },
  {
   "cell_type": "code",
   "execution_count": 1,
   "id": "9717ef56",
   "metadata": {
    "execution": {
     "iopub.execute_input": "2025-07-17T15:07:40.833262Z",
     "iopub.status.busy": "2025-07-17T15:07:40.832264Z",
     "iopub.status.idle": "2025-07-17T15:07:44.474449Z",
     "shell.execute_reply": "2025-07-17T15:07:44.472366Z"
    },
    "tags": [
     "remove-input"
    ]
   },
   "outputs": [
    {
     "data": {
      "text/markdown": [
       ">Last modified: 17 Jul 2025"
      ],
      "text/plain": [
       "<IPython.core.display.Markdown object>"
      ]
     },
     "metadata": {},
     "output_type": "display_data"
    }
   ],
   "source": [
    "\n",
    "import sys\n",
    "import os\n",
    "sys.path.append(os.path.abspath('../../../../scripts/'))\n",
    "from data_doc_helper import LPSSource as SS, last_modified\n",
    "API_KEY = os.environ['FASTAPI_KEY']\n",
    "ss = SS(\"BIB\")\n",
    "last_modified()\n"
   ]
  },
  {
   "cell_type": "markdown",
   "id": "e853f13b",
   "metadata": {},
   "source": [
    "## 1. Datasets"
   ]
  },
  {
   "cell_type": "code",
   "execution_count": 2,
   "id": "f023672d",
   "metadata": {
    "execution": {
     "iopub.execute_input": "2025-07-17T15:07:44.483418Z",
     "iopub.status.busy": "2025-07-17T15:07:44.482415Z",
     "iopub.status.idle": "2025-07-17T15:07:44.492961Z",
     "shell.execute_reply": "2025-07-17T15:07:44.491440Z"
    },
    "tags": [
     "remove-input"
    ]
   },
   "outputs": [
    {
     "data": {
      "text/markdown": [
       "**Table 1:** Datasets and metrics in the UK LLC belonging to BIB."
      ],
      "text/plain": [
       "<IPython.core.display.Markdown object>"
      ]
     },
     "metadata": {},
     "output_type": "display_data"
    }
   ],
   "source": [
    "ss.table_caption_ds()"
   ]
  },
  {
   "cell_type": "code",
   "execution_count": 3,
   "id": "a1afa7fa",
   "metadata": {
    "execution": {
     "iopub.execute_input": "2025-07-17T15:07:44.501001Z",
     "iopub.status.busy": "2025-07-17T15:07:44.499951Z",
     "iopub.status.idle": "2025-07-17T15:07:46.873872Z",
     "shell.execute_reply": "2025-07-17T15:07:46.871853Z"
    },
    "tags": [
     "remove-input",
     "hide-cell"
    ]
   },
   "outputs": [
    {
     "data": {
      "text/html": [
       "<style type=\"text/css\">\n",
       "#T_32fac th {\n",
       "  text-align: left;\n",
       "}\n",
       "#T_32fac_row0_col0, #T_32fac_row0_col1, #T_32fac_row0_col2, #T_32fac_row0_col3, #T_32fac_row0_col4, #T_32fac_row1_col0, #T_32fac_row1_col1, #T_32fac_row1_col2, #T_32fac_row1_col3, #T_32fac_row1_col4, #T_32fac_row2_col0, #T_32fac_row2_col1, #T_32fac_row2_col2, #T_32fac_row2_col3, #T_32fac_row2_col4, #T_32fac_row3_col0, #T_32fac_row3_col1, #T_32fac_row3_col2, #T_32fac_row3_col3, #T_32fac_row3_col4, #T_32fac_row4_col0, #T_32fac_row4_col1, #T_32fac_row4_col2, #T_32fac_row4_col3, #T_32fac_row4_col4, #T_32fac_row5_col0, #T_32fac_row5_col1, #T_32fac_row5_col2, #T_32fac_row5_col3, #T_32fac_row5_col4, #T_32fac_row6_col0, #T_32fac_row6_col1, #T_32fac_row6_col2, #T_32fac_row6_col3, #T_32fac_row6_col4, #T_32fac_row7_col0, #T_32fac_row7_col1, #T_32fac_row7_col2, #T_32fac_row7_col3, #T_32fac_row7_col4, #T_32fac_row8_col0, #T_32fac_row8_col1, #T_32fac_row8_col2, #T_32fac_row8_col3, #T_32fac_row8_col4, #T_32fac_row9_col0, #T_32fac_row9_col1, #T_32fac_row9_col2, #T_32fac_row9_col3, #T_32fac_row9_col4, #T_32fac_row10_col0, #T_32fac_row10_col1, #T_32fac_row10_col2, #T_32fac_row10_col3, #T_32fac_row10_col4, #T_32fac_row11_col0, #T_32fac_row11_col1, #T_32fac_row11_col2, #T_32fac_row11_col3, #T_32fac_row11_col4, #T_32fac_row12_col0, #T_32fac_row12_col1, #T_32fac_row12_col2, #T_32fac_row12_col3, #T_32fac_row12_col4, #T_32fac_row13_col0, #T_32fac_row13_col1, #T_32fac_row13_col2, #T_32fac_row13_col3, #T_32fac_row13_col4, #T_32fac_row14_col0, #T_32fac_row14_col1, #T_32fac_row14_col2, #T_32fac_row14_col3, #T_32fac_row14_col4, #T_32fac_row15_col0, #T_32fac_row15_col1, #T_32fac_row15_col2, #T_32fac_row15_col3, #T_32fac_row15_col4 {\n",
       "  text-align: left;\n",
       "}\n",
       "</style>\n",
       "<table id=\"T_32fac\" style=\"font-size: 14px\">\n",
       "  <thead>\n",
       "    <tr>\n",
       "      <th id=\"T_32fac_level0_col0\" class=\"col_heading level0 col0\" >Dataset</th>\n",
       "      <th id=\"T_32fac_level0_col1\" class=\"col_heading level0 col1\" >Dataset Name</th>\n",
       "      <th id=\"T_32fac_level0_col2\" class=\"col_heading level0 col2\" ># Participants</th>\n",
       "      <th id=\"T_32fac_level0_col3\" class=\"col_heading level0 col3\" ># Observations</th>\n",
       "      <th id=\"T_32fac_level0_col4\" class=\"col_heading level0 col4\" ># Variables</th>\n",
       "    </tr>\n",
       "  </thead>\n",
       "  <tbody>\n",
       "    <tr>\n",
       "      <td id=\"T_32fac_row0_col0\" class=\"data row0 col0\" > <a href=\"nmrmetabolomics_mother.html\">nmrmetabolomics_mother</a></td>\n",
       "      <td id=\"T_32fac_row0_col1\" class=\"data row0 col1\" >NMR Metabolomics Mother</td>\n",
       "      <td id=\"T_32fac_row0_col2\" class=\"data row0 col2\" >10160</td>\n",
       "      <td id=\"T_32fac_row0_col3\" class=\"data row0 col3\" >29469</td>\n",
       "      <td id=\"T_32fac_row0_col4\" class=\"data row0 col4\" >245</td>\n",
       "    </tr>\n",
       "    <tr>\n",
       "      <td id=\"T_32fac_row1_col0\" class=\"data row1 col0\" > <a href=\"CV_W2.html\">CV_W2</a></td>\n",
       "      <td id=\"T_32fac_row1_col1\" class=\"data row1 col1\" >COVID-19 Wave 2</td>\n",
       "      <td id=\"T_32fac_row1_col2\" class=\"data row1 col2\" >631</td>\n",
       "      <td id=\"T_32fac_row1_col3\" class=\"data row1 col3\" >28591</td>\n",
       "      <td id=\"T_32fac_row1_col4\" class=\"data row1 col4\" >449</td>\n",
       "    </tr>\n",
       "    <tr>\n",
       "      <td id=\"T_32fac_row2_col0\" class=\"data row2 col0\" > <a href=\"CV_W1.html\">CV_W1</a></td>\n",
       "      <td id=\"T_32fac_row2_col1\" class=\"data row2 col1\" >COVID-19 Wave 1</td>\n",
       "      <td id=\"T_32fac_row2_col2\" class=\"data row2 col2\" >1560</td>\n",
       "      <td id=\"T_32fac_row2_col3\" class=\"data row2 col3\" >28591</td>\n",
       "      <td id=\"T_32fac_row2_col4\" class=\"data row2 col4\" >176</td>\n",
       "    </tr>\n",
       "    <tr>\n",
       "      <td id=\"T_32fac_row3_col0\" class=\"data row3 col0\" > <a href=\"CV19child_P3survey.html\">CV19child_P3survey</a></td>\n",
       "      <td id=\"T_32fac_row3_col1\" class=\"data row3 col1\" >COVID-19 Child Phase 3 Survey</td>\n",
       "      <td id=\"T_32fac_row3_col2\" class=\"data row3 col2\" >586</td>\n",
       "      <td id=\"T_32fac_row3_col3\" class=\"data row3 col3\" >28591</td>\n",
       "      <td id=\"T_32fac_row3_col4\" class=\"data row3 col4\" >60</td>\n",
       "    </tr>\n",
       "    <tr>\n",
       "      <td id=\"T_32fac_row4_col0\" class=\"data row4 col0\" > <a href=\"CV19child_P3sdq.html\">CV19child_P3sdq</a></td>\n",
       "      <td id=\"T_32fac_row4_col1\" class=\"data row4 col1\" >COVID-19 Child Phase 3 Strengths and Difficulties Questionnaire</td>\n",
       "      <td id=\"T_32fac_row4_col2\" class=\"data row4 col2\" >582</td>\n",
       "      <td id=\"T_32fac_row4_col3\" class=\"data row4 col3\" >28591</td>\n",
       "      <td id=\"T_32fac_row4_col4\" class=\"data row4 col4\" >40</td>\n",
       "    </tr>\n",
       "    <tr>\n",
       "      <td id=\"T_32fac_row5_col0\" class=\"data row5 col0\" > <a href=\"CV19child_P2sdq.html\">CV19child_P2sdq</a></td>\n",
       "      <td id=\"T_32fac_row5_col1\" class=\"data row5 col1\" >COVID-19 Child Phase 2 Strengths and Difficulties Questionnaire</td>\n",
       "      <td id=\"T_32fac_row5_col2\" class=\"data row5 col2\" >631</td>\n",
       "      <td id=\"T_32fac_row5_col3\" class=\"data row5 col3\" >28591</td>\n",
       "      <td id=\"T_32fac_row5_col4\" class=\"data row5 col4\" >42</td>\n",
       "    </tr>\n",
       "    <tr>\n",
       "      <td id=\"T_32fac_row6_col0\" class=\"data row6 col0\" > <a href=\"CV19child_P1survey.html\">CV19child_P1survey</a></td>\n",
       "      <td id=\"T_32fac_row6_col1\" class=\"data row6 col1\" >COVID-19 Child Phase 1 Survey</td>\n",
       "      <td id=\"T_32fac_row6_col2\" class=\"data row6 col2\" >940</td>\n",
       "      <td id=\"T_32fac_row6_col3\" class=\"data row6 col3\" >28591</td>\n",
       "      <td id=\"T_32fac_row6_col4\" class=\"data row6 col4\" >122</td>\n",
       "    </tr>\n",
       "    <tr>\n",
       "      <td id=\"T_32fac_row7_col0\" class=\"data row7 col0\" > <a href=\"CV19child_P1sdq.html\">CV19child_P1sdq</a></td>\n",
       "      <td id=\"T_32fac_row7_col1\" class=\"data row7 col1\" >COVID-19 Child Phase 1 Strengths and Difficulties Questionnaire</td>\n",
       "      <td id=\"T_32fac_row7_col2\" class=\"data row7 col2\" >886</td>\n",
       "      <td id=\"T_32fac_row7_col3\" class=\"data row7 col3\" >28591</td>\n",
       "      <td id=\"T_32fac_row7_col4\" class=\"data row7 col4\" >42</td>\n",
       "    </tr>\n",
       "    <tr>\n",
       "      <td id=\"T_32fac_row8_col0\" class=\"data row8 col0\" > <a href=\"CV19adult_P3.html\">CV19adult_P3</a></td>\n",
       "      <td id=\"T_32fac_row8_col1\" class=\"data row8 col1\" >COVID-19 Adult Phase 3 </td>\n",
       "      <td id=\"T_32fac_row8_col2\" class=\"data row8 col2\" >1158</td>\n",
       "      <td id=\"T_32fac_row8_col3\" class=\"data row8 col3\" >1184</td>\n",
       "      <td id=\"T_32fac_row8_col4\" class=\"data row8 col4\" >162</td>\n",
       "    </tr>\n",
       "    <tr>\n",
       "      <td id=\"T_32fac_row9_col0\" class=\"data row9 col0\" > <a href=\"CV19adult_P1.html\">CV19adult_P1</a></td>\n",
       "      <td id=\"T_32fac_row9_col1\" class=\"data row9 col1\" >COVID-19 Adult Phase 1 </td>\n",
       "      <td id=\"T_32fac_row9_col2\" class=\"data row9 col2\" >1557</td>\n",
       "      <td id=\"T_32fac_row9_col3\" class=\"data row9 col3\" >28591</td>\n",
       "      <td id=\"T_32fac_row9_col4\" class=\"data row9 col4\" >178</td>\n",
       "    </tr>\n",
       "    <tr>\n",
       "      <td id=\"T_32fac_row10_col0\" class=\"data row10 col0\" > <a href=\"CV19child_P2survey.html\">CV19child_P2survey</a></td>\n",
       "      <td id=\"T_32fac_row10_col1\" class=\"data row10 col1\" >COVID-19 Child Phase 2 Survey</td>\n",
       "      <td id=\"T_32fac_row10_col2\" class=\"data row10 col2\" >633</td>\n",
       "      <td id=\"T_32fac_row10_col3\" class=\"data row10 col3\" >28591</td>\n",
       "      <td id=\"T_32fac_row10_col4\" class=\"data row10 col4\" >101</td>\n",
       "    </tr>\n",
       "    <tr>\n",
       "      <td id=\"T_32fac_row11_col0\" class=\"data row11 col0\" > <a href=\"nmrmetabolomics_baby.html\">nmrmetabolomics_baby</a></td>\n",
       "      <td id=\"T_32fac_row11_col1\" class=\"data row11 col1\" >NMR Metabolomics Baby</td>\n",
       "      <td id=\"T_32fac_row11_col2\" class=\"data row11 col2\" >7650</td>\n",
       "      <td id=\"T_32fac_row11_col3\" class=\"data row11 col3\" >28591</td>\n",
       "      <td id=\"T_32fac_row11_col4\" class=\"data row11 col4\" >110</td>\n",
       "    </tr>\n",
       "    <tr>\n",
       "      <td id=\"T_32fac_row12_col0\" class=\"data row12 col0\" > <a href=\"nmrmetabolomics_infant24.html\">nmrmetabolomics_infant24</a></td>\n",
       "      <td id=\"T_32fac_row12_col1\" class=\"data row12 col1\" >NMR Metabolomics Infant 24</td>\n",
       "      <td id=\"T_32fac_row12_col2\" class=\"data row12 col2\" >1519</td>\n",
       "      <td id=\"T_32fac_row12_col3\" class=\"data row12 col3\" >28591</td>\n",
       "      <td id=\"T_32fac_row12_col4\" class=\"data row12 col4\" >256</td>\n",
       "    </tr>\n",
       "    <tr>\n",
       "      <td id=\"T_32fac_row13_col0\" class=\"data row13 col0\" > <a href=\"nmrmetabolomics_infant12.html\">nmrmetabolomics_infant12</a></td>\n",
       "      <td id=\"T_32fac_row13_col1\" class=\"data row13 col1\" >NMR Metabolomics Infant 12</td>\n",
       "      <td id=\"T_32fac_row13_col2\" class=\"data row13 col2\" >1663</td>\n",
       "      <td id=\"T_32fac_row13_col3\" class=\"data row13 col3\" >28591</td>\n",
       "      <td id=\"T_32fac_row13_col4\" class=\"data row13 col4\" >256</td>\n",
       "    </tr>\n",
       "    <tr>\n",
       "      <td id=\"T_32fac_row14_col0\" class=\"data row14 col0\" > <a href=\"CV19adult_P3a.html\">CV19adult_P3a</a></td>\n",
       "      <td id=\"T_32fac_row14_col1\" class=\"data row14 col1\" >COVID-19 Adult Phase 3 A</td>\n",
       "      <td id=\"T_32fac_row14_col2\" class=\"data row14 col2\" >1139</td>\n",
       "      <td id=\"T_32fac_row14_col3\" class=\"data row14 col3\" >28591</td>\n",
       "      <td id=\"T_32fac_row14_col4\" class=\"data row14 col4\" >159</td>\n",
       "    </tr>\n",
       "    <tr>\n",
       "      <td id=\"T_32fac_row15_col0\" class=\"data row15 col0\" > <a href=\"SOCIODEMO.html\">SOCIODEMO</a></td>\n",
       "      <td id=\"T_32fac_row15_col1\" class=\"data row15 col1\" >Sociodemographics</td>\n",
       "      <td id=\"T_32fac_row15_col2\" class=\"data row15 col2\" >28213</td>\n",
       "      <td id=\"T_32fac_row15_col3\" class=\"data row15 col3\" >28591</td>\n",
       "      <td id=\"T_32fac_row15_col4\" class=\"data row15 col4\" >57</td>\n",
       "    </tr>\n",
       "  </tbody>\n",
       "</table>\n"
      ],
      "text/plain": [
       "<pandas.io.formats.style.Styler at 0x22e7549b860>"
      ]
     },
     "execution_count": 3,
     "metadata": {},
     "output_type": "execute_result"
    }
   ],
   "source": [
    "ss.datasets()"
   ]
  }
 ],
 "metadata": {
  "language_info": {
   "codemirror_mode": {
    "name": "ipython",
    "version": 3
   },
   "file_extension": ".py",
   "mimetype": "text/x-python",
   "name": "python",
   "nbconvert_exporter": "python",
   "pygments_lexer": "ipython3",
   "version": "3.12.7"
  },
  "mystnb": {
   "code_prompt_hide": "Hide Datasets",
   "code_prompt_show": "Show Datasets"
  }
 },
 "nbformat": 4,
 "nbformat_minor": 5
}
