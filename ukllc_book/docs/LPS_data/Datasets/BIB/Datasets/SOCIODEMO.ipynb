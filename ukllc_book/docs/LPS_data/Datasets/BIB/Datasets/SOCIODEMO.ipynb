{
 "cells": [
  {
   "cell_type": "markdown",
   "id": "da777a06",
   "metadata": {},
   "source": [
    "# Sociodemographics (BIB)"
   ]
  },
  {
   "cell_type": "code",
   "execution_count": 1,
   "id": "1fb76109",
   "metadata": {
    "execution": {
     "iopub.execute_input": "2025-07-28T18:07:29.632988Z",
     "iopub.status.busy": "2025-07-28T18:07:29.631989Z",
     "iopub.status.idle": "2025-07-28T18:07:41.767366Z",
     "shell.execute_reply": "2025-07-28T18:07:41.766358Z"
    },
    "tags": [
     "remove-input"
    ]
   },
   "outputs": [
    {
     "data": {
      "text/markdown": [
       ">Last modified: 28 Jul 2025"
      ],
      "text/plain": [
       "<IPython.core.display.Markdown object>"
      ]
     },
     "metadata": {},
     "output_type": "display_data"
    }
   ],
   "source": [
    "\n",
    "import sys\n",
    "import os\n",
    "sys.path.append(os.path.abspath('../../../../scripts/'))\n",
    "from data_doc_helper import LPSDataSet as DS, last_modified\n",
    "API_KEY = os.environ['FASTAPI_KEY']\n",
    "ds = DS(\"BIB\", \"SOCIODEMO\")\n",
    "last_modified()\n"
   ]
  },
  {
   "cell_type": "markdown",
   "id": "0c16d672",
   "metadata": {},
   "source": [
    "## 1. Summary"
   ]
  },
  {
   "cell_type": "code",
   "execution_count": 2,
   "id": "3544ad4a",
   "metadata": {
    "execution": {
     "iopub.execute_input": "2025-07-28T18:07:41.771373Z",
     "iopub.status.busy": "2025-07-28T18:07:41.771373Z",
     "iopub.status.idle": "2025-07-28T18:07:41.776617Z",
     "shell.execute_reply": "2025-07-28T18:07:41.776617Z"
    },
    "tags": [
     "remove-input"
    ]
   },
   "outputs": [
    {
     "data": {
      "text/markdown": [
       "Combines data from four BiB surveys to provide detailed socio-demographic information to complement the COVID Wave 1 and Wave 2 surveys. Variables  span multiple time points where data is available. Additional variables from Baseline have been included to provide contextual infromation for individuals who did not take part in the COVID studies or Growing Up. Please note that this block includes adults and children; children can be idetified as participants with a value of 0 for BiB_age_y"
      ],
      "text/plain": [
       "<IPython.core.display.Markdown object>"
      ]
     },
     "metadata": {},
     "output_type": "display_data"
    }
   ],
   "source": [
    "ds.summary()"
   ]
  },
  {
   "cell_type": "code",
   "execution_count": 3,
   "id": "fb329748",
   "metadata": {
    "execution": {
     "iopub.execute_input": "2025-07-28T18:07:41.778623Z",
     "iopub.status.busy": "2025-07-28T18:07:41.778623Z",
     "iopub.status.idle": "2025-07-28T18:07:42.777366Z",
     "shell.execute_reply": "2025-07-28T18:07:42.776270Z"
    },
    "tags": [
     "remove-input"
    ]
   },
   "outputs": [
    {
     "data": {
      "text/html": [
       "<style type=\"text/css\">\n",
       "#T_81a78 th {\n",
       "  text-align: left;\n",
       "}\n",
       "#T_81a78_row0_col0, #T_81a78_row0_col1, #T_81a78_row1_col0, #T_81a78_row1_col1, #T_81a78_row2_col0, #T_81a78_row2_col1, #T_81a78_row3_col0, #T_81a78_row3_col1, #T_81a78_row4_col0, #T_81a78_row4_col1, #T_81a78_row5_col0, #T_81a78_row5_col1, #T_81a78_row6_col0, #T_81a78_row6_col1, #T_81a78_row7_col0, #T_81a78_row7_col1, #T_81a78_row8_col0, #T_81a78_row8_col1, #T_81a78_row9_col0, #T_81a78_row9_col1, #T_81a78_row10_col0, #T_81a78_row10_col1, #T_81a78_row11_col0, #T_81a78_row11_col1, #T_81a78_row12_col0, #T_81a78_row12_col1 {\n",
       "  text-align: left;\n",
       "}\n",
       "</style>\n",
       "<table id=\"T_81a78\" style=\"font-size: 14px\">\n",
       "  <thead>\n",
       "    <tr>\n",
       "      <th id=\"T_81a78_level0_col0\" class=\"col_heading level0 col0\" >Dataset Descriptor</th>\n",
       "      <th id=\"T_81a78_level0_col1\" class=\"col_heading level0 col1\" >Dataset-specific Information</th>\n",
       "    </tr>\n",
       "  </thead>\n",
       "  <tbody>\n",
       "    <tr>\n",
       "      <td id=\"T_81a78_row0_col0\" class=\"data row0 col0\" >Name of Dataset in TRE</td>\n",
       "      <td id=\"T_81a78_row0_col1\" class=\"data row0 col1\" >BIB_SOCIODEMO</td>\n",
       "    </tr>\n",
       "    <tr>\n",
       "      <td id=\"T_81a78_row1_col0\" class=\"data row1 col0\" >Citation (APA)</td>\n",
       "      <td id=\"T_81a78_row1_col1\" class=\"data row1 col1\" >Bradford Institute for Health Research, Bradford Teaching Hospitals NHS Foundation Trust. (2022). <i>Born in Bradford (BiB): Sociodemographics.</i> UK Longitudinal Linkage Collaboration (UK LLC).  <a href=\"https://doi.org/10.71760/ukllc-dataset-00081-06\" rel=\"noopener noreferrer\" target=\"_blank\">https://doi.org/10.71760/ukllc-dataset-00081-06</a></td>\n",
       "    </tr>\n",
       "    <tr>\n",
       "      <td id=\"T_81a78_row2_col0\" class=\"data row2 col0\" >Download Citation</td>\n",
       "      <td id=\"T_81a78_row2_col1\" class=\"data row2 col1\" > <a href=\"https://api.datacite.org/application/vnd.citationstyles.csl+json/10.71760/ukllc-dataset-00081-06\" rel=\"noopener noreferrer\" target=\"_blank\">Citeproc JSON</a>&nbsp;&nbsp;&nbsp;&nbsp; <a href=\"https://api.datacite.org/application/x-bibtex/10.71760/ukllc-dataset-00081-06\" rel=\"noopener noreferrer\" target=\"_blank\">BibTeX</a>&nbsp;&nbsp;&nbsp;&nbsp; <a href=\"https://api.datacite.org/application/x-research-info-systems/10.71760/ukllc-dataset-00081-06\" rel=\"noopener noreferrer\" target=\"_blank\">RIS</a></td>\n",
       "    </tr>\n",
       "    <tr>\n",
       "      <td id=\"T_81a78_row3_col0\" class=\"data row3 col0\" >Series</td>\n",
       "      <td id=\"T_81a78_row3_col1\" class=\"data row3 col1\" > <a href=\"https://guidebook.ukllc.ac.uk/docs/lps_data/lps%20profiles/BIB\">Born in Bradford (BiB)</a></td>\n",
       "    </tr>\n",
       "    <tr>\n",
       "      <td id=\"T_81a78_row4_col0\" class=\"data row4 col0\" >Owner</td>\n",
       "      <td id=\"T_81a78_row4_col1\" class=\"data row4 col1\" >Bradford Teaching Hospitals NHS Foundation Trust</td>\n",
       "    </tr>\n",
       "    <tr>\n",
       "      <td id=\"T_81a78_row5_col0\" class=\"data row5 col0\" >Temporal Coverage</td>\n",
       "      <td id=\"T_81a78_row5_col1\" class=\"data row5 col1\" >03/2007 - 01/2021</td>\n",
       "    </tr>\n",
       "    <tr>\n",
       "      <td id=\"T_81a78_row6_col0\" class=\"data row6 col0\" >Keywords</td>\n",
       "      <td id=\"T_81a78_row6_col1\" class=\"data row6 col1\" ></td>\n",
       "    </tr>\n",
       "    <tr>\n",
       "      <td id=\"T_81a78_row7_col0\" class=\"data row7 col0\" >Participants Invited</td>\n",
       "      <td id=\"T_81a78_row7_col1\" class=\"data row7 col1\" >In process</td>\n",
       "    </tr>\n",
       "    <tr>\n",
       "      <td id=\"T_81a78_row8_col0\" class=\"data row8 col0\" >Participant Count</td>\n",
       "      <td id=\"T_81a78_row8_col1\" class=\"data row8 col1\" >28213</td>\n",
       "    </tr>\n",
       "    <tr>\n",
       "      <td id=\"T_81a78_row9_col0\" class=\"data row9 col0\" >Number of variables</td>\n",
       "      <td id=\"T_81a78_row9_col1\" class=\"data row9 col1\" >59</td>\n",
       "    </tr>\n",
       "    <tr>\n",
       "      <td id=\"T_81a78_row10_col0\" class=\"data row10 col0\" >Number of observations</td>\n",
       "      <td id=\"T_81a78_row10_col1\" class=\"data row10 col1\" >28591</td>\n",
       "    </tr>\n",
       "    <tr>\n",
       "      <td id=\"T_81a78_row11_col0\" class=\"data row11 col0\" >Specific Restrictions to Data Use</td>\n",
       "      <td id=\"T_81a78_row11_col1\" class=\"data row11 col1\" >None</td>\n",
       "    </tr>\n",
       "    <tr>\n",
       "      <td id=\"T_81a78_row12_col0\" class=\"data row12 col0\" >Build a Data Request</td>\n",
       "      <td id=\"T_81a78_row12_col1\" class=\"data row12 col1\" > <a href=\"https://explore.ukllc.ac.uk/\" rel=\"noopener noreferrer\" target=\"_blank\">https://explore.ukllc.ac.uk/</a></td>\n",
       "    </tr>\n",
       "  </tbody>\n",
       "</table>\n"
      ],
      "text/plain": [
       "<pandas.io.formats.style.Styler at 0x1cf0522bfe0>"
      ]
     },
     "execution_count": 3,
     "metadata": {},
     "output_type": "execute_result"
    }
   ],
   "source": [
    "ds.info_table()"
   ]
  },
  {
   "cell_type": "markdown",
   "id": "d8d4b3d3",
   "metadata": {},
   "source": [
    "## 2. Version History"
   ]
  },
  {
   "cell_type": "code",
   "execution_count": 4,
   "id": "b2701888",
   "metadata": {
    "execution": {
     "iopub.execute_input": "2025-07-28T18:07:42.783225Z",
     "iopub.status.busy": "2025-07-28T18:07:42.783225Z",
     "iopub.status.idle": "2025-07-28T18:07:48.387093Z",
     "shell.execute_reply": "2025-07-28T18:07:48.385087Z"
    },
    "tags": [
     "remove-input"
    ]
   },
   "outputs": [
    {
     "data": {
      "text/html": [
       "<style type=\"text/css\">\n",
       "#T_a51a4 th {\n",
       "  text-align: left;\n",
       "}\n",
       "#T_a51a4_row0_col0, #T_a51a4_row0_col1, #T_a51a4_row0_col2, #T_a51a4_row0_col3, #T_a51a4_row0_col4, #T_a51a4_row1_col0, #T_a51a4_row1_col1, #T_a51a4_row1_col2, #T_a51a4_row1_col3, #T_a51a4_row1_col4, #T_a51a4_row2_col0, #T_a51a4_row2_col1, #T_a51a4_row2_col2, #T_a51a4_row2_col3, #T_a51a4_row2_col4, #T_a51a4_row3_col0, #T_a51a4_row3_col1, #T_a51a4_row3_col2, #T_a51a4_row3_col3, #T_a51a4_row3_col4, #T_a51a4_row4_col0, #T_a51a4_row4_col1, #T_a51a4_row4_col2, #T_a51a4_row4_col3, #T_a51a4_row4_col4 {\n",
       "  text-align: left;\n",
       "}\n",
       "</style>\n",
       "<table id=\"T_a51a4\" style=\"font-size: 14px\">\n",
       "  <thead>\n",
       "    <tr>\n",
       "      <th id=\"T_a51a4_level0_col0\" class=\"col_heading level0 col0\" >Version</th>\n",
       "      <th id=\"T_a51a4_level0_col1\" class=\"col_heading level0 col1\" >1</th>\n",
       "      <th id=\"T_a51a4_level0_col2\" class=\"col_heading level0 col2\" >4</th>\n",
       "      <th id=\"T_a51a4_level0_col3\" class=\"col_heading level0 col3\" >5</th>\n",
       "      <th id=\"T_a51a4_level0_col4\" class=\"col_heading level0 col4\" >6</th>\n",
       "    </tr>\n",
       "  </thead>\n",
       "  <tbody>\n",
       "    <tr>\n",
       "      <td id=\"T_a51a4_row0_col0\" class=\"data row0 col0\" >Version Date</td>\n",
       "      <td id=\"T_a51a4_row0_col1\" class=\"data row0 col1\" >18 Jan 2022</td>\n",
       "      <td id=\"T_a51a4_row0_col2\" class=\"data row0 col2\" >10 Aug 2022</td>\n",
       "      <td id=\"T_a51a4_row0_col3\" class=\"data row0 col3\" >13 Sep 2022</td>\n",
       "      <td id=\"T_a51a4_row0_col4\" class=\"data row0 col4\" >25 Oct 2022</td>\n",
       "    </tr>\n",
       "    <tr>\n",
       "      <td id=\"T_a51a4_row1_col0\" class=\"data row1 col0\" >Number of Variables</td>\n",
       "      <td id=\"T_a51a4_row1_col1\" class=\"data row1 col1\" >57</td>\n",
       "      <td id=\"T_a51a4_row1_col2\" class=\"data row1 col2\" >58</td>\n",
       "      <td id=\"T_a51a4_row1_col3\" class=\"data row1 col3\" >58</td>\n",
       "      <td id=\"T_a51a4_row1_col4\" class=\"data row1 col4\" >57</td>\n",
       "    </tr>\n",
       "    <tr>\n",
       "      <td id=\"T_a51a4_row2_col0\" class=\"data row2 col0\" >Number of Observations</td>\n",
       "      <td id=\"T_a51a4_row2_col1\" class=\"data row2 col1\" >28591</td>\n",
       "      <td id=\"T_a51a4_row2_col2\" class=\"data row2 col2\" >28591</td>\n",
       "      <td id=\"T_a51a4_row2_col3\" class=\"data row2 col3\" >28591</td>\n",
       "      <td id=\"T_a51a4_row2_col4\" class=\"data row2 col4\" >28591</td>\n",
       "    </tr>\n",
       "    <tr>\n",
       "      <td id=\"T_a51a4_row3_col0\" class=\"data row3 col0\" >DOI</td>\n",
       "      <td id=\"T_a51a4_row3_col1\" class=\"data row3 col1\" > <a href=\"https://doi.org/10.71760/ukllc-dataset-00081-01\" rel=\"noopener noreferrer\" target=\"_blank\">10.71760/ukllc-dataset-00081-01</a></td>\n",
       "      <td id=\"T_a51a4_row3_col2\" class=\"data row3 col2\" > <a href=\"https://doi.org/10.71760/ukllc-dataset-00081-04\" rel=\"noopener noreferrer\" target=\"_blank\">10.71760/ukllc-dataset-00081-04</a></td>\n",
       "      <td id=\"T_a51a4_row3_col3\" class=\"data row3 col3\" > <a href=\"https://doi.org/10.71760/ukllc-dataset-00081-05\" rel=\"noopener noreferrer\" target=\"_blank\">10.71760/ukllc-dataset-00081-05</a></td>\n",
       "      <td id=\"T_a51a4_row3_col4\" class=\"data row3 col4\" > <a href=\"https://doi.org/10.71760/ukllc-dataset-00081-06\" rel=\"noopener noreferrer\" target=\"_blank\">10.71760/ukllc-dataset-00081-06</a></td>\n",
       "    </tr>\n",
       "    <tr>\n",
       "      <td id=\"T_a51a4_row4_col0\" class=\"data row4 col0\" >Change Log</td>\n",
       "      <td id=\"T_a51a4_row4_col1\" class=\"data row4 col1\" > <a href=\"https://api.test.datacite.org/dois/10.71760/ukllc-dataset-00081-01/activities\" rel=\"noopener noreferrer\" target=\"_blank\">10.71760/ukllc-dataset-00081-01/activities</a></td>\n",
       "      <td id=\"T_a51a4_row4_col2\" class=\"data row4 col2\" > <a href=\"https://api.test.datacite.org/dois/10.71760/ukllc-dataset-00081-04/activities\" rel=\"noopener noreferrer\" target=\"_blank\">10.71760/ukllc-dataset-00081-04/activities</a></td>\n",
       "      <td id=\"T_a51a4_row4_col3\" class=\"data row4 col3\" > <a href=\"https://api.test.datacite.org/dois/10.71760/ukllc-dataset-00081-05/activities\" rel=\"noopener noreferrer\" target=\"_blank\">10.71760/ukllc-dataset-00081-05/activities</a></td>\n",
       "      <td id=\"T_a51a4_row4_col4\" class=\"data row4 col4\" > <a href=\"https://api.test.datacite.org/dois/10.71760/ukllc-dataset-00081-06/activities\" rel=\"noopener noreferrer\" target=\"_blank\">10.71760/ukllc-dataset-00081-06/activities</a></td>\n",
       "    </tr>\n",
       "  </tbody>\n",
       "</table>\n"
      ],
      "text/plain": [
       "<pandas.io.formats.style.Styler at 0x1cf0aefd1c0>"
      ]
     },
     "execution_count": 4,
     "metadata": {},
     "output_type": "execute_result"
    }
   ],
   "source": [
    "ds.version_history()"
   ]
  },
  {
   "cell_type": "markdown",
   "id": "bd90d4b2",
   "metadata": {},
   "source": [
    "## 3. Documentation"
   ]
  },
  {
   "cell_type": "code",
   "execution_count": 5,
   "id": "50a7c6b9",
   "metadata": {
    "execution": {
     "iopub.execute_input": "2025-07-28T18:07:48.396094Z",
     "iopub.status.busy": "2025-07-28T18:07:48.395094Z",
     "iopub.status.idle": "2025-07-28T18:07:48.414606Z",
     "shell.execute_reply": "2025-07-28T18:07:48.407600Z"
    },
    "tags": [
     "remove-input"
    ]
   },
   "outputs": [
    {
     "data": {
      "text/markdown": [
       "We are currently building a documentation storage system which will host useful documents related to datasets and data owners. We will surface these documents on Guidebook."
      ],
      "text/plain": [
       "<IPython.core.display.Markdown object>"
      ]
     },
     "metadata": {},
     "output_type": "display_data"
    }
   ],
   "source": [
    "ds.documentation()"
   ]
  },
  {
   "cell_type": "markdown",
   "id": "b58c4ec8",
   "metadata": {},
   "source": [
    "## 4. Useful Syntax"
   ]
  },
  {
   "cell_type": "code",
   "execution_count": 6,
   "id": "b18296b8",
   "metadata": {
    "execution": {
     "iopub.execute_input": "2025-07-28T18:07:48.421606Z",
     "iopub.status.busy": "2025-07-28T18:07:48.420607Z",
     "iopub.status.idle": "2025-07-28T18:07:48.431435Z",
     "shell.execute_reply": "2025-07-28T18:07:48.429429Z"
    },
    "tags": [
     "remove-input"
    ]
   },
   "outputs": [
    {
     "data": {
      "text/markdown": [
       "Below we will include syntax that may be helpful to other researchers in the UK LLC TRE. For longer scripts, we will include a snippet of the code plus a link to Git where you can find the full scripts."
      ],
      "text/plain": [
       "<IPython.core.display.Markdown object>"
      ]
     },
     "metadata": {},
     "output_type": "display_data"
    }
   ],
   "source": [
    "ds.useful_syntax()"
   ]
  }
 ],
 "metadata": {
  "language_info": {
   "codemirror_mode": {
    "name": "ipython",
    "version": 3
   },
   "file_extension": ".py",
   "mimetype": "text/x-python",
   "name": "python",
   "nbconvert_exporter": "python",
   "pygments_lexer": "ipython3",
   "version": "3.12.7"
  }
 },
 "nbformat": 4,
 "nbformat_minor": 5
}
