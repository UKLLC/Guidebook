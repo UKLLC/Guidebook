{
 "cells": [
  {
   "cell_type": "markdown",
   "id": "c935d222",
   "metadata": {},
   "source": [
    "# COVID-19 Child Phase 2 Strengths and Difficulties Questionnaire (BIB)"
   ]
  },
  {
   "cell_type": "code",
   "execution_count": 1,
   "id": "94b05bda",
   "metadata": {
    "execution": {
     "iopub.execute_input": "2025-07-28T18:03:47.501911Z",
     "iopub.status.busy": "2025-07-28T18:03:47.501911Z",
     "iopub.status.idle": "2025-07-28T18:03:59.748165Z",
     "shell.execute_reply": "2025-07-28T18:03:59.748165Z"
    },
    "tags": [
     "remove-input"
    ]
   },
   "outputs": [
    {
     "data": {
      "text/markdown": [
       ">Last modified: 28 Jul 2025"
      ],
      "text/plain": [
       "<IPython.core.display.Markdown object>"
      ]
     },
     "metadata": {},
     "output_type": "display_data"
    }
   ],
   "source": [
    "\n",
    "import sys\n",
    "import os\n",
    "sys.path.append(os.path.abspath('../../../../scripts/'))\n",
    "from data_doc_helper import LPSDataSet as DS, last_modified\n",
    "API_KEY = os.environ['FASTAPI_KEY']\n",
    "ds = DS(\"BIB\", \"CV19child_P2sdq\")\n",
    "last_modified()\n"
   ]
  },
  {
   "cell_type": "markdown",
   "id": "bb08d500",
   "metadata": {},
   "source": [
    "## 1. Summary"
   ]
  },
  {
   "cell_type": "code",
   "execution_count": 2,
   "id": "39d611b6",
   "metadata": {
    "execution": {
     "iopub.execute_input": "2025-07-28T18:03:59.752536Z",
     "iopub.status.busy": "2025-07-28T18:03:59.752536Z",
     "iopub.status.idle": "2025-07-28T18:03:59.758407Z",
     "shell.execute_reply": "2025-07-28T18:03:59.758407Z"
    },
    "tags": [
     "remove-input"
    ]
   },
   "outputs": [
    {
     "data": {
      "text/markdown": [
       "A follow up to the Covid 19 Phase 1 survey conducted at the start of the national lockdown. The Covid Phase 2 survey was conducted 6-9 months after the first national lockdown."
      ],
      "text/plain": [
       "<IPython.core.display.Markdown object>"
      ]
     },
     "metadata": {},
     "output_type": "display_data"
    }
   ],
   "source": [
    "ds.summary()"
   ]
  },
  {
   "cell_type": "code",
   "execution_count": 3,
   "id": "d69feee5",
   "metadata": {
    "execution": {
     "iopub.execute_input": "2025-07-28T18:03:59.760758Z",
     "iopub.status.busy": "2025-07-28T18:03:59.760758Z",
     "iopub.status.idle": "2025-07-28T18:04:00.761882Z",
     "shell.execute_reply": "2025-07-28T18:04:00.761882Z"
    },
    "tags": [
     "remove-input"
    ]
   },
   "outputs": [
    {
     "data": {
      "text/html": [
       "<style type=\"text/css\">\n",
       "#T_080c0 th {\n",
       "  text-align: left;\n",
       "}\n",
       "#T_080c0_row0_col0, #T_080c0_row0_col1, #T_080c0_row1_col0, #T_080c0_row1_col1, #T_080c0_row2_col0, #T_080c0_row2_col1, #T_080c0_row3_col0, #T_080c0_row3_col1, #T_080c0_row4_col0, #T_080c0_row4_col1, #T_080c0_row5_col0, #T_080c0_row5_col1, #T_080c0_row6_col0, #T_080c0_row6_col1, #T_080c0_row7_col0, #T_080c0_row7_col1, #T_080c0_row8_col0, #T_080c0_row8_col1, #T_080c0_row9_col0, #T_080c0_row9_col1, #T_080c0_row10_col0, #T_080c0_row10_col1, #T_080c0_row11_col0, #T_080c0_row11_col1, #T_080c0_row12_col0, #T_080c0_row12_col1 {\n",
       "  text-align: left;\n",
       "}\n",
       "</style>\n",
       "<table id=\"T_080c0\" style=\"font-size: 14px\">\n",
       "  <thead>\n",
       "    <tr>\n",
       "      <th id=\"T_080c0_level0_col0\" class=\"col_heading level0 col0\" >Dataset Descriptor</th>\n",
       "      <th id=\"T_080c0_level0_col1\" class=\"col_heading level0 col1\" >Dataset-specific Information</th>\n",
       "    </tr>\n",
       "  </thead>\n",
       "  <tbody>\n",
       "    <tr>\n",
       "      <td id=\"T_080c0_row0_col0\" class=\"data row0 col0\" >Name of Dataset in TRE</td>\n",
       "      <td id=\"T_080c0_row0_col1\" class=\"data row0 col1\" >BIB_CV19child_P2sdq</td>\n",
       "    </tr>\n",
       "    <tr>\n",
       "      <td id=\"T_080c0_row1_col0\" class=\"data row1 col0\" >Citation (APA)</td>\n",
       "      <td id=\"T_080c0_row1_col1\" class=\"data row1 col1\" >Bradford Institute for Health Research, Bradford Teaching Hospitals NHS Foundation Trust. (2022). <i>Born in Bradford (BiB): COVID-19 Child Phase 2 Strengths and Difficulties Questionnaire.</i> UK Longitudinal Linkage Collaboration (UK LLC).  <a href=\"https://doi.org/10.71760/ukllc-dataset-00075-01\" rel=\"noopener noreferrer\" target=\"_blank\">https://doi.org/10.71760/ukllc-dataset-00075-01</a></td>\n",
       "    </tr>\n",
       "    <tr>\n",
       "      <td id=\"T_080c0_row2_col0\" class=\"data row2 col0\" >Download Citation</td>\n",
       "      <td id=\"T_080c0_row2_col1\" class=\"data row2 col1\" > <a href=\"https://api.datacite.org/application/vnd.citationstyles.csl+json/10.71760/ukllc-dataset-00075-01\" rel=\"noopener noreferrer\" target=\"_blank\">Citeproc JSON</a>&nbsp;&nbsp;&nbsp;&nbsp; <a href=\"https://api.datacite.org/application/x-bibtex/10.71760/ukllc-dataset-00075-01\" rel=\"noopener noreferrer\" target=\"_blank\">BibTeX</a>&nbsp;&nbsp;&nbsp;&nbsp; <a href=\"https://api.datacite.org/application/x-research-info-systems/10.71760/ukllc-dataset-00075-01\" rel=\"noopener noreferrer\" target=\"_blank\">RIS</a></td>\n",
       "    </tr>\n",
       "    <tr>\n",
       "      <td id=\"T_080c0_row3_col0\" class=\"data row3 col0\" >Series</td>\n",
       "      <td id=\"T_080c0_row3_col1\" class=\"data row3 col1\" > <a href=\"https://guidebook.ukllc.ac.uk/docs/lps_data/lps%20profiles/BIB\">Born in Bradford (BiB)</a></td>\n",
       "    </tr>\n",
       "    <tr>\n",
       "      <td id=\"T_080c0_row4_col0\" class=\"data row4 col0\" >Owner</td>\n",
       "      <td id=\"T_080c0_row4_col1\" class=\"data row4 col1\" >Bradford Teaching Hospitals NHS Foundation Trust</td>\n",
       "    </tr>\n",
       "    <tr>\n",
       "      <td id=\"T_080c0_row5_col0\" class=\"data row5 col0\" >Temporal Coverage</td>\n",
       "      <td id=\"T_080c0_row5_col1\" class=\"data row5 col1\" >10/2020 - 12/2020</td>\n",
       "    </tr>\n",
       "    <tr>\n",
       "      <td id=\"T_080c0_row6_col0\" class=\"data row6 col0\" >Keywords</td>\n",
       "      <td id=\"T_080c0_row6_col1\" class=\"data row6 col1\" ></td>\n",
       "    </tr>\n",
       "    <tr>\n",
       "      <td id=\"T_080c0_row7_col0\" class=\"data row7 col0\" >Participants Invited</td>\n",
       "      <td id=\"T_080c0_row7_col1\" class=\"data row7 col1\" >28591</td>\n",
       "    </tr>\n",
       "    <tr>\n",
       "      <td id=\"T_080c0_row8_col0\" class=\"data row8 col0\" >Participant Count</td>\n",
       "      <td id=\"T_080c0_row8_col1\" class=\"data row8 col1\" >631</td>\n",
       "    </tr>\n",
       "    <tr>\n",
       "      <td id=\"T_080c0_row9_col0\" class=\"data row9 col0\" >Number of variables</td>\n",
       "      <td id=\"T_080c0_row9_col1\" class=\"data row9 col1\" >42</td>\n",
       "    </tr>\n",
       "    <tr>\n",
       "      <td id=\"T_080c0_row10_col0\" class=\"data row10 col0\" >Number of observations</td>\n",
       "      <td id=\"T_080c0_row10_col1\" class=\"data row10 col1\" >28591</td>\n",
       "    </tr>\n",
       "    <tr>\n",
       "      <td id=\"T_080c0_row11_col0\" class=\"data row11 col0\" >Specific Restrictions to Data Use</td>\n",
       "      <td id=\"T_080c0_row11_col1\" class=\"data row11 col1\" >None</td>\n",
       "    </tr>\n",
       "    <tr>\n",
       "      <td id=\"T_080c0_row12_col0\" class=\"data row12 col0\" >Build a Data Request</td>\n",
       "      <td id=\"T_080c0_row12_col1\" class=\"data row12 col1\" > <a href=\"https://explore.ukllc.ac.uk/\" rel=\"noopener noreferrer\" target=\"_blank\">https://explore.ukllc.ac.uk/</a></td>\n",
       "    </tr>\n",
       "  </tbody>\n",
       "</table>\n"
      ],
      "text/plain": [
       "<pandas.io.formats.style.Styler at 0x1d9ca3809e0>"
      ]
     },
     "execution_count": 3,
     "metadata": {},
     "output_type": "execute_result"
    }
   ],
   "source": [
    "ds.info_table()"
   ]
  },
  {
   "cell_type": "markdown",
   "id": "5e4e3ebe",
   "metadata": {},
   "source": [
    "## 2. Version History"
   ]
  },
  {
   "cell_type": "code",
   "execution_count": 4,
   "id": "71fea9d6",
   "metadata": {
    "execution": {
     "iopub.execute_input": "2025-07-28T18:04:00.766318Z",
     "iopub.status.busy": "2025-07-28T18:04:00.766318Z",
     "iopub.status.idle": "2025-07-28T18:04:06.272252Z",
     "shell.execute_reply": "2025-07-28T18:04:06.271744Z"
    },
    "tags": [
     "remove-input"
    ]
   },
   "outputs": [
    {
     "data": {
      "text/html": [
       "<style type=\"text/css\">\n",
       "#T_57914 th {\n",
       "  text-align: left;\n",
       "}\n",
       "#T_57914_row0_col0, #T_57914_row0_col1, #T_57914_row1_col0, #T_57914_row1_col1, #T_57914_row2_col0, #T_57914_row2_col1, #T_57914_row3_col0, #T_57914_row3_col1, #T_57914_row4_col0, #T_57914_row4_col1 {\n",
       "  text-align: left;\n",
       "}\n",
       "</style>\n",
       "<table id=\"T_57914\" style=\"font-size: 14px\">\n",
       "  <thead>\n",
       "    <tr>\n",
       "      <th id=\"T_57914_level0_col0\" class=\"col_heading level0 col0\" >Version</th>\n",
       "      <th id=\"T_57914_level0_col1\" class=\"col_heading level0 col1\" >1</th>\n",
       "    </tr>\n",
       "  </thead>\n",
       "  <tbody>\n",
       "    <tr>\n",
       "      <td id=\"T_57914_row0_col0\" class=\"data row0 col0\" >Version Date</td>\n",
       "      <td id=\"T_57914_row0_col1\" class=\"data row0 col1\" >31 May 2022</td>\n",
       "    </tr>\n",
       "    <tr>\n",
       "      <td id=\"T_57914_row1_col0\" class=\"data row1 col0\" >Number of Variables</td>\n",
       "      <td id=\"T_57914_row1_col1\" class=\"data row1 col1\" >42</td>\n",
       "    </tr>\n",
       "    <tr>\n",
       "      <td id=\"T_57914_row2_col0\" class=\"data row2 col0\" >Number of Observations</td>\n",
       "      <td id=\"T_57914_row2_col1\" class=\"data row2 col1\" >28591</td>\n",
       "    </tr>\n",
       "    <tr>\n",
       "      <td id=\"T_57914_row3_col0\" class=\"data row3 col0\" >DOI</td>\n",
       "      <td id=\"T_57914_row3_col1\" class=\"data row3 col1\" > <a href=\"https://doi.org/10.71760/ukllc-dataset-00075-01\" rel=\"noopener noreferrer\" target=\"_blank\">10.71760/ukllc-dataset-00075-01</a></td>\n",
       "    </tr>\n",
       "    <tr>\n",
       "      <td id=\"T_57914_row4_col0\" class=\"data row4 col0\" >Change Log</td>\n",
       "      <td id=\"T_57914_row4_col1\" class=\"data row4 col1\" > <a href=\"https://api.test.datacite.org/dois/10.71760/ukllc-dataset-00075-01/activities\" rel=\"noopener noreferrer\" target=\"_blank\">10.71760/ukllc-dataset-00075-01/activities</a></td>\n",
       "    </tr>\n",
       "  </tbody>\n",
       "</table>\n"
      ],
      "text/plain": [
       "<pandas.io.formats.style.Styler at 0x1d9cc018680>"
      ]
     },
     "execution_count": 4,
     "metadata": {},
     "output_type": "execute_result"
    }
   ],
   "source": [
    "ds.version_history()"
   ]
  },
  {
   "cell_type": "markdown",
   "id": "2bcf5fbf",
   "metadata": {},
   "source": [
    "## 3. Documentation"
   ]
  },
  {
   "cell_type": "code",
   "execution_count": 5,
   "id": "7c10d707",
   "metadata": {
    "execution": {
     "iopub.execute_input": "2025-07-28T18:04:06.277261Z",
     "iopub.status.busy": "2025-07-28T18:04:06.276260Z",
     "iopub.status.idle": "2025-07-28T18:04:06.289476Z",
     "shell.execute_reply": "2025-07-28T18:04:06.287469Z"
    },
    "tags": [
     "remove-input"
    ]
   },
   "outputs": [
    {
     "data": {
      "text/markdown": [
       "We are currently building a documentation storage system which will host useful documents related to datasets and data owners. We will surface these documents on Guidebook."
      ],
      "text/plain": [
       "<IPython.core.display.Markdown object>"
      ]
     },
     "metadata": {},
     "output_type": "display_data"
    }
   ],
   "source": [
    "ds.documentation()"
   ]
  },
  {
   "cell_type": "markdown",
   "id": "13b9abb3",
   "metadata": {},
   "source": [
    "## 4. Useful Syntax"
   ]
  },
  {
   "cell_type": "code",
   "execution_count": 6,
   "id": "99a62d85",
   "metadata": {
    "execution": {
     "iopub.execute_input": "2025-07-28T18:04:06.295477Z",
     "iopub.status.busy": "2025-07-28T18:04:06.295477Z",
     "iopub.status.idle": "2025-07-28T18:04:06.305303Z",
     "shell.execute_reply": "2025-07-28T18:04:06.304152Z"
    },
    "tags": [
     "remove-input"
    ]
   },
   "outputs": [
    {
     "data": {
      "text/markdown": [
       "Below we will include syntax that may be helpful to other researchers in the UK LLC TRE. For longer scripts, we will include a snippet of the code plus a link to Git where you can find the full scripts."
      ],
      "text/plain": [
       "<IPython.core.display.Markdown object>"
      ]
     },
     "metadata": {},
     "output_type": "display_data"
    }
   ],
   "source": [
    "ds.useful_syntax()"
   ]
  }
 ],
 "metadata": {
  "language_info": {
   "codemirror_mode": {
    "name": "ipython",
    "version": 3
   },
   "file_extension": ".py",
   "mimetype": "text/x-python",
   "name": "python",
   "nbconvert_exporter": "python",
   "pygments_lexer": "ipython3",
   "version": "3.12.7"
  }
 },
 "nbformat": 4,
 "nbformat_minor": 5
}
