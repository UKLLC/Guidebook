{
 "cells": [
  {
   "cell_type": "markdown",
   "id": "dae315b8",
   "metadata": {},
   "source": [
    "# COVID-19 Child Phase 1 Strengths and Difficulties Questionnaire (BIB)"
   ]
  },
  {
   "cell_type": "code",
   "execution_count": 1,
   "id": "eeb07e0f",
   "metadata": {
    "execution": {
     "iopub.execute_input": "2025-07-17T15:08:42.659069Z",
     "iopub.status.busy": "2025-07-17T15:08:42.659069Z",
     "iopub.status.idle": "2025-07-17T15:08:51.306391Z",
     "shell.execute_reply": "2025-07-17T15:08:51.304124Z"
    },
    "tags": [
     "remove-input"
    ]
   },
   "outputs": [
    {
     "data": {
      "text/markdown": [
       ">Last modified: 17 Jul 2025"
      ],
      "text/plain": [
       "<IPython.core.display.Markdown object>"
      ]
     },
     "metadata": {},
     "output_type": "display_data"
    }
   ],
   "source": [
    "\n",
    "import sys\n",
    "import os\n",
    "sys.path.append(os.path.abspath('../../../../scripts/'))\n",
    "from data_doc_helper import LPSDataSet as DS, last_modified\n",
    "API_KEY = os.environ['FASTAPI_KEY']\n",
    "ds = DS(\"BIB\", \"CV19child_P1sdq\")\n",
    "last_modified()\n"
   ]
  },
  {
   "cell_type": "markdown",
   "id": "93beea1e",
   "metadata": {},
   "source": [
    "## 1. Summary"
   ]
  },
  {
   "cell_type": "code",
   "execution_count": 2,
   "id": "3476458c",
   "metadata": {
    "execution": {
     "iopub.execute_input": "2025-07-17T15:08:51.316053Z",
     "iopub.status.busy": "2025-07-17T15:08:51.315034Z",
     "iopub.status.idle": "2025-07-17T15:08:51.329779Z",
     "shell.execute_reply": "2025-07-17T15:08:51.327565Z"
    },
    "tags": [
     "remove-input"
    ]
   },
   "outputs": [
    {
     "data": {
      "text/markdown": [
       "A mixed-mode survey conducted during 2020 at the start of the COVID-19 national lockdown and in the months that followed. All children in the BiB Growing Up subcohort were invited. Mix of child and parent (on behalf of child) responses "
      ],
      "text/plain": [
       "<IPython.core.display.Markdown object>"
      ]
     },
     "metadata": {},
     "output_type": "display_data"
    }
   ],
   "source": [
    "ds.summary()"
   ]
  },
  {
   "cell_type": "code",
   "execution_count": 3,
   "id": "e732a638",
   "metadata": {
    "execution": {
     "iopub.execute_input": "2025-07-17T15:08:51.337330Z",
     "iopub.status.busy": "2025-07-17T15:08:51.337330Z",
     "iopub.status.idle": "2025-07-17T15:08:53.025587Z",
     "shell.execute_reply": "2025-07-17T15:08:53.023573Z"
    },
    "tags": [
     "remove-input"
    ]
   },
   "outputs": [
    {
     "data": {
      "text/html": [
       "<style type=\"text/css\">\n",
       "#T_13745 th {\n",
       "  text-align: left;\n",
       "}\n",
       "#T_13745_row0_col0, #T_13745_row0_col1, #T_13745_row1_col0, #T_13745_row1_col1, #T_13745_row2_col0, #T_13745_row2_col1, #T_13745_row3_col0, #T_13745_row3_col1, #T_13745_row4_col0, #T_13745_row4_col1, #T_13745_row5_col0, #T_13745_row5_col1, #T_13745_row6_col0, #T_13745_row6_col1, #T_13745_row7_col0, #T_13745_row7_col1, #T_13745_row8_col0, #T_13745_row8_col1, #T_13745_row9_col0, #T_13745_row9_col1, #T_13745_row10_col0, #T_13745_row10_col1, #T_13745_row11_col0, #T_13745_row11_col1, #T_13745_row12_col0, #T_13745_row12_col1 {\n",
       "  text-align: left;\n",
       "}\n",
       "</style>\n",
       "<table id=\"T_13745\" style=\"font-size: 14px\">\n",
       "  <thead>\n",
       "    <tr>\n",
       "      <th id=\"T_13745_level0_col0\" class=\"col_heading level0 col0\" >Dataset Descriptor</th>\n",
       "      <th id=\"T_13745_level0_col1\" class=\"col_heading level0 col1\" >Dataset-specific Information</th>\n",
       "    </tr>\n",
       "  </thead>\n",
       "  <tbody>\n",
       "    <tr>\n",
       "      <td id=\"T_13745_row0_col0\" class=\"data row0 col0\" >Name of Dataset in TRE</td>\n",
       "      <td id=\"T_13745_row0_col1\" class=\"data row0 col1\" >BIB_CV19child_P1sdq</td>\n",
       "    </tr>\n",
       "    <tr>\n",
       "      <td id=\"T_13745_row1_col0\" class=\"data row1 col0\" >Citation (APA)</td>\n",
       "      <td id=\"T_13745_row1_col1\" class=\"data row1 col1\" >Bradford Institute for Health Research, Bradford Teaching Hospitals NHS Foundation Trust. (2022). <i>Born in Bradford (BiB): COVID-19 Child Phase 1 Strengths and Difficulties Questionnaire.</i> UK Longitudinal Linkage Collaboration (UK LLC).  <a href=\"https://doi.org/10.83126/ukllc-dataset-00154-01\" rel=\"noopener noreferrer\" target=\"_blank\">https://doi.org/10.83126/ukllc-dataset-00154-01</a></td>\n",
       "    </tr>\n",
       "    <tr>\n",
       "      <td id=\"T_13745_row2_col0\" class=\"data row2 col0\" >Download Citation</td>\n",
       "      <td id=\"T_13745_row2_col1\" class=\"data row2 col1\" > <a href=\"https://api.test.datacite.org/application/vnd.citationstyles.csl+json/10.83126/ukllc-dataset-00154-01\" rel=\"noopener noreferrer\" target=\"_blank\">Citeproc JSON</a>&nbsp;&nbsp;&nbsp;&nbsp; <a href=\"https://api.test.datacite.org/application/x-bibtex/10.83126/ukllc-dataset-00154-01\" rel=\"noopener noreferrer\" target=\"_blank\">BibTeX</a>&nbsp;&nbsp;&nbsp;&nbsp; <a href=\"https://api.test.datacite.org/application/x-research-info-systems/10.83126/ukllc-dataset-00154-01\" rel=\"noopener noreferrer\" target=\"_blank\">RIS</a></td>\n",
       "    </tr>\n",
       "    <tr>\n",
       "      <td id=\"T_13745_row3_col0\" class=\"data row3 col0\" >Series</td>\n",
       "      <td id=\"T_13745_row3_col1\" class=\"data row3 col1\" > <a href=\"https://guidebook.ukllc.ac.uk/docs/lps/lps%20profiles/BIB\">Born in Bradford (BiB)</a></td>\n",
       "    </tr>\n",
       "    <tr>\n",
       "      <td id=\"T_13745_row4_col0\" class=\"data row4 col0\" >Owner</td>\n",
       "      <td id=\"T_13745_row4_col1\" class=\"data row4 col1\" >Bradford Teaching Hospitals NHS Foundation Trust</td>\n",
       "    </tr>\n",
       "    <tr>\n",
       "      <td id=\"T_13745_row5_col0\" class=\"data row5 col0\" >Temporal Coverage</td>\n",
       "      <td id=\"T_13745_row5_col1\" class=\"data row5 col1\" >05/2020 - 07/2020</td>\n",
       "    </tr>\n",
       "    <tr>\n",
       "      <td id=\"T_13745_row6_col0\" class=\"data row6 col0\" >Keywords</td>\n",
       "      <td id=\"T_13745_row6_col1\" class=\"data row6 col1\" ></td>\n",
       "    </tr>\n",
       "    <tr>\n",
       "      <td id=\"T_13745_row7_col0\" class=\"data row7 col0\" >Participants Invited</td>\n",
       "      <td id=\"T_13745_row7_col1\" class=\"data row7 col1\" >28591</td>\n",
       "    </tr>\n",
       "    <tr>\n",
       "      <td id=\"T_13745_row8_col0\" class=\"data row8 col0\" >Participant Count</td>\n",
       "      <td id=\"T_13745_row8_col1\" class=\"data row8 col1\" >886</td>\n",
       "    </tr>\n",
       "    <tr>\n",
       "      <td id=\"T_13745_row9_col0\" class=\"data row9 col0\" >Number of variables</td>\n",
       "      <td id=\"T_13745_row9_col1\" class=\"data row9 col1\" >42</td>\n",
       "    </tr>\n",
       "    <tr>\n",
       "      <td id=\"T_13745_row10_col0\" class=\"data row10 col0\" >Number of observations</td>\n",
       "      <td id=\"T_13745_row10_col1\" class=\"data row10 col1\" >28591</td>\n",
       "    </tr>\n",
       "    <tr>\n",
       "      <td id=\"T_13745_row11_col0\" class=\"data row11 col0\" >Specific Restrictions to Data Use</td>\n",
       "      <td id=\"T_13745_row11_col1\" class=\"data row11 col1\" >None</td>\n",
       "    </tr>\n",
       "    <tr>\n",
       "      <td id=\"T_13745_row12_col0\" class=\"data row12 col0\" >Build a Data Request</td>\n",
       "      <td id=\"T_13745_row12_col1\" class=\"data row12 col1\" > <a href=\"https://explore.ukllc.ac.uk/\" rel=\"noopener noreferrer\" target=\"_blank\">https://explore.ukllc.ac.uk/</a></td>\n",
       "    </tr>\n",
       "  </tbody>\n",
       "</table>\n"
      ],
      "text/plain": [
       "<pandas.io.formats.style.Styler at 0x21de3b7b8f0>"
      ]
     },
     "execution_count": 3,
     "metadata": {},
     "output_type": "execute_result"
    }
   ],
   "source": [
    "ds.info_table()"
   ]
  },
  {
   "cell_type": "markdown",
   "id": "9afbd685",
   "metadata": {},
   "source": [
    "## 2. Version History"
   ]
  },
  {
   "cell_type": "code",
   "execution_count": 4,
   "id": "fae55264",
   "metadata": {
    "execution": {
     "iopub.execute_input": "2025-07-17T15:08:53.034897Z",
     "iopub.status.busy": "2025-07-17T15:08:53.034897Z",
     "iopub.status.idle": "2025-07-17T15:08:55.866494Z",
     "shell.execute_reply": "2025-07-17T15:08:55.864617Z"
    },
    "tags": [
     "remove-input"
    ]
   },
   "outputs": [
    {
     "data": {
      "text/html": [
       "<style type=\"text/css\">\n",
       "#T_5e51f th {\n",
       "  text-align: left;\n",
       "}\n",
       "#T_5e51f_row0_col0, #T_5e51f_row0_col1, #T_5e51f_row1_col0, #T_5e51f_row1_col1, #T_5e51f_row2_col0, #T_5e51f_row2_col1, #T_5e51f_row3_col0, #T_5e51f_row3_col1, #T_5e51f_row4_col0, #T_5e51f_row4_col1 {\n",
       "  text-align: left;\n",
       "}\n",
       "</style>\n",
       "<table id=\"T_5e51f\" style=\"font-size: 14px\">\n",
       "  <thead>\n",
       "    <tr>\n",
       "      <th id=\"T_5e51f_level0_col0\" class=\"col_heading level0 col0\" >Version</th>\n",
       "      <th id=\"T_5e51f_level0_col1\" class=\"col_heading level0 col1\" >1</th>\n",
       "    </tr>\n",
       "  </thead>\n",
       "  <tbody>\n",
       "    <tr>\n",
       "      <td id=\"T_5e51f_row0_col0\" class=\"data row0 col0\" >Version Date</td>\n",
       "      <td id=\"T_5e51f_row0_col1\" class=\"data row0 col1\" >31 May 2022</td>\n",
       "    </tr>\n",
       "    <tr>\n",
       "      <td id=\"T_5e51f_row1_col0\" class=\"data row1 col0\" >Number of Variables</td>\n",
       "      <td id=\"T_5e51f_row1_col1\" class=\"data row1 col1\" >42</td>\n",
       "    </tr>\n",
       "    <tr>\n",
       "      <td id=\"T_5e51f_row2_col0\" class=\"data row2 col0\" >Number of Observations</td>\n",
       "      <td id=\"T_5e51f_row2_col1\" class=\"data row2 col1\" >28591</td>\n",
       "    </tr>\n",
       "    <tr>\n",
       "      <td id=\"T_5e51f_row3_col0\" class=\"data row3 col0\" >DOI</td>\n",
       "      <td id=\"T_5e51f_row3_col1\" class=\"data row3 col1\" > <a href=\"https://doi.org/10.83126/ukllc-dataset-00154-01\" rel=\"noopener noreferrer\" target=\"_blank\">10.83126/ukllc-dataset-00154-01</a></td>\n",
       "    </tr>\n",
       "    <tr>\n",
       "      <td id=\"T_5e51f_row4_col0\" class=\"data row4 col0\" >Change Log</td>\n",
       "      <td id=\"T_5e51f_row4_col1\" class=\"data row4 col1\" > <a href=\"https://api.test.datacite.org/dois/10.83126/ukllc-dataset-00154-01/activities\" rel=\"noopener noreferrer\" target=\"_blank\">10.83126/ukllc-dataset-00154-01/activities</a></td>\n",
       "    </tr>\n",
       "  </tbody>\n",
       "</table>\n"
      ],
      "text/plain": [
       "<pandas.io.formats.style.Styler at 0x21de96a32c0>"
      ]
     },
     "execution_count": 4,
     "metadata": {},
     "output_type": "execute_result"
    }
   ],
   "source": [
    "ds.version_history()"
   ]
  },
  {
   "cell_type": "markdown",
   "id": "c28af842",
   "metadata": {},
   "source": [
    "## 3. Documentation"
   ]
  },
  {
   "cell_type": "code",
   "execution_count": 5,
   "id": "0dbf4a4c",
   "metadata": {
    "execution": {
     "iopub.execute_input": "2025-07-17T15:08:55.875685Z",
     "iopub.status.busy": "2025-07-17T15:08:55.873700Z",
     "iopub.status.idle": "2025-07-17T15:08:55.887898Z",
     "shell.execute_reply": "2025-07-17T15:08:55.886390Z"
    },
    "tags": [
     "remove-input"
    ]
   },
   "outputs": [
    {
     "data": {
      "text/markdown": [
       "We are currently building a documentation storage system which will host useful documents related to datasets and data owners. We will surface these documents on Guidebook."
      ],
      "text/plain": [
       "<IPython.core.display.Markdown object>"
      ]
     },
     "metadata": {},
     "output_type": "display_data"
    }
   ],
   "source": [
    "ds.documentation()"
   ]
  },
  {
   "cell_type": "markdown",
   "id": "75c24f19",
   "metadata": {},
   "source": [
    "## 4. Useful Syntax"
   ]
  },
  {
   "cell_type": "code",
   "execution_count": 6,
   "id": "374ed27c",
   "metadata": {
    "execution": {
     "iopub.execute_input": "2025-07-17T15:08:55.895498Z",
     "iopub.status.busy": "2025-07-17T15:08:55.894986Z",
     "iopub.status.idle": "2025-07-17T15:08:55.905587Z",
     "shell.execute_reply": "2025-07-17T15:08:55.903793Z"
    },
    "tags": [
     "remove-input"
    ]
   },
   "outputs": [
    {
     "data": {
      "text/markdown": [
       "Below we will include syntax that may be helpful to other researchers in the UK LLC TRE. For longer scripts, we will include a snippet of the code plus a link to Git where you can find the full scripts."
      ],
      "text/plain": [
       "<IPython.core.display.Markdown object>"
      ]
     },
     "metadata": {},
     "output_type": "display_data"
    }
   ],
   "source": [
    "ds.useful_syntax()"
   ]
  }
 ],
 "metadata": {
  "language_info": {
   "codemirror_mode": {
    "name": "ipython",
    "version": 3
   },
   "file_extension": ".py",
   "mimetype": "text/x-python",
   "name": "python",
   "nbconvert_exporter": "python",
   "pygments_lexer": "ipython3",
   "version": "3.12.7"
  }
 },
 "nbformat": 4,
 "nbformat_minor": 5
}
