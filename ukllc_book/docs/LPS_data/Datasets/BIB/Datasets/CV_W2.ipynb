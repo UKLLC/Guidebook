{
 "cells": [
  {
   "cell_type": "markdown",
   "id": "50c53a17",
   "metadata": {},
   "source": [
    "# COVID-19 Wave 2 (BIB)"
   ]
  },
  {
   "cell_type": "code",
   "execution_count": 1,
   "id": "99ac0002",
   "metadata": {
    "execution": {
     "iopub.execute_input": "2025-07-28T18:05:37.281987Z",
     "iopub.status.busy": "2025-07-28T18:05:37.281987Z",
     "iopub.status.idle": "2025-07-28T18:05:49.937402Z",
     "shell.execute_reply": "2025-07-28T18:05:49.936396Z"
    },
    "tags": [
     "remove-input"
    ]
   },
   "outputs": [
    {
     "data": {
      "text/markdown": [
       ">Last modified: 28 Jul 2025"
      ],
      "text/plain": [
       "<IPython.core.display.Markdown object>"
      ]
     },
     "metadata": {},
     "output_type": "display_data"
    }
   ],
   "source": [
    "\n",
    "import sys\n",
    "import os\n",
    "sys.path.append(os.path.abspath('../../../../scripts/'))\n",
    "from data_doc_helper import LPSDataSet as DS, last_modified\n",
    "API_KEY = os.environ['FASTAPI_KEY']\n",
    "ds = DS(\"BIB\", \"CV_W2\")\n",
    "last_modified()\n"
   ]
  },
  {
   "cell_type": "markdown",
   "id": "12c8208a",
   "metadata": {},
   "source": [
    "## 1. Summary"
   ]
  },
  {
   "cell_type": "code",
   "execution_count": 2,
   "id": "48ced0d6",
   "metadata": {
    "execution": {
     "iopub.execute_input": "2025-07-28T18:05:49.940401Z",
     "iopub.status.busy": "2025-07-28T18:05:49.940401Z",
     "iopub.status.idle": "2025-07-28T18:05:49.945403Z",
     "shell.execute_reply": "2025-07-28T18:05:49.945403Z"
    },
    "tags": [
     "remove-input"
    ]
   },
   "outputs": [
    {
     "data": {
      "text/markdown": [
       "A follow up to the Covid 19 Wave 1 survey conducted at the start of the national lockdown. The Covid Wave 2 survey was conducted 6-9 months after the first national lockdown."
      ],
      "text/plain": [
       "<IPython.core.display.Markdown object>"
      ]
     },
     "metadata": {},
     "output_type": "display_data"
    }
   ],
   "source": [
    "ds.summary()"
   ]
  },
  {
   "cell_type": "code",
   "execution_count": 3,
   "id": "8020f823",
   "metadata": {
    "execution": {
     "iopub.execute_input": "2025-07-28T18:05:49.949908Z",
     "iopub.status.busy": "2025-07-28T18:05:49.949908Z",
     "iopub.status.idle": "2025-07-28T18:05:51.246857Z",
     "shell.execute_reply": "2025-07-28T18:05:51.244850Z"
    },
    "tags": [
     "remove-input"
    ]
   },
   "outputs": [
    {
     "data": {
      "text/html": [
       "<style type=\"text/css\">\n",
       "#T_d9280 th {\n",
       "  text-align: left;\n",
       "}\n",
       "#T_d9280_row0_col0, #T_d9280_row0_col1, #T_d9280_row1_col0, #T_d9280_row1_col1, #T_d9280_row2_col0, #T_d9280_row2_col1, #T_d9280_row3_col0, #T_d9280_row3_col1, #T_d9280_row4_col0, #T_d9280_row4_col1, #T_d9280_row5_col0, #T_d9280_row5_col1, #T_d9280_row6_col0, #T_d9280_row6_col1, #T_d9280_row7_col0, #T_d9280_row7_col1, #T_d9280_row8_col0, #T_d9280_row8_col1, #T_d9280_row9_col0, #T_d9280_row9_col1, #T_d9280_row10_col0, #T_d9280_row10_col1, #T_d9280_row11_col0, #T_d9280_row11_col1, #T_d9280_row12_col0, #T_d9280_row12_col1 {\n",
       "  text-align: left;\n",
       "}\n",
       "</style>\n",
       "<table id=\"T_d9280\" style=\"font-size: 14px\">\n",
       "  <thead>\n",
       "    <tr>\n",
       "      <th id=\"T_d9280_level0_col0\" class=\"col_heading level0 col0\" >Dataset Descriptor</th>\n",
       "      <th id=\"T_d9280_level0_col1\" class=\"col_heading level0 col1\" >Dataset-specific Information</th>\n",
       "    </tr>\n",
       "  </thead>\n",
       "  <tbody>\n",
       "    <tr>\n",
       "      <td id=\"T_d9280_row0_col0\" class=\"data row0 col0\" >Name of Dataset in TRE</td>\n",
       "      <td id=\"T_d9280_row0_col1\" class=\"data row0 col1\" >BIB_CV_W2</td>\n",
       "    </tr>\n",
       "    <tr>\n",
       "      <td id=\"T_d9280_row1_col0\" class=\"data row1 col0\" >Citation (APA)</td>\n",
       "      <td id=\"T_d9280_row1_col1\" class=\"data row1 col1\" >Bradford Institute for Health Research, Bradford Teaching Hospitals NHS Foundation Trust. (2022). <i>Born in Bradford (BiB): COVID-19 Wave 2.</i> UK Longitudinal Linkage Collaboration (UK LLC).  <a href=\"https://doi.org/10.71760/ukllc-dataset-00080-01\" rel=\"noopener noreferrer\" target=\"_blank\">https://doi.org/10.71760/ukllc-dataset-00080-01</a></td>\n",
       "    </tr>\n",
       "    <tr>\n",
       "      <td id=\"T_d9280_row2_col0\" class=\"data row2 col0\" >Download Citation</td>\n",
       "      <td id=\"T_d9280_row2_col1\" class=\"data row2 col1\" > <a href=\"https://api.datacite.org/application/vnd.citationstyles.csl+json/10.71760/ukllc-dataset-00080-01\" rel=\"noopener noreferrer\" target=\"_blank\">Citeproc JSON</a>&nbsp;&nbsp;&nbsp;&nbsp; <a href=\"https://api.datacite.org/application/x-bibtex/10.71760/ukllc-dataset-00080-01\" rel=\"noopener noreferrer\" target=\"_blank\">BibTeX</a>&nbsp;&nbsp;&nbsp;&nbsp; <a href=\"https://api.datacite.org/application/x-research-info-systems/10.71760/ukllc-dataset-00080-01\" rel=\"noopener noreferrer\" target=\"_blank\">RIS</a></td>\n",
       "    </tr>\n",
       "    <tr>\n",
       "      <td id=\"T_d9280_row3_col0\" class=\"data row3 col0\" >Series</td>\n",
       "      <td id=\"T_d9280_row3_col1\" class=\"data row3 col1\" > <a href=\"https://guidebook.ukllc.ac.uk/docs/lps_data/lps%20profiles/BIB\">Born in Bradford (BiB)</a></td>\n",
       "    </tr>\n",
       "    <tr>\n",
       "      <td id=\"T_d9280_row4_col0\" class=\"data row4 col0\" >Owner</td>\n",
       "      <td id=\"T_d9280_row4_col1\" class=\"data row4 col1\" >Bradford Teaching Hospitals NHS Foundation Trust</td>\n",
       "    </tr>\n",
       "    <tr>\n",
       "      <td id=\"T_d9280_row5_col0\" class=\"data row5 col0\" >Temporal Coverage</td>\n",
       "      <td id=\"T_d9280_row5_col1\" class=\"data row5 col1\" >10/2020 - 01/2021</td>\n",
       "    </tr>\n",
       "    <tr>\n",
       "      <td id=\"T_d9280_row6_col0\" class=\"data row6 col0\" >Keywords</td>\n",
       "      <td id=\"T_d9280_row6_col1\" class=\"data row6 col1\" ></td>\n",
       "    </tr>\n",
       "    <tr>\n",
       "      <td id=\"T_d9280_row7_col0\" class=\"data row7 col0\" >Participants Invited</td>\n",
       "      <td id=\"T_d9280_row7_col1\" class=\"data row7 col1\" >In process</td>\n",
       "    </tr>\n",
       "    <tr>\n",
       "      <td id=\"T_d9280_row8_col0\" class=\"data row8 col0\" >Participant Count</td>\n",
       "      <td id=\"T_d9280_row8_col1\" class=\"data row8 col1\" >631</td>\n",
       "    </tr>\n",
       "    <tr>\n",
       "      <td id=\"T_d9280_row9_col0\" class=\"data row9 col0\" >Number of variables</td>\n",
       "      <td id=\"T_d9280_row9_col1\" class=\"data row9 col1\" >449</td>\n",
       "    </tr>\n",
       "    <tr>\n",
       "      <td id=\"T_d9280_row10_col0\" class=\"data row10 col0\" >Number of observations</td>\n",
       "      <td id=\"T_d9280_row10_col1\" class=\"data row10 col1\" >28591</td>\n",
       "    </tr>\n",
       "    <tr>\n",
       "      <td id=\"T_d9280_row11_col0\" class=\"data row11 col0\" >Specific Restrictions to Data Use</td>\n",
       "      <td id=\"T_d9280_row11_col1\" class=\"data row11 col1\" >None</td>\n",
       "    </tr>\n",
       "    <tr>\n",
       "      <td id=\"T_d9280_row12_col0\" class=\"data row12 col0\" >Build a Data Request</td>\n",
       "      <td id=\"T_d9280_row12_col1\" class=\"data row12 col1\" > <a href=\"https://explore.ukllc.ac.uk/\" rel=\"noopener noreferrer\" target=\"_blank\">https://explore.ukllc.ac.uk/</a></td>\n",
       "    </tr>\n",
       "  </tbody>\n",
       "</table>\n"
      ],
      "text/plain": [
       "<pandas.io.formats.style.Styler at 0x209d3722e10>"
      ]
     },
     "execution_count": 3,
     "metadata": {},
     "output_type": "execute_result"
    }
   ],
   "source": [
    "ds.info_table()"
   ]
  },
  {
   "cell_type": "markdown",
   "id": "0cabc2a6",
   "metadata": {},
   "source": [
    "## 2. Version History"
   ]
  },
  {
   "cell_type": "code",
   "execution_count": 4,
   "id": "98eb7934",
   "metadata": {
    "execution": {
     "iopub.execute_input": "2025-07-28T18:05:51.253857Z",
     "iopub.status.busy": "2025-07-28T18:05:51.253857Z",
     "iopub.status.idle": "2025-07-28T18:05:56.277144Z",
     "shell.execute_reply": "2025-07-28T18:05:56.275144Z"
    },
    "tags": [
     "remove-input"
    ]
   },
   "outputs": [
    {
     "data": {
      "text/html": [
       "<style type=\"text/css\">\n",
       "#T_b35b2 th {\n",
       "  text-align: left;\n",
       "}\n",
       "#T_b35b2_row0_col0, #T_b35b2_row0_col1, #T_b35b2_row1_col0, #T_b35b2_row1_col1, #T_b35b2_row2_col0, #T_b35b2_row2_col1, #T_b35b2_row3_col0, #T_b35b2_row3_col1, #T_b35b2_row4_col0, #T_b35b2_row4_col1 {\n",
       "  text-align: left;\n",
       "}\n",
       "</style>\n",
       "<table id=\"T_b35b2\" style=\"font-size: 14px\">\n",
       "  <thead>\n",
       "    <tr>\n",
       "      <th id=\"T_b35b2_level0_col0\" class=\"col_heading level0 col0\" >Version</th>\n",
       "      <th id=\"T_b35b2_level0_col1\" class=\"col_heading level0 col1\" >1</th>\n",
       "    </tr>\n",
       "  </thead>\n",
       "  <tbody>\n",
       "    <tr>\n",
       "      <td id=\"T_b35b2_row0_col0\" class=\"data row0 col0\" >Version Date</td>\n",
       "      <td id=\"T_b35b2_row0_col1\" class=\"data row0 col1\" >02 Mar 2022</td>\n",
       "    </tr>\n",
       "    <tr>\n",
       "      <td id=\"T_b35b2_row1_col0\" class=\"data row1 col0\" >Number of Variables</td>\n",
       "      <td id=\"T_b35b2_row1_col1\" class=\"data row1 col1\" >449</td>\n",
       "    </tr>\n",
       "    <tr>\n",
       "      <td id=\"T_b35b2_row2_col0\" class=\"data row2 col0\" >Number of Observations</td>\n",
       "      <td id=\"T_b35b2_row2_col1\" class=\"data row2 col1\" >28591</td>\n",
       "    </tr>\n",
       "    <tr>\n",
       "      <td id=\"T_b35b2_row3_col0\" class=\"data row3 col0\" >DOI</td>\n",
       "      <td id=\"T_b35b2_row3_col1\" class=\"data row3 col1\" > <a href=\"https://doi.org/10.71760/ukllc-dataset-00080-01\" rel=\"noopener noreferrer\" target=\"_blank\">10.71760/ukllc-dataset-00080-01</a></td>\n",
       "    </tr>\n",
       "    <tr>\n",
       "      <td id=\"T_b35b2_row4_col0\" class=\"data row4 col0\" >Change Log</td>\n",
       "      <td id=\"T_b35b2_row4_col1\" class=\"data row4 col1\" > <a href=\"https://api.test.datacite.org/dois/10.71760/ukllc-dataset-00080-01/activities\" rel=\"noopener noreferrer\" target=\"_blank\">10.71760/ukllc-dataset-00080-01/activities</a></td>\n",
       "    </tr>\n",
       "  </tbody>\n",
       "</table>\n"
      ],
      "text/plain": [
       "<pandas.io.formats.style.Styler at 0x209d36c0590>"
      ]
     },
     "execution_count": 4,
     "metadata": {},
     "output_type": "execute_result"
    }
   ],
   "source": [
    "ds.version_history()"
   ]
  },
  {
   "cell_type": "markdown",
   "id": "08b9d7c5",
   "metadata": {},
   "source": [
    "## 3. Documentation"
   ]
  },
  {
   "cell_type": "code",
   "execution_count": 5,
   "id": "c79e4cfd",
   "metadata": {
    "execution": {
     "iopub.execute_input": "2025-07-28T18:05:56.283141Z",
     "iopub.status.busy": "2025-07-28T18:05:56.283141Z",
     "iopub.status.idle": "2025-07-28T18:05:56.310386Z",
     "shell.execute_reply": "2025-07-28T18:05:56.294385Z"
    },
    "tags": [
     "remove-input"
    ]
   },
   "outputs": [
    {
     "data": {
      "text/markdown": [
       "We are currently building a documentation storage system which will host useful documents related to datasets and data owners. We will surface these documents on Guidebook."
      ],
      "text/plain": [
       "<IPython.core.display.Markdown object>"
      ]
     },
     "metadata": {},
     "output_type": "display_data"
    }
   ],
   "source": [
    "ds.documentation()"
   ]
  },
  {
   "cell_type": "markdown",
   "id": "56d22878",
   "metadata": {},
   "source": [
    "## 4. Useful Syntax"
   ]
  },
  {
   "cell_type": "code",
   "execution_count": 6,
   "id": "50a5f1af",
   "metadata": {
    "execution": {
     "iopub.execute_input": "2025-07-28T18:05:56.318391Z",
     "iopub.status.busy": "2025-07-28T18:05:56.317387Z",
     "iopub.status.idle": "2025-07-28T18:05:56.327897Z",
     "shell.execute_reply": "2025-07-28T18:05:56.325905Z"
    },
    "tags": [
     "remove-input"
    ]
   },
   "outputs": [
    {
     "data": {
      "text/markdown": [
       "Below we will include syntax that may be helpful to other researchers in the UK LLC TRE. For longer scripts, we will include a snippet of the code plus a link to Git where you can find the full scripts."
      ],
      "text/plain": [
       "<IPython.core.display.Markdown object>"
      ]
     },
     "metadata": {},
     "output_type": "display_data"
    }
   ],
   "source": [
    "ds.useful_syntax()"
   ]
  }
 ],
 "metadata": {
  "language_info": {
   "codemirror_mode": {
    "name": "ipython",
    "version": 3
   },
   "file_extension": ".py",
   "mimetype": "text/x-python",
   "name": "python",
   "nbconvert_exporter": "python",
   "pygments_lexer": "ipython3",
   "version": "3.12.7"
  }
 },
 "nbformat": 4,
 "nbformat_minor": 5
}
