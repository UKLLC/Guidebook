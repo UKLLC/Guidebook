{
 "cells": [
  {
   "cell_type": "markdown",
   "id": "50c53a17",
   "metadata": {},
   "source": [
    "# COVID-19 Wave 2 (BIB)"
   ]
  },
  {
   "cell_type": "code",
   "execution_count": 1,
   "id": "99ac0002",
   "metadata": {
    "execution": {
     "iopub.execute_input": "2025-07-17T15:10:41.204008Z",
     "iopub.status.busy": "2025-07-17T15:10:41.204008Z",
     "iopub.status.idle": "2025-07-17T15:10:48.846136Z",
     "shell.execute_reply": "2025-07-17T15:10:48.844616Z"
    },
    "tags": [
     "remove-input"
    ]
   },
   "outputs": [
    {
     "data": {
      "text/markdown": [
       ">Last modified: 17 Jul 2025"
      ],
      "text/plain": [
       "<IPython.core.display.Markdown object>"
      ]
     },
     "metadata": {},
     "output_type": "display_data"
    }
   ],
   "source": [
    "\n",
    "import sys\n",
    "import os\n",
    "sys.path.append(os.path.abspath('../../../../scripts/'))\n",
    "from data_doc_helper import LPSDataSet as DS, last_modified\n",
    "API_KEY = os.environ['FASTAPI_KEY']\n",
    "ds = DS(\"BIB\", \"CV_W2\")\n",
    "last_modified()\n"
   ]
  },
  {
   "cell_type": "markdown",
   "id": "12c8208a",
   "metadata": {},
   "source": [
    "## 1. Summary"
   ]
  },
  {
   "cell_type": "code",
   "execution_count": 2,
   "id": "48ced0d6",
   "metadata": {
    "execution": {
     "iopub.execute_input": "2025-07-17T15:10:48.852105Z",
     "iopub.status.busy": "2025-07-17T15:10:48.851092Z",
     "iopub.status.idle": "2025-07-17T15:10:48.859154Z",
     "shell.execute_reply": "2025-07-17T15:10:48.858145Z"
    },
    "tags": [
     "remove-input"
    ]
   },
   "outputs": [
    {
     "data": {
      "text/markdown": [
       "A follow up to the Covid 19 Wave 1 survey conducted at the start of the national lockdown. The Covid Wave 2 survey was conducted 6-9 months after the first national lockdown."
      ],
      "text/plain": [
       "<IPython.core.display.Markdown object>"
      ]
     },
     "metadata": {},
     "output_type": "display_data"
    }
   ],
   "source": [
    "ds.summary()"
   ]
  },
  {
   "cell_type": "code",
   "execution_count": 3,
   "id": "8020f823",
   "metadata": {
    "execution": {
     "iopub.execute_input": "2025-07-17T15:10:48.864154Z",
     "iopub.status.busy": "2025-07-17T15:10:48.864154Z",
     "iopub.status.idle": "2025-07-17T15:10:49.854821Z",
     "shell.execute_reply": "2025-07-17T15:10:49.854821Z"
    },
    "tags": [
     "remove-input"
    ]
   },
   "outputs": [
    {
     "data": {
      "text/html": [
       "<style type=\"text/css\">\n",
       "#T_68462 th {\n",
       "  text-align: left;\n",
       "}\n",
       "#T_68462_row0_col0, #T_68462_row0_col1, #T_68462_row1_col0, #T_68462_row1_col1, #T_68462_row2_col0, #T_68462_row2_col1, #T_68462_row3_col0, #T_68462_row3_col1, #T_68462_row4_col0, #T_68462_row4_col1, #T_68462_row5_col0, #T_68462_row5_col1, #T_68462_row6_col0, #T_68462_row6_col1, #T_68462_row7_col0, #T_68462_row7_col1, #T_68462_row8_col0, #T_68462_row8_col1, #T_68462_row9_col0, #T_68462_row9_col1, #T_68462_row10_col0, #T_68462_row10_col1, #T_68462_row11_col0, #T_68462_row11_col1, #T_68462_row12_col0, #T_68462_row12_col1 {\n",
       "  text-align: left;\n",
       "}\n",
       "</style>\n",
       "<table id=\"T_68462\" style=\"font-size: 14px\">\n",
       "  <thead>\n",
       "    <tr>\n",
       "      <th id=\"T_68462_level0_col0\" class=\"col_heading level0 col0\" >Dataset Descriptor</th>\n",
       "      <th id=\"T_68462_level0_col1\" class=\"col_heading level0 col1\" >Dataset-specific Information</th>\n",
       "    </tr>\n",
       "  </thead>\n",
       "  <tbody>\n",
       "    <tr>\n",
       "      <td id=\"T_68462_row0_col0\" class=\"data row0 col0\" >Name of Dataset in TRE</td>\n",
       "      <td id=\"T_68462_row0_col1\" class=\"data row0 col1\" >BIB_CV_W2</td>\n",
       "    </tr>\n",
       "    <tr>\n",
       "      <td id=\"T_68462_row1_col0\" class=\"data row1 col0\" >Citation (APA)</td>\n",
       "      <td id=\"T_68462_row1_col1\" class=\"data row1 col1\" >Bradford Institute for Health Research, Bradford Teaching Hospitals NHS Foundation Trust. (2022). <i>Born in Bradford (BiB): COVID-19 Wave 2.</i> UK Longitudinal Linkage Collaboration (UK LLC).  <a href=\"https://doi.org/10.83126/ukllc-dataset-00161-01\" rel=\"noopener noreferrer\" target=\"_blank\">https://doi.org/10.83126/ukllc-dataset-00161-01</a></td>\n",
       "    </tr>\n",
       "    <tr>\n",
       "      <td id=\"T_68462_row2_col0\" class=\"data row2 col0\" >Download Citation</td>\n",
       "      <td id=\"T_68462_row2_col1\" class=\"data row2 col1\" > <a href=\"https://api.test.datacite.org/application/vnd.citationstyles.csl+json/10.83126/ukllc-dataset-00161-01\" rel=\"noopener noreferrer\" target=\"_blank\">Citeproc JSON</a>&nbsp;&nbsp;&nbsp;&nbsp; <a href=\"https://api.test.datacite.org/application/x-bibtex/10.83126/ukllc-dataset-00161-01\" rel=\"noopener noreferrer\" target=\"_blank\">BibTeX</a>&nbsp;&nbsp;&nbsp;&nbsp; <a href=\"https://api.test.datacite.org/application/x-research-info-systems/10.83126/ukllc-dataset-00161-01\" rel=\"noopener noreferrer\" target=\"_blank\">RIS</a></td>\n",
       "    </tr>\n",
       "    <tr>\n",
       "      <td id=\"T_68462_row3_col0\" class=\"data row3 col0\" >Series</td>\n",
       "      <td id=\"T_68462_row3_col1\" class=\"data row3 col1\" > <a href=\"https://guidebook.ukllc.ac.uk/docs/lps/lps%20profiles/BIB\">Born in Bradford (BiB)</a></td>\n",
       "    </tr>\n",
       "    <tr>\n",
       "      <td id=\"T_68462_row4_col0\" class=\"data row4 col0\" >Owner</td>\n",
       "      <td id=\"T_68462_row4_col1\" class=\"data row4 col1\" >Bradford Teaching Hospitals NHS Foundation Trust</td>\n",
       "    </tr>\n",
       "    <tr>\n",
       "      <td id=\"T_68462_row5_col0\" class=\"data row5 col0\" >Temporal Coverage</td>\n",
       "      <td id=\"T_68462_row5_col1\" class=\"data row5 col1\" >10/2020 - 01/2021</td>\n",
       "    </tr>\n",
       "    <tr>\n",
       "      <td id=\"T_68462_row6_col0\" class=\"data row6 col0\" >Keywords</td>\n",
       "      <td id=\"T_68462_row6_col1\" class=\"data row6 col1\" ></td>\n",
       "    </tr>\n",
       "    <tr>\n",
       "      <td id=\"T_68462_row7_col0\" class=\"data row7 col0\" >Participants Invited</td>\n",
       "      <td id=\"T_68462_row7_col1\" class=\"data row7 col1\" >In process</td>\n",
       "    </tr>\n",
       "    <tr>\n",
       "      <td id=\"T_68462_row8_col0\" class=\"data row8 col0\" >Participant Count</td>\n",
       "      <td id=\"T_68462_row8_col1\" class=\"data row8 col1\" >631</td>\n",
       "    </tr>\n",
       "    <tr>\n",
       "      <td id=\"T_68462_row9_col0\" class=\"data row9 col0\" >Number of variables</td>\n",
       "      <td id=\"T_68462_row9_col1\" class=\"data row9 col1\" >449</td>\n",
       "    </tr>\n",
       "    <tr>\n",
       "      <td id=\"T_68462_row10_col0\" class=\"data row10 col0\" >Number of observations</td>\n",
       "      <td id=\"T_68462_row10_col1\" class=\"data row10 col1\" >28591</td>\n",
       "    </tr>\n",
       "    <tr>\n",
       "      <td id=\"T_68462_row11_col0\" class=\"data row11 col0\" >Specific Restrictions to Data Use</td>\n",
       "      <td id=\"T_68462_row11_col1\" class=\"data row11 col1\" >None</td>\n",
       "    </tr>\n",
       "    <tr>\n",
       "      <td id=\"T_68462_row12_col0\" class=\"data row12 col0\" >Build a Data Request</td>\n",
       "      <td id=\"T_68462_row12_col1\" class=\"data row12 col1\" > <a href=\"https://explore.ukllc.ac.uk/\" rel=\"noopener noreferrer\" target=\"_blank\">https://explore.ukllc.ac.uk/</a></td>\n",
       "    </tr>\n",
       "  </tbody>\n",
       "</table>\n"
      ],
      "text/plain": [
       "<pandas.io.formats.style.Styler at 0x2d50f468230>"
      ]
     },
     "execution_count": 3,
     "metadata": {},
     "output_type": "execute_result"
    }
   ],
   "source": [
    "ds.info_table()"
   ]
  },
  {
   "cell_type": "markdown",
   "id": "0cabc2a6",
   "metadata": {},
   "source": [
    "## 2. Version History"
   ]
  },
  {
   "cell_type": "code",
   "execution_count": 4,
   "id": "98eb7934",
   "metadata": {
    "execution": {
     "iopub.execute_input": "2025-07-17T15:10:49.857843Z",
     "iopub.status.busy": "2025-07-17T15:10:49.857843Z",
     "iopub.status.idle": "2025-07-17T15:10:52.856125Z",
     "shell.execute_reply": "2025-07-17T15:10:52.855105Z"
    },
    "tags": [
     "remove-input"
    ]
   },
   "outputs": [
    {
     "data": {
      "text/html": [
       "<style type=\"text/css\">\n",
       "#T_d78ff th {\n",
       "  text-align: left;\n",
       "}\n",
       "#T_d78ff_row0_col0, #T_d78ff_row0_col1, #T_d78ff_row1_col0, #T_d78ff_row1_col1, #T_d78ff_row2_col0, #T_d78ff_row2_col1, #T_d78ff_row3_col0, #T_d78ff_row3_col1, #T_d78ff_row4_col0, #T_d78ff_row4_col1 {\n",
       "  text-align: left;\n",
       "}\n",
       "</style>\n",
       "<table id=\"T_d78ff\" style=\"font-size: 14px\">\n",
       "  <thead>\n",
       "    <tr>\n",
       "      <th id=\"T_d78ff_level0_col0\" class=\"col_heading level0 col0\" >Version</th>\n",
       "      <th id=\"T_d78ff_level0_col1\" class=\"col_heading level0 col1\" >1</th>\n",
       "    </tr>\n",
       "  </thead>\n",
       "  <tbody>\n",
       "    <tr>\n",
       "      <td id=\"T_d78ff_row0_col0\" class=\"data row0 col0\" >Version Date</td>\n",
       "      <td id=\"T_d78ff_row0_col1\" class=\"data row0 col1\" >02 Mar 2022</td>\n",
       "    </tr>\n",
       "    <tr>\n",
       "      <td id=\"T_d78ff_row1_col0\" class=\"data row1 col0\" >Number of Variables</td>\n",
       "      <td id=\"T_d78ff_row1_col1\" class=\"data row1 col1\" >449</td>\n",
       "    </tr>\n",
       "    <tr>\n",
       "      <td id=\"T_d78ff_row2_col0\" class=\"data row2 col0\" >Number of Observations</td>\n",
       "      <td id=\"T_d78ff_row2_col1\" class=\"data row2 col1\" >28591</td>\n",
       "    </tr>\n",
       "    <tr>\n",
       "      <td id=\"T_d78ff_row3_col0\" class=\"data row3 col0\" >DOI</td>\n",
       "      <td id=\"T_d78ff_row3_col1\" class=\"data row3 col1\" > <a href=\"https://doi.org/10.83126/ukllc-dataset-00161-01\" rel=\"noopener noreferrer\" target=\"_blank\">10.83126/ukllc-dataset-00161-01</a></td>\n",
       "    </tr>\n",
       "    <tr>\n",
       "      <td id=\"T_d78ff_row4_col0\" class=\"data row4 col0\" >Change Log</td>\n",
       "      <td id=\"T_d78ff_row4_col1\" class=\"data row4 col1\" > <a href=\"https://api.test.datacite.org/dois/10.83126/ukllc-dataset-00161-01/activities\" rel=\"noopener noreferrer\" target=\"_blank\">10.83126/ukllc-dataset-00161-01/activities</a></td>\n",
       "    </tr>\n",
       "  </tbody>\n",
       "</table>\n"
      ],
      "text/plain": [
       "<pandas.io.formats.style.Styler at 0x2d510f3d130>"
      ]
     },
     "execution_count": 4,
     "metadata": {},
     "output_type": "execute_result"
    }
   ],
   "source": [
    "ds.version_history()"
   ]
  },
  {
   "cell_type": "markdown",
   "id": "08b9d7c5",
   "metadata": {},
   "source": [
    "## 3. Documentation"
   ]
  },
  {
   "cell_type": "code",
   "execution_count": 5,
   "id": "c79e4cfd",
   "metadata": {
    "execution": {
     "iopub.execute_input": "2025-07-17T15:10:52.865385Z",
     "iopub.status.busy": "2025-07-17T15:10:52.864386Z",
     "iopub.status.idle": "2025-07-17T15:10:52.876571Z",
     "shell.execute_reply": "2025-07-17T15:10:52.875555Z"
    },
    "tags": [
     "remove-input"
    ]
   },
   "outputs": [
    {
     "data": {
      "text/markdown": [
       "We are currently building a documentation storage system which will host useful documents related to datasets and data owners. We will surface these documents on Guidebook."
      ],
      "text/plain": [
       "<IPython.core.display.Markdown object>"
      ]
     },
     "metadata": {},
     "output_type": "display_data"
    }
   ],
   "source": [
    "ds.documentation()"
   ]
  },
  {
   "cell_type": "markdown",
   "id": "56d22878",
   "metadata": {},
   "source": [
    "## 4. Useful Syntax"
   ]
  },
  {
   "cell_type": "code",
   "execution_count": 6,
   "id": "50a5f1af",
   "metadata": {
    "execution": {
     "iopub.execute_input": "2025-07-17T15:10:52.883849Z",
     "iopub.status.busy": "2025-07-17T15:10:52.883849Z",
     "iopub.status.idle": "2025-07-17T15:10:52.896143Z",
     "shell.execute_reply": "2025-07-17T15:10:52.894126Z"
    },
    "tags": [
     "remove-input"
    ]
   },
   "outputs": [
    {
     "data": {
      "text/markdown": [
       "Below we will include syntax that may be helpful to other researchers in the UK LLC TRE. For longer scripts, we will include a snippet of the code plus a link to Git where you can find the full scripts."
      ],
      "text/plain": [
       "<IPython.core.display.Markdown object>"
      ]
     },
     "metadata": {},
     "output_type": "display_data"
    }
   ],
   "source": [
    "ds.useful_syntax()"
   ]
  }
 ],
 "metadata": {
  "language_info": {
   "codemirror_mode": {
    "name": "ipython",
    "version": 3
   },
   "file_extension": ".py",
   "mimetype": "text/x-python",
   "name": "python",
   "nbconvert_exporter": "python",
   "pygments_lexer": "ipython3",
   "version": "3.12.7"
  }
 },
 "nbformat": 4,
 "nbformat_minor": 5
}
