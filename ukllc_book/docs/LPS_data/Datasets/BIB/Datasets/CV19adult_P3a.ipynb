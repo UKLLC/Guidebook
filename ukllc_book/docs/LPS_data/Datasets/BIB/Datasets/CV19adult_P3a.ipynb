{
 "cells": [
  {
   "cell_type": "markdown",
   "id": "46999a13",
   "metadata": {},
   "source": [
    "# COVID-19 Adult Phase 3 A (BIB)"
   ]
  },
  {
   "cell_type": "code",
   "execution_count": 1,
   "id": "e81286e7",
   "metadata": {
    "execution": {
     "iopub.execute_input": "2025-07-28T18:02:38.318920Z",
     "iopub.status.busy": "2025-07-28T18:02:38.318920Z",
     "iopub.status.idle": "2025-07-28T18:02:52.252262Z",
     "shell.execute_reply": "2025-07-28T18:02:52.248257Z"
    },
    "tags": [
     "remove-input"
    ]
   },
   "outputs": [
    {
     "data": {
      "text/markdown": [
       ">Last modified: 28 Jul 2025"
      ],
      "text/plain": [
       "<IPython.core.display.Markdown object>"
      ]
     },
     "metadata": {},
     "output_type": "display_data"
    }
   ],
   "source": [
    "\n",
    "import sys\n",
    "import os\n",
    "sys.path.append(os.path.abspath('../../../../scripts/'))\n",
    "from data_doc_helper import LPSDataSet as DS, last_modified\n",
    "API_KEY = os.environ['FASTAPI_KEY']\n",
    "ds = DS(\"BIB\", \"CV19adult_P3a\")\n",
    "last_modified()\n"
   ]
  },
  {
   "cell_type": "markdown",
   "id": "2c757ac6",
   "metadata": {},
   "source": [
    "## 1. Summary"
   ]
  },
  {
   "cell_type": "code",
   "execution_count": 2,
   "id": "5819189e",
   "metadata": {
    "execution": {
     "iopub.execute_input": "2025-07-28T18:02:52.260267Z",
     "iopub.status.busy": "2025-07-28T18:02:52.259266Z",
     "iopub.status.idle": "2025-07-28T18:02:52.270167Z",
     "shell.execute_reply": "2025-07-28T18:02:52.269161Z"
    },
    "tags": [
     "remove-input"
    ]
   },
   "outputs": [
    {
     "data": {
      "text/markdown": [
       "A follow up to the Covid 19 Phase 1 and 2 surveys conducted at the start of the national lockdown. "
      ],
      "text/plain": [
       "<IPython.core.display.Markdown object>"
      ]
     },
     "metadata": {},
     "output_type": "display_data"
    }
   ],
   "source": [
    "ds.summary()"
   ]
  },
  {
   "cell_type": "code",
   "execution_count": 3,
   "id": "ff98d74f",
   "metadata": {
    "execution": {
     "iopub.execute_input": "2025-07-28T18:02:52.275167Z",
     "iopub.status.busy": "2025-07-28T18:02:52.275167Z",
     "iopub.status.idle": "2025-07-28T18:02:53.613877Z",
     "shell.execute_reply": "2025-07-28T18:02:53.611863Z"
    },
    "tags": [
     "remove-input"
    ]
   },
   "outputs": [
    {
     "data": {
      "text/html": [
       "<style type=\"text/css\">\n",
       "#T_a43be th {\n",
       "  text-align: left;\n",
       "}\n",
       "#T_a43be_row0_col0, #T_a43be_row0_col1, #T_a43be_row1_col0, #T_a43be_row1_col1, #T_a43be_row2_col0, #T_a43be_row2_col1, #T_a43be_row3_col0, #T_a43be_row3_col1, #T_a43be_row4_col0, #T_a43be_row4_col1, #T_a43be_row5_col0, #T_a43be_row5_col1, #T_a43be_row6_col0, #T_a43be_row6_col1, #T_a43be_row7_col0, #T_a43be_row7_col1, #T_a43be_row8_col0, #T_a43be_row8_col1, #T_a43be_row9_col0, #T_a43be_row9_col1, #T_a43be_row10_col0, #T_a43be_row10_col1, #T_a43be_row11_col0, #T_a43be_row11_col1, #T_a43be_row12_col0, #T_a43be_row12_col1 {\n",
       "  text-align: left;\n",
       "}\n",
       "</style>\n",
       "<table id=\"T_a43be\" style=\"font-size: 14px\">\n",
       "  <thead>\n",
       "    <tr>\n",
       "      <th id=\"T_a43be_level0_col0\" class=\"col_heading level0 col0\" >Dataset Descriptor</th>\n",
       "      <th id=\"T_a43be_level0_col1\" class=\"col_heading level0 col1\" >Dataset-specific Information</th>\n",
       "    </tr>\n",
       "  </thead>\n",
       "  <tbody>\n",
       "    <tr>\n",
       "      <td id=\"T_a43be_row0_col0\" class=\"data row0 col0\" >Name of Dataset in TRE</td>\n",
       "      <td id=\"T_a43be_row0_col1\" class=\"data row0 col1\" >BIB_CV19adult_P3a</td>\n",
       "    </tr>\n",
       "    <tr>\n",
       "      <td id=\"T_a43be_row1_col0\" class=\"data row1 col0\" >Citation (APA)</td>\n",
       "      <td id=\"T_a43be_row1_col1\" class=\"data row1 col1\" >Bradford Institute for Health Research, Bradford Teaching Hospitals NHS Foundation Trust. (2022). <i>Born in Bradford (BiB): COVID-19 Adult Phase 3 A.</i> UK Longitudinal Linkage Collaboration (UK LLC).  <a href=\"https://doi.org/10.71760/ukllc-dataset-00072-02\" rel=\"noopener noreferrer\" target=\"_blank\">https://doi.org/10.71760/ukllc-dataset-00072-02</a></td>\n",
       "    </tr>\n",
       "    <tr>\n",
       "      <td id=\"T_a43be_row2_col0\" class=\"data row2 col0\" >Download Citation</td>\n",
       "      <td id=\"T_a43be_row2_col1\" class=\"data row2 col1\" > <a href=\"https://api.datacite.org/application/vnd.citationstyles.csl+json/10.71760/ukllc-dataset-00072-02\" rel=\"noopener noreferrer\" target=\"_blank\">Citeproc JSON</a>&nbsp;&nbsp;&nbsp;&nbsp; <a href=\"https://api.datacite.org/application/x-bibtex/10.71760/ukllc-dataset-00072-02\" rel=\"noopener noreferrer\" target=\"_blank\">BibTeX</a>&nbsp;&nbsp;&nbsp;&nbsp; <a href=\"https://api.datacite.org/application/x-research-info-systems/10.71760/ukllc-dataset-00072-02\" rel=\"noopener noreferrer\" target=\"_blank\">RIS</a></td>\n",
       "    </tr>\n",
       "    <tr>\n",
       "      <td id=\"T_a43be_row3_col0\" class=\"data row3 col0\" >Series</td>\n",
       "      <td id=\"T_a43be_row3_col1\" class=\"data row3 col1\" > <a href=\"https://guidebook.ukllc.ac.uk/docs/lps_data/lps%20profiles/BIB\">Born in Bradford (BiB)</a></td>\n",
       "    </tr>\n",
       "    <tr>\n",
       "      <td id=\"T_a43be_row4_col0\" class=\"data row4 col0\" >Owner</td>\n",
       "      <td id=\"T_a43be_row4_col1\" class=\"data row4 col1\" >Bradford Teaching Hospitals NHS Foundation Trust</td>\n",
       "    </tr>\n",
       "    <tr>\n",
       "      <td id=\"T_a43be_row5_col0\" class=\"data row5 col0\" >Temporal Coverage</td>\n",
       "      <td id=\"T_a43be_row5_col1\" class=\"data row5 col1\" >04/2021 - 01/2021</td>\n",
       "    </tr>\n",
       "    <tr>\n",
       "      <td id=\"T_a43be_row6_col0\" class=\"data row6 col0\" >Keywords</td>\n",
       "      <td id=\"T_a43be_row6_col1\" class=\"data row6 col1\" ></td>\n",
       "    </tr>\n",
       "    <tr>\n",
       "      <td id=\"T_a43be_row7_col0\" class=\"data row7 col0\" >Participants Invited</td>\n",
       "      <td id=\"T_a43be_row7_col1\" class=\"data row7 col1\" >28591</td>\n",
       "    </tr>\n",
       "    <tr>\n",
       "      <td id=\"T_a43be_row8_col0\" class=\"data row8 col0\" >Participant Count</td>\n",
       "      <td id=\"T_a43be_row8_col1\" class=\"data row8 col1\" >1139</td>\n",
       "    </tr>\n",
       "    <tr>\n",
       "      <td id=\"T_a43be_row9_col0\" class=\"data row9 col0\" >Number of variables</td>\n",
       "      <td id=\"T_a43be_row9_col1\" class=\"data row9 col1\" >159</td>\n",
       "    </tr>\n",
       "    <tr>\n",
       "      <td id=\"T_a43be_row10_col0\" class=\"data row10 col0\" >Number of observations</td>\n",
       "      <td id=\"T_a43be_row10_col1\" class=\"data row10 col1\" >28591</td>\n",
       "    </tr>\n",
       "    <tr>\n",
       "      <td id=\"T_a43be_row11_col0\" class=\"data row11 col0\" >Specific Restrictions to Data Use</td>\n",
       "      <td id=\"T_a43be_row11_col1\" class=\"data row11 col1\" >None</td>\n",
       "    </tr>\n",
       "    <tr>\n",
       "      <td id=\"T_a43be_row12_col0\" class=\"data row12 col0\" >Build a Data Request</td>\n",
       "      <td id=\"T_a43be_row12_col1\" class=\"data row12 col1\" > <a href=\"https://explore.ukllc.ac.uk/\" rel=\"noopener noreferrer\" target=\"_blank\">https://explore.ukllc.ac.uk/</a></td>\n",
       "    </tr>\n",
       "  </tbody>\n",
       "</table>\n"
      ],
      "text/plain": [
       "<pandas.io.formats.style.Styler at 0x2b342f0b890>"
      ]
     },
     "execution_count": 3,
     "metadata": {},
     "output_type": "execute_result"
    }
   ],
   "source": [
    "ds.info_table()"
   ]
  },
  {
   "cell_type": "markdown",
   "id": "c2ca5978",
   "metadata": {},
   "source": [
    "## 2. Version History"
   ]
  },
  {
   "cell_type": "code",
   "execution_count": 4,
   "id": "048cb3fe",
   "metadata": {
    "execution": {
     "iopub.execute_input": "2025-07-28T18:02:53.620868Z",
     "iopub.status.busy": "2025-07-28T18:02:53.619868Z",
     "iopub.status.idle": "2025-07-28T18:02:58.686657Z",
     "shell.execute_reply": "2025-07-28T18:02:58.685558Z"
    },
    "tags": [
     "remove-input"
    ]
   },
   "outputs": [
    {
     "data": {
      "text/html": [
       "<style type=\"text/css\">\n",
       "#T_0d6e3 th {\n",
       "  text-align: left;\n",
       "}\n",
       "#T_0d6e3_row0_col0, #T_0d6e3_row0_col1, #T_0d6e3_row1_col0, #T_0d6e3_row1_col1, #T_0d6e3_row2_col0, #T_0d6e3_row2_col1, #T_0d6e3_row3_col0, #T_0d6e3_row3_col1, #T_0d6e3_row4_col0, #T_0d6e3_row4_col1 {\n",
       "  text-align: left;\n",
       "}\n",
       "</style>\n",
       "<table id=\"T_0d6e3\" style=\"font-size: 14px\">\n",
       "  <thead>\n",
       "    <tr>\n",
       "      <th id=\"T_0d6e3_level0_col0\" class=\"col_heading level0 col0\" >Version</th>\n",
       "      <th id=\"T_0d6e3_level0_col1\" class=\"col_heading level0 col1\" >2</th>\n",
       "    </tr>\n",
       "  </thead>\n",
       "  <tbody>\n",
       "    <tr>\n",
       "      <td id=\"T_0d6e3_row0_col0\" class=\"data row0 col0\" >Version Date</td>\n",
       "      <td id=\"T_0d6e3_row0_col1\" class=\"data row0 col1\" >13 Sep 2022</td>\n",
       "    </tr>\n",
       "    <tr>\n",
       "      <td id=\"T_0d6e3_row1_col0\" class=\"data row1 col0\" >Number of Variables</td>\n",
       "      <td id=\"T_0d6e3_row1_col1\" class=\"data row1 col1\" >159</td>\n",
       "    </tr>\n",
       "    <tr>\n",
       "      <td id=\"T_0d6e3_row2_col0\" class=\"data row2 col0\" >Number of Observations</td>\n",
       "      <td id=\"T_0d6e3_row2_col1\" class=\"data row2 col1\" >28591</td>\n",
       "    </tr>\n",
       "    <tr>\n",
       "      <td id=\"T_0d6e3_row3_col0\" class=\"data row3 col0\" >DOI</td>\n",
       "      <td id=\"T_0d6e3_row3_col1\" class=\"data row3 col1\" > <a href=\"https://doi.org/10.71760/ukllc-dataset-00072-02\" rel=\"noopener noreferrer\" target=\"_blank\">10.71760/ukllc-dataset-00072-02</a></td>\n",
       "    </tr>\n",
       "    <tr>\n",
       "      <td id=\"T_0d6e3_row4_col0\" class=\"data row4 col0\" >Change Log</td>\n",
       "      <td id=\"T_0d6e3_row4_col1\" class=\"data row4 col1\" > <a href=\"https://api.test.datacite.org/dois/10.71760/ukllc-dataset-00072-02/activities\" rel=\"noopener noreferrer\" target=\"_blank\">10.71760/ukllc-dataset-00072-02/activities</a></td>\n",
       "    </tr>\n",
       "  </tbody>\n",
       "</table>\n"
      ],
      "text/plain": [
       "<pandas.io.formats.style.Styler at 0x2b344a6ea80>"
      ]
     },
     "execution_count": 4,
     "metadata": {},
     "output_type": "execute_result"
    }
   ],
   "source": [
    "ds.version_history()"
   ]
  },
  {
   "cell_type": "markdown",
   "id": "4d5722c0",
   "metadata": {},
   "source": [
    "## 3. Documentation"
   ]
  },
  {
   "cell_type": "code",
   "execution_count": 5,
   "id": "1f7e3414",
   "metadata": {
    "execution": {
     "iopub.execute_input": "2025-07-28T18:02:58.691668Z",
     "iopub.status.busy": "2025-07-28T18:02:58.690671Z",
     "iopub.status.idle": "2025-07-28T18:02:58.698855Z",
     "shell.execute_reply": "2025-07-28T18:02:58.697848Z"
    },
    "tags": [
     "remove-input"
    ]
   },
   "outputs": [
    {
     "data": {
      "text/markdown": [
       "We are currently building a documentation storage system which will host useful documents related to datasets and data owners. We will surface these documents on Guidebook."
      ],
      "text/plain": [
       "<IPython.core.display.Markdown object>"
      ]
     },
     "metadata": {},
     "output_type": "display_data"
    }
   ],
   "source": [
    "ds.documentation()"
   ]
  },
  {
   "cell_type": "markdown",
   "id": "5f079ddc",
   "metadata": {},
   "source": [
    "## 4. Useful Syntax"
   ]
  },
  {
   "cell_type": "code",
   "execution_count": 6,
   "id": "7de6046c",
   "metadata": {
    "execution": {
     "iopub.execute_input": "2025-07-28T18:02:58.704859Z",
     "iopub.status.busy": "2025-07-28T18:02:58.704859Z",
     "iopub.status.idle": "2025-07-28T18:02:58.715362Z",
     "shell.execute_reply": "2025-07-28T18:02:58.714856Z"
    },
    "tags": [
     "remove-input"
    ]
   },
   "outputs": [
    {
     "data": {
      "text/markdown": [
       "Below we will include syntax that may be helpful to other researchers in the UK LLC TRE. For longer scripts, we will include a snippet of the code plus a link to Git where you can find the full scripts."
      ],
      "text/plain": [
       "<IPython.core.display.Markdown object>"
      ]
     },
     "metadata": {},
     "output_type": "display_data"
    }
   ],
   "source": [
    "ds.useful_syntax()"
   ]
  }
 ],
 "metadata": {
  "language_info": {
   "codemirror_mode": {
    "name": "ipython",
    "version": 3
   },
   "file_extension": ".py",
   "mimetype": "text/x-python",
   "name": "python",
   "nbconvert_exporter": "python",
   "pygments_lexer": "ipython3",
   "version": "3.12.7"
  }
 },
 "nbformat": 4,
 "nbformat_minor": 5
}
