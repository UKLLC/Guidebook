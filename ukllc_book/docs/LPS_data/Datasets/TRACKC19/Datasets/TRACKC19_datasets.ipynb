{
 "cells": [
  {
   "cell_type": "markdown",
   "id": "1cf9b90b",
   "metadata": {},
   "source": [
    "# TRACK-COVID Study Datasets"
   ]
  },
  {
   "cell_type": "code",
   "execution_count": 1,
   "id": "8eadf4db",
   "metadata": {
    "execution": {
     "iopub.execute_input": "2025-07-28T20:36:09.088438Z",
     "iopub.status.busy": "2025-07-28T20:36:09.088438Z",
     "iopub.status.idle": "2025-07-28T20:36:13.648015Z",
     "shell.execute_reply": "2025-07-28T20:36:13.645952Z"
    },
    "tags": [
     "remove-input"
    ]
   },
   "outputs": [
    {
     "data": {
      "text/markdown": [
       ">Last modified: 28 Jul 2025"
      ],
      "text/plain": [
       "<IPython.core.display.Markdown object>"
      ]
     },
     "metadata": {},
     "output_type": "display_data"
    }
   ],
   "source": [
    "\n",
    "import sys\n",
    "import os\n",
    "sys.path.append(os.path.abspath('../../../../scripts/'))\n",
    "from data_doc_helper import LPSSource as SS, last_modified\n",
    "API_KEY = os.environ['FASTAPI_KEY']\n",
    "ss = SS(\"TRACKC19\")\n",
    "last_modified()\n"
   ]
  },
  {
   "cell_type": "markdown",
   "id": "15ef590f",
   "metadata": {},
   "source": [
    "## 1. Datasets"
   ]
  },
  {
   "cell_type": "code",
   "execution_count": 2,
   "id": "422c2ae8",
   "metadata": {
    "execution": {
     "iopub.execute_input": "2025-07-28T20:36:13.656922Z",
     "iopub.status.busy": "2025-07-28T20:36:13.655924Z",
     "iopub.status.idle": "2025-07-28T20:36:13.668183Z",
     "shell.execute_reply": "2025-07-28T20:36:13.666165Z"
    },
    "tags": [
     "remove-input"
    ]
   },
   "outputs": [
    {
     "data": {
      "text/markdown": [
       "**Table 1:** Datasets and metrics in the UK LLC belonging to TRACKC19."
      ],
      "text/plain": [
       "<IPython.core.display.Markdown object>"
      ]
     },
     "metadata": {},
     "output_type": "display_data"
    }
   ],
   "source": [
    "ss.table_caption_ds()"
   ]
  },
  {
   "cell_type": "code",
   "execution_count": 3,
   "id": "8eb8e79c",
   "metadata": {
    "execution": {
     "iopub.execute_input": "2025-07-28T20:36:13.674199Z",
     "iopub.status.busy": "2025-07-28T20:36:13.674199Z",
     "iopub.status.idle": "2025-07-28T20:36:16.397380Z",
     "shell.execute_reply": "2025-07-28T20:36:16.394358Z"
    },
    "tags": [
     "remove-input",
     "hide-cell"
    ]
   },
   "outputs": [
    {
     "data": {
      "text/html": [
       "<style type=\"text/css\">\n",
       "#T_b3265 th {\n",
       "  text-align: left;\n",
       "}\n",
       "#T_b3265_row0_col0, #T_b3265_row0_col1, #T_b3265_row0_col2, #T_b3265_row0_col3, #T_b3265_row0_col4, #T_b3265_row1_col0, #T_b3265_row1_col1, #T_b3265_row1_col2, #T_b3265_row1_col3, #T_b3265_row1_col4, #T_b3265_row2_col0, #T_b3265_row2_col1, #T_b3265_row2_col2, #T_b3265_row2_col3, #T_b3265_row2_col4 {\n",
       "  text-align: left;\n",
       "}\n",
       "</style>\n",
       "<table id=\"T_b3265\" style=\"font-size: 14px\">\n",
       "  <thead>\n",
       "    <tr>\n",
       "      <th id=\"T_b3265_level0_col0\" class=\"col_heading level0 col0\" >Dataset</th>\n",
       "      <th id=\"T_b3265_level0_col1\" class=\"col_heading level0 col1\" >Dataset Name</th>\n",
       "      <th id=\"T_b3265_level0_col2\" class=\"col_heading level0 col2\" ># Participants</th>\n",
       "      <th id=\"T_b3265_level0_col3\" class=\"col_heading level0 col3\" ># Observations</th>\n",
       "      <th id=\"T_b3265_level0_col4\" class=\"col_heading level0 col4\" ># Variables</th>\n",
       "    </tr>\n",
       "  </thead>\n",
       "  <tbody>\n",
       "    <tr>\n",
       "      <td id=\"T_b3265_row0_col0\" class=\"data row0 col0\" > <a href=\"baseline.html\">baseline</a></td>\n",
       "      <td id=\"T_b3265_row0_col1\" class=\"data row0 col1\" >Baseline Questionnaire</td>\n",
       "      <td id=\"T_b3265_row0_col2\" class=\"data row0 col2\" >18134</td>\n",
       "      <td id=\"T_b3265_row0_col3\" class=\"data row0 col3\" >18134</td>\n",
       "      <td id=\"T_b3265_row0_col4\" class=\"data row0 col4\" >240</td>\n",
       "    </tr>\n",
       "    <tr>\n",
       "      <td id=\"T_b3265_row1_col0\" class=\"data row1 col0\" > <a href=\"followUp.html\">followUp</a></td>\n",
       "      <td id=\"T_b3265_row1_col1\" class=\"data row1 col1\" >Follow-up Questionnaire</td>\n",
       "      <td id=\"T_b3265_row1_col2\" class=\"data row1 col2\" >16035</td>\n",
       "      <td id=\"T_b3265_row1_col3\" class=\"data row1 col3\" >161073</td>\n",
       "      <td id=\"T_b3265_row1_col4\" class=\"data row1 col4\" >103</td>\n",
       "    </tr>\n",
       "    <tr>\n",
       "      <td id=\"T_b3265_row2_col0\" class=\"data row2 col0\" > <a href=\"basicInfo.html\">basicInfo</a></td>\n",
       "      <td id=\"T_b3265_row2_col1\" class=\"data row2 col1\" >Basic Information</td>\n",
       "      <td id=\"T_b3265_row2_col2\" class=\"data row2 col2\" >19635</td>\n",
       "      <td id=\"T_b3265_row2_col3\" class=\"data row2 col3\" >19635</td>\n",
       "      <td id=\"T_b3265_row2_col4\" class=\"data row2 col4\" >7</td>\n",
       "    </tr>\n",
       "  </tbody>\n",
       "</table>\n"
      ],
      "text/plain": [
       "<pandas.io.formats.style.Styler at 0x1f48e01ad50>"
      ]
     },
     "execution_count": 3,
     "metadata": {},
     "output_type": "execute_result"
    }
   ],
   "source": [
    "ss.datasets()"
   ]
  }
 ],
 "metadata": {
  "language_info": {
   "codemirror_mode": {
    "name": "ipython",
    "version": 3
   },
   "file_extension": ".py",
   "mimetype": "text/x-python",
   "name": "python",
   "nbconvert_exporter": "python",
   "pygments_lexer": "ipython3",
   "version": "3.12.7"
  },
  "mystnb": {
   "code_prompt_hide": "Hide Datasets",
   "code_prompt_show": "Show Datasets"
  }
 },
 "nbformat": 4,
 "nbformat_minor": 5
}
