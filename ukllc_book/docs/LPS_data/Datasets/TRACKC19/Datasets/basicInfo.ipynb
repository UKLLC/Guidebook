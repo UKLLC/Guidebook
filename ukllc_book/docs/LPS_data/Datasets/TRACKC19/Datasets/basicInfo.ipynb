{
 "cells": [
  {
   "cell_type": "markdown",
   "id": "8f5a696c",
   "metadata": {},
   "source": [
    "# Basic Information (TRACKC19)"
   ]
  },
  {
   "cell_type": "code",
   "execution_count": 1,
   "id": "fa882e5d",
   "metadata": {
    "execution": {
     "iopub.execute_input": "2025-07-28T20:35:22.887226Z",
     "iopub.status.busy": "2025-07-28T20:35:22.887226Z",
     "iopub.status.idle": "2025-07-28T20:35:35.770845Z",
     "shell.execute_reply": "2025-07-28T20:35:35.768830Z"
    },
    "tags": [
     "remove-input"
    ]
   },
   "outputs": [
    {
     "data": {
      "text/markdown": [
       ">Last modified: 28 Jul 2025"
      ],
      "text/plain": [
       "<IPython.core.display.Markdown object>"
      ]
     },
     "metadata": {},
     "output_type": "display_data"
    }
   ],
   "source": [
    "\n",
    "import sys\n",
    "import os\n",
    "sys.path.append(os.path.abspath('../../../../scripts/'))\n",
    "from data_doc_helper import LPSDataSet as DS, last_modified\n",
    "API_KEY = os.environ['FASTAPI_KEY']\n",
    "ds = DS(\"TRACKC19\", \"basicInfo\")\n",
    "last_modified()\n"
   ]
  },
  {
   "cell_type": "markdown",
   "id": "b5460d9c",
   "metadata": {},
   "source": [
    "## 1. Summary"
   ]
  },
  {
   "cell_type": "code",
   "execution_count": 2,
   "id": "5f02fbfa",
   "metadata": {
    "execution": {
     "iopub.execute_input": "2025-07-28T20:35:35.778850Z",
     "iopub.status.busy": "2025-07-28T20:35:35.777846Z",
     "iopub.status.idle": "2025-07-28T20:35:35.791309Z",
     "shell.execute_reply": "2025-07-28T20:35:35.788709Z"
    },
    "tags": [
     "remove-input"
    ]
   },
   "outputs": [
    {
     "data": {
      "text/markdown": [
       "This block contains basic demographic information such as age and sex"
      ],
      "text/plain": [
       "<IPython.core.display.Markdown object>"
      ]
     },
     "metadata": {},
     "output_type": "display_data"
    }
   ],
   "source": [
    "ds.summary()"
   ]
  },
  {
   "cell_type": "code",
   "execution_count": 3,
   "id": "ef6ceaeb",
   "metadata": {
    "execution": {
     "iopub.execute_input": "2025-07-28T20:35:35.798327Z",
     "iopub.status.busy": "2025-07-28T20:35:35.797327Z",
     "iopub.status.idle": "2025-07-28T20:35:37.429627Z",
     "shell.execute_reply": "2025-07-28T20:35:37.427608Z"
    },
    "tags": [
     "remove-input"
    ]
   },
   "outputs": [
    {
     "data": {
      "text/html": [
       "<style type=\"text/css\">\n",
       "#T_f018f th {\n",
       "  text-align: left;\n",
       "}\n",
       "#T_f018f_row0_col0, #T_f018f_row0_col1, #T_f018f_row1_col0, #T_f018f_row1_col1, #T_f018f_row2_col0, #T_f018f_row2_col1, #T_f018f_row3_col0, #T_f018f_row3_col1, #T_f018f_row4_col0, #T_f018f_row4_col1, #T_f018f_row5_col0, #T_f018f_row5_col1, #T_f018f_row6_col0, #T_f018f_row6_col1, #T_f018f_row7_col0, #T_f018f_row7_col1, #T_f018f_row8_col0, #T_f018f_row8_col1, #T_f018f_row9_col0, #T_f018f_row9_col1, #T_f018f_row10_col0, #T_f018f_row10_col1, #T_f018f_row11_col0, #T_f018f_row11_col1, #T_f018f_row12_col0, #T_f018f_row12_col1 {\n",
       "  text-align: left;\n",
       "}\n",
       "</style>\n",
       "<table id=\"T_f018f\" style=\"font-size: 14px\">\n",
       "  <thead>\n",
       "    <tr>\n",
       "      <th id=\"T_f018f_level0_col0\" class=\"col_heading level0 col0\" >Dataset Descriptor</th>\n",
       "      <th id=\"T_f018f_level0_col1\" class=\"col_heading level0 col1\" >Dataset-specific Information</th>\n",
       "    </tr>\n",
       "  </thead>\n",
       "  <tbody>\n",
       "    <tr>\n",
       "      <td id=\"T_f018f_row0_col0\" class=\"data row0 col0\" >Name of Dataset in TRE</td>\n",
       "      <td id=\"T_f018f_row0_col1\" class=\"data row0 col1\" >TRACKC19_basicInfo</td>\n",
       "    </tr>\n",
       "    <tr>\n",
       "      <td id=\"T_f018f_row1_col0\" class=\"data row1 col0\" >Citation (APA)</td>\n",
       "      <td id=\"T_f018f_row1_col1\" class=\"data row1 col1\" >Department of Public Health and Primary Care, University of Cambridge. (2021). <i>TRACK-COVID Study: Basic Information.</i> UK Longitudinal Linkage Collaboration (UK LLC).  <a href=\"https://doi.org/10.71760/ukllc-dataset-00321-01\" rel=\"noopener noreferrer\" target=\"_blank\">https://doi.org/10.71760/ukllc-dataset-00321-01</a></td>\n",
       "    </tr>\n",
       "    <tr>\n",
       "      <td id=\"T_f018f_row2_col0\" class=\"data row2 col0\" >Download Citation</td>\n",
       "      <td id=\"T_f018f_row2_col1\" class=\"data row2 col1\" > <a href=\"https://api.datacite.org/application/vnd.citationstyles.csl+json/10.71760/ukllc-dataset-00321-01\" rel=\"noopener noreferrer\" target=\"_blank\">Citeproc JSON</a>&nbsp;&nbsp;&nbsp;&nbsp; <a href=\"https://api.datacite.org/application/x-bibtex/10.71760/ukllc-dataset-00321-01\" rel=\"noopener noreferrer\" target=\"_blank\">BibTeX</a>&nbsp;&nbsp;&nbsp;&nbsp; <a href=\"https://api.datacite.org/application/x-research-info-systems/10.71760/ukllc-dataset-00321-01\" rel=\"noopener noreferrer\" target=\"_blank\">RIS</a></td>\n",
       "    </tr>\n",
       "    <tr>\n",
       "      <td id=\"T_f018f_row3_col0\" class=\"data row3 col0\" >Series</td>\n",
       "      <td id=\"T_f018f_row3_col1\" class=\"data row3 col1\" > <a href=\"https://guidebook.ukllc.ac.uk/docs/lps_data/lps%20profiles/TRACKC19\">TRACK-COVID Study</a></td>\n",
       "    </tr>\n",
       "    <tr>\n",
       "      <td id=\"T_f018f_row4_col0\" class=\"data row4 col0\" >Owner</td>\n",
       "      <td id=\"T_f018f_row4_col1\" class=\"data row4 col1\" >University of Cambridge</td>\n",
       "    </tr>\n",
       "    <tr>\n",
       "      <td id=\"T_f018f_row5_col0\" class=\"data row5 col0\" >Temporal Coverage</td>\n",
       "      <td id=\"T_f018f_row5_col1\" class=\"data row5 col1\" >05/2020 - 12/2020</td>\n",
       "    </tr>\n",
       "    <tr>\n",
       "      <td id=\"T_f018f_row6_col0\" class=\"data row6 col0\" >Keywords</td>\n",
       "      <td id=\"T_f018f_row6_col1\" class=\"data row6 col1\" ></td>\n",
       "    </tr>\n",
       "    <tr>\n",
       "      <td id=\"T_f018f_row7_col0\" class=\"data row7 col0\" >Participants Invited</td>\n",
       "      <td id=\"T_f018f_row7_col1\" class=\"data row7 col1\" > 74874 </td>\n",
       "    </tr>\n",
       "    <tr>\n",
       "      <td id=\"T_f018f_row8_col0\" class=\"data row8 col0\" >Participant Count</td>\n",
       "      <td id=\"T_f018f_row8_col1\" class=\"data row8 col1\" >19635</td>\n",
       "    </tr>\n",
       "    <tr>\n",
       "      <td id=\"T_f018f_row9_col0\" class=\"data row9 col0\" >Number of variables</td>\n",
       "      <td id=\"T_f018f_row9_col1\" class=\"data row9 col1\" >7</td>\n",
       "    </tr>\n",
       "    <tr>\n",
       "      <td id=\"T_f018f_row10_col0\" class=\"data row10 col0\" >Number of observations</td>\n",
       "      <td id=\"T_f018f_row10_col1\" class=\"data row10 col1\" >19635</td>\n",
       "    </tr>\n",
       "    <tr>\n",
       "      <td id=\"T_f018f_row11_col0\" class=\"data row11 col0\" >Specific Restrictions to Data Use</td>\n",
       "      <td id=\"T_f018f_row11_col1\" class=\"data row11 col1\" >None</td>\n",
       "    </tr>\n",
       "    <tr>\n",
       "      <td id=\"T_f018f_row12_col0\" class=\"data row12 col0\" >Build a Data Request</td>\n",
       "      <td id=\"T_f018f_row12_col1\" class=\"data row12 col1\" > <a href=\"https://explore.ukllc.ac.uk/\" rel=\"noopener noreferrer\" target=\"_blank\">https://explore.ukllc.ac.uk/</a></td>\n",
       "    </tr>\n",
       "  </tbody>\n",
       "</table>\n"
      ],
      "text/plain": [
       "<pandas.io.formats.style.Styler at 0x2709ac7c410>"
      ]
     },
     "execution_count": 3,
     "metadata": {},
     "output_type": "execute_result"
    }
   ],
   "source": [
    "ds.info_table()"
   ]
  },
  {
   "cell_type": "markdown",
   "id": "857a21a3",
   "metadata": {},
   "source": [
    "## 2. Version History"
   ]
  },
  {
   "cell_type": "code",
   "execution_count": 4,
   "id": "a1c213f4",
   "metadata": {
    "execution": {
     "iopub.execute_input": "2025-07-28T20:35:37.438165Z",
     "iopub.status.busy": "2025-07-28T20:35:37.437163Z",
     "iopub.status.idle": "2025-07-28T20:35:42.723700Z",
     "shell.execute_reply": "2025-07-28T20:35:42.721582Z"
    },
    "tags": [
     "remove-input"
    ]
   },
   "outputs": [
    {
     "data": {
      "text/html": [
       "<style type=\"text/css\">\n",
       "#T_717df th {\n",
       "  text-align: left;\n",
       "}\n",
       "#T_717df_row0_col0, #T_717df_row0_col1, #T_717df_row1_col0, #T_717df_row1_col1, #T_717df_row2_col0, #T_717df_row2_col1, #T_717df_row3_col0, #T_717df_row3_col1, #T_717df_row4_col0, #T_717df_row4_col1 {\n",
       "  text-align: left;\n",
       "}\n",
       "</style>\n",
       "<table id=\"T_717df\" style=\"font-size: 14px\">\n",
       "  <thead>\n",
       "    <tr>\n",
       "      <th id=\"T_717df_level0_col0\" class=\"col_heading level0 col0\" >Version</th>\n",
       "      <th id=\"T_717df_level0_col1\" class=\"col_heading level0 col1\" >1</th>\n",
       "    </tr>\n",
       "  </thead>\n",
       "  <tbody>\n",
       "    <tr>\n",
       "      <td id=\"T_717df_row0_col0\" class=\"data row0 col0\" >Version Date</td>\n",
       "      <td id=\"T_717df_row0_col1\" class=\"data row0 col1\" >15 Sep 2021</td>\n",
       "    </tr>\n",
       "    <tr>\n",
       "      <td id=\"T_717df_row1_col0\" class=\"data row1 col0\" >Number of Variables</td>\n",
       "      <td id=\"T_717df_row1_col1\" class=\"data row1 col1\" >7</td>\n",
       "    </tr>\n",
       "    <tr>\n",
       "      <td id=\"T_717df_row2_col0\" class=\"data row2 col0\" >Number of Observations</td>\n",
       "      <td id=\"T_717df_row2_col1\" class=\"data row2 col1\" >19635</td>\n",
       "    </tr>\n",
       "    <tr>\n",
       "      <td id=\"T_717df_row3_col0\" class=\"data row3 col0\" >DOI</td>\n",
       "      <td id=\"T_717df_row3_col1\" class=\"data row3 col1\" > <a href=\"https://doi.org/10.71760/ukllc-dataset-00321-01\" rel=\"noopener noreferrer\" target=\"_blank\">10.71760/ukllc-dataset-00321-01</a></td>\n",
       "    </tr>\n",
       "    <tr>\n",
       "      <td id=\"T_717df_row4_col0\" class=\"data row4 col0\" >Change Log</td>\n",
       "      <td id=\"T_717df_row4_col1\" class=\"data row4 col1\" > <a href=\"https://api.test.datacite.org/dois/10.71760/ukllc-dataset-00321-01/activities\" rel=\"noopener noreferrer\" target=\"_blank\">10.71760/ukllc-dataset-00321-01/activities</a></td>\n",
       "    </tr>\n",
       "  </tbody>\n",
       "</table>\n"
      ],
      "text/plain": [
       "<pandas.io.formats.style.Styler at 0x270a08e6ed0>"
      ]
     },
     "execution_count": 4,
     "metadata": {},
     "output_type": "execute_result"
    }
   ],
   "source": [
    "ds.version_history()"
   ]
  },
  {
   "cell_type": "markdown",
   "id": "e555384c",
   "metadata": {},
   "source": [
    "## 3. Documentation"
   ]
  },
  {
   "cell_type": "code",
   "execution_count": 5,
   "id": "24c45993",
   "metadata": {
    "execution": {
     "iopub.execute_input": "2025-07-28T20:35:42.733709Z",
     "iopub.status.busy": "2025-07-28T20:35:42.732690Z",
     "iopub.status.idle": "2025-07-28T20:35:42.746294Z",
     "shell.execute_reply": "2025-07-28T20:35:42.744172Z"
    },
    "tags": [
     "remove-input"
    ]
   },
   "outputs": [
    {
     "data": {
      "text/markdown": [
       "We are currently building a documentation storage system which will host useful documents related to datasets and data owners. We will surface these documents on Guidebook."
      ],
      "text/plain": [
       "<IPython.core.display.Markdown object>"
      ]
     },
     "metadata": {},
     "output_type": "display_data"
    }
   ],
   "source": [
    "ds.documentation()"
   ]
  },
  {
   "cell_type": "markdown",
   "id": "f67e19e3",
   "metadata": {},
   "source": [
    "## 4. Useful Syntax"
   ]
  },
  {
   "cell_type": "code",
   "execution_count": 6,
   "id": "e5ea385b",
   "metadata": {
    "execution": {
     "iopub.execute_input": "2025-07-28T20:35:42.755224Z",
     "iopub.status.busy": "2025-07-28T20:35:42.755224Z",
     "iopub.status.idle": "2025-07-28T20:35:42.766389Z",
     "shell.execute_reply": "2025-07-28T20:35:42.765356Z"
    },
    "tags": [
     "remove-input"
    ]
   },
   "outputs": [
    {
     "data": {
      "text/markdown": [
       "Below we will include syntax that may be helpful to other researchers in the UK LLC TRE. For longer scripts, we will include a snippet of the code plus a link to Git where you can find the full scripts."
      ],
      "text/plain": [
       "<IPython.core.display.Markdown object>"
      ]
     },
     "metadata": {},
     "output_type": "display_data"
    }
   ],
   "source": [
    "ds.useful_syntax()"
   ]
  }
 ],
 "metadata": {
  "language_info": {
   "codemirror_mode": {
    "name": "ipython",
    "version": 3
   },
   "file_extension": ".py",
   "mimetype": "text/x-python",
   "name": "python",
   "nbconvert_exporter": "python",
   "pygments_lexer": "ipython3",
   "version": "3.12.7"
  }
 },
 "nbformat": 4,
 "nbformat_minor": 5
}
