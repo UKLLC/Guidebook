{
 "cells": [
  {
   "cell_type": "markdown",
   "id": "4b31ff13",
   "metadata": {},
   "source": [
    "# Follow-up Questionnaire (TRACKC19)"
   ]
  },
  {
   "cell_type": "code",
   "execution_count": 1,
   "id": "602d3743",
   "metadata": {
    "execution": {
     "iopub.execute_input": "2025-07-18T11:00:36.393024Z",
     "iopub.status.busy": "2025-07-18T11:00:36.392027Z",
     "iopub.status.idle": "2025-07-18T11:00:42.686931Z",
     "shell.execute_reply": "2025-07-18T11:00:42.685889Z"
    },
    "tags": [
     "remove-input"
    ]
   },
   "outputs": [
    {
     "data": {
      "text/markdown": [
       ">Last modified: 18 Jul 2025"
      ],
      "text/plain": [
       "<IPython.core.display.Markdown object>"
      ]
     },
     "metadata": {},
     "output_type": "display_data"
    }
   ],
   "source": [
    "\n",
    "import sys\n",
    "import os\n",
    "sys.path.append(os.path.abspath('../../../../scripts/'))\n",
    "from data_doc_helper import LPSDataSet as DS, last_modified\n",
    "API_KEY = os.environ['FASTAPI_KEY']\n",
    "ds = DS(\"TRACKC19\", \"followUp\")\n",
    "last_modified()\n"
   ]
  },
  {
   "cell_type": "markdown",
   "id": "24fcbc6c",
   "metadata": {},
   "source": [
    "## 1. Summary"
   ]
  },
  {
   "cell_type": "code",
   "execution_count": 2,
   "id": "ec13f9a0",
   "metadata": {
    "execution": {
     "iopub.execute_input": "2025-07-18T11:00:42.694041Z",
     "iopub.status.busy": "2025-07-18T11:00:42.693041Z",
     "iopub.status.idle": "2025-07-18T11:00:42.705795Z",
     "shell.execute_reply": "2025-07-18T11:00:42.703790Z"
    },
    "tags": [
     "remove-input"
    ]
   },
   "outputs": [
    {
     "data": {
      "text/markdown": [
       "This is a monthly repeat of the baseline questionnaire containing self reported symtpms, COVID status and Vaccine dates"
      ],
      "text/plain": [
       "<IPython.core.display.Markdown object>"
      ]
     },
     "metadata": {},
     "output_type": "display_data"
    }
   ],
   "source": [
    "ds.summary()"
   ]
  },
  {
   "cell_type": "code",
   "execution_count": 3,
   "id": "57f1a552",
   "metadata": {
    "execution": {
     "iopub.execute_input": "2025-07-18T11:00:42.711798Z",
     "iopub.status.busy": "2025-07-18T11:00:42.710798Z",
     "iopub.status.idle": "2025-07-18T11:00:43.896960Z",
     "shell.execute_reply": "2025-07-18T11:00:43.895438Z"
    },
    "tags": [
     "remove-input"
    ]
   },
   "outputs": [
    {
     "data": {
      "text/html": [
       "<style type=\"text/css\">\n",
       "#T_45c1d th {\n",
       "  text-align: left;\n",
       "}\n",
       "#T_45c1d_row0_col0, #T_45c1d_row0_col1, #T_45c1d_row1_col0, #T_45c1d_row1_col1, #T_45c1d_row2_col0, #T_45c1d_row2_col1, #T_45c1d_row3_col0, #T_45c1d_row3_col1, #T_45c1d_row4_col0, #T_45c1d_row4_col1, #T_45c1d_row5_col0, #T_45c1d_row5_col1, #T_45c1d_row6_col0, #T_45c1d_row6_col1, #T_45c1d_row7_col0, #T_45c1d_row7_col1, #T_45c1d_row8_col0, #T_45c1d_row8_col1, #T_45c1d_row9_col0, #T_45c1d_row9_col1, #T_45c1d_row10_col0, #T_45c1d_row10_col1, #T_45c1d_row11_col0, #T_45c1d_row11_col1, #T_45c1d_row12_col0, #T_45c1d_row12_col1 {\n",
       "  text-align: left;\n",
       "}\n",
       "</style>\n",
       "<table id=\"T_45c1d\" style=\"font-size: 14px\">\n",
       "  <thead>\n",
       "    <tr>\n",
       "      <th id=\"T_45c1d_level0_col0\" class=\"col_heading level0 col0\" >Dataset Descriptor</th>\n",
       "      <th id=\"T_45c1d_level0_col1\" class=\"col_heading level0 col1\" >Dataset-specific Information</th>\n",
       "    </tr>\n",
       "  </thead>\n",
       "  <tbody>\n",
       "    <tr>\n",
       "      <td id=\"T_45c1d_row0_col0\" class=\"data row0 col0\" >Name of Dataset in TRE</td>\n",
       "      <td id=\"T_45c1d_row0_col1\" class=\"data row0 col1\" >TRACKC19_followUp</td>\n",
       "    </tr>\n",
       "    <tr>\n",
       "      <td id=\"T_45c1d_row1_col0\" class=\"data row1 col0\" >Citation (APA)</td>\n",
       "      <td id=\"T_45c1d_row1_col1\" class=\"data row1 col1\" >Department of Public Health and Primary Care, University of Cambridge. (2021). <i>TRACK-COVID Study: Follow-up Questionnaire.</i> UK Longitudinal Linkage Collaboration (UK LLC).  <a href=\"https://doi.org/10.83126/ukllc-dataset-00391-01\" rel=\"noopener noreferrer\" target=\"_blank\">https://doi.org/10.83126/ukllc-dataset-00391-01</a></td>\n",
       "    </tr>\n",
       "    <tr>\n",
       "      <td id=\"T_45c1d_row2_col0\" class=\"data row2 col0\" >Download Citation</td>\n",
       "      <td id=\"T_45c1d_row2_col1\" class=\"data row2 col1\" > <a href=\"https://api.test.datacite.org/application/vnd.citationstyles.csl+json/10.83126/ukllc-dataset-00391-01\" rel=\"noopener noreferrer\" target=\"_blank\">Citeproc JSON</a>&nbsp;&nbsp;&nbsp;&nbsp; <a href=\"https://api.test.datacite.org/application/x-bibtex/10.83126/ukllc-dataset-00391-01\" rel=\"noopener noreferrer\" target=\"_blank\">BibTeX</a>&nbsp;&nbsp;&nbsp;&nbsp; <a href=\"https://api.test.datacite.org/application/x-research-info-systems/10.83126/ukllc-dataset-00391-01\" rel=\"noopener noreferrer\" target=\"_blank\">RIS</a></td>\n",
       "    </tr>\n",
       "    <tr>\n",
       "      <td id=\"T_45c1d_row3_col0\" class=\"data row3 col0\" >Series</td>\n",
       "      <td id=\"T_45c1d_row3_col1\" class=\"data row3 col1\" > <a href=\"https://guidebook.ukllc.ac.uk/docs/lps/lps%20profiles/TRACKC19\">TRACK-COVID Study</a></td>\n",
       "    </tr>\n",
       "    <tr>\n",
       "      <td id=\"T_45c1d_row4_col0\" class=\"data row4 col0\" >Owner</td>\n",
       "      <td id=\"T_45c1d_row4_col1\" class=\"data row4 col1\" >University of Cambridge</td>\n",
       "    </tr>\n",
       "    <tr>\n",
       "      <td id=\"T_45c1d_row5_col0\" class=\"data row5 col0\" >Temporal Coverage</td>\n",
       "      <td id=\"T_45c1d_row5_col1\" class=\"data row5 col1\" >06/2020 - ongoing</td>\n",
       "    </tr>\n",
       "    <tr>\n",
       "      <td id=\"T_45c1d_row6_col0\" class=\"data row6 col0\" >Keywords</td>\n",
       "      <td id=\"T_45c1d_row6_col1\" class=\"data row6 col1\" ></td>\n",
       "    </tr>\n",
       "    <tr>\n",
       "      <td id=\"T_45c1d_row7_col0\" class=\"data row7 col0\" >Participants Invited</td>\n",
       "      <td id=\"T_45c1d_row7_col1\" class=\"data row7 col1\" > 74874 </td>\n",
       "    </tr>\n",
       "    <tr>\n",
       "      <td id=\"T_45c1d_row8_col0\" class=\"data row8 col0\" >Participant Count</td>\n",
       "      <td id=\"T_45c1d_row8_col1\" class=\"data row8 col1\" >16035</td>\n",
       "    </tr>\n",
       "    <tr>\n",
       "      <td id=\"T_45c1d_row9_col0\" class=\"data row9 col0\" >Number of variables</td>\n",
       "      <td id=\"T_45c1d_row9_col1\" class=\"data row9 col1\" >103</td>\n",
       "    </tr>\n",
       "    <tr>\n",
       "      <td id=\"T_45c1d_row10_col0\" class=\"data row10 col0\" >Number of observations</td>\n",
       "      <td id=\"T_45c1d_row10_col1\" class=\"data row10 col1\" >161073</td>\n",
       "    </tr>\n",
       "    <tr>\n",
       "      <td id=\"T_45c1d_row11_col0\" class=\"data row11 col0\" >Specific Restrictions to Data Use</td>\n",
       "      <td id=\"T_45c1d_row11_col1\" class=\"data row11 col1\" >None</td>\n",
       "    </tr>\n",
       "    <tr>\n",
       "      <td id=\"T_45c1d_row12_col0\" class=\"data row12 col0\" >Build a Data Request</td>\n",
       "      <td id=\"T_45c1d_row12_col1\" class=\"data row12 col1\" > <a href=\"https://explore.ukllc.ac.uk/\" rel=\"noopener noreferrer\" target=\"_blank\">https://explore.ukllc.ac.uk/</a></td>\n",
       "    </tr>\n",
       "  </tbody>\n",
       "</table>\n"
      ],
      "text/plain": [
       "<pandas.io.formats.style.Styler at 0x1e484e5a180>"
      ]
     },
     "execution_count": 3,
     "metadata": {},
     "output_type": "execute_result"
    }
   ],
   "source": [
    "ds.info_table()"
   ]
  },
  {
   "cell_type": "markdown",
   "id": "aa3c6966",
   "metadata": {},
   "source": [
    "## 2. Version History"
   ]
  },
  {
   "cell_type": "code",
   "execution_count": 4,
   "id": "cbf1f274",
   "metadata": {
    "execution": {
     "iopub.execute_input": "2025-07-18T11:00:43.900958Z",
     "iopub.status.busy": "2025-07-18T11:00:43.900958Z",
     "iopub.status.idle": "2025-07-18T11:00:47.718941Z",
     "shell.execute_reply": "2025-07-18T11:00:47.716926Z"
    },
    "tags": [
     "remove-input"
    ]
   },
   "outputs": [
    {
     "data": {
      "text/html": [
       "<style type=\"text/css\">\n",
       "#T_b010a th {\n",
       "  text-align: left;\n",
       "}\n",
       "#T_b010a_row0_col0, #T_b010a_row0_col1, #T_b010a_row1_col0, #T_b010a_row1_col1, #T_b010a_row2_col0, #T_b010a_row2_col1, #T_b010a_row3_col0, #T_b010a_row3_col1, #T_b010a_row4_col0, #T_b010a_row4_col1 {\n",
       "  text-align: left;\n",
       "}\n",
       "</style>\n",
       "<table id=\"T_b010a\" style=\"font-size: 14px\">\n",
       "  <thead>\n",
       "    <tr>\n",
       "      <th id=\"T_b010a_level0_col0\" class=\"col_heading level0 col0\" >Version</th>\n",
       "      <th id=\"T_b010a_level0_col1\" class=\"col_heading level0 col1\" >1</th>\n",
       "    </tr>\n",
       "  </thead>\n",
       "  <tbody>\n",
       "    <tr>\n",
       "      <td id=\"T_b010a_row0_col0\" class=\"data row0 col0\" >Version Date</td>\n",
       "      <td id=\"T_b010a_row0_col1\" class=\"data row0 col1\" >15 Sep 2021</td>\n",
       "    </tr>\n",
       "    <tr>\n",
       "      <td id=\"T_b010a_row1_col0\" class=\"data row1 col0\" >Number of Variables</td>\n",
       "      <td id=\"T_b010a_row1_col1\" class=\"data row1 col1\" >103</td>\n",
       "    </tr>\n",
       "    <tr>\n",
       "      <td id=\"T_b010a_row2_col0\" class=\"data row2 col0\" >Number of Observations</td>\n",
       "      <td id=\"T_b010a_row2_col1\" class=\"data row2 col1\" >161073</td>\n",
       "    </tr>\n",
       "    <tr>\n",
       "      <td id=\"T_b010a_row3_col0\" class=\"data row3 col0\" >DOI</td>\n",
       "      <td id=\"T_b010a_row3_col1\" class=\"data row3 col1\" > <a href=\"https://doi.org/10.83126/ukllc-dataset-00391-01\" rel=\"noopener noreferrer\" target=\"_blank\">10.83126/ukllc-dataset-00391-01</a></td>\n",
       "    </tr>\n",
       "    <tr>\n",
       "      <td id=\"T_b010a_row4_col0\" class=\"data row4 col0\" >Change Log</td>\n",
       "      <td id=\"T_b010a_row4_col1\" class=\"data row4 col1\" > <a href=\"https://api.test.datacite.org/dois/10.83126/ukllc-dataset-00391-01/activities\" rel=\"noopener noreferrer\" target=\"_blank\">10.83126/ukllc-dataset-00391-01/activities</a></td>\n",
       "    </tr>\n",
       "  </tbody>\n",
       "</table>\n"
      ],
      "text/plain": [
       "<pandas.io.formats.style.Styler at 0x1e486894e30>"
      ]
     },
     "execution_count": 4,
     "metadata": {},
     "output_type": "execute_result"
    }
   ],
   "source": [
    "ds.version_history()"
   ]
  },
  {
   "cell_type": "markdown",
   "id": "39b29b9f",
   "metadata": {},
   "source": [
    "## 3. Documentation"
   ]
  },
  {
   "cell_type": "code",
   "execution_count": 5,
   "id": "9eb8656f",
   "metadata": {
    "execution": {
     "iopub.execute_input": "2025-07-18T11:00:47.725936Z",
     "iopub.status.busy": "2025-07-18T11:00:47.724934Z",
     "iopub.status.idle": "2025-07-18T11:00:47.734498Z",
     "shell.execute_reply": "2025-07-18T11:00:47.733479Z"
    },
    "tags": [
     "remove-input"
    ]
   },
   "outputs": [
    {
     "data": {
      "text/markdown": [
       "We are currently building a documentation storage system which will host useful documents related to datasets and data owners. We will surface these documents on Guidebook."
      ],
      "text/plain": [
       "<IPython.core.display.Markdown object>"
      ]
     },
     "metadata": {},
     "output_type": "display_data"
    }
   ],
   "source": [
    "ds.documentation()"
   ]
  },
  {
   "cell_type": "markdown",
   "id": "ea476732",
   "metadata": {},
   "source": [
    "## 4. Useful Syntax"
   ]
  },
  {
   "cell_type": "code",
   "execution_count": 6,
   "id": "bbd761ab",
   "metadata": {
    "execution": {
     "iopub.execute_input": "2025-07-18T11:00:47.740489Z",
     "iopub.status.busy": "2025-07-18T11:00:47.740489Z",
     "iopub.status.idle": "2025-07-18T11:00:47.749561Z",
     "shell.execute_reply": "2025-07-18T11:00:47.748489Z"
    },
    "tags": [
     "remove-input"
    ]
   },
   "outputs": [
    {
     "data": {
      "text/markdown": [
       "Below we will include syntax that may be helpful to other researchers in the UK LLC TRE. For longer scripts, we will include a snippet of the code plus a link to Git where you can find the full scripts."
      ],
      "text/plain": [
       "<IPython.core.display.Markdown object>"
      ]
     },
     "metadata": {},
     "output_type": "display_data"
    }
   ],
   "source": [
    "ds.useful_syntax()"
   ]
  }
 ],
 "metadata": {
  "language_info": {
   "codemirror_mode": {
    "name": "ipython",
    "version": 3
   },
   "file_extension": ".py",
   "mimetype": "text/x-python",
   "name": "python",
   "nbconvert_exporter": "python",
   "pygments_lexer": "ipython3",
   "version": "3.12.7"
  }
 },
 "nbformat": 4,
 "nbformat_minor": 5
}
