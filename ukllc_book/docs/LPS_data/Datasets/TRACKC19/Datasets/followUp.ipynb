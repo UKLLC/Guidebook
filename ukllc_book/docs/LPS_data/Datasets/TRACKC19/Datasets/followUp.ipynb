{
 "cells": [
  {
   "cell_type": "markdown",
   "id": "4b31ff13",
   "metadata": {},
   "source": [
    "# Follow-up Questionnaire (TRACKC19)"
   ]
  },
  {
   "cell_type": "code",
   "execution_count": 1,
   "id": "602d3743",
   "metadata": {
    "execution": {
     "iopub.execute_input": "2025-07-28T20:35:46.051929Z",
     "iopub.status.busy": "2025-07-28T20:35:46.050932Z",
     "iopub.status.idle": "2025-07-28T20:35:58.551856Z",
     "shell.execute_reply": "2025-07-28T20:35:58.549291Z"
    },
    "tags": [
     "remove-input"
    ]
   },
   "outputs": [
    {
     "data": {
      "text/markdown": [
       ">Last modified: 28 Jul 2025"
      ],
      "text/plain": [
       "<IPython.core.display.Markdown object>"
      ]
     },
     "metadata": {},
     "output_type": "display_data"
    }
   ],
   "source": [
    "\n",
    "import sys\n",
    "import os\n",
    "sys.path.append(os.path.abspath('../../../../scripts/'))\n",
    "from data_doc_helper import LPSDataSet as DS, last_modified\n",
    "API_KEY = os.environ['FASTAPI_KEY']\n",
    "ds = DS(\"TRACKC19\", \"followUp\")\n",
    "last_modified()\n"
   ]
  },
  {
   "cell_type": "markdown",
   "id": "24fcbc6c",
   "metadata": {},
   "source": [
    "## 1. Summary"
   ]
  },
  {
   "cell_type": "code",
   "execution_count": 2,
   "id": "ec13f9a0",
   "metadata": {
    "execution": {
     "iopub.execute_input": "2025-07-28T20:35:58.560439Z",
     "iopub.status.busy": "2025-07-28T20:35:58.559439Z",
     "iopub.status.idle": "2025-07-28T20:35:58.574999Z",
     "shell.execute_reply": "2025-07-28T20:35:58.571835Z"
    },
    "tags": [
     "remove-input"
    ]
   },
   "outputs": [
    {
     "data": {
      "text/markdown": [
       "This is a monthly repeat of the baseline questionnaire containing self reported symtpms, COVID status and Vaccine dates"
      ],
      "text/plain": [
       "<IPython.core.display.Markdown object>"
      ]
     },
     "metadata": {},
     "output_type": "display_data"
    }
   ],
   "source": [
    "ds.summary()"
   ]
  },
  {
   "cell_type": "code",
   "execution_count": 3,
   "id": "57f1a552",
   "metadata": {
    "execution": {
     "iopub.execute_input": "2025-07-28T20:35:58.583500Z",
     "iopub.status.busy": "2025-07-28T20:35:58.581454Z",
     "iopub.status.idle": "2025-07-28T20:36:00.487685Z",
     "shell.execute_reply": "2025-07-28T20:36:00.479378Z"
    },
    "tags": [
     "remove-input"
    ]
   },
   "outputs": [
    {
     "data": {
      "text/html": [
       "<style type=\"text/css\">\n",
       "#T_f9e1b th {\n",
       "  text-align: left;\n",
       "}\n",
       "#T_f9e1b_row0_col0, #T_f9e1b_row0_col1, #T_f9e1b_row1_col0, #T_f9e1b_row1_col1, #T_f9e1b_row2_col0, #T_f9e1b_row2_col1, #T_f9e1b_row3_col0, #T_f9e1b_row3_col1, #T_f9e1b_row4_col0, #T_f9e1b_row4_col1, #T_f9e1b_row5_col0, #T_f9e1b_row5_col1, #T_f9e1b_row6_col0, #T_f9e1b_row6_col1, #T_f9e1b_row7_col0, #T_f9e1b_row7_col1, #T_f9e1b_row8_col0, #T_f9e1b_row8_col1, #T_f9e1b_row9_col0, #T_f9e1b_row9_col1, #T_f9e1b_row10_col0, #T_f9e1b_row10_col1, #T_f9e1b_row11_col0, #T_f9e1b_row11_col1, #T_f9e1b_row12_col0, #T_f9e1b_row12_col1 {\n",
       "  text-align: left;\n",
       "}\n",
       "</style>\n",
       "<table id=\"T_f9e1b\" style=\"font-size: 14px\">\n",
       "  <thead>\n",
       "    <tr>\n",
       "      <th id=\"T_f9e1b_level0_col0\" class=\"col_heading level0 col0\" >Dataset Descriptor</th>\n",
       "      <th id=\"T_f9e1b_level0_col1\" class=\"col_heading level0 col1\" >Dataset-specific Information</th>\n",
       "    </tr>\n",
       "  </thead>\n",
       "  <tbody>\n",
       "    <tr>\n",
       "      <td id=\"T_f9e1b_row0_col0\" class=\"data row0 col0\" >Name of Dataset in TRE</td>\n",
       "      <td id=\"T_f9e1b_row0_col1\" class=\"data row0 col1\" >TRACKC19_followUp</td>\n",
       "    </tr>\n",
       "    <tr>\n",
       "      <td id=\"T_f9e1b_row1_col0\" class=\"data row1 col0\" >Citation (APA)</td>\n",
       "      <td id=\"T_f9e1b_row1_col1\" class=\"data row1 col1\" >Department of Public Health and Primary Care, University of Cambridge. (2021). <i>TRACK-COVID Study: Follow-up Questionnaire.</i> UK Longitudinal Linkage Collaboration (UK LLC).  <a href=\"https://doi.org/10.71760/ukllc-dataset-00322-01\" rel=\"noopener noreferrer\" target=\"_blank\">https://doi.org/10.71760/ukllc-dataset-00322-01</a></td>\n",
       "    </tr>\n",
       "    <tr>\n",
       "      <td id=\"T_f9e1b_row2_col0\" class=\"data row2 col0\" >Download Citation</td>\n",
       "      <td id=\"T_f9e1b_row2_col1\" class=\"data row2 col1\" > <a href=\"https://api.datacite.org/application/vnd.citationstyles.csl+json/10.71760/ukllc-dataset-00322-01\" rel=\"noopener noreferrer\" target=\"_blank\">Citeproc JSON</a>&nbsp;&nbsp;&nbsp;&nbsp; <a href=\"https://api.datacite.org/application/x-bibtex/10.71760/ukllc-dataset-00322-01\" rel=\"noopener noreferrer\" target=\"_blank\">BibTeX</a>&nbsp;&nbsp;&nbsp;&nbsp; <a href=\"https://api.datacite.org/application/x-research-info-systems/10.71760/ukllc-dataset-00322-01\" rel=\"noopener noreferrer\" target=\"_blank\">RIS</a></td>\n",
       "    </tr>\n",
       "    <tr>\n",
       "      <td id=\"T_f9e1b_row3_col0\" class=\"data row3 col0\" >Series</td>\n",
       "      <td id=\"T_f9e1b_row3_col1\" class=\"data row3 col1\" > <a href=\"https://guidebook.ukllc.ac.uk/docs/lps_data/lps%20profiles/TRACKC19\">TRACK-COVID Study</a></td>\n",
       "    </tr>\n",
       "    <tr>\n",
       "      <td id=\"T_f9e1b_row4_col0\" class=\"data row4 col0\" >Owner</td>\n",
       "      <td id=\"T_f9e1b_row4_col1\" class=\"data row4 col1\" >University of Cambridge</td>\n",
       "    </tr>\n",
       "    <tr>\n",
       "      <td id=\"T_f9e1b_row5_col0\" class=\"data row5 col0\" >Temporal Coverage</td>\n",
       "      <td id=\"T_f9e1b_row5_col1\" class=\"data row5 col1\" >06/2020 - ongoing</td>\n",
       "    </tr>\n",
       "    <tr>\n",
       "      <td id=\"T_f9e1b_row6_col0\" class=\"data row6 col0\" >Keywords</td>\n",
       "      <td id=\"T_f9e1b_row6_col1\" class=\"data row6 col1\" ></td>\n",
       "    </tr>\n",
       "    <tr>\n",
       "      <td id=\"T_f9e1b_row7_col0\" class=\"data row7 col0\" >Participants Invited</td>\n",
       "      <td id=\"T_f9e1b_row7_col1\" class=\"data row7 col1\" > 74874 </td>\n",
       "    </tr>\n",
       "    <tr>\n",
       "      <td id=\"T_f9e1b_row8_col0\" class=\"data row8 col0\" >Participant Count</td>\n",
       "      <td id=\"T_f9e1b_row8_col1\" class=\"data row8 col1\" >16035</td>\n",
       "    </tr>\n",
       "    <tr>\n",
       "      <td id=\"T_f9e1b_row9_col0\" class=\"data row9 col0\" >Number of variables</td>\n",
       "      <td id=\"T_f9e1b_row9_col1\" class=\"data row9 col1\" >103</td>\n",
       "    </tr>\n",
       "    <tr>\n",
       "      <td id=\"T_f9e1b_row10_col0\" class=\"data row10 col0\" >Number of observations</td>\n",
       "      <td id=\"T_f9e1b_row10_col1\" class=\"data row10 col1\" >161073</td>\n",
       "    </tr>\n",
       "    <tr>\n",
       "      <td id=\"T_f9e1b_row11_col0\" class=\"data row11 col0\" >Specific Restrictions to Data Use</td>\n",
       "      <td id=\"T_f9e1b_row11_col1\" class=\"data row11 col1\" >None</td>\n",
       "    </tr>\n",
       "    <tr>\n",
       "      <td id=\"T_f9e1b_row12_col0\" class=\"data row12 col0\" >Build a Data Request</td>\n",
       "      <td id=\"T_f9e1b_row12_col1\" class=\"data row12 col1\" > <a href=\"https://explore.ukllc.ac.uk/\" rel=\"noopener noreferrer\" target=\"_blank\">https://explore.ukllc.ac.uk/</a></td>\n",
       "    </tr>\n",
       "  </tbody>\n",
       "</table>\n"
      ],
      "text/plain": [
       "<pandas.io.formats.style.Styler at 0x1c4b3b3c350>"
      ]
     },
     "execution_count": 3,
     "metadata": {},
     "output_type": "execute_result"
    }
   ],
   "source": [
    "ds.info_table()"
   ]
  },
  {
   "cell_type": "markdown",
   "id": "aa3c6966",
   "metadata": {},
   "source": [
    "## 2. Version History"
   ]
  },
  {
   "cell_type": "code",
   "execution_count": 4,
   "id": "cbf1f274",
   "metadata": {
    "execution": {
     "iopub.execute_input": "2025-07-28T20:36:00.517558Z",
     "iopub.status.busy": "2025-07-28T20:36:00.516561Z",
     "iopub.status.idle": "2025-07-28T20:36:05.884483Z",
     "shell.execute_reply": "2025-07-28T20:36:05.881960Z"
    },
    "tags": [
     "remove-input"
    ]
   },
   "outputs": [
    {
     "data": {
      "text/html": [
       "<style type=\"text/css\">\n",
       "#T_7f292 th {\n",
       "  text-align: left;\n",
       "}\n",
       "#T_7f292_row0_col0, #T_7f292_row0_col1, #T_7f292_row1_col0, #T_7f292_row1_col1, #T_7f292_row2_col0, #T_7f292_row2_col1, #T_7f292_row3_col0, #T_7f292_row3_col1, #T_7f292_row4_col0, #T_7f292_row4_col1 {\n",
       "  text-align: left;\n",
       "}\n",
       "</style>\n",
       "<table id=\"T_7f292\" style=\"font-size: 14px\">\n",
       "  <thead>\n",
       "    <tr>\n",
       "      <th id=\"T_7f292_level0_col0\" class=\"col_heading level0 col0\" >Version</th>\n",
       "      <th id=\"T_7f292_level0_col1\" class=\"col_heading level0 col1\" >1</th>\n",
       "    </tr>\n",
       "  </thead>\n",
       "  <tbody>\n",
       "    <tr>\n",
       "      <td id=\"T_7f292_row0_col0\" class=\"data row0 col0\" >Version Date</td>\n",
       "      <td id=\"T_7f292_row0_col1\" class=\"data row0 col1\" >15 Sep 2021</td>\n",
       "    </tr>\n",
       "    <tr>\n",
       "      <td id=\"T_7f292_row1_col0\" class=\"data row1 col0\" >Number of Variables</td>\n",
       "      <td id=\"T_7f292_row1_col1\" class=\"data row1 col1\" >103</td>\n",
       "    </tr>\n",
       "    <tr>\n",
       "      <td id=\"T_7f292_row2_col0\" class=\"data row2 col0\" >Number of Observations</td>\n",
       "      <td id=\"T_7f292_row2_col1\" class=\"data row2 col1\" >161073</td>\n",
       "    </tr>\n",
       "    <tr>\n",
       "      <td id=\"T_7f292_row3_col0\" class=\"data row3 col0\" >DOI</td>\n",
       "      <td id=\"T_7f292_row3_col1\" class=\"data row3 col1\" > <a href=\"https://doi.org/10.71760/ukllc-dataset-00322-01\" rel=\"noopener noreferrer\" target=\"_blank\">10.71760/ukllc-dataset-00322-01</a></td>\n",
       "    </tr>\n",
       "    <tr>\n",
       "      <td id=\"T_7f292_row4_col0\" class=\"data row4 col0\" >Change Log</td>\n",
       "      <td id=\"T_7f292_row4_col1\" class=\"data row4 col1\" > <a href=\"https://api.test.datacite.org/dois/10.71760/ukllc-dataset-00322-01/activities\" rel=\"noopener noreferrer\" target=\"_blank\">10.71760/ukllc-dataset-00322-01/activities</a></td>\n",
       "    </tr>\n",
       "  </tbody>\n",
       "</table>\n"
      ],
      "text/plain": [
       "<pandas.io.formats.style.Styler at 0x1c4b9837b90>"
      ]
     },
     "execution_count": 4,
     "metadata": {},
     "output_type": "execute_result"
    }
   ],
   "source": [
    "ds.version_history()"
   ]
  },
  {
   "cell_type": "markdown",
   "id": "39b29b9f",
   "metadata": {},
   "source": [
    "## 3. Documentation"
   ]
  },
  {
   "cell_type": "code",
   "execution_count": 5,
   "id": "9eb8656f",
   "metadata": {
    "execution": {
     "iopub.execute_input": "2025-07-28T20:36:05.901483Z",
     "iopub.status.busy": "2025-07-28T20:36:05.898481Z",
     "iopub.status.idle": "2025-07-28T20:36:05.921770Z",
     "shell.execute_reply": "2025-07-28T20:36:05.919756Z"
    },
    "tags": [
     "remove-input"
    ]
   },
   "outputs": [
    {
     "data": {
      "text/markdown": [
       "We are currently building a documentation storage system which will host useful documents related to datasets and data owners. We will surface these documents on Guidebook."
      ],
      "text/plain": [
       "<IPython.core.display.Markdown object>"
      ]
     },
     "metadata": {},
     "output_type": "display_data"
    }
   ],
   "source": [
    "ds.documentation()"
   ]
  },
  {
   "cell_type": "markdown",
   "id": "ea476732",
   "metadata": {},
   "source": [
    "## 4. Useful Syntax"
   ]
  },
  {
   "cell_type": "code",
   "execution_count": 6,
   "id": "bbd761ab",
   "metadata": {
    "execution": {
     "iopub.execute_input": "2025-07-28T20:36:05.931773Z",
     "iopub.status.busy": "2025-07-28T20:36:05.931773Z",
     "iopub.status.idle": "2025-07-28T20:36:05.945069Z",
     "shell.execute_reply": "2025-07-28T20:36:05.943057Z"
    },
    "tags": [
     "remove-input"
    ]
   },
   "outputs": [
    {
     "data": {
      "text/markdown": [
       "Below we will include syntax that may be helpful to other researchers in the UK LLC TRE. For longer scripts, we will include a snippet of the code plus a link to Git where you can find the full scripts."
      ],
      "text/plain": [
       "<IPython.core.display.Markdown object>"
      ]
     },
     "metadata": {},
     "output_type": "display_data"
    }
   ],
   "source": [
    "ds.useful_syntax()"
   ]
  }
 ],
 "metadata": {
  "language_info": {
   "codemirror_mode": {
    "name": "ipython",
    "version": 3
   },
   "file_extension": ".py",
   "mimetype": "text/x-python",
   "name": "python",
   "nbconvert_exporter": "python",
   "pygments_lexer": "ipython3",
   "version": "3.12.7"
  }
 },
 "nbformat": 4,
 "nbformat_minor": 5
}
