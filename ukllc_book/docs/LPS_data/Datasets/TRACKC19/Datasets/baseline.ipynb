{
 "cells": [
  {
   "cell_type": "markdown",
   "id": "5d1abba3",
   "metadata": {},
   "source": [
    "# Baseline Questionnaire (TRACKC19)"
   ]
  },
  {
   "cell_type": "code",
   "execution_count": 1,
   "id": "25962cc5",
   "metadata": {
    "execution": {
     "iopub.execute_input": "2025-07-18T11:00:04.168027Z",
     "iopub.status.busy": "2025-07-18T11:00:04.167012Z",
     "iopub.status.idle": "2025-07-18T11:00:12.247981Z",
     "shell.execute_reply": "2025-07-18T11:00:12.244801Z"
    },
    "tags": [
     "remove-input"
    ]
   },
   "outputs": [
    {
     "data": {
      "text/markdown": [
       ">Last modified: 18 Jul 2025"
      ],
      "text/plain": [
       "<IPython.core.display.Markdown object>"
      ]
     },
     "metadata": {},
     "output_type": "display_data"
    }
   ],
   "source": [
    "\n",
    "import sys\n",
    "import os\n",
    "sys.path.append(os.path.abspath('../../../../scripts/'))\n",
    "from data_doc_helper import LPSDataSet as DS, last_modified\n",
    "API_KEY = os.environ['FASTAPI_KEY']\n",
    "ds = DS(\"TRACKC19\", \"baseline\")\n",
    "last_modified()\n"
   ]
  },
  {
   "cell_type": "markdown",
   "id": "2da09e7f",
   "metadata": {},
   "source": [
    "## 1. Summary"
   ]
  },
  {
   "cell_type": "code",
   "execution_count": 2,
   "id": "c6bb3ff8",
   "metadata": {
    "execution": {
     "iopub.execute_input": "2025-07-18T11:00:12.253980Z",
     "iopub.status.busy": "2025-07-18T11:00:12.252979Z",
     "iopub.status.idle": "2025-07-18T11:00:12.263807Z",
     "shell.execute_reply": "2025-07-18T11:00:12.261800Z"
    },
    "tags": [
     "remove-input"
    ]
   },
   "outputs": [
    {
     "data": {
      "text/markdown": [
       "This block contains self-reported symptoms, COVID status and vaccine dates"
      ],
      "text/plain": [
       "<IPython.core.display.Markdown object>"
      ]
     },
     "metadata": {},
     "output_type": "display_data"
    }
   ],
   "source": [
    "ds.summary()"
   ]
  },
  {
   "cell_type": "code",
   "execution_count": 3,
   "id": "440a82cc",
   "metadata": {
    "execution": {
     "iopub.execute_input": "2025-07-18T11:00:12.269807Z",
     "iopub.status.busy": "2025-07-18T11:00:12.268807Z",
     "iopub.status.idle": "2025-07-18T11:00:13.435315Z",
     "shell.execute_reply": "2025-07-18T11:00:13.433308Z"
    },
    "tags": [
     "remove-input"
    ]
   },
   "outputs": [
    {
     "data": {
      "text/html": [
       "<style type=\"text/css\">\n",
       "#T_56dcb th {\n",
       "  text-align: left;\n",
       "}\n",
       "#T_56dcb_row0_col0, #T_56dcb_row0_col1, #T_56dcb_row1_col0, #T_56dcb_row1_col1, #T_56dcb_row2_col0, #T_56dcb_row2_col1, #T_56dcb_row3_col0, #T_56dcb_row3_col1, #T_56dcb_row4_col0, #T_56dcb_row4_col1, #T_56dcb_row5_col0, #T_56dcb_row5_col1, #T_56dcb_row6_col0, #T_56dcb_row6_col1, #T_56dcb_row7_col0, #T_56dcb_row7_col1, #T_56dcb_row8_col0, #T_56dcb_row8_col1, #T_56dcb_row9_col0, #T_56dcb_row9_col1, #T_56dcb_row10_col0, #T_56dcb_row10_col1, #T_56dcb_row11_col0, #T_56dcb_row11_col1, #T_56dcb_row12_col0, #T_56dcb_row12_col1 {\n",
       "  text-align: left;\n",
       "}\n",
       "</style>\n",
       "<table id=\"T_56dcb\" style=\"font-size: 14px\">\n",
       "  <thead>\n",
       "    <tr>\n",
       "      <th id=\"T_56dcb_level0_col0\" class=\"col_heading level0 col0\" >Dataset Descriptor</th>\n",
       "      <th id=\"T_56dcb_level0_col1\" class=\"col_heading level0 col1\" >Dataset-specific Information</th>\n",
       "    </tr>\n",
       "  </thead>\n",
       "  <tbody>\n",
       "    <tr>\n",
       "      <td id=\"T_56dcb_row0_col0\" class=\"data row0 col0\" >Name of Dataset in TRE</td>\n",
       "      <td id=\"T_56dcb_row0_col1\" class=\"data row0 col1\" >TRACKC19_baseline</td>\n",
       "    </tr>\n",
       "    <tr>\n",
       "      <td id=\"T_56dcb_row1_col0\" class=\"data row1 col0\" >Citation (APA)</td>\n",
       "      <td id=\"T_56dcb_row1_col1\" class=\"data row1 col1\" >Department of Public Health and Primary Care, University of Cambridge. (2021). <i>TRACK-COVID Study: Baseline Questionnaire.</i> UK Longitudinal Linkage Collaboration (UK LLC).  <a href=\"https://doi.org/10.83126/ukllc-dataset-00389-01\" rel=\"noopener noreferrer\" target=\"_blank\">https://doi.org/10.83126/ukllc-dataset-00389-01</a></td>\n",
       "    </tr>\n",
       "    <tr>\n",
       "      <td id=\"T_56dcb_row2_col0\" class=\"data row2 col0\" >Download Citation</td>\n",
       "      <td id=\"T_56dcb_row2_col1\" class=\"data row2 col1\" > <a href=\"https://api.test.datacite.org/application/vnd.citationstyles.csl+json/10.83126/ukllc-dataset-00389-01\" rel=\"noopener noreferrer\" target=\"_blank\">Citeproc JSON</a>&nbsp;&nbsp;&nbsp;&nbsp; <a href=\"https://api.test.datacite.org/application/x-bibtex/10.83126/ukllc-dataset-00389-01\" rel=\"noopener noreferrer\" target=\"_blank\">BibTeX</a>&nbsp;&nbsp;&nbsp;&nbsp; <a href=\"https://api.test.datacite.org/application/x-research-info-systems/10.83126/ukllc-dataset-00389-01\" rel=\"noopener noreferrer\" target=\"_blank\">RIS</a></td>\n",
       "    </tr>\n",
       "    <tr>\n",
       "      <td id=\"T_56dcb_row3_col0\" class=\"data row3 col0\" >Series</td>\n",
       "      <td id=\"T_56dcb_row3_col1\" class=\"data row3 col1\" > <a href=\"https://guidebook.ukllc.ac.uk/docs/lps/lps%20profiles/TRACKC19\">TRACK-COVID Study</a></td>\n",
       "    </tr>\n",
       "    <tr>\n",
       "      <td id=\"T_56dcb_row4_col0\" class=\"data row4 col0\" >Owner</td>\n",
       "      <td id=\"T_56dcb_row4_col1\" class=\"data row4 col1\" >University of Cambridge</td>\n",
       "    </tr>\n",
       "    <tr>\n",
       "      <td id=\"T_56dcb_row5_col0\" class=\"data row5 col0\" >Temporal Coverage</td>\n",
       "      <td id=\"T_56dcb_row5_col1\" class=\"data row5 col1\" >05/2020 - 02/2021</td>\n",
       "    </tr>\n",
       "    <tr>\n",
       "      <td id=\"T_56dcb_row6_col0\" class=\"data row6 col0\" >Keywords</td>\n",
       "      <td id=\"T_56dcb_row6_col1\" class=\"data row6 col1\" ></td>\n",
       "    </tr>\n",
       "    <tr>\n",
       "      <td id=\"T_56dcb_row7_col0\" class=\"data row7 col0\" >Participants Invited</td>\n",
       "      <td id=\"T_56dcb_row7_col1\" class=\"data row7 col1\" > 74874 </td>\n",
       "    </tr>\n",
       "    <tr>\n",
       "      <td id=\"T_56dcb_row8_col0\" class=\"data row8 col0\" >Participant Count</td>\n",
       "      <td id=\"T_56dcb_row8_col1\" class=\"data row8 col1\" >18134</td>\n",
       "    </tr>\n",
       "    <tr>\n",
       "      <td id=\"T_56dcb_row9_col0\" class=\"data row9 col0\" >Number of variables</td>\n",
       "      <td id=\"T_56dcb_row9_col1\" class=\"data row9 col1\" >240</td>\n",
       "    </tr>\n",
       "    <tr>\n",
       "      <td id=\"T_56dcb_row10_col0\" class=\"data row10 col0\" >Number of observations</td>\n",
       "      <td id=\"T_56dcb_row10_col1\" class=\"data row10 col1\" >18134</td>\n",
       "    </tr>\n",
       "    <tr>\n",
       "      <td id=\"T_56dcb_row11_col0\" class=\"data row11 col0\" >Specific Restrictions to Data Use</td>\n",
       "      <td id=\"T_56dcb_row11_col1\" class=\"data row11 col1\" >None</td>\n",
       "    </tr>\n",
       "    <tr>\n",
       "      <td id=\"T_56dcb_row12_col0\" class=\"data row12 col0\" >Build a Data Request</td>\n",
       "      <td id=\"T_56dcb_row12_col1\" class=\"data row12 col1\" > <a href=\"https://explore.ukllc.ac.uk/\" rel=\"noopener noreferrer\" target=\"_blank\">https://explore.ukllc.ac.uk/</a></td>\n",
       "    </tr>\n",
       "  </tbody>\n",
       "</table>\n"
      ],
      "text/plain": [
       "<pandas.io.formats.style.Styler at 0x147efead220>"
      ]
     },
     "execution_count": 3,
     "metadata": {},
     "output_type": "execute_result"
    }
   ],
   "source": [
    "ds.info_table()"
   ]
  },
  {
   "cell_type": "markdown",
   "id": "868f358d",
   "metadata": {},
   "source": [
    "## 2. Version History"
   ]
  },
  {
   "cell_type": "code",
   "execution_count": 4,
   "id": "c81e97ad",
   "metadata": {
    "execution": {
     "iopub.execute_input": "2025-07-18T11:00:13.441316Z",
     "iopub.status.busy": "2025-07-18T11:00:13.440317Z",
     "iopub.status.idle": "2025-07-18T11:00:16.359729Z",
     "shell.execute_reply": "2025-07-18T11:00:16.358721Z"
    },
    "tags": [
     "remove-input"
    ]
   },
   "outputs": [
    {
     "data": {
      "text/html": [
       "<style type=\"text/css\">\n",
       "#T_83883 th {\n",
       "  text-align: left;\n",
       "}\n",
       "#T_83883_row0_col0, #T_83883_row0_col1, #T_83883_row1_col0, #T_83883_row1_col1, #T_83883_row2_col0, #T_83883_row2_col1, #T_83883_row3_col0, #T_83883_row3_col1, #T_83883_row4_col0, #T_83883_row4_col1 {\n",
       "  text-align: left;\n",
       "}\n",
       "</style>\n",
       "<table id=\"T_83883\" style=\"font-size: 14px\">\n",
       "  <thead>\n",
       "    <tr>\n",
       "      <th id=\"T_83883_level0_col0\" class=\"col_heading level0 col0\" >Version</th>\n",
       "      <th id=\"T_83883_level0_col1\" class=\"col_heading level0 col1\" >1</th>\n",
       "    </tr>\n",
       "  </thead>\n",
       "  <tbody>\n",
       "    <tr>\n",
       "      <td id=\"T_83883_row0_col0\" class=\"data row0 col0\" >Version Date</td>\n",
       "      <td id=\"T_83883_row0_col1\" class=\"data row0 col1\" >15 Sep 2021</td>\n",
       "    </tr>\n",
       "    <tr>\n",
       "      <td id=\"T_83883_row1_col0\" class=\"data row1 col0\" >Number of Variables</td>\n",
       "      <td id=\"T_83883_row1_col1\" class=\"data row1 col1\" >240</td>\n",
       "    </tr>\n",
       "    <tr>\n",
       "      <td id=\"T_83883_row2_col0\" class=\"data row2 col0\" >Number of Observations</td>\n",
       "      <td id=\"T_83883_row2_col1\" class=\"data row2 col1\" >18134</td>\n",
       "    </tr>\n",
       "    <tr>\n",
       "      <td id=\"T_83883_row3_col0\" class=\"data row3 col0\" >DOI</td>\n",
       "      <td id=\"T_83883_row3_col1\" class=\"data row3 col1\" > <a href=\"https://doi.org/10.83126/ukllc-dataset-00389-01\" rel=\"noopener noreferrer\" target=\"_blank\">10.83126/ukllc-dataset-00389-01</a></td>\n",
       "    </tr>\n",
       "    <tr>\n",
       "      <td id=\"T_83883_row4_col0\" class=\"data row4 col0\" >Change Log</td>\n",
       "      <td id=\"T_83883_row4_col1\" class=\"data row4 col1\" > <a href=\"https://api.test.datacite.org/dois/10.83126/ukllc-dataset-00389-01/activities\" rel=\"noopener noreferrer\" target=\"_blank\">10.83126/ukllc-dataset-00389-01/activities</a></td>\n",
       "    </tr>\n",
       "  </tbody>\n",
       "</table>\n"
      ],
      "text/plain": [
       "<pandas.io.formats.style.Styler at 0x147f1b7c350>"
      ]
     },
     "execution_count": 4,
     "metadata": {},
     "output_type": "execute_result"
    }
   ],
   "source": [
    "ds.version_history()"
   ]
  },
  {
   "cell_type": "markdown",
   "id": "8966dd0f",
   "metadata": {},
   "source": [
    "## 3. Documentation"
   ]
  },
  {
   "cell_type": "code",
   "execution_count": 5,
   "id": "2d5cb785",
   "metadata": {
    "execution": {
     "iopub.execute_input": "2025-07-18T11:00:16.364242Z",
     "iopub.status.busy": "2025-07-18T11:00:16.364242Z",
     "iopub.status.idle": "2025-07-18T11:00:16.373757Z",
     "shell.execute_reply": "2025-07-18T11:00:16.372243Z"
    },
    "tags": [
     "remove-input"
    ]
   },
   "outputs": [
    {
     "data": {
      "text/markdown": [
       "We are currently building a documentation storage system which will host useful documents related to datasets and data owners. We will surface these documents on Guidebook."
      ],
      "text/plain": [
       "<IPython.core.display.Markdown object>"
      ]
     },
     "metadata": {},
     "output_type": "display_data"
    }
   ],
   "source": [
    "ds.documentation()"
   ]
  },
  {
   "cell_type": "markdown",
   "id": "f9910686",
   "metadata": {},
   "source": [
    "## 4. Useful Syntax"
   ]
  },
  {
   "cell_type": "code",
   "execution_count": 6,
   "id": "91e0c878",
   "metadata": {
    "execution": {
     "iopub.execute_input": "2025-07-18T11:00:16.377758Z",
     "iopub.status.busy": "2025-07-18T11:00:16.377758Z",
     "iopub.status.idle": "2025-07-18T11:00:16.385768Z",
     "shell.execute_reply": "2025-07-18T11:00:16.385768Z"
    },
    "tags": [
     "remove-input"
    ]
   },
   "outputs": [
    {
     "data": {
      "text/markdown": [
       "Below we will include syntax that may be helpful to other researchers in the UK LLC TRE. For longer scripts, we will include a snippet of the code plus a link to Git where you can find the full scripts."
      ],
      "text/plain": [
       "<IPython.core.display.Markdown object>"
      ]
     },
     "metadata": {},
     "output_type": "display_data"
    }
   ],
   "source": [
    "ds.useful_syntax()"
   ]
  }
 ],
 "metadata": {
  "language_info": {
   "codemirror_mode": {
    "name": "ipython",
    "version": 3
   },
   "file_extension": ".py",
   "mimetype": "text/x-python",
   "name": "python",
   "nbconvert_exporter": "python",
   "pygments_lexer": "ipython3",
   "version": "3.12.7"
  }
 },
 "nbformat": 4,
 "nbformat_minor": 5
}
