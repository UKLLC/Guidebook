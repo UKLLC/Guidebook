{
 "cells": [
  {
   "cell_type": "markdown",
   "id": "869490f8",
   "metadata": {},
   "source": [
    "# Follow up 4 (EPICN)"
   ]
  },
  {
   "cell_type": "code",
   "execution_count": 1,
   "id": "b0b90db9",
   "metadata": {
    "execution": {
     "iopub.execute_input": "2025-07-28T18:39:22.632263Z",
     "iopub.status.busy": "2025-07-28T18:39:22.632263Z",
     "iopub.status.idle": "2025-07-28T18:39:44.458275Z",
     "shell.execute_reply": "2025-07-28T18:39:44.457763Z"
    },
    "tags": [
     "remove-input"
    ]
   },
   "outputs": [
    {
     "data": {
      "text/markdown": [
       ">Last modified: 28 Jul 2025"
      ],
      "text/plain": [
       "<IPython.core.display.Markdown object>"
      ]
     },
     "metadata": {},
     "output_type": "display_data"
    }
   ],
   "source": [
    "\n",
    "import sys\n",
    "import os\n",
    "sys.path.append(os.path.abspath('../../../../scripts/'))\n",
    "from data_doc_helper import LPSDataSet as DS, last_modified\n",
    "API_KEY = os.environ['FASTAPI_KEY']\n",
    "ds = DS(\"EPICN\", \"FU4\")\n",
    "last_modified()\n"
   ]
  },
  {
   "cell_type": "markdown",
   "id": "bd688beb",
   "metadata": {},
   "source": [
    "## 1. Summary"
   ]
  },
  {
   "cell_type": "code",
   "execution_count": 2,
   "id": "b011c1cc",
   "metadata": {
    "execution": {
     "iopub.execute_input": "2025-07-28T18:39:44.465303Z",
     "iopub.status.busy": "2025-07-28T18:39:44.465303Z",
     "iopub.status.idle": "2025-07-28T18:39:44.475434Z",
     "shell.execute_reply": "2025-07-28T18:39:44.473415Z"
    },
    "tags": [
     "remove-input"
    ]
   },
   "outputs": [
    {
     "data": {
      "text/markdown": [
       "A questionnaire about health and lifestyle was sent to participants that had agreed to take part in the 3rd health check"
      ],
      "text/plain": [
       "<IPython.core.display.Markdown object>"
      ]
     },
     "metadata": {},
     "output_type": "display_data"
    }
   ],
   "source": [
    "ds.summary()"
   ]
  },
  {
   "cell_type": "code",
   "execution_count": 3,
   "id": "10c7a75b",
   "metadata": {
    "execution": {
     "iopub.execute_input": "2025-07-28T18:39:44.488598Z",
     "iopub.status.busy": "2025-07-28T18:39:44.488598Z",
     "iopub.status.idle": "2025-07-28T18:39:49.826069Z",
     "shell.execute_reply": "2025-07-28T18:39:49.825052Z"
    },
    "tags": [
     "remove-input"
    ]
   },
   "outputs": [
    {
     "data": {
      "text/html": [
       "<style type=\"text/css\">\n",
       "#T_4ad64 th {\n",
       "  text-align: left;\n",
       "}\n",
       "#T_4ad64_row0_col0, #T_4ad64_row0_col1, #T_4ad64_row1_col0, #T_4ad64_row1_col1, #T_4ad64_row2_col0, #T_4ad64_row2_col1, #T_4ad64_row3_col0, #T_4ad64_row3_col1, #T_4ad64_row4_col0, #T_4ad64_row4_col1, #T_4ad64_row5_col0, #T_4ad64_row5_col1, #T_4ad64_row6_col0, #T_4ad64_row6_col1, #T_4ad64_row7_col0, #T_4ad64_row7_col1, #T_4ad64_row8_col0, #T_4ad64_row8_col1, #T_4ad64_row9_col0, #T_4ad64_row9_col1, #T_4ad64_row10_col0, #T_4ad64_row10_col1, #T_4ad64_row11_col0, #T_4ad64_row11_col1, #T_4ad64_row12_col0, #T_4ad64_row12_col1 {\n",
       "  text-align: left;\n",
       "}\n",
       "</style>\n",
       "<table id=\"T_4ad64\" style=\"font-size: 14px\">\n",
       "  <thead>\n",
       "    <tr>\n",
       "      <th id=\"T_4ad64_level0_col0\" class=\"col_heading level0 col0\" >Dataset Descriptor</th>\n",
       "      <th id=\"T_4ad64_level0_col1\" class=\"col_heading level0 col1\" >Dataset-specific Information</th>\n",
       "    </tr>\n",
       "  </thead>\n",
       "  <tbody>\n",
       "    <tr>\n",
       "      <td id=\"T_4ad64_row0_col0\" class=\"data row0 col0\" >Name of Dataset in TRE</td>\n",
       "      <td id=\"T_4ad64_row0_col1\" class=\"data row0 col1\" >EPICN_FU4</td>\n",
       "    </tr>\n",
       "    <tr>\n",
       "      <td id=\"T_4ad64_row1_col0\" class=\"data row1 col0\" >Citation (APA)</td>\n",
       "      <td id=\"T_4ad64_row1_col1\" class=\"data row1 col1\" >University of Cambridge, MRC Epidemiology Unit. (2022). <i>European Prospective Investigation into Cancer - Norfolk (EPIC-N): Follow up 4.</i> UK Longitudinal Linkage Collaboration (UK LLC).  <a href=\"https://doi.org/10.71760/ukllc-dataset-00107-01\" rel=\"noopener noreferrer\" target=\"_blank\">https://doi.org/10.71760/ukllc-dataset-00107-01</a></td>\n",
       "    </tr>\n",
       "    <tr>\n",
       "      <td id=\"T_4ad64_row2_col0\" class=\"data row2 col0\" >Download Citation</td>\n",
       "      <td id=\"T_4ad64_row2_col1\" class=\"data row2 col1\" > <a href=\"https://api.datacite.org/application/vnd.citationstyles.csl+json/10.71760/ukllc-dataset-00107-01\" rel=\"noopener noreferrer\" target=\"_blank\">Citeproc JSON</a>&nbsp;&nbsp;&nbsp;&nbsp; <a href=\"https://api.datacite.org/application/x-bibtex/10.71760/ukllc-dataset-00107-01\" rel=\"noopener noreferrer\" target=\"_blank\">BibTeX</a>&nbsp;&nbsp;&nbsp;&nbsp; <a href=\"https://api.datacite.org/application/x-research-info-systems/10.71760/ukllc-dataset-00107-01\" rel=\"noopener noreferrer\" target=\"_blank\">RIS</a></td>\n",
       "    </tr>\n",
       "    <tr>\n",
       "      <td id=\"T_4ad64_row3_col0\" class=\"data row3 col0\" >Series</td>\n",
       "      <td id=\"T_4ad64_row3_col1\" class=\"data row3 col1\" > <a href=\"https://guidebook.ukllc.ac.uk/docs/lps_data/lps%20profiles/EPICN\">European Prospective Investigation into Cancer - Norfolk (EPIC-N)</a></td>\n",
       "    </tr>\n",
       "    <tr>\n",
       "      <td id=\"T_4ad64_row4_col0\" class=\"data row4 col0\" >Owner</td>\n",
       "      <td id=\"T_4ad64_row4_col1\" class=\"data row4 col1\" >University of Cambridge</td>\n",
       "    </tr>\n",
       "    <tr>\n",
       "      <td id=\"T_4ad64_row5_col0\" class=\"data row5 col0\" >Temporal Coverage</td>\n",
       "      <td id=\"T_4ad64_row5_col1\" class=\"data row5 col1\" >04/2004 - 11/2011</td>\n",
       "    </tr>\n",
       "    <tr>\n",
       "      <td id=\"T_4ad64_row6_col0\" class=\"data row6 col0\" >Keywords</td>\n",
       "      <td id=\"T_4ad64_row6_col1\" class=\"data row6 col1\" >Health,Lifestyle,Physical activity</td>\n",
       "    </tr>\n",
       "    <tr>\n",
       "      <td id=\"T_4ad64_row7_col0\" class=\"data row7 col0\" >Participants Invited</td>\n",
       "      <td id=\"T_4ad64_row7_col1\" class=\"data row7 col1\" >18380</td>\n",
       "    </tr>\n",
       "    <tr>\n",
       "      <td id=\"T_4ad64_row8_col0\" class=\"data row8 col0\" >Participant Count</td>\n",
       "      <td id=\"T_4ad64_row8_col1\" class=\"data row8 col1\" >7824</td>\n",
       "    </tr>\n",
       "    <tr>\n",
       "      <td id=\"T_4ad64_row9_col0\" class=\"data row9 col0\" >Number of variables</td>\n",
       "      <td id=\"T_4ad64_row9_col1\" class=\"data row9 col1\" >8</td>\n",
       "    </tr>\n",
       "    <tr>\n",
       "      <td id=\"T_4ad64_row10_col0\" class=\"data row10 col0\" >Number of observations</td>\n",
       "      <td id=\"T_4ad64_row10_col1\" class=\"data row10 col1\" >8619</td>\n",
       "    </tr>\n",
       "    <tr>\n",
       "      <td id=\"T_4ad64_row11_col0\" class=\"data row11 col0\" >Specific Restrictions to Data Use</td>\n",
       "      <td id=\"T_4ad64_row11_col1\" class=\"data row11 col1\" >None</td>\n",
       "    </tr>\n",
       "    <tr>\n",
       "      <td id=\"T_4ad64_row12_col0\" class=\"data row12 col0\" >Build a Data Request</td>\n",
       "      <td id=\"T_4ad64_row12_col1\" class=\"data row12 col1\" > <a href=\"https://explore.ukllc.ac.uk/\" rel=\"noopener noreferrer\" target=\"_blank\">https://explore.ukllc.ac.uk/</a></td>\n",
       "    </tr>\n",
       "  </tbody>\n",
       "</table>\n"
      ],
      "text/plain": [
       "<pandas.io.formats.style.Styler at 0x28699cd1be0>"
      ]
     },
     "execution_count": 3,
     "metadata": {},
     "output_type": "execute_result"
    }
   ],
   "source": [
    "ds.info_table()"
   ]
  },
  {
   "cell_type": "markdown",
   "id": "b83a2b9a",
   "metadata": {},
   "source": [
    "## 2. Version History"
   ]
  },
  {
   "cell_type": "code",
   "execution_count": 4,
   "id": "3dfed5f3",
   "metadata": {
    "execution": {
     "iopub.execute_input": "2025-07-28T18:39:49.834071Z",
     "iopub.status.busy": "2025-07-28T18:39:49.833062Z",
     "iopub.status.idle": "2025-07-28T18:39:56.528877Z",
     "shell.execute_reply": "2025-07-28T18:39:56.526867Z"
    },
    "tags": [
     "remove-input"
    ]
   },
   "outputs": [
    {
     "data": {
      "text/html": [
       "<style type=\"text/css\">\n",
       "#T_45bcb th {\n",
       "  text-align: left;\n",
       "}\n",
       "#T_45bcb_row0_col0, #T_45bcb_row0_col1, #T_45bcb_row1_col0, #T_45bcb_row1_col1, #T_45bcb_row2_col0, #T_45bcb_row2_col1, #T_45bcb_row3_col0, #T_45bcb_row3_col1, #T_45bcb_row4_col0, #T_45bcb_row4_col1 {\n",
       "  text-align: left;\n",
       "}\n",
       "</style>\n",
       "<table id=\"T_45bcb\" style=\"font-size: 14px\">\n",
       "  <thead>\n",
       "    <tr>\n",
       "      <th id=\"T_45bcb_level0_col0\" class=\"col_heading level0 col0\" >Version</th>\n",
       "      <th id=\"T_45bcb_level0_col1\" class=\"col_heading level0 col1\" >1</th>\n",
       "    </tr>\n",
       "  </thead>\n",
       "  <tbody>\n",
       "    <tr>\n",
       "      <td id=\"T_45bcb_row0_col0\" class=\"data row0 col0\" >Version Date</td>\n",
       "      <td id=\"T_45bcb_row0_col1\" class=\"data row0 col1\" >05 Apr 2022</td>\n",
       "    </tr>\n",
       "    <tr>\n",
       "      <td id=\"T_45bcb_row1_col0\" class=\"data row1 col0\" >Number of Variables</td>\n",
       "      <td id=\"T_45bcb_row1_col1\" class=\"data row1 col1\" >8</td>\n",
       "    </tr>\n",
       "    <tr>\n",
       "      <td id=\"T_45bcb_row2_col0\" class=\"data row2 col0\" >Number of Observations</td>\n",
       "      <td id=\"T_45bcb_row2_col1\" class=\"data row2 col1\" >8619</td>\n",
       "    </tr>\n",
       "    <tr>\n",
       "      <td id=\"T_45bcb_row3_col0\" class=\"data row3 col0\" >DOI</td>\n",
       "      <td id=\"T_45bcb_row3_col1\" class=\"data row3 col1\" > <a href=\"https://doi.org/10.71760/ukllc-dataset-00107-01\" rel=\"noopener noreferrer\" target=\"_blank\">10.71760/ukllc-dataset-00107-01</a></td>\n",
       "    </tr>\n",
       "    <tr>\n",
       "      <td id=\"T_45bcb_row4_col0\" class=\"data row4 col0\" >Change Log</td>\n",
       "      <td id=\"T_45bcb_row4_col1\" class=\"data row4 col1\" > <a href=\"https://api.test.datacite.org/dois/10.71760/ukllc-dataset-00107-01/activities\" rel=\"noopener noreferrer\" target=\"_blank\">10.71760/ukllc-dataset-00107-01/activities</a></td>\n",
       "    </tr>\n",
       "  </tbody>\n",
       "</table>\n"
      ],
      "text/plain": [
       "<pandas.io.formats.style.Styler at 0x2869b957dd0>"
      ]
     },
     "execution_count": 4,
     "metadata": {},
     "output_type": "execute_result"
    }
   ],
   "source": [
    "ds.version_history()"
   ]
  },
  {
   "cell_type": "markdown",
   "id": "549bed9d",
   "metadata": {},
   "source": [
    "## 3. Documentation"
   ]
  },
  {
   "cell_type": "code",
   "execution_count": 5,
   "id": "dd3aabf7",
   "metadata": {
    "execution": {
     "iopub.execute_input": "2025-07-28T18:39:56.540655Z",
     "iopub.status.busy": "2025-07-28T18:39:56.538128Z",
     "iopub.status.idle": "2025-07-28T18:39:56.558349Z",
     "shell.execute_reply": "2025-07-28T18:39:56.556334Z"
    },
    "tags": [
     "remove-input"
    ]
   },
   "outputs": [
    {
     "data": {
      "text/markdown": [
       "We are currently building a documentation storage system which will host useful documents related to datasets and data owners. We will surface these documents on Guidebook."
      ],
      "text/plain": [
       "<IPython.core.display.Markdown object>"
      ]
     },
     "metadata": {},
     "output_type": "display_data"
    }
   ],
   "source": [
    "ds.documentation()"
   ]
  },
  {
   "cell_type": "markdown",
   "id": "479c20c3",
   "metadata": {},
   "source": [
    "## 4. Useful Syntax"
   ]
  },
  {
   "cell_type": "code",
   "execution_count": 6,
   "id": "cc793437",
   "metadata": {
    "execution": {
     "iopub.execute_input": "2025-07-28T18:39:56.567685Z",
     "iopub.status.busy": "2025-07-28T18:39:56.566687Z",
     "iopub.status.idle": "2025-07-28T18:39:56.584094Z",
     "shell.execute_reply": "2025-07-28T18:39:56.583588Z"
    },
    "tags": [
     "remove-input"
    ]
   },
   "outputs": [
    {
     "data": {
      "text/markdown": [
       "Below we will include syntax that may be helpful to other researchers in the UK LLC TRE. For longer scripts, we will include a snippet of the code plus a link to Git where you can find the full scripts."
      ],
      "text/plain": [
       "<IPython.core.display.Markdown object>"
      ]
     },
     "metadata": {},
     "output_type": "display_data"
    }
   ],
   "source": [
    "ds.useful_syntax()"
   ]
  }
 ],
 "metadata": {
  "language_info": {
   "codemirror_mode": {
    "name": "ipython",
    "version": 3
   },
   "file_extension": ".py",
   "mimetype": "text/x-python",
   "name": "python",
   "nbconvert_exporter": "python",
   "pygments_lexer": "ipython3",
   "version": "3.12.7"
  }
 },
 "nbformat": 4,
 "nbformat_minor": 5
}
