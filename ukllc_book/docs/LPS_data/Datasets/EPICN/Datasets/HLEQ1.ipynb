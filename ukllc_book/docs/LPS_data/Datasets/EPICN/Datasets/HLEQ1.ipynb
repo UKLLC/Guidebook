{
 "cells": [
  {
   "cell_type": "markdown",
   "id": "fc5cf811",
   "metadata": {},
   "source": [
    "# HLEQ1 (EPICN)"
   ]
  },
  {
   "cell_type": "code",
   "execution_count": 1,
   "id": "c2eb682e",
   "metadata": {
    "execution": {
     "iopub.execute_input": "2025-07-17T15:21:01.762328Z",
     "iopub.status.busy": "2025-07-17T15:21:01.762328Z",
     "iopub.status.idle": "2025-07-17T15:21:10.554687Z",
     "shell.execute_reply": "2025-07-17T15:21:10.553671Z"
    },
    "tags": [
     "remove-input"
    ]
   },
   "outputs": [
    {
     "data": {
      "text/markdown": [
       ">Last modified: 17 Jul 2025"
      ],
      "text/plain": [
       "<IPython.core.display.Markdown object>"
      ]
     },
     "metadata": {},
     "output_type": "display_data"
    }
   ],
   "source": [
    "\n",
    "import sys\n",
    "import os\n",
    "sys.path.append(os.path.abspath('../../../../scripts/'))\n",
    "from data_doc_helper import LPSDataSet as DS, last_modified\n",
    "API_KEY = os.environ['FASTAPI_KEY']\n",
    "ds = DS(\"EPICN\", \"HLEQ1\")\n",
    "last_modified()\n"
   ]
  },
  {
   "cell_type": "markdown",
   "id": "eb7b6576",
   "metadata": {},
   "source": [
    "## 1. Summary"
   ]
  },
  {
   "cell_type": "code",
   "execution_count": 2,
   "id": "bcd74e77",
   "metadata": {
    "execution": {
     "iopub.execute_input": "2025-07-17T15:21:10.567706Z",
     "iopub.status.busy": "2025-07-17T15:21:10.566694Z",
     "iopub.status.idle": "2025-07-17T15:21:10.581237Z",
     "shell.execute_reply": "2025-07-17T15:21:10.579204Z"
    },
    "tags": [
     "remove-input"
    ]
   },
   "outputs": [
    {
     "data": {
      "text/markdown": [
       "A questionnaire about social and psychological circumstances was sent to the eligible sample (those that consented at baseline excluding those that died and those that requested no further contact)"
      ],
      "text/plain": [
       "<IPython.core.display.Markdown object>"
      ]
     },
     "metadata": {},
     "output_type": "display_data"
    }
   ],
   "source": [
    "ds.summary()"
   ]
  },
  {
   "cell_type": "code",
   "execution_count": 3,
   "id": "bb9ec975",
   "metadata": {
    "execution": {
     "iopub.execute_input": "2025-07-17T15:21:10.587515Z",
     "iopub.status.busy": "2025-07-17T15:21:10.586487Z",
     "iopub.status.idle": "2025-07-17T15:21:11.761086Z",
     "shell.execute_reply": "2025-07-17T15:21:11.759505Z"
    },
    "tags": [
     "remove-input"
    ]
   },
   "outputs": [
    {
     "data": {
      "text/html": [
       "<style type=\"text/css\">\n",
       "#T_b3b7f th {\n",
       "  text-align: left;\n",
       "}\n",
       "#T_b3b7f_row0_col0, #T_b3b7f_row0_col1, #T_b3b7f_row1_col0, #T_b3b7f_row1_col1, #T_b3b7f_row2_col0, #T_b3b7f_row2_col1, #T_b3b7f_row3_col0, #T_b3b7f_row3_col1, #T_b3b7f_row4_col0, #T_b3b7f_row4_col1, #T_b3b7f_row5_col0, #T_b3b7f_row5_col1, #T_b3b7f_row6_col0, #T_b3b7f_row6_col1, #T_b3b7f_row7_col0, #T_b3b7f_row7_col1, #T_b3b7f_row8_col0, #T_b3b7f_row8_col1, #T_b3b7f_row9_col0, #T_b3b7f_row9_col1, #T_b3b7f_row10_col0, #T_b3b7f_row10_col1, #T_b3b7f_row11_col0, #T_b3b7f_row11_col1, #T_b3b7f_row12_col0, #T_b3b7f_row12_col1 {\n",
       "  text-align: left;\n",
       "}\n",
       "</style>\n",
       "<table id=\"T_b3b7f\" style=\"font-size: 14px\">\n",
       "  <thead>\n",
       "    <tr>\n",
       "      <th id=\"T_b3b7f_level0_col0\" class=\"col_heading level0 col0\" >Dataset Descriptor</th>\n",
       "      <th id=\"T_b3b7f_level0_col1\" class=\"col_heading level0 col1\" >Dataset-specific Information</th>\n",
       "    </tr>\n",
       "  </thead>\n",
       "  <tbody>\n",
       "    <tr>\n",
       "      <td id=\"T_b3b7f_row0_col0\" class=\"data row0 col0\" >Name of Dataset in TRE</td>\n",
       "      <td id=\"T_b3b7f_row0_col1\" class=\"data row0 col1\" >EPICN_HLEQ1</td>\n",
       "    </tr>\n",
       "    <tr>\n",
       "      <td id=\"T_b3b7f_row1_col0\" class=\"data row1 col0\" >Citation (APA)</td>\n",
       "      <td id=\"T_b3b7f_row1_col1\" class=\"data row1 col1\" >University of Cambridge, MRC Epidemiology Unit. (2022). <i>European Prospective Investigation into Cancer and Nutrition - Norfolk (EPIC-N): HLEQ1.</i> UK Longitudinal Linkage Collaboration (UK LLC).  <a href=\"https://doi.org/10.83126/ukllc-dataset-00191-01\" rel=\"noopener noreferrer\" target=\"_blank\">https://doi.org/10.83126/ukllc-dataset-00191-01</a></td>\n",
       "    </tr>\n",
       "    <tr>\n",
       "      <td id=\"T_b3b7f_row2_col0\" class=\"data row2 col0\" >Download Citation</td>\n",
       "      <td id=\"T_b3b7f_row2_col1\" class=\"data row2 col1\" > <a href=\"https://api.test.datacite.org/application/vnd.citationstyles.csl+json/10.83126/ukllc-dataset-00191-01\" rel=\"noopener noreferrer\" target=\"_blank\">Citeproc JSON</a>&nbsp;&nbsp;&nbsp;&nbsp; <a href=\"https://api.test.datacite.org/application/x-bibtex/10.83126/ukllc-dataset-00191-01\" rel=\"noopener noreferrer\" target=\"_blank\">BibTeX</a>&nbsp;&nbsp;&nbsp;&nbsp; <a href=\"https://api.test.datacite.org/application/x-research-info-systems/10.83126/ukllc-dataset-00191-01\" rel=\"noopener noreferrer\" target=\"_blank\">RIS</a></td>\n",
       "    </tr>\n",
       "    <tr>\n",
       "      <td id=\"T_b3b7f_row3_col0\" class=\"data row3 col0\" >Series</td>\n",
       "      <td id=\"T_b3b7f_row3_col1\" class=\"data row3 col1\" > <a href=\"https://guidebook.ukllc.ac.uk/docs/lps/lps%20profiles/EPICN\">European Prospective Investigation into Cancer and Nutrition - Norfolk (EPIC-N)</a></td>\n",
       "    </tr>\n",
       "    <tr>\n",
       "      <td id=\"T_b3b7f_row4_col0\" class=\"data row4 col0\" >Owner</td>\n",
       "      <td id=\"T_b3b7f_row4_col1\" class=\"data row4 col1\" >University of Cambridge</td>\n",
       "    </tr>\n",
       "    <tr>\n",
       "      <td id=\"T_b3b7f_row5_col0\" class=\"data row5 col0\" >Temporal Coverage</td>\n",
       "      <td id=\"T_b3b7f_row5_col1\" class=\"data row5 col1\" >01/1996 - 12/1999</td>\n",
       "    </tr>\n",
       "    <tr>\n",
       "      <td id=\"T_b3b7f_row6_col0\" class=\"data row6 col0\" >Keywords</td>\n",
       "      <td id=\"T_b3b7f_row6_col1\" class=\"data row6 col1\" >Health,Mental Health,Occupation,Social life</td>\n",
       "    </tr>\n",
       "    <tr>\n",
       "      <td id=\"T_b3b7f_row7_col0\" class=\"data row7 col0\" >Participants Invited</td>\n",
       "      <td id=\"T_b3b7f_row7_col1\" class=\"data row7 col1\" >28582</td>\n",
       "    </tr>\n",
       "    <tr>\n",
       "      <td id=\"T_b3b7f_row8_col0\" class=\"data row8 col0\" >Participant Count</td>\n",
       "      <td id=\"T_b3b7f_row8_col1\" class=\"data row8 col1\" >11424</td>\n",
       "    </tr>\n",
       "    <tr>\n",
       "      <td id=\"T_b3b7f_row9_col0\" class=\"data row9 col0\" >Number of variables</td>\n",
       "      <td id=\"T_b3b7f_row9_col1\" class=\"data row9 col1\" >10</td>\n",
       "    </tr>\n",
       "    <tr>\n",
       "      <td id=\"T_b3b7f_row10_col0\" class=\"data row10 col0\" >Number of observations</td>\n",
       "      <td id=\"T_b3b7f_row10_col1\" class=\"data row10 col1\" >12897</td>\n",
       "    </tr>\n",
       "    <tr>\n",
       "      <td id=\"T_b3b7f_row11_col0\" class=\"data row11 col0\" >Specific Restrictions to Data Use</td>\n",
       "      <td id=\"T_b3b7f_row11_col1\" class=\"data row11 col1\" >None</td>\n",
       "    </tr>\n",
       "    <tr>\n",
       "      <td id=\"T_b3b7f_row12_col0\" class=\"data row12 col0\" >Build a Data Request</td>\n",
       "      <td id=\"T_b3b7f_row12_col1\" class=\"data row12 col1\" > <a href=\"https://explore.ukllc.ac.uk/\" rel=\"noopener noreferrer\" target=\"_blank\">https://explore.ukllc.ac.uk/</a></td>\n",
       "    </tr>\n",
       "  </tbody>\n",
       "</table>\n"
      ],
      "text/plain": [
       "<pandas.io.formats.style.Styler at 0x1db7aaea030>"
      ]
     },
     "execution_count": 3,
     "metadata": {},
     "output_type": "execute_result"
    }
   ],
   "source": [
    "ds.info_table()"
   ]
  },
  {
   "cell_type": "markdown",
   "id": "0a4e423f",
   "metadata": {},
   "source": [
    "## 2. Version History"
   ]
  },
  {
   "cell_type": "code",
   "execution_count": 4,
   "id": "a6f062dc",
   "metadata": {
    "execution": {
     "iopub.execute_input": "2025-07-17T15:21:11.767458Z",
     "iopub.status.busy": "2025-07-17T15:21:11.767458Z",
     "iopub.status.idle": "2025-07-17T15:21:14.183607Z",
     "shell.execute_reply": "2025-07-17T15:21:14.179602Z"
    },
    "tags": [
     "remove-input"
    ]
   },
   "outputs": [
    {
     "data": {
      "text/html": [
       "<style type=\"text/css\">\n",
       "#T_b3bd0 th {\n",
       "  text-align: left;\n",
       "}\n",
       "#T_b3bd0_row0_col0, #T_b3bd0_row0_col1, #T_b3bd0_row1_col0, #T_b3bd0_row1_col1, #T_b3bd0_row2_col0, #T_b3bd0_row2_col1, #T_b3bd0_row3_col0, #T_b3bd0_row3_col1, #T_b3bd0_row4_col0, #T_b3bd0_row4_col1 {\n",
       "  text-align: left;\n",
       "}\n",
       "</style>\n",
       "<table id=\"T_b3bd0\" style=\"font-size: 14px\">\n",
       "  <thead>\n",
       "    <tr>\n",
       "      <th id=\"T_b3bd0_level0_col0\" class=\"col_heading level0 col0\" >Version</th>\n",
       "      <th id=\"T_b3bd0_level0_col1\" class=\"col_heading level0 col1\" >1</th>\n",
       "    </tr>\n",
       "  </thead>\n",
       "  <tbody>\n",
       "    <tr>\n",
       "      <td id=\"T_b3bd0_row0_col0\" class=\"data row0 col0\" >Version Date</td>\n",
       "      <td id=\"T_b3bd0_row0_col1\" class=\"data row0 col1\" >05 Apr 2022</td>\n",
       "    </tr>\n",
       "    <tr>\n",
       "      <td id=\"T_b3bd0_row1_col0\" class=\"data row1 col0\" >Number of Variables</td>\n",
       "      <td id=\"T_b3bd0_row1_col1\" class=\"data row1 col1\" >10</td>\n",
       "    </tr>\n",
       "    <tr>\n",
       "      <td id=\"T_b3bd0_row2_col0\" class=\"data row2 col0\" >Number of Observations</td>\n",
       "      <td id=\"T_b3bd0_row2_col1\" class=\"data row2 col1\" >12897</td>\n",
       "    </tr>\n",
       "    <tr>\n",
       "      <td id=\"T_b3bd0_row3_col0\" class=\"data row3 col0\" >DOI</td>\n",
       "      <td id=\"T_b3bd0_row3_col1\" class=\"data row3 col1\" > <a href=\"https://doi.org/10.83126/ukllc-dataset-00191-01\" rel=\"noopener noreferrer\" target=\"_blank\">10.83126/ukllc-dataset-00191-01</a></td>\n",
       "    </tr>\n",
       "    <tr>\n",
       "      <td id=\"T_b3bd0_row4_col0\" class=\"data row4 col0\" >Change Log</td>\n",
       "      <td id=\"T_b3bd0_row4_col1\" class=\"data row4 col1\" > <a href=\"https://api.test.datacite.org/dois/10.83126/ukllc-dataset-00191-01/activities\" rel=\"noopener noreferrer\" target=\"_blank\">10.83126/ukllc-dataset-00191-01/activities</a></td>\n",
       "    </tr>\n",
       "  </tbody>\n",
       "</table>\n"
      ],
      "text/plain": [
       "<pandas.io.formats.style.Styler at 0x1db00498080>"
      ]
     },
     "execution_count": 4,
     "metadata": {},
     "output_type": "execute_result"
    }
   ],
   "source": [
    "ds.version_history()"
   ]
  },
  {
   "cell_type": "markdown",
   "id": "19b3828e",
   "metadata": {},
   "source": [
    "## 3. Documentation"
   ]
  },
  {
   "cell_type": "code",
   "execution_count": 5,
   "id": "bffcf000",
   "metadata": {
    "execution": {
     "iopub.execute_input": "2025-07-17T15:21:14.193138Z",
     "iopub.status.busy": "2025-07-17T15:21:14.192141Z",
     "iopub.status.idle": "2025-07-17T15:21:14.202376Z",
     "shell.execute_reply": "2025-07-17T15:21:14.201141Z"
    },
    "tags": [
     "remove-input"
    ]
   },
   "outputs": [
    {
     "data": {
      "text/markdown": [
       "We are currently building a documentation storage system which will host useful documents related to datasets and data owners. We will surface these documents on Guidebook."
      ],
      "text/plain": [
       "<IPython.core.display.Markdown object>"
      ]
     },
     "metadata": {},
     "output_type": "display_data"
    }
   ],
   "source": [
    "ds.documentation()"
   ]
  },
  {
   "cell_type": "markdown",
   "id": "90f22388",
   "metadata": {},
   "source": [
    "## 4. Useful Syntax"
   ]
  },
  {
   "cell_type": "code",
   "execution_count": 6,
   "id": "88177be1",
   "metadata": {
    "execution": {
     "iopub.execute_input": "2025-07-17T15:21:14.207925Z",
     "iopub.status.busy": "2025-07-17T15:21:14.207925Z",
     "iopub.status.idle": "2025-07-17T15:21:14.217765Z",
     "shell.execute_reply": "2025-07-17T15:21:14.216756Z"
    },
    "tags": [
     "remove-input"
    ]
   },
   "outputs": [
    {
     "data": {
      "text/markdown": [
       "Below we will include syntax that may be helpful to other researchers in the UK LLC TRE. For longer scripts, we will include a snippet of the code plus a link to Git where you can find the full scripts."
      ],
      "text/plain": [
       "<IPython.core.display.Markdown object>"
      ]
     },
     "metadata": {},
     "output_type": "display_data"
    }
   ],
   "source": [
    "ds.useful_syntax()"
   ]
  }
 ],
 "metadata": {
  "language_info": {
   "codemirror_mode": {
    "name": "ipython",
    "version": 3
   },
   "file_extension": ".py",
   "mimetype": "text/x-python",
   "name": "python",
   "nbconvert_exporter": "python",
   "pygments_lexer": "ipython3",
   "version": "3.12.7"
  }
 },
 "nbformat": 4,
 "nbformat_minor": 5
}
