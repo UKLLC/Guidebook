{
 "cells": [
  {
   "cell_type": "markdown",
   "id": "0f1a641b",
   "metadata": {},
   "source": [
    "# EPICN Datasets"
   ]
  },
  {
   "cell_type": "code",
   "execution_count": 1,
   "id": "30a0b9a4",
   "metadata": {
    "tags": [
     "remove-cell"
    ]
   },
   "outputs": [],
   "source": [
    "import sys\n",
    "import os\n",
    "sys.path.append(os.path.abspath('../../../../scripts/'))\n",
    "from data_doc_helper import LPSSource as SS\n",
    "API_KEY = os.environ['FASTAPI_KEY']\n",
    "ss = SS(\"EPICN\")\n"
   ]
  },
  {
   "cell_type": "markdown",
   "id": "6072e702",
   "metadata": {},
   "source": [
    "## 1. Datasets"
   ]
  },
  {
   "cell_type": "code",
   "execution_count": 2,
   "id": "4a0300fa",
   "metadata": {
    "tags": [
     "hide-cell"
    ]
   },
   "outputs": [
    {
     "data": {
      "text/markdown": [
       "**Table 1:** Datasets and metrics in the UK LLC belonging to EPICN."
      ],
      "text/plain": [
       "<IPython.core.display.Markdown object>"
      ]
     },
     "metadata": {},
     "output_type": "display_data"
    }
   ],
   "source": [
    "ss.table_caption_ds()"
   ]
  },
  {
   "cell_type": "code",
   "execution_count": 3,
   "id": "d620a7d9",
   "metadata": {
    "tags": [
     "hide-cell"
    ]
   },
   "outputs": [
    {
     "data": {
      "text/html": [
       "<style type=\"text/css\">\n",
       "#T_50977 th {\n",
       "  text-align: left;\n",
       "}\n",
       "#T_50977_row0_col0, #T_50977_row0_col1, #T_50977_row0_col2, #T_50977_row0_col3, #T_50977_row0_col4, #T_50977_row1_col0, #T_50977_row1_col1, #T_50977_row1_col2, #T_50977_row1_col3, #T_50977_row1_col4, #T_50977_row2_col0, #T_50977_row2_col1, #T_50977_row2_col2, #T_50977_row2_col3, #T_50977_row2_col4, #T_50977_row3_col0, #T_50977_row3_col1, #T_50977_row3_col2, #T_50977_row3_col3, #T_50977_row3_col4, #T_50977_row4_col0, #T_50977_row4_col1, #T_50977_row4_col2, #T_50977_row4_col3, #T_50977_row4_col4, #T_50977_row5_col0, #T_50977_row5_col1, #T_50977_row5_col2, #T_50977_row5_col3, #T_50977_row5_col4, #T_50977_row6_col0, #T_50977_row6_col1, #T_50977_row6_col2, #T_50977_row6_col3, #T_50977_row6_col4, #T_50977_row7_col0, #T_50977_row7_col1, #T_50977_row7_col2, #T_50977_row7_col3, #T_50977_row7_col4 {\n",
       "  text-align: left;\n",
       "}\n",
       "</style>\n",
       "<table id=\"T_50977\" style=\"font-size: 14px\">\n",
       "  <thead>\n",
       "    <tr>\n",
       "      <th id=\"T_50977_level0_col0\" class=\"col_heading level0 col0\" >Dataset</th>\n",
       "      <th id=\"T_50977_level0_col1\" class=\"col_heading level0 col1\" >Dataset Name</th>\n",
       "      <th id=\"T_50977_level0_col2\" class=\"col_heading level0 col2\" ># Participants</th>\n",
       "      <th id=\"T_50977_level0_col3\" class=\"col_heading level0 col3\" ># Observations</th>\n",
       "      <th id=\"T_50977_level0_col4\" class=\"col_heading level0 col4\" ># Variables</th>\n",
       "    </tr>\n",
       "  </thead>\n",
       "  <tbody>\n",
       "    <tr>\n",
       "      <td id=\"T_50977_row0_col0\" class=\"data row0 col0\" > <a href=\"https://guidebook.ukllc.ac.uk/docs/LPS_data/Datasets/EPICN/Datasets/FU3.html\" rel=\"noopener noreferrer\" target=\"_blank\">FU3</a></td>\n",
       "      <td id=\"T_50977_row0_col1\" class=\"data row0 col1\" >Follow up 3</td>\n",
       "      <td id=\"T_50977_row0_col2\" class=\"data row0 col2\" >10913</td>\n",
       "      <td id=\"T_50977_row0_col3\" class=\"data row0 col3\" >12186</td>\n",
       "      <td id=\"T_50977_row0_col4\" class=\"data row0 col4\" >9</td>\n",
       "    </tr>\n",
       "    <tr>\n",
       "      <td id=\"T_50977_row1_col0\" class=\"data row1 col0\" > <a href=\"https://guidebook.ukllc.ac.uk/docs/LPS_data/Datasets/EPICN/Datasets/FU1.html\" rel=\"noopener noreferrer\" target=\"_blank\">FU1</a></td>\n",
       "      <td id=\"T_50977_row1_col1\" class=\"data row1 col1\" >Follow up 1</td>\n",
       "      <td id=\"T_50977_row1_col2\" class=\"data row1 col2\" >8199</td>\n",
       "      <td id=\"T_50977_row1_col3\" class=\"data row1 col3\" >9421</td>\n",
       "      <td id=\"T_50977_row1_col4\" class=\"data row1 col4\" >8</td>\n",
       "    </tr>\n",
       "    <tr>\n",
       "      <td id=\"T_50977_row2_col0\" class=\"data row2 col0\" > <a href=\"https://guidebook.ukllc.ac.uk/docs/LPS_data/Datasets/EPICN/Datasets/FU2.html\" rel=\"noopener noreferrer\" target=\"_blank\">FU2</a></td>\n",
       "      <td id=\"T_50977_row2_col1\" class=\"data row2 col1\" >Follow up 2</td>\n",
       "      <td id=\"T_50977_row2_col2\" class=\"data row2 col2\" >10853</td>\n",
       "      <td id=\"T_50977_row2_col3\" class=\"data row2 col3\" >12074</td>\n",
       "      <td id=\"T_50977_row2_col4\" class=\"data row2 col4\" >8</td>\n",
       "    </tr>\n",
       "    <tr>\n",
       "      <td id=\"T_50977_row3_col0\" class=\"data row3 col0\" > <a href=\"https://guidebook.ukllc.ac.uk/docs/LPS_data/Datasets/EPICN/Datasets/FU4.html\" rel=\"noopener noreferrer\" target=\"_blank\">FU4</a></td>\n",
       "      <td id=\"T_50977_row3_col1\" class=\"data row3 col1\" >Follow up 4</td>\n",
       "      <td id=\"T_50977_row3_col2\" class=\"data row3 col2\" >7824</td>\n",
       "      <td id=\"T_50977_row3_col3\" class=\"data row3 col3\" >8619</td>\n",
       "      <td id=\"T_50977_row3_col4\" class=\"data row3 col4\" >8</td>\n",
       "    </tr>\n",
       "    <tr>\n",
       "      <td id=\"T_50977_row4_col0\" class=\"data row4 col0\" > <a href=\"https://guidebook.ukllc.ac.uk/docs/LPS_data/Datasets/EPICN/Datasets/FU5.html\" rel=\"noopener noreferrer\" target=\"_blank\">FU5</a></td>\n",
       "      <td id=\"T_50977_row4_col1\" class=\"data row4 col1\" >Follow up 5</td>\n",
       "      <td id=\"T_50977_row4_col2\" class=\"data row4 col2\" >4966</td>\n",
       "      <td id=\"T_50977_row4_col3\" class=\"data row4 col3\" >5304</td>\n",
       "      <td id=\"T_50977_row4_col4\" class=\"data row4 col4\" >8</td>\n",
       "    </tr>\n",
       "    <tr>\n",
       "      <td id=\"T_50977_row5_col0\" class=\"data row5 col0\" > <a href=\"https://guidebook.ukllc.ac.uk/docs/LPS_data/Datasets/EPICN/Datasets/FU7.html\" rel=\"noopener noreferrer\" target=\"_blank\">FU7</a></td>\n",
       "      <td id=\"T_50977_row5_col1\" class=\"data row5 col1\" >Follow up 7</td>\n",
       "      <td id=\"T_50977_row5_col2\" class=\"data row5 col2\" >2390</td>\n",
       "      <td id=\"T_50977_row5_col3\" class=\"data row5 col3\" >2539</td>\n",
       "      <td id=\"T_50977_row5_col4\" class=\"data row5 col4\" >8</td>\n",
       "    </tr>\n",
       "    <tr>\n",
       "      <td id=\"T_50977_row6_col0\" class=\"data row6 col0\" > <a href=\"https://guidebook.ukllc.ac.uk/docs/LPS_data/Datasets/EPICN/Datasets/HLEQ1.html\" rel=\"noopener noreferrer\" target=\"_blank\">HLEQ1</a></td>\n",
       "      <td id=\"T_50977_row6_col1\" class=\"data row6 col1\" >HLEQ1</td>\n",
       "      <td id=\"T_50977_row6_col2\" class=\"data row6 col2\" >11424</td>\n",
       "      <td id=\"T_50977_row6_col3\" class=\"data row6 col3\" >12897</td>\n",
       "      <td id=\"T_50977_row6_col4\" class=\"data row6 col4\" >10</td>\n",
       "    </tr>\n",
       "    <tr>\n",
       "      <td id=\"T_50977_row7_col0\" class=\"data row7 col0\" > <a href=\"https://guidebook.ukllc.ac.uk/docs/LPS_data/Datasets/EPICN/Datasets/HLQ.html\" rel=\"noopener noreferrer\" target=\"_blank\">HLQ</a></td>\n",
       "      <td id=\"T_50977_row7_col1\" class=\"data row7 col1\" >Baseline HLQ</td>\n",
       "      <td id=\"T_50977_row7_col2\" class=\"data row7 col2\" >15748</td>\n",
       "      <td id=\"T_50977_row7_col3\" class=\"data row7 col3\" >18248</td>\n",
       "      <td id=\"T_50977_row7_col4\" class=\"data row7 col4\" >12</td>\n",
       "    </tr>\n",
       "  </tbody>\n",
       "</table>\n"
      ],
      "text/plain": [
       "<pandas.io.formats.style.Styler at 0x2217025e270>"
      ]
     },
     "execution_count": 3,
     "metadata": {},
     "output_type": "execute_result"
    }
   ],
   "source": [
    "ss.datasets()"
   ]
  }
 ],
 "metadata": {
  "kernelspec": {
   "display_name": "jupbook",
   "language": "python",
   "name": "python3"
  },
  "language_info": {
   "codemirror_mode": {
    "name": "ipython",
    "version": 3
   },
   "file_extension": ".py",
   "mimetype": "text/x-python",
   "name": "python",
   "nbconvert_exporter": "python",
   "pygments_lexer": "ipython3",
   "version": "3.13.2"
  }
 },
 "nbformat": 4,
 "nbformat_minor": 5
}
