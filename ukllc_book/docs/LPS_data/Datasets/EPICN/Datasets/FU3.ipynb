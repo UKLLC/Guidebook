{
 "cells": [
  {
   "cell_type": "markdown",
   "id": "60c86257",
   "metadata": {},
   "source": [
    "# Follow up 3 (EPICN)"
   ]
  },
  {
   "cell_type": "code",
   "execution_count": 1,
   "id": "6b7ce3ff",
   "metadata": {
    "execution": {
     "iopub.execute_input": "2025-07-28T18:38:53.552227Z",
     "iopub.status.busy": "2025-07-28T18:38:53.551226Z",
     "iopub.status.idle": "2025-07-28T18:39:06.076143Z",
     "shell.execute_reply": "2025-07-28T18:39:06.075130Z"
    },
    "tags": [
     "remove-input"
    ]
   },
   "outputs": [
    {
     "data": {
      "text/markdown": [
       ">Last modified: 28 Jul 2025"
      ],
      "text/plain": [
       "<IPython.core.display.Markdown object>"
      ]
     },
     "metadata": {},
     "output_type": "display_data"
    }
   ],
   "source": [
    "\n",
    "import sys\n",
    "import os\n",
    "sys.path.append(os.path.abspath('../../../../scripts/'))\n",
    "from data_doc_helper import LPSDataSet as DS, last_modified\n",
    "API_KEY = os.environ['FASTAPI_KEY']\n",
    "ds = DS(\"EPICN\", \"FU3\")\n",
    "last_modified()\n"
   ]
  },
  {
   "cell_type": "markdown",
   "id": "9c08f82d",
   "metadata": {},
   "source": [
    "## 1. Summary"
   ]
  },
  {
   "cell_type": "code",
   "execution_count": 2,
   "id": "b5ebc469",
   "metadata": {
    "execution": {
     "iopub.execute_input": "2025-07-28T18:39:06.087000Z",
     "iopub.status.busy": "2025-07-28T18:39:06.085001Z",
     "iopub.status.idle": "2025-07-28T18:39:06.099523Z",
     "shell.execute_reply": "2025-07-28T18:39:06.097506Z"
    },
    "tags": [
     "remove-input"
    ]
   },
   "outputs": [
    {
     "data": {
      "text/markdown": [
       "A questionnaire about health and lifestyle was sent to the eligible sample (those that consented at baseline excluding those that died and those that requested no further contact)"
      ],
      "text/plain": [
       "<IPython.core.display.Markdown object>"
      ]
     },
     "metadata": {},
     "output_type": "display_data"
    }
   ],
   "source": [
    "ds.summary()"
   ]
  },
  {
   "cell_type": "code",
   "execution_count": 3,
   "id": "d5bdc3c3",
   "metadata": {
    "execution": {
     "iopub.execute_input": "2025-07-28T18:39:06.107522Z",
     "iopub.status.busy": "2025-07-28T18:39:06.106524Z",
     "iopub.status.idle": "2025-07-28T18:39:07.867469Z",
     "shell.execute_reply": "2025-07-28T18:39:07.866457Z"
    },
    "tags": [
     "remove-input"
    ]
   },
   "outputs": [
    {
     "data": {
      "text/html": [
       "<style type=\"text/css\">\n",
       "#T_73653 th {\n",
       "  text-align: left;\n",
       "}\n",
       "#T_73653_row0_col0, #T_73653_row0_col1, #T_73653_row1_col0, #T_73653_row1_col1, #T_73653_row2_col0, #T_73653_row2_col1, #T_73653_row3_col0, #T_73653_row3_col1, #T_73653_row4_col0, #T_73653_row4_col1, #T_73653_row5_col0, #T_73653_row5_col1, #T_73653_row6_col0, #T_73653_row6_col1, #T_73653_row7_col0, #T_73653_row7_col1, #T_73653_row8_col0, #T_73653_row8_col1, #T_73653_row9_col0, #T_73653_row9_col1, #T_73653_row10_col0, #T_73653_row10_col1, #T_73653_row11_col0, #T_73653_row11_col1, #T_73653_row12_col0, #T_73653_row12_col1 {\n",
       "  text-align: left;\n",
       "}\n",
       "</style>\n",
       "<table id=\"T_73653\" style=\"font-size: 14px\">\n",
       "  <thead>\n",
       "    <tr>\n",
       "      <th id=\"T_73653_level0_col0\" class=\"col_heading level0 col0\" >Dataset Descriptor</th>\n",
       "      <th id=\"T_73653_level0_col1\" class=\"col_heading level0 col1\" >Dataset-specific Information</th>\n",
       "    </tr>\n",
       "  </thead>\n",
       "  <tbody>\n",
       "    <tr>\n",
       "      <td id=\"T_73653_row0_col0\" class=\"data row0 col0\" >Name of Dataset in TRE</td>\n",
       "      <td id=\"T_73653_row0_col1\" class=\"data row0 col1\" >EPICN_FU3</td>\n",
       "    </tr>\n",
       "    <tr>\n",
       "      <td id=\"T_73653_row1_col0\" class=\"data row1 col0\" >Citation (APA)</td>\n",
       "      <td id=\"T_73653_row1_col1\" class=\"data row1 col1\" >University of Cambridge, MRC Epidemiology Unit. (2022). <i>European Prospective Investigation into Cancer - Norfolk (EPIC-N): Follow up 3.</i> UK Longitudinal Linkage Collaboration (UK LLC).  <a href=\"https://doi.org/10.71760/ukllc-dataset-00106-01\" rel=\"noopener noreferrer\" target=\"_blank\">https://doi.org/10.71760/ukllc-dataset-00106-01</a></td>\n",
       "    </tr>\n",
       "    <tr>\n",
       "      <td id=\"T_73653_row2_col0\" class=\"data row2 col0\" >Download Citation</td>\n",
       "      <td id=\"T_73653_row2_col1\" class=\"data row2 col1\" > <a href=\"https://api.datacite.org/application/vnd.citationstyles.csl+json/10.71760/ukllc-dataset-00106-01\" rel=\"noopener noreferrer\" target=\"_blank\">Citeproc JSON</a>&nbsp;&nbsp;&nbsp;&nbsp; <a href=\"https://api.datacite.org/application/x-bibtex/10.71760/ukllc-dataset-00106-01\" rel=\"noopener noreferrer\" target=\"_blank\">BibTeX</a>&nbsp;&nbsp;&nbsp;&nbsp; <a href=\"https://api.datacite.org/application/x-research-info-systems/10.71760/ukllc-dataset-00106-01\" rel=\"noopener noreferrer\" target=\"_blank\">RIS</a></td>\n",
       "    </tr>\n",
       "    <tr>\n",
       "      <td id=\"T_73653_row3_col0\" class=\"data row3 col0\" >Series</td>\n",
       "      <td id=\"T_73653_row3_col1\" class=\"data row3 col1\" > <a href=\"https://guidebook.ukllc.ac.uk/docs/lps_data/lps%20profiles/EPICN\">European Prospective Investigation into Cancer - Norfolk (EPIC-N)</a></td>\n",
       "    </tr>\n",
       "    <tr>\n",
       "      <td id=\"T_73653_row4_col0\" class=\"data row4 col0\" >Owner</td>\n",
       "      <td id=\"T_73653_row4_col1\" class=\"data row4 col1\" >University of Cambridge</td>\n",
       "    </tr>\n",
       "    <tr>\n",
       "      <td id=\"T_73653_row5_col0\" class=\"data row5 col0\" >Temporal Coverage</td>\n",
       "      <td id=\"T_73653_row5_col1\" class=\"data row5 col1\" >01/2002 - 06/2004</td>\n",
       "    </tr>\n",
       "    <tr>\n",
       "      <td id=\"T_73653_row6_col0\" class=\"data row6 col0\" >Keywords</td>\n",
       "      <td id=\"T_73653_row6_col1\" class=\"data row6 col1\" >Health,Lifestyle,Physical activity</td>\n",
       "    </tr>\n",
       "    <tr>\n",
       "      <td id=\"T_73653_row7_col0\" class=\"data row7 col0\" >Participants Invited</td>\n",
       "      <td id=\"T_73653_row7_col1\" class=\"data row7 col1\" >25841</td>\n",
       "    </tr>\n",
       "    <tr>\n",
       "      <td id=\"T_73653_row8_col0\" class=\"data row8 col0\" >Participant Count</td>\n",
       "      <td id=\"T_73653_row8_col1\" class=\"data row8 col1\" >10913</td>\n",
       "    </tr>\n",
       "    <tr>\n",
       "      <td id=\"T_73653_row9_col0\" class=\"data row9 col0\" >Number of variables</td>\n",
       "      <td id=\"T_73653_row9_col1\" class=\"data row9 col1\" >9</td>\n",
       "    </tr>\n",
       "    <tr>\n",
       "      <td id=\"T_73653_row10_col0\" class=\"data row10 col0\" >Number of observations</td>\n",
       "      <td id=\"T_73653_row10_col1\" class=\"data row10 col1\" >12186</td>\n",
       "    </tr>\n",
       "    <tr>\n",
       "      <td id=\"T_73653_row11_col0\" class=\"data row11 col0\" >Specific Restrictions to Data Use</td>\n",
       "      <td id=\"T_73653_row11_col1\" class=\"data row11 col1\" >None</td>\n",
       "    </tr>\n",
       "    <tr>\n",
       "      <td id=\"T_73653_row12_col0\" class=\"data row12 col0\" >Build a Data Request</td>\n",
       "      <td id=\"T_73653_row12_col1\" class=\"data row12 col1\" > <a href=\"https://explore.ukllc.ac.uk/\" rel=\"noopener noreferrer\" target=\"_blank\">https://explore.ukllc.ac.uk/</a></td>\n",
       "    </tr>\n",
       "  </tbody>\n",
       "</table>\n"
      ],
      "text/plain": [
       "<pandas.io.formats.style.Styler at 0x1ad7c17f080>"
      ]
     },
     "execution_count": 3,
     "metadata": {},
     "output_type": "execute_result"
    }
   ],
   "source": [
    "ds.info_table()"
   ]
  },
  {
   "cell_type": "markdown",
   "id": "a6781e6d",
   "metadata": {},
   "source": [
    "## 2. Version History"
   ]
  },
  {
   "cell_type": "code",
   "execution_count": 4,
   "id": "0e6bdcc0",
   "metadata": {
    "execution": {
     "iopub.execute_input": "2025-07-28T18:39:07.876467Z",
     "iopub.status.busy": "2025-07-28T18:39:07.875468Z",
     "iopub.status.idle": "2025-07-28T18:39:13.367595Z",
     "shell.execute_reply": "2025-07-28T18:39:13.365501Z"
    },
    "tags": [
     "remove-input"
    ]
   },
   "outputs": [
    {
     "data": {
      "text/html": [
       "<style type=\"text/css\">\n",
       "#T_d5cff th {\n",
       "  text-align: left;\n",
       "}\n",
       "#T_d5cff_row0_col0, #T_d5cff_row0_col1, #T_d5cff_row1_col0, #T_d5cff_row1_col1, #T_d5cff_row2_col0, #T_d5cff_row2_col1, #T_d5cff_row3_col0, #T_d5cff_row3_col1, #T_d5cff_row4_col0, #T_d5cff_row4_col1 {\n",
       "  text-align: left;\n",
       "}\n",
       "</style>\n",
       "<table id=\"T_d5cff\" style=\"font-size: 14px\">\n",
       "  <thead>\n",
       "    <tr>\n",
       "      <th id=\"T_d5cff_level0_col0\" class=\"col_heading level0 col0\" >Version</th>\n",
       "      <th id=\"T_d5cff_level0_col1\" class=\"col_heading level0 col1\" >1</th>\n",
       "    </tr>\n",
       "  </thead>\n",
       "  <tbody>\n",
       "    <tr>\n",
       "      <td id=\"T_d5cff_row0_col0\" class=\"data row0 col0\" >Version Date</td>\n",
       "      <td id=\"T_d5cff_row0_col1\" class=\"data row0 col1\" >05 Apr 2022</td>\n",
       "    </tr>\n",
       "    <tr>\n",
       "      <td id=\"T_d5cff_row1_col0\" class=\"data row1 col0\" >Number of Variables</td>\n",
       "      <td id=\"T_d5cff_row1_col1\" class=\"data row1 col1\" >9</td>\n",
       "    </tr>\n",
       "    <tr>\n",
       "      <td id=\"T_d5cff_row2_col0\" class=\"data row2 col0\" >Number of Observations</td>\n",
       "      <td id=\"T_d5cff_row2_col1\" class=\"data row2 col1\" >12186</td>\n",
       "    </tr>\n",
       "    <tr>\n",
       "      <td id=\"T_d5cff_row3_col0\" class=\"data row3 col0\" >DOI</td>\n",
       "      <td id=\"T_d5cff_row3_col1\" class=\"data row3 col1\" > <a href=\"https://doi.org/10.71760/ukllc-dataset-00106-01\" rel=\"noopener noreferrer\" target=\"_blank\">10.71760/ukllc-dataset-00106-01</a></td>\n",
       "    </tr>\n",
       "    <tr>\n",
       "      <td id=\"T_d5cff_row4_col0\" class=\"data row4 col0\" >Change Log</td>\n",
       "      <td id=\"T_d5cff_row4_col1\" class=\"data row4 col1\" > <a href=\"https://api.test.datacite.org/dois/10.71760/ukllc-dataset-00106-01/activities\" rel=\"noopener noreferrer\" target=\"_blank\">10.71760/ukllc-dataset-00106-01/activities</a></td>\n",
       "    </tr>\n",
       "  </tbody>\n",
       "</table>\n"
      ],
      "text/plain": [
       "<pandas.io.formats.style.Styler at 0x1ad01ca1970>"
      ]
     },
     "execution_count": 4,
     "metadata": {},
     "output_type": "execute_result"
    }
   ],
   "source": [
    "ds.version_history()"
   ]
  },
  {
   "cell_type": "markdown",
   "id": "6953e07c",
   "metadata": {},
   "source": [
    "## 3. Documentation"
   ]
  },
  {
   "cell_type": "code",
   "execution_count": 5,
   "id": "d31f385c",
   "metadata": {
    "execution": {
     "iopub.execute_input": "2025-07-28T18:39:13.375615Z",
     "iopub.status.busy": "2025-07-28T18:39:13.375615Z",
     "iopub.status.idle": "2025-07-28T18:39:13.388156Z",
     "shell.execute_reply": "2025-07-28T18:39:13.386134Z"
    },
    "tags": [
     "remove-input"
    ]
   },
   "outputs": [
    {
     "data": {
      "text/markdown": [
       "We are currently building a documentation storage system which will host useful documents related to datasets and data owners. We will surface these documents on Guidebook."
      ],
      "text/plain": [
       "<IPython.core.display.Markdown object>"
      ]
     },
     "metadata": {},
     "output_type": "display_data"
    }
   ],
   "source": [
    "ds.documentation()"
   ]
  },
  {
   "cell_type": "markdown",
   "id": "9c2528da",
   "metadata": {},
   "source": [
    "## 4. Useful Syntax"
   ]
  },
  {
   "cell_type": "code",
   "execution_count": 6,
   "id": "02c0e4f1",
   "metadata": {
    "execution": {
     "iopub.execute_input": "2025-07-28T18:39:13.395647Z",
     "iopub.status.busy": "2025-07-28T18:39:13.395647Z",
     "iopub.status.idle": "2025-07-28T18:39:13.408453Z",
     "shell.execute_reply": "2025-07-28T18:39:13.405855Z"
    },
    "tags": [
     "remove-input"
    ]
   },
   "outputs": [
    {
     "data": {
      "text/markdown": [
       "Below we will include syntax that may be helpful to other researchers in the UK LLC TRE. For longer scripts, we will include a snippet of the code plus a link to Git where you can find the full scripts."
      ],
      "text/plain": [
       "<IPython.core.display.Markdown object>"
      ]
     },
     "metadata": {},
     "output_type": "display_data"
    }
   ],
   "source": [
    "ds.useful_syntax()"
   ]
  }
 ],
 "metadata": {
  "language_info": {
   "codemirror_mode": {
    "name": "ipython",
    "version": 3
   },
   "file_extension": ".py",
   "mimetype": "text/x-python",
   "name": "python",
   "nbconvert_exporter": "python",
   "pygments_lexer": "ipython3",
   "version": "3.12.7"
  }
 },
 "nbformat": 4,
 "nbformat_minor": 5
}
