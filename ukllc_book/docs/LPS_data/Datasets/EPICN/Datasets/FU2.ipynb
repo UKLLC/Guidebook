{
 "cells": [
  {
   "cell_type": "markdown",
   "id": "010a93f6",
   "metadata": {},
   "source": [
    "# Follow up 2 (EPICN)"
   ]
  },
  {
   "cell_type": "code",
   "execution_count": 1,
   "id": "e4c97d16",
   "metadata": {
    "execution": {
     "iopub.execute_input": "2025-07-17T15:19:19.818898Z",
     "iopub.status.busy": "2025-07-17T15:19:19.817900Z",
     "iopub.status.idle": "2025-07-17T15:19:28.740885Z",
     "shell.execute_reply": "2025-07-17T15:19:28.739359Z"
    },
    "tags": [
     "remove-input"
    ]
   },
   "outputs": [
    {
     "data": {
      "text/markdown": [
       ">Last modified: 17 Jul 2025"
      ],
      "text/plain": [
       "<IPython.core.display.Markdown object>"
      ]
     },
     "metadata": {},
     "output_type": "display_data"
    }
   ],
   "source": [
    "\n",
    "import sys\n",
    "import os\n",
    "sys.path.append(os.path.abspath('../../../../scripts/'))\n",
    "from data_doc_helper import LPSDataSet as DS, last_modified\n",
    "API_KEY = os.environ['FASTAPI_KEY']\n",
    "ds = DS(\"EPICN\", \"FU2\")\n",
    "last_modified()\n"
   ]
  },
  {
   "cell_type": "markdown",
   "id": "05f9f2b2",
   "metadata": {},
   "source": [
    "## 1. Summary"
   ]
  },
  {
   "cell_type": "code",
   "execution_count": 2,
   "id": "c25dade6",
   "metadata": {
    "execution": {
     "iopub.execute_input": "2025-07-17T15:19:28.747252Z",
     "iopub.status.busy": "2025-07-17T15:19:28.747252Z",
     "iopub.status.idle": "2025-07-17T15:19:28.756317Z",
     "shell.execute_reply": "2025-07-17T15:19:28.755301Z"
    },
    "tags": [
     "remove-input"
    ]
   },
   "outputs": [
    {
     "data": {
      "text/markdown": [
       "A questionnaire about health and lifestyle was sent to the eligible sample (those that consented at baseline excluding those that died and those that requested no further contact)"
      ],
      "text/plain": [
       "<IPython.core.display.Markdown object>"
      ]
     },
     "metadata": {},
     "output_type": "display_data"
    }
   ],
   "source": [
    "ds.summary()"
   ]
  },
  {
   "cell_type": "code",
   "execution_count": 3,
   "id": "bbf156c1",
   "metadata": {
    "execution": {
     "iopub.execute_input": "2025-07-17T15:19:28.764294Z",
     "iopub.status.busy": "2025-07-17T15:19:28.763277Z",
     "iopub.status.idle": "2025-07-17T15:19:30.026487Z",
     "shell.execute_reply": "2025-07-17T15:19:30.025473Z"
    },
    "tags": [
     "remove-input"
    ]
   },
   "outputs": [
    {
     "data": {
      "text/html": [
       "<style type=\"text/css\">\n",
       "#T_75f29 th {\n",
       "  text-align: left;\n",
       "}\n",
       "#T_75f29_row0_col0, #T_75f29_row0_col1, #T_75f29_row1_col0, #T_75f29_row1_col1, #T_75f29_row2_col0, #T_75f29_row2_col1, #T_75f29_row3_col0, #T_75f29_row3_col1, #T_75f29_row4_col0, #T_75f29_row4_col1, #T_75f29_row5_col0, #T_75f29_row5_col1, #T_75f29_row6_col0, #T_75f29_row6_col1, #T_75f29_row7_col0, #T_75f29_row7_col1, #T_75f29_row8_col0, #T_75f29_row8_col1, #T_75f29_row9_col0, #T_75f29_row9_col1, #T_75f29_row10_col0, #T_75f29_row10_col1, #T_75f29_row11_col0, #T_75f29_row11_col1, #T_75f29_row12_col0, #T_75f29_row12_col1 {\n",
       "  text-align: left;\n",
       "}\n",
       "</style>\n",
       "<table id=\"T_75f29\" style=\"font-size: 14px\">\n",
       "  <thead>\n",
       "    <tr>\n",
       "      <th id=\"T_75f29_level0_col0\" class=\"col_heading level0 col0\" >Dataset Descriptor</th>\n",
       "      <th id=\"T_75f29_level0_col1\" class=\"col_heading level0 col1\" >Dataset-specific Information</th>\n",
       "    </tr>\n",
       "  </thead>\n",
       "  <tbody>\n",
       "    <tr>\n",
       "      <td id=\"T_75f29_row0_col0\" class=\"data row0 col0\" >Name of Dataset in TRE</td>\n",
       "      <td id=\"T_75f29_row0_col1\" class=\"data row0 col1\" >EPICN_FU2</td>\n",
       "    </tr>\n",
       "    <tr>\n",
       "      <td id=\"T_75f29_row1_col0\" class=\"data row1 col0\" >Citation (APA)</td>\n",
       "      <td id=\"T_75f29_row1_col1\" class=\"data row1 col1\" >University of Cambridge, MRC Epidemiology Unit. (2022). <i>European Prospective Investigation into Cancer and Nutrition - Norfolk (EPIC-N): Follow up 2.</i> UK Longitudinal Linkage Collaboration (UK LLC).  <a href=\"https://doi.org/10.83126/ukllc-dataset-00186-01\" rel=\"noopener noreferrer\" target=\"_blank\">https://doi.org/10.83126/ukllc-dataset-00186-01</a></td>\n",
       "    </tr>\n",
       "    <tr>\n",
       "      <td id=\"T_75f29_row2_col0\" class=\"data row2 col0\" >Download Citation</td>\n",
       "      <td id=\"T_75f29_row2_col1\" class=\"data row2 col1\" > <a href=\"https://api.test.datacite.org/application/vnd.citationstyles.csl+json/10.83126/ukllc-dataset-00186-01\" rel=\"noopener noreferrer\" target=\"_blank\">Citeproc JSON</a>&nbsp;&nbsp;&nbsp;&nbsp; <a href=\"https://api.test.datacite.org/application/x-bibtex/10.83126/ukllc-dataset-00186-01\" rel=\"noopener noreferrer\" target=\"_blank\">BibTeX</a>&nbsp;&nbsp;&nbsp;&nbsp; <a href=\"https://api.test.datacite.org/application/x-research-info-systems/10.83126/ukllc-dataset-00186-01\" rel=\"noopener noreferrer\" target=\"_blank\">RIS</a></td>\n",
       "    </tr>\n",
       "    <tr>\n",
       "      <td id=\"T_75f29_row3_col0\" class=\"data row3 col0\" >Series</td>\n",
       "      <td id=\"T_75f29_row3_col1\" class=\"data row3 col1\" > <a href=\"https://guidebook.ukllc.ac.uk/docs/lps/lps%20profiles/EPICN\">European Prospective Investigation into Cancer and Nutrition - Norfolk (EPIC-N)</a></td>\n",
       "    </tr>\n",
       "    <tr>\n",
       "      <td id=\"T_75f29_row4_col0\" class=\"data row4 col0\" >Owner</td>\n",
       "      <td id=\"T_75f29_row4_col1\" class=\"data row4 col1\" >University of Cambridge</td>\n",
       "    </tr>\n",
       "    <tr>\n",
       "      <td id=\"T_75f29_row5_col0\" class=\"data row5 col0\" >Temporal Coverage</td>\n",
       "      <td id=\"T_75f29_row5_col1\" class=\"data row5 col1\" >12/1997 - 06/2000</td>\n",
       "    </tr>\n",
       "    <tr>\n",
       "      <td id=\"T_75f29_row6_col0\" class=\"data row6 col0\" >Keywords</td>\n",
       "      <td id=\"T_75f29_row6_col1\" class=\"data row6 col1\" >Health,Lifestyle,Diet</td>\n",
       "    </tr>\n",
       "    <tr>\n",
       "      <td id=\"T_75f29_row7_col0\" class=\"data row7 col0\" >Participants Invited</td>\n",
       "      <td id=\"T_75f29_row7_col1\" class=\"data row7 col1\" >27399</td>\n",
       "    </tr>\n",
       "    <tr>\n",
       "      <td id=\"T_75f29_row8_col0\" class=\"data row8 col0\" >Participant Count</td>\n",
       "      <td id=\"T_75f29_row8_col1\" class=\"data row8 col1\" >10853</td>\n",
       "    </tr>\n",
       "    <tr>\n",
       "      <td id=\"T_75f29_row9_col0\" class=\"data row9 col0\" >Number of variables</td>\n",
       "      <td id=\"T_75f29_row9_col1\" class=\"data row9 col1\" >8</td>\n",
       "    </tr>\n",
       "    <tr>\n",
       "      <td id=\"T_75f29_row10_col0\" class=\"data row10 col0\" >Number of observations</td>\n",
       "      <td id=\"T_75f29_row10_col1\" class=\"data row10 col1\" >12074</td>\n",
       "    </tr>\n",
       "    <tr>\n",
       "      <td id=\"T_75f29_row11_col0\" class=\"data row11 col0\" >Specific Restrictions to Data Use</td>\n",
       "      <td id=\"T_75f29_row11_col1\" class=\"data row11 col1\" >None</td>\n",
       "    </tr>\n",
       "    <tr>\n",
       "      <td id=\"T_75f29_row12_col0\" class=\"data row12 col0\" >Build a Data Request</td>\n",
       "      <td id=\"T_75f29_row12_col1\" class=\"data row12 col1\" > <a href=\"https://explore.ukllc.ac.uk/\" rel=\"noopener noreferrer\" target=\"_blank\">https://explore.ukllc.ac.uk/</a></td>\n",
       "    </tr>\n",
       "  </tbody>\n",
       "</table>\n"
      ],
      "text/plain": [
       "<pandas.io.formats.style.Styler at 0x22b2382c710>"
      ]
     },
     "execution_count": 3,
     "metadata": {},
     "output_type": "execute_result"
    }
   ],
   "source": [
    "ds.info_table()"
   ]
  },
  {
   "cell_type": "markdown",
   "id": "81cbe81a",
   "metadata": {},
   "source": [
    "## 2. Version History"
   ]
  },
  {
   "cell_type": "code",
   "execution_count": 4,
   "id": "8afd7eed",
   "metadata": {
    "execution": {
     "iopub.execute_input": "2025-07-17T15:19:30.032491Z",
     "iopub.status.busy": "2025-07-17T15:19:30.032491Z",
     "iopub.status.idle": "2025-07-17T15:19:32.405449Z",
     "shell.execute_reply": "2025-07-17T15:19:32.403431Z"
    },
    "tags": [
     "remove-input"
    ]
   },
   "outputs": [
    {
     "data": {
      "text/html": [
       "<style type=\"text/css\">\n",
       "#T_a5c9e th {\n",
       "  text-align: left;\n",
       "}\n",
       "#T_a5c9e_row0_col0, #T_a5c9e_row0_col1, #T_a5c9e_row1_col0, #T_a5c9e_row1_col1, #T_a5c9e_row2_col0, #T_a5c9e_row2_col1, #T_a5c9e_row3_col0, #T_a5c9e_row3_col1, #T_a5c9e_row4_col0, #T_a5c9e_row4_col1 {\n",
       "  text-align: left;\n",
       "}\n",
       "</style>\n",
       "<table id=\"T_a5c9e\" style=\"font-size: 14px\">\n",
       "  <thead>\n",
       "    <tr>\n",
       "      <th id=\"T_a5c9e_level0_col0\" class=\"col_heading level0 col0\" >Version</th>\n",
       "      <th id=\"T_a5c9e_level0_col1\" class=\"col_heading level0 col1\" >1</th>\n",
       "    </tr>\n",
       "  </thead>\n",
       "  <tbody>\n",
       "    <tr>\n",
       "      <td id=\"T_a5c9e_row0_col0\" class=\"data row0 col0\" >Version Date</td>\n",
       "      <td id=\"T_a5c9e_row0_col1\" class=\"data row0 col1\" >05 Apr 2022</td>\n",
       "    </tr>\n",
       "    <tr>\n",
       "      <td id=\"T_a5c9e_row1_col0\" class=\"data row1 col0\" >Number of Variables</td>\n",
       "      <td id=\"T_a5c9e_row1_col1\" class=\"data row1 col1\" >8</td>\n",
       "    </tr>\n",
       "    <tr>\n",
       "      <td id=\"T_a5c9e_row2_col0\" class=\"data row2 col0\" >Number of Observations</td>\n",
       "      <td id=\"T_a5c9e_row2_col1\" class=\"data row2 col1\" >12074</td>\n",
       "    </tr>\n",
       "    <tr>\n",
       "      <td id=\"T_a5c9e_row3_col0\" class=\"data row3 col0\" >DOI</td>\n",
       "      <td id=\"T_a5c9e_row3_col1\" class=\"data row3 col1\" > <a href=\"https://doi.org/10.83126/ukllc-dataset-00186-01\" rel=\"noopener noreferrer\" target=\"_blank\">10.83126/ukllc-dataset-00186-01</a></td>\n",
       "    </tr>\n",
       "    <tr>\n",
       "      <td id=\"T_a5c9e_row4_col0\" class=\"data row4 col0\" >Change Log</td>\n",
       "      <td id=\"T_a5c9e_row4_col1\" class=\"data row4 col1\" > <a href=\"https://api.test.datacite.org/dois/10.83126/ukllc-dataset-00186-01/activities\" rel=\"noopener noreferrer\" target=\"_blank\">10.83126/ukllc-dataset-00186-01/activities</a></td>\n",
       "    </tr>\n",
       "  </tbody>\n",
       "</table>\n"
      ],
      "text/plain": [
       "<pandas.io.formats.style.Styler at 0x22b28dd05f0>"
      ]
     },
     "execution_count": 4,
     "metadata": {},
     "output_type": "execute_result"
    }
   ],
   "source": [
    "ds.version_history()"
   ]
  },
  {
   "cell_type": "markdown",
   "id": "342570ad",
   "metadata": {},
   "source": [
    "## 3. Documentation"
   ]
  },
  {
   "cell_type": "code",
   "execution_count": 5,
   "id": "fe149847",
   "metadata": {
    "execution": {
     "iopub.execute_input": "2025-07-17T15:19:32.410684Z",
     "iopub.status.busy": "2025-07-17T15:19:32.409448Z",
     "iopub.status.idle": "2025-07-17T15:19:32.418076Z",
     "shell.execute_reply": "2025-07-17T15:19:32.417027Z"
    },
    "tags": [
     "remove-input"
    ]
   },
   "outputs": [
    {
     "data": {
      "text/markdown": [
       "We are currently building a documentation storage system which will host useful documents related to datasets and data owners. We will surface these documents on Guidebook."
      ],
      "text/plain": [
       "<IPython.core.display.Markdown object>"
      ]
     },
     "metadata": {},
     "output_type": "display_data"
    }
   ],
   "source": [
    "ds.documentation()"
   ]
  },
  {
   "cell_type": "markdown",
   "id": "242d7d48",
   "metadata": {},
   "source": [
    "## 4. Useful Syntax"
   ]
  },
  {
   "cell_type": "code",
   "execution_count": 6,
   "id": "a24ef630",
   "metadata": {
    "execution": {
     "iopub.execute_input": "2025-07-17T15:19:32.423489Z",
     "iopub.status.busy": "2025-07-17T15:19:32.423489Z",
     "iopub.status.idle": "2025-07-17T15:19:32.430274Z",
     "shell.execute_reply": "2025-07-17T15:19:32.430274Z"
    },
    "tags": [
     "remove-input"
    ]
   },
   "outputs": [
    {
     "data": {
      "text/markdown": [
       "Below we will include syntax that may be helpful to other researchers in the UK LLC TRE. For longer scripts, we will include a snippet of the code plus a link to Git where you can find the full scripts."
      ],
      "text/plain": [
       "<IPython.core.display.Markdown object>"
      ]
     },
     "metadata": {},
     "output_type": "display_data"
    }
   ],
   "source": [
    "ds.useful_syntax()"
   ]
  }
 ],
 "metadata": {
  "language_info": {
   "codemirror_mode": {
    "name": "ipython",
    "version": 3
   },
   "file_extension": ".py",
   "mimetype": "text/x-python",
   "name": "python",
   "nbconvert_exporter": "python",
   "pygments_lexer": "ipython3",
   "version": "3.12.7"
  }
 },
 "nbformat": 4,
 "nbformat_minor": 5
}
