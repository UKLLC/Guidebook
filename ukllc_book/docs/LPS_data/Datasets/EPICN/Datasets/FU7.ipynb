{
 "cells": [
  {
   "cell_type": "markdown",
   "id": "625d21ef",
   "metadata": {},
   "source": [
    "# Follow up 7 (EPICN)"
   ]
  },
  {
   "cell_type": "code",
   "execution_count": 1,
   "id": "e18ee223",
   "metadata": {
    "execution": {
     "iopub.execute_input": "2025-07-28T18:40:28.153578Z",
     "iopub.status.busy": "2025-07-28T18:40:28.152609Z",
     "iopub.status.idle": "2025-07-28T18:40:40.787449Z",
     "shell.execute_reply": "2025-07-28T18:40:40.785965Z"
    },
    "tags": [
     "remove-input"
    ]
   },
   "outputs": [
    {
     "data": {
      "text/markdown": [
       ">Last modified: 28 Jul 2025"
      ],
      "text/plain": [
       "<IPython.core.display.Markdown object>"
      ]
     },
     "metadata": {},
     "output_type": "display_data"
    }
   ],
   "source": [
    "\n",
    "import sys\n",
    "import os\n",
    "sys.path.append(os.path.abspath('../../../../scripts/'))\n",
    "from data_doc_helper import LPSDataSet as DS, last_modified\n",
    "API_KEY = os.environ['FASTAPI_KEY']\n",
    "ds = DS(\"EPICN\", \"FU7\")\n",
    "last_modified()\n"
   ]
  },
  {
   "cell_type": "markdown",
   "id": "037d4dbf",
   "metadata": {},
   "source": [
    "## 1. Summary"
   ]
  },
  {
   "cell_type": "code",
   "execution_count": 2,
   "id": "e33b61c4",
   "metadata": {
    "execution": {
     "iopub.execute_input": "2025-07-28T18:40:40.796481Z",
     "iopub.status.busy": "2025-07-28T18:40:40.795463Z",
     "iopub.status.idle": "2025-07-28T18:40:40.809724Z",
     "shell.execute_reply": "2025-07-28T18:40:40.807708Z"
    },
    "tags": [
     "remove-input"
    ]
   },
   "outputs": [
    {
     "data": {
      "text/markdown": [
       "A questionnaire about health and lifestyle was sent to participants that had agreed to take part in the 5th health check"
      ],
      "text/plain": [
       "<IPython.core.display.Markdown object>"
      ]
     },
     "metadata": {},
     "output_type": "display_data"
    }
   ],
   "source": [
    "ds.summary()"
   ]
  },
  {
   "cell_type": "code",
   "execution_count": 3,
   "id": "1a18c7e4",
   "metadata": {
    "execution": {
     "iopub.execute_input": "2025-07-28T18:40:40.816724Z",
     "iopub.status.busy": "2025-07-28T18:40:40.815726Z",
     "iopub.status.idle": "2025-07-28T18:40:42.504304Z",
     "shell.execute_reply": "2025-07-28T18:40:42.502975Z"
    },
    "tags": [
     "remove-input"
    ]
   },
   "outputs": [
    {
     "data": {
      "text/html": [
       "<style type=\"text/css\">\n",
       "#T_b56ea th {\n",
       "  text-align: left;\n",
       "}\n",
       "#T_b56ea_row0_col0, #T_b56ea_row0_col1, #T_b56ea_row1_col0, #T_b56ea_row1_col1, #T_b56ea_row2_col0, #T_b56ea_row2_col1, #T_b56ea_row3_col0, #T_b56ea_row3_col1, #T_b56ea_row4_col0, #T_b56ea_row4_col1, #T_b56ea_row5_col0, #T_b56ea_row5_col1, #T_b56ea_row6_col0, #T_b56ea_row6_col1, #T_b56ea_row7_col0, #T_b56ea_row7_col1, #T_b56ea_row8_col0, #T_b56ea_row8_col1, #T_b56ea_row9_col0, #T_b56ea_row9_col1, #T_b56ea_row10_col0, #T_b56ea_row10_col1, #T_b56ea_row11_col0, #T_b56ea_row11_col1, #T_b56ea_row12_col0, #T_b56ea_row12_col1 {\n",
       "  text-align: left;\n",
       "}\n",
       "</style>\n",
       "<table id=\"T_b56ea\" style=\"font-size: 14px\">\n",
       "  <thead>\n",
       "    <tr>\n",
       "      <th id=\"T_b56ea_level0_col0\" class=\"col_heading level0 col0\" >Dataset Descriptor</th>\n",
       "      <th id=\"T_b56ea_level0_col1\" class=\"col_heading level0 col1\" >Dataset-specific Information</th>\n",
       "    </tr>\n",
       "  </thead>\n",
       "  <tbody>\n",
       "    <tr>\n",
       "      <td id=\"T_b56ea_row0_col0\" class=\"data row0 col0\" >Name of Dataset in TRE</td>\n",
       "      <td id=\"T_b56ea_row0_col1\" class=\"data row0 col1\" >EPICN_FU7</td>\n",
       "    </tr>\n",
       "    <tr>\n",
       "      <td id=\"T_b56ea_row1_col0\" class=\"data row1 col0\" >Citation (APA)</td>\n",
       "      <td id=\"T_b56ea_row1_col1\" class=\"data row1 col1\" >University of Cambridge, MRC Epidemiology Unit. (2022). <i>European Prospective Investigation into Cancer - Norfolk (EPIC-N): Follow up 7.</i> UK Longitudinal Linkage Collaboration (UK LLC).  <a href=\"https://doi.org/10.71760/ukllc-dataset-00109-01\" rel=\"noopener noreferrer\" target=\"_blank\">https://doi.org/10.71760/ukllc-dataset-00109-01</a></td>\n",
       "    </tr>\n",
       "    <tr>\n",
       "      <td id=\"T_b56ea_row2_col0\" class=\"data row2 col0\" >Download Citation</td>\n",
       "      <td id=\"T_b56ea_row2_col1\" class=\"data row2 col1\" > <a href=\"https://api.datacite.org/application/vnd.citationstyles.csl+json/10.71760/ukllc-dataset-00109-01\" rel=\"noopener noreferrer\" target=\"_blank\">Citeproc JSON</a>&nbsp;&nbsp;&nbsp;&nbsp; <a href=\"https://api.datacite.org/application/x-bibtex/10.71760/ukllc-dataset-00109-01\" rel=\"noopener noreferrer\" target=\"_blank\">BibTeX</a>&nbsp;&nbsp;&nbsp;&nbsp; <a href=\"https://api.datacite.org/application/x-research-info-systems/10.71760/ukllc-dataset-00109-01\" rel=\"noopener noreferrer\" target=\"_blank\">RIS</a></td>\n",
       "    </tr>\n",
       "    <tr>\n",
       "      <td id=\"T_b56ea_row3_col0\" class=\"data row3 col0\" >Series</td>\n",
       "      <td id=\"T_b56ea_row3_col1\" class=\"data row3 col1\" > <a href=\"https://guidebook.ukllc.ac.uk/docs/lps_data/lps%20profiles/EPICN\">European Prospective Investigation into Cancer - Norfolk (EPIC-N)</a></td>\n",
       "    </tr>\n",
       "    <tr>\n",
       "      <td id=\"T_b56ea_row4_col0\" class=\"data row4 col0\" >Owner</td>\n",
       "      <td id=\"T_b56ea_row4_col1\" class=\"data row4 col1\" >University of Cambridge</td>\n",
       "    </tr>\n",
       "    <tr>\n",
       "      <td id=\"T_b56ea_row5_col0\" class=\"data row5 col0\" >Temporal Coverage</td>\n",
       "      <td id=\"T_b56ea_row5_col1\" class=\"data row5 col1\" >11/2016 - 11/2018</td>\n",
       "    </tr>\n",
       "    <tr>\n",
       "      <td id=\"T_b56ea_row6_col0\" class=\"data row6 col0\" >Keywords</td>\n",
       "      <td id=\"T_b56ea_row6_col1\" class=\"data row6 col1\" >Health,Lifestyle,Physical activity</td>\n",
       "    </tr>\n",
       "    <tr>\n",
       "      <td id=\"T_b56ea_row7_col0\" class=\"data row7 col0\" >Participants Invited</td>\n",
       "      <td id=\"T_b56ea_row7_col1\" class=\"data row7 col1\" >6715</td>\n",
       "    </tr>\n",
       "    <tr>\n",
       "      <td id=\"T_b56ea_row8_col0\" class=\"data row8 col0\" >Participant Count</td>\n",
       "      <td id=\"T_b56ea_row8_col1\" class=\"data row8 col1\" >2390</td>\n",
       "    </tr>\n",
       "    <tr>\n",
       "      <td id=\"T_b56ea_row9_col0\" class=\"data row9 col0\" >Number of variables</td>\n",
       "      <td id=\"T_b56ea_row9_col1\" class=\"data row9 col1\" >8</td>\n",
       "    </tr>\n",
       "    <tr>\n",
       "      <td id=\"T_b56ea_row10_col0\" class=\"data row10 col0\" >Number of observations</td>\n",
       "      <td id=\"T_b56ea_row10_col1\" class=\"data row10 col1\" >2539</td>\n",
       "    </tr>\n",
       "    <tr>\n",
       "      <td id=\"T_b56ea_row11_col0\" class=\"data row11 col0\" >Specific Restrictions to Data Use</td>\n",
       "      <td id=\"T_b56ea_row11_col1\" class=\"data row11 col1\" >None</td>\n",
       "    </tr>\n",
       "    <tr>\n",
       "      <td id=\"T_b56ea_row12_col0\" class=\"data row12 col0\" >Build a Data Request</td>\n",
       "      <td id=\"T_b56ea_row12_col1\" class=\"data row12 col1\" > <a href=\"https://explore.ukllc.ac.uk/\" rel=\"noopener noreferrer\" target=\"_blank\">https://explore.ukllc.ac.uk/</a></td>\n",
       "    </tr>\n",
       "  </tbody>\n",
       "</table>\n"
      ],
      "text/plain": [
       "<pandas.io.formats.style.Styler at 0x23e77dcacf0>"
      ]
     },
     "execution_count": 3,
     "metadata": {},
     "output_type": "execute_result"
    }
   ],
   "source": [
    "ds.info_table()"
   ]
  },
  {
   "cell_type": "markdown",
   "id": "42bc8082",
   "metadata": {},
   "source": [
    "## 2. Version History"
   ]
  },
  {
   "cell_type": "code",
   "execution_count": 4,
   "id": "dccaf880",
   "metadata": {
    "execution": {
     "iopub.execute_input": "2025-07-28T18:40:42.509315Z",
     "iopub.status.busy": "2025-07-28T18:40:42.509315Z",
     "iopub.status.idle": "2025-07-28T18:40:47.936550Z",
     "shell.execute_reply": "2025-07-28T18:40:47.935551Z"
    },
    "tags": [
     "remove-input"
    ]
   },
   "outputs": [
    {
     "data": {
      "text/html": [
       "<style type=\"text/css\">\n",
       "#T_48fc9 th {\n",
       "  text-align: left;\n",
       "}\n",
       "#T_48fc9_row0_col0, #T_48fc9_row0_col1, #T_48fc9_row1_col0, #T_48fc9_row1_col1, #T_48fc9_row2_col0, #T_48fc9_row2_col1, #T_48fc9_row3_col0, #T_48fc9_row3_col1, #T_48fc9_row4_col0, #T_48fc9_row4_col1 {\n",
       "  text-align: left;\n",
       "}\n",
       "</style>\n",
       "<table id=\"T_48fc9\" style=\"font-size: 14px\">\n",
       "  <thead>\n",
       "    <tr>\n",
       "      <th id=\"T_48fc9_level0_col0\" class=\"col_heading level0 col0\" >Version</th>\n",
       "      <th id=\"T_48fc9_level0_col1\" class=\"col_heading level0 col1\" >1</th>\n",
       "    </tr>\n",
       "  </thead>\n",
       "  <tbody>\n",
       "    <tr>\n",
       "      <td id=\"T_48fc9_row0_col0\" class=\"data row0 col0\" >Version Date</td>\n",
       "      <td id=\"T_48fc9_row0_col1\" class=\"data row0 col1\" >05 Apr 2022</td>\n",
       "    </tr>\n",
       "    <tr>\n",
       "      <td id=\"T_48fc9_row1_col0\" class=\"data row1 col0\" >Number of Variables</td>\n",
       "      <td id=\"T_48fc9_row1_col1\" class=\"data row1 col1\" >8</td>\n",
       "    </tr>\n",
       "    <tr>\n",
       "      <td id=\"T_48fc9_row2_col0\" class=\"data row2 col0\" >Number of Observations</td>\n",
       "      <td id=\"T_48fc9_row2_col1\" class=\"data row2 col1\" >2539</td>\n",
       "    </tr>\n",
       "    <tr>\n",
       "      <td id=\"T_48fc9_row3_col0\" class=\"data row3 col0\" >DOI</td>\n",
       "      <td id=\"T_48fc9_row3_col1\" class=\"data row3 col1\" > <a href=\"https://doi.org/10.71760/ukllc-dataset-00109-01\" rel=\"noopener noreferrer\" target=\"_blank\">10.71760/ukllc-dataset-00109-01</a></td>\n",
       "    </tr>\n",
       "    <tr>\n",
       "      <td id=\"T_48fc9_row4_col0\" class=\"data row4 col0\" >Change Log</td>\n",
       "      <td id=\"T_48fc9_row4_col1\" class=\"data row4 col1\" > <a href=\"https://api.test.datacite.org/dois/10.71760/ukllc-dataset-00109-01/activities\" rel=\"noopener noreferrer\" target=\"_blank\">10.71760/ukllc-dataset-00109-01/activities</a></td>\n",
       "    </tr>\n",
       "  </tbody>\n",
       "</table>\n"
      ],
      "text/plain": [
       "<pandas.io.formats.style.Styler at 0x23e79ad4530>"
      ]
     },
     "execution_count": 4,
     "metadata": {},
     "output_type": "execute_result"
    }
   ],
   "source": [
    "ds.version_history()"
   ]
  },
  {
   "cell_type": "markdown",
   "id": "69edcf3b",
   "metadata": {},
   "source": [
    "## 3. Documentation"
   ]
  },
  {
   "cell_type": "code",
   "execution_count": 5,
   "id": "67c56ab1",
   "metadata": {
    "execution": {
     "iopub.execute_input": "2025-07-28T18:40:47.945089Z",
     "iopub.status.busy": "2025-07-28T18:40:47.943970Z",
     "iopub.status.idle": "2025-07-28T18:40:47.955072Z",
     "shell.execute_reply": "2025-07-28T18:40:47.953550Z"
    },
    "tags": [
     "remove-input"
    ]
   },
   "outputs": [
    {
     "data": {
      "text/markdown": [
       "We are currently building a documentation storage system which will host useful documents related to datasets and data owners. We will surface these documents on Guidebook."
      ],
      "text/plain": [
       "<IPython.core.display.Markdown object>"
      ]
     },
     "metadata": {},
     "output_type": "display_data"
    }
   ],
   "source": [
    "ds.documentation()"
   ]
  },
  {
   "cell_type": "markdown",
   "id": "19016e03",
   "metadata": {},
   "source": [
    "## 4. Useful Syntax"
   ]
  },
  {
   "cell_type": "code",
   "execution_count": 6,
   "id": "3cade889",
   "metadata": {
    "execution": {
     "iopub.execute_input": "2025-07-28T18:40:47.961105Z",
     "iopub.status.busy": "2025-07-28T18:40:47.961105Z",
     "iopub.status.idle": "2025-07-28T18:40:47.971621Z",
     "shell.execute_reply": "2025-07-28T18:40:47.970090Z"
    },
    "tags": [
     "remove-input"
    ]
   },
   "outputs": [
    {
     "data": {
      "text/markdown": [
       "Below we will include syntax that may be helpful to other researchers in the UK LLC TRE. For longer scripts, we will include a snippet of the code plus a link to Git where you can find the full scripts."
      ],
      "text/plain": [
       "<IPython.core.display.Markdown object>"
      ]
     },
     "metadata": {},
     "output_type": "display_data"
    }
   ],
   "source": [
    "ds.useful_syntax()"
   ]
  }
 ],
 "metadata": {
  "language_info": {
   "codemirror_mode": {
    "name": "ipython",
    "version": 3
   },
   "file_extension": ".py",
   "mimetype": "text/x-python",
   "name": "python",
   "nbconvert_exporter": "python",
   "pygments_lexer": "ipython3",
   "version": "3.12.7"
  }
 },
 "nbformat": 4,
 "nbformat_minor": 5
}
