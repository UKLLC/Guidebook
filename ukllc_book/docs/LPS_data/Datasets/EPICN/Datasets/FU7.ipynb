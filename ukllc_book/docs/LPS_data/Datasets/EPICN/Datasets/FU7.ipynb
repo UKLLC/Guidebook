{
 "cells": [
  {
   "cell_type": "markdown",
   "id": "625d21ef",
   "metadata": {},
   "source": [
    "# Follow up 7 (EPICN)"
   ]
  },
  {
   "cell_type": "code",
   "execution_count": 1,
   "id": "e18ee223",
   "metadata": {
    "execution": {
     "iopub.execute_input": "2025-07-17T15:20:42.371246Z",
     "iopub.status.busy": "2025-07-17T15:20:42.371246Z",
     "iopub.status.idle": "2025-07-17T15:20:51.512215Z",
     "shell.execute_reply": "2025-07-17T15:20:51.511204Z"
    },
    "tags": [
     "remove-input"
    ]
   },
   "outputs": [
    {
     "data": {
      "text/markdown": [
       ">Last modified: 17 Jul 2025"
      ],
      "text/plain": [
       "<IPython.core.display.Markdown object>"
      ]
     },
     "metadata": {},
     "output_type": "display_data"
    }
   ],
   "source": [
    "\n",
    "import sys\n",
    "import os\n",
    "sys.path.append(os.path.abspath('../../../../scripts/'))\n",
    "from data_doc_helper import LPSDataSet as DS, last_modified\n",
    "API_KEY = os.environ['FASTAPI_KEY']\n",
    "ds = DS(\"EPICN\", \"FU7\")\n",
    "last_modified()\n"
   ]
  },
  {
   "cell_type": "markdown",
   "id": "037d4dbf",
   "metadata": {},
   "source": [
    "## 1. Summary"
   ]
  },
  {
   "cell_type": "code",
   "execution_count": 2,
   "id": "e33b61c4",
   "metadata": {
    "execution": {
     "iopub.execute_input": "2025-07-17T15:20:51.518847Z",
     "iopub.status.busy": "2025-07-17T15:20:51.518847Z",
     "iopub.status.idle": "2025-07-17T15:20:51.529889Z",
     "shell.execute_reply": "2025-07-17T15:20:51.527748Z"
    },
    "tags": [
     "remove-input"
    ]
   },
   "outputs": [
    {
     "data": {
      "text/markdown": [
       "A questionnaire about health and lifestyle was sent to participants that had agreed to take part in the 5th health check"
      ],
      "text/plain": [
       "<IPython.core.display.Markdown object>"
      ]
     },
     "metadata": {},
     "output_type": "display_data"
    }
   ],
   "source": [
    "ds.summary()"
   ]
  },
  {
   "cell_type": "code",
   "execution_count": 3,
   "id": "1a18c7e4",
   "metadata": {
    "execution": {
     "iopub.execute_input": "2025-07-17T15:20:51.535886Z",
     "iopub.status.busy": "2025-07-17T15:20:51.534885Z",
     "iopub.status.idle": "2025-07-17T15:20:52.689858Z",
     "shell.execute_reply": "2025-07-17T15:20:52.688841Z"
    },
    "tags": [
     "remove-input"
    ]
   },
   "outputs": [
    {
     "data": {
      "text/html": [
       "<style type=\"text/css\">\n",
       "#T_6979d th {\n",
       "  text-align: left;\n",
       "}\n",
       "#T_6979d_row0_col0, #T_6979d_row0_col1, #T_6979d_row1_col0, #T_6979d_row1_col1, #T_6979d_row2_col0, #T_6979d_row2_col1, #T_6979d_row3_col0, #T_6979d_row3_col1, #T_6979d_row4_col0, #T_6979d_row4_col1, #T_6979d_row5_col0, #T_6979d_row5_col1, #T_6979d_row6_col0, #T_6979d_row6_col1, #T_6979d_row7_col0, #T_6979d_row7_col1, #T_6979d_row8_col0, #T_6979d_row8_col1, #T_6979d_row9_col0, #T_6979d_row9_col1, #T_6979d_row10_col0, #T_6979d_row10_col1, #T_6979d_row11_col0, #T_6979d_row11_col1, #T_6979d_row12_col0, #T_6979d_row12_col1 {\n",
       "  text-align: left;\n",
       "}\n",
       "</style>\n",
       "<table id=\"T_6979d\" style=\"font-size: 14px\">\n",
       "  <thead>\n",
       "    <tr>\n",
       "      <th id=\"T_6979d_level0_col0\" class=\"col_heading level0 col0\" >Dataset Descriptor</th>\n",
       "      <th id=\"T_6979d_level0_col1\" class=\"col_heading level0 col1\" >Dataset-specific Information</th>\n",
       "    </tr>\n",
       "  </thead>\n",
       "  <tbody>\n",
       "    <tr>\n",
       "      <td id=\"T_6979d_row0_col0\" class=\"data row0 col0\" >Name of Dataset in TRE</td>\n",
       "      <td id=\"T_6979d_row0_col1\" class=\"data row0 col1\" >EPICN_FU7</td>\n",
       "    </tr>\n",
       "    <tr>\n",
       "      <td id=\"T_6979d_row1_col0\" class=\"data row1 col0\" >Citation (APA)</td>\n",
       "      <td id=\"T_6979d_row1_col1\" class=\"data row1 col1\" >University of Cambridge, MRC Epidemiology Unit. (2022). <i>European Prospective Investigation into Cancer and Nutrition - Norfolk (EPIC-N): Follow up 7.</i> UK Longitudinal Linkage Collaboration (UK LLC).  <a href=\"https://doi.org/10.83126/ukllc-dataset-00190-01\" rel=\"noopener noreferrer\" target=\"_blank\">https://doi.org/10.83126/ukllc-dataset-00190-01</a></td>\n",
       "    </tr>\n",
       "    <tr>\n",
       "      <td id=\"T_6979d_row2_col0\" class=\"data row2 col0\" >Download Citation</td>\n",
       "      <td id=\"T_6979d_row2_col1\" class=\"data row2 col1\" > <a href=\"https://api.test.datacite.org/application/vnd.citationstyles.csl+json/10.83126/ukllc-dataset-00190-01\" rel=\"noopener noreferrer\" target=\"_blank\">Citeproc JSON</a>&nbsp;&nbsp;&nbsp;&nbsp; <a href=\"https://api.test.datacite.org/application/x-bibtex/10.83126/ukllc-dataset-00190-01\" rel=\"noopener noreferrer\" target=\"_blank\">BibTeX</a>&nbsp;&nbsp;&nbsp;&nbsp; <a href=\"https://api.test.datacite.org/application/x-research-info-systems/10.83126/ukllc-dataset-00190-01\" rel=\"noopener noreferrer\" target=\"_blank\">RIS</a></td>\n",
       "    </tr>\n",
       "    <tr>\n",
       "      <td id=\"T_6979d_row3_col0\" class=\"data row3 col0\" >Series</td>\n",
       "      <td id=\"T_6979d_row3_col1\" class=\"data row3 col1\" > <a href=\"https://guidebook.ukllc.ac.uk/docs/lps/lps%20profiles/EPICN\">European Prospective Investigation into Cancer and Nutrition - Norfolk (EPIC-N)</a></td>\n",
       "    </tr>\n",
       "    <tr>\n",
       "      <td id=\"T_6979d_row4_col0\" class=\"data row4 col0\" >Owner</td>\n",
       "      <td id=\"T_6979d_row4_col1\" class=\"data row4 col1\" >University of Cambridge</td>\n",
       "    </tr>\n",
       "    <tr>\n",
       "      <td id=\"T_6979d_row5_col0\" class=\"data row5 col0\" >Temporal Coverage</td>\n",
       "      <td id=\"T_6979d_row5_col1\" class=\"data row5 col1\" >11/2016 - 11/2018</td>\n",
       "    </tr>\n",
       "    <tr>\n",
       "      <td id=\"T_6979d_row6_col0\" class=\"data row6 col0\" >Keywords</td>\n",
       "      <td id=\"T_6979d_row6_col1\" class=\"data row6 col1\" >Health,Lifestyle,Physical activity</td>\n",
       "    </tr>\n",
       "    <tr>\n",
       "      <td id=\"T_6979d_row7_col0\" class=\"data row7 col0\" >Participants Invited</td>\n",
       "      <td id=\"T_6979d_row7_col1\" class=\"data row7 col1\" >6715</td>\n",
       "    </tr>\n",
       "    <tr>\n",
       "      <td id=\"T_6979d_row8_col0\" class=\"data row8 col0\" >Participant Count</td>\n",
       "      <td id=\"T_6979d_row8_col1\" class=\"data row8 col1\" >2390</td>\n",
       "    </tr>\n",
       "    <tr>\n",
       "      <td id=\"T_6979d_row9_col0\" class=\"data row9 col0\" >Number of variables</td>\n",
       "      <td id=\"T_6979d_row9_col1\" class=\"data row9 col1\" >8</td>\n",
       "    </tr>\n",
       "    <tr>\n",
       "      <td id=\"T_6979d_row10_col0\" class=\"data row10 col0\" >Number of observations</td>\n",
       "      <td id=\"T_6979d_row10_col1\" class=\"data row10 col1\" >2539</td>\n",
       "    </tr>\n",
       "    <tr>\n",
       "      <td id=\"T_6979d_row11_col0\" class=\"data row11 col0\" >Specific Restrictions to Data Use</td>\n",
       "      <td id=\"T_6979d_row11_col1\" class=\"data row11 col1\" >None</td>\n",
       "    </tr>\n",
       "    <tr>\n",
       "      <td id=\"T_6979d_row12_col0\" class=\"data row12 col0\" >Build a Data Request</td>\n",
       "      <td id=\"T_6979d_row12_col1\" class=\"data row12 col1\" > <a href=\"https://explore.ukllc.ac.uk/\" rel=\"noopener noreferrer\" target=\"_blank\">https://explore.ukllc.ac.uk/</a></td>\n",
       "    </tr>\n",
       "  </tbody>\n",
       "</table>\n"
      ],
      "text/plain": [
       "<pandas.io.formats.style.Styler at 0x27b63b5f9e0>"
      ]
     },
     "execution_count": 3,
     "metadata": {},
     "output_type": "execute_result"
    }
   ],
   "source": [
    "ds.info_table()"
   ]
  },
  {
   "cell_type": "markdown",
   "id": "42bc8082",
   "metadata": {},
   "source": [
    "## 2. Version History"
   ]
  },
  {
   "cell_type": "code",
   "execution_count": 4,
   "id": "dccaf880",
   "metadata": {
    "execution": {
     "iopub.execute_input": "2025-07-17T15:20:52.694874Z",
     "iopub.status.busy": "2025-07-17T15:20:52.694874Z",
     "iopub.status.idle": "2025-07-17T15:20:55.732855Z",
     "shell.execute_reply": "2025-07-17T15:20:55.730811Z"
    },
    "tags": [
     "remove-input"
    ]
   },
   "outputs": [
    {
     "data": {
      "text/html": [
       "<style type=\"text/css\">\n",
       "#T_7c517 th {\n",
       "  text-align: left;\n",
       "}\n",
       "#T_7c517_row0_col0, #T_7c517_row0_col1, #T_7c517_row1_col0, #T_7c517_row1_col1, #T_7c517_row2_col0, #T_7c517_row2_col1, #T_7c517_row3_col0, #T_7c517_row3_col1, #T_7c517_row4_col0, #T_7c517_row4_col1 {\n",
       "  text-align: left;\n",
       "}\n",
       "</style>\n",
       "<table id=\"T_7c517\" style=\"font-size: 14px\">\n",
       "  <thead>\n",
       "    <tr>\n",
       "      <th id=\"T_7c517_level0_col0\" class=\"col_heading level0 col0\" >Version</th>\n",
       "      <th id=\"T_7c517_level0_col1\" class=\"col_heading level0 col1\" >1</th>\n",
       "    </tr>\n",
       "  </thead>\n",
       "  <tbody>\n",
       "    <tr>\n",
       "      <td id=\"T_7c517_row0_col0\" class=\"data row0 col0\" >Version Date</td>\n",
       "      <td id=\"T_7c517_row0_col1\" class=\"data row0 col1\" >05 Apr 2022</td>\n",
       "    </tr>\n",
       "    <tr>\n",
       "      <td id=\"T_7c517_row1_col0\" class=\"data row1 col0\" >Number of Variables</td>\n",
       "      <td id=\"T_7c517_row1_col1\" class=\"data row1 col1\" >8</td>\n",
       "    </tr>\n",
       "    <tr>\n",
       "      <td id=\"T_7c517_row2_col0\" class=\"data row2 col0\" >Number of Observations</td>\n",
       "      <td id=\"T_7c517_row2_col1\" class=\"data row2 col1\" >2539</td>\n",
       "    </tr>\n",
       "    <tr>\n",
       "      <td id=\"T_7c517_row3_col0\" class=\"data row3 col0\" >DOI</td>\n",
       "      <td id=\"T_7c517_row3_col1\" class=\"data row3 col1\" > <a href=\"https://doi.org/10.83126/ukllc-dataset-00190-01\" rel=\"noopener noreferrer\" target=\"_blank\">10.83126/ukllc-dataset-00190-01</a></td>\n",
       "    </tr>\n",
       "    <tr>\n",
       "      <td id=\"T_7c517_row4_col0\" class=\"data row4 col0\" >Change Log</td>\n",
       "      <td id=\"T_7c517_row4_col1\" class=\"data row4 col1\" > <a href=\"https://api.test.datacite.org/dois/10.83126/ukllc-dataset-00190-01/activities\" rel=\"noopener noreferrer\" target=\"_blank\">10.83126/ukllc-dataset-00190-01/activities</a></td>\n",
       "    </tr>\n",
       "  </tbody>\n",
       "</table>\n"
      ],
      "text/plain": [
       "<pandas.io.formats.style.Styler at 0x27b6599f830>"
      ]
     },
     "execution_count": 4,
     "metadata": {},
     "output_type": "execute_result"
    }
   ],
   "source": [
    "ds.version_history()"
   ]
  },
  {
   "cell_type": "markdown",
   "id": "69edcf3b",
   "metadata": {},
   "source": [
    "## 3. Documentation"
   ]
  },
  {
   "cell_type": "code",
   "execution_count": 5,
   "id": "67c56ab1",
   "metadata": {
    "execution": {
     "iopub.execute_input": "2025-07-17T15:20:55.740019Z",
     "iopub.status.busy": "2025-07-17T15:20:55.740019Z",
     "iopub.status.idle": "2025-07-17T15:20:55.748544Z",
     "shell.execute_reply": "2025-07-17T15:20:55.747016Z"
    },
    "tags": [
     "remove-input"
    ]
   },
   "outputs": [
    {
     "data": {
      "text/markdown": [
       "We are currently building a documentation storage system which will host useful documents related to datasets and data owners. We will surface these documents on Guidebook."
      ],
      "text/plain": [
       "<IPython.core.display.Markdown object>"
      ]
     },
     "metadata": {},
     "output_type": "display_data"
    }
   ],
   "source": [
    "ds.documentation()"
   ]
  },
  {
   "cell_type": "markdown",
   "id": "19016e03",
   "metadata": {},
   "source": [
    "## 4. Useful Syntax"
   ]
  },
  {
   "cell_type": "code",
   "execution_count": 6,
   "id": "3cade889",
   "metadata": {
    "execution": {
     "iopub.execute_input": "2025-07-17T15:20:55.756960Z",
     "iopub.status.busy": "2025-07-17T15:20:55.755809Z",
     "iopub.status.idle": "2025-07-17T15:20:55.764630Z",
     "shell.execute_reply": "2025-07-17T15:20:55.763550Z"
    },
    "tags": [
     "remove-input"
    ]
   },
   "outputs": [
    {
     "data": {
      "text/markdown": [
       "Below we will include syntax that may be helpful to other researchers in the UK LLC TRE. For longer scripts, we will include a snippet of the code plus a link to Git where you can find the full scripts."
      ],
      "text/plain": [
       "<IPython.core.display.Markdown object>"
      ]
     },
     "metadata": {},
     "output_type": "display_data"
    }
   ],
   "source": [
    "ds.useful_syntax()"
   ]
  }
 ],
 "metadata": {
  "language_info": {
   "codemirror_mode": {
    "name": "ipython",
    "version": 3
   },
   "file_extension": ".py",
   "mimetype": "text/x-python",
   "name": "python",
   "nbconvert_exporter": "python",
   "pygments_lexer": "ipython3",
   "version": "3.12.7"
  }
 },
 "nbformat": 4,
 "nbformat_minor": 5
}
