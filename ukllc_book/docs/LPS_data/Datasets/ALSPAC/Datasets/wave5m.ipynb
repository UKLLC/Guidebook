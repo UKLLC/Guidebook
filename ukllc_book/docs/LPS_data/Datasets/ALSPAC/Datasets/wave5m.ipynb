{
 "cells": [
  {
   "cell_type": "markdown",
   "id": "2299b574",
   "metadata": {},
   "source": [
    "# Covid Questionnaire 5 Mothers (ALSPAC)"
   ]
  },
  {
   "cell_type": "code",
   "execution_count": 1,
   "id": "65ea66d3",
   "metadata": {
    "execution": {
     "iopub.execute_input": "2025-07-17T14:39:14.130859Z",
     "iopub.status.busy": "2025-07-17T14:39:14.130859Z",
     "iopub.status.idle": "2025-07-17T14:39:24.631450Z",
     "shell.execute_reply": "2025-07-17T14:39:24.623525Z"
    },
    "tags": [
     "remove-input"
    ]
   },
   "outputs": [
    {
     "data": {
      "text/markdown": [
       ">Last modified: 17 Jul 2025"
      ],
      "text/plain": [
       "<IPython.core.display.Markdown object>"
      ]
     },
     "metadata": {},
     "output_type": "display_data"
    }
   ],
   "source": [
    "\n",
    "import sys\n",
    "import os\n",
    "sys.path.append(os.path.abspath('../../../../scripts/'))\n",
    "from data_doc_helper import LPSDataSet as DS, last_modified\n",
    "API_KEY = os.environ['FASTAPI_KEY']\n",
    "ds = DS(\"ALSPAC\", \"wave5m\")\n",
    "last_modified()\n"
   ]
  },
  {
   "cell_type": "markdown",
   "id": "30cd26c9",
   "metadata": {},
   "source": [
    "## 1. Summary"
   ]
  },
  {
   "cell_type": "code",
   "execution_count": 2,
   "id": "c744ab07",
   "metadata": {
    "execution": {
     "iopub.execute_input": "2025-07-17T14:39:24.639539Z",
     "iopub.status.busy": "2025-07-17T14:39:24.638078Z",
     "iopub.status.idle": "2025-07-17T14:39:24.648193Z",
     "shell.execute_reply": "2025-07-17T14:39:24.647119Z"
    },
    "tags": [
     "remove-input"
    ]
   },
   "outputs": [
    {
     "data": {
      "text/markdown": [
       "All participants in the G0 mothers cohort were asked to complete a questionnaire on paper or online. The questions covered topics about wellbeing and the impact of COVID on work and family life. "
      ],
      "text/plain": [
       "<IPython.core.display.Markdown object>"
      ]
     },
     "metadata": {},
     "output_type": "display_data"
    }
   ],
   "source": [
    "ds.summary()"
   ]
  },
  {
   "cell_type": "code",
   "execution_count": 3,
   "id": "b9bc6770",
   "metadata": {
    "execution": {
     "iopub.execute_input": "2025-07-17T14:39:24.654138Z",
     "iopub.status.busy": "2025-07-17T14:39:24.654138Z",
     "iopub.status.idle": "2025-07-17T14:39:25.985816Z",
     "shell.execute_reply": "2025-07-17T14:39:25.984801Z"
    },
    "tags": [
     "remove-input"
    ]
   },
   "outputs": [
    {
     "data": {
      "text/html": [
       "<style type=\"text/css\">\n",
       "#T_1c7b7 th {\n",
       "  text-align: left;\n",
       "}\n",
       "#T_1c7b7_row0_col0, #T_1c7b7_row0_col1, #T_1c7b7_row1_col0, #T_1c7b7_row1_col1, #T_1c7b7_row2_col0, #T_1c7b7_row2_col1, #T_1c7b7_row3_col0, #T_1c7b7_row3_col1, #T_1c7b7_row4_col0, #T_1c7b7_row4_col1, #T_1c7b7_row5_col0, #T_1c7b7_row5_col1, #T_1c7b7_row6_col0, #T_1c7b7_row6_col1, #T_1c7b7_row7_col0, #T_1c7b7_row7_col1, #T_1c7b7_row8_col0, #T_1c7b7_row8_col1, #T_1c7b7_row9_col0, #T_1c7b7_row9_col1, #T_1c7b7_row10_col0, #T_1c7b7_row10_col1, #T_1c7b7_row11_col0, #T_1c7b7_row11_col1, #T_1c7b7_row12_col0, #T_1c7b7_row12_col1 {\n",
       "  text-align: left;\n",
       "}\n",
       "</style>\n",
       "<table id=\"T_1c7b7\" style=\"font-size: 14px\">\n",
       "  <thead>\n",
       "    <tr>\n",
       "      <th id=\"T_1c7b7_level0_col0\" class=\"col_heading level0 col0\" >Dataset Descriptor</th>\n",
       "      <th id=\"T_1c7b7_level0_col1\" class=\"col_heading level0 col1\" >Dataset-specific Information</th>\n",
       "    </tr>\n",
       "  </thead>\n",
       "  <tbody>\n",
       "    <tr>\n",
       "      <td id=\"T_1c7b7_row0_col0\" class=\"data row0 col0\" >Name of Dataset in TRE</td>\n",
       "      <td id=\"T_1c7b7_row0_col1\" class=\"data row0 col1\" >ALSPAC_wave5m</td>\n",
       "    </tr>\n",
       "    <tr>\n",
       "      <td id=\"T_1c7b7_row1_col0\" class=\"data row1 col0\" >Citation (APA)</td>\n",
       "      <td id=\"T_1c7b7_row1_col1\" class=\"data row1 col1\" >University of Bristol, Avon Longitudinal Study of Parents & Children (ALSPAC). (2022). <i>Avon Longitudinal Study of Parents & Children (ALSPAC): Covid Questionnaire 5 Mothers.</i> UK Longitudinal Linkage Collaboration (UK LLC).  <a href=\"https://doi.org/10.83126/ukllc-dataset-00096-01\" rel=\"noopener noreferrer\" target=\"_blank\">https://doi.org/10.83126/ukllc-dataset-00096-01</a></td>\n",
       "    </tr>\n",
       "    <tr>\n",
       "      <td id=\"T_1c7b7_row2_col0\" class=\"data row2 col0\" >Download Citation</td>\n",
       "      <td id=\"T_1c7b7_row2_col1\" class=\"data row2 col1\" > <a href=\"https://api.test.datacite.org/application/vnd.citationstyles.csl+json/10.83126/ukllc-dataset-00096-01\" rel=\"noopener noreferrer\" target=\"_blank\">Citeproc JSON</a>&nbsp;&nbsp;&nbsp;&nbsp; <a href=\"https://api.test.datacite.org/application/x-bibtex/10.83126/ukllc-dataset-00096-01\" rel=\"noopener noreferrer\" target=\"_blank\">BibTeX</a>&nbsp;&nbsp;&nbsp;&nbsp; <a href=\"https://api.test.datacite.org/application/x-research-info-systems/10.83126/ukllc-dataset-00096-01\" rel=\"noopener noreferrer\" target=\"_blank\">RIS</a></td>\n",
       "    </tr>\n",
       "    <tr>\n",
       "      <td id=\"T_1c7b7_row3_col0\" class=\"data row3 col0\" >Series</td>\n",
       "      <td id=\"T_1c7b7_row3_col1\" class=\"data row3 col1\" > <a href=\"https://guidebook.ukllc.ac.uk/docs/lps/lps%20profiles/ALSPAC\">Avon Longitudinal Study of Parents & Children (ALSPAC)</a></td>\n",
       "    </tr>\n",
       "    <tr>\n",
       "      <td id=\"T_1c7b7_row4_col0\" class=\"data row4 col0\" >Owner</td>\n",
       "      <td id=\"T_1c7b7_row4_col1\" class=\"data row4 col1\" >University of Bristol </td>\n",
       "    </tr>\n",
       "    <tr>\n",
       "      <td id=\"T_1c7b7_row5_col0\" class=\"data row5 col0\" >Temporal Coverage</td>\n",
       "      <td id=\"T_1c7b7_row5_col1\" class=\"data row5 col1\" >07/2021 - 12/2021</td>\n",
       "    </tr>\n",
       "    <tr>\n",
       "      <td id=\"T_1c7b7_row6_col0\" class=\"data row6 col0\" >Keywords</td>\n",
       "      <td id=\"T_1c7b7_row6_col1\" class=\"data row6 col1\" ></td>\n",
       "    </tr>\n",
       "    <tr>\n",
       "      <td id=\"T_1c7b7_row7_col0\" class=\"data row7 col0\" >Participants Invited</td>\n",
       "      <td id=\"T_1c7b7_row7_col1\" class=\"data row7 col1\" >9271</td>\n",
       "    </tr>\n",
       "    <tr>\n",
       "      <td id=\"T_1c7b7_row8_col0\" class=\"data row8 col0\" >Participant Count</td>\n",
       "      <td id=\"T_1c7b7_row8_col1\" class=\"data row8 col1\" >677</td>\n",
       "    </tr>\n",
       "    <tr>\n",
       "      <td id=\"T_1c7b7_row9_col0\" class=\"data row9 col0\" >Number of variables</td>\n",
       "      <td id=\"T_1c7b7_row9_col1\" class=\"data row9 col1\" >358</td>\n",
       "    </tr>\n",
       "    <tr>\n",
       "      <td id=\"T_1c7b7_row10_col0\" class=\"data row10 col0\" >Number of observations</td>\n",
       "      <td id=\"T_1c7b7_row10_col1\" class=\"data row10 col1\" >677</td>\n",
       "    </tr>\n",
       "    <tr>\n",
       "      <td id=\"T_1c7b7_row11_col0\" class=\"data row11 col0\" >Specific Restrictions to Data Use</td>\n",
       "      <td id=\"T_1c7b7_row11_col1\" class=\"data row11 col1\" >None</td>\n",
       "    </tr>\n",
       "    <tr>\n",
       "      <td id=\"T_1c7b7_row12_col0\" class=\"data row12 col0\" >Build a Data Request</td>\n",
       "      <td id=\"T_1c7b7_row12_col1\" class=\"data row12 col1\" > <a href=\"https://explore.ukllc.ac.uk/\" rel=\"noopener noreferrer\" target=\"_blank\">https://explore.ukllc.ac.uk/</a></td>\n",
       "    </tr>\n",
       "  </tbody>\n",
       "</table>\n"
      ],
      "text/plain": [
       "<pandas.io.formats.style.Styler at 0x2500f968d70>"
      ]
     },
     "execution_count": 3,
     "metadata": {},
     "output_type": "execute_result"
    }
   ],
   "source": [
    "ds.info_table()"
   ]
  },
  {
   "cell_type": "markdown",
   "id": "1b9d978d",
   "metadata": {},
   "source": [
    "## 2. Version History"
   ]
  },
  {
   "cell_type": "code",
   "execution_count": 4,
   "id": "5322e470",
   "metadata": {
    "execution": {
     "iopub.execute_input": "2025-07-17T14:39:25.990481Z",
     "iopub.status.busy": "2025-07-17T14:39:25.989289Z",
     "iopub.status.idle": "2025-07-17T14:39:29.104942Z",
     "shell.execute_reply": "2025-07-17T14:39:29.102922Z"
    },
    "tags": [
     "remove-input"
    ]
   },
   "outputs": [
    {
     "data": {
      "text/html": [
       "<style type=\"text/css\">\n",
       "#T_aed38 th {\n",
       "  text-align: left;\n",
       "}\n",
       "#T_aed38_row0_col0, #T_aed38_row0_col1, #T_aed38_row1_col0, #T_aed38_row1_col1, #T_aed38_row2_col0, #T_aed38_row2_col1, #T_aed38_row3_col0, #T_aed38_row3_col1, #T_aed38_row4_col0, #T_aed38_row4_col1 {\n",
       "  text-align: left;\n",
       "}\n",
       "</style>\n",
       "<table id=\"T_aed38\" style=\"font-size: 14px\">\n",
       "  <thead>\n",
       "    <tr>\n",
       "      <th id=\"T_aed38_level0_col0\" class=\"col_heading level0 col0\" >Version</th>\n",
       "      <th id=\"T_aed38_level0_col1\" class=\"col_heading level0 col1\" >1</th>\n",
       "    </tr>\n",
       "  </thead>\n",
       "  <tbody>\n",
       "    <tr>\n",
       "      <td id=\"T_aed38_row0_col0\" class=\"data row0 col0\" >Version Date</td>\n",
       "      <td id=\"T_aed38_row0_col1\" class=\"data row0 col1\" >22 Nov 2022</td>\n",
       "    </tr>\n",
       "    <tr>\n",
       "      <td id=\"T_aed38_row1_col0\" class=\"data row1 col0\" >Number of Variables</td>\n",
       "      <td id=\"T_aed38_row1_col1\" class=\"data row1 col1\" >358</td>\n",
       "    </tr>\n",
       "    <tr>\n",
       "      <td id=\"T_aed38_row2_col0\" class=\"data row2 col0\" >Number of Observations</td>\n",
       "      <td id=\"T_aed38_row2_col1\" class=\"data row2 col1\" >677</td>\n",
       "    </tr>\n",
       "    <tr>\n",
       "      <td id=\"T_aed38_row3_col0\" class=\"data row3 col0\" >DOI</td>\n",
       "      <td id=\"T_aed38_row3_col1\" class=\"data row3 col1\" > <a href=\"https://doi.org/10.83126/ukllc-dataset-00096-01\" rel=\"noopener noreferrer\" target=\"_blank\">10.83126/ukllc-dataset-00096-01</a></td>\n",
       "    </tr>\n",
       "    <tr>\n",
       "      <td id=\"T_aed38_row4_col0\" class=\"data row4 col0\" >Change Log</td>\n",
       "      <td id=\"T_aed38_row4_col1\" class=\"data row4 col1\" > <a href=\"https://api.test.datacite.org/dois/10.83126/ukllc-dataset-00096-01/activities\" rel=\"noopener noreferrer\" target=\"_blank\">10.83126/ukllc-dataset-00096-01/activities</a></td>\n",
       "    </tr>\n",
       "  </tbody>\n",
       "</table>\n"
      ],
      "text/plain": [
       "<pandas.io.formats.style.Styler at 0x250117017f0>"
      ]
     },
     "execution_count": 4,
     "metadata": {},
     "output_type": "execute_result"
    }
   ],
   "source": [
    "ds.version_history()"
   ]
  },
  {
   "cell_type": "markdown",
   "id": "0752d8dc",
   "metadata": {},
   "source": [
    "## 3. Documentation"
   ]
  },
  {
   "cell_type": "code",
   "execution_count": 5,
   "id": "acaf2585",
   "metadata": {
    "execution": {
     "iopub.execute_input": "2025-07-17T14:39:29.109940Z",
     "iopub.status.busy": "2025-07-17T14:39:29.109940Z",
     "iopub.status.idle": "2025-07-17T14:39:29.118415Z",
     "shell.execute_reply": "2025-07-17T14:39:29.117400Z"
    },
    "tags": [
     "remove-input"
    ]
   },
   "outputs": [
    {
     "data": {
      "text/markdown": [
       "We are currently building a documentation storage system which will host useful documents related to datasets and data owners. We will surface these documents on Guidebook."
      ],
      "text/plain": [
       "<IPython.core.display.Markdown object>"
      ]
     },
     "metadata": {},
     "output_type": "display_data"
    }
   ],
   "source": [
    "ds.documentation()"
   ]
  },
  {
   "cell_type": "markdown",
   "id": "9bfff4a2",
   "metadata": {},
   "source": [
    "## 4. Useful Syntax"
   ]
  },
  {
   "cell_type": "code",
   "execution_count": 6,
   "id": "aa8ebfa0",
   "metadata": {
    "execution": {
     "iopub.execute_input": "2025-07-17T14:39:29.123415Z",
     "iopub.status.busy": "2025-07-17T14:39:29.123415Z",
     "iopub.status.idle": "2025-07-17T14:39:29.131951Z",
     "shell.execute_reply": "2025-07-17T14:39:29.130420Z"
    },
    "tags": [
     "remove-input"
    ]
   },
   "outputs": [
    {
     "data": {
      "text/markdown": [
       "Below we will include syntax that may be helpful to other researchers in the UK LLC TRE. For longer scripts, we will include a snippet of the code plus a link to Git where you can find the full scripts."
      ],
      "text/plain": [
       "<IPython.core.display.Markdown object>"
      ]
     },
     "metadata": {},
     "output_type": "display_data"
    }
   ],
   "source": [
    "ds.useful_syntax()"
   ]
  }
 ],
 "metadata": {
  "language_info": {
   "codemirror_mode": {
    "name": "ipython",
    "version": 3
   },
   "file_extension": ".py",
   "mimetype": "text/x-python",
   "name": "python",
   "nbconvert_exporter": "python",
   "pygments_lexer": "ipython3",
   "version": "3.12.7"
  }
 },
 "nbformat": 4,
 "nbformat_minor": 5
}
