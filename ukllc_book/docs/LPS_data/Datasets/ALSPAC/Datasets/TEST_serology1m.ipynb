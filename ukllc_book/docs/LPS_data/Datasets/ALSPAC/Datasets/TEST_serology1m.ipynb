{
 "cells": [
  {
   "cell_type": "code",
   "execution_count": null,
   "id": "956fafa2",
   "metadata": {},
   "outputs": [],
   "source": [
    "import sys\n",
    "import os\n",
    "sys.path.append(os.path.abspath('../../../../scripts/'))\n",
    "from data_doc_helper import LPSDataSet as DS\n",
    "API_KEY = os.environ['FASTAPI_KEY']\n",
    "ds = DS(\"ALSPAC\", \"serology1m\")"
   ]
  },
  {
   "cell_type": "code",
   "execution_count": null,
   "id": "123a5045",
   "metadata": {},
   "outputs": [],
   "source": [
    "ds.title()"
   ]
  },
  {
   "cell_type": "markdown",
   "id": "d69a854b",
   "metadata": {},
   "source": [
    "## 1. Summary"
   ]
  },
  {
   "cell_type": "code",
   "execution_count": null,
   "id": "cf7a6850",
   "metadata": {},
   "outputs": [],
   "source": [
    "ds.summary()"
   ]
  },
  {
   "cell_type": "code",
   "execution_count": null,
   "id": "c9a0a958",
   "metadata": {},
   "outputs": [],
   "source": [
    "ds.info_table()"
   ]
  },
  {
   "cell_type": "code",
   "execution_count": null,
   "id": "c8a257d5",
   "metadata": {},
   "outputs": [],
   "source": []
  }
 ],
 "metadata": {
  "kernelspec": {
   "display_name": "Python 3",
   "language": "python",
   "name": "python3"
  },
  "language_info": {
   "codemirror_mode": {
    "name": "ipython",
    "version": 3
   },
   "file_extension": ".py",
   "mimetype": "text/x-python",
   "name": "python",
   "nbconvert_exporter": "python",
   "pygments_lexer": "ipython3",
   "version": "3.13.2"
  }
 },
 "nbformat": 4,
 "nbformat_minor": 5
}
