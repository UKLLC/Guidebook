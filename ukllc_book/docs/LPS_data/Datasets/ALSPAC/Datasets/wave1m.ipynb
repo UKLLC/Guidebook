{
 "cells": [
  {
   "cell_type": "markdown",
   "id": "78e230d5",
   "metadata": {},
   "source": [
    "# Covid Questionnaire 1 Mothers (ALSPAC)"
   ]
  },
  {
   "cell_type": "code",
   "execution_count": 1,
   "id": "8fb61115",
   "metadata": {
    "execution": {
     "iopub.execute_input": "2025-07-28T17:42:16.085196Z",
     "iopub.status.busy": "2025-07-28T17:42:16.085196Z",
     "iopub.status.idle": "2025-07-28T17:42:28.251363Z",
     "shell.execute_reply": "2025-07-28T17:42:28.250075Z"
    },
    "tags": [
     "remove-input"
    ]
   },
   "outputs": [
    {
     "data": {
      "text/markdown": [
       ">Last modified: 28 Jul 2025"
      ],
      "text/plain": [
       "<IPython.core.display.Markdown object>"
      ]
     },
     "metadata": {},
     "output_type": "display_data"
    }
   ],
   "source": [
    "\n",
    "import sys\n",
    "import os\n",
    "sys.path.append(os.path.abspath('../../../../scripts/'))\n",
    "from data_doc_helper import LPSDataSet as DS, last_modified\n",
    "API_KEY = os.environ['FASTAPI_KEY']\n",
    "ds = DS(\"ALSPAC\", \"wave1m\")\n",
    "last_modified()\n"
   ]
  },
  {
   "cell_type": "markdown",
   "id": "65ac0f7c",
   "metadata": {},
   "source": [
    "## 1. Summary"
   ]
  },
  {
   "cell_type": "code",
   "execution_count": 2,
   "id": "3bb22a79",
   "metadata": {
    "execution": {
     "iopub.execute_input": "2025-07-28T17:42:28.254372Z",
     "iopub.status.busy": "2025-07-28T17:42:28.253370Z",
     "iopub.status.idle": "2025-07-28T17:42:28.257235Z",
     "shell.execute_reply": "2025-07-28T17:42:28.257235Z"
    },
    "tags": [
     "remove-input"
    ]
   },
   "outputs": [
    {
     "data": {
      "text/markdown": [
       "All participants in the G0 mothers cohort were asked to complete an online questionnaire. The questions covered topics about wellbeing and the impact of COVID on work and family life. "
      ],
      "text/plain": [
       "<IPython.core.display.Markdown object>"
      ]
     },
     "metadata": {},
     "output_type": "display_data"
    }
   ],
   "source": [
    "ds.summary()"
   ]
  },
  {
   "cell_type": "code",
   "execution_count": 3,
   "id": "cdaeb977",
   "metadata": {
    "execution": {
     "iopub.execute_input": "2025-07-28T17:42:28.259241Z",
     "iopub.status.busy": "2025-07-28T17:42:28.259241Z",
     "iopub.status.idle": "2025-07-28T17:42:29.100056Z",
     "shell.execute_reply": "2025-07-28T17:42:29.100056Z"
    },
    "tags": [
     "remove-input"
    ]
   },
   "outputs": [
    {
     "data": {
      "text/html": [
       "<style type=\"text/css\">\n",
       "#T_0672b th {\n",
       "  text-align: left;\n",
       "}\n",
       "#T_0672b_row0_col0, #T_0672b_row0_col1, #T_0672b_row1_col0, #T_0672b_row1_col1, #T_0672b_row2_col0, #T_0672b_row2_col1, #T_0672b_row3_col0, #T_0672b_row3_col1, #T_0672b_row4_col0, #T_0672b_row4_col1, #T_0672b_row5_col0, #T_0672b_row5_col1, #T_0672b_row6_col0, #T_0672b_row6_col1, #T_0672b_row7_col0, #T_0672b_row7_col1, #T_0672b_row8_col0, #T_0672b_row8_col1, #T_0672b_row9_col0, #T_0672b_row9_col1, #T_0672b_row10_col0, #T_0672b_row10_col1, #T_0672b_row11_col0, #T_0672b_row11_col1, #T_0672b_row12_col0, #T_0672b_row12_col1 {\n",
       "  text-align: left;\n",
       "}\n",
       "</style>\n",
       "<table id=\"T_0672b\" style=\"font-size: 14px\">\n",
       "  <thead>\n",
       "    <tr>\n",
       "      <th id=\"T_0672b_level0_col0\" class=\"col_heading level0 col0\" >Dataset Descriptor</th>\n",
       "      <th id=\"T_0672b_level0_col1\" class=\"col_heading level0 col1\" >Dataset-specific Information</th>\n",
       "    </tr>\n",
       "  </thead>\n",
       "  <tbody>\n",
       "    <tr>\n",
       "      <td id=\"T_0672b_row0_col0\" class=\"data row0 col0\" >Name of Dataset in TRE</td>\n",
       "      <td id=\"T_0672b_row0_col1\" class=\"data row0 col1\" >ALSPAC_wave1m</td>\n",
       "    </tr>\n",
       "    <tr>\n",
       "      <td id=\"T_0672b_row1_col0\" class=\"data row1 col0\" >Citation (APA)</td>\n",
       "      <td id=\"T_0672b_row1_col1\" class=\"data row1 col1\" >University of Bristol, Avon Longitudinal Study of Parents & Children (ALSPAC). (2021). <i>Avon Longitudinal Study of Parents & Children (ALSPAC): Covid Questionnaire 1 Mothers.</i> UK Longitudinal Linkage Collaboration (UK LLC).  <a href=\"https://doi.org/10.71760/ukllc-dataset-00007-01\" rel=\"noopener noreferrer\" target=\"_blank\">https://doi.org/10.71760/ukllc-dataset-00007-01</a></td>\n",
       "    </tr>\n",
       "    <tr>\n",
       "      <td id=\"T_0672b_row2_col0\" class=\"data row2 col0\" >Download Citation</td>\n",
       "      <td id=\"T_0672b_row2_col1\" class=\"data row2 col1\" > <a href=\"https://api.datacite.org/application/vnd.citationstyles.csl+json/10.71760/ukllc-dataset-00007-01\" rel=\"noopener noreferrer\" target=\"_blank\">Citeproc JSON</a>&nbsp;&nbsp;&nbsp;&nbsp; <a href=\"https://api.datacite.org/application/x-bibtex/10.71760/ukllc-dataset-00007-01\" rel=\"noopener noreferrer\" target=\"_blank\">BibTeX</a>&nbsp;&nbsp;&nbsp;&nbsp; <a href=\"https://api.datacite.org/application/x-research-info-systems/10.71760/ukllc-dataset-00007-01\" rel=\"noopener noreferrer\" target=\"_blank\">RIS</a></td>\n",
       "    </tr>\n",
       "    <tr>\n",
       "      <td id=\"T_0672b_row3_col0\" class=\"data row3 col0\" >Series</td>\n",
       "      <td id=\"T_0672b_row3_col1\" class=\"data row3 col1\" > <a href=\"https://guidebook.ukllc.ac.uk/docs/lps_data/lps%20profiles/ALSPAC\">Avon Longitudinal Study of Parents & Children (ALSPAC)</a></td>\n",
       "    </tr>\n",
       "    <tr>\n",
       "      <td id=\"T_0672b_row4_col0\" class=\"data row4 col0\" >Owner</td>\n",
       "      <td id=\"T_0672b_row4_col1\" class=\"data row4 col1\" >University of Bristol </td>\n",
       "    </tr>\n",
       "    <tr>\n",
       "      <td id=\"T_0672b_row5_col0\" class=\"data row5 col0\" >Temporal Coverage</td>\n",
       "      <td id=\"T_0672b_row5_col1\" class=\"data row5 col1\" >04/2020 - 05/2020</td>\n",
       "    </tr>\n",
       "    <tr>\n",
       "      <td id=\"T_0672b_row6_col0\" class=\"data row6 col0\" >Keywords</td>\n",
       "      <td id=\"T_0672b_row6_col1\" class=\"data row6 col1\" ></td>\n",
       "    </tr>\n",
       "    <tr>\n",
       "      <td id=\"T_0672b_row7_col0\" class=\"data row7 col0\" >Participants Invited</td>\n",
       "      <td id=\"T_0672b_row7_col1\" class=\"data row7 col1\" >4743</td>\n",
       "    </tr>\n",
       "    <tr>\n",
       "      <td id=\"T_0672b_row8_col0\" class=\"data row8 col0\" >Participant Count</td>\n",
       "      <td id=\"T_0672b_row8_col1\" class=\"data row8 col1\" >481</td>\n",
       "    </tr>\n",
       "    <tr>\n",
       "      <td id=\"T_0672b_row9_col0\" class=\"data row9 col0\" >Number of variables</td>\n",
       "      <td id=\"T_0672b_row9_col1\" class=\"data row9 col1\" >459</td>\n",
       "    </tr>\n",
       "    <tr>\n",
       "      <td id=\"T_0672b_row10_col0\" class=\"data row10 col0\" >Number of observations</td>\n",
       "      <td id=\"T_0672b_row10_col1\" class=\"data row10 col1\" >2292</td>\n",
       "    </tr>\n",
       "    <tr>\n",
       "      <td id=\"T_0672b_row11_col0\" class=\"data row11 col0\" >Specific Restrictions to Data Use</td>\n",
       "      <td id=\"T_0672b_row11_col1\" class=\"data row11 col1\" >None</td>\n",
       "    </tr>\n",
       "    <tr>\n",
       "      <td id=\"T_0672b_row12_col0\" class=\"data row12 col0\" >Build a Data Request</td>\n",
       "      <td id=\"T_0672b_row12_col1\" class=\"data row12 col1\" > <a href=\"https://explore.ukllc.ac.uk/\" rel=\"noopener noreferrer\" target=\"_blank\">https://explore.ukllc.ac.uk/</a></td>\n",
       "    </tr>\n",
       "  </tbody>\n",
       "</table>\n"
      ],
      "text/plain": [
       "<pandas.io.formats.style.Styler at 0x12ec1442f90>"
      ]
     },
     "execution_count": 3,
     "metadata": {},
     "output_type": "execute_result"
    }
   ],
   "source": [
    "ds.info_table()"
   ]
  },
  {
   "cell_type": "markdown",
   "id": "83c372b3",
   "metadata": {},
   "source": [
    "## 2. Version History"
   ]
  },
  {
   "cell_type": "code",
   "execution_count": 4,
   "id": "44c65ec7",
   "metadata": {
    "execution": {
     "iopub.execute_input": "2025-07-28T17:42:29.103428Z",
     "iopub.status.busy": "2025-07-28T17:42:29.102429Z",
     "iopub.status.idle": "2025-07-28T17:42:33.517215Z",
     "shell.execute_reply": "2025-07-28T17:42:33.517215Z"
    },
    "tags": [
     "remove-input"
    ]
   },
   "outputs": [
    {
     "data": {
      "text/html": [
       "<style type=\"text/css\">\n",
       "#T_1944f th {\n",
       "  text-align: left;\n",
       "}\n",
       "#T_1944f_row0_col0, #T_1944f_row0_col1, #T_1944f_row1_col0, #T_1944f_row1_col1, #T_1944f_row2_col0, #T_1944f_row2_col1, #T_1944f_row3_col0, #T_1944f_row3_col1, #T_1944f_row4_col0, #T_1944f_row4_col1 {\n",
       "  text-align: left;\n",
       "}\n",
       "</style>\n",
       "<table id=\"T_1944f\" style=\"font-size: 14px\">\n",
       "  <thead>\n",
       "    <tr>\n",
       "      <th id=\"T_1944f_level0_col0\" class=\"col_heading level0 col0\" >Version</th>\n",
       "      <th id=\"T_1944f_level0_col1\" class=\"col_heading level0 col1\" >1</th>\n",
       "    </tr>\n",
       "  </thead>\n",
       "  <tbody>\n",
       "    <tr>\n",
       "      <td id=\"T_1944f_row0_col0\" class=\"data row0 col0\" >Version Date</td>\n",
       "      <td id=\"T_1944f_row0_col1\" class=\"data row0 col1\" >01 Nov 2021</td>\n",
       "    </tr>\n",
       "    <tr>\n",
       "      <td id=\"T_1944f_row1_col0\" class=\"data row1 col0\" >Number of Variables</td>\n",
       "      <td id=\"T_1944f_row1_col1\" class=\"data row1 col1\" >459</td>\n",
       "    </tr>\n",
       "    <tr>\n",
       "      <td id=\"T_1944f_row2_col0\" class=\"data row2 col0\" >Number of Observations</td>\n",
       "      <td id=\"T_1944f_row2_col1\" class=\"data row2 col1\" >2292</td>\n",
       "    </tr>\n",
       "    <tr>\n",
       "      <td id=\"T_1944f_row3_col0\" class=\"data row3 col0\" >DOI</td>\n",
       "      <td id=\"T_1944f_row3_col1\" class=\"data row3 col1\" > <a href=\"https://doi.org/10.71760/ukllc-dataset-00007-01\" rel=\"noopener noreferrer\" target=\"_blank\">10.71760/ukllc-dataset-00007-01</a></td>\n",
       "    </tr>\n",
       "    <tr>\n",
       "      <td id=\"T_1944f_row4_col0\" class=\"data row4 col0\" >Change Log</td>\n",
       "      <td id=\"T_1944f_row4_col1\" class=\"data row4 col1\" > <a href=\"https://api.test.datacite.org/dois/10.71760/ukllc-dataset-00007-01/activities\" rel=\"noopener noreferrer\" target=\"_blank\">10.71760/ukllc-dataset-00007-01/activities</a></td>\n",
       "    </tr>\n",
       "  </tbody>\n",
       "</table>\n"
      ],
      "text/plain": [
       "<pandas.io.formats.style.Styler at 0x12ec6edbe00>"
      ]
     },
     "execution_count": 4,
     "metadata": {},
     "output_type": "execute_result"
    }
   ],
   "source": [
    "ds.version_history()"
   ]
  },
  {
   "cell_type": "markdown",
   "id": "148db410",
   "metadata": {},
   "source": [
    "## 3. Documentation"
   ]
  },
  {
   "cell_type": "code",
   "execution_count": 5,
   "id": "62dd22b0",
   "metadata": {
    "execution": {
     "iopub.execute_input": "2025-07-28T17:42:33.520222Z",
     "iopub.status.busy": "2025-07-28T17:42:33.520222Z",
     "iopub.status.idle": "2025-07-28T17:42:33.523182Z",
     "shell.execute_reply": "2025-07-28T17:42:33.523182Z"
    },
    "tags": [
     "remove-input"
    ]
   },
   "outputs": [
    {
     "data": {
      "text/markdown": [
       "We are currently building a documentation storage system which will host useful documents related to datasets and data owners. We will surface these documents on Guidebook."
      ],
      "text/plain": [
       "<IPython.core.display.Markdown object>"
      ]
     },
     "metadata": {},
     "output_type": "display_data"
    }
   ],
   "source": [
    "ds.documentation()"
   ]
  },
  {
   "cell_type": "markdown",
   "id": "431ae78f",
   "metadata": {},
   "source": [
    "## 4. Useful Syntax"
   ]
  },
  {
   "cell_type": "code",
   "execution_count": 6,
   "id": "c14193bf",
   "metadata": {
    "execution": {
     "iopub.execute_input": "2025-07-28T17:42:33.526186Z",
     "iopub.status.busy": "2025-07-28T17:42:33.526186Z",
     "iopub.status.idle": "2025-07-28T17:42:33.529261Z",
     "shell.execute_reply": "2025-07-28T17:42:33.529261Z"
    },
    "tags": [
     "remove-input"
    ]
   },
   "outputs": [
    {
     "data": {
      "text/markdown": [
       "Below we will include syntax that may be helpful to other researchers in the UK LLC TRE. For longer scripts, we will include a snippet of the code plus a link to Git where you can find the full scripts."
      ],
      "text/plain": [
       "<IPython.core.display.Markdown object>"
      ]
     },
     "metadata": {},
     "output_type": "display_data"
    }
   ],
   "source": [
    "ds.useful_syntax()"
   ]
  }
 ],
 "metadata": {
  "language_info": {
   "codemirror_mode": {
    "name": "ipython",
    "version": 3
   },
   "file_extension": ".py",
   "mimetype": "text/x-python",
   "name": "python",
   "nbconvert_exporter": "python",
   "pygments_lexer": "ipython3",
   "version": "3.12.7"
  }
 },
 "nbformat": 4,
 "nbformat_minor": 5
}
