{
 "cells": [
  {
   "cell_type": "markdown",
   "id": "78e230d5",
   "metadata": {},
   "source": [
    "# Covid Questionnaire 1 Mothers (ALSPAC)"
   ]
  },
  {
   "cell_type": "code",
   "execution_count": 1,
   "id": "8fb61115",
   "metadata": {
    "execution": {
     "iopub.execute_input": "2025-07-17T14:37:14.571776Z",
     "iopub.status.busy": "2025-07-17T14:37:14.570752Z",
     "iopub.status.idle": "2025-07-17T14:37:22.365622Z",
     "shell.execute_reply": "2025-07-17T14:37:22.361064Z"
    },
    "tags": [
     "remove-input"
    ]
   },
   "outputs": [
    {
     "data": {
      "text/markdown": [
       ">Last modified: 17 Jul 2025"
      ],
      "text/plain": [
       "<IPython.core.display.Markdown object>"
      ]
     },
     "metadata": {},
     "output_type": "display_data"
    }
   ],
   "source": [
    "\n",
    "import sys\n",
    "import os\n",
    "sys.path.append(os.path.abspath('../../../../scripts/'))\n",
    "from data_doc_helper import LPSDataSet as DS, last_modified\n",
    "API_KEY = os.environ['FASTAPI_KEY']\n",
    "ds = DS(\"ALSPAC\", \"wave1m\")\n",
    "last_modified()\n"
   ]
  },
  {
   "cell_type": "markdown",
   "id": "65ac0f7c",
   "metadata": {},
   "source": [
    "## 1. Summary"
   ]
  },
  {
   "cell_type": "code",
   "execution_count": 2,
   "id": "3bb22a79",
   "metadata": {
    "execution": {
     "iopub.execute_input": "2025-07-17T14:37:22.380677Z",
     "iopub.status.busy": "2025-07-17T14:37:22.379629Z",
     "iopub.status.idle": "2025-07-17T14:37:22.393855Z",
     "shell.execute_reply": "2025-07-17T14:37:22.390788Z"
    },
    "tags": [
     "remove-input"
    ]
   },
   "outputs": [
    {
     "data": {
      "text/markdown": [
       "All participants in the G0 mothers cohort were asked to complete an online questionnaire. The questions covered topics about wellbeing and the impact of COVID on work and family life. "
      ],
      "text/plain": [
       "<IPython.core.display.Markdown object>"
      ]
     },
     "metadata": {},
     "output_type": "display_data"
    }
   ],
   "source": [
    "ds.summary()"
   ]
  },
  {
   "cell_type": "code",
   "execution_count": 3,
   "id": "cdaeb977",
   "metadata": {
    "execution": {
     "iopub.execute_input": "2025-07-17T14:37:22.404185Z",
     "iopub.status.busy": "2025-07-17T14:37:22.403188Z",
     "iopub.status.idle": "2025-07-17T14:37:23.597418Z",
     "shell.execute_reply": "2025-07-17T14:37:23.596401Z"
    },
    "tags": [
     "remove-input"
    ]
   },
   "outputs": [
    {
     "data": {
      "text/html": [
       "<style type=\"text/css\">\n",
       "#T_27287 th {\n",
       "  text-align: left;\n",
       "}\n",
       "#T_27287_row0_col0, #T_27287_row0_col1, #T_27287_row1_col0, #T_27287_row1_col1, #T_27287_row2_col0, #T_27287_row2_col1, #T_27287_row3_col0, #T_27287_row3_col1, #T_27287_row4_col0, #T_27287_row4_col1, #T_27287_row5_col0, #T_27287_row5_col1, #T_27287_row6_col0, #T_27287_row6_col1, #T_27287_row7_col0, #T_27287_row7_col1, #T_27287_row8_col0, #T_27287_row8_col1, #T_27287_row9_col0, #T_27287_row9_col1, #T_27287_row10_col0, #T_27287_row10_col1, #T_27287_row11_col0, #T_27287_row11_col1, #T_27287_row12_col0, #T_27287_row12_col1 {\n",
       "  text-align: left;\n",
       "}\n",
       "</style>\n",
       "<table id=\"T_27287\" style=\"font-size: 14px\">\n",
       "  <thead>\n",
       "    <tr>\n",
       "      <th id=\"T_27287_level0_col0\" class=\"col_heading level0 col0\" >Dataset Descriptor</th>\n",
       "      <th id=\"T_27287_level0_col1\" class=\"col_heading level0 col1\" >Dataset-specific Information</th>\n",
       "    </tr>\n",
       "  </thead>\n",
       "  <tbody>\n",
       "    <tr>\n",
       "      <td id=\"T_27287_row0_col0\" class=\"data row0 col0\" >Name of Dataset in TRE</td>\n",
       "      <td id=\"T_27287_row0_col1\" class=\"data row0 col1\" >ALSPAC_wave1m</td>\n",
       "    </tr>\n",
       "    <tr>\n",
       "      <td id=\"T_27287_row1_col0\" class=\"data row1 col0\" >Citation (APA)</td>\n",
       "      <td id=\"T_27287_row1_col1\" class=\"data row1 col1\" >University of Bristol, Avon Longitudinal Study of Parents & Children (ALSPAC). (2021). <i>Avon Longitudinal Study of Parents & Children (ALSPAC): Covid Questionnaire 1 Mothers.</i> UK Longitudinal Linkage Collaboration (UK LLC).  <a href=\"https://doi.org/10.83126/ukllc-dataset-00088-01\" rel=\"noopener noreferrer\" target=\"_blank\">https://doi.org/10.83126/ukllc-dataset-00088-01</a></td>\n",
       "    </tr>\n",
       "    <tr>\n",
       "      <td id=\"T_27287_row2_col0\" class=\"data row2 col0\" >Download Citation</td>\n",
       "      <td id=\"T_27287_row2_col1\" class=\"data row2 col1\" > <a href=\"https://api.test.datacite.org/application/vnd.citationstyles.csl+json/10.83126/ukllc-dataset-00088-01\" rel=\"noopener noreferrer\" target=\"_blank\">Citeproc JSON</a>&nbsp;&nbsp;&nbsp;&nbsp; <a href=\"https://api.test.datacite.org/application/x-bibtex/10.83126/ukllc-dataset-00088-01\" rel=\"noopener noreferrer\" target=\"_blank\">BibTeX</a>&nbsp;&nbsp;&nbsp;&nbsp; <a href=\"https://api.test.datacite.org/application/x-research-info-systems/10.83126/ukllc-dataset-00088-01\" rel=\"noopener noreferrer\" target=\"_blank\">RIS</a></td>\n",
       "    </tr>\n",
       "    <tr>\n",
       "      <td id=\"T_27287_row3_col0\" class=\"data row3 col0\" >Series</td>\n",
       "      <td id=\"T_27287_row3_col1\" class=\"data row3 col1\" > <a href=\"https://guidebook.ukllc.ac.uk/docs/lps/lps%20profiles/ALSPAC\">Avon Longitudinal Study of Parents & Children (ALSPAC)</a></td>\n",
       "    </tr>\n",
       "    <tr>\n",
       "      <td id=\"T_27287_row4_col0\" class=\"data row4 col0\" >Owner</td>\n",
       "      <td id=\"T_27287_row4_col1\" class=\"data row4 col1\" >University of Bristol </td>\n",
       "    </tr>\n",
       "    <tr>\n",
       "      <td id=\"T_27287_row5_col0\" class=\"data row5 col0\" >Temporal Coverage</td>\n",
       "      <td id=\"T_27287_row5_col1\" class=\"data row5 col1\" >04/2020 - 05/2020</td>\n",
       "    </tr>\n",
       "    <tr>\n",
       "      <td id=\"T_27287_row6_col0\" class=\"data row6 col0\" >Keywords</td>\n",
       "      <td id=\"T_27287_row6_col1\" class=\"data row6 col1\" ></td>\n",
       "    </tr>\n",
       "    <tr>\n",
       "      <td id=\"T_27287_row7_col0\" class=\"data row7 col0\" >Participants Invited</td>\n",
       "      <td id=\"T_27287_row7_col1\" class=\"data row7 col1\" >4743</td>\n",
       "    </tr>\n",
       "    <tr>\n",
       "      <td id=\"T_27287_row8_col0\" class=\"data row8 col0\" >Participant Count</td>\n",
       "      <td id=\"T_27287_row8_col1\" class=\"data row8 col1\" >481</td>\n",
       "    </tr>\n",
       "    <tr>\n",
       "      <td id=\"T_27287_row9_col0\" class=\"data row9 col0\" >Number of variables</td>\n",
       "      <td id=\"T_27287_row9_col1\" class=\"data row9 col1\" >459</td>\n",
       "    </tr>\n",
       "    <tr>\n",
       "      <td id=\"T_27287_row10_col0\" class=\"data row10 col0\" >Number of observations</td>\n",
       "      <td id=\"T_27287_row10_col1\" class=\"data row10 col1\" >2292</td>\n",
       "    </tr>\n",
       "    <tr>\n",
       "      <td id=\"T_27287_row11_col0\" class=\"data row11 col0\" >Specific Restrictions to Data Use</td>\n",
       "      <td id=\"T_27287_row11_col1\" class=\"data row11 col1\" >None</td>\n",
       "    </tr>\n",
       "    <tr>\n",
       "      <td id=\"T_27287_row12_col0\" class=\"data row12 col0\" >Build a Data Request</td>\n",
       "      <td id=\"T_27287_row12_col1\" class=\"data row12 col1\" > <a href=\"https://explore.ukllc.ac.uk/\" rel=\"noopener noreferrer\" target=\"_blank\">https://explore.ukllc.ac.uk/</a></td>\n",
       "    </tr>\n",
       "  </tbody>\n",
       "</table>\n"
      ],
      "text/plain": [
       "<pandas.io.formats.style.Styler at 0x2b5a735fad0>"
      ]
     },
     "execution_count": 3,
     "metadata": {},
     "output_type": "execute_result"
    }
   ],
   "source": [
    "ds.info_table()"
   ]
  },
  {
   "cell_type": "markdown",
   "id": "83c372b3",
   "metadata": {},
   "source": [
    "## 2. Version History"
   ]
  },
  {
   "cell_type": "code",
   "execution_count": 4,
   "id": "44c65ec7",
   "metadata": {
    "execution": {
     "iopub.execute_input": "2025-07-17T14:37:23.600951Z",
     "iopub.status.busy": "2025-07-17T14:37:23.600951Z",
     "iopub.status.idle": "2025-07-17T14:37:26.941339Z",
     "shell.execute_reply": "2025-07-17T14:37:26.940331Z"
    },
    "tags": [
     "remove-input"
    ]
   },
   "outputs": [
    {
     "data": {
      "text/html": [
       "<style type=\"text/css\">\n",
       "#T_8b4ac th {\n",
       "  text-align: left;\n",
       "}\n",
       "#T_8b4ac_row0_col0, #T_8b4ac_row0_col1, #T_8b4ac_row1_col0, #T_8b4ac_row1_col1, #T_8b4ac_row2_col0, #T_8b4ac_row2_col1, #T_8b4ac_row3_col0, #T_8b4ac_row3_col1, #T_8b4ac_row4_col0, #T_8b4ac_row4_col1 {\n",
       "  text-align: left;\n",
       "}\n",
       "</style>\n",
       "<table id=\"T_8b4ac\" style=\"font-size: 14px\">\n",
       "  <thead>\n",
       "    <tr>\n",
       "      <th id=\"T_8b4ac_level0_col0\" class=\"col_heading level0 col0\" >Version</th>\n",
       "      <th id=\"T_8b4ac_level0_col1\" class=\"col_heading level0 col1\" >1</th>\n",
       "    </tr>\n",
       "  </thead>\n",
       "  <tbody>\n",
       "    <tr>\n",
       "      <td id=\"T_8b4ac_row0_col0\" class=\"data row0 col0\" >Version Date</td>\n",
       "      <td id=\"T_8b4ac_row0_col1\" class=\"data row0 col1\" >01 Nov 2021</td>\n",
       "    </tr>\n",
       "    <tr>\n",
       "      <td id=\"T_8b4ac_row1_col0\" class=\"data row1 col0\" >Number of Variables</td>\n",
       "      <td id=\"T_8b4ac_row1_col1\" class=\"data row1 col1\" >459</td>\n",
       "    </tr>\n",
       "    <tr>\n",
       "      <td id=\"T_8b4ac_row2_col0\" class=\"data row2 col0\" >Number of Observations</td>\n",
       "      <td id=\"T_8b4ac_row2_col1\" class=\"data row2 col1\" >2292</td>\n",
       "    </tr>\n",
       "    <tr>\n",
       "      <td id=\"T_8b4ac_row3_col0\" class=\"data row3 col0\" >DOI</td>\n",
       "      <td id=\"T_8b4ac_row3_col1\" class=\"data row3 col1\" > <a href=\"https://doi.org/10.83126/ukllc-dataset-00088-01\" rel=\"noopener noreferrer\" target=\"_blank\">10.83126/ukllc-dataset-00088-01</a></td>\n",
       "    </tr>\n",
       "    <tr>\n",
       "      <td id=\"T_8b4ac_row4_col0\" class=\"data row4 col0\" >Change Log</td>\n",
       "      <td id=\"T_8b4ac_row4_col1\" class=\"data row4 col1\" > <a href=\"https://api.test.datacite.org/dois/10.83126/ukllc-dataset-00088-01/activities\" rel=\"noopener noreferrer\" target=\"_blank\">10.83126/ukllc-dataset-00088-01/activities</a></td>\n",
       "    </tr>\n",
       "  </tbody>\n",
       "</table>\n"
      ],
      "text/plain": [
       "<pandas.io.formats.style.Styler at 0x2b5a8e31250>"
      ]
     },
     "execution_count": 4,
     "metadata": {},
     "output_type": "execute_result"
    }
   ],
   "source": [
    "ds.version_history()"
   ]
  },
  {
   "cell_type": "markdown",
   "id": "148db410",
   "metadata": {},
   "source": [
    "## 3. Documentation"
   ]
  },
  {
   "cell_type": "code",
   "execution_count": 5,
   "id": "62dd22b0",
   "metadata": {
    "execution": {
     "iopub.execute_input": "2025-07-17T14:37:26.947340Z",
     "iopub.status.busy": "2025-07-17T14:37:26.947340Z",
     "iopub.status.idle": "2025-07-17T14:37:26.955054Z",
     "shell.execute_reply": "2025-07-17T14:37:26.954047Z"
    },
    "tags": [
     "remove-input"
    ]
   },
   "outputs": [
    {
     "data": {
      "text/markdown": [
       "We are currently building a documentation storage system which will host useful documents related to datasets and data owners. We will surface these documents on Guidebook."
      ],
      "text/plain": [
       "<IPython.core.display.Markdown object>"
      ]
     },
     "metadata": {},
     "output_type": "display_data"
    }
   ],
   "source": [
    "ds.documentation()"
   ]
  },
  {
   "cell_type": "markdown",
   "id": "431ae78f",
   "metadata": {},
   "source": [
    "## 4. Useful Syntax"
   ]
  },
  {
   "cell_type": "code",
   "execution_count": 6,
   "id": "c14193bf",
   "metadata": {
    "execution": {
     "iopub.execute_input": "2025-07-17T14:37:26.960055Z",
     "iopub.status.busy": "2025-07-17T14:37:26.960055Z",
     "iopub.status.idle": "2025-07-17T14:37:26.967063Z",
     "shell.execute_reply": "2025-07-17T14:37:26.967063Z"
    },
    "tags": [
     "remove-input"
    ]
   },
   "outputs": [
    {
     "data": {
      "text/markdown": [
       "Below we will include syntax that may be helpful to other researchers in the UK LLC TRE. For longer scripts, we will include a snippet of the code plus a link to Git where you can find the full scripts."
      ],
      "text/plain": [
       "<IPython.core.display.Markdown object>"
      ]
     },
     "metadata": {},
     "output_type": "display_data"
    }
   ],
   "source": [
    "ds.useful_syntax()"
   ]
  }
 ],
 "metadata": {
  "language_info": {
   "codemirror_mode": {
    "name": "ipython",
    "version": 3
   },
   "file_extension": ".py",
   "mimetype": "text/x-python",
   "name": "python",
   "nbconvert_exporter": "python",
   "pygments_lexer": "ipython3",
   "version": "3.12.7"
  }
 },
 "nbformat": 4,
 "nbformat_minor": 5
}
