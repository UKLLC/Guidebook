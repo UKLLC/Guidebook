{
 "cells": [
  {
   "cell_type": "markdown",
   "id": "5340cdb9",
   "metadata": {},
   "source": [
    "# Covid Questionnaire 3 G1 (ALSPAC)"
   ]
  },
  {
   "cell_type": "code",
   "execution_count": 1,
   "id": "19c81bab",
   "metadata": {
    "execution": {
     "iopub.execute_input": "2025-07-17T14:38:27.903899Z",
     "iopub.status.busy": "2025-07-17T14:38:27.903899Z",
     "iopub.status.idle": "2025-07-17T14:38:35.834712Z",
     "shell.execute_reply": "2025-07-17T14:38:35.833697Z"
    },
    "tags": [
     "remove-input"
    ]
   },
   "outputs": [
    {
     "data": {
      "text/markdown": [
       ">Last modified: 17 Jul 2025"
      ],
      "text/plain": [
       "<IPython.core.display.Markdown object>"
      ]
     },
     "metadata": {},
     "output_type": "display_data"
    }
   ],
   "source": [
    "\n",
    "import sys\n",
    "import os\n",
    "sys.path.append(os.path.abspath('../../../../scripts/'))\n",
    "from data_doc_helper import LPSDataSet as DS, last_modified\n",
    "API_KEY = os.environ['FASTAPI_KEY']\n",
    "ds = DS(\"ALSPAC\", \"wave3y\")\n",
    "last_modified()\n"
   ]
  },
  {
   "cell_type": "markdown",
   "id": "3484cb63",
   "metadata": {},
   "source": [
    "## 1. Summary"
   ]
  },
  {
   "cell_type": "code",
   "execution_count": 2,
   "id": "75a1585c",
   "metadata": {
    "execution": {
     "iopub.execute_input": "2025-07-17T14:38:35.841713Z",
     "iopub.status.busy": "2025-07-17T14:38:35.841713Z",
     "iopub.status.idle": "2025-07-17T14:38:35.849865Z",
     "shell.execute_reply": "2025-07-17T14:38:35.848855Z"
    },
    "tags": [
     "remove-input"
    ]
   },
   "outputs": [
    {
     "data": {
      "text/markdown": [
       "All participants in the G1 cohort were asked to undertake a COVID-19 antibody test and report the results back to us alongside a brief online questionnaire asking about symptoms and case status"
      ],
      "text/plain": [
       "<IPython.core.display.Markdown object>"
      ]
     },
     "metadata": {},
     "output_type": "display_data"
    }
   ],
   "source": [
    "ds.summary()"
   ]
  },
  {
   "cell_type": "code",
   "execution_count": 3,
   "id": "b6fc9d99",
   "metadata": {
    "execution": {
     "iopub.execute_input": "2025-07-17T14:38:35.853866Z",
     "iopub.status.busy": "2025-07-17T14:38:35.853866Z",
     "iopub.status.idle": "2025-07-17T14:38:37.670311Z",
     "shell.execute_reply": "2025-07-17T14:38:37.670311Z"
    },
    "tags": [
     "remove-input"
    ]
   },
   "outputs": [
    {
     "data": {
      "text/html": [
       "<style type=\"text/css\">\n",
       "#T_e0602 th {\n",
       "  text-align: left;\n",
       "}\n",
       "#T_e0602_row0_col0, #T_e0602_row0_col1, #T_e0602_row1_col0, #T_e0602_row1_col1, #T_e0602_row2_col0, #T_e0602_row2_col1, #T_e0602_row3_col0, #T_e0602_row3_col1, #T_e0602_row4_col0, #T_e0602_row4_col1, #T_e0602_row5_col0, #T_e0602_row5_col1, #T_e0602_row6_col0, #T_e0602_row6_col1, #T_e0602_row7_col0, #T_e0602_row7_col1, #T_e0602_row8_col0, #T_e0602_row8_col1, #T_e0602_row9_col0, #T_e0602_row9_col1, #T_e0602_row10_col0, #T_e0602_row10_col1, #T_e0602_row11_col0, #T_e0602_row11_col1, #T_e0602_row12_col0, #T_e0602_row12_col1 {\n",
       "  text-align: left;\n",
       "}\n",
       "</style>\n",
       "<table id=\"T_e0602\" style=\"font-size: 14px\">\n",
       "  <thead>\n",
       "    <tr>\n",
       "      <th id=\"T_e0602_level0_col0\" class=\"col_heading level0 col0\" >Dataset Descriptor</th>\n",
       "      <th id=\"T_e0602_level0_col1\" class=\"col_heading level0 col1\" >Dataset-specific Information</th>\n",
       "    </tr>\n",
       "  </thead>\n",
       "  <tbody>\n",
       "    <tr>\n",
       "      <td id=\"T_e0602_row0_col0\" class=\"data row0 col0\" >Name of Dataset in TRE</td>\n",
       "      <td id=\"T_e0602_row0_col1\" class=\"data row0 col1\" >ALSPAC_wave3y</td>\n",
       "    </tr>\n",
       "    <tr>\n",
       "      <td id=\"T_e0602_row1_col0\" class=\"data row1 col0\" >Citation (APA)</td>\n",
       "      <td id=\"T_e0602_row1_col1\" class=\"data row1 col1\" >University of Bristol, Avon Longitudinal Study of Parents & Children (ALSPAC). (2021). <i>Avon Longitudinal Study of Parents & Children (ALSPAC): Covid Questionnaire 3 G1.</i> UK Longitudinal Linkage Collaboration (UK LLC).  <a href=\"https://doi.org/10.83126/ukllc-dataset-00093-01\" rel=\"noopener noreferrer\" target=\"_blank\">https://doi.org/10.83126/ukllc-dataset-00093-01</a></td>\n",
       "    </tr>\n",
       "    <tr>\n",
       "      <td id=\"T_e0602_row2_col0\" class=\"data row2 col0\" >Download Citation</td>\n",
       "      <td id=\"T_e0602_row2_col1\" class=\"data row2 col1\" > <a href=\"https://api.test.datacite.org/application/vnd.citationstyles.csl+json/10.83126/ukllc-dataset-00093-01\" rel=\"noopener noreferrer\" target=\"_blank\">Citeproc JSON</a>&nbsp;&nbsp;&nbsp;&nbsp; <a href=\"https://api.test.datacite.org/application/x-bibtex/10.83126/ukllc-dataset-00093-01\" rel=\"noopener noreferrer\" target=\"_blank\">BibTeX</a>&nbsp;&nbsp;&nbsp;&nbsp; <a href=\"https://api.test.datacite.org/application/x-research-info-systems/10.83126/ukllc-dataset-00093-01\" rel=\"noopener noreferrer\" target=\"_blank\">RIS</a></td>\n",
       "    </tr>\n",
       "    <tr>\n",
       "      <td id=\"T_e0602_row3_col0\" class=\"data row3 col0\" >Series</td>\n",
       "      <td id=\"T_e0602_row3_col1\" class=\"data row3 col1\" > <a href=\"https://guidebook.ukllc.ac.uk/docs/lps/lps%20profiles/ALSPAC\">Avon Longitudinal Study of Parents & Children (ALSPAC)</a></td>\n",
       "    </tr>\n",
       "    <tr>\n",
       "      <td id=\"T_e0602_row4_col0\" class=\"data row4 col0\" >Owner</td>\n",
       "      <td id=\"T_e0602_row4_col1\" class=\"data row4 col1\" >University of Bristol </td>\n",
       "    </tr>\n",
       "    <tr>\n",
       "      <td id=\"T_e0602_row5_col0\" class=\"data row5 col0\" >Temporal Coverage</td>\n",
       "      <td id=\"T_e0602_row5_col1\" class=\"data row5 col1\" >10/2020 - 10/2020</td>\n",
       "    </tr>\n",
       "    <tr>\n",
       "      <td id=\"T_e0602_row6_col0\" class=\"data row6 col0\" >Keywords</td>\n",
       "      <td id=\"T_e0602_row6_col1\" class=\"data row6 col1\" ></td>\n",
       "    </tr>\n",
       "    <tr>\n",
       "      <td id=\"T_e0602_row7_col0\" class=\"data row7 col0\" >Participants Invited</td>\n",
       "      <td id=\"T_e0602_row7_col1\" class=\"data row7 col1\" >3081</td>\n",
       "    </tr>\n",
       "    <tr>\n",
       "      <td id=\"T_e0602_row8_col0\" class=\"data row8 col0\" >Participant Count</td>\n",
       "      <td id=\"T_e0602_row8_col1\" class=\"data row8 col1\" >1855</td>\n",
       "    </tr>\n",
       "    <tr>\n",
       "      <td id=\"T_e0602_row9_col0\" class=\"data row9 col0\" >Number of variables</td>\n",
       "      <td id=\"T_e0602_row9_col1\" class=\"data row9 col1\" >293</td>\n",
       "    </tr>\n",
       "    <tr>\n",
       "      <td id=\"T_e0602_row10_col0\" class=\"data row10 col0\" >Number of observations</td>\n",
       "      <td id=\"T_e0602_row10_col1\" class=\"data row10 col1\" >1880</td>\n",
       "    </tr>\n",
       "    <tr>\n",
       "      <td id=\"T_e0602_row11_col0\" class=\"data row11 col0\" >Specific Restrictions to Data Use</td>\n",
       "      <td id=\"T_e0602_row11_col1\" class=\"data row11 col1\" >None</td>\n",
       "    </tr>\n",
       "    <tr>\n",
       "      <td id=\"T_e0602_row12_col0\" class=\"data row12 col0\" >Build a Data Request</td>\n",
       "      <td id=\"T_e0602_row12_col1\" class=\"data row12 col1\" > <a href=\"https://explore.ukllc.ac.uk/\" rel=\"noopener noreferrer\" target=\"_blank\">https://explore.ukllc.ac.uk/</a></td>\n",
       "    </tr>\n",
       "  </tbody>\n",
       "</table>\n"
      ],
      "text/plain": [
       "<pandas.io.formats.style.Styler at 0x1d9ca0619d0>"
      ]
     },
     "execution_count": 3,
     "metadata": {},
     "output_type": "execute_result"
    }
   ],
   "source": [
    "ds.info_table()"
   ]
  },
  {
   "cell_type": "markdown",
   "id": "e85ffed3",
   "metadata": {},
   "source": [
    "## 2. Version History"
   ]
  },
  {
   "cell_type": "code",
   "execution_count": 4,
   "id": "cf54cc33",
   "metadata": {
    "execution": {
     "iopub.execute_input": "2025-07-17T14:38:37.673318Z",
     "iopub.status.busy": "2025-07-17T14:38:37.673318Z",
     "iopub.status.idle": "2025-07-17T14:38:40.881045Z",
     "shell.execute_reply": "2025-07-17T14:38:40.879600Z"
    },
    "tags": [
     "remove-input"
    ]
   },
   "outputs": [
    {
     "data": {
      "text/html": [
       "<style type=\"text/css\">\n",
       "#T_aeef2 th {\n",
       "  text-align: left;\n",
       "}\n",
       "#T_aeef2_row0_col0, #T_aeef2_row0_col1, #T_aeef2_row1_col0, #T_aeef2_row1_col1, #T_aeef2_row2_col0, #T_aeef2_row2_col1, #T_aeef2_row3_col0, #T_aeef2_row3_col1, #T_aeef2_row4_col0, #T_aeef2_row4_col1 {\n",
       "  text-align: left;\n",
       "}\n",
       "</style>\n",
       "<table id=\"T_aeef2\" style=\"font-size: 14px\">\n",
       "  <thead>\n",
       "    <tr>\n",
       "      <th id=\"T_aeef2_level0_col0\" class=\"col_heading level0 col0\" >Version</th>\n",
       "      <th id=\"T_aeef2_level0_col1\" class=\"col_heading level0 col1\" >1</th>\n",
       "    </tr>\n",
       "  </thead>\n",
       "  <tbody>\n",
       "    <tr>\n",
       "      <td id=\"T_aeef2_row0_col0\" class=\"data row0 col0\" >Version Date</td>\n",
       "      <td id=\"T_aeef2_row0_col1\" class=\"data row0 col1\" >01 Nov 2021</td>\n",
       "    </tr>\n",
       "    <tr>\n",
       "      <td id=\"T_aeef2_row1_col0\" class=\"data row1 col0\" >Number of Variables</td>\n",
       "      <td id=\"T_aeef2_row1_col1\" class=\"data row1 col1\" >293</td>\n",
       "    </tr>\n",
       "    <tr>\n",
       "      <td id=\"T_aeef2_row2_col0\" class=\"data row2 col0\" >Number of Observations</td>\n",
       "      <td id=\"T_aeef2_row2_col1\" class=\"data row2 col1\" >1880</td>\n",
       "    </tr>\n",
       "    <tr>\n",
       "      <td id=\"T_aeef2_row3_col0\" class=\"data row3 col0\" >DOI</td>\n",
       "      <td id=\"T_aeef2_row3_col1\" class=\"data row3 col1\" > <a href=\"https://doi.org/10.83126/ukllc-dataset-00093-01\" rel=\"noopener noreferrer\" target=\"_blank\">10.83126/ukllc-dataset-00093-01</a></td>\n",
       "    </tr>\n",
       "    <tr>\n",
       "      <td id=\"T_aeef2_row4_col0\" class=\"data row4 col0\" >Change Log</td>\n",
       "      <td id=\"T_aeef2_row4_col1\" class=\"data row4 col1\" > <a href=\"https://api.test.datacite.org/dois/10.83126/ukllc-dataset-00093-01/activities\" rel=\"noopener noreferrer\" target=\"_blank\">10.83126/ukllc-dataset-00093-01/activities</a></td>\n",
       "    </tr>\n",
       "  </tbody>\n",
       "</table>\n"
      ],
      "text/plain": [
       "<pandas.io.formats.style.Styler at 0x1d9cbafc4d0>"
      ]
     },
     "execution_count": 4,
     "metadata": {},
     "output_type": "execute_result"
    }
   ],
   "source": [
    "ds.version_history()"
   ]
  },
  {
   "cell_type": "markdown",
   "id": "08e5eff6",
   "metadata": {},
   "source": [
    "## 3. Documentation"
   ]
  },
  {
   "cell_type": "code",
   "execution_count": 5,
   "id": "b2dbcdfd",
   "metadata": {
    "execution": {
     "iopub.execute_input": "2025-07-17T14:38:40.887605Z",
     "iopub.status.busy": "2025-07-17T14:38:40.887605Z",
     "iopub.status.idle": "2025-07-17T14:38:40.895505Z",
     "shell.execute_reply": "2025-07-17T14:38:40.894485Z"
    },
    "tags": [
     "remove-input"
    ]
   },
   "outputs": [
    {
     "data": {
      "text/markdown": [
       "We are currently building a documentation storage system which will host useful documents related to datasets and data owners. We will surface these documents on Guidebook."
      ],
      "text/plain": [
       "<IPython.core.display.Markdown object>"
      ]
     },
     "metadata": {},
     "output_type": "display_data"
    }
   ],
   "source": [
    "ds.documentation()"
   ]
  },
  {
   "cell_type": "markdown",
   "id": "0a9188cd",
   "metadata": {},
   "source": [
    "## 4. Useful Syntax"
   ]
  },
  {
   "cell_type": "code",
   "execution_count": 6,
   "id": "3df1130b",
   "metadata": {
    "execution": {
     "iopub.execute_input": "2025-07-17T14:38:40.901497Z",
     "iopub.status.busy": "2025-07-17T14:38:40.901497Z",
     "iopub.status.idle": "2025-07-17T14:38:40.909337Z",
     "shell.execute_reply": "2025-07-17T14:38:40.907977Z"
    },
    "tags": [
     "remove-input"
    ]
   },
   "outputs": [
    {
     "data": {
      "text/markdown": [
       "Below we will include syntax that may be helpful to other researchers in the UK LLC TRE. For longer scripts, we will include a snippet of the code plus a link to Git where you can find the full scripts."
      ],
      "text/plain": [
       "<IPython.core.display.Markdown object>"
      ]
     },
     "metadata": {},
     "output_type": "display_data"
    }
   ],
   "source": [
    "ds.useful_syntax()"
   ]
  }
 ],
 "metadata": {
  "language_info": {
   "codemirror_mode": {
    "name": "ipython",
    "version": 3
   },
   "file_extension": ".py",
   "mimetype": "text/x-python",
   "name": "python",
   "nbconvert_exporter": "python",
   "pygments_lexer": "ipython3",
   "version": "3.12.7"
  }
 },
 "nbformat": 4,
 "nbformat_minor": 5
}
