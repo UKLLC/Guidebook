{
 "cells": [
  {
   "cell_type": "markdown",
   "id": "3070080f",
   "metadata": {},
   "source": [
    "# Covid Questionnaire 6 Mothers (ALSPAC)"
   ]
  },
  {
   "cell_type": "code",
   "execution_count": 1,
   "id": "0b658b2b",
   "metadata": {
    "execution": {
     "iopub.execute_input": "2025-07-17T14:39:49.384180Z",
     "iopub.status.busy": "2025-07-17T14:39:49.383164Z",
     "iopub.status.idle": "2025-07-17T14:39:57.571068Z",
     "shell.execute_reply": "2025-07-17T14:39:57.570047Z"
    },
    "tags": [
     "remove-input"
    ]
   },
   "outputs": [
    {
     "data": {
      "text/markdown": [
       ">Last modified: 17 Jul 2025"
      ],
      "text/plain": [
       "<IPython.core.display.Markdown object>"
      ]
     },
     "metadata": {},
     "output_type": "display_data"
    }
   ],
   "source": [
    "\n",
    "import sys\n",
    "import os\n",
    "sys.path.append(os.path.abspath('../../../../scripts/'))\n",
    "from data_doc_helper import LPSDataSet as DS, last_modified\n",
    "API_KEY = os.environ['FASTAPI_KEY']\n",
    "ds = DS(\"ALSPAC\", \"wave6m\")\n",
    "last_modified()\n"
   ]
  },
  {
   "cell_type": "markdown",
   "id": "ae04c278",
   "metadata": {},
   "source": [
    "## 1. Summary"
   ]
  },
  {
   "cell_type": "code",
   "execution_count": 2,
   "id": "788ef979",
   "metadata": {
    "execution": {
     "iopub.execute_input": "2025-07-17T14:39:57.578073Z",
     "iopub.status.busy": "2025-07-17T14:39:57.578073Z",
     "iopub.status.idle": "2025-07-17T14:39:57.587996Z",
     "shell.execute_reply": "2025-07-17T14:39:57.586974Z"
    },
    "tags": [
     "remove-input"
    ]
   },
   "outputs": [
    {
     "data": {
      "text/markdown": [
       "All participants in the G0 mothers cohort were asked to complete an online questionnaire. The questions covered topics about wellbeing and the impact of COVID on work and family life. "
      ],
      "text/plain": [
       "<IPython.core.display.Markdown object>"
      ]
     },
     "metadata": {},
     "output_type": "display_data"
    }
   ],
   "source": [
    "ds.summary()"
   ]
  },
  {
   "cell_type": "code",
   "execution_count": 3,
   "id": "ad117c49",
   "metadata": {
    "execution": {
     "iopub.execute_input": "2025-07-17T14:39:57.594773Z",
     "iopub.status.busy": "2025-07-17T14:39:57.593756Z",
     "iopub.status.idle": "2025-07-17T14:39:58.833989Z",
     "shell.execute_reply": "2025-07-17T14:39:58.833989Z"
    },
    "tags": [
     "remove-input"
    ]
   },
   "outputs": [
    {
     "data": {
      "text/html": [
       "<style type=\"text/css\">\n",
       "#T_68796 th {\n",
       "  text-align: left;\n",
       "}\n",
       "#T_68796_row0_col0, #T_68796_row0_col1, #T_68796_row1_col0, #T_68796_row1_col1, #T_68796_row2_col0, #T_68796_row2_col1, #T_68796_row3_col0, #T_68796_row3_col1, #T_68796_row4_col0, #T_68796_row4_col1, #T_68796_row5_col0, #T_68796_row5_col1, #T_68796_row6_col0, #T_68796_row6_col1, #T_68796_row7_col0, #T_68796_row7_col1, #T_68796_row8_col0, #T_68796_row8_col1, #T_68796_row9_col0, #T_68796_row9_col1, #T_68796_row10_col0, #T_68796_row10_col1, #T_68796_row11_col0, #T_68796_row11_col1, #T_68796_row12_col0, #T_68796_row12_col1 {\n",
       "  text-align: left;\n",
       "}\n",
       "</style>\n",
       "<table id=\"T_68796\" style=\"font-size: 14px\">\n",
       "  <thead>\n",
       "    <tr>\n",
       "      <th id=\"T_68796_level0_col0\" class=\"col_heading level0 col0\" >Dataset Descriptor</th>\n",
       "      <th id=\"T_68796_level0_col1\" class=\"col_heading level0 col1\" >Dataset-specific Information</th>\n",
       "    </tr>\n",
       "  </thead>\n",
       "  <tbody>\n",
       "    <tr>\n",
       "      <td id=\"T_68796_row0_col0\" class=\"data row0 col0\" >Name of Dataset in TRE</td>\n",
       "      <td id=\"T_68796_row0_col1\" class=\"data row0 col1\" >ALSPAC_wave6m</td>\n",
       "    </tr>\n",
       "    <tr>\n",
       "      <td id=\"T_68796_row1_col0\" class=\"data row1 col0\" >Citation (APA)</td>\n",
       "      <td id=\"T_68796_row1_col1\" class=\"data row1 col1\" >University of Bristol, Avon Longitudinal Study of Parents & Children (ALSPAC). (2022). <i>Avon Longitudinal Study of Parents & Children (ALSPAC): Covid Questionnaire 6 Mothers.</i> UK Longitudinal Linkage Collaboration (UK LLC).  <a href=\"https://doi.org/10.83126/ukllc-dataset-00098-01\" rel=\"noopener noreferrer\" target=\"_blank\">https://doi.org/10.83126/ukllc-dataset-00098-01</a></td>\n",
       "    </tr>\n",
       "    <tr>\n",
       "      <td id=\"T_68796_row2_col0\" class=\"data row2 col0\" >Download Citation</td>\n",
       "      <td id=\"T_68796_row2_col1\" class=\"data row2 col1\" > <a href=\"https://api.test.datacite.org/application/vnd.citationstyles.csl+json/10.83126/ukllc-dataset-00098-01\" rel=\"noopener noreferrer\" target=\"_blank\">Citeproc JSON</a>&nbsp;&nbsp;&nbsp;&nbsp; <a href=\"https://api.test.datacite.org/application/x-bibtex/10.83126/ukllc-dataset-00098-01\" rel=\"noopener noreferrer\" target=\"_blank\">BibTeX</a>&nbsp;&nbsp;&nbsp;&nbsp; <a href=\"https://api.test.datacite.org/application/x-research-info-systems/10.83126/ukllc-dataset-00098-01\" rel=\"noopener noreferrer\" target=\"_blank\">RIS</a></td>\n",
       "    </tr>\n",
       "    <tr>\n",
       "      <td id=\"T_68796_row3_col0\" class=\"data row3 col0\" >Series</td>\n",
       "      <td id=\"T_68796_row3_col1\" class=\"data row3 col1\" > <a href=\"https://guidebook.ukllc.ac.uk/docs/lps/lps%20profiles/ALSPAC\">Avon Longitudinal Study of Parents & Children (ALSPAC)</a></td>\n",
       "    </tr>\n",
       "    <tr>\n",
       "      <td id=\"T_68796_row4_col0\" class=\"data row4 col0\" >Owner</td>\n",
       "      <td id=\"T_68796_row4_col1\" class=\"data row4 col1\" >University of Bristol </td>\n",
       "    </tr>\n",
       "    <tr>\n",
       "      <td id=\"T_68796_row5_col0\" class=\"data row5 col0\" >Temporal Coverage</td>\n",
       "      <td id=\"T_68796_row5_col1\" class=\"data row5 col1\" >04/2022 - 05/2022</td>\n",
       "    </tr>\n",
       "    <tr>\n",
       "      <td id=\"T_68796_row6_col0\" class=\"data row6 col0\" >Keywords</td>\n",
       "      <td id=\"T_68796_row6_col1\" class=\"data row6 col1\" ></td>\n",
       "    </tr>\n",
       "    <tr>\n",
       "      <td id=\"T_68796_row7_col0\" class=\"data row7 col0\" >Participants Invited</td>\n",
       "      <td id=\"T_68796_row7_col1\" class=\"data row7 col1\" >3744</td>\n",
       "    </tr>\n",
       "    <tr>\n",
       "      <td id=\"T_68796_row8_col0\" class=\"data row8 col0\" >Participant Count</td>\n",
       "      <td id=\"T_68796_row8_col1\" class=\"data row8 col1\" >677</td>\n",
       "    </tr>\n",
       "    <tr>\n",
       "      <td id=\"T_68796_row9_col0\" class=\"data row9 col0\" >Number of variables</td>\n",
       "      <td id=\"T_68796_row9_col1\" class=\"data row9 col1\" >209</td>\n",
       "    </tr>\n",
       "    <tr>\n",
       "      <td id=\"T_68796_row10_col0\" class=\"data row10 col0\" >Number of observations</td>\n",
       "      <td id=\"T_68796_row10_col1\" class=\"data row10 col1\" >677</td>\n",
       "    </tr>\n",
       "    <tr>\n",
       "      <td id=\"T_68796_row11_col0\" class=\"data row11 col0\" >Specific Restrictions to Data Use</td>\n",
       "      <td id=\"T_68796_row11_col1\" class=\"data row11 col1\" >None</td>\n",
       "    </tr>\n",
       "    <tr>\n",
       "      <td id=\"T_68796_row12_col0\" class=\"data row12 col0\" >Build a Data Request</td>\n",
       "      <td id=\"T_68796_row12_col1\" class=\"data row12 col1\" > <a href=\"https://explore.ukllc.ac.uk/\" rel=\"noopener noreferrer\" target=\"_blank\">https://explore.ukllc.ac.uk/</a></td>\n",
       "    </tr>\n",
       "  </tbody>\n",
       "</table>\n"
      ],
      "text/plain": [
       "<pandas.io.formats.style.Styler at 0x1ad6f6812e0>"
      ]
     },
     "execution_count": 3,
     "metadata": {},
     "output_type": "execute_result"
    }
   ],
   "source": [
    "ds.info_table()"
   ]
  },
  {
   "cell_type": "markdown",
   "id": "8e0c0cee",
   "metadata": {},
   "source": [
    "## 2. Version History"
   ]
  },
  {
   "cell_type": "code",
   "execution_count": 4,
   "id": "82b51111",
   "metadata": {
    "execution": {
     "iopub.execute_input": "2025-07-17T14:39:58.837996Z",
     "iopub.status.busy": "2025-07-17T14:39:58.837047Z",
     "iopub.status.idle": "2025-07-17T14:40:02.581438Z",
     "shell.execute_reply": "2025-07-17T14:40:02.579422Z"
    },
    "tags": [
     "remove-input"
    ]
   },
   "outputs": [
    {
     "data": {
      "text/html": [
       "<style type=\"text/css\">\n",
       "#T_1c29d th {\n",
       "  text-align: left;\n",
       "}\n",
       "#T_1c29d_row0_col0, #T_1c29d_row0_col1, #T_1c29d_row1_col0, #T_1c29d_row1_col1, #T_1c29d_row2_col0, #T_1c29d_row2_col1, #T_1c29d_row3_col0, #T_1c29d_row3_col1, #T_1c29d_row4_col0, #T_1c29d_row4_col1 {\n",
       "  text-align: left;\n",
       "}\n",
       "</style>\n",
       "<table id=\"T_1c29d\" style=\"font-size: 14px\">\n",
       "  <thead>\n",
       "    <tr>\n",
       "      <th id=\"T_1c29d_level0_col0\" class=\"col_heading level0 col0\" >Version</th>\n",
       "      <th id=\"T_1c29d_level0_col1\" class=\"col_heading level0 col1\" >1</th>\n",
       "    </tr>\n",
       "  </thead>\n",
       "  <tbody>\n",
       "    <tr>\n",
       "      <td id=\"T_1c29d_row0_col0\" class=\"data row0 col0\" >Version Date</td>\n",
       "      <td id=\"T_1c29d_row0_col1\" class=\"data row0 col1\" >22 Nov 2022</td>\n",
       "    </tr>\n",
       "    <tr>\n",
       "      <td id=\"T_1c29d_row1_col0\" class=\"data row1 col0\" >Number of Variables</td>\n",
       "      <td id=\"T_1c29d_row1_col1\" class=\"data row1 col1\" >209</td>\n",
       "    </tr>\n",
       "    <tr>\n",
       "      <td id=\"T_1c29d_row2_col0\" class=\"data row2 col0\" >Number of Observations</td>\n",
       "      <td id=\"T_1c29d_row2_col1\" class=\"data row2 col1\" >677</td>\n",
       "    </tr>\n",
       "    <tr>\n",
       "      <td id=\"T_1c29d_row3_col0\" class=\"data row3 col0\" >DOI</td>\n",
       "      <td id=\"T_1c29d_row3_col1\" class=\"data row3 col1\" > <a href=\"https://doi.org/10.83126/ukllc-dataset-00098-01\" rel=\"noopener noreferrer\" target=\"_blank\">10.83126/ukllc-dataset-00098-01</a></td>\n",
       "    </tr>\n",
       "    <tr>\n",
       "      <td id=\"T_1c29d_row4_col0\" class=\"data row4 col0\" >Change Log</td>\n",
       "      <td id=\"T_1c29d_row4_col1\" class=\"data row4 col1\" > <a href=\"https://api.test.datacite.org/dois/10.83126/ukllc-dataset-00098-01/activities\" rel=\"noopener noreferrer\" target=\"_blank\">10.83126/ukllc-dataset-00098-01/activities</a></td>\n",
       "    </tr>\n",
       "  </tbody>\n",
       "</table>\n"
      ],
      "text/plain": [
       "<pandas.io.formats.style.Styler at 0x1ad7113d4c0>"
      ]
     },
     "execution_count": 4,
     "metadata": {},
     "output_type": "execute_result"
    }
   ],
   "source": [
    "ds.version_history()"
   ]
  },
  {
   "cell_type": "markdown",
   "id": "efc862ab",
   "metadata": {},
   "source": [
    "## 3. Documentation"
   ]
  },
  {
   "cell_type": "code",
   "execution_count": 5,
   "id": "6b7675e0",
   "metadata": {
    "execution": {
     "iopub.execute_input": "2025-07-17T14:40:02.589442Z",
     "iopub.status.busy": "2025-07-17T14:40:02.589442Z",
     "iopub.status.idle": "2025-07-17T14:40:02.597394Z",
     "shell.execute_reply": "2025-07-17T14:40:02.595372Z"
    },
    "tags": [
     "remove-input"
    ]
   },
   "outputs": [
    {
     "data": {
      "text/markdown": [
       "We are currently building a documentation storage system which will host useful documents related to datasets and data owners. We will surface these documents on Guidebook."
      ],
      "text/plain": [
       "<IPython.core.display.Markdown object>"
      ]
     },
     "metadata": {},
     "output_type": "display_data"
    }
   ],
   "source": [
    "ds.documentation()"
   ]
  },
  {
   "cell_type": "markdown",
   "id": "c7ca2a22",
   "metadata": {},
   "source": [
    "## 4. Useful Syntax"
   ]
  },
  {
   "cell_type": "code",
   "execution_count": 6,
   "id": "3b198285",
   "metadata": {
    "execution": {
     "iopub.execute_input": "2025-07-17T14:40:02.602394Z",
     "iopub.status.busy": "2025-07-17T14:40:02.602394Z",
     "iopub.status.idle": "2025-07-17T14:40:02.609413Z",
     "shell.execute_reply": "2025-07-17T14:40:02.608391Z"
    },
    "tags": [
     "remove-input"
    ]
   },
   "outputs": [
    {
     "data": {
      "text/markdown": [
       "Below we will include syntax that may be helpful to other researchers in the UK LLC TRE. For longer scripts, we will include a snippet of the code plus a link to Git where you can find the full scripts."
      ],
      "text/plain": [
       "<IPython.core.display.Markdown object>"
      ]
     },
     "metadata": {},
     "output_type": "display_data"
    }
   ],
   "source": [
    "ds.useful_syntax()"
   ]
  }
 ],
 "metadata": {
  "language_info": {
   "codemirror_mode": {
    "name": "ipython",
    "version": 3
   },
   "file_extension": ".py",
   "mimetype": "text/x-python",
   "name": "python",
   "nbconvert_exporter": "python",
   "pygments_lexer": "ipython3",
   "version": "3.12.7"
  }
 },
 "nbformat": 4,
 "nbformat_minor": 5
}
