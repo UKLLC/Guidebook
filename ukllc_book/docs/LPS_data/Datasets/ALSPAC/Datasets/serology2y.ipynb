{
 "cells": [
  {
   "cell_type": "markdown",
   "id": "849f961f",
   "metadata": {},
   "source": [
    "# Serology 2 G1 (ALSPAC)"
   ]
  },
  {
   "cell_type": "code",
   "execution_count": 1,
   "id": "93ce1ad5",
   "metadata": {
    "execution": {
     "iopub.execute_input": "2025-07-17T14:36:26.366574Z",
     "iopub.status.busy": "2025-07-17T14:36:26.366574Z",
     "iopub.status.idle": "2025-07-17T14:36:35.110420Z",
     "shell.execute_reply": "2025-07-17T14:36:35.109909Z"
    },
    "tags": [
     "remove-input"
    ]
   },
   "outputs": [
    {
     "data": {
      "text/markdown": [
       ">Last modified: 17 Jul 2025"
      ],
      "text/plain": [
       "<IPython.core.display.Markdown object>"
      ]
     },
     "metadata": {},
     "output_type": "display_data"
    }
   ],
   "source": [
    "\n",
    "import sys\n",
    "import os\n",
    "sys.path.append(os.path.abspath('../../../../scripts/'))\n",
    "from data_doc_helper import LPSDataSet as DS, last_modified\n",
    "API_KEY = os.environ['FASTAPI_KEY']\n",
    "ds = DS(\"ALSPAC\", \"serology2y\")\n",
    "last_modified()\n"
   ]
  },
  {
   "cell_type": "markdown",
   "id": "ebdc66b6",
   "metadata": {},
   "source": [
    "## 1. Summary"
   ]
  },
  {
   "cell_type": "code",
   "execution_count": 2,
   "id": "4b24678d",
   "metadata": {
    "execution": {
     "iopub.execute_input": "2025-07-17T14:36:35.117958Z",
     "iopub.status.busy": "2025-07-17T14:36:35.116961Z",
     "iopub.status.idle": "2025-07-17T14:36:35.126484Z",
     "shell.execute_reply": "2025-07-17T14:36:35.124958Z"
    },
    "tags": [
     "remove-input"
    ]
   },
   "outputs": [
    {
     "data": {
      "text/markdown": [
       "All relevant participants in the G1 cohort were asked to consent to a COVID-19 antibody test that was sent through the post. Participants were asked to take a small blood sample and return this for assay."
      ],
      "text/plain": [
       "<IPython.core.display.Markdown object>"
      ]
     },
     "metadata": {},
     "output_type": "display_data"
    }
   ],
   "source": [
    "ds.summary()"
   ]
  },
  {
   "cell_type": "code",
   "execution_count": 3,
   "id": "58e8310e",
   "metadata": {
    "execution": {
     "iopub.execute_input": "2025-07-17T14:36:35.133702Z",
     "iopub.status.busy": "2025-07-17T14:36:35.132703Z",
     "iopub.status.idle": "2025-07-17T14:36:36.066985Z",
     "shell.execute_reply": "2025-07-17T14:36:36.064971Z"
    },
    "tags": [
     "remove-input"
    ]
   },
   "outputs": [
    {
     "data": {
      "text/html": [
       "<style type=\"text/css\">\n",
       "#T_22b50 th {\n",
       "  text-align: left;\n",
       "}\n",
       "#T_22b50_row0_col0, #T_22b50_row0_col1, #T_22b50_row1_col0, #T_22b50_row1_col1, #T_22b50_row2_col0, #T_22b50_row2_col1, #T_22b50_row3_col0, #T_22b50_row3_col1, #T_22b50_row4_col0, #T_22b50_row4_col1, #T_22b50_row5_col0, #T_22b50_row5_col1, #T_22b50_row6_col0, #T_22b50_row6_col1, #T_22b50_row7_col0, #T_22b50_row7_col1, #T_22b50_row8_col0, #T_22b50_row8_col1, #T_22b50_row9_col0, #T_22b50_row9_col1, #T_22b50_row10_col0, #T_22b50_row10_col1, #T_22b50_row11_col0, #T_22b50_row11_col1, #T_22b50_row12_col0, #T_22b50_row12_col1 {\n",
       "  text-align: left;\n",
       "}\n",
       "</style>\n",
       "<table id=\"T_22b50\" style=\"font-size: 14px\">\n",
       "  <thead>\n",
       "    <tr>\n",
       "      <th id=\"T_22b50_level0_col0\" class=\"col_heading level0 col0\" >Dataset Descriptor</th>\n",
       "      <th id=\"T_22b50_level0_col1\" class=\"col_heading level0 col1\" >Dataset-specific Information</th>\n",
       "    </tr>\n",
       "  </thead>\n",
       "  <tbody>\n",
       "    <tr>\n",
       "      <td id=\"T_22b50_row0_col0\" class=\"data row0 col0\" >Name of Dataset in TRE</td>\n",
       "      <td id=\"T_22b50_row0_col1\" class=\"data row0 col1\" >ALSPAC_serology2y</td>\n",
       "    </tr>\n",
       "    <tr>\n",
       "      <td id=\"T_22b50_row1_col0\" class=\"data row1 col0\" >Citation (APA)</td>\n",
       "      <td id=\"T_22b50_row1_col1\" class=\"data row1 col1\" >University of Bristol, Avon Longitudinal Study of Parents & Children (ALSPAC). (2022). <i>Avon Longitudinal Study of Parents & Children (ALSPAC): Serology 2 G1.</i> UK Longitudinal Linkage Collaboration (UK LLC).  <a href=\"https://doi.org/10.83126/ukllc-dataset-00085-01\" rel=\"noopener noreferrer\" target=\"_blank\">https://doi.org/10.83126/ukllc-dataset-00085-01</a></td>\n",
       "    </tr>\n",
       "    <tr>\n",
       "      <td id=\"T_22b50_row2_col0\" class=\"data row2 col0\" >Download Citation</td>\n",
       "      <td id=\"T_22b50_row2_col1\" class=\"data row2 col1\" > <a href=\"https://api.test.datacite.org/application/vnd.citationstyles.csl+json/10.83126/ukllc-dataset-00085-01\" rel=\"noopener noreferrer\" target=\"_blank\">Citeproc JSON</a>&nbsp;&nbsp;&nbsp;&nbsp; <a href=\"https://api.test.datacite.org/application/x-bibtex/10.83126/ukllc-dataset-00085-01\" rel=\"noopener noreferrer\" target=\"_blank\">BibTeX</a>&nbsp;&nbsp;&nbsp;&nbsp; <a href=\"https://api.test.datacite.org/application/x-research-info-systems/10.83126/ukllc-dataset-00085-01\" rel=\"noopener noreferrer\" target=\"_blank\">RIS</a></td>\n",
       "    </tr>\n",
       "    <tr>\n",
       "      <td id=\"T_22b50_row3_col0\" class=\"data row3 col0\" >Series</td>\n",
       "      <td id=\"T_22b50_row3_col1\" class=\"data row3 col1\" > <a href=\"https://guidebook.ukllc.ac.uk/docs/lps/lps%20profiles/ALSPAC\">Avon Longitudinal Study of Parents & Children (ALSPAC)</a></td>\n",
       "    </tr>\n",
       "    <tr>\n",
       "      <td id=\"T_22b50_row4_col0\" class=\"data row4 col0\" >Owner</td>\n",
       "      <td id=\"T_22b50_row4_col1\" class=\"data row4 col1\" >University of Bristol </td>\n",
       "    </tr>\n",
       "    <tr>\n",
       "      <td id=\"T_22b50_row5_col0\" class=\"data row5 col0\" >Temporal Coverage</td>\n",
       "      <td id=\"T_22b50_row5_col1\" class=\"data row5 col1\" >05/2022 - 06/2022</td>\n",
       "    </tr>\n",
       "    <tr>\n",
       "      <td id=\"T_22b50_row6_col0\" class=\"data row6 col0\" >Keywords</td>\n",
       "      <td id=\"T_22b50_row6_col1\" class=\"data row6 col1\" ></td>\n",
       "    </tr>\n",
       "    <tr>\n",
       "      <td id=\"T_22b50_row7_col0\" class=\"data row7 col0\" >Participants Invited</td>\n",
       "      <td id=\"T_22b50_row7_col1\" class=\"data row7 col1\" >4557</td>\n",
       "    </tr>\n",
       "    <tr>\n",
       "      <td id=\"T_22b50_row8_col0\" class=\"data row8 col0\" >Participant Count</td>\n",
       "      <td id=\"T_22b50_row8_col1\" class=\"data row8 col1\" >5708</td>\n",
       "    </tr>\n",
       "    <tr>\n",
       "      <td id=\"T_22b50_row9_col0\" class=\"data row9 col0\" >Number of variables</td>\n",
       "      <td id=\"T_22b50_row9_col1\" class=\"data row9 col1\" >18</td>\n",
       "    </tr>\n",
       "    <tr>\n",
       "      <td id=\"T_22b50_row10_col0\" class=\"data row10 col0\" >Number of observations</td>\n",
       "      <td id=\"T_22b50_row10_col1\" class=\"data row10 col1\" >5710</td>\n",
       "    </tr>\n",
       "    <tr>\n",
       "      <td id=\"T_22b50_row11_col0\" class=\"data row11 col0\" >Specific Restrictions to Data Use</td>\n",
       "      <td id=\"T_22b50_row11_col1\" class=\"data row11 col1\" >None</td>\n",
       "    </tr>\n",
       "    <tr>\n",
       "      <td id=\"T_22b50_row12_col0\" class=\"data row12 col0\" >Build a Data Request</td>\n",
       "      <td id=\"T_22b50_row12_col1\" class=\"data row12 col1\" > <a href=\"https://explore.ukllc.ac.uk/\" rel=\"noopener noreferrer\" target=\"_blank\">https://explore.ukllc.ac.uk/</a></td>\n",
       "    </tr>\n",
       "  </tbody>\n",
       "</table>\n"
      ],
      "text/plain": [
       "<pandas.io.formats.style.Styler at 0x18c8ffd0470>"
      ]
     },
     "execution_count": 3,
     "metadata": {},
     "output_type": "execute_result"
    }
   ],
   "source": [
    "ds.info_table()"
   ]
  },
  {
   "cell_type": "markdown",
   "id": "bd002caa",
   "metadata": {},
   "source": [
    "## 2. Version History"
   ]
  },
  {
   "cell_type": "code",
   "execution_count": 4,
   "id": "3985fbaa",
   "metadata": {
    "execution": {
     "iopub.execute_input": "2025-07-17T14:36:36.070989Z",
     "iopub.status.busy": "2025-07-17T14:36:36.070989Z",
     "iopub.status.idle": "2025-07-17T14:36:38.819713Z",
     "shell.execute_reply": "2025-07-17T14:36:38.818699Z"
    },
    "tags": [
     "remove-input"
    ]
   },
   "outputs": [
    {
     "data": {
      "text/html": [
       "<style type=\"text/css\">\n",
       "#T_e99de th {\n",
       "  text-align: left;\n",
       "}\n",
       "#T_e99de_row0_col0, #T_e99de_row0_col1, #T_e99de_row1_col0, #T_e99de_row1_col1, #T_e99de_row2_col0, #T_e99de_row2_col1, #T_e99de_row3_col0, #T_e99de_row3_col1, #T_e99de_row4_col0, #T_e99de_row4_col1 {\n",
       "  text-align: left;\n",
       "}\n",
       "</style>\n",
       "<table id=\"T_e99de\" style=\"font-size: 14px\">\n",
       "  <thead>\n",
       "    <tr>\n",
       "      <th id=\"T_e99de_level0_col0\" class=\"col_heading level0 col0\" >Version</th>\n",
       "      <th id=\"T_e99de_level0_col1\" class=\"col_heading level0 col1\" >1</th>\n",
       "    </tr>\n",
       "  </thead>\n",
       "  <tbody>\n",
       "    <tr>\n",
       "      <td id=\"T_e99de_row0_col0\" class=\"data row0 col0\" >Version Date</td>\n",
       "      <td id=\"T_e99de_row0_col1\" class=\"data row0 col1\" >22 Nov 2022</td>\n",
       "    </tr>\n",
       "    <tr>\n",
       "      <td id=\"T_e99de_row1_col0\" class=\"data row1 col0\" >Number of Variables</td>\n",
       "      <td id=\"T_e99de_row1_col1\" class=\"data row1 col1\" >18</td>\n",
       "    </tr>\n",
       "    <tr>\n",
       "      <td id=\"T_e99de_row2_col0\" class=\"data row2 col0\" >Number of Observations</td>\n",
       "      <td id=\"T_e99de_row2_col1\" class=\"data row2 col1\" >5710</td>\n",
       "    </tr>\n",
       "    <tr>\n",
       "      <td id=\"T_e99de_row3_col0\" class=\"data row3 col0\" >DOI</td>\n",
       "      <td id=\"T_e99de_row3_col1\" class=\"data row3 col1\" > <a href=\"https://doi.org/10.83126/ukllc-dataset-00085-01\" rel=\"noopener noreferrer\" target=\"_blank\">10.83126/ukllc-dataset-00085-01</a></td>\n",
       "    </tr>\n",
       "    <tr>\n",
       "      <td id=\"T_e99de_row4_col0\" class=\"data row4 col0\" >Change Log</td>\n",
       "      <td id=\"T_e99de_row4_col1\" class=\"data row4 col1\" > <a href=\"https://api.test.datacite.org/dois/10.83126/ukllc-dataset-00085-01/activities\" rel=\"noopener noreferrer\" target=\"_blank\">10.83126/ukllc-dataset-00085-01/activities</a></td>\n",
       "    </tr>\n",
       "  </tbody>\n",
       "</table>\n"
      ],
      "text/plain": [
       "<pandas.io.formats.style.Styler at 0x18c93f88890>"
      ]
     },
     "execution_count": 4,
     "metadata": {},
     "output_type": "execute_result"
    }
   ],
   "source": [
    "ds.version_history()"
   ]
  },
  {
   "cell_type": "markdown",
   "id": "99965865",
   "metadata": {},
   "source": [
    "## 3. Documentation"
   ]
  },
  {
   "cell_type": "code",
   "execution_count": 5,
   "id": "6918ff96",
   "metadata": {
    "execution": {
     "iopub.execute_input": "2025-07-17T14:36:38.825716Z",
     "iopub.status.busy": "2025-07-17T14:36:38.825716Z",
     "iopub.status.idle": "2025-07-17T14:36:38.833954Z",
     "shell.execute_reply": "2025-07-17T14:36:38.833269Z"
    },
    "tags": [
     "remove-input"
    ]
   },
   "outputs": [
    {
     "data": {
      "text/markdown": [
       "We are currently building a documentation storage system which will host useful documents related to datasets and data owners. We will surface these documents on Guidebook."
      ],
      "text/plain": [
       "<IPython.core.display.Markdown object>"
      ]
     },
     "metadata": {},
     "output_type": "display_data"
    }
   ],
   "source": [
    "ds.documentation()"
   ]
  },
  {
   "cell_type": "markdown",
   "id": "84846fc5",
   "metadata": {},
   "source": [
    "## 4. Useful Syntax"
   ]
  },
  {
   "cell_type": "code",
   "execution_count": 6,
   "id": "00bd641f",
   "metadata": {
    "execution": {
     "iopub.execute_input": "2025-07-17T14:36:38.840562Z",
     "iopub.status.busy": "2025-07-17T14:36:38.840562Z",
     "iopub.status.idle": "2025-07-17T14:36:38.848044Z",
     "shell.execute_reply": "2025-07-17T14:36:38.847532Z"
    },
    "tags": [
     "remove-input"
    ]
   },
   "outputs": [
    {
     "data": {
      "text/markdown": [
       "Below we will include syntax that may be helpful to other researchers in the UK LLC TRE. For longer scripts, we will include a snippet of the code plus a link to Git where you can find the full scripts."
      ],
      "text/plain": [
       "<IPython.core.display.Markdown object>"
      ]
     },
     "metadata": {},
     "output_type": "display_data"
    }
   ],
   "source": [
    "ds.useful_syntax()"
   ]
  }
 ],
 "metadata": {
  "language_info": {
   "codemirror_mode": {
    "name": "ipython",
    "version": 3
   },
   "file_extension": ".py",
   "mimetype": "text/x-python",
   "name": "python",
   "nbconvert_exporter": "python",
   "pygments_lexer": "ipython3",
   "version": "3.12.7"
  }
 },
 "nbformat": 4,
 "nbformat_minor": 5
}
