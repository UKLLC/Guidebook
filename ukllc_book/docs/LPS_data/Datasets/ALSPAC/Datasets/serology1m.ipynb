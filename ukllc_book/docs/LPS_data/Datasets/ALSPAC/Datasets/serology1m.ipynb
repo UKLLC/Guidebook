{
 "cells": [
  {
   "cell_type": "markdown",
   "id": "2c62a5c9",
   "metadata": {},
   "source": [
    "# Serology 1 Mothers (ALSPAC)"
   ]
  },
  {
   "cell_type": "code",
   "execution_count": 1,
   "id": "10984524",
   "metadata": {
    "execution": {
     "iopub.execute_input": "2025-07-28T17:40:10.274278Z",
     "iopub.status.busy": "2025-07-28T17:40:10.274278Z",
     "iopub.status.idle": "2025-07-28T17:40:22.329431Z",
     "shell.execute_reply": "2025-07-28T17:40:22.329431Z"
    },
    "tags": [
     "remove-input"
    ]
   },
   "outputs": [
    {
     "data": {
      "text/markdown": [
       ">Last modified: 28 Jul 2025"
      ],
      "text/plain": [
       "<IPython.core.display.Markdown object>"
      ]
     },
     "metadata": {},
     "output_type": "display_data"
    }
   ],
   "source": [
    "\n",
    "import sys\n",
    "import os\n",
    "sys.path.append(os.path.abspath('../../../../scripts/'))\n",
    "from data_doc_helper import LPSDataSet as DS, last_modified\n",
    "API_KEY = os.environ['FASTAPI_KEY']\n",
    "ds = DS(\"ALSPAC\", \"serology1m\")\n",
    "last_modified()\n"
   ]
  },
  {
   "cell_type": "markdown",
   "id": "b2233b70",
   "metadata": {},
   "source": [
    "## 1. Summary"
   ]
  },
  {
   "cell_type": "code",
   "execution_count": 2,
   "id": "958de953",
   "metadata": {
    "execution": {
     "iopub.execute_input": "2025-07-28T17:40:22.332814Z",
     "iopub.status.busy": "2025-07-28T17:40:22.332814Z",
     "iopub.status.idle": "2025-07-28T17:40:22.335873Z",
     "shell.execute_reply": "2025-07-28T17:40:22.335873Z"
    },
    "tags": [
     "remove-input"
    ]
   },
   "outputs": [
    {
     "data": {
      "text/markdown": [
       "All relevant participants in the G0 mothers cohort were asked to consent to a COVID-19 antibody test that was sent through the post. Participants were asked to take a small blood sample and return this for assay."
      ],
      "text/plain": [
       "<IPython.core.display.Markdown object>"
      ]
     },
     "metadata": {},
     "output_type": "display_data"
    }
   ],
   "source": [
    "ds.summary()"
   ]
  },
  {
   "cell_type": "code",
   "execution_count": 3,
   "id": "e360fc8a",
   "metadata": {
    "execution": {
     "iopub.execute_input": "2025-07-28T17:40:22.337878Z",
     "iopub.status.busy": "2025-07-28T17:40:22.337878Z",
     "iopub.status.idle": "2025-07-28T17:40:22.897905Z",
     "shell.execute_reply": "2025-07-28T17:40:22.897905Z"
    },
    "tags": [
     "remove-input"
    ]
   },
   "outputs": [
    {
     "data": {
      "text/html": [
       "<style type=\"text/css\">\n",
       "#T_e88fb th {\n",
       "  text-align: left;\n",
       "}\n",
       "#T_e88fb_row0_col0, #T_e88fb_row0_col1, #T_e88fb_row1_col0, #T_e88fb_row1_col1, #T_e88fb_row2_col0, #T_e88fb_row2_col1, #T_e88fb_row3_col0, #T_e88fb_row3_col1, #T_e88fb_row4_col0, #T_e88fb_row4_col1, #T_e88fb_row5_col0, #T_e88fb_row5_col1, #T_e88fb_row6_col0, #T_e88fb_row6_col1, #T_e88fb_row7_col0, #T_e88fb_row7_col1, #T_e88fb_row8_col0, #T_e88fb_row8_col1, #T_e88fb_row9_col0, #T_e88fb_row9_col1, #T_e88fb_row10_col0, #T_e88fb_row10_col1, #T_e88fb_row11_col0, #T_e88fb_row11_col1, #T_e88fb_row12_col0, #T_e88fb_row12_col1 {\n",
       "  text-align: left;\n",
       "}\n",
       "</style>\n",
       "<table id=\"T_e88fb\" style=\"font-size: 14px\">\n",
       "  <thead>\n",
       "    <tr>\n",
       "      <th id=\"T_e88fb_level0_col0\" class=\"col_heading level0 col0\" >Dataset Descriptor</th>\n",
       "      <th id=\"T_e88fb_level0_col1\" class=\"col_heading level0 col1\" >Dataset-specific Information</th>\n",
       "    </tr>\n",
       "  </thead>\n",
       "  <tbody>\n",
       "    <tr>\n",
       "      <td id=\"T_e88fb_row0_col0\" class=\"data row0 col0\" >Name of Dataset in TRE</td>\n",
       "      <td id=\"T_e88fb_row0_col1\" class=\"data row0 col1\" >ALSPAC_serology1m</td>\n",
       "    </tr>\n",
       "    <tr>\n",
       "      <td id=\"T_e88fb_row1_col0\" class=\"data row1 col0\" >Citation (APA)</td>\n",
       "      <td id=\"T_e88fb_row1_col1\" class=\"data row1 col1\" >University of Bristol, Avon Longitudinal Study of Parents & Children (ALSPAC). (2022). <i>Avon Longitudinal Study of Parents & Children (ALSPAC): Serology 1 Mothers.</i> UK Longitudinal Linkage Collaboration (UK LLC).  <a href=\"https://doi.org/10.71760/ukllc-dataset-00001-01\" rel=\"noopener noreferrer\" target=\"_blank\">https://doi.org/10.71760/ukllc-dataset-00001-01</a></td>\n",
       "    </tr>\n",
       "    <tr>\n",
       "      <td id=\"T_e88fb_row2_col0\" class=\"data row2 col0\" >Download Citation</td>\n",
       "      <td id=\"T_e88fb_row2_col1\" class=\"data row2 col1\" > <a href=\"https://api.datacite.org/application/vnd.citationstyles.csl+json/10.71760/ukllc-dataset-00001-01\" rel=\"noopener noreferrer\" target=\"_blank\">Citeproc JSON</a>&nbsp;&nbsp;&nbsp;&nbsp; <a href=\"https://api.datacite.org/application/x-bibtex/10.71760/ukllc-dataset-00001-01\" rel=\"noopener noreferrer\" target=\"_blank\">BibTeX</a>&nbsp;&nbsp;&nbsp;&nbsp; <a href=\"https://api.datacite.org/application/x-research-info-systems/10.71760/ukllc-dataset-00001-01\" rel=\"noopener noreferrer\" target=\"_blank\">RIS</a></td>\n",
       "    </tr>\n",
       "    <tr>\n",
       "      <td id=\"T_e88fb_row3_col0\" class=\"data row3 col0\" >Series</td>\n",
       "      <td id=\"T_e88fb_row3_col1\" class=\"data row3 col1\" > <a href=\"https://guidebook.ukllc.ac.uk/docs/lps_data/lps%20profiles/ALSPAC\">Avon Longitudinal Study of Parents & Children (ALSPAC)</a></td>\n",
       "    </tr>\n",
       "    <tr>\n",
       "      <td id=\"T_e88fb_row4_col0\" class=\"data row4 col0\" >Owner</td>\n",
       "      <td id=\"T_e88fb_row4_col1\" class=\"data row4 col1\" >University of Bristol </td>\n",
       "    </tr>\n",
       "    <tr>\n",
       "      <td id=\"T_e88fb_row5_col0\" class=\"data row5 col0\" >Temporal Coverage</td>\n",
       "      <td id=\"T_e88fb_row5_col1\" class=\"data row5 col1\" >04/2021 - 06/2022</td>\n",
       "    </tr>\n",
       "    <tr>\n",
       "      <td id=\"T_e88fb_row6_col0\" class=\"data row6 col0\" >Keywords</td>\n",
       "      <td id=\"T_e88fb_row6_col1\" class=\"data row6 col1\" ></td>\n",
       "    </tr>\n",
       "    <tr>\n",
       "      <td id=\"T_e88fb_row7_col0\" class=\"data row7 col0\" >Participants Invited</td>\n",
       "      <td id=\"T_e88fb_row7_col1\" class=\"data row7 col1\" >3299</td>\n",
       "    </tr>\n",
       "    <tr>\n",
       "      <td id=\"T_e88fb_row8_col0\" class=\"data row8 col0\" >Participant Count</td>\n",
       "      <td id=\"T_e88fb_row8_col1\" class=\"data row8 col1\" >679</td>\n",
       "    </tr>\n",
       "    <tr>\n",
       "      <td id=\"T_e88fb_row9_col0\" class=\"data row9 col0\" >Number of variables</td>\n",
       "      <td id=\"T_e88fb_row9_col1\" class=\"data row9 col1\" >20</td>\n",
       "    </tr>\n",
       "    <tr>\n",
       "      <td id=\"T_e88fb_row10_col0\" class=\"data row10 col0\" >Number of observations</td>\n",
       "      <td id=\"T_e88fb_row10_col1\" class=\"data row10 col1\" >4978</td>\n",
       "    </tr>\n",
       "    <tr>\n",
       "      <td id=\"T_e88fb_row11_col0\" class=\"data row11 col0\" >Specific Restrictions to Data Use</td>\n",
       "      <td id=\"T_e88fb_row11_col1\" class=\"data row11 col1\" >None</td>\n",
       "    </tr>\n",
       "    <tr>\n",
       "      <td id=\"T_e88fb_row12_col0\" class=\"data row12 col0\" >Build a Data Request</td>\n",
       "      <td id=\"T_e88fb_row12_col1\" class=\"data row12 col1\" > <a href=\"https://explore.ukllc.ac.uk/\" rel=\"noopener noreferrer\" target=\"_blank\">https://explore.ukllc.ac.uk/</a></td>\n",
       "    </tr>\n",
       "  </tbody>\n",
       "</table>\n"
      ],
      "text/plain": [
       "<pandas.io.formats.style.Styler at 0x26161493410>"
      ]
     },
     "execution_count": 3,
     "metadata": {},
     "output_type": "execute_result"
    }
   ],
   "source": [
    "ds.info_table()"
   ]
  },
  {
   "cell_type": "markdown",
   "id": "c2d2cb0c",
   "metadata": {},
   "source": [
    "## 2. Version History"
   ]
  },
  {
   "cell_type": "code",
   "execution_count": 4,
   "id": "5209dddc",
   "metadata": {
    "execution": {
     "iopub.execute_input": "2025-07-28T17:40:22.900831Z",
     "iopub.status.busy": "2025-07-28T17:40:22.899810Z",
     "iopub.status.idle": "2025-07-28T17:40:27.886096Z",
     "shell.execute_reply": "2025-07-28T17:40:27.884791Z"
    },
    "tags": [
     "remove-input"
    ]
   },
   "outputs": [
    {
     "data": {
      "text/html": [
       "<style type=\"text/css\">\n",
       "#T_08721 th {\n",
       "  text-align: left;\n",
       "}\n",
       "#T_08721_row0_col0, #T_08721_row0_col1, #T_08721_row1_col0, #T_08721_row1_col1, #T_08721_row2_col0, #T_08721_row2_col1, #T_08721_row3_col0, #T_08721_row3_col1, #T_08721_row4_col0, #T_08721_row4_col1 {\n",
       "  text-align: left;\n",
       "}\n",
       "</style>\n",
       "<table id=\"T_08721\" style=\"font-size: 14px\">\n",
       "  <thead>\n",
       "    <tr>\n",
       "      <th id=\"T_08721_level0_col0\" class=\"col_heading level0 col0\" >Version</th>\n",
       "      <th id=\"T_08721_level0_col1\" class=\"col_heading level0 col1\" >1</th>\n",
       "    </tr>\n",
       "  </thead>\n",
       "  <tbody>\n",
       "    <tr>\n",
       "      <td id=\"T_08721_row0_col0\" class=\"data row0 col0\" >Version Date</td>\n",
       "      <td id=\"T_08721_row0_col1\" class=\"data row0 col1\" >31 May 2022</td>\n",
       "    </tr>\n",
       "    <tr>\n",
       "      <td id=\"T_08721_row1_col0\" class=\"data row1 col0\" >Number of Variables</td>\n",
       "      <td id=\"T_08721_row1_col1\" class=\"data row1 col1\" >20</td>\n",
       "    </tr>\n",
       "    <tr>\n",
       "      <td id=\"T_08721_row2_col0\" class=\"data row2 col0\" >Number of Observations</td>\n",
       "      <td id=\"T_08721_row2_col1\" class=\"data row2 col1\" >4978</td>\n",
       "    </tr>\n",
       "    <tr>\n",
       "      <td id=\"T_08721_row3_col0\" class=\"data row3 col0\" >DOI</td>\n",
       "      <td id=\"T_08721_row3_col1\" class=\"data row3 col1\" > <a href=\"https://doi.org/10.71760/ukllc-dataset-00001-01\" rel=\"noopener noreferrer\" target=\"_blank\">10.71760/ukllc-dataset-00001-01</a></td>\n",
       "    </tr>\n",
       "    <tr>\n",
       "      <td id=\"T_08721_row4_col0\" class=\"data row4 col0\" >Change Log</td>\n",
       "      <td id=\"T_08721_row4_col1\" class=\"data row4 col1\" > <a href=\"https://api.test.datacite.org/dois/10.71760/ukllc-dataset-00001-01/activities\" rel=\"noopener noreferrer\" target=\"_blank\">10.71760/ukllc-dataset-00001-01/activities</a></td>\n",
       "    </tr>\n",
       "  </tbody>\n",
       "</table>\n"
      ],
      "text/plain": [
       "<pandas.io.formats.style.Styler at 0x261631acc80>"
      ]
     },
     "execution_count": 4,
     "metadata": {},
     "output_type": "execute_result"
    }
   ],
   "source": [
    "ds.version_history()"
   ]
  },
  {
   "cell_type": "markdown",
   "id": "07fc908b",
   "metadata": {},
   "source": [
    "## 3. Documentation"
   ]
  },
  {
   "cell_type": "code",
   "execution_count": 5,
   "id": "7e9aa3d4",
   "metadata": {
    "execution": {
     "iopub.execute_input": "2025-07-28T17:40:27.888633Z",
     "iopub.status.busy": "2025-07-28T17:40:27.888633Z",
     "iopub.status.idle": "2025-07-28T17:40:27.891587Z",
     "shell.execute_reply": "2025-07-28T17:40:27.891587Z"
    },
    "tags": [
     "remove-input"
    ]
   },
   "outputs": [
    {
     "data": {
      "text/markdown": [
       "We are currently building a documentation storage system which will host useful documents related to datasets and data owners. We will surface these documents on Guidebook."
      ],
      "text/plain": [
       "<IPython.core.display.Markdown object>"
      ]
     },
     "metadata": {},
     "output_type": "display_data"
    }
   ],
   "source": [
    "ds.documentation()"
   ]
  },
  {
   "cell_type": "markdown",
   "id": "b0d63a13",
   "metadata": {},
   "source": [
    "## 4. Useful Syntax"
   ]
  },
  {
   "cell_type": "code",
   "execution_count": 6,
   "id": "9de79aaf",
   "metadata": {
    "execution": {
     "iopub.execute_input": "2025-07-28T17:40:27.893595Z",
     "iopub.status.busy": "2025-07-28T17:40:27.893595Z",
     "iopub.status.idle": "2025-07-28T17:40:27.896613Z",
     "shell.execute_reply": "2025-07-28T17:40:27.896613Z"
    },
    "tags": [
     "remove-input"
    ]
   },
   "outputs": [
    {
     "data": {
      "text/markdown": [
       "Below we will include syntax that may be helpful to other researchers in the UK LLC TRE. For longer scripts, we will include a snippet of the code plus a link to Git where you can find the full scripts."
      ],
      "text/plain": [
       "<IPython.core.display.Markdown object>"
      ]
     },
     "metadata": {},
     "output_type": "display_data"
    }
   ],
   "source": [
    "ds.useful_syntax()"
   ]
  }
 ],
 "metadata": {
  "kernelspec": {
   "display_name": "jupbook",
   "language": "python",
   "name": "python3"
  },
  "language_info": {
   "codemirror_mode": {
    "name": "ipython",
    "version": 3
   },
   "file_extension": ".py",
   "mimetype": "text/x-python",
   "name": "python",
   "nbconvert_exporter": "python",
   "pygments_lexer": "ipython3",
   "version": "3.13.2"
  }
 },
 "nbformat": 4,
 "nbformat_minor": 5
}
