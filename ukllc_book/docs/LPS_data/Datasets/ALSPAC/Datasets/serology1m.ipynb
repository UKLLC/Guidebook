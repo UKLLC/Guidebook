{
 "cells": [
  {
   "cell_type": "markdown",
   "id": "2c62a5c9",
   "metadata": {},
   "source": [
    "# Serology 1 Mothers (ALSPAC)"
   ]
  },
  {
   "cell_type": "code",
   "execution_count": 1,
   "id": "10984524",
   "metadata": {
    "execution": {
     "iopub.execute_input": "2025-07-17T14:35:37.158708Z",
     "iopub.status.busy": "2025-07-17T14:35:37.157679Z",
     "iopub.status.idle": "2025-07-17T14:35:45.282925Z",
     "shell.execute_reply": "2025-07-17T14:35:45.280924Z"
    },
    "tags": [
     "remove-input"
    ]
   },
   "outputs": [
    {
     "data": {
      "text/markdown": [
       ">Last modified: 17 Jul 2025"
      ],
      "text/plain": [
       "<IPython.core.display.Markdown object>"
      ]
     },
     "metadata": {},
     "output_type": "display_data"
    }
   ],
   "source": [
    "\n",
    "import sys\n",
    "import os\n",
    "sys.path.append(os.path.abspath('../../../../scripts/'))\n",
    "from data_doc_helper import LPSDataSet as DS, last_modified\n",
    "API_KEY = os.environ['FASTAPI_KEY']\n",
    "ds = DS(\"ALSPAC\", \"serology1m\")\n",
    "last_modified()\n"
   ]
  },
  {
   "cell_type": "markdown",
   "id": "b2233b70",
   "metadata": {},
   "source": [
    "## 1. Summary"
   ]
  },
  {
   "cell_type": "code",
   "execution_count": 2,
   "id": "958de953",
   "metadata": {
    "execution": {
     "iopub.execute_input": "2025-07-17T14:35:45.290922Z",
     "iopub.status.busy": "2025-07-17T14:35:45.290922Z",
     "iopub.status.idle": "2025-07-17T14:35:45.303763Z",
     "shell.execute_reply": "2025-07-17T14:35:45.302624Z"
    },
    "tags": [
     "remove-input"
    ]
   },
   "outputs": [
    {
     "data": {
      "text/markdown": [
       "All relevant participants in the G0 mothers cohort were asked to consent to a COVID-19 antibody test that was sent through the post. Participants were asked to take a small blood sample and return this for assay."
      ],
      "text/plain": [
       "<IPython.core.display.Markdown object>"
      ]
     },
     "metadata": {},
     "output_type": "display_data"
    }
   ],
   "source": [
    "ds.summary()"
   ]
  },
  {
   "cell_type": "code",
   "execution_count": 3,
   "id": "e360fc8a",
   "metadata": {
    "execution": {
     "iopub.execute_input": "2025-07-17T14:35:45.310778Z",
     "iopub.status.busy": "2025-07-17T14:35:45.309778Z",
     "iopub.status.idle": "2025-07-17T14:35:46.298762Z",
     "shell.execute_reply": "2025-07-17T14:35:46.297970Z"
    },
    "tags": [
     "remove-input"
    ]
   },
   "outputs": [
    {
     "data": {
      "text/html": [
       "<style type=\"text/css\">\n",
       "#T_0d0f6 th {\n",
       "  text-align: left;\n",
       "}\n",
       "#T_0d0f6_row0_col0, #T_0d0f6_row0_col1, #T_0d0f6_row1_col0, #T_0d0f6_row1_col1, #T_0d0f6_row2_col0, #T_0d0f6_row2_col1, #T_0d0f6_row3_col0, #T_0d0f6_row3_col1, #T_0d0f6_row4_col0, #T_0d0f6_row4_col1, #T_0d0f6_row5_col0, #T_0d0f6_row5_col1, #T_0d0f6_row6_col0, #T_0d0f6_row6_col1, #T_0d0f6_row7_col0, #T_0d0f6_row7_col1, #T_0d0f6_row8_col0, #T_0d0f6_row8_col1, #T_0d0f6_row9_col0, #T_0d0f6_row9_col1, #T_0d0f6_row10_col0, #T_0d0f6_row10_col1, #T_0d0f6_row11_col0, #T_0d0f6_row11_col1, #T_0d0f6_row12_col0, #T_0d0f6_row12_col1 {\n",
       "  text-align: left;\n",
       "}\n",
       "</style>\n",
       "<table id=\"T_0d0f6\" style=\"font-size: 14px\">\n",
       "  <thead>\n",
       "    <tr>\n",
       "      <th id=\"T_0d0f6_level0_col0\" class=\"col_heading level0 col0\" >Dataset Descriptor</th>\n",
       "      <th id=\"T_0d0f6_level0_col1\" class=\"col_heading level0 col1\" >Dataset-specific Information</th>\n",
       "    </tr>\n",
       "  </thead>\n",
       "  <tbody>\n",
       "    <tr>\n",
       "      <td id=\"T_0d0f6_row0_col0\" class=\"data row0 col0\" >Name of Dataset in TRE</td>\n",
       "      <td id=\"T_0d0f6_row0_col1\" class=\"data row0 col1\" >ALSPAC_serology1m</td>\n",
       "    </tr>\n",
       "    <tr>\n",
       "      <td id=\"T_0d0f6_row1_col0\" class=\"data row1 col0\" >Citation (APA)</td>\n",
       "      <td id=\"T_0d0f6_row1_col1\" class=\"data row1 col1\" >University of Bristol, Avon Longitudinal Study of Parents & Children (ALSPAC). (2022). <i>Avon Longitudinal Study of Parents & Children (ALSPAC): Serology 1 Mothers.</i> UK Longitudinal Linkage Collaboration (UK LLC).  <a href=\"https://doi.org/10.83126/ukllc-dataset-00082-01\" rel=\"noopener noreferrer\" target=\"_blank\">https://doi.org/10.83126/ukllc-dataset-00082-01</a></td>\n",
       "    </tr>\n",
       "    <tr>\n",
       "      <td id=\"T_0d0f6_row2_col0\" class=\"data row2 col0\" >Download Citation</td>\n",
       "      <td id=\"T_0d0f6_row2_col1\" class=\"data row2 col1\" > <a href=\"https://api.test.datacite.org/application/vnd.citationstyles.csl+json/10.83126/ukllc-dataset-00082-01\" rel=\"noopener noreferrer\" target=\"_blank\">Citeproc JSON</a>&nbsp;&nbsp;&nbsp;&nbsp; <a href=\"https://api.test.datacite.org/application/x-bibtex/10.83126/ukllc-dataset-00082-01\" rel=\"noopener noreferrer\" target=\"_blank\">BibTeX</a>&nbsp;&nbsp;&nbsp;&nbsp; <a href=\"https://api.test.datacite.org/application/x-research-info-systems/10.83126/ukllc-dataset-00082-01\" rel=\"noopener noreferrer\" target=\"_blank\">RIS</a></td>\n",
       "    </tr>\n",
       "    <tr>\n",
       "      <td id=\"T_0d0f6_row3_col0\" class=\"data row3 col0\" >Series</td>\n",
       "      <td id=\"T_0d0f6_row3_col1\" class=\"data row3 col1\" > <a href=\"https://guidebook.ukllc.ac.uk/docs/lps/lps%20profiles/ALSPAC\">Avon Longitudinal Study of Parents & Children (ALSPAC)</a></td>\n",
       "    </tr>\n",
       "    <tr>\n",
       "      <td id=\"T_0d0f6_row4_col0\" class=\"data row4 col0\" >Owner</td>\n",
       "      <td id=\"T_0d0f6_row4_col1\" class=\"data row4 col1\" >University of Bristol </td>\n",
       "    </tr>\n",
       "    <tr>\n",
       "      <td id=\"T_0d0f6_row5_col0\" class=\"data row5 col0\" >Temporal Coverage</td>\n",
       "      <td id=\"T_0d0f6_row5_col1\" class=\"data row5 col1\" >04/2021 - 06/2022</td>\n",
       "    </tr>\n",
       "    <tr>\n",
       "      <td id=\"T_0d0f6_row6_col0\" class=\"data row6 col0\" >Keywords</td>\n",
       "      <td id=\"T_0d0f6_row6_col1\" class=\"data row6 col1\" ></td>\n",
       "    </tr>\n",
       "    <tr>\n",
       "      <td id=\"T_0d0f6_row7_col0\" class=\"data row7 col0\" >Participants Invited</td>\n",
       "      <td id=\"T_0d0f6_row7_col1\" class=\"data row7 col1\" >3299</td>\n",
       "    </tr>\n",
       "    <tr>\n",
       "      <td id=\"T_0d0f6_row8_col0\" class=\"data row8 col0\" >Participant Count</td>\n",
       "      <td id=\"T_0d0f6_row8_col1\" class=\"data row8 col1\" >679</td>\n",
       "    </tr>\n",
       "    <tr>\n",
       "      <td id=\"T_0d0f6_row9_col0\" class=\"data row9 col0\" >Number of variables</td>\n",
       "      <td id=\"T_0d0f6_row9_col1\" class=\"data row9 col1\" >20</td>\n",
       "    </tr>\n",
       "    <tr>\n",
       "      <td id=\"T_0d0f6_row10_col0\" class=\"data row10 col0\" >Number of observations</td>\n",
       "      <td id=\"T_0d0f6_row10_col1\" class=\"data row10 col1\" >4978</td>\n",
       "    </tr>\n",
       "    <tr>\n",
       "      <td id=\"T_0d0f6_row11_col0\" class=\"data row11 col0\" >Specific Restrictions to Data Use</td>\n",
       "      <td id=\"T_0d0f6_row11_col1\" class=\"data row11 col1\" >None</td>\n",
       "    </tr>\n",
       "    <tr>\n",
       "      <td id=\"T_0d0f6_row12_col0\" class=\"data row12 col0\" >Build a Data Request</td>\n",
       "      <td id=\"T_0d0f6_row12_col1\" class=\"data row12 col1\" > <a href=\"https://explore.ukllc.ac.uk/\" rel=\"noopener noreferrer\" target=\"_blank\">https://explore.ukllc.ac.uk/</a></td>\n",
       "    </tr>\n",
       "  </tbody>\n",
       "</table>\n"
      ],
      "text/plain": [
       "<pandas.io.formats.style.Styler at 0x1ea20fac1d0>"
      ]
     },
     "execution_count": 3,
     "metadata": {},
     "output_type": "execute_result"
    }
   ],
   "source": [
    "ds.info_table()"
   ]
  },
  {
   "cell_type": "markdown",
   "id": "c2d2cb0c",
   "metadata": {},
   "source": [
    "## 2. Version History"
   ]
  },
  {
   "cell_type": "code",
   "execution_count": 4,
   "id": "5209dddc",
   "metadata": {
    "execution": {
     "iopub.execute_input": "2025-07-17T14:35:46.304269Z",
     "iopub.status.busy": "2025-07-17T14:35:46.303271Z",
     "iopub.status.idle": "2025-07-17T14:35:48.735453Z",
     "shell.execute_reply": "2025-07-17T14:35:48.734428Z"
    },
    "tags": [
     "remove-input"
    ]
   },
   "outputs": [
    {
     "data": {
      "text/html": [
       "<style type=\"text/css\">\n",
       "#T_b5230 th {\n",
       "  text-align: left;\n",
       "}\n",
       "#T_b5230_row0_col0, #T_b5230_row0_col1, #T_b5230_row1_col0, #T_b5230_row1_col1, #T_b5230_row2_col0, #T_b5230_row2_col1, #T_b5230_row3_col0, #T_b5230_row3_col1, #T_b5230_row4_col0, #T_b5230_row4_col1 {\n",
       "  text-align: left;\n",
       "}\n",
       "</style>\n",
       "<table id=\"T_b5230\" style=\"font-size: 14px\">\n",
       "  <thead>\n",
       "    <tr>\n",
       "      <th id=\"T_b5230_level0_col0\" class=\"col_heading level0 col0\" >Version</th>\n",
       "      <th id=\"T_b5230_level0_col1\" class=\"col_heading level0 col1\" >1</th>\n",
       "    </tr>\n",
       "  </thead>\n",
       "  <tbody>\n",
       "    <tr>\n",
       "      <td id=\"T_b5230_row0_col0\" class=\"data row0 col0\" >Version Date</td>\n",
       "      <td id=\"T_b5230_row0_col1\" class=\"data row0 col1\" >31 May 2022</td>\n",
       "    </tr>\n",
       "    <tr>\n",
       "      <td id=\"T_b5230_row1_col0\" class=\"data row1 col0\" >Number of Variables</td>\n",
       "      <td id=\"T_b5230_row1_col1\" class=\"data row1 col1\" >20</td>\n",
       "    </tr>\n",
       "    <tr>\n",
       "      <td id=\"T_b5230_row2_col0\" class=\"data row2 col0\" >Number of Observations</td>\n",
       "      <td id=\"T_b5230_row2_col1\" class=\"data row2 col1\" >4978</td>\n",
       "    </tr>\n",
       "    <tr>\n",
       "      <td id=\"T_b5230_row3_col0\" class=\"data row3 col0\" >DOI</td>\n",
       "      <td id=\"T_b5230_row3_col1\" class=\"data row3 col1\" > <a href=\"https://doi.org/10.83126/ukllc-dataset-00082-01\" rel=\"noopener noreferrer\" target=\"_blank\">10.83126/ukllc-dataset-00082-01</a></td>\n",
       "    </tr>\n",
       "    <tr>\n",
       "      <td id=\"T_b5230_row4_col0\" class=\"data row4 col0\" >Change Log</td>\n",
       "      <td id=\"T_b5230_row4_col1\" class=\"data row4 col1\" > <a href=\"https://api.test.datacite.org/dois/10.83126/ukllc-dataset-00082-01/activities\" rel=\"noopener noreferrer\" target=\"_blank\">10.83126/ukllc-dataset-00082-01/activities</a></td>\n",
       "    </tr>\n",
       "  </tbody>\n",
       "</table>\n"
      ],
      "text/plain": [
       "<pandas.io.formats.style.Styler at 0x1ea26cc7da0>"
      ]
     },
     "execution_count": 4,
     "metadata": {},
     "output_type": "execute_result"
    }
   ],
   "source": [
    "ds.version_history()"
   ]
  },
  {
   "cell_type": "markdown",
   "id": "07fc908b",
   "metadata": {},
   "source": [
    "## 3. Documentation"
   ]
  },
  {
   "cell_type": "code",
   "execution_count": 5,
   "id": "7e9aa3d4",
   "metadata": {
    "execution": {
     "iopub.execute_input": "2025-07-17T14:35:48.742483Z",
     "iopub.status.busy": "2025-07-17T14:35:48.741462Z",
     "iopub.status.idle": "2025-07-17T14:35:48.751176Z",
     "shell.execute_reply": "2025-07-17T14:35:48.749516Z"
    },
    "tags": [
     "remove-input"
    ]
   },
   "outputs": [
    {
     "data": {
      "text/markdown": [
       "We are currently building a documentation storage system which will host useful documents related to datasets and data owners. We will surface these documents on Guidebook."
      ],
      "text/plain": [
       "<IPython.core.display.Markdown object>"
      ]
     },
     "metadata": {},
     "output_type": "display_data"
    }
   ],
   "source": [
    "ds.documentation()"
   ]
  },
  {
   "cell_type": "markdown",
   "id": "b0d63a13",
   "metadata": {},
   "source": [
    "## 4. Useful Syntax"
   ]
  },
  {
   "cell_type": "code",
   "execution_count": 6,
   "id": "9de79aaf",
   "metadata": {
    "execution": {
     "iopub.execute_input": "2025-07-17T14:35:48.757178Z",
     "iopub.status.busy": "2025-07-17T14:35:48.757178Z",
     "iopub.status.idle": "2025-07-17T14:35:48.764669Z",
     "shell.execute_reply": "2025-07-17T14:35:48.763149Z"
    },
    "tags": [
     "remove-input"
    ]
   },
   "outputs": [
    {
     "data": {
      "text/markdown": [
       "Below we will include syntax that may be helpful to other researchers in the UK LLC TRE. For longer scripts, we will include a snippet of the code plus a link to Git where you can find the full scripts."
      ],
      "text/plain": [
       "<IPython.core.display.Markdown object>"
      ]
     },
     "metadata": {},
     "output_type": "display_data"
    }
   ],
   "source": [
    "ds.useful_syntax()"
   ]
  }
 ],
 "metadata": {
  "language_info": {
   "codemirror_mode": {
    "name": "ipython",
    "version": 3
   },
   "file_extension": ".py",
   "mimetype": "text/x-python",
   "name": "python",
   "nbconvert_exporter": "python",
   "pygments_lexer": "ipython3",
   "version": "3.12.7"
  }
 },
 "nbformat": 4,
 "nbformat_minor": 5
}
