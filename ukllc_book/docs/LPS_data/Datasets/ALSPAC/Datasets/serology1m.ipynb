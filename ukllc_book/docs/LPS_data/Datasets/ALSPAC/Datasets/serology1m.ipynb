{
 "cells": [
  {
   "cell_type": "markdown",
   "id": "d2435044",
   "metadata": {},
   "source": [
    "# Serology 1 Mothers (ALSPAC)"
   ]
  },
  {
   "cell_type": "markdown",
   "id": "d69a854b",
   "metadata": {},
   "source": [
    "## 1. Summary"
   ]
  },
  {
   "cell_type": "markdown",
   "id": "96faab05",
   "metadata": {},
   "source": [
    "All relevant participants in the G0 mothers cohort were asked to consent to a COVID-19 antibody test that was sent through the post. Participants were asked to take a small blood sample and return this for assay."
   ]
  },
  {
   "cell_type": "code",
   "execution_count": null,
   "id": "9aa7bc2d",
   "metadata": {
    "tags": [
     "remove-input"
    ]
   },
   "outputs": [
    {
     "data": {
      "text/html": [
       "<style type=\"text/css\">\n",
       "#T_06121 th {\n",
       "  text-align: left;\n",
       "}\n",
       "#T_06121_row0_col0, #T_06121_row0_col1, #T_06121_row1_col0, #T_06121_row1_col1, #T_06121_row2_col0, #T_06121_row2_col1, #T_06121_row3_col0, #T_06121_row3_col1, #T_06121_row4_col0, #T_06121_row4_col1, #T_06121_row5_col0, #T_06121_row5_col1, #T_06121_row6_col0, #T_06121_row6_col1, #T_06121_row7_col0, #T_06121_row7_col1, #T_06121_row8_col0, #T_06121_row8_col1, #T_06121_row9_col0, #T_06121_row9_col1, #T_06121_row10_col0, #T_06121_row10_col1, #T_06121_row11_col0, #T_06121_row11_col1, #T_06121_row12_col0, #T_06121_row12_col1, #T_06121_row13_col0, #T_06121_row13_col1 {\n",
       "  text-align: left;\n",
       "}\n",
       "</style>\n",
       "<table id=\"T_06121\" style=\"font-size: 14px\">\n",
       "  <thead>\n",
       "    <tr>\n",
       "      <th id=\"T_06121_level0_col0\" class=\"col_heading level0 col0\" >Dataset Descriptor</th>\n",
       "      <th id=\"T_06121_level0_col1\" class=\"col_heading level0 col1\" >Dataset-specific Information</th>\n",
       "    </tr>\n",
       "  </thead>\n",
       "  <tbody>\n",
       "    <tr>\n",
       "      <td id=\"T_06121_row0_col0\" class=\"data row0 col0\" >Name of Dataset in TRE</td>\n",
       "      <td id=\"T_06121_row0_col1\" class=\"data row0 col1\" >ALSPAC_serology1m</td>\n",
       "    </tr>\n",
       "    <tr>\n",
       "      <td id=\"T_06121_row1_col0\" class=\"data row1 col0\" >Citation (APA)</td>\n",
       "      <td id=\"T_06121_row1_col1\" class=\"data row1 col1\" >University College London, UCL Social Research Institute, Centre for Longitudinal Studies. (2021). <i>1970 British Cohort Study (BCS70): Age 46 Housing.</i> (Version 1) [Data set]. UK Longitudinal Linkage Collaboration (UK LLC).  <a href=\"https://doi.org/10.83126/ukllc-dataset-00032-01\" rel=\"noopener noreferrer\" target=\"_blank\">https://doi.org/10.83126/ukllc-dataset-00032-01</a></td>\n",
       "    </tr>\n",
       "    <tr>\n",
       "      <td id=\"T_06121_row2_col0\" class=\"data row2 col0\" >Download Citation</td>\n",
       "      <td id=\"T_06121_row2_col1\" class=\"data row2 col1\" > <a href=\"https://api.datacite.org/application/vnd.citationstyles.csl+json/10.83126/ukllc-dataset-00032-01\" rel=\"noopener noreferrer\" target=\"_blank\">Citeproc JSON</a>&nbsp;&nbsp;&nbsp;&nbsp; <a href=\"https://api.datacite.org/application/x-bibtex/10.83126/ukllc-dataset-00032-01\" rel=\"noopener noreferrer\" target=\"_blank\">BibTeX</a>&nbsp;&nbsp;&nbsp;&nbsp; <a href=\"https://api.datacite.org/application/x-research-info-systems/10.83126/ukllc-dataset-00032-01\" rel=\"noopener noreferrer\" target=\"_blank\">RIS</a></td>\n",
       "    </tr>\n",
       "    <tr>\n",
       "      <td id=\"T_06121_row3_col0\" class=\"data row3 col0\" >Series</td>\n",
       "      <td id=\"T_06121_row3_col1\" class=\"data row3 col1\" > <a href=\"https://guidebook.ukllc.ac.uk/docs/lps/lps%20profiles/ALSPAC\" rel=\"noopener noreferrer\" target=\"_blank\">Avon Longitudinal Study of Parents & Children (ALSPAC)</a></td>\n",
       "    </tr>\n",
       "    <tr>\n",
       "      <td id=\"T_06121_row4_col0\" class=\"data row4 col0\" >Owner</td>\n",
       "      <td id=\"T_06121_row4_col1\" class=\"data row4 col1\" >University of Bristol </td>\n",
       "    </tr>\n",
       "    <tr>\n",
       "      <td id=\"T_06121_row5_col0\" class=\"data row5 col0\" >Temporal Coverage</td>\n",
       "      <td id=\"T_06121_row5_col1\" class=\"data row5 col1\" >04/2021 - 06/2022</td>\n",
       "    </tr>\n",
       "    <tr>\n",
       "      <td id=\"T_06121_row6_col0\" class=\"data row6 col0\" >Geographical Coverage - Nations</td>\n",
       "      <td id=\"T_06121_row6_col1\" class=\"data row6 col1\" >England</td>\n",
       "    </tr>\n",
       "    <tr>\n",
       "      <td id=\"T_06121_row7_col0\" class=\"data row7 col0\" >Geographical Coverage - Regions</td>\n",
       "      <td id=\"T_06121_row7_col1\" class=\"data row7 col1\" >Bristol & District Health Authority (Former Avon Health Authority Area) </td>\n",
       "    </tr>\n",
       "    <tr>\n",
       "      <td id=\"T_06121_row8_col0\" class=\"data row8 col0\" >Participants Invited</td>\n",
       "      <td id=\"T_06121_row8_col1\" class=\"data row8 col1\" >3299</td>\n",
       "    </tr>\n",
       "    <tr>\n",
       "      <td id=\"T_06121_row9_col0\" class=\"data row9 col0\" >Participant Count</td>\n",
       "      <td id=\"T_06121_row9_col1\" class=\"data row9 col1\" >679</td>\n",
       "    </tr>\n",
       "    <tr>\n",
       "      <td id=\"T_06121_row10_col0\" class=\"data row10 col0\" >Number of variables</td>\n",
       "      <td id=\"T_06121_row10_col1\" class=\"data row10 col1\" >20</td>\n",
       "    </tr>\n",
       "    <tr>\n",
       "      <td id=\"T_06121_row11_col0\" class=\"data row11 col0\" >Number of observations</td>\n",
       "      <td id=\"T_06121_row11_col1\" class=\"data row11 col1\" >4978</td>\n",
       "    </tr>\n",
       "    <tr>\n",
       "      <td id=\"T_06121_row12_col0\" class=\"data row12 col0\" >Specific Restrictions to Data Use</td>\n",
       "      <td id=\"T_06121_row12_col1\" class=\"data row12 col1\" >None</td>\n",
       "    </tr>\n",
       "    <tr>\n",
       "      <td id=\"T_06121_row13_col0\" class=\"data row13 col0\" >Build a Data Request</td>\n",
       "      <td id=\"T_06121_row13_col1\" class=\"data row13 col1\" > <a href=\"https://explore.ukllc.ac.uk/\" rel=\"noopener noreferrer\" target=\"_blank\">https://explore.ukllc.ac.uk/</a></td>\n",
       "    </tr>\n",
       "  </tbody>\n",
       "</table>\n"
      ],
      "text/plain": [
       "<pandas.io.formats.style.Styler at 0x268c446a7b0>"
      ]
     },
     "execution_count": 1,
     "metadata": {},
     "output_type": "execute_result"
    }
   ],
   "source": [
    "    import sys\n",
    "    import nbformat as nbf\n",
    "    import os\n",
    "    import requests\n",
    "    import json\n",
    "    import pandas as pd\n",
    "    import markdown\n",
    "    sys.path.append(os.path.abspath('../../../../scripts/'))\n",
    "    import mdapi_functions as md\n",
    "    from data_doc_helper import DocHelper as dh\n",
    "    API_KEY = os.environ['FASTAPI_KEY']\n",
    "\n",
    "    infill = os.path.abspath('../../../../scripts/dsvs_infill.csv')\n",
    "\n",
    "    df_ds = md.prep_dsvs_for_gb_pages(infill)\n",
    "    df_ds_i = df_ds[df_ds[\"source_table\"] == \"ALSPAC_serology1m\"]\n",
    "\n",
    "    doi = \"10.83126/ukllc-series-00001-01\"\n",
    "    pref = \"10.83126/\"\n",
    "    suff = \"ukllc-dataset-00032-01\"\n",
    "    cite = json.loads(requests.get(\n",
    "            \"https://api.test.datacite.org/dois/\" + pref + suff,\n",
    "    ).text)['data']['attributes']\n",
    "\n",
    "    citeprocjson = \"https://api.datacite.org/application/vnd.citationstyles.csl+json/\"\n",
    "    bibtex = \"https://api.datacite.org/application/x-bibtex/\"\n",
    "    ris = \"https://api.datacite.org/application/x-research-info-systems/\"\n",
    "\n",
    "    apa_cite = cite['creators'][0][\"name\"] +             \". (\" + str(cite[\"publicationYear\"]) + \"). <i>\" +             cite[\"titles\"][0][\"title\"] +             \".</i> (Version \" +             cite[\"version\"] +             \") [Data set]. \" +             cite[\"publisher\"] +             \". \" + md.make_hlink(\"https://doi.org/\" + pref + suff, \"https://doi.org/\" + pref + suff)\n",
    "\n",
    "    dl_cites = md.make_hlink(citeprocjson + pref + suff, \"Citeproc JSON\") + \"&nbsp;&nbsp;&nbsp;&nbsp;\" +             md.make_hlink(bibtex + pref + suff, \"BibTeX\") + \"&nbsp;&nbsp;&nbsp;&nbsp;\" + md.make_hlink(ris + pref + suff, \"RIS\")\n",
    "\n",
    "\n",
    "    ds_info_list = [\n",
    "        [\n",
    "            \"Name of Dataset in TRE\",\n",
    "            \"Citation (APA)\",\n",
    "            \"Download Citation\",\n",
    "            \"Series\",\n",
    "            \"Owner\",\n",
    "            \"Temporal Coverage\",\n",
    "            \"Geographical Coverage - Nations\",\n",
    "            \"Geographical Coverage - Regions\",\n",
    "            \"Participants Invited\",\n",
    "            \"Participant Count\",\n",
    "            \"Number of variables\",\n",
    "            \"Number of observations\",\n",
    "            \"Specific Restrictions to Data Use\",\n",
    "            \"Build a Data Request\"\n",
    "        ],\n",
    "        [\n",
    "            df_ds_i.iloc[0][\"source_table\"], # DS in TRE\n",
    "            apa_cite, # Citation\n",
    "            dl_cites, # Download Cite\n",
    "            md.make_hlink(\"https://guidebook.ukllc.ac.uk/docs/lps/lps%20profiles/{}\".format(df_ds_i.iloc[0][\"source\"]), df_ds_i.iloc[0][\"source_name\"]), # Series\n",
    "            df_ds_i.iloc[0][\"Owner\"], # Owner\n",
    "            df_ds_i.iloc[0][\"collection_start\"] + \" - \" + df_ds_i.iloc[0][\"collection_end\"], # Temporal Coverage\n",
    "            df_ds_i.iloc[0][\"geographic_coverage_Nations\"], # Geographical Coverage - Nations\n",
    "            df_ds_i.iloc[0][\"geographic_coverage_Regions\"], # Geographical Coverage - Nations\n",
    "            df_ds_i.iloc[0][\"participants_invited\"], # Participants invited\n",
    "            df_ds_i.iloc[0][\"participants_included\"], # Participants included\n",
    "            md.get_num_vars(df_ds_i.iloc[0][\"source\"], df_ds_i.iloc[0][\"table\"]), # Number of variables\n",
    "            int(df_ds_i.iloc[0][\"num_rows\"]), # Number of observations\n",
    "            \"None\", # Restrictions to Data Use\n",
    "            md.make_hlink(\"https://explore.ukllc.ac.uk/\",\"https://explore.ukllc.ac.uk/\") # Build a data request\n",
    "        ]\n",
    "        ]\n",
    "\n",
    "    df_ss_info = pd.DataFrame(ds_info_list, index=[\"Dataset Descriptor\", \"Dataset-specific Information\"]).T\n",
    "    df_ss_info = dh.style_table(\"_\", df_ss_info)\n",
    "    df_ss_info\n"
   ]
  },
  {
   "cell_type": "code",
   "execution_count": null,
   "id": "d00e79aa",
   "metadata": {},
   "outputs": [],
   "source": []
  }
 ],
 "metadata": {
  "kernelspec": {
   "display_name": "Python 3",
   "language": "python",
   "name": "python3"
  },
  "language_info": {
   "codemirror_mode": {
    "name": "ipython",
    "version": 3
   },
   "file_extension": ".py",
   "mimetype": "text/x-python",
   "name": "python",
   "nbconvert_exporter": "python",
   "pygments_lexer": "ipython3",
   "version": "3.13.2"
  }
 },
 "nbformat": 4,
 "nbformat_minor": 5
}
