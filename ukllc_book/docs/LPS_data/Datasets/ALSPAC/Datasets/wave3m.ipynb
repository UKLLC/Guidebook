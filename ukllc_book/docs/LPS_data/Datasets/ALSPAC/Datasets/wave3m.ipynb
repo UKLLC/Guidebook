{
 "cells": [
  {
   "cell_type": "markdown",
   "id": "14f1d73d",
   "metadata": {},
   "source": [
    "# Covid Questionnaire 3 Mothers (ALSPAC)"
   ]
  },
  {
   "cell_type": "code",
   "execution_count": 1,
   "id": "2edd0fa8",
   "metadata": {
    "execution": {
     "iopub.execute_input": "2025-07-17T14:38:12.876320Z",
     "iopub.status.busy": "2025-07-17T14:38:12.876320Z",
     "iopub.status.idle": "2025-07-17T14:38:20.875869Z",
     "shell.execute_reply": "2025-07-17T14:38:20.875869Z"
    },
    "tags": [
     "remove-input"
    ]
   },
   "outputs": [
    {
     "data": {
      "text/markdown": [
       ">Last modified: 17 Jul 2025"
      ],
      "text/plain": [
       "<IPython.core.display.Markdown object>"
      ]
     },
     "metadata": {},
     "output_type": "display_data"
    }
   ],
   "source": [
    "\n",
    "import sys\n",
    "import os\n",
    "sys.path.append(os.path.abspath('../../../../scripts/'))\n",
    "from data_doc_helper import LPSDataSet as DS, last_modified\n",
    "API_KEY = os.environ['FASTAPI_KEY']\n",
    "ds = DS(\"ALSPAC\", \"wave3m\")\n",
    "last_modified()\n"
   ]
  },
  {
   "cell_type": "markdown",
   "id": "466e36ae",
   "metadata": {},
   "source": [
    "## 1. Summary"
   ]
  },
  {
   "cell_type": "code",
   "execution_count": 2,
   "id": "1194c781",
   "metadata": {
    "execution": {
     "iopub.execute_input": "2025-07-17T14:38:20.881622Z",
     "iopub.status.busy": "2025-07-17T14:38:20.880114Z",
     "iopub.status.idle": "2025-07-17T14:38:20.887141Z",
     "shell.execute_reply": "2025-07-17T14:38:20.886633Z"
    },
    "tags": [
     "remove-input"
    ]
   },
   "outputs": [
    {
     "data": {
      "text/markdown": [
       "All participants in the G0 mothers cohort were asked to undertake a COVID-19 antibody test and report the results back to us alongside a brief online questionnaire asking about symptoms and case status"
      ],
      "text/plain": [
       "<IPython.core.display.Markdown object>"
      ]
     },
     "metadata": {},
     "output_type": "display_data"
    }
   ],
   "source": [
    "ds.summary()"
   ]
  },
  {
   "cell_type": "code",
   "execution_count": 3,
   "id": "9096d464",
   "metadata": {
    "execution": {
     "iopub.execute_input": "2025-07-17T14:38:20.890537Z",
     "iopub.status.busy": "2025-07-17T14:38:20.890537Z",
     "iopub.status.idle": "2025-07-17T14:38:22.070159Z",
     "shell.execute_reply": "2025-07-17T14:38:22.069150Z"
    },
    "tags": [
     "remove-input"
    ]
   },
   "outputs": [
    {
     "data": {
      "text/html": [
       "<style type=\"text/css\">\n",
       "#T_6647b th {\n",
       "  text-align: left;\n",
       "}\n",
       "#T_6647b_row0_col0, #T_6647b_row0_col1, #T_6647b_row1_col0, #T_6647b_row1_col1, #T_6647b_row2_col0, #T_6647b_row2_col1, #T_6647b_row3_col0, #T_6647b_row3_col1, #T_6647b_row4_col0, #T_6647b_row4_col1, #T_6647b_row5_col0, #T_6647b_row5_col1, #T_6647b_row6_col0, #T_6647b_row6_col1, #T_6647b_row7_col0, #T_6647b_row7_col1, #T_6647b_row8_col0, #T_6647b_row8_col1, #T_6647b_row9_col0, #T_6647b_row9_col1, #T_6647b_row10_col0, #T_6647b_row10_col1, #T_6647b_row11_col0, #T_6647b_row11_col1, #T_6647b_row12_col0, #T_6647b_row12_col1 {\n",
       "  text-align: left;\n",
       "}\n",
       "</style>\n",
       "<table id=\"T_6647b\" style=\"font-size: 14px\">\n",
       "  <thead>\n",
       "    <tr>\n",
       "      <th id=\"T_6647b_level0_col0\" class=\"col_heading level0 col0\" >Dataset Descriptor</th>\n",
       "      <th id=\"T_6647b_level0_col1\" class=\"col_heading level0 col1\" >Dataset-specific Information</th>\n",
       "    </tr>\n",
       "  </thead>\n",
       "  <tbody>\n",
       "    <tr>\n",
       "      <td id=\"T_6647b_row0_col0\" class=\"data row0 col0\" >Name of Dataset in TRE</td>\n",
       "      <td id=\"T_6647b_row0_col1\" class=\"data row0 col1\" >ALSPAC_wave3m</td>\n",
       "    </tr>\n",
       "    <tr>\n",
       "      <td id=\"T_6647b_row1_col0\" class=\"data row1 col0\" >Citation (APA)</td>\n",
       "      <td id=\"T_6647b_row1_col1\" class=\"data row1 col1\" >University of Bristol, Avon Longitudinal Study of Parents & Children (ALSPAC). (2021). <i>Avon Longitudinal Study of Parents & Children (ALSPAC): Covid Questionnaire 3 Mothers.</i> UK Longitudinal Linkage Collaboration (UK LLC).  <a href=\"https://doi.org/10.83126/ukllc-dataset-00092-01\" rel=\"noopener noreferrer\" target=\"_blank\">https://doi.org/10.83126/ukllc-dataset-00092-01</a></td>\n",
       "    </tr>\n",
       "    <tr>\n",
       "      <td id=\"T_6647b_row2_col0\" class=\"data row2 col0\" >Download Citation</td>\n",
       "      <td id=\"T_6647b_row2_col1\" class=\"data row2 col1\" > <a href=\"https://api.test.datacite.org/application/vnd.citationstyles.csl+json/10.83126/ukllc-dataset-00092-01\" rel=\"noopener noreferrer\" target=\"_blank\">Citeproc JSON</a>&nbsp;&nbsp;&nbsp;&nbsp; <a href=\"https://api.test.datacite.org/application/x-bibtex/10.83126/ukllc-dataset-00092-01\" rel=\"noopener noreferrer\" target=\"_blank\">BibTeX</a>&nbsp;&nbsp;&nbsp;&nbsp; <a href=\"https://api.test.datacite.org/application/x-research-info-systems/10.83126/ukllc-dataset-00092-01\" rel=\"noopener noreferrer\" target=\"_blank\">RIS</a></td>\n",
       "    </tr>\n",
       "    <tr>\n",
       "      <td id=\"T_6647b_row3_col0\" class=\"data row3 col0\" >Series</td>\n",
       "      <td id=\"T_6647b_row3_col1\" class=\"data row3 col1\" > <a href=\"https://guidebook.ukllc.ac.uk/docs/lps/lps%20profiles/ALSPAC\">Avon Longitudinal Study of Parents & Children (ALSPAC)</a></td>\n",
       "    </tr>\n",
       "    <tr>\n",
       "      <td id=\"T_6647b_row4_col0\" class=\"data row4 col0\" >Owner</td>\n",
       "      <td id=\"T_6647b_row4_col1\" class=\"data row4 col1\" >University of Bristol </td>\n",
       "    </tr>\n",
       "    <tr>\n",
       "      <td id=\"T_6647b_row5_col0\" class=\"data row5 col0\" >Temporal Coverage</td>\n",
       "      <td id=\"T_6647b_row5_col1\" class=\"data row5 col1\" >10/2020 - 10/2020</td>\n",
       "    </tr>\n",
       "    <tr>\n",
       "      <td id=\"T_6647b_row6_col0\" class=\"data row6 col0\" >Keywords</td>\n",
       "      <td id=\"T_6647b_row6_col1\" class=\"data row6 col1\" ></td>\n",
       "    </tr>\n",
       "    <tr>\n",
       "      <td id=\"T_6647b_row7_col0\" class=\"data row7 col0\" >Participants Invited</td>\n",
       "      <td id=\"T_6647b_row7_col1\" class=\"data row7 col1\" >2726</td>\n",
       "    </tr>\n",
       "    <tr>\n",
       "      <td id=\"T_6647b_row8_col0\" class=\"data row8 col0\" >Participant Count</td>\n",
       "      <td id=\"T_6647b_row8_col1\" class=\"data row8 col1\" >375</td>\n",
       "    </tr>\n",
       "    <tr>\n",
       "      <td id=\"T_6647b_row9_col0\" class=\"data row9 col0\" >Number of variables</td>\n",
       "      <td id=\"T_6647b_row9_col1\" class=\"data row9 col1\" >293</td>\n",
       "    </tr>\n",
       "    <tr>\n",
       "      <td id=\"T_6647b_row10_col0\" class=\"data row10 col0\" >Number of observations</td>\n",
       "      <td id=\"T_6647b_row10_col1\" class=\"data row10 col1\" >1679</td>\n",
       "    </tr>\n",
       "    <tr>\n",
       "      <td id=\"T_6647b_row11_col0\" class=\"data row11 col0\" >Specific Restrictions to Data Use</td>\n",
       "      <td id=\"T_6647b_row11_col1\" class=\"data row11 col1\" >None</td>\n",
       "    </tr>\n",
       "    <tr>\n",
       "      <td id=\"T_6647b_row12_col0\" class=\"data row12 col0\" >Build a Data Request</td>\n",
       "      <td id=\"T_6647b_row12_col1\" class=\"data row12 col1\" > <a href=\"https://explore.ukllc.ac.uk/\" rel=\"noopener noreferrer\" target=\"_blank\">https://explore.ukllc.ac.uk/</a></td>\n",
       "    </tr>\n",
       "  </tbody>\n",
       "</table>\n"
      ],
      "text/plain": [
       "<pandas.io.formats.style.Styler at 0x2154e07d6d0>"
      ]
     },
     "execution_count": 3,
     "metadata": {},
     "output_type": "execute_result"
    }
   ],
   "source": [
    "ds.info_table()"
   ]
  },
  {
   "cell_type": "markdown",
   "id": "4d2faacc",
   "metadata": {},
   "source": [
    "## 2. Version History"
   ]
  },
  {
   "cell_type": "code",
   "execution_count": 4,
   "id": "acad5196",
   "metadata": {
    "execution": {
     "iopub.execute_input": "2025-07-17T14:38:22.074473Z",
     "iopub.status.busy": "2025-07-17T14:38:22.074473Z",
     "iopub.status.idle": "2025-07-17T14:38:25.421313Z",
     "shell.execute_reply": "2025-07-17T14:38:25.420299Z"
    },
    "tags": [
     "remove-input"
    ]
   },
   "outputs": [
    {
     "data": {
      "text/html": [
       "<style type=\"text/css\">\n",
       "#T_5a3b0 th {\n",
       "  text-align: left;\n",
       "}\n",
       "#T_5a3b0_row0_col0, #T_5a3b0_row0_col1, #T_5a3b0_row1_col0, #T_5a3b0_row1_col1, #T_5a3b0_row2_col0, #T_5a3b0_row2_col1, #T_5a3b0_row3_col0, #T_5a3b0_row3_col1, #T_5a3b0_row4_col0, #T_5a3b0_row4_col1 {\n",
       "  text-align: left;\n",
       "}\n",
       "</style>\n",
       "<table id=\"T_5a3b0\" style=\"font-size: 14px\">\n",
       "  <thead>\n",
       "    <tr>\n",
       "      <th id=\"T_5a3b0_level0_col0\" class=\"col_heading level0 col0\" >Version</th>\n",
       "      <th id=\"T_5a3b0_level0_col1\" class=\"col_heading level0 col1\" >1</th>\n",
       "    </tr>\n",
       "  </thead>\n",
       "  <tbody>\n",
       "    <tr>\n",
       "      <td id=\"T_5a3b0_row0_col0\" class=\"data row0 col0\" >Version Date</td>\n",
       "      <td id=\"T_5a3b0_row0_col1\" class=\"data row0 col1\" >01 Nov 2021</td>\n",
       "    </tr>\n",
       "    <tr>\n",
       "      <td id=\"T_5a3b0_row1_col0\" class=\"data row1 col0\" >Number of Variables</td>\n",
       "      <td id=\"T_5a3b0_row1_col1\" class=\"data row1 col1\" >293</td>\n",
       "    </tr>\n",
       "    <tr>\n",
       "      <td id=\"T_5a3b0_row2_col0\" class=\"data row2 col0\" >Number of Observations</td>\n",
       "      <td id=\"T_5a3b0_row2_col1\" class=\"data row2 col1\" >1679</td>\n",
       "    </tr>\n",
       "    <tr>\n",
       "      <td id=\"T_5a3b0_row3_col0\" class=\"data row3 col0\" >DOI</td>\n",
       "      <td id=\"T_5a3b0_row3_col1\" class=\"data row3 col1\" > <a href=\"https://doi.org/10.83126/ukllc-dataset-00092-01\" rel=\"noopener noreferrer\" target=\"_blank\">10.83126/ukllc-dataset-00092-01</a></td>\n",
       "    </tr>\n",
       "    <tr>\n",
       "      <td id=\"T_5a3b0_row4_col0\" class=\"data row4 col0\" >Change Log</td>\n",
       "      <td id=\"T_5a3b0_row4_col1\" class=\"data row4 col1\" > <a href=\"https://api.test.datacite.org/dois/10.83126/ukllc-dataset-00092-01/activities\" rel=\"noopener noreferrer\" target=\"_blank\">10.83126/ukllc-dataset-00092-01/activities</a></td>\n",
       "    </tr>\n",
       "  </tbody>\n",
       "</table>\n"
      ],
      "text/plain": [
       "<pandas.io.formats.style.Styler at 0x21553b1ea20>"
      ]
     },
     "execution_count": 4,
     "metadata": {},
     "output_type": "execute_result"
    }
   ],
   "source": [
    "ds.version_history()"
   ]
  },
  {
   "cell_type": "markdown",
   "id": "4a7a81b9",
   "metadata": {},
   "source": [
    "## 3. Documentation"
   ]
  },
  {
   "cell_type": "code",
   "execution_count": 5,
   "id": "c8b9a649",
   "metadata": {
    "execution": {
     "iopub.execute_input": "2025-07-17T14:38:25.428311Z",
     "iopub.status.busy": "2025-07-17T14:38:25.428311Z",
     "iopub.status.idle": "2025-07-17T14:38:25.435858Z",
     "shell.execute_reply": "2025-07-17T14:38:25.434846Z"
    },
    "tags": [
     "remove-input"
    ]
   },
   "outputs": [
    {
     "data": {
      "text/markdown": [
       "We are currently building a documentation storage system which will host useful documents related to datasets and data owners. We will surface these documents on Guidebook."
      ],
      "text/plain": [
       "<IPython.core.display.Markdown object>"
      ]
     },
     "metadata": {},
     "output_type": "display_data"
    }
   ],
   "source": [
    "ds.documentation()"
   ]
  },
  {
   "cell_type": "markdown",
   "id": "7e2af40d",
   "metadata": {},
   "source": [
    "## 4. Useful Syntax"
   ]
  },
  {
   "cell_type": "code",
   "execution_count": 6,
   "id": "607a9bdc",
   "metadata": {
    "execution": {
     "iopub.execute_input": "2025-07-17T14:38:25.441972Z",
     "iopub.status.busy": "2025-07-17T14:38:25.441972Z",
     "iopub.status.idle": "2025-07-17T14:38:25.450501Z",
     "shell.execute_reply": "2025-07-17T14:38:25.448972Z"
    },
    "tags": [
     "remove-input"
    ]
   },
   "outputs": [
    {
     "data": {
      "text/markdown": [
       "Below we will include syntax that may be helpful to other researchers in the UK LLC TRE. For longer scripts, we will include a snippet of the code plus a link to Git where you can find the full scripts."
      ],
      "text/plain": [
       "<IPython.core.display.Markdown object>"
      ]
     },
     "metadata": {},
     "output_type": "display_data"
    }
   ],
   "source": [
    "ds.useful_syntax()"
   ]
  }
 ],
 "metadata": {
  "language_info": {
   "codemirror_mode": {
    "name": "ipython",
    "version": 3
   },
   "file_extension": ".py",
   "mimetype": "text/x-python",
   "name": "python",
   "nbconvert_exporter": "python",
   "pygments_lexer": "ipython3",
   "version": "3.12.7"
  }
 },
 "nbformat": 4,
 "nbformat_minor": 5
}
