{
 "cells": [
  {
   "cell_type": "markdown",
   "id": "a2a121e7",
   "metadata": {},
   "source": [
    "# Sociodemographic Mothers (ALSPAC)"
   ]
  },
  {
   "cell_type": "code",
   "execution_count": 1,
   "id": "c8a209a3",
   "metadata": {
    "execution": {
     "iopub.execute_input": "2025-07-28T17:41:32.874198Z",
     "iopub.status.busy": "2025-07-28T17:41:32.874198Z",
     "iopub.status.idle": "2025-07-28T17:41:46.664841Z",
     "shell.execute_reply": "2025-07-28T17:41:46.664841Z"
    },
    "tags": [
     "remove-input"
    ]
   },
   "outputs": [
    {
     "data": {
      "text/markdown": [
       ">Last modified: 28 Jul 2025"
      ],
      "text/plain": [
       "<IPython.core.display.Markdown object>"
      ]
     },
     "metadata": {},
     "output_type": "display_data"
    }
   ],
   "source": [
    "\n",
    "import sys\n",
    "import os\n",
    "sys.path.append(os.path.abspath('../../../../scripts/'))\n",
    "from data_doc_helper import LPSDataSet as DS, last_modified\n",
    "API_KEY = os.environ['FASTAPI_KEY']\n",
    "ds = DS(\"ALSPAC\", \"wave0m\")\n",
    "last_modified()\n"
   ]
  },
  {
   "cell_type": "markdown",
   "id": "800f9ff2",
   "metadata": {},
   "source": [
    "## 1. Summary"
   ]
  },
  {
   "cell_type": "code",
   "execution_count": 2,
   "id": "8481cd00",
   "metadata": {
    "execution": {
     "iopub.execute_input": "2025-07-28T17:41:46.668198Z",
     "iopub.status.busy": "2025-07-28T17:41:46.667198Z",
     "iopub.status.idle": "2025-07-28T17:41:46.671543Z",
     "shell.execute_reply": "2025-07-28T17:41:46.671543Z"
    },
    "tags": [
     "remove-input"
    ]
   },
   "outputs": [
    {
     "data": {
      "text/markdown": [
       "A collection of sociodemographic variables from G0 collected from multiple questionnaires"
      ],
      "text/plain": [
       "<IPython.core.display.Markdown object>"
      ]
     },
     "metadata": {},
     "output_type": "display_data"
    }
   ],
   "source": [
    "ds.summary()"
   ]
  },
  {
   "cell_type": "code",
   "execution_count": 3,
   "id": "e30a4746",
   "metadata": {
    "execution": {
     "iopub.execute_input": "2025-07-28T17:41:46.673548Z",
     "iopub.status.busy": "2025-07-28T17:41:46.673548Z",
     "iopub.status.idle": "2025-07-28T17:41:47.331454Z",
     "shell.execute_reply": "2025-07-28T17:41:47.331454Z"
    },
    "tags": [
     "remove-input"
    ]
   },
   "outputs": [
    {
     "data": {
      "text/html": [
       "<style type=\"text/css\">\n",
       "#T_e11ef th {\n",
       "  text-align: left;\n",
       "}\n",
       "#T_e11ef_row0_col0, #T_e11ef_row0_col1, #T_e11ef_row1_col0, #T_e11ef_row1_col1, #T_e11ef_row2_col0, #T_e11ef_row2_col1, #T_e11ef_row3_col0, #T_e11ef_row3_col1, #T_e11ef_row4_col0, #T_e11ef_row4_col1, #T_e11ef_row5_col0, #T_e11ef_row5_col1, #T_e11ef_row6_col0, #T_e11ef_row6_col1, #T_e11ef_row7_col0, #T_e11ef_row7_col1, #T_e11ef_row8_col0, #T_e11ef_row8_col1, #T_e11ef_row9_col0, #T_e11ef_row9_col1, #T_e11ef_row10_col0, #T_e11ef_row10_col1, #T_e11ef_row11_col0, #T_e11ef_row11_col1, #T_e11ef_row12_col0, #T_e11ef_row12_col1 {\n",
       "  text-align: left;\n",
       "}\n",
       "</style>\n",
       "<table id=\"T_e11ef\" style=\"font-size: 14px\">\n",
       "  <thead>\n",
       "    <tr>\n",
       "      <th id=\"T_e11ef_level0_col0\" class=\"col_heading level0 col0\" >Dataset Descriptor</th>\n",
       "      <th id=\"T_e11ef_level0_col1\" class=\"col_heading level0 col1\" >Dataset-specific Information</th>\n",
       "    </tr>\n",
       "  </thead>\n",
       "  <tbody>\n",
       "    <tr>\n",
       "      <td id=\"T_e11ef_row0_col0\" class=\"data row0 col0\" >Name of Dataset in TRE</td>\n",
       "      <td id=\"T_e11ef_row0_col1\" class=\"data row0 col1\" >ALSPAC_wave0m</td>\n",
       "    </tr>\n",
       "    <tr>\n",
       "      <td id=\"T_e11ef_row1_col0\" class=\"data row1 col0\" >Citation (APA)</td>\n",
       "      <td id=\"T_e11ef_row1_col1\" class=\"data row1 col1\" >University of Bristol, Avon Longitudinal Study of Parents & Children (ALSPAC). (2023). <i>Avon Longitudinal Study of Parents & Children (ALSPAC): Sociodemographic Mothers.</i> UK Longitudinal Linkage Collaboration (UK LLC).  <a href=\"https://doi.org/10.71760/ukllc-dataset-00005-02\" rel=\"noopener noreferrer\" target=\"_blank\">https://doi.org/10.71760/ukllc-dataset-00005-02</a></td>\n",
       "    </tr>\n",
       "    <tr>\n",
       "      <td id=\"T_e11ef_row2_col0\" class=\"data row2 col0\" >Download Citation</td>\n",
       "      <td id=\"T_e11ef_row2_col1\" class=\"data row2 col1\" > <a href=\"https://api.datacite.org/application/vnd.citationstyles.csl+json/10.71760/ukllc-dataset-00005-02\" rel=\"noopener noreferrer\" target=\"_blank\">Citeproc JSON</a>&nbsp;&nbsp;&nbsp;&nbsp; <a href=\"https://api.datacite.org/application/x-bibtex/10.71760/ukllc-dataset-00005-02\" rel=\"noopener noreferrer\" target=\"_blank\">BibTeX</a>&nbsp;&nbsp;&nbsp;&nbsp; <a href=\"https://api.datacite.org/application/x-research-info-systems/10.71760/ukllc-dataset-00005-02\" rel=\"noopener noreferrer\" target=\"_blank\">RIS</a></td>\n",
       "    </tr>\n",
       "    <tr>\n",
       "      <td id=\"T_e11ef_row3_col0\" class=\"data row3 col0\" >Series</td>\n",
       "      <td id=\"T_e11ef_row3_col1\" class=\"data row3 col1\" > <a href=\"https://guidebook.ukllc.ac.uk/docs/lps_data/lps%20profiles/ALSPAC\">Avon Longitudinal Study of Parents & Children (ALSPAC)</a></td>\n",
       "    </tr>\n",
       "    <tr>\n",
       "      <td id=\"T_e11ef_row4_col0\" class=\"data row4 col0\" >Owner</td>\n",
       "      <td id=\"T_e11ef_row4_col1\" class=\"data row4 col1\" >University of Bristol </td>\n",
       "    </tr>\n",
       "    <tr>\n",
       "      <td id=\"T_e11ef_row5_col0\" class=\"data row5 col0\" >Temporal Coverage</td>\n",
       "      <td id=\"T_e11ef_row5_col1\" class=\"data row5 col1\" >01/2020 - 01/2023</td>\n",
       "    </tr>\n",
       "    <tr>\n",
       "      <td id=\"T_e11ef_row6_col0\" class=\"data row6 col0\" >Keywords</td>\n",
       "      <td id=\"T_e11ef_row6_col1\" class=\"data row6 col1\" ></td>\n",
       "    </tr>\n",
       "    <tr>\n",
       "      <td id=\"T_e11ef_row7_col0\" class=\"data row7 col0\" >Participants Invited</td>\n",
       "      <td id=\"T_e11ef_row7_col1\" class=\"data row7 col1\" >14520</td>\n",
       "    </tr>\n",
       "    <tr>\n",
       "      <td id=\"T_e11ef_row8_col0\" class=\"data row8 col0\" >Participant Count</td>\n",
       "      <td id=\"T_e11ef_row8_col1\" class=\"data row8 col1\" >648</td>\n",
       "    </tr>\n",
       "    <tr>\n",
       "      <td id=\"T_e11ef_row9_col0\" class=\"data row9 col0\" >Number of variables</td>\n",
       "      <td id=\"T_e11ef_row9_col1\" class=\"data row9 col1\" >49</td>\n",
       "    </tr>\n",
       "    <tr>\n",
       "      <td id=\"T_e11ef_row10_col0\" class=\"data row10 col0\" >Number of observations</td>\n",
       "      <td id=\"T_e11ef_row10_col1\" class=\"data row10 col1\" >4978</td>\n",
       "    </tr>\n",
       "    <tr>\n",
       "      <td id=\"T_e11ef_row11_col0\" class=\"data row11 col0\" >Specific Restrictions to Data Use</td>\n",
       "      <td id=\"T_e11ef_row11_col1\" class=\"data row11 col1\" >None</td>\n",
       "    </tr>\n",
       "    <tr>\n",
       "      <td id=\"T_e11ef_row12_col0\" class=\"data row12 col0\" >Build a Data Request</td>\n",
       "      <td id=\"T_e11ef_row12_col1\" class=\"data row12 col1\" > <a href=\"https://explore.ukllc.ac.uk/\" rel=\"noopener noreferrer\" target=\"_blank\">https://explore.ukllc.ac.uk/</a></td>\n",
       "    </tr>\n",
       "  </tbody>\n",
       "</table>\n"
      ],
      "text/plain": [
       "<pandas.io.formats.style.Styler at 0x22515ccc8f0>"
      ]
     },
     "execution_count": 3,
     "metadata": {},
     "output_type": "execute_result"
    }
   ],
   "source": [
    "ds.info_table()"
   ]
  },
  {
   "cell_type": "markdown",
   "id": "9f933a84",
   "metadata": {},
   "source": [
    "## 2. Version History"
   ]
  },
  {
   "cell_type": "code",
   "execution_count": 4,
   "id": "f9728950",
   "metadata": {
    "execution": {
     "iopub.execute_input": "2025-07-28T17:41:47.334460Z",
     "iopub.status.busy": "2025-07-28T17:41:47.333460Z",
     "iopub.status.idle": "2025-07-28T17:41:52.776166Z",
     "shell.execute_reply": "2025-07-28T17:41:52.775719Z"
    },
    "tags": [
     "remove-input"
    ]
   },
   "outputs": [
    {
     "data": {
      "text/html": [
       "<style type=\"text/css\">\n",
       "#T_d7945 th {\n",
       "  text-align: left;\n",
       "}\n",
       "#T_d7945_row0_col0, #T_d7945_row0_col1, #T_d7945_row0_col2, #T_d7945_row1_col0, #T_d7945_row1_col1, #T_d7945_row1_col2, #T_d7945_row2_col0, #T_d7945_row2_col1, #T_d7945_row2_col2, #T_d7945_row3_col0, #T_d7945_row3_col1, #T_d7945_row3_col2, #T_d7945_row4_col0, #T_d7945_row4_col1, #T_d7945_row4_col2 {\n",
       "  text-align: left;\n",
       "}\n",
       "</style>\n",
       "<table id=\"T_d7945\" style=\"font-size: 14px\">\n",
       "  <thead>\n",
       "    <tr>\n",
       "      <th id=\"T_d7945_level0_col0\" class=\"col_heading level0 col0\" >Version</th>\n",
       "      <th id=\"T_d7945_level0_col1\" class=\"col_heading level0 col1\" >1</th>\n",
       "      <th id=\"T_d7945_level0_col2\" class=\"col_heading level0 col2\" >2</th>\n",
       "    </tr>\n",
       "  </thead>\n",
       "  <tbody>\n",
       "    <tr>\n",
       "      <td id=\"T_d7945_row0_col0\" class=\"data row0 col0\" >Version Date</td>\n",
       "      <td id=\"T_d7945_row0_col1\" class=\"data row0 col1\" >31 May 2022</td>\n",
       "      <td id=\"T_d7945_row0_col2\" class=\"data row0 col2\" >28 Sep 2023</td>\n",
       "    </tr>\n",
       "    <tr>\n",
       "      <td id=\"T_d7945_row1_col0\" class=\"data row1 col0\" >Number of Variables</td>\n",
       "      <td id=\"T_d7945_row1_col1\" class=\"data row1 col1\" >49</td>\n",
       "      <td id=\"T_d7945_row1_col2\" class=\"data row1 col2\" >49</td>\n",
       "    </tr>\n",
       "    <tr>\n",
       "      <td id=\"T_d7945_row2_col0\" class=\"data row2 col0\" >Number of Observations</td>\n",
       "      <td id=\"T_d7945_row2_col1\" class=\"data row2 col1\" >5161</td>\n",
       "      <td id=\"T_d7945_row2_col2\" class=\"data row2 col2\" >4978</td>\n",
       "    </tr>\n",
       "    <tr>\n",
       "      <td id=\"T_d7945_row3_col0\" class=\"data row3 col0\" >DOI</td>\n",
       "      <td id=\"T_d7945_row3_col1\" class=\"data row3 col1\" > <a href=\"https://doi.org/10.71760/ukllc-dataset-00005-01\" rel=\"noopener noreferrer\" target=\"_blank\">10.71760/ukllc-dataset-00005-01</a></td>\n",
       "      <td id=\"T_d7945_row3_col2\" class=\"data row3 col2\" > <a href=\"https://doi.org/10.71760/ukllc-dataset-00005-02\" rel=\"noopener noreferrer\" target=\"_blank\">10.71760/ukllc-dataset-00005-02</a></td>\n",
       "    </tr>\n",
       "    <tr>\n",
       "      <td id=\"T_d7945_row4_col0\" class=\"data row4 col0\" >Change Log</td>\n",
       "      <td id=\"T_d7945_row4_col1\" class=\"data row4 col1\" > <a href=\"https://api.test.datacite.org/dois/10.71760/ukllc-dataset-00005-01/activities\" rel=\"noopener noreferrer\" target=\"_blank\">10.71760/ukllc-dataset-00005-01/activities</a></td>\n",
       "      <td id=\"T_d7945_row4_col2\" class=\"data row4 col2\" > <a href=\"https://api.test.datacite.org/dois/10.71760/ukllc-dataset-00005-02/activities\" rel=\"noopener noreferrer\" target=\"_blank\">10.71760/ukllc-dataset-00005-02/activities</a></td>\n",
       "    </tr>\n",
       "  </tbody>\n",
       "</table>\n"
      ],
      "text/plain": [
       "<pandas.io.formats.style.Styler at 0x2251b614050>"
      ]
     },
     "execution_count": 4,
     "metadata": {},
     "output_type": "execute_result"
    }
   ],
   "source": [
    "ds.version_history()"
   ]
  },
  {
   "cell_type": "markdown",
   "id": "c2b14ee4",
   "metadata": {},
   "source": [
    "## 3. Documentation"
   ]
  },
  {
   "cell_type": "code",
   "execution_count": 5,
   "id": "804d6db0",
   "metadata": {
    "execution": {
     "iopub.execute_input": "2025-07-28T17:41:52.779172Z",
     "iopub.status.busy": "2025-07-28T17:41:52.779172Z",
     "iopub.status.idle": "2025-07-28T17:41:52.782488Z",
     "shell.execute_reply": "2025-07-28T17:41:52.782488Z"
    },
    "tags": [
     "remove-input"
    ]
   },
   "outputs": [
    {
     "data": {
      "text/markdown": [
       "We are currently building a documentation storage system which will host useful documents related to datasets and data owners. We will surface these documents on Guidebook."
      ],
      "text/plain": [
       "<IPython.core.display.Markdown object>"
      ]
     },
     "metadata": {},
     "output_type": "display_data"
    }
   ],
   "source": [
    "ds.documentation()"
   ]
  },
  {
   "cell_type": "markdown",
   "id": "c7ce3db8",
   "metadata": {},
   "source": [
    "## 4. Useful Syntax"
   ]
  },
  {
   "cell_type": "code",
   "execution_count": 6,
   "id": "a382f384",
   "metadata": {
    "execution": {
     "iopub.execute_input": "2025-07-28T17:41:52.784494Z",
     "iopub.status.busy": "2025-07-28T17:41:52.784494Z",
     "iopub.status.idle": "2025-07-28T17:41:52.787605Z",
     "shell.execute_reply": "2025-07-28T17:41:52.787605Z"
    },
    "tags": [
     "remove-input"
    ]
   },
   "outputs": [
    {
     "data": {
      "text/markdown": [
       "Below we will include syntax that may be helpful to other researchers in the UK LLC TRE. For longer scripts, we will include a snippet of the code plus a link to Git where you can find the full scripts."
      ],
      "text/plain": [
       "<IPython.core.display.Markdown object>"
      ]
     },
     "metadata": {},
     "output_type": "display_data"
    }
   ],
   "source": [
    "ds.useful_syntax()"
   ]
  }
 ],
 "metadata": {
  "kernelspec": {
   "display_name": "jupbook",
   "language": "python",
   "name": "python3"
  },
  "language_info": {
   "codemirror_mode": {
    "name": "ipython",
    "version": 3
   },
   "file_extension": ".py",
   "mimetype": "text/x-python",
   "name": "python",
   "nbconvert_exporter": "python",
   "pygments_lexer": "ipython3",
   "version": "3.12.7"
  }
 },
 "nbformat": 4,
 "nbformat_minor": 5
}
