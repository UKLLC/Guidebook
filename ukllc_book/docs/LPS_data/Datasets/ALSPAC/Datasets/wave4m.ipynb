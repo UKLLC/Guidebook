{
 "cells": [
  {
   "cell_type": "markdown",
   "id": "b5c530bd",
   "metadata": {},
   "source": [
    "# Covid Questionnaire 4 Mothers (ALSPAC)"
   ]
  },
  {
   "cell_type": "code",
   "execution_count": 1,
   "id": "5cc279b9",
   "metadata": {
    "execution": {
     "iopub.execute_input": "2025-07-28T17:44:34.754435Z",
     "iopub.status.busy": "2025-07-28T17:44:34.753437Z",
     "iopub.status.idle": "2025-07-28T17:44:46.881289Z",
     "shell.execute_reply": "2025-07-28T17:44:46.881289Z"
    },
    "tags": [
     "remove-input"
    ]
   },
   "outputs": [
    {
     "data": {
      "text/markdown": [
       ">Last modified: 28 Jul 2025"
      ],
      "text/plain": [
       "<IPython.core.display.Markdown object>"
      ]
     },
     "metadata": {},
     "output_type": "display_data"
    }
   ],
   "source": [
    "\n",
    "import sys\n",
    "import os\n",
    "sys.path.append(os.path.abspath('../../../../scripts/'))\n",
    "from data_doc_helper import LPSDataSet as DS, last_modified\n",
    "API_KEY = os.environ['FASTAPI_KEY']\n",
    "ds = DS(\"ALSPAC\", \"wave4m\")\n",
    "last_modified()\n"
   ]
  },
  {
   "cell_type": "markdown",
   "id": "3b215996",
   "metadata": {},
   "source": [
    "## 1. Summary"
   ]
  },
  {
   "cell_type": "code",
   "execution_count": 2,
   "id": "55e1924e",
   "metadata": {
    "execution": {
     "iopub.execute_input": "2025-07-28T17:44:46.884060Z",
     "iopub.status.busy": "2025-07-28T17:44:46.884060Z",
     "iopub.status.idle": "2025-07-28T17:44:46.887914Z",
     "shell.execute_reply": "2025-07-28T17:44:46.887914Z"
    },
    "tags": [
     "remove-input"
    ]
   },
   "outputs": [
    {
     "data": {
      "text/markdown": [
       "All participants in the G0 mothers cohort were asked to complete an online questionnaire. The questions covered topics about wellbeing and the impact of COVID on work and family life. "
      ],
      "text/plain": [
       "<IPython.core.display.Markdown object>"
      ]
     },
     "metadata": {},
     "output_type": "display_data"
    }
   ],
   "source": [
    "ds.summary()"
   ]
  },
  {
   "cell_type": "code",
   "execution_count": 3,
   "id": "e3cfdf7b",
   "metadata": {
    "execution": {
     "iopub.execute_input": "2025-07-28T17:44:46.889919Z",
     "iopub.status.busy": "2025-07-28T17:44:46.889919Z",
     "iopub.status.idle": "2025-07-28T17:44:47.830873Z",
     "shell.execute_reply": "2025-07-28T17:44:47.830873Z"
    },
    "tags": [
     "remove-input"
    ]
   },
   "outputs": [
    {
     "data": {
      "text/html": [
       "<style type=\"text/css\">\n",
       "#T_10d1d th {\n",
       "  text-align: left;\n",
       "}\n",
       "#T_10d1d_row0_col0, #T_10d1d_row0_col1, #T_10d1d_row1_col0, #T_10d1d_row1_col1, #T_10d1d_row2_col0, #T_10d1d_row2_col1, #T_10d1d_row3_col0, #T_10d1d_row3_col1, #T_10d1d_row4_col0, #T_10d1d_row4_col1, #T_10d1d_row5_col0, #T_10d1d_row5_col1, #T_10d1d_row6_col0, #T_10d1d_row6_col1, #T_10d1d_row7_col0, #T_10d1d_row7_col1, #T_10d1d_row8_col0, #T_10d1d_row8_col1, #T_10d1d_row9_col0, #T_10d1d_row9_col1, #T_10d1d_row10_col0, #T_10d1d_row10_col1, #T_10d1d_row11_col0, #T_10d1d_row11_col1, #T_10d1d_row12_col0, #T_10d1d_row12_col1 {\n",
       "  text-align: left;\n",
       "}\n",
       "</style>\n",
       "<table id=\"T_10d1d\" style=\"font-size: 14px\">\n",
       "  <thead>\n",
       "    <tr>\n",
       "      <th id=\"T_10d1d_level0_col0\" class=\"col_heading level0 col0\" >Dataset Descriptor</th>\n",
       "      <th id=\"T_10d1d_level0_col1\" class=\"col_heading level0 col1\" >Dataset-specific Information</th>\n",
       "    </tr>\n",
       "  </thead>\n",
       "  <tbody>\n",
       "    <tr>\n",
       "      <td id=\"T_10d1d_row0_col0\" class=\"data row0 col0\" >Name of Dataset in TRE</td>\n",
       "      <td id=\"T_10d1d_row0_col1\" class=\"data row0 col1\" >ALSPAC_wave4m</td>\n",
       "    </tr>\n",
       "    <tr>\n",
       "      <td id=\"T_10d1d_row1_col0\" class=\"data row1 col0\" >Citation (APA)</td>\n",
       "      <td id=\"T_10d1d_row1_col1\" class=\"data row1 col1\" >University of Bristol, Avon Longitudinal Study of Parents & Children (ALSPAC). (2022). <i>Avon Longitudinal Study of Parents & Children (ALSPAC): Covid Questionnaire 4 Mothers.</i> UK Longitudinal Linkage Collaboration (UK LLC).  <a href=\"https://doi.org/10.71760/ukllc-dataset-00013-01\" rel=\"noopener noreferrer\" target=\"_blank\">https://doi.org/10.71760/ukllc-dataset-00013-01</a></td>\n",
       "    </tr>\n",
       "    <tr>\n",
       "      <td id=\"T_10d1d_row2_col0\" class=\"data row2 col0\" >Download Citation</td>\n",
       "      <td id=\"T_10d1d_row2_col1\" class=\"data row2 col1\" > <a href=\"https://api.datacite.org/application/vnd.citationstyles.csl+json/10.71760/ukllc-dataset-00013-01\" rel=\"noopener noreferrer\" target=\"_blank\">Citeproc JSON</a>&nbsp;&nbsp;&nbsp;&nbsp; <a href=\"https://api.datacite.org/application/x-bibtex/10.71760/ukllc-dataset-00013-01\" rel=\"noopener noreferrer\" target=\"_blank\">BibTeX</a>&nbsp;&nbsp;&nbsp;&nbsp; <a href=\"https://api.datacite.org/application/x-research-info-systems/10.71760/ukllc-dataset-00013-01\" rel=\"noopener noreferrer\" target=\"_blank\">RIS</a></td>\n",
       "    </tr>\n",
       "    <tr>\n",
       "      <td id=\"T_10d1d_row3_col0\" class=\"data row3 col0\" >Series</td>\n",
       "      <td id=\"T_10d1d_row3_col1\" class=\"data row3 col1\" > <a href=\"https://guidebook.ukllc.ac.uk/docs/lps_data/lps%20profiles/ALSPAC\">Avon Longitudinal Study of Parents & Children (ALSPAC)</a></td>\n",
       "    </tr>\n",
       "    <tr>\n",
       "      <td id=\"T_10d1d_row4_col0\" class=\"data row4 col0\" >Owner</td>\n",
       "      <td id=\"T_10d1d_row4_col1\" class=\"data row4 col1\" >University of Bristol </td>\n",
       "    </tr>\n",
       "    <tr>\n",
       "      <td id=\"T_10d1d_row5_col0\" class=\"data row5 col0\" >Temporal Coverage</td>\n",
       "      <td id=\"T_10d1d_row5_col1\" class=\"data row5 col1\" >11/2020 - 03/2021</td>\n",
       "    </tr>\n",
       "    <tr>\n",
       "      <td id=\"T_10d1d_row6_col0\" class=\"data row6 col0\" >Keywords</td>\n",
       "      <td id=\"T_10d1d_row6_col1\" class=\"data row6 col1\" ></td>\n",
       "    </tr>\n",
       "    <tr>\n",
       "      <td id=\"T_10d1d_row7_col0\" class=\"data row7 col0\" >Participants Invited</td>\n",
       "      <td id=\"T_10d1d_row7_col1\" class=\"data row7 col1\" >5014</td>\n",
       "    </tr>\n",
       "    <tr>\n",
       "      <td id=\"T_10d1d_row8_col0\" class=\"data row8 col0\" >Participant Count</td>\n",
       "      <td id=\"T_10d1d_row8_col1\" class=\"data row8 col1\" >679</td>\n",
       "    </tr>\n",
       "    <tr>\n",
       "      <td id=\"T_10d1d_row9_col0\" class=\"data row9 col0\" >Number of variables</td>\n",
       "      <td id=\"T_10d1d_row9_col1\" class=\"data row9 col1\" >427</td>\n",
       "    </tr>\n",
       "    <tr>\n",
       "      <td id=\"T_10d1d_row10_col0\" class=\"data row10 col0\" >Number of observations</td>\n",
       "      <td id=\"T_10d1d_row10_col1\" class=\"data row10 col1\" >4978</td>\n",
       "    </tr>\n",
       "    <tr>\n",
       "      <td id=\"T_10d1d_row11_col0\" class=\"data row11 col0\" >Specific Restrictions to Data Use</td>\n",
       "      <td id=\"T_10d1d_row11_col1\" class=\"data row11 col1\" >None</td>\n",
       "    </tr>\n",
       "    <tr>\n",
       "      <td id=\"T_10d1d_row12_col0\" class=\"data row12 col0\" >Build a Data Request</td>\n",
       "      <td id=\"T_10d1d_row12_col1\" class=\"data row12 col1\" > <a href=\"https://explore.ukllc.ac.uk/\" rel=\"noopener noreferrer\" target=\"_blank\">https://explore.ukllc.ac.uk/</a></td>\n",
       "    </tr>\n",
       "  </tbody>\n",
       "</table>\n"
      ],
      "text/plain": [
       "<pandas.io.formats.style.Styler at 0x24f32592ff0>"
      ]
     },
     "execution_count": 3,
     "metadata": {},
     "output_type": "execute_result"
    }
   ],
   "source": [
    "ds.info_table()"
   ]
  },
  {
   "cell_type": "markdown",
   "id": "6a4991c0",
   "metadata": {},
   "source": [
    "## 2. Version History"
   ]
  },
  {
   "cell_type": "code",
   "execution_count": 4,
   "id": "35c3403f",
   "metadata": {
    "execution": {
     "iopub.execute_input": "2025-07-28T17:44:47.832946Z",
     "iopub.status.busy": "2025-07-28T17:44:47.832946Z",
     "iopub.status.idle": "2025-07-28T17:44:52.489962Z",
     "shell.execute_reply": "2025-07-28T17:44:52.489962Z"
    },
    "tags": [
     "remove-input"
    ]
   },
   "outputs": [
    {
     "data": {
      "text/html": [
       "<style type=\"text/css\">\n",
       "#T_bc787 th {\n",
       "  text-align: left;\n",
       "}\n",
       "#T_bc787_row0_col0, #T_bc787_row0_col1, #T_bc787_row1_col0, #T_bc787_row1_col1, #T_bc787_row2_col0, #T_bc787_row2_col1, #T_bc787_row3_col0, #T_bc787_row3_col1, #T_bc787_row4_col0, #T_bc787_row4_col1 {\n",
       "  text-align: left;\n",
       "}\n",
       "</style>\n",
       "<table id=\"T_bc787\" style=\"font-size: 14px\">\n",
       "  <thead>\n",
       "    <tr>\n",
       "      <th id=\"T_bc787_level0_col0\" class=\"col_heading level0 col0\" >Version</th>\n",
       "      <th id=\"T_bc787_level0_col1\" class=\"col_heading level0 col1\" >1</th>\n",
       "    </tr>\n",
       "  </thead>\n",
       "  <tbody>\n",
       "    <tr>\n",
       "      <td id=\"T_bc787_row0_col0\" class=\"data row0 col0\" >Version Date</td>\n",
       "      <td id=\"T_bc787_row0_col1\" class=\"data row0 col1\" >31 May 2022</td>\n",
       "    </tr>\n",
       "    <tr>\n",
       "      <td id=\"T_bc787_row1_col0\" class=\"data row1 col0\" >Number of Variables</td>\n",
       "      <td id=\"T_bc787_row1_col1\" class=\"data row1 col1\" >427</td>\n",
       "    </tr>\n",
       "    <tr>\n",
       "      <td id=\"T_bc787_row2_col0\" class=\"data row2 col0\" >Number of Observations</td>\n",
       "      <td id=\"T_bc787_row2_col1\" class=\"data row2 col1\" >4978</td>\n",
       "    </tr>\n",
       "    <tr>\n",
       "      <td id=\"T_bc787_row3_col0\" class=\"data row3 col0\" >DOI</td>\n",
       "      <td id=\"T_bc787_row3_col1\" class=\"data row3 col1\" > <a href=\"https://doi.org/10.71760/ukllc-dataset-00013-01\" rel=\"noopener noreferrer\" target=\"_blank\">10.71760/ukllc-dataset-00013-01</a></td>\n",
       "    </tr>\n",
       "    <tr>\n",
       "      <td id=\"T_bc787_row4_col0\" class=\"data row4 col0\" >Change Log</td>\n",
       "      <td id=\"T_bc787_row4_col1\" class=\"data row4 col1\" > <a href=\"https://api.test.datacite.org/dois/10.71760/ukllc-dataset-00013-01/activities\" rel=\"noopener noreferrer\" target=\"_blank\">10.71760/ukllc-dataset-00013-01/activities</a></td>\n",
       "    </tr>\n",
       "  </tbody>\n",
       "</table>\n"
      ],
      "text/plain": [
       "<pandas.io.formats.style.Styler at 0x24f382477d0>"
      ]
     },
     "execution_count": 4,
     "metadata": {},
     "output_type": "execute_result"
    }
   ],
   "source": [
    "ds.version_history()"
   ]
  },
  {
   "cell_type": "markdown",
   "id": "f8d22074",
   "metadata": {},
   "source": [
    "## 3. Documentation"
   ]
  },
  {
   "cell_type": "code",
   "execution_count": 5,
   "id": "04565c93",
   "metadata": {
    "execution": {
     "iopub.execute_input": "2025-07-28T17:44:52.494377Z",
     "iopub.status.busy": "2025-07-28T17:44:52.493379Z",
     "iopub.status.idle": "2025-07-28T17:44:52.497340Z",
     "shell.execute_reply": "2025-07-28T17:44:52.497340Z"
    },
    "tags": [
     "remove-input"
    ]
   },
   "outputs": [
    {
     "data": {
      "text/markdown": [
       "We are currently building a documentation storage system which will host useful documents related to datasets and data owners. We will surface these documents on Guidebook."
      ],
      "text/plain": [
       "<IPython.core.display.Markdown object>"
      ]
     },
     "metadata": {},
     "output_type": "display_data"
    }
   ],
   "source": [
    "ds.documentation()"
   ]
  },
  {
   "cell_type": "markdown",
   "id": "16bac5ca",
   "metadata": {},
   "source": [
    "## 4. Useful Syntax"
   ]
  },
  {
   "cell_type": "code",
   "execution_count": 6,
   "id": "2d11faf9",
   "metadata": {
    "execution": {
     "iopub.execute_input": "2025-07-28T17:44:52.499344Z",
     "iopub.status.busy": "2025-07-28T17:44:52.499344Z",
     "iopub.status.idle": "2025-07-28T17:44:52.502573Z",
     "shell.execute_reply": "2025-07-28T17:44:52.502573Z"
    },
    "tags": [
     "remove-input"
    ]
   },
   "outputs": [
    {
     "data": {
      "text/markdown": [
       "Below we will include syntax that may be helpful to other researchers in the UK LLC TRE. For longer scripts, we will include a snippet of the code plus a link to Git where you can find the full scripts."
      ],
      "text/plain": [
       "<IPython.core.display.Markdown object>"
      ]
     },
     "metadata": {},
     "output_type": "display_data"
    }
   ],
   "source": [
    "ds.useful_syntax()"
   ]
  }
 ],
 "metadata": {
  "language_info": {
   "codemirror_mode": {
    "name": "ipython",
    "version": 3
   },
   "file_extension": ".py",
   "mimetype": "text/x-python",
   "name": "python",
   "nbconvert_exporter": "python",
   "pygments_lexer": "ipython3",
   "version": "3.12.7"
  }
 },
 "nbformat": 4,
 "nbformat_minor": 5
}
