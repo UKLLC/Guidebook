{
 "cells": [
  {
   "cell_type": "markdown",
   "id": "2e330cb7",
   "metadata": {},
   "source": [
    "# Sociodemographic G1 (ALSPAC)"
   ]
  },
  {
   "cell_type": "code",
   "execution_count": 1,
   "id": "7b8ae9b3",
   "metadata": {
    "execution": {
     "iopub.execute_input": "2025-07-17T14:36:59.366521Z",
     "iopub.status.busy": "2025-07-17T14:36:59.366521Z",
     "iopub.status.idle": "2025-07-17T14:37:07.665876Z",
     "shell.execute_reply": "2025-07-17T14:37:07.663820Z"
    },
    "tags": [
     "remove-input"
    ]
   },
   "outputs": [
    {
     "data": {
      "text/markdown": [
       ">Last modified: 17 Jul 2025"
      ],
      "text/plain": [
       "<IPython.core.display.Markdown object>"
      ]
     },
     "metadata": {},
     "output_type": "display_data"
    }
   ],
   "source": [
    "\n",
    "import sys\n",
    "import os\n",
    "sys.path.append(os.path.abspath('../../../../scripts/'))\n",
    "from data_doc_helper import LPSDataSet as DS, last_modified\n",
    "API_KEY = os.environ['FASTAPI_KEY']\n",
    "ds = DS(\"ALSPAC\", \"wave0y\")\n",
    "last_modified()\n"
   ]
  },
  {
   "cell_type": "markdown",
   "id": "e1fdde72",
   "metadata": {},
   "source": [
    "## 1. Summary"
   ]
  },
  {
   "cell_type": "code",
   "execution_count": 2,
   "id": "7a6f23a2",
   "metadata": {
    "execution": {
     "iopub.execute_input": "2025-07-17T14:37:07.674856Z",
     "iopub.status.busy": "2025-07-17T14:37:07.673866Z",
     "iopub.status.idle": "2025-07-17T14:37:07.684403Z",
     "shell.execute_reply": "2025-07-17T14:37:07.682386Z"
    },
    "tags": [
     "remove-input"
    ]
   },
   "outputs": [
    {
     "data": {
      "text/markdown": [
       "A collection of sociodemographic variables from G1  collected from multiple questionnaires"
      ],
      "text/plain": [
       "<IPython.core.display.Markdown object>"
      ]
     },
     "metadata": {},
     "output_type": "display_data"
    }
   ],
   "source": [
    "ds.summary()"
   ]
  },
  {
   "cell_type": "code",
   "execution_count": 3,
   "id": "fccbf042",
   "metadata": {
    "execution": {
     "iopub.execute_input": "2025-07-17T14:37:07.689406Z",
     "iopub.status.busy": "2025-07-17T14:37:07.689406Z",
     "iopub.status.idle": "2025-07-17T14:37:08.812673Z",
     "shell.execute_reply": "2025-07-17T14:37:08.812673Z"
    },
    "tags": [
     "remove-input"
    ]
   },
   "outputs": [
    {
     "data": {
      "text/html": [
       "<style type=\"text/css\">\n",
       "#T_5cc09 th {\n",
       "  text-align: left;\n",
       "}\n",
       "#T_5cc09_row0_col0, #T_5cc09_row0_col1, #T_5cc09_row1_col0, #T_5cc09_row1_col1, #T_5cc09_row2_col0, #T_5cc09_row2_col1, #T_5cc09_row3_col0, #T_5cc09_row3_col1, #T_5cc09_row4_col0, #T_5cc09_row4_col1, #T_5cc09_row5_col0, #T_5cc09_row5_col1, #T_5cc09_row6_col0, #T_5cc09_row6_col1, #T_5cc09_row7_col0, #T_5cc09_row7_col1, #T_5cc09_row8_col0, #T_5cc09_row8_col1, #T_5cc09_row9_col0, #T_5cc09_row9_col1, #T_5cc09_row10_col0, #T_5cc09_row10_col1, #T_5cc09_row11_col0, #T_5cc09_row11_col1, #T_5cc09_row12_col0, #T_5cc09_row12_col1 {\n",
       "  text-align: left;\n",
       "}\n",
       "</style>\n",
       "<table id=\"T_5cc09\" style=\"font-size: 14px\">\n",
       "  <thead>\n",
       "    <tr>\n",
       "      <th id=\"T_5cc09_level0_col0\" class=\"col_heading level0 col0\" >Dataset Descriptor</th>\n",
       "      <th id=\"T_5cc09_level0_col1\" class=\"col_heading level0 col1\" >Dataset-specific Information</th>\n",
       "    </tr>\n",
       "  </thead>\n",
       "  <tbody>\n",
       "    <tr>\n",
       "      <td id=\"T_5cc09_row0_col0\" class=\"data row0 col0\" >Name of Dataset in TRE</td>\n",
       "      <td id=\"T_5cc09_row0_col1\" class=\"data row0 col1\" >ALSPAC_wave0y</td>\n",
       "    </tr>\n",
       "    <tr>\n",
       "      <td id=\"T_5cc09_row1_col0\" class=\"data row1 col0\" >Citation (APA)</td>\n",
       "      <td id=\"T_5cc09_row1_col1\" class=\"data row1 col1\" >University of Bristol, Avon Longitudinal Study of Parents & Children (ALSPAC). (2022). <i>Avon Longitudinal Study of Parents & Children (ALSPAC): Sociodemographic G1.</i> UK Longitudinal Linkage Collaboration (UK LLC).  <a href=\"https://doi.org/10.83126/ukllc-dataset-00087-01\" rel=\"noopener noreferrer\" target=\"_blank\">https://doi.org/10.83126/ukllc-dataset-00087-01</a></td>\n",
       "    </tr>\n",
       "    <tr>\n",
       "      <td id=\"T_5cc09_row2_col0\" class=\"data row2 col0\" >Download Citation</td>\n",
       "      <td id=\"T_5cc09_row2_col1\" class=\"data row2 col1\" > <a href=\"https://api.test.datacite.org/application/vnd.citationstyles.csl+json/10.83126/ukllc-dataset-00087-01\" rel=\"noopener noreferrer\" target=\"_blank\">Citeproc JSON</a>&nbsp;&nbsp;&nbsp;&nbsp; <a href=\"https://api.test.datacite.org/application/x-bibtex/10.83126/ukllc-dataset-00087-01\" rel=\"noopener noreferrer\" target=\"_blank\">BibTeX</a>&nbsp;&nbsp;&nbsp;&nbsp; <a href=\"https://api.test.datacite.org/application/x-research-info-systems/10.83126/ukllc-dataset-00087-01\" rel=\"noopener noreferrer\" target=\"_blank\">RIS</a></td>\n",
       "    </tr>\n",
       "    <tr>\n",
       "      <td id=\"T_5cc09_row3_col0\" class=\"data row3 col0\" >Series</td>\n",
       "      <td id=\"T_5cc09_row3_col1\" class=\"data row3 col1\" > <a href=\"https://guidebook.ukllc.ac.uk/docs/lps/lps%20profiles/ALSPAC\">Avon Longitudinal Study of Parents & Children (ALSPAC)</a></td>\n",
       "    </tr>\n",
       "    <tr>\n",
       "      <td id=\"T_5cc09_row4_col0\" class=\"data row4 col0\" >Owner</td>\n",
       "      <td id=\"T_5cc09_row4_col1\" class=\"data row4 col1\" >University of Bristol </td>\n",
       "    </tr>\n",
       "    <tr>\n",
       "      <td id=\"T_5cc09_row5_col0\" class=\"data row5 col0\" >Temporal Coverage</td>\n",
       "      <td id=\"T_5cc09_row5_col1\" class=\"data row5 col1\" >01/2020 - 01/2023</td>\n",
       "    </tr>\n",
       "    <tr>\n",
       "      <td id=\"T_5cc09_row6_col0\" class=\"data row6 col0\" >Keywords</td>\n",
       "      <td id=\"T_5cc09_row6_col1\" class=\"data row6 col1\" ></td>\n",
       "    </tr>\n",
       "    <tr>\n",
       "      <td id=\"T_5cc09_row7_col0\" class=\"data row7 col0\" >Participants Invited</td>\n",
       "      <td id=\"T_5cc09_row7_col1\" class=\"data row7 col1\" >15645</td>\n",
       "    </tr>\n",
       "    <tr>\n",
       "      <td id=\"T_5cc09_row8_col0\" class=\"data row8 col0\" >Participant Count</td>\n",
       "      <td id=\"T_5cc09_row8_col1\" class=\"data row8 col1\" >5738</td>\n",
       "    </tr>\n",
       "    <tr>\n",
       "      <td id=\"T_5cc09_row9_col0\" class=\"data row9 col0\" >Number of variables</td>\n",
       "      <td id=\"T_5cc09_row9_col1\" class=\"data row9 col1\" >55</td>\n",
       "    </tr>\n",
       "    <tr>\n",
       "      <td id=\"T_5cc09_row10_col0\" class=\"data row10 col0\" >Number of observations</td>\n",
       "      <td id=\"T_5cc09_row10_col1\" class=\"data row10 col1\" >6687</td>\n",
       "    </tr>\n",
       "    <tr>\n",
       "      <td id=\"T_5cc09_row11_col0\" class=\"data row11 col0\" >Specific Restrictions to Data Use</td>\n",
       "      <td id=\"T_5cc09_row11_col1\" class=\"data row11 col1\" >None</td>\n",
       "    </tr>\n",
       "    <tr>\n",
       "      <td id=\"T_5cc09_row12_col0\" class=\"data row12 col0\" >Build a Data Request</td>\n",
       "      <td id=\"T_5cc09_row12_col1\" class=\"data row12 col1\" > <a href=\"https://explore.ukllc.ac.uk/\" rel=\"noopener noreferrer\" target=\"_blank\">https://explore.ukllc.ac.uk/</a></td>\n",
       "    </tr>\n",
       "  </tbody>\n",
       "</table>\n"
      ],
      "text/plain": [
       "<pandas.io.formats.style.Styler at 0x1b5ac0ef920>"
      ]
     },
     "execution_count": 3,
     "metadata": {},
     "output_type": "execute_result"
    }
   ],
   "source": [
    "ds.info_table()"
   ]
  },
  {
   "cell_type": "markdown",
   "id": "c0c24e86",
   "metadata": {},
   "source": [
    "## 2. Version History"
   ]
  },
  {
   "cell_type": "code",
   "execution_count": 4,
   "id": "9089822d",
   "metadata": {
    "execution": {
     "iopub.execute_input": "2025-07-17T14:37:08.817152Z",
     "iopub.status.busy": "2025-07-17T14:37:08.817152Z",
     "iopub.status.idle": "2025-07-17T14:37:12.109023Z",
     "shell.execute_reply": "2025-07-17T14:37:12.107025Z"
    },
    "tags": [
     "remove-input"
    ]
   },
   "outputs": [
    {
     "data": {
      "text/html": [
       "<style type=\"text/css\">\n",
       "#T_0a852 th {\n",
       "  text-align: left;\n",
       "}\n",
       "#T_0a852_row0_col0, #T_0a852_row0_col1, #T_0a852_row1_col0, #T_0a852_row1_col1, #T_0a852_row2_col0, #T_0a852_row2_col1, #T_0a852_row3_col0, #T_0a852_row3_col1, #T_0a852_row4_col0, #T_0a852_row4_col1 {\n",
       "  text-align: left;\n",
       "}\n",
       "</style>\n",
       "<table id=\"T_0a852\" style=\"font-size: 14px\">\n",
       "  <thead>\n",
       "    <tr>\n",
       "      <th id=\"T_0a852_level0_col0\" class=\"col_heading level0 col0\" >Version</th>\n",
       "      <th id=\"T_0a852_level0_col1\" class=\"col_heading level0 col1\" >1</th>\n",
       "    </tr>\n",
       "  </thead>\n",
       "  <tbody>\n",
       "    <tr>\n",
       "      <td id=\"T_0a852_row0_col0\" class=\"data row0 col0\" >Version Date</td>\n",
       "      <td id=\"T_0a852_row0_col1\" class=\"data row0 col1\" >31 May 2022</td>\n",
       "    </tr>\n",
       "    <tr>\n",
       "      <td id=\"T_0a852_row1_col0\" class=\"data row1 col0\" >Number of Variables</td>\n",
       "      <td id=\"T_0a852_row1_col1\" class=\"data row1 col1\" >55</td>\n",
       "    </tr>\n",
       "    <tr>\n",
       "      <td id=\"T_0a852_row2_col0\" class=\"data row2 col0\" >Number of Observations</td>\n",
       "      <td id=\"T_0a852_row2_col1\" class=\"data row2 col1\" >6687</td>\n",
       "    </tr>\n",
       "    <tr>\n",
       "      <td id=\"T_0a852_row3_col0\" class=\"data row3 col0\" >DOI</td>\n",
       "      <td id=\"T_0a852_row3_col1\" class=\"data row3 col1\" > <a href=\"https://doi.org/10.83126/ukllc-dataset-00087-01\" rel=\"noopener noreferrer\" target=\"_blank\">10.83126/ukllc-dataset-00087-01</a></td>\n",
       "    </tr>\n",
       "    <tr>\n",
       "      <td id=\"T_0a852_row4_col0\" class=\"data row4 col0\" >Change Log</td>\n",
       "      <td id=\"T_0a852_row4_col1\" class=\"data row4 col1\" > <a href=\"https://api.test.datacite.org/dois/10.83126/ukllc-dataset-00087-01/activities\" rel=\"noopener noreferrer\" target=\"_blank\">10.83126/ukllc-dataset-00087-01/activities</a></td>\n",
       "    </tr>\n",
       "  </tbody>\n",
       "</table>\n"
      ],
      "text/plain": [
       "<pandas.io.formats.style.Styler at 0x1b5ae077d40>"
      ]
     },
     "execution_count": 4,
     "metadata": {},
     "output_type": "execute_result"
    }
   ],
   "source": [
    "ds.version_history()"
   ]
  },
  {
   "cell_type": "markdown",
   "id": "4a4167e7",
   "metadata": {},
   "source": [
    "## 3. Documentation"
   ]
  },
  {
   "cell_type": "code",
   "execution_count": 5,
   "id": "9cf5257a",
   "metadata": {
    "execution": {
     "iopub.execute_input": "2025-07-17T14:37:12.119447Z",
     "iopub.status.busy": "2025-07-17T14:37:12.118439Z",
     "iopub.status.idle": "2025-07-17T14:37:12.126781Z",
     "shell.execute_reply": "2025-07-17T14:37:12.125769Z"
    },
    "tags": [
     "remove-input"
    ]
   },
   "outputs": [
    {
     "data": {
      "text/markdown": [
       "We are currently building a documentation storage system which will host useful documents related to datasets and data owners. We will surface these documents on Guidebook."
      ],
      "text/plain": [
       "<IPython.core.display.Markdown object>"
      ]
     },
     "metadata": {},
     "output_type": "display_data"
    }
   ],
   "source": [
    "ds.documentation()"
   ]
  },
  {
   "cell_type": "markdown",
   "id": "275178ce",
   "metadata": {},
   "source": [
    "## 4. Useful Syntax"
   ]
  },
  {
   "cell_type": "code",
   "execution_count": 6,
   "id": "134eea54",
   "metadata": {
    "execution": {
     "iopub.execute_input": "2025-07-17T14:37:12.130784Z",
     "iopub.status.busy": "2025-07-17T14:37:12.130784Z",
     "iopub.status.idle": "2025-07-17T14:37:12.137281Z",
     "shell.execute_reply": "2025-07-17T14:37:12.136261Z"
    },
    "tags": [
     "remove-input"
    ]
   },
   "outputs": [
    {
     "data": {
      "text/markdown": [
       "Below we will include syntax that may be helpful to other researchers in the UK LLC TRE. For longer scripts, we will include a snippet of the code plus a link to Git where you can find the full scripts."
      ],
      "text/plain": [
       "<IPython.core.display.Markdown object>"
      ]
     },
     "metadata": {},
     "output_type": "display_data"
    }
   ],
   "source": [
    "ds.useful_syntax()"
   ]
  }
 ],
 "metadata": {
  "language_info": {
   "codemirror_mode": {
    "name": "ipython",
    "version": 3
   },
   "file_extension": ".py",
   "mimetype": "text/x-python",
   "name": "python",
   "nbconvert_exporter": "python",
   "pygments_lexer": "ipython3",
   "version": "3.12.7"
  }
 },
 "nbformat": 4,
 "nbformat_minor": 5
}
