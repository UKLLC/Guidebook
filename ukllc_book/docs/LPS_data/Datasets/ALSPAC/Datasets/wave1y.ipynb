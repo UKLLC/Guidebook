{
 "cells": [
  {
   "cell_type": "markdown",
   "id": "f8d57348",
   "metadata": {},
   "source": [
    "# Covid Questionnaire 1 G1 (ALSPAC)"
   ]
  },
  {
   "cell_type": "code",
   "execution_count": 1,
   "id": "41073388",
   "metadata": {
    "execution": {
     "iopub.execute_input": "2025-07-28T17:42:35.931444Z",
     "iopub.status.busy": "2025-07-28T17:42:35.930444Z",
     "iopub.status.idle": "2025-07-28T17:42:47.787935Z",
     "shell.execute_reply": "2025-07-28T17:42:47.786925Z"
    },
    "tags": [
     "remove-input"
    ]
   },
   "outputs": [
    {
     "data": {
      "text/markdown": [
       ">Last modified: 28 Jul 2025"
      ],
      "text/plain": [
       "<IPython.core.display.Markdown object>"
      ]
     },
     "metadata": {},
     "output_type": "display_data"
    }
   ],
   "source": [
    "\n",
    "import sys\n",
    "import os\n",
    "sys.path.append(os.path.abspath('../../../../scripts/'))\n",
    "from data_doc_helper import LPSDataSet as DS, last_modified\n",
    "API_KEY = os.environ['FASTAPI_KEY']\n",
    "ds = DS(\"ALSPAC\", \"wave1y\")\n",
    "last_modified()\n"
   ]
  },
  {
   "cell_type": "markdown",
   "id": "9fcc8649",
   "metadata": {},
   "source": [
    "## 1. Summary"
   ]
  },
  {
   "cell_type": "code",
   "execution_count": 2,
   "id": "1a6a03d0",
   "metadata": {
    "execution": {
     "iopub.execute_input": "2025-07-28T17:42:47.791942Z",
     "iopub.status.busy": "2025-07-28T17:42:47.790940Z",
     "iopub.status.idle": "2025-07-28T17:42:47.795942Z",
     "shell.execute_reply": "2025-07-28T17:42:47.795942Z"
    },
    "tags": [
     "remove-input"
    ]
   },
   "outputs": [
    {
     "data": {
      "text/markdown": [
       "All participants in the G1 cohort were asked to complete an online questionnaire. The questions covered topics about wellbeing and the impact of COVID on work and family life. "
      ],
      "text/plain": [
       "<IPython.core.display.Markdown object>"
      ]
     },
     "metadata": {},
     "output_type": "display_data"
    }
   ],
   "source": [
    "ds.summary()"
   ]
  },
  {
   "cell_type": "code",
   "execution_count": 3,
   "id": "291d14a7",
   "metadata": {
    "execution": {
     "iopub.execute_input": "2025-07-28T17:42:47.798117Z",
     "iopub.status.busy": "2025-07-28T17:42:47.798117Z",
     "iopub.status.idle": "2025-07-28T17:42:48.832358Z",
     "shell.execute_reply": "2025-07-28T17:42:48.832358Z"
    },
    "tags": [
     "remove-input"
    ]
   },
   "outputs": [
    {
     "data": {
      "text/html": [
       "<style type=\"text/css\">\n",
       "#T_7aac4 th {\n",
       "  text-align: left;\n",
       "}\n",
       "#T_7aac4_row0_col0, #T_7aac4_row0_col1, #T_7aac4_row1_col0, #T_7aac4_row1_col1, #T_7aac4_row2_col0, #T_7aac4_row2_col1, #T_7aac4_row3_col0, #T_7aac4_row3_col1, #T_7aac4_row4_col0, #T_7aac4_row4_col1, #T_7aac4_row5_col0, #T_7aac4_row5_col1, #T_7aac4_row6_col0, #T_7aac4_row6_col1, #T_7aac4_row7_col0, #T_7aac4_row7_col1, #T_7aac4_row8_col0, #T_7aac4_row8_col1, #T_7aac4_row9_col0, #T_7aac4_row9_col1, #T_7aac4_row10_col0, #T_7aac4_row10_col1, #T_7aac4_row11_col0, #T_7aac4_row11_col1, #T_7aac4_row12_col0, #T_7aac4_row12_col1 {\n",
       "  text-align: left;\n",
       "}\n",
       "</style>\n",
       "<table id=\"T_7aac4\" style=\"font-size: 14px\">\n",
       "  <thead>\n",
       "    <tr>\n",
       "      <th id=\"T_7aac4_level0_col0\" class=\"col_heading level0 col0\" >Dataset Descriptor</th>\n",
       "      <th id=\"T_7aac4_level0_col1\" class=\"col_heading level0 col1\" >Dataset-specific Information</th>\n",
       "    </tr>\n",
       "  </thead>\n",
       "  <tbody>\n",
       "    <tr>\n",
       "      <td id=\"T_7aac4_row0_col0\" class=\"data row0 col0\" >Name of Dataset in TRE</td>\n",
       "      <td id=\"T_7aac4_row0_col1\" class=\"data row0 col1\" >ALSPAC_wave1y</td>\n",
       "    </tr>\n",
       "    <tr>\n",
       "      <td id=\"T_7aac4_row1_col0\" class=\"data row1 col0\" >Citation (APA)</td>\n",
       "      <td id=\"T_7aac4_row1_col1\" class=\"data row1 col1\" >University of Bristol, Avon Longitudinal Study of Parents & Children (ALSPAC). (2021). <i>Avon Longitudinal Study of Parents & Children (ALSPAC): Covid Questionnaire 1 G1.</i> UK Longitudinal Linkage Collaboration (UK LLC).  <a href=\"https://doi.org/10.71760/ukllc-dataset-00008-01\" rel=\"noopener noreferrer\" target=\"_blank\">https://doi.org/10.71760/ukllc-dataset-00008-01</a></td>\n",
       "    </tr>\n",
       "    <tr>\n",
       "      <td id=\"T_7aac4_row2_col0\" class=\"data row2 col0\" >Download Citation</td>\n",
       "      <td id=\"T_7aac4_row2_col1\" class=\"data row2 col1\" > <a href=\"https://api.datacite.org/application/vnd.citationstyles.csl+json/10.71760/ukllc-dataset-00008-01\" rel=\"noopener noreferrer\" target=\"_blank\">Citeproc JSON</a>&nbsp;&nbsp;&nbsp;&nbsp; <a href=\"https://api.datacite.org/application/x-bibtex/10.71760/ukllc-dataset-00008-01\" rel=\"noopener noreferrer\" target=\"_blank\">BibTeX</a>&nbsp;&nbsp;&nbsp;&nbsp; <a href=\"https://api.datacite.org/application/x-research-info-systems/10.71760/ukllc-dataset-00008-01\" rel=\"noopener noreferrer\" target=\"_blank\">RIS</a></td>\n",
       "    </tr>\n",
       "    <tr>\n",
       "      <td id=\"T_7aac4_row3_col0\" class=\"data row3 col0\" >Series</td>\n",
       "      <td id=\"T_7aac4_row3_col1\" class=\"data row3 col1\" > <a href=\"https://guidebook.ukllc.ac.uk/docs/lps_data/lps%20profiles/ALSPAC\">Avon Longitudinal Study of Parents & Children (ALSPAC)</a></td>\n",
       "    </tr>\n",
       "    <tr>\n",
       "      <td id=\"T_7aac4_row4_col0\" class=\"data row4 col0\" >Owner</td>\n",
       "      <td id=\"T_7aac4_row4_col1\" class=\"data row4 col1\" >University of Bristol </td>\n",
       "    </tr>\n",
       "    <tr>\n",
       "      <td id=\"T_7aac4_row5_col0\" class=\"data row5 col0\" >Temporal Coverage</td>\n",
       "      <td id=\"T_7aac4_row5_col1\" class=\"data row5 col1\" >04/2020 - 05/2020</td>\n",
       "    </tr>\n",
       "    <tr>\n",
       "      <td id=\"T_7aac4_row6_col0\" class=\"data row6 col0\" >Keywords</td>\n",
       "      <td id=\"T_7aac4_row6_col1\" class=\"data row6 col1\" ></td>\n",
       "    </tr>\n",
       "    <tr>\n",
       "      <td id=\"T_7aac4_row7_col0\" class=\"data row7 col0\" >Participants Invited</td>\n",
       "      <td id=\"T_7aac4_row7_col1\" class=\"data row7 col1\" >5855</td>\n",
       "    </tr>\n",
       "    <tr>\n",
       "      <td id=\"T_7aac4_row8_col0\" class=\"data row8 col0\" >Participant Count</td>\n",
       "      <td id=\"T_7aac4_row8_col1\" class=\"data row8 col1\" >2607</td>\n",
       "    </tr>\n",
       "    <tr>\n",
       "      <td id=\"T_7aac4_row9_col0\" class=\"data row9 col0\" >Number of variables</td>\n",
       "      <td id=\"T_7aac4_row9_col1\" class=\"data row9 col1\" >461</td>\n",
       "    </tr>\n",
       "    <tr>\n",
       "      <td id=\"T_7aac4_row10_col0\" class=\"data row10 col0\" >Number of observations</td>\n",
       "      <td id=\"T_7aac4_row10_col1\" class=\"data row10 col1\" >2666</td>\n",
       "    </tr>\n",
       "    <tr>\n",
       "      <td id=\"T_7aac4_row11_col0\" class=\"data row11 col0\" >Specific Restrictions to Data Use</td>\n",
       "      <td id=\"T_7aac4_row11_col1\" class=\"data row11 col1\" >None</td>\n",
       "    </tr>\n",
       "    <tr>\n",
       "      <td id=\"T_7aac4_row12_col0\" class=\"data row12 col0\" >Build a Data Request</td>\n",
       "      <td id=\"T_7aac4_row12_col1\" class=\"data row12 col1\" > <a href=\"https://explore.ukllc.ac.uk/\" rel=\"noopener noreferrer\" target=\"_blank\">https://explore.ukllc.ac.uk/</a></td>\n",
       "    </tr>\n",
       "  </tbody>\n",
       "</table>\n"
      ],
      "text/plain": [
       "<pandas.io.formats.style.Styler at 0x2554cf43c20>"
      ]
     },
     "execution_count": 3,
     "metadata": {},
     "output_type": "execute_result"
    }
   ],
   "source": [
    "ds.info_table()"
   ]
  },
  {
   "cell_type": "markdown",
   "id": "f74615b7",
   "metadata": {},
   "source": [
    "## 2. Version History"
   ]
  },
  {
   "cell_type": "code",
   "execution_count": 4,
   "id": "868c729b",
   "metadata": {
    "execution": {
     "iopub.execute_input": "2025-07-28T17:42:48.834791Z",
     "iopub.status.busy": "2025-07-28T17:42:48.834791Z",
     "iopub.status.idle": "2025-07-28T17:42:54.115331Z",
     "shell.execute_reply": "2025-07-28T17:42:54.113922Z"
    },
    "tags": [
     "remove-input"
    ]
   },
   "outputs": [
    {
     "data": {
      "text/html": [
       "<style type=\"text/css\">\n",
       "#T_627ff th {\n",
       "  text-align: left;\n",
       "}\n",
       "#T_627ff_row0_col0, #T_627ff_row0_col1, #T_627ff_row1_col0, #T_627ff_row1_col1, #T_627ff_row2_col0, #T_627ff_row2_col1, #T_627ff_row3_col0, #T_627ff_row3_col1, #T_627ff_row4_col0, #T_627ff_row4_col1 {\n",
       "  text-align: left;\n",
       "}\n",
       "</style>\n",
       "<table id=\"T_627ff\" style=\"font-size: 14px\">\n",
       "  <thead>\n",
       "    <tr>\n",
       "      <th id=\"T_627ff_level0_col0\" class=\"col_heading level0 col0\" >Version</th>\n",
       "      <th id=\"T_627ff_level0_col1\" class=\"col_heading level0 col1\" >1</th>\n",
       "    </tr>\n",
       "  </thead>\n",
       "  <tbody>\n",
       "    <tr>\n",
       "      <td id=\"T_627ff_row0_col0\" class=\"data row0 col0\" >Version Date</td>\n",
       "      <td id=\"T_627ff_row0_col1\" class=\"data row0 col1\" >01 Nov 2021</td>\n",
       "    </tr>\n",
       "    <tr>\n",
       "      <td id=\"T_627ff_row1_col0\" class=\"data row1 col0\" >Number of Variables</td>\n",
       "      <td id=\"T_627ff_row1_col1\" class=\"data row1 col1\" >461</td>\n",
       "    </tr>\n",
       "    <tr>\n",
       "      <td id=\"T_627ff_row2_col0\" class=\"data row2 col0\" >Number of Observations</td>\n",
       "      <td id=\"T_627ff_row2_col1\" class=\"data row2 col1\" >2666</td>\n",
       "    </tr>\n",
       "    <tr>\n",
       "      <td id=\"T_627ff_row3_col0\" class=\"data row3 col0\" >DOI</td>\n",
       "      <td id=\"T_627ff_row3_col1\" class=\"data row3 col1\" > <a href=\"https://doi.org/10.71760/ukllc-dataset-00008-01\" rel=\"noopener noreferrer\" target=\"_blank\">10.71760/ukllc-dataset-00008-01</a></td>\n",
       "    </tr>\n",
       "    <tr>\n",
       "      <td id=\"T_627ff_row4_col0\" class=\"data row4 col0\" >Change Log</td>\n",
       "      <td id=\"T_627ff_row4_col1\" class=\"data row4 col1\" > <a href=\"https://api.test.datacite.org/dois/10.71760/ukllc-dataset-00008-01/activities\" rel=\"noopener noreferrer\" target=\"_blank\">10.71760/ukllc-dataset-00008-01/activities</a></td>\n",
       "    </tr>\n",
       "  </tbody>\n",
       "</table>\n"
      ],
      "text/plain": [
       "<pandas.io.formats.style.Styler at 0x25554091fa0>"
      ]
     },
     "execution_count": 4,
     "metadata": {},
     "output_type": "execute_result"
    }
   ],
   "source": [
    "ds.version_history()"
   ]
  },
  {
   "cell_type": "markdown",
   "id": "c534f56c",
   "metadata": {},
   "source": [
    "## 3. Documentation"
   ]
  },
  {
   "cell_type": "code",
   "execution_count": 5,
   "id": "03b44922",
   "metadata": {
    "execution": {
     "iopub.execute_input": "2025-07-28T17:42:54.117336Z",
     "iopub.status.busy": "2025-07-28T17:42:54.117336Z",
     "iopub.status.idle": "2025-07-28T17:42:54.120432Z",
     "shell.execute_reply": "2025-07-28T17:42:54.120432Z"
    },
    "tags": [
     "remove-input"
    ]
   },
   "outputs": [
    {
     "data": {
      "text/markdown": [
       "We are currently building a documentation storage system which will host useful documents related to datasets and data owners. We will surface these documents on Guidebook."
      ],
      "text/plain": [
       "<IPython.core.display.Markdown object>"
      ]
     },
     "metadata": {},
     "output_type": "display_data"
    }
   ],
   "source": [
    "ds.documentation()"
   ]
  },
  {
   "cell_type": "markdown",
   "id": "aaaa2165",
   "metadata": {},
   "source": [
    "## 4. Useful Syntax"
   ]
  },
  {
   "cell_type": "code",
   "execution_count": 6,
   "id": "91145583",
   "metadata": {
    "execution": {
     "iopub.execute_input": "2025-07-28T17:42:54.123444Z",
     "iopub.status.busy": "2025-07-28T17:42:54.123444Z",
     "iopub.status.idle": "2025-07-28T17:42:54.128442Z",
     "shell.execute_reply": "2025-07-28T17:42:54.128442Z"
    },
    "tags": [
     "remove-input"
    ]
   },
   "outputs": [
    {
     "data": {
      "text/markdown": [
       "Below we will include syntax that may be helpful to other researchers in the UK LLC TRE. For longer scripts, we will include a snippet of the code plus a link to Git where you can find the full scripts."
      ],
      "text/plain": [
       "<IPython.core.display.Markdown object>"
      ]
     },
     "metadata": {},
     "output_type": "display_data"
    }
   ],
   "source": [
    "ds.useful_syntax()"
   ]
  }
 ],
 "metadata": {
  "language_info": {
   "codemirror_mode": {
    "name": "ipython",
    "version": 3
   },
   "file_extension": ".py",
   "mimetype": "text/x-python",
   "name": "python",
   "nbconvert_exporter": "python",
   "pygments_lexer": "ipython3",
   "version": "3.12.7"
  }
 },
 "nbformat": 4,
 "nbformat_minor": 5
}
