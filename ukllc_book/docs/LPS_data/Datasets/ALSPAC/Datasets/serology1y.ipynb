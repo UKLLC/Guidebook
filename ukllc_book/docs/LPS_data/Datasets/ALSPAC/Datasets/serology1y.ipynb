{
 "cells": [
  {
   "cell_type": "markdown",
   "id": "6949b53a",
   "metadata": {},
   "source": [
    "# Serology 1 G1 (ALSPAC)"
   ]
  },
  {
   "cell_type": "code",
   "execution_count": 1,
   "id": "c495b353",
   "metadata": {
    "execution": {
     "iopub.execute_input": "2025-07-28T17:40:32.138002Z",
     "iopub.status.busy": "2025-07-28T17:40:32.138002Z",
     "iopub.status.idle": "2025-07-28T17:40:44.115311Z",
     "shell.execute_reply": "2025-07-28T17:40:44.114302Z"
    },
    "tags": [
     "remove-input"
    ]
   },
   "outputs": [
    {
     "data": {
      "text/markdown": [
       ">Last modified: 28 Jul 2025"
      ],
      "text/plain": [
       "<IPython.core.display.Markdown object>"
      ]
     },
     "metadata": {},
     "output_type": "display_data"
    }
   ],
   "source": [
    "\n",
    "import sys\n",
    "import os\n",
    "sys.path.append(os.path.abspath('../../../../scripts/'))\n",
    "from data_doc_helper import LPSDataSet as DS, last_modified\n",
    "API_KEY = os.environ['FASTAPI_KEY']\n",
    "ds = DS(\"ALSPAC\", \"serology1y\")\n",
    "last_modified()\n"
   ]
  },
  {
   "cell_type": "markdown",
   "id": "a855a7de",
   "metadata": {},
   "source": [
    "## 1. Summary"
   ]
  },
  {
   "cell_type": "code",
   "execution_count": 2,
   "id": "d92a2064",
   "metadata": {
    "execution": {
     "iopub.execute_input": "2025-07-28T17:40:44.118319Z",
     "iopub.status.busy": "2025-07-28T17:40:44.118319Z",
     "iopub.status.idle": "2025-07-28T17:40:44.122560Z",
     "shell.execute_reply": "2025-07-28T17:40:44.122560Z"
    },
    "tags": [
     "remove-input"
    ]
   },
   "outputs": [
    {
     "data": {
      "text/markdown": [
       "All relevant participants in the G1 cohort were asked to consent to a COVID-19 antibody test that was sent through the post. Participants were asked to take a small blood sample and return this for assay."
      ],
      "text/plain": [
       "<IPython.core.display.Markdown object>"
      ]
     },
     "metadata": {},
     "output_type": "display_data"
    }
   ],
   "source": [
    "ds.summary()"
   ]
  },
  {
   "cell_type": "code",
   "execution_count": 3,
   "id": "f5e0ffb4",
   "metadata": {
    "execution": {
     "iopub.execute_input": "2025-07-28T17:40:44.124566Z",
     "iopub.status.busy": "2025-07-28T17:40:44.124566Z",
     "iopub.status.idle": "2025-07-28T17:40:44.709584Z",
     "shell.execute_reply": "2025-07-28T17:40:44.709584Z"
    },
    "tags": [
     "remove-input"
    ]
   },
   "outputs": [
    {
     "data": {
      "text/html": [
       "<style type=\"text/css\">\n",
       "#T_6bde9 th {\n",
       "  text-align: left;\n",
       "}\n",
       "#T_6bde9_row0_col0, #T_6bde9_row0_col1, #T_6bde9_row1_col0, #T_6bde9_row1_col1, #T_6bde9_row2_col0, #T_6bde9_row2_col1, #T_6bde9_row3_col0, #T_6bde9_row3_col1, #T_6bde9_row4_col0, #T_6bde9_row4_col1, #T_6bde9_row5_col0, #T_6bde9_row5_col1, #T_6bde9_row6_col0, #T_6bde9_row6_col1, #T_6bde9_row7_col0, #T_6bde9_row7_col1, #T_6bde9_row8_col0, #T_6bde9_row8_col1, #T_6bde9_row9_col0, #T_6bde9_row9_col1, #T_6bde9_row10_col0, #T_6bde9_row10_col1, #T_6bde9_row11_col0, #T_6bde9_row11_col1, #T_6bde9_row12_col0, #T_6bde9_row12_col1 {\n",
       "  text-align: left;\n",
       "}\n",
       "</style>\n",
       "<table id=\"T_6bde9\" style=\"font-size: 14px\">\n",
       "  <thead>\n",
       "    <tr>\n",
       "      <th id=\"T_6bde9_level0_col0\" class=\"col_heading level0 col0\" >Dataset Descriptor</th>\n",
       "      <th id=\"T_6bde9_level0_col1\" class=\"col_heading level0 col1\" >Dataset-specific Information</th>\n",
       "    </tr>\n",
       "  </thead>\n",
       "  <tbody>\n",
       "    <tr>\n",
       "      <td id=\"T_6bde9_row0_col0\" class=\"data row0 col0\" >Name of Dataset in TRE</td>\n",
       "      <td id=\"T_6bde9_row0_col1\" class=\"data row0 col1\" >ALSPAC_serology1y</td>\n",
       "    </tr>\n",
       "    <tr>\n",
       "      <td id=\"T_6bde9_row1_col0\" class=\"data row1 col0\" >Citation (APA)</td>\n",
       "      <td id=\"T_6bde9_row1_col1\" class=\"data row1 col1\" >University of Bristol, Avon Longitudinal Study of Parents & Children (ALSPAC). (2022). <i>Avon Longitudinal Study of Parents & Children (ALSPAC): Serology 1 G1.</i> UK Longitudinal Linkage Collaboration (UK LLC).  <a href=\"https://doi.org/10.71760/ukllc-dataset-00002-01\" rel=\"noopener noreferrer\" target=\"_blank\">https://doi.org/10.71760/ukllc-dataset-00002-01</a></td>\n",
       "    </tr>\n",
       "    <tr>\n",
       "      <td id=\"T_6bde9_row2_col0\" class=\"data row2 col0\" >Download Citation</td>\n",
       "      <td id=\"T_6bde9_row2_col1\" class=\"data row2 col1\" > <a href=\"https://api.datacite.org/application/vnd.citationstyles.csl+json/10.71760/ukllc-dataset-00002-01\" rel=\"noopener noreferrer\" target=\"_blank\">Citeproc JSON</a>&nbsp;&nbsp;&nbsp;&nbsp; <a href=\"https://api.datacite.org/application/x-bibtex/10.71760/ukllc-dataset-00002-01\" rel=\"noopener noreferrer\" target=\"_blank\">BibTeX</a>&nbsp;&nbsp;&nbsp;&nbsp; <a href=\"https://api.datacite.org/application/x-research-info-systems/10.71760/ukllc-dataset-00002-01\" rel=\"noopener noreferrer\" target=\"_blank\">RIS</a></td>\n",
       "    </tr>\n",
       "    <tr>\n",
       "      <td id=\"T_6bde9_row3_col0\" class=\"data row3 col0\" >Series</td>\n",
       "      <td id=\"T_6bde9_row3_col1\" class=\"data row3 col1\" > <a href=\"https://guidebook.ukllc.ac.uk/docs/lps_data/lps%20profiles/ALSPAC\">Avon Longitudinal Study of Parents & Children (ALSPAC)</a></td>\n",
       "    </tr>\n",
       "    <tr>\n",
       "      <td id=\"T_6bde9_row4_col0\" class=\"data row4 col0\" >Owner</td>\n",
       "      <td id=\"T_6bde9_row4_col1\" class=\"data row4 col1\" >University of Bristol </td>\n",
       "    </tr>\n",
       "    <tr>\n",
       "      <td id=\"T_6bde9_row5_col0\" class=\"data row5 col0\" >Temporal Coverage</td>\n",
       "      <td id=\"T_6bde9_row5_col1\" class=\"data row5 col1\" >04/2021 - 06/2022</td>\n",
       "    </tr>\n",
       "    <tr>\n",
       "      <td id=\"T_6bde9_row6_col0\" class=\"data row6 col0\" >Keywords</td>\n",
       "      <td id=\"T_6bde9_row6_col1\" class=\"data row6 col1\" ></td>\n",
       "    </tr>\n",
       "    <tr>\n",
       "      <td id=\"T_6bde9_row7_col0\" class=\"data row7 col0\" >Participants Invited</td>\n",
       "      <td id=\"T_6bde9_row7_col1\" class=\"data row7 col1\" >4335</td>\n",
       "    </tr>\n",
       "    <tr>\n",
       "      <td id=\"T_6bde9_row8_col0\" class=\"data row8 col0\" >Participant Count</td>\n",
       "      <td id=\"T_6bde9_row8_col1\" class=\"data row8 col1\" >5717</td>\n",
       "    </tr>\n",
       "    <tr>\n",
       "      <td id=\"T_6bde9_row9_col0\" class=\"data row9 col0\" >Number of variables</td>\n",
       "      <td id=\"T_6bde9_row9_col1\" class=\"data row9 col1\" >20</td>\n",
       "    </tr>\n",
       "    <tr>\n",
       "      <td id=\"T_6bde9_row10_col0\" class=\"data row10 col0\" >Number of observations</td>\n",
       "      <td id=\"T_6bde9_row10_col1\" class=\"data row10 col1\" >6504</td>\n",
       "    </tr>\n",
       "    <tr>\n",
       "      <td id=\"T_6bde9_row11_col0\" class=\"data row11 col0\" >Specific Restrictions to Data Use</td>\n",
       "      <td id=\"T_6bde9_row11_col1\" class=\"data row11 col1\" >None</td>\n",
       "    </tr>\n",
       "    <tr>\n",
       "      <td id=\"T_6bde9_row12_col0\" class=\"data row12 col0\" >Build a Data Request</td>\n",
       "      <td id=\"T_6bde9_row12_col1\" class=\"data row12 col1\" > <a href=\"https://explore.ukllc.ac.uk/\" rel=\"noopener noreferrer\" target=\"_blank\">https://explore.ukllc.ac.uk/</a></td>\n",
       "    </tr>\n",
       "  </tbody>\n",
       "</table>\n"
      ],
      "text/plain": [
       "<pandas.io.formats.style.Styler at 0x1e06e5317c0>"
      ]
     },
     "execution_count": 3,
     "metadata": {},
     "output_type": "execute_result"
    }
   ],
   "source": [
    "ds.info_table()"
   ]
  },
  {
   "cell_type": "markdown",
   "id": "f172fcb2",
   "metadata": {},
   "source": [
    "## 2. Version History"
   ]
  },
  {
   "cell_type": "code",
   "execution_count": 4,
   "id": "8389cef0",
   "metadata": {
    "execution": {
     "iopub.execute_input": "2025-07-28T17:40:44.711594Z",
     "iopub.status.busy": "2025-07-28T17:40:44.711594Z",
     "iopub.status.idle": "2025-07-28T17:40:49.693980Z",
     "shell.execute_reply": "2025-07-28T17:40:49.693980Z"
    },
    "tags": [
     "remove-input"
    ]
   },
   "outputs": [
    {
     "data": {
      "text/html": [
       "<style type=\"text/css\">\n",
       "#T_ad6b9 th {\n",
       "  text-align: left;\n",
       "}\n",
       "#T_ad6b9_row0_col0, #T_ad6b9_row0_col1, #T_ad6b9_row1_col0, #T_ad6b9_row1_col1, #T_ad6b9_row2_col0, #T_ad6b9_row2_col1, #T_ad6b9_row3_col0, #T_ad6b9_row3_col1, #T_ad6b9_row4_col0, #T_ad6b9_row4_col1 {\n",
       "  text-align: left;\n",
       "}\n",
       "</style>\n",
       "<table id=\"T_ad6b9\" style=\"font-size: 14px\">\n",
       "  <thead>\n",
       "    <tr>\n",
       "      <th id=\"T_ad6b9_level0_col0\" class=\"col_heading level0 col0\" >Version</th>\n",
       "      <th id=\"T_ad6b9_level0_col1\" class=\"col_heading level0 col1\" >1</th>\n",
       "    </tr>\n",
       "  </thead>\n",
       "  <tbody>\n",
       "    <tr>\n",
       "      <td id=\"T_ad6b9_row0_col0\" class=\"data row0 col0\" >Version Date</td>\n",
       "      <td id=\"T_ad6b9_row0_col1\" class=\"data row0 col1\" >31 May 2022</td>\n",
       "    </tr>\n",
       "    <tr>\n",
       "      <td id=\"T_ad6b9_row1_col0\" class=\"data row1 col0\" >Number of Variables</td>\n",
       "      <td id=\"T_ad6b9_row1_col1\" class=\"data row1 col1\" >20</td>\n",
       "    </tr>\n",
       "    <tr>\n",
       "      <td id=\"T_ad6b9_row2_col0\" class=\"data row2 col0\" >Number of Observations</td>\n",
       "      <td id=\"T_ad6b9_row2_col1\" class=\"data row2 col1\" >6504</td>\n",
       "    </tr>\n",
       "    <tr>\n",
       "      <td id=\"T_ad6b9_row3_col0\" class=\"data row3 col0\" >DOI</td>\n",
       "      <td id=\"T_ad6b9_row3_col1\" class=\"data row3 col1\" > <a href=\"https://doi.org/10.71760/ukllc-dataset-00002-01\" rel=\"noopener noreferrer\" target=\"_blank\">10.71760/ukllc-dataset-00002-01</a></td>\n",
       "    </tr>\n",
       "    <tr>\n",
       "      <td id=\"T_ad6b9_row4_col0\" class=\"data row4 col0\" >Change Log</td>\n",
       "      <td id=\"T_ad6b9_row4_col1\" class=\"data row4 col1\" > <a href=\"https://api.test.datacite.org/dois/10.71760/ukllc-dataset-00002-01/activities\" rel=\"noopener noreferrer\" target=\"_blank\">10.71760/ukllc-dataset-00002-01/activities</a></td>\n",
       "    </tr>\n",
       "  </tbody>\n",
       "</table>\n"
      ],
      "text/plain": [
       "<pandas.io.formats.style.Styler at 0x1e06cb7f710>"
      ]
     },
     "execution_count": 4,
     "metadata": {},
     "output_type": "execute_result"
    }
   ],
   "source": [
    "ds.version_history()"
   ]
  },
  {
   "cell_type": "markdown",
   "id": "3aa7416e",
   "metadata": {},
   "source": [
    "## 3. Documentation"
   ]
  },
  {
   "cell_type": "code",
   "execution_count": 5,
   "id": "b5d6e00e",
   "metadata": {
    "execution": {
     "iopub.execute_input": "2025-07-28T17:40:49.696993Z",
     "iopub.status.busy": "2025-07-28T17:40:49.696993Z",
     "iopub.status.idle": "2025-07-28T17:40:49.700149Z",
     "shell.execute_reply": "2025-07-28T17:40:49.700149Z"
    },
    "tags": [
     "remove-input"
    ]
   },
   "outputs": [
    {
     "data": {
      "text/markdown": [
       "We are currently building a documentation storage system which will host useful documents related to datasets and data owners. We will surface these documents on Guidebook."
      ],
      "text/plain": [
       "<IPython.core.display.Markdown object>"
      ]
     },
     "metadata": {},
     "output_type": "display_data"
    }
   ],
   "source": [
    "ds.documentation()"
   ]
  },
  {
   "cell_type": "markdown",
   "id": "eae91efe",
   "metadata": {},
   "source": [
    "## 4. Useful Syntax"
   ]
  },
  {
   "cell_type": "code",
   "execution_count": 6,
   "id": "855dc7bd",
   "metadata": {
    "execution": {
     "iopub.execute_input": "2025-07-28T17:40:49.702156Z",
     "iopub.status.busy": "2025-07-28T17:40:49.702156Z",
     "iopub.status.idle": "2025-07-28T17:40:49.705571Z",
     "shell.execute_reply": "2025-07-28T17:40:49.705571Z"
    },
    "tags": [
     "remove-input"
    ]
   },
   "outputs": [
    {
     "data": {
      "text/markdown": [
       "Below we will include syntax that may be helpful to other researchers in the UK LLC TRE. For longer scripts, we will include a snippet of the code plus a link to Git where you can find the full scripts."
      ],
      "text/plain": [
       "<IPython.core.display.Markdown object>"
      ]
     },
     "metadata": {},
     "output_type": "display_data"
    }
   ],
   "source": [
    "ds.useful_syntax()"
   ]
  }
 ],
 "metadata": {
  "language_info": {
   "codemirror_mode": {
    "name": "ipython",
    "version": 3
   },
   "file_extension": ".py",
   "mimetype": "text/x-python",
   "name": "python",
   "nbconvert_exporter": "python",
   "pygments_lexer": "ipython3",
   "version": "3.12.7"
  }
 },
 "nbformat": 4,
 "nbformat_minor": 5
}
