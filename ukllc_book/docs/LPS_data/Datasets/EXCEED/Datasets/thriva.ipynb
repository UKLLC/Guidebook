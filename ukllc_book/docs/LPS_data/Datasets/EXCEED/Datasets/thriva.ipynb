{
 "cells": [
  {
   "cell_type": "markdown",
   "id": "0f9962e5",
   "metadata": {},
   "source": [
    "# Thriva (EXCEED)"
   ]
  },
  {
   "cell_type": "code",
   "execution_count": 1,
   "id": "aade829f",
   "metadata": {
    "execution": {
     "iopub.execute_input": "2025-07-17T15:23:46.113204Z",
     "iopub.status.busy": "2025-07-17T15:23:46.113204Z",
     "iopub.status.idle": "2025-07-17T15:23:52.968595Z",
     "shell.execute_reply": "2025-07-17T15:23:52.968595Z"
    },
    "tags": [
     "remove-input"
    ]
   },
   "outputs": [
    {
     "data": {
      "text/markdown": [
       ">Last modified: 17 Jul 2025"
      ],
      "text/plain": [
       "<IPython.core.display.Markdown object>"
      ]
     },
     "metadata": {},
     "output_type": "display_data"
    }
   ],
   "source": [
    "\n",
    "import sys\n",
    "import os\n",
    "sys.path.append(os.path.abspath('../../../../scripts/'))\n",
    "from data_doc_helper import LPSDataSet as DS, last_modified\n",
    "API_KEY = os.environ['FASTAPI_KEY']\n",
    "ds = DS(\"EXCEED\", \"thriva\")\n",
    "last_modified()\n"
   ]
  },
  {
   "cell_type": "markdown",
   "id": "a95d199b",
   "metadata": {},
   "source": [
    "## 1. Summary"
   ]
  },
  {
   "cell_type": "code",
   "execution_count": 2,
   "id": "f5ed75ee",
   "metadata": {
    "execution": {
     "iopub.execute_input": "2025-07-17T15:23:52.970822Z",
     "iopub.status.busy": "2025-07-17T15:23:52.970822Z",
     "iopub.status.idle": "2025-07-17T15:23:52.975315Z",
     "shell.execute_reply": "2025-07-17T15:23:52.975315Z"
    },
    "tags": [
     "remove-input"
    ]
   },
   "outputs": [
    {
     "data": {
      "text/markdown": [
       "All EXCEED participants who took EXCEED Covid Survey were invited to take the EXCEED Antibody-test (at home by using a provided pack sent by EXCEED) and this data block contains the result from the THRIVA Covid-19 Antibody-test."
      ],
      "text/plain": [
       "<IPython.core.display.Markdown object>"
      ]
     },
     "metadata": {},
     "output_type": "display_data"
    }
   ],
   "source": [
    "ds.summary()"
   ]
  },
  {
   "cell_type": "code",
   "execution_count": 3,
   "id": "d1aba724",
   "metadata": {
    "execution": {
     "iopub.execute_input": "2025-07-17T15:23:52.978322Z",
     "iopub.status.busy": "2025-07-17T15:23:52.977322Z",
     "iopub.status.idle": "2025-07-17T15:23:53.552208Z",
     "shell.execute_reply": "2025-07-17T15:23:53.551777Z"
    },
    "tags": [
     "remove-input"
    ]
   },
   "outputs": [
    {
     "data": {
      "text/html": [
       "<style type=\"text/css\">\n",
       "#T_7b4db th {\n",
       "  text-align: left;\n",
       "}\n",
       "#T_7b4db_row0_col0, #T_7b4db_row0_col1, #T_7b4db_row1_col0, #T_7b4db_row1_col1, #T_7b4db_row2_col0, #T_7b4db_row2_col1, #T_7b4db_row3_col0, #T_7b4db_row3_col1, #T_7b4db_row4_col0, #T_7b4db_row4_col1, #T_7b4db_row5_col0, #T_7b4db_row5_col1, #T_7b4db_row6_col0, #T_7b4db_row6_col1, #T_7b4db_row7_col0, #T_7b4db_row7_col1, #T_7b4db_row8_col0, #T_7b4db_row8_col1, #T_7b4db_row9_col0, #T_7b4db_row9_col1, #T_7b4db_row10_col0, #T_7b4db_row10_col1, #T_7b4db_row11_col0, #T_7b4db_row11_col1, #T_7b4db_row12_col0, #T_7b4db_row12_col1 {\n",
       "  text-align: left;\n",
       "}\n",
       "</style>\n",
       "<table id=\"T_7b4db\" style=\"font-size: 14px\">\n",
       "  <thead>\n",
       "    <tr>\n",
       "      <th id=\"T_7b4db_level0_col0\" class=\"col_heading level0 col0\" >Dataset Descriptor</th>\n",
       "      <th id=\"T_7b4db_level0_col1\" class=\"col_heading level0 col1\" >Dataset-specific Information</th>\n",
       "    </tr>\n",
       "  </thead>\n",
       "  <tbody>\n",
       "    <tr>\n",
       "      <td id=\"T_7b4db_row0_col0\" class=\"data row0 col0\" >Name of Dataset in TRE</td>\n",
       "      <td id=\"T_7b4db_row0_col1\" class=\"data row0 col1\" >EXCEED_thriva</td>\n",
       "    </tr>\n",
       "    <tr>\n",
       "      <td id=\"T_7b4db_row1_col0\" class=\"data row1 col0\" >Citation (APA)</td>\n",
       "      <td id=\"T_7b4db_row1_col1\" class=\"data row1 col1\" >University of Leicester Genetic Epidemiology Group. (2022). <i>Extended Cohort for E-health, Environment and DNA (EXCEED): Thriva.</i> UK Longitudinal Linkage Collaboration (UK LLC).  <a href=\"https://doi.org/10.83126/ukllc-dataset-00199-01\" rel=\"noopener noreferrer\" target=\"_blank\">https://doi.org/10.83126/ukllc-dataset-00199-01</a></td>\n",
       "    </tr>\n",
       "    <tr>\n",
       "      <td id=\"T_7b4db_row2_col0\" class=\"data row2 col0\" >Download Citation</td>\n",
       "      <td id=\"T_7b4db_row2_col1\" class=\"data row2 col1\" > <a href=\"https://api.test.datacite.org/application/vnd.citationstyles.csl+json/10.83126/ukllc-dataset-00199-01\" rel=\"noopener noreferrer\" target=\"_blank\">Citeproc JSON</a>&nbsp;&nbsp;&nbsp;&nbsp; <a href=\"https://api.test.datacite.org/application/x-bibtex/10.83126/ukllc-dataset-00199-01\" rel=\"noopener noreferrer\" target=\"_blank\">BibTeX</a>&nbsp;&nbsp;&nbsp;&nbsp; <a href=\"https://api.test.datacite.org/application/x-research-info-systems/10.83126/ukllc-dataset-00199-01\" rel=\"noopener noreferrer\" target=\"_blank\">RIS</a></td>\n",
       "    </tr>\n",
       "    <tr>\n",
       "      <td id=\"T_7b4db_row3_col0\" class=\"data row3 col0\" >Series</td>\n",
       "      <td id=\"T_7b4db_row3_col1\" class=\"data row3 col1\" > <a href=\"https://guidebook.ukllc.ac.uk/docs/lps/lps%20profiles/EXCEED\">Extended Cohort for E-health, Environment and DNA (EXCEED)</a></td>\n",
       "    </tr>\n",
       "    <tr>\n",
       "      <td id=\"T_7b4db_row4_col0\" class=\"data row4 col0\" >Owner</td>\n",
       "      <td id=\"T_7b4db_row4_col1\" class=\"data row4 col1\" >University of Leicester</td>\n",
       "    </tr>\n",
       "    <tr>\n",
       "      <td id=\"T_7b4db_row5_col0\" class=\"data row5 col0\" >Temporal Coverage</td>\n",
       "      <td id=\"T_7b4db_row5_col1\" class=\"data row5 col1\" >04/2021 - 09/2021</td>\n",
       "    </tr>\n",
       "    <tr>\n",
       "      <td id=\"T_7b4db_row6_col0\" class=\"data row6 col0\" >Keywords</td>\n",
       "      <td id=\"T_7b4db_row6_col1\" class=\"data row6 col1\" ></td>\n",
       "    </tr>\n",
       "    <tr>\n",
       "      <td id=\"T_7b4db_row7_col0\" class=\"data row7 col0\" >Participants Invited</td>\n",
       "      <td id=\"T_7b4db_row7_col1\" class=\"data row7 col1\" >4022</td>\n",
       "    </tr>\n",
       "    <tr>\n",
       "      <td id=\"T_7b4db_row8_col0\" class=\"data row8 col0\" >Participant Count</td>\n",
       "      <td id=\"T_7b4db_row8_col1\" class=\"data row8 col1\" >2415</td>\n",
       "    </tr>\n",
       "    <tr>\n",
       "      <td id=\"T_7b4db_row9_col0\" class=\"data row9 col0\" >Number of variables</td>\n",
       "      <td id=\"T_7b4db_row9_col1\" class=\"data row9 col1\" >9</td>\n",
       "    </tr>\n",
       "    <tr>\n",
       "      <td id=\"T_7b4db_row10_col0\" class=\"data row10 col0\" >Number of observations</td>\n",
       "      <td id=\"T_7b4db_row10_col1\" class=\"data row10 col1\" >2415</td>\n",
       "    </tr>\n",
       "    <tr>\n",
       "      <td id=\"T_7b4db_row11_col0\" class=\"data row11 col0\" >Specific Restrictions to Data Use</td>\n",
       "      <td id=\"T_7b4db_row11_col1\" class=\"data row11 col1\" >None</td>\n",
       "    </tr>\n",
       "    <tr>\n",
       "      <td id=\"T_7b4db_row12_col0\" class=\"data row12 col0\" >Build a Data Request</td>\n",
       "      <td id=\"T_7b4db_row12_col1\" class=\"data row12 col1\" > <a href=\"https://explore.ukllc.ac.uk/\" rel=\"noopener noreferrer\" target=\"_blank\">https://explore.ukllc.ac.uk/</a></td>\n",
       "    </tr>\n",
       "  </tbody>\n",
       "</table>\n"
      ],
      "text/plain": [
       "<pandas.io.formats.style.Styler at 0x1a9640002f0>"
      ]
     },
     "execution_count": 3,
     "metadata": {},
     "output_type": "execute_result"
    }
   ],
   "source": [
    "ds.info_table()"
   ]
  },
  {
   "cell_type": "markdown",
   "id": "718187ef",
   "metadata": {},
   "source": [
    "## 2. Version History"
   ]
  },
  {
   "cell_type": "code",
   "execution_count": 4,
   "id": "a2836e6e",
   "metadata": {
    "execution": {
     "iopub.execute_input": "2025-07-17T15:23:53.554213Z",
     "iopub.status.busy": "2025-07-17T15:23:53.554213Z",
     "iopub.status.idle": "2025-07-17T15:23:56.617116Z",
     "shell.execute_reply": "2025-07-17T15:23:56.617116Z"
    },
    "tags": [
     "remove-input"
    ]
   },
   "outputs": [
    {
     "data": {
      "text/html": [
       "<style type=\"text/css\">\n",
       "#T_8ba41 th {\n",
       "  text-align: left;\n",
       "}\n",
       "#T_8ba41_row0_col0, #T_8ba41_row0_col1, #T_8ba41_row1_col0, #T_8ba41_row1_col1, #T_8ba41_row2_col0, #T_8ba41_row2_col1, #T_8ba41_row3_col0, #T_8ba41_row3_col1, #T_8ba41_row4_col0, #T_8ba41_row4_col1 {\n",
       "  text-align: left;\n",
       "}\n",
       "</style>\n",
       "<table id=\"T_8ba41\" style=\"font-size: 14px\">\n",
       "  <thead>\n",
       "    <tr>\n",
       "      <th id=\"T_8ba41_level0_col0\" class=\"col_heading level0 col0\" >Version</th>\n",
       "      <th id=\"T_8ba41_level0_col1\" class=\"col_heading level0 col1\" >1</th>\n",
       "    </tr>\n",
       "  </thead>\n",
       "  <tbody>\n",
       "    <tr>\n",
       "      <td id=\"T_8ba41_row0_col0\" class=\"data row0 col0\" >Version Date</td>\n",
       "      <td id=\"T_8ba41_row0_col1\" class=\"data row0 col1\" >02 Mar 2022</td>\n",
       "    </tr>\n",
       "    <tr>\n",
       "      <td id=\"T_8ba41_row1_col0\" class=\"data row1 col0\" >Number of Variables</td>\n",
       "      <td id=\"T_8ba41_row1_col1\" class=\"data row1 col1\" >9</td>\n",
       "    </tr>\n",
       "    <tr>\n",
       "      <td id=\"T_8ba41_row2_col0\" class=\"data row2 col0\" >Number of Observations</td>\n",
       "      <td id=\"T_8ba41_row2_col1\" class=\"data row2 col1\" >2415</td>\n",
       "    </tr>\n",
       "    <tr>\n",
       "      <td id=\"T_8ba41_row3_col0\" class=\"data row3 col0\" >DOI</td>\n",
       "      <td id=\"T_8ba41_row3_col1\" class=\"data row3 col1\" > <a href=\"https://doi.org/10.83126/ukllc-dataset-00199-01\" rel=\"noopener noreferrer\" target=\"_blank\">10.83126/ukllc-dataset-00199-01</a></td>\n",
       "    </tr>\n",
       "    <tr>\n",
       "      <td id=\"T_8ba41_row4_col0\" class=\"data row4 col0\" >Change Log</td>\n",
       "      <td id=\"T_8ba41_row4_col1\" class=\"data row4 col1\" > <a href=\"https://api.test.datacite.org/dois/10.83126/ukllc-dataset-00199-01/activities\" rel=\"noopener noreferrer\" target=\"_blank\">10.83126/ukllc-dataset-00199-01/activities</a></td>\n",
       "    </tr>\n",
       "  </tbody>\n",
       "</table>\n"
      ],
      "text/plain": [
       "<pandas.io.formats.style.Styler at 0x1a969cbb980>"
      ]
     },
     "execution_count": 4,
     "metadata": {},
     "output_type": "execute_result"
    }
   ],
   "source": [
    "ds.version_history()"
   ]
  },
  {
   "cell_type": "markdown",
   "id": "604fec7b",
   "metadata": {},
   "source": [
    "## 3. Documentation"
   ]
  },
  {
   "cell_type": "code",
   "execution_count": 5,
   "id": "06b97a6a",
   "metadata": {
    "execution": {
     "iopub.execute_input": "2025-07-17T15:23:56.620122Z",
     "iopub.status.busy": "2025-07-17T15:23:56.620122Z",
     "iopub.status.idle": "2025-07-17T15:23:56.623012Z",
     "shell.execute_reply": "2025-07-17T15:23:56.623012Z"
    },
    "tags": [
     "remove-input"
    ]
   },
   "outputs": [
    {
     "data": {
      "text/markdown": [
       "We are currently building a documentation storage system which will host useful documents related to datasets and data owners. We will surface these documents on Guidebook."
      ],
      "text/plain": [
       "<IPython.core.display.Markdown object>"
      ]
     },
     "metadata": {},
     "output_type": "display_data"
    }
   ],
   "source": [
    "ds.documentation()"
   ]
  },
  {
   "cell_type": "markdown",
   "id": "59adccfa",
   "metadata": {},
   "source": [
    "## 4. Useful Syntax"
   ]
  },
  {
   "cell_type": "code",
   "execution_count": 6,
   "id": "9443609f",
   "metadata": {
    "execution": {
     "iopub.execute_input": "2025-07-17T15:23:56.625018Z",
     "iopub.status.busy": "2025-07-17T15:23:56.625018Z",
     "iopub.status.idle": "2025-07-17T15:23:56.628166Z",
     "shell.execute_reply": "2025-07-17T15:23:56.628166Z"
    },
    "tags": [
     "remove-input"
    ]
   },
   "outputs": [
    {
     "data": {
      "text/markdown": [
       "Below we will include syntax that may be helpful to other researchers in the UK LLC TRE. For longer scripts, we will include a snippet of the code plus a link to Git where you can find the full scripts."
      ],
      "text/plain": [
       "<IPython.core.display.Markdown object>"
      ]
     },
     "metadata": {},
     "output_type": "display_data"
    }
   ],
   "source": [
    "ds.useful_syntax()"
   ]
  }
 ],
 "metadata": {
  "language_info": {
   "codemirror_mode": {
    "name": "ipython",
    "version": 3
   },
   "file_extension": ".py",
   "mimetype": "text/x-python",
   "name": "python",
   "nbconvert_exporter": "python",
   "pygments_lexer": "ipython3",
   "version": "3.12.7"
  }
 },
 "nbformat": 4,
 "nbformat_minor": 5
}
