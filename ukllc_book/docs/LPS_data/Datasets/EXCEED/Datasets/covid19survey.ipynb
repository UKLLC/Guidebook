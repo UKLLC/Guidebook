{
 "cells": [
  {
   "cell_type": "markdown",
   "id": "9be40376",
   "metadata": {},
   "source": [
    "# COVID-19 Survey (EXCEED)"
   ]
  },
  {
   "cell_type": "code",
   "execution_count": 1,
   "id": "97615f1e",
   "metadata": {
    "execution": {
     "iopub.execute_input": "2025-07-17T15:22:21.717557Z",
     "iopub.status.busy": "2025-07-17T15:22:21.716556Z",
     "iopub.status.idle": "2025-07-17T15:22:30.633030Z",
     "shell.execute_reply": "2025-07-17T15:22:30.632013Z"
    },
    "tags": [
     "remove-input"
    ]
   },
   "outputs": [
    {
     "data": {
      "text/markdown": [
       ">Last modified: 17 Jul 2025"
      ],
      "text/plain": [
       "<IPython.core.display.Markdown object>"
      ]
     },
     "metadata": {},
     "output_type": "display_data"
    }
   ],
   "source": [
    "\n",
    "import sys\n",
    "import os\n",
    "sys.path.append(os.path.abspath('../../../../scripts/'))\n",
    "from data_doc_helper import LPSDataSet as DS, last_modified\n",
    "API_KEY = os.environ['FASTAPI_KEY']\n",
    "ds = DS(\"EXCEED\", \"covid19survey\")\n",
    "last_modified()\n"
   ]
  },
  {
   "cell_type": "markdown",
   "id": "e82f6378",
   "metadata": {},
   "source": [
    "## 1. Summary"
   ]
  },
  {
   "cell_type": "code",
   "execution_count": 2,
   "id": "30438384",
   "metadata": {
    "execution": {
     "iopub.execute_input": "2025-07-17T15:22:30.641158Z",
     "iopub.status.busy": "2025-07-17T15:22:30.640172Z",
     "iopub.status.idle": "2025-07-17T15:22:30.649655Z",
     "shell.execute_reply": "2025-07-17T15:22:30.648639Z"
    },
    "tags": [
     "remove-input"
    ]
   },
   "outputs": [
    {
     "data": {
      "text/markdown": [
       "All EXCEED participants were invited to take this questionnaire. It covered topics about wellbeing and the impact of COVID on multiple aspects of their personal life."
      ],
      "text/plain": [
       "<IPython.core.display.Markdown object>"
      ]
     },
     "metadata": {},
     "output_type": "display_data"
    }
   ],
   "source": [
    "ds.summary()"
   ]
  },
  {
   "cell_type": "code",
   "execution_count": 3,
   "id": "3667c179",
   "metadata": {
    "execution": {
     "iopub.execute_input": "2025-07-17T15:22:30.656867Z",
     "iopub.status.busy": "2025-07-17T15:22:30.656867Z",
     "iopub.status.idle": "2025-07-17T15:22:32.220492Z",
     "shell.execute_reply": "2025-07-17T15:22:32.219493Z"
    },
    "tags": [
     "remove-input"
    ]
   },
   "outputs": [
    {
     "data": {
      "text/html": [
       "<style type=\"text/css\">\n",
       "#T_1ef83 th {\n",
       "  text-align: left;\n",
       "}\n",
       "#T_1ef83_row0_col0, #T_1ef83_row0_col1, #T_1ef83_row1_col0, #T_1ef83_row1_col1, #T_1ef83_row2_col0, #T_1ef83_row2_col1, #T_1ef83_row3_col0, #T_1ef83_row3_col1, #T_1ef83_row4_col0, #T_1ef83_row4_col1, #T_1ef83_row5_col0, #T_1ef83_row5_col1, #T_1ef83_row6_col0, #T_1ef83_row6_col1, #T_1ef83_row7_col0, #T_1ef83_row7_col1, #T_1ef83_row8_col0, #T_1ef83_row8_col1, #T_1ef83_row9_col0, #T_1ef83_row9_col1, #T_1ef83_row10_col0, #T_1ef83_row10_col1, #T_1ef83_row11_col0, #T_1ef83_row11_col1, #T_1ef83_row12_col0, #T_1ef83_row12_col1 {\n",
       "  text-align: left;\n",
       "}\n",
       "</style>\n",
       "<table id=\"T_1ef83\" style=\"font-size: 14px\">\n",
       "  <thead>\n",
       "    <tr>\n",
       "      <th id=\"T_1ef83_level0_col0\" class=\"col_heading level0 col0\" >Dataset Descriptor</th>\n",
       "      <th id=\"T_1ef83_level0_col1\" class=\"col_heading level0 col1\" >Dataset-specific Information</th>\n",
       "    </tr>\n",
       "  </thead>\n",
       "  <tbody>\n",
       "    <tr>\n",
       "      <td id=\"T_1ef83_row0_col0\" class=\"data row0 col0\" >Name of Dataset in TRE</td>\n",
       "      <td id=\"T_1ef83_row0_col1\" class=\"data row0 col1\" >EXCEED_covid19survey</td>\n",
       "    </tr>\n",
       "    <tr>\n",
       "      <td id=\"T_1ef83_row1_col0\" class=\"data row1 col0\" >Citation (APA)</td>\n",
       "      <td id=\"T_1ef83_row1_col1\" class=\"data row1 col1\" >University of Leicester Genetic Epidemiology Group. (2023). <i>Extended Cohort for E-health, Environment and DNA (EXCEED): COVID-19 Survey.</i> UK Longitudinal Linkage Collaboration (UK LLC).  <a href=\"https://doi.org/10.83126/ukllc-dataset-00196-03\" rel=\"noopener noreferrer\" target=\"_blank\">https://doi.org/10.83126/ukllc-dataset-00196-03</a></td>\n",
       "    </tr>\n",
       "    <tr>\n",
       "      <td id=\"T_1ef83_row2_col0\" class=\"data row2 col0\" >Download Citation</td>\n",
       "      <td id=\"T_1ef83_row2_col1\" class=\"data row2 col1\" > <a href=\"https://api.test.datacite.org/application/vnd.citationstyles.csl+json/10.83126/ukllc-dataset-00196-03\" rel=\"noopener noreferrer\" target=\"_blank\">Citeproc JSON</a>&nbsp;&nbsp;&nbsp;&nbsp; <a href=\"https://api.test.datacite.org/application/x-bibtex/10.83126/ukllc-dataset-00196-03\" rel=\"noopener noreferrer\" target=\"_blank\">BibTeX</a>&nbsp;&nbsp;&nbsp;&nbsp; <a href=\"https://api.test.datacite.org/application/x-research-info-systems/10.83126/ukllc-dataset-00196-03\" rel=\"noopener noreferrer\" target=\"_blank\">RIS</a></td>\n",
       "    </tr>\n",
       "    <tr>\n",
       "      <td id=\"T_1ef83_row3_col0\" class=\"data row3 col0\" >Series</td>\n",
       "      <td id=\"T_1ef83_row3_col1\" class=\"data row3 col1\" > <a href=\"https://guidebook.ukllc.ac.uk/docs/lps/lps%20profiles/EXCEED\">Extended Cohort for E-health, Environment and DNA (EXCEED)</a></td>\n",
       "    </tr>\n",
       "    <tr>\n",
       "      <td id=\"T_1ef83_row4_col0\" class=\"data row4 col0\" >Owner</td>\n",
       "      <td id=\"T_1ef83_row4_col1\" class=\"data row4 col1\" >University of Leicester</td>\n",
       "    </tr>\n",
       "    <tr>\n",
       "      <td id=\"T_1ef83_row5_col0\" class=\"data row5 col0\" >Temporal Coverage</td>\n",
       "      <td id=\"T_1ef83_row5_col1\" class=\"data row5 col1\" >05/2020 - 06/2021</td>\n",
       "    </tr>\n",
       "    <tr>\n",
       "      <td id=\"T_1ef83_row6_col0\" class=\"data row6 col0\" >Keywords</td>\n",
       "      <td id=\"T_1ef83_row6_col1\" class=\"data row6 col1\" ></td>\n",
       "    </tr>\n",
       "    <tr>\n",
       "      <td id=\"T_1ef83_row7_col0\" class=\"data row7 col0\" >Participants Invited</td>\n",
       "      <td id=\"T_1ef83_row7_col1\" class=\"data row7 col1\" >10838</td>\n",
       "    </tr>\n",
       "    <tr>\n",
       "      <td id=\"T_1ef83_row8_col0\" class=\"data row8 col0\" >Participant Count</td>\n",
       "      <td id=\"T_1ef83_row8_col1\" class=\"data row8 col1\" >3697</td>\n",
       "    </tr>\n",
       "    <tr>\n",
       "      <td id=\"T_1ef83_row9_col0\" class=\"data row9 col0\" >Number of variables</td>\n",
       "      <td id=\"T_1ef83_row9_col1\" class=\"data row9 col1\" >851</td>\n",
       "    </tr>\n",
       "    <tr>\n",
       "      <td id=\"T_1ef83_row10_col0\" class=\"data row10 col0\" >Number of observations</td>\n",
       "      <td id=\"T_1ef83_row10_col1\" class=\"data row10 col1\" >3711</td>\n",
       "    </tr>\n",
       "    <tr>\n",
       "      <td id=\"T_1ef83_row11_col0\" class=\"data row11 col0\" >Specific Restrictions to Data Use</td>\n",
       "      <td id=\"T_1ef83_row11_col1\" class=\"data row11 col1\" >None</td>\n",
       "    </tr>\n",
       "    <tr>\n",
       "      <td id=\"T_1ef83_row12_col0\" class=\"data row12 col0\" >Build a Data Request</td>\n",
       "      <td id=\"T_1ef83_row12_col1\" class=\"data row12 col1\" > <a href=\"https://explore.ukllc.ac.uk/\" rel=\"noopener noreferrer\" target=\"_blank\">https://explore.ukllc.ac.uk/</a></td>\n",
       "    </tr>\n",
       "  </tbody>\n",
       "</table>\n"
      ],
      "text/plain": [
       "<pandas.io.formats.style.Styler at 0x19014203050>"
      ]
     },
     "execution_count": 3,
     "metadata": {},
     "output_type": "execute_result"
    }
   ],
   "source": [
    "ds.info_table()"
   ]
  },
  {
   "cell_type": "markdown",
   "id": "d02f280b",
   "metadata": {},
   "source": [
    "## 2. Version History"
   ]
  },
  {
   "cell_type": "code",
   "execution_count": 4,
   "id": "6f087fbf",
   "metadata": {
    "execution": {
     "iopub.execute_input": "2025-07-17T15:22:32.227499Z",
     "iopub.status.busy": "2025-07-17T15:22:32.226502Z",
     "iopub.status.idle": "2025-07-17T15:22:35.275170Z",
     "shell.execute_reply": "2025-07-17T15:22:35.272155Z"
    },
    "tags": [
     "remove-input"
    ]
   },
   "outputs": [
    {
     "data": {
      "text/html": [
       "<style type=\"text/css\">\n",
       "#T_5352a th {\n",
       "  text-align: left;\n",
       "}\n",
       "#T_5352a_row0_col0, #T_5352a_row0_col1, #T_5352a_row0_col2, #T_5352a_row0_col3, #T_5352a_row1_col0, #T_5352a_row1_col1, #T_5352a_row1_col2, #T_5352a_row1_col3, #T_5352a_row2_col0, #T_5352a_row2_col1, #T_5352a_row2_col2, #T_5352a_row2_col3, #T_5352a_row3_col0, #T_5352a_row3_col1, #T_5352a_row3_col2, #T_5352a_row3_col3, #T_5352a_row4_col0, #T_5352a_row4_col1, #T_5352a_row4_col2, #T_5352a_row4_col3 {\n",
       "  text-align: left;\n",
       "}\n",
       "</style>\n",
       "<table id=\"T_5352a\" style=\"font-size: 14px\">\n",
       "  <thead>\n",
       "    <tr>\n",
       "      <th id=\"T_5352a_level0_col0\" class=\"col_heading level0 col0\" >Version</th>\n",
       "      <th id=\"T_5352a_level0_col1\" class=\"col_heading level0 col1\" >1</th>\n",
       "      <th id=\"T_5352a_level0_col2\" class=\"col_heading level0 col2\" >2</th>\n",
       "      <th id=\"T_5352a_level0_col3\" class=\"col_heading level0 col3\" >3</th>\n",
       "    </tr>\n",
       "  </thead>\n",
       "  <tbody>\n",
       "    <tr>\n",
       "      <td id=\"T_5352a_row0_col0\" class=\"data row0 col0\" >Version Date</td>\n",
       "      <td id=\"T_5352a_row0_col1\" class=\"data row0 col1\" >01 Nov 2021</td>\n",
       "      <td id=\"T_5352a_row0_col2\" class=\"data row0 col2\" >02 Mar 2022</td>\n",
       "      <td id=\"T_5352a_row0_col3\" class=\"data row0 col3\" >24 Oct 2023</td>\n",
       "    </tr>\n",
       "    <tr>\n",
       "      <td id=\"T_5352a_row1_col0\" class=\"data row1 col0\" >Number of Variables</td>\n",
       "      <td id=\"T_5352a_row1_col1\" class=\"data row1 col1\" >851</td>\n",
       "      <td id=\"T_5352a_row1_col2\" class=\"data row1 col2\" >851</td>\n",
       "      <td id=\"T_5352a_row1_col3\" class=\"data row1 col3\" >851</td>\n",
       "    </tr>\n",
       "    <tr>\n",
       "      <td id=\"T_5352a_row2_col0\" class=\"data row2 col0\" >Number of Observations</td>\n",
       "      <td id=\"T_5352a_row2_col1\" class=\"data row2 col1\" >3710</td>\n",
       "      <td id=\"T_5352a_row2_col2\" class=\"data row2 col2\" >3704</td>\n",
       "      <td id=\"T_5352a_row2_col3\" class=\"data row2 col3\" >3711</td>\n",
       "    </tr>\n",
       "    <tr>\n",
       "      <td id=\"T_5352a_row3_col0\" class=\"data row3 col0\" >DOI</td>\n",
       "      <td id=\"T_5352a_row3_col1\" class=\"data row3 col1\" > <a href=\"https://doi.org/10.83126/ukllc-dataset-00196-01\" rel=\"noopener noreferrer\" target=\"_blank\">10.83126/ukllc-dataset-00196-01</a></td>\n",
       "      <td id=\"T_5352a_row3_col2\" class=\"data row3 col2\" > <a href=\"https://doi.org/10.83126/ukllc-dataset-00196-02\" rel=\"noopener noreferrer\" target=\"_blank\">10.83126/ukllc-dataset-00196-02</a></td>\n",
       "      <td id=\"T_5352a_row3_col3\" class=\"data row3 col3\" > <a href=\"https://doi.org/10.83126/ukllc-dataset-00196-03\" rel=\"noopener noreferrer\" target=\"_blank\">10.83126/ukllc-dataset-00196-03</a></td>\n",
       "    </tr>\n",
       "    <tr>\n",
       "      <td id=\"T_5352a_row4_col0\" class=\"data row4 col0\" >Change Log</td>\n",
       "      <td id=\"T_5352a_row4_col1\" class=\"data row4 col1\" > <a href=\"https://api.test.datacite.org/dois/10.83126/ukllc-dataset-00196-01/activities\" rel=\"noopener noreferrer\" target=\"_blank\">10.83126/ukllc-dataset-00196-01/activities</a></td>\n",
       "      <td id=\"T_5352a_row4_col2\" class=\"data row4 col2\" > <a href=\"https://api.test.datacite.org/dois/10.83126/ukllc-dataset-00196-02/activities\" rel=\"noopener noreferrer\" target=\"_blank\">10.83126/ukllc-dataset-00196-02/activities</a></td>\n",
       "      <td id=\"T_5352a_row4_col3\" class=\"data row4 col3\" > <a href=\"https://api.test.datacite.org/dois/10.83126/ukllc-dataset-00196-03/activities\" rel=\"noopener noreferrer\" target=\"_blank\">10.83126/ukllc-dataset-00196-03/activities</a></td>\n",
       "    </tr>\n",
       "  </tbody>\n",
       "</table>\n"
      ],
      "text/plain": [
       "<pandas.io.formats.style.Styler at 0x19019cbbbc0>"
      ]
     },
     "execution_count": 4,
     "metadata": {},
     "output_type": "execute_result"
    }
   ],
   "source": [
    "ds.version_history()"
   ]
  },
  {
   "cell_type": "markdown",
   "id": "f11b01e6",
   "metadata": {},
   "source": [
    "## 3. Documentation"
   ]
  },
  {
   "cell_type": "code",
   "execution_count": 5,
   "id": "b3b5da02",
   "metadata": {
    "execution": {
     "iopub.execute_input": "2025-07-17T15:22:35.281174Z",
     "iopub.status.busy": "2025-07-17T15:22:35.280168Z",
     "iopub.status.idle": "2025-07-17T15:22:35.289111Z",
     "shell.execute_reply": "2025-07-17T15:22:35.288082Z"
    },
    "tags": [
     "remove-input"
    ]
   },
   "outputs": [
    {
     "data": {
      "text/markdown": [
       "We are currently building a documentation storage system which will host useful documents related to datasets and data owners. We will surface these documents on Guidebook."
      ],
      "text/plain": [
       "<IPython.core.display.Markdown object>"
      ]
     },
     "metadata": {},
     "output_type": "display_data"
    }
   ],
   "source": [
    "ds.documentation()"
   ]
  },
  {
   "cell_type": "markdown",
   "id": "5b91ddb1",
   "metadata": {},
   "source": [
    "## 4. Useful Syntax"
   ]
  },
  {
   "cell_type": "code",
   "execution_count": 6,
   "id": "207e1ef4",
   "metadata": {
    "execution": {
     "iopub.execute_input": "2025-07-17T15:22:35.294105Z",
     "iopub.status.busy": "2025-07-17T15:22:35.294105Z",
     "iopub.status.idle": "2025-07-17T15:22:35.304271Z",
     "shell.execute_reply": "2025-07-17T15:22:35.302254Z"
    },
    "tags": [
     "remove-input"
    ]
   },
   "outputs": [
    {
     "data": {
      "text/markdown": [
       "Below we will include syntax that may be helpful to other researchers in the UK LLC TRE. For longer scripts, we will include a snippet of the code plus a link to Git where you can find the full scripts."
      ],
      "text/plain": [
       "<IPython.core.display.Markdown object>"
      ]
     },
     "metadata": {},
     "output_type": "display_data"
    }
   ],
   "source": [
    "ds.useful_syntax()"
   ]
  }
 ],
 "metadata": {
  "language_info": {
   "codemirror_mode": {
    "name": "ipython",
    "version": 3
   },
   "file_extension": ".py",
   "mimetype": "text/x-python",
   "name": "python",
   "nbconvert_exporter": "python",
   "pygments_lexer": "ipython3",
   "version": "3.12.7"
  }
 },
 "nbformat": 4,
 "nbformat_minor": 5
}
