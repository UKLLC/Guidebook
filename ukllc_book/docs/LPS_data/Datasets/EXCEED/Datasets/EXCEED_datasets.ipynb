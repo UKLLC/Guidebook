{
 "cells": [
  {
   "cell_type": "markdown",
   "id": "1e0740aa",
   "metadata": {},
   "source": [
    "# Extended Cohort for E-health, Environment and DNA (EXCEED) Datasets"
   ]
  },
  {
   "cell_type": "code",
   "execution_count": 1,
   "id": "d8139477",
   "metadata": {
    "execution": {
     "iopub.execute_input": "2025-07-17T15:23:11.094434Z",
     "iopub.status.busy": "2025-07-17T15:23:11.093436Z",
     "iopub.status.idle": "2025-07-17T15:23:15.220818Z",
     "shell.execute_reply": "2025-07-17T15:23:15.218323Z"
    },
    "tags": [
     "remove-input"
    ]
   },
   "outputs": [
    {
     "data": {
      "text/markdown": [
       ">Last modified: 17 Jul 2025"
      ],
      "text/plain": [
       "<IPython.core.display.Markdown object>"
      ]
     },
     "metadata": {},
     "output_type": "display_data"
    }
   ],
   "source": [
    "\n",
    "import sys\n",
    "import os\n",
    "sys.path.append(os.path.abspath('../../../../scripts/'))\n",
    "from data_doc_helper import LPSSource as SS, last_modified\n",
    "API_KEY = os.environ['FASTAPI_KEY']\n",
    "ss = SS(\"EXCEED\")\n",
    "last_modified()\n"
   ]
  },
  {
   "cell_type": "markdown",
   "id": "84bef9fb",
   "metadata": {},
   "source": [
    "## 1. Datasets"
   ]
  },
  {
   "cell_type": "code",
   "execution_count": 2,
   "id": "346a44b7",
   "metadata": {
    "execution": {
     "iopub.execute_input": "2025-07-17T15:23:15.230741Z",
     "iopub.status.busy": "2025-07-17T15:23:15.229742Z",
     "iopub.status.idle": "2025-07-17T15:23:15.243602Z",
     "shell.execute_reply": "2025-07-17T15:23:15.239576Z"
    },
    "tags": [
     "remove-input"
    ]
   },
   "outputs": [
    {
     "data": {
      "text/markdown": [
       "**Table 1:** Datasets and metrics in the UK LLC belonging to EXCEED."
      ],
      "text/plain": [
       "<IPython.core.display.Markdown object>"
      ]
     },
     "metadata": {},
     "output_type": "display_data"
    }
   ],
   "source": [
    "ss.table_caption_ds()"
   ]
  },
  {
   "cell_type": "code",
   "execution_count": 3,
   "id": "8cd16a19",
   "metadata": {
    "execution": {
     "iopub.execute_input": "2025-07-17T15:23:15.255593Z",
     "iopub.status.busy": "2025-07-17T15:23:15.249069Z",
     "iopub.status.idle": "2025-07-17T15:23:16.592182Z",
     "shell.execute_reply": "2025-07-17T15:23:16.591669Z"
    },
    "tags": [
     "remove-input",
     "hide-cell"
    ]
   },
   "outputs": [
    {
     "data": {
      "text/html": [
       "<style type=\"text/css\">\n",
       "#T_60990 th {\n",
       "  text-align: left;\n",
       "}\n",
       "#T_60990_row0_col0, #T_60990_row0_col1, #T_60990_row0_col2, #T_60990_row0_col3, #T_60990_row0_col4, #T_60990_row1_col0, #T_60990_row1_col1, #T_60990_row1_col2, #T_60990_row1_col3, #T_60990_row1_col4, #T_60990_row2_col0, #T_60990_row2_col1, #T_60990_row2_col2, #T_60990_row2_col3, #T_60990_row2_col4, #T_60990_row3_col0, #T_60990_row3_col1, #T_60990_row3_col2, #T_60990_row3_col3, #T_60990_row3_col4, #T_60990_row4_col0, #T_60990_row4_col1, #T_60990_row4_col2, #T_60990_row4_col3, #T_60990_row4_col4, #T_60990_row5_col0, #T_60990_row5_col1, #T_60990_row5_col2, #T_60990_row5_col3, #T_60990_row5_col4, #T_60990_row6_col0, #T_60990_row6_col1, #T_60990_row6_col2, #T_60990_row6_col3, #T_60990_row6_col4 {\n",
       "  text-align: left;\n",
       "}\n",
       "</style>\n",
       "<table id=\"T_60990\" style=\"font-size: 14px\">\n",
       "  <thead>\n",
       "    <tr>\n",
       "      <th id=\"T_60990_level0_col0\" class=\"col_heading level0 col0\" >Dataset</th>\n",
       "      <th id=\"T_60990_level0_col1\" class=\"col_heading level0 col1\" >Dataset Name</th>\n",
       "      <th id=\"T_60990_level0_col2\" class=\"col_heading level0 col2\" ># Participants</th>\n",
       "      <th id=\"T_60990_level0_col3\" class=\"col_heading level0 col3\" ># Observations</th>\n",
       "      <th id=\"T_60990_level0_col4\" class=\"col_heading level0 col4\" ># Variables</th>\n",
       "    </tr>\n",
       "  </thead>\n",
       "  <tbody>\n",
       "    <tr>\n",
       "      <td id=\"T_60990_row0_col0\" class=\"data row0 col0\" > <a href=\"occupation.html\">occupation</a></td>\n",
       "      <td id=\"T_60990_row0_col1\" class=\"data row0 col1\" >Occupation</td>\n",
       "      <td id=\"T_60990_row0_col2\" class=\"data row0 col2\" >3530</td>\n",
       "      <td id=\"T_60990_row0_col3\" class=\"data row0 col3\" >3530</td>\n",
       "      <td id=\"T_60990_row0_col4\" class=\"data row0 col4\" >5</td>\n",
       "    </tr>\n",
       "    <tr>\n",
       "      <td id=\"T_60990_row1_col0\" class=\"data row1 col0\" > <a href=\"thriva.html\">thriva</a></td>\n",
       "      <td id=\"T_60990_row1_col1\" class=\"data row1 col1\" >Thriva</td>\n",
       "      <td id=\"T_60990_row1_col2\" class=\"data row1 col2\" >2415</td>\n",
       "      <td id=\"T_60990_row1_col3\" class=\"data row1 col3\" >2415</td>\n",
       "      <td id=\"T_60990_row1_col4\" class=\"data row1 col4\" >9</td>\n",
       "    </tr>\n",
       "    <tr>\n",
       "      <td id=\"T_60990_row2_col0\" class=\"data row2 col0\" > <a href=\"antibody_test_questionnaire.html\">antibody_test_questionnaire</a></td>\n",
       "      <td id=\"T_60990_row2_col1\" class=\"data row2 col1\" >Antibody Test Questionnaire</td>\n",
       "      <td id=\"T_60990_row2_col2\" class=\"data row2 col2\" >1902</td>\n",
       "      <td id=\"T_60990_row2_col3\" class=\"data row2 col3\" >1900</td>\n",
       "      <td id=\"T_60990_row2_col4\" class=\"data row2 col4\" >445</td>\n",
       "    </tr>\n",
       "    <tr>\n",
       "      <td id=\"T_60990_row3_col0\" class=\"data row3 col0\" > <a href=\"covid19_q2.html\">covid19_q2</a></td>\n",
       "      <td id=\"T_60990_row3_col1\" class=\"data row3 col1\" >COVID-19 Questionnaire 2</td>\n",
       "      <td id=\"T_60990_row3_col2\" class=\"data row3 col2\" >2782</td>\n",
       "      <td id=\"T_60990_row3_col3\" class=\"data row3 col3\" >2784</td>\n",
       "      <td id=\"T_60990_row3_col4\" class=\"data row3 col4\" >327</td>\n",
       "    </tr>\n",
       "    <tr>\n",
       "      <td id=\"T_60990_row4_col0\" class=\"data row4 col0\" > <a href=\"DemographicCore.html\">DemographicCore</a></td>\n",
       "      <td id=\"T_60990_row4_col1\" class=\"data row4 col1\" >Demographic Core</td>\n",
       "      <td id=\"T_60990_row4_col2\" class=\"data row4 col2\" >10042</td>\n",
       "      <td id=\"T_60990_row4_col3\" class=\"data row4 col3\" >10485</td>\n",
       "      <td id=\"T_60990_row4_col4\" class=\"data row4 col4\" >119</td>\n",
       "    </tr>\n",
       "    <tr>\n",
       "      <td id=\"T_60990_row5_col0\" class=\"data row5 col0\" > <a href=\"covid19survey.html\">covid19survey</a></td>\n",
       "      <td id=\"T_60990_row5_col1\" class=\"data row5 col1\" >COVID-19 Survey</td>\n",
       "      <td id=\"T_60990_row5_col2\" class=\"data row5 col2\" >3697</td>\n",
       "      <td id=\"T_60990_row5_col3\" class=\"data row5 col3\" >3711</td>\n",
       "      <td id=\"T_60990_row5_col4\" class=\"data row5 col4\" >851</td>\n",
       "    </tr>\n",
       "    <tr>\n",
       "      <td id=\"T_60990_row6_col0\" class=\"data row6 col0\" > <a href=\"exceed_selfcompletion_questionnaire.html\">exceed_selfcompletion_questionnaire</a></td>\n",
       "      <td id=\"T_60990_row6_col1\" class=\"data row6 col1\" >Exceed Self Completion Questionnaire</td>\n",
       "      <td id=\"T_60990_row6_col2\" class=\"data row6 col2\" >9946</td>\n",
       "      <td id=\"T_60990_row6_col3\" class=\"data row6 col3\" >10443</td>\n",
       "      <td id=\"T_60990_row6_col4\" class=\"data row6 col4\" >236</td>\n",
       "    </tr>\n",
       "  </tbody>\n",
       "</table>\n"
      ],
      "text/plain": [
       "<pandas.io.formats.style.Styler at 0x2a0443bd3a0>"
      ]
     },
     "execution_count": 3,
     "metadata": {},
     "output_type": "execute_result"
    }
   ],
   "source": [
    "ss.datasets()"
   ]
  }
 ],
 "metadata": {
  "language_info": {
   "codemirror_mode": {
    "name": "ipython",
    "version": 3
   },
   "file_extension": ".py",
   "mimetype": "text/x-python",
   "name": "python",
   "nbconvert_exporter": "python",
   "pygments_lexer": "ipython3",
   "version": "3.12.7"
  },
  "mystnb": {
   "code_prompt_hide": "Hide Datasets",
   "code_prompt_show": "Show Datasets"
  }
 },
 "nbformat": 4,
 "nbformat_minor": 5
}
