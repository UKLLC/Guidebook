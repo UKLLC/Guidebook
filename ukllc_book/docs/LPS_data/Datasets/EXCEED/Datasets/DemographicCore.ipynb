{
 "cells": [
  {
   "cell_type": "markdown",
   "id": "b9e81e8b",
   "metadata": {},
   "source": [
    "# Demographic Core (EXCEED)"
   ]
  },
  {
   "cell_type": "code",
   "execution_count": 1,
   "id": "9bc5484a",
   "metadata": {
    "execution": {
     "iopub.execute_input": "2025-07-17T15:22:54.837384Z",
     "iopub.status.busy": "2025-07-17T15:22:54.837384Z",
     "iopub.status.idle": "2025-07-17T15:23:03.681988Z",
     "shell.execute_reply": "2025-07-17T15:23:03.680971Z"
    },
    "tags": [
     "remove-input"
    ]
   },
   "outputs": [
    {
     "data": {
      "text/markdown": [
       ">Last modified: 17 Jul 2025"
      ],
      "text/plain": [
       "<IPython.core.display.Markdown object>"
      ]
     },
     "metadata": {},
     "output_type": "display_data"
    }
   ],
   "source": [
    "\n",
    "import sys\n",
    "import os\n",
    "sys.path.append(os.path.abspath('../../../../scripts/'))\n",
    "from data_doc_helper import LPSDataSet as DS, last_modified\n",
    "API_KEY = os.environ['FASTAPI_KEY']\n",
    "ds = DS(\"EXCEED\", \"DemographicCore\")\n",
    "last_modified()\n"
   ]
  },
  {
   "cell_type": "markdown",
   "id": "08ee1cd8",
   "metadata": {},
   "source": [
    "## 1. Summary"
   ]
  },
  {
   "cell_type": "code",
   "execution_count": 2,
   "id": "ed64504b",
   "metadata": {
    "execution": {
     "iopub.execute_input": "2025-07-17T15:23:03.689986Z",
     "iopub.status.busy": "2025-07-17T15:23:03.689986Z",
     "iopub.status.idle": "2025-07-17T15:23:03.699873Z",
     "shell.execute_reply": "2025-07-17T15:23:03.698423Z"
    },
    "tags": [
     "remove-input"
    ]
   },
   "outputs": [
    {
     "data": {
      "text/markdown": [
       "It consists both EXCEED baseline and COVID19 questionnaires. All EXCEED participants were invited to take both of them online. This block only covers some core demographic questions, please check our covid19survey and baseline questionnaire for more details. "
      ],
      "text/plain": [
       "<IPython.core.display.Markdown object>"
      ]
     },
     "metadata": {},
     "output_type": "display_data"
    }
   ],
   "source": [
    "ds.summary()"
   ]
  },
  {
   "cell_type": "code",
   "execution_count": 3,
   "id": "a4c977b3",
   "metadata": {
    "execution": {
     "iopub.execute_input": "2025-07-17T15:23:03.704850Z",
     "iopub.status.busy": "2025-07-17T15:23:03.704850Z",
     "iopub.status.idle": "2025-07-17T15:23:04.973237Z",
     "shell.execute_reply": "2025-07-17T15:23:04.972220Z"
    },
    "tags": [
     "remove-input"
    ]
   },
   "outputs": [
    {
     "data": {
      "text/html": [
       "<style type=\"text/css\">\n",
       "#T_02b07 th {\n",
       "  text-align: left;\n",
       "}\n",
       "#T_02b07_row0_col0, #T_02b07_row0_col1, #T_02b07_row1_col0, #T_02b07_row1_col1, #T_02b07_row2_col0, #T_02b07_row2_col1, #T_02b07_row3_col0, #T_02b07_row3_col1, #T_02b07_row4_col0, #T_02b07_row4_col1, #T_02b07_row5_col0, #T_02b07_row5_col1, #T_02b07_row6_col0, #T_02b07_row6_col1, #T_02b07_row7_col0, #T_02b07_row7_col1, #T_02b07_row8_col0, #T_02b07_row8_col1, #T_02b07_row9_col0, #T_02b07_row9_col1, #T_02b07_row10_col0, #T_02b07_row10_col1, #T_02b07_row11_col0, #T_02b07_row11_col1, #T_02b07_row12_col0, #T_02b07_row12_col1 {\n",
       "  text-align: left;\n",
       "}\n",
       "</style>\n",
       "<table id=\"T_02b07\" style=\"font-size: 14px\">\n",
       "  <thead>\n",
       "    <tr>\n",
       "      <th id=\"T_02b07_level0_col0\" class=\"col_heading level0 col0\" >Dataset Descriptor</th>\n",
       "      <th id=\"T_02b07_level0_col1\" class=\"col_heading level0 col1\" >Dataset-specific Information</th>\n",
       "    </tr>\n",
       "  </thead>\n",
       "  <tbody>\n",
       "    <tr>\n",
       "      <td id=\"T_02b07_row0_col0\" class=\"data row0 col0\" >Name of Dataset in TRE</td>\n",
       "      <td id=\"T_02b07_row0_col1\" class=\"data row0 col1\" >EXCEED_DemographicCore</td>\n",
       "    </tr>\n",
       "    <tr>\n",
       "      <td id=\"T_02b07_row1_col0\" class=\"data row1 col0\" >Citation (APA)</td>\n",
       "      <td id=\"T_02b07_row1_col1\" class=\"data row1 col1\" >University of Leicester Genetic Epidemiology Group. (2023). <i>Extended Cohort for E-health, Environment and DNA (EXCEED): Demographic Core.</i> UK Longitudinal Linkage Collaboration (UK LLC).  <a href=\"https://doi.org/10.83126/ukllc-dataset-00193-02\" rel=\"noopener noreferrer\" target=\"_blank\">https://doi.org/10.83126/ukllc-dataset-00193-02</a></td>\n",
       "    </tr>\n",
       "    <tr>\n",
       "      <td id=\"T_02b07_row2_col0\" class=\"data row2 col0\" >Download Citation</td>\n",
       "      <td id=\"T_02b07_row2_col1\" class=\"data row2 col1\" > <a href=\"https://api.test.datacite.org/application/vnd.citationstyles.csl+json/10.83126/ukllc-dataset-00193-02\" rel=\"noopener noreferrer\" target=\"_blank\">Citeproc JSON</a>&nbsp;&nbsp;&nbsp;&nbsp; <a href=\"https://api.test.datacite.org/application/x-bibtex/10.83126/ukllc-dataset-00193-02\" rel=\"noopener noreferrer\" target=\"_blank\">BibTeX</a>&nbsp;&nbsp;&nbsp;&nbsp; <a href=\"https://api.test.datacite.org/application/x-research-info-systems/10.83126/ukllc-dataset-00193-02\" rel=\"noopener noreferrer\" target=\"_blank\">RIS</a></td>\n",
       "    </tr>\n",
       "    <tr>\n",
       "      <td id=\"T_02b07_row3_col0\" class=\"data row3 col0\" >Series</td>\n",
       "      <td id=\"T_02b07_row3_col1\" class=\"data row3 col1\" > <a href=\"https://guidebook.ukllc.ac.uk/docs/lps/lps%20profiles/EXCEED\">Extended Cohort for E-health, Environment and DNA (EXCEED)</a></td>\n",
       "    </tr>\n",
       "    <tr>\n",
       "      <td id=\"T_02b07_row4_col0\" class=\"data row4 col0\" >Owner</td>\n",
       "      <td id=\"T_02b07_row4_col1\" class=\"data row4 col1\" >University of Leicester</td>\n",
       "    </tr>\n",
       "    <tr>\n",
       "      <td id=\"T_02b07_row5_col0\" class=\"data row5 col0\" >Temporal Coverage</td>\n",
       "      <td id=\"T_02b07_row5_col1\" class=\"data row5 col1\" >05/2020 - 07/2021</td>\n",
       "    </tr>\n",
       "    <tr>\n",
       "      <td id=\"T_02b07_row6_col0\" class=\"data row6 col0\" >Keywords</td>\n",
       "      <td id=\"T_02b07_row6_col1\" class=\"data row6 col1\" ></td>\n",
       "    </tr>\n",
       "    <tr>\n",
       "      <td id=\"T_02b07_row7_col0\" class=\"data row7 col0\" >Participants Invited</td>\n",
       "      <td id=\"T_02b07_row7_col1\" class=\"data row7 col1\" >10838</td>\n",
       "    </tr>\n",
       "    <tr>\n",
       "      <td id=\"T_02b07_row8_col0\" class=\"data row8 col0\" >Participant Count</td>\n",
       "      <td id=\"T_02b07_row8_col1\" class=\"data row8 col1\" >10042</td>\n",
       "    </tr>\n",
       "    <tr>\n",
       "      <td id=\"T_02b07_row9_col0\" class=\"data row9 col0\" >Number of variables</td>\n",
       "      <td id=\"T_02b07_row9_col1\" class=\"data row9 col1\" >119</td>\n",
       "    </tr>\n",
       "    <tr>\n",
       "      <td id=\"T_02b07_row10_col0\" class=\"data row10 col0\" >Number of observations</td>\n",
       "      <td id=\"T_02b07_row10_col1\" class=\"data row10 col1\" >10485</td>\n",
       "    </tr>\n",
       "    <tr>\n",
       "      <td id=\"T_02b07_row11_col0\" class=\"data row11 col0\" >Specific Restrictions to Data Use</td>\n",
       "      <td id=\"T_02b07_row11_col1\" class=\"data row11 col1\" >None</td>\n",
       "    </tr>\n",
       "    <tr>\n",
       "      <td id=\"T_02b07_row12_col0\" class=\"data row12 col0\" >Build a Data Request</td>\n",
       "      <td id=\"T_02b07_row12_col1\" class=\"data row12 col1\" > <a href=\"https://explore.ukllc.ac.uk/\" rel=\"noopener noreferrer\" target=\"_blank\">https://explore.ukllc.ac.uk/</a></td>\n",
       "    </tr>\n",
       "  </tbody>\n",
       "</table>\n"
      ],
      "text/plain": [
       "<pandas.io.formats.style.Styler at 0x1c323090d70>"
      ]
     },
     "execution_count": 3,
     "metadata": {},
     "output_type": "execute_result"
    }
   ],
   "source": [
    "ds.info_table()"
   ]
  },
  {
   "cell_type": "markdown",
   "id": "cc2c9f5f",
   "metadata": {},
   "source": [
    "## 2. Version History"
   ]
  },
  {
   "cell_type": "code",
   "execution_count": 4,
   "id": "8e68dfbd",
   "metadata": {
    "execution": {
     "iopub.execute_input": "2025-07-17T15:23:04.980299Z",
     "iopub.status.busy": "2025-07-17T15:23:04.980299Z",
     "iopub.status.idle": "2025-07-17T15:23:07.732744Z",
     "shell.execute_reply": "2025-07-17T15:23:07.731060Z"
    },
    "tags": [
     "remove-input"
    ]
   },
   "outputs": [
    {
     "data": {
      "text/html": [
       "<style type=\"text/css\">\n",
       "#T_fea4f th {\n",
       "  text-align: left;\n",
       "}\n",
       "#T_fea4f_row0_col0, #T_fea4f_row0_col1, #T_fea4f_row0_col2, #T_fea4f_row1_col0, #T_fea4f_row1_col1, #T_fea4f_row1_col2, #T_fea4f_row2_col0, #T_fea4f_row2_col1, #T_fea4f_row2_col2, #T_fea4f_row3_col0, #T_fea4f_row3_col1, #T_fea4f_row3_col2, #T_fea4f_row4_col0, #T_fea4f_row4_col1, #T_fea4f_row4_col2 {\n",
       "  text-align: left;\n",
       "}\n",
       "</style>\n",
       "<table id=\"T_fea4f\" style=\"font-size: 14px\">\n",
       "  <thead>\n",
       "    <tr>\n",
       "      <th id=\"T_fea4f_level0_col0\" class=\"col_heading level0 col0\" >Version</th>\n",
       "      <th id=\"T_fea4f_level0_col1\" class=\"col_heading level0 col1\" >1</th>\n",
       "      <th id=\"T_fea4f_level0_col2\" class=\"col_heading level0 col2\" >2</th>\n",
       "    </tr>\n",
       "  </thead>\n",
       "  <tbody>\n",
       "    <tr>\n",
       "      <td id=\"T_fea4f_row0_col0\" class=\"data row0 col0\" >Version Date</td>\n",
       "      <td id=\"T_fea4f_row0_col1\" class=\"data row0 col1\" >01 Nov 2021</td>\n",
       "      <td id=\"T_fea4f_row0_col2\" class=\"data row0 col2\" >24 Oct 2023</td>\n",
       "    </tr>\n",
       "    <tr>\n",
       "      <td id=\"T_fea4f_row1_col0\" class=\"data row1 col0\" >Number of Variables</td>\n",
       "      <td id=\"T_fea4f_row1_col1\" class=\"data row1 col1\" >119</td>\n",
       "      <td id=\"T_fea4f_row1_col2\" class=\"data row1 col2\" >119</td>\n",
       "    </tr>\n",
       "    <tr>\n",
       "      <td id=\"T_fea4f_row2_col0\" class=\"data row2 col0\" >Number of Observations</td>\n",
       "      <td id=\"T_fea4f_row2_col1\" class=\"data row2 col1\" >10042</td>\n",
       "      <td id=\"T_fea4f_row2_col2\" class=\"data row2 col2\" >10485</td>\n",
       "    </tr>\n",
       "    <tr>\n",
       "      <td id=\"T_fea4f_row3_col0\" class=\"data row3 col0\" >DOI</td>\n",
       "      <td id=\"T_fea4f_row3_col1\" class=\"data row3 col1\" > <a href=\"https://doi.org/10.83126/ukllc-dataset-00193-01\" rel=\"noopener noreferrer\" target=\"_blank\">10.83126/ukllc-dataset-00193-01</a></td>\n",
       "      <td id=\"T_fea4f_row3_col2\" class=\"data row3 col2\" > <a href=\"https://doi.org/10.83126/ukllc-dataset-00193-02\" rel=\"noopener noreferrer\" target=\"_blank\">10.83126/ukllc-dataset-00193-02</a></td>\n",
       "    </tr>\n",
       "    <tr>\n",
       "      <td id=\"T_fea4f_row4_col0\" class=\"data row4 col0\" >Change Log</td>\n",
       "      <td id=\"T_fea4f_row4_col1\" class=\"data row4 col1\" > <a href=\"https://api.test.datacite.org/dois/10.83126/ukllc-dataset-00193-01/activities\" rel=\"noopener noreferrer\" target=\"_blank\">10.83126/ukllc-dataset-00193-01/activities</a></td>\n",
       "      <td id=\"T_fea4f_row4_col2\" class=\"data row4 col2\" > <a href=\"https://api.test.datacite.org/dois/10.83126/ukllc-dataset-00193-02/activities\" rel=\"noopener noreferrer\" target=\"_blank\">10.83126/ukllc-dataset-00193-02/activities</a></td>\n",
       "    </tr>\n",
       "  </tbody>\n",
       "</table>\n"
      ],
      "text/plain": [
       "<pandas.io.formats.style.Styler at 0x1c3289f5d00>"
      ]
     },
     "execution_count": 4,
     "metadata": {},
     "output_type": "execute_result"
    }
   ],
   "source": [
    "ds.version_history()"
   ]
  },
  {
   "cell_type": "markdown",
   "id": "a75caeeb",
   "metadata": {},
   "source": [
    "## 3. Documentation"
   ]
  },
  {
   "cell_type": "code",
   "execution_count": 5,
   "id": "5c8ac5cd",
   "metadata": {
    "execution": {
     "iopub.execute_input": "2025-07-17T15:23:07.738245Z",
     "iopub.status.busy": "2025-07-17T15:23:07.738245Z",
     "iopub.status.idle": "2025-07-17T15:23:07.747827Z",
     "shell.execute_reply": "2025-07-17T15:23:07.745807Z"
    },
    "tags": [
     "remove-input"
    ]
   },
   "outputs": [
    {
     "data": {
      "text/markdown": [
       "We are currently building a documentation storage system which will host useful documents related to datasets and data owners. We will surface these documents on Guidebook."
      ],
      "text/plain": [
       "<IPython.core.display.Markdown object>"
      ]
     },
     "metadata": {},
     "output_type": "display_data"
    }
   ],
   "source": [
    "ds.documentation()"
   ]
  },
  {
   "cell_type": "markdown",
   "id": "544c9496",
   "metadata": {},
   "source": [
    "## 4. Useful Syntax"
   ]
  },
  {
   "cell_type": "code",
   "execution_count": 6,
   "id": "2f625103",
   "metadata": {
    "execution": {
     "iopub.execute_input": "2025-07-17T15:23:07.753410Z",
     "iopub.status.busy": "2025-07-17T15:23:07.752390Z",
     "iopub.status.idle": "2025-07-17T15:23:07.760390Z",
     "shell.execute_reply": "2025-07-17T15:23:07.759150Z"
    },
    "tags": [
     "remove-input"
    ]
   },
   "outputs": [
    {
     "data": {
      "text/markdown": [
       "Below we will include syntax that may be helpful to other researchers in the UK LLC TRE. For longer scripts, we will include a snippet of the code plus a link to Git where you can find the full scripts."
      ],
      "text/plain": [
       "<IPython.core.display.Markdown object>"
      ]
     },
     "metadata": {},
     "output_type": "display_data"
    }
   ],
   "source": [
    "ds.useful_syntax()"
   ]
  }
 ],
 "metadata": {
  "language_info": {
   "codemirror_mode": {
    "name": "ipython",
    "version": 3
   },
   "file_extension": ".py",
   "mimetype": "text/x-python",
   "name": "python",
   "nbconvert_exporter": "python",
   "pygments_lexer": "ipython3",
   "version": "3.12.7"
  }
 },
 "nbformat": 4,
 "nbformat_minor": 5
}
