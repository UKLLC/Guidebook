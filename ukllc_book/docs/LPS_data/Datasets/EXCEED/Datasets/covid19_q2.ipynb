{
 "cells": [
  {
   "cell_type": "markdown",
   "id": "9c8e978a",
   "metadata": {},
   "source": [
    "# COVID-19 Questionnaire 2 (EXCEED)"
   ]
  },
  {
   "cell_type": "code",
   "execution_count": 1,
   "id": "c8220330",
   "metadata": {
    "execution": {
     "iopub.execute_input": "2025-07-28T18:44:35.759973Z",
     "iopub.status.busy": "2025-07-28T18:44:35.758978Z",
     "iopub.status.idle": "2025-07-28T18:44:48.574559Z",
     "shell.execute_reply": "2025-07-28T18:44:48.572535Z"
    },
    "tags": [
     "remove-input"
    ]
   },
   "outputs": [
    {
     "data": {
      "text/markdown": [
       ">Last modified: 28 Jul 2025"
      ],
      "text/plain": [
       "<IPython.core.display.Markdown object>"
      ]
     },
     "metadata": {},
     "output_type": "display_data"
    }
   ],
   "source": [
    "\n",
    "import sys\n",
    "import os\n",
    "sys.path.append(os.path.abspath('../../../../scripts/'))\n",
    "from data_doc_helper import LPSDataSet as DS, last_modified\n",
    "API_KEY = os.environ['FASTAPI_KEY']\n",
    "ds = DS(\"EXCEED\", \"covid19_q2\")\n",
    "last_modified()\n"
   ]
  },
  {
   "cell_type": "markdown",
   "id": "4f1fdacd",
   "metadata": {},
   "source": [
    "## 1. Summary"
   ]
  },
  {
   "cell_type": "code",
   "execution_count": 2,
   "id": "fa4e4f7e",
   "metadata": {
    "execution": {
     "iopub.execute_input": "2025-07-28T18:44:48.583549Z",
     "iopub.status.busy": "2025-07-28T18:44:48.582551Z",
     "iopub.status.idle": "2025-07-28T18:44:48.593746Z",
     "shell.execute_reply": "2025-07-28T18:44:48.592728Z"
    },
    "tags": [
     "remove-input"
    ]
   },
   "outputs": [
    {
     "data": {
      "text/markdown": [
       "Only a subset of the original study collection items are provided (any question answers which may contain personal information have been removed along with those given by participants who withdrew)."
      ],
      "text/plain": [
       "<IPython.core.display.Markdown object>"
      ]
     },
     "metadata": {},
     "output_type": "display_data"
    }
   ],
   "source": [
    "ds.summary()"
   ]
  },
  {
   "cell_type": "code",
   "execution_count": 3,
   "id": "365ff2de",
   "metadata": {
    "execution": {
     "iopub.execute_input": "2025-07-28T18:44:48.601033Z",
     "iopub.status.busy": "2025-07-28T18:44:48.600038Z",
     "iopub.status.idle": "2025-07-28T18:44:50.552684Z",
     "shell.execute_reply": "2025-07-28T18:44:50.551155Z"
    },
    "tags": [
     "remove-input"
    ]
   },
   "outputs": [
    {
     "data": {
      "text/html": [
       "<style type=\"text/css\">\n",
       "#T_553ce th {\n",
       "  text-align: left;\n",
       "}\n",
       "#T_553ce_row0_col0, #T_553ce_row0_col1, #T_553ce_row1_col0, #T_553ce_row1_col1, #T_553ce_row2_col0, #T_553ce_row2_col1, #T_553ce_row3_col0, #T_553ce_row3_col1, #T_553ce_row4_col0, #T_553ce_row4_col1, #T_553ce_row5_col0, #T_553ce_row5_col1, #T_553ce_row6_col0, #T_553ce_row6_col1, #T_553ce_row7_col0, #T_553ce_row7_col1, #T_553ce_row8_col0, #T_553ce_row8_col1, #T_553ce_row9_col0, #T_553ce_row9_col1, #T_553ce_row10_col0, #T_553ce_row10_col1, #T_553ce_row11_col0, #T_553ce_row11_col1, #T_553ce_row12_col0, #T_553ce_row12_col1 {\n",
       "  text-align: left;\n",
       "}\n",
       "</style>\n",
       "<table id=\"T_553ce\" style=\"font-size: 14px\">\n",
       "  <thead>\n",
       "    <tr>\n",
       "      <th id=\"T_553ce_level0_col0\" class=\"col_heading level0 col0\" >Dataset Descriptor</th>\n",
       "      <th id=\"T_553ce_level0_col1\" class=\"col_heading level0 col1\" >Dataset-specific Information</th>\n",
       "    </tr>\n",
       "  </thead>\n",
       "  <tbody>\n",
       "    <tr>\n",
       "      <td id=\"T_553ce_row0_col0\" class=\"data row0 col0\" >Name of Dataset in TRE</td>\n",
       "      <td id=\"T_553ce_row0_col1\" class=\"data row0 col1\" >EXCEED_covid19_q2</td>\n",
       "    </tr>\n",
       "    <tr>\n",
       "      <td id=\"T_553ce_row1_col0\" class=\"data row1 col0\" >Citation (APA)</td>\n",
       "      <td id=\"T_553ce_row1_col1\" class=\"data row1 col1\" >University of Leicester Genetic Epidemiology Group. (2023). <i>Extended Cohort for E-health, Environment and DNA (EXCEED): COVID-19 Questionnaire 2.</i> UK Longitudinal Linkage Collaboration (UK LLC).  <a href=\"https://doi.org/10.71760/ukllc-dataset-00114-02\" rel=\"noopener noreferrer\" target=\"_blank\">https://doi.org/10.71760/ukllc-dataset-00114-02</a></td>\n",
       "    </tr>\n",
       "    <tr>\n",
       "      <td id=\"T_553ce_row2_col0\" class=\"data row2 col0\" >Download Citation</td>\n",
       "      <td id=\"T_553ce_row2_col1\" class=\"data row2 col1\" > <a href=\"https://api.datacite.org/application/vnd.citationstyles.csl+json/10.71760/ukllc-dataset-00114-02\" rel=\"noopener noreferrer\" target=\"_blank\">Citeproc JSON</a>&nbsp;&nbsp;&nbsp;&nbsp; <a href=\"https://api.datacite.org/application/x-bibtex/10.71760/ukllc-dataset-00114-02\" rel=\"noopener noreferrer\" target=\"_blank\">BibTeX</a>&nbsp;&nbsp;&nbsp;&nbsp; <a href=\"https://api.datacite.org/application/x-research-info-systems/10.71760/ukllc-dataset-00114-02\" rel=\"noopener noreferrer\" target=\"_blank\">RIS</a></td>\n",
       "    </tr>\n",
       "    <tr>\n",
       "      <td id=\"T_553ce_row3_col0\" class=\"data row3 col0\" >Series</td>\n",
       "      <td id=\"T_553ce_row3_col1\" class=\"data row3 col1\" > <a href=\"https://guidebook.ukllc.ac.uk/docs/lps_data/lps%20profiles/EXCEED\">Extended Cohort for E-health, Environment and DNA (EXCEED)</a></td>\n",
       "    </tr>\n",
       "    <tr>\n",
       "      <td id=\"T_553ce_row4_col0\" class=\"data row4 col0\" >Owner</td>\n",
       "      <td id=\"T_553ce_row4_col1\" class=\"data row4 col1\" >University of Leicester</td>\n",
       "    </tr>\n",
       "    <tr>\n",
       "      <td id=\"T_553ce_row5_col0\" class=\"data row5 col0\" >Temporal Coverage</td>\n",
       "      <td id=\"T_553ce_row5_col1\" class=\"data row5 col1\" >07/2021 - 06/2022</td>\n",
       "    </tr>\n",
       "    <tr>\n",
       "      <td id=\"T_553ce_row6_col0\" class=\"data row6 col0\" >Keywords</td>\n",
       "      <td id=\"T_553ce_row6_col1\" class=\"data row6 col1\" ></td>\n",
       "    </tr>\n",
       "    <tr>\n",
       "      <td id=\"T_553ce_row7_col0\" class=\"data row7 col0\" >Participants Invited</td>\n",
       "      <td id=\"T_553ce_row7_col1\" class=\"data row7 col1\" >11047</td>\n",
       "    </tr>\n",
       "    <tr>\n",
       "      <td id=\"T_553ce_row8_col0\" class=\"data row8 col0\" >Participant Count</td>\n",
       "      <td id=\"T_553ce_row8_col1\" class=\"data row8 col1\" >2782</td>\n",
       "    </tr>\n",
       "    <tr>\n",
       "      <td id=\"T_553ce_row9_col0\" class=\"data row9 col0\" >Number of variables</td>\n",
       "      <td id=\"T_553ce_row9_col1\" class=\"data row9 col1\" >327</td>\n",
       "    </tr>\n",
       "    <tr>\n",
       "      <td id=\"T_553ce_row10_col0\" class=\"data row10 col0\" >Number of observations</td>\n",
       "      <td id=\"T_553ce_row10_col1\" class=\"data row10 col1\" >2784</td>\n",
       "    </tr>\n",
       "    <tr>\n",
       "      <td id=\"T_553ce_row11_col0\" class=\"data row11 col0\" >Specific Restrictions to Data Use</td>\n",
       "      <td id=\"T_553ce_row11_col1\" class=\"data row11 col1\" >None</td>\n",
       "    </tr>\n",
       "    <tr>\n",
       "      <td id=\"T_553ce_row12_col0\" class=\"data row12 col0\" >Build a Data Request</td>\n",
       "      <td id=\"T_553ce_row12_col1\" class=\"data row12 col1\" > <a href=\"https://explore.ukllc.ac.uk/\" rel=\"noopener noreferrer\" target=\"_blank\">https://explore.ukllc.ac.uk/</a></td>\n",
       "    </tr>\n",
       "  </tbody>\n",
       "</table>\n"
      ],
      "text/plain": [
       "<pandas.io.formats.style.Styler at 0x1b0a7a738c0>"
      ]
     },
     "execution_count": 3,
     "metadata": {},
     "output_type": "execute_result"
    }
   ],
   "source": [
    "ds.info_table()"
   ]
  },
  {
   "cell_type": "markdown",
   "id": "216e6a48",
   "metadata": {},
   "source": [
    "## 2. Version History"
   ]
  },
  {
   "cell_type": "code",
   "execution_count": 4,
   "id": "ce6416a1",
   "metadata": {
    "execution": {
     "iopub.execute_input": "2025-07-28T18:44:50.560030Z",
     "iopub.status.busy": "2025-07-28T18:44:50.559032Z",
     "iopub.status.idle": "2025-07-28T18:44:56.113757Z",
     "shell.execute_reply": "2025-07-28T18:44:56.112727Z"
    },
    "tags": [
     "remove-input"
    ]
   },
   "outputs": [
    {
     "data": {
      "text/html": [
       "<style type=\"text/css\">\n",
       "#T_5f371 th {\n",
       "  text-align: left;\n",
       "}\n",
       "#T_5f371_row0_col0, #T_5f371_row0_col1, #T_5f371_row0_col2, #T_5f371_row1_col0, #T_5f371_row1_col1, #T_5f371_row1_col2, #T_5f371_row2_col0, #T_5f371_row2_col1, #T_5f371_row2_col2, #T_5f371_row3_col0, #T_5f371_row3_col1, #T_5f371_row3_col2, #T_5f371_row4_col0, #T_5f371_row4_col1, #T_5f371_row4_col2 {\n",
       "  text-align: left;\n",
       "}\n",
       "</style>\n",
       "<table id=\"T_5f371\" style=\"font-size: 14px\">\n",
       "  <thead>\n",
       "    <tr>\n",
       "      <th id=\"T_5f371_level0_col0\" class=\"col_heading level0 col0\" >Version</th>\n",
       "      <th id=\"T_5f371_level0_col1\" class=\"col_heading level0 col1\" >1</th>\n",
       "      <th id=\"T_5f371_level0_col2\" class=\"col_heading level0 col2\" >2</th>\n",
       "    </tr>\n",
       "  </thead>\n",
       "  <tbody>\n",
       "    <tr>\n",
       "      <td id=\"T_5f371_row0_col0\" class=\"data row0 col0\" >Version Date</td>\n",
       "      <td id=\"T_5f371_row0_col1\" class=\"data row0 col1\" >10 Aug 2022</td>\n",
       "      <td id=\"T_5f371_row0_col2\" class=\"data row0 col2\" >24 Oct 2023</td>\n",
       "    </tr>\n",
       "    <tr>\n",
       "      <td id=\"T_5f371_row1_col0\" class=\"data row1 col0\" >Number of Variables</td>\n",
       "      <td id=\"T_5f371_row1_col1\" class=\"data row1 col1\" >654</td>\n",
       "      <td id=\"T_5f371_row1_col2\" class=\"data row1 col2\" >327</td>\n",
       "    </tr>\n",
       "    <tr>\n",
       "      <td id=\"T_5f371_row2_col0\" class=\"data row2 col0\" >Number of Observations</td>\n",
       "      <td id=\"T_5f371_row2_col1\" class=\"data row2 col1\" >2782</td>\n",
       "      <td id=\"T_5f371_row2_col2\" class=\"data row2 col2\" >2784</td>\n",
       "    </tr>\n",
       "    <tr>\n",
       "      <td id=\"T_5f371_row3_col0\" class=\"data row3 col0\" >DOI</td>\n",
       "      <td id=\"T_5f371_row3_col1\" class=\"data row3 col1\" > <a href=\"https://doi.org/10.71760/ukllc-dataset-00114-01\" rel=\"noopener noreferrer\" target=\"_blank\">10.71760/ukllc-dataset-00114-01</a></td>\n",
       "      <td id=\"T_5f371_row3_col2\" class=\"data row3 col2\" > <a href=\"https://doi.org/10.71760/ukllc-dataset-00114-02\" rel=\"noopener noreferrer\" target=\"_blank\">10.71760/ukllc-dataset-00114-02</a></td>\n",
       "    </tr>\n",
       "    <tr>\n",
       "      <td id=\"T_5f371_row4_col0\" class=\"data row4 col0\" >Change Log</td>\n",
       "      <td id=\"T_5f371_row4_col1\" class=\"data row4 col1\" > <a href=\"https://api.test.datacite.org/dois/10.71760/ukllc-dataset-00114-01/activities\" rel=\"noopener noreferrer\" target=\"_blank\">10.71760/ukllc-dataset-00114-01/activities</a></td>\n",
       "      <td id=\"T_5f371_row4_col2\" class=\"data row4 col2\" > <a href=\"https://api.test.datacite.org/dois/10.71760/ukllc-dataset-00114-02/activities\" rel=\"noopener noreferrer\" target=\"_blank\">10.71760/ukllc-dataset-00114-02/activities</a></td>\n",
       "    </tr>\n",
       "  </tbody>\n",
       "</table>\n"
      ],
      "text/plain": [
       "<pandas.io.formats.style.Styler at 0x1b0a93fe240>"
      ]
     },
     "execution_count": 4,
     "metadata": {},
     "output_type": "execute_result"
    }
   ],
   "source": [
    "ds.version_history()"
   ]
  },
  {
   "cell_type": "markdown",
   "id": "6e5f0dde",
   "metadata": {},
   "source": [
    "## 3. Documentation"
   ]
  },
  {
   "cell_type": "code",
   "execution_count": 5,
   "id": "5aa54e83",
   "metadata": {
    "execution": {
     "iopub.execute_input": "2025-07-28T18:44:56.118794Z",
     "iopub.status.busy": "2025-07-28T18:44:56.118794Z",
     "iopub.status.idle": "2025-07-28T18:44:56.136508Z",
     "shell.execute_reply": "2025-07-28T18:44:56.134489Z"
    },
    "tags": [
     "remove-input"
    ]
   },
   "outputs": [
    {
     "data": {
      "text/markdown": [
       "We are currently building a documentation storage system which will host useful documents related to datasets and data owners. We will surface these documents on Guidebook."
      ],
      "text/plain": [
       "<IPython.core.display.Markdown object>"
      ]
     },
     "metadata": {},
     "output_type": "display_data"
    }
   ],
   "source": [
    "ds.documentation()"
   ]
  },
  {
   "cell_type": "markdown",
   "id": "90c29706",
   "metadata": {},
   "source": [
    "## 4. Useful Syntax"
   ]
  },
  {
   "cell_type": "code",
   "execution_count": 6,
   "id": "293bb390",
   "metadata": {
    "execution": {
     "iopub.execute_input": "2025-07-28T18:44:56.147508Z",
     "iopub.status.busy": "2025-07-28T18:44:56.146508Z",
     "iopub.status.idle": "2025-07-28T18:44:56.166672Z",
     "shell.execute_reply": "2025-07-28T18:44:56.164642Z"
    },
    "tags": [
     "remove-input"
    ]
   },
   "outputs": [
    {
     "data": {
      "text/markdown": [
       "Below we will include syntax that may be helpful to other researchers in the UK LLC TRE. For longer scripts, we will include a snippet of the code plus a link to Git where you can find the full scripts."
      ],
      "text/plain": [
       "<IPython.core.display.Markdown object>"
      ]
     },
     "metadata": {},
     "output_type": "display_data"
    }
   ],
   "source": [
    "ds.useful_syntax()"
   ]
  }
 ],
 "metadata": {
  "language_info": {
   "codemirror_mode": {
    "name": "ipython",
    "version": 3
   },
   "file_extension": ".py",
   "mimetype": "text/x-python",
   "name": "python",
   "nbconvert_exporter": "python",
   "pygments_lexer": "ipython3",
   "version": "3.12.7"
  }
 },
 "nbformat": 4,
 "nbformat_minor": 5
}
