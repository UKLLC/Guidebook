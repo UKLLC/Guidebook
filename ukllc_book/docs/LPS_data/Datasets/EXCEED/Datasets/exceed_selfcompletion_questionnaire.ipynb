{
 "cells": [
  {
   "cell_type": "markdown",
   "id": "5eafd6a9",
   "metadata": {},
   "source": [
    "# Exceed Self Completion Questionnaire (EXCEED)"
   ]
  },
  {
   "cell_type": "code",
   "execution_count": 1,
   "id": "611da826",
   "metadata": {
    "execution": {
     "iopub.execute_input": "2025-07-28T18:45:41.201687Z",
     "iopub.status.busy": "2025-07-28T18:45:41.201687Z",
     "iopub.status.idle": "2025-07-28T18:45:53.934700Z",
     "shell.execute_reply": "2025-07-28T18:45:53.932687Z"
    },
    "tags": [
     "remove-input"
    ]
   },
   "outputs": [
    {
     "data": {
      "text/markdown": [
       ">Last modified: 28 Jul 2025"
      ],
      "text/plain": [
       "<IPython.core.display.Markdown object>"
      ]
     },
     "metadata": {},
     "output_type": "display_data"
    }
   ],
   "source": [
    "\n",
    "import sys\n",
    "import os\n",
    "sys.path.append(os.path.abspath('../../../../scripts/'))\n",
    "from data_doc_helper import LPSDataSet as DS, last_modified\n",
    "API_KEY = os.environ['FASTAPI_KEY']\n",
    "ds = DS(\"EXCEED\", \"exceed_selfcompletion_questionnaire\")\n",
    "last_modified()\n"
   ]
  },
  {
   "cell_type": "markdown",
   "id": "e70dc6b6",
   "metadata": {},
   "source": [
    "## 1. Summary"
   ]
  },
  {
   "cell_type": "code",
   "execution_count": 2,
   "id": "f7ebb480",
   "metadata": {
    "execution": {
     "iopub.execute_input": "2025-07-28T18:45:53.942646Z",
     "iopub.status.busy": "2025-07-28T18:45:53.941647Z",
     "iopub.status.idle": "2025-07-28T18:45:53.952758Z",
     "shell.execute_reply": "2025-07-28T18:45:53.952252Z"
    },
    "tags": [
     "remove-input"
    ]
   },
   "outputs": [
    {
     "data": {
      "text/markdown": [
       "All EXCEED participants were invited to take this questionnaire. It covered topics about some core demographic information (such as gender), personal habits on smoking and drinking and some basic information on their registered GP. "
      ],
      "text/plain": [
       "<IPython.core.display.Markdown object>"
      ]
     },
     "metadata": {},
     "output_type": "display_data"
    }
   ],
   "source": [
    "ds.summary()"
   ]
  },
  {
   "cell_type": "code",
   "execution_count": 3,
   "id": "6b0e2c58",
   "metadata": {
    "execution": {
     "iopub.execute_input": "2025-07-28T18:45:53.959709Z",
     "iopub.status.busy": "2025-07-28T18:45:53.958896Z",
     "iopub.status.idle": "2025-07-28T18:45:55.889482Z",
     "shell.execute_reply": "2025-07-28T18:45:55.887934Z"
    },
    "tags": [
     "remove-input"
    ]
   },
   "outputs": [
    {
     "data": {
      "text/html": [
       "<style type=\"text/css\">\n",
       "#T_9f220 th {\n",
       "  text-align: left;\n",
       "}\n",
       "#T_9f220_row0_col0, #T_9f220_row0_col1, #T_9f220_row1_col0, #T_9f220_row1_col1, #T_9f220_row2_col0, #T_9f220_row2_col1, #T_9f220_row3_col0, #T_9f220_row3_col1, #T_9f220_row4_col0, #T_9f220_row4_col1, #T_9f220_row5_col0, #T_9f220_row5_col1, #T_9f220_row6_col0, #T_9f220_row6_col1, #T_9f220_row7_col0, #T_9f220_row7_col1, #T_9f220_row8_col0, #T_9f220_row8_col1, #T_9f220_row9_col0, #T_9f220_row9_col1, #T_9f220_row10_col0, #T_9f220_row10_col1, #T_9f220_row11_col0, #T_9f220_row11_col1, #T_9f220_row12_col0, #T_9f220_row12_col1 {\n",
       "  text-align: left;\n",
       "}\n",
       "</style>\n",
       "<table id=\"T_9f220\" style=\"font-size: 14px\">\n",
       "  <thead>\n",
       "    <tr>\n",
       "      <th id=\"T_9f220_level0_col0\" class=\"col_heading level0 col0\" >Dataset Descriptor</th>\n",
       "      <th id=\"T_9f220_level0_col1\" class=\"col_heading level0 col1\" >Dataset-specific Information</th>\n",
       "    </tr>\n",
       "  </thead>\n",
       "  <tbody>\n",
       "    <tr>\n",
       "      <td id=\"T_9f220_row0_col0\" class=\"data row0 col0\" >Name of Dataset in TRE</td>\n",
       "      <td id=\"T_9f220_row0_col1\" class=\"data row0 col1\" >EXCEED_exceed_selfcompletion_questionnaire</td>\n",
       "    </tr>\n",
       "    <tr>\n",
       "      <td id=\"T_9f220_row1_col0\" class=\"data row1 col0\" >Citation (APA)</td>\n",
       "      <td id=\"T_9f220_row1_col1\" class=\"data row1 col1\" >University of Leicester Genetic Epidemiology Group. (2023). <i>Extended Cohort for E-health, Environment and DNA (EXCEED): Exceed Self Completion Questionnaire.</i> UK Longitudinal Linkage Collaboration (UK LLC).  <a href=\"https://doi.org/10.71760/ukllc-dataset-00116-04\" rel=\"noopener noreferrer\" target=\"_blank\">https://doi.org/10.71760/ukllc-dataset-00116-04</a></td>\n",
       "    </tr>\n",
       "    <tr>\n",
       "      <td id=\"T_9f220_row2_col0\" class=\"data row2 col0\" >Download Citation</td>\n",
       "      <td id=\"T_9f220_row2_col1\" class=\"data row2 col1\" > <a href=\"https://api.datacite.org/application/vnd.citationstyles.csl+json/10.71760/ukllc-dataset-00116-04\" rel=\"noopener noreferrer\" target=\"_blank\">Citeproc JSON</a>&nbsp;&nbsp;&nbsp;&nbsp; <a href=\"https://api.datacite.org/application/x-bibtex/10.71760/ukllc-dataset-00116-04\" rel=\"noopener noreferrer\" target=\"_blank\">BibTeX</a>&nbsp;&nbsp;&nbsp;&nbsp; <a href=\"https://api.datacite.org/application/x-research-info-systems/10.71760/ukllc-dataset-00116-04\" rel=\"noopener noreferrer\" target=\"_blank\">RIS</a></td>\n",
       "    </tr>\n",
       "    <tr>\n",
       "      <td id=\"T_9f220_row3_col0\" class=\"data row3 col0\" >Series</td>\n",
       "      <td id=\"T_9f220_row3_col1\" class=\"data row3 col1\" > <a href=\"https://guidebook.ukllc.ac.uk/docs/lps_data/lps%20profiles/EXCEED\">Extended Cohort for E-health, Environment and DNA (EXCEED)</a></td>\n",
       "    </tr>\n",
       "    <tr>\n",
       "      <td id=\"T_9f220_row4_col0\" class=\"data row4 col0\" >Owner</td>\n",
       "      <td id=\"T_9f220_row4_col1\" class=\"data row4 col1\" >University of Leicester</td>\n",
       "    </tr>\n",
       "    <tr>\n",
       "      <td id=\"T_9f220_row5_col0\" class=\"data row5 col0\" >Temporal Coverage</td>\n",
       "      <td id=\"T_9f220_row5_col1\" class=\"data row5 col1\" >11/2013 - 07/2021</td>\n",
       "    </tr>\n",
       "    <tr>\n",
       "      <td id=\"T_9f220_row6_col0\" class=\"data row6 col0\" >Keywords</td>\n",
       "      <td id=\"T_9f220_row6_col1\" class=\"data row6 col1\" ></td>\n",
       "    </tr>\n",
       "    <tr>\n",
       "      <td id=\"T_9f220_row7_col0\" class=\"data row7 col0\" >Participants Invited</td>\n",
       "      <td id=\"T_9f220_row7_col1\" class=\"data row7 col1\" >10838</td>\n",
       "    </tr>\n",
       "    <tr>\n",
       "      <td id=\"T_9f220_row8_col0\" class=\"data row8 col0\" >Participant Count</td>\n",
       "      <td id=\"T_9f220_row8_col1\" class=\"data row8 col1\" >9946</td>\n",
       "    </tr>\n",
       "    <tr>\n",
       "      <td id=\"T_9f220_row9_col0\" class=\"data row9 col0\" >Number of variables</td>\n",
       "      <td id=\"T_9f220_row9_col1\" class=\"data row9 col1\" >239</td>\n",
       "    </tr>\n",
       "    <tr>\n",
       "      <td id=\"T_9f220_row10_col0\" class=\"data row10 col0\" >Number of observations</td>\n",
       "      <td id=\"T_9f220_row10_col1\" class=\"data row10 col1\" >10443</td>\n",
       "    </tr>\n",
       "    <tr>\n",
       "      <td id=\"T_9f220_row11_col0\" class=\"data row11 col0\" >Specific Restrictions to Data Use</td>\n",
       "      <td id=\"T_9f220_row11_col1\" class=\"data row11 col1\" >None</td>\n",
       "    </tr>\n",
       "    <tr>\n",
       "      <td id=\"T_9f220_row12_col0\" class=\"data row12 col0\" >Build a Data Request</td>\n",
       "      <td id=\"T_9f220_row12_col1\" class=\"data row12 col1\" > <a href=\"https://explore.ukllc.ac.uk/\" rel=\"noopener noreferrer\" target=\"_blank\">https://explore.ukllc.ac.uk/</a></td>\n",
       "    </tr>\n",
       "  </tbody>\n",
       "</table>\n"
      ],
      "text/plain": [
       "<pandas.io.formats.style.Styler at 0x1c6b52799d0>"
      ]
     },
     "execution_count": 3,
     "metadata": {},
     "output_type": "execute_result"
    }
   ],
   "source": [
    "ds.info_table()"
   ]
  },
  {
   "cell_type": "markdown",
   "id": "13e3f8fa",
   "metadata": {},
   "source": [
    "## 2. Version History"
   ]
  },
  {
   "cell_type": "code",
   "execution_count": 4,
   "id": "a6c58fdf",
   "metadata": {
    "execution": {
     "iopub.execute_input": "2025-07-28T18:45:55.898490Z",
     "iopub.status.busy": "2025-07-28T18:45:55.897491Z",
     "iopub.status.idle": "2025-07-28T18:46:01.200158Z",
     "shell.execute_reply": "2025-07-28T18:46:01.198043Z"
    },
    "tags": [
     "remove-input"
    ]
   },
   "outputs": [
    {
     "data": {
      "text/html": [
       "<style type=\"text/css\">\n",
       "#T_4699d th {\n",
       "  text-align: left;\n",
       "}\n",
       "#T_4699d_row0_col0, #T_4699d_row0_col1, #T_4699d_row0_col2, #T_4699d_row0_col3, #T_4699d_row0_col4, #T_4699d_row1_col0, #T_4699d_row1_col1, #T_4699d_row1_col2, #T_4699d_row1_col3, #T_4699d_row1_col4, #T_4699d_row2_col0, #T_4699d_row2_col1, #T_4699d_row2_col2, #T_4699d_row2_col3, #T_4699d_row2_col4, #T_4699d_row3_col0, #T_4699d_row3_col1, #T_4699d_row3_col2, #T_4699d_row3_col3, #T_4699d_row3_col4, #T_4699d_row4_col0, #T_4699d_row4_col1, #T_4699d_row4_col2, #T_4699d_row4_col3, #T_4699d_row4_col4 {\n",
       "  text-align: left;\n",
       "}\n",
       "</style>\n",
       "<table id=\"T_4699d\" style=\"font-size: 14px\">\n",
       "  <thead>\n",
       "    <tr>\n",
       "      <th id=\"T_4699d_level0_col0\" class=\"col_heading level0 col0\" >Version</th>\n",
       "      <th id=\"T_4699d_level0_col1\" class=\"col_heading level0 col1\" >1</th>\n",
       "      <th id=\"T_4699d_level0_col2\" class=\"col_heading level0 col2\" >2</th>\n",
       "      <th id=\"T_4699d_level0_col3\" class=\"col_heading level0 col3\" >3</th>\n",
       "      <th id=\"T_4699d_level0_col4\" class=\"col_heading level0 col4\" >4</th>\n",
       "    </tr>\n",
       "  </thead>\n",
       "  <tbody>\n",
       "    <tr>\n",
       "      <td id=\"T_4699d_row0_col0\" class=\"data row0 col0\" >Version Date</td>\n",
       "      <td id=\"T_4699d_row0_col1\" class=\"data row0 col1\" >01 Nov 2021</td>\n",
       "      <td id=\"T_4699d_row0_col2\" class=\"data row0 col2\" >02 Mar 2022</td>\n",
       "      <td id=\"T_4699d_row0_col3\" class=\"data row0 col3\" >10 Aug 2022</td>\n",
       "      <td id=\"T_4699d_row0_col4\" class=\"data row0 col4\" >24 Oct 2023</td>\n",
       "    </tr>\n",
       "    <tr>\n",
       "      <td id=\"T_4699d_row1_col0\" class=\"data row1 col0\" >Number of Variables</td>\n",
       "      <td id=\"T_4699d_row1_col1\" class=\"data row1 col1\" >235</td>\n",
       "      <td id=\"T_4699d_row1_col2\" class=\"data row1 col2\" >238</td>\n",
       "      <td id=\"T_4699d_row1_col3\" class=\"data row1 col3\" >236</td>\n",
       "      <td id=\"T_4699d_row1_col4\" class=\"data row1 col4\" >236</td>\n",
       "    </tr>\n",
       "    <tr>\n",
       "      <td id=\"T_4699d_row2_col0\" class=\"data row2 col0\" >Number of Observations</td>\n",
       "      <td id=\"T_4699d_row2_col1\" class=\"data row2 col1\" >9946</td>\n",
       "      <td id=\"T_4699d_row2_col2\" class=\"data row2 col2\" >10425</td>\n",
       "      <td id=\"T_4699d_row2_col3\" class=\"data row2 col3\" >10445</td>\n",
       "      <td id=\"T_4699d_row2_col4\" class=\"data row2 col4\" >10443</td>\n",
       "    </tr>\n",
       "    <tr>\n",
       "      <td id=\"T_4699d_row3_col0\" class=\"data row3 col0\" >DOI</td>\n",
       "      <td id=\"T_4699d_row3_col1\" class=\"data row3 col1\" > <a href=\"https://doi.org/10.71760/ukllc-dataset-00116-01\" rel=\"noopener noreferrer\" target=\"_blank\">10.71760/ukllc-dataset-00116-01</a></td>\n",
       "      <td id=\"T_4699d_row3_col2\" class=\"data row3 col2\" > <a href=\"https://doi.org/10.71760/ukllc-dataset-00116-02\" rel=\"noopener noreferrer\" target=\"_blank\">10.71760/ukllc-dataset-00116-02</a></td>\n",
       "      <td id=\"T_4699d_row3_col3\" class=\"data row3 col3\" > <a href=\"https://doi.org/10.71760/ukllc-dataset-00116-03\" rel=\"noopener noreferrer\" target=\"_blank\">10.71760/ukllc-dataset-00116-03</a></td>\n",
       "      <td id=\"T_4699d_row3_col4\" class=\"data row3 col4\" > <a href=\"https://doi.org/10.71760/ukllc-dataset-00116-04\" rel=\"noopener noreferrer\" target=\"_blank\">10.71760/ukllc-dataset-00116-04</a></td>\n",
       "    </tr>\n",
       "    <tr>\n",
       "      <td id=\"T_4699d_row4_col0\" class=\"data row4 col0\" >Change Log</td>\n",
       "      <td id=\"T_4699d_row4_col1\" class=\"data row4 col1\" > <a href=\"https://api.test.datacite.org/dois/10.71760/ukllc-dataset-00116-01/activities\" rel=\"noopener noreferrer\" target=\"_blank\">10.71760/ukllc-dataset-00116-01/activities</a></td>\n",
       "      <td id=\"T_4699d_row4_col2\" class=\"data row4 col2\" > <a href=\"https://api.test.datacite.org/dois/10.71760/ukllc-dataset-00116-02/activities\" rel=\"noopener noreferrer\" target=\"_blank\">10.71760/ukllc-dataset-00116-02/activities</a></td>\n",
       "      <td id=\"T_4699d_row4_col3\" class=\"data row4 col3\" > <a href=\"https://api.test.datacite.org/dois/10.71760/ukllc-dataset-00116-03/activities\" rel=\"noopener noreferrer\" target=\"_blank\">10.71760/ukllc-dataset-00116-03/activities</a></td>\n",
       "      <td id=\"T_4699d_row4_col4\" class=\"data row4 col4\" > <a href=\"https://api.test.datacite.org/dois/10.71760/ukllc-dataset-00116-04/activities\" rel=\"noopener noreferrer\" target=\"_blank\">10.71760/ukllc-dataset-00116-04/activities</a></td>\n",
       "    </tr>\n",
       "  </tbody>\n",
       "</table>\n"
      ],
      "text/plain": [
       "<pandas.io.formats.style.Styler at 0x1c6b6d4f560>"
      ]
     },
     "execution_count": 4,
     "metadata": {},
     "output_type": "execute_result"
    }
   ],
   "source": [
    "ds.version_history()"
   ]
  },
  {
   "cell_type": "markdown",
   "id": "2c63a5ed",
   "metadata": {},
   "source": [
    "## 3. Documentation"
   ]
  },
  {
   "cell_type": "code",
   "execution_count": 5,
   "id": "5c007104",
   "metadata": {
    "execution": {
     "iopub.execute_input": "2025-07-28T18:46:01.208190Z",
     "iopub.status.busy": "2025-07-28T18:46:01.208190Z",
     "iopub.status.idle": "2025-07-28T18:46:01.218731Z",
     "shell.execute_reply": "2025-07-28T18:46:01.217189Z"
    },
    "tags": [
     "remove-input"
    ]
   },
   "outputs": [
    {
     "data": {
      "text/markdown": [
       "We are currently building a documentation storage system which will host useful documents related to datasets and data owners. We will surface these documents on Guidebook."
      ],
      "text/plain": [
       "<IPython.core.display.Markdown object>"
      ]
     },
     "metadata": {},
     "output_type": "display_data"
    }
   ],
   "source": [
    "ds.documentation()"
   ]
  },
  {
   "cell_type": "markdown",
   "id": "af10a6ec",
   "metadata": {},
   "source": [
    "## 4. Useful Syntax"
   ]
  },
  {
   "cell_type": "code",
   "execution_count": 6,
   "id": "bc9d823c",
   "metadata": {
    "execution": {
     "iopub.execute_input": "2025-07-28T18:46:01.222711Z",
     "iopub.status.busy": "2025-07-28T18:46:01.222711Z",
     "iopub.status.idle": "2025-07-28T18:46:01.232726Z",
     "shell.execute_reply": "2025-07-28T18:46:01.231163Z"
    },
    "tags": [
     "remove-input"
    ]
   },
   "outputs": [
    {
     "data": {
      "text/markdown": [
       "Below we will include syntax that may be helpful to other researchers in the UK LLC TRE. For longer scripts, we will include a snippet of the code plus a link to Git where you can find the full scripts."
      ],
      "text/plain": [
       "<IPython.core.display.Markdown object>"
      ]
     },
     "metadata": {},
     "output_type": "display_data"
    }
   ],
   "source": [
    "ds.useful_syntax()"
   ]
  }
 ],
 "metadata": {
  "language_info": {
   "codemirror_mode": {
    "name": "ipython",
    "version": 3
   },
   "file_extension": ".py",
   "mimetype": "text/x-python",
   "name": "python",
   "nbconvert_exporter": "python",
   "pygments_lexer": "ipython3",
   "version": "3.12.7"
  }
 },
 "nbformat": 4,
 "nbformat_minor": 5
}
