{
 "cells": [
  {
   "cell_type": "markdown",
   "id": "b4af104f",
   "metadata": {},
   "source": [
    "# MCS2 Cohort Member Derived (MCS)"
   ]
  },
  {
   "cell_type": "code",
   "execution_count": 1,
   "id": "ac1775d4",
   "metadata": {
    "execution": {
     "iopub.execute_input": "2025-07-18T09:48:58.401177Z",
     "iopub.status.busy": "2025-07-18T09:48:58.400179Z",
     "iopub.status.idle": "2025-07-18T09:49:05.633060Z",
     "shell.execute_reply": "2025-07-18T09:49:05.631376Z"
    },
    "tags": [
     "remove-input"
    ]
   },
   "outputs": [
    {
     "data": {
      "text/markdown": [
       ">Last modified: 18 Jul 2025"
      ],
      "text/plain": [
       "<IPython.core.display.Markdown object>"
      ]
     },
     "metadata": {},
     "output_type": "display_data"
    }
   ],
   "source": [
    "\n",
    "import sys\n",
    "import os\n",
    "sys.path.append(os.path.abspath('../../../../scripts/'))\n",
    "from data_doc_helper import LPSDataSet as DS, last_modified\n",
    "API_KEY = os.environ['FASTAPI_KEY']\n",
    "ds = DS(\"MCS\", \"mcs2_cm_derived\")\n",
    "last_modified()\n"
   ]
  },
  {
   "cell_type": "markdown",
   "id": "14919f23",
   "metadata": {},
   "source": [
    "## 1. Summary"
   ]
  },
  {
   "cell_type": "code",
   "execution_count": 2,
   "id": "00671938",
   "metadata": {
    "execution": {
     "iopub.execute_input": "2025-07-18T09:49:05.638587Z",
     "iopub.status.busy": "2025-07-18T09:49:05.637581Z",
     "iopub.status.idle": "2025-07-18T09:49:05.648348Z",
     "shell.execute_reply": "2025-07-18T09:49:05.646342Z"
    },
    "tags": [
     "remove-input"
    ]
   },
   "outputs": [
    {
     "data": {
      "text/markdown": [
       "This dataset contains derived variables relating to the cohort child including ethnic group categories, scores for the Parent-reported Child SDQ, Pianta child-parent relationship scale, and Child Social Behaviour Questionnaire scales. "
      ],
      "text/plain": [
       "<IPython.core.display.Markdown object>"
      ]
     },
     "metadata": {},
     "output_type": "display_data"
    }
   ],
   "source": [
    "ds.summary()"
   ]
  },
  {
   "cell_type": "code",
   "execution_count": 3,
   "id": "7fce5744",
   "metadata": {
    "execution": {
     "iopub.execute_input": "2025-07-18T09:49:05.653349Z",
     "iopub.status.busy": "2025-07-18T09:49:05.653349Z",
     "iopub.status.idle": "2025-07-18T09:49:06.791207Z",
     "shell.execute_reply": "2025-07-18T09:49:06.788688Z"
    },
    "tags": [
     "remove-input"
    ]
   },
   "outputs": [
    {
     "data": {
      "text/html": [
       "<style type=\"text/css\">\n",
       "#T_c83a5 th {\n",
       "  text-align: left;\n",
       "}\n",
       "#T_c83a5_row0_col0, #T_c83a5_row0_col1, #T_c83a5_row1_col0, #T_c83a5_row1_col1, #T_c83a5_row2_col0, #T_c83a5_row2_col1, #T_c83a5_row3_col0, #T_c83a5_row3_col1, #T_c83a5_row4_col0, #T_c83a5_row4_col1, #T_c83a5_row5_col0, #T_c83a5_row5_col1, #T_c83a5_row6_col0, #T_c83a5_row6_col1, #T_c83a5_row7_col0, #T_c83a5_row7_col1, #T_c83a5_row8_col0, #T_c83a5_row8_col1, #T_c83a5_row9_col0, #T_c83a5_row9_col1, #T_c83a5_row10_col0, #T_c83a5_row10_col1, #T_c83a5_row11_col0, #T_c83a5_row11_col1, #T_c83a5_row12_col0, #T_c83a5_row12_col1 {\n",
       "  text-align: left;\n",
       "}\n",
       "</style>\n",
       "<table id=\"T_c83a5\" style=\"font-size: 14px\">\n",
       "  <thead>\n",
       "    <tr>\n",
       "      <th id=\"T_c83a5_level0_col0\" class=\"col_heading level0 col0\" >Dataset Descriptor</th>\n",
       "      <th id=\"T_c83a5_level0_col1\" class=\"col_heading level0 col1\" >Dataset-specific Information</th>\n",
       "    </tr>\n",
       "  </thead>\n",
       "  <tbody>\n",
       "    <tr>\n",
       "      <td id=\"T_c83a5_row0_col0\" class=\"data row0 col0\" >Name of Dataset in TRE</td>\n",
       "      <td id=\"T_c83a5_row0_col1\" class=\"data row0 col1\" >MCS_mcs2_cm_derived</td>\n",
       "    </tr>\n",
       "    <tr>\n",
       "      <td id=\"T_c83a5_row1_col0\" class=\"data row1 col0\" >Citation (APA)</td>\n",
       "      <td id=\"T_c83a5_row1_col1\" class=\"data row1 col1\" >University College London, UCL Social Research Institute, Centre for Longitudinal Studies. (2021). <i>Millennium Cohort Study (MCS): MCS2 Cohort Member Derived.</i> UK Longitudinal Linkage Collaboration (UK LLC).  <a href=\"https://doi.org/10.83126/ukllc-dataset-00250-01\" rel=\"noopener noreferrer\" target=\"_blank\">https://doi.org/10.83126/ukllc-dataset-00250-01</a></td>\n",
       "    </tr>\n",
       "    <tr>\n",
       "      <td id=\"T_c83a5_row2_col0\" class=\"data row2 col0\" >Download Citation</td>\n",
       "      <td id=\"T_c83a5_row2_col1\" class=\"data row2 col1\" > <a href=\"https://api.test.datacite.org/application/vnd.citationstyles.csl+json/10.83126/ukllc-dataset-00250-01\" rel=\"noopener noreferrer\" target=\"_blank\">Citeproc JSON</a>&nbsp;&nbsp;&nbsp;&nbsp; <a href=\"https://api.test.datacite.org/application/x-bibtex/10.83126/ukllc-dataset-00250-01\" rel=\"noopener noreferrer\" target=\"_blank\">BibTeX</a>&nbsp;&nbsp;&nbsp;&nbsp; <a href=\"https://api.test.datacite.org/application/x-research-info-systems/10.83126/ukllc-dataset-00250-01\" rel=\"noopener noreferrer\" target=\"_blank\">RIS</a></td>\n",
       "    </tr>\n",
       "    <tr>\n",
       "      <td id=\"T_c83a5_row3_col0\" class=\"data row3 col0\" >Series</td>\n",
       "      <td id=\"T_c83a5_row3_col1\" class=\"data row3 col1\" > <a href=\"https://guidebook.ukllc.ac.uk/docs/lps/lps%20profiles/MCS\">Millennium Cohort Study (MCS)</a></td>\n",
       "    </tr>\n",
       "    <tr>\n",
       "      <td id=\"T_c83a5_row4_col0\" class=\"data row4 col0\" >Owner</td>\n",
       "      <td id=\"T_c83a5_row4_col1\" class=\"data row4 col1\" >UCL</td>\n",
       "    </tr>\n",
       "    <tr>\n",
       "      <td id=\"T_c83a5_row5_col0\" class=\"data row5 col0\" >Temporal Coverage</td>\n",
       "      <td id=\"T_c83a5_row5_col1\" class=\"data row5 col1\" >09/2003 - 04/2005</td>\n",
       "    </tr>\n",
       "    <tr>\n",
       "      <td id=\"T_c83a5_row6_col0\" class=\"data row6 col0\" >Keywords</td>\n",
       "      <td id=\"T_c83a5_row6_col1\" class=\"data row6 col1\" >Family Life,Health,employment,attitudes,Social mobility</td>\n",
       "    </tr>\n",
       "    <tr>\n",
       "      <td id=\"T_c83a5_row7_col0\" class=\"data row7 col0\" >Participants Invited</td>\n",
       "      <td id=\"T_c83a5_row7_col1\" class=\"data row7 col1\" >15590</td>\n",
       "    </tr>\n",
       "    <tr>\n",
       "      <td id=\"T_c83a5_row8_col0\" class=\"data row8 col0\" >Participant Count</td>\n",
       "      <td id=\"T_c83a5_row8_col1\" class=\"data row8 col1\" >8867</td>\n",
       "    </tr>\n",
       "    <tr>\n",
       "      <td id=\"T_c83a5_row9_col0\" class=\"data row9 col0\" >Number of variables</td>\n",
       "      <td id=\"T_c83a5_row9_col1\" class=\"data row9 col1\" >31</td>\n",
       "    </tr>\n",
       "    <tr>\n",
       "      <td id=\"T_c83a5_row10_col0\" class=\"data row10 col0\" >Number of observations</td>\n",
       "      <td id=\"T_c83a5_row10_col1\" class=\"data row10 col1\" >15778</td>\n",
       "    </tr>\n",
       "    <tr>\n",
       "      <td id=\"T_c83a5_row11_col0\" class=\"data row11 col0\" >Specific Restrictions to Data Use</td>\n",
       "      <td id=\"T_c83a5_row11_col1\" class=\"data row11 col1\" >None</td>\n",
       "    </tr>\n",
       "    <tr>\n",
       "      <td id=\"T_c83a5_row12_col0\" class=\"data row12 col0\" >Build a Data Request</td>\n",
       "      <td id=\"T_c83a5_row12_col1\" class=\"data row12 col1\" > <a href=\"https://explore.ukllc.ac.uk/\" rel=\"noopener noreferrer\" target=\"_blank\">https://explore.ukllc.ac.uk/</a></td>\n",
       "    </tr>\n",
       "  </tbody>\n",
       "</table>\n"
      ],
      "text/plain": [
       "<pandas.io.formats.style.Styler at 0x2065cfb05c0>"
      ]
     },
     "execution_count": 3,
     "metadata": {},
     "output_type": "execute_result"
    }
   ],
   "source": [
    "ds.info_table()"
   ]
  },
  {
   "cell_type": "markdown",
   "id": "8c5e68ef",
   "metadata": {},
   "source": [
    "## 2. Version History"
   ]
  },
  {
   "cell_type": "code",
   "execution_count": 4,
   "id": "1c8217e9",
   "metadata": {
    "execution": {
     "iopub.execute_input": "2025-07-18T09:49:06.797203Z",
     "iopub.status.busy": "2025-07-18T09:49:06.796203Z",
     "iopub.status.idle": "2025-07-18T09:49:09.083367Z",
     "shell.execute_reply": "2025-07-18T09:49:09.080361Z"
    },
    "tags": [
     "remove-input"
    ]
   },
   "outputs": [
    {
     "data": {
      "text/html": [
       "<style type=\"text/css\">\n",
       "#T_ad281 th {\n",
       "  text-align: left;\n",
       "}\n",
       "#T_ad281_row0_col0, #T_ad281_row0_col1, #T_ad281_row1_col0, #T_ad281_row1_col1, #T_ad281_row2_col0, #T_ad281_row2_col1, #T_ad281_row3_col0, #T_ad281_row3_col1, #T_ad281_row4_col0, #T_ad281_row4_col1 {\n",
       "  text-align: left;\n",
       "}\n",
       "</style>\n",
       "<table id=\"T_ad281\" style=\"font-size: 14px\">\n",
       "  <thead>\n",
       "    <tr>\n",
       "      <th id=\"T_ad281_level0_col0\" class=\"col_heading level0 col0\" >Version</th>\n",
       "      <th id=\"T_ad281_level0_col1\" class=\"col_heading level0 col1\" >1</th>\n",
       "    </tr>\n",
       "  </thead>\n",
       "  <tbody>\n",
       "    <tr>\n",
       "      <td id=\"T_ad281_row0_col0\" class=\"data row0 col0\" >Version Date</td>\n",
       "      <td id=\"T_ad281_row0_col1\" class=\"data row0 col1\" >01 Nov 2021</td>\n",
       "    </tr>\n",
       "    <tr>\n",
       "      <td id=\"T_ad281_row1_col0\" class=\"data row1 col0\" >Number of Variables</td>\n",
       "      <td id=\"T_ad281_row1_col1\" class=\"data row1 col1\" >31</td>\n",
       "    </tr>\n",
       "    <tr>\n",
       "      <td id=\"T_ad281_row2_col0\" class=\"data row2 col0\" >Number of Observations</td>\n",
       "      <td id=\"T_ad281_row2_col1\" class=\"data row2 col1\" >15778</td>\n",
       "    </tr>\n",
       "    <tr>\n",
       "      <td id=\"T_ad281_row3_col0\" class=\"data row3 col0\" >DOI</td>\n",
       "      <td id=\"T_ad281_row3_col1\" class=\"data row3 col1\" > <a href=\"https://doi.org/10.83126/ukllc-dataset-00250-01\" rel=\"noopener noreferrer\" target=\"_blank\">10.83126/ukllc-dataset-00250-01</a></td>\n",
       "    </tr>\n",
       "    <tr>\n",
       "      <td id=\"T_ad281_row4_col0\" class=\"data row4 col0\" >Change Log</td>\n",
       "      <td id=\"T_ad281_row4_col1\" class=\"data row4 col1\" > <a href=\"https://api.test.datacite.org/dois/10.83126/ukllc-dataset-00250-01/activities\" rel=\"noopener noreferrer\" target=\"_blank\">10.83126/ukllc-dataset-00250-01/activities</a></td>\n",
       "    </tr>\n",
       "  </tbody>\n",
       "</table>\n"
      ],
      "text/plain": [
       "<pandas.io.formats.style.Styler at 0x206628e3ec0>"
      ]
     },
     "execution_count": 4,
     "metadata": {},
     "output_type": "execute_result"
    }
   ],
   "source": [
    "ds.version_history()"
   ]
  },
  {
   "cell_type": "markdown",
   "id": "b39ff308",
   "metadata": {},
   "source": [
    "## 3. Documentation"
   ]
  },
  {
   "cell_type": "code",
   "execution_count": 5,
   "id": "ef277a4d",
   "metadata": {
    "execution": {
     "iopub.execute_input": "2025-07-18T09:49:09.090368Z",
     "iopub.status.busy": "2025-07-18T09:49:09.089371Z",
     "iopub.status.idle": "2025-07-18T09:49:09.099367Z",
     "shell.execute_reply": "2025-07-18T09:49:09.099367Z"
    },
    "tags": [
     "remove-input"
    ]
   },
   "outputs": [
    {
     "data": {
      "text/markdown": [
       "We are currently building a documentation storage system which will host useful documents related to datasets and data owners. We will surface these documents on Guidebook."
      ],
      "text/plain": [
       "<IPython.core.display.Markdown object>"
      ]
     },
     "metadata": {},
     "output_type": "display_data"
    }
   ],
   "source": [
    "ds.documentation()"
   ]
  },
  {
   "cell_type": "markdown",
   "id": "c48bb305",
   "metadata": {},
   "source": [
    "## 4. Useful Syntax"
   ]
  },
  {
   "cell_type": "code",
   "execution_count": 6,
   "id": "953486af",
   "metadata": {
    "execution": {
     "iopub.execute_input": "2025-07-18T09:49:09.106810Z",
     "iopub.status.busy": "2025-07-18T09:49:09.105810Z",
     "iopub.status.idle": "2025-07-18T09:49:09.114999Z",
     "shell.execute_reply": "2025-07-18T09:49:09.113991Z"
    },
    "tags": [
     "remove-input"
    ]
   },
   "outputs": [
    {
     "data": {
      "text/markdown": [
       "Below we will include syntax that may be helpful to other researchers in the UK LLC TRE. For longer scripts, we will include a snippet of the code plus a link to Git where you can find the full scripts."
      ],
      "text/plain": [
       "<IPython.core.display.Markdown object>"
      ]
     },
     "metadata": {},
     "output_type": "display_data"
    }
   ],
   "source": [
    "ds.useful_syntax()"
   ]
  }
 ],
 "metadata": {
  "language_info": {
   "codemirror_mode": {
    "name": "ipython",
    "version": 3
   },
   "file_extension": ".py",
   "mimetype": "text/x-python",
   "name": "python",
   "nbconvert_exporter": "python",
   "pygments_lexer": "ipython3",
   "version": "3.12.7"
  }
 },
 "nbformat": 4,
 "nbformat_minor": 5
}
