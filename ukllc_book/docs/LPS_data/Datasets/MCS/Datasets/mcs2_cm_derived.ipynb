{
 "cells": [
  {
   "cell_type": "markdown",
   "id": "b4af104f",
   "metadata": {},
   "source": [
    "# MCS2 Cohort Member Derived (MCS)"
   ]
  },
  {
   "cell_type": "code",
   "execution_count": 1,
   "id": "ac1775d4",
   "metadata": {
    "execution": {
     "iopub.execute_input": "2025-07-28T19:18:17.873399Z",
     "iopub.status.busy": "2025-07-28T19:18:17.872264Z",
     "iopub.status.idle": "2025-07-28T19:18:30.560921Z",
     "shell.execute_reply": "2025-07-28T19:18:30.557371Z"
    },
    "tags": [
     "remove-input"
    ]
   },
   "outputs": [
    {
     "data": {
      "text/markdown": [
       ">Last modified: 28 Jul 2025"
      ],
      "text/plain": [
       "<IPython.core.display.Markdown object>"
      ]
     },
     "metadata": {},
     "output_type": "display_data"
    }
   ],
   "source": [
    "\n",
    "import sys\n",
    "import os\n",
    "sys.path.append(os.path.abspath('../../../../scripts/'))\n",
    "from data_doc_helper import LPSDataSet as DS, last_modified\n",
    "API_KEY = os.environ['FASTAPI_KEY']\n",
    "ds = DS(\"MCS\", \"mcs2_cm_derived\")\n",
    "last_modified()\n"
   ]
  },
  {
   "cell_type": "markdown",
   "id": "14919f23",
   "metadata": {},
   "source": [
    "## 1. Summary"
   ]
  },
  {
   "cell_type": "code",
   "execution_count": 2,
   "id": "00671938",
   "metadata": {
    "execution": {
     "iopub.execute_input": "2025-07-28T19:18:30.569667Z",
     "iopub.status.busy": "2025-07-28T19:18:30.568491Z",
     "iopub.status.idle": "2025-07-28T19:18:30.587774Z",
     "shell.execute_reply": "2025-07-28T19:18:30.585757Z"
    },
    "tags": [
     "remove-input"
    ]
   },
   "outputs": [
    {
     "data": {
      "text/markdown": [
       "This dataset contains derived variables relating to the cohort child including ethnic group categories, scores for the Parent-reported Child SDQ, Pianta child-parent relationship scale, and Child Social Behaviour Questionnaire scales. "
      ],
      "text/plain": [
       "<IPython.core.display.Markdown object>"
      ]
     },
     "metadata": {},
     "output_type": "display_data"
    }
   ],
   "source": [
    "ds.summary()"
   ]
  },
  {
   "cell_type": "code",
   "execution_count": 3,
   "id": "7fce5744",
   "metadata": {
    "execution": {
     "iopub.execute_input": "2025-07-28T19:18:30.595866Z",
     "iopub.status.busy": "2025-07-28T19:18:30.594874Z",
     "iopub.status.idle": "2025-07-28T19:18:32.260475Z",
     "shell.execute_reply": "2025-07-28T19:18:32.258456Z"
    },
    "tags": [
     "remove-input"
    ]
   },
   "outputs": [
    {
     "data": {
      "text/html": [
       "<style type=\"text/css\">\n",
       "#T_6bbbe th {\n",
       "  text-align: left;\n",
       "}\n",
       "#T_6bbbe_row0_col0, #T_6bbbe_row0_col1, #T_6bbbe_row1_col0, #T_6bbbe_row1_col1, #T_6bbbe_row2_col0, #T_6bbbe_row2_col1, #T_6bbbe_row3_col0, #T_6bbbe_row3_col1, #T_6bbbe_row4_col0, #T_6bbbe_row4_col1, #T_6bbbe_row5_col0, #T_6bbbe_row5_col1, #T_6bbbe_row6_col0, #T_6bbbe_row6_col1, #T_6bbbe_row7_col0, #T_6bbbe_row7_col1, #T_6bbbe_row8_col0, #T_6bbbe_row8_col1, #T_6bbbe_row9_col0, #T_6bbbe_row9_col1, #T_6bbbe_row10_col0, #T_6bbbe_row10_col1, #T_6bbbe_row11_col0, #T_6bbbe_row11_col1, #T_6bbbe_row12_col0, #T_6bbbe_row12_col1 {\n",
       "  text-align: left;\n",
       "}\n",
       "</style>\n",
       "<table id=\"T_6bbbe\" style=\"font-size: 14px\">\n",
       "  <thead>\n",
       "    <tr>\n",
       "      <th id=\"T_6bbbe_level0_col0\" class=\"col_heading level0 col0\" >Dataset Descriptor</th>\n",
       "      <th id=\"T_6bbbe_level0_col1\" class=\"col_heading level0 col1\" >Dataset-specific Information</th>\n",
       "    </tr>\n",
       "  </thead>\n",
       "  <tbody>\n",
       "    <tr>\n",
       "      <td id=\"T_6bbbe_row0_col0\" class=\"data row0 col0\" >Name of Dataset in TRE</td>\n",
       "      <td id=\"T_6bbbe_row0_col1\" class=\"data row0 col1\" >MCS_mcs2_cm_derived</td>\n",
       "    </tr>\n",
       "    <tr>\n",
       "      <td id=\"T_6bbbe_row1_col0\" class=\"data row1 col0\" >Citation (APA)</td>\n",
       "      <td id=\"T_6bbbe_row1_col1\" class=\"data row1 col1\" >University College London, UCL Social Research Institute, Centre for Longitudinal Studies. (2021). <i>Millennium Cohort Study (MCS): MCS2 Cohort Member Derived.</i> UK Longitudinal Linkage Collaboration (UK LLC).  <a href=\"https://doi.org/10.71760/ukllc-dataset-00171-01\" rel=\"noopener noreferrer\" target=\"_blank\">https://doi.org/10.71760/ukllc-dataset-00171-01</a></td>\n",
       "    </tr>\n",
       "    <tr>\n",
       "      <td id=\"T_6bbbe_row2_col0\" class=\"data row2 col0\" >Download Citation</td>\n",
       "      <td id=\"T_6bbbe_row2_col1\" class=\"data row2 col1\" > <a href=\"https://api.datacite.org/application/vnd.citationstyles.csl+json/10.71760/ukllc-dataset-00171-01\" rel=\"noopener noreferrer\" target=\"_blank\">Citeproc JSON</a>&nbsp;&nbsp;&nbsp;&nbsp; <a href=\"https://api.datacite.org/application/x-bibtex/10.71760/ukllc-dataset-00171-01\" rel=\"noopener noreferrer\" target=\"_blank\">BibTeX</a>&nbsp;&nbsp;&nbsp;&nbsp; <a href=\"https://api.datacite.org/application/x-research-info-systems/10.71760/ukllc-dataset-00171-01\" rel=\"noopener noreferrer\" target=\"_blank\">RIS</a></td>\n",
       "    </tr>\n",
       "    <tr>\n",
       "      <td id=\"T_6bbbe_row3_col0\" class=\"data row3 col0\" >Series</td>\n",
       "      <td id=\"T_6bbbe_row3_col1\" class=\"data row3 col1\" > <a href=\"https://guidebook.ukllc.ac.uk/docs/lps_data/lps%20profiles/MCS\">Millennium Cohort Study (MCS)</a></td>\n",
       "    </tr>\n",
       "    <tr>\n",
       "      <td id=\"T_6bbbe_row4_col0\" class=\"data row4 col0\" >Owner</td>\n",
       "      <td id=\"T_6bbbe_row4_col1\" class=\"data row4 col1\" >UCL</td>\n",
       "    </tr>\n",
       "    <tr>\n",
       "      <td id=\"T_6bbbe_row5_col0\" class=\"data row5 col0\" >Temporal Coverage</td>\n",
       "      <td id=\"T_6bbbe_row5_col1\" class=\"data row5 col1\" >09/2003 - 04/2005</td>\n",
       "    </tr>\n",
       "    <tr>\n",
       "      <td id=\"T_6bbbe_row6_col0\" class=\"data row6 col0\" >Keywords</td>\n",
       "      <td id=\"T_6bbbe_row6_col1\" class=\"data row6 col1\" >Family Life,Health,employment,attitudes,Social mobility</td>\n",
       "    </tr>\n",
       "    <tr>\n",
       "      <td id=\"T_6bbbe_row7_col0\" class=\"data row7 col0\" >Participants Invited</td>\n",
       "      <td id=\"T_6bbbe_row7_col1\" class=\"data row7 col1\" >15590</td>\n",
       "    </tr>\n",
       "    <tr>\n",
       "      <td id=\"T_6bbbe_row8_col0\" class=\"data row8 col0\" >Participant Count</td>\n",
       "      <td id=\"T_6bbbe_row8_col1\" class=\"data row8 col1\" >8867</td>\n",
       "    </tr>\n",
       "    <tr>\n",
       "      <td id=\"T_6bbbe_row9_col0\" class=\"data row9 col0\" >Number of variables</td>\n",
       "      <td id=\"T_6bbbe_row9_col1\" class=\"data row9 col1\" >31</td>\n",
       "    </tr>\n",
       "    <tr>\n",
       "      <td id=\"T_6bbbe_row10_col0\" class=\"data row10 col0\" >Number of observations</td>\n",
       "      <td id=\"T_6bbbe_row10_col1\" class=\"data row10 col1\" >15778</td>\n",
       "    </tr>\n",
       "    <tr>\n",
       "      <td id=\"T_6bbbe_row11_col0\" class=\"data row11 col0\" >Specific Restrictions to Data Use</td>\n",
       "      <td id=\"T_6bbbe_row11_col1\" class=\"data row11 col1\" >None</td>\n",
       "    </tr>\n",
       "    <tr>\n",
       "      <td id=\"T_6bbbe_row12_col0\" class=\"data row12 col0\" >Build a Data Request</td>\n",
       "      <td id=\"T_6bbbe_row12_col1\" class=\"data row12 col1\" > <a href=\"https://explore.ukllc.ac.uk/\" rel=\"noopener noreferrer\" target=\"_blank\">https://explore.ukllc.ac.uk/</a></td>\n",
       "    </tr>\n",
       "  </tbody>\n",
       "</table>\n"
      ],
      "text/plain": [
       "<pandas.io.formats.style.Styler at 0x1d38dd3e720>"
      ]
     },
     "execution_count": 3,
     "metadata": {},
     "output_type": "execute_result"
    }
   ],
   "source": [
    "ds.info_table()"
   ]
  },
  {
   "cell_type": "markdown",
   "id": "8c5e68ef",
   "metadata": {},
   "source": [
    "## 2. Version History"
   ]
  },
  {
   "cell_type": "code",
   "execution_count": 4,
   "id": "1c8217e9",
   "metadata": {
    "execution": {
     "iopub.execute_input": "2025-07-28T19:18:32.269798Z",
     "iopub.status.busy": "2025-07-28T19:18:32.268786Z",
     "iopub.status.idle": "2025-07-28T19:18:37.886519Z",
     "shell.execute_reply": "2025-07-28T19:18:37.884511Z"
    },
    "tags": [
     "remove-input"
    ]
   },
   "outputs": [
    {
     "data": {
      "text/html": [
       "<style type=\"text/css\">\n",
       "#T_8d5d6 th {\n",
       "  text-align: left;\n",
       "}\n",
       "#T_8d5d6_row0_col0, #T_8d5d6_row0_col1, #T_8d5d6_row1_col0, #T_8d5d6_row1_col1, #T_8d5d6_row2_col0, #T_8d5d6_row2_col1, #T_8d5d6_row3_col0, #T_8d5d6_row3_col1, #T_8d5d6_row4_col0, #T_8d5d6_row4_col1 {\n",
       "  text-align: left;\n",
       "}\n",
       "</style>\n",
       "<table id=\"T_8d5d6\" style=\"font-size: 14px\">\n",
       "  <thead>\n",
       "    <tr>\n",
       "      <th id=\"T_8d5d6_level0_col0\" class=\"col_heading level0 col0\" >Version</th>\n",
       "      <th id=\"T_8d5d6_level0_col1\" class=\"col_heading level0 col1\" >1</th>\n",
       "    </tr>\n",
       "  </thead>\n",
       "  <tbody>\n",
       "    <tr>\n",
       "      <td id=\"T_8d5d6_row0_col0\" class=\"data row0 col0\" >Version Date</td>\n",
       "      <td id=\"T_8d5d6_row0_col1\" class=\"data row0 col1\" >01 Nov 2021</td>\n",
       "    </tr>\n",
       "    <tr>\n",
       "      <td id=\"T_8d5d6_row1_col0\" class=\"data row1 col0\" >Number of Variables</td>\n",
       "      <td id=\"T_8d5d6_row1_col1\" class=\"data row1 col1\" >31</td>\n",
       "    </tr>\n",
       "    <tr>\n",
       "      <td id=\"T_8d5d6_row2_col0\" class=\"data row2 col0\" >Number of Observations</td>\n",
       "      <td id=\"T_8d5d6_row2_col1\" class=\"data row2 col1\" >15778</td>\n",
       "    </tr>\n",
       "    <tr>\n",
       "      <td id=\"T_8d5d6_row3_col0\" class=\"data row3 col0\" >DOI</td>\n",
       "      <td id=\"T_8d5d6_row3_col1\" class=\"data row3 col1\" > <a href=\"https://doi.org/10.71760/ukllc-dataset-00171-01\" rel=\"noopener noreferrer\" target=\"_blank\">10.71760/ukllc-dataset-00171-01</a></td>\n",
       "    </tr>\n",
       "    <tr>\n",
       "      <td id=\"T_8d5d6_row4_col0\" class=\"data row4 col0\" >Change Log</td>\n",
       "      <td id=\"T_8d5d6_row4_col1\" class=\"data row4 col1\" > <a href=\"https://api.test.datacite.org/dois/10.71760/ukllc-dataset-00171-01/activities\" rel=\"noopener noreferrer\" target=\"_blank\">10.71760/ukllc-dataset-00171-01/activities</a></td>\n",
       "    </tr>\n",
       "  </tbody>\n",
       "</table>\n"
      ],
      "text/plain": [
       "<pandas.io.formats.style.Styler at 0x1d389e10b30>"
      ]
     },
     "execution_count": 4,
     "metadata": {},
     "output_type": "execute_result"
    }
   ],
   "source": [
    "ds.version_history()"
   ]
  },
  {
   "cell_type": "markdown",
   "id": "b39ff308",
   "metadata": {},
   "source": [
    "## 3. Documentation"
   ]
  },
  {
   "cell_type": "code",
   "execution_count": 5,
   "id": "ef277a4d",
   "metadata": {
    "execution": {
     "iopub.execute_input": "2025-07-28T19:18:37.895278Z",
     "iopub.status.busy": "2025-07-28T19:18:37.894281Z",
     "iopub.status.idle": "2025-07-28T19:18:37.906659Z",
     "shell.execute_reply": "2025-07-28T19:18:37.904640Z"
    },
    "tags": [
     "remove-input"
    ]
   },
   "outputs": [
    {
     "data": {
      "text/markdown": [
       "We are currently building a documentation storage system which will host useful documents related to datasets and data owners. We will surface these documents on Guidebook."
      ],
      "text/plain": [
       "<IPython.core.display.Markdown object>"
      ]
     },
     "metadata": {},
     "output_type": "display_data"
    }
   ],
   "source": [
    "ds.documentation()"
   ]
  },
  {
   "cell_type": "markdown",
   "id": "c48bb305",
   "metadata": {},
   "source": [
    "## 4. Useful Syntax"
   ]
  },
  {
   "cell_type": "code",
   "execution_count": 6,
   "id": "953486af",
   "metadata": {
    "execution": {
     "iopub.execute_input": "2025-07-28T19:18:37.914399Z",
     "iopub.status.busy": "2025-07-28T19:18:37.913402Z",
     "iopub.status.idle": "2025-07-28T19:18:37.925946Z",
     "shell.execute_reply": "2025-07-28T19:18:37.924399Z"
    },
    "tags": [
     "remove-input"
    ]
   },
   "outputs": [
    {
     "data": {
      "text/markdown": [
       "Below we will include syntax that may be helpful to other researchers in the UK LLC TRE. For longer scripts, we will include a snippet of the code plus a link to Git where you can find the full scripts."
      ],
      "text/plain": [
       "<IPython.core.display.Markdown object>"
      ]
     },
     "metadata": {},
     "output_type": "display_data"
    }
   ],
   "source": [
    "ds.useful_syntax()"
   ]
  }
 ],
 "metadata": {
  "language_info": {
   "codemirror_mode": {
    "name": "ipython",
    "version": 3
   },
   "file_extension": ".py",
   "mimetype": "text/x-python",
   "name": "python",
   "nbconvert_exporter": "python",
   "pygments_lexer": "ipython3",
   "version": "3.12.7"
  }
 },
 "nbformat": 4,
 "nbformat_minor": 5
}
