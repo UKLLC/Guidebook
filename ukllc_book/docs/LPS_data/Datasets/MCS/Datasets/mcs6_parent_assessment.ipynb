{
 "cells": [
  {
   "cell_type": "markdown",
   "id": "124443c6",
   "metadata": {},
   "source": [
    "# MCS6 Parent Assessment (MCS)"
   ]
  },
  {
   "cell_type": "code",
   "execution_count": 1,
   "id": "3cde18a8",
   "metadata": {
    "execution": {
     "iopub.execute_input": "2025-07-18T10:00:07.029863Z",
     "iopub.status.busy": "2025-07-18T10:00:07.029863Z",
     "iopub.status.idle": "2025-07-18T10:00:13.216019Z",
     "shell.execute_reply": "2025-07-18T10:00:13.213996Z"
    },
    "tags": [
     "remove-input"
    ]
   },
   "outputs": [
    {
     "data": {
      "text/markdown": [
       ">Last modified: 18 Jul 2025"
      ],
      "text/plain": [
       "<IPython.core.display.Markdown object>"
      ]
     },
     "metadata": {},
     "output_type": "display_data"
    }
   ],
   "source": [
    "\n",
    "import sys\n",
    "import os\n",
    "sys.path.append(os.path.abspath('../../../../scripts/'))\n",
    "from data_doc_helper import LPSDataSet as DS, last_modified\n",
    "API_KEY = os.environ['FASTAPI_KEY']\n",
    "ds = DS(\"MCS\", \"mcs6_parent_assessment\")\n",
    "last_modified()\n"
   ]
  },
  {
   "cell_type": "markdown",
   "id": "4ee4cc45",
   "metadata": {},
   "source": [
    "## 1. Summary"
   ]
  },
  {
   "cell_type": "code",
   "execution_count": 2,
   "id": "758741aa",
   "metadata": {
    "execution": {
     "iopub.execute_input": "2025-07-18T10:00:13.223011Z",
     "iopub.status.busy": "2025-07-18T10:00:13.222010Z",
     "iopub.status.idle": "2025-07-18T10:00:13.232254Z",
     "shell.execute_reply": "2025-07-18T10:00:13.231246Z"
    },
    "tags": [
     "remove-input"
    ]
   },
   "outputs": [
    {
     "data": {
      "text/markdown": [
       "This dataset contains responses and scores of the cognitive test (Word Activity) carried out by parent respondents at sweep 6, as well as interviewer observations relating to any circumstances that may have affected the test. "
      ],
      "text/plain": [
       "<IPython.core.display.Markdown object>"
      ]
     },
     "metadata": {},
     "output_type": "display_data"
    }
   ],
   "source": [
    "ds.summary()"
   ]
  },
  {
   "cell_type": "code",
   "execution_count": 3,
   "id": "c801ea91",
   "metadata": {
    "execution": {
     "iopub.execute_input": "2025-07-18T10:00:13.238764Z",
     "iopub.status.busy": "2025-07-18T10:00:13.238764Z",
     "iopub.status.idle": "2025-07-18T10:00:14.551301Z",
     "shell.execute_reply": "2025-07-18T10:00:14.549492Z"
    },
    "tags": [
     "remove-input"
    ]
   },
   "outputs": [
    {
     "data": {
      "text/html": [
       "<style type=\"text/css\">\n",
       "#T_6a109 th {\n",
       "  text-align: left;\n",
       "}\n",
       "#T_6a109_row0_col0, #T_6a109_row0_col1, #T_6a109_row1_col0, #T_6a109_row1_col1, #T_6a109_row2_col0, #T_6a109_row2_col1, #T_6a109_row3_col0, #T_6a109_row3_col1, #T_6a109_row4_col0, #T_6a109_row4_col1, #T_6a109_row5_col0, #T_6a109_row5_col1, #T_6a109_row6_col0, #T_6a109_row6_col1, #T_6a109_row7_col0, #T_6a109_row7_col1, #T_6a109_row8_col0, #T_6a109_row8_col1, #T_6a109_row9_col0, #T_6a109_row9_col1, #T_6a109_row10_col0, #T_6a109_row10_col1, #T_6a109_row11_col0, #T_6a109_row11_col1, #T_6a109_row12_col0, #T_6a109_row12_col1 {\n",
       "  text-align: left;\n",
       "}\n",
       "</style>\n",
       "<table id=\"T_6a109\" style=\"font-size: 14px\">\n",
       "  <thead>\n",
       "    <tr>\n",
       "      <th id=\"T_6a109_level0_col0\" class=\"col_heading level0 col0\" >Dataset Descriptor</th>\n",
       "      <th id=\"T_6a109_level0_col1\" class=\"col_heading level0 col1\" >Dataset-specific Information</th>\n",
       "    </tr>\n",
       "  </thead>\n",
       "  <tbody>\n",
       "    <tr>\n",
       "      <td id=\"T_6a109_row0_col0\" class=\"data row0 col0\" >Name of Dataset in TRE</td>\n",
       "      <td id=\"T_6a109_row0_col1\" class=\"data row0 col1\" >MCS_mcs6_parent_assessment</td>\n",
       "    </tr>\n",
       "    <tr>\n",
       "      <td id=\"T_6a109_row1_col0\" class=\"data row1 col0\" >Citation (APA)</td>\n",
       "      <td id=\"T_6a109_row1_col1\" class=\"data row1 col1\" >University College London, UCL Social Research Institute, Centre for Longitudinal Studies. (2021). <i>Millennium Cohort Study (MCS): MCS6 Parent Assessment.</i> UK Longitudinal Linkage Collaboration (UK LLC).  <a href=\"https://doi.org/10.83126/ukllc-dataset-00296-01\" rel=\"noopener noreferrer\" target=\"_blank\">https://doi.org/10.83126/ukllc-dataset-00296-01</a></td>\n",
       "    </tr>\n",
       "    <tr>\n",
       "      <td id=\"T_6a109_row2_col0\" class=\"data row2 col0\" >Download Citation</td>\n",
       "      <td id=\"T_6a109_row2_col1\" class=\"data row2 col1\" > <a href=\"https://api.test.datacite.org/application/vnd.citationstyles.csl+json/10.83126/ukllc-dataset-00296-01\" rel=\"noopener noreferrer\" target=\"_blank\">Citeproc JSON</a>&nbsp;&nbsp;&nbsp;&nbsp; <a href=\"https://api.test.datacite.org/application/x-bibtex/10.83126/ukllc-dataset-00296-01\" rel=\"noopener noreferrer\" target=\"_blank\">BibTeX</a>&nbsp;&nbsp;&nbsp;&nbsp; <a href=\"https://api.test.datacite.org/application/x-research-info-systems/10.83126/ukllc-dataset-00296-01\" rel=\"noopener noreferrer\" target=\"_blank\">RIS</a></td>\n",
       "    </tr>\n",
       "    <tr>\n",
       "      <td id=\"T_6a109_row3_col0\" class=\"data row3 col0\" >Series</td>\n",
       "      <td id=\"T_6a109_row3_col1\" class=\"data row3 col1\" > <a href=\"https://guidebook.ukllc.ac.uk/docs/lps/lps%20profiles/MCS\">Millennium Cohort Study (MCS)</a></td>\n",
       "    </tr>\n",
       "    <tr>\n",
       "      <td id=\"T_6a109_row4_col0\" class=\"data row4 col0\" >Owner</td>\n",
       "      <td id=\"T_6a109_row4_col1\" class=\"data row4 col1\" >UCL</td>\n",
       "    </tr>\n",
       "    <tr>\n",
       "      <td id=\"T_6a109_row5_col0\" class=\"data row5 col0\" >Temporal Coverage</td>\n",
       "      <td id=\"T_6a109_row5_col1\" class=\"data row5 col1\" >01/2015 - 03/2016</td>\n",
       "    </tr>\n",
       "    <tr>\n",
       "      <td id=\"T_6a109_row6_col0\" class=\"data row6 col0\" >Keywords</td>\n",
       "      <td id=\"T_6a109_row6_col1\" class=\"data row6 col1\" >Health,Education,Family life,Employment,Attitudes</td>\n",
       "    </tr>\n",
       "    <tr>\n",
       "      <td id=\"T_6a109_row7_col0\" class=\"data row7 col0\" >Participants Invited</td>\n",
       "      <td id=\"T_6a109_row7_col1\" class=\"data row7 col1\" >11726</td>\n",
       "    </tr>\n",
       "    <tr>\n",
       "      <td id=\"T_6a109_row8_col0\" class=\"data row8 col0\" >Participant Count</td>\n",
       "      <td id=\"T_6a109_row8_col1\" class=\"data row8 col1\" >14295</td>\n",
       "    </tr>\n",
       "    <tr>\n",
       "      <td id=\"T_6a109_row9_col0\" class=\"data row9 col0\" >Number of variables</td>\n",
       "      <td id=\"T_6a109_row9_col1\" class=\"data row9 col1\" >85</td>\n",
       "    </tr>\n",
       "    <tr>\n",
       "      <td id=\"T_6a109_row10_col0\" class=\"data row10 col0\" >Number of observations</td>\n",
       "      <td id=\"T_6a109_row10_col1\" class=\"data row10 col1\" >18854</td>\n",
       "    </tr>\n",
       "    <tr>\n",
       "      <td id=\"T_6a109_row11_col0\" class=\"data row11 col0\" >Specific Restrictions to Data Use</td>\n",
       "      <td id=\"T_6a109_row11_col1\" class=\"data row11 col1\" >None</td>\n",
       "    </tr>\n",
       "    <tr>\n",
       "      <td id=\"T_6a109_row12_col0\" class=\"data row12 col0\" >Build a Data Request</td>\n",
       "      <td id=\"T_6a109_row12_col1\" class=\"data row12 col1\" > <a href=\"https://explore.ukllc.ac.uk/\" rel=\"noopener noreferrer\" target=\"_blank\">https://explore.ukllc.ac.uk/</a></td>\n",
       "    </tr>\n",
       "  </tbody>\n",
       "</table>\n"
      ],
      "text/plain": [
       "<pandas.io.formats.style.Styler at 0x2244a25a8d0>"
      ]
     },
     "execution_count": 3,
     "metadata": {},
     "output_type": "execute_result"
    }
   ],
   "source": [
    "ds.info_table()"
   ]
  },
  {
   "cell_type": "markdown",
   "id": "745df660",
   "metadata": {},
   "source": [
    "## 2. Version History"
   ]
  },
  {
   "cell_type": "code",
   "execution_count": 4,
   "id": "187536a4",
   "metadata": {
    "execution": {
     "iopub.execute_input": "2025-07-18T10:00:14.559181Z",
     "iopub.status.busy": "2025-07-18T10:00:14.558319Z",
     "iopub.status.idle": "2025-07-18T10:00:17.561167Z",
     "shell.execute_reply": "2025-07-18T10:00:17.559237Z"
    },
    "tags": [
     "remove-input"
    ]
   },
   "outputs": [
    {
     "data": {
      "text/html": [
       "<style type=\"text/css\">\n",
       "#T_90a01 th {\n",
       "  text-align: left;\n",
       "}\n",
       "#T_90a01_row0_col0, #T_90a01_row0_col1, #T_90a01_row1_col0, #T_90a01_row1_col1, #T_90a01_row2_col0, #T_90a01_row2_col1, #T_90a01_row3_col0, #T_90a01_row3_col1, #T_90a01_row4_col0, #T_90a01_row4_col1 {\n",
       "  text-align: left;\n",
       "}\n",
       "</style>\n",
       "<table id=\"T_90a01\" style=\"font-size: 14px\">\n",
       "  <thead>\n",
       "    <tr>\n",
       "      <th id=\"T_90a01_level0_col0\" class=\"col_heading level0 col0\" >Version</th>\n",
       "      <th id=\"T_90a01_level0_col1\" class=\"col_heading level0 col1\" >1</th>\n",
       "    </tr>\n",
       "  </thead>\n",
       "  <tbody>\n",
       "    <tr>\n",
       "      <td id=\"T_90a01_row0_col0\" class=\"data row0 col0\" >Version Date</td>\n",
       "      <td id=\"T_90a01_row0_col1\" class=\"data row0 col1\" >01 Nov 2021</td>\n",
       "    </tr>\n",
       "    <tr>\n",
       "      <td id=\"T_90a01_row1_col0\" class=\"data row1 col0\" >Number of Variables</td>\n",
       "      <td id=\"T_90a01_row1_col1\" class=\"data row1 col1\" >85</td>\n",
       "    </tr>\n",
       "    <tr>\n",
       "      <td id=\"T_90a01_row2_col0\" class=\"data row2 col0\" >Number of Observations</td>\n",
       "      <td id=\"T_90a01_row2_col1\" class=\"data row2 col1\" >18854</td>\n",
       "    </tr>\n",
       "    <tr>\n",
       "      <td id=\"T_90a01_row3_col0\" class=\"data row3 col0\" >DOI</td>\n",
       "      <td id=\"T_90a01_row3_col1\" class=\"data row3 col1\" > <a href=\"https://doi.org/10.83126/ukllc-dataset-00296-01\" rel=\"noopener noreferrer\" target=\"_blank\">10.83126/ukllc-dataset-00296-01</a></td>\n",
       "    </tr>\n",
       "    <tr>\n",
       "      <td id=\"T_90a01_row4_col0\" class=\"data row4 col0\" >Change Log</td>\n",
       "      <td id=\"T_90a01_row4_col1\" class=\"data row4 col1\" > <a href=\"https://api.test.datacite.org/dois/10.83126/ukllc-dataset-00296-01/activities\" rel=\"noopener noreferrer\" target=\"_blank\">10.83126/ukllc-dataset-00296-01/activities</a></td>\n",
       "    </tr>\n",
       "  </tbody>\n",
       "</table>\n"
      ],
      "text/plain": [
       "<pandas.io.formats.style.Styler at 0x2244fe908f0>"
      ]
     },
     "execution_count": 4,
     "metadata": {},
     "output_type": "execute_result"
    }
   ],
   "source": [
    "ds.version_history()"
   ]
  },
  {
   "cell_type": "markdown",
   "id": "0af3b923",
   "metadata": {},
   "source": [
    "## 3. Documentation"
   ]
  },
  {
   "cell_type": "code",
   "execution_count": 5,
   "id": "97edd72f",
   "metadata": {
    "execution": {
     "iopub.execute_input": "2025-07-18T10:00:17.568180Z",
     "iopub.status.busy": "2025-07-18T10:00:17.568180Z",
     "iopub.status.idle": "2025-07-18T10:00:17.576295Z",
     "shell.execute_reply": "2025-07-18T10:00:17.576295Z"
    },
    "tags": [
     "remove-input"
    ]
   },
   "outputs": [
    {
     "data": {
      "text/markdown": [
       "We are currently building a documentation storage system which will host useful documents related to datasets and data owners. We will surface these documents on Guidebook."
      ],
      "text/plain": [
       "<IPython.core.display.Markdown object>"
      ]
     },
     "metadata": {},
     "output_type": "display_data"
    }
   ],
   "source": [
    "ds.documentation()"
   ]
  },
  {
   "cell_type": "markdown",
   "id": "7859b737",
   "metadata": {},
   "source": [
    "## 4. Useful Syntax"
   ]
  },
  {
   "cell_type": "code",
   "execution_count": 6,
   "id": "fd9e00c0",
   "metadata": {
    "execution": {
     "iopub.execute_input": "2025-07-18T10:00:17.579660Z",
     "iopub.status.busy": "2025-07-18T10:00:17.579660Z",
     "iopub.status.idle": "2025-07-18T10:00:17.586647Z",
     "shell.execute_reply": "2025-07-18T10:00:17.584993Z"
    },
    "tags": [
     "remove-input"
    ]
   },
   "outputs": [
    {
     "data": {
      "text/markdown": [
       "Below we will include syntax that may be helpful to other researchers in the UK LLC TRE. For longer scripts, we will include a snippet of the code plus a link to Git where you can find the full scripts."
      ],
      "text/plain": [
       "<IPython.core.display.Markdown object>"
      ]
     },
     "metadata": {},
     "output_type": "display_data"
    }
   ],
   "source": [
    "ds.useful_syntax()"
   ]
  }
 ],
 "metadata": {
  "language_info": {
   "codemirror_mode": {
    "name": "ipython",
    "version": 3
   },
   "file_extension": ".py",
   "mimetype": "text/x-python",
   "name": "python",
   "nbconvert_exporter": "python",
   "pygments_lexer": "ipython3",
   "version": "3.12.7"
  }
 },
 "nbformat": 4,
 "nbformat_minor": 5
}
