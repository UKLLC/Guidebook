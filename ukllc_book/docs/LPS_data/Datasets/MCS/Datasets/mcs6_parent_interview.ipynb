{
 "cells": [
  {
   "cell_type": "markdown",
   "id": "0e310a05",
   "metadata": {},
   "source": [
    "# MCS6 Parent Interview (MCS)"
   ]
  },
  {
   "cell_type": "code",
   "execution_count": 1,
   "id": "8a949023",
   "metadata": {
    "execution": {
     "iopub.execute_input": "2025-07-28T19:38:29.461643Z",
     "iopub.status.busy": "2025-07-28T19:38:29.461643Z",
     "iopub.status.idle": "2025-07-28T19:38:42.506196Z",
     "shell.execute_reply": "2025-07-28T19:38:42.503659Z"
    },
    "tags": [
     "remove-input"
    ]
   },
   "outputs": [
    {
     "data": {
      "text/markdown": [
       ">Last modified: 28 Jul 2025"
      ],
      "text/plain": [
       "<IPython.core.display.Markdown object>"
      ]
     },
     "metadata": {},
     "output_type": "display_data"
    }
   ],
   "source": [
    "\n",
    "import sys\n",
    "import os\n",
    "sys.path.append(os.path.abspath('../../../../scripts/'))\n",
    "from data_doc_helper import LPSDataSet as DS, last_modified\n",
    "API_KEY = os.environ['FASTAPI_KEY']\n",
    "ds = DS(\"MCS\", \"mcs6_parent_interview\")\n",
    "last_modified()\n"
   ]
  },
  {
   "cell_type": "markdown",
   "id": "9323a759",
   "metadata": {},
   "source": [
    "## 1. Summary"
   ]
  },
  {
   "cell_type": "code",
   "execution_count": 2,
   "id": "df6aa60d",
   "metadata": {
    "execution": {
     "iopub.execute_input": "2025-07-28T19:38:42.516359Z",
     "iopub.status.busy": "2025-07-28T19:38:42.516359Z",
     "iopub.status.idle": "2025-07-28T19:38:42.532612Z",
     "shell.execute_reply": "2025-07-28T19:38:42.529593Z"
    },
    "tags": [
     "remove-input"
    ]
   },
   "outputs": [
    {
     "data": {
      "text/markdown": [
       "This dataset contains parental responses to questions on many topics including their ethnicity, marital status, relationships, lone parenthood, pregnancy, childcare, health, height, weight, non-resident children, home,  financial support, employment and income at sweep 6"
      ],
      "text/plain": [
       "<IPython.core.display.Markdown object>"
      ]
     },
     "metadata": {},
     "output_type": "display_data"
    }
   ],
   "source": [
    "ds.summary()"
   ]
  },
  {
   "cell_type": "code",
   "execution_count": 3,
   "id": "8883de7e",
   "metadata": {
    "execution": {
     "iopub.execute_input": "2025-07-28T19:38:42.538367Z",
     "iopub.status.busy": "2025-07-28T19:38:42.538367Z",
     "iopub.status.idle": "2025-07-28T19:38:44.849564Z",
     "shell.execute_reply": "2025-07-28T19:38:44.847546Z"
    },
    "tags": [
     "remove-input"
    ]
   },
   "outputs": [
    {
     "data": {
      "text/html": [
       "<style type=\"text/css\">\n",
       "#T_8cd26 th {\n",
       "  text-align: left;\n",
       "}\n",
       "#T_8cd26_row0_col0, #T_8cd26_row0_col1, #T_8cd26_row1_col0, #T_8cd26_row1_col1, #T_8cd26_row2_col0, #T_8cd26_row2_col1, #T_8cd26_row3_col0, #T_8cd26_row3_col1, #T_8cd26_row4_col0, #T_8cd26_row4_col1, #T_8cd26_row5_col0, #T_8cd26_row5_col1, #T_8cd26_row6_col0, #T_8cd26_row6_col1, #T_8cd26_row7_col0, #T_8cd26_row7_col1, #T_8cd26_row8_col0, #T_8cd26_row8_col1, #T_8cd26_row9_col0, #T_8cd26_row9_col1, #T_8cd26_row10_col0, #T_8cd26_row10_col1, #T_8cd26_row11_col0, #T_8cd26_row11_col1, #T_8cd26_row12_col0, #T_8cd26_row12_col1 {\n",
       "  text-align: left;\n",
       "}\n",
       "</style>\n",
       "<table id=\"T_8cd26\" style=\"font-size: 14px\">\n",
       "  <thead>\n",
       "    <tr>\n",
       "      <th id=\"T_8cd26_level0_col0\" class=\"col_heading level0 col0\" >Dataset Descriptor</th>\n",
       "      <th id=\"T_8cd26_level0_col1\" class=\"col_heading level0 col1\" >Dataset-specific Information</th>\n",
       "    </tr>\n",
       "  </thead>\n",
       "  <tbody>\n",
       "    <tr>\n",
       "      <td id=\"T_8cd26_row0_col0\" class=\"data row0 col0\" >Name of Dataset in TRE</td>\n",
       "      <td id=\"T_8cd26_row0_col1\" class=\"data row0 col1\" >MCS_mcs6_parent_interview</td>\n",
       "    </tr>\n",
       "    <tr>\n",
       "      <td id=\"T_8cd26_row1_col0\" class=\"data row1 col0\" >Citation (APA)</td>\n",
       "      <td id=\"T_8cd26_row1_col1\" class=\"data row1 col1\" >University College London, UCL Social Research Institute, Centre for Longitudinal Studies. (2021). <i>Millennium Cohort Study (MCS): MCS6 Parent Interview.</i> UK Longitudinal Linkage Collaboration (UK LLC).  <a href=\"https://doi.org/10.71760/ukllc-dataset-00220-01\" rel=\"noopener noreferrer\" target=\"_blank\">https://doi.org/10.71760/ukllc-dataset-00220-01</a></td>\n",
       "    </tr>\n",
       "    <tr>\n",
       "      <td id=\"T_8cd26_row2_col0\" class=\"data row2 col0\" >Download Citation</td>\n",
       "      <td id=\"T_8cd26_row2_col1\" class=\"data row2 col1\" > <a href=\"https://api.datacite.org/application/vnd.citationstyles.csl+json/10.71760/ukllc-dataset-00220-01\" rel=\"noopener noreferrer\" target=\"_blank\">Citeproc JSON</a>&nbsp;&nbsp;&nbsp;&nbsp; <a href=\"https://api.datacite.org/application/x-bibtex/10.71760/ukllc-dataset-00220-01\" rel=\"noopener noreferrer\" target=\"_blank\">BibTeX</a>&nbsp;&nbsp;&nbsp;&nbsp; <a href=\"https://api.datacite.org/application/x-research-info-systems/10.71760/ukllc-dataset-00220-01\" rel=\"noopener noreferrer\" target=\"_blank\">RIS</a></td>\n",
       "    </tr>\n",
       "    <tr>\n",
       "      <td id=\"T_8cd26_row3_col0\" class=\"data row3 col0\" >Series</td>\n",
       "      <td id=\"T_8cd26_row3_col1\" class=\"data row3 col1\" > <a href=\"https://guidebook.ukllc.ac.uk/docs/lps_data/lps%20profiles/MCS\">Millennium Cohort Study (MCS)</a></td>\n",
       "    </tr>\n",
       "    <tr>\n",
       "      <td id=\"T_8cd26_row4_col0\" class=\"data row4 col0\" >Owner</td>\n",
       "      <td id=\"T_8cd26_row4_col1\" class=\"data row4 col1\" >UCL</td>\n",
       "    </tr>\n",
       "    <tr>\n",
       "      <td id=\"T_8cd26_row5_col0\" class=\"data row5 col0\" >Temporal Coverage</td>\n",
       "      <td id=\"T_8cd26_row5_col1\" class=\"data row5 col1\" >01/2015 - 03/2016</td>\n",
       "    </tr>\n",
       "    <tr>\n",
       "      <td id=\"T_8cd26_row6_col0\" class=\"data row6 col0\" >Keywords</td>\n",
       "      <td id=\"T_8cd26_row6_col1\" class=\"data row6 col1\" >Health,Education,Family life,Employment,Attitudes</td>\n",
       "    </tr>\n",
       "    <tr>\n",
       "      <td id=\"T_8cd26_row7_col0\" class=\"data row7 col0\" >Participants Invited</td>\n",
       "      <td id=\"T_8cd26_row7_col1\" class=\"data row7 col1\" >11726</td>\n",
       "    </tr>\n",
       "    <tr>\n",
       "      <td id=\"T_8cd26_row8_col0\" class=\"data row8 col0\" >Participant Count</td>\n",
       "      <td id=\"T_8cd26_row8_col1\" class=\"data row8 col1\" >14295</td>\n",
       "    </tr>\n",
       "    <tr>\n",
       "      <td id=\"T_8cd26_row9_col0\" class=\"data row9 col0\" >Number of variables</td>\n",
       "      <td id=\"T_8cd26_row9_col1\" class=\"data row9 col1\" >1046</td>\n",
       "    </tr>\n",
       "    <tr>\n",
       "      <td id=\"T_8cd26_row10_col0\" class=\"data row10 col0\" >Number of observations</td>\n",
       "      <td id=\"T_8cd26_row10_col1\" class=\"data row10 col1\" >18854</td>\n",
       "    </tr>\n",
       "    <tr>\n",
       "      <td id=\"T_8cd26_row11_col0\" class=\"data row11 col0\" >Specific Restrictions to Data Use</td>\n",
       "      <td id=\"T_8cd26_row11_col1\" class=\"data row11 col1\" >None</td>\n",
       "    </tr>\n",
       "    <tr>\n",
       "      <td id=\"T_8cd26_row12_col0\" class=\"data row12 col0\" >Build a Data Request</td>\n",
       "      <td id=\"T_8cd26_row12_col1\" class=\"data row12 col1\" > <a href=\"https://explore.ukllc.ac.uk/\" rel=\"noopener noreferrer\" target=\"_blank\">https://explore.ukllc.ac.uk/</a></td>\n",
       "    </tr>\n",
       "  </tbody>\n",
       "</table>\n"
      ],
      "text/plain": [
       "<pandas.io.formats.style.Styler at 0x25461a899a0>"
      ]
     },
     "execution_count": 3,
     "metadata": {},
     "output_type": "execute_result"
    }
   ],
   "source": [
    "ds.info_table()"
   ]
  },
  {
   "cell_type": "markdown",
   "id": "954695e3",
   "metadata": {},
   "source": [
    "## 2. Version History"
   ]
  },
  {
   "cell_type": "code",
   "execution_count": 4,
   "id": "5928d61a",
   "metadata": {
    "execution": {
     "iopub.execute_input": "2025-07-28T19:38:44.857566Z",
     "iopub.status.busy": "2025-07-28T19:38:44.857566Z",
     "iopub.status.idle": "2025-07-28T19:38:50.126838Z",
     "shell.execute_reply": "2025-07-28T19:38:50.124818Z"
    },
    "tags": [
     "remove-input"
    ]
   },
   "outputs": [
    {
     "data": {
      "text/html": [
       "<style type=\"text/css\">\n",
       "#T_97348 th {\n",
       "  text-align: left;\n",
       "}\n",
       "#T_97348_row0_col0, #T_97348_row0_col1, #T_97348_row1_col0, #T_97348_row1_col1, #T_97348_row2_col0, #T_97348_row2_col1, #T_97348_row3_col0, #T_97348_row3_col1, #T_97348_row4_col0, #T_97348_row4_col1 {\n",
       "  text-align: left;\n",
       "}\n",
       "</style>\n",
       "<table id=\"T_97348\" style=\"font-size: 14px\">\n",
       "  <thead>\n",
       "    <tr>\n",
       "      <th id=\"T_97348_level0_col0\" class=\"col_heading level0 col0\" >Version</th>\n",
       "      <th id=\"T_97348_level0_col1\" class=\"col_heading level0 col1\" >1</th>\n",
       "    </tr>\n",
       "  </thead>\n",
       "  <tbody>\n",
       "    <tr>\n",
       "      <td id=\"T_97348_row0_col0\" class=\"data row0 col0\" >Version Date</td>\n",
       "      <td id=\"T_97348_row0_col1\" class=\"data row0 col1\" >01 Nov 2021</td>\n",
       "    </tr>\n",
       "    <tr>\n",
       "      <td id=\"T_97348_row1_col0\" class=\"data row1 col0\" >Number of Variables</td>\n",
       "      <td id=\"T_97348_row1_col1\" class=\"data row1 col1\" >1048</td>\n",
       "    </tr>\n",
       "    <tr>\n",
       "      <td id=\"T_97348_row2_col0\" class=\"data row2 col0\" >Number of Observations</td>\n",
       "      <td id=\"T_97348_row2_col1\" class=\"data row2 col1\" >18854</td>\n",
       "    </tr>\n",
       "    <tr>\n",
       "      <td id=\"T_97348_row3_col0\" class=\"data row3 col0\" >DOI</td>\n",
       "      <td id=\"T_97348_row3_col1\" class=\"data row3 col1\" > <a href=\"https://doi.org/10.71760/ukllc-dataset-00220-01\" rel=\"noopener noreferrer\" target=\"_blank\">10.71760/ukllc-dataset-00220-01</a></td>\n",
       "    </tr>\n",
       "    <tr>\n",
       "      <td id=\"T_97348_row4_col0\" class=\"data row4 col0\" >Change Log</td>\n",
       "      <td id=\"T_97348_row4_col1\" class=\"data row4 col1\" > <a href=\"https://api.test.datacite.org/dois/10.71760/ukllc-dataset-00220-01/activities\" rel=\"noopener noreferrer\" target=\"_blank\">10.71760/ukllc-dataset-00220-01/activities</a></td>\n",
       "    </tr>\n",
       "  </tbody>\n",
       "</table>\n"
      ],
      "text/plain": [
       "<pandas.io.formats.style.Styler at 0x25461714410>"
      ]
     },
     "execution_count": 4,
     "metadata": {},
     "output_type": "execute_result"
    }
   ],
   "source": [
    "ds.version_history()"
   ]
  },
  {
   "cell_type": "markdown",
   "id": "5fb07465",
   "metadata": {},
   "source": [
    "## 3. Documentation"
   ]
  },
  {
   "cell_type": "code",
   "execution_count": 5,
   "id": "cbb3ddc0",
   "metadata": {
    "execution": {
     "iopub.execute_input": "2025-07-28T19:38:50.136759Z",
     "iopub.status.busy": "2025-07-28T19:38:50.135761Z",
     "iopub.status.idle": "2025-07-28T19:38:50.148596Z",
     "shell.execute_reply": "2025-07-28T19:38:50.147580Z"
    },
    "tags": [
     "remove-input"
    ]
   },
   "outputs": [
    {
     "data": {
      "text/markdown": [
       "We are currently building a documentation storage system which will host useful documents related to datasets and data owners. We will surface these documents on Guidebook."
      ],
      "text/plain": [
       "<IPython.core.display.Markdown object>"
      ]
     },
     "metadata": {},
     "output_type": "display_data"
    }
   ],
   "source": [
    "ds.documentation()"
   ]
  },
  {
   "cell_type": "markdown",
   "id": "12fe0edf",
   "metadata": {},
   "source": [
    "## 4. Useful Syntax"
   ]
  },
  {
   "cell_type": "code",
   "execution_count": 6,
   "id": "88de80c1",
   "metadata": {
    "execution": {
     "iopub.execute_input": "2025-07-28T19:38:50.157541Z",
     "iopub.status.busy": "2025-07-28T19:38:50.156587Z",
     "iopub.status.idle": "2025-07-28T19:38:50.172604Z",
     "shell.execute_reply": "2025-07-28T19:38:50.171075Z"
    },
    "tags": [
     "remove-input"
    ]
   },
   "outputs": [
    {
     "data": {
      "text/markdown": [
       "Below we will include syntax that may be helpful to other researchers in the UK LLC TRE. For longer scripts, we will include a snippet of the code plus a link to Git where you can find the full scripts."
      ],
      "text/plain": [
       "<IPython.core.display.Markdown object>"
      ]
     },
     "metadata": {},
     "output_type": "display_data"
    }
   ],
   "source": [
    "ds.useful_syntax()"
   ]
  }
 ],
 "metadata": {
  "language_info": {
   "codemirror_mode": {
    "name": "ipython",
    "version": 3
   },
   "file_extension": ".py",
   "mimetype": "text/x-python",
   "name": "python",
   "nbconvert_exporter": "python",
   "pygments_lexer": "ipython3",
   "version": "3.12.7"
  }
 },
 "nbformat": 4,
 "nbformat_minor": 5
}
