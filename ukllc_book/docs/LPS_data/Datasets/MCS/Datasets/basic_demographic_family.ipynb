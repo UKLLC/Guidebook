{
 "cells": [
  {
   "cell_type": "markdown",
   "id": "16c50a06",
   "metadata": {},
   "source": [
    "# Basic demographic variables - Family household (MCS)"
   ]
  },
  {
   "cell_type": "code",
   "execution_count": 1,
   "id": "98c7a3c6",
   "metadata": {
    "execution": {
     "iopub.execute_input": "2025-07-28T19:08:50.280664Z",
     "iopub.status.busy": "2025-07-28T19:08:50.279244Z",
     "iopub.status.idle": "2025-07-28T19:09:02.965423Z",
     "shell.execute_reply": "2025-07-28T19:09:02.964403Z"
    },
    "tags": [
     "remove-input"
    ]
   },
   "outputs": [
    {
     "data": {
      "text/markdown": [
       ">Last modified: 28 Jul 2025"
      ],
      "text/plain": [
       "<IPython.core.display.Markdown object>"
      ]
     },
     "metadata": {},
     "output_type": "display_data"
    }
   ],
   "source": [
    "\n",
    "import sys\n",
    "import os\n",
    "sys.path.append(os.path.abspath('../../../../scripts/'))\n",
    "from data_doc_helper import LPSDataSet as DS, last_modified\n",
    "API_KEY = os.environ['FASTAPI_KEY']\n",
    "ds = DS(\"MCS\", \"basic_demographic_family\")\n",
    "last_modified()\n"
   ]
  },
  {
   "cell_type": "markdown",
   "id": "0c5d0dc1",
   "metadata": {},
   "source": [
    "## 1. Summary"
   ]
  },
  {
   "cell_type": "code",
   "execution_count": 2,
   "id": "3f6b7583",
   "metadata": {
    "execution": {
     "iopub.execute_input": "2025-07-28T19:09:02.975434Z",
     "iopub.status.busy": "2025-07-28T19:09:02.974418Z",
     "iopub.status.idle": "2025-07-28T19:09:02.989974Z",
     "shell.execute_reply": "2025-07-28T19:09:02.987437Z"
    },
    "tags": [
     "remove-input"
    ]
   },
   "outputs": [
    {
     "data": {
      "text/markdown": [
       "A derived dataset containing demographic variables showing household composition and number of room at sweep 7, as well as equivalised income from sweep 6 "
      ],
      "text/plain": [
       "<IPython.core.display.Markdown object>"
      ]
     },
     "metadata": {},
     "output_type": "display_data"
    }
   ],
   "source": [
    "ds.summary()"
   ]
  },
  {
   "cell_type": "code",
   "execution_count": 3,
   "id": "02d2c86e",
   "metadata": {
    "execution": {
     "iopub.execute_input": "2025-07-28T19:09:02.996990Z",
     "iopub.status.busy": "2025-07-28T19:09:02.996990Z",
     "iopub.status.idle": "2025-07-28T19:09:04.676507Z",
     "shell.execute_reply": "2025-07-28T19:09:04.674489Z"
    },
    "tags": [
     "remove-input"
    ]
   },
   "outputs": [
    {
     "data": {
      "text/html": [
       "<style type=\"text/css\">\n",
       "#T_15751 th {\n",
       "  text-align: left;\n",
       "}\n",
       "#T_15751_row0_col0, #T_15751_row0_col1, #T_15751_row1_col0, #T_15751_row1_col1, #T_15751_row2_col0, #T_15751_row2_col1, #T_15751_row3_col0, #T_15751_row3_col1, #T_15751_row4_col0, #T_15751_row4_col1, #T_15751_row5_col0, #T_15751_row5_col1, #T_15751_row6_col0, #T_15751_row6_col1, #T_15751_row7_col0, #T_15751_row7_col1, #T_15751_row8_col0, #T_15751_row8_col1, #T_15751_row9_col0, #T_15751_row9_col1, #T_15751_row10_col0, #T_15751_row10_col1, #T_15751_row11_col0, #T_15751_row11_col1, #T_15751_row12_col0, #T_15751_row12_col1 {\n",
       "  text-align: left;\n",
       "}\n",
       "</style>\n",
       "<table id=\"T_15751\" style=\"font-size: 14px\">\n",
       "  <thead>\n",
       "    <tr>\n",
       "      <th id=\"T_15751_level0_col0\" class=\"col_heading level0 col0\" >Dataset Descriptor</th>\n",
       "      <th id=\"T_15751_level0_col1\" class=\"col_heading level0 col1\" >Dataset-specific Information</th>\n",
       "    </tr>\n",
       "  </thead>\n",
       "  <tbody>\n",
       "    <tr>\n",
       "      <td id=\"T_15751_row0_col0\" class=\"data row0 col0\" >Name of Dataset in TRE</td>\n",
       "      <td id=\"T_15751_row0_col1\" class=\"data row0 col1\" >MCS_basic_demographic_family</td>\n",
       "    </tr>\n",
       "    <tr>\n",
       "      <td id=\"T_15751_row1_col0\" class=\"data row1 col0\" >Citation (APA)</td>\n",
       "      <td id=\"T_15751_row1_col1\" class=\"data row1 col1\" >University College London, UCL Social Research Institute, Centre for Longitudinal Studies. (2021). <i>Millennium Cohort Study (MCS): Basic demographic variables - Family household.</i> UK Longitudinal Linkage Collaboration (UK LLC).  <a href=\"https://doi.org/10.71760/ukllc-dataset-00159-01\" rel=\"noopener noreferrer\" target=\"_blank\">https://doi.org/10.71760/ukllc-dataset-00159-01</a></td>\n",
       "    </tr>\n",
       "    <tr>\n",
       "      <td id=\"T_15751_row2_col0\" class=\"data row2 col0\" >Download Citation</td>\n",
       "      <td id=\"T_15751_row2_col1\" class=\"data row2 col1\" > <a href=\"https://api.datacite.org/application/vnd.citationstyles.csl+json/10.71760/ukllc-dataset-00159-01\" rel=\"noopener noreferrer\" target=\"_blank\">Citeproc JSON</a>&nbsp;&nbsp;&nbsp;&nbsp; <a href=\"https://api.datacite.org/application/x-bibtex/10.71760/ukllc-dataset-00159-01\" rel=\"noopener noreferrer\" target=\"_blank\">BibTeX</a>&nbsp;&nbsp;&nbsp;&nbsp; <a href=\"https://api.datacite.org/application/x-research-info-systems/10.71760/ukllc-dataset-00159-01\" rel=\"noopener noreferrer\" target=\"_blank\">RIS</a></td>\n",
       "    </tr>\n",
       "    <tr>\n",
       "      <td id=\"T_15751_row3_col0\" class=\"data row3 col0\" >Series</td>\n",
       "      <td id=\"T_15751_row3_col1\" class=\"data row3 col1\" > <a href=\"https://guidebook.ukllc.ac.uk/docs/lps_data/lps%20profiles/MCS\">Millennium Cohort Study (MCS)</a></td>\n",
       "    </tr>\n",
       "    <tr>\n",
       "      <td id=\"T_15751_row4_col0\" class=\"data row4 col0\" >Owner</td>\n",
       "      <td id=\"T_15751_row4_col1\" class=\"data row4 col1\" >UCL</td>\n",
       "    </tr>\n",
       "    <tr>\n",
       "      <td id=\"T_15751_row5_col0\" class=\"data row5 col0\" >Temporal Coverage</td>\n",
       "      <td id=\"T_15751_row5_col1\" class=\"data row5 col1\" >01/2018 - 03/2019</td>\n",
       "    </tr>\n",
       "    <tr>\n",
       "      <td id=\"T_15751_row6_col0\" class=\"data row6 col0\" >Keywords</td>\n",
       "      <td id=\"T_15751_row6_col1\" class=\"data row6 col1\" >Demographics,Education,Employment,Income,Household,Mental Health</td>\n",
       "    </tr>\n",
       "    <tr>\n",
       "      <td id=\"T_15751_row7_col0\" class=\"data row7 col0\" >Participants Invited</td>\n",
       "      <td id=\"T_15751_row7_col1\" class=\"data row7 col1\" >18552</td>\n",
       "    </tr>\n",
       "    <tr>\n",
       "      <td id=\"T_15751_row8_col0\" class=\"data row8 col0\" >Participant Count</td>\n",
       "      <td id=\"T_15751_row8_col1\" class=\"data row8 col1\" ></td>\n",
       "    </tr>\n",
       "    <tr>\n",
       "      <td id=\"T_15751_row9_col0\" class=\"data row9 col0\" >Number of variables</td>\n",
       "      <td id=\"T_15751_row9_col1\" class=\"data row9 col1\" >9</td>\n",
       "    </tr>\n",
       "    <tr>\n",
       "      <td id=\"T_15751_row10_col0\" class=\"data row10 col0\" >Number of observations</td>\n",
       "      <td id=\"T_15751_row10_col1\" class=\"data row10 col1\" >337285</td>\n",
       "    </tr>\n",
       "    <tr>\n",
       "      <td id=\"T_15751_row11_col0\" class=\"data row11 col0\" >Specific Restrictions to Data Use</td>\n",
       "      <td id=\"T_15751_row11_col1\" class=\"data row11 col1\" >None</td>\n",
       "    </tr>\n",
       "    <tr>\n",
       "      <td id=\"T_15751_row12_col0\" class=\"data row12 col0\" >Build a Data Request</td>\n",
       "      <td id=\"T_15751_row12_col1\" class=\"data row12 col1\" > <a href=\"https://explore.ukllc.ac.uk/\" rel=\"noopener noreferrer\" target=\"_blank\">https://explore.ukllc.ac.uk/</a></td>\n",
       "    </tr>\n",
       "  </tbody>\n",
       "</table>\n"
      ],
      "text/plain": [
       "<pandas.io.formats.style.Styler at 0x192126fd5e0>"
      ]
     },
     "execution_count": 3,
     "metadata": {},
     "output_type": "execute_result"
    }
   ],
   "source": [
    "ds.info_table()"
   ]
  },
  {
   "cell_type": "markdown",
   "id": "18750234",
   "metadata": {},
   "source": [
    "## 2. Version History"
   ]
  },
  {
   "cell_type": "code",
   "execution_count": 4,
   "id": "b48c308f",
   "metadata": {
    "execution": {
     "iopub.execute_input": "2025-07-28T19:09:04.684523Z",
     "iopub.status.busy": "2025-07-28T19:09:04.684523Z",
     "iopub.status.idle": "2025-07-28T19:09:11.304845Z",
     "shell.execute_reply": "2025-07-28T19:09:11.302828Z"
    },
    "tags": [
     "remove-input"
    ]
   },
   "outputs": [
    {
     "data": {
      "text/html": [
       "<style type=\"text/css\">\n",
       "#T_9bb4d th {\n",
       "  text-align: left;\n",
       "}\n",
       "#T_9bb4d_row0_col0, #T_9bb4d_row0_col1, #T_9bb4d_row1_col0, #T_9bb4d_row1_col1, #T_9bb4d_row2_col0, #T_9bb4d_row2_col1, #T_9bb4d_row3_col0, #T_9bb4d_row3_col1, #T_9bb4d_row4_col0, #T_9bb4d_row4_col1 {\n",
       "  text-align: left;\n",
       "}\n",
       "</style>\n",
       "<table id=\"T_9bb4d\" style=\"font-size: 14px\">\n",
       "  <thead>\n",
       "    <tr>\n",
       "      <th id=\"T_9bb4d_level0_col0\" class=\"col_heading level0 col0\" >Version</th>\n",
       "      <th id=\"T_9bb4d_level0_col1\" class=\"col_heading level0 col1\" >1</th>\n",
       "    </tr>\n",
       "  </thead>\n",
       "  <tbody>\n",
       "    <tr>\n",
       "      <td id=\"T_9bb4d_row0_col0\" class=\"data row0 col0\" >Version Date</td>\n",
       "      <td id=\"T_9bb4d_row0_col1\" class=\"data row0 col1\" >01 Nov 2021</td>\n",
       "    </tr>\n",
       "    <tr>\n",
       "      <td id=\"T_9bb4d_row1_col0\" class=\"data row1 col0\" >Number of Variables</td>\n",
       "      <td id=\"T_9bb4d_row1_col1\" class=\"data row1 col1\" >9</td>\n",
       "    </tr>\n",
       "    <tr>\n",
       "      <td id=\"T_9bb4d_row2_col0\" class=\"data row2 col0\" >Number of Observations</td>\n",
       "      <td id=\"T_9bb4d_row2_col1\" class=\"data row2 col1\" >337285</td>\n",
       "    </tr>\n",
       "    <tr>\n",
       "      <td id=\"T_9bb4d_row3_col0\" class=\"data row3 col0\" >DOI</td>\n",
       "      <td id=\"T_9bb4d_row3_col1\" class=\"data row3 col1\" > <a href=\"https://doi.org/10.71760/ukllc-dataset-00159-01\" rel=\"noopener noreferrer\" target=\"_blank\">10.71760/ukllc-dataset-00159-01</a></td>\n",
       "    </tr>\n",
       "    <tr>\n",
       "      <td id=\"T_9bb4d_row4_col0\" class=\"data row4 col0\" >Change Log</td>\n",
       "      <td id=\"T_9bb4d_row4_col1\" class=\"data row4 col1\" > <a href=\"https://api.test.datacite.org/dois/10.71760/ukllc-dataset-00159-01/activities\" rel=\"noopener noreferrer\" target=\"_blank\">10.71760/ukllc-dataset-00159-01/activities</a></td>\n",
       "    </tr>\n",
       "  </tbody>\n",
       "</table>\n"
      ],
      "text/plain": [
       "<pandas.io.formats.style.Styler at 0x192141266c0>"
      ]
     },
     "execution_count": 4,
     "metadata": {},
     "output_type": "execute_result"
    }
   ],
   "source": [
    "ds.version_history()"
   ]
  },
  {
   "cell_type": "markdown",
   "id": "1fb7309f",
   "metadata": {},
   "source": [
    "## 3. Documentation"
   ]
  },
  {
   "cell_type": "code",
   "execution_count": 5,
   "id": "4a662b17",
   "metadata": {
    "execution": {
     "iopub.execute_input": "2025-07-28T19:09:11.314300Z",
     "iopub.status.busy": "2025-07-28T19:09:11.313255Z",
     "iopub.status.idle": "2025-07-28T19:09:11.325344Z",
     "shell.execute_reply": "2025-07-28T19:09:11.324327Z"
    },
    "tags": [
     "remove-input"
    ]
   },
   "outputs": [
    {
     "data": {
      "text/markdown": [
       "We are currently building a documentation storage system which will host useful documents related to datasets and data owners. We will surface these documents on Guidebook."
      ],
      "text/plain": [
       "<IPython.core.display.Markdown object>"
      ]
     },
     "metadata": {},
     "output_type": "display_data"
    }
   ],
   "source": [
    "ds.documentation()"
   ]
  },
  {
   "cell_type": "markdown",
   "id": "209a1d46",
   "metadata": {},
   "source": [
    "## 4. Useful Syntax"
   ]
  },
  {
   "cell_type": "code",
   "execution_count": 6,
   "id": "959d9f27",
   "metadata": {
    "execution": {
     "iopub.execute_input": "2025-07-28T19:09:11.334344Z",
     "iopub.status.busy": "2025-07-28T19:09:11.333343Z",
     "iopub.status.idle": "2025-07-28T19:09:11.344692Z",
     "shell.execute_reply": "2025-07-28T19:09:11.342872Z"
    },
    "tags": [
     "remove-input"
    ]
   },
   "outputs": [
    {
     "data": {
      "text/markdown": [
       "Below we will include syntax that may be helpful to other researchers in the UK LLC TRE. For longer scripts, we will include a snippet of the code plus a link to Git where you can find the full scripts."
      ],
      "text/plain": [
       "<IPython.core.display.Markdown object>"
      ]
     },
     "metadata": {},
     "output_type": "display_data"
    }
   ],
   "source": [
    "ds.useful_syntax()"
   ]
  }
 ],
 "metadata": {
  "language_info": {
   "codemirror_mode": {
    "name": "ipython",
    "version": 3
   },
   "file_extension": ".py",
   "mimetype": "text/x-python",
   "name": "python",
   "nbconvert_exporter": "python",
   "pygments_lexer": "ipython3",
   "version": "3.12.7"
  }
 },
 "nbformat": 4,
 "nbformat_minor": 5
}
