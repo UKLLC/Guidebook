{
 "cells": [
  {
   "cell_type": "markdown",
   "id": "b63c0e49",
   "metadata": {},
   "source": [
    "# COVID-19 Survey Wave 1 - MCS Parent Respondents (MCS)"
   ]
  },
  {
   "cell_type": "code",
   "execution_count": 1,
   "id": "f5ca5081",
   "metadata": {
    "execution": {
     "iopub.execute_input": "2025-07-28T19:12:07.147444Z",
     "iopub.status.busy": "2025-07-28T19:12:07.146448Z",
     "iopub.status.idle": "2025-07-28T19:12:18.865655Z",
     "shell.execute_reply": "2025-07-28T19:12:18.860553Z"
    },
    "tags": [
     "remove-input"
    ]
   },
   "outputs": [
    {
     "data": {
      "text/markdown": [
       ">Last modified: 28 Jul 2025"
      ],
      "text/plain": [
       "<IPython.core.display.Markdown object>"
      ]
     },
     "metadata": {},
     "output_type": "display_data"
    }
   ],
   "source": [
    "\n",
    "import sys\n",
    "import os\n",
    "sys.path.append(os.path.abspath('../../../../scripts/'))\n",
    "from data_doc_helper import LPSDataSet as DS, last_modified\n",
    "API_KEY = os.environ['FASTAPI_KEY']\n",
    "ds = DS(\"MCS\", \"COVID_parent_w1\")\n",
    "last_modified()\n"
   ]
  },
  {
   "cell_type": "markdown",
   "id": "0cb5caff",
   "metadata": {},
   "source": [
    "## 1. Summary"
   ]
  },
  {
   "cell_type": "code",
   "execution_count": 2,
   "id": "19caa08a",
   "metadata": {
    "execution": {
     "iopub.execute_input": "2025-07-28T19:12:18.881748Z",
     "iopub.status.busy": "2025-07-28T19:12:18.880753Z",
     "iopub.status.idle": "2025-07-28T19:12:18.894945Z",
     "shell.execute_reply": "2025-07-28T19:12:18.892887Z"
    },
    "tags": [
     "remove-input"
    ]
   },
   "outputs": [
    {
     "data": {
      "text/markdown": [
       "An online questionnaire sent to all participants. Questions cover topics of wellbeing during the first wave of the pandemic, including the impact of COVID on participants’ mental health, work and family life. This dataset is the first of 3 over the course of the pandemic and was collected between April and June 2020. It was designed to complement existing content collected during normal operations."
      ],
      "text/plain": [
       "<IPython.core.display.Markdown object>"
      ]
     },
     "metadata": {},
     "output_type": "display_data"
    }
   ],
   "source": [
    "ds.summary()"
   ]
  },
  {
   "cell_type": "code",
   "execution_count": 3,
   "id": "d6409879",
   "metadata": {
    "execution": {
     "iopub.execute_input": "2025-07-28T19:12:18.903024Z",
     "iopub.status.busy": "2025-07-28T19:12:18.902028Z",
     "iopub.status.idle": "2025-07-28T19:12:20.960095Z",
     "shell.execute_reply": "2025-07-28T19:12:20.958562Z"
    },
    "tags": [
     "remove-input"
    ]
   },
   "outputs": [
    {
     "data": {
      "text/html": [
       "<style type=\"text/css\">\n",
       "#T_c2ca4 th {\n",
       "  text-align: left;\n",
       "}\n",
       "#T_c2ca4_row0_col0, #T_c2ca4_row0_col1, #T_c2ca4_row1_col0, #T_c2ca4_row1_col1, #T_c2ca4_row2_col0, #T_c2ca4_row2_col1, #T_c2ca4_row3_col0, #T_c2ca4_row3_col1, #T_c2ca4_row4_col0, #T_c2ca4_row4_col1, #T_c2ca4_row5_col0, #T_c2ca4_row5_col1, #T_c2ca4_row6_col0, #T_c2ca4_row6_col1, #T_c2ca4_row7_col0, #T_c2ca4_row7_col1, #T_c2ca4_row8_col0, #T_c2ca4_row8_col1, #T_c2ca4_row9_col0, #T_c2ca4_row9_col1, #T_c2ca4_row10_col0, #T_c2ca4_row10_col1, #T_c2ca4_row11_col0, #T_c2ca4_row11_col1, #T_c2ca4_row12_col0, #T_c2ca4_row12_col1 {\n",
       "  text-align: left;\n",
       "}\n",
       "</style>\n",
       "<table id=\"T_c2ca4\" style=\"font-size: 14px\">\n",
       "  <thead>\n",
       "    <tr>\n",
       "      <th id=\"T_c2ca4_level0_col0\" class=\"col_heading level0 col0\" >Dataset Descriptor</th>\n",
       "      <th id=\"T_c2ca4_level0_col1\" class=\"col_heading level0 col1\" >Dataset-specific Information</th>\n",
       "    </tr>\n",
       "  </thead>\n",
       "  <tbody>\n",
       "    <tr>\n",
       "      <td id=\"T_c2ca4_row0_col0\" class=\"data row0 col0\" >Name of Dataset in TRE</td>\n",
       "      <td id=\"T_c2ca4_row0_col1\" class=\"data row0 col1\" >MCS_COVID_parent_w1</td>\n",
       "    </tr>\n",
       "    <tr>\n",
       "      <td id=\"T_c2ca4_row1_col0\" class=\"data row1 col0\" >Citation (APA)</td>\n",
       "      <td id=\"T_c2ca4_row1_col1\" class=\"data row1 col1\" >University College London, UCL Social Research Institute, Centre for Longitudinal Studies. (2021). <i>Millennium Cohort Study (MCS): COVID-19 Survey Wave 1 - MCS Parent Respondents.</i> UK Longitudinal Linkage Collaboration (UK LLC).  <a href=\"https://doi.org/10.71760/ukllc-dataset-00149-01\" rel=\"noopener noreferrer\" target=\"_blank\">https://doi.org/10.71760/ukllc-dataset-00149-01</a></td>\n",
       "    </tr>\n",
       "    <tr>\n",
       "      <td id=\"T_c2ca4_row2_col0\" class=\"data row2 col0\" >Download Citation</td>\n",
       "      <td id=\"T_c2ca4_row2_col1\" class=\"data row2 col1\" > <a href=\"https://api.datacite.org/application/vnd.citationstyles.csl+json/10.71760/ukllc-dataset-00149-01\" rel=\"noopener noreferrer\" target=\"_blank\">Citeproc JSON</a>&nbsp;&nbsp;&nbsp;&nbsp; <a href=\"https://api.datacite.org/application/x-bibtex/10.71760/ukllc-dataset-00149-01\" rel=\"noopener noreferrer\" target=\"_blank\">BibTeX</a>&nbsp;&nbsp;&nbsp;&nbsp; <a href=\"https://api.datacite.org/application/x-research-info-systems/10.71760/ukllc-dataset-00149-01\" rel=\"noopener noreferrer\" target=\"_blank\">RIS</a></td>\n",
       "    </tr>\n",
       "    <tr>\n",
       "      <td id=\"T_c2ca4_row3_col0\" class=\"data row3 col0\" >Series</td>\n",
       "      <td id=\"T_c2ca4_row3_col1\" class=\"data row3 col1\" > <a href=\"https://guidebook.ukllc.ac.uk/docs/lps_data/lps%20profiles/MCS\">Millennium Cohort Study (MCS)</a></td>\n",
       "    </tr>\n",
       "    <tr>\n",
       "      <td id=\"T_c2ca4_row4_col0\" class=\"data row4 col0\" >Owner</td>\n",
       "      <td id=\"T_c2ca4_row4_col1\" class=\"data row4 col1\" >UCL</td>\n",
       "    </tr>\n",
       "    <tr>\n",
       "      <td id=\"T_c2ca4_row5_col0\" class=\"data row5 col0\" >Temporal Coverage</td>\n",
       "      <td id=\"T_c2ca4_row5_col1\" class=\"data row5 col1\" >04/2020 - 06/2020</td>\n",
       "    </tr>\n",
       "    <tr>\n",
       "      <td id=\"T_c2ca4_row6_col0\" class=\"data row6 col0\" >Keywords</td>\n",
       "      <td id=\"T_c2ca4_row6_col1\" class=\"data row6 col1\" >COVIDW1,Education,Employment,Income,Household,Mental Health</td>\n",
       "    </tr>\n",
       "    <tr>\n",
       "      <td id=\"T_c2ca4_row7_col0\" class=\"data row7 col0\" >Participants Invited</td>\n",
       "      <td id=\"T_c2ca4_row7_col1\" class=\"data row7 col1\" >2829</td>\n",
       "    </tr>\n",
       "    <tr>\n",
       "      <td id=\"T_c2ca4_row8_col0\" class=\"data row8 col0\" >Participant Count</td>\n",
       "      <td id=\"T_c2ca4_row8_col1\" class=\"data row8 col1\" >2675</td>\n",
       "    </tr>\n",
       "    <tr>\n",
       "      <td id=\"T_c2ca4_row9_col0\" class=\"data row9 col0\" >Number of variables</td>\n",
       "      <td id=\"T_c2ca4_row9_col1\" class=\"data row9 col1\" >304</td>\n",
       "    </tr>\n",
       "    <tr>\n",
       "      <td id=\"T_c2ca4_row10_col0\" class=\"data row10 col0\" >Number of observations</td>\n",
       "      <td id=\"T_c2ca4_row10_col1\" class=\"data row10 col1\" >2829</td>\n",
       "    </tr>\n",
       "    <tr>\n",
       "      <td id=\"T_c2ca4_row11_col0\" class=\"data row11 col0\" >Specific Restrictions to Data Use</td>\n",
       "      <td id=\"T_c2ca4_row11_col1\" class=\"data row11 col1\" >None</td>\n",
       "    </tr>\n",
       "    <tr>\n",
       "      <td id=\"T_c2ca4_row12_col0\" class=\"data row12 col0\" >Build a Data Request</td>\n",
       "      <td id=\"T_c2ca4_row12_col1\" class=\"data row12 col1\" > <a href=\"https://explore.ukllc.ac.uk/\" rel=\"noopener noreferrer\" target=\"_blank\">https://explore.ukllc.ac.uk/</a></td>\n",
       "    </tr>\n",
       "  </tbody>\n",
       "</table>\n"
      ],
      "text/plain": [
       "<pandas.io.formats.style.Styler at 0x1bbb94fb8c0>"
      ]
     },
     "execution_count": 3,
     "metadata": {},
     "output_type": "execute_result"
    }
   ],
   "source": [
    "ds.info_table()"
   ]
  },
  {
   "cell_type": "markdown",
   "id": "60b493a4",
   "metadata": {},
   "source": [
    "## 2. Version History"
   ]
  },
  {
   "cell_type": "code",
   "execution_count": 4,
   "id": "4caa05e6",
   "metadata": {
    "execution": {
     "iopub.execute_input": "2025-07-28T19:12:20.969093Z",
     "iopub.status.busy": "2025-07-28T19:12:20.968093Z",
     "iopub.status.idle": "2025-07-28T19:12:26.673089Z",
     "shell.execute_reply": "2025-07-28T19:12:26.671551Z"
    },
    "tags": [
     "remove-input"
    ]
   },
   "outputs": [
    {
     "data": {
      "text/html": [
       "<style type=\"text/css\">\n",
       "#T_3b965 th {\n",
       "  text-align: left;\n",
       "}\n",
       "#T_3b965_row0_col0, #T_3b965_row0_col1, #T_3b965_row1_col0, #T_3b965_row1_col1, #T_3b965_row2_col0, #T_3b965_row2_col1, #T_3b965_row3_col0, #T_3b965_row3_col1, #T_3b965_row4_col0, #T_3b965_row4_col1 {\n",
       "  text-align: left;\n",
       "}\n",
       "</style>\n",
       "<table id=\"T_3b965\" style=\"font-size: 14px\">\n",
       "  <thead>\n",
       "    <tr>\n",
       "      <th id=\"T_3b965_level0_col0\" class=\"col_heading level0 col0\" >Version</th>\n",
       "      <th id=\"T_3b965_level0_col1\" class=\"col_heading level0 col1\" >1</th>\n",
       "    </tr>\n",
       "  </thead>\n",
       "  <tbody>\n",
       "    <tr>\n",
       "      <td id=\"T_3b965_row0_col0\" class=\"data row0 col0\" >Version Date</td>\n",
       "      <td id=\"T_3b965_row0_col1\" class=\"data row0 col1\" >01 Nov 2021</td>\n",
       "    </tr>\n",
       "    <tr>\n",
       "      <td id=\"T_3b965_row1_col0\" class=\"data row1 col0\" >Number of Variables</td>\n",
       "      <td id=\"T_3b965_row1_col1\" class=\"data row1 col1\" >304</td>\n",
       "    </tr>\n",
       "    <tr>\n",
       "      <td id=\"T_3b965_row2_col0\" class=\"data row2 col0\" >Number of Observations</td>\n",
       "      <td id=\"T_3b965_row2_col1\" class=\"data row2 col1\" >2829</td>\n",
       "    </tr>\n",
       "    <tr>\n",
       "      <td id=\"T_3b965_row3_col0\" class=\"data row3 col0\" >DOI</td>\n",
       "      <td id=\"T_3b965_row3_col1\" class=\"data row3 col1\" > <a href=\"https://doi.org/10.71760/ukllc-dataset-00149-01\" rel=\"noopener noreferrer\" target=\"_blank\">10.71760/ukllc-dataset-00149-01</a></td>\n",
       "    </tr>\n",
       "    <tr>\n",
       "      <td id=\"T_3b965_row4_col0\" class=\"data row4 col0\" >Change Log</td>\n",
       "      <td id=\"T_3b965_row4_col1\" class=\"data row4 col1\" > <a href=\"https://api.test.datacite.org/dois/10.71760/ukllc-dataset-00149-01/activities\" rel=\"noopener noreferrer\" target=\"_blank\">10.71760/ukllc-dataset-00149-01/activities</a></td>\n",
       "    </tr>\n",
       "  </tbody>\n",
       "</table>\n"
      ],
      "text/plain": [
       "<pandas.io.formats.style.Styler at 0x1bbb9b49130>"
      ]
     },
     "execution_count": 4,
     "metadata": {},
     "output_type": "execute_result"
    }
   ],
   "source": [
    "ds.version_history()"
   ]
  },
  {
   "cell_type": "markdown",
   "id": "dc73fb94",
   "metadata": {},
   "source": [
    "## 3. Documentation"
   ]
  },
  {
   "cell_type": "code",
   "execution_count": 5,
   "id": "814bb874",
   "metadata": {
    "execution": {
     "iopub.execute_input": "2025-07-28T19:12:26.682098Z",
     "iopub.status.busy": "2025-07-28T19:12:26.681095Z",
     "iopub.status.idle": "2025-07-28T19:12:26.697506Z",
     "shell.execute_reply": "2025-07-28T19:12:26.695477Z"
    },
    "tags": [
     "remove-input"
    ]
   },
   "outputs": [
    {
     "data": {
      "text/markdown": [
       "We are currently building a documentation storage system which will host useful documents related to datasets and data owners. We will surface these documents on Guidebook."
      ],
      "text/plain": [
       "<IPython.core.display.Markdown object>"
      ]
     },
     "metadata": {},
     "output_type": "display_data"
    }
   ],
   "source": [
    "ds.documentation()"
   ]
  },
  {
   "cell_type": "markdown",
   "id": "541cb1e8",
   "metadata": {},
   "source": [
    "## 4. Useful Syntax"
   ]
  },
  {
   "cell_type": "code",
   "execution_count": 6,
   "id": "699b5596",
   "metadata": {
    "execution": {
     "iopub.execute_input": "2025-07-28T19:12:26.705514Z",
     "iopub.status.busy": "2025-07-28T19:12:26.704570Z",
     "iopub.status.idle": "2025-07-28T19:12:26.716021Z",
     "shell.execute_reply": "2025-07-28T19:12:26.714495Z"
    },
    "tags": [
     "remove-input"
    ]
   },
   "outputs": [
    {
     "data": {
      "text/markdown": [
       "Below we will include syntax that may be helpful to other researchers in the UK LLC TRE. For longer scripts, we will include a snippet of the code plus a link to Git where you can find the full scripts."
      ],
      "text/plain": [
       "<IPython.core.display.Markdown object>"
      ]
     },
     "metadata": {},
     "output_type": "display_data"
    }
   ],
   "source": [
    "ds.useful_syntax()"
   ]
  }
 ],
 "metadata": {
  "language_info": {
   "codemirror_mode": {
    "name": "ipython",
    "version": 3
   },
   "file_extension": ".py",
   "mimetype": "text/x-python",
   "name": "python",
   "nbconvert_exporter": "python",
   "pygments_lexer": "ipython3",
   "version": "3.12.7"
  }
 },
 "nbformat": 4,
 "nbformat_minor": 5
}
