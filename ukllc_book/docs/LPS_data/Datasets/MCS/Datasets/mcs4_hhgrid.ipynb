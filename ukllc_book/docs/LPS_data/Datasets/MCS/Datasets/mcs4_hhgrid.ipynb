{
 "cells": [
  {
   "cell_type": "markdown",
   "id": "9f591b8c",
   "metadata": {},
   "source": [
    "# MCS4 Household Grid (MCS)"
   ]
  },
  {
   "cell_type": "code",
   "execution_count": 1,
   "id": "d7c3d94c",
   "metadata": {
    "execution": {
     "iopub.execute_input": "2025-07-18T09:55:15.649178Z",
     "iopub.status.busy": "2025-07-18T09:55:15.649178Z",
     "iopub.status.idle": "2025-07-18T09:55:23.375628Z",
     "shell.execute_reply": "2025-07-18T09:55:23.373572Z"
    },
    "tags": [
     "remove-input"
    ]
   },
   "outputs": [
    {
     "data": {
      "text/markdown": [
       ">Last modified: 18 Jul 2025"
      ],
      "text/plain": [
       "<IPython.core.display.Markdown object>"
      ]
     },
     "metadata": {},
     "output_type": "display_data"
    }
   ],
   "source": [
    "\n",
    "import sys\n",
    "import os\n",
    "sys.path.append(os.path.abspath('../../../../scripts/'))\n",
    "from data_doc_helper import LPSDataSet as DS, last_modified\n",
    "API_KEY = os.environ['FASTAPI_KEY']\n",
    "ds = DS(\"MCS\", \"mcs4_hhgrid\")\n",
    "last_modified()\n"
   ]
  },
  {
   "cell_type": "markdown",
   "id": "3b0f6b36",
   "metadata": {},
   "source": [
    "## 1. Summary"
   ]
  },
  {
   "cell_type": "code",
   "execution_count": 2,
   "id": "9c7f79a9",
   "metadata": {
    "execution": {
     "iopub.execute_input": "2025-07-18T09:55:23.381628Z",
     "iopub.status.busy": "2025-07-18T09:55:23.381628Z",
     "iopub.status.idle": "2025-07-18T09:55:23.392789Z",
     "shell.execute_reply": "2025-07-18T09:55:23.389785Z"
    },
    "tags": [
     "remove-input"
    ]
   },
   "outputs": [
    {
     "data": {
      "text/markdown": [
       "The household grid dataset provides key demographic information about the people who lived with the Cohort Member at the time of the interview. This includes variables showing whether a person was present at the interview, the relationship of each person to the Cohort Member and the relationship of each person to the others present in the household. This is particularly helpful for research on family structure and environment."
      ],
      "text/plain": [
       "<IPython.core.display.Markdown object>"
      ]
     },
     "metadata": {},
     "output_type": "display_data"
    }
   ],
   "source": [
    "ds.summary()"
   ]
  },
  {
   "cell_type": "code",
   "execution_count": 3,
   "id": "a9e19177",
   "metadata": {
    "execution": {
     "iopub.execute_input": "2025-07-18T09:55:23.397789Z",
     "iopub.status.busy": "2025-07-18T09:55:23.397789Z",
     "iopub.status.idle": "2025-07-18T09:55:24.704970Z",
     "shell.execute_reply": "2025-07-18T09:55:24.703871Z"
    },
    "tags": [
     "remove-input"
    ]
   },
   "outputs": [
    {
     "data": {
      "text/html": [
       "<style type=\"text/css\">\n",
       "#T_fbdbf th {\n",
       "  text-align: left;\n",
       "}\n",
       "#T_fbdbf_row0_col0, #T_fbdbf_row0_col1, #T_fbdbf_row1_col0, #T_fbdbf_row1_col1, #T_fbdbf_row2_col0, #T_fbdbf_row2_col1, #T_fbdbf_row3_col0, #T_fbdbf_row3_col1, #T_fbdbf_row4_col0, #T_fbdbf_row4_col1, #T_fbdbf_row5_col0, #T_fbdbf_row5_col1, #T_fbdbf_row6_col0, #T_fbdbf_row6_col1, #T_fbdbf_row7_col0, #T_fbdbf_row7_col1, #T_fbdbf_row8_col0, #T_fbdbf_row8_col1, #T_fbdbf_row9_col0, #T_fbdbf_row9_col1, #T_fbdbf_row10_col0, #T_fbdbf_row10_col1, #T_fbdbf_row11_col0, #T_fbdbf_row11_col1, #T_fbdbf_row12_col0, #T_fbdbf_row12_col1 {\n",
       "  text-align: left;\n",
       "}\n",
       "</style>\n",
       "<table id=\"T_fbdbf\" style=\"font-size: 14px\">\n",
       "  <thead>\n",
       "    <tr>\n",
       "      <th id=\"T_fbdbf_level0_col0\" class=\"col_heading level0 col0\" >Dataset Descriptor</th>\n",
       "      <th id=\"T_fbdbf_level0_col1\" class=\"col_heading level0 col1\" >Dataset-specific Information</th>\n",
       "    </tr>\n",
       "  </thead>\n",
       "  <tbody>\n",
       "    <tr>\n",
       "      <td id=\"T_fbdbf_row0_col0\" class=\"data row0 col0\" >Name of Dataset in TRE</td>\n",
       "      <td id=\"T_fbdbf_row0_col1\" class=\"data row0 col1\" >MCS_mcs4_hhgrid</td>\n",
       "    </tr>\n",
       "    <tr>\n",
       "      <td id=\"T_fbdbf_row1_col0\" class=\"data row1 col0\" >Citation (APA)</td>\n",
       "      <td id=\"T_fbdbf_row1_col1\" class=\"data row1 col1\" >University College London, UCL Social Research Institute, Centre for Longitudinal Studies. (2021). <i>Millennium Cohort Study (MCS): MCS4 Household Grid.</i> UK Longitudinal Linkage Collaboration (UK LLC).  <a href=\"https://doi.org/10.83126/ukllc-dataset-00276-01\" rel=\"noopener noreferrer\" target=\"_blank\">https://doi.org/10.83126/ukllc-dataset-00276-01</a></td>\n",
       "    </tr>\n",
       "    <tr>\n",
       "      <td id=\"T_fbdbf_row2_col0\" class=\"data row2 col0\" >Download Citation</td>\n",
       "      <td id=\"T_fbdbf_row2_col1\" class=\"data row2 col1\" > <a href=\"https://api.test.datacite.org/application/vnd.citationstyles.csl+json/10.83126/ukllc-dataset-00276-01\" rel=\"noopener noreferrer\" target=\"_blank\">Citeproc JSON</a>&nbsp;&nbsp;&nbsp;&nbsp; <a href=\"https://api.test.datacite.org/application/x-bibtex/10.83126/ukllc-dataset-00276-01\" rel=\"noopener noreferrer\" target=\"_blank\">BibTeX</a>&nbsp;&nbsp;&nbsp;&nbsp; <a href=\"https://api.test.datacite.org/application/x-research-info-systems/10.83126/ukllc-dataset-00276-01\" rel=\"noopener noreferrer\" target=\"_blank\">RIS</a></td>\n",
       "    </tr>\n",
       "    <tr>\n",
       "      <td id=\"T_fbdbf_row3_col0\" class=\"data row3 col0\" >Series</td>\n",
       "      <td id=\"T_fbdbf_row3_col1\" class=\"data row3 col1\" > <a href=\"https://guidebook.ukllc.ac.uk/docs/lps/lps%20profiles/MCS\">Millennium Cohort Study (MCS)</a></td>\n",
       "    </tr>\n",
       "    <tr>\n",
       "      <td id=\"T_fbdbf_row4_col0\" class=\"data row4 col0\" >Owner</td>\n",
       "      <td id=\"T_fbdbf_row4_col1\" class=\"data row4 col1\" >UCL</td>\n",
       "    </tr>\n",
       "    <tr>\n",
       "      <td id=\"T_fbdbf_row5_col0\" class=\"data row5 col0\" >Temporal Coverage</td>\n",
       "      <td id=\"T_fbdbf_row5_col1\" class=\"data row5 col1\" >01/2008 - 12/2008</td>\n",
       "    </tr>\n",
       "    <tr>\n",
       "      <td id=\"T_fbdbf_row6_col0\" class=\"data row6 col0\" >Keywords</td>\n",
       "      <td id=\"T_fbdbf_row6_col1\" class=\"data row6 col1\" >Family Life,Health,employment,attitudes,Social mobility</td>\n",
       "    </tr>\n",
       "    <tr>\n",
       "      <td id=\"T_fbdbf_row7_col0\" class=\"data row7 col0\" >Participants Invited</td>\n",
       "      <td id=\"T_fbdbf_row7_col1\" class=\"data row7 col1\" >13857</td>\n",
       "    </tr>\n",
       "    <tr>\n",
       "      <td id=\"T_fbdbf_row8_col0\" class=\"data row8 col0\" >Participant Count</td>\n",
       "      <td id=\"T_fbdbf_row8_col1\" class=\"data row8 col1\" >26962</td>\n",
       "    </tr>\n",
       "    <tr>\n",
       "      <td id=\"T_fbdbf_row9_col0\" class=\"data row9 col0\" >Number of variables</td>\n",
       "      <td id=\"T_fbdbf_row9_col1\" class=\"data row9 col1\" >63</td>\n",
       "    </tr>\n",
       "    <tr>\n",
       "      <td id=\"T_fbdbf_row10_col0\" class=\"data row10 col0\" >Number of observations</td>\n",
       "      <td id=\"T_fbdbf_row10_col1\" class=\"data row10 col1\" >41344</td>\n",
       "    </tr>\n",
       "    <tr>\n",
       "      <td id=\"T_fbdbf_row11_col0\" class=\"data row11 col0\" >Specific Restrictions to Data Use</td>\n",
       "      <td id=\"T_fbdbf_row11_col1\" class=\"data row11 col1\" >None</td>\n",
       "    </tr>\n",
       "    <tr>\n",
       "      <td id=\"T_fbdbf_row12_col0\" class=\"data row12 col0\" >Build a Data Request</td>\n",
       "      <td id=\"T_fbdbf_row12_col1\" class=\"data row12 col1\" > <a href=\"https://explore.ukllc.ac.uk/\" rel=\"noopener noreferrer\" target=\"_blank\">https://explore.ukllc.ac.uk/</a></td>\n",
       "    </tr>\n",
       "  </tbody>\n",
       "</table>\n"
      ],
      "text/plain": [
       "<pandas.io.formats.style.Styler at 0x16636f8fe60>"
      ]
     },
     "execution_count": 3,
     "metadata": {},
     "output_type": "execute_result"
    }
   ],
   "source": [
    "ds.info_table()"
   ]
  },
  {
   "cell_type": "markdown",
   "id": "d628ed85",
   "metadata": {},
   "source": [
    "## 2. Version History"
   ]
  },
  {
   "cell_type": "code",
   "execution_count": 4,
   "id": "7ab44d8f",
   "metadata": {
    "execution": {
     "iopub.execute_input": "2025-07-18T09:55:24.710971Z",
     "iopub.status.busy": "2025-07-18T09:55:24.709968Z",
     "iopub.status.idle": "2025-07-18T09:55:27.033591Z",
     "shell.execute_reply": "2025-07-18T09:55:27.032587Z"
    },
    "tags": [
     "remove-input"
    ]
   },
   "outputs": [
    {
     "data": {
      "text/html": [
       "<style type=\"text/css\">\n",
       "#T_c878b th {\n",
       "  text-align: left;\n",
       "}\n",
       "#T_c878b_row0_col0, #T_c878b_row0_col1, #T_c878b_row1_col0, #T_c878b_row1_col1, #T_c878b_row2_col0, #T_c878b_row2_col1, #T_c878b_row3_col0, #T_c878b_row3_col1, #T_c878b_row4_col0, #T_c878b_row4_col1 {\n",
       "  text-align: left;\n",
       "}\n",
       "</style>\n",
       "<table id=\"T_c878b\" style=\"font-size: 14px\">\n",
       "  <thead>\n",
       "    <tr>\n",
       "      <th id=\"T_c878b_level0_col0\" class=\"col_heading level0 col0\" >Version</th>\n",
       "      <th id=\"T_c878b_level0_col1\" class=\"col_heading level0 col1\" >1</th>\n",
       "    </tr>\n",
       "  </thead>\n",
       "  <tbody>\n",
       "    <tr>\n",
       "      <td id=\"T_c878b_row0_col0\" class=\"data row0 col0\" >Version Date</td>\n",
       "      <td id=\"T_c878b_row0_col1\" class=\"data row0 col1\" >01 Nov 2021</td>\n",
       "    </tr>\n",
       "    <tr>\n",
       "      <td id=\"T_c878b_row1_col0\" class=\"data row1 col0\" >Number of Variables</td>\n",
       "      <td id=\"T_c878b_row1_col1\" class=\"data row1 col1\" >63</td>\n",
       "    </tr>\n",
       "    <tr>\n",
       "      <td id=\"T_c878b_row2_col0\" class=\"data row2 col0\" >Number of Observations</td>\n",
       "      <td id=\"T_c878b_row2_col1\" class=\"data row2 col1\" >41344</td>\n",
       "    </tr>\n",
       "    <tr>\n",
       "      <td id=\"T_c878b_row3_col0\" class=\"data row3 col0\" >DOI</td>\n",
       "      <td id=\"T_c878b_row3_col1\" class=\"data row3 col1\" > <a href=\"https://doi.org/10.83126/ukllc-dataset-00276-01\" rel=\"noopener noreferrer\" target=\"_blank\">10.83126/ukllc-dataset-00276-01</a></td>\n",
       "    </tr>\n",
       "    <tr>\n",
       "      <td id=\"T_c878b_row4_col0\" class=\"data row4 col0\" >Change Log</td>\n",
       "      <td id=\"T_c878b_row4_col1\" class=\"data row4 col1\" > <a href=\"https://api.test.datacite.org/dois/10.83126/ukllc-dataset-00276-01/activities\" rel=\"noopener noreferrer\" target=\"_blank\">10.83126/ukllc-dataset-00276-01/activities</a></td>\n",
       "    </tr>\n",
       "  </tbody>\n",
       "</table>\n"
      ],
      "text/plain": [
       "<pandas.io.formats.style.Styler at 0x1663caff740>"
      ]
     },
     "execution_count": 4,
     "metadata": {},
     "output_type": "execute_result"
    }
   ],
   "source": [
    "ds.version_history()"
   ]
  },
  {
   "cell_type": "markdown",
   "id": "daadcc76",
   "metadata": {},
   "source": [
    "## 3. Documentation"
   ]
  },
  {
   "cell_type": "code",
   "execution_count": 5,
   "id": "19825fd2",
   "metadata": {
    "execution": {
     "iopub.execute_input": "2025-07-18T09:55:27.040596Z",
     "iopub.status.busy": "2025-07-18T09:55:27.040596Z",
     "iopub.status.idle": "2025-07-18T09:55:27.049103Z",
     "shell.execute_reply": "2025-07-18T09:55:27.048596Z"
    },
    "tags": [
     "remove-input"
    ]
   },
   "outputs": [
    {
     "data": {
      "text/markdown": [
       "We are currently building a documentation storage system which will host useful documents related to datasets and data owners. We will surface these documents on Guidebook."
      ],
      "text/plain": [
       "<IPython.core.display.Markdown object>"
      ]
     },
     "metadata": {},
     "output_type": "display_data"
    }
   ],
   "source": [
    "ds.documentation()"
   ]
  },
  {
   "cell_type": "markdown",
   "id": "77e7bc83",
   "metadata": {},
   "source": [
    "## 4. Useful Syntax"
   ]
  },
  {
   "cell_type": "code",
   "execution_count": 6,
   "id": "9e58ea08",
   "metadata": {
    "execution": {
     "iopub.execute_input": "2025-07-18T09:55:27.055619Z",
     "iopub.status.busy": "2025-07-18T09:55:27.055619Z",
     "iopub.status.idle": "2025-07-18T09:55:27.064984Z",
     "shell.execute_reply": "2025-07-18T09:55:27.062981Z"
    },
    "tags": [
     "remove-input"
    ]
   },
   "outputs": [
    {
     "data": {
      "text/markdown": [
       "Below we will include syntax that may be helpful to other researchers in the UK LLC TRE. For longer scripts, we will include a snippet of the code plus a link to Git where you can find the full scripts."
      ],
      "text/plain": [
       "<IPython.core.display.Markdown object>"
      ]
     },
     "metadata": {},
     "output_type": "display_data"
    }
   ],
   "source": [
    "ds.useful_syntax()"
   ]
  }
 ],
 "metadata": {
  "language_info": {
   "codemirror_mode": {
    "name": "ipython",
    "version": 3
   },
   "file_extension": ".py",
   "mimetype": "text/x-python",
   "name": "python",
   "nbconvert_exporter": "python",
   "pygments_lexer": "ipython3",
   "version": "3.12.7"
  }
 },
 "nbformat": 4,
 "nbformat_minor": 5
}
