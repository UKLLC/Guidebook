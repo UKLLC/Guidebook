{
 "cells": [
  {
   "cell_type": "markdown",
   "id": "9f591b8c",
   "metadata": {},
   "source": [
    "# MCS4 Household Grid (MCS)"
   ]
  },
  {
   "cell_type": "code",
   "execution_count": 1,
   "id": "d7c3d94c",
   "metadata": {
    "execution": {
     "iopub.execute_input": "2025-07-28T19:29:04.029813Z",
     "iopub.status.busy": "2025-07-28T19:29:04.028821Z",
     "iopub.status.idle": "2025-07-28T19:29:16.956163Z",
     "shell.execute_reply": "2025-07-28T19:29:16.953151Z"
    },
    "tags": [
     "remove-input"
    ]
   },
   "outputs": [
    {
     "data": {
      "text/markdown": [
       ">Last modified: 28 Jul 2025"
      ],
      "text/plain": [
       "<IPython.core.display.Markdown object>"
      ]
     },
     "metadata": {},
     "output_type": "display_data"
    }
   ],
   "source": [
    "\n",
    "import sys\n",
    "import os\n",
    "sys.path.append(os.path.abspath('../../../../scripts/'))\n",
    "from data_doc_helper import LPSDataSet as DS, last_modified\n",
    "API_KEY = os.environ['FASTAPI_KEY']\n",
    "ds = DS(\"MCS\", \"mcs4_hhgrid\")\n",
    "last_modified()\n"
   ]
  },
  {
   "cell_type": "markdown",
   "id": "3b0f6b36",
   "metadata": {},
   "source": [
    "## 1. Summary"
   ]
  },
  {
   "cell_type": "code",
   "execution_count": 2,
   "id": "9c7f79a9",
   "metadata": {
    "execution": {
     "iopub.execute_input": "2025-07-28T19:29:16.965164Z",
     "iopub.status.busy": "2025-07-28T19:29:16.964163Z",
     "iopub.status.idle": "2025-07-28T19:29:16.978565Z",
     "shell.execute_reply": "2025-07-28T19:29:16.976424Z"
    },
    "tags": [
     "remove-input"
    ]
   },
   "outputs": [
    {
     "data": {
      "text/markdown": [
       "The household grid dataset provides key demographic information about the people who lived with the Cohort Member at the time of the interview. This includes variables showing whether a person was present at the interview, the relationship of each person to the Cohort Member and the relationship of each person to the others present in the household. This is particularly helpful for research on family structure and environment."
      ],
      "text/plain": [
       "<IPython.core.display.Markdown object>"
      ]
     },
     "metadata": {},
     "output_type": "display_data"
    }
   ],
   "source": [
    "ds.summary()"
   ]
  },
  {
   "cell_type": "code",
   "execution_count": 3,
   "id": "a9e19177",
   "metadata": {
    "execution": {
     "iopub.execute_input": "2025-07-28T19:29:16.985583Z",
     "iopub.status.busy": "2025-07-28T19:29:16.985583Z",
     "iopub.status.idle": "2025-07-28T19:29:18.846086Z",
     "shell.execute_reply": "2025-07-28T19:29:18.844557Z"
    },
    "tags": [
     "remove-input"
    ]
   },
   "outputs": [
    {
     "data": {
      "text/html": [
       "<style type=\"text/css\">\n",
       "#T_39c93 th {\n",
       "  text-align: left;\n",
       "}\n",
       "#T_39c93_row0_col0, #T_39c93_row0_col1, #T_39c93_row1_col0, #T_39c93_row1_col1, #T_39c93_row2_col0, #T_39c93_row2_col1, #T_39c93_row3_col0, #T_39c93_row3_col1, #T_39c93_row4_col0, #T_39c93_row4_col1, #T_39c93_row5_col0, #T_39c93_row5_col1, #T_39c93_row6_col0, #T_39c93_row6_col1, #T_39c93_row7_col0, #T_39c93_row7_col1, #T_39c93_row8_col0, #T_39c93_row8_col1, #T_39c93_row9_col0, #T_39c93_row9_col1, #T_39c93_row10_col0, #T_39c93_row10_col1, #T_39c93_row11_col0, #T_39c93_row11_col1, #T_39c93_row12_col0, #T_39c93_row12_col1 {\n",
       "  text-align: left;\n",
       "}\n",
       "</style>\n",
       "<table id=\"T_39c93\" style=\"font-size: 14px\">\n",
       "  <thead>\n",
       "    <tr>\n",
       "      <th id=\"T_39c93_level0_col0\" class=\"col_heading level0 col0\" >Dataset Descriptor</th>\n",
       "      <th id=\"T_39c93_level0_col1\" class=\"col_heading level0 col1\" >Dataset-specific Information</th>\n",
       "    </tr>\n",
       "  </thead>\n",
       "  <tbody>\n",
       "    <tr>\n",
       "      <td id=\"T_39c93_row0_col0\" class=\"data row0 col0\" >Name of Dataset in TRE</td>\n",
       "      <td id=\"T_39c93_row0_col1\" class=\"data row0 col1\" >MCS_mcs4_hhgrid</td>\n",
       "    </tr>\n",
       "    <tr>\n",
       "      <td id=\"T_39c93_row1_col0\" class=\"data row1 col0\" >Citation (APA)</td>\n",
       "      <td id=\"T_39c93_row1_col1\" class=\"data row1 col1\" >University College London, UCL Social Research Institute, Centre for Longitudinal Studies. (2021). <i>Millennium Cohort Study (MCS): MCS4 Household Grid.</i> UK Longitudinal Linkage Collaboration (UK LLC).  <a href=\"https://doi.org/10.71760/ukllc-dataset-00197-01\" rel=\"noopener noreferrer\" target=\"_blank\">https://doi.org/10.71760/ukllc-dataset-00197-01</a></td>\n",
       "    </tr>\n",
       "    <tr>\n",
       "      <td id=\"T_39c93_row2_col0\" class=\"data row2 col0\" >Download Citation</td>\n",
       "      <td id=\"T_39c93_row2_col1\" class=\"data row2 col1\" > <a href=\"https://api.datacite.org/application/vnd.citationstyles.csl+json/10.71760/ukllc-dataset-00197-01\" rel=\"noopener noreferrer\" target=\"_blank\">Citeproc JSON</a>&nbsp;&nbsp;&nbsp;&nbsp; <a href=\"https://api.datacite.org/application/x-bibtex/10.71760/ukllc-dataset-00197-01\" rel=\"noopener noreferrer\" target=\"_blank\">BibTeX</a>&nbsp;&nbsp;&nbsp;&nbsp; <a href=\"https://api.datacite.org/application/x-research-info-systems/10.71760/ukllc-dataset-00197-01\" rel=\"noopener noreferrer\" target=\"_blank\">RIS</a></td>\n",
       "    </tr>\n",
       "    <tr>\n",
       "      <td id=\"T_39c93_row3_col0\" class=\"data row3 col0\" >Series</td>\n",
       "      <td id=\"T_39c93_row3_col1\" class=\"data row3 col1\" > <a href=\"https://guidebook.ukllc.ac.uk/docs/lps_data/lps%20profiles/MCS\">Millennium Cohort Study (MCS)</a></td>\n",
       "    </tr>\n",
       "    <tr>\n",
       "      <td id=\"T_39c93_row4_col0\" class=\"data row4 col0\" >Owner</td>\n",
       "      <td id=\"T_39c93_row4_col1\" class=\"data row4 col1\" >UCL</td>\n",
       "    </tr>\n",
       "    <tr>\n",
       "      <td id=\"T_39c93_row5_col0\" class=\"data row5 col0\" >Temporal Coverage</td>\n",
       "      <td id=\"T_39c93_row5_col1\" class=\"data row5 col1\" >01/2008 - 12/2008</td>\n",
       "    </tr>\n",
       "    <tr>\n",
       "      <td id=\"T_39c93_row6_col0\" class=\"data row6 col0\" >Keywords</td>\n",
       "      <td id=\"T_39c93_row6_col1\" class=\"data row6 col1\" >Family Life,Health,employment,attitudes,Social mobility</td>\n",
       "    </tr>\n",
       "    <tr>\n",
       "      <td id=\"T_39c93_row7_col0\" class=\"data row7 col0\" >Participants Invited</td>\n",
       "      <td id=\"T_39c93_row7_col1\" class=\"data row7 col1\" >13857</td>\n",
       "    </tr>\n",
       "    <tr>\n",
       "      <td id=\"T_39c93_row8_col0\" class=\"data row8 col0\" >Participant Count</td>\n",
       "      <td id=\"T_39c93_row8_col1\" class=\"data row8 col1\" >26962</td>\n",
       "    </tr>\n",
       "    <tr>\n",
       "      <td id=\"T_39c93_row9_col0\" class=\"data row9 col0\" >Number of variables</td>\n",
       "      <td id=\"T_39c93_row9_col1\" class=\"data row9 col1\" >63</td>\n",
       "    </tr>\n",
       "    <tr>\n",
       "      <td id=\"T_39c93_row10_col0\" class=\"data row10 col0\" >Number of observations</td>\n",
       "      <td id=\"T_39c93_row10_col1\" class=\"data row10 col1\" >41344</td>\n",
       "    </tr>\n",
       "    <tr>\n",
       "      <td id=\"T_39c93_row11_col0\" class=\"data row11 col0\" >Specific Restrictions to Data Use</td>\n",
       "      <td id=\"T_39c93_row11_col1\" class=\"data row11 col1\" >None</td>\n",
       "    </tr>\n",
       "    <tr>\n",
       "      <td id=\"T_39c93_row12_col0\" class=\"data row12 col0\" >Build a Data Request</td>\n",
       "      <td id=\"T_39c93_row12_col1\" class=\"data row12 col1\" > <a href=\"https://explore.ukllc.ac.uk/\" rel=\"noopener noreferrer\" target=\"_blank\">https://explore.ukllc.ac.uk/</a></td>\n",
       "    </tr>\n",
       "  </tbody>\n",
       "</table>\n"
      ],
      "text/plain": [
       "<pandas.io.formats.style.Styler at 0x1b8ce85fad0>"
      ]
     },
     "execution_count": 3,
     "metadata": {},
     "output_type": "execute_result"
    }
   ],
   "source": [
    "ds.info_table()"
   ]
  },
  {
   "cell_type": "markdown",
   "id": "d628ed85",
   "metadata": {},
   "source": [
    "## 2. Version History"
   ]
  },
  {
   "cell_type": "code",
   "execution_count": 4,
   "id": "7ab44d8f",
   "metadata": {
    "execution": {
     "iopub.execute_input": "2025-07-28T19:29:18.856087Z",
     "iopub.status.busy": "2025-07-28T19:29:18.855088Z",
     "iopub.status.idle": "2025-07-28T19:29:24.147108Z",
     "shell.execute_reply": "2025-07-28T19:29:24.145093Z"
    },
    "tags": [
     "remove-input"
    ]
   },
   "outputs": [
    {
     "data": {
      "text/html": [
       "<style type=\"text/css\">\n",
       "#T_7ec61 th {\n",
       "  text-align: left;\n",
       "}\n",
       "#T_7ec61_row0_col0, #T_7ec61_row0_col1, #T_7ec61_row1_col0, #T_7ec61_row1_col1, #T_7ec61_row2_col0, #T_7ec61_row2_col1, #T_7ec61_row3_col0, #T_7ec61_row3_col1, #T_7ec61_row4_col0, #T_7ec61_row4_col1 {\n",
       "  text-align: left;\n",
       "}\n",
       "</style>\n",
       "<table id=\"T_7ec61\" style=\"font-size: 14px\">\n",
       "  <thead>\n",
       "    <tr>\n",
       "      <th id=\"T_7ec61_level0_col0\" class=\"col_heading level0 col0\" >Version</th>\n",
       "      <th id=\"T_7ec61_level0_col1\" class=\"col_heading level0 col1\" >1</th>\n",
       "    </tr>\n",
       "  </thead>\n",
       "  <tbody>\n",
       "    <tr>\n",
       "      <td id=\"T_7ec61_row0_col0\" class=\"data row0 col0\" >Version Date</td>\n",
       "      <td id=\"T_7ec61_row0_col1\" class=\"data row0 col1\" >01 Nov 2021</td>\n",
       "    </tr>\n",
       "    <tr>\n",
       "      <td id=\"T_7ec61_row1_col0\" class=\"data row1 col0\" >Number of Variables</td>\n",
       "      <td id=\"T_7ec61_row1_col1\" class=\"data row1 col1\" >63</td>\n",
       "    </tr>\n",
       "    <tr>\n",
       "      <td id=\"T_7ec61_row2_col0\" class=\"data row2 col0\" >Number of Observations</td>\n",
       "      <td id=\"T_7ec61_row2_col1\" class=\"data row2 col1\" >41344</td>\n",
       "    </tr>\n",
       "    <tr>\n",
       "      <td id=\"T_7ec61_row3_col0\" class=\"data row3 col0\" >DOI</td>\n",
       "      <td id=\"T_7ec61_row3_col1\" class=\"data row3 col1\" > <a href=\"https://doi.org/10.71760/ukllc-dataset-00197-01\" rel=\"noopener noreferrer\" target=\"_blank\">10.71760/ukllc-dataset-00197-01</a></td>\n",
       "    </tr>\n",
       "    <tr>\n",
       "      <td id=\"T_7ec61_row4_col0\" class=\"data row4 col0\" >Change Log</td>\n",
       "      <td id=\"T_7ec61_row4_col1\" class=\"data row4 col1\" > <a href=\"https://api.test.datacite.org/dois/10.71760/ukllc-dataset-00197-01/activities\" rel=\"noopener noreferrer\" target=\"_blank\">10.71760/ukllc-dataset-00197-01/activities</a></td>\n",
       "    </tr>\n",
       "  </tbody>\n",
       "</table>\n"
      ],
      "text/plain": [
       "<pandas.io.formats.style.Styler at 0x1b8cea82930>"
      ]
     },
     "execution_count": 4,
     "metadata": {},
     "output_type": "execute_result"
    }
   ],
   "source": [
    "ds.version_history()"
   ]
  },
  {
   "cell_type": "markdown",
   "id": "daadcc76",
   "metadata": {},
   "source": [
    "## 3. Documentation"
   ]
  },
  {
   "cell_type": "code",
   "execution_count": 5,
   "id": "19825fd2",
   "metadata": {
    "execution": {
     "iopub.execute_input": "2025-07-28T19:29:24.157108Z",
     "iopub.status.busy": "2025-07-28T19:29:24.156112Z",
     "iopub.status.idle": "2025-07-28T19:29:24.168672Z",
     "shell.execute_reply": "2025-07-28T19:29:24.166635Z"
    },
    "tags": [
     "remove-input"
    ]
   },
   "outputs": [
    {
     "data": {
      "text/markdown": [
       "We are currently building a documentation storage system which will host useful documents related to datasets and data owners. We will surface these documents on Guidebook."
      ],
      "text/plain": [
       "<IPython.core.display.Markdown object>"
      ]
     },
     "metadata": {},
     "output_type": "display_data"
    }
   ],
   "source": [
    "ds.documentation()"
   ]
  },
  {
   "cell_type": "markdown",
   "id": "77e7bc83",
   "metadata": {},
   "source": [
    "## 4. Useful Syntax"
   ]
  },
  {
   "cell_type": "code",
   "execution_count": 6,
   "id": "9e58ea08",
   "metadata": {
    "execution": {
     "iopub.execute_input": "2025-07-28T19:29:24.176228Z",
     "iopub.status.busy": "2025-07-28T19:29:24.176228Z",
     "iopub.status.idle": "2025-07-28T19:29:24.188420Z",
     "shell.execute_reply": "2025-07-28T19:29:24.186404Z"
    },
    "tags": [
     "remove-input"
    ]
   },
   "outputs": [
    {
     "data": {
      "text/markdown": [
       "Below we will include syntax that may be helpful to other researchers in the UK LLC TRE. For longer scripts, we will include a snippet of the code plus a link to Git where you can find the full scripts."
      ],
      "text/plain": [
       "<IPython.core.display.Markdown object>"
      ]
     },
     "metadata": {},
     "output_type": "display_data"
    }
   ],
   "source": [
    "ds.useful_syntax()"
   ]
  }
 ],
 "metadata": {
  "language_info": {
   "codemirror_mode": {
    "name": "ipython",
    "version": 3
   },
   "file_extension": ".py",
   "mimetype": "text/x-python",
   "name": "python",
   "nbconvert_exporter": "python",
   "pygments_lexer": "ipython3",
   "version": "3.12.7"
  }
 },
 "nbformat": 4,
 "nbformat_minor": 5
}
