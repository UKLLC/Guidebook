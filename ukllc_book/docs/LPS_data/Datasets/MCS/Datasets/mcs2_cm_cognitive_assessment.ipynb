{
 "cells": [
  {
   "cell_type": "markdown",
   "id": "44202b3a",
   "metadata": {},
   "source": [
    "# MCS2 Cohort Member Cognitive Assessment (MCS)"
   ]
  },
  {
   "cell_type": "code",
   "execution_count": 1,
   "id": "4f0a1d75",
   "metadata": {
    "execution": {
     "iopub.execute_input": "2025-07-18T09:48:42.776520Z",
     "iopub.status.busy": "2025-07-18T09:48:42.775519Z",
     "iopub.status.idle": "2025-07-18T09:48:49.485553Z",
     "shell.execute_reply": "2025-07-18T09:48:49.483547Z"
    },
    "tags": [
     "remove-input"
    ]
   },
   "outputs": [
    {
     "data": {
      "text/markdown": [
       ">Last modified: 18 Jul 2025"
      ],
      "text/plain": [
       "<IPython.core.display.Markdown object>"
      ]
     },
     "metadata": {},
     "output_type": "display_data"
    }
   ],
   "source": [
    "\n",
    "import sys\n",
    "import os\n",
    "sys.path.append(os.path.abspath('../../../../scripts/'))\n",
    "from data_doc_helper import LPSDataSet as DS, last_modified\n",
    "API_KEY = os.environ['FASTAPI_KEY']\n",
    "ds = DS(\"MCS\", \"mcs2_cm_cognitive_assessment\")\n",
    "last_modified()\n"
   ]
  },
  {
   "cell_type": "markdown",
   "id": "7b497a91",
   "metadata": {},
   "source": [
    "## 1. Summary"
   ]
  },
  {
   "cell_type": "code",
   "execution_count": 2,
   "id": "afc863a8",
   "metadata": {
    "execution": {
     "iopub.execute_input": "2025-07-18T09:48:49.491559Z",
     "iopub.status.busy": "2025-07-18T09:48:49.490560Z",
     "iopub.status.idle": "2025-07-18T09:48:49.501193Z",
     "shell.execute_reply": "2025-07-18T09:48:49.499864Z"
    },
    "tags": [
     "remove-input"
    ]
   },
   "outputs": [
    {
     "data": {
      "text/markdown": [
       "This dataset contains cognitive assessment data (BAS Naming Vocabulary and Bracken School Readiness Assessment - Revised) collected at sweep 2 along with interviewer observations relating to the tests."
      ],
      "text/plain": [
       "<IPython.core.display.Markdown object>"
      ]
     },
     "metadata": {},
     "output_type": "display_data"
    }
   ],
   "source": [
    "ds.summary()"
   ]
  },
  {
   "cell_type": "code",
   "execution_count": 3,
   "id": "3c64ed65",
   "metadata": {
    "execution": {
     "iopub.execute_input": "2025-07-18T09:48:49.507711Z",
     "iopub.status.busy": "2025-07-18T09:48:49.506713Z",
     "iopub.status.idle": "2025-07-18T09:48:51.031473Z",
     "shell.execute_reply": "2025-07-18T09:48:51.028766Z"
    },
    "tags": [
     "remove-input"
    ]
   },
   "outputs": [
    {
     "data": {
      "text/html": [
       "<style type=\"text/css\">\n",
       "#T_9e4b5 th {\n",
       "  text-align: left;\n",
       "}\n",
       "#T_9e4b5_row0_col0, #T_9e4b5_row0_col1, #T_9e4b5_row1_col0, #T_9e4b5_row1_col1, #T_9e4b5_row2_col0, #T_9e4b5_row2_col1, #T_9e4b5_row3_col0, #T_9e4b5_row3_col1, #T_9e4b5_row4_col0, #T_9e4b5_row4_col1, #T_9e4b5_row5_col0, #T_9e4b5_row5_col1, #T_9e4b5_row6_col0, #T_9e4b5_row6_col1, #T_9e4b5_row7_col0, #T_9e4b5_row7_col1, #T_9e4b5_row8_col0, #T_9e4b5_row8_col1, #T_9e4b5_row9_col0, #T_9e4b5_row9_col1, #T_9e4b5_row10_col0, #T_9e4b5_row10_col1, #T_9e4b5_row11_col0, #T_9e4b5_row11_col1, #T_9e4b5_row12_col0, #T_9e4b5_row12_col1 {\n",
       "  text-align: left;\n",
       "}\n",
       "</style>\n",
       "<table id=\"T_9e4b5\" style=\"font-size: 14px\">\n",
       "  <thead>\n",
       "    <tr>\n",
       "      <th id=\"T_9e4b5_level0_col0\" class=\"col_heading level0 col0\" >Dataset Descriptor</th>\n",
       "      <th id=\"T_9e4b5_level0_col1\" class=\"col_heading level0 col1\" >Dataset-specific Information</th>\n",
       "    </tr>\n",
       "  </thead>\n",
       "  <tbody>\n",
       "    <tr>\n",
       "      <td id=\"T_9e4b5_row0_col0\" class=\"data row0 col0\" >Name of Dataset in TRE</td>\n",
       "      <td id=\"T_9e4b5_row0_col1\" class=\"data row0 col1\" >MCS_mcs2_cm_cognitive_assessment</td>\n",
       "    </tr>\n",
       "    <tr>\n",
       "      <td id=\"T_9e4b5_row1_col0\" class=\"data row1 col0\" >Citation (APA)</td>\n",
       "      <td id=\"T_9e4b5_row1_col1\" class=\"data row1 col1\" >University College London, UCL Social Research Institute, Centre for Longitudinal Studies. (2021). <i>Millennium Cohort Study (MCS): MCS2 Cohort Member Cognitive Assessment.</i> UK Longitudinal Linkage Collaboration (UK LLC).  <a href=\"https://doi.org/10.83126/ukllc-dataset-00249-01\" rel=\"noopener noreferrer\" target=\"_blank\">https://doi.org/10.83126/ukllc-dataset-00249-01</a></td>\n",
       "    </tr>\n",
       "    <tr>\n",
       "      <td id=\"T_9e4b5_row2_col0\" class=\"data row2 col0\" >Download Citation</td>\n",
       "      <td id=\"T_9e4b5_row2_col1\" class=\"data row2 col1\" > <a href=\"https://api.test.datacite.org/application/vnd.citationstyles.csl+json/10.83126/ukllc-dataset-00249-01\" rel=\"noopener noreferrer\" target=\"_blank\">Citeproc JSON</a>&nbsp;&nbsp;&nbsp;&nbsp; <a href=\"https://api.test.datacite.org/application/x-bibtex/10.83126/ukllc-dataset-00249-01\" rel=\"noopener noreferrer\" target=\"_blank\">BibTeX</a>&nbsp;&nbsp;&nbsp;&nbsp; <a href=\"https://api.test.datacite.org/application/x-research-info-systems/10.83126/ukllc-dataset-00249-01\" rel=\"noopener noreferrer\" target=\"_blank\">RIS</a></td>\n",
       "    </tr>\n",
       "    <tr>\n",
       "      <td id=\"T_9e4b5_row3_col0\" class=\"data row3 col0\" >Series</td>\n",
       "      <td id=\"T_9e4b5_row3_col1\" class=\"data row3 col1\" > <a href=\"https://guidebook.ukllc.ac.uk/docs/lps/lps%20profiles/MCS\">Millennium Cohort Study (MCS)</a></td>\n",
       "    </tr>\n",
       "    <tr>\n",
       "      <td id=\"T_9e4b5_row4_col0\" class=\"data row4 col0\" >Owner</td>\n",
       "      <td id=\"T_9e4b5_row4_col1\" class=\"data row4 col1\" >UCL</td>\n",
       "    </tr>\n",
       "    <tr>\n",
       "      <td id=\"T_9e4b5_row5_col0\" class=\"data row5 col0\" >Temporal Coverage</td>\n",
       "      <td id=\"T_9e4b5_row5_col1\" class=\"data row5 col1\" >09/2003 - 04/2005</td>\n",
       "    </tr>\n",
       "    <tr>\n",
       "      <td id=\"T_9e4b5_row6_col0\" class=\"data row6 col0\" >Keywords</td>\n",
       "      <td id=\"T_9e4b5_row6_col1\" class=\"data row6 col1\" >Family Life,Health,employment,attitudes,Social mobility</td>\n",
       "    </tr>\n",
       "    <tr>\n",
       "      <td id=\"T_9e4b5_row7_col0\" class=\"data row7 col0\" >Participants Invited</td>\n",
       "      <td id=\"T_9e4b5_row7_col1\" class=\"data row7 col1\" >15590</td>\n",
       "    </tr>\n",
       "    <tr>\n",
       "      <td id=\"T_9e4b5_row8_col0\" class=\"data row8 col0\" >Participant Count</td>\n",
       "      <td id=\"T_9e4b5_row8_col1\" class=\"data row8 col1\" >8867</td>\n",
       "    </tr>\n",
       "    <tr>\n",
       "      <td id=\"T_9e4b5_row9_col0\" class=\"data row9 col0\" >Number of variables</td>\n",
       "      <td id=\"T_9e4b5_row9_col1\" class=\"data row9 col1\" >586</td>\n",
       "    </tr>\n",
       "    <tr>\n",
       "      <td id=\"T_9e4b5_row10_col0\" class=\"data row10 col0\" >Number of observations</td>\n",
       "      <td id=\"T_9e4b5_row10_col1\" class=\"data row10 col1\" >15778</td>\n",
       "    </tr>\n",
       "    <tr>\n",
       "      <td id=\"T_9e4b5_row11_col0\" class=\"data row11 col0\" >Specific Restrictions to Data Use</td>\n",
       "      <td id=\"T_9e4b5_row11_col1\" class=\"data row11 col1\" >None</td>\n",
       "    </tr>\n",
       "    <tr>\n",
       "      <td id=\"T_9e4b5_row12_col0\" class=\"data row12 col0\" >Build a Data Request</td>\n",
       "      <td id=\"T_9e4b5_row12_col1\" class=\"data row12 col1\" > <a href=\"https://explore.ukllc.ac.uk/\" rel=\"noopener noreferrer\" target=\"_blank\">https://explore.ukllc.ac.uk/</a></td>\n",
       "    </tr>\n",
       "  </tbody>\n",
       "</table>\n"
      ],
      "text/plain": [
       "<pandas.io.formats.style.Styler at 0x210681ccc50>"
      ]
     },
     "execution_count": 3,
     "metadata": {},
     "output_type": "execute_result"
    }
   ],
   "source": [
    "ds.info_table()"
   ]
  },
  {
   "cell_type": "markdown",
   "id": "9c33dc23",
   "metadata": {},
   "source": [
    "## 2. Version History"
   ]
  },
  {
   "cell_type": "code",
   "execution_count": 4,
   "id": "0191d7c9",
   "metadata": {
    "execution": {
     "iopub.execute_input": "2025-07-18T09:48:51.036472Z",
     "iopub.status.busy": "2025-07-18T09:48:51.036472Z",
     "iopub.status.idle": "2025-07-18T09:48:54.042415Z",
     "shell.execute_reply": "2025-07-18T09:48:54.041085Z"
    },
    "tags": [
     "remove-input"
    ]
   },
   "outputs": [
    {
     "data": {
      "text/html": [
       "<style type=\"text/css\">\n",
       "#T_542e6 th {\n",
       "  text-align: left;\n",
       "}\n",
       "#T_542e6_row0_col0, #T_542e6_row0_col1, #T_542e6_row1_col0, #T_542e6_row1_col1, #T_542e6_row2_col0, #T_542e6_row2_col1, #T_542e6_row3_col0, #T_542e6_row3_col1, #T_542e6_row4_col0, #T_542e6_row4_col1 {\n",
       "  text-align: left;\n",
       "}\n",
       "</style>\n",
       "<table id=\"T_542e6\" style=\"font-size: 14px\">\n",
       "  <thead>\n",
       "    <tr>\n",
       "      <th id=\"T_542e6_level0_col0\" class=\"col_heading level0 col0\" >Version</th>\n",
       "      <th id=\"T_542e6_level0_col1\" class=\"col_heading level0 col1\" >1</th>\n",
       "    </tr>\n",
       "  </thead>\n",
       "  <tbody>\n",
       "    <tr>\n",
       "      <td id=\"T_542e6_row0_col0\" class=\"data row0 col0\" >Version Date</td>\n",
       "      <td id=\"T_542e6_row0_col1\" class=\"data row0 col1\" >01 Nov 2021</td>\n",
       "    </tr>\n",
       "    <tr>\n",
       "      <td id=\"T_542e6_row1_col0\" class=\"data row1 col0\" >Number of Variables</td>\n",
       "      <td id=\"T_542e6_row1_col1\" class=\"data row1 col1\" >586</td>\n",
       "    </tr>\n",
       "    <tr>\n",
       "      <td id=\"T_542e6_row2_col0\" class=\"data row2 col0\" >Number of Observations</td>\n",
       "      <td id=\"T_542e6_row2_col1\" class=\"data row2 col1\" >15778</td>\n",
       "    </tr>\n",
       "    <tr>\n",
       "      <td id=\"T_542e6_row3_col0\" class=\"data row3 col0\" >DOI</td>\n",
       "      <td id=\"T_542e6_row3_col1\" class=\"data row3 col1\" > <a href=\"https://doi.org/10.83126/ukllc-dataset-00249-01\" rel=\"noopener noreferrer\" target=\"_blank\">10.83126/ukllc-dataset-00249-01</a></td>\n",
       "    </tr>\n",
       "    <tr>\n",
       "      <td id=\"T_542e6_row4_col0\" class=\"data row4 col0\" >Change Log</td>\n",
       "      <td id=\"T_542e6_row4_col1\" class=\"data row4 col1\" > <a href=\"https://api.test.datacite.org/dois/10.83126/ukllc-dataset-00249-01/activities\" rel=\"noopener noreferrer\" target=\"_blank\">10.83126/ukllc-dataset-00249-01/activities</a></td>\n",
       "    </tr>\n",
       "  </tbody>\n",
       "</table>\n"
      ],
      "text/plain": [
       "<pandas.io.formats.style.Styler at 0x21069c9dd60>"
      ]
     },
     "execution_count": 4,
     "metadata": {},
     "output_type": "execute_result"
    }
   ],
   "source": [
    "ds.version_history()"
   ]
  },
  {
   "cell_type": "markdown",
   "id": "7e124e8a",
   "metadata": {},
   "source": [
    "## 3. Documentation"
   ]
  },
  {
   "cell_type": "code",
   "execution_count": 5,
   "id": "fa69fd45",
   "metadata": {
    "execution": {
     "iopub.execute_input": "2025-07-18T09:48:54.047433Z",
     "iopub.status.busy": "2025-07-18T09:48:54.047433Z",
     "iopub.status.idle": "2025-07-18T09:48:54.054715Z",
     "shell.execute_reply": "2025-07-18T09:48:54.053705Z"
    },
    "tags": [
     "remove-input"
    ]
   },
   "outputs": [
    {
     "data": {
      "text/markdown": [
       "We are currently building a documentation storage system which will host useful documents related to datasets and data owners. We will surface these documents on Guidebook."
      ],
      "text/plain": [
       "<IPython.core.display.Markdown object>"
      ]
     },
     "metadata": {},
     "output_type": "display_data"
    }
   ],
   "source": [
    "ds.documentation()"
   ]
  },
  {
   "cell_type": "markdown",
   "id": "c74a72fc",
   "metadata": {},
   "source": [
    "## 4. Useful Syntax"
   ]
  },
  {
   "cell_type": "code",
   "execution_count": 6,
   "id": "39c48cf6",
   "metadata": {
    "execution": {
     "iopub.execute_input": "2025-07-18T09:48:54.059712Z",
     "iopub.status.busy": "2025-07-18T09:48:54.059712Z",
     "iopub.status.idle": "2025-07-18T09:48:54.069183Z",
     "shell.execute_reply": "2025-07-18T09:48:54.068174Z"
    },
    "tags": [
     "remove-input"
    ]
   },
   "outputs": [
    {
     "data": {
      "text/markdown": [
       "Below we will include syntax that may be helpful to other researchers in the UK LLC TRE. For longer scripts, we will include a snippet of the code plus a link to Git where you can find the full scripts."
      ],
      "text/plain": [
       "<IPython.core.display.Markdown object>"
      ]
     },
     "metadata": {},
     "output_type": "display_data"
    }
   ],
   "source": [
    "ds.useful_syntax()"
   ]
  }
 ],
 "metadata": {
  "language_info": {
   "codemirror_mode": {
    "name": "ipython",
    "version": 3
   },
   "file_extension": ".py",
   "mimetype": "text/x-python",
   "name": "python",
   "nbconvert_exporter": "python",
   "pygments_lexer": "ipython3",
   "version": "3.12.7"
  }
 },
 "nbformat": 4,
 "nbformat_minor": 5
}
