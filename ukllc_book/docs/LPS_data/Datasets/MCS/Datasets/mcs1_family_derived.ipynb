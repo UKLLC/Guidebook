{
 "cells": [
  {
   "cell_type": "markdown",
   "id": "9b380c61",
   "metadata": {},
   "source": [
    "# MCS1 Family Derived (MCS)"
   ]
  },
  {
   "cell_type": "code",
   "execution_count": 1,
   "id": "248d85ea",
   "metadata": {
    "execution": {
     "iopub.execute_input": "2025-07-18T09:47:15.540278Z",
     "iopub.status.busy": "2025-07-18T09:47:15.540278Z",
     "iopub.status.idle": "2025-07-18T09:47:22.464294Z",
     "shell.execute_reply": "2025-07-18T09:47:22.463287Z"
    },
    "tags": [
     "remove-input"
    ]
   },
   "outputs": [
    {
     "data": {
      "text/markdown": [
       ">Last modified: 18 Jul 2025"
      ],
      "text/plain": [
       "<IPython.core.display.Markdown object>"
      ]
     },
     "metadata": {},
     "output_type": "display_data"
    }
   ],
   "source": [
    "\n",
    "import sys\n",
    "import os\n",
    "sys.path.append(os.path.abspath('../../../../scripts/'))\n",
    "from data_doc_helper import LPSDataSet as DS, last_modified\n",
    "API_KEY = os.environ['FASTAPI_KEY']\n",
    "ds = DS(\"MCS\", \"mcs1_family_derived\")\n",
    "last_modified()\n"
   ]
  },
  {
   "cell_type": "markdown",
   "id": "3e24eac4",
   "metadata": {},
   "source": [
    "## 1. Summary"
   ]
  },
  {
   "cell_type": "code",
   "execution_count": 2,
   "id": "4bd6cb58",
   "metadata": {
    "execution": {
     "iopub.execute_input": "2025-07-18T09:47:22.469294Z",
     "iopub.status.busy": "2025-07-18T09:47:22.469294Z",
     "iopub.status.idle": "2025-07-18T09:47:22.478223Z",
     "shell.execute_reply": "2025-07-18T09:47:22.477215Z"
    },
    "tags": [
     "remove-input"
    ]
   },
   "outputs": [
    {
     "data": {
      "text/markdown": [
       "This dataset contains variables relating to household composition, banded household income, OECD Equivalised income, housing tenure and other family level information at sweep 1"
      ],
      "text/plain": [
       "<IPython.core.display.Markdown object>"
      ]
     },
     "metadata": {},
     "output_type": "display_data"
    }
   ],
   "source": [
    "ds.summary()"
   ]
  },
  {
   "cell_type": "code",
   "execution_count": 3,
   "id": "855602ff",
   "metadata": {
    "execution": {
     "iopub.execute_input": "2025-07-18T09:47:22.485222Z",
     "iopub.status.busy": "2025-07-18T09:47:22.484222Z",
     "iopub.status.idle": "2025-07-18T09:47:23.513270Z",
     "shell.execute_reply": "2025-07-18T09:47:23.513270Z"
    },
    "tags": [
     "remove-input"
    ]
   },
   "outputs": [
    {
     "data": {
      "text/html": [
       "<style type=\"text/css\">\n",
       "#T_8ed16 th {\n",
       "  text-align: left;\n",
       "}\n",
       "#T_8ed16_row0_col0, #T_8ed16_row0_col1, #T_8ed16_row1_col0, #T_8ed16_row1_col1, #T_8ed16_row2_col0, #T_8ed16_row2_col1, #T_8ed16_row3_col0, #T_8ed16_row3_col1, #T_8ed16_row4_col0, #T_8ed16_row4_col1, #T_8ed16_row5_col0, #T_8ed16_row5_col1, #T_8ed16_row6_col0, #T_8ed16_row6_col1, #T_8ed16_row7_col0, #T_8ed16_row7_col1, #T_8ed16_row8_col0, #T_8ed16_row8_col1, #T_8ed16_row9_col0, #T_8ed16_row9_col1, #T_8ed16_row10_col0, #T_8ed16_row10_col1, #T_8ed16_row11_col0, #T_8ed16_row11_col1, #T_8ed16_row12_col0, #T_8ed16_row12_col1 {\n",
       "  text-align: left;\n",
       "}\n",
       "</style>\n",
       "<table id=\"T_8ed16\" style=\"font-size: 14px\">\n",
       "  <thead>\n",
       "    <tr>\n",
       "      <th id=\"T_8ed16_level0_col0\" class=\"col_heading level0 col0\" >Dataset Descriptor</th>\n",
       "      <th id=\"T_8ed16_level0_col1\" class=\"col_heading level0 col1\" >Dataset-specific Information</th>\n",
       "    </tr>\n",
       "  </thead>\n",
       "  <tbody>\n",
       "    <tr>\n",
       "      <td id=\"T_8ed16_row0_col0\" class=\"data row0 col0\" >Name of Dataset in TRE</td>\n",
       "      <td id=\"T_8ed16_row0_col1\" class=\"data row0 col1\" >MCS_mcs1_family_derived</td>\n",
       "    </tr>\n",
       "    <tr>\n",
       "      <td id=\"T_8ed16_row1_col0\" class=\"data row1 col0\" >Citation (APA)</td>\n",
       "      <td id=\"T_8ed16_row1_col1\" class=\"data row1 col1\" >University College London, UCL Social Research Institute, Centre for Longitudinal Studies. (2021). <i>Millennium Cohort Study (MCS): MCS1 Family Derived.</i> UK Longitudinal Linkage Collaboration (UK LLC).  <a href=\"https://doi.org/10.83126/ukllc-dataset-00243-01\" rel=\"noopener noreferrer\" target=\"_blank\">https://doi.org/10.83126/ukllc-dataset-00243-01</a></td>\n",
       "    </tr>\n",
       "    <tr>\n",
       "      <td id=\"T_8ed16_row2_col0\" class=\"data row2 col0\" >Download Citation</td>\n",
       "      <td id=\"T_8ed16_row2_col1\" class=\"data row2 col1\" > <a href=\"https://api.test.datacite.org/application/vnd.citationstyles.csl+json/10.83126/ukllc-dataset-00243-01\" rel=\"noopener noreferrer\" target=\"_blank\">Citeproc JSON</a>&nbsp;&nbsp;&nbsp;&nbsp; <a href=\"https://api.test.datacite.org/application/x-bibtex/10.83126/ukllc-dataset-00243-01\" rel=\"noopener noreferrer\" target=\"_blank\">BibTeX</a>&nbsp;&nbsp;&nbsp;&nbsp; <a href=\"https://api.test.datacite.org/application/x-research-info-systems/10.83126/ukllc-dataset-00243-01\" rel=\"noopener noreferrer\" target=\"_blank\">RIS</a></td>\n",
       "    </tr>\n",
       "    <tr>\n",
       "      <td id=\"T_8ed16_row3_col0\" class=\"data row3 col0\" >Series</td>\n",
       "      <td id=\"T_8ed16_row3_col1\" class=\"data row3 col1\" > <a href=\"https://guidebook.ukllc.ac.uk/docs/lps/lps%20profiles/MCS\">Millennium Cohort Study (MCS)</a></td>\n",
       "    </tr>\n",
       "    <tr>\n",
       "      <td id=\"T_8ed16_row4_col0\" class=\"data row4 col0\" >Owner</td>\n",
       "      <td id=\"T_8ed16_row4_col1\" class=\"data row4 col1\" >UCL</td>\n",
       "    </tr>\n",
       "    <tr>\n",
       "      <td id=\"T_8ed16_row5_col0\" class=\"data row5 col0\" >Temporal Coverage</td>\n",
       "      <td id=\"T_8ed16_row5_col1\" class=\"data row5 col1\" >06/2001 - 01/2003</td>\n",
       "    </tr>\n",
       "    <tr>\n",
       "      <td id=\"T_8ed16_row6_col0\" class=\"data row6 col0\" >Keywords</td>\n",
       "      <td id=\"T_8ed16_row6_col1\" class=\"data row6 col1\" >Pregnancy outcome,health,Birth characteristics,Family life</td>\n",
       "    </tr>\n",
       "    <tr>\n",
       "      <td id=\"T_8ed16_row7_col0\" class=\"data row7 col0\" >Participants Invited</td>\n",
       "      <td id=\"T_8ed16_row7_col1\" class=\"data row7 col1\" >18552</td>\n",
       "    </tr>\n",
       "    <tr>\n",
       "      <td id=\"T_8ed16_row8_col0\" class=\"data row8 col0\" >Participant Count</td>\n",
       "      <td id=\"T_8ed16_row8_col1\" class=\"data row8 col1\" ></td>\n",
       "    </tr>\n",
       "    <tr>\n",
       "      <td id=\"T_8ed16_row9_col0\" class=\"data row9 col0\" >Number of variables</td>\n",
       "      <td id=\"T_8ed16_row9_col1\" class=\"data row9 col1\" >53</td>\n",
       "    </tr>\n",
       "    <tr>\n",
       "      <td id=\"T_8ed16_row10_col0\" class=\"data row10 col0\" >Number of observations</td>\n",
       "      <td id=\"T_8ed16_row10_col1\" class=\"data row10 col1\" >56598</td>\n",
       "    </tr>\n",
       "    <tr>\n",
       "      <td id=\"T_8ed16_row11_col0\" class=\"data row11 col0\" >Specific Restrictions to Data Use</td>\n",
       "      <td id=\"T_8ed16_row11_col1\" class=\"data row11 col1\" >None</td>\n",
       "    </tr>\n",
       "    <tr>\n",
       "      <td id=\"T_8ed16_row12_col0\" class=\"data row12 col0\" >Build a Data Request</td>\n",
       "      <td id=\"T_8ed16_row12_col1\" class=\"data row12 col1\" > <a href=\"https://explore.ukllc.ac.uk/\" rel=\"noopener noreferrer\" target=\"_blank\">https://explore.ukllc.ac.uk/</a></td>\n",
       "    </tr>\n",
       "  </tbody>\n",
       "</table>\n"
      ],
      "text/plain": [
       "<pandas.io.formats.style.Styler at 0x276b6efede0>"
      ]
     },
     "execution_count": 3,
     "metadata": {},
     "output_type": "execute_result"
    }
   ],
   "source": [
    "ds.info_table()"
   ]
  },
  {
   "cell_type": "markdown",
   "id": "28dbc0cd",
   "metadata": {},
   "source": [
    "## 2. Version History"
   ]
  },
  {
   "cell_type": "code",
   "execution_count": 4,
   "id": "58f6ac0a",
   "metadata": {
    "execution": {
     "iopub.execute_input": "2025-07-18T09:47:23.517125Z",
     "iopub.status.busy": "2025-07-18T09:47:23.516125Z",
     "iopub.status.idle": "2025-07-18T09:47:25.998489Z",
     "shell.execute_reply": "2025-07-18T09:47:25.996482Z"
    },
    "tags": [
     "remove-input"
    ]
   },
   "outputs": [
    {
     "data": {
      "text/html": [
       "<style type=\"text/css\">\n",
       "#T_0ff5b th {\n",
       "  text-align: left;\n",
       "}\n",
       "#T_0ff5b_row0_col0, #T_0ff5b_row0_col1, #T_0ff5b_row1_col0, #T_0ff5b_row1_col1, #T_0ff5b_row2_col0, #T_0ff5b_row2_col1, #T_0ff5b_row3_col0, #T_0ff5b_row3_col1, #T_0ff5b_row4_col0, #T_0ff5b_row4_col1 {\n",
       "  text-align: left;\n",
       "}\n",
       "</style>\n",
       "<table id=\"T_0ff5b\" style=\"font-size: 14px\">\n",
       "  <thead>\n",
       "    <tr>\n",
       "      <th id=\"T_0ff5b_level0_col0\" class=\"col_heading level0 col0\" >Version</th>\n",
       "      <th id=\"T_0ff5b_level0_col1\" class=\"col_heading level0 col1\" >1</th>\n",
       "    </tr>\n",
       "  </thead>\n",
       "  <tbody>\n",
       "    <tr>\n",
       "      <td id=\"T_0ff5b_row0_col0\" class=\"data row0 col0\" >Version Date</td>\n",
       "      <td id=\"T_0ff5b_row0_col1\" class=\"data row0 col1\" >01 Nov 2021</td>\n",
       "    </tr>\n",
       "    <tr>\n",
       "      <td id=\"T_0ff5b_row1_col0\" class=\"data row1 col0\" >Number of Variables</td>\n",
       "      <td id=\"T_0ff5b_row1_col1\" class=\"data row1 col1\" >53</td>\n",
       "    </tr>\n",
       "    <tr>\n",
       "      <td id=\"T_0ff5b_row2_col0\" class=\"data row2 col0\" >Number of Observations</td>\n",
       "      <td id=\"T_0ff5b_row2_col1\" class=\"data row2 col1\" >56598</td>\n",
       "    </tr>\n",
       "    <tr>\n",
       "      <td id=\"T_0ff5b_row3_col0\" class=\"data row3 col0\" >DOI</td>\n",
       "      <td id=\"T_0ff5b_row3_col1\" class=\"data row3 col1\" > <a href=\"https://doi.org/10.83126/ukllc-dataset-00243-01\" rel=\"noopener noreferrer\" target=\"_blank\">10.83126/ukllc-dataset-00243-01</a></td>\n",
       "    </tr>\n",
       "    <tr>\n",
       "      <td id=\"T_0ff5b_row4_col0\" class=\"data row4 col0\" >Change Log</td>\n",
       "      <td id=\"T_0ff5b_row4_col1\" class=\"data row4 col1\" > <a href=\"https://api.test.datacite.org/dois/10.83126/ukllc-dataset-00243-01/activities\" rel=\"noopener noreferrer\" target=\"_blank\">10.83126/ukllc-dataset-00243-01/activities</a></td>\n",
       "    </tr>\n",
       "  </tbody>\n",
       "</table>\n"
      ],
      "text/plain": [
       "<pandas.io.formats.style.Styler at 0x276b8caeb10>"
      ]
     },
     "execution_count": 4,
     "metadata": {},
     "output_type": "execute_result"
    }
   ],
   "source": [
    "ds.version_history()"
   ]
  },
  {
   "cell_type": "markdown",
   "id": "499e753f",
   "metadata": {},
   "source": [
    "## 3. Documentation"
   ]
  },
  {
   "cell_type": "code",
   "execution_count": 5,
   "id": "ae93a32b",
   "metadata": {
    "execution": {
     "iopub.execute_input": "2025-07-18T09:47:26.005489Z",
     "iopub.status.busy": "2025-07-18T09:47:26.005489Z",
     "iopub.status.idle": "2025-07-18T09:47:26.015370Z",
     "shell.execute_reply": "2025-07-18T09:47:26.014364Z"
    },
    "tags": [
     "remove-input"
    ]
   },
   "outputs": [
    {
     "data": {
      "text/markdown": [
       "We are currently building a documentation storage system which will host useful documents related to datasets and data owners. We will surface these documents on Guidebook."
      ],
      "text/plain": [
       "<IPython.core.display.Markdown object>"
      ]
     },
     "metadata": {},
     "output_type": "display_data"
    }
   ],
   "source": [
    "ds.documentation()"
   ]
  },
  {
   "cell_type": "markdown",
   "id": "06b4e246",
   "metadata": {},
   "source": [
    "## 4. Useful Syntax"
   ]
  },
  {
   "cell_type": "code",
   "execution_count": 6,
   "id": "30508581",
   "metadata": {
    "execution": {
     "iopub.execute_input": "2025-07-18T09:47:26.026884Z",
     "iopub.status.busy": "2025-07-18T09:47:26.025884Z",
     "iopub.status.idle": "2025-07-18T09:47:26.036915Z",
     "shell.execute_reply": "2025-07-18T09:47:26.034908Z"
    },
    "tags": [
     "remove-input"
    ]
   },
   "outputs": [
    {
     "data": {
      "text/markdown": [
       "Below we will include syntax that may be helpful to other researchers in the UK LLC TRE. For longer scripts, we will include a snippet of the code plus a link to Git where you can find the full scripts."
      ],
      "text/plain": [
       "<IPython.core.display.Markdown object>"
      ]
     },
     "metadata": {},
     "output_type": "display_data"
    }
   ],
   "source": [
    "ds.useful_syntax()"
   ]
  }
 ],
 "metadata": {
  "language_info": {
   "codemirror_mode": {
    "name": "ipython",
    "version": 3
   },
   "file_extension": ".py",
   "mimetype": "text/x-python",
   "name": "python",
   "nbconvert_exporter": "python",
   "pygments_lexer": "ipython3",
   "version": "3.12.7"
  }
 },
 "nbformat": 4,
 "nbformat_minor": 5
}
