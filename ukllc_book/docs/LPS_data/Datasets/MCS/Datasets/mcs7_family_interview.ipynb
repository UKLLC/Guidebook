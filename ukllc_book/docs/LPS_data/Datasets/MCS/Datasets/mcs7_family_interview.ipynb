{
 "cells": [
  {
   "cell_type": "markdown",
   "id": "e7f8680b",
   "metadata": {},
   "source": [
    "# MCS7 Family Interview (MCS)"
   ]
  },
  {
   "cell_type": "code",
   "execution_count": 1,
   "id": "15fb359b",
   "metadata": {
    "execution": {
     "iopub.execute_input": "2025-07-28T19:41:05.318936Z",
     "iopub.status.busy": "2025-07-28T19:41:05.318936Z",
     "iopub.status.idle": "2025-07-28T19:41:17.589122Z",
     "shell.execute_reply": "2025-07-28T19:41:17.586076Z"
    },
    "tags": [
     "remove-input"
    ]
   },
   "outputs": [
    {
     "data": {
      "text/markdown": [
       ">Last modified: 28 Jul 2025"
      ],
      "text/plain": [
       "<IPython.core.display.Markdown object>"
      ]
     },
     "metadata": {},
     "output_type": "display_data"
    }
   ],
   "source": [
    "\n",
    "import sys\n",
    "import os\n",
    "sys.path.append(os.path.abspath('../../../../scripts/'))\n",
    "from data_doc_helper import LPSDataSet as DS, last_modified\n",
    "API_KEY = os.environ['FASTAPI_KEY']\n",
    "ds = DS(\"MCS\", \"mcs7_family_interview\")\n",
    "last_modified()\n"
   ]
  },
  {
   "cell_type": "markdown",
   "id": "144a4f26",
   "metadata": {},
   "source": [
    "## 1. Summary"
   ]
  },
  {
   "cell_type": "code",
   "execution_count": 2,
   "id": "df0e45ba",
   "metadata": {
    "execution": {
     "iopub.execute_input": "2025-07-28T19:41:17.599733Z",
     "iopub.status.busy": "2025-07-28T19:41:17.597725Z",
     "iopub.status.idle": "2025-07-28T19:41:17.617215Z",
     "shell.execute_reply": "2025-07-28T19:41:17.614717Z"
    },
    "tags": [
     "remove-input"
    ]
   },
   "outputs": [
    {
     "data": {
      "text/markdown": [
       "This dataset contains some family level information about the household composition at sweep 7"
      ],
      "text/plain": [
       "<IPython.core.display.Markdown object>"
      ]
     },
     "metadata": {},
     "output_type": "display_data"
    }
   ],
   "source": [
    "ds.summary()"
   ]
  },
  {
   "cell_type": "code",
   "execution_count": 3,
   "id": "fb4036f7",
   "metadata": {
    "execution": {
     "iopub.execute_input": "2025-07-28T19:41:17.623213Z",
     "iopub.status.busy": "2025-07-28T19:41:17.623213Z",
     "iopub.status.idle": "2025-07-28T19:41:19.479851Z",
     "shell.execute_reply": "2025-07-28T19:41:19.477833Z"
    },
    "tags": [
     "remove-input"
    ]
   },
   "outputs": [
    {
     "data": {
      "text/html": [
       "<style type=\"text/css\">\n",
       "#T_a1c49 th {\n",
       "  text-align: left;\n",
       "}\n",
       "#T_a1c49_row0_col0, #T_a1c49_row0_col1, #T_a1c49_row1_col0, #T_a1c49_row1_col1, #T_a1c49_row2_col0, #T_a1c49_row2_col1, #T_a1c49_row3_col0, #T_a1c49_row3_col1, #T_a1c49_row4_col0, #T_a1c49_row4_col1, #T_a1c49_row5_col0, #T_a1c49_row5_col1, #T_a1c49_row6_col0, #T_a1c49_row6_col1, #T_a1c49_row7_col0, #T_a1c49_row7_col1, #T_a1c49_row8_col0, #T_a1c49_row8_col1, #T_a1c49_row9_col0, #T_a1c49_row9_col1, #T_a1c49_row10_col0, #T_a1c49_row10_col1, #T_a1c49_row11_col0, #T_a1c49_row11_col1, #T_a1c49_row12_col0, #T_a1c49_row12_col1 {\n",
       "  text-align: left;\n",
       "}\n",
       "</style>\n",
       "<table id=\"T_a1c49\" style=\"font-size: 14px\">\n",
       "  <thead>\n",
       "    <tr>\n",
       "      <th id=\"T_a1c49_level0_col0\" class=\"col_heading level0 col0\" >Dataset Descriptor</th>\n",
       "      <th id=\"T_a1c49_level0_col1\" class=\"col_heading level0 col1\" >Dataset-specific Information</th>\n",
       "    </tr>\n",
       "  </thead>\n",
       "  <tbody>\n",
       "    <tr>\n",
       "      <td id=\"T_a1c49_row0_col0\" class=\"data row0 col0\" >Name of Dataset in TRE</td>\n",
       "      <td id=\"T_a1c49_row0_col1\" class=\"data row0 col1\" >MCS_mcs7_family_interview</td>\n",
       "    </tr>\n",
       "    <tr>\n",
       "      <td id=\"T_a1c49_row1_col0\" class=\"data row1 col0\" >Citation (APA)</td>\n",
       "      <td id=\"T_a1c49_row1_col1\" class=\"data row1 col1\" >University College London, UCL Social Research Institute, Centre for Longitudinal Studies. (2021). <i>Millennium Cohort Study (MCS): MCS7 Family Interview.</i> UK Longitudinal Linkage Collaboration (UK LLC).  <a href=\"https://doi.org/10.71760/ukllc-dataset-00226-01\" rel=\"noopener noreferrer\" target=\"_blank\">https://doi.org/10.71760/ukllc-dataset-00226-01</a></td>\n",
       "    </tr>\n",
       "    <tr>\n",
       "      <td id=\"T_a1c49_row2_col0\" class=\"data row2 col0\" >Download Citation</td>\n",
       "      <td id=\"T_a1c49_row2_col1\" class=\"data row2 col1\" > <a href=\"https://api.datacite.org/application/vnd.citationstyles.csl+json/10.71760/ukllc-dataset-00226-01\" rel=\"noopener noreferrer\" target=\"_blank\">Citeproc JSON</a>&nbsp;&nbsp;&nbsp;&nbsp; <a href=\"https://api.datacite.org/application/x-bibtex/10.71760/ukllc-dataset-00226-01\" rel=\"noopener noreferrer\" target=\"_blank\">BibTeX</a>&nbsp;&nbsp;&nbsp;&nbsp; <a href=\"https://api.datacite.org/application/x-research-info-systems/10.71760/ukllc-dataset-00226-01\" rel=\"noopener noreferrer\" target=\"_blank\">RIS</a></td>\n",
       "    </tr>\n",
       "    <tr>\n",
       "      <td id=\"T_a1c49_row3_col0\" class=\"data row3 col0\" >Series</td>\n",
       "      <td id=\"T_a1c49_row3_col1\" class=\"data row3 col1\" > <a href=\"https://guidebook.ukllc.ac.uk/docs/lps_data/lps%20profiles/MCS\">Millennium Cohort Study (MCS)</a></td>\n",
       "    </tr>\n",
       "    <tr>\n",
       "      <td id=\"T_a1c49_row4_col0\" class=\"data row4 col0\" >Owner</td>\n",
       "      <td id=\"T_a1c49_row4_col1\" class=\"data row4 col1\" >UCL</td>\n",
       "    </tr>\n",
       "    <tr>\n",
       "      <td id=\"T_a1c49_row5_col0\" class=\"data row5 col0\" >Temporal Coverage</td>\n",
       "      <td id=\"T_a1c49_row5_col1\" class=\"data row5 col1\" >01/2018 - 03/2019</td>\n",
       "    </tr>\n",
       "    <tr>\n",
       "      <td id=\"T_a1c49_row6_col0\" class=\"data row6 col0\" >Keywords</td>\n",
       "      <td id=\"T_a1c49_row6_col1\" class=\"data row6 col1\" >Health,Education,Leisure & sport,Attitudes,Youth,Employment</td>\n",
       "    </tr>\n",
       "    <tr>\n",
       "      <td id=\"T_a1c49_row7_col0\" class=\"data row7 col0\" >Participants Invited</td>\n",
       "      <td id=\"T_a1c49_row7_col1\" class=\"data row7 col1\" >10345</td>\n",
       "    </tr>\n",
       "    <tr>\n",
       "      <td id=\"T_a1c49_row8_col0\" class=\"data row8 col0\" >Participant Count</td>\n",
       "      <td id=\"T_a1c49_row8_col1\" class=\"data row8 col1\" ></td>\n",
       "    </tr>\n",
       "    <tr>\n",
       "      <td id=\"T_a1c49_row9_col0\" class=\"data row9 col0\" >Number of variables</td>\n",
       "      <td id=\"T_a1c49_row9_col1\" class=\"data row9 col1\" >114</td>\n",
       "    </tr>\n",
       "    <tr>\n",
       "      <td id=\"T_a1c49_row10_col0\" class=\"data row10 col0\" >Number of observations</td>\n",
       "      <td id=\"T_a1c49_row10_col1\" class=\"data row10 col1\" >33159</td>\n",
       "    </tr>\n",
       "    <tr>\n",
       "      <td id=\"T_a1c49_row11_col0\" class=\"data row11 col0\" >Specific Restrictions to Data Use</td>\n",
       "      <td id=\"T_a1c49_row11_col1\" class=\"data row11 col1\" >None</td>\n",
       "    </tr>\n",
       "    <tr>\n",
       "      <td id=\"T_a1c49_row12_col0\" class=\"data row12 col0\" >Build a Data Request</td>\n",
       "      <td id=\"T_a1c49_row12_col1\" class=\"data row12 col1\" > <a href=\"https://explore.ukllc.ac.uk/\" rel=\"noopener noreferrer\" target=\"_blank\">https://explore.ukllc.ac.uk/</a></td>\n",
       "    </tr>\n",
       "  </tbody>\n",
       "</table>\n"
      ],
      "text/plain": [
       "<pandas.io.formats.style.Styler at 0x1470c0bede0>"
      ]
     },
     "execution_count": 3,
     "metadata": {},
     "output_type": "execute_result"
    }
   ],
   "source": [
    "ds.info_table()"
   ]
  },
  {
   "cell_type": "markdown",
   "id": "0912ac47",
   "metadata": {},
   "source": [
    "## 2. Version History"
   ]
  },
  {
   "cell_type": "code",
   "execution_count": 4,
   "id": "04585428",
   "metadata": {
    "execution": {
     "iopub.execute_input": "2025-07-28T19:41:19.488868Z",
     "iopub.status.busy": "2025-07-28T19:41:19.487863Z",
     "iopub.status.idle": "2025-07-28T19:41:24.969708Z",
     "shell.execute_reply": "2025-07-28T19:41:24.967689Z"
    },
    "tags": [
     "remove-input"
    ]
   },
   "outputs": [
    {
     "data": {
      "text/html": [
       "<style type=\"text/css\">\n",
       "#T_d683f th {\n",
       "  text-align: left;\n",
       "}\n",
       "#T_d683f_row0_col0, #T_d683f_row0_col1, #T_d683f_row1_col0, #T_d683f_row1_col1, #T_d683f_row2_col0, #T_d683f_row2_col1, #T_d683f_row3_col0, #T_d683f_row3_col1, #T_d683f_row4_col0, #T_d683f_row4_col1 {\n",
       "  text-align: left;\n",
       "}\n",
       "</style>\n",
       "<table id=\"T_d683f\" style=\"font-size: 14px\">\n",
       "  <thead>\n",
       "    <tr>\n",
       "      <th id=\"T_d683f_level0_col0\" class=\"col_heading level0 col0\" >Version</th>\n",
       "      <th id=\"T_d683f_level0_col1\" class=\"col_heading level0 col1\" >1</th>\n",
       "    </tr>\n",
       "  </thead>\n",
       "  <tbody>\n",
       "    <tr>\n",
       "      <td id=\"T_d683f_row0_col0\" class=\"data row0 col0\" >Version Date</td>\n",
       "      <td id=\"T_d683f_row0_col1\" class=\"data row0 col1\" >01 Nov 2021</td>\n",
       "    </tr>\n",
       "    <tr>\n",
       "      <td id=\"T_d683f_row1_col0\" class=\"data row1 col0\" >Number of Variables</td>\n",
       "      <td id=\"T_d683f_row1_col1\" class=\"data row1 col1\" >114</td>\n",
       "    </tr>\n",
       "    <tr>\n",
       "      <td id=\"T_d683f_row2_col0\" class=\"data row2 col0\" >Number of Observations</td>\n",
       "      <td id=\"T_d683f_row2_col1\" class=\"data row2 col1\" >33159</td>\n",
       "    </tr>\n",
       "    <tr>\n",
       "      <td id=\"T_d683f_row3_col0\" class=\"data row3 col0\" >DOI</td>\n",
       "      <td id=\"T_d683f_row3_col1\" class=\"data row3 col1\" > <a href=\"https://doi.org/10.71760/ukllc-dataset-00226-01\" rel=\"noopener noreferrer\" target=\"_blank\">10.71760/ukllc-dataset-00226-01</a></td>\n",
       "    </tr>\n",
       "    <tr>\n",
       "      <td id=\"T_d683f_row4_col0\" class=\"data row4 col0\" >Change Log</td>\n",
       "      <td id=\"T_d683f_row4_col1\" class=\"data row4 col1\" > <a href=\"https://api.test.datacite.org/dois/10.71760/ukllc-dataset-00226-01/activities\" rel=\"noopener noreferrer\" target=\"_blank\">10.71760/ukllc-dataset-00226-01/activities</a></td>\n",
       "    </tr>\n",
       "  </tbody>\n",
       "</table>\n"
      ],
      "text/plain": [
       "<pandas.io.formats.style.Styler at 0x14711a705f0>"
      ]
     },
     "execution_count": 4,
     "metadata": {},
     "output_type": "execute_result"
    }
   ],
   "source": [
    "ds.version_history()"
   ]
  },
  {
   "cell_type": "markdown",
   "id": "710f2d4d",
   "metadata": {},
   "source": [
    "## 3. Documentation"
   ]
  },
  {
   "cell_type": "code",
   "execution_count": 5,
   "id": "8632a0fc",
   "metadata": {
    "execution": {
     "iopub.execute_input": "2025-07-28T19:41:24.978495Z",
     "iopub.status.busy": "2025-07-28T19:41:24.977496Z",
     "iopub.status.idle": "2025-07-28T19:41:24.989865Z",
     "shell.execute_reply": "2025-07-28T19:41:24.988776Z"
    },
    "tags": [
     "remove-input"
    ]
   },
   "outputs": [
    {
     "data": {
      "text/markdown": [
       "We are currently building a documentation storage system which will host useful documents related to datasets and data owners. We will surface these documents on Guidebook."
      ],
      "text/plain": [
       "<IPython.core.display.Markdown object>"
      ]
     },
     "metadata": {},
     "output_type": "display_data"
    }
   ],
   "source": [
    "ds.documentation()"
   ]
  },
  {
   "cell_type": "markdown",
   "id": "d3f28c58",
   "metadata": {},
   "source": [
    "## 4. Useful Syntax"
   ]
  },
  {
   "cell_type": "code",
   "execution_count": 6,
   "id": "e48f2ef5",
   "metadata": {
    "execution": {
     "iopub.execute_input": "2025-07-28T19:41:24.999223Z",
     "iopub.status.busy": "2025-07-28T19:41:24.998043Z",
     "iopub.status.idle": "2025-07-28T19:41:25.008808Z",
     "shell.execute_reply": "2025-07-28T19:41:25.008302Z"
    },
    "tags": [
     "remove-input"
    ]
   },
   "outputs": [
    {
     "data": {
      "text/markdown": [
       "Below we will include syntax that may be helpful to other researchers in the UK LLC TRE. For longer scripts, we will include a snippet of the code plus a link to Git where you can find the full scripts."
      ],
      "text/plain": [
       "<IPython.core.display.Markdown object>"
      ]
     },
     "metadata": {},
     "output_type": "display_data"
    }
   ],
   "source": [
    "ds.useful_syntax()"
   ]
  }
 ],
 "metadata": {
  "language_info": {
   "codemirror_mode": {
    "name": "ipython",
    "version": 3
   },
   "file_extension": ".py",
   "mimetype": "text/x-python",
   "name": "python",
   "nbconvert_exporter": "python",
   "pygments_lexer": "ipython3",
   "version": "3.12.7"
  }
 },
 "nbformat": 4,
 "nbformat_minor": 5
}
