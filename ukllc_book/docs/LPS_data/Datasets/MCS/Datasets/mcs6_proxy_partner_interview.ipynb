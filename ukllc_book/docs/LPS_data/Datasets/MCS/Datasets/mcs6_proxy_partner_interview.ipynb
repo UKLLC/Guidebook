{
 "cells": [
  {
   "cell_type": "markdown",
   "id": "77d5ebb0",
   "metadata": {},
   "source": [
    "# MCS6 Proxy Partner Interview (MCS)"
   ]
  },
  {
   "cell_type": "code",
   "execution_count": 1,
   "id": "2a8c4ab2",
   "metadata": {
    "execution": {
     "iopub.execute_input": "2025-07-18T10:01:15.860108Z",
     "iopub.status.busy": "2025-07-18T10:01:15.860108Z",
     "iopub.status.idle": "2025-07-18T10:01:23.686036Z",
     "shell.execute_reply": "2025-07-18T10:01:23.684028Z"
    },
    "tags": [
     "remove-input"
    ]
   },
   "outputs": [
    {
     "data": {
      "text/markdown": [
       ">Last modified: 18 Jul 2025"
      ],
      "text/plain": [
       "<IPython.core.display.Markdown object>"
      ]
     },
     "metadata": {},
     "output_type": "display_data"
    }
   ],
   "source": [
    "\n",
    "import sys\n",
    "import os\n",
    "sys.path.append(os.path.abspath('../../../../scripts/'))\n",
    "from data_doc_helper import LPSDataSet as DS, last_modified\n",
    "API_KEY = os.environ['FASTAPI_KEY']\n",
    "ds = DS(\"MCS\", \"mcs6_proxy_partner_interview\")\n",
    "last_modified()\n"
   ]
  },
  {
   "cell_type": "markdown",
   "id": "bdd25a3f",
   "metadata": {},
   "source": [
    "## 1. Summary"
   ]
  },
  {
   "cell_type": "code",
   "execution_count": 2,
   "id": "a773af2e",
   "metadata": {
    "execution": {
     "iopub.execute_input": "2025-07-18T10:01:23.694036Z",
     "iopub.status.busy": "2025-07-18T10:01:23.693035Z",
     "iopub.status.idle": "2025-07-18T10:01:23.702156Z",
     "shell.execute_reply": "2025-07-18T10:01:23.701150Z"
    },
    "tags": [
     "remove-input"
    ]
   },
   "outputs": [
    {
     "data": {
      "text/markdown": [
       "This dataset contains responses from the main parent respondent about their partner, on topics including their health, height, weight, qualifications, employment and income at sweep 6"
      ],
      "text/plain": [
       "<IPython.core.display.Markdown object>"
      ]
     },
     "metadata": {},
     "output_type": "display_data"
    }
   ],
   "source": [
    "ds.summary()"
   ]
  },
  {
   "cell_type": "code",
   "execution_count": 3,
   "id": "838dba33",
   "metadata": {
    "execution": {
     "iopub.execute_input": "2025-07-18T10:01:23.709156Z",
     "iopub.status.busy": "2025-07-18T10:01:23.709156Z",
     "iopub.status.idle": "2025-07-18T10:01:24.783042Z",
     "shell.execute_reply": "2025-07-18T10:01:24.782033Z"
    },
    "tags": [
     "remove-input"
    ]
   },
   "outputs": [
    {
     "data": {
      "text/html": [
       "<style type=\"text/css\">\n",
       "#T_8b19d th {\n",
       "  text-align: left;\n",
       "}\n",
       "#T_8b19d_row0_col0, #T_8b19d_row0_col1, #T_8b19d_row1_col0, #T_8b19d_row1_col1, #T_8b19d_row2_col0, #T_8b19d_row2_col1, #T_8b19d_row3_col0, #T_8b19d_row3_col1, #T_8b19d_row4_col0, #T_8b19d_row4_col1, #T_8b19d_row5_col0, #T_8b19d_row5_col1, #T_8b19d_row6_col0, #T_8b19d_row6_col1, #T_8b19d_row7_col0, #T_8b19d_row7_col1, #T_8b19d_row8_col0, #T_8b19d_row8_col1, #T_8b19d_row9_col0, #T_8b19d_row9_col1, #T_8b19d_row10_col0, #T_8b19d_row10_col1, #T_8b19d_row11_col0, #T_8b19d_row11_col1, #T_8b19d_row12_col0, #T_8b19d_row12_col1 {\n",
       "  text-align: left;\n",
       "}\n",
       "</style>\n",
       "<table id=\"T_8b19d\" style=\"font-size: 14px\">\n",
       "  <thead>\n",
       "    <tr>\n",
       "      <th id=\"T_8b19d_level0_col0\" class=\"col_heading level0 col0\" >Dataset Descriptor</th>\n",
       "      <th id=\"T_8b19d_level0_col1\" class=\"col_heading level0 col1\" >Dataset-specific Information</th>\n",
       "    </tr>\n",
       "  </thead>\n",
       "  <tbody>\n",
       "    <tr>\n",
       "      <td id=\"T_8b19d_row0_col0\" class=\"data row0 col0\" >Name of Dataset in TRE</td>\n",
       "      <td id=\"T_8b19d_row0_col1\" class=\"data row0 col1\" >MCS_mcs6_proxy_partner_interview</td>\n",
       "    </tr>\n",
       "    <tr>\n",
       "      <td id=\"T_8b19d_row1_col0\" class=\"data row1 col0\" >Citation (APA)</td>\n",
       "      <td id=\"T_8b19d_row1_col1\" class=\"data row1 col1\" >University College London, UCL Social Research Institute, Centre for Longitudinal Studies. (2021). <i>Millennium Cohort Study (MCS): MCS6 Proxy Partner Interview.</i> UK Longitudinal Linkage Collaboration (UK LLC).  <a href=\"https://doi.org/10.83126/ukllc-dataset-00300-01\" rel=\"noopener noreferrer\" target=\"_blank\">https://doi.org/10.83126/ukllc-dataset-00300-01</a></td>\n",
       "    </tr>\n",
       "    <tr>\n",
       "      <td id=\"T_8b19d_row2_col0\" class=\"data row2 col0\" >Download Citation</td>\n",
       "      <td id=\"T_8b19d_row2_col1\" class=\"data row2 col1\" > <a href=\"https://api.test.datacite.org/application/vnd.citationstyles.csl+json/10.83126/ukllc-dataset-00300-01\" rel=\"noopener noreferrer\" target=\"_blank\">Citeproc JSON</a>&nbsp;&nbsp;&nbsp;&nbsp; <a href=\"https://api.test.datacite.org/application/x-bibtex/10.83126/ukllc-dataset-00300-01\" rel=\"noopener noreferrer\" target=\"_blank\">BibTeX</a>&nbsp;&nbsp;&nbsp;&nbsp; <a href=\"https://api.test.datacite.org/application/x-research-info-systems/10.83126/ukllc-dataset-00300-01\" rel=\"noopener noreferrer\" target=\"_blank\">RIS</a></td>\n",
       "    </tr>\n",
       "    <tr>\n",
       "      <td id=\"T_8b19d_row3_col0\" class=\"data row3 col0\" >Series</td>\n",
       "      <td id=\"T_8b19d_row3_col1\" class=\"data row3 col1\" > <a href=\"https://guidebook.ukllc.ac.uk/docs/lps/lps%20profiles/MCS\">Millennium Cohort Study (MCS)</a></td>\n",
       "    </tr>\n",
       "    <tr>\n",
       "      <td id=\"T_8b19d_row4_col0\" class=\"data row4 col0\" >Owner</td>\n",
       "      <td id=\"T_8b19d_row4_col1\" class=\"data row4 col1\" >UCL</td>\n",
       "    </tr>\n",
       "    <tr>\n",
       "      <td id=\"T_8b19d_row5_col0\" class=\"data row5 col0\" >Temporal Coverage</td>\n",
       "      <td id=\"T_8b19d_row5_col1\" class=\"data row5 col1\" >01/2015 - 03/2016</td>\n",
       "    </tr>\n",
       "    <tr>\n",
       "      <td id=\"T_8b19d_row6_col0\" class=\"data row6 col0\" >Keywords</td>\n",
       "      <td id=\"T_8b19d_row6_col1\" class=\"data row6 col1\" >Health,Education,Family life,Employment,Attitudes</td>\n",
       "    </tr>\n",
       "    <tr>\n",
       "      <td id=\"T_8b19d_row7_col0\" class=\"data row7 col0\" >Participants Invited</td>\n",
       "      <td id=\"T_8b19d_row7_col1\" class=\"data row7 col1\" >11726</td>\n",
       "    </tr>\n",
       "    <tr>\n",
       "      <td id=\"T_8b19d_row8_col0\" class=\"data row8 col0\" >Participant Count</td>\n",
       "      <td id=\"T_8b19d_row8_col1\" class=\"data row8 col1\" >150</td>\n",
       "    </tr>\n",
       "    <tr>\n",
       "      <td id=\"T_8b19d_row9_col0\" class=\"data row9 col0\" >Number of variables</td>\n",
       "      <td id=\"T_8b19d_row9_col1\" class=\"data row9 col1\" >310</td>\n",
       "    </tr>\n",
       "    <tr>\n",
       "      <td id=\"T_8b19d_row10_col0\" class=\"data row10 col0\" >Number of observations</td>\n",
       "      <td id=\"T_8b19d_row10_col1\" class=\"data row10 col1\" >334</td>\n",
       "    </tr>\n",
       "    <tr>\n",
       "      <td id=\"T_8b19d_row11_col0\" class=\"data row11 col0\" >Specific Restrictions to Data Use</td>\n",
       "      <td id=\"T_8b19d_row11_col1\" class=\"data row11 col1\" >None</td>\n",
       "    </tr>\n",
       "    <tr>\n",
       "      <td id=\"T_8b19d_row12_col0\" class=\"data row12 col0\" >Build a Data Request</td>\n",
       "      <td id=\"T_8b19d_row12_col1\" class=\"data row12 col1\" > <a href=\"https://explore.ukllc.ac.uk/\" rel=\"noopener noreferrer\" target=\"_blank\">https://explore.ukllc.ac.uk/</a></td>\n",
       "    </tr>\n",
       "  </tbody>\n",
       "</table>\n"
      ],
      "text/plain": [
       "<pandas.io.formats.style.Styler at 0x160629df170>"
      ]
     },
     "execution_count": 3,
     "metadata": {},
     "output_type": "execute_result"
    }
   ],
   "source": [
    "ds.info_table()"
   ]
  },
  {
   "cell_type": "markdown",
   "id": "e01fa9a6",
   "metadata": {},
   "source": [
    "## 2. Version History"
   ]
  },
  {
   "cell_type": "code",
   "execution_count": 4,
   "id": "a8df82dc",
   "metadata": {
    "execution": {
     "iopub.execute_input": "2025-07-18T10:01:24.790549Z",
     "iopub.status.busy": "2025-07-18T10:01:24.789042Z",
     "iopub.status.idle": "2025-07-18T10:01:27.351207Z",
     "shell.execute_reply": "2025-07-18T10:01:27.348209Z"
    },
    "tags": [
     "remove-input"
    ]
   },
   "outputs": [
    {
     "data": {
      "text/html": [
       "<style type=\"text/css\">\n",
       "#T_f035a th {\n",
       "  text-align: left;\n",
       "}\n",
       "#T_f035a_row0_col0, #T_f035a_row0_col1, #T_f035a_row1_col0, #T_f035a_row1_col1, #T_f035a_row2_col0, #T_f035a_row2_col1, #T_f035a_row3_col0, #T_f035a_row3_col1, #T_f035a_row4_col0, #T_f035a_row4_col1 {\n",
       "  text-align: left;\n",
       "}\n",
       "</style>\n",
       "<table id=\"T_f035a\" style=\"font-size: 14px\">\n",
       "  <thead>\n",
       "    <tr>\n",
       "      <th id=\"T_f035a_level0_col0\" class=\"col_heading level0 col0\" >Version</th>\n",
       "      <th id=\"T_f035a_level0_col1\" class=\"col_heading level0 col1\" >1</th>\n",
       "    </tr>\n",
       "  </thead>\n",
       "  <tbody>\n",
       "    <tr>\n",
       "      <td id=\"T_f035a_row0_col0\" class=\"data row0 col0\" >Version Date</td>\n",
       "      <td id=\"T_f035a_row0_col1\" class=\"data row0 col1\" >01 Nov 2021</td>\n",
       "    </tr>\n",
       "    <tr>\n",
       "      <td id=\"T_f035a_row1_col0\" class=\"data row1 col0\" >Number of Variables</td>\n",
       "      <td id=\"T_f035a_row1_col1\" class=\"data row1 col1\" >310</td>\n",
       "    </tr>\n",
       "    <tr>\n",
       "      <td id=\"T_f035a_row2_col0\" class=\"data row2 col0\" >Number of Observations</td>\n",
       "      <td id=\"T_f035a_row2_col1\" class=\"data row2 col1\" >334</td>\n",
       "    </tr>\n",
       "    <tr>\n",
       "      <td id=\"T_f035a_row3_col0\" class=\"data row3 col0\" >DOI</td>\n",
       "      <td id=\"T_f035a_row3_col1\" class=\"data row3 col1\" > <a href=\"https://doi.org/10.83126/ukllc-dataset-00300-01\" rel=\"noopener noreferrer\" target=\"_blank\">10.83126/ukllc-dataset-00300-01</a></td>\n",
       "    </tr>\n",
       "    <tr>\n",
       "      <td id=\"T_f035a_row4_col0\" class=\"data row4 col0\" >Change Log</td>\n",
       "      <td id=\"T_f035a_row4_col1\" class=\"data row4 col1\" > <a href=\"https://api.test.datacite.org/dois/10.83126/ukllc-dataset-00300-01/activities\" rel=\"noopener noreferrer\" target=\"_blank\">10.83126/ukllc-dataset-00300-01/activities</a></td>\n",
       "    </tr>\n",
       "  </tbody>\n",
       "</table>\n"
      ],
      "text/plain": [
       "<pandas.io.formats.style.Styler at 0x16064581310>"
      ]
     },
     "execution_count": 4,
     "metadata": {},
     "output_type": "execute_result"
    }
   ],
   "source": [
    "ds.version_history()"
   ]
  },
  {
   "cell_type": "markdown",
   "id": "4a178a45",
   "metadata": {},
   "source": [
    "## 3. Documentation"
   ]
  },
  {
   "cell_type": "code",
   "execution_count": 5,
   "id": "b55db136",
   "metadata": {
    "execution": {
     "iopub.execute_input": "2025-07-18T10:01:27.358209Z",
     "iopub.status.busy": "2025-07-18T10:01:27.358209Z",
     "iopub.status.idle": "2025-07-18T10:01:27.368370Z",
     "shell.execute_reply": "2025-07-18T10:01:27.366362Z"
    },
    "tags": [
     "remove-input"
    ]
   },
   "outputs": [
    {
     "data": {
      "text/markdown": [
       "We are currently building a documentation storage system which will host useful documents related to datasets and data owners. We will surface these documents on Guidebook."
      ],
      "text/plain": [
       "<IPython.core.display.Markdown object>"
      ]
     },
     "metadata": {},
     "output_type": "display_data"
    }
   ],
   "source": [
    "ds.documentation()"
   ]
  },
  {
   "cell_type": "markdown",
   "id": "de490554",
   "metadata": {},
   "source": [
    "## 4. Useful Syntax"
   ]
  },
  {
   "cell_type": "code",
   "execution_count": 6,
   "id": "5dbaed38",
   "metadata": {
    "execution": {
     "iopub.execute_input": "2025-07-18T10:01:27.373617Z",
     "iopub.status.busy": "2025-07-18T10:01:27.372629Z",
     "iopub.status.idle": "2025-07-18T10:01:27.382344Z",
     "shell.execute_reply": "2025-07-18T10:01:27.381106Z"
    },
    "tags": [
     "remove-input"
    ]
   },
   "outputs": [
    {
     "data": {
      "text/markdown": [
       "Below we will include syntax that may be helpful to other researchers in the UK LLC TRE. For longer scripts, we will include a snippet of the code plus a link to Git where you can find the full scripts."
      ],
      "text/plain": [
       "<IPython.core.display.Markdown object>"
      ]
     },
     "metadata": {},
     "output_type": "display_data"
    }
   ],
   "source": [
    "ds.useful_syntax()"
   ]
  }
 ],
 "metadata": {
  "language_info": {
   "codemirror_mode": {
    "name": "ipython",
    "version": 3
   },
   "file_extension": ".py",
   "mimetype": "text/x-python",
   "name": "python",
   "nbconvert_exporter": "python",
   "pygments_lexer": "ipython3",
   "version": "3.12.7"
  }
 },
 "nbformat": 4,
 "nbformat_minor": 5
}
