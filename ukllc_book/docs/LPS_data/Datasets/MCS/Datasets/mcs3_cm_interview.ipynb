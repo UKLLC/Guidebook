{
 "cells": [
  {
   "cell_type": "markdown",
   "id": "eda7f128",
   "metadata": {},
   "source": [
    "# MCS3 Cohort Member Interview (MCS)"
   ]
  },
  {
   "cell_type": "code",
   "execution_count": 1,
   "id": "e5ce1dd0",
   "metadata": {
    "execution": {
     "iopub.execute_input": "2025-07-18T09:51:48.857012Z",
     "iopub.status.busy": "2025-07-18T09:51:48.857012Z",
     "iopub.status.idle": "2025-07-18T09:51:55.610857Z",
     "shell.execute_reply": "2025-07-18T09:51:55.608851Z"
    },
    "tags": [
     "remove-input"
    ]
   },
   "outputs": [
    {
     "data": {
      "text/markdown": [
       ">Last modified: 18 Jul 2025"
      ],
      "text/plain": [
       "<IPython.core.display.Markdown object>"
      ]
     },
     "metadata": {},
     "output_type": "display_data"
    }
   ],
   "source": [
    "\n",
    "import sys\n",
    "import os\n",
    "sys.path.append(os.path.abspath('../../../../scripts/'))\n",
    "from data_doc_helper import LPSDataSet as DS, last_modified\n",
    "API_KEY = os.environ['FASTAPI_KEY']\n",
    "ds = DS(\"MCS\", \"mcs3_cm_interview\")\n",
    "last_modified()\n"
   ]
  },
  {
   "cell_type": "markdown",
   "id": "eb87be54",
   "metadata": {},
   "source": [
    "## 1. Summary"
   ]
  },
  {
   "cell_type": "code",
   "execution_count": 2,
   "id": "df4c0a18",
   "metadata": {
    "execution": {
     "iopub.execute_input": "2025-07-18T09:51:55.617857Z",
     "iopub.status.busy": "2025-07-18T09:51:55.616858Z",
     "iopub.status.idle": "2025-07-18T09:51:55.627161Z",
     "shell.execute_reply": "2025-07-18T09:51:55.626155Z"
    },
    "tags": [
     "remove-input"
    ]
   },
   "outputs": [
    {
     "data": {
      "text/markdown": [
       "This dataset contains the physical measurement variables relating to the cohort member. This includes height, weight and BMI, along with circumstances applicable to the measurements as observed by the interviewer. There is also a set of variables capturing whether consent was given for the child to take part in assessments and measurements, alongside the outcomes of these (completed, refused etc)."
      ],
      "text/plain": [
       "<IPython.core.display.Markdown object>"
      ]
     },
     "metadata": {},
     "output_type": "display_data"
    }
   ],
   "source": [
    "ds.summary()"
   ]
  },
  {
   "cell_type": "code",
   "execution_count": 3,
   "id": "0c18d676",
   "metadata": {
    "execution": {
     "iopub.execute_input": "2025-07-18T09:51:55.635162Z",
     "iopub.status.busy": "2025-07-18T09:51:55.634161Z",
     "iopub.status.idle": "2025-07-18T09:51:56.836133Z",
     "shell.execute_reply": "2025-07-18T09:51:56.834615Z"
    },
    "tags": [
     "remove-input"
    ]
   },
   "outputs": [
    {
     "data": {
      "text/html": [
       "<style type=\"text/css\">\n",
       "#T_9ff6c th {\n",
       "  text-align: left;\n",
       "}\n",
       "#T_9ff6c_row0_col0, #T_9ff6c_row0_col1, #T_9ff6c_row1_col0, #T_9ff6c_row1_col1, #T_9ff6c_row2_col0, #T_9ff6c_row2_col1, #T_9ff6c_row3_col0, #T_9ff6c_row3_col1, #T_9ff6c_row4_col0, #T_9ff6c_row4_col1, #T_9ff6c_row5_col0, #T_9ff6c_row5_col1, #T_9ff6c_row6_col0, #T_9ff6c_row6_col1, #T_9ff6c_row7_col0, #T_9ff6c_row7_col1, #T_9ff6c_row8_col0, #T_9ff6c_row8_col1, #T_9ff6c_row9_col0, #T_9ff6c_row9_col1, #T_9ff6c_row10_col0, #T_9ff6c_row10_col1, #T_9ff6c_row11_col0, #T_9ff6c_row11_col1, #T_9ff6c_row12_col0, #T_9ff6c_row12_col1 {\n",
       "  text-align: left;\n",
       "}\n",
       "</style>\n",
       "<table id=\"T_9ff6c\" style=\"font-size: 14px\">\n",
       "  <thead>\n",
       "    <tr>\n",
       "      <th id=\"T_9ff6c_level0_col0\" class=\"col_heading level0 col0\" >Dataset Descriptor</th>\n",
       "      <th id=\"T_9ff6c_level0_col1\" class=\"col_heading level0 col1\" >Dataset-specific Information</th>\n",
       "    </tr>\n",
       "  </thead>\n",
       "  <tbody>\n",
       "    <tr>\n",
       "      <td id=\"T_9ff6c_row0_col0\" class=\"data row0 col0\" >Name of Dataset in TRE</td>\n",
       "      <td id=\"T_9ff6c_row0_col1\" class=\"data row0 col1\" >MCS_mcs3_cm_interview</td>\n",
       "    </tr>\n",
       "    <tr>\n",
       "      <td id=\"T_9ff6c_row1_col0\" class=\"data row1 col0\" >Citation (APA)</td>\n",
       "      <td id=\"T_9ff6c_row1_col1\" class=\"data row1 col1\" >University College London, UCL Social Research Institute, Centre for Longitudinal Studies. (2021). <i>Millennium Cohort Study (MCS): MCS3 Cohort Member Interview.</i> UK Longitudinal Linkage Collaboration (UK LLC).  <a href=\"https://doi.org/10.83126/ukllc-dataset-00262-01\" rel=\"noopener noreferrer\" target=\"_blank\">https://doi.org/10.83126/ukllc-dataset-00262-01</a></td>\n",
       "    </tr>\n",
       "    <tr>\n",
       "      <td id=\"T_9ff6c_row2_col0\" class=\"data row2 col0\" >Download Citation</td>\n",
       "      <td id=\"T_9ff6c_row2_col1\" class=\"data row2 col1\" > <a href=\"https://api.test.datacite.org/application/vnd.citationstyles.csl+json/10.83126/ukllc-dataset-00262-01\" rel=\"noopener noreferrer\" target=\"_blank\">Citeproc JSON</a>&nbsp;&nbsp;&nbsp;&nbsp; <a href=\"https://api.test.datacite.org/application/x-bibtex/10.83126/ukllc-dataset-00262-01\" rel=\"noopener noreferrer\" target=\"_blank\">BibTeX</a>&nbsp;&nbsp;&nbsp;&nbsp; <a href=\"https://api.test.datacite.org/application/x-research-info-systems/10.83126/ukllc-dataset-00262-01\" rel=\"noopener noreferrer\" target=\"_blank\">RIS</a></td>\n",
       "    </tr>\n",
       "    <tr>\n",
       "      <td id=\"T_9ff6c_row3_col0\" class=\"data row3 col0\" >Series</td>\n",
       "      <td id=\"T_9ff6c_row3_col1\" class=\"data row3 col1\" > <a href=\"https://guidebook.ukllc.ac.uk/docs/lps/lps%20profiles/MCS\">Millennium Cohort Study (MCS)</a></td>\n",
       "    </tr>\n",
       "    <tr>\n",
       "      <td id=\"T_9ff6c_row4_col0\" class=\"data row4 col0\" >Owner</td>\n",
       "      <td id=\"T_9ff6c_row4_col1\" class=\"data row4 col1\" >UCL</td>\n",
       "    </tr>\n",
       "    <tr>\n",
       "      <td id=\"T_9ff6c_row5_col0\" class=\"data row5 col0\" >Temporal Coverage</td>\n",
       "      <td id=\"T_9ff6c_row5_col1\" class=\"data row5 col1\" >01/2006 - 12/2006</td>\n",
       "    </tr>\n",
       "    <tr>\n",
       "      <td id=\"T_9ff6c_row6_col0\" class=\"data row6 col0\" >Keywords</td>\n",
       "      <td id=\"T_9ff6c_row6_col1\" class=\"data row6 col1\" >Family Life,Health,employment,attitudes,Social mobility</td>\n",
       "    </tr>\n",
       "    <tr>\n",
       "      <td id=\"T_9ff6c_row7_col0\" class=\"data row7 col0\" >Participants Invited</td>\n",
       "      <td id=\"T_9ff6c_row7_col1\" class=\"data row7 col1\" >15246</td>\n",
       "    </tr>\n",
       "    <tr>\n",
       "      <td id=\"T_9ff6c_row8_col0\" class=\"data row8 col0\" >Participant Count</td>\n",
       "      <td id=\"T_9ff6c_row8_col1\" class=\"data row8 col1\" >9108</td>\n",
       "    </tr>\n",
       "    <tr>\n",
       "      <td id=\"T_9ff6c_row9_col0\" class=\"data row9 col0\" >Number of variables</td>\n",
       "      <td id=\"T_9ff6c_row9_col1\" class=\"data row9 col1\" >115</td>\n",
       "    </tr>\n",
       "    <tr>\n",
       "      <td id=\"T_9ff6c_row10_col0\" class=\"data row10 col0\" >Number of observations</td>\n",
       "      <td id=\"T_9ff6c_row10_col1\" class=\"data row10 col1\" >15431</td>\n",
       "    </tr>\n",
       "    <tr>\n",
       "      <td id=\"T_9ff6c_row11_col0\" class=\"data row11 col0\" >Specific Restrictions to Data Use</td>\n",
       "      <td id=\"T_9ff6c_row11_col1\" class=\"data row11 col1\" >None</td>\n",
       "    </tr>\n",
       "    <tr>\n",
       "      <td id=\"T_9ff6c_row12_col0\" class=\"data row12 col0\" >Build a Data Request</td>\n",
       "      <td id=\"T_9ff6c_row12_col1\" class=\"data row12 col1\" > <a href=\"https://explore.ukllc.ac.uk/\" rel=\"noopener noreferrer\" target=\"_blank\">https://explore.ukllc.ac.uk/</a></td>\n",
       "    </tr>\n",
       "  </tbody>\n",
       "</table>\n"
      ],
      "text/plain": [
       "<pandas.io.formats.style.Styler at 0x268412d3110>"
      ]
     },
     "execution_count": 3,
     "metadata": {},
     "output_type": "execute_result"
    }
   ],
   "source": [
    "ds.info_table()"
   ]
  },
  {
   "cell_type": "markdown",
   "id": "9b180763",
   "metadata": {},
   "source": [
    "## 2. Version History"
   ]
  },
  {
   "cell_type": "code",
   "execution_count": 4,
   "id": "57a336b9",
   "metadata": {
    "execution": {
     "iopub.execute_input": "2025-07-18T09:51:56.842129Z",
     "iopub.status.busy": "2025-07-18T09:51:56.842129Z",
     "iopub.status.idle": "2025-07-18T09:51:59.987578Z",
     "shell.execute_reply": "2025-07-18T09:51:59.987578Z"
    },
    "tags": [
     "remove-input"
    ]
   },
   "outputs": [
    {
     "data": {
      "text/html": [
       "<style type=\"text/css\">\n",
       "#T_889a7 th {\n",
       "  text-align: left;\n",
       "}\n",
       "#T_889a7_row0_col0, #T_889a7_row0_col1, #T_889a7_row1_col0, #T_889a7_row1_col1, #T_889a7_row2_col0, #T_889a7_row2_col1, #T_889a7_row3_col0, #T_889a7_row3_col1, #T_889a7_row4_col0, #T_889a7_row4_col1 {\n",
       "  text-align: left;\n",
       "}\n",
       "</style>\n",
       "<table id=\"T_889a7\" style=\"font-size: 14px\">\n",
       "  <thead>\n",
       "    <tr>\n",
       "      <th id=\"T_889a7_level0_col0\" class=\"col_heading level0 col0\" >Version</th>\n",
       "      <th id=\"T_889a7_level0_col1\" class=\"col_heading level0 col1\" >1</th>\n",
       "    </tr>\n",
       "  </thead>\n",
       "  <tbody>\n",
       "    <tr>\n",
       "      <td id=\"T_889a7_row0_col0\" class=\"data row0 col0\" >Version Date</td>\n",
       "      <td id=\"T_889a7_row0_col1\" class=\"data row0 col1\" >01 Nov 2021</td>\n",
       "    </tr>\n",
       "    <tr>\n",
       "      <td id=\"T_889a7_row1_col0\" class=\"data row1 col0\" >Number of Variables</td>\n",
       "      <td id=\"T_889a7_row1_col1\" class=\"data row1 col1\" >115</td>\n",
       "    </tr>\n",
       "    <tr>\n",
       "      <td id=\"T_889a7_row2_col0\" class=\"data row2 col0\" >Number of Observations</td>\n",
       "      <td id=\"T_889a7_row2_col1\" class=\"data row2 col1\" >15431</td>\n",
       "    </tr>\n",
       "    <tr>\n",
       "      <td id=\"T_889a7_row3_col0\" class=\"data row3 col0\" >DOI</td>\n",
       "      <td id=\"T_889a7_row3_col1\" class=\"data row3 col1\" > <a href=\"https://doi.org/10.83126/ukllc-dataset-00262-01\" rel=\"noopener noreferrer\" target=\"_blank\">10.83126/ukllc-dataset-00262-01</a></td>\n",
       "    </tr>\n",
       "    <tr>\n",
       "      <td id=\"T_889a7_row4_col0\" class=\"data row4 col0\" >Change Log</td>\n",
       "      <td id=\"T_889a7_row4_col1\" class=\"data row4 col1\" > <a href=\"https://api.test.datacite.org/dois/10.83126/ukllc-dataset-00262-01/activities\" rel=\"noopener noreferrer\" target=\"_blank\">10.83126/ukllc-dataset-00262-01/activities</a></td>\n",
       "    </tr>\n",
       "  </tbody>\n",
       "</table>\n"
      ],
      "text/plain": [
       "<pandas.io.formats.style.Styler at 0x26846d5aa20>"
      ]
     },
     "execution_count": 4,
     "metadata": {},
     "output_type": "execute_result"
    }
   ],
   "source": [
    "ds.version_history()"
   ]
  },
  {
   "cell_type": "markdown",
   "id": "4dd2477c",
   "metadata": {},
   "source": [
    "## 3. Documentation"
   ]
  },
  {
   "cell_type": "code",
   "execution_count": 5,
   "id": "96eeb04c",
   "metadata": {
    "execution": {
     "iopub.execute_input": "2025-07-18T09:51:59.994005Z",
     "iopub.status.busy": "2025-07-18T09:51:59.994005Z",
     "iopub.status.idle": "2025-07-18T09:52:00.002964Z",
     "shell.execute_reply": "2025-07-18T09:52:00.002516Z"
    },
    "tags": [
     "remove-input"
    ]
   },
   "outputs": [
    {
     "data": {
      "text/markdown": [
       "We are currently building a documentation storage system which will host useful documents related to datasets and data owners. We will surface these documents on Guidebook."
      ],
      "text/plain": [
       "<IPython.core.display.Markdown object>"
      ]
     },
     "metadata": {},
     "output_type": "display_data"
    }
   ],
   "source": [
    "ds.documentation()"
   ]
  },
  {
   "cell_type": "markdown",
   "id": "278c45b1",
   "metadata": {},
   "source": [
    "## 4. Useful Syntax"
   ]
  },
  {
   "cell_type": "code",
   "execution_count": 6,
   "id": "fb0e0e19",
   "metadata": {
    "execution": {
     "iopub.execute_input": "2025-07-18T09:52:00.006979Z",
     "iopub.status.busy": "2025-07-18T09:52:00.006979Z",
     "iopub.status.idle": "2025-07-18T09:52:00.011804Z",
     "shell.execute_reply": "2025-07-18T09:52:00.010794Z"
    },
    "tags": [
     "remove-input"
    ]
   },
   "outputs": [
    {
     "data": {
      "text/markdown": [
       "Below we will include syntax that may be helpful to other researchers in the UK LLC TRE. For longer scripts, we will include a snippet of the code plus a link to Git where you can find the full scripts."
      ],
      "text/plain": [
       "<IPython.core.display.Markdown object>"
      ]
     },
     "metadata": {},
     "output_type": "display_data"
    }
   ],
   "source": [
    "ds.useful_syntax()"
   ]
  }
 ],
 "metadata": {
  "language_info": {
   "codemirror_mode": {
    "name": "ipython",
    "version": 3
   },
   "file_extension": ".py",
   "mimetype": "text/x-python",
   "name": "python",
   "nbconvert_exporter": "python",
   "pygments_lexer": "ipython3",
   "version": "3.12.7"
  }
 },
 "nbformat": 4,
 "nbformat_minor": 5
}
