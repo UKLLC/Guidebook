{
 "cells": [
  {
   "cell_type": "markdown",
   "id": "5a948b11",
   "metadata": {},
   "source": [
    "# MCS3 Cohort Member Derived (MCS)"
   ]
  },
  {
   "cell_type": "code",
   "execution_count": 1,
   "id": "428154fc",
   "metadata": {
    "execution": {
     "iopub.execute_input": "2025-07-28T19:22:47.276991Z",
     "iopub.status.busy": "2025-07-28T19:22:47.276991Z",
     "iopub.status.idle": "2025-07-28T19:23:00.669750Z",
     "shell.execute_reply": "2025-07-28T19:23:00.667735Z"
    },
    "tags": [
     "remove-input"
    ]
   },
   "outputs": [
    {
     "data": {
      "text/markdown": [
       ">Last modified: 28 Jul 2025"
      ],
      "text/plain": [
       "<IPython.core.display.Markdown object>"
      ]
     },
     "metadata": {},
     "output_type": "display_data"
    }
   ],
   "source": [
    "\n",
    "import sys\n",
    "import os\n",
    "sys.path.append(os.path.abspath('../../../../scripts/'))\n",
    "from data_doc_helper import LPSDataSet as DS, last_modified\n",
    "API_KEY = os.environ['FASTAPI_KEY']\n",
    "ds = DS(\"MCS\", \"mcs3_cm_derived\")\n",
    "last_modified()\n"
   ]
  },
  {
   "cell_type": "markdown",
   "id": "e4e7a12a",
   "metadata": {},
   "source": [
    "## 1. Summary"
   ]
  },
  {
   "cell_type": "code",
   "execution_count": 2,
   "id": "b9334edf",
   "metadata": {
    "execution": {
     "iopub.execute_input": "2025-07-28T19:23:00.677752Z",
     "iopub.status.busy": "2025-07-28T19:23:00.676756Z",
     "iopub.status.idle": "2025-07-28T19:23:00.690290Z",
     "shell.execute_reply": "2025-07-28T19:23:00.688752Z"
    },
    "tags": [
     "remove-input"
    ]
   },
   "outputs": [
    {
     "data": {
      "text/markdown": [
       "This dataset contains derived variables relating to the cohort child including ethnic group categories, scores for the Parent-reported Child SDQ and Child Social Behaviour Questionnaire scales. "
      ],
      "text/plain": [
       "<IPython.core.display.Markdown object>"
      ]
     },
     "metadata": {},
     "output_type": "display_data"
    }
   ],
   "source": [
    "ds.summary()"
   ]
  },
  {
   "cell_type": "code",
   "execution_count": 3,
   "id": "a2deb654",
   "metadata": {
    "execution": {
     "iopub.execute_input": "2025-07-28T19:23:00.696568Z",
     "iopub.status.busy": "2025-07-28T19:23:00.695569Z",
     "iopub.status.idle": "2025-07-28T19:23:02.417857Z",
     "shell.execute_reply": "2025-07-28T19:23:02.415840Z"
    },
    "tags": [
     "remove-input"
    ]
   },
   "outputs": [
    {
     "data": {
      "text/html": [
       "<style type=\"text/css\">\n",
       "#T_5d407 th {\n",
       "  text-align: left;\n",
       "}\n",
       "#T_5d407_row0_col0, #T_5d407_row0_col1, #T_5d407_row1_col0, #T_5d407_row1_col1, #T_5d407_row2_col0, #T_5d407_row2_col1, #T_5d407_row3_col0, #T_5d407_row3_col1, #T_5d407_row4_col0, #T_5d407_row4_col1, #T_5d407_row5_col0, #T_5d407_row5_col1, #T_5d407_row6_col0, #T_5d407_row6_col1, #T_5d407_row7_col0, #T_5d407_row7_col1, #T_5d407_row8_col0, #T_5d407_row8_col1, #T_5d407_row9_col0, #T_5d407_row9_col1, #T_5d407_row10_col0, #T_5d407_row10_col1, #T_5d407_row11_col0, #T_5d407_row11_col1, #T_5d407_row12_col0, #T_5d407_row12_col1 {\n",
       "  text-align: left;\n",
       "}\n",
       "</style>\n",
       "<table id=\"T_5d407\" style=\"font-size: 14px\">\n",
       "  <thead>\n",
       "    <tr>\n",
       "      <th id=\"T_5d407_level0_col0\" class=\"col_heading level0 col0\" >Dataset Descriptor</th>\n",
       "      <th id=\"T_5d407_level0_col1\" class=\"col_heading level0 col1\" >Dataset-specific Information</th>\n",
       "    </tr>\n",
       "  </thead>\n",
       "  <tbody>\n",
       "    <tr>\n",
       "      <td id=\"T_5d407_row0_col0\" class=\"data row0 col0\" >Name of Dataset in TRE</td>\n",
       "      <td id=\"T_5d407_row0_col1\" class=\"data row0 col1\" >MCS_mcs3_cm_derived</td>\n",
       "    </tr>\n",
       "    <tr>\n",
       "      <td id=\"T_5d407_row1_col0\" class=\"data row1 col0\" >Citation (APA)</td>\n",
       "      <td id=\"T_5d407_row1_col1\" class=\"data row1 col1\" >University College London, UCL Social Research Institute, Centre for Longitudinal Studies. (2021). <i>Millennium Cohort Study (MCS): MCS3 Cohort Member Derived.</i> UK Longitudinal Linkage Collaboration (UK LLC).  <a href=\"https://doi.org/10.71760/ukllc-dataset-00182-01\" rel=\"noopener noreferrer\" target=\"_blank\">https://doi.org/10.71760/ukllc-dataset-00182-01</a></td>\n",
       "    </tr>\n",
       "    <tr>\n",
       "      <td id=\"T_5d407_row2_col0\" class=\"data row2 col0\" >Download Citation</td>\n",
       "      <td id=\"T_5d407_row2_col1\" class=\"data row2 col1\" > <a href=\"https://api.datacite.org/application/vnd.citationstyles.csl+json/10.71760/ukllc-dataset-00182-01\" rel=\"noopener noreferrer\" target=\"_blank\">Citeproc JSON</a>&nbsp;&nbsp;&nbsp;&nbsp; <a href=\"https://api.datacite.org/application/x-bibtex/10.71760/ukllc-dataset-00182-01\" rel=\"noopener noreferrer\" target=\"_blank\">BibTeX</a>&nbsp;&nbsp;&nbsp;&nbsp; <a href=\"https://api.datacite.org/application/x-research-info-systems/10.71760/ukllc-dataset-00182-01\" rel=\"noopener noreferrer\" target=\"_blank\">RIS</a></td>\n",
       "    </tr>\n",
       "    <tr>\n",
       "      <td id=\"T_5d407_row3_col0\" class=\"data row3 col0\" >Series</td>\n",
       "      <td id=\"T_5d407_row3_col1\" class=\"data row3 col1\" > <a href=\"https://guidebook.ukllc.ac.uk/docs/lps_data/lps%20profiles/MCS\">Millennium Cohort Study (MCS)</a></td>\n",
       "    </tr>\n",
       "    <tr>\n",
       "      <td id=\"T_5d407_row4_col0\" class=\"data row4 col0\" >Owner</td>\n",
       "      <td id=\"T_5d407_row4_col1\" class=\"data row4 col1\" >UCL</td>\n",
       "    </tr>\n",
       "    <tr>\n",
       "      <td id=\"T_5d407_row5_col0\" class=\"data row5 col0\" >Temporal Coverage</td>\n",
       "      <td id=\"T_5d407_row5_col1\" class=\"data row5 col1\" >01/2006 - 12/2006</td>\n",
       "    </tr>\n",
       "    <tr>\n",
       "      <td id=\"T_5d407_row6_col0\" class=\"data row6 col0\" >Keywords</td>\n",
       "      <td id=\"T_5d407_row6_col1\" class=\"data row6 col1\" >Family Life,Health,employment,attitudes,Social mobility</td>\n",
       "    </tr>\n",
       "    <tr>\n",
       "      <td id=\"T_5d407_row7_col0\" class=\"data row7 col0\" >Participants Invited</td>\n",
       "      <td id=\"T_5d407_row7_col1\" class=\"data row7 col1\" >15246</td>\n",
       "    </tr>\n",
       "    <tr>\n",
       "      <td id=\"T_5d407_row8_col0\" class=\"data row8 col0\" >Participant Count</td>\n",
       "      <td id=\"T_5d407_row8_col1\" class=\"data row8 col1\" >9108</td>\n",
       "    </tr>\n",
       "    <tr>\n",
       "      <td id=\"T_5d407_row9_col0\" class=\"data row9 col0\" >Number of variables</td>\n",
       "      <td id=\"T_5d407_row9_col1\" class=\"data row9 col1\" >18</td>\n",
       "    </tr>\n",
       "    <tr>\n",
       "      <td id=\"T_5d407_row10_col0\" class=\"data row10 col0\" >Number of observations</td>\n",
       "      <td id=\"T_5d407_row10_col1\" class=\"data row10 col1\" >15431</td>\n",
       "    </tr>\n",
       "    <tr>\n",
       "      <td id=\"T_5d407_row11_col0\" class=\"data row11 col0\" >Specific Restrictions to Data Use</td>\n",
       "      <td id=\"T_5d407_row11_col1\" class=\"data row11 col1\" >None</td>\n",
       "    </tr>\n",
       "    <tr>\n",
       "      <td id=\"T_5d407_row12_col0\" class=\"data row12 col0\" >Build a Data Request</td>\n",
       "      <td id=\"T_5d407_row12_col1\" class=\"data row12 col1\" > <a href=\"https://explore.ukllc.ac.uk/\" rel=\"noopener noreferrer\" target=\"_blank\">https://explore.ukllc.ac.uk/</a></td>\n",
       "    </tr>\n",
       "  </tbody>\n",
       "</table>\n"
      ],
      "text/plain": [
       "<pandas.io.formats.style.Styler at 0x22581a97aa0>"
      ]
     },
     "execution_count": 3,
     "metadata": {},
     "output_type": "execute_result"
    }
   ],
   "source": [
    "ds.info_table()"
   ]
  },
  {
   "cell_type": "markdown",
   "id": "5392af16",
   "metadata": {},
   "source": [
    "## 2. Version History"
   ]
  },
  {
   "cell_type": "code",
   "execution_count": 4,
   "id": "d6ac02e5",
   "metadata": {
    "execution": {
     "iopub.execute_input": "2025-07-28T19:23:02.427075Z",
     "iopub.status.busy": "2025-07-28T19:23:02.426076Z",
     "iopub.status.idle": "2025-07-28T19:23:10.180141Z",
     "shell.execute_reply": "2025-07-28T19:23:10.177116Z"
    },
    "tags": [
     "remove-input"
    ]
   },
   "outputs": [
    {
     "data": {
      "text/html": [
       "<style type=\"text/css\">\n",
       "#T_65072 th {\n",
       "  text-align: left;\n",
       "}\n",
       "#T_65072_row0_col0, #T_65072_row0_col1, #T_65072_row1_col0, #T_65072_row1_col1, #T_65072_row2_col0, #T_65072_row2_col1, #T_65072_row3_col0, #T_65072_row3_col1, #T_65072_row4_col0, #T_65072_row4_col1 {\n",
       "  text-align: left;\n",
       "}\n",
       "</style>\n",
       "<table id=\"T_65072\" style=\"font-size: 14px\">\n",
       "  <thead>\n",
       "    <tr>\n",
       "      <th id=\"T_65072_level0_col0\" class=\"col_heading level0 col0\" >Version</th>\n",
       "      <th id=\"T_65072_level0_col1\" class=\"col_heading level0 col1\" >1</th>\n",
       "    </tr>\n",
       "  </thead>\n",
       "  <tbody>\n",
       "    <tr>\n",
       "      <td id=\"T_65072_row0_col0\" class=\"data row0 col0\" >Version Date</td>\n",
       "      <td id=\"T_65072_row0_col1\" class=\"data row0 col1\" >01 Nov 2021</td>\n",
       "    </tr>\n",
       "    <tr>\n",
       "      <td id=\"T_65072_row1_col0\" class=\"data row1 col0\" >Number of Variables</td>\n",
       "      <td id=\"T_65072_row1_col1\" class=\"data row1 col1\" >18</td>\n",
       "    </tr>\n",
       "    <tr>\n",
       "      <td id=\"T_65072_row2_col0\" class=\"data row2 col0\" >Number of Observations</td>\n",
       "      <td id=\"T_65072_row2_col1\" class=\"data row2 col1\" >15431</td>\n",
       "    </tr>\n",
       "    <tr>\n",
       "      <td id=\"T_65072_row3_col0\" class=\"data row3 col0\" >DOI</td>\n",
       "      <td id=\"T_65072_row3_col1\" class=\"data row3 col1\" > <a href=\"https://doi.org/10.71760/ukllc-dataset-00182-01\" rel=\"noopener noreferrer\" target=\"_blank\">10.71760/ukllc-dataset-00182-01</a></td>\n",
       "    </tr>\n",
       "    <tr>\n",
       "      <td id=\"T_65072_row4_col0\" class=\"data row4 col0\" >Change Log</td>\n",
       "      <td id=\"T_65072_row4_col1\" class=\"data row4 col1\" > <a href=\"https://api.test.datacite.org/dois/10.71760/ukllc-dataset-00182-01/activities\" rel=\"noopener noreferrer\" target=\"_blank\">10.71760/ukllc-dataset-00182-01/activities</a></td>\n",
       "    </tr>\n",
       "  </tbody>\n",
       "</table>\n"
      ],
      "text/plain": [
       "<pandas.io.formats.style.Styler at 0x225833c95b0>"
      ]
     },
     "execution_count": 4,
     "metadata": {},
     "output_type": "execute_result"
    }
   ],
   "source": [
    "ds.version_history()"
   ]
  },
  {
   "cell_type": "markdown",
   "id": "61a13d3f",
   "metadata": {},
   "source": [
    "## 3. Documentation"
   ]
  },
  {
   "cell_type": "code",
   "execution_count": 5,
   "id": "aa091b7a",
   "metadata": {
    "execution": {
     "iopub.execute_input": "2025-07-28T19:23:10.188134Z",
     "iopub.status.busy": "2025-07-28T19:23:10.188134Z",
     "iopub.status.idle": "2025-07-28T19:23:10.203131Z",
     "shell.execute_reply": "2025-07-28T19:23:10.201602Z"
    },
    "tags": [
     "remove-input"
    ]
   },
   "outputs": [
    {
     "data": {
      "text/markdown": [
       "We are currently building a documentation storage system which will host useful documents related to datasets and data owners. We will surface these documents on Guidebook."
      ],
      "text/plain": [
       "<IPython.core.display.Markdown object>"
      ]
     },
     "metadata": {},
     "output_type": "display_data"
    }
   ],
   "source": [
    "ds.documentation()"
   ]
  },
  {
   "cell_type": "markdown",
   "id": "db7ce0f9",
   "metadata": {},
   "source": [
    "## 4. Useful Syntax"
   ]
  },
  {
   "cell_type": "code",
   "execution_count": 6,
   "id": "6fe5247b",
   "metadata": {
    "execution": {
     "iopub.execute_input": "2025-07-28T19:23:10.210559Z",
     "iopub.status.busy": "2025-07-28T19:23:10.208539Z",
     "iopub.status.idle": "2025-07-28T19:23:10.222342Z",
     "shell.execute_reply": "2025-07-28T19:23:10.220326Z"
    },
    "tags": [
     "remove-input"
    ]
   },
   "outputs": [
    {
     "data": {
      "text/markdown": [
       "Below we will include syntax that may be helpful to other researchers in the UK LLC TRE. For longer scripts, we will include a snippet of the code plus a link to Git where you can find the full scripts."
      ],
      "text/plain": [
       "<IPython.core.display.Markdown object>"
      ]
     },
     "metadata": {},
     "output_type": "display_data"
    }
   ],
   "source": [
    "ds.useful_syntax()"
   ]
  }
 ],
 "metadata": {
  "language_info": {
   "codemirror_mode": {
    "name": "ipython",
    "version": 3
   },
   "file_extension": ".py",
   "mimetype": "text/x-python",
   "name": "python",
   "nbconvert_exporter": "python",
   "pygments_lexer": "ipython3",
   "version": "3.12.7"
  }
 },
 "nbformat": 4,
 "nbformat_minor": 5
}
