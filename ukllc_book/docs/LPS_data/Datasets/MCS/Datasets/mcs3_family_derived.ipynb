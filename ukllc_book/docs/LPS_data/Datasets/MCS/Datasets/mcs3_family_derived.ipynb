{
 "cells": [
  {
   "cell_type": "markdown",
   "id": "0686879e",
   "metadata": {},
   "source": [
    "# MCS3 Family Derived (MCS)"
   ]
  },
  {
   "cell_type": "code",
   "execution_count": 1,
   "id": "51946435",
   "metadata": {
    "execution": {
     "iopub.execute_input": "2025-07-18T09:52:21.801104Z",
     "iopub.status.busy": "2025-07-18T09:52:21.801104Z",
     "iopub.status.idle": "2025-07-18T09:52:28.602279Z",
     "shell.execute_reply": "2025-07-18T09:52:28.600175Z"
    },
    "tags": [
     "remove-input"
    ]
   },
   "outputs": [
    {
     "data": {
      "text/markdown": [
       ">Last modified: 18 Jul 2025"
      ],
      "text/plain": [
       "<IPython.core.display.Markdown object>"
      ]
     },
     "metadata": {},
     "output_type": "display_data"
    }
   ],
   "source": [
    "\n",
    "import sys\n",
    "import os\n",
    "sys.path.append(os.path.abspath('../../../../scripts/'))\n",
    "from data_doc_helper import LPSDataSet as DS, last_modified\n",
    "API_KEY = os.environ['FASTAPI_KEY']\n",
    "ds = DS(\"MCS\", \"mcs3_family_derived\")\n",
    "last_modified()\n"
   ]
  },
  {
   "cell_type": "markdown",
   "id": "985d7d89",
   "metadata": {},
   "source": [
    "## 1. Summary"
   ]
  },
  {
   "cell_type": "code",
   "execution_count": 2,
   "id": "870a90d8",
   "metadata": {
    "execution": {
     "iopub.execute_input": "2025-07-18T09:52:28.608292Z",
     "iopub.status.busy": "2025-07-18T09:52:28.607293Z",
     "iopub.status.idle": "2025-07-18T09:52:28.618438Z",
     "shell.execute_reply": "2025-07-18T09:52:28.617427Z"
    },
    "tags": [
     "remove-input"
    ]
   },
   "outputs": [
    {
     "data": {
      "text/markdown": [
       "This dataset contains variables relating to household composition, banded household income, OECD Equivalised income, housing tenure and other family level information at sweep 3"
      ],
      "text/plain": [
       "<IPython.core.display.Markdown object>"
      ]
     },
     "metadata": {},
     "output_type": "display_data"
    }
   ],
   "source": [
    "ds.summary()"
   ]
  },
  {
   "cell_type": "code",
   "execution_count": 3,
   "id": "e7deb5cb",
   "metadata": {
    "execution": {
     "iopub.execute_input": "2025-07-18T09:52:28.625435Z",
     "iopub.status.busy": "2025-07-18T09:52:28.624435Z",
     "iopub.status.idle": "2025-07-18T09:52:29.752843Z",
     "shell.execute_reply": "2025-07-18T09:52:29.751835Z"
    },
    "tags": [
     "remove-input"
    ]
   },
   "outputs": [
    {
     "data": {
      "text/html": [
       "<style type=\"text/css\">\n",
       "#T_aff1c th {\n",
       "  text-align: left;\n",
       "}\n",
       "#T_aff1c_row0_col0, #T_aff1c_row0_col1, #T_aff1c_row1_col0, #T_aff1c_row1_col1, #T_aff1c_row2_col0, #T_aff1c_row2_col1, #T_aff1c_row3_col0, #T_aff1c_row3_col1, #T_aff1c_row4_col0, #T_aff1c_row4_col1, #T_aff1c_row5_col0, #T_aff1c_row5_col1, #T_aff1c_row6_col0, #T_aff1c_row6_col1, #T_aff1c_row7_col0, #T_aff1c_row7_col1, #T_aff1c_row8_col0, #T_aff1c_row8_col1, #T_aff1c_row9_col0, #T_aff1c_row9_col1, #T_aff1c_row10_col0, #T_aff1c_row10_col1, #T_aff1c_row11_col0, #T_aff1c_row11_col1, #T_aff1c_row12_col0, #T_aff1c_row12_col1 {\n",
       "  text-align: left;\n",
       "}\n",
       "</style>\n",
       "<table id=\"T_aff1c\" style=\"font-size: 14px\">\n",
       "  <thead>\n",
       "    <tr>\n",
       "      <th id=\"T_aff1c_level0_col0\" class=\"col_heading level0 col0\" >Dataset Descriptor</th>\n",
       "      <th id=\"T_aff1c_level0_col1\" class=\"col_heading level0 col1\" >Dataset-specific Information</th>\n",
       "    </tr>\n",
       "  </thead>\n",
       "  <tbody>\n",
       "    <tr>\n",
       "      <td id=\"T_aff1c_row0_col0\" class=\"data row0 col0\" >Name of Dataset in TRE</td>\n",
       "      <td id=\"T_aff1c_row0_col1\" class=\"data row0 col1\" >MCS_mcs3_family_derived</td>\n",
       "    </tr>\n",
       "    <tr>\n",
       "      <td id=\"T_aff1c_row1_col0\" class=\"data row1 col0\" >Citation (APA)</td>\n",
       "      <td id=\"T_aff1c_row1_col1\" class=\"data row1 col1\" >University College London, UCL Social Research Institute, Centre for Longitudinal Studies. (2021). <i>Millennium Cohort Study (MCS): MCS3 Family Derived.</i> UK Longitudinal Linkage Collaboration (UK LLC).  <a href=\"https://doi.org/10.83126/ukllc-dataset-00264-01\" rel=\"noopener noreferrer\" target=\"_blank\">https://doi.org/10.83126/ukllc-dataset-00264-01</a></td>\n",
       "    </tr>\n",
       "    <tr>\n",
       "      <td id=\"T_aff1c_row2_col0\" class=\"data row2 col0\" >Download Citation</td>\n",
       "      <td id=\"T_aff1c_row2_col1\" class=\"data row2 col1\" > <a href=\"https://api.test.datacite.org/application/vnd.citationstyles.csl+json/10.83126/ukllc-dataset-00264-01\" rel=\"noopener noreferrer\" target=\"_blank\">Citeproc JSON</a>&nbsp;&nbsp;&nbsp;&nbsp; <a href=\"https://api.test.datacite.org/application/x-bibtex/10.83126/ukllc-dataset-00264-01\" rel=\"noopener noreferrer\" target=\"_blank\">BibTeX</a>&nbsp;&nbsp;&nbsp;&nbsp; <a href=\"https://api.test.datacite.org/application/x-research-info-systems/10.83126/ukllc-dataset-00264-01\" rel=\"noopener noreferrer\" target=\"_blank\">RIS</a></td>\n",
       "    </tr>\n",
       "    <tr>\n",
       "      <td id=\"T_aff1c_row3_col0\" class=\"data row3 col0\" >Series</td>\n",
       "      <td id=\"T_aff1c_row3_col1\" class=\"data row3 col1\" > <a href=\"https://guidebook.ukllc.ac.uk/docs/lps/lps%20profiles/MCS\">Millennium Cohort Study (MCS)</a></td>\n",
       "    </tr>\n",
       "    <tr>\n",
       "      <td id=\"T_aff1c_row4_col0\" class=\"data row4 col0\" >Owner</td>\n",
       "      <td id=\"T_aff1c_row4_col1\" class=\"data row4 col1\" >UCL</td>\n",
       "    </tr>\n",
       "    <tr>\n",
       "      <td id=\"T_aff1c_row5_col0\" class=\"data row5 col0\" >Temporal Coverage</td>\n",
       "      <td id=\"T_aff1c_row5_col1\" class=\"data row5 col1\" >01/2006 - 12/2006</td>\n",
       "    </tr>\n",
       "    <tr>\n",
       "      <td id=\"T_aff1c_row6_col0\" class=\"data row6 col0\" >Keywords</td>\n",
       "      <td id=\"T_aff1c_row6_col1\" class=\"data row6 col1\" >Family Life,Health,employment,attitudes,Social mobility</td>\n",
       "    </tr>\n",
       "    <tr>\n",
       "      <td id=\"T_aff1c_row7_col0\" class=\"data row7 col0\" >Participants Invited</td>\n",
       "      <td id=\"T_aff1c_row7_col1\" class=\"data row7 col1\" >15246</td>\n",
       "    </tr>\n",
       "    <tr>\n",
       "      <td id=\"T_aff1c_row8_col0\" class=\"data row8 col0\" >Participant Count</td>\n",
       "      <td id=\"T_aff1c_row8_col1\" class=\"data row8 col1\" ></td>\n",
       "    </tr>\n",
       "    <tr>\n",
       "      <td id=\"T_aff1c_row9_col0\" class=\"data row9 col0\" >Number of variables</td>\n",
       "      <td id=\"T_aff1c_row9_col1\" class=\"data row9 col1\" >46</td>\n",
       "    </tr>\n",
       "    <tr>\n",
       "      <td id=\"T_aff1c_row10_col0\" class=\"data row10 col0\" >Number of observations</td>\n",
       "      <td id=\"T_aff1c_row10_col1\" class=\"data row10 col1\" >47093</td>\n",
       "    </tr>\n",
       "    <tr>\n",
       "      <td id=\"T_aff1c_row11_col0\" class=\"data row11 col0\" >Specific Restrictions to Data Use</td>\n",
       "      <td id=\"T_aff1c_row11_col1\" class=\"data row11 col1\" >None</td>\n",
       "    </tr>\n",
       "    <tr>\n",
       "      <td id=\"T_aff1c_row12_col0\" class=\"data row12 col0\" >Build a Data Request</td>\n",
       "      <td id=\"T_aff1c_row12_col1\" class=\"data row12 col1\" > <a href=\"https://explore.ukllc.ac.uk/\" rel=\"noopener noreferrer\" target=\"_blank\">https://explore.ukllc.ac.uk/</a></td>\n",
       "    </tr>\n",
       "  </tbody>\n",
       "</table>\n"
      ],
      "text/plain": [
       "<pandas.io.formats.style.Styler at 0x1a59dfd8680>"
      ]
     },
     "execution_count": 3,
     "metadata": {},
     "output_type": "execute_result"
    }
   ],
   "source": [
    "ds.info_table()"
   ]
  },
  {
   "cell_type": "markdown",
   "id": "830883ff",
   "metadata": {},
   "source": [
    "## 2. Version History"
   ]
  },
  {
   "cell_type": "code",
   "execution_count": 4,
   "id": "802c6cc5",
   "metadata": {
    "execution": {
     "iopub.execute_input": "2025-07-18T09:52:29.761842Z",
     "iopub.status.busy": "2025-07-18T09:52:29.760842Z",
     "iopub.status.idle": "2025-07-18T09:52:32.691025Z",
     "shell.execute_reply": "2025-07-18T09:52:32.690086Z"
    },
    "tags": [
     "remove-input"
    ]
   },
   "outputs": [
    {
     "data": {
      "text/html": [
       "<style type=\"text/css\">\n",
       "#T_4e695 th {\n",
       "  text-align: left;\n",
       "}\n",
       "#T_4e695_row0_col0, #T_4e695_row0_col1, #T_4e695_row1_col0, #T_4e695_row1_col1, #T_4e695_row2_col0, #T_4e695_row2_col1, #T_4e695_row3_col0, #T_4e695_row3_col1, #T_4e695_row4_col0, #T_4e695_row4_col1 {\n",
       "  text-align: left;\n",
       "}\n",
       "</style>\n",
       "<table id=\"T_4e695\" style=\"font-size: 14px\">\n",
       "  <thead>\n",
       "    <tr>\n",
       "      <th id=\"T_4e695_level0_col0\" class=\"col_heading level0 col0\" >Version</th>\n",
       "      <th id=\"T_4e695_level0_col1\" class=\"col_heading level0 col1\" >1</th>\n",
       "    </tr>\n",
       "  </thead>\n",
       "  <tbody>\n",
       "    <tr>\n",
       "      <td id=\"T_4e695_row0_col0\" class=\"data row0 col0\" >Version Date</td>\n",
       "      <td id=\"T_4e695_row0_col1\" class=\"data row0 col1\" >01 Nov 2021</td>\n",
       "    </tr>\n",
       "    <tr>\n",
       "      <td id=\"T_4e695_row1_col0\" class=\"data row1 col0\" >Number of Variables</td>\n",
       "      <td id=\"T_4e695_row1_col1\" class=\"data row1 col1\" >46</td>\n",
       "    </tr>\n",
       "    <tr>\n",
       "      <td id=\"T_4e695_row2_col0\" class=\"data row2 col0\" >Number of Observations</td>\n",
       "      <td id=\"T_4e695_row2_col1\" class=\"data row2 col1\" >47093</td>\n",
       "    </tr>\n",
       "    <tr>\n",
       "      <td id=\"T_4e695_row3_col0\" class=\"data row3 col0\" >DOI</td>\n",
       "      <td id=\"T_4e695_row3_col1\" class=\"data row3 col1\" > <a href=\"https://doi.org/10.83126/ukllc-dataset-00264-01\" rel=\"noopener noreferrer\" target=\"_blank\">10.83126/ukllc-dataset-00264-01</a></td>\n",
       "    </tr>\n",
       "    <tr>\n",
       "      <td id=\"T_4e695_row4_col0\" class=\"data row4 col0\" >Change Log</td>\n",
       "      <td id=\"T_4e695_row4_col1\" class=\"data row4 col1\" > <a href=\"https://api.test.datacite.org/dois/10.83126/ukllc-dataset-00264-01/activities\" rel=\"noopener noreferrer\" target=\"_blank\">10.83126/ukllc-dataset-00264-01/activities</a></td>\n",
       "    </tr>\n",
       "  </tbody>\n",
       "</table>\n"
      ],
      "text/plain": [
       "<pandas.io.formats.style.Styler at 0x1a59fbed3a0>"
      ]
     },
     "execution_count": 4,
     "metadata": {},
     "output_type": "execute_result"
    }
   ],
   "source": [
    "ds.version_history()"
   ]
  },
  {
   "cell_type": "markdown",
   "id": "9653e617",
   "metadata": {},
   "source": [
    "## 3. Documentation"
   ]
  },
  {
   "cell_type": "code",
   "execution_count": 5,
   "id": "b53711cb",
   "metadata": {
    "execution": {
     "iopub.execute_input": "2025-07-18T09:52:32.697043Z",
     "iopub.status.busy": "2025-07-18T09:52:32.697043Z",
     "iopub.status.idle": "2025-07-18T09:52:32.706478Z",
     "shell.execute_reply": "2025-07-18T09:52:32.705151Z"
    },
    "tags": [
     "remove-input"
    ]
   },
   "outputs": [
    {
     "data": {
      "text/markdown": [
       "We are currently building a documentation storage system which will host useful documents related to datasets and data owners. We will surface these documents on Guidebook."
      ],
      "text/plain": [
       "<IPython.core.display.Markdown object>"
      ]
     },
     "metadata": {},
     "output_type": "display_data"
    }
   ],
   "source": [
    "ds.documentation()"
   ]
  },
  {
   "cell_type": "markdown",
   "id": "f59eed23",
   "metadata": {},
   "source": [
    "## 4. Useful Syntax"
   ]
  },
  {
   "cell_type": "code",
   "execution_count": 6,
   "id": "385f95a3",
   "metadata": {
    "execution": {
     "iopub.execute_input": "2025-07-18T09:52:32.711485Z",
     "iopub.status.busy": "2025-07-18T09:52:32.711485Z",
     "iopub.status.idle": "2025-07-18T09:52:32.718966Z",
     "shell.execute_reply": "2025-07-18T09:52:32.717959Z"
    },
    "tags": [
     "remove-input"
    ]
   },
   "outputs": [
    {
     "data": {
      "text/markdown": [
       "Below we will include syntax that may be helpful to other researchers in the UK LLC TRE. For longer scripts, we will include a snippet of the code plus a link to Git where you can find the full scripts."
      ],
      "text/plain": [
       "<IPython.core.display.Markdown object>"
      ]
     },
     "metadata": {},
     "output_type": "display_data"
    }
   ],
   "source": [
    "ds.useful_syntax()"
   ]
  }
 ],
 "metadata": {
  "language_info": {
   "codemirror_mode": {
    "name": "ipython",
    "version": 3
   },
   "file_extension": ".py",
   "mimetype": "text/x-python",
   "name": "python",
   "nbconvert_exporter": "python",
   "pygments_lexer": "ipython3",
   "version": "3.12.7"
  }
 },
 "nbformat": 4,
 "nbformat_minor": 5
}
