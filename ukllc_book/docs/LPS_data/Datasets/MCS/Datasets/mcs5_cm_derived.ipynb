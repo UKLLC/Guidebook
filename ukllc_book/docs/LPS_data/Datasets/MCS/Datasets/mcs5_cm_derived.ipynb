{
 "cells": [
  {
   "cell_type": "markdown",
   "id": "9cb2a4e5",
   "metadata": {},
   "source": [
    "# MCS5 Cohort Member Derived (MCS)"
   ]
  },
  {
   "cell_type": "code",
   "execution_count": 1,
   "id": "0ee6f8da",
   "metadata": {
    "execution": {
     "iopub.execute_input": "2025-07-28T19:31:38.121034Z",
     "iopub.status.busy": "2025-07-28T19:31:38.121034Z",
     "iopub.status.idle": "2025-07-28T19:31:50.708944Z",
     "shell.execute_reply": "2025-07-28T19:31:50.706028Z"
    },
    "tags": [
     "remove-input"
    ]
   },
   "outputs": [
    {
     "data": {
      "text/markdown": [
       ">Last modified: 28 Jul 2025"
      ],
      "text/plain": [
       "<IPython.core.display.Markdown object>"
      ]
     },
     "metadata": {},
     "output_type": "display_data"
    }
   ],
   "source": [
    "\n",
    "import sys\n",
    "import os\n",
    "sys.path.append(os.path.abspath('../../../../scripts/'))\n",
    "from data_doc_helper import LPSDataSet as DS, last_modified\n",
    "API_KEY = os.environ['FASTAPI_KEY']\n",
    "ds = DS(\"MCS\", \"mcs5_cm_derived\")\n",
    "last_modified()\n"
   ]
  },
  {
   "cell_type": "markdown",
   "id": "d458457e",
   "metadata": {},
   "source": [
    "## 1. Summary"
   ]
  },
  {
   "cell_type": "code",
   "execution_count": 2,
   "id": "c90e2bb8",
   "metadata": {
    "execution": {
     "iopub.execute_input": "2025-07-28T19:31:50.717711Z",
     "iopub.status.busy": "2025-07-28T19:31:50.716710Z",
     "iopub.status.idle": "2025-07-28T19:31:50.735804Z",
     "shell.execute_reply": "2025-07-28T19:31:50.733177Z"
    },
    "tags": [
     "remove-input"
    ]
   },
   "outputs": [
    {
     "data": {
      "text/markdown": [
       "This dataset contains derived variables relating to the cohort child including ethnic group categories, BAS II Verbal Similarities test scores, and CANTAB Cambridge Gambling Task outcomes/results."
      ],
      "text/plain": [
       "<IPython.core.display.Markdown object>"
      ]
     },
     "metadata": {},
     "output_type": "display_data"
    }
   ],
   "source": [
    "ds.summary()"
   ]
  },
  {
   "cell_type": "code",
   "execution_count": 3,
   "id": "3d988427",
   "metadata": {
    "execution": {
     "iopub.execute_input": "2025-07-28T19:31:50.743671Z",
     "iopub.status.busy": "2025-07-28T19:31:50.742668Z",
     "iopub.status.idle": "2025-07-28T19:31:52.445771Z",
     "shell.execute_reply": "2025-07-28T19:31:52.443759Z"
    },
    "tags": [
     "remove-input"
    ]
   },
   "outputs": [
    {
     "data": {
      "text/html": [
       "<style type=\"text/css\">\n",
       "#T_23b07 th {\n",
       "  text-align: left;\n",
       "}\n",
       "#T_23b07_row0_col0, #T_23b07_row0_col1, #T_23b07_row1_col0, #T_23b07_row1_col1, #T_23b07_row2_col0, #T_23b07_row2_col1, #T_23b07_row3_col0, #T_23b07_row3_col1, #T_23b07_row4_col0, #T_23b07_row4_col1, #T_23b07_row5_col0, #T_23b07_row5_col1, #T_23b07_row6_col0, #T_23b07_row6_col1, #T_23b07_row7_col0, #T_23b07_row7_col1, #T_23b07_row8_col0, #T_23b07_row8_col1, #T_23b07_row9_col0, #T_23b07_row9_col1, #T_23b07_row10_col0, #T_23b07_row10_col1, #T_23b07_row11_col0, #T_23b07_row11_col1, #T_23b07_row12_col0, #T_23b07_row12_col1 {\n",
       "  text-align: left;\n",
       "}\n",
       "</style>\n",
       "<table id=\"T_23b07\" style=\"font-size: 14px\">\n",
       "  <thead>\n",
       "    <tr>\n",
       "      <th id=\"T_23b07_level0_col0\" class=\"col_heading level0 col0\" >Dataset Descriptor</th>\n",
       "      <th id=\"T_23b07_level0_col1\" class=\"col_heading level0 col1\" >Dataset-specific Information</th>\n",
       "    </tr>\n",
       "  </thead>\n",
       "  <tbody>\n",
       "    <tr>\n",
       "      <td id=\"T_23b07_row0_col0\" class=\"data row0 col0\" >Name of Dataset in TRE</td>\n",
       "      <td id=\"T_23b07_row0_col1\" class=\"data row0 col1\" >MCS_mcs5_cm_derived</td>\n",
       "    </tr>\n",
       "    <tr>\n",
       "      <td id=\"T_23b07_row1_col0\" class=\"data row1 col0\" >Citation (APA)</td>\n",
       "      <td id=\"T_23b07_row1_col1\" class=\"data row1 col1\" >University College London, UCL Social Research Institute, Centre for Longitudinal Studies. (2021). <i>Millennium Cohort Study (MCS): MCS5 Cohort Member Derived.</i> UK Longitudinal Linkage Collaboration (UK LLC).  <a href=\"https://doi.org/10.71760/ukllc-dataset-00203-01\" rel=\"noopener noreferrer\" target=\"_blank\">https://doi.org/10.71760/ukllc-dataset-00203-01</a></td>\n",
       "    </tr>\n",
       "    <tr>\n",
       "      <td id=\"T_23b07_row2_col0\" class=\"data row2 col0\" >Download Citation</td>\n",
       "      <td id=\"T_23b07_row2_col1\" class=\"data row2 col1\" > <a href=\"https://api.datacite.org/application/vnd.citationstyles.csl+json/10.71760/ukllc-dataset-00203-01\" rel=\"noopener noreferrer\" target=\"_blank\">Citeproc JSON</a>&nbsp;&nbsp;&nbsp;&nbsp; <a href=\"https://api.datacite.org/application/x-bibtex/10.71760/ukllc-dataset-00203-01\" rel=\"noopener noreferrer\" target=\"_blank\">BibTeX</a>&nbsp;&nbsp;&nbsp;&nbsp; <a href=\"https://api.datacite.org/application/x-research-info-systems/10.71760/ukllc-dataset-00203-01\" rel=\"noopener noreferrer\" target=\"_blank\">RIS</a></td>\n",
       "    </tr>\n",
       "    <tr>\n",
       "      <td id=\"T_23b07_row3_col0\" class=\"data row3 col0\" >Series</td>\n",
       "      <td id=\"T_23b07_row3_col1\" class=\"data row3 col1\" > <a href=\"https://guidebook.ukllc.ac.uk/docs/lps_data/lps%20profiles/MCS\">Millennium Cohort Study (MCS)</a></td>\n",
       "    </tr>\n",
       "    <tr>\n",
       "      <td id=\"T_23b07_row4_col0\" class=\"data row4 col0\" >Owner</td>\n",
       "      <td id=\"T_23b07_row4_col1\" class=\"data row4 col1\" >UCL</td>\n",
       "    </tr>\n",
       "    <tr>\n",
       "      <td id=\"T_23b07_row5_col0\" class=\"data row5 col0\" >Temporal Coverage</td>\n",
       "      <td id=\"T_23b07_row5_col1\" class=\"data row5 col1\" >01/2012 - 02/2013</td>\n",
       "    </tr>\n",
       "    <tr>\n",
       "      <td id=\"T_23b07_row6_col0\" class=\"data row6 col0\" >Keywords</td>\n",
       "      <td id=\"T_23b07_row6_col1\" class=\"data row6 col1\" >Health,Education,Family life,Employment,Attitudes</td>\n",
       "    </tr>\n",
       "    <tr>\n",
       "      <td id=\"T_23b07_row7_col0\" class=\"data row7 col0\" >Participants Invited</td>\n",
       "      <td id=\"T_23b07_row7_col1\" class=\"data row7 col1\" >13287</td>\n",
       "    </tr>\n",
       "    <tr>\n",
       "      <td id=\"T_23b07_row8_col0\" class=\"data row8 col0\" >Participant Count</td>\n",
       "      <td id=\"T_23b07_row8_col1\" class=\"data row8 col1\" >9149</td>\n",
       "    </tr>\n",
       "    <tr>\n",
       "      <td id=\"T_23b07_row9_col0\" class=\"data row9 col0\" >Number of variables</td>\n",
       "      <td id=\"T_23b07_row9_col1\" class=\"data row9 col1\" >22</td>\n",
       "    </tr>\n",
       "    <tr>\n",
       "      <td id=\"T_23b07_row10_col0\" class=\"data row10 col0\" >Number of observations</td>\n",
       "      <td id=\"T_23b07_row10_col1\" class=\"data row10 col1\" >13447</td>\n",
       "    </tr>\n",
       "    <tr>\n",
       "      <td id=\"T_23b07_row11_col0\" class=\"data row11 col0\" >Specific Restrictions to Data Use</td>\n",
       "      <td id=\"T_23b07_row11_col1\" class=\"data row11 col1\" >None</td>\n",
       "    </tr>\n",
       "    <tr>\n",
       "      <td id=\"T_23b07_row12_col0\" class=\"data row12 col0\" >Build a Data Request</td>\n",
       "      <td id=\"T_23b07_row12_col1\" class=\"data row12 col1\" > <a href=\"https://explore.ukllc.ac.uk/\" rel=\"noopener noreferrer\" target=\"_blank\">https://explore.ukllc.ac.uk/</a></td>\n",
       "    </tr>\n",
       "  </tbody>\n",
       "</table>\n"
      ],
      "text/plain": [
       "<pandas.io.formats.style.Styler at 0x1dc4c369880>"
      ]
     },
     "execution_count": 3,
     "metadata": {},
     "output_type": "execute_result"
    }
   ],
   "source": [
    "ds.info_table()"
   ]
  },
  {
   "cell_type": "markdown",
   "id": "6c594290",
   "metadata": {},
   "source": [
    "## 2. Version History"
   ]
  },
  {
   "cell_type": "code",
   "execution_count": 4,
   "id": "35521d45",
   "metadata": {
    "execution": {
     "iopub.execute_input": "2025-07-28T19:31:52.453774Z",
     "iopub.status.busy": "2025-07-28T19:31:52.452767Z",
     "iopub.status.idle": "2025-07-28T19:31:58.537657Z",
     "shell.execute_reply": "2025-07-28T19:31:58.534789Z"
    },
    "tags": [
     "remove-input"
    ]
   },
   "outputs": [
    {
     "data": {
      "text/html": [
       "<style type=\"text/css\">\n",
       "#T_45a49 th {\n",
       "  text-align: left;\n",
       "}\n",
       "#T_45a49_row0_col0, #T_45a49_row0_col1, #T_45a49_row1_col0, #T_45a49_row1_col1, #T_45a49_row2_col0, #T_45a49_row2_col1, #T_45a49_row3_col0, #T_45a49_row3_col1, #T_45a49_row4_col0, #T_45a49_row4_col1 {\n",
       "  text-align: left;\n",
       "}\n",
       "</style>\n",
       "<table id=\"T_45a49\" style=\"font-size: 14px\">\n",
       "  <thead>\n",
       "    <tr>\n",
       "      <th id=\"T_45a49_level0_col0\" class=\"col_heading level0 col0\" >Version</th>\n",
       "      <th id=\"T_45a49_level0_col1\" class=\"col_heading level0 col1\" >1</th>\n",
       "    </tr>\n",
       "  </thead>\n",
       "  <tbody>\n",
       "    <tr>\n",
       "      <td id=\"T_45a49_row0_col0\" class=\"data row0 col0\" >Version Date</td>\n",
       "      <td id=\"T_45a49_row0_col1\" class=\"data row0 col1\" >01 Nov 2021</td>\n",
       "    </tr>\n",
       "    <tr>\n",
       "      <td id=\"T_45a49_row1_col0\" class=\"data row1 col0\" >Number of Variables</td>\n",
       "      <td id=\"T_45a49_row1_col1\" class=\"data row1 col1\" >22</td>\n",
       "    </tr>\n",
       "    <tr>\n",
       "      <td id=\"T_45a49_row2_col0\" class=\"data row2 col0\" >Number of Observations</td>\n",
       "      <td id=\"T_45a49_row2_col1\" class=\"data row2 col1\" >13447</td>\n",
       "    </tr>\n",
       "    <tr>\n",
       "      <td id=\"T_45a49_row3_col0\" class=\"data row3 col0\" >DOI</td>\n",
       "      <td id=\"T_45a49_row3_col1\" class=\"data row3 col1\" > <a href=\"https://doi.org/10.71760/ukllc-dataset-00203-01\" rel=\"noopener noreferrer\" target=\"_blank\">10.71760/ukllc-dataset-00203-01</a></td>\n",
       "    </tr>\n",
       "    <tr>\n",
       "      <td id=\"T_45a49_row4_col0\" class=\"data row4 col0\" >Change Log</td>\n",
       "      <td id=\"T_45a49_row4_col1\" class=\"data row4 col1\" > <a href=\"https://api.test.datacite.org/dois/10.71760/ukllc-dataset-00203-01/activities\" rel=\"noopener noreferrer\" target=\"_blank\">10.71760/ukllc-dataset-00203-01/activities</a></td>\n",
       "    </tr>\n",
       "  </tbody>\n",
       "</table>\n"
      ],
      "text/plain": [
       "<pandas.io.formats.style.Styler at 0x1dc4ac0fef0>"
      ]
     },
     "execution_count": 4,
     "metadata": {},
     "output_type": "execute_result"
    }
   ],
   "source": [
    "ds.version_history()"
   ]
  },
  {
   "cell_type": "markdown",
   "id": "d454cfeb",
   "metadata": {},
   "source": [
    "## 3. Documentation"
   ]
  },
  {
   "cell_type": "code",
   "execution_count": 5,
   "id": "bcc6668b",
   "metadata": {
    "execution": {
     "iopub.execute_input": "2025-07-28T19:31:58.546577Z",
     "iopub.status.busy": "2025-07-28T19:31:58.545578Z",
     "iopub.status.idle": "2025-07-28T19:31:58.560074Z",
     "shell.execute_reply": "2025-07-28T19:31:58.557570Z"
    },
    "tags": [
     "remove-input"
    ]
   },
   "outputs": [
    {
     "data": {
      "text/markdown": [
       "We are currently building a documentation storage system which will host useful documents related to datasets and data owners. We will surface these documents on Guidebook."
      ],
      "text/plain": [
       "<IPython.core.display.Markdown object>"
      ]
     },
     "metadata": {},
     "output_type": "display_data"
    }
   ],
   "source": [
    "ds.documentation()"
   ]
  },
  {
   "cell_type": "markdown",
   "id": "99fc0076",
   "metadata": {},
   "source": [
    "## 4. Useful Syntax"
   ]
  },
  {
   "cell_type": "code",
   "execution_count": 6,
   "id": "0e294d66",
   "metadata": {
    "execution": {
     "iopub.execute_input": "2025-07-28T19:31:58.568132Z",
     "iopub.status.busy": "2025-07-28T19:31:58.567145Z",
     "iopub.status.idle": "2025-07-28T19:31:58.579860Z",
     "shell.execute_reply": "2025-07-28T19:31:58.577766Z"
    },
    "tags": [
     "remove-input"
    ]
   },
   "outputs": [
    {
     "data": {
      "text/markdown": [
       "Below we will include syntax that may be helpful to other researchers in the UK LLC TRE. For longer scripts, we will include a snippet of the code plus a link to Git where you can find the full scripts."
      ],
      "text/plain": [
       "<IPython.core.display.Markdown object>"
      ]
     },
     "metadata": {},
     "output_type": "display_data"
    }
   ],
   "source": [
    "ds.useful_syntax()"
   ]
  }
 ],
 "metadata": {
  "language_info": {
   "codemirror_mode": {
    "name": "ipython",
    "version": 3
   },
   "file_extension": ".py",
   "mimetype": "text/x-python",
   "name": "python",
   "nbconvert_exporter": "python",
   "pygments_lexer": "ipython3",
   "version": "3.12.7"
  }
 },
 "nbformat": 4,
 "nbformat_minor": 5
}
