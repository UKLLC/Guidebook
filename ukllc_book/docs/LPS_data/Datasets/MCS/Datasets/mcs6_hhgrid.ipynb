{
 "cells": [
  {
   "cell_type": "markdown",
   "id": "c3353deb",
   "metadata": {},
   "source": [
    "# MCS6 Household Grid (MCS)"
   ]
  },
  {
   "cell_type": "code",
   "execution_count": 1,
   "id": "c39ce180",
   "metadata": {
    "execution": {
     "iopub.execute_input": "2025-07-18T09:59:52.056367Z",
     "iopub.status.busy": "2025-07-18T09:59:52.056367Z",
     "iopub.status.idle": "2025-07-18T09:59:59.870975Z",
     "shell.execute_reply": "2025-07-18T09:59:59.869851Z"
    },
    "tags": [
     "remove-input"
    ]
   },
   "outputs": [
    {
     "data": {
      "text/markdown": [
       ">Last modified: 18 Jul 2025"
      ],
      "text/plain": [
       "<IPython.core.display.Markdown object>"
      ]
     },
     "metadata": {},
     "output_type": "display_data"
    }
   ],
   "source": [
    "\n",
    "import sys\n",
    "import os\n",
    "sys.path.append(os.path.abspath('../../../../scripts/'))\n",
    "from data_doc_helper import LPSDataSet as DS, last_modified\n",
    "API_KEY = os.environ['FASTAPI_KEY']\n",
    "ds = DS(\"MCS\", \"mcs6_hhgrid\")\n",
    "last_modified()\n"
   ]
  },
  {
   "cell_type": "markdown",
   "id": "12bec025",
   "metadata": {},
   "source": [
    "## 1. Summary"
   ]
  },
  {
   "cell_type": "code",
   "execution_count": 2,
   "id": "2c006d3e",
   "metadata": {
    "execution": {
     "iopub.execute_input": "2025-07-18T09:59:59.876884Z",
     "iopub.status.busy": "2025-07-18T09:59:59.876884Z",
     "iopub.status.idle": "2025-07-18T09:59:59.885117Z",
     "shell.execute_reply": "2025-07-18T09:59:59.885117Z"
    },
    "tags": [
     "remove-input"
    ]
   },
   "outputs": [
    {
     "data": {
      "text/markdown": [
       "The household grid dataset provides key demographic information about the people who lived with the Cohort Member at the time of the interview. This includes variables showing whether a person was present at the interview, the relationship of each person to the Cohort Member and the relationship of each person to the others present in the household. This is particularly helpful for research on family structure and environment."
      ],
      "text/plain": [
       "<IPython.core.display.Markdown object>"
      ]
     },
     "metadata": {},
     "output_type": "display_data"
    }
   ],
   "source": [
    "ds.summary()"
   ]
  },
  {
   "cell_type": "code",
   "execution_count": 3,
   "id": "75b0ecb4",
   "metadata": {
    "execution": {
     "iopub.execute_input": "2025-07-18T09:59:59.890034Z",
     "iopub.status.busy": "2025-07-18T09:59:59.890034Z",
     "iopub.status.idle": "2025-07-18T10:00:00.992794Z",
     "shell.execute_reply": "2025-07-18T10:00:00.990768Z"
    },
    "tags": [
     "remove-input"
    ]
   },
   "outputs": [
    {
     "data": {
      "text/html": [
       "<style type=\"text/css\">\n",
       "#T_17fa3 th {\n",
       "  text-align: left;\n",
       "}\n",
       "#T_17fa3_row0_col0, #T_17fa3_row0_col1, #T_17fa3_row1_col0, #T_17fa3_row1_col1, #T_17fa3_row2_col0, #T_17fa3_row2_col1, #T_17fa3_row3_col0, #T_17fa3_row3_col1, #T_17fa3_row4_col0, #T_17fa3_row4_col1, #T_17fa3_row5_col0, #T_17fa3_row5_col1, #T_17fa3_row6_col0, #T_17fa3_row6_col1, #T_17fa3_row7_col0, #T_17fa3_row7_col1, #T_17fa3_row8_col0, #T_17fa3_row8_col1, #T_17fa3_row9_col0, #T_17fa3_row9_col1, #T_17fa3_row10_col0, #T_17fa3_row10_col1, #T_17fa3_row11_col0, #T_17fa3_row11_col1, #T_17fa3_row12_col0, #T_17fa3_row12_col1 {\n",
       "  text-align: left;\n",
       "}\n",
       "</style>\n",
       "<table id=\"T_17fa3\" style=\"font-size: 14px\">\n",
       "  <thead>\n",
       "    <tr>\n",
       "      <th id=\"T_17fa3_level0_col0\" class=\"col_heading level0 col0\" >Dataset Descriptor</th>\n",
       "      <th id=\"T_17fa3_level0_col1\" class=\"col_heading level0 col1\" >Dataset-specific Information</th>\n",
       "    </tr>\n",
       "  </thead>\n",
       "  <tbody>\n",
       "    <tr>\n",
       "      <td id=\"T_17fa3_row0_col0\" class=\"data row0 col0\" >Name of Dataset in TRE</td>\n",
       "      <td id=\"T_17fa3_row0_col1\" class=\"data row0 col1\" >MCS_mcs6_hhgrid</td>\n",
       "    </tr>\n",
       "    <tr>\n",
       "      <td id=\"T_17fa3_row1_col0\" class=\"data row1 col0\" >Citation (APA)</td>\n",
       "      <td id=\"T_17fa3_row1_col1\" class=\"data row1 col1\" >University College London, UCL Social Research Institute, Centre for Longitudinal Studies. (2021). <i>Millennium Cohort Study (MCS): MCS6 Household Grid.</i> UK Longitudinal Linkage Collaboration (UK LLC).  <a href=\"https://doi.org/10.83126/ukllc-dataset-00295-01\" rel=\"noopener noreferrer\" target=\"_blank\">https://doi.org/10.83126/ukllc-dataset-00295-01</a></td>\n",
       "    </tr>\n",
       "    <tr>\n",
       "      <td id=\"T_17fa3_row2_col0\" class=\"data row2 col0\" >Download Citation</td>\n",
       "      <td id=\"T_17fa3_row2_col1\" class=\"data row2 col1\" > <a href=\"https://api.test.datacite.org/application/vnd.citationstyles.csl+json/10.83126/ukllc-dataset-00295-01\" rel=\"noopener noreferrer\" target=\"_blank\">Citeproc JSON</a>&nbsp;&nbsp;&nbsp;&nbsp; <a href=\"https://api.test.datacite.org/application/x-bibtex/10.83126/ukllc-dataset-00295-01\" rel=\"noopener noreferrer\" target=\"_blank\">BibTeX</a>&nbsp;&nbsp;&nbsp;&nbsp; <a href=\"https://api.test.datacite.org/application/x-research-info-systems/10.83126/ukllc-dataset-00295-01\" rel=\"noopener noreferrer\" target=\"_blank\">RIS</a></td>\n",
       "    </tr>\n",
       "    <tr>\n",
       "      <td id=\"T_17fa3_row3_col0\" class=\"data row3 col0\" >Series</td>\n",
       "      <td id=\"T_17fa3_row3_col1\" class=\"data row3 col1\" > <a href=\"https://guidebook.ukllc.ac.uk/docs/lps/lps%20profiles/MCS\">Millennium Cohort Study (MCS)</a></td>\n",
       "    </tr>\n",
       "    <tr>\n",
       "      <td id=\"T_17fa3_row4_col0\" class=\"data row4 col0\" >Owner</td>\n",
       "      <td id=\"T_17fa3_row4_col1\" class=\"data row4 col1\" >UCL</td>\n",
       "    </tr>\n",
       "    <tr>\n",
       "      <td id=\"T_17fa3_row5_col0\" class=\"data row5 col0\" >Temporal Coverage</td>\n",
       "      <td id=\"T_17fa3_row5_col1\" class=\"data row5 col1\" >01/2015 - 03/2016</td>\n",
       "    </tr>\n",
       "    <tr>\n",
       "      <td id=\"T_17fa3_row6_col0\" class=\"data row6 col0\" >Keywords</td>\n",
       "      <td id=\"T_17fa3_row6_col1\" class=\"data row6 col1\" >Health,Education,Family life,Employment,Attitudes</td>\n",
       "    </tr>\n",
       "    <tr>\n",
       "      <td id=\"T_17fa3_row7_col0\" class=\"data row7 col0\" >Participants Invited</td>\n",
       "      <td id=\"T_17fa3_row7_col1\" class=\"data row7 col1\" >11726</td>\n",
       "    </tr>\n",
       "    <tr>\n",
       "      <td id=\"T_17fa3_row8_col0\" class=\"data row8 col0\" >Participant Count</td>\n",
       "      <td id=\"T_17fa3_row8_col1\" class=\"data row8 col1\" >16061</td>\n",
       "    </tr>\n",
       "    <tr>\n",
       "      <td id=\"T_17fa3_row9_col0\" class=\"data row9 col0\" >Number of variables</td>\n",
       "      <td id=\"T_17fa3_row9_col1\" class=\"data row9 col1\" >56</td>\n",
       "    </tr>\n",
       "    <tr>\n",
       "      <td id=\"T_17fa3_row10_col0\" class=\"data row10 col0\" >Number of observations</td>\n",
       "      <td id=\"T_17fa3_row10_col1\" class=\"data row10 col1\" >24377</td>\n",
       "    </tr>\n",
       "    <tr>\n",
       "      <td id=\"T_17fa3_row11_col0\" class=\"data row11 col0\" >Specific Restrictions to Data Use</td>\n",
       "      <td id=\"T_17fa3_row11_col1\" class=\"data row11 col1\" >None</td>\n",
       "    </tr>\n",
       "    <tr>\n",
       "      <td id=\"T_17fa3_row12_col0\" class=\"data row12 col0\" >Build a Data Request</td>\n",
       "      <td id=\"T_17fa3_row12_col1\" class=\"data row12 col1\" > <a href=\"https://explore.ukllc.ac.uk/\" rel=\"noopener noreferrer\" target=\"_blank\">https://explore.ukllc.ac.uk/</a></td>\n",
       "    </tr>\n",
       "  </tbody>\n",
       "</table>\n"
      ],
      "text/plain": [
       "<pandas.io.formats.style.Styler at 0x1c88ec4cb30>"
      ]
     },
     "execution_count": 3,
     "metadata": {},
     "output_type": "execute_result"
    }
   ],
   "source": [
    "ds.info_table()"
   ]
  },
  {
   "cell_type": "markdown",
   "id": "80a5bc90",
   "metadata": {},
   "source": [
    "## 2. Version History"
   ]
  },
  {
   "cell_type": "code",
   "execution_count": 4,
   "id": "79328a79",
   "metadata": {
    "execution": {
     "iopub.execute_input": "2025-07-18T10:00:00.997777Z",
     "iopub.status.busy": "2025-07-18T10:00:00.997777Z",
     "iopub.status.idle": "2025-07-18T10:00:04.272384Z",
     "shell.execute_reply": "2025-07-18T10:00:04.270830Z"
    },
    "tags": [
     "remove-input"
    ]
   },
   "outputs": [
    {
     "data": {
      "text/html": [
       "<style type=\"text/css\">\n",
       "#T_e7100 th {\n",
       "  text-align: left;\n",
       "}\n",
       "#T_e7100_row0_col0, #T_e7100_row0_col1, #T_e7100_row1_col0, #T_e7100_row1_col1, #T_e7100_row2_col0, #T_e7100_row2_col1, #T_e7100_row3_col0, #T_e7100_row3_col1, #T_e7100_row4_col0, #T_e7100_row4_col1 {\n",
       "  text-align: left;\n",
       "}\n",
       "</style>\n",
       "<table id=\"T_e7100\" style=\"font-size: 14px\">\n",
       "  <thead>\n",
       "    <tr>\n",
       "      <th id=\"T_e7100_level0_col0\" class=\"col_heading level0 col0\" >Version</th>\n",
       "      <th id=\"T_e7100_level0_col1\" class=\"col_heading level0 col1\" >1</th>\n",
       "    </tr>\n",
       "  </thead>\n",
       "  <tbody>\n",
       "    <tr>\n",
       "      <td id=\"T_e7100_row0_col0\" class=\"data row0 col0\" >Version Date</td>\n",
       "      <td id=\"T_e7100_row0_col1\" class=\"data row0 col1\" >01 Nov 2021</td>\n",
       "    </tr>\n",
       "    <tr>\n",
       "      <td id=\"T_e7100_row1_col0\" class=\"data row1 col0\" >Number of Variables</td>\n",
       "      <td id=\"T_e7100_row1_col1\" class=\"data row1 col1\" >56</td>\n",
       "    </tr>\n",
       "    <tr>\n",
       "      <td id=\"T_e7100_row2_col0\" class=\"data row2 col0\" >Number of Observations</td>\n",
       "      <td id=\"T_e7100_row2_col1\" class=\"data row2 col1\" >24377</td>\n",
       "    </tr>\n",
       "    <tr>\n",
       "      <td id=\"T_e7100_row3_col0\" class=\"data row3 col0\" >DOI</td>\n",
       "      <td id=\"T_e7100_row3_col1\" class=\"data row3 col1\" > <a href=\"https://doi.org/10.83126/ukllc-dataset-00295-01\" rel=\"noopener noreferrer\" target=\"_blank\">10.83126/ukllc-dataset-00295-01</a></td>\n",
       "    </tr>\n",
       "    <tr>\n",
       "      <td id=\"T_e7100_row4_col0\" class=\"data row4 col0\" >Change Log</td>\n",
       "      <td id=\"T_e7100_row4_col1\" class=\"data row4 col1\" > <a href=\"https://api.test.datacite.org/dois/10.83126/ukllc-dataset-00295-01/activities\" rel=\"noopener noreferrer\" target=\"_blank\">10.83126/ukllc-dataset-00295-01/activities</a></td>\n",
       "    </tr>\n",
       "  </tbody>\n",
       "</table>\n"
      ],
      "text/plain": [
       "<pandas.io.formats.style.Styler at 0x1c890aaf7a0>"
      ]
     },
     "execution_count": 4,
     "metadata": {},
     "output_type": "execute_result"
    }
   ],
   "source": [
    "ds.version_history()"
   ]
  },
  {
   "cell_type": "markdown",
   "id": "f819b269",
   "metadata": {},
   "source": [
    "## 3. Documentation"
   ]
  },
  {
   "cell_type": "code",
   "execution_count": 5,
   "id": "59399821",
   "metadata": {
    "execution": {
     "iopub.execute_input": "2025-07-18T10:00:04.278362Z",
     "iopub.status.busy": "2025-07-18T10:00:04.278362Z",
     "iopub.status.idle": "2025-07-18T10:00:04.285208Z",
     "shell.execute_reply": "2025-07-18T10:00:04.284362Z"
    },
    "tags": [
     "remove-input"
    ]
   },
   "outputs": [
    {
     "data": {
      "text/markdown": [
       "We are currently building a documentation storage system which will host useful documents related to datasets and data owners. We will surface these documents on Guidebook."
      ],
      "text/plain": [
       "<IPython.core.display.Markdown object>"
      ]
     },
     "metadata": {},
     "output_type": "display_data"
    }
   ],
   "source": [
    "ds.documentation()"
   ]
  },
  {
   "cell_type": "markdown",
   "id": "f4ff15cd",
   "metadata": {},
   "source": [
    "## 4. Useful Syntax"
   ]
  },
  {
   "cell_type": "code",
   "execution_count": 6,
   "id": "2fb9fe5a",
   "metadata": {
    "execution": {
     "iopub.execute_input": "2025-07-18T10:00:04.289220Z",
     "iopub.status.busy": "2025-07-18T10:00:04.289220Z",
     "iopub.status.idle": "2025-07-18T10:00:04.298173Z",
     "shell.execute_reply": "2025-07-18T10:00:04.297162Z"
    },
    "tags": [
     "remove-input"
    ]
   },
   "outputs": [
    {
     "data": {
      "text/markdown": [
       "Below we will include syntax that may be helpful to other researchers in the UK LLC TRE. For longer scripts, we will include a snippet of the code plus a link to Git where you can find the full scripts."
      ],
      "text/plain": [
       "<IPython.core.display.Markdown object>"
      ]
     },
     "metadata": {},
     "output_type": "display_data"
    }
   ],
   "source": [
    "ds.useful_syntax()"
   ]
  }
 ],
 "metadata": {
  "language_info": {
   "codemirror_mode": {
    "name": "ipython",
    "version": 3
   },
   "file_extension": ".py",
   "mimetype": "text/x-python",
   "name": "python",
   "nbconvert_exporter": "python",
   "pygments_lexer": "ipython3",
   "version": "3.12.7"
  }
 },
 "nbformat": 4,
 "nbformat_minor": 5
}
