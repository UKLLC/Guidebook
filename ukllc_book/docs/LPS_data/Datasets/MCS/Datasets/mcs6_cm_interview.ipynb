{
 "cells": [
  {
   "cell_type": "markdown",
   "id": "5388807a",
   "metadata": {},
   "source": [
    "# MCS6 Cohort Member Interview (MCS)"
   ]
  },
  {
   "cell_type": "code",
   "execution_count": 1,
   "id": "a8438df2",
   "metadata": {
    "execution": {
     "iopub.execute_input": "2025-07-28T19:36:04.004371Z",
     "iopub.status.busy": "2025-07-28T19:36:04.004371Z",
     "iopub.status.idle": "2025-07-28T19:36:16.755737Z",
     "shell.execute_reply": "2025-07-28T19:36:16.752722Z"
    },
    "tags": [
     "remove-input"
    ]
   },
   "outputs": [
    {
     "data": {
      "text/markdown": [
       ">Last modified: 28 Jul 2025"
      ],
      "text/plain": [
       "<IPython.core.display.Markdown object>"
      ]
     },
     "metadata": {},
     "output_type": "display_data"
    }
   ],
   "source": [
    "\n",
    "import sys\n",
    "import os\n",
    "sys.path.append(os.path.abspath('../../../../scripts/'))\n",
    "from data_doc_helper import LPSDataSet as DS, last_modified\n",
    "API_KEY = os.environ['FASTAPI_KEY']\n",
    "ds = DS(\"MCS\", \"mcs6_cm_interview\")\n",
    "last_modified()\n"
   ]
  },
  {
   "cell_type": "markdown",
   "id": "1c7f5727",
   "metadata": {},
   "source": [
    "## 1. Summary"
   ]
  },
  {
   "cell_type": "code",
   "execution_count": 2,
   "id": "7bb21a36",
   "metadata": {
    "execution": {
     "iopub.execute_input": "2025-07-28T19:36:16.763740Z",
     "iopub.status.busy": "2025-07-28T19:36:16.763740Z",
     "iopub.status.idle": "2025-07-28T19:36:16.779117Z",
     "shell.execute_reply": "2025-07-28T19:36:16.776199Z"
    },
    "tags": [
     "remove-input"
    ]
   },
   "outputs": [
    {
     "data": {
      "text/markdown": [
       "This dataset contains the physical measurement variables relating to the cohort member and consents collected for these. This includes height, weight, bodyfat and BMI, along with circumstances applicable to the measurements as observed by the interviewer. Answers to the child self completion questionnaire also appear in this dataset, including questions about their physical development (puberty), wellbeing and feelings. Responses to what the cohort member would like to be when they grow up appear as truncated SOC codes."
      ],
      "text/plain": [
       "<IPython.core.display.Markdown object>"
      ]
     },
     "metadata": {},
     "output_type": "display_data"
    }
   ],
   "source": [
    "ds.summary()"
   ]
  },
  {
   "cell_type": "code",
   "execution_count": 3,
   "id": "d01f1940",
   "metadata": {
    "execution": {
     "iopub.execute_input": "2025-07-28T19:36:16.788427Z",
     "iopub.status.busy": "2025-07-28T19:36:16.786998Z",
     "iopub.status.idle": "2025-07-28T19:36:18.573762Z",
     "shell.execute_reply": "2025-07-28T19:36:18.571747Z"
    },
    "tags": [
     "remove-input"
    ]
   },
   "outputs": [
    {
     "data": {
      "text/html": [
       "<style type=\"text/css\">\n",
       "#T_877bf th {\n",
       "  text-align: left;\n",
       "}\n",
       "#T_877bf_row0_col0, #T_877bf_row0_col1, #T_877bf_row1_col0, #T_877bf_row1_col1, #T_877bf_row2_col0, #T_877bf_row2_col1, #T_877bf_row3_col0, #T_877bf_row3_col1, #T_877bf_row4_col0, #T_877bf_row4_col1, #T_877bf_row5_col0, #T_877bf_row5_col1, #T_877bf_row6_col0, #T_877bf_row6_col1, #T_877bf_row7_col0, #T_877bf_row7_col1, #T_877bf_row8_col0, #T_877bf_row8_col1, #T_877bf_row9_col0, #T_877bf_row9_col1, #T_877bf_row10_col0, #T_877bf_row10_col1, #T_877bf_row11_col0, #T_877bf_row11_col1, #T_877bf_row12_col0, #T_877bf_row12_col1 {\n",
       "  text-align: left;\n",
       "}\n",
       "</style>\n",
       "<table id=\"T_877bf\" style=\"font-size: 14px\">\n",
       "  <thead>\n",
       "    <tr>\n",
       "      <th id=\"T_877bf_level0_col0\" class=\"col_heading level0 col0\" >Dataset Descriptor</th>\n",
       "      <th id=\"T_877bf_level0_col1\" class=\"col_heading level0 col1\" >Dataset-specific Information</th>\n",
       "    </tr>\n",
       "  </thead>\n",
       "  <tbody>\n",
       "    <tr>\n",
       "      <td id=\"T_877bf_row0_col0\" class=\"data row0 col0\" >Name of Dataset in TRE</td>\n",
       "      <td id=\"T_877bf_row0_col1\" class=\"data row0 col1\" >MCS_mcs6_cm_interview</td>\n",
       "    </tr>\n",
       "    <tr>\n",
       "      <td id=\"T_877bf_row1_col0\" class=\"data row1 col0\" >Citation (APA)</td>\n",
       "      <td id=\"T_877bf_row1_col1\" class=\"data row1 col1\" >University College London, UCL Social Research Institute, Centre for Longitudinal Studies. (2021). <i>Millennium Cohort Study (MCS): MCS6 Cohort Member Interview.</i> UK Longitudinal Linkage Collaboration (UK LLC).  <a href=\"https://doi.org/10.71760/ukllc-dataset-00214-01\" rel=\"noopener noreferrer\" target=\"_blank\">https://doi.org/10.71760/ukllc-dataset-00214-01</a></td>\n",
       "    </tr>\n",
       "    <tr>\n",
       "      <td id=\"T_877bf_row2_col0\" class=\"data row2 col0\" >Download Citation</td>\n",
       "      <td id=\"T_877bf_row2_col1\" class=\"data row2 col1\" > <a href=\"https://api.datacite.org/application/vnd.citationstyles.csl+json/10.71760/ukllc-dataset-00214-01\" rel=\"noopener noreferrer\" target=\"_blank\">Citeproc JSON</a>&nbsp;&nbsp;&nbsp;&nbsp; <a href=\"https://api.datacite.org/application/x-bibtex/10.71760/ukllc-dataset-00214-01\" rel=\"noopener noreferrer\" target=\"_blank\">BibTeX</a>&nbsp;&nbsp;&nbsp;&nbsp; <a href=\"https://api.datacite.org/application/x-research-info-systems/10.71760/ukllc-dataset-00214-01\" rel=\"noopener noreferrer\" target=\"_blank\">RIS</a></td>\n",
       "    </tr>\n",
       "    <tr>\n",
       "      <td id=\"T_877bf_row3_col0\" class=\"data row3 col0\" >Series</td>\n",
       "      <td id=\"T_877bf_row3_col1\" class=\"data row3 col1\" > <a href=\"https://guidebook.ukllc.ac.uk/docs/lps_data/lps%20profiles/MCS\">Millennium Cohort Study (MCS)</a></td>\n",
       "    </tr>\n",
       "    <tr>\n",
       "      <td id=\"T_877bf_row4_col0\" class=\"data row4 col0\" >Owner</td>\n",
       "      <td id=\"T_877bf_row4_col1\" class=\"data row4 col1\" >UCL</td>\n",
       "    </tr>\n",
       "    <tr>\n",
       "      <td id=\"T_877bf_row5_col0\" class=\"data row5 col0\" >Temporal Coverage</td>\n",
       "      <td id=\"T_877bf_row5_col1\" class=\"data row5 col1\" >01/2015 - 03/2016</td>\n",
       "    </tr>\n",
       "    <tr>\n",
       "      <td id=\"T_877bf_row6_col0\" class=\"data row6 col0\" >Keywords</td>\n",
       "      <td id=\"T_877bf_row6_col1\" class=\"data row6 col1\" >Health,Education,Family life,Employment,Attitudes</td>\n",
       "    </tr>\n",
       "    <tr>\n",
       "      <td id=\"T_877bf_row7_col0\" class=\"data row7 col0\" >Participants Invited</td>\n",
       "      <td id=\"T_877bf_row7_col1\" class=\"data row7 col1\" >11726</td>\n",
       "    </tr>\n",
       "    <tr>\n",
       "      <td id=\"T_877bf_row8_col0\" class=\"data row8 col0\" >Participant Count</td>\n",
       "      <td id=\"T_877bf_row8_col1\" class=\"data row8 col1\" >8945</td>\n",
       "    </tr>\n",
       "    <tr>\n",
       "      <td id=\"T_877bf_row9_col0\" class=\"data row9 col0\" >Number of variables</td>\n",
       "      <td id=\"T_877bf_row9_col1\" class=\"data row9 col1\" >414</td>\n",
       "    </tr>\n",
       "    <tr>\n",
       "      <td id=\"T_877bf_row10_col0\" class=\"data row10 col0\" >Number of observations</td>\n",
       "      <td id=\"T_877bf_row10_col1\" class=\"data row10 col1\" >11859</td>\n",
       "    </tr>\n",
       "    <tr>\n",
       "      <td id=\"T_877bf_row11_col0\" class=\"data row11 col0\" >Specific Restrictions to Data Use</td>\n",
       "      <td id=\"T_877bf_row11_col1\" class=\"data row11 col1\" >None</td>\n",
       "    </tr>\n",
       "    <tr>\n",
       "      <td id=\"T_877bf_row12_col0\" class=\"data row12 col0\" >Build a Data Request</td>\n",
       "      <td id=\"T_877bf_row12_col1\" class=\"data row12 col1\" > <a href=\"https://explore.ukllc.ac.uk/\" rel=\"noopener noreferrer\" target=\"_blank\">https://explore.ukllc.ac.uk/</a></td>\n",
       "    </tr>\n",
       "  </tbody>\n",
       "</table>\n"
      ],
      "text/plain": [
       "<pandas.io.formats.style.Styler at 0x1e6d0a3ec90>"
      ]
     },
     "execution_count": 3,
     "metadata": {},
     "output_type": "execute_result"
    }
   ],
   "source": [
    "ds.info_table()"
   ]
  },
  {
   "cell_type": "markdown",
   "id": "dcd6ca05",
   "metadata": {},
   "source": [
    "## 2. Version History"
   ]
  },
  {
   "cell_type": "code",
   "execution_count": 4,
   "id": "bc4a4bbf",
   "metadata": {
    "execution": {
     "iopub.execute_input": "2025-07-28T19:36:18.581942Z",
     "iopub.status.busy": "2025-07-28T19:36:18.580944Z",
     "iopub.status.idle": "2025-07-28T19:36:24.032517Z",
     "shell.execute_reply": "2025-07-28T19:36:24.030408Z"
    },
    "tags": [
     "remove-input"
    ]
   },
   "outputs": [
    {
     "data": {
      "text/html": [
       "<style type=\"text/css\">\n",
       "#T_12b7b th {\n",
       "  text-align: left;\n",
       "}\n",
       "#T_12b7b_row0_col0, #T_12b7b_row0_col1, #T_12b7b_row1_col0, #T_12b7b_row1_col1, #T_12b7b_row2_col0, #T_12b7b_row2_col1, #T_12b7b_row3_col0, #T_12b7b_row3_col1, #T_12b7b_row4_col0, #T_12b7b_row4_col1 {\n",
       "  text-align: left;\n",
       "}\n",
       "</style>\n",
       "<table id=\"T_12b7b\" style=\"font-size: 14px\">\n",
       "  <thead>\n",
       "    <tr>\n",
       "      <th id=\"T_12b7b_level0_col0\" class=\"col_heading level0 col0\" >Version</th>\n",
       "      <th id=\"T_12b7b_level0_col1\" class=\"col_heading level0 col1\" >1</th>\n",
       "    </tr>\n",
       "  </thead>\n",
       "  <tbody>\n",
       "    <tr>\n",
       "      <td id=\"T_12b7b_row0_col0\" class=\"data row0 col0\" >Version Date</td>\n",
       "      <td id=\"T_12b7b_row0_col1\" class=\"data row0 col1\" >01 Nov 2021</td>\n",
       "    </tr>\n",
       "    <tr>\n",
       "      <td id=\"T_12b7b_row1_col0\" class=\"data row1 col0\" >Number of Variables</td>\n",
       "      <td id=\"T_12b7b_row1_col1\" class=\"data row1 col1\" >414</td>\n",
       "    </tr>\n",
       "    <tr>\n",
       "      <td id=\"T_12b7b_row2_col0\" class=\"data row2 col0\" >Number of Observations</td>\n",
       "      <td id=\"T_12b7b_row2_col1\" class=\"data row2 col1\" >11859</td>\n",
       "    </tr>\n",
       "    <tr>\n",
       "      <td id=\"T_12b7b_row3_col0\" class=\"data row3 col0\" >DOI</td>\n",
       "      <td id=\"T_12b7b_row3_col1\" class=\"data row3 col1\" > <a href=\"https://doi.org/10.71760/ukllc-dataset-00214-01\" rel=\"noopener noreferrer\" target=\"_blank\">10.71760/ukllc-dataset-00214-01</a></td>\n",
       "    </tr>\n",
       "    <tr>\n",
       "      <td id=\"T_12b7b_row4_col0\" class=\"data row4 col0\" >Change Log</td>\n",
       "      <td id=\"T_12b7b_row4_col1\" class=\"data row4 col1\" > <a href=\"https://api.test.datacite.org/dois/10.71760/ukllc-dataset-00214-01/activities\" rel=\"noopener noreferrer\" target=\"_blank\">10.71760/ukllc-dataset-00214-01/activities</a></td>\n",
       "    </tr>\n",
       "  </tbody>\n",
       "</table>\n"
      ],
      "text/plain": [
       "<pandas.io.formats.style.Styler at 0x1e6d660eab0>"
      ]
     },
     "execution_count": 4,
     "metadata": {},
     "output_type": "execute_result"
    }
   ],
   "source": [
    "ds.version_history()"
   ]
  },
  {
   "cell_type": "markdown",
   "id": "52b3ec64",
   "metadata": {},
   "source": [
    "## 3. Documentation"
   ]
  },
  {
   "cell_type": "code",
   "execution_count": 5,
   "id": "a03f29c5",
   "metadata": {
    "execution": {
     "iopub.execute_input": "2025-07-28T19:36:24.043529Z",
     "iopub.status.busy": "2025-07-28T19:36:24.042516Z",
     "iopub.status.idle": "2025-07-28T19:36:24.056152Z",
     "shell.execute_reply": "2025-07-28T19:36:24.054046Z"
    },
    "tags": [
     "remove-input"
    ]
   },
   "outputs": [
    {
     "data": {
      "text/markdown": [
       "We are currently building a documentation storage system which will host useful documents related to datasets and data owners. We will surface these documents on Guidebook."
      ],
      "text/plain": [
       "<IPython.core.display.Markdown object>"
      ]
     },
     "metadata": {},
     "output_type": "display_data"
    }
   ],
   "source": [
    "ds.documentation()"
   ]
  },
  {
   "cell_type": "markdown",
   "id": "ece18dc8",
   "metadata": {},
   "source": [
    "## 4. Useful Syntax"
   ]
  },
  {
   "cell_type": "code",
   "execution_count": 6,
   "id": "1ca76a10",
   "metadata": {
    "execution": {
     "iopub.execute_input": "2025-07-28T19:36:24.064190Z",
     "iopub.status.busy": "2025-07-28T19:36:24.064190Z",
     "iopub.status.idle": "2025-07-28T19:36:24.076048Z",
     "shell.execute_reply": "2025-07-28T19:36:24.073909Z"
    },
    "tags": [
     "remove-input"
    ]
   },
   "outputs": [
    {
     "data": {
      "text/markdown": [
       "Below we will include syntax that may be helpful to other researchers in the UK LLC TRE. For longer scripts, we will include a snippet of the code plus a link to Git where you can find the full scripts."
      ],
      "text/plain": [
       "<IPython.core.display.Markdown object>"
      ]
     },
     "metadata": {},
     "output_type": "display_data"
    }
   ],
   "source": [
    "ds.useful_syntax()"
   ]
  }
 ],
 "metadata": {
  "language_info": {
   "codemirror_mode": {
    "name": "ipython",
    "version": 3
   },
   "file_extension": ".py",
   "mimetype": "text/x-python",
   "name": "python",
   "nbconvert_exporter": "python",
   "pygments_lexer": "ipython3",
   "version": "3.12.7"
  }
 },
 "nbformat": 4,
 "nbformat_minor": 5
}
