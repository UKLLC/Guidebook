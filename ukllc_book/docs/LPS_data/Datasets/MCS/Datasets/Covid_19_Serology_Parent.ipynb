{
 "cells": [
  {
   "cell_type": "markdown",
   "id": "d78b132a",
   "metadata": {},
   "source": [
    "# COVID-19 Antibody Testing - MCS Parent Respondents (MCS)"
   ]
  },
  {
   "cell_type": "code",
   "execution_count": 1,
   "id": "30382a4f",
   "metadata": {
    "execution": {
     "iopub.execute_input": "2025-07-18T09:44:53.362873Z",
     "iopub.status.busy": "2025-07-18T09:44:53.362873Z",
     "iopub.status.idle": "2025-07-18T09:45:00.109598Z",
     "shell.execute_reply": "2025-07-18T09:45:00.108589Z"
    },
    "tags": [
     "remove-input"
    ]
   },
   "outputs": [
    {
     "data": {
      "text/markdown": [
       ">Last modified: 18 Jul 2025"
      ],
      "text/plain": [
       "<IPython.core.display.Markdown object>"
      ]
     },
     "metadata": {},
     "output_type": "display_data"
    }
   ],
   "source": [
    "\n",
    "import sys\n",
    "import os\n",
    "sys.path.append(os.path.abspath('../../../../scripts/'))\n",
    "from data_doc_helper import LPSDataSet as DS, last_modified\n",
    "API_KEY = os.environ['FASTAPI_KEY']\n",
    "ds = DS(\"MCS\", \"Covid_19_Serology_Parent\")\n",
    "last_modified()\n"
   ]
  },
  {
   "cell_type": "markdown",
   "id": "d7e12dff",
   "metadata": {},
   "source": [
    "## 1. Summary"
   ]
  },
  {
   "cell_type": "code",
   "execution_count": 2,
   "id": "ad87e3c4",
   "metadata": {
    "execution": {
     "iopub.execute_input": "2025-07-18T09:45:00.115599Z",
     "iopub.status.busy": "2025-07-18T09:45:00.115599Z",
     "iopub.status.idle": "2025-07-18T09:45:00.123747Z",
     "shell.execute_reply": "2025-07-18T09:45:00.122740Z"
    },
    "tags": [
     "remove-input"
    ]
   },
   "outputs": [
    {
     "data": {
      "text/markdown": [
       "Study members who participated in any of the three COVID-19 Surveys were invited to provide a blood sample to be analysed for COVID-19 antibodies. These were posted to a laboratory for tests for Roche Elecsys Anti-SARS-CoV-2 (a binary positive/negative Covid result) and Anti-SARS-CoV-2 S (a semi-quantitative assessment of antibodies to the SARS-CoV-2 spike protein)"
      ],
      "text/plain": [
       "<IPython.core.display.Markdown object>"
      ]
     },
     "metadata": {},
     "output_type": "display_data"
    }
   ],
   "source": [
    "ds.summary()"
   ]
  },
  {
   "cell_type": "code",
   "execution_count": 3,
   "id": "b88aa8d2",
   "metadata": {
    "execution": {
     "iopub.execute_input": "2025-07-18T09:45:00.129746Z",
     "iopub.status.busy": "2025-07-18T09:45:00.128747Z",
     "iopub.status.idle": "2025-07-18T09:45:01.141345Z",
     "shell.execute_reply": "2025-07-18T09:45:01.139334Z"
    },
    "tags": [
     "remove-input"
    ]
   },
   "outputs": [
    {
     "data": {
      "text/html": [
       "<style type=\"text/css\">\n",
       "#T_2bcb8 th {\n",
       "  text-align: left;\n",
       "}\n",
       "#T_2bcb8_row0_col0, #T_2bcb8_row0_col1, #T_2bcb8_row1_col0, #T_2bcb8_row1_col1, #T_2bcb8_row2_col0, #T_2bcb8_row2_col1, #T_2bcb8_row3_col0, #T_2bcb8_row3_col1, #T_2bcb8_row4_col0, #T_2bcb8_row4_col1, #T_2bcb8_row5_col0, #T_2bcb8_row5_col1, #T_2bcb8_row6_col0, #T_2bcb8_row6_col1, #T_2bcb8_row7_col0, #T_2bcb8_row7_col1, #T_2bcb8_row8_col0, #T_2bcb8_row8_col1, #T_2bcb8_row9_col0, #T_2bcb8_row9_col1, #T_2bcb8_row10_col0, #T_2bcb8_row10_col1, #T_2bcb8_row11_col0, #T_2bcb8_row11_col1, #T_2bcb8_row12_col0, #T_2bcb8_row12_col1 {\n",
       "  text-align: left;\n",
       "}\n",
       "</style>\n",
       "<table id=\"T_2bcb8\" style=\"font-size: 14px\">\n",
       "  <thead>\n",
       "    <tr>\n",
       "      <th id=\"T_2bcb8_level0_col0\" class=\"col_heading level0 col0\" >Dataset Descriptor</th>\n",
       "      <th id=\"T_2bcb8_level0_col1\" class=\"col_heading level0 col1\" >Dataset-specific Information</th>\n",
       "    </tr>\n",
       "  </thead>\n",
       "  <tbody>\n",
       "    <tr>\n",
       "      <td id=\"T_2bcb8_row0_col0\" class=\"data row0 col0\" >Name of Dataset in TRE</td>\n",
       "      <td id=\"T_2bcb8_row0_col1\" class=\"data row0 col1\" >MCS_Covid_19_Serology_Parent</td>\n",
       "    </tr>\n",
       "    <tr>\n",
       "      <td id=\"T_2bcb8_row1_col0\" class=\"data row1 col0\" >Citation (APA)</td>\n",
       "      <td id=\"T_2bcb8_row1_col1\" class=\"data row1 col1\" >University College London, UCL Social Research Institute, Centre for Longitudinal Studies. (2021). <i>Millennium Cohort Study (MCS): COVID-19 Antibody Testing - MCS Parent Respondents.</i> UK Longitudinal Linkage Collaboration (UK LLC).  <a href=\"https://doi.org/10.83126/ukllc-dataset-00235-01\" rel=\"noopener noreferrer\" target=\"_blank\">https://doi.org/10.83126/ukllc-dataset-00235-01</a></td>\n",
       "    </tr>\n",
       "    <tr>\n",
       "      <td id=\"T_2bcb8_row2_col0\" class=\"data row2 col0\" >Download Citation</td>\n",
       "      <td id=\"T_2bcb8_row2_col1\" class=\"data row2 col1\" > <a href=\"https://api.test.datacite.org/application/vnd.citationstyles.csl+json/10.83126/ukllc-dataset-00235-01\" rel=\"noopener noreferrer\" target=\"_blank\">Citeproc JSON</a>&nbsp;&nbsp;&nbsp;&nbsp; <a href=\"https://api.test.datacite.org/application/x-bibtex/10.83126/ukllc-dataset-00235-01\" rel=\"noopener noreferrer\" target=\"_blank\">BibTeX</a>&nbsp;&nbsp;&nbsp;&nbsp; <a href=\"https://api.test.datacite.org/application/x-research-info-systems/10.83126/ukllc-dataset-00235-01\" rel=\"noopener noreferrer\" target=\"_blank\">RIS</a></td>\n",
       "    </tr>\n",
       "    <tr>\n",
       "      <td id=\"T_2bcb8_row3_col0\" class=\"data row3 col0\" >Series</td>\n",
       "      <td id=\"T_2bcb8_row3_col1\" class=\"data row3 col1\" > <a href=\"https://guidebook.ukllc.ac.uk/docs/lps/lps%20profiles/MCS\">Millennium Cohort Study (MCS)</a></td>\n",
       "    </tr>\n",
       "    <tr>\n",
       "      <td id=\"T_2bcb8_row4_col0\" class=\"data row4 col0\" >Owner</td>\n",
       "      <td id=\"T_2bcb8_row4_col1\" class=\"data row4 col1\" >UCL</td>\n",
       "    </tr>\n",
       "    <tr>\n",
       "      <td id=\"T_2bcb8_row5_col0\" class=\"data row5 col0\" >Temporal Coverage</td>\n",
       "      <td id=\"T_2bcb8_row5_col1\" class=\"data row5 col1\" >03/2021 - 03/2021</td>\n",
       "    </tr>\n",
       "    <tr>\n",
       "      <td id=\"T_2bcb8_row6_col0\" class=\"data row6 col0\" >Keywords</td>\n",
       "      <td id=\"T_2bcb8_row6_col1\" class=\"data row6 col1\" >COVID,Education,Employment,Income,Household,Mental Health</td>\n",
       "    </tr>\n",
       "    <tr>\n",
       "      <td id=\"T_2bcb8_row7_col0\" class=\"data row7 col0\" >Participants Invited</td>\n",
       "      <td id=\"T_2bcb8_row7_col1\" class=\"data row7 col1\" >7878</td>\n",
       "    </tr>\n",
       "    <tr>\n",
       "      <td id=\"T_2bcb8_row8_col0\" class=\"data row8 col0\" >Participant Count</td>\n",
       "      <td id=\"T_2bcb8_row8_col1\" class=\"data row8 col1\" >6858</td>\n",
       "    </tr>\n",
       "    <tr>\n",
       "      <td id=\"T_2bcb8_row9_col0\" class=\"data row9 col0\" >Number of variables</td>\n",
       "      <td id=\"T_2bcb8_row9_col1\" class=\"data row9 col1\" >18</td>\n",
       "    </tr>\n",
       "    <tr>\n",
       "      <td id=\"T_2bcb8_row10_col0\" class=\"data row10 col0\" >Number of observations</td>\n",
       "      <td id=\"T_2bcb8_row10_col1\" class=\"data row10 col1\" >9791</td>\n",
       "    </tr>\n",
       "    <tr>\n",
       "      <td id=\"T_2bcb8_row11_col0\" class=\"data row11 col0\" >Specific Restrictions to Data Use</td>\n",
       "      <td id=\"T_2bcb8_row11_col1\" class=\"data row11 col1\" >None</td>\n",
       "    </tr>\n",
       "    <tr>\n",
       "      <td id=\"T_2bcb8_row12_col0\" class=\"data row12 col0\" >Build a Data Request</td>\n",
       "      <td id=\"T_2bcb8_row12_col1\" class=\"data row12 col1\" > <a href=\"https://explore.ukllc.ac.uk/\" rel=\"noopener noreferrer\" target=\"_blank\">https://explore.ukllc.ac.uk/</a></td>\n",
       "    </tr>\n",
       "  </tbody>\n",
       "</table>\n"
      ],
      "text/plain": [
       "<pandas.io.formats.style.Styler at 0x211aaffffb0>"
      ]
     },
     "execution_count": 3,
     "metadata": {},
     "output_type": "execute_result"
    }
   ],
   "source": [
    "ds.info_table()"
   ]
  },
  {
   "cell_type": "markdown",
   "id": "dc1cd7f2",
   "metadata": {},
   "source": [
    "## 2. Version History"
   ]
  },
  {
   "cell_type": "code",
   "execution_count": 4,
   "id": "f4b4bad3",
   "metadata": {
    "execution": {
     "iopub.execute_input": "2025-07-18T09:45:01.148349Z",
     "iopub.status.busy": "2025-07-18T09:45:01.147347Z",
     "iopub.status.idle": "2025-07-18T09:45:03.697016Z",
     "shell.execute_reply": "2025-07-18T09:45:03.696008Z"
    },
    "tags": [
     "remove-input"
    ]
   },
   "outputs": [
    {
     "data": {
      "text/html": [
       "<style type=\"text/css\">\n",
       "#T_d8950 th {\n",
       "  text-align: left;\n",
       "}\n",
       "#T_d8950_row0_col0, #T_d8950_row0_col1, #T_d8950_row1_col0, #T_d8950_row1_col1, #T_d8950_row2_col0, #T_d8950_row2_col1, #T_d8950_row3_col0, #T_d8950_row3_col1, #T_d8950_row4_col0, #T_d8950_row4_col1 {\n",
       "  text-align: left;\n",
       "}\n",
       "</style>\n",
       "<table id=\"T_d8950\" style=\"font-size: 14px\">\n",
       "  <thead>\n",
       "    <tr>\n",
       "      <th id=\"T_d8950_level0_col0\" class=\"col_heading level0 col0\" >Version</th>\n",
       "      <th id=\"T_d8950_level0_col1\" class=\"col_heading level0 col1\" >1</th>\n",
       "    </tr>\n",
       "  </thead>\n",
       "  <tbody>\n",
       "    <tr>\n",
       "      <td id=\"T_d8950_row0_col0\" class=\"data row0 col0\" >Version Date</td>\n",
       "      <td id=\"T_d8950_row0_col1\" class=\"data row0 col1\" >01 Nov 2021</td>\n",
       "    </tr>\n",
       "    <tr>\n",
       "      <td id=\"T_d8950_row1_col0\" class=\"data row1 col0\" >Number of Variables</td>\n",
       "      <td id=\"T_d8950_row1_col1\" class=\"data row1 col1\" >18</td>\n",
       "    </tr>\n",
       "    <tr>\n",
       "      <td id=\"T_d8950_row2_col0\" class=\"data row2 col0\" >Number of Observations</td>\n",
       "      <td id=\"T_d8950_row2_col1\" class=\"data row2 col1\" >9791</td>\n",
       "    </tr>\n",
       "    <tr>\n",
       "      <td id=\"T_d8950_row3_col0\" class=\"data row3 col0\" >DOI</td>\n",
       "      <td id=\"T_d8950_row3_col1\" class=\"data row3 col1\" > <a href=\"https://doi.org/10.83126/ukllc-dataset-00235-01\" rel=\"noopener noreferrer\" target=\"_blank\">10.83126/ukllc-dataset-00235-01</a></td>\n",
       "    </tr>\n",
       "    <tr>\n",
       "      <td id=\"T_d8950_row4_col0\" class=\"data row4 col0\" >Change Log</td>\n",
       "      <td id=\"T_d8950_row4_col1\" class=\"data row4 col1\" > <a href=\"https://api.test.datacite.org/dois/10.83126/ukllc-dataset-00235-01/activities\" rel=\"noopener noreferrer\" target=\"_blank\">10.83126/ukllc-dataset-00235-01/activities</a></td>\n",
       "    </tr>\n",
       "  </tbody>\n",
       "</table>\n"
      ],
      "text/plain": [
       "<pandas.io.formats.style.Styler at 0x211b0d1be30>"
      ]
     },
     "execution_count": 4,
     "metadata": {},
     "output_type": "execute_result"
    }
   ],
   "source": [
    "ds.version_history()"
   ]
  },
  {
   "cell_type": "markdown",
   "id": "be770130",
   "metadata": {},
   "source": [
    "## 3. Documentation"
   ]
  },
  {
   "cell_type": "code",
   "execution_count": 5,
   "id": "c4832948",
   "metadata": {
    "execution": {
     "iopub.execute_input": "2025-07-18T09:45:03.704018Z",
     "iopub.status.busy": "2025-07-18T09:45:03.703020Z",
     "iopub.status.idle": "2025-07-18T09:45:03.713142Z",
     "shell.execute_reply": "2025-07-18T09:45:03.712132Z"
    },
    "tags": [
     "remove-input"
    ]
   },
   "outputs": [
    {
     "data": {
      "text/markdown": [
       "We are currently building a documentation storage system which will host useful documents related to datasets and data owners. We will surface these documents on Guidebook."
      ],
      "text/plain": [
       "<IPython.core.display.Markdown object>"
      ]
     },
     "metadata": {},
     "output_type": "display_data"
    }
   ],
   "source": [
    "ds.documentation()"
   ]
  },
  {
   "cell_type": "markdown",
   "id": "e24e2d89",
   "metadata": {},
   "source": [
    "## 4. Useful Syntax"
   ]
  },
  {
   "cell_type": "code",
   "execution_count": 6,
   "id": "8f593ec8",
   "metadata": {
    "execution": {
     "iopub.execute_input": "2025-07-18T09:45:03.718139Z",
     "iopub.status.busy": "2025-07-18T09:45:03.718139Z",
     "iopub.status.idle": "2025-07-18T09:45:03.726214Z",
     "shell.execute_reply": "2025-07-18T09:45:03.725207Z"
    },
    "tags": [
     "remove-input"
    ]
   },
   "outputs": [
    {
     "data": {
      "text/markdown": [
       "Below we will include syntax that may be helpful to other researchers in the UK LLC TRE. For longer scripts, we will include a snippet of the code plus a link to Git where you can find the full scripts."
      ],
      "text/plain": [
       "<IPython.core.display.Markdown object>"
      ]
     },
     "metadata": {},
     "output_type": "display_data"
    }
   ],
   "source": [
    "ds.useful_syntax()"
   ]
  }
 ],
 "metadata": {
  "language_info": {
   "codemirror_mode": {
    "name": "ipython",
    "version": 3
   },
   "file_extension": ".py",
   "mimetype": "text/x-python",
   "name": "python",
   "nbconvert_exporter": "python",
   "pygments_lexer": "ipython3",
   "version": "3.12.7"
  }
 },
 "nbformat": 4,
 "nbformat_minor": 5
}
