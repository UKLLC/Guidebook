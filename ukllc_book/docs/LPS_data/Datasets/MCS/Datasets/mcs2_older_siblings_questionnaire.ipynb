{
 "cells": [
  {
   "cell_type": "markdown",
   "id": "b60e8299",
   "metadata": {},
   "source": [
    "# MCS2 Older Siblings Questionnaire (MCS)"
   ]
  },
  {
   "cell_type": "code",
   "execution_count": 1,
   "id": "fd12b64c",
   "metadata": {
    "execution": {
     "iopub.execute_input": "2025-07-28T19:20:20.071911Z",
     "iopub.status.busy": "2025-07-28T19:20:20.071911Z",
     "iopub.status.idle": "2025-07-28T19:20:31.993791Z",
     "shell.execute_reply": "2025-07-28T19:20:31.991749Z"
    },
    "tags": [
     "remove-input"
    ]
   },
   "outputs": [
    {
     "data": {
      "text/markdown": [
       ">Last modified: 28 Jul 2025"
      ],
      "text/plain": [
       "<IPython.core.display.Markdown object>"
      ]
     },
     "metadata": {},
     "output_type": "display_data"
    }
   ],
   "source": [
    "\n",
    "import sys\n",
    "import os\n",
    "sys.path.append(os.path.abspath('../../../../scripts/'))\n",
    "from data_doc_helper import LPSDataSet as DS, last_modified\n",
    "API_KEY = os.environ['FASTAPI_KEY']\n",
    "ds = DS(\"MCS\", \"mcs2_older_siblings_questionnaire\")\n",
    "last_modified()\n"
   ]
  },
  {
   "cell_type": "markdown",
   "id": "ab555cfa",
   "metadata": {},
   "source": [
    "## 1. Summary"
   ]
  },
  {
   "cell_type": "code",
   "execution_count": 2,
   "id": "5339b154",
   "metadata": {
    "execution": {
     "iopub.execute_input": "2025-07-28T19:20:32.002377Z",
     "iopub.status.busy": "2025-07-28T19:20:32.000851Z",
     "iopub.status.idle": "2025-07-28T19:20:32.014953Z",
     "shell.execute_reply": "2025-07-28T19:20:32.013934Z"
    },
    "tags": [
     "remove-input"
    ]
   },
   "outputs": [
    {
     "data": {
      "text/markdown": [
       "This dataset contains parent-reported child SDQ responses and derived scores for selected older sibling of the cohort member, along with responses from parents on many topics such as the sibling's interests and health. The dataset also contains self completion responses by the older siblings to a separate questionnaire about their hobbies, interests, activities, anti social behaviour etc. "
      ],
      "text/plain": [
       "<IPython.core.display.Markdown object>"
      ]
     },
     "metadata": {},
     "output_type": "display_data"
    }
   ],
   "source": [
    "ds.summary()"
   ]
  },
  {
   "cell_type": "code",
   "execution_count": 3,
   "id": "cb0c063a",
   "metadata": {
    "execution": {
     "iopub.execute_input": "2025-07-28T19:20:32.019953Z",
     "iopub.status.busy": "2025-07-28T19:20:32.019953Z",
     "iopub.status.idle": "2025-07-28T19:20:33.949199Z",
     "shell.execute_reply": "2025-07-28T19:20:33.947184Z"
    },
    "tags": [
     "remove-input"
    ]
   },
   "outputs": [
    {
     "data": {
      "text/html": [
       "<style type=\"text/css\">\n",
       "#T_8547f th {\n",
       "  text-align: left;\n",
       "}\n",
       "#T_8547f_row0_col0, #T_8547f_row0_col1, #T_8547f_row1_col0, #T_8547f_row1_col1, #T_8547f_row2_col0, #T_8547f_row2_col1, #T_8547f_row3_col0, #T_8547f_row3_col1, #T_8547f_row4_col0, #T_8547f_row4_col1, #T_8547f_row5_col0, #T_8547f_row5_col1, #T_8547f_row6_col0, #T_8547f_row6_col1, #T_8547f_row7_col0, #T_8547f_row7_col1, #T_8547f_row8_col0, #T_8547f_row8_col1, #T_8547f_row9_col0, #T_8547f_row9_col1, #T_8547f_row10_col0, #T_8547f_row10_col1, #T_8547f_row11_col0, #T_8547f_row11_col1, #T_8547f_row12_col0, #T_8547f_row12_col1 {\n",
       "  text-align: left;\n",
       "}\n",
       "</style>\n",
       "<table id=\"T_8547f\" style=\"font-size: 14px\">\n",
       "  <thead>\n",
       "    <tr>\n",
       "      <th id=\"T_8547f_level0_col0\" class=\"col_heading level0 col0\" >Dataset Descriptor</th>\n",
       "      <th id=\"T_8547f_level0_col1\" class=\"col_heading level0 col1\" >Dataset-specific Information</th>\n",
       "    </tr>\n",
       "  </thead>\n",
       "  <tbody>\n",
       "    <tr>\n",
       "      <td id=\"T_8547f_row0_col0\" class=\"data row0 col0\" >Name of Dataset in TRE</td>\n",
       "      <td id=\"T_8547f_row0_col1\" class=\"data row0 col1\" >MCS_mcs2_older_siblings_questionnaire</td>\n",
       "    </tr>\n",
       "    <tr>\n",
       "      <td id=\"T_8547f_row1_col0\" class=\"data row1 col0\" >Citation (APA)</td>\n",
       "      <td id=\"T_8547f_row1_col1\" class=\"data row1 col1\" >University College London, UCL Social Research Institute, Centre for Longitudinal Studies. (2021). <i>Millennium Cohort Study (MCS): MCS2 Older Siblings Questionnaire.</i> UK Longitudinal Linkage Collaboration (UK LLC).  <a href=\"https://doi.org/10.71760/ukllc-dataset-00176-01\" rel=\"noopener noreferrer\" target=\"_blank\">https://doi.org/10.71760/ukllc-dataset-00176-01</a></td>\n",
       "    </tr>\n",
       "    <tr>\n",
       "      <td id=\"T_8547f_row2_col0\" class=\"data row2 col0\" >Download Citation</td>\n",
       "      <td id=\"T_8547f_row2_col1\" class=\"data row2 col1\" > <a href=\"https://api.datacite.org/application/vnd.citationstyles.csl+json/10.71760/ukllc-dataset-00176-01\" rel=\"noopener noreferrer\" target=\"_blank\">Citeproc JSON</a>&nbsp;&nbsp;&nbsp;&nbsp; <a href=\"https://api.datacite.org/application/x-bibtex/10.71760/ukllc-dataset-00176-01\" rel=\"noopener noreferrer\" target=\"_blank\">BibTeX</a>&nbsp;&nbsp;&nbsp;&nbsp; <a href=\"https://api.datacite.org/application/x-research-info-systems/10.71760/ukllc-dataset-00176-01\" rel=\"noopener noreferrer\" target=\"_blank\">RIS</a></td>\n",
       "    </tr>\n",
       "    <tr>\n",
       "      <td id=\"T_8547f_row3_col0\" class=\"data row3 col0\" >Series</td>\n",
       "      <td id=\"T_8547f_row3_col1\" class=\"data row3 col1\" > <a href=\"https://guidebook.ukllc.ac.uk/docs/lps_data/lps%20profiles/MCS\">Millennium Cohort Study (MCS)</a></td>\n",
       "    </tr>\n",
       "    <tr>\n",
       "      <td id=\"T_8547f_row4_col0\" class=\"data row4 col0\" >Owner</td>\n",
       "      <td id=\"T_8547f_row4_col1\" class=\"data row4 col1\" >UCL</td>\n",
       "    </tr>\n",
       "    <tr>\n",
       "      <td id=\"T_8547f_row5_col0\" class=\"data row5 col0\" >Temporal Coverage</td>\n",
       "      <td id=\"T_8547f_row5_col1\" class=\"data row5 col1\" >09/2003 - 04/2005</td>\n",
       "    </tr>\n",
       "    <tr>\n",
       "      <td id=\"T_8547f_row6_col0\" class=\"data row6 col0\" >Keywords</td>\n",
       "      <td id=\"T_8547f_row6_col1\" class=\"data row6 col1\" >Family Life,Health,employment,attitudes,Social mobility</td>\n",
       "    </tr>\n",
       "    <tr>\n",
       "      <td id=\"T_8547f_row7_col0\" class=\"data row7 col0\" >Participants Invited</td>\n",
       "      <td id=\"T_8547f_row7_col1\" class=\"data row7 col1\" >15590</td>\n",
       "    </tr>\n",
       "    <tr>\n",
       "      <td id=\"T_8547f_row8_col0\" class=\"data row8 col0\" >Participant Count</td>\n",
       "      <td id=\"T_8547f_row8_col1\" class=\"data row8 col1\" >25985</td>\n",
       "    </tr>\n",
       "    <tr>\n",
       "      <td id=\"T_8547f_row9_col0\" class=\"data row9 col0\" >Number of variables</td>\n",
       "      <td id=\"T_8547f_row9_col1\" class=\"data row9 col1\" >474</td>\n",
       "    </tr>\n",
       "    <tr>\n",
       "      <td id=\"T_8547f_row10_col0\" class=\"data row10 col0\" >Number of observations</td>\n",
       "      <td id=\"T_8547f_row10_col1\" class=\"data row10 col1\" >47991</td>\n",
       "    </tr>\n",
       "    <tr>\n",
       "      <td id=\"T_8547f_row11_col0\" class=\"data row11 col0\" >Specific Restrictions to Data Use</td>\n",
       "      <td id=\"T_8547f_row11_col1\" class=\"data row11 col1\" >None</td>\n",
       "    </tr>\n",
       "    <tr>\n",
       "      <td id=\"T_8547f_row12_col0\" class=\"data row12 col0\" >Build a Data Request</td>\n",
       "      <td id=\"T_8547f_row12_col1\" class=\"data row12 col1\" > <a href=\"https://explore.ukllc.ac.uk/\" rel=\"noopener noreferrer\" target=\"_blank\">https://explore.ukllc.ac.uk/</a></td>\n",
       "    </tr>\n",
       "  </tbody>\n",
       "</table>\n"
      ],
      "text/plain": [
       "<pandas.io.formats.style.Styler at 0x29732d5bef0>"
      ]
     },
     "execution_count": 3,
     "metadata": {},
     "output_type": "execute_result"
    }
   ],
   "source": [
    "ds.info_table()"
   ]
  },
  {
   "cell_type": "markdown",
   "id": "fe215704",
   "metadata": {},
   "source": [
    "## 2. Version History"
   ]
  },
  {
   "cell_type": "code",
   "execution_count": 4,
   "id": "8cf70dea",
   "metadata": {
    "execution": {
     "iopub.execute_input": "2025-07-28T19:20:33.960221Z",
     "iopub.status.busy": "2025-07-28T19:20:33.957200Z",
     "iopub.status.idle": "2025-07-28T19:20:39.043065Z",
     "shell.execute_reply": "2025-07-28T19:20:39.039857Z"
    },
    "tags": [
     "remove-input"
    ]
   },
   "outputs": [
    {
     "data": {
      "text/html": [
       "<style type=\"text/css\">\n",
       "#T_7eecb th {\n",
       "  text-align: left;\n",
       "}\n",
       "#T_7eecb_row0_col0, #T_7eecb_row0_col1, #T_7eecb_row1_col0, #T_7eecb_row1_col1, #T_7eecb_row2_col0, #T_7eecb_row2_col1, #T_7eecb_row3_col0, #T_7eecb_row3_col1, #T_7eecb_row4_col0, #T_7eecb_row4_col1 {\n",
       "  text-align: left;\n",
       "}\n",
       "</style>\n",
       "<table id=\"T_7eecb\" style=\"font-size: 14px\">\n",
       "  <thead>\n",
       "    <tr>\n",
       "      <th id=\"T_7eecb_level0_col0\" class=\"col_heading level0 col0\" >Version</th>\n",
       "      <th id=\"T_7eecb_level0_col1\" class=\"col_heading level0 col1\" >1</th>\n",
       "    </tr>\n",
       "  </thead>\n",
       "  <tbody>\n",
       "    <tr>\n",
       "      <td id=\"T_7eecb_row0_col0\" class=\"data row0 col0\" >Version Date</td>\n",
       "      <td id=\"T_7eecb_row0_col1\" class=\"data row0 col1\" >01 Nov 2021</td>\n",
       "    </tr>\n",
       "    <tr>\n",
       "      <td id=\"T_7eecb_row1_col0\" class=\"data row1 col0\" >Number of Variables</td>\n",
       "      <td id=\"T_7eecb_row1_col1\" class=\"data row1 col1\" >474</td>\n",
       "    </tr>\n",
       "    <tr>\n",
       "      <td id=\"T_7eecb_row2_col0\" class=\"data row2 col0\" >Number of Observations</td>\n",
       "      <td id=\"T_7eecb_row2_col1\" class=\"data row2 col1\" >47991</td>\n",
       "    </tr>\n",
       "    <tr>\n",
       "      <td id=\"T_7eecb_row3_col0\" class=\"data row3 col0\" >DOI</td>\n",
       "      <td id=\"T_7eecb_row3_col1\" class=\"data row3 col1\" > <a href=\"https://doi.org/10.71760/ukllc-dataset-00176-01\" rel=\"noopener noreferrer\" target=\"_blank\">10.71760/ukllc-dataset-00176-01</a></td>\n",
       "    </tr>\n",
       "    <tr>\n",
       "      <td id=\"T_7eecb_row4_col0\" class=\"data row4 col0\" >Change Log</td>\n",
       "      <td id=\"T_7eecb_row4_col1\" class=\"data row4 col1\" > <a href=\"https://api.test.datacite.org/dois/10.71760/ukllc-dataset-00176-01/activities\" rel=\"noopener noreferrer\" target=\"_blank\">10.71760/ukllc-dataset-00176-01/activities</a></td>\n",
       "    </tr>\n",
       "  </tbody>\n",
       "</table>\n"
      ],
      "text/plain": [
       "<pandas.io.formats.style.Styler at 0x2973a36a780>"
      ]
     },
     "execution_count": 4,
     "metadata": {},
     "output_type": "execute_result"
    }
   ],
   "source": [
    "ds.version_history()"
   ]
  },
  {
   "cell_type": "markdown",
   "id": "0a2be183",
   "metadata": {},
   "source": [
    "## 3. Documentation"
   ]
  },
  {
   "cell_type": "code",
   "execution_count": 5,
   "id": "0c57abb7",
   "metadata": {
    "execution": {
     "iopub.execute_input": "2025-07-28T19:20:39.053093Z",
     "iopub.status.busy": "2025-07-28T19:20:39.051094Z",
     "iopub.status.idle": "2025-07-28T19:20:39.068287Z",
     "shell.execute_reply": "2025-07-28T19:20:39.066750Z"
    },
    "tags": [
     "remove-input"
    ]
   },
   "outputs": [
    {
     "data": {
      "text/markdown": [
       "We are currently building a documentation storage system which will host useful documents related to datasets and data owners. We will surface these documents on Guidebook."
      ],
      "text/plain": [
       "<IPython.core.display.Markdown object>"
      ]
     },
     "metadata": {},
     "output_type": "display_data"
    }
   ],
   "source": [
    "ds.documentation()"
   ]
  },
  {
   "cell_type": "markdown",
   "id": "12b318ee",
   "metadata": {},
   "source": [
    "## 4. Useful Syntax"
   ]
  },
  {
   "cell_type": "code",
   "execution_count": 6,
   "id": "58e16fb6",
   "metadata": {
    "execution": {
     "iopub.execute_input": "2025-07-28T19:20:39.076289Z",
     "iopub.status.busy": "2025-07-28T19:20:39.075286Z",
     "iopub.status.idle": "2025-07-28T19:20:39.092613Z",
     "shell.execute_reply": "2025-07-28T19:20:39.090595Z"
    },
    "tags": [
     "remove-input"
    ]
   },
   "outputs": [
    {
     "data": {
      "text/markdown": [
       "Below we will include syntax that may be helpful to other researchers in the UK LLC TRE. For longer scripts, we will include a snippet of the code plus a link to Git where you can find the full scripts."
      ],
      "text/plain": [
       "<IPython.core.display.Markdown object>"
      ]
     },
     "metadata": {},
     "output_type": "display_data"
    }
   ],
   "source": [
    "ds.useful_syntax()"
   ]
  }
 ],
 "metadata": {
  "language_info": {
   "codemirror_mode": {
    "name": "ipython",
    "version": 3
   },
   "file_extension": ".py",
   "mimetype": "text/x-python",
   "name": "python",
   "nbconvert_exporter": "python",
   "pygments_lexer": "ipython3",
   "version": "3.12.7"
  }
 },
 "nbformat": 4,
 "nbformat_minor": 5
}
