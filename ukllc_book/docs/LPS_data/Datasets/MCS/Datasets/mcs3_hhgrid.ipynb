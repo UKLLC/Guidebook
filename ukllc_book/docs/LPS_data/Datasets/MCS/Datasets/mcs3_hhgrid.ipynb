{
 "cells": [
  {
   "cell_type": "markdown",
   "id": "17f8b2e7",
   "metadata": {},
   "source": [
    "# MCS3 Household Grid (MCS)"
   ]
  },
  {
   "cell_type": "code",
   "execution_count": 1,
   "id": "c39ac8bc",
   "metadata": {
    "execution": {
     "iopub.execute_input": "2025-07-18T09:52:34.927532Z",
     "iopub.status.busy": "2025-07-18T09:52:34.927532Z",
     "iopub.status.idle": "2025-07-18T09:52:41.777505Z",
     "shell.execute_reply": "2025-07-18T09:52:41.775991Z"
    },
    "tags": [
     "remove-input"
    ]
   },
   "outputs": [
    {
     "data": {
      "text/markdown": [
       ">Last modified: 18 Jul 2025"
      ],
      "text/plain": [
       "<IPython.core.display.Markdown object>"
      ]
     },
     "metadata": {},
     "output_type": "display_data"
    }
   ],
   "source": [
    "\n",
    "import sys\n",
    "import os\n",
    "sys.path.append(os.path.abspath('../../../../scripts/'))\n",
    "from data_doc_helper import LPSDataSet as DS, last_modified\n",
    "API_KEY = os.environ['FASTAPI_KEY']\n",
    "ds = DS(\"MCS\", \"mcs3_hhgrid\")\n",
    "last_modified()\n"
   ]
  },
  {
   "cell_type": "markdown",
   "id": "426036eb",
   "metadata": {},
   "source": [
    "## 1. Summary"
   ]
  },
  {
   "cell_type": "code",
   "execution_count": 2,
   "id": "43989481",
   "metadata": {
    "execution": {
     "iopub.execute_input": "2025-07-18T09:52:41.783504Z",
     "iopub.status.busy": "2025-07-18T09:52:41.782505Z",
     "iopub.status.idle": "2025-07-18T09:52:41.792682Z",
     "shell.execute_reply": "2025-07-18T09:52:41.791507Z"
    },
    "tags": [
     "remove-input"
    ]
   },
   "outputs": [
    {
     "data": {
      "text/markdown": [
       "The household grid dataset provides key demographic information about the people who lived with the Cohort Member at the time of the interview. This includes variables showing whether a person was present at the interview, the relationship of each person to the Cohort Member and the relationship of each person to the others present in the household. This is particularly helpful for research on family structure and environment."
      ],
      "text/plain": [
       "<IPython.core.display.Markdown object>"
      ]
     },
     "metadata": {},
     "output_type": "display_data"
    }
   ],
   "source": [
    "ds.summary()"
   ]
  },
  {
   "cell_type": "code",
   "execution_count": 3,
   "id": "47e02154",
   "metadata": {
    "execution": {
     "iopub.execute_input": "2025-07-18T09:52:41.797681Z",
     "iopub.status.busy": "2025-07-18T09:52:41.797681Z",
     "iopub.status.idle": "2025-07-18T09:52:42.923022Z",
     "shell.execute_reply": "2025-07-18T09:52:42.922016Z"
    },
    "tags": [
     "remove-input"
    ]
   },
   "outputs": [
    {
     "data": {
      "text/html": [
       "<style type=\"text/css\">\n",
       "#T_d88cd th {\n",
       "  text-align: left;\n",
       "}\n",
       "#T_d88cd_row0_col0, #T_d88cd_row0_col1, #T_d88cd_row1_col0, #T_d88cd_row1_col1, #T_d88cd_row2_col0, #T_d88cd_row2_col1, #T_d88cd_row3_col0, #T_d88cd_row3_col1, #T_d88cd_row4_col0, #T_d88cd_row4_col1, #T_d88cd_row5_col0, #T_d88cd_row5_col1, #T_d88cd_row6_col0, #T_d88cd_row6_col1, #T_d88cd_row7_col0, #T_d88cd_row7_col1, #T_d88cd_row8_col0, #T_d88cd_row8_col1, #T_d88cd_row9_col0, #T_d88cd_row9_col1, #T_d88cd_row10_col0, #T_d88cd_row10_col1, #T_d88cd_row11_col0, #T_d88cd_row11_col1, #T_d88cd_row12_col0, #T_d88cd_row12_col1 {\n",
       "  text-align: left;\n",
       "}\n",
       "</style>\n",
       "<table id=\"T_d88cd\" style=\"font-size: 14px\">\n",
       "  <thead>\n",
       "    <tr>\n",
       "      <th id=\"T_d88cd_level0_col0\" class=\"col_heading level0 col0\" >Dataset Descriptor</th>\n",
       "      <th id=\"T_d88cd_level0_col1\" class=\"col_heading level0 col1\" >Dataset-specific Information</th>\n",
       "    </tr>\n",
       "  </thead>\n",
       "  <tbody>\n",
       "    <tr>\n",
       "      <td id=\"T_d88cd_row0_col0\" class=\"data row0 col0\" >Name of Dataset in TRE</td>\n",
       "      <td id=\"T_d88cd_row0_col1\" class=\"data row0 col1\" >MCS_mcs3_hhgrid</td>\n",
       "    </tr>\n",
       "    <tr>\n",
       "      <td id=\"T_d88cd_row1_col0\" class=\"data row1 col0\" >Citation (APA)</td>\n",
       "      <td id=\"T_d88cd_row1_col1\" class=\"data row1 col1\" >University College London, UCL Social Research Institute, Centre for Longitudinal Studies. (2021). <i>Millennium Cohort Study (MCS): MCS3 Household Grid.</i> UK Longitudinal Linkage Collaboration (UK LLC).  <a href=\"https://doi.org/10.83126/ukllc-dataset-00265-01\" rel=\"noopener noreferrer\" target=\"_blank\">https://doi.org/10.83126/ukllc-dataset-00265-01</a></td>\n",
       "    </tr>\n",
       "    <tr>\n",
       "      <td id=\"T_d88cd_row2_col0\" class=\"data row2 col0\" >Download Citation</td>\n",
       "      <td id=\"T_d88cd_row2_col1\" class=\"data row2 col1\" > <a href=\"https://api.test.datacite.org/application/vnd.citationstyles.csl+json/10.83126/ukllc-dataset-00265-01\" rel=\"noopener noreferrer\" target=\"_blank\">Citeproc JSON</a>&nbsp;&nbsp;&nbsp;&nbsp; <a href=\"https://api.test.datacite.org/application/x-bibtex/10.83126/ukllc-dataset-00265-01\" rel=\"noopener noreferrer\" target=\"_blank\">BibTeX</a>&nbsp;&nbsp;&nbsp;&nbsp; <a href=\"https://api.test.datacite.org/application/x-research-info-systems/10.83126/ukllc-dataset-00265-01\" rel=\"noopener noreferrer\" target=\"_blank\">RIS</a></td>\n",
       "    </tr>\n",
       "    <tr>\n",
       "      <td id=\"T_d88cd_row3_col0\" class=\"data row3 col0\" >Series</td>\n",
       "      <td id=\"T_d88cd_row3_col1\" class=\"data row3 col1\" > <a href=\"https://guidebook.ukllc.ac.uk/docs/lps/lps%20profiles/MCS\">Millennium Cohort Study (MCS)</a></td>\n",
       "    </tr>\n",
       "    <tr>\n",
       "      <td id=\"T_d88cd_row4_col0\" class=\"data row4 col0\" >Owner</td>\n",
       "      <td id=\"T_d88cd_row4_col1\" class=\"data row4 col1\" >UCL</td>\n",
       "    </tr>\n",
       "    <tr>\n",
       "      <td id=\"T_d88cd_row5_col0\" class=\"data row5 col0\" >Temporal Coverage</td>\n",
       "      <td id=\"T_d88cd_row5_col1\" class=\"data row5 col1\" >01/2006 - 12/2006</td>\n",
       "    </tr>\n",
       "    <tr>\n",
       "      <td id=\"T_d88cd_row6_col0\" class=\"data row6 col0\" >Keywords</td>\n",
       "      <td id=\"T_d88cd_row6_col1\" class=\"data row6 col1\" >Family Life,Health,employment,attitudes,Social mobility</td>\n",
       "    </tr>\n",
       "    <tr>\n",
       "      <td id=\"T_d88cd_row7_col0\" class=\"data row7 col0\" >Participants Invited</td>\n",
       "      <td id=\"T_d88cd_row7_col1\" class=\"data row7 col1\" >15246</td>\n",
       "    </tr>\n",
       "    <tr>\n",
       "      <td id=\"T_d88cd_row8_col0\" class=\"data row8 col0\" >Participant Count</td>\n",
       "      <td id=\"T_d88cd_row8_col1\" class=\"data row8 col1\" >26559</td>\n",
       "    </tr>\n",
       "    <tr>\n",
       "      <td id=\"T_d88cd_row9_col0\" class=\"data row9 col0\" >Number of variables</td>\n",
       "      <td id=\"T_d88cd_row9_col1\" class=\"data row9 col1\" >61</td>\n",
       "    </tr>\n",
       "    <tr>\n",
       "      <td id=\"T_d88cd_row10_col0\" class=\"data row10 col0\" >Number of observations</td>\n",
       "      <td id=\"T_d88cd_row10_col1\" class=\"data row10 col1\" >44927</td>\n",
       "    </tr>\n",
       "    <tr>\n",
       "      <td id=\"T_d88cd_row11_col0\" class=\"data row11 col0\" >Specific Restrictions to Data Use</td>\n",
       "      <td id=\"T_d88cd_row11_col1\" class=\"data row11 col1\" >None</td>\n",
       "    </tr>\n",
       "    <tr>\n",
       "      <td id=\"T_d88cd_row12_col0\" class=\"data row12 col0\" >Build a Data Request</td>\n",
       "      <td id=\"T_d88cd_row12_col1\" class=\"data row12 col1\" > <a href=\"https://explore.ukllc.ac.uk/\" rel=\"noopener noreferrer\" target=\"_blank\">https://explore.ukllc.ac.uk/</a></td>\n",
       "    </tr>\n",
       "  </tbody>\n",
       "</table>\n"
      ],
      "text/plain": [
       "<pandas.io.formats.style.Styler at 0x1ffa49d7650>"
      ]
     },
     "execution_count": 3,
     "metadata": {},
     "output_type": "execute_result"
    }
   ],
   "source": [
    "ds.info_table()"
   ]
  },
  {
   "cell_type": "markdown",
   "id": "d26b2ed0",
   "metadata": {},
   "source": [
    "## 2. Version History"
   ]
  },
  {
   "cell_type": "code",
   "execution_count": 4,
   "id": "ce95cf6d",
   "metadata": {
    "execution": {
     "iopub.execute_input": "2025-07-18T09:52:42.931030Z",
     "iopub.status.busy": "2025-07-18T09:52:42.930029Z",
     "iopub.status.idle": "2025-07-18T09:52:46.075996Z",
     "shell.execute_reply": "2025-07-18T09:52:46.074396Z"
    },
    "tags": [
     "remove-input"
    ]
   },
   "outputs": [
    {
     "data": {
      "text/html": [
       "<style type=\"text/css\">\n",
       "#T_3395b th {\n",
       "  text-align: left;\n",
       "}\n",
       "#T_3395b_row0_col0, #T_3395b_row0_col1, #T_3395b_row1_col0, #T_3395b_row1_col1, #T_3395b_row2_col0, #T_3395b_row2_col1, #T_3395b_row3_col0, #T_3395b_row3_col1, #T_3395b_row4_col0, #T_3395b_row4_col1 {\n",
       "  text-align: left;\n",
       "}\n",
       "</style>\n",
       "<table id=\"T_3395b\" style=\"font-size: 14px\">\n",
       "  <thead>\n",
       "    <tr>\n",
       "      <th id=\"T_3395b_level0_col0\" class=\"col_heading level0 col0\" >Version</th>\n",
       "      <th id=\"T_3395b_level0_col1\" class=\"col_heading level0 col1\" >1</th>\n",
       "    </tr>\n",
       "  </thead>\n",
       "  <tbody>\n",
       "    <tr>\n",
       "      <td id=\"T_3395b_row0_col0\" class=\"data row0 col0\" >Version Date</td>\n",
       "      <td id=\"T_3395b_row0_col1\" class=\"data row0 col1\" >01 Nov 2021</td>\n",
       "    </tr>\n",
       "    <tr>\n",
       "      <td id=\"T_3395b_row1_col0\" class=\"data row1 col0\" >Number of Variables</td>\n",
       "      <td id=\"T_3395b_row1_col1\" class=\"data row1 col1\" >61</td>\n",
       "    </tr>\n",
       "    <tr>\n",
       "      <td id=\"T_3395b_row2_col0\" class=\"data row2 col0\" >Number of Observations</td>\n",
       "      <td id=\"T_3395b_row2_col1\" class=\"data row2 col1\" >44927</td>\n",
       "    </tr>\n",
       "    <tr>\n",
       "      <td id=\"T_3395b_row3_col0\" class=\"data row3 col0\" >DOI</td>\n",
       "      <td id=\"T_3395b_row3_col1\" class=\"data row3 col1\" > <a href=\"https://doi.org/10.83126/ukllc-dataset-00265-01\" rel=\"noopener noreferrer\" target=\"_blank\">10.83126/ukllc-dataset-00265-01</a></td>\n",
       "    </tr>\n",
       "    <tr>\n",
       "      <td id=\"T_3395b_row4_col0\" class=\"data row4 col0\" >Change Log</td>\n",
       "      <td id=\"T_3395b_row4_col1\" class=\"data row4 col1\" > <a href=\"https://api.test.datacite.org/dois/10.83126/ukllc-dataset-00265-01/activities\" rel=\"noopener noreferrer\" target=\"_blank\">10.83126/ukllc-dataset-00265-01/activities</a></td>\n",
       "    </tr>\n",
       "  </tbody>\n",
       "</table>\n"
      ],
      "text/plain": [
       "<pandas.io.formats.style.Styler at 0x1ffa49d7b90>"
      ]
     },
     "execution_count": 4,
     "metadata": {},
     "output_type": "execute_result"
    }
   ],
   "source": [
    "ds.version_history()"
   ]
  },
  {
   "cell_type": "markdown",
   "id": "3b8bbd5d",
   "metadata": {},
   "source": [
    "## 3. Documentation"
   ]
  },
  {
   "cell_type": "code",
   "execution_count": 5,
   "id": "878d5692",
   "metadata": {
    "execution": {
     "iopub.execute_input": "2025-07-18T09:52:46.082007Z",
     "iopub.status.busy": "2025-07-18T09:52:46.081008Z",
     "iopub.status.idle": "2025-07-18T09:52:46.092421Z",
     "shell.execute_reply": "2025-07-18T09:52:46.090917Z"
    },
    "tags": [
     "remove-input"
    ]
   },
   "outputs": [
    {
     "data": {
      "text/markdown": [
       "We are currently building a documentation storage system which will host useful documents related to datasets and data owners. We will surface these documents on Guidebook."
      ],
      "text/plain": [
       "<IPython.core.display.Markdown object>"
      ]
     },
     "metadata": {},
     "output_type": "display_data"
    }
   ],
   "source": [
    "ds.documentation()"
   ]
  },
  {
   "cell_type": "markdown",
   "id": "07dbff78",
   "metadata": {},
   "source": [
    "## 4. Useful Syntax"
   ]
  },
  {
   "cell_type": "code",
   "execution_count": 6,
   "id": "a592358e",
   "metadata": {
    "execution": {
     "iopub.execute_input": "2025-07-18T09:52:46.097404Z",
     "iopub.status.busy": "2025-07-18T09:52:46.096440Z",
     "iopub.status.idle": "2025-07-18T09:52:46.105893Z",
     "shell.execute_reply": "2025-07-18T09:52:46.104887Z"
    },
    "tags": [
     "remove-input"
    ]
   },
   "outputs": [
    {
     "data": {
      "text/markdown": [
       "Below we will include syntax that may be helpful to other researchers in the UK LLC TRE. For longer scripts, we will include a snippet of the code plus a link to Git where you can find the full scripts."
      ],
      "text/plain": [
       "<IPython.core.display.Markdown object>"
      ]
     },
     "metadata": {},
     "output_type": "display_data"
    }
   ],
   "source": [
    "ds.useful_syntax()"
   ]
  }
 ],
 "metadata": {
  "language_info": {
   "codemirror_mode": {
    "name": "ipython",
    "version": 3
   },
   "file_extension": ".py",
   "mimetype": "text/x-python",
   "name": "python",
   "nbconvert_exporter": "python",
   "pygments_lexer": "ipython3",
   "version": "3.12.7"
  }
 },
 "nbformat": 4,
 "nbformat_minor": 5
}
