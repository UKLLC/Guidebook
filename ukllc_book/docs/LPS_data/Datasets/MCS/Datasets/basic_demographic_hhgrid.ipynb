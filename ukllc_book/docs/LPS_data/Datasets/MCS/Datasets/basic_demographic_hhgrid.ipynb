{
 "cells": [
  {
   "cell_type": "markdown",
   "id": "2f8325a6",
   "metadata": {},
   "source": [
    "# Basic demographic variables - MCS Cohort Members and respondents (MCS)"
   ]
  },
  {
   "cell_type": "code",
   "execution_count": 1,
   "id": "1353345a",
   "metadata": {
    "execution": {
     "iopub.execute_input": "2025-07-18T09:44:08.030518Z",
     "iopub.status.busy": "2025-07-18T09:44:08.030518Z",
     "iopub.status.idle": "2025-07-18T09:44:14.938975Z",
     "shell.execute_reply": "2025-07-18T09:44:14.936459Z"
    },
    "tags": [
     "remove-input"
    ]
   },
   "outputs": [
    {
     "data": {
      "text/markdown": [
       ">Last modified: 18 Jul 2025"
      ],
      "text/plain": [
       "<IPython.core.display.Markdown object>"
      ]
     },
     "metadata": {},
     "output_type": "display_data"
    }
   ],
   "source": [
    "\n",
    "import sys\n",
    "import os\n",
    "sys.path.append(os.path.abspath('../../../../scripts/'))\n",
    "from data_doc_helper import LPSDataSet as DS, last_modified\n",
    "API_KEY = os.environ['FASTAPI_KEY']\n",
    "ds = DS(\"MCS\", \"basic_demographic_hhgrid\")\n",
    "last_modified()\n"
   ]
  },
  {
   "cell_type": "markdown",
   "id": "af057e8e",
   "metadata": {},
   "source": [
    "## 1. Summary"
   ]
  },
  {
   "cell_type": "code",
   "execution_count": 2,
   "id": "ffef23a5",
   "metadata": {
    "execution": {
     "iopub.execute_input": "2025-07-18T09:44:14.945974Z",
     "iopub.status.busy": "2025-07-18T09:44:14.944973Z",
     "iopub.status.idle": "2025-07-18T09:44:14.956200Z",
     "shell.execute_reply": "2025-07-18T09:44:14.954189Z"
    },
    "tags": [
     "remove-input"
    ]
   },
   "outputs": [
    {
     "data": {
      "text/markdown": [
       "Demographic variables relating to cohort members and parent respondents including age, sex, relationship to cohort member at various sweeps"
      ],
      "text/plain": [
       "<IPython.core.display.Markdown object>"
      ]
     },
     "metadata": {},
     "output_type": "display_data"
    }
   ],
   "source": [
    "ds.summary()"
   ]
  },
  {
   "cell_type": "code",
   "execution_count": 3,
   "id": "f4d5db00",
   "metadata": {
    "execution": {
     "iopub.execute_input": "2025-07-18T09:44:14.960204Z",
     "iopub.status.busy": "2025-07-18T09:44:14.960204Z",
     "iopub.status.idle": "2025-07-18T09:44:16.014001Z",
     "shell.execute_reply": "2025-07-18T09:44:16.011995Z"
    },
    "tags": [
     "remove-input"
    ]
   },
   "outputs": [
    {
     "data": {
      "text/html": [
       "<style type=\"text/css\">\n",
       "#T_52cf0 th {\n",
       "  text-align: left;\n",
       "}\n",
       "#T_52cf0_row0_col0, #T_52cf0_row0_col1, #T_52cf0_row1_col0, #T_52cf0_row1_col1, #T_52cf0_row2_col0, #T_52cf0_row2_col1, #T_52cf0_row3_col0, #T_52cf0_row3_col1, #T_52cf0_row4_col0, #T_52cf0_row4_col1, #T_52cf0_row5_col0, #T_52cf0_row5_col1, #T_52cf0_row6_col0, #T_52cf0_row6_col1, #T_52cf0_row7_col0, #T_52cf0_row7_col1, #T_52cf0_row8_col0, #T_52cf0_row8_col1, #T_52cf0_row9_col0, #T_52cf0_row9_col1, #T_52cf0_row10_col0, #T_52cf0_row10_col1, #T_52cf0_row11_col0, #T_52cf0_row11_col1, #T_52cf0_row12_col0, #T_52cf0_row12_col1 {\n",
       "  text-align: left;\n",
       "}\n",
       "</style>\n",
       "<table id=\"T_52cf0\" style=\"font-size: 14px\">\n",
       "  <thead>\n",
       "    <tr>\n",
       "      <th id=\"T_52cf0_level0_col0\" class=\"col_heading level0 col0\" >Dataset Descriptor</th>\n",
       "      <th id=\"T_52cf0_level0_col1\" class=\"col_heading level0 col1\" >Dataset-specific Information</th>\n",
       "    </tr>\n",
       "  </thead>\n",
       "  <tbody>\n",
       "    <tr>\n",
       "      <td id=\"T_52cf0_row0_col0\" class=\"data row0 col0\" >Name of Dataset in TRE</td>\n",
       "      <td id=\"T_52cf0_row0_col1\" class=\"data row0 col1\" >MCS_basic_demographic_hhgrid</td>\n",
       "    </tr>\n",
       "    <tr>\n",
       "      <td id=\"T_52cf0_row1_col0\" class=\"data row1 col0\" >Citation (APA)</td>\n",
       "      <td id=\"T_52cf0_row1_col1\" class=\"data row1 col1\" >University College London, UCL Social Research Institute, Centre for Longitudinal Studies. (2021). <i>Millennium Cohort Study (MCS): Basic demographic variables - MCS Cohort Members and respondents.</i> UK Longitudinal Linkage Collaboration (UK LLC).  <a href=\"https://doi.org/10.83126/ukllc-dataset-00239-01\" rel=\"noopener noreferrer\" target=\"_blank\">https://doi.org/10.83126/ukllc-dataset-00239-01</a></td>\n",
       "    </tr>\n",
       "    <tr>\n",
       "      <td id=\"T_52cf0_row2_col0\" class=\"data row2 col0\" >Download Citation</td>\n",
       "      <td id=\"T_52cf0_row2_col1\" class=\"data row2 col1\" > <a href=\"https://api.test.datacite.org/application/vnd.citationstyles.csl+json/10.83126/ukllc-dataset-00239-01\" rel=\"noopener noreferrer\" target=\"_blank\">Citeproc JSON</a>&nbsp;&nbsp;&nbsp;&nbsp; <a href=\"https://api.test.datacite.org/application/x-bibtex/10.83126/ukllc-dataset-00239-01\" rel=\"noopener noreferrer\" target=\"_blank\">BibTeX</a>&nbsp;&nbsp;&nbsp;&nbsp; <a href=\"https://api.test.datacite.org/application/x-research-info-systems/10.83126/ukllc-dataset-00239-01\" rel=\"noopener noreferrer\" target=\"_blank\">RIS</a></td>\n",
       "    </tr>\n",
       "    <tr>\n",
       "      <td id=\"T_52cf0_row3_col0\" class=\"data row3 col0\" >Series</td>\n",
       "      <td id=\"T_52cf0_row3_col1\" class=\"data row3 col1\" > <a href=\"https://guidebook.ukllc.ac.uk/docs/lps/lps%20profiles/MCS\">Millennium Cohort Study (MCS)</a></td>\n",
       "    </tr>\n",
       "    <tr>\n",
       "      <td id=\"T_52cf0_row4_col0\" class=\"data row4 col0\" >Owner</td>\n",
       "      <td id=\"T_52cf0_row4_col1\" class=\"data row4 col1\" >UCL</td>\n",
       "    </tr>\n",
       "    <tr>\n",
       "      <td id=\"T_52cf0_row5_col0\" class=\"data row5 col0\" >Temporal Coverage</td>\n",
       "      <td id=\"T_52cf0_row5_col1\" class=\"data row5 col1\" >01/2018 - 03/2019</td>\n",
       "    </tr>\n",
       "    <tr>\n",
       "      <td id=\"T_52cf0_row6_col0\" class=\"data row6 col0\" >Keywords</td>\n",
       "      <td id=\"T_52cf0_row6_col1\" class=\"data row6 col1\" >Demographics,Education,Employment,Income,Household,Mental Health</td>\n",
       "    </tr>\n",
       "    <tr>\n",
       "      <td id=\"T_52cf0_row7_col0\" class=\"data row7 col0\" >Participants Invited</td>\n",
       "      <td id=\"T_52cf0_row7_col1\" class=\"data row7 col1\" >18552</td>\n",
       "    </tr>\n",
       "    <tr>\n",
       "      <td id=\"T_52cf0_row8_col0\" class=\"data row8 col0\" >Participant Count</td>\n",
       "      <td id=\"T_52cf0_row8_col1\" class=\"data row8 col1\" >27866</td>\n",
       "    </tr>\n",
       "    <tr>\n",
       "      <td id=\"T_52cf0_row9_col0\" class=\"data row9 col0\" >Number of variables</td>\n",
       "      <td id=\"T_52cf0_row9_col1\" class=\"data row9 col1\" >21</td>\n",
       "    </tr>\n",
       "    <tr>\n",
       "      <td id=\"T_52cf0_row10_col0\" class=\"data row10 col0\" >Number of observations</td>\n",
       "      <td id=\"T_52cf0_row10_col1\" class=\"data row10 col1\" >57266</td>\n",
       "    </tr>\n",
       "    <tr>\n",
       "      <td id=\"T_52cf0_row11_col0\" class=\"data row11 col0\" >Specific Restrictions to Data Use</td>\n",
       "      <td id=\"T_52cf0_row11_col1\" class=\"data row11 col1\" >None</td>\n",
       "    </tr>\n",
       "    <tr>\n",
       "      <td id=\"T_52cf0_row12_col0\" class=\"data row12 col0\" >Build a Data Request</td>\n",
       "      <td id=\"T_52cf0_row12_col1\" class=\"data row12 col1\" > <a href=\"https://explore.ukllc.ac.uk/\" rel=\"noopener noreferrer\" target=\"_blank\">https://explore.ukllc.ac.uk/</a></td>\n",
       "    </tr>\n",
       "  </tbody>\n",
       "</table>\n"
      ],
      "text/plain": [
       "<pandas.io.formats.style.Styler at 0x2010940c4d0>"
      ]
     },
     "execution_count": 3,
     "metadata": {},
     "output_type": "execute_result"
    }
   ],
   "source": [
    "ds.info_table()"
   ]
  },
  {
   "cell_type": "markdown",
   "id": "ff8c1450",
   "metadata": {},
   "source": [
    "## 2. Version History"
   ]
  },
  {
   "cell_type": "code",
   "execution_count": 4,
   "id": "9e056af6",
   "metadata": {
    "execution": {
     "iopub.execute_input": "2025-07-18T09:44:16.020001Z",
     "iopub.status.busy": "2025-07-18T09:44:16.019001Z",
     "iopub.status.idle": "2025-07-18T09:44:19.008854Z",
     "shell.execute_reply": "2025-07-18T09:44:19.007337Z"
    },
    "tags": [
     "remove-input"
    ]
   },
   "outputs": [
    {
     "data": {
      "text/html": [
       "<style type=\"text/css\">\n",
       "#T_44081 th {\n",
       "  text-align: left;\n",
       "}\n",
       "#T_44081_row0_col0, #T_44081_row0_col1, #T_44081_row1_col0, #T_44081_row1_col1, #T_44081_row2_col0, #T_44081_row2_col1, #T_44081_row3_col0, #T_44081_row3_col1, #T_44081_row4_col0, #T_44081_row4_col1 {\n",
       "  text-align: left;\n",
       "}\n",
       "</style>\n",
       "<table id=\"T_44081\" style=\"font-size: 14px\">\n",
       "  <thead>\n",
       "    <tr>\n",
       "      <th id=\"T_44081_level0_col0\" class=\"col_heading level0 col0\" >Version</th>\n",
       "      <th id=\"T_44081_level0_col1\" class=\"col_heading level0 col1\" >1</th>\n",
       "    </tr>\n",
       "  </thead>\n",
       "  <tbody>\n",
       "    <tr>\n",
       "      <td id=\"T_44081_row0_col0\" class=\"data row0 col0\" >Version Date</td>\n",
       "      <td id=\"T_44081_row0_col1\" class=\"data row0 col1\" >01 Nov 2021</td>\n",
       "    </tr>\n",
       "    <tr>\n",
       "      <td id=\"T_44081_row1_col0\" class=\"data row1 col0\" >Number of Variables</td>\n",
       "      <td id=\"T_44081_row1_col1\" class=\"data row1 col1\" >21</td>\n",
       "    </tr>\n",
       "    <tr>\n",
       "      <td id=\"T_44081_row2_col0\" class=\"data row2 col0\" >Number of Observations</td>\n",
       "      <td id=\"T_44081_row2_col1\" class=\"data row2 col1\" >57266</td>\n",
       "    </tr>\n",
       "    <tr>\n",
       "      <td id=\"T_44081_row3_col0\" class=\"data row3 col0\" >DOI</td>\n",
       "      <td id=\"T_44081_row3_col1\" class=\"data row3 col1\" > <a href=\"https://doi.org/10.83126/ukllc-dataset-00239-01\" rel=\"noopener noreferrer\" target=\"_blank\">10.83126/ukllc-dataset-00239-01</a></td>\n",
       "    </tr>\n",
       "    <tr>\n",
       "      <td id=\"T_44081_row4_col0\" class=\"data row4 col0\" >Change Log</td>\n",
       "      <td id=\"T_44081_row4_col1\" class=\"data row4 col1\" > <a href=\"https://api.test.datacite.org/dois/10.83126/ukllc-dataset-00239-01/activities\" rel=\"noopener noreferrer\" target=\"_blank\">10.83126/ukllc-dataset-00239-01/activities</a></td>\n",
       "    </tr>\n",
       "  </tbody>\n",
       "</table>\n"
      ],
      "text/plain": [
       "<pandas.io.formats.style.Styler at 0x2010ae26ba0>"
      ]
     },
     "execution_count": 4,
     "metadata": {},
     "output_type": "execute_result"
    }
   ],
   "source": [
    "ds.version_history()"
   ]
  },
  {
   "cell_type": "markdown",
   "id": "6fe01e55",
   "metadata": {},
   "source": [
    "## 3. Documentation"
   ]
  },
  {
   "cell_type": "code",
   "execution_count": 5,
   "id": "c7e9f775",
   "metadata": {
    "execution": {
     "iopub.execute_input": "2025-07-18T09:44:19.014678Z",
     "iopub.status.busy": "2025-07-18T09:44:19.014678Z",
     "iopub.status.idle": "2025-07-18T09:44:19.025017Z",
     "shell.execute_reply": "2025-07-18T09:44:19.022995Z"
    },
    "tags": [
     "remove-input"
    ]
   },
   "outputs": [
    {
     "data": {
      "text/markdown": [
       "We are currently building a documentation storage system which will host useful documents related to datasets and data owners. We will surface these documents on Guidebook."
      ],
      "text/plain": [
       "<IPython.core.display.Markdown object>"
      ]
     },
     "metadata": {},
     "output_type": "display_data"
    }
   ],
   "source": [
    "ds.documentation()"
   ]
  },
  {
   "cell_type": "markdown",
   "id": "d5b688f7",
   "metadata": {},
   "source": [
    "## 4. Useful Syntax"
   ]
  },
  {
   "cell_type": "code",
   "execution_count": 6,
   "id": "b01abb3f",
   "metadata": {
    "execution": {
     "iopub.execute_input": "2025-07-18T09:44:19.030005Z",
     "iopub.status.busy": "2025-07-18T09:44:19.030005Z",
     "iopub.status.idle": "2025-07-18T09:44:19.039070Z",
     "shell.execute_reply": "2025-07-18T09:44:19.038060Z"
    },
    "tags": [
     "remove-input"
    ]
   },
   "outputs": [
    {
     "data": {
      "text/markdown": [
       "Below we will include syntax that may be helpful to other researchers in the UK LLC TRE. For longer scripts, we will include a snippet of the code plus a link to Git where you can find the full scripts."
      ],
      "text/plain": [
       "<IPython.core.display.Markdown object>"
      ]
     },
     "metadata": {},
     "output_type": "display_data"
    }
   ],
   "source": [
    "ds.useful_syntax()"
   ]
  }
 ],
 "metadata": {
  "language_info": {
   "codemirror_mode": {
    "name": "ipython",
    "version": 3
   },
   "file_extension": ".py",
   "mimetype": "text/x-python",
   "name": "python",
   "nbconvert_exporter": "python",
   "pygments_lexer": "ipython3",
   "version": "3.12.7"
  }
 },
 "nbformat": 4,
 "nbformat_minor": 5
}
