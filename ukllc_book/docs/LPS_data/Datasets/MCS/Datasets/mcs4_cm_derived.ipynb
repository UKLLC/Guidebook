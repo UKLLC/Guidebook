{
 "cells": [
  {
   "cell_type": "markdown",
   "id": "d2b19c19",
   "metadata": {},
   "source": [
    "# MCS4 Cohort Member Derived (MCS)"
   ]
  },
  {
   "cell_type": "code",
   "execution_count": 1,
   "id": "41a40389",
   "metadata": {
    "execution": {
     "iopub.execute_input": "2025-07-18T09:54:15.042163Z",
     "iopub.status.busy": "2025-07-18T09:54:15.042163Z",
     "iopub.status.idle": "2025-07-18T09:54:21.285203Z",
     "shell.execute_reply": "2025-07-18T09:54:21.283201Z"
    },
    "tags": [
     "remove-input"
    ]
   },
   "outputs": [
    {
     "data": {
      "text/markdown": [
       ">Last modified: 18 Jul 2025"
      ],
      "text/plain": [
       "<IPython.core.display.Markdown object>"
      ]
     },
     "metadata": {},
     "output_type": "display_data"
    }
   ],
   "source": [
    "\n",
    "import sys\n",
    "import os\n",
    "sys.path.append(os.path.abspath('../../../../scripts/'))\n",
    "from data_doc_helper import LPSDataSet as DS, last_modified\n",
    "API_KEY = os.environ['FASTAPI_KEY']\n",
    "ds = DS(\"MCS\", \"mcs4_cm_derived\")\n",
    "last_modified()\n"
   ]
  },
  {
   "cell_type": "markdown",
   "id": "8305d8e0",
   "metadata": {},
   "source": [
    "## 1. Summary"
   ]
  },
  {
   "cell_type": "code",
   "execution_count": 2,
   "id": "9940b82b",
   "metadata": {
    "execution": {
     "iopub.execute_input": "2025-07-18T09:54:21.292209Z",
     "iopub.status.busy": "2025-07-18T09:54:21.291210Z",
     "iopub.status.idle": "2025-07-18T09:54:21.303149Z",
     "shell.execute_reply": "2025-07-18T09:54:21.301725Z"
    },
    "tags": [
     "remove-input"
    ]
   },
   "outputs": [
    {
     "data": {
      "text/markdown": [
       "This dataset contains derived variables relating to the cohort child including ethnic group categories, scores for the Parent-reported Child SDQ , Teacher-reported Child SDQ, and Child Social Behaviour Questionnaire scales. "
      ],
      "text/plain": [
       "<IPython.core.display.Markdown object>"
      ]
     },
     "metadata": {},
     "output_type": "display_data"
    }
   ],
   "source": [
    "ds.summary()"
   ]
  },
  {
   "cell_type": "code",
   "execution_count": 3,
   "id": "f0871eed",
   "metadata": {
    "execution": {
     "iopub.execute_input": "2025-07-18T09:54:21.309165Z",
     "iopub.status.busy": "2025-07-18T09:54:21.308165Z",
     "iopub.status.idle": "2025-07-18T09:54:22.394436Z",
     "shell.execute_reply": "2025-07-18T09:54:22.393416Z"
    },
    "tags": [
     "remove-input"
    ]
   },
   "outputs": [
    {
     "data": {
      "text/html": [
       "<style type=\"text/css\">\n",
       "#T_56051 th {\n",
       "  text-align: left;\n",
       "}\n",
       "#T_56051_row0_col0, #T_56051_row0_col1, #T_56051_row1_col0, #T_56051_row1_col1, #T_56051_row2_col0, #T_56051_row2_col1, #T_56051_row3_col0, #T_56051_row3_col1, #T_56051_row4_col0, #T_56051_row4_col1, #T_56051_row5_col0, #T_56051_row5_col1, #T_56051_row6_col0, #T_56051_row6_col1, #T_56051_row7_col0, #T_56051_row7_col1, #T_56051_row8_col0, #T_56051_row8_col1, #T_56051_row9_col0, #T_56051_row9_col1, #T_56051_row10_col0, #T_56051_row10_col1, #T_56051_row11_col0, #T_56051_row11_col1, #T_56051_row12_col0, #T_56051_row12_col1 {\n",
       "  text-align: left;\n",
       "}\n",
       "</style>\n",
       "<table id=\"T_56051\" style=\"font-size: 14px\">\n",
       "  <thead>\n",
       "    <tr>\n",
       "      <th id=\"T_56051_level0_col0\" class=\"col_heading level0 col0\" >Dataset Descriptor</th>\n",
       "      <th id=\"T_56051_level0_col1\" class=\"col_heading level0 col1\" >Dataset-specific Information</th>\n",
       "    </tr>\n",
       "  </thead>\n",
       "  <tbody>\n",
       "    <tr>\n",
       "      <td id=\"T_56051_row0_col0\" class=\"data row0 col0\" >Name of Dataset in TRE</td>\n",
       "      <td id=\"T_56051_row0_col1\" class=\"data row0 col1\" >MCS_mcs4_cm_derived</td>\n",
       "    </tr>\n",
       "    <tr>\n",
       "      <td id=\"T_56051_row1_col0\" class=\"data row1 col0\" >Citation (APA)</td>\n",
       "      <td id=\"T_56051_row1_col1\" class=\"data row1 col1\" >University College London, UCL Social Research Institute, Centre for Longitudinal Studies. (2021). <i>Millennium Cohort Study (MCS): MCS4 Cohort Member Derived.</i> UK Longitudinal Linkage Collaboration (UK LLC).  <a href=\"https://doi.org/10.83126/ukllc-dataset-00272-01\" rel=\"noopener noreferrer\" target=\"_blank\">https://doi.org/10.83126/ukllc-dataset-00272-01</a></td>\n",
       "    </tr>\n",
       "    <tr>\n",
       "      <td id=\"T_56051_row2_col0\" class=\"data row2 col0\" >Download Citation</td>\n",
       "      <td id=\"T_56051_row2_col1\" class=\"data row2 col1\" > <a href=\"https://api.test.datacite.org/application/vnd.citationstyles.csl+json/10.83126/ukllc-dataset-00272-01\" rel=\"noopener noreferrer\" target=\"_blank\">Citeproc JSON</a>&nbsp;&nbsp;&nbsp;&nbsp; <a href=\"https://api.test.datacite.org/application/x-bibtex/10.83126/ukllc-dataset-00272-01\" rel=\"noopener noreferrer\" target=\"_blank\">BibTeX</a>&nbsp;&nbsp;&nbsp;&nbsp; <a href=\"https://api.test.datacite.org/application/x-research-info-systems/10.83126/ukllc-dataset-00272-01\" rel=\"noopener noreferrer\" target=\"_blank\">RIS</a></td>\n",
       "    </tr>\n",
       "    <tr>\n",
       "      <td id=\"T_56051_row3_col0\" class=\"data row3 col0\" >Series</td>\n",
       "      <td id=\"T_56051_row3_col1\" class=\"data row3 col1\" > <a href=\"https://guidebook.ukllc.ac.uk/docs/lps/lps%20profiles/MCS\">Millennium Cohort Study (MCS)</a></td>\n",
       "    </tr>\n",
       "    <tr>\n",
       "      <td id=\"T_56051_row4_col0\" class=\"data row4 col0\" >Owner</td>\n",
       "      <td id=\"T_56051_row4_col1\" class=\"data row4 col1\" >UCL</td>\n",
       "    </tr>\n",
       "    <tr>\n",
       "      <td id=\"T_56051_row5_col0\" class=\"data row5 col0\" >Temporal Coverage</td>\n",
       "      <td id=\"T_56051_row5_col1\" class=\"data row5 col1\" >01/2008 - 12/2008</td>\n",
       "    </tr>\n",
       "    <tr>\n",
       "      <td id=\"T_56051_row6_col0\" class=\"data row6 col0\" >Keywords</td>\n",
       "      <td id=\"T_56051_row6_col1\" class=\"data row6 col1\" >Family Life,Health,employment,attitudes,Social mobility</td>\n",
       "    </tr>\n",
       "    <tr>\n",
       "      <td id=\"T_56051_row7_col0\" class=\"data row7 col0\" >Participants Invited</td>\n",
       "      <td id=\"T_56051_row7_col1\" class=\"data row7 col1\" >13857</td>\n",
       "    </tr>\n",
       "    <tr>\n",
       "      <td id=\"T_56051_row8_col0\" class=\"data row8 col0\" >Participant Count</td>\n",
       "      <td id=\"T_56051_row8_col1\" class=\"data row8 col1\" >8889</td>\n",
       "    </tr>\n",
       "    <tr>\n",
       "      <td id=\"T_56051_row9_col0\" class=\"data row9 col0\" >Number of variables</td>\n",
       "      <td id=\"T_56051_row9_col1\" class=\"data row9 col1\" >26</td>\n",
       "    </tr>\n",
       "    <tr>\n",
       "      <td id=\"T_56051_row10_col0\" class=\"data row10 col0\" >Number of observations</td>\n",
       "      <td id=\"T_56051_row10_col1\" class=\"data row10 col1\" >14013</td>\n",
       "    </tr>\n",
       "    <tr>\n",
       "      <td id=\"T_56051_row11_col0\" class=\"data row11 col0\" >Specific Restrictions to Data Use</td>\n",
       "      <td id=\"T_56051_row11_col1\" class=\"data row11 col1\" >None</td>\n",
       "    </tr>\n",
       "    <tr>\n",
       "      <td id=\"T_56051_row12_col0\" class=\"data row12 col0\" >Build a Data Request</td>\n",
       "      <td id=\"T_56051_row12_col1\" class=\"data row12 col1\" > <a href=\"https://explore.ukllc.ac.uk/\" rel=\"noopener noreferrer\" target=\"_blank\">https://explore.ukllc.ac.uk/</a></td>\n",
       "    </tr>\n",
       "  </tbody>\n",
       "</table>\n"
      ],
      "text/plain": [
       "<pandas.io.formats.style.Styler at 0x1e07341c290>"
      ]
     },
     "execution_count": 3,
     "metadata": {},
     "output_type": "execute_result"
    }
   ],
   "source": [
    "ds.info_table()"
   ]
  },
  {
   "cell_type": "markdown",
   "id": "4c6c1be5",
   "metadata": {},
   "source": [
    "## 2. Version History"
   ]
  },
  {
   "cell_type": "code",
   "execution_count": 4,
   "id": "d690740e",
   "metadata": {
    "execution": {
     "iopub.execute_input": "2025-07-18T09:54:22.402293Z",
     "iopub.status.busy": "2025-07-18T09:54:22.400450Z",
     "iopub.status.idle": "2025-07-18T09:54:25.686458Z",
     "shell.execute_reply": "2025-07-18T09:54:25.685450Z"
    },
    "tags": [
     "remove-input"
    ]
   },
   "outputs": [
    {
     "data": {
      "text/html": [
       "<style type=\"text/css\">\n",
       "#T_920f2 th {\n",
       "  text-align: left;\n",
       "}\n",
       "#T_920f2_row0_col0, #T_920f2_row0_col1, #T_920f2_row1_col0, #T_920f2_row1_col1, #T_920f2_row2_col0, #T_920f2_row2_col1, #T_920f2_row3_col0, #T_920f2_row3_col1, #T_920f2_row4_col0, #T_920f2_row4_col1 {\n",
       "  text-align: left;\n",
       "}\n",
       "</style>\n",
       "<table id=\"T_920f2\" style=\"font-size: 14px\">\n",
       "  <thead>\n",
       "    <tr>\n",
       "      <th id=\"T_920f2_level0_col0\" class=\"col_heading level0 col0\" >Version</th>\n",
       "      <th id=\"T_920f2_level0_col1\" class=\"col_heading level0 col1\" >1</th>\n",
       "    </tr>\n",
       "  </thead>\n",
       "  <tbody>\n",
       "    <tr>\n",
       "      <td id=\"T_920f2_row0_col0\" class=\"data row0 col0\" >Version Date</td>\n",
       "      <td id=\"T_920f2_row0_col1\" class=\"data row0 col1\" >01 Nov 2021</td>\n",
       "    </tr>\n",
       "    <tr>\n",
       "      <td id=\"T_920f2_row1_col0\" class=\"data row1 col0\" >Number of Variables</td>\n",
       "      <td id=\"T_920f2_row1_col1\" class=\"data row1 col1\" >26</td>\n",
       "    </tr>\n",
       "    <tr>\n",
       "      <td id=\"T_920f2_row2_col0\" class=\"data row2 col0\" >Number of Observations</td>\n",
       "      <td id=\"T_920f2_row2_col1\" class=\"data row2 col1\" >14013</td>\n",
       "    </tr>\n",
       "    <tr>\n",
       "      <td id=\"T_920f2_row3_col0\" class=\"data row3 col0\" >DOI</td>\n",
       "      <td id=\"T_920f2_row3_col1\" class=\"data row3 col1\" > <a href=\"https://doi.org/10.83126/ukllc-dataset-00272-01\" rel=\"noopener noreferrer\" target=\"_blank\">10.83126/ukllc-dataset-00272-01</a></td>\n",
       "    </tr>\n",
       "    <tr>\n",
       "      <td id=\"T_920f2_row4_col0\" class=\"data row4 col0\" >Change Log</td>\n",
       "      <td id=\"T_920f2_row4_col1\" class=\"data row4 col1\" > <a href=\"https://api.test.datacite.org/dois/10.83126/ukllc-dataset-00272-01/activities\" rel=\"noopener noreferrer\" target=\"_blank\">10.83126/ukllc-dataset-00272-01/activities</a></td>\n",
       "    </tr>\n",
       "  </tbody>\n",
       "</table>\n"
      ],
      "text/plain": [
       "<pandas.io.formats.style.Styler at 0x1e074ef1b20>"
      ]
     },
     "execution_count": 4,
     "metadata": {},
     "output_type": "execute_result"
    }
   ],
   "source": [
    "ds.version_history()"
   ]
  },
  {
   "cell_type": "markdown",
   "id": "a7e87791",
   "metadata": {},
   "source": [
    "## 3. Documentation"
   ]
  },
  {
   "cell_type": "code",
   "execution_count": 5,
   "id": "1a189ead",
   "metadata": {
    "execution": {
     "iopub.execute_input": "2025-07-18T09:54:25.693456Z",
     "iopub.status.busy": "2025-07-18T09:54:25.693456Z",
     "iopub.status.idle": "2025-07-18T09:54:25.703975Z",
     "shell.execute_reply": "2025-07-18T09:54:25.702457Z"
    },
    "tags": [
     "remove-input"
    ]
   },
   "outputs": [
    {
     "data": {
      "text/markdown": [
       "We are currently building a documentation storage system which will host useful documents related to datasets and data owners. We will surface these documents on Guidebook."
      ],
      "text/plain": [
       "<IPython.core.display.Markdown object>"
      ]
     },
     "metadata": {},
     "output_type": "display_data"
    }
   ],
   "source": [
    "ds.documentation()"
   ]
  },
  {
   "cell_type": "markdown",
   "id": "439a0279",
   "metadata": {},
   "source": [
    "## 4. Useful Syntax"
   ]
  },
  {
   "cell_type": "code",
   "execution_count": 6,
   "id": "739382e5",
   "metadata": {
    "execution": {
     "iopub.execute_input": "2025-07-18T09:54:25.710979Z",
     "iopub.status.busy": "2025-07-18T09:54:25.710979Z",
     "iopub.status.idle": "2025-07-18T09:54:25.719148Z",
     "shell.execute_reply": "2025-07-18T09:54:25.718137Z"
    },
    "tags": [
     "remove-input"
    ]
   },
   "outputs": [
    {
     "data": {
      "text/markdown": [
       "Below we will include syntax that may be helpful to other researchers in the UK LLC TRE. For longer scripts, we will include a snippet of the code plus a link to Git where you can find the full scripts."
      ],
      "text/plain": [
       "<IPython.core.display.Markdown object>"
      ]
     },
     "metadata": {},
     "output_type": "display_data"
    }
   ],
   "source": [
    "ds.useful_syntax()"
   ]
  }
 ],
 "metadata": {
  "language_info": {
   "codemirror_mode": {
    "name": "ipython",
    "version": 3
   },
   "file_extension": ".py",
   "mimetype": "text/x-python",
   "name": "python",
   "nbconvert_exporter": "python",
   "pygments_lexer": "ipython3",
   "version": "3.12.7"
  }
 },
 "nbformat": 4,
 "nbformat_minor": 5
}
