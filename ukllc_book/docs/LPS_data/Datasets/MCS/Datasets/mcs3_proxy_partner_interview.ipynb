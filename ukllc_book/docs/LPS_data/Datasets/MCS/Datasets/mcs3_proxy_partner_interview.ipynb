{
 "cells": [
  {
   "cell_type": "markdown",
   "id": "fc422f3d",
   "metadata": {},
   "source": [
    "# MCS3 Proxy Partner Interview (MCS)"
   ]
  },
  {
   "cell_type": "code",
   "execution_count": 1,
   "id": "9279431b",
   "metadata": {
    "execution": {
     "iopub.execute_input": "2025-07-28T19:26:20.066310Z",
     "iopub.status.busy": "2025-07-28T19:26:20.066310Z",
     "iopub.status.idle": "2025-07-28T19:26:32.014412Z",
     "shell.execute_reply": "2025-07-28T19:26:32.012397Z"
    },
    "tags": [
     "remove-input"
    ]
   },
   "outputs": [
    {
     "data": {
      "text/markdown": [
       ">Last modified: 28 Jul 2025"
      ],
      "text/plain": [
       "<IPython.core.display.Markdown object>"
      ]
     },
     "metadata": {},
     "output_type": "display_data"
    }
   ],
   "source": [
    "\n",
    "import sys\n",
    "import os\n",
    "sys.path.append(os.path.abspath('../../../../scripts/'))\n",
    "from data_doc_helper import LPSDataSet as DS, last_modified\n",
    "API_KEY = os.environ['FASTAPI_KEY']\n",
    "ds = DS(\"MCS\", \"mcs3_proxy_partner_interview\")\n",
    "last_modified()\n"
   ]
  },
  {
   "cell_type": "markdown",
   "id": "f7853161",
   "metadata": {},
   "source": [
    "## 1. Summary"
   ]
  },
  {
   "cell_type": "code",
   "execution_count": 2,
   "id": "64f34922",
   "metadata": {
    "execution": {
     "iopub.execute_input": "2025-07-28T19:26:32.023622Z",
     "iopub.status.busy": "2025-07-28T19:26:32.022630Z",
     "iopub.status.idle": "2025-07-28T19:26:32.037961Z",
     "shell.execute_reply": "2025-07-28T19:26:32.035943Z"
    },
    "tags": [
     "remove-input"
    ]
   },
   "outputs": [
    {
     "data": {
      "text/markdown": [
       "This dataset contains responses from the main parent respondent about their partner, on topics including their health, height, weight, employment and income at sweep 3"
      ],
      "text/plain": [
       "<IPython.core.display.Markdown object>"
      ]
     },
     "metadata": {},
     "output_type": "display_data"
    }
   ],
   "source": [
    "ds.summary()"
   ]
  },
  {
   "cell_type": "code",
   "execution_count": 3,
   "id": "7e12efd1",
   "metadata": {
    "execution": {
     "iopub.execute_input": "2025-07-28T19:26:32.044257Z",
     "iopub.status.busy": "2025-07-28T19:26:32.044257Z",
     "iopub.status.idle": "2025-07-28T19:26:33.758783Z",
     "shell.execute_reply": "2025-07-28T19:26:33.757206Z"
    },
    "tags": [
     "remove-input"
    ]
   },
   "outputs": [
    {
     "data": {
      "text/html": [
       "<style type=\"text/css\">\n",
       "#T_fe290 th {\n",
       "  text-align: left;\n",
       "}\n",
       "#T_fe290_row0_col0, #T_fe290_row0_col1, #T_fe290_row1_col0, #T_fe290_row1_col1, #T_fe290_row2_col0, #T_fe290_row2_col1, #T_fe290_row3_col0, #T_fe290_row3_col1, #T_fe290_row4_col0, #T_fe290_row4_col1, #T_fe290_row5_col0, #T_fe290_row5_col1, #T_fe290_row6_col0, #T_fe290_row6_col1, #T_fe290_row7_col0, #T_fe290_row7_col1, #T_fe290_row8_col0, #T_fe290_row8_col1, #T_fe290_row9_col0, #T_fe290_row9_col1, #T_fe290_row10_col0, #T_fe290_row10_col1, #T_fe290_row11_col0, #T_fe290_row11_col1, #T_fe290_row12_col0, #T_fe290_row12_col1 {\n",
       "  text-align: left;\n",
       "}\n",
       "</style>\n",
       "<table id=\"T_fe290\" style=\"font-size: 14px\">\n",
       "  <thead>\n",
       "    <tr>\n",
       "      <th id=\"T_fe290_level0_col0\" class=\"col_heading level0 col0\" >Dataset Descriptor</th>\n",
       "      <th id=\"T_fe290_level0_col1\" class=\"col_heading level0 col1\" >Dataset-specific Information</th>\n",
       "    </tr>\n",
       "  </thead>\n",
       "  <tbody>\n",
       "    <tr>\n",
       "      <td id=\"T_fe290_row0_col0\" class=\"data row0 col0\" >Name of Dataset in TRE</td>\n",
       "      <td id=\"T_fe290_row0_col1\" class=\"data row0 col1\" >MCS_mcs3_proxy_partner_interview</td>\n",
       "    </tr>\n",
       "    <tr>\n",
       "      <td id=\"T_fe290_row1_col0\" class=\"data row1 col0\" >Citation (APA)</td>\n",
       "      <td id=\"T_fe290_row1_col1\" class=\"data row1 col1\" >University College London, UCL Social Research Institute, Centre for Longitudinal Studies. (2021). <i>Millennium Cohort Study (MCS): MCS3 Proxy Partner Interview.</i> UK Longitudinal Linkage Collaboration (UK LLC).  <a href=\"https://doi.org/10.71760/ukllc-dataset-00190-01\" rel=\"noopener noreferrer\" target=\"_blank\">https://doi.org/10.71760/ukllc-dataset-00190-01</a></td>\n",
       "    </tr>\n",
       "    <tr>\n",
       "      <td id=\"T_fe290_row2_col0\" class=\"data row2 col0\" >Download Citation</td>\n",
       "      <td id=\"T_fe290_row2_col1\" class=\"data row2 col1\" > <a href=\"https://api.datacite.org/application/vnd.citationstyles.csl+json/10.71760/ukllc-dataset-00190-01\" rel=\"noopener noreferrer\" target=\"_blank\">Citeproc JSON</a>&nbsp;&nbsp;&nbsp;&nbsp; <a href=\"https://api.datacite.org/application/x-bibtex/10.71760/ukllc-dataset-00190-01\" rel=\"noopener noreferrer\" target=\"_blank\">BibTeX</a>&nbsp;&nbsp;&nbsp;&nbsp; <a href=\"https://api.datacite.org/application/x-research-info-systems/10.71760/ukllc-dataset-00190-01\" rel=\"noopener noreferrer\" target=\"_blank\">RIS</a></td>\n",
       "    </tr>\n",
       "    <tr>\n",
       "      <td id=\"T_fe290_row3_col0\" class=\"data row3 col0\" >Series</td>\n",
       "      <td id=\"T_fe290_row3_col1\" class=\"data row3 col1\" > <a href=\"https://guidebook.ukllc.ac.uk/docs/lps_data/lps%20profiles/MCS\">Millennium Cohort Study (MCS)</a></td>\n",
       "    </tr>\n",
       "    <tr>\n",
       "      <td id=\"T_fe290_row4_col0\" class=\"data row4 col0\" >Owner</td>\n",
       "      <td id=\"T_fe290_row4_col1\" class=\"data row4 col1\" >UCL</td>\n",
       "    </tr>\n",
       "    <tr>\n",
       "      <td id=\"T_fe290_row5_col0\" class=\"data row5 col0\" >Temporal Coverage</td>\n",
       "      <td id=\"T_fe290_row5_col1\" class=\"data row5 col1\" >01/2006 - 12/2006</td>\n",
       "    </tr>\n",
       "    <tr>\n",
       "      <td id=\"T_fe290_row6_col0\" class=\"data row6 col0\" >Keywords</td>\n",
       "      <td id=\"T_fe290_row6_col1\" class=\"data row6 col1\" >Family Life,Health,employment,attitudes,Social mobility</td>\n",
       "    </tr>\n",
       "    <tr>\n",
       "      <td id=\"T_fe290_row7_col0\" class=\"data row7 col0\" >Participants Invited</td>\n",
       "      <td id=\"T_fe290_row7_col1\" class=\"data row7 col1\" >15246</td>\n",
       "    </tr>\n",
       "    <tr>\n",
       "      <td id=\"T_fe290_row8_col0\" class=\"data row8 col0\" >Participant Count</td>\n",
       "      <td id=\"T_fe290_row8_col1\" class=\"data row8 col1\" >88</td>\n",
       "    </tr>\n",
       "    <tr>\n",
       "      <td id=\"T_fe290_row9_col0\" class=\"data row9 col0\" >Number of variables</td>\n",
       "      <td id=\"T_fe290_row9_col1\" class=\"data row9 col1\" >65</td>\n",
       "    </tr>\n",
       "    <tr>\n",
       "      <td id=\"T_fe290_row10_col0\" class=\"data row10 col0\" >Number of observations</td>\n",
       "      <td id=\"T_fe290_row10_col1\" class=\"data row10 col1\" >287</td>\n",
       "    </tr>\n",
       "    <tr>\n",
       "      <td id=\"T_fe290_row11_col0\" class=\"data row11 col0\" >Specific Restrictions to Data Use</td>\n",
       "      <td id=\"T_fe290_row11_col1\" class=\"data row11 col1\" >None</td>\n",
       "    </tr>\n",
       "    <tr>\n",
       "      <td id=\"T_fe290_row12_col0\" class=\"data row12 col0\" >Build a Data Request</td>\n",
       "      <td id=\"T_fe290_row12_col1\" class=\"data row12 col1\" > <a href=\"https://explore.ukllc.ac.uk/\" rel=\"noopener noreferrer\" target=\"_blank\">https://explore.ukllc.ac.uk/</a></td>\n",
       "    </tr>\n",
       "  </tbody>\n",
       "</table>\n"
      ],
      "text/plain": [
       "<pandas.io.formats.style.Styler at 0x21a7106c320>"
      ]
     },
     "execution_count": 3,
     "metadata": {},
     "output_type": "execute_result"
    }
   ],
   "source": [
    "ds.info_table()"
   ]
  },
  {
   "cell_type": "markdown",
   "id": "fa221075",
   "metadata": {},
   "source": [
    "## 2. Version History"
   ]
  },
  {
   "cell_type": "code",
   "execution_count": 4,
   "id": "7743e99b",
   "metadata": {
    "execution": {
     "iopub.execute_input": "2025-07-28T19:26:33.768706Z",
     "iopub.status.busy": "2025-07-28T19:26:33.767686Z",
     "iopub.status.idle": "2025-07-28T19:26:38.992719Z",
     "shell.execute_reply": "2025-07-28T19:26:38.989971Z"
    },
    "tags": [
     "remove-input"
    ]
   },
   "outputs": [
    {
     "data": {
      "text/html": [
       "<style type=\"text/css\">\n",
       "#T_5f88f th {\n",
       "  text-align: left;\n",
       "}\n",
       "#T_5f88f_row0_col0, #T_5f88f_row0_col1, #T_5f88f_row1_col0, #T_5f88f_row1_col1, #T_5f88f_row2_col0, #T_5f88f_row2_col1, #T_5f88f_row3_col0, #T_5f88f_row3_col1, #T_5f88f_row4_col0, #T_5f88f_row4_col1 {\n",
       "  text-align: left;\n",
       "}\n",
       "</style>\n",
       "<table id=\"T_5f88f\" style=\"font-size: 14px\">\n",
       "  <thead>\n",
       "    <tr>\n",
       "      <th id=\"T_5f88f_level0_col0\" class=\"col_heading level0 col0\" >Version</th>\n",
       "      <th id=\"T_5f88f_level0_col1\" class=\"col_heading level0 col1\" >1</th>\n",
       "    </tr>\n",
       "  </thead>\n",
       "  <tbody>\n",
       "    <tr>\n",
       "      <td id=\"T_5f88f_row0_col0\" class=\"data row0 col0\" >Version Date</td>\n",
       "      <td id=\"T_5f88f_row0_col1\" class=\"data row0 col1\" >01 Nov 2021</td>\n",
       "    </tr>\n",
       "    <tr>\n",
       "      <td id=\"T_5f88f_row1_col0\" class=\"data row1 col0\" >Number of Variables</td>\n",
       "      <td id=\"T_5f88f_row1_col1\" class=\"data row1 col1\" >65</td>\n",
       "    </tr>\n",
       "    <tr>\n",
       "      <td id=\"T_5f88f_row2_col0\" class=\"data row2 col0\" >Number of Observations</td>\n",
       "      <td id=\"T_5f88f_row2_col1\" class=\"data row2 col1\" >287</td>\n",
       "    </tr>\n",
       "    <tr>\n",
       "      <td id=\"T_5f88f_row3_col0\" class=\"data row3 col0\" >DOI</td>\n",
       "      <td id=\"T_5f88f_row3_col1\" class=\"data row3 col1\" > <a href=\"https://doi.org/10.71760/ukllc-dataset-00190-01\" rel=\"noopener noreferrer\" target=\"_blank\">10.71760/ukllc-dataset-00190-01</a></td>\n",
       "    </tr>\n",
       "    <tr>\n",
       "      <td id=\"T_5f88f_row4_col0\" class=\"data row4 col0\" >Change Log</td>\n",
       "      <td id=\"T_5f88f_row4_col1\" class=\"data row4 col1\" > <a href=\"https://api.test.datacite.org/dois/10.71760/ukllc-dataset-00190-01/activities\" rel=\"noopener noreferrer\" target=\"_blank\">10.71760/ukllc-dataset-00190-01/activities</a></td>\n",
       "    </tr>\n",
       "  </tbody>\n",
       "</table>\n"
      ],
      "text/plain": [
       "<pandas.io.formats.style.Styler at 0x21a72e019d0>"
      ]
     },
     "execution_count": 4,
     "metadata": {},
     "output_type": "execute_result"
    }
   ],
   "source": [
    "ds.version_history()"
   ]
  },
  {
   "cell_type": "markdown",
   "id": "fb8d6cf0",
   "metadata": {},
   "source": [
    "## 3. Documentation"
   ]
  },
  {
   "cell_type": "code",
   "execution_count": 5,
   "id": "bb1525e4",
   "metadata": {
    "execution": {
     "iopub.execute_input": "2025-07-28T19:26:39.001699Z",
     "iopub.status.busy": "2025-07-28T19:26:39.000685Z",
     "iopub.status.idle": "2025-07-28T19:26:39.014141Z",
     "shell.execute_reply": "2025-07-28T19:26:39.014141Z"
    },
    "tags": [
     "remove-input"
    ]
   },
   "outputs": [
    {
     "data": {
      "text/markdown": [
       "We are currently building a documentation storage system which will host useful documents related to datasets and data owners. We will surface these documents on Guidebook."
      ],
      "text/plain": [
       "<IPython.core.display.Markdown object>"
      ]
     },
     "metadata": {},
     "output_type": "display_data"
    }
   ],
   "source": [
    "ds.documentation()"
   ]
  },
  {
   "cell_type": "markdown",
   "id": "78801eb1",
   "metadata": {},
   "source": [
    "## 4. Useful Syntax"
   ]
  },
  {
   "cell_type": "code",
   "execution_count": 6,
   "id": "9c61ec26",
   "metadata": {
    "execution": {
     "iopub.execute_input": "2025-07-28T19:26:39.021208Z",
     "iopub.status.busy": "2025-07-28T19:26:39.021208Z",
     "iopub.status.idle": "2025-07-28T19:26:39.031773Z",
     "shell.execute_reply": "2025-07-28T19:26:39.029181Z"
    },
    "tags": [
     "remove-input"
    ]
   },
   "outputs": [
    {
     "data": {
      "text/markdown": [
       "Below we will include syntax that may be helpful to other researchers in the UK LLC TRE. For longer scripts, we will include a snippet of the code plus a link to Git where you can find the full scripts."
      ],
      "text/plain": [
       "<IPython.core.display.Markdown object>"
      ]
     },
     "metadata": {},
     "output_type": "display_data"
    }
   ],
   "source": [
    "ds.useful_syntax()"
   ]
  }
 ],
 "metadata": {
  "language_info": {
   "codemirror_mode": {
    "name": "ipython",
    "version": 3
   },
   "file_extension": ".py",
   "mimetype": "text/x-python",
   "name": "python",
   "nbconvert_exporter": "python",
   "pygments_lexer": "ipython3",
   "version": "3.12.7"
  }
 },
 "nbformat": 4,
 "nbformat_minor": 5
}
