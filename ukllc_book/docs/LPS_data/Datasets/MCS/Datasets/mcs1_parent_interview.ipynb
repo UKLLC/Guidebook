{
 "cells": [
  {
   "cell_type": "markdown",
   "id": "b2fd6cb3",
   "metadata": {},
   "source": [
    "# MCS1 Parent Interview (MCS)"
   ]
  },
  {
   "cell_type": "code",
   "execution_count": 1,
   "id": "943c28df",
   "metadata": {
    "execution": {
     "iopub.execute_input": "2025-07-18T09:48:13.330864Z",
     "iopub.status.busy": "2025-07-18T09:48:13.329863Z",
     "iopub.status.idle": "2025-07-18T09:48:20.142652Z",
     "shell.execute_reply": "2025-07-18T09:48:20.142263Z"
    },
    "tags": [
     "remove-input"
    ]
   },
   "outputs": [
    {
     "data": {
      "text/markdown": [
       ">Last modified: 18 Jul 2025"
      ],
      "text/plain": [
       "<IPython.core.display.Markdown object>"
      ]
     },
     "metadata": {},
     "output_type": "display_data"
    }
   ],
   "source": [
    "\n",
    "import sys\n",
    "import os\n",
    "sys.path.append(os.path.abspath('../../../../scripts/'))\n",
    "from data_doc_helper import LPSDataSet as DS, last_modified\n",
    "API_KEY = os.environ['FASTAPI_KEY']\n",
    "ds = DS(\"MCS\", \"mcs1_parent_interview\")\n",
    "last_modified()\n"
   ]
  },
  {
   "cell_type": "markdown",
   "id": "cc092362",
   "metadata": {},
   "source": [
    "## 1. Summary"
   ]
  },
  {
   "cell_type": "code",
   "execution_count": 2,
   "id": "7cd32e78",
   "metadata": {
    "execution": {
     "iopub.execute_input": "2025-07-18T09:48:20.147399Z",
     "iopub.status.busy": "2025-07-18T09:48:20.146397Z",
     "iopub.status.idle": "2025-07-18T09:48:20.152742Z",
     "shell.execute_reply": "2025-07-18T09:48:20.151735Z"
    },
    "tags": [
     "remove-input"
    ]
   },
   "outputs": [
    {
     "data": {
      "text/markdown": [
       "This dataset contains parental responses to questions on many topics including their ethnicity, marital status, lone parenthood, pregnancy, childcare, health, height, weight, non-resident children, home,  employment and income at sweep 1"
      ],
      "text/plain": [
       "<IPython.core.display.Markdown object>"
      ]
     },
     "metadata": {},
     "output_type": "display_data"
    }
   ],
   "source": [
    "ds.summary()"
   ]
  },
  {
   "cell_type": "code",
   "execution_count": 3,
   "id": "3a62b951",
   "metadata": {
    "execution": {
     "iopub.execute_input": "2025-07-18T09:48:20.160741Z",
     "iopub.status.busy": "2025-07-18T09:48:20.159739Z",
     "iopub.status.idle": "2025-07-18T09:48:21.617121Z",
     "shell.execute_reply": "2025-07-18T09:48:21.616112Z"
    },
    "tags": [
     "remove-input"
    ]
   },
   "outputs": [
    {
     "data": {
      "text/html": [
       "<style type=\"text/css\">\n",
       "#T_0caef th {\n",
       "  text-align: left;\n",
       "}\n",
       "#T_0caef_row0_col0, #T_0caef_row0_col1, #T_0caef_row1_col0, #T_0caef_row1_col1, #T_0caef_row2_col0, #T_0caef_row2_col1, #T_0caef_row3_col0, #T_0caef_row3_col1, #T_0caef_row4_col0, #T_0caef_row4_col1, #T_0caef_row5_col0, #T_0caef_row5_col1, #T_0caef_row6_col0, #T_0caef_row6_col1, #T_0caef_row7_col0, #T_0caef_row7_col1, #T_0caef_row8_col0, #T_0caef_row8_col1, #T_0caef_row9_col0, #T_0caef_row9_col1, #T_0caef_row10_col0, #T_0caef_row10_col1, #T_0caef_row11_col0, #T_0caef_row11_col1, #T_0caef_row12_col0, #T_0caef_row12_col1 {\n",
       "  text-align: left;\n",
       "}\n",
       "</style>\n",
       "<table id=\"T_0caef\" style=\"font-size: 14px\">\n",
       "  <thead>\n",
       "    <tr>\n",
       "      <th id=\"T_0caef_level0_col0\" class=\"col_heading level0 col0\" >Dataset Descriptor</th>\n",
       "      <th id=\"T_0caef_level0_col1\" class=\"col_heading level0 col1\" >Dataset-specific Information</th>\n",
       "    </tr>\n",
       "  </thead>\n",
       "  <tbody>\n",
       "    <tr>\n",
       "      <td id=\"T_0caef_row0_col0\" class=\"data row0 col0\" >Name of Dataset in TRE</td>\n",
       "      <td id=\"T_0caef_row0_col1\" class=\"data row0 col1\" >MCS_mcs1_parent_interview</td>\n",
       "    </tr>\n",
       "    <tr>\n",
       "      <td id=\"T_0caef_row1_col0\" class=\"data row1 col0\" >Citation (APA)</td>\n",
       "      <td id=\"T_0caef_row1_col1\" class=\"data row1 col1\" >University College London, UCL Social Research Institute, Centre for Longitudinal Studies. (2021). <i>Millennium Cohort Study (MCS): MCS1 Parent Interview.</i> UK Longitudinal Linkage Collaboration (UK LLC).  <a href=\"https://doi.org/10.83126/ukllc-dataset-00247-01\" rel=\"noopener noreferrer\" target=\"_blank\">https://doi.org/10.83126/ukllc-dataset-00247-01</a></td>\n",
       "    </tr>\n",
       "    <tr>\n",
       "      <td id=\"T_0caef_row2_col0\" class=\"data row2 col0\" >Download Citation</td>\n",
       "      <td id=\"T_0caef_row2_col1\" class=\"data row2 col1\" > <a href=\"https://api.test.datacite.org/application/vnd.citationstyles.csl+json/10.83126/ukllc-dataset-00247-01\" rel=\"noopener noreferrer\" target=\"_blank\">Citeproc JSON</a>&nbsp;&nbsp;&nbsp;&nbsp; <a href=\"https://api.test.datacite.org/application/x-bibtex/10.83126/ukllc-dataset-00247-01\" rel=\"noopener noreferrer\" target=\"_blank\">BibTeX</a>&nbsp;&nbsp;&nbsp;&nbsp; <a href=\"https://api.test.datacite.org/application/x-research-info-systems/10.83126/ukllc-dataset-00247-01\" rel=\"noopener noreferrer\" target=\"_blank\">RIS</a></td>\n",
       "    </tr>\n",
       "    <tr>\n",
       "      <td id=\"T_0caef_row3_col0\" class=\"data row3 col0\" >Series</td>\n",
       "      <td id=\"T_0caef_row3_col1\" class=\"data row3 col1\" > <a href=\"https://guidebook.ukllc.ac.uk/docs/lps/lps%20profiles/MCS\">Millennium Cohort Study (MCS)</a></td>\n",
       "    </tr>\n",
       "    <tr>\n",
       "      <td id=\"T_0caef_row4_col0\" class=\"data row4 col0\" >Owner</td>\n",
       "      <td id=\"T_0caef_row4_col1\" class=\"data row4 col1\" >UCL</td>\n",
       "    </tr>\n",
       "    <tr>\n",
       "      <td id=\"T_0caef_row5_col0\" class=\"data row5 col0\" >Temporal Coverage</td>\n",
       "      <td id=\"T_0caef_row5_col1\" class=\"data row5 col1\" >06/2001 - 01/2003</td>\n",
       "    </tr>\n",
       "    <tr>\n",
       "      <td id=\"T_0caef_row6_col0\" class=\"data row6 col0\" >Keywords</td>\n",
       "      <td id=\"T_0caef_row6_col1\" class=\"data row6 col1\" >Pregnancy outcome,health,Birth characteristics,Family life</td>\n",
       "    </tr>\n",
       "    <tr>\n",
       "      <td id=\"T_0caef_row7_col0\" class=\"data row7 col0\" >Participants Invited</td>\n",
       "      <td id=\"T_0caef_row7_col1\" class=\"data row7 col1\" >18552</td>\n",
       "    </tr>\n",
       "    <tr>\n",
       "      <td id=\"T_0caef_row8_col0\" class=\"data row8 col0\" >Participant Count</td>\n",
       "      <td id=\"T_0caef_row8_col1\" class=\"data row8 col1\" >16473</td>\n",
       "    </tr>\n",
       "    <tr>\n",
       "      <td id=\"T_0caef_row9_col0\" class=\"data row9 col0\" >Number of variables</td>\n",
       "      <td id=\"T_0caef_row9_col1\" class=\"data row9 col1\" >666</td>\n",
       "    </tr>\n",
       "    <tr>\n",
       "      <td id=\"T_0caef_row10_col0\" class=\"data row10 col0\" >Number of observations</td>\n",
       "      <td id=\"T_0caef_row10_col1\" class=\"data row10 col1\" >31734</td>\n",
       "    </tr>\n",
       "    <tr>\n",
       "      <td id=\"T_0caef_row11_col0\" class=\"data row11 col0\" >Specific Restrictions to Data Use</td>\n",
       "      <td id=\"T_0caef_row11_col1\" class=\"data row11 col1\" >None</td>\n",
       "    </tr>\n",
       "    <tr>\n",
       "      <td id=\"T_0caef_row12_col0\" class=\"data row12 col0\" >Build a Data Request</td>\n",
       "      <td id=\"T_0caef_row12_col1\" class=\"data row12 col1\" > <a href=\"https://explore.ukllc.ac.uk/\" rel=\"noopener noreferrer\" target=\"_blank\">https://explore.ukllc.ac.uk/</a></td>\n",
       "    </tr>\n",
       "  </tbody>\n",
       "</table>\n"
      ],
      "text/plain": [
       "<pandas.io.formats.style.Styler at 0x249f98071a0>"
      ]
     },
     "execution_count": 3,
     "metadata": {},
     "output_type": "execute_result"
    }
   ],
   "source": [
    "ds.info_table()"
   ]
  },
  {
   "cell_type": "markdown",
   "id": "b303f610",
   "metadata": {},
   "source": [
    "## 2. Version History"
   ]
  },
  {
   "cell_type": "code",
   "execution_count": 4,
   "id": "118d78c4",
   "metadata": {
    "execution": {
     "iopub.execute_input": "2025-07-18T09:48:21.624120Z",
     "iopub.status.busy": "2025-07-18T09:48:21.624120Z",
     "iopub.status.idle": "2025-07-18T09:48:24.638885Z",
     "shell.execute_reply": "2025-07-18T09:48:24.637789Z"
    },
    "tags": [
     "remove-input"
    ]
   },
   "outputs": [
    {
     "data": {
      "text/html": [
       "<style type=\"text/css\">\n",
       "#T_e5842 th {\n",
       "  text-align: left;\n",
       "}\n",
       "#T_e5842_row0_col0, #T_e5842_row0_col1, #T_e5842_row1_col0, #T_e5842_row1_col1, #T_e5842_row2_col0, #T_e5842_row2_col1, #T_e5842_row3_col0, #T_e5842_row3_col1, #T_e5842_row4_col0, #T_e5842_row4_col1 {\n",
       "  text-align: left;\n",
       "}\n",
       "</style>\n",
       "<table id=\"T_e5842\" style=\"font-size: 14px\">\n",
       "  <thead>\n",
       "    <tr>\n",
       "      <th id=\"T_e5842_level0_col0\" class=\"col_heading level0 col0\" >Version</th>\n",
       "      <th id=\"T_e5842_level0_col1\" class=\"col_heading level0 col1\" >1</th>\n",
       "    </tr>\n",
       "  </thead>\n",
       "  <tbody>\n",
       "    <tr>\n",
       "      <td id=\"T_e5842_row0_col0\" class=\"data row0 col0\" >Version Date</td>\n",
       "      <td id=\"T_e5842_row0_col1\" class=\"data row0 col1\" >01 Nov 2021</td>\n",
       "    </tr>\n",
       "    <tr>\n",
       "      <td id=\"T_e5842_row1_col0\" class=\"data row1 col0\" >Number of Variables</td>\n",
       "      <td id=\"T_e5842_row1_col1\" class=\"data row1 col1\" >666</td>\n",
       "    </tr>\n",
       "    <tr>\n",
       "      <td id=\"T_e5842_row2_col0\" class=\"data row2 col0\" >Number of Observations</td>\n",
       "      <td id=\"T_e5842_row2_col1\" class=\"data row2 col1\" >31734</td>\n",
       "    </tr>\n",
       "    <tr>\n",
       "      <td id=\"T_e5842_row3_col0\" class=\"data row3 col0\" >DOI</td>\n",
       "      <td id=\"T_e5842_row3_col1\" class=\"data row3 col1\" > <a href=\"https://doi.org/10.83126/ukllc-dataset-00247-01\" rel=\"noopener noreferrer\" target=\"_blank\">10.83126/ukllc-dataset-00247-01</a></td>\n",
       "    </tr>\n",
       "    <tr>\n",
       "      <td id=\"T_e5842_row4_col0\" class=\"data row4 col0\" >Change Log</td>\n",
       "      <td id=\"T_e5842_row4_col1\" class=\"data row4 col1\" > <a href=\"https://api.test.datacite.org/dois/10.83126/ukllc-dataset-00247-01/activities\" rel=\"noopener noreferrer\" target=\"_blank\">10.83126/ukllc-dataset-00247-01/activities</a></td>\n",
       "    </tr>\n",
       "  </tbody>\n",
       "</table>\n"
      ],
      "text/plain": [
       "<pandas.io.formats.style.Styler at 0x249fb4969c0>"
      ]
     },
     "execution_count": 4,
     "metadata": {},
     "output_type": "execute_result"
    }
   ],
   "source": [
    "ds.version_history()"
   ]
  },
  {
   "cell_type": "markdown",
   "id": "82e03bcb",
   "metadata": {},
   "source": [
    "## 3. Documentation"
   ]
  },
  {
   "cell_type": "code",
   "execution_count": 5,
   "id": "455e2b8d",
   "metadata": {
    "execution": {
     "iopub.execute_input": "2025-07-18T09:48:24.644885Z",
     "iopub.status.busy": "2025-07-18T09:48:24.643884Z",
     "iopub.status.idle": "2025-07-18T09:48:24.655867Z",
     "shell.execute_reply": "2025-07-18T09:48:24.653857Z"
    },
    "tags": [
     "remove-input"
    ]
   },
   "outputs": [
    {
     "data": {
      "text/markdown": [
       "We are currently building a documentation storage system which will host useful documents related to datasets and data owners. We will surface these documents on Guidebook."
      ],
      "text/plain": [
       "<IPython.core.display.Markdown object>"
      ]
     },
     "metadata": {},
     "output_type": "display_data"
    }
   ],
   "source": [
    "ds.documentation()"
   ]
  },
  {
   "cell_type": "markdown",
   "id": "27c675bf",
   "metadata": {},
   "source": [
    "## 4. Useful Syntax"
   ]
  },
  {
   "cell_type": "code",
   "execution_count": 6,
   "id": "7538361e",
   "metadata": {
    "execution": {
     "iopub.execute_input": "2025-07-18T09:48:24.660866Z",
     "iopub.status.busy": "2025-07-18T09:48:24.660866Z",
     "iopub.status.idle": "2025-07-18T09:48:24.669897Z",
     "shell.execute_reply": "2025-07-18T09:48:24.668880Z"
    },
    "tags": [
     "remove-input"
    ]
   },
   "outputs": [
    {
     "data": {
      "text/markdown": [
       "Below we will include syntax that may be helpful to other researchers in the UK LLC TRE. For longer scripts, we will include a snippet of the code plus a link to Git where you can find the full scripts."
      ],
      "text/plain": [
       "<IPython.core.display.Markdown object>"
      ]
     },
     "metadata": {},
     "output_type": "display_data"
    }
   ],
   "source": [
    "ds.useful_syntax()"
   ]
  }
 ],
 "metadata": {
  "language_info": {
   "codemirror_mode": {
    "name": "ipython",
    "version": 3
   },
   "file_extension": ".py",
   "mimetype": "text/x-python",
   "name": "python",
   "nbconvert_exporter": "python",
   "pygments_lexer": "ipython3",
   "version": "3.12.7"
  }
 },
 "nbformat": 4,
 "nbformat_minor": 5
}
