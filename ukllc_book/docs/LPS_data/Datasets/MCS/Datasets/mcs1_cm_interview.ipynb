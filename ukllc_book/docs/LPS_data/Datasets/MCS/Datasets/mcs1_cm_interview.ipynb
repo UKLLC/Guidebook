{
 "cells": [
  {
   "cell_type": "markdown",
   "id": "6a45c235",
   "metadata": {},
   "source": [
    "# MCS1 Cohort Member Interview (MCS)"
   ]
  },
  {
   "cell_type": "code",
   "execution_count": 1,
   "id": "7e9550e9",
   "metadata": {
    "execution": {
     "iopub.execute_input": "2025-07-28T19:15:04.433167Z",
     "iopub.status.busy": "2025-07-28T19:15:04.433167Z",
     "iopub.status.idle": "2025-07-28T19:15:16.411014Z",
     "shell.execute_reply": "2025-07-28T19:15:16.407995Z"
    },
    "tags": [
     "remove-input"
    ]
   },
   "outputs": [
    {
     "data": {
      "text/markdown": [
       ">Last modified: 28 Jul 2025"
      ],
      "text/plain": [
       "<IPython.core.display.Markdown object>"
      ]
     },
     "metadata": {},
     "output_type": "display_data"
    }
   ],
   "source": [
    "\n",
    "import sys\n",
    "import os\n",
    "sys.path.append(os.path.abspath('../../../../scripts/'))\n",
    "from data_doc_helper import LPSDataSet as DS, last_modified\n",
    "API_KEY = os.environ['FASTAPI_KEY']\n",
    "ds = DS(\"MCS\", \"mcs1_cm_interview\")\n",
    "last_modified()\n"
   ]
  },
  {
   "cell_type": "markdown",
   "id": "c3d778e1",
   "metadata": {},
   "source": [
    "## 1. Summary"
   ]
  },
  {
   "cell_type": "code",
   "execution_count": 2,
   "id": "533aeccf",
   "metadata": {
    "execution": {
     "iopub.execute_input": "2025-07-28T19:15:16.420783Z",
     "iopub.status.busy": "2025-07-28T19:15:16.419785Z",
     "iopub.status.idle": "2025-07-28T19:15:16.435913Z",
     "shell.execute_reply": "2025-07-28T19:15:16.433708Z"
    },
    "tags": [
     "remove-input"
    ]
   },
   "outputs": [
    {
     "data": {
      "text/markdown": [
       "This is a very small dataset containing only the two-letter country code or continent of birth of cohort member's parents "
      ],
      "text/plain": [
       "<IPython.core.display.Markdown object>"
      ]
     },
     "metadata": {},
     "output_type": "display_data"
    }
   ],
   "source": [
    "ds.summary()"
   ]
  },
  {
   "cell_type": "code",
   "execution_count": 3,
   "id": "bc83bc42",
   "metadata": {
    "execution": {
     "iopub.execute_input": "2025-07-28T19:15:16.442928Z",
     "iopub.status.busy": "2025-07-28T19:15:16.442928Z",
     "iopub.status.idle": "2025-07-28T19:15:18.124712Z",
     "shell.execute_reply": "2025-07-28T19:15:18.122183Z"
    },
    "tags": [
     "remove-input"
    ]
   },
   "outputs": [
    {
     "data": {
      "text/html": [
       "<style type=\"text/css\">\n",
       "#T_5f48c th {\n",
       "  text-align: left;\n",
       "}\n",
       "#T_5f48c_row0_col0, #T_5f48c_row0_col1, #T_5f48c_row1_col0, #T_5f48c_row1_col1, #T_5f48c_row2_col0, #T_5f48c_row2_col1, #T_5f48c_row3_col0, #T_5f48c_row3_col1, #T_5f48c_row4_col0, #T_5f48c_row4_col1, #T_5f48c_row5_col0, #T_5f48c_row5_col1, #T_5f48c_row6_col0, #T_5f48c_row6_col1, #T_5f48c_row7_col0, #T_5f48c_row7_col1, #T_5f48c_row8_col0, #T_5f48c_row8_col1, #T_5f48c_row9_col0, #T_5f48c_row9_col1, #T_5f48c_row10_col0, #T_5f48c_row10_col1, #T_5f48c_row11_col0, #T_5f48c_row11_col1, #T_5f48c_row12_col0, #T_5f48c_row12_col1 {\n",
       "  text-align: left;\n",
       "}\n",
       "</style>\n",
       "<table id=\"T_5f48c\" style=\"font-size: 14px\">\n",
       "  <thead>\n",
       "    <tr>\n",
       "      <th id=\"T_5f48c_level0_col0\" class=\"col_heading level0 col0\" >Dataset Descriptor</th>\n",
       "      <th id=\"T_5f48c_level0_col1\" class=\"col_heading level0 col1\" >Dataset-specific Information</th>\n",
       "    </tr>\n",
       "  </thead>\n",
       "  <tbody>\n",
       "    <tr>\n",
       "      <td id=\"T_5f48c_row0_col0\" class=\"data row0 col0\" >Name of Dataset in TRE</td>\n",
       "      <td id=\"T_5f48c_row0_col1\" class=\"data row0 col1\" >MCS_mcs1_cm_interview</td>\n",
       "    </tr>\n",
       "    <tr>\n",
       "      <td id=\"T_5f48c_row1_col0\" class=\"data row1 col0\" >Citation (APA)</td>\n",
       "      <td id=\"T_5f48c_row1_col1\" class=\"data row1 col1\" >University College London, UCL Social Research Institute, Centre for Longitudinal Studies. (2021). <i>Millennium Cohort Study (MCS): MCS1 Cohort Member Interview.</i> UK Longitudinal Linkage Collaboration (UK LLC).  <a href=\"https://doi.org/10.71760/ukllc-dataset-00163-01\" rel=\"noopener noreferrer\" target=\"_blank\">https://doi.org/10.71760/ukllc-dataset-00163-01</a></td>\n",
       "    </tr>\n",
       "    <tr>\n",
       "      <td id=\"T_5f48c_row2_col0\" class=\"data row2 col0\" >Download Citation</td>\n",
       "      <td id=\"T_5f48c_row2_col1\" class=\"data row2 col1\" > <a href=\"https://api.datacite.org/application/vnd.citationstyles.csl+json/10.71760/ukllc-dataset-00163-01\" rel=\"noopener noreferrer\" target=\"_blank\">Citeproc JSON</a>&nbsp;&nbsp;&nbsp;&nbsp; <a href=\"https://api.datacite.org/application/x-bibtex/10.71760/ukllc-dataset-00163-01\" rel=\"noopener noreferrer\" target=\"_blank\">BibTeX</a>&nbsp;&nbsp;&nbsp;&nbsp; <a href=\"https://api.datacite.org/application/x-research-info-systems/10.71760/ukllc-dataset-00163-01\" rel=\"noopener noreferrer\" target=\"_blank\">RIS</a></td>\n",
       "    </tr>\n",
       "    <tr>\n",
       "      <td id=\"T_5f48c_row3_col0\" class=\"data row3 col0\" >Series</td>\n",
       "      <td id=\"T_5f48c_row3_col1\" class=\"data row3 col1\" > <a href=\"https://guidebook.ukllc.ac.uk/docs/lps_data/lps%20profiles/MCS\">Millennium Cohort Study (MCS)</a></td>\n",
       "    </tr>\n",
       "    <tr>\n",
       "      <td id=\"T_5f48c_row4_col0\" class=\"data row4 col0\" >Owner</td>\n",
       "      <td id=\"T_5f48c_row4_col1\" class=\"data row4 col1\" >UCL</td>\n",
       "    </tr>\n",
       "    <tr>\n",
       "      <td id=\"T_5f48c_row5_col0\" class=\"data row5 col0\" >Temporal Coverage</td>\n",
       "      <td id=\"T_5f48c_row5_col1\" class=\"data row5 col1\" >06/2001 - 01/2003</td>\n",
       "    </tr>\n",
       "    <tr>\n",
       "      <td id=\"T_5f48c_row6_col0\" class=\"data row6 col0\" >Keywords</td>\n",
       "      <td id=\"T_5f48c_row6_col1\" class=\"data row6 col1\" >Pregnancy outcome,health,Birth characteristics</td>\n",
       "    </tr>\n",
       "    <tr>\n",
       "      <td id=\"T_5f48c_row7_col0\" class=\"data row7 col0\" >Participants Invited</td>\n",
       "      <td id=\"T_5f48c_row7_col1\" class=\"data row7 col1\" >18552</td>\n",
       "    </tr>\n",
       "    <tr>\n",
       "      <td id=\"T_5f48c_row8_col0\" class=\"data row8 col0\" >Participant Count</td>\n",
       "      <td id=\"T_5f48c_row8_col1\" class=\"data row8 col1\" >9274</td>\n",
       "    </tr>\n",
       "    <tr>\n",
       "      <td id=\"T_5f48c_row9_col0\" class=\"data row9 col0\" >Number of variables</td>\n",
       "      <td id=\"T_5f48c_row9_col1\" class=\"data row9 col1\" >6</td>\n",
       "    </tr>\n",
       "    <tr>\n",
       "      <td id=\"T_5f48c_row10_col0\" class=\"data row10 col0\" >Number of observations</td>\n",
       "      <td id=\"T_5f48c_row10_col1\" class=\"data row10 col1\" >18786</td>\n",
       "    </tr>\n",
       "    <tr>\n",
       "      <td id=\"T_5f48c_row11_col0\" class=\"data row11 col0\" >Specific Restrictions to Data Use</td>\n",
       "      <td id=\"T_5f48c_row11_col1\" class=\"data row11 col1\" >None</td>\n",
       "    </tr>\n",
       "    <tr>\n",
       "      <td id=\"T_5f48c_row12_col0\" class=\"data row12 col0\" >Build a Data Request</td>\n",
       "      <td id=\"T_5f48c_row12_col1\" class=\"data row12 col1\" > <a href=\"https://explore.ukllc.ac.uk/\" rel=\"noopener noreferrer\" target=\"_blank\">https://explore.ukllc.ac.uk/</a></td>\n",
       "    </tr>\n",
       "  </tbody>\n",
       "</table>\n"
      ],
      "text/plain": [
       "<pandas.io.formats.style.Styler at 0x1afb97607d0>"
      ]
     },
     "execution_count": 3,
     "metadata": {},
     "output_type": "execute_result"
    }
   ],
   "source": [
    "ds.info_table()"
   ]
  },
  {
   "cell_type": "markdown",
   "id": "d1c4f646",
   "metadata": {},
   "source": [
    "## 2. Version History"
   ]
  },
  {
   "cell_type": "code",
   "execution_count": 4,
   "id": "6b40e574",
   "metadata": {
    "execution": {
     "iopub.execute_input": "2025-07-28T19:15:18.133714Z",
     "iopub.status.busy": "2025-07-28T19:15:18.132715Z",
     "iopub.status.idle": "2025-07-28T19:15:23.467269Z",
     "shell.execute_reply": "2025-07-28T19:15:23.464193Z"
    },
    "tags": [
     "remove-input"
    ]
   },
   "outputs": [
    {
     "data": {
      "text/html": [
       "<style type=\"text/css\">\n",
       "#T_9fef3 th {\n",
       "  text-align: left;\n",
       "}\n",
       "#T_9fef3_row0_col0, #T_9fef3_row0_col1, #T_9fef3_row1_col0, #T_9fef3_row1_col1, #T_9fef3_row2_col0, #T_9fef3_row2_col1, #T_9fef3_row3_col0, #T_9fef3_row3_col1, #T_9fef3_row4_col0, #T_9fef3_row4_col1 {\n",
       "  text-align: left;\n",
       "}\n",
       "</style>\n",
       "<table id=\"T_9fef3\" style=\"font-size: 14px\">\n",
       "  <thead>\n",
       "    <tr>\n",
       "      <th id=\"T_9fef3_level0_col0\" class=\"col_heading level0 col0\" >Version</th>\n",
       "      <th id=\"T_9fef3_level0_col1\" class=\"col_heading level0 col1\" >1</th>\n",
       "    </tr>\n",
       "  </thead>\n",
       "  <tbody>\n",
       "    <tr>\n",
       "      <td id=\"T_9fef3_row0_col0\" class=\"data row0 col0\" >Version Date</td>\n",
       "      <td id=\"T_9fef3_row0_col1\" class=\"data row0 col1\" >01 Nov 2021</td>\n",
       "    </tr>\n",
       "    <tr>\n",
       "      <td id=\"T_9fef3_row1_col0\" class=\"data row1 col0\" >Number of Variables</td>\n",
       "      <td id=\"T_9fef3_row1_col1\" class=\"data row1 col1\" >6</td>\n",
       "    </tr>\n",
       "    <tr>\n",
       "      <td id=\"T_9fef3_row2_col0\" class=\"data row2 col0\" >Number of Observations</td>\n",
       "      <td id=\"T_9fef3_row2_col1\" class=\"data row2 col1\" >18786</td>\n",
       "    </tr>\n",
       "    <tr>\n",
       "      <td id=\"T_9fef3_row3_col0\" class=\"data row3 col0\" >DOI</td>\n",
       "      <td id=\"T_9fef3_row3_col1\" class=\"data row3 col1\" > <a href=\"https://doi.org/10.71760/ukllc-dataset-00163-01\" rel=\"noopener noreferrer\" target=\"_blank\">10.71760/ukllc-dataset-00163-01</a></td>\n",
       "    </tr>\n",
       "    <tr>\n",
       "      <td id=\"T_9fef3_row4_col0\" class=\"data row4 col0\" >Change Log</td>\n",
       "      <td id=\"T_9fef3_row4_col1\" class=\"data row4 col1\" > <a href=\"https://api.test.datacite.org/dois/10.71760/ukllc-dataset-00163-01/activities\" rel=\"noopener noreferrer\" target=\"_blank\">10.71760/ukllc-dataset-00163-01/activities</a></td>\n",
       "    </tr>\n",
       "  </tbody>\n",
       "</table>\n"
      ],
      "text/plain": [
       "<pandas.io.formats.style.Styler at 0x1afbf131c70>"
      ]
     },
     "execution_count": 4,
     "metadata": {},
     "output_type": "execute_result"
    }
   ],
   "source": [
    "ds.version_history()"
   ]
  },
  {
   "cell_type": "markdown",
   "id": "8d32e63f",
   "metadata": {},
   "source": [
    "## 3. Documentation"
   ]
  },
  {
   "cell_type": "code",
   "execution_count": 5,
   "id": "fa684f52",
   "metadata": {
    "execution": {
     "iopub.execute_input": "2025-07-28T19:15:23.474292Z",
     "iopub.status.busy": "2025-07-28T19:15:23.474292Z",
     "iopub.status.idle": "2025-07-28T19:15:23.487344Z",
     "shell.execute_reply": "2025-07-28T19:15:23.485307Z"
    },
    "tags": [
     "remove-input"
    ]
   },
   "outputs": [
    {
     "data": {
      "text/markdown": [
       "We are currently building a documentation storage system which will host useful documents related to datasets and data owners. We will surface these documents on Guidebook."
      ],
      "text/plain": [
       "<IPython.core.display.Markdown object>"
      ]
     },
     "metadata": {},
     "output_type": "display_data"
    }
   ],
   "source": [
    "ds.documentation()"
   ]
  },
  {
   "cell_type": "markdown",
   "id": "0cfefb40",
   "metadata": {},
   "source": [
    "## 4. Useful Syntax"
   ]
  },
  {
   "cell_type": "code",
   "execution_count": 6,
   "id": "d8b8eecf",
   "metadata": {
    "execution": {
     "iopub.execute_input": "2025-07-28T19:15:23.497329Z",
     "iopub.status.busy": "2025-07-28T19:15:23.496330Z",
     "iopub.status.idle": "2025-07-28T19:15:23.510716Z",
     "shell.execute_reply": "2025-07-28T19:15:23.508693Z"
    },
    "tags": [
     "remove-input"
    ]
   },
   "outputs": [
    {
     "data": {
      "text/markdown": [
       "Below we will include syntax that may be helpful to other researchers in the UK LLC TRE. For longer scripts, we will include a snippet of the code plus a link to Git where you can find the full scripts."
      ],
      "text/plain": [
       "<IPython.core.display.Markdown object>"
      ]
     },
     "metadata": {},
     "output_type": "display_data"
    }
   ],
   "source": [
    "ds.useful_syntax()"
   ]
  }
 ],
 "metadata": {
  "language_info": {
   "codemirror_mode": {
    "name": "ipython",
    "version": 3
   },
   "file_extension": ".py",
   "mimetype": "text/x-python",
   "name": "python",
   "nbconvert_exporter": "python",
   "pygments_lexer": "ipython3",
   "version": "3.12.7"
  }
 },
 "nbformat": 4,
 "nbformat_minor": 5
}
