{
 "cells": [
  {
   "cell_type": "markdown",
   "id": "6a45c235",
   "metadata": {},
   "source": [
    "# MCS1 Cohort Member Interview (MCS)"
   ]
  },
  {
   "cell_type": "code",
   "execution_count": 1,
   "id": "7e9550e9",
   "metadata": {
    "execution": {
     "iopub.execute_input": "2025-07-18T09:46:59.651610Z",
     "iopub.status.busy": "2025-07-18T09:46:59.651610Z",
     "iopub.status.idle": "2025-07-18T09:47:06.762628Z",
     "shell.execute_reply": "2025-07-18T09:47:06.762112Z"
    },
    "tags": [
     "remove-input"
    ]
   },
   "outputs": [
    {
     "data": {
      "text/markdown": [
       ">Last modified: 18 Jul 2025"
      ],
      "text/plain": [
       "<IPython.core.display.Markdown object>"
      ]
     },
     "metadata": {},
     "output_type": "display_data"
    }
   ],
   "source": [
    "\n",
    "import sys\n",
    "import os\n",
    "sys.path.append(os.path.abspath('../../../../scripts/'))\n",
    "from data_doc_helper import LPSDataSet as DS, last_modified\n",
    "API_KEY = os.environ['FASTAPI_KEY']\n",
    "ds = DS(\"MCS\", \"mcs1_cm_interview\")\n",
    "last_modified()\n"
   ]
  },
  {
   "cell_type": "markdown",
   "id": "c3d778e1",
   "metadata": {},
   "source": [
    "## 1. Summary"
   ]
  },
  {
   "cell_type": "code",
   "execution_count": 2,
   "id": "533aeccf",
   "metadata": {
    "execution": {
     "iopub.execute_input": "2025-07-18T09:47:06.770641Z",
     "iopub.status.busy": "2025-07-18T09:47:06.770641Z",
     "iopub.status.idle": "2025-07-18T09:47:06.782520Z",
     "shell.execute_reply": "2025-07-18T09:47:06.779795Z"
    },
    "tags": [
     "remove-input"
    ]
   },
   "outputs": [
    {
     "data": {
      "text/markdown": [
       "This is a very small dataset containing only the two-letter country code or continent of birth of cohort member's parents "
      ],
      "text/plain": [
       "<IPython.core.display.Markdown object>"
      ]
     },
     "metadata": {},
     "output_type": "display_data"
    }
   ],
   "source": [
    "ds.summary()"
   ]
  },
  {
   "cell_type": "code",
   "execution_count": 3,
   "id": "bc83bc42",
   "metadata": {
    "execution": {
     "iopub.execute_input": "2025-07-18T09:47:06.787534Z",
     "iopub.status.busy": "2025-07-18T09:47:06.787534Z",
     "iopub.status.idle": "2025-07-18T09:47:07.882796Z",
     "shell.execute_reply": "2025-07-18T09:47:07.881814Z"
    },
    "tags": [
     "remove-input"
    ]
   },
   "outputs": [
    {
     "data": {
      "text/html": [
       "<style type=\"text/css\">\n",
       "#T_b5021 th {\n",
       "  text-align: left;\n",
       "}\n",
       "#T_b5021_row0_col0, #T_b5021_row0_col1, #T_b5021_row1_col0, #T_b5021_row1_col1, #T_b5021_row2_col0, #T_b5021_row2_col1, #T_b5021_row3_col0, #T_b5021_row3_col1, #T_b5021_row4_col0, #T_b5021_row4_col1, #T_b5021_row5_col0, #T_b5021_row5_col1, #T_b5021_row6_col0, #T_b5021_row6_col1, #T_b5021_row7_col0, #T_b5021_row7_col1, #T_b5021_row8_col0, #T_b5021_row8_col1, #T_b5021_row9_col0, #T_b5021_row9_col1, #T_b5021_row10_col0, #T_b5021_row10_col1, #T_b5021_row11_col0, #T_b5021_row11_col1, #T_b5021_row12_col0, #T_b5021_row12_col1 {\n",
       "  text-align: left;\n",
       "}\n",
       "</style>\n",
       "<table id=\"T_b5021\" style=\"font-size: 14px\">\n",
       "  <thead>\n",
       "    <tr>\n",
       "      <th id=\"T_b5021_level0_col0\" class=\"col_heading level0 col0\" >Dataset Descriptor</th>\n",
       "      <th id=\"T_b5021_level0_col1\" class=\"col_heading level0 col1\" >Dataset-specific Information</th>\n",
       "    </tr>\n",
       "  </thead>\n",
       "  <tbody>\n",
       "    <tr>\n",
       "      <td id=\"T_b5021_row0_col0\" class=\"data row0 col0\" >Name of Dataset in TRE</td>\n",
       "      <td id=\"T_b5021_row0_col1\" class=\"data row0 col1\" >MCS_mcs1_cm_interview</td>\n",
       "    </tr>\n",
       "    <tr>\n",
       "      <td id=\"T_b5021_row1_col0\" class=\"data row1 col0\" >Citation (APA)</td>\n",
       "      <td id=\"T_b5021_row1_col1\" class=\"data row1 col1\" >University College London, UCL Social Research Institute, Centre for Longitudinal Studies. (2021). <i>Millennium Cohort Study (MCS): MCS1 Cohort Member Interview.</i> UK Longitudinal Linkage Collaboration (UK LLC).  <a href=\"https://doi.org/10.83126/ukllc-dataset-00242-01\" rel=\"noopener noreferrer\" target=\"_blank\">https://doi.org/10.83126/ukllc-dataset-00242-01</a></td>\n",
       "    </tr>\n",
       "    <tr>\n",
       "      <td id=\"T_b5021_row2_col0\" class=\"data row2 col0\" >Download Citation</td>\n",
       "      <td id=\"T_b5021_row2_col1\" class=\"data row2 col1\" > <a href=\"https://api.test.datacite.org/application/vnd.citationstyles.csl+json/10.83126/ukllc-dataset-00242-01\" rel=\"noopener noreferrer\" target=\"_blank\">Citeproc JSON</a>&nbsp;&nbsp;&nbsp;&nbsp; <a href=\"https://api.test.datacite.org/application/x-bibtex/10.83126/ukllc-dataset-00242-01\" rel=\"noopener noreferrer\" target=\"_blank\">BibTeX</a>&nbsp;&nbsp;&nbsp;&nbsp; <a href=\"https://api.test.datacite.org/application/x-research-info-systems/10.83126/ukllc-dataset-00242-01\" rel=\"noopener noreferrer\" target=\"_blank\">RIS</a></td>\n",
       "    </tr>\n",
       "    <tr>\n",
       "      <td id=\"T_b5021_row3_col0\" class=\"data row3 col0\" >Series</td>\n",
       "      <td id=\"T_b5021_row3_col1\" class=\"data row3 col1\" > <a href=\"https://guidebook.ukllc.ac.uk/docs/lps/lps%20profiles/MCS\">Millennium Cohort Study (MCS)</a></td>\n",
       "    </tr>\n",
       "    <tr>\n",
       "      <td id=\"T_b5021_row4_col0\" class=\"data row4 col0\" >Owner</td>\n",
       "      <td id=\"T_b5021_row4_col1\" class=\"data row4 col1\" >UCL</td>\n",
       "    </tr>\n",
       "    <tr>\n",
       "      <td id=\"T_b5021_row5_col0\" class=\"data row5 col0\" >Temporal Coverage</td>\n",
       "      <td id=\"T_b5021_row5_col1\" class=\"data row5 col1\" >06/2001 - 01/2003</td>\n",
       "    </tr>\n",
       "    <tr>\n",
       "      <td id=\"T_b5021_row6_col0\" class=\"data row6 col0\" >Keywords</td>\n",
       "      <td id=\"T_b5021_row6_col1\" class=\"data row6 col1\" >Pregnancy outcome,health,Birth characteristics</td>\n",
       "    </tr>\n",
       "    <tr>\n",
       "      <td id=\"T_b5021_row7_col0\" class=\"data row7 col0\" >Participants Invited</td>\n",
       "      <td id=\"T_b5021_row7_col1\" class=\"data row7 col1\" >18552</td>\n",
       "    </tr>\n",
       "    <tr>\n",
       "      <td id=\"T_b5021_row8_col0\" class=\"data row8 col0\" >Participant Count</td>\n",
       "      <td id=\"T_b5021_row8_col1\" class=\"data row8 col1\" >9274</td>\n",
       "    </tr>\n",
       "    <tr>\n",
       "      <td id=\"T_b5021_row9_col0\" class=\"data row9 col0\" >Number of variables</td>\n",
       "      <td id=\"T_b5021_row9_col1\" class=\"data row9 col1\" >6</td>\n",
       "    </tr>\n",
       "    <tr>\n",
       "      <td id=\"T_b5021_row10_col0\" class=\"data row10 col0\" >Number of observations</td>\n",
       "      <td id=\"T_b5021_row10_col1\" class=\"data row10 col1\" >18786</td>\n",
       "    </tr>\n",
       "    <tr>\n",
       "      <td id=\"T_b5021_row11_col0\" class=\"data row11 col0\" >Specific Restrictions to Data Use</td>\n",
       "      <td id=\"T_b5021_row11_col1\" class=\"data row11 col1\" >None</td>\n",
       "    </tr>\n",
       "    <tr>\n",
       "      <td id=\"T_b5021_row12_col0\" class=\"data row12 col0\" >Build a Data Request</td>\n",
       "      <td id=\"T_b5021_row12_col1\" class=\"data row12 col1\" > <a href=\"https://explore.ukllc.ac.uk/\" rel=\"noopener noreferrer\" target=\"_blank\">https://explore.ukllc.ac.uk/</a></td>\n",
       "    </tr>\n",
       "  </tbody>\n",
       "</table>\n"
      ],
      "text/plain": [
       "<pandas.io.formats.style.Styler at 0x1ef0fb4bec0>"
      ]
     },
     "execution_count": 3,
     "metadata": {},
     "output_type": "execute_result"
    }
   ],
   "source": [
    "ds.info_table()"
   ]
  },
  {
   "cell_type": "markdown",
   "id": "d1c4f646",
   "metadata": {},
   "source": [
    "## 2. Version History"
   ]
  },
  {
   "cell_type": "code",
   "execution_count": 4,
   "id": "6b40e574",
   "metadata": {
    "execution": {
     "iopub.execute_input": "2025-07-18T09:47:07.887811Z",
     "iopub.status.busy": "2025-07-18T09:47:07.886811Z",
     "iopub.status.idle": "2025-07-18T09:47:10.783493Z",
     "shell.execute_reply": "2025-07-18T09:47:10.782485Z"
    },
    "tags": [
     "remove-input"
    ]
   },
   "outputs": [
    {
     "data": {
      "text/html": [
       "<style type=\"text/css\">\n",
       "#T_e5418 th {\n",
       "  text-align: left;\n",
       "}\n",
       "#T_e5418_row0_col0, #T_e5418_row0_col1, #T_e5418_row1_col0, #T_e5418_row1_col1, #T_e5418_row2_col0, #T_e5418_row2_col1, #T_e5418_row3_col0, #T_e5418_row3_col1, #T_e5418_row4_col0, #T_e5418_row4_col1 {\n",
       "  text-align: left;\n",
       "}\n",
       "</style>\n",
       "<table id=\"T_e5418\" style=\"font-size: 14px\">\n",
       "  <thead>\n",
       "    <tr>\n",
       "      <th id=\"T_e5418_level0_col0\" class=\"col_heading level0 col0\" >Version</th>\n",
       "      <th id=\"T_e5418_level0_col1\" class=\"col_heading level0 col1\" >1</th>\n",
       "    </tr>\n",
       "  </thead>\n",
       "  <tbody>\n",
       "    <tr>\n",
       "      <td id=\"T_e5418_row0_col0\" class=\"data row0 col0\" >Version Date</td>\n",
       "      <td id=\"T_e5418_row0_col1\" class=\"data row0 col1\" >01 Nov 2021</td>\n",
       "    </tr>\n",
       "    <tr>\n",
       "      <td id=\"T_e5418_row1_col0\" class=\"data row1 col0\" >Number of Variables</td>\n",
       "      <td id=\"T_e5418_row1_col1\" class=\"data row1 col1\" >6</td>\n",
       "    </tr>\n",
       "    <tr>\n",
       "      <td id=\"T_e5418_row2_col0\" class=\"data row2 col0\" >Number of Observations</td>\n",
       "      <td id=\"T_e5418_row2_col1\" class=\"data row2 col1\" >18786</td>\n",
       "    </tr>\n",
       "    <tr>\n",
       "      <td id=\"T_e5418_row3_col0\" class=\"data row3 col0\" >DOI</td>\n",
       "      <td id=\"T_e5418_row3_col1\" class=\"data row3 col1\" > <a href=\"https://doi.org/10.83126/ukllc-dataset-00242-01\" rel=\"noopener noreferrer\" target=\"_blank\">10.83126/ukllc-dataset-00242-01</a></td>\n",
       "    </tr>\n",
       "    <tr>\n",
       "      <td id=\"T_e5418_row4_col0\" class=\"data row4 col0\" >Change Log</td>\n",
       "      <td id=\"T_e5418_row4_col1\" class=\"data row4 col1\" > <a href=\"https://api.test.datacite.org/dois/10.83126/ukllc-dataset-00242-01/activities\" rel=\"noopener noreferrer\" target=\"_blank\">10.83126/ukllc-dataset-00242-01/activities</a></td>\n",
       "    </tr>\n",
       "  </tbody>\n",
       "</table>\n"
      ],
      "text/plain": [
       "<pandas.io.formats.style.Styler at 0x1ef1567b230>"
      ]
     },
     "execution_count": 4,
     "metadata": {},
     "output_type": "execute_result"
    }
   ],
   "source": [
    "ds.version_history()"
   ]
  },
  {
   "cell_type": "markdown",
   "id": "8d32e63f",
   "metadata": {},
   "source": [
    "## 3. Documentation"
   ]
  },
  {
   "cell_type": "code",
   "execution_count": 5,
   "id": "fa684f52",
   "metadata": {
    "execution": {
     "iopub.execute_input": "2025-07-18T09:47:10.787492Z",
     "iopub.status.busy": "2025-07-18T09:47:10.787492Z",
     "iopub.status.idle": "2025-07-18T09:47:10.796929Z",
     "shell.execute_reply": "2025-07-18T09:47:10.795921Z"
    },
    "tags": [
     "remove-input"
    ]
   },
   "outputs": [
    {
     "data": {
      "text/markdown": [
       "We are currently building a documentation storage system which will host useful documents related to datasets and data owners. We will surface these documents on Guidebook."
      ],
      "text/plain": [
       "<IPython.core.display.Markdown object>"
      ]
     },
     "metadata": {},
     "output_type": "display_data"
    }
   ],
   "source": [
    "ds.documentation()"
   ]
  },
  {
   "cell_type": "markdown",
   "id": "0cfefb40",
   "metadata": {},
   "source": [
    "## 4. Useful Syntax"
   ]
  },
  {
   "cell_type": "code",
   "execution_count": 6,
   "id": "d8b8eecf",
   "metadata": {
    "execution": {
     "iopub.execute_input": "2025-07-18T09:47:10.804227Z",
     "iopub.status.busy": "2025-07-18T09:47:10.803229Z",
     "iopub.status.idle": "2025-07-18T09:47:10.811717Z",
     "shell.execute_reply": "2025-07-18T09:47:10.810262Z"
    },
    "tags": [
     "remove-input"
    ]
   },
   "outputs": [
    {
     "data": {
      "text/markdown": [
       "Below we will include syntax that may be helpful to other researchers in the UK LLC TRE. For longer scripts, we will include a snippet of the code plus a link to Git where you can find the full scripts."
      ],
      "text/plain": [
       "<IPython.core.display.Markdown object>"
      ]
     },
     "metadata": {},
     "output_type": "display_data"
    }
   ],
   "source": [
    "ds.useful_syntax()"
   ]
  }
 ],
 "metadata": {
  "language_info": {
   "codemirror_mode": {
    "name": "ipython",
    "version": 3
   },
   "file_extension": ".py",
   "mimetype": "text/x-python",
   "name": "python",
   "nbconvert_exporter": "python",
   "pygments_lexer": "ipython3",
   "version": "3.12.7"
  }
 },
 "nbformat": 4,
 "nbformat_minor": 5
}
