{
 "cells": [
  {
   "cell_type": "markdown",
   "id": "a52629cf",
   "metadata": {},
   "source": [
    "# MCS2 Parent Interview (MCS)"
   ]
  },
  {
   "cell_type": "code",
   "execution_count": 1,
   "id": "9e5a2175",
   "metadata": {
    "execution": {
     "iopub.execute_input": "2025-07-18T09:50:51.639974Z",
     "iopub.status.busy": "2025-07-18T09:50:51.639974Z",
     "iopub.status.idle": "2025-07-18T09:50:58.324051Z",
     "shell.execute_reply": "2025-07-18T09:50:58.321039Z"
    },
    "tags": [
     "remove-input"
    ]
   },
   "outputs": [
    {
     "data": {
      "text/markdown": [
       ">Last modified: 18 Jul 2025"
      ],
      "text/plain": [
       "<IPython.core.display.Markdown object>"
      ]
     },
     "metadata": {},
     "output_type": "display_data"
    }
   ],
   "source": [
    "\n",
    "import sys\n",
    "import os\n",
    "sys.path.append(os.path.abspath('../../../../scripts/'))\n",
    "from data_doc_helper import LPSDataSet as DS, last_modified\n",
    "API_KEY = os.environ['FASTAPI_KEY']\n",
    "ds = DS(\"MCS\", \"mcs2_parent_interview\")\n",
    "last_modified()\n"
   ]
  },
  {
   "cell_type": "markdown",
   "id": "8523f479",
   "metadata": {},
   "source": [
    "## 1. Summary"
   ]
  },
  {
   "cell_type": "code",
   "execution_count": 2,
   "id": "38cd9c61",
   "metadata": {
    "execution": {
     "iopub.execute_input": "2025-07-18T09:50:58.330047Z",
     "iopub.status.busy": "2025-07-18T09:50:58.330047Z",
     "iopub.status.idle": "2025-07-18T09:50:58.340438Z",
     "shell.execute_reply": "2025-07-18T09:50:58.338431Z"
    },
    "tags": [
     "remove-input"
    ]
   },
   "outputs": [
    {
     "data": {
      "text/markdown": [
       "This dataset contains parental responses to questions on many topics including their ethnicity, marital status, lone parenthood, pregnancy, childcare, health, height, weight, non-resident children, home, qualifications, employment and income at sweep 2"
      ],
      "text/plain": [
       "<IPython.core.display.Markdown object>"
      ]
     },
     "metadata": {},
     "output_type": "display_data"
    }
   ],
   "source": [
    "ds.summary()"
   ]
  },
  {
   "cell_type": "code",
   "execution_count": 3,
   "id": "c7772f2d",
   "metadata": {
    "execution": {
     "iopub.execute_input": "2025-07-18T09:50:58.346437Z",
     "iopub.status.busy": "2025-07-18T09:50:58.346437Z",
     "iopub.status.idle": "2025-07-18T09:50:59.764946Z",
     "shell.execute_reply": "2025-07-18T09:50:59.762940Z"
    },
    "tags": [
     "remove-input"
    ]
   },
   "outputs": [
    {
     "data": {
      "text/html": [
       "<style type=\"text/css\">\n",
       "#T_e7567 th {\n",
       "  text-align: left;\n",
       "}\n",
       "#T_e7567_row0_col0, #T_e7567_row0_col1, #T_e7567_row1_col0, #T_e7567_row1_col1, #T_e7567_row2_col0, #T_e7567_row2_col1, #T_e7567_row3_col0, #T_e7567_row3_col1, #T_e7567_row4_col0, #T_e7567_row4_col1, #T_e7567_row5_col0, #T_e7567_row5_col1, #T_e7567_row6_col0, #T_e7567_row6_col1, #T_e7567_row7_col0, #T_e7567_row7_col1, #T_e7567_row8_col0, #T_e7567_row8_col1, #T_e7567_row9_col0, #T_e7567_row9_col1, #T_e7567_row10_col0, #T_e7567_row10_col1, #T_e7567_row11_col0, #T_e7567_row11_col1, #T_e7567_row12_col0, #T_e7567_row12_col1 {\n",
       "  text-align: left;\n",
       "}\n",
       "</style>\n",
       "<table id=\"T_e7567\" style=\"font-size: 14px\">\n",
       "  <thead>\n",
       "    <tr>\n",
       "      <th id=\"T_e7567_level0_col0\" class=\"col_heading level0 col0\" >Dataset Descriptor</th>\n",
       "      <th id=\"T_e7567_level0_col1\" class=\"col_heading level0 col1\" >Dataset-specific Information</th>\n",
       "    </tr>\n",
       "  </thead>\n",
       "  <tbody>\n",
       "    <tr>\n",
       "      <td id=\"T_e7567_row0_col0\" class=\"data row0 col0\" >Name of Dataset in TRE</td>\n",
       "      <td id=\"T_e7567_row0_col1\" class=\"data row0 col1\" >MCS_mcs2_parent_interview</td>\n",
       "    </tr>\n",
       "    <tr>\n",
       "      <td id=\"T_e7567_row1_col0\" class=\"data row1 col0\" >Citation (APA)</td>\n",
       "      <td id=\"T_e7567_row1_col1\" class=\"data row1 col1\" >University College London, UCL Social Research Institute, Centre for Longitudinal Studies. (2021). <i>Millennium Cohort Study (MCS): MCS2 Parent Interview.</i> UK Longitudinal Linkage Collaboration (UK LLC).  <a href=\"https://doi.org/10.83126/ukllc-dataset-00258-01\" rel=\"noopener noreferrer\" target=\"_blank\">https://doi.org/10.83126/ukllc-dataset-00258-01</a></td>\n",
       "    </tr>\n",
       "    <tr>\n",
       "      <td id=\"T_e7567_row2_col0\" class=\"data row2 col0\" >Download Citation</td>\n",
       "      <td id=\"T_e7567_row2_col1\" class=\"data row2 col1\" > <a href=\"https://api.test.datacite.org/application/vnd.citationstyles.csl+json/10.83126/ukllc-dataset-00258-01\" rel=\"noopener noreferrer\" target=\"_blank\">Citeproc JSON</a>&nbsp;&nbsp;&nbsp;&nbsp; <a href=\"https://api.test.datacite.org/application/x-bibtex/10.83126/ukllc-dataset-00258-01\" rel=\"noopener noreferrer\" target=\"_blank\">BibTeX</a>&nbsp;&nbsp;&nbsp;&nbsp; <a href=\"https://api.test.datacite.org/application/x-research-info-systems/10.83126/ukllc-dataset-00258-01\" rel=\"noopener noreferrer\" target=\"_blank\">RIS</a></td>\n",
       "    </tr>\n",
       "    <tr>\n",
       "      <td id=\"T_e7567_row3_col0\" class=\"data row3 col0\" >Series</td>\n",
       "      <td id=\"T_e7567_row3_col1\" class=\"data row3 col1\" > <a href=\"https://guidebook.ukllc.ac.uk/docs/lps/lps%20profiles/MCS\">Millennium Cohort Study (MCS)</a></td>\n",
       "    </tr>\n",
       "    <tr>\n",
       "      <td id=\"T_e7567_row4_col0\" class=\"data row4 col0\" >Owner</td>\n",
       "      <td id=\"T_e7567_row4_col1\" class=\"data row4 col1\" >UCL</td>\n",
       "    </tr>\n",
       "    <tr>\n",
       "      <td id=\"T_e7567_row5_col0\" class=\"data row5 col0\" >Temporal Coverage</td>\n",
       "      <td id=\"T_e7567_row5_col1\" class=\"data row5 col1\" >09/2003 - 04/2005</td>\n",
       "    </tr>\n",
       "    <tr>\n",
       "      <td id=\"T_e7567_row6_col0\" class=\"data row6 col0\" >Keywords</td>\n",
       "      <td id=\"T_e7567_row6_col1\" class=\"data row6 col1\" >Family Life,Health,employment,attitudes,Social mobility</td>\n",
       "    </tr>\n",
       "    <tr>\n",
       "      <td id=\"T_e7567_row7_col0\" class=\"data row7 col0\" >Participants Invited</td>\n",
       "      <td id=\"T_e7567_row7_col1\" class=\"data row7 col1\" >15590</td>\n",
       "    </tr>\n",
       "    <tr>\n",
       "      <td id=\"T_e7567_row8_col0\" class=\"data row8 col0\" >Participant Count</td>\n",
       "      <td id=\"T_e7567_row8_col1\" class=\"data row8 col1\" >15698</td>\n",
       "    </tr>\n",
       "    <tr>\n",
       "      <td id=\"T_e7567_row9_col0\" class=\"data row9 col0\" >Number of variables</td>\n",
       "      <td id=\"T_e7567_row9_col1\" class=\"data row9 col1\" >969</td>\n",
       "    </tr>\n",
       "    <tr>\n",
       "      <td id=\"T_e7567_row10_col0\" class=\"data row10 col0\" >Number of observations</td>\n",
       "      <td id=\"T_e7567_row10_col1\" class=\"data row10 col1\" >25907</td>\n",
       "    </tr>\n",
       "    <tr>\n",
       "      <td id=\"T_e7567_row11_col0\" class=\"data row11 col0\" >Specific Restrictions to Data Use</td>\n",
       "      <td id=\"T_e7567_row11_col1\" class=\"data row11 col1\" >None</td>\n",
       "    </tr>\n",
       "    <tr>\n",
       "      <td id=\"T_e7567_row12_col0\" class=\"data row12 col0\" >Build a Data Request</td>\n",
       "      <td id=\"T_e7567_row12_col1\" class=\"data row12 col1\" > <a href=\"https://explore.ukllc.ac.uk/\" rel=\"noopener noreferrer\" target=\"_blank\">https://explore.ukllc.ac.uk/</a></td>\n",
       "    </tr>\n",
       "  </tbody>\n",
       "</table>\n"
      ],
      "text/plain": [
       "<pandas.io.formats.style.Styler at 0x27431e56450>"
      ]
     },
     "execution_count": 3,
     "metadata": {},
     "output_type": "execute_result"
    }
   ],
   "source": [
    "ds.info_table()"
   ]
  },
  {
   "cell_type": "markdown",
   "id": "0a54f69c",
   "metadata": {},
   "source": [
    "## 2. Version History"
   ]
  },
  {
   "cell_type": "code",
   "execution_count": 4,
   "id": "acc68a13",
   "metadata": {
    "execution": {
     "iopub.execute_input": "2025-07-18T09:50:59.772948Z",
     "iopub.status.busy": "2025-07-18T09:50:59.771948Z",
     "iopub.status.idle": "2025-07-18T09:51:02.047438Z",
     "shell.execute_reply": "2025-07-18T09:51:02.046431Z"
    },
    "tags": [
     "remove-input"
    ]
   },
   "outputs": [
    {
     "data": {
      "text/html": [
       "<style type=\"text/css\">\n",
       "#T_28bd7 th {\n",
       "  text-align: left;\n",
       "}\n",
       "#T_28bd7_row0_col0, #T_28bd7_row0_col1, #T_28bd7_row1_col0, #T_28bd7_row1_col1, #T_28bd7_row2_col0, #T_28bd7_row2_col1, #T_28bd7_row3_col0, #T_28bd7_row3_col1, #T_28bd7_row4_col0, #T_28bd7_row4_col1 {\n",
       "  text-align: left;\n",
       "}\n",
       "</style>\n",
       "<table id=\"T_28bd7\" style=\"font-size: 14px\">\n",
       "  <thead>\n",
       "    <tr>\n",
       "      <th id=\"T_28bd7_level0_col0\" class=\"col_heading level0 col0\" >Version</th>\n",
       "      <th id=\"T_28bd7_level0_col1\" class=\"col_heading level0 col1\" >1</th>\n",
       "    </tr>\n",
       "  </thead>\n",
       "  <tbody>\n",
       "    <tr>\n",
       "      <td id=\"T_28bd7_row0_col0\" class=\"data row0 col0\" >Version Date</td>\n",
       "      <td id=\"T_28bd7_row0_col1\" class=\"data row0 col1\" >01 Nov 2021</td>\n",
       "    </tr>\n",
       "    <tr>\n",
       "      <td id=\"T_28bd7_row1_col0\" class=\"data row1 col0\" >Number of Variables</td>\n",
       "      <td id=\"T_28bd7_row1_col1\" class=\"data row1 col1\" >969</td>\n",
       "    </tr>\n",
       "    <tr>\n",
       "      <td id=\"T_28bd7_row2_col0\" class=\"data row2 col0\" >Number of Observations</td>\n",
       "      <td id=\"T_28bd7_row2_col1\" class=\"data row2 col1\" >25907</td>\n",
       "    </tr>\n",
       "    <tr>\n",
       "      <td id=\"T_28bd7_row3_col0\" class=\"data row3 col0\" >DOI</td>\n",
       "      <td id=\"T_28bd7_row3_col1\" class=\"data row3 col1\" > <a href=\"https://doi.org/10.83126/ukllc-dataset-00258-01\" rel=\"noopener noreferrer\" target=\"_blank\">10.83126/ukllc-dataset-00258-01</a></td>\n",
       "    </tr>\n",
       "    <tr>\n",
       "      <td id=\"T_28bd7_row4_col0\" class=\"data row4 col0\" >Change Log</td>\n",
       "      <td id=\"T_28bd7_row4_col1\" class=\"data row4 col1\" > <a href=\"https://api.test.datacite.org/dois/10.83126/ukllc-dataset-00258-01/activities\" rel=\"noopener noreferrer\" target=\"_blank\">10.83126/ukllc-dataset-00258-01/activities</a></td>\n",
       "    </tr>\n",
       "  </tbody>\n",
       "</table>\n"
      ],
      "text/plain": [
       "<pandas.io.formats.style.Styler at 0x2743398a870>"
      ]
     },
     "execution_count": 4,
     "metadata": {},
     "output_type": "execute_result"
    }
   ],
   "source": [
    "ds.version_history()"
   ]
  },
  {
   "cell_type": "markdown",
   "id": "7d02350f",
   "metadata": {},
   "source": [
    "## 3. Documentation"
   ]
  },
  {
   "cell_type": "code",
   "execution_count": 5,
   "id": "ca53ca45",
   "metadata": {
    "execution": {
     "iopub.execute_input": "2025-07-18T09:51:02.054438Z",
     "iopub.status.busy": "2025-07-18T09:51:02.054438Z",
     "iopub.status.idle": "2025-07-18T09:51:02.064537Z",
     "shell.execute_reply": "2025-07-18T09:51:02.063529Z"
    },
    "tags": [
     "remove-input"
    ]
   },
   "outputs": [
    {
     "data": {
      "text/markdown": [
       "We are currently building a documentation storage system which will host useful documents related to datasets and data owners. We will surface these documents on Guidebook."
      ],
      "text/plain": [
       "<IPython.core.display.Markdown object>"
      ]
     },
     "metadata": {},
     "output_type": "display_data"
    }
   ],
   "source": [
    "ds.documentation()"
   ]
  },
  {
   "cell_type": "markdown",
   "id": "ad49a146",
   "metadata": {},
   "source": [
    "## 4. Useful Syntax"
   ]
  },
  {
   "cell_type": "code",
   "execution_count": 6,
   "id": "77fbbfb4",
   "metadata": {
    "execution": {
     "iopub.execute_input": "2025-07-18T09:51:02.070536Z",
     "iopub.status.busy": "2025-07-18T09:51:02.070536Z",
     "iopub.status.idle": "2025-07-18T09:51:02.079566Z",
     "shell.execute_reply": "2025-07-18T09:51:02.078618Z"
    },
    "tags": [
     "remove-input"
    ]
   },
   "outputs": [
    {
     "data": {
      "text/markdown": [
       "Below we will include syntax that may be helpful to other researchers in the UK LLC TRE. For longer scripts, we will include a snippet of the code plus a link to Git where you can find the full scripts."
      ],
      "text/plain": [
       "<IPython.core.display.Markdown object>"
      ]
     },
     "metadata": {},
     "output_type": "display_data"
    }
   ],
   "source": [
    "ds.useful_syntax()"
   ]
  }
 ],
 "metadata": {
  "language_info": {
   "codemirror_mode": {
    "name": "ipython",
    "version": 3
   },
   "file_extension": ".py",
   "mimetype": "text/x-python",
   "name": "python",
   "nbconvert_exporter": "python",
   "pygments_lexer": "ipython3",
   "version": "3.12.7"
  }
 },
 "nbformat": 4,
 "nbformat_minor": 5
}
