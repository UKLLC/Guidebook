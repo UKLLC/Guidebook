{
 "cells": [
  {
   "cell_type": "markdown",
   "id": "07cc1c7b",
   "metadata": {},
   "source": [
    "# MCS5 Cohort Member Interview (MCS)"
   ]
  },
  {
   "cell_type": "code",
   "execution_count": 1,
   "id": "6020165c",
   "metadata": {
    "execution": {
     "iopub.execute_input": "2025-07-28T19:32:01.968054Z",
     "iopub.status.busy": "2025-07-28T19:32:01.968054Z",
     "iopub.status.idle": "2025-07-28T19:32:14.383370Z",
     "shell.execute_reply": "2025-07-28T19:32:14.381471Z"
    },
    "tags": [
     "remove-input"
    ]
   },
   "outputs": [
    {
     "data": {
      "text/markdown": [
       ">Last modified: 28 Jul 2025"
      ],
      "text/plain": [
       "<IPython.core.display.Markdown object>"
      ]
     },
     "metadata": {},
     "output_type": "display_data"
    }
   ],
   "source": [
    "\n",
    "import sys\n",
    "import os\n",
    "sys.path.append(os.path.abspath('../../../../scripts/'))\n",
    "from data_doc_helper import LPSDataSet as DS, last_modified\n",
    "API_KEY = os.environ['FASTAPI_KEY']\n",
    "ds = DS(\"MCS\", \"mcs5_cm_interview\")\n",
    "last_modified()\n"
   ]
  },
  {
   "cell_type": "markdown",
   "id": "fd7b320c",
   "metadata": {},
   "source": [
    "## 1. Summary"
   ]
  },
  {
   "cell_type": "code",
   "execution_count": 2,
   "id": "5794b1df",
   "metadata": {
    "execution": {
     "iopub.execute_input": "2025-07-28T19:32:14.392504Z",
     "iopub.status.busy": "2025-07-28T19:32:14.391505Z",
     "iopub.status.idle": "2025-07-28T19:32:14.404847Z",
     "shell.execute_reply": "2025-07-28T19:32:14.402829Z"
    },
    "tags": [
     "remove-input"
    ]
   },
   "outputs": [
    {
     "data": {
      "text/markdown": [
       "Responses to the parent SDQ questions about each cohort child appear in this dataset. There are also responses from the parent about the cohort member's physical development (puberty signs). This dataset also contains the physical measurement variables relating to the cohort member. This includes height, weight, bodyfat and BMI, along with circumstances applicable to the measurements as observed by the interviewer. Answers to the child self completion questionnaire also appear in this dataset."
      ],
      "text/plain": [
       "<IPython.core.display.Markdown object>"
      ]
     },
     "metadata": {},
     "output_type": "display_data"
    }
   ],
   "source": [
    "ds.summary()"
   ]
  },
  {
   "cell_type": "code",
   "execution_count": 3,
   "id": "122d5d82",
   "metadata": {
    "execution": {
     "iopub.execute_input": "2025-07-28T19:32:14.413381Z",
     "iopub.status.busy": "2025-07-28T19:32:14.411847Z",
     "iopub.status.idle": "2025-07-28T19:32:16.334434Z",
     "shell.execute_reply": "2025-07-28T19:32:16.329132Z"
    },
    "tags": [
     "remove-input"
    ]
   },
   "outputs": [
    {
     "data": {
      "text/html": [
       "<style type=\"text/css\">\n",
       "#T_dcb36 th {\n",
       "  text-align: left;\n",
       "}\n",
       "#T_dcb36_row0_col0, #T_dcb36_row0_col1, #T_dcb36_row1_col0, #T_dcb36_row1_col1, #T_dcb36_row2_col0, #T_dcb36_row2_col1, #T_dcb36_row3_col0, #T_dcb36_row3_col1, #T_dcb36_row4_col0, #T_dcb36_row4_col1, #T_dcb36_row5_col0, #T_dcb36_row5_col1, #T_dcb36_row6_col0, #T_dcb36_row6_col1, #T_dcb36_row7_col0, #T_dcb36_row7_col1, #T_dcb36_row8_col0, #T_dcb36_row8_col1, #T_dcb36_row9_col0, #T_dcb36_row9_col1, #T_dcb36_row10_col0, #T_dcb36_row10_col1, #T_dcb36_row11_col0, #T_dcb36_row11_col1, #T_dcb36_row12_col0, #T_dcb36_row12_col1 {\n",
       "  text-align: left;\n",
       "}\n",
       "</style>\n",
       "<table id=\"T_dcb36\" style=\"font-size: 14px\">\n",
       "  <thead>\n",
       "    <tr>\n",
       "      <th id=\"T_dcb36_level0_col0\" class=\"col_heading level0 col0\" >Dataset Descriptor</th>\n",
       "      <th id=\"T_dcb36_level0_col1\" class=\"col_heading level0 col1\" >Dataset-specific Information</th>\n",
       "    </tr>\n",
       "  </thead>\n",
       "  <tbody>\n",
       "    <tr>\n",
       "      <td id=\"T_dcb36_row0_col0\" class=\"data row0 col0\" >Name of Dataset in TRE</td>\n",
       "      <td id=\"T_dcb36_row0_col1\" class=\"data row0 col1\" >MCS_mcs5_cm_interview</td>\n",
       "    </tr>\n",
       "    <tr>\n",
       "      <td id=\"T_dcb36_row1_col0\" class=\"data row1 col0\" >Citation (APA)</td>\n",
       "      <td id=\"T_dcb36_row1_col1\" class=\"data row1 col1\" >University College London, UCL Social Research Institute, Centre for Longitudinal Studies. (2021). <i>Millennium Cohort Study (MCS): MCS5 Cohort Member Interview.</i> UK Longitudinal Linkage Collaboration (UK LLC).  <a href=\"https://doi.org/10.71760/ukllc-dataset-00204-01\" rel=\"noopener noreferrer\" target=\"_blank\">https://doi.org/10.71760/ukllc-dataset-00204-01</a></td>\n",
       "    </tr>\n",
       "    <tr>\n",
       "      <td id=\"T_dcb36_row2_col0\" class=\"data row2 col0\" >Download Citation</td>\n",
       "      <td id=\"T_dcb36_row2_col1\" class=\"data row2 col1\" > <a href=\"https://api.datacite.org/application/vnd.citationstyles.csl+json/10.71760/ukllc-dataset-00204-01\" rel=\"noopener noreferrer\" target=\"_blank\">Citeproc JSON</a>&nbsp;&nbsp;&nbsp;&nbsp; <a href=\"https://api.datacite.org/application/x-bibtex/10.71760/ukllc-dataset-00204-01\" rel=\"noopener noreferrer\" target=\"_blank\">BibTeX</a>&nbsp;&nbsp;&nbsp;&nbsp; <a href=\"https://api.datacite.org/application/x-research-info-systems/10.71760/ukllc-dataset-00204-01\" rel=\"noopener noreferrer\" target=\"_blank\">RIS</a></td>\n",
       "    </tr>\n",
       "    <tr>\n",
       "      <td id=\"T_dcb36_row3_col0\" class=\"data row3 col0\" >Series</td>\n",
       "      <td id=\"T_dcb36_row3_col1\" class=\"data row3 col1\" > <a href=\"https://guidebook.ukllc.ac.uk/docs/lps_data/lps%20profiles/MCS\">Millennium Cohort Study (MCS)</a></td>\n",
       "    </tr>\n",
       "    <tr>\n",
       "      <td id=\"T_dcb36_row4_col0\" class=\"data row4 col0\" >Owner</td>\n",
       "      <td id=\"T_dcb36_row4_col1\" class=\"data row4 col1\" >UCL</td>\n",
       "    </tr>\n",
       "    <tr>\n",
       "      <td id=\"T_dcb36_row5_col0\" class=\"data row5 col0\" >Temporal Coverage</td>\n",
       "      <td id=\"T_dcb36_row5_col1\" class=\"data row5 col1\" >01/2012 - 02/2013</td>\n",
       "    </tr>\n",
       "    <tr>\n",
       "      <td id=\"T_dcb36_row6_col0\" class=\"data row6 col0\" >Keywords</td>\n",
       "      <td id=\"T_dcb36_row6_col1\" class=\"data row6 col1\" >Health,Education,Family life,Employment,Attitudes</td>\n",
       "    </tr>\n",
       "    <tr>\n",
       "      <td id=\"T_dcb36_row7_col0\" class=\"data row7 col0\" >Participants Invited</td>\n",
       "      <td id=\"T_dcb36_row7_col1\" class=\"data row7 col1\" >13287</td>\n",
       "    </tr>\n",
       "    <tr>\n",
       "      <td id=\"T_dcb36_row8_col0\" class=\"data row8 col0\" >Participant Count</td>\n",
       "      <td id=\"T_dcb36_row8_col1\" class=\"data row8 col1\" >9149</td>\n",
       "    </tr>\n",
       "    <tr>\n",
       "      <td id=\"T_dcb36_row9_col0\" class=\"data row9 col0\" >Number of variables</td>\n",
       "      <td id=\"T_dcb36_row9_col1\" class=\"data row9 col1\" >331</td>\n",
       "    </tr>\n",
       "    <tr>\n",
       "      <td id=\"T_dcb36_row10_col0\" class=\"data row10 col0\" >Number of observations</td>\n",
       "      <td id=\"T_dcb36_row10_col1\" class=\"data row10 col1\" >13447</td>\n",
       "    </tr>\n",
       "    <tr>\n",
       "      <td id=\"T_dcb36_row11_col0\" class=\"data row11 col0\" >Specific Restrictions to Data Use</td>\n",
       "      <td id=\"T_dcb36_row11_col1\" class=\"data row11 col1\" >None</td>\n",
       "    </tr>\n",
       "    <tr>\n",
       "      <td id=\"T_dcb36_row12_col0\" class=\"data row12 col0\" >Build a Data Request</td>\n",
       "      <td id=\"T_dcb36_row12_col1\" class=\"data row12 col1\" > <a href=\"https://explore.ukllc.ac.uk/\" rel=\"noopener noreferrer\" target=\"_blank\">https://explore.ukllc.ac.uk/</a></td>\n",
       "    </tr>\n",
       "  </tbody>\n",
       "</table>\n"
      ],
      "text/plain": [
       "<pandas.io.formats.style.Styler at 0x251edc7ed50>"
      ]
     },
     "execution_count": 3,
     "metadata": {},
     "output_type": "execute_result"
    }
   ],
   "source": [
    "ds.info_table()"
   ]
  },
  {
   "cell_type": "markdown",
   "id": "00c13335",
   "metadata": {},
   "source": [
    "## 2. Version History"
   ]
  },
  {
   "cell_type": "code",
   "execution_count": 4,
   "id": "6de68acc",
   "metadata": {
    "execution": {
     "iopub.execute_input": "2025-07-28T19:32:16.350159Z",
     "iopub.status.busy": "2025-07-28T19:32:16.349167Z",
     "iopub.status.idle": "2025-07-28T19:32:23.690503Z",
     "shell.execute_reply": "2025-07-28T19:32:23.684877Z"
    },
    "tags": [
     "remove-input"
    ]
   },
   "outputs": [
    {
     "data": {
      "text/html": [
       "<style type=\"text/css\">\n",
       "#T_d3a0e th {\n",
       "  text-align: left;\n",
       "}\n",
       "#T_d3a0e_row0_col0, #T_d3a0e_row0_col1, #T_d3a0e_row1_col0, #T_d3a0e_row1_col1, #T_d3a0e_row2_col0, #T_d3a0e_row2_col1, #T_d3a0e_row3_col0, #T_d3a0e_row3_col1, #T_d3a0e_row4_col0, #T_d3a0e_row4_col1 {\n",
       "  text-align: left;\n",
       "}\n",
       "</style>\n",
       "<table id=\"T_d3a0e\" style=\"font-size: 14px\">\n",
       "  <thead>\n",
       "    <tr>\n",
       "      <th id=\"T_d3a0e_level0_col0\" class=\"col_heading level0 col0\" >Version</th>\n",
       "      <th id=\"T_d3a0e_level0_col1\" class=\"col_heading level0 col1\" >1</th>\n",
       "    </tr>\n",
       "  </thead>\n",
       "  <tbody>\n",
       "    <tr>\n",
       "      <td id=\"T_d3a0e_row0_col0\" class=\"data row0 col0\" >Version Date</td>\n",
       "      <td id=\"T_d3a0e_row0_col1\" class=\"data row0 col1\" >01 Nov 2021</td>\n",
       "    </tr>\n",
       "    <tr>\n",
       "      <td id=\"T_d3a0e_row1_col0\" class=\"data row1 col0\" >Number of Variables</td>\n",
       "      <td id=\"T_d3a0e_row1_col1\" class=\"data row1 col1\" >331</td>\n",
       "    </tr>\n",
       "    <tr>\n",
       "      <td id=\"T_d3a0e_row2_col0\" class=\"data row2 col0\" >Number of Observations</td>\n",
       "      <td id=\"T_d3a0e_row2_col1\" class=\"data row2 col1\" >13447</td>\n",
       "    </tr>\n",
       "    <tr>\n",
       "      <td id=\"T_d3a0e_row3_col0\" class=\"data row3 col0\" >DOI</td>\n",
       "      <td id=\"T_d3a0e_row3_col1\" class=\"data row3 col1\" > <a href=\"https://doi.org/10.71760/ukllc-dataset-00204-01\" rel=\"noopener noreferrer\" target=\"_blank\">10.71760/ukllc-dataset-00204-01</a></td>\n",
       "    </tr>\n",
       "    <tr>\n",
       "      <td id=\"T_d3a0e_row4_col0\" class=\"data row4 col0\" >Change Log</td>\n",
       "      <td id=\"T_d3a0e_row4_col1\" class=\"data row4 col1\" > <a href=\"https://api.test.datacite.org/dois/10.71760/ukllc-dataset-00204-01/activities\" rel=\"noopener noreferrer\" target=\"_blank\">10.71760/ukllc-dataset-00204-01/activities</a></td>\n",
       "    </tr>\n",
       "  </tbody>\n",
       "</table>\n"
      ],
      "text/plain": [
       "<pandas.io.formats.style.Styler at 0x251f38dfbf0>"
      ]
     },
     "execution_count": 4,
     "metadata": {},
     "output_type": "execute_result"
    }
   ],
   "source": [
    "ds.version_history()"
   ]
  },
  {
   "cell_type": "markdown",
   "id": "8bbf0a63",
   "metadata": {},
   "source": [
    "## 3. Documentation"
   ]
  },
  {
   "cell_type": "code",
   "execution_count": 5,
   "id": "243df9e5",
   "metadata": {
    "execution": {
     "iopub.execute_input": "2025-07-28T19:32:23.713566Z",
     "iopub.status.busy": "2025-07-28T19:32:23.709606Z",
     "iopub.status.idle": "2025-07-28T19:32:23.742488Z",
     "shell.execute_reply": "2025-07-28T19:32:23.737324Z"
    },
    "tags": [
     "remove-input"
    ]
   },
   "outputs": [
    {
     "data": {
      "text/markdown": [
       "We are currently building a documentation storage system which will host useful documents related to datasets and data owners. We will surface these documents on Guidebook."
      ],
      "text/plain": [
       "<IPython.core.display.Markdown object>"
      ]
     },
     "metadata": {},
     "output_type": "display_data"
    }
   ],
   "source": [
    "ds.documentation()"
   ]
  },
  {
   "cell_type": "markdown",
   "id": "373a6c7d",
   "metadata": {},
   "source": [
    "## 4. Useful Syntax"
   ]
  },
  {
   "cell_type": "code",
   "execution_count": 6,
   "id": "f8e2a01d",
   "metadata": {
    "execution": {
     "iopub.execute_input": "2025-07-28T19:32:23.754996Z",
     "iopub.status.busy": "2025-07-28T19:32:23.752975Z",
     "iopub.status.idle": "2025-07-28T19:32:23.765491Z",
     "shell.execute_reply": "2025-07-28T19:32:23.763971Z"
    },
    "tags": [
     "remove-input"
    ]
   },
   "outputs": [
    {
     "data": {
      "text/markdown": [
       "Below we will include syntax that may be helpful to other researchers in the UK LLC TRE. For longer scripts, we will include a snippet of the code plus a link to Git where you can find the full scripts."
      ],
      "text/plain": [
       "<IPython.core.display.Markdown object>"
      ]
     },
     "metadata": {},
     "output_type": "display_data"
    }
   ],
   "source": [
    "ds.useful_syntax()"
   ]
  }
 ],
 "metadata": {
  "language_info": {
   "codemirror_mode": {
    "name": "ipython",
    "version": 3
   },
   "file_extension": ".py",
   "mimetype": "text/x-python",
   "name": "python",
   "nbconvert_exporter": "python",
   "pygments_lexer": "ipython3",
   "version": "3.12.7"
  }
 },
 "nbformat": 4,
 "nbformat_minor": 5
}
