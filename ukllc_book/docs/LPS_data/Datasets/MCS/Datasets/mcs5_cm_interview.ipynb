{
 "cells": [
  {
   "cell_type": "markdown",
   "id": "07cc1c7b",
   "metadata": {},
   "source": [
    "# MCS5 Cohort Member Interview (MCS)"
   ]
  },
  {
   "cell_type": "code",
   "execution_count": 1,
   "id": "6020165c",
   "metadata": {
    "execution": {
     "iopub.execute_input": "2025-07-18T09:57:00.749817Z",
     "iopub.status.busy": "2025-07-18T09:57:00.749817Z",
     "iopub.status.idle": "2025-07-18T09:57:07.658381Z",
     "shell.execute_reply": "2025-07-18T09:57:07.658381Z"
    },
    "tags": [
     "remove-input"
    ]
   },
   "outputs": [
    {
     "data": {
      "text/markdown": [
       ">Last modified: 18 Jul 2025"
      ],
      "text/plain": [
       "<IPython.core.display.Markdown object>"
      ]
     },
     "metadata": {},
     "output_type": "display_data"
    }
   ],
   "source": [
    "\n",
    "import sys\n",
    "import os\n",
    "sys.path.append(os.path.abspath('../../../../scripts/'))\n",
    "from data_doc_helper import LPSDataSet as DS, last_modified\n",
    "API_KEY = os.environ['FASTAPI_KEY']\n",
    "ds = DS(\"MCS\", \"mcs5_cm_interview\")\n",
    "last_modified()\n"
   ]
  },
  {
   "cell_type": "markdown",
   "id": "fd7b320c",
   "metadata": {},
   "source": [
    "## 1. Summary"
   ]
  },
  {
   "cell_type": "code",
   "execution_count": 2,
   "id": "5794b1df",
   "metadata": {
    "execution": {
     "iopub.execute_input": "2025-07-18T09:57:07.665099Z",
     "iopub.status.busy": "2025-07-18T09:57:07.665099Z",
     "iopub.status.idle": "2025-07-18T09:57:07.675644Z",
     "shell.execute_reply": "2025-07-18T09:57:07.674634Z"
    },
    "tags": [
     "remove-input"
    ]
   },
   "outputs": [
    {
     "data": {
      "text/markdown": [
       "Responses to the parent SDQ questions about each cohort child appear in this dataset. There are also responses from the parent about the cohort member's physical development (puberty signs). This dataset also contains the physical measurement variables relating to the cohort member. This includes height, weight, bodyfat and BMI, along with circumstances applicable to the measurements as observed by the interviewer. Answers to the child self completion questionnaire also appear in this dataset."
      ],
      "text/plain": [
       "<IPython.core.display.Markdown object>"
      ]
     },
     "metadata": {},
     "output_type": "display_data"
    }
   ],
   "source": [
    "ds.summary()"
   ]
  },
  {
   "cell_type": "code",
   "execution_count": 3,
   "id": "122d5d82",
   "metadata": {
    "execution": {
     "iopub.execute_input": "2025-07-18T09:57:07.679640Z",
     "iopub.status.busy": "2025-07-18T09:57:07.679640Z",
     "iopub.status.idle": "2025-07-18T09:57:08.741906Z",
     "shell.execute_reply": "2025-07-18T09:57:08.741252Z"
    },
    "tags": [
     "remove-input"
    ]
   },
   "outputs": [
    {
     "data": {
      "text/html": [
       "<style type=\"text/css\">\n",
       "#T_1a43f th {\n",
       "  text-align: left;\n",
       "}\n",
       "#T_1a43f_row0_col0, #T_1a43f_row0_col1, #T_1a43f_row1_col0, #T_1a43f_row1_col1, #T_1a43f_row2_col0, #T_1a43f_row2_col1, #T_1a43f_row3_col0, #T_1a43f_row3_col1, #T_1a43f_row4_col0, #T_1a43f_row4_col1, #T_1a43f_row5_col0, #T_1a43f_row5_col1, #T_1a43f_row6_col0, #T_1a43f_row6_col1, #T_1a43f_row7_col0, #T_1a43f_row7_col1, #T_1a43f_row8_col0, #T_1a43f_row8_col1, #T_1a43f_row9_col0, #T_1a43f_row9_col1, #T_1a43f_row10_col0, #T_1a43f_row10_col1, #T_1a43f_row11_col0, #T_1a43f_row11_col1, #T_1a43f_row12_col0, #T_1a43f_row12_col1 {\n",
       "  text-align: left;\n",
       "}\n",
       "</style>\n",
       "<table id=\"T_1a43f\" style=\"font-size: 14px\">\n",
       "  <thead>\n",
       "    <tr>\n",
       "      <th id=\"T_1a43f_level0_col0\" class=\"col_heading level0 col0\" >Dataset Descriptor</th>\n",
       "      <th id=\"T_1a43f_level0_col1\" class=\"col_heading level0 col1\" >Dataset-specific Information</th>\n",
       "    </tr>\n",
       "  </thead>\n",
       "  <tbody>\n",
       "    <tr>\n",
       "      <td id=\"T_1a43f_row0_col0\" class=\"data row0 col0\" >Name of Dataset in TRE</td>\n",
       "      <td id=\"T_1a43f_row0_col1\" class=\"data row0 col1\" >MCS_mcs5_cm_interview</td>\n",
       "    </tr>\n",
       "    <tr>\n",
       "      <td id=\"T_1a43f_row1_col0\" class=\"data row1 col0\" >Citation (APA)</td>\n",
       "      <td id=\"T_1a43f_row1_col1\" class=\"data row1 col1\" >University College London, UCL Social Research Institute, Centre for Longitudinal Studies. (2021). <i>Millennium Cohort Study (MCS): MCS5 Cohort Member Interview.</i> UK Longitudinal Linkage Collaboration (UK LLC).  <a href=\"https://doi.org/10.83126/ukllc-dataset-00283-01\" rel=\"noopener noreferrer\" target=\"_blank\">https://doi.org/10.83126/ukllc-dataset-00283-01</a></td>\n",
       "    </tr>\n",
       "    <tr>\n",
       "      <td id=\"T_1a43f_row2_col0\" class=\"data row2 col0\" >Download Citation</td>\n",
       "      <td id=\"T_1a43f_row2_col1\" class=\"data row2 col1\" > <a href=\"https://api.test.datacite.org/application/vnd.citationstyles.csl+json/10.83126/ukllc-dataset-00283-01\" rel=\"noopener noreferrer\" target=\"_blank\">Citeproc JSON</a>&nbsp;&nbsp;&nbsp;&nbsp; <a href=\"https://api.test.datacite.org/application/x-bibtex/10.83126/ukllc-dataset-00283-01\" rel=\"noopener noreferrer\" target=\"_blank\">BibTeX</a>&nbsp;&nbsp;&nbsp;&nbsp; <a href=\"https://api.test.datacite.org/application/x-research-info-systems/10.83126/ukllc-dataset-00283-01\" rel=\"noopener noreferrer\" target=\"_blank\">RIS</a></td>\n",
       "    </tr>\n",
       "    <tr>\n",
       "      <td id=\"T_1a43f_row3_col0\" class=\"data row3 col0\" >Series</td>\n",
       "      <td id=\"T_1a43f_row3_col1\" class=\"data row3 col1\" > <a href=\"https://guidebook.ukllc.ac.uk/docs/lps/lps%20profiles/MCS\">Millennium Cohort Study (MCS)</a></td>\n",
       "    </tr>\n",
       "    <tr>\n",
       "      <td id=\"T_1a43f_row4_col0\" class=\"data row4 col0\" >Owner</td>\n",
       "      <td id=\"T_1a43f_row4_col1\" class=\"data row4 col1\" >UCL</td>\n",
       "    </tr>\n",
       "    <tr>\n",
       "      <td id=\"T_1a43f_row5_col0\" class=\"data row5 col0\" >Temporal Coverage</td>\n",
       "      <td id=\"T_1a43f_row5_col1\" class=\"data row5 col1\" >01/2012 - 02/2013</td>\n",
       "    </tr>\n",
       "    <tr>\n",
       "      <td id=\"T_1a43f_row6_col0\" class=\"data row6 col0\" >Keywords</td>\n",
       "      <td id=\"T_1a43f_row6_col1\" class=\"data row6 col1\" >Health,Education,Family life,Employment,Attitudes</td>\n",
       "    </tr>\n",
       "    <tr>\n",
       "      <td id=\"T_1a43f_row7_col0\" class=\"data row7 col0\" >Participants Invited</td>\n",
       "      <td id=\"T_1a43f_row7_col1\" class=\"data row7 col1\" >13287</td>\n",
       "    </tr>\n",
       "    <tr>\n",
       "      <td id=\"T_1a43f_row8_col0\" class=\"data row8 col0\" >Participant Count</td>\n",
       "      <td id=\"T_1a43f_row8_col1\" class=\"data row8 col1\" >9149</td>\n",
       "    </tr>\n",
       "    <tr>\n",
       "      <td id=\"T_1a43f_row9_col0\" class=\"data row9 col0\" >Number of variables</td>\n",
       "      <td id=\"T_1a43f_row9_col1\" class=\"data row9 col1\" >331</td>\n",
       "    </tr>\n",
       "    <tr>\n",
       "      <td id=\"T_1a43f_row10_col0\" class=\"data row10 col0\" >Number of observations</td>\n",
       "      <td id=\"T_1a43f_row10_col1\" class=\"data row10 col1\" >13447</td>\n",
       "    </tr>\n",
       "    <tr>\n",
       "      <td id=\"T_1a43f_row11_col0\" class=\"data row11 col0\" >Specific Restrictions to Data Use</td>\n",
       "      <td id=\"T_1a43f_row11_col1\" class=\"data row11 col1\" >None</td>\n",
       "    </tr>\n",
       "    <tr>\n",
       "      <td id=\"T_1a43f_row12_col0\" class=\"data row12 col0\" >Build a Data Request</td>\n",
       "      <td id=\"T_1a43f_row12_col1\" class=\"data row12 col1\" > <a href=\"https://explore.ukllc.ac.uk/\" rel=\"noopener noreferrer\" target=\"_blank\">https://explore.ukllc.ac.uk/</a></td>\n",
       "    </tr>\n",
       "  </tbody>\n",
       "</table>\n"
      ],
      "text/plain": [
       "<pandas.io.formats.style.Styler at 0x2412e5df710>"
      ]
     },
     "execution_count": 3,
     "metadata": {},
     "output_type": "execute_result"
    }
   ],
   "source": [
    "ds.info_table()"
   ]
  },
  {
   "cell_type": "markdown",
   "id": "00c13335",
   "metadata": {},
   "source": [
    "## 2. Version History"
   ]
  },
  {
   "cell_type": "code",
   "execution_count": 4,
   "id": "6de68acc",
   "metadata": {
    "execution": {
     "iopub.execute_input": "2025-07-18T09:57:08.745927Z",
     "iopub.status.busy": "2025-07-18T09:57:08.745927Z",
     "iopub.status.idle": "2025-07-18T09:57:10.990226Z",
     "shell.execute_reply": "2025-07-18T09:57:10.989217Z"
    },
    "tags": [
     "remove-input"
    ]
   },
   "outputs": [
    {
     "data": {
      "text/html": [
       "<style type=\"text/css\">\n",
       "#T_38f93 th {\n",
       "  text-align: left;\n",
       "}\n",
       "#T_38f93_row0_col0, #T_38f93_row0_col1, #T_38f93_row1_col0, #T_38f93_row1_col1, #T_38f93_row2_col0, #T_38f93_row2_col1, #T_38f93_row3_col0, #T_38f93_row3_col1, #T_38f93_row4_col0, #T_38f93_row4_col1 {\n",
       "  text-align: left;\n",
       "}\n",
       "</style>\n",
       "<table id=\"T_38f93\" style=\"font-size: 14px\">\n",
       "  <thead>\n",
       "    <tr>\n",
       "      <th id=\"T_38f93_level0_col0\" class=\"col_heading level0 col0\" >Version</th>\n",
       "      <th id=\"T_38f93_level0_col1\" class=\"col_heading level0 col1\" >1</th>\n",
       "    </tr>\n",
       "  </thead>\n",
       "  <tbody>\n",
       "    <tr>\n",
       "      <td id=\"T_38f93_row0_col0\" class=\"data row0 col0\" >Version Date</td>\n",
       "      <td id=\"T_38f93_row0_col1\" class=\"data row0 col1\" >01 Nov 2021</td>\n",
       "    </tr>\n",
       "    <tr>\n",
       "      <td id=\"T_38f93_row1_col0\" class=\"data row1 col0\" >Number of Variables</td>\n",
       "      <td id=\"T_38f93_row1_col1\" class=\"data row1 col1\" >331</td>\n",
       "    </tr>\n",
       "    <tr>\n",
       "      <td id=\"T_38f93_row2_col0\" class=\"data row2 col0\" >Number of Observations</td>\n",
       "      <td id=\"T_38f93_row2_col1\" class=\"data row2 col1\" >13447</td>\n",
       "    </tr>\n",
       "    <tr>\n",
       "      <td id=\"T_38f93_row3_col0\" class=\"data row3 col0\" >DOI</td>\n",
       "      <td id=\"T_38f93_row3_col1\" class=\"data row3 col1\" > <a href=\"https://doi.org/10.83126/ukllc-dataset-00283-01\" rel=\"noopener noreferrer\" target=\"_blank\">10.83126/ukllc-dataset-00283-01</a></td>\n",
       "    </tr>\n",
       "    <tr>\n",
       "      <td id=\"T_38f93_row4_col0\" class=\"data row4 col0\" >Change Log</td>\n",
       "      <td id=\"T_38f93_row4_col1\" class=\"data row4 col1\" > <a href=\"https://api.test.datacite.org/dois/10.83126/ukllc-dataset-00283-01/activities\" rel=\"noopener noreferrer\" target=\"_blank\">10.83126/ukllc-dataset-00283-01/activities</a></td>\n",
       "    </tr>\n",
       "  </tbody>\n",
       "</table>\n"
      ],
      "text/plain": [
       "<pandas.io.formats.style.Styler at 0x2413429eed0>"
      ]
     },
     "execution_count": 4,
     "metadata": {},
     "output_type": "execute_result"
    }
   ],
   "source": [
    "ds.version_history()"
   ]
  },
  {
   "cell_type": "markdown",
   "id": "8bbf0a63",
   "metadata": {},
   "source": [
    "## 3. Documentation"
   ]
  },
  {
   "cell_type": "code",
   "execution_count": 5,
   "id": "243df9e5",
   "metadata": {
    "execution": {
     "iopub.execute_input": "2025-07-18T09:57:10.996224Z",
     "iopub.status.busy": "2025-07-18T09:57:10.996224Z",
     "iopub.status.idle": "2025-07-18T09:57:11.002612Z",
     "shell.execute_reply": "2025-07-18T09:57:11.001603Z"
    },
    "tags": [
     "remove-input"
    ]
   },
   "outputs": [
    {
     "data": {
      "text/markdown": [
       "We are currently building a documentation storage system which will host useful documents related to datasets and data owners. We will surface these documents on Guidebook."
      ],
      "text/plain": [
       "<IPython.core.display.Markdown object>"
      ]
     },
     "metadata": {},
     "output_type": "display_data"
    }
   ],
   "source": [
    "ds.documentation()"
   ]
  },
  {
   "cell_type": "markdown",
   "id": "373a6c7d",
   "metadata": {},
   "source": [
    "## 4. Useful Syntax"
   ]
  },
  {
   "cell_type": "code",
   "execution_count": 6,
   "id": "f8e2a01d",
   "metadata": {
    "execution": {
     "iopub.execute_input": "2025-07-18T09:57:11.008611Z",
     "iopub.status.busy": "2025-07-18T09:57:11.007610Z",
     "iopub.status.idle": "2025-07-18T09:57:11.018351Z",
     "shell.execute_reply": "2025-07-18T09:57:11.016340Z"
    },
    "tags": [
     "remove-input"
    ]
   },
   "outputs": [
    {
     "data": {
      "text/markdown": [
       "Below we will include syntax that may be helpful to other researchers in the UK LLC TRE. For longer scripts, we will include a snippet of the code plus a link to Git where you can find the full scripts."
      ],
      "text/plain": [
       "<IPython.core.display.Markdown object>"
      ]
     },
     "metadata": {},
     "output_type": "display_data"
    }
   ],
   "source": [
    "ds.useful_syntax()"
   ]
  }
 ],
 "metadata": {
  "language_info": {
   "codemirror_mode": {
    "name": "ipython",
    "version": 3
   },
   "file_extension": ".py",
   "mimetype": "text/x-python",
   "name": "python",
   "nbconvert_exporter": "python",
   "pygments_lexer": "ipython3",
   "version": "3.12.7"
  }
 },
 "nbformat": 4,
 "nbformat_minor": 5
}
