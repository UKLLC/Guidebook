{
 "cells": [
  {
   "cell_type": "markdown",
   "id": "c5176a56",
   "metadata": {},
   "source": [
    "# COVID-19 Survey Wave 2 - MCS Cohort Members (MCS)"
   ]
  },
  {
   "cell_type": "code",
   "execution_count": 1,
   "id": "42528803",
   "metadata": {
    "execution": {
     "iopub.execute_input": "2025-07-18T09:45:23.211614Z",
     "iopub.status.busy": "2025-07-18T09:45:23.210614Z",
     "iopub.status.idle": "2025-07-18T09:45:30.823929Z",
     "shell.execute_reply": "2025-07-18T09:45:30.823929Z"
    },
    "tags": [
     "remove-input"
    ]
   },
   "outputs": [
    {
     "data": {
      "text/markdown": [
       ">Last modified: 18 Jul 2025"
      ],
      "text/plain": [
       "<IPython.core.display.Markdown object>"
      ]
     },
     "metadata": {},
     "output_type": "display_data"
    }
   ],
   "source": [
    "\n",
    "import sys\n",
    "import os\n",
    "sys.path.append(os.path.abspath('../../../../scripts/'))\n",
    "from data_doc_helper import LPSDataSet as DS, last_modified\n",
    "API_KEY = os.environ['FASTAPI_KEY']\n",
    "ds = DS(\"MCS\", \"COVID_CM_w2\")\n",
    "last_modified()\n"
   ]
  },
  {
   "cell_type": "markdown",
   "id": "9a3f10de",
   "metadata": {},
   "source": [
    "## 1. Summary"
   ]
  },
  {
   "cell_type": "code",
   "execution_count": 2,
   "id": "01665ccd",
   "metadata": {
    "execution": {
     "iopub.execute_input": "2025-07-18T09:45:30.832236Z",
     "iopub.status.busy": "2025-07-18T09:45:30.831237Z",
     "iopub.status.idle": "2025-07-18T09:45:30.843207Z",
     "shell.execute_reply": "2025-07-18T09:45:30.841201Z"
    },
    "tags": [
     "remove-input"
    ]
   },
   "outputs": [
    {
     "data": {
      "text/markdown": [
       "An online questionnaire sent to all participants. Questions cover topics of wellbeing during the first wave of the pandemic, including the impact of COVID on participants’ mental health, work and family life. This dataset, as well as building on the sample of respondents from wave 1, covered additional questions about the impact of the pandemic on healthcare, schooling, finance, and life events"
      ],
      "text/plain": [
       "<IPython.core.display.Markdown object>"
      ]
     },
     "metadata": {},
     "output_type": "display_data"
    }
   ],
   "source": [
    "ds.summary()"
   ]
  },
  {
   "cell_type": "code",
   "execution_count": 3,
   "id": "0b8575ac",
   "metadata": {
    "execution": {
     "iopub.execute_input": "2025-07-18T09:45:30.850208Z",
     "iopub.status.busy": "2025-07-18T09:45:30.849208Z",
     "iopub.status.idle": "2025-07-18T09:45:32.328104Z",
     "shell.execute_reply": "2025-07-18T09:45:32.325098Z"
    },
    "tags": [
     "remove-input"
    ]
   },
   "outputs": [
    {
     "data": {
      "text/html": [
       "<style type=\"text/css\">\n",
       "#T_241dd th {\n",
       "  text-align: left;\n",
       "}\n",
       "#T_241dd_row0_col0, #T_241dd_row0_col1, #T_241dd_row1_col0, #T_241dd_row1_col1, #T_241dd_row2_col0, #T_241dd_row2_col1, #T_241dd_row3_col0, #T_241dd_row3_col1, #T_241dd_row4_col0, #T_241dd_row4_col1, #T_241dd_row5_col0, #T_241dd_row5_col1, #T_241dd_row6_col0, #T_241dd_row6_col1, #T_241dd_row7_col0, #T_241dd_row7_col1, #T_241dd_row8_col0, #T_241dd_row8_col1, #T_241dd_row9_col0, #T_241dd_row9_col1, #T_241dd_row10_col0, #T_241dd_row10_col1, #T_241dd_row11_col0, #T_241dd_row11_col1, #T_241dd_row12_col0, #T_241dd_row12_col1 {\n",
       "  text-align: left;\n",
       "}\n",
       "</style>\n",
       "<table id=\"T_241dd\" style=\"font-size: 14px\">\n",
       "  <thead>\n",
       "    <tr>\n",
       "      <th id=\"T_241dd_level0_col0\" class=\"col_heading level0 col0\" >Dataset Descriptor</th>\n",
       "      <th id=\"T_241dd_level0_col1\" class=\"col_heading level0 col1\" >Dataset-specific Information</th>\n",
       "    </tr>\n",
       "  </thead>\n",
       "  <tbody>\n",
       "    <tr>\n",
       "      <td id=\"T_241dd_row0_col0\" class=\"data row0 col0\" >Name of Dataset in TRE</td>\n",
       "      <td id=\"T_241dd_row0_col1\" class=\"data row0 col1\" >MCS_COVID_CM_w2</td>\n",
       "    </tr>\n",
       "    <tr>\n",
       "      <td id=\"T_241dd_row1_col0\" class=\"data row1 col0\" >Citation (APA)</td>\n",
       "      <td id=\"T_241dd_row1_col1\" class=\"data row1 col1\" >University College London, UCL Social Research Institute, Centre for Longitudinal Studies. (2021). <i>Millennium Cohort Study (MCS): COVID-19 Survey Wave 2 - MCS Cohort Members.</i> UK Longitudinal Linkage Collaboration (UK LLC).  <a href=\"https://doi.org/10.83126/ukllc-dataset-00229-01\" rel=\"noopener noreferrer\" target=\"_blank\">https://doi.org/10.83126/ukllc-dataset-00229-01</a></td>\n",
       "    </tr>\n",
       "    <tr>\n",
       "      <td id=\"T_241dd_row2_col0\" class=\"data row2 col0\" >Download Citation</td>\n",
       "      <td id=\"T_241dd_row2_col1\" class=\"data row2 col1\" > <a href=\"https://api.test.datacite.org/application/vnd.citationstyles.csl+json/10.83126/ukllc-dataset-00229-01\" rel=\"noopener noreferrer\" target=\"_blank\">Citeproc JSON</a>&nbsp;&nbsp;&nbsp;&nbsp; <a href=\"https://api.test.datacite.org/application/x-bibtex/10.83126/ukllc-dataset-00229-01\" rel=\"noopener noreferrer\" target=\"_blank\">BibTeX</a>&nbsp;&nbsp;&nbsp;&nbsp; <a href=\"https://api.test.datacite.org/application/x-research-info-systems/10.83126/ukllc-dataset-00229-01\" rel=\"noopener noreferrer\" target=\"_blank\">RIS</a></td>\n",
       "    </tr>\n",
       "    <tr>\n",
       "      <td id=\"T_241dd_row3_col0\" class=\"data row3 col0\" >Series</td>\n",
       "      <td id=\"T_241dd_row3_col1\" class=\"data row3 col1\" > <a href=\"https://guidebook.ukllc.ac.uk/docs/lps/lps%20profiles/MCS\">Millennium Cohort Study (MCS)</a></td>\n",
       "    </tr>\n",
       "    <tr>\n",
       "      <td id=\"T_241dd_row4_col0\" class=\"data row4 col0\" >Owner</td>\n",
       "      <td id=\"T_241dd_row4_col1\" class=\"data row4 col1\" >UCL</td>\n",
       "    </tr>\n",
       "    <tr>\n",
       "      <td id=\"T_241dd_row5_col0\" class=\"data row5 col0\" >Temporal Coverage</td>\n",
       "      <td id=\"T_241dd_row5_col1\" class=\"data row5 col1\" >09/2020 - 10/2020</td>\n",
       "    </tr>\n",
       "    <tr>\n",
       "      <td id=\"T_241dd_row6_col0\" class=\"data row6 col0\" >Keywords</td>\n",
       "      <td id=\"T_241dd_row6_col1\" class=\"data row6 col1\" >COVIDW2,Education,Employment,Income,Household,Mental Health</td>\n",
       "    </tr>\n",
       "    <tr>\n",
       "      <td id=\"T_241dd_row7_col0\" class=\"data row7 col0\" >Participants Invited</td>\n",
       "      <td id=\"T_241dd_row7_col1\" class=\"data row7 col1\" >3266</td>\n",
       "    </tr>\n",
       "    <tr>\n",
       "      <td id=\"T_241dd_row8_col0\" class=\"data row8 col0\" >Participant Count</td>\n",
       "      <td id=\"T_241dd_row8_col1\" class=\"data row8 col1\" >3107</td>\n",
       "    </tr>\n",
       "    <tr>\n",
       "      <td id=\"T_241dd_row9_col0\" class=\"data row9 col0\" >Number of variables</td>\n",
       "      <td id=\"T_241dd_row9_col1\" class=\"data row9 col1\" >781</td>\n",
       "    </tr>\n",
       "    <tr>\n",
       "      <td id=\"T_241dd_row10_col0\" class=\"data row10 col0\" >Number of observations</td>\n",
       "      <td id=\"T_241dd_row10_col1\" class=\"data row10 col1\" >3266</td>\n",
       "    </tr>\n",
       "    <tr>\n",
       "      <td id=\"T_241dd_row11_col0\" class=\"data row11 col0\" >Specific Restrictions to Data Use</td>\n",
       "      <td id=\"T_241dd_row11_col1\" class=\"data row11 col1\" >None</td>\n",
       "    </tr>\n",
       "    <tr>\n",
       "      <td id=\"T_241dd_row12_col0\" class=\"data row12 col0\" >Build a Data Request</td>\n",
       "      <td id=\"T_241dd_row12_col1\" class=\"data row12 col1\" > <a href=\"https://explore.ukllc.ac.uk/\" rel=\"noopener noreferrer\" target=\"_blank\">https://explore.ukllc.ac.uk/</a></td>\n",
       "    </tr>\n",
       "  </tbody>\n",
       "</table>\n"
      ],
      "text/plain": [
       "<pandas.io.formats.style.Styler at 0x1f409b2d6d0>"
      ]
     },
     "execution_count": 3,
     "metadata": {},
     "output_type": "execute_result"
    }
   ],
   "source": [
    "ds.info_table()"
   ]
  },
  {
   "cell_type": "markdown",
   "id": "15c616f6",
   "metadata": {},
   "source": [
    "## 2. Version History"
   ]
  },
  {
   "cell_type": "code",
   "execution_count": 4,
   "id": "75d85b88",
   "metadata": {
    "execution": {
     "iopub.execute_input": "2025-07-18T09:45:32.335104Z",
     "iopub.status.busy": "2025-07-18T09:45:32.334104Z",
     "iopub.status.idle": "2025-07-18T09:45:41.817085Z",
     "shell.execute_reply": "2025-07-18T09:45:41.814834Z"
    },
    "tags": [
     "remove-input"
    ]
   },
   "outputs": [
    {
     "data": {
      "text/html": [
       "<style type=\"text/css\">\n",
       "#T_17dce th {\n",
       "  text-align: left;\n",
       "}\n",
       "#T_17dce_row0_col0, #T_17dce_row0_col1, #T_17dce_row1_col0, #T_17dce_row1_col1, #T_17dce_row2_col0, #T_17dce_row2_col1, #T_17dce_row3_col0, #T_17dce_row3_col1, #T_17dce_row4_col0, #T_17dce_row4_col1 {\n",
       "  text-align: left;\n",
       "}\n",
       "</style>\n",
       "<table id=\"T_17dce\" style=\"font-size: 14px\">\n",
       "  <thead>\n",
       "    <tr>\n",
       "      <th id=\"T_17dce_level0_col0\" class=\"col_heading level0 col0\" >Version</th>\n",
       "      <th id=\"T_17dce_level0_col1\" class=\"col_heading level0 col1\" >1</th>\n",
       "    </tr>\n",
       "  </thead>\n",
       "  <tbody>\n",
       "    <tr>\n",
       "      <td id=\"T_17dce_row0_col0\" class=\"data row0 col0\" >Version Date</td>\n",
       "      <td id=\"T_17dce_row0_col1\" class=\"data row0 col1\" >01 Nov 2021</td>\n",
       "    </tr>\n",
       "    <tr>\n",
       "      <td id=\"T_17dce_row1_col0\" class=\"data row1 col0\" >Number of Variables</td>\n",
       "      <td id=\"T_17dce_row1_col1\" class=\"data row1 col1\" >781</td>\n",
       "    </tr>\n",
       "    <tr>\n",
       "      <td id=\"T_17dce_row2_col0\" class=\"data row2 col0\" >Number of Observations</td>\n",
       "      <td id=\"T_17dce_row2_col1\" class=\"data row2 col1\" >3266</td>\n",
       "    </tr>\n",
       "    <tr>\n",
       "      <td id=\"T_17dce_row3_col0\" class=\"data row3 col0\" >DOI</td>\n",
       "      <td id=\"T_17dce_row3_col1\" class=\"data row3 col1\" > <a href=\"https://doi.org/10.83126/ukllc-dataset-00229-01\" rel=\"noopener noreferrer\" target=\"_blank\">10.83126/ukllc-dataset-00229-01</a></td>\n",
       "    </tr>\n",
       "    <tr>\n",
       "      <td id=\"T_17dce_row4_col0\" class=\"data row4 col0\" >Change Log</td>\n",
       "      <td id=\"T_17dce_row4_col1\" class=\"data row4 col1\" > <a href=\"https://api.test.datacite.org/dois/10.83126/ukllc-dataset-00229-01/activities\" rel=\"noopener noreferrer\" target=\"_blank\">10.83126/ukllc-dataset-00229-01/activities</a></td>\n",
       "    </tr>\n",
       "  </tbody>\n",
       "</table>\n"
      ],
      "text/plain": [
       "<pandas.io.formats.style.Styler at 0x1f40aea01a0>"
      ]
     },
     "execution_count": 4,
     "metadata": {},
     "output_type": "execute_result"
    }
   ],
   "source": [
    "ds.version_history()"
   ]
  },
  {
   "cell_type": "markdown",
   "id": "e0ddfeda",
   "metadata": {},
   "source": [
    "## 3. Documentation"
   ]
  },
  {
   "cell_type": "code",
   "execution_count": 5,
   "id": "895c8c10",
   "metadata": {
    "execution": {
     "iopub.execute_input": "2025-07-18T09:45:41.824087Z",
     "iopub.status.busy": "2025-07-18T09:45:41.823087Z",
     "iopub.status.idle": "2025-07-18T09:45:41.834737Z",
     "shell.execute_reply": "2025-07-18T09:45:41.833018Z"
    },
    "tags": [
     "remove-input"
    ]
   },
   "outputs": [
    {
     "data": {
      "text/markdown": [
       "We are currently building a documentation storage system which will host useful documents related to datasets and data owners. We will surface these documents on Guidebook."
      ],
      "text/plain": [
       "<IPython.core.display.Markdown object>"
      ]
     },
     "metadata": {},
     "output_type": "display_data"
    }
   ],
   "source": [
    "ds.documentation()"
   ]
  },
  {
   "cell_type": "markdown",
   "id": "6afd902d",
   "metadata": {},
   "source": [
    "## 4. Useful Syntax"
   ]
  },
  {
   "cell_type": "code",
   "execution_count": 6,
   "id": "ee9e47aa",
   "metadata": {
    "execution": {
     "iopub.execute_input": "2025-07-18T09:45:41.840759Z",
     "iopub.status.busy": "2025-07-18T09:45:41.840759Z",
     "iopub.status.idle": "2025-07-18T09:45:41.849875Z",
     "shell.execute_reply": "2025-07-18T09:45:41.848868Z"
    },
    "tags": [
     "remove-input"
    ]
   },
   "outputs": [
    {
     "data": {
      "text/markdown": [
       "Below we will include syntax that may be helpful to other researchers in the UK LLC TRE. For longer scripts, we will include a snippet of the code plus a link to Git where you can find the full scripts."
      ],
      "text/plain": [
       "<IPython.core.display.Markdown object>"
      ]
     },
     "metadata": {},
     "output_type": "display_data"
    }
   ],
   "source": [
    "ds.useful_syntax()"
   ]
  }
 ],
 "metadata": {
  "language_info": {
   "codemirror_mode": {
    "name": "ipython",
    "version": 3
   },
   "file_extension": ".py",
   "mimetype": "text/x-python",
   "name": "python",
   "nbconvert_exporter": "python",
   "pygments_lexer": "ipython3",
   "version": "3.12.7"
  }
 },
 "nbformat": 4,
 "nbformat_minor": 5
}
