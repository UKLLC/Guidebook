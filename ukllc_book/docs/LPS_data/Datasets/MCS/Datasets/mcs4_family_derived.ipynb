{
 "cells": [
  {
   "cell_type": "markdown",
   "id": "02a80334",
   "metadata": {},
   "source": [
    "# MCS4 Family Derived (MCS)"
   ]
  },
  {
   "cell_type": "code",
   "execution_count": 1,
   "id": "e16240e9",
   "metadata": {
    "execution": {
     "iopub.execute_input": "2025-07-18T09:55:00.940318Z",
     "iopub.status.busy": "2025-07-18T09:55:00.940318Z",
     "iopub.status.idle": "2025-07-18T09:55:08.090581Z",
     "shell.execute_reply": "2025-07-18T09:55:08.088577Z"
    },
    "tags": [
     "remove-input"
    ]
   },
   "outputs": [
    {
     "data": {
      "text/markdown": [
       ">Last modified: 18 Jul 2025"
      ],
      "text/plain": [
       "<IPython.core.display.Markdown object>"
      ]
     },
     "metadata": {},
     "output_type": "display_data"
    }
   ],
   "source": [
    "\n",
    "import sys\n",
    "import os\n",
    "sys.path.append(os.path.abspath('../../../../scripts/'))\n",
    "from data_doc_helper import LPSDataSet as DS, last_modified\n",
    "API_KEY = os.environ['FASTAPI_KEY']\n",
    "ds = DS(\"MCS\", \"mcs4_family_derived\")\n",
    "last_modified()\n"
   ]
  },
  {
   "cell_type": "markdown",
   "id": "447df5c8",
   "metadata": {},
   "source": [
    "## 1. Summary"
   ]
  },
  {
   "cell_type": "code",
   "execution_count": 2,
   "id": "a8b6cf28",
   "metadata": {
    "execution": {
     "iopub.execute_input": "2025-07-18T09:55:08.097581Z",
     "iopub.status.busy": "2025-07-18T09:55:08.096581Z",
     "iopub.status.idle": "2025-07-18T09:55:08.107702Z",
     "shell.execute_reply": "2025-07-18T09:55:08.106583Z"
    },
    "tags": [
     "remove-input"
    ]
   },
   "outputs": [
    {
     "data": {
      "text/markdown": [
       "This dataset contains variables relating to household composition, banded household income, OECD Equivalised income, housing tenure and other family level information at sweep 4"
      ],
      "text/plain": [
       "<IPython.core.display.Markdown object>"
      ]
     },
     "metadata": {},
     "output_type": "display_data"
    }
   ],
   "source": [
    "ds.summary()"
   ]
  },
  {
   "cell_type": "code",
   "execution_count": 3,
   "id": "9814e087",
   "metadata": {
    "execution": {
     "iopub.execute_input": "2025-07-18T09:55:08.112698Z",
     "iopub.status.busy": "2025-07-18T09:55:08.112698Z",
     "iopub.status.idle": "2025-07-18T09:55:09.953887Z",
     "shell.execute_reply": "2025-07-18T09:55:09.951881Z"
    },
    "tags": [
     "remove-input"
    ]
   },
   "outputs": [
    {
     "data": {
      "text/html": [
       "<style type=\"text/css\">\n",
       "#T_f48ae th {\n",
       "  text-align: left;\n",
       "}\n",
       "#T_f48ae_row0_col0, #T_f48ae_row0_col1, #T_f48ae_row1_col0, #T_f48ae_row1_col1, #T_f48ae_row2_col0, #T_f48ae_row2_col1, #T_f48ae_row3_col0, #T_f48ae_row3_col1, #T_f48ae_row4_col0, #T_f48ae_row4_col1, #T_f48ae_row5_col0, #T_f48ae_row5_col1, #T_f48ae_row6_col0, #T_f48ae_row6_col1, #T_f48ae_row7_col0, #T_f48ae_row7_col1, #T_f48ae_row8_col0, #T_f48ae_row8_col1, #T_f48ae_row9_col0, #T_f48ae_row9_col1, #T_f48ae_row10_col0, #T_f48ae_row10_col1, #T_f48ae_row11_col0, #T_f48ae_row11_col1, #T_f48ae_row12_col0, #T_f48ae_row12_col1 {\n",
       "  text-align: left;\n",
       "}\n",
       "</style>\n",
       "<table id=\"T_f48ae\" style=\"font-size: 14px\">\n",
       "  <thead>\n",
       "    <tr>\n",
       "      <th id=\"T_f48ae_level0_col0\" class=\"col_heading level0 col0\" >Dataset Descriptor</th>\n",
       "      <th id=\"T_f48ae_level0_col1\" class=\"col_heading level0 col1\" >Dataset-specific Information</th>\n",
       "    </tr>\n",
       "  </thead>\n",
       "  <tbody>\n",
       "    <tr>\n",
       "      <td id=\"T_f48ae_row0_col0\" class=\"data row0 col0\" >Name of Dataset in TRE</td>\n",
       "      <td id=\"T_f48ae_row0_col1\" class=\"data row0 col1\" >MCS_mcs4_family_derived</td>\n",
       "    </tr>\n",
       "    <tr>\n",
       "      <td id=\"T_f48ae_row1_col0\" class=\"data row1 col0\" >Citation (APA)</td>\n",
       "      <td id=\"T_f48ae_row1_col1\" class=\"data row1 col1\" >University College London, UCL Social Research Institute, Centre for Longitudinal Studies. (2021). <i>Millennium Cohort Study (MCS): MCS4 Family Derived.</i> UK Longitudinal Linkage Collaboration (UK LLC).  <a href=\"https://doi.org/10.83126/ukllc-dataset-00275-01\" rel=\"noopener noreferrer\" target=\"_blank\">https://doi.org/10.83126/ukllc-dataset-00275-01</a></td>\n",
       "    </tr>\n",
       "    <tr>\n",
       "      <td id=\"T_f48ae_row2_col0\" class=\"data row2 col0\" >Download Citation</td>\n",
       "      <td id=\"T_f48ae_row2_col1\" class=\"data row2 col1\" > <a href=\"https://api.test.datacite.org/application/vnd.citationstyles.csl+json/10.83126/ukllc-dataset-00275-01\" rel=\"noopener noreferrer\" target=\"_blank\">Citeproc JSON</a>&nbsp;&nbsp;&nbsp;&nbsp; <a href=\"https://api.test.datacite.org/application/x-bibtex/10.83126/ukllc-dataset-00275-01\" rel=\"noopener noreferrer\" target=\"_blank\">BibTeX</a>&nbsp;&nbsp;&nbsp;&nbsp; <a href=\"https://api.test.datacite.org/application/x-research-info-systems/10.83126/ukllc-dataset-00275-01\" rel=\"noopener noreferrer\" target=\"_blank\">RIS</a></td>\n",
       "    </tr>\n",
       "    <tr>\n",
       "      <td id=\"T_f48ae_row3_col0\" class=\"data row3 col0\" >Series</td>\n",
       "      <td id=\"T_f48ae_row3_col1\" class=\"data row3 col1\" > <a href=\"https://guidebook.ukllc.ac.uk/docs/lps/lps%20profiles/MCS\">Millennium Cohort Study (MCS)</a></td>\n",
       "    </tr>\n",
       "    <tr>\n",
       "      <td id=\"T_f48ae_row4_col0\" class=\"data row4 col0\" >Owner</td>\n",
       "      <td id=\"T_f48ae_row4_col1\" class=\"data row4 col1\" >UCL</td>\n",
       "    </tr>\n",
       "    <tr>\n",
       "      <td id=\"T_f48ae_row5_col0\" class=\"data row5 col0\" >Temporal Coverage</td>\n",
       "      <td id=\"T_f48ae_row5_col1\" class=\"data row5 col1\" >01/2008 - 12/2008</td>\n",
       "    </tr>\n",
       "    <tr>\n",
       "      <td id=\"T_f48ae_row6_col0\" class=\"data row6 col0\" >Keywords</td>\n",
       "      <td id=\"T_f48ae_row6_col1\" class=\"data row6 col1\" >Family Life,Health,employment,attitudes,Social mobility</td>\n",
       "    </tr>\n",
       "    <tr>\n",
       "      <td id=\"T_f48ae_row7_col0\" class=\"data row7 col0\" >Participants Invited</td>\n",
       "      <td id=\"T_f48ae_row7_col1\" class=\"data row7 col1\" >13857</td>\n",
       "    </tr>\n",
       "    <tr>\n",
       "      <td id=\"T_f48ae_row8_col0\" class=\"data row8 col0\" >Participant Count</td>\n",
       "      <td id=\"T_f48ae_row8_col1\" class=\"data row8 col1\" ></td>\n",
       "    </tr>\n",
       "    <tr>\n",
       "      <td id=\"T_f48ae_row9_col0\" class=\"data row9 col0\" >Number of variables</td>\n",
       "      <td id=\"T_f48ae_row9_col1\" class=\"data row9 col1\" >50</td>\n",
       "    </tr>\n",
       "    <tr>\n",
       "      <td id=\"T_f48ae_row10_col0\" class=\"data row10 col0\" >Number of observations</td>\n",
       "      <td id=\"T_f48ae_row10_col1\" class=\"data row10 col1\" >42905</td>\n",
       "    </tr>\n",
       "    <tr>\n",
       "      <td id=\"T_f48ae_row11_col0\" class=\"data row11 col0\" >Specific Restrictions to Data Use</td>\n",
       "      <td id=\"T_f48ae_row11_col1\" class=\"data row11 col1\" >None</td>\n",
       "    </tr>\n",
       "    <tr>\n",
       "      <td id=\"T_f48ae_row12_col0\" class=\"data row12 col0\" >Build a Data Request</td>\n",
       "      <td id=\"T_f48ae_row12_col1\" class=\"data row12 col1\" > <a href=\"https://explore.ukllc.ac.uk/\" rel=\"noopener noreferrer\" target=\"_blank\">https://explore.ukllc.ac.uk/</a></td>\n",
       "    </tr>\n",
       "  </tbody>\n",
       "</table>\n"
      ],
      "text/plain": [
       "<pandas.io.formats.style.Styler at 0x20773c3ab40>"
      ]
     },
     "execution_count": 3,
     "metadata": {},
     "output_type": "execute_result"
    }
   ],
   "source": [
    "ds.info_table()"
   ]
  },
  {
   "cell_type": "markdown",
   "id": "12ad12d5",
   "metadata": {},
   "source": [
    "## 2. Version History"
   ]
  },
  {
   "cell_type": "code",
   "execution_count": 4,
   "id": "21b4ee5a",
   "metadata": {
    "execution": {
     "iopub.execute_input": "2025-07-18T09:55:09.960886Z",
     "iopub.status.busy": "2025-07-18T09:55:09.960886Z",
     "iopub.status.idle": "2025-07-18T09:55:12.841160Z",
     "shell.execute_reply": "2025-07-18T09:55:12.840153Z"
    },
    "tags": [
     "remove-input"
    ]
   },
   "outputs": [
    {
     "data": {
      "text/html": [
       "<style type=\"text/css\">\n",
       "#T_e524f th {\n",
       "  text-align: left;\n",
       "}\n",
       "#T_e524f_row0_col0, #T_e524f_row0_col1, #T_e524f_row1_col0, #T_e524f_row1_col1, #T_e524f_row2_col0, #T_e524f_row2_col1, #T_e524f_row3_col0, #T_e524f_row3_col1, #T_e524f_row4_col0, #T_e524f_row4_col1 {\n",
       "  text-align: left;\n",
       "}\n",
       "</style>\n",
       "<table id=\"T_e524f\" style=\"font-size: 14px\">\n",
       "  <thead>\n",
       "    <tr>\n",
       "      <th id=\"T_e524f_level0_col0\" class=\"col_heading level0 col0\" >Version</th>\n",
       "      <th id=\"T_e524f_level0_col1\" class=\"col_heading level0 col1\" >1</th>\n",
       "    </tr>\n",
       "  </thead>\n",
       "  <tbody>\n",
       "    <tr>\n",
       "      <td id=\"T_e524f_row0_col0\" class=\"data row0 col0\" >Version Date</td>\n",
       "      <td id=\"T_e524f_row0_col1\" class=\"data row0 col1\" >01 Nov 2021</td>\n",
       "    </tr>\n",
       "    <tr>\n",
       "      <td id=\"T_e524f_row1_col0\" class=\"data row1 col0\" >Number of Variables</td>\n",
       "      <td id=\"T_e524f_row1_col1\" class=\"data row1 col1\" >50</td>\n",
       "    </tr>\n",
       "    <tr>\n",
       "      <td id=\"T_e524f_row2_col0\" class=\"data row2 col0\" >Number of Observations</td>\n",
       "      <td id=\"T_e524f_row2_col1\" class=\"data row2 col1\" >42905</td>\n",
       "    </tr>\n",
       "    <tr>\n",
       "      <td id=\"T_e524f_row3_col0\" class=\"data row3 col0\" >DOI</td>\n",
       "      <td id=\"T_e524f_row3_col1\" class=\"data row3 col1\" > <a href=\"https://doi.org/10.83126/ukllc-dataset-00275-01\" rel=\"noopener noreferrer\" target=\"_blank\">10.83126/ukllc-dataset-00275-01</a></td>\n",
       "    </tr>\n",
       "    <tr>\n",
       "      <td id=\"T_e524f_row4_col0\" class=\"data row4 col0\" >Change Log</td>\n",
       "      <td id=\"T_e524f_row4_col1\" class=\"data row4 col1\" > <a href=\"https://api.test.datacite.org/dois/10.83126/ukllc-dataset-00275-01/activities\" rel=\"noopener noreferrer\" target=\"_blank\">10.83126/ukllc-dataset-00275-01/activities</a></td>\n",
       "    </tr>\n",
       "  </tbody>\n",
       "</table>\n"
      ],
      "text/plain": [
       "<pandas.io.formats.style.Styler at 0x20773796f00>"
      ]
     },
     "execution_count": 4,
     "metadata": {},
     "output_type": "execute_result"
    }
   ],
   "source": [
    "ds.version_history()"
   ]
  },
  {
   "cell_type": "markdown",
   "id": "1915c79e",
   "metadata": {},
   "source": [
    "## 3. Documentation"
   ]
  },
  {
   "cell_type": "code",
   "execution_count": 5,
   "id": "473c289d",
   "metadata": {
    "execution": {
     "iopub.execute_input": "2025-07-18T09:55:12.847671Z",
     "iopub.status.busy": "2025-07-18T09:55:12.846672Z",
     "iopub.status.idle": "2025-07-18T09:55:12.854785Z",
     "shell.execute_reply": "2025-07-18T09:55:12.853779Z"
    },
    "tags": [
     "remove-input"
    ]
   },
   "outputs": [
    {
     "data": {
      "text/markdown": [
       "We are currently building a documentation storage system which will host useful documents related to datasets and data owners. We will surface these documents on Guidebook."
      ],
      "text/plain": [
       "<IPython.core.display.Markdown object>"
      ]
     },
     "metadata": {},
     "output_type": "display_data"
    }
   ],
   "source": [
    "ds.documentation()"
   ]
  },
  {
   "cell_type": "markdown",
   "id": "af0b45da",
   "metadata": {},
   "source": [
    "## 4. Useful Syntax"
   ]
  },
  {
   "cell_type": "code",
   "execution_count": 6,
   "id": "d46d171e",
   "metadata": {
    "execution": {
     "iopub.execute_input": "2025-07-18T09:55:12.859786Z",
     "iopub.status.busy": "2025-07-18T09:55:12.859786Z",
     "iopub.status.idle": "2025-07-18T09:55:12.866728Z",
     "shell.execute_reply": "2025-07-18T09:55:12.865722Z"
    },
    "tags": [
     "remove-input"
    ]
   },
   "outputs": [
    {
     "data": {
      "text/markdown": [
       "Below we will include syntax that may be helpful to other researchers in the UK LLC TRE. For longer scripts, we will include a snippet of the code plus a link to Git where you can find the full scripts."
      ],
      "text/plain": [
       "<IPython.core.display.Markdown object>"
      ]
     },
     "metadata": {},
     "output_type": "display_data"
    }
   ],
   "source": [
    "ds.useful_syntax()"
   ]
  }
 ],
 "metadata": {
  "language_info": {
   "codemirror_mode": {
    "name": "ipython",
    "version": 3
   },
   "file_extension": ".py",
   "mimetype": "text/x-python",
   "name": "python",
   "nbconvert_exporter": "python",
   "pygments_lexer": "ipython3",
   "version": "3.12.7"
  }
 },
 "nbformat": 4,
 "nbformat_minor": 5
}
