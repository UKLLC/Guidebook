{
 "cells": [
  {
   "cell_type": "markdown",
   "id": "c9ac7716",
   "metadata": {},
   "source": [
    "# MCS5 Cohort Member Cognitive Assessment (MCS)"
   ]
  },
  {
   "cell_type": "code",
   "execution_count": 1,
   "id": "e2179158",
   "metadata": {
    "execution": {
     "iopub.execute_input": "2025-07-18T09:56:33.376370Z",
     "iopub.status.busy": "2025-07-18T09:56:33.376370Z",
     "iopub.status.idle": "2025-07-18T09:56:40.199143Z",
     "shell.execute_reply": "2025-07-18T09:56:40.197003Z"
    },
    "tags": [
     "remove-input"
    ]
   },
   "outputs": [
    {
     "data": {
      "text/markdown": [
       ">Last modified: 18 Jul 2025"
      ],
      "text/plain": [
       "<IPython.core.display.Markdown object>"
      ]
     },
     "metadata": {},
     "output_type": "display_data"
    }
   ],
   "source": [
    "\n",
    "import sys\n",
    "import os\n",
    "sys.path.append(os.path.abspath('../../../../scripts/'))\n",
    "from data_doc_helper import LPSDataSet as DS, last_modified\n",
    "API_KEY = os.environ['FASTAPI_KEY']\n",
    "ds = DS(\"MCS\", \"mcs5_cm_cognitive_assessment\")\n",
    "last_modified()\n"
   ]
  },
  {
   "cell_type": "markdown",
   "id": "2dac9423",
   "metadata": {},
   "source": [
    "## 1. Summary"
   ]
  },
  {
   "cell_type": "code",
   "execution_count": 2,
   "id": "644bd8dc",
   "metadata": {
    "execution": {
     "iopub.execute_input": "2025-07-18T09:56:40.204141Z",
     "iopub.status.busy": "2025-07-18T09:56:40.203142Z",
     "iopub.status.idle": "2025-07-18T09:56:40.215247Z",
     "shell.execute_reply": "2025-07-18T09:56:40.213269Z"
    },
    "tags": [
     "remove-input"
    ]
   },
   "outputs": [
    {
     "data": {
      "text/markdown": [
       "This dataset contains cognitive assessment data (BAS Verbal Similarities, CANTAB Spatial Working Memory Task (\"Memory Task\"), CANTAB Cambridge Gambling Task (\"Decision Making Task\")) collected at sweep 5 along with interviewer observations relating to the circumstances of the assessments"
      ],
      "text/plain": [
       "<IPython.core.display.Markdown object>"
      ]
     },
     "metadata": {},
     "output_type": "display_data"
    }
   ],
   "source": [
    "ds.summary()"
   ]
  },
  {
   "cell_type": "code",
   "execution_count": 3,
   "id": "3d70a5a0",
   "metadata": {
    "execution": {
     "iopub.execute_input": "2025-07-18T09:56:40.220245Z",
     "iopub.status.busy": "2025-07-18T09:56:40.220245Z",
     "iopub.status.idle": "2025-07-18T09:56:41.301773Z",
     "shell.execute_reply": "2025-07-18T09:56:41.299834Z"
    },
    "tags": [
     "remove-input"
    ]
   },
   "outputs": [
    {
     "data": {
      "text/html": [
       "<style type=\"text/css\">\n",
       "#T_31844 th {\n",
       "  text-align: left;\n",
       "}\n",
       "#T_31844_row0_col0, #T_31844_row0_col1, #T_31844_row1_col0, #T_31844_row1_col1, #T_31844_row2_col0, #T_31844_row2_col1, #T_31844_row3_col0, #T_31844_row3_col1, #T_31844_row4_col0, #T_31844_row4_col1, #T_31844_row5_col0, #T_31844_row5_col1, #T_31844_row6_col0, #T_31844_row6_col1, #T_31844_row7_col0, #T_31844_row7_col1, #T_31844_row8_col0, #T_31844_row8_col1, #T_31844_row9_col0, #T_31844_row9_col1, #T_31844_row10_col0, #T_31844_row10_col1, #T_31844_row11_col0, #T_31844_row11_col1, #T_31844_row12_col0, #T_31844_row12_col1 {\n",
       "  text-align: left;\n",
       "}\n",
       "</style>\n",
       "<table id=\"T_31844\" style=\"font-size: 14px\">\n",
       "  <thead>\n",
       "    <tr>\n",
       "      <th id=\"T_31844_level0_col0\" class=\"col_heading level0 col0\" >Dataset Descriptor</th>\n",
       "      <th id=\"T_31844_level0_col1\" class=\"col_heading level0 col1\" >Dataset-specific Information</th>\n",
       "    </tr>\n",
       "  </thead>\n",
       "  <tbody>\n",
       "    <tr>\n",
       "      <td id=\"T_31844_row0_col0\" class=\"data row0 col0\" >Name of Dataset in TRE</td>\n",
       "      <td id=\"T_31844_row0_col1\" class=\"data row0 col1\" >MCS_mcs5_cm_cognitive_assessment</td>\n",
       "    </tr>\n",
       "    <tr>\n",
       "      <td id=\"T_31844_row1_col0\" class=\"data row1 col0\" >Citation (APA)</td>\n",
       "      <td id=\"T_31844_row1_col1\" class=\"data row1 col1\" >University College London, UCL Social Research Institute, Centre for Longitudinal Studies. (2021). <i>Millennium Cohort Study (MCS): MCS5 Cohort Member Cognitive Assessment.</i> UK Longitudinal Linkage Collaboration (UK LLC).  <a href=\"https://doi.org/10.83126/ukllc-dataset-00281-01\" rel=\"noopener noreferrer\" target=\"_blank\">https://doi.org/10.83126/ukllc-dataset-00281-01</a></td>\n",
       "    </tr>\n",
       "    <tr>\n",
       "      <td id=\"T_31844_row2_col0\" class=\"data row2 col0\" >Download Citation</td>\n",
       "      <td id=\"T_31844_row2_col1\" class=\"data row2 col1\" > <a href=\"https://api.test.datacite.org/application/vnd.citationstyles.csl+json/10.83126/ukllc-dataset-00281-01\" rel=\"noopener noreferrer\" target=\"_blank\">Citeproc JSON</a>&nbsp;&nbsp;&nbsp;&nbsp; <a href=\"https://api.test.datacite.org/application/x-bibtex/10.83126/ukllc-dataset-00281-01\" rel=\"noopener noreferrer\" target=\"_blank\">BibTeX</a>&nbsp;&nbsp;&nbsp;&nbsp; <a href=\"https://api.test.datacite.org/application/x-research-info-systems/10.83126/ukllc-dataset-00281-01\" rel=\"noopener noreferrer\" target=\"_blank\">RIS</a></td>\n",
       "    </tr>\n",
       "    <tr>\n",
       "      <td id=\"T_31844_row3_col0\" class=\"data row3 col0\" >Series</td>\n",
       "      <td id=\"T_31844_row3_col1\" class=\"data row3 col1\" > <a href=\"https://guidebook.ukllc.ac.uk/docs/lps/lps%20profiles/MCS\">Millennium Cohort Study (MCS)</a></td>\n",
       "    </tr>\n",
       "    <tr>\n",
       "      <td id=\"T_31844_row4_col0\" class=\"data row4 col0\" >Owner</td>\n",
       "      <td id=\"T_31844_row4_col1\" class=\"data row4 col1\" >UCL</td>\n",
       "    </tr>\n",
       "    <tr>\n",
       "      <td id=\"T_31844_row5_col0\" class=\"data row5 col0\" >Temporal Coverage</td>\n",
       "      <td id=\"T_31844_row5_col1\" class=\"data row5 col1\" >01/2012 - 02/2013</td>\n",
       "    </tr>\n",
       "    <tr>\n",
       "      <td id=\"T_31844_row6_col0\" class=\"data row6 col0\" >Keywords</td>\n",
       "      <td id=\"T_31844_row6_col1\" class=\"data row6 col1\" >Health,Education,Family life,Employment,Attitudes</td>\n",
       "    </tr>\n",
       "    <tr>\n",
       "      <td id=\"T_31844_row7_col0\" class=\"data row7 col0\" >Participants Invited</td>\n",
       "      <td id=\"T_31844_row7_col1\" class=\"data row7 col1\" >13287</td>\n",
       "    </tr>\n",
       "    <tr>\n",
       "      <td id=\"T_31844_row8_col0\" class=\"data row8 col0\" >Participant Count</td>\n",
       "      <td id=\"T_31844_row8_col1\" class=\"data row8 col1\" >9149</td>\n",
       "    </tr>\n",
       "    <tr>\n",
       "      <td id=\"T_31844_row9_col0\" class=\"data row9 col0\" >Number of variables</td>\n",
       "      <td id=\"T_31844_row9_col1\" class=\"data row9 col1\" >206</td>\n",
       "    </tr>\n",
       "    <tr>\n",
       "      <td id=\"T_31844_row10_col0\" class=\"data row10 col0\" >Number of observations</td>\n",
       "      <td id=\"T_31844_row10_col1\" class=\"data row10 col1\" >13447</td>\n",
       "    </tr>\n",
       "    <tr>\n",
       "      <td id=\"T_31844_row11_col0\" class=\"data row11 col0\" >Specific Restrictions to Data Use</td>\n",
       "      <td id=\"T_31844_row11_col1\" class=\"data row11 col1\" >None</td>\n",
       "    </tr>\n",
       "    <tr>\n",
       "      <td id=\"T_31844_row12_col0\" class=\"data row12 col0\" >Build a Data Request</td>\n",
       "      <td id=\"T_31844_row12_col1\" class=\"data row12 col1\" > <a href=\"https://explore.ukllc.ac.uk/\" rel=\"noopener noreferrer\" target=\"_blank\">https://explore.ukllc.ac.uk/</a></td>\n",
       "    </tr>\n",
       "  </tbody>\n",
       "</table>\n"
      ],
      "text/plain": [
       "<pandas.io.formats.style.Styler at 0x24dab6fed50>"
      ]
     },
     "execution_count": 3,
     "metadata": {},
     "output_type": "execute_result"
    }
   ],
   "source": [
    "ds.info_table()"
   ]
  },
  {
   "cell_type": "markdown",
   "id": "edb8899d",
   "metadata": {},
   "source": [
    "## 2. Version History"
   ]
  },
  {
   "cell_type": "code",
   "execution_count": 4,
   "id": "cd243547",
   "metadata": {
    "execution": {
     "iopub.execute_input": "2025-07-18T09:56:41.308787Z",
     "iopub.status.busy": "2025-07-18T09:56:41.308787Z",
     "iopub.status.idle": "2025-07-18T09:56:43.780474Z",
     "shell.execute_reply": "2025-07-18T09:56:43.778439Z"
    },
    "tags": [
     "remove-input"
    ]
   },
   "outputs": [
    {
     "data": {
      "text/html": [
       "<style type=\"text/css\">\n",
       "#T_35564 th {\n",
       "  text-align: left;\n",
       "}\n",
       "#T_35564_row0_col0, #T_35564_row0_col1, #T_35564_row1_col0, #T_35564_row1_col1, #T_35564_row2_col0, #T_35564_row2_col1, #T_35564_row3_col0, #T_35564_row3_col1, #T_35564_row4_col0, #T_35564_row4_col1 {\n",
       "  text-align: left;\n",
       "}\n",
       "</style>\n",
       "<table id=\"T_35564\" style=\"font-size: 14px\">\n",
       "  <thead>\n",
       "    <tr>\n",
       "      <th id=\"T_35564_level0_col0\" class=\"col_heading level0 col0\" >Version</th>\n",
       "      <th id=\"T_35564_level0_col1\" class=\"col_heading level0 col1\" >1</th>\n",
       "    </tr>\n",
       "  </thead>\n",
       "  <tbody>\n",
       "    <tr>\n",
       "      <td id=\"T_35564_row0_col0\" class=\"data row0 col0\" >Version Date</td>\n",
       "      <td id=\"T_35564_row0_col1\" class=\"data row0 col1\" >01 Nov 2021</td>\n",
       "    </tr>\n",
       "    <tr>\n",
       "      <td id=\"T_35564_row1_col0\" class=\"data row1 col0\" >Number of Variables</td>\n",
       "      <td id=\"T_35564_row1_col1\" class=\"data row1 col1\" >206</td>\n",
       "    </tr>\n",
       "    <tr>\n",
       "      <td id=\"T_35564_row2_col0\" class=\"data row2 col0\" >Number of Observations</td>\n",
       "      <td id=\"T_35564_row2_col1\" class=\"data row2 col1\" >13447</td>\n",
       "    </tr>\n",
       "    <tr>\n",
       "      <td id=\"T_35564_row3_col0\" class=\"data row3 col0\" >DOI</td>\n",
       "      <td id=\"T_35564_row3_col1\" class=\"data row3 col1\" > <a href=\"https://doi.org/10.83126/ukllc-dataset-00281-01\" rel=\"noopener noreferrer\" target=\"_blank\">10.83126/ukllc-dataset-00281-01</a></td>\n",
       "    </tr>\n",
       "    <tr>\n",
       "      <td id=\"T_35564_row4_col0\" class=\"data row4 col0\" >Change Log</td>\n",
       "      <td id=\"T_35564_row4_col1\" class=\"data row4 col1\" > <a href=\"https://api.test.datacite.org/dois/10.83126/ukllc-dataset-00281-01/activities\" rel=\"noopener noreferrer\" target=\"_blank\">10.83126/ukllc-dataset-00281-01/activities</a></td>\n",
       "    </tr>\n",
       "  </tbody>\n",
       "</table>\n"
      ],
      "text/plain": [
       "<pandas.io.formats.style.Styler at 0x24db1267fb0>"
      ]
     },
     "execution_count": 4,
     "metadata": {},
     "output_type": "execute_result"
    }
   ],
   "source": [
    "ds.version_history()"
   ]
  },
  {
   "cell_type": "markdown",
   "id": "14fdb903",
   "metadata": {},
   "source": [
    "## 3. Documentation"
   ]
  },
  {
   "cell_type": "code",
   "execution_count": 5,
   "id": "2df5b2b7",
   "metadata": {
    "execution": {
     "iopub.execute_input": "2025-07-18T09:56:43.789474Z",
     "iopub.status.busy": "2025-07-18T09:56:43.788476Z",
     "iopub.status.idle": "2025-07-18T09:56:43.801244Z",
     "shell.execute_reply": "2025-07-18T09:56:43.799241Z"
    },
    "tags": [
     "remove-input"
    ]
   },
   "outputs": [
    {
     "data": {
      "text/markdown": [
       "We are currently building a documentation storage system which will host useful documents related to datasets and data owners. We will surface these documents on Guidebook."
      ],
      "text/plain": [
       "<IPython.core.display.Markdown object>"
      ]
     },
     "metadata": {},
     "output_type": "display_data"
    }
   ],
   "source": [
    "ds.documentation()"
   ]
  },
  {
   "cell_type": "markdown",
   "id": "396abf76",
   "metadata": {},
   "source": [
    "## 4. Useful Syntax"
   ]
  },
  {
   "cell_type": "code",
   "execution_count": 6,
   "id": "af0aea62",
   "metadata": {
    "execution": {
     "iopub.execute_input": "2025-07-18T09:56:43.808242Z",
     "iopub.status.busy": "2025-07-18T09:56:43.807241Z",
     "iopub.status.idle": "2025-07-18T09:56:43.820194Z",
     "shell.execute_reply": "2025-07-18T09:56:43.817187Z"
    },
    "tags": [
     "remove-input"
    ]
   },
   "outputs": [
    {
     "data": {
      "text/markdown": [
       "Below we will include syntax that may be helpful to other researchers in the UK LLC TRE. For longer scripts, we will include a snippet of the code plus a link to Git where you can find the full scripts."
      ],
      "text/plain": [
       "<IPython.core.display.Markdown object>"
      ]
     },
     "metadata": {},
     "output_type": "display_data"
    }
   ],
   "source": [
    "ds.useful_syntax()"
   ]
  }
 ],
 "metadata": {
  "language_info": {
   "codemirror_mode": {
    "name": "ipython",
    "version": 3
   },
   "file_extension": ".py",
   "mimetype": "text/x-python",
   "name": "python",
   "nbconvert_exporter": "python",
   "pygments_lexer": "ipython3",
   "version": "3.12.7"
  }
 },
 "nbformat": 4,
 "nbformat_minor": 5
}
