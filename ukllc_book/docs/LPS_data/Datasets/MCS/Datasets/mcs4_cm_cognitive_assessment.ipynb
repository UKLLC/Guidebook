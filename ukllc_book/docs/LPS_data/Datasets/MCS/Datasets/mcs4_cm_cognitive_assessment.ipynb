{
 "cells": [
  {
   "cell_type": "markdown",
   "id": "2b942322",
   "metadata": {},
   "source": [
    "# MCS4 Cohort Member Cognitive Assessment (MCS)"
   ]
  },
  {
   "cell_type": "code",
   "execution_count": 1,
   "id": "f7c54f6b",
   "metadata": {
    "execution": {
     "iopub.execute_input": "2025-07-28T19:27:07.772030Z",
     "iopub.status.busy": "2025-07-28T19:27:07.771029Z",
     "iopub.status.idle": "2025-07-28T19:27:20.377963Z",
     "shell.execute_reply": "2025-07-28T19:27:20.375947Z"
    },
    "tags": [
     "remove-input"
    ]
   },
   "outputs": [
    {
     "data": {
      "text/markdown": [
       ">Last modified: 28 Jul 2025"
      ],
      "text/plain": [
       "<IPython.core.display.Markdown object>"
      ]
     },
     "metadata": {},
     "output_type": "display_data"
    }
   ],
   "source": [
    "\n",
    "import sys\n",
    "import os\n",
    "sys.path.append(os.path.abspath('../../../../scripts/'))\n",
    "from data_doc_helper import LPSDataSet as DS, last_modified\n",
    "API_KEY = os.environ['FASTAPI_KEY']\n",
    "ds = DS(\"MCS\", \"mcs4_cm_cognitive_assessment\")\n",
    "last_modified()\n"
   ]
  },
  {
   "cell_type": "markdown",
   "id": "14b57cbf",
   "metadata": {},
   "source": [
    "## 1. Summary"
   ]
  },
  {
   "cell_type": "code",
   "execution_count": 2,
   "id": "b1ee26d2",
   "metadata": {
    "execution": {
     "iopub.execute_input": "2025-07-28T19:27:20.388088Z",
     "iopub.status.busy": "2025-07-28T19:27:20.386974Z",
     "iopub.status.idle": "2025-07-28T19:27:20.399820Z",
     "shell.execute_reply": "2025-07-28T19:27:20.398218Z"
    },
    "tags": [
     "remove-input"
    ]
   },
   "outputs": [
    {
     "data": {
      "text/markdown": [
       "This dataset contains cognitive assessment data (BAS Pattern Construction, BAS Word Reading, and an MCS adapted edition of the NFER Progress in Maths test) collected at sweep 4"
      ],
      "text/plain": [
       "<IPython.core.display.Markdown object>"
      ]
     },
     "metadata": {},
     "output_type": "display_data"
    }
   ],
   "source": [
    "ds.summary()"
   ]
  },
  {
   "cell_type": "code",
   "execution_count": 3,
   "id": "cead4974",
   "metadata": {
    "execution": {
     "iopub.execute_input": "2025-07-28T19:27:20.406836Z",
     "iopub.status.busy": "2025-07-28T19:27:20.406836Z",
     "iopub.status.idle": "2025-07-28T19:27:22.244094Z",
     "shell.execute_reply": "2025-07-28T19:27:22.243075Z"
    },
    "tags": [
     "remove-input"
    ]
   },
   "outputs": [
    {
     "data": {
      "text/html": [
       "<style type=\"text/css\">\n",
       "#T_c15dc th {\n",
       "  text-align: left;\n",
       "}\n",
       "#T_c15dc_row0_col0, #T_c15dc_row0_col1, #T_c15dc_row1_col0, #T_c15dc_row1_col1, #T_c15dc_row2_col0, #T_c15dc_row2_col1, #T_c15dc_row3_col0, #T_c15dc_row3_col1, #T_c15dc_row4_col0, #T_c15dc_row4_col1, #T_c15dc_row5_col0, #T_c15dc_row5_col1, #T_c15dc_row6_col0, #T_c15dc_row6_col1, #T_c15dc_row7_col0, #T_c15dc_row7_col1, #T_c15dc_row8_col0, #T_c15dc_row8_col1, #T_c15dc_row9_col0, #T_c15dc_row9_col1, #T_c15dc_row10_col0, #T_c15dc_row10_col1, #T_c15dc_row11_col0, #T_c15dc_row11_col1, #T_c15dc_row12_col0, #T_c15dc_row12_col1 {\n",
       "  text-align: left;\n",
       "}\n",
       "</style>\n",
       "<table id=\"T_c15dc\" style=\"font-size: 14px\">\n",
       "  <thead>\n",
       "    <tr>\n",
       "      <th id=\"T_c15dc_level0_col0\" class=\"col_heading level0 col0\" >Dataset Descriptor</th>\n",
       "      <th id=\"T_c15dc_level0_col1\" class=\"col_heading level0 col1\" >Dataset-specific Information</th>\n",
       "    </tr>\n",
       "  </thead>\n",
       "  <tbody>\n",
       "    <tr>\n",
       "      <td id=\"T_c15dc_row0_col0\" class=\"data row0 col0\" >Name of Dataset in TRE</td>\n",
       "      <td id=\"T_c15dc_row0_col1\" class=\"data row0 col1\" >MCS_mcs4_cm_cognitive_assessment</td>\n",
       "    </tr>\n",
       "    <tr>\n",
       "      <td id=\"T_c15dc_row1_col0\" class=\"data row1 col0\" >Citation (APA)</td>\n",
       "      <td id=\"T_c15dc_row1_col1\" class=\"data row1 col1\" >University College London, UCL Social Research Institute, Centre for Longitudinal Studies. (2021). <i>Millennium Cohort Study (MCS): MCS4 Cohort Member Cognitive Assessment.</i> UK Longitudinal Linkage Collaboration (UK LLC).  <a href=\"https://doi.org/10.71760/ukllc-dataset-00192-01\" rel=\"noopener noreferrer\" target=\"_blank\">https://doi.org/10.71760/ukllc-dataset-00192-01</a></td>\n",
       "    </tr>\n",
       "    <tr>\n",
       "      <td id=\"T_c15dc_row2_col0\" class=\"data row2 col0\" >Download Citation</td>\n",
       "      <td id=\"T_c15dc_row2_col1\" class=\"data row2 col1\" > <a href=\"https://api.datacite.org/application/vnd.citationstyles.csl+json/10.71760/ukllc-dataset-00192-01\" rel=\"noopener noreferrer\" target=\"_blank\">Citeproc JSON</a>&nbsp;&nbsp;&nbsp;&nbsp; <a href=\"https://api.datacite.org/application/x-bibtex/10.71760/ukllc-dataset-00192-01\" rel=\"noopener noreferrer\" target=\"_blank\">BibTeX</a>&nbsp;&nbsp;&nbsp;&nbsp; <a href=\"https://api.datacite.org/application/x-research-info-systems/10.71760/ukllc-dataset-00192-01\" rel=\"noopener noreferrer\" target=\"_blank\">RIS</a></td>\n",
       "    </tr>\n",
       "    <tr>\n",
       "      <td id=\"T_c15dc_row3_col0\" class=\"data row3 col0\" >Series</td>\n",
       "      <td id=\"T_c15dc_row3_col1\" class=\"data row3 col1\" > <a href=\"https://guidebook.ukllc.ac.uk/docs/lps_data/lps%20profiles/MCS\">Millennium Cohort Study (MCS)</a></td>\n",
       "    </tr>\n",
       "    <tr>\n",
       "      <td id=\"T_c15dc_row4_col0\" class=\"data row4 col0\" >Owner</td>\n",
       "      <td id=\"T_c15dc_row4_col1\" class=\"data row4 col1\" >UCL</td>\n",
       "    </tr>\n",
       "    <tr>\n",
       "      <td id=\"T_c15dc_row5_col0\" class=\"data row5 col0\" >Temporal Coverage</td>\n",
       "      <td id=\"T_c15dc_row5_col1\" class=\"data row5 col1\" >01/2008 - 12/2008</td>\n",
       "    </tr>\n",
       "    <tr>\n",
       "      <td id=\"T_c15dc_row6_col0\" class=\"data row6 col0\" >Keywords</td>\n",
       "      <td id=\"T_c15dc_row6_col1\" class=\"data row6 col1\" >Family Life,Health,employment,attitudes,Social mobility</td>\n",
       "    </tr>\n",
       "    <tr>\n",
       "      <td id=\"T_c15dc_row7_col0\" class=\"data row7 col0\" >Participants Invited</td>\n",
       "      <td id=\"T_c15dc_row7_col1\" class=\"data row7 col1\" >13857</td>\n",
       "    </tr>\n",
       "    <tr>\n",
       "      <td id=\"T_c15dc_row8_col0\" class=\"data row8 col0\" >Participant Count</td>\n",
       "      <td id=\"T_c15dc_row8_col1\" class=\"data row8 col1\" >8889</td>\n",
       "    </tr>\n",
       "    <tr>\n",
       "      <td id=\"T_c15dc_row9_col0\" class=\"data row9 col0\" >Number of variables</td>\n",
       "      <td id=\"T_c15dc_row9_col1\" class=\"data row9 col1\" >504</td>\n",
       "    </tr>\n",
       "    <tr>\n",
       "      <td id=\"T_c15dc_row10_col0\" class=\"data row10 col0\" >Number of observations</td>\n",
       "      <td id=\"T_c15dc_row10_col1\" class=\"data row10 col1\" >14013</td>\n",
       "    </tr>\n",
       "    <tr>\n",
       "      <td id=\"T_c15dc_row11_col0\" class=\"data row11 col0\" >Specific Restrictions to Data Use</td>\n",
       "      <td id=\"T_c15dc_row11_col1\" class=\"data row11 col1\" >None</td>\n",
       "    </tr>\n",
       "    <tr>\n",
       "      <td id=\"T_c15dc_row12_col0\" class=\"data row12 col0\" >Build a Data Request</td>\n",
       "      <td id=\"T_c15dc_row12_col1\" class=\"data row12 col1\" > <a href=\"https://explore.ukllc.ac.uk/\" rel=\"noopener noreferrer\" target=\"_blank\">https://explore.ukllc.ac.uk/</a></td>\n",
       "    </tr>\n",
       "  </tbody>\n",
       "</table>\n"
      ],
      "text/plain": [
       "<pandas.io.formats.style.Styler at 0x2adb039fb00>"
      ]
     },
     "execution_count": 3,
     "metadata": {},
     "output_type": "execute_result"
    }
   ],
   "source": [
    "ds.info_table()"
   ]
  },
  {
   "cell_type": "markdown",
   "id": "11a3552f",
   "metadata": {},
   "source": [
    "## 2. Version History"
   ]
  },
  {
   "cell_type": "code",
   "execution_count": 4,
   "id": "2379de7c",
   "metadata": {
    "execution": {
     "iopub.execute_input": "2025-07-28T19:27:22.252093Z",
     "iopub.status.busy": "2025-07-28T19:27:22.252093Z",
     "iopub.status.idle": "2025-07-28T19:27:27.823409Z",
     "shell.execute_reply": "2025-07-28T19:27:27.819771Z"
    },
    "tags": [
     "remove-input"
    ]
   },
   "outputs": [
    {
     "data": {
      "text/html": [
       "<style type=\"text/css\">\n",
       "#T_e1989 th {\n",
       "  text-align: left;\n",
       "}\n",
       "#T_e1989_row0_col0, #T_e1989_row0_col1, #T_e1989_row1_col0, #T_e1989_row1_col1, #T_e1989_row2_col0, #T_e1989_row2_col1, #T_e1989_row3_col0, #T_e1989_row3_col1, #T_e1989_row4_col0, #T_e1989_row4_col1 {\n",
       "  text-align: left;\n",
       "}\n",
       "</style>\n",
       "<table id=\"T_e1989\" style=\"font-size: 14px\">\n",
       "  <thead>\n",
       "    <tr>\n",
       "      <th id=\"T_e1989_level0_col0\" class=\"col_heading level0 col0\" >Version</th>\n",
       "      <th id=\"T_e1989_level0_col1\" class=\"col_heading level0 col1\" >1</th>\n",
       "    </tr>\n",
       "  </thead>\n",
       "  <tbody>\n",
       "    <tr>\n",
       "      <td id=\"T_e1989_row0_col0\" class=\"data row0 col0\" >Version Date</td>\n",
       "      <td id=\"T_e1989_row0_col1\" class=\"data row0 col1\" >01 Nov 2021</td>\n",
       "    </tr>\n",
       "    <tr>\n",
       "      <td id=\"T_e1989_row1_col0\" class=\"data row1 col0\" >Number of Variables</td>\n",
       "      <td id=\"T_e1989_row1_col1\" class=\"data row1 col1\" >504</td>\n",
       "    </tr>\n",
       "    <tr>\n",
       "      <td id=\"T_e1989_row2_col0\" class=\"data row2 col0\" >Number of Observations</td>\n",
       "      <td id=\"T_e1989_row2_col1\" class=\"data row2 col1\" >14013</td>\n",
       "    </tr>\n",
       "    <tr>\n",
       "      <td id=\"T_e1989_row3_col0\" class=\"data row3 col0\" >DOI</td>\n",
       "      <td id=\"T_e1989_row3_col1\" class=\"data row3 col1\" > <a href=\"https://doi.org/10.71760/ukllc-dataset-00192-01\" rel=\"noopener noreferrer\" target=\"_blank\">10.71760/ukllc-dataset-00192-01</a></td>\n",
       "    </tr>\n",
       "    <tr>\n",
       "      <td id=\"T_e1989_row4_col0\" class=\"data row4 col0\" >Change Log</td>\n",
       "      <td id=\"T_e1989_row4_col1\" class=\"data row4 col1\" > <a href=\"https://api.test.datacite.org/dois/10.71760/ukllc-dataset-00192-01/activities\" rel=\"noopener noreferrer\" target=\"_blank\">10.71760/ukllc-dataset-00192-01/activities</a></td>\n",
       "    </tr>\n",
       "  </tbody>\n",
       "</table>\n"
      ],
      "text/plain": [
       "<pandas.io.formats.style.Styler at 0x2adb20d05c0>"
      ]
     },
     "execution_count": 4,
     "metadata": {},
     "output_type": "execute_result"
    }
   ],
   "source": [
    "ds.version_history()"
   ]
  },
  {
   "cell_type": "markdown",
   "id": "a8714c4f",
   "metadata": {},
   "source": [
    "## 3. Documentation"
   ]
  },
  {
   "cell_type": "code",
   "execution_count": 5,
   "id": "7deb85d8",
   "metadata": {
    "execution": {
     "iopub.execute_input": "2025-07-28T19:27:27.831585Z",
     "iopub.status.busy": "2025-07-28T19:27:27.830575Z",
     "iopub.status.idle": "2025-07-28T19:27:27.846853Z",
     "shell.execute_reply": "2025-07-28T19:27:27.844842Z"
    },
    "tags": [
     "remove-input"
    ]
   },
   "outputs": [
    {
     "data": {
      "text/markdown": [
       "We are currently building a documentation storage system which will host useful documents related to datasets and data owners. We will surface these documents on Guidebook."
      ],
      "text/plain": [
       "<IPython.core.display.Markdown object>"
      ]
     },
     "metadata": {},
     "output_type": "display_data"
    }
   ],
   "source": [
    "ds.documentation()"
   ]
  },
  {
   "cell_type": "markdown",
   "id": "c47e123b",
   "metadata": {},
   "source": [
    "## 4. Useful Syntax"
   ]
  },
  {
   "cell_type": "code",
   "execution_count": 6,
   "id": "468cb8ad",
   "metadata": {
    "execution": {
     "iopub.execute_input": "2025-07-28T19:27:27.854860Z",
     "iopub.status.busy": "2025-07-28T19:27:27.853864Z",
     "iopub.status.idle": "2025-07-28T19:27:27.868885Z",
     "shell.execute_reply": "2025-07-28T19:27:27.866869Z"
    },
    "tags": [
     "remove-input"
    ]
   },
   "outputs": [
    {
     "data": {
      "text/markdown": [
       "Below we will include syntax that may be helpful to other researchers in the UK LLC TRE. For longer scripts, we will include a snippet of the code plus a link to Git where you can find the full scripts."
      ],
      "text/plain": [
       "<IPython.core.display.Markdown object>"
      ]
     },
     "metadata": {},
     "output_type": "display_data"
    }
   ],
   "source": [
    "ds.useful_syntax()"
   ]
  }
 ],
 "metadata": {
  "language_info": {
   "codemirror_mode": {
    "name": "ipython",
    "version": 3
   },
   "file_extension": ".py",
   "mimetype": "text/x-python",
   "name": "python",
   "nbconvert_exporter": "python",
   "pygments_lexer": "ipython3",
   "version": "3.12.7"
  }
 },
 "nbformat": 4,
 "nbformat_minor": 5
}
