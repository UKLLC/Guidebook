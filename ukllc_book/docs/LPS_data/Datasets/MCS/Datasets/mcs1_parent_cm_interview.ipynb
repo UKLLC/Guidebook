{
 "cells": [
  {
   "cell_type": "markdown",
   "id": "14553d74",
   "metadata": {},
   "source": [
    "# MCS1 Parent Interview about Cohort Member (MCS)"
   ]
  },
  {
   "cell_type": "code",
   "execution_count": 1,
   "id": "57ed2e51",
   "metadata": {
    "execution": {
     "iopub.execute_input": "2025-07-18T09:47:42.861231Z",
     "iopub.status.busy": "2025-07-18T09:47:42.861231Z",
     "iopub.status.idle": "2025-07-18T09:47:49.737125Z",
     "shell.execute_reply": "2025-07-18T09:47:49.735308Z"
    },
    "tags": [
     "remove-input"
    ]
   },
   "outputs": [
    {
     "data": {
      "text/markdown": [
       ">Last modified: 18 Jul 2025"
      ],
      "text/plain": [
       "<IPython.core.display.Markdown object>"
      ]
     },
     "metadata": {},
     "output_type": "display_data"
    }
   ],
   "source": [
    "\n",
    "import sys\n",
    "import os\n",
    "sys.path.append(os.path.abspath('../../../../scripts/'))\n",
    "from data_doc_helper import LPSDataSet as DS, last_modified\n",
    "API_KEY = os.environ['FASTAPI_KEY']\n",
    "ds = DS(\"MCS\", \"mcs1_parent_cm_interview\")\n",
    "last_modified()\n"
   ]
  },
  {
   "cell_type": "markdown",
   "id": "61813a7a",
   "metadata": {},
   "source": [
    "## 1. Summary"
   ]
  },
  {
   "cell_type": "code",
   "execution_count": 2,
   "id": "0274bf61",
   "metadata": {
    "execution": {
     "iopub.execute_input": "2025-07-18T09:47:49.743144Z",
     "iopub.status.busy": "2025-07-18T09:47:49.742144Z",
     "iopub.status.idle": "2025-07-18T09:47:49.752399Z",
     "shell.execute_reply": "2025-07-18T09:47:49.751392Z"
    },
    "tags": [
     "remove-input"
    ]
   },
   "outputs": [
    {
     "data": {
      "text/markdown": [
       "This dataset contains responses at sweep 1 from parents about each cohort member's birth, diet, immunisations, accidents and injuries, health, childcare etc."
      ],
      "text/plain": [
       "<IPython.core.display.Markdown object>"
      ]
     },
     "metadata": {},
     "output_type": "display_data"
    }
   ],
   "source": [
    "ds.summary()"
   ]
  },
  {
   "cell_type": "code",
   "execution_count": 3,
   "id": "a4d44034",
   "metadata": {
    "execution": {
     "iopub.execute_input": "2025-07-18T09:47:49.758914Z",
     "iopub.status.busy": "2025-07-18T09:47:49.758914Z",
     "iopub.status.idle": "2025-07-18T09:47:50.967410Z",
     "shell.execute_reply": "2025-07-18T09:47:50.965403Z"
    },
    "tags": [
     "remove-input"
    ]
   },
   "outputs": [
    {
     "data": {
      "text/html": [
       "<style type=\"text/css\">\n",
       "#T_72a29 th {\n",
       "  text-align: left;\n",
       "}\n",
       "#T_72a29_row0_col0, #T_72a29_row0_col1, #T_72a29_row1_col0, #T_72a29_row1_col1, #T_72a29_row2_col0, #T_72a29_row2_col1, #T_72a29_row3_col0, #T_72a29_row3_col1, #T_72a29_row4_col0, #T_72a29_row4_col1, #T_72a29_row5_col0, #T_72a29_row5_col1, #T_72a29_row6_col0, #T_72a29_row6_col1, #T_72a29_row7_col0, #T_72a29_row7_col1, #T_72a29_row8_col0, #T_72a29_row8_col1, #T_72a29_row9_col0, #T_72a29_row9_col1, #T_72a29_row10_col0, #T_72a29_row10_col1, #T_72a29_row11_col0, #T_72a29_row11_col1, #T_72a29_row12_col0, #T_72a29_row12_col1 {\n",
       "  text-align: left;\n",
       "}\n",
       "</style>\n",
       "<table id=\"T_72a29\" style=\"font-size: 14px\">\n",
       "  <thead>\n",
       "    <tr>\n",
       "      <th id=\"T_72a29_level0_col0\" class=\"col_heading level0 col0\" >Dataset Descriptor</th>\n",
       "      <th id=\"T_72a29_level0_col1\" class=\"col_heading level0 col1\" >Dataset-specific Information</th>\n",
       "    </tr>\n",
       "  </thead>\n",
       "  <tbody>\n",
       "    <tr>\n",
       "      <td id=\"T_72a29_row0_col0\" class=\"data row0 col0\" >Name of Dataset in TRE</td>\n",
       "      <td id=\"T_72a29_row0_col1\" class=\"data row0 col1\" >MCS_mcs1_parent_cm_interview</td>\n",
       "    </tr>\n",
       "    <tr>\n",
       "      <td id=\"T_72a29_row1_col0\" class=\"data row1 col0\" >Citation (APA)</td>\n",
       "      <td id=\"T_72a29_row1_col1\" class=\"data row1 col1\" >University College London, UCL Social Research Institute, Centre for Longitudinal Studies. (2021). <i>Millennium Cohort Study (MCS): MCS1 Parent Interview about Cohort Member.</i> UK Longitudinal Linkage Collaboration (UK LLC).  <a href=\"https://doi.org/10.83126/ukllc-dataset-00245-01\" rel=\"noopener noreferrer\" target=\"_blank\">https://doi.org/10.83126/ukllc-dataset-00245-01</a></td>\n",
       "    </tr>\n",
       "    <tr>\n",
       "      <td id=\"T_72a29_row2_col0\" class=\"data row2 col0\" >Download Citation</td>\n",
       "      <td id=\"T_72a29_row2_col1\" class=\"data row2 col1\" > <a href=\"https://api.test.datacite.org/application/vnd.citationstyles.csl+json/10.83126/ukllc-dataset-00245-01\" rel=\"noopener noreferrer\" target=\"_blank\">Citeproc JSON</a>&nbsp;&nbsp;&nbsp;&nbsp; <a href=\"https://api.test.datacite.org/application/x-bibtex/10.83126/ukllc-dataset-00245-01\" rel=\"noopener noreferrer\" target=\"_blank\">BibTeX</a>&nbsp;&nbsp;&nbsp;&nbsp; <a href=\"https://api.test.datacite.org/application/x-research-info-systems/10.83126/ukllc-dataset-00245-01\" rel=\"noopener noreferrer\" target=\"_blank\">RIS</a></td>\n",
       "    </tr>\n",
       "    <tr>\n",
       "      <td id=\"T_72a29_row3_col0\" class=\"data row3 col0\" >Series</td>\n",
       "      <td id=\"T_72a29_row3_col1\" class=\"data row3 col1\" > <a href=\"https://guidebook.ukllc.ac.uk/docs/lps/lps%20profiles/MCS\">Millennium Cohort Study (MCS)</a></td>\n",
       "    </tr>\n",
       "    <tr>\n",
       "      <td id=\"T_72a29_row4_col0\" class=\"data row4 col0\" >Owner</td>\n",
       "      <td id=\"T_72a29_row4_col1\" class=\"data row4 col1\" >UCL</td>\n",
       "    </tr>\n",
       "    <tr>\n",
       "      <td id=\"T_72a29_row5_col0\" class=\"data row5 col0\" >Temporal Coverage</td>\n",
       "      <td id=\"T_72a29_row5_col1\" class=\"data row5 col1\" >06/2001 - 01/2003</td>\n",
       "    </tr>\n",
       "    <tr>\n",
       "      <td id=\"T_72a29_row6_col0\" class=\"data row6 col0\" >Keywords</td>\n",
       "      <td id=\"T_72a29_row6_col1\" class=\"data row6 col1\" >Pregnancy outcome,health,Birth characteristics,Family life</td>\n",
       "    </tr>\n",
       "    <tr>\n",
       "      <td id=\"T_72a29_row7_col0\" class=\"data row7 col0\" >Participants Invited</td>\n",
       "      <td id=\"T_72a29_row7_col1\" class=\"data row7 col1\" >18552</td>\n",
       "    </tr>\n",
       "    <tr>\n",
       "      <td id=\"T_72a29_row8_col0\" class=\"data row8 col0\" >Participant Count</td>\n",
       "      <td id=\"T_72a29_row8_col1\" class=\"data row8 col1\" >16473</td>\n",
       "    </tr>\n",
       "    <tr>\n",
       "      <td id=\"T_72a29_row9_col0\" class=\"data row9 col0\" >Number of variables</td>\n",
       "      <td id=\"T_72a29_row9_col1\" class=\"data row9 col1\" >178</td>\n",
       "    </tr>\n",
       "    <tr>\n",
       "      <td id=\"T_72a29_row10_col0\" class=\"data row10 col0\" >Number of observations</td>\n",
       "      <td id=\"T_72a29_row10_col1\" class=\"data row10 col1\" >32165</td>\n",
       "    </tr>\n",
       "    <tr>\n",
       "      <td id=\"T_72a29_row11_col0\" class=\"data row11 col0\" >Specific Restrictions to Data Use</td>\n",
       "      <td id=\"T_72a29_row11_col1\" class=\"data row11 col1\" >None</td>\n",
       "    </tr>\n",
       "    <tr>\n",
       "      <td id=\"T_72a29_row12_col0\" class=\"data row12 col0\" >Build a Data Request</td>\n",
       "      <td id=\"T_72a29_row12_col1\" class=\"data row12 col1\" > <a href=\"https://explore.ukllc.ac.uk/\" rel=\"noopener noreferrer\" target=\"_blank\">https://explore.ukllc.ac.uk/</a></td>\n",
       "    </tr>\n",
       "  </tbody>\n",
       "</table>\n"
      ],
      "text/plain": [
       "<pandas.io.formats.style.Styler at 0x1f6d0420620>"
      ]
     },
     "execution_count": 3,
     "metadata": {},
     "output_type": "execute_result"
    }
   ],
   "source": [
    "ds.info_table()"
   ]
  },
  {
   "cell_type": "markdown",
   "id": "d0222294",
   "metadata": {},
   "source": [
    "## 2. Version History"
   ]
  },
  {
   "cell_type": "code",
   "execution_count": 4,
   "id": "8614dddc",
   "metadata": {
    "execution": {
     "iopub.execute_input": "2025-07-18T09:47:50.974410Z",
     "iopub.status.busy": "2025-07-18T09:47:50.973410Z",
     "iopub.status.idle": "2025-07-18T09:47:54.248636Z",
     "shell.execute_reply": "2025-07-18T09:47:54.246633Z"
    },
    "tags": [
     "remove-input"
    ]
   },
   "outputs": [
    {
     "data": {
      "text/html": [
       "<style type=\"text/css\">\n",
       "#T_44d69 th {\n",
       "  text-align: left;\n",
       "}\n",
       "#T_44d69_row0_col0, #T_44d69_row0_col1, #T_44d69_row1_col0, #T_44d69_row1_col1, #T_44d69_row2_col0, #T_44d69_row2_col1, #T_44d69_row3_col0, #T_44d69_row3_col1, #T_44d69_row4_col0, #T_44d69_row4_col1 {\n",
       "  text-align: left;\n",
       "}\n",
       "</style>\n",
       "<table id=\"T_44d69\" style=\"font-size: 14px\">\n",
       "  <thead>\n",
       "    <tr>\n",
       "      <th id=\"T_44d69_level0_col0\" class=\"col_heading level0 col0\" >Version</th>\n",
       "      <th id=\"T_44d69_level0_col1\" class=\"col_heading level0 col1\" >1</th>\n",
       "    </tr>\n",
       "  </thead>\n",
       "  <tbody>\n",
       "    <tr>\n",
       "      <td id=\"T_44d69_row0_col0\" class=\"data row0 col0\" >Version Date</td>\n",
       "      <td id=\"T_44d69_row0_col1\" class=\"data row0 col1\" >01 Nov 2021</td>\n",
       "    </tr>\n",
       "    <tr>\n",
       "      <td id=\"T_44d69_row1_col0\" class=\"data row1 col0\" >Number of Variables</td>\n",
       "      <td id=\"T_44d69_row1_col1\" class=\"data row1 col1\" >178</td>\n",
       "    </tr>\n",
       "    <tr>\n",
       "      <td id=\"T_44d69_row2_col0\" class=\"data row2 col0\" >Number of Observations</td>\n",
       "      <td id=\"T_44d69_row2_col1\" class=\"data row2 col1\" >32165</td>\n",
       "    </tr>\n",
       "    <tr>\n",
       "      <td id=\"T_44d69_row3_col0\" class=\"data row3 col0\" >DOI</td>\n",
       "      <td id=\"T_44d69_row3_col1\" class=\"data row3 col1\" > <a href=\"https://doi.org/10.83126/ukllc-dataset-00245-01\" rel=\"noopener noreferrer\" target=\"_blank\">10.83126/ukllc-dataset-00245-01</a></td>\n",
       "    </tr>\n",
       "    <tr>\n",
       "      <td id=\"T_44d69_row4_col0\" class=\"data row4 col0\" >Change Log</td>\n",
       "      <td id=\"T_44d69_row4_col1\" class=\"data row4 col1\" > <a href=\"https://api.test.datacite.org/dois/10.83126/ukllc-dataset-00245-01/activities\" rel=\"noopener noreferrer\" target=\"_blank\">10.83126/ukllc-dataset-00245-01/activities</a></td>\n",
       "    </tr>\n",
       "  </tbody>\n",
       "</table>\n"
      ],
      "text/plain": [
       "<pandas.io.formats.style.Styler at 0x1f6d1da9a00>"
      ]
     },
     "execution_count": 4,
     "metadata": {},
     "output_type": "execute_result"
    }
   ],
   "source": [
    "ds.version_history()"
   ]
  },
  {
   "cell_type": "markdown",
   "id": "ab05d378",
   "metadata": {},
   "source": [
    "## 3. Documentation"
   ]
  },
  {
   "cell_type": "code",
   "execution_count": 5,
   "id": "8a7b9ccf",
   "metadata": {
    "execution": {
     "iopub.execute_input": "2025-07-18T09:47:54.255633Z",
     "iopub.status.busy": "2025-07-18T09:47:54.255633Z",
     "iopub.status.idle": "2025-07-18T09:47:54.266156Z",
     "shell.execute_reply": "2025-07-18T09:47:54.264641Z"
    },
    "tags": [
     "remove-input"
    ]
   },
   "outputs": [
    {
     "data": {
      "text/markdown": [
       "We are currently building a documentation storage system which will host useful documents related to datasets and data owners. We will surface these documents on Guidebook."
      ],
      "text/plain": [
       "<IPython.core.display.Markdown object>"
      ]
     },
     "metadata": {},
     "output_type": "display_data"
    }
   ],
   "source": [
    "ds.documentation()"
   ]
  },
  {
   "cell_type": "markdown",
   "id": "41bf4ce8",
   "metadata": {},
   "source": [
    "## 4. Useful Syntax"
   ]
  },
  {
   "cell_type": "code",
   "execution_count": 6,
   "id": "c91ca525",
   "metadata": {
    "execution": {
     "iopub.execute_input": "2025-07-18T09:47:54.271154Z",
     "iopub.status.busy": "2025-07-18T09:47:54.271154Z",
     "iopub.status.idle": "2025-07-18T09:47:54.280714Z",
     "shell.execute_reply": "2025-07-18T09:47:54.279697Z"
    },
    "tags": [
     "remove-input"
    ]
   },
   "outputs": [
    {
     "data": {
      "text/markdown": [
       "Below we will include syntax that may be helpful to other researchers in the UK LLC TRE. For longer scripts, we will include a snippet of the code plus a link to Git where you can find the full scripts."
      ],
      "text/plain": [
       "<IPython.core.display.Markdown object>"
      ]
     },
     "metadata": {},
     "output_type": "display_data"
    }
   ],
   "source": [
    "ds.useful_syntax()"
   ]
  }
 ],
 "metadata": {
  "language_info": {
   "codemirror_mode": {
    "name": "ipython",
    "version": 3
   },
   "file_extension": ".py",
   "mimetype": "text/x-python",
   "name": "python",
   "nbconvert_exporter": "python",
   "pygments_lexer": "ipython3",
   "version": "3.12.7"
  }
 },
 "nbformat": 4,
 "nbformat_minor": 5
}
