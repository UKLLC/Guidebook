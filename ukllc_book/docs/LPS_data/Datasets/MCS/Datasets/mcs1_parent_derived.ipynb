{
 "cells": [
  {
   "cell_type": "markdown",
   "id": "f99ba2bc",
   "metadata": {},
   "source": [
    "# MCS1 Parent Derived (MCS)"
   ]
  },
  {
   "cell_type": "code",
   "execution_count": 1,
   "id": "e2ba2ecc",
   "metadata": {
    "execution": {
     "iopub.execute_input": "2025-07-28T19:16:39.676144Z",
     "iopub.status.busy": "2025-07-28T19:16:39.676144Z",
     "iopub.status.idle": "2025-07-28T19:16:52.371387Z",
     "shell.execute_reply": "2025-07-28T19:16:52.369369Z"
    },
    "tags": [
     "remove-input"
    ]
   },
   "outputs": [
    {
     "data": {
      "text/markdown": [
       ">Last modified: 28 Jul 2025"
      ],
      "text/plain": [
       "<IPython.core.display.Markdown object>"
      ]
     },
     "metadata": {},
     "output_type": "display_data"
    }
   ],
   "source": [
    "\n",
    "import sys\n",
    "import os\n",
    "sys.path.append(os.path.abspath('../../../../scripts/'))\n",
    "from data_doc_helper import LPSDataSet as DS, last_modified\n",
    "API_KEY = os.environ['FASTAPI_KEY']\n",
    "ds = DS(\"MCS\", \"mcs1_parent_derived\")\n",
    "last_modified()\n"
   ]
  },
  {
   "cell_type": "markdown",
   "id": "9f682cf9",
   "metadata": {},
   "source": [
    "## 1. Summary"
   ]
  },
  {
   "cell_type": "code",
   "execution_count": 2,
   "id": "6cc58ae1",
   "metadata": {
    "execution": {
     "iopub.execute_input": "2025-07-28T19:16:52.380972Z",
     "iopub.status.busy": "2025-07-28T19:16:52.379978Z",
     "iopub.status.idle": "2025-07-28T19:16:52.393987Z",
     "shell.execute_reply": "2025-07-28T19:16:52.391968Z"
    },
    "tags": [
     "remove-input"
    ]
   },
   "outputs": [
    {
     "data": {
      "text/markdown": [
       "This dataset contains derived variables relating to parent respondents at sweep 1, including ethnic group categories, education, NS-SEC categories for current and last known jobs, height, weight and BMI "
      ],
      "text/plain": [
       "<IPython.core.display.Markdown object>"
      ]
     },
     "metadata": {},
     "output_type": "display_data"
    }
   ],
   "source": [
    "ds.summary()"
   ]
  },
  {
   "cell_type": "code",
   "execution_count": 3,
   "id": "6c32d58d",
   "metadata": {
    "execution": {
     "iopub.execute_input": "2025-07-28T19:16:52.402541Z",
     "iopub.status.busy": "2025-07-28T19:16:52.401512Z",
     "iopub.status.idle": "2025-07-28T19:16:54.164325Z",
     "shell.execute_reply": "2025-07-28T19:16:54.162301Z"
    },
    "tags": [
     "remove-input"
    ]
   },
   "outputs": [
    {
     "data": {
      "text/html": [
       "<style type=\"text/css\">\n",
       "#T_7e7c5 th {\n",
       "  text-align: left;\n",
       "}\n",
       "#T_7e7c5_row0_col0, #T_7e7c5_row0_col1, #T_7e7c5_row1_col0, #T_7e7c5_row1_col1, #T_7e7c5_row2_col0, #T_7e7c5_row2_col1, #T_7e7c5_row3_col0, #T_7e7c5_row3_col1, #T_7e7c5_row4_col0, #T_7e7c5_row4_col1, #T_7e7c5_row5_col0, #T_7e7c5_row5_col1, #T_7e7c5_row6_col0, #T_7e7c5_row6_col1, #T_7e7c5_row7_col0, #T_7e7c5_row7_col1, #T_7e7c5_row8_col0, #T_7e7c5_row8_col1, #T_7e7c5_row9_col0, #T_7e7c5_row9_col1, #T_7e7c5_row10_col0, #T_7e7c5_row10_col1, #T_7e7c5_row11_col0, #T_7e7c5_row11_col1, #T_7e7c5_row12_col0, #T_7e7c5_row12_col1 {\n",
       "  text-align: left;\n",
       "}\n",
       "</style>\n",
       "<table id=\"T_7e7c5\" style=\"font-size: 14px\">\n",
       "  <thead>\n",
       "    <tr>\n",
       "      <th id=\"T_7e7c5_level0_col0\" class=\"col_heading level0 col0\" >Dataset Descriptor</th>\n",
       "      <th id=\"T_7e7c5_level0_col1\" class=\"col_heading level0 col1\" >Dataset-specific Information</th>\n",
       "    </tr>\n",
       "  </thead>\n",
       "  <tbody>\n",
       "    <tr>\n",
       "      <td id=\"T_7e7c5_row0_col0\" class=\"data row0 col0\" >Name of Dataset in TRE</td>\n",
       "      <td id=\"T_7e7c5_row0_col1\" class=\"data row0 col1\" >MCS_mcs1_parent_derived</td>\n",
       "    </tr>\n",
       "    <tr>\n",
       "      <td id=\"T_7e7c5_row1_col0\" class=\"data row1 col0\" >Citation (APA)</td>\n",
       "      <td id=\"T_7e7c5_row1_col1\" class=\"data row1 col1\" >University College London, UCL Social Research Institute, Centre for Longitudinal Studies. (2021). <i>Millennium Cohort Study (MCS): MCS1 Parent Derived.</i> UK Longitudinal Linkage Collaboration (UK LLC).  <a href=\"https://doi.org/10.71760/ukllc-dataset-00167-01\" rel=\"noopener noreferrer\" target=\"_blank\">https://doi.org/10.71760/ukllc-dataset-00167-01</a></td>\n",
       "    </tr>\n",
       "    <tr>\n",
       "      <td id=\"T_7e7c5_row2_col0\" class=\"data row2 col0\" >Download Citation</td>\n",
       "      <td id=\"T_7e7c5_row2_col1\" class=\"data row2 col1\" > <a href=\"https://api.datacite.org/application/vnd.citationstyles.csl+json/10.71760/ukllc-dataset-00167-01\" rel=\"noopener noreferrer\" target=\"_blank\">Citeproc JSON</a>&nbsp;&nbsp;&nbsp;&nbsp; <a href=\"https://api.datacite.org/application/x-bibtex/10.71760/ukllc-dataset-00167-01\" rel=\"noopener noreferrer\" target=\"_blank\">BibTeX</a>&nbsp;&nbsp;&nbsp;&nbsp; <a href=\"https://api.datacite.org/application/x-research-info-systems/10.71760/ukllc-dataset-00167-01\" rel=\"noopener noreferrer\" target=\"_blank\">RIS</a></td>\n",
       "    </tr>\n",
       "    <tr>\n",
       "      <td id=\"T_7e7c5_row3_col0\" class=\"data row3 col0\" >Series</td>\n",
       "      <td id=\"T_7e7c5_row3_col1\" class=\"data row3 col1\" > <a href=\"https://guidebook.ukllc.ac.uk/docs/lps_data/lps%20profiles/MCS\">Millennium Cohort Study (MCS)</a></td>\n",
       "    </tr>\n",
       "    <tr>\n",
       "      <td id=\"T_7e7c5_row4_col0\" class=\"data row4 col0\" >Owner</td>\n",
       "      <td id=\"T_7e7c5_row4_col1\" class=\"data row4 col1\" >UCL</td>\n",
       "    </tr>\n",
       "    <tr>\n",
       "      <td id=\"T_7e7c5_row5_col0\" class=\"data row5 col0\" >Temporal Coverage</td>\n",
       "      <td id=\"T_7e7c5_row5_col1\" class=\"data row5 col1\" >06/2001 - 01/2003</td>\n",
       "    </tr>\n",
       "    <tr>\n",
       "      <td id=\"T_7e7c5_row6_col0\" class=\"data row6 col0\" >Keywords</td>\n",
       "      <td id=\"T_7e7c5_row6_col1\" class=\"data row6 col1\" >Pregnancy outcome,health,Birth characteristics,Family life</td>\n",
       "    </tr>\n",
       "    <tr>\n",
       "      <td id=\"T_7e7c5_row7_col0\" class=\"data row7 col0\" >Participants Invited</td>\n",
       "      <td id=\"T_7e7c5_row7_col1\" class=\"data row7 col1\" >18552</td>\n",
       "    </tr>\n",
       "    <tr>\n",
       "      <td id=\"T_7e7c5_row8_col0\" class=\"data row8 col0\" >Participant Count</td>\n",
       "      <td id=\"T_7e7c5_row8_col1\" class=\"data row8 col1\" >16925</td>\n",
       "    </tr>\n",
       "    <tr>\n",
       "      <td id=\"T_7e7c5_row9_col0\" class=\"data row9 col0\" >Number of variables</td>\n",
       "      <td id=\"T_7e7c5_row9_col1\" class=\"data row9 col1\" >41</td>\n",
       "    </tr>\n",
       "    <tr>\n",
       "      <td id=\"T_7e7c5_row10_col0\" class=\"data row10 col0\" >Number of observations</td>\n",
       "      <td id=\"T_7e7c5_row10_col1\" class=\"data row10 col1\" >33884</td>\n",
       "    </tr>\n",
       "    <tr>\n",
       "      <td id=\"T_7e7c5_row11_col0\" class=\"data row11 col0\" >Specific Restrictions to Data Use</td>\n",
       "      <td id=\"T_7e7c5_row11_col1\" class=\"data row11 col1\" >None</td>\n",
       "    </tr>\n",
       "    <tr>\n",
       "      <td id=\"T_7e7c5_row12_col0\" class=\"data row12 col0\" >Build a Data Request</td>\n",
       "      <td id=\"T_7e7c5_row12_col1\" class=\"data row12 col1\" > <a href=\"https://explore.ukllc.ac.uk/\" rel=\"noopener noreferrer\" target=\"_blank\">https://explore.ukllc.ac.uk/</a></td>\n",
       "    </tr>\n",
       "  </tbody>\n",
       "</table>\n"
      ],
      "text/plain": [
       "<pandas.io.formats.style.Styler at 0x1a2e4ed01d0>"
      ]
     },
     "execution_count": 3,
     "metadata": {},
     "output_type": "execute_result"
    }
   ],
   "source": [
    "ds.info_table()"
   ]
  },
  {
   "cell_type": "markdown",
   "id": "056d0bee",
   "metadata": {},
   "source": [
    "## 2. Version History"
   ]
  },
  {
   "cell_type": "code",
   "execution_count": 4,
   "id": "441de200",
   "metadata": {
    "execution": {
     "iopub.execute_input": "2025-07-28T19:16:54.175321Z",
     "iopub.status.busy": "2025-07-28T19:16:54.172318Z",
     "iopub.status.idle": "2025-07-28T19:17:00.105429Z",
     "shell.execute_reply": "2025-07-28T19:17:00.102913Z"
    },
    "tags": [
     "remove-input"
    ]
   },
   "outputs": [
    {
     "data": {
      "text/html": [
       "<style type=\"text/css\">\n",
       "#T_0b887 th {\n",
       "  text-align: left;\n",
       "}\n",
       "#T_0b887_row0_col0, #T_0b887_row0_col1, #T_0b887_row1_col0, #T_0b887_row1_col1, #T_0b887_row2_col0, #T_0b887_row2_col1, #T_0b887_row3_col0, #T_0b887_row3_col1, #T_0b887_row4_col0, #T_0b887_row4_col1 {\n",
       "  text-align: left;\n",
       "}\n",
       "</style>\n",
       "<table id=\"T_0b887\" style=\"font-size: 14px\">\n",
       "  <thead>\n",
       "    <tr>\n",
       "      <th id=\"T_0b887_level0_col0\" class=\"col_heading level0 col0\" >Version</th>\n",
       "      <th id=\"T_0b887_level0_col1\" class=\"col_heading level0 col1\" >1</th>\n",
       "    </tr>\n",
       "  </thead>\n",
       "  <tbody>\n",
       "    <tr>\n",
       "      <td id=\"T_0b887_row0_col0\" class=\"data row0 col0\" >Version Date</td>\n",
       "      <td id=\"T_0b887_row0_col1\" class=\"data row0 col1\" >01 Nov 2021</td>\n",
       "    </tr>\n",
       "    <tr>\n",
       "      <td id=\"T_0b887_row1_col0\" class=\"data row1 col0\" >Number of Variables</td>\n",
       "      <td id=\"T_0b887_row1_col1\" class=\"data row1 col1\" >41</td>\n",
       "    </tr>\n",
       "    <tr>\n",
       "      <td id=\"T_0b887_row2_col0\" class=\"data row2 col0\" >Number of Observations</td>\n",
       "      <td id=\"T_0b887_row2_col1\" class=\"data row2 col1\" >33884</td>\n",
       "    </tr>\n",
       "    <tr>\n",
       "      <td id=\"T_0b887_row3_col0\" class=\"data row3 col0\" >DOI</td>\n",
       "      <td id=\"T_0b887_row3_col1\" class=\"data row3 col1\" > <a href=\"https://doi.org/10.71760/ukllc-dataset-00167-01\" rel=\"noopener noreferrer\" target=\"_blank\">10.71760/ukllc-dataset-00167-01</a></td>\n",
       "    </tr>\n",
       "    <tr>\n",
       "      <td id=\"T_0b887_row4_col0\" class=\"data row4 col0\" >Change Log</td>\n",
       "      <td id=\"T_0b887_row4_col1\" class=\"data row4 col1\" > <a href=\"https://api.test.datacite.org/dois/10.71760/ukllc-dataset-00167-01/activities\" rel=\"noopener noreferrer\" target=\"_blank\">10.71760/ukllc-dataset-00167-01/activities</a></td>\n",
       "    </tr>\n",
       "  </tbody>\n",
       "</table>\n"
      ],
      "text/plain": [
       "<pandas.io.formats.style.Styler at 0x1a2eab8e540>"
      ]
     },
     "execution_count": 4,
     "metadata": {},
     "output_type": "execute_result"
    }
   ],
   "source": [
    "ds.version_history()"
   ]
  },
  {
   "cell_type": "markdown",
   "id": "21178ebe",
   "metadata": {},
   "source": [
    "## 3. Documentation"
   ]
  },
  {
   "cell_type": "code",
   "execution_count": 5,
   "id": "8d35bc18",
   "metadata": {
    "execution": {
     "iopub.execute_input": "2025-07-28T19:17:00.110430Z",
     "iopub.status.busy": "2025-07-28T19:17:00.109431Z",
     "iopub.status.idle": "2025-07-28T19:17:00.120929Z",
     "shell.execute_reply": "2025-07-28T19:17:00.119438Z"
    },
    "tags": [
     "remove-input"
    ]
   },
   "outputs": [
    {
     "data": {
      "text/markdown": [
       "We are currently building a documentation storage system which will host useful documents related to datasets and data owners. We will surface these documents on Guidebook."
      ],
      "text/plain": [
       "<IPython.core.display.Markdown object>"
      ]
     },
     "metadata": {},
     "output_type": "display_data"
    }
   ],
   "source": [
    "ds.documentation()"
   ]
  },
  {
   "cell_type": "markdown",
   "id": "550c8451",
   "metadata": {},
   "source": [
    "## 4. Useful Syntax"
   ]
  },
  {
   "cell_type": "code",
   "execution_count": 6,
   "id": "bcae9226",
   "metadata": {
    "execution": {
     "iopub.execute_input": "2025-07-28T19:17:00.128935Z",
     "iopub.status.busy": "2025-07-28T19:17:00.127937Z",
     "iopub.status.idle": "2025-07-28T19:17:00.138317Z",
     "shell.execute_reply": "2025-07-28T19:17:00.137302Z"
    },
    "tags": [
     "remove-input"
    ]
   },
   "outputs": [
    {
     "data": {
      "text/markdown": [
       "Below we will include syntax that may be helpful to other researchers in the UK LLC TRE. For longer scripts, we will include a snippet of the code plus a link to Git where you can find the full scripts."
      ],
      "text/plain": [
       "<IPython.core.display.Markdown object>"
      ]
     },
     "metadata": {},
     "output_type": "display_data"
    }
   ],
   "source": [
    "ds.useful_syntax()"
   ]
  }
 ],
 "metadata": {
  "language_info": {
   "codemirror_mode": {
    "name": "ipython",
    "version": 3
   },
   "file_extension": ".py",
   "mimetype": "text/x-python",
   "name": "python",
   "nbconvert_exporter": "python",
   "pygments_lexer": "ipython3",
   "version": "3.12.7"
  }
 },
 "nbformat": 4,
 "nbformat_minor": 5
}
