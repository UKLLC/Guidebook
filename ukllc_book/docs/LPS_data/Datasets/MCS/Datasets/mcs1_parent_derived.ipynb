{
 "cells": [
  {
   "cell_type": "markdown",
   "id": "f99ba2bc",
   "metadata": {},
   "source": [
    "# MCS1 Parent Derived (MCS)"
   ]
  },
  {
   "cell_type": "code",
   "execution_count": 1,
   "id": "e2ba2ecc",
   "metadata": {
    "execution": {
     "iopub.execute_input": "2025-07-18T09:47:59.337293Z",
     "iopub.status.busy": "2025-07-18T09:47:59.337293Z",
     "iopub.status.idle": "2025-07-18T09:48:06.574367Z",
     "shell.execute_reply": "2025-07-18T09:48:06.574367Z"
    },
    "tags": [
     "remove-input"
    ]
   },
   "outputs": [
    {
     "data": {
      "text/markdown": [
       ">Last modified: 18 Jul 2025"
      ],
      "text/plain": [
       "<IPython.core.display.Markdown object>"
      ]
     },
     "metadata": {},
     "output_type": "display_data"
    }
   ],
   "source": [
    "\n",
    "import sys\n",
    "import os\n",
    "sys.path.append(os.path.abspath('../../../../scripts/'))\n",
    "from data_doc_helper import LPSDataSet as DS, last_modified\n",
    "API_KEY = os.environ['FASTAPI_KEY']\n",
    "ds = DS(\"MCS\", \"mcs1_parent_derived\")\n",
    "last_modified()\n"
   ]
  },
  {
   "cell_type": "markdown",
   "id": "9f682cf9",
   "metadata": {},
   "source": [
    "## 1. Summary"
   ]
  },
  {
   "cell_type": "code",
   "execution_count": 2,
   "id": "6cc58ae1",
   "metadata": {
    "execution": {
     "iopub.execute_input": "2025-07-18T09:48:06.579376Z",
     "iopub.status.busy": "2025-07-18T09:48:06.578377Z",
     "iopub.status.idle": "2025-07-18T09:48:06.585712Z",
     "shell.execute_reply": "2025-07-18T09:48:06.584702Z"
    },
    "tags": [
     "remove-input"
    ]
   },
   "outputs": [
    {
     "data": {
      "text/markdown": [
       "This dataset contains derived variables relating to parent respondents at sweep 1, including ethnic group categories, education, NS-SEC categories for current and last known jobs, height, weight and BMI "
      ],
      "text/plain": [
       "<IPython.core.display.Markdown object>"
      ]
     },
     "metadata": {},
     "output_type": "display_data"
    }
   ],
   "source": [
    "ds.summary()"
   ]
  },
  {
   "cell_type": "code",
   "execution_count": 3,
   "id": "6c32d58d",
   "metadata": {
    "execution": {
     "iopub.execute_input": "2025-07-18T09:48:06.589708Z",
     "iopub.status.busy": "2025-07-18T09:48:06.589708Z",
     "iopub.status.idle": "2025-07-18T09:48:07.659645Z",
     "shell.execute_reply": "2025-07-18T09:48:07.657637Z"
    },
    "tags": [
     "remove-input"
    ]
   },
   "outputs": [
    {
     "data": {
      "text/html": [
       "<style type=\"text/css\">\n",
       "#T_79a35 th {\n",
       "  text-align: left;\n",
       "}\n",
       "#T_79a35_row0_col0, #T_79a35_row0_col1, #T_79a35_row1_col0, #T_79a35_row1_col1, #T_79a35_row2_col0, #T_79a35_row2_col1, #T_79a35_row3_col0, #T_79a35_row3_col1, #T_79a35_row4_col0, #T_79a35_row4_col1, #T_79a35_row5_col0, #T_79a35_row5_col1, #T_79a35_row6_col0, #T_79a35_row6_col1, #T_79a35_row7_col0, #T_79a35_row7_col1, #T_79a35_row8_col0, #T_79a35_row8_col1, #T_79a35_row9_col0, #T_79a35_row9_col1, #T_79a35_row10_col0, #T_79a35_row10_col1, #T_79a35_row11_col0, #T_79a35_row11_col1, #T_79a35_row12_col0, #T_79a35_row12_col1 {\n",
       "  text-align: left;\n",
       "}\n",
       "</style>\n",
       "<table id=\"T_79a35\" style=\"font-size: 14px\">\n",
       "  <thead>\n",
       "    <tr>\n",
       "      <th id=\"T_79a35_level0_col0\" class=\"col_heading level0 col0\" >Dataset Descriptor</th>\n",
       "      <th id=\"T_79a35_level0_col1\" class=\"col_heading level0 col1\" >Dataset-specific Information</th>\n",
       "    </tr>\n",
       "  </thead>\n",
       "  <tbody>\n",
       "    <tr>\n",
       "      <td id=\"T_79a35_row0_col0\" class=\"data row0 col0\" >Name of Dataset in TRE</td>\n",
       "      <td id=\"T_79a35_row0_col1\" class=\"data row0 col1\" >MCS_mcs1_parent_derived</td>\n",
       "    </tr>\n",
       "    <tr>\n",
       "      <td id=\"T_79a35_row1_col0\" class=\"data row1 col0\" >Citation (APA)</td>\n",
       "      <td id=\"T_79a35_row1_col1\" class=\"data row1 col1\" >University College London, UCL Social Research Institute, Centre for Longitudinal Studies. (2021). <i>Millennium Cohort Study (MCS): MCS1 Parent Derived.</i> UK Longitudinal Linkage Collaboration (UK LLC).  <a href=\"https://doi.org/10.83126/ukllc-dataset-00246-01\" rel=\"noopener noreferrer\" target=\"_blank\">https://doi.org/10.83126/ukllc-dataset-00246-01</a></td>\n",
       "    </tr>\n",
       "    <tr>\n",
       "      <td id=\"T_79a35_row2_col0\" class=\"data row2 col0\" >Download Citation</td>\n",
       "      <td id=\"T_79a35_row2_col1\" class=\"data row2 col1\" > <a href=\"https://api.test.datacite.org/application/vnd.citationstyles.csl+json/10.83126/ukllc-dataset-00246-01\" rel=\"noopener noreferrer\" target=\"_blank\">Citeproc JSON</a>&nbsp;&nbsp;&nbsp;&nbsp; <a href=\"https://api.test.datacite.org/application/x-bibtex/10.83126/ukllc-dataset-00246-01\" rel=\"noopener noreferrer\" target=\"_blank\">BibTeX</a>&nbsp;&nbsp;&nbsp;&nbsp; <a href=\"https://api.test.datacite.org/application/x-research-info-systems/10.83126/ukllc-dataset-00246-01\" rel=\"noopener noreferrer\" target=\"_blank\">RIS</a></td>\n",
       "    </tr>\n",
       "    <tr>\n",
       "      <td id=\"T_79a35_row3_col0\" class=\"data row3 col0\" >Series</td>\n",
       "      <td id=\"T_79a35_row3_col1\" class=\"data row3 col1\" > <a href=\"https://guidebook.ukllc.ac.uk/docs/lps/lps%20profiles/MCS\">Millennium Cohort Study (MCS)</a></td>\n",
       "    </tr>\n",
       "    <tr>\n",
       "      <td id=\"T_79a35_row4_col0\" class=\"data row4 col0\" >Owner</td>\n",
       "      <td id=\"T_79a35_row4_col1\" class=\"data row4 col1\" >UCL</td>\n",
       "    </tr>\n",
       "    <tr>\n",
       "      <td id=\"T_79a35_row5_col0\" class=\"data row5 col0\" >Temporal Coverage</td>\n",
       "      <td id=\"T_79a35_row5_col1\" class=\"data row5 col1\" >06/2001 - 01/2003</td>\n",
       "    </tr>\n",
       "    <tr>\n",
       "      <td id=\"T_79a35_row6_col0\" class=\"data row6 col0\" >Keywords</td>\n",
       "      <td id=\"T_79a35_row6_col1\" class=\"data row6 col1\" >Pregnancy outcome,health,Birth characteristics,Family life</td>\n",
       "    </tr>\n",
       "    <tr>\n",
       "      <td id=\"T_79a35_row7_col0\" class=\"data row7 col0\" >Participants Invited</td>\n",
       "      <td id=\"T_79a35_row7_col1\" class=\"data row7 col1\" >18552</td>\n",
       "    </tr>\n",
       "    <tr>\n",
       "      <td id=\"T_79a35_row8_col0\" class=\"data row8 col0\" >Participant Count</td>\n",
       "      <td id=\"T_79a35_row8_col1\" class=\"data row8 col1\" >16925</td>\n",
       "    </tr>\n",
       "    <tr>\n",
       "      <td id=\"T_79a35_row9_col0\" class=\"data row9 col0\" >Number of variables</td>\n",
       "      <td id=\"T_79a35_row9_col1\" class=\"data row9 col1\" >41</td>\n",
       "    </tr>\n",
       "    <tr>\n",
       "      <td id=\"T_79a35_row10_col0\" class=\"data row10 col0\" >Number of observations</td>\n",
       "      <td id=\"T_79a35_row10_col1\" class=\"data row10 col1\" >33884</td>\n",
       "    </tr>\n",
       "    <tr>\n",
       "      <td id=\"T_79a35_row11_col0\" class=\"data row11 col0\" >Specific Restrictions to Data Use</td>\n",
       "      <td id=\"T_79a35_row11_col1\" class=\"data row11 col1\" >None</td>\n",
       "    </tr>\n",
       "    <tr>\n",
       "      <td id=\"T_79a35_row12_col0\" class=\"data row12 col0\" >Build a Data Request</td>\n",
       "      <td id=\"T_79a35_row12_col1\" class=\"data row12 col1\" > <a href=\"https://explore.ukllc.ac.uk/\" rel=\"noopener noreferrer\" target=\"_blank\">https://explore.ukllc.ac.uk/</a></td>\n",
       "    </tr>\n",
       "  </tbody>\n",
       "</table>\n"
      ],
      "text/plain": [
       "<pandas.io.formats.style.Styler at 0x21f947c05f0>"
      ]
     },
     "execution_count": 3,
     "metadata": {},
     "output_type": "execute_result"
    }
   ],
   "source": [
    "ds.info_table()"
   ]
  },
  {
   "cell_type": "markdown",
   "id": "056d0bee",
   "metadata": {},
   "source": [
    "## 2. Version History"
   ]
  },
  {
   "cell_type": "code",
   "execution_count": 4,
   "id": "441de200",
   "metadata": {
    "execution": {
     "iopub.execute_input": "2025-07-18T09:48:07.666644Z",
     "iopub.status.busy": "2025-07-18T09:48:07.665645Z",
     "iopub.status.idle": "2025-07-18T09:48:10.630662Z",
     "shell.execute_reply": "2025-07-18T09:48:10.629237Z"
    },
    "tags": [
     "remove-input"
    ]
   },
   "outputs": [
    {
     "data": {
      "text/html": [
       "<style type=\"text/css\">\n",
       "#T_6c70d th {\n",
       "  text-align: left;\n",
       "}\n",
       "#T_6c70d_row0_col0, #T_6c70d_row0_col1, #T_6c70d_row1_col0, #T_6c70d_row1_col1, #T_6c70d_row2_col0, #T_6c70d_row2_col1, #T_6c70d_row3_col0, #T_6c70d_row3_col1, #T_6c70d_row4_col0, #T_6c70d_row4_col1 {\n",
       "  text-align: left;\n",
       "}\n",
       "</style>\n",
       "<table id=\"T_6c70d\" style=\"font-size: 14px\">\n",
       "  <thead>\n",
       "    <tr>\n",
       "      <th id=\"T_6c70d_level0_col0\" class=\"col_heading level0 col0\" >Version</th>\n",
       "      <th id=\"T_6c70d_level0_col1\" class=\"col_heading level0 col1\" >1</th>\n",
       "    </tr>\n",
       "  </thead>\n",
       "  <tbody>\n",
       "    <tr>\n",
       "      <td id=\"T_6c70d_row0_col0\" class=\"data row0 col0\" >Version Date</td>\n",
       "      <td id=\"T_6c70d_row0_col1\" class=\"data row0 col1\" >01 Nov 2021</td>\n",
       "    </tr>\n",
       "    <tr>\n",
       "      <td id=\"T_6c70d_row1_col0\" class=\"data row1 col0\" >Number of Variables</td>\n",
       "      <td id=\"T_6c70d_row1_col1\" class=\"data row1 col1\" >41</td>\n",
       "    </tr>\n",
       "    <tr>\n",
       "      <td id=\"T_6c70d_row2_col0\" class=\"data row2 col0\" >Number of Observations</td>\n",
       "      <td id=\"T_6c70d_row2_col1\" class=\"data row2 col1\" >33884</td>\n",
       "    </tr>\n",
       "    <tr>\n",
       "      <td id=\"T_6c70d_row3_col0\" class=\"data row3 col0\" >DOI</td>\n",
       "      <td id=\"T_6c70d_row3_col1\" class=\"data row3 col1\" > <a href=\"https://doi.org/10.83126/ukllc-dataset-00246-01\" rel=\"noopener noreferrer\" target=\"_blank\">10.83126/ukllc-dataset-00246-01</a></td>\n",
       "    </tr>\n",
       "    <tr>\n",
       "      <td id=\"T_6c70d_row4_col0\" class=\"data row4 col0\" >Change Log</td>\n",
       "      <td id=\"T_6c70d_row4_col1\" class=\"data row4 col1\" > <a href=\"https://api.test.datacite.org/dois/10.83126/ukllc-dataset-00246-01/activities\" rel=\"noopener noreferrer\" target=\"_blank\">10.83126/ukllc-dataset-00246-01/activities</a></td>\n",
       "    </tr>\n",
       "  </tbody>\n",
       "</table>\n"
      ],
      "text/plain": [
       "<pandas.io.formats.style.Styler at 0x21f9a1513d0>"
      ]
     },
     "execution_count": 4,
     "metadata": {},
     "output_type": "execute_result"
    }
   ],
   "source": [
    "ds.version_history()"
   ]
  },
  {
   "cell_type": "markdown",
   "id": "21178ebe",
   "metadata": {},
   "source": [
    "## 3. Documentation"
   ]
  },
  {
   "cell_type": "code",
   "execution_count": 5,
   "id": "8d35bc18",
   "metadata": {
    "execution": {
     "iopub.execute_input": "2025-07-18T09:48:10.637677Z",
     "iopub.status.busy": "2025-07-18T09:48:10.636677Z",
     "iopub.status.idle": "2025-07-18T09:48:10.648625Z",
     "shell.execute_reply": "2025-07-18T09:48:10.646955Z"
    },
    "tags": [
     "remove-input"
    ]
   },
   "outputs": [
    {
     "data": {
      "text/markdown": [
       "We are currently building a documentation storage system which will host useful documents related to datasets and data owners. We will surface these documents on Guidebook."
      ],
      "text/plain": [
       "<IPython.core.display.Markdown object>"
      ]
     },
     "metadata": {},
     "output_type": "display_data"
    }
   ],
   "source": [
    "ds.documentation()"
   ]
  },
  {
   "cell_type": "markdown",
   "id": "550c8451",
   "metadata": {},
   "source": [
    "## 4. Useful Syntax"
   ]
  },
  {
   "cell_type": "code",
   "execution_count": 6,
   "id": "bcae9226",
   "metadata": {
    "execution": {
     "iopub.execute_input": "2025-07-18T09:48:10.652640Z",
     "iopub.status.busy": "2025-07-18T09:48:10.652640Z",
     "iopub.status.idle": "2025-07-18T09:48:10.658154Z",
     "shell.execute_reply": "2025-07-18T09:48:10.657641Z"
    },
    "tags": [
     "remove-input"
    ]
   },
   "outputs": [
    {
     "data": {
      "text/markdown": [
       "Below we will include syntax that may be helpful to other researchers in the UK LLC TRE. For longer scripts, we will include a snippet of the code plus a link to Git where you can find the full scripts."
      ],
      "text/plain": [
       "<IPython.core.display.Markdown object>"
      ]
     },
     "metadata": {},
     "output_type": "display_data"
    }
   ],
   "source": [
    "ds.useful_syntax()"
   ]
  }
 ],
 "metadata": {
  "language_info": {
   "codemirror_mode": {
    "name": "ipython",
    "version": 3
   },
   "file_extension": ".py",
   "mimetype": "text/x-python",
   "name": "python",
   "nbconvert_exporter": "python",
   "pygments_lexer": "ipython3",
   "version": "3.12.7"
  }
 },
 "nbformat": 4,
 "nbformat_minor": 5
}
