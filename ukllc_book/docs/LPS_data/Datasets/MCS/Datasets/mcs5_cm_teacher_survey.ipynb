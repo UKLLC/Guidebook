{
 "cells": [
  {
   "cell_type": "markdown",
   "id": "9157e3b6",
   "metadata": {},
   "source": [
    "# MCS5 Cohort Member Teacher Survey (MCS)"
   ]
  },
  {
   "cell_type": "code",
   "execution_count": 1,
   "id": "1d6cf4cd",
   "metadata": {
    "execution": {
     "iopub.execute_input": "2025-07-28T19:32:28.382981Z",
     "iopub.status.busy": "2025-07-28T19:32:28.381982Z",
     "iopub.status.idle": "2025-07-28T19:32:40.344064Z",
     "shell.execute_reply": "2025-07-28T19:32:40.343034Z"
    },
    "tags": [
     "remove-input"
    ]
   },
   "outputs": [
    {
     "data": {
      "text/markdown": [
       ">Last modified: 28 Jul 2025"
      ],
      "text/plain": [
       "<IPython.core.display.Markdown object>"
      ]
     },
     "metadata": {},
     "output_type": "display_data"
    }
   ],
   "source": [
    "\n",
    "import sys\n",
    "import os\n",
    "sys.path.append(os.path.abspath('../../../../scripts/'))\n",
    "from data_doc_helper import LPSDataSet as DS, last_modified\n",
    "API_KEY = os.environ['FASTAPI_KEY']\n",
    "ds = DS(\"MCS\", \"mcs5_cm_teacher_survey\")\n",
    "last_modified()\n"
   ]
  },
  {
   "cell_type": "markdown",
   "id": "d2ccfc93",
   "metadata": {},
   "source": [
    "## 1. Summary"
   ]
  },
  {
   "cell_type": "code",
   "execution_count": 2,
   "id": "e677a600",
   "metadata": {
    "execution": {
     "iopub.execute_input": "2025-07-28T19:32:40.353060Z",
     "iopub.status.busy": "2025-07-28T19:32:40.352058Z",
     "iopub.status.idle": "2025-07-28T19:32:40.363013Z",
     "shell.execute_reply": "2025-07-28T19:32:40.361988Z"
    },
    "tags": [
     "remove-input"
    ]
   },
   "outputs": [
    {
     "data": {
      "text/markdown": [
       "This dataset contains data provided by the cohort member's school teacher at sweep 5 about the cohort member, their class, the teacher's own qualifications and experience, and the teacher-reported child SDQ."
      ],
      "text/plain": [
       "<IPython.core.display.Markdown object>"
      ]
     },
     "metadata": {},
     "output_type": "display_data"
    }
   ],
   "source": [
    "ds.summary()"
   ]
  },
  {
   "cell_type": "code",
   "execution_count": 3,
   "id": "891017c9",
   "metadata": {
    "execution": {
     "iopub.execute_input": "2025-07-28T19:32:40.369020Z",
     "iopub.status.busy": "2025-07-28T19:32:40.368023Z",
     "iopub.status.idle": "2025-07-28T19:32:42.395054Z",
     "shell.execute_reply": "2025-07-28T19:32:42.387742Z"
    },
    "tags": [
     "remove-input"
    ]
   },
   "outputs": [
    {
     "data": {
      "text/html": [
       "<style type=\"text/css\">\n",
       "#T_3f3e6 th {\n",
       "  text-align: left;\n",
       "}\n",
       "#T_3f3e6_row0_col0, #T_3f3e6_row0_col1, #T_3f3e6_row1_col0, #T_3f3e6_row1_col1, #T_3f3e6_row2_col0, #T_3f3e6_row2_col1, #T_3f3e6_row3_col0, #T_3f3e6_row3_col1, #T_3f3e6_row4_col0, #T_3f3e6_row4_col1, #T_3f3e6_row5_col0, #T_3f3e6_row5_col1, #T_3f3e6_row6_col0, #T_3f3e6_row6_col1, #T_3f3e6_row7_col0, #T_3f3e6_row7_col1, #T_3f3e6_row8_col0, #T_3f3e6_row8_col1, #T_3f3e6_row9_col0, #T_3f3e6_row9_col1, #T_3f3e6_row10_col0, #T_3f3e6_row10_col1, #T_3f3e6_row11_col0, #T_3f3e6_row11_col1, #T_3f3e6_row12_col0, #T_3f3e6_row12_col1 {\n",
       "  text-align: left;\n",
       "}\n",
       "</style>\n",
       "<table id=\"T_3f3e6\" style=\"font-size: 14px\">\n",
       "  <thead>\n",
       "    <tr>\n",
       "      <th id=\"T_3f3e6_level0_col0\" class=\"col_heading level0 col0\" >Dataset Descriptor</th>\n",
       "      <th id=\"T_3f3e6_level0_col1\" class=\"col_heading level0 col1\" >Dataset-specific Information</th>\n",
       "    </tr>\n",
       "  </thead>\n",
       "  <tbody>\n",
       "    <tr>\n",
       "      <td id=\"T_3f3e6_row0_col0\" class=\"data row0 col0\" >Name of Dataset in TRE</td>\n",
       "      <td id=\"T_3f3e6_row0_col1\" class=\"data row0 col1\" >MCS_mcs5_cm_teacher_survey</td>\n",
       "    </tr>\n",
       "    <tr>\n",
       "      <td id=\"T_3f3e6_row1_col0\" class=\"data row1 col0\" >Citation (APA)</td>\n",
       "      <td id=\"T_3f3e6_row1_col1\" class=\"data row1 col1\" >University College London, UCL Social Research Institute, Centre for Longitudinal Studies. (2021). <i>Millennium Cohort Study (MCS): MCS5 Cohort Member Teacher Survey.</i> UK Longitudinal Linkage Collaboration (UK LLC).  <a href=\"https://doi.org/10.71760/ukllc-dataset-00205-01\" rel=\"noopener noreferrer\" target=\"_blank\">https://doi.org/10.71760/ukllc-dataset-00205-01</a></td>\n",
       "    </tr>\n",
       "    <tr>\n",
       "      <td id=\"T_3f3e6_row2_col0\" class=\"data row2 col0\" >Download Citation</td>\n",
       "      <td id=\"T_3f3e6_row2_col1\" class=\"data row2 col1\" > <a href=\"https://api.datacite.org/application/vnd.citationstyles.csl+json/10.71760/ukllc-dataset-00205-01\" rel=\"noopener noreferrer\" target=\"_blank\">Citeproc JSON</a>&nbsp;&nbsp;&nbsp;&nbsp; <a href=\"https://api.datacite.org/application/x-bibtex/10.71760/ukllc-dataset-00205-01\" rel=\"noopener noreferrer\" target=\"_blank\">BibTeX</a>&nbsp;&nbsp;&nbsp;&nbsp; <a href=\"https://api.datacite.org/application/x-research-info-systems/10.71760/ukllc-dataset-00205-01\" rel=\"noopener noreferrer\" target=\"_blank\">RIS</a></td>\n",
       "    </tr>\n",
       "    <tr>\n",
       "      <td id=\"T_3f3e6_row3_col0\" class=\"data row3 col0\" >Series</td>\n",
       "      <td id=\"T_3f3e6_row3_col1\" class=\"data row3 col1\" > <a href=\"https://guidebook.ukllc.ac.uk/docs/lps_data/lps%20profiles/MCS\">Millennium Cohort Study (MCS)</a></td>\n",
       "    </tr>\n",
       "    <tr>\n",
       "      <td id=\"T_3f3e6_row4_col0\" class=\"data row4 col0\" >Owner</td>\n",
       "      <td id=\"T_3f3e6_row4_col1\" class=\"data row4 col1\" >UCL</td>\n",
       "    </tr>\n",
       "    <tr>\n",
       "      <td id=\"T_3f3e6_row5_col0\" class=\"data row5 col0\" >Temporal Coverage</td>\n",
       "      <td id=\"T_3f3e6_row5_col1\" class=\"data row5 col1\" >01/2012 - 02/2013</td>\n",
       "    </tr>\n",
       "    <tr>\n",
       "      <td id=\"T_3f3e6_row6_col0\" class=\"data row6 col0\" >Keywords</td>\n",
       "      <td id=\"T_3f3e6_row6_col1\" class=\"data row6 col1\" >Health,Education,Family life,Employment,Attitudes</td>\n",
       "    </tr>\n",
       "    <tr>\n",
       "      <td id=\"T_3f3e6_row7_col0\" class=\"data row7 col0\" >Participants Invited</td>\n",
       "      <td id=\"T_3f3e6_row7_col1\" class=\"data row7 col1\" >13287</td>\n",
       "    </tr>\n",
       "    <tr>\n",
       "      <td id=\"T_3f3e6_row8_col0\" class=\"data row8 col0\" >Participant Count</td>\n",
       "      <td id=\"T_3f3e6_row8_col1\" class=\"data row8 col1\" >9149</td>\n",
       "    </tr>\n",
       "    <tr>\n",
       "      <td id=\"T_3f3e6_row9_col0\" class=\"data row9 col0\" >Number of variables</td>\n",
       "      <td id=\"T_3f3e6_row9_col1\" class=\"data row9 col1\" >216</td>\n",
       "    </tr>\n",
       "    <tr>\n",
       "      <td id=\"T_3f3e6_row10_col0\" class=\"data row10 col0\" >Number of observations</td>\n",
       "      <td id=\"T_3f3e6_row10_col1\" class=\"data row10 col1\" >13447</td>\n",
       "    </tr>\n",
       "    <tr>\n",
       "      <td id=\"T_3f3e6_row11_col0\" class=\"data row11 col0\" >Specific Restrictions to Data Use</td>\n",
       "      <td id=\"T_3f3e6_row11_col1\" class=\"data row11 col1\" >None</td>\n",
       "    </tr>\n",
       "    <tr>\n",
       "      <td id=\"T_3f3e6_row12_col0\" class=\"data row12 col0\" >Build a Data Request</td>\n",
       "      <td id=\"T_3f3e6_row12_col1\" class=\"data row12 col1\" > <a href=\"https://explore.ukllc.ac.uk/\" rel=\"noopener noreferrer\" target=\"_blank\">https://explore.ukllc.ac.uk/</a></td>\n",
       "    </tr>\n",
       "  </tbody>\n",
       "</table>\n"
      ],
      "text/plain": [
       "<pandas.io.formats.style.Styler at 0x17f4c6bf170>"
      ]
     },
     "execution_count": 3,
     "metadata": {},
     "output_type": "execute_result"
    }
   ],
   "source": [
    "ds.info_table()"
   ]
  },
  {
   "cell_type": "markdown",
   "id": "0eef2268",
   "metadata": {},
   "source": [
    "## 2. Version History"
   ]
  },
  {
   "cell_type": "code",
   "execution_count": 4,
   "id": "d8d2fe6a",
   "metadata": {
    "execution": {
     "iopub.execute_input": "2025-07-28T19:32:42.405358Z",
     "iopub.status.busy": "2025-07-28T19:32:42.404381Z",
     "iopub.status.idle": "2025-07-28T19:32:47.727069Z",
     "shell.execute_reply": "2025-07-28T19:32:47.725018Z"
    },
    "tags": [
     "remove-input"
    ]
   },
   "outputs": [
    {
     "data": {
      "text/html": [
       "<style type=\"text/css\">\n",
       "#T_8b5ae th {\n",
       "  text-align: left;\n",
       "}\n",
       "#T_8b5ae_row0_col0, #T_8b5ae_row0_col1, #T_8b5ae_row1_col0, #T_8b5ae_row1_col1, #T_8b5ae_row2_col0, #T_8b5ae_row2_col1, #T_8b5ae_row3_col0, #T_8b5ae_row3_col1, #T_8b5ae_row4_col0, #T_8b5ae_row4_col1 {\n",
       "  text-align: left;\n",
       "}\n",
       "</style>\n",
       "<table id=\"T_8b5ae\" style=\"font-size: 14px\">\n",
       "  <thead>\n",
       "    <tr>\n",
       "      <th id=\"T_8b5ae_level0_col0\" class=\"col_heading level0 col0\" >Version</th>\n",
       "      <th id=\"T_8b5ae_level0_col1\" class=\"col_heading level0 col1\" >1</th>\n",
       "    </tr>\n",
       "  </thead>\n",
       "  <tbody>\n",
       "    <tr>\n",
       "      <td id=\"T_8b5ae_row0_col0\" class=\"data row0 col0\" >Version Date</td>\n",
       "      <td id=\"T_8b5ae_row0_col1\" class=\"data row0 col1\" >01 Nov 2021</td>\n",
       "    </tr>\n",
       "    <tr>\n",
       "      <td id=\"T_8b5ae_row1_col0\" class=\"data row1 col0\" >Number of Variables</td>\n",
       "      <td id=\"T_8b5ae_row1_col1\" class=\"data row1 col1\" >216</td>\n",
       "    </tr>\n",
       "    <tr>\n",
       "      <td id=\"T_8b5ae_row2_col0\" class=\"data row2 col0\" >Number of Observations</td>\n",
       "      <td id=\"T_8b5ae_row2_col1\" class=\"data row2 col1\" >13447</td>\n",
       "    </tr>\n",
       "    <tr>\n",
       "      <td id=\"T_8b5ae_row3_col0\" class=\"data row3 col0\" >DOI</td>\n",
       "      <td id=\"T_8b5ae_row3_col1\" class=\"data row3 col1\" > <a href=\"https://doi.org/10.71760/ukllc-dataset-00205-01\" rel=\"noopener noreferrer\" target=\"_blank\">10.71760/ukllc-dataset-00205-01</a></td>\n",
       "    </tr>\n",
       "    <tr>\n",
       "      <td id=\"T_8b5ae_row4_col0\" class=\"data row4 col0\" >Change Log</td>\n",
       "      <td id=\"T_8b5ae_row4_col1\" class=\"data row4 col1\" > <a href=\"https://api.test.datacite.org/dois/10.71760/ukllc-dataset-00205-01/activities\" rel=\"noopener noreferrer\" target=\"_blank\">10.71760/ukllc-dataset-00205-01/activities</a></td>\n",
       "    </tr>\n",
       "  </tbody>\n",
       "</table>\n"
      ],
      "text/plain": [
       "<pandas.io.formats.style.Styler at 0x17f4e51c410>"
      ]
     },
     "execution_count": 4,
     "metadata": {},
     "output_type": "execute_result"
    }
   ],
   "source": [
    "ds.version_history()"
   ]
  },
  {
   "cell_type": "markdown",
   "id": "223906f6",
   "metadata": {},
   "source": [
    "## 3. Documentation"
   ]
  },
  {
   "cell_type": "code",
   "execution_count": 5,
   "id": "40994827",
   "metadata": {
    "execution": {
     "iopub.execute_input": "2025-07-28T19:32:47.736084Z",
     "iopub.status.busy": "2025-07-28T19:32:47.735084Z",
     "iopub.status.idle": "2025-07-28T19:32:47.750341Z",
     "shell.execute_reply": "2025-07-28T19:32:47.748930Z"
    },
    "tags": [
     "remove-input"
    ]
   },
   "outputs": [
    {
     "data": {
      "text/markdown": [
       "We are currently building a documentation storage system which will host useful documents related to datasets and data owners. We will surface these documents on Guidebook."
      ],
      "text/plain": [
       "<IPython.core.display.Markdown object>"
      ]
     },
     "metadata": {},
     "output_type": "display_data"
    }
   ],
   "source": [
    "ds.documentation()"
   ]
  },
  {
   "cell_type": "markdown",
   "id": "e729aadc",
   "metadata": {},
   "source": [
    "## 4. Useful Syntax"
   ]
  },
  {
   "cell_type": "code",
   "execution_count": 6,
   "id": "c92f6d3d",
   "metadata": {
    "execution": {
     "iopub.execute_input": "2025-07-28T19:32:47.758118Z",
     "iopub.status.busy": "2025-07-28T19:32:47.758118Z",
     "iopub.status.idle": "2025-07-28T19:32:47.769922Z",
     "shell.execute_reply": "2025-07-28T19:32:47.767635Z"
    },
    "tags": [
     "remove-input"
    ]
   },
   "outputs": [
    {
     "data": {
      "text/markdown": [
       "Below we will include syntax that may be helpful to other researchers in the UK LLC TRE. For longer scripts, we will include a snippet of the code plus a link to Git where you can find the full scripts."
      ],
      "text/plain": [
       "<IPython.core.display.Markdown object>"
      ]
     },
     "metadata": {},
     "output_type": "display_data"
    }
   ],
   "source": [
    "ds.useful_syntax()"
   ]
  }
 ],
 "metadata": {
  "language_info": {
   "codemirror_mode": {
    "name": "ipython",
    "version": 3
   },
   "file_extension": ".py",
   "mimetype": "text/x-python",
   "name": "python",
   "nbconvert_exporter": "python",
   "pygments_lexer": "ipython3",
   "version": "3.12.7"
  }
 },
 "nbformat": 4,
 "nbformat_minor": 5
}
