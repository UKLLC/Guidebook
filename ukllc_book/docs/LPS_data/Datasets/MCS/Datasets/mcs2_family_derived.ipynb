{
 "cells": [
  {
   "cell_type": "markdown",
   "id": "533274c8",
   "metadata": {},
   "source": [
    "# MCS2 Family Derived (MCS)"
   ]
  },
  {
   "cell_type": "code",
   "execution_count": 1,
   "id": "fb00d42f",
   "metadata": {
    "execution": {
     "iopub.execute_input": "2025-07-28T19:19:03.389691Z",
     "iopub.status.busy": "2025-07-28T19:19:03.389691Z",
     "iopub.status.idle": "2025-07-28T19:19:21.971072Z",
     "shell.execute_reply": "2025-07-28T19:19:21.969055Z"
    },
    "tags": [
     "remove-input"
    ]
   },
   "outputs": [
    {
     "data": {
      "text/markdown": [
       ">Last modified: 28 Jul 2025"
      ],
      "text/plain": [
       "<IPython.core.display.Markdown object>"
      ]
     },
     "metadata": {},
     "output_type": "display_data"
    }
   ],
   "source": [
    "\n",
    "import sys\n",
    "import os\n",
    "sys.path.append(os.path.abspath('../../../../scripts/'))\n",
    "from data_doc_helper import LPSDataSet as DS, last_modified\n",
    "API_KEY = os.environ['FASTAPI_KEY']\n",
    "ds = DS(\"MCS\", \"mcs2_family_derived\")\n",
    "last_modified()\n"
   ]
  },
  {
   "cell_type": "markdown",
   "id": "866af26d",
   "metadata": {},
   "source": [
    "## 1. Summary"
   ]
  },
  {
   "cell_type": "code",
   "execution_count": 2,
   "id": "f00e6248",
   "metadata": {
    "execution": {
     "iopub.execute_input": "2025-07-28T19:19:21.979032Z",
     "iopub.status.busy": "2025-07-28T19:19:21.978027Z",
     "iopub.status.idle": "2025-07-28T19:19:21.993401Z",
     "shell.execute_reply": "2025-07-28T19:19:21.991379Z"
    },
    "tags": [
     "remove-input"
    ]
   },
   "outputs": [
    {
     "data": {
      "text/markdown": [
       "This dataset contains variables relating to household composition, banded household income, OECD Equivalised income, housing tenure and other family level information at sweep 2"
      ],
      "text/plain": [
       "<IPython.core.display.Markdown object>"
      ]
     },
     "metadata": {},
     "output_type": "display_data"
    }
   ],
   "source": [
    "ds.summary()"
   ]
  },
  {
   "cell_type": "code",
   "execution_count": 3,
   "id": "d0a48a4a",
   "metadata": {
    "execution": {
     "iopub.execute_input": "2025-07-28T19:19:22.001441Z",
     "iopub.status.busy": "2025-07-28T19:19:22.001441Z",
     "iopub.status.idle": "2025-07-28T19:19:23.764834Z",
     "shell.execute_reply": "2025-07-28T19:19:23.762816Z"
    },
    "tags": [
     "remove-input"
    ]
   },
   "outputs": [
    {
     "data": {
      "text/html": [
       "<style type=\"text/css\">\n",
       "#T_c1261 th {\n",
       "  text-align: left;\n",
       "}\n",
       "#T_c1261_row0_col0, #T_c1261_row0_col1, #T_c1261_row1_col0, #T_c1261_row1_col1, #T_c1261_row2_col0, #T_c1261_row2_col1, #T_c1261_row3_col0, #T_c1261_row3_col1, #T_c1261_row4_col0, #T_c1261_row4_col1, #T_c1261_row5_col0, #T_c1261_row5_col1, #T_c1261_row6_col0, #T_c1261_row6_col1, #T_c1261_row7_col0, #T_c1261_row7_col1, #T_c1261_row8_col0, #T_c1261_row8_col1, #T_c1261_row9_col0, #T_c1261_row9_col1, #T_c1261_row10_col0, #T_c1261_row10_col1, #T_c1261_row11_col0, #T_c1261_row11_col1, #T_c1261_row12_col0, #T_c1261_row12_col1 {\n",
       "  text-align: left;\n",
       "}\n",
       "</style>\n",
       "<table id=\"T_c1261\" style=\"font-size: 14px\">\n",
       "  <thead>\n",
       "    <tr>\n",
       "      <th id=\"T_c1261_level0_col0\" class=\"col_heading level0 col0\" >Dataset Descriptor</th>\n",
       "      <th id=\"T_c1261_level0_col1\" class=\"col_heading level0 col1\" >Dataset-specific Information</th>\n",
       "    </tr>\n",
       "  </thead>\n",
       "  <tbody>\n",
       "    <tr>\n",
       "      <td id=\"T_c1261_row0_col0\" class=\"data row0 col0\" >Name of Dataset in TRE</td>\n",
       "      <td id=\"T_c1261_row0_col1\" class=\"data row0 col1\" >MCS_mcs2_family_derived</td>\n",
       "    </tr>\n",
       "    <tr>\n",
       "      <td id=\"T_c1261_row1_col0\" class=\"data row1 col0\" >Citation (APA)</td>\n",
       "      <td id=\"T_c1261_row1_col1\" class=\"data row1 col1\" >University College London, UCL Social Research Institute, Centre for Longitudinal Studies. (2021). <i>Millennium Cohort Study (MCS): MCS2 Family Derived.</i> UK Longitudinal Linkage Collaboration (UK LLC).  <a href=\"https://doi.org/10.71760/ukllc-dataset-00173-01\" rel=\"noopener noreferrer\" target=\"_blank\">https://doi.org/10.71760/ukllc-dataset-00173-01</a></td>\n",
       "    </tr>\n",
       "    <tr>\n",
       "      <td id=\"T_c1261_row2_col0\" class=\"data row2 col0\" >Download Citation</td>\n",
       "      <td id=\"T_c1261_row2_col1\" class=\"data row2 col1\" > <a href=\"https://api.datacite.org/application/vnd.citationstyles.csl+json/10.71760/ukllc-dataset-00173-01\" rel=\"noopener noreferrer\" target=\"_blank\">Citeproc JSON</a>&nbsp;&nbsp;&nbsp;&nbsp; <a href=\"https://api.datacite.org/application/x-bibtex/10.71760/ukllc-dataset-00173-01\" rel=\"noopener noreferrer\" target=\"_blank\">BibTeX</a>&nbsp;&nbsp;&nbsp;&nbsp; <a href=\"https://api.datacite.org/application/x-research-info-systems/10.71760/ukllc-dataset-00173-01\" rel=\"noopener noreferrer\" target=\"_blank\">RIS</a></td>\n",
       "    </tr>\n",
       "    <tr>\n",
       "      <td id=\"T_c1261_row3_col0\" class=\"data row3 col0\" >Series</td>\n",
       "      <td id=\"T_c1261_row3_col1\" class=\"data row3 col1\" > <a href=\"https://guidebook.ukllc.ac.uk/docs/lps_data/lps%20profiles/MCS\">Millennium Cohort Study (MCS)</a></td>\n",
       "    </tr>\n",
       "    <tr>\n",
       "      <td id=\"T_c1261_row4_col0\" class=\"data row4 col0\" >Owner</td>\n",
       "      <td id=\"T_c1261_row4_col1\" class=\"data row4 col1\" >UCL</td>\n",
       "    </tr>\n",
       "    <tr>\n",
       "      <td id=\"T_c1261_row5_col0\" class=\"data row5 col0\" >Temporal Coverage</td>\n",
       "      <td id=\"T_c1261_row5_col1\" class=\"data row5 col1\" >09/2003 - 04/2005</td>\n",
       "    </tr>\n",
       "    <tr>\n",
       "      <td id=\"T_c1261_row6_col0\" class=\"data row6 col0\" >Keywords</td>\n",
       "      <td id=\"T_c1261_row6_col1\" class=\"data row6 col1\" >Family Life,Health,employment,attitudes,Social mobility</td>\n",
       "    </tr>\n",
       "    <tr>\n",
       "      <td id=\"T_c1261_row7_col0\" class=\"data row7 col0\" >Participants Invited</td>\n",
       "      <td id=\"T_c1261_row7_col1\" class=\"data row7 col1\" >15590</td>\n",
       "    </tr>\n",
       "    <tr>\n",
       "      <td id=\"T_c1261_row8_col0\" class=\"data row8 col0\" >Participant Count</td>\n",
       "      <td id=\"T_c1261_row8_col1\" class=\"data row8 col1\" ></td>\n",
       "    </tr>\n",
       "    <tr>\n",
       "      <td id=\"T_c1261_row9_col0\" class=\"data row9 col0\" >Number of variables</td>\n",
       "      <td id=\"T_c1261_row9_col1\" class=\"data row9 col1\" >59</td>\n",
       "    </tr>\n",
       "    <tr>\n",
       "      <td id=\"T_c1261_row10_col0\" class=\"data row10 col0\" >Number of observations</td>\n",
       "      <td id=\"T_c1261_row10_col1\" class=\"data row10 col1\" >47991</td>\n",
       "    </tr>\n",
       "    <tr>\n",
       "      <td id=\"T_c1261_row11_col0\" class=\"data row11 col0\" >Specific Restrictions to Data Use</td>\n",
       "      <td id=\"T_c1261_row11_col1\" class=\"data row11 col1\" >None</td>\n",
       "    </tr>\n",
       "    <tr>\n",
       "      <td id=\"T_c1261_row12_col0\" class=\"data row12 col0\" >Build a Data Request</td>\n",
       "      <td id=\"T_c1261_row12_col1\" class=\"data row12 col1\" > <a href=\"https://explore.ukllc.ac.uk/\" rel=\"noopener noreferrer\" target=\"_blank\">https://explore.ukllc.ac.uk/</a></td>\n",
       "    </tr>\n",
       "  </tbody>\n",
       "</table>\n"
      ],
      "text/plain": [
       "<pandas.io.formats.style.Styler at 0x18bd31e9850>"
      ]
     },
     "execution_count": 3,
     "metadata": {},
     "output_type": "execute_result"
    }
   ],
   "source": [
    "ds.info_table()"
   ]
  },
  {
   "cell_type": "markdown",
   "id": "a0787e47",
   "metadata": {},
   "source": [
    "## 2. Version History"
   ]
  },
  {
   "cell_type": "code",
   "execution_count": 4,
   "id": "991c830b",
   "metadata": {
    "execution": {
     "iopub.execute_input": "2025-07-28T19:19:23.773350Z",
     "iopub.status.busy": "2025-07-28T19:19:23.771839Z",
     "iopub.status.idle": "2025-07-28T19:19:29.808084Z",
     "shell.execute_reply": "2025-07-28T19:19:29.806023Z"
    },
    "tags": [
     "remove-input"
    ]
   },
   "outputs": [
    {
     "data": {
      "text/html": [
       "<style type=\"text/css\">\n",
       "#T_35661 th {\n",
       "  text-align: left;\n",
       "}\n",
       "#T_35661_row0_col0, #T_35661_row0_col1, #T_35661_row1_col0, #T_35661_row1_col1, #T_35661_row2_col0, #T_35661_row2_col1, #T_35661_row3_col0, #T_35661_row3_col1, #T_35661_row4_col0, #T_35661_row4_col1 {\n",
       "  text-align: left;\n",
       "}\n",
       "</style>\n",
       "<table id=\"T_35661\" style=\"font-size: 14px\">\n",
       "  <thead>\n",
       "    <tr>\n",
       "      <th id=\"T_35661_level0_col0\" class=\"col_heading level0 col0\" >Version</th>\n",
       "      <th id=\"T_35661_level0_col1\" class=\"col_heading level0 col1\" >1</th>\n",
       "    </tr>\n",
       "  </thead>\n",
       "  <tbody>\n",
       "    <tr>\n",
       "      <td id=\"T_35661_row0_col0\" class=\"data row0 col0\" >Version Date</td>\n",
       "      <td id=\"T_35661_row0_col1\" class=\"data row0 col1\" >01 Nov 2021</td>\n",
       "    </tr>\n",
       "    <tr>\n",
       "      <td id=\"T_35661_row1_col0\" class=\"data row1 col0\" >Number of Variables</td>\n",
       "      <td id=\"T_35661_row1_col1\" class=\"data row1 col1\" >59</td>\n",
       "    </tr>\n",
       "    <tr>\n",
       "      <td id=\"T_35661_row2_col0\" class=\"data row2 col0\" >Number of Observations</td>\n",
       "      <td id=\"T_35661_row2_col1\" class=\"data row2 col1\" >47991</td>\n",
       "    </tr>\n",
       "    <tr>\n",
       "      <td id=\"T_35661_row3_col0\" class=\"data row3 col0\" >DOI</td>\n",
       "      <td id=\"T_35661_row3_col1\" class=\"data row3 col1\" > <a href=\"https://doi.org/10.71760/ukllc-dataset-00173-01\" rel=\"noopener noreferrer\" target=\"_blank\">10.71760/ukllc-dataset-00173-01</a></td>\n",
       "    </tr>\n",
       "    <tr>\n",
       "      <td id=\"T_35661_row4_col0\" class=\"data row4 col0\" >Change Log</td>\n",
       "      <td id=\"T_35661_row4_col1\" class=\"data row4 col1\" > <a href=\"https://api.test.datacite.org/dois/10.71760/ukllc-dataset-00173-01/activities\" rel=\"noopener noreferrer\" target=\"_blank\">10.71760/ukllc-dataset-00173-01/activities</a></td>\n",
       "    </tr>\n",
       "  </tbody>\n",
       "</table>\n"
      ],
      "text/plain": [
       "<pandas.io.formats.style.Styler at 0x18bd317e6c0>"
      ]
     },
     "execution_count": 4,
     "metadata": {},
     "output_type": "execute_result"
    }
   ],
   "source": [
    "ds.version_history()"
   ]
  },
  {
   "cell_type": "markdown",
   "id": "38f0ec67",
   "metadata": {},
   "source": [
    "## 3. Documentation"
   ]
  },
  {
   "cell_type": "code",
   "execution_count": 5,
   "id": "8a998837",
   "metadata": {
    "execution": {
     "iopub.execute_input": "2025-07-28T19:19:29.817181Z",
     "iopub.status.busy": "2025-07-28T19:19:29.816162Z",
     "iopub.status.idle": "2025-07-28T19:19:29.826044Z",
     "shell.execute_reply": "2025-07-28T19:19:29.825002Z"
    },
    "tags": [
     "remove-input"
    ]
   },
   "outputs": [
    {
     "data": {
      "text/markdown": [
       "We are currently building a documentation storage system which will host useful documents related to datasets and data owners. We will surface these documents on Guidebook."
      ],
      "text/plain": [
       "<IPython.core.display.Markdown object>"
      ]
     },
     "metadata": {},
     "output_type": "display_data"
    }
   ],
   "source": [
    "ds.documentation()"
   ]
  },
  {
   "cell_type": "markdown",
   "id": "b559f984",
   "metadata": {},
   "source": [
    "## 4. Useful Syntax"
   ]
  },
  {
   "cell_type": "code",
   "execution_count": 6,
   "id": "8155f056",
   "metadata": {
    "execution": {
     "iopub.execute_input": "2025-07-28T19:19:29.830581Z",
     "iopub.status.busy": "2025-07-28T19:19:29.830581Z",
     "iopub.status.idle": "2025-07-28T19:19:29.840534Z",
     "shell.execute_reply": "2025-07-28T19:19:29.838511Z"
    },
    "tags": [
     "remove-input"
    ]
   },
   "outputs": [
    {
     "data": {
      "text/markdown": [
       "Below we will include syntax that may be helpful to other researchers in the UK LLC TRE. For longer scripts, we will include a snippet of the code plus a link to Git where you can find the full scripts."
      ],
      "text/plain": [
       "<IPython.core.display.Markdown object>"
      ]
     },
     "metadata": {},
     "output_type": "display_data"
    }
   ],
   "source": [
    "ds.useful_syntax()"
   ]
  }
 ],
 "metadata": {
  "language_info": {
   "codemirror_mode": {
    "name": "ipython",
    "version": 3
   },
   "file_extension": ".py",
   "mimetype": "text/x-python",
   "name": "python",
   "nbconvert_exporter": "python",
   "pygments_lexer": "ipython3",
   "version": "3.12.7"
  }
 },
 "nbformat": 4,
 "nbformat_minor": 5
}
