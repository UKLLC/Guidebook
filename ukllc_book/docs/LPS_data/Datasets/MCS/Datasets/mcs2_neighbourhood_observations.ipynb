{
 "cells": [
  {
   "cell_type": "markdown",
   "id": "2396182e",
   "metadata": {},
   "source": [
    "# MCS2 Neighbourhood Observations (MCS)"
   ]
  },
  {
   "cell_type": "code",
   "execution_count": 1,
   "id": "83765207",
   "metadata": {
    "execution": {
     "iopub.execute_input": "2025-07-18T09:49:54.744188Z",
     "iopub.status.busy": "2025-07-18T09:49:54.744188Z",
     "iopub.status.idle": "2025-07-18T09:50:01.064349Z",
     "shell.execute_reply": "2025-07-18T09:50:01.062828Z"
    },
    "tags": [
     "remove-input"
    ]
   },
   "outputs": [
    {
     "data": {
      "text/markdown": [
       ">Last modified: 18 Jul 2025"
      ],
      "text/plain": [
       "<IPython.core.display.Markdown object>"
      ]
     },
     "metadata": {},
     "output_type": "display_data"
    }
   ],
   "source": [
    "\n",
    "import sys\n",
    "import os\n",
    "sys.path.append(os.path.abspath('../../../../scripts/'))\n",
    "from data_doc_helper import LPSDataSet as DS, last_modified\n",
    "API_KEY = os.environ['FASTAPI_KEY']\n",
    "ds = DS(\"MCS\", \"mcs2_neighbourhood_observations\")\n",
    "last_modified()\n"
   ]
  },
  {
   "cell_type": "markdown",
   "id": "d6204d87",
   "metadata": {},
   "source": [
    "## 1. Summary"
   ]
  },
  {
   "cell_type": "code",
   "execution_count": 2,
   "id": "d9c19a18",
   "metadata": {
    "execution": {
     "iopub.execute_input": "2025-07-18T09:50:01.069346Z",
     "iopub.status.busy": "2025-07-18T09:50:01.069346Z",
     "iopub.status.idle": "2025-07-18T09:50:01.078779Z",
     "shell.execute_reply": "2025-07-18T09:50:01.076773Z"
    },
    "tags": [
     "remove-input"
    ]
   },
   "outputs": [
    {
     "data": {
      "text/markdown": [
       "Interviewer observations about the local neighbourhood surrounding the address being visited for the sweep 2 interview"
      ],
      "text/plain": [
       "<IPython.core.display.Markdown object>"
      ]
     },
     "metadata": {},
     "output_type": "display_data"
    }
   ],
   "source": [
    "ds.summary()"
   ]
  },
  {
   "cell_type": "code",
   "execution_count": 3,
   "id": "5e92a282",
   "metadata": {
    "execution": {
     "iopub.execute_input": "2025-07-18T09:50:01.084870Z",
     "iopub.status.busy": "2025-07-18T09:50:01.083863Z",
     "iopub.status.idle": "2025-07-18T09:50:02.175862Z",
     "shell.execute_reply": "2025-07-18T09:50:02.173848Z"
    },
    "tags": [
     "remove-input"
    ]
   },
   "outputs": [
    {
     "data": {
      "text/html": [
       "<style type=\"text/css\">\n",
       "#T_2e97c th {\n",
       "  text-align: left;\n",
       "}\n",
       "#T_2e97c_row0_col0, #T_2e97c_row0_col1, #T_2e97c_row1_col0, #T_2e97c_row1_col1, #T_2e97c_row2_col0, #T_2e97c_row2_col1, #T_2e97c_row3_col0, #T_2e97c_row3_col1, #T_2e97c_row4_col0, #T_2e97c_row4_col1, #T_2e97c_row5_col0, #T_2e97c_row5_col1, #T_2e97c_row6_col0, #T_2e97c_row6_col1, #T_2e97c_row7_col0, #T_2e97c_row7_col1, #T_2e97c_row8_col0, #T_2e97c_row8_col1, #T_2e97c_row9_col0, #T_2e97c_row9_col1, #T_2e97c_row10_col0, #T_2e97c_row10_col1, #T_2e97c_row11_col0, #T_2e97c_row11_col1, #T_2e97c_row12_col0, #T_2e97c_row12_col1 {\n",
       "  text-align: left;\n",
       "}\n",
       "</style>\n",
       "<table id=\"T_2e97c\" style=\"font-size: 14px\">\n",
       "  <thead>\n",
       "    <tr>\n",
       "      <th id=\"T_2e97c_level0_col0\" class=\"col_heading level0 col0\" >Dataset Descriptor</th>\n",
       "      <th id=\"T_2e97c_level0_col1\" class=\"col_heading level0 col1\" >Dataset-specific Information</th>\n",
       "    </tr>\n",
       "  </thead>\n",
       "  <tbody>\n",
       "    <tr>\n",
       "      <td id=\"T_2e97c_row0_col0\" class=\"data row0 col0\" >Name of Dataset in TRE</td>\n",
       "      <td id=\"T_2e97c_row0_col1\" class=\"data row0 col1\" >MCS_mcs2_neighbourhood_observations</td>\n",
       "    </tr>\n",
       "    <tr>\n",
       "      <td id=\"T_2e97c_row1_col0\" class=\"data row1 col0\" >Citation (APA)</td>\n",
       "      <td id=\"T_2e97c_row1_col1\" class=\"data row1 col1\" >University College London, UCL Social Research Institute, Centre for Longitudinal Studies. (2021). <i>Millennium Cohort Study (MCS): MCS2 Neighbourhood Observations.</i> UK Longitudinal Linkage Collaboration (UK LLC).  <a href=\"https://doi.org/10.83126/ukllc-dataset-00254-01\" rel=\"noopener noreferrer\" target=\"_blank\">https://doi.org/10.83126/ukllc-dataset-00254-01</a></td>\n",
       "    </tr>\n",
       "    <tr>\n",
       "      <td id=\"T_2e97c_row2_col0\" class=\"data row2 col0\" >Download Citation</td>\n",
       "      <td id=\"T_2e97c_row2_col1\" class=\"data row2 col1\" > <a href=\"https://api.test.datacite.org/application/vnd.citationstyles.csl+json/10.83126/ukllc-dataset-00254-01\" rel=\"noopener noreferrer\" target=\"_blank\">Citeproc JSON</a>&nbsp;&nbsp;&nbsp;&nbsp; <a href=\"https://api.test.datacite.org/application/x-bibtex/10.83126/ukllc-dataset-00254-01\" rel=\"noopener noreferrer\" target=\"_blank\">BibTeX</a>&nbsp;&nbsp;&nbsp;&nbsp; <a href=\"https://api.test.datacite.org/application/x-research-info-systems/10.83126/ukllc-dataset-00254-01\" rel=\"noopener noreferrer\" target=\"_blank\">RIS</a></td>\n",
       "    </tr>\n",
       "    <tr>\n",
       "      <td id=\"T_2e97c_row3_col0\" class=\"data row3 col0\" >Series</td>\n",
       "      <td id=\"T_2e97c_row3_col1\" class=\"data row3 col1\" > <a href=\"https://guidebook.ukllc.ac.uk/docs/lps/lps%20profiles/MCS\">Millennium Cohort Study (MCS)</a></td>\n",
       "    </tr>\n",
       "    <tr>\n",
       "      <td id=\"T_2e97c_row4_col0\" class=\"data row4 col0\" >Owner</td>\n",
       "      <td id=\"T_2e97c_row4_col1\" class=\"data row4 col1\" >UCL</td>\n",
       "    </tr>\n",
       "    <tr>\n",
       "      <td id=\"T_2e97c_row5_col0\" class=\"data row5 col0\" >Temporal Coverage</td>\n",
       "      <td id=\"T_2e97c_row5_col1\" class=\"data row5 col1\" >09/2003 - 04/2005</td>\n",
       "    </tr>\n",
       "    <tr>\n",
       "      <td id=\"T_2e97c_row6_col0\" class=\"data row6 col0\" >Keywords</td>\n",
       "      <td id=\"T_2e97c_row6_col1\" class=\"data row6 col1\" >Family Life,Health,employment,attitudes,Social mobility</td>\n",
       "    </tr>\n",
       "    <tr>\n",
       "      <td id=\"T_2e97c_row7_col0\" class=\"data row7 col0\" >Participants Invited</td>\n",
       "      <td id=\"T_2e97c_row7_col1\" class=\"data row7 col1\" >15590</td>\n",
       "    </tr>\n",
       "    <tr>\n",
       "      <td id=\"T_2e97c_row8_col0\" class=\"data row8 col0\" >Participant Count</td>\n",
       "      <td id=\"T_2e97c_row8_col1\" class=\"data row8 col1\" >25985</td>\n",
       "    </tr>\n",
       "    <tr>\n",
       "      <td id=\"T_2e97c_row9_col0\" class=\"data row9 col0\" >Number of variables</td>\n",
       "      <td id=\"T_2e97c_row9_col1\" class=\"data row9 col1\" >20</td>\n",
       "    </tr>\n",
       "    <tr>\n",
       "      <td id=\"T_2e97c_row10_col0\" class=\"data row10 col0\" >Number of observations</td>\n",
       "      <td id=\"T_2e97c_row10_col1\" class=\"data row10 col1\" >47991</td>\n",
       "    </tr>\n",
       "    <tr>\n",
       "      <td id=\"T_2e97c_row11_col0\" class=\"data row11 col0\" >Specific Restrictions to Data Use</td>\n",
       "      <td id=\"T_2e97c_row11_col1\" class=\"data row11 col1\" >None</td>\n",
       "    </tr>\n",
       "    <tr>\n",
       "      <td id=\"T_2e97c_row12_col0\" class=\"data row12 col0\" >Build a Data Request</td>\n",
       "      <td id=\"T_2e97c_row12_col1\" class=\"data row12 col1\" > <a href=\"https://explore.ukllc.ac.uk/\" rel=\"noopener noreferrer\" target=\"_blank\">https://explore.ukllc.ac.uk/</a></td>\n",
       "    </tr>\n",
       "  </tbody>\n",
       "</table>\n"
      ],
      "text/plain": [
       "<pandas.io.formats.style.Styler at 0x1bd7998bce0>"
      ]
     },
     "execution_count": 3,
     "metadata": {},
     "output_type": "execute_result"
    }
   ],
   "source": [
    "ds.info_table()"
   ]
  },
  {
   "cell_type": "markdown",
   "id": "1f1c79ef",
   "metadata": {},
   "source": [
    "## 2. Version History"
   ]
  },
  {
   "cell_type": "code",
   "execution_count": 4,
   "id": "36c318c4",
   "metadata": {
    "execution": {
     "iopub.execute_input": "2025-07-18T09:50:02.181863Z",
     "iopub.status.busy": "2025-07-18T09:50:02.181863Z",
     "iopub.status.idle": "2025-07-18T09:50:04.691736Z",
     "shell.execute_reply": "2025-07-18T09:50:04.689728Z"
    },
    "tags": [
     "remove-input"
    ]
   },
   "outputs": [
    {
     "data": {
      "text/html": [
       "<style type=\"text/css\">\n",
       "#T_d39dc th {\n",
       "  text-align: left;\n",
       "}\n",
       "#T_d39dc_row0_col0, #T_d39dc_row0_col1, #T_d39dc_row1_col0, #T_d39dc_row1_col1, #T_d39dc_row2_col0, #T_d39dc_row2_col1, #T_d39dc_row3_col0, #T_d39dc_row3_col1, #T_d39dc_row4_col0, #T_d39dc_row4_col1 {\n",
       "  text-align: left;\n",
       "}\n",
       "</style>\n",
       "<table id=\"T_d39dc\" style=\"font-size: 14px\">\n",
       "  <thead>\n",
       "    <tr>\n",
       "      <th id=\"T_d39dc_level0_col0\" class=\"col_heading level0 col0\" >Version</th>\n",
       "      <th id=\"T_d39dc_level0_col1\" class=\"col_heading level0 col1\" >1</th>\n",
       "    </tr>\n",
       "  </thead>\n",
       "  <tbody>\n",
       "    <tr>\n",
       "      <td id=\"T_d39dc_row0_col0\" class=\"data row0 col0\" >Version Date</td>\n",
       "      <td id=\"T_d39dc_row0_col1\" class=\"data row0 col1\" >01 Nov 2021</td>\n",
       "    </tr>\n",
       "    <tr>\n",
       "      <td id=\"T_d39dc_row1_col0\" class=\"data row1 col0\" >Number of Variables</td>\n",
       "      <td id=\"T_d39dc_row1_col1\" class=\"data row1 col1\" >20</td>\n",
       "    </tr>\n",
       "    <tr>\n",
       "      <td id=\"T_d39dc_row2_col0\" class=\"data row2 col0\" >Number of Observations</td>\n",
       "      <td id=\"T_d39dc_row2_col1\" class=\"data row2 col1\" >47991</td>\n",
       "    </tr>\n",
       "    <tr>\n",
       "      <td id=\"T_d39dc_row3_col0\" class=\"data row3 col0\" >DOI</td>\n",
       "      <td id=\"T_d39dc_row3_col1\" class=\"data row3 col1\" > <a href=\"https://doi.org/10.83126/ukllc-dataset-00254-01\" rel=\"noopener noreferrer\" target=\"_blank\">10.83126/ukllc-dataset-00254-01</a></td>\n",
       "    </tr>\n",
       "    <tr>\n",
       "      <td id=\"T_d39dc_row4_col0\" class=\"data row4 col0\" >Change Log</td>\n",
       "      <td id=\"T_d39dc_row4_col1\" class=\"data row4 col1\" > <a href=\"https://api.test.datacite.org/dois/10.83126/ukllc-dataset-00254-01/activities\" rel=\"noopener noreferrer\" target=\"_blank\">10.83126/ukllc-dataset-00254-01/activities</a></td>\n",
       "    </tr>\n",
       "  </tbody>\n",
       "</table>\n"
      ],
      "text/plain": [
       "<pandas.io.formats.style.Styler at 0x1bd7b38dc70>"
      ]
     },
     "execution_count": 4,
     "metadata": {},
     "output_type": "execute_result"
    }
   ],
   "source": [
    "ds.version_history()"
   ]
  },
  {
   "cell_type": "markdown",
   "id": "9f4fae5c",
   "metadata": {},
   "source": [
    "## 3. Documentation"
   ]
  },
  {
   "cell_type": "code",
   "execution_count": 5,
   "id": "f85f1652",
   "metadata": {
    "execution": {
     "iopub.execute_input": "2025-07-18T09:50:04.697736Z",
     "iopub.status.busy": "2025-07-18T09:50:04.696734Z",
     "iopub.status.idle": "2025-07-18T09:50:04.707774Z",
     "shell.execute_reply": "2025-07-18T09:50:04.706255Z"
    },
    "tags": [
     "remove-input"
    ]
   },
   "outputs": [
    {
     "data": {
      "text/markdown": [
       "We are currently building a documentation storage system which will host useful documents related to datasets and data owners. We will surface these documents on Guidebook."
      ],
      "text/plain": [
       "<IPython.core.display.Markdown object>"
      ]
     },
     "metadata": {},
     "output_type": "display_data"
    }
   ],
   "source": [
    "ds.documentation()"
   ]
  },
  {
   "cell_type": "markdown",
   "id": "6004da60",
   "metadata": {},
   "source": [
    "## 4. Useful Syntax"
   ]
  },
  {
   "cell_type": "code",
   "execution_count": 6,
   "id": "21670101",
   "metadata": {
    "execution": {
     "iopub.execute_input": "2025-07-18T09:50:04.712771Z",
     "iopub.status.busy": "2025-07-18T09:50:04.712771Z",
     "iopub.status.idle": "2025-07-18T09:50:04.722266Z",
     "shell.execute_reply": "2025-07-18T09:50:04.720257Z"
    },
    "tags": [
     "remove-input"
    ]
   },
   "outputs": [
    {
     "data": {
      "text/markdown": [
       "Below we will include syntax that may be helpful to other researchers in the UK LLC TRE. For longer scripts, we will include a snippet of the code plus a link to Git where you can find the full scripts."
      ],
      "text/plain": [
       "<IPython.core.display.Markdown object>"
      ]
     },
     "metadata": {},
     "output_type": "display_data"
    }
   ],
   "source": [
    "ds.useful_syntax()"
   ]
  }
 ],
 "metadata": {
  "language_info": {
   "codemirror_mode": {
    "name": "ipython",
    "version": 3
   },
   "file_extension": ".py",
   "mimetype": "text/x-python",
   "name": "python",
   "nbconvert_exporter": "python",
   "pygments_lexer": "ipython3",
   "version": "3.12.7"
  }
 },
 "nbformat": 4,
 "nbformat_minor": 5
}
