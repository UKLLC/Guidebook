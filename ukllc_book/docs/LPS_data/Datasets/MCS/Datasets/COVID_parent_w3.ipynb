{
 "cells": [
  {
   "cell_type": "markdown",
   "id": "56629bb1",
   "metadata": {},
   "source": [
    "# COVID-19 Survey Wave 3 - MCS Parent Respondents (MCS)"
   ]
  },
  {
   "cell_type": "code",
   "execution_count": 1,
   "id": "5ee1cfff",
   "metadata": {
    "execution": {
     "iopub.execute_input": "2025-07-28T19:12:52.106898Z",
     "iopub.status.busy": "2025-07-28T19:12:52.106898Z",
     "iopub.status.idle": "2025-07-28T19:13:04.859052Z",
     "shell.execute_reply": "2025-07-28T19:13:04.855085Z"
    },
    "tags": [
     "remove-input"
    ]
   },
   "outputs": [
    {
     "data": {
      "text/markdown": [
       ">Last modified: 28 Jul 2025"
      ],
      "text/plain": [
       "<IPython.core.display.Markdown object>"
      ]
     },
     "metadata": {},
     "output_type": "display_data"
    }
   ],
   "source": [
    "\n",
    "import sys\n",
    "import os\n",
    "sys.path.append(os.path.abspath('../../../../scripts/'))\n",
    "from data_doc_helper import LPSDataSet as DS, last_modified\n",
    "API_KEY = os.environ['FASTAPI_KEY']\n",
    "ds = DS(\"MCS\", \"COVID_parent_w3\")\n",
    "last_modified()\n"
   ]
  },
  {
   "cell_type": "markdown",
   "id": "58c2c658",
   "metadata": {},
   "source": [
    "## 1. Summary"
   ]
  },
  {
   "cell_type": "code",
   "execution_count": 2,
   "id": "0bd484f6",
   "metadata": {
    "execution": {
     "iopub.execute_input": "2025-07-28T19:13:04.874079Z",
     "iopub.status.busy": "2025-07-28T19:13:04.873052Z",
     "iopub.status.idle": "2025-07-28T19:13:04.896574Z",
     "shell.execute_reply": "2025-07-28T19:13:04.892550Z"
    },
    "tags": [
     "remove-input"
    ]
   },
   "outputs": [
    {
     "data": {
      "text/markdown": [
       "An online questionnaire sent to all participants. Questions cover topics of wellbeing during the first wave of the pandemic, including the impact of COVID on participants’ mental health, work and family life. This dataset aimed to assess the continued impact of the pandemic and included additional questions on income during covid"
      ],
      "text/plain": [
       "<IPython.core.display.Markdown object>"
      ]
     },
     "metadata": {},
     "output_type": "display_data"
    }
   ],
   "source": [
    "ds.summary()"
   ]
  },
  {
   "cell_type": "code",
   "execution_count": 3,
   "id": "d3ae8bc5",
   "metadata": {
    "execution": {
     "iopub.execute_input": "2025-07-28T19:13:04.905576Z",
     "iopub.status.busy": "2025-07-28T19:13:04.905576Z",
     "iopub.status.idle": "2025-07-28T19:13:07.147660Z",
     "shell.execute_reply": "2025-07-28T19:13:07.146641Z"
    },
    "tags": [
     "remove-input"
    ]
   },
   "outputs": [
    {
     "data": {
      "text/html": [
       "<style type=\"text/css\">\n",
       "#T_42552 th {\n",
       "  text-align: left;\n",
       "}\n",
       "#T_42552_row0_col0, #T_42552_row0_col1, #T_42552_row1_col0, #T_42552_row1_col1, #T_42552_row2_col0, #T_42552_row2_col1, #T_42552_row3_col0, #T_42552_row3_col1, #T_42552_row4_col0, #T_42552_row4_col1, #T_42552_row5_col0, #T_42552_row5_col1, #T_42552_row6_col0, #T_42552_row6_col1, #T_42552_row7_col0, #T_42552_row7_col1, #T_42552_row8_col0, #T_42552_row8_col1, #T_42552_row9_col0, #T_42552_row9_col1, #T_42552_row10_col0, #T_42552_row10_col1, #T_42552_row11_col0, #T_42552_row11_col1, #T_42552_row12_col0, #T_42552_row12_col1 {\n",
       "  text-align: left;\n",
       "}\n",
       "</style>\n",
       "<table id=\"T_42552\" style=\"font-size: 14px\">\n",
       "  <thead>\n",
       "    <tr>\n",
       "      <th id=\"T_42552_level0_col0\" class=\"col_heading level0 col0\" >Dataset Descriptor</th>\n",
       "      <th id=\"T_42552_level0_col1\" class=\"col_heading level0 col1\" >Dataset-specific Information</th>\n",
       "    </tr>\n",
       "  </thead>\n",
       "  <tbody>\n",
       "    <tr>\n",
       "      <td id=\"T_42552_row0_col0\" class=\"data row0 col0\" >Name of Dataset in TRE</td>\n",
       "      <td id=\"T_42552_row0_col1\" class=\"data row0 col1\" >MCS_COVID_parent_w3</td>\n",
       "    </tr>\n",
       "    <tr>\n",
       "      <td id=\"T_42552_row1_col0\" class=\"data row1 col0\" >Citation (APA)</td>\n",
       "      <td id=\"T_42552_row1_col1\" class=\"data row1 col1\" >University College London, UCL Social Research Institute, Centre for Longitudinal Studies. (2021). <i>Millennium Cohort Study (MCS): COVID-19 Survey Wave 3 - MCS Parent Respondents.</i> UK Longitudinal Linkage Collaboration (UK LLC).  <a href=\"https://doi.org/10.71760/ukllc-dataset-00151-01\" rel=\"noopener noreferrer\" target=\"_blank\">https://doi.org/10.71760/ukllc-dataset-00151-01</a></td>\n",
       "    </tr>\n",
       "    <tr>\n",
       "      <td id=\"T_42552_row2_col0\" class=\"data row2 col0\" >Download Citation</td>\n",
       "      <td id=\"T_42552_row2_col1\" class=\"data row2 col1\" > <a href=\"https://api.datacite.org/application/vnd.citationstyles.csl+json/10.71760/ukllc-dataset-00151-01\" rel=\"noopener noreferrer\" target=\"_blank\">Citeproc JSON</a>&nbsp;&nbsp;&nbsp;&nbsp; <a href=\"https://api.datacite.org/application/x-bibtex/10.71760/ukllc-dataset-00151-01\" rel=\"noopener noreferrer\" target=\"_blank\">BibTeX</a>&nbsp;&nbsp;&nbsp;&nbsp; <a href=\"https://api.datacite.org/application/x-research-info-systems/10.71760/ukllc-dataset-00151-01\" rel=\"noopener noreferrer\" target=\"_blank\">RIS</a></td>\n",
       "    </tr>\n",
       "    <tr>\n",
       "      <td id=\"T_42552_row3_col0\" class=\"data row3 col0\" >Series</td>\n",
       "      <td id=\"T_42552_row3_col1\" class=\"data row3 col1\" > <a href=\"https://guidebook.ukllc.ac.uk/docs/lps_data/lps%20profiles/MCS\">Millennium Cohort Study (MCS)</a></td>\n",
       "    </tr>\n",
       "    <tr>\n",
       "      <td id=\"T_42552_row4_col0\" class=\"data row4 col0\" >Owner</td>\n",
       "      <td id=\"T_42552_row4_col1\" class=\"data row4 col1\" >UCL</td>\n",
       "    </tr>\n",
       "    <tr>\n",
       "      <td id=\"T_42552_row5_col0\" class=\"data row5 col0\" >Temporal Coverage</td>\n",
       "      <td id=\"T_42552_row5_col1\" class=\"data row5 col1\" >02/2021 - 03/2021</td>\n",
       "    </tr>\n",
       "    <tr>\n",
       "      <td id=\"T_42552_row6_col0\" class=\"data row6 col0\" >Keywords</td>\n",
       "      <td id=\"T_42552_row6_col1\" class=\"data row6 col1\" >COVIDW3,Education,Employment,Income,Household,Mental Health</td>\n",
       "    </tr>\n",
       "    <tr>\n",
       "      <td id=\"T_42552_row7_col0\" class=\"data row7 col0\" >Participants Invited</td>\n",
       "      <td id=\"T_42552_row7_col1\" class=\"data row7 col1\" >5246</td>\n",
       "    </tr>\n",
       "    <tr>\n",
       "      <td id=\"T_42552_row8_col0\" class=\"data row8 col0\" >Participant Count</td>\n",
       "      <td id=\"T_42552_row8_col1\" class=\"data row8 col1\" >5023</td>\n",
       "    </tr>\n",
       "    <tr>\n",
       "      <td id=\"T_42552_row9_col0\" class=\"data row9 col0\" >Number of variables</td>\n",
       "      <td id=\"T_42552_row9_col1\" class=\"data row9 col1\" >828</td>\n",
       "    </tr>\n",
       "    <tr>\n",
       "      <td id=\"T_42552_row10_col0\" class=\"data row10 col0\" >Number of observations</td>\n",
       "      <td id=\"T_42552_row10_col1\" class=\"data row10 col1\" >5246</td>\n",
       "    </tr>\n",
       "    <tr>\n",
       "      <td id=\"T_42552_row11_col0\" class=\"data row11 col0\" >Specific Restrictions to Data Use</td>\n",
       "      <td id=\"T_42552_row11_col1\" class=\"data row11 col1\" >None</td>\n",
       "    </tr>\n",
       "    <tr>\n",
       "      <td id=\"T_42552_row12_col0\" class=\"data row12 col0\" >Build a Data Request</td>\n",
       "      <td id=\"T_42552_row12_col1\" class=\"data row12 col1\" > <a href=\"https://explore.ukllc.ac.uk/\" rel=\"noopener noreferrer\" target=\"_blank\">https://explore.ukllc.ac.uk/</a></td>\n",
       "    </tr>\n",
       "  </tbody>\n",
       "</table>\n"
      ],
      "text/plain": [
       "<pandas.io.formats.style.Styler at 0x2671438ee40>"
      ]
     },
     "execution_count": 3,
     "metadata": {},
     "output_type": "execute_result"
    }
   ],
   "source": [
    "ds.info_table()"
   ]
  },
  {
   "cell_type": "markdown",
   "id": "7f32128c",
   "metadata": {},
   "source": [
    "## 2. Version History"
   ]
  },
  {
   "cell_type": "code",
   "execution_count": 4,
   "id": "0917680b",
   "metadata": {
    "execution": {
     "iopub.execute_input": "2025-07-28T19:13:07.157657Z",
     "iopub.status.busy": "2025-07-28T19:13:07.155659Z",
     "iopub.status.idle": "2025-07-28T19:13:14.141659Z",
     "shell.execute_reply": "2025-07-28T19:13:14.139557Z"
    },
    "tags": [
     "remove-input"
    ]
   },
   "outputs": [
    {
     "data": {
      "text/html": [
       "<style type=\"text/css\">\n",
       "#T_3e9c3 th {\n",
       "  text-align: left;\n",
       "}\n",
       "#T_3e9c3_row0_col0, #T_3e9c3_row0_col1, #T_3e9c3_row1_col0, #T_3e9c3_row1_col1, #T_3e9c3_row2_col0, #T_3e9c3_row2_col1, #T_3e9c3_row3_col0, #T_3e9c3_row3_col1, #T_3e9c3_row4_col0, #T_3e9c3_row4_col1 {\n",
       "  text-align: left;\n",
       "}\n",
       "</style>\n",
       "<table id=\"T_3e9c3\" style=\"font-size: 14px\">\n",
       "  <thead>\n",
       "    <tr>\n",
       "      <th id=\"T_3e9c3_level0_col0\" class=\"col_heading level0 col0\" >Version</th>\n",
       "      <th id=\"T_3e9c3_level0_col1\" class=\"col_heading level0 col1\" >1</th>\n",
       "    </tr>\n",
       "  </thead>\n",
       "  <tbody>\n",
       "    <tr>\n",
       "      <td id=\"T_3e9c3_row0_col0\" class=\"data row0 col0\" >Version Date</td>\n",
       "      <td id=\"T_3e9c3_row0_col1\" class=\"data row0 col1\" >01 Nov 2021</td>\n",
       "    </tr>\n",
       "    <tr>\n",
       "      <td id=\"T_3e9c3_row1_col0\" class=\"data row1 col0\" >Number of Variables</td>\n",
       "      <td id=\"T_3e9c3_row1_col1\" class=\"data row1 col1\" >828</td>\n",
       "    </tr>\n",
       "    <tr>\n",
       "      <td id=\"T_3e9c3_row2_col0\" class=\"data row2 col0\" >Number of Observations</td>\n",
       "      <td id=\"T_3e9c3_row2_col1\" class=\"data row2 col1\" >5246</td>\n",
       "    </tr>\n",
       "    <tr>\n",
       "      <td id=\"T_3e9c3_row3_col0\" class=\"data row3 col0\" >DOI</td>\n",
       "      <td id=\"T_3e9c3_row3_col1\" class=\"data row3 col1\" > <a href=\"https://doi.org/10.71760/ukllc-dataset-00151-01\" rel=\"noopener noreferrer\" target=\"_blank\">10.71760/ukllc-dataset-00151-01</a></td>\n",
       "    </tr>\n",
       "    <tr>\n",
       "      <td id=\"T_3e9c3_row4_col0\" class=\"data row4 col0\" >Change Log</td>\n",
       "      <td id=\"T_3e9c3_row4_col1\" class=\"data row4 col1\" > <a href=\"https://api.test.datacite.org/dois/10.71760/ukllc-dataset-00151-01/activities\" rel=\"noopener noreferrer\" target=\"_blank\">10.71760/ukllc-dataset-00151-01/activities</a></td>\n",
       "    </tr>\n",
       "  </tbody>\n",
       "</table>\n"
      ],
      "text/plain": [
       "<pandas.io.formats.style.Styler at 0x2671a1104d0>"
      ]
     },
     "execution_count": 4,
     "metadata": {},
     "output_type": "execute_result"
    }
   ],
   "source": [
    "ds.version_history()"
   ]
  },
  {
   "cell_type": "markdown",
   "id": "6bf11505",
   "metadata": {},
   "source": [
    "## 3. Documentation"
   ]
  },
  {
   "cell_type": "code",
   "execution_count": 5,
   "id": "025b140f",
   "metadata": {
    "execution": {
     "iopub.execute_input": "2025-07-28T19:13:14.151657Z",
     "iopub.status.busy": "2025-07-28T19:13:14.150677Z",
     "iopub.status.idle": "2025-07-28T19:13:14.166309Z",
     "shell.execute_reply": "2025-07-28T19:13:14.164201Z"
    },
    "tags": [
     "remove-input"
    ]
   },
   "outputs": [
    {
     "data": {
      "text/markdown": [
       "We are currently building a documentation storage system which will host useful documents related to datasets and data owners. We will surface these documents on Guidebook."
      ],
      "text/plain": [
       "<IPython.core.display.Markdown object>"
      ]
     },
     "metadata": {},
     "output_type": "display_data"
    }
   ],
   "source": [
    "ds.documentation()"
   ]
  },
  {
   "cell_type": "markdown",
   "id": "9c3abe39",
   "metadata": {},
   "source": [
    "## 4. Useful Syntax"
   ]
  },
  {
   "cell_type": "code",
   "execution_count": 6,
   "id": "07234189",
   "metadata": {
    "execution": {
     "iopub.execute_input": "2025-07-28T19:13:14.176240Z",
     "iopub.status.busy": "2025-07-28T19:13:14.175248Z",
     "iopub.status.idle": "2025-07-28T19:13:14.189510Z",
     "shell.execute_reply": "2025-07-28T19:13:14.189510Z"
    },
    "tags": [
     "remove-input"
    ]
   },
   "outputs": [
    {
     "data": {
      "text/markdown": [
       "Below we will include syntax that may be helpful to other researchers in the UK LLC TRE. For longer scripts, we will include a snippet of the code plus a link to Git where you can find the full scripts."
      ],
      "text/plain": [
       "<IPython.core.display.Markdown object>"
      ]
     },
     "metadata": {},
     "output_type": "display_data"
    }
   ],
   "source": [
    "ds.useful_syntax()"
   ]
  }
 ],
 "metadata": {
  "language_info": {
   "codemirror_mode": {
    "name": "ipython",
    "version": 3
   },
   "file_extension": ".py",
   "mimetype": "text/x-python",
   "name": "python",
   "nbconvert_exporter": "python",
   "pygments_lexer": "ipython3",
   "version": "3.12.7"
  }
 },
 "nbformat": 4,
 "nbformat_minor": 5
}
