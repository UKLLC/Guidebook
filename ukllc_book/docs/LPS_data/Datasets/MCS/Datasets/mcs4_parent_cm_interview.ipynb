{
 "cells": [
  {
   "cell_type": "markdown",
   "id": "353f53c8",
   "metadata": {},
   "source": [
    "# MCS4 Parent Interview about Cohort Member (MCS)"
   ]
  },
  {
   "cell_type": "code",
   "execution_count": 1,
   "id": "5be0cc18",
   "metadata": {
    "execution": {
     "iopub.execute_input": "2025-07-28T19:29:29.489436Z",
     "iopub.status.busy": "2025-07-28T19:29:29.488437Z",
     "iopub.status.idle": "2025-07-28T19:29:42.037330Z",
     "shell.execute_reply": "2025-07-28T19:29:42.035534Z"
    },
    "tags": [
     "remove-input"
    ]
   },
   "outputs": [
    {
     "data": {
      "text/markdown": [
       ">Last modified: 28 Jul 2025"
      ],
      "text/plain": [
       "<IPython.core.display.Markdown object>"
      ]
     },
     "metadata": {},
     "output_type": "display_data"
    }
   ],
   "source": [
    "\n",
    "import sys\n",
    "import os\n",
    "sys.path.append(os.path.abspath('../../../../scripts/'))\n",
    "from data_doc_helper import LPSDataSet as DS, last_modified\n",
    "API_KEY = os.environ['FASTAPI_KEY']\n",
    "ds = DS(\"MCS\", \"mcs4_parent_cm_interview\")\n",
    "last_modified()\n"
   ]
  },
  {
   "cell_type": "markdown",
   "id": "412a560c",
   "metadata": {},
   "source": [
    "## 1. Summary"
   ]
  },
  {
   "cell_type": "code",
   "execution_count": 2,
   "id": "96e442bc",
   "metadata": {
    "execution": {
     "iopub.execute_input": "2025-07-28T19:29:42.046346Z",
     "iopub.status.busy": "2025-07-28T19:29:42.046346Z",
     "iopub.status.idle": "2025-07-28T19:29:42.061786Z",
     "shell.execute_reply": "2025-07-28T19:29:42.059344Z"
    },
    "tags": [
     "remove-input"
    ]
   },
   "outputs": [
    {
     "data": {
      "text/markdown": [
       "This dataset contains responses at sweep 4 from parents about each cohort member's diet, schooling, immunisations, accidents, injuries, hospital addmissions,  health, childcare, parent-reported child SDQ etc."
      ],
      "text/plain": [
       "<IPython.core.display.Markdown object>"
      ]
     },
     "metadata": {},
     "output_type": "display_data"
    }
   ],
   "source": [
    "ds.summary()"
   ]
  },
  {
   "cell_type": "code",
   "execution_count": 3,
   "id": "f29a32b4",
   "metadata": {
    "execution": {
     "iopub.execute_input": "2025-07-28T19:29:42.068540Z",
     "iopub.status.busy": "2025-07-28T19:29:42.068540Z",
     "iopub.status.idle": "2025-07-28T19:29:45.393509Z",
     "shell.execute_reply": "2025-07-28T19:29:45.390979Z"
    },
    "tags": [
     "remove-input"
    ]
   },
   "outputs": [
    {
     "data": {
      "text/html": [
       "<style type=\"text/css\">\n",
       "#T_35d41 th {\n",
       "  text-align: left;\n",
       "}\n",
       "#T_35d41_row0_col0, #T_35d41_row0_col1, #T_35d41_row1_col0, #T_35d41_row1_col1, #T_35d41_row2_col0, #T_35d41_row2_col1, #T_35d41_row3_col0, #T_35d41_row3_col1, #T_35d41_row4_col0, #T_35d41_row4_col1, #T_35d41_row5_col0, #T_35d41_row5_col1, #T_35d41_row6_col0, #T_35d41_row6_col1, #T_35d41_row7_col0, #T_35d41_row7_col1, #T_35d41_row8_col0, #T_35d41_row8_col1, #T_35d41_row9_col0, #T_35d41_row9_col1, #T_35d41_row10_col0, #T_35d41_row10_col1, #T_35d41_row11_col0, #T_35d41_row11_col1, #T_35d41_row12_col0, #T_35d41_row12_col1 {\n",
       "  text-align: left;\n",
       "}\n",
       "</style>\n",
       "<table id=\"T_35d41\" style=\"font-size: 14px\">\n",
       "  <thead>\n",
       "    <tr>\n",
       "      <th id=\"T_35d41_level0_col0\" class=\"col_heading level0 col0\" >Dataset Descriptor</th>\n",
       "      <th id=\"T_35d41_level0_col1\" class=\"col_heading level0 col1\" >Dataset-specific Information</th>\n",
       "    </tr>\n",
       "  </thead>\n",
       "  <tbody>\n",
       "    <tr>\n",
       "      <td id=\"T_35d41_row0_col0\" class=\"data row0 col0\" >Name of Dataset in TRE</td>\n",
       "      <td id=\"T_35d41_row0_col1\" class=\"data row0 col1\" >MCS_mcs4_parent_cm_interview</td>\n",
       "    </tr>\n",
       "    <tr>\n",
       "      <td id=\"T_35d41_row1_col0\" class=\"data row1 col0\" >Citation (APA)</td>\n",
       "      <td id=\"T_35d41_row1_col1\" class=\"data row1 col1\" >University College London, UCL Social Research Institute, Centre for Longitudinal Studies. (2021). <i>Millennium Cohort Study (MCS): MCS4 Parent Interview about Cohort Member.</i> UK Longitudinal Linkage Collaboration (UK LLC).  <a href=\"https://doi.org/10.71760/ukllc-dataset-00198-01\" rel=\"noopener noreferrer\" target=\"_blank\">https://doi.org/10.71760/ukllc-dataset-00198-01</a></td>\n",
       "    </tr>\n",
       "    <tr>\n",
       "      <td id=\"T_35d41_row2_col0\" class=\"data row2 col0\" >Download Citation</td>\n",
       "      <td id=\"T_35d41_row2_col1\" class=\"data row2 col1\" > <a href=\"https://api.datacite.org/application/vnd.citationstyles.csl+json/10.71760/ukllc-dataset-00198-01\" rel=\"noopener noreferrer\" target=\"_blank\">Citeproc JSON</a>&nbsp;&nbsp;&nbsp;&nbsp; <a href=\"https://api.datacite.org/application/x-bibtex/10.71760/ukllc-dataset-00198-01\" rel=\"noopener noreferrer\" target=\"_blank\">BibTeX</a>&nbsp;&nbsp;&nbsp;&nbsp; <a href=\"https://api.datacite.org/application/x-research-info-systems/10.71760/ukllc-dataset-00198-01\" rel=\"noopener noreferrer\" target=\"_blank\">RIS</a></td>\n",
       "    </tr>\n",
       "    <tr>\n",
       "      <td id=\"T_35d41_row3_col0\" class=\"data row3 col0\" >Series</td>\n",
       "      <td id=\"T_35d41_row3_col1\" class=\"data row3 col1\" > <a href=\"https://guidebook.ukllc.ac.uk/docs/lps_data/lps%20profiles/MCS\">Millennium Cohort Study (MCS)</a></td>\n",
       "    </tr>\n",
       "    <tr>\n",
       "      <td id=\"T_35d41_row4_col0\" class=\"data row4 col0\" >Owner</td>\n",
       "      <td id=\"T_35d41_row4_col1\" class=\"data row4 col1\" >UCL</td>\n",
       "    </tr>\n",
       "    <tr>\n",
       "      <td id=\"T_35d41_row5_col0\" class=\"data row5 col0\" >Temporal Coverage</td>\n",
       "      <td id=\"T_35d41_row5_col1\" class=\"data row5 col1\" >01/2008 - 12/2008</td>\n",
       "    </tr>\n",
       "    <tr>\n",
       "      <td id=\"T_35d41_row6_col0\" class=\"data row6 col0\" >Keywords</td>\n",
       "      <td id=\"T_35d41_row6_col1\" class=\"data row6 col1\" >Family Life,Health,employment,attitudes,Social mobility</td>\n",
       "    </tr>\n",
       "    <tr>\n",
       "      <td id=\"T_35d41_row7_col0\" class=\"data row7 col0\" >Participants Invited</td>\n",
       "      <td id=\"T_35d41_row7_col1\" class=\"data row7 col1\" >13857</td>\n",
       "    </tr>\n",
       "    <tr>\n",
       "      <td id=\"T_35d41_row8_col0\" class=\"data row8 col0\" >Participant Count</td>\n",
       "      <td id=\"T_35d41_row8_col1\" class=\"data row8 col1\" >17931</td>\n",
       "    </tr>\n",
       "    <tr>\n",
       "      <td id=\"T_35d41_row9_col0\" class=\"data row9 col0\" >Number of variables</td>\n",
       "      <td id=\"T_35d41_row9_col1\" class=\"data row9 col1\" >1095</td>\n",
       "    </tr>\n",
       "    <tr>\n",
       "      <td id=\"T_35d41_row10_col0\" class=\"data row10 col0\" >Number of observations</td>\n",
       "      <td id=\"T_35d41_row10_col1\" class=\"data row10 col1\" >23243</td>\n",
       "    </tr>\n",
       "    <tr>\n",
       "      <td id=\"T_35d41_row11_col0\" class=\"data row11 col0\" >Specific Restrictions to Data Use</td>\n",
       "      <td id=\"T_35d41_row11_col1\" class=\"data row11 col1\" >None</td>\n",
       "    </tr>\n",
       "    <tr>\n",
       "      <td id=\"T_35d41_row12_col0\" class=\"data row12 col0\" >Build a Data Request</td>\n",
       "      <td id=\"T_35d41_row12_col1\" class=\"data row12 col1\" > <a href=\"https://explore.ukllc.ac.uk/\" rel=\"noopener noreferrer\" target=\"_blank\">https://explore.ukllc.ac.uk/</a></td>\n",
       "    </tr>\n",
       "  </tbody>\n",
       "</table>\n"
      ],
      "text/plain": [
       "<pandas.io.formats.style.Styler at 0x185e3ff2270>"
      ]
     },
     "execution_count": 3,
     "metadata": {},
     "output_type": "execute_result"
    }
   ],
   "source": [
    "ds.info_table()"
   ]
  },
  {
   "cell_type": "markdown",
   "id": "a7f48e49",
   "metadata": {},
   "source": [
    "## 2. Version History"
   ]
  },
  {
   "cell_type": "code",
   "execution_count": 4,
   "id": "19a3d35e",
   "metadata": {
    "execution": {
     "iopub.execute_input": "2025-07-28T19:29:45.402511Z",
     "iopub.status.busy": "2025-07-28T19:29:45.401510Z",
     "iopub.status.idle": "2025-07-28T19:29:51.127163Z",
     "shell.execute_reply": "2025-07-28T19:29:51.122131Z"
    },
    "tags": [
     "remove-input"
    ]
   },
   "outputs": [
    {
     "data": {
      "text/html": [
       "<style type=\"text/css\">\n",
       "#T_106f3 th {\n",
       "  text-align: left;\n",
       "}\n",
       "#T_106f3_row0_col0, #T_106f3_row0_col1, #T_106f3_row1_col0, #T_106f3_row1_col1, #T_106f3_row2_col0, #T_106f3_row2_col1, #T_106f3_row3_col0, #T_106f3_row3_col1, #T_106f3_row4_col0, #T_106f3_row4_col1 {\n",
       "  text-align: left;\n",
       "}\n",
       "</style>\n",
       "<table id=\"T_106f3\" style=\"font-size: 14px\">\n",
       "  <thead>\n",
       "    <tr>\n",
       "      <th id=\"T_106f3_level0_col0\" class=\"col_heading level0 col0\" >Version</th>\n",
       "      <th id=\"T_106f3_level0_col1\" class=\"col_heading level0 col1\" >1</th>\n",
       "    </tr>\n",
       "  </thead>\n",
       "  <tbody>\n",
       "    <tr>\n",
       "      <td id=\"T_106f3_row0_col0\" class=\"data row0 col0\" >Version Date</td>\n",
       "      <td id=\"T_106f3_row0_col1\" class=\"data row0 col1\" >01 Nov 2021</td>\n",
       "    </tr>\n",
       "    <tr>\n",
       "      <td id=\"T_106f3_row1_col0\" class=\"data row1 col0\" >Number of Variables</td>\n",
       "      <td id=\"T_106f3_row1_col1\" class=\"data row1 col1\" >1097</td>\n",
       "    </tr>\n",
       "    <tr>\n",
       "      <td id=\"T_106f3_row2_col0\" class=\"data row2 col0\" >Number of Observations</td>\n",
       "      <td id=\"T_106f3_row2_col1\" class=\"data row2 col1\" >23243</td>\n",
       "    </tr>\n",
       "    <tr>\n",
       "      <td id=\"T_106f3_row3_col0\" class=\"data row3 col0\" >DOI</td>\n",
       "      <td id=\"T_106f3_row3_col1\" class=\"data row3 col1\" > <a href=\"https://doi.org/10.71760/ukllc-dataset-00198-01\" rel=\"noopener noreferrer\" target=\"_blank\">10.71760/ukllc-dataset-00198-01</a></td>\n",
       "    </tr>\n",
       "    <tr>\n",
       "      <td id=\"T_106f3_row4_col0\" class=\"data row4 col0\" >Change Log</td>\n",
       "      <td id=\"T_106f3_row4_col1\" class=\"data row4 col1\" > <a href=\"https://api.test.datacite.org/dois/10.71760/ukllc-dataset-00198-01/activities\" rel=\"noopener noreferrer\" target=\"_blank\">10.71760/ukllc-dataset-00198-01/activities</a></td>\n",
       "    </tr>\n",
       "  </tbody>\n",
       "</table>\n"
      ],
      "text/plain": [
       "<pandas.io.formats.style.Styler at 0x185eaec67e0>"
      ]
     },
     "execution_count": 4,
     "metadata": {},
     "output_type": "execute_result"
    }
   ],
   "source": [
    "ds.version_history()"
   ]
  },
  {
   "cell_type": "markdown",
   "id": "e0fe7df1",
   "metadata": {},
   "source": [
    "## 3. Documentation"
   ]
  },
  {
   "cell_type": "code",
   "execution_count": 5,
   "id": "89ce3268",
   "metadata": {
    "execution": {
     "iopub.execute_input": "2025-07-28T19:29:51.152462Z",
     "iopub.status.busy": "2025-07-28T19:29:51.146452Z",
     "iopub.status.idle": "2025-07-28T19:29:51.177010Z",
     "shell.execute_reply": "2025-07-28T19:29:51.171916Z"
    },
    "tags": [
     "remove-input"
    ]
   },
   "outputs": [
    {
     "data": {
      "text/markdown": [
       "We are currently building a documentation storage system which will host useful documents related to datasets and data owners. We will surface these documents on Guidebook."
      ],
      "text/plain": [
       "<IPython.core.display.Markdown object>"
      ]
     },
     "metadata": {},
     "output_type": "display_data"
    }
   ],
   "source": [
    "ds.documentation()"
   ]
  },
  {
   "cell_type": "markdown",
   "id": "c4576260",
   "metadata": {},
   "source": [
    "## 4. Useful Syntax"
   ]
  },
  {
   "cell_type": "code",
   "execution_count": 6,
   "id": "44a83895",
   "metadata": {
    "execution": {
     "iopub.execute_input": "2025-07-28T19:29:51.186959Z",
     "iopub.status.busy": "2025-07-28T19:29:51.186959Z",
     "iopub.status.idle": "2025-07-28T19:29:51.200455Z",
     "shell.execute_reply": "2025-07-28T19:29:51.197953Z"
    },
    "tags": [
     "remove-input"
    ]
   },
   "outputs": [
    {
     "data": {
      "text/markdown": [
       "Below we will include syntax that may be helpful to other researchers in the UK LLC TRE. For longer scripts, we will include a snippet of the code plus a link to Git where you can find the full scripts."
      ],
      "text/plain": [
       "<IPython.core.display.Markdown object>"
      ]
     },
     "metadata": {},
     "output_type": "display_data"
    }
   ],
   "source": [
    "ds.useful_syntax()"
   ]
  }
 ],
 "metadata": {
  "language_info": {
   "codemirror_mode": {
    "name": "ipython",
    "version": 3
   },
   "file_extension": ".py",
   "mimetype": "text/x-python",
   "name": "python",
   "nbconvert_exporter": "python",
   "pygments_lexer": "ipython3",
   "version": "3.12.7"
  }
 },
 "nbformat": 4,
 "nbformat_minor": 5
}
