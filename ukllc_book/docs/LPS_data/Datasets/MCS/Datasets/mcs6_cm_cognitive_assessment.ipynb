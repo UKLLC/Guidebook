{
 "cells": [
  {
   "cell_type": "markdown",
   "id": "365df665",
   "metadata": {},
   "source": [
    "# MCS6 Cohort Member Cognitive Assessment (MCS)"
   ]
  },
  {
   "cell_type": "code",
   "execution_count": 1,
   "id": "2e824f2a",
   "metadata": {
    "execution": {
     "iopub.execute_input": "2025-07-18T09:58:56.296055Z",
     "iopub.status.busy": "2025-07-18T09:58:56.296055Z",
     "iopub.status.idle": "2025-07-18T09:59:08.055117Z",
     "shell.execute_reply": "2025-07-18T09:59:08.054106Z"
    },
    "tags": [
     "remove-input"
    ]
   },
   "outputs": [
    {
     "data": {
      "text/markdown": [
       ">Last modified: 18 Jul 2025"
      ],
      "text/plain": [
       "<IPython.core.display.Markdown object>"
      ]
     },
     "metadata": {},
     "output_type": "display_data"
    }
   ],
   "source": [
    "\n",
    "import sys\n",
    "import os\n",
    "sys.path.append(os.path.abspath('../../../../scripts/'))\n",
    "from data_doc_helper import LPSDataSet as DS, last_modified\n",
    "API_KEY = os.environ['FASTAPI_KEY']\n",
    "ds = DS(\"MCS\", \"mcs6_cm_cognitive_assessment\")\n",
    "last_modified()\n"
   ]
  },
  {
   "cell_type": "markdown",
   "id": "63fbdb51",
   "metadata": {},
   "source": [
    "## 1. Summary"
   ]
  },
  {
   "cell_type": "code",
   "execution_count": 2,
   "id": "aeefb6e3",
   "metadata": {
    "execution": {
     "iopub.execute_input": "2025-07-18T09:59:08.060115Z",
     "iopub.status.busy": "2025-07-18T09:59:08.059116Z",
     "iopub.status.idle": "2025-07-18T09:59:08.068622Z",
     "shell.execute_reply": "2025-07-18T09:59:08.068113Z"
    },
    "tags": [
     "remove-input"
    ]
   },
   "outputs": [
    {
     "data": {
      "text/markdown": [
       "This dataset contains cognitive assessment data (Word Activity test) collected at sweep 6 along with interviewer observations relating to the circumstances of the assessments"
      ],
      "text/plain": [
       "<IPython.core.display.Markdown object>"
      ]
     },
     "metadata": {},
     "output_type": "display_data"
    }
   ],
   "source": [
    "ds.summary()"
   ]
  },
  {
   "cell_type": "code",
   "execution_count": 3,
   "id": "16785c6e",
   "metadata": {
    "execution": {
     "iopub.execute_input": "2025-07-18T09:59:08.073631Z",
     "iopub.status.busy": "2025-07-18T09:59:08.072629Z",
     "iopub.status.idle": "2025-07-18T09:59:09.105562Z",
     "shell.execute_reply": "2025-07-18T09:59:09.104555Z"
    },
    "tags": [
     "remove-input"
    ]
   },
   "outputs": [
    {
     "data": {
      "text/html": [
       "<style type=\"text/css\">\n",
       "#T_63853 th {\n",
       "  text-align: left;\n",
       "}\n",
       "#T_63853_row0_col0, #T_63853_row0_col1, #T_63853_row1_col0, #T_63853_row1_col1, #T_63853_row2_col0, #T_63853_row2_col1, #T_63853_row3_col0, #T_63853_row3_col1, #T_63853_row4_col0, #T_63853_row4_col1, #T_63853_row5_col0, #T_63853_row5_col1, #T_63853_row6_col0, #T_63853_row6_col1, #T_63853_row7_col0, #T_63853_row7_col1, #T_63853_row8_col0, #T_63853_row8_col1, #T_63853_row9_col0, #T_63853_row9_col1, #T_63853_row10_col0, #T_63853_row10_col1, #T_63853_row11_col0, #T_63853_row11_col1, #T_63853_row12_col0, #T_63853_row12_col1 {\n",
       "  text-align: left;\n",
       "}\n",
       "</style>\n",
       "<table id=\"T_63853\" style=\"font-size: 14px\">\n",
       "  <thead>\n",
       "    <tr>\n",
       "      <th id=\"T_63853_level0_col0\" class=\"col_heading level0 col0\" >Dataset Descriptor</th>\n",
       "      <th id=\"T_63853_level0_col1\" class=\"col_heading level0 col1\" >Dataset-specific Information</th>\n",
       "    </tr>\n",
       "  </thead>\n",
       "  <tbody>\n",
       "    <tr>\n",
       "      <td id=\"T_63853_row0_col0\" class=\"data row0 col0\" >Name of Dataset in TRE</td>\n",
       "      <td id=\"T_63853_row0_col1\" class=\"data row0 col1\" >MCS_mcs6_cm_cognitive_assessment</td>\n",
       "    </tr>\n",
       "    <tr>\n",
       "      <td id=\"T_63853_row1_col0\" class=\"data row1 col0\" >Citation (APA)</td>\n",
       "      <td id=\"T_63853_row1_col1\" class=\"data row1 col1\" >University College London, UCL Social Research Institute, Centre for Longitudinal Studies. (2021). <i>Millennium Cohort Study (MCS): MCS6 Cohort Member Cognitive Assessment.</i> UK Longitudinal Linkage Collaboration (UK LLC).  <a href=\"https://doi.org/10.83126/ukllc-dataset-00291-01\" rel=\"noopener noreferrer\" target=\"_blank\">https://doi.org/10.83126/ukllc-dataset-00291-01</a></td>\n",
       "    </tr>\n",
       "    <tr>\n",
       "      <td id=\"T_63853_row2_col0\" class=\"data row2 col0\" >Download Citation</td>\n",
       "      <td id=\"T_63853_row2_col1\" class=\"data row2 col1\" > <a href=\"https://api.test.datacite.org/application/vnd.citationstyles.csl+json/10.83126/ukllc-dataset-00291-01\" rel=\"noopener noreferrer\" target=\"_blank\">Citeproc JSON</a>&nbsp;&nbsp;&nbsp;&nbsp; <a href=\"https://api.test.datacite.org/application/x-bibtex/10.83126/ukllc-dataset-00291-01\" rel=\"noopener noreferrer\" target=\"_blank\">BibTeX</a>&nbsp;&nbsp;&nbsp;&nbsp; <a href=\"https://api.test.datacite.org/application/x-research-info-systems/10.83126/ukllc-dataset-00291-01\" rel=\"noopener noreferrer\" target=\"_blank\">RIS</a></td>\n",
       "    </tr>\n",
       "    <tr>\n",
       "      <td id=\"T_63853_row3_col0\" class=\"data row3 col0\" >Series</td>\n",
       "      <td id=\"T_63853_row3_col1\" class=\"data row3 col1\" > <a href=\"https://guidebook.ukllc.ac.uk/docs/lps/lps%20profiles/MCS\">Millennium Cohort Study (MCS)</a></td>\n",
       "    </tr>\n",
       "    <tr>\n",
       "      <td id=\"T_63853_row4_col0\" class=\"data row4 col0\" >Owner</td>\n",
       "      <td id=\"T_63853_row4_col1\" class=\"data row4 col1\" >UCL</td>\n",
       "    </tr>\n",
       "    <tr>\n",
       "      <td id=\"T_63853_row5_col0\" class=\"data row5 col0\" >Temporal Coverage</td>\n",
       "      <td id=\"T_63853_row5_col1\" class=\"data row5 col1\" >01/2015 - 03/2016</td>\n",
       "    </tr>\n",
       "    <tr>\n",
       "      <td id=\"T_63853_row6_col0\" class=\"data row6 col0\" >Keywords</td>\n",
       "      <td id=\"T_63853_row6_col1\" class=\"data row6 col1\" >Health,Education,Family life,Employment,Attitudes</td>\n",
       "    </tr>\n",
       "    <tr>\n",
       "      <td id=\"T_63853_row7_col0\" class=\"data row7 col0\" >Participants Invited</td>\n",
       "      <td id=\"T_63853_row7_col1\" class=\"data row7 col1\" >11726</td>\n",
       "    </tr>\n",
       "    <tr>\n",
       "      <td id=\"T_63853_row8_col0\" class=\"data row8 col0\" >Participant Count</td>\n",
       "      <td id=\"T_63853_row8_col1\" class=\"data row8 col1\" >8945</td>\n",
       "    </tr>\n",
       "    <tr>\n",
       "      <td id=\"T_63853_row9_col0\" class=\"data row9 col0\" >Number of variables</td>\n",
       "      <td id=\"T_63853_row9_col1\" class=\"data row9 col1\" >77</td>\n",
       "    </tr>\n",
       "    <tr>\n",
       "      <td id=\"T_63853_row10_col0\" class=\"data row10 col0\" >Number of observations</td>\n",
       "      <td id=\"T_63853_row10_col1\" class=\"data row10 col1\" >11859</td>\n",
       "    </tr>\n",
       "    <tr>\n",
       "      <td id=\"T_63853_row11_col0\" class=\"data row11 col0\" >Specific Restrictions to Data Use</td>\n",
       "      <td id=\"T_63853_row11_col1\" class=\"data row11 col1\" >None</td>\n",
       "    </tr>\n",
       "    <tr>\n",
       "      <td id=\"T_63853_row12_col0\" class=\"data row12 col0\" >Build a Data Request</td>\n",
       "      <td id=\"T_63853_row12_col1\" class=\"data row12 col1\" > <a href=\"https://explore.ukllc.ac.uk/\" rel=\"noopener noreferrer\" target=\"_blank\">https://explore.ukllc.ac.uk/</a></td>\n",
       "    </tr>\n",
       "  </tbody>\n",
       "</table>\n"
      ],
      "text/plain": [
       "<pandas.io.formats.style.Styler at 0x22e18a60ad0>"
      ]
     },
     "execution_count": 3,
     "metadata": {},
     "output_type": "execute_result"
    }
   ],
   "source": [
    "ds.info_table()"
   ]
  },
  {
   "cell_type": "markdown",
   "id": "a603b632",
   "metadata": {},
   "source": [
    "## 2. Version History"
   ]
  },
  {
   "cell_type": "code",
   "execution_count": 4,
   "id": "0c16ea56",
   "metadata": {
    "execution": {
     "iopub.execute_input": "2025-07-18T09:59:09.110562Z",
     "iopub.status.busy": "2025-07-18T09:59:09.109565Z",
     "iopub.status.idle": "2025-07-18T09:59:11.419754Z",
     "shell.execute_reply": "2025-07-18T09:59:11.417441Z"
    },
    "tags": [
     "remove-input"
    ]
   },
   "outputs": [
    {
     "data": {
      "text/html": [
       "<style type=\"text/css\">\n",
       "#T_887cd th {\n",
       "  text-align: left;\n",
       "}\n",
       "#T_887cd_row0_col0, #T_887cd_row0_col1, #T_887cd_row1_col0, #T_887cd_row1_col1, #T_887cd_row2_col0, #T_887cd_row2_col1, #T_887cd_row3_col0, #T_887cd_row3_col1, #T_887cd_row4_col0, #T_887cd_row4_col1 {\n",
       "  text-align: left;\n",
       "}\n",
       "</style>\n",
       "<table id=\"T_887cd\" style=\"font-size: 14px\">\n",
       "  <thead>\n",
       "    <tr>\n",
       "      <th id=\"T_887cd_level0_col0\" class=\"col_heading level0 col0\" >Version</th>\n",
       "      <th id=\"T_887cd_level0_col1\" class=\"col_heading level0 col1\" >1</th>\n",
       "    </tr>\n",
       "  </thead>\n",
       "  <tbody>\n",
       "    <tr>\n",
       "      <td id=\"T_887cd_row0_col0\" class=\"data row0 col0\" >Version Date</td>\n",
       "      <td id=\"T_887cd_row0_col1\" class=\"data row0 col1\" >01 Nov 2021</td>\n",
       "    </tr>\n",
       "    <tr>\n",
       "      <td id=\"T_887cd_row1_col0\" class=\"data row1 col0\" >Number of Variables</td>\n",
       "      <td id=\"T_887cd_row1_col1\" class=\"data row1 col1\" >77</td>\n",
       "    </tr>\n",
       "    <tr>\n",
       "      <td id=\"T_887cd_row2_col0\" class=\"data row2 col0\" >Number of Observations</td>\n",
       "      <td id=\"T_887cd_row2_col1\" class=\"data row2 col1\" >11859</td>\n",
       "    </tr>\n",
       "    <tr>\n",
       "      <td id=\"T_887cd_row3_col0\" class=\"data row3 col0\" >DOI</td>\n",
       "      <td id=\"T_887cd_row3_col1\" class=\"data row3 col1\" > <a href=\"https://doi.org/10.83126/ukllc-dataset-00291-01\" rel=\"noopener noreferrer\" target=\"_blank\">10.83126/ukllc-dataset-00291-01</a></td>\n",
       "    </tr>\n",
       "    <tr>\n",
       "      <td id=\"T_887cd_row4_col0\" class=\"data row4 col0\" >Change Log</td>\n",
       "      <td id=\"T_887cd_row4_col1\" class=\"data row4 col1\" > <a href=\"https://api.test.datacite.org/dois/10.83126/ukllc-dataset-00291-01/activities\" rel=\"noopener noreferrer\" target=\"_blank\">10.83126/ukllc-dataset-00291-01/activities</a></td>\n",
       "    </tr>\n",
       "  </tbody>\n",
       "</table>\n"
      ],
      "text/plain": [
       "<pandas.io.formats.style.Styler at 0x22e1e6d5430>"
      ]
     },
     "execution_count": 4,
     "metadata": {},
     "output_type": "execute_result"
    }
   ],
   "source": [
    "ds.version_history()"
   ]
  },
  {
   "cell_type": "markdown",
   "id": "0990617a",
   "metadata": {},
   "source": [
    "## 3. Documentation"
   ]
  },
  {
   "cell_type": "code",
   "execution_count": 5,
   "id": "2f1ad888",
   "metadata": {
    "execution": {
     "iopub.execute_input": "2025-07-18T09:59:11.426769Z",
     "iopub.status.busy": "2025-07-18T09:59:11.425768Z",
     "iopub.status.idle": "2025-07-18T09:59:11.436417Z",
     "shell.execute_reply": "2025-07-18T09:59:11.435417Z"
    },
    "tags": [
     "remove-input"
    ]
   },
   "outputs": [
    {
     "data": {
      "text/markdown": [
       "We are currently building a documentation storage system which will host useful documents related to datasets and data owners. We will surface these documents on Guidebook."
      ],
      "text/plain": [
       "<IPython.core.display.Markdown object>"
      ]
     },
     "metadata": {},
     "output_type": "display_data"
    }
   ],
   "source": [
    "ds.documentation()"
   ]
  },
  {
   "cell_type": "markdown",
   "id": "d888df39",
   "metadata": {},
   "source": [
    "## 4. Useful Syntax"
   ]
  },
  {
   "cell_type": "code",
   "execution_count": 6,
   "id": "a0c72d0d",
   "metadata": {
    "execution": {
     "iopub.execute_input": "2025-07-18T09:59:11.442416Z",
     "iopub.status.busy": "2025-07-18T09:59:11.441416Z",
     "iopub.status.idle": "2025-07-18T09:59:11.451440Z",
     "shell.execute_reply": "2025-07-18T09:59:11.449555Z"
    },
    "tags": [
     "remove-input"
    ]
   },
   "outputs": [
    {
     "data": {
      "text/markdown": [
       "Below we will include syntax that may be helpful to other researchers in the UK LLC TRE. For longer scripts, we will include a snippet of the code plus a link to Git where you can find the full scripts."
      ],
      "text/plain": [
       "<IPython.core.display.Markdown object>"
      ]
     },
     "metadata": {},
     "output_type": "display_data"
    }
   ],
   "source": [
    "ds.useful_syntax()"
   ]
  }
 ],
 "metadata": {
  "language_info": {
   "codemirror_mode": {
    "name": "ipython",
    "version": 3
   },
   "file_extension": ".py",
   "mimetype": "text/x-python",
   "name": "python",
   "nbconvert_exporter": "python",
   "pygments_lexer": "ipython3",
   "version": "3.12.7"
  }
 },
 "nbformat": 4,
 "nbformat_minor": 5
}
