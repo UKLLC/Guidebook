{
 "cells": [
  {
   "cell_type": "markdown",
   "id": "a070f014",
   "metadata": {},
   "source": [
    "# MCS3 Older Siblings Questionnaire (MCS)"
   ]
  },
  {
   "cell_type": "code",
   "execution_count": 1,
   "id": "69987b9d",
   "metadata": {
    "execution": {
     "iopub.execute_input": "2025-07-18T09:52:48.307328Z",
     "iopub.status.busy": "2025-07-18T09:52:48.307328Z",
     "iopub.status.idle": "2025-07-18T09:52:54.919092Z",
     "shell.execute_reply": "2025-07-18T09:52:54.919092Z"
    },
    "tags": [
     "remove-input"
    ]
   },
   "outputs": [
    {
     "data": {
      "text/markdown": [
       ">Last modified: 18 Jul 2025"
      ],
      "text/plain": [
       "<IPython.core.display.Markdown object>"
      ]
     },
     "metadata": {},
     "output_type": "display_data"
    }
   ],
   "source": [
    "\n",
    "import sys\n",
    "import os\n",
    "sys.path.append(os.path.abspath('../../../../scripts/'))\n",
    "from data_doc_helper import LPSDataSet as DS, last_modified\n",
    "API_KEY = os.environ['FASTAPI_KEY']\n",
    "ds = DS(\"MCS\", \"mcs3_older_siblings_questionnaire\")\n",
    "last_modified()\n"
   ]
  },
  {
   "cell_type": "markdown",
   "id": "f05d7deb",
   "metadata": {},
   "source": [
    "## 1. Summary"
   ]
  },
  {
   "cell_type": "code",
   "execution_count": 2,
   "id": "9f17ee64",
   "metadata": {
    "execution": {
     "iopub.execute_input": "2025-07-18T09:52:54.924098Z",
     "iopub.status.busy": "2025-07-18T09:52:54.924098Z",
     "iopub.status.idle": "2025-07-18T09:52:54.936253Z",
     "shell.execute_reply": "2025-07-18T09:52:54.934146Z"
    },
    "tags": [
     "remove-input"
    ]
   },
   "outputs": [
    {
     "data": {
      "text/markdown": [
       "This dataset contains parent-reported child SDQ responses and derived scores for selected older sibling of the cohort member, along with responses from parents on topics such as the sibling's education. The dataset also contains self completion responses by the older siblings to a separate questionnaire about their hobbies, interests, activities, anti social behaviour etc. "
      ],
      "text/plain": [
       "<IPython.core.display.Markdown object>"
      ]
     },
     "metadata": {},
     "output_type": "display_data"
    }
   ],
   "source": [
    "ds.summary()"
   ]
  },
  {
   "cell_type": "code",
   "execution_count": 3,
   "id": "6e4db14a",
   "metadata": {
    "execution": {
     "iopub.execute_input": "2025-07-18T09:52:54.942771Z",
     "iopub.status.busy": "2025-07-18T09:52:54.941255Z",
     "iopub.status.idle": "2025-07-18T09:52:56.069133Z",
     "shell.execute_reply": "2025-07-18T09:52:56.068126Z"
    },
    "tags": [
     "remove-input"
    ]
   },
   "outputs": [
    {
     "data": {
      "text/html": [
       "<style type=\"text/css\">\n",
       "#T_9a451 th {\n",
       "  text-align: left;\n",
       "}\n",
       "#T_9a451_row0_col0, #T_9a451_row0_col1, #T_9a451_row1_col0, #T_9a451_row1_col1, #T_9a451_row2_col0, #T_9a451_row2_col1, #T_9a451_row3_col0, #T_9a451_row3_col1, #T_9a451_row4_col0, #T_9a451_row4_col1, #T_9a451_row5_col0, #T_9a451_row5_col1, #T_9a451_row6_col0, #T_9a451_row6_col1, #T_9a451_row7_col0, #T_9a451_row7_col1, #T_9a451_row8_col0, #T_9a451_row8_col1, #T_9a451_row9_col0, #T_9a451_row9_col1, #T_9a451_row10_col0, #T_9a451_row10_col1, #T_9a451_row11_col0, #T_9a451_row11_col1, #T_9a451_row12_col0, #T_9a451_row12_col1 {\n",
       "  text-align: left;\n",
       "}\n",
       "</style>\n",
       "<table id=\"T_9a451\" style=\"font-size: 14px\">\n",
       "  <thead>\n",
       "    <tr>\n",
       "      <th id=\"T_9a451_level0_col0\" class=\"col_heading level0 col0\" >Dataset Descriptor</th>\n",
       "      <th id=\"T_9a451_level0_col1\" class=\"col_heading level0 col1\" >Dataset-specific Information</th>\n",
       "    </tr>\n",
       "  </thead>\n",
       "  <tbody>\n",
       "    <tr>\n",
       "      <td id=\"T_9a451_row0_col0\" class=\"data row0 col0\" >Name of Dataset in TRE</td>\n",
       "      <td id=\"T_9a451_row0_col1\" class=\"data row0 col1\" >MCS_mcs3_older_siblings_questionnaire</td>\n",
       "    </tr>\n",
       "    <tr>\n",
       "      <td id=\"T_9a451_row1_col0\" class=\"data row1 col0\" >Citation (APA)</td>\n",
       "      <td id=\"T_9a451_row1_col1\" class=\"data row1 col1\" >University College London, UCL Social Research Institute, Centre for Longitudinal Studies. (2021). <i>Millennium Cohort Study (MCS): MCS3 Older Siblings Questionnaire.</i> UK Longitudinal Linkage Collaboration (UK LLC).  <a href=\"https://doi.org/10.83126/ukllc-dataset-00266-01\" rel=\"noopener noreferrer\" target=\"_blank\">https://doi.org/10.83126/ukllc-dataset-00266-01</a></td>\n",
       "    </tr>\n",
       "    <tr>\n",
       "      <td id=\"T_9a451_row2_col0\" class=\"data row2 col0\" >Download Citation</td>\n",
       "      <td id=\"T_9a451_row2_col1\" class=\"data row2 col1\" > <a href=\"https://api.test.datacite.org/application/vnd.citationstyles.csl+json/10.83126/ukllc-dataset-00266-01\" rel=\"noopener noreferrer\" target=\"_blank\">Citeproc JSON</a>&nbsp;&nbsp;&nbsp;&nbsp; <a href=\"https://api.test.datacite.org/application/x-bibtex/10.83126/ukllc-dataset-00266-01\" rel=\"noopener noreferrer\" target=\"_blank\">BibTeX</a>&nbsp;&nbsp;&nbsp;&nbsp; <a href=\"https://api.test.datacite.org/application/x-research-info-systems/10.83126/ukllc-dataset-00266-01\" rel=\"noopener noreferrer\" target=\"_blank\">RIS</a></td>\n",
       "    </tr>\n",
       "    <tr>\n",
       "      <td id=\"T_9a451_row3_col0\" class=\"data row3 col0\" >Series</td>\n",
       "      <td id=\"T_9a451_row3_col1\" class=\"data row3 col1\" > <a href=\"https://guidebook.ukllc.ac.uk/docs/lps/lps%20profiles/MCS\">Millennium Cohort Study (MCS)</a></td>\n",
       "    </tr>\n",
       "    <tr>\n",
       "      <td id=\"T_9a451_row4_col0\" class=\"data row4 col0\" >Owner</td>\n",
       "      <td id=\"T_9a451_row4_col1\" class=\"data row4 col1\" >UCL</td>\n",
       "    </tr>\n",
       "    <tr>\n",
       "      <td id=\"T_9a451_row5_col0\" class=\"data row5 col0\" >Temporal Coverage</td>\n",
       "      <td id=\"T_9a451_row5_col1\" class=\"data row5 col1\" >01/2006 - 12/2006</td>\n",
       "    </tr>\n",
       "    <tr>\n",
       "      <td id=\"T_9a451_row6_col0\" class=\"data row6 col0\" >Keywords</td>\n",
       "      <td id=\"T_9a451_row6_col1\" class=\"data row6 col1\" >Family Life,Health,employment,attitudes,Social mobility</td>\n",
       "    </tr>\n",
       "    <tr>\n",
       "      <td id=\"T_9a451_row7_col0\" class=\"data row7 col0\" >Participants Invited</td>\n",
       "      <td id=\"T_9a451_row7_col1\" class=\"data row7 col1\" >15246</td>\n",
       "    </tr>\n",
       "    <tr>\n",
       "      <td id=\"T_9a451_row8_col0\" class=\"data row8 col0\" >Participant Count</td>\n",
       "      <td id=\"T_9a451_row8_col1\" class=\"data row8 col1\" >26869</td>\n",
       "    </tr>\n",
       "    <tr>\n",
       "      <td id=\"T_9a451_row9_col0\" class=\"data row9 col0\" >Number of variables</td>\n",
       "      <td id=\"T_9a451_row9_col1\" class=\"data row9 col1\" >145</td>\n",
       "    </tr>\n",
       "    <tr>\n",
       "      <td id=\"T_9a451_row10_col0\" class=\"data row10 col0\" >Number of observations</td>\n",
       "      <td id=\"T_9a451_row10_col1\" class=\"data row10 col1\" >47093</td>\n",
       "    </tr>\n",
       "    <tr>\n",
       "      <td id=\"T_9a451_row11_col0\" class=\"data row11 col0\" >Specific Restrictions to Data Use</td>\n",
       "      <td id=\"T_9a451_row11_col1\" class=\"data row11 col1\" >None</td>\n",
       "    </tr>\n",
       "    <tr>\n",
       "      <td id=\"T_9a451_row12_col0\" class=\"data row12 col0\" >Build a Data Request</td>\n",
       "      <td id=\"T_9a451_row12_col1\" class=\"data row12 col1\" > <a href=\"https://explore.ukllc.ac.uk/\" rel=\"noopener noreferrer\" target=\"_blank\">https://explore.ukllc.ac.uk/</a></td>\n",
       "    </tr>\n",
       "  </tbody>\n",
       "</table>\n"
      ],
      "text/plain": [
       "<pandas.io.formats.style.Styler at 0x2622683bfe0>"
      ]
     },
     "execution_count": 3,
     "metadata": {},
     "output_type": "execute_result"
    }
   ],
   "source": [
    "ds.info_table()"
   ]
  },
  {
   "cell_type": "markdown",
   "id": "7abd8c41",
   "metadata": {},
   "source": [
    "## 2. Version History"
   ]
  },
  {
   "cell_type": "code",
   "execution_count": 4,
   "id": "027d10f3",
   "metadata": {
    "execution": {
     "iopub.execute_input": "2025-07-18T09:52:56.075132Z",
     "iopub.status.busy": "2025-07-18T09:52:56.074131Z",
     "iopub.status.idle": "2025-07-18T09:52:59.285874Z",
     "shell.execute_reply": "2025-07-18T09:52:59.283866Z"
    },
    "tags": [
     "remove-input"
    ]
   },
   "outputs": [
    {
     "data": {
      "text/html": [
       "<style type=\"text/css\">\n",
       "#T_cfa9b th {\n",
       "  text-align: left;\n",
       "}\n",
       "#T_cfa9b_row0_col0, #T_cfa9b_row0_col1, #T_cfa9b_row1_col0, #T_cfa9b_row1_col1, #T_cfa9b_row2_col0, #T_cfa9b_row2_col1, #T_cfa9b_row3_col0, #T_cfa9b_row3_col1, #T_cfa9b_row4_col0, #T_cfa9b_row4_col1 {\n",
       "  text-align: left;\n",
       "}\n",
       "</style>\n",
       "<table id=\"T_cfa9b\" style=\"font-size: 14px\">\n",
       "  <thead>\n",
       "    <tr>\n",
       "      <th id=\"T_cfa9b_level0_col0\" class=\"col_heading level0 col0\" >Version</th>\n",
       "      <th id=\"T_cfa9b_level0_col1\" class=\"col_heading level0 col1\" >1</th>\n",
       "    </tr>\n",
       "  </thead>\n",
       "  <tbody>\n",
       "    <tr>\n",
       "      <td id=\"T_cfa9b_row0_col0\" class=\"data row0 col0\" >Version Date</td>\n",
       "      <td id=\"T_cfa9b_row0_col1\" class=\"data row0 col1\" >01 Nov 2021</td>\n",
       "    </tr>\n",
       "    <tr>\n",
       "      <td id=\"T_cfa9b_row1_col0\" class=\"data row1 col0\" >Number of Variables</td>\n",
       "      <td id=\"T_cfa9b_row1_col1\" class=\"data row1 col1\" >145</td>\n",
       "    </tr>\n",
       "    <tr>\n",
       "      <td id=\"T_cfa9b_row2_col0\" class=\"data row2 col0\" >Number of Observations</td>\n",
       "      <td id=\"T_cfa9b_row2_col1\" class=\"data row2 col1\" >47093</td>\n",
       "    </tr>\n",
       "    <tr>\n",
       "      <td id=\"T_cfa9b_row3_col0\" class=\"data row3 col0\" >DOI</td>\n",
       "      <td id=\"T_cfa9b_row3_col1\" class=\"data row3 col1\" > <a href=\"https://doi.org/10.83126/ukllc-dataset-00266-01\" rel=\"noopener noreferrer\" target=\"_blank\">10.83126/ukllc-dataset-00266-01</a></td>\n",
       "    </tr>\n",
       "    <tr>\n",
       "      <td id=\"T_cfa9b_row4_col0\" class=\"data row4 col0\" >Change Log</td>\n",
       "      <td id=\"T_cfa9b_row4_col1\" class=\"data row4 col1\" > <a href=\"https://api.test.datacite.org/dois/10.83126/ukllc-dataset-00266-01/activities\" rel=\"noopener noreferrer\" target=\"_blank\">10.83126/ukllc-dataset-00266-01/activities</a></td>\n",
       "    </tr>\n",
       "  </tbody>\n",
       "</table>\n"
      ],
      "text/plain": [
       "<pandas.io.formats.style.Styler at 0x26228450680>"
      ]
     },
     "execution_count": 4,
     "metadata": {},
     "output_type": "execute_result"
    }
   ],
   "source": [
    "ds.version_history()"
   ]
  },
  {
   "cell_type": "markdown",
   "id": "e7012a97",
   "metadata": {},
   "source": [
    "## 3. Documentation"
   ]
  },
  {
   "cell_type": "code",
   "execution_count": 5,
   "id": "f20aa365",
   "metadata": {
    "execution": {
     "iopub.execute_input": "2025-07-18T09:52:59.291873Z",
     "iopub.status.busy": "2025-07-18T09:52:59.291873Z",
     "iopub.status.idle": "2025-07-18T09:52:59.301331Z",
     "shell.execute_reply": "2025-07-18T09:52:59.300322Z"
    },
    "tags": [
     "remove-input"
    ]
   },
   "outputs": [
    {
     "data": {
      "text/markdown": [
       "We are currently building a documentation storage system which will host useful documents related to datasets and data owners. We will surface these documents on Guidebook."
      ],
      "text/plain": [
       "<IPython.core.display.Markdown object>"
      ]
     },
     "metadata": {},
     "output_type": "display_data"
    }
   ],
   "source": [
    "ds.documentation()"
   ]
  },
  {
   "cell_type": "markdown",
   "id": "377bcc28",
   "metadata": {},
   "source": [
    "## 4. Useful Syntax"
   ]
  },
  {
   "cell_type": "code",
   "execution_count": 6,
   "id": "afeb2b5d",
   "metadata": {
    "execution": {
     "iopub.execute_input": "2025-07-18T09:52:59.306662Z",
     "iopub.status.busy": "2025-07-18T09:52:59.306662Z",
     "iopub.status.idle": "2025-07-18T09:52:59.316177Z",
     "shell.execute_reply": "2025-07-18T09:52:59.314664Z"
    },
    "tags": [
     "remove-input"
    ]
   },
   "outputs": [
    {
     "data": {
      "text/markdown": [
       "Below we will include syntax that may be helpful to other researchers in the UK LLC TRE. For longer scripts, we will include a snippet of the code plus a link to Git where you can find the full scripts."
      ],
      "text/plain": [
       "<IPython.core.display.Markdown object>"
      ]
     },
     "metadata": {},
     "output_type": "display_data"
    }
   ],
   "source": [
    "ds.useful_syntax()"
   ]
  }
 ],
 "metadata": {
  "language_info": {
   "codemirror_mode": {
    "name": "ipython",
    "version": 3
   },
   "file_extension": ".py",
   "mimetype": "text/x-python",
   "name": "python",
   "nbconvert_exporter": "python",
   "pygments_lexer": "ipython3",
   "version": "3.12.7"
  }
 },
 "nbformat": 4,
 "nbformat_minor": 5
}
