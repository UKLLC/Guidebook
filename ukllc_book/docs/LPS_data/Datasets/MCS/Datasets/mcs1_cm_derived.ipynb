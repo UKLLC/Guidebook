{
 "cells": [
  {
   "cell_type": "markdown",
   "id": "ccabae54",
   "metadata": {},
   "source": [
    "# MCS1 Cohort Member Derived (MCS)"
   ]
  },
  {
   "cell_type": "code",
   "execution_count": 1,
   "id": "94ae9b58",
   "metadata": {
    "execution": {
     "iopub.execute_input": "2025-07-28T19:14:38.337397Z",
     "iopub.status.busy": "2025-07-28T19:14:38.336397Z",
     "iopub.status.idle": "2025-07-28T19:14:52.113944Z",
     "shell.execute_reply": "2025-07-28T19:14:52.111440Z"
    },
    "tags": [
     "remove-input"
    ]
   },
   "outputs": [
    {
     "data": {
      "text/markdown": [
       ">Last modified: 28 Jul 2025"
      ],
      "text/plain": [
       "<IPython.core.display.Markdown object>"
      ]
     },
     "metadata": {},
     "output_type": "display_data"
    }
   ],
   "source": [
    "\n",
    "import sys\n",
    "import os\n",
    "sys.path.append(os.path.abspath('../../../../scripts/'))\n",
    "from data_doc_helper import LPSDataSet as DS, last_modified\n",
    "API_KEY = os.environ['FASTAPI_KEY']\n",
    "ds = DS(\"MCS\", \"mcs1_cm_derived\")\n",
    "last_modified()\n"
   ]
  },
  {
   "cell_type": "markdown",
   "id": "b95d41af",
   "metadata": {},
   "source": [
    "## 1. Summary"
   ]
  },
  {
   "cell_type": "code",
   "execution_count": 2,
   "id": "3d34e623",
   "metadata": {
    "execution": {
     "iopub.execute_input": "2025-07-28T19:14:52.122960Z",
     "iopub.status.busy": "2025-07-28T19:14:52.122960Z",
     "iopub.status.idle": "2025-07-28T19:14:52.138021Z",
     "shell.execute_reply": "2025-07-28T19:14:52.135989Z"
    },
    "tags": [
     "remove-input"
    ]
   },
   "outputs": [
    {
     "data": {
      "text/markdown": [
       "This dataset contains derived variables relating to the cohort child including ethnic group categories, birth weight in kilos, recent weight in kilos and gestation period "
      ],
      "text/plain": [
       "<IPython.core.display.Markdown object>"
      ]
     },
     "metadata": {},
     "output_type": "display_data"
    }
   ],
   "source": [
    "ds.summary()"
   ]
  },
  {
   "cell_type": "code",
   "execution_count": 3,
   "id": "e4c6021f",
   "metadata": {
    "execution": {
     "iopub.execute_input": "2025-07-28T19:14:52.144067Z",
     "iopub.status.busy": "2025-07-28T19:14:52.143063Z",
     "iopub.status.idle": "2025-07-28T19:14:53.820969Z",
     "shell.execute_reply": "2025-07-28T19:14:53.819968Z"
    },
    "tags": [
     "remove-input"
    ]
   },
   "outputs": [
    {
     "data": {
      "text/html": [
       "<style type=\"text/css\">\n",
       "#T_2d965 th {\n",
       "  text-align: left;\n",
       "}\n",
       "#T_2d965_row0_col0, #T_2d965_row0_col1, #T_2d965_row1_col0, #T_2d965_row1_col1, #T_2d965_row2_col0, #T_2d965_row2_col1, #T_2d965_row3_col0, #T_2d965_row3_col1, #T_2d965_row4_col0, #T_2d965_row4_col1, #T_2d965_row5_col0, #T_2d965_row5_col1, #T_2d965_row6_col0, #T_2d965_row6_col1, #T_2d965_row7_col0, #T_2d965_row7_col1, #T_2d965_row8_col0, #T_2d965_row8_col1, #T_2d965_row9_col0, #T_2d965_row9_col1, #T_2d965_row10_col0, #T_2d965_row10_col1, #T_2d965_row11_col0, #T_2d965_row11_col1, #T_2d965_row12_col0, #T_2d965_row12_col1 {\n",
       "  text-align: left;\n",
       "}\n",
       "</style>\n",
       "<table id=\"T_2d965\" style=\"font-size: 14px\">\n",
       "  <thead>\n",
       "    <tr>\n",
       "      <th id=\"T_2d965_level0_col0\" class=\"col_heading level0 col0\" >Dataset Descriptor</th>\n",
       "      <th id=\"T_2d965_level0_col1\" class=\"col_heading level0 col1\" >Dataset-specific Information</th>\n",
       "    </tr>\n",
       "  </thead>\n",
       "  <tbody>\n",
       "    <tr>\n",
       "      <td id=\"T_2d965_row0_col0\" class=\"data row0 col0\" >Name of Dataset in TRE</td>\n",
       "      <td id=\"T_2d965_row0_col1\" class=\"data row0 col1\" >MCS_mcs1_cm_derived</td>\n",
       "    </tr>\n",
       "    <tr>\n",
       "      <td id=\"T_2d965_row1_col0\" class=\"data row1 col0\" >Citation (APA)</td>\n",
       "      <td id=\"T_2d965_row1_col1\" class=\"data row1 col1\" >University College London, UCL Social Research Institute, Centre for Longitudinal Studies. (2021). <i>Millennium Cohort Study (MCS): MCS1 Cohort Member Derived.</i> UK Longitudinal Linkage Collaboration (UK LLC).  <a href=\"https://doi.org/10.71760/ukllc-dataset-00162-01\" rel=\"noopener noreferrer\" target=\"_blank\">https://doi.org/10.71760/ukllc-dataset-00162-01</a></td>\n",
       "    </tr>\n",
       "    <tr>\n",
       "      <td id=\"T_2d965_row2_col0\" class=\"data row2 col0\" >Download Citation</td>\n",
       "      <td id=\"T_2d965_row2_col1\" class=\"data row2 col1\" > <a href=\"https://api.datacite.org/application/vnd.citationstyles.csl+json/10.71760/ukllc-dataset-00162-01\" rel=\"noopener noreferrer\" target=\"_blank\">Citeproc JSON</a>&nbsp;&nbsp;&nbsp;&nbsp; <a href=\"https://api.datacite.org/application/x-bibtex/10.71760/ukllc-dataset-00162-01\" rel=\"noopener noreferrer\" target=\"_blank\">BibTeX</a>&nbsp;&nbsp;&nbsp;&nbsp; <a href=\"https://api.datacite.org/application/x-research-info-systems/10.71760/ukllc-dataset-00162-01\" rel=\"noopener noreferrer\" target=\"_blank\">RIS</a></td>\n",
       "    </tr>\n",
       "    <tr>\n",
       "      <td id=\"T_2d965_row3_col0\" class=\"data row3 col0\" >Series</td>\n",
       "      <td id=\"T_2d965_row3_col1\" class=\"data row3 col1\" > <a href=\"https://guidebook.ukllc.ac.uk/docs/lps_data/lps%20profiles/MCS\">Millennium Cohort Study (MCS)</a></td>\n",
       "    </tr>\n",
       "    <tr>\n",
       "      <td id=\"T_2d965_row4_col0\" class=\"data row4 col0\" >Owner</td>\n",
       "      <td id=\"T_2d965_row4_col1\" class=\"data row4 col1\" >UCL</td>\n",
       "    </tr>\n",
       "    <tr>\n",
       "      <td id=\"T_2d965_row5_col0\" class=\"data row5 col0\" >Temporal Coverage</td>\n",
       "      <td id=\"T_2d965_row5_col1\" class=\"data row5 col1\" >06/2001 - 01/2003</td>\n",
       "    </tr>\n",
       "    <tr>\n",
       "      <td id=\"T_2d965_row6_col0\" class=\"data row6 col0\" >Keywords</td>\n",
       "      <td id=\"T_2d965_row6_col1\" class=\"data row6 col1\" >Pregnancy outcome,health,Birth characteristics</td>\n",
       "    </tr>\n",
       "    <tr>\n",
       "      <td id=\"T_2d965_row7_col0\" class=\"data row7 col0\" >Participants Invited</td>\n",
       "      <td id=\"T_2d965_row7_col1\" class=\"data row7 col1\" >18552</td>\n",
       "    </tr>\n",
       "    <tr>\n",
       "      <td id=\"T_2d965_row8_col0\" class=\"data row8 col0\" >Participant Count</td>\n",
       "      <td id=\"T_2d965_row8_col1\" class=\"data row8 col1\" >9277</td>\n",
       "    </tr>\n",
       "    <tr>\n",
       "      <td id=\"T_2d965_row9_col0\" class=\"data row9 col0\" >Number of variables</td>\n",
       "      <td id=\"T_2d965_row9_col1\" class=\"data row9 col1\" >17</td>\n",
       "    </tr>\n",
       "    <tr>\n",
       "      <td id=\"T_2d965_row10_col0\" class=\"data row10 col0\" >Number of observations</td>\n",
       "      <td id=\"T_2d965_row10_col1\" class=\"data row10 col1\" >18786</td>\n",
       "    </tr>\n",
       "    <tr>\n",
       "      <td id=\"T_2d965_row11_col0\" class=\"data row11 col0\" >Specific Restrictions to Data Use</td>\n",
       "      <td id=\"T_2d965_row11_col1\" class=\"data row11 col1\" >None</td>\n",
       "    </tr>\n",
       "    <tr>\n",
       "      <td id=\"T_2d965_row12_col0\" class=\"data row12 col0\" >Build a Data Request</td>\n",
       "      <td id=\"T_2d965_row12_col1\" class=\"data row12 col1\" > <a href=\"https://explore.ukllc.ac.uk/\" rel=\"noopener noreferrer\" target=\"_blank\">https://explore.ukllc.ac.uk/</a></td>\n",
       "    </tr>\n",
       "  </tbody>\n",
       "</table>\n"
      ],
      "text/plain": [
       "<pandas.io.formats.style.Styler at 0x279a366fa10>"
      ]
     },
     "execution_count": 3,
     "metadata": {},
     "output_type": "execute_result"
    }
   ],
   "source": [
    "ds.info_table()"
   ]
  },
  {
   "cell_type": "markdown",
   "id": "8fb05dfd",
   "metadata": {},
   "source": [
    "## 2. Version History"
   ]
  },
  {
   "cell_type": "code",
   "execution_count": 4,
   "id": "0beb90d9",
   "metadata": {
    "execution": {
     "iopub.execute_input": "2025-07-28T19:14:53.828973Z",
     "iopub.status.busy": "2025-07-28T19:14:53.827972Z",
     "iopub.status.idle": "2025-07-28T19:14:59.043194Z",
     "shell.execute_reply": "2025-07-28T19:14:59.041665Z"
    },
    "tags": [
     "remove-input"
    ]
   },
   "outputs": [
    {
     "data": {
      "text/html": [
       "<style type=\"text/css\">\n",
       "#T_21563 th {\n",
       "  text-align: left;\n",
       "}\n",
       "#T_21563_row0_col0, #T_21563_row0_col1, #T_21563_row1_col0, #T_21563_row1_col1, #T_21563_row2_col0, #T_21563_row2_col1, #T_21563_row3_col0, #T_21563_row3_col1, #T_21563_row4_col0, #T_21563_row4_col1 {\n",
       "  text-align: left;\n",
       "}\n",
       "</style>\n",
       "<table id=\"T_21563\" style=\"font-size: 14px\">\n",
       "  <thead>\n",
       "    <tr>\n",
       "      <th id=\"T_21563_level0_col0\" class=\"col_heading level0 col0\" >Version</th>\n",
       "      <th id=\"T_21563_level0_col1\" class=\"col_heading level0 col1\" >1</th>\n",
       "    </tr>\n",
       "  </thead>\n",
       "  <tbody>\n",
       "    <tr>\n",
       "      <td id=\"T_21563_row0_col0\" class=\"data row0 col0\" >Version Date</td>\n",
       "      <td id=\"T_21563_row0_col1\" class=\"data row0 col1\" >01 Nov 2021</td>\n",
       "    </tr>\n",
       "    <tr>\n",
       "      <td id=\"T_21563_row1_col0\" class=\"data row1 col0\" >Number of Variables</td>\n",
       "      <td id=\"T_21563_row1_col1\" class=\"data row1 col1\" >17</td>\n",
       "    </tr>\n",
       "    <tr>\n",
       "      <td id=\"T_21563_row2_col0\" class=\"data row2 col0\" >Number of Observations</td>\n",
       "      <td id=\"T_21563_row2_col1\" class=\"data row2 col1\" >18786</td>\n",
       "    </tr>\n",
       "    <tr>\n",
       "      <td id=\"T_21563_row3_col0\" class=\"data row3 col0\" >DOI</td>\n",
       "      <td id=\"T_21563_row3_col1\" class=\"data row3 col1\" > <a href=\"https://doi.org/10.71760/ukllc-dataset-00162-01\" rel=\"noopener noreferrer\" target=\"_blank\">10.71760/ukllc-dataset-00162-01</a></td>\n",
       "    </tr>\n",
       "    <tr>\n",
       "      <td id=\"T_21563_row4_col0\" class=\"data row4 col0\" >Change Log</td>\n",
       "      <td id=\"T_21563_row4_col1\" class=\"data row4 col1\" > <a href=\"https://api.test.datacite.org/dois/10.71760/ukllc-dataset-00162-01/activities\" rel=\"noopener noreferrer\" target=\"_blank\">10.71760/ukllc-dataset-00162-01/activities</a></td>\n",
       "    </tr>\n",
       "  </tbody>\n",
       "</table>\n"
      ],
      "text/plain": [
       "<pandas.io.formats.style.Styler at 0x279a9283e00>"
      ]
     },
     "execution_count": 4,
     "metadata": {},
     "output_type": "execute_result"
    }
   ],
   "source": [
    "ds.version_history()"
   ]
  },
  {
   "cell_type": "markdown",
   "id": "1c97d09d",
   "metadata": {},
   "source": [
    "## 3. Documentation"
   ]
  },
  {
   "cell_type": "code",
   "execution_count": 5,
   "id": "9d92cb52",
   "metadata": {
    "execution": {
     "iopub.execute_input": "2025-07-28T19:14:59.051199Z",
     "iopub.status.busy": "2025-07-28T19:14:59.050199Z",
     "iopub.status.idle": "2025-07-28T19:14:59.062070Z",
     "shell.execute_reply": "2025-07-28T19:14:59.060055Z"
    },
    "tags": [
     "remove-input"
    ]
   },
   "outputs": [
    {
     "data": {
      "text/markdown": [
       "We are currently building a documentation storage system which will host useful documents related to datasets and data owners. We will surface these documents on Guidebook."
      ],
      "text/plain": [
       "<IPython.core.display.Markdown object>"
      ]
     },
     "metadata": {},
     "output_type": "display_data"
    }
   ],
   "source": [
    "ds.documentation()"
   ]
  },
  {
   "cell_type": "markdown",
   "id": "5a93a37a",
   "metadata": {},
   "source": [
    "## 4. Useful Syntax"
   ]
  },
  {
   "cell_type": "code",
   "execution_count": 6,
   "id": "7d25dd23",
   "metadata": {
    "execution": {
     "iopub.execute_input": "2025-07-28T19:14:59.070118Z",
     "iopub.status.busy": "2025-07-28T19:14:59.070118Z",
     "iopub.status.idle": "2025-07-28T19:14:59.078425Z",
     "shell.execute_reply": "2025-07-28T19:14:59.077408Z"
    },
    "tags": [
     "remove-input"
    ]
   },
   "outputs": [
    {
     "data": {
      "text/markdown": [
       "Below we will include syntax that may be helpful to other researchers in the UK LLC TRE. For longer scripts, we will include a snippet of the code plus a link to Git where you can find the full scripts."
      ],
      "text/plain": [
       "<IPython.core.display.Markdown object>"
      ]
     },
     "metadata": {},
     "output_type": "display_data"
    }
   ],
   "source": [
    "ds.useful_syntax()"
   ]
  }
 ],
 "metadata": {
  "language_info": {
   "codemirror_mode": {
    "name": "ipython",
    "version": 3
   },
   "file_extension": ".py",
   "mimetype": "text/x-python",
   "name": "python",
   "nbconvert_exporter": "python",
   "pygments_lexer": "ipython3",
   "version": "3.12.7"
  }
 },
 "nbformat": 4,
 "nbformat_minor": 5
}
