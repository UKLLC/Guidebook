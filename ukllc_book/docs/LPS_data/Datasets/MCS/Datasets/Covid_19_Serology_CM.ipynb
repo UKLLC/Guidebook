{
 "cells": [
  {
   "cell_type": "markdown",
   "id": "8d29f3f0",
   "metadata": {},
   "source": [
    "# COVID-19 Antibody Testing - MCS Cohort Members (MCS)"
   ]
  },
  {
   "cell_type": "code",
   "execution_count": 1,
   "id": "42b97f6a",
   "metadata": {
    "execution": {
     "iopub.execute_input": "2025-07-28T19:10:04.667020Z",
     "iopub.status.busy": "2025-07-28T19:10:04.667020Z",
     "iopub.status.idle": "2025-07-28T19:10:17.501650Z",
     "shell.execute_reply": "2025-07-28T19:10:17.493679Z"
    },
    "tags": [
     "remove-input"
    ]
   },
   "outputs": [
    {
     "data": {
      "text/markdown": [
       ">Last modified: 28 Jul 2025"
      ],
      "text/plain": [
       "<IPython.core.display.Markdown object>"
      ]
     },
     "metadata": {},
     "output_type": "display_data"
    }
   ],
   "source": [
    "\n",
    "import sys\n",
    "import os\n",
    "sys.path.append(os.path.abspath('../../../../scripts/'))\n",
    "from data_doc_helper import LPSDataSet as DS, last_modified\n",
    "API_KEY = os.environ['FASTAPI_KEY']\n",
    "ds = DS(\"MCS\", \"Covid_19_Serology_CM\")\n",
    "last_modified()\n"
   ]
  },
  {
   "cell_type": "markdown",
   "id": "3481eecc",
   "metadata": {},
   "source": [
    "## 1. Summary"
   ]
  },
  {
   "cell_type": "code",
   "execution_count": 2,
   "id": "b9563906",
   "metadata": {
    "execution": {
     "iopub.execute_input": "2025-07-28T19:10:17.513714Z",
     "iopub.status.busy": "2025-07-28T19:10:17.513714Z",
     "iopub.status.idle": "2025-07-28T19:10:17.528820Z",
     "shell.execute_reply": "2025-07-28T19:10:17.526706Z"
    },
    "tags": [
     "remove-input"
    ]
   },
   "outputs": [
    {
     "data": {
      "text/markdown": [
       "Study members who participated in any of the three COVID-19 Surveys were invited to provide a blood sample to be analysed for COVID-19 antibodies. These were posted to a laboratory for tests for Roche Elecsys Anti-SARS-CoV-2 (a binary positive/negative Covid result) and Anti-SARS-CoV-2 S (a semi-quantitative assessment of antibodies to the SARS-CoV-2 spike protein)"
      ],
      "text/plain": [
       "<IPython.core.display.Markdown object>"
      ]
     },
     "metadata": {},
     "output_type": "display_data"
    }
   ],
   "source": [
    "ds.summary()"
   ]
  },
  {
   "cell_type": "code",
   "execution_count": 3,
   "id": "913aeeb4",
   "metadata": {
    "execution": {
     "iopub.execute_input": "2025-07-28T19:10:17.537823Z",
     "iopub.status.busy": "2025-07-28T19:10:17.536818Z",
     "iopub.status.idle": "2025-07-28T19:10:19.220817Z",
     "shell.execute_reply": "2025-07-28T19:10:19.218801Z"
    },
    "tags": [
     "remove-input"
    ]
   },
   "outputs": [
    {
     "data": {
      "text/html": [
       "<style type=\"text/css\">\n",
       "#T_70699 th {\n",
       "  text-align: left;\n",
       "}\n",
       "#T_70699_row0_col0, #T_70699_row0_col1, #T_70699_row1_col0, #T_70699_row1_col1, #T_70699_row2_col0, #T_70699_row2_col1, #T_70699_row3_col0, #T_70699_row3_col1, #T_70699_row4_col0, #T_70699_row4_col1, #T_70699_row5_col0, #T_70699_row5_col1, #T_70699_row6_col0, #T_70699_row6_col1, #T_70699_row7_col0, #T_70699_row7_col1, #T_70699_row8_col0, #T_70699_row8_col1, #T_70699_row9_col0, #T_70699_row9_col1, #T_70699_row10_col0, #T_70699_row10_col1, #T_70699_row11_col0, #T_70699_row11_col1, #T_70699_row12_col0, #T_70699_row12_col1 {\n",
       "  text-align: left;\n",
       "}\n",
       "</style>\n",
       "<table id=\"T_70699\" style=\"font-size: 14px\">\n",
       "  <thead>\n",
       "    <tr>\n",
       "      <th id=\"T_70699_level0_col0\" class=\"col_heading level0 col0\" >Dataset Descriptor</th>\n",
       "      <th id=\"T_70699_level0_col1\" class=\"col_heading level0 col1\" >Dataset-specific Information</th>\n",
       "    </tr>\n",
       "  </thead>\n",
       "  <tbody>\n",
       "    <tr>\n",
       "      <td id=\"T_70699_row0_col0\" class=\"data row0 col0\" >Name of Dataset in TRE</td>\n",
       "      <td id=\"T_70699_row0_col1\" class=\"data row0 col1\" >MCS_Covid_19_Serology_CM</td>\n",
       "    </tr>\n",
       "    <tr>\n",
       "      <td id=\"T_70699_row1_col0\" class=\"data row1 col0\" >Citation (APA)</td>\n",
       "      <td id=\"T_70699_row1_col1\" class=\"data row1 col1\" >University College London, UCL Social Research Institute, Centre for Longitudinal Studies. (2021). <i>Millennium Cohort Study (MCS): COVID-19 Antibody Testing - MCS Cohort Members.</i> UK Longitudinal Linkage Collaboration (UK LLC).  <a href=\"https://doi.org/10.71760/ukllc-dataset-00155-01\" rel=\"noopener noreferrer\" target=\"_blank\">https://doi.org/10.71760/ukllc-dataset-00155-01</a></td>\n",
       "    </tr>\n",
       "    <tr>\n",
       "      <td id=\"T_70699_row2_col0\" class=\"data row2 col0\" >Download Citation</td>\n",
       "      <td id=\"T_70699_row2_col1\" class=\"data row2 col1\" > <a href=\"https://api.datacite.org/application/vnd.citationstyles.csl+json/10.71760/ukllc-dataset-00155-01\" rel=\"noopener noreferrer\" target=\"_blank\">Citeproc JSON</a>&nbsp;&nbsp;&nbsp;&nbsp; <a href=\"https://api.datacite.org/application/x-bibtex/10.71760/ukllc-dataset-00155-01\" rel=\"noopener noreferrer\" target=\"_blank\">BibTeX</a>&nbsp;&nbsp;&nbsp;&nbsp; <a href=\"https://api.datacite.org/application/x-research-info-systems/10.71760/ukllc-dataset-00155-01\" rel=\"noopener noreferrer\" target=\"_blank\">RIS</a></td>\n",
       "    </tr>\n",
       "    <tr>\n",
       "      <td id=\"T_70699_row3_col0\" class=\"data row3 col0\" >Series</td>\n",
       "      <td id=\"T_70699_row3_col1\" class=\"data row3 col1\" > <a href=\"https://guidebook.ukllc.ac.uk/docs/lps_data/lps%20profiles/MCS\">Millennium Cohort Study (MCS)</a></td>\n",
       "    </tr>\n",
       "    <tr>\n",
       "      <td id=\"T_70699_row4_col0\" class=\"data row4 col0\" >Owner</td>\n",
       "      <td id=\"T_70699_row4_col1\" class=\"data row4 col1\" >UCL</td>\n",
       "    </tr>\n",
       "    <tr>\n",
       "      <td id=\"T_70699_row5_col0\" class=\"data row5 col0\" >Temporal Coverage</td>\n",
       "      <td id=\"T_70699_row5_col1\" class=\"data row5 col1\" >03/2021 - 03/2021</td>\n",
       "    </tr>\n",
       "    <tr>\n",
       "      <td id=\"T_70699_row6_col0\" class=\"data row6 col0\" >Keywords</td>\n",
       "      <td id=\"T_70699_row6_col1\" class=\"data row6 col1\" >COVID,Education,Employment,Income,Household,Mental Health</td>\n",
       "    </tr>\n",
       "    <tr>\n",
       "      <td id=\"T_70699_row7_col0\" class=\"data row7 col0\" >Participants Invited</td>\n",
       "      <td id=\"T_70699_row7_col1\" class=\"data row7 col1\" >5477</td>\n",
       "    </tr>\n",
       "    <tr>\n",
       "      <td id=\"T_70699_row8_col0\" class=\"data row8 col0\" >Participant Count</td>\n",
       "      <td id=\"T_70699_row8_col1\" class=\"data row8 col1\" >4590</td>\n",
       "    </tr>\n",
       "    <tr>\n",
       "      <td id=\"T_70699_row9_col0\" class=\"data row9 col0\" >Number of variables</td>\n",
       "      <td id=\"T_70699_row9_col1\" class=\"data row9 col1\" >18</td>\n",
       "    </tr>\n",
       "    <tr>\n",
       "      <td id=\"T_70699_row10_col0\" class=\"data row10 col0\" >Number of observations</td>\n",
       "      <td id=\"T_70699_row10_col1\" class=\"data row10 col1\" >5498</td>\n",
       "    </tr>\n",
       "    <tr>\n",
       "      <td id=\"T_70699_row11_col0\" class=\"data row11 col0\" >Specific Restrictions to Data Use</td>\n",
       "      <td id=\"T_70699_row11_col1\" class=\"data row11 col1\" >None</td>\n",
       "    </tr>\n",
       "    <tr>\n",
       "      <td id=\"T_70699_row12_col0\" class=\"data row12 col0\" >Build a Data Request</td>\n",
       "      <td id=\"T_70699_row12_col1\" class=\"data row12 col1\" > <a href=\"https://explore.ukllc.ac.uk/\" rel=\"noopener noreferrer\" target=\"_blank\">https://explore.ukllc.ac.uk/</a></td>\n",
       "    </tr>\n",
       "  </tbody>\n",
       "</table>\n"
      ],
      "text/plain": [
       "<pandas.io.formats.style.Styler at 0x17bd56fde20>"
      ]
     },
     "execution_count": 3,
     "metadata": {},
     "output_type": "execute_result"
    }
   ],
   "source": [
    "ds.info_table()"
   ]
  },
  {
   "cell_type": "markdown",
   "id": "8c3f42b7",
   "metadata": {},
   "source": [
    "## 2. Version History"
   ]
  },
  {
   "cell_type": "code",
   "execution_count": 4,
   "id": "527bcaae",
   "metadata": {
    "execution": {
     "iopub.execute_input": "2025-07-28T19:10:19.227811Z",
     "iopub.status.busy": "2025-07-28T19:10:19.227811Z",
     "iopub.status.idle": "2025-07-28T19:10:24.704692Z",
     "shell.execute_reply": "2025-07-28T19:10:24.702675Z"
    },
    "tags": [
     "remove-input"
    ]
   },
   "outputs": [
    {
     "data": {
      "text/html": [
       "<style type=\"text/css\">\n",
       "#T_7653c th {\n",
       "  text-align: left;\n",
       "}\n",
       "#T_7653c_row0_col0, #T_7653c_row0_col1, #T_7653c_row1_col0, #T_7653c_row1_col1, #T_7653c_row2_col0, #T_7653c_row2_col1, #T_7653c_row3_col0, #T_7653c_row3_col1, #T_7653c_row4_col0, #T_7653c_row4_col1 {\n",
       "  text-align: left;\n",
       "}\n",
       "</style>\n",
       "<table id=\"T_7653c\" style=\"font-size: 14px\">\n",
       "  <thead>\n",
       "    <tr>\n",
       "      <th id=\"T_7653c_level0_col0\" class=\"col_heading level0 col0\" >Version</th>\n",
       "      <th id=\"T_7653c_level0_col1\" class=\"col_heading level0 col1\" >1</th>\n",
       "    </tr>\n",
       "  </thead>\n",
       "  <tbody>\n",
       "    <tr>\n",
       "      <td id=\"T_7653c_row0_col0\" class=\"data row0 col0\" >Version Date</td>\n",
       "      <td id=\"T_7653c_row0_col1\" class=\"data row0 col1\" >01 Nov 2021</td>\n",
       "    </tr>\n",
       "    <tr>\n",
       "      <td id=\"T_7653c_row1_col0\" class=\"data row1 col0\" >Number of Variables</td>\n",
       "      <td id=\"T_7653c_row1_col1\" class=\"data row1 col1\" >18</td>\n",
       "    </tr>\n",
       "    <tr>\n",
       "      <td id=\"T_7653c_row2_col0\" class=\"data row2 col0\" >Number of Observations</td>\n",
       "      <td id=\"T_7653c_row2_col1\" class=\"data row2 col1\" >5498</td>\n",
       "    </tr>\n",
       "    <tr>\n",
       "      <td id=\"T_7653c_row3_col0\" class=\"data row3 col0\" >DOI</td>\n",
       "      <td id=\"T_7653c_row3_col1\" class=\"data row3 col1\" > <a href=\"https://doi.org/10.71760/ukllc-dataset-00155-01\" rel=\"noopener noreferrer\" target=\"_blank\">10.71760/ukllc-dataset-00155-01</a></td>\n",
       "    </tr>\n",
       "    <tr>\n",
       "      <td id=\"T_7653c_row4_col0\" class=\"data row4 col0\" >Change Log</td>\n",
       "      <td id=\"T_7653c_row4_col1\" class=\"data row4 col1\" > <a href=\"https://api.test.datacite.org/dois/10.71760/ukllc-dataset-00155-01/activities\" rel=\"noopener noreferrer\" target=\"_blank\">10.71760/ukllc-dataset-00155-01/activities</a></td>\n",
       "    </tr>\n",
       "  </tbody>\n",
       "</table>\n"
      ],
      "text/plain": [
       "<pandas.io.formats.style.Styler at 0x17bd739bf50>"
      ]
     },
     "execution_count": 4,
     "metadata": {},
     "output_type": "execute_result"
    }
   ],
   "source": [
    "ds.version_history()"
   ]
  },
  {
   "cell_type": "markdown",
   "id": "ef27821e",
   "metadata": {},
   "source": [
    "## 3. Documentation"
   ]
  },
  {
   "cell_type": "code",
   "execution_count": 5,
   "id": "4c3dfbf0",
   "metadata": {
    "execution": {
     "iopub.execute_input": "2025-07-28T19:10:24.712692Z",
     "iopub.status.busy": "2025-07-28T19:10:24.712692Z",
     "iopub.status.idle": "2025-07-28T19:10:24.725837Z",
     "shell.execute_reply": "2025-07-28T19:10:24.723814Z"
    },
    "tags": [
     "remove-input"
    ]
   },
   "outputs": [
    {
     "data": {
      "text/markdown": [
       "We are currently building a documentation storage system which will host useful documents related to datasets and data owners. We will surface these documents on Guidebook."
      ],
      "text/plain": [
       "<IPython.core.display.Markdown object>"
      ]
     },
     "metadata": {},
     "output_type": "display_data"
    }
   ],
   "source": [
    "ds.documentation()"
   ]
  },
  {
   "cell_type": "markdown",
   "id": "be0ea9bf",
   "metadata": {},
   "source": [
    "## 4. Useful Syntax"
   ]
  },
  {
   "cell_type": "code",
   "execution_count": 6,
   "id": "27a3141d",
   "metadata": {
    "execution": {
     "iopub.execute_input": "2025-07-28T19:10:24.733391Z",
     "iopub.status.busy": "2025-07-28T19:10:24.733391Z",
     "iopub.status.idle": "2025-07-28T19:10:24.745621Z",
     "shell.execute_reply": "2025-07-28T19:10:24.744092Z"
    },
    "tags": [
     "remove-input"
    ]
   },
   "outputs": [
    {
     "data": {
      "text/markdown": [
       "Below we will include syntax that may be helpful to other researchers in the UK LLC TRE. For longer scripts, we will include a snippet of the code plus a link to Git where you can find the full scripts."
      ],
      "text/plain": [
       "<IPython.core.display.Markdown object>"
      ]
     },
     "metadata": {},
     "output_type": "display_data"
    }
   ],
   "source": [
    "ds.useful_syntax()"
   ]
  }
 ],
 "metadata": {
  "language_info": {
   "codemirror_mode": {
    "name": "ipython",
    "version": 3
   },
   "file_extension": ".py",
   "mimetype": "text/x-python",
   "name": "python",
   "nbconvert_exporter": "python",
   "pygments_lexer": "ipython3",
   "version": "3.12.7"
  }
 },
 "nbformat": 4,
 "nbformat_minor": 5
}
