{
 "cells": [
  {
   "cell_type": "markdown",
   "id": "d5cf295a",
   "metadata": {},
   "source": [
    "# MCS3 Parent Interview about Cohort Member (MCS)"
   ]
  },
  {
   "cell_type": "code",
   "execution_count": 1,
   "id": "7b2f7b84",
   "metadata": {
    "execution": {
     "iopub.execute_input": "2025-07-18T09:53:01.498966Z",
     "iopub.status.busy": "2025-07-18T09:53:01.498966Z",
     "iopub.status.idle": "2025-07-18T09:53:08.282214Z",
     "shell.execute_reply": "2025-07-18T09:53:08.280208Z"
    },
    "tags": [
     "remove-input"
    ]
   },
   "outputs": [
    {
     "data": {
      "text/markdown": [
       ">Last modified: 18 Jul 2025"
      ],
      "text/plain": [
       "<IPython.core.display.Markdown object>"
      ]
     },
     "metadata": {},
     "output_type": "display_data"
    }
   ],
   "source": [
    "\n",
    "import sys\n",
    "import os\n",
    "sys.path.append(os.path.abspath('../../../../scripts/'))\n",
    "from data_doc_helper import LPSDataSet as DS, last_modified\n",
    "API_KEY = os.environ['FASTAPI_KEY']\n",
    "ds = DS(\"MCS\", \"mcs3_parent_cm_interview\")\n",
    "last_modified()\n"
   ]
  },
  {
   "cell_type": "markdown",
   "id": "a7b333a0",
   "metadata": {},
   "source": [
    "## 1. Summary"
   ]
  },
  {
   "cell_type": "code",
   "execution_count": 2,
   "id": "9bb10293",
   "metadata": {
    "execution": {
     "iopub.execute_input": "2025-07-18T09:53:08.290214Z",
     "iopub.status.busy": "2025-07-18T09:53:08.289215Z",
     "iopub.status.idle": "2025-07-18T09:53:08.300199Z",
     "shell.execute_reply": "2025-07-18T09:53:08.299745Z"
    },
    "tags": [
     "remove-input"
    ]
   },
   "outputs": [
    {
     "data": {
      "text/markdown": [
       "This dataset contains responses at sweep 3 from parents about each cohort member's schooling, immunisations, accidents, injuries, hospital addmissions,  health, childcare, parent-reported child SDQ, interaction with siblings etc."
      ],
      "text/plain": [
       "<IPython.core.display.Markdown object>"
      ]
     },
     "metadata": {},
     "output_type": "display_data"
    }
   ],
   "source": [
    "ds.summary()"
   ]
  },
  {
   "cell_type": "code",
   "execution_count": 3,
   "id": "64dac39c",
   "metadata": {
    "execution": {
     "iopub.execute_input": "2025-07-18T09:53:08.305937Z",
     "iopub.status.busy": "2025-07-18T09:53:08.305937Z",
     "iopub.status.idle": "2025-07-18T09:53:09.993088Z",
     "shell.execute_reply": "2025-07-18T09:53:09.991082Z"
    },
    "tags": [
     "remove-input"
    ]
   },
   "outputs": [
    {
     "data": {
      "text/html": [
       "<style type=\"text/css\">\n",
       "#T_bfb87 th {\n",
       "  text-align: left;\n",
       "}\n",
       "#T_bfb87_row0_col0, #T_bfb87_row0_col1, #T_bfb87_row1_col0, #T_bfb87_row1_col1, #T_bfb87_row2_col0, #T_bfb87_row2_col1, #T_bfb87_row3_col0, #T_bfb87_row3_col1, #T_bfb87_row4_col0, #T_bfb87_row4_col1, #T_bfb87_row5_col0, #T_bfb87_row5_col1, #T_bfb87_row6_col0, #T_bfb87_row6_col1, #T_bfb87_row7_col0, #T_bfb87_row7_col1, #T_bfb87_row8_col0, #T_bfb87_row8_col1, #T_bfb87_row9_col0, #T_bfb87_row9_col1, #T_bfb87_row10_col0, #T_bfb87_row10_col1, #T_bfb87_row11_col0, #T_bfb87_row11_col1, #T_bfb87_row12_col0, #T_bfb87_row12_col1 {\n",
       "  text-align: left;\n",
       "}\n",
       "</style>\n",
       "<table id=\"T_bfb87\" style=\"font-size: 14px\">\n",
       "  <thead>\n",
       "    <tr>\n",
       "      <th id=\"T_bfb87_level0_col0\" class=\"col_heading level0 col0\" >Dataset Descriptor</th>\n",
       "      <th id=\"T_bfb87_level0_col1\" class=\"col_heading level0 col1\" >Dataset-specific Information</th>\n",
       "    </tr>\n",
       "  </thead>\n",
       "  <tbody>\n",
       "    <tr>\n",
       "      <td id=\"T_bfb87_row0_col0\" class=\"data row0 col0\" >Name of Dataset in TRE</td>\n",
       "      <td id=\"T_bfb87_row0_col1\" class=\"data row0 col1\" >MCS_mcs3_parent_cm_interview</td>\n",
       "    </tr>\n",
       "    <tr>\n",
       "      <td id=\"T_bfb87_row1_col0\" class=\"data row1 col0\" >Citation (APA)</td>\n",
       "      <td id=\"T_bfb87_row1_col1\" class=\"data row1 col1\" >University College London, UCL Social Research Institute, Centre for Longitudinal Studies. (2021). <i>Millennium Cohort Study (MCS): MCS3 Parent Interview about Cohort Member.</i> UK Longitudinal Linkage Collaboration (UK LLC).  <a href=\"https://doi.org/10.83126/ukllc-dataset-00267-01\" rel=\"noopener noreferrer\" target=\"_blank\">https://doi.org/10.83126/ukllc-dataset-00267-01</a></td>\n",
       "    </tr>\n",
       "    <tr>\n",
       "      <td id=\"T_bfb87_row2_col0\" class=\"data row2 col0\" >Download Citation</td>\n",
       "      <td id=\"T_bfb87_row2_col1\" class=\"data row2 col1\" > <a href=\"https://api.test.datacite.org/application/vnd.citationstyles.csl+json/10.83126/ukllc-dataset-00267-01\" rel=\"noopener noreferrer\" target=\"_blank\">Citeproc JSON</a>&nbsp;&nbsp;&nbsp;&nbsp; <a href=\"https://api.test.datacite.org/application/x-bibtex/10.83126/ukllc-dataset-00267-01\" rel=\"noopener noreferrer\" target=\"_blank\">BibTeX</a>&nbsp;&nbsp;&nbsp;&nbsp; <a href=\"https://api.test.datacite.org/application/x-research-info-systems/10.83126/ukllc-dataset-00267-01\" rel=\"noopener noreferrer\" target=\"_blank\">RIS</a></td>\n",
       "    </tr>\n",
       "    <tr>\n",
       "      <td id=\"T_bfb87_row3_col0\" class=\"data row3 col0\" >Series</td>\n",
       "      <td id=\"T_bfb87_row3_col1\" class=\"data row3 col1\" > <a href=\"https://guidebook.ukllc.ac.uk/docs/lps/lps%20profiles/MCS\">Millennium Cohort Study (MCS)</a></td>\n",
       "    </tr>\n",
       "    <tr>\n",
       "      <td id=\"T_bfb87_row4_col0\" class=\"data row4 col0\" >Owner</td>\n",
       "      <td id=\"T_bfb87_row4_col1\" class=\"data row4 col1\" >UCL</td>\n",
       "    </tr>\n",
       "    <tr>\n",
       "      <td id=\"T_bfb87_row5_col0\" class=\"data row5 col0\" >Temporal Coverage</td>\n",
       "      <td id=\"T_bfb87_row5_col1\" class=\"data row5 col1\" >01/2006 - 12/2006</td>\n",
       "    </tr>\n",
       "    <tr>\n",
       "      <td id=\"T_bfb87_row6_col0\" class=\"data row6 col0\" >Keywords</td>\n",
       "      <td id=\"T_bfb87_row6_col1\" class=\"data row6 col1\" >Family Life,Health,employment,attitudes,Social mobility</td>\n",
       "    </tr>\n",
       "    <tr>\n",
       "      <td id=\"T_bfb87_row7_col0\" class=\"data row7 col0\" >Participants Invited</td>\n",
       "      <td id=\"T_bfb87_row7_col1\" class=\"data row7 col1\" >15246</td>\n",
       "    </tr>\n",
       "    <tr>\n",
       "      <td id=\"T_bfb87_row8_col0\" class=\"data row8 col0\" >Participant Count</td>\n",
       "      <td id=\"T_bfb87_row8_col1\" class=\"data row8 col1\" >16953</td>\n",
       "    </tr>\n",
       "    <tr>\n",
       "      <td id=\"T_bfb87_row9_col0\" class=\"data row9 col0\" >Number of variables</td>\n",
       "      <td id=\"T_bfb87_row9_col1\" class=\"data row9 col1\" >686</td>\n",
       "    </tr>\n",
       "    <tr>\n",
       "      <td id=\"T_bfb87_row10_col0\" class=\"data row10 col0\" >Number of observations</td>\n",
       "      <td id=\"T_bfb87_row10_col1\" class=\"data row10 col1\" >26005</td>\n",
       "    </tr>\n",
       "    <tr>\n",
       "      <td id=\"T_bfb87_row11_col0\" class=\"data row11 col0\" >Specific Restrictions to Data Use</td>\n",
       "      <td id=\"T_bfb87_row11_col1\" class=\"data row11 col1\" >None</td>\n",
       "    </tr>\n",
       "    <tr>\n",
       "      <td id=\"T_bfb87_row12_col0\" class=\"data row12 col0\" >Build a Data Request</td>\n",
       "      <td id=\"T_bfb87_row12_col1\" class=\"data row12 col1\" > <a href=\"https://explore.ukllc.ac.uk/\" rel=\"noopener noreferrer\" target=\"_blank\">https://explore.ukllc.ac.uk/</a></td>\n",
       "    </tr>\n",
       "  </tbody>\n",
       "</table>\n"
      ],
      "text/plain": [
       "<pandas.io.formats.style.Styler at 0x201709e3710>"
      ]
     },
     "execution_count": 3,
     "metadata": {},
     "output_type": "execute_result"
    }
   ],
   "source": [
    "ds.info_table()"
   ]
  },
  {
   "cell_type": "markdown",
   "id": "611e7011",
   "metadata": {},
   "source": [
    "## 2. Version History"
   ]
  },
  {
   "cell_type": "code",
   "execution_count": 4,
   "id": "bbb91049",
   "metadata": {
    "execution": {
     "iopub.execute_input": "2025-07-18T09:53:09.999087Z",
     "iopub.status.busy": "2025-07-18T09:53:09.998088Z",
     "iopub.status.idle": "2025-07-18T09:53:12.910709Z",
     "shell.execute_reply": "2025-07-18T09:53:12.908704Z"
    },
    "tags": [
     "remove-input"
    ]
   },
   "outputs": [
    {
     "data": {
      "text/html": [
       "<style type=\"text/css\">\n",
       "#T_23cd6 th {\n",
       "  text-align: left;\n",
       "}\n",
       "#T_23cd6_row0_col0, #T_23cd6_row0_col1, #T_23cd6_row1_col0, #T_23cd6_row1_col1, #T_23cd6_row2_col0, #T_23cd6_row2_col1, #T_23cd6_row3_col0, #T_23cd6_row3_col1, #T_23cd6_row4_col0, #T_23cd6_row4_col1 {\n",
       "  text-align: left;\n",
       "}\n",
       "</style>\n",
       "<table id=\"T_23cd6\" style=\"font-size: 14px\">\n",
       "  <thead>\n",
       "    <tr>\n",
       "      <th id=\"T_23cd6_level0_col0\" class=\"col_heading level0 col0\" >Version</th>\n",
       "      <th id=\"T_23cd6_level0_col1\" class=\"col_heading level0 col1\" >1</th>\n",
       "    </tr>\n",
       "  </thead>\n",
       "  <tbody>\n",
       "    <tr>\n",
       "      <td id=\"T_23cd6_row0_col0\" class=\"data row0 col0\" >Version Date</td>\n",
       "      <td id=\"T_23cd6_row0_col1\" class=\"data row0 col1\" >01 Nov 2021</td>\n",
       "    </tr>\n",
       "    <tr>\n",
       "      <td id=\"T_23cd6_row1_col0\" class=\"data row1 col0\" >Number of Variables</td>\n",
       "      <td id=\"T_23cd6_row1_col1\" class=\"data row1 col1\" >686</td>\n",
       "    </tr>\n",
       "    <tr>\n",
       "      <td id=\"T_23cd6_row2_col0\" class=\"data row2 col0\" >Number of Observations</td>\n",
       "      <td id=\"T_23cd6_row2_col1\" class=\"data row2 col1\" >26005</td>\n",
       "    </tr>\n",
       "    <tr>\n",
       "      <td id=\"T_23cd6_row3_col0\" class=\"data row3 col0\" >DOI</td>\n",
       "      <td id=\"T_23cd6_row3_col1\" class=\"data row3 col1\" > <a href=\"https://doi.org/10.83126/ukllc-dataset-00267-01\" rel=\"noopener noreferrer\" target=\"_blank\">10.83126/ukllc-dataset-00267-01</a></td>\n",
       "    </tr>\n",
       "    <tr>\n",
       "      <td id=\"T_23cd6_row4_col0\" class=\"data row4 col0\" >Change Log</td>\n",
       "      <td id=\"T_23cd6_row4_col1\" class=\"data row4 col1\" > <a href=\"https://api.test.datacite.org/dois/10.83126/ukllc-dataset-00267-01/activities\" rel=\"noopener noreferrer\" target=\"_blank\">10.83126/ukllc-dataset-00267-01/activities</a></td>\n",
       "    </tr>\n",
       "  </tbody>\n",
       "</table>\n"
      ],
      "text/plain": [
       "<pandas.io.formats.style.Styler at 0x2017261b890>"
      ]
     },
     "execution_count": 4,
     "metadata": {},
     "output_type": "execute_result"
    }
   ],
   "source": [
    "ds.version_history()"
   ]
  },
  {
   "cell_type": "markdown",
   "id": "4861f9a6",
   "metadata": {},
   "source": [
    "## 3. Documentation"
   ]
  },
  {
   "cell_type": "code",
   "execution_count": 5,
   "id": "69e50769",
   "metadata": {
    "execution": {
     "iopub.execute_input": "2025-07-18T09:53:12.918710Z",
     "iopub.status.busy": "2025-07-18T09:53:12.916710Z",
     "iopub.status.idle": "2025-07-18T09:53:12.928222Z",
     "shell.execute_reply": "2025-07-18T09:53:12.926709Z"
    },
    "tags": [
     "remove-input"
    ]
   },
   "outputs": [
    {
     "data": {
      "text/markdown": [
       "We are currently building a documentation storage system which will host useful documents related to datasets and data owners. We will surface these documents on Guidebook."
      ],
      "text/plain": [
       "<IPython.core.display.Markdown object>"
      ]
     },
     "metadata": {},
     "output_type": "display_data"
    }
   ],
   "source": [
    "ds.documentation()"
   ]
  },
  {
   "cell_type": "markdown",
   "id": "dd0585c8",
   "metadata": {},
   "source": [
    "## 4. Useful Syntax"
   ]
  },
  {
   "cell_type": "code",
   "execution_count": 6,
   "id": "b2d512cb",
   "metadata": {
    "execution": {
     "iopub.execute_input": "2025-07-18T09:53:12.934222Z",
     "iopub.status.busy": "2025-07-18T09:53:12.933223Z",
     "iopub.status.idle": "2025-07-18T09:53:12.943082Z",
     "shell.execute_reply": "2025-07-18T09:53:12.942075Z"
    },
    "tags": [
     "remove-input"
    ]
   },
   "outputs": [
    {
     "data": {
      "text/markdown": [
       "Below we will include syntax that may be helpful to other researchers in the UK LLC TRE. For longer scripts, we will include a snippet of the code plus a link to Git where you can find the full scripts."
      ],
      "text/plain": [
       "<IPython.core.display.Markdown object>"
      ]
     },
     "metadata": {},
     "output_type": "display_data"
    }
   ],
   "source": [
    "ds.useful_syntax()"
   ]
  }
 ],
 "metadata": {
  "language_info": {
   "codemirror_mode": {
    "name": "ipython",
    "version": 3
   },
   "file_extension": ".py",
   "mimetype": "text/x-python",
   "name": "python",
   "nbconvert_exporter": "python",
   "pygments_lexer": "ipython3",
   "version": "3.12.7"
  }
 },
 "nbformat": 4,
 "nbformat_minor": 5
}
