{
 "cells": [
  {
   "cell_type": "markdown",
   "id": "8e4afa56",
   "metadata": {},
   "source": [
    "# MCS3 Cohort Member Cognitive Assessment (MCS)"
   ]
  },
  {
   "cell_type": "code",
   "execution_count": 1,
   "id": "7eca969d",
   "metadata": {
    "execution": {
     "iopub.execute_input": "2025-07-28T19:22:23.351248Z",
     "iopub.status.busy": "2025-07-28T19:22:23.350246Z",
     "iopub.status.idle": "2025-07-28T19:22:35.964108Z",
     "shell.execute_reply": "2025-07-28T19:22:35.962086Z"
    },
    "tags": [
     "remove-input"
    ]
   },
   "outputs": [
    {
     "data": {
      "text/markdown": [
       ">Last modified: 28 Jul 2025"
      ],
      "text/plain": [
       "<IPython.core.display.Markdown object>"
      ]
     },
     "metadata": {},
     "output_type": "display_data"
    }
   ],
   "source": [
    "\n",
    "import sys\n",
    "import os\n",
    "sys.path.append(os.path.abspath('../../../../scripts/'))\n",
    "from data_doc_helper import LPSDataSet as DS, last_modified\n",
    "API_KEY = os.environ['FASTAPI_KEY']\n",
    "ds = DS(\"MCS\", \"mcs3_cm_cognitive_assessment\")\n",
    "last_modified()\n"
   ]
  },
  {
   "cell_type": "markdown",
   "id": "c0511b64",
   "metadata": {},
   "source": [
    "## 1. Summary"
   ]
  },
  {
   "cell_type": "code",
   "execution_count": 2,
   "id": "303c8a9a",
   "metadata": {
    "execution": {
     "iopub.execute_input": "2025-07-28T19:22:35.973178Z",
     "iopub.status.busy": "2025-07-28T19:22:35.972180Z",
     "iopub.status.idle": "2025-07-28T19:22:35.988704Z",
     "shell.execute_reply": "2025-07-28T19:22:35.985663Z"
    },
    "tags": [
     "remove-input"
    ]
   },
   "outputs": [
    {
     "data": {
      "text/markdown": [
       "This dataset contains cognitive assessment data (BAS Pattern Construction, Picture Similarities, Naming Vocabulary) collected at sweep 3"
      ],
      "text/plain": [
       "<IPython.core.display.Markdown object>"
      ]
     },
     "metadata": {},
     "output_type": "display_data"
    }
   ],
   "source": [
    "ds.summary()"
   ]
  },
  {
   "cell_type": "code",
   "execution_count": 3,
   "id": "451e3407",
   "metadata": {
    "execution": {
     "iopub.execute_input": "2025-07-28T19:22:35.996696Z",
     "iopub.status.busy": "2025-07-28T19:22:35.995697Z",
     "iopub.status.idle": "2025-07-28T19:22:37.737950Z",
     "shell.execute_reply": "2025-07-28T19:22:37.734932Z"
    },
    "tags": [
     "remove-input"
    ]
   },
   "outputs": [
    {
     "data": {
      "text/html": [
       "<style type=\"text/css\">\n",
       "#T_3c148 th {\n",
       "  text-align: left;\n",
       "}\n",
       "#T_3c148_row0_col0, #T_3c148_row0_col1, #T_3c148_row1_col0, #T_3c148_row1_col1, #T_3c148_row2_col0, #T_3c148_row2_col1, #T_3c148_row3_col0, #T_3c148_row3_col1, #T_3c148_row4_col0, #T_3c148_row4_col1, #T_3c148_row5_col0, #T_3c148_row5_col1, #T_3c148_row6_col0, #T_3c148_row6_col1, #T_3c148_row7_col0, #T_3c148_row7_col1, #T_3c148_row8_col0, #T_3c148_row8_col1, #T_3c148_row9_col0, #T_3c148_row9_col1, #T_3c148_row10_col0, #T_3c148_row10_col1, #T_3c148_row11_col0, #T_3c148_row11_col1, #T_3c148_row12_col0, #T_3c148_row12_col1 {\n",
       "  text-align: left;\n",
       "}\n",
       "</style>\n",
       "<table id=\"T_3c148\" style=\"font-size: 14px\">\n",
       "  <thead>\n",
       "    <tr>\n",
       "      <th id=\"T_3c148_level0_col0\" class=\"col_heading level0 col0\" >Dataset Descriptor</th>\n",
       "      <th id=\"T_3c148_level0_col1\" class=\"col_heading level0 col1\" >Dataset-specific Information</th>\n",
       "    </tr>\n",
       "  </thead>\n",
       "  <tbody>\n",
       "    <tr>\n",
       "      <td id=\"T_3c148_row0_col0\" class=\"data row0 col0\" >Name of Dataset in TRE</td>\n",
       "      <td id=\"T_3c148_row0_col1\" class=\"data row0 col1\" >MCS_mcs3_cm_cognitive_assessment</td>\n",
       "    </tr>\n",
       "    <tr>\n",
       "      <td id=\"T_3c148_row1_col0\" class=\"data row1 col0\" >Citation (APA)</td>\n",
       "      <td id=\"T_3c148_row1_col1\" class=\"data row1 col1\" >University College London, UCL Social Research Institute, Centre for Longitudinal Studies. (2021). <i>Millennium Cohort Study (MCS): MCS3 Cohort Member Cognitive Assessment.</i> UK Longitudinal Linkage Collaboration (UK LLC).  <a href=\"https://doi.org/10.71760/ukllc-dataset-00181-01\" rel=\"noopener noreferrer\" target=\"_blank\">https://doi.org/10.71760/ukllc-dataset-00181-01</a></td>\n",
       "    </tr>\n",
       "    <tr>\n",
       "      <td id=\"T_3c148_row2_col0\" class=\"data row2 col0\" >Download Citation</td>\n",
       "      <td id=\"T_3c148_row2_col1\" class=\"data row2 col1\" > <a href=\"https://api.datacite.org/application/vnd.citationstyles.csl+json/10.71760/ukllc-dataset-00181-01\" rel=\"noopener noreferrer\" target=\"_blank\">Citeproc JSON</a>&nbsp;&nbsp;&nbsp;&nbsp; <a href=\"https://api.datacite.org/application/x-bibtex/10.71760/ukllc-dataset-00181-01\" rel=\"noopener noreferrer\" target=\"_blank\">BibTeX</a>&nbsp;&nbsp;&nbsp;&nbsp; <a href=\"https://api.datacite.org/application/x-research-info-systems/10.71760/ukllc-dataset-00181-01\" rel=\"noopener noreferrer\" target=\"_blank\">RIS</a></td>\n",
       "    </tr>\n",
       "    <tr>\n",
       "      <td id=\"T_3c148_row3_col0\" class=\"data row3 col0\" >Series</td>\n",
       "      <td id=\"T_3c148_row3_col1\" class=\"data row3 col1\" > <a href=\"https://guidebook.ukllc.ac.uk/docs/lps_data/lps%20profiles/MCS\">Millennium Cohort Study (MCS)</a></td>\n",
       "    </tr>\n",
       "    <tr>\n",
       "      <td id=\"T_3c148_row4_col0\" class=\"data row4 col0\" >Owner</td>\n",
       "      <td id=\"T_3c148_row4_col1\" class=\"data row4 col1\" >UCL</td>\n",
       "    </tr>\n",
       "    <tr>\n",
       "      <td id=\"T_3c148_row5_col0\" class=\"data row5 col0\" >Temporal Coverage</td>\n",
       "      <td id=\"T_3c148_row5_col1\" class=\"data row5 col1\" >01/2006 - 12/2006</td>\n",
       "    </tr>\n",
       "    <tr>\n",
       "      <td id=\"T_3c148_row6_col0\" class=\"data row6 col0\" >Keywords</td>\n",
       "      <td id=\"T_3c148_row6_col1\" class=\"data row6 col1\" >Family Life,Health,employment,attitudes,Social mobility</td>\n",
       "    </tr>\n",
       "    <tr>\n",
       "      <td id=\"T_3c148_row7_col0\" class=\"data row7 col0\" >Participants Invited</td>\n",
       "      <td id=\"T_3c148_row7_col1\" class=\"data row7 col1\" >15246</td>\n",
       "    </tr>\n",
       "    <tr>\n",
       "      <td id=\"T_3c148_row8_col0\" class=\"data row8 col0\" >Participant Count</td>\n",
       "      <td id=\"T_3c148_row8_col1\" class=\"data row8 col1\" >9108</td>\n",
       "    </tr>\n",
       "    <tr>\n",
       "      <td id=\"T_3c148_row9_col0\" class=\"data row9 col0\" >Number of variables</td>\n",
       "      <td id=\"T_3c148_row9_col1\" class=\"data row9 col1\" >343</td>\n",
       "    </tr>\n",
       "    <tr>\n",
       "      <td id=\"T_3c148_row10_col0\" class=\"data row10 col0\" >Number of observations</td>\n",
       "      <td id=\"T_3c148_row10_col1\" class=\"data row10 col1\" >15431</td>\n",
       "    </tr>\n",
       "    <tr>\n",
       "      <td id=\"T_3c148_row11_col0\" class=\"data row11 col0\" >Specific Restrictions to Data Use</td>\n",
       "      <td id=\"T_3c148_row11_col1\" class=\"data row11 col1\" >None</td>\n",
       "    </tr>\n",
       "    <tr>\n",
       "      <td id=\"T_3c148_row12_col0\" class=\"data row12 col0\" >Build a Data Request</td>\n",
       "      <td id=\"T_3c148_row12_col1\" class=\"data row12 col1\" > <a href=\"https://explore.ukllc.ac.uk/\" rel=\"noopener noreferrer\" target=\"_blank\">https://explore.ukllc.ac.uk/</a></td>\n",
       "    </tr>\n",
       "  </tbody>\n",
       "</table>\n"
      ],
      "text/plain": [
       "<pandas.io.formats.style.Styler at 0x27586c5fb60>"
      ]
     },
     "execution_count": 3,
     "metadata": {},
     "output_type": "execute_result"
    }
   ],
   "source": [
    "ds.info_table()"
   ]
  },
  {
   "cell_type": "markdown",
   "id": "14f8993c",
   "metadata": {},
   "source": [
    "## 2. Version History"
   ]
  },
  {
   "cell_type": "code",
   "execution_count": 4,
   "id": "637908b1",
   "metadata": {
    "execution": {
     "iopub.execute_input": "2025-07-28T19:22:37.747952Z",
     "iopub.status.busy": "2025-07-28T19:22:37.745950Z",
     "iopub.status.idle": "2025-07-28T19:22:44.163330Z",
     "shell.execute_reply": "2025-07-28T19:22:44.160367Z"
    },
    "tags": [
     "remove-input"
    ]
   },
   "outputs": [
    {
     "data": {
      "text/html": [
       "<style type=\"text/css\">\n",
       "#T_2e46e th {\n",
       "  text-align: left;\n",
       "}\n",
       "#T_2e46e_row0_col0, #T_2e46e_row0_col1, #T_2e46e_row1_col0, #T_2e46e_row1_col1, #T_2e46e_row2_col0, #T_2e46e_row2_col1, #T_2e46e_row3_col0, #T_2e46e_row3_col1, #T_2e46e_row4_col0, #T_2e46e_row4_col1 {\n",
       "  text-align: left;\n",
       "}\n",
       "</style>\n",
       "<table id=\"T_2e46e\" style=\"font-size: 14px\">\n",
       "  <thead>\n",
       "    <tr>\n",
       "      <th id=\"T_2e46e_level0_col0\" class=\"col_heading level0 col0\" >Version</th>\n",
       "      <th id=\"T_2e46e_level0_col1\" class=\"col_heading level0 col1\" >1</th>\n",
       "    </tr>\n",
       "  </thead>\n",
       "  <tbody>\n",
       "    <tr>\n",
       "      <td id=\"T_2e46e_row0_col0\" class=\"data row0 col0\" >Version Date</td>\n",
       "      <td id=\"T_2e46e_row0_col1\" class=\"data row0 col1\" >01 Nov 2021</td>\n",
       "    </tr>\n",
       "    <tr>\n",
       "      <td id=\"T_2e46e_row1_col0\" class=\"data row1 col0\" >Number of Variables</td>\n",
       "      <td id=\"T_2e46e_row1_col1\" class=\"data row1 col1\" >343</td>\n",
       "    </tr>\n",
       "    <tr>\n",
       "      <td id=\"T_2e46e_row2_col0\" class=\"data row2 col0\" >Number of Observations</td>\n",
       "      <td id=\"T_2e46e_row2_col1\" class=\"data row2 col1\" >15431</td>\n",
       "    </tr>\n",
       "    <tr>\n",
       "      <td id=\"T_2e46e_row3_col0\" class=\"data row3 col0\" >DOI</td>\n",
       "      <td id=\"T_2e46e_row3_col1\" class=\"data row3 col1\" > <a href=\"https://doi.org/10.71760/ukllc-dataset-00181-01\" rel=\"noopener noreferrer\" target=\"_blank\">10.71760/ukllc-dataset-00181-01</a></td>\n",
       "    </tr>\n",
       "    <tr>\n",
       "      <td id=\"T_2e46e_row4_col0\" class=\"data row4 col0\" >Change Log</td>\n",
       "      <td id=\"T_2e46e_row4_col1\" class=\"data row4 col1\" > <a href=\"https://api.test.datacite.org/dois/10.71760/ukllc-dataset-00181-01/activities\" rel=\"noopener noreferrer\" target=\"_blank\">10.71760/ukllc-dataset-00181-01/activities</a></td>\n",
       "    </tr>\n",
       "  </tbody>\n",
       "</table>\n"
      ],
      "text/plain": [
       "<pandas.io.formats.style.Styler at 0x275886068a0>"
      ]
     },
     "execution_count": 4,
     "metadata": {},
     "output_type": "execute_result"
    }
   ],
   "source": [
    "ds.version_history()"
   ]
  },
  {
   "cell_type": "markdown",
   "id": "b455cb3d",
   "metadata": {},
   "source": [
    "## 3. Documentation"
   ]
  },
  {
   "cell_type": "code",
   "execution_count": 5,
   "id": "75174906",
   "metadata": {
    "execution": {
     "iopub.execute_input": "2025-07-28T19:22:44.171468Z",
     "iopub.status.busy": "2025-07-28T19:22:44.171468Z",
     "iopub.status.idle": "2025-07-28T19:22:44.194502Z",
     "shell.execute_reply": "2025-07-28T19:22:44.191978Z"
    },
    "tags": [
     "remove-input"
    ]
   },
   "outputs": [
    {
     "data": {
      "text/markdown": [
       "We are currently building a documentation storage system which will host useful documents related to datasets and data owners. We will surface these documents on Guidebook."
      ],
      "text/plain": [
       "<IPython.core.display.Markdown object>"
      ]
     },
     "metadata": {},
     "output_type": "display_data"
    }
   ],
   "source": [
    "ds.documentation()"
   ]
  },
  {
   "cell_type": "markdown",
   "id": "e9546fb8",
   "metadata": {},
   "source": [
    "## 4. Useful Syntax"
   ]
  },
  {
   "cell_type": "code",
   "execution_count": 6,
   "id": "089c310d",
   "metadata": {
    "execution": {
     "iopub.execute_input": "2025-07-28T19:22:44.202499Z",
     "iopub.status.busy": "2025-07-28T19:22:44.201498Z",
     "iopub.status.idle": "2025-07-28T19:22:44.223874Z",
     "shell.execute_reply": "2025-07-28T19:22:44.221857Z"
    },
    "tags": [
     "remove-input"
    ]
   },
   "outputs": [
    {
     "data": {
      "text/markdown": [
       "Below we will include syntax that may be helpful to other researchers in the UK LLC TRE. For longer scripts, we will include a snippet of the code plus a link to Git where you can find the full scripts."
      ],
      "text/plain": [
       "<IPython.core.display.Markdown object>"
      ]
     },
     "metadata": {},
     "output_type": "display_data"
    }
   ],
   "source": [
    "ds.useful_syntax()"
   ]
  }
 ],
 "metadata": {
  "language_info": {
   "codemirror_mode": {
    "name": "ipython",
    "version": 3
   },
   "file_extension": ".py",
   "mimetype": "text/x-python",
   "name": "python",
   "nbconvert_exporter": "python",
   "pygments_lexer": "ipython3",
   "version": "3.12.7"
  }
 },
 "nbformat": 4,
 "nbformat_minor": 5
}
