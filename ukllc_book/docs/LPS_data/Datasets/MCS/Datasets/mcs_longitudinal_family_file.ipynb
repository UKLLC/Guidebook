{
 "cells": [
  {
   "cell_type": "markdown",
   "id": "8e1cced8",
   "metadata": {},
   "source": [
    "# MCS Longitudinal Family File (MCS)"
   ]
  },
  {
   "cell_type": "code",
   "execution_count": 1,
   "id": "c2d8ff10",
   "metadata": {
    "execution": {
     "iopub.execute_input": "2025-07-18T10:03:57.951212Z",
     "iopub.status.busy": "2025-07-18T10:03:57.951212Z",
     "iopub.status.idle": "2025-07-18T10:04:05.274922Z",
     "shell.execute_reply": "2025-07-18T10:04:05.272916Z"
    },
    "tags": [
     "remove-input"
    ]
   },
   "outputs": [
    {
     "data": {
      "text/markdown": [
       ">Last modified: 18 Jul 2025"
      ],
      "text/plain": [
       "<IPython.core.display.Markdown object>"
      ]
     },
     "metadata": {},
     "output_type": "display_data"
    }
   ],
   "source": [
    "\n",
    "import sys\n",
    "import os\n",
    "sys.path.append(os.path.abspath('../../../../scripts/'))\n",
    "from data_doc_helper import LPSDataSet as DS, last_modified\n",
    "API_KEY = os.environ['FASTAPI_KEY']\n",
    "ds = DS(\"MCS\", \"mcs_longitudinal_family_file\")\n",
    "last_modified()\n"
   ]
  },
  {
   "cell_type": "markdown",
   "id": "8f872738",
   "metadata": {},
   "source": [
    "## 1. Summary"
   ]
  },
  {
   "cell_type": "code",
   "execution_count": 2,
   "id": "95712e92",
   "metadata": {
    "execution": {
     "iopub.execute_input": "2025-07-18T10:04:05.280922Z",
     "iopub.status.busy": "2025-07-18T10:04:05.279922Z",
     "iopub.status.idle": "2025-07-18T10:04:05.290572Z",
     "shell.execute_reply": "2025-07-18T10:04:05.288431Z"
    },
    "tags": [
     "remove-input"
    ]
   },
   "outputs": [
    {
     "data": {
      "text/markdown": [
       "Cross sweep family/household information such as outcome, weights and data availability (EUL or Secure Access)"
      ],
      "text/plain": [
       "<IPython.core.display.Markdown object>"
      ]
     },
     "metadata": {},
     "output_type": "display_data"
    }
   ],
   "source": [
    "ds.summary()"
   ]
  },
  {
   "cell_type": "code",
   "execution_count": 3,
   "id": "50f744a4",
   "metadata": {
    "execution": {
     "iopub.execute_input": "2025-07-18T10:04:05.295594Z",
     "iopub.status.busy": "2025-07-18T10:04:05.295594Z",
     "iopub.status.idle": "2025-07-18T10:04:06.248324Z",
     "shell.execute_reply": "2025-07-18T10:04:06.246753Z"
    },
    "tags": [
     "remove-input"
    ]
   },
   "outputs": [
    {
     "data": {
      "text/html": [
       "<style type=\"text/css\">\n",
       "#T_6e7dc th {\n",
       "  text-align: left;\n",
       "}\n",
       "#T_6e7dc_row0_col0, #T_6e7dc_row0_col1, #T_6e7dc_row1_col0, #T_6e7dc_row1_col1, #T_6e7dc_row2_col0, #T_6e7dc_row2_col1, #T_6e7dc_row3_col0, #T_6e7dc_row3_col1, #T_6e7dc_row4_col0, #T_6e7dc_row4_col1, #T_6e7dc_row5_col0, #T_6e7dc_row5_col1, #T_6e7dc_row6_col0, #T_6e7dc_row6_col1, #T_6e7dc_row7_col0, #T_6e7dc_row7_col1, #T_6e7dc_row8_col0, #T_6e7dc_row8_col1, #T_6e7dc_row9_col0, #T_6e7dc_row9_col1, #T_6e7dc_row10_col0, #T_6e7dc_row10_col1, #T_6e7dc_row11_col0, #T_6e7dc_row11_col1, #T_6e7dc_row12_col0, #T_6e7dc_row12_col1 {\n",
       "  text-align: left;\n",
       "}\n",
       "</style>\n",
       "<table id=\"T_6e7dc\" style=\"font-size: 14px\">\n",
       "  <thead>\n",
       "    <tr>\n",
       "      <th id=\"T_6e7dc_level0_col0\" class=\"col_heading level0 col0\" >Dataset Descriptor</th>\n",
       "      <th id=\"T_6e7dc_level0_col1\" class=\"col_heading level0 col1\" >Dataset-specific Information</th>\n",
       "    </tr>\n",
       "  </thead>\n",
       "  <tbody>\n",
       "    <tr>\n",
       "      <td id=\"T_6e7dc_row0_col0\" class=\"data row0 col0\" >Name of Dataset in TRE</td>\n",
       "      <td id=\"T_6e7dc_row0_col1\" class=\"data row0 col1\" >MCS_mcs_longitudinal_family_file</td>\n",
       "    </tr>\n",
       "    <tr>\n",
       "      <td id=\"T_6e7dc_row1_col0\" class=\"data row1 col0\" >Citation (APA)</td>\n",
       "      <td id=\"T_6e7dc_row1_col1\" class=\"data row1 col1\" >University College London, UCL Social Research Institute, Centre for Longitudinal Studies. (2021). <i>Millennium Cohort Study (MCS): MCS Longitudinal Family File.</i> UK Longitudinal Linkage Collaboration (UK LLC).  <a href=\"https://doi.org/10.83126/ukllc-dataset-00310-01\" rel=\"noopener noreferrer\" target=\"_blank\">https://doi.org/10.83126/ukllc-dataset-00310-01</a></td>\n",
       "    </tr>\n",
       "    <tr>\n",
       "      <td id=\"T_6e7dc_row2_col0\" class=\"data row2 col0\" >Download Citation</td>\n",
       "      <td id=\"T_6e7dc_row2_col1\" class=\"data row2 col1\" > <a href=\"https://api.test.datacite.org/application/vnd.citationstyles.csl+json/10.83126/ukllc-dataset-00310-01\" rel=\"noopener noreferrer\" target=\"_blank\">Citeproc JSON</a>&nbsp;&nbsp;&nbsp;&nbsp; <a href=\"https://api.test.datacite.org/application/x-bibtex/10.83126/ukllc-dataset-00310-01\" rel=\"noopener noreferrer\" target=\"_blank\">BibTeX</a>&nbsp;&nbsp;&nbsp;&nbsp; <a href=\"https://api.test.datacite.org/application/x-research-info-systems/10.83126/ukllc-dataset-00310-01\" rel=\"noopener noreferrer\" target=\"_blank\">RIS</a></td>\n",
       "    </tr>\n",
       "    <tr>\n",
       "      <td id=\"T_6e7dc_row3_col0\" class=\"data row3 col0\" >Series</td>\n",
       "      <td id=\"T_6e7dc_row3_col1\" class=\"data row3 col1\" > <a href=\"https://guidebook.ukllc.ac.uk/docs/lps/lps%20profiles/MCS\">Millennium Cohort Study (MCS)</a></td>\n",
       "    </tr>\n",
       "    <tr>\n",
       "      <td id=\"T_6e7dc_row4_col0\" class=\"data row4 col0\" >Owner</td>\n",
       "      <td id=\"T_6e7dc_row4_col1\" class=\"data row4 col1\" >UCL</td>\n",
       "    </tr>\n",
       "    <tr>\n",
       "      <td id=\"T_6e7dc_row5_col0\" class=\"data row5 col0\" >Temporal Coverage</td>\n",
       "      <td id=\"T_6e7dc_row5_col1\" class=\"data row5 col1\" >06/2000 - 03/2019</td>\n",
       "    </tr>\n",
       "    <tr>\n",
       "      <td id=\"T_6e7dc_row6_col0\" class=\"data row6 col0\" >Keywords</td>\n",
       "      <td id=\"T_6e7dc_row6_col1\" class=\"data row6 col1\" >Pregnancy outcome,health,Birth characteristics,Family life</td>\n",
       "    </tr>\n",
       "    <tr>\n",
       "      <td id=\"T_6e7dc_row7_col0\" class=\"data row7 col0\" >Participants Invited</td>\n",
       "      <td id=\"T_6e7dc_row7_col1\" class=\"data row7 col1\" >18552</td>\n",
       "    </tr>\n",
       "    <tr>\n",
       "      <td id=\"T_6e7dc_row8_col0\" class=\"data row8 col0\" >Participant Count</td>\n",
       "      <td id=\"T_6e7dc_row8_col1\" class=\"data row8 col1\" ></td>\n",
       "    </tr>\n",
       "    <tr>\n",
       "      <td id=\"T_6e7dc_row9_col0\" class=\"data row9 col0\" >Number of variables</td>\n",
       "      <td id=\"T_6e7dc_row9_col1\" class=\"data row9 col1\" >49</td>\n",
       "    </tr>\n",
       "    <tr>\n",
       "      <td id=\"T_6e7dc_row10_col0\" class=\"data row10 col0\" >Number of observations</td>\n",
       "      <td id=\"T_6e7dc_row10_col1\" class=\"data row10 col1\" >58699</td>\n",
       "    </tr>\n",
       "    <tr>\n",
       "      <td id=\"T_6e7dc_row11_col0\" class=\"data row11 col0\" >Specific Restrictions to Data Use</td>\n",
       "      <td id=\"T_6e7dc_row11_col1\" class=\"data row11 col1\" >None</td>\n",
       "    </tr>\n",
       "    <tr>\n",
       "      <td id=\"T_6e7dc_row12_col0\" class=\"data row12 col0\" >Build a Data Request</td>\n",
       "      <td id=\"T_6e7dc_row12_col1\" class=\"data row12 col1\" > <a href=\"https://explore.ukllc.ac.uk/\" rel=\"noopener noreferrer\" target=\"_blank\">https://explore.ukllc.ac.uk/</a></td>\n",
       "    </tr>\n",
       "  </tbody>\n",
       "</table>\n"
      ],
      "text/plain": [
       "<pandas.io.formats.style.Styler at 0x253d4edede0>"
      ]
     },
     "execution_count": 3,
     "metadata": {},
     "output_type": "execute_result"
    }
   ],
   "source": [
    "ds.info_table()"
   ]
  },
  {
   "cell_type": "markdown",
   "id": "00624ae6",
   "metadata": {},
   "source": [
    "## 2. Version History"
   ]
  },
  {
   "cell_type": "code",
   "execution_count": 4,
   "id": "22f489f0",
   "metadata": {
    "execution": {
     "iopub.execute_input": "2025-07-18T10:04:06.253338Z",
     "iopub.status.busy": "2025-07-18T10:04:06.253338Z",
     "iopub.status.idle": "2025-07-18T10:04:09.610295Z",
     "shell.execute_reply": "2025-07-18T10:04:09.609149Z"
    },
    "tags": [
     "remove-input"
    ]
   },
   "outputs": [
    {
     "data": {
      "text/html": [
       "<style type=\"text/css\">\n",
       "#T_0d300 th {\n",
       "  text-align: left;\n",
       "}\n",
       "#T_0d300_row0_col0, #T_0d300_row0_col1, #T_0d300_row1_col0, #T_0d300_row1_col1, #T_0d300_row2_col0, #T_0d300_row2_col1, #T_0d300_row3_col0, #T_0d300_row3_col1, #T_0d300_row4_col0, #T_0d300_row4_col1 {\n",
       "  text-align: left;\n",
       "}\n",
       "</style>\n",
       "<table id=\"T_0d300\" style=\"font-size: 14px\">\n",
       "  <thead>\n",
       "    <tr>\n",
       "      <th id=\"T_0d300_level0_col0\" class=\"col_heading level0 col0\" >Version</th>\n",
       "      <th id=\"T_0d300_level0_col1\" class=\"col_heading level0 col1\" >1</th>\n",
       "    </tr>\n",
       "  </thead>\n",
       "  <tbody>\n",
       "    <tr>\n",
       "      <td id=\"T_0d300_row0_col0\" class=\"data row0 col0\" >Version Date</td>\n",
       "      <td id=\"T_0d300_row0_col1\" class=\"data row0 col1\" >01 Nov 2021</td>\n",
       "    </tr>\n",
       "    <tr>\n",
       "      <td id=\"T_0d300_row1_col0\" class=\"data row1 col0\" >Number of Variables</td>\n",
       "      <td id=\"T_0d300_row1_col1\" class=\"data row1 col1\" >49</td>\n",
       "    </tr>\n",
       "    <tr>\n",
       "      <td id=\"T_0d300_row2_col0\" class=\"data row2 col0\" >Number of Observations</td>\n",
       "      <td id=\"T_0d300_row2_col1\" class=\"data row2 col1\" >58699</td>\n",
       "    </tr>\n",
       "    <tr>\n",
       "      <td id=\"T_0d300_row3_col0\" class=\"data row3 col0\" >DOI</td>\n",
       "      <td id=\"T_0d300_row3_col1\" class=\"data row3 col1\" > <a href=\"https://doi.org/10.83126/ukllc-dataset-00310-01\" rel=\"noopener noreferrer\" target=\"_blank\">10.83126/ukllc-dataset-00310-01</a></td>\n",
       "    </tr>\n",
       "    <tr>\n",
       "      <td id=\"T_0d300_row4_col0\" class=\"data row4 col0\" >Change Log</td>\n",
       "      <td id=\"T_0d300_row4_col1\" class=\"data row4 col1\" > <a href=\"https://api.test.datacite.org/dois/10.83126/ukllc-dataset-00310-01/activities\" rel=\"noopener noreferrer\" target=\"_blank\">10.83126/ukllc-dataset-00310-01/activities</a></td>\n",
       "    </tr>\n",
       "  </tbody>\n",
       "</table>\n"
      ],
      "text/plain": [
       "<pandas.io.formats.style.Styler at 0x253d6cc9b50>"
      ]
     },
     "execution_count": 4,
     "metadata": {},
     "output_type": "execute_result"
    }
   ],
   "source": [
    "ds.version_history()"
   ]
  },
  {
   "cell_type": "markdown",
   "id": "d3ccaaba",
   "metadata": {},
   "source": [
    "## 3. Documentation"
   ]
  },
  {
   "cell_type": "code",
   "execution_count": 5,
   "id": "19b2b68b",
   "metadata": {
    "execution": {
     "iopub.execute_input": "2025-07-18T10:04:09.615290Z",
     "iopub.status.busy": "2025-07-18T10:04:09.614291Z",
     "iopub.status.idle": "2025-07-18T10:04:09.622415Z",
     "shell.execute_reply": "2025-07-18T10:04:09.621368Z"
    },
    "tags": [
     "remove-input"
    ]
   },
   "outputs": [
    {
     "data": {
      "text/markdown": [
       "We are currently building a documentation storage system which will host useful documents related to datasets and data owners. We will surface these documents on Guidebook."
      ],
      "text/plain": [
       "<IPython.core.display.Markdown object>"
      ]
     },
     "metadata": {},
     "output_type": "display_data"
    }
   ],
   "source": [
    "ds.documentation()"
   ]
  },
  {
   "cell_type": "markdown",
   "id": "5f3fa9a9",
   "metadata": {},
   "source": [
    "## 4. Useful Syntax"
   ]
  },
  {
   "cell_type": "code",
   "execution_count": 6,
   "id": "7dbc1fe1",
   "metadata": {
    "execution": {
     "iopub.execute_input": "2025-07-18T10:04:09.629416Z",
     "iopub.status.busy": "2025-07-18T10:04:09.628416Z",
     "iopub.status.idle": "2025-07-18T10:04:09.637866Z",
     "shell.execute_reply": "2025-07-18T10:04:09.636860Z"
    },
    "tags": [
     "remove-input"
    ]
   },
   "outputs": [
    {
     "data": {
      "text/markdown": [
       "Below we will include syntax that may be helpful to other researchers in the UK LLC TRE. For longer scripts, we will include a snippet of the code plus a link to Git where you can find the full scripts."
      ],
      "text/plain": [
       "<IPython.core.display.Markdown object>"
      ]
     },
     "metadata": {},
     "output_type": "display_data"
    }
   ],
   "source": [
    "ds.useful_syntax()"
   ]
  }
 ],
 "metadata": {
  "language_info": {
   "codemirror_mode": {
    "name": "ipython",
    "version": 3
   },
   "file_extension": ".py",
   "mimetype": "text/x-python",
   "name": "python",
   "nbconvert_exporter": "python",
   "pygments_lexer": "ipython3",
   "version": "3.12.7"
  }
 },
 "nbformat": 4,
 "nbformat_minor": 5
}
