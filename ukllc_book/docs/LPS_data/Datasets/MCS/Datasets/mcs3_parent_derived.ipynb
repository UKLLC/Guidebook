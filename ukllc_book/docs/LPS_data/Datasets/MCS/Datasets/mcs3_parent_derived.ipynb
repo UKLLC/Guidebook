{
 "cells": [
  {
   "cell_type": "markdown",
   "id": "6e252694",
   "metadata": {},
   "source": [
    "# MCS3 Parent Derived (MCS)"
   ]
  },
  {
   "cell_type": "code",
   "execution_count": 1,
   "id": "7da2bda9",
   "metadata": {
    "execution": {
     "iopub.execute_input": "2025-07-18T09:53:15.229014Z",
     "iopub.status.busy": "2025-07-18T09:53:15.228026Z",
     "iopub.status.idle": "2025-07-18T09:53:22.344829Z",
     "shell.execute_reply": "2025-07-18T09:53:22.342822Z"
    },
    "tags": [
     "remove-input"
    ]
   },
   "outputs": [
    {
     "data": {
      "text/markdown": [
       ">Last modified: 18 Jul 2025"
      ],
      "text/plain": [
       "<IPython.core.display.Markdown object>"
      ]
     },
     "metadata": {},
     "output_type": "display_data"
    }
   ],
   "source": [
    "\n",
    "import sys\n",
    "import os\n",
    "sys.path.append(os.path.abspath('../../../../scripts/'))\n",
    "from data_doc_helper import LPSDataSet as DS, last_modified\n",
    "API_KEY = os.environ['FASTAPI_KEY']\n",
    "ds = DS(\"MCS\", \"mcs3_parent_derived\")\n",
    "last_modified()\n"
   ]
  },
  {
   "cell_type": "markdown",
   "id": "e1515b57",
   "metadata": {},
   "source": [
    "## 1. Summary"
   ]
  },
  {
   "cell_type": "code",
   "execution_count": 2,
   "id": "dfbfdc43",
   "metadata": {
    "execution": {
     "iopub.execute_input": "2025-07-18T09:53:22.351828Z",
     "iopub.status.busy": "2025-07-18T09:53:22.350829Z",
     "iopub.status.idle": "2025-07-18T09:53:22.364348Z",
     "shell.execute_reply": "2025-07-18T09:53:22.362831Z"
    },
    "tags": [
     "remove-input"
    ]
   },
   "outputs": [
    {
     "data": {
      "text/markdown": [
       "This dataset contains derived variables relating to parent respondents at sweep 3, including ethnic group categories, education, NS-SEC categories for current and last known jobs, height, weight, BMI and Kessler scale. "
      ],
      "text/plain": [
       "<IPython.core.display.Markdown object>"
      ]
     },
     "metadata": {},
     "output_type": "display_data"
    }
   ],
   "source": [
    "ds.summary()"
   ]
  },
  {
   "cell_type": "code",
   "execution_count": 3,
   "id": "de52925d",
   "metadata": {
    "execution": {
     "iopub.execute_input": "2025-07-18T09:53:22.369347Z",
     "iopub.status.busy": "2025-07-18T09:53:22.369347Z",
     "iopub.status.idle": "2025-07-18T09:53:23.465906Z",
     "shell.execute_reply": "2025-07-18T09:53:23.463857Z"
    },
    "tags": [
     "remove-input"
    ]
   },
   "outputs": [
    {
     "data": {
      "text/html": [
       "<style type=\"text/css\">\n",
       "#T_81dea th {\n",
       "  text-align: left;\n",
       "}\n",
       "#T_81dea_row0_col0, #T_81dea_row0_col1, #T_81dea_row1_col0, #T_81dea_row1_col1, #T_81dea_row2_col0, #T_81dea_row2_col1, #T_81dea_row3_col0, #T_81dea_row3_col1, #T_81dea_row4_col0, #T_81dea_row4_col1, #T_81dea_row5_col0, #T_81dea_row5_col1, #T_81dea_row6_col0, #T_81dea_row6_col1, #T_81dea_row7_col0, #T_81dea_row7_col1, #T_81dea_row8_col0, #T_81dea_row8_col1, #T_81dea_row9_col0, #T_81dea_row9_col1, #T_81dea_row10_col0, #T_81dea_row10_col1, #T_81dea_row11_col0, #T_81dea_row11_col1, #T_81dea_row12_col0, #T_81dea_row12_col1 {\n",
       "  text-align: left;\n",
       "}\n",
       "</style>\n",
       "<table id=\"T_81dea\" style=\"font-size: 14px\">\n",
       "  <thead>\n",
       "    <tr>\n",
       "      <th id=\"T_81dea_level0_col0\" class=\"col_heading level0 col0\" >Dataset Descriptor</th>\n",
       "      <th id=\"T_81dea_level0_col1\" class=\"col_heading level0 col1\" >Dataset-specific Information</th>\n",
       "    </tr>\n",
       "  </thead>\n",
       "  <tbody>\n",
       "    <tr>\n",
       "      <td id=\"T_81dea_row0_col0\" class=\"data row0 col0\" >Name of Dataset in TRE</td>\n",
       "      <td id=\"T_81dea_row0_col1\" class=\"data row0 col1\" >MCS_mcs3_parent_derived</td>\n",
       "    </tr>\n",
       "    <tr>\n",
       "      <td id=\"T_81dea_row1_col0\" class=\"data row1 col0\" >Citation (APA)</td>\n",
       "      <td id=\"T_81dea_row1_col1\" class=\"data row1 col1\" >University College London, UCL Social Research Institute, Centre for Longitudinal Studies. (2021). <i>Millennium Cohort Study (MCS): MCS3 Parent Derived.</i> UK Longitudinal Linkage Collaboration (UK LLC).  <a href=\"https://doi.org/10.83126/ukllc-dataset-00268-01\" rel=\"noopener noreferrer\" target=\"_blank\">https://doi.org/10.83126/ukllc-dataset-00268-01</a></td>\n",
       "    </tr>\n",
       "    <tr>\n",
       "      <td id=\"T_81dea_row2_col0\" class=\"data row2 col0\" >Download Citation</td>\n",
       "      <td id=\"T_81dea_row2_col1\" class=\"data row2 col1\" > <a href=\"https://api.test.datacite.org/application/vnd.citationstyles.csl+json/10.83126/ukllc-dataset-00268-01\" rel=\"noopener noreferrer\" target=\"_blank\">Citeproc JSON</a>&nbsp;&nbsp;&nbsp;&nbsp; <a href=\"https://api.test.datacite.org/application/x-bibtex/10.83126/ukllc-dataset-00268-01\" rel=\"noopener noreferrer\" target=\"_blank\">BibTeX</a>&nbsp;&nbsp;&nbsp;&nbsp; <a href=\"https://api.test.datacite.org/application/x-research-info-systems/10.83126/ukllc-dataset-00268-01\" rel=\"noopener noreferrer\" target=\"_blank\">RIS</a></td>\n",
       "    </tr>\n",
       "    <tr>\n",
       "      <td id=\"T_81dea_row3_col0\" class=\"data row3 col0\" >Series</td>\n",
       "      <td id=\"T_81dea_row3_col1\" class=\"data row3 col1\" > <a href=\"https://guidebook.ukllc.ac.uk/docs/lps/lps%20profiles/MCS\">Millennium Cohort Study (MCS)</a></td>\n",
       "    </tr>\n",
       "    <tr>\n",
       "      <td id=\"T_81dea_row4_col0\" class=\"data row4 col0\" >Owner</td>\n",
       "      <td id=\"T_81dea_row4_col1\" class=\"data row4 col1\" >UCL</td>\n",
       "    </tr>\n",
       "    <tr>\n",
       "      <td id=\"T_81dea_row5_col0\" class=\"data row5 col0\" >Temporal Coverage</td>\n",
       "      <td id=\"T_81dea_row5_col1\" class=\"data row5 col1\" >01/2006 - 12/2006</td>\n",
       "    </tr>\n",
       "    <tr>\n",
       "      <td id=\"T_81dea_row6_col0\" class=\"data row6 col0\" >Keywords</td>\n",
       "      <td id=\"T_81dea_row6_col1\" class=\"data row6 col1\" >Family Life,Health,employment,attitudes,Social mobility</td>\n",
       "    </tr>\n",
       "    <tr>\n",
       "      <td id=\"T_81dea_row7_col0\" class=\"data row7 col0\" >Participants Invited</td>\n",
       "      <td id=\"T_81dea_row7_col1\" class=\"data row7 col1\" >15246</td>\n",
       "    </tr>\n",
       "    <tr>\n",
       "      <td id=\"T_81dea_row8_col0\" class=\"data row8 col0\" >Participant Count</td>\n",
       "      <td id=\"T_81dea_row8_col1\" class=\"data row8 col1\" >17369</td>\n",
       "    </tr>\n",
       "    <tr>\n",
       "      <td id=\"T_81dea_row9_col0\" class=\"data row9 col0\" >Number of variables</td>\n",
       "      <td id=\"T_81dea_row9_col1\" class=\"data row9 col1\" >92</td>\n",
       "    </tr>\n",
       "    <tr>\n",
       "      <td id=\"T_81dea_row10_col0\" class=\"data row10 col0\" >Number of observations</td>\n",
       "      <td id=\"T_81dea_row10_col1\" class=\"data row10 col1\" >27443</td>\n",
       "    </tr>\n",
       "    <tr>\n",
       "      <td id=\"T_81dea_row11_col0\" class=\"data row11 col0\" >Specific Restrictions to Data Use</td>\n",
       "      <td id=\"T_81dea_row11_col1\" class=\"data row11 col1\" >None</td>\n",
       "    </tr>\n",
       "    <tr>\n",
       "      <td id=\"T_81dea_row12_col0\" class=\"data row12 col0\" >Build a Data Request</td>\n",
       "      <td id=\"T_81dea_row12_col1\" class=\"data row12 col1\" > <a href=\"https://explore.ukllc.ac.uk/\" rel=\"noopener noreferrer\" target=\"_blank\">https://explore.ukllc.ac.uk/</a></td>\n",
       "    </tr>\n",
       "  </tbody>\n",
       "</table>\n"
      ],
      "text/plain": [
       "<pandas.io.formats.style.Styler at 0x182eea275c0>"
      ]
     },
     "execution_count": 3,
     "metadata": {},
     "output_type": "execute_result"
    }
   ],
   "source": [
    "ds.info_table()"
   ]
  },
  {
   "cell_type": "markdown",
   "id": "abf3ad3f",
   "metadata": {},
   "source": [
    "## 2. Version History"
   ]
  },
  {
   "cell_type": "code",
   "execution_count": 4,
   "id": "fefd1a85",
   "metadata": {
    "execution": {
     "iopub.execute_input": "2025-07-18T09:53:23.472880Z",
     "iopub.status.busy": "2025-07-18T09:53:23.471869Z",
     "iopub.status.idle": "2025-07-18T09:53:25.824950Z",
     "shell.execute_reply": "2025-07-18T09:53:25.823437Z"
    },
    "tags": [
     "remove-input"
    ]
   },
   "outputs": [
    {
     "data": {
      "text/html": [
       "<style type=\"text/css\">\n",
       "#T_b3788 th {\n",
       "  text-align: left;\n",
       "}\n",
       "#T_b3788_row0_col0, #T_b3788_row0_col1, #T_b3788_row1_col0, #T_b3788_row1_col1, #T_b3788_row2_col0, #T_b3788_row2_col1, #T_b3788_row3_col0, #T_b3788_row3_col1, #T_b3788_row4_col0, #T_b3788_row4_col1 {\n",
       "  text-align: left;\n",
       "}\n",
       "</style>\n",
       "<table id=\"T_b3788\" style=\"font-size: 14px\">\n",
       "  <thead>\n",
       "    <tr>\n",
       "      <th id=\"T_b3788_level0_col0\" class=\"col_heading level0 col0\" >Version</th>\n",
       "      <th id=\"T_b3788_level0_col1\" class=\"col_heading level0 col1\" >1</th>\n",
       "    </tr>\n",
       "  </thead>\n",
       "  <tbody>\n",
       "    <tr>\n",
       "      <td id=\"T_b3788_row0_col0\" class=\"data row0 col0\" >Version Date</td>\n",
       "      <td id=\"T_b3788_row0_col1\" class=\"data row0 col1\" >01 Nov 2021</td>\n",
       "    </tr>\n",
       "    <tr>\n",
       "      <td id=\"T_b3788_row1_col0\" class=\"data row1 col0\" >Number of Variables</td>\n",
       "      <td id=\"T_b3788_row1_col1\" class=\"data row1 col1\" >92</td>\n",
       "    </tr>\n",
       "    <tr>\n",
       "      <td id=\"T_b3788_row2_col0\" class=\"data row2 col0\" >Number of Observations</td>\n",
       "      <td id=\"T_b3788_row2_col1\" class=\"data row2 col1\" >27443</td>\n",
       "    </tr>\n",
       "    <tr>\n",
       "      <td id=\"T_b3788_row3_col0\" class=\"data row3 col0\" >DOI</td>\n",
       "      <td id=\"T_b3788_row3_col1\" class=\"data row3 col1\" > <a href=\"https://doi.org/10.83126/ukllc-dataset-00268-01\" rel=\"noopener noreferrer\" target=\"_blank\">10.83126/ukllc-dataset-00268-01</a></td>\n",
       "    </tr>\n",
       "    <tr>\n",
       "      <td id=\"T_b3788_row4_col0\" class=\"data row4 col0\" >Change Log</td>\n",
       "      <td id=\"T_b3788_row4_col1\" class=\"data row4 col1\" > <a href=\"https://api.test.datacite.org/dois/10.83126/ukllc-dataset-00268-01/activities\" rel=\"noopener noreferrer\" target=\"_blank\">10.83126/ukllc-dataset-00268-01/activities</a></td>\n",
       "    </tr>\n",
       "  </tbody>\n",
       "</table>\n"
      ],
      "text/plain": [
       "<pandas.io.formats.style.Styler at 0x182f0567f80>"
      ]
     },
     "execution_count": 4,
     "metadata": {},
     "output_type": "execute_result"
    }
   ],
   "source": [
    "ds.version_history()"
   ]
  },
  {
   "cell_type": "markdown",
   "id": "65360145",
   "metadata": {},
   "source": [
    "## 3. Documentation"
   ]
  },
  {
   "cell_type": "code",
   "execution_count": 5,
   "id": "7b1bcc26",
   "metadata": {
    "execution": {
     "iopub.execute_input": "2025-07-18T09:53:25.830949Z",
     "iopub.status.busy": "2025-07-18T09:53:25.829949Z",
     "iopub.status.idle": "2025-07-18T09:53:25.841600Z",
     "shell.execute_reply": "2025-07-18T09:53:25.839593Z"
    },
    "tags": [
     "remove-input"
    ]
   },
   "outputs": [
    {
     "data": {
      "text/markdown": [
       "We are currently building a documentation storage system which will host useful documents related to datasets and data owners. We will surface these documents on Guidebook."
      ],
      "text/plain": [
       "<IPython.core.display.Markdown object>"
      ]
     },
     "metadata": {},
     "output_type": "display_data"
    }
   ],
   "source": [
    "ds.documentation()"
   ]
  },
  {
   "cell_type": "markdown",
   "id": "03d43e9d",
   "metadata": {},
   "source": [
    "## 4. Useful Syntax"
   ]
  },
  {
   "cell_type": "code",
   "execution_count": 6,
   "id": "784e3a9a",
   "metadata": {
    "execution": {
     "iopub.execute_input": "2025-07-18T09:53:25.847599Z",
     "iopub.status.busy": "2025-07-18T09:53:25.846599Z",
     "iopub.status.idle": "2025-07-18T09:53:25.857113Z",
     "shell.execute_reply": "2025-07-18T09:53:25.855599Z"
    },
    "tags": [
     "remove-input"
    ]
   },
   "outputs": [
    {
     "data": {
      "text/markdown": [
       "Below we will include syntax that may be helpful to other researchers in the UK LLC TRE. For longer scripts, we will include a snippet of the code plus a link to Git where you can find the full scripts."
      ],
      "text/plain": [
       "<IPython.core.display.Markdown object>"
      ]
     },
     "metadata": {},
     "output_type": "display_data"
    }
   ],
   "source": [
    "ds.useful_syntax()"
   ]
  }
 ],
 "metadata": {
  "language_info": {
   "codemirror_mode": {
    "name": "ipython",
    "version": 3
   },
   "file_extension": ".py",
   "mimetype": "text/x-python",
   "name": "python",
   "nbconvert_exporter": "python",
   "pygments_lexer": "ipython3",
   "version": "3.12.7"
  }
 },
 "nbformat": 4,
 "nbformat_minor": 5
}
