{
 "cells": [
  {
   "cell_type": "markdown",
   "id": "e9c87cae",
   "metadata": {},
   "source": [
    "# MCS7 Cohort Member Derived (MCS)"
   ]
  },
  {
   "cell_type": "code",
   "execution_count": 1,
   "id": "c3f44645",
   "metadata": {
    "execution": {
     "iopub.execute_input": "2025-07-28T19:39:47.630040Z",
     "iopub.status.busy": "2025-07-28T19:39:47.630040Z",
     "iopub.status.idle": "2025-07-28T19:40:08.677653Z",
     "shell.execute_reply": "2025-07-28T19:40:08.675637Z"
    },
    "tags": [
     "remove-input"
    ]
   },
   "outputs": [
    {
     "data": {
      "text/markdown": [
       ">Last modified: 28 Jul 2025"
      ],
      "text/plain": [
       "<IPython.core.display.Markdown object>"
      ]
     },
     "metadata": {},
     "output_type": "display_data"
    }
   ],
   "source": [
    "\n",
    "import sys\n",
    "import os\n",
    "sys.path.append(os.path.abspath('../../../../scripts/'))\n",
    "from data_doc_helper import LPSDataSet as DS, last_modified\n",
    "API_KEY = os.environ['FASTAPI_KEY']\n",
    "ds = DS(\"MCS\", \"mcs7_cm_derived\")\n",
    "last_modified()\n"
   ]
  },
  {
   "cell_type": "markdown",
   "id": "b408072d",
   "metadata": {},
   "source": [
    "## 1. Summary"
   ]
  },
  {
   "cell_type": "code",
   "execution_count": 2,
   "id": "8f5ed92b",
   "metadata": {
    "execution": {
     "iopub.execute_input": "2025-07-28T19:40:08.686185Z",
     "iopub.status.busy": "2025-07-28T19:40:08.685174Z",
     "iopub.status.idle": "2025-07-28T19:40:08.702171Z",
     "shell.execute_reply": "2025-07-28T19:40:08.699529Z"
    },
    "tags": [
     "remove-input"
    ]
   },
   "outputs": [
    {
     "data": {
      "text/markdown": [
       "This dataset contains derived variables relating to the cohort child including BMI,  Self-reported Child SDQ scores, Parent-reported Child SDQ scores, OCEAN scale"
      ],
      "text/plain": [
       "<IPython.core.display.Markdown object>"
      ]
     },
     "metadata": {},
     "output_type": "display_data"
    }
   ],
   "source": [
    "ds.summary()"
   ]
  },
  {
   "cell_type": "code",
   "execution_count": 3,
   "id": "63e65265",
   "metadata": {
    "execution": {
     "iopub.execute_input": "2025-07-28T19:40:08.708211Z",
     "iopub.status.busy": "2025-07-28T19:40:08.708211Z",
     "iopub.status.idle": "2025-07-28T19:40:10.576702Z",
     "shell.execute_reply": "2025-07-28T19:40:10.573615Z"
    },
    "tags": [
     "remove-input"
    ]
   },
   "outputs": [
    {
     "data": {
      "text/html": [
       "<style type=\"text/css\">\n",
       "#T_b67d8 th {\n",
       "  text-align: left;\n",
       "}\n",
       "#T_b67d8_row0_col0, #T_b67d8_row0_col1, #T_b67d8_row1_col0, #T_b67d8_row1_col1, #T_b67d8_row2_col0, #T_b67d8_row2_col1, #T_b67d8_row3_col0, #T_b67d8_row3_col1, #T_b67d8_row4_col0, #T_b67d8_row4_col1, #T_b67d8_row5_col0, #T_b67d8_row5_col1, #T_b67d8_row6_col0, #T_b67d8_row6_col1, #T_b67d8_row7_col0, #T_b67d8_row7_col1, #T_b67d8_row8_col0, #T_b67d8_row8_col1, #T_b67d8_row9_col0, #T_b67d8_row9_col1, #T_b67d8_row10_col0, #T_b67d8_row10_col1, #T_b67d8_row11_col0, #T_b67d8_row11_col1, #T_b67d8_row12_col0, #T_b67d8_row12_col1 {\n",
       "  text-align: left;\n",
       "}\n",
       "</style>\n",
       "<table id=\"T_b67d8\" style=\"font-size: 14px\">\n",
       "  <thead>\n",
       "    <tr>\n",
       "      <th id=\"T_b67d8_level0_col0\" class=\"col_heading level0 col0\" >Dataset Descriptor</th>\n",
       "      <th id=\"T_b67d8_level0_col1\" class=\"col_heading level0 col1\" >Dataset-specific Information</th>\n",
       "    </tr>\n",
       "  </thead>\n",
       "  <tbody>\n",
       "    <tr>\n",
       "      <td id=\"T_b67d8_row0_col0\" class=\"data row0 col0\" >Name of Dataset in TRE</td>\n",
       "      <td id=\"T_b67d8_row0_col1\" class=\"data row0 col1\" >MCS_mcs7_cm_derived</td>\n",
       "    </tr>\n",
       "    <tr>\n",
       "      <td id=\"T_b67d8_row1_col0\" class=\"data row1 col0\" >Citation (APA)</td>\n",
       "      <td id=\"T_b67d8_row1_col1\" class=\"data row1 col1\" >University College London, UCL Social Research Institute, Centre for Longitudinal Studies. (2021). <i>Millennium Cohort Study (MCS): MCS7 Cohort Member Derived.</i> UK Longitudinal Linkage Collaboration (UK LLC).  <a href=\"https://doi.org/10.71760/ukllc-dataset-00223-01\" rel=\"noopener noreferrer\" target=\"_blank\">https://doi.org/10.71760/ukllc-dataset-00223-01</a></td>\n",
       "    </tr>\n",
       "    <tr>\n",
       "      <td id=\"T_b67d8_row2_col0\" class=\"data row2 col0\" >Download Citation</td>\n",
       "      <td id=\"T_b67d8_row2_col1\" class=\"data row2 col1\" > <a href=\"https://api.datacite.org/application/vnd.citationstyles.csl+json/10.71760/ukllc-dataset-00223-01\" rel=\"noopener noreferrer\" target=\"_blank\">Citeproc JSON</a>&nbsp;&nbsp;&nbsp;&nbsp; <a href=\"https://api.datacite.org/application/x-bibtex/10.71760/ukllc-dataset-00223-01\" rel=\"noopener noreferrer\" target=\"_blank\">BibTeX</a>&nbsp;&nbsp;&nbsp;&nbsp; <a href=\"https://api.datacite.org/application/x-research-info-systems/10.71760/ukllc-dataset-00223-01\" rel=\"noopener noreferrer\" target=\"_blank\">RIS</a></td>\n",
       "    </tr>\n",
       "    <tr>\n",
       "      <td id=\"T_b67d8_row3_col0\" class=\"data row3 col0\" >Series</td>\n",
       "      <td id=\"T_b67d8_row3_col1\" class=\"data row3 col1\" > <a href=\"https://guidebook.ukllc.ac.uk/docs/lps_data/lps%20profiles/MCS\">Millennium Cohort Study (MCS)</a></td>\n",
       "    </tr>\n",
       "    <tr>\n",
       "      <td id=\"T_b67d8_row4_col0\" class=\"data row4 col0\" >Owner</td>\n",
       "      <td id=\"T_b67d8_row4_col1\" class=\"data row4 col1\" >UCL</td>\n",
       "    </tr>\n",
       "    <tr>\n",
       "      <td id=\"T_b67d8_row5_col0\" class=\"data row5 col0\" >Temporal Coverage</td>\n",
       "      <td id=\"T_b67d8_row5_col1\" class=\"data row5 col1\" >01/2018 - 03/2019</td>\n",
       "    </tr>\n",
       "    <tr>\n",
       "      <td id=\"T_b67d8_row6_col0\" class=\"data row6 col0\" >Keywords</td>\n",
       "      <td id=\"T_b67d8_row6_col1\" class=\"data row6 col1\" >Health,Education,Leisure & sport,Attitudes,Youth,Employment</td>\n",
       "    </tr>\n",
       "    <tr>\n",
       "      <td id=\"T_b67d8_row7_col0\" class=\"data row7 col0\" >Participants Invited</td>\n",
       "      <td id=\"T_b67d8_row7_col1\" class=\"data row7 col1\" >10345</td>\n",
       "    </tr>\n",
       "    <tr>\n",
       "      <td id=\"T_b67d8_row8_col0\" class=\"data row8 col0\" >Participant Count</td>\n",
       "      <td id=\"T_b67d8_row8_col1\" class=\"data row8 col1\" >9493</td>\n",
       "    </tr>\n",
       "    <tr>\n",
       "      <td id=\"T_b67d8_row9_col0\" class=\"data row9 col0\" >Number of variables</td>\n",
       "      <td id=\"T_b67d8_row9_col1\" class=\"data row9 col1\" >33</td>\n",
       "    </tr>\n",
       "    <tr>\n",
       "      <td id=\"T_b67d8_row10_col0\" class=\"data row10 col0\" >Number of observations</td>\n",
       "      <td id=\"T_b67d8_row10_col1\" class=\"data row10 col1\" >10952</td>\n",
       "    </tr>\n",
       "    <tr>\n",
       "      <td id=\"T_b67d8_row11_col0\" class=\"data row11 col0\" >Specific Restrictions to Data Use</td>\n",
       "      <td id=\"T_b67d8_row11_col1\" class=\"data row11 col1\" >None</td>\n",
       "    </tr>\n",
       "    <tr>\n",
       "      <td id=\"T_b67d8_row12_col0\" class=\"data row12 col0\" >Build a Data Request</td>\n",
       "      <td id=\"T_b67d8_row12_col1\" class=\"data row12 col1\" > <a href=\"https://explore.ukllc.ac.uk/\" rel=\"noopener noreferrer\" target=\"_blank\">https://explore.ukllc.ac.uk/</a></td>\n",
       "    </tr>\n",
       "  </tbody>\n",
       "</table>\n"
      ],
      "text/plain": [
       "<pandas.io.formats.style.Styler at 0x26dd7e80200>"
      ]
     },
     "execution_count": 3,
     "metadata": {},
     "output_type": "execute_result"
    }
   ],
   "source": [
    "ds.info_table()"
   ]
  },
  {
   "cell_type": "markdown",
   "id": "f0776fe1",
   "metadata": {},
   "source": [
    "## 2. Version History"
   ]
  },
  {
   "cell_type": "code",
   "execution_count": 4,
   "id": "a5fc9730",
   "metadata": {
    "execution": {
     "iopub.execute_input": "2025-07-28T19:40:10.585423Z",
     "iopub.status.busy": "2025-07-28T19:40:10.584424Z",
     "iopub.status.idle": "2025-07-28T19:40:16.116955Z",
     "shell.execute_reply": "2025-07-28T19:40:16.114808Z"
    },
    "tags": [
     "remove-input"
    ]
   },
   "outputs": [
    {
     "data": {
      "text/html": [
       "<style type=\"text/css\">\n",
       "#T_674c5 th {\n",
       "  text-align: left;\n",
       "}\n",
       "#T_674c5_row0_col0, #T_674c5_row0_col1, #T_674c5_row1_col0, #T_674c5_row1_col1, #T_674c5_row2_col0, #T_674c5_row2_col1, #T_674c5_row3_col0, #T_674c5_row3_col1, #T_674c5_row4_col0, #T_674c5_row4_col1 {\n",
       "  text-align: left;\n",
       "}\n",
       "</style>\n",
       "<table id=\"T_674c5\" style=\"font-size: 14px\">\n",
       "  <thead>\n",
       "    <tr>\n",
       "      <th id=\"T_674c5_level0_col0\" class=\"col_heading level0 col0\" >Version</th>\n",
       "      <th id=\"T_674c5_level0_col1\" class=\"col_heading level0 col1\" >1</th>\n",
       "    </tr>\n",
       "  </thead>\n",
       "  <tbody>\n",
       "    <tr>\n",
       "      <td id=\"T_674c5_row0_col0\" class=\"data row0 col0\" >Version Date</td>\n",
       "      <td id=\"T_674c5_row0_col1\" class=\"data row0 col1\" >01 Nov 2021</td>\n",
       "    </tr>\n",
       "    <tr>\n",
       "      <td id=\"T_674c5_row1_col0\" class=\"data row1 col0\" >Number of Variables</td>\n",
       "      <td id=\"T_674c5_row1_col1\" class=\"data row1 col1\" >33</td>\n",
       "    </tr>\n",
       "    <tr>\n",
       "      <td id=\"T_674c5_row2_col0\" class=\"data row2 col0\" >Number of Observations</td>\n",
       "      <td id=\"T_674c5_row2_col1\" class=\"data row2 col1\" >10952</td>\n",
       "    </tr>\n",
       "    <tr>\n",
       "      <td id=\"T_674c5_row3_col0\" class=\"data row3 col0\" >DOI</td>\n",
       "      <td id=\"T_674c5_row3_col1\" class=\"data row3 col1\" > <a href=\"https://doi.org/10.71760/ukllc-dataset-00223-01\" rel=\"noopener noreferrer\" target=\"_blank\">10.71760/ukllc-dataset-00223-01</a></td>\n",
       "    </tr>\n",
       "    <tr>\n",
       "      <td id=\"T_674c5_row4_col0\" class=\"data row4 col0\" >Change Log</td>\n",
       "      <td id=\"T_674c5_row4_col1\" class=\"data row4 col1\" > <a href=\"https://api.test.datacite.org/dois/10.71760/ukllc-dataset-00223-01/activities\" rel=\"noopener noreferrer\" target=\"_blank\">10.71760/ukllc-dataset-00223-01/activities</a></td>\n",
       "    </tr>\n",
       "  </tbody>\n",
       "</table>\n"
      ],
      "text/plain": [
       "<pandas.io.formats.style.Styler at 0x26dddb156d0>"
      ]
     },
     "execution_count": 4,
     "metadata": {},
     "output_type": "execute_result"
    }
   ],
   "source": [
    "ds.version_history()"
   ]
  },
  {
   "cell_type": "markdown",
   "id": "ba2e0bc3",
   "metadata": {},
   "source": [
    "## 3. Documentation"
   ]
  },
  {
   "cell_type": "code",
   "execution_count": 5,
   "id": "43e73a12",
   "metadata": {
    "execution": {
     "iopub.execute_input": "2025-07-28T19:40:16.125917Z",
     "iopub.status.busy": "2025-07-28T19:40:16.124917Z",
     "iopub.status.idle": "2025-07-28T19:40:16.138293Z",
     "shell.execute_reply": "2025-07-28T19:40:16.136192Z"
    },
    "tags": [
     "remove-input"
    ]
   },
   "outputs": [
    {
     "data": {
      "text/markdown": [
       "We are currently building a documentation storage system which will host useful documents related to datasets and data owners. We will surface these documents on Guidebook."
      ],
      "text/plain": [
       "<IPython.core.display.Markdown object>"
      ]
     },
     "metadata": {},
     "output_type": "display_data"
    }
   ],
   "source": [
    "ds.documentation()"
   ]
  },
  {
   "cell_type": "markdown",
   "id": "e6ada370",
   "metadata": {},
   "source": [
    "## 4. Useful Syntax"
   ]
  },
  {
   "cell_type": "code",
   "execution_count": 6,
   "id": "2a7d99da",
   "metadata": {
    "execution": {
     "iopub.execute_input": "2025-07-28T19:40:16.146918Z",
     "iopub.status.busy": "2025-07-28T19:40:16.146918Z",
     "iopub.status.idle": "2025-07-28T19:40:16.159113Z",
     "shell.execute_reply": "2025-07-28T19:40:16.157074Z"
    },
    "tags": [
     "remove-input"
    ]
   },
   "outputs": [
    {
     "data": {
      "text/markdown": [
       "Below we will include syntax that may be helpful to other researchers in the UK LLC TRE. For longer scripts, we will include a snippet of the code plus a link to Git where you can find the full scripts."
      ],
      "text/plain": [
       "<IPython.core.display.Markdown object>"
      ]
     },
     "metadata": {},
     "output_type": "display_data"
    }
   ],
   "source": [
    "ds.useful_syntax()"
   ]
  }
 ],
 "metadata": {
  "language_info": {
   "codemirror_mode": {
    "name": "ipython",
    "version": 3
   },
   "file_extension": ".py",
   "mimetype": "text/x-python",
   "name": "python",
   "nbconvert_exporter": "python",
   "pygments_lexer": "ipython3",
   "version": "3.12.7"
  }
 },
 "nbformat": 4,
 "nbformat_minor": 5
}
