{
 "cells": [
  {
   "cell_type": "markdown",
   "id": "d1d22370",
   "metadata": {},
   "source": [
    "# Basic demographic variables - MCS Parent respondents (MCS)"
   ]
  },
  {
   "cell_type": "code",
   "execution_count": 1,
   "id": "2993ff40",
   "metadata": {
    "execution": {
     "iopub.execute_input": "2025-07-28T19:09:38.708179Z",
     "iopub.status.busy": "2025-07-28T19:09:38.708179Z",
     "iopub.status.idle": "2025-07-28T19:09:51.846991Z",
     "shell.execute_reply": "2025-07-28T19:09:51.845975Z"
    },
    "tags": [
     "remove-input"
    ]
   },
   "outputs": [
    {
     "data": {
      "text/markdown": [
       ">Last modified: 28 Jul 2025"
      ],
      "text/plain": [
       "<IPython.core.display.Markdown object>"
      ]
     },
     "metadata": {},
     "output_type": "display_data"
    }
   ],
   "source": [
    "\n",
    "import sys\n",
    "import os\n",
    "sys.path.append(os.path.abspath('../../../../scripts/'))\n",
    "from data_doc_helper import LPSDataSet as DS, last_modified\n",
    "API_KEY = os.environ['FASTAPI_KEY']\n",
    "ds = DS(\"MCS\", \"basic_demographic_parent\")\n",
    "last_modified()\n"
   ]
  },
  {
   "cell_type": "markdown",
   "id": "a7927846",
   "metadata": {},
   "source": [
    "## 1. Summary"
   ]
  },
  {
   "cell_type": "code",
   "execution_count": 2,
   "id": "90972a75",
   "metadata": {
    "execution": {
     "iopub.execute_input": "2025-07-28T19:09:51.856493Z",
     "iopub.status.busy": "2025-07-28T19:09:51.856493Z",
     "iopub.status.idle": "2025-07-28T19:09:51.869959Z",
     "shell.execute_reply": "2025-07-28T19:09:51.868402Z"
    },
    "tags": [
     "remove-input"
    ]
   },
   "outputs": [
    {
     "data": {
      "text/markdown": [
       "Demographic variables relating to parent respondents including NSSEC classes at varous sweeps, highest level NVQ equivalent at sweep 6  and ethnic group"
      ],
      "text/plain": [
       "<IPython.core.display.Markdown object>"
      ]
     },
     "metadata": {},
     "output_type": "display_data"
    }
   ],
   "source": [
    "ds.summary()"
   ]
  },
  {
   "cell_type": "code",
   "execution_count": 3,
   "id": "14515529",
   "metadata": {
    "execution": {
     "iopub.execute_input": "2025-07-28T19:09:51.878593Z",
     "iopub.status.busy": "2025-07-28T19:09:51.877594Z",
     "iopub.status.idle": "2025-07-28T19:09:53.949747Z",
     "shell.execute_reply": "2025-07-28T19:09:53.947728Z"
    },
    "tags": [
     "remove-input"
    ]
   },
   "outputs": [
    {
     "data": {
      "text/html": [
       "<style type=\"text/css\">\n",
       "#T_1fa03 th {\n",
       "  text-align: left;\n",
       "}\n",
       "#T_1fa03_row0_col0, #T_1fa03_row0_col1, #T_1fa03_row1_col0, #T_1fa03_row1_col1, #T_1fa03_row2_col0, #T_1fa03_row2_col1, #T_1fa03_row3_col0, #T_1fa03_row3_col1, #T_1fa03_row4_col0, #T_1fa03_row4_col1, #T_1fa03_row5_col0, #T_1fa03_row5_col1, #T_1fa03_row6_col0, #T_1fa03_row6_col1, #T_1fa03_row7_col0, #T_1fa03_row7_col1, #T_1fa03_row8_col0, #T_1fa03_row8_col1, #T_1fa03_row9_col0, #T_1fa03_row9_col1, #T_1fa03_row10_col0, #T_1fa03_row10_col1, #T_1fa03_row11_col0, #T_1fa03_row11_col1, #T_1fa03_row12_col0, #T_1fa03_row12_col1 {\n",
       "  text-align: left;\n",
       "}\n",
       "</style>\n",
       "<table id=\"T_1fa03\" style=\"font-size: 14px\">\n",
       "  <thead>\n",
       "    <tr>\n",
       "      <th id=\"T_1fa03_level0_col0\" class=\"col_heading level0 col0\" >Dataset Descriptor</th>\n",
       "      <th id=\"T_1fa03_level0_col1\" class=\"col_heading level0 col1\" >Dataset-specific Information</th>\n",
       "    </tr>\n",
       "  </thead>\n",
       "  <tbody>\n",
       "    <tr>\n",
       "      <td id=\"T_1fa03_row0_col0\" class=\"data row0 col0\" >Name of Dataset in TRE</td>\n",
       "      <td id=\"T_1fa03_row0_col1\" class=\"data row0 col1\" >MCS_basic_demographic_parent</td>\n",
       "    </tr>\n",
       "    <tr>\n",
       "      <td id=\"T_1fa03_row1_col0\" class=\"data row1 col0\" >Citation (APA)</td>\n",
       "      <td id=\"T_1fa03_row1_col1\" class=\"data row1 col1\" >University College London, UCL Social Research Institute, Centre for Longitudinal Studies. (2021). <i>Millennium Cohort Study (MCS): Basic demographic variables - MCS Parent respondents.</i> UK Longitudinal Linkage Collaboration (UK LLC).  <a href=\"https://doi.org/10.71760/ukllc-dataset-00161-01\" rel=\"noopener noreferrer\" target=\"_blank\">https://doi.org/10.71760/ukllc-dataset-00161-01</a></td>\n",
       "    </tr>\n",
       "    <tr>\n",
       "      <td id=\"T_1fa03_row2_col0\" class=\"data row2 col0\" >Download Citation</td>\n",
       "      <td id=\"T_1fa03_row2_col1\" class=\"data row2 col1\" > <a href=\"https://api.datacite.org/application/vnd.citationstyles.csl+json/10.71760/ukllc-dataset-00161-01\" rel=\"noopener noreferrer\" target=\"_blank\">Citeproc JSON</a>&nbsp;&nbsp;&nbsp;&nbsp; <a href=\"https://api.datacite.org/application/x-bibtex/10.71760/ukllc-dataset-00161-01\" rel=\"noopener noreferrer\" target=\"_blank\">BibTeX</a>&nbsp;&nbsp;&nbsp;&nbsp; <a href=\"https://api.datacite.org/application/x-research-info-systems/10.71760/ukllc-dataset-00161-01\" rel=\"noopener noreferrer\" target=\"_blank\">RIS</a></td>\n",
       "    </tr>\n",
       "    <tr>\n",
       "      <td id=\"T_1fa03_row3_col0\" class=\"data row3 col0\" >Series</td>\n",
       "      <td id=\"T_1fa03_row3_col1\" class=\"data row3 col1\" > <a href=\"https://guidebook.ukllc.ac.uk/docs/lps_data/lps%20profiles/MCS\">Millennium Cohort Study (MCS)</a></td>\n",
       "    </tr>\n",
       "    <tr>\n",
       "      <td id=\"T_1fa03_row4_col0\" class=\"data row4 col0\" >Owner</td>\n",
       "      <td id=\"T_1fa03_row4_col1\" class=\"data row4 col1\" >UCL</td>\n",
       "    </tr>\n",
       "    <tr>\n",
       "      <td id=\"T_1fa03_row5_col0\" class=\"data row5 col0\" >Temporal Coverage</td>\n",
       "      <td id=\"T_1fa03_row5_col1\" class=\"data row5 col1\" >01/2018 - 03/2019</td>\n",
       "    </tr>\n",
       "    <tr>\n",
       "      <td id=\"T_1fa03_row6_col0\" class=\"data row6 col0\" >Keywords</td>\n",
       "      <td id=\"T_1fa03_row6_col1\" class=\"data row6 col1\" >Demographics,Education,Employment,Income,Household,Mental Health</td>\n",
       "    </tr>\n",
       "    <tr>\n",
       "      <td id=\"T_1fa03_row7_col0\" class=\"data row7 col0\" >Participants Invited</td>\n",
       "      <td id=\"T_1fa03_row7_col1\" class=\"data row7 col1\" >18552</td>\n",
       "    </tr>\n",
       "    <tr>\n",
       "      <td id=\"T_1fa03_row8_col0\" class=\"data row8 col0\" >Participant Count</td>\n",
       "      <td id=\"T_1fa03_row8_col1\" class=\"data row8 col1\" >18127</td>\n",
       "    </tr>\n",
       "    <tr>\n",
       "      <td id=\"T_1fa03_row9_col0\" class=\"data row9 col0\" >Number of variables</td>\n",
       "      <td id=\"T_1fa03_row9_col1\" class=\"data row9 col1\" >24</td>\n",
       "    </tr>\n",
       "    <tr>\n",
       "      <td id=\"T_1fa03_row10_col0\" class=\"data row10 col0\" >Number of observations</td>\n",
       "      <td id=\"T_1fa03_row10_col1\" class=\"data row10 col1\" >37705</td>\n",
       "    </tr>\n",
       "    <tr>\n",
       "      <td id=\"T_1fa03_row11_col0\" class=\"data row11 col0\" >Specific Restrictions to Data Use</td>\n",
       "      <td id=\"T_1fa03_row11_col1\" class=\"data row11 col1\" >None</td>\n",
       "    </tr>\n",
       "    <tr>\n",
       "      <td id=\"T_1fa03_row12_col0\" class=\"data row12 col0\" >Build a Data Request</td>\n",
       "      <td id=\"T_1fa03_row12_col1\" class=\"data row12 col1\" > <a href=\"https://explore.ukllc.ac.uk/\" rel=\"noopener noreferrer\" target=\"_blank\">https://explore.ukllc.ac.uk/</a></td>\n",
       "    </tr>\n",
       "  </tbody>\n",
       "</table>\n"
      ],
      "text/plain": [
       "<pandas.io.formats.style.Styler at 0x20d6ae005c0>"
      ]
     },
     "execution_count": 3,
     "metadata": {},
     "output_type": "execute_result"
    }
   ],
   "source": [
    "ds.info_table()"
   ]
  },
  {
   "cell_type": "markdown",
   "id": "95d21824",
   "metadata": {},
   "source": [
    "## 2. Version History"
   ]
  },
  {
   "cell_type": "code",
   "execution_count": 4,
   "id": "9cb4cc9c",
   "metadata": {
    "execution": {
     "iopub.execute_input": "2025-07-28T19:09:53.958747Z",
     "iopub.status.busy": "2025-07-28T19:09:53.957745Z",
     "iopub.status.idle": "2025-07-28T19:09:59.533847Z",
     "shell.execute_reply": "2025-07-28T19:09:59.531826Z"
    },
    "tags": [
     "remove-input"
    ]
   },
   "outputs": [
    {
     "data": {
      "text/html": [
       "<style type=\"text/css\">\n",
       "#T_af81c th {\n",
       "  text-align: left;\n",
       "}\n",
       "#T_af81c_row0_col0, #T_af81c_row0_col1, #T_af81c_row1_col0, #T_af81c_row1_col1, #T_af81c_row2_col0, #T_af81c_row2_col1, #T_af81c_row3_col0, #T_af81c_row3_col1, #T_af81c_row4_col0, #T_af81c_row4_col1 {\n",
       "  text-align: left;\n",
       "}\n",
       "</style>\n",
       "<table id=\"T_af81c\" style=\"font-size: 14px\">\n",
       "  <thead>\n",
       "    <tr>\n",
       "      <th id=\"T_af81c_level0_col0\" class=\"col_heading level0 col0\" >Version</th>\n",
       "      <th id=\"T_af81c_level0_col1\" class=\"col_heading level0 col1\" >1</th>\n",
       "    </tr>\n",
       "  </thead>\n",
       "  <tbody>\n",
       "    <tr>\n",
       "      <td id=\"T_af81c_row0_col0\" class=\"data row0 col0\" >Version Date</td>\n",
       "      <td id=\"T_af81c_row0_col1\" class=\"data row0 col1\" >01 Nov 2021</td>\n",
       "    </tr>\n",
       "    <tr>\n",
       "      <td id=\"T_af81c_row1_col0\" class=\"data row1 col0\" >Number of Variables</td>\n",
       "      <td id=\"T_af81c_row1_col1\" class=\"data row1 col1\" >24</td>\n",
       "    </tr>\n",
       "    <tr>\n",
       "      <td id=\"T_af81c_row2_col0\" class=\"data row2 col0\" >Number of Observations</td>\n",
       "      <td id=\"T_af81c_row2_col1\" class=\"data row2 col1\" >37705</td>\n",
       "    </tr>\n",
       "    <tr>\n",
       "      <td id=\"T_af81c_row3_col0\" class=\"data row3 col0\" >DOI</td>\n",
       "      <td id=\"T_af81c_row3_col1\" class=\"data row3 col1\" > <a href=\"https://doi.org/10.71760/ukllc-dataset-00161-01\" rel=\"noopener noreferrer\" target=\"_blank\">10.71760/ukllc-dataset-00161-01</a></td>\n",
       "    </tr>\n",
       "    <tr>\n",
       "      <td id=\"T_af81c_row4_col0\" class=\"data row4 col0\" >Change Log</td>\n",
       "      <td id=\"T_af81c_row4_col1\" class=\"data row4 col1\" > <a href=\"https://api.test.datacite.org/dois/10.71760/ukllc-dataset-00161-01/activities\" rel=\"noopener noreferrer\" target=\"_blank\">10.71760/ukllc-dataset-00161-01/activities</a></td>\n",
       "    </tr>\n",
       "  </tbody>\n",
       "</table>\n"
      ],
      "text/plain": [
       "<pandas.io.formats.style.Styler at 0x20d70967fb0>"
      ]
     },
     "execution_count": 4,
     "metadata": {},
     "output_type": "execute_result"
    }
   ],
   "source": [
    "ds.version_history()"
   ]
  },
  {
   "cell_type": "markdown",
   "id": "9bd26059",
   "metadata": {},
   "source": [
    "## 3. Documentation"
   ]
  },
  {
   "cell_type": "code",
   "execution_count": 5,
   "id": "ab76eb04",
   "metadata": {
    "execution": {
     "iopub.execute_input": "2025-07-28T19:09:59.543374Z",
     "iopub.status.busy": "2025-07-28T19:09:59.542376Z",
     "iopub.status.idle": "2025-07-28T19:09:59.556884Z",
     "shell.execute_reply": "2025-07-28T19:09:59.552372Z"
    },
    "tags": [
     "remove-input"
    ]
   },
   "outputs": [
    {
     "data": {
      "text/markdown": [
       "We are currently building a documentation storage system which will host useful documents related to datasets and data owners. We will surface these documents on Guidebook."
      ],
      "text/plain": [
       "<IPython.core.display.Markdown object>"
      ]
     },
     "metadata": {},
     "output_type": "display_data"
    }
   ],
   "source": [
    "ds.documentation()"
   ]
  },
  {
   "cell_type": "markdown",
   "id": "bb6aa2ea",
   "metadata": {},
   "source": [
    "## 4. Useful Syntax"
   ]
  },
  {
   "cell_type": "code",
   "execution_count": 6,
   "id": "4039cd73",
   "metadata": {
    "execution": {
     "iopub.execute_input": "2025-07-28T19:09:59.586842Z",
     "iopub.status.busy": "2025-07-28T19:09:59.585838Z",
     "iopub.status.idle": "2025-07-28T19:09:59.607723Z",
     "shell.execute_reply": "2025-07-28T19:09:59.605722Z"
    },
    "tags": [
     "remove-input"
    ]
   },
   "outputs": [
    {
     "data": {
      "text/markdown": [
       "Below we will include syntax that may be helpful to other researchers in the UK LLC TRE. For longer scripts, we will include a snippet of the code plus a link to Git where you can find the full scripts."
      ],
      "text/plain": [
       "<IPython.core.display.Markdown object>"
      ]
     },
     "metadata": {},
     "output_type": "display_data"
    }
   ],
   "source": [
    "ds.useful_syntax()"
   ]
  }
 ],
 "metadata": {
  "language_info": {
   "codemirror_mode": {
    "name": "ipython",
    "version": 3
   },
   "file_extension": ".py",
   "mimetype": "text/x-python",
   "name": "python",
   "nbconvert_exporter": "python",
   "pygments_lexer": "ipython3",
   "version": "3.12.7"
  }
 },
 "nbformat": 4,
 "nbformat_minor": 5
}
