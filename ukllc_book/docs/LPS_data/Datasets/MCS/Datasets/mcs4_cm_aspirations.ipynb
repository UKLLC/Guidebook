{
 "cells": [
  {
   "cell_type": "markdown",
   "id": "7e32fc40",
   "metadata": {},
   "source": [
    "# MCS4 Cohort Member Aspirations (MCS)"
   ]
  },
  {
   "cell_type": "code",
   "execution_count": 1,
   "id": "4e55a449",
   "metadata": {
    "execution": {
     "iopub.execute_input": "2025-07-18T09:53:44.120679Z",
     "iopub.status.busy": "2025-07-18T09:53:44.119673Z",
     "iopub.status.idle": "2025-07-18T09:53:50.848717Z",
     "shell.execute_reply": "2025-07-18T09:53:50.845299Z"
    },
    "tags": [
     "remove-input"
    ]
   },
   "outputs": [
    {
     "data": {
      "text/markdown": [
       ">Last modified: 18 Jul 2025"
      ],
      "text/plain": [
       "<IPython.core.display.Markdown object>"
      ]
     },
     "metadata": {},
     "output_type": "display_data"
    }
   ],
   "source": [
    "\n",
    "import sys\n",
    "import os\n",
    "sys.path.append(os.path.abspath('../../../../scripts/'))\n",
    "from data_doc_helper import LPSDataSet as DS, last_modified\n",
    "API_KEY = os.environ['FASTAPI_KEY']\n",
    "ds = DS(\"MCS\", \"mcs4_cm_aspirations\")\n",
    "last_modified()\n"
   ]
  },
  {
   "cell_type": "markdown",
   "id": "7fb04cb9",
   "metadata": {},
   "source": [
    "## 1. Summary"
   ]
  },
  {
   "cell_type": "code",
   "execution_count": 2,
   "id": "63225aab",
   "metadata": {
    "execution": {
     "iopub.execute_input": "2025-07-18T09:53:50.854731Z",
     "iopub.status.busy": "2025-07-18T09:53:50.853731Z",
     "iopub.status.idle": "2025-07-18T09:53:50.865580Z",
     "shell.execute_reply": "2025-07-18T09:53:50.864573Z"
    },
    "tags": [
     "remove-input"
    ]
   },
   "outputs": [
    {
     "data": {
      "text/markdown": [
       "This dataset contains coded variables relating to the aspirations of the cohort members given at MCS4. The coding includes Feminine vs Masculine aspirations, Extrinsic vs Intrinsic goals, and SOC coding. "
      ],
      "text/plain": [
       "<IPython.core.display.Markdown object>"
      ]
     },
     "metadata": {},
     "output_type": "display_data"
    }
   ],
   "source": [
    "ds.summary()"
   ]
  },
  {
   "cell_type": "code",
   "execution_count": 3,
   "id": "08062c5b",
   "metadata": {
    "execution": {
     "iopub.execute_input": "2025-07-18T09:53:50.872467Z",
     "iopub.status.busy": "2025-07-18T09:53:50.871581Z",
     "iopub.status.idle": "2025-07-18T09:53:51.959882Z",
     "shell.execute_reply": "2025-07-18T09:53:51.958361Z"
    },
    "tags": [
     "remove-input"
    ]
   },
   "outputs": [
    {
     "data": {
      "text/html": [
       "<style type=\"text/css\">\n",
       "#T_de494 th {\n",
       "  text-align: left;\n",
       "}\n",
       "#T_de494_row0_col0, #T_de494_row0_col1, #T_de494_row1_col0, #T_de494_row1_col1, #T_de494_row2_col0, #T_de494_row2_col1, #T_de494_row3_col0, #T_de494_row3_col1, #T_de494_row4_col0, #T_de494_row4_col1, #T_de494_row5_col0, #T_de494_row5_col1, #T_de494_row6_col0, #T_de494_row6_col1, #T_de494_row7_col0, #T_de494_row7_col1, #T_de494_row8_col0, #T_de494_row8_col1, #T_de494_row9_col0, #T_de494_row9_col1, #T_de494_row10_col0, #T_de494_row10_col1, #T_de494_row11_col0, #T_de494_row11_col1, #T_de494_row12_col0, #T_de494_row12_col1 {\n",
       "  text-align: left;\n",
       "}\n",
       "</style>\n",
       "<table id=\"T_de494\" style=\"font-size: 14px\">\n",
       "  <thead>\n",
       "    <tr>\n",
       "      <th id=\"T_de494_level0_col0\" class=\"col_heading level0 col0\" >Dataset Descriptor</th>\n",
       "      <th id=\"T_de494_level0_col1\" class=\"col_heading level0 col1\" >Dataset-specific Information</th>\n",
       "    </tr>\n",
       "  </thead>\n",
       "  <tbody>\n",
       "    <tr>\n",
       "      <td id=\"T_de494_row0_col0\" class=\"data row0 col0\" >Name of Dataset in TRE</td>\n",
       "      <td id=\"T_de494_row0_col1\" class=\"data row0 col1\" >MCS_mcs4_cm_aspirations</td>\n",
       "    </tr>\n",
       "    <tr>\n",
       "      <td id=\"T_de494_row1_col0\" class=\"data row1 col0\" >Citation (APA)</td>\n",
       "      <td id=\"T_de494_row1_col1\" class=\"data row1 col1\" >University College London, UCL Social Research Institute, Centre for Longitudinal Studies. (2021). <i>Millennium Cohort Study (MCS): MCS4 Cohort Member Aspirations.</i> UK Longitudinal Linkage Collaboration (UK LLC).  <a href=\"https://doi.org/10.83126/ukllc-dataset-00270-01\" rel=\"noopener noreferrer\" target=\"_blank\">https://doi.org/10.83126/ukllc-dataset-00270-01</a></td>\n",
       "    </tr>\n",
       "    <tr>\n",
       "      <td id=\"T_de494_row2_col0\" class=\"data row2 col0\" >Download Citation</td>\n",
       "      <td id=\"T_de494_row2_col1\" class=\"data row2 col1\" > <a href=\"https://api.test.datacite.org/application/vnd.citationstyles.csl+json/10.83126/ukllc-dataset-00270-01\" rel=\"noopener noreferrer\" target=\"_blank\">Citeproc JSON</a>&nbsp;&nbsp;&nbsp;&nbsp; <a href=\"https://api.test.datacite.org/application/x-bibtex/10.83126/ukllc-dataset-00270-01\" rel=\"noopener noreferrer\" target=\"_blank\">BibTeX</a>&nbsp;&nbsp;&nbsp;&nbsp; <a href=\"https://api.test.datacite.org/application/x-research-info-systems/10.83126/ukllc-dataset-00270-01\" rel=\"noopener noreferrer\" target=\"_blank\">RIS</a></td>\n",
       "    </tr>\n",
       "    <tr>\n",
       "      <td id=\"T_de494_row3_col0\" class=\"data row3 col0\" >Series</td>\n",
       "      <td id=\"T_de494_row3_col1\" class=\"data row3 col1\" > <a href=\"https://guidebook.ukllc.ac.uk/docs/lps/lps%20profiles/MCS\">Millennium Cohort Study (MCS)</a></td>\n",
       "    </tr>\n",
       "    <tr>\n",
       "      <td id=\"T_de494_row4_col0\" class=\"data row4 col0\" >Owner</td>\n",
       "      <td id=\"T_de494_row4_col1\" class=\"data row4 col1\" >UCL</td>\n",
       "    </tr>\n",
       "    <tr>\n",
       "      <td id=\"T_de494_row5_col0\" class=\"data row5 col0\" >Temporal Coverage</td>\n",
       "      <td id=\"T_de494_row5_col1\" class=\"data row5 col1\" >01/2008 - 12/2008</td>\n",
       "    </tr>\n",
       "    <tr>\n",
       "      <td id=\"T_de494_row6_col0\" class=\"data row6 col0\" >Keywords</td>\n",
       "      <td id=\"T_de494_row6_col1\" class=\"data row6 col1\" >Family Life,Health,employment,attitudes,Social mobility</td>\n",
       "    </tr>\n",
       "    <tr>\n",
       "      <td id=\"T_de494_row7_col0\" class=\"data row7 col0\" >Participants Invited</td>\n",
       "      <td id=\"T_de494_row7_col1\" class=\"data row7 col1\" >13857</td>\n",
       "    </tr>\n",
       "    <tr>\n",
       "      <td id=\"T_de494_row8_col0\" class=\"data row8 col0\" >Participant Count</td>\n",
       "      <td id=\"T_de494_row8_col1\" class=\"data row8 col1\" >8886</td>\n",
       "    </tr>\n",
       "    <tr>\n",
       "      <td id=\"T_de494_row9_col0\" class=\"data row9 col0\" >Number of variables</td>\n",
       "      <td id=\"T_de494_row9_col1\" class=\"data row9 col1\" >36</td>\n",
       "    </tr>\n",
       "    <tr>\n",
       "      <td id=\"T_de494_row10_col0\" class=\"data row10 col0\" >Number of observations</td>\n",
       "      <td id=\"T_de494_row10_col1\" class=\"data row10 col1\" >14013</td>\n",
       "    </tr>\n",
       "    <tr>\n",
       "      <td id=\"T_de494_row11_col0\" class=\"data row11 col0\" >Specific Restrictions to Data Use</td>\n",
       "      <td id=\"T_de494_row11_col1\" class=\"data row11 col1\" >None</td>\n",
       "    </tr>\n",
       "    <tr>\n",
       "      <td id=\"T_de494_row12_col0\" class=\"data row12 col0\" >Build a Data Request</td>\n",
       "      <td id=\"T_de494_row12_col1\" class=\"data row12 col1\" > <a href=\"https://explore.ukllc.ac.uk/\" rel=\"noopener noreferrer\" target=\"_blank\">https://explore.ukllc.ac.uk/</a></td>\n",
       "    </tr>\n",
       "  </tbody>\n",
       "</table>\n"
      ],
      "text/plain": [
       "<pandas.io.formats.style.Styler at 0x1f78cb40260>"
      ]
     },
     "execution_count": 3,
     "metadata": {},
     "output_type": "execute_result"
    }
   ],
   "source": [
    "ds.info_table()"
   ]
  },
  {
   "cell_type": "markdown",
   "id": "96a19ad5",
   "metadata": {},
   "source": [
    "## 2. Version History"
   ]
  },
  {
   "cell_type": "code",
   "execution_count": 4,
   "id": "b0a4a063",
   "metadata": {
    "execution": {
     "iopub.execute_input": "2025-07-18T09:53:51.965882Z",
     "iopub.status.busy": "2025-07-18T09:53:51.965882Z",
     "iopub.status.idle": "2025-07-18T09:53:54.599769Z",
     "shell.execute_reply": "2025-07-18T09:53:54.598045Z"
    },
    "tags": [
     "remove-input"
    ]
   },
   "outputs": [
    {
     "data": {
      "text/html": [
       "<style type=\"text/css\">\n",
       "#T_83e99 th {\n",
       "  text-align: left;\n",
       "}\n",
       "#T_83e99_row0_col0, #T_83e99_row0_col1, #T_83e99_row1_col0, #T_83e99_row1_col1, #T_83e99_row2_col0, #T_83e99_row2_col1, #T_83e99_row3_col0, #T_83e99_row3_col1, #T_83e99_row4_col0, #T_83e99_row4_col1 {\n",
       "  text-align: left;\n",
       "}\n",
       "</style>\n",
       "<table id=\"T_83e99\" style=\"font-size: 14px\">\n",
       "  <thead>\n",
       "    <tr>\n",
       "      <th id=\"T_83e99_level0_col0\" class=\"col_heading level0 col0\" >Version</th>\n",
       "      <th id=\"T_83e99_level0_col1\" class=\"col_heading level0 col1\" >1</th>\n",
       "    </tr>\n",
       "  </thead>\n",
       "  <tbody>\n",
       "    <tr>\n",
       "      <td id=\"T_83e99_row0_col0\" class=\"data row0 col0\" >Version Date</td>\n",
       "      <td id=\"T_83e99_row0_col1\" class=\"data row0 col1\" >01 Nov 2021</td>\n",
       "    </tr>\n",
       "    <tr>\n",
       "      <td id=\"T_83e99_row1_col0\" class=\"data row1 col0\" >Number of Variables</td>\n",
       "      <td id=\"T_83e99_row1_col1\" class=\"data row1 col1\" >36</td>\n",
       "    </tr>\n",
       "    <tr>\n",
       "      <td id=\"T_83e99_row2_col0\" class=\"data row2 col0\" >Number of Observations</td>\n",
       "      <td id=\"T_83e99_row2_col1\" class=\"data row2 col1\" >14013</td>\n",
       "    </tr>\n",
       "    <tr>\n",
       "      <td id=\"T_83e99_row3_col0\" class=\"data row3 col0\" >DOI</td>\n",
       "      <td id=\"T_83e99_row3_col1\" class=\"data row3 col1\" > <a href=\"https://doi.org/10.83126/ukllc-dataset-00270-01\" rel=\"noopener noreferrer\" target=\"_blank\">10.83126/ukllc-dataset-00270-01</a></td>\n",
       "    </tr>\n",
       "    <tr>\n",
       "      <td id=\"T_83e99_row4_col0\" class=\"data row4 col0\" >Change Log</td>\n",
       "      <td id=\"T_83e99_row4_col1\" class=\"data row4 col1\" > <a href=\"https://api.test.datacite.org/dois/10.83126/ukllc-dataset-00270-01/activities\" rel=\"noopener noreferrer\" target=\"_blank\">10.83126/ukllc-dataset-00270-01/activities</a></td>\n",
       "    </tr>\n",
       "  </tbody>\n",
       "</table>\n"
      ],
      "text/plain": [
       "<pandas.io.formats.style.Styler at 0x1f7927f2300>"
      ]
     },
     "execution_count": 4,
     "metadata": {},
     "output_type": "execute_result"
    }
   ],
   "source": [
    "ds.version_history()"
   ]
  },
  {
   "cell_type": "markdown",
   "id": "96262928",
   "metadata": {},
   "source": [
    "## 3. Documentation"
   ]
  },
  {
   "cell_type": "code",
   "execution_count": 5,
   "id": "2c583f6b",
   "metadata": {
    "execution": {
     "iopub.execute_input": "2025-07-18T09:53:54.606529Z",
     "iopub.status.busy": "2025-07-18T09:53:54.605530Z",
     "iopub.status.idle": "2025-07-18T09:53:54.614528Z",
     "shell.execute_reply": "2025-07-18T09:53:54.614528Z"
    },
    "tags": [
     "remove-input"
    ]
   },
   "outputs": [
    {
     "data": {
      "text/markdown": [
       "We are currently building a documentation storage system which will host useful documents related to datasets and data owners. We will surface these documents on Guidebook."
      ],
      "text/plain": [
       "<IPython.core.display.Markdown object>"
      ]
     },
     "metadata": {},
     "output_type": "display_data"
    }
   ],
   "source": [
    "ds.documentation()"
   ]
  },
  {
   "cell_type": "markdown",
   "id": "12f7478c",
   "metadata": {},
   "source": [
    "## 4. Useful Syntax"
   ]
  },
  {
   "cell_type": "code",
   "execution_count": 6,
   "id": "58e322dd",
   "metadata": {
    "execution": {
     "iopub.execute_input": "2025-07-18T09:53:54.618032Z",
     "iopub.status.busy": "2025-07-18T09:53:54.618032Z",
     "iopub.status.idle": "2025-07-18T09:53:54.627021Z",
     "shell.execute_reply": "2025-07-18T09:53:54.625014Z"
    },
    "tags": [
     "remove-input"
    ]
   },
   "outputs": [
    {
     "data": {
      "text/markdown": [
       "Below we will include syntax that may be helpful to other researchers in the UK LLC TRE. For longer scripts, we will include a snippet of the code plus a link to Git where you can find the full scripts."
      ],
      "text/plain": [
       "<IPython.core.display.Markdown object>"
      ]
     },
     "metadata": {},
     "output_type": "display_data"
    }
   ],
   "source": [
    "ds.useful_syntax()"
   ]
  }
 ],
 "metadata": {
  "language_info": {
   "codemirror_mode": {
    "name": "ipython",
    "version": 3
   },
   "file_extension": ".py",
   "mimetype": "text/x-python",
   "name": "python",
   "nbconvert_exporter": "python",
   "pygments_lexer": "ipython3",
   "version": "3.12.7"
  }
 },
 "nbformat": 4,
 "nbformat_minor": 5
}
