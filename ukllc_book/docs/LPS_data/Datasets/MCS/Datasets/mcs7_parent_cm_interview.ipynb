{
 "cells": [
  {
   "cell_type": "markdown",
   "id": "c8dc9e70",
   "metadata": {},
   "source": [
    "# MCS7 Parent Interview about Cohort Member (MCS)"
   ]
  },
  {
   "cell_type": "code",
   "execution_count": 1,
   "id": "2e72eaa9",
   "metadata": {
    "execution": {
     "iopub.execute_input": "2025-07-28T19:41:52.086460Z",
     "iopub.status.busy": "2025-07-28T19:41:52.085461Z",
     "iopub.status.idle": "2025-07-28T19:42:04.865699Z",
     "shell.execute_reply": "2025-07-28T19:42:04.863165Z"
    },
    "tags": [
     "remove-input"
    ]
   },
   "outputs": [
    {
     "data": {
      "text/markdown": [
       ">Last modified: 28 Jul 2025"
      ],
      "text/plain": [
       "<IPython.core.display.Markdown object>"
      ]
     },
     "metadata": {},
     "output_type": "display_data"
    }
   ],
   "source": [
    "\n",
    "import sys\n",
    "import os\n",
    "sys.path.append(os.path.abspath('../../../../scripts/'))\n",
    "from data_doc_helper import LPSDataSet as DS, last_modified\n",
    "API_KEY = os.environ['FASTAPI_KEY']\n",
    "ds = DS(\"MCS\", \"mcs7_parent_cm_interview\")\n",
    "last_modified()\n"
   ]
  },
  {
   "cell_type": "markdown",
   "id": "b49b95be",
   "metadata": {},
   "source": [
    "## 1. Summary"
   ]
  },
  {
   "cell_type": "code",
   "execution_count": 2,
   "id": "f8d922f8",
   "metadata": {
    "execution": {
     "iopub.execute_input": "2025-07-28T19:42:04.874300Z",
     "iopub.status.busy": "2025-07-28T19:42:04.873298Z",
     "iopub.status.idle": "2025-07-28T19:42:04.888080Z",
     "shell.execute_reply": "2025-07-28T19:42:04.886415Z"
    },
    "tags": [
     "remove-input"
    ]
   },
   "outputs": [
    {
     "data": {
      "text/markdown": [
       "This dataset contains responses at sweep 7 from parents about each cohort member's likelihood of going to university and parent-reported child SDQ etc."
      ],
      "text/plain": [
       "<IPython.core.display.Markdown object>"
      ]
     },
     "metadata": {},
     "output_type": "display_data"
    }
   ],
   "source": [
    "ds.summary()"
   ]
  },
  {
   "cell_type": "code",
   "execution_count": 3,
   "id": "dc0561d8",
   "metadata": {
    "execution": {
     "iopub.execute_input": "2025-07-28T19:42:04.898961Z",
     "iopub.status.busy": "2025-07-28T19:42:04.894964Z",
     "iopub.status.idle": "2025-07-28T19:42:06.596764Z",
     "shell.execute_reply": "2025-07-28T19:42:06.594748Z"
    },
    "tags": [
     "remove-input"
    ]
   },
   "outputs": [
    {
     "data": {
      "text/html": [
       "<style type=\"text/css\">\n",
       "#T_0fc46 th {\n",
       "  text-align: left;\n",
       "}\n",
       "#T_0fc46_row0_col0, #T_0fc46_row0_col1, #T_0fc46_row1_col0, #T_0fc46_row1_col1, #T_0fc46_row2_col0, #T_0fc46_row2_col1, #T_0fc46_row3_col0, #T_0fc46_row3_col1, #T_0fc46_row4_col0, #T_0fc46_row4_col1, #T_0fc46_row5_col0, #T_0fc46_row5_col1, #T_0fc46_row6_col0, #T_0fc46_row6_col1, #T_0fc46_row7_col0, #T_0fc46_row7_col1, #T_0fc46_row8_col0, #T_0fc46_row8_col1, #T_0fc46_row9_col0, #T_0fc46_row9_col1, #T_0fc46_row10_col0, #T_0fc46_row10_col1, #T_0fc46_row11_col0, #T_0fc46_row11_col1, #T_0fc46_row12_col0, #T_0fc46_row12_col1 {\n",
       "  text-align: left;\n",
       "}\n",
       "</style>\n",
       "<table id=\"T_0fc46\" style=\"font-size: 14px\">\n",
       "  <thead>\n",
       "    <tr>\n",
       "      <th id=\"T_0fc46_level0_col0\" class=\"col_heading level0 col0\" >Dataset Descriptor</th>\n",
       "      <th id=\"T_0fc46_level0_col1\" class=\"col_heading level0 col1\" >Dataset-specific Information</th>\n",
       "    </tr>\n",
       "  </thead>\n",
       "  <tbody>\n",
       "    <tr>\n",
       "      <td id=\"T_0fc46_row0_col0\" class=\"data row0 col0\" >Name of Dataset in TRE</td>\n",
       "      <td id=\"T_0fc46_row0_col1\" class=\"data row0 col1\" >MCS_mcs7_parent_cm_interview</td>\n",
       "    </tr>\n",
       "    <tr>\n",
       "      <td id=\"T_0fc46_row1_col0\" class=\"data row1 col0\" >Citation (APA)</td>\n",
       "      <td id=\"T_0fc46_row1_col1\" class=\"data row1 col1\" >University College London, UCL Social Research Institute, Centre for Longitudinal Studies. (2021). <i>Millennium Cohort Study (MCS): MCS7 Parent Interview about Cohort Member.</i> UK Longitudinal Linkage Collaboration (UK LLC).  <a href=\"https://doi.org/10.71760/ukllc-dataset-00228-01\" rel=\"noopener noreferrer\" target=\"_blank\">https://doi.org/10.71760/ukllc-dataset-00228-01</a></td>\n",
       "    </tr>\n",
       "    <tr>\n",
       "      <td id=\"T_0fc46_row2_col0\" class=\"data row2 col0\" >Download Citation</td>\n",
       "      <td id=\"T_0fc46_row2_col1\" class=\"data row2 col1\" > <a href=\"https://api.datacite.org/application/vnd.citationstyles.csl+json/10.71760/ukllc-dataset-00228-01\" rel=\"noopener noreferrer\" target=\"_blank\">Citeproc JSON</a>&nbsp;&nbsp;&nbsp;&nbsp; <a href=\"https://api.datacite.org/application/x-bibtex/10.71760/ukllc-dataset-00228-01\" rel=\"noopener noreferrer\" target=\"_blank\">BibTeX</a>&nbsp;&nbsp;&nbsp;&nbsp; <a href=\"https://api.datacite.org/application/x-research-info-systems/10.71760/ukllc-dataset-00228-01\" rel=\"noopener noreferrer\" target=\"_blank\">RIS</a></td>\n",
       "    </tr>\n",
       "    <tr>\n",
       "      <td id=\"T_0fc46_row3_col0\" class=\"data row3 col0\" >Series</td>\n",
       "      <td id=\"T_0fc46_row3_col1\" class=\"data row3 col1\" > <a href=\"https://guidebook.ukllc.ac.uk/docs/lps_data/lps%20profiles/MCS\">Millennium Cohort Study (MCS)</a></td>\n",
       "    </tr>\n",
       "    <tr>\n",
       "      <td id=\"T_0fc46_row4_col0\" class=\"data row4 col0\" >Owner</td>\n",
       "      <td id=\"T_0fc46_row4_col1\" class=\"data row4 col1\" >UCL</td>\n",
       "    </tr>\n",
       "    <tr>\n",
       "      <td id=\"T_0fc46_row5_col0\" class=\"data row5 col0\" >Temporal Coverage</td>\n",
       "      <td id=\"T_0fc46_row5_col1\" class=\"data row5 col1\" >01/2018 - 03/2019</td>\n",
       "    </tr>\n",
       "    <tr>\n",
       "      <td id=\"T_0fc46_row6_col0\" class=\"data row6 col0\" >Keywords</td>\n",
       "      <td id=\"T_0fc46_row6_col1\" class=\"data row6 col1\" >Health,Education,Leisure & sport,Attitudes,Youth,Employment</td>\n",
       "    </tr>\n",
       "    <tr>\n",
       "      <td id=\"T_0fc46_row7_col0\" class=\"data row7 col0\" >Participants Invited</td>\n",
       "      <td id=\"T_0fc46_row7_col1\" class=\"data row7 col1\" >10345</td>\n",
       "    </tr>\n",
       "    <tr>\n",
       "      <td id=\"T_0fc46_row8_col0\" class=\"data row8 col0\" >Participant Count</td>\n",
       "      <td id=\"T_0fc46_row8_col1\" class=\"data row8 col1\" >12001</td>\n",
       "    </tr>\n",
       "    <tr>\n",
       "      <td id=\"T_0fc46_row9_col0\" class=\"data row9 col0\" >Number of variables</td>\n",
       "      <td id=\"T_0fc46_row9_col1\" class=\"data row9 col1\" >58</td>\n",
       "    </tr>\n",
       "    <tr>\n",
       "      <td id=\"T_0fc46_row10_col0\" class=\"data row10 col0\" >Number of observations</td>\n",
       "      <td id=\"T_0fc46_row10_col1\" class=\"data row10 col1\" >14940</td>\n",
       "    </tr>\n",
       "    <tr>\n",
       "      <td id=\"T_0fc46_row11_col0\" class=\"data row11 col0\" >Specific Restrictions to Data Use</td>\n",
       "      <td id=\"T_0fc46_row11_col1\" class=\"data row11 col1\" >None</td>\n",
       "    </tr>\n",
       "    <tr>\n",
       "      <td id=\"T_0fc46_row12_col0\" class=\"data row12 col0\" >Build a Data Request</td>\n",
       "      <td id=\"T_0fc46_row12_col1\" class=\"data row12 col1\" > <a href=\"https://explore.ukllc.ac.uk/\" rel=\"noopener noreferrer\" target=\"_blank\">https://explore.ukllc.ac.uk/</a></td>\n",
       "    </tr>\n",
       "  </tbody>\n",
       "</table>\n"
      ],
      "text/plain": [
       "<pandas.io.formats.style.Styler at 0x2970108ed50>"
      ]
     },
     "execution_count": 3,
     "metadata": {},
     "output_type": "execute_result"
    }
   ],
   "source": [
    "ds.info_table()"
   ]
  },
  {
   "cell_type": "markdown",
   "id": "333a9b88",
   "metadata": {},
   "source": [
    "## 2. Version History"
   ]
  },
  {
   "cell_type": "code",
   "execution_count": 4,
   "id": "4d39e354",
   "metadata": {
    "execution": {
     "iopub.execute_input": "2025-07-28T19:42:06.605762Z",
     "iopub.status.busy": "2025-07-28T19:42:06.605762Z",
     "iopub.status.idle": "2025-07-28T19:42:11.816615Z",
     "shell.execute_reply": "2025-07-28T19:42:11.813593Z"
    },
    "tags": [
     "remove-input"
    ]
   },
   "outputs": [
    {
     "data": {
      "text/html": [
       "<style type=\"text/css\">\n",
       "#T_360ad th {\n",
       "  text-align: left;\n",
       "}\n",
       "#T_360ad_row0_col0, #T_360ad_row0_col1, #T_360ad_row1_col0, #T_360ad_row1_col1, #T_360ad_row2_col0, #T_360ad_row2_col1, #T_360ad_row3_col0, #T_360ad_row3_col1, #T_360ad_row4_col0, #T_360ad_row4_col1 {\n",
       "  text-align: left;\n",
       "}\n",
       "</style>\n",
       "<table id=\"T_360ad\" style=\"font-size: 14px\">\n",
       "  <thead>\n",
       "    <tr>\n",
       "      <th id=\"T_360ad_level0_col0\" class=\"col_heading level0 col0\" >Version</th>\n",
       "      <th id=\"T_360ad_level0_col1\" class=\"col_heading level0 col1\" >1</th>\n",
       "    </tr>\n",
       "  </thead>\n",
       "  <tbody>\n",
       "    <tr>\n",
       "      <td id=\"T_360ad_row0_col0\" class=\"data row0 col0\" >Version Date</td>\n",
       "      <td id=\"T_360ad_row0_col1\" class=\"data row0 col1\" >01 Nov 2021</td>\n",
       "    </tr>\n",
       "    <tr>\n",
       "      <td id=\"T_360ad_row1_col0\" class=\"data row1 col0\" >Number of Variables</td>\n",
       "      <td id=\"T_360ad_row1_col1\" class=\"data row1 col1\" >58</td>\n",
       "    </tr>\n",
       "    <tr>\n",
       "      <td id=\"T_360ad_row2_col0\" class=\"data row2 col0\" >Number of Observations</td>\n",
       "      <td id=\"T_360ad_row2_col1\" class=\"data row2 col1\" >14940</td>\n",
       "    </tr>\n",
       "    <tr>\n",
       "      <td id=\"T_360ad_row3_col0\" class=\"data row3 col0\" >DOI</td>\n",
       "      <td id=\"T_360ad_row3_col1\" class=\"data row3 col1\" > <a href=\"https://doi.org/10.71760/ukllc-dataset-00228-01\" rel=\"noopener noreferrer\" target=\"_blank\">10.71760/ukllc-dataset-00228-01</a></td>\n",
       "    </tr>\n",
       "    <tr>\n",
       "      <td id=\"T_360ad_row4_col0\" class=\"data row4 col0\" >Change Log</td>\n",
       "      <td id=\"T_360ad_row4_col1\" class=\"data row4 col1\" > <a href=\"https://api.test.datacite.org/dois/10.71760/ukllc-dataset-00228-01/activities\" rel=\"noopener noreferrer\" target=\"_blank\">10.71760/ukllc-dataset-00228-01/activities</a></td>\n",
       "    </tr>\n",
       "  </tbody>\n",
       "</table>\n"
      ],
      "text/plain": [
       "<pandas.io.formats.style.Styler at 0x29706ca2180>"
      ]
     },
     "execution_count": 4,
     "metadata": {},
     "output_type": "execute_result"
    }
   ],
   "source": [
    "ds.version_history()"
   ]
  },
  {
   "cell_type": "markdown",
   "id": "b6419a8c",
   "metadata": {},
   "source": [
    "## 3. Documentation"
   ]
  },
  {
   "cell_type": "code",
   "execution_count": 5,
   "id": "1f5e8056",
   "metadata": {
    "execution": {
     "iopub.execute_input": "2025-07-28T19:42:11.825626Z",
     "iopub.status.busy": "2025-07-28T19:42:11.825626Z",
     "iopub.status.idle": "2025-07-28T19:42:11.837935Z",
     "shell.execute_reply": "2025-07-28T19:42:11.835917Z"
    },
    "tags": [
     "remove-input"
    ]
   },
   "outputs": [
    {
     "data": {
      "text/markdown": [
       "We are currently building a documentation storage system which will host useful documents related to datasets and data owners. We will surface these documents on Guidebook."
      ],
      "text/plain": [
       "<IPython.core.display.Markdown object>"
      ]
     },
     "metadata": {},
     "output_type": "display_data"
    }
   ],
   "source": [
    "ds.documentation()"
   ]
  },
  {
   "cell_type": "markdown",
   "id": "e3b37a8e",
   "metadata": {},
   "source": [
    "## 4. Useful Syntax"
   ]
  },
  {
   "cell_type": "code",
   "execution_count": 6,
   "id": "6380df86",
   "metadata": {
    "execution": {
     "iopub.execute_input": "2025-07-28T19:42:11.845939Z",
     "iopub.status.busy": "2025-07-28T19:42:11.845939Z",
     "iopub.status.idle": "2025-07-28T19:42:11.857094Z",
     "shell.execute_reply": "2025-07-28T19:42:11.855172Z"
    },
    "tags": [
     "remove-input"
    ]
   },
   "outputs": [
    {
     "data": {
      "text/markdown": [
       "Below we will include syntax that may be helpful to other researchers in the UK LLC TRE. For longer scripts, we will include a snippet of the code plus a link to Git where you can find the full scripts."
      ],
      "text/plain": [
       "<IPython.core.display.Markdown object>"
      ]
     },
     "metadata": {},
     "output_type": "display_data"
    }
   ],
   "source": [
    "ds.useful_syntax()"
   ]
  }
 ],
 "metadata": {
  "language_info": {
   "codemirror_mode": {
    "name": "ipython",
    "version": 3
   },
   "file_extension": ".py",
   "mimetype": "text/x-python",
   "name": "python",
   "nbconvert_exporter": "python",
   "pygments_lexer": "ipython3",
   "version": "3.12.7"
  }
 },
 "nbformat": 4,
 "nbformat_minor": 5
}
