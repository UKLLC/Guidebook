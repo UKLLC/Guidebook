{
 "cells": [
  {
   "cell_type": "markdown",
   "id": "c8dc9e70",
   "metadata": {},
   "source": [
    "# MCS7 Parent Interview about Cohort Member (MCS)"
   ]
  },
  {
   "cell_type": "code",
   "execution_count": 1,
   "id": "2e72eaa9",
   "metadata": {
    "execution": {
     "iopub.execute_input": "2025-07-18T10:03:08.178177Z",
     "iopub.status.busy": "2025-07-18T10:03:08.178177Z",
     "iopub.status.idle": "2025-07-18T10:03:15.080323Z",
     "shell.execute_reply": "2025-07-18T10:03:15.078735Z"
    },
    "tags": [
     "remove-input"
    ]
   },
   "outputs": [
    {
     "data": {
      "text/markdown": [
       ">Last modified: 18 Jul 2025"
      ],
      "text/plain": [
       "<IPython.core.display.Markdown object>"
      ]
     },
     "metadata": {},
     "output_type": "display_data"
    }
   ],
   "source": [
    "\n",
    "import sys\n",
    "import os\n",
    "sys.path.append(os.path.abspath('../../../../scripts/'))\n",
    "from data_doc_helper import LPSDataSet as DS, last_modified\n",
    "API_KEY = os.environ['FASTAPI_KEY']\n",
    "ds = DS(\"MCS\", \"mcs7_parent_cm_interview\")\n",
    "last_modified()\n"
   ]
  },
  {
   "cell_type": "markdown",
   "id": "b49b95be",
   "metadata": {},
   "source": [
    "## 1. Summary"
   ]
  },
  {
   "cell_type": "code",
   "execution_count": 2,
   "id": "f8d922f8",
   "metadata": {
    "execution": {
     "iopub.execute_input": "2025-07-18T10:03:15.086339Z",
     "iopub.status.busy": "2025-07-18T10:03:15.085339Z",
     "iopub.status.idle": "2025-07-18T10:03:15.097425Z",
     "shell.execute_reply": "2025-07-18T10:03:15.096418Z"
    },
    "tags": [
     "remove-input"
    ]
   },
   "outputs": [
    {
     "data": {
      "text/markdown": [
       "This dataset contains responses at sweep 7 from parents about each cohort member's likelihood of going to university and parent-reported child SDQ etc."
      ],
      "text/plain": [
       "<IPython.core.display.Markdown object>"
      ]
     },
     "metadata": {},
     "output_type": "display_data"
    }
   ],
   "source": [
    "ds.summary()"
   ]
  },
  {
   "cell_type": "code",
   "execution_count": 3,
   "id": "dc0561d8",
   "metadata": {
    "execution": {
     "iopub.execute_input": "2025-07-18T10:03:15.101424Z",
     "iopub.status.busy": "2025-07-18T10:03:15.101424Z",
     "iopub.status.idle": "2025-07-18T10:03:16.067674Z",
     "shell.execute_reply": "2025-07-18T10:03:16.065651Z"
    },
    "tags": [
     "remove-input"
    ]
   },
   "outputs": [
    {
     "data": {
      "text/html": [
       "<style type=\"text/css\">\n",
       "#T_1fee2 th {\n",
       "  text-align: left;\n",
       "}\n",
       "#T_1fee2_row0_col0, #T_1fee2_row0_col1, #T_1fee2_row1_col0, #T_1fee2_row1_col1, #T_1fee2_row2_col0, #T_1fee2_row2_col1, #T_1fee2_row3_col0, #T_1fee2_row3_col1, #T_1fee2_row4_col0, #T_1fee2_row4_col1, #T_1fee2_row5_col0, #T_1fee2_row5_col1, #T_1fee2_row6_col0, #T_1fee2_row6_col1, #T_1fee2_row7_col0, #T_1fee2_row7_col1, #T_1fee2_row8_col0, #T_1fee2_row8_col1, #T_1fee2_row9_col0, #T_1fee2_row9_col1, #T_1fee2_row10_col0, #T_1fee2_row10_col1, #T_1fee2_row11_col0, #T_1fee2_row11_col1, #T_1fee2_row12_col0, #T_1fee2_row12_col1 {\n",
       "  text-align: left;\n",
       "}\n",
       "</style>\n",
       "<table id=\"T_1fee2\" style=\"font-size: 14px\">\n",
       "  <thead>\n",
       "    <tr>\n",
       "      <th id=\"T_1fee2_level0_col0\" class=\"col_heading level0 col0\" >Dataset Descriptor</th>\n",
       "      <th id=\"T_1fee2_level0_col1\" class=\"col_heading level0 col1\" >Dataset-specific Information</th>\n",
       "    </tr>\n",
       "  </thead>\n",
       "  <tbody>\n",
       "    <tr>\n",
       "      <td id=\"T_1fee2_row0_col0\" class=\"data row0 col0\" >Name of Dataset in TRE</td>\n",
       "      <td id=\"T_1fee2_row0_col1\" class=\"data row0 col1\" >MCS_mcs7_parent_cm_interview</td>\n",
       "    </tr>\n",
       "    <tr>\n",
       "      <td id=\"T_1fee2_row1_col0\" class=\"data row1 col0\" >Citation (APA)</td>\n",
       "      <td id=\"T_1fee2_row1_col1\" class=\"data row1 col1\" >University College London, UCL Social Research Institute, Centre for Longitudinal Studies. (2021). <i>Millennium Cohort Study (MCS): MCS7 Parent Interview about Cohort Member.</i> UK Longitudinal Linkage Collaboration (UK LLC).  <a href=\"https://doi.org/10.83126/ukllc-dataset-00307-01\" rel=\"noopener noreferrer\" target=\"_blank\">https://doi.org/10.83126/ukllc-dataset-00307-01</a></td>\n",
       "    </tr>\n",
       "    <tr>\n",
       "      <td id=\"T_1fee2_row2_col0\" class=\"data row2 col0\" >Download Citation</td>\n",
       "      <td id=\"T_1fee2_row2_col1\" class=\"data row2 col1\" > <a href=\"https://api.test.datacite.org/application/vnd.citationstyles.csl+json/10.83126/ukllc-dataset-00307-01\" rel=\"noopener noreferrer\" target=\"_blank\">Citeproc JSON</a>&nbsp;&nbsp;&nbsp;&nbsp; <a href=\"https://api.test.datacite.org/application/x-bibtex/10.83126/ukllc-dataset-00307-01\" rel=\"noopener noreferrer\" target=\"_blank\">BibTeX</a>&nbsp;&nbsp;&nbsp;&nbsp; <a href=\"https://api.test.datacite.org/application/x-research-info-systems/10.83126/ukllc-dataset-00307-01\" rel=\"noopener noreferrer\" target=\"_blank\">RIS</a></td>\n",
       "    </tr>\n",
       "    <tr>\n",
       "      <td id=\"T_1fee2_row3_col0\" class=\"data row3 col0\" >Series</td>\n",
       "      <td id=\"T_1fee2_row3_col1\" class=\"data row3 col1\" > <a href=\"https://guidebook.ukllc.ac.uk/docs/lps/lps%20profiles/MCS\">Millennium Cohort Study (MCS)</a></td>\n",
       "    </tr>\n",
       "    <tr>\n",
       "      <td id=\"T_1fee2_row4_col0\" class=\"data row4 col0\" >Owner</td>\n",
       "      <td id=\"T_1fee2_row4_col1\" class=\"data row4 col1\" >UCL</td>\n",
       "    </tr>\n",
       "    <tr>\n",
       "      <td id=\"T_1fee2_row5_col0\" class=\"data row5 col0\" >Temporal Coverage</td>\n",
       "      <td id=\"T_1fee2_row5_col1\" class=\"data row5 col1\" >01/2018 - 03/2019</td>\n",
       "    </tr>\n",
       "    <tr>\n",
       "      <td id=\"T_1fee2_row6_col0\" class=\"data row6 col0\" >Keywords</td>\n",
       "      <td id=\"T_1fee2_row6_col1\" class=\"data row6 col1\" >Health,Education,Leisure & sport,Attitudes,Youth,Employment</td>\n",
       "    </tr>\n",
       "    <tr>\n",
       "      <td id=\"T_1fee2_row7_col0\" class=\"data row7 col0\" >Participants Invited</td>\n",
       "      <td id=\"T_1fee2_row7_col1\" class=\"data row7 col1\" >10345</td>\n",
       "    </tr>\n",
       "    <tr>\n",
       "      <td id=\"T_1fee2_row8_col0\" class=\"data row8 col0\" >Participant Count</td>\n",
       "      <td id=\"T_1fee2_row8_col1\" class=\"data row8 col1\" >12001</td>\n",
       "    </tr>\n",
       "    <tr>\n",
       "      <td id=\"T_1fee2_row9_col0\" class=\"data row9 col0\" >Number of variables</td>\n",
       "      <td id=\"T_1fee2_row9_col1\" class=\"data row9 col1\" >58</td>\n",
       "    </tr>\n",
       "    <tr>\n",
       "      <td id=\"T_1fee2_row10_col0\" class=\"data row10 col0\" >Number of observations</td>\n",
       "      <td id=\"T_1fee2_row10_col1\" class=\"data row10 col1\" >14940</td>\n",
       "    </tr>\n",
       "    <tr>\n",
       "      <td id=\"T_1fee2_row11_col0\" class=\"data row11 col0\" >Specific Restrictions to Data Use</td>\n",
       "      <td id=\"T_1fee2_row11_col1\" class=\"data row11 col1\" >None</td>\n",
       "    </tr>\n",
       "    <tr>\n",
       "      <td id=\"T_1fee2_row12_col0\" class=\"data row12 col0\" >Build a Data Request</td>\n",
       "      <td id=\"T_1fee2_row12_col1\" class=\"data row12 col1\" > <a href=\"https://explore.ukllc.ac.uk/\" rel=\"noopener noreferrer\" target=\"_blank\">https://explore.ukllc.ac.uk/</a></td>\n",
       "    </tr>\n",
       "  </tbody>\n",
       "</table>\n"
      ],
      "text/plain": [
       "<pandas.io.formats.style.Styler at 0x2c85916b020>"
      ]
     },
     "execution_count": 3,
     "metadata": {},
     "output_type": "execute_result"
    }
   ],
   "source": [
    "ds.info_table()"
   ]
  },
  {
   "cell_type": "markdown",
   "id": "333a9b88",
   "metadata": {},
   "source": [
    "## 2. Version History"
   ]
  },
  {
   "cell_type": "code",
   "execution_count": 4,
   "id": "4d39e354",
   "metadata": {
    "execution": {
     "iopub.execute_input": "2025-07-18T10:03:16.074691Z",
     "iopub.status.busy": "2025-07-18T10:03:16.073691Z",
     "iopub.status.idle": "2025-07-18T10:03:19.349943Z",
     "shell.execute_reply": "2025-07-18T10:03:19.348716Z"
    },
    "tags": [
     "remove-input"
    ]
   },
   "outputs": [
    {
     "data": {
      "text/html": [
       "<style type=\"text/css\">\n",
       "#T_ae85c th {\n",
       "  text-align: left;\n",
       "}\n",
       "#T_ae85c_row0_col0, #T_ae85c_row0_col1, #T_ae85c_row1_col0, #T_ae85c_row1_col1, #T_ae85c_row2_col0, #T_ae85c_row2_col1, #T_ae85c_row3_col0, #T_ae85c_row3_col1, #T_ae85c_row4_col0, #T_ae85c_row4_col1 {\n",
       "  text-align: left;\n",
       "}\n",
       "</style>\n",
       "<table id=\"T_ae85c\" style=\"font-size: 14px\">\n",
       "  <thead>\n",
       "    <tr>\n",
       "      <th id=\"T_ae85c_level0_col0\" class=\"col_heading level0 col0\" >Version</th>\n",
       "      <th id=\"T_ae85c_level0_col1\" class=\"col_heading level0 col1\" >1</th>\n",
       "    </tr>\n",
       "  </thead>\n",
       "  <tbody>\n",
       "    <tr>\n",
       "      <td id=\"T_ae85c_row0_col0\" class=\"data row0 col0\" >Version Date</td>\n",
       "      <td id=\"T_ae85c_row0_col1\" class=\"data row0 col1\" >01 Nov 2021</td>\n",
       "    </tr>\n",
       "    <tr>\n",
       "      <td id=\"T_ae85c_row1_col0\" class=\"data row1 col0\" >Number of Variables</td>\n",
       "      <td id=\"T_ae85c_row1_col1\" class=\"data row1 col1\" >58</td>\n",
       "    </tr>\n",
       "    <tr>\n",
       "      <td id=\"T_ae85c_row2_col0\" class=\"data row2 col0\" >Number of Observations</td>\n",
       "      <td id=\"T_ae85c_row2_col1\" class=\"data row2 col1\" >14940</td>\n",
       "    </tr>\n",
       "    <tr>\n",
       "      <td id=\"T_ae85c_row3_col0\" class=\"data row3 col0\" >DOI</td>\n",
       "      <td id=\"T_ae85c_row3_col1\" class=\"data row3 col1\" > <a href=\"https://doi.org/10.83126/ukllc-dataset-00307-01\" rel=\"noopener noreferrer\" target=\"_blank\">10.83126/ukllc-dataset-00307-01</a></td>\n",
       "    </tr>\n",
       "    <tr>\n",
       "      <td id=\"T_ae85c_row4_col0\" class=\"data row4 col0\" >Change Log</td>\n",
       "      <td id=\"T_ae85c_row4_col1\" class=\"data row4 col1\" > <a href=\"https://api.test.datacite.org/dois/10.83126/ukllc-dataset-00307-01/activities\" rel=\"noopener noreferrer\" target=\"_blank\">10.83126/ukllc-dataset-00307-01/activities</a></td>\n",
       "    </tr>\n",
       "  </tbody>\n",
       "</table>\n"
      ],
      "text/plain": [
       "<pandas.io.formats.style.Styler at 0x2c85500fa10>"
      ]
     },
     "execution_count": 4,
     "metadata": {},
     "output_type": "execute_result"
    }
   ],
   "source": [
    "ds.version_history()"
   ]
  },
  {
   "cell_type": "markdown",
   "id": "b6419a8c",
   "metadata": {},
   "source": [
    "## 3. Documentation"
   ]
  },
  {
   "cell_type": "code",
   "execution_count": 5,
   "id": "1f5e8056",
   "metadata": {
    "execution": {
     "iopub.execute_input": "2025-07-18T10:03:19.353957Z",
     "iopub.status.busy": "2025-07-18T10:03:19.353957Z",
     "iopub.status.idle": "2025-07-18T10:03:19.363303Z",
     "shell.execute_reply": "2025-07-18T10:03:19.361295Z"
    },
    "tags": [
     "remove-input"
    ]
   },
   "outputs": [
    {
     "data": {
      "text/markdown": [
       "We are currently building a documentation storage system which will host useful documents related to datasets and data owners. We will surface these documents on Guidebook."
      ],
      "text/plain": [
       "<IPython.core.display.Markdown object>"
      ]
     },
     "metadata": {},
     "output_type": "display_data"
    }
   ],
   "source": [
    "ds.documentation()"
   ]
  },
  {
   "cell_type": "markdown",
   "id": "e3b37a8e",
   "metadata": {},
   "source": [
    "## 4. Useful Syntax"
   ]
  },
  {
   "cell_type": "code",
   "execution_count": 6,
   "id": "6380df86",
   "metadata": {
    "execution": {
     "iopub.execute_input": "2025-07-18T10:03:19.367302Z",
     "iopub.status.busy": "2025-07-18T10:03:19.367302Z",
     "iopub.status.idle": "2025-07-18T10:03:19.376473Z",
     "shell.execute_reply": "2025-07-18T10:03:19.374302Z"
    },
    "tags": [
     "remove-input"
    ]
   },
   "outputs": [
    {
     "data": {
      "text/markdown": [
       "Below we will include syntax that may be helpful to other researchers in the UK LLC TRE. For longer scripts, we will include a snippet of the code plus a link to Git where you can find the full scripts."
      ],
      "text/plain": [
       "<IPython.core.display.Markdown object>"
      ]
     },
     "metadata": {},
     "output_type": "display_data"
    }
   ],
   "source": [
    "ds.useful_syntax()"
   ]
  }
 ],
 "metadata": {
  "language_info": {
   "codemirror_mode": {
    "name": "ipython",
    "version": 3
   },
   "file_extension": ".py",
   "mimetype": "text/x-python",
   "name": "python",
   "nbconvert_exporter": "python",
   "pygments_lexer": "ipython3",
   "version": "3.12.7"
  }
 },
 "nbformat": 4,
 "nbformat_minor": 5
}
