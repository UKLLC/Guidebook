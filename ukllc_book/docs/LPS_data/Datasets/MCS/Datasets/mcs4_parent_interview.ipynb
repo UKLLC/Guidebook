{
 "cells": [
  {
   "cell_type": "markdown",
   "id": "3bff0214",
   "metadata": {},
   "source": [
    "# MCS4 Parent Interview (MCS)"
   ]
  },
  {
   "cell_type": "code",
   "execution_count": 1,
   "id": "901d44d9",
   "metadata": {
    "execution": {
     "iopub.execute_input": "2025-07-18T09:56:02.810201Z",
     "iopub.status.busy": "2025-07-18T09:56:02.809205Z",
     "iopub.status.idle": "2025-07-18T09:56:09.861140Z",
     "shell.execute_reply": "2025-07-18T09:56:09.860632Z"
    },
    "tags": [
     "remove-input"
    ]
   },
   "outputs": [
    {
     "data": {
      "text/markdown": [
       ">Last modified: 18 Jul 2025"
      ],
      "text/plain": [
       "<IPython.core.display.Markdown object>"
      ]
     },
     "metadata": {},
     "output_type": "display_data"
    }
   ],
   "source": [
    "\n",
    "import sys\n",
    "import os\n",
    "sys.path.append(os.path.abspath('../../../../scripts/'))\n",
    "from data_doc_helper import LPSDataSet as DS, last_modified\n",
    "API_KEY = os.environ['FASTAPI_KEY']\n",
    "ds = DS(\"MCS\", \"mcs4_parent_interview\")\n",
    "last_modified()\n"
   ]
  },
  {
   "cell_type": "markdown",
   "id": "84a2a81f",
   "metadata": {},
   "source": [
    "## 1. Summary"
   ]
  },
  {
   "cell_type": "code",
   "execution_count": 2,
   "id": "3025f729",
   "metadata": {
    "execution": {
     "iopub.execute_input": "2025-07-18T09:56:09.867146Z",
     "iopub.status.busy": "2025-07-18T09:56:09.866146Z",
     "iopub.status.idle": "2025-07-18T09:56:09.875657Z",
     "shell.execute_reply": "2025-07-18T09:56:09.874647Z"
    },
    "tags": [
     "remove-input"
    ]
   },
   "outputs": [
    {
     "data": {
      "text/markdown": [
       "This dataset contains parental responses to questions on many topics including their ethnicity, marital status, relationships, lone parenthood, pregnancy, childcare, health, height, weight, non-resident children, home,  financial support, employment and income at sweep 4"
      ],
      "text/plain": [
       "<IPython.core.display.Markdown object>"
      ]
     },
     "metadata": {},
     "output_type": "display_data"
    }
   ],
   "source": [
    "ds.summary()"
   ]
  },
  {
   "cell_type": "code",
   "execution_count": 3,
   "id": "4b2f0fdc",
   "metadata": {
    "execution": {
     "iopub.execute_input": "2025-07-18T09:56:09.881654Z",
     "iopub.status.busy": "2025-07-18T09:56:09.880654Z",
     "iopub.status.idle": "2025-07-18T09:56:11.822354Z",
     "shell.execute_reply": "2025-07-18T09:56:11.820359Z"
    },
    "tags": [
     "remove-input"
    ]
   },
   "outputs": [
    {
     "data": {
      "text/html": [
       "<style type=\"text/css\">\n",
       "#T_1f58c th {\n",
       "  text-align: left;\n",
       "}\n",
       "#T_1f58c_row0_col0, #T_1f58c_row0_col1, #T_1f58c_row1_col0, #T_1f58c_row1_col1, #T_1f58c_row2_col0, #T_1f58c_row2_col1, #T_1f58c_row3_col0, #T_1f58c_row3_col1, #T_1f58c_row4_col0, #T_1f58c_row4_col1, #T_1f58c_row5_col0, #T_1f58c_row5_col1, #T_1f58c_row6_col0, #T_1f58c_row6_col1, #T_1f58c_row7_col0, #T_1f58c_row7_col1, #T_1f58c_row8_col0, #T_1f58c_row8_col1, #T_1f58c_row9_col0, #T_1f58c_row9_col1, #T_1f58c_row10_col0, #T_1f58c_row10_col1, #T_1f58c_row11_col0, #T_1f58c_row11_col1, #T_1f58c_row12_col0, #T_1f58c_row12_col1 {\n",
       "  text-align: left;\n",
       "}\n",
       "</style>\n",
       "<table id=\"T_1f58c\" style=\"font-size: 14px\">\n",
       "  <thead>\n",
       "    <tr>\n",
       "      <th id=\"T_1f58c_level0_col0\" class=\"col_heading level0 col0\" >Dataset Descriptor</th>\n",
       "      <th id=\"T_1f58c_level0_col1\" class=\"col_heading level0 col1\" >Dataset-specific Information</th>\n",
       "    </tr>\n",
       "  </thead>\n",
       "  <tbody>\n",
       "    <tr>\n",
       "      <td id=\"T_1f58c_row0_col0\" class=\"data row0 col0\" >Name of Dataset in TRE</td>\n",
       "      <td id=\"T_1f58c_row0_col1\" class=\"data row0 col1\" >MCS_mcs4_parent_interview</td>\n",
       "    </tr>\n",
       "    <tr>\n",
       "      <td id=\"T_1f58c_row1_col0\" class=\"data row1 col0\" >Citation (APA)</td>\n",
       "      <td id=\"T_1f58c_row1_col1\" class=\"data row1 col1\" >University College London, UCL Social Research Institute, Centre for Longitudinal Studies. (2021). <i>Millennium Cohort Study (MCS): MCS4 Parent Interview.</i> UK Longitudinal Linkage Collaboration (UK LLC).  <a href=\"https://doi.org/10.83126/ukllc-dataset-00279-01\" rel=\"noopener noreferrer\" target=\"_blank\">https://doi.org/10.83126/ukllc-dataset-00279-01</a></td>\n",
       "    </tr>\n",
       "    <tr>\n",
       "      <td id=\"T_1f58c_row2_col0\" class=\"data row2 col0\" >Download Citation</td>\n",
       "      <td id=\"T_1f58c_row2_col1\" class=\"data row2 col1\" > <a href=\"https://api.test.datacite.org/application/vnd.citationstyles.csl+json/10.83126/ukllc-dataset-00279-01\" rel=\"noopener noreferrer\" target=\"_blank\">Citeproc JSON</a>&nbsp;&nbsp;&nbsp;&nbsp; <a href=\"https://api.test.datacite.org/application/x-bibtex/10.83126/ukllc-dataset-00279-01\" rel=\"noopener noreferrer\" target=\"_blank\">BibTeX</a>&nbsp;&nbsp;&nbsp;&nbsp; <a href=\"https://api.test.datacite.org/application/x-research-info-systems/10.83126/ukllc-dataset-00279-01\" rel=\"noopener noreferrer\" target=\"_blank\">RIS</a></td>\n",
       "    </tr>\n",
       "    <tr>\n",
       "      <td id=\"T_1f58c_row3_col0\" class=\"data row3 col0\" >Series</td>\n",
       "      <td id=\"T_1f58c_row3_col1\" class=\"data row3 col1\" > <a href=\"https://guidebook.ukllc.ac.uk/docs/lps/lps%20profiles/MCS\">Millennium Cohort Study (MCS)</a></td>\n",
       "    </tr>\n",
       "    <tr>\n",
       "      <td id=\"T_1f58c_row4_col0\" class=\"data row4 col0\" >Owner</td>\n",
       "      <td id=\"T_1f58c_row4_col1\" class=\"data row4 col1\" >UCL</td>\n",
       "    </tr>\n",
       "    <tr>\n",
       "      <td id=\"T_1f58c_row5_col0\" class=\"data row5 col0\" >Temporal Coverage</td>\n",
       "      <td id=\"T_1f58c_row5_col1\" class=\"data row5 col1\" >01/2008 - 12/2008</td>\n",
       "    </tr>\n",
       "    <tr>\n",
       "      <td id=\"T_1f58c_row6_col0\" class=\"data row6 col0\" >Keywords</td>\n",
       "      <td id=\"T_1f58c_row6_col1\" class=\"data row6 col1\" >Family Life,Health,employment,attitudes,Social mobility</td>\n",
       "    </tr>\n",
       "    <tr>\n",
       "      <td id=\"T_1f58c_row7_col0\" class=\"data row7 col0\" >Participants Invited</td>\n",
       "      <td id=\"T_1f58c_row7_col1\" class=\"data row7 col1\" >13857</td>\n",
       "    </tr>\n",
       "    <tr>\n",
       "      <td id=\"T_1f58c_row8_col0\" class=\"data row8 col0\" >Participant Count</td>\n",
       "      <td id=\"T_1f58c_row8_col1\" class=\"data row8 col1\" >17926</td>\n",
       "    </tr>\n",
       "    <tr>\n",
       "      <td id=\"T_1f58c_row9_col0\" class=\"data row9 col0\" >Number of variables</td>\n",
       "      <td id=\"T_1f58c_row9_col1\" class=\"data row9 col1\" >1280</td>\n",
       "    </tr>\n",
       "    <tr>\n",
       "      <td id=\"T_1f58c_row10_col0\" class=\"data row10 col0\" >Number of observations</td>\n",
       "      <td id=\"T_1f58c_row10_col1\" class=\"data row10 col1\" >22956</td>\n",
       "    </tr>\n",
       "    <tr>\n",
       "      <td id=\"T_1f58c_row11_col0\" class=\"data row11 col0\" >Specific Restrictions to Data Use</td>\n",
       "      <td id=\"T_1f58c_row11_col1\" class=\"data row11 col1\" >None</td>\n",
       "    </tr>\n",
       "    <tr>\n",
       "      <td id=\"T_1f58c_row12_col0\" class=\"data row12 col0\" >Build a Data Request</td>\n",
       "      <td id=\"T_1f58c_row12_col1\" class=\"data row12 col1\" > <a href=\"https://explore.ukllc.ac.uk/\" rel=\"noopener noreferrer\" target=\"_blank\">https://explore.ukllc.ac.uk/</a></td>\n",
       "    </tr>\n",
       "  </tbody>\n",
       "</table>\n"
      ],
      "text/plain": [
       "<pandas.io.formats.style.Styler at 0x1fccd917440>"
      ]
     },
     "execution_count": 3,
     "metadata": {},
     "output_type": "execute_result"
    }
   ],
   "source": [
    "ds.info_table()"
   ]
  },
  {
   "cell_type": "markdown",
   "id": "19182f15",
   "metadata": {},
   "source": [
    "## 2. Version History"
   ]
  },
  {
   "cell_type": "code",
   "execution_count": 4,
   "id": "dc75f1ed",
   "metadata": {
    "execution": {
     "iopub.execute_input": "2025-07-18T09:56:11.828550Z",
     "iopub.status.busy": "2025-07-18T09:56:11.827550Z",
     "iopub.status.idle": "2025-07-18T09:56:14.872742Z",
     "shell.execute_reply": "2025-07-18T09:56:14.871733Z"
    },
    "tags": [
     "remove-input"
    ]
   },
   "outputs": [
    {
     "data": {
      "text/html": [
       "<style type=\"text/css\">\n",
       "#T_85947 th {\n",
       "  text-align: left;\n",
       "}\n",
       "#T_85947_row0_col0, #T_85947_row0_col1, #T_85947_row1_col0, #T_85947_row1_col1, #T_85947_row2_col0, #T_85947_row2_col1, #T_85947_row3_col0, #T_85947_row3_col1, #T_85947_row4_col0, #T_85947_row4_col1 {\n",
       "  text-align: left;\n",
       "}\n",
       "</style>\n",
       "<table id=\"T_85947\" style=\"font-size: 14px\">\n",
       "  <thead>\n",
       "    <tr>\n",
       "      <th id=\"T_85947_level0_col0\" class=\"col_heading level0 col0\" >Version</th>\n",
       "      <th id=\"T_85947_level0_col1\" class=\"col_heading level0 col1\" >1</th>\n",
       "    </tr>\n",
       "  </thead>\n",
       "  <tbody>\n",
       "    <tr>\n",
       "      <td id=\"T_85947_row0_col0\" class=\"data row0 col0\" >Version Date</td>\n",
       "      <td id=\"T_85947_row0_col1\" class=\"data row0 col1\" >01 Nov 2021</td>\n",
       "    </tr>\n",
       "    <tr>\n",
       "      <td id=\"T_85947_row1_col0\" class=\"data row1 col0\" >Number of Variables</td>\n",
       "      <td id=\"T_85947_row1_col1\" class=\"data row1 col1\" >1282</td>\n",
       "    </tr>\n",
       "    <tr>\n",
       "      <td id=\"T_85947_row2_col0\" class=\"data row2 col0\" >Number of Observations</td>\n",
       "      <td id=\"T_85947_row2_col1\" class=\"data row2 col1\" >22956</td>\n",
       "    </tr>\n",
       "    <tr>\n",
       "      <td id=\"T_85947_row3_col0\" class=\"data row3 col0\" >DOI</td>\n",
       "      <td id=\"T_85947_row3_col1\" class=\"data row3 col1\" > <a href=\"https://doi.org/10.83126/ukllc-dataset-00279-01\" rel=\"noopener noreferrer\" target=\"_blank\">10.83126/ukllc-dataset-00279-01</a></td>\n",
       "    </tr>\n",
       "    <tr>\n",
       "      <td id=\"T_85947_row4_col0\" class=\"data row4 col0\" >Change Log</td>\n",
       "      <td id=\"T_85947_row4_col1\" class=\"data row4 col1\" > <a href=\"https://api.test.datacite.org/dois/10.83126/ukllc-dataset-00279-01/activities\" rel=\"noopener noreferrer\" target=\"_blank\">10.83126/ukllc-dataset-00279-01/activities</a></td>\n",
       "    </tr>\n",
       "  </tbody>\n",
       "</table>\n"
      ],
      "text/plain": [
       "<pandas.io.formats.style.Styler at 0x1fccef6e8d0>"
      ]
     },
     "execution_count": 4,
     "metadata": {},
     "output_type": "execute_result"
    }
   ],
   "source": [
    "ds.version_history()"
   ]
  },
  {
   "cell_type": "markdown",
   "id": "7921d96b",
   "metadata": {},
   "source": [
    "## 3. Documentation"
   ]
  },
  {
   "cell_type": "code",
   "execution_count": 5,
   "id": "4067922d",
   "metadata": {
    "execution": {
     "iopub.execute_input": "2025-07-18T09:56:14.878741Z",
     "iopub.status.busy": "2025-07-18T09:56:14.878741Z",
     "iopub.status.idle": "2025-07-18T09:56:14.887854Z",
     "shell.execute_reply": "2025-07-18T09:56:14.886853Z"
    },
    "tags": [
     "remove-input"
    ]
   },
   "outputs": [
    {
     "data": {
      "text/markdown": [
       "We are currently building a documentation storage system which will host useful documents related to datasets and data owners. We will surface these documents on Guidebook."
      ],
      "text/plain": [
       "<IPython.core.display.Markdown object>"
      ]
     },
     "metadata": {},
     "output_type": "display_data"
    }
   ],
   "source": [
    "ds.documentation()"
   ]
  },
  {
   "cell_type": "markdown",
   "id": "69ba6a27",
   "metadata": {},
   "source": [
    "## 4. Useful Syntax"
   ]
  },
  {
   "cell_type": "code",
   "execution_count": 6,
   "id": "6e3c76c3",
   "metadata": {
    "execution": {
     "iopub.execute_input": "2025-07-18T09:56:14.893852Z",
     "iopub.status.busy": "2025-07-18T09:56:14.893852Z",
     "iopub.status.idle": "2025-07-18T09:56:14.903861Z",
     "shell.execute_reply": "2025-07-18T09:56:14.901927Z"
    },
    "tags": [
     "remove-input"
    ]
   },
   "outputs": [
    {
     "data": {
      "text/markdown": [
       "Below we will include syntax that may be helpful to other researchers in the UK LLC TRE. For longer scripts, we will include a snippet of the code plus a link to Git where you can find the full scripts."
      ],
      "text/plain": [
       "<IPython.core.display.Markdown object>"
      ]
     },
     "metadata": {},
     "output_type": "display_data"
    }
   ],
   "source": [
    "ds.useful_syntax()"
   ]
  }
 ],
 "metadata": {
  "language_info": {
   "codemirror_mode": {
    "name": "ipython",
    "version": 3
   },
   "file_extension": ".py",
   "mimetype": "text/x-python",
   "name": "python",
   "nbconvert_exporter": "python",
   "pygments_lexer": "ipython3",
   "version": "3.12.7"
  }
 },
 "nbformat": 4,
 "nbformat_minor": 5
}
