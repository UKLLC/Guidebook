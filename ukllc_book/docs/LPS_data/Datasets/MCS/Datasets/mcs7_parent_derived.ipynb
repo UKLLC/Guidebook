{
 "cells": [
  {
   "cell_type": "markdown",
   "id": "075788b3",
   "metadata": {},
   "source": [
    "# MCS7 Parent Derived (MCS)"
   ]
  },
  {
   "cell_type": "code",
   "execution_count": 1,
   "id": "625f9172",
   "metadata": {
    "execution": {
     "iopub.execute_input": "2025-07-28T19:42:16.668369Z",
     "iopub.status.busy": "2025-07-28T19:42:16.667365Z",
     "iopub.status.idle": "2025-07-28T19:42:29.415578Z",
     "shell.execute_reply": "2025-07-28T19:42:29.413188Z"
    },
    "tags": [
     "remove-input"
    ]
   },
   "outputs": [
    {
     "data": {
      "text/markdown": [
       ">Last modified: 28 Jul 2025"
      ],
      "text/plain": [
       "<IPython.core.display.Markdown object>"
      ]
     },
     "metadata": {},
     "output_type": "display_data"
    }
   ],
   "source": [
    "\n",
    "import sys\n",
    "import os\n",
    "sys.path.append(os.path.abspath('../../../../scripts/'))\n",
    "from data_doc_helper import LPSDataSet as DS, last_modified\n",
    "API_KEY = os.environ['FASTAPI_KEY']\n",
    "ds = DS(\"MCS\", \"mcs7_parent_derived\")\n",
    "last_modified()\n"
   ]
  },
  {
   "cell_type": "markdown",
   "id": "a03fbac8",
   "metadata": {},
   "source": [
    "## 1. Summary"
   ]
  },
  {
   "cell_type": "code",
   "execution_count": 2,
   "id": "175ec0fa",
   "metadata": {
    "execution": {
     "iopub.execute_input": "2025-07-28T19:42:29.423685Z",
     "iopub.status.busy": "2025-07-28T19:42:29.422682Z",
     "iopub.status.idle": "2025-07-28T19:42:29.434544Z",
     "shell.execute_reply": "2025-07-28T19:42:29.432527Z"
    },
    "tags": [
     "remove-input"
    ]
   },
   "outputs": [
    {
     "data": {
      "text/markdown": [
       "This dataset contains derived variables relating to parent respondents at sweep 7, including ethnic group categories and age at interview"
      ],
      "text/plain": [
       "<IPython.core.display.Markdown object>"
      ]
     },
     "metadata": {},
     "output_type": "display_data"
    }
   ],
   "source": [
    "ds.summary()"
   ]
  },
  {
   "cell_type": "code",
   "execution_count": 3,
   "id": "27a5fa3f",
   "metadata": {
    "execution": {
     "iopub.execute_input": "2025-07-28T19:42:29.442554Z",
     "iopub.status.busy": "2025-07-28T19:42:29.441620Z",
     "iopub.status.idle": "2025-07-28T19:42:31.105535Z",
     "shell.execute_reply": "2025-07-28T19:42:31.103515Z"
    },
    "tags": [
     "remove-input"
    ]
   },
   "outputs": [
    {
     "data": {
      "text/html": [
       "<style type=\"text/css\">\n",
       "#T_74a59 th {\n",
       "  text-align: left;\n",
       "}\n",
       "#T_74a59_row0_col0, #T_74a59_row0_col1, #T_74a59_row1_col0, #T_74a59_row1_col1, #T_74a59_row2_col0, #T_74a59_row2_col1, #T_74a59_row3_col0, #T_74a59_row3_col1, #T_74a59_row4_col0, #T_74a59_row4_col1, #T_74a59_row5_col0, #T_74a59_row5_col1, #T_74a59_row6_col0, #T_74a59_row6_col1, #T_74a59_row7_col0, #T_74a59_row7_col1, #T_74a59_row8_col0, #T_74a59_row8_col1, #T_74a59_row9_col0, #T_74a59_row9_col1, #T_74a59_row10_col0, #T_74a59_row10_col1, #T_74a59_row11_col0, #T_74a59_row11_col1, #T_74a59_row12_col0, #T_74a59_row12_col1 {\n",
       "  text-align: left;\n",
       "}\n",
       "</style>\n",
       "<table id=\"T_74a59\" style=\"font-size: 14px\">\n",
       "  <thead>\n",
       "    <tr>\n",
       "      <th id=\"T_74a59_level0_col0\" class=\"col_heading level0 col0\" >Dataset Descriptor</th>\n",
       "      <th id=\"T_74a59_level0_col1\" class=\"col_heading level0 col1\" >Dataset-specific Information</th>\n",
       "    </tr>\n",
       "  </thead>\n",
       "  <tbody>\n",
       "    <tr>\n",
       "      <td id=\"T_74a59_row0_col0\" class=\"data row0 col0\" >Name of Dataset in TRE</td>\n",
       "      <td id=\"T_74a59_row0_col1\" class=\"data row0 col1\" >MCS_mcs7_parent_derived</td>\n",
       "    </tr>\n",
       "    <tr>\n",
       "      <td id=\"T_74a59_row1_col0\" class=\"data row1 col0\" >Citation (APA)</td>\n",
       "      <td id=\"T_74a59_row1_col1\" class=\"data row1 col1\" >University College London, UCL Social Research Institute, Centre for Longitudinal Studies. (2021). <i>Millennium Cohort Study (MCS): MCS7 Parent Derived.</i> UK Longitudinal Linkage Collaboration (UK LLC).  <a href=\"https://doi.org/10.71760/ukllc-dataset-00229-01\" rel=\"noopener noreferrer\" target=\"_blank\">https://doi.org/10.71760/ukllc-dataset-00229-01</a></td>\n",
       "    </tr>\n",
       "    <tr>\n",
       "      <td id=\"T_74a59_row2_col0\" class=\"data row2 col0\" >Download Citation</td>\n",
       "      <td id=\"T_74a59_row2_col1\" class=\"data row2 col1\" > <a href=\"https://api.datacite.org/application/vnd.citationstyles.csl+json/10.71760/ukllc-dataset-00229-01\" rel=\"noopener noreferrer\" target=\"_blank\">Citeproc JSON</a>&nbsp;&nbsp;&nbsp;&nbsp; <a href=\"https://api.datacite.org/application/x-bibtex/10.71760/ukllc-dataset-00229-01\" rel=\"noopener noreferrer\" target=\"_blank\">BibTeX</a>&nbsp;&nbsp;&nbsp;&nbsp; <a href=\"https://api.datacite.org/application/x-research-info-systems/10.71760/ukllc-dataset-00229-01\" rel=\"noopener noreferrer\" target=\"_blank\">RIS</a></td>\n",
       "    </tr>\n",
       "    <tr>\n",
       "      <td id=\"T_74a59_row3_col0\" class=\"data row3 col0\" >Series</td>\n",
       "      <td id=\"T_74a59_row3_col1\" class=\"data row3 col1\" > <a href=\"https://guidebook.ukllc.ac.uk/docs/lps_data/lps%20profiles/MCS\">Millennium Cohort Study (MCS)</a></td>\n",
       "    </tr>\n",
       "    <tr>\n",
       "      <td id=\"T_74a59_row4_col0\" class=\"data row4 col0\" >Owner</td>\n",
       "      <td id=\"T_74a59_row4_col1\" class=\"data row4 col1\" >UCL</td>\n",
       "    </tr>\n",
       "    <tr>\n",
       "      <td id=\"T_74a59_row5_col0\" class=\"data row5 col0\" >Temporal Coverage</td>\n",
       "      <td id=\"T_74a59_row5_col1\" class=\"data row5 col1\" >01/2018 - 03/2019</td>\n",
       "    </tr>\n",
       "    <tr>\n",
       "      <td id=\"T_74a59_row6_col0\" class=\"data row6 col0\" >Keywords</td>\n",
       "      <td id=\"T_74a59_row6_col1\" class=\"data row6 col1\" >Health,Education,Leisure & sport,Attitudes,Youth,Employment</td>\n",
       "    </tr>\n",
       "    <tr>\n",
       "      <td id=\"T_74a59_row7_col0\" class=\"data row7 col0\" >Participants Invited</td>\n",
       "      <td id=\"T_74a59_row7_col1\" class=\"data row7 col1\" >10345</td>\n",
       "    </tr>\n",
       "    <tr>\n",
       "      <td id=\"T_74a59_row8_col0\" class=\"data row8 col0\" >Participant Count</td>\n",
       "      <td id=\"T_74a59_row8_col1\" class=\"data row8 col1\" >10468</td>\n",
       "    </tr>\n",
       "    <tr>\n",
       "      <td id=\"T_74a59_row9_col0\" class=\"data row9 col0\" >Number of variables</td>\n",
       "      <td id=\"T_74a59_row9_col1\" class=\"data row9 col1\" >17</td>\n",
       "    </tr>\n",
       "    <tr>\n",
       "      <td id=\"T_74a59_row10_col0\" class=\"data row10 col0\" >Number of observations</td>\n",
       "      <td id=\"T_74a59_row10_col1\" class=\"data row10 col1\" >12679</td>\n",
       "    </tr>\n",
       "    <tr>\n",
       "      <td id=\"T_74a59_row11_col0\" class=\"data row11 col0\" >Specific Restrictions to Data Use</td>\n",
       "      <td id=\"T_74a59_row11_col1\" class=\"data row11 col1\" >None</td>\n",
       "    </tr>\n",
       "    <tr>\n",
       "      <td id=\"T_74a59_row12_col0\" class=\"data row12 col0\" >Build a Data Request</td>\n",
       "      <td id=\"T_74a59_row12_col1\" class=\"data row12 col1\" > <a href=\"https://explore.ukllc.ac.uk/\" rel=\"noopener noreferrer\" target=\"_blank\">https://explore.ukllc.ac.uk/</a></td>\n",
       "    </tr>\n",
       "  </tbody>\n",
       "</table>\n"
      ],
      "text/plain": [
       "<pandas.io.formats.style.Styler at 0x2bd220d0500>"
      ]
     },
     "execution_count": 3,
     "metadata": {},
     "output_type": "execute_result"
    }
   ],
   "source": [
    "ds.info_table()"
   ]
  },
  {
   "cell_type": "markdown",
   "id": "f397303a",
   "metadata": {},
   "source": [
    "## 2. Version History"
   ]
  },
  {
   "cell_type": "code",
   "execution_count": 4,
   "id": "e2d507b1",
   "metadata": {
    "execution": {
     "iopub.execute_input": "2025-07-28T19:42:31.114549Z",
     "iopub.status.busy": "2025-07-28T19:42:31.113534Z",
     "iopub.status.idle": "2025-07-28T19:42:36.341798Z",
     "shell.execute_reply": "2025-07-28T19:42:36.340744Z"
    },
    "tags": [
     "remove-input"
    ]
   },
   "outputs": [
    {
     "data": {
      "text/html": [
       "<style type=\"text/css\">\n",
       "#T_27935 th {\n",
       "  text-align: left;\n",
       "}\n",
       "#T_27935_row0_col0, #T_27935_row0_col1, #T_27935_row1_col0, #T_27935_row1_col1, #T_27935_row2_col0, #T_27935_row2_col1, #T_27935_row3_col0, #T_27935_row3_col1, #T_27935_row4_col0, #T_27935_row4_col1 {\n",
       "  text-align: left;\n",
       "}\n",
       "</style>\n",
       "<table id=\"T_27935\" style=\"font-size: 14px\">\n",
       "  <thead>\n",
       "    <tr>\n",
       "      <th id=\"T_27935_level0_col0\" class=\"col_heading level0 col0\" >Version</th>\n",
       "      <th id=\"T_27935_level0_col1\" class=\"col_heading level0 col1\" >1</th>\n",
       "    </tr>\n",
       "  </thead>\n",
       "  <tbody>\n",
       "    <tr>\n",
       "      <td id=\"T_27935_row0_col0\" class=\"data row0 col0\" >Version Date</td>\n",
       "      <td id=\"T_27935_row0_col1\" class=\"data row0 col1\" >01 Nov 2021</td>\n",
       "    </tr>\n",
       "    <tr>\n",
       "      <td id=\"T_27935_row1_col0\" class=\"data row1 col0\" >Number of Variables</td>\n",
       "      <td id=\"T_27935_row1_col1\" class=\"data row1 col1\" >17</td>\n",
       "    </tr>\n",
       "    <tr>\n",
       "      <td id=\"T_27935_row2_col0\" class=\"data row2 col0\" >Number of Observations</td>\n",
       "      <td id=\"T_27935_row2_col1\" class=\"data row2 col1\" >12679</td>\n",
       "    </tr>\n",
       "    <tr>\n",
       "      <td id=\"T_27935_row3_col0\" class=\"data row3 col0\" >DOI</td>\n",
       "      <td id=\"T_27935_row3_col1\" class=\"data row3 col1\" > <a href=\"https://doi.org/10.71760/ukllc-dataset-00229-01\" rel=\"noopener noreferrer\" target=\"_blank\">10.71760/ukllc-dataset-00229-01</a></td>\n",
       "    </tr>\n",
       "    <tr>\n",
       "      <td id=\"T_27935_row4_col0\" class=\"data row4 col0\" >Change Log</td>\n",
       "      <td id=\"T_27935_row4_col1\" class=\"data row4 col1\" > <a href=\"https://api.test.datacite.org/dois/10.71760/ukllc-dataset-00229-01/activities\" rel=\"noopener noreferrer\" target=\"_blank\">10.71760/ukllc-dataset-00229-01/activities</a></td>\n",
       "    </tr>\n",
       "  </tbody>\n",
       "</table>\n"
      ],
      "text/plain": [
       "<pandas.io.formats.style.Styler at 0x2bd23be9130>"
      ]
     },
     "execution_count": 4,
     "metadata": {},
     "output_type": "execute_result"
    }
   ],
   "source": [
    "ds.version_history()"
   ]
  },
  {
   "cell_type": "markdown",
   "id": "35d665b1",
   "metadata": {},
   "source": [
    "## 3. Documentation"
   ]
  },
  {
   "cell_type": "code",
   "execution_count": 5,
   "id": "ebcbb382",
   "metadata": {
    "execution": {
     "iopub.execute_input": "2025-07-28T19:42:36.355774Z",
     "iopub.status.busy": "2025-07-28T19:42:36.351773Z",
     "iopub.status.idle": "2025-07-28T19:42:36.363352Z",
     "shell.execute_reply": "2025-07-28T19:42:36.362327Z"
    },
    "tags": [
     "remove-input"
    ]
   },
   "outputs": [
    {
     "data": {
      "text/markdown": [
       "We are currently building a documentation storage system which will host useful documents related to datasets and data owners. We will surface these documents on Guidebook."
      ],
      "text/plain": [
       "<IPython.core.display.Markdown object>"
      ]
     },
     "metadata": {},
     "output_type": "display_data"
    }
   ],
   "source": [
    "ds.documentation()"
   ]
  },
  {
   "cell_type": "markdown",
   "id": "ecd6d513",
   "metadata": {},
   "source": [
    "## 4. Useful Syntax"
   ]
  },
  {
   "cell_type": "code",
   "execution_count": 6,
   "id": "52625cfb",
   "metadata": {
    "execution": {
     "iopub.execute_input": "2025-07-28T19:42:36.367351Z",
     "iopub.status.busy": "2025-07-28T19:42:36.367351Z",
     "iopub.status.idle": "2025-07-28T19:42:36.380862Z",
     "shell.execute_reply": "2025-07-28T19:42:36.378831Z"
    },
    "tags": [
     "remove-input"
    ]
   },
   "outputs": [
    {
     "data": {
      "text/markdown": [
       "Below we will include syntax that may be helpful to other researchers in the UK LLC TRE. For longer scripts, we will include a snippet of the code plus a link to Git where you can find the full scripts."
      ],
      "text/plain": [
       "<IPython.core.display.Markdown object>"
      ]
     },
     "metadata": {},
     "output_type": "display_data"
    }
   ],
   "source": [
    "ds.useful_syntax()"
   ]
  }
 ],
 "metadata": {
  "language_info": {
   "codemirror_mode": {
    "name": "ipython",
    "version": 3
   },
   "file_extension": ".py",
   "mimetype": "text/x-python",
   "name": "python",
   "nbconvert_exporter": "python",
   "pygments_lexer": "ipython3",
   "version": "3.12.7"
  }
 },
 "nbformat": 4,
 "nbformat_minor": 5
}
