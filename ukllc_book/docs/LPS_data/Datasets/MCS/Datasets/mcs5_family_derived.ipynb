{
 "cells": [
  {
   "cell_type": "markdown",
   "id": "f12a8c21",
   "metadata": {},
   "source": [
    "# MCS5 Family Derived (MCS)"
   ]
  },
  {
   "cell_type": "code",
   "execution_count": 1,
   "id": "0d0cc879",
   "metadata": {
    "execution": {
     "iopub.execute_input": "2025-07-18T09:57:27.119444Z",
     "iopub.status.busy": "2025-07-18T09:57:27.119444Z",
     "iopub.status.idle": "2025-07-18T09:57:33.975975Z",
     "shell.execute_reply": "2025-07-18T09:57:33.975975Z"
    },
    "tags": [
     "remove-input"
    ]
   },
   "outputs": [
    {
     "data": {
      "text/markdown": [
       ">Last modified: 18 Jul 2025"
      ],
      "text/plain": [
       "<IPython.core.display.Markdown object>"
      ]
     },
     "metadata": {},
     "output_type": "display_data"
    }
   ],
   "source": [
    "\n",
    "import sys\n",
    "import os\n",
    "sys.path.append(os.path.abspath('../../../../scripts/'))\n",
    "from data_doc_helper import LPSDataSet as DS, last_modified\n",
    "API_KEY = os.environ['FASTAPI_KEY']\n",
    "ds = DS(\"MCS\", \"mcs5_family_derived\")\n",
    "last_modified()\n"
   ]
  },
  {
   "cell_type": "markdown",
   "id": "2c9aaef9",
   "metadata": {},
   "source": [
    "## 1. Summary"
   ]
  },
  {
   "cell_type": "code",
   "execution_count": 2,
   "id": "3657bd4a",
   "metadata": {
    "execution": {
     "iopub.execute_input": "2025-07-18T09:57:33.978407Z",
     "iopub.status.busy": "2025-07-18T09:57:33.978407Z",
     "iopub.status.idle": "2025-07-18T09:57:33.986328Z",
     "shell.execute_reply": "2025-07-18T09:57:33.986328Z"
    },
    "tags": [
     "remove-input"
    ]
   },
   "outputs": [
    {
     "data": {
      "text/markdown": [
       "This dataset contains variables relating to household composition,  OECD Equivalised income, housing tenure and other family level information at sweep 5"
      ],
      "text/plain": [
       "<IPython.core.display.Markdown object>"
      ]
     },
     "metadata": {},
     "output_type": "display_data"
    }
   ],
   "source": [
    "ds.summary()"
   ]
  },
  {
   "cell_type": "code",
   "execution_count": 3,
   "id": "b6a5efbc",
   "metadata": {
    "execution": {
     "iopub.execute_input": "2025-07-18T09:57:33.989380Z",
     "iopub.status.busy": "2025-07-18T09:57:33.989380Z",
     "iopub.status.idle": "2025-07-18T09:57:34.901923Z",
     "shell.execute_reply": "2025-07-18T09:57:34.899918Z"
    },
    "tags": [
     "remove-input"
    ]
   },
   "outputs": [
    {
     "data": {
      "text/html": [
       "<style type=\"text/css\">\n",
       "#T_e46bb th {\n",
       "  text-align: left;\n",
       "}\n",
       "#T_e46bb_row0_col0, #T_e46bb_row0_col1, #T_e46bb_row1_col0, #T_e46bb_row1_col1, #T_e46bb_row2_col0, #T_e46bb_row2_col1, #T_e46bb_row3_col0, #T_e46bb_row3_col1, #T_e46bb_row4_col0, #T_e46bb_row4_col1, #T_e46bb_row5_col0, #T_e46bb_row5_col1, #T_e46bb_row6_col0, #T_e46bb_row6_col1, #T_e46bb_row7_col0, #T_e46bb_row7_col1, #T_e46bb_row8_col0, #T_e46bb_row8_col1, #T_e46bb_row9_col0, #T_e46bb_row9_col1, #T_e46bb_row10_col0, #T_e46bb_row10_col1, #T_e46bb_row11_col0, #T_e46bb_row11_col1, #T_e46bb_row12_col0, #T_e46bb_row12_col1 {\n",
       "  text-align: left;\n",
       "}\n",
       "</style>\n",
       "<table id=\"T_e46bb\" style=\"font-size: 14px\">\n",
       "  <thead>\n",
       "    <tr>\n",
       "      <th id=\"T_e46bb_level0_col0\" class=\"col_heading level0 col0\" >Dataset Descriptor</th>\n",
       "      <th id=\"T_e46bb_level0_col1\" class=\"col_heading level0 col1\" >Dataset-specific Information</th>\n",
       "    </tr>\n",
       "  </thead>\n",
       "  <tbody>\n",
       "    <tr>\n",
       "      <td id=\"T_e46bb_row0_col0\" class=\"data row0 col0\" >Name of Dataset in TRE</td>\n",
       "      <td id=\"T_e46bb_row0_col1\" class=\"data row0 col1\" >MCS_mcs5_family_derived</td>\n",
       "    </tr>\n",
       "    <tr>\n",
       "      <td id=\"T_e46bb_row1_col0\" class=\"data row1 col0\" >Citation (APA)</td>\n",
       "      <td id=\"T_e46bb_row1_col1\" class=\"data row1 col1\" >University College London, UCL Social Research Institute, Centre for Longitudinal Studies. (2021). <i>Millennium Cohort Study (MCS): MCS5 Family Derived.</i> UK Longitudinal Linkage Collaboration (UK LLC).  <a href=\"https://doi.org/10.83126/ukllc-dataset-00285-01\" rel=\"noopener noreferrer\" target=\"_blank\">https://doi.org/10.83126/ukllc-dataset-00285-01</a></td>\n",
       "    </tr>\n",
       "    <tr>\n",
       "      <td id=\"T_e46bb_row2_col0\" class=\"data row2 col0\" >Download Citation</td>\n",
       "      <td id=\"T_e46bb_row2_col1\" class=\"data row2 col1\" > <a href=\"https://api.test.datacite.org/application/vnd.citationstyles.csl+json/10.83126/ukllc-dataset-00285-01\" rel=\"noopener noreferrer\" target=\"_blank\">Citeproc JSON</a>&nbsp;&nbsp;&nbsp;&nbsp; <a href=\"https://api.test.datacite.org/application/x-bibtex/10.83126/ukllc-dataset-00285-01\" rel=\"noopener noreferrer\" target=\"_blank\">BibTeX</a>&nbsp;&nbsp;&nbsp;&nbsp; <a href=\"https://api.test.datacite.org/application/x-research-info-systems/10.83126/ukllc-dataset-00285-01\" rel=\"noopener noreferrer\" target=\"_blank\">RIS</a></td>\n",
       "    </tr>\n",
       "    <tr>\n",
       "      <td id=\"T_e46bb_row3_col0\" class=\"data row3 col0\" >Series</td>\n",
       "      <td id=\"T_e46bb_row3_col1\" class=\"data row3 col1\" > <a href=\"https://guidebook.ukllc.ac.uk/docs/lps/lps%20profiles/MCS\">Millennium Cohort Study (MCS)</a></td>\n",
       "    </tr>\n",
       "    <tr>\n",
       "      <td id=\"T_e46bb_row4_col0\" class=\"data row4 col0\" >Owner</td>\n",
       "      <td id=\"T_e46bb_row4_col1\" class=\"data row4 col1\" >UCL</td>\n",
       "    </tr>\n",
       "    <tr>\n",
       "      <td id=\"T_e46bb_row5_col0\" class=\"data row5 col0\" >Temporal Coverage</td>\n",
       "      <td id=\"T_e46bb_row5_col1\" class=\"data row5 col1\" >01/2012 - 02/2013</td>\n",
       "    </tr>\n",
       "    <tr>\n",
       "      <td id=\"T_e46bb_row6_col0\" class=\"data row6 col0\" >Keywords</td>\n",
       "      <td id=\"T_e46bb_row6_col1\" class=\"data row6 col1\" >Health,Education,Family life,Employment,Attitudes</td>\n",
       "    </tr>\n",
       "    <tr>\n",
       "      <td id=\"T_e46bb_row7_col0\" class=\"data row7 col0\" >Participants Invited</td>\n",
       "      <td id=\"T_e46bb_row7_col1\" class=\"data row7 col1\" >13287</td>\n",
       "    </tr>\n",
       "    <tr>\n",
       "      <td id=\"T_e46bb_row8_col0\" class=\"data row8 col0\" >Participant Count</td>\n",
       "      <td id=\"T_e46bb_row8_col1\" class=\"data row8 col1\" ></td>\n",
       "    </tr>\n",
       "    <tr>\n",
       "      <td id=\"T_e46bb_row9_col0\" class=\"data row9 col0\" >Number of variables</td>\n",
       "      <td id=\"T_e46bb_row9_col1\" class=\"data row9 col1\" >35</td>\n",
       "    </tr>\n",
       "    <tr>\n",
       "      <td id=\"T_e46bb_row10_col0\" class=\"data row10 col0\" >Number of observations</td>\n",
       "      <td id=\"T_e46bb_row10_col1\" class=\"data row10 col1\" >41301</td>\n",
       "    </tr>\n",
       "    <tr>\n",
       "      <td id=\"T_e46bb_row11_col0\" class=\"data row11 col0\" >Specific Restrictions to Data Use</td>\n",
       "      <td id=\"T_e46bb_row11_col1\" class=\"data row11 col1\" >None</td>\n",
       "    </tr>\n",
       "    <tr>\n",
       "      <td id=\"T_e46bb_row12_col0\" class=\"data row12 col0\" >Build a Data Request</td>\n",
       "      <td id=\"T_e46bb_row12_col1\" class=\"data row12 col1\" > <a href=\"https://explore.ukllc.ac.uk/\" rel=\"noopener noreferrer\" target=\"_blank\">https://explore.ukllc.ac.uk/</a></td>\n",
       "    </tr>\n",
       "  </tbody>\n",
       "</table>\n"
      ],
      "text/plain": [
       "<pandas.io.formats.style.Styler at 0x19645620110>"
      ]
     },
     "execution_count": 3,
     "metadata": {},
     "output_type": "execute_result"
    }
   ],
   "source": [
    "ds.info_table()"
   ]
  },
  {
   "cell_type": "markdown",
   "id": "f3dff3a4",
   "metadata": {},
   "source": [
    "## 2. Version History"
   ]
  },
  {
   "cell_type": "code",
   "execution_count": 4,
   "id": "0a469641",
   "metadata": {
    "execution": {
     "iopub.execute_input": "2025-07-18T09:57:34.909931Z",
     "iopub.status.busy": "2025-07-18T09:57:34.908924Z",
     "iopub.status.idle": "2025-07-18T09:57:37.273383Z",
     "shell.execute_reply": "2025-07-18T09:57:37.271964Z"
    },
    "tags": [
     "remove-input"
    ]
   },
   "outputs": [
    {
     "data": {
      "text/html": [
       "<style type=\"text/css\">\n",
       "#T_ab38a th {\n",
       "  text-align: left;\n",
       "}\n",
       "#T_ab38a_row0_col0, #T_ab38a_row0_col1, #T_ab38a_row1_col0, #T_ab38a_row1_col1, #T_ab38a_row2_col0, #T_ab38a_row2_col1, #T_ab38a_row3_col0, #T_ab38a_row3_col1, #T_ab38a_row4_col0, #T_ab38a_row4_col1 {\n",
       "  text-align: left;\n",
       "}\n",
       "</style>\n",
       "<table id=\"T_ab38a\" style=\"font-size: 14px\">\n",
       "  <thead>\n",
       "    <tr>\n",
       "      <th id=\"T_ab38a_level0_col0\" class=\"col_heading level0 col0\" >Version</th>\n",
       "      <th id=\"T_ab38a_level0_col1\" class=\"col_heading level0 col1\" >1</th>\n",
       "    </tr>\n",
       "  </thead>\n",
       "  <tbody>\n",
       "    <tr>\n",
       "      <td id=\"T_ab38a_row0_col0\" class=\"data row0 col0\" >Version Date</td>\n",
       "      <td id=\"T_ab38a_row0_col1\" class=\"data row0 col1\" >01 Nov 2021</td>\n",
       "    </tr>\n",
       "    <tr>\n",
       "      <td id=\"T_ab38a_row1_col0\" class=\"data row1 col0\" >Number of Variables</td>\n",
       "      <td id=\"T_ab38a_row1_col1\" class=\"data row1 col1\" >35</td>\n",
       "    </tr>\n",
       "    <tr>\n",
       "      <td id=\"T_ab38a_row2_col0\" class=\"data row2 col0\" >Number of Observations</td>\n",
       "      <td id=\"T_ab38a_row2_col1\" class=\"data row2 col1\" >41301</td>\n",
       "    </tr>\n",
       "    <tr>\n",
       "      <td id=\"T_ab38a_row3_col0\" class=\"data row3 col0\" >DOI</td>\n",
       "      <td id=\"T_ab38a_row3_col1\" class=\"data row3 col1\" > <a href=\"https://doi.org/10.83126/ukllc-dataset-00285-01\" rel=\"noopener noreferrer\" target=\"_blank\">10.83126/ukllc-dataset-00285-01</a></td>\n",
       "    </tr>\n",
       "    <tr>\n",
       "      <td id=\"T_ab38a_row4_col0\" class=\"data row4 col0\" >Change Log</td>\n",
       "      <td id=\"T_ab38a_row4_col1\" class=\"data row4 col1\" > <a href=\"https://api.test.datacite.org/dois/10.83126/ukllc-dataset-00285-01/activities\" rel=\"noopener noreferrer\" target=\"_blank\">10.83126/ukllc-dataset-00285-01/activities</a></td>\n",
       "    </tr>\n",
       "  </tbody>\n",
       "</table>\n"
      ],
      "text/plain": [
       "<pandas.io.formats.style.Styler at 0x1964b22d6a0>"
      ]
     },
     "execution_count": 4,
     "metadata": {},
     "output_type": "execute_result"
    }
   ],
   "source": [
    "ds.version_history()"
   ]
  },
  {
   "cell_type": "markdown",
   "id": "428e0a5f",
   "metadata": {},
   "source": [
    "## 3. Documentation"
   ]
  },
  {
   "cell_type": "code",
   "execution_count": 5,
   "id": "ad0ada0f",
   "metadata": {
    "execution": {
     "iopub.execute_input": "2025-07-18T09:57:37.278390Z",
     "iopub.status.busy": "2025-07-18T09:57:37.278390Z",
     "iopub.status.idle": "2025-07-18T09:57:37.285931Z",
     "shell.execute_reply": "2025-07-18T09:57:37.285407Z"
    },
    "tags": [
     "remove-input"
    ]
   },
   "outputs": [
    {
     "data": {
      "text/markdown": [
       "We are currently building a documentation storage system which will host useful documents related to datasets and data owners. We will surface these documents on Guidebook."
      ],
      "text/plain": [
       "<IPython.core.display.Markdown object>"
      ]
     },
     "metadata": {},
     "output_type": "display_data"
    }
   ],
   "source": [
    "ds.documentation()"
   ]
  },
  {
   "cell_type": "markdown",
   "id": "28ea5d7c",
   "metadata": {},
   "source": [
    "## 4. Useful Syntax"
   ]
  },
  {
   "cell_type": "code",
   "execution_count": 6,
   "id": "9cce1337",
   "metadata": {
    "execution": {
     "iopub.execute_input": "2025-07-18T09:57:37.288937Z",
     "iopub.status.busy": "2025-07-18T09:57:37.288937Z",
     "iopub.status.idle": "2025-07-18T09:57:37.296176Z",
     "shell.execute_reply": "2025-07-18T09:57:37.293992Z"
    },
    "tags": [
     "remove-input"
    ]
   },
   "outputs": [
    {
     "data": {
      "text/markdown": [
       "Below we will include syntax that may be helpful to other researchers in the UK LLC TRE. For longer scripts, we will include a snippet of the code plus a link to Git where you can find the full scripts."
      ],
      "text/plain": [
       "<IPython.core.display.Markdown object>"
      ]
     },
     "metadata": {},
     "output_type": "display_data"
    }
   ],
   "source": [
    "ds.useful_syntax()"
   ]
  }
 ],
 "metadata": {
  "language_info": {
   "codemirror_mode": {
    "name": "ipython",
    "version": 3
   },
   "file_extension": ".py",
   "mimetype": "text/x-python",
   "name": "python",
   "nbconvert_exporter": "python",
   "pygments_lexer": "ipython3",
   "version": "3.12.7"
  }
 },
 "nbformat": 4,
 "nbformat_minor": 5
}
