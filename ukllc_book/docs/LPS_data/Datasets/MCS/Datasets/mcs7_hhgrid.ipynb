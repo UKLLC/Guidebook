{
 "cells": [
  {
   "cell_type": "markdown",
   "id": "946fbe1f",
   "metadata": {},
   "source": [
    "# MCS7 Household Grid (MCS)"
   ]
  },
  {
   "cell_type": "code",
   "execution_count": 1,
   "id": "2c30b5a2",
   "metadata": {
    "execution": {
     "iopub.execute_input": "2025-07-28T19:41:29.935348Z",
     "iopub.status.busy": "2025-07-28T19:41:29.933989Z",
     "iopub.status.idle": "2025-07-28T19:41:41.772367Z",
     "shell.execute_reply": "2025-07-28T19:41:41.766694Z"
    },
    "tags": [
     "remove-input"
    ]
   },
   "outputs": [
    {
     "data": {
      "text/markdown": [
       ">Last modified: 28 Jul 2025"
      ],
      "text/plain": [
       "<IPython.core.display.Markdown object>"
      ]
     },
     "metadata": {},
     "output_type": "display_data"
    }
   ],
   "source": [
    "\n",
    "import sys\n",
    "import os\n",
    "sys.path.append(os.path.abspath('../../../../scripts/'))\n",
    "from data_doc_helper import LPSDataSet as DS, last_modified\n",
    "API_KEY = os.environ['FASTAPI_KEY']\n",
    "ds = DS(\"MCS\", \"mcs7_hhgrid\")\n",
    "last_modified()\n"
   ]
  },
  {
   "cell_type": "markdown",
   "id": "74cdd043",
   "metadata": {},
   "source": [
    "## 1. Summary"
   ]
  },
  {
   "cell_type": "code",
   "execution_count": 2,
   "id": "01ae7c7b",
   "metadata": {
    "execution": {
     "iopub.execute_input": "2025-07-28T19:41:41.782420Z",
     "iopub.status.busy": "2025-07-28T19:41:41.781421Z",
     "iopub.status.idle": "2025-07-28T19:41:41.799081Z",
     "shell.execute_reply": "2025-07-28T19:41:41.797147Z"
    },
    "tags": [
     "remove-input"
    ]
   },
   "outputs": [
    {
     "data": {
      "text/markdown": [
       "The household grid dataset provides key demographic information about the people who lived with the Cohort Member at the time of the interview. This includes variables showing whether a person was present at the interview, the relationship of each person to the Cohort Member and the relationship of each person to the others present in the household. This is particularly helpful for research on family structure and environment."
      ],
      "text/plain": [
       "<IPython.core.display.Markdown object>"
      ]
     },
     "metadata": {},
     "output_type": "display_data"
    }
   ],
   "source": [
    "ds.summary()"
   ]
  },
  {
   "cell_type": "code",
   "execution_count": 3,
   "id": "b83954d6",
   "metadata": {
    "execution": {
     "iopub.execute_input": "2025-07-28T19:41:41.807260Z",
     "iopub.status.busy": "2025-07-28T19:41:41.807260Z",
     "iopub.status.idle": "2025-07-28T19:41:43.734124Z",
     "shell.execute_reply": "2025-07-28T19:41:43.733105Z"
    },
    "tags": [
     "remove-input"
    ]
   },
   "outputs": [
    {
     "data": {
      "text/html": [
       "<style type=\"text/css\">\n",
       "#T_b2d5c th {\n",
       "  text-align: left;\n",
       "}\n",
       "#T_b2d5c_row0_col0, #T_b2d5c_row0_col1, #T_b2d5c_row1_col0, #T_b2d5c_row1_col1, #T_b2d5c_row2_col0, #T_b2d5c_row2_col1, #T_b2d5c_row3_col0, #T_b2d5c_row3_col1, #T_b2d5c_row4_col0, #T_b2d5c_row4_col1, #T_b2d5c_row5_col0, #T_b2d5c_row5_col1, #T_b2d5c_row6_col0, #T_b2d5c_row6_col1, #T_b2d5c_row7_col0, #T_b2d5c_row7_col1, #T_b2d5c_row8_col0, #T_b2d5c_row8_col1, #T_b2d5c_row9_col0, #T_b2d5c_row9_col1, #T_b2d5c_row10_col0, #T_b2d5c_row10_col1, #T_b2d5c_row11_col0, #T_b2d5c_row11_col1, #T_b2d5c_row12_col0, #T_b2d5c_row12_col1 {\n",
       "  text-align: left;\n",
       "}\n",
       "</style>\n",
       "<table id=\"T_b2d5c\" style=\"font-size: 14px\">\n",
       "  <thead>\n",
       "    <tr>\n",
       "      <th id=\"T_b2d5c_level0_col0\" class=\"col_heading level0 col0\" >Dataset Descriptor</th>\n",
       "      <th id=\"T_b2d5c_level0_col1\" class=\"col_heading level0 col1\" >Dataset-specific Information</th>\n",
       "    </tr>\n",
       "  </thead>\n",
       "  <tbody>\n",
       "    <tr>\n",
       "      <td id=\"T_b2d5c_row0_col0\" class=\"data row0 col0\" >Name of Dataset in TRE</td>\n",
       "      <td id=\"T_b2d5c_row0_col1\" class=\"data row0 col1\" >MCS_mcs7_hhgrid</td>\n",
       "    </tr>\n",
       "    <tr>\n",
       "      <td id=\"T_b2d5c_row1_col0\" class=\"data row1 col0\" >Citation (APA)</td>\n",
       "      <td id=\"T_b2d5c_row1_col1\" class=\"data row1 col1\" >University College London, UCL Social Research Institute, Centre for Longitudinal Studies. (2021). <i>Millennium Cohort Study (MCS): MCS7 Household Grid.</i> UK Longitudinal Linkage Collaboration (UK LLC).  <a href=\"https://doi.org/10.71760/ukllc-dataset-00227-01\" rel=\"noopener noreferrer\" target=\"_blank\">https://doi.org/10.71760/ukllc-dataset-00227-01</a></td>\n",
       "    </tr>\n",
       "    <tr>\n",
       "      <td id=\"T_b2d5c_row2_col0\" class=\"data row2 col0\" >Download Citation</td>\n",
       "      <td id=\"T_b2d5c_row2_col1\" class=\"data row2 col1\" > <a href=\"https://api.datacite.org/application/vnd.citationstyles.csl+json/10.71760/ukllc-dataset-00227-01\" rel=\"noopener noreferrer\" target=\"_blank\">Citeproc JSON</a>&nbsp;&nbsp;&nbsp;&nbsp; <a href=\"https://api.datacite.org/application/x-bibtex/10.71760/ukllc-dataset-00227-01\" rel=\"noopener noreferrer\" target=\"_blank\">BibTeX</a>&nbsp;&nbsp;&nbsp;&nbsp; <a href=\"https://api.datacite.org/application/x-research-info-systems/10.71760/ukllc-dataset-00227-01\" rel=\"noopener noreferrer\" target=\"_blank\">RIS</a></td>\n",
       "    </tr>\n",
       "    <tr>\n",
       "      <td id=\"T_b2d5c_row3_col0\" class=\"data row3 col0\" >Series</td>\n",
       "      <td id=\"T_b2d5c_row3_col1\" class=\"data row3 col1\" > <a href=\"https://guidebook.ukllc.ac.uk/docs/lps_data/lps%20profiles/MCS\">Millennium Cohort Study (MCS)</a></td>\n",
       "    </tr>\n",
       "    <tr>\n",
       "      <td id=\"T_b2d5c_row4_col0\" class=\"data row4 col0\" >Owner</td>\n",
       "      <td id=\"T_b2d5c_row4_col1\" class=\"data row4 col1\" >UCL</td>\n",
       "    </tr>\n",
       "    <tr>\n",
       "      <td id=\"T_b2d5c_row5_col0\" class=\"data row5 col0\" >Temporal Coverage</td>\n",
       "      <td id=\"T_b2d5c_row5_col1\" class=\"data row5 col1\" >01/2018 - 03/2019</td>\n",
       "    </tr>\n",
       "    <tr>\n",
       "      <td id=\"T_b2d5c_row6_col0\" class=\"data row6 col0\" >Keywords</td>\n",
       "      <td id=\"T_b2d5c_row6_col1\" class=\"data row6 col1\" >Health,Education,Leisure & sport,Attitudes,Youth,Employment</td>\n",
       "    </tr>\n",
       "    <tr>\n",
       "      <td id=\"T_b2d5c_row7_col0\" class=\"data row7 col0\" >Participants Invited</td>\n",
       "      <td id=\"T_b2d5c_row7_col1\" class=\"data row7 col1\" >10345</td>\n",
       "    </tr>\n",
       "    <tr>\n",
       "      <td id=\"T_b2d5c_row8_col0\" class=\"data row8 col0\" >Participant Count</td>\n",
       "      <td id=\"T_b2d5c_row8_col1\" class=\"data row8 col1\" >15346</td>\n",
       "    </tr>\n",
       "    <tr>\n",
       "      <td id=\"T_b2d5c_row9_col0\" class=\"data row9 col0\" >Number of variables</td>\n",
       "      <td id=\"T_b2d5c_row9_col1\" class=\"data row9 col1\" >67</td>\n",
       "    </tr>\n",
       "    <tr>\n",
       "      <td id=\"T_b2d5c_row10_col0\" class=\"data row10 col0\" >Number of observations</td>\n",
       "      <td id=\"T_b2d5c_row10_col1\" class=\"data row10 col1\" >22458</td>\n",
       "    </tr>\n",
       "    <tr>\n",
       "      <td id=\"T_b2d5c_row11_col0\" class=\"data row11 col0\" >Specific Restrictions to Data Use</td>\n",
       "      <td id=\"T_b2d5c_row11_col1\" class=\"data row11 col1\" >None</td>\n",
       "    </tr>\n",
       "    <tr>\n",
       "      <td id=\"T_b2d5c_row12_col0\" class=\"data row12 col0\" >Build a Data Request</td>\n",
       "      <td id=\"T_b2d5c_row12_col1\" class=\"data row12 col1\" > <a href=\"https://explore.ukllc.ac.uk/\" rel=\"noopener noreferrer\" target=\"_blank\">https://explore.ukllc.ac.uk/</a></td>\n",
       "    </tr>\n",
       "  </tbody>\n",
       "</table>\n"
      ],
      "text/plain": [
       "<pandas.io.formats.style.Styler at 0x1c69e548440>"
      ]
     },
     "execution_count": 3,
     "metadata": {},
     "output_type": "execute_result"
    }
   ],
   "source": [
    "ds.info_table()"
   ]
  },
  {
   "cell_type": "markdown",
   "id": "12515d68",
   "metadata": {},
   "source": [
    "## 2. Version History"
   ]
  },
  {
   "cell_type": "code",
   "execution_count": 4,
   "id": "d322cd1d",
   "metadata": {
    "execution": {
     "iopub.execute_input": "2025-07-28T19:41:43.743679Z",
     "iopub.status.busy": "2025-07-28T19:41:43.742677Z",
     "iopub.status.idle": "2025-07-28T19:41:48.980087Z",
     "shell.execute_reply": "2025-07-28T19:41:48.976981Z"
    },
    "tags": [
     "remove-input"
    ]
   },
   "outputs": [
    {
     "data": {
      "text/html": [
       "<style type=\"text/css\">\n",
       "#T_33a90 th {\n",
       "  text-align: left;\n",
       "}\n",
       "#T_33a90_row0_col0, #T_33a90_row0_col1, #T_33a90_row1_col0, #T_33a90_row1_col1, #T_33a90_row2_col0, #T_33a90_row2_col1, #T_33a90_row3_col0, #T_33a90_row3_col1, #T_33a90_row4_col0, #T_33a90_row4_col1 {\n",
       "  text-align: left;\n",
       "}\n",
       "</style>\n",
       "<table id=\"T_33a90\" style=\"font-size: 14px\">\n",
       "  <thead>\n",
       "    <tr>\n",
       "      <th id=\"T_33a90_level0_col0\" class=\"col_heading level0 col0\" >Version</th>\n",
       "      <th id=\"T_33a90_level0_col1\" class=\"col_heading level0 col1\" >1</th>\n",
       "    </tr>\n",
       "  </thead>\n",
       "  <tbody>\n",
       "    <tr>\n",
       "      <td id=\"T_33a90_row0_col0\" class=\"data row0 col0\" >Version Date</td>\n",
       "      <td id=\"T_33a90_row0_col1\" class=\"data row0 col1\" >01 Nov 2021</td>\n",
       "    </tr>\n",
       "    <tr>\n",
       "      <td id=\"T_33a90_row1_col0\" class=\"data row1 col0\" >Number of Variables</td>\n",
       "      <td id=\"T_33a90_row1_col1\" class=\"data row1 col1\" >67</td>\n",
       "    </tr>\n",
       "    <tr>\n",
       "      <td id=\"T_33a90_row2_col0\" class=\"data row2 col0\" >Number of Observations</td>\n",
       "      <td id=\"T_33a90_row2_col1\" class=\"data row2 col1\" >22458</td>\n",
       "    </tr>\n",
       "    <tr>\n",
       "      <td id=\"T_33a90_row3_col0\" class=\"data row3 col0\" >DOI</td>\n",
       "      <td id=\"T_33a90_row3_col1\" class=\"data row3 col1\" > <a href=\"https://doi.org/10.71760/ukllc-dataset-00227-01\" rel=\"noopener noreferrer\" target=\"_blank\">10.71760/ukllc-dataset-00227-01</a></td>\n",
       "    </tr>\n",
       "    <tr>\n",
       "      <td id=\"T_33a90_row4_col0\" class=\"data row4 col0\" >Change Log</td>\n",
       "      <td id=\"T_33a90_row4_col1\" class=\"data row4 col1\" > <a href=\"https://api.test.datacite.org/dois/10.71760/ukllc-dataset-00227-01/activities\" rel=\"noopener noreferrer\" target=\"_blank\">10.71760/ukllc-dataset-00227-01/activities</a></td>\n",
       "    </tr>\n",
       "  </tbody>\n",
       "</table>\n"
      ],
      "text/plain": [
       "<pandas.io.formats.style.Styler at 0x1c6a01b5940>"
      ]
     },
     "execution_count": 4,
     "metadata": {},
     "output_type": "execute_result"
    }
   ],
   "source": [
    "ds.version_history()"
   ]
  },
  {
   "cell_type": "markdown",
   "id": "c0b1b275",
   "metadata": {},
   "source": [
    "## 3. Documentation"
   ]
  },
  {
   "cell_type": "code",
   "execution_count": 5,
   "id": "e3ee9867",
   "metadata": {
    "execution": {
     "iopub.execute_input": "2025-07-28T19:41:48.990042Z",
     "iopub.status.busy": "2025-07-28T19:41:48.989053Z",
     "iopub.status.idle": "2025-07-28T19:41:49.002089Z",
     "shell.execute_reply": "2025-07-28T19:41:49.000022Z"
    },
    "tags": [
     "remove-input"
    ]
   },
   "outputs": [
    {
     "data": {
      "text/markdown": [
       "We are currently building a documentation storage system which will host useful documents related to datasets and data owners. We will surface these documents on Guidebook."
      ],
      "text/plain": [
       "<IPython.core.display.Markdown object>"
      ]
     },
     "metadata": {},
     "output_type": "display_data"
    }
   ],
   "source": [
    "ds.documentation()"
   ]
  },
  {
   "cell_type": "markdown",
   "id": "a385f395",
   "metadata": {},
   "source": [
    "## 4. Useful Syntax"
   ]
  },
  {
   "cell_type": "code",
   "execution_count": 6,
   "id": "ceab1fa7",
   "metadata": {
    "execution": {
     "iopub.execute_input": "2025-07-28T19:41:49.010357Z",
     "iopub.status.busy": "2025-07-28T19:41:49.009355Z",
     "iopub.status.idle": "2025-07-28T19:41:49.022004Z",
     "shell.execute_reply": "2025-07-28T19:41:49.019356Z"
    },
    "tags": [
     "remove-input"
    ]
   },
   "outputs": [
    {
     "data": {
      "text/markdown": [
       "Below we will include syntax that may be helpful to other researchers in the UK LLC TRE. For longer scripts, we will include a snippet of the code plus a link to Git where you can find the full scripts."
      ],
      "text/plain": [
       "<IPython.core.display.Markdown object>"
      ]
     },
     "metadata": {},
     "output_type": "display_data"
    }
   ],
   "source": [
    "ds.useful_syntax()"
   ]
  }
 ],
 "metadata": {
  "language_info": {
   "codemirror_mode": {
    "name": "ipython",
    "version": 3
   },
   "file_extension": ".py",
   "mimetype": "text/x-python",
   "name": "python",
   "nbconvert_exporter": "python",
   "pygments_lexer": "ipython3",
   "version": "3.12.7"
  }
 },
 "nbformat": 4,
 "nbformat_minor": 5
}
