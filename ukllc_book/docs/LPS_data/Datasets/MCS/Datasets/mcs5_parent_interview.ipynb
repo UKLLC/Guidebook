{
 "cells": [
  {
   "cell_type": "markdown",
   "id": "e09ea572",
   "metadata": {},
   "source": [
    "# MCS5 Parent Interview (MCS)"
   ]
  },
  {
   "cell_type": "code",
   "execution_count": 1,
   "id": "4491bd52",
   "metadata": {
    "execution": {
     "iopub.execute_input": "2025-07-18T09:58:25.515777Z",
     "iopub.status.busy": "2025-07-18T09:58:25.515777Z",
     "iopub.status.idle": "2025-07-18T09:58:31.904710Z",
     "shell.execute_reply": "2025-07-18T09:58:31.904710Z"
    },
    "tags": [
     "remove-input"
    ]
   },
   "outputs": [
    {
     "data": {
      "text/markdown": [
       ">Last modified: 18 Jul 2025"
      ],
      "text/plain": [
       "<IPython.core.display.Markdown object>"
      ]
     },
     "metadata": {},
     "output_type": "display_data"
    }
   ],
   "source": [
    "\n",
    "import sys\n",
    "import os\n",
    "sys.path.append(os.path.abspath('../../../../scripts/'))\n",
    "from data_doc_helper import LPSDataSet as DS, last_modified\n",
    "API_KEY = os.environ['FASTAPI_KEY']\n",
    "ds = DS(\"MCS\", \"mcs5_parent_interview\")\n",
    "last_modified()\n"
   ]
  },
  {
   "cell_type": "markdown",
   "id": "772f2dcb",
   "metadata": {},
   "source": [
    "## 1. Summary"
   ]
  },
  {
   "cell_type": "code",
   "execution_count": 2,
   "id": "2f7c70d7",
   "metadata": {
    "execution": {
     "iopub.execute_input": "2025-07-18T09:58:31.909718Z",
     "iopub.status.busy": "2025-07-18T09:58:31.909718Z",
     "iopub.status.idle": "2025-07-18T09:58:31.920170Z",
     "shell.execute_reply": "2025-07-18T09:58:31.918030Z"
    },
    "tags": [
     "remove-input"
    ]
   },
   "outputs": [
    {
     "data": {
      "text/markdown": [
       "This dataset contains parental responses to questions on many topics including their ethnicity, marital status, relationships, lone parenthood, pregnancy, childcare, health, height, weight, non-resident children, home,  financial support, employment and income at sweep 5"
      ],
      "text/plain": [
       "<IPython.core.display.Markdown object>"
      ]
     },
     "metadata": {},
     "output_type": "display_data"
    }
   ],
   "source": [
    "ds.summary()"
   ]
  },
  {
   "cell_type": "code",
   "execution_count": 3,
   "id": "310f46dc",
   "metadata": {
    "execution": {
     "iopub.execute_input": "2025-07-18T09:58:31.925171Z",
     "iopub.status.busy": "2025-07-18T09:58:31.924172Z",
     "iopub.status.idle": "2025-07-18T09:58:33.360190Z",
     "shell.execute_reply": "2025-07-18T09:58:33.359184Z"
    },
    "tags": [
     "remove-input"
    ]
   },
   "outputs": [
    {
     "data": {
      "text/html": [
       "<style type=\"text/css\">\n",
       "#T_92d8e th {\n",
       "  text-align: left;\n",
       "}\n",
       "#T_92d8e_row0_col0, #T_92d8e_row0_col1, #T_92d8e_row1_col0, #T_92d8e_row1_col1, #T_92d8e_row2_col0, #T_92d8e_row2_col1, #T_92d8e_row3_col0, #T_92d8e_row3_col1, #T_92d8e_row4_col0, #T_92d8e_row4_col1, #T_92d8e_row5_col0, #T_92d8e_row5_col1, #T_92d8e_row6_col0, #T_92d8e_row6_col1, #T_92d8e_row7_col0, #T_92d8e_row7_col1, #T_92d8e_row8_col0, #T_92d8e_row8_col1, #T_92d8e_row9_col0, #T_92d8e_row9_col1, #T_92d8e_row10_col0, #T_92d8e_row10_col1, #T_92d8e_row11_col0, #T_92d8e_row11_col1, #T_92d8e_row12_col0, #T_92d8e_row12_col1 {\n",
       "  text-align: left;\n",
       "}\n",
       "</style>\n",
       "<table id=\"T_92d8e\" style=\"font-size: 14px\">\n",
       "  <thead>\n",
       "    <tr>\n",
       "      <th id=\"T_92d8e_level0_col0\" class=\"col_heading level0 col0\" >Dataset Descriptor</th>\n",
       "      <th id=\"T_92d8e_level0_col1\" class=\"col_heading level0 col1\" >Dataset-specific Information</th>\n",
       "    </tr>\n",
       "  </thead>\n",
       "  <tbody>\n",
       "    <tr>\n",
       "      <td id=\"T_92d8e_row0_col0\" class=\"data row0 col0\" >Name of Dataset in TRE</td>\n",
       "      <td id=\"T_92d8e_row0_col1\" class=\"data row0 col1\" >MCS_mcs5_parent_interview</td>\n",
       "    </tr>\n",
       "    <tr>\n",
       "      <td id=\"T_92d8e_row1_col0\" class=\"data row1 col0\" >Citation (APA)</td>\n",
       "      <td id=\"T_92d8e_row1_col1\" class=\"data row1 col1\" >University College London, UCL Social Research Institute, Centre for Longitudinal Studies. (2021). <i>Millennium Cohort Study (MCS): MCS5 Parent Interview.</i> UK Longitudinal Linkage Collaboration (UK LLC).  <a href=\"https://doi.org/10.83126/ukllc-dataset-00289-01\" rel=\"noopener noreferrer\" target=\"_blank\">https://doi.org/10.83126/ukllc-dataset-00289-01</a></td>\n",
       "    </tr>\n",
       "    <tr>\n",
       "      <td id=\"T_92d8e_row2_col0\" class=\"data row2 col0\" >Download Citation</td>\n",
       "      <td id=\"T_92d8e_row2_col1\" class=\"data row2 col1\" > <a href=\"https://api.test.datacite.org/application/vnd.citationstyles.csl+json/10.83126/ukllc-dataset-00289-01\" rel=\"noopener noreferrer\" target=\"_blank\">Citeproc JSON</a>&nbsp;&nbsp;&nbsp;&nbsp; <a href=\"https://api.test.datacite.org/application/x-bibtex/10.83126/ukllc-dataset-00289-01\" rel=\"noopener noreferrer\" target=\"_blank\">BibTeX</a>&nbsp;&nbsp;&nbsp;&nbsp; <a href=\"https://api.test.datacite.org/application/x-research-info-systems/10.83126/ukllc-dataset-00289-01\" rel=\"noopener noreferrer\" target=\"_blank\">RIS</a></td>\n",
       "    </tr>\n",
       "    <tr>\n",
       "      <td id=\"T_92d8e_row3_col0\" class=\"data row3 col0\" >Series</td>\n",
       "      <td id=\"T_92d8e_row3_col1\" class=\"data row3 col1\" > <a href=\"https://guidebook.ukllc.ac.uk/docs/lps/lps%20profiles/MCS\">Millennium Cohort Study (MCS)</a></td>\n",
       "    </tr>\n",
       "    <tr>\n",
       "      <td id=\"T_92d8e_row4_col0\" class=\"data row4 col0\" >Owner</td>\n",
       "      <td id=\"T_92d8e_row4_col1\" class=\"data row4 col1\" >UCL</td>\n",
       "    </tr>\n",
       "    <tr>\n",
       "      <td id=\"T_92d8e_row5_col0\" class=\"data row5 col0\" >Temporal Coverage</td>\n",
       "      <td id=\"T_92d8e_row5_col1\" class=\"data row5 col1\" >01/2012 - 02/2013</td>\n",
       "    </tr>\n",
       "    <tr>\n",
       "      <td id=\"T_92d8e_row6_col0\" class=\"data row6 col0\" >Keywords</td>\n",
       "      <td id=\"T_92d8e_row6_col1\" class=\"data row6 col1\" >Health,Education,Family life,Employment,Attitudes</td>\n",
       "    </tr>\n",
       "    <tr>\n",
       "      <td id=\"T_92d8e_row7_col0\" class=\"data row7 col0\" >Participants Invited</td>\n",
       "      <td id=\"T_92d8e_row7_col1\" class=\"data row7 col1\" >13287</td>\n",
       "    </tr>\n",
       "    <tr>\n",
       "      <td id=\"T_92d8e_row8_col0\" class=\"data row8 col0\" >Participant Count</td>\n",
       "      <td id=\"T_92d8e_row8_col1\" class=\"data row8 col1\" >15927</td>\n",
       "    </tr>\n",
       "    <tr>\n",
       "      <td id=\"T_92d8e_row9_col0\" class=\"data row9 col0\" >Number of variables</td>\n",
       "      <td id=\"T_92d8e_row9_col1\" class=\"data row9 col1\" >999</td>\n",
       "    </tr>\n",
       "    <tr>\n",
       "      <td id=\"T_92d8e_row10_col0\" class=\"data row10 col0\" >Number of observations</td>\n",
       "      <td id=\"T_92d8e_row10_col1\" class=\"data row10 col1\" >22044</td>\n",
       "    </tr>\n",
       "    <tr>\n",
       "      <td id=\"T_92d8e_row11_col0\" class=\"data row11 col0\" >Specific Restrictions to Data Use</td>\n",
       "      <td id=\"T_92d8e_row11_col1\" class=\"data row11 col1\" >None</td>\n",
       "    </tr>\n",
       "    <tr>\n",
       "      <td id=\"T_92d8e_row12_col0\" class=\"data row12 col0\" >Build a Data Request</td>\n",
       "      <td id=\"T_92d8e_row12_col1\" class=\"data row12 col1\" > <a href=\"https://explore.ukllc.ac.uk/\" rel=\"noopener noreferrer\" target=\"_blank\">https://explore.ukllc.ac.uk/</a></td>\n",
       "    </tr>\n",
       "  </tbody>\n",
       "</table>\n"
      ],
      "text/plain": [
       "<pandas.io.formats.style.Styler at 0x2073050fcb0>"
      ]
     },
     "execution_count": 3,
     "metadata": {},
     "output_type": "execute_result"
    }
   ],
   "source": [
    "ds.info_table()"
   ]
  },
  {
   "cell_type": "markdown",
   "id": "83a5ad8f",
   "metadata": {},
   "source": [
    "## 2. Version History"
   ]
  },
  {
   "cell_type": "code",
   "execution_count": 4,
   "id": "05226b6e",
   "metadata": {
    "execution": {
     "iopub.execute_input": "2025-07-18T09:58:33.365971Z",
     "iopub.status.busy": "2025-07-18T09:58:33.364959Z",
     "iopub.status.idle": "2025-07-18T09:58:36.273945Z",
     "shell.execute_reply": "2025-07-18T09:58:36.271936Z"
    },
    "tags": [
     "remove-input"
    ]
   },
   "outputs": [
    {
     "data": {
      "text/html": [
       "<style type=\"text/css\">\n",
       "#T_65a84 th {\n",
       "  text-align: left;\n",
       "}\n",
       "#T_65a84_row0_col0, #T_65a84_row0_col1, #T_65a84_row1_col0, #T_65a84_row1_col1, #T_65a84_row2_col0, #T_65a84_row2_col1, #T_65a84_row3_col0, #T_65a84_row3_col1, #T_65a84_row4_col0, #T_65a84_row4_col1 {\n",
       "  text-align: left;\n",
       "}\n",
       "</style>\n",
       "<table id=\"T_65a84\" style=\"font-size: 14px\">\n",
       "  <thead>\n",
       "    <tr>\n",
       "      <th id=\"T_65a84_level0_col0\" class=\"col_heading level0 col0\" >Version</th>\n",
       "      <th id=\"T_65a84_level0_col1\" class=\"col_heading level0 col1\" >1</th>\n",
       "    </tr>\n",
       "  </thead>\n",
       "  <tbody>\n",
       "    <tr>\n",
       "      <td id=\"T_65a84_row0_col0\" class=\"data row0 col0\" >Version Date</td>\n",
       "      <td id=\"T_65a84_row0_col1\" class=\"data row0 col1\" >01 Nov 2021</td>\n",
       "    </tr>\n",
       "    <tr>\n",
       "      <td id=\"T_65a84_row1_col0\" class=\"data row1 col0\" >Number of Variables</td>\n",
       "      <td id=\"T_65a84_row1_col1\" class=\"data row1 col1\" >999</td>\n",
       "    </tr>\n",
       "    <tr>\n",
       "      <td id=\"T_65a84_row2_col0\" class=\"data row2 col0\" >Number of Observations</td>\n",
       "      <td id=\"T_65a84_row2_col1\" class=\"data row2 col1\" >22044</td>\n",
       "    </tr>\n",
       "    <tr>\n",
       "      <td id=\"T_65a84_row3_col0\" class=\"data row3 col0\" >DOI</td>\n",
       "      <td id=\"T_65a84_row3_col1\" class=\"data row3 col1\" > <a href=\"https://doi.org/10.83126/ukllc-dataset-00289-01\" rel=\"noopener noreferrer\" target=\"_blank\">10.83126/ukllc-dataset-00289-01</a></td>\n",
       "    </tr>\n",
       "    <tr>\n",
       "      <td id=\"T_65a84_row4_col0\" class=\"data row4 col0\" >Change Log</td>\n",
       "      <td id=\"T_65a84_row4_col1\" class=\"data row4 col1\" > <a href=\"https://api.test.datacite.org/dois/10.83126/ukllc-dataset-00289-01/activities\" rel=\"noopener noreferrer\" target=\"_blank\">10.83126/ukllc-dataset-00289-01/activities</a></td>\n",
       "    </tr>\n",
       "  </tbody>\n",
       "</table>\n"
      ],
      "text/plain": [
       "<pandas.io.formats.style.Styler at 0x207322fd340>"
      ]
     },
     "execution_count": 4,
     "metadata": {},
     "output_type": "execute_result"
    }
   ],
   "source": [
    "ds.version_history()"
   ]
  },
  {
   "cell_type": "markdown",
   "id": "2397b72d",
   "metadata": {},
   "source": [
    "## 3. Documentation"
   ]
  },
  {
   "cell_type": "code",
   "execution_count": 5,
   "id": "0a047217",
   "metadata": {
    "execution": {
     "iopub.execute_input": "2025-07-18T09:58:36.279943Z",
     "iopub.status.busy": "2025-07-18T09:58:36.278943Z",
     "iopub.status.idle": "2025-07-18T09:58:36.289200Z",
     "shell.execute_reply": "2025-07-18T09:58:36.287192Z"
    },
    "tags": [
     "remove-input"
    ]
   },
   "outputs": [
    {
     "data": {
      "text/markdown": [
       "We are currently building a documentation storage system which will host useful documents related to datasets and data owners. We will surface these documents on Guidebook."
      ],
      "text/plain": [
       "<IPython.core.display.Markdown object>"
      ]
     },
     "metadata": {},
     "output_type": "display_data"
    }
   ],
   "source": [
    "ds.documentation()"
   ]
  },
  {
   "cell_type": "markdown",
   "id": "9a4f5086",
   "metadata": {},
   "source": [
    "## 4. Useful Syntax"
   ]
  },
  {
   "cell_type": "code",
   "execution_count": 6,
   "id": "75f810e4",
   "metadata": {
    "execution": {
     "iopub.execute_input": "2025-07-18T09:58:36.296199Z",
     "iopub.status.busy": "2025-07-18T09:58:36.295198Z",
     "iopub.status.idle": "2025-07-18T09:58:36.305083Z",
     "shell.execute_reply": "2025-07-18T09:58:36.304073Z"
    },
    "tags": [
     "remove-input"
    ]
   },
   "outputs": [
    {
     "data": {
      "text/markdown": [
       "Below we will include syntax that may be helpful to other researchers in the UK LLC TRE. For longer scripts, we will include a snippet of the code plus a link to Git where you can find the full scripts."
      ],
      "text/plain": [
       "<IPython.core.display.Markdown object>"
      ]
     },
     "metadata": {},
     "output_type": "display_data"
    }
   ],
   "source": [
    "ds.useful_syntax()"
   ]
  }
 ],
 "metadata": {
  "language_info": {
   "codemirror_mode": {
    "name": "ipython",
    "version": 3
   },
   "file_extension": ".py",
   "mimetype": "text/x-python",
   "name": "python",
   "nbconvert_exporter": "python",
   "pygments_lexer": "ipython3",
   "version": "3.12.7"
  }
 },
 "nbformat": 4,
 "nbformat_minor": 5
}
