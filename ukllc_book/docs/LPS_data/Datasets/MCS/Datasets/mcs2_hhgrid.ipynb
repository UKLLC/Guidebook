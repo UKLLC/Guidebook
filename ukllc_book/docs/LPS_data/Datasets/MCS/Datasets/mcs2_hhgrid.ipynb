{
 "cells": [
  {
   "cell_type": "markdown",
   "id": "fad36668",
   "metadata": {},
   "source": [
    "# MCS2 Household Grid (MCS)"
   ]
  },
  {
   "cell_type": "code",
   "execution_count": 1,
   "id": "2dca361c",
   "metadata": {
    "execution": {
     "iopub.execute_input": "2025-07-18T09:49:42.042675Z",
     "iopub.status.busy": "2025-07-18T09:49:42.042675Z",
     "iopub.status.idle": "2025-07-18T09:49:49.084294Z",
     "shell.execute_reply": "2025-07-18T09:49:49.081100Z"
    },
    "tags": [
     "remove-input"
    ]
   },
   "outputs": [
    {
     "data": {
      "text/markdown": [
       ">Last modified: 18 Jul 2025"
      ],
      "text/plain": [
       "<IPython.core.display.Markdown object>"
      ]
     },
     "metadata": {},
     "output_type": "display_data"
    }
   ],
   "source": [
    "\n",
    "import sys\n",
    "import os\n",
    "sys.path.append(os.path.abspath('../../../../scripts/'))\n",
    "from data_doc_helper import LPSDataSet as DS, last_modified\n",
    "API_KEY = os.environ['FASTAPI_KEY']\n",
    "ds = DS(\"MCS\", \"mcs2_hhgrid\")\n",
    "last_modified()\n"
   ]
  },
  {
   "cell_type": "markdown",
   "id": "ad73ce47",
   "metadata": {},
   "source": [
    "## 1. Summary"
   ]
  },
  {
   "cell_type": "code",
   "execution_count": 2,
   "id": "66e094a7",
   "metadata": {
    "execution": {
     "iopub.execute_input": "2025-07-18T09:49:49.090295Z",
     "iopub.status.busy": "2025-07-18T09:49:49.089295Z",
     "iopub.status.idle": "2025-07-18T09:49:49.099534Z",
     "shell.execute_reply": "2025-07-18T09:49:49.097526Z"
    },
    "tags": [
     "remove-input"
    ]
   },
   "outputs": [
    {
     "data": {
      "text/markdown": [
       "The household grid dataset provides key demographic information about the people who lived with the Cohort Member at the time of the interview. This includes variables showing whether a person was present at the interview, the relationship of each person to the Cohort Member and the relationship of each person to the others present in the household. This is particularly helpful for research on family structure and environment."
      ],
      "text/plain": [
       "<IPython.core.display.Markdown object>"
      ]
     },
     "metadata": {},
     "output_type": "display_data"
    }
   ],
   "source": [
    "ds.summary()"
   ]
  },
  {
   "cell_type": "code",
   "execution_count": 3,
   "id": "526f8e6c",
   "metadata": {
    "execution": {
     "iopub.execute_input": "2025-07-18T09:49:49.104532Z",
     "iopub.status.busy": "2025-07-18T09:49:49.103533Z",
     "iopub.status.idle": "2025-07-18T09:49:50.227288Z",
     "shell.execute_reply": "2025-07-18T09:49:50.225281Z"
    },
    "tags": [
     "remove-input"
    ]
   },
   "outputs": [
    {
     "data": {
      "text/html": [
       "<style type=\"text/css\">\n",
       "#T_aa866 th {\n",
       "  text-align: left;\n",
       "}\n",
       "#T_aa866_row0_col0, #T_aa866_row0_col1, #T_aa866_row1_col0, #T_aa866_row1_col1, #T_aa866_row2_col0, #T_aa866_row2_col1, #T_aa866_row3_col0, #T_aa866_row3_col1, #T_aa866_row4_col0, #T_aa866_row4_col1, #T_aa866_row5_col0, #T_aa866_row5_col1, #T_aa866_row6_col0, #T_aa866_row6_col1, #T_aa866_row7_col0, #T_aa866_row7_col1, #T_aa866_row8_col0, #T_aa866_row8_col1, #T_aa866_row9_col0, #T_aa866_row9_col1, #T_aa866_row10_col0, #T_aa866_row10_col1, #T_aa866_row11_col0, #T_aa866_row11_col1, #T_aa866_row12_col0, #T_aa866_row12_col1 {\n",
       "  text-align: left;\n",
       "}\n",
       "</style>\n",
       "<table id=\"T_aa866\" style=\"font-size: 14px\">\n",
       "  <thead>\n",
       "    <tr>\n",
       "      <th id=\"T_aa866_level0_col0\" class=\"col_heading level0 col0\" >Dataset Descriptor</th>\n",
       "      <th id=\"T_aa866_level0_col1\" class=\"col_heading level0 col1\" >Dataset-specific Information</th>\n",
       "    </tr>\n",
       "  </thead>\n",
       "  <tbody>\n",
       "    <tr>\n",
       "      <td id=\"T_aa866_row0_col0\" class=\"data row0 col0\" >Name of Dataset in TRE</td>\n",
       "      <td id=\"T_aa866_row0_col1\" class=\"data row0 col1\" >MCS_mcs2_hhgrid</td>\n",
       "    </tr>\n",
       "    <tr>\n",
       "      <td id=\"T_aa866_row1_col0\" class=\"data row1 col0\" >Citation (APA)</td>\n",
       "      <td id=\"T_aa866_row1_col1\" class=\"data row1 col1\" >University College London, UCL Social Research Institute, Centre for Longitudinal Studies. (2021). <i>Millennium Cohort Study (MCS): MCS2 Household Grid.</i> UK Longitudinal Linkage Collaboration (UK LLC).  <a href=\"https://doi.org/10.83126/ukllc-dataset-00253-01\" rel=\"noopener noreferrer\" target=\"_blank\">https://doi.org/10.83126/ukllc-dataset-00253-01</a></td>\n",
       "    </tr>\n",
       "    <tr>\n",
       "      <td id=\"T_aa866_row2_col0\" class=\"data row2 col0\" >Download Citation</td>\n",
       "      <td id=\"T_aa866_row2_col1\" class=\"data row2 col1\" > <a href=\"https://api.test.datacite.org/application/vnd.citationstyles.csl+json/10.83126/ukllc-dataset-00253-01\" rel=\"noopener noreferrer\" target=\"_blank\">Citeproc JSON</a>&nbsp;&nbsp;&nbsp;&nbsp; <a href=\"https://api.test.datacite.org/application/x-bibtex/10.83126/ukllc-dataset-00253-01\" rel=\"noopener noreferrer\" target=\"_blank\">BibTeX</a>&nbsp;&nbsp;&nbsp;&nbsp; <a href=\"https://api.test.datacite.org/application/x-research-info-systems/10.83126/ukllc-dataset-00253-01\" rel=\"noopener noreferrer\" target=\"_blank\">RIS</a></td>\n",
       "    </tr>\n",
       "    <tr>\n",
       "      <td id=\"T_aa866_row3_col0\" class=\"data row3 col0\" >Series</td>\n",
       "      <td id=\"T_aa866_row3_col1\" class=\"data row3 col1\" > <a href=\"https://guidebook.ukllc.ac.uk/docs/lps/lps%20profiles/MCS\">Millennium Cohort Study (MCS)</a></td>\n",
       "    </tr>\n",
       "    <tr>\n",
       "      <td id=\"T_aa866_row4_col0\" class=\"data row4 col0\" >Owner</td>\n",
       "      <td id=\"T_aa866_row4_col1\" class=\"data row4 col1\" >UCL</td>\n",
       "    </tr>\n",
       "    <tr>\n",
       "      <td id=\"T_aa866_row5_col0\" class=\"data row5 col0\" >Temporal Coverage</td>\n",
       "      <td id=\"T_aa866_row5_col1\" class=\"data row5 col1\" >09/2003 - 04/2005</td>\n",
       "    </tr>\n",
       "    <tr>\n",
       "      <td id=\"T_aa866_row6_col0\" class=\"data row6 col0\" >Keywords</td>\n",
       "      <td id=\"T_aa866_row6_col1\" class=\"data row6 col1\" >Family Life,Health,employment,attitudes,Social mobility</td>\n",
       "    </tr>\n",
       "    <tr>\n",
       "      <td id=\"T_aa866_row7_col0\" class=\"data row7 col0\" >Participants Invited</td>\n",
       "      <td id=\"T_aa866_row7_col1\" class=\"data row7 col1\" >15590</td>\n",
       "    </tr>\n",
       "    <tr>\n",
       "      <td id=\"T_aa866_row8_col0\" class=\"data row8 col0\" >Participant Count</td>\n",
       "      <td id=\"T_aa866_row8_col1\" class=\"data row8 col1\" >25489</td>\n",
       "    </tr>\n",
       "    <tr>\n",
       "      <td id=\"T_aa866_row9_col0\" class=\"data row9 col0\" >Number of variables</td>\n",
       "      <td id=\"T_aa866_row9_col1\" class=\"data row9 col1\" >42</td>\n",
       "    </tr>\n",
       "    <tr>\n",
       "      <td id=\"T_aa866_row10_col0\" class=\"data row10 col0\" >Number of observations</td>\n",
       "      <td id=\"T_aa866_row10_col1\" class=\"data row10 col1\" >45339</td>\n",
       "    </tr>\n",
       "    <tr>\n",
       "      <td id=\"T_aa866_row11_col0\" class=\"data row11 col0\" >Specific Restrictions to Data Use</td>\n",
       "      <td id=\"T_aa866_row11_col1\" class=\"data row11 col1\" >None</td>\n",
       "    </tr>\n",
       "    <tr>\n",
       "      <td id=\"T_aa866_row12_col0\" class=\"data row12 col0\" >Build a Data Request</td>\n",
       "      <td id=\"T_aa866_row12_col1\" class=\"data row12 col1\" > <a href=\"https://explore.ukllc.ac.uk/\" rel=\"noopener noreferrer\" target=\"_blank\">https://explore.ukllc.ac.uk/</a></td>\n",
       "    </tr>\n",
       "  </tbody>\n",
       "</table>\n"
      ],
      "text/plain": [
       "<pandas.io.formats.style.Styler at 0x279a07ac740>"
      ]
     },
     "execution_count": 3,
     "metadata": {},
     "output_type": "execute_result"
    }
   ],
   "source": [
    "ds.info_table()"
   ]
  },
  {
   "cell_type": "markdown",
   "id": "46b82daf",
   "metadata": {},
   "source": [
    "## 2. Version History"
   ]
  },
  {
   "cell_type": "code",
   "execution_count": 4,
   "id": "30ae5e8d",
   "metadata": {
    "execution": {
     "iopub.execute_input": "2025-07-18T09:49:50.233292Z",
     "iopub.status.busy": "2025-07-18T09:49:50.232293Z",
     "iopub.status.idle": "2025-07-18T09:49:52.523294Z",
     "shell.execute_reply": "2025-07-18T09:49:52.521238Z"
    },
    "tags": [
     "remove-input"
    ]
   },
   "outputs": [
    {
     "data": {
      "text/html": [
       "<style type=\"text/css\">\n",
       "#T_ce401 th {\n",
       "  text-align: left;\n",
       "}\n",
       "#T_ce401_row0_col0, #T_ce401_row0_col1, #T_ce401_row1_col0, #T_ce401_row1_col1, #T_ce401_row2_col0, #T_ce401_row2_col1, #T_ce401_row3_col0, #T_ce401_row3_col1, #T_ce401_row4_col0, #T_ce401_row4_col1 {\n",
       "  text-align: left;\n",
       "}\n",
       "</style>\n",
       "<table id=\"T_ce401\" style=\"font-size: 14px\">\n",
       "  <thead>\n",
       "    <tr>\n",
       "      <th id=\"T_ce401_level0_col0\" class=\"col_heading level0 col0\" >Version</th>\n",
       "      <th id=\"T_ce401_level0_col1\" class=\"col_heading level0 col1\" >1</th>\n",
       "    </tr>\n",
       "  </thead>\n",
       "  <tbody>\n",
       "    <tr>\n",
       "      <td id=\"T_ce401_row0_col0\" class=\"data row0 col0\" >Version Date</td>\n",
       "      <td id=\"T_ce401_row0_col1\" class=\"data row0 col1\" >01 Nov 2021</td>\n",
       "    </tr>\n",
       "    <tr>\n",
       "      <td id=\"T_ce401_row1_col0\" class=\"data row1 col0\" >Number of Variables</td>\n",
       "      <td id=\"T_ce401_row1_col1\" class=\"data row1 col1\" >42</td>\n",
       "    </tr>\n",
       "    <tr>\n",
       "      <td id=\"T_ce401_row2_col0\" class=\"data row2 col0\" >Number of Observations</td>\n",
       "      <td id=\"T_ce401_row2_col1\" class=\"data row2 col1\" >45339</td>\n",
       "    </tr>\n",
       "    <tr>\n",
       "      <td id=\"T_ce401_row3_col0\" class=\"data row3 col0\" >DOI</td>\n",
       "      <td id=\"T_ce401_row3_col1\" class=\"data row3 col1\" > <a href=\"https://doi.org/10.83126/ukllc-dataset-00253-01\" rel=\"noopener noreferrer\" target=\"_blank\">10.83126/ukllc-dataset-00253-01</a></td>\n",
       "    </tr>\n",
       "    <tr>\n",
       "      <td id=\"T_ce401_row4_col0\" class=\"data row4 col0\" >Change Log</td>\n",
       "      <td id=\"T_ce401_row4_col1\" class=\"data row4 col1\" > <a href=\"https://api.test.datacite.org/dois/10.83126/ukllc-dataset-00253-01/activities\" rel=\"noopener noreferrer\" target=\"_blank\">10.83126/ukllc-dataset-00253-01/activities</a></td>\n",
       "    </tr>\n",
       "  </tbody>\n",
       "</table>\n"
      ],
      "text/plain": [
       "<pandas.io.formats.style.Styler at 0x279a645ea80>"
      ]
     },
     "execution_count": 4,
     "metadata": {},
     "output_type": "execute_result"
    }
   ],
   "source": [
    "ds.version_history()"
   ]
  },
  {
   "cell_type": "markdown",
   "id": "b4f2fa3d",
   "metadata": {},
   "source": [
    "## 3. Documentation"
   ]
  },
  {
   "cell_type": "code",
   "execution_count": 5,
   "id": "69df2846",
   "metadata": {
    "execution": {
     "iopub.execute_input": "2025-07-18T09:49:52.530382Z",
     "iopub.status.busy": "2025-07-18T09:49:52.529382Z",
     "iopub.status.idle": "2025-07-18T09:49:52.540896Z",
     "shell.execute_reply": "2025-07-18T09:49:52.538890Z"
    },
    "tags": [
     "remove-input"
    ]
   },
   "outputs": [
    {
     "data": {
      "text/markdown": [
       "We are currently building a documentation storage system which will host useful documents related to datasets and data owners. We will surface these documents on Guidebook."
      ],
      "text/plain": [
       "<IPython.core.display.Markdown object>"
      ]
     },
     "metadata": {},
     "output_type": "display_data"
    }
   ],
   "source": [
    "ds.documentation()"
   ]
  },
  {
   "cell_type": "markdown",
   "id": "7a3e8704",
   "metadata": {},
   "source": [
    "## 4. Useful Syntax"
   ]
  },
  {
   "cell_type": "code",
   "execution_count": 6,
   "id": "3888a86e",
   "metadata": {
    "execution": {
     "iopub.execute_input": "2025-07-18T09:49:52.546903Z",
     "iopub.status.busy": "2025-07-18T09:49:52.545903Z",
     "iopub.status.idle": "2025-07-18T09:49:52.555919Z",
     "shell.execute_reply": "2025-07-18T09:49:52.554903Z"
    },
    "tags": [
     "remove-input"
    ]
   },
   "outputs": [
    {
     "data": {
      "text/markdown": [
       "Below we will include syntax that may be helpful to other researchers in the UK LLC TRE. For longer scripts, we will include a snippet of the code plus a link to Git where you can find the full scripts."
      ],
      "text/plain": [
       "<IPython.core.display.Markdown object>"
      ]
     },
     "metadata": {},
     "output_type": "display_data"
    }
   ],
   "source": [
    "ds.useful_syntax()"
   ]
  }
 ],
 "metadata": {
  "language_info": {
   "codemirror_mode": {
    "name": "ipython",
    "version": 3
   },
   "file_extension": ".py",
   "mimetype": "text/x-python",
   "name": "python",
   "nbconvert_exporter": "python",
   "pygments_lexer": "ipython3",
   "version": "3.12.7"
  }
 },
 "nbformat": 4,
 "nbformat_minor": 5
}
