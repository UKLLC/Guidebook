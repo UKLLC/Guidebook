{
 "cells": [
  {
   "cell_type": "markdown",
   "id": "ba901b15",
   "metadata": {},
   "source": [
    "# MCS6 Cohort Member Derived (MCS)"
   ]
  },
  {
   "cell_type": "code",
   "execution_count": null,
   "id": "4edb23e5",
   "metadata": {
    "tags": [
     "remove-input"
    ]
   },
   "outputs": [],
   "source": [
    "\n",
    "import sys\n",
    "import os\n",
    "sys.path.append(os.path.abspath('../../../../scripts/'))\n",
    "from data_doc_helper import LPSDataSet as DS, last_modified\n",
    "API_KEY = os.environ['FASTAPI_KEY']\n",
    "ds = DS(\"MCS\", \"mcs6_cm_derived\")\n",
    "last_modified()\n"
   ]
  },
  {
   "cell_type": "markdown",
   "id": "12824614",
   "metadata": {},
   "source": [
    "## 1. Summary"
   ]
  },
  {
   "cell_type": "code",
   "execution_count": null,
   "id": "c014af77",
   "metadata": {
    "tags": [
     "remove-input"
    ]
   },
   "outputs": [],
   "source": [
    "ds.summary()"
   ]
  },
  {
   "cell_type": "code",
   "execution_count": null,
   "id": "6410ca9c",
   "metadata": {
    "tags": [
     "remove-input"
    ]
   },
   "outputs": [],
   "source": [
    "ds.info_table()"
   ]
  },
  {
   "cell_type": "markdown",
   "id": "63b48e87",
   "metadata": {},
   "source": [
    "## 2. Version History"
   ]
  },
  {
   "cell_type": "code",
   "execution_count": null,
   "id": "8ecc67ae",
   "metadata": {
    "tags": [
     "remove-input"
    ]
   },
   "outputs": [],
   "source": [
    "ds.version_history()"
   ]
  },
  {
   "cell_type": "markdown",
   "id": "38e6f038",
   "metadata": {},
   "source": [
    "## 3. Documentation"
   ]
  },
  {
   "cell_type": "code",
   "execution_count": null,
   "id": "fef9c88e",
   "metadata": {
    "tags": [
     "remove-input"
    ]
   },
   "outputs": [],
   "source": [
    "ds.documentation()"
   ]
  },
  {
   "cell_type": "markdown",
   "id": "bb769a7a",
   "metadata": {},
   "source": [
    "## 4. Useful Syntax"
   ]
  },
  {
   "cell_type": "code",
   "execution_count": null,
   "id": "86333dcc",
   "metadata": {
    "tags": [
     "remove-input"
    ]
   },
   "outputs": [],
   "source": [
    "ds.useful_syntax()"
   ]
  }
 ],
 "metadata": {},
 "nbformat": 4,
 "nbformat_minor": 5
}
