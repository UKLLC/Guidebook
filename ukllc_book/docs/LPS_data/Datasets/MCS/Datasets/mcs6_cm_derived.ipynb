{
 "cells": [
  {
   "cell_type": "markdown",
   "id": "ba901b15",
   "metadata": {},
   "source": [
    "# MCS6 Cohort Member Derived (MCS)"
   ]
  },
  {
   "cell_type": "code",
   "execution_count": 1,
   "id": "4edb23e5",
   "metadata": {
    "execution": {
     "iopub.execute_input": "2025-07-18T09:59:13.989550Z",
     "iopub.status.busy": "2025-07-18T09:59:13.989550Z",
     "iopub.status.idle": "2025-07-18T09:59:20.760561Z",
     "shell.execute_reply": "2025-07-18T09:59:20.758552Z"
    },
    "tags": [
     "remove-input"
    ]
   },
   "outputs": [
    {
     "data": {
      "text/markdown": [
       ">Last modified: 18 Jul 2025"
      ],
      "text/plain": [
       "<IPython.core.display.Markdown object>"
      ]
     },
     "metadata": {},
     "output_type": "display_data"
    }
   ],
   "source": [
    "\n",
    "import sys\n",
    "import os\n",
    "sys.path.append(os.path.abspath('../../../../scripts/'))\n",
    "from data_doc_helper import LPSDataSet as DS, last_modified\n",
    "API_KEY = os.environ['FASTAPI_KEY']\n",
    "ds = DS(\"MCS\", \"mcs6_cm_derived\")\n",
    "last_modified()\n"
   ]
  },
  {
   "cell_type": "markdown",
   "id": "12824614",
   "metadata": {},
   "source": [
    "## 1. Summary"
   ]
  },
  {
   "cell_type": "code",
   "execution_count": 2,
   "id": "c014af77",
   "metadata": {
    "execution": {
     "iopub.execute_input": "2025-07-18T09:59:20.767559Z",
     "iopub.status.busy": "2025-07-18T09:59:20.766559Z",
     "iopub.status.idle": "2025-07-18T09:59:20.779010Z",
     "shell.execute_reply": "2025-07-18T09:59:20.776999Z"
    },
    "tags": [
     "remove-input"
    ]
   },
   "outputs": [
    {
     "data": {
      "text/markdown": [
       "This dataset contains derived variables relating to the cohort child including ethnic group categories, CANTAB Cambridge Gambling Task outcomes/results, Parent-reported Child SDQ scores, anonymised school IDs"
      ],
      "text/plain": [
       "<IPython.core.display.Markdown object>"
      ]
     },
     "metadata": {},
     "output_type": "display_data"
    }
   ],
   "source": [
    "ds.summary()"
   ]
  },
  {
   "cell_type": "code",
   "execution_count": 3,
   "id": "6410ca9c",
   "metadata": {
    "execution": {
     "iopub.execute_input": "2025-07-18T09:59:20.785006Z",
     "iopub.status.busy": "2025-07-18T09:59:20.785006Z",
     "iopub.status.idle": "2025-07-18T09:59:21.923935Z",
     "shell.execute_reply": "2025-07-18T09:59:21.921919Z"
    },
    "tags": [
     "remove-input"
    ]
   },
   "outputs": [
    {
     "data": {
      "text/html": [
       "<style type=\"text/css\">\n",
       "#T_88ddd th {\n",
       "  text-align: left;\n",
       "}\n",
       "#T_88ddd_row0_col0, #T_88ddd_row0_col1, #T_88ddd_row1_col0, #T_88ddd_row1_col1, #T_88ddd_row2_col0, #T_88ddd_row2_col1, #T_88ddd_row3_col0, #T_88ddd_row3_col1, #T_88ddd_row4_col0, #T_88ddd_row4_col1, #T_88ddd_row5_col0, #T_88ddd_row5_col1, #T_88ddd_row6_col0, #T_88ddd_row6_col1, #T_88ddd_row7_col0, #T_88ddd_row7_col1, #T_88ddd_row8_col0, #T_88ddd_row8_col1, #T_88ddd_row9_col0, #T_88ddd_row9_col1, #T_88ddd_row10_col0, #T_88ddd_row10_col1, #T_88ddd_row11_col0, #T_88ddd_row11_col1, #T_88ddd_row12_col0, #T_88ddd_row12_col1 {\n",
       "  text-align: left;\n",
       "}\n",
       "</style>\n",
       "<table id=\"T_88ddd\" style=\"font-size: 14px\">\n",
       "  <thead>\n",
       "    <tr>\n",
       "      <th id=\"T_88ddd_level0_col0\" class=\"col_heading level0 col0\" >Dataset Descriptor</th>\n",
       "      <th id=\"T_88ddd_level0_col1\" class=\"col_heading level0 col1\" >Dataset-specific Information</th>\n",
       "    </tr>\n",
       "  </thead>\n",
       "  <tbody>\n",
       "    <tr>\n",
       "      <td id=\"T_88ddd_row0_col0\" class=\"data row0 col0\" >Name of Dataset in TRE</td>\n",
       "      <td id=\"T_88ddd_row0_col1\" class=\"data row0 col1\" >MCS_mcs6_cm_derived</td>\n",
       "    </tr>\n",
       "    <tr>\n",
       "      <td id=\"T_88ddd_row1_col0\" class=\"data row1 col0\" >Citation (APA)</td>\n",
       "      <td id=\"T_88ddd_row1_col1\" class=\"data row1 col1\" >University College London, UCL Social Research Institute, Centre for Longitudinal Studies. (2021). <i>Millennium Cohort Study (MCS): MCS6 Cohort Member Derived.</i> UK Longitudinal Linkage Collaboration (UK LLC).  <a href=\"https://doi.org/10.83126/ukllc-dataset-00292-01\" rel=\"noopener noreferrer\" target=\"_blank\">https://doi.org/10.83126/ukllc-dataset-00292-01</a></td>\n",
       "    </tr>\n",
       "    <tr>\n",
       "      <td id=\"T_88ddd_row2_col0\" class=\"data row2 col0\" >Download Citation</td>\n",
       "      <td id=\"T_88ddd_row2_col1\" class=\"data row2 col1\" > <a href=\"https://api.test.datacite.org/application/vnd.citationstyles.csl+json/10.83126/ukllc-dataset-00292-01\" rel=\"noopener noreferrer\" target=\"_blank\">Citeproc JSON</a>&nbsp;&nbsp;&nbsp;&nbsp; <a href=\"https://api.test.datacite.org/application/x-bibtex/10.83126/ukllc-dataset-00292-01\" rel=\"noopener noreferrer\" target=\"_blank\">BibTeX</a>&nbsp;&nbsp;&nbsp;&nbsp; <a href=\"https://api.test.datacite.org/application/x-research-info-systems/10.83126/ukllc-dataset-00292-01\" rel=\"noopener noreferrer\" target=\"_blank\">RIS</a></td>\n",
       "    </tr>\n",
       "    <tr>\n",
       "      <td id=\"T_88ddd_row3_col0\" class=\"data row3 col0\" >Series</td>\n",
       "      <td id=\"T_88ddd_row3_col1\" class=\"data row3 col1\" > <a href=\"https://guidebook.ukllc.ac.uk/docs/lps/lps%20profiles/MCS\">Millennium Cohort Study (MCS)</a></td>\n",
       "    </tr>\n",
       "    <tr>\n",
       "      <td id=\"T_88ddd_row4_col0\" class=\"data row4 col0\" >Owner</td>\n",
       "      <td id=\"T_88ddd_row4_col1\" class=\"data row4 col1\" >UCL</td>\n",
       "    </tr>\n",
       "    <tr>\n",
       "      <td id=\"T_88ddd_row5_col0\" class=\"data row5 col0\" >Temporal Coverage</td>\n",
       "      <td id=\"T_88ddd_row5_col1\" class=\"data row5 col1\" >01/2015 - 03/2016</td>\n",
       "    </tr>\n",
       "    <tr>\n",
       "      <td id=\"T_88ddd_row6_col0\" class=\"data row6 col0\" >Keywords</td>\n",
       "      <td id=\"T_88ddd_row6_col1\" class=\"data row6 col1\" >Health,Education,Family life,Employment,Attitudes</td>\n",
       "    </tr>\n",
       "    <tr>\n",
       "      <td id=\"T_88ddd_row7_col0\" class=\"data row7 col0\" >Participants Invited</td>\n",
       "      <td id=\"T_88ddd_row7_col1\" class=\"data row7 col1\" >11726</td>\n",
       "    </tr>\n",
       "    <tr>\n",
       "      <td id=\"T_88ddd_row8_col0\" class=\"data row8 col0\" >Participant Count</td>\n",
       "      <td id=\"T_88ddd_row8_col1\" class=\"data row8 col1\" >8945</td>\n",
       "    </tr>\n",
       "    <tr>\n",
       "      <td id=\"T_88ddd_row9_col0\" class=\"data row9 col0\" >Number of variables</td>\n",
       "      <td id=\"T_88ddd_row9_col1\" class=\"data row9 col1\" >43</td>\n",
       "    </tr>\n",
       "    <tr>\n",
       "      <td id=\"T_88ddd_row10_col0\" class=\"data row10 col0\" >Number of observations</td>\n",
       "      <td id=\"T_88ddd_row10_col1\" class=\"data row10 col1\" >11859</td>\n",
       "    </tr>\n",
       "    <tr>\n",
       "      <td id=\"T_88ddd_row11_col0\" class=\"data row11 col0\" >Specific Restrictions to Data Use</td>\n",
       "      <td id=\"T_88ddd_row11_col1\" class=\"data row11 col1\" >None</td>\n",
       "    </tr>\n",
       "    <tr>\n",
       "      <td id=\"T_88ddd_row12_col0\" class=\"data row12 col0\" >Build a Data Request</td>\n",
       "      <td id=\"T_88ddd_row12_col1\" class=\"data row12 col1\" > <a href=\"https://explore.ukllc.ac.uk/\" rel=\"noopener noreferrer\" target=\"_blank\">https://explore.ukllc.ac.uk/</a></td>\n",
       "    </tr>\n",
       "  </tbody>\n",
       "</table>\n"
      ],
      "text/plain": [
       "<pandas.io.formats.style.Styler at 0x18e51c6f7a0>"
      ]
     },
     "execution_count": 3,
     "metadata": {},
     "output_type": "execute_result"
    }
   ],
   "source": [
    "ds.info_table()"
   ]
  },
  {
   "cell_type": "markdown",
   "id": "63b48e87",
   "metadata": {},
   "source": [
    "## 2. Version History"
   ]
  },
  {
   "cell_type": "code",
   "execution_count": 4,
   "id": "8ecc67ae",
   "metadata": {
    "execution": {
     "iopub.execute_input": "2025-07-18T09:59:21.927927Z",
     "iopub.status.busy": "2025-07-18T09:59:21.927927Z",
     "iopub.status.idle": "2025-07-18T09:59:24.417360Z",
     "shell.execute_reply": "2025-07-18T09:59:24.414354Z"
    },
    "tags": [
     "remove-input"
    ]
   },
   "outputs": [
    {
     "data": {
      "text/html": [
       "<style type=\"text/css\">\n",
       "#T_664ed th {\n",
       "  text-align: left;\n",
       "}\n",
       "#T_664ed_row0_col0, #T_664ed_row0_col1, #T_664ed_row1_col0, #T_664ed_row1_col1, #T_664ed_row2_col0, #T_664ed_row2_col1, #T_664ed_row3_col0, #T_664ed_row3_col1, #T_664ed_row4_col0, #T_664ed_row4_col1 {\n",
       "  text-align: left;\n",
       "}\n",
       "</style>\n",
       "<table id=\"T_664ed\" style=\"font-size: 14px\">\n",
       "  <thead>\n",
       "    <tr>\n",
       "      <th id=\"T_664ed_level0_col0\" class=\"col_heading level0 col0\" >Version</th>\n",
       "      <th id=\"T_664ed_level0_col1\" class=\"col_heading level0 col1\" >1</th>\n",
       "    </tr>\n",
       "  </thead>\n",
       "  <tbody>\n",
       "    <tr>\n",
       "      <td id=\"T_664ed_row0_col0\" class=\"data row0 col0\" >Version Date</td>\n",
       "      <td id=\"T_664ed_row0_col1\" class=\"data row0 col1\" >01 Nov 2021</td>\n",
       "    </tr>\n",
       "    <tr>\n",
       "      <td id=\"T_664ed_row1_col0\" class=\"data row1 col0\" >Number of Variables</td>\n",
       "      <td id=\"T_664ed_row1_col1\" class=\"data row1 col1\" >43</td>\n",
       "    </tr>\n",
       "    <tr>\n",
       "      <td id=\"T_664ed_row2_col0\" class=\"data row2 col0\" >Number of Observations</td>\n",
       "      <td id=\"T_664ed_row2_col1\" class=\"data row2 col1\" >11859</td>\n",
       "    </tr>\n",
       "    <tr>\n",
       "      <td id=\"T_664ed_row3_col0\" class=\"data row3 col0\" >DOI</td>\n",
       "      <td id=\"T_664ed_row3_col1\" class=\"data row3 col1\" > <a href=\"https://doi.org/10.83126/ukllc-dataset-00292-01\" rel=\"noopener noreferrer\" target=\"_blank\">10.83126/ukllc-dataset-00292-01</a></td>\n",
       "    </tr>\n",
       "    <tr>\n",
       "      <td id=\"T_664ed_row4_col0\" class=\"data row4 col0\" >Change Log</td>\n",
       "      <td id=\"T_664ed_row4_col1\" class=\"data row4 col1\" > <a href=\"https://api.test.datacite.org/dois/10.83126/ukllc-dataset-00292-01/activities\" rel=\"noopener noreferrer\" target=\"_blank\">10.83126/ukllc-dataset-00292-01/activities</a></td>\n",
       "    </tr>\n",
       "  </tbody>\n",
       "</table>\n"
      ],
      "text/plain": [
       "<pandas.io.formats.style.Styler at 0x18e577856a0>"
      ]
     },
     "execution_count": 4,
     "metadata": {},
     "output_type": "execute_result"
    }
   ],
   "source": [
    "ds.version_history()"
   ]
  },
  {
   "cell_type": "markdown",
   "id": "38e6f038",
   "metadata": {},
   "source": [
    "## 3. Documentation"
   ]
  },
  {
   "cell_type": "code",
   "execution_count": 5,
   "id": "fef9c88e",
   "metadata": {
    "execution": {
     "iopub.execute_input": "2025-07-18T09:59:24.423367Z",
     "iopub.status.busy": "2025-07-18T09:59:24.422362Z",
     "iopub.status.idle": "2025-07-18T09:59:24.431722Z",
     "shell.execute_reply": "2025-07-18T09:59:24.430716Z"
    },
    "tags": [
     "remove-input"
    ]
   },
   "outputs": [
    {
     "data": {
      "text/markdown": [
       "We are currently building a documentation storage system which will host useful documents related to datasets and data owners. We will surface these documents on Guidebook."
      ],
      "text/plain": [
       "<IPython.core.display.Markdown object>"
      ]
     },
     "metadata": {},
     "output_type": "display_data"
    }
   ],
   "source": [
    "ds.documentation()"
   ]
  },
  {
   "cell_type": "markdown",
   "id": "bb769a7a",
   "metadata": {},
   "source": [
    "## 4. Useful Syntax"
   ]
  },
  {
   "cell_type": "code",
   "execution_count": 6,
   "id": "86333dcc",
   "metadata": {
    "execution": {
     "iopub.execute_input": "2025-07-18T09:59:24.436722Z",
     "iopub.status.busy": "2025-07-18T09:59:24.436722Z",
     "iopub.status.idle": "2025-07-18T09:59:24.446248Z",
     "shell.execute_reply": "2025-07-18T09:59:24.445602Z"
    },
    "tags": [
     "remove-input"
    ]
   },
   "outputs": [
    {
     "data": {
      "text/markdown": [
       "Below we will include syntax that may be helpful to other researchers in the UK LLC TRE. For longer scripts, we will include a snippet of the code plus a link to Git where you can find the full scripts."
      ],
      "text/plain": [
       "<IPython.core.display.Markdown object>"
      ]
     },
     "metadata": {},
     "output_type": "display_data"
    }
   ],
   "source": [
    "ds.useful_syntax()"
   ]
  }
 ],
 "metadata": {
  "language_info": {
   "codemirror_mode": {
    "name": "ipython",
    "version": 3
   },
   "file_extension": ".py",
   "mimetype": "text/x-python",
   "name": "python",
   "nbconvert_exporter": "python",
   "pygments_lexer": "ipython3",
   "version": "3.12.7"
  }
 },
 "nbformat": 4,
 "nbformat_minor": 5
}
