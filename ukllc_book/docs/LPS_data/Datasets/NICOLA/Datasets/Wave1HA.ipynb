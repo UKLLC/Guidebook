{
 "cells": [
  {
   "cell_type": "markdown",
   "id": "8ad18b18",
   "metadata": {},
   "source": [
    "# Wave 1 Health Assessment (HA) (NICOLA)"
   ]
  },
  {
   "cell_type": "code",
   "execution_count": 1,
   "id": "1934f2b1",
   "metadata": {
    "execution": {
     "iopub.execute_input": "2025-07-18T10:22:32.274749Z",
     "iopub.status.busy": "2025-07-18T10:22:32.274749Z",
     "iopub.status.idle": "2025-07-18T10:22:39.215426Z",
     "shell.execute_reply": "2025-07-18T10:22:39.213419Z"
    },
    "tags": [
     "remove-input"
    ]
   },
   "outputs": [
    {
     "data": {
      "text/markdown": [
       ">Last modified: 18 Jul 2025"
      ],
      "text/plain": [
       "<IPython.core.display.Markdown object>"
      ]
     },
     "metadata": {},
     "output_type": "display_data"
    }
   ],
   "source": [
    "\n",
    "import sys\n",
    "import os\n",
    "sys.path.append(os.path.abspath('../../../../scripts/'))\n",
    "from data_doc_helper import LPSDataSet as DS, last_modified\n",
    "API_KEY = os.environ['FASTAPI_KEY']\n",
    "ds = DS(\"NICOLA\", \"Wave1HA\")\n",
    "last_modified()\n"
   ]
  },
  {
   "cell_type": "markdown",
   "id": "ccc218c0",
   "metadata": {},
   "source": [
    "## 1. Summary"
   ]
  },
  {
   "cell_type": "code",
   "execution_count": 2,
   "id": "51fd882b",
   "metadata": {
    "execution": {
     "iopub.execute_input": "2025-07-18T10:22:39.221429Z",
     "iopub.status.busy": "2025-07-18T10:22:39.220428Z",
     "iopub.status.idle": "2025-07-18T10:22:39.230397Z",
     "shell.execute_reply": "2025-07-18T10:22:39.228875Z"
    },
    "tags": [
     "remove-input"
    ]
   },
   "outputs": [
    {
     "data": {
      "text/markdown": [
       "All participants who completed Wave 1 CAPI were invited to attend a Health Assessment in the Northern Ireland Clinical Research Facility, Belfast (or where necessitated in the participant's home). A non-fasting blood and urine sample was obtained as part of the health assessment (with consent)."
      ],
      "text/plain": [
       "<IPython.core.display.Markdown object>"
      ]
     },
     "metadata": {},
     "output_type": "display_data"
    }
   ],
   "source": [
    "ds.summary()"
   ]
  },
  {
   "cell_type": "code",
   "execution_count": 3,
   "id": "2f8a97bd",
   "metadata": {
    "execution": {
     "iopub.execute_input": "2025-07-18T10:22:39.236411Z",
     "iopub.status.busy": "2025-07-18T10:22:39.235412Z",
     "iopub.status.idle": "2025-07-18T10:22:40.382353Z",
     "shell.execute_reply": "2025-07-18T10:22:40.380347Z"
    },
    "tags": [
     "remove-input"
    ]
   },
   "outputs": [
    {
     "data": {
      "text/html": [
       "<style type=\"text/css\">\n",
       "#T_09822 th {\n",
       "  text-align: left;\n",
       "}\n",
       "#T_09822_row0_col0, #T_09822_row0_col1, #T_09822_row1_col0, #T_09822_row1_col1, #T_09822_row2_col0, #T_09822_row2_col1, #T_09822_row3_col0, #T_09822_row3_col1, #T_09822_row4_col0, #T_09822_row4_col1, #T_09822_row5_col0, #T_09822_row5_col1, #T_09822_row6_col0, #T_09822_row6_col1, #T_09822_row7_col0, #T_09822_row7_col1, #T_09822_row8_col0, #T_09822_row8_col1, #T_09822_row9_col0, #T_09822_row9_col1, #T_09822_row10_col0, #T_09822_row10_col1, #T_09822_row11_col0, #T_09822_row11_col1, #T_09822_row12_col0, #T_09822_row12_col1 {\n",
       "  text-align: left;\n",
       "}\n",
       "</style>\n",
       "<table id=\"T_09822\" style=\"font-size: 14px\">\n",
       "  <thead>\n",
       "    <tr>\n",
       "      <th id=\"T_09822_level0_col0\" class=\"col_heading level0 col0\" >Dataset Descriptor</th>\n",
       "      <th id=\"T_09822_level0_col1\" class=\"col_heading level0 col1\" >Dataset-specific Information</th>\n",
       "    </tr>\n",
       "  </thead>\n",
       "  <tbody>\n",
       "    <tr>\n",
       "      <td id=\"T_09822_row0_col0\" class=\"data row0 col0\" >Name of Dataset in TRE</td>\n",
       "      <td id=\"T_09822_row0_col1\" class=\"data row0 col1\" >NICOLA_Wave1HA</td>\n",
       "    </tr>\n",
       "    <tr>\n",
       "      <td id=\"T_09822_row1_col0\" class=\"data row1 col0\" >Citation (APA)</td>\n",
       "      <td id=\"T_09822_row1_col1\" class=\"data row1 col1\" >Queen’s University Belfast,  School of Medicine, Dentistry and Biomedical Sciences, Centre for Public Health. (2021). <i>NICOLA: The Northern Ireland Longitudinal Study of Ageing: Wave 1 Health Assessment (HA).</i> UK Longitudinal Linkage Collaboration (UK LLC).  <a href=\"https://doi.org/10.83126/ukllc-dataset-00364-01\" rel=\"noopener noreferrer\" target=\"_blank\">https://doi.org/10.83126/ukllc-dataset-00364-01</a></td>\n",
       "    </tr>\n",
       "    <tr>\n",
       "      <td id=\"T_09822_row2_col0\" class=\"data row2 col0\" >Download Citation</td>\n",
       "      <td id=\"T_09822_row2_col1\" class=\"data row2 col1\" > <a href=\"https://api.test.datacite.org/application/vnd.citationstyles.csl+json/10.83126/ukllc-dataset-00364-01\" rel=\"noopener noreferrer\" target=\"_blank\">Citeproc JSON</a>&nbsp;&nbsp;&nbsp;&nbsp; <a href=\"https://api.test.datacite.org/application/x-bibtex/10.83126/ukllc-dataset-00364-01\" rel=\"noopener noreferrer\" target=\"_blank\">BibTeX</a>&nbsp;&nbsp;&nbsp;&nbsp; <a href=\"https://api.test.datacite.org/application/x-research-info-systems/10.83126/ukllc-dataset-00364-01\" rel=\"noopener noreferrer\" target=\"_blank\">RIS</a></td>\n",
       "    </tr>\n",
       "    <tr>\n",
       "      <td id=\"T_09822_row3_col0\" class=\"data row3 col0\" >Series</td>\n",
       "      <td id=\"T_09822_row3_col1\" class=\"data row3 col1\" > <a href=\"https://guidebook.ukllc.ac.uk/docs/lps/lps%20profiles/NICOLA\">NICOLA: The Northern Ireland Longitudinal Study of Ageing</a></td>\n",
       "    </tr>\n",
       "    <tr>\n",
       "      <td id=\"T_09822_row4_col0\" class=\"data row4 col0\" >Owner</td>\n",
       "      <td id=\"T_09822_row4_col1\" class=\"data row4 col1\" >Queen's University Belfast</td>\n",
       "    </tr>\n",
       "    <tr>\n",
       "      <td id=\"T_09822_row5_col0\" class=\"data row5 col0\" >Temporal Coverage</td>\n",
       "      <td id=\"T_09822_row5_col1\" class=\"data row5 col1\" >01/2014 - 08/2018</td>\n",
       "    </tr>\n",
       "    <tr>\n",
       "      <td id=\"T_09822_row6_col0\" class=\"data row6 col0\" >Keywords</td>\n",
       "      <td id=\"T_09822_row6_col1\" class=\"data row6 col1\" ></td>\n",
       "    </tr>\n",
       "    <tr>\n",
       "      <td id=\"T_09822_row7_col0\" class=\"data row7 col0\" >Participants Invited</td>\n",
       "      <td id=\"T_09822_row7_col1\" class=\"data row7 col1\" >3741</td>\n",
       "    </tr>\n",
       "    <tr>\n",
       "      <td id=\"T_09822_row8_col0\" class=\"data row8 col0\" >Participant Count</td>\n",
       "      <td id=\"T_09822_row8_col1\" class=\"data row8 col1\" >2864</td>\n",
       "    </tr>\n",
       "    <tr>\n",
       "      <td id=\"T_09822_row9_col0\" class=\"data row9 col0\" >Number of variables</td>\n",
       "      <td id=\"T_09822_row9_col1\" class=\"data row9 col1\" >214</td>\n",
       "    </tr>\n",
       "    <tr>\n",
       "      <td id=\"T_09822_row10_col0\" class=\"data row10 col0\" >Number of observations</td>\n",
       "      <td id=\"T_09822_row10_col1\" class=\"data row10 col1\" >2864</td>\n",
       "    </tr>\n",
       "    <tr>\n",
       "      <td id=\"T_09822_row11_col0\" class=\"data row11 col0\" >Specific Restrictions to Data Use</td>\n",
       "      <td id=\"T_09822_row11_col1\" class=\"data row11 col1\" >None</td>\n",
       "    </tr>\n",
       "    <tr>\n",
       "      <td id=\"T_09822_row12_col0\" class=\"data row12 col0\" >Build a Data Request</td>\n",
       "      <td id=\"T_09822_row12_col1\" class=\"data row12 col1\" > <a href=\"https://explore.ukllc.ac.uk/\" rel=\"noopener noreferrer\" target=\"_blank\">https://explore.ukllc.ac.uk/</a></td>\n",
       "    </tr>\n",
       "  </tbody>\n",
       "</table>\n"
      ],
      "text/plain": [
       "<pandas.io.formats.style.Styler at 0x21f91814e60>"
      ]
     },
     "execution_count": 3,
     "metadata": {},
     "output_type": "execute_result"
    }
   ],
   "source": [
    "ds.info_table()"
   ]
  },
  {
   "cell_type": "markdown",
   "id": "689153dd",
   "metadata": {},
   "source": [
    "## 2. Version History"
   ]
  },
  {
   "cell_type": "code",
   "execution_count": 4,
   "id": "742a4170",
   "metadata": {
    "execution": {
     "iopub.execute_input": "2025-07-18T10:22:40.388355Z",
     "iopub.status.busy": "2025-07-18T10:22:40.388355Z",
     "iopub.status.idle": "2025-07-18T10:22:43.637785Z",
     "shell.execute_reply": "2025-07-18T10:22:43.637300Z"
    },
    "tags": [
     "remove-input"
    ]
   },
   "outputs": [
    {
     "data": {
      "text/html": [
       "<style type=\"text/css\">\n",
       "#T_244a1 th {\n",
       "  text-align: left;\n",
       "}\n",
       "#T_244a1_row0_col0, #T_244a1_row0_col1, #T_244a1_row1_col0, #T_244a1_row1_col1, #T_244a1_row2_col0, #T_244a1_row2_col1, #T_244a1_row3_col0, #T_244a1_row3_col1, #T_244a1_row4_col0, #T_244a1_row4_col1 {\n",
       "  text-align: left;\n",
       "}\n",
       "</style>\n",
       "<table id=\"T_244a1\" style=\"font-size: 14px\">\n",
       "  <thead>\n",
       "    <tr>\n",
       "      <th id=\"T_244a1_level0_col0\" class=\"col_heading level0 col0\" >Version</th>\n",
       "      <th id=\"T_244a1_level0_col1\" class=\"col_heading level0 col1\" >1</th>\n",
       "    </tr>\n",
       "  </thead>\n",
       "  <tbody>\n",
       "    <tr>\n",
       "      <td id=\"T_244a1_row0_col0\" class=\"data row0 col0\" >Version Date</td>\n",
       "      <td id=\"T_244a1_row0_col1\" class=\"data row0 col1\" >01 Nov 2021</td>\n",
       "    </tr>\n",
       "    <tr>\n",
       "      <td id=\"T_244a1_row1_col0\" class=\"data row1 col0\" >Number of Variables</td>\n",
       "      <td id=\"T_244a1_row1_col1\" class=\"data row1 col1\" >214</td>\n",
       "    </tr>\n",
       "    <tr>\n",
       "      <td id=\"T_244a1_row2_col0\" class=\"data row2 col0\" >Number of Observations</td>\n",
       "      <td id=\"T_244a1_row2_col1\" class=\"data row2 col1\" >2864</td>\n",
       "    </tr>\n",
       "    <tr>\n",
       "      <td id=\"T_244a1_row3_col0\" class=\"data row3 col0\" >DOI</td>\n",
       "      <td id=\"T_244a1_row3_col1\" class=\"data row3 col1\" > <a href=\"https://doi.org/10.83126/ukllc-dataset-00364-01\" rel=\"noopener noreferrer\" target=\"_blank\">10.83126/ukllc-dataset-00364-01</a></td>\n",
       "    </tr>\n",
       "    <tr>\n",
       "      <td id=\"T_244a1_row4_col0\" class=\"data row4 col0\" >Change Log</td>\n",
       "      <td id=\"T_244a1_row4_col1\" class=\"data row4 col1\" > <a href=\"https://api.test.datacite.org/dois/10.83126/ukllc-dataset-00364-01/activities\" rel=\"noopener noreferrer\" target=\"_blank\">10.83126/ukllc-dataset-00364-01/activities</a></td>\n",
       "    </tr>\n",
       "  </tbody>\n",
       "</table>\n"
      ],
      "text/plain": [
       "<pandas.io.formats.style.Styler at 0x21f935244d0>"
      ]
     },
     "execution_count": 4,
     "metadata": {},
     "output_type": "execute_result"
    }
   ],
   "source": [
    "ds.version_history()"
   ]
  },
  {
   "cell_type": "markdown",
   "id": "c644431a",
   "metadata": {},
   "source": [
    "## 3. Documentation"
   ]
  },
  {
   "cell_type": "code",
   "execution_count": 5,
   "id": "5d017b22",
   "metadata": {
    "execution": {
     "iopub.execute_input": "2025-07-18T10:22:43.643981Z",
     "iopub.status.busy": "2025-07-18T10:22:43.643055Z",
     "iopub.status.idle": "2025-07-18T10:22:43.652198Z",
     "shell.execute_reply": "2025-07-18T10:22:43.651189Z"
    },
    "tags": [
     "remove-input"
    ]
   },
   "outputs": [
    {
     "data": {
      "text/markdown": [
       "We are currently building a documentation storage system which will host useful documents related to datasets and data owners. We will surface these documents on Guidebook."
      ],
      "text/plain": [
       "<IPython.core.display.Markdown object>"
      ]
     },
     "metadata": {},
     "output_type": "display_data"
    }
   ],
   "source": [
    "ds.documentation()"
   ]
  },
  {
   "cell_type": "markdown",
   "id": "265416c7",
   "metadata": {},
   "source": [
    "## 4. Useful Syntax"
   ]
  },
  {
   "cell_type": "code",
   "execution_count": 6,
   "id": "8d85b022",
   "metadata": {
    "execution": {
     "iopub.execute_input": "2025-07-18T10:22:43.659195Z",
     "iopub.status.busy": "2025-07-18T10:22:43.658196Z",
     "iopub.status.idle": "2025-07-18T10:22:43.668409Z",
     "shell.execute_reply": "2025-07-18T10:22:43.667398Z"
    },
    "tags": [
     "remove-input"
    ]
   },
   "outputs": [
    {
     "data": {
      "text/markdown": [
       "Below we will include syntax that may be helpful to other researchers in the UK LLC TRE. For longer scripts, we will include a snippet of the code plus a link to Git where you can find the full scripts."
      ],
      "text/plain": [
       "<IPython.core.display.Markdown object>"
      ]
     },
     "metadata": {},
     "output_type": "display_data"
    }
   ],
   "source": [
    "ds.useful_syntax()"
   ]
  }
 ],
 "metadata": {
  "language_info": {
   "codemirror_mode": {
    "name": "ipython",
    "version": 3
   },
   "file_extension": ".py",
   "mimetype": "text/x-python",
   "name": "python",
   "nbconvert_exporter": "python",
   "pygments_lexer": "ipython3",
   "version": "3.12.7"
  }
 },
 "nbformat": 4,
 "nbformat_minor": 5
}
