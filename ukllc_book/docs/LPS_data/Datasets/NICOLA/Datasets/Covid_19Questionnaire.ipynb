{
 "cells": [
  {
   "cell_type": "markdown",
   "id": "97f085ff",
   "metadata": {},
   "source": [
    "# COVID-19 Questionnaire (NICOLA)"
   ]
  },
  {
   "cell_type": "code",
   "execution_count": 1,
   "id": "aafb883f",
   "metadata": {
    "execution": {
     "iopub.execute_input": "2025-07-18T10:21:58.790629Z",
     "iopub.status.busy": "2025-07-18T10:21:58.790629Z",
     "iopub.status.idle": "2025-07-18T10:22:05.683722Z",
     "shell.execute_reply": "2025-07-18T10:22:05.682713Z"
    },
    "tags": [
     "remove-input"
    ]
   },
   "outputs": [
    {
     "data": {
      "text/markdown": [
       ">Last modified: 18 Jul 2025"
      ],
      "text/plain": [
       "<IPython.core.display.Markdown object>"
      ]
     },
     "metadata": {},
     "output_type": "display_data"
    }
   ],
   "source": [
    "\n",
    "import sys\n",
    "import os\n",
    "sys.path.append(os.path.abspath('../../../../scripts/'))\n",
    "from data_doc_helper import LPSDataSet as DS, last_modified\n",
    "API_KEY = os.environ['FASTAPI_KEY']\n",
    "ds = DS(\"NICOLA\", \"Covid_19Questionnaire\")\n",
    "last_modified()\n"
   ]
  },
  {
   "cell_type": "markdown",
   "id": "b1ef4122",
   "metadata": {},
   "source": [
    "## 1. Summary"
   ]
  },
  {
   "cell_type": "code",
   "execution_count": 2,
   "id": "ac949208",
   "metadata": {
    "execution": {
     "iopub.execute_input": "2025-07-18T10:22:05.690720Z",
     "iopub.status.busy": "2025-07-18T10:22:05.688720Z",
     "iopub.status.idle": "2025-07-18T10:22:05.700441Z",
     "shell.execute_reply": "2025-07-18T10:22:05.698727Z"
    },
    "tags": [
     "remove-input"
    ]
   },
   "outputs": [
    {
     "data": {
      "text/markdown": [
       "Participants in Wave 2 were sent a questionnaire which they completed and returned by post. The questions covered 8 topics including demographics, physical and mental health, health behaviour, employment, health and social care utilisation, social participation, financial situation, experience of COVID-19."
      ],
      "text/plain": [
       "<IPython.core.display.Markdown object>"
      ]
     },
     "metadata": {},
     "output_type": "display_data"
    }
   ],
   "source": [
    "ds.summary()"
   ]
  },
  {
   "cell_type": "code",
   "execution_count": 3,
   "id": "700dd34c",
   "metadata": {
    "execution": {
     "iopub.execute_input": "2025-07-18T10:22:05.704446Z",
     "iopub.status.busy": "2025-07-18T10:22:05.704446Z",
     "iopub.status.idle": "2025-07-18T10:22:06.864681Z",
     "shell.execute_reply": "2025-07-18T10:22:06.863043Z"
    },
    "tags": [
     "remove-input"
    ]
   },
   "outputs": [
    {
     "data": {
      "text/html": [
       "<style type=\"text/css\">\n",
       "#T_88869 th {\n",
       "  text-align: left;\n",
       "}\n",
       "#T_88869_row0_col0, #T_88869_row0_col1, #T_88869_row1_col0, #T_88869_row1_col1, #T_88869_row2_col0, #T_88869_row2_col1, #T_88869_row3_col0, #T_88869_row3_col1, #T_88869_row4_col0, #T_88869_row4_col1, #T_88869_row5_col0, #T_88869_row5_col1, #T_88869_row6_col0, #T_88869_row6_col1, #T_88869_row7_col0, #T_88869_row7_col1, #T_88869_row8_col0, #T_88869_row8_col1, #T_88869_row9_col0, #T_88869_row9_col1, #T_88869_row10_col0, #T_88869_row10_col1, #T_88869_row11_col0, #T_88869_row11_col1, #T_88869_row12_col0, #T_88869_row12_col1 {\n",
       "  text-align: left;\n",
       "}\n",
       "</style>\n",
       "<table id=\"T_88869\" style=\"font-size: 14px\">\n",
       "  <thead>\n",
       "    <tr>\n",
       "      <th id=\"T_88869_level0_col0\" class=\"col_heading level0 col0\" >Dataset Descriptor</th>\n",
       "      <th id=\"T_88869_level0_col1\" class=\"col_heading level0 col1\" >Dataset-specific Information</th>\n",
       "    </tr>\n",
       "  </thead>\n",
       "  <tbody>\n",
       "    <tr>\n",
       "      <td id=\"T_88869_row0_col0\" class=\"data row0 col0\" >Name of Dataset in TRE</td>\n",
       "      <td id=\"T_88869_row0_col1\" class=\"data row0 col1\" >NICOLA_Covid_19Questionnaire</td>\n",
       "    </tr>\n",
       "    <tr>\n",
       "      <td id=\"T_88869_row1_col0\" class=\"data row1 col0\" >Citation (APA)</td>\n",
       "      <td id=\"T_88869_row1_col1\" class=\"data row1 col1\" >Queen’s University Belfast,  School of Medicine, Dentistry and Biomedical Sciences, Centre for Public Health. (2021). <i>NICOLA: The Northern Ireland Longitudinal Study of Ageing: COVID-19 Questionnaire.</i> UK Longitudinal Linkage Collaboration (UK LLC).  <a href=\"https://doi.org/10.83126/ukllc-dataset-00362-01\" rel=\"noopener noreferrer\" target=\"_blank\">https://doi.org/10.83126/ukllc-dataset-00362-01</a></td>\n",
       "    </tr>\n",
       "    <tr>\n",
       "      <td id=\"T_88869_row2_col0\" class=\"data row2 col0\" >Download Citation</td>\n",
       "      <td id=\"T_88869_row2_col1\" class=\"data row2 col1\" > <a href=\"https://api.test.datacite.org/application/vnd.citationstyles.csl+json/10.83126/ukllc-dataset-00362-01\" rel=\"noopener noreferrer\" target=\"_blank\">Citeproc JSON</a>&nbsp;&nbsp;&nbsp;&nbsp; <a href=\"https://api.test.datacite.org/application/x-bibtex/10.83126/ukllc-dataset-00362-01\" rel=\"noopener noreferrer\" target=\"_blank\">BibTeX</a>&nbsp;&nbsp;&nbsp;&nbsp; <a href=\"https://api.test.datacite.org/application/x-research-info-systems/10.83126/ukllc-dataset-00362-01\" rel=\"noopener noreferrer\" target=\"_blank\">RIS</a></td>\n",
       "    </tr>\n",
       "    <tr>\n",
       "      <td id=\"T_88869_row3_col0\" class=\"data row3 col0\" >Series</td>\n",
       "      <td id=\"T_88869_row3_col1\" class=\"data row3 col1\" > <a href=\"https://guidebook.ukllc.ac.uk/docs/lps/lps%20profiles/NICOLA\">NICOLA: The Northern Ireland Longitudinal Study of Ageing</a></td>\n",
       "    </tr>\n",
       "    <tr>\n",
       "      <td id=\"T_88869_row4_col0\" class=\"data row4 col0\" >Owner</td>\n",
       "      <td id=\"T_88869_row4_col1\" class=\"data row4 col1\" >Queen's University Belfast</td>\n",
       "    </tr>\n",
       "    <tr>\n",
       "      <td id=\"T_88869_row5_col0\" class=\"data row5 col0\" >Temporal Coverage</td>\n",
       "      <td id=\"T_88869_row5_col1\" class=\"data row5 col1\" >02/2021 - 06/2021</td>\n",
       "    </tr>\n",
       "    <tr>\n",
       "      <td id=\"T_88869_row6_col0\" class=\"data row6 col0\" >Keywords</td>\n",
       "      <td id=\"T_88869_row6_col1\" class=\"data row6 col1\" ></td>\n",
       "    </tr>\n",
       "    <tr>\n",
       "      <td id=\"T_88869_row7_col0\" class=\"data row7 col0\" >Participants Invited</td>\n",
       "      <td id=\"T_88869_row7_col1\" class=\"data row7 col1\" >3149</td>\n",
       "    </tr>\n",
       "    <tr>\n",
       "      <td id=\"T_88869_row8_col0\" class=\"data row8 col0\" >Participant Count</td>\n",
       "      <td id=\"T_88869_row8_col1\" class=\"data row8 col1\" >3009</td>\n",
       "    </tr>\n",
       "    <tr>\n",
       "      <td id=\"T_88869_row9_col0\" class=\"data row9 col0\" >Number of variables</td>\n",
       "      <td id=\"T_88869_row9_col1\" class=\"data row9 col1\" >219</td>\n",
       "    </tr>\n",
       "    <tr>\n",
       "      <td id=\"T_88869_row10_col0\" class=\"data row10 col0\" >Number of observations</td>\n",
       "      <td id=\"T_88869_row10_col1\" class=\"data row10 col1\" >3009</td>\n",
       "    </tr>\n",
       "    <tr>\n",
       "      <td id=\"T_88869_row11_col0\" class=\"data row11 col0\" >Specific Restrictions to Data Use</td>\n",
       "      <td id=\"T_88869_row11_col1\" class=\"data row11 col1\" >None</td>\n",
       "    </tr>\n",
       "    <tr>\n",
       "      <td id=\"T_88869_row12_col0\" class=\"data row12 col0\" >Build a Data Request</td>\n",
       "      <td id=\"T_88869_row12_col1\" class=\"data row12 col1\" > <a href=\"https://explore.ukllc.ac.uk/\" rel=\"noopener noreferrer\" target=\"_blank\">https://explore.ukllc.ac.uk/</a></td>\n",
       "    </tr>\n",
       "  </tbody>\n",
       "</table>\n"
      ],
      "text/plain": [
       "<pandas.io.formats.style.Styler at 0x21dea32fe90>"
      ]
     },
     "execution_count": 3,
     "metadata": {},
     "output_type": "execute_result"
    }
   ],
   "source": [
    "ds.info_table()"
   ]
  },
  {
   "cell_type": "markdown",
   "id": "9bc00d4a",
   "metadata": {},
   "source": [
    "## 2. Version History"
   ]
  },
  {
   "cell_type": "code",
   "execution_count": 4,
   "id": "000455e1",
   "metadata": {
    "execution": {
     "iopub.execute_input": "2025-07-18T10:22:06.869696Z",
     "iopub.status.busy": "2025-07-18T10:22:06.869696Z",
     "iopub.status.idle": "2025-07-18T10:22:09.441228Z",
     "shell.execute_reply": "2025-07-18T10:22:09.438222Z"
    },
    "tags": [
     "remove-input"
    ]
   },
   "outputs": [
    {
     "data": {
      "text/html": [
       "<style type=\"text/css\">\n",
       "#T_8ebb2 th {\n",
       "  text-align: left;\n",
       "}\n",
       "#T_8ebb2_row0_col0, #T_8ebb2_row0_col1, #T_8ebb2_row1_col0, #T_8ebb2_row1_col1, #T_8ebb2_row2_col0, #T_8ebb2_row2_col1, #T_8ebb2_row3_col0, #T_8ebb2_row3_col1, #T_8ebb2_row4_col0, #T_8ebb2_row4_col1 {\n",
       "  text-align: left;\n",
       "}\n",
       "</style>\n",
       "<table id=\"T_8ebb2\" style=\"font-size: 14px\">\n",
       "  <thead>\n",
       "    <tr>\n",
       "      <th id=\"T_8ebb2_level0_col0\" class=\"col_heading level0 col0\" >Version</th>\n",
       "      <th id=\"T_8ebb2_level0_col1\" class=\"col_heading level0 col1\" >1</th>\n",
       "    </tr>\n",
       "  </thead>\n",
       "  <tbody>\n",
       "    <tr>\n",
       "      <td id=\"T_8ebb2_row0_col0\" class=\"data row0 col0\" >Version Date</td>\n",
       "      <td id=\"T_8ebb2_row0_col1\" class=\"data row0 col1\" >01 Nov 2021</td>\n",
       "    </tr>\n",
       "    <tr>\n",
       "      <td id=\"T_8ebb2_row1_col0\" class=\"data row1 col0\" >Number of Variables</td>\n",
       "      <td id=\"T_8ebb2_row1_col1\" class=\"data row1 col1\" >219</td>\n",
       "    </tr>\n",
       "    <tr>\n",
       "      <td id=\"T_8ebb2_row2_col0\" class=\"data row2 col0\" >Number of Observations</td>\n",
       "      <td id=\"T_8ebb2_row2_col1\" class=\"data row2 col1\" >3009</td>\n",
       "    </tr>\n",
       "    <tr>\n",
       "      <td id=\"T_8ebb2_row3_col0\" class=\"data row3 col0\" >DOI</td>\n",
       "      <td id=\"T_8ebb2_row3_col1\" class=\"data row3 col1\" > <a href=\"https://doi.org/10.83126/ukllc-dataset-00362-01\" rel=\"noopener noreferrer\" target=\"_blank\">10.83126/ukllc-dataset-00362-01</a></td>\n",
       "    </tr>\n",
       "    <tr>\n",
       "      <td id=\"T_8ebb2_row4_col0\" class=\"data row4 col0\" >Change Log</td>\n",
       "      <td id=\"T_8ebb2_row4_col1\" class=\"data row4 col1\" > <a href=\"https://api.test.datacite.org/dois/10.83126/ukllc-dataset-00362-01/activities\" rel=\"noopener noreferrer\" target=\"_blank\">10.83126/ukllc-dataset-00362-01/activities</a></td>\n",
       "    </tr>\n",
       "  </tbody>\n",
       "</table>\n"
      ],
      "text/plain": [
       "<pandas.io.formats.style.Styler at 0x21de638b290>"
      ]
     },
     "execution_count": 4,
     "metadata": {},
     "output_type": "execute_result"
    }
   ],
   "source": [
    "ds.version_history()"
   ]
  },
  {
   "cell_type": "markdown",
   "id": "d7897270",
   "metadata": {},
   "source": [
    "## 3. Documentation"
   ]
  },
  {
   "cell_type": "code",
   "execution_count": 5,
   "id": "556b1b4e",
   "metadata": {
    "execution": {
     "iopub.execute_input": "2025-07-18T10:22:09.447229Z",
     "iopub.status.busy": "2025-07-18T10:22:09.447229Z",
     "iopub.status.idle": "2025-07-18T10:22:09.457372Z",
     "shell.execute_reply": "2025-07-18T10:22:09.455366Z"
    },
    "tags": [
     "remove-input"
    ]
   },
   "outputs": [
    {
     "data": {
      "text/markdown": [
       "We are currently building a documentation storage system which will host useful documents related to datasets and data owners. We will surface these documents on Guidebook."
      ],
      "text/plain": [
       "<IPython.core.display.Markdown object>"
      ]
     },
     "metadata": {},
     "output_type": "display_data"
    }
   ],
   "source": [
    "ds.documentation()"
   ]
  },
  {
   "cell_type": "markdown",
   "id": "84709e2c",
   "metadata": {},
   "source": [
    "## 4. Useful Syntax"
   ]
  },
  {
   "cell_type": "code",
   "execution_count": 6,
   "id": "5e81f6c5",
   "metadata": {
    "execution": {
     "iopub.execute_input": "2025-07-18T10:22:09.463372Z",
     "iopub.status.busy": "2025-07-18T10:22:09.462372Z",
     "iopub.status.idle": "2025-07-18T10:22:09.471476Z",
     "shell.execute_reply": "2025-07-18T10:22:09.470465Z"
    },
    "tags": [
     "remove-input"
    ]
   },
   "outputs": [
    {
     "data": {
      "text/markdown": [
       "Below we will include syntax that may be helpful to other researchers in the UK LLC TRE. For longer scripts, we will include a snippet of the code plus a link to Git where you can find the full scripts."
      ],
      "text/plain": [
       "<IPython.core.display.Markdown object>"
      ]
     },
     "metadata": {},
     "output_type": "display_data"
    }
   ],
   "source": [
    "ds.useful_syntax()"
   ]
  }
 ],
 "metadata": {
  "language_info": {
   "codemirror_mode": {
    "name": "ipython",
    "version": 3
   },
   "file_extension": ".py",
   "mimetype": "text/x-python",
   "name": "python",
   "nbconvert_exporter": "python",
   "pygments_lexer": "ipython3",
   "version": "3.12.7"
  }
 },
 "nbformat": 4,
 "nbformat_minor": 5
}
