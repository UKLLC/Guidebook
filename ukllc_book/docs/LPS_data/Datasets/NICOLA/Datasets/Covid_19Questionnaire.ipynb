{
 "cells": [
  {
   "cell_type": "markdown",
   "id": "97f085ff",
   "metadata": {},
   "source": [
    "# COVID-19 Questionnaire (NICOLA)"
   ]
  },
  {
   "cell_type": "code",
   "execution_count": 1,
   "id": "aafb883f",
   "metadata": {
    "execution": {
     "iopub.execute_input": "2025-07-28T20:11:27.923681Z",
     "iopub.status.busy": "2025-07-28T20:11:27.922681Z",
     "iopub.status.idle": "2025-07-28T20:11:40.183014Z",
     "shell.execute_reply": "2025-07-28T20:11:40.180990Z"
    },
    "tags": [
     "remove-input"
    ]
   },
   "outputs": [
    {
     "data": {
      "text/markdown": [
       ">Last modified: 28 Jul 2025"
      ],
      "text/plain": [
       "<IPython.core.display.Markdown object>"
      ]
     },
     "metadata": {},
     "output_type": "display_data"
    }
   ],
   "source": [
    "\n",
    "import sys\n",
    "import os\n",
    "sys.path.append(os.path.abspath('../../../../scripts/'))\n",
    "from data_doc_helper import LPSDataSet as DS, last_modified\n",
    "API_KEY = os.environ['FASTAPI_KEY']\n",
    "ds = DS(\"NICOLA\", \"Covid_19Questionnaire\")\n",
    "last_modified()\n"
   ]
  },
  {
   "cell_type": "markdown",
   "id": "b1ef4122",
   "metadata": {},
   "source": [
    "## 1. Summary"
   ]
  },
  {
   "cell_type": "code",
   "execution_count": 2,
   "id": "ac949208",
   "metadata": {
    "execution": {
     "iopub.execute_input": "2025-07-28T20:11:40.193010Z",
     "iopub.status.busy": "2025-07-28T20:11:40.192009Z",
     "iopub.status.idle": "2025-07-28T20:11:40.203753Z",
     "shell.execute_reply": "2025-07-28T20:11:40.203231Z"
    },
    "tags": [
     "remove-input"
    ]
   },
   "outputs": [
    {
     "data": {
      "text/markdown": [
       "Participants in Wave 2 were sent a questionnaire which they completed and returned by post. The questions covered 8 topics including demographics, physical and mental health, health behaviour, employment, health and social care utilisation, social participation, financial situation, experience of COVID-19."
      ],
      "text/plain": [
       "<IPython.core.display.Markdown object>"
      ]
     },
     "metadata": {},
     "output_type": "display_data"
    }
   ],
   "source": [
    "ds.summary()"
   ]
  },
  {
   "cell_type": "code",
   "execution_count": 3,
   "id": "700dd34c",
   "metadata": {
    "execution": {
     "iopub.execute_input": "2025-07-28T20:11:40.213771Z",
     "iopub.status.busy": "2025-07-28T20:11:40.212770Z",
     "iopub.status.idle": "2025-07-28T20:11:42.046619Z",
     "shell.execute_reply": "2025-07-28T20:11:42.045604Z"
    },
    "tags": [
     "remove-input"
    ]
   },
   "outputs": [
    {
     "data": {
      "text/html": [
       "<style type=\"text/css\">\n",
       "#T_59d7c th {\n",
       "  text-align: left;\n",
       "}\n",
       "#T_59d7c_row0_col0, #T_59d7c_row0_col1, #T_59d7c_row1_col0, #T_59d7c_row1_col1, #T_59d7c_row2_col0, #T_59d7c_row2_col1, #T_59d7c_row3_col0, #T_59d7c_row3_col1, #T_59d7c_row4_col0, #T_59d7c_row4_col1, #T_59d7c_row5_col0, #T_59d7c_row5_col1, #T_59d7c_row6_col0, #T_59d7c_row6_col1, #T_59d7c_row7_col0, #T_59d7c_row7_col1, #T_59d7c_row8_col0, #T_59d7c_row8_col1, #T_59d7c_row9_col0, #T_59d7c_row9_col1, #T_59d7c_row10_col0, #T_59d7c_row10_col1, #T_59d7c_row11_col0, #T_59d7c_row11_col1, #T_59d7c_row12_col0, #T_59d7c_row12_col1 {\n",
       "  text-align: left;\n",
       "}\n",
       "</style>\n",
       "<table id=\"T_59d7c\" style=\"font-size: 14px\">\n",
       "  <thead>\n",
       "    <tr>\n",
       "      <th id=\"T_59d7c_level0_col0\" class=\"col_heading level0 col0\" >Dataset Descriptor</th>\n",
       "      <th id=\"T_59d7c_level0_col1\" class=\"col_heading level0 col1\" >Dataset-specific Information</th>\n",
       "    </tr>\n",
       "  </thead>\n",
       "  <tbody>\n",
       "    <tr>\n",
       "      <td id=\"T_59d7c_row0_col0\" class=\"data row0 col0\" >Name of Dataset in TRE</td>\n",
       "      <td id=\"T_59d7c_row0_col1\" class=\"data row0 col1\" >NICOLA_Covid_19Questionnaire</td>\n",
       "    </tr>\n",
       "    <tr>\n",
       "      <td id=\"T_59d7c_row1_col0\" class=\"data row1 col0\" >Citation (APA)</td>\n",
       "      <td id=\"T_59d7c_row1_col1\" class=\"data row1 col1\" >Queen's University Belfast,  School of Medicine, Dentistry and Biomedical Sciences, Centre for Public Health. (2021). <i>NICOLA: The Northern Ireland Longitudinal Study of Ageing: COVID-19 Questionnaire.</i> UK Longitudinal Linkage Collaboration (UK LLC).  <a href=\"https://doi.org/10.71760/ukllc-dataset-00293-01\" rel=\"noopener noreferrer\" target=\"_blank\">https://doi.org/10.71760/ukllc-dataset-00293-01</a></td>\n",
       "    </tr>\n",
       "    <tr>\n",
       "      <td id=\"T_59d7c_row2_col0\" class=\"data row2 col0\" >Download Citation</td>\n",
       "      <td id=\"T_59d7c_row2_col1\" class=\"data row2 col1\" > <a href=\"https://api.datacite.org/application/vnd.citationstyles.csl+json/10.71760/ukllc-dataset-00293-01\" rel=\"noopener noreferrer\" target=\"_blank\">Citeproc JSON</a>&nbsp;&nbsp;&nbsp;&nbsp; <a href=\"https://api.datacite.org/application/x-bibtex/10.71760/ukllc-dataset-00293-01\" rel=\"noopener noreferrer\" target=\"_blank\">BibTeX</a>&nbsp;&nbsp;&nbsp;&nbsp; <a href=\"https://api.datacite.org/application/x-research-info-systems/10.71760/ukllc-dataset-00293-01\" rel=\"noopener noreferrer\" target=\"_blank\">RIS</a></td>\n",
       "    </tr>\n",
       "    <tr>\n",
       "      <td id=\"T_59d7c_row3_col0\" class=\"data row3 col0\" >Series</td>\n",
       "      <td id=\"T_59d7c_row3_col1\" class=\"data row3 col1\" > <a href=\"https://guidebook.ukllc.ac.uk/docs/lps_data/lps%20profiles/NICOLA\">NICOLA: The Northern Ireland Longitudinal Study of Ageing</a></td>\n",
       "    </tr>\n",
       "    <tr>\n",
       "      <td id=\"T_59d7c_row4_col0\" class=\"data row4 col0\" >Owner</td>\n",
       "      <td id=\"T_59d7c_row4_col1\" class=\"data row4 col1\" >Queen's University Belfast</td>\n",
       "    </tr>\n",
       "    <tr>\n",
       "      <td id=\"T_59d7c_row5_col0\" class=\"data row5 col0\" >Temporal Coverage</td>\n",
       "      <td id=\"T_59d7c_row5_col1\" class=\"data row5 col1\" >02/2021 - 06/2021</td>\n",
       "    </tr>\n",
       "    <tr>\n",
       "      <td id=\"T_59d7c_row6_col0\" class=\"data row6 col0\" >Keywords</td>\n",
       "      <td id=\"T_59d7c_row6_col1\" class=\"data row6 col1\" ></td>\n",
       "    </tr>\n",
       "    <tr>\n",
       "      <td id=\"T_59d7c_row7_col0\" class=\"data row7 col0\" >Participants Invited</td>\n",
       "      <td id=\"T_59d7c_row7_col1\" class=\"data row7 col1\" >3149</td>\n",
       "    </tr>\n",
       "    <tr>\n",
       "      <td id=\"T_59d7c_row8_col0\" class=\"data row8 col0\" >Participant Count</td>\n",
       "      <td id=\"T_59d7c_row8_col1\" class=\"data row8 col1\" >3009</td>\n",
       "    </tr>\n",
       "    <tr>\n",
       "      <td id=\"T_59d7c_row9_col0\" class=\"data row9 col0\" >Number of variables</td>\n",
       "      <td id=\"T_59d7c_row9_col1\" class=\"data row9 col1\" >219</td>\n",
       "    </tr>\n",
       "    <tr>\n",
       "      <td id=\"T_59d7c_row10_col0\" class=\"data row10 col0\" >Number of observations</td>\n",
       "      <td id=\"T_59d7c_row10_col1\" class=\"data row10 col1\" >3009</td>\n",
       "    </tr>\n",
       "    <tr>\n",
       "      <td id=\"T_59d7c_row11_col0\" class=\"data row11 col0\" >Specific Restrictions to Data Use</td>\n",
       "      <td id=\"T_59d7c_row11_col1\" class=\"data row11 col1\" >None</td>\n",
       "    </tr>\n",
       "    <tr>\n",
       "      <td id=\"T_59d7c_row12_col0\" class=\"data row12 col0\" >Build a Data Request</td>\n",
       "      <td id=\"T_59d7c_row12_col1\" class=\"data row12 col1\" > <a href=\"https://explore.ukllc.ac.uk/\" rel=\"noopener noreferrer\" target=\"_blank\">https://explore.ukllc.ac.uk/</a></td>\n",
       "    </tr>\n",
       "  </tbody>\n",
       "</table>\n"
      ],
      "text/plain": [
       "<pandas.io.formats.style.Styler at 0x1e56cccde20>"
      ]
     },
     "execution_count": 3,
     "metadata": {},
     "output_type": "execute_result"
    }
   ],
   "source": [
    "ds.info_table()"
   ]
  },
  {
   "cell_type": "markdown",
   "id": "9bc00d4a",
   "metadata": {},
   "source": [
    "## 2. Version History"
   ]
  },
  {
   "cell_type": "code",
   "execution_count": 4,
   "id": "000455e1",
   "metadata": {
    "execution": {
     "iopub.execute_input": "2025-07-28T20:11:42.055617Z",
     "iopub.status.busy": "2025-07-28T20:11:42.054621Z",
     "iopub.status.idle": "2025-07-28T20:11:47.626962Z",
     "shell.execute_reply": "2025-07-28T20:11:47.625430Z"
    },
    "tags": [
     "remove-input"
    ]
   },
   "outputs": [
    {
     "data": {
      "text/html": [
       "<style type=\"text/css\">\n",
       "#T_a368d th {\n",
       "  text-align: left;\n",
       "}\n",
       "#T_a368d_row0_col0, #T_a368d_row0_col1, #T_a368d_row1_col0, #T_a368d_row1_col1, #T_a368d_row2_col0, #T_a368d_row2_col1, #T_a368d_row3_col0, #T_a368d_row3_col1, #T_a368d_row4_col0, #T_a368d_row4_col1 {\n",
       "  text-align: left;\n",
       "}\n",
       "</style>\n",
       "<table id=\"T_a368d\" style=\"font-size: 14px\">\n",
       "  <thead>\n",
       "    <tr>\n",
       "      <th id=\"T_a368d_level0_col0\" class=\"col_heading level0 col0\" >Version</th>\n",
       "      <th id=\"T_a368d_level0_col1\" class=\"col_heading level0 col1\" >1</th>\n",
       "    </tr>\n",
       "  </thead>\n",
       "  <tbody>\n",
       "    <tr>\n",
       "      <td id=\"T_a368d_row0_col0\" class=\"data row0 col0\" >Version Date</td>\n",
       "      <td id=\"T_a368d_row0_col1\" class=\"data row0 col1\" >01 Nov 2021</td>\n",
       "    </tr>\n",
       "    <tr>\n",
       "      <td id=\"T_a368d_row1_col0\" class=\"data row1 col0\" >Number of Variables</td>\n",
       "      <td id=\"T_a368d_row1_col1\" class=\"data row1 col1\" >219</td>\n",
       "    </tr>\n",
       "    <tr>\n",
       "      <td id=\"T_a368d_row2_col0\" class=\"data row2 col0\" >Number of Observations</td>\n",
       "      <td id=\"T_a368d_row2_col1\" class=\"data row2 col1\" >3009</td>\n",
       "    </tr>\n",
       "    <tr>\n",
       "      <td id=\"T_a368d_row3_col0\" class=\"data row3 col0\" >DOI</td>\n",
       "      <td id=\"T_a368d_row3_col1\" class=\"data row3 col1\" > <a href=\"https://doi.org/10.71760/ukllc-dataset-00293-01\" rel=\"noopener noreferrer\" target=\"_blank\">10.71760/ukllc-dataset-00293-01</a></td>\n",
       "    </tr>\n",
       "    <tr>\n",
       "      <td id=\"T_a368d_row4_col0\" class=\"data row4 col0\" >Change Log</td>\n",
       "      <td id=\"T_a368d_row4_col1\" class=\"data row4 col1\" > <a href=\"https://api.test.datacite.org/dois/10.71760/ukllc-dataset-00293-01/activities\" rel=\"noopener noreferrer\" target=\"_blank\">10.71760/ukllc-dataset-00293-01/activities</a></td>\n",
       "    </tr>\n",
       "  </tbody>\n",
       "</table>\n"
      ],
      "text/plain": [
       "<pandas.io.formats.style.Styler at 0x1e56e79ff50>"
      ]
     },
     "execution_count": 4,
     "metadata": {},
     "output_type": "execute_result"
    }
   ],
   "source": [
    "ds.version_history()"
   ]
  },
  {
   "cell_type": "markdown",
   "id": "d7897270",
   "metadata": {},
   "source": [
    "## 3. Documentation"
   ]
  },
  {
   "cell_type": "code",
   "execution_count": 5,
   "id": "556b1b4e",
   "metadata": {
    "execution": {
     "iopub.execute_input": "2025-07-28T20:11:47.635974Z",
     "iopub.status.busy": "2025-07-28T20:11:47.635974Z",
     "iopub.status.idle": "2025-07-28T20:11:47.647813Z",
     "shell.execute_reply": "2025-07-28T20:11:47.645964Z"
    },
    "tags": [
     "remove-input"
    ]
   },
   "outputs": [
    {
     "data": {
      "text/markdown": [
       "We are currently building a documentation storage system which will host useful documents related to datasets and data owners. We will surface these documents on Guidebook."
      ],
      "text/plain": [
       "<IPython.core.display.Markdown object>"
      ]
     },
     "metadata": {},
     "output_type": "display_data"
    }
   ],
   "source": [
    "ds.documentation()"
   ]
  },
  {
   "cell_type": "markdown",
   "id": "84709e2c",
   "metadata": {},
   "source": [
    "## 4. Useful Syntax"
   ]
  },
  {
   "cell_type": "code",
   "execution_count": 6,
   "id": "5e81f6c5",
   "metadata": {
    "execution": {
     "iopub.execute_input": "2025-07-28T20:11:47.655437Z",
     "iopub.status.busy": "2025-07-28T20:11:47.655437Z",
     "iopub.status.idle": "2025-07-28T20:11:47.666329Z",
     "shell.execute_reply": "2025-07-28T20:11:47.665312Z"
    },
    "tags": [
     "remove-input"
    ]
   },
   "outputs": [
    {
     "data": {
      "text/markdown": [
       "Below we will include syntax that may be helpful to other researchers in the UK LLC TRE. For longer scripts, we will include a snippet of the code plus a link to Git where you can find the full scripts."
      ],
      "text/plain": [
       "<IPython.core.display.Markdown object>"
      ]
     },
     "metadata": {},
     "output_type": "display_data"
    }
   ],
   "source": [
    "ds.useful_syntax()"
   ]
  }
 ],
 "metadata": {
  "language_info": {
   "codemirror_mode": {
    "name": "ipython",
    "version": 3
   },
   "file_extension": ".py",
   "mimetype": "text/x-python",
   "name": "python",
   "nbconvert_exporter": "python",
   "pygments_lexer": "ipython3",
   "version": "3.12.7"
  }
 },
 "nbformat": 4,
 "nbformat_minor": 5
}
