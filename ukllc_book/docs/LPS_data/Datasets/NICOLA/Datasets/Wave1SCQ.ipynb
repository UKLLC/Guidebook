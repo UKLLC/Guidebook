{
 "cells": [
  {
   "cell_type": "markdown",
   "id": "e9516198",
   "metadata": {},
   "source": [
    "# Wave 1 Self-completion Questionnaire (SCQ) (NICOLA)"
   ]
  },
  {
   "cell_type": "code",
   "execution_count": 1,
   "id": "5b7bd037",
   "metadata": {
    "execution": {
     "iopub.execute_input": "2025-07-28T20:12:51.204666Z",
     "iopub.status.busy": "2025-07-28T20:12:51.203664Z",
     "iopub.status.idle": "2025-07-28T20:13:04.181003Z",
     "shell.execute_reply": "2025-07-28T20:13:04.177984Z"
    },
    "tags": [
     "remove-input"
    ]
   },
   "outputs": [
    {
     "data": {
      "text/markdown": [
       ">Last modified: 28 Jul 2025"
      ],
      "text/plain": [
       "<IPython.core.display.Markdown object>"
      ]
     },
     "metadata": {},
     "output_type": "display_data"
    }
   ],
   "source": [
    "\n",
    "import sys\n",
    "import os\n",
    "sys.path.append(os.path.abspath('../../../../scripts/'))\n",
    "from data_doc_helper import LPSDataSet as DS, last_modified\n",
    "API_KEY = os.environ['FASTAPI_KEY']\n",
    "ds = DS(\"NICOLA\", \"Wave1SCQ\")\n",
    "last_modified()\n"
   ]
  },
  {
   "cell_type": "markdown",
   "id": "1c69d156",
   "metadata": {},
   "source": [
    "## 1. Summary"
   ]
  },
  {
   "cell_type": "code",
   "execution_count": 2,
   "id": "8530a56a",
   "metadata": {
    "execution": {
     "iopub.execute_input": "2025-07-28T20:13:04.191060Z",
     "iopub.status.busy": "2025-07-28T20:13:04.189720Z",
     "iopub.status.idle": "2025-07-28T20:13:04.206073Z",
     "shell.execute_reply": "2025-07-28T20:13:04.203363Z"
    },
    "tags": [
     "remove-input"
    ]
   },
   "outputs": [
    {
     "data": {
      "text/markdown": [
       "All participants in Wave 1 were given a self-completion questionnaire to complete and return it by post. The questions covered 12 topics including measures of loneliness, disability, computer use, life events/trauma/stress, physical and mental health measures, physical activity (RPAQ) and  measure of personality."
      ],
      "text/plain": [
       "<IPython.core.display.Markdown object>"
      ]
     },
     "metadata": {},
     "output_type": "display_data"
    }
   ],
   "source": [
    "ds.summary()"
   ]
  },
  {
   "cell_type": "code",
   "execution_count": 3,
   "id": "d98c3e1d",
   "metadata": {
    "execution": {
     "iopub.execute_input": "2025-07-28T20:13:04.213302Z",
     "iopub.status.busy": "2025-07-28T20:13:04.212302Z",
     "iopub.status.idle": "2025-07-28T20:13:06.053605Z",
     "shell.execute_reply": "2025-07-28T20:13:06.050585Z"
    },
    "tags": [
     "remove-input"
    ]
   },
   "outputs": [
    {
     "data": {
      "text/html": [
       "<style type=\"text/css\">\n",
       "#T_eb50f th {\n",
       "  text-align: left;\n",
       "}\n",
       "#T_eb50f_row0_col0, #T_eb50f_row0_col1, #T_eb50f_row1_col0, #T_eb50f_row1_col1, #T_eb50f_row2_col0, #T_eb50f_row2_col1, #T_eb50f_row3_col0, #T_eb50f_row3_col1, #T_eb50f_row4_col0, #T_eb50f_row4_col1, #T_eb50f_row5_col0, #T_eb50f_row5_col1, #T_eb50f_row6_col0, #T_eb50f_row6_col1, #T_eb50f_row7_col0, #T_eb50f_row7_col1, #T_eb50f_row8_col0, #T_eb50f_row8_col1, #T_eb50f_row9_col0, #T_eb50f_row9_col1, #T_eb50f_row10_col0, #T_eb50f_row10_col1, #T_eb50f_row11_col0, #T_eb50f_row11_col1, #T_eb50f_row12_col0, #T_eb50f_row12_col1 {\n",
       "  text-align: left;\n",
       "}\n",
       "</style>\n",
       "<table id=\"T_eb50f\" style=\"font-size: 14px\">\n",
       "  <thead>\n",
       "    <tr>\n",
       "      <th id=\"T_eb50f_level0_col0\" class=\"col_heading level0 col0\" >Dataset Descriptor</th>\n",
       "      <th id=\"T_eb50f_level0_col1\" class=\"col_heading level0 col1\" >Dataset-specific Information</th>\n",
       "    </tr>\n",
       "  </thead>\n",
       "  <tbody>\n",
       "    <tr>\n",
       "      <td id=\"T_eb50f_row0_col0\" class=\"data row0 col0\" >Name of Dataset in TRE</td>\n",
       "      <td id=\"T_eb50f_row0_col1\" class=\"data row0 col1\" >NICOLA_Wave1SCQ</td>\n",
       "    </tr>\n",
       "    <tr>\n",
       "      <td id=\"T_eb50f_row1_col0\" class=\"data row1 col0\" >Citation (APA)</td>\n",
       "      <td id=\"T_eb50f_row1_col1\" class=\"data row1 col1\" >Queen's University Belfast,  School of Medicine, Dentistry and Biomedical Sciences, Centre for Public Health. (2021). <i>NICOLA: The Northern Ireland Longitudinal Study of Ageing: Wave 1 Self-completion Questionnaire (SCQ).</i> UK Longitudinal Linkage Collaboration (UK LLC).  <a href=\"https://doi.org/10.71760/ukllc-dataset-00296-01\" rel=\"noopener noreferrer\" target=\"_blank\">https://doi.org/10.71760/ukllc-dataset-00296-01</a></td>\n",
       "    </tr>\n",
       "    <tr>\n",
       "      <td id=\"T_eb50f_row2_col0\" class=\"data row2 col0\" >Download Citation</td>\n",
       "      <td id=\"T_eb50f_row2_col1\" class=\"data row2 col1\" > <a href=\"https://api.datacite.org/application/vnd.citationstyles.csl+json/10.71760/ukllc-dataset-00296-01\" rel=\"noopener noreferrer\" target=\"_blank\">Citeproc JSON</a>&nbsp;&nbsp;&nbsp;&nbsp; <a href=\"https://api.datacite.org/application/x-bibtex/10.71760/ukllc-dataset-00296-01\" rel=\"noopener noreferrer\" target=\"_blank\">BibTeX</a>&nbsp;&nbsp;&nbsp;&nbsp; <a href=\"https://api.datacite.org/application/x-research-info-systems/10.71760/ukllc-dataset-00296-01\" rel=\"noopener noreferrer\" target=\"_blank\">RIS</a></td>\n",
       "    </tr>\n",
       "    <tr>\n",
       "      <td id=\"T_eb50f_row3_col0\" class=\"data row3 col0\" >Series</td>\n",
       "      <td id=\"T_eb50f_row3_col1\" class=\"data row3 col1\" > <a href=\"https://guidebook.ukllc.ac.uk/docs/lps_data/lps%20profiles/NICOLA\">NICOLA: The Northern Ireland Longitudinal Study of Ageing</a></td>\n",
       "    </tr>\n",
       "    <tr>\n",
       "      <td id=\"T_eb50f_row4_col0\" class=\"data row4 col0\" >Owner</td>\n",
       "      <td id=\"T_eb50f_row4_col1\" class=\"data row4 col1\" >Queen's University Belfast</td>\n",
       "    </tr>\n",
       "    <tr>\n",
       "      <td id=\"T_eb50f_row5_col0\" class=\"data row5 col0\" >Temporal Coverage</td>\n",
       "      <td id=\"T_eb50f_row5_col1\" class=\"data row5 col1\" >12/2013 - 07/2016</td>\n",
       "    </tr>\n",
       "    <tr>\n",
       "      <td id=\"T_eb50f_row6_col0\" class=\"data row6 col0\" >Keywords</td>\n",
       "      <td id=\"T_eb50f_row6_col1\" class=\"data row6 col1\" ></td>\n",
       "    </tr>\n",
       "    <tr>\n",
       "      <td id=\"T_eb50f_row7_col0\" class=\"data row7 col0\" >Participants Invited</td>\n",
       "      <td id=\"T_eb50f_row7_col1\" class=\"data row7 col1\" >5032</td>\n",
       "    </tr>\n",
       "    <tr>\n",
       "      <td id=\"T_eb50f_row8_col0\" class=\"data row8 col0\" >Participant Count</td>\n",
       "      <td id=\"T_eb50f_row8_col1\" class=\"data row8 col1\" >3415</td>\n",
       "    </tr>\n",
       "    <tr>\n",
       "      <td id=\"T_eb50f_row9_col0\" class=\"data row9 col0\" >Number of variables</td>\n",
       "      <td id=\"T_eb50f_row9_col1\" class=\"data row9 col1\" >321</td>\n",
       "    </tr>\n",
       "    <tr>\n",
       "      <td id=\"T_eb50f_row10_col0\" class=\"data row10 col0\" >Number of observations</td>\n",
       "      <td id=\"T_eb50f_row10_col1\" class=\"data row10 col1\" >3415</td>\n",
       "    </tr>\n",
       "    <tr>\n",
       "      <td id=\"T_eb50f_row11_col0\" class=\"data row11 col0\" >Specific Restrictions to Data Use</td>\n",
       "      <td id=\"T_eb50f_row11_col1\" class=\"data row11 col1\" >None</td>\n",
       "    </tr>\n",
       "    <tr>\n",
       "      <td id=\"T_eb50f_row12_col0\" class=\"data row12 col0\" >Build a Data Request</td>\n",
       "      <td id=\"T_eb50f_row12_col1\" class=\"data row12 col1\" > <a href=\"https://explore.ukllc.ac.uk/\" rel=\"noopener noreferrer\" target=\"_blank\">https://explore.ukllc.ac.uk/</a></td>\n",
       "    </tr>\n",
       "  </tbody>\n",
       "</table>\n"
      ],
      "text/plain": [
       "<pandas.io.formats.style.Styler at 0x16d69cb2cc0>"
      ]
     },
     "execution_count": 3,
     "metadata": {},
     "output_type": "execute_result"
    }
   ],
   "source": [
    "ds.info_table()"
   ]
  },
  {
   "cell_type": "markdown",
   "id": "32b0f84b",
   "metadata": {},
   "source": [
    "## 2. Version History"
   ]
  },
  {
   "cell_type": "code",
   "execution_count": 4,
   "id": "8eb4b425",
   "metadata": {
    "execution": {
     "iopub.execute_input": "2025-07-28T20:13:06.061902Z",
     "iopub.status.busy": "2025-07-28T20:13:06.060887Z",
     "iopub.status.idle": "2025-07-28T20:13:21.016591Z",
     "shell.execute_reply": "2025-07-28T20:13:21.014575Z"
    },
    "tags": [
     "remove-input"
    ]
   },
   "outputs": [
    {
     "data": {
      "text/html": [
       "<style type=\"text/css\">\n",
       "#T_0bbb4 th {\n",
       "  text-align: left;\n",
       "}\n",
       "#T_0bbb4_row0_col0, #T_0bbb4_row0_col1, #T_0bbb4_row1_col0, #T_0bbb4_row1_col1, #T_0bbb4_row2_col0, #T_0bbb4_row2_col1, #T_0bbb4_row3_col0, #T_0bbb4_row3_col1, #T_0bbb4_row4_col0, #T_0bbb4_row4_col1 {\n",
       "  text-align: left;\n",
       "}\n",
       "</style>\n",
       "<table id=\"T_0bbb4\" style=\"font-size: 14px\">\n",
       "  <thead>\n",
       "    <tr>\n",
       "      <th id=\"T_0bbb4_level0_col0\" class=\"col_heading level0 col0\" >Version</th>\n",
       "      <th id=\"T_0bbb4_level0_col1\" class=\"col_heading level0 col1\" >1</th>\n",
       "    </tr>\n",
       "  </thead>\n",
       "  <tbody>\n",
       "    <tr>\n",
       "      <td id=\"T_0bbb4_row0_col0\" class=\"data row0 col0\" >Version Date</td>\n",
       "      <td id=\"T_0bbb4_row0_col1\" class=\"data row0 col1\" >01 Nov 2021</td>\n",
       "    </tr>\n",
       "    <tr>\n",
       "      <td id=\"T_0bbb4_row1_col0\" class=\"data row1 col0\" >Number of Variables</td>\n",
       "      <td id=\"T_0bbb4_row1_col1\" class=\"data row1 col1\" >321</td>\n",
       "    </tr>\n",
       "    <tr>\n",
       "      <td id=\"T_0bbb4_row2_col0\" class=\"data row2 col0\" >Number of Observations</td>\n",
       "      <td id=\"T_0bbb4_row2_col1\" class=\"data row2 col1\" >3415</td>\n",
       "    </tr>\n",
       "    <tr>\n",
       "      <td id=\"T_0bbb4_row3_col0\" class=\"data row3 col0\" >DOI</td>\n",
       "      <td id=\"T_0bbb4_row3_col1\" class=\"data row3 col1\" > <a href=\"https://doi.org/10.71760/ukllc-dataset-00296-01\" rel=\"noopener noreferrer\" target=\"_blank\">10.71760/ukllc-dataset-00296-01</a></td>\n",
       "    </tr>\n",
       "    <tr>\n",
       "      <td id=\"T_0bbb4_row4_col0\" class=\"data row4 col0\" >Change Log</td>\n",
       "      <td id=\"T_0bbb4_row4_col1\" class=\"data row4 col1\" > <a href=\"https://api.test.datacite.org/dois/10.71760/ukllc-dataset-00296-01/activities\" rel=\"noopener noreferrer\" target=\"_blank\">10.71760/ukllc-dataset-00296-01/activities</a></td>\n",
       "    </tr>\n",
       "  </tbody>\n",
       "</table>\n"
      ],
      "text/plain": [
       "<pandas.io.formats.style.Styler at 0x16d6f71be00>"
      ]
     },
     "execution_count": 4,
     "metadata": {},
     "output_type": "execute_result"
    }
   ],
   "source": [
    "ds.version_history()"
   ]
  },
  {
   "cell_type": "markdown",
   "id": "bc1ae0b3",
   "metadata": {},
   "source": [
    "## 3. Documentation"
   ]
  },
  {
   "cell_type": "code",
   "execution_count": 5,
   "id": "8928f6df",
   "metadata": {
    "execution": {
     "iopub.execute_input": "2025-07-28T20:13:21.024641Z",
     "iopub.status.busy": "2025-07-28T20:13:21.023593Z",
     "iopub.status.idle": "2025-07-28T20:13:21.036152Z",
     "shell.execute_reply": "2025-07-28T20:13:21.034123Z"
    },
    "tags": [
     "remove-input"
    ]
   },
   "outputs": [
    {
     "data": {
      "text/markdown": [
       "We are currently building a documentation storage system which will host useful documents related to datasets and data owners. We will surface these documents on Guidebook."
      ],
      "text/plain": [
       "<IPython.core.display.Markdown object>"
      ]
     },
     "metadata": {},
     "output_type": "display_data"
    }
   ],
   "source": [
    "ds.documentation()"
   ]
  },
  {
   "cell_type": "markdown",
   "id": "552fbeea",
   "metadata": {},
   "source": [
    "## 4. Useful Syntax"
   ]
  },
  {
   "cell_type": "code",
   "execution_count": 6,
   "id": "b3e37d9e",
   "metadata": {
    "execution": {
     "iopub.execute_input": "2025-07-28T20:13:21.044166Z",
     "iopub.status.busy": "2025-07-28T20:13:21.043166Z",
     "iopub.status.idle": "2025-07-28T20:13:21.056193Z",
     "shell.execute_reply": "2025-07-28T20:13:21.054679Z"
    },
    "tags": [
     "remove-input"
    ]
   },
   "outputs": [
    {
     "data": {
      "text/markdown": [
       "Below we will include syntax that may be helpful to other researchers in the UK LLC TRE. For longer scripts, we will include a snippet of the code plus a link to Git where you can find the full scripts."
      ],
      "text/plain": [
       "<IPython.core.display.Markdown object>"
      ]
     },
     "metadata": {},
     "output_type": "display_data"
    }
   ],
   "source": [
    "ds.useful_syntax()"
   ]
  }
 ],
 "metadata": {
  "language_info": {
   "codemirror_mode": {
    "name": "ipython",
    "version": 3
   },
   "file_extension": ".py",
   "mimetype": "text/x-python",
   "name": "python",
   "nbconvert_exporter": "python",
   "pygments_lexer": "ipython3",
   "version": "3.12.7"
  }
 },
 "nbformat": 4,
 "nbformat_minor": 5
}
