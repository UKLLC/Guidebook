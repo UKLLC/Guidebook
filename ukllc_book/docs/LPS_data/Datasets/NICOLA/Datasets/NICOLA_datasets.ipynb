{
 "cells": [
  {
   "cell_type": "markdown",
   "id": "53dd7120",
   "metadata": {},
   "source": [
    "# NICOLA: The Northern Ireland Longitudinal Study of Ageing Datasets"
   ]
  },
  {
   "cell_type": "code",
   "execution_count": null,
   "id": "11e81543",
   "metadata": {
    "tags": [
     "remove-input"
    ]
   },
   "outputs": [],
   "source": [
    "\n",
    "import sys\n",
    "import os\n",
    "sys.path.append(os.path.abspath('../../../../scripts/'))\n",
    "from data_doc_helper import LPSSource as SS, last_modified\n",
    "API_KEY = os.environ['FASTAPI_KEY']\n",
    "ss = SS(\"NICOLA\")\n",
    "last_modified()\n"
   ]
  },
  {
   "cell_type": "markdown",
   "id": "4a9f01f2",
   "metadata": {},
   "source": [
    "## 1. Datasets"
   ]
  },
  {
   "cell_type": "code",
   "execution_count": null,
   "id": "5b189322",
   "metadata": {
    "tags": [
     "remove-input"
    ]
   },
   "outputs": [],
   "source": [
    "ss.table_caption_ds()"
   ]
  },
  {
   "cell_type": "code",
   "execution_count": null,
   "id": "06a39352",
   "metadata": {
    "tags": [
     "remove-input",
     "hide-cell"
    ]
   },
   "outputs": [],
   "source": [
    "ss.datasets()"
   ]
  }
 ],
 "metadata": {
  "mystnb": {
   "code_prompt_hide": "Hide Datasets",
   "code_prompt_show": "Show Datasets"
  }
 },
 "nbformat": 4,
 "nbformat_minor": 5
}
