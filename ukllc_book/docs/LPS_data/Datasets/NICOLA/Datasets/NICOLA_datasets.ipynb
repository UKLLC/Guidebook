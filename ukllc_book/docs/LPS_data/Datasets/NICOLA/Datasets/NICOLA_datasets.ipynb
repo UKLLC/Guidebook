{
 "cells": [
  {
   "cell_type": "markdown",
   "id": "53dd7120",
   "metadata": {},
   "source": [
    "# NICOLA: The Northern Ireland Longitudinal Study of Ageing Datasets"
   ]
  },
  {
   "cell_type": "code",
   "execution_count": 1,
   "id": "11e81543",
   "metadata": {
    "execution": {
     "iopub.execute_input": "2025-07-28T20:11:51.096667Z",
     "iopub.status.busy": "2025-07-28T20:11:51.096667Z",
     "iopub.status.idle": "2025-07-28T20:11:55.740435Z",
     "shell.execute_reply": "2025-07-28T20:11:55.739417Z"
    },
    "tags": [
     "remove-input"
    ]
   },
   "outputs": [
    {
     "data": {
      "text/markdown": [
       ">Last modified: 28 Jul 2025"
      ],
      "text/plain": [
       "<IPython.core.display.Markdown object>"
      ]
     },
     "metadata": {},
     "output_type": "display_data"
    }
   ],
   "source": [
    "\n",
    "import sys\n",
    "import os\n",
    "sys.path.append(os.path.abspath('../../../../scripts/'))\n",
    "from data_doc_helper import LPSSource as SS, last_modified\n",
    "API_KEY = os.environ['FASTAPI_KEY']\n",
    "ss = SS(\"NICOLA\")\n",
    "last_modified()\n"
   ]
  },
  {
   "cell_type": "markdown",
   "id": "4a9f01f2",
   "metadata": {},
   "source": [
    "## 1. Datasets"
   ]
  },
  {
   "cell_type": "code",
   "execution_count": 2,
   "id": "5b189322",
   "metadata": {
    "execution": {
     "iopub.execute_input": "2025-07-28T20:11:55.748432Z",
     "iopub.status.busy": "2025-07-28T20:11:55.747433Z",
     "iopub.status.idle": "2025-07-28T20:11:55.758577Z",
     "shell.execute_reply": "2025-07-28T20:11:55.757562Z"
    },
    "tags": [
     "remove-input"
    ]
   },
   "outputs": [
    {
     "data": {
      "text/markdown": [
       "**Table 1:** Datasets and metrics in the UK LLC belonging to NICOLA."
      ],
      "text/plain": [
       "<IPython.core.display.Markdown object>"
      ]
     },
     "metadata": {},
     "output_type": "display_data"
    }
   ],
   "source": [
    "ss.table_caption_ds()"
   ]
  },
  {
   "cell_type": "code",
   "execution_count": 3,
   "id": "06a39352",
   "metadata": {
    "execution": {
     "iopub.execute_input": "2025-07-28T20:11:55.766104Z",
     "iopub.status.busy": "2025-07-28T20:11:55.765105Z",
     "iopub.status.idle": "2025-07-28T20:11:58.268326Z",
     "shell.execute_reply": "2025-07-28T20:11:58.265795Z"
    },
    "tags": [
     "remove-input",
     "hide-cell"
    ]
   },
   "outputs": [
    {
     "data": {
      "text/html": [
       "<style type=\"text/css\">\n",
       "#T_d3df4 th {\n",
       "  text-align: left;\n",
       "}\n",
       "#T_d3df4_row0_col0, #T_d3df4_row0_col1, #T_d3df4_row0_col2, #T_d3df4_row0_col3, #T_d3df4_row0_col4, #T_d3df4_row1_col0, #T_d3df4_row1_col1, #T_d3df4_row1_col2, #T_d3df4_row1_col3, #T_d3df4_row1_col4, #T_d3df4_row2_col0, #T_d3df4_row2_col1, #T_d3df4_row2_col2, #T_d3df4_row2_col3, #T_d3df4_row2_col4, #T_d3df4_row3_col0, #T_d3df4_row3_col1, #T_d3df4_row3_col2, #T_d3df4_row3_col3, #T_d3df4_row3_col4, #T_d3df4_row4_col0, #T_d3df4_row4_col1, #T_d3df4_row4_col2, #T_d3df4_row4_col3, #T_d3df4_row4_col4 {\n",
       "  text-align: left;\n",
       "}\n",
       "</style>\n",
       "<table id=\"T_d3df4\" style=\"font-size: 14px\">\n",
       "  <thead>\n",
       "    <tr>\n",
       "      <th id=\"T_d3df4_level0_col0\" class=\"col_heading level0 col0\" >Dataset</th>\n",
       "      <th id=\"T_d3df4_level0_col1\" class=\"col_heading level0 col1\" >Dataset Name</th>\n",
       "      <th id=\"T_d3df4_level0_col2\" class=\"col_heading level0 col2\" ># Participants</th>\n",
       "      <th id=\"T_d3df4_level0_col3\" class=\"col_heading level0 col3\" ># Observations</th>\n",
       "      <th id=\"T_d3df4_level0_col4\" class=\"col_heading level0 col4\" ># Variables</th>\n",
       "    </tr>\n",
       "  </thead>\n",
       "  <tbody>\n",
       "    <tr>\n",
       "      <td id=\"T_d3df4_row0_col0\" class=\"data row0 col0\" > <a href=\"Covid_19Questionnaire.html\">Covid_19Questionnaire</a></td>\n",
       "      <td id=\"T_d3df4_row0_col1\" class=\"data row0 col1\" >COVID-19 Questionnaire</td>\n",
       "      <td id=\"T_d3df4_row0_col2\" class=\"data row0 col2\" >3009</td>\n",
       "      <td id=\"T_d3df4_row0_col3\" class=\"data row0 col3\" >3009</td>\n",
       "      <td id=\"T_d3df4_row0_col4\" class=\"data row0 col4\" >219</td>\n",
       "    </tr>\n",
       "    <tr>\n",
       "      <td id=\"T_d3df4_row1_col0\" class=\"data row1 col0\" > <a href=\"Wave1CAPI.html\">Wave1CAPI</a></td>\n",
       "      <td id=\"T_d3df4_row1_col1\" class=\"data row1 col1\" >Wave 1 Computer Assisted Personal Interview (CAPI)</td>\n",
       "      <td id=\"T_d3df4_row1_col2\" class=\"data row1 col2\" >5034</td>\n",
       "      <td id=\"T_d3df4_row1_col3\" class=\"data row1 col3\" >5721</td>\n",
       "      <td id=\"T_d3df4_row1_col4\" class=\"data row1 col4\" >857</td>\n",
       "    </tr>\n",
       "    <tr>\n",
       "      <td id=\"T_d3df4_row2_col0\" class=\"data row2 col0\" > <a href=\"Wave1HA.html\">Wave1HA</a></td>\n",
       "      <td id=\"T_d3df4_row2_col1\" class=\"data row2 col1\" >Wave 1 Health Assessment (HA)</td>\n",
       "      <td id=\"T_d3df4_row2_col2\" class=\"data row2 col2\" >2864</td>\n",
       "      <td id=\"T_d3df4_row2_col3\" class=\"data row2 col3\" >2864</td>\n",
       "      <td id=\"T_d3df4_row2_col4\" class=\"data row2 col4\" >214</td>\n",
       "    </tr>\n",
       "    <tr>\n",
       "      <td id=\"T_d3df4_row3_col0\" class=\"data row3 col0\" > <a href=\"Wave1SCQ.html\">Wave1SCQ</a></td>\n",
       "      <td id=\"T_d3df4_row3_col1\" class=\"data row3 col1\" >Wave 1 Self-completion Questionnaire (SCQ)</td>\n",
       "      <td id=\"T_d3df4_row3_col2\" class=\"data row3 col2\" >3415</td>\n",
       "      <td id=\"T_d3df4_row3_col3\" class=\"data row3 col3\" >3415</td>\n",
       "      <td id=\"T_d3df4_row3_col4\" class=\"data row3 col4\" >321</td>\n",
       "    </tr>\n",
       "    <tr>\n",
       "      <td id=\"T_d3df4_row4_col0\" class=\"data row4 col0\" > <a href=\"Wave2CAPI.html\">Wave2CAPI</a></td>\n",
       "      <td id=\"T_d3df4_row4_col1\" class=\"data row4 col1\" >Wave 2 Computer Assisted Personal Interview (CAPI)</td>\n",
       "      <td id=\"T_d3df4_row4_col2\" class=\"data row4 col2\" >5245</td>\n",
       "      <td id=\"T_d3df4_row4_col3\" class=\"data row4 col3\" >5942</td>\n",
       "      <td id=\"T_d3df4_row4_col4\" class=\"data row4 col4\" >602</td>\n",
       "    </tr>\n",
       "  </tbody>\n",
       "</table>\n"
      ],
      "text/plain": [
       "<pandas.io.formats.style.Styler at 0x2452f5f1a60>"
      ]
     },
     "execution_count": 3,
     "metadata": {},
     "output_type": "execute_result"
    }
   ],
   "source": [
    "ss.datasets()"
   ]
  }
 ],
 "metadata": {
  "language_info": {
   "codemirror_mode": {
    "name": "ipython",
    "version": 3
   },
   "file_extension": ".py",
   "mimetype": "text/x-python",
   "name": "python",
   "nbconvert_exporter": "python",
   "pygments_lexer": "ipython3",
   "version": "3.12.7"
  },
  "mystnb": {
   "code_prompt_hide": "Hide Datasets",
   "code_prompt_show": "Show Datasets"
  }
 },
 "nbformat": 4,
 "nbformat_minor": 5
}
