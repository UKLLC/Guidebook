{
 "cells": [
  {
   "cell_type": "markdown",
   "id": "8ed148bf",
   "metadata": {},
   "source": [
    "# Wave 2 Computer Assisted Personal Interview (CAPI) (NICOLA)"
   ]
  },
  {
   "cell_type": "code",
   "execution_count": 1,
   "id": "0f0ffcaa",
   "metadata": {
    "execution": {
     "iopub.execute_input": "2025-07-18T10:23:01.267943Z",
     "iopub.status.busy": "2025-07-18T10:23:01.267943Z",
     "iopub.status.idle": "2025-07-18T10:23:08.964324Z",
     "shell.execute_reply": "2025-07-18T10:23:08.964324Z"
    },
    "tags": [
     "remove-input"
    ]
   },
   "outputs": [
    {
     "data": {
      "text/markdown": [
       ">Last modified: 18 Jul 2025"
      ],
      "text/plain": [
       "<IPython.core.display.Markdown object>"
      ]
     },
     "metadata": {},
     "output_type": "display_data"
    }
   ],
   "source": [
    "\n",
    "import sys\n",
    "import os\n",
    "sys.path.append(os.path.abspath('../../../../scripts/'))\n",
    "from data_doc_helper import LPSDataSet as DS, last_modified\n",
    "API_KEY = os.environ['FASTAPI_KEY']\n",
    "ds = DS(\"NICOLA\", \"Wave2CAPI\")\n",
    "last_modified()\n"
   ]
  },
  {
   "cell_type": "markdown",
   "id": "962de8e9",
   "metadata": {},
   "source": [
    "## 1. Summary"
   ]
  },
  {
   "cell_type": "code",
   "execution_count": 2,
   "id": "9dfa230d",
   "metadata": {
    "execution": {
     "iopub.execute_input": "2025-07-18T10:23:08.969333Z",
     "iopub.status.busy": "2025-07-18T10:23:08.969333Z",
     "iopub.status.idle": "2025-07-18T10:23:08.980245Z",
     "shell.execute_reply": "2025-07-18T10:23:08.978335Z"
    },
    "tags": [
     "remove-input"
    ]
   },
   "outputs": [
    {
     "data": {
      "text/markdown": [
       "Participants who took part in Wave 1 were invited to take part in the Wave 2 face-to-face CAPI"
      ],
      "text/plain": [
       "<IPython.core.display.Markdown object>"
      ]
     },
     "metadata": {},
     "output_type": "display_data"
    }
   ],
   "source": [
    "ds.summary()"
   ]
  },
  {
   "cell_type": "code",
   "execution_count": 3,
   "id": "dfe13e5b",
   "metadata": {
    "execution": {
     "iopub.execute_input": "2025-07-18T10:23:08.985258Z",
     "iopub.status.busy": "2025-07-18T10:23:08.985258Z",
     "iopub.status.idle": "2025-07-18T10:23:10.191040Z",
     "shell.execute_reply": "2025-07-18T10:23:10.189525Z"
    },
    "tags": [
     "remove-input"
    ]
   },
   "outputs": [
    {
     "data": {
      "text/html": [
       "<style type=\"text/css\">\n",
       "#T_ec78c th {\n",
       "  text-align: left;\n",
       "}\n",
       "#T_ec78c_row0_col0, #T_ec78c_row0_col1, #T_ec78c_row1_col0, #T_ec78c_row1_col1, #T_ec78c_row2_col0, #T_ec78c_row2_col1, #T_ec78c_row3_col0, #T_ec78c_row3_col1, #T_ec78c_row4_col0, #T_ec78c_row4_col1, #T_ec78c_row5_col0, #T_ec78c_row5_col1, #T_ec78c_row6_col0, #T_ec78c_row6_col1, #T_ec78c_row7_col0, #T_ec78c_row7_col1, #T_ec78c_row8_col0, #T_ec78c_row8_col1, #T_ec78c_row9_col0, #T_ec78c_row9_col1, #T_ec78c_row10_col0, #T_ec78c_row10_col1, #T_ec78c_row11_col0, #T_ec78c_row11_col1, #T_ec78c_row12_col0, #T_ec78c_row12_col1 {\n",
       "  text-align: left;\n",
       "}\n",
       "</style>\n",
       "<table id=\"T_ec78c\" style=\"font-size: 14px\">\n",
       "  <thead>\n",
       "    <tr>\n",
       "      <th id=\"T_ec78c_level0_col0\" class=\"col_heading level0 col0\" >Dataset Descriptor</th>\n",
       "      <th id=\"T_ec78c_level0_col1\" class=\"col_heading level0 col1\" >Dataset-specific Information</th>\n",
       "    </tr>\n",
       "  </thead>\n",
       "  <tbody>\n",
       "    <tr>\n",
       "      <td id=\"T_ec78c_row0_col0\" class=\"data row0 col0\" >Name of Dataset in TRE</td>\n",
       "      <td id=\"T_ec78c_row0_col1\" class=\"data row0 col1\" >NICOLA_Wave2CAPI</td>\n",
       "    </tr>\n",
       "    <tr>\n",
       "      <td id=\"T_ec78c_row1_col0\" class=\"data row1 col0\" >Citation (APA)</td>\n",
       "      <td id=\"T_ec78c_row1_col1\" class=\"data row1 col1\" >Queen’s University Belfast,  School of Medicine, Dentistry and Biomedical Sciences, Centre for Public Health. (2022). <i>NICOLA: The Northern Ireland Longitudinal Study of Ageing: Wave 2 Computer Assisted Personal Interview (CAPI).</i> UK Longitudinal Linkage Collaboration (UK LLC).  <a href=\"https://doi.org/10.83126/ukllc-dataset-00366-01\" rel=\"noopener noreferrer\" target=\"_blank\">https://doi.org/10.83126/ukllc-dataset-00366-01</a></td>\n",
       "    </tr>\n",
       "    <tr>\n",
       "      <td id=\"T_ec78c_row2_col0\" class=\"data row2 col0\" >Download Citation</td>\n",
       "      <td id=\"T_ec78c_row2_col1\" class=\"data row2 col1\" > <a href=\"https://api.test.datacite.org/application/vnd.citationstyles.csl+json/10.83126/ukllc-dataset-00366-01\" rel=\"noopener noreferrer\" target=\"_blank\">Citeproc JSON</a>&nbsp;&nbsp;&nbsp;&nbsp; <a href=\"https://api.test.datacite.org/application/x-bibtex/10.83126/ukllc-dataset-00366-01\" rel=\"noopener noreferrer\" target=\"_blank\">BibTeX</a>&nbsp;&nbsp;&nbsp;&nbsp; <a href=\"https://api.test.datacite.org/application/x-research-info-systems/10.83126/ukllc-dataset-00366-01\" rel=\"noopener noreferrer\" target=\"_blank\">RIS</a></td>\n",
       "    </tr>\n",
       "    <tr>\n",
       "      <td id=\"T_ec78c_row3_col0\" class=\"data row3 col0\" >Series</td>\n",
       "      <td id=\"T_ec78c_row3_col1\" class=\"data row3 col1\" > <a href=\"https://guidebook.ukllc.ac.uk/docs/lps/lps%20profiles/NICOLA\">NICOLA: The Northern Ireland Longitudinal Study of Ageing</a></td>\n",
       "    </tr>\n",
       "    <tr>\n",
       "      <td id=\"T_ec78c_row4_col0\" class=\"data row4 col0\" >Owner</td>\n",
       "      <td id=\"T_ec78c_row4_col1\" class=\"data row4 col1\" >Queen's University Belfast</td>\n",
       "    </tr>\n",
       "    <tr>\n",
       "      <td id=\"T_ec78c_row5_col0\" class=\"data row5 col0\" >Temporal Coverage</td>\n",
       "      <td id=\"T_ec78c_row5_col1\" class=\"data row5 col1\" >05/2017 - 11/2019</td>\n",
       "    </tr>\n",
       "    <tr>\n",
       "      <td id=\"T_ec78c_row6_col0\" class=\"data row6 col0\" >Keywords</td>\n",
       "      <td id=\"T_ec78c_row6_col1\" class=\"data row6 col1\" ></td>\n",
       "    </tr>\n",
       "    <tr>\n",
       "      <td id=\"T_ec78c_row7_col0\" class=\"data row7 col0\" >Participants Invited</td>\n",
       "      <td id=\"T_ec78c_row7_col1\" class=\"data row7 col1\" >6152</td>\n",
       "    </tr>\n",
       "    <tr>\n",
       "      <td id=\"T_ec78c_row8_col0\" class=\"data row8 col0\" >Participant Count</td>\n",
       "      <td id=\"T_ec78c_row8_col1\" class=\"data row8 col1\" >5245</td>\n",
       "    </tr>\n",
       "    <tr>\n",
       "      <td id=\"T_ec78c_row9_col0\" class=\"data row9 col0\" >Number of variables</td>\n",
       "      <td id=\"T_ec78c_row9_col1\" class=\"data row9 col1\" >602</td>\n",
       "    </tr>\n",
       "    <tr>\n",
       "      <td id=\"T_ec78c_row10_col0\" class=\"data row10 col0\" >Number of observations</td>\n",
       "      <td id=\"T_ec78c_row10_col1\" class=\"data row10 col1\" >5942</td>\n",
       "    </tr>\n",
       "    <tr>\n",
       "      <td id=\"T_ec78c_row11_col0\" class=\"data row11 col0\" >Specific Restrictions to Data Use</td>\n",
       "      <td id=\"T_ec78c_row11_col1\" class=\"data row11 col1\" >None</td>\n",
       "    </tr>\n",
       "    <tr>\n",
       "      <td id=\"T_ec78c_row12_col0\" class=\"data row12 col0\" >Build a Data Request</td>\n",
       "      <td id=\"T_ec78c_row12_col1\" class=\"data row12 col1\" > <a href=\"https://explore.ukllc.ac.uk/\" rel=\"noopener noreferrer\" target=\"_blank\">https://explore.ukllc.ac.uk/</a></td>\n",
       "    </tr>\n",
       "  </tbody>\n",
       "</table>\n"
      ],
      "text/plain": [
       "<pandas.io.formats.style.Styler at 0x213b6571b50>"
      ]
     },
     "execution_count": 3,
     "metadata": {},
     "output_type": "execute_result"
    }
   ],
   "source": [
    "ds.info_table()"
   ]
  },
  {
   "cell_type": "markdown",
   "id": "d33fe1a2",
   "metadata": {},
   "source": [
    "## 2. Version History"
   ]
  },
  {
   "cell_type": "code",
   "execution_count": 4,
   "id": "b0ad0da9",
   "metadata": {
    "execution": {
     "iopub.execute_input": "2025-07-18T10:23:10.198041Z",
     "iopub.status.busy": "2025-07-18T10:23:10.197039Z",
     "iopub.status.idle": "2025-07-18T10:23:13.136357Z",
     "shell.execute_reply": "2025-07-18T10:23:13.134349Z"
    },
    "tags": [
     "remove-input"
    ]
   },
   "outputs": [
    {
     "data": {
      "text/html": [
       "<style type=\"text/css\">\n",
       "#T_8f710 th {\n",
       "  text-align: left;\n",
       "}\n",
       "#T_8f710_row0_col0, #T_8f710_row0_col1, #T_8f710_row1_col0, #T_8f710_row1_col1, #T_8f710_row2_col0, #T_8f710_row2_col1, #T_8f710_row3_col0, #T_8f710_row3_col1, #T_8f710_row4_col0, #T_8f710_row4_col1 {\n",
       "  text-align: left;\n",
       "}\n",
       "</style>\n",
       "<table id=\"T_8f710\" style=\"font-size: 14px\">\n",
       "  <thead>\n",
       "    <tr>\n",
       "      <th id=\"T_8f710_level0_col0\" class=\"col_heading level0 col0\" >Version</th>\n",
       "      <th id=\"T_8f710_level0_col1\" class=\"col_heading level0 col1\" >1</th>\n",
       "    </tr>\n",
       "  </thead>\n",
       "  <tbody>\n",
       "    <tr>\n",
       "      <td id=\"T_8f710_row0_col0\" class=\"data row0 col0\" >Version Date</td>\n",
       "      <td id=\"T_8f710_row0_col1\" class=\"data row0 col1\" >02 Mar 2022</td>\n",
       "    </tr>\n",
       "    <tr>\n",
       "      <td id=\"T_8f710_row1_col0\" class=\"data row1 col0\" >Number of Variables</td>\n",
       "      <td id=\"T_8f710_row1_col1\" class=\"data row1 col1\" >602</td>\n",
       "    </tr>\n",
       "    <tr>\n",
       "      <td id=\"T_8f710_row2_col0\" class=\"data row2 col0\" >Number of Observations</td>\n",
       "      <td id=\"T_8f710_row2_col1\" class=\"data row2 col1\" >5942</td>\n",
       "    </tr>\n",
       "    <tr>\n",
       "      <td id=\"T_8f710_row3_col0\" class=\"data row3 col0\" >DOI</td>\n",
       "      <td id=\"T_8f710_row3_col1\" class=\"data row3 col1\" > <a href=\"https://doi.org/10.83126/ukllc-dataset-00366-01\" rel=\"noopener noreferrer\" target=\"_blank\">10.83126/ukllc-dataset-00366-01</a></td>\n",
       "    </tr>\n",
       "    <tr>\n",
       "      <td id=\"T_8f710_row4_col0\" class=\"data row4 col0\" >Change Log</td>\n",
       "      <td id=\"T_8f710_row4_col1\" class=\"data row4 col1\" > <a href=\"https://api.test.datacite.org/dois/10.83126/ukllc-dataset-00366-01/activities\" rel=\"noopener noreferrer\" target=\"_blank\">10.83126/ukllc-dataset-00366-01/activities</a></td>\n",
       "    </tr>\n",
       "  </tbody>\n",
       "</table>\n"
      ],
      "text/plain": [
       "<pandas.io.formats.style.Styler at 0x213b7f1a750>"
      ]
     },
     "execution_count": 4,
     "metadata": {},
     "output_type": "execute_result"
    }
   ],
   "source": [
    "ds.version_history()"
   ]
  },
  {
   "cell_type": "markdown",
   "id": "d3b103c8",
   "metadata": {},
   "source": [
    "## 3. Documentation"
   ]
  },
  {
   "cell_type": "code",
   "execution_count": 5,
   "id": "0b7b3ac4",
   "metadata": {
    "execution": {
     "iopub.execute_input": "2025-07-18T10:23:13.145358Z",
     "iopub.status.busy": "2025-07-18T10:23:13.144358Z",
     "iopub.status.idle": "2025-07-18T10:23:13.153291Z",
     "shell.execute_reply": "2025-07-18T10:23:13.152286Z"
    },
    "tags": [
     "remove-input"
    ]
   },
   "outputs": [
    {
     "data": {
      "text/markdown": [
       "We are currently building a documentation storage system which will host useful documents related to datasets and data owners. We will surface these documents on Guidebook."
      ],
      "text/plain": [
       "<IPython.core.display.Markdown object>"
      ]
     },
     "metadata": {},
     "output_type": "display_data"
    }
   ],
   "source": [
    "ds.documentation()"
   ]
  },
  {
   "cell_type": "markdown",
   "id": "16677b80",
   "metadata": {},
   "source": [
    "## 4. Useful Syntax"
   ]
  },
  {
   "cell_type": "code",
   "execution_count": 6,
   "id": "80174ad7",
   "metadata": {
    "execution": {
     "iopub.execute_input": "2025-07-18T10:23:13.160301Z",
     "iopub.status.busy": "2025-07-18T10:23:13.159298Z",
     "iopub.status.idle": "2025-07-18T10:23:13.167807Z",
     "shell.execute_reply": "2025-07-18T10:23:13.167300Z"
    },
    "tags": [
     "remove-input"
    ]
   },
   "outputs": [
    {
     "data": {
      "text/markdown": [
       "Below we will include syntax that may be helpful to other researchers in the UK LLC TRE. For longer scripts, we will include a snippet of the code plus a link to Git where you can find the full scripts."
      ],
      "text/plain": [
       "<IPython.core.display.Markdown object>"
      ]
     },
     "metadata": {},
     "output_type": "display_data"
    }
   ],
   "source": [
    "ds.useful_syntax()"
   ]
  }
 ],
 "metadata": {
  "language_info": {
   "codemirror_mode": {
    "name": "ipython",
    "version": 3
   },
   "file_extension": ".py",
   "mimetype": "text/x-python",
   "name": "python",
   "nbconvert_exporter": "python",
   "pygments_lexer": "ipython3",
   "version": "3.12.7"
  }
 },
 "nbformat": 4,
 "nbformat_minor": 5
}
