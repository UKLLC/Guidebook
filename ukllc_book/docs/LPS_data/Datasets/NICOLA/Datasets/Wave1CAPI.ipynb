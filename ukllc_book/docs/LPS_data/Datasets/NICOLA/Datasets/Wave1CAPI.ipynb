{
 "cells": [
  {
   "cell_type": "markdown",
   "id": "d8e4cf5a",
   "metadata": {},
   "source": [
    "# Wave 1 Computer Assisted Personal Interview (CAPI) (NICOLA)"
   ]
  },
  {
   "cell_type": "code",
   "execution_count": 1,
   "id": "c0c97c1e",
   "metadata": {
    "execution": {
     "iopub.execute_input": "2025-07-18T10:22:18.244959Z",
     "iopub.status.busy": "2025-07-18T10:22:18.243953Z",
     "iopub.status.idle": "2025-07-18T10:22:25.074125Z",
     "shell.execute_reply": "2025-07-18T10:22:25.072113Z"
    },
    "tags": [
     "remove-input"
    ]
   },
   "outputs": [
    {
     "data": {
      "text/markdown": [
       ">Last modified: 18 Jul 2025"
      ],
      "text/plain": [
       "<IPython.core.display.Markdown object>"
      ]
     },
     "metadata": {},
     "output_type": "display_data"
    }
   ],
   "source": [
    "\n",
    "import sys\n",
    "import os\n",
    "sys.path.append(os.path.abspath('../../../../scripts/'))\n",
    "from data_doc_helper import LPSDataSet as DS, last_modified\n",
    "API_KEY = os.environ['FASTAPI_KEY']\n",
    "ds = DS(\"NICOLA\", \"Wave1CAPI\")\n",
    "last_modified()\n"
   ]
  },
  {
   "cell_type": "markdown",
   "id": "3331a2cf",
   "metadata": {},
   "source": [
    "## 1. Summary"
   ]
  },
  {
   "cell_type": "code",
   "execution_count": 2,
   "id": "60f3b8c3",
   "metadata": {
    "execution": {
     "iopub.execute_input": "2025-07-18T10:22:25.080121Z",
     "iopub.status.busy": "2025-07-18T10:22:25.079121Z",
     "iopub.status.idle": "2025-07-18T10:22:25.086303Z",
     "shell.execute_reply": "2025-07-18T10:22:25.085297Z"
    },
    "tags": [
     "remove-input"
    ]
   },
   "outputs": [
    {
     "data": {
      "text/markdown": [
       "All participants in Wave 1 took part in a Computer assisted personal interview conducted in their home.  The questions covered 11 topics including family structure, self-reported health, lifestyle, health behaviours, finances, social networks and connectivity."
      ],
      "text/plain": [
       "<IPython.core.display.Markdown object>"
      ]
     },
     "metadata": {},
     "output_type": "display_data"
    }
   ],
   "source": [
    "ds.summary()"
   ]
  },
  {
   "cell_type": "code",
   "execution_count": 3,
   "id": "320b2bfd",
   "metadata": {
    "execution": {
     "iopub.execute_input": "2025-07-18T10:22:25.091303Z",
     "iopub.status.busy": "2025-07-18T10:22:25.091303Z",
     "iopub.status.idle": "2025-07-18T10:22:26.651332Z",
     "shell.execute_reply": "2025-07-18T10:22:26.647830Z"
    },
    "tags": [
     "remove-input"
    ]
   },
   "outputs": [
    {
     "data": {
      "text/html": [
       "<style type=\"text/css\">\n",
       "#T_d449b th {\n",
       "  text-align: left;\n",
       "}\n",
       "#T_d449b_row0_col0, #T_d449b_row0_col1, #T_d449b_row1_col0, #T_d449b_row1_col1, #T_d449b_row2_col0, #T_d449b_row2_col1, #T_d449b_row3_col0, #T_d449b_row3_col1, #T_d449b_row4_col0, #T_d449b_row4_col1, #T_d449b_row5_col0, #T_d449b_row5_col1, #T_d449b_row6_col0, #T_d449b_row6_col1, #T_d449b_row7_col0, #T_d449b_row7_col1, #T_d449b_row8_col0, #T_d449b_row8_col1, #T_d449b_row9_col0, #T_d449b_row9_col1, #T_d449b_row10_col0, #T_d449b_row10_col1, #T_d449b_row11_col0, #T_d449b_row11_col1, #T_d449b_row12_col0, #T_d449b_row12_col1 {\n",
       "  text-align: left;\n",
       "}\n",
       "</style>\n",
       "<table id=\"T_d449b\" style=\"font-size: 14px\">\n",
       "  <thead>\n",
       "    <tr>\n",
       "      <th id=\"T_d449b_level0_col0\" class=\"col_heading level0 col0\" >Dataset Descriptor</th>\n",
       "      <th id=\"T_d449b_level0_col1\" class=\"col_heading level0 col1\" >Dataset-specific Information</th>\n",
       "    </tr>\n",
       "  </thead>\n",
       "  <tbody>\n",
       "    <tr>\n",
       "      <td id=\"T_d449b_row0_col0\" class=\"data row0 col0\" >Name of Dataset in TRE</td>\n",
       "      <td id=\"T_d449b_row0_col1\" class=\"data row0 col1\" >NICOLA_Wave1CAPI</td>\n",
       "    </tr>\n",
       "    <tr>\n",
       "      <td id=\"T_d449b_row1_col0\" class=\"data row1 col0\" >Citation (APA)</td>\n",
       "      <td id=\"T_d449b_row1_col1\" class=\"data row1 col1\" >Queen’s University Belfast,  School of Medicine, Dentistry and Biomedical Sciences, Centre for Public Health. (2021). <i>NICOLA: The Northern Ireland Longitudinal Study of Ageing: Wave 1 Computer Assisted Personal Interview (CAPI).</i> UK Longitudinal Linkage Collaboration (UK LLC).  <a href=\"https://doi.org/10.83126/ukllc-dataset-00363-01\" rel=\"noopener noreferrer\" target=\"_blank\">https://doi.org/10.83126/ukllc-dataset-00363-01</a></td>\n",
       "    </tr>\n",
       "    <tr>\n",
       "      <td id=\"T_d449b_row2_col0\" class=\"data row2 col0\" >Download Citation</td>\n",
       "      <td id=\"T_d449b_row2_col1\" class=\"data row2 col1\" > <a href=\"https://api.test.datacite.org/application/vnd.citationstyles.csl+json/10.83126/ukllc-dataset-00363-01\" rel=\"noopener noreferrer\" target=\"_blank\">Citeproc JSON</a>&nbsp;&nbsp;&nbsp;&nbsp; <a href=\"https://api.test.datacite.org/application/x-bibtex/10.83126/ukllc-dataset-00363-01\" rel=\"noopener noreferrer\" target=\"_blank\">BibTeX</a>&nbsp;&nbsp;&nbsp;&nbsp; <a href=\"https://api.test.datacite.org/application/x-research-info-systems/10.83126/ukllc-dataset-00363-01\" rel=\"noopener noreferrer\" target=\"_blank\">RIS</a></td>\n",
       "    </tr>\n",
       "    <tr>\n",
       "      <td id=\"T_d449b_row3_col0\" class=\"data row3 col0\" >Series</td>\n",
       "      <td id=\"T_d449b_row3_col1\" class=\"data row3 col1\" > <a href=\"https://guidebook.ukllc.ac.uk/docs/lps/lps%20profiles/NICOLA\">NICOLA: The Northern Ireland Longitudinal Study of Ageing</a></td>\n",
       "    </tr>\n",
       "    <tr>\n",
       "      <td id=\"T_d449b_row4_col0\" class=\"data row4 col0\" >Owner</td>\n",
       "      <td id=\"T_d449b_row4_col1\" class=\"data row4 col1\" >Queen's University Belfast</td>\n",
       "    </tr>\n",
       "    <tr>\n",
       "      <td id=\"T_d449b_row5_col0\" class=\"data row5 col0\" >Temporal Coverage</td>\n",
       "      <td id=\"T_d449b_row5_col1\" class=\"data row5 col1\" >12/2013 - 07/2016</td>\n",
       "    </tr>\n",
       "    <tr>\n",
       "      <td id=\"T_d449b_row6_col0\" class=\"data row6 col0\" >Keywords</td>\n",
       "      <td id=\"T_d449b_row6_col1\" class=\"data row6 col1\" ></td>\n",
       "    </tr>\n",
       "    <tr>\n",
       "      <td id=\"T_d449b_row7_col0\" class=\"data row7 col0\" >Participants Invited</td>\n",
       "      <td id=\"T_d449b_row7_col1\" class=\"data row7 col1\" >8478</td>\n",
       "    </tr>\n",
       "    <tr>\n",
       "      <td id=\"T_d449b_row8_col0\" class=\"data row8 col0\" >Participant Count</td>\n",
       "      <td id=\"T_d449b_row8_col1\" class=\"data row8 col1\" >5034</td>\n",
       "    </tr>\n",
       "    <tr>\n",
       "      <td id=\"T_d449b_row9_col0\" class=\"data row9 col0\" >Number of variables</td>\n",
       "      <td id=\"T_d449b_row9_col1\" class=\"data row9 col1\" >857</td>\n",
       "    </tr>\n",
       "    <tr>\n",
       "      <td id=\"T_d449b_row10_col0\" class=\"data row10 col0\" >Number of observations</td>\n",
       "      <td id=\"T_d449b_row10_col1\" class=\"data row10 col1\" >5721</td>\n",
       "    </tr>\n",
       "    <tr>\n",
       "      <td id=\"T_d449b_row11_col0\" class=\"data row11 col0\" >Specific Restrictions to Data Use</td>\n",
       "      <td id=\"T_d449b_row11_col1\" class=\"data row11 col1\" >None</td>\n",
       "    </tr>\n",
       "    <tr>\n",
       "      <td id=\"T_d449b_row12_col0\" class=\"data row12 col0\" >Build a Data Request</td>\n",
       "      <td id=\"T_d449b_row12_col1\" class=\"data row12 col1\" > <a href=\"https://explore.ukllc.ac.uk/\" rel=\"noopener noreferrer\" target=\"_blank\">https://explore.ukllc.ac.uk/</a></td>\n",
       "    </tr>\n",
       "  </tbody>\n",
       "</table>\n"
      ],
      "text/plain": [
       "<pandas.io.formats.style.Styler at 0x2b18bc7fa70>"
      ]
     },
     "execution_count": 3,
     "metadata": {},
     "output_type": "execute_result"
    }
   ],
   "source": [
    "ds.info_table()"
   ]
  },
  {
   "cell_type": "markdown",
   "id": "1d4a3c77",
   "metadata": {},
   "source": [
    "## 2. Version History"
   ]
  },
  {
   "cell_type": "code",
   "execution_count": 4,
   "id": "195244ab",
   "metadata": {
    "execution": {
     "iopub.execute_input": "2025-07-18T10:22:26.659340Z",
     "iopub.status.busy": "2025-07-18T10:22:26.659340Z",
     "iopub.status.idle": "2025-07-18T10:22:29.611569Z",
     "shell.execute_reply": "2025-07-18T10:22:29.609446Z"
    },
    "tags": [
     "remove-input"
    ]
   },
   "outputs": [
    {
     "data": {
      "text/html": [
       "<style type=\"text/css\">\n",
       "#T_7ea17 th {\n",
       "  text-align: left;\n",
       "}\n",
       "#T_7ea17_row0_col0, #T_7ea17_row0_col1, #T_7ea17_row1_col0, #T_7ea17_row1_col1, #T_7ea17_row2_col0, #T_7ea17_row2_col1, #T_7ea17_row3_col0, #T_7ea17_row3_col1, #T_7ea17_row4_col0, #T_7ea17_row4_col1 {\n",
       "  text-align: left;\n",
       "}\n",
       "</style>\n",
       "<table id=\"T_7ea17\" style=\"font-size: 14px\">\n",
       "  <thead>\n",
       "    <tr>\n",
       "      <th id=\"T_7ea17_level0_col0\" class=\"col_heading level0 col0\" >Version</th>\n",
       "      <th id=\"T_7ea17_level0_col1\" class=\"col_heading level0 col1\" >1</th>\n",
       "    </tr>\n",
       "  </thead>\n",
       "  <tbody>\n",
       "    <tr>\n",
       "      <td id=\"T_7ea17_row0_col0\" class=\"data row0 col0\" >Version Date</td>\n",
       "      <td id=\"T_7ea17_row0_col1\" class=\"data row0 col1\" >01 Nov 2021</td>\n",
       "    </tr>\n",
       "    <tr>\n",
       "      <td id=\"T_7ea17_row1_col0\" class=\"data row1 col0\" >Number of Variables</td>\n",
       "      <td id=\"T_7ea17_row1_col1\" class=\"data row1 col1\" >857</td>\n",
       "    </tr>\n",
       "    <tr>\n",
       "      <td id=\"T_7ea17_row2_col0\" class=\"data row2 col0\" >Number of Observations</td>\n",
       "      <td id=\"T_7ea17_row2_col1\" class=\"data row2 col1\" >5721</td>\n",
       "    </tr>\n",
       "    <tr>\n",
       "      <td id=\"T_7ea17_row3_col0\" class=\"data row3 col0\" >DOI</td>\n",
       "      <td id=\"T_7ea17_row3_col1\" class=\"data row3 col1\" > <a href=\"https://doi.org/10.83126/ukllc-dataset-00363-01\" rel=\"noopener noreferrer\" target=\"_blank\">10.83126/ukllc-dataset-00363-01</a></td>\n",
       "    </tr>\n",
       "    <tr>\n",
       "      <td id=\"T_7ea17_row4_col0\" class=\"data row4 col0\" >Change Log</td>\n",
       "      <td id=\"T_7ea17_row4_col1\" class=\"data row4 col1\" > <a href=\"https://api.test.datacite.org/dois/10.83126/ukllc-dataset-00363-01/activities\" rel=\"noopener noreferrer\" target=\"_blank\">10.83126/ukllc-dataset-00363-01/activities</a></td>\n",
       "    </tr>\n",
       "  </tbody>\n",
       "</table>\n"
      ],
      "text/plain": [
       "<pandas.io.formats.style.Styler at 0x2b192f66840>"
      ]
     },
     "execution_count": 4,
     "metadata": {},
     "output_type": "execute_result"
    }
   ],
   "source": [
    "ds.version_history()"
   ]
  },
  {
   "cell_type": "markdown",
   "id": "d473b706",
   "metadata": {},
   "source": [
    "## 3. Documentation"
   ]
  },
  {
   "cell_type": "code",
   "execution_count": 5,
   "id": "b9a872c0",
   "metadata": {
    "execution": {
     "iopub.execute_input": "2025-07-18T10:22:29.617690Z",
     "iopub.status.busy": "2025-07-18T10:22:29.617690Z",
     "iopub.status.idle": "2025-07-18T10:22:29.628103Z",
     "shell.execute_reply": "2025-07-18T10:22:29.626094Z"
    },
    "tags": [
     "remove-input"
    ]
   },
   "outputs": [
    {
     "data": {
      "text/markdown": [
       "We are currently building a documentation storage system which will host useful documents related to datasets and data owners. We will surface these documents on Guidebook."
      ],
      "text/plain": [
       "<IPython.core.display.Markdown object>"
      ]
     },
     "metadata": {},
     "output_type": "display_data"
    }
   ],
   "source": [
    "ds.documentation()"
   ]
  },
  {
   "cell_type": "markdown",
   "id": "3e829a22",
   "metadata": {},
   "source": [
    "## 4. Useful Syntax"
   ]
  },
  {
   "cell_type": "code",
   "execution_count": 6,
   "id": "0748fe7a",
   "metadata": {
    "execution": {
     "iopub.execute_input": "2025-07-18T10:22:29.634540Z",
     "iopub.status.busy": "2025-07-18T10:22:29.634101Z",
     "iopub.status.idle": "2025-07-18T10:22:29.643542Z",
     "shell.execute_reply": "2025-07-18T10:22:29.642533Z"
    },
    "tags": [
     "remove-input"
    ]
   },
   "outputs": [
    {
     "data": {
      "text/markdown": [
       "Below we will include syntax that may be helpful to other researchers in the UK LLC TRE. For longer scripts, we will include a snippet of the code plus a link to Git where you can find the full scripts."
      ],
      "text/plain": [
       "<IPython.core.display.Markdown object>"
      ]
     },
     "metadata": {},
     "output_type": "display_data"
    }
   ],
   "source": [
    "ds.useful_syntax()"
   ]
  }
 ],
 "metadata": {
  "language_info": {
   "codemirror_mode": {
    "name": "ipython",
    "version": 3
   },
   "file_extension": ".py",
   "mimetype": "text/x-python",
   "name": "python",
   "nbconvert_exporter": "python",
   "pygments_lexer": "ipython3",
   "version": "3.12.7"
  }
 },
 "nbformat": 4,
 "nbformat_minor": 5
}
