{
 "cells": [
  {
   "cell_type": "markdown",
   "id": "3d8dc6cf",
   "metadata": {},
   "source": [
    "# Age 42 Employment Data (BCS70)"
   ]
  },
  {
   "cell_type": "code",
   "execution_count": 1,
   "id": "f0735333",
   "metadata": {
    "execution": {
     "iopub.execute_input": "2025-07-17T14:54:25.543198Z",
     "iopub.status.busy": "2025-07-17T14:54:25.543198Z",
     "iopub.status.idle": "2025-07-17T14:54:33.767784Z",
     "shell.execute_reply": "2025-07-17T14:54:33.766767Z"
    },
    "tags": [
     "remove-input"
    ]
   },
   "outputs": [
    {
     "data": {
      "text/markdown": [
       ">Last modified: 17 Jul 2025"
      ],
      "text/plain": [
       "<IPython.core.display.Markdown object>"
      ]
     },
     "metadata": {},
     "output_type": "display_data"
    }
   ],
   "source": [
    "\n",
    "import sys\n",
    "import os\n",
    "sys.path.append(os.path.abspath('../../../../scripts/'))\n",
    "from data_doc_helper import LPSDataSet as DS, last_modified\n",
    "API_KEY = os.environ['FASTAPI_KEY']\n",
    "ds = DS(\"BCS70\", \"bcs9_employment\")\n",
    "last_modified()\n"
   ]
  },
  {
   "cell_type": "markdown",
   "id": "29fa57f9",
   "metadata": {},
   "source": [
    "## 1. Summary"
   ]
  },
  {
   "cell_type": "code",
   "execution_count": 2,
   "id": "c7c2820f",
   "metadata": {
    "execution": {
     "iopub.execute_input": "2025-07-17T14:54:33.777854Z",
     "iopub.status.busy": "2025-07-17T14:54:33.776852Z",
     "iopub.status.idle": "2025-07-17T14:54:33.791370Z",
     "shell.execute_reply": "2025-07-17T14:54:33.789350Z"
    },
    "tags": [
     "remove-input"
    ]
   },
   "outputs": [
    {
     "data": {
      "text/markdown": [
       "Employment histories covering all activities since last sweep / 2000 (whichever is more recent). Includes SIC and SOC for each valid employment"
      ],
      "text/plain": [
       "<IPython.core.display.Markdown object>"
      ]
     },
     "metadata": {},
     "output_type": "display_data"
    }
   ],
   "source": [
    "ds.summary()"
   ]
  },
  {
   "cell_type": "code",
   "execution_count": 3,
   "id": "987f7e9a",
   "metadata": {
    "execution": {
     "iopub.execute_input": "2025-07-17T14:54:33.799366Z",
     "iopub.status.busy": "2025-07-17T14:54:33.798368Z",
     "iopub.status.idle": "2025-07-17T14:54:35.530952Z",
     "shell.execute_reply": "2025-07-17T14:54:35.528935Z"
    },
    "tags": [
     "remove-input"
    ]
   },
   "outputs": [
    {
     "data": {
      "text/html": [
       "<style type=\"text/css\">\n",
       "#T_d5dc3 th {\n",
       "  text-align: left;\n",
       "}\n",
       "#T_d5dc3_row0_col0, #T_d5dc3_row0_col1, #T_d5dc3_row1_col0, #T_d5dc3_row1_col1, #T_d5dc3_row2_col0, #T_d5dc3_row2_col1, #T_d5dc3_row3_col0, #T_d5dc3_row3_col1, #T_d5dc3_row4_col0, #T_d5dc3_row4_col1, #T_d5dc3_row5_col0, #T_d5dc3_row5_col1, #T_d5dc3_row6_col0, #T_d5dc3_row6_col1, #T_d5dc3_row7_col0, #T_d5dc3_row7_col1, #T_d5dc3_row8_col0, #T_d5dc3_row8_col1, #T_d5dc3_row9_col0, #T_d5dc3_row9_col1, #T_d5dc3_row10_col0, #T_d5dc3_row10_col1, #T_d5dc3_row11_col0, #T_d5dc3_row11_col1, #T_d5dc3_row12_col0, #T_d5dc3_row12_col1 {\n",
       "  text-align: left;\n",
       "}\n",
       "</style>\n",
       "<table id=\"T_d5dc3\" style=\"font-size: 14px\">\n",
       "  <thead>\n",
       "    <tr>\n",
       "      <th id=\"T_d5dc3_level0_col0\" class=\"col_heading level0 col0\" >Dataset Descriptor</th>\n",
       "      <th id=\"T_d5dc3_level0_col1\" class=\"col_heading level0 col1\" >Dataset-specific Information</th>\n",
       "    </tr>\n",
       "  </thead>\n",
       "  <tbody>\n",
       "    <tr>\n",
       "      <td id=\"T_d5dc3_row0_col0\" class=\"data row0 col0\" >Name of Dataset in TRE</td>\n",
       "      <td id=\"T_d5dc3_row0_col1\" class=\"data row0 col1\" >BCS70_bcs9_employment</td>\n",
       "    </tr>\n",
       "    <tr>\n",
       "      <td id=\"T_d5dc3_row1_col0\" class=\"data row1 col0\" >Citation (APA)</td>\n",
       "      <td id=\"T_d5dc3_row1_col1\" class=\"data row1 col1\" >University College London, UCL Social Research Institute, Centre for Longitudinal Studies. (2021). <i>1970 British Cohort Study (BCS70): Age 42 Employment Data.</i> UK Longitudinal Linkage Collaboration (UK LLC).  <a href=\"https://doi.org/10.83126/ukllc-dataset-00144-01\" rel=\"noopener noreferrer\" target=\"_blank\">https://doi.org/10.83126/ukllc-dataset-00144-01</a></td>\n",
       "    </tr>\n",
       "    <tr>\n",
       "      <td id=\"T_d5dc3_row2_col0\" class=\"data row2 col0\" >Download Citation</td>\n",
       "      <td id=\"T_d5dc3_row2_col1\" class=\"data row2 col1\" > <a href=\"https://api.test.datacite.org/application/vnd.citationstyles.csl+json/10.83126/ukllc-dataset-00144-01\" rel=\"noopener noreferrer\" target=\"_blank\">Citeproc JSON</a>&nbsp;&nbsp;&nbsp;&nbsp; <a href=\"https://api.test.datacite.org/application/x-bibtex/10.83126/ukllc-dataset-00144-01\" rel=\"noopener noreferrer\" target=\"_blank\">BibTeX</a>&nbsp;&nbsp;&nbsp;&nbsp; <a href=\"https://api.test.datacite.org/application/x-research-info-systems/10.83126/ukllc-dataset-00144-01\" rel=\"noopener noreferrer\" target=\"_blank\">RIS</a></td>\n",
       "    </tr>\n",
       "    <tr>\n",
       "      <td id=\"T_d5dc3_row3_col0\" class=\"data row3 col0\" >Series</td>\n",
       "      <td id=\"T_d5dc3_row3_col1\" class=\"data row3 col1\" > <a href=\"https://guidebook.ukllc.ac.uk/docs/lps/lps%20profiles/BCS70\">1970 British Cohort Study (BCS70)</a></td>\n",
       "    </tr>\n",
       "    <tr>\n",
       "      <td id=\"T_d5dc3_row4_col0\" class=\"data row4 col0\" >Owner</td>\n",
       "      <td id=\"T_d5dc3_row4_col1\" class=\"data row4 col1\" >UCL</td>\n",
       "    </tr>\n",
       "    <tr>\n",
       "      <td id=\"T_d5dc3_row5_col0\" class=\"data row5 col0\" >Temporal Coverage</td>\n",
       "      <td id=\"T_d5dc3_row5_col1\" class=\"data row5 col1\" >04/2012 - 04/2013</td>\n",
       "    </tr>\n",
       "    <tr>\n",
       "      <td id=\"T_d5dc3_row6_col0\" class=\"data row6 col0\" >Keywords</td>\n",
       "      <td id=\"T_d5dc3_row6_col1\" class=\"data row6 col1\" >Occupations,Status,Social Class,Self-employment,Hours,Employees</td>\n",
       "    </tr>\n",
       "    <tr>\n",
       "      <td id=\"T_d5dc3_row7_col0\" class=\"data row7 col0\" >Participants Invited</td>\n",
       "      <td id=\"T_d5dc3_row7_col1\" class=\"data row7 col1\" >9841</td>\n",
       "    </tr>\n",
       "    <tr>\n",
       "      <td id=\"T_d5dc3_row8_col0\" class=\"data row8 col0\" >Participant Count</td>\n",
       "      <td id=\"T_d5dc3_row8_col1\" class=\"data row8 col1\" >3217</td>\n",
       "    </tr>\n",
       "    <tr>\n",
       "      <td id=\"T_d5dc3_row9_col0\" class=\"data row9 col0\" >Number of variables</td>\n",
       "      <td id=\"T_d5dc3_row9_col1\" class=\"data row9 col1\" >21</td>\n",
       "    </tr>\n",
       "    <tr>\n",
       "      <td id=\"T_d5dc3_row10_col0\" class=\"data row10 col0\" >Number of observations</td>\n",
       "      <td id=\"T_d5dc3_row10_col1\" class=\"data row10 col1\" >6899</td>\n",
       "    </tr>\n",
       "    <tr>\n",
       "      <td id=\"T_d5dc3_row11_col0\" class=\"data row11 col0\" >Specific Restrictions to Data Use</td>\n",
       "      <td id=\"T_d5dc3_row11_col1\" class=\"data row11 col1\" >None</td>\n",
       "    </tr>\n",
       "    <tr>\n",
       "      <td id=\"T_d5dc3_row12_col0\" class=\"data row12 col0\" >Build a Data Request</td>\n",
       "      <td id=\"T_d5dc3_row12_col1\" class=\"data row12 col1\" > <a href=\"https://explore.ukllc.ac.uk/\" rel=\"noopener noreferrer\" target=\"_blank\">https://explore.ukllc.ac.uk/</a></td>\n",
       "    </tr>\n",
       "  </tbody>\n",
       "</table>\n"
      ],
      "text/plain": [
       "<pandas.io.formats.style.Styler at 0x220233500b0>"
      ]
     },
     "execution_count": 3,
     "metadata": {},
     "output_type": "execute_result"
    }
   ],
   "source": [
    "ds.info_table()"
   ]
  },
  {
   "cell_type": "markdown",
   "id": "8df54413",
   "metadata": {},
   "source": [
    "## 2. Version History"
   ]
  },
  {
   "cell_type": "code",
   "execution_count": 4,
   "id": "cd8e3403",
   "metadata": {
    "execution": {
     "iopub.execute_input": "2025-07-17T14:54:35.539982Z",
     "iopub.status.busy": "2025-07-17T14:54:35.538982Z",
     "iopub.status.idle": "2025-07-17T14:54:38.008433Z",
     "shell.execute_reply": "2025-07-17T14:54:38.005762Z"
    },
    "tags": [
     "remove-input"
    ]
   },
   "outputs": [
    {
     "data": {
      "text/html": [
       "<style type=\"text/css\">\n",
       "#T_2a87b th {\n",
       "  text-align: left;\n",
       "}\n",
       "#T_2a87b_row0_col0, #T_2a87b_row0_col1, #T_2a87b_row1_col0, #T_2a87b_row1_col1, #T_2a87b_row2_col0, #T_2a87b_row2_col1, #T_2a87b_row3_col0, #T_2a87b_row3_col1, #T_2a87b_row4_col0, #T_2a87b_row4_col1 {\n",
       "  text-align: left;\n",
       "}\n",
       "</style>\n",
       "<table id=\"T_2a87b\" style=\"font-size: 14px\">\n",
       "  <thead>\n",
       "    <tr>\n",
       "      <th id=\"T_2a87b_level0_col0\" class=\"col_heading level0 col0\" >Version</th>\n",
       "      <th id=\"T_2a87b_level0_col1\" class=\"col_heading level0 col1\" >1</th>\n",
       "    </tr>\n",
       "  </thead>\n",
       "  <tbody>\n",
       "    <tr>\n",
       "      <td id=\"T_2a87b_row0_col0\" class=\"data row0 col0\" >Version Date</td>\n",
       "      <td id=\"T_2a87b_row0_col1\" class=\"data row0 col1\" >01 Nov 2021</td>\n",
       "    </tr>\n",
       "    <tr>\n",
       "      <td id=\"T_2a87b_row1_col0\" class=\"data row1 col0\" >Number of Variables</td>\n",
       "      <td id=\"T_2a87b_row1_col1\" class=\"data row1 col1\" >21</td>\n",
       "    </tr>\n",
       "    <tr>\n",
       "      <td id=\"T_2a87b_row2_col0\" class=\"data row2 col0\" >Number of Observations</td>\n",
       "      <td id=\"T_2a87b_row2_col1\" class=\"data row2 col1\" >6899</td>\n",
       "    </tr>\n",
       "    <tr>\n",
       "      <td id=\"T_2a87b_row3_col0\" class=\"data row3 col0\" >DOI</td>\n",
       "      <td id=\"T_2a87b_row3_col1\" class=\"data row3 col1\" > <a href=\"https://doi.org/10.83126/ukllc-dataset-00144-01\" rel=\"noopener noreferrer\" target=\"_blank\">10.83126/ukllc-dataset-00144-01</a></td>\n",
       "    </tr>\n",
       "    <tr>\n",
       "      <td id=\"T_2a87b_row4_col0\" class=\"data row4 col0\" >Change Log</td>\n",
       "      <td id=\"T_2a87b_row4_col1\" class=\"data row4 col1\" > <a href=\"https://api.test.datacite.org/dois/10.83126/ukllc-dataset-00144-01/activities\" rel=\"noopener noreferrer\" target=\"_blank\">10.83126/ukllc-dataset-00144-01/activities</a></td>\n",
       "    </tr>\n",
       "  </tbody>\n",
       "</table>\n"
      ],
      "text/plain": [
       "<pandas.io.formats.style.Styler at 0x22024e49df0>"
      ]
     },
     "execution_count": 4,
     "metadata": {},
     "output_type": "execute_result"
    }
   ],
   "source": [
    "ds.version_history()"
   ]
  },
  {
   "cell_type": "markdown",
   "id": "8c34cae4",
   "metadata": {},
   "source": [
    "## 3. Documentation"
   ]
  },
  {
   "cell_type": "code",
   "execution_count": 5,
   "id": "9c829bc1",
   "metadata": {
    "execution": {
     "iopub.execute_input": "2025-07-17T14:54:38.017913Z",
     "iopub.status.busy": "2025-07-17T14:54:38.016896Z",
     "iopub.status.idle": "2025-07-17T14:54:38.030533Z",
     "shell.execute_reply": "2025-07-17T14:54:38.028627Z"
    },
    "tags": [
     "remove-input"
    ]
   },
   "outputs": [
    {
     "data": {
      "text/markdown": [
       "We are currently building a documentation storage system which will host useful documents related to datasets and data owners. We will surface these documents on Guidebook."
      ],
      "text/plain": [
       "<IPython.core.display.Markdown object>"
      ]
     },
     "metadata": {},
     "output_type": "display_data"
    }
   ],
   "source": [
    "ds.documentation()"
   ]
  },
  {
   "cell_type": "markdown",
   "id": "85df8ce6",
   "metadata": {},
   "source": [
    "## 4. Useful Syntax"
   ]
  },
  {
   "cell_type": "code",
   "execution_count": 6,
   "id": "98f3f41c",
   "metadata": {
    "execution": {
     "iopub.execute_input": "2025-07-17T14:54:38.038069Z",
     "iopub.status.busy": "2025-07-17T14:54:38.038069Z",
     "iopub.status.idle": "2025-07-17T14:54:38.048807Z",
     "shell.execute_reply": "2025-07-17T14:54:38.047805Z"
    },
    "tags": [
     "remove-input"
    ]
   },
   "outputs": [
    {
     "data": {
      "text/markdown": [
       "Below we will include syntax that may be helpful to other researchers in the UK LLC TRE. For longer scripts, we will include a snippet of the code plus a link to Git where you can find the full scripts."
      ],
      "text/plain": [
       "<IPython.core.display.Markdown object>"
      ]
     },
     "metadata": {},
     "output_type": "display_data"
    }
   ],
   "source": [
    "ds.useful_syntax()"
   ]
  }
 ],
 "metadata": {
  "language_info": {
   "codemirror_mode": {
    "name": "ipython",
    "version": 3
   },
   "file_extension": ".py",
   "mimetype": "text/x-python",
   "name": "python",
   "nbconvert_exporter": "python",
   "pygments_lexer": "ipython3",
   "version": "3.12.7"
  }
 },
 "nbformat": 4,
 "nbformat_minor": 5
}
