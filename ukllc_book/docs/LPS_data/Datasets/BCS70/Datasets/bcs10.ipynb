{
 "cells": [
  {
   "cell_type": "markdown",
   "id": "356c2791",
   "metadata": {},
   "source": [
    "# Age 46 Main Data (BCS70)"
   ]
  },
  {
   "cell_type": "code",
   "execution_count": 1,
   "id": "2f8eecb7",
   "metadata": {
    "execution": {
     "iopub.execute_input": "2025-07-28T18:21:19.364921Z",
     "iopub.status.busy": "2025-07-28T18:21:19.364921Z",
     "iopub.status.idle": "2025-07-28T18:21:31.988684Z",
     "shell.execute_reply": "2025-07-28T18:21:31.986800Z"
    },
    "tags": [
     "remove-input"
    ]
   },
   "outputs": [
    {
     "data": {
      "text/markdown": [
       ">Last modified: 28 Jul 2025"
      ],
      "text/plain": [
       "<IPython.core.display.Markdown object>"
      ]
     },
     "metadata": {},
     "output_type": "display_data"
    }
   ],
   "source": [
    "\n",
    "import sys\n",
    "import os\n",
    "sys.path.append(os.path.abspath('../../../../scripts/'))\n",
    "from data_doc_helper import LPSDataSet as DS, last_modified\n",
    "API_KEY = os.environ['FASTAPI_KEY']\n",
    "ds = DS(\"BCS70\", \"bcs10\")\n",
    "last_modified()\n"
   ]
  },
  {
   "cell_type": "markdown",
   "id": "0bf52352",
   "metadata": {},
   "source": [
    "## 1. Summary"
   ]
  },
  {
   "cell_type": "code",
   "execution_count": 2,
   "id": "6a4c408a",
   "metadata": {
    "execution": {
     "iopub.execute_input": "2025-07-28T18:21:31.998300Z",
     "iopub.status.busy": "2025-07-28T18:21:31.997308Z",
     "iopub.status.idle": "2025-07-28T18:21:32.014106Z",
     "shell.execute_reply": "2025-07-28T18:21:32.011487Z"
    },
    "tags": [
     "remove-input"
    ]
   },
   "outputs": [
    {
     "data": {
      "text/markdown": [
       "The aim of the Age 46 Survey was to collect key details of the cohort members’ lives including their socio-economic circumstances (e.g. household composition, cohabiting relationships, housing, economic activity, and income) and their health (physical health, mental health, medication, and health behaviours). This survey had a significant biomedical focus, with objective health measurements and assessments being conducted for the first time in the cohort members’ adulthood."
      ],
      "text/plain": [
       "<IPython.core.display.Markdown object>"
      ]
     },
     "metadata": {},
     "output_type": "display_data"
    }
   ],
   "source": [
    "ds.summary()"
   ]
  },
  {
   "cell_type": "code",
   "execution_count": 3,
   "id": "03770ab8",
   "metadata": {
    "execution": {
     "iopub.execute_input": "2025-07-28T18:21:32.020681Z",
     "iopub.status.busy": "2025-07-28T18:21:32.020681Z",
     "iopub.status.idle": "2025-07-28T18:21:34.373017Z",
     "shell.execute_reply": "2025-07-28T18:21:34.370019Z"
    },
    "tags": [
     "remove-input"
    ]
   },
   "outputs": [
    {
     "data": {
      "text/html": [
       "<style type=\"text/css\">\n",
       "#T_e011f th {\n",
       "  text-align: left;\n",
       "}\n",
       "#T_e011f_row0_col0, #T_e011f_row0_col1, #T_e011f_row1_col0, #T_e011f_row1_col1, #T_e011f_row2_col0, #T_e011f_row2_col1, #T_e011f_row3_col0, #T_e011f_row3_col1, #T_e011f_row4_col0, #T_e011f_row4_col1, #T_e011f_row5_col0, #T_e011f_row5_col1, #T_e011f_row6_col0, #T_e011f_row6_col1, #T_e011f_row7_col0, #T_e011f_row7_col1, #T_e011f_row8_col0, #T_e011f_row8_col1, #T_e011f_row9_col0, #T_e011f_row9_col1, #T_e011f_row10_col0, #T_e011f_row10_col1, #T_e011f_row11_col0, #T_e011f_row11_col1, #T_e011f_row12_col0, #T_e011f_row12_col1 {\n",
       "  text-align: left;\n",
       "}\n",
       "</style>\n",
       "<table id=\"T_e011f\" style=\"font-size: 14px\">\n",
       "  <thead>\n",
       "    <tr>\n",
       "      <th id=\"T_e011f_level0_col0\" class=\"col_heading level0 col0\" >Dataset Descriptor</th>\n",
       "      <th id=\"T_e011f_level0_col1\" class=\"col_heading level0 col1\" >Dataset-specific Information</th>\n",
       "    </tr>\n",
       "  </thead>\n",
       "  <tbody>\n",
       "    <tr>\n",
       "      <td id=\"T_e011f_row0_col0\" class=\"data row0 col0\" >Name of Dataset in TRE</td>\n",
       "      <td id=\"T_e011f_row0_col1\" class=\"data row0 col1\" >BCS70_bcs10</td>\n",
       "    </tr>\n",
       "    <tr>\n",
       "      <td id=\"T_e011f_row1_col0\" class=\"data row1 col0\" >Citation (APA)</td>\n",
       "      <td id=\"T_e011f_row1_col1\" class=\"data row1 col1\" >University College London, UCL Social Research Institute, Centre for Longitudinal Studies. (2021). <i>1970 British Cohort Study (BCS70): Age 46 Main Data.</i> UK Longitudinal Linkage Collaboration (UK LLC).  <a href=\"https://doi.org/10.71760/ukllc-dataset-00033-01\" rel=\"noopener noreferrer\" target=\"_blank\">https://doi.org/10.71760/ukllc-dataset-00033-01</a></td>\n",
       "    </tr>\n",
       "    <tr>\n",
       "      <td id=\"T_e011f_row2_col0\" class=\"data row2 col0\" >Download Citation</td>\n",
       "      <td id=\"T_e011f_row2_col1\" class=\"data row2 col1\" > <a href=\"https://api.datacite.org/application/vnd.citationstyles.csl+json/10.71760/ukllc-dataset-00033-01\" rel=\"noopener noreferrer\" target=\"_blank\">Citeproc JSON</a>&nbsp;&nbsp;&nbsp;&nbsp; <a href=\"https://api.datacite.org/application/x-bibtex/10.71760/ukllc-dataset-00033-01\" rel=\"noopener noreferrer\" target=\"_blank\">BibTeX</a>&nbsp;&nbsp;&nbsp;&nbsp; <a href=\"https://api.datacite.org/application/x-research-info-systems/10.71760/ukllc-dataset-00033-01\" rel=\"noopener noreferrer\" target=\"_blank\">RIS</a></td>\n",
       "    </tr>\n",
       "    <tr>\n",
       "      <td id=\"T_e011f_row3_col0\" class=\"data row3 col0\" >Series</td>\n",
       "      <td id=\"T_e011f_row3_col1\" class=\"data row3 col1\" > <a href=\"https://guidebook.ukllc.ac.uk/docs/lps_data/lps%20profiles/BCS70\">1970 British Cohort Study (BCS70)</a></td>\n",
       "    </tr>\n",
       "    <tr>\n",
       "      <td id=\"T_e011f_row4_col0\" class=\"data row4 col0\" >Owner</td>\n",
       "      <td id=\"T_e011f_row4_col1\" class=\"data row4 col1\" >UCL</td>\n",
       "    </tr>\n",
       "    <tr>\n",
       "      <td id=\"T_e011f_row5_col0\" class=\"data row5 col0\" >Temporal Coverage</td>\n",
       "      <td id=\"T_e011f_row5_col1\" class=\"data row5 col1\" >04/2016 - 04/2017</td>\n",
       "    </tr>\n",
       "    <tr>\n",
       "      <td id=\"T_e011f_row6_col0\" class=\"data row6 col0\" >Keywords</td>\n",
       "      <td id=\"T_e011f_row6_col1\" class=\"data row6 col1\" >Health,Objective Measures,Mental health,Blood sample,Employment</td>\n",
       "    </tr>\n",
       "    <tr>\n",
       "      <td id=\"T_e011f_row7_col0\" class=\"data row7 col0\" >Participants Invited</td>\n",
       "      <td id=\"T_e011f_row7_col1\" class=\"data row7 col1\" >8581</td>\n",
       "    </tr>\n",
       "    <tr>\n",
       "      <td id=\"T_e011f_row8_col0\" class=\"data row8 col0\" >Participant Count</td>\n",
       "      <td id=\"T_e011f_row8_col1\" class=\"data row8 col1\" >6993</td>\n",
       "    </tr>\n",
       "    <tr>\n",
       "      <td id=\"T_e011f_row9_col0\" class=\"data row9 col0\" >Number of variables</td>\n",
       "      <td id=\"T_e011f_row9_col1\" class=\"data row9 col1\" >1277</td>\n",
       "    </tr>\n",
       "    <tr>\n",
       "      <td id=\"T_e011f_row10_col0\" class=\"data row10 col0\" >Number of observations</td>\n",
       "      <td id=\"T_e011f_row10_col1\" class=\"data row10 col1\" >8581</td>\n",
       "    </tr>\n",
       "    <tr>\n",
       "      <td id=\"T_e011f_row11_col0\" class=\"data row11 col0\" >Specific Restrictions to Data Use</td>\n",
       "      <td id=\"T_e011f_row11_col1\" class=\"data row11 col1\" >None</td>\n",
       "    </tr>\n",
       "    <tr>\n",
       "      <td id=\"T_e011f_row12_col0\" class=\"data row12 col0\" >Build a Data Request</td>\n",
       "      <td id=\"T_e011f_row12_col1\" class=\"data row12 col1\" > <a href=\"https://explore.ukllc.ac.uk/\" rel=\"noopener noreferrer\" target=\"_blank\">https://explore.ukllc.ac.uk/</a></td>\n",
       "    </tr>\n",
       "  </tbody>\n",
       "</table>\n"
      ],
      "text/plain": [
       "<pandas.io.formats.style.Styler at 0x24926606e40>"
      ]
     },
     "execution_count": 3,
     "metadata": {},
     "output_type": "execute_result"
    }
   ],
   "source": [
    "ds.info_table()"
   ]
  },
  {
   "cell_type": "markdown",
   "id": "d41e84c9",
   "metadata": {},
   "source": [
    "## 2. Version History"
   ]
  },
  {
   "cell_type": "code",
   "execution_count": 4,
   "id": "eb162cde",
   "metadata": {
    "execution": {
     "iopub.execute_input": "2025-07-28T18:21:34.384012Z",
     "iopub.status.busy": "2025-07-28T18:21:34.382019Z",
     "iopub.status.idle": "2025-07-28T18:21:40.012976Z",
     "shell.execute_reply": "2025-07-28T18:21:40.009952Z"
    },
    "tags": [
     "remove-input"
    ]
   },
   "outputs": [
    {
     "data": {
      "text/html": [
       "<style type=\"text/css\">\n",
       "#T_606c7 th {\n",
       "  text-align: left;\n",
       "}\n",
       "#T_606c7_row0_col0, #T_606c7_row0_col1, #T_606c7_row1_col0, #T_606c7_row1_col1, #T_606c7_row2_col0, #T_606c7_row2_col1, #T_606c7_row3_col0, #T_606c7_row3_col1, #T_606c7_row4_col0, #T_606c7_row4_col1 {\n",
       "  text-align: left;\n",
       "}\n",
       "</style>\n",
       "<table id=\"T_606c7\" style=\"font-size: 14px\">\n",
       "  <thead>\n",
       "    <tr>\n",
       "      <th id=\"T_606c7_level0_col0\" class=\"col_heading level0 col0\" >Version</th>\n",
       "      <th id=\"T_606c7_level0_col1\" class=\"col_heading level0 col1\" >1</th>\n",
       "    </tr>\n",
       "  </thead>\n",
       "  <tbody>\n",
       "    <tr>\n",
       "      <td id=\"T_606c7_row0_col0\" class=\"data row0 col0\" >Version Date</td>\n",
       "      <td id=\"T_606c7_row0_col1\" class=\"data row0 col1\" >01 Nov 2021</td>\n",
       "    </tr>\n",
       "    <tr>\n",
       "      <td id=\"T_606c7_row1_col0\" class=\"data row1 col0\" >Number of Variables</td>\n",
       "      <td id=\"T_606c7_row1_col1\" class=\"data row1 col1\" >1279</td>\n",
       "    </tr>\n",
       "    <tr>\n",
       "      <td id=\"T_606c7_row2_col0\" class=\"data row2 col0\" >Number of Observations</td>\n",
       "      <td id=\"T_606c7_row2_col1\" class=\"data row2 col1\" >8581</td>\n",
       "    </tr>\n",
       "    <tr>\n",
       "      <td id=\"T_606c7_row3_col0\" class=\"data row3 col0\" >DOI</td>\n",
       "      <td id=\"T_606c7_row3_col1\" class=\"data row3 col1\" > <a href=\"https://doi.org/10.71760/ukllc-dataset-00033-01\" rel=\"noopener noreferrer\" target=\"_blank\">10.71760/ukllc-dataset-00033-01</a></td>\n",
       "    </tr>\n",
       "    <tr>\n",
       "      <td id=\"T_606c7_row4_col0\" class=\"data row4 col0\" >Change Log</td>\n",
       "      <td id=\"T_606c7_row4_col1\" class=\"data row4 col1\" > <a href=\"https://api.test.datacite.org/dois/10.71760/ukllc-dataset-00033-01/activities\" rel=\"noopener noreferrer\" target=\"_blank\">10.71760/ukllc-dataset-00033-01/activities</a></td>\n",
       "    </tr>\n",
       "  </tbody>\n",
       "</table>\n"
      ],
      "text/plain": [
       "<pandas.io.formats.style.Styler at 0x24926671a90>"
      ]
     },
     "execution_count": 4,
     "metadata": {},
     "output_type": "execute_result"
    }
   ],
   "source": [
    "ds.version_history()"
   ]
  },
  {
   "cell_type": "markdown",
   "id": "d93605f8",
   "metadata": {},
   "source": [
    "## 3. Documentation"
   ]
  },
  {
   "cell_type": "code",
   "execution_count": 5,
   "id": "d9babc39",
   "metadata": {
    "execution": {
     "iopub.execute_input": "2025-07-28T18:21:40.020970Z",
     "iopub.status.busy": "2025-07-28T18:21:40.019973Z",
     "iopub.status.idle": "2025-07-28T18:21:40.031163Z",
     "shell.execute_reply": "2025-07-28T18:21:40.030155Z"
    },
    "tags": [
     "remove-input"
    ]
   },
   "outputs": [
    {
     "data": {
      "text/markdown": [
       "We are currently building a documentation storage system which will host useful documents related to datasets and data owners. We will surface these documents on Guidebook."
      ],
      "text/plain": [
       "<IPython.core.display.Markdown object>"
      ]
     },
     "metadata": {},
     "output_type": "display_data"
    }
   ],
   "source": [
    "ds.documentation()"
   ]
  },
  {
   "cell_type": "markdown",
   "id": "885cd661",
   "metadata": {},
   "source": [
    "## 4. Useful Syntax"
   ]
  },
  {
   "cell_type": "code",
   "execution_count": 6,
   "id": "9624ce5b",
   "metadata": {
    "execution": {
     "iopub.execute_input": "2025-07-28T18:21:40.038170Z",
     "iopub.status.busy": "2025-07-28T18:21:40.038170Z",
     "iopub.status.idle": "2025-07-28T18:21:40.049577Z",
     "shell.execute_reply": "2025-07-28T18:21:40.047563Z"
    },
    "tags": [
     "remove-input"
    ]
   },
   "outputs": [
    {
     "data": {
      "text/markdown": [
       "Below we will include syntax that may be helpful to other researchers in the UK LLC TRE. For longer scripts, we will include a snippet of the code plus a link to Git where you can find the full scripts."
      ],
      "text/plain": [
       "<IPython.core.display.Markdown object>"
      ]
     },
     "metadata": {},
     "output_type": "display_data"
    }
   ],
   "source": [
    "ds.useful_syntax()"
   ]
  }
 ],
 "metadata": {
  "kernelspec": {
   "display_name": "jupbook",
   "language": "python",
   "name": "python3"
  },
  "language_info": {
   "codemirror_mode": {
    "name": "ipython",
    "version": 3
   },
   "file_extension": ".py",
   "mimetype": "text/x-python",
   "name": "python",
   "nbconvert_exporter": "python",
   "pygments_lexer": "ipython3",
   "version": "3.13.2"
  }
 },
 "nbformat": 4,
 "nbformat_minor": 5
}
