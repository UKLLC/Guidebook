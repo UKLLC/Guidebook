{
 "cells": [
  {
   "cell_type": "markdown",
   "id": "23adeb6f",
   "metadata": {},
   "source": [
    "# Age 5 Derived Data (BCS70)"
   ]
  },
  {
   "cell_type": "code",
   "execution_count": 1,
   "id": "82d4f301",
   "metadata": {
    "execution": {
     "iopub.execute_input": "2025-07-17T14:46:40.475110Z",
     "iopub.status.busy": "2025-07-17T14:46:40.474112Z",
     "iopub.status.idle": "2025-07-17T14:46:48.327130Z",
     "shell.execute_reply": "2025-07-17T14:46:48.321104Z"
    },
    "tags": [
     "remove-input"
    ]
   },
   "outputs": [
    {
     "data": {
      "text/markdown": [
       ">Last modified: 17 Jul 2025"
      ],
      "text/plain": [
       "<IPython.core.display.Markdown object>"
      ]
     },
     "metadata": {},
     "output_type": "display_data"
    }
   ],
   "source": [
    "\n",
    "import sys\n",
    "import os\n",
    "sys.path.append(os.path.abspath('../../../../scripts/'))\n",
    "from data_doc_helper import LPSDataSet as DS, last_modified\n",
    "API_KEY = os.environ['FASTAPI_KEY']\n",
    "ds = DS(\"BCS70\", \"bcs2_derived\")\n",
    "last_modified()\n"
   ]
  },
  {
   "cell_type": "markdown",
   "id": "f55fdfca",
   "metadata": {},
   "source": [
    "## 1. Summary"
   ]
  },
  {
   "cell_type": "code",
   "execution_count": 2,
   "id": "027fef84",
   "metadata": {
    "execution": {
     "iopub.execute_input": "2025-07-17T14:46:48.338452Z",
     "iopub.status.busy": "2025-07-17T14:46:48.337450Z",
     "iopub.status.idle": "2025-07-17T14:46:48.353794Z",
     "shell.execute_reply": "2025-07-17T14:46:48.351429Z"
    },
    "tags": [
     "remove-input"
    ]
   },
   "outputs": [
    {
     "data": {
      "text/markdown": [
       "Derivations based on collected sweep 2 survey data including child estimated reading age, vocabulary test score, parent's employment "
      ],
      "text/plain": [
       "<IPython.core.display.Markdown object>"
      ]
     },
     "metadata": {},
     "output_type": "display_data"
    }
   ],
   "source": [
    "ds.summary()"
   ]
  },
  {
   "cell_type": "code",
   "execution_count": 3,
   "id": "9014cdff",
   "metadata": {
    "execution": {
     "iopub.execute_input": "2025-07-17T14:46:48.359876Z",
     "iopub.status.busy": "2025-07-17T14:46:48.359876Z",
     "iopub.status.idle": "2025-07-17T14:46:49.318483Z",
     "shell.execute_reply": "2025-07-17T14:46:49.318483Z"
    },
    "tags": [
     "remove-input"
    ]
   },
   "outputs": [
    {
     "data": {
      "text/html": [
       "<style type=\"text/css\">\n",
       "#T_769de th {\n",
       "  text-align: left;\n",
       "}\n",
       "#T_769de_row0_col0, #T_769de_row0_col1, #T_769de_row1_col0, #T_769de_row1_col1, #T_769de_row2_col0, #T_769de_row2_col1, #T_769de_row3_col0, #T_769de_row3_col1, #T_769de_row4_col0, #T_769de_row4_col1, #T_769de_row5_col0, #T_769de_row5_col1, #T_769de_row6_col0, #T_769de_row6_col1, #T_769de_row7_col0, #T_769de_row7_col1, #T_769de_row8_col0, #T_769de_row8_col1, #T_769de_row9_col0, #T_769de_row9_col1, #T_769de_row10_col0, #T_769de_row10_col1, #T_769de_row11_col0, #T_769de_row11_col1, #T_769de_row12_col0, #T_769de_row12_col1 {\n",
       "  text-align: left;\n",
       "}\n",
       "</style>\n",
       "<table id=\"T_769de\" style=\"font-size: 14px\">\n",
       "  <thead>\n",
       "    <tr>\n",
       "      <th id=\"T_769de_level0_col0\" class=\"col_heading level0 col0\" >Dataset Descriptor</th>\n",
       "      <th id=\"T_769de_level0_col1\" class=\"col_heading level0 col1\" >Dataset-specific Information</th>\n",
       "    </tr>\n",
       "  </thead>\n",
       "  <tbody>\n",
       "    <tr>\n",
       "      <td id=\"T_769de_row0_col0\" class=\"data row0 col0\" >Name of Dataset in TRE</td>\n",
       "      <td id=\"T_769de_row0_col1\" class=\"data row0 col1\" >BCS70_bcs2_derived</td>\n",
       "    </tr>\n",
       "    <tr>\n",
       "      <td id=\"T_769de_row1_col0\" class=\"data row1 col0\" >Citation (APA)</td>\n",
       "      <td id=\"T_769de_row1_col1\" class=\"data row1 col1\" >University College London, UCL Social Research Institute, Centre for Longitudinal Studies. (2021). <i>1970 British Cohort Study (BCS70): Age 5 Derived Data.</i> UK Longitudinal Linkage Collaboration (UK LLC).  <a href=\"https://doi.org/10.83126/ukllc-dataset-00119-01\" rel=\"noopener noreferrer\" target=\"_blank\">https://doi.org/10.83126/ukllc-dataset-00119-01</a></td>\n",
       "    </tr>\n",
       "    <tr>\n",
       "      <td id=\"T_769de_row2_col0\" class=\"data row2 col0\" >Download Citation</td>\n",
       "      <td id=\"T_769de_row2_col1\" class=\"data row2 col1\" > <a href=\"https://api.test.datacite.org/application/vnd.citationstyles.csl+json/10.83126/ukllc-dataset-00119-01\" rel=\"noopener noreferrer\" target=\"_blank\">Citeproc JSON</a>&nbsp;&nbsp;&nbsp;&nbsp; <a href=\"https://api.test.datacite.org/application/x-bibtex/10.83126/ukllc-dataset-00119-01\" rel=\"noopener noreferrer\" target=\"_blank\">BibTeX</a>&nbsp;&nbsp;&nbsp;&nbsp; <a href=\"https://api.test.datacite.org/application/x-research-info-systems/10.83126/ukllc-dataset-00119-01\" rel=\"noopener noreferrer\" target=\"_blank\">RIS</a></td>\n",
       "    </tr>\n",
       "    <tr>\n",
       "      <td id=\"T_769de_row3_col0\" class=\"data row3 col0\" >Series</td>\n",
       "      <td id=\"T_769de_row3_col1\" class=\"data row3 col1\" > <a href=\"https://guidebook.ukllc.ac.uk/docs/lps/lps%20profiles/BCS70\">1970 British Cohort Study (BCS70)</a></td>\n",
       "    </tr>\n",
       "    <tr>\n",
       "      <td id=\"T_769de_row4_col0\" class=\"data row4 col0\" >Owner</td>\n",
       "      <td id=\"T_769de_row4_col1\" class=\"data row4 col1\" >UCL</td>\n",
       "    </tr>\n",
       "    <tr>\n",
       "      <td id=\"T_769de_row5_col0\" class=\"data row5 col0\" >Temporal Coverage</td>\n",
       "      <td id=\"T_769de_row5_col1\" class=\"data row5 col1\" >04/1975 - 04/1976</td>\n",
       "    </tr>\n",
       "    <tr>\n",
       "      <td id=\"T_769de_row6_col0\" class=\"data row6 col0\" >Keywords</td>\n",
       "      <td id=\"T_769de_row6_col1\" class=\"data row6 col1\" >Family Life,Health,employment,attitudes,Social mobility</td>\n",
       "    </tr>\n",
       "    <tr>\n",
       "      <td id=\"T_769de_row7_col0\" class=\"data row7 col0\" >Participants Invited</td>\n",
       "      <td id=\"T_769de_row7_col1\" class=\"data row7 col1\" >13135</td>\n",
       "    </tr>\n",
       "    <tr>\n",
       "      <td id=\"T_769de_row8_col0\" class=\"data row8 col0\" >Participant Count</td>\n",
       "      <td id=\"T_769de_row8_col1\" class=\"data row8 col1\" >7026</td>\n",
       "    </tr>\n",
       "    <tr>\n",
       "      <td id=\"T_769de_row9_col0\" class=\"data row9 col0\" >Number of variables</td>\n",
       "      <td id=\"T_769de_row9_col1\" class=\"data row9 col1\" >15</td>\n",
       "    </tr>\n",
       "    <tr>\n",
       "      <td id=\"T_769de_row10_col0\" class=\"data row10 col0\" >Number of observations</td>\n",
       "      <td id=\"T_769de_row10_col1\" class=\"data row10 col1\" >13135</td>\n",
       "    </tr>\n",
       "    <tr>\n",
       "      <td id=\"T_769de_row11_col0\" class=\"data row11 col0\" >Specific Restrictions to Data Use</td>\n",
       "      <td id=\"T_769de_row11_col1\" class=\"data row11 col1\" >None</td>\n",
       "    </tr>\n",
       "    <tr>\n",
       "      <td id=\"T_769de_row12_col0\" class=\"data row12 col0\" >Build a Data Request</td>\n",
       "      <td id=\"T_769de_row12_col1\" class=\"data row12 col1\" > <a href=\"https://explore.ukllc.ac.uk/\" rel=\"noopener noreferrer\" target=\"_blank\">https://explore.ukllc.ac.uk/</a></td>\n",
       "    </tr>\n",
       "  </tbody>\n",
       "</table>\n"
      ],
      "text/plain": [
       "<pandas.io.formats.style.Styler at 0x1fd643d06e0>"
      ]
     },
     "execution_count": 3,
     "metadata": {},
     "output_type": "execute_result"
    }
   ],
   "source": [
    "ds.info_table()"
   ]
  },
  {
   "cell_type": "markdown",
   "id": "e64ac5b3",
   "metadata": {},
   "source": [
    "## 2. Version History"
   ]
  },
  {
   "cell_type": "code",
   "execution_count": 4,
   "id": "2db94ce5",
   "metadata": {
    "execution": {
     "iopub.execute_input": "2025-07-17T14:46:49.323937Z",
     "iopub.status.busy": "2025-07-17T14:46:49.322940Z",
     "iopub.status.idle": "2025-07-17T14:46:51.770004Z",
     "shell.execute_reply": "2025-07-17T14:46:51.768479Z"
    },
    "tags": [
     "remove-input"
    ]
   },
   "outputs": [
    {
     "data": {
      "text/html": [
       "<style type=\"text/css\">\n",
       "#T_95280 th {\n",
       "  text-align: left;\n",
       "}\n",
       "#T_95280_row0_col0, #T_95280_row0_col1, #T_95280_row1_col0, #T_95280_row1_col1, #T_95280_row2_col0, #T_95280_row2_col1, #T_95280_row3_col0, #T_95280_row3_col1, #T_95280_row4_col0, #T_95280_row4_col1 {\n",
       "  text-align: left;\n",
       "}\n",
       "</style>\n",
       "<table id=\"T_95280\" style=\"font-size: 14px\">\n",
       "  <thead>\n",
       "    <tr>\n",
       "      <th id=\"T_95280_level0_col0\" class=\"col_heading level0 col0\" >Version</th>\n",
       "      <th id=\"T_95280_level0_col1\" class=\"col_heading level0 col1\" >1</th>\n",
       "    </tr>\n",
       "  </thead>\n",
       "  <tbody>\n",
       "    <tr>\n",
       "      <td id=\"T_95280_row0_col0\" class=\"data row0 col0\" >Version Date</td>\n",
       "      <td id=\"T_95280_row0_col1\" class=\"data row0 col1\" >01 Nov 2021</td>\n",
       "    </tr>\n",
       "    <tr>\n",
       "      <td id=\"T_95280_row1_col0\" class=\"data row1 col0\" >Number of Variables</td>\n",
       "      <td id=\"T_95280_row1_col1\" class=\"data row1 col1\" >15</td>\n",
       "    </tr>\n",
       "    <tr>\n",
       "      <td id=\"T_95280_row2_col0\" class=\"data row2 col0\" >Number of Observations</td>\n",
       "      <td id=\"T_95280_row2_col1\" class=\"data row2 col1\" >13135</td>\n",
       "    </tr>\n",
       "    <tr>\n",
       "      <td id=\"T_95280_row3_col0\" class=\"data row3 col0\" >DOI</td>\n",
       "      <td id=\"T_95280_row3_col1\" class=\"data row3 col1\" > <a href=\"https://doi.org/10.83126/ukllc-dataset-00119-01\" rel=\"noopener noreferrer\" target=\"_blank\">10.83126/ukllc-dataset-00119-01</a></td>\n",
       "    </tr>\n",
       "    <tr>\n",
       "      <td id=\"T_95280_row4_col0\" class=\"data row4 col0\" >Change Log</td>\n",
       "      <td id=\"T_95280_row4_col1\" class=\"data row4 col1\" > <a href=\"https://api.test.datacite.org/dois/10.83126/ukllc-dataset-00119-01/activities\" rel=\"noopener noreferrer\" target=\"_blank\">10.83126/ukllc-dataset-00119-01/activities</a></td>\n",
       "    </tr>\n",
       "  </tbody>\n",
       "</table>\n"
      ],
      "text/plain": [
       "<pandas.io.formats.style.Styler at 0x1fd6a084d70>"
      ]
     },
     "execution_count": 4,
     "metadata": {},
     "output_type": "execute_result"
    }
   ],
   "source": [
    "ds.version_history()"
   ]
  },
  {
   "cell_type": "markdown",
   "id": "a686f84c",
   "metadata": {},
   "source": [
    "## 3. Documentation"
   ]
  },
  {
   "cell_type": "code",
   "execution_count": 5,
   "id": "22364045",
   "metadata": {
    "execution": {
     "iopub.execute_input": "2025-07-17T14:46:51.778014Z",
     "iopub.status.busy": "2025-07-17T14:46:51.777003Z",
     "iopub.status.idle": "2025-07-17T14:46:51.788154Z",
     "shell.execute_reply": "2025-07-17T14:46:51.786648Z"
    },
    "tags": [
     "remove-input"
    ]
   },
   "outputs": [
    {
     "data": {
      "text/markdown": [
       "We are currently building a documentation storage system which will host useful documents related to datasets and data owners. We will surface these documents on Guidebook."
      ],
      "text/plain": [
       "<IPython.core.display.Markdown object>"
      ]
     },
     "metadata": {},
     "output_type": "display_data"
    }
   ],
   "source": [
    "ds.documentation()"
   ]
  },
  {
   "cell_type": "markdown",
   "id": "93cfb432",
   "metadata": {},
   "source": [
    "## 4. Useful Syntax"
   ]
  },
  {
   "cell_type": "code",
   "execution_count": 6,
   "id": "ecd58eb2",
   "metadata": {
    "execution": {
     "iopub.execute_input": "2025-07-17T14:46:51.795670Z",
     "iopub.status.busy": "2025-07-17T14:46:51.794623Z",
     "iopub.status.idle": "2025-07-17T14:46:51.802601Z",
     "shell.execute_reply": "2025-07-17T14:46:51.801581Z"
    },
    "tags": [
     "remove-input"
    ]
   },
   "outputs": [
    {
     "data": {
      "text/markdown": [
       "Below we will include syntax that may be helpful to other researchers in the UK LLC TRE. For longer scripts, we will include a snippet of the code plus a link to Git where you can find the full scripts."
      ],
      "text/plain": [
       "<IPython.core.display.Markdown object>"
      ]
     },
     "metadata": {},
     "output_type": "display_data"
    }
   ],
   "source": [
    "ds.useful_syntax()"
   ]
  }
 ],
 "metadata": {
  "language_info": {
   "codemirror_mode": {
    "name": "ipython",
    "version": 3
   },
   "file_extension": ".py",
   "mimetype": "text/x-python",
   "name": "python",
   "nbconvert_exporter": "python",
   "pygments_lexer": "ipython3",
   "version": "3.12.7"
  }
 },
 "nbformat": 4,
 "nbformat_minor": 5
}
