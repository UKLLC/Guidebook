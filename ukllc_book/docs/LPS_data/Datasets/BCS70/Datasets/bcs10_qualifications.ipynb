{
 "cells": [
  {
   "cell_type": "markdown",
   "id": "c278d31d",
   "metadata": {},
   "source": [
    "# Age 46 Qualifications (BCS70)"
   ]
  },
  {
   "cell_type": "code",
   "execution_count": 1,
   "id": "bb08e3ce",
   "metadata": {
    "execution": {
     "iopub.execute_input": "2025-07-17T14:45:03.688429Z",
     "iopub.status.busy": "2025-07-17T14:45:03.688429Z",
     "iopub.status.idle": "2025-07-17T14:45:12.291471Z",
     "shell.execute_reply": "2025-07-17T14:45:12.289948Z"
    },
    "tags": [
     "remove-input"
    ]
   },
   "outputs": [
    {
     "data": {
      "text/markdown": [
       ">Last modified: 17 Jul 2025"
      ],
      "text/plain": [
       "<IPython.core.display.Markdown object>"
      ]
     },
     "metadata": {},
     "output_type": "display_data"
    }
   ],
   "source": [
    "\n",
    "import sys\n",
    "import os\n",
    "sys.path.append(os.path.abspath('../../../../scripts/'))\n",
    "from data_doc_helper import LPSDataSet as DS, last_modified\n",
    "API_KEY = os.environ['FASTAPI_KEY']\n",
    "ds = DS(\"BCS70\", \"bcs10_qualifications\")\n",
    "last_modified()\n"
   ]
  },
  {
   "cell_type": "markdown",
   "id": "8b347e7e",
   "metadata": {},
   "source": [
    "## 1. Summary"
   ]
  },
  {
   "cell_type": "code",
   "execution_count": 2,
   "id": "573a4855",
   "metadata": {
    "execution": {
     "iopub.execute_input": "2025-07-17T14:45:12.298282Z",
     "iopub.status.busy": "2025-07-17T14:45:12.297285Z",
     "iopub.status.idle": "2025-07-17T14:45:12.306803Z",
     "shell.execute_reply": "2025-07-17T14:45:12.305280Z"
    },
    "tags": [
     "remove-input"
    ]
   },
   "outputs": [
    {
     "data": {
      "text/markdown": [
       "Details of each qualification recorded by respondent at sweep 10. Includes qualification type and  date achieved"
      ],
      "text/plain": [
       "<IPython.core.display.Markdown object>"
      ]
     },
     "metadata": {},
     "output_type": "display_data"
    }
   ],
   "source": [
    "ds.summary()"
   ]
  },
  {
   "cell_type": "code",
   "execution_count": 3,
   "id": "ff55c34e",
   "metadata": {
    "execution": {
     "iopub.execute_input": "2025-07-17T14:45:12.311511Z",
     "iopub.status.busy": "2025-07-17T14:45:12.311511Z",
     "iopub.status.idle": "2025-07-17T14:45:13.176700Z",
     "shell.execute_reply": "2025-07-17T14:45:13.175666Z"
    },
    "tags": [
     "remove-input"
    ]
   },
   "outputs": [
    {
     "data": {
      "text/html": [
       "<style type=\"text/css\">\n",
       "#T_ff8a7 th {\n",
       "  text-align: left;\n",
       "}\n",
       "#T_ff8a7_row0_col0, #T_ff8a7_row0_col1, #T_ff8a7_row1_col0, #T_ff8a7_row1_col1, #T_ff8a7_row2_col0, #T_ff8a7_row2_col1, #T_ff8a7_row3_col0, #T_ff8a7_row3_col1, #T_ff8a7_row4_col0, #T_ff8a7_row4_col1, #T_ff8a7_row5_col0, #T_ff8a7_row5_col1, #T_ff8a7_row6_col0, #T_ff8a7_row6_col1, #T_ff8a7_row7_col0, #T_ff8a7_row7_col1, #T_ff8a7_row8_col0, #T_ff8a7_row8_col1, #T_ff8a7_row9_col0, #T_ff8a7_row9_col1, #T_ff8a7_row10_col0, #T_ff8a7_row10_col1, #T_ff8a7_row11_col0, #T_ff8a7_row11_col1, #T_ff8a7_row12_col0, #T_ff8a7_row12_col1 {\n",
       "  text-align: left;\n",
       "}\n",
       "</style>\n",
       "<table id=\"T_ff8a7\" style=\"font-size: 14px\">\n",
       "  <thead>\n",
       "    <tr>\n",
       "      <th id=\"T_ff8a7_level0_col0\" class=\"col_heading level0 col0\" >Dataset Descriptor</th>\n",
       "      <th id=\"T_ff8a7_level0_col1\" class=\"col_heading level0 col1\" >Dataset-specific Information</th>\n",
       "    </tr>\n",
       "  </thead>\n",
       "  <tbody>\n",
       "    <tr>\n",
       "      <td id=\"T_ff8a7_row0_col0\" class=\"data row0 col0\" >Name of Dataset in TRE</td>\n",
       "      <td id=\"T_ff8a7_row0_col1\" class=\"data row0 col1\" >BCS70_bcs10_qualifications</td>\n",
       "    </tr>\n",
       "    <tr>\n",
       "      <td id=\"T_ff8a7_row1_col0\" class=\"data row1 col0\" >Citation (APA)</td>\n",
       "      <td id=\"T_ff8a7_row1_col1\" class=\"data row1 col1\" >University College London, UCL Social Research Institute, Centre for Longitudinal Studies. (2021). <i>1970 British Cohort Study (BCS70): Age 46 Qualifications.</i> UK Longitudinal Linkage Collaboration (UK LLC).  <a href=\"https://doi.org/10.83126/ukllc-dataset-00112-01\" rel=\"noopener noreferrer\" target=\"_blank\">https://doi.org/10.83126/ukllc-dataset-00112-01</a></td>\n",
       "    </tr>\n",
       "    <tr>\n",
       "      <td id=\"T_ff8a7_row2_col0\" class=\"data row2 col0\" >Download Citation</td>\n",
       "      <td id=\"T_ff8a7_row2_col1\" class=\"data row2 col1\" > <a href=\"https://api.test.datacite.org/application/vnd.citationstyles.csl+json/10.83126/ukllc-dataset-00112-01\" rel=\"noopener noreferrer\" target=\"_blank\">Citeproc JSON</a>&nbsp;&nbsp;&nbsp;&nbsp; <a href=\"https://api.test.datacite.org/application/x-bibtex/10.83126/ukllc-dataset-00112-01\" rel=\"noopener noreferrer\" target=\"_blank\">BibTeX</a>&nbsp;&nbsp;&nbsp;&nbsp; <a href=\"https://api.test.datacite.org/application/x-research-info-systems/10.83126/ukllc-dataset-00112-01\" rel=\"noopener noreferrer\" target=\"_blank\">RIS</a></td>\n",
       "    </tr>\n",
       "    <tr>\n",
       "      <td id=\"T_ff8a7_row3_col0\" class=\"data row3 col0\" >Series</td>\n",
       "      <td id=\"T_ff8a7_row3_col1\" class=\"data row3 col1\" > <a href=\"https://guidebook.ukllc.ac.uk/docs/lps/lps%20profiles/BCS70\">1970 British Cohort Study (BCS70)</a></td>\n",
       "    </tr>\n",
       "    <tr>\n",
       "      <td id=\"T_ff8a7_row4_col0\" class=\"data row4 col0\" >Owner</td>\n",
       "      <td id=\"T_ff8a7_row4_col1\" class=\"data row4 col1\" >UCL</td>\n",
       "    </tr>\n",
       "    <tr>\n",
       "      <td id=\"T_ff8a7_row5_col0\" class=\"data row5 col0\" >Temporal Coverage</td>\n",
       "      <td id=\"T_ff8a7_row5_col1\" class=\"data row5 col1\" >04/2016 - 04/2017</td>\n",
       "    </tr>\n",
       "    <tr>\n",
       "      <td id=\"T_ff8a7_row6_col0\" class=\"data row6 col0\" >Keywords</td>\n",
       "      <td id=\"T_ff8a7_row6_col1\" class=\"data row6 col1\" >Courses,Degree Type,Vocational,Fees,Dates</td>\n",
       "    </tr>\n",
       "    <tr>\n",
       "      <td id=\"T_ff8a7_row7_col0\" class=\"data row7 col0\" >Participants Invited</td>\n",
       "      <td id=\"T_ff8a7_row7_col1\" class=\"data row7 col1\" >8581</td>\n",
       "    </tr>\n",
       "    <tr>\n",
       "      <td id=\"T_ff8a7_row8_col0\" class=\"data row8 col0\" >Participant Count</td>\n",
       "      <td id=\"T_ff8a7_row8_col1\" class=\"data row8 col1\" >1505</td>\n",
       "    </tr>\n",
       "    <tr>\n",
       "      <td id=\"T_ff8a7_row9_col0\" class=\"data row9 col0\" >Number of variables</td>\n",
       "      <td id=\"T_ff8a7_row9_col1\" class=\"data row9 col1\" >18</td>\n",
       "    </tr>\n",
       "    <tr>\n",
       "      <td id=\"T_ff8a7_row10_col0\" class=\"data row10 col0\" >Number of observations</td>\n",
       "      <td id=\"T_ff8a7_row10_col1\" class=\"data row10 col1\" >3182</td>\n",
       "    </tr>\n",
       "    <tr>\n",
       "      <td id=\"T_ff8a7_row11_col0\" class=\"data row11 col0\" >Specific Restrictions to Data Use</td>\n",
       "      <td id=\"T_ff8a7_row11_col1\" class=\"data row11 col1\" >None</td>\n",
       "    </tr>\n",
       "    <tr>\n",
       "      <td id=\"T_ff8a7_row12_col0\" class=\"data row12 col0\" >Build a Data Request</td>\n",
       "      <td id=\"T_ff8a7_row12_col1\" class=\"data row12 col1\" > <a href=\"https://explore.ukllc.ac.uk/\" rel=\"noopener noreferrer\" target=\"_blank\">https://explore.ukllc.ac.uk/</a></td>\n",
       "    </tr>\n",
       "  </tbody>\n",
       "</table>\n"
      ],
      "text/plain": [
       "<pandas.io.formats.style.Styler at 0x24297cbede0>"
      ]
     },
     "execution_count": 3,
     "metadata": {},
     "output_type": "execute_result"
    }
   ],
   "source": [
    "ds.info_table()"
   ]
  },
  {
   "cell_type": "markdown",
   "id": "4ab7f2ed",
   "metadata": {},
   "source": [
    "## 2. Version History"
   ]
  },
  {
   "cell_type": "code",
   "execution_count": 4,
   "id": "eaa7a23a",
   "metadata": {
    "execution": {
     "iopub.execute_input": "2025-07-17T14:45:13.181857Z",
     "iopub.status.busy": "2025-07-17T14:45:13.181857Z",
     "iopub.status.idle": "2025-07-17T14:45:15.654126Z",
     "shell.execute_reply": "2025-07-17T14:45:15.650881Z"
    },
    "tags": [
     "remove-input"
    ]
   },
   "outputs": [
    {
     "data": {
      "text/html": [
       "<style type=\"text/css\">\n",
       "#T_771c6 th {\n",
       "  text-align: left;\n",
       "}\n",
       "#T_771c6_row0_col0, #T_771c6_row0_col1, #T_771c6_row1_col0, #T_771c6_row1_col1, #T_771c6_row2_col0, #T_771c6_row2_col1, #T_771c6_row3_col0, #T_771c6_row3_col1, #T_771c6_row4_col0, #T_771c6_row4_col1 {\n",
       "  text-align: left;\n",
       "}\n",
       "</style>\n",
       "<table id=\"T_771c6\" style=\"font-size: 14px\">\n",
       "  <thead>\n",
       "    <tr>\n",
       "      <th id=\"T_771c6_level0_col0\" class=\"col_heading level0 col0\" >Version</th>\n",
       "      <th id=\"T_771c6_level0_col1\" class=\"col_heading level0 col1\" >1</th>\n",
       "    </tr>\n",
       "  </thead>\n",
       "  <tbody>\n",
       "    <tr>\n",
       "      <td id=\"T_771c6_row0_col0\" class=\"data row0 col0\" >Version Date</td>\n",
       "      <td id=\"T_771c6_row0_col1\" class=\"data row0 col1\" >01 Nov 2021</td>\n",
       "    </tr>\n",
       "    <tr>\n",
       "      <td id=\"T_771c6_row1_col0\" class=\"data row1 col0\" >Number of Variables</td>\n",
       "      <td id=\"T_771c6_row1_col1\" class=\"data row1 col1\" >18</td>\n",
       "    </tr>\n",
       "    <tr>\n",
       "      <td id=\"T_771c6_row2_col0\" class=\"data row2 col0\" >Number of Observations</td>\n",
       "      <td id=\"T_771c6_row2_col1\" class=\"data row2 col1\" >3182</td>\n",
       "    </tr>\n",
       "    <tr>\n",
       "      <td id=\"T_771c6_row3_col0\" class=\"data row3 col0\" >DOI</td>\n",
       "      <td id=\"T_771c6_row3_col1\" class=\"data row3 col1\" > <a href=\"https://doi.org/10.83126/ukllc-dataset-00112-01\" rel=\"noopener noreferrer\" target=\"_blank\">10.83126/ukllc-dataset-00112-01</a></td>\n",
       "    </tr>\n",
       "    <tr>\n",
       "      <td id=\"T_771c6_row4_col0\" class=\"data row4 col0\" >Change Log</td>\n",
       "      <td id=\"T_771c6_row4_col1\" class=\"data row4 col1\" > <a href=\"https://api.test.datacite.org/dois/10.83126/ukllc-dataset-00112-01/activities\" rel=\"noopener noreferrer\" target=\"_blank\">10.83126/ukllc-dataset-00112-01/activities</a></td>\n",
       "    </tr>\n",
       "  </tbody>\n",
       "</table>\n"
      ],
      "text/plain": [
       "<pandas.io.formats.style.Styler at 0x2429bd4ec90>"
      ]
     },
     "execution_count": 4,
     "metadata": {},
     "output_type": "execute_result"
    }
   ],
   "source": [
    "ds.version_history()"
   ]
  },
  {
   "cell_type": "markdown",
   "id": "d9ff3733",
   "metadata": {},
   "source": [
    "## 3. Documentation"
   ]
  },
  {
   "cell_type": "code",
   "execution_count": 5,
   "id": "4c151baa",
   "metadata": {
    "execution": {
     "iopub.execute_input": "2025-07-17T14:45:15.667120Z",
     "iopub.status.busy": "2025-07-17T14:45:15.666115Z",
     "iopub.status.idle": "2025-07-17T14:45:15.679427Z",
     "shell.execute_reply": "2025-07-17T14:45:15.678387Z"
    },
    "tags": [
     "remove-input"
    ]
   },
   "outputs": [
    {
     "data": {
      "text/markdown": [
       "We are currently building a documentation storage system which will host useful documents related to datasets and data owners. We will surface these documents on Guidebook."
      ],
      "text/plain": [
       "<IPython.core.display.Markdown object>"
      ]
     },
     "metadata": {},
     "output_type": "display_data"
    }
   ],
   "source": [
    "ds.documentation()"
   ]
  },
  {
   "cell_type": "markdown",
   "id": "2b7216e4",
   "metadata": {},
   "source": [
    "## 4. Useful Syntax"
   ]
  },
  {
   "cell_type": "code",
   "execution_count": 6,
   "id": "b95b7204",
   "metadata": {
    "execution": {
     "iopub.execute_input": "2025-07-17T14:45:15.685419Z",
     "iopub.status.busy": "2025-07-17T14:45:15.685419Z",
     "iopub.status.idle": "2025-07-17T14:45:15.692420Z",
     "shell.execute_reply": "2025-07-17T14:45:15.692420Z"
    },
    "tags": [
     "remove-input"
    ]
   },
   "outputs": [
    {
     "data": {
      "text/markdown": [
       "Below we will include syntax that may be helpful to other researchers in the UK LLC TRE. For longer scripts, we will include a snippet of the code plus a link to Git where you can find the full scripts."
      ],
      "text/plain": [
       "<IPython.core.display.Markdown object>"
      ]
     },
     "metadata": {},
     "output_type": "display_data"
    }
   ],
   "source": [
    "ds.useful_syntax()"
   ]
  }
 ],
 "metadata": {
  "language_info": {
   "codemirror_mode": {
    "name": "ipython",
    "version": 3
   },
   "file_extension": ".py",
   "mimetype": "text/x-python",
   "name": "python",
   "nbconvert_exporter": "python",
   "pygments_lexer": "ipython3",
   "version": "3.12.7"
  }
 },
 "nbformat": 4,
 "nbformat_minor": 5
}
