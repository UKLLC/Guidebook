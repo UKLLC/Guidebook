{
 "cells": [
  {
   "cell_type": "markdown",
   "id": "bff86a06",
   "metadata": {},
   "source": [
    "# COVID-19 Survey Wave 3 (BCS70)"
   ]
  },
  {
   "cell_type": "code",
   "execution_count": 1,
   "id": "5eebf2ac",
   "metadata": {
    "execution": {
     "iopub.execute_input": "2025-07-17T14:56:37.634367Z",
     "iopub.status.busy": "2025-07-17T14:56:37.633159Z",
     "iopub.status.idle": "2025-07-17T14:56:47.481263Z",
     "shell.execute_reply": "2025-07-17T14:56:47.472239Z"
    },
    "tags": [
     "remove-input"
    ]
   },
   "outputs": [
    {
     "data": {
      "text/markdown": [
       ">Last modified: 17 Jul 2025"
      ],
      "text/plain": [
       "<IPython.core.display.Markdown object>"
      ]
     },
     "metadata": {},
     "output_type": "display_data"
    }
   ],
   "source": [
    "\n",
    "import sys\n",
    "import os\n",
    "sys.path.append(os.path.abspath('../../../../scripts/'))\n",
    "from data_doc_helper import LPSDataSet as DS, last_modified\n",
    "API_KEY = os.environ['FASTAPI_KEY']\n",
    "ds = DS(\"BCS70\", \"COVID_w3\")\n",
    "last_modified()\n"
   ]
  },
  {
   "cell_type": "markdown",
   "id": "67641555",
   "metadata": {},
   "source": [
    "## 1. Summary"
   ]
  },
  {
   "cell_type": "code",
   "execution_count": 2,
   "id": "867a1a40",
   "metadata": {
    "execution": {
     "iopub.execute_input": "2025-07-17T14:56:47.491263Z",
     "iopub.status.busy": "2025-07-17T14:56:47.490263Z",
     "iopub.status.idle": "2025-07-17T14:56:47.505274Z",
     "shell.execute_reply": "2025-07-17T14:56:47.503253Z"
    },
    "tags": [
     "remove-input"
    ]
   },
   "outputs": [
    {
     "data": {
      "text/markdown": [
       "An online questionnaire sent to all participants. Questions cover topics of wellbeing during the first wave of the pandemic, including the impact of COVID on participants’ mental health, work and family life. This dataset aimed to assess the continued impact of the pandemic and included additional questions on income during covid"
      ],
      "text/plain": [
       "<IPython.core.display.Markdown object>"
      ]
     },
     "metadata": {},
     "output_type": "display_data"
    }
   ],
   "source": [
    "ds.summary()"
   ]
  },
  {
   "cell_type": "code",
   "execution_count": 3,
   "id": "746908a1",
   "metadata": {
    "execution": {
     "iopub.execute_input": "2025-07-17T14:56:47.513410Z",
     "iopub.status.busy": "2025-07-17T14:56:47.513410Z",
     "iopub.status.idle": "2025-07-17T14:56:49.937591Z",
     "shell.execute_reply": "2025-07-17T14:56:49.935571Z"
    },
    "tags": [
     "remove-input"
    ]
   },
   "outputs": [
    {
     "data": {
      "text/html": [
       "<style type=\"text/css\">\n",
       "#T_2e5e5 th {\n",
       "  text-align: left;\n",
       "}\n",
       "#T_2e5e5_row0_col0, #T_2e5e5_row0_col1, #T_2e5e5_row1_col0, #T_2e5e5_row1_col1, #T_2e5e5_row2_col0, #T_2e5e5_row2_col1, #T_2e5e5_row3_col0, #T_2e5e5_row3_col1, #T_2e5e5_row4_col0, #T_2e5e5_row4_col1, #T_2e5e5_row5_col0, #T_2e5e5_row5_col1, #T_2e5e5_row6_col0, #T_2e5e5_row6_col1, #T_2e5e5_row7_col0, #T_2e5e5_row7_col1, #T_2e5e5_row8_col0, #T_2e5e5_row8_col1, #T_2e5e5_row9_col0, #T_2e5e5_row9_col1, #T_2e5e5_row10_col0, #T_2e5e5_row10_col1, #T_2e5e5_row11_col0, #T_2e5e5_row11_col1, #T_2e5e5_row12_col0, #T_2e5e5_row12_col1 {\n",
       "  text-align: left;\n",
       "}\n",
       "</style>\n",
       "<table id=\"T_2e5e5\" style=\"font-size: 14px\">\n",
       "  <thead>\n",
       "    <tr>\n",
       "      <th id=\"T_2e5e5_level0_col0\" class=\"col_heading level0 col0\" >Dataset Descriptor</th>\n",
       "      <th id=\"T_2e5e5_level0_col1\" class=\"col_heading level0 col1\" >Dataset-specific Information</th>\n",
       "    </tr>\n",
       "  </thead>\n",
       "  <tbody>\n",
       "    <tr>\n",
       "      <td id=\"T_2e5e5_row0_col0\" class=\"data row0 col0\" >Name of Dataset in TRE</td>\n",
       "      <td id=\"T_2e5e5_row0_col1\" class=\"data row0 col1\" >BCS70_COVID_w3</td>\n",
       "    </tr>\n",
       "    <tr>\n",
       "      <td id=\"T_2e5e5_row1_col0\" class=\"data row1 col0\" >Citation (APA)</td>\n",
       "      <td id=\"T_2e5e5_row1_col1\" class=\"data row1 col1\" >University College London, UCL Social Research Institute, Centre for Longitudinal Studies. (2021). <i>1970 British Cohort Study (BCS70): COVID-19 Survey Wave 3.</i> UK Longitudinal Linkage Collaboration (UK LLC).  <a href=\"https://doi.org/10.83126/ukllc-dataset-00102-01\" rel=\"noopener noreferrer\" target=\"_blank\">https://doi.org/10.83126/ukllc-dataset-00102-01</a></td>\n",
       "    </tr>\n",
       "    <tr>\n",
       "      <td id=\"T_2e5e5_row2_col0\" class=\"data row2 col0\" >Download Citation</td>\n",
       "      <td id=\"T_2e5e5_row2_col1\" class=\"data row2 col1\" > <a href=\"https://api.test.datacite.org/application/vnd.citationstyles.csl+json/10.83126/ukllc-dataset-00102-01\" rel=\"noopener noreferrer\" target=\"_blank\">Citeproc JSON</a>&nbsp;&nbsp;&nbsp;&nbsp; <a href=\"https://api.test.datacite.org/application/x-bibtex/10.83126/ukllc-dataset-00102-01\" rel=\"noopener noreferrer\" target=\"_blank\">BibTeX</a>&nbsp;&nbsp;&nbsp;&nbsp; <a href=\"https://api.test.datacite.org/application/x-research-info-systems/10.83126/ukllc-dataset-00102-01\" rel=\"noopener noreferrer\" target=\"_blank\">RIS</a></td>\n",
       "    </tr>\n",
       "    <tr>\n",
       "      <td id=\"T_2e5e5_row3_col0\" class=\"data row3 col0\" >Series</td>\n",
       "      <td id=\"T_2e5e5_row3_col1\" class=\"data row3 col1\" > <a href=\"https://guidebook.ukllc.ac.uk/docs/lps/lps%20profiles/BCS70\">1970 British Cohort Study (BCS70)</a></td>\n",
       "    </tr>\n",
       "    <tr>\n",
       "      <td id=\"T_2e5e5_row4_col0\" class=\"data row4 col0\" >Owner</td>\n",
       "      <td id=\"T_2e5e5_row4_col1\" class=\"data row4 col1\" >UCL</td>\n",
       "    </tr>\n",
       "    <tr>\n",
       "      <td id=\"T_2e5e5_row5_col0\" class=\"data row5 col0\" >Temporal Coverage</td>\n",
       "      <td id=\"T_2e5e5_row5_col1\" class=\"data row5 col1\" >04/2020 - 04/2021</td>\n",
       "    </tr>\n",
       "    <tr>\n",
       "      <td id=\"T_2e5e5_row6_col0\" class=\"data row6 col0\" >Keywords</td>\n",
       "      <td id=\"T_2e5e5_row6_col1\" class=\"data row6 col1\" >COVID,Education,Employment,Income,Household,Mental Health</td>\n",
       "    </tr>\n",
       "    <tr>\n",
       "      <td id=\"T_2e5e5_row7_col0\" class=\"data row7 col0\" >Participants Invited</td>\n",
       "      <td id=\"T_2e5e5_row7_col1\" class=\"data row7 col1\" >5758</td>\n",
       "    </tr>\n",
       "    <tr>\n",
       "      <td id=\"T_2e5e5_row8_col0\" class=\"data row8 col0\" >Participant Count</td>\n",
       "      <td id=\"T_2e5e5_row8_col1\" class=\"data row8 col1\" >5221</td>\n",
       "    </tr>\n",
       "    <tr>\n",
       "      <td id=\"T_2e5e5_row9_col0\" class=\"data row9 col0\" >Number of variables</td>\n",
       "      <td id=\"T_2e5e5_row9_col1\" class=\"data row9 col1\" >826</td>\n",
       "    </tr>\n",
       "    <tr>\n",
       "      <td id=\"T_2e5e5_row10_col0\" class=\"data row10 col0\" >Number of observations</td>\n",
       "      <td id=\"T_2e5e5_row10_col1\" class=\"data row10 col1\" >4239</td>\n",
       "    </tr>\n",
       "    <tr>\n",
       "      <td id=\"T_2e5e5_row11_col0\" class=\"data row11 col0\" >Specific Restrictions to Data Use</td>\n",
       "      <td id=\"T_2e5e5_row11_col1\" class=\"data row11 col1\" >None</td>\n",
       "    </tr>\n",
       "    <tr>\n",
       "      <td id=\"T_2e5e5_row12_col0\" class=\"data row12 col0\" >Build a Data Request</td>\n",
       "      <td id=\"T_2e5e5_row12_col1\" class=\"data row12 col1\" > <a href=\"https://explore.ukllc.ac.uk/\" rel=\"noopener noreferrer\" target=\"_blank\">https://explore.ukllc.ac.uk/</a></td>\n",
       "    </tr>\n",
       "  </tbody>\n",
       "</table>\n"
      ],
      "text/plain": [
       "<pandas.io.formats.style.Styler at 0x25c46038500>"
      ]
     },
     "execution_count": 3,
     "metadata": {},
     "output_type": "execute_result"
    }
   ],
   "source": [
    "ds.info_table()"
   ]
  },
  {
   "cell_type": "markdown",
   "id": "b1d5f138",
   "metadata": {},
   "source": [
    "## 2. Version History"
   ]
  },
  {
   "cell_type": "code",
   "execution_count": 4,
   "id": "f4495961",
   "metadata": {
    "execution": {
     "iopub.execute_input": "2025-07-17T14:56:49.944723Z",
     "iopub.status.busy": "2025-07-17T14:56:49.944723Z",
     "iopub.status.idle": "2025-07-17T14:56:52.914771Z",
     "shell.execute_reply": "2025-07-17T14:56:52.912061Z"
    },
    "tags": [
     "remove-input"
    ]
   },
   "outputs": [
    {
     "data": {
      "text/html": [
       "<style type=\"text/css\">\n",
       "#T_2d8d2 th {\n",
       "  text-align: left;\n",
       "}\n",
       "#T_2d8d2_row0_col0, #T_2d8d2_row0_col1, #T_2d8d2_row1_col0, #T_2d8d2_row1_col1, #T_2d8d2_row2_col0, #T_2d8d2_row2_col1, #T_2d8d2_row3_col0, #T_2d8d2_row3_col1, #T_2d8d2_row4_col0, #T_2d8d2_row4_col1 {\n",
       "  text-align: left;\n",
       "}\n",
       "</style>\n",
       "<table id=\"T_2d8d2\" style=\"font-size: 14px\">\n",
       "  <thead>\n",
       "    <tr>\n",
       "      <th id=\"T_2d8d2_level0_col0\" class=\"col_heading level0 col0\" >Version</th>\n",
       "      <th id=\"T_2d8d2_level0_col1\" class=\"col_heading level0 col1\" >1</th>\n",
       "    </tr>\n",
       "  </thead>\n",
       "  <tbody>\n",
       "    <tr>\n",
       "      <td id=\"T_2d8d2_row0_col0\" class=\"data row0 col0\" >Version Date</td>\n",
       "      <td id=\"T_2d8d2_row0_col1\" class=\"data row0 col1\" >01 Nov 2021</td>\n",
       "    </tr>\n",
       "    <tr>\n",
       "      <td id=\"T_2d8d2_row1_col0\" class=\"data row1 col0\" >Number of Variables</td>\n",
       "      <td id=\"T_2d8d2_row1_col1\" class=\"data row1 col1\" >4132</td>\n",
       "    </tr>\n",
       "    <tr>\n",
       "      <td id=\"T_2d8d2_row2_col0\" class=\"data row2 col0\" >Number of Observations</td>\n",
       "      <td id=\"T_2d8d2_row2_col1\" class=\"data row2 col1\" >4239</td>\n",
       "    </tr>\n",
       "    <tr>\n",
       "      <td id=\"T_2d8d2_row3_col0\" class=\"data row3 col0\" >DOI</td>\n",
       "      <td id=\"T_2d8d2_row3_col1\" class=\"data row3 col1\" > <a href=\"https://doi.org/10.83126/ukllc-dataset-00102-01\" rel=\"noopener noreferrer\" target=\"_blank\">10.83126/ukllc-dataset-00102-01</a></td>\n",
       "    </tr>\n",
       "    <tr>\n",
       "      <td id=\"T_2d8d2_row4_col0\" class=\"data row4 col0\" >Change Log</td>\n",
       "      <td id=\"T_2d8d2_row4_col1\" class=\"data row4 col1\" > <a href=\"https://api.test.datacite.org/dois/10.83126/ukllc-dataset-00102-01/activities\" rel=\"noopener noreferrer\" target=\"_blank\">10.83126/ukllc-dataset-00102-01/activities</a></td>\n",
       "    </tr>\n",
       "  </tbody>\n",
       "</table>\n"
      ],
      "text/plain": [
       "<pandas.io.formats.style.Styler at 0x25c4aa9fe60>"
      ]
     },
     "execution_count": 4,
     "metadata": {},
     "output_type": "execute_result"
    }
   ],
   "source": [
    "ds.version_history()"
   ]
  },
  {
   "cell_type": "markdown",
   "id": "f122902c",
   "metadata": {},
   "source": [
    "## 3. Documentation"
   ]
  },
  {
   "cell_type": "code",
   "execution_count": 5,
   "id": "b368c502",
   "metadata": {
    "execution": {
     "iopub.execute_input": "2025-07-17T14:56:52.923767Z",
     "iopub.status.busy": "2025-07-17T14:56:52.922777Z",
     "iopub.status.idle": "2025-07-17T14:56:52.936859Z",
     "shell.execute_reply": "2025-07-17T14:56:52.934512Z"
    },
    "tags": [
     "remove-input"
    ]
   },
   "outputs": [
    {
     "data": {
      "text/markdown": [
       "We are currently building a documentation storage system which will host useful documents related to datasets and data owners. We will surface these documents on Guidebook."
      ],
      "text/plain": [
       "<IPython.core.display.Markdown object>"
      ]
     },
     "metadata": {},
     "output_type": "display_data"
    }
   ],
   "source": [
    "ds.documentation()"
   ]
  },
  {
   "cell_type": "markdown",
   "id": "d59e1821",
   "metadata": {},
   "source": [
    "## 4. Useful Syntax"
   ]
  },
  {
   "cell_type": "code",
   "execution_count": 6,
   "id": "04ab8f84",
   "metadata": {
    "execution": {
     "iopub.execute_input": "2025-07-17T14:56:52.944089Z",
     "iopub.status.busy": "2025-07-17T14:56:52.944089Z",
     "iopub.status.idle": "2025-07-17T14:56:52.955637Z",
     "shell.execute_reply": "2025-07-17T14:56:52.953582Z"
    },
    "tags": [
     "remove-input"
    ]
   },
   "outputs": [
    {
     "data": {
      "text/markdown": [
       "Below we will include syntax that may be helpful to other researchers in the UK LLC TRE. For longer scripts, we will include a snippet of the code plus a link to Git where you can find the full scripts."
      ],
      "text/plain": [
       "<IPython.core.display.Markdown object>"
      ]
     },
     "metadata": {},
     "output_type": "display_data"
    }
   ],
   "source": [
    "ds.useful_syntax()"
   ]
  }
 ],
 "metadata": {
  "language_info": {
   "codemirror_mode": {
    "name": "ipython",
    "version": 3
   },
   "file_extension": ".py",
   "mimetype": "text/x-python",
   "name": "python",
   "nbconvert_exporter": "python",
   "pygments_lexer": "ipython3",
   "version": "3.12.7"
  }
 },
 "nbformat": 4,
 "nbformat_minor": 5
}
