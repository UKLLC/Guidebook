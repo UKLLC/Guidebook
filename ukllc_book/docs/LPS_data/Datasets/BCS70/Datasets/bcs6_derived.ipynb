{
 "cells": [
  {
   "cell_type": "markdown",
   "id": "461009e7",
   "metadata": {},
   "source": [
    "# Age 30 Derived Data (BCS70)"
   ]
  },
  {
   "cell_type": "code",
   "execution_count": 1,
   "id": "861a9e7c",
   "metadata": {
    "execution": {
     "iopub.execute_input": "2025-07-28T18:32:02.061522Z",
     "iopub.status.busy": "2025-07-28T18:32:02.061522Z",
     "iopub.status.idle": "2025-07-28T18:32:13.720469Z",
     "shell.execute_reply": "2025-07-28T18:32:13.717452Z"
    },
    "tags": [
     "remove-input"
    ]
   },
   "outputs": [
    {
     "data": {
      "text/markdown": [
       ">Last modified: 28 Jul 2025"
      ],
      "text/plain": [
       "<IPython.core.display.Markdown object>"
      ]
     },
     "metadata": {},
     "output_type": "display_data"
    }
   ],
   "source": [
    "\n",
    "import sys\n",
    "import os\n",
    "sys.path.append(os.path.abspath('../../../../scripts/'))\n",
    "from data_doc_helper import LPSDataSet as DS, last_modified\n",
    "API_KEY = os.environ['FASTAPI_KEY']\n",
    "ds = DS(\"BCS70\", \"bcs6_derived\")\n",
    "last_modified()\n"
   ]
  },
  {
   "cell_type": "markdown",
   "id": "bbee29d9",
   "metadata": {},
   "source": [
    "## 1. Summary"
   ]
  },
  {
   "cell_type": "code",
   "execution_count": 2,
   "id": "3325d4a4",
   "metadata": {
    "execution": {
     "iopub.execute_input": "2025-07-28T18:32:13.728471Z",
     "iopub.status.busy": "2025-07-28T18:32:13.728471Z",
     "iopub.status.idle": "2025-07-28T18:32:13.742773Z",
     "shell.execute_reply": "2025-07-28T18:32:13.740752Z"
    },
    "tags": [
     "remove-input"
    ]
   },
   "outputs": [
    {
     "data": {
      "text/markdown": [
       "Derivations based on collected sweep 6 survey data including drug use, health, skills, malaise"
      ],
      "text/plain": [
       "<IPython.core.display.Markdown object>"
      ]
     },
     "metadata": {},
     "output_type": "display_data"
    }
   ],
   "source": [
    "ds.summary()"
   ]
  },
  {
   "cell_type": "code",
   "execution_count": 3,
   "id": "16e1cb20",
   "metadata": {
    "execution": {
     "iopub.execute_input": "2025-07-28T18:32:13.751186Z",
     "iopub.status.busy": "2025-07-28T18:32:13.749187Z",
     "iopub.status.idle": "2025-07-28T18:32:15.457659Z",
     "shell.execute_reply": "2025-07-28T18:32:15.455290Z"
    },
    "tags": [
     "remove-input"
    ]
   },
   "outputs": [
    {
     "data": {
      "text/html": [
       "<style type=\"text/css\">\n",
       "#T_e696d th {\n",
       "  text-align: left;\n",
       "}\n",
       "#T_e696d_row0_col0, #T_e696d_row0_col1, #T_e696d_row1_col0, #T_e696d_row1_col1, #T_e696d_row2_col0, #T_e696d_row2_col1, #T_e696d_row3_col0, #T_e696d_row3_col1, #T_e696d_row4_col0, #T_e696d_row4_col1, #T_e696d_row5_col0, #T_e696d_row5_col1, #T_e696d_row6_col0, #T_e696d_row6_col1, #T_e696d_row7_col0, #T_e696d_row7_col1, #T_e696d_row8_col0, #T_e696d_row8_col1, #T_e696d_row9_col0, #T_e696d_row9_col1, #T_e696d_row10_col0, #T_e696d_row10_col1, #T_e696d_row11_col0, #T_e696d_row11_col1, #T_e696d_row12_col0, #T_e696d_row12_col1 {\n",
       "  text-align: left;\n",
       "}\n",
       "</style>\n",
       "<table id=\"T_e696d\" style=\"font-size: 14px\">\n",
       "  <thead>\n",
       "    <tr>\n",
       "      <th id=\"T_e696d_level0_col0\" class=\"col_heading level0 col0\" >Dataset Descriptor</th>\n",
       "      <th id=\"T_e696d_level0_col1\" class=\"col_heading level0 col1\" >Dataset-specific Information</th>\n",
       "    </tr>\n",
       "  </thead>\n",
       "  <tbody>\n",
       "    <tr>\n",
       "      <td id=\"T_e696d_row0_col0\" class=\"data row0 col0\" >Name of Dataset in TRE</td>\n",
       "      <td id=\"T_e696d_row0_col1\" class=\"data row0 col1\" >BCS70_bcs6_derived</td>\n",
       "    </tr>\n",
       "    <tr>\n",
       "      <td id=\"T_e696d_row1_col0\" class=\"data row1 col0\" >Citation (APA)</td>\n",
       "      <td id=\"T_e696d_row1_col1\" class=\"data row1 col1\" >University College London, UCL Social Research Institute, Centre for Longitudinal Studies. (2021). <i>1970 British Cohort Study (BCS70): Age 30 Derived Data.</i> UK Longitudinal Linkage Collaboration (UK LLC).  <a href=\"https://doi.org/10.71760/ukllc-dataset-00050-01\" rel=\"noopener noreferrer\" target=\"_blank\">https://doi.org/10.71760/ukllc-dataset-00050-01</a></td>\n",
       "    </tr>\n",
       "    <tr>\n",
       "      <td id=\"T_e696d_row2_col0\" class=\"data row2 col0\" >Download Citation</td>\n",
       "      <td id=\"T_e696d_row2_col1\" class=\"data row2 col1\" > <a href=\"https://api.datacite.org/application/vnd.citationstyles.csl+json/10.71760/ukllc-dataset-00050-01\" rel=\"noopener noreferrer\" target=\"_blank\">Citeproc JSON</a>&nbsp;&nbsp;&nbsp;&nbsp; <a href=\"https://api.datacite.org/application/x-bibtex/10.71760/ukllc-dataset-00050-01\" rel=\"noopener noreferrer\" target=\"_blank\">BibTeX</a>&nbsp;&nbsp;&nbsp;&nbsp; <a href=\"https://api.datacite.org/application/x-research-info-systems/10.71760/ukllc-dataset-00050-01\" rel=\"noopener noreferrer\" target=\"_blank\">RIS</a></td>\n",
       "    </tr>\n",
       "    <tr>\n",
       "      <td id=\"T_e696d_row3_col0\" class=\"data row3 col0\" >Series</td>\n",
       "      <td id=\"T_e696d_row3_col1\" class=\"data row3 col1\" > <a href=\"https://guidebook.ukllc.ac.uk/docs/lps_data/lps%20profiles/BCS70\">1970 British Cohort Study (BCS70)</a></td>\n",
       "    </tr>\n",
       "    <tr>\n",
       "      <td id=\"T_e696d_row4_col0\" class=\"data row4 col0\" >Owner</td>\n",
       "      <td id=\"T_e696d_row4_col1\" class=\"data row4 col1\" >UCL</td>\n",
       "    </tr>\n",
       "    <tr>\n",
       "      <td id=\"T_e696d_row5_col0\" class=\"data row5 col0\" >Temporal Coverage</td>\n",
       "      <td id=\"T_e696d_row5_col1\" class=\"data row5 col1\" >04/1999 - 04/2000</td>\n",
       "    </tr>\n",
       "    <tr>\n",
       "      <td id=\"T_e696d_row6_col0\" class=\"data row6 col0\" >Keywords</td>\n",
       "      <td id=\"T_e696d_row6_col1\" class=\"data row6 col1\" >Health,Employment,Partnerships,Attitudes,Parenthood,Pregnancies</td>\n",
       "    </tr>\n",
       "    <tr>\n",
       "      <td id=\"T_e696d_row7_col0\" class=\"data row7 col0\" >Participants Invited</td>\n",
       "      <td id=\"T_e696d_row7_col1\" class=\"data row7 col1\" >11261</td>\n",
       "    </tr>\n",
       "    <tr>\n",
       "      <td id=\"T_e696d_row8_col0\" class=\"data row8 col0\" >Participant Count</td>\n",
       "      <td id=\"T_e696d_row8_col1\" class=\"data row8 col1\" >7288</td>\n",
       "    </tr>\n",
       "    <tr>\n",
       "      <td id=\"T_e696d_row9_col0\" class=\"data row9 col0\" >Number of variables</td>\n",
       "      <td id=\"T_e696d_row9_col1\" class=\"data row9 col1\" >12</td>\n",
       "    </tr>\n",
       "    <tr>\n",
       "      <td id=\"T_e696d_row10_col0\" class=\"data row10 col0\" >Number of observations</td>\n",
       "      <td id=\"T_e696d_row10_col1\" class=\"data row10 col1\" >11261</td>\n",
       "    </tr>\n",
       "    <tr>\n",
       "      <td id=\"T_e696d_row11_col0\" class=\"data row11 col0\" >Specific Restrictions to Data Use</td>\n",
       "      <td id=\"T_e696d_row11_col1\" class=\"data row11 col1\" >None</td>\n",
       "    </tr>\n",
       "    <tr>\n",
       "      <td id=\"T_e696d_row12_col0\" class=\"data row12 col0\" >Build a Data Request</td>\n",
       "      <td id=\"T_e696d_row12_col1\" class=\"data row12 col1\" > <a href=\"https://explore.ukllc.ac.uk/\" rel=\"noopener noreferrer\" target=\"_blank\">https://explore.ukllc.ac.uk/</a></td>\n",
       "    </tr>\n",
       "  </tbody>\n",
       "</table>\n"
      ],
      "text/plain": [
       "<pandas.io.formats.style.Styler at 0x17525a30440>"
      ]
     },
     "execution_count": 3,
     "metadata": {},
     "output_type": "execute_result"
    }
   ],
   "source": [
    "ds.info_table()"
   ]
  },
  {
   "cell_type": "markdown",
   "id": "a1cb69fb",
   "metadata": {},
   "source": [
    "## 2. Version History"
   ]
  },
  {
   "cell_type": "code",
   "execution_count": 4,
   "id": "24192855",
   "metadata": {
    "execution": {
     "iopub.execute_input": "2025-07-28T18:32:15.466674Z",
     "iopub.status.busy": "2025-07-28T18:32:15.465674Z",
     "iopub.status.idle": "2025-07-28T18:32:21.049549Z",
     "shell.execute_reply": "2025-07-28T18:32:21.046534Z"
    },
    "tags": [
     "remove-input"
    ]
   },
   "outputs": [
    {
     "data": {
      "text/html": [
       "<style type=\"text/css\">\n",
       "#T_7b113 th {\n",
       "  text-align: left;\n",
       "}\n",
       "#T_7b113_row0_col0, #T_7b113_row0_col1, #T_7b113_row1_col0, #T_7b113_row1_col1, #T_7b113_row2_col0, #T_7b113_row2_col1, #T_7b113_row3_col0, #T_7b113_row3_col1, #T_7b113_row4_col0, #T_7b113_row4_col1 {\n",
       "  text-align: left;\n",
       "}\n",
       "</style>\n",
       "<table id=\"T_7b113\" style=\"font-size: 14px\">\n",
       "  <thead>\n",
       "    <tr>\n",
       "      <th id=\"T_7b113_level0_col0\" class=\"col_heading level0 col0\" >Version</th>\n",
       "      <th id=\"T_7b113_level0_col1\" class=\"col_heading level0 col1\" >1</th>\n",
       "    </tr>\n",
       "  </thead>\n",
       "  <tbody>\n",
       "    <tr>\n",
       "      <td id=\"T_7b113_row0_col0\" class=\"data row0 col0\" >Version Date</td>\n",
       "      <td id=\"T_7b113_row0_col1\" class=\"data row0 col1\" >01 Nov 2021</td>\n",
       "    </tr>\n",
       "    <tr>\n",
       "      <td id=\"T_7b113_row1_col0\" class=\"data row1 col0\" >Number of Variables</td>\n",
       "      <td id=\"T_7b113_row1_col1\" class=\"data row1 col1\" >12</td>\n",
       "    </tr>\n",
       "    <tr>\n",
       "      <td id=\"T_7b113_row2_col0\" class=\"data row2 col0\" >Number of Observations</td>\n",
       "      <td id=\"T_7b113_row2_col1\" class=\"data row2 col1\" >11261</td>\n",
       "    </tr>\n",
       "    <tr>\n",
       "      <td id=\"T_7b113_row3_col0\" class=\"data row3 col0\" >DOI</td>\n",
       "      <td id=\"T_7b113_row3_col1\" class=\"data row3 col1\" > <a href=\"https://doi.org/10.71760/ukllc-dataset-00050-01\" rel=\"noopener noreferrer\" target=\"_blank\">10.71760/ukllc-dataset-00050-01</a></td>\n",
       "    </tr>\n",
       "    <tr>\n",
       "      <td id=\"T_7b113_row4_col0\" class=\"data row4 col0\" >Change Log</td>\n",
       "      <td id=\"T_7b113_row4_col1\" class=\"data row4 col1\" > <a href=\"https://api.test.datacite.org/dois/10.71760/ukllc-dataset-00050-01/activities\" rel=\"noopener noreferrer\" target=\"_blank\">10.71760/ukllc-dataset-00050-01/activities</a></td>\n",
       "    </tr>\n",
       "  </tbody>\n",
       "</table>\n"
      ],
      "text/plain": [
       "<pandas.io.formats.style.Styler at 0x1752b7e3e30>"
      ]
     },
     "execution_count": 4,
     "metadata": {},
     "output_type": "execute_result"
    }
   ],
   "source": [
    "ds.version_history()"
   ]
  },
  {
   "cell_type": "markdown",
   "id": "2b8aad22",
   "metadata": {},
   "source": [
    "## 3. Documentation"
   ]
  },
  {
   "cell_type": "code",
   "execution_count": 5,
   "id": "f9ef256b",
   "metadata": {
    "execution": {
     "iopub.execute_input": "2025-07-28T18:32:21.059088Z",
     "iopub.status.busy": "2025-07-28T18:32:21.059088Z",
     "iopub.status.idle": "2025-07-28T18:32:21.074699Z",
     "shell.execute_reply": "2025-07-28T18:32:21.072678Z"
    },
    "tags": [
     "remove-input"
    ]
   },
   "outputs": [
    {
     "data": {
      "text/markdown": [
       "We are currently building a documentation storage system which will host useful documents related to datasets and data owners. We will surface these documents on Guidebook."
      ],
      "text/plain": [
       "<IPython.core.display.Markdown object>"
      ]
     },
     "metadata": {},
     "output_type": "display_data"
    }
   ],
   "source": [
    "ds.documentation()"
   ]
  },
  {
   "cell_type": "markdown",
   "id": "465a9e7c",
   "metadata": {},
   "source": [
    "## 4. Useful Syntax"
   ]
  },
  {
   "cell_type": "code",
   "execution_count": 6,
   "id": "f6e5f8c1",
   "metadata": {
    "execution": {
     "iopub.execute_input": "2025-07-28T18:32:21.081689Z",
     "iopub.status.busy": "2025-07-28T18:32:21.081689Z",
     "iopub.status.idle": "2025-07-28T18:32:21.093018Z",
     "shell.execute_reply": "2025-07-28T18:32:21.090528Z"
    },
    "tags": [
     "remove-input"
    ]
   },
   "outputs": [
    {
     "data": {
      "text/markdown": [
       "Below we will include syntax that may be helpful to other researchers in the UK LLC TRE. For longer scripts, we will include a snippet of the code plus a link to Git where you can find the full scripts."
      ],
      "text/plain": [
       "<IPython.core.display.Markdown object>"
      ]
     },
     "metadata": {},
     "output_type": "display_data"
    }
   ],
   "source": [
    "ds.useful_syntax()"
   ]
  }
 ],
 "metadata": {
  "language_info": {
   "codemirror_mode": {
    "name": "ipython",
    "version": 3
   },
   "file_extension": ".py",
   "mimetype": "text/x-python",
   "name": "python",
   "nbconvert_exporter": "python",
   "pygments_lexer": "ipython3",
   "version": "3.12.7"
  }
 },
 "nbformat": 4,
 "nbformat_minor": 5
}
