{
 "cells": [
  {
   "cell_type": "markdown",
   "id": "792bd2fe",
   "metadata": {},
   "source": [
    "# Age 5 Survey Data (BCS70)"
   ]
  },
  {
   "cell_type": "code",
   "execution_count": 1,
   "id": "386b0224",
   "metadata": {
    "execution": {
     "iopub.execute_input": "2025-07-17T14:46:03.856567Z",
     "iopub.status.busy": "2025-07-17T14:46:03.855567Z",
     "iopub.status.idle": "2025-07-17T14:46:11.620360Z",
     "shell.execute_reply": "2025-07-17T14:46:11.618833Z"
    },
    "tags": [
     "remove-input"
    ]
   },
   "outputs": [
    {
     "data": {
      "text/markdown": [
       ">Last modified: 17 Jul 2025"
      ],
      "text/plain": [
       "<IPython.core.display.Markdown object>"
      ]
     },
     "metadata": {},
     "output_type": "display_data"
    }
   ],
   "source": [
    "\n",
    "import sys\n",
    "import os\n",
    "sys.path.append(os.path.abspath('../../../../scripts/'))\n",
    "from data_doc_helper import LPSDataSet as DS, last_modified\n",
    "API_KEY = os.environ['FASTAPI_KEY']\n",
    "ds = DS(\"BCS70\", \"bcs2\")\n",
    "last_modified()\n"
   ]
  },
  {
   "cell_type": "markdown",
   "id": "25031f3a",
   "metadata": {},
   "source": [
    "## 1. Summary"
   ]
  },
  {
   "cell_type": "code",
   "execution_count": 2,
   "id": "3c9368ed",
   "metadata": {
    "execution": {
     "iopub.execute_input": "2025-07-17T14:46:11.627360Z",
     "iopub.status.busy": "2025-07-17T14:46:11.627360Z",
     "iopub.status.idle": "2025-07-17T14:46:11.636599Z",
     "shell.execute_reply": "2025-07-17T14:46:11.635584Z"
    },
    "tags": [
     "remove-input"
    ]
   },
   "outputs": [
    {
     "data": {
      "text/markdown": [
       "The purpose of the 5-year survey was to review and evaluate pre-school health, care and education servlces throughout Britain as experienced by the cohort of children born during the week 5-11 April 1970. The Home Interview Questionnalre (HIQ) was administered by health visitors who carried out the Interviews In the children’s own homes"
      ],
      "text/plain": [
       "<IPython.core.display.Markdown object>"
      ]
     },
     "metadata": {},
     "output_type": "display_data"
    }
   ],
   "source": [
    "ds.summary()"
   ]
  },
  {
   "cell_type": "code",
   "execution_count": 3,
   "id": "8c06f475",
   "metadata": {
    "execution": {
     "iopub.execute_input": "2025-07-17T14:46:11.641599Z",
     "iopub.status.busy": "2025-07-17T14:46:11.641599Z",
     "iopub.status.idle": "2025-07-17T14:46:13.787601Z",
     "shell.execute_reply": "2025-07-17T14:46:13.786585Z"
    },
    "tags": [
     "remove-input"
    ]
   },
   "outputs": [
    {
     "data": {
      "text/html": [
       "<style type=\"text/css\">\n",
       "#T_702b2 th {\n",
       "  text-align: left;\n",
       "}\n",
       "#T_702b2_row0_col0, #T_702b2_row0_col1, #T_702b2_row1_col0, #T_702b2_row1_col1, #T_702b2_row2_col0, #T_702b2_row2_col1, #T_702b2_row3_col0, #T_702b2_row3_col1, #T_702b2_row4_col0, #T_702b2_row4_col1, #T_702b2_row5_col0, #T_702b2_row5_col1, #T_702b2_row6_col0, #T_702b2_row6_col1, #T_702b2_row7_col0, #T_702b2_row7_col1, #T_702b2_row8_col0, #T_702b2_row8_col1, #T_702b2_row9_col0, #T_702b2_row9_col1, #T_702b2_row10_col0, #T_702b2_row10_col1, #T_702b2_row11_col0, #T_702b2_row11_col1, #T_702b2_row12_col0, #T_702b2_row12_col1 {\n",
       "  text-align: left;\n",
       "}\n",
       "</style>\n",
       "<table id=\"T_702b2\" style=\"font-size: 14px\">\n",
       "  <thead>\n",
       "    <tr>\n",
       "      <th id=\"T_702b2_level0_col0\" class=\"col_heading level0 col0\" >Dataset Descriptor</th>\n",
       "      <th id=\"T_702b2_level0_col1\" class=\"col_heading level0 col1\" >Dataset-specific Information</th>\n",
       "    </tr>\n",
       "  </thead>\n",
       "  <tbody>\n",
       "    <tr>\n",
       "      <td id=\"T_702b2_row0_col0\" class=\"data row0 col0\" >Name of Dataset in TRE</td>\n",
       "      <td id=\"T_702b2_row0_col1\" class=\"data row0 col1\" >BCS70_bcs2</td>\n",
       "    </tr>\n",
       "    <tr>\n",
       "      <td id=\"T_702b2_row1_col0\" class=\"data row1 col0\" >Citation (APA)</td>\n",
       "      <td id=\"T_702b2_row1_col1\" class=\"data row1 col1\" >University College London, UCL Social Research Institute, Centre for Longitudinal Studies. (2021). <i>1970 British Cohort Study (BCS70): Age 5 Survey Data.</i> UK Longitudinal Linkage Collaboration (UK LLC).  <a href=\"https://doi.org/10.83126/ukllc-dataset-00122-01\" rel=\"noopener noreferrer\" target=\"_blank\">https://doi.org/10.83126/ukllc-dataset-00122-01</a></td>\n",
       "    </tr>\n",
       "    <tr>\n",
       "      <td id=\"T_702b2_row2_col0\" class=\"data row2 col0\" >Download Citation</td>\n",
       "      <td id=\"T_702b2_row2_col1\" class=\"data row2 col1\" > <a href=\"https://api.test.datacite.org/application/vnd.citationstyles.csl+json/10.83126/ukllc-dataset-00122-01\" rel=\"noopener noreferrer\" target=\"_blank\">Citeproc JSON</a>&nbsp;&nbsp;&nbsp;&nbsp; <a href=\"https://api.test.datacite.org/application/x-bibtex/10.83126/ukllc-dataset-00122-01\" rel=\"noopener noreferrer\" target=\"_blank\">BibTeX</a>&nbsp;&nbsp;&nbsp;&nbsp; <a href=\"https://api.test.datacite.org/application/x-research-info-systems/10.83126/ukllc-dataset-00122-01\" rel=\"noopener noreferrer\" target=\"_blank\">RIS</a></td>\n",
       "    </tr>\n",
       "    <tr>\n",
       "      <td id=\"T_702b2_row3_col0\" class=\"data row3 col0\" >Series</td>\n",
       "      <td id=\"T_702b2_row3_col1\" class=\"data row3 col1\" > <a href=\"https://guidebook.ukllc.ac.uk/docs/lps/lps%20profiles/BCS70\">1970 British Cohort Study (BCS70)</a></td>\n",
       "    </tr>\n",
       "    <tr>\n",
       "      <td id=\"T_702b2_row4_col0\" class=\"data row4 col0\" >Owner</td>\n",
       "      <td id=\"T_702b2_row4_col1\" class=\"data row4 col1\" >UCL</td>\n",
       "    </tr>\n",
       "    <tr>\n",
       "      <td id=\"T_702b2_row5_col0\" class=\"data row5 col0\" >Temporal Coverage</td>\n",
       "      <td id=\"T_702b2_row5_col1\" class=\"data row5 col1\" >04/1975 - 04/1976</td>\n",
       "    </tr>\n",
       "    <tr>\n",
       "      <td id=\"T_702b2_row6_col0\" class=\"data row6 col0\" >Keywords</td>\n",
       "      <td id=\"T_702b2_row6_col1\" class=\"data row6 col1\" >Family Life,Health,employment,attitudes,Social mobility</td>\n",
       "    </tr>\n",
       "    <tr>\n",
       "      <td id=\"T_702b2_row7_col0\" class=\"data row7 col0\" >Participants Invited</td>\n",
       "      <td id=\"T_702b2_row7_col1\" class=\"data row7 col1\" >13135</td>\n",
       "    </tr>\n",
       "    <tr>\n",
       "      <td id=\"T_702b2_row8_col0\" class=\"data row8 col0\" >Participant Count</td>\n",
       "      <td id=\"T_702b2_row8_col1\" class=\"data row8 col1\" >7026</td>\n",
       "    </tr>\n",
       "    <tr>\n",
       "      <td id=\"T_702b2_row9_col0\" class=\"data row9 col0\" >Number of variables</td>\n",
       "      <td id=\"T_702b2_row9_col1\" class=\"data row9 col1\" >393</td>\n",
       "    </tr>\n",
       "    <tr>\n",
       "      <td id=\"T_702b2_row10_col0\" class=\"data row10 col0\" >Number of observations</td>\n",
       "      <td id=\"T_702b2_row10_col1\" class=\"data row10 col1\" >13135</td>\n",
       "    </tr>\n",
       "    <tr>\n",
       "      <td id=\"T_702b2_row11_col0\" class=\"data row11 col0\" >Specific Restrictions to Data Use</td>\n",
       "      <td id=\"T_702b2_row11_col1\" class=\"data row11 col1\" >None</td>\n",
       "    </tr>\n",
       "    <tr>\n",
       "      <td id=\"T_702b2_row12_col0\" class=\"data row12 col0\" >Build a Data Request</td>\n",
       "      <td id=\"T_702b2_row12_col1\" class=\"data row12 col1\" > <a href=\"https://explore.ukllc.ac.uk/\" rel=\"noopener noreferrer\" target=\"_blank\">https://explore.ukllc.ac.uk/</a></td>\n",
       "    </tr>\n",
       "  </tbody>\n",
       "</table>\n"
      ],
      "text/plain": [
       "<pandas.io.formats.style.Styler at 0x1e875a60710>"
      ]
     },
     "execution_count": 3,
     "metadata": {},
     "output_type": "execute_result"
    }
   ],
   "source": [
    "ds.info_table()"
   ]
  },
  {
   "cell_type": "markdown",
   "id": "3d6bde40",
   "metadata": {},
   "source": [
    "## 2. Version History"
   ]
  },
  {
   "cell_type": "code",
   "execution_count": 4,
   "id": "4b036336",
   "metadata": {
    "execution": {
     "iopub.execute_input": "2025-07-17T14:46:13.791601Z",
     "iopub.status.busy": "2025-07-17T14:46:13.791601Z",
     "iopub.status.idle": "2025-07-17T14:46:16.849255Z",
     "shell.execute_reply": "2025-07-17T14:46:16.847206Z"
    },
    "tags": [
     "remove-input"
    ]
   },
   "outputs": [
    {
     "data": {
      "text/html": [
       "<style type=\"text/css\">\n",
       "#T_4b44e th {\n",
       "  text-align: left;\n",
       "}\n",
       "#T_4b44e_row0_col0, #T_4b44e_row0_col1, #T_4b44e_row1_col0, #T_4b44e_row1_col1, #T_4b44e_row2_col0, #T_4b44e_row2_col1, #T_4b44e_row3_col0, #T_4b44e_row3_col1, #T_4b44e_row4_col0, #T_4b44e_row4_col1 {\n",
       "  text-align: left;\n",
       "}\n",
       "</style>\n",
       "<table id=\"T_4b44e\" style=\"font-size: 14px\">\n",
       "  <thead>\n",
       "    <tr>\n",
       "      <th id=\"T_4b44e_level0_col0\" class=\"col_heading level0 col0\" >Version</th>\n",
       "      <th id=\"T_4b44e_level0_col1\" class=\"col_heading level0 col1\" >1</th>\n",
       "    </tr>\n",
       "  </thead>\n",
       "  <tbody>\n",
       "    <tr>\n",
       "      <td id=\"T_4b44e_row0_col0\" class=\"data row0 col0\" >Version Date</td>\n",
       "      <td id=\"T_4b44e_row0_col1\" class=\"data row0 col1\" >01 Nov 2021</td>\n",
       "    </tr>\n",
       "    <tr>\n",
       "      <td id=\"T_4b44e_row1_col0\" class=\"data row1 col0\" >Number of Variables</td>\n",
       "      <td id=\"T_4b44e_row1_col1\" class=\"data row1 col1\" >393</td>\n",
       "    </tr>\n",
       "    <tr>\n",
       "      <td id=\"T_4b44e_row2_col0\" class=\"data row2 col0\" >Number of Observations</td>\n",
       "      <td id=\"T_4b44e_row2_col1\" class=\"data row2 col1\" >13135</td>\n",
       "    </tr>\n",
       "    <tr>\n",
       "      <td id=\"T_4b44e_row3_col0\" class=\"data row3 col0\" >DOI</td>\n",
       "      <td id=\"T_4b44e_row3_col1\" class=\"data row3 col1\" > <a href=\"https://doi.org/10.83126/ukllc-dataset-00122-01\" rel=\"noopener noreferrer\" target=\"_blank\">10.83126/ukllc-dataset-00122-01</a></td>\n",
       "    </tr>\n",
       "    <tr>\n",
       "      <td id=\"T_4b44e_row4_col0\" class=\"data row4 col0\" >Change Log</td>\n",
       "      <td id=\"T_4b44e_row4_col1\" class=\"data row4 col1\" > <a href=\"https://api.test.datacite.org/dois/10.83126/ukllc-dataset-00122-01/activities\" rel=\"noopener noreferrer\" target=\"_blank\">10.83126/ukllc-dataset-00122-01/activities</a></td>\n",
       "    </tr>\n",
       "  </tbody>\n",
       "</table>\n"
      ],
      "text/plain": [
       "<pandas.io.formats.style.Styler at 0x1e87b744770>"
      ]
     },
     "execution_count": 4,
     "metadata": {},
     "output_type": "execute_result"
    }
   ],
   "source": [
    "ds.version_history()"
   ]
  },
  {
   "cell_type": "markdown",
   "id": "55de68e3",
   "metadata": {},
   "source": [
    "## 3. Documentation"
   ]
  },
  {
   "cell_type": "code",
   "execution_count": 5,
   "id": "3b91bc9f",
   "metadata": {
    "execution": {
     "iopub.execute_input": "2025-07-17T14:46:16.856969Z",
     "iopub.status.busy": "2025-07-17T14:46:16.855881Z",
     "iopub.status.idle": "2025-07-17T14:46:16.863289Z",
     "shell.execute_reply": "2025-07-17T14:46:16.862277Z"
    },
    "tags": [
     "remove-input"
    ]
   },
   "outputs": [
    {
     "data": {
      "text/markdown": [
       "We are currently building a documentation storage system which will host useful documents related to datasets and data owners. We will surface these documents on Guidebook."
      ],
      "text/plain": [
       "<IPython.core.display.Markdown object>"
      ]
     },
     "metadata": {},
     "output_type": "display_data"
    }
   ],
   "source": [
    "ds.documentation()"
   ]
  },
  {
   "cell_type": "markdown",
   "id": "46c07383",
   "metadata": {},
   "source": [
    "## 4. Useful Syntax"
   ]
  },
  {
   "cell_type": "code",
   "execution_count": 6,
   "id": "5e804697",
   "metadata": {
    "execution": {
     "iopub.execute_input": "2025-07-17T14:46:16.867506Z",
     "iopub.status.busy": "2025-07-17T14:46:16.867506Z",
     "iopub.status.idle": "2025-07-17T14:46:16.875793Z",
     "shell.execute_reply": "2025-07-17T14:46:16.874744Z"
    },
    "tags": [
     "remove-input"
    ]
   },
   "outputs": [
    {
     "data": {
      "text/markdown": [
       "Below we will include syntax that may be helpful to other researchers in the UK LLC TRE. For longer scripts, we will include a snippet of the code plus a link to Git where you can find the full scripts."
      ],
      "text/plain": [
       "<IPython.core.display.Markdown object>"
      ]
     },
     "metadata": {},
     "output_type": "display_data"
    }
   ],
   "source": [
    "ds.useful_syntax()"
   ]
  }
 ],
 "metadata": {
  "language_info": {
   "codemirror_mode": {
    "name": "ipython",
    "version": 3
   },
   "file_extension": ".py",
   "mimetype": "text/x-python",
   "name": "python",
   "nbconvert_exporter": "python",
   "pygments_lexer": "ipython3",
   "version": "3.12.7"
  }
 },
 "nbformat": 4,
 "nbformat_minor": 5
}
