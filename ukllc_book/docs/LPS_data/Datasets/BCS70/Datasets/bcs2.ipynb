{
 "cells": [
  {
   "cell_type": "markdown",
   "id": "792bd2fe",
   "metadata": {},
   "source": [
    "# Age 5 Survey Data (BCS70)"
   ]
  },
  {
   "cell_type": "code",
   "execution_count": 1,
   "id": "386b0224",
   "metadata": {
    "execution": {
     "iopub.execute_input": "2025-07-28T18:26:23.071552Z",
     "iopub.status.busy": "2025-07-28T18:26:23.071552Z",
     "iopub.status.idle": "2025-07-28T18:26:35.569753Z",
     "shell.execute_reply": "2025-07-28T18:26:35.567736Z"
    },
    "tags": [
     "remove-input"
    ]
   },
   "outputs": [
    {
     "data": {
      "text/markdown": [
       ">Last modified: 28 Jul 2025"
      ],
      "text/plain": [
       "<IPython.core.display.Markdown object>"
      ]
     },
     "metadata": {},
     "output_type": "display_data"
    }
   ],
   "source": [
    "\n",
    "import sys\n",
    "import os\n",
    "sys.path.append(os.path.abspath('../../../../scripts/'))\n",
    "from data_doc_helper import LPSDataSet as DS, last_modified\n",
    "API_KEY = os.environ['FASTAPI_KEY']\n",
    "ds = DS(\"BCS70\", \"bcs2\")\n",
    "last_modified()\n"
   ]
  },
  {
   "cell_type": "markdown",
   "id": "25031f3a",
   "metadata": {},
   "source": [
    "## 1. Summary"
   ]
  },
  {
   "cell_type": "code",
   "execution_count": 2,
   "id": "3c9368ed",
   "metadata": {
    "execution": {
     "iopub.execute_input": "2025-07-28T18:26:35.577753Z",
     "iopub.status.busy": "2025-07-28T18:26:35.576757Z",
     "iopub.status.idle": "2025-07-28T18:26:35.590349Z",
     "shell.execute_reply": "2025-07-28T18:26:35.588814Z"
    },
    "tags": [
     "remove-input"
    ]
   },
   "outputs": [
    {
     "data": {
      "text/markdown": [
       "The purpose of the 5-year survey was to review and evaluate pre-school health, care and education servlces throughout Britain as experienced by the cohort of children born during the week 5-11 April 1970. The Home Interview Questionnalre (HIQ) was administered by health visitors who carried out the Interviews In the children’s own homes"
      ],
      "text/plain": [
       "<IPython.core.display.Markdown object>"
      ]
     },
     "metadata": {},
     "output_type": "display_data"
    }
   ],
   "source": [
    "ds.summary()"
   ]
  },
  {
   "cell_type": "code",
   "execution_count": 3,
   "id": "8c06f475",
   "metadata": {
    "execution": {
     "iopub.execute_input": "2025-07-28T18:26:35.599365Z",
     "iopub.status.busy": "2025-07-28T18:26:35.598349Z",
     "iopub.status.idle": "2025-07-28T18:26:37.440012Z",
     "shell.execute_reply": "2025-07-28T18:26:37.437996Z"
    },
    "tags": [
     "remove-input"
    ]
   },
   "outputs": [
    {
     "data": {
      "text/html": [
       "<style type=\"text/css\">\n",
       "#T_e1074 th {\n",
       "  text-align: left;\n",
       "}\n",
       "#T_e1074_row0_col0, #T_e1074_row0_col1, #T_e1074_row1_col0, #T_e1074_row1_col1, #T_e1074_row2_col0, #T_e1074_row2_col1, #T_e1074_row3_col0, #T_e1074_row3_col1, #T_e1074_row4_col0, #T_e1074_row4_col1, #T_e1074_row5_col0, #T_e1074_row5_col1, #T_e1074_row6_col0, #T_e1074_row6_col1, #T_e1074_row7_col0, #T_e1074_row7_col1, #T_e1074_row8_col0, #T_e1074_row8_col1, #T_e1074_row9_col0, #T_e1074_row9_col1, #T_e1074_row10_col0, #T_e1074_row10_col1, #T_e1074_row11_col0, #T_e1074_row11_col1, #T_e1074_row12_col0, #T_e1074_row12_col1 {\n",
       "  text-align: left;\n",
       "}\n",
       "</style>\n",
       "<table id=\"T_e1074\" style=\"font-size: 14px\">\n",
       "  <thead>\n",
       "    <tr>\n",
       "      <th id=\"T_e1074_level0_col0\" class=\"col_heading level0 col0\" >Dataset Descriptor</th>\n",
       "      <th id=\"T_e1074_level0_col1\" class=\"col_heading level0 col1\" >Dataset-specific Information</th>\n",
       "    </tr>\n",
       "  </thead>\n",
       "  <tbody>\n",
       "    <tr>\n",
       "      <td id=\"T_e1074_row0_col0\" class=\"data row0 col0\" >Name of Dataset in TRE</td>\n",
       "      <td id=\"T_e1074_row0_col1\" class=\"data row0 col1\" >BCS70_bcs2</td>\n",
       "    </tr>\n",
       "    <tr>\n",
       "      <td id=\"T_e1074_row1_col0\" class=\"data row1 col0\" >Citation (APA)</td>\n",
       "      <td id=\"T_e1074_row1_col1\" class=\"data row1 col1\" >University College London, UCL Social Research Institute, Centre for Longitudinal Studies. (2021). <i>1970 British Cohort Study (BCS70): Age 5 Survey Data.</i> UK Longitudinal Linkage Collaboration (UK LLC).  <a href=\"https://doi.org/10.71760/ukllc-dataset-00041-01\" rel=\"noopener noreferrer\" target=\"_blank\">https://doi.org/10.71760/ukllc-dataset-00041-01</a></td>\n",
       "    </tr>\n",
       "    <tr>\n",
       "      <td id=\"T_e1074_row2_col0\" class=\"data row2 col0\" >Download Citation</td>\n",
       "      <td id=\"T_e1074_row2_col1\" class=\"data row2 col1\" > <a href=\"https://api.datacite.org/application/vnd.citationstyles.csl+json/10.71760/ukllc-dataset-00041-01\" rel=\"noopener noreferrer\" target=\"_blank\">Citeproc JSON</a>&nbsp;&nbsp;&nbsp;&nbsp; <a href=\"https://api.datacite.org/application/x-bibtex/10.71760/ukllc-dataset-00041-01\" rel=\"noopener noreferrer\" target=\"_blank\">BibTeX</a>&nbsp;&nbsp;&nbsp;&nbsp; <a href=\"https://api.datacite.org/application/x-research-info-systems/10.71760/ukllc-dataset-00041-01\" rel=\"noopener noreferrer\" target=\"_blank\">RIS</a></td>\n",
       "    </tr>\n",
       "    <tr>\n",
       "      <td id=\"T_e1074_row3_col0\" class=\"data row3 col0\" >Series</td>\n",
       "      <td id=\"T_e1074_row3_col1\" class=\"data row3 col1\" > <a href=\"https://guidebook.ukllc.ac.uk/docs/lps_data/lps%20profiles/BCS70\">1970 British Cohort Study (BCS70)</a></td>\n",
       "    </tr>\n",
       "    <tr>\n",
       "      <td id=\"T_e1074_row4_col0\" class=\"data row4 col0\" >Owner</td>\n",
       "      <td id=\"T_e1074_row4_col1\" class=\"data row4 col1\" >UCL</td>\n",
       "    </tr>\n",
       "    <tr>\n",
       "      <td id=\"T_e1074_row5_col0\" class=\"data row5 col0\" >Temporal Coverage</td>\n",
       "      <td id=\"T_e1074_row5_col1\" class=\"data row5 col1\" >04/1975 - 04/1976</td>\n",
       "    </tr>\n",
       "    <tr>\n",
       "      <td id=\"T_e1074_row6_col0\" class=\"data row6 col0\" >Keywords</td>\n",
       "      <td id=\"T_e1074_row6_col1\" class=\"data row6 col1\" >Family Life,Health,employment,attitudes,Social mobility</td>\n",
       "    </tr>\n",
       "    <tr>\n",
       "      <td id=\"T_e1074_row7_col0\" class=\"data row7 col0\" >Participants Invited</td>\n",
       "      <td id=\"T_e1074_row7_col1\" class=\"data row7 col1\" >13135</td>\n",
       "    </tr>\n",
       "    <tr>\n",
       "      <td id=\"T_e1074_row8_col0\" class=\"data row8 col0\" >Participant Count</td>\n",
       "      <td id=\"T_e1074_row8_col1\" class=\"data row8 col1\" >7026</td>\n",
       "    </tr>\n",
       "    <tr>\n",
       "      <td id=\"T_e1074_row9_col0\" class=\"data row9 col0\" >Number of variables</td>\n",
       "      <td id=\"T_e1074_row9_col1\" class=\"data row9 col1\" >393</td>\n",
       "    </tr>\n",
       "    <tr>\n",
       "      <td id=\"T_e1074_row10_col0\" class=\"data row10 col0\" >Number of observations</td>\n",
       "      <td id=\"T_e1074_row10_col1\" class=\"data row10 col1\" >13135</td>\n",
       "    </tr>\n",
       "    <tr>\n",
       "      <td id=\"T_e1074_row11_col0\" class=\"data row11 col0\" >Specific Restrictions to Data Use</td>\n",
       "      <td id=\"T_e1074_row11_col1\" class=\"data row11 col1\" >None</td>\n",
       "    </tr>\n",
       "    <tr>\n",
       "      <td id=\"T_e1074_row12_col0\" class=\"data row12 col0\" >Build a Data Request</td>\n",
       "      <td id=\"T_e1074_row12_col1\" class=\"data row12 col1\" > <a href=\"https://explore.ukllc.ac.uk/\" rel=\"noopener noreferrer\" target=\"_blank\">https://explore.ukllc.ac.uk/</a></td>\n",
       "    </tr>\n",
       "  </tbody>\n",
       "</table>\n"
      ],
      "text/plain": [
       "<pandas.io.formats.style.Styler at 0x1a7a159fce0>"
      ]
     },
     "execution_count": 3,
     "metadata": {},
     "output_type": "execute_result"
    }
   ],
   "source": [
    "ds.info_table()"
   ]
  },
  {
   "cell_type": "markdown",
   "id": "3d6bde40",
   "metadata": {},
   "source": [
    "## 2. Version History"
   ]
  },
  {
   "cell_type": "code",
   "execution_count": 4,
   "id": "4b036336",
   "metadata": {
    "execution": {
     "iopub.execute_input": "2025-07-28T18:26:37.449028Z",
     "iopub.status.busy": "2025-07-28T18:26:37.448020Z",
     "iopub.status.idle": "2025-07-28T18:26:42.711032Z",
     "shell.execute_reply": "2025-07-28T18:26:42.709992Z"
    },
    "tags": [
     "remove-input"
    ]
   },
   "outputs": [
    {
     "data": {
      "text/html": [
       "<style type=\"text/css\">\n",
       "#T_bcf3a th {\n",
       "  text-align: left;\n",
       "}\n",
       "#T_bcf3a_row0_col0, #T_bcf3a_row0_col1, #T_bcf3a_row1_col0, #T_bcf3a_row1_col1, #T_bcf3a_row2_col0, #T_bcf3a_row2_col1, #T_bcf3a_row3_col0, #T_bcf3a_row3_col1, #T_bcf3a_row4_col0, #T_bcf3a_row4_col1 {\n",
       "  text-align: left;\n",
       "}\n",
       "</style>\n",
       "<table id=\"T_bcf3a\" style=\"font-size: 14px\">\n",
       "  <thead>\n",
       "    <tr>\n",
       "      <th id=\"T_bcf3a_level0_col0\" class=\"col_heading level0 col0\" >Version</th>\n",
       "      <th id=\"T_bcf3a_level0_col1\" class=\"col_heading level0 col1\" >1</th>\n",
       "    </tr>\n",
       "  </thead>\n",
       "  <tbody>\n",
       "    <tr>\n",
       "      <td id=\"T_bcf3a_row0_col0\" class=\"data row0 col0\" >Version Date</td>\n",
       "      <td id=\"T_bcf3a_row0_col1\" class=\"data row0 col1\" >01 Nov 2021</td>\n",
       "    </tr>\n",
       "    <tr>\n",
       "      <td id=\"T_bcf3a_row1_col0\" class=\"data row1 col0\" >Number of Variables</td>\n",
       "      <td id=\"T_bcf3a_row1_col1\" class=\"data row1 col1\" >393</td>\n",
       "    </tr>\n",
       "    <tr>\n",
       "      <td id=\"T_bcf3a_row2_col0\" class=\"data row2 col0\" >Number of Observations</td>\n",
       "      <td id=\"T_bcf3a_row2_col1\" class=\"data row2 col1\" >13135</td>\n",
       "    </tr>\n",
       "    <tr>\n",
       "      <td id=\"T_bcf3a_row3_col0\" class=\"data row3 col0\" >DOI</td>\n",
       "      <td id=\"T_bcf3a_row3_col1\" class=\"data row3 col1\" > <a href=\"https://doi.org/10.71760/ukllc-dataset-00041-01\" rel=\"noopener noreferrer\" target=\"_blank\">10.71760/ukllc-dataset-00041-01</a></td>\n",
       "    </tr>\n",
       "    <tr>\n",
       "      <td id=\"T_bcf3a_row4_col0\" class=\"data row4 col0\" >Change Log</td>\n",
       "      <td id=\"T_bcf3a_row4_col1\" class=\"data row4 col1\" > <a href=\"https://api.test.datacite.org/dois/10.71760/ukllc-dataset-00041-01/activities\" rel=\"noopener noreferrer\" target=\"_blank\">10.71760/ukllc-dataset-00041-01/activities</a></td>\n",
       "    </tr>\n",
       "  </tbody>\n",
       "</table>\n"
      ],
      "text/plain": [
       "<pandas.io.formats.style.Styler at 0x1a7a6d436e0>"
      ]
     },
     "execution_count": 4,
     "metadata": {},
     "output_type": "execute_result"
    }
   ],
   "source": [
    "ds.version_history()"
   ]
  },
  {
   "cell_type": "markdown",
   "id": "55de68e3",
   "metadata": {},
   "source": [
    "## 3. Documentation"
   ]
  },
  {
   "cell_type": "code",
   "execution_count": 5,
   "id": "3b91bc9f",
   "metadata": {
    "execution": {
     "iopub.execute_input": "2025-07-28T18:26:42.721014Z",
     "iopub.status.busy": "2025-07-28T18:26:42.720013Z",
     "iopub.status.idle": "2025-07-28T18:26:42.733537Z",
     "shell.execute_reply": "2025-07-28T18:26:42.732518Z"
    },
    "tags": [
     "remove-input"
    ]
   },
   "outputs": [
    {
     "data": {
      "text/markdown": [
       "We are currently building a documentation storage system which will host useful documents related to datasets and data owners. We will surface these documents on Guidebook."
      ],
      "text/plain": [
       "<IPython.core.display.Markdown object>"
      ]
     },
     "metadata": {},
     "output_type": "display_data"
    }
   ],
   "source": [
    "ds.documentation()"
   ]
  },
  {
   "cell_type": "markdown",
   "id": "46c07383",
   "metadata": {},
   "source": [
    "## 4. Useful Syntax"
   ]
  },
  {
   "cell_type": "code",
   "execution_count": 6,
   "id": "5e804697",
   "metadata": {
    "execution": {
     "iopub.execute_input": "2025-07-28T18:26:42.742541Z",
     "iopub.status.busy": "2025-07-28T18:26:42.741535Z",
     "iopub.status.idle": "2025-07-28T18:26:42.753873Z",
     "shell.execute_reply": "2025-07-28T18:26:42.751858Z"
    },
    "tags": [
     "remove-input"
    ]
   },
   "outputs": [
    {
     "data": {
      "text/markdown": [
       "Below we will include syntax that may be helpful to other researchers in the UK LLC TRE. For longer scripts, we will include a snippet of the code plus a link to Git where you can find the full scripts."
      ],
      "text/plain": [
       "<IPython.core.display.Markdown object>"
      ]
     },
     "metadata": {},
     "output_type": "display_data"
    }
   ],
   "source": [
    "ds.useful_syntax()"
   ]
  }
 ],
 "metadata": {
  "language_info": {
   "codemirror_mode": {
    "name": "ipython",
    "version": 3
   },
   "file_extension": ".py",
   "mimetype": "text/x-python",
   "name": "python",
   "nbconvert_exporter": "python",
   "pygments_lexer": "ipython3",
   "version": "3.12.7"
  }
 },
 "nbformat": 4,
 "nbformat_minor": 5
}
