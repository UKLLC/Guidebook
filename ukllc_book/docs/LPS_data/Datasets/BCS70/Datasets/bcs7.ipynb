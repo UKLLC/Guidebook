{
 "cells": [
  {
   "cell_type": "markdown",
   "id": "e2f01b2c",
   "metadata": {},
   "source": [
    "# Age 34 Main Survey Data (BCS70)"
   ]
  },
  {
   "cell_type": "code",
   "execution_count": 1,
   "id": "2c09d3ec",
   "metadata": {
    "execution": {
     "iopub.execute_input": "2025-07-28T18:32:24.514308Z",
     "iopub.status.busy": "2025-07-28T18:32:24.514308Z",
     "iopub.status.idle": "2025-07-28T18:32:37.598317Z",
     "shell.execute_reply": "2025-07-28T18:32:37.596025Z"
    },
    "tags": [
     "remove-input"
    ]
   },
   "outputs": [
    {
     "data": {
      "text/markdown": [
       ">Last modified: 28 Jul 2025"
      ],
      "text/plain": [
       "<IPython.core.display.Markdown object>"
      ]
     },
     "metadata": {},
     "output_type": "display_data"
    }
   ],
   "source": [
    "\n",
    "import sys\n",
    "import os\n",
    "sys.path.append(os.path.abspath('../../../../scripts/'))\n",
    "from data_doc_helper import LPSDataSet as DS, last_modified\n",
    "API_KEY = os.environ['FASTAPI_KEY']\n",
    "ds = DS(\"BCS70\", \"bcs7\")\n",
    "last_modified()\n"
   ]
  },
  {
   "cell_type": "markdown",
   "id": "851e10fa",
   "metadata": {},
   "source": [
    "## 1. Summary"
   ]
  },
  {
   "cell_type": "code",
   "execution_count": 2,
   "id": "a1b7519b",
   "metadata": {
    "execution": {
     "iopub.execute_input": "2025-07-28T18:32:37.607333Z",
     "iopub.status.busy": "2025-07-28T18:32:37.606337Z",
     "iopub.status.idle": "2025-07-28T18:32:37.621436Z",
     "shell.execute_reply": "2025-07-28T18:32:37.619895Z"
    },
    "tags": [
     "remove-input"
    ]
   },
   "outputs": [
    {
     "data": {
      "text/markdown": [
       "The seventh sweep took place in 2004/2005 when BCS70 cohort members were 34/35. The core of the BCS70 follow-up was an interview and self-completion designed to update the information gathered in the last follow-up (1999-2000). The main aim of the survey was to explore the factors central to the formation and maintenance of adult identity in Lifelong learning, Relationships, parenting and housing, Employment and income, Health and health behaviour, and Citizenship and values. "
      ],
      "text/plain": [
       "<IPython.core.display.Markdown object>"
      ]
     },
     "metadata": {},
     "output_type": "display_data"
    }
   ],
   "source": [
    "ds.summary()"
   ]
  },
  {
   "cell_type": "code",
   "execution_count": 3,
   "id": "2a35c5a2",
   "metadata": {
    "execution": {
     "iopub.execute_input": "2025-07-28T18:32:37.627422Z",
     "iopub.status.busy": "2025-07-28T18:32:37.626422Z",
     "iopub.status.idle": "2025-07-28T18:32:50.222107Z",
     "shell.execute_reply": "2025-07-28T18:32:50.220474Z"
    },
    "tags": [
     "remove-input"
    ]
   },
   "outputs": [
    {
     "data": {
      "text/html": [
       "<style type=\"text/css\">\n",
       "#T_21566 th {\n",
       "  text-align: left;\n",
       "}\n",
       "#T_21566_row0_col0, #T_21566_row0_col1, #T_21566_row1_col0, #T_21566_row1_col1, #T_21566_row2_col0, #T_21566_row2_col1, #T_21566_row3_col0, #T_21566_row3_col1, #T_21566_row4_col0, #T_21566_row4_col1, #T_21566_row5_col0, #T_21566_row5_col1, #T_21566_row6_col0, #T_21566_row6_col1, #T_21566_row7_col0, #T_21566_row7_col1, #T_21566_row8_col0, #T_21566_row8_col1, #T_21566_row9_col0, #T_21566_row9_col1, #T_21566_row10_col0, #T_21566_row10_col1, #T_21566_row11_col0, #T_21566_row11_col1, #T_21566_row12_col0, #T_21566_row12_col1 {\n",
       "  text-align: left;\n",
       "}\n",
       "</style>\n",
       "<table id=\"T_21566\" style=\"font-size: 14px\">\n",
       "  <thead>\n",
       "    <tr>\n",
       "      <th id=\"T_21566_level0_col0\" class=\"col_heading level0 col0\" >Dataset Descriptor</th>\n",
       "      <th id=\"T_21566_level0_col1\" class=\"col_heading level0 col1\" >Dataset-specific Information</th>\n",
       "    </tr>\n",
       "  </thead>\n",
       "  <tbody>\n",
       "    <tr>\n",
       "      <td id=\"T_21566_row0_col0\" class=\"data row0 col0\" >Name of Dataset in TRE</td>\n",
       "      <td id=\"T_21566_row0_col1\" class=\"data row0 col1\" >BCS70_bcs7</td>\n",
       "    </tr>\n",
       "    <tr>\n",
       "      <td id=\"T_21566_row1_col0\" class=\"data row1 col0\" >Citation (APA)</td>\n",
       "      <td id=\"T_21566_row1_col1\" class=\"data row1 col1\" >University College London, UCL Social Research Institute, Centre for Longitudinal Studies. (2021). <i>1970 British Cohort Study (BCS70): Age 34 Main Survey Data.</i> UK Longitudinal Linkage Collaboration (UK LLC).  <a href=\"https://doi.org/10.71760/ukllc-dataset-00057-01\" rel=\"noopener noreferrer\" target=\"_blank\">https://doi.org/10.71760/ukllc-dataset-00057-01</a></td>\n",
       "    </tr>\n",
       "    <tr>\n",
       "      <td id=\"T_21566_row2_col0\" class=\"data row2 col0\" >Download Citation</td>\n",
       "      <td id=\"T_21566_row2_col1\" class=\"data row2 col1\" > <a href=\"https://api.datacite.org/application/vnd.citationstyles.csl+json/10.71760/ukllc-dataset-00057-01\" rel=\"noopener noreferrer\" target=\"_blank\">Citeproc JSON</a>&nbsp;&nbsp;&nbsp;&nbsp; <a href=\"https://api.datacite.org/application/x-bibtex/10.71760/ukllc-dataset-00057-01\" rel=\"noopener noreferrer\" target=\"_blank\">BibTeX</a>&nbsp;&nbsp;&nbsp;&nbsp; <a href=\"https://api.datacite.org/application/x-research-info-systems/10.71760/ukllc-dataset-00057-01\" rel=\"noopener noreferrer\" target=\"_blank\">RIS</a></td>\n",
       "    </tr>\n",
       "    <tr>\n",
       "      <td id=\"T_21566_row3_col0\" class=\"data row3 col0\" >Series</td>\n",
       "      <td id=\"T_21566_row3_col1\" class=\"data row3 col1\" > <a href=\"https://guidebook.ukllc.ac.uk/docs/lps_data/lps%20profiles/BCS70\">1970 British Cohort Study (BCS70)</a></td>\n",
       "    </tr>\n",
       "    <tr>\n",
       "      <td id=\"T_21566_row4_col0\" class=\"data row4 col0\" >Owner</td>\n",
       "      <td id=\"T_21566_row4_col1\" class=\"data row4 col1\" >UCL</td>\n",
       "    </tr>\n",
       "    <tr>\n",
       "      <td id=\"T_21566_row5_col0\" class=\"data row5 col0\" >Temporal Coverage</td>\n",
       "      <td id=\"T_21566_row5_col1\" class=\"data row5 col1\" >04/2004 - 04/2005</td>\n",
       "    </tr>\n",
       "    <tr>\n",
       "      <td id=\"T_21566_row6_col0\" class=\"data row6 col0\" >Keywords</td>\n",
       "      <td id=\"T_21566_row6_col1\" class=\"data row6 col1\" >Health,Employment,Housing,Attitudes,Family Life,Social mobility</td>\n",
       "    </tr>\n",
       "    <tr>\n",
       "      <td id=\"T_21566_row7_col0\" class=\"data row7 col0\" >Participants Invited</td>\n",
       "      <td id=\"T_21566_row7_col1\" class=\"data row7 col1\" >9665</td>\n",
       "    </tr>\n",
       "    <tr>\n",
       "      <td id=\"T_21566_row8_col0\" class=\"data row8 col0\" >Participant Count</td>\n",
       "      <td id=\"T_21566_row8_col1\" class=\"data row8 col1\" >6795</td>\n",
       "    </tr>\n",
       "    <tr>\n",
       "      <td id=\"T_21566_row9_col0\" class=\"data row9 col0\" >Number of variables</td>\n",
       "      <td id=\"T_21566_row9_col1\" class=\"data row9 col1\" >2640</td>\n",
       "    </tr>\n",
       "    <tr>\n",
       "      <td id=\"T_21566_row10_col0\" class=\"data row10 col0\" >Number of observations</td>\n",
       "      <td id=\"T_21566_row10_col1\" class=\"data row10 col1\" >9665</td>\n",
       "    </tr>\n",
       "    <tr>\n",
       "      <td id=\"T_21566_row11_col0\" class=\"data row11 col0\" >Specific Restrictions to Data Use</td>\n",
       "      <td id=\"T_21566_row11_col1\" class=\"data row11 col1\" >None</td>\n",
       "    </tr>\n",
       "    <tr>\n",
       "      <td id=\"T_21566_row12_col0\" class=\"data row12 col0\" >Build a Data Request</td>\n",
       "      <td id=\"T_21566_row12_col1\" class=\"data row12 col1\" > <a href=\"https://explore.ukllc.ac.uk/\" rel=\"noopener noreferrer\" target=\"_blank\">https://explore.ukllc.ac.uk/</a></td>\n",
       "    </tr>\n",
       "  </tbody>\n",
       "</table>\n"
      ],
      "text/plain": [
       "<pandas.io.formats.style.Styler at 0x1c641d116d0>"
      ]
     },
     "execution_count": 3,
     "metadata": {},
     "output_type": "execute_result"
    }
   ],
   "source": [
    "ds.info_table()"
   ]
  },
  {
   "cell_type": "markdown",
   "id": "eb0a383e",
   "metadata": {},
   "source": [
    "## 2. Version History"
   ]
  },
  {
   "cell_type": "code",
   "execution_count": 4,
   "id": "679c67f6",
   "metadata": {
    "execution": {
     "iopub.execute_input": "2025-07-28T18:32:50.232125Z",
     "iopub.status.busy": "2025-07-28T18:32:50.230124Z",
     "iopub.status.idle": "2025-07-28T18:32:55.764910Z",
     "shell.execute_reply": "2025-07-28T18:32:55.761909Z"
    },
    "tags": [
     "remove-input"
    ]
   },
   "outputs": [
    {
     "data": {
      "text/html": [
       "<style type=\"text/css\">\n",
       "#T_2e6be th {\n",
       "  text-align: left;\n",
       "}\n",
       "#T_2e6be_row0_col0, #T_2e6be_row0_col1, #T_2e6be_row1_col0, #T_2e6be_row1_col1, #T_2e6be_row2_col0, #T_2e6be_row2_col1, #T_2e6be_row3_col0, #T_2e6be_row3_col1, #T_2e6be_row4_col0, #T_2e6be_row4_col1 {\n",
       "  text-align: left;\n",
       "}\n",
       "</style>\n",
       "<table id=\"T_2e6be\" style=\"font-size: 14px\">\n",
       "  <thead>\n",
       "    <tr>\n",
       "      <th id=\"T_2e6be_level0_col0\" class=\"col_heading level0 col0\" >Version</th>\n",
       "      <th id=\"T_2e6be_level0_col1\" class=\"col_heading level0 col1\" >1</th>\n",
       "    </tr>\n",
       "  </thead>\n",
       "  <tbody>\n",
       "    <tr>\n",
       "      <td id=\"T_2e6be_row0_col0\" class=\"data row0 col0\" >Version Date</td>\n",
       "      <td id=\"T_2e6be_row0_col1\" class=\"data row0 col1\" >01 Nov 2021</td>\n",
       "    </tr>\n",
       "    <tr>\n",
       "      <td id=\"T_2e6be_row1_col0\" class=\"data row1 col0\" >Number of Variables</td>\n",
       "      <td id=\"T_2e6be_row1_col1\" class=\"data row1 col1\" >2644</td>\n",
       "    </tr>\n",
       "    <tr>\n",
       "      <td id=\"T_2e6be_row2_col0\" class=\"data row2 col0\" >Number of Observations</td>\n",
       "      <td id=\"T_2e6be_row2_col1\" class=\"data row2 col1\" >9665</td>\n",
       "    </tr>\n",
       "    <tr>\n",
       "      <td id=\"T_2e6be_row3_col0\" class=\"data row3 col0\" >DOI</td>\n",
       "      <td id=\"T_2e6be_row3_col1\" class=\"data row3 col1\" > <a href=\"https://doi.org/10.71760/ukllc-dataset-00057-01\" rel=\"noopener noreferrer\" target=\"_blank\">10.71760/ukllc-dataset-00057-01</a></td>\n",
       "    </tr>\n",
       "    <tr>\n",
       "      <td id=\"T_2e6be_row4_col0\" class=\"data row4 col0\" >Change Log</td>\n",
       "      <td id=\"T_2e6be_row4_col1\" class=\"data row4 col1\" > <a href=\"https://api.test.datacite.org/dois/10.71760/ukllc-dataset-00057-01/activities\" rel=\"noopener noreferrer\" target=\"_blank\">10.71760/ukllc-dataset-00057-01/activities</a></td>\n",
       "    </tr>\n",
       "  </tbody>\n",
       "</table>\n"
      ],
      "text/plain": [
       "<pandas.io.formats.style.Styler at 0x1c644696240>"
      ]
     },
     "execution_count": 4,
     "metadata": {},
     "output_type": "execute_result"
    }
   ],
   "source": [
    "ds.version_history()"
   ]
  },
  {
   "cell_type": "markdown",
   "id": "9fc86b3a",
   "metadata": {},
   "source": [
    "## 3. Documentation"
   ]
  },
  {
   "cell_type": "code",
   "execution_count": 5,
   "id": "29b02512",
   "metadata": {
    "execution": {
     "iopub.execute_input": "2025-07-28T18:32:55.773912Z",
     "iopub.status.busy": "2025-07-28T18:32:55.773912Z",
     "iopub.status.idle": "2025-07-28T18:32:55.786741Z",
     "shell.execute_reply": "2025-07-28T18:32:55.784728Z"
    },
    "tags": [
     "remove-input"
    ]
   },
   "outputs": [
    {
     "data": {
      "text/markdown": [
       "We are currently building a documentation storage system which will host useful documents related to datasets and data owners. We will surface these documents on Guidebook."
      ],
      "text/plain": [
       "<IPython.core.display.Markdown object>"
      ]
     },
     "metadata": {},
     "output_type": "display_data"
    }
   ],
   "source": [
    "ds.documentation()"
   ]
  },
  {
   "cell_type": "markdown",
   "id": "9c18ab7d",
   "metadata": {},
   "source": [
    "## 4. Useful Syntax"
   ]
  },
  {
   "cell_type": "code",
   "execution_count": 6,
   "id": "97a5ce3d",
   "metadata": {
    "execution": {
     "iopub.execute_input": "2025-07-28T18:32:55.795749Z",
     "iopub.status.busy": "2025-07-28T18:32:55.795749Z",
     "iopub.status.idle": "2025-07-28T18:32:55.807806Z",
     "shell.execute_reply": "2025-07-28T18:32:55.805790Z"
    },
    "tags": [
     "remove-input"
    ]
   },
   "outputs": [
    {
     "data": {
      "text/markdown": [
       "Below we will include syntax that may be helpful to other researchers in the UK LLC TRE. For longer scripts, we will include a snippet of the code plus a link to Git where you can find the full scripts."
      ],
      "text/plain": [
       "<IPython.core.display.Markdown object>"
      ]
     },
     "metadata": {},
     "output_type": "display_data"
    }
   ],
   "source": [
    "ds.useful_syntax()"
   ]
  }
 ],
 "metadata": {
  "language_info": {
   "codemirror_mode": {
    "name": "ipython",
    "version": 3
   },
   "file_extension": ".py",
   "mimetype": "text/x-python",
   "name": "python",
   "nbconvert_exporter": "python",
   "pygments_lexer": "ipython3",
   "version": "3.12.7"
  }
 },
 "nbformat": 4,
 "nbformat_minor": 5
}
