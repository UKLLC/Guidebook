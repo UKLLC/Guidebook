{
 "cells": [
  {
   "cell_type": "markdown",
   "id": "8ed4ddf4",
   "metadata": {},
   "source": [
    "# Age 42 Main Survey Data (BCS70)"
   ]
  },
  {
   "cell_type": "code",
   "execution_count": 1,
   "id": "e17afc7d",
   "metadata": {
    "execution": {
     "iopub.execute_input": "2025-07-28T13:30:12.919440Z",
     "iopub.status.busy": "2025-07-28T13:30:12.918441Z",
     "iopub.status.idle": "2025-07-28T13:30:21.389144Z",
     "shell.execute_reply": "2025-07-28T13:30:21.389144Z"
    },
    "tags": [
     "remove-input"
    ]
   },
   "outputs": [
    {
     "data": {
      "text/markdown": [
       ">Last modified: 28 Jul 2025"
      ],
      "text/plain": [
       "<IPython.core.display.Markdown object>"
      ]
     },
     "metadata": {},
     "output_type": "display_data"
    }
   ],
   "source": [
    "\n",
    "import sys\n",
    "import os\n",
    "sys.path.append(os.path.abspath('../../../../scripts/'))\n",
    "from data_doc_helper import LPSDataSet as DS, last_modified\n",
    "API_KEY = os.environ['FASTAPI_KEY']\n",
    "ds = DS(\"BCS70\", \"bcs9\")\n",
    "last_modified()\n"
   ]
  },
  {
   "cell_type": "markdown",
   "id": "e4b21f19",
   "metadata": {},
   "source": [
    "## 1. Summary"
   ]
  },
  {
   "cell_type": "code",
   "execution_count": 2,
   "id": "4c94610d",
   "metadata": {
    "execution": {
     "iopub.execute_input": "2025-07-28T13:30:21.393443Z",
     "iopub.status.busy": "2025-07-28T13:30:21.393443Z",
     "iopub.status.idle": "2025-07-28T13:30:21.396661Z",
     "shell.execute_reply": "2025-07-28T13:30:21.396661Z"
    },
    "tags": [
     "remove-input"
    ]
   },
   "outputs": [
    {
     "data": {
      "text/markdown": [
       "The 2012 Follow-Up was comprised of two parts: a ‘core’ face-to-face interview and a paper self-completion questionnaire. The Sweep 9 survey included questions on new topics not covered previously in adulthood including; Housing costs and housing equity, Sexuality, Cultural consumption - books, television, newspapers, Religious beliefs - belief in God, belief in the after life, Experience of the menopause, Fertility intentions, Diet - consumption of ready-meals, convenience foods, take-aways and home-cooked meals, and Sleep"
      ],
      "text/plain": [
       "<IPython.core.display.Markdown object>"
      ]
     },
     "metadata": {},
     "output_type": "display_data"
    }
   ],
   "source": [
    "ds.summary()"
   ]
  },
  {
   "cell_type": "code",
   "execution_count": 3,
   "id": "34293540",
   "metadata": {
    "execution": {
     "iopub.execute_input": "2025-07-28T13:30:21.398667Z",
     "iopub.status.busy": "2025-07-28T13:30:21.398667Z",
     "iopub.status.idle": "2025-07-28T13:30:22.476692Z",
     "shell.execute_reply": "2025-07-28T13:30:22.476398Z"
    },
    "tags": [
     "remove-input"
    ]
   },
   "outputs": [
    {
     "data": {
      "text/html": [
       "<style type=\"text/css\">\n",
       "#T_0588d th {\n",
       "  text-align: left;\n",
       "}\n",
       "#T_0588d_row0_col0, #T_0588d_row0_col1, #T_0588d_row1_col0, #T_0588d_row1_col1, #T_0588d_row2_col0, #T_0588d_row2_col1, #T_0588d_row3_col0, #T_0588d_row3_col1, #T_0588d_row4_col0, #T_0588d_row4_col1, #T_0588d_row5_col0, #T_0588d_row5_col1, #T_0588d_row6_col0, #T_0588d_row6_col1, #T_0588d_row7_col0, #T_0588d_row7_col1, #T_0588d_row8_col0, #T_0588d_row8_col1, #T_0588d_row9_col0, #T_0588d_row9_col1, #T_0588d_row10_col0, #T_0588d_row10_col1, #T_0588d_row11_col0, #T_0588d_row11_col1, #T_0588d_row12_col0, #T_0588d_row12_col1 {\n",
       "  text-align: left;\n",
       "}\n",
       "</style>\n",
       "<table id=\"T_0588d\" style=\"font-size: 14px\">\n",
       "  <thead>\n",
       "    <tr>\n",
       "      <th id=\"T_0588d_level0_col0\" class=\"col_heading level0 col0\" >Dataset Descriptor</th>\n",
       "      <th id=\"T_0588d_level0_col1\" class=\"col_heading level0 col1\" >Dataset-specific Information</th>\n",
       "    </tr>\n",
       "  </thead>\n",
       "  <tbody>\n",
       "    <tr>\n",
       "      <td id=\"T_0588d_row0_col0\" class=\"data row0 col0\" >Name of Dataset in TRE</td>\n",
       "      <td id=\"T_0588d_row0_col1\" class=\"data row0 col1\" >BCS70_bcs9</td>\n",
       "    </tr>\n",
       "    <tr>\n",
       "      <td id=\"T_0588d_row1_col0\" class=\"data row1 col0\" >Citation (APA)</td>\n",
       "      <td id=\"T_0588d_row1_col1\" class=\"data row1 col1\" >University College London, UCL Social Research Institute, Centre for Longitudinal Studies. (2021). <i>1970 British Cohort Study (BCS70): Age 42 Main Survey Data.</i> UK Longitudinal Linkage Collaboration (UK LLC).  <a href=\"https://doi.org/10.71760/ukllc-dataset-00068-01\" rel=\"noopener noreferrer\" target=\"_blank\">https://doi.org/10.71760/ukllc-dataset-00068-01</a></td>\n",
       "    </tr>\n",
       "    <tr>\n",
       "      <td id=\"T_0588d_row2_col0\" class=\"data row2 col0\" >Download Citation</td>\n",
       "      <td id=\"T_0588d_row2_col1\" class=\"data row2 col1\" > <a href=\"https://api.datacite.org/application/vnd.citationstyles.csl+json/10.71760/ukllc-dataset-00068-01\" rel=\"noopener noreferrer\" target=\"_blank\">Citeproc JSON</a>&nbsp;&nbsp;&nbsp;&nbsp; <a href=\"https://api.datacite.org/application/x-bibtex/10.71760/ukllc-dataset-00068-01\" rel=\"noopener noreferrer\" target=\"_blank\">BibTeX</a>&nbsp;&nbsp;&nbsp;&nbsp; <a href=\"https://api.datacite.org/application/x-research-info-systems/10.71760/ukllc-dataset-00068-01\" rel=\"noopener noreferrer\" target=\"_blank\">RIS</a></td>\n",
       "    </tr>\n",
       "    <tr>\n",
       "      <td id=\"T_0588d_row3_col0\" class=\"data row3 col0\" >Series</td>\n",
       "      <td id=\"T_0588d_row3_col1\" class=\"data row3 col1\" > <a href=\"https://guidebook.ukllc.ac.uk/docs/lps_data/lps%20profiles/BCS70\">1970 British Cohort Study (BCS70)</a></td>\n",
       "    </tr>\n",
       "    <tr>\n",
       "      <td id=\"T_0588d_row4_col0\" class=\"data row4 col0\" >Owner</td>\n",
       "      <td id=\"T_0588d_row4_col1\" class=\"data row4 col1\" >UCL</td>\n",
       "    </tr>\n",
       "    <tr>\n",
       "      <td id=\"T_0588d_row5_col0\" class=\"data row5 col0\" >Temporal Coverage</td>\n",
       "      <td id=\"T_0588d_row5_col1\" class=\"data row5 col1\" >04/2012 - 04/2013</td>\n",
       "    </tr>\n",
       "    <tr>\n",
       "      <td id=\"T_0588d_row6_col0\" class=\"data row6 col0\" >Keywords</td>\n",
       "      <td id=\"T_0588d_row6_col1\" class=\"data row6 col1\" >Health,Employment,Housing,Attitudes,Family Life,Social mobility</td>\n",
       "    </tr>\n",
       "    <tr>\n",
       "      <td id=\"T_0588d_row7_col0\" class=\"data row7 col0\" >Participants Invited</td>\n",
       "      <td id=\"T_0588d_row7_col1\" class=\"data row7 col1\" >9841</td>\n",
       "    </tr>\n",
       "    <tr>\n",
       "      <td id=\"T_0588d_row8_col0\" class=\"data row8 col0\" >Participant Count</td>\n",
       "      <td id=\"T_0588d_row8_col1\" class=\"data row8 col1\" >7955</td>\n",
       "    </tr>\n",
       "    <tr>\n",
       "      <td id=\"T_0588d_row9_col0\" class=\"data row9 col0\" >Number of variables</td>\n",
       "      <td id=\"T_0588d_row9_col1\" class=\"data row9 col1\" >1532</td>\n",
       "    </tr>\n",
       "    <tr>\n",
       "      <td id=\"T_0588d_row10_col0\" class=\"data row10 col0\" >Number of observations</td>\n",
       "      <td id=\"T_0588d_row10_col1\" class=\"data row10 col1\" >9841</td>\n",
       "    </tr>\n",
       "    <tr>\n",
       "      <td id=\"T_0588d_row11_col0\" class=\"data row11 col0\" >Specific Restrictions to Data Use</td>\n",
       "      <td id=\"T_0588d_row11_col1\" class=\"data row11 col1\" >None</td>\n",
       "    </tr>\n",
       "    <tr>\n",
       "      <td id=\"T_0588d_row12_col0\" class=\"data row12 col0\" >Build a Data Request</td>\n",
       "      <td id=\"T_0588d_row12_col1\" class=\"data row12 col1\" > <a href=\"https://explore.ukllc.ac.uk/\" rel=\"noopener noreferrer\" target=\"_blank\">https://explore.ukllc.ac.uk/</a></td>\n",
       "    </tr>\n",
       "  </tbody>\n",
       "</table>\n"
      ],
      "text/plain": [
       "<pandas.io.formats.style.Styler at 0x20c1dd46e40>"
      ]
     },
     "execution_count": 3,
     "metadata": {},
     "output_type": "execute_result"
    }
   ],
   "source": [
    "ds.info_table()"
   ]
  },
  {
   "cell_type": "markdown",
   "id": "e218e3a6",
   "metadata": {},
   "source": [
    "## 2. Version History"
   ]
  },
  {
   "cell_type": "code",
   "execution_count": 4,
   "id": "d62f4daf",
   "metadata": {
    "execution": {
     "iopub.execute_input": "2025-07-28T13:30:22.479697Z",
     "iopub.status.busy": "2025-07-28T13:30:22.478697Z",
     "iopub.status.idle": "2025-07-28T13:30:25.674747Z",
     "shell.execute_reply": "2025-07-28T13:30:25.674747Z"
    },
    "tags": [
     "remove-input"
    ]
   },
   "outputs": [
    {
     "data": {
      "text/html": [
       "<style type=\"text/css\">\n",
       "#T_44c3c th {\n",
       "  text-align: left;\n",
       "}\n",
       "#T_44c3c_row0_col0, #T_44c3c_row0_col1, #T_44c3c_row1_col0, #T_44c3c_row1_col1, #T_44c3c_row2_col0, #T_44c3c_row2_col1, #T_44c3c_row3_col0, #T_44c3c_row3_col1, #T_44c3c_row4_col0, #T_44c3c_row4_col1 {\n",
       "  text-align: left;\n",
       "}\n",
       "</style>\n",
       "<table id=\"T_44c3c\" style=\"font-size: 14px\">\n",
       "  <thead>\n",
       "    <tr>\n",
       "      <th id=\"T_44c3c_level0_col0\" class=\"col_heading level0 col0\" >Version</th>\n",
       "      <th id=\"T_44c3c_level0_col1\" class=\"col_heading level0 col1\" >1</th>\n",
       "    </tr>\n",
       "  </thead>\n",
       "  <tbody>\n",
       "    <tr>\n",
       "      <td id=\"T_44c3c_row0_col0\" class=\"data row0 col0\" >Version Date</td>\n",
       "      <td id=\"T_44c3c_row0_col1\" class=\"data row0 col1\" >01 Nov 2021</td>\n",
       "    </tr>\n",
       "    <tr>\n",
       "      <td id=\"T_44c3c_row1_col0\" class=\"data row1 col0\" >Number of Variables</td>\n",
       "      <td id=\"T_44c3c_row1_col1\" class=\"data row1 col1\" >1534</td>\n",
       "    </tr>\n",
       "    <tr>\n",
       "      <td id=\"T_44c3c_row2_col0\" class=\"data row2 col0\" >Number of Observations</td>\n",
       "      <td id=\"T_44c3c_row2_col1\" class=\"data row2 col1\" >9841</td>\n",
       "    </tr>\n",
       "    <tr>\n",
       "      <td id=\"T_44c3c_row3_col0\" class=\"data row3 col0\" >DOI</td>\n",
       "      <td id=\"T_44c3c_row3_col1\" class=\"data row3 col1\" > <a href=\"https://doi.org/10.71760/ukllc-dataset-00068-01\" rel=\"noopener noreferrer\" target=\"_blank\">10.71760/ukllc-dataset-00068-01</a></td>\n",
       "    </tr>\n",
       "    <tr>\n",
       "      <td id=\"T_44c3c_row4_col0\" class=\"data row4 col0\" >Change Log</td>\n",
       "      <td id=\"T_44c3c_row4_col1\" class=\"data row4 col1\" > <a href=\"https://api.test.datacite.org/dois/10.71760/ukllc-dataset-00068-01/activities\" rel=\"noopener noreferrer\" target=\"_blank\">10.71760/ukllc-dataset-00068-01/activities</a></td>\n",
       "    </tr>\n",
       "  </tbody>\n",
       "</table>\n"
      ],
      "text/plain": [
       "<pandas.io.formats.style.Styler at 0x20c1ddb5a90>"
      ]
     },
     "execution_count": 4,
     "metadata": {},
     "output_type": "execute_result"
    }
   ],
   "source": [
    "ds.version_history()"
   ]
  },
  {
   "cell_type": "markdown",
   "id": "fc85645d",
   "metadata": {},
   "source": [
    "## 3. Documentation"
   ]
  },
  {
   "cell_type": "code",
   "execution_count": 5,
   "id": "2f7d8b1b",
   "metadata": {
    "execution": {
     "iopub.execute_input": "2025-07-28T13:30:25.678717Z",
     "iopub.status.busy": "2025-07-28T13:30:25.678717Z",
     "iopub.status.idle": "2025-07-28T13:30:25.681866Z",
     "shell.execute_reply": "2025-07-28T13:30:25.681866Z"
    },
    "tags": [
     "remove-input"
    ]
   },
   "outputs": [
    {
     "data": {
      "text/markdown": [
       "We are currently building a documentation storage system which will host useful documents related to datasets and data owners. We will surface these documents on Guidebook."
      ],
      "text/plain": [
       "<IPython.core.display.Markdown object>"
      ]
     },
     "metadata": {},
     "output_type": "display_data"
    }
   ],
   "source": [
    "ds.documentation()"
   ]
  },
  {
   "cell_type": "markdown",
   "id": "b9b9eeeb",
   "metadata": {},
   "source": [
    "## 4. Useful Syntax"
   ]
  },
  {
   "cell_type": "code",
   "execution_count": 6,
   "id": "226e258b",
   "metadata": {
    "execution": {
     "iopub.execute_input": "2025-07-28T13:30:25.683872Z",
     "iopub.status.busy": "2025-07-28T13:30:25.683872Z",
     "iopub.status.idle": "2025-07-28T13:30:25.686877Z",
     "shell.execute_reply": "2025-07-28T13:30:25.686877Z"
    },
    "tags": [
     "remove-input"
    ]
   },
   "outputs": [
    {
     "data": {
      "text/markdown": [
       "Below we will include syntax that may be helpful to other researchers in the UK LLC TRE. For longer scripts, we will include a snippet of the code plus a link to Git where you can find the full scripts."
      ],
      "text/plain": [
       "<IPython.core.display.Markdown object>"
      ]
     },
     "metadata": {},
     "output_type": "display_data"
    }
   ],
   "source": [
    "ds.useful_syntax()"
   ]
  }
 ],
 "metadata": {
  "kernelspec": {
   "display_name": "jupbook",
   "language": "python",
   "name": "python3"
  },
  "language_info": {
   "codemirror_mode": {
    "name": "ipython",
    "version": 3
   },
   "file_extension": ".py",
   "mimetype": "text/x-python",
   "name": "python",
   "nbconvert_exporter": "python",
   "pygments_lexer": "ipython3",
   "version": "3.13.2"
  }
 },
 "nbformat": 4,
 "nbformat_minor": 5
}
