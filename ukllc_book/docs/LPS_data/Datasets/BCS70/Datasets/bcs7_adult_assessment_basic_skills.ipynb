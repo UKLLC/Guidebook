{
 "cells": [
  {
   "cell_type": "markdown",
   "id": "fffa41aa",
   "metadata": {},
   "source": [
    "# Cohort member adult assessment data (BCS70)"
   ]
  },
  {
   "cell_type": "code",
   "execution_count": 1,
   "id": "3660c984",
   "metadata": {
    "execution": {
     "iopub.execute_input": "2025-07-17T14:50:41.020025Z",
     "iopub.status.busy": "2025-07-17T14:50:41.020025Z",
     "iopub.status.idle": "2025-07-17T14:50:49.332324Z",
     "shell.execute_reply": "2025-07-17T14:50:49.331312Z"
    },
    "tags": [
     "remove-input"
    ]
   },
   "outputs": [
    {
     "data": {
      "text/markdown": [
       ">Last modified: 17 Jul 2025"
      ],
      "text/plain": [
       "<IPython.core.display.Markdown object>"
      ]
     },
     "metadata": {},
     "output_type": "display_data"
    }
   ],
   "source": [
    "\n",
    "import sys\n",
    "import os\n",
    "sys.path.append(os.path.abspath('../../../../scripts/'))\n",
    "from data_doc_helper import LPSDataSet as DS, last_modified\n",
    "API_KEY = os.environ['FASTAPI_KEY']\n",
    "ds = DS(\"BCS70\", \"bcs7_adult_assessment_basic_skills\")\n",
    "last_modified()\n"
   ]
  },
  {
   "cell_type": "markdown",
   "id": "16e6b383",
   "metadata": {},
   "source": [
    "## 1. Summary"
   ]
  },
  {
   "cell_type": "code",
   "execution_count": 2,
   "id": "6978d5ce",
   "metadata": {
    "execution": {
     "iopub.execute_input": "2025-07-17T14:50:49.337160Z",
     "iopub.status.busy": "2025-07-17T14:50:49.337160Z",
     "iopub.status.idle": "2025-07-17T14:50:49.344478Z",
     "shell.execute_reply": "2025-07-17T14:50:49.343674Z"
    },
    "tags": [
     "remove-input"
    ]
   },
   "outputs": [
    {
     "data": {
      "text/markdown": [
       "Assessments of basic skills and dyslexia, built on experience in 1991 and 1995 in assessing literacy and numeracy in ten per cent samples of BCS70 and NCDS respectively, but providing information for a very much larger sample and facilitates more detailed and comprehensive analyses of the antecedents and impact of poor basic skills."
      ],
      "text/plain": [
       "<IPython.core.display.Markdown object>"
      ]
     },
     "metadata": {},
     "output_type": "display_data"
    }
   ],
   "source": [
    "ds.summary()"
   ]
  },
  {
   "cell_type": "code",
   "execution_count": 3,
   "id": "c1adccb8",
   "metadata": {
    "execution": {
     "iopub.execute_input": "2025-07-17T14:50:49.348494Z",
     "iopub.status.busy": "2025-07-17T14:50:49.348494Z",
     "iopub.status.idle": "2025-07-17T14:50:50.366415Z",
     "shell.execute_reply": "2025-07-17T14:50:50.365845Z"
    },
    "tags": [
     "remove-input"
    ]
   },
   "outputs": [
    {
     "data": {
      "text/html": [
       "<style type=\"text/css\">\n",
       "#T_24495 th {\n",
       "  text-align: left;\n",
       "}\n",
       "#T_24495_row0_col0, #T_24495_row0_col1, #T_24495_row1_col0, #T_24495_row1_col1, #T_24495_row2_col0, #T_24495_row2_col1, #T_24495_row3_col0, #T_24495_row3_col1, #T_24495_row4_col0, #T_24495_row4_col1, #T_24495_row5_col0, #T_24495_row5_col1, #T_24495_row6_col0, #T_24495_row6_col1, #T_24495_row7_col0, #T_24495_row7_col1, #T_24495_row8_col0, #T_24495_row8_col1, #T_24495_row9_col0, #T_24495_row9_col1, #T_24495_row10_col0, #T_24495_row10_col1, #T_24495_row11_col0, #T_24495_row11_col1, #T_24495_row12_col0, #T_24495_row12_col1 {\n",
       "  text-align: left;\n",
       "}\n",
       "</style>\n",
       "<table id=\"T_24495\" style=\"font-size: 14px\">\n",
       "  <thead>\n",
       "    <tr>\n",
       "      <th id=\"T_24495_level0_col0\" class=\"col_heading level0 col0\" >Dataset Descriptor</th>\n",
       "      <th id=\"T_24495_level0_col1\" class=\"col_heading level0 col1\" >Dataset-specific Information</th>\n",
       "    </tr>\n",
       "  </thead>\n",
       "  <tbody>\n",
       "    <tr>\n",
       "      <td id=\"T_24495_row0_col0\" class=\"data row0 col0\" >Name of Dataset in TRE</td>\n",
       "      <td id=\"T_24495_row0_col1\" class=\"data row0 col1\" >BCS70_bcs7_adult_assessment_basic_skills</td>\n",
       "    </tr>\n",
       "    <tr>\n",
       "      <td id=\"T_24495_row1_col0\" class=\"data row1 col0\" >Citation (APA)</td>\n",
       "      <td id=\"T_24495_row1_col1\" class=\"data row1 col1\" >University College London, UCL Social Research Institute, Centre for Longitudinal Studies. (2021). <i>1970 British Cohort Study (BCS70): Cohort member adult assessment data.</i> UK Longitudinal Linkage Collaboration (UK LLC).  <a href=\"https://doi.org/10.83126/ukllc-dataset-00133-01\" rel=\"noopener noreferrer\" target=\"_blank\">https://doi.org/10.83126/ukllc-dataset-00133-01</a></td>\n",
       "    </tr>\n",
       "    <tr>\n",
       "      <td id=\"T_24495_row2_col0\" class=\"data row2 col0\" >Download Citation</td>\n",
       "      <td id=\"T_24495_row2_col1\" class=\"data row2 col1\" > <a href=\"https://api.test.datacite.org/application/vnd.citationstyles.csl+json/10.83126/ukllc-dataset-00133-01\" rel=\"noopener noreferrer\" target=\"_blank\">Citeproc JSON</a>&nbsp;&nbsp;&nbsp;&nbsp; <a href=\"https://api.test.datacite.org/application/x-bibtex/10.83126/ukllc-dataset-00133-01\" rel=\"noopener noreferrer\" target=\"_blank\">BibTeX</a>&nbsp;&nbsp;&nbsp;&nbsp; <a href=\"https://api.test.datacite.org/application/x-research-info-systems/10.83126/ukllc-dataset-00133-01\" rel=\"noopener noreferrer\" target=\"_blank\">RIS</a></td>\n",
       "    </tr>\n",
       "    <tr>\n",
       "      <td id=\"T_24495_row3_col0\" class=\"data row3 col0\" >Series</td>\n",
       "      <td id=\"T_24495_row3_col1\" class=\"data row3 col1\" > <a href=\"https://guidebook.ukllc.ac.uk/docs/lps/lps%20profiles/BCS70\">1970 British Cohort Study (BCS70)</a></td>\n",
       "    </tr>\n",
       "    <tr>\n",
       "      <td id=\"T_24495_row4_col0\" class=\"data row4 col0\" >Owner</td>\n",
       "      <td id=\"T_24495_row4_col1\" class=\"data row4 col1\" >UCL</td>\n",
       "    </tr>\n",
       "    <tr>\n",
       "      <td id=\"T_24495_row5_col0\" class=\"data row5 col0\" >Temporal Coverage</td>\n",
       "      <td id=\"T_24495_row5_col1\" class=\"data row5 col1\" >04/2004 - 04/2005</td>\n",
       "    </tr>\n",
       "    <tr>\n",
       "      <td id=\"T_24495_row6_col0\" class=\"data row6 col0\" >Keywords</td>\n",
       "      <td id=\"T_24495_row6_col1\" class=\"data row6 col1\" >Cognition,Literacy,Numeracy</td>\n",
       "    </tr>\n",
       "    <tr>\n",
       "      <td id=\"T_24495_row7_col0\" class=\"data row7 col0\" >Participants Invited</td>\n",
       "      <td id=\"T_24495_row7_col1\" class=\"data row7 col1\" >9665</td>\n",
       "    </tr>\n",
       "    <tr>\n",
       "      <td id=\"T_24495_row8_col0\" class=\"data row8 col0\" >Participant Count</td>\n",
       "      <td id=\"T_24495_row8_col1\" class=\"data row8 col1\" >6795</td>\n",
       "    </tr>\n",
       "    <tr>\n",
       "      <td id=\"T_24495_row9_col0\" class=\"data row9 col0\" >Number of variables</td>\n",
       "      <td id=\"T_24495_row9_col1\" class=\"data row9 col1\" >29</td>\n",
       "    </tr>\n",
       "    <tr>\n",
       "      <td id=\"T_24495_row10_col0\" class=\"data row10 col0\" >Number of observations</td>\n",
       "      <td id=\"T_24495_row10_col1\" class=\"data row10 col1\" >9665</td>\n",
       "    </tr>\n",
       "    <tr>\n",
       "      <td id=\"T_24495_row11_col0\" class=\"data row11 col0\" >Specific Restrictions to Data Use</td>\n",
       "      <td id=\"T_24495_row11_col1\" class=\"data row11 col1\" >None</td>\n",
       "    </tr>\n",
       "    <tr>\n",
       "      <td id=\"T_24495_row12_col0\" class=\"data row12 col0\" >Build a Data Request</td>\n",
       "      <td id=\"T_24495_row12_col1\" class=\"data row12 col1\" > <a href=\"https://explore.ukllc.ac.uk/\" rel=\"noopener noreferrer\" target=\"_blank\">https://explore.ukllc.ac.uk/</a></td>\n",
       "    </tr>\n",
       "  </tbody>\n",
       "</table>\n"
      ],
      "text/plain": [
       "<pandas.io.formats.style.Styler at 0x217be5302f0>"
      ]
     },
     "execution_count": 3,
     "metadata": {},
     "output_type": "execute_result"
    }
   ],
   "source": [
    "ds.info_table()"
   ]
  },
  {
   "cell_type": "markdown",
   "id": "33d4ac85",
   "metadata": {},
   "source": [
    "## 2. Version History"
   ]
  },
  {
   "cell_type": "code",
   "execution_count": 4,
   "id": "0181fc97",
   "metadata": {
    "execution": {
     "iopub.execute_input": "2025-07-17T14:50:50.369413Z",
     "iopub.status.busy": "2025-07-17T14:50:50.369413Z",
     "iopub.status.idle": "2025-07-17T14:50:53.654571Z",
     "shell.execute_reply": "2025-07-17T14:50:53.653554Z"
    },
    "tags": [
     "remove-input"
    ]
   },
   "outputs": [
    {
     "data": {
      "text/html": [
       "<style type=\"text/css\">\n",
       "#T_096ea th {\n",
       "  text-align: left;\n",
       "}\n",
       "#T_096ea_row0_col0, #T_096ea_row0_col1, #T_096ea_row1_col0, #T_096ea_row1_col1, #T_096ea_row2_col0, #T_096ea_row2_col1, #T_096ea_row3_col0, #T_096ea_row3_col1, #T_096ea_row4_col0, #T_096ea_row4_col1 {\n",
       "  text-align: left;\n",
       "}\n",
       "</style>\n",
       "<table id=\"T_096ea\" style=\"font-size: 14px\">\n",
       "  <thead>\n",
       "    <tr>\n",
       "      <th id=\"T_096ea_level0_col0\" class=\"col_heading level0 col0\" >Version</th>\n",
       "      <th id=\"T_096ea_level0_col1\" class=\"col_heading level0 col1\" >1</th>\n",
       "    </tr>\n",
       "  </thead>\n",
       "  <tbody>\n",
       "    <tr>\n",
       "      <td id=\"T_096ea_row0_col0\" class=\"data row0 col0\" >Version Date</td>\n",
       "      <td id=\"T_096ea_row0_col1\" class=\"data row0 col1\" >01 Nov 2021</td>\n",
       "    </tr>\n",
       "    <tr>\n",
       "      <td id=\"T_096ea_row1_col0\" class=\"data row1 col0\" >Number of Variables</td>\n",
       "      <td id=\"T_096ea_row1_col1\" class=\"data row1 col1\" >29</td>\n",
       "    </tr>\n",
       "    <tr>\n",
       "      <td id=\"T_096ea_row2_col0\" class=\"data row2 col0\" >Number of Observations</td>\n",
       "      <td id=\"T_096ea_row2_col1\" class=\"data row2 col1\" >9665</td>\n",
       "    </tr>\n",
       "    <tr>\n",
       "      <td id=\"T_096ea_row3_col0\" class=\"data row3 col0\" >DOI</td>\n",
       "      <td id=\"T_096ea_row3_col1\" class=\"data row3 col1\" > <a href=\"https://doi.org/10.83126/ukllc-dataset-00133-01\" rel=\"noopener noreferrer\" target=\"_blank\">10.83126/ukllc-dataset-00133-01</a></td>\n",
       "    </tr>\n",
       "    <tr>\n",
       "      <td id=\"T_096ea_row4_col0\" class=\"data row4 col0\" >Change Log</td>\n",
       "      <td id=\"T_096ea_row4_col1\" class=\"data row4 col1\" > <a href=\"https://api.test.datacite.org/dois/10.83126/ukllc-dataset-00133-01/activities\" rel=\"noopener noreferrer\" target=\"_blank\">10.83126/ukllc-dataset-00133-01/activities</a></td>\n",
       "    </tr>\n",
       "  </tbody>\n",
       "</table>\n"
      ],
      "text/plain": [
       "<pandas.io.formats.style.Styler at 0x217c035bad0>"
      ]
     },
     "execution_count": 4,
     "metadata": {},
     "output_type": "execute_result"
    }
   ],
   "source": [
    "ds.version_history()"
   ]
  },
  {
   "cell_type": "markdown",
   "id": "31951109",
   "metadata": {},
   "source": [
    "## 3. Documentation"
   ]
  },
  {
   "cell_type": "code",
   "execution_count": 5,
   "id": "42e84022",
   "metadata": {
    "execution": {
     "iopub.execute_input": "2025-07-17T14:50:53.661735Z",
     "iopub.status.busy": "2025-07-17T14:50:53.661735Z",
     "iopub.status.idle": "2025-07-17T14:50:53.669908Z",
     "shell.execute_reply": "2025-07-17T14:50:53.668028Z"
    },
    "tags": [
     "remove-input"
    ]
   },
   "outputs": [
    {
     "data": {
      "text/markdown": [
       "We are currently building a documentation storage system which will host useful documents related to datasets and data owners. We will surface these documents on Guidebook."
      ],
      "text/plain": [
       "<IPython.core.display.Markdown object>"
      ]
     },
     "metadata": {},
     "output_type": "display_data"
    }
   ],
   "source": [
    "ds.documentation()"
   ]
  },
  {
   "cell_type": "markdown",
   "id": "c3127275",
   "metadata": {},
   "source": [
    "## 4. Useful Syntax"
   ]
  },
  {
   "cell_type": "code",
   "execution_count": 6,
   "id": "7a7a955f",
   "metadata": {
    "execution": {
     "iopub.execute_input": "2025-07-17T14:50:53.674326Z",
     "iopub.status.busy": "2025-07-17T14:50:53.674326Z",
     "iopub.status.idle": "2025-07-17T14:50:53.680658Z",
     "shell.execute_reply": "2025-07-17T14:50:53.679636Z"
    },
    "tags": [
     "remove-input"
    ]
   },
   "outputs": [
    {
     "data": {
      "text/markdown": [
       "Below we will include syntax that may be helpful to other researchers in the UK LLC TRE. For longer scripts, we will include a snippet of the code plus a link to Git where you can find the full scripts."
      ],
      "text/plain": [
       "<IPython.core.display.Markdown object>"
      ]
     },
     "metadata": {},
     "output_type": "display_data"
    }
   ],
   "source": [
    "ds.useful_syntax()"
   ]
  }
 ],
 "metadata": {
  "language_info": {
   "codemirror_mode": {
    "name": "ipython",
    "version": 3
   },
   "file_extension": ".py",
   "mimetype": "text/x-python",
   "name": "python",
   "nbconvert_exporter": "python",
   "pygments_lexer": "ipython3",
   "version": "3.12.7"
  }
 },
 "nbformat": 4,
 "nbformat_minor": 5
}
