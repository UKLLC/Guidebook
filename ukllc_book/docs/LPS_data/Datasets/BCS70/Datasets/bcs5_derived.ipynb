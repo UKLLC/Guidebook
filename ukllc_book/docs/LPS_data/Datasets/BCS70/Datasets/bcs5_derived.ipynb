{
 "cells": [
  {
   "cell_type": "markdown",
   "id": "b4d6767b",
   "metadata": {},
   "source": [
    "# Age 26 Derived Data (BCS70)"
   ]
  },
  {
   "cell_type": "code",
   "execution_count": 1,
   "id": "ef59f93e",
   "metadata": {
    "execution": {
     "iopub.execute_input": "2025-07-28T18:31:12.222345Z",
     "iopub.status.busy": "2025-07-28T18:31:12.222345Z",
     "iopub.status.idle": "2025-07-28T18:31:26.086777Z",
     "shell.execute_reply": "2025-07-28T18:31:26.085759Z"
    },
    "tags": [
     "remove-input"
    ]
   },
   "outputs": [
    {
     "data": {
      "text/markdown": [
       ">Last modified: 28 Jul 2025"
      ],
      "text/plain": [
       "<IPython.core.display.Markdown object>"
      ]
     },
     "metadata": {},
     "output_type": "display_data"
    }
   ],
   "source": [
    "\n",
    "import sys\n",
    "import os\n",
    "sys.path.append(os.path.abspath('../../../../scripts/'))\n",
    "from data_doc_helper import LPSDataSet as DS, last_modified\n",
    "API_KEY = os.environ['FASTAPI_KEY']\n",
    "ds = DS(\"BCS70\", \"bcs5_derived\")\n",
    "last_modified()\n"
   ]
  },
  {
   "cell_type": "markdown",
   "id": "339420e4",
   "metadata": {},
   "source": [
    "## 1. Summary"
   ]
  },
  {
   "cell_type": "code",
   "execution_count": 2,
   "id": "d3670215",
   "metadata": {
    "execution": {
     "iopub.execute_input": "2025-07-28T18:31:26.095774Z",
     "iopub.status.busy": "2025-07-28T18:31:26.094773Z",
     "iopub.status.idle": "2025-07-28T18:31:26.110055Z",
     "shell.execute_reply": "2025-07-28T18:31:26.108308Z"
    },
    "tags": [
     "remove-input"
    ]
   },
   "outputs": [
    {
     "data": {
      "text/markdown": [
       "Derivations based on collected sweep 5 survey data including Qualifications, Labour market, Relationships, marriage and children, Health and health-related behaviour, Views, voting and values."
      ],
      "text/plain": [
       "<IPython.core.display.Markdown object>"
      ]
     },
     "metadata": {},
     "output_type": "display_data"
    }
   ],
   "source": [
    "ds.summary()"
   ]
  },
  {
   "cell_type": "code",
   "execution_count": 3,
   "id": "d1b5578a",
   "metadata": {
    "execution": {
     "iopub.execute_input": "2025-07-28T18:31:26.118069Z",
     "iopub.status.busy": "2025-07-28T18:31:26.117067Z",
     "iopub.status.idle": "2025-07-28T18:31:27.754747Z",
     "shell.execute_reply": "2025-07-28T18:31:27.752729Z"
    },
    "tags": [
     "remove-input"
    ]
   },
   "outputs": [
    {
     "data": {
      "text/html": [
       "<style type=\"text/css\">\n",
       "#T_37d53 th {\n",
       "  text-align: left;\n",
       "}\n",
       "#T_37d53_row0_col0, #T_37d53_row0_col1, #T_37d53_row1_col0, #T_37d53_row1_col1, #T_37d53_row2_col0, #T_37d53_row2_col1, #T_37d53_row3_col0, #T_37d53_row3_col1, #T_37d53_row4_col0, #T_37d53_row4_col1, #T_37d53_row5_col0, #T_37d53_row5_col1, #T_37d53_row6_col0, #T_37d53_row6_col1, #T_37d53_row7_col0, #T_37d53_row7_col1, #T_37d53_row8_col0, #T_37d53_row8_col1, #T_37d53_row9_col0, #T_37d53_row9_col1, #T_37d53_row10_col0, #T_37d53_row10_col1, #T_37d53_row11_col0, #T_37d53_row11_col1, #T_37d53_row12_col0, #T_37d53_row12_col1 {\n",
       "  text-align: left;\n",
       "}\n",
       "</style>\n",
       "<table id=\"T_37d53\" style=\"font-size: 14px\">\n",
       "  <thead>\n",
       "    <tr>\n",
       "      <th id=\"T_37d53_level0_col0\" class=\"col_heading level0 col0\" >Dataset Descriptor</th>\n",
       "      <th id=\"T_37d53_level0_col1\" class=\"col_heading level0 col1\" >Dataset-specific Information</th>\n",
       "    </tr>\n",
       "  </thead>\n",
       "  <tbody>\n",
       "    <tr>\n",
       "      <td id=\"T_37d53_row0_col0\" class=\"data row0 col0\" >Name of Dataset in TRE</td>\n",
       "      <td id=\"T_37d53_row0_col1\" class=\"data row0 col1\" >BCS70_bcs5_derived</td>\n",
       "    </tr>\n",
       "    <tr>\n",
       "      <td id=\"T_37d53_row1_col0\" class=\"data row1 col0\" >Citation (APA)</td>\n",
       "      <td id=\"T_37d53_row1_col1\" class=\"data row1 col1\" >University College London, UCL Social Research Institute, Centre for Longitudinal Studies. (2021). <i>1970 British Cohort Study (BCS70): Age 26 Derived Data.</i> UK Longitudinal Linkage Collaboration (UK LLC).  <a href=\"https://doi.org/10.71760/ukllc-dataset-00048-01\" rel=\"noopener noreferrer\" target=\"_blank\">https://doi.org/10.71760/ukllc-dataset-00048-01</a></td>\n",
       "    </tr>\n",
       "    <tr>\n",
       "      <td id=\"T_37d53_row2_col0\" class=\"data row2 col0\" >Download Citation</td>\n",
       "      <td id=\"T_37d53_row2_col1\" class=\"data row2 col1\" > <a href=\"https://api.datacite.org/application/vnd.citationstyles.csl+json/10.71760/ukllc-dataset-00048-01\" rel=\"noopener noreferrer\" target=\"_blank\">Citeproc JSON</a>&nbsp;&nbsp;&nbsp;&nbsp; <a href=\"https://api.datacite.org/application/x-bibtex/10.71760/ukllc-dataset-00048-01\" rel=\"noopener noreferrer\" target=\"_blank\">BibTeX</a>&nbsp;&nbsp;&nbsp;&nbsp; <a href=\"https://api.datacite.org/application/x-research-info-systems/10.71760/ukllc-dataset-00048-01\" rel=\"noopener noreferrer\" target=\"_blank\">RIS</a></td>\n",
       "    </tr>\n",
       "    <tr>\n",
       "      <td id=\"T_37d53_row3_col0\" class=\"data row3 col0\" >Series</td>\n",
       "      <td id=\"T_37d53_row3_col1\" class=\"data row3 col1\" > <a href=\"https://guidebook.ukllc.ac.uk/docs/lps_data/lps%20profiles/BCS70\">1970 British Cohort Study (BCS70)</a></td>\n",
       "    </tr>\n",
       "    <tr>\n",
       "      <td id=\"T_37d53_row4_col0\" class=\"data row4 col0\" >Owner</td>\n",
       "      <td id=\"T_37d53_row4_col1\" class=\"data row4 col1\" >UCL</td>\n",
       "    </tr>\n",
       "    <tr>\n",
       "      <td id=\"T_37d53_row5_col0\" class=\"data row5 col0\" >Temporal Coverage</td>\n",
       "      <td id=\"T_37d53_row5_col1\" class=\"data row5 col1\" >04/1996 - 04/1997</td>\n",
       "    </tr>\n",
       "    <tr>\n",
       "      <td id=\"T_37d53_row6_col0\" class=\"data row6 col0\" >Keywords</td>\n",
       "      <td id=\"T_37d53_row6_col1\" class=\"data row6 col1\" >Postal survey,Health,Education,Employment,Attitudes,Partners</td>\n",
       "    </tr>\n",
       "    <tr>\n",
       "      <td id=\"T_37d53_row7_col0\" class=\"data row7 col0\" >Participants Invited</td>\n",
       "      <td id=\"T_37d53_row7_col1\" class=\"data row7 col1\" >9003</td>\n",
       "    </tr>\n",
       "    <tr>\n",
       "      <td id=\"T_37d53_row8_col0\" class=\"data row8 col0\" >Participant Count</td>\n",
       "      <td id=\"T_37d53_row8_col1\" class=\"data row8 col1\" >5917</td>\n",
       "    </tr>\n",
       "    <tr>\n",
       "      <td id=\"T_37d53_row9_col0\" class=\"data row9 col0\" >Number of variables</td>\n",
       "      <td id=\"T_37d53_row9_col1\" class=\"data row9 col1\" >8</td>\n",
       "    </tr>\n",
       "    <tr>\n",
       "      <td id=\"T_37d53_row10_col0\" class=\"data row10 col0\" >Number of observations</td>\n",
       "      <td id=\"T_37d53_row10_col1\" class=\"data row10 col1\" >9003</td>\n",
       "    </tr>\n",
       "    <tr>\n",
       "      <td id=\"T_37d53_row11_col0\" class=\"data row11 col0\" >Specific Restrictions to Data Use</td>\n",
       "      <td id=\"T_37d53_row11_col1\" class=\"data row11 col1\" >None</td>\n",
       "    </tr>\n",
       "    <tr>\n",
       "      <td id=\"T_37d53_row12_col0\" class=\"data row12 col0\" >Build a Data Request</td>\n",
       "      <td id=\"T_37d53_row12_col1\" class=\"data row12 col1\" > <a href=\"https://explore.ukllc.ac.uk/\" rel=\"noopener noreferrer\" target=\"_blank\">https://explore.ukllc.ac.uk/</a></td>\n",
       "    </tr>\n",
       "  </tbody>\n",
       "</table>\n"
      ],
      "text/plain": [
       "<pandas.io.formats.style.Styler at 0x28527c4c8c0>"
      ]
     },
     "execution_count": 3,
     "metadata": {},
     "output_type": "execute_result"
    }
   ],
   "source": [
    "ds.info_table()"
   ]
  },
  {
   "cell_type": "markdown",
   "id": "fb61ede3",
   "metadata": {},
   "source": [
    "## 2. Version History"
   ]
  },
  {
   "cell_type": "code",
   "execution_count": 4,
   "id": "ef739d9f",
   "metadata": {
    "execution": {
     "iopub.execute_input": "2025-07-28T18:31:27.763742Z",
     "iopub.status.busy": "2025-07-28T18:31:27.762743Z",
     "iopub.status.idle": "2025-07-28T18:31:32.954206Z",
     "shell.execute_reply": "2025-07-28T18:31:32.953098Z"
    },
    "tags": [
     "remove-input"
    ]
   },
   "outputs": [
    {
     "data": {
      "text/html": [
       "<style type=\"text/css\">\n",
       "#T_89bc4 th {\n",
       "  text-align: left;\n",
       "}\n",
       "#T_89bc4_row0_col0, #T_89bc4_row0_col1, #T_89bc4_row1_col0, #T_89bc4_row1_col1, #T_89bc4_row2_col0, #T_89bc4_row2_col1, #T_89bc4_row3_col0, #T_89bc4_row3_col1, #T_89bc4_row4_col0, #T_89bc4_row4_col1 {\n",
       "  text-align: left;\n",
       "}\n",
       "</style>\n",
       "<table id=\"T_89bc4\" style=\"font-size: 14px\">\n",
       "  <thead>\n",
       "    <tr>\n",
       "      <th id=\"T_89bc4_level0_col0\" class=\"col_heading level0 col0\" >Version</th>\n",
       "      <th id=\"T_89bc4_level0_col1\" class=\"col_heading level0 col1\" >1</th>\n",
       "    </tr>\n",
       "  </thead>\n",
       "  <tbody>\n",
       "    <tr>\n",
       "      <td id=\"T_89bc4_row0_col0\" class=\"data row0 col0\" >Version Date</td>\n",
       "      <td id=\"T_89bc4_row0_col1\" class=\"data row0 col1\" >01 Nov 2021</td>\n",
       "    </tr>\n",
       "    <tr>\n",
       "      <td id=\"T_89bc4_row1_col0\" class=\"data row1 col0\" >Number of Variables</td>\n",
       "      <td id=\"T_89bc4_row1_col1\" class=\"data row1 col1\" >8</td>\n",
       "    </tr>\n",
       "    <tr>\n",
       "      <td id=\"T_89bc4_row2_col0\" class=\"data row2 col0\" >Number of Observations</td>\n",
       "      <td id=\"T_89bc4_row2_col1\" class=\"data row2 col1\" >9003</td>\n",
       "    </tr>\n",
       "    <tr>\n",
       "      <td id=\"T_89bc4_row3_col0\" class=\"data row3 col0\" >DOI</td>\n",
       "      <td id=\"T_89bc4_row3_col1\" class=\"data row3 col1\" > <a href=\"https://doi.org/10.71760/ukllc-dataset-00048-01\" rel=\"noopener noreferrer\" target=\"_blank\">10.71760/ukllc-dataset-00048-01</a></td>\n",
       "    </tr>\n",
       "    <tr>\n",
       "      <td id=\"T_89bc4_row4_col0\" class=\"data row4 col0\" >Change Log</td>\n",
       "      <td id=\"T_89bc4_row4_col1\" class=\"data row4 col1\" > <a href=\"https://api.test.datacite.org/dois/10.71760/ukllc-dataset-00048-01/activities\" rel=\"noopener noreferrer\" target=\"_blank\">10.71760/ukllc-dataset-00048-01/activities</a></td>\n",
       "    </tr>\n",
       "  </tbody>\n",
       "</table>\n"
      ],
      "text/plain": [
       "<pandas.io.formats.style.Styler at 0x2852d6d5b50>"
      ]
     },
     "execution_count": 4,
     "metadata": {},
     "output_type": "execute_result"
    }
   ],
   "source": [
    "ds.version_history()"
   ]
  },
  {
   "cell_type": "markdown",
   "id": "9759b3b9",
   "metadata": {},
   "source": [
    "## 3. Documentation"
   ]
  },
  {
   "cell_type": "code",
   "execution_count": 5,
   "id": "26a924d5",
   "metadata": {
    "execution": {
     "iopub.execute_input": "2025-07-28T18:31:32.964275Z",
     "iopub.status.busy": "2025-07-28T18:31:32.963305Z",
     "iopub.status.idle": "2025-07-28T18:31:32.975363Z",
     "shell.execute_reply": "2025-07-28T18:31:32.973801Z"
    },
    "tags": [
     "remove-input"
    ]
   },
   "outputs": [
    {
     "data": {
      "text/markdown": [
       "We are currently building a documentation storage system which will host useful documents related to datasets and data owners. We will surface these documents on Guidebook."
      ],
      "text/plain": [
       "<IPython.core.display.Markdown object>"
      ]
     },
     "metadata": {},
     "output_type": "display_data"
    }
   ],
   "source": [
    "ds.documentation()"
   ]
  },
  {
   "cell_type": "markdown",
   "id": "d3657c63",
   "metadata": {},
   "source": [
    "## 4. Useful Syntax"
   ]
  },
  {
   "cell_type": "code",
   "execution_count": 6,
   "id": "9cac5c23",
   "metadata": {
    "execution": {
     "iopub.execute_input": "2025-07-28T18:31:32.983155Z",
     "iopub.status.busy": "2025-07-28T18:31:32.983155Z",
     "iopub.status.idle": "2025-07-28T18:31:32.993578Z",
     "shell.execute_reply": "2025-07-28T18:31:32.992069Z"
    },
    "tags": [
     "remove-input"
    ]
   },
   "outputs": [
    {
     "data": {
      "text/markdown": [
       "Below we will include syntax that may be helpful to other researchers in the UK LLC TRE. For longer scripts, we will include a snippet of the code plus a link to Git where you can find the full scripts."
      ],
      "text/plain": [
       "<IPython.core.display.Markdown object>"
      ]
     },
     "metadata": {},
     "output_type": "display_data"
    }
   ],
   "source": [
    "ds.useful_syntax()"
   ]
  }
 ],
 "metadata": {
  "language_info": {
   "codemirror_mode": {
    "name": "ipython",
    "version": 3
   },
   "file_extension": ".py",
   "mimetype": "text/x-python",
   "name": "python",
   "nbconvert_exporter": "python",
   "pygments_lexer": "ipython3",
   "version": "3.12.7"
  }
 },
 "nbformat": 4,
 "nbformat_minor": 5
}
