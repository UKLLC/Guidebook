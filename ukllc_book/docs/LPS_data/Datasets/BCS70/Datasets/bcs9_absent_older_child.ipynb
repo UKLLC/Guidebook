{
 "cells": [
  {
   "cell_type": "markdown",
   "id": "3c47cf8d",
   "metadata": {},
   "source": [
    "# Age 42 Absent Older Child (BCS70)"
   ]
  },
  {
   "cell_type": "code",
   "execution_count": 1,
   "id": "971a6a06",
   "metadata": {
    "execution": {
     "iopub.execute_input": "2025-07-17T14:53:35.007280Z",
     "iopub.status.busy": "2025-07-17T14:53:35.007280Z",
     "iopub.status.idle": "2025-07-17T14:53:42.070515Z",
     "shell.execute_reply": "2025-07-17T14:53:42.067837Z"
    },
    "tags": [
     "remove-input"
    ]
   },
   "outputs": [
    {
     "data": {
      "text/markdown": [
       ">Last modified: 17 Jul 2025"
      ],
      "text/plain": [
       "<IPython.core.display.Markdown object>"
      ]
     },
     "metadata": {},
     "output_type": "display_data"
    }
   ],
   "source": [
    "\n",
    "import sys\n",
    "import os\n",
    "sys.path.append(os.path.abspath('../../../../scripts/'))\n",
    "from data_doc_helper import LPSDataSet as DS, last_modified\n",
    "API_KEY = os.environ['FASTAPI_KEY']\n",
    "ds = DS(\"BCS70\", \"bcs9_absent_older_child\")\n",
    "last_modified()\n"
   ]
  },
  {
   "cell_type": "markdown",
   "id": "396d0fdc",
   "metadata": {},
   "source": [
    "## 1. Summary"
   ]
  },
  {
   "cell_type": "code",
   "execution_count": 2,
   "id": "ad465d5f",
   "metadata": {
    "execution": {
     "iopub.execute_input": "2025-07-17T14:53:42.079568Z",
     "iopub.status.busy": "2025-07-17T14:53:42.078572Z",
     "iopub.status.idle": "2025-07-17T14:53:42.092675Z",
     "shell.execute_reply": "2025-07-17T14:53:42.091158Z"
    },
    "tags": [
     "remove-input"
    ]
   },
   "outputs": [
    {
     "data": {
      "text/markdown": [
       "Data on absent or older children that respondent considers themselves to be a parent of"
      ],
      "text/plain": [
       "<IPython.core.display.Markdown object>"
      ]
     },
     "metadata": {},
     "output_type": "display_data"
    }
   ],
   "source": [
    "ds.summary()"
   ]
  },
  {
   "cell_type": "code",
   "execution_count": 3,
   "id": "e640488f",
   "metadata": {
    "execution": {
     "iopub.execute_input": "2025-07-17T14:53:42.100640Z",
     "iopub.status.busy": "2025-07-17T14:53:42.099639Z",
     "iopub.status.idle": "2025-07-17T14:53:43.863848Z",
     "shell.execute_reply": "2025-07-17T14:53:43.861831Z"
    },
    "tags": [
     "remove-input"
    ]
   },
   "outputs": [
    {
     "data": {
      "text/html": [
       "<style type=\"text/css\">\n",
       "#T_4f087 th {\n",
       "  text-align: left;\n",
       "}\n",
       "#T_4f087_row0_col0, #T_4f087_row0_col1, #T_4f087_row1_col0, #T_4f087_row1_col1, #T_4f087_row2_col0, #T_4f087_row2_col1, #T_4f087_row3_col0, #T_4f087_row3_col1, #T_4f087_row4_col0, #T_4f087_row4_col1, #T_4f087_row5_col0, #T_4f087_row5_col1, #T_4f087_row6_col0, #T_4f087_row6_col1, #T_4f087_row7_col0, #T_4f087_row7_col1, #T_4f087_row8_col0, #T_4f087_row8_col1, #T_4f087_row9_col0, #T_4f087_row9_col1, #T_4f087_row10_col0, #T_4f087_row10_col1, #T_4f087_row11_col0, #T_4f087_row11_col1, #T_4f087_row12_col0, #T_4f087_row12_col1 {\n",
       "  text-align: left;\n",
       "}\n",
       "</style>\n",
       "<table id=\"T_4f087\" style=\"font-size: 14px\">\n",
       "  <thead>\n",
       "    <tr>\n",
       "      <th id=\"T_4f087_level0_col0\" class=\"col_heading level0 col0\" >Dataset Descriptor</th>\n",
       "      <th id=\"T_4f087_level0_col1\" class=\"col_heading level0 col1\" >Dataset-specific Information</th>\n",
       "    </tr>\n",
       "  </thead>\n",
       "  <tbody>\n",
       "    <tr>\n",
       "      <td id=\"T_4f087_row0_col0\" class=\"data row0 col0\" >Name of Dataset in TRE</td>\n",
       "      <td id=\"T_4f087_row0_col1\" class=\"data row0 col1\" >BCS70_bcs9_absent_older_child</td>\n",
       "    </tr>\n",
       "    <tr>\n",
       "      <td id=\"T_4f087_row1_col0\" class=\"data row1 col0\" >Citation (APA)</td>\n",
       "      <td id=\"T_4f087_row1_col1\" class=\"data row1 col1\" >University College London, UCL Social Research Institute, Centre for Longitudinal Studies. (2021). <i>1970 British Cohort Study (BCS70): Age 42 Absent Older Child.</i> UK Longitudinal Linkage Collaboration (UK LLC).  <a href=\"https://doi.org/10.83126/ukllc-dataset-00141-01\" rel=\"noopener noreferrer\" target=\"_blank\">https://doi.org/10.83126/ukllc-dataset-00141-01</a></td>\n",
       "    </tr>\n",
       "    <tr>\n",
       "      <td id=\"T_4f087_row2_col0\" class=\"data row2 col0\" >Download Citation</td>\n",
       "      <td id=\"T_4f087_row2_col1\" class=\"data row2 col1\" > <a href=\"https://api.test.datacite.org/application/vnd.citationstyles.csl+json/10.83126/ukllc-dataset-00141-01\" rel=\"noopener noreferrer\" target=\"_blank\">Citeproc JSON</a>&nbsp;&nbsp;&nbsp;&nbsp; <a href=\"https://api.test.datacite.org/application/x-bibtex/10.83126/ukllc-dataset-00141-01\" rel=\"noopener noreferrer\" target=\"_blank\">BibTeX</a>&nbsp;&nbsp;&nbsp;&nbsp; <a href=\"https://api.test.datacite.org/application/x-research-info-systems/10.83126/ukllc-dataset-00141-01\" rel=\"noopener noreferrer\" target=\"_blank\">RIS</a></td>\n",
       "    </tr>\n",
       "    <tr>\n",
       "      <td id=\"T_4f087_row3_col0\" class=\"data row3 col0\" >Series</td>\n",
       "      <td id=\"T_4f087_row3_col1\" class=\"data row3 col1\" > <a href=\"https://guidebook.ukllc.ac.uk/docs/lps/lps%20profiles/BCS70\">1970 British Cohort Study (BCS70)</a></td>\n",
       "    </tr>\n",
       "    <tr>\n",
       "      <td id=\"T_4f087_row4_col0\" class=\"data row4 col0\" >Owner</td>\n",
       "      <td id=\"T_4f087_row4_col1\" class=\"data row4 col1\" >UCL</td>\n",
       "    </tr>\n",
       "    <tr>\n",
       "      <td id=\"T_4f087_row5_col0\" class=\"data row5 col0\" >Temporal Coverage</td>\n",
       "      <td id=\"T_4f087_row5_col1\" class=\"data row5 col1\" >04/2012 - 04/2013</td>\n",
       "    </tr>\n",
       "    <tr>\n",
       "      <td id=\"T_4f087_row6_col0\" class=\"data row6 col0\" >Keywords</td>\n",
       "      <td id=\"T_4f087_row6_col1\" class=\"data row6 col1\" >Children,Ages,Location</td>\n",
       "    </tr>\n",
       "    <tr>\n",
       "      <td id=\"T_4f087_row7_col0\" class=\"data row7 col0\" >Participants Invited</td>\n",
       "      <td id=\"T_4f087_row7_col1\" class=\"data row7 col1\" >9841</td>\n",
       "    </tr>\n",
       "    <tr>\n",
       "      <td id=\"T_4f087_row8_col0\" class=\"data row8 col0\" >Participant Count</td>\n",
       "      <td id=\"T_4f087_row8_col1\" class=\"data row8 col1\" >3094</td>\n",
       "    </tr>\n",
       "    <tr>\n",
       "      <td id=\"T_4f087_row9_col0\" class=\"data row9 col0\" >Number of variables</td>\n",
       "      <td id=\"T_4f087_row9_col1\" class=\"data row9 col1\" >74</td>\n",
       "    </tr>\n",
       "    <tr>\n",
       "      <td id=\"T_4f087_row10_col0\" class=\"data row10 col0\" >Number of observations</td>\n",
       "      <td id=\"T_4f087_row10_col1\" class=\"data row10 col1\" >6985</td>\n",
       "    </tr>\n",
       "    <tr>\n",
       "      <td id=\"T_4f087_row11_col0\" class=\"data row11 col0\" >Specific Restrictions to Data Use</td>\n",
       "      <td id=\"T_4f087_row11_col1\" class=\"data row11 col1\" >None</td>\n",
       "    </tr>\n",
       "    <tr>\n",
       "      <td id=\"T_4f087_row12_col0\" class=\"data row12 col0\" >Build a Data Request</td>\n",
       "      <td id=\"T_4f087_row12_col1\" class=\"data row12 col1\" > <a href=\"https://explore.ukllc.ac.uk/\" rel=\"noopener noreferrer\" target=\"_blank\">https://explore.ukllc.ac.uk/</a></td>\n",
       "    </tr>\n",
       "  </tbody>\n",
       "</table>\n"
      ],
      "text/plain": [
       "<pandas.io.formats.style.Styler at 0x1c616449010>"
      ]
     },
     "execution_count": 3,
     "metadata": {},
     "output_type": "execute_result"
    }
   ],
   "source": [
    "ds.info_table()"
   ]
  },
  {
   "cell_type": "markdown",
   "id": "47e7a797",
   "metadata": {},
   "source": [
    "## 2. Version History"
   ]
  },
  {
   "cell_type": "code",
   "execution_count": 4,
   "id": "345dbb4e",
   "metadata": {
    "execution": {
     "iopub.execute_input": "2025-07-17T14:53:43.871961Z",
     "iopub.status.busy": "2025-07-17T14:53:43.870859Z",
     "iopub.status.idle": "2025-07-17T14:53:46.486772Z",
     "shell.execute_reply": "2025-07-17T14:53:46.478705Z"
    },
    "tags": [
     "remove-input"
    ]
   },
   "outputs": [
    {
     "data": {
      "text/html": [
       "<style type=\"text/css\">\n",
       "#T_cc1d3 th {\n",
       "  text-align: left;\n",
       "}\n",
       "#T_cc1d3_row0_col0, #T_cc1d3_row0_col1, #T_cc1d3_row1_col0, #T_cc1d3_row1_col1, #T_cc1d3_row2_col0, #T_cc1d3_row2_col1, #T_cc1d3_row3_col0, #T_cc1d3_row3_col1, #T_cc1d3_row4_col0, #T_cc1d3_row4_col1 {\n",
       "  text-align: left;\n",
       "}\n",
       "</style>\n",
       "<table id=\"T_cc1d3\" style=\"font-size: 14px\">\n",
       "  <thead>\n",
       "    <tr>\n",
       "      <th id=\"T_cc1d3_level0_col0\" class=\"col_heading level0 col0\" >Version</th>\n",
       "      <th id=\"T_cc1d3_level0_col1\" class=\"col_heading level0 col1\" >1</th>\n",
       "    </tr>\n",
       "  </thead>\n",
       "  <tbody>\n",
       "    <tr>\n",
       "      <td id=\"T_cc1d3_row0_col0\" class=\"data row0 col0\" >Version Date</td>\n",
       "      <td id=\"T_cc1d3_row0_col1\" class=\"data row0 col1\" >01 Nov 2021</td>\n",
       "    </tr>\n",
       "    <tr>\n",
       "      <td id=\"T_cc1d3_row1_col0\" class=\"data row1 col0\" >Number of Variables</td>\n",
       "      <td id=\"T_cc1d3_row1_col1\" class=\"data row1 col1\" >74</td>\n",
       "    </tr>\n",
       "    <tr>\n",
       "      <td id=\"T_cc1d3_row2_col0\" class=\"data row2 col0\" >Number of Observations</td>\n",
       "      <td id=\"T_cc1d3_row2_col1\" class=\"data row2 col1\" >6985</td>\n",
       "    </tr>\n",
       "    <tr>\n",
       "      <td id=\"T_cc1d3_row3_col0\" class=\"data row3 col0\" >DOI</td>\n",
       "      <td id=\"T_cc1d3_row3_col1\" class=\"data row3 col1\" > <a href=\"https://doi.org/10.83126/ukllc-dataset-00141-01\" rel=\"noopener noreferrer\" target=\"_blank\">10.83126/ukllc-dataset-00141-01</a></td>\n",
       "    </tr>\n",
       "    <tr>\n",
       "      <td id=\"T_cc1d3_row4_col0\" class=\"data row4 col0\" >Change Log</td>\n",
       "      <td id=\"T_cc1d3_row4_col1\" class=\"data row4 col1\" > <a href=\"https://api.test.datacite.org/dois/10.83126/ukllc-dataset-00141-01/activities\" rel=\"noopener noreferrer\" target=\"_blank\">10.83126/ukllc-dataset-00141-01/activities</a></td>\n",
       "    </tr>\n",
       "  </tbody>\n",
       "</table>\n"
      ],
      "text/plain": [
       "<pandas.io.formats.style.Styler at 0x1c6181746e0>"
      ]
     },
     "execution_count": 4,
     "metadata": {},
     "output_type": "execute_result"
    }
   ],
   "source": [
    "ds.version_history()"
   ]
  },
  {
   "cell_type": "markdown",
   "id": "e8df6417",
   "metadata": {},
   "source": [
    "## 3. Documentation"
   ]
  },
  {
   "cell_type": "code",
   "execution_count": 5,
   "id": "dc7fd20c",
   "metadata": {
    "execution": {
     "iopub.execute_input": "2025-07-17T14:53:46.508584Z",
     "iopub.status.busy": "2025-07-17T14:53:46.506563Z",
     "iopub.status.idle": "2025-07-17T14:53:46.535012Z",
     "shell.execute_reply": "2025-07-17T14:53:46.529977Z"
    },
    "tags": [
     "remove-input"
    ]
   },
   "outputs": [
    {
     "data": {
      "text/markdown": [
       "We are currently building a documentation storage system which will host useful documents related to datasets and data owners. We will surface these documents on Guidebook."
      ],
      "text/plain": [
       "<IPython.core.display.Markdown object>"
      ]
     },
     "metadata": {},
     "output_type": "display_data"
    }
   ],
   "source": [
    "ds.documentation()"
   ]
  },
  {
   "cell_type": "markdown",
   "id": "f7c4bf7c",
   "metadata": {},
   "source": [
    "## 4. Useful Syntax"
   ]
  },
  {
   "cell_type": "code",
   "execution_count": 6,
   "id": "755f850b",
   "metadata": {
    "execution": {
     "iopub.execute_input": "2025-07-17T14:53:46.556278Z",
     "iopub.status.busy": "2025-07-17T14:53:46.554286Z",
     "iopub.status.idle": "2025-07-17T14:53:46.583937Z",
     "shell.execute_reply": "2025-07-17T14:53:46.578894Z"
    },
    "tags": [
     "remove-input"
    ]
   },
   "outputs": [
    {
     "data": {
      "text/markdown": [
       "Below we will include syntax that may be helpful to other researchers in the UK LLC TRE. For longer scripts, we will include a snippet of the code plus a link to Git where you can find the full scripts."
      ],
      "text/plain": [
       "<IPython.core.display.Markdown object>"
      ]
     },
     "metadata": {},
     "output_type": "display_data"
    }
   ],
   "source": [
    "ds.useful_syntax()"
   ]
  }
 ],
 "metadata": {
  "language_info": {
   "codemirror_mode": {
    "name": "ipython",
    "version": 3
   },
   "file_extension": ".py",
   "mimetype": "text/x-python",
   "name": "python",
   "nbconvert_exporter": "python",
   "pygments_lexer": "ipython3",
   "version": "3.12.7"
  }
 },
 "nbformat": 4,
 "nbformat_minor": 5
}
