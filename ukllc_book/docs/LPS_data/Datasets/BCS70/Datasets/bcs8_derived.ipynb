{
 "cells": [
  {
   "cell_type": "markdown",
   "id": "d715c504",
   "metadata": {},
   "source": [
    "# Age 38 Derived Variables (BCS70)"
   ]
  },
  {
   "cell_type": "code",
   "execution_count": 1,
   "id": "d18d22fb",
   "metadata": {
    "execution": {
     "iopub.execute_input": "2025-07-17T14:52:57.114408Z",
     "iopub.status.busy": "2025-07-17T14:52:57.113226Z",
     "iopub.status.idle": "2025-07-17T14:53:06.264357Z",
     "shell.execute_reply": "2025-07-17T14:53:06.261758Z"
    },
    "tags": [
     "remove-input"
    ]
   },
   "outputs": [
    {
     "data": {
      "text/markdown": [
       ">Last modified: 17 Jul 2025"
      ],
      "text/plain": [
       "<IPython.core.display.Markdown object>"
      ]
     },
     "metadata": {},
     "output_type": "display_data"
    }
   ],
   "source": [
    "\n",
    "import sys\n",
    "import os\n",
    "sys.path.append(os.path.abspath('../../../../scripts/'))\n",
    "from data_doc_helper import LPSDataSet as DS, last_modified\n",
    "API_KEY = os.environ['FASTAPI_KEY']\n",
    "ds = DS(\"BCS70\", \"bcs8_derived\")\n",
    "last_modified()\n"
   ]
  },
  {
   "cell_type": "markdown",
   "id": "a56e381f",
   "metadata": {},
   "source": [
    "## 1. Summary"
   ]
  },
  {
   "cell_type": "code",
   "execution_count": 2,
   "id": "91268c37",
   "metadata": {
    "execution": {
     "iopub.execute_input": "2025-07-17T14:53:06.273443Z",
     "iopub.status.busy": "2025-07-17T14:53:06.272439Z",
     "iopub.status.idle": "2025-07-17T14:53:06.286945Z",
     "shell.execute_reply": "2025-07-17T14:53:06.284685Z"
    },
    "tags": [
     "remove-input"
    ]
   },
   "outputs": [
    {
     "data": {
      "text/markdown": [
       "Derivations based on collected sweep 8 survey data including education, health, employment and financial"
      ],
      "text/plain": [
       "<IPython.core.display.Markdown object>"
      ]
     },
     "metadata": {},
     "output_type": "display_data"
    }
   ],
   "source": [
    "ds.summary()"
   ]
  },
  {
   "cell_type": "code",
   "execution_count": 3,
   "id": "05eefe22",
   "metadata": {
    "execution": {
     "iopub.execute_input": "2025-07-17T14:53:06.295647Z",
     "iopub.status.busy": "2025-07-17T14:53:06.294638Z",
     "iopub.status.idle": "2025-07-17T14:53:09.711609Z",
     "shell.execute_reply": "2025-07-17T14:53:09.706560Z"
    },
    "tags": [
     "remove-input"
    ]
   },
   "outputs": [
    {
     "data": {
      "text/html": [
       "<style type=\"text/css\">\n",
       "#T_97517 th {\n",
       "  text-align: left;\n",
       "}\n",
       "#T_97517_row0_col0, #T_97517_row0_col1, #T_97517_row1_col0, #T_97517_row1_col1, #T_97517_row2_col0, #T_97517_row2_col1, #T_97517_row3_col0, #T_97517_row3_col1, #T_97517_row4_col0, #T_97517_row4_col1, #T_97517_row5_col0, #T_97517_row5_col1, #T_97517_row6_col0, #T_97517_row6_col1, #T_97517_row7_col0, #T_97517_row7_col1, #T_97517_row8_col0, #T_97517_row8_col1, #T_97517_row9_col0, #T_97517_row9_col1, #T_97517_row10_col0, #T_97517_row10_col1, #T_97517_row11_col0, #T_97517_row11_col1, #T_97517_row12_col0, #T_97517_row12_col1 {\n",
       "  text-align: left;\n",
       "}\n",
       "</style>\n",
       "<table id=\"T_97517\" style=\"font-size: 14px\">\n",
       "  <thead>\n",
       "    <tr>\n",
       "      <th id=\"T_97517_level0_col0\" class=\"col_heading level0 col0\" >Dataset Descriptor</th>\n",
       "      <th id=\"T_97517_level0_col1\" class=\"col_heading level0 col1\" >Dataset-specific Information</th>\n",
       "    </tr>\n",
       "  </thead>\n",
       "  <tbody>\n",
       "    <tr>\n",
       "      <td id=\"T_97517_row0_col0\" class=\"data row0 col0\" >Name of Dataset in TRE</td>\n",
       "      <td id=\"T_97517_row0_col1\" class=\"data row0 col1\" >BCS70_bcs8_derived</td>\n",
       "    </tr>\n",
       "    <tr>\n",
       "      <td id=\"T_97517_row1_col0\" class=\"data row1 col0\" >Citation (APA)</td>\n",
       "      <td id=\"T_97517_row1_col1\" class=\"data row1 col1\" >University College London, UCL Social Research Institute, Centre for Longitudinal Studies. (2021). <i>1970 British Cohort Study (BCS70): Age 38 Derived Variables.</i> UK Longitudinal Linkage Collaboration (UK LLC).  <a href=\"https://doi.org/10.83126/ukllc-dataset-00139-01\" rel=\"noopener noreferrer\" target=\"_blank\">https://doi.org/10.83126/ukllc-dataset-00139-01</a></td>\n",
       "    </tr>\n",
       "    <tr>\n",
       "      <td id=\"T_97517_row2_col0\" class=\"data row2 col0\" >Download Citation</td>\n",
       "      <td id=\"T_97517_row2_col1\" class=\"data row2 col1\" > <a href=\"https://api.test.datacite.org/application/vnd.citationstyles.csl+json/10.83126/ukllc-dataset-00139-01\" rel=\"noopener noreferrer\" target=\"_blank\">Citeproc JSON</a>&nbsp;&nbsp;&nbsp;&nbsp; <a href=\"https://api.test.datacite.org/application/x-bibtex/10.83126/ukllc-dataset-00139-01\" rel=\"noopener noreferrer\" target=\"_blank\">BibTeX</a>&nbsp;&nbsp;&nbsp;&nbsp; <a href=\"https://api.test.datacite.org/application/x-research-info-systems/10.83126/ukllc-dataset-00139-01\" rel=\"noopener noreferrer\" target=\"_blank\">RIS</a></td>\n",
       "    </tr>\n",
       "    <tr>\n",
       "      <td id=\"T_97517_row3_col0\" class=\"data row3 col0\" >Series</td>\n",
       "      <td id=\"T_97517_row3_col1\" class=\"data row3 col1\" > <a href=\"https://guidebook.ukllc.ac.uk/docs/lps/lps%20profiles/BCS70\">1970 British Cohort Study (BCS70)</a></td>\n",
       "    </tr>\n",
       "    <tr>\n",
       "      <td id=\"T_97517_row4_col0\" class=\"data row4 col0\" >Owner</td>\n",
       "      <td id=\"T_97517_row4_col1\" class=\"data row4 col1\" >UCL</td>\n",
       "    </tr>\n",
       "    <tr>\n",
       "      <td id=\"T_97517_row5_col0\" class=\"data row5 col0\" >Temporal Coverage</td>\n",
       "      <td id=\"T_97517_row5_col1\" class=\"data row5 col1\" >04/2008 - 04/2009</td>\n",
       "    </tr>\n",
       "    <tr>\n",
       "      <td id=\"T_97517_row6_col0\" class=\"data row6 col0\" >Keywords</td>\n",
       "      <td id=\"T_97517_row6_col1\" class=\"data row6 col1\" >Health,Employment,Housing,Well-being,Family Life,Social mobility</td>\n",
       "    </tr>\n",
       "    <tr>\n",
       "      <td id=\"T_97517_row7_col0\" class=\"data row7 col0\" >Participants Invited</td>\n",
       "      <td id=\"T_97517_row7_col1\" class=\"data row7 col1\" >8874</td>\n",
       "    </tr>\n",
       "    <tr>\n",
       "      <td id=\"T_97517_row8_col0\" class=\"data row8 col0\" >Participant Count</td>\n",
       "      <td id=\"T_97517_row8_col1\" class=\"data row8 col1\" >6747</td>\n",
       "    </tr>\n",
       "    <tr>\n",
       "      <td id=\"T_97517_row9_col0\" class=\"data row9 col0\" >Number of variables</td>\n",
       "      <td id=\"T_97517_row9_col1\" class=\"data row9 col1\" >21</td>\n",
       "    </tr>\n",
       "    <tr>\n",
       "      <td id=\"T_97517_row10_col0\" class=\"data row10 col0\" >Number of observations</td>\n",
       "      <td id=\"T_97517_row10_col1\" class=\"data row10 col1\" >8874</td>\n",
       "    </tr>\n",
       "    <tr>\n",
       "      <td id=\"T_97517_row11_col0\" class=\"data row11 col0\" >Specific Restrictions to Data Use</td>\n",
       "      <td id=\"T_97517_row11_col1\" class=\"data row11 col1\" >None</td>\n",
       "    </tr>\n",
       "    <tr>\n",
       "      <td id=\"T_97517_row12_col0\" class=\"data row12 col0\" >Build a Data Request</td>\n",
       "      <td id=\"T_97517_row12_col1\" class=\"data row12 col1\" > <a href=\"https://explore.ukllc.ac.uk/\" rel=\"noopener noreferrer\" target=\"_blank\">https://explore.ukllc.ac.uk/</a></td>\n",
       "    </tr>\n",
       "  </tbody>\n",
       "</table>\n"
      ],
      "text/plain": [
       "<pandas.io.formats.style.Styler at 0x1f2906badb0>"
      ]
     },
     "execution_count": 3,
     "metadata": {},
     "output_type": "execute_result"
    }
   ],
   "source": [
    "ds.info_table()"
   ]
  },
  {
   "cell_type": "markdown",
   "id": "2f03f45e",
   "metadata": {},
   "source": [
    "## 2. Version History"
   ]
  },
  {
   "cell_type": "code",
   "execution_count": 4,
   "id": "a760e0ed",
   "metadata": {
    "execution": {
     "iopub.execute_input": "2025-07-17T14:53:09.733143Z",
     "iopub.status.busy": "2025-07-17T14:53:09.729157Z",
     "iopub.status.idle": "2025-07-17T14:53:12.889929Z",
     "shell.execute_reply": "2025-07-17T14:53:12.887912Z"
    },
    "tags": [
     "remove-input"
    ]
   },
   "outputs": [
    {
     "data": {
      "text/html": [
       "<style type=\"text/css\">\n",
       "#T_de89d th {\n",
       "  text-align: left;\n",
       "}\n",
       "#T_de89d_row0_col0, #T_de89d_row0_col1, #T_de89d_row1_col0, #T_de89d_row1_col1, #T_de89d_row2_col0, #T_de89d_row2_col1, #T_de89d_row3_col0, #T_de89d_row3_col1, #T_de89d_row4_col0, #T_de89d_row4_col1 {\n",
       "  text-align: left;\n",
       "}\n",
       "</style>\n",
       "<table id=\"T_de89d\" style=\"font-size: 14px\">\n",
       "  <thead>\n",
       "    <tr>\n",
       "      <th id=\"T_de89d_level0_col0\" class=\"col_heading level0 col0\" >Version</th>\n",
       "      <th id=\"T_de89d_level0_col1\" class=\"col_heading level0 col1\" >1</th>\n",
       "    </tr>\n",
       "  </thead>\n",
       "  <tbody>\n",
       "    <tr>\n",
       "      <td id=\"T_de89d_row0_col0\" class=\"data row0 col0\" >Version Date</td>\n",
       "      <td id=\"T_de89d_row0_col1\" class=\"data row0 col1\" >01 Nov 2021</td>\n",
       "    </tr>\n",
       "    <tr>\n",
       "      <td id=\"T_de89d_row1_col0\" class=\"data row1 col0\" >Number of Variables</td>\n",
       "      <td id=\"T_de89d_row1_col1\" class=\"data row1 col1\" >21</td>\n",
       "    </tr>\n",
       "    <tr>\n",
       "      <td id=\"T_de89d_row2_col0\" class=\"data row2 col0\" >Number of Observations</td>\n",
       "      <td id=\"T_de89d_row2_col1\" class=\"data row2 col1\" >8874</td>\n",
       "    </tr>\n",
       "    <tr>\n",
       "      <td id=\"T_de89d_row3_col0\" class=\"data row3 col0\" >DOI</td>\n",
       "      <td id=\"T_de89d_row3_col1\" class=\"data row3 col1\" > <a href=\"https://doi.org/10.83126/ukllc-dataset-00139-01\" rel=\"noopener noreferrer\" target=\"_blank\">10.83126/ukllc-dataset-00139-01</a></td>\n",
       "    </tr>\n",
       "    <tr>\n",
       "      <td id=\"T_de89d_row4_col0\" class=\"data row4 col0\" >Change Log</td>\n",
       "      <td id=\"T_de89d_row4_col1\" class=\"data row4 col1\" > <a href=\"https://api.test.datacite.org/dois/10.83126/ukllc-dataset-00139-01/activities\" rel=\"noopener noreferrer\" target=\"_blank\">10.83126/ukllc-dataset-00139-01/activities</a></td>\n",
       "    </tr>\n",
       "  </tbody>\n",
       "</table>\n"
      ],
      "text/plain": [
       "<pandas.io.formats.style.Styler at 0x1f2924abb30>"
      ]
     },
     "execution_count": 4,
     "metadata": {},
     "output_type": "execute_result"
    }
   ],
   "source": [
    "ds.version_history()"
   ]
  },
  {
   "cell_type": "markdown",
   "id": "38a9075e",
   "metadata": {},
   "source": [
    "## 3. Documentation"
   ]
  },
  {
   "cell_type": "code",
   "execution_count": 5,
   "id": "97564d47",
   "metadata": {
    "execution": {
     "iopub.execute_input": "2025-07-17T14:53:12.899952Z",
     "iopub.status.busy": "2025-07-17T14:53:12.898576Z",
     "iopub.status.idle": "2025-07-17T14:53:12.911030Z",
     "shell.execute_reply": "2025-07-17T14:53:12.909015Z"
    },
    "tags": [
     "remove-input"
    ]
   },
   "outputs": [
    {
     "data": {
      "text/markdown": [
       "We are currently building a documentation storage system which will host useful documents related to datasets and data owners. We will surface these documents on Guidebook."
      ],
      "text/plain": [
       "<IPython.core.display.Markdown object>"
      ]
     },
     "metadata": {},
     "output_type": "display_data"
    }
   ],
   "source": [
    "ds.documentation()"
   ]
  },
  {
   "cell_type": "markdown",
   "id": "002b60b9",
   "metadata": {},
   "source": [
    "## 4. Useful Syntax"
   ]
  },
  {
   "cell_type": "code",
   "execution_count": 6,
   "id": "584b89ae",
   "metadata": {
    "execution": {
     "iopub.execute_input": "2025-07-17T14:53:12.919613Z",
     "iopub.status.busy": "2025-07-17T14:53:12.918614Z",
     "iopub.status.idle": "2025-07-17T14:53:12.931566Z",
     "shell.execute_reply": "2025-07-17T14:53:12.929551Z"
    },
    "tags": [
     "remove-input"
    ]
   },
   "outputs": [
    {
     "data": {
      "text/markdown": [
       "Below we will include syntax that may be helpful to other researchers in the UK LLC TRE. For longer scripts, we will include a snippet of the code plus a link to Git where you can find the full scripts."
      ],
      "text/plain": [
       "<IPython.core.display.Markdown object>"
      ]
     },
     "metadata": {},
     "output_type": "display_data"
    }
   ],
   "source": [
    "ds.useful_syntax()"
   ]
  }
 ],
 "metadata": {
  "language_info": {
   "codemirror_mode": {
    "name": "ipython",
    "version": 3
   },
   "file_extension": ".py",
   "mimetype": "text/x-python",
   "name": "python",
   "nbconvert_exporter": "python",
   "pygments_lexer": "ipython3",
   "version": "3.12.7"
  }
 },
 "nbformat": 4,
 "nbformat_minor": 5
}
