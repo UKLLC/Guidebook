{
 "cells": [
  {
   "cell_type": "markdown",
   "id": "d715c504",
   "metadata": {},
   "source": [
    "# Age 38 Derived Variables (BCS70)"
   ]
  },
  {
   "cell_type": "code",
   "execution_count": 1,
   "id": "d18d22fb",
   "metadata": {
    "execution": {
     "iopub.execute_input": "2025-07-28T13:29:59.539971Z",
     "iopub.status.busy": "2025-07-28T13:29:59.538968Z",
     "iopub.status.idle": "2025-07-28T13:30:06.882567Z",
     "shell.execute_reply": "2025-07-28T13:30:06.881559Z"
    },
    "tags": [
     "remove-input"
    ]
   },
   "outputs": [
    {
     "data": {
      "text/markdown": [
       ">Last modified: 28 Jul 2025"
      ],
      "text/plain": [
       "<IPython.core.display.Markdown object>"
      ]
     },
     "metadata": {},
     "output_type": "display_data"
    }
   ],
   "source": [
    "\n",
    "import sys\n",
    "import os\n",
    "sys.path.append(os.path.abspath('../../../../scripts/'))\n",
    "from data_doc_helper import LPSDataSet as DS, last_modified\n",
    "API_KEY = os.environ['FASTAPI_KEY']\n",
    "ds = DS(\"BCS70\", \"bcs8_derived\")\n",
    "last_modified()\n"
   ]
  },
  {
   "cell_type": "markdown",
   "id": "a56e381f",
   "metadata": {},
   "source": [
    "## 1. Summary"
   ]
  },
  {
   "cell_type": "code",
   "execution_count": 2,
   "id": "91268c37",
   "metadata": {
    "execution": {
     "iopub.execute_input": "2025-07-28T13:30:06.885568Z",
     "iopub.status.busy": "2025-07-28T13:30:06.885568Z",
     "iopub.status.idle": "2025-07-28T13:30:06.889917Z",
     "shell.execute_reply": "2025-07-28T13:30:06.889566Z"
    },
    "tags": [
     "remove-input"
    ]
   },
   "outputs": [
    {
     "data": {
      "text/markdown": [
       "Derivations based on collected sweep 8 survey data including education, health, employment and financial"
      ],
      "text/plain": [
       "<IPython.core.display.Markdown object>"
      ]
     },
     "metadata": {},
     "output_type": "display_data"
    }
   ],
   "source": [
    "ds.summary()"
   ]
  },
  {
   "cell_type": "code",
   "execution_count": 3,
   "id": "05eefe22",
   "metadata": {
    "execution": {
     "iopub.execute_input": "2025-07-28T13:30:06.891923Z",
     "iopub.status.busy": "2025-07-28T13:30:06.890927Z",
     "iopub.status.idle": "2025-07-28T13:30:07.465109Z",
     "shell.execute_reply": "2025-07-28T13:30:07.465109Z"
    },
    "tags": [
     "remove-input"
    ]
   },
   "outputs": [
    {
     "data": {
      "text/html": [
       "<style type=\"text/css\">\n",
       "#T_e586b th {\n",
       "  text-align: left;\n",
       "}\n",
       "#T_e586b_row0_col0, #T_e586b_row0_col1, #T_e586b_row1_col0, #T_e586b_row1_col1, #T_e586b_row2_col0, #T_e586b_row2_col1, #T_e586b_row3_col0, #T_e586b_row3_col1, #T_e586b_row4_col0, #T_e586b_row4_col1, #T_e586b_row5_col0, #T_e586b_row5_col1, #T_e586b_row6_col0, #T_e586b_row6_col1, #T_e586b_row7_col0, #T_e586b_row7_col1, #T_e586b_row8_col0, #T_e586b_row8_col1, #T_e586b_row9_col0, #T_e586b_row9_col1, #T_e586b_row10_col0, #T_e586b_row10_col1, #T_e586b_row11_col0, #T_e586b_row11_col1, #T_e586b_row12_col0, #T_e586b_row12_col1 {\n",
       "  text-align: left;\n",
       "}\n",
       "</style>\n",
       "<table id=\"T_e586b\" style=\"font-size: 14px\">\n",
       "  <thead>\n",
       "    <tr>\n",
       "      <th id=\"T_e586b_level0_col0\" class=\"col_heading level0 col0\" >Dataset Descriptor</th>\n",
       "      <th id=\"T_e586b_level0_col1\" class=\"col_heading level0 col1\" >Dataset-specific Information</th>\n",
       "    </tr>\n",
       "  </thead>\n",
       "  <tbody>\n",
       "    <tr>\n",
       "      <td id=\"T_e586b_row0_col0\" class=\"data row0 col0\" >Name of Dataset in TRE</td>\n",
       "      <td id=\"T_e586b_row0_col1\" class=\"data row0 col1\" >BCS70_bcs8_derived</td>\n",
       "    </tr>\n",
       "    <tr>\n",
       "      <td id=\"T_e586b_row1_col0\" class=\"data row1 col0\" >Citation (APA)</td>\n",
       "      <td id=\"T_e586b_row1_col1\" class=\"data row1 col1\" >University College London, UCL Social Research Institute, Centre for Longitudinal Studies. (2021). <i>1970 British Cohort Study (BCS70): Age 38 Derived Variables.</i> UK Longitudinal Linkage Collaboration (UK LLC).  <a href=\"https://doi.org/10.71760/ukllc-dataset-00058-01\" rel=\"noopener noreferrer\" target=\"_blank\">https://doi.org/10.71760/ukllc-dataset-00058-01</a></td>\n",
       "    </tr>\n",
       "    <tr>\n",
       "      <td id=\"T_e586b_row2_col0\" class=\"data row2 col0\" >Download Citation</td>\n",
       "      <td id=\"T_e586b_row2_col1\" class=\"data row2 col1\" > <a href=\"https://api.datacite.org/application/vnd.citationstyles.csl+json/10.71760/ukllc-dataset-00058-01\" rel=\"noopener noreferrer\" target=\"_blank\">Citeproc JSON</a>&nbsp;&nbsp;&nbsp;&nbsp; <a href=\"https://api.datacite.org/application/x-bibtex/10.71760/ukllc-dataset-00058-01\" rel=\"noopener noreferrer\" target=\"_blank\">BibTeX</a>&nbsp;&nbsp;&nbsp;&nbsp; <a href=\"https://api.datacite.org/application/x-research-info-systems/10.71760/ukllc-dataset-00058-01\" rel=\"noopener noreferrer\" target=\"_blank\">RIS</a></td>\n",
       "    </tr>\n",
       "    <tr>\n",
       "      <td id=\"T_e586b_row3_col0\" class=\"data row3 col0\" >Series</td>\n",
       "      <td id=\"T_e586b_row3_col1\" class=\"data row3 col1\" > <a href=\"https://guidebook.ukllc.ac.uk/docs/lps_data/lps%20profiles/BCS70\">1970 British Cohort Study (BCS70)</a></td>\n",
       "    </tr>\n",
       "    <tr>\n",
       "      <td id=\"T_e586b_row4_col0\" class=\"data row4 col0\" >Owner</td>\n",
       "      <td id=\"T_e586b_row4_col1\" class=\"data row4 col1\" >UCL</td>\n",
       "    </tr>\n",
       "    <tr>\n",
       "      <td id=\"T_e586b_row5_col0\" class=\"data row5 col0\" >Temporal Coverage</td>\n",
       "      <td id=\"T_e586b_row5_col1\" class=\"data row5 col1\" >04/2008 - 04/2009</td>\n",
       "    </tr>\n",
       "    <tr>\n",
       "      <td id=\"T_e586b_row6_col0\" class=\"data row6 col0\" >Keywords</td>\n",
       "      <td id=\"T_e586b_row6_col1\" class=\"data row6 col1\" >Health,Employment,Housing,Well-being,Family Life,Social mobility</td>\n",
       "    </tr>\n",
       "    <tr>\n",
       "      <td id=\"T_e586b_row7_col0\" class=\"data row7 col0\" >Participants Invited</td>\n",
       "      <td id=\"T_e586b_row7_col1\" class=\"data row7 col1\" >8874</td>\n",
       "    </tr>\n",
       "    <tr>\n",
       "      <td id=\"T_e586b_row8_col0\" class=\"data row8 col0\" >Participant Count</td>\n",
       "      <td id=\"T_e586b_row8_col1\" class=\"data row8 col1\" >6747</td>\n",
       "    </tr>\n",
       "    <tr>\n",
       "      <td id=\"T_e586b_row9_col0\" class=\"data row9 col0\" >Number of variables</td>\n",
       "      <td id=\"T_e586b_row9_col1\" class=\"data row9 col1\" >21</td>\n",
       "    </tr>\n",
       "    <tr>\n",
       "      <td id=\"T_e586b_row10_col0\" class=\"data row10 col0\" >Number of observations</td>\n",
       "      <td id=\"T_e586b_row10_col1\" class=\"data row10 col1\" >8874</td>\n",
       "    </tr>\n",
       "    <tr>\n",
       "      <td id=\"T_e586b_row11_col0\" class=\"data row11 col0\" >Specific Restrictions to Data Use</td>\n",
       "      <td id=\"T_e586b_row11_col1\" class=\"data row11 col1\" >None</td>\n",
       "    </tr>\n",
       "    <tr>\n",
       "      <td id=\"T_e586b_row12_col0\" class=\"data row12 col0\" >Build a Data Request</td>\n",
       "      <td id=\"T_e586b_row12_col1\" class=\"data row12 col1\" > <a href=\"https://explore.ukllc.ac.uk/\" rel=\"noopener noreferrer\" target=\"_blank\">https://explore.ukllc.ac.uk/</a></td>\n",
       "    </tr>\n",
       "  </tbody>\n",
       "</table>\n"
      ],
      "text/plain": [
       "<pandas.io.formats.style.Styler at 0x2b5b668b0e0>"
      ]
     },
     "execution_count": 3,
     "metadata": {},
     "output_type": "execute_result"
    }
   ],
   "source": [
    "ds.info_table()"
   ]
  },
  {
   "cell_type": "markdown",
   "id": "2f03f45e",
   "metadata": {},
   "source": [
    "## 2. Version History"
   ]
  },
  {
   "cell_type": "code",
   "execution_count": 4,
   "id": "a760e0ed",
   "metadata": {
    "execution": {
     "iopub.execute_input": "2025-07-28T13:30:07.468119Z",
     "iopub.status.busy": "2025-07-28T13:30:07.467119Z",
     "iopub.status.idle": "2025-07-28T13:30:10.631077Z",
     "shell.execute_reply": "2025-07-28T13:30:10.631077Z"
    },
    "tags": [
     "remove-input"
    ]
   },
   "outputs": [
    {
     "data": {
      "text/html": [
       "<style type=\"text/css\">\n",
       "#T_f9b70 th {\n",
       "  text-align: left;\n",
       "}\n",
       "#T_f9b70_row0_col0, #T_f9b70_row0_col1, #T_f9b70_row1_col0, #T_f9b70_row1_col1, #T_f9b70_row2_col0, #T_f9b70_row2_col1, #T_f9b70_row3_col0, #T_f9b70_row3_col1, #T_f9b70_row4_col0, #T_f9b70_row4_col1 {\n",
       "  text-align: left;\n",
       "}\n",
       "</style>\n",
       "<table id=\"T_f9b70\" style=\"font-size: 14px\">\n",
       "  <thead>\n",
       "    <tr>\n",
       "      <th id=\"T_f9b70_level0_col0\" class=\"col_heading level0 col0\" >Version</th>\n",
       "      <th id=\"T_f9b70_level0_col1\" class=\"col_heading level0 col1\" >1</th>\n",
       "    </tr>\n",
       "  </thead>\n",
       "  <tbody>\n",
       "    <tr>\n",
       "      <td id=\"T_f9b70_row0_col0\" class=\"data row0 col0\" >Version Date</td>\n",
       "      <td id=\"T_f9b70_row0_col1\" class=\"data row0 col1\" >01 Nov 2021</td>\n",
       "    </tr>\n",
       "    <tr>\n",
       "      <td id=\"T_f9b70_row1_col0\" class=\"data row1 col0\" >Number of Variables</td>\n",
       "      <td id=\"T_f9b70_row1_col1\" class=\"data row1 col1\" >21</td>\n",
       "    </tr>\n",
       "    <tr>\n",
       "      <td id=\"T_f9b70_row2_col0\" class=\"data row2 col0\" >Number of Observations</td>\n",
       "      <td id=\"T_f9b70_row2_col1\" class=\"data row2 col1\" >8874</td>\n",
       "    </tr>\n",
       "    <tr>\n",
       "      <td id=\"T_f9b70_row3_col0\" class=\"data row3 col0\" >DOI</td>\n",
       "      <td id=\"T_f9b70_row3_col1\" class=\"data row3 col1\" > <a href=\"https://doi.org/10.71760/ukllc-dataset-00058-01\" rel=\"noopener noreferrer\" target=\"_blank\">10.71760/ukllc-dataset-00058-01</a></td>\n",
       "    </tr>\n",
       "    <tr>\n",
       "      <td id=\"T_f9b70_row4_col0\" class=\"data row4 col0\" >Change Log</td>\n",
       "      <td id=\"T_f9b70_row4_col1\" class=\"data row4 col1\" > <a href=\"https://api.test.datacite.org/dois/10.71760/ukllc-dataset-00058-01/activities\" rel=\"noopener noreferrer\" target=\"_blank\">10.71760/ukllc-dataset-00058-01/activities</a></td>\n",
       "    </tr>\n",
       "  </tbody>\n",
       "</table>\n"
      ],
      "text/plain": [
       "<pandas.io.formats.style.Styler at 0x2b5b66f5a90>"
      ]
     },
     "execution_count": 4,
     "metadata": {},
     "output_type": "execute_result"
    }
   ],
   "source": [
    "ds.version_history()"
   ]
  },
  {
   "cell_type": "markdown",
   "id": "38a9075e",
   "metadata": {},
   "source": [
    "## 3. Documentation"
   ]
  },
  {
   "cell_type": "code",
   "execution_count": 5,
   "id": "97564d47",
   "metadata": {
    "execution": {
     "iopub.execute_input": "2025-07-28T13:30:10.636447Z",
     "iopub.status.busy": "2025-07-28T13:30:10.635452Z",
     "iopub.status.idle": "2025-07-28T13:30:10.640451Z",
     "shell.execute_reply": "2025-07-28T13:30:10.640451Z"
    },
    "tags": [
     "remove-input"
    ]
   },
   "outputs": [
    {
     "data": {
      "text/markdown": [
       "We are currently building a documentation storage system which will host useful documents related to datasets and data owners. We will surface these documents on Guidebook."
      ],
      "text/plain": [
       "<IPython.core.display.Markdown object>"
      ]
     },
     "metadata": {},
     "output_type": "display_data"
    }
   ],
   "source": [
    "ds.documentation()"
   ]
  },
  {
   "cell_type": "markdown",
   "id": "002b60b9",
   "metadata": {},
   "source": [
    "## 4. Useful Syntax"
   ]
  },
  {
   "cell_type": "code",
   "execution_count": 6,
   "id": "584b89ae",
   "metadata": {
    "execution": {
     "iopub.execute_input": "2025-07-28T13:30:10.642696Z",
     "iopub.status.busy": "2025-07-28T13:30:10.642696Z",
     "iopub.status.idle": "2025-07-28T13:30:10.645695Z",
     "shell.execute_reply": "2025-07-28T13:30:10.645695Z"
    },
    "tags": [
     "remove-input"
    ]
   },
   "outputs": [
    {
     "data": {
      "text/markdown": [
       "Below we will include syntax that may be helpful to other researchers in the UK LLC TRE. For longer scripts, we will include a snippet of the code plus a link to Git where you can find the full scripts."
      ],
      "text/plain": [
       "<IPython.core.display.Markdown object>"
      ]
     },
     "metadata": {},
     "output_type": "display_data"
    }
   ],
   "source": [
    "ds.useful_syntax()"
   ]
  }
 ],
 "metadata": {
  "kernelspec": {
   "display_name": "jupbook",
   "language": "python",
   "name": "python3"
  },
  "language_info": {
   "codemirror_mode": {
    "name": "ipython",
    "version": 3
   },
   "file_extension": ".py",
   "mimetype": "text/x-python",
   "name": "python",
   "nbconvert_exporter": "python",
   "pygments_lexer": "ipython3",
   "version": "3.13.2"
  }
 },
 "nbformat": 4,
 "nbformat_minor": 5
}
