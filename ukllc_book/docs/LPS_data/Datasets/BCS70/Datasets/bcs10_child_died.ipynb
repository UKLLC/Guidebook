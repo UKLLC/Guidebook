{
 "cells": [
  {
   "cell_type": "markdown",
   "id": "73465f0a",
   "metadata": {},
   "source": [
    "# Age 46 Child Died (BCS70)"
   ]
  },
  {
   "cell_type": "code",
   "execution_count": 1,
   "id": "ff0759d2",
   "metadata": {
    "execution": {
     "iopub.execute_input": "2025-07-17T14:43:15.630086Z",
     "iopub.status.busy": "2025-07-17T14:43:15.630086Z",
     "iopub.status.idle": "2025-07-17T14:43:23.490668Z",
     "shell.execute_reply": "2025-07-17T14:43:23.489653Z"
    },
    "tags": [
     "remove-input"
    ]
   },
   "outputs": [
    {
     "data": {
      "text/markdown": [
       ">Last modified: 17 Jul 2025"
      ],
      "text/plain": [
       "<IPython.core.display.Markdown object>"
      ]
     },
     "metadata": {},
     "output_type": "display_data"
    }
   ],
   "source": [
    "\n",
    "import sys\n",
    "import os\n",
    "sys.path.append(os.path.abspath('../../../../scripts/'))\n",
    "from data_doc_helper import LPSDataSet as DS, last_modified\n",
    "API_KEY = os.environ['FASTAPI_KEY']\n",
    "ds = DS(\"BCS70\", \"bcs10_child_died\")\n",
    "last_modified()\n"
   ]
  },
  {
   "cell_type": "markdown",
   "id": "f31984a3",
   "metadata": {},
   "source": [
    "## 1. Summary"
   ]
  },
  {
   "cell_type": "code",
   "execution_count": 2,
   "id": "a2e7f090",
   "metadata": {
    "execution": {
     "iopub.execute_input": "2025-07-17T14:43:23.498681Z",
     "iopub.status.busy": "2025-07-17T14:43:23.497667Z",
     "iopub.status.idle": "2025-07-17T14:43:23.506639Z",
     "shell.execute_reply": "2025-07-17T14:43:23.506120Z"
    },
    "tags": [
     "remove-input"
    ]
   },
   "outputs": [
    {
     "data": {
      "text/markdown": [
       "Details of any children of the respondent, born alive but since died and not already recorded in the person grids"
      ],
      "text/plain": [
       "<IPython.core.display.Markdown object>"
      ]
     },
     "metadata": {},
     "output_type": "display_data"
    }
   ],
   "source": [
    "ds.summary()"
   ]
  },
  {
   "cell_type": "code",
   "execution_count": 3,
   "id": "4915ff46",
   "metadata": {
    "execution": {
     "iopub.execute_input": "2025-07-17T14:43:23.513174Z",
     "iopub.status.busy": "2025-07-17T14:43:23.513174Z",
     "iopub.status.idle": "2025-07-17T14:43:24.455642Z",
     "shell.execute_reply": "2025-07-17T14:43:24.454111Z"
    },
    "tags": [
     "remove-input"
    ]
   },
   "outputs": [
    {
     "data": {
      "text/html": [
       "<style type=\"text/css\">\n",
       "#T_86f9e th {\n",
       "  text-align: left;\n",
       "}\n",
       "#T_86f9e_row0_col0, #T_86f9e_row0_col1, #T_86f9e_row1_col0, #T_86f9e_row1_col1, #T_86f9e_row2_col0, #T_86f9e_row2_col1, #T_86f9e_row3_col0, #T_86f9e_row3_col1, #T_86f9e_row4_col0, #T_86f9e_row4_col1, #T_86f9e_row5_col0, #T_86f9e_row5_col1, #T_86f9e_row6_col0, #T_86f9e_row6_col1, #T_86f9e_row7_col0, #T_86f9e_row7_col1, #T_86f9e_row8_col0, #T_86f9e_row8_col1, #T_86f9e_row9_col0, #T_86f9e_row9_col1, #T_86f9e_row10_col0, #T_86f9e_row10_col1, #T_86f9e_row11_col0, #T_86f9e_row11_col1, #T_86f9e_row12_col0, #T_86f9e_row12_col1 {\n",
       "  text-align: left;\n",
       "}\n",
       "</style>\n",
       "<table id=\"T_86f9e\" style=\"font-size: 14px\">\n",
       "  <thead>\n",
       "    <tr>\n",
       "      <th id=\"T_86f9e_level0_col0\" class=\"col_heading level0 col0\" >Dataset Descriptor</th>\n",
       "      <th id=\"T_86f9e_level0_col1\" class=\"col_heading level0 col1\" >Dataset-specific Information</th>\n",
       "    </tr>\n",
       "  </thead>\n",
       "  <tbody>\n",
       "    <tr>\n",
       "      <td id=\"T_86f9e_row0_col0\" class=\"data row0 col0\" >Name of Dataset in TRE</td>\n",
       "      <td id=\"T_86f9e_row0_col1\" class=\"data row0 col1\" >BCS70_bcs10_child_died</td>\n",
       "    </tr>\n",
       "    <tr>\n",
       "      <td id=\"T_86f9e_row1_col0\" class=\"data row1 col0\" >Citation (APA)</td>\n",
       "      <td id=\"T_86f9e_row1_col1\" class=\"data row1 col1\" >University College London, UCL Social Research Institute, Centre for Longitudinal Studies. (2021). <i>1970 British Cohort Study (BCS70): Age 46 Child Died.</i> UK Longitudinal Linkage Collaboration (UK LLC).  <a href=\"https://doi.org/10.83126/ukllc-dataset-00105-01\" rel=\"noopener noreferrer\" target=\"_blank\">https://doi.org/10.83126/ukllc-dataset-00105-01</a></td>\n",
       "    </tr>\n",
       "    <tr>\n",
       "      <td id=\"T_86f9e_row2_col0\" class=\"data row2 col0\" >Download Citation</td>\n",
       "      <td id=\"T_86f9e_row2_col1\" class=\"data row2 col1\" > <a href=\"https://api.test.datacite.org/application/vnd.citationstyles.csl+json/10.83126/ukllc-dataset-00105-01\" rel=\"noopener noreferrer\" target=\"_blank\">Citeproc JSON</a>&nbsp;&nbsp;&nbsp;&nbsp; <a href=\"https://api.test.datacite.org/application/x-bibtex/10.83126/ukllc-dataset-00105-01\" rel=\"noopener noreferrer\" target=\"_blank\">BibTeX</a>&nbsp;&nbsp;&nbsp;&nbsp; <a href=\"https://api.test.datacite.org/application/x-research-info-systems/10.83126/ukllc-dataset-00105-01\" rel=\"noopener noreferrer\" target=\"_blank\">RIS</a></td>\n",
       "    </tr>\n",
       "    <tr>\n",
       "      <td id=\"T_86f9e_row3_col0\" class=\"data row3 col0\" >Series</td>\n",
       "      <td id=\"T_86f9e_row3_col1\" class=\"data row3 col1\" > <a href=\"https://guidebook.ukllc.ac.uk/docs/lps/lps%20profiles/BCS70\">1970 British Cohort Study (BCS70)</a></td>\n",
       "    </tr>\n",
       "    <tr>\n",
       "      <td id=\"T_86f9e_row4_col0\" class=\"data row4 col0\" >Owner</td>\n",
       "      <td id=\"T_86f9e_row4_col1\" class=\"data row4 col1\" >UCL</td>\n",
       "    </tr>\n",
       "    <tr>\n",
       "      <td id=\"T_86f9e_row5_col0\" class=\"data row5 col0\" >Temporal Coverage</td>\n",
       "      <td id=\"T_86f9e_row5_col1\" class=\"data row5 col1\" >04/2016 - 04/2017</td>\n",
       "    </tr>\n",
       "    <tr>\n",
       "      <td id=\"T_86f9e_row6_col0\" class=\"data row6 col0\" >Keywords</td>\n",
       "      <td id=\"T_86f9e_row6_col1\" class=\"data row6 col1\" >Children,Mortality,Date,Relationship</td>\n",
       "    </tr>\n",
       "    <tr>\n",
       "      <td id=\"T_86f9e_row7_col0\" class=\"data row7 col0\" >Participants Invited</td>\n",
       "      <td id=\"T_86f9e_row7_col1\" class=\"data row7 col1\" >8581</td>\n",
       "    </tr>\n",
       "    <tr>\n",
       "      <td id=\"T_86f9e_row8_col0\" class=\"data row8 col0\" >Participant Count</td>\n",
       "      <td id=\"T_86f9e_row8_col1\" class=\"data row8 col1\" >12</td>\n",
       "    </tr>\n",
       "    <tr>\n",
       "      <td id=\"T_86f9e_row9_col0\" class=\"data row9 col0\" >Number of variables</td>\n",
       "      <td id=\"T_86f9e_row9_col1\" class=\"data row9 col1\" >10</td>\n",
       "    </tr>\n",
       "    <tr>\n",
       "      <td id=\"T_86f9e_row10_col0\" class=\"data row10 col0\" >Number of observations</td>\n",
       "      <td id=\"T_86f9e_row10_col1\" class=\"data row10 col1\" >24</td>\n",
       "    </tr>\n",
       "    <tr>\n",
       "      <td id=\"T_86f9e_row11_col0\" class=\"data row11 col0\" >Specific Restrictions to Data Use</td>\n",
       "      <td id=\"T_86f9e_row11_col1\" class=\"data row11 col1\" >None</td>\n",
       "    </tr>\n",
       "    <tr>\n",
       "      <td id=\"T_86f9e_row12_col0\" class=\"data row12 col0\" >Build a Data Request</td>\n",
       "      <td id=\"T_86f9e_row12_col1\" class=\"data row12 col1\" > <a href=\"https://explore.ukllc.ac.uk/\" rel=\"noopener noreferrer\" target=\"_blank\">https://explore.ukllc.ac.uk/</a></td>\n",
       "    </tr>\n",
       "  </tbody>\n",
       "</table>\n"
      ],
      "text/plain": [
       "<pandas.io.formats.style.Styler at 0x20da34d8740>"
      ]
     },
     "execution_count": 3,
     "metadata": {},
     "output_type": "execute_result"
    }
   ],
   "source": [
    "ds.info_table()"
   ]
  },
  {
   "cell_type": "markdown",
   "id": "3ba752af",
   "metadata": {},
   "source": [
    "## 2. Version History"
   ]
  },
  {
   "cell_type": "code",
   "execution_count": 4,
   "id": "4ce740a1",
   "metadata": {
    "execution": {
     "iopub.execute_input": "2025-07-17T14:43:24.460644Z",
     "iopub.status.busy": "2025-07-17T14:43:24.459646Z",
     "iopub.status.idle": "2025-07-17T14:43:26.783738Z",
     "shell.execute_reply": "2025-07-17T14:43:26.782721Z"
    },
    "tags": [
     "remove-input"
    ]
   },
   "outputs": [
    {
     "data": {
      "text/html": [
       "<style type=\"text/css\">\n",
       "#T_9f7c1 th {\n",
       "  text-align: left;\n",
       "}\n",
       "#T_9f7c1_row0_col0, #T_9f7c1_row0_col1, #T_9f7c1_row1_col0, #T_9f7c1_row1_col1, #T_9f7c1_row2_col0, #T_9f7c1_row2_col1, #T_9f7c1_row3_col0, #T_9f7c1_row3_col1, #T_9f7c1_row4_col0, #T_9f7c1_row4_col1 {\n",
       "  text-align: left;\n",
       "}\n",
       "</style>\n",
       "<table id=\"T_9f7c1\" style=\"font-size: 14px\">\n",
       "  <thead>\n",
       "    <tr>\n",
       "      <th id=\"T_9f7c1_level0_col0\" class=\"col_heading level0 col0\" >Version</th>\n",
       "      <th id=\"T_9f7c1_level0_col1\" class=\"col_heading level0 col1\" >1</th>\n",
       "    </tr>\n",
       "  </thead>\n",
       "  <tbody>\n",
       "    <tr>\n",
       "      <td id=\"T_9f7c1_row0_col0\" class=\"data row0 col0\" >Version Date</td>\n",
       "      <td id=\"T_9f7c1_row0_col1\" class=\"data row0 col1\" >01 Nov 2021</td>\n",
       "    </tr>\n",
       "    <tr>\n",
       "      <td id=\"T_9f7c1_row1_col0\" class=\"data row1 col0\" >Number of Variables</td>\n",
       "      <td id=\"T_9f7c1_row1_col1\" class=\"data row1 col1\" >10</td>\n",
       "    </tr>\n",
       "    <tr>\n",
       "      <td id=\"T_9f7c1_row2_col0\" class=\"data row2 col0\" >Number of Observations</td>\n",
       "      <td id=\"T_9f7c1_row2_col1\" class=\"data row2 col1\" >24</td>\n",
       "    </tr>\n",
       "    <tr>\n",
       "      <td id=\"T_9f7c1_row3_col0\" class=\"data row3 col0\" >DOI</td>\n",
       "      <td id=\"T_9f7c1_row3_col1\" class=\"data row3 col1\" > <a href=\"https://doi.org/10.83126/ukllc-dataset-00105-01\" rel=\"noopener noreferrer\" target=\"_blank\">10.83126/ukllc-dataset-00105-01</a></td>\n",
       "    </tr>\n",
       "    <tr>\n",
       "      <td id=\"T_9f7c1_row4_col0\" class=\"data row4 col0\" >Change Log</td>\n",
       "      <td id=\"T_9f7c1_row4_col1\" class=\"data row4 col1\" > <a href=\"https://api.test.datacite.org/dois/10.83126/ukllc-dataset-00105-01/activities\" rel=\"noopener noreferrer\" target=\"_blank\">10.83126/ukllc-dataset-00105-01/activities</a></td>\n",
       "    </tr>\n",
       "  </tbody>\n",
       "</table>\n"
      ],
      "text/plain": [
       "<pandas.io.formats.style.Styler at 0x20da4e5a9f0>"
      ]
     },
     "execution_count": 4,
     "metadata": {},
     "output_type": "execute_result"
    }
   ],
   "source": [
    "ds.version_history()"
   ]
  },
  {
   "cell_type": "markdown",
   "id": "fa7a0206",
   "metadata": {},
   "source": [
    "## 3. Documentation"
   ]
  },
  {
   "cell_type": "code",
   "execution_count": 5,
   "id": "f4fad33c",
   "metadata": {
    "execution": {
     "iopub.execute_input": "2025-07-17T14:43:26.790283Z",
     "iopub.status.busy": "2025-07-17T14:43:26.790283Z",
     "iopub.status.idle": "2025-07-17T14:43:26.797921Z",
     "shell.execute_reply": "2025-07-17T14:43:26.796908Z"
    },
    "tags": [
     "remove-input"
    ]
   },
   "outputs": [
    {
     "data": {
      "text/markdown": [
       "We are currently building a documentation storage system which will host useful documents related to datasets and data owners. We will surface these documents on Guidebook."
      ],
      "text/plain": [
       "<IPython.core.display.Markdown object>"
      ]
     },
     "metadata": {},
     "output_type": "display_data"
    }
   ],
   "source": [
    "ds.documentation()"
   ]
  },
  {
   "cell_type": "markdown",
   "id": "942eb739",
   "metadata": {},
   "source": [
    "## 4. Useful Syntax"
   ]
  },
  {
   "cell_type": "code",
   "execution_count": 6,
   "id": "d2b90568",
   "metadata": {
    "execution": {
     "iopub.execute_input": "2025-07-17T14:43:26.802639Z",
     "iopub.status.busy": "2025-07-17T14:43:26.802639Z",
     "iopub.status.idle": "2025-07-17T14:43:26.808620Z",
     "shell.execute_reply": "2025-07-17T14:43:26.807563Z"
    },
    "tags": [
     "remove-input"
    ]
   },
   "outputs": [
    {
     "data": {
      "text/markdown": [
       "Below we will include syntax that may be helpful to other researchers in the UK LLC TRE. For longer scripts, we will include a snippet of the code plus a link to Git where you can find the full scripts."
      ],
      "text/plain": [
       "<IPython.core.display.Markdown object>"
      ]
     },
     "metadata": {},
     "output_type": "display_data"
    }
   ],
   "source": [
    "ds.useful_syntax()"
   ]
  }
 ],
 "metadata": {
  "language_info": {
   "codemirror_mode": {
    "name": "ipython",
    "version": 3
   },
   "file_extension": ".py",
   "mimetype": "text/x-python",
   "name": "python",
   "nbconvert_exporter": "python",
   "pygments_lexer": "ipython3",
   "version": "3.12.7"
  }
 },
 "nbformat": 4,
 "nbformat_minor": 5
}
