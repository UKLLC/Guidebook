{
 "cells": [
  {
   "cell_type": "markdown",
   "id": "14639834",
   "metadata": {},
   "source": [
    "# Age 42 Child Died (BCS70)"
   ]
  },
  {
   "cell_type": "code",
   "execution_count": 1,
   "id": "e0a12f2f",
   "metadata": {
    "execution": {
     "iopub.execute_input": "2025-07-17T14:53:51.762191Z",
     "iopub.status.busy": "2025-07-17T14:53:51.762191Z",
     "iopub.status.idle": "2025-07-17T14:54:00.201009Z",
     "shell.execute_reply": "2025-07-17T14:54:00.198999Z"
    },
    "tags": [
     "remove-input"
    ]
   },
   "outputs": [
    {
     "data": {
      "text/markdown": [
       ">Last modified: 17 Jul 2025"
      ],
      "text/plain": [
       "<IPython.core.display.Markdown object>"
      ]
     },
     "metadata": {},
     "output_type": "display_data"
    }
   ],
   "source": [
    "\n",
    "import sys\n",
    "import os\n",
    "sys.path.append(os.path.abspath('../../../../scripts/'))\n",
    "from data_doc_helper import LPSDataSet as DS, last_modified\n",
    "API_KEY = os.environ['FASTAPI_KEY']\n",
    "ds = DS(\"BCS70\", \"bcs9_child_died\")\n",
    "last_modified()\n"
   ]
  },
  {
   "cell_type": "markdown",
   "id": "42a0c2bb",
   "metadata": {},
   "source": [
    "## 1. Summary"
   ]
  },
  {
   "cell_type": "code",
   "execution_count": 2,
   "id": "dea75baa",
   "metadata": {
    "execution": {
     "iopub.execute_input": "2025-07-17T14:54:00.208461Z",
     "iopub.status.busy": "2025-07-17T14:54:00.207461Z",
     "iopub.status.idle": "2025-07-17T14:54:00.226316Z",
     "shell.execute_reply": "2025-07-17T14:54:00.223308Z"
    },
    "tags": [
     "remove-input"
    ]
   },
   "outputs": [
    {
     "data": {
      "text/markdown": [
       "Details of any children of the respondent, born alive but since died and not already recorded in the person grids"
      ],
      "text/plain": [
       "<IPython.core.display.Markdown object>"
      ]
     },
     "metadata": {},
     "output_type": "display_data"
    }
   ],
   "source": [
    "ds.summary()"
   ]
  },
  {
   "cell_type": "code",
   "execution_count": 3,
   "id": "232aa857",
   "metadata": {
    "execution": {
     "iopub.execute_input": "2025-07-17T14:54:00.236315Z",
     "iopub.status.busy": "2025-07-17T14:54:00.235314Z",
     "iopub.status.idle": "2025-07-17T14:54:02.050209Z",
     "shell.execute_reply": "2025-07-17T14:54:02.048672Z"
    },
    "tags": [
     "remove-input"
    ]
   },
   "outputs": [
    {
     "data": {
      "text/html": [
       "<style type=\"text/css\">\n",
       "#T_f2e9d th {\n",
       "  text-align: left;\n",
       "}\n",
       "#T_f2e9d_row0_col0, #T_f2e9d_row0_col1, #T_f2e9d_row1_col0, #T_f2e9d_row1_col1, #T_f2e9d_row2_col0, #T_f2e9d_row2_col1, #T_f2e9d_row3_col0, #T_f2e9d_row3_col1, #T_f2e9d_row4_col0, #T_f2e9d_row4_col1, #T_f2e9d_row5_col0, #T_f2e9d_row5_col1, #T_f2e9d_row6_col0, #T_f2e9d_row6_col1, #T_f2e9d_row7_col0, #T_f2e9d_row7_col1, #T_f2e9d_row8_col0, #T_f2e9d_row8_col1, #T_f2e9d_row9_col0, #T_f2e9d_row9_col1, #T_f2e9d_row10_col0, #T_f2e9d_row10_col1, #T_f2e9d_row11_col0, #T_f2e9d_row11_col1, #T_f2e9d_row12_col0, #T_f2e9d_row12_col1 {\n",
       "  text-align: left;\n",
       "}\n",
       "</style>\n",
       "<table id=\"T_f2e9d\" style=\"font-size: 14px\">\n",
       "  <thead>\n",
       "    <tr>\n",
       "      <th id=\"T_f2e9d_level0_col0\" class=\"col_heading level0 col0\" >Dataset Descriptor</th>\n",
       "      <th id=\"T_f2e9d_level0_col1\" class=\"col_heading level0 col1\" >Dataset-specific Information</th>\n",
       "    </tr>\n",
       "  </thead>\n",
       "  <tbody>\n",
       "    <tr>\n",
       "      <td id=\"T_f2e9d_row0_col0\" class=\"data row0 col0\" >Name of Dataset in TRE</td>\n",
       "      <td id=\"T_f2e9d_row0_col1\" class=\"data row0 col1\" >BCS70_bcs9_child_died</td>\n",
       "    </tr>\n",
       "    <tr>\n",
       "      <td id=\"T_f2e9d_row1_col0\" class=\"data row1 col0\" >Citation (APA)</td>\n",
       "      <td id=\"T_f2e9d_row1_col1\" class=\"data row1 col1\" >University College London, UCL Social Research Institute, Centre for Longitudinal Studies. (2021). <i>1970 British Cohort Study (BCS70): Age 42 Child Died.</i> UK Longitudinal Linkage Collaboration (UK LLC).  <a href=\"https://doi.org/10.83126/ukllc-dataset-00142-01\" rel=\"noopener noreferrer\" target=\"_blank\">https://doi.org/10.83126/ukllc-dataset-00142-01</a></td>\n",
       "    </tr>\n",
       "    <tr>\n",
       "      <td id=\"T_f2e9d_row2_col0\" class=\"data row2 col0\" >Download Citation</td>\n",
       "      <td id=\"T_f2e9d_row2_col1\" class=\"data row2 col1\" > <a href=\"https://api.test.datacite.org/application/vnd.citationstyles.csl+json/10.83126/ukllc-dataset-00142-01\" rel=\"noopener noreferrer\" target=\"_blank\">Citeproc JSON</a>&nbsp;&nbsp;&nbsp;&nbsp; <a href=\"https://api.test.datacite.org/application/x-bibtex/10.83126/ukllc-dataset-00142-01\" rel=\"noopener noreferrer\" target=\"_blank\">BibTeX</a>&nbsp;&nbsp;&nbsp;&nbsp; <a href=\"https://api.test.datacite.org/application/x-research-info-systems/10.83126/ukllc-dataset-00142-01\" rel=\"noopener noreferrer\" target=\"_blank\">RIS</a></td>\n",
       "    </tr>\n",
       "    <tr>\n",
       "      <td id=\"T_f2e9d_row3_col0\" class=\"data row3 col0\" >Series</td>\n",
       "      <td id=\"T_f2e9d_row3_col1\" class=\"data row3 col1\" > <a href=\"https://guidebook.ukllc.ac.uk/docs/lps/lps%20profiles/BCS70\">1970 British Cohort Study (BCS70)</a></td>\n",
       "    </tr>\n",
       "    <tr>\n",
       "      <td id=\"T_f2e9d_row4_col0\" class=\"data row4 col0\" >Owner</td>\n",
       "      <td id=\"T_f2e9d_row4_col1\" class=\"data row4 col1\" >UCL</td>\n",
       "    </tr>\n",
       "    <tr>\n",
       "      <td id=\"T_f2e9d_row5_col0\" class=\"data row5 col0\" >Temporal Coverage</td>\n",
       "      <td id=\"T_f2e9d_row5_col1\" class=\"data row5 col1\" >04/2012 - 04/2013</td>\n",
       "    </tr>\n",
       "    <tr>\n",
       "      <td id=\"T_f2e9d_row6_col0\" class=\"data row6 col0\" >Keywords</td>\n",
       "      <td id=\"T_f2e9d_row6_col1\" class=\"data row6 col1\" >Children,Mortality,Date,Relationship</td>\n",
       "    </tr>\n",
       "    <tr>\n",
       "      <td id=\"T_f2e9d_row7_col0\" class=\"data row7 col0\" >Participants Invited</td>\n",
       "      <td id=\"T_f2e9d_row7_col1\" class=\"data row7 col1\" >9841</td>\n",
       "    </tr>\n",
       "    <tr>\n",
       "      <td id=\"T_f2e9d_row8_col0\" class=\"data row8 col0\" >Participant Count</td>\n",
       "      <td id=\"T_f2e9d_row8_col1\" class=\"data row8 col1\" >109</td>\n",
       "    </tr>\n",
       "    <tr>\n",
       "      <td id=\"T_f2e9d_row9_col0\" class=\"data row9 col0\" >Number of variables</td>\n",
       "      <td id=\"T_f2e9d_row9_col1\" class=\"data row9 col1\" >10</td>\n",
       "    </tr>\n",
       "    <tr>\n",
       "      <td id=\"T_f2e9d_row10_col0\" class=\"data row10 col0\" >Number of observations</td>\n",
       "      <td id=\"T_f2e9d_row10_col1\" class=\"data row10 col1\" >158</td>\n",
       "    </tr>\n",
       "    <tr>\n",
       "      <td id=\"T_f2e9d_row11_col0\" class=\"data row11 col0\" >Specific Restrictions to Data Use</td>\n",
       "      <td id=\"T_f2e9d_row11_col1\" class=\"data row11 col1\" >None</td>\n",
       "    </tr>\n",
       "    <tr>\n",
       "      <td id=\"T_f2e9d_row12_col0\" class=\"data row12 col0\" >Build a Data Request</td>\n",
       "      <td id=\"T_f2e9d_row12_col1\" class=\"data row12 col1\" > <a href=\"https://explore.ukllc.ac.uk/\" rel=\"noopener noreferrer\" target=\"_blank\">https://explore.ukllc.ac.uk/</a></td>\n",
       "    </tr>\n",
       "  </tbody>\n",
       "</table>\n"
      ],
      "text/plain": [
       "<pandas.io.formats.style.Styler at 0x1e600bc9100>"
      ]
     },
     "execution_count": 3,
     "metadata": {},
     "output_type": "execute_result"
    }
   ],
   "source": [
    "ds.info_table()"
   ]
  },
  {
   "cell_type": "markdown",
   "id": "fbd6641a",
   "metadata": {},
   "source": [
    "## 2. Version History"
   ]
  },
  {
   "cell_type": "code",
   "execution_count": 4,
   "id": "471fc958",
   "metadata": {
    "execution": {
     "iopub.execute_input": "2025-07-17T14:54:02.059218Z",
     "iopub.status.busy": "2025-07-17T14:54:02.058206Z",
     "iopub.status.idle": "2025-07-17T14:54:04.527899Z",
     "shell.execute_reply": "2025-07-17T14:54:04.524881Z"
    },
    "tags": [
     "remove-input"
    ]
   },
   "outputs": [
    {
     "data": {
      "text/html": [
       "<style type=\"text/css\">\n",
       "#T_210c5 th {\n",
       "  text-align: left;\n",
       "}\n",
       "#T_210c5_row0_col0, #T_210c5_row0_col1, #T_210c5_row1_col0, #T_210c5_row1_col1, #T_210c5_row2_col0, #T_210c5_row2_col1, #T_210c5_row3_col0, #T_210c5_row3_col1, #T_210c5_row4_col0, #T_210c5_row4_col1 {\n",
       "  text-align: left;\n",
       "}\n",
       "</style>\n",
       "<table id=\"T_210c5\" style=\"font-size: 14px\">\n",
       "  <thead>\n",
       "    <tr>\n",
       "      <th id=\"T_210c5_level0_col0\" class=\"col_heading level0 col0\" >Version</th>\n",
       "      <th id=\"T_210c5_level0_col1\" class=\"col_heading level0 col1\" >1</th>\n",
       "    </tr>\n",
       "  </thead>\n",
       "  <tbody>\n",
       "    <tr>\n",
       "      <td id=\"T_210c5_row0_col0\" class=\"data row0 col0\" >Version Date</td>\n",
       "      <td id=\"T_210c5_row0_col1\" class=\"data row0 col1\" >01 Nov 2021</td>\n",
       "    </tr>\n",
       "    <tr>\n",
       "      <td id=\"T_210c5_row1_col0\" class=\"data row1 col0\" >Number of Variables</td>\n",
       "      <td id=\"T_210c5_row1_col1\" class=\"data row1 col1\" >10</td>\n",
       "    </tr>\n",
       "    <tr>\n",
       "      <td id=\"T_210c5_row2_col0\" class=\"data row2 col0\" >Number of Observations</td>\n",
       "      <td id=\"T_210c5_row2_col1\" class=\"data row2 col1\" >158</td>\n",
       "    </tr>\n",
       "    <tr>\n",
       "      <td id=\"T_210c5_row3_col0\" class=\"data row3 col0\" >DOI</td>\n",
       "      <td id=\"T_210c5_row3_col1\" class=\"data row3 col1\" > <a href=\"https://doi.org/10.83126/ukllc-dataset-00142-01\" rel=\"noopener noreferrer\" target=\"_blank\">10.83126/ukllc-dataset-00142-01</a></td>\n",
       "    </tr>\n",
       "    <tr>\n",
       "      <td id=\"T_210c5_row4_col0\" class=\"data row4 col0\" >Change Log</td>\n",
       "      <td id=\"T_210c5_row4_col1\" class=\"data row4 col1\" > <a href=\"https://api.test.datacite.org/dois/10.83126/ukllc-dataset-00142-01/activities\" rel=\"noopener noreferrer\" target=\"_blank\">10.83126/ukllc-dataset-00142-01/activities</a></td>\n",
       "    </tr>\n",
       "  </tbody>\n",
       "</table>\n"
      ],
      "text/plain": [
       "<pandas.io.formats.style.Styler at 0x1e60256aea0>"
      ]
     },
     "execution_count": 4,
     "metadata": {},
     "output_type": "execute_result"
    }
   ],
   "source": [
    "ds.version_history()"
   ]
  },
  {
   "cell_type": "markdown",
   "id": "d2787135",
   "metadata": {},
   "source": [
    "## 3. Documentation"
   ]
  },
  {
   "cell_type": "code",
   "execution_count": 5,
   "id": "83887522",
   "metadata": {
    "execution": {
     "iopub.execute_input": "2025-07-17T14:54:04.536902Z",
     "iopub.status.busy": "2025-07-17T14:54:04.535900Z",
     "iopub.status.idle": "2025-07-17T14:54:04.550035Z",
     "shell.execute_reply": "2025-07-17T14:54:04.548019Z"
    },
    "tags": [
     "remove-input"
    ]
   },
   "outputs": [
    {
     "data": {
      "text/markdown": [
       "We are currently building a documentation storage system which will host useful documents related to datasets and data owners. We will surface these documents on Guidebook."
      ],
      "text/plain": [
       "<IPython.core.display.Markdown object>"
      ]
     },
     "metadata": {},
     "output_type": "display_data"
    }
   ],
   "source": [
    "ds.documentation()"
   ]
  },
  {
   "cell_type": "markdown",
   "id": "19d67538",
   "metadata": {},
   "source": [
    "## 4. Useful Syntax"
   ]
  },
  {
   "cell_type": "code",
   "execution_count": 6,
   "id": "a92abdc3",
   "metadata": {
    "execution": {
     "iopub.execute_input": "2025-07-17T14:54:04.557038Z",
     "iopub.status.busy": "2025-07-17T14:54:04.556041Z",
     "iopub.status.idle": "2025-07-17T14:54:04.568566Z",
     "shell.execute_reply": "2025-07-17T14:54:04.567036Z"
    },
    "tags": [
     "remove-input"
    ]
   },
   "outputs": [
    {
     "data": {
      "text/markdown": [
       "Below we will include syntax that may be helpful to other researchers in the UK LLC TRE. For longer scripts, we will include a snippet of the code plus a link to Git where you can find the full scripts."
      ],
      "text/plain": [
       "<IPython.core.display.Markdown object>"
      ]
     },
     "metadata": {},
     "output_type": "display_data"
    }
   ],
   "source": [
    "ds.useful_syntax()"
   ]
  }
 ],
 "metadata": {
  "language_info": {
   "codemirror_mode": {
    "name": "ipython",
    "version": 3
   },
   "file_extension": ".py",
   "mimetype": "text/x-python",
   "name": "python",
   "nbconvert_exporter": "python",
   "pygments_lexer": "ipython3",
   "version": "3.12.7"
  }
 },
 "nbformat": 4,
 "nbformat_minor": 5
}
