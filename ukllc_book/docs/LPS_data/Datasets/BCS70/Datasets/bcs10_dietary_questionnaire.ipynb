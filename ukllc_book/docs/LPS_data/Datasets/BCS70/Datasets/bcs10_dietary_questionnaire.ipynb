{
 "cells": [
  {
   "cell_type": "markdown",
   "id": "5aca7153",
   "metadata": {},
   "source": [
    "# Age 46 Dietary Questionnaire (BCS70)"
   ]
  },
  {
   "cell_type": "code",
   "execution_count": 1,
   "id": "4b665497",
   "metadata": {
    "execution": {
     "iopub.execute_input": "2025-07-28T18:22:10.100164Z",
     "iopub.status.busy": "2025-07-28T18:22:10.100164Z",
     "iopub.status.idle": "2025-07-28T18:22:22.706470Z",
     "shell.execute_reply": "2025-07-28T18:22:22.703794Z"
    },
    "tags": [
     "remove-input"
    ]
   },
   "outputs": [
    {
     "data": {
      "text/markdown": [
       ">Last modified: 28 Jul 2025"
      ],
      "text/plain": [
       "<IPython.core.display.Markdown object>"
      ]
     },
     "metadata": {},
     "output_type": "display_data"
    }
   ],
   "source": [
    "\n",
    "import sys\n",
    "import os\n",
    "sys.path.append(os.path.abspath('../../../../scripts/'))\n",
    "from data_doc_helper import LPSDataSet as DS, last_modified\n",
    "API_KEY = os.environ['FASTAPI_KEY']\n",
    "ds = DS(\"BCS70\", \"bcs10_dietary_questionnaire\")\n",
    "last_modified()\n"
   ]
  },
  {
   "cell_type": "markdown",
   "id": "f1b5ccd5",
   "metadata": {},
   "source": [
    "## 1. Summary"
   ]
  },
  {
   "cell_type": "code",
   "execution_count": 2,
   "id": "b19d5158",
   "metadata": {
    "execution": {
     "iopub.execute_input": "2025-07-28T18:22:22.713225Z",
     "iopub.status.busy": "2025-07-28T18:22:22.711990Z",
     "iopub.status.idle": "2025-07-28T18:22:22.728231Z",
     "shell.execute_reply": "2025-07-28T18:22:22.726209Z"
    },
    "tags": [
     "remove-input"
    ]
   },
   "outputs": [
    {
     "data": {
      "text/markdown": [
       "Details of food/drinks/supplements consumed on a particular day(s) and calculated nutritional data"
      ],
      "text/plain": [
       "<IPython.core.display.Markdown object>"
      ]
     },
     "metadata": {},
     "output_type": "display_data"
    }
   ],
   "source": [
    "ds.summary()"
   ]
  },
  {
   "cell_type": "code",
   "execution_count": 3,
   "id": "2a43f023",
   "metadata": {
    "execution": {
     "iopub.execute_input": "2025-07-28T18:22:22.737240Z",
     "iopub.status.busy": "2025-07-28T18:22:22.736230Z",
     "iopub.status.idle": "2025-07-28T18:22:24.903867Z",
     "shell.execute_reply": "2025-07-28T18:22:24.901849Z"
    },
    "tags": [
     "remove-input"
    ]
   },
   "outputs": [
    {
     "data": {
      "text/html": [
       "<style type=\"text/css\">\n",
       "#T_b1e3c th {\n",
       "  text-align: left;\n",
       "}\n",
       "#T_b1e3c_row0_col0, #T_b1e3c_row0_col1, #T_b1e3c_row1_col0, #T_b1e3c_row1_col1, #T_b1e3c_row2_col0, #T_b1e3c_row2_col1, #T_b1e3c_row3_col0, #T_b1e3c_row3_col1, #T_b1e3c_row4_col0, #T_b1e3c_row4_col1, #T_b1e3c_row5_col0, #T_b1e3c_row5_col1, #T_b1e3c_row6_col0, #T_b1e3c_row6_col1, #T_b1e3c_row7_col0, #T_b1e3c_row7_col1, #T_b1e3c_row8_col0, #T_b1e3c_row8_col1, #T_b1e3c_row9_col0, #T_b1e3c_row9_col1, #T_b1e3c_row10_col0, #T_b1e3c_row10_col1, #T_b1e3c_row11_col0, #T_b1e3c_row11_col1, #T_b1e3c_row12_col0, #T_b1e3c_row12_col1 {\n",
       "  text-align: left;\n",
       "}\n",
       "</style>\n",
       "<table id=\"T_b1e3c\" style=\"font-size: 14px\">\n",
       "  <thead>\n",
       "    <tr>\n",
       "      <th id=\"T_b1e3c_level0_col0\" class=\"col_heading level0 col0\" >Dataset Descriptor</th>\n",
       "      <th id=\"T_b1e3c_level0_col1\" class=\"col_heading level0 col1\" >Dataset-specific Information</th>\n",
       "    </tr>\n",
       "  </thead>\n",
       "  <tbody>\n",
       "    <tr>\n",
       "      <td id=\"T_b1e3c_row0_col0\" class=\"data row0 col0\" >Name of Dataset in TRE</td>\n",
       "      <td id=\"T_b1e3c_row0_col1\" class=\"data row0 col1\" >BCS70_bcs10_dietary_questionnaire</td>\n",
       "    </tr>\n",
       "    <tr>\n",
       "      <td id=\"T_b1e3c_row1_col0\" class=\"data row1 col0\" >Citation (APA)</td>\n",
       "      <td id=\"T_b1e3c_row1_col1\" class=\"data row1 col1\" >University College London, UCL Social Research Institute, Centre for Longitudinal Studies. (2021). <i>1970 British Cohort Study (BCS70): Age 46 Dietary Questionnaire.</i> UK Longitudinal Linkage Collaboration (UK LLC).  <a href=\"https://doi.org/10.71760/ukllc-dataset-00025-01\" rel=\"noopener noreferrer\" target=\"_blank\">https://doi.org/10.71760/ukllc-dataset-00025-01</a></td>\n",
       "    </tr>\n",
       "    <tr>\n",
       "      <td id=\"T_b1e3c_row2_col0\" class=\"data row2 col0\" >Download Citation</td>\n",
       "      <td id=\"T_b1e3c_row2_col1\" class=\"data row2 col1\" > <a href=\"https://api.datacite.org/application/vnd.citationstyles.csl+json/10.71760/ukllc-dataset-00025-01\" rel=\"noopener noreferrer\" target=\"_blank\">Citeproc JSON</a>&nbsp;&nbsp;&nbsp;&nbsp; <a href=\"https://api.datacite.org/application/x-bibtex/10.71760/ukllc-dataset-00025-01\" rel=\"noopener noreferrer\" target=\"_blank\">BibTeX</a>&nbsp;&nbsp;&nbsp;&nbsp; <a href=\"https://api.datacite.org/application/x-research-info-systems/10.71760/ukllc-dataset-00025-01\" rel=\"noopener noreferrer\" target=\"_blank\">RIS</a></td>\n",
       "    </tr>\n",
       "    <tr>\n",
       "      <td id=\"T_b1e3c_row3_col0\" class=\"data row3 col0\" >Series</td>\n",
       "      <td id=\"T_b1e3c_row3_col1\" class=\"data row3 col1\" > <a href=\"https://guidebook.ukllc.ac.uk/docs/lps_data/lps%20profiles/BCS70\">1970 British Cohort Study (BCS70)</a></td>\n",
       "    </tr>\n",
       "    <tr>\n",
       "      <td id=\"T_b1e3c_row4_col0\" class=\"data row4 col0\" >Owner</td>\n",
       "      <td id=\"T_b1e3c_row4_col1\" class=\"data row4 col1\" >UCL</td>\n",
       "    </tr>\n",
       "    <tr>\n",
       "      <td id=\"T_b1e3c_row5_col0\" class=\"data row5 col0\" >Temporal Coverage</td>\n",
       "      <td id=\"T_b1e3c_row5_col1\" class=\"data row5 col1\" >04/2016 - 04/2017</td>\n",
       "    </tr>\n",
       "    <tr>\n",
       "      <td id=\"T_b1e3c_row6_col0\" class=\"data row6 col0\" >Keywords</td>\n",
       "      <td id=\"T_b1e3c_row6_col1\" class=\"data row6 col1\" >OxfordWebQ,Food groups,Drinks,timing</td>\n",
       "    </tr>\n",
       "    <tr>\n",
       "      <td id=\"T_b1e3c_row7_col0\" class=\"data row7 col0\" >Participants Invited</td>\n",
       "      <td id=\"T_b1e3c_row7_col1\" class=\"data row7 col1\" >8581</td>\n",
       "    </tr>\n",
       "    <tr>\n",
       "      <td id=\"T_b1e3c_row8_col0\" class=\"data row8 col0\" >Participant Count</td>\n",
       "      <td id=\"T_b1e3c_row8_col1\" class=\"data row8 col1\" >5146</td>\n",
       "    </tr>\n",
       "    <tr>\n",
       "      <td id=\"T_b1e3c_row9_col0\" class=\"data row9 col0\" >Number of variables</td>\n",
       "      <td id=\"T_b1e3c_row9_col1\" class=\"data row9 col1\" >492</td>\n",
       "    </tr>\n",
       "    <tr>\n",
       "      <td id=\"T_b1e3c_row10_col0\" class=\"data row10 col0\" >Number of observations</td>\n",
       "      <td id=\"T_b1e3c_row10_col1\" class=\"data row10 col1\" >10899</td>\n",
       "    </tr>\n",
       "    <tr>\n",
       "      <td id=\"T_b1e3c_row11_col0\" class=\"data row11 col0\" >Specific Restrictions to Data Use</td>\n",
       "      <td id=\"T_b1e3c_row11_col1\" class=\"data row11 col1\" >None</td>\n",
       "    </tr>\n",
       "    <tr>\n",
       "      <td id=\"T_b1e3c_row12_col0\" class=\"data row12 col0\" >Build a Data Request</td>\n",
       "      <td id=\"T_b1e3c_row12_col1\" class=\"data row12 col1\" > <a href=\"https://explore.ukllc.ac.uk/\" rel=\"noopener noreferrer\" target=\"_blank\">https://explore.ukllc.ac.uk/</a></td>\n",
       "    </tr>\n",
       "  </tbody>\n",
       "</table>\n"
      ],
      "text/plain": [
       "<pandas.io.formats.style.Styler at 0x195df976e40>"
      ]
     },
     "execution_count": 3,
     "metadata": {},
     "output_type": "execute_result"
    }
   ],
   "source": [
    "ds.info_table()"
   ]
  },
  {
   "cell_type": "markdown",
   "id": "85b881c6",
   "metadata": {},
   "source": [
    "## 2. Version History"
   ]
  },
  {
   "cell_type": "code",
   "execution_count": 4,
   "id": "9676974d",
   "metadata": {
    "execution": {
     "iopub.execute_input": "2025-07-28T18:22:24.912357Z",
     "iopub.status.busy": "2025-07-28T18:22:24.912357Z",
     "iopub.status.idle": "2025-07-28T18:22:30.243415Z",
     "shell.execute_reply": "2025-07-28T18:22:30.237512Z"
    },
    "tags": [
     "remove-input"
    ]
   },
   "outputs": [
    {
     "data": {
      "text/html": [
       "<style type=\"text/css\">\n",
       "#T_08849 th {\n",
       "  text-align: left;\n",
       "}\n",
       "#T_08849_row0_col0, #T_08849_row0_col1, #T_08849_row1_col0, #T_08849_row1_col1, #T_08849_row2_col0, #T_08849_row2_col1, #T_08849_row3_col0, #T_08849_row3_col1, #T_08849_row4_col0, #T_08849_row4_col1 {\n",
       "  text-align: left;\n",
       "}\n",
       "</style>\n",
       "<table id=\"T_08849\" style=\"font-size: 14px\">\n",
       "  <thead>\n",
       "    <tr>\n",
       "      <th id=\"T_08849_level0_col0\" class=\"col_heading level0 col0\" >Version</th>\n",
       "      <th id=\"T_08849_level0_col1\" class=\"col_heading level0 col1\" >1</th>\n",
       "    </tr>\n",
       "  </thead>\n",
       "  <tbody>\n",
       "    <tr>\n",
       "      <td id=\"T_08849_row0_col0\" class=\"data row0 col0\" >Version Date</td>\n",
       "      <td id=\"T_08849_row0_col1\" class=\"data row0 col1\" >01 Nov 2021</td>\n",
       "    </tr>\n",
       "    <tr>\n",
       "      <td id=\"T_08849_row1_col0\" class=\"data row1 col0\" >Number of Variables</td>\n",
       "      <td id=\"T_08849_row1_col1\" class=\"data row1 col1\" >492</td>\n",
       "    </tr>\n",
       "    <tr>\n",
       "      <td id=\"T_08849_row2_col0\" class=\"data row2 col0\" >Number of Observations</td>\n",
       "      <td id=\"T_08849_row2_col1\" class=\"data row2 col1\" >10899</td>\n",
       "    </tr>\n",
       "    <tr>\n",
       "      <td id=\"T_08849_row3_col0\" class=\"data row3 col0\" >DOI</td>\n",
       "      <td id=\"T_08849_row3_col1\" class=\"data row3 col1\" > <a href=\"https://doi.org/10.71760/ukllc-dataset-00025-01\" rel=\"noopener noreferrer\" target=\"_blank\">10.71760/ukllc-dataset-00025-01</a></td>\n",
       "    </tr>\n",
       "    <tr>\n",
       "      <td id=\"T_08849_row4_col0\" class=\"data row4 col0\" >Change Log</td>\n",
       "      <td id=\"T_08849_row4_col1\" class=\"data row4 col1\" > <a href=\"https://api.test.datacite.org/dois/10.71760/ukllc-dataset-00025-01/activities\" rel=\"noopener noreferrer\" target=\"_blank\">10.71760/ukllc-dataset-00025-01/activities</a></td>\n",
       "    </tr>\n",
       "  </tbody>\n",
       "</table>\n"
      ],
      "text/plain": [
       "<pandas.io.formats.style.Styler at 0x195df9e1a90>"
      ]
     },
     "execution_count": 4,
     "metadata": {},
     "output_type": "execute_result"
    }
   ],
   "source": [
    "ds.version_history()"
   ]
  },
  {
   "cell_type": "markdown",
   "id": "35331fa4",
   "metadata": {},
   "source": [
    "## 3. Documentation"
   ]
  },
  {
   "cell_type": "code",
   "execution_count": 5,
   "id": "45e762ed",
   "metadata": {
    "execution": {
     "iopub.execute_input": "2025-07-28T18:22:30.260730Z",
     "iopub.status.busy": "2025-07-28T18:22:30.260730Z",
     "iopub.status.idle": "2025-07-28T18:22:30.273402Z",
     "shell.execute_reply": "2025-07-28T18:22:30.271301Z"
    },
    "tags": [
     "remove-input"
    ]
   },
   "outputs": [
    {
     "data": {
      "text/markdown": [
       "We are currently building a documentation storage system which will host useful documents related to datasets and data owners. We will surface these documents on Guidebook."
      ],
      "text/plain": [
       "<IPython.core.display.Markdown object>"
      ]
     },
     "metadata": {},
     "output_type": "display_data"
    }
   ],
   "source": [
    "ds.documentation()"
   ]
  },
  {
   "cell_type": "markdown",
   "id": "60250ca7",
   "metadata": {},
   "source": [
    "## 4. Useful Syntax"
   ]
  },
  {
   "cell_type": "code",
   "execution_count": 6,
   "id": "5a9f491b",
   "metadata": {
    "execution": {
     "iopub.execute_input": "2025-07-28T18:22:30.281342Z",
     "iopub.status.busy": "2025-07-28T18:22:30.281342Z",
     "iopub.status.idle": "2025-07-28T18:22:30.292299Z",
     "shell.execute_reply": "2025-07-28T18:22:30.290276Z"
    },
    "tags": [
     "remove-input"
    ]
   },
   "outputs": [
    {
     "data": {
      "text/markdown": [
       "Below we will include syntax that may be helpful to other researchers in the UK LLC TRE. For longer scripts, we will include a snippet of the code plus a link to Git where you can find the full scripts."
      ],
      "text/plain": [
       "<IPython.core.display.Markdown object>"
      ]
     },
     "metadata": {},
     "output_type": "display_data"
    }
   ],
   "source": [
    "ds.useful_syntax()"
   ]
  }
 ],
 "metadata": {
  "kernelspec": {
   "display_name": "jupbook",
   "language": "python",
   "name": "python3"
  },
  "language_info": {
   "codemirror_mode": {
    "name": "ipython",
    "version": 3
   },
   "file_extension": ".py",
   "mimetype": "text/x-python",
   "name": "python",
   "nbconvert_exporter": "python",
   "pygments_lexer": "ipython3",
   "version": "3.13.2"
  }
 },
 "nbformat": 4,
 "nbformat_minor": 5
}
