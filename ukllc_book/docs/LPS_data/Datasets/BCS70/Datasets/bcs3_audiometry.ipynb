{
 "cells": [
  {
   "cell_type": "markdown",
   "id": "64e6fb49",
   "metadata": {},
   "source": [
    "# Age 10 Audiometry (BCS70)"
   ]
  },
  {
   "cell_type": "code",
   "execution_count": 1,
   "id": "e31b55ca",
   "metadata": {
    "execution": {
     "iopub.execute_input": "2025-07-28T18:28:45.868230Z",
     "iopub.status.busy": "2025-07-28T18:28:45.867232Z",
     "iopub.status.idle": "2025-07-28T18:29:00.198072Z",
     "shell.execute_reply": "2025-07-28T18:29:00.196053Z"
    },
    "tags": [
     "remove-input"
    ]
   },
   "outputs": [
    {
     "data": {
      "text/markdown": [
       ">Last modified: 28 Jul 2025"
      ],
      "text/plain": [
       "<IPython.core.display.Markdown object>"
      ]
     },
     "metadata": {},
     "output_type": "display_data"
    }
   ],
   "source": [
    "\n",
    "import sys\n",
    "import os\n",
    "sys.path.append(os.path.abspath('../../../../scripts/'))\n",
    "from data_doc_helper import LPSDataSet as DS, last_modified\n",
    "API_KEY = os.environ['FASTAPI_KEY']\n",
    "ds = DS(\"BCS70\", \"bcs3_audiometry\")\n",
    "last_modified()\n"
   ]
  },
  {
   "cell_type": "markdown",
   "id": "5dee832e",
   "metadata": {},
   "source": [
    "## 1. Summary"
   ]
  },
  {
   "cell_type": "code",
   "execution_count": 2,
   "id": "41da58d6",
   "metadata": {
    "execution": {
     "iopub.execute_input": "2025-07-28T18:29:00.207466Z",
     "iopub.status.busy": "2025-07-28T18:29:00.207466Z",
     "iopub.status.idle": "2025-07-28T18:29:00.220923Z",
     "shell.execute_reply": "2025-07-28T18:29:00.218902Z"
    },
    "tags": [
     "remove-input"
    ]
   },
   "outputs": [
    {
     "data": {
      "text/markdown": [
       "Audiogram results recorded at age 10 assessing hearing loss in each ear"
      ],
      "text/plain": [
       "<IPython.core.display.Markdown object>"
      ]
     },
     "metadata": {},
     "output_type": "display_data"
    }
   ],
   "source": [
    "ds.summary()"
   ]
  },
  {
   "cell_type": "code",
   "execution_count": 3,
   "id": "b3357fa0",
   "metadata": {
    "execution": {
     "iopub.execute_input": "2025-07-28T18:29:00.228920Z",
     "iopub.status.busy": "2025-07-28T18:29:00.227937Z",
     "iopub.status.idle": "2025-07-28T18:29:01.960771Z",
     "shell.execute_reply": "2025-07-28T18:29:01.958751Z"
    },
    "tags": [
     "remove-input"
    ]
   },
   "outputs": [
    {
     "data": {
      "text/html": [
       "<style type=\"text/css\">\n",
       "#T_1d406 th {\n",
       "  text-align: left;\n",
       "}\n",
       "#T_1d406_row0_col0, #T_1d406_row0_col1, #T_1d406_row1_col0, #T_1d406_row1_col1, #T_1d406_row2_col0, #T_1d406_row2_col1, #T_1d406_row3_col0, #T_1d406_row3_col1, #T_1d406_row4_col0, #T_1d406_row4_col1, #T_1d406_row5_col0, #T_1d406_row5_col1, #T_1d406_row6_col0, #T_1d406_row6_col1, #T_1d406_row7_col0, #T_1d406_row7_col1, #T_1d406_row8_col0, #T_1d406_row8_col1, #T_1d406_row9_col0, #T_1d406_row9_col1, #T_1d406_row10_col0, #T_1d406_row10_col1, #T_1d406_row11_col0, #T_1d406_row11_col1, #T_1d406_row12_col0, #T_1d406_row12_col1 {\n",
       "  text-align: left;\n",
       "}\n",
       "</style>\n",
       "<table id=\"T_1d406\" style=\"font-size: 14px\">\n",
       "  <thead>\n",
       "    <tr>\n",
       "      <th id=\"T_1d406_level0_col0\" class=\"col_heading level0 col0\" >Dataset Descriptor</th>\n",
       "      <th id=\"T_1d406_level0_col1\" class=\"col_heading level0 col1\" >Dataset-specific Information</th>\n",
       "    </tr>\n",
       "  </thead>\n",
       "  <tbody>\n",
       "    <tr>\n",
       "      <td id=\"T_1d406_row0_col0\" class=\"data row0 col0\" >Name of Dataset in TRE</td>\n",
       "      <td id=\"T_1d406_row0_col1\" class=\"data row0 col1\" >BCS70_bcs3_audiometry</td>\n",
       "    </tr>\n",
       "    <tr>\n",
       "      <td id=\"T_1d406_row1_col0\" class=\"data row1 col0\" >Citation (APA)</td>\n",
       "      <td id=\"T_1d406_row1_col1\" class=\"data row1 col1\" >University College London, UCL Social Research Institute, Centre for Longitudinal Studies. (2021). <i>1970 British Cohort Study (BCS70): Age 10 Audiometry.</i> UK Longitudinal Linkage Collaboration (UK LLC).  <a href=\"https://doi.org/10.71760/ukllc-dataset-00042-01\" rel=\"noopener noreferrer\" target=\"_blank\">https://doi.org/10.71760/ukllc-dataset-00042-01</a></td>\n",
       "    </tr>\n",
       "    <tr>\n",
       "      <td id=\"T_1d406_row2_col0\" class=\"data row2 col0\" >Download Citation</td>\n",
       "      <td id=\"T_1d406_row2_col1\" class=\"data row2 col1\" > <a href=\"https://api.datacite.org/application/vnd.citationstyles.csl+json/10.71760/ukllc-dataset-00042-01\" rel=\"noopener noreferrer\" target=\"_blank\">Citeproc JSON</a>&nbsp;&nbsp;&nbsp;&nbsp; <a href=\"https://api.datacite.org/application/x-bibtex/10.71760/ukllc-dataset-00042-01\" rel=\"noopener noreferrer\" target=\"_blank\">BibTeX</a>&nbsp;&nbsp;&nbsp;&nbsp; <a href=\"https://api.datacite.org/application/x-research-info-systems/10.71760/ukllc-dataset-00042-01\" rel=\"noopener noreferrer\" target=\"_blank\">RIS</a></td>\n",
       "    </tr>\n",
       "    <tr>\n",
       "      <td id=\"T_1d406_row3_col0\" class=\"data row3 col0\" >Series</td>\n",
       "      <td id=\"T_1d406_row3_col1\" class=\"data row3 col1\" > <a href=\"https://guidebook.ukllc.ac.uk/docs/lps_data/lps%20profiles/BCS70\">1970 British Cohort Study (BCS70)</a></td>\n",
       "    </tr>\n",
       "    <tr>\n",
       "      <td id=\"T_1d406_row4_col0\" class=\"data row4 col0\" >Owner</td>\n",
       "      <td id=\"T_1d406_row4_col1\" class=\"data row4 col1\" >UCL</td>\n",
       "    </tr>\n",
       "    <tr>\n",
       "      <td id=\"T_1d406_row5_col0\" class=\"data row5 col0\" >Temporal Coverage</td>\n",
       "      <td id=\"T_1d406_row5_col1\" class=\"data row5 col1\" >04/1980 - 04/1981</td>\n",
       "    </tr>\n",
       "    <tr>\n",
       "      <td id=\"T_1d406_row6_col0\" class=\"data row6 col0\" >Keywords</td>\n",
       "      <td id=\"T_1d406_row6_col1\" class=\"data row6 col1\" >Health,Hearing,Frequencies</td>\n",
       "    </tr>\n",
       "    <tr>\n",
       "      <td id=\"T_1d406_row7_col0\" class=\"data row7 col0\" >Participants Invited</td>\n",
       "      <td id=\"T_1d406_row7_col1\" class=\"data row7 col1\" >14875</td>\n",
       "    </tr>\n",
       "    <tr>\n",
       "      <td id=\"T_1d406_row8_col0\" class=\"data row8 col0\" >Participant Count</td>\n",
       "      <td id=\"T_1d406_row8_col1\" class=\"data row8 col1\" >5346</td>\n",
       "    </tr>\n",
       "    <tr>\n",
       "      <td id=\"T_1d406_row9_col0\" class=\"data row9 col0\" >Number of variables</td>\n",
       "      <td id=\"T_1d406_row9_col1\" class=\"data row9 col1\" >10</td>\n",
       "    </tr>\n",
       "    <tr>\n",
       "      <td id=\"T_1d406_row10_col0\" class=\"data row10 col0\" >Number of observations</td>\n",
       "      <td id=\"T_1d406_row10_col1\" class=\"data row10 col1\" >14903</td>\n",
       "    </tr>\n",
       "    <tr>\n",
       "      <td id=\"T_1d406_row11_col0\" class=\"data row11 col0\" >Specific Restrictions to Data Use</td>\n",
       "      <td id=\"T_1d406_row11_col1\" class=\"data row11 col1\" >None</td>\n",
       "    </tr>\n",
       "    <tr>\n",
       "      <td id=\"T_1d406_row12_col0\" class=\"data row12 col0\" >Build a Data Request</td>\n",
       "      <td id=\"T_1d406_row12_col1\" class=\"data row12 col1\" > <a href=\"https://explore.ukllc.ac.uk/\" rel=\"noopener noreferrer\" target=\"_blank\">https://explore.ukllc.ac.uk/</a></td>\n",
       "    </tr>\n",
       "  </tbody>\n",
       "</table>\n"
      ],
      "text/plain": [
       "<pandas.io.formats.style.Styler at 0x19d4a77c710>"
      ]
     },
     "execution_count": 3,
     "metadata": {},
     "output_type": "execute_result"
    }
   ],
   "source": [
    "ds.info_table()"
   ]
  },
  {
   "cell_type": "markdown",
   "id": "e9a04ec4",
   "metadata": {},
   "source": [
    "## 2. Version History"
   ]
  },
  {
   "cell_type": "code",
   "execution_count": 4,
   "id": "d9629aba",
   "metadata": {
    "execution": {
     "iopub.execute_input": "2025-07-28T18:29:01.968769Z",
     "iopub.status.busy": "2025-07-28T18:29:01.967776Z",
     "iopub.status.idle": "2025-07-28T18:29:07.417062Z",
     "shell.execute_reply": "2025-07-28T18:29:07.415957Z"
    },
    "tags": [
     "remove-input"
    ]
   },
   "outputs": [
    {
     "data": {
      "text/html": [
       "<style type=\"text/css\">\n",
       "#T_dbaa2 th {\n",
       "  text-align: left;\n",
       "}\n",
       "#T_dbaa2_row0_col0, #T_dbaa2_row0_col1, #T_dbaa2_row1_col0, #T_dbaa2_row1_col1, #T_dbaa2_row2_col0, #T_dbaa2_row2_col1, #T_dbaa2_row3_col0, #T_dbaa2_row3_col1, #T_dbaa2_row4_col0, #T_dbaa2_row4_col1 {\n",
       "  text-align: left;\n",
       "}\n",
       "</style>\n",
       "<table id=\"T_dbaa2\" style=\"font-size: 14px\">\n",
       "  <thead>\n",
       "    <tr>\n",
       "      <th id=\"T_dbaa2_level0_col0\" class=\"col_heading level0 col0\" >Version</th>\n",
       "      <th id=\"T_dbaa2_level0_col1\" class=\"col_heading level0 col1\" >1</th>\n",
       "    </tr>\n",
       "  </thead>\n",
       "  <tbody>\n",
       "    <tr>\n",
       "      <td id=\"T_dbaa2_row0_col0\" class=\"data row0 col0\" >Version Date</td>\n",
       "      <td id=\"T_dbaa2_row0_col1\" class=\"data row0 col1\" >01 Nov 2021</td>\n",
       "    </tr>\n",
       "    <tr>\n",
       "      <td id=\"T_dbaa2_row1_col0\" class=\"data row1 col0\" >Number of Variables</td>\n",
       "      <td id=\"T_dbaa2_row1_col1\" class=\"data row1 col1\" >10</td>\n",
       "    </tr>\n",
       "    <tr>\n",
       "      <td id=\"T_dbaa2_row2_col0\" class=\"data row2 col0\" >Number of Observations</td>\n",
       "      <td id=\"T_dbaa2_row2_col1\" class=\"data row2 col1\" >14903</td>\n",
       "    </tr>\n",
       "    <tr>\n",
       "      <td id=\"T_dbaa2_row3_col0\" class=\"data row3 col0\" >DOI</td>\n",
       "      <td id=\"T_dbaa2_row3_col1\" class=\"data row3 col1\" > <a href=\"https://doi.org/10.71760/ukllc-dataset-00042-01\" rel=\"noopener noreferrer\" target=\"_blank\">10.71760/ukllc-dataset-00042-01</a></td>\n",
       "    </tr>\n",
       "    <tr>\n",
       "      <td id=\"T_dbaa2_row4_col0\" class=\"data row4 col0\" >Change Log</td>\n",
       "      <td id=\"T_dbaa2_row4_col1\" class=\"data row4 col1\" > <a href=\"https://api.test.datacite.org/dois/10.71760/ukllc-dataset-00042-01/activities\" rel=\"noopener noreferrer\" target=\"_blank\">10.71760/ukllc-dataset-00042-01/activities</a></td>\n",
       "    </tr>\n",
       "  </tbody>\n",
       "</table>\n"
      ],
      "text/plain": [
       "<pandas.io.formats.style.Styler at 0x19d4c3fa120>"
      ]
     },
     "execution_count": 4,
     "metadata": {},
     "output_type": "execute_result"
    }
   ],
   "source": [
    "ds.version_history()"
   ]
  },
  {
   "cell_type": "markdown",
   "id": "21de587b",
   "metadata": {},
   "source": [
    "## 3. Documentation"
   ]
  },
  {
   "cell_type": "code",
   "execution_count": 5,
   "id": "1989f84d",
   "metadata": {
    "execution": {
     "iopub.execute_input": "2025-07-28T18:29:07.423046Z",
     "iopub.status.busy": "2025-07-28T18:29:07.423046Z",
     "iopub.status.idle": "2025-07-28T18:29:07.436158Z",
     "shell.execute_reply": "2025-07-28T18:29:07.434048Z"
    },
    "tags": [
     "remove-input"
    ]
   },
   "outputs": [
    {
     "data": {
      "text/markdown": [
       "We are currently building a documentation storage system which will host useful documents related to datasets and data owners. We will surface these documents on Guidebook."
      ],
      "text/plain": [
       "<IPython.core.display.Markdown object>"
      ]
     },
     "metadata": {},
     "output_type": "display_data"
    }
   ],
   "source": [
    "ds.documentation()"
   ]
  },
  {
   "cell_type": "markdown",
   "id": "62f7895a",
   "metadata": {},
   "source": [
    "## 4. Useful Syntax"
   ]
  },
  {
   "cell_type": "code",
   "execution_count": 6,
   "id": "2e1c89ee",
   "metadata": {
    "execution": {
     "iopub.execute_input": "2025-07-28T18:29:07.444147Z",
     "iopub.status.busy": "2025-07-28T18:29:07.444147Z",
     "iopub.status.idle": "2025-07-28T18:29:07.455335Z",
     "shell.execute_reply": "2025-07-28T18:29:07.453229Z"
    },
    "tags": [
     "remove-input"
    ]
   },
   "outputs": [
    {
     "data": {
      "text/markdown": [
       "Below we will include syntax that may be helpful to other researchers in the UK LLC TRE. For longer scripts, we will include a snippet of the code plus a link to Git where you can find the full scripts."
      ],
      "text/plain": [
       "<IPython.core.display.Markdown object>"
      ]
     },
     "metadata": {},
     "output_type": "display_data"
    }
   ],
   "source": [
    "ds.useful_syntax()"
   ]
  }
 ],
 "metadata": {
  "language_info": {
   "codemirror_mode": {
    "name": "ipython",
    "version": 3
   },
   "file_extension": ".py",
   "mimetype": "text/x-python",
   "name": "python",
   "nbconvert_exporter": "python",
   "pygments_lexer": "ipython3",
   "version": "3.12.7"
  }
 },
 "nbformat": 4,
 "nbformat_minor": 5
}
