{
 "cells": [
  {
   "cell_type": "markdown",
   "id": "c4f95c16",
   "metadata": {},
   "source": [
    "# Age 42 Qualifications (BCS70)"
   ]
  },
  {
   "cell_type": "code",
   "execution_count": 1,
   "id": "99281e7d",
   "metadata": {
    "execution": {
     "iopub.execute_input": "2025-07-28T13:32:02.280424Z",
     "iopub.status.busy": "2025-07-28T13:32:02.279424Z",
     "iopub.status.idle": "2025-07-28T13:32:10.176312Z",
     "shell.execute_reply": "2025-07-28T13:32:10.176312Z"
    },
    "tags": [
     "remove-input"
    ]
   },
   "outputs": [
    {
     "data": {
      "text/markdown": [
       ">Last modified: 28 Jul 2025"
      ],
      "text/plain": [
       "<IPython.core.display.Markdown object>"
      ]
     },
     "metadata": {},
     "output_type": "display_data"
    }
   ],
   "source": [
    "\n",
    "import sys\n",
    "import os\n",
    "sys.path.append(os.path.abspath('../../../../scripts/'))\n",
    "from data_doc_helper import LPSDataSet as DS, last_modified\n",
    "API_KEY = os.environ['FASTAPI_KEY']\n",
    "ds = DS(\"BCS70\", \"bcs9_qualifications\")\n",
    "last_modified()\n"
   ]
  },
  {
   "cell_type": "markdown",
   "id": "b2d66d5b",
   "metadata": {},
   "source": [
    "## 1. Summary"
   ]
  },
  {
   "cell_type": "code",
   "execution_count": 2,
   "id": "8ba5d5e9",
   "metadata": {
    "execution": {
     "iopub.execute_input": "2025-07-28T13:32:10.179318Z",
     "iopub.status.busy": "2025-07-28T13:32:10.179318Z",
     "iopub.status.idle": "2025-07-28T13:32:10.184625Z",
     "shell.execute_reply": "2025-07-28T13:32:10.184081Z"
    },
    "tags": [
     "remove-input"
    ]
   },
   "outputs": [
    {
     "data": {
      "text/markdown": [
       "Details of each qualification recorded by respondent at sweep 9. Includes qualification type and  date achieved"
      ],
      "text/plain": [
       "<IPython.core.display.Markdown object>"
      ]
     },
     "metadata": {},
     "output_type": "display_data"
    }
   ],
   "source": [
    "ds.summary()"
   ]
  },
  {
   "cell_type": "code",
   "execution_count": 3,
   "id": "b8c017db",
   "metadata": {
    "execution": {
     "iopub.execute_input": "2025-07-28T13:32:10.186630Z",
     "iopub.status.busy": "2025-07-28T13:32:10.186630Z",
     "iopub.status.idle": "2025-07-28T13:32:10.756930Z",
     "shell.execute_reply": "2025-07-28T13:32:10.756930Z"
    },
    "tags": [
     "remove-input"
    ]
   },
   "outputs": [
    {
     "data": {
      "text/html": [
       "<style type=\"text/css\">\n",
       "#T_63f7f th {\n",
       "  text-align: left;\n",
       "}\n",
       "#T_63f7f_row0_col0, #T_63f7f_row0_col1, #T_63f7f_row1_col0, #T_63f7f_row1_col1, #T_63f7f_row2_col0, #T_63f7f_row2_col1, #T_63f7f_row3_col0, #T_63f7f_row3_col1, #T_63f7f_row4_col0, #T_63f7f_row4_col1, #T_63f7f_row5_col0, #T_63f7f_row5_col1, #T_63f7f_row6_col0, #T_63f7f_row6_col1, #T_63f7f_row7_col0, #T_63f7f_row7_col1, #T_63f7f_row8_col0, #T_63f7f_row8_col1, #T_63f7f_row9_col0, #T_63f7f_row9_col1, #T_63f7f_row10_col0, #T_63f7f_row10_col1, #T_63f7f_row11_col0, #T_63f7f_row11_col1, #T_63f7f_row12_col0, #T_63f7f_row12_col1 {\n",
       "  text-align: left;\n",
       "}\n",
       "</style>\n",
       "<table id=\"T_63f7f\" style=\"font-size: 14px\">\n",
       "  <thead>\n",
       "    <tr>\n",
       "      <th id=\"T_63f7f_level0_col0\" class=\"col_heading level0 col0\" >Dataset Descriptor</th>\n",
       "      <th id=\"T_63f7f_level0_col1\" class=\"col_heading level0 col1\" >Dataset-specific Information</th>\n",
       "    </tr>\n",
       "  </thead>\n",
       "  <tbody>\n",
       "    <tr>\n",
       "      <td id=\"T_63f7f_row0_col0\" class=\"data row0 col0\" >Name of Dataset in TRE</td>\n",
       "      <td id=\"T_63f7f_row0_col1\" class=\"data row0 col1\" >BCS70_bcs9_qualifications</td>\n",
       "    </tr>\n",
       "    <tr>\n",
       "      <td id=\"T_63f7f_row1_col0\" class=\"data row1 col0\" >Citation (APA)</td>\n",
       "      <td id=\"T_63f7f_row1_col1\" class=\"data row1 col1\" >University College London, UCL Social Research Institute, Centre for Longitudinal Studies. (2021). <i>1970 British Cohort Study (BCS70): Age 42 Qualifications.</i> UK Longitudinal Linkage Collaboration (UK LLC).  <a href=\"https://doi.org/10.71760/ukllc-dataset-00066-01\" rel=\"noopener noreferrer\" target=\"_blank\">https://doi.org/10.71760/ukllc-dataset-00066-01</a></td>\n",
       "    </tr>\n",
       "    <tr>\n",
       "      <td id=\"T_63f7f_row2_col0\" class=\"data row2 col0\" >Download Citation</td>\n",
       "      <td id=\"T_63f7f_row2_col1\" class=\"data row2 col1\" > <a href=\"https://api.datacite.org/application/vnd.citationstyles.csl+json/10.71760/ukllc-dataset-00066-01\" rel=\"noopener noreferrer\" target=\"_blank\">Citeproc JSON</a>&nbsp;&nbsp;&nbsp;&nbsp; <a href=\"https://api.datacite.org/application/x-bibtex/10.71760/ukllc-dataset-00066-01\" rel=\"noopener noreferrer\" target=\"_blank\">BibTeX</a>&nbsp;&nbsp;&nbsp;&nbsp; <a href=\"https://api.datacite.org/application/x-research-info-systems/10.71760/ukllc-dataset-00066-01\" rel=\"noopener noreferrer\" target=\"_blank\">RIS</a></td>\n",
       "    </tr>\n",
       "    <tr>\n",
       "      <td id=\"T_63f7f_row3_col0\" class=\"data row3 col0\" >Series</td>\n",
       "      <td id=\"T_63f7f_row3_col1\" class=\"data row3 col1\" > <a href=\"https://guidebook.ukllc.ac.uk/docs/lps_data/lps%20profiles/BCS70\">1970 British Cohort Study (BCS70)</a></td>\n",
       "    </tr>\n",
       "    <tr>\n",
       "      <td id=\"T_63f7f_row4_col0\" class=\"data row4 col0\" >Owner</td>\n",
       "      <td id=\"T_63f7f_row4_col1\" class=\"data row4 col1\" >UCL</td>\n",
       "    </tr>\n",
       "    <tr>\n",
       "      <td id=\"T_63f7f_row5_col0\" class=\"data row5 col0\" >Temporal Coverage</td>\n",
       "      <td id=\"T_63f7f_row5_col1\" class=\"data row5 col1\" >04/2012 - 04/2013</td>\n",
       "    </tr>\n",
       "    <tr>\n",
       "      <td id=\"T_63f7f_row6_col0\" class=\"data row6 col0\" >Keywords</td>\n",
       "      <td id=\"T_63f7f_row6_col1\" class=\"data row6 col1\" >Courses,Degree type,Vocational,Fees,Dates</td>\n",
       "    </tr>\n",
       "    <tr>\n",
       "      <td id=\"T_63f7f_row7_col0\" class=\"data row7 col0\" >Participants Invited</td>\n",
       "      <td id=\"T_63f7f_row7_col1\" class=\"data row7 col1\" >9841</td>\n",
       "    </tr>\n",
       "    <tr>\n",
       "      <td id=\"T_63f7f_row8_col0\" class=\"data row8 col0\" >Participant Count</td>\n",
       "      <td id=\"T_63f7f_row8_col1\" class=\"data row8 col1\" >2260</td>\n",
       "    </tr>\n",
       "    <tr>\n",
       "      <td id=\"T_63f7f_row9_col0\" class=\"data row9 col0\" >Number of variables</td>\n",
       "      <td id=\"T_63f7f_row9_col1\" class=\"data row9 col1\" >18</td>\n",
       "    </tr>\n",
       "    <tr>\n",
       "      <td id=\"T_63f7f_row10_col0\" class=\"data row10 col0\" >Number of observations</td>\n",
       "      <td id=\"T_63f7f_row10_col1\" class=\"data row10 col1\" >4988</td>\n",
       "    </tr>\n",
       "    <tr>\n",
       "      <td id=\"T_63f7f_row11_col0\" class=\"data row11 col0\" >Specific Restrictions to Data Use</td>\n",
       "      <td id=\"T_63f7f_row11_col1\" class=\"data row11 col1\" >None</td>\n",
       "    </tr>\n",
       "    <tr>\n",
       "      <td id=\"T_63f7f_row12_col0\" class=\"data row12 col0\" >Build a Data Request</td>\n",
       "      <td id=\"T_63f7f_row12_col1\" class=\"data row12 col1\" > <a href=\"https://explore.ukllc.ac.uk/\" rel=\"noopener noreferrer\" target=\"_blank\">https://explore.ukllc.ac.uk/</a></td>\n",
       "    </tr>\n",
       "  </tbody>\n",
       "</table>\n"
      ],
      "text/plain": [
       "<pandas.io.formats.style.Styler at 0x1fcc1956e40>"
      ]
     },
     "execution_count": 3,
     "metadata": {},
     "output_type": "execute_result"
    }
   ],
   "source": [
    "ds.info_table()"
   ]
  },
  {
   "cell_type": "markdown",
   "id": "96436fad",
   "metadata": {},
   "source": [
    "## 2. Version History"
   ]
  },
  {
   "cell_type": "code",
   "execution_count": 4,
   "id": "6afe0987",
   "metadata": {
    "execution": {
     "iopub.execute_input": "2025-07-28T13:32:10.760936Z",
     "iopub.status.busy": "2025-07-28T13:32:10.760936Z",
     "iopub.status.idle": "2025-07-28T13:32:14.235224Z",
     "shell.execute_reply": "2025-07-28T13:32:14.234916Z"
    },
    "tags": [
     "remove-input"
    ]
   },
   "outputs": [
    {
     "data": {
      "text/html": [
       "<style type=\"text/css\">\n",
       "#T_81d81 th {\n",
       "  text-align: left;\n",
       "}\n",
       "#T_81d81_row0_col0, #T_81d81_row0_col1, #T_81d81_row1_col0, #T_81d81_row1_col1, #T_81d81_row2_col0, #T_81d81_row2_col1, #T_81d81_row3_col0, #T_81d81_row3_col1, #T_81d81_row4_col0, #T_81d81_row4_col1 {\n",
       "  text-align: left;\n",
       "}\n",
       "</style>\n",
       "<table id=\"T_81d81\" style=\"font-size: 14px\">\n",
       "  <thead>\n",
       "    <tr>\n",
       "      <th id=\"T_81d81_level0_col0\" class=\"col_heading level0 col0\" >Version</th>\n",
       "      <th id=\"T_81d81_level0_col1\" class=\"col_heading level0 col1\" >1</th>\n",
       "    </tr>\n",
       "  </thead>\n",
       "  <tbody>\n",
       "    <tr>\n",
       "      <td id=\"T_81d81_row0_col0\" class=\"data row0 col0\" >Version Date</td>\n",
       "      <td id=\"T_81d81_row0_col1\" class=\"data row0 col1\" >01 Nov 2021</td>\n",
       "    </tr>\n",
       "    <tr>\n",
       "      <td id=\"T_81d81_row1_col0\" class=\"data row1 col0\" >Number of Variables</td>\n",
       "      <td id=\"T_81d81_row1_col1\" class=\"data row1 col1\" >18</td>\n",
       "    </tr>\n",
       "    <tr>\n",
       "      <td id=\"T_81d81_row2_col0\" class=\"data row2 col0\" >Number of Observations</td>\n",
       "      <td id=\"T_81d81_row2_col1\" class=\"data row2 col1\" >4988</td>\n",
       "    </tr>\n",
       "    <tr>\n",
       "      <td id=\"T_81d81_row3_col0\" class=\"data row3 col0\" >DOI</td>\n",
       "      <td id=\"T_81d81_row3_col1\" class=\"data row3 col1\" > <a href=\"https://doi.org/10.71760/ukllc-dataset-00066-01\" rel=\"noopener noreferrer\" target=\"_blank\">10.71760/ukllc-dataset-00066-01</a></td>\n",
       "    </tr>\n",
       "    <tr>\n",
       "      <td id=\"T_81d81_row4_col0\" class=\"data row4 col0\" >Change Log</td>\n",
       "      <td id=\"T_81d81_row4_col1\" class=\"data row4 col1\" > <a href=\"https://api.test.datacite.org/dois/10.71760/ukllc-dataset-00066-01/activities\" rel=\"noopener noreferrer\" target=\"_blank\">10.71760/ukllc-dataset-00066-01/activities</a></td>\n",
       "    </tr>\n",
       "  </tbody>\n",
       "</table>\n"
      ],
      "text/plain": [
       "<pandas.io.formats.style.Styler at 0x1fcc19c1a90>"
      ]
     },
     "execution_count": 4,
     "metadata": {},
     "output_type": "execute_result"
    }
   ],
   "source": [
    "ds.version_history()"
   ]
  },
  {
   "cell_type": "markdown",
   "id": "1c74a65a",
   "metadata": {},
   "source": [
    "## 3. Documentation"
   ]
  },
  {
   "cell_type": "code",
   "execution_count": 5,
   "id": "d7c86d44",
   "metadata": {
    "execution": {
     "iopub.execute_input": "2025-07-28T13:32:14.237232Z",
     "iopub.status.busy": "2025-07-28T13:32:14.237232Z",
     "iopub.status.idle": "2025-07-28T13:32:14.240415Z",
     "shell.execute_reply": "2025-07-28T13:32:14.240415Z"
    },
    "tags": [
     "remove-input"
    ]
   },
   "outputs": [
    {
     "data": {
      "text/markdown": [
       "We are currently building a documentation storage system which will host useful documents related to datasets and data owners. We will surface these documents on Guidebook."
      ],
      "text/plain": [
       "<IPython.core.display.Markdown object>"
      ]
     },
     "metadata": {},
     "output_type": "display_data"
    }
   ],
   "source": [
    "ds.documentation()"
   ]
  },
  {
   "cell_type": "markdown",
   "id": "e2bc54d2",
   "metadata": {},
   "source": [
    "## 4. Useful Syntax"
   ]
  },
  {
   "cell_type": "code",
   "execution_count": 6,
   "id": "4996b3d1",
   "metadata": {
    "execution": {
     "iopub.execute_input": "2025-07-28T13:32:14.242420Z",
     "iopub.status.busy": "2025-07-28T13:32:14.242420Z",
     "iopub.status.idle": "2025-07-28T13:32:14.245422Z",
     "shell.execute_reply": "2025-07-28T13:32:14.245422Z"
    },
    "tags": [
     "remove-input"
    ]
   },
   "outputs": [
    {
     "data": {
      "text/markdown": [
       "Below we will include syntax that may be helpful to other researchers in the UK LLC TRE. For longer scripts, we will include a snippet of the code plus a link to Git where you can find the full scripts."
      ],
      "text/plain": [
       "<IPython.core.display.Markdown object>"
      ]
     },
     "metadata": {},
     "output_type": "display_data"
    }
   ],
   "source": [
    "ds.useful_syntax()"
   ]
  }
 ],
 "metadata": {
  "kernelspec": {
   "display_name": "jupbook",
   "language": "python",
   "name": "python3"
  },
  "language_info": {
   "codemirror_mode": {
    "name": "ipython",
    "version": 3
   },
   "file_extension": ".py",
   "mimetype": "text/x-python",
   "name": "python",
   "nbconvert_exporter": "python",
   "pygments_lexer": "ipython3",
   "version": "3.13.2"
  }
 },
 "nbformat": 4,
 "nbformat_minor": 5
}
