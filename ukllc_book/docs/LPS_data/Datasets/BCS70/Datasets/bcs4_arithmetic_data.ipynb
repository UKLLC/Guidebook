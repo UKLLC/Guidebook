{
 "cells": [
  {
   "cell_type": "markdown",
   "id": "207dd65c",
   "metadata": {},
   "source": [
    "# Age 16 Arithmetic Data (BCS70)"
   ]
  },
  {
   "cell_type": "code",
   "execution_count": 1,
   "id": "790b6140",
   "metadata": {
    "execution": {
     "iopub.execute_input": "2025-07-17T14:48:23.900914Z",
     "iopub.status.busy": "2025-07-17T14:48:23.899915Z",
     "iopub.status.idle": "2025-07-17T14:48:31.817357Z",
     "shell.execute_reply": "2025-07-17T14:48:31.816341Z"
    },
    "tags": [
     "remove-input"
    ]
   },
   "outputs": [
    {
     "data": {
      "text/markdown": [
       ">Last modified: 17 Jul 2025"
      ],
      "text/plain": [
       "<IPython.core.display.Markdown object>"
      ]
     },
     "metadata": {},
     "output_type": "display_data"
    }
   ],
   "source": [
    "\n",
    "import sys\n",
    "import os\n",
    "sys.path.append(os.path.abspath('../../../../scripts/'))\n",
    "from data_doc_helper import LPSDataSet as DS, last_modified\n",
    "API_KEY = os.environ['FASTAPI_KEY']\n",
    "ds = DS(\"BCS70\", \"bcs4_arithmetic_data\")\n",
    "last_modified()\n"
   ]
  },
  {
   "cell_type": "markdown",
   "id": "2379fd54",
   "metadata": {},
   "source": [
    "## 1. Summary"
   ]
  },
  {
   "cell_type": "code",
   "execution_count": 2,
   "id": "6a36e7ac",
   "metadata": {
    "execution": {
     "iopub.execute_input": "2025-07-17T14:48:31.824761Z",
     "iopub.status.busy": "2025-07-17T14:48:31.823758Z",
     "iopub.status.idle": "2025-07-17T14:48:31.834235Z",
     "shell.execute_reply": "2025-07-17T14:48:31.832853Z"
    },
    "tags": [
     "remove-input"
    ]
   },
   "outputs": [
    {
     "data": {
      "text/markdown": [
       "The data for the arithmetic test administered during the BCS70 1986 follow-up consists of the response for each of the 60 test items for some 3,677 cases, plus an additional 60 derived variables interpreting the answers into ‘wrong’ or ‘right’"
      ],
      "text/plain": [
       "<IPython.core.display.Markdown object>"
      ]
     },
     "metadata": {},
     "output_type": "display_data"
    }
   ],
   "source": [
    "ds.summary()"
   ]
  },
  {
   "cell_type": "code",
   "execution_count": 3,
   "id": "6bcd2aad",
   "metadata": {
    "execution": {
     "iopub.execute_input": "2025-07-17T14:48:31.838956Z",
     "iopub.status.busy": "2025-07-17T14:48:31.838956Z",
     "iopub.status.idle": "2025-07-17T14:48:32.813752Z",
     "shell.execute_reply": "2025-07-17T14:48:32.812204Z"
    },
    "tags": [
     "remove-input"
    ]
   },
   "outputs": [
    {
     "data": {
      "text/html": [
       "<style type=\"text/css\">\n",
       "#T_a3d5e th {\n",
       "  text-align: left;\n",
       "}\n",
       "#T_a3d5e_row0_col0, #T_a3d5e_row0_col1, #T_a3d5e_row1_col0, #T_a3d5e_row1_col1, #T_a3d5e_row2_col0, #T_a3d5e_row2_col1, #T_a3d5e_row3_col0, #T_a3d5e_row3_col1, #T_a3d5e_row4_col0, #T_a3d5e_row4_col1, #T_a3d5e_row5_col0, #T_a3d5e_row5_col1, #T_a3d5e_row6_col0, #T_a3d5e_row6_col1, #T_a3d5e_row7_col0, #T_a3d5e_row7_col1, #T_a3d5e_row8_col0, #T_a3d5e_row8_col1, #T_a3d5e_row9_col0, #T_a3d5e_row9_col1, #T_a3d5e_row10_col0, #T_a3d5e_row10_col1, #T_a3d5e_row11_col0, #T_a3d5e_row11_col1, #T_a3d5e_row12_col0, #T_a3d5e_row12_col1 {\n",
       "  text-align: left;\n",
       "}\n",
       "</style>\n",
       "<table id=\"T_a3d5e\" style=\"font-size: 14px\">\n",
       "  <thead>\n",
       "    <tr>\n",
       "      <th id=\"T_a3d5e_level0_col0\" class=\"col_heading level0 col0\" >Dataset Descriptor</th>\n",
       "      <th id=\"T_a3d5e_level0_col1\" class=\"col_heading level0 col1\" >Dataset-specific Information</th>\n",
       "    </tr>\n",
       "  </thead>\n",
       "  <tbody>\n",
       "    <tr>\n",
       "      <td id=\"T_a3d5e_row0_col0\" class=\"data row0 col0\" >Name of Dataset in TRE</td>\n",
       "      <td id=\"T_a3d5e_row0_col1\" class=\"data row0 col1\" >BCS70_bcs4_arithmetic_data</td>\n",
       "    </tr>\n",
       "    <tr>\n",
       "      <td id=\"T_a3d5e_row1_col0\" class=\"data row1 col0\" >Citation (APA)</td>\n",
       "      <td id=\"T_a3d5e_row1_col1\" class=\"data row1 col1\" >University College London, UCL Social Research Institute, Centre for Longitudinal Studies. (2021). <i>1970 British Cohort Study (BCS70): Age 16 Arithmetic Data.</i> UK Longitudinal Linkage Collaboration (UK LLC).  <a href=\"https://doi.org/10.83126/ukllc-dataset-00126-01\" rel=\"noopener noreferrer\" target=\"_blank\">https://doi.org/10.83126/ukllc-dataset-00126-01</a></td>\n",
       "    </tr>\n",
       "    <tr>\n",
       "      <td id=\"T_a3d5e_row2_col0\" class=\"data row2 col0\" >Download Citation</td>\n",
       "      <td id=\"T_a3d5e_row2_col1\" class=\"data row2 col1\" > <a href=\"https://api.test.datacite.org/application/vnd.citationstyles.csl+json/10.83126/ukllc-dataset-00126-01\" rel=\"noopener noreferrer\" target=\"_blank\">Citeproc JSON</a>&nbsp;&nbsp;&nbsp;&nbsp; <a href=\"https://api.test.datacite.org/application/x-bibtex/10.83126/ukllc-dataset-00126-01\" rel=\"noopener noreferrer\" target=\"_blank\">BibTeX</a>&nbsp;&nbsp;&nbsp;&nbsp; <a href=\"https://api.test.datacite.org/application/x-research-info-systems/10.83126/ukllc-dataset-00126-01\" rel=\"noopener noreferrer\" target=\"_blank\">RIS</a></td>\n",
       "    </tr>\n",
       "    <tr>\n",
       "      <td id=\"T_a3d5e_row3_col0\" class=\"data row3 col0\" >Series</td>\n",
       "      <td id=\"T_a3d5e_row3_col1\" class=\"data row3 col1\" > <a href=\"https://guidebook.ukllc.ac.uk/docs/lps/lps%20profiles/BCS70\">1970 British Cohort Study (BCS70)</a></td>\n",
       "    </tr>\n",
       "    <tr>\n",
       "      <td id=\"T_a3d5e_row4_col0\" class=\"data row4 col0\" >Owner</td>\n",
       "      <td id=\"T_a3d5e_row4_col1\" class=\"data row4 col1\" >UCL</td>\n",
       "    </tr>\n",
       "    <tr>\n",
       "      <td id=\"T_a3d5e_row5_col0\" class=\"data row5 col0\" >Temporal Coverage</td>\n",
       "      <td id=\"T_a3d5e_row5_col1\" class=\"data row5 col1\" >04/1986 - 04/1987</td>\n",
       "    </tr>\n",
       "    <tr>\n",
       "      <td id=\"T_a3d5e_row6_col0\" class=\"data row6 col0\" >Keywords</td>\n",
       "      <td id=\"T_a3d5e_row6_col1\" class=\"data row6 col1\" >Cognition,Mathematics,Numeracy,Youth</td>\n",
       "    </tr>\n",
       "    <tr>\n",
       "      <td id=\"T_a3d5e_row7_col0\" class=\"data row7 col0\" >Participants Invited</td>\n",
       "      <td id=\"T_a3d5e_row7_col1\" class=\"data row7 col1\" >11622</td>\n",
       "    </tr>\n",
       "    <tr>\n",
       "      <td id=\"T_a3d5e_row8_col0\" class=\"data row8 col0\" >Participant Count</td>\n",
       "      <td id=\"T_a3d5e_row8_col1\" class=\"data row8 col1\" >2274</td>\n",
       "    </tr>\n",
       "    <tr>\n",
       "      <td id=\"T_a3d5e_row9_col0\" class=\"data row9 col0\" >Number of variables</td>\n",
       "      <td id=\"T_a3d5e_row9_col1\" class=\"data row9 col1\" >126</td>\n",
       "    </tr>\n",
       "    <tr>\n",
       "      <td id=\"T_a3d5e_row10_col0\" class=\"data row10 col0\" >Number of observations</td>\n",
       "      <td id=\"T_a3d5e_row10_col1\" class=\"data row10 col1\" >3677</td>\n",
       "    </tr>\n",
       "    <tr>\n",
       "      <td id=\"T_a3d5e_row11_col0\" class=\"data row11 col0\" >Specific Restrictions to Data Use</td>\n",
       "      <td id=\"T_a3d5e_row11_col1\" class=\"data row11 col1\" >None</td>\n",
       "    </tr>\n",
       "    <tr>\n",
       "      <td id=\"T_a3d5e_row12_col0\" class=\"data row12 col0\" >Build a Data Request</td>\n",
       "      <td id=\"T_a3d5e_row12_col1\" class=\"data row12 col1\" > <a href=\"https://explore.ukllc.ac.uk/\" rel=\"noopener noreferrer\" target=\"_blank\">https://explore.ukllc.ac.uk/</a></td>\n",
       "    </tr>\n",
       "  </tbody>\n",
       "</table>\n"
      ],
      "text/plain": [
       "<pandas.io.formats.style.Styler at 0x167c6d6adb0>"
      ]
     },
     "execution_count": 3,
     "metadata": {},
     "output_type": "execute_result"
    }
   ],
   "source": [
    "ds.info_table()"
   ]
  },
  {
   "cell_type": "markdown",
   "id": "9cf67a9f",
   "metadata": {},
   "source": [
    "## 2. Version History"
   ]
  },
  {
   "cell_type": "code",
   "execution_count": 4,
   "id": "aeee3750",
   "metadata": {
    "execution": {
     "iopub.execute_input": "2025-07-17T14:48:32.819804Z",
     "iopub.status.busy": "2025-07-17T14:48:32.818810Z",
     "iopub.status.idle": "2025-07-17T14:48:35.871499Z",
     "shell.execute_reply": "2025-07-17T14:48:35.869489Z"
    },
    "tags": [
     "remove-input"
    ]
   },
   "outputs": [
    {
     "data": {
      "text/html": [
       "<style type=\"text/css\">\n",
       "#T_44c29 th {\n",
       "  text-align: left;\n",
       "}\n",
       "#T_44c29_row0_col0, #T_44c29_row0_col1, #T_44c29_row1_col0, #T_44c29_row1_col1, #T_44c29_row2_col0, #T_44c29_row2_col1, #T_44c29_row3_col0, #T_44c29_row3_col1, #T_44c29_row4_col0, #T_44c29_row4_col1 {\n",
       "  text-align: left;\n",
       "}\n",
       "</style>\n",
       "<table id=\"T_44c29\" style=\"font-size: 14px\">\n",
       "  <thead>\n",
       "    <tr>\n",
       "      <th id=\"T_44c29_level0_col0\" class=\"col_heading level0 col0\" >Version</th>\n",
       "      <th id=\"T_44c29_level0_col1\" class=\"col_heading level0 col1\" >1</th>\n",
       "    </tr>\n",
       "  </thead>\n",
       "  <tbody>\n",
       "    <tr>\n",
       "      <td id=\"T_44c29_row0_col0\" class=\"data row0 col0\" >Version Date</td>\n",
       "      <td id=\"T_44c29_row0_col1\" class=\"data row0 col1\" >01 Nov 2021</td>\n",
       "    </tr>\n",
       "    <tr>\n",
       "      <td id=\"T_44c29_row1_col0\" class=\"data row1 col0\" >Number of Variables</td>\n",
       "      <td id=\"T_44c29_row1_col1\" class=\"data row1 col1\" >126</td>\n",
       "    </tr>\n",
       "    <tr>\n",
       "      <td id=\"T_44c29_row2_col0\" class=\"data row2 col0\" >Number of Observations</td>\n",
       "      <td id=\"T_44c29_row2_col1\" class=\"data row2 col1\" >3677</td>\n",
       "    </tr>\n",
       "    <tr>\n",
       "      <td id=\"T_44c29_row3_col0\" class=\"data row3 col0\" >DOI</td>\n",
       "      <td id=\"T_44c29_row3_col1\" class=\"data row3 col1\" > <a href=\"https://doi.org/10.83126/ukllc-dataset-00126-01\" rel=\"noopener noreferrer\" target=\"_blank\">10.83126/ukllc-dataset-00126-01</a></td>\n",
       "    </tr>\n",
       "    <tr>\n",
       "      <td id=\"T_44c29_row4_col0\" class=\"data row4 col0\" >Change Log</td>\n",
       "      <td id=\"T_44c29_row4_col1\" class=\"data row4 col1\" > <a href=\"https://api.test.datacite.org/dois/10.83126/ukllc-dataset-00126-01/activities\" rel=\"noopener noreferrer\" target=\"_blank\">10.83126/ukllc-dataset-00126-01/activities</a></td>\n",
       "    </tr>\n",
       "  </tbody>\n",
       "</table>\n"
      ],
      "text/plain": [
       "<pandas.io.formats.style.Styler at 0x167c882c110>"
      ]
     },
     "execution_count": 4,
     "metadata": {},
     "output_type": "execute_result"
    }
   ],
   "source": [
    "ds.version_history()"
   ]
  },
  {
   "cell_type": "markdown",
   "id": "eb5dfc29",
   "metadata": {},
   "source": [
    "## 3. Documentation"
   ]
  },
  {
   "cell_type": "code",
   "execution_count": 5,
   "id": "4d6d83b3",
   "metadata": {
    "execution": {
     "iopub.execute_input": "2025-07-17T14:48:35.877497Z",
     "iopub.status.busy": "2025-07-17T14:48:35.876507Z",
     "iopub.status.idle": "2025-07-17T14:48:35.883867Z",
     "shell.execute_reply": "2025-07-17T14:48:35.882852Z"
    },
    "tags": [
     "remove-input"
    ]
   },
   "outputs": [
    {
     "data": {
      "text/markdown": [
       "We are currently building a documentation storage system which will host useful documents related to datasets and data owners. We will surface these documents on Guidebook."
      ],
      "text/plain": [
       "<IPython.core.display.Markdown object>"
      ]
     },
     "metadata": {},
     "output_type": "display_data"
    }
   ],
   "source": [
    "ds.documentation()"
   ]
  },
  {
   "cell_type": "markdown",
   "id": "23646236",
   "metadata": {},
   "source": [
    "## 4. Useful Syntax"
   ]
  },
  {
   "cell_type": "code",
   "execution_count": 6,
   "id": "f5617810",
   "metadata": {
    "execution": {
     "iopub.execute_input": "2025-07-17T14:48:35.887863Z",
     "iopub.status.busy": "2025-07-17T14:48:35.887863Z",
     "iopub.status.idle": "2025-07-17T14:48:35.894402Z",
     "shell.execute_reply": "2025-07-17T14:48:35.893872Z"
    },
    "tags": [
     "remove-input"
    ]
   },
   "outputs": [
    {
     "data": {
      "text/markdown": [
       "Below we will include syntax that may be helpful to other researchers in the UK LLC TRE. For longer scripts, we will include a snippet of the code plus a link to Git where you can find the full scripts."
      ],
      "text/plain": [
       "<IPython.core.display.Markdown object>"
      ]
     },
     "metadata": {},
     "output_type": "display_data"
    }
   ],
   "source": [
    "ds.useful_syntax()"
   ]
  }
 ],
 "metadata": {
  "language_info": {
   "codemirror_mode": {
    "name": "ipython",
    "version": 3
   },
   "file_extension": ".py",
   "mimetype": "text/x-python",
   "name": "python",
   "nbconvert_exporter": "python",
   "pygments_lexer": "ipython3",
   "version": "3.12.7"
  }
 },
 "nbformat": 4,
 "nbformat_minor": 5
}
