{
 "cells": [
  {
   "cell_type": "markdown",
   "id": "841eb58f",
   "metadata": {},
   "source": [
    "# Age 42 Derived Variables (BCS70)"
   ]
  },
  {
   "cell_type": "code",
   "execution_count": 1,
   "id": "e668c648",
   "metadata": {
    "execution": {
     "iopub.execute_input": "2025-07-17T14:54:07.720749Z",
     "iopub.status.busy": "2025-07-17T14:54:07.719751Z",
     "iopub.status.idle": "2025-07-17T14:54:15.966584Z",
     "shell.execute_reply": "2025-07-17T14:54:15.964564Z"
    },
    "tags": [
     "remove-input"
    ]
   },
   "outputs": [
    {
     "data": {
      "text/markdown": [
       ">Last modified: 17 Jul 2025"
      ],
      "text/plain": [
       "<IPython.core.display.Markdown object>"
      ]
     },
     "metadata": {},
     "output_type": "display_data"
    }
   ],
   "source": [
    "\n",
    "import sys\n",
    "import os\n",
    "sys.path.append(os.path.abspath('../../../../scripts/'))\n",
    "from data_doc_helper import LPSDataSet as DS, last_modified\n",
    "API_KEY = os.environ['FASTAPI_KEY']\n",
    "ds = DS(\"BCS70\", \"bcs9_derived\")\n",
    "last_modified()\n"
   ]
  },
  {
   "cell_type": "markdown",
   "id": "17fb1109",
   "metadata": {},
   "source": [
    "## 1. Summary"
   ]
  },
  {
   "cell_type": "code",
   "execution_count": 2,
   "id": "e7924d1c",
   "metadata": {
    "execution": {
     "iopub.execute_input": "2025-07-17T14:54:15.975883Z",
     "iopub.status.busy": "2025-07-17T14:54:15.974878Z",
     "iopub.status.idle": "2025-07-17T14:54:15.988041Z",
     "shell.execute_reply": "2025-07-17T14:54:15.987022Z"
    },
    "tags": [
     "remove-input"
    ]
   },
   "outputs": [
    {
     "data": {
      "text/markdown": [
       "Derivations based on collected sweep 9 survey data including education, health, employment, financial, vocabulary and mental wellbeing"
      ],
      "text/plain": [
       "<IPython.core.display.Markdown object>"
      ]
     },
     "metadata": {},
     "output_type": "display_data"
    }
   ],
   "source": [
    "ds.summary()"
   ]
  },
  {
   "cell_type": "code",
   "execution_count": 3,
   "id": "cf415783",
   "metadata": {
    "execution": {
     "iopub.execute_input": "2025-07-17T14:54:15.996041Z",
     "iopub.status.busy": "2025-07-17T14:54:15.996041Z",
     "iopub.status.idle": "2025-07-17T14:54:17.668756Z",
     "shell.execute_reply": "2025-07-17T14:54:17.666745Z"
    },
    "tags": [
     "remove-input"
    ]
   },
   "outputs": [
    {
     "data": {
      "text/html": [
       "<style type=\"text/css\">\n",
       "#T_7ea8e th {\n",
       "  text-align: left;\n",
       "}\n",
       "#T_7ea8e_row0_col0, #T_7ea8e_row0_col1, #T_7ea8e_row1_col0, #T_7ea8e_row1_col1, #T_7ea8e_row2_col0, #T_7ea8e_row2_col1, #T_7ea8e_row3_col0, #T_7ea8e_row3_col1, #T_7ea8e_row4_col0, #T_7ea8e_row4_col1, #T_7ea8e_row5_col0, #T_7ea8e_row5_col1, #T_7ea8e_row6_col0, #T_7ea8e_row6_col1, #T_7ea8e_row7_col0, #T_7ea8e_row7_col1, #T_7ea8e_row8_col0, #T_7ea8e_row8_col1, #T_7ea8e_row9_col0, #T_7ea8e_row9_col1, #T_7ea8e_row10_col0, #T_7ea8e_row10_col1, #T_7ea8e_row11_col0, #T_7ea8e_row11_col1, #T_7ea8e_row12_col0, #T_7ea8e_row12_col1 {\n",
       "  text-align: left;\n",
       "}\n",
       "</style>\n",
       "<table id=\"T_7ea8e\" style=\"font-size: 14px\">\n",
       "  <thead>\n",
       "    <tr>\n",
       "      <th id=\"T_7ea8e_level0_col0\" class=\"col_heading level0 col0\" >Dataset Descriptor</th>\n",
       "      <th id=\"T_7ea8e_level0_col1\" class=\"col_heading level0 col1\" >Dataset-specific Information</th>\n",
       "    </tr>\n",
       "  </thead>\n",
       "  <tbody>\n",
       "    <tr>\n",
       "      <td id=\"T_7ea8e_row0_col0\" class=\"data row0 col0\" >Name of Dataset in TRE</td>\n",
       "      <td id=\"T_7ea8e_row0_col1\" class=\"data row0 col1\" >BCS70_bcs9_derived</td>\n",
       "    </tr>\n",
       "    <tr>\n",
       "      <td id=\"T_7ea8e_row1_col0\" class=\"data row1 col0\" >Citation (APA)</td>\n",
       "      <td id=\"T_7ea8e_row1_col1\" class=\"data row1 col1\" >University College London, UCL Social Research Institute, Centre for Longitudinal Studies. (2021). <i>1970 British Cohort Study (BCS70): Age 42 Derived Variables.</i> UK Longitudinal Linkage Collaboration (UK LLC).  <a href=\"https://doi.org/10.83126/ukllc-dataset-00143-01\" rel=\"noopener noreferrer\" target=\"_blank\">https://doi.org/10.83126/ukllc-dataset-00143-01</a></td>\n",
       "    </tr>\n",
       "    <tr>\n",
       "      <td id=\"T_7ea8e_row2_col0\" class=\"data row2 col0\" >Download Citation</td>\n",
       "      <td id=\"T_7ea8e_row2_col1\" class=\"data row2 col1\" > <a href=\"https://api.test.datacite.org/application/vnd.citationstyles.csl+json/10.83126/ukllc-dataset-00143-01\" rel=\"noopener noreferrer\" target=\"_blank\">Citeproc JSON</a>&nbsp;&nbsp;&nbsp;&nbsp; <a href=\"https://api.test.datacite.org/application/x-bibtex/10.83126/ukllc-dataset-00143-01\" rel=\"noopener noreferrer\" target=\"_blank\">BibTeX</a>&nbsp;&nbsp;&nbsp;&nbsp; <a href=\"https://api.test.datacite.org/application/x-research-info-systems/10.83126/ukllc-dataset-00143-01\" rel=\"noopener noreferrer\" target=\"_blank\">RIS</a></td>\n",
       "    </tr>\n",
       "    <tr>\n",
       "      <td id=\"T_7ea8e_row3_col0\" class=\"data row3 col0\" >Series</td>\n",
       "      <td id=\"T_7ea8e_row3_col1\" class=\"data row3 col1\" > <a href=\"https://guidebook.ukllc.ac.uk/docs/lps/lps%20profiles/BCS70\">1970 British Cohort Study (BCS70)</a></td>\n",
       "    </tr>\n",
       "    <tr>\n",
       "      <td id=\"T_7ea8e_row4_col0\" class=\"data row4 col0\" >Owner</td>\n",
       "      <td id=\"T_7ea8e_row4_col1\" class=\"data row4 col1\" >UCL</td>\n",
       "    </tr>\n",
       "    <tr>\n",
       "      <td id=\"T_7ea8e_row5_col0\" class=\"data row5 col0\" >Temporal Coverage</td>\n",
       "      <td id=\"T_7ea8e_row5_col1\" class=\"data row5 col1\" >04/2012 - 04/2013</td>\n",
       "    </tr>\n",
       "    <tr>\n",
       "      <td id=\"T_7ea8e_row6_col0\" class=\"data row6 col0\" >Keywords</td>\n",
       "      <td id=\"T_7ea8e_row6_col1\" class=\"data row6 col1\" >Household,Adult childen,Activities,Qualifications</td>\n",
       "    </tr>\n",
       "    <tr>\n",
       "      <td id=\"T_7ea8e_row7_col0\" class=\"data row7 col0\" >Participants Invited</td>\n",
       "      <td id=\"T_7ea8e_row7_col1\" class=\"data row7 col1\" >9841</td>\n",
       "    </tr>\n",
       "    <tr>\n",
       "      <td id=\"T_7ea8e_row8_col0\" class=\"data row8 col0\" >Participant Count</td>\n",
       "      <td id=\"T_7ea8e_row8_col1\" class=\"data row8 col1\" >7955</td>\n",
       "    </tr>\n",
       "    <tr>\n",
       "      <td id=\"T_7ea8e_row9_col0\" class=\"data row9 col0\" >Number of variables</td>\n",
       "      <td id=\"T_7ea8e_row9_col1\" class=\"data row9 col1\" >60</td>\n",
       "    </tr>\n",
       "    <tr>\n",
       "      <td id=\"T_7ea8e_row10_col0\" class=\"data row10 col0\" >Number of observations</td>\n",
       "      <td id=\"T_7ea8e_row10_col1\" class=\"data row10 col1\" >9841</td>\n",
       "    </tr>\n",
       "    <tr>\n",
       "      <td id=\"T_7ea8e_row11_col0\" class=\"data row11 col0\" >Specific Restrictions to Data Use</td>\n",
       "      <td id=\"T_7ea8e_row11_col1\" class=\"data row11 col1\" >None</td>\n",
       "    </tr>\n",
       "    <tr>\n",
       "      <td id=\"T_7ea8e_row12_col0\" class=\"data row12 col0\" >Build a Data Request</td>\n",
       "      <td id=\"T_7ea8e_row12_col1\" class=\"data row12 col1\" > <a href=\"https://explore.ukllc.ac.uk/\" rel=\"noopener noreferrer\" target=\"_blank\">https://explore.ukllc.ac.uk/</a></td>\n",
       "    </tr>\n",
       "  </tbody>\n",
       "</table>\n"
      ],
      "text/plain": [
       "<pandas.io.formats.style.Styler at 0x1a08895faa0>"
      ]
     },
     "execution_count": 3,
     "metadata": {},
     "output_type": "execute_result"
    }
   ],
   "source": [
    "ds.info_table()"
   ]
  },
  {
   "cell_type": "markdown",
   "id": "95548e8a",
   "metadata": {},
   "source": [
    "## 2. Version History"
   ]
  },
  {
   "cell_type": "code",
   "execution_count": 4,
   "id": "643467ab",
   "metadata": {
    "execution": {
     "iopub.execute_input": "2025-07-17T14:54:17.677856Z",
     "iopub.status.busy": "2025-07-17T14:54:17.677856Z",
     "iopub.status.idle": "2025-07-17T14:54:20.145754Z",
     "shell.execute_reply": "2025-07-17T14:54:20.140731Z"
    },
    "tags": [
     "remove-input"
    ]
   },
   "outputs": [
    {
     "data": {
      "text/html": [
       "<style type=\"text/css\">\n",
       "#T_3547b th {\n",
       "  text-align: left;\n",
       "}\n",
       "#T_3547b_row0_col0, #T_3547b_row0_col1, #T_3547b_row1_col0, #T_3547b_row1_col1, #T_3547b_row2_col0, #T_3547b_row2_col1, #T_3547b_row3_col0, #T_3547b_row3_col1, #T_3547b_row4_col0, #T_3547b_row4_col1 {\n",
       "  text-align: left;\n",
       "}\n",
       "</style>\n",
       "<table id=\"T_3547b\" style=\"font-size: 14px\">\n",
       "  <thead>\n",
       "    <tr>\n",
       "      <th id=\"T_3547b_level0_col0\" class=\"col_heading level0 col0\" >Version</th>\n",
       "      <th id=\"T_3547b_level0_col1\" class=\"col_heading level0 col1\" >1</th>\n",
       "    </tr>\n",
       "  </thead>\n",
       "  <tbody>\n",
       "    <tr>\n",
       "      <td id=\"T_3547b_row0_col0\" class=\"data row0 col0\" >Version Date</td>\n",
       "      <td id=\"T_3547b_row0_col1\" class=\"data row0 col1\" >01 Nov 2021</td>\n",
       "    </tr>\n",
       "    <tr>\n",
       "      <td id=\"T_3547b_row1_col0\" class=\"data row1 col0\" >Number of Variables</td>\n",
       "      <td id=\"T_3547b_row1_col1\" class=\"data row1 col1\" >60</td>\n",
       "    </tr>\n",
       "    <tr>\n",
       "      <td id=\"T_3547b_row2_col0\" class=\"data row2 col0\" >Number of Observations</td>\n",
       "      <td id=\"T_3547b_row2_col1\" class=\"data row2 col1\" >9841</td>\n",
       "    </tr>\n",
       "    <tr>\n",
       "      <td id=\"T_3547b_row3_col0\" class=\"data row3 col0\" >DOI</td>\n",
       "      <td id=\"T_3547b_row3_col1\" class=\"data row3 col1\" > <a href=\"https://doi.org/10.83126/ukllc-dataset-00143-01\" rel=\"noopener noreferrer\" target=\"_blank\">10.83126/ukllc-dataset-00143-01</a></td>\n",
       "    </tr>\n",
       "    <tr>\n",
       "      <td id=\"T_3547b_row4_col0\" class=\"data row4 col0\" >Change Log</td>\n",
       "      <td id=\"T_3547b_row4_col1\" class=\"data row4 col1\" > <a href=\"https://api.test.datacite.org/dois/10.83126/ukllc-dataset-00143-01/activities\" rel=\"noopener noreferrer\" target=\"_blank\">10.83126/ukllc-dataset-00143-01/activities</a></td>\n",
       "    </tr>\n",
       "  </tbody>\n",
       "</table>\n"
      ],
      "text/plain": [
       "<pandas.io.formats.style.Styler at 0x1a08a7ce1e0>"
      ]
     },
     "execution_count": 4,
     "metadata": {},
     "output_type": "execute_result"
    }
   ],
   "source": [
    "ds.version_history()"
   ]
  },
  {
   "cell_type": "markdown",
   "id": "37bc45b8",
   "metadata": {},
   "source": [
    "## 3. Documentation"
   ]
  },
  {
   "cell_type": "code",
   "execution_count": 5,
   "id": "b364e097",
   "metadata": {
    "execution": {
     "iopub.execute_input": "2025-07-17T14:54:20.166218Z",
     "iopub.status.busy": "2025-07-17T14:54:20.165218Z",
     "iopub.status.idle": "2025-07-17T14:54:20.194275Z",
     "shell.execute_reply": "2025-07-17T14:54:20.187942Z"
    },
    "tags": [
     "remove-input"
    ]
   },
   "outputs": [
    {
     "data": {
      "text/markdown": [
       "We are currently building a documentation storage system which will host useful documents related to datasets and data owners. We will surface these documents on Guidebook."
      ],
      "text/plain": [
       "<IPython.core.display.Markdown object>"
      ]
     },
     "metadata": {},
     "output_type": "display_data"
    }
   ],
   "source": [
    "ds.documentation()"
   ]
  },
  {
   "cell_type": "markdown",
   "id": "19ea3708",
   "metadata": {},
   "source": [
    "## 4. Useful Syntax"
   ]
  },
  {
   "cell_type": "code",
   "execution_count": 6,
   "id": "638e21f7",
   "metadata": {
    "execution": {
     "iopub.execute_input": "2025-07-17T14:54:20.216925Z",
     "iopub.status.busy": "2025-07-17T14:54:20.214947Z",
     "iopub.status.idle": "2025-07-17T14:54:20.229439Z",
     "shell.execute_reply": "2025-07-17T14:54:20.227903Z"
    },
    "tags": [
     "remove-input"
    ]
   },
   "outputs": [
    {
     "data": {
      "text/markdown": [
       "Below we will include syntax that may be helpful to other researchers in the UK LLC TRE. For longer scripts, we will include a snippet of the code plus a link to Git where you can find the full scripts."
      ],
      "text/plain": [
       "<IPython.core.display.Markdown object>"
      ]
     },
     "metadata": {},
     "output_type": "display_data"
    }
   ],
   "source": [
    "ds.useful_syntax()"
   ]
  }
 ],
 "metadata": {
  "language_info": {
   "codemirror_mode": {
    "name": "ipython",
    "version": 3
   },
   "file_extension": ".py",
   "mimetype": "text/x-python",
   "name": "python",
   "nbconvert_exporter": "python",
   "pygments_lexer": "ipython3",
   "version": "3.12.7"
  }
 },
 "nbformat": 4,
 "nbformat_minor": 5
}
