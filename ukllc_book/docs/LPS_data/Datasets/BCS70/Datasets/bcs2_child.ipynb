{
 "cells": [
  {
   "cell_type": "markdown",
   "id": "ccc9564a",
   "metadata": {},
   "source": [
    "# Age 5 Test booklet (BCS70)"
   ]
  },
  {
   "cell_type": "code",
   "execution_count": 1,
   "id": "060d9d2b",
   "metadata": {
    "execution": {
     "iopub.execute_input": "2025-07-28T18:26:45.767638Z",
     "iopub.status.busy": "2025-07-28T18:26:45.766640Z",
     "iopub.status.idle": "2025-07-28T18:26:59.224276Z",
     "shell.execute_reply": "2025-07-28T18:26:59.222040Z"
    },
    "tags": [
     "remove-input"
    ]
   },
   "outputs": [
    {
     "data": {
      "text/markdown": [
       ">Last modified: 28 Jul 2025"
      ],
      "text/plain": [
       "<IPython.core.display.Markdown object>"
      ]
     },
     "metadata": {},
     "output_type": "display_data"
    }
   ],
   "source": [
    "\n",
    "import sys\n",
    "import os\n",
    "sys.path.append(os.path.abspath('../../../../scripts/'))\n",
    "from data_doc_helper import LPSDataSet as DS, last_modified\n",
    "API_KEY = os.environ['FASTAPI_KEY']\n",
    "ds = DS(\"BCS70\", \"bcs2_child\")\n",
    "last_modified()\n"
   ]
  },
  {
   "cell_type": "markdown",
   "id": "cb7ac6d0",
   "metadata": {},
   "source": [
    "## 1. Summary"
   ]
  },
  {
   "cell_type": "code",
   "execution_count": 2,
   "id": "6de824eb",
   "metadata": {
    "execution": {
     "iopub.execute_input": "2025-07-28T18:26:59.233160Z",
     "iopub.status.busy": "2025-07-28T18:26:59.232160Z",
     "iopub.status.idle": "2025-07-28T18:26:59.244458Z",
     "shell.execute_reply": "2025-07-28T18:26:59.243439Z"
    },
    "tags": [
     "remove-input"
    ]
   },
   "outputs": [
    {
     "data": {
      "text/markdown": [
       "The Test Booklet (TB) was administered by the health visitor during her vislt to the child at home."
      ],
      "text/plain": [
       "<IPython.core.display.Markdown object>"
      ]
     },
     "metadata": {},
     "output_type": "display_data"
    }
   ],
   "source": [
    "ds.summary()"
   ]
  },
  {
   "cell_type": "code",
   "execution_count": 3,
   "id": "a98c9c89",
   "metadata": {
    "execution": {
     "iopub.execute_input": "2025-07-28T18:26:59.251991Z",
     "iopub.status.busy": "2025-07-28T18:26:59.250973Z",
     "iopub.status.idle": "2025-07-28T18:27:01.061452Z",
     "shell.execute_reply": "2025-07-28T18:27:01.059438Z"
    },
    "tags": [
     "remove-input"
    ]
   },
   "outputs": [
    {
     "data": {
      "text/html": [
       "<style type=\"text/css\">\n",
       "#T_43d8a th {\n",
       "  text-align: left;\n",
       "}\n",
       "#T_43d8a_row0_col0, #T_43d8a_row0_col1, #T_43d8a_row1_col0, #T_43d8a_row1_col1, #T_43d8a_row2_col0, #T_43d8a_row2_col1, #T_43d8a_row3_col0, #T_43d8a_row3_col1, #T_43d8a_row4_col0, #T_43d8a_row4_col1, #T_43d8a_row5_col0, #T_43d8a_row5_col1, #T_43d8a_row6_col0, #T_43d8a_row6_col1, #T_43d8a_row7_col0, #T_43d8a_row7_col1, #T_43d8a_row8_col0, #T_43d8a_row8_col1, #T_43d8a_row9_col0, #T_43d8a_row9_col1, #T_43d8a_row10_col0, #T_43d8a_row10_col1, #T_43d8a_row11_col0, #T_43d8a_row11_col1, #T_43d8a_row12_col0, #T_43d8a_row12_col1 {\n",
       "  text-align: left;\n",
       "}\n",
       "</style>\n",
       "<table id=\"T_43d8a\" style=\"font-size: 14px\">\n",
       "  <thead>\n",
       "    <tr>\n",
       "      <th id=\"T_43d8a_level0_col0\" class=\"col_heading level0 col0\" >Dataset Descriptor</th>\n",
       "      <th id=\"T_43d8a_level0_col1\" class=\"col_heading level0 col1\" >Dataset-specific Information</th>\n",
       "    </tr>\n",
       "  </thead>\n",
       "  <tbody>\n",
       "    <tr>\n",
       "      <td id=\"T_43d8a_row0_col0\" class=\"data row0 col0\" >Name of Dataset in TRE</td>\n",
       "      <td id=\"T_43d8a_row0_col1\" class=\"data row0 col1\" >BCS70_bcs2_child</td>\n",
       "    </tr>\n",
       "    <tr>\n",
       "      <td id=\"T_43d8a_row1_col0\" class=\"data row1 col0\" >Citation (APA)</td>\n",
       "      <td id=\"T_43d8a_row1_col1\" class=\"data row1 col1\" >University College London, UCL Social Research Institute, Centre for Longitudinal Studies. (2021). <i>1970 British Cohort Study (BCS70): Age 5 Test booklet.</i> UK Longitudinal Linkage Collaboration (UK LLC).  <a href=\"https://doi.org/10.71760/ukllc-dataset-00037-01\" rel=\"noopener noreferrer\" target=\"_blank\">https://doi.org/10.71760/ukllc-dataset-00037-01</a></td>\n",
       "    </tr>\n",
       "    <tr>\n",
       "      <td id=\"T_43d8a_row2_col0\" class=\"data row2 col0\" >Download Citation</td>\n",
       "      <td id=\"T_43d8a_row2_col1\" class=\"data row2 col1\" > <a href=\"https://api.datacite.org/application/vnd.citationstyles.csl+json/10.71760/ukllc-dataset-00037-01\" rel=\"noopener noreferrer\" target=\"_blank\">Citeproc JSON</a>&nbsp;&nbsp;&nbsp;&nbsp; <a href=\"https://api.datacite.org/application/x-bibtex/10.71760/ukllc-dataset-00037-01\" rel=\"noopener noreferrer\" target=\"_blank\">BibTeX</a>&nbsp;&nbsp;&nbsp;&nbsp; <a href=\"https://api.datacite.org/application/x-research-info-systems/10.71760/ukllc-dataset-00037-01\" rel=\"noopener noreferrer\" target=\"_blank\">RIS</a></td>\n",
       "    </tr>\n",
       "    <tr>\n",
       "      <td id=\"T_43d8a_row3_col0\" class=\"data row3 col0\" >Series</td>\n",
       "      <td id=\"T_43d8a_row3_col1\" class=\"data row3 col1\" > <a href=\"https://guidebook.ukllc.ac.uk/docs/lps_data/lps%20profiles/BCS70\">1970 British Cohort Study (BCS70)</a></td>\n",
       "    </tr>\n",
       "    <tr>\n",
       "      <td id=\"T_43d8a_row4_col0\" class=\"data row4 col0\" >Owner</td>\n",
       "      <td id=\"T_43d8a_row4_col1\" class=\"data row4 col1\" >UCL</td>\n",
       "    </tr>\n",
       "    <tr>\n",
       "      <td id=\"T_43d8a_row5_col0\" class=\"data row5 col0\" >Temporal Coverage</td>\n",
       "      <td id=\"T_43d8a_row5_col1\" class=\"data row5 col1\" >04/1975 - 04/1976</td>\n",
       "    </tr>\n",
       "    <tr>\n",
       "      <td id=\"T_43d8a_row6_col0\" class=\"data row6 col0\" >Keywords</td>\n",
       "      <td id=\"T_43d8a_row6_col1\" class=\"data row6 col1\" >Family Life,Health,employment,attitudes,Social mobility</td>\n",
       "    </tr>\n",
       "    <tr>\n",
       "      <td id=\"T_43d8a_row7_col0\" class=\"data row7 col0\" >Participants Invited</td>\n",
       "      <td id=\"T_43d8a_row7_col1\" class=\"data row7 col1\" >13135</td>\n",
       "    </tr>\n",
       "    <tr>\n",
       "      <td id=\"T_43d8a_row8_col0\" class=\"data row8 col0\" >Participant Count</td>\n",
       "      <td id=\"T_43d8a_row8_col1\" class=\"data row8 col1\" >7026</td>\n",
       "    </tr>\n",
       "    <tr>\n",
       "      <td id=\"T_43d8a_row9_col0\" class=\"data row9 col0\" >Number of variables</td>\n",
       "      <td id=\"T_43d8a_row9_col1\" class=\"data row9 col1\" >123</td>\n",
       "    </tr>\n",
       "    <tr>\n",
       "      <td id=\"T_43d8a_row10_col0\" class=\"data row10 col0\" >Number of observations</td>\n",
       "      <td id=\"T_43d8a_row10_col1\" class=\"data row10 col1\" >13135</td>\n",
       "    </tr>\n",
       "    <tr>\n",
       "      <td id=\"T_43d8a_row11_col0\" class=\"data row11 col0\" >Specific Restrictions to Data Use</td>\n",
       "      <td id=\"T_43d8a_row11_col1\" class=\"data row11 col1\" >None</td>\n",
       "    </tr>\n",
       "    <tr>\n",
       "      <td id=\"T_43d8a_row12_col0\" class=\"data row12 col0\" >Build a Data Request</td>\n",
       "      <td id=\"T_43d8a_row12_col1\" class=\"data row12 col1\" > <a href=\"https://explore.ukllc.ac.uk/\" rel=\"noopener noreferrer\" target=\"_blank\">https://explore.ukllc.ac.uk/</a></td>\n",
       "    </tr>\n",
       "  </tbody>\n",
       "</table>\n"
      ],
      "text/plain": [
       "<pandas.io.formats.style.Styler at 0x27658099850>"
      ]
     },
     "execution_count": 3,
     "metadata": {},
     "output_type": "execute_result"
    }
   ],
   "source": [
    "ds.info_table()"
   ]
  },
  {
   "cell_type": "markdown",
   "id": "eb9dbe7c",
   "metadata": {},
   "source": [
    "## 2. Version History"
   ]
  },
  {
   "cell_type": "code",
   "execution_count": 4,
   "id": "a62e0c34",
   "metadata": {
    "execution": {
     "iopub.execute_input": "2025-07-28T18:27:01.069494Z",
     "iopub.status.busy": "2025-07-28T18:27:01.068477Z",
     "iopub.status.idle": "2025-07-28T18:27:06.299207Z",
     "shell.execute_reply": "2025-07-28T18:27:06.296189Z"
    },
    "tags": [
     "remove-input"
    ]
   },
   "outputs": [
    {
     "data": {
      "text/html": [
       "<style type=\"text/css\">\n",
       "#T_03d13 th {\n",
       "  text-align: left;\n",
       "}\n",
       "#T_03d13_row0_col0, #T_03d13_row0_col1, #T_03d13_row1_col0, #T_03d13_row1_col1, #T_03d13_row2_col0, #T_03d13_row2_col1, #T_03d13_row3_col0, #T_03d13_row3_col1, #T_03d13_row4_col0, #T_03d13_row4_col1 {\n",
       "  text-align: left;\n",
       "}\n",
       "</style>\n",
       "<table id=\"T_03d13\" style=\"font-size: 14px\">\n",
       "  <thead>\n",
       "    <tr>\n",
       "      <th id=\"T_03d13_level0_col0\" class=\"col_heading level0 col0\" >Version</th>\n",
       "      <th id=\"T_03d13_level0_col1\" class=\"col_heading level0 col1\" >1</th>\n",
       "    </tr>\n",
       "  </thead>\n",
       "  <tbody>\n",
       "    <tr>\n",
       "      <td id=\"T_03d13_row0_col0\" class=\"data row0 col0\" >Version Date</td>\n",
       "      <td id=\"T_03d13_row0_col1\" class=\"data row0 col1\" >01 Nov 2021</td>\n",
       "    </tr>\n",
       "    <tr>\n",
       "      <td id=\"T_03d13_row1_col0\" class=\"data row1 col0\" >Number of Variables</td>\n",
       "      <td id=\"T_03d13_row1_col1\" class=\"data row1 col1\" >123</td>\n",
       "    </tr>\n",
       "    <tr>\n",
       "      <td id=\"T_03d13_row2_col0\" class=\"data row2 col0\" >Number of Observations</td>\n",
       "      <td id=\"T_03d13_row2_col1\" class=\"data row2 col1\" >13135</td>\n",
       "    </tr>\n",
       "    <tr>\n",
       "      <td id=\"T_03d13_row3_col0\" class=\"data row3 col0\" >DOI</td>\n",
       "      <td id=\"T_03d13_row3_col1\" class=\"data row3 col1\" > <a href=\"https://doi.org/10.71760/ukllc-dataset-00037-01\" rel=\"noopener noreferrer\" target=\"_blank\">10.71760/ukllc-dataset-00037-01</a></td>\n",
       "    </tr>\n",
       "    <tr>\n",
       "      <td id=\"T_03d13_row4_col0\" class=\"data row4 col0\" >Change Log</td>\n",
       "      <td id=\"T_03d13_row4_col1\" class=\"data row4 col1\" > <a href=\"https://api.test.datacite.org/dois/10.71760/ukllc-dataset-00037-01/activities\" rel=\"noopener noreferrer\" target=\"_blank\">10.71760/ukllc-dataset-00037-01/activities</a></td>\n",
       "    </tr>\n",
       "  </tbody>\n",
       "</table>\n"
      ],
      "text/plain": [
       "<pandas.io.formats.style.Styler at 0x27658163da0>"
      ]
     },
     "execution_count": 4,
     "metadata": {},
     "output_type": "execute_result"
    }
   ],
   "source": [
    "ds.version_history()"
   ]
  },
  {
   "cell_type": "markdown",
   "id": "2366b998",
   "metadata": {},
   "source": [
    "## 3. Documentation"
   ]
  },
  {
   "cell_type": "code",
   "execution_count": 5,
   "id": "195c1dae",
   "metadata": {
    "execution": {
     "iopub.execute_input": "2025-07-28T18:27:06.307368Z",
     "iopub.status.busy": "2025-07-28T18:27:06.306367Z",
     "iopub.status.idle": "2025-07-28T18:27:06.320184Z",
     "shell.execute_reply": "2025-07-28T18:27:06.319166Z"
    },
    "tags": [
     "remove-input"
    ]
   },
   "outputs": [
    {
     "data": {
      "text/markdown": [
       "We are currently building a documentation storage system which will host useful documents related to datasets and data owners. We will surface these documents on Guidebook."
      ],
      "text/plain": [
       "<IPython.core.display.Markdown object>"
      ]
     },
     "metadata": {},
     "output_type": "display_data"
    }
   ],
   "source": [
    "ds.documentation()"
   ]
  },
  {
   "cell_type": "markdown",
   "id": "09b3ff1a",
   "metadata": {},
   "source": [
    "## 4. Useful Syntax"
   ]
  },
  {
   "cell_type": "code",
   "execution_count": 6,
   "id": "d672c680",
   "metadata": {
    "execution": {
     "iopub.execute_input": "2025-07-28T18:27:06.329713Z",
     "iopub.status.busy": "2025-07-28T18:27:06.328725Z",
     "iopub.status.idle": "2025-07-28T18:27:06.346579Z",
     "shell.execute_reply": "2025-07-28T18:27:06.339262Z"
    },
    "tags": [
     "remove-input"
    ]
   },
   "outputs": [
    {
     "data": {
      "text/markdown": [
       "Below we will include syntax that may be helpful to other researchers in the UK LLC TRE. For longer scripts, we will include a snippet of the code plus a link to Git where you can find the full scripts."
      ],
      "text/plain": [
       "<IPython.core.display.Markdown object>"
      ]
     },
     "metadata": {},
     "output_type": "display_data"
    }
   ],
   "source": [
    "ds.useful_syntax()"
   ]
  }
 ],
 "metadata": {
  "language_info": {
   "codemirror_mode": {
    "name": "ipython",
    "version": 3
   },
   "file_extension": ".py",
   "mimetype": "text/x-python",
   "name": "python",
   "nbconvert_exporter": "python",
   "pygments_lexer": "ipython3",
   "version": "3.12.7"
  }
 },
 "nbformat": 4,
 "nbformat_minor": 5
}
