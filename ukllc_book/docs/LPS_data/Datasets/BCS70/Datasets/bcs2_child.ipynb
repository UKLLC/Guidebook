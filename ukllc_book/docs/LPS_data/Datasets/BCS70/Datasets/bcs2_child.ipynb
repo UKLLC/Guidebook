{
 "cells": [
  {
   "cell_type": "markdown",
   "id": "ccc9564a",
   "metadata": {},
   "source": [
    "# Age 5 Test booklet (BCS70)"
   ]
  },
  {
   "cell_type": "code",
   "execution_count": 1,
   "id": "060d9d2b",
   "metadata": {
    "execution": {
     "iopub.execute_input": "2025-07-17T14:46:21.699788Z",
     "iopub.status.busy": "2025-07-17T14:46:21.699788Z",
     "iopub.status.idle": "2025-07-17T14:46:30.668570Z",
     "shell.execute_reply": "2025-07-17T14:46:30.667076Z"
    },
    "tags": [
     "remove-input"
    ]
   },
   "outputs": [
    {
     "data": {
      "text/markdown": [
       ">Last modified: 17 Jul 2025"
      ],
      "text/plain": [
       "<IPython.core.display.Markdown object>"
      ]
     },
     "metadata": {},
     "output_type": "display_data"
    }
   ],
   "source": [
    "\n",
    "import sys\n",
    "import os\n",
    "sys.path.append(os.path.abspath('../../../../scripts/'))\n",
    "from data_doc_helper import LPSDataSet as DS, last_modified\n",
    "API_KEY = os.environ['FASTAPI_KEY']\n",
    "ds = DS(\"BCS70\", \"bcs2_child\")\n",
    "last_modified()\n"
   ]
  },
  {
   "cell_type": "markdown",
   "id": "cb7ac6d0",
   "metadata": {},
   "source": [
    "## 1. Summary"
   ]
  },
  {
   "cell_type": "code",
   "execution_count": 2,
   "id": "6de824eb",
   "metadata": {
    "execution": {
     "iopub.execute_input": "2025-07-17T14:46:30.675329Z",
     "iopub.status.busy": "2025-07-17T14:46:30.675329Z",
     "iopub.status.idle": "2025-07-17T14:46:30.685681Z",
     "shell.execute_reply": "2025-07-17T14:46:30.684333Z"
    },
    "tags": [
     "remove-input"
    ]
   },
   "outputs": [
    {
     "data": {
      "text/markdown": [
       "The Test Booklet (TB) was administered by the health visitor during her vislt to the child at home."
      ],
      "text/plain": [
       "<IPython.core.display.Markdown object>"
      ]
     },
     "metadata": {},
     "output_type": "display_data"
    }
   ],
   "source": [
    "ds.summary()"
   ]
  },
  {
   "cell_type": "code",
   "execution_count": 3,
   "id": "a98c9c89",
   "metadata": {
    "execution": {
     "iopub.execute_input": "2025-07-17T14:46:30.692362Z",
     "iopub.status.busy": "2025-07-17T14:46:30.692362Z",
     "iopub.status.idle": "2025-07-17T14:46:31.707362Z",
     "shell.execute_reply": "2025-07-17T14:46:31.706347Z"
    },
    "tags": [
     "remove-input"
    ]
   },
   "outputs": [
    {
     "data": {
      "text/html": [
       "<style type=\"text/css\">\n",
       "#T_a3f36 th {\n",
       "  text-align: left;\n",
       "}\n",
       "#T_a3f36_row0_col0, #T_a3f36_row0_col1, #T_a3f36_row1_col0, #T_a3f36_row1_col1, #T_a3f36_row2_col0, #T_a3f36_row2_col1, #T_a3f36_row3_col0, #T_a3f36_row3_col1, #T_a3f36_row4_col0, #T_a3f36_row4_col1, #T_a3f36_row5_col0, #T_a3f36_row5_col1, #T_a3f36_row6_col0, #T_a3f36_row6_col1, #T_a3f36_row7_col0, #T_a3f36_row7_col1, #T_a3f36_row8_col0, #T_a3f36_row8_col1, #T_a3f36_row9_col0, #T_a3f36_row9_col1, #T_a3f36_row10_col0, #T_a3f36_row10_col1, #T_a3f36_row11_col0, #T_a3f36_row11_col1, #T_a3f36_row12_col0, #T_a3f36_row12_col1 {\n",
       "  text-align: left;\n",
       "}\n",
       "</style>\n",
       "<table id=\"T_a3f36\" style=\"font-size: 14px\">\n",
       "  <thead>\n",
       "    <tr>\n",
       "      <th id=\"T_a3f36_level0_col0\" class=\"col_heading level0 col0\" >Dataset Descriptor</th>\n",
       "      <th id=\"T_a3f36_level0_col1\" class=\"col_heading level0 col1\" >Dataset-specific Information</th>\n",
       "    </tr>\n",
       "  </thead>\n",
       "  <tbody>\n",
       "    <tr>\n",
       "      <td id=\"T_a3f36_row0_col0\" class=\"data row0 col0\" >Name of Dataset in TRE</td>\n",
       "      <td id=\"T_a3f36_row0_col1\" class=\"data row0 col1\" >BCS70_bcs2_child</td>\n",
       "    </tr>\n",
       "    <tr>\n",
       "      <td id=\"T_a3f36_row1_col0\" class=\"data row1 col0\" >Citation (APA)</td>\n",
       "      <td id=\"T_a3f36_row1_col1\" class=\"data row1 col1\" >University College London, UCL Social Research Institute, Centre for Longitudinal Studies. (2021). <i>1970 British Cohort Study (BCS70): Age 5 Test booklet.</i> UK Longitudinal Linkage Collaboration (UK LLC).  <a href=\"https://doi.org/10.83126/ukllc-dataset-00118-01\" rel=\"noopener noreferrer\" target=\"_blank\">https://doi.org/10.83126/ukllc-dataset-00118-01</a></td>\n",
       "    </tr>\n",
       "    <tr>\n",
       "      <td id=\"T_a3f36_row2_col0\" class=\"data row2 col0\" >Download Citation</td>\n",
       "      <td id=\"T_a3f36_row2_col1\" class=\"data row2 col1\" > <a href=\"https://api.test.datacite.org/application/vnd.citationstyles.csl+json/10.83126/ukllc-dataset-00118-01\" rel=\"noopener noreferrer\" target=\"_blank\">Citeproc JSON</a>&nbsp;&nbsp;&nbsp;&nbsp; <a href=\"https://api.test.datacite.org/application/x-bibtex/10.83126/ukllc-dataset-00118-01\" rel=\"noopener noreferrer\" target=\"_blank\">BibTeX</a>&nbsp;&nbsp;&nbsp;&nbsp; <a href=\"https://api.test.datacite.org/application/x-research-info-systems/10.83126/ukllc-dataset-00118-01\" rel=\"noopener noreferrer\" target=\"_blank\">RIS</a></td>\n",
       "    </tr>\n",
       "    <tr>\n",
       "      <td id=\"T_a3f36_row3_col0\" class=\"data row3 col0\" >Series</td>\n",
       "      <td id=\"T_a3f36_row3_col1\" class=\"data row3 col1\" > <a href=\"https://guidebook.ukllc.ac.uk/docs/lps/lps%20profiles/BCS70\">1970 British Cohort Study (BCS70)</a></td>\n",
       "    </tr>\n",
       "    <tr>\n",
       "      <td id=\"T_a3f36_row4_col0\" class=\"data row4 col0\" >Owner</td>\n",
       "      <td id=\"T_a3f36_row4_col1\" class=\"data row4 col1\" >UCL</td>\n",
       "    </tr>\n",
       "    <tr>\n",
       "      <td id=\"T_a3f36_row5_col0\" class=\"data row5 col0\" >Temporal Coverage</td>\n",
       "      <td id=\"T_a3f36_row5_col1\" class=\"data row5 col1\" >04/1975 - 04/1976</td>\n",
       "    </tr>\n",
       "    <tr>\n",
       "      <td id=\"T_a3f36_row6_col0\" class=\"data row6 col0\" >Keywords</td>\n",
       "      <td id=\"T_a3f36_row6_col1\" class=\"data row6 col1\" >Family Life,Health,employment,attitudes,Social mobility</td>\n",
       "    </tr>\n",
       "    <tr>\n",
       "      <td id=\"T_a3f36_row7_col0\" class=\"data row7 col0\" >Participants Invited</td>\n",
       "      <td id=\"T_a3f36_row7_col1\" class=\"data row7 col1\" >13135</td>\n",
       "    </tr>\n",
       "    <tr>\n",
       "      <td id=\"T_a3f36_row8_col0\" class=\"data row8 col0\" >Participant Count</td>\n",
       "      <td id=\"T_a3f36_row8_col1\" class=\"data row8 col1\" >7026</td>\n",
       "    </tr>\n",
       "    <tr>\n",
       "      <td id=\"T_a3f36_row9_col0\" class=\"data row9 col0\" >Number of variables</td>\n",
       "      <td id=\"T_a3f36_row9_col1\" class=\"data row9 col1\" >123</td>\n",
       "    </tr>\n",
       "    <tr>\n",
       "      <td id=\"T_a3f36_row10_col0\" class=\"data row10 col0\" >Number of observations</td>\n",
       "      <td id=\"T_a3f36_row10_col1\" class=\"data row10 col1\" >13135</td>\n",
       "    </tr>\n",
       "    <tr>\n",
       "      <td id=\"T_a3f36_row11_col0\" class=\"data row11 col0\" >Specific Restrictions to Data Use</td>\n",
       "      <td id=\"T_a3f36_row11_col1\" class=\"data row11 col1\" >None</td>\n",
       "    </tr>\n",
       "    <tr>\n",
       "      <td id=\"T_a3f36_row12_col0\" class=\"data row12 col0\" >Build a Data Request</td>\n",
       "      <td id=\"T_a3f36_row12_col1\" class=\"data row12 col1\" > <a href=\"https://explore.ukllc.ac.uk/\" rel=\"noopener noreferrer\" target=\"_blank\">https://explore.ukllc.ac.uk/</a></td>\n",
       "    </tr>\n",
       "  </tbody>\n",
       "</table>\n"
      ],
      "text/plain": [
       "<pandas.io.formats.style.Styler at 0x19497050290>"
      ]
     },
     "execution_count": 3,
     "metadata": {},
     "output_type": "execute_result"
    }
   ],
   "source": [
    "ds.info_table()"
   ]
  },
  {
   "cell_type": "markdown",
   "id": "eb9dbe7c",
   "metadata": {},
   "source": [
    "## 2. Version History"
   ]
  },
  {
   "cell_type": "code",
   "execution_count": 4,
   "id": "a62e0c34",
   "metadata": {
    "execution": {
     "iopub.execute_input": "2025-07-17T14:46:31.712547Z",
     "iopub.status.busy": "2025-07-17T14:46:31.711527Z",
     "iopub.status.idle": "2025-07-17T14:46:35.173737Z",
     "shell.execute_reply": "2025-07-17T14:46:35.173226Z"
    },
    "tags": [
     "remove-input"
    ]
   },
   "outputs": [
    {
     "data": {
      "text/html": [
       "<style type=\"text/css\">\n",
       "#T_083c9 th {\n",
       "  text-align: left;\n",
       "}\n",
       "#T_083c9_row0_col0, #T_083c9_row0_col1, #T_083c9_row1_col0, #T_083c9_row1_col1, #T_083c9_row2_col0, #T_083c9_row2_col1, #T_083c9_row3_col0, #T_083c9_row3_col1, #T_083c9_row4_col0, #T_083c9_row4_col1 {\n",
       "  text-align: left;\n",
       "}\n",
       "</style>\n",
       "<table id=\"T_083c9\" style=\"font-size: 14px\">\n",
       "  <thead>\n",
       "    <tr>\n",
       "      <th id=\"T_083c9_level0_col0\" class=\"col_heading level0 col0\" >Version</th>\n",
       "      <th id=\"T_083c9_level0_col1\" class=\"col_heading level0 col1\" >1</th>\n",
       "    </tr>\n",
       "  </thead>\n",
       "  <tbody>\n",
       "    <tr>\n",
       "      <td id=\"T_083c9_row0_col0\" class=\"data row0 col0\" >Version Date</td>\n",
       "      <td id=\"T_083c9_row0_col1\" class=\"data row0 col1\" >01 Nov 2021</td>\n",
       "    </tr>\n",
       "    <tr>\n",
       "      <td id=\"T_083c9_row1_col0\" class=\"data row1 col0\" >Number of Variables</td>\n",
       "      <td id=\"T_083c9_row1_col1\" class=\"data row1 col1\" >123</td>\n",
       "    </tr>\n",
       "    <tr>\n",
       "      <td id=\"T_083c9_row2_col0\" class=\"data row2 col0\" >Number of Observations</td>\n",
       "      <td id=\"T_083c9_row2_col1\" class=\"data row2 col1\" >13135</td>\n",
       "    </tr>\n",
       "    <tr>\n",
       "      <td id=\"T_083c9_row3_col0\" class=\"data row3 col0\" >DOI</td>\n",
       "      <td id=\"T_083c9_row3_col1\" class=\"data row3 col1\" > <a href=\"https://doi.org/10.83126/ukllc-dataset-00118-01\" rel=\"noopener noreferrer\" target=\"_blank\">10.83126/ukllc-dataset-00118-01</a></td>\n",
       "    </tr>\n",
       "    <tr>\n",
       "      <td id=\"T_083c9_row4_col0\" class=\"data row4 col0\" >Change Log</td>\n",
       "      <td id=\"T_083c9_row4_col1\" class=\"data row4 col1\" > <a href=\"https://api.test.datacite.org/dois/10.83126/ukllc-dataset-00118-01/activities\" rel=\"noopener noreferrer\" target=\"_blank\">10.83126/ukllc-dataset-00118-01/activities</a></td>\n",
       "    </tr>\n",
       "  </tbody>\n",
       "</table>\n"
      ],
      "text/plain": [
       "<pandas.io.formats.style.Styler at 0x1949cee3b30>"
      ]
     },
     "execution_count": 4,
     "metadata": {},
     "output_type": "execute_result"
    }
   ],
   "source": [
    "ds.version_history()"
   ]
  },
  {
   "cell_type": "markdown",
   "id": "2366b998",
   "metadata": {},
   "source": [
    "## 3. Documentation"
   ]
  },
  {
   "cell_type": "code",
   "execution_count": 5,
   "id": "195c1dae",
   "metadata": {
    "execution": {
     "iopub.execute_input": "2025-07-17T14:46:35.182752Z",
     "iopub.status.busy": "2025-07-17T14:46:35.182752Z",
     "iopub.status.idle": "2025-07-17T14:46:35.190724Z",
     "shell.execute_reply": "2025-07-17T14:46:35.189233Z"
    },
    "tags": [
     "remove-input"
    ]
   },
   "outputs": [
    {
     "data": {
      "text/markdown": [
       "We are currently building a documentation storage system which will host useful documents related to datasets and data owners. We will surface these documents on Guidebook."
      ],
      "text/plain": [
       "<IPython.core.display.Markdown object>"
      ]
     },
     "metadata": {},
     "output_type": "display_data"
    }
   ],
   "source": [
    "ds.documentation()"
   ]
  },
  {
   "cell_type": "markdown",
   "id": "09b3ff1a",
   "metadata": {},
   "source": [
    "## 4. Useful Syntax"
   ]
  },
  {
   "cell_type": "code",
   "execution_count": 6,
   "id": "d672c680",
   "metadata": {
    "execution": {
     "iopub.execute_input": "2025-07-17T14:46:35.196924Z",
     "iopub.status.busy": "2025-07-17T14:46:35.196924Z",
     "iopub.status.idle": "2025-07-17T14:46:35.205537Z",
     "shell.execute_reply": "2025-07-17T14:46:35.204392Z"
    },
    "tags": [
     "remove-input"
    ]
   },
   "outputs": [
    {
     "data": {
      "text/markdown": [
       "Below we will include syntax that may be helpful to other researchers in the UK LLC TRE. For longer scripts, we will include a snippet of the code plus a link to Git where you can find the full scripts."
      ],
      "text/plain": [
       "<IPython.core.display.Markdown object>"
      ]
     },
     "metadata": {},
     "output_type": "display_data"
    }
   ],
   "source": [
    "ds.useful_syntax()"
   ]
  }
 ],
 "metadata": {
  "language_info": {
   "codemirror_mode": {
    "name": "ipython",
    "version": 3
   },
   "file_extension": ".py",
   "mimetype": "text/x-python",
   "name": "python",
   "nbconvert_exporter": "python",
   "pygments_lexer": "ipython3",
   "version": "3.12.7"
  }
 },
 "nbformat": 4,
 "nbformat_minor": 5
}
