{
 "cells": [
  {
   "cell_type": "markdown",
   "id": "99087a8f",
   "metadata": {},
   "source": [
    "# Parent and Child interview (BCS70)"
   ]
  },
  {
   "cell_type": "code",
   "execution_count": 1,
   "id": "47bf732a",
   "metadata": {
    "execution": {
     "iopub.execute_input": "2025-07-28T18:35:01.531063Z",
     "iopub.status.busy": "2025-07-28T18:35:01.531063Z",
     "iopub.status.idle": "2025-07-28T18:35:27.316905Z",
     "shell.execute_reply": "2025-07-28T18:35:27.314888Z"
    },
    "tags": [
     "remove-input"
    ]
   },
   "outputs": [
    {
     "data": {
      "text/markdown": [
       ">Last modified: 28 Jul 2025"
      ],
      "text/plain": [
       "<IPython.core.display.Markdown object>"
      ]
     },
     "metadata": {},
     "output_type": "display_data"
    }
   ],
   "source": [
    "\n",
    "import sys\n",
    "import os\n",
    "sys.path.append(os.path.abspath('../../../../scripts/'))\n",
    "from data_doc_helper import LPSDataSet as DS, last_modified\n",
    "API_KEY = os.environ['FASTAPI_KEY']\n",
    "ds = DS(\"BCS70\", \"bcs7_parent_and_child\")\n",
    "last_modified()\n"
   ]
  },
  {
   "cell_type": "markdown",
   "id": "c5580360",
   "metadata": {},
   "source": [
    "## 1. Summary"
   ]
  },
  {
   "cell_type": "code",
   "execution_count": 2,
   "id": "644f0ff5",
   "metadata": {
    "execution": {
     "iopub.execute_input": "2025-07-28T18:35:27.326387Z",
     "iopub.status.busy": "2025-07-28T18:35:27.325371Z",
     "iopub.status.idle": "2025-07-28T18:35:27.342302Z",
     "shell.execute_reply": "2025-07-28T18:35:27.340453Z"
    },
    "tags": [
     "remove-input"
    ]
   },
   "outputs": [
    {
     "data": {
      "text/markdown": [
       "For a one in two sample of BCS70 cohort members, information was gathered from and about any and all natural or adopted children living with them. This Parent & Child survey provides for both inter-generational comparisons, using earlier BCS70 data, and cross-cohort comparisons, using data from the very similar Mother & Child survey that was based on a one in three sample of NCDS cohort members at the time of the fifth follow-up in 1991. It covered each child’s\n",
       "physical and mental health, any parent-child separations, pre-school care, current\n",
       "education and parental aspirations"
      ],
      "text/plain": [
       "<IPython.core.display.Markdown object>"
      ]
     },
     "metadata": {},
     "output_type": "display_data"
    }
   ],
   "source": [
    "ds.summary()"
   ]
  },
  {
   "cell_type": "code",
   "execution_count": 3,
   "id": "92c5ca66",
   "metadata": {
    "execution": {
     "iopub.execute_input": "2025-07-28T18:35:27.350036Z",
     "iopub.status.busy": "2025-07-28T18:35:27.348998Z",
     "iopub.status.idle": "2025-07-28T18:35:34.000339Z",
     "shell.execute_reply": "2025-07-28T18:35:33.998813Z"
    },
    "tags": [
     "remove-input"
    ]
   },
   "outputs": [
    {
     "data": {
      "text/html": [
       "<style type=\"text/css\">\n",
       "#T_46dd7 th {\n",
       "  text-align: left;\n",
       "}\n",
       "#T_46dd7_row0_col0, #T_46dd7_row0_col1, #T_46dd7_row1_col0, #T_46dd7_row1_col1, #T_46dd7_row2_col0, #T_46dd7_row2_col1, #T_46dd7_row3_col0, #T_46dd7_row3_col1, #T_46dd7_row4_col0, #T_46dd7_row4_col1, #T_46dd7_row5_col0, #T_46dd7_row5_col1, #T_46dd7_row6_col0, #T_46dd7_row6_col1, #T_46dd7_row7_col0, #T_46dd7_row7_col1, #T_46dd7_row8_col0, #T_46dd7_row8_col1, #T_46dd7_row9_col0, #T_46dd7_row9_col1, #T_46dd7_row10_col0, #T_46dd7_row10_col1, #T_46dd7_row11_col0, #T_46dd7_row11_col1, #T_46dd7_row12_col0, #T_46dd7_row12_col1 {\n",
       "  text-align: left;\n",
       "}\n",
       "</style>\n",
       "<table id=\"T_46dd7\" style=\"font-size: 14px\">\n",
       "  <thead>\n",
       "    <tr>\n",
       "      <th id=\"T_46dd7_level0_col0\" class=\"col_heading level0 col0\" >Dataset Descriptor</th>\n",
       "      <th id=\"T_46dd7_level0_col1\" class=\"col_heading level0 col1\" >Dataset-specific Information</th>\n",
       "    </tr>\n",
       "  </thead>\n",
       "  <tbody>\n",
       "    <tr>\n",
       "      <td id=\"T_46dd7_row0_col0\" class=\"data row0 col0\" >Name of Dataset in TRE</td>\n",
       "      <td id=\"T_46dd7_row0_col1\" class=\"data row0 col1\" >BCS70_bcs7_parent_and_child</td>\n",
       "    </tr>\n",
       "    <tr>\n",
       "      <td id=\"T_46dd7_row1_col0\" class=\"data row1 col0\" >Citation (APA)</td>\n",
       "      <td id=\"T_46dd7_row1_col1\" class=\"data row1 col1\" >University College London, UCL Social Research Institute, Centre for Longitudinal Studies. (2021). <i>1970 British Cohort Study (BCS70): Parent and Child interview.</i> UK Longitudinal Linkage Collaboration (UK LLC).  <a href=\"https://doi.org/10.71760/ukllc-dataset-00056-01\" rel=\"noopener noreferrer\" target=\"_blank\">https://doi.org/10.71760/ukllc-dataset-00056-01</a></td>\n",
       "    </tr>\n",
       "    <tr>\n",
       "      <td id=\"T_46dd7_row2_col0\" class=\"data row2 col0\" >Download Citation</td>\n",
       "      <td id=\"T_46dd7_row2_col1\" class=\"data row2 col1\" > <a href=\"https://api.datacite.org/application/vnd.citationstyles.csl+json/10.71760/ukllc-dataset-00056-01\" rel=\"noopener noreferrer\" target=\"_blank\">Citeproc JSON</a>&nbsp;&nbsp;&nbsp;&nbsp; <a href=\"https://api.datacite.org/application/x-bibtex/10.71760/ukllc-dataset-00056-01\" rel=\"noopener noreferrer\" target=\"_blank\">BibTeX</a>&nbsp;&nbsp;&nbsp;&nbsp; <a href=\"https://api.datacite.org/application/x-research-info-systems/10.71760/ukllc-dataset-00056-01\" rel=\"noopener noreferrer\" target=\"_blank\">RIS</a></td>\n",
       "    </tr>\n",
       "    <tr>\n",
       "      <td id=\"T_46dd7_row3_col0\" class=\"data row3 col0\" >Series</td>\n",
       "      <td id=\"T_46dd7_row3_col1\" class=\"data row3 col1\" > <a href=\"https://guidebook.ukllc.ac.uk/docs/lps_data/lps%20profiles/BCS70\">1970 British Cohort Study (BCS70)</a></td>\n",
       "    </tr>\n",
       "    <tr>\n",
       "      <td id=\"T_46dd7_row4_col0\" class=\"data row4 col0\" >Owner</td>\n",
       "      <td id=\"T_46dd7_row4_col1\" class=\"data row4 col1\" >UCL</td>\n",
       "    </tr>\n",
       "    <tr>\n",
       "      <td id=\"T_46dd7_row5_col0\" class=\"data row5 col0\" >Temporal Coverage</td>\n",
       "      <td id=\"T_46dd7_row5_col1\" class=\"data row5 col1\" >04/2004 - 04/2005</td>\n",
       "    </tr>\n",
       "    <tr>\n",
       "      <td id=\"T_46dd7_row6_col0\" class=\"data row6 col0\" >Keywords</td>\n",
       "      <td id=\"T_46dd7_row6_col1\" class=\"data row6 col1\" >Children,Ethnicity,Health,Disability,Accidents,Mental illness</td>\n",
       "    </tr>\n",
       "    <tr>\n",
       "      <td id=\"T_46dd7_row7_col0\" class=\"data row7 col0\" >Participants Invited</td>\n",
       "      <td id=\"T_46dd7_row7_col1\" class=\"data row7 col1\" >9665</td>\n",
       "    </tr>\n",
       "    <tr>\n",
       "      <td id=\"T_46dd7_row8_col0\" class=\"data row8 col0\" >Participant Count</td>\n",
       "      <td id=\"T_46dd7_row8_col1\" class=\"data row8 col1\" >2002</td>\n",
       "    </tr>\n",
       "    <tr>\n",
       "      <td id=\"T_46dd7_row9_col0\" class=\"data row9 col0\" >Number of variables</td>\n",
       "      <td id=\"T_46dd7_row9_col1\" class=\"data row9 col1\" >220</td>\n",
       "    </tr>\n",
       "    <tr>\n",
       "      <td id=\"T_46dd7_row10_col0\" class=\"data row10 col0\" >Number of observations</td>\n",
       "      <td id=\"T_46dd7_row10_col1\" class=\"data row10 col1\" >5207</td>\n",
       "    </tr>\n",
       "    <tr>\n",
       "      <td id=\"T_46dd7_row11_col0\" class=\"data row11 col0\" >Specific Restrictions to Data Use</td>\n",
       "      <td id=\"T_46dd7_row11_col1\" class=\"data row11 col1\" >None</td>\n",
       "    </tr>\n",
       "    <tr>\n",
       "      <td id=\"T_46dd7_row12_col0\" class=\"data row12 col0\" >Build a Data Request</td>\n",
       "      <td id=\"T_46dd7_row12_col1\" class=\"data row12 col1\" > <a href=\"https://explore.ukllc.ac.uk/\" rel=\"noopener noreferrer\" target=\"_blank\">https://explore.ukllc.ac.uk/</a></td>\n",
       "    </tr>\n",
       "  </tbody>\n",
       "</table>\n"
      ],
      "text/plain": [
       "<pandas.io.formats.style.Styler at 0x2004ba4fbf0>"
      ]
     },
     "execution_count": 3,
     "metadata": {},
     "output_type": "execute_result"
    }
   ],
   "source": [
    "ds.info_table()"
   ]
  },
  {
   "cell_type": "markdown",
   "id": "addbbfab",
   "metadata": {},
   "source": [
    "## 2. Version History"
   ]
  },
  {
   "cell_type": "code",
   "execution_count": 4,
   "id": "1161cb9a",
   "metadata": {
    "execution": {
     "iopub.execute_input": "2025-07-28T18:35:34.008544Z",
     "iopub.status.busy": "2025-07-28T18:35:34.008544Z",
     "iopub.status.idle": "2025-07-28T18:35:40.830750Z",
     "shell.execute_reply": "2025-07-28T18:35:40.827732Z"
    },
    "tags": [
     "remove-input"
    ]
   },
   "outputs": [
    {
     "data": {
      "text/html": [
       "<style type=\"text/css\">\n",
       "#T_37fa8 th {\n",
       "  text-align: left;\n",
       "}\n",
       "#T_37fa8_row0_col0, #T_37fa8_row0_col1, #T_37fa8_row1_col0, #T_37fa8_row1_col1, #T_37fa8_row2_col0, #T_37fa8_row2_col1, #T_37fa8_row3_col0, #T_37fa8_row3_col1, #T_37fa8_row4_col0, #T_37fa8_row4_col1 {\n",
       "  text-align: left;\n",
       "}\n",
       "</style>\n",
       "<table id=\"T_37fa8\" style=\"font-size: 14px\">\n",
       "  <thead>\n",
       "    <tr>\n",
       "      <th id=\"T_37fa8_level0_col0\" class=\"col_heading level0 col0\" >Version</th>\n",
       "      <th id=\"T_37fa8_level0_col1\" class=\"col_heading level0 col1\" >1</th>\n",
       "    </tr>\n",
       "  </thead>\n",
       "  <tbody>\n",
       "    <tr>\n",
       "      <td id=\"T_37fa8_row0_col0\" class=\"data row0 col0\" >Version Date</td>\n",
       "      <td id=\"T_37fa8_row0_col1\" class=\"data row0 col1\" >01 Nov 2021</td>\n",
       "    </tr>\n",
       "    <tr>\n",
       "      <td id=\"T_37fa8_row1_col0\" class=\"data row1 col0\" >Number of Variables</td>\n",
       "      <td id=\"T_37fa8_row1_col1\" class=\"data row1 col1\" >220</td>\n",
       "    </tr>\n",
       "    <tr>\n",
       "      <td id=\"T_37fa8_row2_col0\" class=\"data row2 col0\" >Number of Observations</td>\n",
       "      <td id=\"T_37fa8_row2_col1\" class=\"data row2 col1\" >5207</td>\n",
       "    </tr>\n",
       "    <tr>\n",
       "      <td id=\"T_37fa8_row3_col0\" class=\"data row3 col0\" >DOI</td>\n",
       "      <td id=\"T_37fa8_row3_col1\" class=\"data row3 col1\" > <a href=\"https://doi.org/10.71760/ukllc-dataset-00056-01\" rel=\"noopener noreferrer\" target=\"_blank\">10.71760/ukllc-dataset-00056-01</a></td>\n",
       "    </tr>\n",
       "    <tr>\n",
       "      <td id=\"T_37fa8_row4_col0\" class=\"data row4 col0\" >Change Log</td>\n",
       "      <td id=\"T_37fa8_row4_col1\" class=\"data row4 col1\" > <a href=\"https://api.test.datacite.org/dois/10.71760/ukllc-dataset-00056-01/activities\" rel=\"noopener noreferrer\" target=\"_blank\">10.71760/ukllc-dataset-00056-01/activities</a></td>\n",
       "    </tr>\n",
       "  </tbody>\n",
       "</table>\n"
      ],
      "text/plain": [
       "<pandas.io.formats.style.Styler at 0x2005138a9f0>"
      ]
     },
     "execution_count": 4,
     "metadata": {},
     "output_type": "execute_result"
    }
   ],
   "source": [
    "ds.version_history()"
   ]
  },
  {
   "cell_type": "markdown",
   "id": "d4826bd4",
   "metadata": {},
   "source": [
    "## 3. Documentation"
   ]
  },
  {
   "cell_type": "code",
   "execution_count": 5,
   "id": "493ba0f5",
   "metadata": {
    "execution": {
     "iopub.execute_input": "2025-07-28T18:35:40.838759Z",
     "iopub.status.busy": "2025-07-28T18:35:40.837776Z",
     "iopub.status.idle": "2025-07-28T18:35:40.849874Z",
     "shell.execute_reply": "2025-07-28T18:35:40.849341Z"
    },
    "tags": [
     "remove-input"
    ]
   },
   "outputs": [
    {
     "data": {
      "text/markdown": [
       "We are currently building a documentation storage system which will host useful documents related to datasets and data owners. We will surface these documents on Guidebook."
      ],
      "text/plain": [
       "<IPython.core.display.Markdown object>"
      ]
     },
     "metadata": {},
     "output_type": "display_data"
    }
   ],
   "source": [
    "ds.documentation()"
   ]
  },
  {
   "cell_type": "markdown",
   "id": "724770c2",
   "metadata": {},
   "source": [
    "## 4. Useful Syntax"
   ]
  },
  {
   "cell_type": "code",
   "execution_count": 6,
   "id": "997ad68e",
   "metadata": {
    "execution": {
     "iopub.execute_input": "2025-07-28T18:35:40.857928Z",
     "iopub.status.busy": "2025-07-28T18:35:40.856927Z",
     "iopub.status.idle": "2025-07-28T18:35:40.869238Z",
     "shell.execute_reply": "2025-07-28T18:35:40.866927Z"
    },
    "tags": [
     "remove-input"
    ]
   },
   "outputs": [
    {
     "data": {
      "text/markdown": [
       "Below we will include syntax that may be helpful to other researchers in the UK LLC TRE. For longer scripts, we will include a snippet of the code plus a link to Git where you can find the full scripts."
      ],
      "text/plain": [
       "<IPython.core.display.Markdown object>"
      ]
     },
     "metadata": {},
     "output_type": "display_data"
    }
   ],
   "source": [
    "ds.useful_syntax()"
   ]
  }
 ],
 "metadata": {
  "language_info": {
   "codemirror_mode": {
    "name": "ipython",
    "version": 3
   },
   "file_extension": ".py",
   "mimetype": "text/x-python",
   "name": "python",
   "nbconvert_exporter": "python",
   "pygments_lexer": "ipython3",
   "version": "3.12.7"
  }
 },
 "nbformat": 4,
 "nbformat_minor": 5
}
