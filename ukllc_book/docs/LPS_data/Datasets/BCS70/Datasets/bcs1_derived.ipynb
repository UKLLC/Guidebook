{
 "cells": [
  {
   "cell_type": "markdown",
   "id": "ed8675d6",
   "metadata": {},
   "source": [
    "# Birth Survey Derived Data (BCS70)"
   ]
  },
  {
   "cell_type": "code",
   "execution_count": 1,
   "id": "ce09c80c",
   "metadata": {
    "execution": {
     "iopub.execute_input": "2025-07-17T14:45:47.015364Z",
     "iopub.status.busy": "2025-07-17T14:45:47.015364Z",
     "iopub.status.idle": "2025-07-17T14:45:54.273951Z",
     "shell.execute_reply": "2025-07-17T14:45:54.270433Z"
    },
    "tags": [
     "remove-input"
    ]
   },
   "outputs": [
    {
     "data": {
      "text/markdown": [
       ">Last modified: 17 Jul 2025"
      ],
      "text/plain": [
       "<IPython.core.display.Markdown object>"
      ]
     },
     "metadata": {},
     "output_type": "display_data"
    }
   ],
   "source": [
    "\n",
    "import sys\n",
    "import os\n",
    "sys.path.append(os.path.abspath('../../../../scripts/'))\n",
    "from data_doc_helper import LPSDataSet as DS, last_modified\n",
    "API_KEY = os.environ['FASTAPI_KEY']\n",
    "ds = DS(\"BCS70\", \"bcs1_derived\")\n",
    "last_modified()\n"
   ]
  },
  {
   "cell_type": "markdown",
   "id": "3c2f00d0",
   "metadata": {},
   "source": [
    "## 1. Summary"
   ]
  },
  {
   "cell_type": "code",
   "execution_count": 2,
   "id": "cd4b8d07",
   "metadata": {
    "execution": {
     "iopub.execute_input": "2025-07-17T14:45:54.293726Z",
     "iopub.status.busy": "2025-07-17T14:45:54.289727Z",
     "iopub.status.idle": "2025-07-17T14:45:54.304871Z",
     "shell.execute_reply": "2025-07-17T14:45:54.303849Z"
    },
    "tags": [
     "remove-input"
    ]
   },
   "outputs": [
    {
     "data": {
      "text/markdown": [
       "Derivations based on collected sweep 2 survey data including region of residence, parents' social class, parents' age and marital status "
      ],
      "text/plain": [
       "<IPython.core.display.Markdown object>"
      ]
     },
     "metadata": {},
     "output_type": "display_data"
    }
   ],
   "source": [
    "ds.summary()"
   ]
  },
  {
   "cell_type": "code",
   "execution_count": 3,
   "id": "4356912f",
   "metadata": {
    "execution": {
     "iopub.execute_input": "2025-07-17T14:45:54.311870Z",
     "iopub.status.busy": "2025-07-17T14:45:54.311870Z",
     "iopub.status.idle": "2025-07-17T14:45:55.391143Z",
     "shell.execute_reply": "2025-07-17T14:45:55.390129Z"
    },
    "tags": [
     "remove-input"
    ]
   },
   "outputs": [
    {
     "data": {
      "text/html": [
       "<style type=\"text/css\">\n",
       "#T_119ba th {\n",
       "  text-align: left;\n",
       "}\n",
       "#T_119ba_row0_col0, #T_119ba_row0_col1, #T_119ba_row1_col0, #T_119ba_row1_col1, #T_119ba_row2_col0, #T_119ba_row2_col1, #T_119ba_row3_col0, #T_119ba_row3_col1, #T_119ba_row4_col0, #T_119ba_row4_col1, #T_119ba_row5_col0, #T_119ba_row5_col1, #T_119ba_row6_col0, #T_119ba_row6_col1, #T_119ba_row7_col0, #T_119ba_row7_col1, #T_119ba_row8_col0, #T_119ba_row8_col1, #T_119ba_row9_col0, #T_119ba_row9_col1, #T_119ba_row10_col0, #T_119ba_row10_col1, #T_119ba_row11_col0, #T_119ba_row11_col1, #T_119ba_row12_col0, #T_119ba_row12_col1 {\n",
       "  text-align: left;\n",
       "}\n",
       "</style>\n",
       "<table id=\"T_119ba\" style=\"font-size: 14px\">\n",
       "  <thead>\n",
       "    <tr>\n",
       "      <th id=\"T_119ba_level0_col0\" class=\"col_heading level0 col0\" >Dataset Descriptor</th>\n",
       "      <th id=\"T_119ba_level0_col1\" class=\"col_heading level0 col1\" >Dataset-specific Information</th>\n",
       "    </tr>\n",
       "  </thead>\n",
       "  <tbody>\n",
       "    <tr>\n",
       "      <td id=\"T_119ba_row0_col0\" class=\"data row0 col0\" >Name of Dataset in TRE</td>\n",
       "      <td id=\"T_119ba_row0_col1\" class=\"data row0 col1\" >BCS70_bcs1_derived</td>\n",
       "    </tr>\n",
       "    <tr>\n",
       "      <td id=\"T_119ba_row1_col0\" class=\"data row1 col0\" >Citation (APA)</td>\n",
       "      <td id=\"T_119ba_row1_col1\" class=\"data row1 col1\" >University College London, UCL Social Research Institute, Centre for Longitudinal Studies. (2021). <i>1970 British Cohort Study (BCS70): Birth Survey Derived Data.</i> UK Longitudinal Linkage Collaboration (UK LLC).  <a href=\"https://doi.org/10.83126/ukllc-dataset-00116-01\" rel=\"noopener noreferrer\" target=\"_blank\">https://doi.org/10.83126/ukllc-dataset-00116-01</a></td>\n",
       "    </tr>\n",
       "    <tr>\n",
       "      <td id=\"T_119ba_row2_col0\" class=\"data row2 col0\" >Download Citation</td>\n",
       "      <td id=\"T_119ba_row2_col1\" class=\"data row2 col1\" > <a href=\"https://api.test.datacite.org/application/vnd.citationstyles.csl+json/10.83126/ukllc-dataset-00116-01\" rel=\"noopener noreferrer\" target=\"_blank\">Citeproc JSON</a>&nbsp;&nbsp;&nbsp;&nbsp; <a href=\"https://api.test.datacite.org/application/x-bibtex/10.83126/ukllc-dataset-00116-01\" rel=\"noopener noreferrer\" target=\"_blank\">BibTeX</a>&nbsp;&nbsp;&nbsp;&nbsp; <a href=\"https://api.test.datacite.org/application/x-research-info-systems/10.83126/ukllc-dataset-00116-01\" rel=\"noopener noreferrer\" target=\"_blank\">RIS</a></td>\n",
       "    </tr>\n",
       "    <tr>\n",
       "      <td id=\"T_119ba_row3_col0\" class=\"data row3 col0\" >Series</td>\n",
       "      <td id=\"T_119ba_row3_col1\" class=\"data row3 col1\" > <a href=\"https://guidebook.ukllc.ac.uk/docs/lps/lps%20profiles/BCS70\">1970 British Cohort Study (BCS70)</a></td>\n",
       "    </tr>\n",
       "    <tr>\n",
       "      <td id=\"T_119ba_row4_col0\" class=\"data row4 col0\" >Owner</td>\n",
       "      <td id=\"T_119ba_row4_col1\" class=\"data row4 col1\" >UCL</td>\n",
       "    </tr>\n",
       "    <tr>\n",
       "      <td id=\"T_119ba_row5_col0\" class=\"data row5 col0\" >Temporal Coverage</td>\n",
       "      <td id=\"T_119ba_row5_col1\" class=\"data row5 col1\" >04/1970 - 04/1972</td>\n",
       "    </tr>\n",
       "    <tr>\n",
       "      <td id=\"T_119ba_row6_col0\" class=\"data row6 col0\" >Keywords</td>\n",
       "      <td id=\"T_119ba_row6_col1\" class=\"data row6 col1\" >Pregnancy outcome,health,Birth characteristics,Family life</td>\n",
       "    </tr>\n",
       "    <tr>\n",
       "      <td id=\"T_119ba_row7_col0\" class=\"data row7 col0\" >Participants Invited</td>\n",
       "      <td id=\"T_119ba_row7_col1\" class=\"data row7 col1\" >17196</td>\n",
       "    </tr>\n",
       "    <tr>\n",
       "      <td id=\"T_119ba_row8_col0\" class=\"data row8 col0\" >Participant Count</td>\n",
       "      <td id=\"T_119ba_row8_col1\" class=\"data row8 col1\" >7923</td>\n",
       "    </tr>\n",
       "    <tr>\n",
       "      <td id=\"T_119ba_row9_col0\" class=\"data row9 col0\" >Number of variables</td>\n",
       "      <td id=\"T_119ba_row9_col1\" class=\"data row9 col1\" >12</td>\n",
       "    </tr>\n",
       "    <tr>\n",
       "      <td id=\"T_119ba_row10_col0\" class=\"data row10 col0\" >Number of observations</td>\n",
       "      <td id=\"T_119ba_row10_col1\" class=\"data row10 col1\" >17196</td>\n",
       "    </tr>\n",
       "    <tr>\n",
       "      <td id=\"T_119ba_row11_col0\" class=\"data row11 col0\" >Specific Restrictions to Data Use</td>\n",
       "      <td id=\"T_119ba_row11_col1\" class=\"data row11 col1\" >None</td>\n",
       "    </tr>\n",
       "    <tr>\n",
       "      <td id=\"T_119ba_row12_col0\" class=\"data row12 col0\" >Build a Data Request</td>\n",
       "      <td id=\"T_119ba_row12_col1\" class=\"data row12 col1\" > <a href=\"https://explore.ukllc.ac.uk/\" rel=\"noopener noreferrer\" target=\"_blank\">https://explore.ukllc.ac.uk/</a></td>\n",
       "    </tr>\n",
       "  </tbody>\n",
       "</table>\n"
      ],
      "text/plain": [
       "<pandas.io.formats.style.Styler at 0x1dc17010200>"
      ]
     },
     "execution_count": 3,
     "metadata": {},
     "output_type": "execute_result"
    }
   ],
   "source": [
    "ds.info_table()"
   ]
  },
  {
   "cell_type": "markdown",
   "id": "8f4fb485",
   "metadata": {},
   "source": [
    "## 2. Version History"
   ]
  },
  {
   "cell_type": "code",
   "execution_count": 4,
   "id": "c361d6bd",
   "metadata": {
    "execution": {
     "iopub.execute_input": "2025-07-17T14:45:55.394970Z",
     "iopub.status.busy": "2025-07-17T14:45:55.393643Z",
     "iopub.status.idle": "2025-07-17T14:45:57.800681Z",
     "shell.execute_reply": "2025-07-17T14:45:57.797648Z"
    },
    "tags": [
     "remove-input"
    ]
   },
   "outputs": [
    {
     "data": {
      "text/html": [
       "<style type=\"text/css\">\n",
       "#T_497d4 th {\n",
       "  text-align: left;\n",
       "}\n",
       "#T_497d4_row0_col0, #T_497d4_row0_col1, #T_497d4_row1_col0, #T_497d4_row1_col1, #T_497d4_row2_col0, #T_497d4_row2_col1, #T_497d4_row3_col0, #T_497d4_row3_col1, #T_497d4_row4_col0, #T_497d4_row4_col1 {\n",
       "  text-align: left;\n",
       "}\n",
       "</style>\n",
       "<table id=\"T_497d4\" style=\"font-size: 14px\">\n",
       "  <thead>\n",
       "    <tr>\n",
       "      <th id=\"T_497d4_level0_col0\" class=\"col_heading level0 col0\" >Version</th>\n",
       "      <th id=\"T_497d4_level0_col1\" class=\"col_heading level0 col1\" >1</th>\n",
       "    </tr>\n",
       "  </thead>\n",
       "  <tbody>\n",
       "    <tr>\n",
       "      <td id=\"T_497d4_row0_col0\" class=\"data row0 col0\" >Version Date</td>\n",
       "      <td id=\"T_497d4_row0_col1\" class=\"data row0 col1\" >01 Nov 2021</td>\n",
       "    </tr>\n",
       "    <tr>\n",
       "      <td id=\"T_497d4_row1_col0\" class=\"data row1 col0\" >Number of Variables</td>\n",
       "      <td id=\"T_497d4_row1_col1\" class=\"data row1 col1\" >12</td>\n",
       "    </tr>\n",
       "    <tr>\n",
       "      <td id=\"T_497d4_row2_col0\" class=\"data row2 col0\" >Number of Observations</td>\n",
       "      <td id=\"T_497d4_row2_col1\" class=\"data row2 col1\" >17196</td>\n",
       "    </tr>\n",
       "    <tr>\n",
       "      <td id=\"T_497d4_row3_col0\" class=\"data row3 col0\" >DOI</td>\n",
       "      <td id=\"T_497d4_row3_col1\" class=\"data row3 col1\" > <a href=\"https://doi.org/10.83126/ukllc-dataset-00116-01\" rel=\"noopener noreferrer\" target=\"_blank\">10.83126/ukllc-dataset-00116-01</a></td>\n",
       "    </tr>\n",
       "    <tr>\n",
       "      <td id=\"T_497d4_row4_col0\" class=\"data row4 col0\" >Change Log</td>\n",
       "      <td id=\"T_497d4_row4_col1\" class=\"data row4 col1\" > <a href=\"https://api.test.datacite.org/dois/10.83126/ukllc-dataset-00116-01/activities\" rel=\"noopener noreferrer\" target=\"_blank\">10.83126/ukllc-dataset-00116-01/activities</a></td>\n",
       "    </tr>\n",
       "  </tbody>\n",
       "</table>\n"
      ],
      "text/plain": [
       "<pandas.io.formats.style.Styler at 0x1dc1cd14ce0>"
      ]
     },
     "execution_count": 4,
     "metadata": {},
     "output_type": "execute_result"
    }
   ],
   "source": [
    "ds.version_history()"
   ]
  },
  {
   "cell_type": "markdown",
   "id": "c2bee477",
   "metadata": {},
   "source": [
    "## 3. Documentation"
   ]
  },
  {
   "cell_type": "code",
   "execution_count": 5,
   "id": "680eaba2",
   "metadata": {
    "execution": {
     "iopub.execute_input": "2025-07-17T14:45:57.808980Z",
     "iopub.status.busy": "2025-07-17T14:45:57.808980Z",
     "iopub.status.idle": "2025-07-17T14:45:57.821658Z",
     "shell.execute_reply": "2025-07-17T14:45:57.819617Z"
    },
    "tags": [
     "remove-input"
    ]
   },
   "outputs": [
    {
     "data": {
      "text/markdown": [
       "We are currently building a documentation storage system which will host useful documents related to datasets and data owners. We will surface these documents on Guidebook."
      ],
      "text/plain": [
       "<IPython.core.display.Markdown object>"
      ]
     },
     "metadata": {},
     "output_type": "display_data"
    }
   ],
   "source": [
    "ds.documentation()"
   ]
  },
  {
   "cell_type": "markdown",
   "id": "af46e8d7",
   "metadata": {},
   "source": [
    "## 4. Useful Syntax"
   ]
  },
  {
   "cell_type": "code",
   "execution_count": 6,
   "id": "5572244c",
   "metadata": {
    "execution": {
     "iopub.execute_input": "2025-07-17T14:45:57.830643Z",
     "iopub.status.busy": "2025-07-17T14:45:57.829643Z",
     "iopub.status.idle": "2025-07-17T14:45:57.843348Z",
     "shell.execute_reply": "2025-07-17T14:45:57.839319Z"
    },
    "tags": [
     "remove-input"
    ]
   },
   "outputs": [
    {
     "data": {
      "text/markdown": [
       "Below we will include syntax that may be helpful to other researchers in the UK LLC TRE. For longer scripts, we will include a snippet of the code plus a link to Git where you can find the full scripts."
      ],
      "text/plain": [
       "<IPython.core.display.Markdown object>"
      ]
     },
     "metadata": {},
     "output_type": "display_data"
    }
   ],
   "source": [
    "ds.useful_syntax()"
   ]
  }
 ],
 "metadata": {
  "language_info": {
   "codemirror_mode": {
    "name": "ipython",
    "version": 3
   },
   "file_extension": ".py",
   "mimetype": "text/x-python",
   "name": "python",
   "nbconvert_exporter": "python",
   "pygments_lexer": "ipython3",
   "version": "3.12.7"
  }
 },
 "nbformat": 4,
 "nbformat_minor": 5
}
