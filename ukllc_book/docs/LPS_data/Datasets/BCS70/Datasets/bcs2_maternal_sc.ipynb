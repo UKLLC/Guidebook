{
 "cells": [
  {
   "cell_type": "markdown",
   "id": "83e9dc47",
   "metadata": {},
   "source": [
    "# Age 5 Maternal Self-Completion (BCS70)"
   ]
  },
  {
   "cell_type": "code",
   "execution_count": 1,
   "id": "1775da6c",
   "metadata": {
    "execution": {
     "iopub.execute_input": "2025-07-28T18:27:57.600902Z",
     "iopub.status.busy": "2025-07-28T18:27:57.599903Z",
     "iopub.status.idle": "2025-07-28T18:28:09.822376Z",
     "shell.execute_reply": "2025-07-28T18:28:09.809335Z"
    },
    "tags": [
     "remove-input"
    ]
   },
   "outputs": [
    {
     "data": {
      "text/markdown": [
       ">Last modified: 28 Jul 2025"
      ],
      "text/plain": [
       "<IPython.core.display.Markdown object>"
      ]
     },
     "metadata": {},
     "output_type": "display_data"
    }
   ],
   "source": [
    "\n",
    "import sys\n",
    "import os\n",
    "sys.path.append(os.path.abspath('../../../../scripts/'))\n",
    "from data_doc_helper import LPSDataSet as DS, last_modified\n",
    "API_KEY = os.environ['FASTAPI_KEY']\n",
    "ds = DS(\"BCS70\", \"bcs2_maternal_sc\")\n",
    "last_modified()\n"
   ]
  },
  {
   "cell_type": "markdown",
   "id": "737754bb",
   "metadata": {},
   "source": [
    "## 1. Summary"
   ]
  },
  {
   "cell_type": "code",
   "execution_count": 2,
   "id": "a62d37d7",
   "metadata": {
    "execution": {
     "iopub.execute_input": "2025-07-28T18:28:09.839023Z",
     "iopub.status.busy": "2025-07-28T18:28:09.837983Z",
     "iopub.status.idle": "2025-07-28T18:28:09.851182Z",
     "shell.execute_reply": "2025-07-28T18:28:09.849164Z"
    },
    "tags": [
     "remove-input"
    ]
   },
   "outputs": [
    {
     "data": {
      "text/markdown": [
       "The Maternal Self-completion Questionnare (MSQ) was designed for completion by the mother herself. This was done mainly to reduce the effect of interviewer bias In completing the attitudinal data"
      ],
      "text/plain": [
       "<IPython.core.display.Markdown object>"
      ]
     },
     "metadata": {},
     "output_type": "display_data"
    }
   ],
   "source": [
    "ds.summary()"
   ]
  },
  {
   "cell_type": "code",
   "execution_count": 3,
   "id": "9c3758dc",
   "metadata": {
    "execution": {
     "iopub.execute_input": "2025-07-28T18:28:09.860841Z",
     "iopub.status.busy": "2025-07-28T18:28:09.858678Z",
     "iopub.status.idle": "2025-07-28T18:28:11.623275Z",
     "shell.execute_reply": "2025-07-28T18:28:11.622769Z"
    },
    "tags": [
     "remove-input"
    ]
   },
   "outputs": [
    {
     "data": {
      "text/html": [
       "<style type=\"text/css\">\n",
       "#T_bf0ff th {\n",
       "  text-align: left;\n",
       "}\n",
       "#T_bf0ff_row0_col0, #T_bf0ff_row0_col1, #T_bf0ff_row1_col0, #T_bf0ff_row1_col1, #T_bf0ff_row2_col0, #T_bf0ff_row2_col1, #T_bf0ff_row3_col0, #T_bf0ff_row3_col1, #T_bf0ff_row4_col0, #T_bf0ff_row4_col1, #T_bf0ff_row5_col0, #T_bf0ff_row5_col1, #T_bf0ff_row6_col0, #T_bf0ff_row6_col1, #T_bf0ff_row7_col0, #T_bf0ff_row7_col1, #T_bf0ff_row8_col0, #T_bf0ff_row8_col1, #T_bf0ff_row9_col0, #T_bf0ff_row9_col1, #T_bf0ff_row10_col0, #T_bf0ff_row10_col1, #T_bf0ff_row11_col0, #T_bf0ff_row11_col1, #T_bf0ff_row12_col0, #T_bf0ff_row12_col1 {\n",
       "  text-align: left;\n",
       "}\n",
       "</style>\n",
       "<table id=\"T_bf0ff\" style=\"font-size: 14px\">\n",
       "  <thead>\n",
       "    <tr>\n",
       "      <th id=\"T_bf0ff_level0_col0\" class=\"col_heading level0 col0\" >Dataset Descriptor</th>\n",
       "      <th id=\"T_bf0ff_level0_col1\" class=\"col_heading level0 col1\" >Dataset-specific Information</th>\n",
       "    </tr>\n",
       "  </thead>\n",
       "  <tbody>\n",
       "    <tr>\n",
       "      <td id=\"T_bf0ff_row0_col0\" class=\"data row0 col0\" >Name of Dataset in TRE</td>\n",
       "      <td id=\"T_bf0ff_row0_col1\" class=\"data row0 col1\" >BCS70_bcs2_maternal_sc</td>\n",
       "    </tr>\n",
       "    <tr>\n",
       "      <td id=\"T_bf0ff_row1_col0\" class=\"data row1 col0\" >Citation (APA)</td>\n",
       "      <td id=\"T_bf0ff_row1_col1\" class=\"data row1 col1\" >University College London, UCL Social Research Institute, Centre for Longitudinal Studies. (2021). <i>1970 British Cohort Study (BCS70): Age 5 Maternal Self-Completion.</i> UK Longitudinal Linkage Collaboration (UK LLC).  <a href=\"https://doi.org/10.71760/ukllc-dataset-00040-01\" rel=\"noopener noreferrer\" target=\"_blank\">https://doi.org/10.71760/ukllc-dataset-00040-01</a></td>\n",
       "    </tr>\n",
       "    <tr>\n",
       "      <td id=\"T_bf0ff_row2_col0\" class=\"data row2 col0\" >Download Citation</td>\n",
       "      <td id=\"T_bf0ff_row2_col1\" class=\"data row2 col1\" > <a href=\"https://api.datacite.org/application/vnd.citationstyles.csl+json/10.71760/ukllc-dataset-00040-01\" rel=\"noopener noreferrer\" target=\"_blank\">Citeproc JSON</a>&nbsp;&nbsp;&nbsp;&nbsp; <a href=\"https://api.datacite.org/application/x-bibtex/10.71760/ukllc-dataset-00040-01\" rel=\"noopener noreferrer\" target=\"_blank\">BibTeX</a>&nbsp;&nbsp;&nbsp;&nbsp; <a href=\"https://api.datacite.org/application/x-research-info-systems/10.71760/ukllc-dataset-00040-01\" rel=\"noopener noreferrer\" target=\"_blank\">RIS</a></td>\n",
       "    </tr>\n",
       "    <tr>\n",
       "      <td id=\"T_bf0ff_row3_col0\" class=\"data row3 col0\" >Series</td>\n",
       "      <td id=\"T_bf0ff_row3_col1\" class=\"data row3 col1\" > <a href=\"https://guidebook.ukllc.ac.uk/docs/lps_data/lps%20profiles/BCS70\">1970 British Cohort Study (BCS70)</a></td>\n",
       "    </tr>\n",
       "    <tr>\n",
       "      <td id=\"T_bf0ff_row4_col0\" class=\"data row4 col0\" >Owner</td>\n",
       "      <td id=\"T_bf0ff_row4_col1\" class=\"data row4 col1\" >UCL</td>\n",
       "    </tr>\n",
       "    <tr>\n",
       "      <td id=\"T_bf0ff_row5_col0\" class=\"data row5 col0\" >Temporal Coverage</td>\n",
       "      <td id=\"T_bf0ff_row5_col1\" class=\"data row5 col1\" >04/1975 - 04/1976</td>\n",
       "    </tr>\n",
       "    <tr>\n",
       "      <td id=\"T_bf0ff_row6_col0\" class=\"data row6 col0\" >Keywords</td>\n",
       "      <td id=\"T_bf0ff_row6_col1\" class=\"data row6 col1\" >Family Life,Health,attitudes,Child development</td>\n",
       "    </tr>\n",
       "    <tr>\n",
       "      <td id=\"T_bf0ff_row7_col0\" class=\"data row7 col0\" >Participants Invited</td>\n",
       "      <td id=\"T_bf0ff_row7_col1\" class=\"data row7 col1\" >13135</td>\n",
       "    </tr>\n",
       "    <tr>\n",
       "      <td id=\"T_bf0ff_row8_col0\" class=\"data row8 col0\" >Participant Count</td>\n",
       "      <td id=\"T_bf0ff_row8_col1\" class=\"data row8 col1\" >7026</td>\n",
       "    </tr>\n",
       "    <tr>\n",
       "      <td id=\"T_bf0ff_row9_col0\" class=\"data row9 col0\" >Number of variables</td>\n",
       "      <td id=\"T_bf0ff_row9_col1\" class=\"data row9 col1\" >133</td>\n",
       "    </tr>\n",
       "    <tr>\n",
       "      <td id=\"T_bf0ff_row10_col0\" class=\"data row10 col0\" >Number of observations</td>\n",
       "      <td id=\"T_bf0ff_row10_col1\" class=\"data row10 col1\" >13135</td>\n",
       "    </tr>\n",
       "    <tr>\n",
       "      <td id=\"T_bf0ff_row11_col0\" class=\"data row11 col0\" >Specific Restrictions to Data Use</td>\n",
       "      <td id=\"T_bf0ff_row11_col1\" class=\"data row11 col1\" >None</td>\n",
       "    </tr>\n",
       "    <tr>\n",
       "      <td id=\"T_bf0ff_row12_col0\" class=\"data row12 col0\" >Build a Data Request</td>\n",
       "      <td id=\"T_bf0ff_row12_col1\" class=\"data row12 col1\" > <a href=\"https://explore.ukllc.ac.uk/\" rel=\"noopener noreferrer\" target=\"_blank\">https://explore.ukllc.ac.uk/</a></td>\n",
       "    </tr>\n",
       "  </tbody>\n",
       "</table>\n"
      ],
      "text/plain": [
       "<pandas.io.formats.style.Styler at 0x27498afa630>"
      ]
     },
     "execution_count": 3,
     "metadata": {},
     "output_type": "execute_result"
    }
   ],
   "source": [
    "ds.info_table()"
   ]
  },
  {
   "cell_type": "markdown",
   "id": "458d52f1",
   "metadata": {},
   "source": [
    "## 2. Version History"
   ]
  },
  {
   "cell_type": "code",
   "execution_count": 4,
   "id": "9243bb3a",
   "metadata": {
    "execution": {
     "iopub.execute_input": "2025-07-28T18:28:11.632293Z",
     "iopub.status.busy": "2025-07-28T18:28:11.628282Z",
     "iopub.status.idle": "2025-07-28T18:28:17.131741Z",
     "shell.execute_reply": "2025-07-28T18:28:17.129213Z"
    },
    "tags": [
     "remove-input"
    ]
   },
   "outputs": [
    {
     "data": {
      "text/html": [
       "<style type=\"text/css\">\n",
       "#T_2030c th {\n",
       "  text-align: left;\n",
       "}\n",
       "#T_2030c_row0_col0, #T_2030c_row0_col1, #T_2030c_row1_col0, #T_2030c_row1_col1, #T_2030c_row2_col0, #T_2030c_row2_col1, #T_2030c_row3_col0, #T_2030c_row3_col1, #T_2030c_row4_col0, #T_2030c_row4_col1 {\n",
       "  text-align: left;\n",
       "}\n",
       "</style>\n",
       "<table id=\"T_2030c\" style=\"font-size: 14px\">\n",
       "  <thead>\n",
       "    <tr>\n",
       "      <th id=\"T_2030c_level0_col0\" class=\"col_heading level0 col0\" >Version</th>\n",
       "      <th id=\"T_2030c_level0_col1\" class=\"col_heading level0 col1\" >1</th>\n",
       "    </tr>\n",
       "  </thead>\n",
       "  <tbody>\n",
       "    <tr>\n",
       "      <td id=\"T_2030c_row0_col0\" class=\"data row0 col0\" >Version Date</td>\n",
       "      <td id=\"T_2030c_row0_col1\" class=\"data row0 col1\" >01 Nov 2021</td>\n",
       "    </tr>\n",
       "    <tr>\n",
       "      <td id=\"T_2030c_row1_col0\" class=\"data row1 col0\" >Number of Variables</td>\n",
       "      <td id=\"T_2030c_row1_col1\" class=\"data row1 col1\" >133</td>\n",
       "    </tr>\n",
       "    <tr>\n",
       "      <td id=\"T_2030c_row2_col0\" class=\"data row2 col0\" >Number of Observations</td>\n",
       "      <td id=\"T_2030c_row2_col1\" class=\"data row2 col1\" >13135</td>\n",
       "    </tr>\n",
       "    <tr>\n",
       "      <td id=\"T_2030c_row3_col0\" class=\"data row3 col0\" >DOI</td>\n",
       "      <td id=\"T_2030c_row3_col1\" class=\"data row3 col1\" > <a href=\"https://doi.org/10.71760/ukllc-dataset-00040-01\" rel=\"noopener noreferrer\" target=\"_blank\">10.71760/ukllc-dataset-00040-01</a></td>\n",
       "    </tr>\n",
       "    <tr>\n",
       "      <td id=\"T_2030c_row4_col0\" class=\"data row4 col0\" >Change Log</td>\n",
       "      <td id=\"T_2030c_row4_col1\" class=\"data row4 col1\" > <a href=\"https://api.test.datacite.org/dois/10.71760/ukllc-dataset-00040-01/activities\" rel=\"noopener noreferrer\" target=\"_blank\">10.71760/ukllc-dataset-00040-01/activities</a></td>\n",
       "    </tr>\n",
       "  </tbody>\n",
       "</table>\n"
      ],
      "text/plain": [
       "<pandas.io.formats.style.Styler at 0x2749a9ea120>"
      ]
     },
     "execution_count": 4,
     "metadata": {},
     "output_type": "execute_result"
    }
   ],
   "source": [
    "ds.version_history()"
   ]
  },
  {
   "cell_type": "markdown",
   "id": "76ed3547",
   "metadata": {},
   "source": [
    "## 3. Documentation"
   ]
  },
  {
   "cell_type": "code",
   "execution_count": 5,
   "id": "8ca94c1b",
   "metadata": {
    "execution": {
     "iopub.execute_input": "2025-07-28T18:28:17.141030Z",
     "iopub.status.busy": "2025-07-28T18:28:17.140031Z",
     "iopub.status.idle": "2025-07-28T18:28:17.153837Z",
     "shell.execute_reply": "2025-07-28T18:28:17.152306Z"
    },
    "tags": [
     "remove-input"
    ]
   },
   "outputs": [
    {
     "data": {
      "text/markdown": [
       "We are currently building a documentation storage system which will host useful documents related to datasets and data owners. We will surface these documents on Guidebook."
      ],
      "text/plain": [
       "<IPython.core.display.Markdown object>"
      ]
     },
     "metadata": {},
     "output_type": "display_data"
    }
   ],
   "source": [
    "ds.documentation()"
   ]
  },
  {
   "cell_type": "markdown",
   "id": "4b44beee",
   "metadata": {},
   "source": [
    "## 4. Useful Syntax"
   ]
  },
  {
   "cell_type": "code",
   "execution_count": 6,
   "id": "8ff2ae14",
   "metadata": {
    "execution": {
     "iopub.execute_input": "2025-07-28T18:28:17.161316Z",
     "iopub.status.busy": "2025-07-28T18:28:17.160300Z",
     "iopub.status.idle": "2025-07-28T18:28:17.168547Z",
     "shell.execute_reply": "2025-07-28T18:28:17.167843Z"
    },
    "tags": [
     "remove-input"
    ]
   },
   "outputs": [
    {
     "data": {
      "text/markdown": [
       "Below we will include syntax that may be helpful to other researchers in the UK LLC TRE. For longer scripts, we will include a snippet of the code plus a link to Git where you can find the full scripts."
      ],
      "text/plain": [
       "<IPython.core.display.Markdown object>"
      ]
     },
     "metadata": {},
     "output_type": "display_data"
    }
   ],
   "source": [
    "ds.useful_syntax()"
   ]
  }
 ],
 "metadata": {
  "language_info": {
   "codemirror_mode": {
    "name": "ipython",
    "version": 3
   },
   "file_extension": ".py",
   "mimetype": "text/x-python",
   "name": "python",
   "nbconvert_exporter": "python",
   "pygments_lexer": "ipython3",
   "version": "3.12.7"
  }
 },
 "nbformat": 4,
 "nbformat_minor": 5
}
