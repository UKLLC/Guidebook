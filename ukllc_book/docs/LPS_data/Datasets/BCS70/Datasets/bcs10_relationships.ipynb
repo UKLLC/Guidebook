{
 "cells": [
  {
   "cell_type": "markdown",
   "id": "4a15f7d1",
   "metadata": {},
   "source": [
    "# Age 46 Relationships (BCS70)"
   ]
  },
  {
   "cell_type": "code",
   "execution_count": 1,
   "id": "01b082b3",
   "metadata": {
    "execution": {
     "iopub.execute_input": "2025-07-28T18:25:07.977291Z",
     "iopub.status.busy": "2025-07-28T18:25:07.977291Z",
     "iopub.status.idle": "2025-07-28T18:25:22.765315Z",
     "shell.execute_reply": "2025-07-28T18:25:22.763783Z"
    },
    "tags": [
     "remove-input"
    ]
   },
   "outputs": [
    {
     "data": {
      "text/markdown": [
       ">Last modified: 28 Jul 2025"
      ],
      "text/plain": [
       "<IPython.core.display.Markdown object>"
      ]
     },
     "metadata": {},
     "output_type": "display_data"
    }
   ],
   "source": [
    "\n",
    "import sys\n",
    "import os\n",
    "sys.path.append(os.path.abspath('../../../../scripts/'))\n",
    "from data_doc_helper import LPSDataSet as DS, last_modified\n",
    "API_KEY = os.environ['FASTAPI_KEY']\n",
    "ds = DS(\"BCS70\", \"bcs10_relationships\")\n",
    "last_modified()\n"
   ]
  },
  {
   "cell_type": "markdown",
   "id": "92b4d85f",
   "metadata": {},
   "source": [
    "## 1. Summary"
   ]
  },
  {
   "cell_type": "code",
   "execution_count": 2,
   "id": "b0ac089d",
   "metadata": {
    "execution": {
     "iopub.execute_input": "2025-07-28T18:25:22.774316Z",
     "iopub.status.busy": "2025-07-28T18:25:22.773314Z",
     "iopub.status.idle": "2025-07-28T18:25:22.788590Z",
     "shell.execute_reply": "2025-07-28T18:25:22.786426Z"
    },
    "tags": [
     "remove-input"
    ]
   },
   "outputs": [
    {
     "data": {
      "text/markdown": [
       "Relationship histories since last sweep / 2004 (whichever is more recent). Includes details on partner sex, marital status, start and end dates"
      ],
      "text/plain": [
       "<IPython.core.display.Markdown object>"
      ]
     },
     "metadata": {},
     "output_type": "display_data"
    }
   ],
   "source": [
    "ds.summary()"
   ]
  },
  {
   "cell_type": "code",
   "execution_count": 3,
   "id": "83500302",
   "metadata": {
    "execution": {
     "iopub.execute_input": "2025-07-28T18:25:22.795725Z",
     "iopub.status.busy": "2025-07-28T18:25:22.794373Z",
     "iopub.status.idle": "2025-07-28T18:25:24.398168Z",
     "shell.execute_reply": "2025-07-28T18:25:24.397150Z"
    },
    "tags": [
     "remove-input"
    ]
   },
   "outputs": [
    {
     "data": {
      "text/html": [
       "<style type=\"text/css\">\n",
       "#T_7a883 th {\n",
       "  text-align: left;\n",
       "}\n",
       "#T_7a883_row0_col0, #T_7a883_row0_col1, #T_7a883_row1_col0, #T_7a883_row1_col1, #T_7a883_row2_col0, #T_7a883_row2_col1, #T_7a883_row3_col0, #T_7a883_row3_col1, #T_7a883_row4_col0, #T_7a883_row4_col1, #T_7a883_row5_col0, #T_7a883_row5_col1, #T_7a883_row6_col0, #T_7a883_row6_col1, #T_7a883_row7_col0, #T_7a883_row7_col1, #T_7a883_row8_col0, #T_7a883_row8_col1, #T_7a883_row9_col0, #T_7a883_row9_col1, #T_7a883_row10_col0, #T_7a883_row10_col1, #T_7a883_row11_col0, #T_7a883_row11_col1, #T_7a883_row12_col0, #T_7a883_row12_col1 {\n",
       "  text-align: left;\n",
       "}\n",
       "</style>\n",
       "<table id=\"T_7a883\" style=\"font-size: 14px\">\n",
       "  <thead>\n",
       "    <tr>\n",
       "      <th id=\"T_7a883_level0_col0\" class=\"col_heading level0 col0\" >Dataset Descriptor</th>\n",
       "      <th id=\"T_7a883_level0_col1\" class=\"col_heading level0 col1\" >Dataset-specific Information</th>\n",
       "    </tr>\n",
       "  </thead>\n",
       "  <tbody>\n",
       "    <tr>\n",
       "      <td id=\"T_7a883_row0_col0\" class=\"data row0 col0\" >Name of Dataset in TRE</td>\n",
       "      <td id=\"T_7a883_row0_col1\" class=\"data row0 col1\" >BCS70_bcs10_relationships</td>\n",
       "    </tr>\n",
       "    <tr>\n",
       "      <td id=\"T_7a883_row1_col0\" class=\"data row1 col0\" >Citation (APA)</td>\n",
       "      <td id=\"T_7a883_row1_col1\" class=\"data row1 col1\" >University College London, UCL Social Research Institute, Centre for Longitudinal Studies. (2021). <i>1970 British Cohort Study (BCS70): Age 46 Relationships.</i> UK Longitudinal Linkage Collaboration (UK LLC).  <a href=\"https://doi.org/10.71760/ukllc-dataset-00032-01\" rel=\"noopener noreferrer\" target=\"_blank\">https://doi.org/10.71760/ukllc-dataset-00032-01</a></td>\n",
       "    </tr>\n",
       "    <tr>\n",
       "      <td id=\"T_7a883_row2_col0\" class=\"data row2 col0\" >Download Citation</td>\n",
       "      <td id=\"T_7a883_row2_col1\" class=\"data row2 col1\" > <a href=\"https://api.datacite.org/application/vnd.citationstyles.csl+json/10.71760/ukllc-dataset-00032-01\" rel=\"noopener noreferrer\" target=\"_blank\">Citeproc JSON</a>&nbsp;&nbsp;&nbsp;&nbsp; <a href=\"https://api.datacite.org/application/x-bibtex/10.71760/ukllc-dataset-00032-01\" rel=\"noopener noreferrer\" target=\"_blank\">BibTeX</a>&nbsp;&nbsp;&nbsp;&nbsp; <a href=\"https://api.datacite.org/application/x-research-info-systems/10.71760/ukllc-dataset-00032-01\" rel=\"noopener noreferrer\" target=\"_blank\">RIS</a></td>\n",
       "    </tr>\n",
       "    <tr>\n",
       "      <td id=\"T_7a883_row3_col0\" class=\"data row3 col0\" >Series</td>\n",
       "      <td id=\"T_7a883_row3_col1\" class=\"data row3 col1\" > <a href=\"https://guidebook.ukllc.ac.uk/docs/lps_data/lps%20profiles/BCS70\">1970 British Cohort Study (BCS70)</a></td>\n",
       "    </tr>\n",
       "    <tr>\n",
       "      <td id=\"T_7a883_row4_col0\" class=\"data row4 col0\" >Owner</td>\n",
       "      <td id=\"T_7a883_row4_col1\" class=\"data row4 col1\" >UCL</td>\n",
       "    </tr>\n",
       "    <tr>\n",
       "      <td id=\"T_7a883_row5_col0\" class=\"data row5 col0\" >Temporal Coverage</td>\n",
       "      <td id=\"T_7a883_row5_col1\" class=\"data row5 col1\" >04/2004 - 04/2018</td>\n",
       "    </tr>\n",
       "    <tr>\n",
       "      <td id=\"T_7a883_row6_col0\" class=\"data row6 col0\" >Keywords</td>\n",
       "      <td id=\"T_7a883_row6_col1\" class=\"data row6 col1\" >Marriage,Dates,Cohabitation,Divorce</td>\n",
       "    </tr>\n",
       "    <tr>\n",
       "      <td id=\"T_7a883_row7_col0\" class=\"data row7 col0\" >Participants Invited</td>\n",
       "      <td id=\"T_7a883_row7_col1\" class=\"data row7 col1\" >8581</td>\n",
       "    </tr>\n",
       "    <tr>\n",
       "      <td id=\"T_7a883_row8_col0\" class=\"data row8 col0\" >Participant Count</td>\n",
       "      <td id=\"T_7a883_row8_col1\" class=\"data row8 col1\" >6993</td>\n",
       "    </tr>\n",
       "    <tr>\n",
       "      <td id=\"T_7a883_row9_col0\" class=\"data row9 col0\" >Number of variables</td>\n",
       "      <td id=\"T_7a883_row9_col1\" class=\"data row9 col1\" >33</td>\n",
       "    </tr>\n",
       "    <tr>\n",
       "      <td id=\"T_7a883_row10_col0\" class=\"data row10 col0\" >Number of observations</td>\n",
       "      <td id=\"T_7a883_row10_col1\" class=\"data row10 col1\" >9518</td>\n",
       "    </tr>\n",
       "    <tr>\n",
       "      <td id=\"T_7a883_row11_col0\" class=\"data row11 col0\" >Specific Restrictions to Data Use</td>\n",
       "      <td id=\"T_7a883_row11_col1\" class=\"data row11 col1\" >None</td>\n",
       "    </tr>\n",
       "    <tr>\n",
       "      <td id=\"T_7a883_row12_col0\" class=\"data row12 col0\" >Build a Data Request</td>\n",
       "      <td id=\"T_7a883_row12_col1\" class=\"data row12 col1\" > <a href=\"https://explore.ukllc.ac.uk/\" rel=\"noopener noreferrer\" target=\"_blank\">https://explore.ukllc.ac.uk/</a></td>\n",
       "    </tr>\n",
       "  </tbody>\n",
       "</table>\n"
      ],
      "text/plain": [
       "<pandas.io.formats.style.Styler at 0x234643f6e40>"
      ]
     },
     "execution_count": 3,
     "metadata": {},
     "output_type": "execute_result"
    }
   ],
   "source": [
    "ds.info_table()"
   ]
  },
  {
   "cell_type": "markdown",
   "id": "aaa39570",
   "metadata": {},
   "source": [
    "## 2. Version History"
   ]
  },
  {
   "cell_type": "code",
   "execution_count": 4,
   "id": "91b81edc",
   "metadata": {
    "execution": {
     "iopub.execute_input": "2025-07-28T18:25:24.406161Z",
     "iopub.status.busy": "2025-07-28T18:25:24.405168Z",
     "iopub.status.idle": "2025-07-28T18:25:29.755512Z",
     "shell.execute_reply": "2025-07-28T18:25:29.754503Z"
    },
    "tags": [
     "remove-input"
    ]
   },
   "outputs": [
    {
     "data": {
      "text/html": [
       "<style type=\"text/css\">\n",
       "#T_10646 th {\n",
       "  text-align: left;\n",
       "}\n",
       "#T_10646_row0_col0, #T_10646_row0_col1, #T_10646_row1_col0, #T_10646_row1_col1, #T_10646_row2_col0, #T_10646_row2_col1, #T_10646_row3_col0, #T_10646_row3_col1, #T_10646_row4_col0, #T_10646_row4_col1 {\n",
       "  text-align: left;\n",
       "}\n",
       "</style>\n",
       "<table id=\"T_10646\" style=\"font-size: 14px\">\n",
       "  <thead>\n",
       "    <tr>\n",
       "      <th id=\"T_10646_level0_col0\" class=\"col_heading level0 col0\" >Version</th>\n",
       "      <th id=\"T_10646_level0_col1\" class=\"col_heading level0 col1\" >1</th>\n",
       "    </tr>\n",
       "  </thead>\n",
       "  <tbody>\n",
       "    <tr>\n",
       "      <td id=\"T_10646_row0_col0\" class=\"data row0 col0\" >Version Date</td>\n",
       "      <td id=\"T_10646_row0_col1\" class=\"data row0 col1\" >01 Nov 2021</td>\n",
       "    </tr>\n",
       "    <tr>\n",
       "      <td id=\"T_10646_row1_col0\" class=\"data row1 col0\" >Number of Variables</td>\n",
       "      <td id=\"T_10646_row1_col1\" class=\"data row1 col1\" >33</td>\n",
       "    </tr>\n",
       "    <tr>\n",
       "      <td id=\"T_10646_row2_col0\" class=\"data row2 col0\" >Number of Observations</td>\n",
       "      <td id=\"T_10646_row2_col1\" class=\"data row2 col1\" >9518</td>\n",
       "    </tr>\n",
       "    <tr>\n",
       "      <td id=\"T_10646_row3_col0\" class=\"data row3 col0\" >DOI</td>\n",
       "      <td id=\"T_10646_row3_col1\" class=\"data row3 col1\" > <a href=\"https://doi.org/10.71760/ukllc-dataset-00032-01\" rel=\"noopener noreferrer\" target=\"_blank\">10.71760/ukllc-dataset-00032-01</a></td>\n",
       "    </tr>\n",
       "    <tr>\n",
       "      <td id=\"T_10646_row4_col0\" class=\"data row4 col0\" >Change Log</td>\n",
       "      <td id=\"T_10646_row4_col1\" class=\"data row4 col1\" > <a href=\"https://api.test.datacite.org/dois/10.71760/ukllc-dataset-00032-01/activities\" rel=\"noopener noreferrer\" target=\"_blank\">10.71760/ukllc-dataset-00032-01/activities</a></td>\n",
       "    </tr>\n",
       "  </tbody>\n",
       "</table>\n"
      ],
      "text/plain": [
       "<pandas.io.formats.style.Styler at 0x23464461a90>"
      ]
     },
     "execution_count": 4,
     "metadata": {},
     "output_type": "execute_result"
    }
   ],
   "source": [
    "ds.version_history()"
   ]
  },
  {
   "cell_type": "markdown",
   "id": "16b548bd",
   "metadata": {},
   "source": [
    "## 3. Documentation"
   ]
  },
  {
   "cell_type": "code",
   "execution_count": 5,
   "id": "e765ba08",
   "metadata": {
    "execution": {
     "iopub.execute_input": "2025-07-28T18:25:29.762520Z",
     "iopub.status.busy": "2025-07-28T18:25:29.762520Z",
     "iopub.status.idle": "2025-07-28T18:25:29.774198Z",
     "shell.execute_reply": "2025-07-28T18:25:29.772627Z"
    },
    "tags": [
     "remove-input"
    ]
   },
   "outputs": [
    {
     "data": {
      "text/markdown": [
       "We are currently building a documentation storage system which will host useful documents related to datasets and data owners. We will surface these documents on Guidebook."
      ],
      "text/plain": [
       "<IPython.core.display.Markdown object>"
      ]
     },
     "metadata": {},
     "output_type": "display_data"
    }
   ],
   "source": [
    "ds.documentation()"
   ]
  },
  {
   "cell_type": "markdown",
   "id": "6707559e",
   "metadata": {},
   "source": [
    "## 4. Useful Syntax"
   ]
  },
  {
   "cell_type": "code",
   "execution_count": 6,
   "id": "740167da",
   "metadata": {
    "execution": {
     "iopub.execute_input": "2025-07-28T18:25:29.782626Z",
     "iopub.status.busy": "2025-07-28T18:25:29.782626Z",
     "iopub.status.idle": "2025-07-28T18:25:29.793552Z",
     "shell.execute_reply": "2025-07-28T18:25:29.792144Z"
    },
    "tags": [
     "remove-input"
    ]
   },
   "outputs": [
    {
     "data": {
      "text/markdown": [
       "Below we will include syntax that may be helpful to other researchers in the UK LLC TRE. For longer scripts, we will include a snippet of the code plus a link to Git where you can find the full scripts."
      ],
      "text/plain": [
       "<IPython.core.display.Markdown object>"
      ]
     },
     "metadata": {},
     "output_type": "display_data"
    }
   ],
   "source": [
    "ds.useful_syntax()"
   ]
  }
 ],
 "metadata": {
  "kernelspec": {
   "display_name": "jupbook",
   "language": "python",
   "name": "python3"
  },
  "language_info": {
   "codemirror_mode": {
    "name": "ipython",
    "version": 3
   },
   "file_extension": ".py",
   "mimetype": "text/x-python",
   "name": "python",
   "nbconvert_exporter": "python",
   "pygments_lexer": "ipython3",
   "version": "3.13.2"
  }
 },
 "nbformat": 4,
 "nbformat_minor": 5
}
