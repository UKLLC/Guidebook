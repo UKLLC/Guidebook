{
 "cells": [
  {
   "cell_type": "markdown",
   "id": "23396dd8",
   "metadata": {},
   "source": [
    "# Age 5 Development History (BCS70)"
   ]
  },
  {
   "cell_type": "code",
   "execution_count": 1,
   "id": "8f776aa5",
   "metadata": {
    "execution": {
     "iopub.execute_input": "2025-07-28T18:27:35.423311Z",
     "iopub.status.busy": "2025-07-28T18:27:35.422312Z",
     "iopub.status.idle": "2025-07-28T18:27:47.894924Z",
     "shell.execute_reply": "2025-07-28T18:27:47.892907Z"
    },
    "tags": [
     "remove-input"
    ]
   },
   "outputs": [
    {
     "data": {
      "text/markdown": [
       ">Last modified: 28 Jul 2025"
      ],
      "text/plain": [
       "<IPython.core.display.Markdown object>"
      ]
     },
     "metadata": {},
     "output_type": "display_data"
    }
   ],
   "source": [
    "\n",
    "import sys\n",
    "import os\n",
    "sys.path.append(os.path.abspath('../../../../scripts/'))\n",
    "from data_doc_helper import LPSDataSet as DS, last_modified\n",
    "API_KEY = os.environ['FASTAPI_KEY']\n",
    "ds = DS(\"BCS70\", \"bcs2_history\")\n",
    "last_modified()\n"
   ]
  },
  {
   "cell_type": "markdown",
   "id": "7fbdca9c",
   "metadata": {},
   "source": [
    "## 1. Summary"
   ]
  },
  {
   "cell_type": "code",
   "execution_count": 2,
   "id": "a895ec22",
   "metadata": {
    "execution": {
     "iopub.execute_input": "2025-07-28T18:27:47.905618Z",
     "iopub.status.busy": "2025-07-28T18:27:47.903616Z",
     "iopub.status.idle": "2025-07-28T18:27:47.916394Z",
     "shell.execute_reply": "2025-07-28T18:27:47.914384Z"
    },
    "tags": [
     "remove-input"
    ]
   },
   "outputs": [
    {
     "data": {
      "text/markdown": [
       "The Developmental History Schedule (DHS) was designed to obtain information from child health records. Details of developmental screening throughout the preschool period were\n",
       "obtained by reference to child health clinic and health visitor records where these were available. The DHS was designed to obtain data on the utilisation by the study child of child health clinics, health visiting facilities, developmental screening tests and other important aspects of the community health services. It was completed by the Health Visitor carrying out the Home Interview (HIQ)"
      ],
      "text/plain": [
       "<IPython.core.display.Markdown object>"
      ]
     },
     "metadata": {},
     "output_type": "display_data"
    }
   ],
   "source": [
    "ds.summary()"
   ]
  },
  {
   "cell_type": "code",
   "execution_count": 3,
   "id": "81da1fb3",
   "metadata": {
    "execution": {
     "iopub.execute_input": "2025-07-28T18:27:47.926394Z",
     "iopub.status.busy": "2025-07-28T18:27:47.925393Z",
     "iopub.status.idle": "2025-07-28T18:27:49.737130Z",
     "shell.execute_reply": "2025-07-28T18:27:49.735594Z"
    },
    "tags": [
     "remove-input"
    ]
   },
   "outputs": [
    {
     "data": {
      "text/html": [
       "<style type=\"text/css\">\n",
       "#T_6f65e th {\n",
       "  text-align: left;\n",
       "}\n",
       "#T_6f65e_row0_col0, #T_6f65e_row0_col1, #T_6f65e_row1_col0, #T_6f65e_row1_col1, #T_6f65e_row2_col0, #T_6f65e_row2_col1, #T_6f65e_row3_col0, #T_6f65e_row3_col1, #T_6f65e_row4_col0, #T_6f65e_row4_col1, #T_6f65e_row5_col0, #T_6f65e_row5_col1, #T_6f65e_row6_col0, #T_6f65e_row6_col1, #T_6f65e_row7_col0, #T_6f65e_row7_col1, #T_6f65e_row8_col0, #T_6f65e_row8_col1, #T_6f65e_row9_col0, #T_6f65e_row9_col1, #T_6f65e_row10_col0, #T_6f65e_row10_col1, #T_6f65e_row11_col0, #T_6f65e_row11_col1, #T_6f65e_row12_col0, #T_6f65e_row12_col1 {\n",
       "  text-align: left;\n",
       "}\n",
       "</style>\n",
       "<table id=\"T_6f65e\" style=\"font-size: 14px\">\n",
       "  <thead>\n",
       "    <tr>\n",
       "      <th id=\"T_6f65e_level0_col0\" class=\"col_heading level0 col0\" >Dataset Descriptor</th>\n",
       "      <th id=\"T_6f65e_level0_col1\" class=\"col_heading level0 col1\" >Dataset-specific Information</th>\n",
       "    </tr>\n",
       "  </thead>\n",
       "  <tbody>\n",
       "    <tr>\n",
       "      <td id=\"T_6f65e_row0_col0\" class=\"data row0 col0\" >Name of Dataset in TRE</td>\n",
       "      <td id=\"T_6f65e_row0_col1\" class=\"data row0 col1\" >BCS70_bcs2_history</td>\n",
       "    </tr>\n",
       "    <tr>\n",
       "      <td id=\"T_6f65e_row1_col0\" class=\"data row1 col0\" >Citation (APA)</td>\n",
       "      <td id=\"T_6f65e_row1_col1\" class=\"data row1 col1\" >University College London, UCL Social Research Institute, Centre for Longitudinal Studies. (2021). <i>1970 British Cohort Study (BCS70): Age 5 Development History.</i> UK Longitudinal Linkage Collaboration (UK LLC).  <a href=\"https://doi.org/10.71760/ukllc-dataset-00039-01\" rel=\"noopener noreferrer\" target=\"_blank\">https://doi.org/10.71760/ukllc-dataset-00039-01</a></td>\n",
       "    </tr>\n",
       "    <tr>\n",
       "      <td id=\"T_6f65e_row2_col0\" class=\"data row2 col0\" >Download Citation</td>\n",
       "      <td id=\"T_6f65e_row2_col1\" class=\"data row2 col1\" > <a href=\"https://api.datacite.org/application/vnd.citationstyles.csl+json/10.71760/ukllc-dataset-00039-01\" rel=\"noopener noreferrer\" target=\"_blank\">Citeproc JSON</a>&nbsp;&nbsp;&nbsp;&nbsp; <a href=\"https://api.datacite.org/application/x-bibtex/10.71760/ukllc-dataset-00039-01\" rel=\"noopener noreferrer\" target=\"_blank\">BibTeX</a>&nbsp;&nbsp;&nbsp;&nbsp; <a href=\"https://api.datacite.org/application/x-research-info-systems/10.71760/ukllc-dataset-00039-01\" rel=\"noopener noreferrer\" target=\"_blank\">RIS</a></td>\n",
       "    </tr>\n",
       "    <tr>\n",
       "      <td id=\"T_6f65e_row3_col0\" class=\"data row3 col0\" >Series</td>\n",
       "      <td id=\"T_6f65e_row3_col1\" class=\"data row3 col1\" > <a href=\"https://guidebook.ukllc.ac.uk/docs/lps_data/lps%20profiles/BCS70\">1970 British Cohort Study (BCS70)</a></td>\n",
       "    </tr>\n",
       "    <tr>\n",
       "      <td id=\"T_6f65e_row4_col0\" class=\"data row4 col0\" >Owner</td>\n",
       "      <td id=\"T_6f65e_row4_col1\" class=\"data row4 col1\" >UCL</td>\n",
       "    </tr>\n",
       "    <tr>\n",
       "      <td id=\"T_6f65e_row5_col0\" class=\"data row5 col0\" >Temporal Coverage</td>\n",
       "      <td id=\"T_6f65e_row5_col1\" class=\"data row5 col1\" >04/1975 - 04/1976</td>\n",
       "    </tr>\n",
       "    <tr>\n",
       "      <td id=\"T_6f65e_row6_col0\" class=\"data row6 col0\" >Keywords</td>\n",
       "      <td id=\"T_6f65e_row6_col1\" class=\"data row6 col1\" >Family Life,Health,employment,attitudes,Social mobility</td>\n",
       "    </tr>\n",
       "    <tr>\n",
       "      <td id=\"T_6f65e_row7_col0\" class=\"data row7 col0\" >Participants Invited</td>\n",
       "      <td id=\"T_6f65e_row7_col1\" class=\"data row7 col1\" >13135</td>\n",
       "    </tr>\n",
       "    <tr>\n",
       "      <td id=\"T_6f65e_row8_col0\" class=\"data row8 col0\" >Participant Count</td>\n",
       "      <td id=\"T_6f65e_row8_col1\" class=\"data row8 col1\" >7026</td>\n",
       "    </tr>\n",
       "    <tr>\n",
       "      <td id=\"T_6f65e_row9_col0\" class=\"data row9 col0\" >Number of variables</td>\n",
       "      <td id=\"T_6f65e_row9_col1\" class=\"data row9 col1\" >198</td>\n",
       "    </tr>\n",
       "    <tr>\n",
       "      <td id=\"T_6f65e_row10_col0\" class=\"data row10 col0\" >Number of observations</td>\n",
       "      <td id=\"T_6f65e_row10_col1\" class=\"data row10 col1\" >13135</td>\n",
       "    </tr>\n",
       "    <tr>\n",
       "      <td id=\"T_6f65e_row11_col0\" class=\"data row11 col0\" >Specific Restrictions to Data Use</td>\n",
       "      <td id=\"T_6f65e_row11_col1\" class=\"data row11 col1\" >None</td>\n",
       "    </tr>\n",
       "    <tr>\n",
       "      <td id=\"T_6f65e_row12_col0\" class=\"data row12 col0\" >Build a Data Request</td>\n",
       "      <td id=\"T_6f65e_row12_col1\" class=\"data row12 col1\" > <a href=\"https://explore.ukllc.ac.uk/\" rel=\"noopener noreferrer\" target=\"_blank\">https://explore.ukllc.ac.uk/</a></td>\n",
       "    </tr>\n",
       "  </tbody>\n",
       "</table>\n"
      ],
      "text/plain": [
       "<pandas.io.formats.style.Styler at 0x2a5c2abb4d0>"
      ]
     },
     "execution_count": 3,
     "metadata": {},
     "output_type": "execute_result"
    }
   ],
   "source": [
    "ds.info_table()"
   ]
  },
  {
   "cell_type": "markdown",
   "id": "0ac6a5e6",
   "metadata": {},
   "source": [
    "## 2. Version History"
   ]
  },
  {
   "cell_type": "code",
   "execution_count": 4,
   "id": "6e2344c4",
   "metadata": {
    "execution": {
     "iopub.execute_input": "2025-07-28T18:27:49.745124Z",
     "iopub.status.busy": "2025-07-28T18:27:49.744124Z",
     "iopub.status.idle": "2025-07-28T18:27:54.540825Z",
     "shell.execute_reply": "2025-07-28T18:27:54.537714Z"
    },
    "tags": [
     "remove-input"
    ]
   },
   "outputs": [
    {
     "data": {
      "text/html": [
       "<style type=\"text/css\">\n",
       "#T_d6083 th {\n",
       "  text-align: left;\n",
       "}\n",
       "#T_d6083_row0_col0, #T_d6083_row0_col1, #T_d6083_row1_col0, #T_d6083_row1_col1, #T_d6083_row2_col0, #T_d6083_row2_col1, #T_d6083_row3_col0, #T_d6083_row3_col1, #T_d6083_row4_col0, #T_d6083_row4_col1 {\n",
       "  text-align: left;\n",
       "}\n",
       "</style>\n",
       "<table id=\"T_d6083\" style=\"font-size: 14px\">\n",
       "  <thead>\n",
       "    <tr>\n",
       "      <th id=\"T_d6083_level0_col0\" class=\"col_heading level0 col0\" >Version</th>\n",
       "      <th id=\"T_d6083_level0_col1\" class=\"col_heading level0 col1\" >1</th>\n",
       "    </tr>\n",
       "  </thead>\n",
       "  <tbody>\n",
       "    <tr>\n",
       "      <td id=\"T_d6083_row0_col0\" class=\"data row0 col0\" >Version Date</td>\n",
       "      <td id=\"T_d6083_row0_col1\" class=\"data row0 col1\" >01 Nov 2021</td>\n",
       "    </tr>\n",
       "    <tr>\n",
       "      <td id=\"T_d6083_row1_col0\" class=\"data row1 col0\" >Number of Variables</td>\n",
       "      <td id=\"T_d6083_row1_col1\" class=\"data row1 col1\" >198</td>\n",
       "    </tr>\n",
       "    <tr>\n",
       "      <td id=\"T_d6083_row2_col0\" class=\"data row2 col0\" >Number of Observations</td>\n",
       "      <td id=\"T_d6083_row2_col1\" class=\"data row2 col1\" >13135</td>\n",
       "    </tr>\n",
       "    <tr>\n",
       "      <td id=\"T_d6083_row3_col0\" class=\"data row3 col0\" >DOI</td>\n",
       "      <td id=\"T_d6083_row3_col1\" class=\"data row3 col1\" > <a href=\"https://doi.org/10.71760/ukllc-dataset-00039-01\" rel=\"noopener noreferrer\" target=\"_blank\">10.71760/ukllc-dataset-00039-01</a></td>\n",
       "    </tr>\n",
       "    <tr>\n",
       "      <td id=\"T_d6083_row4_col0\" class=\"data row4 col0\" >Change Log</td>\n",
       "      <td id=\"T_d6083_row4_col1\" class=\"data row4 col1\" > <a href=\"https://api.test.datacite.org/dois/10.71760/ukllc-dataset-00039-01/activities\" rel=\"noopener noreferrer\" target=\"_blank\">10.71760/ukllc-dataset-00039-01/activities</a></td>\n",
       "    </tr>\n",
       "  </tbody>\n",
       "</table>\n"
      ],
      "text/plain": [
       "<pandas.io.formats.style.Styler at 0x2a5c486fc50>"
      ]
     },
     "execution_count": 4,
     "metadata": {},
     "output_type": "execute_result"
    }
   ],
   "source": [
    "ds.version_history()"
   ]
  },
  {
   "cell_type": "markdown",
   "id": "f937d1c8",
   "metadata": {},
   "source": [
    "## 3. Documentation"
   ]
  },
  {
   "cell_type": "code",
   "execution_count": 5,
   "id": "e0af5988",
   "metadata": {
    "execution": {
     "iopub.execute_input": "2025-07-28T18:27:54.549825Z",
     "iopub.status.busy": "2025-07-28T18:27:54.549825Z",
     "iopub.status.idle": "2025-07-28T18:27:54.560531Z",
     "shell.execute_reply": "2025-07-28T18:27:54.559414Z"
    },
    "tags": [
     "remove-input"
    ]
   },
   "outputs": [
    {
     "data": {
      "text/markdown": [
       "We are currently building a documentation storage system which will host useful documents related to datasets and data owners. We will surface these documents on Guidebook."
      ],
      "text/plain": [
       "<IPython.core.display.Markdown object>"
      ]
     },
     "metadata": {},
     "output_type": "display_data"
    }
   ],
   "source": [
    "ds.documentation()"
   ]
  },
  {
   "cell_type": "markdown",
   "id": "959e235b",
   "metadata": {},
   "source": [
    "## 4. Useful Syntax"
   ]
  },
  {
   "cell_type": "code",
   "execution_count": 6,
   "id": "643e3392",
   "metadata": {
    "execution": {
     "iopub.execute_input": "2025-07-28T18:27:54.564524Z",
     "iopub.status.busy": "2025-07-28T18:27:54.563518Z",
     "iopub.status.idle": "2025-07-28T18:27:54.571995Z",
     "shell.execute_reply": "2025-07-28T18:27:54.570450Z"
    },
    "tags": [
     "remove-input"
    ]
   },
   "outputs": [
    {
     "data": {
      "text/markdown": [
       "Below we will include syntax that may be helpful to other researchers in the UK LLC TRE. For longer scripts, we will include a snippet of the code plus a link to Git where you can find the full scripts."
      ],
      "text/plain": [
       "<IPython.core.display.Markdown object>"
      ]
     },
     "metadata": {},
     "output_type": "display_data"
    }
   ],
   "source": [
    "ds.useful_syntax()"
   ]
  }
 ],
 "metadata": {
  "language_info": {
   "codemirror_mode": {
    "name": "ipython",
    "version": 3
   },
   "file_extension": ".py",
   "mimetype": "text/x-python",
   "name": "python",
   "nbconvert_exporter": "python",
   "pygments_lexer": "ipython3",
   "version": "3.12.7"
  }
 },
 "nbformat": 4,
 "nbformat_minor": 5
}
