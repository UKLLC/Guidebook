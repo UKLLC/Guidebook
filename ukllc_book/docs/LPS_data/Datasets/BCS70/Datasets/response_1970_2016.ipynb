{
 "cells": [
  {
   "cell_type": "markdown",
   "id": "3fbdab6e",
   "metadata": {},
   "source": [
    "# 1970-2016 Response Data (BCS70)"
   ]
  },
  {
   "cell_type": "code",
   "execution_count": 1,
   "id": "5b422158",
   "metadata": {
    "execution": {
     "iopub.execute_input": "2025-07-17T14:56:56.048600Z",
     "iopub.status.busy": "2025-07-17T14:56:56.047600Z",
     "iopub.status.idle": "2025-07-17T14:57:03.933848Z",
     "shell.execute_reply": "2025-07-17T14:57:03.931316Z"
    },
    "tags": [
     "remove-input"
    ]
   },
   "outputs": [
    {
     "data": {
      "text/markdown": [
       ">Last modified: 28 Jul 2025"
      ],
      "text/plain": [
       "<IPython.core.display.Markdown object>"
      ]
     },
     "metadata": {},
     "output_type": "display_data"
    }
   ],
   "source": [
    "\n",
    "import sys\n",
    "import os\n",
    "sys.path.append(os.path.abspath('../../../../scripts/'))\n",
    "from data_doc_helper import LPSDataSet as DS, last_modified\n",
    "API_KEY = os.environ['FASTAPI_KEY']\n",
    "ds = DS(\"BCS70\", \"response_1970_2016\")\n",
    "last_modified()\n"
   ]
  },
  {
   "cell_type": "markdown",
   "id": "4aa7f67f",
   "metadata": {},
   "source": [
    "## 1. Summary"
   ]
  },
  {
   "cell_type": "code",
   "execution_count": 2,
   "id": "dcafd1dd",
   "metadata": {
    "execution": {
     "iopub.execute_input": "2025-07-17T14:57:03.942539Z",
     "iopub.status.busy": "2025-07-17T14:57:03.941538Z",
     "iopub.status.idle": "2025-07-17T14:57:03.954592Z",
     "shell.execute_reply": "2025-07-17T14:57:03.952574Z"
    },
    "tags": [
     "remove-input"
    ]
   },
   "outputs": [
    {
     "data": {
      "text/markdown": [
       "Outcome status (productive or not) recorded for each sweep from birth up to age 46. This data only includes respondents from Great Britain followed longitudinally and not Northern Ireland based respondents who only participated at birth. "
      ],
      "text/plain": [
       "<IPython.core.display.Markdown object>"
      ]
     },
     "metadata": {},
     "output_type": "display_data"
    }
   ],
   "source": [
    "ds.summary()"
   ]
  },
  {
   "cell_type": "code",
   "execution_count": 3,
   "id": "f753b551",
   "metadata": {
    "execution": {
     "iopub.execute_input": "2025-07-17T14:57:03.961592Z",
     "iopub.status.busy": "2025-07-17T14:57:03.961592Z",
     "iopub.status.idle": "2025-07-17T14:57:05.831487Z",
     "shell.execute_reply": "2025-07-17T14:57:05.826185Z"
    },
    "tags": [
     "remove-input"
    ]
   },
   "outputs": [
    {
     "data": {
      "text/html": [
       "<style type=\"text/css\">\n",
       "#T_82858 th {\n",
       "  text-align: left;\n",
       "}\n",
       "#T_82858_row0_col0, #T_82858_row0_col1, #T_82858_row1_col0, #T_82858_row1_col1, #T_82858_row2_col0, #T_82858_row2_col1, #T_82858_row3_col0, #T_82858_row3_col1, #T_82858_row4_col0, #T_82858_row4_col1, #T_82858_row5_col0, #T_82858_row5_col1, #T_82858_row6_col0, #T_82858_row6_col1, #T_82858_row7_col0, #T_82858_row7_col1, #T_82858_row8_col0, #T_82858_row8_col1, #T_82858_row9_col0, #T_82858_row9_col1, #T_82858_row10_col0, #T_82858_row10_col1, #T_82858_row11_col0, #T_82858_row11_col1, #T_82858_row12_col0, #T_82858_row12_col1 {\n",
       "  text-align: left;\n",
       "}\n",
       "</style>\n",
       "<table id=\"T_82858\" style=\"font-size: 14px\">\n",
       "  <thead>\n",
       "    <tr>\n",
       "      <th id=\"T_82858_level0_col0\" class=\"col_heading level0 col0\" >Dataset Descriptor</th>\n",
       "      <th id=\"T_82858_level0_col1\" class=\"col_heading level0 col1\" >Dataset-specific Information</th>\n",
       "    </tr>\n",
       "  </thead>\n",
       "  <tbody>\n",
       "    <tr>\n",
       "      <td id=\"T_82858_row0_col0\" class=\"data row0 col0\" >Name of Dataset in TRE</td>\n",
       "      <td id=\"T_82858_row0_col1\" class=\"data row0 col1\" >BCS70_response_1970_2016</td>\n",
       "    </tr>\n",
       "    <tr>\n",
       "      <td id=\"T_82858_row1_col0\" class=\"data row1 col0\" >Citation (APA)</td>\n",
       "      <td id=\"T_82858_row1_col1\" class=\"data row1 col1\" >University College London, UCL Social Research Institute, Centre for Longitudinal Studies. (2021). <i>1970 British Cohort Study (BCS70): 1970-2016 Response Data.</i> UK Longitudinal Linkage Collaboration (UK LLC).  <a href=\"https://doi.org/10.71760/ukllc-dataset-00069-01\" rel=\"noopener noreferrer\" target=\"_blank\">https://doi.org/10.71760/ukllc-dataset-00069-01</a></td>\n",
       "    </tr>\n",
       "    <tr>\n",
       "      <td id=\"T_82858_row2_col0\" class=\"data row2 col0\" >Download Citation</td>\n",
       "      <td id=\"T_82858_row2_col1\" class=\"data row2 col1\" > <a href=\"https://api.datacite.org/application/vnd.citationstyles.csl+json/10.71760/ukllc-dataset-00069-01\" rel=\"noopener noreferrer\" target=\"_blank\">Citeproc JSON</a>&nbsp;&nbsp;&nbsp;&nbsp; <a href=\"https://api.datacite.org/application/x-bibtex/10.71760/ukllc-dataset-00069-01\" rel=\"noopener noreferrer\" target=\"_blank\">BibTeX</a>&nbsp;&nbsp;&nbsp;&nbsp; <a href=\"https://api.datacite.org/application/x-research-info-systems/10.71760/ukllc-dataset-00069-01\" rel=\"noopener noreferrer\" target=\"_blank\">RIS</a></td>\n",
       "    </tr>\n",
       "    <tr>\n",
       "      <td id=\"T_82858_row3_col0\" class=\"data row3 col0\" >Series</td>\n",
       "      <td id=\"T_82858_row3_col1\" class=\"data row3 col1\" > <a href=\"https://guidebook.ukllc.ac.uk/docs/lps_data/lps%20profiles/BCS70\">1970 British Cohort Study (BCS70)</a></td>\n",
       "    </tr>\n",
       "    <tr>\n",
       "      <td id=\"T_82858_row4_col0\" class=\"data row4 col0\" >Owner</td>\n",
       "      <td id=\"T_82858_row4_col1\" class=\"data row4 col1\" >UCL</td>\n",
       "    </tr>\n",
       "    <tr>\n",
       "      <td id=\"T_82858_row5_col0\" class=\"data row5 col0\" >Temporal Coverage</td>\n",
       "      <td id=\"T_82858_row5_col1\" class=\"data row5 col1\" >04/1970 - 04/2016</td>\n",
       "    </tr>\n",
       "    <tr>\n",
       "      <td id=\"T_82858_row6_col0\" class=\"data row6 col0\" >Keywords</td>\n",
       "      <td id=\"T_82858_row6_col1\" class=\"data row6 col1\" >Participation,Mortality,Outcome,Fieldwork result</td>\n",
       "    </tr>\n",
       "    <tr>\n",
       "      <td id=\"T_82858_row7_col0\" class=\"data row7 col0\" >Participants Invited</td>\n",
       "      <td id=\"T_82858_row7_col1\" class=\"data row7 col1\" >17196</td>\n",
       "    </tr>\n",
       "    <tr>\n",
       "      <td id=\"T_82858_row8_col0\" class=\"data row8 col0\" >Participant Count</td>\n",
       "      <td id=\"T_82858_row8_col1\" class=\"data row8 col1\" >8536</td>\n",
       "    </tr>\n",
       "    <tr>\n",
       "      <td id=\"T_82858_row9_col0\" class=\"data row9 col0\" >Number of variables</td>\n",
       "      <td id=\"T_82858_row9_col1\" class=\"data row9 col1\" >17</td>\n",
       "    </tr>\n",
       "    <tr>\n",
       "      <td id=\"T_82858_row10_col0\" class=\"data row10 col0\" >Number of observations</td>\n",
       "      <td id=\"T_82858_row10_col1\" class=\"data row10 col1\" >18037</td>\n",
       "    </tr>\n",
       "    <tr>\n",
       "      <td id=\"T_82858_row11_col0\" class=\"data row11 col0\" >Specific Restrictions to Data Use</td>\n",
       "      <td id=\"T_82858_row11_col1\" class=\"data row11 col1\" >None</td>\n",
       "    </tr>\n",
       "    <tr>\n",
       "      <td id=\"T_82858_row12_col0\" class=\"data row12 col0\" >Build a Data Request</td>\n",
       "      <td id=\"T_82858_row12_col1\" class=\"data row12 col1\" > <a href=\"https://explore.ukllc.ac.uk/\" rel=\"noopener noreferrer\" target=\"_blank\">https://explore.ukllc.ac.uk/</a></td>\n",
       "    </tr>\n",
       "  </tbody>\n",
       "</table>\n"
      ],
      "text/plain": [
       "<pandas.io.formats.style.Styler at 0x198e9db6e40>"
      ]
     },
     "execution_count": 3,
     "metadata": {},
     "output_type": "execute_result"
    }
   ],
   "source": [
    "ds.info_table()"
   ]
  },
  {
   "cell_type": "markdown",
   "id": "a1674bb9",
   "metadata": {},
   "source": [
    "## 2. Version History"
   ]
  },
  {
   "cell_type": "code",
   "execution_count": 4,
   "id": "b0c9b41d",
   "metadata": {
    "execution": {
     "iopub.execute_input": "2025-07-17T14:57:05.853129Z",
     "iopub.status.busy": "2025-07-17T14:57:05.850115Z",
     "iopub.status.idle": "2025-07-17T14:57:08.948361Z",
     "shell.execute_reply": "2025-07-17T14:57:08.943322Z"
    },
    "tags": [
     "remove-input"
    ]
   },
   "outputs": [
    {
     "data": {
      "text/html": [
       "<style type=\"text/css\">\n",
       "#T_a076b th {\n",
       "  text-align: left;\n",
       "}\n",
       "#T_a076b_row0_col0, #T_a076b_row0_col1, #T_a076b_row1_col0, #T_a076b_row1_col1, #T_a076b_row2_col0, #T_a076b_row2_col1, #T_a076b_row3_col0, #T_a076b_row3_col1, #T_a076b_row4_col0, #T_a076b_row4_col1 {\n",
       "  text-align: left;\n",
       "}\n",
       "</style>\n",
       "<table id=\"T_a076b\" style=\"font-size: 14px\">\n",
       "  <thead>\n",
       "    <tr>\n",
       "      <th id=\"T_a076b_level0_col0\" class=\"col_heading level0 col0\" >Version</th>\n",
       "      <th id=\"T_a076b_level0_col1\" class=\"col_heading level0 col1\" >1</th>\n",
       "    </tr>\n",
       "  </thead>\n",
       "  <tbody>\n",
       "    <tr>\n",
       "      <td id=\"T_a076b_row0_col0\" class=\"data row0 col0\" >Version Date</td>\n",
       "      <td id=\"T_a076b_row0_col1\" class=\"data row0 col1\" >01 Nov 2021</td>\n",
       "    </tr>\n",
       "    <tr>\n",
       "      <td id=\"T_a076b_row1_col0\" class=\"data row1 col0\" >Number of Variables</td>\n",
       "      <td id=\"T_a076b_row1_col1\" class=\"data row1 col1\" >17</td>\n",
       "    </tr>\n",
       "    <tr>\n",
       "      <td id=\"T_a076b_row2_col0\" class=\"data row2 col0\" >Number of Observations</td>\n",
       "      <td id=\"T_a076b_row2_col1\" class=\"data row2 col1\" >18037</td>\n",
       "    </tr>\n",
       "    <tr>\n",
       "      <td id=\"T_a076b_row3_col0\" class=\"data row3 col0\" >DOI</td>\n",
       "      <td id=\"T_a076b_row3_col1\" class=\"data row3 col1\" > <a href=\"https://doi.org/10.71760/ukllc-dataset-00069-01\" rel=\"noopener noreferrer\" target=\"_blank\">10.71760/ukllc-dataset-00069-01</a></td>\n",
       "    </tr>\n",
       "    <tr>\n",
       "      <td id=\"T_a076b_row4_col0\" class=\"data row4 col0\" >Change Log</td>\n",
       "      <td id=\"T_a076b_row4_col1\" class=\"data row4 col1\" > <a href=\"https://api.test.datacite.org/dois/10.71760/ukllc-dataset-00069-01/activities\" rel=\"noopener noreferrer\" target=\"_blank\">10.71760/ukllc-dataset-00069-01/activities</a></td>\n",
       "    </tr>\n",
       "  </tbody>\n",
       "</table>\n"
      ],
      "text/plain": [
       "<pandas.io.formats.style.Styler at 0x198e9e21a90>"
      ]
     },
     "execution_count": 4,
     "metadata": {},
     "output_type": "execute_result"
    }
   ],
   "source": [
    "ds.version_history()"
   ]
  },
  {
   "cell_type": "markdown",
   "id": "4e329548",
   "metadata": {},
   "source": [
    "## 3. Documentation"
   ]
  },
  {
   "cell_type": "code",
   "execution_count": 5,
   "id": "7fb37e13",
   "metadata": {
    "execution": {
     "iopub.execute_input": "2025-07-17T14:57:08.961392Z",
     "iopub.status.busy": "2025-07-17T14:57:08.960428Z",
     "iopub.status.idle": "2025-07-17T14:57:08.972927Z",
     "shell.execute_reply": "2025-07-17T14:57:08.970802Z"
    },
    "tags": [
     "remove-input"
    ]
   },
   "outputs": [
    {
     "data": {
      "text/markdown": [
       "We are currently building a documentation storage system which will host useful documents related to datasets and data owners. We will surface these documents on Guidebook."
      ],
      "text/plain": [
       "<IPython.core.display.Markdown object>"
      ]
     },
     "metadata": {},
     "output_type": "display_data"
    }
   ],
   "source": [
    "ds.documentation()"
   ]
  },
  {
   "cell_type": "markdown",
   "id": "024d44d7",
   "metadata": {},
   "source": [
    "## 4. Useful Syntax"
   ]
  },
  {
   "cell_type": "code",
   "execution_count": 6,
   "id": "ca1dea5d",
   "metadata": {
    "execution": {
     "iopub.execute_input": "2025-07-17T14:57:08.980857Z",
     "iopub.status.busy": "2025-07-17T14:57:08.980857Z",
     "iopub.status.idle": "2025-07-17T14:57:08.991940Z",
     "shell.execute_reply": "2025-07-17T14:57:08.989896Z"
    },
    "tags": [
     "remove-input"
    ]
   },
   "outputs": [
    {
     "data": {
      "text/markdown": [
       "Below we will include syntax that may be helpful to other researchers in the UK LLC TRE. For longer scripts, we will include a snippet of the code plus a link to Git where you can find the full scripts."
      ],
      "text/plain": [
       "<IPython.core.display.Markdown object>"
      ]
     },
     "metadata": {},
     "output_type": "display_data"
    }
   ],
   "source": [
    "ds.useful_syntax()"
   ]
  }
 ],
 "metadata": {
  "kernelspec": {
   "display_name": "jupbook",
   "language": "python",
   "name": "python3"
  },
  "language_info": {
   "codemirror_mode": {
    "name": "ipython",
    "version": 3
   },
   "file_extension": ".py",
   "mimetype": "text/x-python",
   "name": "python",
   "nbconvert_exporter": "python",
   "pygments_lexer": "ipython3",
   "version": "3.13.2"
  }
 },
 "nbformat": 4,
 "nbformat_minor": 5
}
