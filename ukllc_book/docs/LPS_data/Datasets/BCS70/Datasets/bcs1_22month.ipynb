{
 "cells": [
  {
   "cell_type": "markdown",
   "id": "336919d3",
   "metadata": {},
   "source": [
    "# 22-Month Sub-sample Survey (BCS70)"
   ]
  },
  {
   "cell_type": "code",
   "execution_count": 1,
   "id": "a41a6c4e",
   "metadata": {
    "execution": {
     "iopub.execute_input": "2025-07-28T18:25:34.423016Z",
     "iopub.status.busy": "2025-07-28T18:25:34.422019Z",
     "iopub.status.idle": "2025-07-28T18:25:49.115378Z",
     "shell.execute_reply": "2025-07-28T18:25:49.112608Z"
    },
    "tags": [
     "remove-input"
    ]
   },
   "outputs": [
    {
     "data": {
      "text/markdown": [
       ">Last modified: 28 Jul 2025"
      ],
      "text/plain": [
       "<IPython.core.display.Markdown object>"
      ]
     },
     "metadata": {},
     "output_type": "display_data"
    }
   ],
   "source": [
    "\n",
    "import sys\n",
    "import os\n",
    "sys.path.append(os.path.abspath('../../../../scripts/'))\n",
    "from data_doc_helper import LPSDataSet as DS, last_modified\n",
    "API_KEY = os.environ['FASTAPI_KEY']\n",
    "ds = DS(\"BCS70\", \"bcs1_22month\")\n",
    "last_modified()\n"
   ]
  },
  {
   "cell_type": "markdown",
   "id": "ca7a29d1",
   "metadata": {},
   "source": [
    "## 1. Summary"
   ]
  },
  {
   "cell_type": "code",
   "execution_count": 2,
   "id": "112528eb",
   "metadata": {
    "execution": {
     "iopub.execute_input": "2025-07-28T18:25:49.123921Z",
     "iopub.status.busy": "2025-07-28T18:25:49.122906Z",
     "iopub.status.idle": "2025-07-28T18:25:49.137664Z",
     "shell.execute_reply": "2025-07-28T18:25:49.135644Z"
    },
    "tags": [
     "remove-input"
    ]
   },
   "outputs": [
    {
     "data": {
      "text/markdown": [
       "The 22-Month Survey Sweep focused on exploring the impact of foetal nutrition on early development. Those invited to take part in the 22-Month Sweep were 10 per cent of all study members, all twins and triplets, those born after more than 42 weeks of gestation, and those who had particularly low birthweight. Around 2,500 took part."
      ],
      "text/plain": [
       "<IPython.core.display.Markdown object>"
      ]
     },
     "metadata": {},
     "output_type": "display_data"
    }
   ],
   "source": [
    "ds.summary()"
   ]
  },
  {
   "cell_type": "code",
   "execution_count": 3,
   "id": "6303292a",
   "metadata": {
    "execution": {
     "iopub.execute_input": "2025-07-28T18:25:49.144780Z",
     "iopub.status.busy": "2025-07-28T18:25:49.144780Z",
     "iopub.status.idle": "2025-07-28T18:25:51.295286Z",
     "shell.execute_reply": "2025-07-28T18:25:51.292268Z"
    },
    "tags": [
     "remove-input"
    ]
   },
   "outputs": [
    {
     "data": {
      "text/html": [
       "<style type=\"text/css\">\n",
       "#T_0b77b th {\n",
       "  text-align: left;\n",
       "}\n",
       "#T_0b77b_row0_col0, #T_0b77b_row0_col1, #T_0b77b_row1_col0, #T_0b77b_row1_col1, #T_0b77b_row2_col0, #T_0b77b_row2_col1, #T_0b77b_row3_col0, #T_0b77b_row3_col1, #T_0b77b_row4_col0, #T_0b77b_row4_col1, #T_0b77b_row5_col0, #T_0b77b_row5_col1, #T_0b77b_row6_col0, #T_0b77b_row6_col1, #T_0b77b_row7_col0, #T_0b77b_row7_col1, #T_0b77b_row8_col0, #T_0b77b_row8_col1, #T_0b77b_row9_col0, #T_0b77b_row9_col1, #T_0b77b_row10_col0, #T_0b77b_row10_col1, #T_0b77b_row11_col0, #T_0b77b_row11_col1, #T_0b77b_row12_col0, #T_0b77b_row12_col1 {\n",
       "  text-align: left;\n",
       "}\n",
       "</style>\n",
       "<table id=\"T_0b77b\" style=\"font-size: 14px\">\n",
       "  <thead>\n",
       "    <tr>\n",
       "      <th id=\"T_0b77b_level0_col0\" class=\"col_heading level0 col0\" >Dataset Descriptor</th>\n",
       "      <th id=\"T_0b77b_level0_col1\" class=\"col_heading level0 col1\" >Dataset-specific Information</th>\n",
       "    </tr>\n",
       "  </thead>\n",
       "  <tbody>\n",
       "    <tr>\n",
       "      <td id=\"T_0b77b_row0_col0\" class=\"data row0 col0\" >Name of Dataset in TRE</td>\n",
       "      <td id=\"T_0b77b_row0_col1\" class=\"data row0 col1\" >BCS70_bcs1_22month</td>\n",
       "    </tr>\n",
       "    <tr>\n",
       "      <td id=\"T_0b77b_row1_col0\" class=\"data row1 col0\" >Citation (APA)</td>\n",
       "      <td id=\"T_0b77b_row1_col1\" class=\"data row1 col1\" >University College London, UCL Social Research Institute, Centre for Longitudinal Studies. (2021). <i>1970 British Cohort Study (BCS70): 22-Month Sub-sample Survey.</i> UK Longitudinal Linkage Collaboration (UK LLC).  <a href=\"https://doi.org/10.71760/ukllc-dataset-00034-01\" rel=\"noopener noreferrer\" target=\"_blank\">https://doi.org/10.71760/ukllc-dataset-00034-01</a></td>\n",
       "    </tr>\n",
       "    <tr>\n",
       "      <td id=\"T_0b77b_row2_col0\" class=\"data row2 col0\" >Download Citation</td>\n",
       "      <td id=\"T_0b77b_row2_col1\" class=\"data row2 col1\" > <a href=\"https://api.datacite.org/application/vnd.citationstyles.csl+json/10.71760/ukllc-dataset-00034-01\" rel=\"noopener noreferrer\" target=\"_blank\">Citeproc JSON</a>&nbsp;&nbsp;&nbsp;&nbsp; <a href=\"https://api.datacite.org/application/x-bibtex/10.71760/ukllc-dataset-00034-01\" rel=\"noopener noreferrer\" target=\"_blank\">BibTeX</a>&nbsp;&nbsp;&nbsp;&nbsp; <a href=\"https://api.datacite.org/application/x-research-info-systems/10.71760/ukllc-dataset-00034-01\" rel=\"noopener noreferrer\" target=\"_blank\">RIS</a></td>\n",
       "    </tr>\n",
       "    <tr>\n",
       "      <td id=\"T_0b77b_row3_col0\" class=\"data row3 col0\" >Series</td>\n",
       "      <td id=\"T_0b77b_row3_col1\" class=\"data row3 col1\" > <a href=\"https://guidebook.ukllc.ac.uk/docs/lps_data/lps%20profiles/BCS70\">1970 British Cohort Study (BCS70)</a></td>\n",
       "    </tr>\n",
       "    <tr>\n",
       "      <td id=\"T_0b77b_row4_col0\" class=\"data row4 col0\" >Owner</td>\n",
       "      <td id=\"T_0b77b_row4_col1\" class=\"data row4 col1\" >UCL</td>\n",
       "    </tr>\n",
       "    <tr>\n",
       "      <td id=\"T_0b77b_row5_col0\" class=\"data row5 col0\" >Temporal Coverage</td>\n",
       "      <td id=\"T_0b77b_row5_col1\" class=\"data row5 col1\" >04/1970 - 04/1972</td>\n",
       "    </tr>\n",
       "    <tr>\n",
       "      <td id=\"T_0b77b_row6_col0\" class=\"data row6 col0\" >Keywords</td>\n",
       "      <td id=\"T_0b77b_row6_col1\" class=\"data row6 col1\" >Health,Child development,Home environment,Family life</td>\n",
       "    </tr>\n",
       "    <tr>\n",
       "      <td id=\"T_0b77b_row7_col0\" class=\"data row7 col0\" >Participants Invited</td>\n",
       "      <td id=\"T_0b77b_row7_col1\" class=\"data row7 col1\" >17196</td>\n",
       "    </tr>\n",
       "    <tr>\n",
       "      <td id=\"T_0b77b_row8_col0\" class=\"data row8 col0\" >Participant Count</td>\n",
       "      <td id=\"T_0b77b_row8_col1\" class=\"data row8 col1\" >1190</td>\n",
       "    </tr>\n",
       "    <tr>\n",
       "      <td id=\"T_0b77b_row9_col0\" class=\"data row9 col0\" >Number of variables</td>\n",
       "      <td id=\"T_0b77b_row9_col1\" class=\"data row9 col1\" >162</td>\n",
       "    </tr>\n",
       "    <tr>\n",
       "      <td id=\"T_0b77b_row10_col0\" class=\"data row10 col0\" >Number of observations</td>\n",
       "      <td id=\"T_0b77b_row10_col1\" class=\"data row10 col1\" >2457</td>\n",
       "    </tr>\n",
       "    <tr>\n",
       "      <td id=\"T_0b77b_row11_col0\" class=\"data row11 col0\" >Specific Restrictions to Data Use</td>\n",
       "      <td id=\"T_0b77b_row11_col1\" class=\"data row11 col1\" >None</td>\n",
       "    </tr>\n",
       "    <tr>\n",
       "      <td id=\"T_0b77b_row12_col0\" class=\"data row12 col0\" >Build a Data Request</td>\n",
       "      <td id=\"T_0b77b_row12_col1\" class=\"data row12 col1\" > <a href=\"https://explore.ukllc.ac.uk/\" rel=\"noopener noreferrer\" target=\"_blank\">https://explore.ukllc.ac.uk/</a></td>\n",
       "    </tr>\n",
       "  </tbody>\n",
       "</table>\n"
      ],
      "text/plain": [
       "<pandas.io.formats.style.Styler at 0x1d54f00acf0>"
      ]
     },
     "execution_count": 3,
     "metadata": {},
     "output_type": "execute_result"
    }
   ],
   "source": [
    "ds.info_table()"
   ]
  },
  {
   "cell_type": "markdown",
   "id": "f60558bb",
   "metadata": {},
   "source": [
    "## 2. Version History"
   ]
  },
  {
   "cell_type": "code",
   "execution_count": 4,
   "id": "877c2340",
   "metadata": {
    "execution": {
     "iopub.execute_input": "2025-07-28T18:25:51.304649Z",
     "iopub.status.busy": "2025-07-28T18:25:51.303650Z",
     "iopub.status.idle": "2025-07-28T18:25:56.735822Z",
     "shell.execute_reply": "2025-07-28T18:25:56.733392Z"
    },
    "tags": [
     "remove-input"
    ]
   },
   "outputs": [
    {
     "data": {
      "text/html": [
       "<style type=\"text/css\">\n",
       "#T_f79e5 th {\n",
       "  text-align: left;\n",
       "}\n",
       "#T_f79e5_row0_col0, #T_f79e5_row0_col1, #T_f79e5_row1_col0, #T_f79e5_row1_col1, #T_f79e5_row2_col0, #T_f79e5_row2_col1, #T_f79e5_row3_col0, #T_f79e5_row3_col1, #T_f79e5_row4_col0, #T_f79e5_row4_col1 {\n",
       "  text-align: left;\n",
       "}\n",
       "</style>\n",
       "<table id=\"T_f79e5\" style=\"font-size: 14px\">\n",
       "  <thead>\n",
       "    <tr>\n",
       "      <th id=\"T_f79e5_level0_col0\" class=\"col_heading level0 col0\" >Version</th>\n",
       "      <th id=\"T_f79e5_level0_col1\" class=\"col_heading level0 col1\" >1</th>\n",
       "    </tr>\n",
       "  </thead>\n",
       "  <tbody>\n",
       "    <tr>\n",
       "      <td id=\"T_f79e5_row0_col0\" class=\"data row0 col0\" >Version Date</td>\n",
       "      <td id=\"T_f79e5_row0_col1\" class=\"data row0 col1\" >01 Nov 2021</td>\n",
       "    </tr>\n",
       "    <tr>\n",
       "      <td id=\"T_f79e5_row1_col0\" class=\"data row1 col0\" >Number of Variables</td>\n",
       "      <td id=\"T_f79e5_row1_col1\" class=\"data row1 col1\" >162</td>\n",
       "    </tr>\n",
       "    <tr>\n",
       "      <td id=\"T_f79e5_row2_col0\" class=\"data row2 col0\" >Number of Observations</td>\n",
       "      <td id=\"T_f79e5_row2_col1\" class=\"data row2 col1\" >2457</td>\n",
       "    </tr>\n",
       "    <tr>\n",
       "      <td id=\"T_f79e5_row3_col0\" class=\"data row3 col0\" >DOI</td>\n",
       "      <td id=\"T_f79e5_row3_col1\" class=\"data row3 col1\" > <a href=\"https://doi.org/10.71760/ukllc-dataset-00034-01\" rel=\"noopener noreferrer\" target=\"_blank\">10.71760/ukllc-dataset-00034-01</a></td>\n",
       "    </tr>\n",
       "    <tr>\n",
       "      <td id=\"T_f79e5_row4_col0\" class=\"data row4 col0\" >Change Log</td>\n",
       "      <td id=\"T_f79e5_row4_col1\" class=\"data row4 col1\" > <a href=\"https://api.test.datacite.org/dois/10.71760/ukllc-dataset-00034-01/activities\" rel=\"noopener noreferrer\" target=\"_blank\">10.71760/ukllc-dataset-00034-01/activities</a></td>\n",
       "    </tr>\n",
       "  </tbody>\n",
       "</table>\n"
      ],
      "text/plain": [
       "<pandas.io.formats.style.Styler at 0x1d550df9820>"
      ]
     },
     "execution_count": 4,
     "metadata": {},
     "output_type": "execute_result"
    }
   ],
   "source": [
    "ds.version_history()"
   ]
  },
  {
   "cell_type": "markdown",
   "id": "45946a20",
   "metadata": {},
   "source": [
    "## 3. Documentation"
   ]
  },
  {
   "cell_type": "code",
   "execution_count": 5,
   "id": "7f4b4ef6",
   "metadata": {
    "execution": {
     "iopub.execute_input": "2025-07-28T18:25:56.745484Z",
     "iopub.status.busy": "2025-07-28T18:25:56.744513Z",
     "iopub.status.idle": "2025-07-28T18:25:56.756155Z",
     "shell.execute_reply": "2025-07-28T18:25:56.754079Z"
    },
    "tags": [
     "remove-input"
    ]
   },
   "outputs": [
    {
     "data": {
      "text/markdown": [
       "We are currently building a documentation storage system which will host useful documents related to datasets and data owners. We will surface these documents on Guidebook."
      ],
      "text/plain": [
       "<IPython.core.display.Markdown object>"
      ]
     },
     "metadata": {},
     "output_type": "display_data"
    }
   ],
   "source": [
    "ds.documentation()"
   ]
  },
  {
   "cell_type": "markdown",
   "id": "cfaa6666",
   "metadata": {},
   "source": [
    "## 4. Useful Syntax"
   ]
  },
  {
   "cell_type": "code",
   "execution_count": 6,
   "id": "e55464cc",
   "metadata": {
    "execution": {
     "iopub.execute_input": "2025-07-28T18:25:56.764365Z",
     "iopub.status.busy": "2025-07-28T18:25:56.764365Z",
     "iopub.status.idle": "2025-07-28T18:25:56.775960Z",
     "shell.execute_reply": "2025-07-28T18:25:56.773733Z"
    },
    "tags": [
     "remove-input"
    ]
   },
   "outputs": [
    {
     "data": {
      "text/markdown": [
       "Below we will include syntax that may be helpful to other researchers in the UK LLC TRE. For longer scripts, we will include a snippet of the code plus a link to Git where you can find the full scripts."
      ],
      "text/plain": [
       "<IPython.core.display.Markdown object>"
      ]
     },
     "metadata": {},
     "output_type": "display_data"
    }
   ],
   "source": [
    "ds.useful_syntax()"
   ]
  }
 ],
 "metadata": {
  "language_info": {
   "codemirror_mode": {
    "name": "ipython",
    "version": 3
   },
   "file_extension": ".py",
   "mimetype": "text/x-python",
   "name": "python",
   "nbconvert_exporter": "python",
   "pygments_lexer": "ipython3",
   "version": "3.12.7"
  }
 },
 "nbformat": 4,
 "nbformat_minor": 5
}
