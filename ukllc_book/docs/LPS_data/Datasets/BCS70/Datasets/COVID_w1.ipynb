{
 "cells": [
  {
   "cell_type": "markdown",
   "id": "43449ba8",
   "metadata": {},
   "source": [
    "# COVID-19 Survey Wave 1 (BCS70)"
   ]
  },
  {
   "cell_type": "code",
   "execution_count": 1,
   "id": "7fd82467",
   "metadata": {
    "execution": {
     "iopub.execute_input": "2025-07-17T14:56:04.499620Z",
     "iopub.status.busy": "2025-07-17T14:56:04.499620Z",
     "iopub.status.idle": "2025-07-17T14:56:12.486761Z",
     "shell.execute_reply": "2025-07-17T14:56:12.484745Z"
    },
    "tags": [
     "remove-input"
    ]
   },
   "outputs": [
    {
     "data": {
      "text/markdown": [
       ">Last modified: 17 Jul 2025"
      ],
      "text/plain": [
       "<IPython.core.display.Markdown object>"
      ]
     },
     "metadata": {},
     "output_type": "display_data"
    }
   ],
   "source": [
    "\n",
    "import sys\n",
    "import os\n",
    "sys.path.append(os.path.abspath('../../../../scripts/'))\n",
    "from data_doc_helper import LPSDataSet as DS, last_modified\n",
    "API_KEY = os.environ['FASTAPI_KEY']\n",
    "ds = DS(\"BCS70\", \"COVID_w1\")\n",
    "last_modified()\n"
   ]
  },
  {
   "cell_type": "markdown",
   "id": "3ce3889a",
   "metadata": {},
   "source": [
    "## 1. Summary"
   ]
  },
  {
   "cell_type": "code",
   "execution_count": 2,
   "id": "7c716054",
   "metadata": {
    "execution": {
     "iopub.execute_input": "2025-07-17T14:56:12.496090Z",
     "iopub.status.busy": "2025-07-17T14:56:12.494089Z",
     "iopub.status.idle": "2025-07-17T14:56:12.507751Z",
     "shell.execute_reply": "2025-07-17T14:56:12.506089Z"
    },
    "tags": [
     "remove-input"
    ]
   },
   "outputs": [
    {
     "data": {
      "text/markdown": [
       "An online questionnaire sent to all participants. Questions cover topics of wellbeing during the first wave of the pandemic, including the impact of COVID on participants’ mental health, work and family life. This dataset is the first of 3 over the course of the pandemic and was collected between April and June 2020. It was designed to complement existing content collected during normal operations."
      ],
      "text/plain": [
       "<IPython.core.display.Markdown object>"
      ]
     },
     "metadata": {},
     "output_type": "display_data"
    }
   ],
   "source": [
    "ds.summary()"
   ]
  },
  {
   "cell_type": "code",
   "execution_count": 3,
   "id": "a5f8ce4a",
   "metadata": {
    "execution": {
     "iopub.execute_input": "2025-07-17T14:56:12.517078Z",
     "iopub.status.busy": "2025-07-17T14:56:12.516068Z",
     "iopub.status.idle": "2025-07-17T14:56:14.598122Z",
     "shell.execute_reply": "2025-07-17T14:56:14.597107Z"
    },
    "tags": [
     "remove-input"
    ]
   },
   "outputs": [
    {
     "data": {
      "text/html": [
       "<style type=\"text/css\">\n",
       "#T_93506 th {\n",
       "  text-align: left;\n",
       "}\n",
       "#T_93506_row0_col0, #T_93506_row0_col1, #T_93506_row1_col0, #T_93506_row1_col1, #T_93506_row2_col0, #T_93506_row2_col1, #T_93506_row3_col0, #T_93506_row3_col1, #T_93506_row4_col0, #T_93506_row4_col1, #T_93506_row5_col0, #T_93506_row5_col1, #T_93506_row6_col0, #T_93506_row6_col1, #T_93506_row7_col0, #T_93506_row7_col1, #T_93506_row8_col0, #T_93506_row8_col1, #T_93506_row9_col0, #T_93506_row9_col1, #T_93506_row10_col0, #T_93506_row10_col1, #T_93506_row11_col0, #T_93506_row11_col1, #T_93506_row12_col0, #T_93506_row12_col1 {\n",
       "  text-align: left;\n",
       "}\n",
       "</style>\n",
       "<table id=\"T_93506\" style=\"font-size: 14px\">\n",
       "  <thead>\n",
       "    <tr>\n",
       "      <th id=\"T_93506_level0_col0\" class=\"col_heading level0 col0\" >Dataset Descriptor</th>\n",
       "      <th id=\"T_93506_level0_col1\" class=\"col_heading level0 col1\" >Dataset-specific Information</th>\n",
       "    </tr>\n",
       "  </thead>\n",
       "  <tbody>\n",
       "    <tr>\n",
       "      <td id=\"T_93506_row0_col0\" class=\"data row0 col0\" >Name of Dataset in TRE</td>\n",
       "      <td id=\"T_93506_row0_col1\" class=\"data row0 col1\" >BCS70_COVID_w1</td>\n",
       "    </tr>\n",
       "    <tr>\n",
       "      <td id=\"T_93506_row1_col0\" class=\"data row1 col0\" >Citation (APA)</td>\n",
       "      <td id=\"T_93506_row1_col1\" class=\"data row1 col1\" >University College London, UCL Social Research Institute, Centre for Longitudinal Studies. (2021). <i>1970 British Cohort Study (BCS70): COVID-19 Survey Wave 1.</i> UK Longitudinal Linkage Collaboration (UK LLC).  <a href=\"https://doi.org/10.83126/ukllc-dataset-00100-01\" rel=\"noopener noreferrer\" target=\"_blank\">https://doi.org/10.83126/ukllc-dataset-00100-01</a></td>\n",
       "    </tr>\n",
       "    <tr>\n",
       "      <td id=\"T_93506_row2_col0\" class=\"data row2 col0\" >Download Citation</td>\n",
       "      <td id=\"T_93506_row2_col1\" class=\"data row2 col1\" > <a href=\"https://api.test.datacite.org/application/vnd.citationstyles.csl+json/10.83126/ukllc-dataset-00100-01\" rel=\"noopener noreferrer\" target=\"_blank\">Citeproc JSON</a>&nbsp;&nbsp;&nbsp;&nbsp; <a href=\"https://api.test.datacite.org/application/x-bibtex/10.83126/ukllc-dataset-00100-01\" rel=\"noopener noreferrer\" target=\"_blank\">BibTeX</a>&nbsp;&nbsp;&nbsp;&nbsp; <a href=\"https://api.test.datacite.org/application/x-research-info-systems/10.83126/ukllc-dataset-00100-01\" rel=\"noopener noreferrer\" target=\"_blank\">RIS</a></td>\n",
       "    </tr>\n",
       "    <tr>\n",
       "      <td id=\"T_93506_row3_col0\" class=\"data row3 col0\" >Series</td>\n",
       "      <td id=\"T_93506_row3_col1\" class=\"data row3 col1\" > <a href=\"https://guidebook.ukllc.ac.uk/docs/lps/lps%20profiles/BCS70\">1970 British Cohort Study (BCS70)</a></td>\n",
       "    </tr>\n",
       "    <tr>\n",
       "      <td id=\"T_93506_row4_col0\" class=\"data row4 col0\" >Owner</td>\n",
       "      <td id=\"T_93506_row4_col1\" class=\"data row4 col1\" >UCL</td>\n",
       "    </tr>\n",
       "    <tr>\n",
       "      <td id=\"T_93506_row5_col0\" class=\"data row5 col0\" >Temporal Coverage</td>\n",
       "      <td id=\"T_93506_row5_col1\" class=\"data row5 col1\" >04/2020 - 06/2020</td>\n",
       "    </tr>\n",
       "    <tr>\n",
       "      <td id=\"T_93506_row6_col0\" class=\"data row6 col0\" >Keywords</td>\n",
       "      <td id=\"T_93506_row6_col1\" class=\"data row6 col1\" >COVID,Education,Employment,Income,Household,Mental Health</td>\n",
       "    </tr>\n",
       "    <tr>\n",
       "      <td id=\"T_93506_row7_col0\" class=\"data row7 col0\" >Participants Invited</td>\n",
       "      <td id=\"T_93506_row7_col1\" class=\"data row7 col1\" >4223</td>\n",
       "    </tr>\n",
       "    <tr>\n",
       "      <td id=\"T_93506_row8_col0\" class=\"data row8 col0\" >Participant Count</td>\n",
       "      <td id=\"T_93506_row8_col1\" class=\"data row8 col1\" >3696</td>\n",
       "    </tr>\n",
       "    <tr>\n",
       "      <td id=\"T_93506_row9_col0\" class=\"data row9 col0\" >Number of variables</td>\n",
       "      <td id=\"T_93506_row9_col1\" class=\"data row9 col1\" >302</td>\n",
       "    </tr>\n",
       "    <tr>\n",
       "      <td id=\"T_93506_row10_col0\" class=\"data row10 col0\" >Number of observations</td>\n",
       "      <td id=\"T_93506_row10_col1\" class=\"data row10 col1\" >1907</td>\n",
       "    </tr>\n",
       "    <tr>\n",
       "      <td id=\"T_93506_row11_col0\" class=\"data row11 col0\" >Specific Restrictions to Data Use</td>\n",
       "      <td id=\"T_93506_row11_col1\" class=\"data row11 col1\" >None</td>\n",
       "    </tr>\n",
       "    <tr>\n",
       "      <td id=\"T_93506_row12_col0\" class=\"data row12 col0\" >Build a Data Request</td>\n",
       "      <td id=\"T_93506_row12_col1\" class=\"data row12 col1\" > <a href=\"https://explore.ukllc.ac.uk/\" rel=\"noopener noreferrer\" target=\"_blank\">https://explore.ukllc.ac.uk/</a></td>\n",
       "    </tr>\n",
       "  </tbody>\n",
       "</table>\n"
      ],
      "text/plain": [
       "<pandas.io.formats.style.Styler at 0x25558be9a90>"
      ]
     },
     "execution_count": 3,
     "metadata": {},
     "output_type": "execute_result"
    }
   ],
   "source": [
    "ds.info_table()"
   ]
  },
  {
   "cell_type": "markdown",
   "id": "08987616",
   "metadata": {},
   "source": [
    "## 2. Version History"
   ]
  },
  {
   "cell_type": "code",
   "execution_count": 4,
   "id": "312ea020",
   "metadata": {
    "execution": {
     "iopub.execute_input": "2025-07-17T14:56:14.608869Z",
     "iopub.status.busy": "2025-07-17T14:56:14.607870Z",
     "iopub.status.idle": "2025-07-17T14:56:17.854568Z",
     "shell.execute_reply": "2025-07-17T14:56:17.852549Z"
    },
    "tags": [
     "remove-input"
    ]
   },
   "outputs": [
    {
     "data": {
      "text/html": [
       "<style type=\"text/css\">\n",
       "#T_fd9a3 th {\n",
       "  text-align: left;\n",
       "}\n",
       "#T_fd9a3_row0_col0, #T_fd9a3_row0_col1, #T_fd9a3_row1_col0, #T_fd9a3_row1_col1, #T_fd9a3_row2_col0, #T_fd9a3_row2_col1, #T_fd9a3_row3_col0, #T_fd9a3_row3_col1, #T_fd9a3_row4_col0, #T_fd9a3_row4_col1 {\n",
       "  text-align: left;\n",
       "}\n",
       "</style>\n",
       "<table id=\"T_fd9a3\" style=\"font-size: 14px\">\n",
       "  <thead>\n",
       "    <tr>\n",
       "      <th id=\"T_fd9a3_level0_col0\" class=\"col_heading level0 col0\" >Version</th>\n",
       "      <th id=\"T_fd9a3_level0_col1\" class=\"col_heading level0 col1\" >1</th>\n",
       "    </tr>\n",
       "  </thead>\n",
       "  <tbody>\n",
       "    <tr>\n",
       "      <td id=\"T_fd9a3_row0_col0\" class=\"data row0 col0\" >Version Date</td>\n",
       "      <td id=\"T_fd9a3_row0_col1\" class=\"data row0 col1\" >01 Nov 2021</td>\n",
       "    </tr>\n",
       "    <tr>\n",
       "      <td id=\"T_fd9a3_row1_col0\" class=\"data row1 col0\" >Number of Variables</td>\n",
       "      <td id=\"T_fd9a3_row1_col1\" class=\"data row1 col1\" >1512</td>\n",
       "    </tr>\n",
       "    <tr>\n",
       "      <td id=\"T_fd9a3_row2_col0\" class=\"data row2 col0\" >Number of Observations</td>\n",
       "      <td id=\"T_fd9a3_row2_col1\" class=\"data row2 col1\" >1907</td>\n",
       "    </tr>\n",
       "    <tr>\n",
       "      <td id=\"T_fd9a3_row3_col0\" class=\"data row3 col0\" >DOI</td>\n",
       "      <td id=\"T_fd9a3_row3_col1\" class=\"data row3 col1\" > <a href=\"https://doi.org/10.83126/ukllc-dataset-00100-01\" rel=\"noopener noreferrer\" target=\"_blank\">10.83126/ukllc-dataset-00100-01</a></td>\n",
       "    </tr>\n",
       "    <tr>\n",
       "      <td id=\"T_fd9a3_row4_col0\" class=\"data row4 col0\" >Change Log</td>\n",
       "      <td id=\"T_fd9a3_row4_col1\" class=\"data row4 col1\" > <a href=\"https://api.test.datacite.org/dois/10.83126/ukllc-dataset-00100-01/activities\" rel=\"noopener noreferrer\" target=\"_blank\">10.83126/ukllc-dataset-00100-01/activities</a></td>\n",
       "    </tr>\n",
       "  </tbody>\n",
       "</table>\n"
      ],
      "text/plain": [
       "<pandas.io.formats.style.Styler at 0x2555a9868a0>"
      ]
     },
     "execution_count": 4,
     "metadata": {},
     "output_type": "execute_result"
    }
   ],
   "source": [
    "ds.version_history()"
   ]
  },
  {
   "cell_type": "markdown",
   "id": "d6c06101",
   "metadata": {},
   "source": [
    "## 3. Documentation"
   ]
  },
  {
   "cell_type": "code",
   "execution_count": 5,
   "id": "d68331c6",
   "metadata": {
    "execution": {
     "iopub.execute_input": "2025-07-17T14:56:17.866568Z",
     "iopub.status.busy": "2025-07-17T14:56:17.865572Z",
     "iopub.status.idle": "2025-07-17T14:56:17.878928Z",
     "shell.execute_reply": "2025-07-17T14:56:17.877909Z"
    },
    "tags": [
     "remove-input"
    ]
   },
   "outputs": [
    {
     "data": {
      "text/markdown": [
       "We are currently building a documentation storage system which will host useful documents related to datasets and data owners. We will surface these documents on Guidebook."
      ],
      "text/plain": [
       "<IPython.core.display.Markdown object>"
      ]
     },
     "metadata": {},
     "output_type": "display_data"
    }
   ],
   "source": [
    "ds.documentation()"
   ]
  },
  {
   "cell_type": "markdown",
   "id": "45ec3aa5",
   "metadata": {},
   "source": [
    "## 4. Useful Syntax"
   ]
  },
  {
   "cell_type": "code",
   "execution_count": 6,
   "id": "6098b1c8",
   "metadata": {
    "execution": {
     "iopub.execute_input": "2025-07-17T14:56:17.888927Z",
     "iopub.status.busy": "2025-07-17T14:56:17.886930Z",
     "iopub.status.idle": "2025-07-17T14:56:17.901240Z",
     "shell.execute_reply": "2025-07-17T14:56:17.899226Z"
    },
    "tags": [
     "remove-input"
    ]
   },
   "outputs": [
    {
     "data": {
      "text/markdown": [
       "Below we will include syntax that may be helpful to other researchers in the UK LLC TRE. For longer scripts, we will include a snippet of the code plus a link to Git where you can find the full scripts."
      ],
      "text/plain": [
       "<IPython.core.display.Markdown object>"
      ]
     },
     "metadata": {},
     "output_type": "display_data"
    }
   ],
   "source": [
    "ds.useful_syntax()"
   ]
  }
 ],
 "metadata": {
  "language_info": {
   "codemirror_mode": {
    "name": "ipython",
    "version": 3
   },
   "file_extension": ".py",
   "mimetype": "text/x-python",
   "name": "python",
   "nbconvert_exporter": "python",
   "pygments_lexer": "ipython3",
   "version": "3.12.7"
  }
 },
 "nbformat": 4,
 "nbformat_minor": 5
}
