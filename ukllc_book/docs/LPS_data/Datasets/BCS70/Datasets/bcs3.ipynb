{
 "cells": [
  {
   "cell_type": "markdown",
   "id": "5bd23c4c",
   "metadata": {},
   "source": [
    "# Age 10 Survey (BCS70)"
   ]
  },
  {
   "cell_type": "code",
   "execution_count": 1,
   "id": "bd20eb04",
   "metadata": {
    "execution": {
     "iopub.execute_input": "2025-07-28T18:28:20.345033Z",
     "iopub.status.busy": "2025-07-28T18:28:20.345033Z",
     "iopub.status.idle": "2025-07-28T18:28:33.013404Z",
     "shell.execute_reply": "2025-07-28T18:28:33.010882Z"
    },
    "tags": [
     "remove-input"
    ]
   },
   "outputs": [
    {
     "data": {
      "text/markdown": [
       ">Last modified: 28 Jul 2025"
      ],
      "text/plain": [
       "<IPython.core.display.Markdown object>"
      ]
     },
     "metadata": {},
     "output_type": "display_data"
    }
   ],
   "source": [
    "\n",
    "import sys\n",
    "import os\n",
    "sys.path.append(os.path.abspath('../../../../scripts/'))\n",
    "from data_doc_helper import LPSDataSet as DS, last_modified\n",
    "API_KEY = os.environ['FASTAPI_KEY']\n",
    "ds = DS(\"BCS70\", \"bcs3\")\n",
    "last_modified()\n"
   ]
  },
  {
   "cell_type": "markdown",
   "id": "0312f8cc",
   "metadata": {},
   "source": [
    "## 1. Summary"
   ]
  },
  {
   "cell_type": "code",
   "execution_count": 2,
   "id": "05a3c008",
   "metadata": {
    "execution": {
     "iopub.execute_input": "2025-07-28T18:28:33.025434Z",
     "iopub.status.busy": "2025-07-28T18:28:33.023425Z",
     "iopub.status.idle": "2025-07-28T18:28:33.043761Z",
     "shell.execute_reply": "2025-07-28T18:28:33.041741Z"
    },
    "tags": [
     "remove-input"
    ]
   },
   "outputs": [
    {
     "data": {
      "text/markdown": [
       "A number of considerations influenced the development of the survey instrumentation used for the BCS70 Ten-year Follow-up: Educational progress, Education of Handicapped Children, Specific and Non-specific Learning DifficuIties, Health hazards, Special Health Study and Longitudinal Elements. The study included a Health Pack with medical examination form and parental interview and self-completion, an Education Pack of tests, scales and forms for the cohort member, and Special Education Pack for cohort mmebers with special needs"
      ],
      "text/plain": [
       "<IPython.core.display.Markdown object>"
      ]
     },
     "metadata": {},
     "output_type": "display_data"
    }
   ],
   "source": [
    "ds.summary()"
   ]
  },
  {
   "cell_type": "code",
   "execution_count": 3,
   "id": "3241fb1c",
   "metadata": {
    "execution": {
     "iopub.execute_input": "2025-07-28T18:28:33.066775Z",
     "iopub.status.busy": "2025-07-28T18:28:33.063785Z",
     "iopub.status.idle": "2025-07-28T18:28:35.583348Z",
     "shell.execute_reply": "2025-07-28T18:28:35.581807Z"
    },
    "tags": [
     "remove-input"
    ]
   },
   "outputs": [
    {
     "data": {
      "text/html": [
       "<style type=\"text/css\">\n",
       "#T_8ae6c th {\n",
       "  text-align: left;\n",
       "}\n",
       "#T_8ae6c_row0_col0, #T_8ae6c_row0_col1, #T_8ae6c_row1_col0, #T_8ae6c_row1_col1, #T_8ae6c_row2_col0, #T_8ae6c_row2_col1, #T_8ae6c_row3_col0, #T_8ae6c_row3_col1, #T_8ae6c_row4_col0, #T_8ae6c_row4_col1, #T_8ae6c_row5_col0, #T_8ae6c_row5_col1, #T_8ae6c_row6_col0, #T_8ae6c_row6_col1, #T_8ae6c_row7_col0, #T_8ae6c_row7_col1, #T_8ae6c_row8_col0, #T_8ae6c_row8_col1, #T_8ae6c_row9_col0, #T_8ae6c_row9_col1, #T_8ae6c_row10_col0, #T_8ae6c_row10_col1, #T_8ae6c_row11_col0, #T_8ae6c_row11_col1, #T_8ae6c_row12_col0, #T_8ae6c_row12_col1 {\n",
       "  text-align: left;\n",
       "}\n",
       "</style>\n",
       "<table id=\"T_8ae6c\" style=\"font-size: 14px\">\n",
       "  <thead>\n",
       "    <tr>\n",
       "      <th id=\"T_8ae6c_level0_col0\" class=\"col_heading level0 col0\" >Dataset Descriptor</th>\n",
       "      <th id=\"T_8ae6c_level0_col1\" class=\"col_heading level0 col1\" >Dataset-specific Information</th>\n",
       "    </tr>\n",
       "  </thead>\n",
       "  <tbody>\n",
       "    <tr>\n",
       "      <td id=\"T_8ae6c_row0_col0\" class=\"data row0 col0\" >Name of Dataset in TRE</td>\n",
       "      <td id=\"T_8ae6c_row0_col1\" class=\"data row0 col1\" >BCS70_bcs3</td>\n",
       "    </tr>\n",
       "    <tr>\n",
       "      <td id=\"T_8ae6c_row1_col0\" class=\"data row1 col0\" >Citation (APA)</td>\n",
       "      <td id=\"T_8ae6c_row1_col1\" class=\"data row1 col1\" >University College London, UCL Social Research Institute, Centre for Longitudinal Studies. (2021). <i>1970 British Cohort Study (BCS70): Age 10 Survey.</i> UK Longitudinal Linkage Collaboration (UK LLC).  <a href=\"https://doi.org/10.71760/ukllc-dataset-00044-01\" rel=\"noopener noreferrer\" target=\"_blank\">https://doi.org/10.71760/ukllc-dataset-00044-01</a></td>\n",
       "    </tr>\n",
       "    <tr>\n",
       "      <td id=\"T_8ae6c_row2_col0\" class=\"data row2 col0\" >Download Citation</td>\n",
       "      <td id=\"T_8ae6c_row2_col1\" class=\"data row2 col1\" > <a href=\"https://api.datacite.org/application/vnd.citationstyles.csl+json/10.71760/ukllc-dataset-00044-01\" rel=\"noopener noreferrer\" target=\"_blank\">Citeproc JSON</a>&nbsp;&nbsp;&nbsp;&nbsp; <a href=\"https://api.datacite.org/application/x-bibtex/10.71760/ukllc-dataset-00044-01\" rel=\"noopener noreferrer\" target=\"_blank\">BibTeX</a>&nbsp;&nbsp;&nbsp;&nbsp; <a href=\"https://api.datacite.org/application/x-research-info-systems/10.71760/ukllc-dataset-00044-01\" rel=\"noopener noreferrer\" target=\"_blank\">RIS</a></td>\n",
       "    </tr>\n",
       "    <tr>\n",
       "      <td id=\"T_8ae6c_row3_col0\" class=\"data row3 col0\" >Series</td>\n",
       "      <td id=\"T_8ae6c_row3_col1\" class=\"data row3 col1\" > <a href=\"https://guidebook.ukllc.ac.uk/docs/lps_data/lps%20profiles/BCS70\">1970 British Cohort Study (BCS70)</a></td>\n",
       "    </tr>\n",
       "    <tr>\n",
       "      <td id=\"T_8ae6c_row4_col0\" class=\"data row4 col0\" >Owner</td>\n",
       "      <td id=\"T_8ae6c_row4_col1\" class=\"data row4 col1\" >UCL</td>\n",
       "    </tr>\n",
       "    <tr>\n",
       "      <td id=\"T_8ae6c_row5_col0\" class=\"data row5 col0\" >Temporal Coverage</td>\n",
       "      <td id=\"T_8ae6c_row5_col1\" class=\"data row5 col1\" >04/1980 - 04/1981</td>\n",
       "    </tr>\n",
       "    <tr>\n",
       "      <td id=\"T_8ae6c_row6_col0\" class=\"data row6 col0\" >Keywords</td>\n",
       "      <td id=\"T_8ae6c_row6_col1\" class=\"data row6 col1\" >Health,Education,Family life,Employment,Attitudes</td>\n",
       "    </tr>\n",
       "    <tr>\n",
       "      <td id=\"T_8ae6c_row7_col0\" class=\"data row7 col0\" >Participants Invited</td>\n",
       "      <td id=\"T_8ae6c_row7_col1\" class=\"data row7 col1\" >14875</td>\n",
       "    </tr>\n",
       "    <tr>\n",
       "      <td id=\"T_8ae6c_row8_col0\" class=\"data row8 col0\" >Participant Count</td>\n",
       "      <td id=\"T_8ae6c_row8_col1\" class=\"data row8 col1\" >7914</td>\n",
       "    </tr>\n",
       "    <tr>\n",
       "      <td id=\"T_8ae6c_row9_col0\" class=\"data row9 col0\" >Number of variables</td>\n",
       "      <td id=\"T_8ae6c_row9_col1\" class=\"data row9 col1\" >2963</td>\n",
       "    </tr>\n",
       "    <tr>\n",
       "      <td id=\"T_8ae6c_row10_col0\" class=\"data row10 col0\" >Number of observations</td>\n",
       "      <td id=\"T_8ae6c_row10_col1\" class=\"data row10 col1\" >14870</td>\n",
       "    </tr>\n",
       "    <tr>\n",
       "      <td id=\"T_8ae6c_row11_col0\" class=\"data row11 col0\" >Specific Restrictions to Data Use</td>\n",
       "      <td id=\"T_8ae6c_row11_col1\" class=\"data row11 col1\" >None</td>\n",
       "    </tr>\n",
       "    <tr>\n",
       "      <td id=\"T_8ae6c_row12_col0\" class=\"data row12 col0\" >Build a Data Request</td>\n",
       "      <td id=\"T_8ae6c_row12_col1\" class=\"data row12 col1\" > <a href=\"https://explore.ukllc.ac.uk/\" rel=\"noopener noreferrer\" target=\"_blank\">https://explore.ukllc.ac.uk/</a></td>\n",
       "    </tr>\n",
       "  </tbody>\n",
       "</table>\n"
      ],
      "text/plain": [
       "<pandas.io.formats.style.Styler at 0x22b3c6bb0b0>"
      ]
     },
     "execution_count": 3,
     "metadata": {},
     "output_type": "execute_result"
    }
   ],
   "source": [
    "ds.info_table()"
   ]
  },
  {
   "cell_type": "markdown",
   "id": "11737b74",
   "metadata": {},
   "source": [
    "## 2. Version History"
   ]
  },
  {
   "cell_type": "code",
   "execution_count": 4,
   "id": "36f730af",
   "metadata": {
    "execution": {
     "iopub.execute_input": "2025-07-28T18:28:35.592373Z",
     "iopub.status.busy": "2025-07-28T18:28:35.591360Z",
     "iopub.status.idle": "2025-07-28T18:28:40.950160Z",
     "shell.execute_reply": "2025-07-28T18:28:40.945132Z"
    },
    "tags": [
     "remove-input"
    ]
   },
   "outputs": [
    {
     "data": {
      "text/html": [
       "<style type=\"text/css\">\n",
       "#T_44af0 th {\n",
       "  text-align: left;\n",
       "}\n",
       "#T_44af0_row0_col0, #T_44af0_row0_col1, #T_44af0_row1_col0, #T_44af0_row1_col1, #T_44af0_row2_col0, #T_44af0_row2_col1, #T_44af0_row3_col0, #T_44af0_row3_col1, #T_44af0_row4_col0, #T_44af0_row4_col1 {\n",
       "  text-align: left;\n",
       "}\n",
       "</style>\n",
       "<table id=\"T_44af0\" style=\"font-size: 14px\">\n",
       "  <thead>\n",
       "    <tr>\n",
       "      <th id=\"T_44af0_level0_col0\" class=\"col_heading level0 col0\" >Version</th>\n",
       "      <th id=\"T_44af0_level0_col1\" class=\"col_heading level0 col1\" >1</th>\n",
       "    </tr>\n",
       "  </thead>\n",
       "  <tbody>\n",
       "    <tr>\n",
       "      <td id=\"T_44af0_row0_col0\" class=\"data row0 col0\" >Version Date</td>\n",
       "      <td id=\"T_44af0_row0_col1\" class=\"data row0 col1\" >01 Nov 2021</td>\n",
       "    </tr>\n",
       "    <tr>\n",
       "      <td id=\"T_44af0_row1_col0\" class=\"data row1 col0\" >Number of Variables</td>\n",
       "      <td id=\"T_44af0_row1_col1\" class=\"data row1 col1\" >2969</td>\n",
       "    </tr>\n",
       "    <tr>\n",
       "      <td id=\"T_44af0_row2_col0\" class=\"data row2 col0\" >Number of Observations</td>\n",
       "      <td id=\"T_44af0_row2_col1\" class=\"data row2 col1\" >14870</td>\n",
       "    </tr>\n",
       "    <tr>\n",
       "      <td id=\"T_44af0_row3_col0\" class=\"data row3 col0\" >DOI</td>\n",
       "      <td id=\"T_44af0_row3_col1\" class=\"data row3 col1\" > <a href=\"https://doi.org/10.71760/ukllc-dataset-00044-01\" rel=\"noopener noreferrer\" target=\"_blank\">10.71760/ukllc-dataset-00044-01</a></td>\n",
       "    </tr>\n",
       "    <tr>\n",
       "      <td id=\"T_44af0_row4_col0\" class=\"data row4 col0\" >Change Log</td>\n",
       "      <td id=\"T_44af0_row4_col1\" class=\"data row4 col1\" > <a href=\"https://api.test.datacite.org/dois/10.71760/ukllc-dataset-00044-01/activities\" rel=\"noopener noreferrer\" target=\"_blank\">10.71760/ukllc-dataset-00044-01/activities</a></td>\n",
       "    </tr>\n",
       "  </tbody>\n",
       "</table>\n"
      ],
      "text/plain": [
       "<pandas.io.formats.style.Styler at 0x22b3e52c2f0>"
      ]
     },
     "execution_count": 4,
     "metadata": {},
     "output_type": "execute_result"
    }
   ],
   "source": [
    "ds.version_history()"
   ]
  },
  {
   "cell_type": "markdown",
   "id": "48f82fd4",
   "metadata": {},
   "source": [
    "## 3. Documentation"
   ]
  },
  {
   "cell_type": "code",
   "execution_count": 5,
   "id": "e3dbd7d0",
   "metadata": {
    "execution": {
     "iopub.execute_input": "2025-07-28T18:28:40.967175Z",
     "iopub.status.busy": "2025-07-28T18:28:40.966163Z",
     "iopub.status.idle": "2025-07-28T18:28:40.979827Z",
     "shell.execute_reply": "2025-07-28T18:28:40.978192Z"
    },
    "tags": [
     "remove-input"
    ]
   },
   "outputs": [
    {
     "data": {
      "text/markdown": [
       "We are currently building a documentation storage system which will host useful documents related to datasets and data owners. We will surface these documents on Guidebook."
      ],
      "text/plain": [
       "<IPython.core.display.Markdown object>"
      ]
     },
     "metadata": {},
     "output_type": "display_data"
    }
   ],
   "source": [
    "ds.documentation()"
   ]
  },
  {
   "cell_type": "markdown",
   "id": "fa82b756",
   "metadata": {},
   "source": [
    "## 4. Useful Syntax"
   ]
  },
  {
   "cell_type": "code",
   "execution_count": 6,
   "id": "ca09cae9",
   "metadata": {
    "execution": {
     "iopub.execute_input": "2025-07-28T18:28:40.988832Z",
     "iopub.status.busy": "2025-07-28T18:28:40.987803Z",
     "iopub.status.idle": "2025-07-28T18:28:41.000834Z",
     "shell.execute_reply": "2025-07-28T18:28:40.997799Z"
    },
    "tags": [
     "remove-input"
    ]
   },
   "outputs": [
    {
     "data": {
      "text/markdown": [
       "Below we will include syntax that may be helpful to other researchers in the UK LLC TRE. For longer scripts, we will include a snippet of the code plus a link to Git where you can find the full scripts."
      ],
      "text/plain": [
       "<IPython.core.display.Markdown object>"
      ]
     },
     "metadata": {},
     "output_type": "display_data"
    }
   ],
   "source": [
    "ds.useful_syntax()"
   ]
  }
 ],
 "metadata": {
  "language_info": {
   "codemirror_mode": {
    "name": "ipython",
    "version": 3
   },
   "file_extension": ".py",
   "mimetype": "text/x-python",
   "name": "python",
   "nbconvert_exporter": "python",
   "pygments_lexer": "ipython3",
   "version": "3.12.7"
  }
 },
 "nbformat": 4,
 "nbformat_minor": 5
}
