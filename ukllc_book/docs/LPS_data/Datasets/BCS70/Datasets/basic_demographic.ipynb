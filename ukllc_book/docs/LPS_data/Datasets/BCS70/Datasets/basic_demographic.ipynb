{
 "cells": [
  {
   "cell_type": "markdown",
   "id": "534d7507",
   "metadata": {},
   "source": [
    "# Basic demographic variables (BCS70)"
   ]
  },
  {
   "cell_type": "code",
   "execution_count": 1,
   "id": "b4e87841",
   "metadata": {
    "execution": {
     "iopub.execute_input": "2025-07-17T14:42:27.015538Z",
     "iopub.status.busy": "2025-07-17T14:42:27.015538Z",
     "iopub.status.idle": "2025-07-17T14:42:35.852939Z",
     "shell.execute_reply": "2025-07-17T14:42:35.852427Z"
    },
    "tags": [
     "remove-input"
    ]
   },
   "outputs": [
    {
     "data": {
      "text/markdown": [
       ">Last modified: 17 Jul 2025"
      ],
      "text/plain": [
       "<IPython.core.display.Markdown object>"
      ]
     },
     "metadata": {},
     "output_type": "display_data"
    }
   ],
   "source": [
    "\n",
    "import sys\n",
    "import os\n",
    "sys.path.append(os.path.abspath('../../../../scripts/'))\n",
    "from data_doc_helper import LPSDataSet as DS, last_modified\n",
    "API_KEY = os.environ['FASTAPI_KEY']\n",
    "ds = DS(\"BCS70\", \"basic_demographic\")\n",
    "last_modified()\n"
   ]
  },
  {
   "cell_type": "markdown",
   "id": "b9194826",
   "metadata": {},
   "source": [
    "## 1. Summary"
   ]
  },
  {
   "cell_type": "code",
   "execution_count": 2,
   "id": "4fb23eea",
   "metadata": {
    "execution": {
     "iopub.execute_input": "2025-07-17T14:42:35.860715Z",
     "iopub.status.busy": "2025-07-17T14:42:35.859716Z",
     "iopub.status.idle": "2025-07-17T14:42:35.868243Z",
     "shell.execute_reply": "2025-07-17T14:42:35.867222Z"
    },
    "tags": [
     "remove-input"
    ]
   },
   "outputs": [
    {
     "data": {
      "text/markdown": [
       "Demographic variables for all BCS70 participants including ethnicity, most recent recorded social class of CM and parents, marital status, housing tenure and highest qualification"
      ],
      "text/plain": [
       "<IPython.core.display.Markdown object>"
      ]
     },
     "metadata": {},
     "output_type": "display_data"
    }
   ],
   "source": [
    "ds.summary()"
   ]
  },
  {
   "cell_type": "code",
   "execution_count": 3,
   "id": "f42bc54d",
   "metadata": {
    "execution": {
     "iopub.execute_input": "2025-07-17T14:42:35.873735Z",
     "iopub.status.busy": "2025-07-17T14:42:35.873735Z",
     "iopub.status.idle": "2025-07-17T14:42:36.869621Z",
     "shell.execute_reply": "2025-07-17T14:42:36.868610Z"
    },
    "tags": [
     "remove-input"
    ]
   },
   "outputs": [
    {
     "data": {
      "text/html": [
       "<style type=\"text/css\">\n",
       "#T_f5173 th {\n",
       "  text-align: left;\n",
       "}\n",
       "#T_f5173_row0_col0, #T_f5173_row0_col1, #T_f5173_row1_col0, #T_f5173_row1_col1, #T_f5173_row2_col0, #T_f5173_row2_col1, #T_f5173_row3_col0, #T_f5173_row3_col1, #T_f5173_row4_col0, #T_f5173_row4_col1, #T_f5173_row5_col0, #T_f5173_row5_col1, #T_f5173_row6_col0, #T_f5173_row6_col1, #T_f5173_row7_col0, #T_f5173_row7_col1, #T_f5173_row8_col0, #T_f5173_row8_col1, #T_f5173_row9_col0, #T_f5173_row9_col1, #T_f5173_row10_col0, #T_f5173_row10_col1, #T_f5173_row11_col0, #T_f5173_row11_col1, #T_f5173_row12_col0, #T_f5173_row12_col1 {\n",
       "  text-align: left;\n",
       "}\n",
       "</style>\n",
       "<table id=\"T_f5173\" style=\"font-size: 14px\">\n",
       "  <thead>\n",
       "    <tr>\n",
       "      <th id=\"T_f5173_level0_col0\" class=\"col_heading level0 col0\" >Dataset Descriptor</th>\n",
       "      <th id=\"T_f5173_level0_col1\" class=\"col_heading level0 col1\" >Dataset-specific Information</th>\n",
       "    </tr>\n",
       "  </thead>\n",
       "  <tbody>\n",
       "    <tr>\n",
       "      <td id=\"T_f5173_row0_col0\" class=\"data row0 col0\" >Name of Dataset in TRE</td>\n",
       "      <td id=\"T_f5173_row0_col1\" class=\"data row0 col1\" >BCS70_basic_demographic</td>\n",
       "    </tr>\n",
       "    <tr>\n",
       "      <td id=\"T_f5173_row1_col0\" class=\"data row1 col0\" >Citation (APA)</td>\n",
       "      <td id=\"T_f5173_row1_col1\" class=\"data row1 col1\" >University College London, UCL Social Research Institute, Centre for Longitudinal Studies. (2021). <i>1970 British Cohort Study (BCS70): Basic demographic variables.</i> UK Longitudinal Linkage Collaboration (UK LLC).  <a href=\"https://doi.org/10.83126/ukllc-dataset-00104-01\" rel=\"noopener noreferrer\" target=\"_blank\">https://doi.org/10.83126/ukllc-dataset-00104-01</a></td>\n",
       "    </tr>\n",
       "    <tr>\n",
       "      <td id=\"T_f5173_row2_col0\" class=\"data row2 col0\" >Download Citation</td>\n",
       "      <td id=\"T_f5173_row2_col1\" class=\"data row2 col1\" > <a href=\"https://api.test.datacite.org/application/vnd.citationstyles.csl+json/10.83126/ukllc-dataset-00104-01\" rel=\"noopener noreferrer\" target=\"_blank\">Citeproc JSON</a>&nbsp;&nbsp;&nbsp;&nbsp; <a href=\"https://api.test.datacite.org/application/x-bibtex/10.83126/ukllc-dataset-00104-01\" rel=\"noopener noreferrer\" target=\"_blank\">BibTeX</a>&nbsp;&nbsp;&nbsp;&nbsp; <a href=\"https://api.test.datacite.org/application/x-research-info-systems/10.83126/ukllc-dataset-00104-01\" rel=\"noopener noreferrer\" target=\"_blank\">RIS</a></td>\n",
       "    </tr>\n",
       "    <tr>\n",
       "      <td id=\"T_f5173_row3_col0\" class=\"data row3 col0\" >Series</td>\n",
       "      <td id=\"T_f5173_row3_col1\" class=\"data row3 col1\" > <a href=\"https://guidebook.ukllc.ac.uk/docs/lps/lps%20profiles/BCS70\">1970 British Cohort Study (BCS70)</a></td>\n",
       "    </tr>\n",
       "    <tr>\n",
       "      <td id=\"T_f5173_row4_col0\" class=\"data row4 col0\" >Owner</td>\n",
       "      <td id=\"T_f5173_row4_col1\" class=\"data row4 col1\" >UCL</td>\n",
       "    </tr>\n",
       "    <tr>\n",
       "      <td id=\"T_f5173_row5_col0\" class=\"data row5 col0\" >Temporal Coverage</td>\n",
       "      <td id=\"T_f5173_row5_col1\" class=\"data row5 col1\" >04/1970 - 04/2016</td>\n",
       "    </tr>\n",
       "    <tr>\n",
       "      <td id=\"T_f5173_row6_col0\" class=\"data row6 col0\" >Keywords</td>\n",
       "      <td id=\"T_f5173_row6_col1\" class=\"data row6 col1\" >Demographics,Education,Employment,Income,Household,Mental Health</td>\n",
       "    </tr>\n",
       "    <tr>\n",
       "      <td id=\"T_f5173_row7_col0\" class=\"data row7 col0\" >Participants Invited</td>\n",
       "      <td id=\"T_f5173_row7_col1\" class=\"data row7 col1\" >17196</td>\n",
       "    </tr>\n",
       "    <tr>\n",
       "      <td id=\"T_f5173_row8_col0\" class=\"data row8 col0\" >Participant Count</td>\n",
       "      <td id=\"T_f5173_row8_col1\" class=\"data row8 col1\" >8527</td>\n",
       "    </tr>\n",
       "    <tr>\n",
       "      <td id=\"T_f5173_row9_col0\" class=\"data row9 col0\" >Number of variables</td>\n",
       "      <td id=\"T_f5173_row9_col1\" class=\"data row9 col1\" >19</td>\n",
       "    </tr>\n",
       "    <tr>\n",
       "      <td id=\"T_f5173_row10_col0\" class=\"data row10 col0\" >Number of observations</td>\n",
       "      <td id=\"T_f5173_row10_col1\" class=\"data row10 col1\" >18558</td>\n",
       "    </tr>\n",
       "    <tr>\n",
       "      <td id=\"T_f5173_row11_col0\" class=\"data row11 col0\" >Specific Restrictions to Data Use</td>\n",
       "      <td id=\"T_f5173_row11_col1\" class=\"data row11 col1\" >None</td>\n",
       "    </tr>\n",
       "    <tr>\n",
       "      <td id=\"T_f5173_row12_col0\" class=\"data row12 col0\" >Build a Data Request</td>\n",
       "      <td id=\"T_f5173_row12_col1\" class=\"data row12 col1\" > <a href=\"https://explore.ukllc.ac.uk/\" rel=\"noopener noreferrer\" target=\"_blank\">https://explore.ukllc.ac.uk/</a></td>\n",
       "    </tr>\n",
       "  </tbody>\n",
       "</table>\n"
      ],
      "text/plain": [
       "<pandas.io.formats.style.Styler at 0x1c8f6a77f20>"
      ]
     },
     "execution_count": 3,
     "metadata": {},
     "output_type": "execute_result"
    }
   ],
   "source": [
    "ds.info_table()"
   ]
  },
  {
   "cell_type": "markdown",
   "id": "85e1a575",
   "metadata": {},
   "source": [
    "## 2. Version History"
   ]
  },
  {
   "cell_type": "code",
   "execution_count": 4,
   "id": "75b706b6",
   "metadata": {
    "execution": {
     "iopub.execute_input": "2025-07-17T14:42:36.874119Z",
     "iopub.status.busy": "2025-07-17T14:42:36.873104Z",
     "iopub.status.idle": "2025-07-17T14:42:39.895326Z",
     "shell.execute_reply": "2025-07-17T14:42:39.892966Z"
    },
    "tags": [
     "remove-input"
    ]
   },
   "outputs": [
    {
     "data": {
      "text/html": [
       "<style type=\"text/css\">\n",
       "#T_852cd th {\n",
       "  text-align: left;\n",
       "}\n",
       "#T_852cd_row0_col0, #T_852cd_row0_col1, #T_852cd_row1_col0, #T_852cd_row1_col1, #T_852cd_row2_col0, #T_852cd_row2_col1, #T_852cd_row3_col0, #T_852cd_row3_col1, #T_852cd_row4_col0, #T_852cd_row4_col1 {\n",
       "  text-align: left;\n",
       "}\n",
       "</style>\n",
       "<table id=\"T_852cd\" style=\"font-size: 14px\">\n",
       "  <thead>\n",
       "    <tr>\n",
       "      <th id=\"T_852cd_level0_col0\" class=\"col_heading level0 col0\" >Version</th>\n",
       "      <th id=\"T_852cd_level0_col1\" class=\"col_heading level0 col1\" >1</th>\n",
       "    </tr>\n",
       "  </thead>\n",
       "  <tbody>\n",
       "    <tr>\n",
       "      <td id=\"T_852cd_row0_col0\" class=\"data row0 col0\" >Version Date</td>\n",
       "      <td id=\"T_852cd_row0_col1\" class=\"data row0 col1\" >01 Nov 2021</td>\n",
       "    </tr>\n",
       "    <tr>\n",
       "      <td id=\"T_852cd_row1_col0\" class=\"data row1 col0\" >Number of Variables</td>\n",
       "      <td id=\"T_852cd_row1_col1\" class=\"data row1 col1\" >51</td>\n",
       "    </tr>\n",
       "    <tr>\n",
       "      <td id=\"T_852cd_row2_col0\" class=\"data row2 col0\" >Number of Observations</td>\n",
       "      <td id=\"T_852cd_row2_col1\" class=\"data row2 col1\" >18558</td>\n",
       "    </tr>\n",
       "    <tr>\n",
       "      <td id=\"T_852cd_row3_col0\" class=\"data row3 col0\" >DOI</td>\n",
       "      <td id=\"T_852cd_row3_col1\" class=\"data row3 col1\" > <a href=\"https://doi.org/10.83126/ukllc-dataset-00104-01\" rel=\"noopener noreferrer\" target=\"_blank\">10.83126/ukllc-dataset-00104-01</a></td>\n",
       "    </tr>\n",
       "    <tr>\n",
       "      <td id=\"T_852cd_row4_col0\" class=\"data row4 col0\" >Change Log</td>\n",
       "      <td id=\"T_852cd_row4_col1\" class=\"data row4 col1\" > <a href=\"https://api.test.datacite.org/dois/10.83126/ukllc-dataset-00104-01/activities\" rel=\"noopener noreferrer\" target=\"_blank\">10.83126/ukllc-dataset-00104-01/activities</a></td>\n",
       "    </tr>\n",
       "  </tbody>\n",
       "</table>\n"
      ],
      "text/plain": [
       "<pandas.io.formats.style.Styler at 0x1c8f8823830>"
      ]
     },
     "execution_count": 4,
     "metadata": {},
     "output_type": "execute_result"
    }
   ],
   "source": [
    "ds.version_history()"
   ]
  },
  {
   "cell_type": "markdown",
   "id": "25aa018f",
   "metadata": {},
   "source": [
    "## 3. Documentation"
   ]
  },
  {
   "cell_type": "code",
   "execution_count": 5,
   "id": "5028f541",
   "metadata": {
    "execution": {
     "iopub.execute_input": "2025-07-17T14:42:39.901958Z",
     "iopub.status.busy": "2025-07-17T14:42:39.900959Z",
     "iopub.status.idle": "2025-07-17T14:42:39.909716Z",
     "shell.execute_reply": "2025-07-17T14:42:39.908307Z"
    },
    "tags": [
     "remove-input"
    ]
   },
   "outputs": [
    {
     "data": {
      "text/markdown": [
       "We are currently building a documentation storage system which will host useful documents related to datasets and data owners. We will surface these documents on Guidebook."
      ],
      "text/plain": [
       "<IPython.core.display.Markdown object>"
      ]
     },
     "metadata": {},
     "output_type": "display_data"
    }
   ],
   "source": [
    "ds.documentation()"
   ]
  },
  {
   "cell_type": "markdown",
   "id": "2b5f28d1",
   "metadata": {},
   "source": [
    "## 4. Useful Syntax"
   ]
  },
  {
   "cell_type": "code",
   "execution_count": 6,
   "id": "ea4ae6ad",
   "metadata": {
    "execution": {
     "iopub.execute_input": "2025-07-17T14:42:39.915725Z",
     "iopub.status.busy": "2025-07-17T14:42:39.914713Z",
     "iopub.status.idle": "2025-07-17T14:42:39.923176Z",
     "shell.execute_reply": "2025-07-17T14:42:39.922009Z"
    },
    "tags": [
     "remove-input"
    ]
   },
   "outputs": [
    {
     "data": {
      "text/markdown": [
       "Below we will include syntax that may be helpful to other researchers in the UK LLC TRE. For longer scripts, we will include a snippet of the code plus a link to Git where you can find the full scripts."
      ],
      "text/plain": [
       "<IPython.core.display.Markdown object>"
      ]
     },
     "metadata": {},
     "output_type": "display_data"
    }
   ],
   "source": [
    "ds.useful_syntax()"
   ]
  }
 ],
 "metadata": {
  "language_info": {
   "codemirror_mode": {
    "name": "ipython",
    "version": 3
   },
   "file_extension": ".py",
   "mimetype": "text/x-python",
   "name": "python",
   "nbconvert_exporter": "python",
   "pygments_lexer": "ipython3",
   "version": "3.12.7"
  }
 },
 "nbformat": 4,
 "nbformat_minor": 5
}
