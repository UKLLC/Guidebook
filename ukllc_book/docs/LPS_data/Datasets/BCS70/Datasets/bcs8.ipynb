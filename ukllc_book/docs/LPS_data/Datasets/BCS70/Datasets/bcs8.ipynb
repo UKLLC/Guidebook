{
 "cells": [
  {
   "cell_type": "markdown",
   "id": "9f4391d3",
   "metadata": {},
   "source": [
    "# Age 38 Main Survey Data (BCS70)"
   ]
  },
  {
   "cell_type": "code",
   "execution_count": 1,
   "id": "0f36637a",
   "metadata": {
    "execution": {
     "iopub.execute_input": "2025-07-28T13:29:38.923526Z",
     "iopub.status.busy": "2025-07-28T13:29:38.923526Z",
     "iopub.status.idle": "2025-07-28T13:29:49.562833Z",
     "shell.execute_reply": "2025-07-28T13:29:49.562833Z"
    },
    "tags": [
     "remove-input"
    ]
   },
   "outputs": [
    {
     "data": {
      "text/markdown": [
       ">Last modified: 28 Jul 2025"
      ],
      "text/plain": [
       "<IPython.core.display.Markdown object>"
      ]
     },
     "metadata": {},
     "output_type": "display_data"
    }
   ],
   "source": [
    "\n",
    "import sys\n",
    "import os\n",
    "sys.path.append(os.path.abspath('../../../../scripts/'))\n",
    "from data_doc_helper import LPSDataSet as DS, last_modified\n",
    "API_KEY = os.environ['FASTAPI_KEY']\n",
    "ds = DS(\"BCS70\", \"bcs8\")\n",
    "last_modified()\n"
   ]
  },
  {
   "cell_type": "markdown",
   "id": "39ef9a6f",
   "metadata": {},
   "source": [
    "## 1. Summary"
   ]
  },
  {
   "cell_type": "code",
   "execution_count": 2,
   "id": "99d451a9",
   "metadata": {
    "execution": {
     "iopub.execute_input": "2025-07-28T13:29:49.565839Z",
     "iopub.status.busy": "2025-07-28T13:29:49.565839Z",
     "iopub.status.idle": "2025-07-28T13:29:49.569876Z",
     "shell.execute_reply": "2025-07-28T13:29:49.569876Z"
    },
    "tags": [
     "remove-input"
    ]
   },
   "outputs": [
    {
     "data": {
      "text/markdown": [
       "The 2008-9 follow-up is comprised of a twenty-five minute telephone interview. As in all recent followups the main aim is to update information gathered in previous surveys in order to explore the factors central to the formation and maintenance of adult identity in Lifelong learning, Relationships, parenting and housing, Employment and income, Health and health behaviour, Citizenship and values"
      ],
      "text/plain": [
       "<IPython.core.display.Markdown object>"
      ]
     },
     "metadata": {},
     "output_type": "display_data"
    }
   ],
   "source": [
    "ds.summary()"
   ]
  },
  {
   "cell_type": "code",
   "execution_count": 3,
   "id": "8fbd10c3",
   "metadata": {
    "execution": {
     "iopub.execute_input": "2025-07-28T13:29:49.571884Z",
     "iopub.status.busy": "2025-07-28T13:29:49.571884Z",
     "iopub.status.idle": "2025-07-28T13:29:54.650884Z",
     "shell.execute_reply": "2025-07-28T13:29:54.650884Z"
    },
    "tags": [
     "remove-input"
    ]
   },
   "outputs": [
    {
     "data": {
      "text/html": [
       "<style type=\"text/css\">\n",
       "#T_429ac th {\n",
       "  text-align: left;\n",
       "}\n",
       "#T_429ac_row0_col0, #T_429ac_row0_col1, #T_429ac_row1_col0, #T_429ac_row1_col1, #T_429ac_row2_col0, #T_429ac_row2_col1, #T_429ac_row3_col0, #T_429ac_row3_col1, #T_429ac_row4_col0, #T_429ac_row4_col1, #T_429ac_row5_col0, #T_429ac_row5_col1, #T_429ac_row6_col0, #T_429ac_row6_col1, #T_429ac_row7_col0, #T_429ac_row7_col1, #T_429ac_row8_col0, #T_429ac_row8_col1, #T_429ac_row9_col0, #T_429ac_row9_col1, #T_429ac_row10_col0, #T_429ac_row10_col1, #T_429ac_row11_col0, #T_429ac_row11_col1, #T_429ac_row12_col0, #T_429ac_row12_col1 {\n",
       "  text-align: left;\n",
       "}\n",
       "</style>\n",
       "<table id=\"T_429ac\" style=\"font-size: 14px\">\n",
       "  <thead>\n",
       "    <tr>\n",
       "      <th id=\"T_429ac_level0_col0\" class=\"col_heading level0 col0\" >Dataset Descriptor</th>\n",
       "      <th id=\"T_429ac_level0_col1\" class=\"col_heading level0 col1\" >Dataset-specific Information</th>\n",
       "    </tr>\n",
       "  </thead>\n",
       "  <tbody>\n",
       "    <tr>\n",
       "      <td id=\"T_429ac_row0_col0\" class=\"data row0 col0\" >Name of Dataset in TRE</td>\n",
       "      <td id=\"T_429ac_row0_col1\" class=\"data row0 col1\" >BCS70_bcs8</td>\n",
       "    </tr>\n",
       "    <tr>\n",
       "      <td id=\"T_429ac_row1_col0\" class=\"data row1 col0\" >Citation (APA)</td>\n",
       "      <td id=\"T_429ac_row1_col1\" class=\"data row1 col1\" >University College London, UCL Social Research Institute, Centre for Longitudinal Studies. (2021). <i>1970 British Cohort Study (BCS70): Age 38 Main Survey Data.</i> UK Longitudinal Linkage Collaboration (UK LLC).  <a href=\"https://doi.org/10.71760/ukllc-dataset-00059-01\" rel=\"noopener noreferrer\" target=\"_blank\">https://doi.org/10.71760/ukllc-dataset-00059-01</a></td>\n",
       "    </tr>\n",
       "    <tr>\n",
       "      <td id=\"T_429ac_row2_col0\" class=\"data row2 col0\" >Download Citation</td>\n",
       "      <td id=\"T_429ac_row2_col1\" class=\"data row2 col1\" > <a href=\"https://api.datacite.org/application/vnd.citationstyles.csl+json/10.71760/ukllc-dataset-00059-01\" rel=\"noopener noreferrer\" target=\"_blank\">Citeproc JSON</a>&nbsp;&nbsp;&nbsp;&nbsp; <a href=\"https://api.datacite.org/application/x-bibtex/10.71760/ukllc-dataset-00059-01\" rel=\"noopener noreferrer\" target=\"_blank\">BibTeX</a>&nbsp;&nbsp;&nbsp;&nbsp; <a href=\"https://api.datacite.org/application/x-research-info-systems/10.71760/ukllc-dataset-00059-01\" rel=\"noopener noreferrer\" target=\"_blank\">RIS</a></td>\n",
       "    </tr>\n",
       "    <tr>\n",
       "      <td id=\"T_429ac_row3_col0\" class=\"data row3 col0\" >Series</td>\n",
       "      <td id=\"T_429ac_row3_col1\" class=\"data row3 col1\" > <a href=\"https://guidebook.ukllc.ac.uk/docs/lps_data/lps%20profiles/BCS70\">1970 British Cohort Study (BCS70)</a></td>\n",
       "    </tr>\n",
       "    <tr>\n",
       "      <td id=\"T_429ac_row4_col0\" class=\"data row4 col0\" >Owner</td>\n",
       "      <td id=\"T_429ac_row4_col1\" class=\"data row4 col1\" >UCL</td>\n",
       "    </tr>\n",
       "    <tr>\n",
       "      <td id=\"T_429ac_row5_col0\" class=\"data row5 col0\" >Temporal Coverage</td>\n",
       "      <td id=\"T_429ac_row5_col1\" class=\"data row5 col1\" >04/2008 - 04/2009</td>\n",
       "    </tr>\n",
       "    <tr>\n",
       "      <td id=\"T_429ac_row6_col0\" class=\"data row6 col0\" >Keywords</td>\n",
       "      <td id=\"T_429ac_row6_col1\" class=\"data row6 col1\" >Health,Employment,Housing,Well-being,Family Life,Social mobility</td>\n",
       "    </tr>\n",
       "    <tr>\n",
       "      <td id=\"T_429ac_row7_col0\" class=\"data row7 col0\" >Participants Invited</td>\n",
       "      <td id=\"T_429ac_row7_col1\" class=\"data row7 col1\" >8874</td>\n",
       "    </tr>\n",
       "    <tr>\n",
       "      <td id=\"T_429ac_row8_col0\" class=\"data row8 col0\" >Participant Count</td>\n",
       "      <td id=\"T_429ac_row8_col1\" class=\"data row8 col1\" >6747</td>\n",
       "    </tr>\n",
       "    <tr>\n",
       "      <td id=\"T_429ac_row9_col0\" class=\"data row9 col0\" >Number of variables</td>\n",
       "      <td id=\"T_429ac_row9_col1\" class=\"data row9 col1\" >2984</td>\n",
       "    </tr>\n",
       "    <tr>\n",
       "      <td id=\"T_429ac_row10_col0\" class=\"data row10 col0\" >Number of observations</td>\n",
       "      <td id=\"T_429ac_row10_col1\" class=\"data row10 col1\" >8874</td>\n",
       "    </tr>\n",
       "    <tr>\n",
       "      <td id=\"T_429ac_row11_col0\" class=\"data row11 col0\" >Specific Restrictions to Data Use</td>\n",
       "      <td id=\"T_429ac_row11_col1\" class=\"data row11 col1\" >None</td>\n",
       "    </tr>\n",
       "    <tr>\n",
       "      <td id=\"T_429ac_row12_col0\" class=\"data row12 col0\" >Build a Data Request</td>\n",
       "      <td id=\"T_429ac_row12_col1\" class=\"data row12 col1\" > <a href=\"https://explore.ukllc.ac.uk/\" rel=\"noopener noreferrer\" target=\"_blank\">https://explore.ukllc.ac.uk/</a></td>\n",
       "    </tr>\n",
       "  </tbody>\n",
       "</table>\n"
      ],
      "text/plain": [
       "<pandas.io.formats.style.Styler at 0x1cedeb96e40>"
      ]
     },
     "execution_count": 3,
     "metadata": {},
     "output_type": "execute_result"
    }
   ],
   "source": [
    "ds.info_table()"
   ]
  },
  {
   "cell_type": "markdown",
   "id": "dedde602",
   "metadata": {},
   "source": [
    "## 2. Version History"
   ]
  },
  {
   "cell_type": "code",
   "execution_count": 4,
   "id": "a9892995",
   "metadata": {
    "execution": {
     "iopub.execute_input": "2025-07-28T13:29:54.653895Z",
     "iopub.status.busy": "2025-07-28T13:29:54.652895Z",
     "iopub.status.idle": "2025-07-28T13:29:57.833831Z",
     "shell.execute_reply": "2025-07-28T13:29:57.833831Z"
    },
    "tags": [
     "remove-input"
    ]
   },
   "outputs": [
    {
     "data": {
      "text/html": [
       "<style type=\"text/css\">\n",
       "#T_9476b th {\n",
       "  text-align: left;\n",
       "}\n",
       "#T_9476b_row0_col0, #T_9476b_row0_col1, #T_9476b_row1_col0, #T_9476b_row1_col1, #T_9476b_row2_col0, #T_9476b_row2_col1, #T_9476b_row3_col0, #T_9476b_row3_col1, #T_9476b_row4_col0, #T_9476b_row4_col1 {\n",
       "  text-align: left;\n",
       "}\n",
       "</style>\n",
       "<table id=\"T_9476b\" style=\"font-size: 14px\">\n",
       "  <thead>\n",
       "    <tr>\n",
       "      <th id=\"T_9476b_level0_col0\" class=\"col_heading level0 col0\" >Version</th>\n",
       "      <th id=\"T_9476b_level0_col1\" class=\"col_heading level0 col1\" >1</th>\n",
       "    </tr>\n",
       "  </thead>\n",
       "  <tbody>\n",
       "    <tr>\n",
       "      <td id=\"T_9476b_row0_col0\" class=\"data row0 col0\" >Version Date</td>\n",
       "      <td id=\"T_9476b_row0_col1\" class=\"data row0 col1\" >01 Nov 2021</td>\n",
       "    </tr>\n",
       "    <tr>\n",
       "      <td id=\"T_9476b_row1_col0\" class=\"data row1 col0\" >Number of Variables</td>\n",
       "      <td id=\"T_9476b_row1_col1\" class=\"data row1 col1\" >2990</td>\n",
       "    </tr>\n",
       "    <tr>\n",
       "      <td id=\"T_9476b_row2_col0\" class=\"data row2 col0\" >Number of Observations</td>\n",
       "      <td id=\"T_9476b_row2_col1\" class=\"data row2 col1\" >8874</td>\n",
       "    </tr>\n",
       "    <tr>\n",
       "      <td id=\"T_9476b_row3_col0\" class=\"data row3 col0\" >DOI</td>\n",
       "      <td id=\"T_9476b_row3_col1\" class=\"data row3 col1\" > <a href=\"https://doi.org/10.71760/ukllc-dataset-00059-01\" rel=\"noopener noreferrer\" target=\"_blank\">10.71760/ukllc-dataset-00059-01</a></td>\n",
       "    </tr>\n",
       "    <tr>\n",
       "      <td id=\"T_9476b_row4_col0\" class=\"data row4 col0\" >Change Log</td>\n",
       "      <td id=\"T_9476b_row4_col1\" class=\"data row4 col1\" > <a href=\"https://api.test.datacite.org/dois/10.71760/ukllc-dataset-00059-01/activities\" rel=\"noopener noreferrer\" target=\"_blank\">10.71760/ukllc-dataset-00059-01/activities</a></td>\n",
       "    </tr>\n",
       "  </tbody>\n",
       "</table>\n"
      ],
      "text/plain": [
       "<pandas.io.formats.style.Styler at 0x1cedec05a90>"
      ]
     },
     "execution_count": 4,
     "metadata": {},
     "output_type": "execute_result"
    }
   ],
   "source": [
    "ds.version_history()"
   ]
  },
  {
   "cell_type": "markdown",
   "id": "273ff839",
   "metadata": {},
   "source": [
    "## 3. Documentation"
   ]
  },
  {
   "cell_type": "code",
   "execution_count": 5,
   "id": "37a0d26e",
   "metadata": {
    "execution": {
     "iopub.execute_input": "2025-07-28T13:29:57.837216Z",
     "iopub.status.busy": "2025-07-28T13:29:57.837216Z",
     "iopub.status.idle": "2025-07-28T13:29:57.841223Z",
     "shell.execute_reply": "2025-07-28T13:29:57.841223Z"
    },
    "tags": [
     "remove-input"
    ]
   },
   "outputs": [
    {
     "data": {
      "text/markdown": [
       "We are currently building a documentation storage system which will host useful documents related to datasets and data owners. We will surface these documents on Guidebook."
      ],
      "text/plain": [
       "<IPython.core.display.Markdown object>"
      ]
     },
     "metadata": {},
     "output_type": "display_data"
    }
   ],
   "source": [
    "ds.documentation()"
   ]
  },
  {
   "cell_type": "markdown",
   "id": "aaa8ef70",
   "metadata": {},
   "source": [
    "## 4. Useful Syntax"
   ]
  },
  {
   "cell_type": "code",
   "execution_count": 6,
   "id": "dbd00c44",
   "metadata": {
    "execution": {
     "iopub.execute_input": "2025-07-28T13:29:57.843234Z",
     "iopub.status.busy": "2025-07-28T13:29:57.843234Z",
     "iopub.status.idle": "2025-07-28T13:29:57.846233Z",
     "shell.execute_reply": "2025-07-28T13:29:57.846233Z"
    },
    "tags": [
     "remove-input"
    ]
   },
   "outputs": [
    {
     "data": {
      "text/markdown": [
       "Below we will include syntax that may be helpful to other researchers in the UK LLC TRE. For longer scripts, we will include a snippet of the code plus a link to Git where you can find the full scripts."
      ],
      "text/plain": [
       "<IPython.core.display.Markdown object>"
      ]
     },
     "metadata": {},
     "output_type": "display_data"
    }
   ],
   "source": [
    "ds.useful_syntax()"
   ]
  }
 ],
 "metadata": {
  "kernelspec": {
   "display_name": "jupbook",
   "language": "python",
   "name": "python3"
  },
  "language_info": {
   "codemirror_mode": {
    "name": "ipython",
    "version": 3
   },
   "file_extension": ".py",
   "mimetype": "text/x-python",
   "name": "python",
   "nbconvert_exporter": "python",
   "pygments_lexer": "ipython3",
   "version": "3.13.2"
  }
 },
 "nbformat": 4,
 "nbformat_minor": 5
}
