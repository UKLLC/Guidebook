{
 "cells": [
  {
   "cell_type": "markdown",
   "id": "e059ba22",
   "metadata": {},
   "source": [
    "# Age 16 Derived Data (BCS70)"
   ]
  },
  {
   "cell_type": "code",
   "execution_count": 1,
   "id": "8b6fcae1",
   "metadata": {
    "execution": {
     "iopub.execute_input": "2025-07-28T18:30:22.947126Z",
     "iopub.status.busy": "2025-07-28T18:30:22.947126Z",
     "iopub.status.idle": "2025-07-28T18:30:35.927673Z",
     "shell.execute_reply": "2025-07-28T18:30:35.922655Z"
    },
    "tags": [
     "remove-input"
    ]
   },
   "outputs": [
    {
     "data": {
      "text/markdown": [
       ">Last modified: 28 Jul 2025"
      ],
      "text/plain": [
       "<IPython.core.display.Markdown object>"
      ]
     },
     "metadata": {},
     "output_type": "display_data"
    }
   ],
   "source": [
    "\n",
    "import sys\n",
    "import os\n",
    "sys.path.append(os.path.abspath('../../../../scripts/'))\n",
    "from data_doc_helper import LPSDataSet as DS, last_modified\n",
    "API_KEY = os.environ['FASTAPI_KEY']\n",
    "ds = DS(\"BCS70\", \"bcs4_derived\")\n",
    "last_modified()\n"
   ]
  },
  {
   "cell_type": "markdown",
   "id": "636476a4",
   "metadata": {},
   "source": [
    "## 1. Summary"
   ]
  },
  {
   "cell_type": "code",
   "execution_count": 2,
   "id": "4c5230f0",
   "metadata": {
    "execution": {
     "iopub.execute_input": "2025-07-28T18:30:35.938673Z",
     "iopub.status.busy": "2025-07-28T18:30:35.937674Z",
     "iopub.status.idle": "2025-07-28T18:30:35.953746Z",
     "shell.execute_reply": "2025-07-28T18:30:35.952223Z"
    },
    "tags": [
     "remove-input"
    ]
   },
   "outputs": [
    {
     "data": {
      "text/markdown": [
       "Derivations based on collected sweep 4 survey data including region of residence, parent social class, reading and vocabulary tests, CM and parent malaise and rutter score"
      ],
      "text/plain": [
       "<IPython.core.display.Markdown object>"
      ]
     },
     "metadata": {},
     "output_type": "display_data"
    }
   ],
   "source": [
    "ds.summary()"
   ]
  },
  {
   "cell_type": "code",
   "execution_count": 3,
   "id": "54ef5467",
   "metadata": {
    "execution": {
     "iopub.execute_input": "2025-07-28T18:30:35.960137Z",
     "iopub.status.busy": "2025-07-28T18:30:35.960137Z",
     "iopub.status.idle": "2025-07-28T18:30:37.571934Z",
     "shell.execute_reply": "2025-07-28T18:30:37.569914Z"
    },
    "tags": [
     "remove-input"
    ]
   },
   "outputs": [
    {
     "data": {
      "text/html": [
       "<style type=\"text/css\">\n",
       "#T_229aa th {\n",
       "  text-align: left;\n",
       "}\n",
       "#T_229aa_row0_col0, #T_229aa_row0_col1, #T_229aa_row1_col0, #T_229aa_row1_col1, #T_229aa_row2_col0, #T_229aa_row2_col1, #T_229aa_row3_col0, #T_229aa_row3_col1, #T_229aa_row4_col0, #T_229aa_row4_col1, #T_229aa_row5_col0, #T_229aa_row5_col1, #T_229aa_row6_col0, #T_229aa_row6_col1, #T_229aa_row7_col0, #T_229aa_row7_col1, #T_229aa_row8_col0, #T_229aa_row8_col1, #T_229aa_row9_col0, #T_229aa_row9_col1, #T_229aa_row10_col0, #T_229aa_row10_col1, #T_229aa_row11_col0, #T_229aa_row11_col1, #T_229aa_row12_col0, #T_229aa_row12_col1 {\n",
       "  text-align: left;\n",
       "}\n",
       "</style>\n",
       "<table id=\"T_229aa\" style=\"font-size: 14px\">\n",
       "  <thead>\n",
       "    <tr>\n",
       "      <th id=\"T_229aa_level0_col0\" class=\"col_heading level0 col0\" >Dataset Descriptor</th>\n",
       "      <th id=\"T_229aa_level0_col1\" class=\"col_heading level0 col1\" >Dataset-specific Information</th>\n",
       "    </tr>\n",
       "  </thead>\n",
       "  <tbody>\n",
       "    <tr>\n",
       "      <td id=\"T_229aa_row0_col0\" class=\"data row0 col0\" >Name of Dataset in TRE</td>\n",
       "      <td id=\"T_229aa_row0_col1\" class=\"data row0 col1\" >BCS70_bcs4_derived</td>\n",
       "    </tr>\n",
       "    <tr>\n",
       "      <td id=\"T_229aa_row1_col0\" class=\"data row1 col0\" >Citation (APA)</td>\n",
       "      <td id=\"T_229aa_row1_col1\" class=\"data row1 col1\" >University College London, UCL Social Research Institute, Centre for Longitudinal Studies. (2021). <i>1970 British Cohort Study (BCS70): Age 16 Derived Data.</i> UK Longitudinal Linkage Collaboration (UK LLC).  <a href=\"https://doi.org/10.71760/ukllc-dataset-00046-01\" rel=\"noopener noreferrer\" target=\"_blank\">https://doi.org/10.71760/ukllc-dataset-00046-01</a></td>\n",
       "    </tr>\n",
       "    <tr>\n",
       "      <td id=\"T_229aa_row2_col0\" class=\"data row2 col0\" >Download Citation</td>\n",
       "      <td id=\"T_229aa_row2_col1\" class=\"data row2 col1\" > <a href=\"https://api.datacite.org/application/vnd.citationstyles.csl+json/10.71760/ukllc-dataset-00046-01\" rel=\"noopener noreferrer\" target=\"_blank\">Citeproc JSON</a>&nbsp;&nbsp;&nbsp;&nbsp; <a href=\"https://api.datacite.org/application/x-bibtex/10.71760/ukllc-dataset-00046-01\" rel=\"noopener noreferrer\" target=\"_blank\">BibTeX</a>&nbsp;&nbsp;&nbsp;&nbsp; <a href=\"https://api.datacite.org/application/x-research-info-systems/10.71760/ukllc-dataset-00046-01\" rel=\"noopener noreferrer\" target=\"_blank\">RIS</a></td>\n",
       "    </tr>\n",
       "    <tr>\n",
       "      <td id=\"T_229aa_row3_col0\" class=\"data row3 col0\" >Series</td>\n",
       "      <td id=\"T_229aa_row3_col1\" class=\"data row3 col1\" > <a href=\"https://guidebook.ukllc.ac.uk/docs/lps_data/lps%20profiles/BCS70\">1970 British Cohort Study (BCS70)</a></td>\n",
       "    </tr>\n",
       "    <tr>\n",
       "      <td id=\"T_229aa_row4_col0\" class=\"data row4 col0\" >Owner</td>\n",
       "      <td id=\"T_229aa_row4_col1\" class=\"data row4 col1\" >UCL</td>\n",
       "    </tr>\n",
       "    <tr>\n",
       "      <td id=\"T_229aa_row5_col0\" class=\"data row5 col0\" >Temporal Coverage</td>\n",
       "      <td id=\"T_229aa_row5_col1\" class=\"data row5 col1\" >04/1986 - 04/1987</td>\n",
       "    </tr>\n",
       "    <tr>\n",
       "      <td id=\"T_229aa_row6_col0\" class=\"data row6 col0\" >Keywords</td>\n",
       "      <td id=\"T_229aa_row6_col1\" class=\"data row6 col1\" >Health,Education,Leisure & sport,Attitudes,Youth,Employment</td>\n",
       "    </tr>\n",
       "    <tr>\n",
       "      <td id=\"T_229aa_row7_col0\" class=\"data row7 col0\" >Participants Invited</td>\n",
       "      <td id=\"T_229aa_row7_col1\" class=\"data row7 col1\" >11622</td>\n",
       "    </tr>\n",
       "    <tr>\n",
       "      <td id=\"T_229aa_row8_col0\" class=\"data row8 col0\" >Participant Count</td>\n",
       "      <td id=\"T_229aa_row8_col1\" class=\"data row8 col1\" >6722</td>\n",
       "    </tr>\n",
       "    <tr>\n",
       "      <td id=\"T_229aa_row9_col0\" class=\"data row9 col0\" >Number of variables</td>\n",
       "      <td id=\"T_229aa_row9_col1\" class=\"data row9 col1\" >20</td>\n",
       "    </tr>\n",
       "    <tr>\n",
       "      <td id=\"T_229aa_row10_col0\" class=\"data row10 col0\" >Number of observations</td>\n",
       "      <td id=\"T_229aa_row10_col1\" class=\"data row10 col1\" >11615</td>\n",
       "    </tr>\n",
       "    <tr>\n",
       "      <td id=\"T_229aa_row11_col0\" class=\"data row11 col0\" >Specific Restrictions to Data Use</td>\n",
       "      <td id=\"T_229aa_row11_col1\" class=\"data row11 col1\" >None</td>\n",
       "    </tr>\n",
       "    <tr>\n",
       "      <td id=\"T_229aa_row12_col0\" class=\"data row12 col0\" >Build a Data Request</td>\n",
       "      <td id=\"T_229aa_row12_col1\" class=\"data row12 col1\" > <a href=\"https://explore.ukllc.ac.uk/\" rel=\"noopener noreferrer\" target=\"_blank\">https://explore.ukllc.ac.uk/</a></td>\n",
       "    </tr>\n",
       "  </tbody>\n",
       "</table>\n"
      ],
      "text/plain": [
       "<pandas.io.formats.style.Styler at 0x1a961a105c0>"
      ]
     },
     "execution_count": 3,
     "metadata": {},
     "output_type": "execute_result"
    }
   ],
   "source": [
    "ds.info_table()"
   ]
  },
  {
   "cell_type": "markdown",
   "id": "3dd69a87",
   "metadata": {},
   "source": [
    "## 2. Version History"
   ]
  },
  {
   "cell_type": "code",
   "execution_count": 4,
   "id": "3d273626",
   "metadata": {
    "execution": {
     "iopub.execute_input": "2025-07-28T18:30:37.580933Z",
     "iopub.status.busy": "2025-07-28T18:30:37.579941Z",
     "iopub.status.idle": "2025-07-28T18:30:43.152420Z",
     "shell.execute_reply": "2025-07-28T18:30:43.147143Z"
    },
    "tags": [
     "remove-input"
    ]
   },
   "outputs": [
    {
     "data": {
      "text/html": [
       "<style type=\"text/css\">\n",
       "#T_71869 th {\n",
       "  text-align: left;\n",
       "}\n",
       "#T_71869_row0_col0, #T_71869_row0_col1, #T_71869_row1_col0, #T_71869_row1_col1, #T_71869_row2_col0, #T_71869_row2_col1, #T_71869_row3_col0, #T_71869_row3_col1, #T_71869_row4_col0, #T_71869_row4_col1 {\n",
       "  text-align: left;\n",
       "}\n",
       "</style>\n",
       "<table id=\"T_71869\" style=\"font-size: 14px\">\n",
       "  <thead>\n",
       "    <tr>\n",
       "      <th id=\"T_71869_level0_col0\" class=\"col_heading level0 col0\" >Version</th>\n",
       "      <th id=\"T_71869_level0_col1\" class=\"col_heading level0 col1\" >1</th>\n",
       "    </tr>\n",
       "  </thead>\n",
       "  <tbody>\n",
       "    <tr>\n",
       "      <td id=\"T_71869_row0_col0\" class=\"data row0 col0\" >Version Date</td>\n",
       "      <td id=\"T_71869_row0_col1\" class=\"data row0 col1\" >01 Nov 2021</td>\n",
       "    </tr>\n",
       "    <tr>\n",
       "      <td id=\"T_71869_row1_col0\" class=\"data row1 col0\" >Number of Variables</td>\n",
       "      <td id=\"T_71869_row1_col1\" class=\"data row1 col1\" >20</td>\n",
       "    </tr>\n",
       "    <tr>\n",
       "      <td id=\"T_71869_row2_col0\" class=\"data row2 col0\" >Number of Observations</td>\n",
       "      <td id=\"T_71869_row2_col1\" class=\"data row2 col1\" >11615</td>\n",
       "    </tr>\n",
       "    <tr>\n",
       "      <td id=\"T_71869_row3_col0\" class=\"data row3 col0\" >DOI</td>\n",
       "      <td id=\"T_71869_row3_col1\" class=\"data row3 col1\" > <a href=\"https://doi.org/10.71760/ukllc-dataset-00046-01\" rel=\"noopener noreferrer\" target=\"_blank\">10.71760/ukllc-dataset-00046-01</a></td>\n",
       "    </tr>\n",
       "    <tr>\n",
       "      <td id=\"T_71869_row4_col0\" class=\"data row4 col0\" >Change Log</td>\n",
       "      <td id=\"T_71869_row4_col1\" class=\"data row4 col1\" > <a href=\"https://api.test.datacite.org/dois/10.71760/ukllc-dataset-00046-01/activities\" rel=\"noopener noreferrer\" target=\"_blank\">10.71760/ukllc-dataset-00046-01/activities</a></td>\n",
       "    </tr>\n",
       "  </tbody>\n",
       "</table>\n"
      ],
      "text/plain": [
       "<pandas.io.formats.style.Styler at 0x1a961a10590>"
      ]
     },
     "execution_count": 4,
     "metadata": {},
     "output_type": "execute_result"
    }
   ],
   "source": [
    "ds.version_history()"
   ]
  },
  {
   "cell_type": "markdown",
   "id": "7ee3e3b3",
   "metadata": {},
   "source": [
    "## 3. Documentation"
   ]
  },
  {
   "cell_type": "code",
   "execution_count": 5,
   "id": "61edba6c",
   "metadata": {
    "execution": {
     "iopub.execute_input": "2025-07-28T18:30:43.162441Z",
     "iopub.status.busy": "2025-07-28T18:30:43.161418Z",
     "iopub.status.idle": "2025-07-28T18:30:43.174354Z",
     "shell.execute_reply": "2025-07-28T18:30:43.172777Z"
    },
    "tags": [
     "remove-input"
    ]
   },
   "outputs": [
    {
     "data": {
      "text/markdown": [
       "We are currently building a documentation storage system which will host useful documents related to datasets and data owners. We will surface these documents on Guidebook."
      ],
      "text/plain": [
       "<IPython.core.display.Markdown object>"
      ]
     },
     "metadata": {},
     "output_type": "display_data"
    }
   ],
   "source": [
    "ds.documentation()"
   ]
  },
  {
   "cell_type": "markdown",
   "id": "94cc6347",
   "metadata": {},
   "source": [
    "## 4. Useful Syntax"
   ]
  },
  {
   "cell_type": "code",
   "execution_count": 6,
   "id": "6838c642",
   "metadata": {
    "execution": {
     "iopub.execute_input": "2025-07-28T18:30:43.182188Z",
     "iopub.status.busy": "2025-07-28T18:30:43.182188Z",
     "iopub.status.idle": "2025-07-28T18:30:43.194279Z",
     "shell.execute_reply": "2025-07-28T18:30:43.192336Z"
    },
    "tags": [
     "remove-input"
    ]
   },
   "outputs": [
    {
     "data": {
      "text/markdown": [
       "Below we will include syntax that may be helpful to other researchers in the UK LLC TRE. For longer scripts, we will include a snippet of the code plus a link to Git where you can find the full scripts."
      ],
      "text/plain": [
       "<IPython.core.display.Markdown object>"
      ]
     },
     "metadata": {},
     "output_type": "display_data"
    }
   ],
   "source": [
    "ds.useful_syntax()"
   ]
  }
 ],
 "metadata": {
  "language_info": {
   "codemirror_mode": {
    "name": "ipython",
    "version": 3
   },
   "file_extension": ".py",
   "mimetype": "text/x-python",
   "name": "python",
   "nbconvert_exporter": "python",
   "pygments_lexer": "ipython3",
   "version": "3.12.7"
  }
 },
 "nbformat": 4,
 "nbformat_minor": 5
}
