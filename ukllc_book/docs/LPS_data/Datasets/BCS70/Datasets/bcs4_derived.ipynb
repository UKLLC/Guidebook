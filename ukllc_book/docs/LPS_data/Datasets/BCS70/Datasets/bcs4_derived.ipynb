{
 "cells": [
  {
   "cell_type": "markdown",
   "id": "e059ba22",
   "metadata": {},
   "source": [
    "# Age 16 Derived Data (BCS70)"
   ]
  },
  {
   "cell_type": "code",
   "execution_count": 1,
   "id": "8b6fcae1",
   "metadata": {
    "execution": {
     "iopub.execute_input": "2025-07-17T14:48:38.326836Z",
     "iopub.status.busy": "2025-07-17T14:48:38.325838Z",
     "iopub.status.idle": "2025-07-17T14:48:46.336060Z",
     "shell.execute_reply": "2025-07-17T14:48:46.335044Z"
    },
    "tags": [
     "remove-input"
    ]
   },
   "outputs": [
    {
     "data": {
      "text/markdown": [
       ">Last modified: 17 Jul 2025"
      ],
      "text/plain": [
       "<IPython.core.display.Markdown object>"
      ]
     },
     "metadata": {},
     "output_type": "display_data"
    }
   ],
   "source": [
    "\n",
    "import sys\n",
    "import os\n",
    "sys.path.append(os.path.abspath('../../../../scripts/'))\n",
    "from data_doc_helper import LPSDataSet as DS, last_modified\n",
    "API_KEY = os.environ['FASTAPI_KEY']\n",
    "ds = DS(\"BCS70\", \"bcs4_derived\")\n",
    "last_modified()\n"
   ]
  },
  {
   "cell_type": "markdown",
   "id": "636476a4",
   "metadata": {},
   "source": [
    "## 1. Summary"
   ]
  },
  {
   "cell_type": "code",
   "execution_count": 2,
   "id": "4c5230f0",
   "metadata": {
    "execution": {
     "iopub.execute_input": "2025-07-17T14:48:46.343058Z",
     "iopub.status.busy": "2025-07-17T14:48:46.343058Z",
     "iopub.status.idle": "2025-07-17T14:48:46.352722Z",
     "shell.execute_reply": "2025-07-17T14:48:46.351519Z"
    },
    "tags": [
     "remove-input"
    ]
   },
   "outputs": [
    {
     "data": {
      "text/markdown": [
       "Derivations based on collected sweep 4 survey data including region of residence, parent social class, reading and vocabulary tests, CM and parent malaise and rutter score"
      ],
      "text/plain": [
       "<IPython.core.display.Markdown object>"
      ]
     },
     "metadata": {},
     "output_type": "display_data"
    }
   ],
   "source": [
    "ds.summary()"
   ]
  },
  {
   "cell_type": "code",
   "execution_count": 3,
   "id": "54ef5467",
   "metadata": {
    "execution": {
     "iopub.execute_input": "2025-07-17T14:48:46.358883Z",
     "iopub.status.busy": "2025-07-17T14:48:46.357778Z",
     "iopub.status.idle": "2025-07-17T14:48:47.401918Z",
     "shell.execute_reply": "2025-07-17T14:48:47.400902Z"
    },
    "tags": [
     "remove-input"
    ]
   },
   "outputs": [
    {
     "data": {
      "text/html": [
       "<style type=\"text/css\">\n",
       "#T_c7b29 th {\n",
       "  text-align: left;\n",
       "}\n",
       "#T_c7b29_row0_col0, #T_c7b29_row0_col1, #T_c7b29_row1_col0, #T_c7b29_row1_col1, #T_c7b29_row2_col0, #T_c7b29_row2_col1, #T_c7b29_row3_col0, #T_c7b29_row3_col1, #T_c7b29_row4_col0, #T_c7b29_row4_col1, #T_c7b29_row5_col0, #T_c7b29_row5_col1, #T_c7b29_row6_col0, #T_c7b29_row6_col1, #T_c7b29_row7_col0, #T_c7b29_row7_col1, #T_c7b29_row8_col0, #T_c7b29_row8_col1, #T_c7b29_row9_col0, #T_c7b29_row9_col1, #T_c7b29_row10_col0, #T_c7b29_row10_col1, #T_c7b29_row11_col0, #T_c7b29_row11_col1, #T_c7b29_row12_col0, #T_c7b29_row12_col1 {\n",
       "  text-align: left;\n",
       "}\n",
       "</style>\n",
       "<table id=\"T_c7b29\" style=\"font-size: 14px\">\n",
       "  <thead>\n",
       "    <tr>\n",
       "      <th id=\"T_c7b29_level0_col0\" class=\"col_heading level0 col0\" >Dataset Descriptor</th>\n",
       "      <th id=\"T_c7b29_level0_col1\" class=\"col_heading level0 col1\" >Dataset-specific Information</th>\n",
       "    </tr>\n",
       "  </thead>\n",
       "  <tbody>\n",
       "    <tr>\n",
       "      <td id=\"T_c7b29_row0_col0\" class=\"data row0 col0\" >Name of Dataset in TRE</td>\n",
       "      <td id=\"T_c7b29_row0_col1\" class=\"data row0 col1\" >BCS70_bcs4_derived</td>\n",
       "    </tr>\n",
       "    <tr>\n",
       "      <td id=\"T_c7b29_row1_col0\" class=\"data row1 col0\" >Citation (APA)</td>\n",
       "      <td id=\"T_c7b29_row1_col1\" class=\"data row1 col1\" >University College London, UCL Social Research Institute, Centre for Longitudinal Studies. (2021). <i>1970 British Cohort Study (BCS70): Age 16 Derived Data.</i> UK Longitudinal Linkage Collaboration (UK LLC).  <a href=\"https://doi.org/10.83126/ukllc-dataset-00127-01\" rel=\"noopener noreferrer\" target=\"_blank\">https://doi.org/10.83126/ukllc-dataset-00127-01</a></td>\n",
       "    </tr>\n",
       "    <tr>\n",
       "      <td id=\"T_c7b29_row2_col0\" class=\"data row2 col0\" >Download Citation</td>\n",
       "      <td id=\"T_c7b29_row2_col1\" class=\"data row2 col1\" > <a href=\"https://api.test.datacite.org/application/vnd.citationstyles.csl+json/10.83126/ukllc-dataset-00127-01\" rel=\"noopener noreferrer\" target=\"_blank\">Citeproc JSON</a>&nbsp;&nbsp;&nbsp;&nbsp; <a href=\"https://api.test.datacite.org/application/x-bibtex/10.83126/ukllc-dataset-00127-01\" rel=\"noopener noreferrer\" target=\"_blank\">BibTeX</a>&nbsp;&nbsp;&nbsp;&nbsp; <a href=\"https://api.test.datacite.org/application/x-research-info-systems/10.83126/ukllc-dataset-00127-01\" rel=\"noopener noreferrer\" target=\"_blank\">RIS</a></td>\n",
       "    </tr>\n",
       "    <tr>\n",
       "      <td id=\"T_c7b29_row3_col0\" class=\"data row3 col0\" >Series</td>\n",
       "      <td id=\"T_c7b29_row3_col1\" class=\"data row3 col1\" > <a href=\"https://guidebook.ukllc.ac.uk/docs/lps/lps%20profiles/BCS70\">1970 British Cohort Study (BCS70)</a></td>\n",
       "    </tr>\n",
       "    <tr>\n",
       "      <td id=\"T_c7b29_row4_col0\" class=\"data row4 col0\" >Owner</td>\n",
       "      <td id=\"T_c7b29_row4_col1\" class=\"data row4 col1\" >UCL</td>\n",
       "    </tr>\n",
       "    <tr>\n",
       "      <td id=\"T_c7b29_row5_col0\" class=\"data row5 col0\" >Temporal Coverage</td>\n",
       "      <td id=\"T_c7b29_row5_col1\" class=\"data row5 col1\" >04/1986 - 04/1987</td>\n",
       "    </tr>\n",
       "    <tr>\n",
       "      <td id=\"T_c7b29_row6_col0\" class=\"data row6 col0\" >Keywords</td>\n",
       "      <td id=\"T_c7b29_row6_col1\" class=\"data row6 col1\" >Health,Education,Leisure & sport,Attitudes,Youth,Employment</td>\n",
       "    </tr>\n",
       "    <tr>\n",
       "      <td id=\"T_c7b29_row7_col0\" class=\"data row7 col0\" >Participants Invited</td>\n",
       "      <td id=\"T_c7b29_row7_col1\" class=\"data row7 col1\" >11622</td>\n",
       "    </tr>\n",
       "    <tr>\n",
       "      <td id=\"T_c7b29_row8_col0\" class=\"data row8 col0\" >Participant Count</td>\n",
       "      <td id=\"T_c7b29_row8_col1\" class=\"data row8 col1\" >6722</td>\n",
       "    </tr>\n",
       "    <tr>\n",
       "      <td id=\"T_c7b29_row9_col0\" class=\"data row9 col0\" >Number of variables</td>\n",
       "      <td id=\"T_c7b29_row9_col1\" class=\"data row9 col1\" >20</td>\n",
       "    </tr>\n",
       "    <tr>\n",
       "      <td id=\"T_c7b29_row10_col0\" class=\"data row10 col0\" >Number of observations</td>\n",
       "      <td id=\"T_c7b29_row10_col1\" class=\"data row10 col1\" >11615</td>\n",
       "    </tr>\n",
       "    <tr>\n",
       "      <td id=\"T_c7b29_row11_col0\" class=\"data row11 col0\" >Specific Restrictions to Data Use</td>\n",
       "      <td id=\"T_c7b29_row11_col1\" class=\"data row11 col1\" >None</td>\n",
       "    </tr>\n",
       "    <tr>\n",
       "      <td id=\"T_c7b29_row12_col0\" class=\"data row12 col0\" >Build a Data Request</td>\n",
       "      <td id=\"T_c7b29_row12_col1\" class=\"data row12 col1\" > <a href=\"https://explore.ukllc.ac.uk/\" rel=\"noopener noreferrer\" target=\"_blank\">https://explore.ukllc.ac.uk/</a></td>\n",
       "    </tr>\n",
       "  </tbody>\n",
       "</table>\n"
      ],
      "text/plain": [
       "<pandas.io.formats.style.Styler at 0x226c56133e0>"
      ]
     },
     "execution_count": 3,
     "metadata": {},
     "output_type": "execute_result"
    }
   ],
   "source": [
    "ds.info_table()"
   ]
  },
  {
   "cell_type": "markdown",
   "id": "3dd69a87",
   "metadata": {},
   "source": [
    "## 2. Version History"
   ]
  },
  {
   "cell_type": "code",
   "execution_count": 4,
   "id": "3d273626",
   "metadata": {
    "execution": {
     "iopub.execute_input": "2025-07-17T14:48:47.406931Z",
     "iopub.status.busy": "2025-07-17T14:48:47.406931Z",
     "iopub.status.idle": "2025-07-17T14:48:50.582712Z",
     "shell.execute_reply": "2025-07-17T14:48:50.579698Z"
    },
    "tags": [
     "remove-input"
    ]
   },
   "outputs": [
    {
     "data": {
      "text/html": [
       "<style type=\"text/css\">\n",
       "#T_c7f0b th {\n",
       "  text-align: left;\n",
       "}\n",
       "#T_c7f0b_row0_col0, #T_c7f0b_row0_col1, #T_c7f0b_row1_col0, #T_c7f0b_row1_col1, #T_c7f0b_row2_col0, #T_c7f0b_row2_col1, #T_c7f0b_row3_col0, #T_c7f0b_row3_col1, #T_c7f0b_row4_col0, #T_c7f0b_row4_col1 {\n",
       "  text-align: left;\n",
       "}\n",
       "</style>\n",
       "<table id=\"T_c7f0b\" style=\"font-size: 14px\">\n",
       "  <thead>\n",
       "    <tr>\n",
       "      <th id=\"T_c7f0b_level0_col0\" class=\"col_heading level0 col0\" >Version</th>\n",
       "      <th id=\"T_c7f0b_level0_col1\" class=\"col_heading level0 col1\" >1</th>\n",
       "    </tr>\n",
       "  </thead>\n",
       "  <tbody>\n",
       "    <tr>\n",
       "      <td id=\"T_c7f0b_row0_col0\" class=\"data row0 col0\" >Version Date</td>\n",
       "      <td id=\"T_c7f0b_row0_col1\" class=\"data row0 col1\" >01 Nov 2021</td>\n",
       "    </tr>\n",
       "    <tr>\n",
       "      <td id=\"T_c7f0b_row1_col0\" class=\"data row1 col0\" >Number of Variables</td>\n",
       "      <td id=\"T_c7f0b_row1_col1\" class=\"data row1 col1\" >20</td>\n",
       "    </tr>\n",
       "    <tr>\n",
       "      <td id=\"T_c7f0b_row2_col0\" class=\"data row2 col0\" >Number of Observations</td>\n",
       "      <td id=\"T_c7f0b_row2_col1\" class=\"data row2 col1\" >11615</td>\n",
       "    </tr>\n",
       "    <tr>\n",
       "      <td id=\"T_c7f0b_row3_col0\" class=\"data row3 col0\" >DOI</td>\n",
       "      <td id=\"T_c7f0b_row3_col1\" class=\"data row3 col1\" > <a href=\"https://doi.org/10.83126/ukllc-dataset-00127-01\" rel=\"noopener noreferrer\" target=\"_blank\">10.83126/ukllc-dataset-00127-01</a></td>\n",
       "    </tr>\n",
       "    <tr>\n",
       "      <td id=\"T_c7f0b_row4_col0\" class=\"data row4 col0\" >Change Log</td>\n",
       "      <td id=\"T_c7f0b_row4_col1\" class=\"data row4 col1\" > <a href=\"https://api.test.datacite.org/dois/10.83126/ukllc-dataset-00127-01/activities\" rel=\"noopener noreferrer\" target=\"_blank\">10.83126/ukllc-dataset-00127-01/activities</a></td>\n",
       "    </tr>\n",
       "  </tbody>\n",
       "</table>\n"
      ],
      "text/plain": [
       "<pandas.io.formats.style.Styler at 0x226c7333800>"
      ]
     },
     "execution_count": 4,
     "metadata": {},
     "output_type": "execute_result"
    }
   ],
   "source": [
    "ds.version_history()"
   ]
  },
  {
   "cell_type": "markdown",
   "id": "7ee3e3b3",
   "metadata": {},
   "source": [
    "## 3. Documentation"
   ]
  },
  {
   "cell_type": "code",
   "execution_count": 5,
   "id": "61edba6c",
   "metadata": {
    "execution": {
     "iopub.execute_input": "2025-07-17T14:48:50.591651Z",
     "iopub.status.busy": "2025-07-17T14:48:50.590519Z",
     "iopub.status.idle": "2025-07-17T14:48:50.600468Z",
     "shell.execute_reply": "2025-07-17T14:48:50.599449Z"
    },
    "tags": [
     "remove-input"
    ]
   },
   "outputs": [
    {
     "data": {
      "text/markdown": [
       "We are currently building a documentation storage system which will host useful documents related to datasets and data owners. We will surface these documents on Guidebook."
      ],
      "text/plain": [
       "<IPython.core.display.Markdown object>"
      ]
     },
     "metadata": {},
     "output_type": "display_data"
    }
   ],
   "source": [
    "ds.documentation()"
   ]
  },
  {
   "cell_type": "markdown",
   "id": "94cc6347",
   "metadata": {},
   "source": [
    "## 4. Useful Syntax"
   ]
  },
  {
   "cell_type": "code",
   "execution_count": 6,
   "id": "6838c642",
   "metadata": {
    "execution": {
     "iopub.execute_input": "2025-07-17T14:48:50.607468Z",
     "iopub.status.busy": "2025-07-17T14:48:50.607468Z",
     "iopub.status.idle": "2025-07-17T14:48:50.615451Z",
     "shell.execute_reply": "2025-07-17T14:48:50.614436Z"
    },
    "tags": [
     "remove-input"
    ]
   },
   "outputs": [
    {
     "data": {
      "text/markdown": [
       "Below we will include syntax that may be helpful to other researchers in the UK LLC TRE. For longer scripts, we will include a snippet of the code plus a link to Git where you can find the full scripts."
      ],
      "text/plain": [
       "<IPython.core.display.Markdown object>"
      ]
     },
     "metadata": {},
     "output_type": "display_data"
    }
   ],
   "source": [
    "ds.useful_syntax()"
   ]
  }
 ],
 "metadata": {
  "language_info": {
   "codemirror_mode": {
    "name": "ipython",
    "version": 3
   },
   "file_extension": ".py",
   "mimetype": "text/x-python",
   "name": "python",
   "nbconvert_exporter": "python",
   "pygments_lexer": "ipython3",
   "version": "3.12.7"
  }
 },
 "nbformat": 4,
 "nbformat_minor": 5
}
