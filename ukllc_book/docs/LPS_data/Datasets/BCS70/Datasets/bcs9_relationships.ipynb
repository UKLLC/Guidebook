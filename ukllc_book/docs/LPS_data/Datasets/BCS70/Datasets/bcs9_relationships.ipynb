{
 "cells": [
  {
   "cell_type": "markdown",
   "id": "a314f17b",
   "metadata": {},
   "source": [
    "# Age 42 Relationships (BCS70)"
   ]
  },
  {
   "cell_type": "code",
   "execution_count": 1,
   "id": "e3b9523d",
   "metadata": {
    "execution": {
     "iopub.execute_input": "2025-07-28T13:32:16.410443Z",
     "iopub.status.busy": "2025-07-28T13:32:16.410443Z",
     "iopub.status.idle": "2025-07-28T13:32:23.889298Z",
     "shell.execute_reply": "2025-07-28T13:32:23.888290Z"
    },
    "tags": [
     "remove-input"
    ]
   },
   "outputs": [
    {
     "data": {
      "text/markdown": [
       ">Last modified: 28 Jul 2025"
      ],
      "text/plain": [
       "<IPython.core.display.Markdown object>"
      ]
     },
     "metadata": {},
     "output_type": "display_data"
    }
   ],
   "source": [
    "\n",
    "import sys\n",
    "import os\n",
    "sys.path.append(os.path.abspath('../../../../scripts/'))\n",
    "from data_doc_helper import LPSDataSet as DS, last_modified\n",
    "API_KEY = os.environ['FASTAPI_KEY']\n",
    "ds = DS(\"BCS70\", \"bcs9_relationships\")\n",
    "last_modified()\n"
   ]
  },
  {
   "cell_type": "markdown",
   "id": "a1f1b76e",
   "metadata": {},
   "source": [
    "## 1. Summary"
   ]
  },
  {
   "cell_type": "code",
   "execution_count": 2,
   "id": "58136469",
   "metadata": {
    "execution": {
     "iopub.execute_input": "2025-07-28T13:32:23.892297Z",
     "iopub.status.busy": "2025-07-28T13:32:23.891297Z",
     "iopub.status.idle": "2025-07-28T13:32:23.895362Z",
     "shell.execute_reply": "2025-07-28T13:32:23.895362Z"
    },
    "tags": [
     "remove-input"
    ]
   },
   "outputs": [
    {
     "data": {
      "text/markdown": [
       "Relationship histories since last sweep / 2000 (whichever is more recent). Includes details on partner sex, marital status, start and end dates"
      ],
      "text/plain": [
       "<IPython.core.display.Markdown object>"
      ]
     },
     "metadata": {},
     "output_type": "display_data"
    }
   ],
   "source": [
    "ds.summary()"
   ]
  },
  {
   "cell_type": "code",
   "execution_count": 3,
   "id": "8cf4d3d7",
   "metadata": {
    "execution": {
     "iopub.execute_input": "2025-07-28T13:32:23.897368Z",
     "iopub.status.busy": "2025-07-28T13:32:23.897368Z",
     "iopub.status.idle": "2025-07-28T13:32:24.473222Z",
     "shell.execute_reply": "2025-07-28T13:32:24.473222Z"
    },
    "tags": [
     "remove-input"
    ]
   },
   "outputs": [
    {
     "data": {
      "text/html": [
       "<style type=\"text/css\">\n",
       "#T_b9cf6 th {\n",
       "  text-align: left;\n",
       "}\n",
       "#T_b9cf6_row0_col0, #T_b9cf6_row0_col1, #T_b9cf6_row1_col0, #T_b9cf6_row1_col1, #T_b9cf6_row2_col0, #T_b9cf6_row2_col1, #T_b9cf6_row3_col0, #T_b9cf6_row3_col1, #T_b9cf6_row4_col0, #T_b9cf6_row4_col1, #T_b9cf6_row5_col0, #T_b9cf6_row5_col1, #T_b9cf6_row6_col0, #T_b9cf6_row6_col1, #T_b9cf6_row7_col0, #T_b9cf6_row7_col1, #T_b9cf6_row8_col0, #T_b9cf6_row8_col1, #T_b9cf6_row9_col0, #T_b9cf6_row9_col1, #T_b9cf6_row10_col0, #T_b9cf6_row10_col1, #T_b9cf6_row11_col0, #T_b9cf6_row11_col1, #T_b9cf6_row12_col0, #T_b9cf6_row12_col1 {\n",
       "  text-align: left;\n",
       "}\n",
       "</style>\n",
       "<table id=\"T_b9cf6\" style=\"font-size: 14px\">\n",
       "  <thead>\n",
       "    <tr>\n",
       "      <th id=\"T_b9cf6_level0_col0\" class=\"col_heading level0 col0\" >Dataset Descriptor</th>\n",
       "      <th id=\"T_b9cf6_level0_col1\" class=\"col_heading level0 col1\" >Dataset-specific Information</th>\n",
       "    </tr>\n",
       "  </thead>\n",
       "  <tbody>\n",
       "    <tr>\n",
       "      <td id=\"T_b9cf6_row0_col0\" class=\"data row0 col0\" >Name of Dataset in TRE</td>\n",
       "      <td id=\"T_b9cf6_row0_col1\" class=\"data row0 col1\" >BCS70_bcs9_relationships</td>\n",
       "    </tr>\n",
       "    <tr>\n",
       "      <td id=\"T_b9cf6_row1_col0\" class=\"data row1 col0\" >Citation (APA)</td>\n",
       "      <td id=\"T_b9cf6_row1_col1\" class=\"data row1 col1\" >University College London, UCL Social Research Institute, Centre for Longitudinal Studies. (2021). <i>1970 British Cohort Study (BCS70): Age 42 Relationships.</i> UK Longitudinal Linkage Collaboration (UK LLC).  <a href=\"https://doi.org/10.71760/ukllc-dataset-00067-01\" rel=\"noopener noreferrer\" target=\"_blank\">https://doi.org/10.71760/ukllc-dataset-00067-01</a></td>\n",
       "    </tr>\n",
       "    <tr>\n",
       "      <td id=\"T_b9cf6_row2_col0\" class=\"data row2 col0\" >Download Citation</td>\n",
       "      <td id=\"T_b9cf6_row2_col1\" class=\"data row2 col1\" > <a href=\"https://api.datacite.org/application/vnd.citationstyles.csl+json/10.71760/ukllc-dataset-00067-01\" rel=\"noopener noreferrer\" target=\"_blank\">Citeproc JSON</a>&nbsp;&nbsp;&nbsp;&nbsp; <a href=\"https://api.datacite.org/application/x-bibtex/10.71760/ukllc-dataset-00067-01\" rel=\"noopener noreferrer\" target=\"_blank\">BibTeX</a>&nbsp;&nbsp;&nbsp;&nbsp; <a href=\"https://api.datacite.org/application/x-research-info-systems/10.71760/ukllc-dataset-00067-01\" rel=\"noopener noreferrer\" target=\"_blank\">RIS</a></td>\n",
       "    </tr>\n",
       "    <tr>\n",
       "      <td id=\"T_b9cf6_row3_col0\" class=\"data row3 col0\" >Series</td>\n",
       "      <td id=\"T_b9cf6_row3_col1\" class=\"data row3 col1\" > <a href=\"https://guidebook.ukllc.ac.uk/docs/lps_data/lps%20profiles/BCS70\">1970 British Cohort Study (BCS70)</a></td>\n",
       "    </tr>\n",
       "    <tr>\n",
       "      <td id=\"T_b9cf6_row4_col0\" class=\"data row4 col0\" >Owner</td>\n",
       "      <td id=\"T_b9cf6_row4_col1\" class=\"data row4 col1\" >UCL</td>\n",
       "    </tr>\n",
       "    <tr>\n",
       "      <td id=\"T_b9cf6_row5_col0\" class=\"data row5 col0\" >Temporal Coverage</td>\n",
       "      <td id=\"T_b9cf6_row5_col1\" class=\"data row5 col1\" >04/2012 - 04/2013</td>\n",
       "    </tr>\n",
       "    <tr>\n",
       "      <td id=\"T_b9cf6_row6_col0\" class=\"data row6 col0\" >Keywords</td>\n",
       "      <td id=\"T_b9cf6_row6_col1\" class=\"data row6 col1\" >Marriage,Dates,Cohabitation,Divorce</td>\n",
       "    </tr>\n",
       "    <tr>\n",
       "      <td id=\"T_b9cf6_row7_col0\" class=\"data row7 col0\" >Participants Invited</td>\n",
       "      <td id=\"T_b9cf6_row7_col1\" class=\"data row7 col1\" >9841</td>\n",
       "    </tr>\n",
       "    <tr>\n",
       "      <td id=\"T_b9cf6_row8_col0\" class=\"data row8 col0\" >Participant Count</td>\n",
       "      <td id=\"T_b9cf6_row8_col1\" class=\"data row8 col1\" >7945</td>\n",
       "    </tr>\n",
       "    <tr>\n",
       "      <td id=\"T_b9cf6_row9_col0\" class=\"data row9 col0\" >Number of variables</td>\n",
       "      <td id=\"T_b9cf6_row9_col1\" class=\"data row9 col1\" >26</td>\n",
       "    </tr>\n",
       "    <tr>\n",
       "      <td id=\"T_b9cf6_row10_col0\" class=\"data row10 col0\" >Number of observations</td>\n",
       "      <td id=\"T_b9cf6_row10_col1\" class=\"data row10 col1\" >11351</td>\n",
       "    </tr>\n",
       "    <tr>\n",
       "      <td id=\"T_b9cf6_row11_col0\" class=\"data row11 col0\" >Specific Restrictions to Data Use</td>\n",
       "      <td id=\"T_b9cf6_row11_col1\" class=\"data row11 col1\" >None</td>\n",
       "    </tr>\n",
       "    <tr>\n",
       "      <td id=\"T_b9cf6_row12_col0\" class=\"data row12 col0\" >Build a Data Request</td>\n",
       "      <td id=\"T_b9cf6_row12_col1\" class=\"data row12 col1\" > <a href=\"https://explore.ukllc.ac.uk/\" rel=\"noopener noreferrer\" target=\"_blank\">https://explore.ukllc.ac.uk/</a></td>\n",
       "    </tr>\n",
       "  </tbody>\n",
       "</table>\n"
      ],
      "text/plain": [
       "<pandas.io.formats.style.Styler at 0x175f9486e40>"
      ]
     },
     "execution_count": 3,
     "metadata": {},
     "output_type": "execute_result"
    }
   ],
   "source": [
    "ds.info_table()"
   ]
  },
  {
   "cell_type": "markdown",
   "id": "281acdd1",
   "metadata": {},
   "source": [
    "## 2. Version History"
   ]
  },
  {
   "cell_type": "code",
   "execution_count": 4,
   "id": "2770bcc2",
   "metadata": {
    "execution": {
     "iopub.execute_input": "2025-07-28T13:32:24.478235Z",
     "iopub.status.busy": "2025-07-28T13:32:24.477237Z",
     "iopub.status.idle": "2025-07-28T13:32:27.648191Z",
     "shell.execute_reply": "2025-07-28T13:32:27.647187Z"
    },
    "tags": [
     "remove-input"
    ]
   },
   "outputs": [
    {
     "data": {
      "text/html": [
       "<style type=\"text/css\">\n",
       "#T_84dfd th {\n",
       "  text-align: left;\n",
       "}\n",
       "#T_84dfd_row0_col0, #T_84dfd_row0_col1, #T_84dfd_row1_col0, #T_84dfd_row1_col1, #T_84dfd_row2_col0, #T_84dfd_row2_col1, #T_84dfd_row3_col0, #T_84dfd_row3_col1, #T_84dfd_row4_col0, #T_84dfd_row4_col1 {\n",
       "  text-align: left;\n",
       "}\n",
       "</style>\n",
       "<table id=\"T_84dfd\" style=\"font-size: 14px\">\n",
       "  <thead>\n",
       "    <tr>\n",
       "      <th id=\"T_84dfd_level0_col0\" class=\"col_heading level0 col0\" >Version</th>\n",
       "      <th id=\"T_84dfd_level0_col1\" class=\"col_heading level0 col1\" >1</th>\n",
       "    </tr>\n",
       "  </thead>\n",
       "  <tbody>\n",
       "    <tr>\n",
       "      <td id=\"T_84dfd_row0_col0\" class=\"data row0 col0\" >Version Date</td>\n",
       "      <td id=\"T_84dfd_row0_col1\" class=\"data row0 col1\" >01 Nov 2021</td>\n",
       "    </tr>\n",
       "    <tr>\n",
       "      <td id=\"T_84dfd_row1_col0\" class=\"data row1 col0\" >Number of Variables</td>\n",
       "      <td id=\"T_84dfd_row1_col1\" class=\"data row1 col1\" >26</td>\n",
       "    </tr>\n",
       "    <tr>\n",
       "      <td id=\"T_84dfd_row2_col0\" class=\"data row2 col0\" >Number of Observations</td>\n",
       "      <td id=\"T_84dfd_row2_col1\" class=\"data row2 col1\" >11351</td>\n",
       "    </tr>\n",
       "    <tr>\n",
       "      <td id=\"T_84dfd_row3_col0\" class=\"data row3 col0\" >DOI</td>\n",
       "      <td id=\"T_84dfd_row3_col1\" class=\"data row3 col1\" > <a href=\"https://doi.org/10.71760/ukllc-dataset-00067-01\" rel=\"noopener noreferrer\" target=\"_blank\">10.71760/ukllc-dataset-00067-01</a></td>\n",
       "    </tr>\n",
       "    <tr>\n",
       "      <td id=\"T_84dfd_row4_col0\" class=\"data row4 col0\" >Change Log</td>\n",
       "      <td id=\"T_84dfd_row4_col1\" class=\"data row4 col1\" > <a href=\"https://api.test.datacite.org/dois/10.71760/ukllc-dataset-00067-01/activities\" rel=\"noopener noreferrer\" target=\"_blank\">10.71760/ukllc-dataset-00067-01/activities</a></td>\n",
       "    </tr>\n",
       "  </tbody>\n",
       "</table>\n"
      ],
      "text/plain": [
       "<pandas.io.formats.style.Styler at 0x175f94f1a90>"
      ]
     },
     "execution_count": 4,
     "metadata": {},
     "output_type": "execute_result"
    }
   ],
   "source": [
    "ds.version_history()"
   ]
  },
  {
   "cell_type": "markdown",
   "id": "332f82ad",
   "metadata": {},
   "source": [
    "## 3. Documentation"
   ]
  },
  {
   "cell_type": "code",
   "execution_count": 5,
   "id": "7f1c7723",
   "metadata": {
    "execution": {
     "iopub.execute_input": "2025-07-28T13:32:27.651192Z",
     "iopub.status.busy": "2025-07-28T13:32:27.650192Z",
     "iopub.status.idle": "2025-07-28T13:32:27.655049Z",
     "shell.execute_reply": "2025-07-28T13:32:27.655049Z"
    },
    "tags": [
     "remove-input"
    ]
   },
   "outputs": [
    {
     "data": {
      "text/markdown": [
       "We are currently building a documentation storage system which will host useful documents related to datasets and data owners. We will surface these documents on Guidebook."
      ],
      "text/plain": [
       "<IPython.core.display.Markdown object>"
      ]
     },
     "metadata": {},
     "output_type": "display_data"
    }
   ],
   "source": [
    "ds.documentation()"
   ]
  },
  {
   "cell_type": "markdown",
   "id": "7a6ec360",
   "metadata": {},
   "source": [
    "## 4. Useful Syntax"
   ]
  },
  {
   "cell_type": "code",
   "execution_count": 6,
   "id": "534ad2f7",
   "metadata": {
    "execution": {
     "iopub.execute_input": "2025-07-28T13:32:27.657053Z",
     "iopub.status.busy": "2025-07-28T13:32:27.657053Z",
     "iopub.status.idle": "2025-07-28T13:32:27.660057Z",
     "shell.execute_reply": "2025-07-28T13:32:27.660057Z"
    },
    "tags": [
     "remove-input"
    ]
   },
   "outputs": [
    {
     "data": {
      "text/markdown": [
       "Below we will include syntax that may be helpful to other researchers in the UK LLC TRE. For longer scripts, we will include a snippet of the code plus a link to Git where you can find the full scripts."
      ],
      "text/plain": [
       "<IPython.core.display.Markdown object>"
      ]
     },
     "metadata": {},
     "output_type": "display_data"
    }
   ],
   "source": [
    "ds.useful_syntax()"
   ]
  }
 ],
 "metadata": {
  "kernelspec": {
   "display_name": "jupbook",
   "language": "python",
   "name": "python3"
  },
  "language_info": {
   "codemirror_mode": {
    "name": "ipython",
    "version": 3
   },
   "file_extension": ".py",
   "mimetype": "text/x-python",
   "name": "python",
   "nbconvert_exporter": "python",
   "pygments_lexer": "ipython3",
   "version": "3.13.2"
  }
 },
 "nbformat": 4,
 "nbformat_minor": 5
}
