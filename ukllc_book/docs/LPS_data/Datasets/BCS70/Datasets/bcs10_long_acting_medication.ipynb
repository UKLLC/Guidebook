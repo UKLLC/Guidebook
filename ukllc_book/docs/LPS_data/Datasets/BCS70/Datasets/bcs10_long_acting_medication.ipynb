{
 "cells": [
  {
   "cell_type": "markdown",
   "id": "c43182f0",
   "metadata": {},
   "source": [
    "# Age 46 Long-acting Medication (BCS70)"
   ]
  },
  {
   "cell_type": "code",
   "execution_count": 1,
   "id": "3fc541d3",
   "metadata": {
    "execution": {
     "iopub.execute_input": "2025-07-17T14:44:15.975983Z",
     "iopub.status.busy": "2025-07-17T14:44:15.974983Z",
     "iopub.status.idle": "2025-07-17T14:44:23.920141Z",
     "shell.execute_reply": "2025-07-17T14:44:23.919629Z"
    },
    "tags": [
     "remove-input"
    ]
   },
   "outputs": [
    {
     "data": {
      "text/markdown": [
       ">Last modified: 17 Jul 2025"
      ],
      "text/plain": [
       "<IPython.core.display.Markdown object>"
      ]
     },
     "metadata": {},
     "output_type": "display_data"
    }
   ],
   "source": [
    "\n",
    "import sys\n",
    "import os\n",
    "sys.path.append(os.path.abspath('../../../../scripts/'))\n",
    "from data_doc_helper import LPSDataSet as DS, last_modified\n",
    "API_KEY = os.environ['FASTAPI_KEY']\n",
    "ds = DS(\"BCS70\", \"bcs10_long_acting_medication\")\n",
    "last_modified()\n"
   ]
  },
  {
   "cell_type": "markdown",
   "id": "43ab8e64",
   "metadata": {},
   "source": [
    "## 1. Summary"
   ]
  },
  {
   "cell_type": "code",
   "execution_count": 2,
   "id": "b6e3a92c",
   "metadata": {
    "execution": {
     "iopub.execute_input": "2025-07-17T14:44:23.928148Z",
     "iopub.status.busy": "2025-07-17T14:44:23.927147Z",
     "iopub.status.idle": "2025-07-17T14:44:23.936864Z",
     "shell.execute_reply": "2025-07-17T14:44:23.935547Z"
    },
    "tags": [
     "remove-input"
    ]
   },
   "outputs": [
    {
     "data": {
      "text/markdown": [
       "BNF codes for long-acting medication (e.g. injections/implants) prescribed by doctor/nurse"
      ],
      "text/plain": [
       "<IPython.core.display.Markdown object>"
      ]
     },
     "metadata": {},
     "output_type": "display_data"
    }
   ],
   "source": [
    "ds.summary()"
   ]
  },
  {
   "cell_type": "code",
   "execution_count": 3,
   "id": "5dd71553",
   "metadata": {
    "execution": {
     "iopub.execute_input": "2025-07-17T14:44:23.943028Z",
     "iopub.status.busy": "2025-07-17T14:44:23.942025Z",
     "iopub.status.idle": "2025-07-17T14:44:24.905847Z",
     "shell.execute_reply": "2025-07-17T14:44:24.904825Z"
    },
    "tags": [
     "remove-input"
    ]
   },
   "outputs": [
    {
     "data": {
      "text/html": [
       "<style type=\"text/css\">\n",
       "#T_f9538 th {\n",
       "  text-align: left;\n",
       "}\n",
       "#T_f9538_row0_col0, #T_f9538_row0_col1, #T_f9538_row1_col0, #T_f9538_row1_col1, #T_f9538_row2_col0, #T_f9538_row2_col1, #T_f9538_row3_col0, #T_f9538_row3_col1, #T_f9538_row4_col0, #T_f9538_row4_col1, #T_f9538_row5_col0, #T_f9538_row5_col1, #T_f9538_row6_col0, #T_f9538_row6_col1, #T_f9538_row7_col0, #T_f9538_row7_col1, #T_f9538_row8_col0, #T_f9538_row8_col1, #T_f9538_row9_col0, #T_f9538_row9_col1, #T_f9538_row10_col0, #T_f9538_row10_col1, #T_f9538_row11_col0, #T_f9538_row11_col1, #T_f9538_row12_col0, #T_f9538_row12_col1 {\n",
       "  text-align: left;\n",
       "}\n",
       "</style>\n",
       "<table id=\"T_f9538\" style=\"font-size: 14px\">\n",
       "  <thead>\n",
       "    <tr>\n",
       "      <th id=\"T_f9538_level0_col0\" class=\"col_heading level0 col0\" >Dataset Descriptor</th>\n",
       "      <th id=\"T_f9538_level0_col1\" class=\"col_heading level0 col1\" >Dataset-specific Information</th>\n",
       "    </tr>\n",
       "  </thead>\n",
       "  <tbody>\n",
       "    <tr>\n",
       "      <td id=\"T_f9538_row0_col0\" class=\"data row0 col0\" >Name of Dataset in TRE</td>\n",
       "      <td id=\"T_f9538_row0_col1\" class=\"data row0 col1\" >BCS70_bcs10_long_acting_medication</td>\n",
       "    </tr>\n",
       "    <tr>\n",
       "      <td id=\"T_f9538_row1_col0\" class=\"data row1 col0\" >Citation (APA)</td>\n",
       "      <td id=\"T_f9538_row1_col1\" class=\"data row1 col1\" >University College London, UCL Social Research Institute, Centre for Longitudinal Studies. (2021). <i>1970 British Cohort Study (BCS70): Age 46 Long-acting Medication.</i> UK Longitudinal Linkage Collaboration (UK LLC).  <a href=\"https://doi.org/10.83126/ukllc-dataset-00109-01\" rel=\"noopener noreferrer\" target=\"_blank\">https://doi.org/10.83126/ukllc-dataset-00109-01</a></td>\n",
       "    </tr>\n",
       "    <tr>\n",
       "      <td id=\"T_f9538_row2_col0\" class=\"data row2 col0\" >Download Citation</td>\n",
       "      <td id=\"T_f9538_row2_col1\" class=\"data row2 col1\" > <a href=\"https://api.test.datacite.org/application/vnd.citationstyles.csl+json/10.83126/ukllc-dataset-00109-01\" rel=\"noopener noreferrer\" target=\"_blank\">Citeproc JSON</a>&nbsp;&nbsp;&nbsp;&nbsp; <a href=\"https://api.test.datacite.org/application/x-bibtex/10.83126/ukllc-dataset-00109-01\" rel=\"noopener noreferrer\" target=\"_blank\">BibTeX</a>&nbsp;&nbsp;&nbsp;&nbsp; <a href=\"https://api.test.datacite.org/application/x-research-info-systems/10.83126/ukllc-dataset-00109-01\" rel=\"noopener noreferrer\" target=\"_blank\">RIS</a></td>\n",
       "    </tr>\n",
       "    <tr>\n",
       "      <td id=\"T_f9538_row3_col0\" class=\"data row3 col0\" >Series</td>\n",
       "      <td id=\"T_f9538_row3_col1\" class=\"data row3 col1\" > <a href=\"https://guidebook.ukllc.ac.uk/docs/lps/lps%20profiles/BCS70\">1970 British Cohort Study (BCS70)</a></td>\n",
       "    </tr>\n",
       "    <tr>\n",
       "      <td id=\"T_f9538_row4_col0\" class=\"data row4 col0\" >Owner</td>\n",
       "      <td id=\"T_f9538_row4_col1\" class=\"data row4 col1\" >UCL</td>\n",
       "    </tr>\n",
       "    <tr>\n",
       "      <td id=\"T_f9538_row5_col0\" class=\"data row5 col0\" >Temporal Coverage</td>\n",
       "      <td id=\"T_f9538_row5_col1\" class=\"data row5 col1\" >04/2016 - 04/2017</td>\n",
       "    </tr>\n",
       "    <tr>\n",
       "      <td id=\"T_f9538_row6_col0\" class=\"data row6 col0\" >Keywords</td>\n",
       "      <td id=\"T_f9538_row6_col1\" class=\"data row6 col1\" >Health,Medication,Dosage,Frequency</td>\n",
       "    </tr>\n",
       "    <tr>\n",
       "      <td id=\"T_f9538_row7_col0\" class=\"data row7 col0\" >Participants Invited</td>\n",
       "      <td id=\"T_f9538_row7_col1\" class=\"data row7 col1\" >8581</td>\n",
       "    </tr>\n",
       "    <tr>\n",
       "      <td id=\"T_f9538_row8_col0\" class=\"data row8 col0\" >Participant Count</td>\n",
       "      <td id=\"T_f9538_row8_col1\" class=\"data row8 col1\" >317</td>\n",
       "    </tr>\n",
       "    <tr>\n",
       "      <td id=\"T_f9538_row9_col0\" class=\"data row9 col0\" >Number of variables</td>\n",
       "      <td id=\"T_f9538_row9_col1\" class=\"data row9 col1\" >7</td>\n",
       "    </tr>\n",
       "    <tr>\n",
       "      <td id=\"T_f9538_row10_col0\" class=\"data row10 col0\" >Number of observations</td>\n",
       "      <td id=\"T_f9538_row10_col1\" class=\"data row10 col1\" >404</td>\n",
       "    </tr>\n",
       "    <tr>\n",
       "      <td id=\"T_f9538_row11_col0\" class=\"data row11 col0\" >Specific Restrictions to Data Use</td>\n",
       "      <td id=\"T_f9538_row11_col1\" class=\"data row11 col1\" >None</td>\n",
       "    </tr>\n",
       "    <tr>\n",
       "      <td id=\"T_f9538_row12_col0\" class=\"data row12 col0\" >Build a Data Request</td>\n",
       "      <td id=\"T_f9538_row12_col1\" class=\"data row12 col1\" > <a href=\"https://explore.ukllc.ac.uk/\" rel=\"noopener noreferrer\" target=\"_blank\">https://explore.ukllc.ac.uk/</a></td>\n",
       "    </tr>\n",
       "  </tbody>\n",
       "</table>\n"
      ],
      "text/plain": [
       "<pandas.io.formats.style.Styler at 0x25c4cde1850>"
      ]
     },
     "execution_count": 3,
     "metadata": {},
     "output_type": "execute_result"
    }
   ],
   "source": [
    "ds.info_table()"
   ]
  },
  {
   "cell_type": "markdown",
   "id": "26f5e955",
   "metadata": {},
   "source": [
    "## 2. Version History"
   ]
  },
  {
   "cell_type": "code",
   "execution_count": 4,
   "id": "d8b1f3f1",
   "metadata": {
    "execution": {
     "iopub.execute_input": "2025-07-17T14:44:24.910062Z",
     "iopub.status.busy": "2025-07-17T14:44:24.910062Z",
     "iopub.status.idle": "2025-07-17T14:44:28.297998Z",
     "shell.execute_reply": "2025-07-17T14:44:28.297998Z"
    },
    "tags": [
     "remove-input"
    ]
   },
   "outputs": [
    {
     "ename": "KeyError",
     "evalue": "'`Styler.apply` and `.map` are not compatible with non-unique index or columns.'",
     "output_type": "error",
     "traceback": [
      "\u001b[1;31m---------------------------------------------------------------------------\u001b[0m",
      "\u001b[1;31mKeyError\u001b[0m                                  Traceback (most recent call last)",
      "File \u001b[1;32m~\\.conda\\envs\\ukllc\\Lib\\site-packages\\IPython\\core\\formatters.py:347\u001b[0m, in \u001b[0;36mBaseFormatter.__call__\u001b[1;34m(self, obj)\u001b[0m\n\u001b[0;32m    345\u001b[0m     method \u001b[38;5;241m=\u001b[39m get_real_method(obj, \u001b[38;5;28mself\u001b[39m\u001b[38;5;241m.\u001b[39mprint_method)\n\u001b[0;32m    346\u001b[0m     \u001b[38;5;28;01mif\u001b[39;00m method \u001b[38;5;129;01mis\u001b[39;00m \u001b[38;5;129;01mnot\u001b[39;00m \u001b[38;5;28;01mNone\u001b[39;00m:\n\u001b[1;32m--> 347\u001b[0m         \u001b[38;5;28;01mreturn\u001b[39;00m method()\n\u001b[0;32m    348\u001b[0m     \u001b[38;5;28;01mreturn\u001b[39;00m \u001b[38;5;28;01mNone\u001b[39;00m\n\u001b[0;32m    349\u001b[0m \u001b[38;5;28;01melse\u001b[39;00m:\n",
      "File \u001b[1;32m~\\.conda\\envs\\ukllc\\Lib\\site-packages\\pandas\\io\\formats\\style.py:405\u001b[0m, in \u001b[0;36mStyler._repr_html_\u001b[1;34m(self)\u001b[0m\n\u001b[0;32m    400\u001b[0m \u001b[38;5;250m\u001b[39m\u001b[38;5;124;03m\"\"\"\u001b[39;00m\n\u001b[0;32m    401\u001b[0m \u001b[38;5;124;03mHooks into Jupyter notebook rich display system, which calls _repr_html_ by\u001b[39;00m\n\u001b[0;32m    402\u001b[0m \u001b[38;5;124;03mdefault if an object is returned at the end of a cell.\u001b[39;00m\n\u001b[0;32m    403\u001b[0m \u001b[38;5;124;03m\"\"\"\u001b[39;00m\n\u001b[0;32m    404\u001b[0m \u001b[38;5;28;01mif\u001b[39;00m get_option(\u001b[38;5;124m\"\u001b[39m\u001b[38;5;124mstyler.render.repr\u001b[39m\u001b[38;5;124m\"\u001b[39m) \u001b[38;5;241m==\u001b[39m \u001b[38;5;124m\"\u001b[39m\u001b[38;5;124mhtml\u001b[39m\u001b[38;5;124m\"\u001b[39m:\n\u001b[1;32m--> 405\u001b[0m     \u001b[38;5;28;01mreturn\u001b[39;00m \u001b[38;5;28mself\u001b[39m\u001b[38;5;241m.\u001b[39mto_html()\n\u001b[0;32m    406\u001b[0m \u001b[38;5;28;01mreturn\u001b[39;00m \u001b[38;5;28;01mNone\u001b[39;00m\n",
      "File \u001b[1;32m~\\.conda\\envs\\ukllc\\Lib\\site-packages\\pandas\\io\\formats\\style.py:1345\u001b[0m, in \u001b[0;36mStyler.to_html\u001b[1;34m(self, buf, table_uuid, table_attributes, sparse_index, sparse_columns, bold_headers, caption, max_rows, max_columns, encoding, doctype_html, exclude_styles, **kwargs)\u001b[0m\n\u001b[0;32m   1342\u001b[0m     obj\u001b[38;5;241m.\u001b[39mset_caption(caption)\n\u001b[0;32m   1344\u001b[0m \u001b[38;5;66;03m# Build HTML string..\u001b[39;00m\n\u001b[1;32m-> 1345\u001b[0m html \u001b[38;5;241m=\u001b[39m obj\u001b[38;5;241m.\u001b[39m_render_html(\n\u001b[0;32m   1346\u001b[0m     sparse_index\u001b[38;5;241m=\u001b[39msparse_index,\n\u001b[0;32m   1347\u001b[0m     sparse_columns\u001b[38;5;241m=\u001b[39msparse_columns,\n\u001b[0;32m   1348\u001b[0m     max_rows\u001b[38;5;241m=\u001b[39mmax_rows,\n\u001b[0;32m   1349\u001b[0m     max_cols\u001b[38;5;241m=\u001b[39mmax_columns,\n\u001b[0;32m   1350\u001b[0m     exclude_styles\u001b[38;5;241m=\u001b[39mexclude_styles,\n\u001b[0;32m   1351\u001b[0m     encoding\u001b[38;5;241m=\u001b[39mencoding \u001b[38;5;129;01mor\u001b[39;00m get_option(\u001b[38;5;124m\"\u001b[39m\u001b[38;5;124mstyler.render.encoding\u001b[39m\u001b[38;5;124m\"\u001b[39m),\n\u001b[0;32m   1352\u001b[0m     doctype_html\u001b[38;5;241m=\u001b[39mdoctype_html,\n\u001b[0;32m   1353\u001b[0m     \u001b[38;5;241m*\u001b[39m\u001b[38;5;241m*\u001b[39mkwargs,\n\u001b[0;32m   1354\u001b[0m )\n\u001b[0;32m   1356\u001b[0m \u001b[38;5;28;01mreturn\u001b[39;00m save_to_buffer(\n\u001b[0;32m   1357\u001b[0m     html, buf\u001b[38;5;241m=\u001b[39mbuf, encoding\u001b[38;5;241m=\u001b[39m(encoding \u001b[38;5;28;01mif\u001b[39;00m buf \u001b[38;5;129;01mis\u001b[39;00m \u001b[38;5;129;01mnot\u001b[39;00m \u001b[38;5;28;01mNone\u001b[39;00m \u001b[38;5;28;01melse\u001b[39;00m \u001b[38;5;28;01mNone\u001b[39;00m)\n\u001b[0;32m   1358\u001b[0m )\n",
      "File \u001b[1;32m~\\.conda\\envs\\ukllc\\Lib\\site-packages\\pandas\\io\\formats\\style_render.py:204\u001b[0m, in \u001b[0;36mStylerRenderer._render_html\u001b[1;34m(self, sparse_index, sparse_columns, max_rows, max_cols, **kwargs)\u001b[0m\n\u001b[0;32m    192\u001b[0m \u001b[38;5;28;01mdef\u001b[39;00m \u001b[38;5;21m_render_html\u001b[39m(\n\u001b[0;32m    193\u001b[0m     \u001b[38;5;28mself\u001b[39m,\n\u001b[0;32m    194\u001b[0m     sparse_index: \u001b[38;5;28mbool\u001b[39m,\n\u001b[1;32m   (...)\u001b[0m\n\u001b[0;32m    198\u001b[0m     \u001b[38;5;241m*\u001b[39m\u001b[38;5;241m*\u001b[39mkwargs,\n\u001b[0;32m    199\u001b[0m ) \u001b[38;5;241m-\u001b[39m\u001b[38;5;241m>\u001b[39m \u001b[38;5;28mstr\u001b[39m:\n\u001b[0;32m    200\u001b[0m \u001b[38;5;250m    \u001b[39m\u001b[38;5;124;03m\"\"\"\u001b[39;00m\n\u001b[0;32m    201\u001b[0m \u001b[38;5;124;03m    Renders the ``Styler`` including all applied styles to HTML.\u001b[39;00m\n\u001b[0;32m    202\u001b[0m \u001b[38;5;124;03m    Generates a dict with necessary kwargs passed to jinja2 template.\u001b[39;00m\n\u001b[0;32m    203\u001b[0m \u001b[38;5;124;03m    \"\"\"\u001b[39;00m\n\u001b[1;32m--> 204\u001b[0m     d \u001b[38;5;241m=\u001b[39m \u001b[38;5;28mself\u001b[39m\u001b[38;5;241m.\u001b[39m_render(sparse_index, sparse_columns, max_rows, max_cols, \u001b[38;5;124m\"\u001b[39m\u001b[38;5;124m&nbsp;\u001b[39m\u001b[38;5;124m\"\u001b[39m)\n\u001b[0;32m    205\u001b[0m     d\u001b[38;5;241m.\u001b[39mupdate(kwargs)\n\u001b[0;32m    206\u001b[0m     \u001b[38;5;28;01mreturn\u001b[39;00m \u001b[38;5;28mself\u001b[39m\u001b[38;5;241m.\u001b[39mtemplate_html\u001b[38;5;241m.\u001b[39mrender(\n\u001b[0;32m    207\u001b[0m         \u001b[38;5;241m*\u001b[39m\u001b[38;5;241m*\u001b[39md,\n\u001b[0;32m    208\u001b[0m         html_table_tpl\u001b[38;5;241m=\u001b[39m\u001b[38;5;28mself\u001b[39m\u001b[38;5;241m.\u001b[39mtemplate_html_table,\n\u001b[0;32m    209\u001b[0m         html_style_tpl\u001b[38;5;241m=\u001b[39m\u001b[38;5;28mself\u001b[39m\u001b[38;5;241m.\u001b[39mtemplate_html_style,\n\u001b[0;32m    210\u001b[0m     )\n",
      "File \u001b[1;32m~\\.conda\\envs\\ukllc\\Lib\\site-packages\\pandas\\io\\formats\\style_render.py:161\u001b[0m, in \u001b[0;36mStylerRenderer._render\u001b[1;34m(self, sparse_index, sparse_columns, max_rows, max_cols, blank)\u001b[0m\n\u001b[0;32m    147\u001b[0m \u001b[38;5;28;01mdef\u001b[39;00m \u001b[38;5;21m_render\u001b[39m(\n\u001b[0;32m    148\u001b[0m     \u001b[38;5;28mself\u001b[39m,\n\u001b[0;32m    149\u001b[0m     sparse_index: \u001b[38;5;28mbool\u001b[39m,\n\u001b[1;32m   (...)\u001b[0m\n\u001b[0;32m    153\u001b[0m     blank: \u001b[38;5;28mstr\u001b[39m \u001b[38;5;241m=\u001b[39m \u001b[38;5;124m\"\u001b[39m\u001b[38;5;124m\"\u001b[39m,\n\u001b[0;32m    154\u001b[0m ):\n\u001b[0;32m    155\u001b[0m \u001b[38;5;250m    \u001b[39m\u001b[38;5;124;03m\"\"\"\u001b[39;00m\n\u001b[0;32m    156\u001b[0m \u001b[38;5;124;03m    Computes and applies styles and then generates the general render dicts.\u001b[39;00m\n\u001b[0;32m    157\u001b[0m \n\u001b[0;32m    158\u001b[0m \u001b[38;5;124;03m    Also extends the `ctx` and `ctx_index` attributes with those of concatenated\u001b[39;00m\n\u001b[0;32m    159\u001b[0m \u001b[38;5;124;03m    stylers for use within `_translate_latex`\u001b[39;00m\n\u001b[0;32m    160\u001b[0m \u001b[38;5;124;03m    \"\"\"\u001b[39;00m\n\u001b[1;32m--> 161\u001b[0m     \u001b[38;5;28mself\u001b[39m\u001b[38;5;241m.\u001b[39m_compute()\n\u001b[0;32m    162\u001b[0m     dxs \u001b[38;5;241m=\u001b[39m []\n\u001b[0;32m    163\u001b[0m     ctx_len \u001b[38;5;241m=\u001b[39m \u001b[38;5;28mlen\u001b[39m(\u001b[38;5;28mself\u001b[39m\u001b[38;5;241m.\u001b[39mindex)\n",
      "File \u001b[1;32m~\\.conda\\envs\\ukllc\\Lib\\site-packages\\pandas\\io\\formats\\style_render.py:256\u001b[0m, in \u001b[0;36mStylerRenderer._compute\u001b[1;34m(self)\u001b[0m\n\u001b[0;32m    254\u001b[0m r \u001b[38;5;241m=\u001b[39m \u001b[38;5;28mself\u001b[39m\n\u001b[0;32m    255\u001b[0m \u001b[38;5;28;01mfor\u001b[39;00m func, args, kwargs \u001b[38;5;129;01min\u001b[39;00m \u001b[38;5;28mself\u001b[39m\u001b[38;5;241m.\u001b[39m_todo:\n\u001b[1;32m--> 256\u001b[0m     r \u001b[38;5;241m=\u001b[39m func(\u001b[38;5;28mself\u001b[39m)(\u001b[38;5;241m*\u001b[39margs, \u001b[38;5;241m*\u001b[39m\u001b[38;5;241m*\u001b[39mkwargs)\n\u001b[0;32m    257\u001b[0m \u001b[38;5;28;01mreturn\u001b[39;00m r\n",
      "File \u001b[1;32m~\\.conda\\envs\\ukllc\\Lib\\site-packages\\pandas\\io\\formats\\style.py:2028\u001b[0m, in \u001b[0;36mStyler._map\u001b[1;34m(self, func, subset, **kwargs)\u001b[0m\n\u001b[0;32m   2026\u001b[0m subset \u001b[38;5;241m=\u001b[39m non_reducing_slice(subset)\n\u001b[0;32m   2027\u001b[0m result \u001b[38;5;241m=\u001b[39m \u001b[38;5;28mself\u001b[39m\u001b[38;5;241m.\u001b[39mdata\u001b[38;5;241m.\u001b[39mloc[subset]\u001b[38;5;241m.\u001b[39mmap(func)\n\u001b[1;32m-> 2028\u001b[0m \u001b[38;5;28mself\u001b[39m\u001b[38;5;241m.\u001b[39m_update_ctx(result)\n\u001b[0;32m   2029\u001b[0m \u001b[38;5;28;01mreturn\u001b[39;00m \u001b[38;5;28mself\u001b[39m\n",
      "File \u001b[1;32m~\\.conda\\envs\\ukllc\\Lib\\site-packages\\pandas\\io\\formats\\style.py:1549\u001b[0m, in \u001b[0;36mStyler._update_ctx\u001b[1;34m(self, attrs)\u001b[0m\n\u001b[0;32m   1536\u001b[0m \u001b[38;5;250m\u001b[39m\u001b[38;5;124;03m\"\"\"\u001b[39;00m\n\u001b[0;32m   1537\u001b[0m \u001b[38;5;124;03mUpdate the state of the ``Styler`` for data cells.\u001b[39;00m\n\u001b[0;32m   1538\u001b[0m \n\u001b[1;32m   (...)\u001b[0m\n\u001b[0;32m   1546\u001b[0m \u001b[38;5;124;03m    matter.\u001b[39;00m\n\u001b[0;32m   1547\u001b[0m \u001b[38;5;124;03m\"\"\"\u001b[39;00m\n\u001b[0;32m   1548\u001b[0m \u001b[38;5;28;01mif\u001b[39;00m \u001b[38;5;129;01mnot\u001b[39;00m \u001b[38;5;28mself\u001b[39m\u001b[38;5;241m.\u001b[39mindex\u001b[38;5;241m.\u001b[39mis_unique \u001b[38;5;129;01mor\u001b[39;00m \u001b[38;5;129;01mnot\u001b[39;00m \u001b[38;5;28mself\u001b[39m\u001b[38;5;241m.\u001b[39mcolumns\u001b[38;5;241m.\u001b[39mis_unique:\n\u001b[1;32m-> 1549\u001b[0m     \u001b[38;5;28;01mraise\u001b[39;00m \u001b[38;5;167;01mKeyError\u001b[39;00m(\n\u001b[0;32m   1550\u001b[0m         \u001b[38;5;124m\"\u001b[39m\u001b[38;5;124m`Styler.apply` and `.map` are not compatible \u001b[39m\u001b[38;5;124m\"\u001b[39m\n\u001b[0;32m   1551\u001b[0m         \u001b[38;5;124m\"\u001b[39m\u001b[38;5;124mwith non-unique index or columns.\u001b[39m\u001b[38;5;124m\"\u001b[39m\n\u001b[0;32m   1552\u001b[0m     )\n\u001b[0;32m   1554\u001b[0m \u001b[38;5;28;01mfor\u001b[39;00m cn \u001b[38;5;129;01min\u001b[39;00m attrs\u001b[38;5;241m.\u001b[39mcolumns:\n\u001b[0;32m   1555\u001b[0m     j \u001b[38;5;241m=\u001b[39m \u001b[38;5;28mself\u001b[39m\u001b[38;5;241m.\u001b[39mcolumns\u001b[38;5;241m.\u001b[39mget_loc(cn)\n",
      "\u001b[1;31mKeyError\u001b[0m: '`Styler.apply` and `.map` are not compatible with non-unique index or columns.'"
     ]
    },
    {
     "data": {
      "text/plain": [
       "<pandas.io.formats.style.Styler at 0x25c4cd6eed0>"
      ]
     },
     "execution_count": 4,
     "metadata": {},
     "output_type": "execute_result"
    }
   ],
   "source": [
    "ds.version_history()"
   ]
  },
  {
   "cell_type": "markdown",
   "id": "b906519e",
   "metadata": {},
   "source": [
    "## 3. Documentation"
   ]
  },
  {
   "cell_type": "code",
   "execution_count": 5,
   "id": "5ce17048",
   "metadata": {
    "execution": {
     "iopub.execute_input": "2025-07-17T14:44:28.301012Z",
     "iopub.status.busy": "2025-07-17T14:44:28.301012Z",
     "iopub.status.idle": "2025-07-17T14:44:28.305064Z",
     "shell.execute_reply": "2025-07-17T14:44:28.305064Z"
    },
    "tags": [
     "remove-input"
    ]
   },
   "outputs": [
    {
     "data": {
      "text/markdown": [
       "We are currently building a documentation storage system which will host useful documents related to datasets and data owners. We will surface these documents on Guidebook."
      ],
      "text/plain": [
       "<IPython.core.display.Markdown object>"
      ]
     },
     "metadata": {},
     "output_type": "display_data"
    }
   ],
   "source": [
    "ds.documentation()"
   ]
  },
  {
   "cell_type": "markdown",
   "id": "f76e7ed1",
   "metadata": {},
   "source": [
    "## 4. Useful Syntax"
   ]
  },
  {
   "cell_type": "code",
   "execution_count": 6,
   "id": "86250c65",
   "metadata": {
    "execution": {
     "iopub.execute_input": "2025-07-17T14:44:28.308321Z",
     "iopub.status.busy": "2025-07-17T14:44:28.308321Z",
     "iopub.status.idle": "2025-07-17T14:44:28.312477Z",
     "shell.execute_reply": "2025-07-17T14:44:28.312477Z"
    },
    "tags": [
     "remove-input"
    ]
   },
   "outputs": [
    {
     "data": {
      "text/markdown": [
       "Below we will include syntax that may be helpful to other researchers in the UK LLC TRE. For longer scripts, we will include a snippet of the code plus a link to Git where you can find the full scripts."
      ],
      "text/plain": [
       "<IPython.core.display.Markdown object>"
      ]
     },
     "metadata": {},
     "output_type": "display_data"
    }
   ],
   "source": [
    "ds.useful_syntax()"
   ]
  }
 ],
 "metadata": {
  "language_info": {
   "codemirror_mode": {
    "name": "ipython",
    "version": 3
   },
   "file_extension": ".py",
   "mimetype": "text/x-python",
   "name": "python",
   "nbconvert_exporter": "python",
   "pygments_lexer": "ipython3",
   "version": "3.12.7"
  }
 },
 "nbformat": 4,
 "nbformat_minor": 5
}
