{
 "cells": [
  {
   "cell_type": "markdown",
   "id": "6b535c3d",
   "metadata": {},
   "source": [
    "# Age 46 Household Grid (BCS70)"
   ]
  },
  {
   "cell_type": "code",
   "execution_count": 1,
   "id": "a8cf832a",
   "metadata": {
    "execution": {
     "iopub.execute_input": "2025-07-17T14:44:47.738484Z",
     "iopub.status.busy": "2025-07-17T14:44:47.737485Z",
     "iopub.status.idle": "2025-07-17T14:44:56.464045Z",
     "shell.execute_reply": "2025-07-17T14:44:56.462023Z"
    },
    "tags": [
     "remove-input"
    ]
   },
   "outputs": [
    {
     "data": {
      "text/markdown": [
       ">Last modified: 17 Jul 2025"
      ],
      "text/plain": [
       "<IPython.core.display.Markdown object>"
      ]
     },
     "metadata": {},
     "output_type": "display_data"
    }
   ],
   "source": [
    "\n",
    "import sys\n",
    "import os\n",
    "sys.path.append(os.path.abspath('../../../../scripts/'))\n",
    "from data_doc_helper import LPSDataSet as DS, last_modified\n",
    "API_KEY = os.environ['FASTAPI_KEY']\n",
    "ds = DS(\"BCS70\", \"bcs10_persongrid\")\n",
    "last_modified()\n"
   ]
  },
  {
   "cell_type": "markdown",
   "id": "279e18f4",
   "metadata": {},
   "source": [
    "## 1. Summary"
   ]
  },
  {
   "cell_type": "code",
   "execution_count": 2,
   "id": "712dfbf5",
   "metadata": {
    "execution": {
     "iopub.execute_input": "2025-07-17T14:44:56.471036Z",
     "iopub.status.busy": "2025-07-17T14:44:56.471036Z",
     "iopub.status.idle": "2025-07-17T14:44:56.480852Z",
     "shell.execute_reply": "2025-07-17T14:44:56.479114Z"
    },
    "tags": [
     "remove-input"
    ]
   },
   "outputs": [
    {
     "data": {
      "text/markdown": [
       "Details of persons living with respondent (past and present) and absent children at sweep 10. Includes relationship to cohort member, birth dates and dates moved in and out of the household"
      ],
      "text/plain": [
       "<IPython.core.display.Markdown object>"
      ]
     },
     "metadata": {},
     "output_type": "display_data"
    }
   ],
   "source": [
    "ds.summary()"
   ]
  },
  {
   "cell_type": "code",
   "execution_count": 3,
   "id": "acfd3038",
   "metadata": {
    "execution": {
     "iopub.execute_input": "2025-07-17T14:44:56.486728Z",
     "iopub.status.busy": "2025-07-17T14:44:56.485715Z",
     "iopub.status.idle": "2025-07-17T14:44:57.453695Z",
     "shell.execute_reply": "2025-07-17T14:44:57.451680Z"
    },
    "tags": [
     "remove-input"
    ]
   },
   "outputs": [
    {
     "data": {
      "text/html": [
       "<style type=\"text/css\">\n",
       "#T_d0e0a th {\n",
       "  text-align: left;\n",
       "}\n",
       "#T_d0e0a_row0_col0, #T_d0e0a_row0_col1, #T_d0e0a_row1_col0, #T_d0e0a_row1_col1, #T_d0e0a_row2_col0, #T_d0e0a_row2_col1, #T_d0e0a_row3_col0, #T_d0e0a_row3_col1, #T_d0e0a_row4_col0, #T_d0e0a_row4_col1, #T_d0e0a_row5_col0, #T_d0e0a_row5_col1, #T_d0e0a_row6_col0, #T_d0e0a_row6_col1, #T_d0e0a_row7_col0, #T_d0e0a_row7_col1, #T_d0e0a_row8_col0, #T_d0e0a_row8_col1, #T_d0e0a_row9_col0, #T_d0e0a_row9_col1, #T_d0e0a_row10_col0, #T_d0e0a_row10_col1, #T_d0e0a_row11_col0, #T_d0e0a_row11_col1, #T_d0e0a_row12_col0, #T_d0e0a_row12_col1 {\n",
       "  text-align: left;\n",
       "}\n",
       "</style>\n",
       "<table id=\"T_d0e0a\" style=\"font-size: 14px\">\n",
       "  <thead>\n",
       "    <tr>\n",
       "      <th id=\"T_d0e0a_level0_col0\" class=\"col_heading level0 col0\" >Dataset Descriptor</th>\n",
       "      <th id=\"T_d0e0a_level0_col1\" class=\"col_heading level0 col1\" >Dataset-specific Information</th>\n",
       "    </tr>\n",
       "  </thead>\n",
       "  <tbody>\n",
       "    <tr>\n",
       "      <td id=\"T_d0e0a_row0_col0\" class=\"data row0 col0\" >Name of Dataset in TRE</td>\n",
       "      <td id=\"T_d0e0a_row0_col1\" class=\"data row0 col1\" >BCS70_bcs10_persongrid</td>\n",
       "    </tr>\n",
       "    <tr>\n",
       "      <td id=\"T_d0e0a_row1_col0\" class=\"data row1 col0\" >Citation (APA)</td>\n",
       "      <td id=\"T_d0e0a_row1_col1\" class=\"data row1 col1\" >University College London, UCL Social Research Institute, Centre for Longitudinal Studies. (2021). <i>1970 British Cohort Study (BCS70): Age 46 Household Grid.</i> UK Longitudinal Linkage Collaboration (UK LLC).  <a href=\"https://doi.org/10.83126/ukllc-dataset-00111-01\" rel=\"noopener noreferrer\" target=\"_blank\">https://doi.org/10.83126/ukllc-dataset-00111-01</a></td>\n",
       "    </tr>\n",
       "    <tr>\n",
       "      <td id=\"T_d0e0a_row2_col0\" class=\"data row2 col0\" >Download Citation</td>\n",
       "      <td id=\"T_d0e0a_row2_col1\" class=\"data row2 col1\" > <a href=\"https://api.test.datacite.org/application/vnd.citationstyles.csl+json/10.83126/ukllc-dataset-00111-01\" rel=\"noopener noreferrer\" target=\"_blank\">Citeproc JSON</a>&nbsp;&nbsp;&nbsp;&nbsp; <a href=\"https://api.test.datacite.org/application/x-bibtex/10.83126/ukllc-dataset-00111-01\" rel=\"noopener noreferrer\" target=\"_blank\">BibTeX</a>&nbsp;&nbsp;&nbsp;&nbsp; <a href=\"https://api.test.datacite.org/application/x-research-info-systems/10.83126/ukllc-dataset-00111-01\" rel=\"noopener noreferrer\" target=\"_blank\">RIS</a></td>\n",
       "    </tr>\n",
       "    <tr>\n",
       "      <td id=\"T_d0e0a_row3_col0\" class=\"data row3 col0\" >Series</td>\n",
       "      <td id=\"T_d0e0a_row3_col1\" class=\"data row3 col1\" > <a href=\"https://guidebook.ukllc.ac.uk/docs/lps/lps%20profiles/BCS70\">1970 British Cohort Study (BCS70)</a></td>\n",
       "    </tr>\n",
       "    <tr>\n",
       "      <td id=\"T_d0e0a_row4_col0\" class=\"data row4 col0\" >Owner</td>\n",
       "      <td id=\"T_d0e0a_row4_col1\" class=\"data row4 col1\" >UCL</td>\n",
       "    </tr>\n",
       "    <tr>\n",
       "      <td id=\"T_d0e0a_row5_col0\" class=\"data row5 col0\" >Temporal Coverage</td>\n",
       "      <td id=\"T_d0e0a_row5_col1\" class=\"data row5 col1\" >04/2016 - 04/2017</td>\n",
       "    </tr>\n",
       "    <tr>\n",
       "      <td id=\"T_d0e0a_row6_col0\" class=\"data row6 col0\" >Keywords</td>\n",
       "      <td id=\"T_d0e0a_row6_col1\" class=\"data row6 col1\" >Household members,Ages,Dates in Household,Relationships</td>\n",
       "    </tr>\n",
       "    <tr>\n",
       "      <td id=\"T_d0e0a_row7_col0\" class=\"data row7 col0\" >Participants Invited</td>\n",
       "      <td id=\"T_d0e0a_row7_col1\" class=\"data row7 col1\" >8581</td>\n",
       "    </tr>\n",
       "    <tr>\n",
       "      <td id=\"T_d0e0a_row8_col0\" class=\"data row8 col0\" >Participant Count</td>\n",
       "      <td id=\"T_d0e0a_row8_col1\" class=\"data row8 col1\" >6667</td>\n",
       "    </tr>\n",
       "    <tr>\n",
       "      <td id=\"T_d0e0a_row9_col0\" class=\"data row9 col0\" >Number of variables</td>\n",
       "      <td id=\"T_d0e0a_row9_col1\" class=\"data row9 col1\" >19</td>\n",
       "    </tr>\n",
       "    <tr>\n",
       "      <td id=\"T_d0e0a_row10_col0\" class=\"data row10 col0\" >Number of observations</td>\n",
       "      <td id=\"T_d0e0a_row10_col1\" class=\"data row10 col1\" >25659</td>\n",
       "    </tr>\n",
       "    <tr>\n",
       "      <td id=\"T_d0e0a_row11_col0\" class=\"data row11 col0\" >Specific Restrictions to Data Use</td>\n",
       "      <td id=\"T_d0e0a_row11_col1\" class=\"data row11 col1\" >None</td>\n",
       "    </tr>\n",
       "    <tr>\n",
       "      <td id=\"T_d0e0a_row12_col0\" class=\"data row12 col0\" >Build a Data Request</td>\n",
       "      <td id=\"T_d0e0a_row12_col1\" class=\"data row12 col1\" > <a href=\"https://explore.ukllc.ac.uk/\" rel=\"noopener noreferrer\" target=\"_blank\">https://explore.ukllc.ac.uk/</a></td>\n",
       "    </tr>\n",
       "  </tbody>\n",
       "</table>\n"
      ],
      "text/plain": [
       "<pandas.io.formats.style.Styler at 0x26345e0d220>"
      ]
     },
     "execution_count": 3,
     "metadata": {},
     "output_type": "execute_result"
    }
   ],
   "source": [
    "ds.info_table()"
   ]
  },
  {
   "cell_type": "markdown",
   "id": "cc1bb7fb",
   "metadata": {},
   "source": [
    "## 2. Version History"
   ]
  },
  {
   "cell_type": "code",
   "execution_count": 4,
   "id": "196e096c",
   "metadata": {
    "execution": {
     "iopub.execute_input": "2025-07-17T14:44:57.457698Z",
     "iopub.status.busy": "2025-07-17T14:44:57.457698Z",
     "iopub.status.idle": "2025-07-17T14:45:00.657146Z",
     "shell.execute_reply": "2025-07-17T14:45:00.655673Z"
    },
    "tags": [
     "remove-input"
    ]
   },
   "outputs": [
    {
     "data": {
      "text/html": [
       "<style type=\"text/css\">\n",
       "#T_bc3c8 th {\n",
       "  text-align: left;\n",
       "}\n",
       "#T_bc3c8_row0_col0, #T_bc3c8_row0_col1, #T_bc3c8_row1_col0, #T_bc3c8_row1_col1, #T_bc3c8_row2_col0, #T_bc3c8_row2_col1, #T_bc3c8_row3_col0, #T_bc3c8_row3_col1, #T_bc3c8_row4_col0, #T_bc3c8_row4_col1 {\n",
       "  text-align: left;\n",
       "}\n",
       "</style>\n",
       "<table id=\"T_bc3c8\" style=\"font-size: 14px\">\n",
       "  <thead>\n",
       "    <tr>\n",
       "      <th id=\"T_bc3c8_level0_col0\" class=\"col_heading level0 col0\" >Version</th>\n",
       "      <th id=\"T_bc3c8_level0_col1\" class=\"col_heading level0 col1\" >1</th>\n",
       "    </tr>\n",
       "  </thead>\n",
       "  <tbody>\n",
       "    <tr>\n",
       "      <td id=\"T_bc3c8_row0_col0\" class=\"data row0 col0\" >Version Date</td>\n",
       "      <td id=\"T_bc3c8_row0_col1\" class=\"data row0 col1\" >01 Nov 2021</td>\n",
       "    </tr>\n",
       "    <tr>\n",
       "      <td id=\"T_bc3c8_row1_col0\" class=\"data row1 col0\" >Number of Variables</td>\n",
       "      <td id=\"T_bc3c8_row1_col1\" class=\"data row1 col1\" >19</td>\n",
       "    </tr>\n",
       "    <tr>\n",
       "      <td id=\"T_bc3c8_row2_col0\" class=\"data row2 col0\" >Number of Observations</td>\n",
       "      <td id=\"T_bc3c8_row2_col1\" class=\"data row2 col1\" >25659</td>\n",
       "    </tr>\n",
       "    <tr>\n",
       "      <td id=\"T_bc3c8_row3_col0\" class=\"data row3 col0\" >DOI</td>\n",
       "      <td id=\"T_bc3c8_row3_col1\" class=\"data row3 col1\" > <a href=\"https://doi.org/10.83126/ukllc-dataset-00111-01\" rel=\"noopener noreferrer\" target=\"_blank\">10.83126/ukllc-dataset-00111-01</a></td>\n",
       "    </tr>\n",
       "    <tr>\n",
       "      <td id=\"T_bc3c8_row4_col0\" class=\"data row4 col0\" >Change Log</td>\n",
       "      <td id=\"T_bc3c8_row4_col1\" class=\"data row4 col1\" > <a href=\"https://api.test.datacite.org/dois/10.83126/ukllc-dataset-00111-01/activities\" rel=\"noopener noreferrer\" target=\"_blank\">10.83126/ukllc-dataset-00111-01/activities</a></td>\n",
       "    </tr>\n",
       "  </tbody>\n",
       "</table>\n"
      ],
      "text/plain": [
       "<pandas.io.formats.style.Styler at 0x263474975f0>"
      ]
     },
     "execution_count": 4,
     "metadata": {},
     "output_type": "execute_result"
    }
   ],
   "source": [
    "ds.version_history()"
   ]
  },
  {
   "cell_type": "markdown",
   "id": "64d49835",
   "metadata": {},
   "source": [
    "## 3. Documentation"
   ]
  },
  {
   "cell_type": "code",
   "execution_count": 5,
   "id": "d69742de",
   "metadata": {
    "execution": {
     "iopub.execute_input": "2025-07-17T14:45:00.663161Z",
     "iopub.status.busy": "2025-07-17T14:45:00.663161Z",
     "iopub.status.idle": "2025-07-17T14:45:00.670411Z",
     "shell.execute_reply": "2025-07-17T14:45:00.669401Z"
    },
    "tags": [
     "remove-input"
    ]
   },
   "outputs": [
    {
     "data": {
      "text/markdown": [
       "We are currently building a documentation storage system which will host useful documents related to datasets and data owners. We will surface these documents on Guidebook."
      ],
      "text/plain": [
       "<IPython.core.display.Markdown object>"
      ]
     },
     "metadata": {},
     "output_type": "display_data"
    }
   ],
   "source": [
    "ds.documentation()"
   ]
  },
  {
   "cell_type": "markdown",
   "id": "74e2d07b",
   "metadata": {},
   "source": [
    "## 4. Useful Syntax"
   ]
  },
  {
   "cell_type": "code",
   "execution_count": 6,
   "id": "196060df",
   "metadata": {
    "execution": {
     "iopub.execute_input": "2025-07-17T14:45:00.675411Z",
     "iopub.status.busy": "2025-07-17T14:45:00.675411Z",
     "iopub.status.idle": "2025-07-17T14:45:00.681217Z",
     "shell.execute_reply": "2025-07-17T14:45:00.680202Z"
    },
    "tags": [
     "remove-input"
    ]
   },
   "outputs": [
    {
     "data": {
      "text/markdown": [
       "Below we will include syntax that may be helpful to other researchers in the UK LLC TRE. For longer scripts, we will include a snippet of the code plus a link to Git where you can find the full scripts."
      ],
      "text/plain": [
       "<IPython.core.display.Markdown object>"
      ]
     },
     "metadata": {},
     "output_type": "display_data"
    }
   ],
   "source": [
    "ds.useful_syntax()"
   ]
  }
 ],
 "metadata": {
  "language_info": {
   "codemirror_mode": {
    "name": "ipython",
    "version": 3
   },
   "file_extension": ".py",
   "mimetype": "text/x-python",
   "name": "python",
   "nbconvert_exporter": "python",
   "pygments_lexer": "ipython3",
   "version": "3.12.7"
  }
 },
 "nbformat": 4,
 "nbformat_minor": 5
}
