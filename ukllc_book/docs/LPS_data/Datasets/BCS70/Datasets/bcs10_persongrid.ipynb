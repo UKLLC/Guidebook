{
 "cells": [
  {
   "cell_type": "markdown",
   "id": "6b535c3d",
   "metadata": {},
   "source": [
    "# Age 46 Household Grid (BCS70)"
   ]
  },
  {
   "cell_type": "code",
   "execution_count": 1,
   "id": "a8cf832a",
   "metadata": {
    "execution": {
     "iopub.execute_input": "2025-07-28T18:24:08.546721Z",
     "iopub.status.busy": "2025-07-28T18:24:08.546721Z",
     "iopub.status.idle": "2025-07-28T18:24:28.920999Z",
     "shell.execute_reply": "2025-07-28T18:24:28.919474Z"
    },
    "tags": [
     "remove-input"
    ]
   },
   "outputs": [
    {
     "data": {
      "text/markdown": [
       ">Last modified: 28 Jul 2025"
      ],
      "text/plain": [
       "<IPython.core.display.Markdown object>"
      ]
     },
     "metadata": {},
     "output_type": "display_data"
    }
   ],
   "source": [
    "\n",
    "import sys\n",
    "import os\n",
    "sys.path.append(os.path.abspath('../../../../scripts/'))\n",
    "from data_doc_helper import LPSDataSet as DS, last_modified\n",
    "API_KEY = os.environ['FASTAPI_KEY']\n",
    "ds = DS(\"BCS70\", \"bcs10_persongrid\")\n",
    "last_modified()\n"
   ]
  },
  {
   "cell_type": "markdown",
   "id": "279e18f4",
   "metadata": {},
   "source": [
    "## 1. Summary"
   ]
  },
  {
   "cell_type": "code",
   "execution_count": 2,
   "id": "712dfbf5",
   "metadata": {
    "execution": {
     "iopub.execute_input": "2025-07-28T18:24:28.929034Z",
     "iopub.status.busy": "2025-07-28T18:24:28.929034Z",
     "iopub.status.idle": "2025-07-28T18:24:28.945091Z",
     "shell.execute_reply": "2025-07-28T18:24:28.943074Z"
    },
    "tags": [
     "remove-input"
    ]
   },
   "outputs": [
    {
     "data": {
      "text/markdown": [
       "Details of persons living with respondent (past and present) and absent children at sweep 10. Includes relationship to cohort member, birth dates and dates moved in and out of the household"
      ],
      "text/plain": [
       "<IPython.core.display.Markdown object>"
      ]
     },
     "metadata": {},
     "output_type": "display_data"
    }
   ],
   "source": [
    "ds.summary()"
   ]
  },
  {
   "cell_type": "code",
   "execution_count": 3,
   "id": "acfd3038",
   "metadata": {
    "execution": {
     "iopub.execute_input": "2025-07-28T18:24:28.952092Z",
     "iopub.status.busy": "2025-07-28T18:24:28.952092Z",
     "iopub.status.idle": "2025-07-28T18:24:33.711280Z",
     "shell.execute_reply": "2025-07-28T18:24:33.709261Z"
    },
    "tags": [
     "remove-input"
    ]
   },
   "outputs": [
    {
     "data": {
      "text/html": [
       "<style type=\"text/css\">\n",
       "#T_cde2e th {\n",
       "  text-align: left;\n",
       "}\n",
       "#T_cde2e_row0_col0, #T_cde2e_row0_col1, #T_cde2e_row1_col0, #T_cde2e_row1_col1, #T_cde2e_row2_col0, #T_cde2e_row2_col1, #T_cde2e_row3_col0, #T_cde2e_row3_col1, #T_cde2e_row4_col0, #T_cde2e_row4_col1, #T_cde2e_row5_col0, #T_cde2e_row5_col1, #T_cde2e_row6_col0, #T_cde2e_row6_col1, #T_cde2e_row7_col0, #T_cde2e_row7_col1, #T_cde2e_row8_col0, #T_cde2e_row8_col1, #T_cde2e_row9_col0, #T_cde2e_row9_col1, #T_cde2e_row10_col0, #T_cde2e_row10_col1, #T_cde2e_row11_col0, #T_cde2e_row11_col1, #T_cde2e_row12_col0, #T_cde2e_row12_col1 {\n",
       "  text-align: left;\n",
       "}\n",
       "</style>\n",
       "<table id=\"T_cde2e\" style=\"font-size: 14px\">\n",
       "  <thead>\n",
       "    <tr>\n",
       "      <th id=\"T_cde2e_level0_col0\" class=\"col_heading level0 col0\" >Dataset Descriptor</th>\n",
       "      <th id=\"T_cde2e_level0_col1\" class=\"col_heading level0 col1\" >Dataset-specific Information</th>\n",
       "    </tr>\n",
       "  </thead>\n",
       "  <tbody>\n",
       "    <tr>\n",
       "      <td id=\"T_cde2e_row0_col0\" class=\"data row0 col0\" >Name of Dataset in TRE</td>\n",
       "      <td id=\"T_cde2e_row0_col1\" class=\"data row0 col1\" >BCS70_bcs10_persongrid</td>\n",
       "    </tr>\n",
       "    <tr>\n",
       "      <td id=\"T_cde2e_row1_col0\" class=\"data row1 col0\" >Citation (APA)</td>\n",
       "      <td id=\"T_cde2e_row1_col1\" class=\"data row1 col1\" >University College London, UCL Social Research Institute, Centre for Longitudinal Studies. (2021). <i>1970 British Cohort Study (BCS70): Age 46 Household Grid.</i> UK Longitudinal Linkage Collaboration (UK LLC).  <a href=\"https://doi.org/10.71760/ukllc-dataset-00030-01\" rel=\"noopener noreferrer\" target=\"_blank\">https://doi.org/10.71760/ukllc-dataset-00030-01</a></td>\n",
       "    </tr>\n",
       "    <tr>\n",
       "      <td id=\"T_cde2e_row2_col0\" class=\"data row2 col0\" >Download Citation</td>\n",
       "      <td id=\"T_cde2e_row2_col1\" class=\"data row2 col1\" > <a href=\"https://api.datacite.org/application/vnd.citationstyles.csl+json/10.71760/ukllc-dataset-00030-01\" rel=\"noopener noreferrer\" target=\"_blank\">Citeproc JSON</a>&nbsp;&nbsp;&nbsp;&nbsp; <a href=\"https://api.datacite.org/application/x-bibtex/10.71760/ukllc-dataset-00030-01\" rel=\"noopener noreferrer\" target=\"_blank\">BibTeX</a>&nbsp;&nbsp;&nbsp;&nbsp; <a href=\"https://api.datacite.org/application/x-research-info-systems/10.71760/ukllc-dataset-00030-01\" rel=\"noopener noreferrer\" target=\"_blank\">RIS</a></td>\n",
       "    </tr>\n",
       "    <tr>\n",
       "      <td id=\"T_cde2e_row3_col0\" class=\"data row3 col0\" >Series</td>\n",
       "      <td id=\"T_cde2e_row3_col1\" class=\"data row3 col1\" > <a href=\"https://guidebook.ukllc.ac.uk/docs/lps_data/lps%20profiles/BCS70\">1970 British Cohort Study (BCS70)</a></td>\n",
       "    </tr>\n",
       "    <tr>\n",
       "      <td id=\"T_cde2e_row4_col0\" class=\"data row4 col0\" >Owner</td>\n",
       "      <td id=\"T_cde2e_row4_col1\" class=\"data row4 col1\" >UCL</td>\n",
       "    </tr>\n",
       "    <tr>\n",
       "      <td id=\"T_cde2e_row5_col0\" class=\"data row5 col0\" >Temporal Coverage</td>\n",
       "      <td id=\"T_cde2e_row5_col1\" class=\"data row5 col1\" >04/2016 - 04/2017</td>\n",
       "    </tr>\n",
       "    <tr>\n",
       "      <td id=\"T_cde2e_row6_col0\" class=\"data row6 col0\" >Keywords</td>\n",
       "      <td id=\"T_cde2e_row6_col1\" class=\"data row6 col1\" >Household members,Ages,Dates in Household,Relationships</td>\n",
       "    </tr>\n",
       "    <tr>\n",
       "      <td id=\"T_cde2e_row7_col0\" class=\"data row7 col0\" >Participants Invited</td>\n",
       "      <td id=\"T_cde2e_row7_col1\" class=\"data row7 col1\" >8581</td>\n",
       "    </tr>\n",
       "    <tr>\n",
       "      <td id=\"T_cde2e_row8_col0\" class=\"data row8 col0\" >Participant Count</td>\n",
       "      <td id=\"T_cde2e_row8_col1\" class=\"data row8 col1\" >6667</td>\n",
       "    </tr>\n",
       "    <tr>\n",
       "      <td id=\"T_cde2e_row9_col0\" class=\"data row9 col0\" >Number of variables</td>\n",
       "      <td id=\"T_cde2e_row9_col1\" class=\"data row9 col1\" >19</td>\n",
       "    </tr>\n",
       "    <tr>\n",
       "      <td id=\"T_cde2e_row10_col0\" class=\"data row10 col0\" >Number of observations</td>\n",
       "      <td id=\"T_cde2e_row10_col1\" class=\"data row10 col1\" >25659</td>\n",
       "    </tr>\n",
       "    <tr>\n",
       "      <td id=\"T_cde2e_row11_col0\" class=\"data row11 col0\" >Specific Restrictions to Data Use</td>\n",
       "      <td id=\"T_cde2e_row11_col1\" class=\"data row11 col1\" >None</td>\n",
       "    </tr>\n",
       "    <tr>\n",
       "      <td id=\"T_cde2e_row12_col0\" class=\"data row12 col0\" >Build a Data Request</td>\n",
       "      <td id=\"T_cde2e_row12_col1\" class=\"data row12 col1\" > <a href=\"https://explore.ukllc.ac.uk/\" rel=\"noopener noreferrer\" target=\"_blank\">https://explore.ukllc.ac.uk/</a></td>\n",
       "    </tr>\n",
       "  </tbody>\n",
       "</table>\n"
      ],
      "text/plain": [
       "<pandas.io.formats.style.Styler at 0x1e8b7b06e40>"
      ]
     },
     "execution_count": 3,
     "metadata": {},
     "output_type": "execute_result"
    }
   ],
   "source": [
    "ds.info_table()"
   ]
  },
  {
   "cell_type": "markdown",
   "id": "cc1bb7fb",
   "metadata": {},
   "source": [
    "## 2. Version History"
   ]
  },
  {
   "cell_type": "code",
   "execution_count": 4,
   "id": "196e096c",
   "metadata": {
    "execution": {
     "iopub.execute_input": "2025-07-28T18:24:33.719279Z",
     "iopub.status.busy": "2025-07-28T18:24:33.718278Z",
     "iopub.status.idle": "2025-07-28T18:24:39.429762Z",
     "shell.execute_reply": "2025-07-28T18:24:39.427745Z"
    },
    "tags": [
     "remove-input"
    ]
   },
   "outputs": [
    {
     "data": {
      "text/html": [
       "<style type=\"text/css\">\n",
       "#T_6dfdc th {\n",
       "  text-align: left;\n",
       "}\n",
       "#T_6dfdc_row0_col0, #T_6dfdc_row0_col1, #T_6dfdc_row1_col0, #T_6dfdc_row1_col1, #T_6dfdc_row2_col0, #T_6dfdc_row2_col1, #T_6dfdc_row3_col0, #T_6dfdc_row3_col1, #T_6dfdc_row4_col0, #T_6dfdc_row4_col1 {\n",
       "  text-align: left;\n",
       "}\n",
       "</style>\n",
       "<table id=\"T_6dfdc\" style=\"font-size: 14px\">\n",
       "  <thead>\n",
       "    <tr>\n",
       "      <th id=\"T_6dfdc_level0_col0\" class=\"col_heading level0 col0\" >Version</th>\n",
       "      <th id=\"T_6dfdc_level0_col1\" class=\"col_heading level0 col1\" >1</th>\n",
       "    </tr>\n",
       "  </thead>\n",
       "  <tbody>\n",
       "    <tr>\n",
       "      <td id=\"T_6dfdc_row0_col0\" class=\"data row0 col0\" >Version Date</td>\n",
       "      <td id=\"T_6dfdc_row0_col1\" class=\"data row0 col1\" >01 Nov 2021</td>\n",
       "    </tr>\n",
       "    <tr>\n",
       "      <td id=\"T_6dfdc_row1_col0\" class=\"data row1 col0\" >Number of Variables</td>\n",
       "      <td id=\"T_6dfdc_row1_col1\" class=\"data row1 col1\" >19</td>\n",
       "    </tr>\n",
       "    <tr>\n",
       "      <td id=\"T_6dfdc_row2_col0\" class=\"data row2 col0\" >Number of Observations</td>\n",
       "      <td id=\"T_6dfdc_row2_col1\" class=\"data row2 col1\" >25659</td>\n",
       "    </tr>\n",
       "    <tr>\n",
       "      <td id=\"T_6dfdc_row3_col0\" class=\"data row3 col0\" >DOI</td>\n",
       "      <td id=\"T_6dfdc_row3_col1\" class=\"data row3 col1\" > <a href=\"https://doi.org/10.71760/ukllc-dataset-00030-01\" rel=\"noopener noreferrer\" target=\"_blank\">10.71760/ukllc-dataset-00030-01</a></td>\n",
       "    </tr>\n",
       "    <tr>\n",
       "      <td id=\"T_6dfdc_row4_col0\" class=\"data row4 col0\" >Change Log</td>\n",
       "      <td id=\"T_6dfdc_row4_col1\" class=\"data row4 col1\" > <a href=\"https://api.test.datacite.org/dois/10.71760/ukllc-dataset-00030-01/activities\" rel=\"noopener noreferrer\" target=\"_blank\">10.71760/ukllc-dataset-00030-01/activities</a></td>\n",
       "    </tr>\n",
       "  </tbody>\n",
       "</table>\n"
      ],
      "text/plain": [
       "<pandas.io.formats.style.Styler at 0x1e8b7b71a90>"
      ]
     },
     "execution_count": 4,
     "metadata": {},
     "output_type": "execute_result"
    }
   ],
   "source": [
    "ds.version_history()"
   ]
  },
  {
   "cell_type": "markdown",
   "id": "64d49835",
   "metadata": {},
   "source": [
    "## 3. Documentation"
   ]
  },
  {
   "cell_type": "code",
   "execution_count": 5,
   "id": "d69742de",
   "metadata": {
    "execution": {
     "iopub.execute_input": "2025-07-28T18:24:39.437756Z",
     "iopub.status.busy": "2025-07-28T18:24:39.437756Z",
     "iopub.status.idle": "2025-07-28T18:24:39.452700Z",
     "shell.execute_reply": "2025-07-28T18:24:39.451678Z"
    },
    "tags": [
     "remove-input"
    ]
   },
   "outputs": [
    {
     "data": {
      "text/markdown": [
       "We are currently building a documentation storage system which will host useful documents related to datasets and data owners. We will surface these documents on Guidebook."
      ],
      "text/plain": [
       "<IPython.core.display.Markdown object>"
      ]
     },
     "metadata": {},
     "output_type": "display_data"
    }
   ],
   "source": [
    "ds.documentation()"
   ]
  },
  {
   "cell_type": "markdown",
   "id": "74e2d07b",
   "metadata": {},
   "source": [
    "## 4. Useful Syntax"
   ]
  },
  {
   "cell_type": "code",
   "execution_count": 6,
   "id": "196060df",
   "metadata": {
    "execution": {
     "iopub.execute_input": "2025-07-28T18:24:39.458700Z",
     "iopub.status.busy": "2025-07-28T18:24:39.458700Z",
     "iopub.status.idle": "2025-07-28T18:24:39.472044Z",
     "shell.execute_reply": "2025-07-28T18:24:39.471034Z"
    },
    "tags": [
     "remove-input"
    ]
   },
   "outputs": [
    {
     "data": {
      "text/markdown": [
       "Below we will include syntax that may be helpful to other researchers in the UK LLC TRE. For longer scripts, we will include a snippet of the code plus a link to Git where you can find the full scripts."
      ],
      "text/plain": [
       "<IPython.core.display.Markdown object>"
      ]
     },
     "metadata": {},
     "output_type": "display_data"
    }
   ],
   "source": [
    "ds.useful_syntax()"
   ]
  }
 ],
 "metadata": {
  "kernelspec": {
   "display_name": "jupbook",
   "language": "python",
   "name": "python3"
  },
  "language_info": {
   "codemirror_mode": {
    "name": "ipython",
    "version": 3
   },
   "file_extension": ".py",
   "mimetype": "text/x-python",
   "name": "python",
   "nbconvert_exporter": "python",
   "pygments_lexer": "ipython3",
   "version": "3.13.2"
  }
 },
 "nbformat": 4,
 "nbformat_minor": 5
}
