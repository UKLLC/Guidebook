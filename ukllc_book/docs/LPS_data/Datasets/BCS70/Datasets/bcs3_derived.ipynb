{
 "cells": [
  {
   "cell_type": "markdown",
   "id": "e60b1f27",
   "metadata": {},
   "source": [
    "# Age 10 Derived Data (BCS70)"
   ]
  },
  {
   "cell_type": "code",
   "execution_count": 1,
   "id": "874de804",
   "metadata": {
    "execution": {
     "iopub.execute_input": "2025-07-28T18:29:10.634424Z",
     "iopub.status.busy": "2025-07-28T18:29:10.634424Z",
     "iopub.status.idle": "2025-07-28T18:29:22.879478Z",
     "shell.execute_reply": "2025-07-28T18:29:22.877948Z"
    },
    "tags": [
     "remove-input"
    ]
   },
   "outputs": [
    {
     "data": {
      "text/markdown": [
       ">Last modified: 28 Jul 2025"
      ],
      "text/plain": [
       "<IPython.core.display.Markdown object>"
      ]
     },
     "metadata": {},
     "output_type": "display_data"
    }
   ],
   "source": [
    "\n",
    "import sys\n",
    "import os\n",
    "sys.path.append(os.path.abspath('../../../../scripts/'))\n",
    "from data_doc_helper import LPSDataSet as DS, last_modified\n",
    "API_KEY = os.environ['FASTAPI_KEY']\n",
    "ds = DS(\"BCS70\", \"bcs3_derived\")\n",
    "last_modified()\n"
   ]
  },
  {
   "cell_type": "markdown",
   "id": "80674421",
   "metadata": {},
   "source": [
    "## 1. Summary"
   ]
  },
  {
   "cell_type": "code",
   "execution_count": 2,
   "id": "e63c63b2",
   "metadata": {
    "execution": {
     "iopub.execute_input": "2025-07-28T18:29:22.887479Z",
     "iopub.status.busy": "2025-07-28T18:29:22.887479Z",
     "iopub.status.idle": "2025-07-28T18:29:22.905941Z",
     "shell.execute_reply": "2025-07-28T18:29:22.902913Z"
    },
    "tags": [
     "remove-input"
    ]
   },
   "outputs": [
    {
     "data": {
      "text/markdown": [
       "Derivations based on collected sweep 3 survey data including parent's employment, family income, reading and maths test scores, parent malaise and rutter scores "
      ],
      "text/plain": [
       "<IPython.core.display.Markdown object>"
      ]
     },
     "metadata": {},
     "output_type": "display_data"
    }
   ],
   "source": [
    "ds.summary()"
   ]
  },
  {
   "cell_type": "code",
   "execution_count": 3,
   "id": "8bea23c6",
   "metadata": {
    "execution": {
     "iopub.execute_input": "2025-07-28T18:29:22.913379Z",
     "iopub.status.busy": "2025-07-28T18:29:22.913379Z",
     "iopub.status.idle": "2025-07-28T18:29:24.631920Z",
     "shell.execute_reply": "2025-07-28T18:29:24.629902Z"
    },
    "tags": [
     "remove-input"
    ]
   },
   "outputs": [
    {
     "data": {
      "text/html": [
       "<style type=\"text/css\">\n",
       "#T_a4eeb th {\n",
       "  text-align: left;\n",
       "}\n",
       "#T_a4eeb_row0_col0, #T_a4eeb_row0_col1, #T_a4eeb_row1_col0, #T_a4eeb_row1_col1, #T_a4eeb_row2_col0, #T_a4eeb_row2_col1, #T_a4eeb_row3_col0, #T_a4eeb_row3_col1, #T_a4eeb_row4_col0, #T_a4eeb_row4_col1, #T_a4eeb_row5_col0, #T_a4eeb_row5_col1, #T_a4eeb_row6_col0, #T_a4eeb_row6_col1, #T_a4eeb_row7_col0, #T_a4eeb_row7_col1, #T_a4eeb_row8_col0, #T_a4eeb_row8_col1, #T_a4eeb_row9_col0, #T_a4eeb_row9_col1, #T_a4eeb_row10_col0, #T_a4eeb_row10_col1, #T_a4eeb_row11_col0, #T_a4eeb_row11_col1, #T_a4eeb_row12_col0, #T_a4eeb_row12_col1 {\n",
       "  text-align: left;\n",
       "}\n",
       "</style>\n",
       "<table id=\"T_a4eeb\" style=\"font-size: 14px\">\n",
       "  <thead>\n",
       "    <tr>\n",
       "      <th id=\"T_a4eeb_level0_col0\" class=\"col_heading level0 col0\" >Dataset Descriptor</th>\n",
       "      <th id=\"T_a4eeb_level0_col1\" class=\"col_heading level0 col1\" >Dataset-specific Information</th>\n",
       "    </tr>\n",
       "  </thead>\n",
       "  <tbody>\n",
       "    <tr>\n",
       "      <td id=\"T_a4eeb_row0_col0\" class=\"data row0 col0\" >Name of Dataset in TRE</td>\n",
       "      <td id=\"T_a4eeb_row0_col1\" class=\"data row0 col1\" >BCS70_bcs3_derived</td>\n",
       "    </tr>\n",
       "    <tr>\n",
       "      <td id=\"T_a4eeb_row1_col0\" class=\"data row1 col0\" >Citation (APA)</td>\n",
       "      <td id=\"T_a4eeb_row1_col1\" class=\"data row1 col1\" >University College London, UCL Social Research Institute, Centre for Longitudinal Studies. (2021). <i>1970 British Cohort Study (BCS70): Age 10 Derived Data.</i> UK Longitudinal Linkage Collaboration (UK LLC).  <a href=\"https://doi.org/10.71760/ukllc-dataset-00043-01\" rel=\"noopener noreferrer\" target=\"_blank\">https://doi.org/10.71760/ukllc-dataset-00043-01</a></td>\n",
       "    </tr>\n",
       "    <tr>\n",
       "      <td id=\"T_a4eeb_row2_col0\" class=\"data row2 col0\" >Download Citation</td>\n",
       "      <td id=\"T_a4eeb_row2_col1\" class=\"data row2 col1\" > <a href=\"https://api.datacite.org/application/vnd.citationstyles.csl+json/10.71760/ukllc-dataset-00043-01\" rel=\"noopener noreferrer\" target=\"_blank\">Citeproc JSON</a>&nbsp;&nbsp;&nbsp;&nbsp; <a href=\"https://api.datacite.org/application/x-bibtex/10.71760/ukllc-dataset-00043-01\" rel=\"noopener noreferrer\" target=\"_blank\">BibTeX</a>&nbsp;&nbsp;&nbsp;&nbsp; <a href=\"https://api.datacite.org/application/x-research-info-systems/10.71760/ukllc-dataset-00043-01\" rel=\"noopener noreferrer\" target=\"_blank\">RIS</a></td>\n",
       "    </tr>\n",
       "    <tr>\n",
       "      <td id=\"T_a4eeb_row3_col0\" class=\"data row3 col0\" >Series</td>\n",
       "      <td id=\"T_a4eeb_row3_col1\" class=\"data row3 col1\" > <a href=\"https://guidebook.ukllc.ac.uk/docs/lps_data/lps%20profiles/BCS70\">1970 British Cohort Study (BCS70)</a></td>\n",
       "    </tr>\n",
       "    <tr>\n",
       "      <td id=\"T_a4eeb_row4_col0\" class=\"data row4 col0\" >Owner</td>\n",
       "      <td id=\"T_a4eeb_row4_col1\" class=\"data row4 col1\" >UCL</td>\n",
       "    </tr>\n",
       "    <tr>\n",
       "      <td id=\"T_a4eeb_row5_col0\" class=\"data row5 col0\" >Temporal Coverage</td>\n",
       "      <td id=\"T_a4eeb_row5_col1\" class=\"data row5 col1\" >04/1980 - 04/1981</td>\n",
       "    </tr>\n",
       "    <tr>\n",
       "      <td id=\"T_a4eeb_row6_col0\" class=\"data row6 col0\" >Keywords</td>\n",
       "      <td id=\"T_a4eeb_row6_col1\" class=\"data row6 col1\" >Health,Education,Family life,Employment,Attitudes</td>\n",
       "    </tr>\n",
       "    <tr>\n",
       "      <td id=\"T_a4eeb_row7_col0\" class=\"data row7 col0\" >Participants Invited</td>\n",
       "      <td id=\"T_a4eeb_row7_col1\" class=\"data row7 col1\" >14875</td>\n",
       "    </tr>\n",
       "    <tr>\n",
       "      <td id=\"T_a4eeb_row8_col0\" class=\"data row8 col0\" >Participant Count</td>\n",
       "      <td id=\"T_a4eeb_row8_col1\" class=\"data row8 col1\" >7914</td>\n",
       "    </tr>\n",
       "    <tr>\n",
       "      <td id=\"T_a4eeb_row9_col0\" class=\"data row9 col0\" >Number of variables</td>\n",
       "      <td id=\"T_a4eeb_row9_col1\" class=\"data row9 col1\" >19</td>\n",
       "    </tr>\n",
       "    <tr>\n",
       "      <td id=\"T_a4eeb_row10_col0\" class=\"data row10 col0\" >Number of observations</td>\n",
       "      <td id=\"T_a4eeb_row10_col1\" class=\"data row10 col1\" >19052</td>\n",
       "    </tr>\n",
       "    <tr>\n",
       "      <td id=\"T_a4eeb_row11_col0\" class=\"data row11 col0\" >Specific Restrictions to Data Use</td>\n",
       "      <td id=\"T_a4eeb_row11_col1\" class=\"data row11 col1\" >None</td>\n",
       "    </tr>\n",
       "    <tr>\n",
       "      <td id=\"T_a4eeb_row12_col0\" class=\"data row12 col0\" >Build a Data Request</td>\n",
       "      <td id=\"T_a4eeb_row12_col1\" class=\"data row12 col1\" > <a href=\"https://explore.ukllc.ac.uk/\" rel=\"noopener noreferrer\" target=\"_blank\">https://explore.ukllc.ac.uk/</a></td>\n",
       "    </tr>\n",
       "  </tbody>\n",
       "</table>\n"
      ],
      "text/plain": [
       "<pandas.io.formats.style.Styler at 0x23f1c78c170>"
      ]
     },
     "execution_count": 3,
     "metadata": {},
     "output_type": "execute_result"
    }
   ],
   "source": [
    "ds.info_table()"
   ]
  },
  {
   "cell_type": "markdown",
   "id": "c11ee5a8",
   "metadata": {},
   "source": [
    "## 2. Version History"
   ]
  },
  {
   "cell_type": "code",
   "execution_count": 4,
   "id": "71be10cc",
   "metadata": {
    "execution": {
     "iopub.execute_input": "2025-07-28T18:29:24.640918Z",
     "iopub.status.busy": "2025-07-28T18:29:24.639919Z",
     "iopub.status.idle": "2025-07-28T18:29:29.251344Z",
     "shell.execute_reply": "2025-07-28T18:29:29.249257Z"
    },
    "tags": [
     "remove-input"
    ]
   },
   "outputs": [
    {
     "data": {
      "text/html": [
       "<style type=\"text/css\">\n",
       "#T_6e8c7 th {\n",
       "  text-align: left;\n",
       "}\n",
       "#T_6e8c7_row0_col0, #T_6e8c7_row0_col1, #T_6e8c7_row1_col0, #T_6e8c7_row1_col1, #T_6e8c7_row2_col0, #T_6e8c7_row2_col1, #T_6e8c7_row3_col0, #T_6e8c7_row3_col1, #T_6e8c7_row4_col0, #T_6e8c7_row4_col1 {\n",
       "  text-align: left;\n",
       "}\n",
       "</style>\n",
       "<table id=\"T_6e8c7\" style=\"font-size: 14px\">\n",
       "  <thead>\n",
       "    <tr>\n",
       "      <th id=\"T_6e8c7_level0_col0\" class=\"col_heading level0 col0\" >Version</th>\n",
       "      <th id=\"T_6e8c7_level0_col1\" class=\"col_heading level0 col1\" >1</th>\n",
       "    </tr>\n",
       "  </thead>\n",
       "  <tbody>\n",
       "    <tr>\n",
       "      <td id=\"T_6e8c7_row0_col0\" class=\"data row0 col0\" >Version Date</td>\n",
       "      <td id=\"T_6e8c7_row0_col1\" class=\"data row0 col1\" >01 Nov 2021</td>\n",
       "    </tr>\n",
       "    <tr>\n",
       "      <td id=\"T_6e8c7_row1_col0\" class=\"data row1 col0\" >Number of Variables</td>\n",
       "      <td id=\"T_6e8c7_row1_col1\" class=\"data row1 col1\" >19</td>\n",
       "    </tr>\n",
       "    <tr>\n",
       "      <td id=\"T_6e8c7_row2_col0\" class=\"data row2 col0\" >Number of Observations</td>\n",
       "      <td id=\"T_6e8c7_row2_col1\" class=\"data row2 col1\" >19052</td>\n",
       "    </tr>\n",
       "    <tr>\n",
       "      <td id=\"T_6e8c7_row3_col0\" class=\"data row3 col0\" >DOI</td>\n",
       "      <td id=\"T_6e8c7_row3_col1\" class=\"data row3 col1\" > <a href=\"https://doi.org/10.71760/ukllc-dataset-00043-01\" rel=\"noopener noreferrer\" target=\"_blank\">10.71760/ukllc-dataset-00043-01</a></td>\n",
       "    </tr>\n",
       "    <tr>\n",
       "      <td id=\"T_6e8c7_row4_col0\" class=\"data row4 col0\" >Change Log</td>\n",
       "      <td id=\"T_6e8c7_row4_col1\" class=\"data row4 col1\" > <a href=\"https://api.test.datacite.org/dois/10.71760/ukllc-dataset-00043-01/activities\" rel=\"noopener noreferrer\" target=\"_blank\">10.71760/ukllc-dataset-00043-01/activities</a></td>\n",
       "    </tr>\n",
       "  </tbody>\n",
       "</table>\n"
      ],
      "text/plain": [
       "<pandas.io.formats.style.Styler at 0x23f20d68380>"
      ]
     },
     "execution_count": 4,
     "metadata": {},
     "output_type": "execute_result"
    }
   ],
   "source": [
    "ds.version_history()"
   ]
  },
  {
   "cell_type": "markdown",
   "id": "2a89db1e",
   "metadata": {},
   "source": [
    "## 3. Documentation"
   ]
  },
  {
   "cell_type": "code",
   "execution_count": 5,
   "id": "2a6a4800",
   "metadata": {
    "execution": {
     "iopub.execute_input": "2025-07-28T18:29:29.261363Z",
     "iopub.status.busy": "2025-07-28T18:29:29.261363Z",
     "iopub.status.idle": "2025-07-28T18:29:29.273891Z",
     "shell.execute_reply": "2025-07-28T18:29:29.272301Z"
    },
    "tags": [
     "remove-input"
    ]
   },
   "outputs": [
    {
     "data": {
      "text/markdown": [
       "We are currently building a documentation storage system which will host useful documents related to datasets and data owners. We will surface these documents on Guidebook."
      ],
      "text/plain": [
       "<IPython.core.display.Markdown object>"
      ]
     },
     "metadata": {},
     "output_type": "display_data"
    }
   ],
   "source": [
    "ds.documentation()"
   ]
  },
  {
   "cell_type": "markdown",
   "id": "2c3c030f",
   "metadata": {},
   "source": [
    "## 4. Useful Syntax"
   ]
  },
  {
   "cell_type": "code",
   "execution_count": 6,
   "id": "aa588f6e",
   "metadata": {
    "execution": {
     "iopub.execute_input": "2025-07-28T18:29:29.280910Z",
     "iopub.status.busy": "2025-07-28T18:29:29.280910Z",
     "iopub.status.idle": "2025-07-28T18:29:29.292462Z",
     "shell.execute_reply": "2025-07-28T18:29:29.290418Z"
    },
    "tags": [
     "remove-input"
    ]
   },
   "outputs": [
    {
     "data": {
      "text/markdown": [
       "Below we will include syntax that may be helpful to other researchers in the UK LLC TRE. For longer scripts, we will include a snippet of the code plus a link to Git where you can find the full scripts."
      ],
      "text/plain": [
       "<IPython.core.display.Markdown object>"
      ]
     },
     "metadata": {},
     "output_type": "display_data"
    }
   ],
   "source": [
    "ds.useful_syntax()"
   ]
  }
 ],
 "metadata": {
  "language_info": {
   "codemirror_mode": {
    "name": "ipython",
    "version": 3
   },
   "file_extension": ".py",
   "mimetype": "text/x-python",
   "name": "python",
   "nbconvert_exporter": "python",
   "pygments_lexer": "ipython3",
   "version": "3.12.7"
  }
 },
 "nbformat": 4,
 "nbformat_minor": 5
}
