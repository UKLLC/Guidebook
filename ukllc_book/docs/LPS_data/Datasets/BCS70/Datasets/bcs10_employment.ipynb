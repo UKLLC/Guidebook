{
 "cells": [
  {
   "cell_type": "markdown",
   "id": "fa326066",
   "metadata": {},
   "source": [
    "# Age 46 Employment Data (BCS70)"
   ]
  },
  {
   "cell_type": "code",
   "execution_count": 1,
   "id": "0ee5fbce",
   "metadata": {
    "execution": {
     "iopub.execute_input": "2025-07-28T18:22:33.484970Z",
     "iopub.status.busy": "2025-07-28T18:22:33.484970Z",
     "iopub.status.idle": "2025-07-28T18:22:45.187175Z",
     "shell.execute_reply": "2025-07-28T18:22:45.184758Z"
    },
    "tags": [
     "remove-input"
    ]
   },
   "outputs": [
    {
     "data": {
      "text/markdown": [
       ">Last modified: 28 Jul 2025"
      ],
      "text/plain": [
       "<IPython.core.display.Markdown object>"
      ]
     },
     "metadata": {},
     "output_type": "display_data"
    }
   ],
   "source": [
    "\n",
    "import sys\n",
    "import os\n",
    "sys.path.append(os.path.abspath('../../../../scripts/'))\n",
    "from data_doc_helper import LPSDataSet as DS, last_modified\n",
    "API_KEY = os.environ['FASTAPI_KEY']\n",
    "ds = DS(\"BCS70\", \"bcs10_employment\")\n",
    "last_modified()\n"
   ]
  },
  {
   "cell_type": "markdown",
   "id": "9e6a374b",
   "metadata": {},
   "source": [
    "## 1. Summary"
   ]
  },
  {
   "cell_type": "code",
   "execution_count": 2,
   "id": "cea18231",
   "metadata": {
    "execution": {
     "iopub.execute_input": "2025-07-28T18:22:45.196177Z",
     "iopub.status.busy": "2025-07-28T18:22:45.195180Z",
     "iopub.status.idle": "2025-07-28T18:22:45.211273Z",
     "shell.execute_reply": "2025-07-28T18:22:45.208731Z"
    },
    "tags": [
     "remove-input"
    ]
   },
   "outputs": [
    {
     "data": {
      "text/markdown": [
       "Employment histories covering all activities since last sweep / 2008 (whichever is more recent). Includes SIC and SOC for each valid employment"
      ],
      "text/plain": [
       "<IPython.core.display.Markdown object>"
      ]
     },
     "metadata": {},
     "output_type": "display_data"
    }
   ],
   "source": [
    "ds.summary()"
   ]
  },
  {
   "cell_type": "code",
   "execution_count": 3,
   "id": "12180df4",
   "metadata": {
    "execution": {
     "iopub.execute_input": "2025-07-28T18:22:45.220014Z",
     "iopub.status.busy": "2025-07-28T18:22:45.218013Z",
     "iopub.status.idle": "2025-07-28T18:22:46.937206Z",
     "shell.execute_reply": "2025-07-28T18:22:46.935675Z"
    },
    "tags": [
     "remove-input"
    ]
   },
   "outputs": [
    {
     "data": {
      "text/html": [
       "<style type=\"text/css\">\n",
       "#T_9eea0 th {\n",
       "  text-align: left;\n",
       "}\n",
       "#T_9eea0_row0_col0, #T_9eea0_row0_col1, #T_9eea0_row1_col0, #T_9eea0_row1_col1, #T_9eea0_row2_col0, #T_9eea0_row2_col1, #T_9eea0_row3_col0, #T_9eea0_row3_col1, #T_9eea0_row4_col0, #T_9eea0_row4_col1, #T_9eea0_row5_col0, #T_9eea0_row5_col1, #T_9eea0_row6_col0, #T_9eea0_row6_col1, #T_9eea0_row7_col0, #T_9eea0_row7_col1, #T_9eea0_row8_col0, #T_9eea0_row8_col1, #T_9eea0_row9_col0, #T_9eea0_row9_col1, #T_9eea0_row10_col0, #T_9eea0_row10_col1, #T_9eea0_row11_col0, #T_9eea0_row11_col1, #T_9eea0_row12_col0, #T_9eea0_row12_col1 {\n",
       "  text-align: left;\n",
       "}\n",
       "</style>\n",
       "<table id=\"T_9eea0\" style=\"font-size: 14px\">\n",
       "  <thead>\n",
       "    <tr>\n",
       "      <th id=\"T_9eea0_level0_col0\" class=\"col_heading level0 col0\" >Dataset Descriptor</th>\n",
       "      <th id=\"T_9eea0_level0_col1\" class=\"col_heading level0 col1\" >Dataset-specific Information</th>\n",
       "    </tr>\n",
       "  </thead>\n",
       "  <tbody>\n",
       "    <tr>\n",
       "      <td id=\"T_9eea0_row0_col0\" class=\"data row0 col0\" >Name of Dataset in TRE</td>\n",
       "      <td id=\"T_9eea0_row0_col1\" class=\"data row0 col1\" >BCS70_bcs10_employment</td>\n",
       "    </tr>\n",
       "    <tr>\n",
       "      <td id=\"T_9eea0_row1_col0\" class=\"data row1 col0\" >Citation (APA)</td>\n",
       "      <td id=\"T_9eea0_row1_col1\" class=\"data row1 col1\" >University College London, UCL Social Research Institute, Centre for Longitudinal Studies. (2021). <i>1970 British Cohort Study (BCS70): Age 46 Employment Data.</i> UK Longitudinal Linkage Collaboration (UK LLC).  <a href=\"https://doi.org/10.71760/ukllc-dataset-00026-01\" rel=\"noopener noreferrer\" target=\"_blank\">https://doi.org/10.71760/ukllc-dataset-00026-01</a></td>\n",
       "    </tr>\n",
       "    <tr>\n",
       "      <td id=\"T_9eea0_row2_col0\" class=\"data row2 col0\" >Download Citation</td>\n",
       "      <td id=\"T_9eea0_row2_col1\" class=\"data row2 col1\" > <a href=\"https://api.datacite.org/application/vnd.citationstyles.csl+json/10.71760/ukllc-dataset-00026-01\" rel=\"noopener noreferrer\" target=\"_blank\">Citeproc JSON</a>&nbsp;&nbsp;&nbsp;&nbsp; <a href=\"https://api.datacite.org/application/x-bibtex/10.71760/ukllc-dataset-00026-01\" rel=\"noopener noreferrer\" target=\"_blank\">BibTeX</a>&nbsp;&nbsp;&nbsp;&nbsp; <a href=\"https://api.datacite.org/application/x-research-info-systems/10.71760/ukllc-dataset-00026-01\" rel=\"noopener noreferrer\" target=\"_blank\">RIS</a></td>\n",
       "    </tr>\n",
       "    <tr>\n",
       "      <td id=\"T_9eea0_row3_col0\" class=\"data row3 col0\" >Series</td>\n",
       "      <td id=\"T_9eea0_row3_col1\" class=\"data row3 col1\" > <a href=\"https://guidebook.ukllc.ac.uk/docs/lps_data/lps%20profiles/BCS70\">1970 British Cohort Study (BCS70)</a></td>\n",
       "    </tr>\n",
       "    <tr>\n",
       "      <td id=\"T_9eea0_row4_col0\" class=\"data row4 col0\" >Owner</td>\n",
       "      <td id=\"T_9eea0_row4_col1\" class=\"data row4 col1\" >UCL</td>\n",
       "    </tr>\n",
       "    <tr>\n",
       "      <td id=\"T_9eea0_row5_col0\" class=\"data row5 col0\" >Temporal Coverage</td>\n",
       "      <td id=\"T_9eea0_row5_col1\" class=\"data row5 col1\" >04/2008 - 04/2018</td>\n",
       "    </tr>\n",
       "    <tr>\n",
       "      <td id=\"T_9eea0_row6_col0\" class=\"data row6 col0\" >Keywords</td>\n",
       "      <td id=\"T_9eea0_row6_col1\" class=\"data row6 col1\" >Occupations,Status,Social Class,Self-employment,Hours,Employees</td>\n",
       "    </tr>\n",
       "    <tr>\n",
       "      <td id=\"T_9eea0_row7_col0\" class=\"data row7 col0\" >Participants Invited</td>\n",
       "      <td id=\"T_9eea0_row7_col1\" class=\"data row7 col1\" >8581</td>\n",
       "    </tr>\n",
       "    <tr>\n",
       "      <td id=\"T_9eea0_row8_col0\" class=\"data row8 col0\" >Participant Count</td>\n",
       "      <td id=\"T_9eea0_row8_col1\" class=\"data row8 col1\" >2827</td>\n",
       "    </tr>\n",
       "    <tr>\n",
       "      <td id=\"T_9eea0_row9_col0\" class=\"data row9 col0\" >Number of variables</td>\n",
       "      <td id=\"T_9eea0_row9_col1\" class=\"data row9 col1\" >24</td>\n",
       "    </tr>\n",
       "    <tr>\n",
       "      <td id=\"T_9eea0_row10_col0\" class=\"data row10 col0\" >Number of observations</td>\n",
       "      <td id=\"T_9eea0_row10_col1\" class=\"data row10 col1\" >5280</td>\n",
       "    </tr>\n",
       "    <tr>\n",
       "      <td id=\"T_9eea0_row11_col0\" class=\"data row11 col0\" >Specific Restrictions to Data Use</td>\n",
       "      <td id=\"T_9eea0_row11_col1\" class=\"data row11 col1\" >None</td>\n",
       "    </tr>\n",
       "    <tr>\n",
       "      <td id=\"T_9eea0_row12_col0\" class=\"data row12 col0\" >Build a Data Request</td>\n",
       "      <td id=\"T_9eea0_row12_col1\" class=\"data row12 col1\" > <a href=\"https://explore.ukllc.ac.uk/\" rel=\"noopener noreferrer\" target=\"_blank\">https://explore.ukllc.ac.uk/</a></td>\n",
       "    </tr>\n",
       "  </tbody>\n",
       "</table>\n"
      ],
      "text/plain": [
       "<pandas.io.formats.style.Styler at 0x1eb3f286e40>"
      ]
     },
     "execution_count": 3,
     "metadata": {},
     "output_type": "execute_result"
    }
   ],
   "source": [
    "ds.info_table()"
   ]
  },
  {
   "cell_type": "markdown",
   "id": "6d742b8d",
   "metadata": {},
   "source": [
    "## 2. Version History"
   ]
  },
  {
   "cell_type": "code",
   "execution_count": 4,
   "id": "24471d0e",
   "metadata": {
    "execution": {
     "iopub.execute_input": "2025-07-28T18:22:46.945676Z",
     "iopub.status.busy": "2025-07-28T18:22:46.944202Z",
     "iopub.status.idle": "2025-07-28T18:22:52.416648Z",
     "shell.execute_reply": "2025-07-28T18:22:52.414630Z"
    },
    "tags": [
     "remove-input"
    ]
   },
   "outputs": [
    {
     "data": {
      "text/html": [
       "<style type=\"text/css\">\n",
       "#T_53170 th {\n",
       "  text-align: left;\n",
       "}\n",
       "#T_53170_row0_col0, #T_53170_row0_col1, #T_53170_row1_col0, #T_53170_row1_col1, #T_53170_row2_col0, #T_53170_row2_col1, #T_53170_row3_col0, #T_53170_row3_col1, #T_53170_row4_col0, #T_53170_row4_col1 {\n",
       "  text-align: left;\n",
       "}\n",
       "</style>\n",
       "<table id=\"T_53170\" style=\"font-size: 14px\">\n",
       "  <thead>\n",
       "    <tr>\n",
       "      <th id=\"T_53170_level0_col0\" class=\"col_heading level0 col0\" >Version</th>\n",
       "      <th id=\"T_53170_level0_col1\" class=\"col_heading level0 col1\" >1</th>\n",
       "    </tr>\n",
       "  </thead>\n",
       "  <tbody>\n",
       "    <tr>\n",
       "      <td id=\"T_53170_row0_col0\" class=\"data row0 col0\" >Version Date</td>\n",
       "      <td id=\"T_53170_row0_col1\" class=\"data row0 col1\" >01 Nov 2021</td>\n",
       "    </tr>\n",
       "    <tr>\n",
       "      <td id=\"T_53170_row1_col0\" class=\"data row1 col0\" >Number of Variables</td>\n",
       "      <td id=\"T_53170_row1_col1\" class=\"data row1 col1\" >24</td>\n",
       "    </tr>\n",
       "    <tr>\n",
       "      <td id=\"T_53170_row2_col0\" class=\"data row2 col0\" >Number of Observations</td>\n",
       "      <td id=\"T_53170_row2_col1\" class=\"data row2 col1\" >5280</td>\n",
       "    </tr>\n",
       "    <tr>\n",
       "      <td id=\"T_53170_row3_col0\" class=\"data row3 col0\" >DOI</td>\n",
       "      <td id=\"T_53170_row3_col1\" class=\"data row3 col1\" > <a href=\"https://doi.org/10.71760/ukllc-dataset-00026-01\" rel=\"noopener noreferrer\" target=\"_blank\">10.71760/ukllc-dataset-00026-01</a></td>\n",
       "    </tr>\n",
       "    <tr>\n",
       "      <td id=\"T_53170_row4_col0\" class=\"data row4 col0\" >Change Log</td>\n",
       "      <td id=\"T_53170_row4_col1\" class=\"data row4 col1\" > <a href=\"https://api.test.datacite.org/dois/10.71760/ukllc-dataset-00026-01/activities\" rel=\"noopener noreferrer\" target=\"_blank\">10.71760/ukllc-dataset-00026-01/activities</a></td>\n",
       "    </tr>\n",
       "  </tbody>\n",
       "</table>\n"
      ],
      "text/plain": [
       "<pandas.io.formats.style.Styler at 0x1eb3f2f5a90>"
      ]
     },
     "execution_count": 4,
     "metadata": {},
     "output_type": "execute_result"
    }
   ],
   "source": [
    "ds.version_history()"
   ]
  },
  {
   "cell_type": "markdown",
   "id": "265379ac",
   "metadata": {},
   "source": [
    "## 3. Documentation"
   ]
  },
  {
   "cell_type": "code",
   "execution_count": 5,
   "id": "240a13d7",
   "metadata": {
    "execution": {
     "iopub.execute_input": "2025-07-28T18:22:52.425646Z",
     "iopub.status.busy": "2025-07-28T18:22:52.424644Z",
     "iopub.status.idle": "2025-07-28T18:22:52.436568Z",
     "shell.execute_reply": "2025-07-28T18:22:52.435164Z"
    },
    "tags": [
     "remove-input"
    ]
   },
   "outputs": [
    {
     "data": {
      "text/markdown": [
       "We are currently building a documentation storage system which will host useful documents related to datasets and data owners. We will surface these documents on Guidebook."
      ],
      "text/plain": [
       "<IPython.core.display.Markdown object>"
      ]
     },
     "metadata": {},
     "output_type": "display_data"
    }
   ],
   "source": [
    "ds.documentation()"
   ]
  },
  {
   "cell_type": "markdown",
   "id": "ee1bbf4f",
   "metadata": {},
   "source": [
    "## 4. Useful Syntax"
   ]
  },
  {
   "cell_type": "code",
   "execution_count": 6,
   "id": "d9237c19",
   "metadata": {
    "execution": {
     "iopub.execute_input": "2025-07-28T18:22:52.443858Z",
     "iopub.status.busy": "2025-07-28T18:22:52.443858Z",
     "iopub.status.idle": "2025-07-28T18:22:52.453916Z",
     "shell.execute_reply": "2025-07-28T18:22:52.452900Z"
    },
    "tags": [
     "remove-input"
    ]
   },
   "outputs": [
    {
     "data": {
      "text/markdown": [
       "Below we will include syntax that may be helpful to other researchers in the UK LLC TRE. For longer scripts, we will include a snippet of the code plus a link to Git where you can find the full scripts."
      ],
      "text/plain": [
       "<IPython.core.display.Markdown object>"
      ]
     },
     "metadata": {},
     "output_type": "display_data"
    }
   ],
   "source": [
    "ds.useful_syntax()"
   ]
  }
 ],
 "metadata": {
  "kernelspec": {
   "display_name": "jupbook",
   "language": "python",
   "name": "python3"
  },
  "language_info": {
   "codemirror_mode": {
    "name": "ipython",
    "version": 3
   },
   "file_extension": ".py",
   "mimetype": "text/x-python",
   "name": "python",
   "nbconvert_exporter": "python",
   "pygments_lexer": "ipython3",
   "version": "3.13.2"
  }
 },
 "nbformat": 4,
 "nbformat_minor": 5
}
