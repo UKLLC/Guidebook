{
 "cells": [
  {
   "cell_type": "markdown",
   "id": "07529cd8",
   "metadata": {},
   "source": [
    "# Birth Survey (BCS70)"
   ]
  },
  {
   "cell_type": "code",
   "execution_count": 1,
   "id": "b056627c",
   "metadata": {
    "execution": {
     "iopub.execute_input": "2025-07-17T14:42:42.404068Z",
     "iopub.status.busy": "2025-07-17T14:42:42.404068Z",
     "iopub.status.idle": "2025-07-17T14:42:49.360357Z",
     "shell.execute_reply": "2025-07-17T14:42:49.358746Z"
    },
    "tags": [
     "remove-input"
    ]
   },
   "outputs": [
    {
     "data": {
      "text/markdown": [
       ">Last modified: 17 Jul 2025"
      ],
      "text/plain": [
       "<IPython.core.display.Markdown object>"
      ]
     },
     "metadata": {},
     "output_type": "display_data"
    }
   ],
   "source": [
    "\n",
    "import sys\n",
    "import os\n",
    "sys.path.append(os.path.abspath('../../../../scripts/'))\n",
    "from data_doc_helper import LPSDataSet as DS, last_modified\n",
    "API_KEY = os.environ['FASTAPI_KEY']\n",
    "ds = DS(\"BCS70\", \"bcs1\")\n",
    "last_modified()\n"
   ]
  },
  {
   "cell_type": "markdown",
   "id": "9e289ca0",
   "metadata": {},
   "source": [
    "## 1. Summary"
   ]
  },
  {
   "cell_type": "code",
   "execution_count": 2,
   "id": "94bfdc99",
   "metadata": {
    "execution": {
     "iopub.execute_input": "2025-07-17T14:42:49.366868Z",
     "iopub.status.busy": "2025-07-17T14:42:49.365868Z",
     "iopub.status.idle": "2025-07-17T14:42:49.375393Z",
     "shell.execute_reply": "2025-07-17T14:42:49.374381Z"
    },
    "tags": [
     "remove-input"
    ]
   },
   "outputs": [
    {
     "data": {
      "text/markdown": [
       "The first survey of the British Cohort Study took place in 1970. It's aims were to examine the social and biological characteristics of the mother in relation to neonatal morbidity, and to compare those results with those of the National Child Development Study (NCDS). Participants were recruited via hospitals throughout the UK based on birth date between 5-11 April 1970"
      ],
      "text/plain": [
       "<IPython.core.display.Markdown object>"
      ]
     },
     "metadata": {},
     "output_type": "display_data"
    }
   ],
   "source": [
    "ds.summary()"
   ]
  },
  {
   "cell_type": "code",
   "execution_count": 3,
   "id": "7d7f94e0",
   "metadata": {
    "execution": {
     "iopub.execute_input": "2025-07-17T14:42:49.382039Z",
     "iopub.status.busy": "2025-07-17T14:42:49.381038Z",
     "iopub.status.idle": "2025-07-17T14:42:50.742135Z",
     "shell.execute_reply": "2025-07-17T14:42:50.741117Z"
    },
    "tags": [
     "remove-input"
    ]
   },
   "outputs": [
    {
     "data": {
      "text/html": [
       "<style type=\"text/css\">\n",
       "#T_a4aca th {\n",
       "  text-align: left;\n",
       "}\n",
       "#T_a4aca_row0_col0, #T_a4aca_row0_col1, #T_a4aca_row1_col0, #T_a4aca_row1_col1, #T_a4aca_row2_col0, #T_a4aca_row2_col1, #T_a4aca_row3_col0, #T_a4aca_row3_col1, #T_a4aca_row4_col0, #T_a4aca_row4_col1, #T_a4aca_row5_col0, #T_a4aca_row5_col1, #T_a4aca_row6_col0, #T_a4aca_row6_col1, #T_a4aca_row7_col0, #T_a4aca_row7_col1, #T_a4aca_row8_col0, #T_a4aca_row8_col1, #T_a4aca_row9_col0, #T_a4aca_row9_col1, #T_a4aca_row10_col0, #T_a4aca_row10_col1, #T_a4aca_row11_col0, #T_a4aca_row11_col1, #T_a4aca_row12_col0, #T_a4aca_row12_col1 {\n",
       "  text-align: left;\n",
       "}\n",
       "</style>\n",
       "<table id=\"T_a4aca\" style=\"font-size: 14px\">\n",
       "  <thead>\n",
       "    <tr>\n",
       "      <th id=\"T_a4aca_level0_col0\" class=\"col_heading level0 col0\" >Dataset Descriptor</th>\n",
       "      <th id=\"T_a4aca_level0_col1\" class=\"col_heading level0 col1\" >Dataset-specific Information</th>\n",
       "    </tr>\n",
       "  </thead>\n",
       "  <tbody>\n",
       "    <tr>\n",
       "      <td id=\"T_a4aca_row0_col0\" class=\"data row0 col0\" >Name of Dataset in TRE</td>\n",
       "      <td id=\"T_a4aca_row0_col1\" class=\"data row0 col1\" >BCS70_bcs1</td>\n",
       "    </tr>\n",
       "    <tr>\n",
       "      <td id=\"T_a4aca_row1_col0\" class=\"data row1 col0\" >Citation (APA)</td>\n",
       "      <td id=\"T_a4aca_row1_col1\" class=\"data row1 col1\" >University College London, UCL Social Research Institute, Centre for Longitudinal Studies. (2021). <i>1970 British Cohort Study (BCS70): Birth Survey.</i> UK Longitudinal Linkage Collaboration (UK LLC).  <a href=\"https://doi.org/10.83126/ukllc-dataset-00117-01\" rel=\"noopener noreferrer\" target=\"_blank\">https://doi.org/10.83126/ukllc-dataset-00117-01</a></td>\n",
       "    </tr>\n",
       "    <tr>\n",
       "      <td id=\"T_a4aca_row2_col0\" class=\"data row2 col0\" >Download Citation</td>\n",
       "      <td id=\"T_a4aca_row2_col1\" class=\"data row2 col1\" > <a href=\"https://api.test.datacite.org/application/vnd.citationstyles.csl+json/10.83126/ukllc-dataset-00117-01\" rel=\"noopener noreferrer\" target=\"_blank\">Citeproc JSON</a>&nbsp;&nbsp;&nbsp;&nbsp; <a href=\"https://api.test.datacite.org/application/x-bibtex/10.83126/ukllc-dataset-00117-01\" rel=\"noopener noreferrer\" target=\"_blank\">BibTeX</a>&nbsp;&nbsp;&nbsp;&nbsp; <a href=\"https://api.test.datacite.org/application/x-research-info-systems/10.83126/ukllc-dataset-00117-01\" rel=\"noopener noreferrer\" target=\"_blank\">RIS</a></td>\n",
       "    </tr>\n",
       "    <tr>\n",
       "      <td id=\"T_a4aca_row3_col0\" class=\"data row3 col0\" >Series</td>\n",
       "      <td id=\"T_a4aca_row3_col1\" class=\"data row3 col1\" > <a href=\"https://guidebook.ukllc.ac.uk/docs/lps/lps%20profiles/BCS70\">1970 British Cohort Study (BCS70)</a></td>\n",
       "    </tr>\n",
       "    <tr>\n",
       "      <td id=\"T_a4aca_row4_col0\" class=\"data row4 col0\" >Owner</td>\n",
       "      <td id=\"T_a4aca_row4_col1\" class=\"data row4 col1\" >UCL</td>\n",
       "    </tr>\n",
       "    <tr>\n",
       "      <td id=\"T_a4aca_row5_col0\" class=\"data row5 col0\" >Temporal Coverage</td>\n",
       "      <td id=\"T_a4aca_row5_col1\" class=\"data row5 col1\" >04/1970 - 04/1972</td>\n",
       "    </tr>\n",
       "    <tr>\n",
       "      <td id=\"T_a4aca_row6_col0\" class=\"data row6 col0\" >Keywords</td>\n",
       "      <td id=\"T_a4aca_row6_col1\" class=\"data row6 col1\" >Pregnancy outcome,health,Birth characteristics</td>\n",
       "    </tr>\n",
       "    <tr>\n",
       "      <td id=\"T_a4aca_row7_col0\" class=\"data row7 col0\" >Participants Invited</td>\n",
       "      <td id=\"T_a4aca_row7_col1\" class=\"data row7 col1\" >17196</td>\n",
       "    </tr>\n",
       "    <tr>\n",
       "      <td id=\"T_a4aca_row8_col0\" class=\"data row8 col0\" >Participant Count</td>\n",
       "      <td id=\"T_a4aca_row8_col1\" class=\"data row8 col1\" >7923</td>\n",
       "    </tr>\n",
       "    <tr>\n",
       "      <td id=\"T_a4aca_row9_col0\" class=\"data row9 col0\" >Number of variables</td>\n",
       "      <td id=\"T_a4aca_row9_col1\" class=\"data row9 col1\" >414</td>\n",
       "    </tr>\n",
       "    <tr>\n",
       "      <td id=\"T_a4aca_row10_col0\" class=\"data row10 col0\" >Number of observations</td>\n",
       "      <td id=\"T_a4aca_row10_col1\" class=\"data row10 col1\" >17196</td>\n",
       "    </tr>\n",
       "    <tr>\n",
       "      <td id=\"T_a4aca_row11_col0\" class=\"data row11 col0\" >Specific Restrictions to Data Use</td>\n",
       "      <td id=\"T_a4aca_row11_col1\" class=\"data row11 col1\" >None</td>\n",
       "    </tr>\n",
       "    <tr>\n",
       "      <td id=\"T_a4aca_row12_col0\" class=\"data row12 col0\" >Build a Data Request</td>\n",
       "      <td id=\"T_a4aca_row12_col1\" class=\"data row12 col1\" > <a href=\"https://explore.ukllc.ac.uk/\" rel=\"noopener noreferrer\" target=\"_blank\">https://explore.ukllc.ac.uk/</a></td>\n",
       "    </tr>\n",
       "  </tbody>\n",
       "</table>\n"
      ],
      "text/plain": [
       "<pandas.io.formats.style.Styler at 0x2527dcb38f0>"
      ]
     },
     "execution_count": 3,
     "metadata": {},
     "output_type": "execute_result"
    }
   ],
   "source": [
    "ds.info_table()"
   ]
  },
  {
   "cell_type": "markdown",
   "id": "b08b24fd",
   "metadata": {},
   "source": [
    "## 2. Version History"
   ]
  },
  {
   "cell_type": "code",
   "execution_count": 4,
   "id": "37ac757b",
   "metadata": {
    "execution": {
     "iopub.execute_input": "2025-07-17T14:42:50.746479Z",
     "iopub.status.busy": "2025-07-17T14:42:50.746479Z",
     "iopub.status.idle": "2025-07-17T14:42:54.448824Z",
     "shell.execute_reply": "2025-07-17T14:42:54.445314Z"
    },
    "tags": [
     "remove-input"
    ]
   },
   "outputs": [
    {
     "data": {
      "text/html": [
       "<style type=\"text/css\">\n",
       "#T_ceaf7 th {\n",
       "  text-align: left;\n",
       "}\n",
       "#T_ceaf7_row0_col0, #T_ceaf7_row0_col1, #T_ceaf7_row1_col0, #T_ceaf7_row1_col1, #T_ceaf7_row2_col0, #T_ceaf7_row2_col1, #T_ceaf7_row3_col0, #T_ceaf7_row3_col1, #T_ceaf7_row4_col0, #T_ceaf7_row4_col1 {\n",
       "  text-align: left;\n",
       "}\n",
       "</style>\n",
       "<table id=\"T_ceaf7\" style=\"font-size: 14px\">\n",
       "  <thead>\n",
       "    <tr>\n",
       "      <th id=\"T_ceaf7_level0_col0\" class=\"col_heading level0 col0\" >Version</th>\n",
       "      <th id=\"T_ceaf7_level0_col1\" class=\"col_heading level0 col1\" >1</th>\n",
       "    </tr>\n",
       "  </thead>\n",
       "  <tbody>\n",
       "    <tr>\n",
       "      <td id=\"T_ceaf7_row0_col0\" class=\"data row0 col0\" >Version Date</td>\n",
       "      <td id=\"T_ceaf7_row0_col1\" class=\"data row0 col1\" >01 Nov 2021</td>\n",
       "    </tr>\n",
       "    <tr>\n",
       "      <td id=\"T_ceaf7_row1_col0\" class=\"data row1 col0\" >Number of Variables</td>\n",
       "      <td id=\"T_ceaf7_row1_col1\" class=\"data row1 col1\" >414</td>\n",
       "    </tr>\n",
       "    <tr>\n",
       "      <td id=\"T_ceaf7_row2_col0\" class=\"data row2 col0\" >Number of Observations</td>\n",
       "      <td id=\"T_ceaf7_row2_col1\" class=\"data row2 col1\" >17196</td>\n",
       "    </tr>\n",
       "    <tr>\n",
       "      <td id=\"T_ceaf7_row3_col0\" class=\"data row3 col0\" >DOI</td>\n",
       "      <td id=\"T_ceaf7_row3_col1\" class=\"data row3 col1\" > <a href=\"https://doi.org/10.83126/ukllc-dataset-00117-01\" rel=\"noopener noreferrer\" target=\"_blank\">10.83126/ukllc-dataset-00117-01</a></td>\n",
       "    </tr>\n",
       "    <tr>\n",
       "      <td id=\"T_ceaf7_row4_col0\" class=\"data row4 col0\" >Change Log</td>\n",
       "      <td id=\"T_ceaf7_row4_col1\" class=\"data row4 col1\" > <a href=\"https://api.test.datacite.org/dois/10.83126/ukllc-dataset-00117-01/activities\" rel=\"noopener noreferrer\" target=\"_blank\">10.83126/ukllc-dataset-00117-01/activities</a></td>\n",
       "    </tr>\n",
       "  </tbody>\n",
       "</table>\n"
      ],
      "text/plain": [
       "<pandas.io.formats.style.Styler at 0x25200083320>"
      ]
     },
     "execution_count": 4,
     "metadata": {},
     "output_type": "execute_result"
    }
   ],
   "source": [
    "ds.version_history()"
   ]
  },
  {
   "cell_type": "markdown",
   "id": "43828a60",
   "metadata": {},
   "source": [
    "## 3. Documentation"
   ]
  },
  {
   "cell_type": "code",
   "execution_count": 5,
   "id": "e8724e2f",
   "metadata": {
    "execution": {
     "iopub.execute_input": "2025-07-17T14:42:54.460816Z",
     "iopub.status.busy": "2025-07-17T14:42:54.460816Z",
     "iopub.status.idle": "2025-07-17T14:42:54.472434Z",
     "shell.execute_reply": "2025-07-17T14:42:54.471395Z"
    },
    "tags": [
     "remove-input"
    ]
   },
   "outputs": [
    {
     "data": {
      "text/markdown": [
       "We are currently building a documentation storage system which will host useful documents related to datasets and data owners. We will surface these documents on Guidebook."
      ],
      "text/plain": [
       "<IPython.core.display.Markdown object>"
      ]
     },
     "metadata": {},
     "output_type": "display_data"
    }
   ],
   "source": [
    "ds.documentation()"
   ]
  },
  {
   "cell_type": "markdown",
   "id": "a9bbefcd",
   "metadata": {},
   "source": [
    "## 4. Useful Syntax"
   ]
  },
  {
   "cell_type": "code",
   "execution_count": 6,
   "id": "9a29f360",
   "metadata": {
    "execution": {
     "iopub.execute_input": "2025-07-17T14:42:54.476427Z",
     "iopub.status.busy": "2025-07-17T14:42:54.476427Z",
     "iopub.status.idle": "2025-07-17T14:42:54.481361Z",
     "shell.execute_reply": "2025-07-17T14:42:54.481361Z"
    },
    "tags": [
     "remove-input"
    ]
   },
   "outputs": [
    {
     "data": {
      "text/markdown": [
       "Below we will include syntax that may be helpful to other researchers in the UK LLC TRE. For longer scripts, we will include a snippet of the code plus a link to Git where you can find the full scripts."
      ],
      "text/plain": [
       "<IPython.core.display.Markdown object>"
      ]
     },
     "metadata": {},
     "output_type": "display_data"
    }
   ],
   "source": [
    "ds.useful_syntax()"
   ]
  }
 ],
 "metadata": {
  "language_info": {
   "codemirror_mode": {
    "name": "ipython",
    "version": 3
   },
   "file_extension": ".py",
   "mimetype": "text/x-python",
   "name": "python",
   "nbconvert_exporter": "python",
   "pygments_lexer": "ipython3",
   "version": "3.12.7"
  }
 },
 "nbformat": 4,
 "nbformat_minor": 5
}
