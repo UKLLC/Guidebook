{
 "cells": [
  {
   "cell_type": "markdown",
   "id": "c65f2cf6",
   "metadata": {},
   "source": [
    "# Age 16 Survey Data (BCS70)"
   ]
  },
  {
   "cell_type": "code",
   "execution_count": 1,
   "id": "540b96fc",
   "metadata": {
    "execution": {
     "iopub.execute_input": "2025-07-28T18:29:34.043324Z",
     "iopub.status.busy": "2025-07-28T18:29:34.043324Z",
     "iopub.status.idle": "2025-07-28T18:29:45.913800Z",
     "shell.execute_reply": "2025-07-28T18:29:45.906828Z"
    },
    "tags": [
     "remove-input"
    ]
   },
   "outputs": [
    {
     "data": {
      "text/markdown": [
       ">Last modified: 28 Jul 2025"
      ],
      "text/plain": [
       "<IPython.core.display.Markdown object>"
      ]
     },
     "metadata": {},
     "output_type": "display_data"
    }
   ],
   "source": [
    "\n",
    "import sys\n",
    "import os\n",
    "sys.path.append(os.path.abspath('../../../../scripts/'))\n",
    "from data_doc_helper import LPSDataSet as DS, last_modified\n",
    "API_KEY = os.environ['FASTAPI_KEY']\n",
    "ds = DS(\"BCS70\", \"bcs4\")\n",
    "last_modified()\n"
   ]
  },
  {
   "cell_type": "markdown",
   "id": "a039298b",
   "metadata": {},
   "source": [
    "## 1. Summary"
   ]
  },
  {
   "cell_type": "code",
   "execution_count": 2,
   "id": "dcaca4e2",
   "metadata": {
    "execution": {
     "iopub.execute_input": "2025-07-28T18:29:45.925407Z",
     "iopub.status.busy": "2025-07-28T18:29:45.925407Z",
     "iopub.status.idle": "2025-07-28T18:29:45.941486Z",
     "shell.execute_reply": "2025-07-28T18:29:45.938830Z"
    },
    "tags": [
     "remove-input"
    ]
   },
   "outputs": [
    {
     "data": {
      "text/markdown": [
       "In this sweep, sixteen separate survey instruments were employed, including parental questionnaires, head and class teacher questionnaires and medical examinations (including measurement of height, weight, blood pressure, and pulse). The cohort members completed questionnaires, kept two four-day diaries (one for nutrition and one for leisure and TV/video), and undertook some educational assessments. "
      ],
      "text/plain": [
       "<IPython.core.display.Markdown object>"
      ]
     },
     "metadata": {},
     "output_type": "display_data"
    }
   ],
   "source": [
    "ds.summary()"
   ]
  },
  {
   "cell_type": "code",
   "execution_count": 3,
   "id": "5e02cc2d",
   "metadata": {
    "execution": {
     "iopub.execute_input": "2025-07-28T18:29:45.959781Z",
     "iopub.status.busy": "2025-07-28T18:29:45.957807Z",
     "iopub.status.idle": "2025-07-28T18:29:48.559190Z",
     "shell.execute_reply": "2025-07-28T18:29:48.557171Z"
    },
    "tags": [
     "remove-input"
    ]
   },
   "outputs": [
    {
     "data": {
      "text/html": [
       "<style type=\"text/css\">\n",
       "#T_04cf4 th {\n",
       "  text-align: left;\n",
       "}\n",
       "#T_04cf4_row0_col0, #T_04cf4_row0_col1, #T_04cf4_row1_col0, #T_04cf4_row1_col1, #T_04cf4_row2_col0, #T_04cf4_row2_col1, #T_04cf4_row3_col0, #T_04cf4_row3_col1, #T_04cf4_row4_col0, #T_04cf4_row4_col1, #T_04cf4_row5_col0, #T_04cf4_row5_col1, #T_04cf4_row6_col0, #T_04cf4_row6_col1, #T_04cf4_row7_col0, #T_04cf4_row7_col1, #T_04cf4_row8_col0, #T_04cf4_row8_col1, #T_04cf4_row9_col0, #T_04cf4_row9_col1, #T_04cf4_row10_col0, #T_04cf4_row10_col1, #T_04cf4_row11_col0, #T_04cf4_row11_col1, #T_04cf4_row12_col0, #T_04cf4_row12_col1 {\n",
       "  text-align: left;\n",
       "}\n",
       "</style>\n",
       "<table id=\"T_04cf4\" style=\"font-size: 14px\">\n",
       "  <thead>\n",
       "    <tr>\n",
       "      <th id=\"T_04cf4_level0_col0\" class=\"col_heading level0 col0\" >Dataset Descriptor</th>\n",
       "      <th id=\"T_04cf4_level0_col1\" class=\"col_heading level0 col1\" >Dataset-specific Information</th>\n",
       "    </tr>\n",
       "  </thead>\n",
       "  <tbody>\n",
       "    <tr>\n",
       "      <td id=\"T_04cf4_row0_col0\" class=\"data row0 col0\" >Name of Dataset in TRE</td>\n",
       "      <td id=\"T_04cf4_row0_col1\" class=\"data row0 col1\" >BCS70_bcs4</td>\n",
       "    </tr>\n",
       "    <tr>\n",
       "      <td id=\"T_04cf4_row1_col0\" class=\"data row1 col0\" >Citation (APA)</td>\n",
       "      <td id=\"T_04cf4_row1_col1\" class=\"data row1 col1\" >University College London, UCL Social Research Institute, Centre for Longitudinal Studies. (2021). <i>1970 British Cohort Study (BCS70): Age 16 Survey Data.</i> UK Longitudinal Linkage Collaboration (UK LLC).  <a href=\"https://doi.org/10.71760/ukllc-dataset-00047-01\" rel=\"noopener noreferrer\" target=\"_blank\">https://doi.org/10.71760/ukllc-dataset-00047-01</a></td>\n",
       "    </tr>\n",
       "    <tr>\n",
       "      <td id=\"T_04cf4_row2_col0\" class=\"data row2 col0\" >Download Citation</td>\n",
       "      <td id=\"T_04cf4_row2_col1\" class=\"data row2 col1\" > <a href=\"https://api.datacite.org/application/vnd.citationstyles.csl+json/10.71760/ukllc-dataset-00047-01\" rel=\"noopener noreferrer\" target=\"_blank\">Citeproc JSON</a>&nbsp;&nbsp;&nbsp;&nbsp; <a href=\"https://api.datacite.org/application/x-bibtex/10.71760/ukllc-dataset-00047-01\" rel=\"noopener noreferrer\" target=\"_blank\">BibTeX</a>&nbsp;&nbsp;&nbsp;&nbsp; <a href=\"https://api.datacite.org/application/x-research-info-systems/10.71760/ukllc-dataset-00047-01\" rel=\"noopener noreferrer\" target=\"_blank\">RIS</a></td>\n",
       "    </tr>\n",
       "    <tr>\n",
       "      <td id=\"T_04cf4_row3_col0\" class=\"data row3 col0\" >Series</td>\n",
       "      <td id=\"T_04cf4_row3_col1\" class=\"data row3 col1\" > <a href=\"https://guidebook.ukllc.ac.uk/docs/lps_data/lps%20profiles/BCS70\">1970 British Cohort Study (BCS70)</a></td>\n",
       "    </tr>\n",
       "    <tr>\n",
       "      <td id=\"T_04cf4_row4_col0\" class=\"data row4 col0\" >Owner</td>\n",
       "      <td id=\"T_04cf4_row4_col1\" class=\"data row4 col1\" >UCL</td>\n",
       "    </tr>\n",
       "    <tr>\n",
       "      <td id=\"T_04cf4_row5_col0\" class=\"data row5 col0\" >Temporal Coverage</td>\n",
       "      <td id=\"T_04cf4_row5_col1\" class=\"data row5 col1\" >04/1986 - 04/1987</td>\n",
       "    </tr>\n",
       "    <tr>\n",
       "      <td id=\"T_04cf4_row6_col0\" class=\"data row6 col0\" >Keywords</td>\n",
       "      <td id=\"T_04cf4_row6_col1\" class=\"data row6 col1\" >Health,Education,Leisure & sport,Attitudes,Youth,Employment</td>\n",
       "    </tr>\n",
       "    <tr>\n",
       "      <td id=\"T_04cf4_row7_col0\" class=\"data row7 col0\" >Participants Invited</td>\n",
       "      <td id=\"T_04cf4_row7_col1\" class=\"data row7 col1\" >11622</td>\n",
       "    </tr>\n",
       "    <tr>\n",
       "      <td id=\"T_04cf4_row8_col0\" class=\"data row8 col0\" >Participant Count</td>\n",
       "      <td id=\"T_04cf4_row8_col1\" class=\"data row8 col1\" >6722</td>\n",
       "    </tr>\n",
       "    <tr>\n",
       "      <td id=\"T_04cf4_row9_col0\" class=\"data row9 col0\" >Number of variables</td>\n",
       "      <td id=\"T_04cf4_row9_col1\" class=\"data row9 col1\" >4693</td>\n",
       "    </tr>\n",
       "    <tr>\n",
       "      <td id=\"T_04cf4_row10_col0\" class=\"data row10 col0\" >Number of observations</td>\n",
       "      <td id=\"T_04cf4_row10_col1\" class=\"data row10 col1\" >11615</td>\n",
       "    </tr>\n",
       "    <tr>\n",
       "      <td id=\"T_04cf4_row11_col0\" class=\"data row11 col0\" >Specific Restrictions to Data Use</td>\n",
       "      <td id=\"T_04cf4_row11_col1\" class=\"data row11 col1\" >None</td>\n",
       "    </tr>\n",
       "    <tr>\n",
       "      <td id=\"T_04cf4_row12_col0\" class=\"data row12 col0\" >Build a Data Request</td>\n",
       "      <td id=\"T_04cf4_row12_col1\" class=\"data row12 col1\" > <a href=\"https://explore.ukllc.ac.uk/\" rel=\"noopener noreferrer\" target=\"_blank\">https://explore.ukllc.ac.uk/</a></td>\n",
       "    </tr>\n",
       "  </tbody>\n",
       "</table>\n"
      ],
      "text/plain": [
       "<pandas.io.formats.style.Styler at 0x2a56933c170>"
      ]
     },
     "execution_count": 3,
     "metadata": {},
     "output_type": "execute_result"
    }
   ],
   "source": [
    "ds.info_table()"
   ]
  },
  {
   "cell_type": "markdown",
   "id": "befc0d00",
   "metadata": {},
   "source": [
    "## 2. Version History"
   ]
  },
  {
   "cell_type": "code",
   "execution_count": 4,
   "id": "6d9c48e5",
   "metadata": {
    "execution": {
     "iopub.execute_input": "2025-07-28T18:29:48.567185Z",
     "iopub.status.busy": "2025-07-28T18:29:48.567185Z",
     "iopub.status.idle": "2025-07-28T18:29:54.256764Z",
     "shell.execute_reply": "2025-07-28T18:29:54.254708Z"
    },
    "tags": [
     "remove-input"
    ]
   },
   "outputs": [
    {
     "data": {
      "text/html": [
       "<style type=\"text/css\">\n",
       "#T_1522f th {\n",
       "  text-align: left;\n",
       "}\n",
       "#T_1522f_row0_col0, #T_1522f_row0_col1, #T_1522f_row1_col0, #T_1522f_row1_col1, #T_1522f_row2_col0, #T_1522f_row2_col1, #T_1522f_row3_col0, #T_1522f_row3_col1, #T_1522f_row4_col0, #T_1522f_row4_col1 {\n",
       "  text-align: left;\n",
       "}\n",
       "</style>\n",
       "<table id=\"T_1522f\" style=\"font-size: 14px\">\n",
       "  <thead>\n",
       "    <tr>\n",
       "      <th id=\"T_1522f_level0_col0\" class=\"col_heading level0 col0\" >Version</th>\n",
       "      <th id=\"T_1522f_level0_col1\" class=\"col_heading level0 col1\" >1</th>\n",
       "    </tr>\n",
       "  </thead>\n",
       "  <tbody>\n",
       "    <tr>\n",
       "      <td id=\"T_1522f_row0_col0\" class=\"data row0 col0\" >Version Date</td>\n",
       "      <td id=\"T_1522f_row0_col1\" class=\"data row0 col1\" >01 Nov 2021</td>\n",
       "    </tr>\n",
       "    <tr>\n",
       "      <td id=\"T_1522f_row1_col0\" class=\"data row1 col0\" >Number of Variables</td>\n",
       "      <td id=\"T_1522f_row1_col1\" class=\"data row1 col1\" >4703</td>\n",
       "    </tr>\n",
       "    <tr>\n",
       "      <td id=\"T_1522f_row2_col0\" class=\"data row2 col0\" >Number of Observations</td>\n",
       "      <td id=\"T_1522f_row2_col1\" class=\"data row2 col1\" >11615</td>\n",
       "    </tr>\n",
       "    <tr>\n",
       "      <td id=\"T_1522f_row3_col0\" class=\"data row3 col0\" >DOI</td>\n",
       "      <td id=\"T_1522f_row3_col1\" class=\"data row3 col1\" > <a href=\"https://doi.org/10.71760/ukllc-dataset-00047-01\" rel=\"noopener noreferrer\" target=\"_blank\">10.71760/ukllc-dataset-00047-01</a></td>\n",
       "    </tr>\n",
       "    <tr>\n",
       "      <td id=\"T_1522f_row4_col0\" class=\"data row4 col0\" >Change Log</td>\n",
       "      <td id=\"T_1522f_row4_col1\" class=\"data row4 col1\" > <a href=\"https://api.test.datacite.org/dois/10.71760/ukllc-dataset-00047-01/activities\" rel=\"noopener noreferrer\" target=\"_blank\">10.71760/ukllc-dataset-00047-01/activities</a></td>\n",
       "    </tr>\n",
       "  </tbody>\n",
       "</table>\n"
      ],
      "text/plain": [
       "<pandas.io.formats.style.Styler at 0x2a56ad98e00>"
      ]
     },
     "execution_count": 4,
     "metadata": {},
     "output_type": "execute_result"
    }
   ],
   "source": [
    "ds.version_history()"
   ]
  },
  {
   "cell_type": "markdown",
   "id": "79b0a880",
   "metadata": {},
   "source": [
    "## 3. Documentation"
   ]
  },
  {
   "cell_type": "code",
   "execution_count": 5,
   "id": "fb7ed94e",
   "metadata": {
    "execution": {
     "iopub.execute_input": "2025-07-28T18:29:54.265756Z",
     "iopub.status.busy": "2025-07-28T18:29:54.264762Z",
     "iopub.status.idle": "2025-07-28T18:29:54.277369Z",
     "shell.execute_reply": "2025-07-28T18:29:54.275343Z"
    },
    "tags": [
     "remove-input"
    ]
   },
   "outputs": [
    {
     "data": {
      "text/markdown": [
       "We are currently building a documentation storage system which will host useful documents related to datasets and data owners. We will surface these documents on Guidebook."
      ],
      "text/plain": [
       "<IPython.core.display.Markdown object>"
      ]
     },
     "metadata": {},
     "output_type": "display_data"
    }
   ],
   "source": [
    "ds.documentation()"
   ]
  },
  {
   "cell_type": "markdown",
   "id": "e03870b7",
   "metadata": {},
   "source": [
    "## 4. Useful Syntax"
   ]
  },
  {
   "cell_type": "code",
   "execution_count": 6,
   "id": "bd023e3d",
   "metadata": {
    "execution": {
     "iopub.execute_input": "2025-07-28T18:29:54.284941Z",
     "iopub.status.busy": "2025-07-28T18:29:54.284941Z",
     "iopub.status.idle": "2025-07-28T18:29:54.297495Z",
     "shell.execute_reply": "2025-07-28T18:29:54.294823Z"
    },
    "tags": [
     "remove-input"
    ]
   },
   "outputs": [
    {
     "data": {
      "text/markdown": [
       "Below we will include syntax that may be helpful to other researchers in the UK LLC TRE. For longer scripts, we will include a snippet of the code plus a link to Git where you can find the full scripts."
      ],
      "text/plain": [
       "<IPython.core.display.Markdown object>"
      ]
     },
     "metadata": {},
     "output_type": "display_data"
    }
   ],
   "source": [
    "ds.useful_syntax()"
   ]
  }
 ],
 "metadata": {
  "language_info": {
   "codemirror_mode": {
    "name": "ipython",
    "version": 3
   },
   "file_extension": ".py",
   "mimetype": "text/x-python",
   "name": "python",
   "nbconvert_exporter": "python",
   "pygments_lexer": "ipython3",
   "version": "3.12.7"
  }
 },
 "nbformat": 4,
 "nbformat_minor": 5
}
