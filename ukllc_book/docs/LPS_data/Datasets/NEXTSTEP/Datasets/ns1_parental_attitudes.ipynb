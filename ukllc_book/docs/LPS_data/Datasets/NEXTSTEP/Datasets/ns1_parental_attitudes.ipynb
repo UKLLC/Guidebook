{
 "cells": [
  {
   "cell_type": "markdown",
   "id": "5671bb03",
   "metadata": {},
   "source": [
    "# NS Parental Attitudes Sweep 1 (NEXTSTEP)"
   ]
  },
  {
   "cell_type": "code",
   "execution_count": 1,
   "id": "fc5f750e",
   "metadata": {
    "execution": {
     "iopub.execute_input": "2025-07-28T19:58:03.527211Z",
     "iopub.status.busy": "2025-07-28T19:58:03.527211Z",
     "iopub.status.idle": "2025-07-28T19:58:15.766089Z",
     "shell.execute_reply": "2025-07-28T19:58:15.764070Z"
    },
    "tags": [
     "remove-input"
    ]
   },
   "outputs": [
    {
     "data": {
      "text/markdown": [
       ">Last modified: 28 Jul 2025"
      ],
      "text/plain": [
       "<IPython.core.display.Markdown object>"
      ]
     },
     "metadata": {},
     "output_type": "display_data"
    }
   ],
   "source": [
    "\n",
    "import sys\n",
    "import os\n",
    "sys.path.append(os.path.abspath('../../../../scripts/'))\n",
    "from data_doc_helper import LPSDataSet as DS, last_modified\n",
    "API_KEY = os.environ['FASTAPI_KEY']\n",
    "ds = DS(\"NEXTSTEP\", \"ns1_parental_attitudes\")\n",
    "last_modified()\n"
   ]
  },
  {
   "cell_type": "markdown",
   "id": "5681ebaf",
   "metadata": {},
   "source": [
    "## 1. Summary"
   ]
  },
  {
   "cell_type": "code",
   "execution_count": 2,
   "id": "800d0c9d",
   "metadata": {
    "execution": {
     "iopub.execute_input": "2025-07-28T19:58:15.775401Z",
     "iopub.status.busy": "2025-07-28T19:58:15.773965Z",
     "iopub.status.idle": "2025-07-28T19:58:15.788960Z",
     "shell.execute_reply": "2025-07-28T19:58:15.787415Z"
    },
    "tags": [
     "remove-input"
    ]
   },
   "outputs": [
    {
     "data": {
      "text/markdown": [
       "Data was collected via face to face interviewing between March and October 2004. Questions cover: Attitudes to the young person’s school and involvement in education, Extra-curricular classes, Year 10 subject choices, Special educational needs, Parental expectations and aspirations,Choice of current school "
      ],
      "text/plain": [
       "<IPython.core.display.Markdown object>"
      ]
     },
     "metadata": {},
     "output_type": "display_data"
    }
   ],
   "source": [
    "ds.summary()"
   ]
  },
  {
   "cell_type": "code",
   "execution_count": 3,
   "id": "0b1eeaea",
   "metadata": {
    "execution": {
     "iopub.execute_input": "2025-07-28T19:58:15.796704Z",
     "iopub.status.busy": "2025-07-28T19:58:15.795711Z",
     "iopub.status.idle": "2025-07-28T19:58:17.646564Z",
     "shell.execute_reply": "2025-07-28T19:58:17.644033Z"
    },
    "tags": [
     "remove-input"
    ]
   },
   "outputs": [
    {
     "data": {
      "text/html": [
       "<style type=\"text/css\">\n",
       "#T_99e15 th {\n",
       "  text-align: left;\n",
       "}\n",
       "#T_99e15_row0_col0, #T_99e15_row0_col1, #T_99e15_row1_col0, #T_99e15_row1_col1, #T_99e15_row2_col0, #T_99e15_row2_col1, #T_99e15_row3_col0, #T_99e15_row3_col1, #T_99e15_row4_col0, #T_99e15_row4_col1, #T_99e15_row5_col0, #T_99e15_row5_col1, #T_99e15_row6_col0, #T_99e15_row6_col1, #T_99e15_row7_col0, #T_99e15_row7_col1, #T_99e15_row8_col0, #T_99e15_row8_col1, #T_99e15_row9_col0, #T_99e15_row9_col1, #T_99e15_row10_col0, #T_99e15_row10_col1, #T_99e15_row11_col0, #T_99e15_row11_col1, #T_99e15_row12_col0, #T_99e15_row12_col1 {\n",
       "  text-align: left;\n",
       "}\n",
       "</style>\n",
       "<table id=\"T_99e15\" style=\"font-size: 14px\">\n",
       "  <thead>\n",
       "    <tr>\n",
       "      <th id=\"T_99e15_level0_col0\" class=\"col_heading level0 col0\" >Dataset Descriptor</th>\n",
       "      <th id=\"T_99e15_level0_col1\" class=\"col_heading level0 col1\" >Dataset-specific Information</th>\n",
       "    </tr>\n",
       "  </thead>\n",
       "  <tbody>\n",
       "    <tr>\n",
       "      <td id=\"T_99e15_row0_col0\" class=\"data row0 col0\" >Name of Dataset in TRE</td>\n",
       "      <td id=\"T_99e15_row0_col1\" class=\"data row0 col1\" >NEXTSTEP_ns1_parental_attitudes</td>\n",
       "    </tr>\n",
       "    <tr>\n",
       "      <td id=\"T_99e15_row1_col0\" class=\"data row1 col0\" >Citation (APA)</td>\n",
       "      <td id=\"T_99e15_row1_col1\" class=\"data row1 col1\" >University College London, UCL Social Research Institute, Centre for Longitudinal Studies. (2021). <i>Next Steps: NS Parental Attitudes Sweep 1.</i> UK Longitudinal Linkage Collaboration (UK LLC).  <a href=\"https://doi.org/10.71760/ukllc-dataset-00264-01\" rel=\"noopener noreferrer\" target=\"_blank\">https://doi.org/10.71760/ukllc-dataset-00264-01</a></td>\n",
       "    </tr>\n",
       "    <tr>\n",
       "      <td id=\"T_99e15_row2_col0\" class=\"data row2 col0\" >Download Citation</td>\n",
       "      <td id=\"T_99e15_row2_col1\" class=\"data row2 col1\" > <a href=\"https://api.datacite.org/application/vnd.citationstyles.csl+json/10.71760/ukllc-dataset-00264-01\" rel=\"noopener noreferrer\" target=\"_blank\">Citeproc JSON</a>&nbsp;&nbsp;&nbsp;&nbsp; <a href=\"https://api.datacite.org/application/x-bibtex/10.71760/ukllc-dataset-00264-01\" rel=\"noopener noreferrer\" target=\"_blank\">BibTeX</a>&nbsp;&nbsp;&nbsp;&nbsp; <a href=\"https://api.datacite.org/application/x-research-info-systems/10.71760/ukllc-dataset-00264-01\" rel=\"noopener noreferrer\" target=\"_blank\">RIS</a></td>\n",
       "    </tr>\n",
       "    <tr>\n",
       "      <td id=\"T_99e15_row3_col0\" class=\"data row3 col0\" >Series</td>\n",
       "      <td id=\"T_99e15_row3_col1\" class=\"data row3 col1\" > <a href=\"https://guidebook.ukllc.ac.uk/docs/lps_data/lps%20profiles/NEXTSTEP\">Next Steps</a></td>\n",
       "    </tr>\n",
       "    <tr>\n",
       "      <td id=\"T_99e15_row4_col0\" class=\"data row4 col0\" >Owner</td>\n",
       "      <td id=\"T_99e15_row4_col1\" class=\"data row4 col1\" >UCL</td>\n",
       "    </tr>\n",
       "    <tr>\n",
       "      <td id=\"T_99e15_row5_col0\" class=\"data row5 col0\" >Temporal Coverage</td>\n",
       "      <td id=\"T_99e15_row5_col1\" class=\"data row5 col1\" >03/2004 - 10/2004</td>\n",
       "    </tr>\n",
       "    <tr>\n",
       "      <td id=\"T_99e15_row6_col0\" class=\"data row6 col0\" >Keywords</td>\n",
       "      <td id=\"T_99e15_row6_col1\" class=\"data row6 col1\" >Health,Education,Family life,Employment,Attitudes</td>\n",
       "    </tr>\n",
       "    <tr>\n",
       "      <td id=\"T_99e15_row7_col0\" class=\"data row7 col0\" >Participants Invited</td>\n",
       "      <td id=\"T_99e15_row7_col1\" class=\"data row7 col1\" >15770</td>\n",
       "    </tr>\n",
       "    <tr>\n",
       "      <td id=\"T_99e15_row8_col0\" class=\"data row8 col0\" >Participant Count</td>\n",
       "      <td id=\"T_99e15_row8_col1\" class=\"data row8 col1\" >6079</td>\n",
       "    </tr>\n",
       "    <tr>\n",
       "      <td id=\"T_99e15_row9_col0\" class=\"data row9 col0\" >Number of variables</td>\n",
       "      <td id=\"T_99e15_row9_col1\" class=\"data row9 col1\" >305</td>\n",
       "    </tr>\n",
       "    <tr>\n",
       "      <td id=\"T_99e15_row10_col0\" class=\"data row10 col0\" >Number of observations</td>\n",
       "      <td id=\"T_99e15_row10_col1\" class=\"data row10 col1\" >15286</td>\n",
       "    </tr>\n",
       "    <tr>\n",
       "      <td id=\"T_99e15_row11_col0\" class=\"data row11 col0\" >Specific Restrictions to Data Use</td>\n",
       "      <td id=\"T_99e15_row11_col1\" class=\"data row11 col1\" >None</td>\n",
       "    </tr>\n",
       "    <tr>\n",
       "      <td id=\"T_99e15_row12_col0\" class=\"data row12 col0\" >Build a Data Request</td>\n",
       "      <td id=\"T_99e15_row12_col1\" class=\"data row12 col1\" > <a href=\"https://explore.ukllc.ac.uk/\" rel=\"noopener noreferrer\" target=\"_blank\">https://explore.ukllc.ac.uk/</a></td>\n",
       "    </tr>\n",
       "  </tbody>\n",
       "</table>\n"
      ],
      "text/plain": [
       "<pandas.io.formats.style.Styler at 0x1d640117560>"
      ]
     },
     "execution_count": 3,
     "metadata": {},
     "output_type": "execute_result"
    }
   ],
   "source": [
    "ds.info_table()"
   ]
  },
  {
   "cell_type": "markdown",
   "id": "9dd7fd52",
   "metadata": {},
   "source": [
    "## 2. Version History"
   ]
  },
  {
   "cell_type": "code",
   "execution_count": 4,
   "id": "1c28e5a3",
   "metadata": {
    "execution": {
     "iopub.execute_input": "2025-07-28T19:58:17.658626Z",
     "iopub.status.busy": "2025-07-28T19:58:17.658626Z",
     "iopub.status.idle": "2025-07-28T19:58:22.843742Z",
     "shell.execute_reply": "2025-07-28T19:58:22.842209Z"
    },
    "tags": [
     "remove-input"
    ]
   },
   "outputs": [
    {
     "data": {
      "text/html": [
       "<style type=\"text/css\">\n",
       "#T_a5f5a th {\n",
       "  text-align: left;\n",
       "}\n",
       "#T_a5f5a_row0_col0, #T_a5f5a_row0_col1, #T_a5f5a_row1_col0, #T_a5f5a_row1_col1, #T_a5f5a_row2_col0, #T_a5f5a_row2_col1, #T_a5f5a_row3_col0, #T_a5f5a_row3_col1, #T_a5f5a_row4_col0, #T_a5f5a_row4_col1 {\n",
       "  text-align: left;\n",
       "}\n",
       "</style>\n",
       "<table id=\"T_a5f5a\" style=\"font-size: 14px\">\n",
       "  <thead>\n",
       "    <tr>\n",
       "      <th id=\"T_a5f5a_level0_col0\" class=\"col_heading level0 col0\" >Version</th>\n",
       "      <th id=\"T_a5f5a_level0_col1\" class=\"col_heading level0 col1\" >1</th>\n",
       "    </tr>\n",
       "  </thead>\n",
       "  <tbody>\n",
       "    <tr>\n",
       "      <td id=\"T_a5f5a_row0_col0\" class=\"data row0 col0\" >Version Date</td>\n",
       "      <td id=\"T_a5f5a_row0_col1\" class=\"data row0 col1\" >01 Nov 2021</td>\n",
       "    </tr>\n",
       "    <tr>\n",
       "      <td id=\"T_a5f5a_row1_col0\" class=\"data row1 col0\" >Number of Variables</td>\n",
       "      <td id=\"T_a5f5a_row1_col1\" class=\"data row1 col1\" >305</td>\n",
       "    </tr>\n",
       "    <tr>\n",
       "      <td id=\"T_a5f5a_row2_col0\" class=\"data row2 col0\" >Number of Observations</td>\n",
       "      <td id=\"T_a5f5a_row2_col1\" class=\"data row2 col1\" >15286</td>\n",
       "    </tr>\n",
       "    <tr>\n",
       "      <td id=\"T_a5f5a_row3_col0\" class=\"data row3 col0\" >DOI</td>\n",
       "      <td id=\"T_a5f5a_row3_col1\" class=\"data row3 col1\" > <a href=\"https://doi.org/10.71760/ukllc-dataset-00264-01\" rel=\"noopener noreferrer\" target=\"_blank\">10.71760/ukllc-dataset-00264-01</a></td>\n",
       "    </tr>\n",
       "    <tr>\n",
       "      <td id=\"T_a5f5a_row4_col0\" class=\"data row4 col0\" >Change Log</td>\n",
       "      <td id=\"T_a5f5a_row4_col1\" class=\"data row4 col1\" > <a href=\"https://api.test.datacite.org/dois/10.71760/ukllc-dataset-00264-01/activities\" rel=\"noopener noreferrer\" target=\"_blank\">10.71760/ukllc-dataset-00264-01/activities</a></td>\n",
       "    </tr>\n",
       "  </tbody>\n",
       "</table>\n"
      ],
      "text/plain": [
       "<pandas.io.formats.style.Styler at 0x1d640c2d280>"
      ]
     },
     "execution_count": 4,
     "metadata": {},
     "output_type": "execute_result"
    }
   ],
   "source": [
    "ds.version_history()"
   ]
  },
  {
   "cell_type": "markdown",
   "id": "5e34b349",
   "metadata": {},
   "source": [
    "## 3. Documentation"
   ]
  },
  {
   "cell_type": "code",
   "execution_count": 5,
   "id": "7edbecc2",
   "metadata": {
    "execution": {
     "iopub.execute_input": "2025-07-28T19:58:22.854742Z",
     "iopub.status.busy": "2025-07-28T19:58:22.852740Z",
     "iopub.status.idle": "2025-07-28T19:58:22.872596Z",
     "shell.execute_reply": "2025-07-28T19:58:22.871579Z"
    },
    "tags": [
     "remove-input"
    ]
   },
   "outputs": [
    {
     "data": {
      "text/markdown": [
       "We are currently building a documentation storage system which will host useful documents related to datasets and data owners. We will surface these documents on Guidebook."
      ],
      "text/plain": [
       "<IPython.core.display.Markdown object>"
      ]
     },
     "metadata": {},
     "output_type": "display_data"
    }
   ],
   "source": [
    "ds.documentation()"
   ]
  },
  {
   "cell_type": "markdown",
   "id": "5d035d90",
   "metadata": {},
   "source": [
    "## 4. Useful Syntax"
   ]
  },
  {
   "cell_type": "code",
   "execution_count": 6,
   "id": "c1d0f1d2",
   "metadata": {
    "execution": {
     "iopub.execute_input": "2025-07-28T19:58:22.882593Z",
     "iopub.status.busy": "2025-07-28T19:58:22.881593Z",
     "iopub.status.idle": "2025-07-28T19:58:22.893509Z",
     "shell.execute_reply": "2025-07-28T19:58:22.891494Z"
    },
    "tags": [
     "remove-input"
    ]
   },
   "outputs": [
    {
     "data": {
      "text/markdown": [
       "Below we will include syntax that may be helpful to other researchers in the UK LLC TRE. For longer scripts, we will include a snippet of the code plus a link to Git where you can find the full scripts."
      ],
      "text/plain": [
       "<IPython.core.display.Markdown object>"
      ]
     },
     "metadata": {},
     "output_type": "display_data"
    }
   ],
   "source": [
    "ds.useful_syntax()"
   ]
  }
 ],
 "metadata": {
  "language_info": {
   "codemirror_mode": {
    "name": "ipython",
    "version": 3
   },
   "file_extension": ".py",
   "mimetype": "text/x-python",
   "name": "python",
   "nbconvert_exporter": "python",
   "pygments_lexer": "ipython3",
   "version": "3.12.7"
  }
 },
 "nbformat": 4,
 "nbformat_minor": 5
}
