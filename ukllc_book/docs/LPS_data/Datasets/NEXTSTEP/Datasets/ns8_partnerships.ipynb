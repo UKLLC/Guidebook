{
 "cells": [
  {
   "cell_type": "markdown",
   "id": "0cc979d5",
   "metadata": {},
   "source": [
    "# NS Partnerships Sweep 8 (NEXTSTEP)"
   ]
  },
  {
   "cell_type": "code",
   "execution_count": 1,
   "id": "e33f6669",
   "metadata": {
    "execution": {
     "iopub.execute_input": "2025-07-28T20:09:04.264627Z",
     "iopub.status.busy": "2025-07-28T20:09:04.264627Z",
     "iopub.status.idle": "2025-07-28T20:09:16.709218Z",
     "shell.execute_reply": "2025-07-28T20:09:16.705196Z"
    },
    "tags": [
     "remove-input"
    ]
   },
   "outputs": [
    {
     "data": {
      "text/markdown": [
       ">Last modified: 28 Jul 2025"
      ],
      "text/plain": [
       "<IPython.core.display.Markdown object>"
      ]
     },
     "metadata": {},
     "output_type": "display_data"
    }
   ],
   "source": [
    "\n",
    "import sys\n",
    "import os\n",
    "sys.path.append(os.path.abspath('../../../../scripts/'))\n",
    "from data_doc_helper import LPSDataSet as DS, last_modified\n",
    "API_KEY = os.environ['FASTAPI_KEY']\n",
    "ds = DS(\"NEXTSTEP\", \"ns8_partnerships\")\n",
    "last_modified()\n"
   ]
  },
  {
   "cell_type": "markdown",
   "id": "fe350000",
   "metadata": {},
   "source": [
    "## 1. Summary"
   ]
  },
  {
   "cell_type": "code",
   "execution_count": 2,
   "id": "6c8733d9",
   "metadata": {
    "execution": {
     "iopub.execute_input": "2025-07-28T20:09:16.732217Z",
     "iopub.status.busy": "2025-07-28T20:09:16.728215Z",
     "iopub.status.idle": "2025-07-28T20:09:16.753158Z",
     "shell.execute_reply": "2025-07-28T20:09:16.750136Z"
    },
    "tags": [
     "remove-input"
    ]
   },
   "outputs": [
    {
     "data": {
      "text/markdown": [
       "Data was collected via a mixed mode approach (online, telephone or face-to-face) between August 2015 and September 2016. Questions cover:Anonymised partner identifier, Sex of previous partner, Age of previous partner,  relationship to cohort member, reason for end of living together, start and end date of relationship"
      ],
      "text/plain": [
       "<IPython.core.display.Markdown object>"
      ]
     },
     "metadata": {},
     "output_type": "display_data"
    }
   ],
   "source": [
    "ds.summary()"
   ]
  },
  {
   "cell_type": "code",
   "execution_count": 3,
   "id": "404d5155",
   "metadata": {
    "execution": {
     "iopub.execute_input": "2025-07-28T20:09:16.762149Z",
     "iopub.status.busy": "2025-07-28T20:09:16.761148Z",
     "iopub.status.idle": "2025-07-28T20:09:18.514634Z",
     "shell.execute_reply": "2025-07-28T20:09:18.513106Z"
    },
    "tags": [
     "remove-input"
    ]
   },
   "outputs": [
    {
     "data": {
      "text/html": [
       "<style type=\"text/css\">\n",
       "#T_901b5 th {\n",
       "  text-align: left;\n",
       "}\n",
       "#T_901b5_row0_col0, #T_901b5_row0_col1, #T_901b5_row1_col0, #T_901b5_row1_col1, #T_901b5_row2_col0, #T_901b5_row2_col1, #T_901b5_row3_col0, #T_901b5_row3_col1, #T_901b5_row4_col0, #T_901b5_row4_col1, #T_901b5_row5_col0, #T_901b5_row5_col1, #T_901b5_row6_col0, #T_901b5_row6_col1, #T_901b5_row7_col0, #T_901b5_row7_col1, #T_901b5_row8_col0, #T_901b5_row8_col1, #T_901b5_row9_col0, #T_901b5_row9_col1, #T_901b5_row10_col0, #T_901b5_row10_col1, #T_901b5_row11_col0, #T_901b5_row11_col1, #T_901b5_row12_col0, #T_901b5_row12_col1 {\n",
       "  text-align: left;\n",
       "}\n",
       "</style>\n",
       "<table id=\"T_901b5\" style=\"font-size: 14px\">\n",
       "  <thead>\n",
       "    <tr>\n",
       "      <th id=\"T_901b5_level0_col0\" class=\"col_heading level0 col0\" >Dataset Descriptor</th>\n",
       "      <th id=\"T_901b5_level0_col1\" class=\"col_heading level0 col1\" >Dataset-specific Information</th>\n",
       "    </tr>\n",
       "  </thead>\n",
       "  <tbody>\n",
       "    <tr>\n",
       "      <td id=\"T_901b5_row0_col0\" class=\"data row0 col0\" >Name of Dataset in TRE</td>\n",
       "      <td id=\"T_901b5_row0_col1\" class=\"data row0 col1\" >NEXTSTEP_ns8_partnerships</td>\n",
       "    </tr>\n",
       "    <tr>\n",
       "      <td id=\"T_901b5_row1_col0\" class=\"data row1 col0\" >Citation (APA)</td>\n",
       "      <td id=\"T_901b5_row1_col1\" class=\"data row1 col1\" >University College London, UCL Social Research Institute, Centre for Longitudinal Studies. (2021). <i>Next Steps: NS Partnerships Sweep 8.</i> UK Longitudinal Linkage Collaboration (UK LLC).  <a href=\"https://doi.org/10.71760/ukllc-dataset-00290-01\" rel=\"noopener noreferrer\" target=\"_blank\">https://doi.org/10.71760/ukllc-dataset-00290-01</a></td>\n",
       "    </tr>\n",
       "    <tr>\n",
       "      <td id=\"T_901b5_row2_col0\" class=\"data row2 col0\" >Download Citation</td>\n",
       "      <td id=\"T_901b5_row2_col1\" class=\"data row2 col1\" > <a href=\"https://api.datacite.org/application/vnd.citationstyles.csl+json/10.71760/ukllc-dataset-00290-01\" rel=\"noopener noreferrer\" target=\"_blank\">Citeproc JSON</a>&nbsp;&nbsp;&nbsp;&nbsp; <a href=\"https://api.datacite.org/application/x-bibtex/10.71760/ukllc-dataset-00290-01\" rel=\"noopener noreferrer\" target=\"_blank\">BibTeX</a>&nbsp;&nbsp;&nbsp;&nbsp; <a href=\"https://api.datacite.org/application/x-research-info-systems/10.71760/ukllc-dataset-00290-01\" rel=\"noopener noreferrer\" target=\"_blank\">RIS</a></td>\n",
       "    </tr>\n",
       "    <tr>\n",
       "      <td id=\"T_901b5_row3_col0\" class=\"data row3 col0\" >Series</td>\n",
       "      <td id=\"T_901b5_row3_col1\" class=\"data row3 col1\" > <a href=\"https://guidebook.ukllc.ac.uk/docs/lps_data/lps%20profiles/NEXTSTEP\">Next Steps</a></td>\n",
       "    </tr>\n",
       "    <tr>\n",
       "      <td id=\"T_901b5_row4_col0\" class=\"data row4 col0\" >Owner</td>\n",
       "      <td id=\"T_901b5_row4_col1\" class=\"data row4 col1\" >UCL</td>\n",
       "    </tr>\n",
       "    <tr>\n",
       "      <td id=\"T_901b5_row5_col0\" class=\"data row5 col0\" >Temporal Coverage</td>\n",
       "      <td id=\"T_901b5_row5_col1\" class=\"data row5 col1\" >08/2015 - 09/2016</td>\n",
       "    </tr>\n",
       "    <tr>\n",
       "      <td id=\"T_901b5_row6_col0\" class=\"data row6 col0\" >Keywords</td>\n",
       "      <td id=\"T_901b5_row6_col1\" class=\"data row6 col1\" >Health,Education,Employment,Attitudes,Partners</td>\n",
       "    </tr>\n",
       "    <tr>\n",
       "      <td id=\"T_901b5_row7_col0\" class=\"data row7 col0\" >Participants Invited</td>\n",
       "      <td id=\"T_901b5_row7_col1\" class=\"data row7 col1\" >7707</td>\n",
       "    </tr>\n",
       "    <tr>\n",
       "      <td id=\"T_901b5_row8_col0\" class=\"data row8 col0\" >Participant Count</td>\n",
       "      <td id=\"T_901b5_row8_col1\" class=\"data row8 col1\" >5696</td>\n",
       "    </tr>\n",
       "    <tr>\n",
       "      <td id=\"T_901b5_row9_col0\" class=\"data row9 col0\" >Number of variables</td>\n",
       "      <td id=\"T_901b5_row9_col1\" class=\"data row9 col1\" >21</td>\n",
       "    </tr>\n",
       "    <tr>\n",
       "      <td id=\"T_901b5_row10_col0\" class=\"data row10 col0\" >Number of observations</td>\n",
       "      <td id=\"T_901b5_row10_col1\" class=\"data row10 col1\" >8796</td>\n",
       "    </tr>\n",
       "    <tr>\n",
       "      <td id=\"T_901b5_row11_col0\" class=\"data row11 col0\" >Specific Restrictions to Data Use</td>\n",
       "      <td id=\"T_901b5_row11_col1\" class=\"data row11 col1\" >None</td>\n",
       "    </tr>\n",
       "    <tr>\n",
       "      <td id=\"T_901b5_row12_col0\" class=\"data row12 col0\" >Build a Data Request</td>\n",
       "      <td id=\"T_901b5_row12_col1\" class=\"data row12 col1\" > <a href=\"https://explore.ukllc.ac.uk/\" rel=\"noopener noreferrer\" target=\"_blank\">https://explore.ukllc.ac.uk/</a></td>\n",
       "    </tr>\n",
       "  </tbody>\n",
       "</table>\n"
      ],
      "text/plain": [
       "<pandas.io.formats.style.Styler at 0x294b1150890>"
      ]
     },
     "execution_count": 3,
     "metadata": {},
     "output_type": "execute_result"
    }
   ],
   "source": [
    "ds.info_table()"
   ]
  },
  {
   "cell_type": "markdown",
   "id": "025c05fe",
   "metadata": {},
   "source": [
    "## 2. Version History"
   ]
  },
  {
   "cell_type": "code",
   "execution_count": 4,
   "id": "04ccb8e7",
   "metadata": {
    "execution": {
     "iopub.execute_input": "2025-07-28T20:09:18.524635Z",
     "iopub.status.busy": "2025-07-28T20:09:18.523634Z",
     "iopub.status.idle": "2025-07-28T20:09:23.957112Z",
     "shell.execute_reply": "2025-07-28T20:09:23.954579Z"
    },
    "tags": [
     "remove-input"
    ]
   },
   "outputs": [
    {
     "data": {
      "text/html": [
       "<style type=\"text/css\">\n",
       "#T_a2be4 th {\n",
       "  text-align: left;\n",
       "}\n",
       "#T_a2be4_row0_col0, #T_a2be4_row0_col1, #T_a2be4_row1_col0, #T_a2be4_row1_col1, #T_a2be4_row2_col0, #T_a2be4_row2_col1, #T_a2be4_row3_col0, #T_a2be4_row3_col1, #T_a2be4_row4_col0, #T_a2be4_row4_col1 {\n",
       "  text-align: left;\n",
       "}\n",
       "</style>\n",
       "<table id=\"T_a2be4\" style=\"font-size: 14px\">\n",
       "  <thead>\n",
       "    <tr>\n",
       "      <th id=\"T_a2be4_level0_col0\" class=\"col_heading level0 col0\" >Version</th>\n",
       "      <th id=\"T_a2be4_level0_col1\" class=\"col_heading level0 col1\" >1</th>\n",
       "    </tr>\n",
       "  </thead>\n",
       "  <tbody>\n",
       "    <tr>\n",
       "      <td id=\"T_a2be4_row0_col0\" class=\"data row0 col0\" >Version Date</td>\n",
       "      <td id=\"T_a2be4_row0_col1\" class=\"data row0 col1\" >01 Nov 2021</td>\n",
       "    </tr>\n",
       "    <tr>\n",
       "      <td id=\"T_a2be4_row1_col0\" class=\"data row1 col0\" >Number of Variables</td>\n",
       "      <td id=\"T_a2be4_row1_col1\" class=\"data row1 col1\" >21</td>\n",
       "    </tr>\n",
       "    <tr>\n",
       "      <td id=\"T_a2be4_row2_col0\" class=\"data row2 col0\" >Number of Observations</td>\n",
       "      <td id=\"T_a2be4_row2_col1\" class=\"data row2 col1\" >8796</td>\n",
       "    </tr>\n",
       "    <tr>\n",
       "      <td id=\"T_a2be4_row3_col0\" class=\"data row3 col0\" >DOI</td>\n",
       "      <td id=\"T_a2be4_row3_col1\" class=\"data row3 col1\" > <a href=\"https://doi.org/10.71760/ukllc-dataset-00290-01\" rel=\"noopener noreferrer\" target=\"_blank\">10.71760/ukllc-dataset-00290-01</a></td>\n",
       "    </tr>\n",
       "    <tr>\n",
       "      <td id=\"T_a2be4_row4_col0\" class=\"data row4 col0\" >Change Log</td>\n",
       "      <td id=\"T_a2be4_row4_col1\" class=\"data row4 col1\" > <a href=\"https://api.test.datacite.org/dois/10.71760/ukllc-dataset-00290-01/activities\" rel=\"noopener noreferrer\" target=\"_blank\">10.71760/ukllc-dataset-00290-01/activities</a></td>\n",
       "    </tr>\n",
       "  </tbody>\n",
       "</table>\n"
      ],
      "text/plain": [
       "<pandas.io.formats.style.Styler at 0x294b6dcce60>"
      ]
     },
     "execution_count": 4,
     "metadata": {},
     "output_type": "execute_result"
    }
   ],
   "source": [
    "ds.version_history()"
   ]
  },
  {
   "cell_type": "markdown",
   "id": "b8774e3b",
   "metadata": {},
   "source": [
    "## 3. Documentation"
   ]
  },
  {
   "cell_type": "code",
   "execution_count": 5,
   "id": "d5358edd",
   "metadata": {
    "execution": {
     "iopub.execute_input": "2025-07-28T20:09:23.964231Z",
     "iopub.status.busy": "2025-07-28T20:09:23.963723Z",
     "iopub.status.idle": "2025-07-28T20:09:23.973834Z",
     "shell.execute_reply": "2025-07-28T20:09:23.972775Z"
    },
    "tags": [
     "remove-input"
    ]
   },
   "outputs": [
    {
     "data": {
      "text/markdown": [
       "We are currently building a documentation storage system which will host useful documents related to datasets and data owners. We will surface these documents on Guidebook."
      ],
      "text/plain": [
       "<IPython.core.display.Markdown object>"
      ]
     },
     "metadata": {},
     "output_type": "display_data"
    }
   ],
   "source": [
    "ds.documentation()"
   ]
  },
  {
   "cell_type": "markdown",
   "id": "275343fb",
   "metadata": {},
   "source": [
    "## 4. Useful Syntax"
   ]
  },
  {
   "cell_type": "code",
   "execution_count": 6,
   "id": "0dcc0f7a",
   "metadata": {
    "execution": {
     "iopub.execute_input": "2025-07-28T20:09:23.982938Z",
     "iopub.status.busy": "2025-07-28T20:09:23.981925Z",
     "iopub.status.idle": "2025-07-28T20:09:23.993436Z",
     "shell.execute_reply": "2025-07-28T20:09:23.991419Z"
    },
    "tags": [
     "remove-input"
    ]
   },
   "outputs": [
    {
     "data": {
      "text/markdown": [
       "Below we will include syntax that may be helpful to other researchers in the UK LLC TRE. For longer scripts, we will include a snippet of the code plus a link to Git where you can find the full scripts."
      ],
      "text/plain": [
       "<IPython.core.display.Markdown object>"
      ]
     },
     "metadata": {},
     "output_type": "display_data"
    }
   ],
   "source": [
    "ds.useful_syntax()"
   ]
  }
 ],
 "metadata": {
  "language_info": {
   "codemirror_mode": {
    "name": "ipython",
    "version": 3
   },
   "file_extension": ".py",
   "mimetype": "text/x-python",
   "name": "python",
   "nbconvert_exporter": "python",
   "pygments_lexer": "ipython3",
   "version": "3.12.7"
  }
 },
 "nbformat": 4,
 "nbformat_minor": 5
}
