{
 "cells": [
  {
   "cell_type": "markdown",
   "id": "6175f0a6",
   "metadata": {},
   "source": [
    "# NS Sweep 2 (NEXTSTEP)"
   ]
  },
  {
   "cell_type": "code",
   "execution_count": 1,
   "id": "657b8f9f",
   "metadata": {
    "execution": {
     "iopub.execute_input": "2025-07-28T19:58:25.924412Z",
     "iopub.status.busy": "2025-07-28T19:58:25.924412Z",
     "iopub.status.idle": "2025-07-28T19:58:38.312135Z",
     "shell.execute_reply": "2025-07-28T19:58:38.310112Z"
    },
    "tags": [
     "remove-input"
    ]
   },
   "outputs": [
    {
     "data": {
      "text/markdown": [
       ">Last modified: 28 Jul 2025"
      ],
      "text/plain": [
       "<IPython.core.display.Markdown object>"
      ]
     },
     "metadata": {},
     "output_type": "display_data"
    }
   ],
   "source": [
    "\n",
    "import sys\n",
    "import os\n",
    "sys.path.append(os.path.abspath('../../../../scripts/'))\n",
    "from data_doc_helper import LPSDataSet as DS, last_modified\n",
    "API_KEY = os.environ['FASTAPI_KEY']\n",
    "ds = DS(\"NEXTSTEP\", \"ns2\")\n",
    "last_modified()\n"
   ]
  },
  {
   "cell_type": "markdown",
   "id": "a5d672e3",
   "metadata": {},
   "source": [
    "## 1. Summary"
   ]
  },
  {
   "cell_type": "code",
   "execution_count": 2,
   "id": "45203807",
   "metadata": {
    "execution": {
     "iopub.execute_input": "2025-07-28T19:58:38.323130Z",
     "iopub.status.busy": "2025-07-28T19:58:38.322123Z",
     "iopub.status.idle": "2025-07-28T19:58:38.342038Z",
     "shell.execute_reply": "2025-07-28T19:58:38.340021Z"
    },
    "tags": [
     "remove-input"
    ]
   },
   "outputs": [
    {
     "data": {
      "text/markdown": [
       "Data was collected via face to face interviewing between April and September 2005. Dataset includes responses from the cohort member and main parent responses about the cohort member. Questions cover: Special educational needs,Relationship with young person and contact with services,Reasons for not living with natural parents,Risk factors (absences, truancy, police contact, bullying),School History,Household responsibilities,Household resources,Demographics,Health and disability,Attitudes to school/teachers,Year 10 subject choices and reasons,Homework,ICT,Study Support,Future plans and advice,Risk factors (truancy, bullying, smoking, drugs),Household responsibilities,Childcare and caring responsibilities,Use of leisure time,Subjects being studied,Knowledge of and intentions towards apprenticeships and related schemes"
      ],
      "text/plain": [
       "<IPython.core.display.Markdown object>"
      ]
     },
     "metadata": {},
     "output_type": "display_data"
    }
   ],
   "source": [
    "ds.summary()"
   ]
  },
  {
   "cell_type": "code",
   "execution_count": 3,
   "id": "4ab0690a",
   "metadata": {
    "execution": {
     "iopub.execute_input": "2025-07-28T19:58:38.351039Z",
     "iopub.status.busy": "2025-07-28T19:58:38.350037Z",
     "iopub.status.idle": "2025-07-28T19:58:40.457369Z",
     "shell.execute_reply": "2025-07-28T19:58:40.455354Z"
    },
    "tags": [
     "remove-input"
    ]
   },
   "outputs": [
    {
     "data": {
      "text/html": [
       "<style type=\"text/css\">\n",
       "#T_225bb th {\n",
       "  text-align: left;\n",
       "}\n",
       "#T_225bb_row0_col0, #T_225bb_row0_col1, #T_225bb_row1_col0, #T_225bb_row1_col1, #T_225bb_row2_col0, #T_225bb_row2_col1, #T_225bb_row3_col0, #T_225bb_row3_col1, #T_225bb_row4_col0, #T_225bb_row4_col1, #T_225bb_row5_col0, #T_225bb_row5_col1, #T_225bb_row6_col0, #T_225bb_row6_col1, #T_225bb_row7_col0, #T_225bb_row7_col1, #T_225bb_row8_col0, #T_225bb_row8_col1, #T_225bb_row9_col0, #T_225bb_row9_col1, #T_225bb_row10_col0, #T_225bb_row10_col1, #T_225bb_row11_col0, #T_225bb_row11_col1, #T_225bb_row12_col0, #T_225bb_row12_col1 {\n",
       "  text-align: left;\n",
       "}\n",
       "</style>\n",
       "<table id=\"T_225bb\" style=\"font-size: 14px\">\n",
       "  <thead>\n",
       "    <tr>\n",
       "      <th id=\"T_225bb_level0_col0\" class=\"col_heading level0 col0\" >Dataset Descriptor</th>\n",
       "      <th id=\"T_225bb_level0_col1\" class=\"col_heading level0 col1\" >Dataset-specific Information</th>\n",
       "    </tr>\n",
       "  </thead>\n",
       "  <tbody>\n",
       "    <tr>\n",
       "      <td id=\"T_225bb_row0_col0\" class=\"data row0 col0\" >Name of Dataset in TRE</td>\n",
       "      <td id=\"T_225bb_row0_col1\" class=\"data row0 col1\" >NEXTSTEP_ns2</td>\n",
       "    </tr>\n",
       "    <tr>\n",
       "      <td id=\"T_225bb_row1_col0\" class=\"data row1 col0\" >Citation (APA)</td>\n",
       "      <td id=\"T_225bb_row1_col1\" class=\"data row1 col1\" >University College London, UCL Social Research Institute, Centre for Longitudinal Studies. (2021). <i>Next Steps: NS Sweep 2.</i> UK Longitudinal Linkage Collaboration (UK LLC).  <a href=\"https://doi.org/10.71760/ukllc-dataset-00269-01\" rel=\"noopener noreferrer\" target=\"_blank\">https://doi.org/10.71760/ukllc-dataset-00269-01</a></td>\n",
       "    </tr>\n",
       "    <tr>\n",
       "      <td id=\"T_225bb_row2_col0\" class=\"data row2 col0\" >Download Citation</td>\n",
       "      <td id=\"T_225bb_row2_col1\" class=\"data row2 col1\" > <a href=\"https://api.datacite.org/application/vnd.citationstyles.csl+json/10.71760/ukllc-dataset-00269-01\" rel=\"noopener noreferrer\" target=\"_blank\">Citeproc JSON</a>&nbsp;&nbsp;&nbsp;&nbsp; <a href=\"https://api.datacite.org/application/x-bibtex/10.71760/ukllc-dataset-00269-01\" rel=\"noopener noreferrer\" target=\"_blank\">BibTeX</a>&nbsp;&nbsp;&nbsp;&nbsp; <a href=\"https://api.datacite.org/application/x-research-info-systems/10.71760/ukllc-dataset-00269-01\" rel=\"noopener noreferrer\" target=\"_blank\">RIS</a></td>\n",
       "    </tr>\n",
       "    <tr>\n",
       "      <td id=\"T_225bb_row3_col0\" class=\"data row3 col0\" >Series</td>\n",
       "      <td id=\"T_225bb_row3_col1\" class=\"data row3 col1\" > <a href=\"https://guidebook.ukllc.ac.uk/docs/lps_data/lps%20profiles/NEXTSTEP\">Next Steps</a></td>\n",
       "    </tr>\n",
       "    <tr>\n",
       "      <td id=\"T_225bb_row4_col0\" class=\"data row4 col0\" >Owner</td>\n",
       "      <td id=\"T_225bb_row4_col1\" class=\"data row4 col1\" >UCL</td>\n",
       "    </tr>\n",
       "    <tr>\n",
       "      <td id=\"T_225bb_row5_col0\" class=\"data row5 col0\" >Temporal Coverage</td>\n",
       "      <td id=\"T_225bb_row5_col1\" class=\"data row5 col1\" >04/2005 - 09/2005</td>\n",
       "    </tr>\n",
       "    <tr>\n",
       "      <td id=\"T_225bb_row6_col0\" class=\"data row6 col0\" >Keywords</td>\n",
       "      <td id=\"T_225bb_row6_col1\" class=\"data row6 col1\" >Health,Education,Family life,Employment,Attitudes</td>\n",
       "    </tr>\n",
       "    <tr>\n",
       "      <td id=\"T_225bb_row7_col0\" class=\"data row7 col0\" >Participants Invited</td>\n",
       "      <td id=\"T_225bb_row7_col1\" class=\"data row7 col1\" >13539</td>\n",
       "    </tr>\n",
       "    <tr>\n",
       "      <td id=\"T_225bb_row8_col0\" class=\"data row8 col0\" >Participant Count</td>\n",
       "      <td id=\"T_225bb_row8_col1\" class=\"data row8 col1\" >5689</td>\n",
       "    </tr>\n",
       "    <tr>\n",
       "      <td id=\"T_225bb_row9_col0\" class=\"data row9 col0\" >Number of variables</td>\n",
       "      <td id=\"T_225bb_row9_col1\" class=\"data row9 col1\" >566</td>\n",
       "    </tr>\n",
       "    <tr>\n",
       "      <td id=\"T_225bb_row10_col0\" class=\"data row10 col0\" >Number of observations</td>\n",
       "      <td id=\"T_225bb_row10_col1\" class=\"data row10 col1\" >13147</td>\n",
       "    </tr>\n",
       "    <tr>\n",
       "      <td id=\"T_225bb_row11_col0\" class=\"data row11 col0\" >Specific Restrictions to Data Use</td>\n",
       "      <td id=\"T_225bb_row11_col1\" class=\"data row11 col1\" >None</td>\n",
       "    </tr>\n",
       "    <tr>\n",
       "      <td id=\"T_225bb_row12_col0\" class=\"data row12 col0\" >Build a Data Request</td>\n",
       "      <td id=\"T_225bb_row12_col1\" class=\"data row12 col1\" > <a href=\"https://explore.ukllc.ac.uk/\" rel=\"noopener noreferrer\" target=\"_blank\">https://explore.ukllc.ac.uk/</a></td>\n",
       "    </tr>\n",
       "  </tbody>\n",
       "</table>\n"
      ],
      "text/plain": [
       "<pandas.io.formats.style.Styler at 0x1e577978470>"
      ]
     },
     "execution_count": 3,
     "metadata": {},
     "output_type": "execute_result"
    }
   ],
   "source": [
    "ds.info_table()"
   ]
  },
  {
   "cell_type": "markdown",
   "id": "7f743aff",
   "metadata": {},
   "source": [
    "## 2. Version History"
   ]
  },
  {
   "cell_type": "code",
   "execution_count": 4,
   "id": "ad4e64b4",
   "metadata": {
    "execution": {
     "iopub.execute_input": "2025-07-28T19:58:40.465375Z",
     "iopub.status.busy": "2025-07-28T19:58:40.464374Z",
     "iopub.status.idle": "2025-07-28T19:58:45.890193Z",
     "shell.execute_reply": "2025-07-28T19:58:45.886172Z"
    },
    "tags": [
     "remove-input"
    ]
   },
   "outputs": [
    {
     "data": {
      "text/html": [
       "<style type=\"text/css\">\n",
       "#T_e6b7e th {\n",
       "  text-align: left;\n",
       "}\n",
       "#T_e6b7e_row0_col0, #T_e6b7e_row0_col1, #T_e6b7e_row1_col0, #T_e6b7e_row1_col1, #T_e6b7e_row2_col0, #T_e6b7e_row2_col1, #T_e6b7e_row3_col0, #T_e6b7e_row3_col1, #T_e6b7e_row4_col0, #T_e6b7e_row4_col1 {\n",
       "  text-align: left;\n",
       "}\n",
       "</style>\n",
       "<table id=\"T_e6b7e\" style=\"font-size: 14px\">\n",
       "  <thead>\n",
       "    <tr>\n",
       "      <th id=\"T_e6b7e_level0_col0\" class=\"col_heading level0 col0\" >Version</th>\n",
       "      <th id=\"T_e6b7e_level0_col1\" class=\"col_heading level0 col1\" >1</th>\n",
       "    </tr>\n",
       "  </thead>\n",
       "  <tbody>\n",
       "    <tr>\n",
       "      <td id=\"T_e6b7e_row0_col0\" class=\"data row0 col0\" >Version Date</td>\n",
       "      <td id=\"T_e6b7e_row0_col1\" class=\"data row0 col1\" >01 Nov 2021</td>\n",
       "    </tr>\n",
       "    <tr>\n",
       "      <td id=\"T_e6b7e_row1_col0\" class=\"data row1 col0\" >Number of Variables</td>\n",
       "      <td id=\"T_e6b7e_row1_col1\" class=\"data row1 col1\" >566</td>\n",
       "    </tr>\n",
       "    <tr>\n",
       "      <td id=\"T_e6b7e_row2_col0\" class=\"data row2 col0\" >Number of Observations</td>\n",
       "      <td id=\"T_e6b7e_row2_col1\" class=\"data row2 col1\" >13147</td>\n",
       "    </tr>\n",
       "    <tr>\n",
       "      <td id=\"T_e6b7e_row3_col0\" class=\"data row3 col0\" >DOI</td>\n",
       "      <td id=\"T_e6b7e_row3_col1\" class=\"data row3 col1\" > <a href=\"https://doi.org/10.71760/ukllc-dataset-00269-01\" rel=\"noopener noreferrer\" target=\"_blank\">10.71760/ukllc-dataset-00269-01</a></td>\n",
       "    </tr>\n",
       "    <tr>\n",
       "      <td id=\"T_e6b7e_row4_col0\" class=\"data row4 col0\" >Change Log</td>\n",
       "      <td id=\"T_e6b7e_row4_col1\" class=\"data row4 col1\" > <a href=\"https://api.test.datacite.org/dois/10.71760/ukllc-dataset-00269-01/activities\" rel=\"noopener noreferrer\" target=\"_blank\">10.71760/ukllc-dataset-00269-01/activities</a></td>\n",
       "    </tr>\n",
       "  </tbody>\n",
       "</table>\n"
      ],
      "text/plain": [
       "<pandas.io.formats.style.Styler at 0x1e579387530>"
      ]
     },
     "execution_count": 4,
     "metadata": {},
     "output_type": "execute_result"
    }
   ],
   "source": [
    "ds.version_history()"
   ]
  },
  {
   "cell_type": "markdown",
   "id": "f2f8bc82",
   "metadata": {},
   "source": [
    "## 3. Documentation"
   ]
  },
  {
   "cell_type": "code",
   "execution_count": 5,
   "id": "6cd6638f",
   "metadata": {
    "execution": {
     "iopub.execute_input": "2025-07-28T19:58:45.900702Z",
     "iopub.status.busy": "2025-07-28T19:58:45.899707Z",
     "iopub.status.idle": "2025-07-28T19:58:45.913073Z",
     "shell.execute_reply": "2025-07-28T19:58:45.911624Z"
    },
    "tags": [
     "remove-input"
    ]
   },
   "outputs": [
    {
     "data": {
      "text/markdown": [
       "We are currently building a documentation storage system which will host useful documents related to datasets and data owners. We will surface these documents on Guidebook."
      ],
      "text/plain": [
       "<IPython.core.display.Markdown object>"
      ]
     },
     "metadata": {},
     "output_type": "display_data"
    }
   ],
   "source": [
    "ds.documentation()"
   ]
  },
  {
   "cell_type": "markdown",
   "id": "c116f676",
   "metadata": {},
   "source": [
    "## 4. Useful Syntax"
   ]
  },
  {
   "cell_type": "code",
   "execution_count": 6,
   "id": "61028e49",
   "metadata": {
    "execution": {
     "iopub.execute_input": "2025-07-28T19:58:45.918419Z",
     "iopub.status.busy": "2025-07-28T19:58:45.918419Z",
     "iopub.status.idle": "2025-07-28T19:58:45.926698Z",
     "shell.execute_reply": "2025-07-28T19:58:45.925684Z"
    },
    "tags": [
     "remove-input"
    ]
   },
   "outputs": [
    {
     "data": {
      "text/markdown": [
       "Below we will include syntax that may be helpful to other researchers in the UK LLC TRE. For longer scripts, we will include a snippet of the code plus a link to Git where you can find the full scripts."
      ],
      "text/plain": [
       "<IPython.core.display.Markdown object>"
      ]
     },
     "metadata": {},
     "output_type": "display_data"
    }
   ],
   "source": [
    "ds.useful_syntax()"
   ]
  }
 ],
 "metadata": {
  "language_info": {
   "codemirror_mode": {
    "name": "ipython",
    "version": 3
   },
   "file_extension": ".py",
   "mimetype": "text/x-python",
   "name": "python",
   "nbconvert_exporter": "python",
   "pygments_lexer": "ipython3",
   "version": "3.12.7"
  }
 },
 "nbformat": 4,
 "nbformat_minor": 5
}
