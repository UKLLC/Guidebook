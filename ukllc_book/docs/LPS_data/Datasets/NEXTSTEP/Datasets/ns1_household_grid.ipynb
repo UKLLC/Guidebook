{
 "cells": [
  {
   "cell_type": "markdown",
   "id": "1e8895bc",
   "metadata": {},
   "source": [
    "# NS Household Grid Sweep 1 (NEXTSTEP)"
   ]
  },
  {
   "cell_type": "code",
   "execution_count": 1,
   "id": "8f49c50e",
   "metadata": {
    "execution": {
     "iopub.execute_input": "2025-07-28T19:57:38.946051Z",
     "iopub.status.busy": "2025-07-28T19:57:38.945041Z",
     "iopub.status.idle": "2025-07-28T19:57:53.007163Z",
     "shell.execute_reply": "2025-07-28T19:57:53.004629Z"
    },
    "tags": [
     "remove-input"
    ]
   },
   "outputs": [
    {
     "data": {
      "text/markdown": [
       ">Last modified: 28 Jul 2025"
      ],
      "text/plain": [
       "<IPython.core.display.Markdown object>"
      ]
     },
     "metadata": {},
     "output_type": "display_data"
    }
   ],
   "source": [
    "\n",
    "import sys\n",
    "import os\n",
    "sys.path.append(os.path.abspath('../../../../scripts/'))\n",
    "from data_doc_helper import LPSDataSet as DS, last_modified\n",
    "API_KEY = os.environ['FASTAPI_KEY']\n",
    "ds = DS(\"NEXTSTEP\", \"ns1_household_grid\")\n",
    "last_modified()\n"
   ]
  },
  {
   "cell_type": "markdown",
   "id": "c45e0fc1",
   "metadata": {},
   "source": [
    "## 1. Summary"
   ]
  },
  {
   "cell_type": "code",
   "execution_count": 2,
   "id": "074f2da8",
   "metadata": {
    "execution": {
     "iopub.execute_input": "2025-07-28T19:57:53.016173Z",
     "iopub.status.busy": "2025-07-28T19:57:53.015171Z",
     "iopub.status.idle": "2025-07-28T19:57:53.033749Z",
     "shell.execute_reply": "2025-07-28T19:57:53.031171Z"
    },
    "tags": [
     "remove-input"
    ]
   },
   "outputs": [
    {
     "data": {
      "text/markdown": [
       "Data was collected via face to face interviewing between March and October 2004. A summary of the content includes: Household member identifier, Age of person, Sex of person, Marital status of person,  Whether person living with someone in the household as a couple, Employment status of person, Ethnic group of person, Relationship to cohort member, Position of Main parent, Position of Second parent, Position of History respondent, Position of HHgrid respondent"
      ],
      "text/plain": [
       "<IPython.core.display.Markdown object>"
      ]
     },
     "metadata": {},
     "output_type": "display_data"
    }
   ],
   "source": [
    "ds.summary()"
   ]
  },
  {
   "cell_type": "code",
   "execution_count": 3,
   "id": "d731e870",
   "metadata": {
    "execution": {
     "iopub.execute_input": "2025-07-28T19:57:53.041733Z",
     "iopub.status.busy": "2025-07-28T19:57:53.040746Z",
     "iopub.status.idle": "2025-07-28T19:57:54.926345Z",
     "shell.execute_reply": "2025-07-28T19:57:54.924335Z"
    },
    "tags": [
     "remove-input"
    ]
   },
   "outputs": [
    {
     "data": {
      "text/html": [
       "<style type=\"text/css\">\n",
       "#T_5a749 th {\n",
       "  text-align: left;\n",
       "}\n",
       "#T_5a749_row0_col0, #T_5a749_row0_col1, #T_5a749_row1_col0, #T_5a749_row1_col1, #T_5a749_row2_col0, #T_5a749_row2_col1, #T_5a749_row3_col0, #T_5a749_row3_col1, #T_5a749_row4_col0, #T_5a749_row4_col1, #T_5a749_row5_col0, #T_5a749_row5_col1, #T_5a749_row6_col0, #T_5a749_row6_col1, #T_5a749_row7_col0, #T_5a749_row7_col1, #T_5a749_row8_col0, #T_5a749_row8_col1, #T_5a749_row9_col0, #T_5a749_row9_col1, #T_5a749_row10_col0, #T_5a749_row10_col1, #T_5a749_row11_col0, #T_5a749_row11_col1, #T_5a749_row12_col0, #T_5a749_row12_col1 {\n",
       "  text-align: left;\n",
       "}\n",
       "</style>\n",
       "<table id=\"T_5a749\" style=\"font-size: 14px\">\n",
       "  <thead>\n",
       "    <tr>\n",
       "      <th id=\"T_5a749_level0_col0\" class=\"col_heading level0 col0\" >Dataset Descriptor</th>\n",
       "      <th id=\"T_5a749_level0_col1\" class=\"col_heading level0 col1\" >Dataset-specific Information</th>\n",
       "    </tr>\n",
       "  </thead>\n",
       "  <tbody>\n",
       "    <tr>\n",
       "      <td id=\"T_5a749_row0_col0\" class=\"data row0 col0\" >Name of Dataset in TRE</td>\n",
       "      <td id=\"T_5a749_row0_col1\" class=\"data row0 col1\" >NEXTSTEP_ns1_household_grid</td>\n",
       "    </tr>\n",
       "    <tr>\n",
       "      <td id=\"T_5a749_row1_col0\" class=\"data row1 col0\" >Citation (APA)</td>\n",
       "      <td id=\"T_5a749_row1_col1\" class=\"data row1 col1\" >University College London, UCL Social Research Institute, Centre for Longitudinal Studies. (2021). <i>Next Steps: NS Household Grid Sweep 1.</i> UK Longitudinal Linkage Collaboration (UK LLC).  <a href=\"https://doi.org/10.71760/ukllc-dataset-00263-01\" rel=\"noopener noreferrer\" target=\"_blank\">https://doi.org/10.71760/ukllc-dataset-00263-01</a></td>\n",
       "    </tr>\n",
       "    <tr>\n",
       "      <td id=\"T_5a749_row2_col0\" class=\"data row2 col0\" >Download Citation</td>\n",
       "      <td id=\"T_5a749_row2_col1\" class=\"data row2 col1\" > <a href=\"https://api.datacite.org/application/vnd.citationstyles.csl+json/10.71760/ukllc-dataset-00263-01\" rel=\"noopener noreferrer\" target=\"_blank\">Citeproc JSON</a>&nbsp;&nbsp;&nbsp;&nbsp; <a href=\"https://api.datacite.org/application/x-bibtex/10.71760/ukllc-dataset-00263-01\" rel=\"noopener noreferrer\" target=\"_blank\">BibTeX</a>&nbsp;&nbsp;&nbsp;&nbsp; <a href=\"https://api.datacite.org/application/x-research-info-systems/10.71760/ukllc-dataset-00263-01\" rel=\"noopener noreferrer\" target=\"_blank\">RIS</a></td>\n",
       "    </tr>\n",
       "    <tr>\n",
       "      <td id=\"T_5a749_row3_col0\" class=\"data row3 col0\" >Series</td>\n",
       "      <td id=\"T_5a749_row3_col1\" class=\"data row3 col1\" > <a href=\"https://guidebook.ukllc.ac.uk/docs/lps_data/lps%20profiles/NEXTSTEP\">Next Steps</a></td>\n",
       "    </tr>\n",
       "    <tr>\n",
       "      <td id=\"T_5a749_row4_col0\" class=\"data row4 col0\" >Owner</td>\n",
       "      <td id=\"T_5a749_row4_col1\" class=\"data row4 col1\" >UCL</td>\n",
       "    </tr>\n",
       "    <tr>\n",
       "      <td id=\"T_5a749_row5_col0\" class=\"data row5 col0\" >Temporal Coverage</td>\n",
       "      <td id=\"T_5a749_row5_col1\" class=\"data row5 col1\" >03/2004 - 10/2004</td>\n",
       "    </tr>\n",
       "    <tr>\n",
       "      <td id=\"T_5a749_row6_col0\" class=\"data row6 col0\" >Keywords</td>\n",
       "      <td id=\"T_5a749_row6_col1\" class=\"data row6 col1\" >Health,Education,Family life,Employment,Attitudes</td>\n",
       "    </tr>\n",
       "    <tr>\n",
       "      <td id=\"T_5a749_row7_col0\" class=\"data row7 col0\" >Participants Invited</td>\n",
       "      <td id=\"T_5a749_row7_col1\" class=\"data row7 col1\" >15770</td>\n",
       "    </tr>\n",
       "    <tr>\n",
       "      <td id=\"T_5a749_row8_col0\" class=\"data row8 col0\" >Participant Count</td>\n",
       "      <td id=\"T_5a749_row8_col1\" class=\"data row8 col1\" >6079</td>\n",
       "    </tr>\n",
       "    <tr>\n",
       "      <td id=\"T_5a749_row9_col0\" class=\"data row9 col0\" >Number of variables</td>\n",
       "      <td id=\"T_5a749_row9_col1\" class=\"data row9 col1\" >30</td>\n",
       "    </tr>\n",
       "    <tr>\n",
       "      <td id=\"T_5a749_row10_col0\" class=\"data row10 col0\" >Number of observations</td>\n",
       "      <td id=\"T_5a749_row10_col1\" class=\"data row10 col1\" >68473</td>\n",
       "    </tr>\n",
       "    <tr>\n",
       "      <td id=\"T_5a749_row11_col0\" class=\"data row11 col0\" >Specific Restrictions to Data Use</td>\n",
       "      <td id=\"T_5a749_row11_col1\" class=\"data row11 col1\" >None</td>\n",
       "    </tr>\n",
       "    <tr>\n",
       "      <td id=\"T_5a749_row12_col0\" class=\"data row12 col0\" >Build a Data Request</td>\n",
       "      <td id=\"T_5a749_row12_col1\" class=\"data row12 col1\" > <a href=\"https://explore.ukllc.ac.uk/\" rel=\"noopener noreferrer\" target=\"_blank\">https://explore.ukllc.ac.uk/</a></td>\n",
       "    </tr>\n",
       "  </tbody>\n",
       "</table>\n"
      ],
      "text/plain": [
       "<pandas.io.formats.style.Styler at 0x11689d8ed20>"
      ]
     },
     "execution_count": 3,
     "metadata": {},
     "output_type": "execute_result"
    }
   ],
   "source": [
    "ds.info_table()"
   ]
  },
  {
   "cell_type": "markdown",
   "id": "3f6803af",
   "metadata": {},
   "source": [
    "## 2. Version History"
   ]
  },
  {
   "cell_type": "code",
   "execution_count": 4,
   "id": "af6a08a2",
   "metadata": {
    "execution": {
     "iopub.execute_input": "2025-07-28T19:57:54.933345Z",
     "iopub.status.busy": "2025-07-28T19:57:54.933345Z",
     "iopub.status.idle": "2025-07-28T19:58:00.211647Z",
     "shell.execute_reply": "2025-07-28T19:58:00.208620Z"
    },
    "tags": [
     "remove-input"
    ]
   },
   "outputs": [
    {
     "data": {
      "text/html": [
       "<style type=\"text/css\">\n",
       "#T_3e00a th {\n",
       "  text-align: left;\n",
       "}\n",
       "#T_3e00a_row0_col0, #T_3e00a_row0_col1, #T_3e00a_row1_col0, #T_3e00a_row1_col1, #T_3e00a_row2_col0, #T_3e00a_row2_col1, #T_3e00a_row3_col0, #T_3e00a_row3_col1, #T_3e00a_row4_col0, #T_3e00a_row4_col1 {\n",
       "  text-align: left;\n",
       "}\n",
       "</style>\n",
       "<table id=\"T_3e00a\" style=\"font-size: 14px\">\n",
       "  <thead>\n",
       "    <tr>\n",
       "      <th id=\"T_3e00a_level0_col0\" class=\"col_heading level0 col0\" >Version</th>\n",
       "      <th id=\"T_3e00a_level0_col1\" class=\"col_heading level0 col1\" >1</th>\n",
       "    </tr>\n",
       "  </thead>\n",
       "  <tbody>\n",
       "    <tr>\n",
       "      <td id=\"T_3e00a_row0_col0\" class=\"data row0 col0\" >Version Date</td>\n",
       "      <td id=\"T_3e00a_row0_col1\" class=\"data row0 col1\" >01 Nov 2021</td>\n",
       "    </tr>\n",
       "    <tr>\n",
       "      <td id=\"T_3e00a_row1_col0\" class=\"data row1 col0\" >Number of Variables</td>\n",
       "      <td id=\"T_3e00a_row1_col1\" class=\"data row1 col1\" >30</td>\n",
       "    </tr>\n",
       "    <tr>\n",
       "      <td id=\"T_3e00a_row2_col0\" class=\"data row2 col0\" >Number of Observations</td>\n",
       "      <td id=\"T_3e00a_row2_col1\" class=\"data row2 col1\" >68473</td>\n",
       "    </tr>\n",
       "    <tr>\n",
       "      <td id=\"T_3e00a_row3_col0\" class=\"data row3 col0\" >DOI</td>\n",
       "      <td id=\"T_3e00a_row3_col1\" class=\"data row3 col1\" > <a href=\"https://doi.org/10.71760/ukllc-dataset-00263-01\" rel=\"noopener noreferrer\" target=\"_blank\">10.71760/ukllc-dataset-00263-01</a></td>\n",
       "    </tr>\n",
       "    <tr>\n",
       "      <td id=\"T_3e00a_row4_col0\" class=\"data row4 col0\" >Change Log</td>\n",
       "      <td id=\"T_3e00a_row4_col1\" class=\"data row4 col1\" > <a href=\"https://api.test.datacite.org/dois/10.71760/ukllc-dataset-00263-01/activities\" rel=\"noopener noreferrer\" target=\"_blank\">10.71760/ukllc-dataset-00263-01/activities</a></td>\n",
       "    </tr>\n",
       "  </tbody>\n",
       "</table>\n"
      ],
      "text/plain": [
       "<pandas.io.formats.style.Styler at 0x11689f3ac90>"
      ]
     },
     "execution_count": 4,
     "metadata": {},
     "output_type": "execute_result"
    }
   ],
   "source": [
    "ds.version_history()"
   ]
  },
  {
   "cell_type": "markdown",
   "id": "a1166766",
   "metadata": {},
   "source": [
    "## 3. Documentation"
   ]
  },
  {
   "cell_type": "code",
   "execution_count": 5,
   "id": "a4fbc501",
   "metadata": {
    "execution": {
     "iopub.execute_input": "2025-07-28T19:58:00.220641Z",
     "iopub.status.busy": "2025-07-28T19:58:00.219639Z",
     "iopub.status.idle": "2025-07-28T19:58:00.231867Z",
     "shell.execute_reply": "2025-07-28T19:58:00.229852Z"
    },
    "tags": [
     "remove-input"
    ]
   },
   "outputs": [
    {
     "data": {
      "text/markdown": [
       "We are currently building a documentation storage system which will host useful documents related to datasets and data owners. We will surface these documents on Guidebook."
      ],
      "text/plain": [
       "<IPython.core.display.Markdown object>"
      ]
     },
     "metadata": {},
     "output_type": "display_data"
    }
   ],
   "source": [
    "ds.documentation()"
   ]
  },
  {
   "cell_type": "markdown",
   "id": "e57141a8",
   "metadata": {},
   "source": [
    "## 4. Useful Syntax"
   ]
  },
  {
   "cell_type": "code",
   "execution_count": 6,
   "id": "af25ad5d",
   "metadata": {
    "execution": {
     "iopub.execute_input": "2025-07-28T19:58:00.239868Z",
     "iopub.status.busy": "2025-07-28T19:58:00.238867Z",
     "iopub.status.idle": "2025-07-28T19:58:00.253071Z",
     "shell.execute_reply": "2025-07-28T19:58:00.251068Z"
    },
    "tags": [
     "remove-input"
    ]
   },
   "outputs": [
    {
     "data": {
      "text/markdown": [
       "Below we will include syntax that may be helpful to other researchers in the UK LLC TRE. For longer scripts, we will include a snippet of the code plus a link to Git where you can find the full scripts."
      ],
      "text/plain": [
       "<IPython.core.display.Markdown object>"
      ]
     },
     "metadata": {},
     "output_type": "display_data"
    }
   ],
   "source": [
    "ds.useful_syntax()"
   ]
  }
 ],
 "metadata": {
  "language_info": {
   "codemirror_mode": {
    "name": "ipython",
    "version": 3
   },
   "file_extension": ".py",
   "mimetype": "text/x-python",
   "name": "python",
   "nbconvert_exporter": "python",
   "pygments_lexer": "ipython3",
   "version": "3.12.7"
  }
 },
 "nbformat": 4,
 "nbformat_minor": 5
}
