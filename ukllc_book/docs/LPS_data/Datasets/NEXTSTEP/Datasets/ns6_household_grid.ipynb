{
 "cells": [
  {
   "cell_type": "markdown",
   "id": "035a146f",
   "metadata": {},
   "source": [
    "# NS Household Grid Sweep 6 (NEXTSTEP)"
   ]
  },
  {
   "cell_type": "code",
   "execution_count": 1,
   "id": "18ef2633",
   "metadata": {
    "execution": {
     "iopub.execute_input": "2025-07-18T10:17:03.940598Z",
     "iopub.status.busy": "2025-07-18T10:17:03.940598Z",
     "iopub.status.idle": "2025-07-18T10:17:10.775560Z",
     "shell.execute_reply": "2025-07-18T10:17:10.775560Z"
    },
    "tags": [
     "remove-input"
    ]
   },
   "outputs": [
    {
     "data": {
      "text/markdown": [
       ">Last modified: 18 Jul 2025"
      ],
      "text/plain": [
       "<IPython.core.display.Markdown object>"
      ]
     },
     "metadata": {},
     "output_type": "display_data"
    }
   ],
   "source": [
    "\n",
    "import sys\n",
    "import os\n",
    "sys.path.append(os.path.abspath('../../../../scripts/'))\n",
    "from data_doc_helper import LPSDataSet as DS, last_modified\n",
    "API_KEY = os.environ['FASTAPI_KEY']\n",
    "ds = DS(\"NEXTSTEP\", \"ns6_household_grid\")\n",
    "last_modified()\n"
   ]
  },
  {
   "cell_type": "markdown",
   "id": "a737de2c",
   "metadata": {},
   "source": [
    "## 1. Summary"
   ]
  },
  {
   "cell_type": "code",
   "execution_count": 2,
   "id": "07372a9e",
   "metadata": {
    "execution": {
     "iopub.execute_input": "2025-07-18T10:17:10.781568Z",
     "iopub.status.busy": "2025-07-18T10:17:10.781568Z",
     "iopub.status.idle": "2025-07-18T10:17:10.792332Z",
     "shell.execute_reply": "2025-07-18T10:17:10.791323Z"
    },
    "tags": [
     "remove-input"
    ]
   },
   "outputs": [
    {
     "data": {
      "text/markdown": [
       "Data was collected via a mixed mode approach (online, telephone or face-to-face) between May and October 2009. A summary of the content includes: Household member identifier, Interview mode, Whether cohort member is still living at same address, Whether cohort member is still living with any of the same people as at last interview, Type of accommodation, Whether living with relatives, Household member status, Sex of person, Relationship to cohort member"
      ],
      "text/plain": [
       "<IPython.core.display.Markdown object>"
      ]
     },
     "metadata": {},
     "output_type": "display_data"
    }
   ],
   "source": [
    "ds.summary()"
   ]
  },
  {
   "cell_type": "code",
   "execution_count": 3,
   "id": "1e3ecb3b",
   "metadata": {
    "execution": {
     "iopub.execute_input": "2025-07-18T10:17:10.798850Z",
     "iopub.status.busy": "2025-07-18T10:17:10.798850Z",
     "iopub.status.idle": "2025-07-18T10:17:11.740638Z",
     "shell.execute_reply": "2025-07-18T10:17:11.738630Z"
    },
    "tags": [
     "remove-input"
    ]
   },
   "outputs": [
    {
     "data": {
      "text/html": [
       "<style type=\"text/css\">\n",
       "#T_ee066 th {\n",
       "  text-align: left;\n",
       "}\n",
       "#T_ee066_row0_col0, #T_ee066_row0_col1, #T_ee066_row1_col0, #T_ee066_row1_col1, #T_ee066_row2_col0, #T_ee066_row2_col1, #T_ee066_row3_col0, #T_ee066_row3_col1, #T_ee066_row4_col0, #T_ee066_row4_col1, #T_ee066_row5_col0, #T_ee066_row5_col1, #T_ee066_row6_col0, #T_ee066_row6_col1, #T_ee066_row7_col0, #T_ee066_row7_col1, #T_ee066_row8_col0, #T_ee066_row8_col1, #T_ee066_row9_col0, #T_ee066_row9_col1, #T_ee066_row10_col0, #T_ee066_row10_col1, #T_ee066_row11_col0, #T_ee066_row11_col1, #T_ee066_row12_col0, #T_ee066_row12_col1 {\n",
       "  text-align: left;\n",
       "}\n",
       "</style>\n",
       "<table id=\"T_ee066\" style=\"font-size: 14px\">\n",
       "  <thead>\n",
       "    <tr>\n",
       "      <th id=\"T_ee066_level0_col0\" class=\"col_heading level0 col0\" >Dataset Descriptor</th>\n",
       "      <th id=\"T_ee066_level0_col1\" class=\"col_heading level0 col1\" >Dataset-specific Information</th>\n",
       "    </tr>\n",
       "  </thead>\n",
       "  <tbody>\n",
       "    <tr>\n",
       "      <td id=\"T_ee066_row0_col0\" class=\"data row0 col0\" >Name of Dataset in TRE</td>\n",
       "      <td id=\"T_ee066_row0_col1\" class=\"data row0 col1\" >NEXTSTEP_ns6_household_grid</td>\n",
       "    </tr>\n",
       "    <tr>\n",
       "      <td id=\"T_ee066_row1_col0\" class=\"data row1 col0\" >Citation (APA)</td>\n",
       "      <td id=\"T_ee066_row1_col1\" class=\"data row1 col1\" >University College London, UCL Social Research Institute, Centre for Longitudinal Studies. (2021). <i>Next Steps: NS Household Grid Sweep 6.</i> UK Longitudinal Linkage Collaboration (UK LLC).  <a href=\"https://doi.org/10.83126/ukllc-dataset-00350-01\" rel=\"noopener noreferrer\" target=\"_blank\">https://doi.org/10.83126/ukllc-dataset-00350-01</a></td>\n",
       "    </tr>\n",
       "    <tr>\n",
       "      <td id=\"T_ee066_row2_col0\" class=\"data row2 col0\" >Download Citation</td>\n",
       "      <td id=\"T_ee066_row2_col1\" class=\"data row2 col1\" > <a href=\"https://api.test.datacite.org/application/vnd.citationstyles.csl+json/10.83126/ukllc-dataset-00350-01\" rel=\"noopener noreferrer\" target=\"_blank\">Citeproc JSON</a>&nbsp;&nbsp;&nbsp;&nbsp; <a href=\"https://api.test.datacite.org/application/x-bibtex/10.83126/ukllc-dataset-00350-01\" rel=\"noopener noreferrer\" target=\"_blank\">BibTeX</a>&nbsp;&nbsp;&nbsp;&nbsp; <a href=\"https://api.test.datacite.org/application/x-research-info-systems/10.83126/ukllc-dataset-00350-01\" rel=\"noopener noreferrer\" target=\"_blank\">RIS</a></td>\n",
       "    </tr>\n",
       "    <tr>\n",
       "      <td id=\"T_ee066_row3_col0\" class=\"data row3 col0\" >Series</td>\n",
       "      <td id=\"T_ee066_row3_col1\" class=\"data row3 col1\" > <a href=\"https://guidebook.ukllc.ac.uk/docs/lps/lps%20profiles/NEXTSTEP\">Next Steps</a></td>\n",
       "    </tr>\n",
       "    <tr>\n",
       "      <td id=\"T_ee066_row4_col0\" class=\"data row4 col0\" >Owner</td>\n",
       "      <td id=\"T_ee066_row4_col1\" class=\"data row4 col1\" >UCL</td>\n",
       "    </tr>\n",
       "    <tr>\n",
       "      <td id=\"T_ee066_row5_col0\" class=\"data row5 col0\" >Temporal Coverage</td>\n",
       "      <td id=\"T_ee066_row5_col1\" class=\"data row5 col1\" >05/2009 - 10/2009</td>\n",
       "    </tr>\n",
       "    <tr>\n",
       "      <td id=\"T_ee066_row6_col0\" class=\"data row6 col0\" >Keywords</td>\n",
       "      <td id=\"T_ee066_row6_col1\" class=\"data row6 col1\" >Health,Education,Employment,Attitudes,Partners</td>\n",
       "    </tr>\n",
       "    <tr>\n",
       "      <td id=\"T_ee066_row7_col0\" class=\"data row7 col0\" >Participants Invited</td>\n",
       "      <td id=\"T_ee066_row7_col1\" class=\"data row7 col1\" >9799</td>\n",
       "    </tr>\n",
       "    <tr>\n",
       "      <td id=\"T_ee066_row8_col0\" class=\"data row8 col0\" >Participant Count</td>\n",
       "      <td id=\"T_ee066_row8_col1\" class=\"data row8 col1\" >4938</td>\n",
       "    </tr>\n",
       "    <tr>\n",
       "      <td id=\"T_ee066_row9_col0\" class=\"data row9 col0\" >Number of variables</td>\n",
       "      <td id=\"T_ee066_row9_col1\" class=\"data row9 col1\" >11</td>\n",
       "    </tr>\n",
       "    <tr>\n",
       "      <td id=\"T_ee066_row10_col0\" class=\"data row10 col0\" >Number of observations</td>\n",
       "      <td id=\"T_ee066_row10_col1\" class=\"data row10 col1\" >48763</td>\n",
       "    </tr>\n",
       "    <tr>\n",
       "      <td id=\"T_ee066_row11_col0\" class=\"data row11 col0\" >Specific Restrictions to Data Use</td>\n",
       "      <td id=\"T_ee066_row11_col1\" class=\"data row11 col1\" >None</td>\n",
       "    </tr>\n",
       "    <tr>\n",
       "      <td id=\"T_ee066_row12_col0\" class=\"data row12 col0\" >Build a Data Request</td>\n",
       "      <td id=\"T_ee066_row12_col1\" class=\"data row12 col1\" > <a href=\"https://explore.ukllc.ac.uk/\" rel=\"noopener noreferrer\" target=\"_blank\">https://explore.ukllc.ac.uk/</a></td>\n",
       "    </tr>\n",
       "  </tbody>\n",
       "</table>\n"
      ],
      "text/plain": [
       "<pandas.io.formats.style.Styler at 0x1e30c7ab080>"
      ]
     },
     "execution_count": 3,
     "metadata": {},
     "output_type": "execute_result"
    }
   ],
   "source": [
    "ds.info_table()"
   ]
  },
  {
   "cell_type": "markdown",
   "id": "2a3ef0b0",
   "metadata": {},
   "source": [
    "## 2. Version History"
   ]
  },
  {
   "cell_type": "code",
   "execution_count": 4,
   "id": "b36a588a",
   "metadata": {
    "execution": {
     "iopub.execute_input": "2025-07-18T10:17:11.747637Z",
     "iopub.status.busy": "2025-07-18T10:17:11.746636Z",
     "iopub.status.idle": "2025-07-18T10:17:14.754339Z",
     "shell.execute_reply": "2025-07-18T10:17:14.752824Z"
    },
    "tags": [
     "remove-input"
    ]
   },
   "outputs": [
    {
     "data": {
      "text/html": [
       "<style type=\"text/css\">\n",
       "#T_07e69 th {\n",
       "  text-align: left;\n",
       "}\n",
       "#T_07e69_row0_col0, #T_07e69_row0_col1, #T_07e69_row1_col0, #T_07e69_row1_col1, #T_07e69_row2_col0, #T_07e69_row2_col1, #T_07e69_row3_col0, #T_07e69_row3_col1, #T_07e69_row4_col0, #T_07e69_row4_col1 {\n",
       "  text-align: left;\n",
       "}\n",
       "</style>\n",
       "<table id=\"T_07e69\" style=\"font-size: 14px\">\n",
       "  <thead>\n",
       "    <tr>\n",
       "      <th id=\"T_07e69_level0_col0\" class=\"col_heading level0 col0\" >Version</th>\n",
       "      <th id=\"T_07e69_level0_col1\" class=\"col_heading level0 col1\" >1</th>\n",
       "    </tr>\n",
       "  </thead>\n",
       "  <tbody>\n",
       "    <tr>\n",
       "      <td id=\"T_07e69_row0_col0\" class=\"data row0 col0\" >Version Date</td>\n",
       "      <td id=\"T_07e69_row0_col1\" class=\"data row0 col1\" >01 Nov 2021</td>\n",
       "    </tr>\n",
       "    <tr>\n",
       "      <td id=\"T_07e69_row1_col0\" class=\"data row1 col0\" >Number of Variables</td>\n",
       "      <td id=\"T_07e69_row1_col1\" class=\"data row1 col1\" >11</td>\n",
       "    </tr>\n",
       "    <tr>\n",
       "      <td id=\"T_07e69_row2_col0\" class=\"data row2 col0\" >Number of Observations</td>\n",
       "      <td id=\"T_07e69_row2_col1\" class=\"data row2 col1\" >48763</td>\n",
       "    </tr>\n",
       "    <tr>\n",
       "      <td id=\"T_07e69_row3_col0\" class=\"data row3 col0\" >DOI</td>\n",
       "      <td id=\"T_07e69_row3_col1\" class=\"data row3 col1\" > <a href=\"https://doi.org/10.83126/ukllc-dataset-00350-01\" rel=\"noopener noreferrer\" target=\"_blank\">10.83126/ukllc-dataset-00350-01</a></td>\n",
       "    </tr>\n",
       "    <tr>\n",
       "      <td id=\"T_07e69_row4_col0\" class=\"data row4 col0\" >Change Log</td>\n",
       "      <td id=\"T_07e69_row4_col1\" class=\"data row4 col1\" > <a href=\"https://api.test.datacite.org/dois/10.83126/ukllc-dataset-00350-01/activities\" rel=\"noopener noreferrer\" target=\"_blank\">10.83126/ukllc-dataset-00350-01/activities</a></td>\n",
       "    </tr>\n",
       "  </tbody>\n",
       "</table>\n"
      ],
      "text/plain": [
       "<pandas.io.formats.style.Styler at 0x1e30e658350>"
      ]
     },
     "execution_count": 4,
     "metadata": {},
     "output_type": "execute_result"
    }
   ],
   "source": [
    "ds.version_history()"
   ]
  },
  {
   "cell_type": "markdown",
   "id": "d107d3a6",
   "metadata": {},
   "source": [
    "## 3. Documentation"
   ]
  },
  {
   "cell_type": "code",
   "execution_count": 5,
   "id": "ddb948da",
   "metadata": {
    "execution": {
     "iopub.execute_input": "2025-07-18T10:17:14.762341Z",
     "iopub.status.busy": "2025-07-18T10:17:14.760339Z",
     "iopub.status.idle": "2025-07-18T10:17:14.773756Z",
     "shell.execute_reply": "2025-07-18T10:17:14.771597Z"
    },
    "tags": [
     "remove-input"
    ]
   },
   "outputs": [
    {
     "data": {
      "text/markdown": [
       "We are currently building a documentation storage system which will host useful documents related to datasets and data owners. We will surface these documents on Guidebook."
      ],
      "text/plain": [
       "<IPython.core.display.Markdown object>"
      ]
     },
     "metadata": {},
     "output_type": "display_data"
    }
   ],
   "source": [
    "ds.documentation()"
   ]
  },
  {
   "cell_type": "markdown",
   "id": "55bdb8b7",
   "metadata": {},
   "source": [
    "## 4. Useful Syntax"
   ]
  },
  {
   "cell_type": "code",
   "execution_count": 6,
   "id": "42c3ddd0",
   "metadata": {
    "execution": {
     "iopub.execute_input": "2025-07-18T10:17:14.779770Z",
     "iopub.status.busy": "2025-07-18T10:17:14.778772Z",
     "iopub.status.idle": "2025-07-18T10:17:14.789677Z",
     "shell.execute_reply": "2025-07-18T10:17:14.787671Z"
    },
    "tags": [
     "remove-input"
    ]
   },
   "outputs": [
    {
     "data": {
      "text/markdown": [
       "Below we will include syntax that may be helpful to other researchers in the UK LLC TRE. For longer scripts, we will include a snippet of the code plus a link to Git where you can find the full scripts."
      ],
      "text/plain": [
       "<IPython.core.display.Markdown object>"
      ]
     },
     "metadata": {},
     "output_type": "display_data"
    }
   ],
   "source": [
    "ds.useful_syntax()"
   ]
  }
 ],
 "metadata": {
  "language_info": {
   "codemirror_mode": {
    "name": "ipython",
    "version": 3
   },
   "file_extension": ".py",
   "mimetype": "text/x-python",
   "name": "python",
   "nbconvert_exporter": "python",
   "pygments_lexer": "ipython3",
   "version": "3.12.7"
  }
 },
 "nbformat": 4,
 "nbformat_minor": 5
}
