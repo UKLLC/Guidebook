{
 "cells": [
  {
   "cell_type": "markdown",
   "id": "f037145c",
   "metadata": {},
   "source": [
    "# NS Children Sweep 8 (NEXTSTEP)"
   ]
  },
  {
   "cell_type": "code",
   "execution_count": 1,
   "id": "b66b074d",
   "metadata": {
    "execution": {
     "iopub.execute_input": "2025-07-28T20:07:26.514093Z",
     "iopub.status.busy": "2025-07-28T20:07:26.514093Z",
     "iopub.status.idle": "2025-07-28T20:07:37.996817Z",
     "shell.execute_reply": "2025-07-28T20:07:37.995279Z"
    },
    "tags": [
     "remove-input"
    ]
   },
   "outputs": [
    {
     "data": {
      "text/markdown": [
       ">Last modified: 28 Jul 2025"
      ],
      "text/plain": [
       "<IPython.core.display.Markdown object>"
      ]
     },
     "metadata": {},
     "output_type": "display_data"
    }
   ],
   "source": [
    "\n",
    "import sys\n",
    "import os\n",
    "sys.path.append(os.path.abspath('../../../../scripts/'))\n",
    "from data_doc_helper import LPSDataSet as DS, last_modified\n",
    "API_KEY = os.environ['FASTAPI_KEY']\n",
    "ds = DS(\"NEXTSTEP\", \"ns8_children\")\n",
    "last_modified()\n"
   ]
  },
  {
   "cell_type": "markdown",
   "id": "e619a29d",
   "metadata": {},
   "source": [
    "## 1. Summary"
   ]
  },
  {
   "cell_type": "code",
   "execution_count": 2,
   "id": "9ef3c988",
   "metadata": {
    "execution": {
     "iopub.execute_input": "2025-07-28T20:07:38.006191Z",
     "iopub.status.busy": "2025-07-28T20:07:38.006191Z",
     "iopub.status.idle": "2025-07-28T20:07:38.020908Z",
     "shell.execute_reply": "2025-07-28T20:07:38.018888Z"
    },
    "tags": [
     "remove-input"
    ]
   },
   "outputs": [
    {
     "data": {
      "text/markdown": [
       "Data was collected via a mixed mode approach (online, telephone or face-to-face) between August 2015 and September 2016. Questions cover: Anonymised child identifier, Sex of child, Age of child, relationship to cohort member, age of biological parent, whether child lives in same household as cohort member, frequency of cohort with parent"
      ],
      "text/plain": [
       "<IPython.core.display.Markdown object>"
      ]
     },
     "metadata": {},
     "output_type": "display_data"
    }
   ],
   "source": [
    "ds.summary()"
   ]
  },
  {
   "cell_type": "code",
   "execution_count": 3,
   "id": "49df2832",
   "metadata": {
    "execution": {
     "iopub.execute_input": "2025-07-28T20:07:38.027906Z",
     "iopub.status.busy": "2025-07-28T20:07:38.026906Z",
     "iopub.status.idle": "2025-07-28T20:07:39.689008Z",
     "shell.execute_reply": "2025-07-28T20:07:39.686472Z"
    },
    "tags": [
     "remove-input"
    ]
   },
   "outputs": [
    {
     "data": {
      "text/html": [
       "<style type=\"text/css\">\n",
       "#T_fc566 th {\n",
       "  text-align: left;\n",
       "}\n",
       "#T_fc566_row0_col0, #T_fc566_row0_col1, #T_fc566_row1_col0, #T_fc566_row1_col1, #T_fc566_row2_col0, #T_fc566_row2_col1, #T_fc566_row3_col0, #T_fc566_row3_col1, #T_fc566_row4_col0, #T_fc566_row4_col1, #T_fc566_row5_col0, #T_fc566_row5_col1, #T_fc566_row6_col0, #T_fc566_row6_col1, #T_fc566_row7_col0, #T_fc566_row7_col1, #T_fc566_row8_col0, #T_fc566_row8_col1, #T_fc566_row9_col0, #T_fc566_row9_col1, #T_fc566_row10_col0, #T_fc566_row10_col1, #T_fc566_row11_col0, #T_fc566_row11_col1, #T_fc566_row12_col0, #T_fc566_row12_col1 {\n",
       "  text-align: left;\n",
       "}\n",
       "</style>\n",
       "<table id=\"T_fc566\" style=\"font-size: 14px\">\n",
       "  <thead>\n",
       "    <tr>\n",
       "      <th id=\"T_fc566_level0_col0\" class=\"col_heading level0 col0\" >Dataset Descriptor</th>\n",
       "      <th id=\"T_fc566_level0_col1\" class=\"col_heading level0 col1\" >Dataset-specific Information</th>\n",
       "    </tr>\n",
       "  </thead>\n",
       "  <tbody>\n",
       "    <tr>\n",
       "      <td id=\"T_fc566_row0_col0\" class=\"data row0 col0\" >Name of Dataset in TRE</td>\n",
       "      <td id=\"T_fc566_row0_col1\" class=\"data row0 col1\" >NEXTSTEP_ns8_children</td>\n",
       "    </tr>\n",
       "    <tr>\n",
       "      <td id=\"T_fc566_row1_col0\" class=\"data row1 col0\" >Citation (APA)</td>\n",
       "      <td id=\"T_fc566_row1_col1\" class=\"data row1 col1\" >University College London, UCL Social Research Institute, Centre for Longitudinal Studies. (2021). <i>Next Steps: NS Children Sweep 8.</i> UK Longitudinal Linkage Collaboration (UK LLC).  <a href=\"https://doi.org/10.71760/ukllc-dataset-00286-01\" rel=\"noopener noreferrer\" target=\"_blank\">https://doi.org/10.71760/ukllc-dataset-00286-01</a></td>\n",
       "    </tr>\n",
       "    <tr>\n",
       "      <td id=\"T_fc566_row2_col0\" class=\"data row2 col0\" >Download Citation</td>\n",
       "      <td id=\"T_fc566_row2_col1\" class=\"data row2 col1\" > <a href=\"https://api.datacite.org/application/vnd.citationstyles.csl+json/10.71760/ukllc-dataset-00286-01\" rel=\"noopener noreferrer\" target=\"_blank\">Citeproc JSON</a>&nbsp;&nbsp;&nbsp;&nbsp; <a href=\"https://api.datacite.org/application/x-bibtex/10.71760/ukllc-dataset-00286-01\" rel=\"noopener noreferrer\" target=\"_blank\">BibTeX</a>&nbsp;&nbsp;&nbsp;&nbsp; <a href=\"https://api.datacite.org/application/x-research-info-systems/10.71760/ukllc-dataset-00286-01\" rel=\"noopener noreferrer\" target=\"_blank\">RIS</a></td>\n",
       "    </tr>\n",
       "    <tr>\n",
       "      <td id=\"T_fc566_row3_col0\" class=\"data row3 col0\" >Series</td>\n",
       "      <td id=\"T_fc566_row3_col1\" class=\"data row3 col1\" > <a href=\"https://guidebook.ukllc.ac.uk/docs/lps_data/lps%20profiles/NEXTSTEP\">Next Steps</a></td>\n",
       "    </tr>\n",
       "    <tr>\n",
       "      <td id=\"T_fc566_row4_col0\" class=\"data row4 col0\" >Owner</td>\n",
       "      <td id=\"T_fc566_row4_col1\" class=\"data row4 col1\" >UCL</td>\n",
       "    </tr>\n",
       "    <tr>\n",
       "      <td id=\"T_fc566_row5_col0\" class=\"data row5 col0\" >Temporal Coverage</td>\n",
       "      <td id=\"T_fc566_row5_col1\" class=\"data row5 col1\" >08/2015 - 09/2016</td>\n",
       "    </tr>\n",
       "    <tr>\n",
       "      <td id=\"T_fc566_row6_col0\" class=\"data row6 col0\" >Keywords</td>\n",
       "      <td id=\"T_fc566_row6_col1\" class=\"data row6 col1\" >Health,Education,Employment,Attitudes,Partners</td>\n",
       "    </tr>\n",
       "    <tr>\n",
       "      <td id=\"T_fc566_row7_col0\" class=\"data row7 col0\" >Participants Invited</td>\n",
       "      <td id=\"T_fc566_row7_col1\" class=\"data row7 col1\" >7707</td>\n",
       "    </tr>\n",
       "    <tr>\n",
       "      <td id=\"T_fc566_row8_col0\" class=\"data row8 col0\" >Participant Count</td>\n",
       "      <td id=\"T_fc566_row8_col1\" class=\"data row8 col1\" >1192</td>\n",
       "    </tr>\n",
       "    <tr>\n",
       "      <td id=\"T_fc566_row9_col0\" class=\"data row9 col0\" >Number of variables</td>\n",
       "      <td id=\"T_fc566_row9_col1\" class=\"data row9 col1\" >22</td>\n",
       "    </tr>\n",
       "    <tr>\n",
       "      <td id=\"T_fc566_row10_col0\" class=\"data row10 col0\" >Number of observations</td>\n",
       "      <td id=\"T_fc566_row10_col1\" class=\"data row10 col1\" >2440</td>\n",
       "    </tr>\n",
       "    <tr>\n",
       "      <td id=\"T_fc566_row11_col0\" class=\"data row11 col0\" >Specific Restrictions to Data Use</td>\n",
       "      <td id=\"T_fc566_row11_col1\" class=\"data row11 col1\" >None</td>\n",
       "    </tr>\n",
       "    <tr>\n",
       "      <td id=\"T_fc566_row12_col0\" class=\"data row12 col0\" >Build a Data Request</td>\n",
       "      <td id=\"T_fc566_row12_col1\" class=\"data row12 col1\" > <a href=\"https://explore.ukllc.ac.uk/\" rel=\"noopener noreferrer\" target=\"_blank\">https://explore.ukllc.ac.uk/</a></td>\n",
       "    </tr>\n",
       "  </tbody>\n",
       "</table>\n"
      ],
      "text/plain": [
       "<pandas.io.formats.style.Styler at 0x2c5825d0590>"
      ]
     },
     "execution_count": 3,
     "metadata": {},
     "output_type": "execute_result"
    }
   ],
   "source": [
    "ds.info_table()"
   ]
  },
  {
   "cell_type": "markdown",
   "id": "48684aca",
   "metadata": {},
   "source": [
    "## 2. Version History"
   ]
  },
  {
   "cell_type": "code",
   "execution_count": 4,
   "id": "4f31bfd5",
   "metadata": {
    "execution": {
     "iopub.execute_input": "2025-07-28T20:07:39.698125Z",
     "iopub.status.busy": "2025-07-28T20:07:39.697118Z",
     "iopub.status.idle": "2025-07-28T20:07:45.034433Z",
     "shell.execute_reply": "2025-07-28T20:07:45.032273Z"
    },
    "tags": [
     "remove-input"
    ]
   },
   "outputs": [
    {
     "data": {
      "text/html": [
       "<style type=\"text/css\">\n",
       "#T_83fd4 th {\n",
       "  text-align: left;\n",
       "}\n",
       "#T_83fd4_row0_col0, #T_83fd4_row0_col1, #T_83fd4_row1_col0, #T_83fd4_row1_col1, #T_83fd4_row2_col0, #T_83fd4_row2_col1, #T_83fd4_row3_col0, #T_83fd4_row3_col1, #T_83fd4_row4_col0, #T_83fd4_row4_col1 {\n",
       "  text-align: left;\n",
       "}\n",
       "</style>\n",
       "<table id=\"T_83fd4\" style=\"font-size: 14px\">\n",
       "  <thead>\n",
       "    <tr>\n",
       "      <th id=\"T_83fd4_level0_col0\" class=\"col_heading level0 col0\" >Version</th>\n",
       "      <th id=\"T_83fd4_level0_col1\" class=\"col_heading level0 col1\" >1</th>\n",
       "    </tr>\n",
       "  </thead>\n",
       "  <tbody>\n",
       "    <tr>\n",
       "      <td id=\"T_83fd4_row0_col0\" class=\"data row0 col0\" >Version Date</td>\n",
       "      <td id=\"T_83fd4_row0_col1\" class=\"data row0 col1\" >01 Nov 2021</td>\n",
       "    </tr>\n",
       "    <tr>\n",
       "      <td id=\"T_83fd4_row1_col0\" class=\"data row1 col0\" >Number of Variables</td>\n",
       "      <td id=\"T_83fd4_row1_col1\" class=\"data row1 col1\" >22</td>\n",
       "    </tr>\n",
       "    <tr>\n",
       "      <td id=\"T_83fd4_row2_col0\" class=\"data row2 col0\" >Number of Observations</td>\n",
       "      <td id=\"T_83fd4_row2_col1\" class=\"data row2 col1\" >2440</td>\n",
       "    </tr>\n",
       "    <tr>\n",
       "      <td id=\"T_83fd4_row3_col0\" class=\"data row3 col0\" >DOI</td>\n",
       "      <td id=\"T_83fd4_row3_col1\" class=\"data row3 col1\" > <a href=\"https://doi.org/10.71760/ukllc-dataset-00286-01\" rel=\"noopener noreferrer\" target=\"_blank\">10.71760/ukllc-dataset-00286-01</a></td>\n",
       "    </tr>\n",
       "    <tr>\n",
       "      <td id=\"T_83fd4_row4_col0\" class=\"data row4 col0\" >Change Log</td>\n",
       "      <td id=\"T_83fd4_row4_col1\" class=\"data row4 col1\" > <a href=\"https://api.test.datacite.org/dois/10.71760/ukllc-dataset-00286-01/activities\" rel=\"noopener noreferrer\" target=\"_blank\">10.71760/ukllc-dataset-00286-01/activities</a></td>\n",
       "    </tr>\n",
       "  </tbody>\n",
       "</table>\n"
      ],
      "text/plain": [
       "<pandas.io.formats.style.Styler at 0x2c587e1b860>"
      ]
     },
     "execution_count": 4,
     "metadata": {},
     "output_type": "execute_result"
    }
   ],
   "source": [
    "ds.version_history()"
   ]
  },
  {
   "cell_type": "markdown",
   "id": "1372eeab",
   "metadata": {},
   "source": [
    "## 3. Documentation"
   ]
  },
  {
   "cell_type": "code",
   "execution_count": 5,
   "id": "76ea9f09",
   "metadata": {
    "execution": {
     "iopub.execute_input": "2025-07-28T20:07:45.046989Z",
     "iopub.status.busy": "2025-07-28T20:07:45.046989Z",
     "iopub.status.idle": "2025-07-28T20:07:45.063892Z",
     "shell.execute_reply": "2025-07-28T20:07:45.061864Z"
    },
    "tags": [
     "remove-input"
    ]
   },
   "outputs": [
    {
     "data": {
      "text/markdown": [
       "We are currently building a documentation storage system which will host useful documents related to datasets and data owners. We will surface these documents on Guidebook."
      ],
      "text/plain": [
       "<IPython.core.display.Markdown object>"
      ]
     },
     "metadata": {},
     "output_type": "display_data"
    }
   ],
   "source": [
    "ds.documentation()"
   ]
  },
  {
   "cell_type": "markdown",
   "id": "ca3d3911",
   "metadata": {},
   "source": [
    "## 4. Useful Syntax"
   ]
  },
  {
   "cell_type": "code",
   "execution_count": 6,
   "id": "fa58dde2",
   "metadata": {
    "execution": {
     "iopub.execute_input": "2025-07-28T20:07:45.072830Z",
     "iopub.status.busy": "2025-07-28T20:07:45.071835Z",
     "iopub.status.idle": "2025-07-28T20:07:45.082330Z",
     "shell.execute_reply": "2025-07-28T20:07:45.081821Z"
    },
    "tags": [
     "remove-input"
    ]
   },
   "outputs": [
    {
     "data": {
      "text/markdown": [
       "Below we will include syntax that may be helpful to other researchers in the UK LLC TRE. For longer scripts, we will include a snippet of the code plus a link to Git where you can find the full scripts."
      ],
      "text/plain": [
       "<IPython.core.display.Markdown object>"
      ]
     },
     "metadata": {},
     "output_type": "display_data"
    }
   ],
   "source": [
    "ds.useful_syntax()"
   ]
  }
 ],
 "metadata": {
  "language_info": {
   "codemirror_mode": {
    "name": "ipython",
    "version": 3
   },
   "file_extension": ".py",
   "mimetype": "text/x-python",
   "name": "python",
   "nbconvert_exporter": "python",
   "pygments_lexer": "ipython3",
   "version": "3.12.7"
  }
 },
 "nbformat": 4,
 "nbformat_minor": 5
}
