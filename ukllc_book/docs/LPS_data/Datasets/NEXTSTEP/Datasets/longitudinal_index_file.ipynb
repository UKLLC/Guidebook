{
 "cells": [
  {
   "cell_type": "markdown",
   "id": "9816ca95",
   "metadata": {},
   "source": [
    "# Longitudinal  index (NEXTSTEP)"
   ]
  },
  {
   "cell_type": "code",
   "execution_count": 1,
   "id": "80d4446b",
   "metadata": {
    "execution": {
     "iopub.execute_input": "2025-07-28T19:56:18.248996Z",
     "iopub.status.busy": "2025-07-28T19:56:18.247980Z",
     "iopub.status.idle": "2025-07-28T19:56:30.476019Z",
     "shell.execute_reply": "2025-07-28T19:56:30.469986Z"
    },
    "tags": [
     "remove-input"
    ]
   },
   "outputs": [
    {
     "data": {
      "text/markdown": [
       ">Last modified: 28 Jul 2025"
      ],
      "text/plain": [
       "<IPython.core.display.Markdown object>"
      ]
     },
     "metadata": {},
     "output_type": "display_data"
    }
   ],
   "source": [
    "\n",
    "import sys\n",
    "import os\n",
    "sys.path.append(os.path.abspath('../../../../scripts/'))\n",
    "from data_doc_helper import LPSDataSet as DS, last_modified\n",
    "API_KEY = os.environ['FASTAPI_KEY']\n",
    "ds = DS(\"NEXTSTEP\", \"longitudinal_index_file\")\n",
    "last_modified()\n"
   ]
  },
  {
   "cell_type": "markdown",
   "id": "c09ed304",
   "metadata": {},
   "source": [
    "## 1. Summary"
   ]
  },
  {
   "cell_type": "code",
   "execution_count": 2,
   "id": "a121a336",
   "metadata": {
    "execution": {
     "iopub.execute_input": "2025-07-28T19:56:30.502432Z",
     "iopub.status.busy": "2025-07-28T19:56:30.500434Z",
     "iopub.status.idle": "2025-07-28T19:56:30.528787Z",
     "shell.execute_reply": "2025-07-28T19:56:30.523758Z"
    },
    "tags": [
     "remove-input"
    ]
   },
   "outputs": [
    {
     "data": {
      "text/markdown": [
       "A longitudinal file containing information of all household members including the cohort member, collected at Sweeps 1 to 7. A summary of the content includes: Household member identifier, Whether household information exists for previous sweeps, Age of person, Sex of person, Relationship to cohort member, Main parent position, Second parent position, History respondent position, Whether main parent is father/mother of cohort member, Whether parent person number has changed between sweeps."
      ],
      "text/plain": [
       "<IPython.core.display.Markdown object>"
      ]
     },
     "metadata": {},
     "output_type": "display_data"
    }
   ],
   "source": [
    "ds.summary()"
   ]
  },
  {
   "cell_type": "code",
   "execution_count": 3,
   "id": "851bb9a4",
   "metadata": {
    "execution": {
     "iopub.execute_input": "2025-07-28T19:56:30.549581Z",
     "iopub.status.busy": "2025-07-28T19:56:30.546009Z",
     "iopub.status.idle": "2025-07-28T19:56:32.326786Z",
     "shell.execute_reply": "2025-07-28T19:56:32.324769Z"
    },
    "tags": [
     "remove-input"
    ]
   },
   "outputs": [
    {
     "data": {
      "text/html": [
       "<style type=\"text/css\">\n",
       "#T_2a71e th {\n",
       "  text-align: left;\n",
       "}\n",
       "#T_2a71e_row0_col0, #T_2a71e_row0_col1, #T_2a71e_row1_col0, #T_2a71e_row1_col1, #T_2a71e_row2_col0, #T_2a71e_row2_col1, #T_2a71e_row3_col0, #T_2a71e_row3_col1, #T_2a71e_row4_col0, #T_2a71e_row4_col1, #T_2a71e_row5_col0, #T_2a71e_row5_col1, #T_2a71e_row6_col0, #T_2a71e_row6_col1, #T_2a71e_row7_col0, #T_2a71e_row7_col1, #T_2a71e_row8_col0, #T_2a71e_row8_col1, #T_2a71e_row9_col0, #T_2a71e_row9_col1, #T_2a71e_row10_col0, #T_2a71e_row10_col1, #T_2a71e_row11_col0, #T_2a71e_row11_col1, #T_2a71e_row12_col0, #T_2a71e_row12_col1 {\n",
       "  text-align: left;\n",
       "}\n",
       "</style>\n",
       "<table id=\"T_2a71e\" style=\"font-size: 14px\">\n",
       "  <thead>\n",
       "    <tr>\n",
       "      <th id=\"T_2a71e_level0_col0\" class=\"col_heading level0 col0\" >Dataset Descriptor</th>\n",
       "      <th id=\"T_2a71e_level0_col1\" class=\"col_heading level0 col1\" >Dataset-specific Information</th>\n",
       "    </tr>\n",
       "  </thead>\n",
       "  <tbody>\n",
       "    <tr>\n",
       "      <td id=\"T_2a71e_row0_col0\" class=\"data row0 col0\" >Name of Dataset in TRE</td>\n",
       "      <td id=\"T_2a71e_row0_col1\" class=\"data row0 col1\" >NEXTSTEP_longitudinal_index_file</td>\n",
       "    </tr>\n",
       "    <tr>\n",
       "      <td id=\"T_2a71e_row1_col0\" class=\"data row1 col0\" >Citation (APA)</td>\n",
       "      <td id=\"T_2a71e_row1_col1\" class=\"data row1 col1\" >University College London, UCL Social Research Institute, Centre for Longitudinal Studies. (2021). <i>Next Steps: Longitudinal  index.</i> UK Longitudinal Linkage Collaboration (UK LLC).  <a href=\"https://doi.org/10.71760/ukllc-dataset-00261-01\" rel=\"noopener noreferrer\" target=\"_blank\">https://doi.org/10.71760/ukllc-dataset-00261-01</a></td>\n",
       "    </tr>\n",
       "    <tr>\n",
       "      <td id=\"T_2a71e_row2_col0\" class=\"data row2 col0\" >Download Citation</td>\n",
       "      <td id=\"T_2a71e_row2_col1\" class=\"data row2 col1\" > <a href=\"https://api.datacite.org/application/vnd.citationstyles.csl+json/10.71760/ukllc-dataset-00261-01\" rel=\"noopener noreferrer\" target=\"_blank\">Citeproc JSON</a>&nbsp;&nbsp;&nbsp;&nbsp; <a href=\"https://api.datacite.org/application/x-bibtex/10.71760/ukllc-dataset-00261-01\" rel=\"noopener noreferrer\" target=\"_blank\">BibTeX</a>&nbsp;&nbsp;&nbsp;&nbsp; <a href=\"https://api.datacite.org/application/x-research-info-systems/10.71760/ukllc-dataset-00261-01\" rel=\"noopener noreferrer\" target=\"_blank\">RIS</a></td>\n",
       "    </tr>\n",
       "    <tr>\n",
       "      <td id=\"T_2a71e_row3_col0\" class=\"data row3 col0\" >Series</td>\n",
       "      <td id=\"T_2a71e_row3_col1\" class=\"data row3 col1\" > <a href=\"https://guidebook.ukllc.ac.uk/docs/lps_data/lps%20profiles/NEXTSTEP\">Next Steps</a></td>\n",
       "    </tr>\n",
       "    <tr>\n",
       "      <td id=\"T_2a71e_row4_col0\" class=\"data row4 col0\" >Owner</td>\n",
       "      <td id=\"T_2a71e_row4_col1\" class=\"data row4 col1\" >UCL</td>\n",
       "    </tr>\n",
       "    <tr>\n",
       "      <td id=\"T_2a71e_row5_col0\" class=\"data row5 col0\" >Temporal Coverage</td>\n",
       "      <td id=\"T_2a71e_row5_col1\" class=\"data row5 col1\" >04/2004 - 10/2010</td>\n",
       "    </tr>\n",
       "    <tr>\n",
       "      <td id=\"T_2a71e_row6_col0\" class=\"data row6 col0\" >Keywords</td>\n",
       "      <td id=\"T_2a71e_row6_col1\" class=\"data row6 col1\" >Longitudinal,Demographics,Household,Family,Admin</td>\n",
       "    </tr>\n",
       "    <tr>\n",
       "      <td id=\"T_2a71e_row7_col0\" class=\"data row7 col0\" >Participants Invited</td>\n",
       "      <td id=\"T_2a71e_row7_col1\" class=\"data row7 col1\" >15770</td>\n",
       "    </tr>\n",
       "    <tr>\n",
       "      <td id=\"T_2a71e_row8_col0\" class=\"data row8 col0\" >Participant Count</td>\n",
       "      <td id=\"T_2a71e_row8_col1\" class=\"data row8 col1\" >6180</td>\n",
       "    </tr>\n",
       "    <tr>\n",
       "      <td id=\"T_2a71e_row9_col0\" class=\"data row9 col0\" >Number of variables</td>\n",
       "      <td id=\"T_2a71e_row9_col1\" class=\"data row9 col1\" >73</td>\n",
       "    </tr>\n",
       "    <tr>\n",
       "      <td id=\"T_2a71e_row10_col0\" class=\"data row10 col0\" >Number of observations</td>\n",
       "      <td id=\"T_2a71e_row10_col1\" class=\"data row10 col1\" >77115</td>\n",
       "    </tr>\n",
       "    <tr>\n",
       "      <td id=\"T_2a71e_row11_col0\" class=\"data row11 col0\" >Specific Restrictions to Data Use</td>\n",
       "      <td id=\"T_2a71e_row11_col1\" class=\"data row11 col1\" >None</td>\n",
       "    </tr>\n",
       "    <tr>\n",
       "      <td id=\"T_2a71e_row12_col0\" class=\"data row12 col0\" >Build a Data Request</td>\n",
       "      <td id=\"T_2a71e_row12_col1\" class=\"data row12 col1\" > <a href=\"https://explore.ukllc.ac.uk/\" rel=\"noopener noreferrer\" target=\"_blank\">https://explore.ukllc.ac.uk/</a></td>\n",
       "    </tr>\n",
       "  </tbody>\n",
       "</table>\n"
      ],
      "text/plain": [
       "<pandas.io.formats.style.Styler at 0x244a9dd1760>"
      ]
     },
     "execution_count": 3,
     "metadata": {},
     "output_type": "execute_result"
    }
   ],
   "source": [
    "ds.info_table()"
   ]
  },
  {
   "cell_type": "markdown",
   "id": "c8f264ac",
   "metadata": {},
   "source": [
    "## 2. Version History"
   ]
  },
  {
   "cell_type": "code",
   "execution_count": 4,
   "id": "fb041953",
   "metadata": {
    "execution": {
     "iopub.execute_input": "2025-07-28T19:56:32.335801Z",
     "iopub.status.busy": "2025-07-28T19:56:32.335801Z",
     "iopub.status.idle": "2025-07-28T19:56:37.675549Z",
     "shell.execute_reply": "2025-07-28T19:56:37.673512Z"
    },
    "tags": [
     "remove-input"
    ]
   },
   "outputs": [
    {
     "data": {
      "text/html": [
       "<style type=\"text/css\">\n",
       "#T_05521 th {\n",
       "  text-align: left;\n",
       "}\n",
       "#T_05521_row0_col0, #T_05521_row0_col1, #T_05521_row1_col0, #T_05521_row1_col1, #T_05521_row2_col0, #T_05521_row2_col1, #T_05521_row3_col0, #T_05521_row3_col1, #T_05521_row4_col0, #T_05521_row4_col1 {\n",
       "  text-align: left;\n",
       "}\n",
       "</style>\n",
       "<table id=\"T_05521\" style=\"font-size: 14px\">\n",
       "  <thead>\n",
       "    <tr>\n",
       "      <th id=\"T_05521_level0_col0\" class=\"col_heading level0 col0\" >Version</th>\n",
       "      <th id=\"T_05521_level0_col1\" class=\"col_heading level0 col1\" >1</th>\n",
       "    </tr>\n",
       "  </thead>\n",
       "  <tbody>\n",
       "    <tr>\n",
       "      <td id=\"T_05521_row0_col0\" class=\"data row0 col0\" >Version Date</td>\n",
       "      <td id=\"T_05521_row0_col1\" class=\"data row0 col1\" >01 Nov 2021</td>\n",
       "    </tr>\n",
       "    <tr>\n",
       "      <td id=\"T_05521_row1_col0\" class=\"data row1 col0\" >Number of Variables</td>\n",
       "      <td id=\"T_05521_row1_col1\" class=\"data row1 col1\" >73</td>\n",
       "    </tr>\n",
       "    <tr>\n",
       "      <td id=\"T_05521_row2_col0\" class=\"data row2 col0\" >Number of Observations</td>\n",
       "      <td id=\"T_05521_row2_col1\" class=\"data row2 col1\" >77115</td>\n",
       "    </tr>\n",
       "    <tr>\n",
       "      <td id=\"T_05521_row3_col0\" class=\"data row3 col0\" >DOI</td>\n",
       "      <td id=\"T_05521_row3_col1\" class=\"data row3 col1\" > <a href=\"https://doi.org/10.71760/ukllc-dataset-00261-01\" rel=\"noopener noreferrer\" target=\"_blank\">10.71760/ukllc-dataset-00261-01</a></td>\n",
       "    </tr>\n",
       "    <tr>\n",
       "      <td id=\"T_05521_row4_col0\" class=\"data row4 col0\" >Change Log</td>\n",
       "      <td id=\"T_05521_row4_col1\" class=\"data row4 col1\" > <a href=\"https://api.test.datacite.org/dois/10.71760/ukllc-dataset-00261-01/activities\" rel=\"noopener noreferrer\" target=\"_blank\">10.71760/ukllc-dataset-00261-01/activities</a></td>\n",
       "    </tr>\n",
       "  </tbody>\n",
       "</table>\n"
      ],
      "text/plain": [
       "<pandas.io.formats.style.Styler at 0x244a9e78590>"
      ]
     },
     "execution_count": 4,
     "metadata": {},
     "output_type": "execute_result"
    }
   ],
   "source": [
    "ds.version_history()"
   ]
  },
  {
   "cell_type": "markdown",
   "id": "18e52ece",
   "metadata": {},
   "source": [
    "## 3. Documentation"
   ]
  },
  {
   "cell_type": "code",
   "execution_count": 5,
   "id": "bb246127",
   "metadata": {
    "execution": {
     "iopub.execute_input": "2025-07-28T19:56:37.684519Z",
     "iopub.status.busy": "2025-07-28T19:56:37.683503Z",
     "iopub.status.idle": "2025-07-28T19:56:37.696806Z",
     "shell.execute_reply": "2025-07-28T19:56:37.694786Z"
    },
    "tags": [
     "remove-input"
    ]
   },
   "outputs": [
    {
     "data": {
      "text/markdown": [
       "We are currently building a documentation storage system which will host useful documents related to datasets and data owners. We will surface these documents on Guidebook."
      ],
      "text/plain": [
       "<IPython.core.display.Markdown object>"
      ]
     },
     "metadata": {},
     "output_type": "display_data"
    }
   ],
   "source": [
    "ds.documentation()"
   ]
  },
  {
   "cell_type": "markdown",
   "id": "8e1f8e29",
   "metadata": {},
   "source": [
    "## 4. Useful Syntax"
   ]
  },
  {
   "cell_type": "code",
   "execution_count": 6,
   "id": "f3115627",
   "metadata": {
    "execution": {
     "iopub.execute_input": "2025-07-28T19:56:37.704805Z",
     "iopub.status.busy": "2025-07-28T19:56:37.703804Z",
     "iopub.status.idle": "2025-07-28T19:56:37.715552Z",
     "shell.execute_reply": "2025-07-28T19:56:37.713804Z"
    },
    "tags": [
     "remove-input"
    ]
   },
   "outputs": [
    {
     "data": {
      "text/markdown": [
       "Below we will include syntax that may be helpful to other researchers in the UK LLC TRE. For longer scripts, we will include a snippet of the code plus a link to Git where you can find the full scripts."
      ],
      "text/plain": [
       "<IPython.core.display.Markdown object>"
      ]
     },
     "metadata": {},
     "output_type": "display_data"
    }
   ],
   "source": [
    "ds.useful_syntax()"
   ]
  }
 ],
 "metadata": {
  "language_info": {
   "codemirror_mode": {
    "name": "ipython",
    "version": 3
   },
   "file_extension": ".py",
   "mimetype": "text/x-python",
   "name": "python",
   "nbconvert_exporter": "python",
   "pygments_lexer": "ipython3",
   "version": "3.12.7"
  }
 },
 "nbformat": 4,
 "nbformat_minor": 5
}
