{
 "cells": [
  {
   "cell_type": "markdown",
   "id": "f4508498",
   "metadata": {},
   "source": [
    "# NS Household Grid Sweep 7 (NEXTSTEP)"
   ]
  },
  {
   "cell_type": "code",
   "execution_count": 1,
   "id": "758943e3",
   "metadata": {
    "execution": {
     "iopub.execute_input": "2025-07-28T20:06:04.715885Z",
     "iopub.status.busy": "2025-07-28T20:06:04.715885Z",
     "iopub.status.idle": "2025-07-28T20:06:16.397913Z",
     "shell.execute_reply": "2025-07-28T20:06:16.396354Z"
    },
    "tags": [
     "remove-input"
    ]
   },
   "outputs": [
    {
     "data": {
      "text/markdown": [
       ">Last modified: 28 Jul 2025"
      ],
      "text/plain": [
       "<IPython.core.display.Markdown object>"
      ]
     },
     "metadata": {},
     "output_type": "display_data"
    }
   ],
   "source": [
    "\n",
    "import sys\n",
    "import os\n",
    "sys.path.append(os.path.abspath('../../../../scripts/'))\n",
    "from data_doc_helper import LPSDataSet as DS, last_modified\n",
    "API_KEY = os.environ['FASTAPI_KEY']\n",
    "ds = DS(\"NEXTSTEP\", \"ns7_household_grid\")\n",
    "last_modified()\n"
   ]
  },
  {
   "cell_type": "markdown",
   "id": "0efc43a4",
   "metadata": {},
   "source": [
    "## 1. Summary"
   ]
  },
  {
   "cell_type": "code",
   "execution_count": 2,
   "id": "9ebf0b9a",
   "metadata": {
    "execution": {
     "iopub.execute_input": "2025-07-28T20:06:16.407912Z",
     "iopub.status.busy": "2025-07-28T20:06:16.406910Z",
     "iopub.status.idle": "2025-07-28T20:06:16.420789Z",
     "shell.execute_reply": "2025-07-28T20:06:16.418253Z"
    },
    "tags": [
     "remove-input"
    ]
   },
   "outputs": [
    {
     "data": {
      "text/markdown": [
       "Data was collected via a mixed mode approach (online, telephone or face-to-face) between May and October 2010. A summary of the content includes:  Household member identifier, Interview mode, Address check, Whether cohort member is still living at same address, Whether cohort member is still living with any of the same people as at last interview, Household member status, Sex of person, Relationship to cohort member"
      ],
      "text/plain": [
       "<IPython.core.display.Markdown object>"
      ]
     },
     "metadata": {},
     "output_type": "display_data"
    }
   ],
   "source": [
    "ds.summary()"
   ]
  },
  {
   "cell_type": "code",
   "execution_count": 3,
   "id": "ae7bc405",
   "metadata": {
    "execution": {
     "iopub.execute_input": "2025-07-28T20:06:16.428188Z",
     "iopub.status.busy": "2025-07-28T20:06:16.428188Z",
     "iopub.status.idle": "2025-07-28T20:06:18.206804Z",
     "shell.execute_reply": "2025-07-28T20:06:18.204786Z"
    },
    "tags": [
     "remove-input"
    ]
   },
   "outputs": [
    {
     "data": {
      "text/html": [
       "<style type=\"text/css\">\n",
       "#T_16fff th {\n",
       "  text-align: left;\n",
       "}\n",
       "#T_16fff_row0_col0, #T_16fff_row0_col1, #T_16fff_row1_col0, #T_16fff_row1_col1, #T_16fff_row2_col0, #T_16fff_row2_col1, #T_16fff_row3_col0, #T_16fff_row3_col1, #T_16fff_row4_col0, #T_16fff_row4_col1, #T_16fff_row5_col0, #T_16fff_row5_col1, #T_16fff_row6_col0, #T_16fff_row6_col1, #T_16fff_row7_col0, #T_16fff_row7_col1, #T_16fff_row8_col0, #T_16fff_row8_col1, #T_16fff_row9_col0, #T_16fff_row9_col1, #T_16fff_row10_col0, #T_16fff_row10_col1, #T_16fff_row11_col0, #T_16fff_row11_col1, #T_16fff_row12_col0, #T_16fff_row12_col1 {\n",
       "  text-align: left;\n",
       "}\n",
       "</style>\n",
       "<table id=\"T_16fff\" style=\"font-size: 14px\">\n",
       "  <thead>\n",
       "    <tr>\n",
       "      <th id=\"T_16fff_level0_col0\" class=\"col_heading level0 col0\" >Dataset Descriptor</th>\n",
       "      <th id=\"T_16fff_level0_col1\" class=\"col_heading level0 col1\" >Dataset-specific Information</th>\n",
       "    </tr>\n",
       "  </thead>\n",
       "  <tbody>\n",
       "    <tr>\n",
       "      <td id=\"T_16fff_row0_col0\" class=\"data row0 col0\" >Name of Dataset in TRE</td>\n",
       "      <td id=\"T_16fff_row0_col1\" class=\"data row0 col1\" >NEXTSTEP_ns7_household_grid</td>\n",
       "    </tr>\n",
       "    <tr>\n",
       "      <td id=\"T_16fff_row1_col0\" class=\"data row1 col0\" >Citation (APA)</td>\n",
       "      <td id=\"T_16fff_row1_col1\" class=\"data row1 col1\" >University College London, UCL Social Research Institute, Centre for Longitudinal Studies. (2021). <i>Next Steps: NS Household Grid Sweep 7.</i> UK Longitudinal Linkage Collaboration (UK LLC).  <a href=\"https://doi.org/10.71760/ukllc-dataset-00283-01\" rel=\"noopener noreferrer\" target=\"_blank\">https://doi.org/10.71760/ukllc-dataset-00283-01</a></td>\n",
       "    </tr>\n",
       "    <tr>\n",
       "      <td id=\"T_16fff_row2_col0\" class=\"data row2 col0\" >Download Citation</td>\n",
       "      <td id=\"T_16fff_row2_col1\" class=\"data row2 col1\" > <a href=\"https://api.datacite.org/application/vnd.citationstyles.csl+json/10.71760/ukllc-dataset-00283-01\" rel=\"noopener noreferrer\" target=\"_blank\">Citeproc JSON</a>&nbsp;&nbsp;&nbsp;&nbsp; <a href=\"https://api.datacite.org/application/x-bibtex/10.71760/ukllc-dataset-00283-01\" rel=\"noopener noreferrer\" target=\"_blank\">BibTeX</a>&nbsp;&nbsp;&nbsp;&nbsp; <a href=\"https://api.datacite.org/application/x-research-info-systems/10.71760/ukllc-dataset-00283-01\" rel=\"noopener noreferrer\" target=\"_blank\">RIS</a></td>\n",
       "    </tr>\n",
       "    <tr>\n",
       "      <td id=\"T_16fff_row3_col0\" class=\"data row3 col0\" >Series</td>\n",
       "      <td id=\"T_16fff_row3_col1\" class=\"data row3 col1\" > <a href=\"https://guidebook.ukllc.ac.uk/docs/lps_data/lps%20profiles/NEXTSTEP\">Next Steps</a></td>\n",
       "    </tr>\n",
       "    <tr>\n",
       "      <td id=\"T_16fff_row4_col0\" class=\"data row4 col0\" >Owner</td>\n",
       "      <td id=\"T_16fff_row4_col1\" class=\"data row4 col1\" >UCL</td>\n",
       "    </tr>\n",
       "    <tr>\n",
       "      <td id=\"T_16fff_row5_col0\" class=\"data row5 col0\" >Temporal Coverage</td>\n",
       "      <td id=\"T_16fff_row5_col1\" class=\"data row5 col1\" >05/2010 - 10/2010</td>\n",
       "    </tr>\n",
       "    <tr>\n",
       "      <td id=\"T_16fff_row6_col0\" class=\"data row6 col0\" >Keywords</td>\n",
       "      <td id=\"T_16fff_row6_col1\" class=\"data row6 col1\" >Health,Education,Employment,Attitudes,Partners</td>\n",
       "    </tr>\n",
       "    <tr>\n",
       "      <td id=\"T_16fff_row7_col0\" class=\"data row7 col0\" >Participants Invited</td>\n",
       "      <td id=\"T_16fff_row7_col1\" class=\"data row7 col1\" >8682</td>\n",
       "    </tr>\n",
       "    <tr>\n",
       "      <td id=\"T_16fff_row8_col0\" class=\"data row8 col0\" >Participant Count</td>\n",
       "      <td id=\"T_16fff_row8_col1\" class=\"data row8 col1\" >4586</td>\n",
       "    </tr>\n",
       "    <tr>\n",
       "      <td id=\"T_16fff_row9_col0\" class=\"data row9 col0\" >Number of variables</td>\n",
       "      <td id=\"T_16fff_row9_col1\" class=\"data row9 col1\" >12</td>\n",
       "    </tr>\n",
       "    <tr>\n",
       "      <td id=\"T_16fff_row10_col0\" class=\"data row10 col0\" >Number of observations</td>\n",
       "      <td id=\"T_16fff_row10_col1\" class=\"data row10 col1\" >44875</td>\n",
       "    </tr>\n",
       "    <tr>\n",
       "      <td id=\"T_16fff_row11_col0\" class=\"data row11 col0\" >Specific Restrictions to Data Use</td>\n",
       "      <td id=\"T_16fff_row11_col1\" class=\"data row11 col1\" >None</td>\n",
       "    </tr>\n",
       "    <tr>\n",
       "      <td id=\"T_16fff_row12_col0\" class=\"data row12 col0\" >Build a Data Request</td>\n",
       "      <td id=\"T_16fff_row12_col1\" class=\"data row12 col1\" > <a href=\"https://explore.ukllc.ac.uk/\" rel=\"noopener noreferrer\" target=\"_blank\">https://explore.ukllc.ac.uk/</a></td>\n",
       "    </tr>\n",
       "  </tbody>\n",
       "</table>\n"
      ],
      "text/plain": [
       "<pandas.io.formats.style.Styler at 0x1e5d4def9e0>"
      ]
     },
     "execution_count": 3,
     "metadata": {},
     "output_type": "execute_result"
    }
   ],
   "source": [
    "ds.info_table()"
   ]
  },
  {
   "cell_type": "markdown",
   "id": "466bc33a",
   "metadata": {},
   "source": [
    "## 2. Version History"
   ]
  },
  {
   "cell_type": "code",
   "execution_count": 4,
   "id": "d50c080a",
   "metadata": {
    "execution": {
     "iopub.execute_input": "2025-07-28T20:06:18.215803Z",
     "iopub.status.busy": "2025-07-28T20:06:18.214804Z",
     "iopub.status.idle": "2025-07-28T20:06:23.943555Z",
     "shell.execute_reply": "2025-07-28T20:06:23.942534Z"
    },
    "tags": [
     "remove-input"
    ]
   },
   "outputs": [
    {
     "data": {
      "text/html": [
       "<style type=\"text/css\">\n",
       "#T_620be th {\n",
       "  text-align: left;\n",
       "}\n",
       "#T_620be_row0_col0, #T_620be_row0_col1, #T_620be_row1_col0, #T_620be_row1_col1, #T_620be_row2_col0, #T_620be_row2_col1, #T_620be_row3_col0, #T_620be_row3_col1, #T_620be_row4_col0, #T_620be_row4_col1 {\n",
       "  text-align: left;\n",
       "}\n",
       "</style>\n",
       "<table id=\"T_620be\" style=\"font-size: 14px\">\n",
       "  <thead>\n",
       "    <tr>\n",
       "      <th id=\"T_620be_level0_col0\" class=\"col_heading level0 col0\" >Version</th>\n",
       "      <th id=\"T_620be_level0_col1\" class=\"col_heading level0 col1\" >1</th>\n",
       "    </tr>\n",
       "  </thead>\n",
       "  <tbody>\n",
       "    <tr>\n",
       "      <td id=\"T_620be_row0_col0\" class=\"data row0 col0\" >Version Date</td>\n",
       "      <td id=\"T_620be_row0_col1\" class=\"data row0 col1\" >01 Nov 2021</td>\n",
       "    </tr>\n",
       "    <tr>\n",
       "      <td id=\"T_620be_row1_col0\" class=\"data row1 col0\" >Number of Variables</td>\n",
       "      <td id=\"T_620be_row1_col1\" class=\"data row1 col1\" >12</td>\n",
       "    </tr>\n",
       "    <tr>\n",
       "      <td id=\"T_620be_row2_col0\" class=\"data row2 col0\" >Number of Observations</td>\n",
       "      <td id=\"T_620be_row2_col1\" class=\"data row2 col1\" >44875</td>\n",
       "    </tr>\n",
       "    <tr>\n",
       "      <td id=\"T_620be_row3_col0\" class=\"data row3 col0\" >DOI</td>\n",
       "      <td id=\"T_620be_row3_col1\" class=\"data row3 col1\" > <a href=\"https://doi.org/10.71760/ukllc-dataset-00283-01\" rel=\"noopener noreferrer\" target=\"_blank\">10.71760/ukllc-dataset-00283-01</a></td>\n",
       "    </tr>\n",
       "    <tr>\n",
       "      <td id=\"T_620be_row4_col0\" class=\"data row4 col0\" >Change Log</td>\n",
       "      <td id=\"T_620be_row4_col1\" class=\"data row4 col1\" > <a href=\"https://api.test.datacite.org/dois/10.71760/ukllc-dataset-00283-01/activities\" rel=\"noopener noreferrer\" target=\"_blank\">10.71760/ukllc-dataset-00283-01/activities</a></td>\n",
       "    </tr>\n",
       "  </tbody>\n",
       "</table>\n"
      ],
      "text/plain": [
       "<pandas.io.formats.style.Styler at 0x1e5d553bf50>"
      ]
     },
     "execution_count": 4,
     "metadata": {},
     "output_type": "execute_result"
    }
   ],
   "source": [
    "ds.version_history()"
   ]
  },
  {
   "cell_type": "markdown",
   "id": "922e1b26",
   "metadata": {},
   "source": [
    "## 3. Documentation"
   ]
  },
  {
   "cell_type": "code",
   "execution_count": 5,
   "id": "3c822d58",
   "metadata": {
    "execution": {
     "iopub.execute_input": "2025-07-28T20:06:23.952852Z",
     "iopub.status.busy": "2025-07-28T20:06:23.951835Z",
     "iopub.status.idle": "2025-07-28T20:06:23.964373Z",
     "shell.execute_reply": "2025-07-28T20:06:23.962354Z"
    },
    "tags": [
     "remove-input"
    ]
   },
   "outputs": [
    {
     "data": {
      "text/markdown": [
       "We are currently building a documentation storage system which will host useful documents related to datasets and data owners. We will surface these documents on Guidebook."
      ],
      "text/plain": [
       "<IPython.core.display.Markdown object>"
      ]
     },
     "metadata": {},
     "output_type": "display_data"
    }
   ],
   "source": [
    "ds.documentation()"
   ]
  },
  {
   "cell_type": "markdown",
   "id": "7a1919a2",
   "metadata": {},
   "source": [
    "## 4. Useful Syntax"
   ]
  },
  {
   "cell_type": "code",
   "execution_count": 6,
   "id": "8cc93bad",
   "metadata": {
    "execution": {
     "iopub.execute_input": "2025-07-28T20:06:23.969454Z",
     "iopub.status.busy": "2025-07-28T20:06:23.969454Z",
     "iopub.status.idle": "2025-07-28T20:06:23.976005Z",
     "shell.execute_reply": "2025-07-28T20:06:23.976005Z"
    },
    "tags": [
     "remove-input"
    ]
   },
   "outputs": [
    {
     "data": {
      "text/markdown": [
       "Below we will include syntax that may be helpful to other researchers in the UK LLC TRE. For longer scripts, we will include a snippet of the code plus a link to Git where you can find the full scripts."
      ],
      "text/plain": [
       "<IPython.core.display.Markdown object>"
      ]
     },
     "metadata": {},
     "output_type": "display_data"
    }
   ],
   "source": [
    "ds.useful_syntax()"
   ]
  }
 ],
 "metadata": {
  "language_info": {
   "codemirror_mode": {
    "name": "ipython",
    "version": 3
   },
   "file_extension": ".py",
   "mimetype": "text/x-python",
   "name": "python",
   "nbconvert_exporter": "python",
   "pygments_lexer": "ipython3",
   "version": "3.12.7"
  }
 },
 "nbformat": 4,
 "nbformat_minor": 5
}
