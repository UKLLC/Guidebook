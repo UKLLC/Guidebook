{
 "cells": [
  {
   "cell_type": "markdown",
   "id": "13b42472",
   "metadata": {},
   "source": [
    "# NS Sweep 6 (NEXTSTEP)"
   ]
  },
  {
   "cell_type": "code",
   "execution_count": 1,
   "id": "7927f4da",
   "metadata": {
    "execution": {
     "iopub.execute_input": "2025-07-28T20:04:50.894737Z",
     "iopub.status.busy": "2025-07-28T20:04:50.894737Z",
     "iopub.status.idle": "2025-07-28T20:05:03.121430Z",
     "shell.execute_reply": "2025-07-28T20:05:03.119313Z"
    },
    "tags": [
     "remove-input"
    ]
   },
   "outputs": [
    {
     "data": {
      "text/markdown": [
       ">Last modified: 28 Jul 2025"
      ],
      "text/plain": [
       "<IPython.core.display.Markdown object>"
      ]
     },
     "metadata": {},
     "output_type": "display_data"
    }
   ],
   "source": [
    "\n",
    "import sys\n",
    "import os\n",
    "sys.path.append(os.path.abspath('../../../../scripts/'))\n",
    "from data_doc_helper import LPSDataSet as DS, last_modified\n",
    "API_KEY = os.environ['FASTAPI_KEY']\n",
    "ds = DS(\"NEXTSTEP\", \"ns6\")\n",
    "last_modified()\n"
   ]
  },
  {
   "cell_type": "markdown",
   "id": "9aa23e1b",
   "metadata": {},
   "source": [
    "## 1. Summary"
   ]
  },
  {
   "cell_type": "code",
   "execution_count": 2,
   "id": "6f82727e",
   "metadata": {
    "execution": {
     "iopub.execute_input": "2025-07-28T20:05:03.130747Z",
     "iopub.status.busy": "2025-07-28T20:05:03.129756Z",
     "iopub.status.idle": "2025-07-28T20:05:03.141893Z",
     "shell.execute_reply": "2025-07-28T20:05:03.141381Z"
    },
    "tags": [
     "remove-input"
    ]
   },
   "outputs": [
    {
     "data": {
      "text/markdown": [
       "Data was collected via a mixed mode approach (online, telephone or face-to-face) between May and October 2009. Questions cover: Demographics,Health and disability,Information, advice and guidance,Risk factors (truancy, bullying, smoking, drugs),Childcare and caring responsibilities,Knowledge of and intentions towards apprenticeships and related schemes,Current activities,Qualifications being studied for,Attitudes to higher education,Attitudes to debt,Attitudes to work,Higher education,Potential higher education students,Jobs and training,Apprenticeships,NEET,Care to learn,Income and benefits"
      ],
      "text/plain": [
       "<IPython.core.display.Markdown object>"
      ]
     },
     "metadata": {},
     "output_type": "display_data"
    }
   ],
   "source": [
    "ds.summary()"
   ]
  },
  {
   "cell_type": "code",
   "execution_count": 3,
   "id": "cb7b965d",
   "metadata": {
    "execution": {
     "iopub.execute_input": "2025-07-28T20:05:03.149403Z",
     "iopub.status.busy": "2025-07-28T20:05:03.148399Z",
     "iopub.status.idle": "2025-07-28T20:05:05.222312Z",
     "shell.execute_reply": "2025-07-28T20:05:05.221079Z"
    },
    "tags": [
     "remove-input"
    ]
   },
   "outputs": [
    {
     "data": {
      "text/html": [
       "<style type=\"text/css\">\n",
       "#T_8a06b th {\n",
       "  text-align: left;\n",
       "}\n",
       "#T_8a06b_row0_col0, #T_8a06b_row0_col1, #T_8a06b_row1_col0, #T_8a06b_row1_col1, #T_8a06b_row2_col0, #T_8a06b_row2_col1, #T_8a06b_row3_col0, #T_8a06b_row3_col1, #T_8a06b_row4_col0, #T_8a06b_row4_col1, #T_8a06b_row5_col0, #T_8a06b_row5_col1, #T_8a06b_row6_col0, #T_8a06b_row6_col1, #T_8a06b_row7_col0, #T_8a06b_row7_col1, #T_8a06b_row8_col0, #T_8a06b_row8_col1, #T_8a06b_row9_col0, #T_8a06b_row9_col1, #T_8a06b_row10_col0, #T_8a06b_row10_col1, #T_8a06b_row11_col0, #T_8a06b_row11_col1, #T_8a06b_row12_col0, #T_8a06b_row12_col1 {\n",
       "  text-align: left;\n",
       "}\n",
       "</style>\n",
       "<table id=\"T_8a06b\" style=\"font-size: 14px\">\n",
       "  <thead>\n",
       "    <tr>\n",
       "      <th id=\"T_8a06b_level0_col0\" class=\"col_heading level0 col0\" >Dataset Descriptor</th>\n",
       "      <th id=\"T_8a06b_level0_col1\" class=\"col_heading level0 col1\" >Dataset-specific Information</th>\n",
       "    </tr>\n",
       "  </thead>\n",
       "  <tbody>\n",
       "    <tr>\n",
       "      <td id=\"T_8a06b_row0_col0\" class=\"data row0 col0\" >Name of Dataset in TRE</td>\n",
       "      <td id=\"T_8a06b_row0_col1\" class=\"data row0 col1\" >NEXTSTEP_ns6</td>\n",
       "    </tr>\n",
       "    <tr>\n",
       "      <td id=\"T_8a06b_row1_col0\" class=\"data row1 col0\" >Citation (APA)</td>\n",
       "      <td id=\"T_8a06b_row1_col1\" class=\"data row1 col1\" >University College London, UCL Social Research Institute, Centre for Longitudinal Studies. (2021). <i>Next Steps: NS Sweep 6.</i> UK Longitudinal Linkage Collaboration (UK LLC).  <a href=\"https://doi.org/10.71760/ukllc-dataset-00282-01\" rel=\"noopener noreferrer\" target=\"_blank\">https://doi.org/10.71760/ukllc-dataset-00282-01</a></td>\n",
       "    </tr>\n",
       "    <tr>\n",
       "      <td id=\"T_8a06b_row2_col0\" class=\"data row2 col0\" >Download Citation</td>\n",
       "      <td id=\"T_8a06b_row2_col1\" class=\"data row2 col1\" > <a href=\"https://api.datacite.org/application/vnd.citationstyles.csl+json/10.71760/ukllc-dataset-00282-01\" rel=\"noopener noreferrer\" target=\"_blank\">Citeproc JSON</a>&nbsp;&nbsp;&nbsp;&nbsp; <a href=\"https://api.datacite.org/application/x-bibtex/10.71760/ukllc-dataset-00282-01\" rel=\"noopener noreferrer\" target=\"_blank\">BibTeX</a>&nbsp;&nbsp;&nbsp;&nbsp; <a href=\"https://api.datacite.org/application/x-research-info-systems/10.71760/ukllc-dataset-00282-01\" rel=\"noopener noreferrer\" target=\"_blank\">RIS</a></td>\n",
       "    </tr>\n",
       "    <tr>\n",
       "      <td id=\"T_8a06b_row3_col0\" class=\"data row3 col0\" >Series</td>\n",
       "      <td id=\"T_8a06b_row3_col1\" class=\"data row3 col1\" > <a href=\"https://guidebook.ukllc.ac.uk/docs/lps_data/lps%20profiles/NEXTSTEP\">Next Steps</a></td>\n",
       "    </tr>\n",
       "    <tr>\n",
       "      <td id=\"T_8a06b_row4_col0\" class=\"data row4 col0\" >Owner</td>\n",
       "      <td id=\"T_8a06b_row4_col1\" class=\"data row4 col1\" >UCL</td>\n",
       "    </tr>\n",
       "    <tr>\n",
       "      <td id=\"T_8a06b_row5_col0\" class=\"data row5 col0\" >Temporal Coverage</td>\n",
       "      <td id=\"T_8a06b_row5_col1\" class=\"data row5 col1\" >05/2009 - 10/2009</td>\n",
       "    </tr>\n",
       "    <tr>\n",
       "      <td id=\"T_8a06b_row6_col0\" class=\"data row6 col0\" >Keywords</td>\n",
       "      <td id=\"T_8a06b_row6_col1\" class=\"data row6 col1\" >Health,Education,Employment,Attitudes,Partners</td>\n",
       "    </tr>\n",
       "    <tr>\n",
       "      <td id=\"T_8a06b_row7_col0\" class=\"data row7 col0\" >Participants Invited</td>\n",
       "      <td id=\"T_8a06b_row7_col1\" class=\"data row7 col1\" >9799</td>\n",
       "    </tr>\n",
       "    <tr>\n",
       "      <td id=\"T_8a06b_row8_col0\" class=\"data row8 col0\" >Participant Count</td>\n",
       "      <td id=\"T_8a06b_row8_col1\" class=\"data row8 col1\" >4938</td>\n",
       "    </tr>\n",
       "    <tr>\n",
       "      <td id=\"T_8a06b_row9_col0\" class=\"data row9 col0\" >Number of variables</td>\n",
       "      <td id=\"T_8a06b_row9_col1\" class=\"data row9 col1\" >762</td>\n",
       "    </tr>\n",
       "    <tr>\n",
       "      <td id=\"T_8a06b_row10_col0\" class=\"data row10 col0\" >Number of observations</td>\n",
       "      <td id=\"T_8a06b_row10_col1\" class=\"data row10 col1\" >9583</td>\n",
       "    </tr>\n",
       "    <tr>\n",
       "      <td id=\"T_8a06b_row11_col0\" class=\"data row11 col0\" >Specific Restrictions to Data Use</td>\n",
       "      <td id=\"T_8a06b_row11_col1\" class=\"data row11 col1\" >None</td>\n",
       "    </tr>\n",
       "    <tr>\n",
       "      <td id=\"T_8a06b_row12_col0\" class=\"data row12 col0\" >Build a Data Request</td>\n",
       "      <td id=\"T_8a06b_row12_col1\" class=\"data row12 col1\" > <a href=\"https://explore.ukllc.ac.uk/\" rel=\"noopener noreferrer\" target=\"_blank\">https://explore.ukllc.ac.uk/</a></td>\n",
       "    </tr>\n",
       "  </tbody>\n",
       "</table>\n"
      ],
      "text/plain": [
       "<pandas.io.formats.style.Styler at 0x14db459d6a0>"
      ]
     },
     "execution_count": 3,
     "metadata": {},
     "output_type": "execute_result"
    }
   ],
   "source": [
    "ds.info_table()"
   ]
  },
  {
   "cell_type": "markdown",
   "id": "b8f82f43",
   "metadata": {},
   "source": [
    "## 2. Version History"
   ]
  },
  {
   "cell_type": "code",
   "execution_count": 4,
   "id": "b9d123c2",
   "metadata": {
    "execution": {
     "iopub.execute_input": "2025-07-28T20:05:05.230439Z",
     "iopub.status.busy": "2025-07-28T20:05:05.229439Z",
     "iopub.status.idle": "2025-07-28T20:05:10.462270Z",
     "shell.execute_reply": "2025-07-28T20:05:10.458074Z"
    },
    "tags": [
     "remove-input"
    ]
   },
   "outputs": [
    {
     "data": {
      "text/html": [
       "<style type=\"text/css\">\n",
       "#T_0cd2d th {\n",
       "  text-align: left;\n",
       "}\n",
       "#T_0cd2d_row0_col0, #T_0cd2d_row0_col1, #T_0cd2d_row1_col0, #T_0cd2d_row1_col1, #T_0cd2d_row2_col0, #T_0cd2d_row2_col1, #T_0cd2d_row3_col0, #T_0cd2d_row3_col1, #T_0cd2d_row4_col0, #T_0cd2d_row4_col1 {\n",
       "  text-align: left;\n",
       "}\n",
       "</style>\n",
       "<table id=\"T_0cd2d\" style=\"font-size: 14px\">\n",
       "  <thead>\n",
       "    <tr>\n",
       "      <th id=\"T_0cd2d_level0_col0\" class=\"col_heading level0 col0\" >Version</th>\n",
       "      <th id=\"T_0cd2d_level0_col1\" class=\"col_heading level0 col1\" >1</th>\n",
       "    </tr>\n",
       "  </thead>\n",
       "  <tbody>\n",
       "    <tr>\n",
       "      <td id=\"T_0cd2d_row0_col0\" class=\"data row0 col0\" >Version Date</td>\n",
       "      <td id=\"T_0cd2d_row0_col1\" class=\"data row0 col1\" >01 Nov 2021</td>\n",
       "    </tr>\n",
       "    <tr>\n",
       "      <td id=\"T_0cd2d_row1_col0\" class=\"data row1 col0\" >Number of Variables</td>\n",
       "      <td id=\"T_0cd2d_row1_col1\" class=\"data row1 col1\" >762</td>\n",
       "    </tr>\n",
       "    <tr>\n",
       "      <td id=\"T_0cd2d_row2_col0\" class=\"data row2 col0\" >Number of Observations</td>\n",
       "      <td id=\"T_0cd2d_row2_col1\" class=\"data row2 col1\" >9583</td>\n",
       "    </tr>\n",
       "    <tr>\n",
       "      <td id=\"T_0cd2d_row3_col0\" class=\"data row3 col0\" >DOI</td>\n",
       "      <td id=\"T_0cd2d_row3_col1\" class=\"data row3 col1\" > <a href=\"https://doi.org/10.71760/ukllc-dataset-00282-01\" rel=\"noopener noreferrer\" target=\"_blank\">10.71760/ukllc-dataset-00282-01</a></td>\n",
       "    </tr>\n",
       "    <tr>\n",
       "      <td id=\"T_0cd2d_row4_col0\" class=\"data row4 col0\" >Change Log</td>\n",
       "      <td id=\"T_0cd2d_row4_col1\" class=\"data row4 col1\" > <a href=\"https://api.test.datacite.org/dois/10.71760/ukllc-dataset-00282-01/activities\" rel=\"noopener noreferrer\" target=\"_blank\">10.71760/ukllc-dataset-00282-01/activities</a></td>\n",
       "    </tr>\n",
       "  </tbody>\n",
       "</table>\n"
      ],
      "text/plain": [
       "<pandas.io.formats.style.Styler at 0x14db44fe480>"
      ]
     },
     "execution_count": 4,
     "metadata": {},
     "output_type": "execute_result"
    }
   ],
   "source": [
    "ds.version_history()"
   ]
  },
  {
   "cell_type": "markdown",
   "id": "0d6cf8fb",
   "metadata": {},
   "source": [
    "## 3. Documentation"
   ]
  },
  {
   "cell_type": "code",
   "execution_count": 5,
   "id": "19f3a5e3",
   "metadata": {
    "execution": {
     "iopub.execute_input": "2025-07-28T20:05:10.480259Z",
     "iopub.status.busy": "2025-07-28T20:05:10.479282Z",
     "iopub.status.idle": "2025-07-28T20:05:10.507235Z",
     "shell.execute_reply": "2025-07-28T20:05:10.502195Z"
    },
    "tags": [
     "remove-input"
    ]
   },
   "outputs": [
    {
     "data": {
      "text/markdown": [
       "We are currently building a documentation storage system which will host useful documents related to datasets and data owners. We will surface these documents on Guidebook."
      ],
      "text/plain": [
       "<IPython.core.display.Markdown object>"
      ]
     },
     "metadata": {},
     "output_type": "display_data"
    }
   ],
   "source": [
    "ds.documentation()"
   ]
  },
  {
   "cell_type": "markdown",
   "id": "8f925e3e",
   "metadata": {},
   "source": [
    "## 4. Useful Syntax"
   ]
  },
  {
   "cell_type": "code",
   "execution_count": 6,
   "id": "0f9ca7d9",
   "metadata": {
    "execution": {
     "iopub.execute_input": "2025-07-28T20:05:10.518283Z",
     "iopub.status.busy": "2025-07-28T20:05:10.517248Z",
     "iopub.status.idle": "2025-07-28T20:05:10.530027Z",
     "shell.execute_reply": "2025-07-28T20:05:10.528580Z"
    },
    "tags": [
     "remove-input"
    ]
   },
   "outputs": [
    {
     "data": {
      "text/markdown": [
       "Below we will include syntax that may be helpful to other researchers in the UK LLC TRE. For longer scripts, we will include a snippet of the code plus a link to Git where you can find the full scripts."
      ],
      "text/plain": [
       "<IPython.core.display.Markdown object>"
      ]
     },
     "metadata": {},
     "output_type": "display_data"
    }
   ],
   "source": [
    "ds.useful_syntax()"
   ]
  }
 ],
 "metadata": {
  "language_info": {
   "codemirror_mode": {
    "name": "ipython",
    "version": 3
   },
   "file_extension": ".py",
   "mimetype": "text/x-python",
   "name": "python",
   "nbconvert_exporter": "python",
   "pygments_lexer": "ipython3",
   "version": "3.12.7"
  }
 },
 "nbformat": 4,
 "nbformat_minor": 5
}
