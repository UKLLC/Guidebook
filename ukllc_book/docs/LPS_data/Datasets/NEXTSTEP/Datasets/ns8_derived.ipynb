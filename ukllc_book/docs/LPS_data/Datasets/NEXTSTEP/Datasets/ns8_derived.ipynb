{
 "cells": [
  {
   "cell_type": "markdown",
   "id": "a49958b8",
   "metadata": {},
   "source": [
    "# NS Derived Sweep 8 (NEXTSTEP)"
   ]
  },
  {
   "cell_type": "code",
   "execution_count": 1,
   "id": "dc594d49",
   "metadata": {
    "execution": {
     "iopub.execute_input": "2025-07-28T20:07:48.752066Z",
     "iopub.status.busy": "2025-07-28T20:07:48.750850Z",
     "iopub.status.idle": "2025-07-28T20:08:03.235859Z",
     "shell.execute_reply": "2025-07-28T20:08:03.233840Z"
    },
    "tags": [
     "remove-input"
    ]
   },
   "outputs": [
    {
     "data": {
      "text/markdown": [
       ">Last modified: 28 Jul 2025"
      ],
      "text/plain": [
       "<IPython.core.display.Markdown object>"
      ]
     },
     "metadata": {},
     "output_type": "display_data"
    }
   ],
   "source": [
    "\n",
    "import sys\n",
    "import os\n",
    "sys.path.append(os.path.abspath('../../../../scripts/'))\n",
    "from data_doc_helper import LPSDataSet as DS, last_modified\n",
    "API_KEY = os.environ['FASTAPI_KEY']\n",
    "ds = DS(\"NEXTSTEP\", \"ns8_derived\")\n",
    "last_modified()\n"
   ]
  },
  {
   "cell_type": "markdown",
   "id": "21b10448",
   "metadata": {},
   "source": [
    "## 1. Summary"
   ]
  },
  {
   "cell_type": "code",
   "execution_count": 2,
   "id": "1fb701f1",
   "metadata": {
    "execution": {
     "iopub.execute_input": "2025-07-28T20:08:03.244851Z",
     "iopub.status.busy": "2025-07-28T20:08:03.244851Z",
     "iopub.status.idle": "2025-07-28T20:08:03.257053Z",
     "shell.execute_reply": "2025-07-28T20:08:03.256037Z"
    },
    "tags": [
     "remove-input"
    ]
   },
   "outputs": [
    {
     "data": {
      "text/markdown": [
       "Data was collected via a mixed mode approach (online, telephone or face-to-face) between August 2015 and September 2016. Derived variables have been included under the following modules:Household Relationships: W8DHSIZE DV: Number of people currently living in household (inc CM) W8DCHNO DV: Number of children currently living in household W8DCHOWNNO DV: Number of own children currently living in household W8DCHPARNO DV: Number of children of CM's current or previous partner in household W8DFATHER DV: Whether CM's father in household W8DMOTHER DV: Whether CM's mother in household W8DMARSTAT DV: Legal marital status W8DNRAGE DV: Age of CM's partner W8DPARAGE DV: Age of biological parent W8DNCHRAGE DV: Age of own children W8DAGEYCH DV: Age of CM's youngest child W8DCHNO4 DV: Number of own children between 0 and 4 W8DCHNO11 DV: Number of own children between 5 and 11. Housing: W8DTIMAD DV: Time at current address (months). Employment: W8DACTIVITYC DV: Current activity of CM - backcoded W8DWRK DV: Whether CM currently employed - backcoded W8DEMPSZ DV: Employment status/size of organisation for cohort member W8DNSSEC17 DV: NS-SEC (2010) (Full operational categories) W8DNSSEC13 DV: NS-SEC (2010) 13 (Combined operational categories) W8DNSSEC8 DV: NS-SEC (2010) 7 (Analytic classes) W8DNSSEC5 DV: NS-SEC (2010) 5 (Analytic classes) W8DWRKP DV: Whether CM's partner currently employed - backcoded W8DDACTIVITYP DV: Current activity of CM's partner W8DWRKCP DV: Combined labour market status - backcoded. Finance: W8DBENE DV: Whether cohort member or partner receives any benefits W8DBENE2 DV: Whether cohort member or partner receives any benefits (incl extra split). Education: W8DANVQH DV: Highest NVQ level from an academic qualification in 2015 W8DHANVQH DV: Highest NVQ level from an academic qualification to 2015 W8DDEGP DV: Whether achieved first degree or higher W8DRUSSELL DV: Whether degree awarded by Russell Group University W8HESUBGROUP DV: Degree subject (grouped). Health: W8DBMI DV: Body mass index W8DBMICA DV: Body mass index category. Identity: W8DETHN6 DV: Ethnic group - 6 category census class W8DETHN8 DV: Ethnic group - 8 category census class W8DETHN11 DV: Ethnic group - 11 category census class W8DETHN15 DV: Ethnic group - Detailed W8DETHNP6 DV: Ethnic group of CM's partner - 6 category census class W8DETHNP8 DV: Ethnic group of CM's partner - 8 category census class W8DETHNP11 DV: Ethnic group of CM's partner - 11 category census class W8DETHNP15 DV: Ethnic group of CM's partner - Detailed W8DRELIG7 DV: Religion - 7 category. Self-completion: W8DCANEVER DV: Whether CM has ever tried cannabis W8DSEXEVER DV: Whether CM has ever had sex W8DPREG DV: Whether CM has ever been pregnant."
      ],
      "text/plain": [
       "<IPython.core.display.Markdown object>"
      ]
     },
     "metadata": {},
     "output_type": "display_data"
    }
   ],
   "source": [
    "ds.summary()"
   ]
  },
  {
   "cell_type": "code",
   "execution_count": 3,
   "id": "b541e99c",
   "metadata": {
    "execution": {
     "iopub.execute_input": "2025-07-28T20:08:03.262897Z",
     "iopub.status.busy": "2025-07-28T20:08:03.261886Z",
     "iopub.status.idle": "2025-07-28T20:08:05.077989Z",
     "shell.execute_reply": "2025-07-28T20:08:05.074987Z"
    },
    "tags": [
     "remove-input"
    ]
   },
   "outputs": [
    {
     "data": {
      "text/html": [
       "<style type=\"text/css\">\n",
       "#T_e0696 th {\n",
       "  text-align: left;\n",
       "}\n",
       "#T_e0696_row0_col0, #T_e0696_row0_col1, #T_e0696_row1_col0, #T_e0696_row1_col1, #T_e0696_row2_col0, #T_e0696_row2_col1, #T_e0696_row3_col0, #T_e0696_row3_col1, #T_e0696_row4_col0, #T_e0696_row4_col1, #T_e0696_row5_col0, #T_e0696_row5_col1, #T_e0696_row6_col0, #T_e0696_row6_col1, #T_e0696_row7_col0, #T_e0696_row7_col1, #T_e0696_row8_col0, #T_e0696_row8_col1, #T_e0696_row9_col0, #T_e0696_row9_col1, #T_e0696_row10_col0, #T_e0696_row10_col1, #T_e0696_row11_col0, #T_e0696_row11_col1, #T_e0696_row12_col0, #T_e0696_row12_col1 {\n",
       "  text-align: left;\n",
       "}\n",
       "</style>\n",
       "<table id=\"T_e0696\" style=\"font-size: 14px\">\n",
       "  <thead>\n",
       "    <tr>\n",
       "      <th id=\"T_e0696_level0_col0\" class=\"col_heading level0 col0\" >Dataset Descriptor</th>\n",
       "      <th id=\"T_e0696_level0_col1\" class=\"col_heading level0 col1\" >Dataset-specific Information</th>\n",
       "    </tr>\n",
       "  </thead>\n",
       "  <tbody>\n",
       "    <tr>\n",
       "      <td id=\"T_e0696_row0_col0\" class=\"data row0 col0\" >Name of Dataset in TRE</td>\n",
       "      <td id=\"T_e0696_row0_col1\" class=\"data row0 col1\" >NEXTSTEP_ns8_derived</td>\n",
       "    </tr>\n",
       "    <tr>\n",
       "      <td id=\"T_e0696_row1_col0\" class=\"data row1 col0\" >Citation (APA)</td>\n",
       "      <td id=\"T_e0696_row1_col1\" class=\"data row1 col1\" >University College London, UCL Social Research Institute, Centre for Longitudinal Studies. (2021). <i>Next Steps: NS Derived Sweep 8.</i> UK Longitudinal Linkage Collaboration (UK LLC).  <a href=\"https://doi.org/10.71760/ukllc-dataset-00287-01\" rel=\"noopener noreferrer\" target=\"_blank\">https://doi.org/10.71760/ukllc-dataset-00287-01</a></td>\n",
       "    </tr>\n",
       "    <tr>\n",
       "      <td id=\"T_e0696_row2_col0\" class=\"data row2 col0\" >Download Citation</td>\n",
       "      <td id=\"T_e0696_row2_col1\" class=\"data row2 col1\" > <a href=\"https://api.datacite.org/application/vnd.citationstyles.csl+json/10.71760/ukllc-dataset-00287-01\" rel=\"noopener noreferrer\" target=\"_blank\">Citeproc JSON</a>&nbsp;&nbsp;&nbsp;&nbsp; <a href=\"https://api.datacite.org/application/x-bibtex/10.71760/ukllc-dataset-00287-01\" rel=\"noopener noreferrer\" target=\"_blank\">BibTeX</a>&nbsp;&nbsp;&nbsp;&nbsp; <a href=\"https://api.datacite.org/application/x-research-info-systems/10.71760/ukllc-dataset-00287-01\" rel=\"noopener noreferrer\" target=\"_blank\">RIS</a></td>\n",
       "    </tr>\n",
       "    <tr>\n",
       "      <td id=\"T_e0696_row3_col0\" class=\"data row3 col0\" >Series</td>\n",
       "      <td id=\"T_e0696_row3_col1\" class=\"data row3 col1\" > <a href=\"https://guidebook.ukllc.ac.uk/docs/lps_data/lps%20profiles/NEXTSTEP\">Next Steps</a></td>\n",
       "    </tr>\n",
       "    <tr>\n",
       "      <td id=\"T_e0696_row4_col0\" class=\"data row4 col0\" >Owner</td>\n",
       "      <td id=\"T_e0696_row4_col1\" class=\"data row4 col1\" >UCL</td>\n",
       "    </tr>\n",
       "    <tr>\n",
       "      <td id=\"T_e0696_row5_col0\" class=\"data row5 col0\" >Temporal Coverage</td>\n",
       "      <td id=\"T_e0696_row5_col1\" class=\"data row5 col1\" >08/2015 - 09/2016</td>\n",
       "    </tr>\n",
       "    <tr>\n",
       "      <td id=\"T_e0696_row6_col0\" class=\"data row6 col0\" >Keywords</td>\n",
       "      <td id=\"T_e0696_row6_col1\" class=\"data row6 col1\" >Health,Education,Employment,Attitudes,Partners</td>\n",
       "    </tr>\n",
       "    <tr>\n",
       "      <td id=\"T_e0696_row7_col0\" class=\"data row7 col0\" >Participants Invited</td>\n",
       "      <td id=\"T_e0696_row7_col1\" class=\"data row7 col1\" >7707</td>\n",
       "    </tr>\n",
       "    <tr>\n",
       "      <td id=\"T_e0696_row8_col0\" class=\"data row8 col0\" >Participant Count</td>\n",
       "      <td id=\"T_e0696_row8_col1\" class=\"data row8 col1\" >5763</td>\n",
       "    </tr>\n",
       "    <tr>\n",
       "      <td id=\"T_e0696_row9_col0\" class=\"data row9 col0\" >Number of variables</td>\n",
       "      <td id=\"T_e0696_row9_col1\" class=\"data row9 col1\" >55</td>\n",
       "    </tr>\n",
       "    <tr>\n",
       "      <td id=\"T_e0696_row10_col0\" class=\"data row10 col0\" >Number of observations</td>\n",
       "      <td id=\"T_e0696_row10_col1\" class=\"data row10 col1\" >7707</td>\n",
       "    </tr>\n",
       "    <tr>\n",
       "      <td id=\"T_e0696_row11_col0\" class=\"data row11 col0\" >Specific Restrictions to Data Use</td>\n",
       "      <td id=\"T_e0696_row11_col1\" class=\"data row11 col1\" >None</td>\n",
       "    </tr>\n",
       "    <tr>\n",
       "      <td id=\"T_e0696_row12_col0\" class=\"data row12 col0\" >Build a Data Request</td>\n",
       "      <td id=\"T_e0696_row12_col1\" class=\"data row12 col1\" > <a href=\"https://explore.ukllc.ac.uk/\" rel=\"noopener noreferrer\" target=\"_blank\">https://explore.ukllc.ac.uk/</a></td>\n",
       "    </tr>\n",
       "  </tbody>\n",
       "</table>\n"
      ],
      "text/plain": [
       "<pandas.io.formats.style.Styler at 0x280f2b50620>"
      ]
     },
     "execution_count": 3,
     "metadata": {},
     "output_type": "execute_result"
    }
   ],
   "source": [
    "ds.info_table()"
   ]
  },
  {
   "cell_type": "markdown",
   "id": "2f21ebc7",
   "metadata": {},
   "source": [
    "## 2. Version History"
   ]
  },
  {
   "cell_type": "code",
   "execution_count": 4,
   "id": "802cab75",
   "metadata": {
    "execution": {
     "iopub.execute_input": "2025-07-28T20:08:05.088328Z",
     "iopub.status.busy": "2025-07-28T20:08:05.087331Z",
     "iopub.status.idle": "2025-07-28T20:08:10.608872Z",
     "shell.execute_reply": "2025-07-28T20:08:10.605853Z"
    },
    "tags": [
     "remove-input"
    ]
   },
   "outputs": [
    {
     "data": {
      "text/html": [
       "<style type=\"text/css\">\n",
       "#T_409bb th {\n",
       "  text-align: left;\n",
       "}\n",
       "#T_409bb_row0_col0, #T_409bb_row0_col1, #T_409bb_row1_col0, #T_409bb_row1_col1, #T_409bb_row2_col0, #T_409bb_row2_col1, #T_409bb_row3_col0, #T_409bb_row3_col1, #T_409bb_row4_col0, #T_409bb_row4_col1 {\n",
       "  text-align: left;\n",
       "}\n",
       "</style>\n",
       "<table id=\"T_409bb\" style=\"font-size: 14px\">\n",
       "  <thead>\n",
       "    <tr>\n",
       "      <th id=\"T_409bb_level0_col0\" class=\"col_heading level0 col0\" >Version</th>\n",
       "      <th id=\"T_409bb_level0_col1\" class=\"col_heading level0 col1\" >1</th>\n",
       "    </tr>\n",
       "  </thead>\n",
       "  <tbody>\n",
       "    <tr>\n",
       "      <td id=\"T_409bb_row0_col0\" class=\"data row0 col0\" >Version Date</td>\n",
       "      <td id=\"T_409bb_row0_col1\" class=\"data row0 col1\" >01 Nov 2021</td>\n",
       "    </tr>\n",
       "    <tr>\n",
       "      <td id=\"T_409bb_row1_col0\" class=\"data row1 col0\" >Number of Variables</td>\n",
       "      <td id=\"T_409bb_row1_col1\" class=\"data row1 col1\" >55</td>\n",
       "    </tr>\n",
       "    <tr>\n",
       "      <td id=\"T_409bb_row2_col0\" class=\"data row2 col0\" >Number of Observations</td>\n",
       "      <td id=\"T_409bb_row2_col1\" class=\"data row2 col1\" >7707</td>\n",
       "    </tr>\n",
       "    <tr>\n",
       "      <td id=\"T_409bb_row3_col0\" class=\"data row3 col0\" >DOI</td>\n",
       "      <td id=\"T_409bb_row3_col1\" class=\"data row3 col1\" > <a href=\"https://doi.org/10.71760/ukllc-dataset-00287-01\" rel=\"noopener noreferrer\" target=\"_blank\">10.71760/ukllc-dataset-00287-01</a></td>\n",
       "    </tr>\n",
       "    <tr>\n",
       "      <td id=\"T_409bb_row4_col0\" class=\"data row4 col0\" >Change Log</td>\n",
       "      <td id=\"T_409bb_row4_col1\" class=\"data row4 col1\" > <a href=\"https://api.test.datacite.org/dois/10.71760/ukllc-dataset-00287-01/activities\" rel=\"noopener noreferrer\" target=\"_blank\">10.71760/ukllc-dataset-00287-01/activities</a></td>\n",
       "    </tr>\n",
       "  </tbody>\n",
       "</table>\n"
      ],
      "text/plain": [
       "<pandas.io.formats.style.Styler at 0x280f4897ec0>"
      ]
     },
     "execution_count": 4,
     "metadata": {},
     "output_type": "execute_result"
    }
   ],
   "source": [
    "ds.version_history()"
   ]
  },
  {
   "cell_type": "markdown",
   "id": "f66b6cb5",
   "metadata": {},
   "source": [
    "## 3. Documentation"
   ]
  },
  {
   "cell_type": "code",
   "execution_count": 5,
   "id": "3c867049",
   "metadata": {
    "execution": {
     "iopub.execute_input": "2025-07-28T20:08:10.619871Z",
     "iopub.status.busy": "2025-07-28T20:08:10.618871Z",
     "iopub.status.idle": "2025-07-28T20:08:10.635875Z",
     "shell.execute_reply": "2025-07-28T20:08:10.634214Z"
    },
    "tags": [
     "remove-input"
    ]
   },
   "outputs": [
    {
     "data": {
      "text/markdown": [
       "We are currently building a documentation storage system which will host useful documents related to datasets and data owners. We will surface these documents on Guidebook."
      ],
      "text/plain": [
       "<IPython.core.display.Markdown object>"
      ]
     },
     "metadata": {},
     "output_type": "display_data"
    }
   ],
   "source": [
    "ds.documentation()"
   ]
  },
  {
   "cell_type": "markdown",
   "id": "32cd4f33",
   "metadata": {},
   "source": [
    "## 4. Useful Syntax"
   ]
  },
  {
   "cell_type": "code",
   "execution_count": 6,
   "id": "bdc9d669",
   "metadata": {
    "execution": {
     "iopub.execute_input": "2025-07-28T20:08:10.643323Z",
     "iopub.status.busy": "2025-07-28T20:08:10.643323Z",
     "iopub.status.idle": "2025-07-28T20:08:10.655596Z",
     "shell.execute_reply": "2025-07-28T20:08:10.654582Z"
    },
    "tags": [
     "remove-input"
    ]
   },
   "outputs": [
    {
     "data": {
      "text/markdown": [
       "Below we will include syntax that may be helpful to other researchers in the UK LLC TRE. For longer scripts, we will include a snippet of the code plus a link to Git where you can find the full scripts."
      ],
      "text/plain": [
       "<IPython.core.display.Markdown object>"
      ]
     },
     "metadata": {},
     "output_type": "display_data"
    }
   ],
   "source": [
    "ds.useful_syntax()"
   ]
  }
 ],
 "metadata": {
  "language_info": {
   "codemirror_mode": {
    "name": "ipython",
    "version": 3
   },
   "file_extension": ".py",
   "mimetype": "text/x-python",
   "name": "python",
   "nbconvert_exporter": "python",
   "pygments_lexer": "ipython3",
   "version": "3.12.7"
  }
 },
 "nbformat": 4,
 "nbformat_minor": 5
}
