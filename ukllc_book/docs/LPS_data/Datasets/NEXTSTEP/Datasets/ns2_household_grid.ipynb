{
 "cells": [
  {
   "cell_type": "markdown",
   "id": "106b59ab",
   "metadata": {},
   "source": [
    "# NS Household Grid Sweep 2 (NEXTSTEP)"
   ]
  },
  {
   "cell_type": "code",
   "execution_count": 1,
   "id": "fe76e9ee",
   "metadata": {
    "execution": {
     "iopub.execute_input": "2025-07-18T10:13:33.860533Z",
     "iopub.status.busy": "2025-07-18T10:13:33.860533Z",
     "iopub.status.idle": "2025-07-18T10:13:41.167553Z",
     "shell.execute_reply": "2025-07-18T10:13:41.165444Z"
    },
    "tags": [
     "remove-input"
    ]
   },
   "outputs": [
    {
     "data": {
      "text/markdown": [
       ">Last modified: 18 Jul 2025"
      ],
      "text/plain": [
       "<IPython.core.display.Markdown object>"
      ]
     },
     "metadata": {},
     "output_type": "display_data"
    }
   ],
   "source": [
    "\n",
    "import sys\n",
    "import os\n",
    "sys.path.append(os.path.abspath('../../../../scripts/'))\n",
    "from data_doc_helper import LPSDataSet as DS, last_modified\n",
    "API_KEY = os.environ['FASTAPI_KEY']\n",
    "ds = DS(\"NEXTSTEP\", \"ns2_household_grid\")\n",
    "last_modified()\n"
   ]
  },
  {
   "cell_type": "markdown",
   "id": "76bacd80",
   "metadata": {},
   "source": [
    "## 1. Summary"
   ]
  },
  {
   "cell_type": "code",
   "execution_count": 2,
   "id": "00f8845b",
   "metadata": {
    "execution": {
     "iopub.execute_input": "2025-07-18T10:13:41.174015Z",
     "iopub.status.busy": "2025-07-18T10:13:41.172778Z",
     "iopub.status.idle": "2025-07-18T10:13:41.184969Z",
     "shell.execute_reply": "2025-07-18T10:13:41.182962Z"
    },
    "tags": [
     "remove-input"
    ]
   },
   "outputs": [
    {
     "data": {
      "text/markdown": [
       "Data was collected via face to face interviewing between April and September 2005. A summary of the content includes: Household member identifier, Whether person is a new member to household, Whether person is still living with cohort member, Reason person no longer lives with cohort member, Date started living with cohort member, Sex of person, Relationship to cohort member, Marital status of person, Whether person living with someone in the household as a couple, Employment status of person, Ethnic group of person, Position of Main parent, Position of Second parent, Position of mother, Position of father, Position of History respondent, Position of Household reference person, "
      ],
      "text/plain": [
       "<IPython.core.display.Markdown object>"
      ]
     },
     "metadata": {},
     "output_type": "display_data"
    }
   ],
   "source": [
    "ds.summary()"
   ]
  },
  {
   "cell_type": "code",
   "execution_count": 3,
   "id": "e443fb5b",
   "metadata": {
    "execution": {
     "iopub.execute_input": "2025-07-18T10:13:41.190969Z",
     "iopub.status.busy": "2025-07-18T10:13:41.190969Z",
     "iopub.status.idle": "2025-07-18T10:13:42.230755Z",
     "shell.execute_reply": "2025-07-18T10:13:42.229745Z"
    },
    "tags": [
     "remove-input"
    ]
   },
   "outputs": [
    {
     "data": {
      "text/html": [
       "<style type=\"text/css\">\n",
       "#T_aad00 th {\n",
       "  text-align: left;\n",
       "}\n",
       "#T_aad00_row0_col0, #T_aad00_row0_col1, #T_aad00_row1_col0, #T_aad00_row1_col1, #T_aad00_row2_col0, #T_aad00_row2_col1, #T_aad00_row3_col0, #T_aad00_row3_col1, #T_aad00_row4_col0, #T_aad00_row4_col1, #T_aad00_row5_col0, #T_aad00_row5_col1, #T_aad00_row6_col0, #T_aad00_row6_col1, #T_aad00_row7_col0, #T_aad00_row7_col1, #T_aad00_row8_col0, #T_aad00_row8_col1, #T_aad00_row9_col0, #T_aad00_row9_col1, #T_aad00_row10_col0, #T_aad00_row10_col1, #T_aad00_row11_col0, #T_aad00_row11_col1, #T_aad00_row12_col0, #T_aad00_row12_col1 {\n",
       "  text-align: left;\n",
       "}\n",
       "</style>\n",
       "<table id=\"T_aad00\" style=\"font-size: 14px\">\n",
       "  <thead>\n",
       "    <tr>\n",
       "      <th id=\"T_aad00_level0_col0\" class=\"col_heading level0 col0\" >Dataset Descriptor</th>\n",
       "      <th id=\"T_aad00_level0_col1\" class=\"col_heading level0 col1\" >Dataset-specific Information</th>\n",
       "    </tr>\n",
       "  </thead>\n",
       "  <tbody>\n",
       "    <tr>\n",
       "      <td id=\"T_aad00_row0_col0\" class=\"data row0 col0\" >Name of Dataset in TRE</td>\n",
       "      <td id=\"T_aad00_row0_col1\" class=\"data row0 col1\" >NEXTSTEP_ns2_household_grid</td>\n",
       "    </tr>\n",
       "    <tr>\n",
       "      <td id=\"T_aad00_row1_col0\" class=\"data row1 col0\" >Citation (APA)</td>\n",
       "      <td id=\"T_aad00_row1_col1\" class=\"data row1 col1\" >University College London, UCL Social Research Institute, Centre for Longitudinal Studies. (2021). <i>Next Steps: NS Household Grid Sweep 2.</i> UK Longitudinal Linkage Collaboration (UK LLC).  <a href=\"https://doi.org/10.83126/ukllc-dataset-00336-01\" rel=\"noopener noreferrer\" target=\"_blank\">https://doi.org/10.83126/ukllc-dataset-00336-01</a></td>\n",
       "    </tr>\n",
       "    <tr>\n",
       "      <td id=\"T_aad00_row2_col0\" class=\"data row2 col0\" >Download Citation</td>\n",
       "      <td id=\"T_aad00_row2_col1\" class=\"data row2 col1\" > <a href=\"https://api.test.datacite.org/application/vnd.citationstyles.csl+json/10.83126/ukllc-dataset-00336-01\" rel=\"noopener noreferrer\" target=\"_blank\">Citeproc JSON</a>&nbsp;&nbsp;&nbsp;&nbsp; <a href=\"https://api.test.datacite.org/application/x-bibtex/10.83126/ukllc-dataset-00336-01\" rel=\"noopener noreferrer\" target=\"_blank\">BibTeX</a>&nbsp;&nbsp;&nbsp;&nbsp; <a href=\"https://api.test.datacite.org/application/x-research-info-systems/10.83126/ukllc-dataset-00336-01\" rel=\"noopener noreferrer\" target=\"_blank\">RIS</a></td>\n",
       "    </tr>\n",
       "    <tr>\n",
       "      <td id=\"T_aad00_row3_col0\" class=\"data row3 col0\" >Series</td>\n",
       "      <td id=\"T_aad00_row3_col1\" class=\"data row3 col1\" > <a href=\"https://guidebook.ukllc.ac.uk/docs/lps/lps%20profiles/NEXTSTEP\">Next Steps</a></td>\n",
       "    </tr>\n",
       "    <tr>\n",
       "      <td id=\"T_aad00_row4_col0\" class=\"data row4 col0\" >Owner</td>\n",
       "      <td id=\"T_aad00_row4_col1\" class=\"data row4 col1\" >UCL</td>\n",
       "    </tr>\n",
       "    <tr>\n",
       "      <td id=\"T_aad00_row5_col0\" class=\"data row5 col0\" >Temporal Coverage</td>\n",
       "      <td id=\"T_aad00_row5_col1\" class=\"data row5 col1\" >04/2005 - 09/2005</td>\n",
       "    </tr>\n",
       "    <tr>\n",
       "      <td id=\"T_aad00_row6_col0\" class=\"data row6 col0\" >Keywords</td>\n",
       "      <td id=\"T_aad00_row6_col1\" class=\"data row6 col1\" >Health,Education,Family life,Employment,Attitudes</td>\n",
       "    </tr>\n",
       "    <tr>\n",
       "      <td id=\"T_aad00_row7_col0\" class=\"data row7 col0\" >Participants Invited</td>\n",
       "      <td id=\"T_aad00_row7_col1\" class=\"data row7 col1\" >13539</td>\n",
       "    </tr>\n",
       "    <tr>\n",
       "      <td id=\"T_aad00_row8_col0\" class=\"data row8 col0\" >Participant Count</td>\n",
       "      <td id=\"T_aad00_row8_col1\" class=\"data row8 col1\" >5689</td>\n",
       "    </tr>\n",
       "    <tr>\n",
       "      <td id=\"T_aad00_row9_col0\" class=\"data row9 col0\" >Number of variables</td>\n",
       "      <td id=\"T_aad00_row9_col1\" class=\"data row9 col1\" >41</td>\n",
       "    </tr>\n",
       "    <tr>\n",
       "      <td id=\"T_aad00_row10_col0\" class=\"data row10 col0\" >Number of observations</td>\n",
       "      <td id=\"T_aad00_row10_col1\" class=\"data row10 col1\" >60491</td>\n",
       "    </tr>\n",
       "    <tr>\n",
       "      <td id=\"T_aad00_row11_col0\" class=\"data row11 col0\" >Specific Restrictions to Data Use</td>\n",
       "      <td id=\"T_aad00_row11_col1\" class=\"data row11 col1\" >None</td>\n",
       "    </tr>\n",
       "    <tr>\n",
       "      <td id=\"T_aad00_row12_col0\" class=\"data row12 col0\" >Build a Data Request</td>\n",
       "      <td id=\"T_aad00_row12_col1\" class=\"data row12 col1\" > <a href=\"https://explore.ukllc.ac.uk/\" rel=\"noopener noreferrer\" target=\"_blank\">https://explore.ukllc.ac.uk/</a></td>\n",
       "    </tr>\n",
       "  </tbody>\n",
       "</table>\n"
      ],
      "text/plain": [
       "<pandas.io.formats.style.Styler at 0x21db420ede0>"
      ]
     },
     "execution_count": 3,
     "metadata": {},
     "output_type": "execute_result"
    }
   ],
   "source": [
    "ds.info_table()"
   ]
  },
  {
   "cell_type": "markdown",
   "id": "6fe2af4d",
   "metadata": {},
   "source": [
    "## 2. Version History"
   ]
  },
  {
   "cell_type": "code",
   "execution_count": 4,
   "id": "92d6b4b3",
   "metadata": {
    "execution": {
     "iopub.execute_input": "2025-07-18T10:13:42.234527Z",
     "iopub.status.busy": "2025-07-18T10:13:42.233518Z",
     "iopub.status.idle": "2025-07-18T10:13:45.181585Z",
     "shell.execute_reply": "2025-07-18T10:13:45.179563Z"
    },
    "tags": [
     "remove-input"
    ]
   },
   "outputs": [
    {
     "data": {
      "text/html": [
       "<style type=\"text/css\">\n",
       "#T_e9e37 th {\n",
       "  text-align: left;\n",
       "}\n",
       "#T_e9e37_row0_col0, #T_e9e37_row0_col1, #T_e9e37_row1_col0, #T_e9e37_row1_col1, #T_e9e37_row2_col0, #T_e9e37_row2_col1, #T_e9e37_row3_col0, #T_e9e37_row3_col1, #T_e9e37_row4_col0, #T_e9e37_row4_col1 {\n",
       "  text-align: left;\n",
       "}\n",
       "</style>\n",
       "<table id=\"T_e9e37\" style=\"font-size: 14px\">\n",
       "  <thead>\n",
       "    <tr>\n",
       "      <th id=\"T_e9e37_level0_col0\" class=\"col_heading level0 col0\" >Version</th>\n",
       "      <th id=\"T_e9e37_level0_col1\" class=\"col_heading level0 col1\" >1</th>\n",
       "    </tr>\n",
       "  </thead>\n",
       "  <tbody>\n",
       "    <tr>\n",
       "      <td id=\"T_e9e37_row0_col0\" class=\"data row0 col0\" >Version Date</td>\n",
       "      <td id=\"T_e9e37_row0_col1\" class=\"data row0 col1\" >01 Nov 2021</td>\n",
       "    </tr>\n",
       "    <tr>\n",
       "      <td id=\"T_e9e37_row1_col0\" class=\"data row1 col0\" >Number of Variables</td>\n",
       "      <td id=\"T_e9e37_row1_col1\" class=\"data row1 col1\" >41</td>\n",
       "    </tr>\n",
       "    <tr>\n",
       "      <td id=\"T_e9e37_row2_col0\" class=\"data row2 col0\" >Number of Observations</td>\n",
       "      <td id=\"T_e9e37_row2_col1\" class=\"data row2 col1\" >60491</td>\n",
       "    </tr>\n",
       "    <tr>\n",
       "      <td id=\"T_e9e37_row3_col0\" class=\"data row3 col0\" >DOI</td>\n",
       "      <td id=\"T_e9e37_row3_col1\" class=\"data row3 col1\" > <a href=\"https://doi.org/10.83126/ukllc-dataset-00336-01\" rel=\"noopener noreferrer\" target=\"_blank\">10.83126/ukllc-dataset-00336-01</a></td>\n",
       "    </tr>\n",
       "    <tr>\n",
       "      <td id=\"T_e9e37_row4_col0\" class=\"data row4 col0\" >Change Log</td>\n",
       "      <td id=\"T_e9e37_row4_col1\" class=\"data row4 col1\" > <a href=\"https://api.test.datacite.org/dois/10.83126/ukllc-dataset-00336-01/activities\" rel=\"noopener noreferrer\" target=\"_blank\">10.83126/ukllc-dataset-00336-01/activities</a></td>\n",
       "    </tr>\n",
       "  </tbody>\n",
       "</table>\n"
      ],
      "text/plain": [
       "<pandas.io.formats.style.Styler at 0x21db6167710>"
      ]
     },
     "execution_count": 4,
     "metadata": {},
     "output_type": "execute_result"
    }
   ],
   "source": [
    "ds.version_history()"
   ]
  },
  {
   "cell_type": "markdown",
   "id": "1888573c",
   "metadata": {},
   "source": [
    "## 3. Documentation"
   ]
  },
  {
   "cell_type": "code",
   "execution_count": 5,
   "id": "0dce20bf",
   "metadata": {
    "execution": {
     "iopub.execute_input": "2025-07-18T10:13:45.187571Z",
     "iopub.status.busy": "2025-07-18T10:13:45.187571Z",
     "iopub.status.idle": "2025-07-18T10:13:45.197084Z",
     "shell.execute_reply": "2025-07-18T10:13:45.195571Z"
    },
    "tags": [
     "remove-input"
    ]
   },
   "outputs": [
    {
     "data": {
      "text/markdown": [
       "We are currently building a documentation storage system which will host useful documents related to datasets and data owners. We will surface these documents on Guidebook."
      ],
      "text/plain": [
       "<IPython.core.display.Markdown object>"
      ]
     },
     "metadata": {},
     "output_type": "display_data"
    }
   ],
   "source": [
    "ds.documentation()"
   ]
  },
  {
   "cell_type": "markdown",
   "id": "ef955680",
   "metadata": {},
   "source": [
    "## 4. Useful Syntax"
   ]
  },
  {
   "cell_type": "code",
   "execution_count": 6,
   "id": "77871fb4",
   "metadata": {
    "execution": {
     "iopub.execute_input": "2025-07-18T10:13:45.203084Z",
     "iopub.status.busy": "2025-07-18T10:13:45.203084Z",
     "iopub.status.idle": "2025-07-18T10:13:45.211202Z",
     "shell.execute_reply": "2025-07-18T10:13:45.210168Z"
    },
    "tags": [
     "remove-input"
    ]
   },
   "outputs": [
    {
     "data": {
      "text/markdown": [
       "Below we will include syntax that may be helpful to other researchers in the UK LLC TRE. For longer scripts, we will include a snippet of the code plus a link to Git where you can find the full scripts."
      ],
      "text/plain": [
       "<IPython.core.display.Markdown object>"
      ]
     },
     "metadata": {},
     "output_type": "display_data"
    }
   ],
   "source": [
    "ds.useful_syntax()"
   ]
  }
 ],
 "metadata": {
  "language_info": {
   "codemirror_mode": {
    "name": "ipython",
    "version": 3
   },
   "file_extension": ".py",
   "mimetype": "text/x-python",
   "name": "python",
   "nbconvert_exporter": "python",
   "pygments_lexer": "ipython3",
   "version": "3.12.7"
  }
 },
 "nbformat": 4,
 "nbformat_minor": 5
}
