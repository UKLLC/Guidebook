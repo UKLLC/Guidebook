{
 "cells": [
  {
   "cell_type": "markdown",
   "id": "106b59ab",
   "metadata": {},
   "source": [
    "# NS Household Grid Sweep 2 (NEXTSTEP)"
   ]
  },
  {
   "cell_type": "code",
   "execution_count": 1,
   "id": "fe76e9ee",
   "metadata": {
    "execution": {
     "iopub.execute_input": "2025-07-28T19:59:18.702627Z",
     "iopub.status.busy": "2025-07-28T19:59:18.702627Z",
     "iopub.status.idle": "2025-07-28T19:59:31.116467Z",
     "shell.execute_reply": "2025-07-28T19:59:31.113447Z"
    },
    "tags": [
     "remove-input"
    ]
   },
   "outputs": [
    {
     "data": {
      "text/markdown": [
       ">Last modified: 28 Jul 2025"
      ],
      "text/plain": [
       "<IPython.core.display.Markdown object>"
      ]
     },
     "metadata": {},
     "output_type": "display_data"
    }
   ],
   "source": [
    "\n",
    "import sys\n",
    "import os\n",
    "sys.path.append(os.path.abspath('../../../../scripts/'))\n",
    "from data_doc_helper import LPSDataSet as DS, last_modified\n",
    "API_KEY = os.environ['FASTAPI_KEY']\n",
    "ds = DS(\"NEXTSTEP\", \"ns2_household_grid\")\n",
    "last_modified()\n"
   ]
  },
  {
   "cell_type": "markdown",
   "id": "76bacd80",
   "metadata": {},
   "source": [
    "## 1. Summary"
   ]
  },
  {
   "cell_type": "code",
   "execution_count": 2,
   "id": "00f8845b",
   "metadata": {
    "execution": {
     "iopub.execute_input": "2025-07-28T19:59:31.126483Z",
     "iopub.status.busy": "2025-07-28T19:59:31.125481Z",
     "iopub.status.idle": "2025-07-28T19:59:31.139664Z",
     "shell.execute_reply": "2025-07-28T19:59:31.137643Z"
    },
    "tags": [
     "remove-input"
    ]
   },
   "outputs": [
    {
     "data": {
      "text/markdown": [
       "Data was collected via face to face interviewing between April and September 2005. A summary of the content includes: Household member identifier, Whether person is a new member to household, Whether person is still living with cohort member, Reason person no longer lives with cohort member, Date started living with cohort member, Sex of person, Relationship to cohort member, Marital status of person, Whether person living with someone in the household as a couple, Employment status of person, Ethnic group of person, Position of Main parent, Position of Second parent, Position of mother, Position of father, Position of History respondent, Position of Household reference person, "
      ],
      "text/plain": [
       "<IPython.core.display.Markdown object>"
      ]
     },
     "metadata": {},
     "output_type": "display_data"
    }
   ],
   "source": [
    "ds.summary()"
   ]
  },
  {
   "cell_type": "code",
   "execution_count": 3,
   "id": "e443fb5b",
   "metadata": {
    "execution": {
     "iopub.execute_input": "2025-07-28T19:59:31.147663Z",
     "iopub.status.busy": "2025-07-28T19:59:31.146664Z",
     "iopub.status.idle": "2025-07-28T19:59:32.894301Z",
     "shell.execute_reply": "2025-07-28T19:59:32.892278Z"
    },
    "tags": [
     "remove-input"
    ]
   },
   "outputs": [
    {
     "data": {
      "text/html": [
       "<style type=\"text/css\">\n",
       "#T_3df98 th {\n",
       "  text-align: left;\n",
       "}\n",
       "#T_3df98_row0_col0, #T_3df98_row0_col1, #T_3df98_row1_col0, #T_3df98_row1_col1, #T_3df98_row2_col0, #T_3df98_row2_col1, #T_3df98_row3_col0, #T_3df98_row3_col1, #T_3df98_row4_col0, #T_3df98_row4_col1, #T_3df98_row5_col0, #T_3df98_row5_col1, #T_3df98_row6_col0, #T_3df98_row6_col1, #T_3df98_row7_col0, #T_3df98_row7_col1, #T_3df98_row8_col0, #T_3df98_row8_col1, #T_3df98_row9_col0, #T_3df98_row9_col1, #T_3df98_row10_col0, #T_3df98_row10_col1, #T_3df98_row11_col0, #T_3df98_row11_col1, #T_3df98_row12_col0, #T_3df98_row12_col1 {\n",
       "  text-align: left;\n",
       "}\n",
       "</style>\n",
       "<table id=\"T_3df98\" style=\"font-size: 14px\">\n",
       "  <thead>\n",
       "    <tr>\n",
       "      <th id=\"T_3df98_level0_col0\" class=\"col_heading level0 col0\" >Dataset Descriptor</th>\n",
       "      <th id=\"T_3df98_level0_col1\" class=\"col_heading level0 col1\" >Dataset-specific Information</th>\n",
       "    </tr>\n",
       "  </thead>\n",
       "  <tbody>\n",
       "    <tr>\n",
       "      <td id=\"T_3df98_row0_col0\" class=\"data row0 col0\" >Name of Dataset in TRE</td>\n",
       "      <td id=\"T_3df98_row0_col1\" class=\"data row0 col1\" >NEXTSTEP_ns2_household_grid</td>\n",
       "    </tr>\n",
       "    <tr>\n",
       "      <td id=\"T_3df98_row1_col0\" class=\"data row1 col0\" >Citation (APA)</td>\n",
       "      <td id=\"T_3df98_row1_col1\" class=\"data row1 col1\" >University College London, UCL Social Research Institute, Centre for Longitudinal Studies. (2021). <i>Next Steps: NS Household Grid Sweep 2.</i> UK Longitudinal Linkage Collaboration (UK LLC).  <a href=\"https://doi.org/10.71760/ukllc-dataset-00267-01\" rel=\"noopener noreferrer\" target=\"_blank\">https://doi.org/10.71760/ukllc-dataset-00267-01</a></td>\n",
       "    </tr>\n",
       "    <tr>\n",
       "      <td id=\"T_3df98_row2_col0\" class=\"data row2 col0\" >Download Citation</td>\n",
       "      <td id=\"T_3df98_row2_col1\" class=\"data row2 col1\" > <a href=\"https://api.datacite.org/application/vnd.citationstyles.csl+json/10.71760/ukllc-dataset-00267-01\" rel=\"noopener noreferrer\" target=\"_blank\">Citeproc JSON</a>&nbsp;&nbsp;&nbsp;&nbsp; <a href=\"https://api.datacite.org/application/x-bibtex/10.71760/ukllc-dataset-00267-01\" rel=\"noopener noreferrer\" target=\"_blank\">BibTeX</a>&nbsp;&nbsp;&nbsp;&nbsp; <a href=\"https://api.datacite.org/application/x-research-info-systems/10.71760/ukllc-dataset-00267-01\" rel=\"noopener noreferrer\" target=\"_blank\">RIS</a></td>\n",
       "    </tr>\n",
       "    <tr>\n",
       "      <td id=\"T_3df98_row3_col0\" class=\"data row3 col0\" >Series</td>\n",
       "      <td id=\"T_3df98_row3_col1\" class=\"data row3 col1\" > <a href=\"https://guidebook.ukllc.ac.uk/docs/lps_data/lps%20profiles/NEXTSTEP\">Next Steps</a></td>\n",
       "    </tr>\n",
       "    <tr>\n",
       "      <td id=\"T_3df98_row4_col0\" class=\"data row4 col0\" >Owner</td>\n",
       "      <td id=\"T_3df98_row4_col1\" class=\"data row4 col1\" >UCL</td>\n",
       "    </tr>\n",
       "    <tr>\n",
       "      <td id=\"T_3df98_row5_col0\" class=\"data row5 col0\" >Temporal Coverage</td>\n",
       "      <td id=\"T_3df98_row5_col1\" class=\"data row5 col1\" >04/2005 - 09/2005</td>\n",
       "    </tr>\n",
       "    <tr>\n",
       "      <td id=\"T_3df98_row6_col0\" class=\"data row6 col0\" >Keywords</td>\n",
       "      <td id=\"T_3df98_row6_col1\" class=\"data row6 col1\" >Health,Education,Family life,Employment,Attitudes</td>\n",
       "    </tr>\n",
       "    <tr>\n",
       "      <td id=\"T_3df98_row7_col0\" class=\"data row7 col0\" >Participants Invited</td>\n",
       "      <td id=\"T_3df98_row7_col1\" class=\"data row7 col1\" >13539</td>\n",
       "    </tr>\n",
       "    <tr>\n",
       "      <td id=\"T_3df98_row8_col0\" class=\"data row8 col0\" >Participant Count</td>\n",
       "      <td id=\"T_3df98_row8_col1\" class=\"data row8 col1\" >5689</td>\n",
       "    </tr>\n",
       "    <tr>\n",
       "      <td id=\"T_3df98_row9_col0\" class=\"data row9 col0\" >Number of variables</td>\n",
       "      <td id=\"T_3df98_row9_col1\" class=\"data row9 col1\" >41</td>\n",
       "    </tr>\n",
       "    <tr>\n",
       "      <td id=\"T_3df98_row10_col0\" class=\"data row10 col0\" >Number of observations</td>\n",
       "      <td id=\"T_3df98_row10_col1\" class=\"data row10 col1\" >60491</td>\n",
       "    </tr>\n",
       "    <tr>\n",
       "      <td id=\"T_3df98_row11_col0\" class=\"data row11 col0\" >Specific Restrictions to Data Use</td>\n",
       "      <td id=\"T_3df98_row11_col1\" class=\"data row11 col1\" >None</td>\n",
       "    </tr>\n",
       "    <tr>\n",
       "      <td id=\"T_3df98_row12_col0\" class=\"data row12 col0\" >Build a Data Request</td>\n",
       "      <td id=\"T_3df98_row12_col1\" class=\"data row12 col1\" > <a href=\"https://explore.ukllc.ac.uk/\" rel=\"noopener noreferrer\" target=\"_blank\">https://explore.ukllc.ac.uk/</a></td>\n",
       "    </tr>\n",
       "  </tbody>\n",
       "</table>\n"
      ],
      "text/plain": [
       "<pandas.io.formats.style.Styler at 0x2150843ac00>"
      ]
     },
     "execution_count": 3,
     "metadata": {},
     "output_type": "execute_result"
    }
   ],
   "source": [
    "ds.info_table()"
   ]
  },
  {
   "cell_type": "markdown",
   "id": "6fe2af4d",
   "metadata": {},
   "source": [
    "## 2. Version History"
   ]
  },
  {
   "cell_type": "code",
   "execution_count": 4,
   "id": "92d6b4b3",
   "metadata": {
    "execution": {
     "iopub.execute_input": "2025-07-28T19:59:32.905301Z",
     "iopub.status.busy": "2025-07-28T19:59:32.903301Z",
     "iopub.status.idle": "2025-07-28T19:59:40.255656Z",
     "shell.execute_reply": "2025-07-28T19:59:40.253641Z"
    },
    "tags": [
     "remove-input"
    ]
   },
   "outputs": [
    {
     "data": {
      "text/html": [
       "<style type=\"text/css\">\n",
       "#T_8f68d th {\n",
       "  text-align: left;\n",
       "}\n",
       "#T_8f68d_row0_col0, #T_8f68d_row0_col1, #T_8f68d_row1_col0, #T_8f68d_row1_col1, #T_8f68d_row2_col0, #T_8f68d_row2_col1, #T_8f68d_row3_col0, #T_8f68d_row3_col1, #T_8f68d_row4_col0, #T_8f68d_row4_col1 {\n",
       "  text-align: left;\n",
       "}\n",
       "</style>\n",
       "<table id=\"T_8f68d\" style=\"font-size: 14px\">\n",
       "  <thead>\n",
       "    <tr>\n",
       "      <th id=\"T_8f68d_level0_col0\" class=\"col_heading level0 col0\" >Version</th>\n",
       "      <th id=\"T_8f68d_level0_col1\" class=\"col_heading level0 col1\" >1</th>\n",
       "    </tr>\n",
       "  </thead>\n",
       "  <tbody>\n",
       "    <tr>\n",
       "      <td id=\"T_8f68d_row0_col0\" class=\"data row0 col0\" >Version Date</td>\n",
       "      <td id=\"T_8f68d_row0_col1\" class=\"data row0 col1\" >01 Nov 2021</td>\n",
       "    </tr>\n",
       "    <tr>\n",
       "      <td id=\"T_8f68d_row1_col0\" class=\"data row1 col0\" >Number of Variables</td>\n",
       "      <td id=\"T_8f68d_row1_col1\" class=\"data row1 col1\" >41</td>\n",
       "    </tr>\n",
       "    <tr>\n",
       "      <td id=\"T_8f68d_row2_col0\" class=\"data row2 col0\" >Number of Observations</td>\n",
       "      <td id=\"T_8f68d_row2_col1\" class=\"data row2 col1\" >60491</td>\n",
       "    </tr>\n",
       "    <tr>\n",
       "      <td id=\"T_8f68d_row3_col0\" class=\"data row3 col0\" >DOI</td>\n",
       "      <td id=\"T_8f68d_row3_col1\" class=\"data row3 col1\" > <a href=\"https://doi.org/10.71760/ukllc-dataset-00267-01\" rel=\"noopener noreferrer\" target=\"_blank\">10.71760/ukllc-dataset-00267-01</a></td>\n",
       "    </tr>\n",
       "    <tr>\n",
       "      <td id=\"T_8f68d_row4_col0\" class=\"data row4 col0\" >Change Log</td>\n",
       "      <td id=\"T_8f68d_row4_col1\" class=\"data row4 col1\" > <a href=\"https://api.test.datacite.org/dois/10.71760/ukllc-dataset-00267-01/activities\" rel=\"noopener noreferrer\" target=\"_blank\">10.71760/ukllc-dataset-00267-01/activities</a></td>\n",
       "    </tr>\n",
       "  </tbody>\n",
       "</table>\n"
      ],
      "text/plain": [
       "<pandas.io.formats.style.Styler at 0x2150a14a390>"
      ]
     },
     "execution_count": 4,
     "metadata": {},
     "output_type": "execute_result"
    }
   ],
   "source": [
    "ds.version_history()"
   ]
  },
  {
   "cell_type": "markdown",
   "id": "1888573c",
   "metadata": {},
   "source": [
    "## 3. Documentation"
   ]
  },
  {
   "cell_type": "code",
   "execution_count": 5,
   "id": "0dce20bf",
   "metadata": {
    "execution": {
     "iopub.execute_input": "2025-07-28T19:59:40.265120Z",
     "iopub.status.busy": "2025-07-28T19:59:40.265120Z",
     "iopub.status.idle": "2025-07-28T19:59:40.277653Z",
     "shell.execute_reply": "2025-07-28T19:59:40.275634Z"
    },
    "tags": [
     "remove-input"
    ]
   },
   "outputs": [
    {
     "data": {
      "text/markdown": [
       "We are currently building a documentation storage system which will host useful documents related to datasets and data owners. We will surface these documents on Guidebook."
      ],
      "text/plain": [
       "<IPython.core.display.Markdown object>"
      ]
     },
     "metadata": {},
     "output_type": "display_data"
    }
   ],
   "source": [
    "ds.documentation()"
   ]
  },
  {
   "cell_type": "markdown",
   "id": "ef955680",
   "metadata": {},
   "source": [
    "## 4. Useful Syntax"
   ]
  },
  {
   "cell_type": "code",
   "execution_count": 6,
   "id": "77871fb4",
   "metadata": {
    "execution": {
     "iopub.execute_input": "2025-07-28T19:59:40.285655Z",
     "iopub.status.busy": "2025-07-28T19:59:40.285655Z",
     "iopub.status.idle": "2025-07-28T19:59:40.296883Z",
     "shell.execute_reply": "2025-07-28T19:59:40.294863Z"
    },
    "tags": [
     "remove-input"
    ]
   },
   "outputs": [
    {
     "data": {
      "text/markdown": [
       "Below we will include syntax that may be helpful to other researchers in the UK LLC TRE. For longer scripts, we will include a snippet of the code plus a link to Git where you can find the full scripts."
      ],
      "text/plain": [
       "<IPython.core.display.Markdown object>"
      ]
     },
     "metadata": {},
     "output_type": "display_data"
    }
   ],
   "source": [
    "ds.useful_syntax()"
   ]
  }
 ],
 "metadata": {
  "language_info": {
   "codemirror_mode": {
    "name": "ipython",
    "version": 3
   },
   "file_extension": ".py",
   "mimetype": "text/x-python",
   "name": "python",
   "nbconvert_exporter": "python",
   "pygments_lexer": "ipython3",
   "version": "3.12.7"
  }
 },
 "nbformat": 4,
 "nbformat_minor": 5
}
