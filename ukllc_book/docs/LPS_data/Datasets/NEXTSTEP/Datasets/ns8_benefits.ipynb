{
 "cells": [
  {
   "cell_type": "markdown",
   "id": "583b9d40",
   "metadata": {},
   "source": [
    "# NS Benefits Sweep 8 (NEXTSTEP)"
   ]
  },
  {
   "cell_type": "code",
   "execution_count": 1,
   "id": "580d57c3",
   "metadata": {
    "execution": {
     "iopub.execute_input": "2025-07-18T10:18:02.259521Z",
     "iopub.status.busy": "2025-07-18T10:18:02.258636Z",
     "iopub.status.idle": "2025-07-18T10:18:09.080663Z",
     "shell.execute_reply": "2025-07-18T10:18:09.078655Z"
    },
    "tags": [
     "remove-input"
    ]
   },
   "outputs": [
    {
     "data": {
      "text/markdown": [
       ">Last modified: 18 Jul 2025"
      ],
      "text/plain": [
       "<IPython.core.display.Markdown object>"
      ]
     },
     "metadata": {},
     "output_type": "display_data"
    }
   ],
   "source": [
    "\n",
    "import sys\n",
    "import os\n",
    "sys.path.append(os.path.abspath('../../../../scripts/'))\n",
    "from data_doc_helper import LPSDataSet as DS, last_modified\n",
    "API_KEY = os.environ['FASTAPI_KEY']\n",
    "ds = DS(\"NEXTSTEP\", \"ns8_benefits\")\n",
    "last_modified()\n"
   ]
  },
  {
   "cell_type": "markdown",
   "id": "a53cdb2d",
   "metadata": {},
   "source": [
    "## 1. Summary"
   ]
  },
  {
   "cell_type": "code",
   "execution_count": 2,
   "id": "e9edbc7e",
   "metadata": {
    "execution": {
     "iopub.execute_input": "2025-07-18T10:18:09.085663Z",
     "iopub.status.busy": "2025-07-18T10:18:09.085663Z",
     "iopub.status.idle": "2025-07-18T10:18:09.096182Z",
     "shell.execute_reply": "2025-07-18T10:18:09.094663Z"
    },
    "tags": [
     "remove-input"
    ]
   },
   "outputs": [
    {
     "data": {
      "text/markdown": [
       "Data was collected via a mixed mode approach (online, telephone or face-to-face) between August 2015 and September 2016. Questions cover:"
      ],
      "text/plain": [
       "<IPython.core.display.Markdown object>"
      ]
     },
     "metadata": {},
     "output_type": "display_data"
    }
   ],
   "source": [
    "ds.summary()"
   ]
  },
  {
   "cell_type": "code",
   "execution_count": 3,
   "id": "6fcd821b",
   "metadata": {
    "execution": {
     "iopub.execute_input": "2025-07-18T10:18:09.102179Z",
     "iopub.status.busy": "2025-07-18T10:18:09.101179Z",
     "iopub.status.idle": "2025-07-18T10:18:10.019336Z",
     "shell.execute_reply": "2025-07-18T10:18:10.017127Z"
    },
    "tags": [
     "remove-input"
    ]
   },
   "outputs": [
    {
     "data": {
      "text/html": [
       "<style type=\"text/css\">\n",
       "#T_f922a th {\n",
       "  text-align: left;\n",
       "}\n",
       "#T_f922a_row0_col0, #T_f922a_row0_col1, #T_f922a_row1_col0, #T_f922a_row1_col1, #T_f922a_row2_col0, #T_f922a_row2_col1, #T_f922a_row3_col0, #T_f922a_row3_col1, #T_f922a_row4_col0, #T_f922a_row4_col1, #T_f922a_row5_col0, #T_f922a_row5_col1, #T_f922a_row6_col0, #T_f922a_row6_col1, #T_f922a_row7_col0, #T_f922a_row7_col1, #T_f922a_row8_col0, #T_f922a_row8_col1, #T_f922a_row9_col0, #T_f922a_row9_col1, #T_f922a_row10_col0, #T_f922a_row10_col1, #T_f922a_row11_col0, #T_f922a_row11_col1, #T_f922a_row12_col0, #T_f922a_row12_col1 {\n",
       "  text-align: left;\n",
       "}\n",
       "</style>\n",
       "<table id=\"T_f922a\" style=\"font-size: 14px\">\n",
       "  <thead>\n",
       "    <tr>\n",
       "      <th id=\"T_f922a_level0_col0\" class=\"col_heading level0 col0\" >Dataset Descriptor</th>\n",
       "      <th id=\"T_f922a_level0_col1\" class=\"col_heading level0 col1\" >Dataset-specific Information</th>\n",
       "    </tr>\n",
       "  </thead>\n",
       "  <tbody>\n",
       "    <tr>\n",
       "      <td id=\"T_f922a_row0_col0\" class=\"data row0 col0\" >Name of Dataset in TRE</td>\n",
       "      <td id=\"T_f922a_row0_col1\" class=\"data row0 col1\" >NEXTSTEP_ns8_benefits</td>\n",
       "    </tr>\n",
       "    <tr>\n",
       "      <td id=\"T_f922a_row1_col0\" class=\"data row1 col0\" >Citation (APA)</td>\n",
       "      <td id=\"T_f922a_row1_col1\" class=\"data row1 col1\" >University College London, UCL Social Research Institute, Centre for Longitudinal Studies. (2021). <i>Next Steps: NS Benefits Sweep 8.</i> UK Longitudinal Linkage Collaboration (UK LLC).  <a href=\"https://doi.org/10.83126/ukllc-dataset-00354-01\" rel=\"noopener noreferrer\" target=\"_blank\">https://doi.org/10.83126/ukllc-dataset-00354-01</a></td>\n",
       "    </tr>\n",
       "    <tr>\n",
       "      <td id=\"T_f922a_row2_col0\" class=\"data row2 col0\" >Download Citation</td>\n",
       "      <td id=\"T_f922a_row2_col1\" class=\"data row2 col1\" > <a href=\"https://api.test.datacite.org/application/vnd.citationstyles.csl+json/10.83126/ukllc-dataset-00354-01\" rel=\"noopener noreferrer\" target=\"_blank\">Citeproc JSON</a>&nbsp;&nbsp;&nbsp;&nbsp; <a href=\"https://api.test.datacite.org/application/x-bibtex/10.83126/ukllc-dataset-00354-01\" rel=\"noopener noreferrer\" target=\"_blank\">BibTeX</a>&nbsp;&nbsp;&nbsp;&nbsp; <a href=\"https://api.test.datacite.org/application/x-research-info-systems/10.83126/ukllc-dataset-00354-01\" rel=\"noopener noreferrer\" target=\"_blank\">RIS</a></td>\n",
       "    </tr>\n",
       "    <tr>\n",
       "      <td id=\"T_f922a_row3_col0\" class=\"data row3 col0\" >Series</td>\n",
       "      <td id=\"T_f922a_row3_col1\" class=\"data row3 col1\" > <a href=\"https://guidebook.ukllc.ac.uk/docs/lps/lps%20profiles/NEXTSTEP\">Next Steps</a></td>\n",
       "    </tr>\n",
       "    <tr>\n",
       "      <td id=\"T_f922a_row4_col0\" class=\"data row4 col0\" >Owner</td>\n",
       "      <td id=\"T_f922a_row4_col1\" class=\"data row4 col1\" >UCL</td>\n",
       "    </tr>\n",
       "    <tr>\n",
       "      <td id=\"T_f922a_row5_col0\" class=\"data row5 col0\" >Temporal Coverage</td>\n",
       "      <td id=\"T_f922a_row5_col1\" class=\"data row5 col1\" >08/2015 - 09/2016</td>\n",
       "    </tr>\n",
       "    <tr>\n",
       "      <td id=\"T_f922a_row6_col0\" class=\"data row6 col0\" >Keywords</td>\n",
       "      <td id=\"T_f922a_row6_col1\" class=\"data row6 col1\" >Health,Education,Employment,Attitudes,Partners</td>\n",
       "    </tr>\n",
       "    <tr>\n",
       "      <td id=\"T_f922a_row7_col0\" class=\"data row7 col0\" >Participants Invited</td>\n",
       "      <td id=\"T_f922a_row7_col1\" class=\"data row7 col1\" >7707</td>\n",
       "    </tr>\n",
       "    <tr>\n",
       "      <td id=\"T_f922a_row8_col0\" class=\"data row8 col0\" >Participant Count</td>\n",
       "      <td id=\"T_f922a_row8_col1\" class=\"data row8 col1\" >1357</td>\n",
       "    </tr>\n",
       "    <tr>\n",
       "      <td id=\"T_f922a_row9_col0\" class=\"data row9 col0\" >Number of variables</td>\n",
       "      <td id=\"T_f922a_row9_col1\" class=\"data row9 col1\" >8</td>\n",
       "    </tr>\n",
       "    <tr>\n",
       "      <td id=\"T_f922a_row10_col0\" class=\"data row10 col0\" >Number of observations</td>\n",
       "      <td id=\"T_f922a_row10_col1\" class=\"data row10 col1\" >4091</td>\n",
       "    </tr>\n",
       "    <tr>\n",
       "      <td id=\"T_f922a_row11_col0\" class=\"data row11 col0\" >Specific Restrictions to Data Use</td>\n",
       "      <td id=\"T_f922a_row11_col1\" class=\"data row11 col1\" >None</td>\n",
       "    </tr>\n",
       "    <tr>\n",
       "      <td id=\"T_f922a_row12_col0\" class=\"data row12 col0\" >Build a Data Request</td>\n",
       "      <td id=\"T_f922a_row12_col1\" class=\"data row12 col1\" > <a href=\"https://explore.ukllc.ac.uk/\" rel=\"noopener noreferrer\" target=\"_blank\">https://explore.ukllc.ac.uk/</a></td>\n",
       "    </tr>\n",
       "  </tbody>\n",
       "</table>\n"
      ],
      "text/plain": [
       "<pandas.io.formats.style.Styler at 0x23b0dfdbbf0>"
      ]
     },
     "execution_count": 3,
     "metadata": {},
     "output_type": "execute_result"
    }
   ],
   "source": [
    "ds.info_table()"
   ]
  },
  {
   "cell_type": "markdown",
   "id": "68ea3485",
   "metadata": {},
   "source": [
    "## 2. Version History"
   ]
  },
  {
   "cell_type": "code",
   "execution_count": 4,
   "id": "668aea6b",
   "metadata": {
    "execution": {
     "iopub.execute_input": "2025-07-18T10:18:10.025332Z",
     "iopub.status.busy": "2025-07-18T10:18:10.025332Z",
     "iopub.status.idle": "2025-07-18T10:18:12.990991Z",
     "shell.execute_reply": "2025-07-18T10:18:12.988989Z"
    },
    "tags": [
     "remove-input"
    ]
   },
   "outputs": [
    {
     "data": {
      "text/html": [
       "<style type=\"text/css\">\n",
       "#T_38609 th {\n",
       "  text-align: left;\n",
       "}\n",
       "#T_38609_row0_col0, #T_38609_row0_col1, #T_38609_row1_col0, #T_38609_row1_col1, #T_38609_row2_col0, #T_38609_row2_col1, #T_38609_row3_col0, #T_38609_row3_col1, #T_38609_row4_col0, #T_38609_row4_col1 {\n",
       "  text-align: left;\n",
       "}\n",
       "</style>\n",
       "<table id=\"T_38609\" style=\"font-size: 14px\">\n",
       "  <thead>\n",
       "    <tr>\n",
       "      <th id=\"T_38609_level0_col0\" class=\"col_heading level0 col0\" >Version</th>\n",
       "      <th id=\"T_38609_level0_col1\" class=\"col_heading level0 col1\" >1</th>\n",
       "    </tr>\n",
       "  </thead>\n",
       "  <tbody>\n",
       "    <tr>\n",
       "      <td id=\"T_38609_row0_col0\" class=\"data row0 col0\" >Version Date</td>\n",
       "      <td id=\"T_38609_row0_col1\" class=\"data row0 col1\" >01 Nov 2021</td>\n",
       "    </tr>\n",
       "    <tr>\n",
       "      <td id=\"T_38609_row1_col0\" class=\"data row1 col0\" >Number of Variables</td>\n",
       "      <td id=\"T_38609_row1_col1\" class=\"data row1 col1\" >8</td>\n",
       "    </tr>\n",
       "    <tr>\n",
       "      <td id=\"T_38609_row2_col0\" class=\"data row2 col0\" >Number of Observations</td>\n",
       "      <td id=\"T_38609_row2_col1\" class=\"data row2 col1\" >4091</td>\n",
       "    </tr>\n",
       "    <tr>\n",
       "      <td id=\"T_38609_row3_col0\" class=\"data row3 col0\" >DOI</td>\n",
       "      <td id=\"T_38609_row3_col1\" class=\"data row3 col1\" > <a href=\"https://doi.org/10.83126/ukllc-dataset-00354-01\" rel=\"noopener noreferrer\" target=\"_blank\">10.83126/ukllc-dataset-00354-01</a></td>\n",
       "    </tr>\n",
       "    <tr>\n",
       "      <td id=\"T_38609_row4_col0\" class=\"data row4 col0\" >Change Log</td>\n",
       "      <td id=\"T_38609_row4_col1\" class=\"data row4 col1\" > <a href=\"https://api.test.datacite.org/dois/10.83126/ukllc-dataset-00354-01/activities\" rel=\"noopener noreferrer\" target=\"_blank\">10.83126/ukllc-dataset-00354-01/activities</a></td>\n",
       "    </tr>\n",
       "  </tbody>\n",
       "</table>\n"
      ],
      "text/plain": [
       "<pandas.io.formats.style.Styler at 0x23b13c7a510>"
      ]
     },
     "execution_count": 4,
     "metadata": {},
     "output_type": "execute_result"
    }
   ],
   "source": [
    "ds.version_history()"
   ]
  },
  {
   "cell_type": "markdown",
   "id": "2198a23d",
   "metadata": {},
   "source": [
    "## 3. Documentation"
   ]
  },
  {
   "cell_type": "code",
   "execution_count": 5,
   "id": "a6e01177",
   "metadata": {
    "execution": {
     "iopub.execute_input": "2025-07-18T10:18:12.996993Z",
     "iopub.status.busy": "2025-07-18T10:18:12.995991Z",
     "iopub.status.idle": "2025-07-18T10:18:13.005527Z",
     "shell.execute_reply": "2025-07-18T10:18:13.003426Z"
    },
    "tags": [
     "remove-input"
    ]
   },
   "outputs": [
    {
     "data": {
      "text/markdown": [
       "We are currently building a documentation storage system which will host useful documents related to datasets and data owners. We will surface these documents on Guidebook."
      ],
      "text/plain": [
       "<IPython.core.display.Markdown object>"
      ]
     },
     "metadata": {},
     "output_type": "display_data"
    }
   ],
   "source": [
    "ds.documentation()"
   ]
  },
  {
   "cell_type": "markdown",
   "id": "7cb7d4d5",
   "metadata": {},
   "source": [
    "## 4. Useful Syntax"
   ]
  },
  {
   "cell_type": "code",
   "execution_count": 6,
   "id": "e2c4f2b3",
   "metadata": {
    "execution": {
     "iopub.execute_input": "2025-07-18T10:18:13.010542Z",
     "iopub.status.busy": "2025-07-18T10:18:13.010542Z",
     "iopub.status.idle": "2025-07-18T10:18:13.018756Z",
     "shell.execute_reply": "2025-07-18T10:18:13.017748Z"
    },
    "tags": [
     "remove-input"
    ]
   },
   "outputs": [
    {
     "data": {
      "text/markdown": [
       "Below we will include syntax that may be helpful to other researchers in the UK LLC TRE. For longer scripts, we will include a snippet of the code plus a link to Git where you can find the full scripts."
      ],
      "text/plain": [
       "<IPython.core.display.Markdown object>"
      ]
     },
     "metadata": {},
     "output_type": "display_data"
    }
   ],
   "source": [
    "ds.useful_syntax()"
   ]
  }
 ],
 "metadata": {
  "language_info": {
   "codemirror_mode": {
    "name": "ipython",
    "version": 3
   },
   "file_extension": ".py",
   "mimetype": "text/x-python",
   "name": "python",
   "nbconvert_exporter": "python",
   "pygments_lexer": "ipython3",
   "version": "3.12.7"
  }
 },
 "nbformat": 4,
 "nbformat_minor": 5
}
