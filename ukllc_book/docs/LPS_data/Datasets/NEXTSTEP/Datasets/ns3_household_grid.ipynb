{
 "cells": [
  {
   "cell_type": "markdown",
   "id": "ab64a62f",
   "metadata": {},
   "source": [
    "# NS Household Grid Sweep 3 (NEXTSTEP)"
   ]
  },
  {
   "cell_type": "code",
   "execution_count": 1,
   "id": "696e6a7e",
   "metadata": {
    "execution": {
     "iopub.execute_input": "2025-07-18T10:14:43.257006Z",
     "iopub.status.busy": "2025-07-18T10:14:43.257006Z",
     "iopub.status.idle": "2025-07-18T10:14:50.083043Z",
     "shell.execute_reply": "2025-07-18T10:14:50.081033Z"
    },
    "tags": [
     "remove-input"
    ]
   },
   "outputs": [
    {
     "data": {
      "text/markdown": [
       ">Last modified: 18 Jul 2025"
      ],
      "text/plain": [
       "<IPython.core.display.Markdown object>"
      ]
     },
     "metadata": {},
     "output_type": "display_data"
    }
   ],
   "source": [
    "\n",
    "import sys\n",
    "import os\n",
    "sys.path.append(os.path.abspath('../../../../scripts/'))\n",
    "from data_doc_helper import LPSDataSet as DS, last_modified\n",
    "API_KEY = os.environ['FASTAPI_KEY']\n",
    "ds = DS(\"NEXTSTEP\", \"ns3_household_grid\")\n",
    "last_modified()\n"
   ]
  },
  {
   "cell_type": "markdown",
   "id": "077f81ff",
   "metadata": {},
   "source": [
    "## 1. Summary"
   ]
  },
  {
   "cell_type": "code",
   "execution_count": 2,
   "id": "c27a8b2b",
   "metadata": {
    "execution": {
     "iopub.execute_input": "2025-07-18T10:14:50.086041Z",
     "iopub.status.busy": "2025-07-18T10:14:50.086041Z",
     "iopub.status.idle": "2025-07-18T10:14:50.095304Z",
     "shell.execute_reply": "2025-07-18T10:14:50.094040Z"
    },
    "tags": [
     "remove-input"
    ]
   },
   "outputs": [
    {
     "data": {
      "text/markdown": [
       "Data was collected via face to face interviewing between April and September 2006. A summary of the content includes: Household member identifier, Whether person is a new member to household, Whether person is still living with cohort member, Reason person no longer lives with cohort member, Date started living with cohort member, Sex of person, Relationship to cohort member, Marital status of person, Whether person living with someone in the household as a couple, Employment status of person, Ethnic group of person"
      ],
      "text/plain": [
       "<IPython.core.display.Markdown object>"
      ]
     },
     "metadata": {},
     "output_type": "display_data"
    }
   ],
   "source": [
    "ds.summary()"
   ]
  },
  {
   "cell_type": "code",
   "execution_count": 3,
   "id": "a13f72e2",
   "metadata": {
    "execution": {
     "iopub.execute_input": "2025-07-18T10:14:50.101520Z",
     "iopub.status.busy": "2025-07-18T10:14:50.100316Z",
     "iopub.status.idle": "2025-07-18T10:14:51.385041Z",
     "shell.execute_reply": "2025-07-18T10:14:51.382807Z"
    },
    "tags": [
     "remove-input"
    ]
   },
   "outputs": [
    {
     "data": {
      "text/html": [
       "<style type=\"text/css\">\n",
       "#T_1f542 th {\n",
       "  text-align: left;\n",
       "}\n",
       "#T_1f542_row0_col0, #T_1f542_row0_col1, #T_1f542_row1_col0, #T_1f542_row1_col1, #T_1f542_row2_col0, #T_1f542_row2_col1, #T_1f542_row3_col0, #T_1f542_row3_col1, #T_1f542_row4_col0, #T_1f542_row4_col1, #T_1f542_row5_col0, #T_1f542_row5_col1, #T_1f542_row6_col0, #T_1f542_row6_col1, #T_1f542_row7_col0, #T_1f542_row7_col1, #T_1f542_row8_col0, #T_1f542_row8_col1, #T_1f542_row9_col0, #T_1f542_row9_col1, #T_1f542_row10_col0, #T_1f542_row10_col1, #T_1f542_row11_col0, #T_1f542_row11_col1, #T_1f542_row12_col0, #T_1f542_row12_col1 {\n",
       "  text-align: left;\n",
       "}\n",
       "</style>\n",
       "<table id=\"T_1f542\" style=\"font-size: 14px\">\n",
       "  <thead>\n",
       "    <tr>\n",
       "      <th id=\"T_1f542_level0_col0\" class=\"col_heading level0 col0\" >Dataset Descriptor</th>\n",
       "      <th id=\"T_1f542_level0_col1\" class=\"col_heading level0 col1\" >Dataset-specific Information</th>\n",
       "    </tr>\n",
       "  </thead>\n",
       "  <tbody>\n",
       "    <tr>\n",
       "      <td id=\"T_1f542_row0_col0\" class=\"data row0 col0\" >Name of Dataset in TRE</td>\n",
       "      <td id=\"T_1f542_row0_col1\" class=\"data row0 col1\" >NEXTSTEP_ns3_household_grid</td>\n",
       "    </tr>\n",
       "    <tr>\n",
       "      <td id=\"T_1f542_row1_col0\" class=\"data row1 col0\" >Citation (APA)</td>\n",
       "      <td id=\"T_1f542_row1_col1\" class=\"data row1 col1\" >University College London, UCL Social Research Institute, Centre for Longitudinal Studies. (2021). <i>Next Steps: NS Household Grid Sweep 3.</i> UK Longitudinal Linkage Collaboration (UK LLC).  <a href=\"https://doi.org/10.83126/ukllc-dataset-00340-01\" rel=\"noopener noreferrer\" target=\"_blank\">https://doi.org/10.83126/ukllc-dataset-00340-01</a></td>\n",
       "    </tr>\n",
       "    <tr>\n",
       "      <td id=\"T_1f542_row2_col0\" class=\"data row2 col0\" >Download Citation</td>\n",
       "      <td id=\"T_1f542_row2_col1\" class=\"data row2 col1\" > <a href=\"https://api.test.datacite.org/application/vnd.citationstyles.csl+json/10.83126/ukllc-dataset-00340-01\" rel=\"noopener noreferrer\" target=\"_blank\">Citeproc JSON</a>&nbsp;&nbsp;&nbsp;&nbsp; <a href=\"https://api.test.datacite.org/application/x-bibtex/10.83126/ukllc-dataset-00340-01\" rel=\"noopener noreferrer\" target=\"_blank\">BibTeX</a>&nbsp;&nbsp;&nbsp;&nbsp; <a href=\"https://api.test.datacite.org/application/x-research-info-systems/10.83126/ukllc-dataset-00340-01\" rel=\"noopener noreferrer\" target=\"_blank\">RIS</a></td>\n",
       "    </tr>\n",
       "    <tr>\n",
       "      <td id=\"T_1f542_row3_col0\" class=\"data row3 col0\" >Series</td>\n",
       "      <td id=\"T_1f542_row3_col1\" class=\"data row3 col1\" > <a href=\"https://guidebook.ukllc.ac.uk/docs/lps/lps%20profiles/NEXTSTEP\">Next Steps</a></td>\n",
       "    </tr>\n",
       "    <tr>\n",
       "      <td id=\"T_1f542_row4_col0\" class=\"data row4 col0\" >Owner</td>\n",
       "      <td id=\"T_1f542_row4_col1\" class=\"data row4 col1\" >UCL</td>\n",
       "    </tr>\n",
       "    <tr>\n",
       "      <td id=\"T_1f542_row5_col0\" class=\"data row5 col0\" >Temporal Coverage</td>\n",
       "      <td id=\"T_1f542_row5_col1\" class=\"data row5 col1\" >04/2006 - 09/2006</td>\n",
       "    </tr>\n",
       "    <tr>\n",
       "      <td id=\"T_1f542_row6_col0\" class=\"data row6 col0\" >Keywords</td>\n",
       "      <td id=\"T_1f542_row6_col1\" class=\"data row6 col1\" >Health,Education,Leisure & sport,Attitudes,Youth,Employment</td>\n",
       "    </tr>\n",
       "    <tr>\n",
       "      <td id=\"T_1f542_row7_col0\" class=\"data row7 col0\" >Participants Invited</td>\n",
       "      <td id=\"T_1f542_row7_col1\" class=\"data row7 col1\" >12439</td>\n",
       "    </tr>\n",
       "    <tr>\n",
       "      <td id=\"T_1f542_row8_col0\" class=\"data row8 col0\" >Participant Count</td>\n",
       "      <td id=\"T_1f542_row8_col1\" class=\"data row8 col1\" >5474</td>\n",
       "    </tr>\n",
       "    <tr>\n",
       "      <td id=\"T_1f542_row9_col0\" class=\"data row9 col0\" >Number of variables</td>\n",
       "      <td id=\"T_1f542_row9_col1\" class=\"data row9 col1\" >35</td>\n",
       "    </tr>\n",
       "    <tr>\n",
       "      <td id=\"T_1f542_row10_col0\" class=\"data row10 col0\" >Number of observations</td>\n",
       "      <td id=\"T_1f542_row10_col1\" class=\"data row10 col1\" >54954</td>\n",
       "    </tr>\n",
       "    <tr>\n",
       "      <td id=\"T_1f542_row11_col0\" class=\"data row11 col0\" >Specific Restrictions to Data Use</td>\n",
       "      <td id=\"T_1f542_row11_col1\" class=\"data row11 col1\" >None</td>\n",
       "    </tr>\n",
       "    <tr>\n",
       "      <td id=\"T_1f542_row12_col0\" class=\"data row12 col0\" >Build a Data Request</td>\n",
       "      <td id=\"T_1f542_row12_col1\" class=\"data row12 col1\" > <a href=\"https://explore.ukllc.ac.uk/\" rel=\"noopener noreferrer\" target=\"_blank\">https://explore.ukllc.ac.uk/</a></td>\n",
       "    </tr>\n",
       "  </tbody>\n",
       "</table>\n"
      ],
      "text/plain": [
       "<pandas.io.formats.style.Styler at 0x22055b384a0>"
      ]
     },
     "execution_count": 3,
     "metadata": {},
     "output_type": "execute_result"
    }
   ],
   "source": [
    "ds.info_table()"
   ]
  },
  {
   "cell_type": "markdown",
   "id": "41ceb463",
   "metadata": {},
   "source": [
    "## 2. Version History"
   ]
  },
  {
   "cell_type": "code",
   "execution_count": 4,
   "id": "73e641b0",
   "metadata": {
    "execution": {
     "iopub.execute_input": "2025-07-18T10:14:51.392044Z",
     "iopub.status.busy": "2025-07-18T10:14:51.391041Z",
     "iopub.status.idle": "2025-07-18T10:14:53.709267Z",
     "shell.execute_reply": "2025-07-18T10:14:53.707255Z"
    },
    "tags": [
     "remove-input"
    ]
   },
   "outputs": [
    {
     "data": {
      "text/html": [
       "<style type=\"text/css\">\n",
       "#T_19d35 th {\n",
       "  text-align: left;\n",
       "}\n",
       "#T_19d35_row0_col0, #T_19d35_row0_col1, #T_19d35_row1_col0, #T_19d35_row1_col1, #T_19d35_row2_col0, #T_19d35_row2_col1, #T_19d35_row3_col0, #T_19d35_row3_col1, #T_19d35_row4_col0, #T_19d35_row4_col1 {\n",
       "  text-align: left;\n",
       "}\n",
       "</style>\n",
       "<table id=\"T_19d35\" style=\"font-size: 14px\">\n",
       "  <thead>\n",
       "    <tr>\n",
       "      <th id=\"T_19d35_level0_col0\" class=\"col_heading level0 col0\" >Version</th>\n",
       "      <th id=\"T_19d35_level0_col1\" class=\"col_heading level0 col1\" >1</th>\n",
       "    </tr>\n",
       "  </thead>\n",
       "  <tbody>\n",
       "    <tr>\n",
       "      <td id=\"T_19d35_row0_col0\" class=\"data row0 col0\" >Version Date</td>\n",
       "      <td id=\"T_19d35_row0_col1\" class=\"data row0 col1\" >01 Nov 2021</td>\n",
       "    </tr>\n",
       "    <tr>\n",
       "      <td id=\"T_19d35_row1_col0\" class=\"data row1 col0\" >Number of Variables</td>\n",
       "      <td id=\"T_19d35_row1_col1\" class=\"data row1 col1\" >35</td>\n",
       "    </tr>\n",
       "    <tr>\n",
       "      <td id=\"T_19d35_row2_col0\" class=\"data row2 col0\" >Number of Observations</td>\n",
       "      <td id=\"T_19d35_row2_col1\" class=\"data row2 col1\" >54954</td>\n",
       "    </tr>\n",
       "    <tr>\n",
       "      <td id=\"T_19d35_row3_col0\" class=\"data row3 col0\" >DOI</td>\n",
       "      <td id=\"T_19d35_row3_col1\" class=\"data row3 col1\" > <a href=\"https://doi.org/10.83126/ukllc-dataset-00340-01\" rel=\"noopener noreferrer\" target=\"_blank\">10.83126/ukllc-dataset-00340-01</a></td>\n",
       "    </tr>\n",
       "    <tr>\n",
       "      <td id=\"T_19d35_row4_col0\" class=\"data row4 col0\" >Change Log</td>\n",
       "      <td id=\"T_19d35_row4_col1\" class=\"data row4 col1\" > <a href=\"https://api.test.datacite.org/dois/10.83126/ukllc-dataset-00340-01/activities\" rel=\"noopener noreferrer\" target=\"_blank\">10.83126/ukllc-dataset-00340-01/activities</a></td>\n",
       "    </tr>\n",
       "  </tbody>\n",
       "</table>\n"
      ],
      "text/plain": [
       "<pandas.io.formats.style.Styler at 0x22055c5d760>"
      ]
     },
     "execution_count": 4,
     "metadata": {},
     "output_type": "execute_result"
    }
   ],
   "source": [
    "ds.version_history()"
   ]
  },
  {
   "cell_type": "markdown",
   "id": "bca296b0",
   "metadata": {},
   "source": [
    "## 3. Documentation"
   ]
  },
  {
   "cell_type": "code",
   "execution_count": 5,
   "id": "ef08d66f",
   "metadata": {
    "execution": {
     "iopub.execute_input": "2025-07-18T10:14:53.715273Z",
     "iopub.status.busy": "2025-07-18T10:14:53.715273Z",
     "iopub.status.idle": "2025-07-18T10:14:53.721475Z",
     "shell.execute_reply": "2025-07-18T10:14:53.720468Z"
    },
    "tags": [
     "remove-input"
    ]
   },
   "outputs": [
    {
     "data": {
      "text/markdown": [
       "We are currently building a documentation storage system which will host useful documents related to datasets and data owners. We will surface these documents on Guidebook."
      ],
      "text/plain": [
       "<IPython.core.display.Markdown object>"
      ]
     },
     "metadata": {},
     "output_type": "display_data"
    }
   ],
   "source": [
    "ds.documentation()"
   ]
  },
  {
   "cell_type": "markdown",
   "id": "7aec041d",
   "metadata": {},
   "source": [
    "## 4. Useful Syntax"
   ]
  },
  {
   "cell_type": "code",
   "execution_count": 6,
   "id": "9ae51aa8",
   "metadata": {
    "execution": {
     "iopub.execute_input": "2025-07-18T10:14:53.726986Z",
     "iopub.status.busy": "2025-07-18T10:14:53.726477Z",
     "iopub.status.idle": "2025-07-18T10:14:53.732017Z",
     "shell.execute_reply": "2025-07-18T10:14:53.732017Z"
    },
    "tags": [
     "remove-input"
    ]
   },
   "outputs": [
    {
     "data": {
      "text/markdown": [
       "Below we will include syntax that may be helpful to other researchers in the UK LLC TRE. For longer scripts, we will include a snippet of the code plus a link to Git where you can find the full scripts."
      ],
      "text/plain": [
       "<IPython.core.display.Markdown object>"
      ]
     },
     "metadata": {},
     "output_type": "display_data"
    }
   ],
   "source": [
    "ds.useful_syntax()"
   ]
  }
 ],
 "metadata": {
  "language_info": {
   "codemirror_mode": {
    "name": "ipython",
    "version": 3
   },
   "file_extension": ".py",
   "mimetype": "text/x-python",
   "name": "python",
   "nbconvert_exporter": "python",
   "pygments_lexer": "ipython3",
   "version": "3.12.7"
  }
 },
 "nbformat": 4,
 "nbformat_minor": 5
}
