{
 "cells": [
  {
   "cell_type": "markdown",
   "id": "f39e83c6",
   "metadata": {},
   "source": [
    "# NS Family Background Sweep 5 (NEXTSTEP)"
   ]
  },
  {
   "cell_type": "code",
   "execution_count": 1,
   "id": "1a4a51d0",
   "metadata": {
    "execution": {
     "iopub.execute_input": "2025-07-28T20:04:04.218613Z",
     "iopub.status.busy": "2025-07-28T20:04:04.218613Z",
     "iopub.status.idle": "2025-07-28T20:04:16.746332Z",
     "shell.execute_reply": "2025-07-28T20:04:16.744319Z"
    },
    "tags": [
     "remove-input"
    ]
   },
   "outputs": [
    {
     "data": {
      "text/markdown": [
       ">Last modified: 28 Jul 2025"
      ],
      "text/plain": [
       "<IPython.core.display.Markdown object>"
      ]
     },
     "metadata": {},
     "output_type": "display_data"
    }
   ],
   "source": [
    "\n",
    "import sys\n",
    "import os\n",
    "sys.path.append(os.path.abspath('../../../../scripts/'))\n",
    "from data_doc_helper import LPSDataSet as DS, last_modified\n",
    "API_KEY = os.environ['FASTAPI_KEY']\n",
    "ds = DS(\"NEXTSTEP\", \"ns5_family_background\")\n",
    "last_modified()\n"
   ]
  },
  {
   "cell_type": "markdown",
   "id": "35938ce9",
   "metadata": {},
   "source": [
    "## 1. Summary"
   ]
  },
  {
   "cell_type": "code",
   "execution_count": 2,
   "id": "0c4c637a",
   "metadata": {
    "execution": {
     "iopub.execute_input": "2025-07-28T20:04:16.755863Z",
     "iopub.status.busy": "2025-07-28T20:04:16.754863Z",
     "iopub.status.idle": "2025-07-28T20:04:16.769163Z",
     "shell.execute_reply": "2025-07-28T20:04:16.766147Z"
    },
    "tags": [
     "remove-input"
    ]
   },
   "outputs": [
    {
     "data": {
      "text/markdown": [
       "Data was collected via a mixed mode approach (online, telephone or face-to-face) between June and October 2008. Questions cover:  Parental employment"
      ],
      "text/plain": [
       "<IPython.core.display.Markdown object>"
      ]
     },
     "metadata": {},
     "output_type": "display_data"
    }
   ],
   "source": [
    "ds.summary()"
   ]
  },
  {
   "cell_type": "code",
   "execution_count": 3,
   "id": "401a71d4",
   "metadata": {
    "execution": {
     "iopub.execute_input": "2025-07-28T20:04:16.776163Z",
     "iopub.status.busy": "2025-07-28T20:04:16.776163Z",
     "iopub.status.idle": "2025-07-28T20:04:18.679035Z",
     "shell.execute_reply": "2025-07-28T20:04:18.677007Z"
    },
    "tags": [
     "remove-input"
    ]
   },
   "outputs": [
    {
     "data": {
      "text/html": [
       "<style type=\"text/css\">\n",
       "#T_1f20c th {\n",
       "  text-align: left;\n",
       "}\n",
       "#T_1f20c_row0_col0, #T_1f20c_row0_col1, #T_1f20c_row1_col0, #T_1f20c_row1_col1, #T_1f20c_row2_col0, #T_1f20c_row2_col1, #T_1f20c_row3_col0, #T_1f20c_row3_col1, #T_1f20c_row4_col0, #T_1f20c_row4_col1, #T_1f20c_row5_col0, #T_1f20c_row5_col1, #T_1f20c_row6_col0, #T_1f20c_row6_col1, #T_1f20c_row7_col0, #T_1f20c_row7_col1, #T_1f20c_row8_col0, #T_1f20c_row8_col1, #T_1f20c_row9_col0, #T_1f20c_row9_col1, #T_1f20c_row10_col0, #T_1f20c_row10_col1, #T_1f20c_row11_col0, #T_1f20c_row11_col1, #T_1f20c_row12_col0, #T_1f20c_row12_col1 {\n",
       "  text-align: left;\n",
       "}\n",
       "</style>\n",
       "<table id=\"T_1f20c\" style=\"font-size: 14px\">\n",
       "  <thead>\n",
       "    <tr>\n",
       "      <th id=\"T_1f20c_level0_col0\" class=\"col_heading level0 col0\" >Dataset Descriptor</th>\n",
       "      <th id=\"T_1f20c_level0_col1\" class=\"col_heading level0 col1\" >Dataset-specific Information</th>\n",
       "    </tr>\n",
       "  </thead>\n",
       "  <tbody>\n",
       "    <tr>\n",
       "      <td id=\"T_1f20c_row0_col0\" class=\"data row0 col0\" >Name of Dataset in TRE</td>\n",
       "      <td id=\"T_1f20c_row0_col1\" class=\"data row0 col1\" >NEXTSTEP_ns5_family_background</td>\n",
       "    </tr>\n",
       "    <tr>\n",
       "      <td id=\"T_1f20c_row1_col0\" class=\"data row1 col0\" >Citation (APA)</td>\n",
       "      <td id=\"T_1f20c_row1_col1\" class=\"data row1 col1\" >University College London, UCL Social Research Institute, Centre for Longitudinal Studies. (2021). <i>Next Steps: NS Family Background Sweep 5.</i> UK Longitudinal Linkage Collaboration (UK LLC).  <a href=\"https://doi.org/10.71760/ukllc-dataset-00278-01\" rel=\"noopener noreferrer\" target=\"_blank\">https://doi.org/10.71760/ukllc-dataset-00278-01</a></td>\n",
       "    </tr>\n",
       "    <tr>\n",
       "      <td id=\"T_1f20c_row2_col0\" class=\"data row2 col0\" >Download Citation</td>\n",
       "      <td id=\"T_1f20c_row2_col1\" class=\"data row2 col1\" > <a href=\"https://api.datacite.org/application/vnd.citationstyles.csl+json/10.71760/ukllc-dataset-00278-01\" rel=\"noopener noreferrer\" target=\"_blank\">Citeproc JSON</a>&nbsp;&nbsp;&nbsp;&nbsp; <a href=\"https://api.datacite.org/application/x-bibtex/10.71760/ukllc-dataset-00278-01\" rel=\"noopener noreferrer\" target=\"_blank\">BibTeX</a>&nbsp;&nbsp;&nbsp;&nbsp; <a href=\"https://api.datacite.org/application/x-research-info-systems/10.71760/ukllc-dataset-00278-01\" rel=\"noopener noreferrer\" target=\"_blank\">RIS</a></td>\n",
       "    </tr>\n",
       "    <tr>\n",
       "      <td id=\"T_1f20c_row3_col0\" class=\"data row3 col0\" >Series</td>\n",
       "      <td id=\"T_1f20c_row3_col1\" class=\"data row3 col1\" > <a href=\"https://guidebook.ukllc.ac.uk/docs/lps_data/lps%20profiles/NEXTSTEP\">Next Steps</a></td>\n",
       "    </tr>\n",
       "    <tr>\n",
       "      <td id=\"T_1f20c_row4_col0\" class=\"data row4 col0\" >Owner</td>\n",
       "      <td id=\"T_1f20c_row4_col1\" class=\"data row4 col1\" >UCL</td>\n",
       "    </tr>\n",
       "    <tr>\n",
       "      <td id=\"T_1f20c_row5_col0\" class=\"data row5 col0\" >Temporal Coverage</td>\n",
       "      <td id=\"T_1f20c_row5_col1\" class=\"data row5 col1\" >06/2008 - 10/2008</td>\n",
       "    </tr>\n",
       "    <tr>\n",
       "      <td id=\"T_1f20c_row6_col0\" class=\"data row6 col0\" >Keywords</td>\n",
       "      <td id=\"T_1f20c_row6_col1\" class=\"data row6 col1\" >Health,Education,Employment,Attitudes,Partners</td>\n",
       "    </tr>\n",
       "    <tr>\n",
       "      <td id=\"T_1f20c_row7_col0\" class=\"data row7 col0\" >Participants Invited</td>\n",
       "      <td id=\"T_1f20c_row7_col1\" class=\"data row7 col1\" >10430</td>\n",
       "    </tr>\n",
       "    <tr>\n",
       "      <td id=\"T_1f20c_row8_col0\" class=\"data row8 col0\" >Participant Count</td>\n",
       "      <td id=\"T_1f20c_row8_col1\" class=\"data row8 col1\" >5057</td>\n",
       "    </tr>\n",
       "    <tr>\n",
       "      <td id=\"T_1f20c_row9_col0\" class=\"data row9 col0\" >Number of variables</td>\n",
       "      <td id=\"T_1f20c_row9_col1\" class=\"data row9 col1\" >52</td>\n",
       "    </tr>\n",
       "    <tr>\n",
       "      <td id=\"T_1f20c_row10_col0\" class=\"data row10 col0\" >Number of observations</td>\n",
       "      <td id=\"T_1f20c_row10_col1\" class=\"data row10 col1\" >10174</td>\n",
       "    </tr>\n",
       "    <tr>\n",
       "      <td id=\"T_1f20c_row11_col0\" class=\"data row11 col0\" >Specific Restrictions to Data Use</td>\n",
       "      <td id=\"T_1f20c_row11_col1\" class=\"data row11 col1\" >None</td>\n",
       "    </tr>\n",
       "    <tr>\n",
       "      <td id=\"T_1f20c_row12_col0\" class=\"data row12 col0\" >Build a Data Request</td>\n",
       "      <td id=\"T_1f20c_row12_col1\" class=\"data row12 col1\" > <a href=\"https://explore.ukllc.ac.uk/\" rel=\"noopener noreferrer\" target=\"_blank\">https://explore.ukllc.ac.uk/</a></td>\n",
       "    </tr>\n",
       "  </tbody>\n",
       "</table>\n"
      ],
      "text/plain": [
       "<pandas.io.formats.style.Styler at 0x245016307d0>"
      ]
     },
     "execution_count": 3,
     "metadata": {},
     "output_type": "execute_result"
    }
   ],
   "source": [
    "ds.info_table()"
   ]
  },
  {
   "cell_type": "markdown",
   "id": "b590a473",
   "metadata": {},
   "source": [
    "## 2. Version History"
   ]
  },
  {
   "cell_type": "code",
   "execution_count": 4,
   "id": "5f40b033",
   "metadata": {
    "execution": {
     "iopub.execute_input": "2025-07-28T20:04:18.688036Z",
     "iopub.status.busy": "2025-07-28T20:04:18.687033Z",
     "iopub.status.idle": "2025-07-28T20:04:24.066145Z",
     "shell.execute_reply": "2025-07-28T20:04:24.064144Z"
    },
    "tags": [
     "remove-input"
    ]
   },
   "outputs": [
    {
     "data": {
      "text/html": [
       "<style type=\"text/css\">\n",
       "#T_f200f th {\n",
       "  text-align: left;\n",
       "}\n",
       "#T_f200f_row0_col0, #T_f200f_row0_col1, #T_f200f_row1_col0, #T_f200f_row1_col1, #T_f200f_row2_col0, #T_f200f_row2_col1, #T_f200f_row3_col0, #T_f200f_row3_col1, #T_f200f_row4_col0, #T_f200f_row4_col1 {\n",
       "  text-align: left;\n",
       "}\n",
       "</style>\n",
       "<table id=\"T_f200f\" style=\"font-size: 14px\">\n",
       "  <thead>\n",
       "    <tr>\n",
       "      <th id=\"T_f200f_level0_col0\" class=\"col_heading level0 col0\" >Version</th>\n",
       "      <th id=\"T_f200f_level0_col1\" class=\"col_heading level0 col1\" >1</th>\n",
       "    </tr>\n",
       "  </thead>\n",
       "  <tbody>\n",
       "    <tr>\n",
       "      <td id=\"T_f200f_row0_col0\" class=\"data row0 col0\" >Version Date</td>\n",
       "      <td id=\"T_f200f_row0_col1\" class=\"data row0 col1\" >01 Nov 2021</td>\n",
       "    </tr>\n",
       "    <tr>\n",
       "      <td id=\"T_f200f_row1_col0\" class=\"data row1 col0\" >Number of Variables</td>\n",
       "      <td id=\"T_f200f_row1_col1\" class=\"data row1 col1\" >52</td>\n",
       "    </tr>\n",
       "    <tr>\n",
       "      <td id=\"T_f200f_row2_col0\" class=\"data row2 col0\" >Number of Observations</td>\n",
       "      <td id=\"T_f200f_row2_col1\" class=\"data row2 col1\" >10174</td>\n",
       "    </tr>\n",
       "    <tr>\n",
       "      <td id=\"T_f200f_row3_col0\" class=\"data row3 col0\" >DOI</td>\n",
       "      <td id=\"T_f200f_row3_col1\" class=\"data row3 col1\" > <a href=\"https://doi.org/10.71760/ukllc-dataset-00278-01\" rel=\"noopener noreferrer\" target=\"_blank\">10.71760/ukllc-dataset-00278-01</a></td>\n",
       "    </tr>\n",
       "    <tr>\n",
       "      <td id=\"T_f200f_row4_col0\" class=\"data row4 col0\" >Change Log</td>\n",
       "      <td id=\"T_f200f_row4_col1\" class=\"data row4 col1\" > <a href=\"https://api.test.datacite.org/dois/10.71760/ukllc-dataset-00278-01/activities\" rel=\"noopener noreferrer\" target=\"_blank\">10.71760/ukllc-dataset-00278-01/activities</a></td>\n",
       "    </tr>\n",
       "  </tbody>\n",
       "</table>\n"
      ],
      "text/plain": [
       "<pandas.io.formats.style.Styler at 0x245073f7e00>"
      ]
     },
     "execution_count": 4,
     "metadata": {},
     "output_type": "execute_result"
    }
   ],
   "source": [
    "ds.version_history()"
   ]
  },
  {
   "cell_type": "markdown",
   "id": "1261084f",
   "metadata": {},
   "source": [
    "## 3. Documentation"
   ]
  },
  {
   "cell_type": "code",
   "execution_count": 5,
   "id": "3db565ea",
   "metadata": {
    "execution": {
     "iopub.execute_input": "2025-07-28T20:04:24.076227Z",
     "iopub.status.busy": "2025-07-28T20:04:24.074248Z",
     "iopub.status.idle": "2025-07-28T20:04:24.091641Z",
     "shell.execute_reply": "2025-07-28T20:04:24.090528Z"
    },
    "tags": [
     "remove-input"
    ]
   },
   "outputs": [
    {
     "data": {
      "text/markdown": [
       "We are currently building a documentation storage system which will host useful documents related to datasets and data owners. We will surface these documents on Guidebook."
      ],
      "text/plain": [
       "<IPython.core.display.Markdown object>"
      ]
     },
     "metadata": {},
     "output_type": "display_data"
    }
   ],
   "source": [
    "ds.documentation()"
   ]
  },
  {
   "cell_type": "markdown",
   "id": "a088d860",
   "metadata": {},
   "source": [
    "## 4. Useful Syntax"
   ]
  },
  {
   "cell_type": "code",
   "execution_count": 6,
   "id": "86cdeddd",
   "metadata": {
    "execution": {
     "iopub.execute_input": "2025-07-28T20:04:24.100781Z",
     "iopub.status.busy": "2025-07-28T20:04:24.099779Z",
     "iopub.status.idle": "2025-07-28T20:04:24.113015Z",
     "shell.execute_reply": "2025-07-28T20:04:24.110983Z"
    },
    "tags": [
     "remove-input"
    ]
   },
   "outputs": [
    {
     "data": {
      "text/markdown": [
       "Below we will include syntax that may be helpful to other researchers in the UK LLC TRE. For longer scripts, we will include a snippet of the code plus a link to Git where you can find the full scripts."
      ],
      "text/plain": [
       "<IPython.core.display.Markdown object>"
      ]
     },
     "metadata": {},
     "output_type": "display_data"
    }
   ],
   "source": [
    "ds.useful_syntax()"
   ]
  }
 ],
 "metadata": {
  "language_info": {
   "codemirror_mode": {
    "name": "ipython",
    "version": 3
   },
   "file_extension": ".py",
   "mimetype": "text/x-python",
   "name": "python",
   "nbconvert_exporter": "python",
   "pygments_lexer": "ipython3",
   "version": "3.12.7"
  }
 },
 "nbformat": 4,
 "nbformat_minor": 5
}
