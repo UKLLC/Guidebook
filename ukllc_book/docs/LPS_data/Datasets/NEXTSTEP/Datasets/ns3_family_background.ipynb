{
 "cells": [
  {
   "cell_type": "markdown",
   "id": "a77ffc40",
   "metadata": {},
   "source": [
    "# NS Family Background Sweep 3 (NEXTSTEP)"
   ]
  },
  {
   "cell_type": "code",
   "execution_count": 1,
   "id": "d95c46b1",
   "metadata": {
    "execution": {
     "iopub.execute_input": "2025-07-28T20:00:33.623321Z",
     "iopub.status.busy": "2025-07-28T20:00:33.623321Z",
     "iopub.status.idle": "2025-07-28T20:00:45.932373Z",
     "shell.execute_reply": "2025-07-28T20:00:45.929894Z"
    },
    "tags": [
     "remove-input"
    ]
   },
   "outputs": [
    {
     "data": {
      "text/markdown": [
       ">Last modified: 28 Jul 2025"
      ],
      "text/plain": [
       "<IPython.core.display.Markdown object>"
      ]
     },
     "metadata": {},
     "output_type": "display_data"
    }
   ],
   "source": [
    "\n",
    "import sys\n",
    "import os\n",
    "sys.path.append(os.path.abspath('../../../../scripts/'))\n",
    "from data_doc_helper import LPSDataSet as DS, last_modified\n",
    "API_KEY = os.environ['FASTAPI_KEY']\n",
    "ds = DS(\"NEXTSTEP\", \"ns3_family_background\")\n",
    "last_modified()\n"
   ]
  },
  {
   "cell_type": "markdown",
   "id": "2dde0842",
   "metadata": {},
   "source": [
    "## 1. Summary"
   ]
  },
  {
   "cell_type": "code",
   "execution_count": 2,
   "id": "0ded1580",
   "metadata": {
    "execution": {
     "iopub.execute_input": "2025-07-28T20:00:45.940574Z",
     "iopub.status.busy": "2025-07-28T20:00:45.939577Z",
     "iopub.status.idle": "2025-07-28T20:00:45.951043Z",
     "shell.execute_reply": "2025-07-28T20:00:45.949510Z"
    },
    "tags": [
     "remove-input"
    ]
   },
   "outputs": [
    {
     "data": {
      "text/markdown": [
       "Data was collected via face to face interviewing between April and September 2006. Questions cover:  Languages spoken in the home,Household responsibilities,Household resources,Current activity, Second adult current activity,Employment/activity history,  Income estimates"
      ],
      "text/plain": [
       "<IPython.core.display.Markdown object>"
      ]
     },
     "metadata": {},
     "output_type": "display_data"
    }
   ],
   "source": [
    "ds.summary()"
   ]
  },
  {
   "cell_type": "code",
   "execution_count": 3,
   "id": "a9f5447c",
   "metadata": {
    "execution": {
     "iopub.execute_input": "2025-07-28T20:00:45.959045Z",
     "iopub.status.busy": "2025-07-28T20:00:45.958047Z",
     "iopub.status.idle": "2025-07-28T20:00:47.628864Z",
     "shell.execute_reply": "2025-07-28T20:00:47.627847Z"
    },
    "tags": [
     "remove-input"
    ]
   },
   "outputs": [
    {
     "data": {
      "text/html": [
       "<style type=\"text/css\">\n",
       "#T_d4441 th {\n",
       "  text-align: left;\n",
       "}\n",
       "#T_d4441_row0_col0, #T_d4441_row0_col1, #T_d4441_row1_col0, #T_d4441_row1_col1, #T_d4441_row2_col0, #T_d4441_row2_col1, #T_d4441_row3_col0, #T_d4441_row3_col1, #T_d4441_row4_col0, #T_d4441_row4_col1, #T_d4441_row5_col0, #T_d4441_row5_col1, #T_d4441_row6_col0, #T_d4441_row6_col1, #T_d4441_row7_col0, #T_d4441_row7_col1, #T_d4441_row8_col0, #T_d4441_row8_col1, #T_d4441_row9_col0, #T_d4441_row9_col1, #T_d4441_row10_col0, #T_d4441_row10_col1, #T_d4441_row11_col0, #T_d4441_row11_col1, #T_d4441_row12_col0, #T_d4441_row12_col1 {\n",
       "  text-align: left;\n",
       "}\n",
       "</style>\n",
       "<table id=\"T_d4441\" style=\"font-size: 14px\">\n",
       "  <thead>\n",
       "    <tr>\n",
       "      <th id=\"T_d4441_level0_col0\" class=\"col_heading level0 col0\" >Dataset Descriptor</th>\n",
       "      <th id=\"T_d4441_level0_col1\" class=\"col_heading level0 col1\" >Dataset-specific Information</th>\n",
       "    </tr>\n",
       "  </thead>\n",
       "  <tbody>\n",
       "    <tr>\n",
       "      <td id=\"T_d4441_row0_col0\" class=\"data row0 col0\" >Name of Dataset in TRE</td>\n",
       "      <td id=\"T_d4441_row0_col1\" class=\"data row0 col1\" >NEXTSTEP_ns3_family_background</td>\n",
       "    </tr>\n",
       "    <tr>\n",
       "      <td id=\"T_d4441_row1_col0\" class=\"data row1 col0\" >Citation (APA)</td>\n",
       "      <td id=\"T_d4441_row1_col1\" class=\"data row1 col1\" >University College London, UCL Social Research Institute, Centre for Longitudinal Studies. (2021). <i>Next Steps: NS Family Background Sweep 3.</i> UK Longitudinal Linkage Collaboration (UK LLC).  <a href=\"https://doi.org/10.71760/ukllc-dataset-00270-01\" rel=\"noopener noreferrer\" target=\"_blank\">https://doi.org/10.71760/ukllc-dataset-00270-01</a></td>\n",
       "    </tr>\n",
       "    <tr>\n",
       "      <td id=\"T_d4441_row2_col0\" class=\"data row2 col0\" >Download Citation</td>\n",
       "      <td id=\"T_d4441_row2_col1\" class=\"data row2 col1\" > <a href=\"https://api.datacite.org/application/vnd.citationstyles.csl+json/10.71760/ukllc-dataset-00270-01\" rel=\"noopener noreferrer\" target=\"_blank\">Citeproc JSON</a>&nbsp;&nbsp;&nbsp;&nbsp; <a href=\"https://api.datacite.org/application/x-bibtex/10.71760/ukllc-dataset-00270-01\" rel=\"noopener noreferrer\" target=\"_blank\">BibTeX</a>&nbsp;&nbsp;&nbsp;&nbsp; <a href=\"https://api.datacite.org/application/x-research-info-systems/10.71760/ukllc-dataset-00270-01\" rel=\"noopener noreferrer\" target=\"_blank\">RIS</a></td>\n",
       "    </tr>\n",
       "    <tr>\n",
       "      <td id=\"T_d4441_row3_col0\" class=\"data row3 col0\" >Series</td>\n",
       "      <td id=\"T_d4441_row3_col1\" class=\"data row3 col1\" > <a href=\"https://guidebook.ukllc.ac.uk/docs/lps_data/lps%20profiles/NEXTSTEP\">Next Steps</a></td>\n",
       "    </tr>\n",
       "    <tr>\n",
       "      <td id=\"T_d4441_row4_col0\" class=\"data row4 col0\" >Owner</td>\n",
       "      <td id=\"T_d4441_row4_col1\" class=\"data row4 col1\" >UCL</td>\n",
       "    </tr>\n",
       "    <tr>\n",
       "      <td id=\"T_d4441_row5_col0\" class=\"data row5 col0\" >Temporal Coverage</td>\n",
       "      <td id=\"T_d4441_row5_col1\" class=\"data row5 col1\" >04/2006 - 09/2006</td>\n",
       "    </tr>\n",
       "    <tr>\n",
       "      <td id=\"T_d4441_row6_col0\" class=\"data row6 col0\" >Keywords</td>\n",
       "      <td id=\"T_d4441_row6_col1\" class=\"data row6 col1\" >Health,Education,Leisure & sport,Attitudes,Youth,Employment</td>\n",
       "    </tr>\n",
       "    <tr>\n",
       "      <td id=\"T_d4441_row7_col0\" class=\"data row7 col0\" >Participants Invited</td>\n",
       "      <td id=\"T_d4441_row7_col1\" class=\"data row7 col1\" >12439</td>\n",
       "    </tr>\n",
       "    <tr>\n",
       "      <td id=\"T_d4441_row8_col0\" class=\"data row8 col0\" >Participant Count</td>\n",
       "      <td id=\"T_d4441_row8_col1\" class=\"data row8 col1\" >5474</td>\n",
       "    </tr>\n",
       "    <tr>\n",
       "      <td id=\"T_d4441_row9_col0\" class=\"data row9 col0\" >Number of variables</td>\n",
       "      <td id=\"T_d4441_row9_col1\" class=\"data row9 col1\" >163</td>\n",
       "    </tr>\n",
       "    <tr>\n",
       "      <td id=\"T_d4441_row10_col0\" class=\"data row10 col0\" >Number of observations</td>\n",
       "      <td id=\"T_d4441_row10_col1\" class=\"data row10 col1\" >12078</td>\n",
       "    </tr>\n",
       "    <tr>\n",
       "      <td id=\"T_d4441_row11_col0\" class=\"data row11 col0\" >Specific Restrictions to Data Use</td>\n",
       "      <td id=\"T_d4441_row11_col1\" class=\"data row11 col1\" >None</td>\n",
       "    </tr>\n",
       "    <tr>\n",
       "      <td id=\"T_d4441_row12_col0\" class=\"data row12 col0\" >Build a Data Request</td>\n",
       "      <td id=\"T_d4441_row12_col1\" class=\"data row12 col1\" > <a href=\"https://explore.ukllc.ac.uk/\" rel=\"noopener noreferrer\" target=\"_blank\">https://explore.ukllc.ac.uk/</a></td>\n",
       "    </tr>\n",
       "  </tbody>\n",
       "</table>\n"
      ],
      "text/plain": [
       "<pandas.io.formats.style.Styler at 0x22688cafb00>"
      ]
     },
     "execution_count": 3,
     "metadata": {},
     "output_type": "execute_result"
    }
   ],
   "source": [
    "ds.info_table()"
   ]
  },
  {
   "cell_type": "markdown",
   "id": "c8cd1e8b",
   "metadata": {},
   "source": [
    "## 2. Version History"
   ]
  },
  {
   "cell_type": "code",
   "execution_count": 4,
   "id": "f2eaa3a8",
   "metadata": {
    "execution": {
     "iopub.execute_input": "2025-07-28T20:00:47.638181Z",
     "iopub.status.busy": "2025-07-28T20:00:47.637151Z",
     "iopub.status.idle": "2025-07-28T20:00:53.072155Z",
     "shell.execute_reply": "2025-07-28T20:00:53.070138Z"
    },
    "tags": [
     "remove-input"
    ]
   },
   "outputs": [
    {
     "data": {
      "text/html": [
       "<style type=\"text/css\">\n",
       "#T_cca34 th {\n",
       "  text-align: left;\n",
       "}\n",
       "#T_cca34_row0_col0, #T_cca34_row0_col1, #T_cca34_row1_col0, #T_cca34_row1_col1, #T_cca34_row2_col0, #T_cca34_row2_col1, #T_cca34_row3_col0, #T_cca34_row3_col1, #T_cca34_row4_col0, #T_cca34_row4_col1 {\n",
       "  text-align: left;\n",
       "}\n",
       "</style>\n",
       "<table id=\"T_cca34\" style=\"font-size: 14px\">\n",
       "  <thead>\n",
       "    <tr>\n",
       "      <th id=\"T_cca34_level0_col0\" class=\"col_heading level0 col0\" >Version</th>\n",
       "      <th id=\"T_cca34_level0_col1\" class=\"col_heading level0 col1\" >1</th>\n",
       "    </tr>\n",
       "  </thead>\n",
       "  <tbody>\n",
       "    <tr>\n",
       "      <td id=\"T_cca34_row0_col0\" class=\"data row0 col0\" >Version Date</td>\n",
       "      <td id=\"T_cca34_row0_col1\" class=\"data row0 col1\" >01 Nov 2021</td>\n",
       "    </tr>\n",
       "    <tr>\n",
       "      <td id=\"T_cca34_row1_col0\" class=\"data row1 col0\" >Number of Variables</td>\n",
       "      <td id=\"T_cca34_row1_col1\" class=\"data row1 col1\" >163</td>\n",
       "    </tr>\n",
       "    <tr>\n",
       "      <td id=\"T_cca34_row2_col0\" class=\"data row2 col0\" >Number of Observations</td>\n",
       "      <td id=\"T_cca34_row2_col1\" class=\"data row2 col1\" >12078</td>\n",
       "    </tr>\n",
       "    <tr>\n",
       "      <td id=\"T_cca34_row3_col0\" class=\"data row3 col0\" >DOI</td>\n",
       "      <td id=\"T_cca34_row3_col1\" class=\"data row3 col1\" > <a href=\"https://doi.org/10.71760/ukllc-dataset-00270-01\" rel=\"noopener noreferrer\" target=\"_blank\">10.71760/ukllc-dataset-00270-01</a></td>\n",
       "    </tr>\n",
       "    <tr>\n",
       "      <td id=\"T_cca34_row4_col0\" class=\"data row4 col0\" >Change Log</td>\n",
       "      <td id=\"T_cca34_row4_col1\" class=\"data row4 col1\" > <a href=\"https://api.test.datacite.org/dois/10.71760/ukllc-dataset-00270-01/activities\" rel=\"noopener noreferrer\" target=\"_blank\">10.71760/ukllc-dataset-00270-01/activities</a></td>\n",
       "    </tr>\n",
       "  </tbody>\n",
       "</table>\n"
      ],
      "text/plain": [
       "<pandas.io.formats.style.Styler at 0x2268e94fd10>"
      ]
     },
     "execution_count": 4,
     "metadata": {},
     "output_type": "execute_result"
    }
   ],
   "source": [
    "ds.version_history()"
   ]
  },
  {
   "cell_type": "markdown",
   "id": "739f52ac",
   "metadata": {},
   "source": [
    "## 3. Documentation"
   ]
  },
  {
   "cell_type": "code",
   "execution_count": 5,
   "id": "b5890bed",
   "metadata": {
    "execution": {
     "iopub.execute_input": "2025-07-28T20:00:53.081654Z",
     "iopub.status.busy": "2025-07-28T20:00:53.080655Z",
     "iopub.status.idle": "2025-07-28T20:00:53.093115Z",
     "shell.execute_reply": "2025-07-28T20:00:53.091098Z"
    },
    "tags": [
     "remove-input"
    ]
   },
   "outputs": [
    {
     "data": {
      "text/markdown": [
       "We are currently building a documentation storage system which will host useful documents related to datasets and data owners. We will surface these documents on Guidebook."
      ],
      "text/plain": [
       "<IPython.core.display.Markdown object>"
      ]
     },
     "metadata": {},
     "output_type": "display_data"
    }
   ],
   "source": [
    "ds.documentation()"
   ]
  },
  {
   "cell_type": "markdown",
   "id": "2d0318e2",
   "metadata": {},
   "source": [
    "## 4. Useful Syntax"
   ]
  },
  {
   "cell_type": "code",
   "execution_count": 6,
   "id": "e8ed28da",
   "metadata": {
    "execution": {
     "iopub.execute_input": "2025-07-28T20:00:53.102116Z",
     "iopub.status.busy": "2025-07-28T20:00:53.101120Z",
     "iopub.status.idle": "2025-07-28T20:00:53.113136Z",
     "shell.execute_reply": "2025-07-28T20:00:53.111971Z"
    },
    "tags": [
     "remove-input"
    ]
   },
   "outputs": [
    {
     "data": {
      "text/markdown": [
       "Below we will include syntax that may be helpful to other researchers in the UK LLC TRE. For longer scripts, we will include a snippet of the code plus a link to Git where you can find the full scripts."
      ],
      "text/plain": [
       "<IPython.core.display.Markdown object>"
      ]
     },
     "metadata": {},
     "output_type": "display_data"
    }
   ],
   "source": [
    "ds.useful_syntax()"
   ]
  }
 ],
 "metadata": {
  "language_info": {
   "codemirror_mode": {
    "name": "ipython",
    "version": 3
   },
   "file_extension": ".py",
   "mimetype": "text/x-python",
   "name": "python",
   "nbconvert_exporter": "python",
   "pygments_lexer": "ipython3",
   "version": "3.12.7"
  }
 },
 "nbformat": 4,
 "nbformat_minor": 5
}
