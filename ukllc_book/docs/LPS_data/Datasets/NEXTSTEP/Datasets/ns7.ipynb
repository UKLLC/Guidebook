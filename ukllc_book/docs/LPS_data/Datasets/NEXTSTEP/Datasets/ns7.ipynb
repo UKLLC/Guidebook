{
 "cells": [
  {
   "cell_type": "markdown",
   "id": "2427fc65",
   "metadata": {},
   "source": [
    "# NS Sweep 7 (NEXTSTEP)"
   ]
  },
  {
   "cell_type": "code",
   "execution_count": 1,
   "id": "665bf7ba",
   "metadata": {
    "execution": {
     "iopub.execute_input": "2025-07-28T20:05:38.724210Z",
     "iopub.status.busy": "2025-07-28T20:05:38.723213Z",
     "iopub.status.idle": "2025-07-28T20:05:51.356771Z",
     "shell.execute_reply": "2025-07-28T20:05:51.345360Z"
    },
    "tags": [
     "remove-input"
    ]
   },
   "outputs": [
    {
     "data": {
      "text/markdown": [
       ">Last modified: 28 Jul 2025"
      ],
      "text/plain": [
       "<IPython.core.display.Markdown object>"
      ]
     },
     "metadata": {},
     "output_type": "display_data"
    }
   ],
   "source": [
    "\n",
    "import sys\n",
    "import os\n",
    "sys.path.append(os.path.abspath('../../../../scripts/'))\n",
    "from data_doc_helper import LPSDataSet as DS, last_modified\n",
    "API_KEY = os.environ['FASTAPI_KEY']\n",
    "ds = DS(\"NEXTSTEP\", \"ns7\")\n",
    "last_modified()\n"
   ]
  },
  {
   "cell_type": "markdown",
   "id": "54ccf653",
   "metadata": {},
   "source": [
    "## 1. Summary"
   ]
  },
  {
   "cell_type": "code",
   "execution_count": 2,
   "id": "54da0e22",
   "metadata": {
    "execution": {
     "iopub.execute_input": "2025-07-28T20:05:51.376752Z",
     "iopub.status.busy": "2025-07-28T20:05:51.372737Z",
     "iopub.status.idle": "2025-07-28T20:05:51.415727Z",
     "shell.execute_reply": "2025-07-28T20:05:51.411761Z"
    },
    "tags": [
     "remove-input"
    ]
   },
   "outputs": [
    {
     "data": {
      "text/markdown": [
       "Data was collected via a mixed mode approach (online, telephone or face-to-face) between May and October 2010. Questions cover: Demographics,Health and disability,Information, advice and guidance,Risk factors (truancy, bullying, smoking, drugs),Childcare and caring responsibilities,Current activities,Qualifications being studied for,Attitudes to higher education,Attitudes to work,Higher education,Potential higher education students,Jobs and training,Apprenticeships,NEET,Volunteering,Voting,Income and benefits"
      ],
      "text/plain": [
       "<IPython.core.display.Markdown object>"
      ]
     },
     "metadata": {},
     "output_type": "display_data"
    }
   ],
   "source": [
    "ds.summary()"
   ]
  },
  {
   "cell_type": "code",
   "execution_count": 3,
   "id": "ade69e4b",
   "metadata": {
    "execution": {
     "iopub.execute_input": "2025-07-28T20:05:51.425469Z",
     "iopub.status.busy": "2025-07-28T20:05:51.425469Z",
     "iopub.status.idle": "2025-07-28T20:05:53.684246Z",
     "shell.execute_reply": "2025-07-28T20:05:53.682227Z"
    },
    "tags": [
     "remove-input"
    ]
   },
   "outputs": [
    {
     "data": {
      "text/html": [
       "<style type=\"text/css\">\n",
       "#T_b99de th {\n",
       "  text-align: left;\n",
       "}\n",
       "#T_b99de_row0_col0, #T_b99de_row0_col1, #T_b99de_row1_col0, #T_b99de_row1_col1, #T_b99de_row2_col0, #T_b99de_row2_col1, #T_b99de_row3_col0, #T_b99de_row3_col1, #T_b99de_row4_col0, #T_b99de_row4_col1, #T_b99de_row5_col0, #T_b99de_row5_col1, #T_b99de_row6_col0, #T_b99de_row6_col1, #T_b99de_row7_col0, #T_b99de_row7_col1, #T_b99de_row8_col0, #T_b99de_row8_col1, #T_b99de_row9_col0, #T_b99de_row9_col1, #T_b99de_row10_col0, #T_b99de_row10_col1, #T_b99de_row11_col0, #T_b99de_row11_col1, #T_b99de_row12_col0, #T_b99de_row12_col1 {\n",
       "  text-align: left;\n",
       "}\n",
       "</style>\n",
       "<table id=\"T_b99de\" style=\"font-size: 14px\">\n",
       "  <thead>\n",
       "    <tr>\n",
       "      <th id=\"T_b99de_level0_col0\" class=\"col_heading level0 col0\" >Dataset Descriptor</th>\n",
       "      <th id=\"T_b99de_level0_col1\" class=\"col_heading level0 col1\" >Dataset-specific Information</th>\n",
       "    </tr>\n",
       "  </thead>\n",
       "  <tbody>\n",
       "    <tr>\n",
       "      <td id=\"T_b99de_row0_col0\" class=\"data row0 col0\" >Name of Dataset in TRE</td>\n",
       "      <td id=\"T_b99de_row0_col1\" class=\"data row0 col1\" >NEXTSTEP_ns7</td>\n",
       "    </tr>\n",
       "    <tr>\n",
       "      <td id=\"T_b99de_row1_col0\" class=\"data row1 col0\" >Citation (APA)</td>\n",
       "      <td id=\"T_b99de_row1_col1\" class=\"data row1 col1\" >University College London, UCL Social Research Institute, Centre for Longitudinal Studies. (2021). <i>Next Steps: NS Sweep 7.</i> UK Longitudinal Linkage Collaboration (UK LLC).  <a href=\"https://doi.org/10.71760/ukllc-dataset-00284-01\" rel=\"noopener noreferrer\" target=\"_blank\">https://doi.org/10.71760/ukllc-dataset-00284-01</a></td>\n",
       "    </tr>\n",
       "    <tr>\n",
       "      <td id=\"T_b99de_row2_col0\" class=\"data row2 col0\" >Download Citation</td>\n",
       "      <td id=\"T_b99de_row2_col1\" class=\"data row2 col1\" > <a href=\"https://api.datacite.org/application/vnd.citationstyles.csl+json/10.71760/ukllc-dataset-00284-01\" rel=\"noopener noreferrer\" target=\"_blank\">Citeproc JSON</a>&nbsp;&nbsp;&nbsp;&nbsp; <a href=\"https://api.datacite.org/application/x-bibtex/10.71760/ukllc-dataset-00284-01\" rel=\"noopener noreferrer\" target=\"_blank\">BibTeX</a>&nbsp;&nbsp;&nbsp;&nbsp; <a href=\"https://api.datacite.org/application/x-research-info-systems/10.71760/ukllc-dataset-00284-01\" rel=\"noopener noreferrer\" target=\"_blank\">RIS</a></td>\n",
       "    </tr>\n",
       "    <tr>\n",
       "      <td id=\"T_b99de_row3_col0\" class=\"data row3 col0\" >Series</td>\n",
       "      <td id=\"T_b99de_row3_col1\" class=\"data row3 col1\" > <a href=\"https://guidebook.ukllc.ac.uk/docs/lps_data/lps%20profiles/NEXTSTEP\">Next Steps</a></td>\n",
       "    </tr>\n",
       "    <tr>\n",
       "      <td id=\"T_b99de_row4_col0\" class=\"data row4 col0\" >Owner</td>\n",
       "      <td id=\"T_b99de_row4_col1\" class=\"data row4 col1\" >UCL</td>\n",
       "    </tr>\n",
       "    <tr>\n",
       "      <td id=\"T_b99de_row5_col0\" class=\"data row5 col0\" >Temporal Coverage</td>\n",
       "      <td id=\"T_b99de_row5_col1\" class=\"data row5 col1\" >05/2010 - 10/2010</td>\n",
       "    </tr>\n",
       "    <tr>\n",
       "      <td id=\"T_b99de_row6_col0\" class=\"data row6 col0\" >Keywords</td>\n",
       "      <td id=\"T_b99de_row6_col1\" class=\"data row6 col1\" >Health,Education,Employment,Attitudes,Partners</td>\n",
       "    </tr>\n",
       "    <tr>\n",
       "      <td id=\"T_b99de_row7_col0\" class=\"data row7 col0\" >Participants Invited</td>\n",
       "      <td id=\"T_b99de_row7_col1\" class=\"data row7 col1\" >8682</td>\n",
       "    </tr>\n",
       "    <tr>\n",
       "      <td id=\"T_b99de_row8_col0\" class=\"data row8 col0\" >Participant Count</td>\n",
       "      <td id=\"T_b99de_row8_col1\" class=\"data row8 col1\" >4586</td>\n",
       "    </tr>\n",
       "    <tr>\n",
       "      <td id=\"T_b99de_row9_col0\" class=\"data row9 col0\" >Number of variables</td>\n",
       "      <td id=\"T_b99de_row9_col1\" class=\"data row9 col1\" >852</td>\n",
       "    </tr>\n",
       "    <tr>\n",
       "      <td id=\"T_b99de_row10_col0\" class=\"data row10 col0\" >Number of observations</td>\n",
       "      <td id=\"T_b99de_row10_col1\" class=\"data row10 col1\" >8490</td>\n",
       "    </tr>\n",
       "    <tr>\n",
       "      <td id=\"T_b99de_row11_col0\" class=\"data row11 col0\" >Specific Restrictions to Data Use</td>\n",
       "      <td id=\"T_b99de_row11_col1\" class=\"data row11 col1\" >None</td>\n",
       "    </tr>\n",
       "    <tr>\n",
       "      <td id=\"T_b99de_row12_col0\" class=\"data row12 col0\" >Build a Data Request</td>\n",
       "      <td id=\"T_b99de_row12_col1\" class=\"data row12 col1\" > <a href=\"https://explore.ukllc.ac.uk/\" rel=\"noopener noreferrer\" target=\"_blank\">https://explore.ukllc.ac.uk/</a></td>\n",
       "    </tr>\n",
       "  </tbody>\n",
       "</table>\n"
      ],
      "text/plain": [
       "<pandas.io.formats.style.Styler at 0x211fc1ff890>"
      ]
     },
     "execution_count": 3,
     "metadata": {},
     "output_type": "execute_result"
    }
   ],
   "source": [
    "ds.info_table()"
   ]
  },
  {
   "cell_type": "markdown",
   "id": "09abff4a",
   "metadata": {},
   "source": [
    "## 2. Version History"
   ]
  },
  {
   "cell_type": "code",
   "execution_count": 4,
   "id": "6541d7cb",
   "metadata": {
    "execution": {
     "iopub.execute_input": "2025-07-28T20:05:53.693284Z",
     "iopub.status.busy": "2025-07-28T20:05:53.692245Z",
     "iopub.status.idle": "2025-07-28T20:05:58.998504Z",
     "shell.execute_reply": "2025-07-28T20:05:58.994469Z"
    },
    "tags": [
     "remove-input"
    ]
   },
   "outputs": [
    {
     "data": {
      "text/html": [
       "<style type=\"text/css\">\n",
       "#T_e5e50 th {\n",
       "  text-align: left;\n",
       "}\n",
       "#T_e5e50_row0_col0, #T_e5e50_row0_col1, #T_e5e50_row1_col0, #T_e5e50_row1_col1, #T_e5e50_row2_col0, #T_e5e50_row2_col1, #T_e5e50_row3_col0, #T_e5e50_row3_col1, #T_e5e50_row4_col0, #T_e5e50_row4_col1 {\n",
       "  text-align: left;\n",
       "}\n",
       "</style>\n",
       "<table id=\"T_e5e50\" style=\"font-size: 14px\">\n",
       "  <thead>\n",
       "    <tr>\n",
       "      <th id=\"T_e5e50_level0_col0\" class=\"col_heading level0 col0\" >Version</th>\n",
       "      <th id=\"T_e5e50_level0_col1\" class=\"col_heading level0 col1\" >1</th>\n",
       "    </tr>\n",
       "  </thead>\n",
       "  <tbody>\n",
       "    <tr>\n",
       "      <td id=\"T_e5e50_row0_col0\" class=\"data row0 col0\" >Version Date</td>\n",
       "      <td id=\"T_e5e50_row0_col1\" class=\"data row0 col1\" >01 Nov 2021</td>\n",
       "    </tr>\n",
       "    <tr>\n",
       "      <td id=\"T_e5e50_row1_col0\" class=\"data row1 col0\" >Number of Variables</td>\n",
       "      <td id=\"T_e5e50_row1_col1\" class=\"data row1 col1\" >852</td>\n",
       "    </tr>\n",
       "    <tr>\n",
       "      <td id=\"T_e5e50_row2_col0\" class=\"data row2 col0\" >Number of Observations</td>\n",
       "      <td id=\"T_e5e50_row2_col1\" class=\"data row2 col1\" >8490</td>\n",
       "    </tr>\n",
       "    <tr>\n",
       "      <td id=\"T_e5e50_row3_col0\" class=\"data row3 col0\" >DOI</td>\n",
       "      <td id=\"T_e5e50_row3_col1\" class=\"data row3 col1\" > <a href=\"https://doi.org/10.71760/ukllc-dataset-00284-01\" rel=\"noopener noreferrer\" target=\"_blank\">10.71760/ukllc-dataset-00284-01</a></td>\n",
       "    </tr>\n",
       "    <tr>\n",
       "      <td id=\"T_e5e50_row4_col0\" class=\"data row4 col0\" >Change Log</td>\n",
       "      <td id=\"T_e5e50_row4_col1\" class=\"data row4 col1\" > <a href=\"https://api.test.datacite.org/dois/10.71760/ukllc-dataset-00284-01/activities\" rel=\"noopener noreferrer\" target=\"_blank\">10.71760/ukllc-dataset-00284-01/activities</a></td>\n",
       "    </tr>\n",
       "  </tbody>\n",
       "</table>\n"
      ],
      "text/plain": [
       "<pandas.io.formats.style.Styler at 0x211fea45d00>"
      ]
     },
     "execution_count": 4,
     "metadata": {},
     "output_type": "execute_result"
    }
   ],
   "source": [
    "ds.version_history()"
   ]
  },
  {
   "cell_type": "markdown",
   "id": "b4572a66",
   "metadata": {},
   "source": [
    "## 3. Documentation"
   ]
  },
  {
   "cell_type": "code",
   "execution_count": 5,
   "id": "a94a856a",
   "metadata": {
    "execution": {
     "iopub.execute_input": "2025-07-28T20:05:59.007496Z",
     "iopub.status.busy": "2025-07-28T20:05:59.006494Z",
     "iopub.status.idle": "2025-07-28T20:05:59.032759Z",
     "shell.execute_reply": "2025-07-28T20:05:59.025403Z"
    },
    "tags": [
     "remove-input"
    ]
   },
   "outputs": [
    {
     "data": {
      "text/markdown": [
       "We are currently building a documentation storage system which will host useful documents related to datasets and data owners. We will surface these documents on Guidebook."
      ],
      "text/plain": [
       "<IPython.core.display.Markdown object>"
      ]
     },
     "metadata": {},
     "output_type": "display_data"
    }
   ],
   "source": [
    "ds.documentation()"
   ]
  },
  {
   "cell_type": "markdown",
   "id": "ddb520e3",
   "metadata": {},
   "source": [
    "## 4. Useful Syntax"
   ]
  },
  {
   "cell_type": "code",
   "execution_count": 6,
   "id": "2094198e",
   "metadata": {
    "execution": {
     "iopub.execute_input": "2025-07-28T20:05:59.054695Z",
     "iopub.status.busy": "2025-07-28T20:05:59.051705Z",
     "iopub.status.idle": "2025-07-28T20:05:59.088594Z",
     "shell.execute_reply": "2025-07-28T20:05:59.079872Z"
    },
    "tags": [
     "remove-input"
    ]
   },
   "outputs": [
    {
     "data": {
      "text/markdown": [
       "Below we will include syntax that may be helpful to other researchers in the UK LLC TRE. For longer scripts, we will include a snippet of the code plus a link to Git where you can find the full scripts."
      ],
      "text/plain": [
       "<IPython.core.display.Markdown object>"
      ]
     },
     "metadata": {},
     "output_type": "display_data"
    }
   ],
   "source": [
    "ds.useful_syntax()"
   ]
  }
 ],
 "metadata": {
  "language_info": {
   "codemirror_mode": {
    "name": "ipython",
    "version": 3
   },
   "file_extension": ".py",
   "mimetype": "text/x-python",
   "name": "python",
   "nbconvert_exporter": "python",
   "pygments_lexer": "ipython3",
   "version": "3.12.7"
  }
 },
 "nbformat": 4,
 "nbformat_minor": 5
}
