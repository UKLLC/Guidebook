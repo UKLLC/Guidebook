{
 "cells": [
  {
   "cell_type": "markdown",
   "id": "39380c1b",
   "metadata": {},
   "source": [
    "# NS Household Members Sweep 8 (NEXTSTEP)"
   ]
  },
  {
   "cell_type": "code",
   "execution_count": 1,
   "id": "7ecd6c63",
   "metadata": {
    "execution": {
     "iopub.execute_input": "2025-07-18T10:18:44.698829Z",
     "iopub.status.busy": "2025-07-18T10:18:44.698829Z",
     "iopub.status.idle": "2025-07-18T10:18:51.483042Z",
     "shell.execute_reply": "2025-07-18T10:18:51.482033Z"
    },
    "tags": [
     "remove-input"
    ]
   },
   "outputs": [
    {
     "data": {
      "text/markdown": [
       ">Last modified: 18 Jul 2025"
      ],
      "text/plain": [
       "<IPython.core.display.Markdown object>"
      ]
     },
     "metadata": {},
     "output_type": "display_data"
    }
   ],
   "source": [
    "\n",
    "import sys\n",
    "import os\n",
    "sys.path.append(os.path.abspath('../../../../scripts/'))\n",
    "from data_doc_helper import LPSDataSet as DS, last_modified\n",
    "API_KEY = os.environ['FASTAPI_KEY']\n",
    "ds = DS(\"NEXTSTEP\", \"ns8_household_members\")\n",
    "last_modified()\n"
   ]
  },
  {
   "cell_type": "markdown",
   "id": "bc77ec78",
   "metadata": {},
   "source": [
    "## 1. Summary"
   ]
  },
  {
   "cell_type": "code",
   "execution_count": 2,
   "id": "7966b45c",
   "metadata": {
    "execution": {
     "iopub.execute_input": "2025-07-18T10:18:51.489042Z",
     "iopub.status.busy": "2025-07-18T10:18:51.489042Z",
     "iopub.status.idle": "2025-07-18T10:18:51.499511Z",
     "shell.execute_reply": "2025-07-18T10:18:51.497502Z"
    },
    "tags": [
     "remove-input"
    ]
   },
   "outputs": [
    {
     "data": {
      "text/markdown": [
       "Data was collected via a mixed mode approach (online, telephone or face-to-face) between August 2015 and September 2016. Questions cover: Anonymised household member identifier, Sex of household member, Age of household member,  relationship to cohort member"
      ],
      "text/plain": [
       "<IPython.core.display.Markdown object>"
      ]
     },
     "metadata": {},
     "output_type": "display_data"
    }
   ],
   "source": [
    "ds.summary()"
   ]
  },
  {
   "cell_type": "code",
   "execution_count": 3,
   "id": "cb980916",
   "metadata": {
    "execution": {
     "iopub.execute_input": "2025-07-18T10:18:51.505511Z",
     "iopub.status.busy": "2025-07-18T10:18:51.505511Z",
     "iopub.status.idle": "2025-07-18T10:18:52.556490Z",
     "shell.execute_reply": "2025-07-18T10:18:52.554612Z"
    },
    "tags": [
     "remove-input"
    ]
   },
   "outputs": [
    {
     "data": {
      "text/html": [
       "<style type=\"text/css\">\n",
       "#T_36ac2 th {\n",
       "  text-align: left;\n",
       "}\n",
       "#T_36ac2_row0_col0, #T_36ac2_row0_col1, #T_36ac2_row1_col0, #T_36ac2_row1_col1, #T_36ac2_row2_col0, #T_36ac2_row2_col1, #T_36ac2_row3_col0, #T_36ac2_row3_col1, #T_36ac2_row4_col0, #T_36ac2_row4_col1, #T_36ac2_row5_col0, #T_36ac2_row5_col1, #T_36ac2_row6_col0, #T_36ac2_row6_col1, #T_36ac2_row7_col0, #T_36ac2_row7_col1, #T_36ac2_row8_col0, #T_36ac2_row8_col1, #T_36ac2_row9_col0, #T_36ac2_row9_col1, #T_36ac2_row10_col0, #T_36ac2_row10_col1, #T_36ac2_row11_col0, #T_36ac2_row11_col1, #T_36ac2_row12_col0, #T_36ac2_row12_col1 {\n",
       "  text-align: left;\n",
       "}\n",
       "</style>\n",
       "<table id=\"T_36ac2\" style=\"font-size: 14px\">\n",
       "  <thead>\n",
       "    <tr>\n",
       "      <th id=\"T_36ac2_level0_col0\" class=\"col_heading level0 col0\" >Dataset Descriptor</th>\n",
       "      <th id=\"T_36ac2_level0_col1\" class=\"col_heading level0 col1\" >Dataset-specific Information</th>\n",
       "    </tr>\n",
       "  </thead>\n",
       "  <tbody>\n",
       "    <tr>\n",
       "      <td id=\"T_36ac2_row0_col0\" class=\"data row0 col0\" >Name of Dataset in TRE</td>\n",
       "      <td id=\"T_36ac2_row0_col1\" class=\"data row0 col1\" >NEXTSTEP_ns8_household_members</td>\n",
       "    </tr>\n",
       "    <tr>\n",
       "      <td id=\"T_36ac2_row1_col0\" class=\"data row1 col0\" >Citation (APA)</td>\n",
       "      <td id=\"T_36ac2_row1_col1\" class=\"data row1 col1\" >University College London, UCL Social Research Institute, Centre for Longitudinal Studies. (2021). <i>Next Steps: NS Household Members Sweep 8.</i> UK Longitudinal Linkage Collaboration (UK LLC).  <a href=\"https://doi.org/10.83126/ukllc-dataset-00357-01\" rel=\"noopener noreferrer\" target=\"_blank\">https://doi.org/10.83126/ukllc-dataset-00357-01</a></td>\n",
       "    </tr>\n",
       "    <tr>\n",
       "      <td id=\"T_36ac2_row2_col0\" class=\"data row2 col0\" >Download Citation</td>\n",
       "      <td id=\"T_36ac2_row2_col1\" class=\"data row2 col1\" > <a href=\"https://api.test.datacite.org/application/vnd.citationstyles.csl+json/10.83126/ukllc-dataset-00357-01\" rel=\"noopener noreferrer\" target=\"_blank\">Citeproc JSON</a>&nbsp;&nbsp;&nbsp;&nbsp; <a href=\"https://api.test.datacite.org/application/x-bibtex/10.83126/ukllc-dataset-00357-01\" rel=\"noopener noreferrer\" target=\"_blank\">BibTeX</a>&nbsp;&nbsp;&nbsp;&nbsp; <a href=\"https://api.test.datacite.org/application/x-research-info-systems/10.83126/ukllc-dataset-00357-01\" rel=\"noopener noreferrer\" target=\"_blank\">RIS</a></td>\n",
       "    </tr>\n",
       "    <tr>\n",
       "      <td id=\"T_36ac2_row3_col0\" class=\"data row3 col0\" >Series</td>\n",
       "      <td id=\"T_36ac2_row3_col1\" class=\"data row3 col1\" > <a href=\"https://guidebook.ukllc.ac.uk/docs/lps/lps%20profiles/NEXTSTEP\">Next Steps</a></td>\n",
       "    </tr>\n",
       "    <tr>\n",
       "      <td id=\"T_36ac2_row4_col0\" class=\"data row4 col0\" >Owner</td>\n",
       "      <td id=\"T_36ac2_row4_col1\" class=\"data row4 col1\" >UCL</td>\n",
       "    </tr>\n",
       "    <tr>\n",
       "      <td id=\"T_36ac2_row5_col0\" class=\"data row5 col0\" >Temporal Coverage</td>\n",
       "      <td id=\"T_36ac2_row5_col1\" class=\"data row5 col1\" >08/2015 - 09/2016</td>\n",
       "    </tr>\n",
       "    <tr>\n",
       "      <td id=\"T_36ac2_row6_col0\" class=\"data row6 col0\" >Keywords</td>\n",
       "      <td id=\"T_36ac2_row6_col1\" class=\"data row6 col1\" >Health,Education,Employment,Attitudes,Partners</td>\n",
       "    </tr>\n",
       "    <tr>\n",
       "      <td id=\"T_36ac2_row7_col0\" class=\"data row7 col0\" >Participants Invited</td>\n",
       "      <td id=\"T_36ac2_row7_col1\" class=\"data row7 col1\" >7707</td>\n",
       "    </tr>\n",
       "    <tr>\n",
       "      <td id=\"T_36ac2_row8_col0\" class=\"data row8 col0\" >Participant Count</td>\n",
       "      <td id=\"T_36ac2_row8_col1\" class=\"data row8 col1\" >2601</td>\n",
       "    </tr>\n",
       "    <tr>\n",
       "      <td id=\"T_36ac2_row9_col0\" class=\"data row9 col0\" >Number of variables</td>\n",
       "      <td id=\"T_36ac2_row9_col1\" class=\"data row9 col1\" >10</td>\n",
       "    </tr>\n",
       "    <tr>\n",
       "      <td id=\"T_36ac2_row10_col0\" class=\"data row10 col0\" >Number of observations</td>\n",
       "      <td id=\"T_36ac2_row10_col1\" class=\"data row10 col1\" >9378</td>\n",
       "    </tr>\n",
       "    <tr>\n",
       "      <td id=\"T_36ac2_row11_col0\" class=\"data row11 col0\" >Specific Restrictions to Data Use</td>\n",
       "      <td id=\"T_36ac2_row11_col1\" class=\"data row11 col1\" >None</td>\n",
       "    </tr>\n",
       "    <tr>\n",
       "      <td id=\"T_36ac2_row12_col0\" class=\"data row12 col0\" >Build a Data Request</td>\n",
       "      <td id=\"T_36ac2_row12_col1\" class=\"data row12 col1\" > <a href=\"https://explore.ukllc.ac.uk/\" rel=\"noopener noreferrer\" target=\"_blank\">https://explore.ukllc.ac.uk/</a></td>\n",
       "    </tr>\n",
       "  </tbody>\n",
       "</table>\n"
      ],
      "text/plain": [
       "<pandas.io.formats.style.Styler at 0x1d55ade0800>"
      ]
     },
     "execution_count": 3,
     "metadata": {},
     "output_type": "execute_result"
    }
   ],
   "source": [
    "ds.info_table()"
   ]
  },
  {
   "cell_type": "markdown",
   "id": "768ac9e5",
   "metadata": {},
   "source": [
    "## 2. Version History"
   ]
  },
  {
   "cell_type": "code",
   "execution_count": 4,
   "id": "debd28ae",
   "metadata": {
    "execution": {
     "iopub.execute_input": "2025-07-18T10:18:52.562489Z",
     "iopub.status.busy": "2025-07-18T10:18:52.561490Z",
     "iopub.status.idle": "2025-07-18T10:18:54.869596Z",
     "shell.execute_reply": "2025-07-18T10:18:54.867515Z"
    },
    "tags": [
     "remove-input"
    ]
   },
   "outputs": [
    {
     "data": {
      "text/html": [
       "<style type=\"text/css\">\n",
       "#T_d85c9 th {\n",
       "  text-align: left;\n",
       "}\n",
       "#T_d85c9_row0_col0, #T_d85c9_row0_col1, #T_d85c9_row1_col0, #T_d85c9_row1_col1, #T_d85c9_row2_col0, #T_d85c9_row2_col1, #T_d85c9_row3_col0, #T_d85c9_row3_col1, #T_d85c9_row4_col0, #T_d85c9_row4_col1 {\n",
       "  text-align: left;\n",
       "}\n",
       "</style>\n",
       "<table id=\"T_d85c9\" style=\"font-size: 14px\">\n",
       "  <thead>\n",
       "    <tr>\n",
       "      <th id=\"T_d85c9_level0_col0\" class=\"col_heading level0 col0\" >Version</th>\n",
       "      <th id=\"T_d85c9_level0_col1\" class=\"col_heading level0 col1\" >1</th>\n",
       "    </tr>\n",
       "  </thead>\n",
       "  <tbody>\n",
       "    <tr>\n",
       "      <td id=\"T_d85c9_row0_col0\" class=\"data row0 col0\" >Version Date</td>\n",
       "      <td id=\"T_d85c9_row0_col1\" class=\"data row0 col1\" >01 Nov 2021</td>\n",
       "    </tr>\n",
       "    <tr>\n",
       "      <td id=\"T_d85c9_row1_col0\" class=\"data row1 col0\" >Number of Variables</td>\n",
       "      <td id=\"T_d85c9_row1_col1\" class=\"data row1 col1\" >10</td>\n",
       "    </tr>\n",
       "    <tr>\n",
       "      <td id=\"T_d85c9_row2_col0\" class=\"data row2 col0\" >Number of Observations</td>\n",
       "      <td id=\"T_d85c9_row2_col1\" class=\"data row2 col1\" >9378</td>\n",
       "    </tr>\n",
       "    <tr>\n",
       "      <td id=\"T_d85c9_row3_col0\" class=\"data row3 col0\" >DOI</td>\n",
       "      <td id=\"T_d85c9_row3_col1\" class=\"data row3 col1\" > <a href=\"https://doi.org/10.83126/ukllc-dataset-00357-01\" rel=\"noopener noreferrer\" target=\"_blank\">10.83126/ukllc-dataset-00357-01</a></td>\n",
       "    </tr>\n",
       "    <tr>\n",
       "      <td id=\"T_d85c9_row4_col0\" class=\"data row4 col0\" >Change Log</td>\n",
       "      <td id=\"T_d85c9_row4_col1\" class=\"data row4 col1\" > <a href=\"https://api.test.datacite.org/dois/10.83126/ukllc-dataset-00357-01/activities\" rel=\"noopener noreferrer\" target=\"_blank\">10.83126/ukllc-dataset-00357-01/activities</a></td>\n",
       "    </tr>\n",
       "  </tbody>\n",
       "</table>\n"
      ],
      "text/plain": [
       "<pandas.io.formats.style.Styler at 0x1d560a9fb60>"
      ]
     },
     "execution_count": 4,
     "metadata": {},
     "output_type": "execute_result"
    }
   ],
   "source": [
    "ds.version_history()"
   ]
  },
  {
   "cell_type": "markdown",
   "id": "42797f10",
   "metadata": {},
   "source": [
    "## 3. Documentation"
   ]
  },
  {
   "cell_type": "code",
   "execution_count": 5,
   "id": "8ddbf820",
   "metadata": {
    "execution": {
     "iopub.execute_input": "2025-07-18T10:18:54.875612Z",
     "iopub.status.busy": "2025-07-18T10:18:54.874609Z",
     "iopub.status.idle": "2025-07-18T10:18:54.883131Z",
     "shell.execute_reply": "2025-07-18T10:18:54.882124Z"
    },
    "tags": [
     "remove-input"
    ]
   },
   "outputs": [
    {
     "data": {
      "text/markdown": [
       "We are currently building a documentation storage system which will host useful documents related to datasets and data owners. We will surface these documents on Guidebook."
      ],
      "text/plain": [
       "<IPython.core.display.Markdown object>"
      ]
     },
     "metadata": {},
     "output_type": "display_data"
    }
   ],
   "source": [
    "ds.documentation()"
   ]
  },
  {
   "cell_type": "markdown",
   "id": "2e966498",
   "metadata": {},
   "source": [
    "## 4. Useful Syntax"
   ]
  },
  {
   "cell_type": "code",
   "execution_count": 6,
   "id": "b83f3ef0",
   "metadata": {
    "execution": {
     "iopub.execute_input": "2025-07-18T10:18:54.886129Z",
     "iopub.status.busy": "2025-07-18T10:18:54.886129Z",
     "iopub.status.idle": "2025-07-18T10:18:54.889627Z",
     "shell.execute_reply": "2025-07-18T10:18:54.889627Z"
    },
    "tags": [
     "remove-input"
    ]
   },
   "outputs": [
    {
     "data": {
      "text/markdown": [
       "Below we will include syntax that may be helpful to other researchers in the UK LLC TRE. For longer scripts, we will include a snippet of the code plus a link to Git where you can find the full scripts."
      ],
      "text/plain": [
       "<IPython.core.display.Markdown object>"
      ]
     },
     "metadata": {},
     "output_type": "display_data"
    }
   ],
   "source": [
    "ds.useful_syntax()"
   ]
  }
 ],
 "metadata": {
  "language_info": {
   "codemirror_mode": {
    "name": "ipython",
    "version": 3
   },
   "file_extension": ".py",
   "mimetype": "text/x-python",
   "name": "python",
   "nbconvert_exporter": "python",
   "pygments_lexer": "ipython3",
   "version": "3.12.7"
  }
 },
 "nbformat": 4,
 "nbformat_minor": 5
}
