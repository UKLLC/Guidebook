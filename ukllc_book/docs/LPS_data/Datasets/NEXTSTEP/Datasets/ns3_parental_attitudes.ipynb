{
 "cells": [
  {
   "cell_type": "markdown",
   "id": "87742c21",
   "metadata": {},
   "source": [
    "# NS Parental Attitudes Sweep 3 (NEXTSTEP)"
   ]
  },
  {
   "cell_type": "code",
   "execution_count": 1,
   "id": "492b7391",
   "metadata": {
    "execution": {
     "iopub.execute_input": "2025-07-28T20:01:27.270503Z",
     "iopub.status.busy": "2025-07-28T20:01:27.269511Z",
     "iopub.status.idle": "2025-07-28T20:01:40.878846Z",
     "shell.execute_reply": "2025-07-28T20:01:40.877308Z"
    },
    "tags": [
     "remove-input"
    ]
   },
   "outputs": [
    {
     "data": {
      "text/markdown": [
       ">Last modified: 28 Jul 2025"
      ],
      "text/plain": [
       "<IPython.core.display.Markdown object>"
      ]
     },
     "metadata": {},
     "output_type": "display_data"
    }
   ],
   "source": [
    "\n",
    "import sys\n",
    "import os\n",
    "sys.path.append(os.path.abspath('../../../../scripts/'))\n",
    "from data_doc_helper import LPSDataSet as DS, last_modified\n",
    "API_KEY = os.environ['FASTAPI_KEY']\n",
    "ds = DS(\"NEXTSTEP\", \"ns3_parental_attitudes\")\n",
    "last_modified()\n"
   ]
  },
  {
   "cell_type": "markdown",
   "id": "771d6ee0",
   "metadata": {},
   "source": [
    "## 1. Summary"
   ]
  },
  {
   "cell_type": "code",
   "execution_count": 2,
   "id": "c9721e0d",
   "metadata": {
    "execution": {
     "iopub.execute_input": "2025-07-28T20:01:40.886844Z",
     "iopub.status.busy": "2025-07-28T20:01:40.885837Z",
     "iopub.status.idle": "2025-07-28T20:01:40.898888Z",
     "shell.execute_reply": "2025-07-28T20:01:40.897873Z"
    },
    "tags": [
     "remove-input"
    ]
   },
   "outputs": [
    {
     "data": {
      "text/markdown": [
       "Data was collected via face to face interviewing between April and September 2006. Questions cover: Attitudes to the young person’s school and involvement in education, Extra-curricular classes,Special educational needs, Parental expectations and aspirations"
      ],
      "text/plain": [
       "<IPython.core.display.Markdown object>"
      ]
     },
     "metadata": {},
     "output_type": "display_data"
    }
   ],
   "source": [
    "ds.summary()"
   ]
  },
  {
   "cell_type": "code",
   "execution_count": 3,
   "id": "1fcb2843",
   "metadata": {
    "execution": {
     "iopub.execute_input": "2025-07-28T20:01:40.907892Z",
     "iopub.status.busy": "2025-07-28T20:01:40.906891Z",
     "iopub.status.idle": "2025-07-28T20:01:42.688502Z",
     "shell.execute_reply": "2025-07-28T20:01:42.686488Z"
    },
    "tags": [
     "remove-input"
    ]
   },
   "outputs": [
    {
     "data": {
      "text/html": [
       "<style type=\"text/css\">\n",
       "#T_dcf19 th {\n",
       "  text-align: left;\n",
       "}\n",
       "#T_dcf19_row0_col0, #T_dcf19_row0_col1, #T_dcf19_row1_col0, #T_dcf19_row1_col1, #T_dcf19_row2_col0, #T_dcf19_row2_col1, #T_dcf19_row3_col0, #T_dcf19_row3_col1, #T_dcf19_row4_col0, #T_dcf19_row4_col1, #T_dcf19_row5_col0, #T_dcf19_row5_col1, #T_dcf19_row6_col0, #T_dcf19_row6_col1, #T_dcf19_row7_col0, #T_dcf19_row7_col1, #T_dcf19_row8_col0, #T_dcf19_row8_col1, #T_dcf19_row9_col0, #T_dcf19_row9_col1, #T_dcf19_row10_col0, #T_dcf19_row10_col1, #T_dcf19_row11_col0, #T_dcf19_row11_col1, #T_dcf19_row12_col0, #T_dcf19_row12_col1 {\n",
       "  text-align: left;\n",
       "}\n",
       "</style>\n",
       "<table id=\"T_dcf19\" style=\"font-size: 14px\">\n",
       "  <thead>\n",
       "    <tr>\n",
       "      <th id=\"T_dcf19_level0_col0\" class=\"col_heading level0 col0\" >Dataset Descriptor</th>\n",
       "      <th id=\"T_dcf19_level0_col1\" class=\"col_heading level0 col1\" >Dataset-specific Information</th>\n",
       "    </tr>\n",
       "  </thead>\n",
       "  <tbody>\n",
       "    <tr>\n",
       "      <td id=\"T_dcf19_row0_col0\" class=\"data row0 col0\" >Name of Dataset in TRE</td>\n",
       "      <td id=\"T_dcf19_row0_col1\" class=\"data row0 col1\" >NEXTSTEP_ns3_parental_attitudes</td>\n",
       "    </tr>\n",
       "    <tr>\n",
       "      <td id=\"T_dcf19_row1_col0\" class=\"data row1 col0\" >Citation (APA)</td>\n",
       "      <td id=\"T_dcf19_row1_col1\" class=\"data row1 col1\" >University College London, UCL Social Research Institute, Centre for Longitudinal Studies. (2021). <i>Next Steps: NS Parental Attitudes Sweep 3.</i> UK Longitudinal Linkage Collaboration (UK LLC).  <a href=\"https://doi.org/10.71760/ukllc-dataset-00272-01\" rel=\"noopener noreferrer\" target=\"_blank\">https://doi.org/10.71760/ukllc-dataset-00272-01</a></td>\n",
       "    </tr>\n",
       "    <tr>\n",
       "      <td id=\"T_dcf19_row2_col0\" class=\"data row2 col0\" >Download Citation</td>\n",
       "      <td id=\"T_dcf19_row2_col1\" class=\"data row2 col1\" > <a href=\"https://api.datacite.org/application/vnd.citationstyles.csl+json/10.71760/ukllc-dataset-00272-01\" rel=\"noopener noreferrer\" target=\"_blank\">Citeproc JSON</a>&nbsp;&nbsp;&nbsp;&nbsp; <a href=\"https://api.datacite.org/application/x-bibtex/10.71760/ukllc-dataset-00272-01\" rel=\"noopener noreferrer\" target=\"_blank\">BibTeX</a>&nbsp;&nbsp;&nbsp;&nbsp; <a href=\"https://api.datacite.org/application/x-research-info-systems/10.71760/ukllc-dataset-00272-01\" rel=\"noopener noreferrer\" target=\"_blank\">RIS</a></td>\n",
       "    </tr>\n",
       "    <tr>\n",
       "      <td id=\"T_dcf19_row3_col0\" class=\"data row3 col0\" >Series</td>\n",
       "      <td id=\"T_dcf19_row3_col1\" class=\"data row3 col1\" > <a href=\"https://guidebook.ukllc.ac.uk/docs/lps_data/lps%20profiles/NEXTSTEP\">Next Steps</a></td>\n",
       "    </tr>\n",
       "    <tr>\n",
       "      <td id=\"T_dcf19_row4_col0\" class=\"data row4 col0\" >Owner</td>\n",
       "      <td id=\"T_dcf19_row4_col1\" class=\"data row4 col1\" >UCL</td>\n",
       "    </tr>\n",
       "    <tr>\n",
       "      <td id=\"T_dcf19_row5_col0\" class=\"data row5 col0\" >Temporal Coverage</td>\n",
       "      <td id=\"T_dcf19_row5_col1\" class=\"data row5 col1\" >04/2006 - 09/2006</td>\n",
       "    </tr>\n",
       "    <tr>\n",
       "      <td id=\"T_dcf19_row6_col0\" class=\"data row6 col0\" >Keywords</td>\n",
       "      <td id=\"T_dcf19_row6_col1\" class=\"data row6 col1\" >Health,Education,Leisure & sport,Attitudes,Youth,Employment</td>\n",
       "    </tr>\n",
       "    <tr>\n",
       "      <td id=\"T_dcf19_row7_col0\" class=\"data row7 col0\" >Participants Invited</td>\n",
       "      <td id=\"T_dcf19_row7_col1\" class=\"data row7 col1\" >12439</td>\n",
       "    </tr>\n",
       "    <tr>\n",
       "      <td id=\"T_dcf19_row8_col0\" class=\"data row8 col0\" >Participant Count</td>\n",
       "      <td id=\"T_dcf19_row8_col1\" class=\"data row8 col1\" >5474</td>\n",
       "    </tr>\n",
       "    <tr>\n",
       "      <td id=\"T_dcf19_row9_col0\" class=\"data row9 col0\" >Number of variables</td>\n",
       "      <td id=\"T_dcf19_row9_col1\" class=\"data row9 col1\" >78</td>\n",
       "    </tr>\n",
       "    <tr>\n",
       "      <td id=\"T_dcf19_row10_col0\" class=\"data row10 col0\" >Number of observations</td>\n",
       "      <td id=\"T_dcf19_row10_col1\" class=\"data row10 col1\" >12078</td>\n",
       "    </tr>\n",
       "    <tr>\n",
       "      <td id=\"T_dcf19_row11_col0\" class=\"data row11 col0\" >Specific Restrictions to Data Use</td>\n",
       "      <td id=\"T_dcf19_row11_col1\" class=\"data row11 col1\" >None</td>\n",
       "    </tr>\n",
       "    <tr>\n",
       "      <td id=\"T_dcf19_row12_col0\" class=\"data row12 col0\" >Build a Data Request</td>\n",
       "      <td id=\"T_dcf19_row12_col1\" class=\"data row12 col1\" > <a href=\"https://explore.ukllc.ac.uk/\" rel=\"noopener noreferrer\" target=\"_blank\">https://explore.ukllc.ac.uk/</a></td>\n",
       "    </tr>\n",
       "  </tbody>\n",
       "</table>\n"
      ],
      "text/plain": [
       "<pandas.io.formats.style.Styler at 0x20f9410be30>"
      ]
     },
     "execution_count": 3,
     "metadata": {},
     "output_type": "execute_result"
    }
   ],
   "source": [
    "ds.info_table()"
   ]
  },
  {
   "cell_type": "markdown",
   "id": "bea32770",
   "metadata": {},
   "source": [
    "## 2. Version History"
   ]
  },
  {
   "cell_type": "code",
   "execution_count": 4,
   "id": "cf174559",
   "metadata": {
    "execution": {
     "iopub.execute_input": "2025-07-28T20:01:42.697988Z",
     "iopub.status.busy": "2025-07-28T20:01:42.696988Z",
     "iopub.status.idle": "2025-07-28T20:01:48.673621Z",
     "shell.execute_reply": "2025-07-28T20:01:48.672091Z"
    },
    "tags": [
     "remove-input"
    ]
   },
   "outputs": [
    {
     "data": {
      "text/html": [
       "<style type=\"text/css\">\n",
       "#T_bb14f th {\n",
       "  text-align: left;\n",
       "}\n",
       "#T_bb14f_row0_col0, #T_bb14f_row0_col1, #T_bb14f_row1_col0, #T_bb14f_row1_col1, #T_bb14f_row2_col0, #T_bb14f_row2_col1, #T_bb14f_row3_col0, #T_bb14f_row3_col1, #T_bb14f_row4_col0, #T_bb14f_row4_col1 {\n",
       "  text-align: left;\n",
       "}\n",
       "</style>\n",
       "<table id=\"T_bb14f\" style=\"font-size: 14px\">\n",
       "  <thead>\n",
       "    <tr>\n",
       "      <th id=\"T_bb14f_level0_col0\" class=\"col_heading level0 col0\" >Version</th>\n",
       "      <th id=\"T_bb14f_level0_col1\" class=\"col_heading level0 col1\" >1</th>\n",
       "    </tr>\n",
       "  </thead>\n",
       "  <tbody>\n",
       "    <tr>\n",
       "      <td id=\"T_bb14f_row0_col0\" class=\"data row0 col0\" >Version Date</td>\n",
       "      <td id=\"T_bb14f_row0_col1\" class=\"data row0 col1\" >01 Nov 2021</td>\n",
       "    </tr>\n",
       "    <tr>\n",
       "      <td id=\"T_bb14f_row1_col0\" class=\"data row1 col0\" >Number of Variables</td>\n",
       "      <td id=\"T_bb14f_row1_col1\" class=\"data row1 col1\" >78</td>\n",
       "    </tr>\n",
       "    <tr>\n",
       "      <td id=\"T_bb14f_row2_col0\" class=\"data row2 col0\" >Number of Observations</td>\n",
       "      <td id=\"T_bb14f_row2_col1\" class=\"data row2 col1\" >12078</td>\n",
       "    </tr>\n",
       "    <tr>\n",
       "      <td id=\"T_bb14f_row3_col0\" class=\"data row3 col0\" >DOI</td>\n",
       "      <td id=\"T_bb14f_row3_col1\" class=\"data row3 col1\" > <a href=\"https://doi.org/10.71760/ukllc-dataset-00272-01\" rel=\"noopener noreferrer\" target=\"_blank\">10.71760/ukllc-dataset-00272-01</a></td>\n",
       "    </tr>\n",
       "    <tr>\n",
       "      <td id=\"T_bb14f_row4_col0\" class=\"data row4 col0\" >Change Log</td>\n",
       "      <td id=\"T_bb14f_row4_col1\" class=\"data row4 col1\" > <a href=\"https://api.test.datacite.org/dois/10.71760/ukllc-dataset-00272-01/activities\" rel=\"noopener noreferrer\" target=\"_blank\">10.71760/ukllc-dataset-00272-01/activities</a></td>\n",
       "    </tr>\n",
       "  </tbody>\n",
       "</table>\n"
      ],
      "text/plain": [
       "<pandas.io.formats.style.Styler at 0x20f99e35d30>"
      ]
     },
     "execution_count": 4,
     "metadata": {},
     "output_type": "execute_result"
    }
   ],
   "source": [
    "ds.version_history()"
   ]
  },
  {
   "cell_type": "markdown",
   "id": "5e52b1ed",
   "metadata": {},
   "source": [
    "## 3. Documentation"
   ]
  },
  {
   "cell_type": "code",
   "execution_count": 5,
   "id": "a0f04873",
   "metadata": {
    "execution": {
     "iopub.execute_input": "2025-07-28T20:01:48.682505Z",
     "iopub.status.busy": "2025-07-28T20:01:48.682505Z",
     "iopub.status.idle": "2025-07-28T20:01:48.694038Z",
     "shell.execute_reply": "2025-07-28T20:01:48.692505Z"
    },
    "tags": [
     "remove-input"
    ]
   },
   "outputs": [
    {
     "data": {
      "text/markdown": [
       "We are currently building a documentation storage system which will host useful documents related to datasets and data owners. We will surface these documents on Guidebook."
      ],
      "text/plain": [
       "<IPython.core.display.Markdown object>"
      ]
     },
     "metadata": {},
     "output_type": "display_data"
    }
   ],
   "source": [
    "ds.documentation()"
   ]
  },
  {
   "cell_type": "markdown",
   "id": "68ba973d",
   "metadata": {},
   "source": [
    "## 4. Useful Syntax"
   ]
  },
  {
   "cell_type": "code",
   "execution_count": 6,
   "id": "f642c845",
   "metadata": {
    "execution": {
     "iopub.execute_input": "2025-07-28T20:01:48.701765Z",
     "iopub.status.busy": "2025-07-28T20:01:48.701765Z",
     "iopub.status.idle": "2025-07-28T20:01:48.718338Z",
     "shell.execute_reply": "2025-07-28T20:01:48.716319Z"
    },
    "tags": [
     "remove-input"
    ]
   },
   "outputs": [
    {
     "data": {
      "text/markdown": [
       "Below we will include syntax that may be helpful to other researchers in the UK LLC TRE. For longer scripts, we will include a snippet of the code plus a link to Git where you can find the full scripts."
      ],
      "text/plain": [
       "<IPython.core.display.Markdown object>"
      ]
     },
     "metadata": {},
     "output_type": "display_data"
    }
   ],
   "source": [
    "ds.useful_syntax()"
   ]
  }
 ],
 "metadata": {
  "language_info": {
   "codemirror_mode": {
    "name": "ipython",
    "version": 3
   },
   "file_extension": ".py",
   "mimetype": "text/x-python",
   "name": "python",
   "nbconvert_exporter": "python",
   "pygments_lexer": "ipython3",
   "version": "3.12.7"
  }
 },
 "nbformat": 4,
 "nbformat_minor": 5
}
