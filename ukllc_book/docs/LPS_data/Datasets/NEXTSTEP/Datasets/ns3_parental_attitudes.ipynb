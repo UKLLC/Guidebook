{
 "cells": [
  {
   "cell_type": "markdown",
   "id": "87742c21",
   "metadata": {},
   "source": [
    "# NS Parental Attitudes Sweep 3 (NEXTSTEP)"
   ]
  },
  {
   "cell_type": "code",
   "execution_count": 1,
   "id": "492b7391",
   "metadata": {
    "execution": {
     "iopub.execute_input": "2025-07-18T10:14:56.388802Z",
     "iopub.status.busy": "2025-07-18T10:14:56.388297Z",
     "iopub.status.idle": "2025-07-18T10:15:03.102913Z",
     "shell.execute_reply": "2025-07-18T10:15:03.101906Z"
    },
    "tags": [
     "remove-input"
    ]
   },
   "outputs": [
    {
     "data": {
      "text/markdown": [
       ">Last modified: 18 Jul 2025"
      ],
      "text/plain": [
       "<IPython.core.display.Markdown object>"
      ]
     },
     "metadata": {},
     "output_type": "display_data"
    }
   ],
   "source": [
    "\n",
    "import sys\n",
    "import os\n",
    "sys.path.append(os.path.abspath('../../../../scripts/'))\n",
    "from data_doc_helper import LPSDataSet as DS, last_modified\n",
    "API_KEY = os.environ['FASTAPI_KEY']\n",
    "ds = DS(\"NEXTSTEP\", \"ns3_parental_attitudes\")\n",
    "last_modified()\n"
   ]
  },
  {
   "cell_type": "markdown",
   "id": "771d6ee0",
   "metadata": {},
   "source": [
    "## 1. Summary"
   ]
  },
  {
   "cell_type": "code",
   "execution_count": 2,
   "id": "c9721e0d",
   "metadata": {
    "execution": {
     "iopub.execute_input": "2025-07-18T10:15:03.109659Z",
     "iopub.status.busy": "2025-07-18T10:15:03.108643Z",
     "iopub.status.idle": "2025-07-18T10:15:03.119803Z",
     "shell.execute_reply": "2025-07-18T10:15:03.118796Z"
    },
    "tags": [
     "remove-input"
    ]
   },
   "outputs": [
    {
     "data": {
      "text/markdown": [
       "Data was collected via face to face interviewing between April and September 2006. Questions cover: Attitudes to the young person’s school and involvement in education, Extra-curricular classes,Special educational needs, Parental expectations and aspirations"
      ],
      "text/plain": [
       "<IPython.core.display.Markdown object>"
      ]
     },
     "metadata": {},
     "output_type": "display_data"
    }
   ],
   "source": [
    "ds.summary()"
   ]
  },
  {
   "cell_type": "code",
   "execution_count": 3,
   "id": "1fcb2843",
   "metadata": {
    "execution": {
     "iopub.execute_input": "2025-07-18T10:15:03.124804Z",
     "iopub.status.busy": "2025-07-18T10:15:03.124804Z",
     "iopub.status.idle": "2025-07-18T10:15:04.150104Z",
     "shell.execute_reply": "2025-07-18T10:15:04.149097Z"
    },
    "tags": [
     "remove-input"
    ]
   },
   "outputs": [
    {
     "data": {
      "text/html": [
       "<style type=\"text/css\">\n",
       "#T_7b572 th {\n",
       "  text-align: left;\n",
       "}\n",
       "#T_7b572_row0_col0, #T_7b572_row0_col1, #T_7b572_row1_col0, #T_7b572_row1_col1, #T_7b572_row2_col0, #T_7b572_row2_col1, #T_7b572_row3_col0, #T_7b572_row3_col1, #T_7b572_row4_col0, #T_7b572_row4_col1, #T_7b572_row5_col0, #T_7b572_row5_col1, #T_7b572_row6_col0, #T_7b572_row6_col1, #T_7b572_row7_col0, #T_7b572_row7_col1, #T_7b572_row8_col0, #T_7b572_row8_col1, #T_7b572_row9_col0, #T_7b572_row9_col1, #T_7b572_row10_col0, #T_7b572_row10_col1, #T_7b572_row11_col0, #T_7b572_row11_col1, #T_7b572_row12_col0, #T_7b572_row12_col1 {\n",
       "  text-align: left;\n",
       "}\n",
       "</style>\n",
       "<table id=\"T_7b572\" style=\"font-size: 14px\">\n",
       "  <thead>\n",
       "    <tr>\n",
       "      <th id=\"T_7b572_level0_col0\" class=\"col_heading level0 col0\" >Dataset Descriptor</th>\n",
       "      <th id=\"T_7b572_level0_col1\" class=\"col_heading level0 col1\" >Dataset-specific Information</th>\n",
       "    </tr>\n",
       "  </thead>\n",
       "  <tbody>\n",
       "    <tr>\n",
       "      <td id=\"T_7b572_row0_col0\" class=\"data row0 col0\" >Name of Dataset in TRE</td>\n",
       "      <td id=\"T_7b572_row0_col1\" class=\"data row0 col1\" >NEXTSTEP_ns3_parental_attitudes</td>\n",
       "    </tr>\n",
       "    <tr>\n",
       "      <td id=\"T_7b572_row1_col0\" class=\"data row1 col0\" >Citation (APA)</td>\n",
       "      <td id=\"T_7b572_row1_col1\" class=\"data row1 col1\" >University College London, UCL Social Research Institute, Centre for Longitudinal Studies. (2021). <i>Next Steps: NS Parental Attitudes Sweep 3.</i> UK Longitudinal Linkage Collaboration (UK LLC).  <a href=\"https://doi.org/10.83126/ukllc-dataset-00341-01\" rel=\"noopener noreferrer\" target=\"_blank\">https://doi.org/10.83126/ukllc-dataset-00341-01</a></td>\n",
       "    </tr>\n",
       "    <tr>\n",
       "      <td id=\"T_7b572_row2_col0\" class=\"data row2 col0\" >Download Citation</td>\n",
       "      <td id=\"T_7b572_row2_col1\" class=\"data row2 col1\" > <a href=\"https://api.test.datacite.org/application/vnd.citationstyles.csl+json/10.83126/ukllc-dataset-00341-01\" rel=\"noopener noreferrer\" target=\"_blank\">Citeproc JSON</a>&nbsp;&nbsp;&nbsp;&nbsp; <a href=\"https://api.test.datacite.org/application/x-bibtex/10.83126/ukllc-dataset-00341-01\" rel=\"noopener noreferrer\" target=\"_blank\">BibTeX</a>&nbsp;&nbsp;&nbsp;&nbsp; <a href=\"https://api.test.datacite.org/application/x-research-info-systems/10.83126/ukllc-dataset-00341-01\" rel=\"noopener noreferrer\" target=\"_blank\">RIS</a></td>\n",
       "    </tr>\n",
       "    <tr>\n",
       "      <td id=\"T_7b572_row3_col0\" class=\"data row3 col0\" >Series</td>\n",
       "      <td id=\"T_7b572_row3_col1\" class=\"data row3 col1\" > <a href=\"https://guidebook.ukllc.ac.uk/docs/lps/lps%20profiles/NEXTSTEP\">Next Steps</a></td>\n",
       "    </tr>\n",
       "    <tr>\n",
       "      <td id=\"T_7b572_row4_col0\" class=\"data row4 col0\" >Owner</td>\n",
       "      <td id=\"T_7b572_row4_col1\" class=\"data row4 col1\" >UCL</td>\n",
       "    </tr>\n",
       "    <tr>\n",
       "      <td id=\"T_7b572_row5_col0\" class=\"data row5 col0\" >Temporal Coverage</td>\n",
       "      <td id=\"T_7b572_row5_col1\" class=\"data row5 col1\" >04/2006 - 09/2006</td>\n",
       "    </tr>\n",
       "    <tr>\n",
       "      <td id=\"T_7b572_row6_col0\" class=\"data row6 col0\" >Keywords</td>\n",
       "      <td id=\"T_7b572_row6_col1\" class=\"data row6 col1\" >Health,Education,Leisure & sport,Attitudes,Youth,Employment</td>\n",
       "    </tr>\n",
       "    <tr>\n",
       "      <td id=\"T_7b572_row7_col0\" class=\"data row7 col0\" >Participants Invited</td>\n",
       "      <td id=\"T_7b572_row7_col1\" class=\"data row7 col1\" >12439</td>\n",
       "    </tr>\n",
       "    <tr>\n",
       "      <td id=\"T_7b572_row8_col0\" class=\"data row8 col0\" >Participant Count</td>\n",
       "      <td id=\"T_7b572_row8_col1\" class=\"data row8 col1\" >5474</td>\n",
       "    </tr>\n",
       "    <tr>\n",
       "      <td id=\"T_7b572_row9_col0\" class=\"data row9 col0\" >Number of variables</td>\n",
       "      <td id=\"T_7b572_row9_col1\" class=\"data row9 col1\" >78</td>\n",
       "    </tr>\n",
       "    <tr>\n",
       "      <td id=\"T_7b572_row10_col0\" class=\"data row10 col0\" >Number of observations</td>\n",
       "      <td id=\"T_7b572_row10_col1\" class=\"data row10 col1\" >12078</td>\n",
       "    </tr>\n",
       "    <tr>\n",
       "      <td id=\"T_7b572_row11_col0\" class=\"data row11 col0\" >Specific Restrictions to Data Use</td>\n",
       "      <td id=\"T_7b572_row11_col1\" class=\"data row11 col1\" >None</td>\n",
       "    </tr>\n",
       "    <tr>\n",
       "      <td id=\"T_7b572_row12_col0\" class=\"data row12 col0\" >Build a Data Request</td>\n",
       "      <td id=\"T_7b572_row12_col1\" class=\"data row12 col1\" > <a href=\"https://explore.ukllc.ac.uk/\" rel=\"noopener noreferrer\" target=\"_blank\">https://explore.ukllc.ac.uk/</a></td>\n",
       "    </tr>\n",
       "  </tbody>\n",
       "</table>\n"
      ],
      "text/plain": [
       "<pandas.io.formats.style.Styler at 0x1cfece57710>"
      ]
     },
     "execution_count": 3,
     "metadata": {},
     "output_type": "execute_result"
    }
   ],
   "source": [
    "ds.info_table()"
   ]
  },
  {
   "cell_type": "markdown",
   "id": "bea32770",
   "metadata": {},
   "source": [
    "## 2. Version History"
   ]
  },
  {
   "cell_type": "code",
   "execution_count": 4,
   "id": "cf174559",
   "metadata": {
    "execution": {
     "iopub.execute_input": "2025-07-18T10:15:04.157105Z",
     "iopub.status.busy": "2025-07-18T10:15:04.157105Z",
     "iopub.status.idle": "2025-07-18T10:15:06.535199Z",
     "shell.execute_reply": "2025-07-18T10:15:06.534189Z"
    },
    "tags": [
     "remove-input"
    ]
   },
   "outputs": [
    {
     "data": {
      "text/html": [
       "<style type=\"text/css\">\n",
       "#T_5d83e th {\n",
       "  text-align: left;\n",
       "}\n",
       "#T_5d83e_row0_col0, #T_5d83e_row0_col1, #T_5d83e_row1_col0, #T_5d83e_row1_col1, #T_5d83e_row2_col0, #T_5d83e_row2_col1, #T_5d83e_row3_col0, #T_5d83e_row3_col1, #T_5d83e_row4_col0, #T_5d83e_row4_col1 {\n",
       "  text-align: left;\n",
       "}\n",
       "</style>\n",
       "<table id=\"T_5d83e\" style=\"font-size: 14px\">\n",
       "  <thead>\n",
       "    <tr>\n",
       "      <th id=\"T_5d83e_level0_col0\" class=\"col_heading level0 col0\" >Version</th>\n",
       "      <th id=\"T_5d83e_level0_col1\" class=\"col_heading level0 col1\" >1</th>\n",
       "    </tr>\n",
       "  </thead>\n",
       "  <tbody>\n",
       "    <tr>\n",
       "      <td id=\"T_5d83e_row0_col0\" class=\"data row0 col0\" >Version Date</td>\n",
       "      <td id=\"T_5d83e_row0_col1\" class=\"data row0 col1\" >01 Nov 2021</td>\n",
       "    </tr>\n",
       "    <tr>\n",
       "      <td id=\"T_5d83e_row1_col0\" class=\"data row1 col0\" >Number of Variables</td>\n",
       "      <td id=\"T_5d83e_row1_col1\" class=\"data row1 col1\" >78</td>\n",
       "    </tr>\n",
       "    <tr>\n",
       "      <td id=\"T_5d83e_row2_col0\" class=\"data row2 col0\" >Number of Observations</td>\n",
       "      <td id=\"T_5d83e_row2_col1\" class=\"data row2 col1\" >12078</td>\n",
       "    </tr>\n",
       "    <tr>\n",
       "      <td id=\"T_5d83e_row3_col0\" class=\"data row3 col0\" >DOI</td>\n",
       "      <td id=\"T_5d83e_row3_col1\" class=\"data row3 col1\" > <a href=\"https://doi.org/10.83126/ukllc-dataset-00341-01\" rel=\"noopener noreferrer\" target=\"_blank\">10.83126/ukllc-dataset-00341-01</a></td>\n",
       "    </tr>\n",
       "    <tr>\n",
       "      <td id=\"T_5d83e_row4_col0\" class=\"data row4 col0\" >Change Log</td>\n",
       "      <td id=\"T_5d83e_row4_col1\" class=\"data row4 col1\" > <a href=\"https://api.test.datacite.org/dois/10.83126/ukllc-dataset-00341-01/activities\" rel=\"noopener noreferrer\" target=\"_blank\">10.83126/ukllc-dataset-00341-01/activities</a></td>\n",
       "    </tr>\n",
       "  </tbody>\n",
       "</table>\n"
      ],
      "text/plain": [
       "<pandas.io.formats.style.Styler at 0x1cff2a219d0>"
      ]
     },
     "execution_count": 4,
     "metadata": {},
     "output_type": "execute_result"
    }
   ],
   "source": [
    "ds.version_history()"
   ]
  },
  {
   "cell_type": "markdown",
   "id": "5e52b1ed",
   "metadata": {},
   "source": [
    "## 3. Documentation"
   ]
  },
  {
   "cell_type": "code",
   "execution_count": 5,
   "id": "a0f04873",
   "metadata": {
    "execution": {
     "iopub.execute_input": "2025-07-18T10:15:06.539196Z",
     "iopub.status.busy": "2025-07-18T10:15:06.539196Z",
     "iopub.status.idle": "2025-07-18T10:15:06.547367Z",
     "shell.execute_reply": "2025-07-18T10:15:06.545353Z"
    },
    "tags": [
     "remove-input"
    ]
   },
   "outputs": [
    {
     "data": {
      "text/markdown": [
       "We are currently building a documentation storage system which will host useful documents related to datasets and data owners. We will surface these documents on Guidebook."
      ],
      "text/plain": [
       "<IPython.core.display.Markdown object>"
      ]
     },
     "metadata": {},
     "output_type": "display_data"
    }
   ],
   "source": [
    "ds.documentation()"
   ]
  },
  {
   "cell_type": "markdown",
   "id": "68ba973d",
   "metadata": {},
   "source": [
    "## 4. Useful Syntax"
   ]
  },
  {
   "cell_type": "code",
   "execution_count": 6,
   "id": "f642c845",
   "metadata": {
    "execution": {
     "iopub.execute_input": "2025-07-18T10:15:06.553363Z",
     "iopub.status.busy": "2025-07-18T10:15:06.553363Z",
     "iopub.status.idle": "2025-07-18T10:15:06.561725Z",
     "shell.execute_reply": "2025-07-18T10:15:06.561725Z"
    },
    "tags": [
     "remove-input"
    ]
   },
   "outputs": [
    {
     "data": {
      "text/markdown": [
       "Below we will include syntax that may be helpful to other researchers in the UK LLC TRE. For longer scripts, we will include a snippet of the code plus a link to Git where you can find the full scripts."
      ],
      "text/plain": [
       "<IPython.core.display.Markdown object>"
      ]
     },
     "metadata": {},
     "output_type": "display_data"
    }
   ],
   "source": [
    "ds.useful_syntax()"
   ]
  }
 ],
 "metadata": {
  "language_info": {
   "codemirror_mode": {
    "name": "ipython",
    "version": 3
   },
   "file_extension": ".py",
   "mimetype": "text/x-python",
   "name": "python",
   "nbconvert_exporter": "python",
   "pygments_lexer": "ipython3",
   "version": "3.12.7"
  }
 },
 "nbformat": 4,
 "nbformat_minor": 5
}
