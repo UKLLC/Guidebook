{
 "cells": [
  {
   "cell_type": "markdown",
   "id": "ce67577c",
   "metadata": {},
   "source": [
    "# NS Parental Attitudes Sweep 2 (NEXTSTEP)"
   ]
  },
  {
   "cell_type": "code",
   "execution_count": 1,
   "id": "864a0239",
   "metadata": {
    "execution": {
     "iopub.execute_input": "2025-07-18T10:13:52.070125Z",
     "iopub.status.busy": "2025-07-18T10:13:52.070125Z",
     "iopub.status.idle": "2025-07-18T10:14:04.297746Z",
     "shell.execute_reply": "2025-07-18T10:14:04.297746Z"
    },
    "tags": [
     "remove-input"
    ]
   },
   "outputs": [
    {
     "data": {
      "text/markdown": [
       ">Last modified: 18 Jul 2025"
      ],
      "text/plain": [
       "<IPython.core.display.Markdown object>"
      ]
     },
     "metadata": {},
     "output_type": "display_data"
    }
   ],
   "source": [
    "\n",
    "import sys\n",
    "import os\n",
    "sys.path.append(os.path.abspath('../../../../scripts/'))\n",
    "from data_doc_helper import LPSDataSet as DS, last_modified\n",
    "API_KEY = os.environ['FASTAPI_KEY']\n",
    "ds = DS(\"NEXTSTEP\", \"ns2_parental_attitudes\")\n",
    "last_modified()\n"
   ]
  },
  {
   "cell_type": "markdown",
   "id": "a60e2b50",
   "metadata": {},
   "source": [
    "## 1. Summary"
   ]
  },
  {
   "cell_type": "code",
   "execution_count": 2,
   "id": "9ddc19bd",
   "metadata": {
    "execution": {
     "iopub.execute_input": "2025-07-18T10:14:04.301520Z",
     "iopub.status.busy": "2025-07-18T10:14:04.301520Z",
     "iopub.status.idle": "2025-07-18T10:14:04.305828Z",
     "shell.execute_reply": "2025-07-18T10:14:04.305828Z"
    },
    "tags": [
     "remove-input"
    ]
   },
   "outputs": [
    {
     "data": {
      "text/markdown": [
       "Data was collected via face to face interviewing between April and September 2005. Questions cover: Attitudes to the young person’s school and involvement in education, Extra-curricular classes, Year 10 subject choices, Special educational needs, Parental expectations and aspirations,School history"
      ],
      "text/plain": [
       "<IPython.core.display.Markdown object>"
      ]
     },
     "metadata": {},
     "output_type": "display_data"
    }
   ],
   "source": [
    "ds.summary()"
   ]
  },
  {
   "cell_type": "code",
   "execution_count": 3,
   "id": "5e6df25e",
   "metadata": {
    "execution": {
     "iopub.execute_input": "2025-07-18T10:14:04.308834Z",
     "iopub.status.busy": "2025-07-18T10:14:04.308834Z",
     "iopub.status.idle": "2025-07-18T10:14:07.721484Z",
     "shell.execute_reply": "2025-07-18T10:14:07.719563Z"
    },
    "tags": [
     "remove-input"
    ]
   },
   "outputs": [
    {
     "data": {
      "text/html": [
       "<style type=\"text/css\">\n",
       "#T_e8809 th {\n",
       "  text-align: left;\n",
       "}\n",
       "#T_e8809_row0_col0, #T_e8809_row0_col1, #T_e8809_row1_col0, #T_e8809_row1_col1, #T_e8809_row2_col0, #T_e8809_row2_col1, #T_e8809_row3_col0, #T_e8809_row3_col1, #T_e8809_row4_col0, #T_e8809_row4_col1, #T_e8809_row5_col0, #T_e8809_row5_col1, #T_e8809_row6_col0, #T_e8809_row6_col1, #T_e8809_row7_col0, #T_e8809_row7_col1, #T_e8809_row8_col0, #T_e8809_row8_col1, #T_e8809_row9_col0, #T_e8809_row9_col1, #T_e8809_row10_col0, #T_e8809_row10_col1, #T_e8809_row11_col0, #T_e8809_row11_col1, #T_e8809_row12_col0, #T_e8809_row12_col1 {\n",
       "  text-align: left;\n",
       "}\n",
       "</style>\n",
       "<table id=\"T_e8809\" style=\"font-size: 14px\">\n",
       "  <thead>\n",
       "    <tr>\n",
       "      <th id=\"T_e8809_level0_col0\" class=\"col_heading level0 col0\" >Dataset Descriptor</th>\n",
       "      <th id=\"T_e8809_level0_col1\" class=\"col_heading level0 col1\" >Dataset-specific Information</th>\n",
       "    </tr>\n",
       "  </thead>\n",
       "  <tbody>\n",
       "    <tr>\n",
       "      <td id=\"T_e8809_row0_col0\" class=\"data row0 col0\" >Name of Dataset in TRE</td>\n",
       "      <td id=\"T_e8809_row0_col1\" class=\"data row0 col1\" >NEXTSTEP_ns2_parental_attitudes</td>\n",
       "    </tr>\n",
       "    <tr>\n",
       "      <td id=\"T_e8809_row1_col0\" class=\"data row1 col0\" >Citation (APA)</td>\n",
       "      <td id=\"T_e8809_row1_col1\" class=\"data row1 col1\" >University College London, UCL Social Research Institute, Centre for Longitudinal Studies. (2021). <i>Next Steps: NS Parental Attitudes Sweep 2.</i> UK Longitudinal Linkage Collaboration (UK LLC).  <a href=\"https://doi.org/10.83126/ukllc-dataset-00337-01\" rel=\"noopener noreferrer\" target=\"_blank\">https://doi.org/10.83126/ukllc-dataset-00337-01</a></td>\n",
       "    </tr>\n",
       "    <tr>\n",
       "      <td id=\"T_e8809_row2_col0\" class=\"data row2 col0\" >Download Citation</td>\n",
       "      <td id=\"T_e8809_row2_col1\" class=\"data row2 col1\" > <a href=\"https://api.test.datacite.org/application/vnd.citationstyles.csl+json/10.83126/ukllc-dataset-00337-01\" rel=\"noopener noreferrer\" target=\"_blank\">Citeproc JSON</a>&nbsp;&nbsp;&nbsp;&nbsp; <a href=\"https://api.test.datacite.org/application/x-bibtex/10.83126/ukllc-dataset-00337-01\" rel=\"noopener noreferrer\" target=\"_blank\">BibTeX</a>&nbsp;&nbsp;&nbsp;&nbsp; <a href=\"https://api.test.datacite.org/application/x-research-info-systems/10.83126/ukllc-dataset-00337-01\" rel=\"noopener noreferrer\" target=\"_blank\">RIS</a></td>\n",
       "    </tr>\n",
       "    <tr>\n",
       "      <td id=\"T_e8809_row3_col0\" class=\"data row3 col0\" >Series</td>\n",
       "      <td id=\"T_e8809_row3_col1\" class=\"data row3 col1\" > <a href=\"https://guidebook.ukllc.ac.uk/docs/lps/lps%20profiles/NEXTSTEP\">Next Steps</a></td>\n",
       "    </tr>\n",
       "    <tr>\n",
       "      <td id=\"T_e8809_row4_col0\" class=\"data row4 col0\" >Owner</td>\n",
       "      <td id=\"T_e8809_row4_col1\" class=\"data row4 col1\" >UCL</td>\n",
       "    </tr>\n",
       "    <tr>\n",
       "      <td id=\"T_e8809_row5_col0\" class=\"data row5 col0\" >Temporal Coverage</td>\n",
       "      <td id=\"T_e8809_row5_col1\" class=\"data row5 col1\" >04/2005 - 09/2005</td>\n",
       "    </tr>\n",
       "    <tr>\n",
       "      <td id=\"T_e8809_row6_col0\" class=\"data row6 col0\" >Keywords</td>\n",
       "      <td id=\"T_e8809_row6_col1\" class=\"data row6 col1\" >Health,Education,Family life,Employment,Attitudes</td>\n",
       "    </tr>\n",
       "    <tr>\n",
       "      <td id=\"T_e8809_row7_col0\" class=\"data row7 col0\" >Participants Invited</td>\n",
       "      <td id=\"T_e8809_row7_col1\" class=\"data row7 col1\" >13539</td>\n",
       "    </tr>\n",
       "    <tr>\n",
       "      <td id=\"T_e8809_row8_col0\" class=\"data row8 col0\" >Participant Count</td>\n",
       "      <td id=\"T_e8809_row8_col1\" class=\"data row8 col1\" >5689</td>\n",
       "    </tr>\n",
       "    <tr>\n",
       "      <td id=\"T_e8809_row9_col0\" class=\"data row9 col0\" >Number of variables</td>\n",
       "      <td id=\"T_e8809_row9_col1\" class=\"data row9 col1\" >80</td>\n",
       "    </tr>\n",
       "    <tr>\n",
       "      <td id=\"T_e8809_row10_col0\" class=\"data row10 col0\" >Number of observations</td>\n",
       "      <td id=\"T_e8809_row10_col1\" class=\"data row10 col1\" >13147</td>\n",
       "    </tr>\n",
       "    <tr>\n",
       "      <td id=\"T_e8809_row11_col0\" class=\"data row11 col0\" >Specific Restrictions to Data Use</td>\n",
       "      <td id=\"T_e8809_row11_col1\" class=\"data row11 col1\" >None</td>\n",
       "    </tr>\n",
       "    <tr>\n",
       "      <td id=\"T_e8809_row12_col0\" class=\"data row12 col0\" >Build a Data Request</td>\n",
       "      <td id=\"T_e8809_row12_col1\" class=\"data row12 col1\" > <a href=\"https://explore.ukllc.ac.uk/\" rel=\"noopener noreferrer\" target=\"_blank\">https://explore.ukllc.ac.uk/</a></td>\n",
       "    </tr>\n",
       "  </tbody>\n",
       "</table>\n"
      ],
      "text/plain": [
       "<pandas.io.formats.style.Styler at 0x23bceb907d0>"
      ]
     },
     "execution_count": 3,
     "metadata": {},
     "output_type": "execute_result"
    }
   ],
   "source": [
    "ds.info_table()"
   ]
  },
  {
   "cell_type": "markdown",
   "id": "473615a8",
   "metadata": {},
   "source": [
    "## 2. Version History"
   ]
  },
  {
   "cell_type": "code",
   "execution_count": 4,
   "id": "1fc3b490",
   "metadata": {
    "execution": {
     "iopub.execute_input": "2025-07-18T10:14:07.726499Z",
     "iopub.status.busy": "2025-07-18T10:14:07.726499Z",
     "iopub.status.idle": "2025-07-18T10:14:10.113139Z",
     "shell.execute_reply": "2025-07-18T10:14:10.111896Z"
    },
    "tags": [
     "remove-input"
    ]
   },
   "outputs": [
    {
     "data": {
      "text/html": [
       "<style type=\"text/css\">\n",
       "#T_399a7 th {\n",
       "  text-align: left;\n",
       "}\n",
       "#T_399a7_row0_col0, #T_399a7_row0_col1, #T_399a7_row1_col0, #T_399a7_row1_col1, #T_399a7_row2_col0, #T_399a7_row2_col1, #T_399a7_row3_col0, #T_399a7_row3_col1, #T_399a7_row4_col0, #T_399a7_row4_col1 {\n",
       "  text-align: left;\n",
       "}\n",
       "</style>\n",
       "<table id=\"T_399a7\" style=\"font-size: 14px\">\n",
       "  <thead>\n",
       "    <tr>\n",
       "      <th id=\"T_399a7_level0_col0\" class=\"col_heading level0 col0\" >Version</th>\n",
       "      <th id=\"T_399a7_level0_col1\" class=\"col_heading level0 col1\" >1</th>\n",
       "    </tr>\n",
       "  </thead>\n",
       "  <tbody>\n",
       "    <tr>\n",
       "      <td id=\"T_399a7_row0_col0\" class=\"data row0 col0\" >Version Date</td>\n",
       "      <td id=\"T_399a7_row0_col1\" class=\"data row0 col1\" >01 Nov 2021</td>\n",
       "    </tr>\n",
       "    <tr>\n",
       "      <td id=\"T_399a7_row1_col0\" class=\"data row1 col0\" >Number of Variables</td>\n",
       "      <td id=\"T_399a7_row1_col1\" class=\"data row1 col1\" >80</td>\n",
       "    </tr>\n",
       "    <tr>\n",
       "      <td id=\"T_399a7_row2_col0\" class=\"data row2 col0\" >Number of Observations</td>\n",
       "      <td id=\"T_399a7_row2_col1\" class=\"data row2 col1\" >13147</td>\n",
       "    </tr>\n",
       "    <tr>\n",
       "      <td id=\"T_399a7_row3_col0\" class=\"data row3 col0\" >DOI</td>\n",
       "      <td id=\"T_399a7_row3_col1\" class=\"data row3 col1\" > <a href=\"https://doi.org/10.83126/ukllc-dataset-00337-01\" rel=\"noopener noreferrer\" target=\"_blank\">10.83126/ukllc-dataset-00337-01</a></td>\n",
       "    </tr>\n",
       "    <tr>\n",
       "      <td id=\"T_399a7_row4_col0\" class=\"data row4 col0\" >Change Log</td>\n",
       "      <td id=\"T_399a7_row4_col1\" class=\"data row4 col1\" > <a href=\"https://api.test.datacite.org/dois/10.83126/ukllc-dataset-00337-01/activities\" rel=\"noopener noreferrer\" target=\"_blank\">10.83126/ukllc-dataset-00337-01/activities</a></td>\n",
       "    </tr>\n",
       "  </tbody>\n",
       "</table>\n"
      ],
      "text/plain": [
       "<pandas.io.formats.style.Styler at 0x23bd43c23c0>"
      ]
     },
     "execution_count": 4,
     "metadata": {},
     "output_type": "execute_result"
    }
   ],
   "source": [
    "ds.version_history()"
   ]
  },
  {
   "cell_type": "markdown",
   "id": "ca430378",
   "metadata": {},
   "source": [
    "## 3. Documentation"
   ]
  },
  {
   "cell_type": "code",
   "execution_count": 5,
   "id": "88583fe4",
   "metadata": {
    "execution": {
     "iopub.execute_input": "2025-07-18T10:14:10.117139Z",
     "iopub.status.busy": "2025-07-18T10:14:10.117139Z",
     "iopub.status.idle": "2025-07-18T10:14:10.125679Z",
     "shell.execute_reply": "2025-07-18T10:14:10.124526Z"
    },
    "tags": [
     "remove-input"
    ]
   },
   "outputs": [
    {
     "data": {
      "text/markdown": [
       "We are currently building a documentation storage system which will host useful documents related to datasets and data owners. We will surface these documents on Guidebook."
      ],
      "text/plain": [
       "<IPython.core.display.Markdown object>"
      ]
     },
     "metadata": {},
     "output_type": "display_data"
    }
   ],
   "source": [
    "ds.documentation()"
   ]
  },
  {
   "cell_type": "markdown",
   "id": "06e222d0",
   "metadata": {},
   "source": [
    "## 4. Useful Syntax"
   ]
  },
  {
   "cell_type": "code",
   "execution_count": 6,
   "id": "2f2e3ad7",
   "metadata": {
    "execution": {
     "iopub.execute_input": "2025-07-18T10:14:10.130665Z",
     "iopub.status.busy": "2025-07-18T10:14:10.129665Z",
     "iopub.status.idle": "2025-07-18T10:14:10.138534Z",
     "shell.execute_reply": "2025-07-18T10:14:10.137201Z"
    },
    "tags": [
     "remove-input"
    ]
   },
   "outputs": [
    {
     "data": {
      "text/markdown": [
       "Below we will include syntax that may be helpful to other researchers in the UK LLC TRE. For longer scripts, we will include a snippet of the code plus a link to Git where you can find the full scripts."
      ],
      "text/plain": [
       "<IPython.core.display.Markdown object>"
      ]
     },
     "metadata": {},
     "output_type": "display_data"
    }
   ],
   "source": [
    "ds.useful_syntax()"
   ]
  }
 ],
 "metadata": {
  "language_info": {
   "codemirror_mode": {
    "name": "ipython",
    "version": 3
   },
   "file_extension": ".py",
   "mimetype": "text/x-python",
   "name": "python",
   "nbconvert_exporter": "python",
   "pygments_lexer": "ipython3",
   "version": "3.12.7"
  }
 },
 "nbformat": 4,
 "nbformat_minor": 5
}
