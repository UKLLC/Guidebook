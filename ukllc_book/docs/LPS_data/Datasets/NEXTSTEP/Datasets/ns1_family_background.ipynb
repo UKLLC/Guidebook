{
 "cells": [
  {
   "cell_type": "markdown",
   "id": "da314c74",
   "metadata": {},
   "source": [
    "# NS Family Background Sweep 1 (NEXTSTEP)"
   ]
  },
  {
   "cell_type": "code",
   "execution_count": 1,
   "id": "cdd34b81",
   "metadata": {
    "execution": {
     "iopub.execute_input": "2025-07-18T10:12:21.798551Z",
     "iopub.status.busy": "2025-07-18T10:12:21.798551Z",
     "iopub.status.idle": "2025-07-18T10:12:29.199381Z",
     "shell.execute_reply": "2025-07-18T10:12:29.198290Z"
    },
    "tags": [
     "remove-input"
    ]
   },
   "outputs": [
    {
     "data": {
      "text/markdown": [
       ">Last modified: 18 Jul 2025"
      ],
      "text/plain": [
       "<IPython.core.display.Markdown object>"
      ]
     },
     "metadata": {},
     "output_type": "display_data"
    }
   ],
   "source": [
    "\n",
    "import sys\n",
    "import os\n",
    "sys.path.append(os.path.abspath('../../../../scripts/'))\n",
    "from data_doc_helper import LPSDataSet as DS, last_modified\n",
    "API_KEY = os.environ['FASTAPI_KEY']\n",
    "ds = DS(\"NEXTSTEP\", \"ns1_family_background\")\n",
    "last_modified()\n"
   ]
  },
  {
   "cell_type": "markdown",
   "id": "166128aa",
   "metadata": {},
   "source": [
    "## 1. Summary"
   ]
  },
  {
   "cell_type": "code",
   "execution_count": 2,
   "id": "eb77bbd9",
   "metadata": {
    "execution": {
     "iopub.execute_input": "2025-07-18T10:12:29.205491Z",
     "iopub.status.busy": "2025-07-18T10:12:29.205491Z",
     "iopub.status.idle": "2025-07-18T10:12:29.214643Z",
     "shell.execute_reply": "2025-07-18T10:12:29.213636Z"
    },
    "tags": [
     "remove-input"
    ]
   },
   "outputs": [
    {
     "data": {
      "text/markdown": [
       "Data was collected via face to face interviewing between March and October 2004. Questions cover: Languages spoken in the home,Family activities,Household responsibilities,Household resources,Demographics,Qualifications and education,Current activity, Health, Employment/activity history"
      ],
      "text/plain": [
       "<IPython.core.display.Markdown object>"
      ]
     },
     "metadata": {},
     "output_type": "display_data"
    }
   ],
   "source": [
    "ds.summary()"
   ]
  },
  {
   "cell_type": "code",
   "execution_count": 3,
   "id": "140fb01f",
   "metadata": {
    "execution": {
     "iopub.execute_input": "2025-07-18T10:12:29.219642Z",
     "iopub.status.busy": "2025-07-18T10:12:29.219642Z",
     "iopub.status.idle": "2025-07-18T10:12:30.461665Z",
     "shell.execute_reply": "2025-07-18T10:12:30.461665Z"
    },
    "tags": [
     "remove-input"
    ]
   },
   "outputs": [
    {
     "data": {
      "text/html": [
       "<style type=\"text/css\">\n",
       "#T_04d31 th {\n",
       "  text-align: left;\n",
       "}\n",
       "#T_04d31_row0_col0, #T_04d31_row0_col1, #T_04d31_row1_col0, #T_04d31_row1_col1, #T_04d31_row2_col0, #T_04d31_row2_col1, #T_04d31_row3_col0, #T_04d31_row3_col1, #T_04d31_row4_col0, #T_04d31_row4_col1, #T_04d31_row5_col0, #T_04d31_row5_col1, #T_04d31_row6_col0, #T_04d31_row6_col1, #T_04d31_row7_col0, #T_04d31_row7_col1, #T_04d31_row8_col0, #T_04d31_row8_col1, #T_04d31_row9_col0, #T_04d31_row9_col1, #T_04d31_row10_col0, #T_04d31_row10_col1, #T_04d31_row11_col0, #T_04d31_row11_col1, #T_04d31_row12_col0, #T_04d31_row12_col1 {\n",
       "  text-align: left;\n",
       "}\n",
       "</style>\n",
       "<table id=\"T_04d31\" style=\"font-size: 14px\">\n",
       "  <thead>\n",
       "    <tr>\n",
       "      <th id=\"T_04d31_level0_col0\" class=\"col_heading level0 col0\" >Dataset Descriptor</th>\n",
       "      <th id=\"T_04d31_level0_col1\" class=\"col_heading level0 col1\" >Dataset-specific Information</th>\n",
       "    </tr>\n",
       "  </thead>\n",
       "  <tbody>\n",
       "    <tr>\n",
       "      <td id=\"T_04d31_row0_col0\" class=\"data row0 col0\" >Name of Dataset in TRE</td>\n",
       "      <td id=\"T_04d31_row0_col1\" class=\"data row0 col1\" >NEXTSTEP_ns1_family_background</td>\n",
       "    </tr>\n",
       "    <tr>\n",
       "      <td id=\"T_04d31_row1_col0\" class=\"data row1 col0\" >Citation (APA)</td>\n",
       "      <td id=\"T_04d31_row1_col1\" class=\"data row1 col1\" >University College London, UCL Social Research Institute, Centre for Longitudinal Studies. (2021). <i>Next Steps: NS Family Background Sweep 1.</i> UK Longitudinal Linkage Collaboration (UK LLC).  <a href=\"https://doi.org/10.83126/ukllc-dataset-00331-01\" rel=\"noopener noreferrer\" target=\"_blank\">https://doi.org/10.83126/ukllc-dataset-00331-01</a></td>\n",
       "    </tr>\n",
       "    <tr>\n",
       "      <td id=\"T_04d31_row2_col0\" class=\"data row2 col0\" >Download Citation</td>\n",
       "      <td id=\"T_04d31_row2_col1\" class=\"data row2 col1\" > <a href=\"https://api.test.datacite.org/application/vnd.citationstyles.csl+json/10.83126/ukllc-dataset-00331-01\" rel=\"noopener noreferrer\" target=\"_blank\">Citeproc JSON</a>&nbsp;&nbsp;&nbsp;&nbsp; <a href=\"https://api.test.datacite.org/application/x-bibtex/10.83126/ukllc-dataset-00331-01\" rel=\"noopener noreferrer\" target=\"_blank\">BibTeX</a>&nbsp;&nbsp;&nbsp;&nbsp; <a href=\"https://api.test.datacite.org/application/x-research-info-systems/10.83126/ukllc-dataset-00331-01\" rel=\"noopener noreferrer\" target=\"_blank\">RIS</a></td>\n",
       "    </tr>\n",
       "    <tr>\n",
       "      <td id=\"T_04d31_row3_col0\" class=\"data row3 col0\" >Series</td>\n",
       "      <td id=\"T_04d31_row3_col1\" class=\"data row3 col1\" > <a href=\"https://guidebook.ukllc.ac.uk/docs/lps/lps%20profiles/NEXTSTEP\">Next Steps</a></td>\n",
       "    </tr>\n",
       "    <tr>\n",
       "      <td id=\"T_04d31_row4_col0\" class=\"data row4 col0\" >Owner</td>\n",
       "      <td id=\"T_04d31_row4_col1\" class=\"data row4 col1\" >UCL</td>\n",
       "    </tr>\n",
       "    <tr>\n",
       "      <td id=\"T_04d31_row5_col0\" class=\"data row5 col0\" >Temporal Coverage</td>\n",
       "      <td id=\"T_04d31_row5_col1\" class=\"data row5 col1\" >03/2004 - 10/2004</td>\n",
       "    </tr>\n",
       "    <tr>\n",
       "      <td id=\"T_04d31_row6_col0\" class=\"data row6 col0\" >Keywords</td>\n",
       "      <td id=\"T_04d31_row6_col1\" class=\"data row6 col1\" >Health,Education,Family life,Employment,Attitudes</td>\n",
       "    </tr>\n",
       "    <tr>\n",
       "      <td id=\"T_04d31_row7_col0\" class=\"data row7 col0\" >Participants Invited</td>\n",
       "      <td id=\"T_04d31_row7_col1\" class=\"data row7 col1\" >15770</td>\n",
       "    </tr>\n",
       "    <tr>\n",
       "      <td id=\"T_04d31_row8_col0\" class=\"data row8 col0\" >Participant Count</td>\n",
       "      <td id=\"T_04d31_row8_col1\" class=\"data row8 col1\" >6079</td>\n",
       "    </tr>\n",
       "    <tr>\n",
       "      <td id=\"T_04d31_row9_col0\" class=\"data row9 col0\" >Number of variables</td>\n",
       "      <td id=\"T_04d31_row9_col1\" class=\"data row9 col1\" >383</td>\n",
       "    </tr>\n",
       "    <tr>\n",
       "      <td id=\"T_04d31_row10_col0\" class=\"data row10 col0\" >Number of observations</td>\n",
       "      <td id=\"T_04d31_row10_col1\" class=\"data row10 col1\" >15286</td>\n",
       "    </tr>\n",
       "    <tr>\n",
       "      <td id=\"T_04d31_row11_col0\" class=\"data row11 col0\" >Specific Restrictions to Data Use</td>\n",
       "      <td id=\"T_04d31_row11_col1\" class=\"data row11 col1\" >None</td>\n",
       "    </tr>\n",
       "    <tr>\n",
       "      <td id=\"T_04d31_row12_col0\" class=\"data row12 col0\" >Build a Data Request</td>\n",
       "      <td id=\"T_04d31_row12_col1\" class=\"data row12 col1\" > <a href=\"https://explore.ukllc.ac.uk/\" rel=\"noopener noreferrer\" target=\"_blank\">https://explore.ukllc.ac.uk/</a></td>\n",
       "    </tr>\n",
       "  </tbody>\n",
       "</table>\n"
      ],
      "text/plain": [
       "<pandas.io.formats.style.Styler at 0x219d61eade0>"
      ]
     },
     "execution_count": 3,
     "metadata": {},
     "output_type": "execute_result"
    }
   ],
   "source": [
    "ds.info_table()"
   ]
  },
  {
   "cell_type": "markdown",
   "id": "57ebb9ec",
   "metadata": {},
   "source": [
    "## 2. Version History"
   ]
  },
  {
   "cell_type": "code",
   "execution_count": 4,
   "id": "5ce5b781",
   "metadata": {
    "execution": {
     "iopub.execute_input": "2025-07-18T10:12:30.467922Z",
     "iopub.status.busy": "2025-07-18T10:12:30.466922Z",
     "iopub.status.idle": "2025-07-18T10:12:32.937683Z",
     "shell.execute_reply": "2025-07-18T10:12:32.935663Z"
    },
    "tags": [
     "remove-input"
    ]
   },
   "outputs": [
    {
     "data": {
      "text/html": [
       "<style type=\"text/css\">\n",
       "#T_074f3 th {\n",
       "  text-align: left;\n",
       "}\n",
       "#T_074f3_row0_col0, #T_074f3_row0_col1, #T_074f3_row1_col0, #T_074f3_row1_col1, #T_074f3_row2_col0, #T_074f3_row2_col1, #T_074f3_row3_col0, #T_074f3_row3_col1, #T_074f3_row4_col0, #T_074f3_row4_col1 {\n",
       "  text-align: left;\n",
       "}\n",
       "</style>\n",
       "<table id=\"T_074f3\" style=\"font-size: 14px\">\n",
       "  <thead>\n",
       "    <tr>\n",
       "      <th id=\"T_074f3_level0_col0\" class=\"col_heading level0 col0\" >Version</th>\n",
       "      <th id=\"T_074f3_level0_col1\" class=\"col_heading level0 col1\" >1</th>\n",
       "    </tr>\n",
       "  </thead>\n",
       "  <tbody>\n",
       "    <tr>\n",
       "      <td id=\"T_074f3_row0_col0\" class=\"data row0 col0\" >Version Date</td>\n",
       "      <td id=\"T_074f3_row0_col1\" class=\"data row0 col1\" >01 Nov 2021</td>\n",
       "    </tr>\n",
       "    <tr>\n",
       "      <td id=\"T_074f3_row1_col0\" class=\"data row1 col0\" >Number of Variables</td>\n",
       "      <td id=\"T_074f3_row1_col1\" class=\"data row1 col1\" >383</td>\n",
       "    </tr>\n",
       "    <tr>\n",
       "      <td id=\"T_074f3_row2_col0\" class=\"data row2 col0\" >Number of Observations</td>\n",
       "      <td id=\"T_074f3_row2_col1\" class=\"data row2 col1\" >15286</td>\n",
       "    </tr>\n",
       "    <tr>\n",
       "      <td id=\"T_074f3_row3_col0\" class=\"data row3 col0\" >DOI</td>\n",
       "      <td id=\"T_074f3_row3_col1\" class=\"data row3 col1\" > <a href=\"https://doi.org/10.83126/ukllc-dataset-00331-01\" rel=\"noopener noreferrer\" target=\"_blank\">10.83126/ukllc-dataset-00331-01</a></td>\n",
       "    </tr>\n",
       "    <tr>\n",
       "      <td id=\"T_074f3_row4_col0\" class=\"data row4 col0\" >Change Log</td>\n",
       "      <td id=\"T_074f3_row4_col1\" class=\"data row4 col1\" > <a href=\"https://api.test.datacite.org/dois/10.83126/ukllc-dataset-00331-01/activities\" rel=\"noopener noreferrer\" target=\"_blank\">10.83126/ukllc-dataset-00331-01/activities</a></td>\n",
       "    </tr>\n",
       "  </tbody>\n",
       "</table>\n"
      ],
      "text/plain": [
       "<pandas.io.formats.style.Styler at 0x219dbc392e0>"
      ]
     },
     "execution_count": 4,
     "metadata": {},
     "output_type": "execute_result"
    }
   ],
   "source": [
    "ds.version_history()"
   ]
  },
  {
   "cell_type": "markdown",
   "id": "b0b3b019",
   "metadata": {},
   "source": [
    "## 3. Documentation"
   ]
  },
  {
   "cell_type": "code",
   "execution_count": 5,
   "id": "474ddde3",
   "metadata": {
    "execution": {
     "iopub.execute_input": "2025-07-18T10:12:32.944187Z",
     "iopub.status.busy": "2025-07-18T10:12:32.943180Z",
     "iopub.status.idle": "2025-07-18T10:12:32.951639Z",
     "shell.execute_reply": "2025-07-18T10:12:32.950633Z"
    },
    "tags": [
     "remove-input"
    ]
   },
   "outputs": [
    {
     "data": {
      "text/markdown": [
       "We are currently building a documentation storage system which will host useful documents related to datasets and data owners. We will surface these documents on Guidebook."
      ],
      "text/plain": [
       "<IPython.core.display.Markdown object>"
      ]
     },
     "metadata": {},
     "output_type": "display_data"
    }
   ],
   "source": [
    "ds.documentation()"
   ]
  },
  {
   "cell_type": "markdown",
   "id": "70bb533c",
   "metadata": {},
   "source": [
    "## 4. Useful Syntax"
   ]
  },
  {
   "cell_type": "code",
   "execution_count": 6,
   "id": "61116f1b",
   "metadata": {
    "execution": {
     "iopub.execute_input": "2025-07-18T10:12:32.957640Z",
     "iopub.status.busy": "2025-07-18T10:12:32.957640Z",
     "iopub.status.idle": "2025-07-18T10:12:32.963085Z",
     "shell.execute_reply": "2025-07-18T10:12:32.963085Z"
    },
    "tags": [
     "remove-input"
    ]
   },
   "outputs": [
    {
     "data": {
      "text/markdown": [
       "Below we will include syntax that may be helpful to other researchers in the UK LLC TRE. For longer scripts, we will include a snippet of the code plus a link to Git where you can find the full scripts."
      ],
      "text/plain": [
       "<IPython.core.display.Markdown object>"
      ]
     },
     "metadata": {},
     "output_type": "display_data"
    }
   ],
   "source": [
    "ds.useful_syntax()"
   ]
  }
 ],
 "metadata": {
  "language_info": {
   "codemirror_mode": {
    "name": "ipython",
    "version": 3
   },
   "file_extension": ".py",
   "mimetype": "text/x-python",
   "name": "python",
   "nbconvert_exporter": "python",
   "pygments_lexer": "ipython3",
   "version": "3.12.7"
  }
 },
 "nbformat": 4,
 "nbformat_minor": 5
}
