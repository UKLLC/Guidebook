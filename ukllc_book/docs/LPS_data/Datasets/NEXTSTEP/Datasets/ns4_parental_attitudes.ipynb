{
 "cells": [
  {
   "cell_type": "markdown",
   "id": "014c70d7",
   "metadata": {},
   "source": [
    "# NS Parental Attitudes Sweep 4 (NEXTSTEP)"
   ]
  },
  {
   "cell_type": "code",
   "execution_count": 1,
   "id": "8d6b34fb",
   "metadata": {
    "execution": {
     "iopub.execute_input": "2025-07-28T20:03:17.595790Z",
     "iopub.status.busy": "2025-07-28T20:03:17.595790Z",
     "iopub.status.idle": "2025-07-28T20:03:29.472723Z",
     "shell.execute_reply": "2025-07-28T20:03:29.470704Z"
    },
    "tags": [
     "remove-input"
    ]
   },
   "outputs": [
    {
     "data": {
      "text/markdown": [
       ">Last modified: 28 Jul 2025"
      ],
      "text/plain": [
       "<IPython.core.display.Markdown object>"
      ]
     },
     "metadata": {},
     "output_type": "display_data"
    }
   ],
   "source": [
    "\n",
    "import sys\n",
    "import os\n",
    "sys.path.append(os.path.abspath('../../../../scripts/'))\n",
    "from data_doc_helper import LPSDataSet as DS, last_modified\n",
    "API_KEY = os.environ['FASTAPI_KEY']\n",
    "ds = DS(\"NEXTSTEP\", \"ns4_parental_attitudes\")\n",
    "last_modified()\n"
   ]
  },
  {
   "cell_type": "markdown",
   "id": "b84d9c43",
   "metadata": {},
   "source": [
    "## 1. Summary"
   ]
  },
  {
   "cell_type": "code",
   "execution_count": 2,
   "id": "9936880b",
   "metadata": {
    "execution": {
     "iopub.execute_input": "2025-07-28T20:03:29.482719Z",
     "iopub.status.busy": "2025-07-28T20:03:29.481719Z",
     "iopub.status.idle": "2025-07-28T20:03:29.500570Z",
     "shell.execute_reply": "2025-07-28T20:03:29.499553Z"
    },
    "tags": [
     "remove-input"
    ]
   },
   "outputs": [
    {
     "data": {
      "text/markdown": [
       "Data was collected via face to face interviewing between June and October 2007. Questions cover: Attitudes to the young person’s school and involvement in education, Extra-curricular classes, Special educational needs, Parental expectations and aspirations,Year 11 experiences, Post-16 plans"
      ],
      "text/plain": [
       "<IPython.core.display.Markdown object>"
      ]
     },
     "metadata": {},
     "output_type": "display_data"
    }
   ],
   "source": [
    "ds.summary()"
   ]
  },
  {
   "cell_type": "code",
   "execution_count": 3,
   "id": "f56c1152",
   "metadata": {
    "execution": {
     "iopub.execute_input": "2025-07-28T20:03:29.508569Z",
     "iopub.status.busy": "2025-07-28T20:03:29.507568Z",
     "iopub.status.idle": "2025-07-28T20:03:31.225156Z",
     "shell.execute_reply": "2025-07-28T20:03:31.223138Z"
    },
    "tags": [
     "remove-input"
    ]
   },
   "outputs": [
    {
     "data": {
      "text/html": [
       "<style type=\"text/css\">\n",
       "#T_12a0a th {\n",
       "  text-align: left;\n",
       "}\n",
       "#T_12a0a_row0_col0, #T_12a0a_row0_col1, #T_12a0a_row1_col0, #T_12a0a_row1_col1, #T_12a0a_row2_col0, #T_12a0a_row2_col1, #T_12a0a_row3_col0, #T_12a0a_row3_col1, #T_12a0a_row4_col0, #T_12a0a_row4_col1, #T_12a0a_row5_col0, #T_12a0a_row5_col1, #T_12a0a_row6_col0, #T_12a0a_row6_col1, #T_12a0a_row7_col0, #T_12a0a_row7_col1, #T_12a0a_row8_col0, #T_12a0a_row8_col1, #T_12a0a_row9_col0, #T_12a0a_row9_col1, #T_12a0a_row10_col0, #T_12a0a_row10_col1, #T_12a0a_row11_col0, #T_12a0a_row11_col1, #T_12a0a_row12_col0, #T_12a0a_row12_col1 {\n",
       "  text-align: left;\n",
       "}\n",
       "</style>\n",
       "<table id=\"T_12a0a\" style=\"font-size: 14px\">\n",
       "  <thead>\n",
       "    <tr>\n",
       "      <th id=\"T_12a0a_level0_col0\" class=\"col_heading level0 col0\" >Dataset Descriptor</th>\n",
       "      <th id=\"T_12a0a_level0_col1\" class=\"col_heading level0 col1\" >Dataset-specific Information</th>\n",
       "    </tr>\n",
       "  </thead>\n",
       "  <tbody>\n",
       "    <tr>\n",
       "      <td id=\"T_12a0a_row0_col0\" class=\"data row0 col0\" >Name of Dataset in TRE</td>\n",
       "      <td id=\"T_12a0a_row0_col1\" class=\"data row0 col1\" >NEXTSTEP_ns4_parental_attitudes</td>\n",
       "    </tr>\n",
       "    <tr>\n",
       "      <td id=\"T_12a0a_row1_col0\" class=\"data row1 col0\" >Citation (APA)</td>\n",
       "      <td id=\"T_12a0a_row1_col1\" class=\"data row1 col1\" >University College London, UCL Social Research Institute, Centre for Longitudinal Studies. (2021). <i>Next Steps: NS Parental Attitudes Sweep 4.</i> UK Longitudinal Linkage Collaboration (UK LLC).  <a href=\"https://doi.org/10.71760/ukllc-dataset-00276-01\" rel=\"noopener noreferrer\" target=\"_blank\">https://doi.org/10.71760/ukllc-dataset-00276-01</a></td>\n",
       "    </tr>\n",
       "    <tr>\n",
       "      <td id=\"T_12a0a_row2_col0\" class=\"data row2 col0\" >Download Citation</td>\n",
       "      <td id=\"T_12a0a_row2_col1\" class=\"data row2 col1\" > <a href=\"https://api.datacite.org/application/vnd.citationstyles.csl+json/10.71760/ukllc-dataset-00276-01\" rel=\"noopener noreferrer\" target=\"_blank\">Citeproc JSON</a>&nbsp;&nbsp;&nbsp;&nbsp; <a href=\"https://api.datacite.org/application/x-bibtex/10.71760/ukllc-dataset-00276-01\" rel=\"noopener noreferrer\" target=\"_blank\">BibTeX</a>&nbsp;&nbsp;&nbsp;&nbsp; <a href=\"https://api.datacite.org/application/x-research-info-systems/10.71760/ukllc-dataset-00276-01\" rel=\"noopener noreferrer\" target=\"_blank\">RIS</a></td>\n",
       "    </tr>\n",
       "    <tr>\n",
       "      <td id=\"T_12a0a_row3_col0\" class=\"data row3 col0\" >Series</td>\n",
       "      <td id=\"T_12a0a_row3_col1\" class=\"data row3 col1\" > <a href=\"https://guidebook.ukllc.ac.uk/docs/lps_data/lps%20profiles/NEXTSTEP\">Next Steps</a></td>\n",
       "    </tr>\n",
       "    <tr>\n",
       "      <td id=\"T_12a0a_row4_col0\" class=\"data row4 col0\" >Owner</td>\n",
       "      <td id=\"T_12a0a_row4_col1\" class=\"data row4 col1\" >UCL</td>\n",
       "    </tr>\n",
       "    <tr>\n",
       "      <td id=\"T_12a0a_row5_col0\" class=\"data row5 col0\" >Temporal Coverage</td>\n",
       "      <td id=\"T_12a0a_row5_col1\" class=\"data row5 col1\" >06/2007 - 10/2007</td>\n",
       "    </tr>\n",
       "    <tr>\n",
       "      <td id=\"T_12a0a_row6_col0\" class=\"data row6 col0\" >Keywords</td>\n",
       "      <td id=\"T_12a0a_row6_col1\" class=\"data row6 col1\" >Health,Education,Leisure & sport,Attitudes,Youth,Employment</td>\n",
       "    </tr>\n",
       "    <tr>\n",
       "      <td id=\"T_12a0a_row7_col0\" class=\"data row7 col0\" >Participants Invited</td>\n",
       "      <td id=\"T_12a0a_row7_col1\" class=\"data row7 col1\" >11449</td>\n",
       "    </tr>\n",
       "    <tr>\n",
       "      <td id=\"T_12a0a_row8_col0\" class=\"data row8 col0\" >Participant Count</td>\n",
       "      <td id=\"T_12a0a_row8_col1\" class=\"data row8 col1\" >5356</td>\n",
       "    </tr>\n",
       "    <tr>\n",
       "      <td id=\"T_12a0a_row9_col0\" class=\"data row9 col0\" >Number of variables</td>\n",
       "      <td id=\"T_12a0a_row9_col1\" class=\"data row9 col1\" >79</td>\n",
       "    </tr>\n",
       "    <tr>\n",
       "      <td id=\"T_12a0a_row10_col0\" class=\"data row10 col0\" >Number of observations</td>\n",
       "      <td id=\"T_12a0a_row10_col1\" class=\"data row10 col1\" >11471</td>\n",
       "    </tr>\n",
       "    <tr>\n",
       "      <td id=\"T_12a0a_row11_col0\" class=\"data row11 col0\" >Specific Restrictions to Data Use</td>\n",
       "      <td id=\"T_12a0a_row11_col1\" class=\"data row11 col1\" >None</td>\n",
       "    </tr>\n",
       "    <tr>\n",
       "      <td id=\"T_12a0a_row12_col0\" class=\"data row12 col0\" >Build a Data Request</td>\n",
       "      <td id=\"T_12a0a_row12_col1\" class=\"data row12 col1\" > <a href=\"https://explore.ukllc.ac.uk/\" rel=\"noopener noreferrer\" target=\"_blank\">https://explore.ukllc.ac.uk/</a></td>\n",
       "    </tr>\n",
       "  </tbody>\n",
       "</table>\n"
      ],
      "text/plain": [
       "<pandas.io.formats.style.Styler at 0x1d404c084a0>"
      ]
     },
     "execution_count": 3,
     "metadata": {},
     "output_type": "execute_result"
    }
   ],
   "source": [
    "ds.info_table()"
   ]
  },
  {
   "cell_type": "markdown",
   "id": "2a23d9ba",
   "metadata": {},
   "source": [
    "## 2. Version History"
   ]
  },
  {
   "cell_type": "code",
   "execution_count": 4,
   "id": "0b9e4ef1",
   "metadata": {
    "execution": {
     "iopub.execute_input": "2025-07-28T20:03:31.234157Z",
     "iopub.status.busy": "2025-07-28T20:03:31.232154Z",
     "iopub.status.idle": "2025-07-28T20:03:36.506868Z",
     "shell.execute_reply": "2025-07-28T20:03:36.504585Z"
    },
    "tags": [
     "remove-input"
    ]
   },
   "outputs": [
    {
     "data": {
      "text/html": [
       "<style type=\"text/css\">\n",
       "#T_ef2c9 th {\n",
       "  text-align: left;\n",
       "}\n",
       "#T_ef2c9_row0_col0, #T_ef2c9_row0_col1, #T_ef2c9_row1_col0, #T_ef2c9_row1_col1, #T_ef2c9_row2_col0, #T_ef2c9_row2_col1, #T_ef2c9_row3_col0, #T_ef2c9_row3_col1, #T_ef2c9_row4_col0, #T_ef2c9_row4_col1 {\n",
       "  text-align: left;\n",
       "}\n",
       "</style>\n",
       "<table id=\"T_ef2c9\" style=\"font-size: 14px\">\n",
       "  <thead>\n",
       "    <tr>\n",
       "      <th id=\"T_ef2c9_level0_col0\" class=\"col_heading level0 col0\" >Version</th>\n",
       "      <th id=\"T_ef2c9_level0_col1\" class=\"col_heading level0 col1\" >1</th>\n",
       "    </tr>\n",
       "  </thead>\n",
       "  <tbody>\n",
       "    <tr>\n",
       "      <td id=\"T_ef2c9_row0_col0\" class=\"data row0 col0\" >Version Date</td>\n",
       "      <td id=\"T_ef2c9_row0_col1\" class=\"data row0 col1\" >01 Nov 2021</td>\n",
       "    </tr>\n",
       "    <tr>\n",
       "      <td id=\"T_ef2c9_row1_col0\" class=\"data row1 col0\" >Number of Variables</td>\n",
       "      <td id=\"T_ef2c9_row1_col1\" class=\"data row1 col1\" >79</td>\n",
       "    </tr>\n",
       "    <tr>\n",
       "      <td id=\"T_ef2c9_row2_col0\" class=\"data row2 col0\" >Number of Observations</td>\n",
       "      <td id=\"T_ef2c9_row2_col1\" class=\"data row2 col1\" >11471</td>\n",
       "    </tr>\n",
       "    <tr>\n",
       "      <td id=\"T_ef2c9_row3_col0\" class=\"data row3 col0\" >DOI</td>\n",
       "      <td id=\"T_ef2c9_row3_col1\" class=\"data row3 col1\" > <a href=\"https://doi.org/10.71760/ukllc-dataset-00276-01\" rel=\"noopener noreferrer\" target=\"_blank\">10.71760/ukllc-dataset-00276-01</a></td>\n",
       "    </tr>\n",
       "    <tr>\n",
       "      <td id=\"T_ef2c9_row4_col0\" class=\"data row4 col0\" >Change Log</td>\n",
       "      <td id=\"T_ef2c9_row4_col1\" class=\"data row4 col1\" > <a href=\"https://api.test.datacite.org/dois/10.71760/ukllc-dataset-00276-01/activities\" rel=\"noopener noreferrer\" target=\"_blank\">10.71760/ukllc-dataset-00276-01/activities</a></td>\n",
       "    </tr>\n",
       "  </tbody>\n",
       "</table>\n"
      ],
      "text/plain": [
       "<pandas.io.formats.style.Styler at 0x1d4069b9430>"
      ]
     },
     "execution_count": 4,
     "metadata": {},
     "output_type": "execute_result"
    }
   ],
   "source": [
    "ds.version_history()"
   ]
  },
  {
   "cell_type": "markdown",
   "id": "2d66cba5",
   "metadata": {},
   "source": [
    "## 3. Documentation"
   ]
  },
  {
   "cell_type": "code",
   "execution_count": 5,
   "id": "d46d11dd",
   "metadata": {
    "execution": {
     "iopub.execute_input": "2025-07-28T20:03:36.515284Z",
     "iopub.status.busy": "2025-07-28T20:03:36.515284Z",
     "iopub.status.idle": "2025-07-28T20:03:36.528173Z",
     "shell.execute_reply": "2025-07-28T20:03:36.525639Z"
    },
    "tags": [
     "remove-input"
    ]
   },
   "outputs": [
    {
     "data": {
      "text/markdown": [
       "We are currently building a documentation storage system which will host useful documents related to datasets and data owners. We will surface these documents on Guidebook."
      ],
      "text/plain": [
       "<IPython.core.display.Markdown object>"
      ]
     },
     "metadata": {},
     "output_type": "display_data"
    }
   ],
   "source": [
    "ds.documentation()"
   ]
  },
  {
   "cell_type": "markdown",
   "id": "31a976e8",
   "metadata": {},
   "source": [
    "## 4. Useful Syntax"
   ]
  },
  {
   "cell_type": "code",
   "execution_count": 6,
   "id": "1e4dc9b1",
   "metadata": {
    "execution": {
     "iopub.execute_input": "2025-07-28T20:03:36.537170Z",
     "iopub.status.busy": "2025-07-28T20:03:36.536170Z",
     "iopub.status.idle": "2025-07-28T20:03:36.556212Z",
     "shell.execute_reply": "2025-07-28T20:03:36.554200Z"
    },
    "tags": [
     "remove-input"
    ]
   },
   "outputs": [
    {
     "data": {
      "text/markdown": [
       "Below we will include syntax that may be helpful to other researchers in the UK LLC TRE. For longer scripts, we will include a snippet of the code plus a link to Git where you can find the full scripts."
      ],
      "text/plain": [
       "<IPython.core.display.Markdown object>"
      ]
     },
     "metadata": {},
     "output_type": "display_data"
    }
   ],
   "source": [
    "ds.useful_syntax()"
   ]
  }
 ],
 "metadata": {
  "language_info": {
   "codemirror_mode": {
    "name": "ipython",
    "version": 3
   },
   "file_extension": ".py",
   "mimetype": "text/x-python",
   "name": "python",
   "nbconvert_exporter": "python",
   "pygments_lexer": "ipython3",
   "version": "3.12.7"
  }
 },
 "nbformat": 4,
 "nbformat_minor": 5
}
