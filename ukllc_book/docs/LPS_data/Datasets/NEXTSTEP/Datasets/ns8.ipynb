{
 "cells": [
  {
   "cell_type": "markdown",
   "id": "c02dd600",
   "metadata": {},
   "source": [
    "# NS Sweep 8 (NEXTSTEP)"
   ]
  },
  {
   "cell_type": "code",
   "execution_count": 1,
   "id": "5e8c7756",
   "metadata": {
    "execution": {
     "iopub.execute_input": "2025-07-28T20:06:27.152441Z",
     "iopub.status.busy": "2025-07-28T20:06:27.152441Z",
     "iopub.status.idle": "2025-07-28T20:06:40.368848Z",
     "shell.execute_reply": "2025-07-28T20:06:40.367835Z"
    },
    "tags": [
     "remove-input"
    ]
   },
   "outputs": [
    {
     "data": {
      "text/markdown": [
       ">Last modified: 28 Jul 2025"
      ],
      "text/plain": [
       "<IPython.core.display.Markdown object>"
      ]
     },
     "metadata": {},
     "output_type": "display_data"
    }
   ],
   "source": [
    "\n",
    "import sys\n",
    "import os\n",
    "sys.path.append(os.path.abspath('../../../../scripts/'))\n",
    "from data_doc_helper import LPSDataSet as DS, last_modified\n",
    "API_KEY = os.environ['FASTAPI_KEY']\n",
    "ds = DS(\"NEXTSTEP\", \"ns8\")\n",
    "last_modified()\n"
   ]
  },
  {
   "cell_type": "markdown",
   "id": "7b69329b",
   "metadata": {},
   "source": [
    "## 1. Summary"
   ]
  },
  {
   "cell_type": "code",
   "execution_count": 2,
   "id": "4b0c4104",
   "metadata": {
    "execution": {
     "iopub.execute_input": "2025-07-28T20:06:40.377851Z",
     "iopub.status.busy": "2025-07-28T20:06:40.376879Z",
     "iopub.status.idle": "2025-07-28T20:06:40.390955Z",
     "shell.execute_reply": "2025-07-28T20:06:40.388381Z"
    },
    "tags": [
     "remove-input"
    ]
   },
   "outputs": [
    {
     "data": {
      "text/markdown": [
       "Data was collected via a mixed mode approach (online, telephone or face-to-face) between August 2015 and September 2016. Questions cover: • Current relationship • Previous cohabiting relationships • Children • Childcare • Non-resident children • Non-resident parents • Other household members• Current housing • Previous housing • Current Activity • Current Employment • Second job • Prospective employment (for unemployed) • Activity history • Employment Details for first job after September 2006 (aged 16) • Employment support • Work attitudes • Partner employment • Current pay/salary main job • Pay from second job • Income from other jobs • Partner income • Benefits • Income from other sources • Household income • Pensions • Debt • Job training • Education since previous interview/September 2006 • Current education • Fees • Partner education• General health • Height and weights • Exercise • Sleep • Diet • Accidents and Injury  • Ethnic Group • Religion • Social Networks • Trust • Risk • Patience • Meritocratic beliefs • Adult identity • Leisure • Politics • Social Media "
      ],
      "text/plain": [
       "<IPython.core.display.Markdown object>"
      ]
     },
     "metadata": {},
     "output_type": "display_data"
    }
   ],
   "source": [
    "ds.summary()"
   ]
  },
  {
   "cell_type": "code",
   "execution_count": 3,
   "id": "6bafc8b2",
   "metadata": {
    "execution": {
     "iopub.execute_input": "2025-07-28T20:06:40.398173Z",
     "iopub.status.busy": "2025-07-28T20:06:40.397175Z",
     "iopub.status.idle": "2025-07-28T20:06:42.563566Z",
     "shell.execute_reply": "2025-07-28T20:06:42.561547Z"
    },
    "tags": [
     "remove-input"
    ]
   },
   "outputs": [
    {
     "data": {
      "text/html": [
       "<style type=\"text/css\">\n",
       "#T_75f18 th {\n",
       "  text-align: left;\n",
       "}\n",
       "#T_75f18_row0_col0, #T_75f18_row0_col1, #T_75f18_row1_col0, #T_75f18_row1_col1, #T_75f18_row2_col0, #T_75f18_row2_col1, #T_75f18_row3_col0, #T_75f18_row3_col1, #T_75f18_row4_col0, #T_75f18_row4_col1, #T_75f18_row5_col0, #T_75f18_row5_col1, #T_75f18_row6_col0, #T_75f18_row6_col1, #T_75f18_row7_col0, #T_75f18_row7_col1, #T_75f18_row8_col0, #T_75f18_row8_col1, #T_75f18_row9_col0, #T_75f18_row9_col1, #T_75f18_row10_col0, #T_75f18_row10_col1, #T_75f18_row11_col0, #T_75f18_row11_col1, #T_75f18_row12_col0, #T_75f18_row12_col1 {\n",
       "  text-align: left;\n",
       "}\n",
       "</style>\n",
       "<table id=\"T_75f18\" style=\"font-size: 14px\">\n",
       "  <thead>\n",
       "    <tr>\n",
       "      <th id=\"T_75f18_level0_col0\" class=\"col_heading level0 col0\" >Dataset Descriptor</th>\n",
       "      <th id=\"T_75f18_level0_col1\" class=\"col_heading level0 col1\" >Dataset-specific Information</th>\n",
       "    </tr>\n",
       "  </thead>\n",
       "  <tbody>\n",
       "    <tr>\n",
       "      <td id=\"T_75f18_row0_col0\" class=\"data row0 col0\" >Name of Dataset in TRE</td>\n",
       "      <td id=\"T_75f18_row0_col1\" class=\"data row0 col1\" >NEXTSTEP_ns8</td>\n",
       "    </tr>\n",
       "    <tr>\n",
       "      <td id=\"T_75f18_row1_col0\" class=\"data row1 col0\" >Citation (APA)</td>\n",
       "      <td id=\"T_75f18_row1_col1\" class=\"data row1 col1\" >University College London, UCL Social Research Institute, Centre for Longitudinal Studies. (2021). <i>Next Steps: NS Sweep 8.</i> UK Longitudinal Linkage Collaboration (UK LLC).  <a href=\"https://doi.org/10.71760/ukllc-dataset-00292-01\" rel=\"noopener noreferrer\" target=\"_blank\">https://doi.org/10.71760/ukllc-dataset-00292-01</a></td>\n",
       "    </tr>\n",
       "    <tr>\n",
       "      <td id=\"T_75f18_row2_col0\" class=\"data row2 col0\" >Download Citation</td>\n",
       "      <td id=\"T_75f18_row2_col1\" class=\"data row2 col1\" > <a href=\"https://api.datacite.org/application/vnd.citationstyles.csl+json/10.71760/ukllc-dataset-00292-01\" rel=\"noopener noreferrer\" target=\"_blank\">Citeproc JSON</a>&nbsp;&nbsp;&nbsp;&nbsp; <a href=\"https://api.datacite.org/application/x-bibtex/10.71760/ukllc-dataset-00292-01\" rel=\"noopener noreferrer\" target=\"_blank\">BibTeX</a>&nbsp;&nbsp;&nbsp;&nbsp; <a href=\"https://api.datacite.org/application/x-research-info-systems/10.71760/ukllc-dataset-00292-01\" rel=\"noopener noreferrer\" target=\"_blank\">RIS</a></td>\n",
       "    </tr>\n",
       "    <tr>\n",
       "      <td id=\"T_75f18_row3_col0\" class=\"data row3 col0\" >Series</td>\n",
       "      <td id=\"T_75f18_row3_col1\" class=\"data row3 col1\" > <a href=\"https://guidebook.ukllc.ac.uk/docs/lps_data/lps%20profiles/NEXTSTEP\">Next Steps</a></td>\n",
       "    </tr>\n",
       "    <tr>\n",
       "      <td id=\"T_75f18_row4_col0\" class=\"data row4 col0\" >Owner</td>\n",
       "      <td id=\"T_75f18_row4_col1\" class=\"data row4 col1\" >UCL</td>\n",
       "    </tr>\n",
       "    <tr>\n",
       "      <td id=\"T_75f18_row5_col0\" class=\"data row5 col0\" >Temporal Coverage</td>\n",
       "      <td id=\"T_75f18_row5_col1\" class=\"data row5 col1\" >08/2015 - 09/2016</td>\n",
       "    </tr>\n",
       "    <tr>\n",
       "      <td id=\"T_75f18_row6_col0\" class=\"data row6 col0\" >Keywords</td>\n",
       "      <td id=\"T_75f18_row6_col1\" class=\"data row6 col1\" >Health,Education,Employment,Attitudes,Partners</td>\n",
       "    </tr>\n",
       "    <tr>\n",
       "      <td id=\"T_75f18_row7_col0\" class=\"data row7 col0\" >Participants Invited</td>\n",
       "      <td id=\"T_75f18_row7_col1\" class=\"data row7 col1\" >7707</td>\n",
       "    </tr>\n",
       "    <tr>\n",
       "      <td id=\"T_75f18_row8_col0\" class=\"data row8 col0\" >Participant Count</td>\n",
       "      <td id=\"T_75f18_row8_col1\" class=\"data row8 col1\" >5763</td>\n",
       "    </tr>\n",
       "    <tr>\n",
       "      <td id=\"T_75f18_row9_col0\" class=\"data row9 col0\" >Number of variables</td>\n",
       "      <td id=\"T_75f18_row9_col1\" class=\"data row9 col1\" >742</td>\n",
       "    </tr>\n",
       "    <tr>\n",
       "      <td id=\"T_75f18_row10_col0\" class=\"data row10 col0\" >Number of observations</td>\n",
       "      <td id=\"T_75f18_row10_col1\" class=\"data row10 col1\" >7707</td>\n",
       "    </tr>\n",
       "    <tr>\n",
       "      <td id=\"T_75f18_row11_col0\" class=\"data row11 col0\" >Specific Restrictions to Data Use</td>\n",
       "      <td id=\"T_75f18_row11_col1\" class=\"data row11 col1\" >None</td>\n",
       "    </tr>\n",
       "    <tr>\n",
       "      <td id=\"T_75f18_row12_col0\" class=\"data row12 col0\" >Build a Data Request</td>\n",
       "      <td id=\"T_75f18_row12_col1\" class=\"data row12 col1\" > <a href=\"https://explore.ukllc.ac.uk/\" rel=\"noopener noreferrer\" target=\"_blank\">https://explore.ukllc.ac.uk/</a></td>\n",
       "    </tr>\n",
       "  </tbody>\n",
       "</table>\n"
      ],
      "text/plain": [
       "<pandas.io.formats.style.Styler at 0x213eae48170>"
      ]
     },
     "execution_count": 3,
     "metadata": {},
     "output_type": "execute_result"
    }
   ],
   "source": [
    "ds.info_table()"
   ]
  },
  {
   "cell_type": "markdown",
   "id": "e3af88f0",
   "metadata": {},
   "source": [
    "## 2. Version History"
   ]
  },
  {
   "cell_type": "code",
   "execution_count": 4,
   "id": "024738f6",
   "metadata": {
    "execution": {
     "iopub.execute_input": "2025-07-28T20:06:42.570837Z",
     "iopub.status.busy": "2025-07-28T20:06:42.569349Z",
     "iopub.status.idle": "2025-07-28T20:06:49.433244Z",
     "shell.execute_reply": "2025-07-28T20:06:49.431415Z"
    },
    "tags": [
     "remove-input"
    ]
   },
   "outputs": [
    {
     "data": {
      "text/html": [
       "<style type=\"text/css\">\n",
       "#T_8e8bc th {\n",
       "  text-align: left;\n",
       "}\n",
       "#T_8e8bc_row0_col0, #T_8e8bc_row0_col1, #T_8e8bc_row1_col0, #T_8e8bc_row1_col1, #T_8e8bc_row2_col0, #T_8e8bc_row2_col1, #T_8e8bc_row3_col0, #T_8e8bc_row3_col1, #T_8e8bc_row4_col0, #T_8e8bc_row4_col1 {\n",
       "  text-align: left;\n",
       "}\n",
       "</style>\n",
       "<table id=\"T_8e8bc\" style=\"font-size: 14px\">\n",
       "  <thead>\n",
       "    <tr>\n",
       "      <th id=\"T_8e8bc_level0_col0\" class=\"col_heading level0 col0\" >Version</th>\n",
       "      <th id=\"T_8e8bc_level0_col1\" class=\"col_heading level0 col1\" >1</th>\n",
       "    </tr>\n",
       "  </thead>\n",
       "  <tbody>\n",
       "    <tr>\n",
       "      <td id=\"T_8e8bc_row0_col0\" class=\"data row0 col0\" >Version Date</td>\n",
       "      <td id=\"T_8e8bc_row0_col1\" class=\"data row0 col1\" >01 Nov 2021</td>\n",
       "    </tr>\n",
       "    <tr>\n",
       "      <td id=\"T_8e8bc_row1_col0\" class=\"data row1 col0\" >Number of Variables</td>\n",
       "      <td id=\"T_8e8bc_row1_col1\" class=\"data row1 col1\" >742</td>\n",
       "    </tr>\n",
       "    <tr>\n",
       "      <td id=\"T_8e8bc_row2_col0\" class=\"data row2 col0\" >Number of Observations</td>\n",
       "      <td id=\"T_8e8bc_row2_col1\" class=\"data row2 col1\" >7707</td>\n",
       "    </tr>\n",
       "    <tr>\n",
       "      <td id=\"T_8e8bc_row3_col0\" class=\"data row3 col0\" >DOI</td>\n",
       "      <td id=\"T_8e8bc_row3_col1\" class=\"data row3 col1\" > <a href=\"https://doi.org/10.71760/ukllc-dataset-00292-01\" rel=\"noopener noreferrer\" target=\"_blank\">10.71760/ukllc-dataset-00292-01</a></td>\n",
       "    </tr>\n",
       "    <tr>\n",
       "      <td id=\"T_8e8bc_row4_col0\" class=\"data row4 col0\" >Change Log</td>\n",
       "      <td id=\"T_8e8bc_row4_col1\" class=\"data row4 col1\" > <a href=\"https://api.test.datacite.org/dois/10.71760/ukllc-dataset-00292-01/activities\" rel=\"noopener noreferrer\" target=\"_blank\">10.71760/ukllc-dataset-00292-01/activities</a></td>\n",
       "    </tr>\n",
       "  </tbody>\n",
       "</table>\n"
      ],
      "text/plain": [
       "<pandas.io.formats.style.Styler at 0x213ecbc4920>"
      ]
     },
     "execution_count": 4,
     "metadata": {},
     "output_type": "execute_result"
    }
   ],
   "source": [
    "ds.version_history()"
   ]
  },
  {
   "cell_type": "markdown",
   "id": "5f9e3eb3",
   "metadata": {},
   "source": [
    "## 3. Documentation"
   ]
  },
  {
   "cell_type": "code",
   "execution_count": 5,
   "id": "321e0917",
   "metadata": {
    "execution": {
     "iopub.execute_input": "2025-07-28T20:06:49.442572Z",
     "iopub.status.busy": "2025-07-28T20:06:49.441573Z",
     "iopub.status.idle": "2025-07-28T20:06:49.453504Z",
     "shell.execute_reply": "2025-07-28T20:06:49.451277Z"
    },
    "tags": [
     "remove-input"
    ]
   },
   "outputs": [
    {
     "data": {
      "text/markdown": [
       "We are currently building a documentation storage system which will host useful documents related to datasets and data owners. We will surface these documents on Guidebook."
      ],
      "text/plain": [
       "<IPython.core.display.Markdown object>"
      ]
     },
     "metadata": {},
     "output_type": "display_data"
    }
   ],
   "source": [
    "ds.documentation()"
   ]
  },
  {
   "cell_type": "markdown",
   "id": "3f5d23b8",
   "metadata": {},
   "source": [
    "## 4. Useful Syntax"
   ]
  },
  {
   "cell_type": "code",
   "execution_count": 6,
   "id": "a5943632",
   "metadata": {
    "execution": {
     "iopub.execute_input": "2025-07-28T20:06:49.461617Z",
     "iopub.status.busy": "2025-07-28T20:06:49.460620Z",
     "iopub.status.idle": "2025-07-28T20:06:49.470974Z",
     "shell.execute_reply": "2025-07-28T20:06:49.469959Z"
    },
    "tags": [
     "remove-input"
    ]
   },
   "outputs": [
    {
     "data": {
      "text/markdown": [
       "Below we will include syntax that may be helpful to other researchers in the UK LLC TRE. For longer scripts, we will include a snippet of the code plus a link to Git where you can find the full scripts."
      ],
      "text/plain": [
       "<IPython.core.display.Markdown object>"
      ]
     },
     "metadata": {},
     "output_type": "display_data"
    }
   ],
   "source": [
    "ds.useful_syntax()"
   ]
  }
 ],
 "metadata": {
  "language_info": {
   "codemirror_mode": {
    "name": "ipython",
    "version": 3
   },
   "file_extension": ".py",
   "mimetype": "text/x-python",
   "name": "python",
   "nbconvert_exporter": "python",
   "pygments_lexer": "ipython3",
   "version": "3.12.7"
  }
 },
 "nbformat": 4,
 "nbformat_minor": 5
}
