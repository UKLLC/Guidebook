{
 "cells": [
  {
   "cell_type": "markdown",
   "id": "c000c69a",
   "metadata": {},
   "source": [
    "# COVID-19 Wave 3  (NSHD46)"
   ]
  },
  {
   "cell_type": "code",
   "execution_count": 1,
   "id": "b1286be7",
   "metadata": {
    "execution": {
     "iopub.execute_input": "2025-07-28T20:19:41.702864Z",
     "iopub.status.busy": "2025-07-28T20:19:41.701867Z",
     "iopub.status.idle": "2025-07-28T20:19:54.274599Z",
     "shell.execute_reply": "2025-07-28T20:19:54.271996Z"
    },
    "tags": [
     "remove-input"
    ]
   },
   "outputs": [
    {
     "data": {
      "text/markdown": [
       ">Last modified: 28 Jul 2025"
      ],
      "text/plain": [
       "<IPython.core.display.Markdown object>"
      ]
     },
     "metadata": {},
     "output_type": "display_data"
    }
   ],
   "source": [
    "\n",
    "import sys\n",
    "import os\n",
    "sys.path.append(os.path.abspath('../../../../scripts/'))\n",
    "from data_doc_helper import LPSDataSet as DS, last_modified\n",
    "API_KEY = os.environ['FASTAPI_KEY']\n",
    "ds = DS(\"NSHD46\", \"COVIDW3WEB\")\n",
    "last_modified()\n"
   ]
  },
  {
   "cell_type": "markdown",
   "id": "32119cec",
   "metadata": {},
   "source": [
    "## 1. Summary"
   ]
  },
  {
   "cell_type": "code",
   "execution_count": 2,
   "id": "6093dd86",
   "metadata": {
    "execution": {
     "iopub.execute_input": "2025-07-28T20:19:54.282617Z",
     "iopub.status.busy": "2025-07-28T20:19:54.281616Z",
     "iopub.status.idle": "2025-07-28T20:19:54.296815Z",
     "shell.execute_reply": "2025-07-28T20:19:54.294793Z"
    },
    "tags": [
     "remove-input"
    ]
   },
   "outputs": [
    {
     "data": {
      "text/markdown": [
       "All active participants were sent a COVID web/postal questionnaire. The questions covered topics about wellbeing and the impact of COVID on work and family life. "
      ],
      "text/plain": [
       "<IPython.core.display.Markdown object>"
      ]
     },
     "metadata": {},
     "output_type": "display_data"
    }
   ],
   "source": [
    "ds.summary()"
   ]
  },
  {
   "cell_type": "code",
   "execution_count": 3,
   "id": "f3d6ffb7",
   "metadata": {
    "execution": {
     "iopub.execute_input": "2025-07-28T20:19:54.305350Z",
     "iopub.status.busy": "2025-07-28T20:19:54.305350Z",
     "iopub.status.idle": "2025-07-28T20:19:56.506305Z",
     "shell.execute_reply": "2025-07-28T20:19:56.504294Z"
    },
    "tags": [
     "remove-input"
    ]
   },
   "outputs": [
    {
     "data": {
      "text/html": [
       "<style type=\"text/css\">\n",
       "#T_8964a th {\n",
       "  text-align: left;\n",
       "}\n",
       "#T_8964a_row0_col0, #T_8964a_row0_col1, #T_8964a_row1_col0, #T_8964a_row1_col1, #T_8964a_row2_col0, #T_8964a_row2_col1, #T_8964a_row3_col0, #T_8964a_row3_col1, #T_8964a_row4_col0, #T_8964a_row4_col1, #T_8964a_row5_col0, #T_8964a_row5_col1, #T_8964a_row6_col0, #T_8964a_row6_col1, #T_8964a_row7_col0, #T_8964a_row7_col1, #T_8964a_row8_col0, #T_8964a_row8_col1, #T_8964a_row9_col0, #T_8964a_row9_col1, #T_8964a_row10_col0, #T_8964a_row10_col1, #T_8964a_row11_col0, #T_8964a_row11_col1, #T_8964a_row12_col0, #T_8964a_row12_col1 {\n",
       "  text-align: left;\n",
       "}\n",
       "</style>\n",
       "<table id=\"T_8964a\" style=\"font-size: 14px\">\n",
       "  <thead>\n",
       "    <tr>\n",
       "      <th id=\"T_8964a_level0_col0\" class=\"col_heading level0 col0\" >Dataset Descriptor</th>\n",
       "      <th id=\"T_8964a_level0_col1\" class=\"col_heading level0 col1\" >Dataset-specific Information</th>\n",
       "    </tr>\n",
       "  </thead>\n",
       "  <tbody>\n",
       "    <tr>\n",
       "      <td id=\"T_8964a_row0_col0\" class=\"data row0 col0\" >Name of Dataset in TRE</td>\n",
       "      <td id=\"T_8964a_row0_col1\" class=\"data row0 col1\" >NSHD46_COVIDW3WEB</td>\n",
       "    </tr>\n",
       "    <tr>\n",
       "      <td id=\"T_8964a_row1_col0\" class=\"data row1 col0\" >Citation (APA)</td>\n",
       "      <td id=\"T_8964a_row1_col1\" class=\"data row1 col1\" >University College London, Institute of Cardiovascular Science, Unit for Lifelong Health and Ageing. (2021). <i>Medical Research Council (MRC) National Survey of Health and Development (NSHD): COVID-19 Wave 3 .</i> UK Longitudinal Linkage Collaboration (UK LLC).  <a href=\"https://doi.org/10.71760/ukllc-dataset-00301-01\" rel=\"noopener noreferrer\" target=\"_blank\">https://doi.org/10.71760/ukllc-dataset-00301-01</a></td>\n",
       "    </tr>\n",
       "    <tr>\n",
       "      <td id=\"T_8964a_row2_col0\" class=\"data row2 col0\" >Download Citation</td>\n",
       "      <td id=\"T_8964a_row2_col1\" class=\"data row2 col1\" > <a href=\"https://api.datacite.org/application/vnd.citationstyles.csl+json/10.71760/ukllc-dataset-00301-01\" rel=\"noopener noreferrer\" target=\"_blank\">Citeproc JSON</a>&nbsp;&nbsp;&nbsp;&nbsp; <a href=\"https://api.datacite.org/application/x-bibtex/10.71760/ukllc-dataset-00301-01\" rel=\"noopener noreferrer\" target=\"_blank\">BibTeX</a>&nbsp;&nbsp;&nbsp;&nbsp; <a href=\"https://api.datacite.org/application/x-research-info-systems/10.71760/ukllc-dataset-00301-01\" rel=\"noopener noreferrer\" target=\"_blank\">RIS</a></td>\n",
       "    </tr>\n",
       "    <tr>\n",
       "      <td id=\"T_8964a_row3_col0\" class=\"data row3 col0\" >Series</td>\n",
       "      <td id=\"T_8964a_row3_col1\" class=\"data row3 col1\" > <a href=\"https://guidebook.ukllc.ac.uk/docs/lps_data/lps%20profiles/NSHD46\">Medical Research Council (MRC) National Survey of Health and Development (NSHD)</a></td>\n",
       "    </tr>\n",
       "    <tr>\n",
       "      <td id=\"T_8964a_row4_col0\" class=\"data row4 col0\" >Owner</td>\n",
       "      <td id=\"T_8964a_row4_col1\" class=\"data row4 col1\" >UCL</td>\n",
       "    </tr>\n",
       "    <tr>\n",
       "      <td id=\"T_8964a_row5_col0\" class=\"data row5 col0\" >Temporal Coverage</td>\n",
       "      <td id=\"T_8964a_row5_col1\" class=\"data row5 col1\" >03/2021 - 03/2021</td>\n",
       "    </tr>\n",
       "    <tr>\n",
       "      <td id=\"T_8964a_row6_col0\" class=\"data row6 col0\" >Keywords</td>\n",
       "      <td id=\"T_8964a_row6_col1\" class=\"data row6 col1\" ></td>\n",
       "    </tr>\n",
       "    <tr>\n",
       "      <td id=\"T_8964a_row7_col0\" class=\"data row7 col0\" >Participants Invited</td>\n",
       "      <td id=\"T_8964a_row7_col1\" class=\"data row7 col1\" >1559</td>\n",
       "    </tr>\n",
       "    <tr>\n",
       "      <td id=\"T_8964a_row8_col0\" class=\"data row8 col0\" >Participant Count</td>\n",
       "      <td id=\"T_8964a_row8_col1\" class=\"data row8 col1\" >1387</td>\n",
       "    </tr>\n",
       "    <tr>\n",
       "      <td id=\"T_8964a_row9_col0\" class=\"data row9 col0\" >Number of variables</td>\n",
       "      <td id=\"T_8964a_row9_col1\" class=\"data row9 col1\" >389</td>\n",
       "    </tr>\n",
       "    <tr>\n",
       "      <td id=\"T_8964a_row10_col0\" class=\"data row10 col0\" >Number of observations</td>\n",
       "      <td id=\"T_8964a_row10_col1\" class=\"data row10 col1\" >1399</td>\n",
       "    </tr>\n",
       "    <tr>\n",
       "      <td id=\"T_8964a_row11_col0\" class=\"data row11 col0\" >Specific Restrictions to Data Use</td>\n",
       "      <td id=\"T_8964a_row11_col1\" class=\"data row11 col1\" >None</td>\n",
       "    </tr>\n",
       "    <tr>\n",
       "      <td id=\"T_8964a_row12_col0\" class=\"data row12 col0\" >Build a Data Request</td>\n",
       "      <td id=\"T_8964a_row12_col1\" class=\"data row12 col1\" > <a href=\"https://explore.ukllc.ac.uk/\" rel=\"noopener noreferrer\" target=\"_blank\">https://explore.ukllc.ac.uk/</a></td>\n",
       "    </tr>\n",
       "  </tbody>\n",
       "</table>\n"
      ],
      "text/plain": [
       "<pandas.io.formats.style.Styler at 0x1f011d2ad50>"
      ]
     },
     "execution_count": 3,
     "metadata": {},
     "output_type": "execute_result"
    }
   ],
   "source": [
    "ds.info_table()"
   ]
  },
  {
   "cell_type": "markdown",
   "id": "c229dc9b",
   "metadata": {},
   "source": [
    "## 2. Version History"
   ]
  },
  {
   "cell_type": "code",
   "execution_count": 4,
   "id": "03742901",
   "metadata": {
    "execution": {
     "iopub.execute_input": "2025-07-28T20:19:56.515311Z",
     "iopub.status.busy": "2025-07-28T20:19:56.514312Z",
     "iopub.status.idle": "2025-07-28T20:20:01.820555Z",
     "shell.execute_reply": "2025-07-28T20:20:01.818019Z"
    },
    "tags": [
     "remove-input"
    ]
   },
   "outputs": [
    {
     "data": {
      "text/html": [
       "<style type=\"text/css\">\n",
       "#T_18082 th {\n",
       "  text-align: left;\n",
       "}\n",
       "#T_18082_row0_col0, #T_18082_row0_col1, #T_18082_row1_col0, #T_18082_row1_col1, #T_18082_row2_col0, #T_18082_row2_col1, #T_18082_row3_col0, #T_18082_row3_col1, #T_18082_row4_col0, #T_18082_row4_col1 {\n",
       "  text-align: left;\n",
       "}\n",
       "</style>\n",
       "<table id=\"T_18082\" style=\"font-size: 14px\">\n",
       "  <thead>\n",
       "    <tr>\n",
       "      <th id=\"T_18082_level0_col0\" class=\"col_heading level0 col0\" >Version</th>\n",
       "      <th id=\"T_18082_level0_col1\" class=\"col_heading level0 col1\" >1</th>\n",
       "    </tr>\n",
       "  </thead>\n",
       "  <tbody>\n",
       "    <tr>\n",
       "      <td id=\"T_18082_row0_col0\" class=\"data row0 col0\" >Version Date</td>\n",
       "      <td id=\"T_18082_row0_col1\" class=\"data row0 col1\" >01 Nov 2021</td>\n",
       "    </tr>\n",
       "    <tr>\n",
       "      <td id=\"T_18082_row1_col0\" class=\"data row1 col0\" >Number of Variables</td>\n",
       "      <td id=\"T_18082_row1_col1\" class=\"data row1 col1\" >389</td>\n",
       "    </tr>\n",
       "    <tr>\n",
       "      <td id=\"T_18082_row2_col0\" class=\"data row2 col0\" >Number of Observations</td>\n",
       "      <td id=\"T_18082_row2_col1\" class=\"data row2 col1\" >1399</td>\n",
       "    </tr>\n",
       "    <tr>\n",
       "      <td id=\"T_18082_row3_col0\" class=\"data row3 col0\" >DOI</td>\n",
       "      <td id=\"T_18082_row3_col1\" class=\"data row3 col1\" > <a href=\"https://doi.org/10.71760/ukllc-dataset-00301-01\" rel=\"noopener noreferrer\" target=\"_blank\">10.71760/ukllc-dataset-00301-01</a></td>\n",
       "    </tr>\n",
       "    <tr>\n",
       "      <td id=\"T_18082_row4_col0\" class=\"data row4 col0\" >Change Log</td>\n",
       "      <td id=\"T_18082_row4_col1\" class=\"data row4 col1\" > <a href=\"https://api.test.datacite.org/dois/10.71760/ukllc-dataset-00301-01/activities\" rel=\"noopener noreferrer\" target=\"_blank\">10.71760/ukllc-dataset-00301-01/activities</a></td>\n",
       "    </tr>\n",
       "  </tbody>\n",
       "</table>\n"
      ],
      "text/plain": [
       "<pandas.io.formats.style.Styler at 0x1f011f1f380>"
      ]
     },
     "execution_count": 4,
     "metadata": {},
     "output_type": "execute_result"
    }
   ],
   "source": [
    "ds.version_history()"
   ]
  },
  {
   "cell_type": "markdown",
   "id": "73f2fd45",
   "metadata": {},
   "source": [
    "## 3. Documentation"
   ]
  },
  {
   "cell_type": "code",
   "execution_count": 5,
   "id": "9797bd0f",
   "metadata": {
    "execution": {
     "iopub.execute_input": "2025-07-28T20:20:01.830562Z",
     "iopub.status.busy": "2025-07-28T20:20:01.829565Z",
     "iopub.status.idle": "2025-07-28T20:20:01.841928Z",
     "shell.execute_reply": "2025-07-28T20:20:01.839902Z"
    },
    "tags": [
     "remove-input"
    ]
   },
   "outputs": [
    {
     "data": {
      "text/markdown": [
       "We are currently building a documentation storage system which will host useful documents related to datasets and data owners. We will surface these documents on Guidebook."
      ],
      "text/plain": [
       "<IPython.core.display.Markdown object>"
      ]
     },
     "metadata": {},
     "output_type": "display_data"
    }
   ],
   "source": [
    "ds.documentation()"
   ]
  },
  {
   "cell_type": "markdown",
   "id": "6f821935",
   "metadata": {},
   "source": [
    "## 4. Useful Syntax"
   ]
  },
  {
   "cell_type": "code",
   "execution_count": 6,
   "id": "865e7d7e",
   "metadata": {
    "execution": {
     "iopub.execute_input": "2025-07-28T20:20:01.850068Z",
     "iopub.status.busy": "2025-07-28T20:20:01.849061Z",
     "iopub.status.idle": "2025-07-28T20:20:01.860371Z",
     "shell.execute_reply": "2025-07-28T20:20:01.858814Z"
    },
    "tags": [
     "remove-input"
    ]
   },
   "outputs": [
    {
     "data": {
      "text/markdown": [
       "Below we will include syntax that may be helpful to other researchers in the UK LLC TRE. For longer scripts, we will include a snippet of the code plus a link to Git where you can find the full scripts."
      ],
      "text/plain": [
       "<IPython.core.display.Markdown object>"
      ]
     },
     "metadata": {},
     "output_type": "display_data"
    }
   ],
   "source": [
    "ds.useful_syntax()"
   ]
  }
 ],
 "metadata": {
  "language_info": {
   "codemirror_mode": {
    "name": "ipython",
    "version": 3
   },
   "file_extension": ".py",
   "mimetype": "text/x-python",
   "name": "python",
   "nbconvert_exporter": "python",
   "pygments_lexer": "ipython3",
   "version": "3.12.7"
  }
 },
 "nbformat": 4,
 "nbformat_minor": 5
}
