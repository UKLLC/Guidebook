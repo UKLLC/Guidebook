{
 "cells": [
  {
   "cell_type": "markdown",
   "id": "f58bd8f4",
   "metadata": {},
   "source": [
    "# COVID-19 Wave 1 Questionnaire (NSHD46)"
   ]
  },
  {
   "cell_type": "code",
   "execution_count": 1,
   "id": "df4d0ba2",
   "metadata": {
    "execution": {
     "iopub.execute_input": "2025-07-18T10:27:35.221034Z",
     "iopub.status.busy": "2025-07-18T10:27:35.220034Z",
     "iopub.status.idle": "2025-07-18T10:27:42.704233Z",
     "shell.execute_reply": "2025-07-18T10:27:42.703724Z"
    },
    "tags": [
     "remove-input"
    ]
   },
   "outputs": [
    {
     "data": {
      "text/markdown": [
       ">Last modified: 18 Jul 2025"
      ],
      "text/plain": [
       "<IPython.core.display.Markdown object>"
      ]
     },
     "metadata": {},
     "output_type": "display_data"
    }
   ],
   "source": [
    "\n",
    "import sys\n",
    "import os\n",
    "sys.path.append(os.path.abspath('../../../../scripts/'))\n",
    "from data_doc_helper import LPSDataSet as DS, last_modified\n",
    "API_KEY = os.environ['FASTAPI_KEY']\n",
    "ds = DS(\"NSHD46\", \"COVIDW1WEBPOSTAL\")\n",
    "last_modified()\n"
   ]
  },
  {
   "cell_type": "markdown",
   "id": "3543298d",
   "metadata": {},
   "source": [
    "## 1. Summary"
   ]
  },
  {
   "cell_type": "code",
   "execution_count": 2,
   "id": "da3de9cf",
   "metadata": {
    "execution": {
     "iopub.execute_input": "2025-07-18T10:27:42.707238Z",
     "iopub.status.busy": "2025-07-18T10:27:42.707238Z",
     "iopub.status.idle": "2025-07-18T10:27:42.716606Z",
     "shell.execute_reply": "2025-07-18T10:27:42.714242Z"
    },
    "tags": [
     "remove-input"
    ]
   },
   "outputs": [
    {
     "data": {
      "text/markdown": [
       "All active participants were sent a COVID web/postal questionnaire. The questions covered topics about wellbeing and the impact of COVID on work and family life. "
      ],
      "text/plain": [
       "<IPython.core.display.Markdown object>"
      ]
     },
     "metadata": {},
     "output_type": "display_data"
    }
   ],
   "source": [
    "ds.summary()"
   ]
  },
  {
   "cell_type": "code",
   "execution_count": 3,
   "id": "9b51243b",
   "metadata": {
    "execution": {
     "iopub.execute_input": "2025-07-18T10:27:42.721744Z",
     "iopub.status.busy": "2025-07-18T10:27:42.720744Z",
     "iopub.status.idle": "2025-07-18T10:27:44.063484Z",
     "shell.execute_reply": "2025-07-18T10:27:44.062465Z"
    },
    "tags": [
     "remove-input"
    ]
   },
   "outputs": [
    {
     "data": {
      "text/html": [
       "<style type=\"text/css\">\n",
       "#T_e0b56 th {\n",
       "  text-align: left;\n",
       "}\n",
       "#T_e0b56_row0_col0, #T_e0b56_row0_col1, #T_e0b56_row1_col0, #T_e0b56_row1_col1, #T_e0b56_row2_col0, #T_e0b56_row2_col1, #T_e0b56_row3_col0, #T_e0b56_row3_col1, #T_e0b56_row4_col0, #T_e0b56_row4_col1, #T_e0b56_row5_col0, #T_e0b56_row5_col1, #T_e0b56_row6_col0, #T_e0b56_row6_col1, #T_e0b56_row7_col0, #T_e0b56_row7_col1, #T_e0b56_row8_col0, #T_e0b56_row8_col1, #T_e0b56_row9_col0, #T_e0b56_row9_col1, #T_e0b56_row10_col0, #T_e0b56_row10_col1, #T_e0b56_row11_col0, #T_e0b56_row11_col1, #T_e0b56_row12_col0, #T_e0b56_row12_col1 {\n",
       "  text-align: left;\n",
       "}\n",
       "</style>\n",
       "<table id=\"T_e0b56\" style=\"font-size: 14px\">\n",
       "  <thead>\n",
       "    <tr>\n",
       "      <th id=\"T_e0b56_level0_col0\" class=\"col_heading level0 col0\" >Dataset Descriptor</th>\n",
       "      <th id=\"T_e0b56_level0_col1\" class=\"col_heading level0 col1\" >Dataset-specific Information</th>\n",
       "    </tr>\n",
       "  </thead>\n",
       "  <tbody>\n",
       "    <tr>\n",
       "      <td id=\"T_e0b56_row0_col0\" class=\"data row0 col0\" >Name of Dataset in TRE</td>\n",
       "      <td id=\"T_e0b56_row0_col1\" class=\"data row0 col1\" >NSHD46_COVIDW1WEBPOSTAL</td>\n",
       "    </tr>\n",
       "    <tr>\n",
       "      <td id=\"T_e0b56_row1_col0\" class=\"data row1 col0\" >Citation (APA)</td>\n",
       "      <td id=\"T_e0b56_row1_col1\" class=\"data row1 col1\" >University College London, Institute of Cardiovascular Science, Unit for Lifelong Health and Ageing. (2021). <i>Medical Research Council (MRC) National Survey of Health and Development (NSHD): COVID-19 Wave 1 Questionnaire.</i> UK Longitudinal Linkage Collaboration (UK LLC).  <a href=\"https://doi.org/10.83126/ukllc-dataset-00368-01\" rel=\"noopener noreferrer\" target=\"_blank\">https://doi.org/10.83126/ukllc-dataset-00368-01</a></td>\n",
       "    </tr>\n",
       "    <tr>\n",
       "      <td id=\"T_e0b56_row2_col0\" class=\"data row2 col0\" >Download Citation</td>\n",
       "      <td id=\"T_e0b56_row2_col1\" class=\"data row2 col1\" > <a href=\"https://api.test.datacite.org/application/vnd.citationstyles.csl+json/10.83126/ukllc-dataset-00368-01\" rel=\"noopener noreferrer\" target=\"_blank\">Citeproc JSON</a>&nbsp;&nbsp;&nbsp;&nbsp; <a href=\"https://api.test.datacite.org/application/x-bibtex/10.83126/ukllc-dataset-00368-01\" rel=\"noopener noreferrer\" target=\"_blank\">BibTeX</a>&nbsp;&nbsp;&nbsp;&nbsp; <a href=\"https://api.test.datacite.org/application/x-research-info-systems/10.83126/ukllc-dataset-00368-01\" rel=\"noopener noreferrer\" target=\"_blank\">RIS</a></td>\n",
       "    </tr>\n",
       "    <tr>\n",
       "      <td id=\"T_e0b56_row3_col0\" class=\"data row3 col0\" >Series</td>\n",
       "      <td id=\"T_e0b56_row3_col1\" class=\"data row3 col1\" > <a href=\"https://guidebook.ukllc.ac.uk/docs/lps/lps%20profiles/NSHD46\">Medical Research Council (MRC) National Survey of Health and Development (NSHD)</a></td>\n",
       "    </tr>\n",
       "    <tr>\n",
       "      <td id=\"T_e0b56_row4_col0\" class=\"data row4 col0\" >Owner</td>\n",
       "      <td id=\"T_e0b56_row4_col1\" class=\"data row4 col1\" >UCL</td>\n",
       "    </tr>\n",
       "    <tr>\n",
       "      <td id=\"T_e0b56_row5_col0\" class=\"data row5 col0\" >Temporal Coverage</td>\n",
       "      <td id=\"T_e0b56_row5_col1\" class=\"data row5 col1\" >05/2020 - 07/2020</td>\n",
       "    </tr>\n",
       "    <tr>\n",
       "      <td id=\"T_e0b56_row6_col0\" class=\"data row6 col0\" >Keywords</td>\n",
       "      <td id=\"T_e0b56_row6_col1\" class=\"data row6 col1\" ></td>\n",
       "    </tr>\n",
       "    <tr>\n",
       "      <td id=\"T_e0b56_row7_col0\" class=\"data row7 col0\" >Participants Invited</td>\n",
       "      <td id=\"T_e0b56_row7_col1\" class=\"data row7 col1\" >2625</td>\n",
       "    </tr>\n",
       "    <tr>\n",
       "      <td id=\"T_e0b56_row8_col0\" class=\"data row8 col0\" >Participant Count</td>\n",
       "      <td id=\"T_e0b56_row8_col1\" class=\"data row8 col1\" >1864</td>\n",
       "    </tr>\n",
       "    <tr>\n",
       "      <td id=\"T_e0b56_row9_col0\" class=\"data row9 col0\" >Number of variables</td>\n",
       "      <td id=\"T_e0b56_row9_col1\" class=\"data row9 col1\" >268</td>\n",
       "    </tr>\n",
       "    <tr>\n",
       "      <td id=\"T_e0b56_row10_col0\" class=\"data row10 col0\" >Number of observations</td>\n",
       "      <td id=\"T_e0b56_row10_col1\" class=\"data row10 col1\" >1876</td>\n",
       "    </tr>\n",
       "    <tr>\n",
       "      <td id=\"T_e0b56_row11_col0\" class=\"data row11 col0\" >Specific Restrictions to Data Use</td>\n",
       "      <td id=\"T_e0b56_row11_col1\" class=\"data row11 col1\" >None</td>\n",
       "    </tr>\n",
       "    <tr>\n",
       "      <td id=\"T_e0b56_row12_col0\" class=\"data row12 col0\" >Build a Data Request</td>\n",
       "      <td id=\"T_e0b56_row12_col1\" class=\"data row12 col1\" > <a href=\"https://explore.ukllc.ac.uk/\" rel=\"noopener noreferrer\" target=\"_blank\">https://explore.ukllc.ac.uk/</a></td>\n",
       "    </tr>\n",
       "  </tbody>\n",
       "</table>\n"
      ],
      "text/plain": [
       "<pandas.io.formats.style.Styler at 0x21b9e4ffa10>"
      ]
     },
     "execution_count": 3,
     "metadata": {},
     "output_type": "execute_result"
    }
   ],
   "source": [
    "ds.info_table()"
   ]
  },
  {
   "cell_type": "markdown",
   "id": "9f937772",
   "metadata": {},
   "source": [
    "## 2. Version History"
   ]
  },
  {
   "cell_type": "code",
   "execution_count": 4,
   "id": "9e9559b2",
   "metadata": {
    "execution": {
     "iopub.execute_input": "2025-07-18T10:27:44.070473Z",
     "iopub.status.busy": "2025-07-18T10:27:44.069474Z",
     "iopub.status.idle": "2025-07-18T10:27:47.070225Z",
     "shell.execute_reply": "2025-07-18T10:27:47.069209Z"
    },
    "tags": [
     "remove-input"
    ]
   },
   "outputs": [
    {
     "data": {
      "text/html": [
       "<style type=\"text/css\">\n",
       "#T_954f4 th {\n",
       "  text-align: left;\n",
       "}\n",
       "#T_954f4_row0_col0, #T_954f4_row0_col1, #T_954f4_row1_col0, #T_954f4_row1_col1, #T_954f4_row2_col0, #T_954f4_row2_col1, #T_954f4_row3_col0, #T_954f4_row3_col1, #T_954f4_row4_col0, #T_954f4_row4_col1 {\n",
       "  text-align: left;\n",
       "}\n",
       "</style>\n",
       "<table id=\"T_954f4\" style=\"font-size: 14px\">\n",
       "  <thead>\n",
       "    <tr>\n",
       "      <th id=\"T_954f4_level0_col0\" class=\"col_heading level0 col0\" >Version</th>\n",
       "      <th id=\"T_954f4_level0_col1\" class=\"col_heading level0 col1\" >1</th>\n",
       "    </tr>\n",
       "  </thead>\n",
       "  <tbody>\n",
       "    <tr>\n",
       "      <td id=\"T_954f4_row0_col0\" class=\"data row0 col0\" >Version Date</td>\n",
       "      <td id=\"T_954f4_row0_col1\" class=\"data row0 col1\" >01 Nov 2021</td>\n",
       "    </tr>\n",
       "    <tr>\n",
       "      <td id=\"T_954f4_row1_col0\" class=\"data row1 col0\" >Number of Variables</td>\n",
       "      <td id=\"T_954f4_row1_col1\" class=\"data row1 col1\" >268</td>\n",
       "    </tr>\n",
       "    <tr>\n",
       "      <td id=\"T_954f4_row2_col0\" class=\"data row2 col0\" >Number of Observations</td>\n",
       "      <td id=\"T_954f4_row2_col1\" class=\"data row2 col1\" >1876</td>\n",
       "    </tr>\n",
       "    <tr>\n",
       "      <td id=\"T_954f4_row3_col0\" class=\"data row3 col0\" >DOI</td>\n",
       "      <td id=\"T_954f4_row3_col1\" class=\"data row3 col1\" > <a href=\"https://doi.org/10.83126/ukllc-dataset-00368-01\" rel=\"noopener noreferrer\" target=\"_blank\">10.83126/ukllc-dataset-00368-01</a></td>\n",
       "    </tr>\n",
       "    <tr>\n",
       "      <td id=\"T_954f4_row4_col0\" class=\"data row4 col0\" >Change Log</td>\n",
       "      <td id=\"T_954f4_row4_col1\" class=\"data row4 col1\" > <a href=\"https://api.test.datacite.org/dois/10.83126/ukllc-dataset-00368-01/activities\" rel=\"noopener noreferrer\" target=\"_blank\">10.83126/ukllc-dataset-00368-01/activities</a></td>\n",
       "    </tr>\n",
       "  </tbody>\n",
       "</table>\n"
      ],
      "text/plain": [
       "<pandas.io.formats.style.Styler at 0x21b9ff7cf50>"
      ]
     },
     "execution_count": 4,
     "metadata": {},
     "output_type": "execute_result"
    }
   ],
   "source": [
    "ds.version_history()"
   ]
  },
  {
   "cell_type": "markdown",
   "id": "f84fae57",
   "metadata": {},
   "source": [
    "## 3. Documentation"
   ]
  },
  {
   "cell_type": "code",
   "execution_count": 5,
   "id": "418b8f30",
   "metadata": {
    "execution": {
     "iopub.execute_input": "2025-07-18T10:27:47.077217Z",
     "iopub.status.busy": "2025-07-18T10:27:47.076217Z",
     "iopub.status.idle": "2025-07-18T10:27:47.086874Z",
     "shell.execute_reply": "2025-07-18T10:27:47.084056Z"
    },
    "tags": [
     "remove-input"
    ]
   },
   "outputs": [
    {
     "data": {
      "text/markdown": [
       "We are currently building a documentation storage system which will host useful documents related to datasets and data owners. We will surface these documents on Guidebook."
      ],
      "text/plain": [
       "<IPython.core.display.Markdown object>"
      ]
     },
     "metadata": {},
     "output_type": "display_data"
    }
   ],
   "source": [
    "ds.documentation()"
   ]
  },
  {
   "cell_type": "markdown",
   "id": "7d80213d",
   "metadata": {},
   "source": [
    "## 4. Useful Syntax"
   ]
  },
  {
   "cell_type": "code",
   "execution_count": 6,
   "id": "4f3d8a96",
   "metadata": {
    "execution": {
     "iopub.execute_input": "2025-07-18T10:27:47.092730Z",
     "iopub.status.busy": "2025-07-18T10:27:47.091730Z",
     "iopub.status.idle": "2025-07-18T10:27:47.101841Z",
     "shell.execute_reply": "2025-07-18T10:27:47.101240Z"
    },
    "tags": [
     "remove-input"
    ]
   },
   "outputs": [
    {
     "data": {
      "text/markdown": [
       "Below we will include syntax that may be helpful to other researchers in the UK LLC TRE. For longer scripts, we will include a snippet of the code plus a link to Git where you can find the full scripts."
      ],
      "text/plain": [
       "<IPython.core.display.Markdown object>"
      ]
     },
     "metadata": {},
     "output_type": "display_data"
    }
   ],
   "source": [
    "ds.useful_syntax()"
   ]
  }
 ],
 "metadata": {
  "language_info": {
   "codemirror_mode": {
    "name": "ipython",
    "version": 3
   },
   "file_extension": ".py",
   "mimetype": "text/x-python",
   "name": "python",
   "nbconvert_exporter": "python",
   "pygments_lexer": "ipython3",
   "version": "3.12.7"
  }
 },
 "nbformat": 4,
 "nbformat_minor": 5
}
