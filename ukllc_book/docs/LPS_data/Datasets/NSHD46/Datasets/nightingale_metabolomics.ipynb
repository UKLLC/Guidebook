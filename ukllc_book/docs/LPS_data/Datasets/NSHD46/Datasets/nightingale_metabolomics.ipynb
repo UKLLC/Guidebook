{
 "cells": [
  {
   "cell_type": "markdown",
   "id": "9e5ec30c",
   "metadata": {},
   "source": [
    "# Nightingale Metabolomics (NSHD46)"
   ]
  },
  {
   "cell_type": "code",
   "execution_count": 1,
   "id": "e3b7437d",
   "metadata": {
    "execution": {
     "iopub.execute_input": "2025-07-18T10:28:32.901530Z",
     "iopub.status.busy": "2025-07-18T10:28:32.901530Z",
     "iopub.status.idle": "2025-07-18T10:28:40.291753Z",
     "shell.execute_reply": "2025-07-18T10:28:40.291753Z"
    },
    "tags": [
     "remove-input"
    ]
   },
   "outputs": [
    {
     "data": {
      "text/markdown": [
       ">Last modified: 18 Jul 2025"
      ],
      "text/plain": [
       "<IPython.core.display.Markdown object>"
      ]
     },
     "metadata": {},
     "output_type": "display_data"
    }
   ],
   "source": [
    "\n",
    "import sys\n",
    "import os\n",
    "sys.path.append(os.path.abspath('../../../../scripts/'))\n",
    "from data_doc_helper import LPSDataSet as DS, last_modified\n",
    "API_KEY = os.environ['FASTAPI_KEY']\n",
    "ds = DS(\"NSHD46\", \"nightingale_metabolomics\")\n",
    "last_modified()\n"
   ]
  },
  {
   "cell_type": "markdown",
   "id": "bd2c4082",
   "metadata": {},
   "source": [
    "## 1. Summary"
   ]
  },
  {
   "cell_type": "code",
   "execution_count": 2,
   "id": "b865dbab",
   "metadata": {
    "execution": {
     "iopub.execute_input": "2025-07-18T10:28:40.293880Z",
     "iopub.status.busy": "2025-07-18T10:28:40.293880Z",
     "iopub.status.idle": "2025-07-18T10:28:40.304149Z",
     "shell.execute_reply": "2025-07-18T10:28:40.301881Z"
    },
    "tags": [
     "remove-input"
    ]
   },
   "outputs": [
    {
     "data": {
      "text/markdown": [
       "All active study members who provided a blood sample for Nightingale metabolomics"
      ],
      "text/plain": [
       "<IPython.core.display.Markdown object>"
      ]
     },
     "metadata": {},
     "output_type": "display_data"
    }
   ],
   "source": [
    "ds.summary()"
   ]
  },
  {
   "cell_type": "code",
   "execution_count": 3,
   "id": "c11194c9",
   "metadata": {
    "execution": {
     "iopub.execute_input": "2025-07-18T10:28:40.309166Z",
     "iopub.status.busy": "2025-07-18T10:28:40.309166Z",
     "iopub.status.idle": "2025-07-18T10:28:41.613366Z",
     "shell.execute_reply": "2025-07-18T10:28:41.611848Z"
    },
    "tags": [
     "remove-input"
    ]
   },
   "outputs": [
    {
     "data": {
      "text/html": [
       "<style type=\"text/css\">\n",
       "#T_c0df2 th {\n",
       "  text-align: left;\n",
       "}\n",
       "#T_c0df2_row0_col0, #T_c0df2_row0_col1, #T_c0df2_row1_col0, #T_c0df2_row1_col1, #T_c0df2_row2_col0, #T_c0df2_row2_col1, #T_c0df2_row3_col0, #T_c0df2_row3_col1, #T_c0df2_row4_col0, #T_c0df2_row4_col1, #T_c0df2_row5_col0, #T_c0df2_row5_col1, #T_c0df2_row6_col0, #T_c0df2_row6_col1, #T_c0df2_row7_col0, #T_c0df2_row7_col1, #T_c0df2_row8_col0, #T_c0df2_row8_col1, #T_c0df2_row9_col0, #T_c0df2_row9_col1, #T_c0df2_row10_col0, #T_c0df2_row10_col1, #T_c0df2_row11_col0, #T_c0df2_row11_col1, #T_c0df2_row12_col0, #T_c0df2_row12_col1 {\n",
       "  text-align: left;\n",
       "}\n",
       "</style>\n",
       "<table id=\"T_c0df2\" style=\"font-size: 14px\">\n",
       "  <thead>\n",
       "    <tr>\n",
       "      <th id=\"T_c0df2_level0_col0\" class=\"col_heading level0 col0\" >Dataset Descriptor</th>\n",
       "      <th id=\"T_c0df2_level0_col1\" class=\"col_heading level0 col1\" >Dataset-specific Information</th>\n",
       "    </tr>\n",
       "  </thead>\n",
       "  <tbody>\n",
       "    <tr>\n",
       "      <td id=\"T_c0df2_row0_col0\" class=\"data row0 col0\" >Name of Dataset in TRE</td>\n",
       "      <td id=\"T_c0df2_row0_col1\" class=\"data row0 col1\" >NSHD46_nightingale_metabolomics</td>\n",
       "    </tr>\n",
       "    <tr>\n",
       "      <td id=\"T_c0df2_row1_col0\" class=\"data row1 col0\" >Citation (APA)</td>\n",
       "      <td id=\"T_c0df2_row1_col1\" class=\"data row1 col1\" >University College London, Institute of Cardiovascular Science, Unit for Lifelong Health and Ageing. (2022). <i>Medical Research Council (MRC) National Survey of Health and Development (NSHD): Nightingale Metabolomics.</i> UK Longitudinal Linkage Collaboration (UK LLC).  <a href=\"https://doi.org/10.83126/ukllc-dataset-00373-01\" rel=\"noopener noreferrer\" target=\"_blank\">https://doi.org/10.83126/ukllc-dataset-00373-01</a></td>\n",
       "    </tr>\n",
       "    <tr>\n",
       "      <td id=\"T_c0df2_row2_col0\" class=\"data row2 col0\" >Download Citation</td>\n",
       "      <td id=\"T_c0df2_row2_col1\" class=\"data row2 col1\" > <a href=\"https://api.test.datacite.org/application/vnd.citationstyles.csl+json/10.83126/ukllc-dataset-00373-01\" rel=\"noopener noreferrer\" target=\"_blank\">Citeproc JSON</a>&nbsp;&nbsp;&nbsp;&nbsp; <a href=\"https://api.test.datacite.org/application/x-bibtex/10.83126/ukllc-dataset-00373-01\" rel=\"noopener noreferrer\" target=\"_blank\">BibTeX</a>&nbsp;&nbsp;&nbsp;&nbsp; <a href=\"https://api.test.datacite.org/application/x-research-info-systems/10.83126/ukllc-dataset-00373-01\" rel=\"noopener noreferrer\" target=\"_blank\">RIS</a></td>\n",
       "    </tr>\n",
       "    <tr>\n",
       "      <td id=\"T_c0df2_row3_col0\" class=\"data row3 col0\" >Series</td>\n",
       "      <td id=\"T_c0df2_row3_col1\" class=\"data row3 col1\" > <a href=\"https://guidebook.ukllc.ac.uk/docs/lps/lps%20profiles/NSHD46\">Medical Research Council (MRC) National Survey of Health and Development (NSHD)</a></td>\n",
       "    </tr>\n",
       "    <tr>\n",
       "      <td id=\"T_c0df2_row4_col0\" class=\"data row4 col0\" >Owner</td>\n",
       "      <td id=\"T_c0df2_row4_col1\" class=\"data row4 col1\" >UCL</td>\n",
       "    </tr>\n",
       "    <tr>\n",
       "      <td id=\"T_c0df2_row5_col0\" class=\"data row5 col0\" >Temporal Coverage</td>\n",
       "      <td id=\"T_c0df2_row5_col1\" class=\"data row5 col1\" >01/2006 - 12/2015</td>\n",
       "    </tr>\n",
       "    <tr>\n",
       "      <td id=\"T_c0df2_row6_col0\" class=\"data row6 col0\" >Keywords</td>\n",
       "      <td id=\"T_c0df2_row6_col1\" class=\"data row6 col1\" ></td>\n",
       "    </tr>\n",
       "    <tr>\n",
       "      <td id=\"T_c0df2_row7_col0\" class=\"data row7 col0\" >Participants Invited</td>\n",
       "      <td id=\"T_c0df2_row7_col1\" class=\"data row7 col1\" >2856 in 2006; 2698 in 2015</td>\n",
       "    </tr>\n",
       "    <tr>\n",
       "      <td id=\"T_c0df2_row8_col0\" class=\"data row8 col0\" >Participant Count</td>\n",
       "      <td id=\"T_c0df2_row8_col1\" class=\"data row8 col1\" >4289</td>\n",
       "    </tr>\n",
       "    <tr>\n",
       "      <td id=\"T_c0df2_row9_col0\" class=\"data row9 col0\" >Number of variables</td>\n",
       "      <td id=\"T_c0df2_row9_col1\" class=\"data row9 col1\" >472</td>\n",
       "    </tr>\n",
       "    <tr>\n",
       "      <td id=\"T_c0df2_row10_col0\" class=\"data row10 col0\" >Number of observations</td>\n",
       "      <td id=\"T_c0df2_row10_col1\" class=\"data row10 col1\" >4289</td>\n",
       "    </tr>\n",
       "    <tr>\n",
       "      <td id=\"T_c0df2_row11_col0\" class=\"data row11 col0\" >Specific Restrictions to Data Use</td>\n",
       "      <td id=\"T_c0df2_row11_col1\" class=\"data row11 col1\" >None</td>\n",
       "    </tr>\n",
       "    <tr>\n",
       "      <td id=\"T_c0df2_row12_col0\" class=\"data row12 col0\" >Build a Data Request</td>\n",
       "      <td id=\"T_c0df2_row12_col1\" class=\"data row12 col1\" > <a href=\"https://explore.ukllc.ac.uk/\" rel=\"noopener noreferrer\" target=\"_blank\">https://explore.ukllc.ac.uk/</a></td>\n",
       "    </tr>\n",
       "  </tbody>\n",
       "</table>\n"
      ],
      "text/plain": [
       "<pandas.io.formats.style.Styler at 0x19ec35c19d0>"
      ]
     },
     "execution_count": 3,
     "metadata": {},
     "output_type": "execute_result"
    }
   ],
   "source": [
    "ds.info_table()"
   ]
  },
  {
   "cell_type": "markdown",
   "id": "737bd4c0",
   "metadata": {},
   "source": [
    "## 2. Version History"
   ]
  },
  {
   "cell_type": "code",
   "execution_count": 4,
   "id": "7abbb864",
   "metadata": {
    "execution": {
     "iopub.execute_input": "2025-07-18T10:28:41.620369Z",
     "iopub.status.busy": "2025-07-18T10:28:41.620369Z",
     "iopub.status.idle": "2025-07-18T10:28:44.596997Z",
     "shell.execute_reply": "2025-07-18T10:28:44.594904Z"
    },
    "tags": [
     "remove-input"
    ]
   },
   "outputs": [
    {
     "data": {
      "text/html": [
       "<style type=\"text/css\">\n",
       "#T_ab346 th {\n",
       "  text-align: left;\n",
       "}\n",
       "#T_ab346_row0_col0, #T_ab346_row0_col1, #T_ab346_row1_col0, #T_ab346_row1_col1, #T_ab346_row2_col0, #T_ab346_row2_col1, #T_ab346_row3_col0, #T_ab346_row3_col1, #T_ab346_row4_col0, #T_ab346_row4_col1 {\n",
       "  text-align: left;\n",
       "}\n",
       "</style>\n",
       "<table id=\"T_ab346\" style=\"font-size: 14px\">\n",
       "  <thead>\n",
       "    <tr>\n",
       "      <th id=\"T_ab346_level0_col0\" class=\"col_heading level0 col0\" >Version</th>\n",
       "      <th id=\"T_ab346_level0_col1\" class=\"col_heading level0 col1\" >1</th>\n",
       "    </tr>\n",
       "  </thead>\n",
       "  <tbody>\n",
       "    <tr>\n",
       "      <td id=\"T_ab346_row0_col0\" class=\"data row0 col0\" >Version Date</td>\n",
       "      <td id=\"T_ab346_row0_col1\" class=\"data row0 col1\" >10 Aug 2022</td>\n",
       "    </tr>\n",
       "    <tr>\n",
       "      <td id=\"T_ab346_row1_col0\" class=\"data row1 col0\" >Number of Variables</td>\n",
       "      <td id=\"T_ab346_row1_col1\" class=\"data row1 col1\" >472</td>\n",
       "    </tr>\n",
       "    <tr>\n",
       "      <td id=\"T_ab346_row2_col0\" class=\"data row2 col0\" >Number of Observations</td>\n",
       "      <td id=\"T_ab346_row2_col1\" class=\"data row2 col1\" >4289</td>\n",
       "    </tr>\n",
       "    <tr>\n",
       "      <td id=\"T_ab346_row3_col0\" class=\"data row3 col0\" >DOI</td>\n",
       "      <td id=\"T_ab346_row3_col1\" class=\"data row3 col1\" > <a href=\"https://doi.org/10.83126/ukllc-dataset-00373-01\" rel=\"noopener noreferrer\" target=\"_blank\">10.83126/ukllc-dataset-00373-01</a></td>\n",
       "    </tr>\n",
       "    <tr>\n",
       "      <td id=\"T_ab346_row4_col0\" class=\"data row4 col0\" >Change Log</td>\n",
       "      <td id=\"T_ab346_row4_col1\" class=\"data row4 col1\" > <a href=\"https://api.test.datacite.org/dois/10.83126/ukllc-dataset-00373-01/activities\" rel=\"noopener noreferrer\" target=\"_blank\">10.83126/ukllc-dataset-00373-01/activities</a></td>\n",
       "    </tr>\n",
       "  </tbody>\n",
       "</table>\n"
      ],
      "text/plain": [
       "<pandas.io.formats.style.Styler at 0x19ec4ff7770>"
      ]
     },
     "execution_count": 4,
     "metadata": {},
     "output_type": "execute_result"
    }
   ],
   "source": [
    "ds.version_history()"
   ]
  },
  {
   "cell_type": "markdown",
   "id": "7c0c310d",
   "metadata": {},
   "source": [
    "## 3. Documentation"
   ]
  },
  {
   "cell_type": "code",
   "execution_count": 5,
   "id": "66bfeb84",
   "metadata": {
    "execution": {
     "iopub.execute_input": "2025-07-18T10:28:44.602011Z",
     "iopub.status.busy": "2025-07-18T10:28:44.602011Z",
     "iopub.status.idle": "2025-07-18T10:28:44.610615Z",
     "shell.execute_reply": "2025-07-18T10:28:44.609610Z"
    },
    "tags": [
     "remove-input"
    ]
   },
   "outputs": [
    {
     "data": {
      "text/markdown": [
       "We are currently building a documentation storage system which will host useful documents related to datasets and data owners. We will surface these documents on Guidebook."
      ],
      "text/plain": [
       "<IPython.core.display.Markdown object>"
      ]
     },
     "metadata": {},
     "output_type": "display_data"
    }
   ],
   "source": [
    "ds.documentation()"
   ]
  },
  {
   "cell_type": "markdown",
   "id": "f9374164",
   "metadata": {},
   "source": [
    "## 4. Useful Syntax"
   ]
  },
  {
   "cell_type": "code",
   "execution_count": 6,
   "id": "b3790a75",
   "metadata": {
    "execution": {
     "iopub.execute_input": "2025-07-18T10:28:44.615616Z",
     "iopub.status.busy": "2025-07-18T10:28:44.614618Z",
     "iopub.status.idle": "2025-07-18T10:28:44.623969Z",
     "shell.execute_reply": "2025-07-18T10:28:44.622963Z"
    },
    "tags": [
     "remove-input"
    ]
   },
   "outputs": [
    {
     "data": {
      "text/markdown": [
       "Below we will include syntax that may be helpful to other researchers in the UK LLC TRE. For longer scripts, we will include a snippet of the code plus a link to Git where you can find the full scripts."
      ],
      "text/plain": [
       "<IPython.core.display.Markdown object>"
      ]
     },
     "metadata": {},
     "output_type": "display_data"
    }
   ],
   "source": [
    "ds.useful_syntax()"
   ]
  }
 ],
 "metadata": {
  "language_info": {
   "codemirror_mode": {
    "name": "ipython",
    "version": 3
   },
   "file_extension": ".py",
   "mimetype": "text/x-python",
   "name": "python",
   "nbconvert_exporter": "python",
   "pygments_lexer": "ipython3",
   "version": "3.12.7"
  }
 },
 "nbformat": 4,
 "nbformat_minor": 5
}
