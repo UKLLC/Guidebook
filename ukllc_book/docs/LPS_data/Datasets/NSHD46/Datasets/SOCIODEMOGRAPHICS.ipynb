{
 "cells": [
  {
   "cell_type": "markdown",
   "id": "2543902a",
   "metadata": {},
   "source": [
    "# Sociodemographics (NSHD46)"
   ]
  },
  {
   "cell_type": "code",
   "execution_count": 1,
   "id": "09cb322f",
   "metadata": {
    "execution": {
     "iopub.execute_input": "2025-07-28T20:21:03.318683Z",
     "iopub.status.busy": "2025-07-28T20:21:03.317683Z",
     "iopub.status.idle": "2025-07-28T20:21:16.613537Z",
     "shell.execute_reply": "2025-07-28T20:21:16.611518Z"
    },
    "tags": [
     "remove-input"
    ]
   },
   "outputs": [
    {
     "data": {
      "text/markdown": [
       ">Last modified: 28 Jul 2025"
      ],
      "text/plain": [
       "<IPython.core.display.Markdown object>"
      ]
     },
     "metadata": {},
     "output_type": "display_data"
    }
   ],
   "source": [
    "\n",
    "import sys\n",
    "import os\n",
    "sys.path.append(os.path.abspath('../../../../scripts/'))\n",
    "from data_doc_helper import LPSDataSet as DS, last_modified\n",
    "API_KEY = os.environ['FASTAPI_KEY']\n",
    "ds = DS(\"NSHD46\", \"SOCIODEMOGRAPHICS\")\n",
    "last_modified()\n"
   ]
  },
  {
   "cell_type": "markdown",
   "id": "2bafe083",
   "metadata": {},
   "source": [
    "## 1. Summary"
   ]
  },
  {
   "cell_type": "code",
   "execution_count": 2,
   "id": "35d7ef33",
   "metadata": {
    "execution": {
     "iopub.execute_input": "2025-07-28T20:21:16.622027Z",
     "iopub.status.busy": "2025-07-28T20:21:16.620534Z",
     "iopub.status.idle": "2025-07-28T20:21:16.635838Z",
     "shell.execute_reply": "2025-07-28T20:21:16.633937Z"
    },
    "tags": [
     "remove-input"
    ]
   },
   "outputs": [
    {
     "data": {
      "text/markdown": [
       "Childhood and midlife social class; parental and own education; housing tenure; income."
      ],
      "text/plain": [
       "<IPython.core.display.Markdown object>"
      ]
     },
     "metadata": {},
     "output_type": "display_data"
    }
   ],
   "source": [
    "ds.summary()"
   ]
  },
  {
   "cell_type": "code",
   "execution_count": 3,
   "id": "66ed9c03",
   "metadata": {
    "execution": {
     "iopub.execute_input": "2025-07-28T20:21:16.643416Z",
     "iopub.status.busy": "2025-07-28T20:21:16.642424Z",
     "iopub.status.idle": "2025-07-28T20:21:18.300545Z",
     "shell.execute_reply": "2025-07-28T20:21:18.298527Z"
    },
    "tags": [
     "remove-input"
    ]
   },
   "outputs": [
    {
     "data": {
      "text/html": [
       "<style type=\"text/css\">\n",
       "#T_48c54 th {\n",
       "  text-align: left;\n",
       "}\n",
       "#T_48c54_row0_col0, #T_48c54_row0_col1, #T_48c54_row1_col0, #T_48c54_row1_col1, #T_48c54_row2_col0, #T_48c54_row2_col1, #T_48c54_row3_col0, #T_48c54_row3_col1, #T_48c54_row4_col0, #T_48c54_row4_col1, #T_48c54_row5_col0, #T_48c54_row5_col1, #T_48c54_row6_col0, #T_48c54_row6_col1, #T_48c54_row7_col0, #T_48c54_row7_col1, #T_48c54_row8_col0, #T_48c54_row8_col1, #T_48c54_row9_col0, #T_48c54_row9_col1, #T_48c54_row10_col0, #T_48c54_row10_col1, #T_48c54_row11_col0, #T_48c54_row11_col1, #T_48c54_row12_col0, #T_48c54_row12_col1 {\n",
       "  text-align: left;\n",
       "}\n",
       "</style>\n",
       "<table id=\"T_48c54\" style=\"font-size: 14px\">\n",
       "  <thead>\n",
       "    <tr>\n",
       "      <th id=\"T_48c54_level0_col0\" class=\"col_heading level0 col0\" >Dataset Descriptor</th>\n",
       "      <th id=\"T_48c54_level0_col1\" class=\"col_heading level0 col1\" >Dataset-specific Information</th>\n",
       "    </tr>\n",
       "  </thead>\n",
       "  <tbody>\n",
       "    <tr>\n",
       "      <td id=\"T_48c54_row0_col0\" class=\"data row0 col0\" >Name of Dataset in TRE</td>\n",
       "      <td id=\"T_48c54_row0_col1\" class=\"data row0 col1\" >NSHD46_SOCIODEMOGRAPHICS</td>\n",
       "    </tr>\n",
       "    <tr>\n",
       "      <td id=\"T_48c54_row1_col0\" class=\"data row1 col0\" >Citation (APA)</td>\n",
       "      <td id=\"T_48c54_row1_col1\" class=\"data row1 col1\" >University College London, Institute of Cardiovascular Science, Unit for Lifelong Health and Ageing. (2021). <i>Medical Research Council (MRC) National Survey of Health and Development (NSHD): Sociodemographics.</i> UK Longitudinal Linkage Collaboration (UK LLC).  <a href=\"https://doi.org/10.71760/ukllc-dataset-00302-01\" rel=\"noopener noreferrer\" target=\"_blank\">https://doi.org/10.71760/ukllc-dataset-00302-01</a></td>\n",
       "    </tr>\n",
       "    <tr>\n",
       "      <td id=\"T_48c54_row2_col0\" class=\"data row2 col0\" >Download Citation</td>\n",
       "      <td id=\"T_48c54_row2_col1\" class=\"data row2 col1\" > <a href=\"https://api.datacite.org/application/vnd.citationstyles.csl+json/10.71760/ukllc-dataset-00302-01\" rel=\"noopener noreferrer\" target=\"_blank\">Citeproc JSON</a>&nbsp;&nbsp;&nbsp;&nbsp; <a href=\"https://api.datacite.org/application/x-bibtex/10.71760/ukllc-dataset-00302-01\" rel=\"noopener noreferrer\" target=\"_blank\">BibTeX</a>&nbsp;&nbsp;&nbsp;&nbsp; <a href=\"https://api.datacite.org/application/x-research-info-systems/10.71760/ukllc-dataset-00302-01\" rel=\"noopener noreferrer\" target=\"_blank\">RIS</a></td>\n",
       "    </tr>\n",
       "    <tr>\n",
       "      <td id=\"T_48c54_row3_col0\" class=\"data row3 col0\" >Series</td>\n",
       "      <td id=\"T_48c54_row3_col1\" class=\"data row3 col1\" > <a href=\"https://guidebook.ukllc.ac.uk/docs/lps_data/lps%20profiles/NSHD46\">Medical Research Council (MRC) National Survey of Health and Development (NSHD)</a></td>\n",
       "    </tr>\n",
       "    <tr>\n",
       "      <td id=\"T_48c54_row4_col0\" class=\"data row4 col0\" >Owner</td>\n",
       "      <td id=\"T_48c54_row4_col1\" class=\"data row4 col1\" >UCL</td>\n",
       "    </tr>\n",
       "    <tr>\n",
       "      <td id=\"T_48c54_row5_col0\" class=\"data row5 col0\" >Temporal Coverage</td>\n",
       "      <td id=\"T_48c54_row5_col1\" class=\"data row5 col1\" >03/1946 - 12/2014</td>\n",
       "    </tr>\n",
       "    <tr>\n",
       "      <td id=\"T_48c54_row6_col0\" class=\"data row6 col0\" >Keywords</td>\n",
       "      <td id=\"T_48c54_row6_col1\" class=\"data row6 col1\" ></td>\n",
       "    </tr>\n",
       "    <tr>\n",
       "      <td id=\"T_48c54_row7_col0\" class=\"data row7 col0\" >Participants Invited</td>\n",
       "      <td id=\"T_48c54_row7_col1\" class=\"data row7 col1\" >5362</td>\n",
       "    </tr>\n",
       "    <tr>\n",
       "      <td id=\"T_48c54_row8_col0\" class=\"data row8 col0\" >Participant Count</td>\n",
       "      <td id=\"T_48c54_row8_col1\" class=\"data row8 col1\" >4300</td>\n",
       "    </tr>\n",
       "    <tr>\n",
       "      <td id=\"T_48c54_row9_col0\" class=\"data row9 col0\" >Number of variables</td>\n",
       "      <td id=\"T_48c54_row9_col1\" class=\"data row9 col1\" >13</td>\n",
       "    </tr>\n",
       "    <tr>\n",
       "      <td id=\"T_48c54_row10_col0\" class=\"data row10 col0\" >Number of observations</td>\n",
       "      <td id=\"T_48c54_row10_col1\" class=\"data row10 col1\" >4320</td>\n",
       "    </tr>\n",
       "    <tr>\n",
       "      <td id=\"T_48c54_row11_col0\" class=\"data row11 col0\" >Specific Restrictions to Data Use</td>\n",
       "      <td id=\"T_48c54_row11_col1\" class=\"data row11 col1\" >None</td>\n",
       "    </tr>\n",
       "    <tr>\n",
       "      <td id=\"T_48c54_row12_col0\" class=\"data row12 col0\" >Build a Data Request</td>\n",
       "      <td id=\"T_48c54_row12_col1\" class=\"data row12 col1\" > <a href=\"https://explore.ukllc.ac.uk/\" rel=\"noopener noreferrer\" target=\"_blank\">https://explore.ukllc.ac.uk/</a></td>\n",
       "    </tr>\n",
       "  </tbody>\n",
       "</table>\n"
      ],
      "text/plain": [
       "<pandas.io.formats.style.Styler at 0x1af16a0c740>"
      ]
     },
     "execution_count": 3,
     "metadata": {},
     "output_type": "execute_result"
    }
   ],
   "source": [
    "ds.info_table()"
   ]
  },
  {
   "cell_type": "markdown",
   "id": "d3bd6388",
   "metadata": {},
   "source": [
    "## 2. Version History"
   ]
  },
  {
   "cell_type": "code",
   "execution_count": 4,
   "id": "a2a75d68",
   "metadata": {
    "execution": {
     "iopub.execute_input": "2025-07-28T20:21:18.308799Z",
     "iopub.status.busy": "2025-07-28T20:21:18.307800Z",
     "iopub.status.idle": "2025-07-28T20:21:23.784651Z",
     "shell.execute_reply": "2025-07-28T20:21:23.782274Z"
    },
    "tags": [
     "remove-input"
    ]
   },
   "outputs": [
    {
     "data": {
      "text/html": [
       "<style type=\"text/css\">\n",
       "#T_aa5ff th {\n",
       "  text-align: left;\n",
       "}\n",
       "#T_aa5ff_row0_col0, #T_aa5ff_row0_col1, #T_aa5ff_row1_col0, #T_aa5ff_row1_col1, #T_aa5ff_row2_col0, #T_aa5ff_row2_col1, #T_aa5ff_row3_col0, #T_aa5ff_row3_col1, #T_aa5ff_row4_col0, #T_aa5ff_row4_col1 {\n",
       "  text-align: left;\n",
       "}\n",
       "</style>\n",
       "<table id=\"T_aa5ff\" style=\"font-size: 14px\">\n",
       "  <thead>\n",
       "    <tr>\n",
       "      <th id=\"T_aa5ff_level0_col0\" class=\"col_heading level0 col0\" >Version</th>\n",
       "      <th id=\"T_aa5ff_level0_col1\" class=\"col_heading level0 col1\" >1</th>\n",
       "    </tr>\n",
       "  </thead>\n",
       "  <tbody>\n",
       "    <tr>\n",
       "      <td id=\"T_aa5ff_row0_col0\" class=\"data row0 col0\" >Version Date</td>\n",
       "      <td id=\"T_aa5ff_row0_col1\" class=\"data row0 col1\" >01 Nov 2021</td>\n",
       "    </tr>\n",
       "    <tr>\n",
       "      <td id=\"T_aa5ff_row1_col0\" class=\"data row1 col0\" >Number of Variables</td>\n",
       "      <td id=\"T_aa5ff_row1_col1\" class=\"data row1 col1\" >13</td>\n",
       "    </tr>\n",
       "    <tr>\n",
       "      <td id=\"T_aa5ff_row2_col0\" class=\"data row2 col0\" >Number of Observations</td>\n",
       "      <td id=\"T_aa5ff_row2_col1\" class=\"data row2 col1\" >4320</td>\n",
       "    </tr>\n",
       "    <tr>\n",
       "      <td id=\"T_aa5ff_row3_col0\" class=\"data row3 col0\" >DOI</td>\n",
       "      <td id=\"T_aa5ff_row3_col1\" class=\"data row3 col1\" > <a href=\"https://doi.org/10.71760/ukllc-dataset-00302-01\" rel=\"noopener noreferrer\" target=\"_blank\">10.71760/ukllc-dataset-00302-01</a></td>\n",
       "    </tr>\n",
       "    <tr>\n",
       "      <td id=\"T_aa5ff_row4_col0\" class=\"data row4 col0\" >Change Log</td>\n",
       "      <td id=\"T_aa5ff_row4_col1\" class=\"data row4 col1\" > <a href=\"https://api.test.datacite.org/dois/10.71760/ukllc-dataset-00302-01/activities\" rel=\"noopener noreferrer\" target=\"_blank\">10.71760/ukllc-dataset-00302-01/activities</a></td>\n",
       "    </tr>\n",
       "  </tbody>\n",
       "</table>\n"
      ],
      "text/plain": [
       "<pandas.io.formats.style.Styler at 0x1af1c3ec410>"
      ]
     },
     "execution_count": 4,
     "metadata": {},
     "output_type": "execute_result"
    }
   ],
   "source": [
    "ds.version_history()"
   ]
  },
  {
   "cell_type": "markdown",
   "id": "cea9652b",
   "metadata": {},
   "source": [
    "## 3. Documentation"
   ]
  },
  {
   "cell_type": "code",
   "execution_count": 5,
   "id": "4e25b82d",
   "metadata": {
    "execution": {
     "iopub.execute_input": "2025-07-28T20:21:23.800870Z",
     "iopub.status.busy": "2025-07-28T20:21:23.797942Z",
     "iopub.status.idle": "2025-07-28T20:21:23.830977Z",
     "shell.execute_reply": "2025-07-28T20:21:23.824697Z"
    },
    "tags": [
     "remove-input"
    ]
   },
   "outputs": [
    {
     "data": {
      "text/markdown": [
       "We are currently building a documentation storage system which will host useful documents related to datasets and data owners. We will surface these documents on Guidebook."
      ],
      "text/plain": [
       "<IPython.core.display.Markdown object>"
      ]
     },
     "metadata": {},
     "output_type": "display_data"
    }
   ],
   "source": [
    "ds.documentation()"
   ]
  },
  {
   "cell_type": "markdown",
   "id": "8664dc38",
   "metadata": {},
   "source": [
    "## 4. Useful Syntax"
   ]
  },
  {
   "cell_type": "code",
   "execution_count": 6,
   "id": "59f4f0df",
   "metadata": {
    "execution": {
     "iopub.execute_input": "2025-07-28T20:21:23.851734Z",
     "iopub.status.busy": "2025-07-28T20:21:23.849021Z",
     "iopub.status.idle": "2025-07-28T20:21:23.865128Z",
     "shell.execute_reply": "2025-07-28T20:21:23.862670Z"
    },
    "tags": [
     "remove-input"
    ]
   },
   "outputs": [
    {
     "data": {
      "text/markdown": [
       "Below we will include syntax that may be helpful to other researchers in the UK LLC TRE. For longer scripts, we will include a snippet of the code plus a link to Git where you can find the full scripts."
      ],
      "text/plain": [
       "<IPython.core.display.Markdown object>"
      ]
     },
     "metadata": {},
     "output_type": "display_data"
    }
   ],
   "source": [
    "ds.useful_syntax()"
   ]
  }
 ],
 "metadata": {
  "language_info": {
   "codemirror_mode": {
    "name": "ipython",
    "version": 3
   },
   "file_extension": ".py",
   "mimetype": "text/x-python",
   "name": "python",
   "nbconvert_exporter": "python",
   "pygments_lexer": "ipython3",
   "version": "3.12.7"
  }
 },
 "nbformat": 4,
 "nbformat_minor": 5
}
