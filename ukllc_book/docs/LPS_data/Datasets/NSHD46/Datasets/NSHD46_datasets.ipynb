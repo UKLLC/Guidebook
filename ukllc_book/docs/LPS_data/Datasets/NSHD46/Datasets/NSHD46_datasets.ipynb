{
 "cells": [
  {
   "cell_type": "markdown",
   "id": "282c68f5",
   "metadata": {},
   "source": [
    "# Medical Research Council (MRC) National Survey of Health and Development (NSHD) Datasets"
   ]
  },
  {
   "cell_type": "code",
   "execution_count": 1,
   "id": "82b0e312",
   "metadata": {
    "execution": {
     "iopub.execute_input": "2025-07-18T10:28:47.467115Z",
     "iopub.status.busy": "2025-07-18T10:28:47.466124Z",
     "iopub.status.idle": "2025-07-18T10:28:49.931407Z",
     "shell.execute_reply": "2025-07-18T10:28:49.931407Z"
    },
    "tags": [
     "remove-input"
    ]
   },
   "outputs": [
    {
     "data": {
      "text/markdown": [
       ">Last modified: 18 Jul 2025"
      ],
      "text/plain": [
       "<IPython.core.display.Markdown object>"
      ]
     },
     "metadata": {},
     "output_type": "display_data"
    }
   ],
   "source": [
    "\n",
    "import sys\n",
    "import os\n",
    "sys.path.append(os.path.abspath('../../../../scripts/'))\n",
    "from data_doc_helper import LPSSource as SS, last_modified\n",
    "API_KEY = os.environ['FASTAPI_KEY']\n",
    "ss = SS(\"NSHD46\")\n",
    "last_modified()\n"
   ]
  },
  {
   "cell_type": "markdown",
   "id": "f8b45650",
   "metadata": {},
   "source": [
    "## 1. Datasets"
   ]
  },
  {
   "cell_type": "code",
   "execution_count": 2,
   "id": "e2b74e74",
   "metadata": {
    "execution": {
     "iopub.execute_input": "2025-07-18T10:28:49.937413Z",
     "iopub.status.busy": "2025-07-18T10:28:49.936413Z",
     "iopub.status.idle": "2025-07-18T10:28:49.940599Z",
     "shell.execute_reply": "2025-07-18T10:28:49.940599Z"
    },
    "tags": [
     "remove-input"
    ]
   },
   "outputs": [
    {
     "data": {
      "text/markdown": [
       "**Table 1:** Datasets and metrics in the UK LLC belonging to NSHD46."
      ],
      "text/plain": [
       "<IPython.core.display.Markdown object>"
      ]
     },
     "metadata": {},
     "output_type": "display_data"
    }
   ],
   "source": [
    "ss.table_caption_ds()"
   ]
  },
  {
   "cell_type": "code",
   "execution_count": 3,
   "id": "cfa489a3",
   "metadata": {
    "execution": {
     "iopub.execute_input": "2025-07-18T10:28:49.945606Z",
     "iopub.status.busy": "2025-07-18T10:28:49.945606Z",
     "iopub.status.idle": "2025-07-18T10:28:51.105866Z",
     "shell.execute_reply": "2025-07-18T10:28:51.105598Z"
    },
    "tags": [
     "remove-input",
     "hide-cell"
    ]
   },
   "outputs": [
    {
     "data": {
      "text/html": [
       "<style type=\"text/css\">\n",
       "#T_5ac29 th {\n",
       "  text-align: left;\n",
       "}\n",
       "#T_5ac29_row0_col0, #T_5ac29_row0_col1, #T_5ac29_row0_col2, #T_5ac29_row0_col3, #T_5ac29_row0_col4, #T_5ac29_row1_col0, #T_5ac29_row1_col1, #T_5ac29_row1_col2, #T_5ac29_row1_col3, #T_5ac29_row1_col4, #T_5ac29_row2_col0, #T_5ac29_row2_col1, #T_5ac29_row2_col2, #T_5ac29_row2_col3, #T_5ac29_row2_col4, #T_5ac29_row3_col0, #T_5ac29_row3_col1, #T_5ac29_row3_col2, #T_5ac29_row3_col3, #T_5ac29_row3_col4, #T_5ac29_row4_col0, #T_5ac29_row4_col1, #T_5ac29_row4_col2, #T_5ac29_row4_col3, #T_5ac29_row4_col4, #T_5ac29_row5_col0, #T_5ac29_row5_col1, #T_5ac29_row5_col2, #T_5ac29_row5_col3, #T_5ac29_row5_col4 {\n",
       "  text-align: left;\n",
       "}\n",
       "</style>\n",
       "<table id=\"T_5ac29\" style=\"font-size: 14px\">\n",
       "  <thead>\n",
       "    <tr>\n",
       "      <th id=\"T_5ac29_level0_col0\" class=\"col_heading level0 col0\" >Dataset</th>\n",
       "      <th id=\"T_5ac29_level0_col1\" class=\"col_heading level0 col1\" >Dataset Name</th>\n",
       "      <th id=\"T_5ac29_level0_col2\" class=\"col_heading level0 col2\" ># Participants</th>\n",
       "      <th id=\"T_5ac29_level0_col3\" class=\"col_heading level0 col3\" ># Observations</th>\n",
       "      <th id=\"T_5ac29_level0_col4\" class=\"col_heading level0 col4\" ># Variables</th>\n",
       "    </tr>\n",
       "  </thead>\n",
       "  <tbody>\n",
       "    <tr>\n",
       "      <td id=\"T_5ac29_row0_col0\" class=\"data row0 col0\" > <a href=\"nightingale_metabolomics.html\">nightingale_metabolomics</a></td>\n",
       "      <td id=\"T_5ac29_row0_col1\" class=\"data row0 col1\" >Nightingale Metabolomics</td>\n",
       "      <td id=\"T_5ac29_row0_col2\" class=\"data row0 col2\" >4289</td>\n",
       "      <td id=\"T_5ac29_row0_col3\" class=\"data row0 col3\" >4289</td>\n",
       "      <td id=\"T_5ac29_row0_col4\" class=\"data row0 col4\" >472</td>\n",
       "    </tr>\n",
       "    <tr>\n",
       "      <td id=\"T_5ac29_row1_col0\" class=\"data row1 col0\" > <a href=\"covid_antibody_test_results.html\">covid_antibody_test_results</a></td>\n",
       "      <td id=\"T_5ac29_row1_col1\" class=\"data row1 col1\" >COVID-19 Antibody Test Results</td>\n",
       "      <td id=\"T_5ac29_row1_col2\" class=\"data row1 col2\" >890</td>\n",
       "      <td id=\"T_5ac29_row1_col3\" class=\"data row1 col3\" >896</td>\n",
       "      <td id=\"T_5ac29_row1_col4\" class=\"data row1 col4\" >17</td>\n",
       "    </tr>\n",
       "    <tr>\n",
       "      <td id=\"T_5ac29_row2_col0\" class=\"data row2 col0\" > <a href=\"SOCIODEMOGRAPHICS.html\">SOCIODEMOGRAPHICS</a></td>\n",
       "      <td id=\"T_5ac29_row2_col1\" class=\"data row2 col1\" >Sociodemographics</td>\n",
       "      <td id=\"T_5ac29_row2_col2\" class=\"data row2 col2\" >4300</td>\n",
       "      <td id=\"T_5ac29_row2_col3\" class=\"data row2 col3\" >4320</td>\n",
       "      <td id=\"T_5ac29_row2_col4\" class=\"data row2 col4\" >13</td>\n",
       "    </tr>\n",
       "    <tr>\n",
       "      <td id=\"T_5ac29_row3_col0\" class=\"data row3 col0\" > <a href=\"COVIDW3WEB.html\">COVIDW3WEB</a></td>\n",
       "      <td id=\"T_5ac29_row3_col1\" class=\"data row3 col1\" >COVID-19 Wave 3 </td>\n",
       "      <td id=\"T_5ac29_row3_col2\" class=\"data row3 col2\" >1387</td>\n",
       "      <td id=\"T_5ac29_row3_col3\" class=\"data row3 col3\" >1399</td>\n",
       "      <td id=\"T_5ac29_row3_col4\" class=\"data row3 col4\" >389</td>\n",
       "    </tr>\n",
       "    <tr>\n",
       "      <td id=\"T_5ac29_row4_col0\" class=\"data row4 col0\" > <a href=\"COVIDW2WEBPOSTAL.html\">COVIDW2WEBPOSTAL</a></td>\n",
       "      <td id=\"T_5ac29_row4_col1\" class=\"data row4 col1\" >COVID-19 Wave 2 Questionnaire</td>\n",
       "      <td id=\"T_5ac29_row4_col2\" class=\"data row4 col2\" >2102</td>\n",
       "      <td id=\"T_5ac29_row4_col3\" class=\"data row4 col3\" >2119</td>\n",
       "      <td id=\"T_5ac29_row4_col4\" class=\"data row4 col4\" >747</td>\n",
       "    </tr>\n",
       "    <tr>\n",
       "      <td id=\"T_5ac29_row5_col0\" class=\"data row5 col0\" > <a href=\"COVIDW1WEBPOSTAL.html\">COVIDW1WEBPOSTAL</a></td>\n",
       "      <td id=\"T_5ac29_row5_col1\" class=\"data row5 col1\" >COVID-19 Wave 1 Questionnaire</td>\n",
       "      <td id=\"T_5ac29_row5_col2\" class=\"data row5 col2\" >1864</td>\n",
       "      <td id=\"T_5ac29_row5_col3\" class=\"data row5 col3\" >1876</td>\n",
       "      <td id=\"T_5ac29_row5_col4\" class=\"data row5 col4\" >268</td>\n",
       "    </tr>\n",
       "  </tbody>\n",
       "</table>\n"
      ],
      "text/plain": [
       "<pandas.io.formats.style.Styler at 0x17343a706b0>"
      ]
     },
     "execution_count": 3,
     "metadata": {},
     "output_type": "execute_result"
    }
   ],
   "source": [
    "ss.datasets()"
   ]
  }
 ],
 "metadata": {
  "language_info": {
   "codemirror_mode": {
    "name": "ipython",
    "version": 3
   },
   "file_extension": ".py",
   "mimetype": "text/x-python",
   "name": "python",
   "nbconvert_exporter": "python",
   "pygments_lexer": "ipython3",
   "version": "3.12.7"
  },
  "mystnb": {
   "code_prompt_hide": "Hide Datasets",
   "code_prompt_show": "Show Datasets"
  }
 },
 "nbformat": 4,
 "nbformat_minor": 5
}
