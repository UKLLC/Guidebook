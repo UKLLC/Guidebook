{
 "cells": [
  {
   "cell_type": "markdown",
   "id": "0c8f8cad",
   "metadata": {},
   "source": [
    "# COVID-19 Antibody Test Results (NSHD46)"
   ]
  },
  {
   "cell_type": "code",
   "execution_count": 1,
   "id": "1d37216b",
   "metadata": {
    "execution": {
     "iopub.execute_input": "2025-07-28T20:20:05.021134Z",
     "iopub.status.busy": "2025-07-28T20:20:05.020020Z",
     "iopub.status.idle": "2025-07-28T20:20:17.454623Z",
     "shell.execute_reply": "2025-07-28T20:20:17.453611Z"
    },
    "tags": [
     "remove-input"
    ]
   },
   "outputs": [
    {
     "data": {
      "text/markdown": [
       ">Last modified: 28 Jul 2025"
      ],
      "text/plain": [
       "<IPython.core.display.Markdown object>"
      ]
     },
     "metadata": {},
     "output_type": "display_data"
    }
   ],
   "source": [
    "\n",
    "import sys\n",
    "import os\n",
    "sys.path.append(os.path.abspath('../../../../scripts/'))\n",
    "from data_doc_helper import LPSDataSet as DS, last_modified\n",
    "API_KEY = os.environ['FASTAPI_KEY']\n",
    "ds = DS(\"NSHD46\", \"covid_antibody_test_results\")\n",
    "last_modified()\n"
   ]
  },
  {
   "cell_type": "markdown",
   "id": "5aa24899",
   "metadata": {},
   "source": [
    "## 1. Summary"
   ]
  },
  {
   "cell_type": "code",
   "execution_count": 2,
   "id": "3b7a8b47",
   "metadata": {
    "execution": {
     "iopub.execute_input": "2025-07-28T20:20:17.463629Z",
     "iopub.status.busy": "2025-07-28T20:20:17.462629Z",
     "iopub.status.idle": "2025-07-28T20:20:17.476175Z",
     "shell.execute_reply": "2025-07-28T20:20:17.474154Z"
    },
    "tags": [
     "remove-input"
    ]
   },
   "outputs": [
    {
     "data": {
      "text/markdown": [
       "All active study members who have completed at least one COVID questionnaire were asked to undergo a COVID-19 antibody finger prick test"
      ],
      "text/plain": [
       "<IPython.core.display.Markdown object>"
      ]
     },
     "metadata": {},
     "output_type": "display_data"
    }
   ],
   "source": [
    "ds.summary()"
   ]
  },
  {
   "cell_type": "code",
   "execution_count": 3,
   "id": "6eb8fdc1",
   "metadata": {
    "execution": {
     "iopub.execute_input": "2025-07-28T20:20:17.483176Z",
     "iopub.status.busy": "2025-07-28T20:20:17.482170Z",
     "iopub.status.idle": "2025-07-28T20:20:19.144512Z",
     "shell.execute_reply": "2025-07-28T20:20:19.141496Z"
    },
    "tags": [
     "remove-input"
    ]
   },
   "outputs": [
    {
     "data": {
      "text/html": [
       "<style type=\"text/css\">\n",
       "#T_9bc49 th {\n",
       "  text-align: left;\n",
       "}\n",
       "#T_9bc49_row0_col0, #T_9bc49_row0_col1, #T_9bc49_row1_col0, #T_9bc49_row1_col1, #T_9bc49_row2_col0, #T_9bc49_row2_col1, #T_9bc49_row3_col0, #T_9bc49_row3_col1, #T_9bc49_row4_col0, #T_9bc49_row4_col1, #T_9bc49_row5_col0, #T_9bc49_row5_col1, #T_9bc49_row6_col0, #T_9bc49_row6_col1, #T_9bc49_row7_col0, #T_9bc49_row7_col1, #T_9bc49_row8_col0, #T_9bc49_row8_col1, #T_9bc49_row9_col0, #T_9bc49_row9_col1, #T_9bc49_row10_col0, #T_9bc49_row10_col1, #T_9bc49_row11_col0, #T_9bc49_row11_col1, #T_9bc49_row12_col0, #T_9bc49_row12_col1 {\n",
       "  text-align: left;\n",
       "}\n",
       "</style>\n",
       "<table id=\"T_9bc49\" style=\"font-size: 14px\">\n",
       "  <thead>\n",
       "    <tr>\n",
       "      <th id=\"T_9bc49_level0_col0\" class=\"col_heading level0 col0\" >Dataset Descriptor</th>\n",
       "      <th id=\"T_9bc49_level0_col1\" class=\"col_heading level0 col1\" >Dataset-specific Information</th>\n",
       "    </tr>\n",
       "  </thead>\n",
       "  <tbody>\n",
       "    <tr>\n",
       "      <td id=\"T_9bc49_row0_col0\" class=\"data row0 col0\" >Name of Dataset in TRE</td>\n",
       "      <td id=\"T_9bc49_row0_col1\" class=\"data row0 col1\" >NSHD46_covid_antibody_test_results</td>\n",
       "    </tr>\n",
       "    <tr>\n",
       "      <td id=\"T_9bc49_row1_col0\" class=\"data row1 col0\" >Citation (APA)</td>\n",
       "      <td id=\"T_9bc49_row1_col1\" class=\"data row1 col1\" >University College London, Institute of Cardiovascular Science, Unit for Lifelong Health and Ageing. (2021). <i>Medical Research Council (MRC) National Survey of Health and Development (NSHD): COVID-19 Antibody Test Results.</i> UK Longitudinal Linkage Collaboration (UK LLC).  <a href=\"https://doi.org/10.71760/ukllc-dataset-00303-01\" rel=\"noopener noreferrer\" target=\"_blank\">https://doi.org/10.71760/ukllc-dataset-00303-01</a></td>\n",
       "    </tr>\n",
       "    <tr>\n",
       "      <td id=\"T_9bc49_row2_col0\" class=\"data row2 col0\" >Download Citation</td>\n",
       "      <td id=\"T_9bc49_row2_col1\" class=\"data row2 col1\" > <a href=\"https://api.datacite.org/application/vnd.citationstyles.csl+json/10.71760/ukllc-dataset-00303-01\" rel=\"noopener noreferrer\" target=\"_blank\">Citeproc JSON</a>&nbsp;&nbsp;&nbsp;&nbsp; <a href=\"https://api.datacite.org/application/x-bibtex/10.71760/ukllc-dataset-00303-01\" rel=\"noopener noreferrer\" target=\"_blank\">BibTeX</a>&nbsp;&nbsp;&nbsp;&nbsp; <a href=\"https://api.datacite.org/application/x-research-info-systems/10.71760/ukllc-dataset-00303-01\" rel=\"noopener noreferrer\" target=\"_blank\">RIS</a></td>\n",
       "    </tr>\n",
       "    <tr>\n",
       "      <td id=\"T_9bc49_row3_col0\" class=\"data row3 col0\" >Series</td>\n",
       "      <td id=\"T_9bc49_row3_col1\" class=\"data row3 col1\" > <a href=\"https://guidebook.ukllc.ac.uk/docs/lps_data/lps%20profiles/NSHD46\">Medical Research Council (MRC) National Survey of Health and Development (NSHD)</a></td>\n",
       "    </tr>\n",
       "    <tr>\n",
       "      <td id=\"T_9bc49_row4_col0\" class=\"data row4 col0\" >Owner</td>\n",
       "      <td id=\"T_9bc49_row4_col1\" class=\"data row4 col1\" >UCL</td>\n",
       "    </tr>\n",
       "    <tr>\n",
       "      <td id=\"T_9bc49_row5_col0\" class=\"data row5 col0\" >Temporal Coverage</td>\n",
       "      <td id=\"T_9bc49_row5_col1\" class=\"data row5 col1\" >04/2021 - 05/2021</td>\n",
       "    </tr>\n",
       "    <tr>\n",
       "      <td id=\"T_9bc49_row6_col0\" class=\"data row6 col0\" >Keywords</td>\n",
       "      <td id=\"T_9bc49_row6_col1\" class=\"data row6 col1\" ></td>\n",
       "    </tr>\n",
       "    <tr>\n",
       "      <td id=\"T_9bc49_row7_col0\" class=\"data row7 col0\" >Participants Invited</td>\n",
       "      <td id=\"T_9bc49_row7_col1\" class=\"data row7 col1\" >1431</td>\n",
       "    </tr>\n",
       "    <tr>\n",
       "      <td id=\"T_9bc49_row8_col0\" class=\"data row8 col0\" >Participant Count</td>\n",
       "      <td id=\"T_9bc49_row8_col1\" class=\"data row8 col1\" >890</td>\n",
       "    </tr>\n",
       "    <tr>\n",
       "      <td id=\"T_9bc49_row9_col0\" class=\"data row9 col0\" >Number of variables</td>\n",
       "      <td id=\"T_9bc49_row9_col1\" class=\"data row9 col1\" >17</td>\n",
       "    </tr>\n",
       "    <tr>\n",
       "      <td id=\"T_9bc49_row10_col0\" class=\"data row10 col0\" >Number of observations</td>\n",
       "      <td id=\"T_9bc49_row10_col1\" class=\"data row10 col1\" >896</td>\n",
       "    </tr>\n",
       "    <tr>\n",
       "      <td id=\"T_9bc49_row11_col0\" class=\"data row11 col0\" >Specific Restrictions to Data Use</td>\n",
       "      <td id=\"T_9bc49_row11_col1\" class=\"data row11 col1\" >None</td>\n",
       "    </tr>\n",
       "    <tr>\n",
       "      <td id=\"T_9bc49_row12_col0\" class=\"data row12 col0\" >Build a Data Request</td>\n",
       "      <td id=\"T_9bc49_row12_col1\" class=\"data row12 col1\" > <a href=\"https://explore.ukllc.ac.uk/\" rel=\"noopener noreferrer\" target=\"_blank\">https://explore.ukllc.ac.uk/</a></td>\n",
       "    </tr>\n",
       "  </tbody>\n",
       "</table>\n"
      ],
      "text/plain": [
       "<pandas.io.formats.style.Styler at 0x19e1d97c590>"
      ]
     },
     "execution_count": 3,
     "metadata": {},
     "output_type": "execute_result"
    }
   ],
   "source": [
    "ds.info_table()"
   ]
  },
  {
   "cell_type": "markdown",
   "id": "e87449af",
   "metadata": {},
   "source": [
    "## 2. Version History"
   ]
  },
  {
   "cell_type": "code",
   "execution_count": 4,
   "id": "607171bf",
   "metadata": {
    "execution": {
     "iopub.execute_input": "2025-07-28T20:20:19.152511Z",
     "iopub.status.busy": "2025-07-28T20:20:19.151510Z",
     "iopub.status.idle": "2025-07-28T20:20:24.557930Z",
     "shell.execute_reply": "2025-07-28T20:20:24.554918Z"
    },
    "tags": [
     "remove-input"
    ]
   },
   "outputs": [
    {
     "data": {
      "text/html": [
       "<style type=\"text/css\">\n",
       "#T_583ba th {\n",
       "  text-align: left;\n",
       "}\n",
       "#T_583ba_row0_col0, #T_583ba_row0_col1, #T_583ba_row1_col0, #T_583ba_row1_col1, #T_583ba_row2_col0, #T_583ba_row2_col1, #T_583ba_row3_col0, #T_583ba_row3_col1, #T_583ba_row4_col0, #T_583ba_row4_col1 {\n",
       "  text-align: left;\n",
       "}\n",
       "</style>\n",
       "<table id=\"T_583ba\" style=\"font-size: 14px\">\n",
       "  <thead>\n",
       "    <tr>\n",
       "      <th id=\"T_583ba_level0_col0\" class=\"col_heading level0 col0\" >Version</th>\n",
       "      <th id=\"T_583ba_level0_col1\" class=\"col_heading level0 col1\" >1</th>\n",
       "    </tr>\n",
       "  </thead>\n",
       "  <tbody>\n",
       "    <tr>\n",
       "      <td id=\"T_583ba_row0_col0\" class=\"data row0 col0\" >Version Date</td>\n",
       "      <td id=\"T_583ba_row0_col1\" class=\"data row0 col1\" >01 Nov 2021</td>\n",
       "    </tr>\n",
       "    <tr>\n",
       "      <td id=\"T_583ba_row1_col0\" class=\"data row1 col0\" >Number of Variables</td>\n",
       "      <td id=\"T_583ba_row1_col1\" class=\"data row1 col1\" >17</td>\n",
       "    </tr>\n",
       "    <tr>\n",
       "      <td id=\"T_583ba_row2_col0\" class=\"data row2 col0\" >Number of Observations</td>\n",
       "      <td id=\"T_583ba_row2_col1\" class=\"data row2 col1\" >896</td>\n",
       "    </tr>\n",
       "    <tr>\n",
       "      <td id=\"T_583ba_row3_col0\" class=\"data row3 col0\" >DOI</td>\n",
       "      <td id=\"T_583ba_row3_col1\" class=\"data row3 col1\" > <a href=\"https://doi.org/10.71760/ukllc-dataset-00303-01\" rel=\"noopener noreferrer\" target=\"_blank\">10.71760/ukllc-dataset-00303-01</a></td>\n",
       "    </tr>\n",
       "    <tr>\n",
       "      <td id=\"T_583ba_row4_col0\" class=\"data row4 col0\" >Change Log</td>\n",
       "      <td id=\"T_583ba_row4_col1\" class=\"data row4 col1\" > <a href=\"https://api.test.datacite.org/dois/10.71760/ukllc-dataset-00303-01/activities\" rel=\"noopener noreferrer\" target=\"_blank\">10.71760/ukllc-dataset-00303-01/activities</a></td>\n",
       "    </tr>\n",
       "  </tbody>\n",
       "</table>\n"
      ],
      "text/plain": [
       "<pandas.io.formats.style.Styler at 0x19e235dea80>"
      ]
     },
     "execution_count": 4,
     "metadata": {},
     "output_type": "execute_result"
    }
   ],
   "source": [
    "ds.version_history()"
   ]
  },
  {
   "cell_type": "markdown",
   "id": "337235ad",
   "metadata": {},
   "source": [
    "## 3. Documentation"
   ]
  },
  {
   "cell_type": "code",
   "execution_count": 5,
   "id": "2cb24f65",
   "metadata": {
    "execution": {
     "iopub.execute_input": "2025-07-28T20:20:24.566170Z",
     "iopub.status.busy": "2025-07-28T20:20:24.565179Z",
     "iopub.status.idle": "2025-07-28T20:20:24.578095Z",
     "shell.execute_reply": "2025-07-28T20:20:24.577077Z"
    },
    "tags": [
     "remove-input"
    ]
   },
   "outputs": [
    {
     "data": {
      "text/markdown": [
       "We are currently building a documentation storage system which will host useful documents related to datasets and data owners. We will surface these documents on Guidebook."
      ],
      "text/plain": [
       "<IPython.core.display.Markdown object>"
      ]
     },
     "metadata": {},
     "output_type": "display_data"
    }
   ],
   "source": [
    "ds.documentation()"
   ]
  },
  {
   "cell_type": "markdown",
   "id": "7f7df4f0",
   "metadata": {},
   "source": [
    "## 4. Useful Syntax"
   ]
  },
  {
   "cell_type": "code",
   "execution_count": 6,
   "id": "29add2ed",
   "metadata": {
    "execution": {
     "iopub.execute_input": "2025-07-28T20:20:24.586315Z",
     "iopub.status.busy": "2025-07-28T20:20:24.586315Z",
     "iopub.status.idle": "2025-07-28T20:20:24.598482Z",
     "shell.execute_reply": "2025-07-28T20:20:24.596952Z"
    },
    "tags": [
     "remove-input"
    ]
   },
   "outputs": [
    {
     "data": {
      "text/markdown": [
       "Below we will include syntax that may be helpful to other researchers in the UK LLC TRE. For longer scripts, we will include a snippet of the code plus a link to Git where you can find the full scripts."
      ],
      "text/plain": [
       "<IPython.core.display.Markdown object>"
      ]
     },
     "metadata": {},
     "output_type": "display_data"
    }
   ],
   "source": [
    "ds.useful_syntax()"
   ]
  }
 ],
 "metadata": {
  "language_info": {
   "codemirror_mode": {
    "name": "ipython",
    "version": 3
   },
   "file_extension": ".py",
   "mimetype": "text/x-python",
   "name": "python",
   "nbconvert_exporter": "python",
   "pygments_lexer": "ipython3",
   "version": "3.12.7"
  }
 },
 "nbformat": 4,
 "nbformat_minor": 5
}
