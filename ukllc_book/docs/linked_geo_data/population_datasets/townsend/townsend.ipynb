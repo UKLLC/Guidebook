{
 "cells": [
  {
   "cell_type": "markdown",
   "id": "ec4bdf5d",
   "metadata": {},
   "source": [
    "# Townsend Deprivation Index "
   ]
  },
  {
   "cell_type": "code",
   "execution_count": 12,
   "id": "0fe3ef05",
   "metadata": {
    "tags": [
     "remove-input"
    ]
   },
   "outputs": [
    {
     "data": {
      "text/markdown": [
       ">Last modified: 12 Sep 2025"
      ],
      "text/plain": [
       "<IPython.core.display.Markdown object>"
      ]
     },
     "metadata": {},
     "output_type": "display_data"
    }
   ],
   "source": [
    "from IPython.display import display, Markdown\n",
    "import sys\n",
    "import os\n",
    "sys.path.append(os.path.abspath('../../../scripts/'))\n",
    "from data_doc_helper import PlaceDataSet as DS, last_modified\n",
    "last_modified()\n"
   ]
  },
  {
   "cell_type": "code",
   "execution_count": 13,
   "id": "389cd087",
   "metadata": {
    "tags": [
     "remove-input"
    ]
   },
   "outputs": [
    {
     "data": {
      "text/markdown": [
       "<div style=\"background-color: rgba(0, 178, 169, 0.3); padding: 5px; border-radius: 5px;\"><strong>UK LLC provides a 2021 version of the Townsend Deprivation Index for England and Wales at the Census Output Area level.</strong></div>"
      ],
      "text/plain": [
       "<IPython.core.display.Markdown object>"
      ]
     },
     "metadata": {},
     "output_type": "display_data"
    }
   ],
   "source": [
    "display(Markdown('<div style=\"background-color: rgba(0, 178, 169, 0.3); padding: 5px; border-radius: 5px;\"><strong>UK LLC provides a 2021 version of the Townsend Deprivation Index for England and Wales at the Census Output Area level.</strong></div>'))"
   ]
  },
  {
   "cell_type": "code",
   "execution_count": 14,
   "id": "70a8c233",
   "metadata": {
    "tags": [
     "remove-input"
    ]
   },
   "outputs": [
    {
     "data": {
      "text/markdown": [
       "<div style=\"background-color: rgb(229, 106, 84, 0.3); padding: 5px; border-radius: 5px;\"><strong>More information about this dataset is available <a href=\"Understanding_townsend.html\" target=\"_blank\">here.</a></strong></div>"
      ],
      "text/plain": [
       "<IPython.core.display.Markdown object>"
      ]
     },
     "metadata": {},
     "output_type": "display_data"
    }
   ],
   "source": [
    "display(Markdown('<div style=\"background-color: rgb(229, 106, 84, 0.3); padding: 5px; border-radius: 5px;\"><strong>More information about this dataset is available <a href=\"Understanding_townsend.html\" target=\"_blank\">here.</a></strong></div>'))"
   ]
  },
  {
   "cell_type": "markdown",
   "id": "f5e5d145",
   "metadata": {},
   "source": [
    "## Townsend Index \n",
    "\n",
    "The Townsend index [(1989)](https://doi.org/10.4324/9781003368885) is a relative indicator of material deprivation, which has been widely used to identify socio‐economic confounding in crime, education, and health research in England. This dataset is a 2021 version of the Townsend Index [Jephcote and Gulliver (2025)](https://doi.org/10.6084/m9.figshare.27073906). \n",
    "\n",
    "## 1. Summary"
   ]
  },
  {
   "cell_type": "code",
   "execution_count": 15,
   "id": "6b0b317a",
   "metadata": {
    "tags": [
     "remove-input"
    ]
   },
   "outputs": [
    {
     "data": {
      "text/markdown": [
       "### townsend_england_wales"
      ],
      "text/plain": [
       "<IPython.core.display.Markdown object>"
      ]
     },
     "metadata": {},
     "output_type": "display_data"
    }
   ],
   "source": [
    "display(Markdown('### townsend_england_wales'))"
   ]
  },
  {
   "cell_type": "code",
   "execution_count": 16,
   "id": "a0e5b8ea",
   "metadata": {
    "tags": [
     "remove-input",
     "hide-cell"
    ]
   },
   "outputs": [
    {
     "data": {
      "text/html": [
       "<style type=\"text/css\">\n",
       "#T_9a65e th {\n",
       "  text-align: left;\n",
       "}\n",
       "#T_9a65e_row0_col0, #T_9a65e_row0_col1, #T_9a65e_row1_col0, #T_9a65e_row1_col1, #T_9a65e_row2_col0, #T_9a65e_row2_col1, #T_9a65e_row3_col0, #T_9a65e_row3_col1, #T_9a65e_row4_col0, #T_9a65e_row4_col1, #T_9a65e_row5_col0, #T_9a65e_row5_col1, #T_9a65e_row6_col0, #T_9a65e_row6_col1, #T_9a65e_row7_col0, #T_9a65e_row7_col1, #T_9a65e_row8_col0, #T_9a65e_row8_col1, #T_9a65e_row9_col0, #T_9a65e_row9_col1, #T_9a65e_row10_col0, #T_9a65e_row10_col1, #T_9a65e_row11_col0, #T_9a65e_row11_col1, #T_9a65e_row12_col0, #T_9a65e_row12_col1, #T_9a65e_row13_col0, #T_9a65e_row13_col1, #T_9a65e_row14_col0, #T_9a65e_row14_col1 {\n",
       "  text-align: left;\n",
       "}\n",
       "</style>\n",
       "<table id=\"T_9a65e\" style=\"font-size: 14px\">\n",
       "  <thead>\n",
       "    <tr>\n",
       "      <th id=\"T_9a65e_level0_col0\" class=\"col_heading level0 col0\" >Dataset Descriptor</th>\n",
       "      <th id=\"T_9a65e_level0_col1\" class=\"col_heading level0 col1\" >Dataset-specific Information</th>\n",
       "    </tr>\n",
       "  </thead>\n",
       "  <tbody>\n",
       "    <tr>\n",
       "      <td id=\"T_9a65e_row0_col0\" class=\"data row0 col0\" >Name of Dataset in TRE</td>\n",
       "      <td id=\"T_9a65e_row0_col1\" class=\"data row0 col1\" >PLACE_townsend_england_wales</td>\n",
       "    </tr>\n",
       "    <tr>\n",
       "      <td id=\"T_9a65e_row1_col0\" class=\"data row1 col0\" >Citation (APA)</td>\n",
       "      <td id=\"T_9a65e_row1_col1\" class=\"data row1 col1\" >University of Leicester, Centre for Environmental Health and Sustainability and City St George's, University of London, Population Health Research Institute. (2025). <i>Place based data: Townsend Index England Wales.</i> UK Longitudinal Linkage Collaboration (UK LLC).  <a href=\"https://doi.org/10.71760/ukllc-dataset-00436-01\" rel=\"noopener noreferrer\" target=\"_blank\">https://doi.org/10.71760/ukllc-dataset-00436-01</a></td>\n",
       "    </tr>\n",
       "    <tr>\n",
       "      <td id=\"T_9a65e_row2_col0\" class=\"data row2 col0\" >Download Citation</td>\n",
       "      <td id=\"T_9a65e_row2_col1\" class=\"data row2 col1\" > <a href=\"https://api.datacite.org/application/vnd.citationstyles.csl+json/10.71760/ukllc-dataset-00436-01\" rel=\"noopener noreferrer\" target=\"_blank\">Citeproc JSON</a>&nbsp;&nbsp;&nbsp;&nbsp; <a href=\"https://api.datacite.org/application/x-bibtex/10.71760/ukllc-dataset-00436-01\" rel=\"noopener noreferrer\" target=\"_blank\">BibTeX</a>&nbsp;&nbsp;&nbsp;&nbsp; <a href=\"https://api.datacite.org/application/x-research-info-systems/10.71760/ukllc-dataset-00436-01\" rel=\"noopener noreferrer\" target=\"_blank\">RIS</a></td>\n",
       "    </tr>\n",
       "    <tr>\n",
       "      <td id=\"T_9a65e_row3_col0\" class=\"data row3 col0\" >Owner</td>\n",
       "      <td id=\"T_9a65e_row3_col1\" class=\"data row3 col1\" >University of Leicester and St George's, University of London</td>\n",
       "    </tr>\n",
       "    <tr>\n",
       "      <td id=\"T_9a65e_row4_col0\" class=\"data row4 col0\" >Authors</td>\n",
       "      <td id=\"T_9a65e_row4_col1\" class=\"data row4 col1\" >Calvin Jephcote (University of Leicester) and John Gulliver (City St George's, University of London)</td>\n",
       "    </tr>\n",
       "    <tr>\n",
       "      <td id=\"T_9a65e_row5_col0\" class=\"data row5 col0\" >Temporal Coverage</td>\n",
       "      <td id=\"T_9a65e_row5_col1\" class=\"data row5 col1\" >01/2021 - 12/2021</td>\n",
       "    </tr>\n",
       "    <tr>\n",
       "      <td id=\"T_9a65e_row6_col0\" class=\"data row6 col0\" >Geographical Coverage</td>\n",
       "      <td id=\"T_9a65e_row6_col1\" class=\"data row6 col1\" >England and Wales</td>\n",
       "    </tr>\n",
       "    <tr>\n",
       "      <td id=\"T_9a65e_row7_col0\" class=\"data row7 col0\" >Participant Count</td>\n",
       "      <td id=\"T_9a65e_row7_col1\" class=\"data row7 col1\" >None</td>\n",
       "    </tr>\n",
       "    <tr>\n",
       "      <td id=\"T_9a65e_row8_col0\" class=\"data row8 col0\" >Number of Variables</td>\n",
       "      <td id=\"T_9a65e_row8_col1\" class=\"data row8 col1\" >6</td>\n",
       "    </tr>\n",
       "    <tr>\n",
       "      <td id=\"T_9a65e_row9_col0\" class=\"data row9 col0\" >Number of Observations</td>\n",
       "      <td id=\"T_9a65e_row9_col1\" class=\"data row9 col1\" >188879</td>\n",
       "    </tr>\n",
       "    <tr>\n",
       "      <td id=\"T_9a65e_row10_col0\" class=\"data row10 col0\" >Key Link</td>\n",
       "      <td id=\"T_9a65e_row10_col1\" class=\"data row10 col1\" > <a href=\" https://doi.org/10.1016/j.envint.2025.109304 \" rel=\"noopener noreferrer\" target=\"_blank\"> https://doi.org/10.1016/j.envint.2025.109304 </a></td>\n",
       "    </tr>\n",
       "    <tr>\n",
       "      <td id=\"T_9a65e_row11_col0\" class=\"data row11 col0\" >Keywords</td>\n",
       "      <td id=\"T_9a65e_row11_col1\" class=\"data row11 col1\" >townsend,index,deprivation</td>\n",
       "    </tr>\n",
       "    <tr>\n",
       "      <td id=\"T_9a65e_row12_col0\" class=\"data row12 col0\" >Latest Extract Date</td>\n",
       "      <td id=\"T_9a65e_row12_col1\" class=\"data row12 col1\" >TBC</td>\n",
       "    </tr>\n",
       "    <tr>\n",
       "      <td id=\"T_9a65e_row13_col0\" class=\"data row13 col0\" >Specific Restrictions to Data Use</td>\n",
       "      <td id=\"T_9a65e_row13_col1\" class=\"data row13 col1\" >None</td>\n",
       "    </tr>\n",
       "    <tr>\n",
       "      <td id=\"T_9a65e_row14_col0\" class=\"data row14 col0\" >Build a Data Request</td>\n",
       "      <td id=\"T_9a65e_row14_col1\" class=\"data row14 col1\" > <a href=\"https://explore.ukllc.ac.uk/\" rel=\"noopener noreferrer\" target=\"_blank\">https://explore.ukllc.ac.uk/</a></td>\n",
       "    </tr>\n",
       "  </tbody>\n",
       "</table>\n"
      ],
      "text/plain": [
       "<pandas.io.formats.style.Styler at 0x27296462e90>"
      ]
     },
     "execution_count": 16,
     "metadata": {},
     "output_type": "execute_result"
    }
   ],
   "source": [
    "DS(\"townsend_england_wales\").info_table()"
   ]
  },
  {
   "cell_type": "markdown",
   "id": "10547426",
   "metadata": {},
   "source": [
    "## 2. Variables"
   ]
  },
  {
   "cell_type": "code",
   "execution_count": 17,
   "id": "35dfd0a3",
   "metadata": {
    "tags": [
     "remove-input"
    ]
   },
   "outputs": [
    {
     "data": {
      "text/markdown": [
       "### townsend_england_wales"
      ],
      "text/plain": [
       "<IPython.core.display.Markdown object>"
      ]
     },
     "metadata": {},
     "output_type": "display_data"
    }
   ],
   "source": [
    "display(Markdown('### townsend_england_wales'))"
   ]
  },
  {
   "cell_type": "code",
   "execution_count": 18,
   "id": "17887a22",
   "metadata": {
    "tags": [
     "remove-input",
     "hide-cell"
    ]
   },
   "outputs": [
    {
     "data": {
      "text/html": [
       "<style type=\"text/css\">\n",
       "#T_e9da5 th {\n",
       "  text-align: left;\n",
       "}\n",
       "#T_e9da5_row0_col0, #T_e9da5_row0_col1, #T_e9da5_row0_col2, #T_e9da5_row0_col3, #T_e9da5_row0_col4, #T_e9da5_row1_col0, #T_e9da5_row1_col1, #T_e9da5_row1_col2, #T_e9da5_row1_col3, #T_e9da5_row1_col4, #T_e9da5_row2_col0, #T_e9da5_row2_col1, #T_e9da5_row2_col2, #T_e9da5_row2_col3, #T_e9da5_row2_col4, #T_e9da5_row3_col0, #T_e9da5_row3_col1, #T_e9da5_row3_col2, #T_e9da5_row3_col3, #T_e9da5_row3_col4 {\n",
       "  text-align: left;\n",
       "}\n",
       "</style>\n",
       "<table id=\"T_e9da5\" style=\"font-size: 14px\">\n",
       "  <thead>\n",
       "    <tr>\n",
       "      <th id=\"T_e9da5_level0_col0\" class=\"col_heading level0 col0\" >Variable Group</th>\n",
       "      <th id=\"T_e9da5_level0_col1\" class=\"col_heading level0 col1\" >Variable</th>\n",
       "      <th id=\"T_e9da5_level0_col2\" class=\"col_heading level0 col2\" >Description</th>\n",
       "      <th id=\"T_e9da5_level0_col3\" class=\"col_heading level0 col3\" >Source</th>\n",
       "      <th id=\"T_e9da5_level0_col4\" class=\"col_heading level0 col4\" >Date range of data</th>\n",
       "    </tr>\n",
       "  </thead>\n",
       "  <tbody>\n",
       "    <tr>\n",
       "      <td id=\"T_e9da5_row0_col0\" class=\"data row0 col0\" >Deprivation</td>\n",
       "      <td id=\"T_e9da5_row0_col1\" class=\"data row0 col1\" >townsend_q5</td>\n",
       "      <td id=\"T_e9da5_row0_col2\" class=\"data row0 col2\" >The 'Townsend index' converted into quintiles (5 classes). Quintile 5 represents 20% of the COA communities that were considered the most deprived in 2021.</td>\n",
       "      <td id=\"T_e9da5_row0_col3\" class=\"data row0 col3\" >University of Leicester, City St George's, University of London</td>\n",
       "      <td id=\"T_e9da5_row0_col4\" class=\"data row0 col4\" >2021</td>\n",
       "    </tr>\n",
       "    <tr>\n",
       "      <td id=\"T_e9da5_row1_col0\" class=\"data row1 col0\" >Deprivation</td>\n",
       "      <td id=\"T_e9da5_row1_col1\" class=\"data row1 col1\" >townsend_q10</td>\n",
       "      <td id=\"T_e9da5_row1_col2\" class=\"data row1 col2\" >The 'Townsend index' converted into deciles (10 classes). Decile 10 represents 10% of the COA communities that were considered the most deprived in 2021.</td>\n",
       "      <td id=\"T_e9da5_row1_col3\" class=\"data row1 col3\" >University of Leicester, City St George's, University of London</td>\n",
       "      <td id=\"T_e9da5_row1_col4\" class=\"data row1 col4\" >2021</td>\n",
       "    </tr>\n",
       "    <tr>\n",
       "      <td id=\"T_e9da5_row2_col0\" class=\"data row2 col0\" >Geography</td>\n",
       "      <td id=\"T_e9da5_row2_col1\" class=\"data row2 col1\" >ctry</td>\n",
       "      <td id=\"T_e9da5_row2_col2\" class=\"data row2 col2\" >Country</td>\n",
       "      <td id=\"T_e9da5_row2_col3\" class=\"data row2 col3\" >Office of National Statistics</td>\n",
       "      <td id=\"T_e9da5_row2_col4\" class=\"data row2 col4\" >2011</td>\n",
       "    </tr>\n",
       "    <tr>\n",
       "      <td id=\"T_e9da5_row3_col0\" class=\"data row3 col0\" >UK LLC </td>\n",
       "      <td id=\"T_e9da5_row3_col1\" class=\"data row3 col1\" >avail_from_dt</td>\n",
       "      <td id=\"T_e9da5_row3_col2\" class=\"data row3 col2\" >None</td>\n",
       "      <td id=\"T_e9da5_row3_col3\" class=\"data row3 col3\" >UK LLC</td>\n",
       "      <td id=\"T_e9da5_row3_col4\" class=\"data row3 col4\" >None</td>\n",
       "    </tr>\n",
       "  </tbody>\n",
       "</table>\n"
      ],
      "text/plain": [
       "<pandas.io.formats.style.Styler at 0x27294a07ed0>"
      ]
     },
     "execution_count": 18,
     "metadata": {},
     "output_type": "execute_result"
    }
   ],
   "source": [
    "DS(\"townsend_england_wales\").variable_table()"
   ]
  },
  {
   "cell_type": "markdown",
   "id": "4705ea18",
   "metadata": {},
   "source": [
    "## 3. Metrics"
   ]
  },
  {
   "cell_type": "code",
   "execution_count": 19,
   "id": "66756281",
   "metadata": {
    "tags": [
     "remove-input"
    ]
   },
   "outputs": [
    {
     "data": {
      "text/markdown": [
       "TBC"
      ],
      "text/plain": [
       "<IPython.core.display.Markdown object>"
      ]
     },
     "metadata": {},
     "output_type": "display_data"
    }
   ],
   "source": [
    "display(Markdown('TBC'))"
   ]
  },
  {
   "cell_type": "markdown",
   "id": "992091a7",
   "metadata": {},
   "source": [
    "## 4. Version History"
   ]
  },
  {
   "cell_type": "code",
   "execution_count": 20,
   "id": "69571d0d",
   "metadata": {
    "tags": [
     "remove-input"
    ]
   },
   "outputs": [
    {
     "data": {
      "text/markdown": [
       "TBC"
      ],
      "text/plain": [
       "<IPython.core.display.Markdown object>"
      ]
     },
     "metadata": {},
     "output_type": "display_data"
    }
   ],
   "source": [
    "display(Markdown('TBC'))"
   ]
  },
  {
   "cell_type": "markdown",
   "id": "0acfb062",
   "metadata": {},
   "source": [
    "## 5. Documentation"
   ]
  },
  {
   "cell_type": "code",
   "execution_count": 21,
   "id": "b5a900e4",
   "metadata": {
    "tags": [
     "remove-input"
    ]
   },
   "outputs": [
    {
     "data": {
      "text/markdown": [
       "We are currently building a documentation storage system which will host useful documents related to datasets and data owners. We will surface these documents on Guidebook."
      ],
      "text/plain": [
       "<IPython.core.display.Markdown object>"
      ]
     },
     "metadata": {},
     "output_type": "display_data"
    }
   ],
   "source": [
    "DS(\"townsend_england_wales\").documentation()"
   ]
  },
  {
   "cell_type": "markdown",
   "id": "1cf8b659",
   "metadata": {},
   "source": [
    "## 6. Useful Syntax"
   ]
  },
  {
   "cell_type": "code",
   "execution_count": 22,
   "id": "c1392740",
   "metadata": {
    "tags": [
     "remove-input"
    ]
   },
   "outputs": [
    {
     "data": {
      "text/markdown": [
       "Below we will include syntax that may be helpful to other researchers in the UK LLC TRE. For longer scripts, we will include a snippet of the code plus a link to the [UK LLC GitHub](https://github.com/UKLLC) repository where you can find the full scripts."
      ],
      "text/plain": [
       "<IPython.core.display.Markdown object>"
      ]
     },
     "metadata": {},
     "output_type": "display_data"
    }
   ],
   "source": [
    "DS(\"townsend_england_wales\").useful_syntax()"
   ]
  }
 ],
 "metadata": {
  "kernelspec": {
   "display_name": "jupbook",
   "language": "python",
   "name": "python3"
  },
  "language_info": {
   "codemirror_mode": {
    "name": "ipython",
    "version": 3
   },
   "file_extension": ".py",
   "mimetype": "text/x-python",
   "name": "python",
   "nbconvert_exporter": "python",
   "pygments_lexer": "ipython3",
   "version": "3.13.2"
  },
  "mystnb": {
   "code_prompt_hide": "Hide Information",
   "code_prompt_show": "Show Information"
  }
 },
 "nbformat": 4,
 "nbformat_minor": 5
}
