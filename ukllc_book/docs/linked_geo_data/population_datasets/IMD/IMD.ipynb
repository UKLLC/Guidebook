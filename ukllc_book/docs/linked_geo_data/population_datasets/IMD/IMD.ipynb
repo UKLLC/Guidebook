{
 "cells": [
  {
   "cell_type": "markdown",
   "id": "ec4bdf5d",
   "metadata": {},
   "source": [
    "# Index of Multiple Deprivation (IMD)"
   ]
  },
  {
   "cell_type": "code",
   "execution_count": 14,
   "id": "0fe3ef05",
   "metadata": {
    "tags": [
     "remove-input"
    ]
   },
   "outputs": [
    {
     "data": {
      "text/markdown": [
       ">Last modified: 12 Sep 2025"
      ],
      "text/plain": [
       "<IPython.core.display.Markdown object>"
      ]
     },
     "metadata": {},
     "output_type": "display_data"
    }
   ],
   "source": [
    "from IPython.display import display, Markdown\n",
    "import sys\n",
    "import os\n",
    "sys.path.append(os.path.abspath('../../../scripts/'))\n",
    "from data_doc_helper import PlaceDataSet as DS, last_modified\n",
    "last_modified()"
   ]
  },
  {
   "cell_type": "code",
   "execution_count": 15,
   "id": "389cd087",
   "metadata": {
    "tags": [
     "remove-input"
    ]
   },
   "outputs": [
    {
     "data": {
      "text/markdown": [
       "<div style=\"background-color: rgba(0, 178, 169, 0.3); padding: 5px; border-radius: 5px;\"><strong>UK LLC provides a dataset containing UK-wide harmonised measures of indices of multiple deprivation, an urban-rural indicator and population density.</strong></div>"
      ],
      "text/plain": [
       "<IPython.core.display.Markdown object>"
      ]
     },
     "metadata": {},
     "output_type": "display_data"
    }
   ],
   "source": [
    "display(Markdown('<div style=\"background-color: rgba(0, 178, 169, 0.3); padding: 5px; border-radius: 5px;\"><strong>UK LLC provides a dataset containing UK-wide harmonised measures of indices of multiple deprivation, an urban-rural indicator and population density.</strong></div>'))"
   ]
  },
  {
   "cell_type": "code",
   "execution_count": 16,
   "id": "70a8c233",
   "metadata": {
    "tags": [
     "remove-input"
    ]
   },
   "outputs": [
    {
     "data": {
      "text/markdown": [
       "<div style=\"background-color: rgb(229, 106, 84, 0.3); padding: 5px; border-radius: 5px;\"><strong>More information about this dataset is available <a href=\"Understanding_IMD.html\" target=\"_blank\">here.</a></strong></div>"
      ],
      "text/plain": [
       "<IPython.core.display.Markdown object>"
      ]
     },
     "metadata": {},
     "output_type": "display_data"
    }
   ],
   "source": [
    "display(Markdown('<div style=\"background-color: rgb(229, 106, 84, 0.3); padding: 5px; border-radius: 5px;\"><strong>More information about this dataset is available <a href=\"Understanding_IMD.html\" target=\"_blank\">here.</a></strong></div>'))"
   ]
  },
  {
   "cell_type": "markdown",
   "id": "f5e5d145",
   "metadata": {},
   "source": [
    "## IMD, urban/rural classification and population estimates\n",
    "\n",
    "This dataset is made up of the following three sources of data: Index of Multiple Deprivation, an Urban-Rural Indicator and Population Estimates.\n",
    "\n",
    "The Index of Deprivation datasets differ across the four UK nations, but each provide small area measures of relative deprivation. Each national index ranks areas from most deprived to least deprived, based on measures of deprivation such as income, education, health and employment.\n",
    "\n",
    "Urban-Rural classifications also differ across the four nations but overall provide an indicator of which areas rural and which are urban based on characteristics such as dwelling densities and distance to major towns and cities.\n",
    "\n",
    "The National Records of Scotland (NRS), Northern Ireland Statistics and Research Agency (NISRA) and the Office of National Statistics (ONS) produce national mid-year population estimates. \n",
    "\n",
    "This dataset also includes harmonised variables for the [Indices of Multiple Deprivation](https://data.geods.ac.uk/dataset/index-of-multiple-deprivation-imd) and [Urban-Rural classification](https://pages.mysociety.org/uk_ruc/analysis/background_and_analysis.html) across the UK.\n",
    "\n",
    "\n",
    "## 1. Summary"
   ]
  },
  {
   "cell_type": "code",
   "execution_count": 17,
   "id": "6b0b317a",
   "metadata": {
    "tags": [
     "remove-input"
    ]
   },
   "outputs": [
    {
     "data": {
      "text/markdown": [
       "### imd_england"
      ],
      "text/plain": [
       "<IPython.core.display.Markdown object>"
      ]
     },
     "metadata": {},
     "output_type": "display_data"
    }
   ],
   "source": [
    "display(Markdown('### imd_england'))"
   ]
  },
  {
   "cell_type": "code",
   "execution_count": 18,
   "id": "a0e5b8ea",
   "metadata": {
    "tags": [
     "remove-input",
     "hide-cell"
    ]
   },
   "outputs": [
    {
     "data": {
      "text/html": [
       "<style type=\"text/css\">\n",
       "#T_0a687 th {\n",
       "  text-align: left;\n",
       "}\n",
       "#T_0a687_row0_col0, #T_0a687_row0_col1, #T_0a687_row1_col0, #T_0a687_row1_col1, #T_0a687_row2_col0, #T_0a687_row2_col1, #T_0a687_row3_col0, #T_0a687_row3_col1, #T_0a687_row4_col0, #T_0a687_row4_col1, #T_0a687_row5_col0, #T_0a687_row5_col1, #T_0a687_row6_col0, #T_0a687_row6_col1, #T_0a687_row7_col0, #T_0a687_row7_col1, #T_0a687_row8_col0, #T_0a687_row8_col1, #T_0a687_row9_col0, #T_0a687_row9_col1, #T_0a687_row10_col0, #T_0a687_row10_col1, #T_0a687_row11_col0, #T_0a687_row11_col1, #T_0a687_row12_col0, #T_0a687_row12_col1, #T_0a687_row13_col0, #T_0a687_row13_col1, #T_0a687_row14_col0, #T_0a687_row14_col1 {\n",
       "  text-align: left;\n",
       "}\n",
       "</style>\n",
       "<table id=\"T_0a687\" style=\"font-size: 14px\">\n",
       "  <thead>\n",
       "    <tr>\n",
       "      <th id=\"T_0a687_level0_col0\" class=\"col_heading level0 col0\" >Dataset Descriptor</th>\n",
       "      <th id=\"T_0a687_level0_col1\" class=\"col_heading level0 col1\" >Dataset-specific Information</th>\n",
       "    </tr>\n",
       "  </thead>\n",
       "  <tbody>\n",
       "    <tr>\n",
       "      <td id=\"T_0a687_row0_col0\" class=\"data row0 col0\" >Name of Dataset in TRE</td>\n",
       "      <td id=\"T_0a687_row0_col1\" class=\"data row0 col1\" >PLACE_imd_england</td>\n",
       "    </tr>\n",
       "    <tr>\n",
       "      <td id=\"T_0a687_row1_col0\" class=\"data row1 col0\" >Citation (APA)</td>\n",
       "      <td id=\"T_0a687_row1_col1\" class=\"data row1 col1\" >UK Longitudinal Linkage Collaboration. (2025). <i>Place based data: IMD England.</i> UK Longitudinal Linkage Collaboration (UK LLC).  <a href=\"https://doi.org/10.71760/ukllc-dataset-00424-01\" rel=\"noopener noreferrer\" target=\"_blank\">https://doi.org/10.71760/ukllc-dataset-00424-01</a></td>\n",
       "    </tr>\n",
       "    <tr>\n",
       "      <td id=\"T_0a687_row2_col0\" class=\"data row2 col0\" >Download Citation</td>\n",
       "      <td id=\"T_0a687_row2_col1\" class=\"data row2 col1\" > <a href=\"https://api.datacite.org/application/vnd.citationstyles.csl+json/10.71760/ukllc-dataset-00424-01\" rel=\"noopener noreferrer\" target=\"_blank\">Citeproc JSON</a>&nbsp;&nbsp;&nbsp;&nbsp; <a href=\"https://api.datacite.org/application/x-bibtex/10.71760/ukllc-dataset-00424-01\" rel=\"noopener noreferrer\" target=\"_blank\">BibTeX</a>&nbsp;&nbsp;&nbsp;&nbsp; <a href=\"https://api.datacite.org/application/x-research-info-systems/10.71760/ukllc-dataset-00424-01\" rel=\"noopener noreferrer\" target=\"_blank\">RIS</a></td>\n",
       "    </tr>\n",
       "    <tr>\n",
       "      <td id=\"T_0a687_row3_col0\" class=\"data row3 col0\" >Owner</td>\n",
       "      <td id=\"T_0a687_row3_col1\" class=\"data row3 col1\" >UK Longitudinal Linkage Collaboration</td>\n",
       "    </tr>\n",
       "    <tr>\n",
       "      <td id=\"T_0a687_row4_col0\" class=\"data row4 col0\" >Authors</td>\n",
       "      <td id=\"T_0a687_row4_col1\" class=\"data row4 col1\" >UK Longitudinal Linkage Collaboration</td>\n",
       "    </tr>\n",
       "    <tr>\n",
       "      <td id=\"T_0a687_row5_col0\" class=\"data row5 col0\" >Temporal Coverage</td>\n",
       "      <td id=\"T_0a687_row5_col1\" class=\"data row5 col1\" >01/2011 - 12/2020</td>\n",
       "    </tr>\n",
       "    <tr>\n",
       "      <td id=\"T_0a687_row6_col0\" class=\"data row6 col0\" >Geographical Coverage</td>\n",
       "      <td id=\"T_0a687_row6_col1\" class=\"data row6 col1\" >England</td>\n",
       "    </tr>\n",
       "    <tr>\n",
       "      <td id=\"T_0a687_row7_col0\" class=\"data row7 col0\" >Participant Count</td>\n",
       "      <td id=\"T_0a687_row7_col1\" class=\"data row7 col1\" >None</td>\n",
       "    </tr>\n",
       "    <tr>\n",
       "      <td id=\"T_0a687_row8_col0\" class=\"data row8 col0\" >Number of Variables</td>\n",
       "      <td id=\"T_0a687_row8_col1\" class=\"data row8 col1\" >16</td>\n",
       "    </tr>\n",
       "    <tr>\n",
       "      <td id=\"T_0a687_row9_col0\" class=\"data row9 col0\" >Number of Observations</td>\n",
       "      <td id=\"T_0a687_row9_col1\" class=\"data row9 col1\" >32844</td>\n",
       "    </tr>\n",
       "    <tr>\n",
       "      <td id=\"T_0a687_row10_col0\" class=\"data row10 col0\" >Key Link</td>\n",
       "      <td id=\"T_0a687_row10_col1\" class=\"data row10 col1\" > <a href=\" https://guidebook.ukllc.ac.uk/docs/linked_geo_data/place_based_intro\" rel=\"noopener noreferrer\" target=\"_blank\"> https://guidebook.ukllc.ac.uk/docs/linked_geo_data/place_based_intro</a></td>\n",
       "    </tr>\n",
       "    <tr>\n",
       "      <td id=\"T_0a687_row11_col0\" class=\"data row11 col0\" >Keywords</td>\n",
       "      <td id=\"T_0a687_row11_col1\" class=\"data row11 col1\" >IMD,deprivation,population,urban-rural</td>\n",
       "    </tr>\n",
       "    <tr>\n",
       "      <td id=\"T_0a687_row12_col0\" class=\"data row12 col0\" >Latest Extract Date</td>\n",
       "      <td id=\"T_0a687_row12_col1\" class=\"data row12 col1\" >TBC</td>\n",
       "    </tr>\n",
       "    <tr>\n",
       "      <td id=\"T_0a687_row13_col0\" class=\"data row13 col0\" >Specific Restrictions to Data Use</td>\n",
       "      <td id=\"T_0a687_row13_col1\" class=\"data row13 col1\" >None</td>\n",
       "    </tr>\n",
       "    <tr>\n",
       "      <td id=\"T_0a687_row14_col0\" class=\"data row14 col0\" >Build a Data Request</td>\n",
       "      <td id=\"T_0a687_row14_col1\" class=\"data row14 col1\" > <a href=\"https://explore.ukllc.ac.uk/\" rel=\"noopener noreferrer\" target=\"_blank\">https://explore.ukllc.ac.uk/</a></td>\n",
       "    </tr>\n",
       "  </tbody>\n",
       "</table>\n"
      ],
      "text/plain": [
       "<pandas.io.formats.style.Styler at 0x295e6ddd090>"
      ]
     },
     "execution_count": 18,
     "metadata": {},
     "output_type": "execute_result"
    }
   ],
   "source": [
    "DS(\"imd_england\").info_table()"
   ]
  },
  {
   "cell_type": "code",
   "execution_count": 19,
   "id": "749d3522",
   "metadata": {
    "tags": [
     "remove-input"
    ]
   },
   "outputs": [
    {
     "data": {
      "text/markdown": [
       "### imd_northern_ireland"
      ],
      "text/plain": [
       "<IPython.core.display.Markdown object>"
      ]
     },
     "metadata": {},
     "output_type": "display_data"
    }
   ],
   "source": [
    "display(Markdown('### imd_northern_ireland'))"
   ]
  },
  {
   "cell_type": "code",
   "execution_count": 20,
   "id": "dc35de10",
   "metadata": {
    "tags": [
     "remove-input",
     "hide-cell"
    ]
   },
   "outputs": [
    {
     "data": {
      "text/html": [
       "<style type=\"text/css\">\n",
       "#T_20f10 th {\n",
       "  text-align: left;\n",
       "}\n",
       "#T_20f10_row0_col0, #T_20f10_row0_col1, #T_20f10_row1_col0, #T_20f10_row1_col1, #T_20f10_row2_col0, #T_20f10_row2_col1, #T_20f10_row3_col0, #T_20f10_row3_col1, #T_20f10_row4_col0, #T_20f10_row4_col1, #T_20f10_row5_col0, #T_20f10_row5_col1, #T_20f10_row6_col0, #T_20f10_row6_col1, #T_20f10_row7_col0, #T_20f10_row7_col1, #T_20f10_row8_col0, #T_20f10_row8_col1, #T_20f10_row9_col0, #T_20f10_row9_col1, #T_20f10_row10_col0, #T_20f10_row10_col1, #T_20f10_row11_col0, #T_20f10_row11_col1, #T_20f10_row12_col0, #T_20f10_row12_col1, #T_20f10_row13_col0, #T_20f10_row13_col1, #T_20f10_row14_col0, #T_20f10_row14_col1 {\n",
       "  text-align: left;\n",
       "}\n",
       "</style>\n",
       "<table id=\"T_20f10\" style=\"font-size: 14px\">\n",
       "  <thead>\n",
       "    <tr>\n",
       "      <th id=\"T_20f10_level0_col0\" class=\"col_heading level0 col0\" >Dataset Descriptor</th>\n",
       "      <th id=\"T_20f10_level0_col1\" class=\"col_heading level0 col1\" >Dataset-specific Information</th>\n",
       "    </tr>\n",
       "  </thead>\n",
       "  <tbody>\n",
       "    <tr>\n",
       "      <td id=\"T_20f10_row0_col0\" class=\"data row0 col0\" >Name of Dataset in TRE</td>\n",
       "      <td id=\"T_20f10_row0_col1\" class=\"data row0 col1\" >PLACE_imd_northern_ireland</td>\n",
       "    </tr>\n",
       "    <tr>\n",
       "      <td id=\"T_20f10_row1_col0\" class=\"data row1 col0\" >Citation (APA)</td>\n",
       "      <td id=\"T_20f10_row1_col1\" class=\"data row1 col1\" >UK Longitudinal Linkage Collaboration. (2025). <i>Place based data: IMD Northern Ireland.</i> UK Longitudinal Linkage Collaboration (UK LLC).  <a href=\"https://doi.org/10.71760/ukllc-dataset-00425-01\" rel=\"noopener noreferrer\" target=\"_blank\">https://doi.org/10.71760/ukllc-dataset-00425-01</a></td>\n",
       "    </tr>\n",
       "    <tr>\n",
       "      <td id=\"T_20f10_row2_col0\" class=\"data row2 col0\" >Download Citation</td>\n",
       "      <td id=\"T_20f10_row2_col1\" class=\"data row2 col1\" > <a href=\"https://api.datacite.org/application/vnd.citationstyles.csl+json/10.71760/ukllc-dataset-00425-01\" rel=\"noopener noreferrer\" target=\"_blank\">Citeproc JSON</a>&nbsp;&nbsp;&nbsp;&nbsp; <a href=\"https://api.datacite.org/application/x-bibtex/10.71760/ukllc-dataset-00425-01\" rel=\"noopener noreferrer\" target=\"_blank\">BibTeX</a>&nbsp;&nbsp;&nbsp;&nbsp; <a href=\"https://api.datacite.org/application/x-research-info-systems/10.71760/ukllc-dataset-00425-01\" rel=\"noopener noreferrer\" target=\"_blank\">RIS</a></td>\n",
       "    </tr>\n",
       "    <tr>\n",
       "      <td id=\"T_20f10_row3_col0\" class=\"data row3 col0\" >Owner</td>\n",
       "      <td id=\"T_20f10_row3_col1\" class=\"data row3 col1\" >UK Longitudinal Linkage Collaboration</td>\n",
       "    </tr>\n",
       "    <tr>\n",
       "      <td id=\"T_20f10_row4_col0\" class=\"data row4 col0\" >Authors</td>\n",
       "      <td id=\"T_20f10_row4_col1\" class=\"data row4 col1\" >UK Longitudinal Linkage Collaboration</td>\n",
       "    </tr>\n",
       "    <tr>\n",
       "      <td id=\"T_20f10_row5_col0\" class=\"data row5 col0\" >Temporal Coverage</td>\n",
       "      <td id=\"T_20f10_row5_col1\" class=\"data row5 col1\" >01/2011 - 12/2020</td>\n",
       "    </tr>\n",
       "    <tr>\n",
       "      <td id=\"T_20f10_row6_col0\" class=\"data row6 col0\" >Geographical Coverage</td>\n",
       "      <td id=\"T_20f10_row6_col1\" class=\"data row6 col1\" >Northern Ireland</td>\n",
       "    </tr>\n",
       "    <tr>\n",
       "      <td id=\"T_20f10_row7_col0\" class=\"data row7 col0\" >Participant Count</td>\n",
       "      <td id=\"T_20f10_row7_col1\" class=\"data row7 col1\" >None</td>\n",
       "    </tr>\n",
       "    <tr>\n",
       "      <td id=\"T_20f10_row8_col0\" class=\"data row8 col0\" >Number of Variables</td>\n",
       "      <td id=\"T_20f10_row8_col1\" class=\"data row8 col1\" >15</td>\n",
       "    </tr>\n",
       "    <tr>\n",
       "      <td id=\"T_20f10_row9_col0\" class=\"data row9 col0\" >Number of Observations</td>\n",
       "      <td id=\"T_20f10_row9_col1\" class=\"data row9 col1\" >890</td>\n",
       "    </tr>\n",
       "    <tr>\n",
       "      <td id=\"T_20f10_row10_col0\" class=\"data row10 col0\" >Key Link</td>\n",
       "      <td id=\"T_20f10_row10_col1\" class=\"data row10 col1\" > <a href=\" https://guidebook.ukllc.ac.uk/docs/linked_geo_data/place_based_intro\" rel=\"noopener noreferrer\" target=\"_blank\"> https://guidebook.ukllc.ac.uk/docs/linked_geo_data/place_based_intro</a></td>\n",
       "    </tr>\n",
       "    <tr>\n",
       "      <td id=\"T_20f10_row11_col0\" class=\"data row11 col0\" >Keywords</td>\n",
       "      <td id=\"T_20f10_row11_col1\" class=\"data row11 col1\" >IMD,deprivation,population,urban-rural</td>\n",
       "    </tr>\n",
       "    <tr>\n",
       "      <td id=\"T_20f10_row12_col0\" class=\"data row12 col0\" >Latest Extract Date</td>\n",
       "      <td id=\"T_20f10_row12_col1\" class=\"data row12 col1\" >TBC</td>\n",
       "    </tr>\n",
       "    <tr>\n",
       "      <td id=\"T_20f10_row13_col0\" class=\"data row13 col0\" >Specific Restrictions to Data Use</td>\n",
       "      <td id=\"T_20f10_row13_col1\" class=\"data row13 col1\" >None</td>\n",
       "    </tr>\n",
       "    <tr>\n",
       "      <td id=\"T_20f10_row14_col0\" class=\"data row14 col0\" >Build a Data Request</td>\n",
       "      <td id=\"T_20f10_row14_col1\" class=\"data row14 col1\" > <a href=\"https://explore.ukllc.ac.uk/\" rel=\"noopener noreferrer\" target=\"_blank\">https://explore.ukllc.ac.uk/</a></td>\n",
       "    </tr>\n",
       "  </tbody>\n",
       "</table>\n"
      ],
      "text/plain": [
       "<pandas.io.formats.style.Styler at 0x295e6ddd450>"
      ]
     },
     "execution_count": 20,
     "metadata": {},
     "output_type": "execute_result"
    }
   ],
   "source": [
    "DS(\"imd_northern_ireland\").info_table()"
   ]
  },
  {
   "cell_type": "code",
   "execution_count": 21,
   "id": "9bbe23fb",
   "metadata": {
    "tags": [
     "remove-input"
    ]
   },
   "outputs": [
    {
     "data": {
      "text/markdown": [
       "### imd_scotland"
      ],
      "text/plain": [
       "<IPython.core.display.Markdown object>"
      ]
     },
     "metadata": {},
     "output_type": "display_data"
    }
   ],
   "source": [
    "display(Markdown('### imd_scotland'))"
   ]
  },
  {
   "cell_type": "code",
   "execution_count": 22,
   "id": "702b666a",
   "metadata": {
    "tags": [
     "remove-input",
     "hide-cell"
    ]
   },
   "outputs": [
    {
     "data": {
      "text/html": [
       "<style type=\"text/css\">\n",
       "#T_e56da th {\n",
       "  text-align: left;\n",
       "}\n",
       "#T_e56da_row0_col0, #T_e56da_row0_col1, #T_e56da_row1_col0, #T_e56da_row1_col1, #T_e56da_row2_col0, #T_e56da_row2_col1, #T_e56da_row3_col0, #T_e56da_row3_col1, #T_e56da_row4_col0, #T_e56da_row4_col1, #T_e56da_row5_col0, #T_e56da_row5_col1, #T_e56da_row6_col0, #T_e56da_row6_col1, #T_e56da_row7_col0, #T_e56da_row7_col1, #T_e56da_row8_col0, #T_e56da_row8_col1, #T_e56da_row9_col0, #T_e56da_row9_col1, #T_e56da_row10_col0, #T_e56da_row10_col1, #T_e56da_row11_col0, #T_e56da_row11_col1, #T_e56da_row12_col0, #T_e56da_row12_col1, #T_e56da_row13_col0, #T_e56da_row13_col1, #T_e56da_row14_col0, #T_e56da_row14_col1 {\n",
       "  text-align: left;\n",
       "}\n",
       "</style>\n",
       "<table id=\"T_e56da\" style=\"font-size: 14px\">\n",
       "  <thead>\n",
       "    <tr>\n",
       "      <th id=\"T_e56da_level0_col0\" class=\"col_heading level0 col0\" >Dataset Descriptor</th>\n",
       "      <th id=\"T_e56da_level0_col1\" class=\"col_heading level0 col1\" >Dataset-specific Information</th>\n",
       "    </tr>\n",
       "  </thead>\n",
       "  <tbody>\n",
       "    <tr>\n",
       "      <td id=\"T_e56da_row0_col0\" class=\"data row0 col0\" >Name of Dataset in TRE</td>\n",
       "      <td id=\"T_e56da_row0_col1\" class=\"data row0 col1\" >PLACE_imd_scotland</td>\n",
       "    </tr>\n",
       "    <tr>\n",
       "      <td id=\"T_e56da_row1_col0\" class=\"data row1 col0\" >Citation (APA)</td>\n",
       "      <td id=\"T_e56da_row1_col1\" class=\"data row1 col1\" >UK Longitudinal Linkage Collaboration. (2025). <i>Place based data: IMD Scotland.</i> UK Longitudinal Linkage Collaboration (UK LLC).  <a href=\"https://doi.org/10.71760/ukllc-dataset-00426-01\" rel=\"noopener noreferrer\" target=\"_blank\">https://doi.org/10.71760/ukllc-dataset-00426-01</a></td>\n",
       "    </tr>\n",
       "    <tr>\n",
       "      <td id=\"T_e56da_row2_col0\" class=\"data row2 col0\" >Download Citation</td>\n",
       "      <td id=\"T_e56da_row2_col1\" class=\"data row2 col1\" > <a href=\"https://api.datacite.org/application/vnd.citationstyles.csl+json/10.71760/ukllc-dataset-00426-01\" rel=\"noopener noreferrer\" target=\"_blank\">Citeproc JSON</a>&nbsp;&nbsp;&nbsp;&nbsp; <a href=\"https://api.datacite.org/application/x-bibtex/10.71760/ukllc-dataset-00426-01\" rel=\"noopener noreferrer\" target=\"_blank\">BibTeX</a>&nbsp;&nbsp;&nbsp;&nbsp; <a href=\"https://api.datacite.org/application/x-research-info-systems/10.71760/ukllc-dataset-00426-01\" rel=\"noopener noreferrer\" target=\"_blank\">RIS</a></td>\n",
       "    </tr>\n",
       "    <tr>\n",
       "      <td id=\"T_e56da_row3_col0\" class=\"data row3 col0\" >Owner</td>\n",
       "      <td id=\"T_e56da_row3_col1\" class=\"data row3 col1\" >UK Longitudinal Linkage Collaboration</td>\n",
       "    </tr>\n",
       "    <tr>\n",
       "      <td id=\"T_e56da_row4_col0\" class=\"data row4 col0\" >Authors</td>\n",
       "      <td id=\"T_e56da_row4_col1\" class=\"data row4 col1\" >UK Longitudinal Linkage Collaboration</td>\n",
       "    </tr>\n",
       "    <tr>\n",
       "      <td id=\"T_e56da_row5_col0\" class=\"data row5 col0\" >Temporal Coverage</td>\n",
       "      <td id=\"T_e56da_row5_col1\" class=\"data row5 col1\" >01/2011 - 12/2020</td>\n",
       "    </tr>\n",
       "    <tr>\n",
       "      <td id=\"T_e56da_row6_col0\" class=\"data row6 col0\" >Geographical Coverage</td>\n",
       "      <td id=\"T_e56da_row6_col1\" class=\"data row6 col1\" >Scotland</td>\n",
       "    </tr>\n",
       "    <tr>\n",
       "      <td id=\"T_e56da_row7_col0\" class=\"data row7 col0\" >Participant Count</td>\n",
       "      <td id=\"T_e56da_row7_col1\" class=\"data row7 col1\" >None</td>\n",
       "    </tr>\n",
       "    <tr>\n",
       "      <td id=\"T_e56da_row8_col0\" class=\"data row8 col0\" >Number of Variables</td>\n",
       "      <td id=\"T_e56da_row8_col1\" class=\"data row8 col1\" >15</td>\n",
       "    </tr>\n",
       "    <tr>\n",
       "      <td id=\"T_e56da_row9_col0\" class=\"data row9 col0\" >Number of Observations</td>\n",
       "      <td id=\"T_e56da_row9_col1\" class=\"data row9 col1\" >6976</td>\n",
       "    </tr>\n",
       "    <tr>\n",
       "      <td id=\"T_e56da_row10_col0\" class=\"data row10 col0\" >Key Link</td>\n",
       "      <td id=\"T_e56da_row10_col1\" class=\"data row10 col1\" > <a href=\" https://guidebook.ukllc.ac.uk/docs/linked_geo_data/place_based_intro\" rel=\"noopener noreferrer\" target=\"_blank\"> https://guidebook.ukllc.ac.uk/docs/linked_geo_data/place_based_intro</a></td>\n",
       "    </tr>\n",
       "    <tr>\n",
       "      <td id=\"T_e56da_row11_col0\" class=\"data row11 col0\" >Keywords</td>\n",
       "      <td id=\"T_e56da_row11_col1\" class=\"data row11 col1\" >IMD,deprivation,population,urban-rural</td>\n",
       "    </tr>\n",
       "    <tr>\n",
       "      <td id=\"T_e56da_row12_col0\" class=\"data row12 col0\" >Latest Extract Date</td>\n",
       "      <td id=\"T_e56da_row12_col1\" class=\"data row12 col1\" >TBC</td>\n",
       "    </tr>\n",
       "    <tr>\n",
       "      <td id=\"T_e56da_row13_col0\" class=\"data row13 col0\" >Specific Restrictions to Data Use</td>\n",
       "      <td id=\"T_e56da_row13_col1\" class=\"data row13 col1\" >None</td>\n",
       "    </tr>\n",
       "    <tr>\n",
       "      <td id=\"T_e56da_row14_col0\" class=\"data row14 col0\" >Build a Data Request</td>\n",
       "      <td id=\"T_e56da_row14_col1\" class=\"data row14 col1\" > <a href=\"https://explore.ukllc.ac.uk/\" rel=\"noopener noreferrer\" target=\"_blank\">https://explore.ukllc.ac.uk/</a></td>\n",
       "    </tr>\n",
       "  </tbody>\n",
       "</table>\n"
      ],
      "text/plain": [
       "<pandas.io.formats.style.Styler at 0x295e6ddec10>"
      ]
     },
     "execution_count": 22,
     "metadata": {},
     "output_type": "execute_result"
    }
   ],
   "source": [
    "DS(\"imd_scotland\").info_table()"
   ]
  },
  {
   "cell_type": "code",
   "execution_count": 23,
   "id": "11b0ae1d",
   "metadata": {
    "tags": [
     "remove-input"
    ]
   },
   "outputs": [
    {
     "data": {
      "text/markdown": [
       "### imd_wales"
      ],
      "text/plain": [
       "<IPython.core.display.Markdown object>"
      ]
     },
     "metadata": {},
     "output_type": "display_data"
    }
   ],
   "source": [
    "display(Markdown('### imd_wales'))"
   ]
  },
  {
   "cell_type": "code",
   "execution_count": 24,
   "id": "c84e95ad",
   "metadata": {
    "tags": [
     "remove-input",
     "hide-cell"
    ]
   },
   "outputs": [
    {
     "data": {
      "text/html": [
       "<style type=\"text/css\">\n",
       "#T_6301c th {\n",
       "  text-align: left;\n",
       "}\n",
       "#T_6301c_row0_col0, #T_6301c_row0_col1, #T_6301c_row1_col0, #T_6301c_row1_col1, #T_6301c_row2_col0, #T_6301c_row2_col1, #T_6301c_row3_col0, #T_6301c_row3_col1, #T_6301c_row4_col0, #T_6301c_row4_col1, #T_6301c_row5_col0, #T_6301c_row5_col1, #T_6301c_row6_col0, #T_6301c_row6_col1, #T_6301c_row7_col0, #T_6301c_row7_col1, #T_6301c_row8_col0, #T_6301c_row8_col1, #T_6301c_row9_col0, #T_6301c_row9_col1, #T_6301c_row10_col0, #T_6301c_row10_col1, #T_6301c_row11_col0, #T_6301c_row11_col1, #T_6301c_row12_col0, #T_6301c_row12_col1, #T_6301c_row13_col0, #T_6301c_row13_col1, #T_6301c_row14_col0, #T_6301c_row14_col1 {\n",
       "  text-align: left;\n",
       "}\n",
       "</style>\n",
       "<table id=\"T_6301c\" style=\"font-size: 14px\">\n",
       "  <thead>\n",
       "    <tr>\n",
       "      <th id=\"T_6301c_level0_col0\" class=\"col_heading level0 col0\" >Dataset Descriptor</th>\n",
       "      <th id=\"T_6301c_level0_col1\" class=\"col_heading level0 col1\" >Dataset-specific Information</th>\n",
       "    </tr>\n",
       "  </thead>\n",
       "  <tbody>\n",
       "    <tr>\n",
       "      <td id=\"T_6301c_row0_col0\" class=\"data row0 col0\" >Name of Dataset in TRE</td>\n",
       "      <td id=\"T_6301c_row0_col1\" class=\"data row0 col1\" >PLACE_imd_wales</td>\n",
       "    </tr>\n",
       "    <tr>\n",
       "      <td id=\"T_6301c_row1_col0\" class=\"data row1 col0\" >Citation (APA)</td>\n",
       "      <td id=\"T_6301c_row1_col1\" class=\"data row1 col1\" >UK Longitudinal Linkage Collaboration. (2025). <i>Place based data: IMD Wales.</i> UK Longitudinal Linkage Collaboration (UK LLC).  <a href=\"https://doi.org/10.71760/ukllc-dataset-00427-01\" rel=\"noopener noreferrer\" target=\"_blank\">https://doi.org/10.71760/ukllc-dataset-00427-01</a></td>\n",
       "    </tr>\n",
       "    <tr>\n",
       "      <td id=\"T_6301c_row2_col0\" class=\"data row2 col0\" >Download Citation</td>\n",
       "      <td id=\"T_6301c_row2_col1\" class=\"data row2 col1\" > <a href=\"https://api.datacite.org/application/vnd.citationstyles.csl+json/10.71760/ukllc-dataset-00427-01\" rel=\"noopener noreferrer\" target=\"_blank\">Citeproc JSON</a>&nbsp;&nbsp;&nbsp;&nbsp; <a href=\"https://api.datacite.org/application/x-bibtex/10.71760/ukllc-dataset-00427-01\" rel=\"noopener noreferrer\" target=\"_blank\">BibTeX</a>&nbsp;&nbsp;&nbsp;&nbsp; <a href=\"https://api.datacite.org/application/x-research-info-systems/10.71760/ukllc-dataset-00427-01\" rel=\"noopener noreferrer\" target=\"_blank\">RIS</a></td>\n",
       "    </tr>\n",
       "    <tr>\n",
       "      <td id=\"T_6301c_row3_col0\" class=\"data row3 col0\" >Owner</td>\n",
       "      <td id=\"T_6301c_row3_col1\" class=\"data row3 col1\" >UK Longitudinal Linkage Collaboration</td>\n",
       "    </tr>\n",
       "    <tr>\n",
       "      <td id=\"T_6301c_row4_col0\" class=\"data row4 col0\" >Authors</td>\n",
       "      <td id=\"T_6301c_row4_col1\" class=\"data row4 col1\" >UK Longitudinal Linkage Collaboration</td>\n",
       "    </tr>\n",
       "    <tr>\n",
       "      <td id=\"T_6301c_row5_col0\" class=\"data row5 col0\" >Temporal Coverage</td>\n",
       "      <td id=\"T_6301c_row5_col1\" class=\"data row5 col1\" >01/2011 - 12/2020</td>\n",
       "    </tr>\n",
       "    <tr>\n",
       "      <td id=\"T_6301c_row6_col0\" class=\"data row6 col0\" >Geographical Coverage</td>\n",
       "      <td id=\"T_6301c_row6_col1\" class=\"data row6 col1\" >Wales</td>\n",
       "    </tr>\n",
       "    <tr>\n",
       "      <td id=\"T_6301c_row7_col0\" class=\"data row7 col0\" >Participant Count</td>\n",
       "      <td id=\"T_6301c_row7_col1\" class=\"data row7 col1\" >None</td>\n",
       "    </tr>\n",
       "    <tr>\n",
       "      <td id=\"T_6301c_row8_col0\" class=\"data row8 col0\" >Number of Variables</td>\n",
       "      <td id=\"T_6301c_row8_col1\" class=\"data row8 col1\" >16</td>\n",
       "    </tr>\n",
       "    <tr>\n",
       "      <td id=\"T_6301c_row9_col0\" class=\"data row9 col0\" >Number of Observations</td>\n",
       "      <td id=\"T_6301c_row9_col1\" class=\"data row9 col1\" >1909</td>\n",
       "    </tr>\n",
       "    <tr>\n",
       "      <td id=\"T_6301c_row10_col0\" class=\"data row10 col0\" >Key Link</td>\n",
       "      <td id=\"T_6301c_row10_col1\" class=\"data row10 col1\" > <a href=\" https://guidebook.ukllc.ac.uk/docs/linked_geo_data/place_based_intro\" rel=\"noopener noreferrer\" target=\"_blank\"> https://guidebook.ukllc.ac.uk/docs/linked_geo_data/place_based_intro</a></td>\n",
       "    </tr>\n",
       "    <tr>\n",
       "      <td id=\"T_6301c_row11_col0\" class=\"data row11 col0\" >Keywords</td>\n",
       "      <td id=\"T_6301c_row11_col1\" class=\"data row11 col1\" >IMD,deprivation,population,urban-rural</td>\n",
       "    </tr>\n",
       "    <tr>\n",
       "      <td id=\"T_6301c_row12_col0\" class=\"data row12 col0\" >Latest Extract Date</td>\n",
       "      <td id=\"T_6301c_row12_col1\" class=\"data row12 col1\" >TBC</td>\n",
       "    </tr>\n",
       "    <tr>\n",
       "      <td id=\"T_6301c_row13_col0\" class=\"data row13 col0\" >Specific Restrictions to Data Use</td>\n",
       "      <td id=\"T_6301c_row13_col1\" class=\"data row13 col1\" >None</td>\n",
       "    </tr>\n",
       "    <tr>\n",
       "      <td id=\"T_6301c_row14_col0\" class=\"data row14 col0\" >Build a Data Request</td>\n",
       "      <td id=\"T_6301c_row14_col1\" class=\"data row14 col1\" > <a href=\"https://explore.ukllc.ac.uk/\" rel=\"noopener noreferrer\" target=\"_blank\">https://explore.ukllc.ac.uk/</a></td>\n",
       "    </tr>\n",
       "  </tbody>\n",
       "</table>\n"
      ],
      "text/plain": [
       "<pandas.io.formats.style.Styler at 0x295e6dded50>"
      ]
     },
     "execution_count": 24,
     "metadata": {},
     "output_type": "execute_result"
    }
   ],
   "source": [
    "DS(\"imd_wales\").info_table()"
   ]
  },
  {
   "cell_type": "markdown",
   "id": "10547426",
   "metadata": {},
   "source": [
    "## 2. Variables"
   ]
  },
  {
   "cell_type": "code",
   "execution_count": 25,
   "id": "35dfd0a3",
   "metadata": {
    "tags": [
     "remove-input"
    ]
   },
   "outputs": [
    {
     "data": {
      "text/markdown": [
       "### imd_england"
      ],
      "text/plain": [
       "<IPython.core.display.Markdown object>"
      ]
     },
     "metadata": {},
     "output_type": "display_data"
    }
   ],
   "source": [
    "display(Markdown('### imd_england'))"
   ]
  },
  {
   "cell_type": "code",
   "execution_count": 26,
   "id": "17887a22",
   "metadata": {
    "tags": [
     "remove-input",
     "hide-cell"
    ]
   },
   "outputs": [
    {
     "data": {
      "text/html": [
       "<style type=\"text/css\">\n",
       "#T_f4a77 th {\n",
       "  text-align: left;\n",
       "}\n",
       "#T_f4a77_row0_col0, #T_f4a77_row0_col1, #T_f4a77_row0_col2, #T_f4a77_row0_col3, #T_f4a77_row0_col4, #T_f4a77_row1_col0, #T_f4a77_row1_col1, #T_f4a77_row1_col2, #T_f4a77_row1_col3, #T_f4a77_row1_col4, #T_f4a77_row2_col0, #T_f4a77_row2_col1, #T_f4a77_row2_col2, #T_f4a77_row2_col3, #T_f4a77_row2_col4, #T_f4a77_row3_col0, #T_f4a77_row3_col1, #T_f4a77_row3_col2, #T_f4a77_row3_col3, #T_f4a77_row3_col4, #T_f4a77_row4_col0, #T_f4a77_row4_col1, #T_f4a77_row4_col2, #T_f4a77_row4_col3, #T_f4a77_row4_col4, #T_f4a77_row5_col0, #T_f4a77_row5_col1, #T_f4a77_row5_col2, #T_f4a77_row5_col3, #T_f4a77_row5_col4, #T_f4a77_row6_col0, #T_f4a77_row6_col1, #T_f4a77_row6_col2, #T_f4a77_row6_col3, #T_f4a77_row6_col4, #T_f4a77_row7_col0, #T_f4a77_row7_col1, #T_f4a77_row7_col2, #T_f4a77_row7_col3, #T_f4a77_row7_col4, #T_f4a77_row8_col0, #T_f4a77_row8_col1, #T_f4a77_row8_col2, #T_f4a77_row8_col3, #T_f4a77_row8_col4, #T_f4a77_row9_col0, #T_f4a77_row9_col1, #T_f4a77_row9_col2, #T_f4a77_row9_col3, #T_f4a77_row9_col4, #T_f4a77_row10_col0, #T_f4a77_row10_col1, #T_f4a77_row10_col2, #T_f4a77_row10_col3, #T_f4a77_row10_col4, #T_f4a77_row11_col0, #T_f4a77_row11_col1, #T_f4a77_row11_col2, #T_f4a77_row11_col3, #T_f4a77_row11_col4, #T_f4a77_row12_col0, #T_f4a77_row12_col1, #T_f4a77_row12_col2, #T_f4a77_row12_col3, #T_f4a77_row12_col4, #T_f4a77_row13_col0, #T_f4a77_row13_col1, #T_f4a77_row13_col2, #T_f4a77_row13_col3, #T_f4a77_row13_col4, #T_f4a77_row14_col0, #T_f4a77_row14_col1, #T_f4a77_row14_col2, #T_f4a77_row14_col3, #T_f4a77_row14_col4, #T_f4a77_row15_col0, #T_f4a77_row15_col1, #T_f4a77_row15_col2, #T_f4a77_row15_col3, #T_f4a77_row15_col4 {\n",
       "  text-align: left;\n",
       "}\n",
       "</style>\n",
       "<table id=\"T_f4a77\" style=\"font-size: 14px\">\n",
       "  <thead>\n",
       "    <tr>\n",
       "      <th id=\"T_f4a77_level0_col0\" class=\"col_heading level0 col0\" >Variable Group</th>\n",
       "      <th id=\"T_f4a77_level0_col1\" class=\"col_heading level0 col1\" >Variable</th>\n",
       "      <th id=\"T_f4a77_level0_col2\" class=\"col_heading level0 col2\" >Description</th>\n",
       "      <th id=\"T_f4a77_level0_col3\" class=\"col_heading level0 col3\" >Source</th>\n",
       "      <th id=\"T_f4a77_level0_col4\" class=\"col_heading level0 col4\" >Date range of data</th>\n",
       "    </tr>\n",
       "  </thead>\n",
       "  <tbody>\n",
       "    <tr>\n",
       "      <td id=\"T_f4a77_row0_col0\" class=\"data row0 col0\" >Geography</td>\n",
       "      <td id=\"T_f4a77_row0_col1\" class=\"data row0 col1\" >lsoa11cd_e</td>\n",
       "      <td id=\"T_f4a77_row0_col2\" class=\"data row0 col2\" >Lower Super Output Area code (2011)</td>\n",
       "      <td id=\"T_f4a77_row0_col3\" class=\"data row0 col3\" >Office of National Statistics</td>\n",
       "      <td id=\"T_f4a77_row0_col4\" class=\"data row0 col4\" >2011</td>\n",
       "    </tr>\n",
       "    <tr>\n",
       "      <td id=\"T_f4a77_row1_col0\" class=\"data row1 col0\" >Deprivation</td>\n",
       "      <td id=\"T_f4a77_row1_col1\" class=\"data row1 col1\" >imd2019eng</td>\n",
       "      <td id=\"T_f4a77_row1_col2\" class=\"data row1 col2\" >English indices of deprivation 2019, presented as quintiles. 1= most deprived, 5= least deprived.</td>\n",
       "      <td id=\"T_f4a77_row1_col3\" class=\"data row1 col3\" >gov.uk</td>\n",
       "      <td id=\"T_f4a77_row1_col4\" class=\"data row1 col4\" >2019</td>\n",
       "    </tr>\n",
       "    <tr>\n",
       "      <td id=\"T_f4a77_row2_col0\" class=\"data row2 col0\" >Deprivation</td>\n",
       "      <td id=\"T_f4a77_row2_col1\" class=\"data row2 col1\" >imd2019eng_income</td>\n",
       "      <td id=\"T_f4a77_row2_col2\" class=\"data row2 col2\" >English indices of deprivation 2019, Income, presented as quintiles. 1= lowest income, 5= highest income.</td>\n",
       "      <td id=\"T_f4a77_row2_col3\" class=\"data row2 col3\" >gov.uk</td>\n",
       "      <td id=\"T_f4a77_row2_col4\" class=\"data row2 col4\" >2019</td>\n",
       "    </tr>\n",
       "    <tr>\n",
       "      <td id=\"T_f4a77_row3_col0\" class=\"data row3 col0\" >Deprivation</td>\n",
       "      <td id=\"T_f4a77_row3_col1\" class=\"data row3 col1\" >imd2019eng_employment</td>\n",
       "      <td id=\"T_f4a77_row3_col2\" class=\"data row3 col2\" >English indices of deprivation 2019, Employment, presented as quintiles. 1=highest unemployment, 5= lowest unemployment.</td>\n",
       "      <td id=\"T_f4a77_row3_col3\" class=\"data row3 col3\" >gov.uk</td>\n",
       "      <td id=\"T_f4a77_row3_col4\" class=\"data row3 col4\" >2019</td>\n",
       "    </tr>\n",
       "    <tr>\n",
       "      <td id=\"T_f4a77_row4_col0\" class=\"data row4 col0\" >Deprivation</td>\n",
       "      <td id=\"T_f4a77_row4_col1\" class=\"data row4 col1\" >imd2019eng_education</td>\n",
       "      <td id=\"T_f4a77_row4_col2\" class=\"data row4 col2\" >English indices of deprivation 2019, Education, presented as quintiles. 1= lowest education and skills, 5= highest education and skills.</td>\n",
       "      <td id=\"T_f4a77_row4_col3\" class=\"data row4 col3\" >gov.uk</td>\n",
       "      <td id=\"T_f4a77_row4_col4\" class=\"data row4 col4\" >2019</td>\n",
       "    </tr>\n",
       "    <tr>\n",
       "      <td id=\"T_f4a77_row5_col0\" class=\"data row5 col0\" >Deprivation</td>\n",
       "      <td id=\"T_f4a77_row5_col1\" class=\"data row5 col1\" >imd2019eng_health</td>\n",
       "      <td id=\"T_f4a77_row5_col2\" class=\"data row5 col2\" >English indices of deprivation 2019, Health, presented as quintiles. 1= high health deprivation, 5= low health deprivation.</td>\n",
       "      <td id=\"T_f4a77_row5_col3\" class=\"data row5 col3\" >gov.uk</td>\n",
       "      <td id=\"T_f4a77_row5_col4\" class=\"data row5 col4\" >2019</td>\n",
       "    </tr>\n",
       "    <tr>\n",
       "      <td id=\"T_f4a77_row6_col0\" class=\"data row6 col0\" >Deprivation</td>\n",
       "      <td id=\"T_f4a77_row6_col1\" class=\"data row6 col1\" >imd2019eng_crime</td>\n",
       "      <td id=\"T_f4a77_row6_col2\" class=\"data row6 col2\" >English indices of deprivation 2019, Crime, presented as quintiles. 1= high crime rates, 5= low crime rates.</td>\n",
       "      <td id=\"T_f4a77_row6_col3\" class=\"data row6 col3\" >gov.uk</td>\n",
       "      <td id=\"T_f4a77_row6_col4\" class=\"data row6 col4\" >2019</td>\n",
       "    </tr>\n",
       "    <tr>\n",
       "      <td id=\"T_f4a77_row7_col0\" class=\"data row7 col0\" >Deprivation</td>\n",
       "      <td id=\"T_f4a77_row7_col1\" class=\"data row7 col1\" >imd2019eng_barriers</td>\n",
       "      <td id=\"T_f4a77_row7_col2\" class=\"data row7 col2\" >English indices of deprivation 2019, Barriers to Housing and Services, presented as quintiles. 1= high barriers, 5= low barriers.</td>\n",
       "      <td id=\"T_f4a77_row7_col3\" class=\"data row7 col3\" >gov.uk</td>\n",
       "      <td id=\"T_f4a77_row7_col4\" class=\"data row7 col4\" >2019</td>\n",
       "    </tr>\n",
       "    <tr>\n",
       "      <td id=\"T_f4a77_row8_col0\" class=\"data row8 col0\" >Deprivation</td>\n",
       "      <td id=\"T_f4a77_row8_col1\" class=\"data row8 col1\" >imd2019eng_environment</td>\n",
       "      <td id=\"T_f4a77_row8_col2\" class=\"data row8 col2\" >English indices of deprivation 2019, Environment, presented as quintiles. 1= low quality environment, 5= high quality environment.</td>\n",
       "      <td id=\"T_f4a77_row8_col3\" class=\"data row8 col3\" >gov.uk</td>\n",
       "      <td id=\"T_f4a77_row8_col4\" class=\"data row8 col4\" >2019</td>\n",
       "    </tr>\n",
       "    <tr>\n",
       "      <td id=\"T_f4a77_row9_col0\" class=\"data row9 col0\" >Deprivation</td>\n",
       "      <td id=\"T_f4a77_row9_col1\" class=\"data row9 col1\" >imd2019har</td>\n",
       "      <td id=\"T_f4a77_row9_col2\" class=\"data row9 col2\" >Consumer Data Research Centre's Harmonised Index of Multiple Deprivation 2019, presented as quintiles. 1= most deprived, 5= least deprived.</td>\n",
       "      <td id=\"T_f4a77_row9_col3\" class=\"data row9 col3\" >Geographic Data Service</td>\n",
       "      <td id=\"T_f4a77_row9_col4\" class=\"data row9 col4\" >2019</td>\n",
       "    </tr>\n",
       "    <tr>\n",
       "      <td id=\"T_f4a77_row10_col0\" class=\"data row10 col0\" >Deprivation</td>\n",
       "      <td id=\"T_f4a77_row10_col1\" class=\"data row10 col1\" >mpe_eng_2020</td>\n",
       "      <td id=\"T_f4a77_row10_col2\" class=\"data row10 col2\" >Mid-year (30 June) estimates of the usual resident population for Lower layer Super Output Areas (LSOAs) in England. 5 categories: <1200, 1200-1500, 1500-1600, 1600-1800 and >1800.</td>\n",
       "      <td id=\"T_f4a77_row10_col3\" class=\"data row10 col3\" >Office of National Statistics</td>\n",
       "      <td id=\"T_f4a77_row10_col4\" class=\"data row10 col4\" >2020</td>\n",
       "    </tr>\n",
       "    <tr>\n",
       "      <td id=\"T_f4a77_row11_col0\" class=\"data row11 col0\" >Deprivation</td>\n",
       "      <td id=\"T_f4a77_row11_col1\" class=\"data row11 col1\" >ur_eng_wal_2011</td>\n",
       "      <td id=\"T_f4a77_row11_col2\" class=\"data row11 col2\" >2011 Rural Urban Classification for England. 1= Urban major conurbation, 2= Urban minor conurbation, 3= Urban city and town, 4= Rural town and fringe, 5= Rural village and dispersed.</td>\n",
       "      <td id=\"T_f4a77_row11_col3\" class=\"data row11 col3\" >gov.uk</td>\n",
       "      <td id=\"T_f4a77_row11_col4\" class=\"data row11 col4\" >2011</td>\n",
       "    </tr>\n",
       "    <tr>\n",
       "      <td id=\"T_f4a77_row12_col0\" class=\"data row12 col0\" >Geography</td>\n",
       "      <td id=\"T_f4a77_row12_col1\" class=\"data row12 col1\" >country</td>\n",
       "      <td id=\"T_f4a77_row12_col2\" class=\"data row12 col2\" >Country within the United Kingdom</td>\n",
       "      <td id=\"T_f4a77_row12_col3\" class=\"data row12 col3\" >Office of National Statistics</td>\n",
       "      <td id=\"T_f4a77_row12_col4\" class=\"data row12 col4\" >2011</td>\n",
       "    </tr>\n",
       "    <tr>\n",
       "      <td id=\"T_f4a77_row13_col0\" class=\"data row13 col0\" >Geography</td>\n",
       "      <td id=\"T_f4a77_row13_col1\" class=\"data row13 col1\" >rgn11nm</td>\n",
       "      <td id=\"T_f4a77_row13_col2\" class=\"data row13 col2\" >Region within England</td>\n",
       "      <td id=\"T_f4a77_row13_col3\" class=\"data row13 col3\" >Office of National Statistics</td>\n",
       "      <td id=\"T_f4a77_row13_col4\" class=\"data row13 col4\" >2011</td>\n",
       "    </tr>\n",
       "    <tr>\n",
       "      <td id=\"T_f4a77_row14_col0\" class=\"data row14 col0\" >Deprivation</td>\n",
       "      <td id=\"T_f4a77_row14_col1\" class=\"data row14 col1\" >ur_harm_2021</td>\n",
       "      <td id=\"T_f4a77_row14_col2\" class=\"data row14 col2\" >2021 UK Composite Rural Urban Classification. 1= Urban, 2= Rural, 3= More Rural.</td>\n",
       "      <td id=\"T_f4a77_row14_col3\" class=\"data row14 col3\" >My Society</td>\n",
       "      <td id=\"T_f4a77_row14_col4\" class=\"data row14 col4\" >2021</td>\n",
       "    </tr>\n",
       "    <tr>\n",
       "      <td id=\"T_f4a77_row15_col0\" class=\"data row15 col0\" >UK LLC </td>\n",
       "      <td id=\"T_f4a77_row15_col1\" class=\"data row15 col1\" >avail_from_dt</td>\n",
       "      <td id=\"T_f4a77_row15_col2\" class=\"data row15 col2\" >None</td>\n",
       "      <td id=\"T_f4a77_row15_col3\" class=\"data row15 col3\" >UK LLC</td>\n",
       "      <td id=\"T_f4a77_row15_col4\" class=\"data row15 col4\" >None</td>\n",
       "    </tr>\n",
       "  </tbody>\n",
       "</table>\n"
      ],
      "text/plain": [
       "<pandas.io.formats.style.Styler at 0x295e6ddee90>"
      ]
     },
     "execution_count": 26,
     "metadata": {},
     "output_type": "execute_result"
    }
   ],
   "source": [
    "DS(\"imd_england\").variable_table()"
   ]
  },
  {
   "cell_type": "code",
   "execution_count": 27,
   "id": "83766c0d",
   "metadata": {
    "tags": [
     "remove-input"
    ]
   },
   "outputs": [
    {
     "data": {
      "text/markdown": [
       "### imd_northern_ireland"
      ],
      "text/plain": [
       "<IPython.core.display.Markdown object>"
      ]
     },
     "metadata": {},
     "output_type": "display_data"
    }
   ],
   "source": [
    "display(Markdown('### imd_northern_ireland'))"
   ]
  },
  {
   "cell_type": "code",
   "execution_count": 28,
   "id": "20f3222a",
   "metadata": {
    "tags": [
     "remove-input",
     "hide-cell"
    ]
   },
   "outputs": [
    {
     "data": {
      "text/html": [
       "<style type=\"text/css\">\n",
       "#T_64193 th {\n",
       "  text-align: left;\n",
       "}\n",
       "#T_64193_row0_col0, #T_64193_row0_col1, #T_64193_row0_col2, #T_64193_row0_col3, #T_64193_row0_col4, #T_64193_row1_col0, #T_64193_row1_col1, #T_64193_row1_col2, #T_64193_row1_col3, #T_64193_row1_col4, #T_64193_row2_col0, #T_64193_row2_col1, #T_64193_row2_col2, #T_64193_row2_col3, #T_64193_row2_col4, #T_64193_row3_col0, #T_64193_row3_col1, #T_64193_row3_col2, #T_64193_row3_col3, #T_64193_row3_col4, #T_64193_row4_col0, #T_64193_row4_col1, #T_64193_row4_col2, #T_64193_row4_col3, #T_64193_row4_col4, #T_64193_row5_col0, #T_64193_row5_col1, #T_64193_row5_col2, #T_64193_row5_col3, #T_64193_row5_col4, #T_64193_row6_col0, #T_64193_row6_col1, #T_64193_row6_col2, #T_64193_row6_col3, #T_64193_row6_col4, #T_64193_row7_col0, #T_64193_row7_col1, #T_64193_row7_col2, #T_64193_row7_col3, #T_64193_row7_col4, #T_64193_row8_col0, #T_64193_row8_col1, #T_64193_row8_col2, #T_64193_row8_col3, #T_64193_row8_col4, #T_64193_row9_col0, #T_64193_row9_col1, #T_64193_row9_col2, #T_64193_row9_col3, #T_64193_row9_col4, #T_64193_row10_col0, #T_64193_row10_col1, #T_64193_row10_col2, #T_64193_row10_col3, #T_64193_row10_col4, #T_64193_row11_col0, #T_64193_row11_col1, #T_64193_row11_col2, #T_64193_row11_col3, #T_64193_row11_col4, #T_64193_row12_col0, #T_64193_row12_col1, #T_64193_row12_col2, #T_64193_row12_col3, #T_64193_row12_col4, #T_64193_row13_col0, #T_64193_row13_col1, #T_64193_row13_col2, #T_64193_row13_col3, #T_64193_row13_col4, #T_64193_row14_col0, #T_64193_row14_col1, #T_64193_row14_col2, #T_64193_row14_col3, #T_64193_row14_col4 {\n",
       "  text-align: left;\n",
       "}\n",
       "</style>\n",
       "<table id=\"T_64193\" style=\"font-size: 14px\">\n",
       "  <thead>\n",
       "    <tr>\n",
       "      <th id=\"T_64193_level0_col0\" class=\"col_heading level0 col0\" >Variable Group</th>\n",
       "      <th id=\"T_64193_level0_col1\" class=\"col_heading level0 col1\" >Variable</th>\n",
       "      <th id=\"T_64193_level0_col2\" class=\"col_heading level0 col2\" >Description</th>\n",
       "      <th id=\"T_64193_level0_col3\" class=\"col_heading level0 col3\" >Source</th>\n",
       "      <th id=\"T_64193_level0_col4\" class=\"col_heading level0 col4\" >Date range of data</th>\n",
       "    </tr>\n",
       "  </thead>\n",
       "  <tbody>\n",
       "    <tr>\n",
       "      <td id=\"T_64193_row0_col0\" class=\"data row0 col0\" >Geography</td>\n",
       "      <td id=\"T_64193_row0_col1\" class=\"data row0 col1\" >soa11cd_e</td>\n",
       "      <td id=\"T_64193_row0_col2\" class=\"data row0 col2\" > Super Output Areas (2011)</td>\n",
       "      <td id=\"T_64193_row0_col3\" class=\"data row0 col3\" >Northern Ireland Statistics and Research Agency</td>\n",
       "      <td id=\"T_64193_row0_col4\" class=\"data row0 col4\" >2011</td>\n",
       "    </tr>\n",
       "    <tr>\n",
       "      <td id=\"T_64193_row1_col0\" class=\"data row1 col0\" >Deprivation</td>\n",
       "      <td id=\"T_64193_row1_col1\" class=\"data row1 col1\" >imd2019har</td>\n",
       "      <td id=\"T_64193_row1_col2\" class=\"data row1 col2\" >Consumer Data Research Centre's Harmonised Index of Multiple Deprivation 2019, presented as quintiles. 1= most deprived, 5= least deprived.</td>\n",
       "      <td id=\"T_64193_row1_col3\" class=\"data row1 col3\" >Geographic Data Service</td>\n",
       "      <td id=\"T_64193_row1_col4\" class=\"data row1 col4\" >2019</td>\n",
       "    </tr>\n",
       "    <tr>\n",
       "      <td id=\"T_64193_row2_col0\" class=\"data row2 col0\" >Geography</td>\n",
       "      <td id=\"T_64193_row2_col1\" class=\"data row2 col1\" >country</td>\n",
       "      <td id=\"T_64193_row2_col2\" class=\"data row2 col2\" >Country within the United Kingdom</td>\n",
       "      <td id=\"T_64193_row2_col3\" class=\"data row2 col3\" >Office of National Statistics</td>\n",
       "      <td id=\"T_64193_row2_col4\" class=\"data row2 col4\" >2011</td>\n",
       "    </tr>\n",
       "    <tr>\n",
       "      <td id=\"T_64193_row3_col0\" class=\"data row3 col0\" >Deprivation</td>\n",
       "      <td id=\"T_64193_row3_col1\" class=\"data row3 col1\" >ur_harm_2021</td>\n",
       "      <td id=\"T_64193_row3_col2\" class=\"data row3 col2\" >2021 UK Composite Rural Urban Classification. 1= Urban, 2= Rural, 3= More Rural.</td>\n",
       "      <td id=\"T_64193_row3_col3\" class=\"data row3 col3\" >My Society</td>\n",
       "      <td id=\"T_64193_row3_col4\" class=\"data row3 col4\" >2021</td>\n",
       "    </tr>\n",
       "    <tr>\n",
       "      <td id=\"T_64193_row4_col0\" class=\"data row4 col0\" >Deprivation</td>\n",
       "      <td id=\"T_64193_row4_col1\" class=\"data row4 col1\" >imd2017ir</td>\n",
       "      <td id=\"T_64193_row4_col2\" class=\"data row4 col2\" >Northern Ireland Multiple Deprivation Measure 2017, presented as quintiles. 1= most deprived, 5= least deprived.</td>\n",
       "      <td id=\"T_64193_row4_col3\" class=\"data row4 col3\" >Northern Ireland Statistics and Research Agency</td>\n",
       "      <td id=\"T_64193_row4_col4\" class=\"data row4 col4\" >2017</td>\n",
       "    </tr>\n",
       "    <tr>\n",
       "      <td id=\"T_64193_row5_col0\" class=\"data row5 col0\" >Deprivation</td>\n",
       "      <td id=\"T_64193_row5_col1\" class=\"data row5 col1\" >imd2017ir_income</td>\n",
       "      <td id=\"T_64193_row5_col2\" class=\"data row5 col2\" >Northern Ireland Multiple Deprivation Measure 2017, Income, presented as quintiles. 1= lowest income, 5= highest income.</td>\n",
       "      <td id=\"T_64193_row5_col3\" class=\"data row5 col3\" >Northern Ireland Statistics and Research Agency</td>\n",
       "      <td id=\"T_64193_row5_col4\" class=\"data row5 col4\" >2017</td>\n",
       "    </tr>\n",
       "    <tr>\n",
       "      <td id=\"T_64193_row6_col0\" class=\"data row6 col0\" >Deprivation</td>\n",
       "      <td id=\"T_64193_row6_col1\" class=\"data row6 col1\" >imd2017ir_employment</td>\n",
       "      <td id=\"T_64193_row6_col2\" class=\"data row6 col2\" >Northern Ireland Multiple Deprivation Measure 2017, Employment, presented as quintiles. 1= highest unemployment, 5= lowest unemployment.</td>\n",
       "      <td id=\"T_64193_row6_col3\" class=\"data row6 col3\" >Northern Ireland Statistics and Research Agency</td>\n",
       "      <td id=\"T_64193_row6_col4\" class=\"data row6 col4\" >2017</td>\n",
       "    </tr>\n",
       "    <tr>\n",
       "      <td id=\"T_64193_row7_col0\" class=\"data row7 col0\" >Deprivation</td>\n",
       "      <td id=\"T_64193_row7_col1\" class=\"data row7 col1\" >imd2017ir_health</td>\n",
       "      <td id=\"T_64193_row7_col2\" class=\"data row7 col2\" >None</td>\n",
       "      <td id=\"T_64193_row7_col3\" class=\"data row7 col3\" >Northern Ireland Statistics and Research Agency</td>\n",
       "      <td id=\"T_64193_row7_col4\" class=\"data row7 col4\" >2017</td>\n",
       "    </tr>\n",
       "    <tr>\n",
       "      <td id=\"T_64193_row8_col0\" class=\"data row8 col0\" >Deprivation</td>\n",
       "      <td id=\"T_64193_row8_col1\" class=\"data row8 col1\" >imd2017ir_education</td>\n",
       "      <td id=\"T_64193_row8_col2\" class=\"data row8 col2\" >Northern Ireland Multiple Deprivation Measure 2017, Education, presented as quintiles. 1= lowest education, 5= highest education.</td>\n",
       "      <td id=\"T_64193_row8_col3\" class=\"data row8 col3\" >Northern Ireland Statistics and Research Agency</td>\n",
       "      <td id=\"T_64193_row8_col4\" class=\"data row8 col4\" >2017</td>\n",
       "    </tr>\n",
       "    <tr>\n",
       "      <td id=\"T_64193_row9_col0\" class=\"data row9 col0\" >Deprivation</td>\n",
       "      <td id=\"T_64193_row9_col1\" class=\"data row9 col1\" >imd2017ir_access</td>\n",
       "      <td id=\"T_64193_row9_col2\" class=\"data row9 col2\" >Northern Ireland Multiple Deprivation Measure 2017, Access to Services, presented as quintiles. 1= strong access, 5= weak access.</td>\n",
       "      <td id=\"T_64193_row9_col3\" class=\"data row9 col3\" >Northern Ireland Statistics and Research Agency</td>\n",
       "      <td id=\"T_64193_row9_col4\" class=\"data row9 col4\" >2017</td>\n",
       "    </tr>\n",
       "    <tr>\n",
       "      <td id=\"T_64193_row10_col0\" class=\"data row10 col0\" >Deprivation</td>\n",
       "      <td id=\"T_64193_row10_col1\" class=\"data row10 col1\" >imd2017ir_crime</td>\n",
       "      <td id=\"T_64193_row10_col2\" class=\"data row10 col2\" >Northern Ireland Multiple Deprivation Measure 2017, presented as quintiles. 1= high crime rates, 5= low crime rates.</td>\n",
       "      <td id=\"T_64193_row10_col3\" class=\"data row10 col3\" >Northern Ireland Statistics and Research Agency</td>\n",
       "      <td id=\"T_64193_row10_col4\" class=\"data row10 col4\" >2017</td>\n",
       "    </tr>\n",
       "    <tr>\n",
       "      <td id=\"T_64193_row11_col0\" class=\"data row11 col0\" >Deprivation</td>\n",
       "      <td id=\"T_64193_row11_col1\" class=\"data row11 col1\" >imd2017ir_environment</td>\n",
       "      <td id=\"T_64193_row11_col2\" class=\"data row11 col2\" >Northern Ireland Multiple Deprivation Measure 2017, presented as quintiles. 1= low quality environment, 5= high quality environment.</td>\n",
       "      <td id=\"T_64193_row11_col3\" class=\"data row11 col3\" >Northern Ireland Statistics and Research Agency</td>\n",
       "      <td id=\"T_64193_row11_col4\" class=\"data row11 col4\" >2017</td>\n",
       "    </tr>\n",
       "    <tr>\n",
       "      <td id=\"T_64193_row12_col0\" class=\"data row12 col0\" >Deprivation</td>\n",
       "      <td id=\"T_64193_row12_col1\" class=\"data row12 col1\" >mpe_ire_2020</td>\n",
       "      <td id=\"T_64193_row12_col2\" class=\"data row12 col2\" >Mid-year (30 June) estimates of the usual resident population for Super Output Areas (2011) in Northern Ireland. 5 categories: <1200, 1200-1500, 1500-1600, 1600-1800 and >1800.</td>\n",
       "      <td id=\"T_64193_row12_col3\" class=\"data row12 col3\" >Northern Ireland Statistics and Research Agency</td>\n",
       "      <td id=\"T_64193_row12_col4\" class=\"data row12 col4\" >2020</td>\n",
       "    </tr>\n",
       "    <tr>\n",
       "      <td id=\"T_64193_row13_col0\" class=\"data row13 col0\" >Deprivation</td>\n",
       "      <td id=\"T_64193_row13_col1\" class=\"data row13 col1\" >ur_ire_2015</td>\n",
       "      <td id=\"T_64193_row13_col2\" class=\"data row13 col2\" >Settlement classification 2015. 1=Urban, 2= Mixed urban/rural, 3= Rural</td>\n",
       "      <td id=\"T_64193_row13_col3\" class=\"data row13 col3\" >Northern Ireland Statistics and Research Agency</td>\n",
       "      <td id=\"T_64193_row13_col4\" class=\"data row13 col4\" >2015</td>\n",
       "    </tr>\n",
       "    <tr>\n",
       "      <td id=\"T_64193_row14_col0\" class=\"data row14 col0\" >UK LLC</td>\n",
       "      <td id=\"T_64193_row14_col1\" class=\"data row14 col1\" >avail_from_dt</td>\n",
       "      <td id=\"T_64193_row14_col2\" class=\"data row14 col2\" >None</td>\n",
       "      <td id=\"T_64193_row14_col3\" class=\"data row14 col3\" >UK LLC</td>\n",
       "      <td id=\"T_64193_row14_col4\" class=\"data row14 col4\" >None</td>\n",
       "    </tr>\n",
       "  </tbody>\n",
       "</table>\n"
      ],
      "text/plain": [
       "<pandas.io.formats.style.Styler at 0x295e6ddefd0>"
      ]
     },
     "execution_count": 28,
     "metadata": {},
     "output_type": "execute_result"
    }
   ],
   "source": [
    "DS(\"imd_northern_ireland\").variable_table()"
   ]
  },
  {
   "cell_type": "code",
   "execution_count": 29,
   "id": "c98b19f4",
   "metadata": {
    "tags": [
     "remove-input"
    ]
   },
   "outputs": [
    {
     "data": {
      "text/markdown": [
       "### imd_scotland"
      ],
      "text/plain": [
       "<IPython.core.display.Markdown object>"
      ]
     },
     "metadata": {},
     "output_type": "display_data"
    }
   ],
   "source": [
    "display(Markdown('### imd_scotland'))"
   ]
  },
  {
   "cell_type": "code",
   "execution_count": 30,
   "id": "6c3e1491",
   "metadata": {
    "tags": [
     "remove-input",
     "hide-cell"
    ]
   },
   "outputs": [
    {
     "data": {
      "text/html": [
       "<style type=\"text/css\">\n",
       "#T_5ebd9 th {\n",
       "  text-align: left;\n",
       "}\n",
       "#T_5ebd9_row0_col0, #T_5ebd9_row0_col1, #T_5ebd9_row0_col2, #T_5ebd9_row0_col3, #T_5ebd9_row0_col4, #T_5ebd9_row1_col0, #T_5ebd9_row1_col1, #T_5ebd9_row1_col2, #T_5ebd9_row1_col3, #T_5ebd9_row1_col4, #T_5ebd9_row2_col0, #T_5ebd9_row2_col1, #T_5ebd9_row2_col2, #T_5ebd9_row2_col3, #T_5ebd9_row2_col4, #T_5ebd9_row3_col0, #T_5ebd9_row3_col1, #T_5ebd9_row3_col2, #T_5ebd9_row3_col3, #T_5ebd9_row3_col4, #T_5ebd9_row4_col0, #T_5ebd9_row4_col1, #T_5ebd9_row4_col2, #T_5ebd9_row4_col3, #T_5ebd9_row4_col4, #T_5ebd9_row5_col0, #T_5ebd9_row5_col1, #T_5ebd9_row5_col2, #T_5ebd9_row5_col3, #T_5ebd9_row5_col4, #T_5ebd9_row6_col0, #T_5ebd9_row6_col1, #T_5ebd9_row6_col2, #T_5ebd9_row6_col3, #T_5ebd9_row6_col4, #T_5ebd9_row7_col0, #T_5ebd9_row7_col1, #T_5ebd9_row7_col2, #T_5ebd9_row7_col3, #T_5ebd9_row7_col4, #T_5ebd9_row8_col0, #T_5ebd9_row8_col1, #T_5ebd9_row8_col2, #T_5ebd9_row8_col3, #T_5ebd9_row8_col4, #T_5ebd9_row9_col0, #T_5ebd9_row9_col1, #T_5ebd9_row9_col2, #T_5ebd9_row9_col3, #T_5ebd9_row9_col4, #T_5ebd9_row10_col0, #T_5ebd9_row10_col1, #T_5ebd9_row10_col2, #T_5ebd9_row10_col3, #T_5ebd9_row10_col4, #T_5ebd9_row11_col0, #T_5ebd9_row11_col1, #T_5ebd9_row11_col2, #T_5ebd9_row11_col3, #T_5ebd9_row11_col4, #T_5ebd9_row12_col0, #T_5ebd9_row12_col1, #T_5ebd9_row12_col2, #T_5ebd9_row12_col3, #T_5ebd9_row12_col4, #T_5ebd9_row13_col0, #T_5ebd9_row13_col1, #T_5ebd9_row13_col2, #T_5ebd9_row13_col3, #T_5ebd9_row13_col4, #T_5ebd9_row14_col0, #T_5ebd9_row14_col1, #T_5ebd9_row14_col2, #T_5ebd9_row14_col3, #T_5ebd9_row14_col4 {\n",
       "  text-align: left;\n",
       "}\n",
       "</style>\n",
       "<table id=\"T_5ebd9\" style=\"font-size: 14px\">\n",
       "  <thead>\n",
       "    <tr>\n",
       "      <th id=\"T_5ebd9_level0_col0\" class=\"col_heading level0 col0\" >Variable Group</th>\n",
       "      <th id=\"T_5ebd9_level0_col1\" class=\"col_heading level0 col1\" >Variable</th>\n",
       "      <th id=\"T_5ebd9_level0_col2\" class=\"col_heading level0 col2\" >Description</th>\n",
       "      <th id=\"T_5ebd9_level0_col3\" class=\"col_heading level0 col3\" >Source</th>\n",
       "      <th id=\"T_5ebd9_level0_col4\" class=\"col_heading level0 col4\" >Date range of data</th>\n",
       "    </tr>\n",
       "  </thead>\n",
       "  <tbody>\n",
       "    <tr>\n",
       "      <td id=\"T_5ebd9_row0_col0\" class=\"data row0 col0\" >Geography</td>\n",
       "      <td id=\"T_5ebd9_row0_col1\" class=\"data row0 col1\" >dz11cd_e</td>\n",
       "      <td id=\"T_5ebd9_row0_col2\" class=\"data row0 col2\" >Data Zones (2011)</td>\n",
       "      <td id=\"T_5ebd9_row0_col3\" class=\"data row0 col3\" >gov.uk</td>\n",
       "      <td id=\"T_5ebd9_row0_col4\" class=\"data row0 col4\" >2011</td>\n",
       "    </tr>\n",
       "    <tr>\n",
       "      <td id=\"T_5ebd9_row1_col0\" class=\"data row1 col0\" >Deprivation</td>\n",
       "      <td id=\"T_5ebd9_row1_col1\" class=\"data row1 col1\" >imd2019har</td>\n",
       "      <td id=\"T_5ebd9_row1_col2\" class=\"data row1 col2\" >Consumer Data Research Centre's Harmonised Index of Multiple Deprivation 2019, presented as quintiles. 1= most deprived, 5= least deprived.</td>\n",
       "      <td id=\"T_5ebd9_row1_col3\" class=\"data row1 col3\" >Geographic Data Service</td>\n",
       "      <td id=\"T_5ebd9_row1_col4\" class=\"data row1 col4\" >2019</td>\n",
       "    </tr>\n",
       "    <tr>\n",
       "      <td id=\"T_5ebd9_row2_col0\" class=\"data row2 col0\" >Geography</td>\n",
       "      <td id=\"T_5ebd9_row2_col1\" class=\"data row2 col1\" >country</td>\n",
       "      <td id=\"T_5ebd9_row2_col2\" class=\"data row2 col2\" >Country within the United Kingdom</td>\n",
       "      <td id=\"T_5ebd9_row2_col3\" class=\"data row2 col3\" >Office of National Statistics</td>\n",
       "      <td id=\"T_5ebd9_row2_col4\" class=\"data row2 col4\" >2011</td>\n",
       "    </tr>\n",
       "    <tr>\n",
       "      <td id=\"T_5ebd9_row3_col0\" class=\"data row3 col0\" >Deprivation</td>\n",
       "      <td id=\"T_5ebd9_row3_col1\" class=\"data row3 col1\" >ur_harm_2021</td>\n",
       "      <td id=\"T_5ebd9_row3_col2\" class=\"data row3 col2\" >2021 UK Composite Rural Urban Classification. 1= Urban, 2= Rural, 3= More Rural.</td>\n",
       "      <td id=\"T_5ebd9_row3_col3\" class=\"data row3 col3\" >My Society</td>\n",
       "      <td id=\"T_5ebd9_row3_col4\" class=\"data row3 col4\" >2021</td>\n",
       "    </tr>\n",
       "    <tr>\n",
       "      <td id=\"T_5ebd9_row4_col0\" class=\"data row4 col0\" >Deprivation</td>\n",
       "      <td id=\"T_5ebd9_row4_col1\" class=\"data row4 col1\" >imd2020scot</td>\n",
       "      <td id=\"T_5ebd9_row4_col2\" class=\"data row4 col2\" >Scottish Index of Multiple Deprivation 2019, presented as quintiles. 1= most deprived, 5= least deprived.</td>\n",
       "      <td id=\"T_5ebd9_row4_col3\" class=\"data row4 col3\" >gov.scot</td>\n",
       "      <td id=\"T_5ebd9_row4_col4\" class=\"data row4 col4\" >2020</td>\n",
       "    </tr>\n",
       "    <tr>\n",
       "      <td id=\"T_5ebd9_row5_col0\" class=\"data row5 col0\" >Deprivation</td>\n",
       "      <td id=\"T_5ebd9_row5_col1\" class=\"data row5 col1\" >imd2020scot_income</td>\n",
       "      <td id=\"T_5ebd9_row5_col2\" class=\"data row5 col2\" >Scottish Index of Multiple Deprivation 2019, Income, presented as quintiles. 1= lowest income, 5= highest income.</td>\n",
       "      <td id=\"T_5ebd9_row5_col3\" class=\"data row5 col3\" >gov.scot</td>\n",
       "      <td id=\"T_5ebd9_row5_col4\" class=\"data row5 col4\" >2020</td>\n",
       "    </tr>\n",
       "    <tr>\n",
       "      <td id=\"T_5ebd9_row6_col0\" class=\"data row6 col0\" >Deprivation</td>\n",
       "      <td id=\"T_5ebd9_row6_col1\" class=\"data row6 col1\" >imd2020scot_employment</td>\n",
       "      <td id=\"T_5ebd9_row6_col2\" class=\"data row6 col2\" >Scottish Index of Multiple Deprivation 2019, Employment, presented as quintiles. 1= highest unemployment, 5= lowest unemployment.</td>\n",
       "      <td id=\"T_5ebd9_row6_col3\" class=\"data row6 col3\" >gov.scot</td>\n",
       "      <td id=\"T_5ebd9_row6_col4\" class=\"data row6 col4\" >2020</td>\n",
       "    </tr>\n",
       "    <tr>\n",
       "      <td id=\"T_5ebd9_row7_col0\" class=\"data row7 col0\" >Deprivation</td>\n",
       "      <td id=\"T_5ebd9_row7_col1\" class=\"data row7 col1\" >imd2020scot_health</td>\n",
       "      <td id=\"T_5ebd9_row7_col2\" class=\"data row7 col2\" >Scottish Index of Multiple Deprivation 2019, Health, presented as quintiles. 1= high health deprivation, 5= low health deprivation.</td>\n",
       "      <td id=\"T_5ebd9_row7_col3\" class=\"data row7 col3\" >gov.scot</td>\n",
       "      <td id=\"T_5ebd9_row7_col4\" class=\"data row7 col4\" >2020</td>\n",
       "    </tr>\n",
       "    <tr>\n",
       "      <td id=\"T_5ebd9_row8_col0\" class=\"data row8 col0\" >Deprivation</td>\n",
       "      <td id=\"T_5ebd9_row8_col1\" class=\"data row8 col1\" >imd2020scot_education</td>\n",
       "      <td id=\"T_5ebd9_row8_col2\" class=\"data row8 col2\" >Scottish Index of Multiple Deprivation 2019, Education, presented as quintiles. 1= lowest education, 5= highest education.</td>\n",
       "      <td id=\"T_5ebd9_row8_col3\" class=\"data row8 col3\" >gov.scot</td>\n",
       "      <td id=\"T_5ebd9_row8_col4\" class=\"data row8 col4\" >2020</td>\n",
       "    </tr>\n",
       "    <tr>\n",
       "      <td id=\"T_5ebd9_row9_col0\" class=\"data row9 col0\" >Deprivation</td>\n",
       "      <td id=\"T_5ebd9_row9_col1\" class=\"data row9 col1\" >imd2020scot_access</td>\n",
       "      <td id=\"T_5ebd9_row9_col2\" class=\"data row9 col2\" >Scottish Index of Multiple Deprivation 2019, Access to Services, presented as quintiles. 1= strong access, 5= weak access.</td>\n",
       "      <td id=\"T_5ebd9_row9_col3\" class=\"data row9 col3\" >gov.scot</td>\n",
       "      <td id=\"T_5ebd9_row9_col4\" class=\"data row9 col4\" >2020</td>\n",
       "    </tr>\n",
       "    <tr>\n",
       "      <td id=\"T_5ebd9_row10_col0\" class=\"data row10 col0\" >Deprivation</td>\n",
       "      <td id=\"T_5ebd9_row10_col1\" class=\"data row10 col1\" >imd2020scot_crime</td>\n",
       "      <td id=\"T_5ebd9_row10_col2\" class=\"data row10 col2\" >Scottish Index of Multiple Deprivation 2019, Crime, presented as quintiles. 1= high crime rates, 5= low crime rates.</td>\n",
       "      <td id=\"T_5ebd9_row10_col3\" class=\"data row10 col3\" >gov.scot</td>\n",
       "      <td id=\"T_5ebd9_row10_col4\" class=\"data row10 col4\" >2020</td>\n",
       "    </tr>\n",
       "    <tr>\n",
       "      <td id=\"T_5ebd9_row11_col0\" class=\"data row11 col0\" >Deprivation</td>\n",
       "      <td id=\"T_5ebd9_row11_col1\" class=\"data row11 col1\" >imd2020scot_housing</td>\n",
       "      <td id=\"T_5ebd9_row11_col2\" class=\"data row11 col2\" >Scottish Index of Multiple Deprivation 2019, Housing, presented as quintiles. 1= low quality housing, 5= high quality.</td>\n",
       "      <td id=\"T_5ebd9_row11_col3\" class=\"data row11 col3\" >gov.scot</td>\n",
       "      <td id=\"T_5ebd9_row11_col4\" class=\"data row11 col4\" >2020</td>\n",
       "    </tr>\n",
       "    <tr>\n",
       "      <td id=\"T_5ebd9_row12_col0\" class=\"data row12 col0\" >Deprivation</td>\n",
       "      <td id=\"T_5ebd9_row12_col1\" class=\"data row12 col1\" >mpe_scot_2021</td>\n",
       "      <td id=\"T_5ebd9_row12_col2\" class=\"data row12 col2\" >Mid-year (30 June) estimates of the usual resident population for Data Zones (2011) in Scotland. 5 categories: <1200, 1200-1500, 1500-1600, 1600-1800 and >1800.</td>\n",
       "      <td id=\"T_5ebd9_row12_col3\" class=\"data row12 col3\" >National Records of Scotland</td>\n",
       "      <td id=\"T_5ebd9_row12_col4\" class=\"data row12 col4\" >2020</td>\n",
       "    </tr>\n",
       "    <tr>\n",
       "      <td id=\"T_5ebd9_row13_col0\" class=\"data row13 col0\" >Deprivation</td>\n",
       "      <td id=\"T_5ebd9_row13_col1\" class=\"data row13 col1\" >ur_scot_2020</td>\n",
       "      <td id=\"T_5ebd9_row13_col2\" class=\"data row13 col2\" >Scottish Government Urban Rural Classification 2020. 1= Large Urban Areas, 2=Other Urban Areas, 3= Accessible Amall Towns, 4= Remote Small Towns, 5= Accessible Rural Areas, 6= Remote Rural Areas.</td>\n",
       "      <td id=\"T_5ebd9_row13_col3\" class=\"data row13 col3\" >gov.scot</td>\n",
       "      <td id=\"T_5ebd9_row13_col4\" class=\"data row13 col4\" >2020</td>\n",
       "    </tr>\n",
       "    <tr>\n",
       "      <td id=\"T_5ebd9_row14_col0\" class=\"data row14 col0\" >UK LLC</td>\n",
       "      <td id=\"T_5ebd9_row14_col1\" class=\"data row14 col1\" >avail_from_dt</td>\n",
       "      <td id=\"T_5ebd9_row14_col2\" class=\"data row14 col2\" >None</td>\n",
       "      <td id=\"T_5ebd9_row14_col3\" class=\"data row14 col3\" >UK LLC</td>\n",
       "      <td id=\"T_5ebd9_row14_col4\" class=\"data row14 col4\" >None</td>\n",
       "    </tr>\n",
       "  </tbody>\n",
       "</table>\n"
      ],
      "text/plain": [
       "<pandas.io.formats.style.Styler at 0x295e6ddf110>"
      ]
     },
     "execution_count": 30,
     "metadata": {},
     "output_type": "execute_result"
    }
   ],
   "source": [
    "DS(\"imd_scotland\").variable_table()"
   ]
  },
  {
   "cell_type": "code",
   "execution_count": 31,
   "id": "918b8cd4",
   "metadata": {
    "tags": [
     "remove-input"
    ]
   },
   "outputs": [
    {
     "data": {
      "text/markdown": [
       "### imd_wales"
      ],
      "text/plain": [
       "<IPython.core.display.Markdown object>"
      ]
     },
     "metadata": {},
     "output_type": "display_data"
    }
   ],
   "source": [
    "display(Markdown('### imd_wales'))"
   ]
  },
  {
   "cell_type": "code",
   "execution_count": 32,
   "id": "b1f68c86",
   "metadata": {
    "tags": [
     "remove-input",
     "hide-cell"
    ]
   },
   "outputs": [
    {
     "data": {
      "text/html": [
       "<style type=\"text/css\">\n",
       "#T_5d3fd th {\n",
       "  text-align: left;\n",
       "}\n",
       "#T_5d3fd_row0_col0, #T_5d3fd_row0_col1, #T_5d3fd_row0_col2, #T_5d3fd_row0_col3, #T_5d3fd_row0_col4, #T_5d3fd_row1_col0, #T_5d3fd_row1_col1, #T_5d3fd_row1_col2, #T_5d3fd_row1_col3, #T_5d3fd_row1_col4, #T_5d3fd_row2_col0, #T_5d3fd_row2_col1, #T_5d3fd_row2_col2, #T_5d3fd_row2_col3, #T_5d3fd_row2_col4, #T_5d3fd_row3_col0, #T_5d3fd_row3_col1, #T_5d3fd_row3_col2, #T_5d3fd_row3_col3, #T_5d3fd_row3_col4, #T_5d3fd_row4_col0, #T_5d3fd_row4_col1, #T_5d3fd_row4_col2, #T_5d3fd_row4_col3, #T_5d3fd_row4_col4, #T_5d3fd_row5_col0, #T_5d3fd_row5_col1, #T_5d3fd_row5_col2, #T_5d3fd_row5_col3, #T_5d3fd_row5_col4, #T_5d3fd_row6_col0, #T_5d3fd_row6_col1, #T_5d3fd_row6_col2, #T_5d3fd_row6_col3, #T_5d3fd_row6_col4, #T_5d3fd_row7_col0, #T_5d3fd_row7_col1, #T_5d3fd_row7_col2, #T_5d3fd_row7_col3, #T_5d3fd_row7_col4, #T_5d3fd_row8_col0, #T_5d3fd_row8_col1, #T_5d3fd_row8_col2, #T_5d3fd_row8_col3, #T_5d3fd_row8_col4, #T_5d3fd_row9_col0, #T_5d3fd_row9_col1, #T_5d3fd_row9_col2, #T_5d3fd_row9_col3, #T_5d3fd_row9_col4, #T_5d3fd_row10_col0, #T_5d3fd_row10_col1, #T_5d3fd_row10_col2, #T_5d3fd_row10_col3, #T_5d3fd_row10_col4, #T_5d3fd_row11_col0, #T_5d3fd_row11_col1, #T_5d3fd_row11_col2, #T_5d3fd_row11_col3, #T_5d3fd_row11_col4, #T_5d3fd_row12_col0, #T_5d3fd_row12_col1, #T_5d3fd_row12_col2, #T_5d3fd_row12_col3, #T_5d3fd_row12_col4, #T_5d3fd_row13_col0, #T_5d3fd_row13_col1, #T_5d3fd_row13_col2, #T_5d3fd_row13_col3, #T_5d3fd_row13_col4, #T_5d3fd_row14_col0, #T_5d3fd_row14_col1, #T_5d3fd_row14_col2, #T_5d3fd_row14_col3, #T_5d3fd_row14_col4, #T_5d3fd_row15_col0, #T_5d3fd_row15_col1, #T_5d3fd_row15_col2, #T_5d3fd_row15_col3, #T_5d3fd_row15_col4 {\n",
       "  text-align: left;\n",
       "}\n",
       "</style>\n",
       "<table id=\"T_5d3fd\" style=\"font-size: 14px\">\n",
       "  <thead>\n",
       "    <tr>\n",
       "      <th id=\"T_5d3fd_level0_col0\" class=\"col_heading level0 col0\" >Variable Group</th>\n",
       "      <th id=\"T_5d3fd_level0_col1\" class=\"col_heading level0 col1\" >Variable</th>\n",
       "      <th id=\"T_5d3fd_level0_col2\" class=\"col_heading level0 col2\" >Description</th>\n",
       "      <th id=\"T_5d3fd_level0_col3\" class=\"col_heading level0 col3\" >Source</th>\n",
       "      <th id=\"T_5d3fd_level0_col4\" class=\"col_heading level0 col4\" >Date range of data</th>\n",
       "    </tr>\n",
       "  </thead>\n",
       "  <tbody>\n",
       "    <tr>\n",
       "      <td id=\"T_5d3fd_row0_col0\" class=\"data row0 col0\" >Geography</td>\n",
       "      <td id=\"T_5d3fd_row0_col1\" class=\"data row0 col1\" >lsoa11cd_e</td>\n",
       "      <td id=\"T_5d3fd_row0_col2\" class=\"data row0 col2\" >Lower Super Output Area code (2011)</td>\n",
       "      <td id=\"T_5d3fd_row0_col3\" class=\"data row0 col3\" >Office of National Statistics</td>\n",
       "      <td id=\"T_5d3fd_row0_col4\" class=\"data row0 col4\" >2011</td>\n",
       "    </tr>\n",
       "    <tr>\n",
       "      <td id=\"T_5d3fd_row1_col0\" class=\"data row1 col0\" >Deprivation</td>\n",
       "      <td id=\"T_5d3fd_row1_col1\" class=\"data row1 col1\" >imd2019har</td>\n",
       "      <td id=\"T_5d3fd_row1_col2\" class=\"data row1 col2\" >Consumer Data Research Centre's Harmonised Index of Multiple Deprivation 2019, presented as quintiles. 1= most deprived, 5= least deprived.</td>\n",
       "      <td id=\"T_5d3fd_row1_col3\" class=\"data row1 col3\" >Geographic Data Service</td>\n",
       "      <td id=\"T_5d3fd_row1_col4\" class=\"data row1 col4\" >2019</td>\n",
       "    </tr>\n",
       "    <tr>\n",
       "      <td id=\"T_5d3fd_row2_col0\" class=\"data row2 col0\" >Deprivation</td>\n",
       "      <td id=\"T_5d3fd_row2_col1\" class=\"data row2 col1\" >ur_eng_wal_2011</td>\n",
       "      <td id=\"T_5d3fd_row2_col2\" class=\"data row2 col2\" >2011 Rural Urban Classification for England. 1= Urban major conurbation, 2= Urban minor conurbation, 3= Urban city and town, 4= Rural town and fringe, 5= Rural village and dispersed.</td>\n",
       "      <td id=\"T_5d3fd_row2_col3\" class=\"data row2 col3\" >gov.uk</td>\n",
       "      <td id=\"T_5d3fd_row2_col4\" class=\"data row2 col4\" >2011</td>\n",
       "    </tr>\n",
       "    <tr>\n",
       "      <td id=\"T_5d3fd_row3_col0\" class=\"data row3 col0\" >Geography</td>\n",
       "      <td id=\"T_5d3fd_row3_col1\" class=\"data row3 col1\" >country</td>\n",
       "      <td id=\"T_5d3fd_row3_col2\" class=\"data row3 col2\" >Country within the United Kingdom</td>\n",
       "      <td id=\"T_5d3fd_row3_col3\" class=\"data row3 col3\" >Office of National Statistics</td>\n",
       "      <td id=\"T_5d3fd_row3_col4\" class=\"data row3 col4\" >2011</td>\n",
       "    </tr>\n",
       "    <tr>\n",
       "      <td id=\"T_5d3fd_row4_col0\" class=\"data row4 col0\" >Deprivation</td>\n",
       "      <td id=\"T_5d3fd_row4_col1\" class=\"data row4 col1\" >ur_harm_2021</td>\n",
       "      <td id=\"T_5d3fd_row4_col2\" class=\"data row4 col2\" >2021 UK Composite Rural Urban Classification. 1= Urban, 2= Rural, 3= More Rural.</td>\n",
       "      <td id=\"T_5d3fd_row4_col3\" class=\"data row4 col3\" >My Society</td>\n",
       "      <td id=\"T_5d3fd_row4_col4\" class=\"data row4 col4\" >2021</td>\n",
       "    </tr>\n",
       "    <tr>\n",
       "      <td id=\"T_5d3fd_row5_col0\" class=\"data row5 col0\" >Deprivation</td>\n",
       "      <td id=\"T_5d3fd_row5_col1\" class=\"data row5 col1\" >imd2019wal</td>\n",
       "      <td id=\"T_5d3fd_row5_col2\" class=\"data row5 col2\" >Welsh Index of Multiple Deprivation 2019, presented as quintiles. 1= most deprived, 5= least deprived.</td>\n",
       "      <td id=\"T_5d3fd_row5_col3\" class=\"data row5 col3\" >gov.wales</td>\n",
       "      <td id=\"T_5d3fd_row5_col4\" class=\"data row5 col4\" >2019</td>\n",
       "    </tr>\n",
       "    <tr>\n",
       "      <td id=\"T_5d3fd_row6_col0\" class=\"data row6 col0\" >Deprivation</td>\n",
       "      <td id=\"T_5d3fd_row6_col1\" class=\"data row6 col1\" >imd2019wal_income</td>\n",
       "      <td id=\"T_5d3fd_row6_col2\" class=\"data row6 col2\" >Welsh Index of Multiple Deprivation 2019, Income, presented as quintiles. 1= lowest income, 5= highest income.</td>\n",
       "      <td id=\"T_5d3fd_row6_col3\" class=\"data row6 col3\" >gov.wales</td>\n",
       "      <td id=\"T_5d3fd_row6_col4\" class=\"data row6 col4\" >2019</td>\n",
       "    </tr>\n",
       "    <tr>\n",
       "      <td id=\"T_5d3fd_row7_col0\" class=\"data row7 col0\" >Deprivation</td>\n",
       "      <td id=\"T_5d3fd_row7_col1\" class=\"data row7 col1\" >imd2019wal_employment</td>\n",
       "      <td id=\"T_5d3fd_row7_col2\" class=\"data row7 col2\" >Welsh Index of Multiple Deprivation 2019, Employment, presented as quintiles. 1= highest unemployment, 5= lowest unemployment.</td>\n",
       "      <td id=\"T_5d3fd_row7_col3\" class=\"data row7 col3\" >gov.wales</td>\n",
       "      <td id=\"T_5d3fd_row7_col4\" class=\"data row7 col4\" >2019</td>\n",
       "    </tr>\n",
       "    <tr>\n",
       "      <td id=\"T_5d3fd_row8_col0\" class=\"data row8 col0\" >Deprivation</td>\n",
       "      <td id=\"T_5d3fd_row8_col1\" class=\"data row8 col1\" >imd2019wal_education</td>\n",
       "      <td id=\"T_5d3fd_row8_col2\" class=\"data row8 col2\" >Welsh Index of Multiple Deprivation 2019, Education, presented as quintiles. 1= lowest education, 5= highest education.</td>\n",
       "      <td id=\"T_5d3fd_row8_col3\" class=\"data row8 col3\" >gov.wales</td>\n",
       "      <td id=\"T_5d3fd_row8_col4\" class=\"data row8 col4\" >2019</td>\n",
       "    </tr>\n",
       "    <tr>\n",
       "      <td id=\"T_5d3fd_row9_col0\" class=\"data row9 col0\" >Deprivation</td>\n",
       "      <td id=\"T_5d3fd_row9_col1\" class=\"data row9 col1\" >imd2019wal_health</td>\n",
       "      <td id=\"T_5d3fd_row9_col2\" class=\"data row9 col2\" >Welsh Index of Multiple Deprivation 2019, Health, presented as quintiles. 1= high health deprivation, 5= low health deprivation.</td>\n",
       "      <td id=\"T_5d3fd_row9_col3\" class=\"data row9 col3\" >gov.wales</td>\n",
       "      <td id=\"T_5d3fd_row9_col4\" class=\"data row9 col4\" >2019</td>\n",
       "    </tr>\n",
       "    <tr>\n",
       "      <td id=\"T_5d3fd_row10_col0\" class=\"data row10 col0\" >Deprivation</td>\n",
       "      <td id=\"T_5d3fd_row10_col1\" class=\"data row10 col1\" >imd2019wal_safety</td>\n",
       "      <td id=\"T_5d3fd_row10_col2\" class=\"data row10 col2\" >Welsh Index of Multiple Deprivation 2019, Community Safety, presented as quintiles. 1= low community safety, 5= high community safety.</td>\n",
       "      <td id=\"T_5d3fd_row10_col3\" class=\"data row10 col3\" >gov.wales</td>\n",
       "      <td id=\"T_5d3fd_row10_col4\" class=\"data row10 col4\" >2019</td>\n",
       "    </tr>\n",
       "    <tr>\n",
       "      <td id=\"T_5d3fd_row11_col0\" class=\"data row11 col0\" >Deprivation</td>\n",
       "      <td id=\"T_5d3fd_row11_col1\" class=\"data row11 col1\" >imd2019wal_services</td>\n",
       "      <td id=\"T_5d3fd_row11_col2\" class=\"data row11 col2\" >Welsh Index of Multiple Deprivation 2019, Access to Services, presented as quintiles. 1= Strong access, 5= Weak access.</td>\n",
       "      <td id=\"T_5d3fd_row11_col3\" class=\"data row11 col3\" >gov.wales</td>\n",
       "      <td id=\"T_5d3fd_row11_col4\" class=\"data row11 col4\" >2019</td>\n",
       "    </tr>\n",
       "    <tr>\n",
       "      <td id=\"T_5d3fd_row12_col0\" class=\"data row12 col0\" >Deprivation</td>\n",
       "      <td id=\"T_5d3fd_row12_col1\" class=\"data row12 col1\" >imd2019wal_environment</td>\n",
       "      <td id=\"T_5d3fd_row12_col2\" class=\"data row12 col2\" >Welsh Index of Multiple Deprivation 2019, Physical Environment, presented as quintiles. 1= low quality environment, 5= high quality environment.</td>\n",
       "      <td id=\"T_5d3fd_row12_col3\" class=\"data row12 col3\" >gov.wales</td>\n",
       "      <td id=\"T_5d3fd_row12_col4\" class=\"data row12 col4\" >2019</td>\n",
       "    </tr>\n",
       "    <tr>\n",
       "      <td id=\"T_5d3fd_row13_col0\" class=\"data row13 col0\" >Deprivation</td>\n",
       "      <td id=\"T_5d3fd_row13_col1\" class=\"data row13 col1\" >imd2019wal_housing</td>\n",
       "      <td id=\"T_5d3fd_row13_col2\" class=\"data row13 col2\" >Welsh Index of Multiple Deprivation 2019, Housing, presented as quintiles. 1= low quality housing, 5= high quality.</td>\n",
       "      <td id=\"T_5d3fd_row13_col3\" class=\"data row13 col3\" >gov.wales</td>\n",
       "      <td id=\"T_5d3fd_row13_col4\" class=\"data row13 col4\" >2019</td>\n",
       "    </tr>\n",
       "    <tr>\n",
       "      <td id=\"T_5d3fd_row14_col0\" class=\"data row14 col0\" >Deprivation</td>\n",
       "      <td id=\"T_5d3fd_row14_col1\" class=\"data row14 col1\" >mpe_wal_2020</td>\n",
       "      <td id=\"T_5d3fd_row14_col2\" class=\"data row14 col2\" >Mid-year (30 June) estimates of the usual resident population for Lower layer Super Output Areas (LSOAs) in England and Wales. 5 categories: <1200, 1200-1500, 1500-1600, 1600-1800 and >1800.</td>\n",
       "      <td id=\"T_5d3fd_row14_col3\" class=\"data row14 col3\" >Office of National Statistics</td>\n",
       "      <td id=\"T_5d3fd_row14_col4\" class=\"data row14 col4\" >2020</td>\n",
       "    </tr>\n",
       "    <tr>\n",
       "      <td id=\"T_5d3fd_row15_col0\" class=\"data row15 col0\" >UK LLC</td>\n",
       "      <td id=\"T_5d3fd_row15_col1\" class=\"data row15 col1\" >avail_from_dt</td>\n",
       "      <td id=\"T_5d3fd_row15_col2\" class=\"data row15 col2\" >None</td>\n",
       "      <td id=\"T_5d3fd_row15_col3\" class=\"data row15 col3\" >UK LLC</td>\n",
       "      <td id=\"T_5d3fd_row15_col4\" class=\"data row15 col4\" >None</td>\n",
       "    </tr>\n",
       "  </tbody>\n",
       "</table>\n"
      ],
      "text/plain": [
       "<pandas.io.formats.style.Styler at 0x295e6ddf750>"
      ]
     },
     "execution_count": 32,
     "metadata": {},
     "output_type": "execute_result"
    }
   ],
   "source": [
    "DS(\"imd_wales\").variable_table()"
   ]
  },
  {
   "cell_type": "markdown",
   "id": "4705ea18",
   "metadata": {},
   "source": [
    "## 3. Metrics"
   ]
  },
  {
   "cell_type": "code",
   "execution_count": 33,
   "id": "66756281",
   "metadata": {
    "tags": [
     "remove-input"
    ]
   },
   "outputs": [
    {
     "data": {
      "text/markdown": [
       "TBC"
      ],
      "text/plain": [
       "<IPython.core.display.Markdown object>"
      ]
     },
     "metadata": {},
     "output_type": "display_data"
    }
   ],
   "source": [
    "display(Markdown('TBC'))"
   ]
  },
  {
   "cell_type": "markdown",
   "id": "992091a7",
   "metadata": {},
   "source": [
    "## 4. Version History"
   ]
  },
  {
   "cell_type": "code",
   "execution_count": 34,
   "id": "69571d0d",
   "metadata": {
    "tags": [
     "remove-input"
    ]
   },
   "outputs": [
    {
     "data": {
      "text/markdown": [
       "TBC"
      ],
      "text/plain": [
       "<IPython.core.display.Markdown object>"
      ]
     },
     "metadata": {},
     "output_type": "display_data"
    }
   ],
   "source": [
    "display(Markdown('TBC'))"
   ]
  },
  {
   "cell_type": "markdown",
   "id": "0acfb062",
   "metadata": {},
   "source": [
    "## 5. Documentation"
   ]
  },
  {
   "cell_type": "code",
   "execution_count": 35,
   "id": "b5a900e4",
   "metadata": {
    "tags": [
     "remove-input"
    ]
   },
   "outputs": [
    {
     "data": {
      "text/markdown": [
       "We are currently building a documentation storage system which will host useful documents related to datasets and data owners. We will surface these documents on Guidebook."
      ],
      "text/plain": [
       "<IPython.core.display.Markdown object>"
      ]
     },
     "metadata": {},
     "output_type": "display_data"
    }
   ],
   "source": [
    "DS(\"imd_england\").documentation()"
   ]
  },
  {
   "cell_type": "markdown",
   "id": "1cf8b659",
   "metadata": {},
   "source": [
    "## 6. Useful Syntax"
   ]
  },
  {
   "cell_type": "code",
   "execution_count": 36,
   "id": "c1392740",
   "metadata": {
    "tags": [
     "remove-input"
    ]
   },
   "outputs": [
    {
     "data": {
      "text/markdown": [
       "Below we will include syntax that may be helpful to other researchers in the UK LLC TRE. For longer scripts, we will include a snippet of the code plus a link to the [UK LLC GitHub](https://github.com/UKLLC) repository where you can find the full scripts."
      ],
      "text/plain": [
       "<IPython.core.display.Markdown object>"
      ]
     },
     "metadata": {},
     "output_type": "display_data"
    }
   ],
   "source": [
    "DS(\"imd_england\").useful_syntax()"
   ]
  }
 ],
 "metadata": {
  "kernelspec": {
   "display_name": "jupbook",
   "language": "python",
   "name": "python3"
  },
  "language_info": {
   "codemirror_mode": {
    "name": "ipython",
    "version": 3
   },
   "file_extension": ".py",
   "mimetype": "text/x-python",
   "name": "python",
   "nbconvert_exporter": "python",
   "pygments_lexer": "ipython3",
   "version": "3.13.2"
  },
  "mystnb": {
   "code_prompt_hide": "Hide Information",
   "code_prompt_show": "Show Information"
  }
 },
 "nbformat": 4,
 "nbformat_minor": 5
}
