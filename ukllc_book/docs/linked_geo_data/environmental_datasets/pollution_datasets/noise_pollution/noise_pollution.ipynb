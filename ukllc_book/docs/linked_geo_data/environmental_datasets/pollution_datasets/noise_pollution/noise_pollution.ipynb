{
 "cells": [
  {
   "cell_type": "markdown",
   "id": "ec4bdf5d",
   "metadata": {},
   "source": [
    "# Noise pollution"
   ]
  },
  {
   "cell_type": "code",
   "execution_count": 1,
   "id": "0fe3ef05",
   "metadata": {
    "tags": [
     "remove-input"
    ]
   },
   "outputs": [
    {
     "data": {
      "text/markdown": [
       ">Last modified: 14 Aug 2025"
      ],
      "text/plain": [
       "<IPython.core.display.Markdown object>"
      ]
     },
     "metadata": {},
     "output_type": "display_data"
    }
   ],
   "source": [
    "from IPython.display import display, Markdown\n",
    "import sys\n",
    "import os\n",
    "sys.path.append(os.path.abspath('../../../../scripts/'))\n",
    "from data_doc_helper import PlaceDataSet as DS, last_modified\n",
    "last_modified()\n"
   ]
  },
  {
   "cell_type": "code",
   "execution_count": 2,
   "id": "389cd087",
   "metadata": {
    "tags": [
     "remove-input"
    ]
   },
   "outputs": [
    {
     "data": {
      "text/markdown": [
       "<div style=\"background-color: rgba(0, 178, 169, 0.3); padding: 5px; border-radius: 5px;\"><strong>UK LLC provides annual-average NO₂ and PM₂.₅ exposure data at high spatial resolution which can support health and environmental research.</strong></div>"
      ],
      "text/plain": [
       "<IPython.core.display.Markdown object>"
      ]
     },
     "metadata": {},
     "output_type": "display_data"
    }
   ],
   "source": [
    "display(Markdown('<div style=\"background-color: rgba(0, 178, 169, 0.3); padding: 5px; border-radius: 5px;\"><strong>UK LLC provides annual-average NO₂ and PM₂.₅ exposure data at high spatial resolution which can support health and environmental research.</strong></div>'))"
   ]
  },
  {
   "cell_type": "code",
   "execution_count": 3,
   "id": "70a8c233",
   "metadata": {
    "tags": [
     "remove-input"
    ]
   },
   "outputs": [
    {
     "data": {
      "text/markdown": [
       "<div style=\"background-color: rgb(229, 106, 84, 0.3); padding: 5px; border-radius: 5px;\"><strong>More information about this dataset is available <a href=\"Understanding_noise_pollution.html\" target=\"_blank\">here.</a></strong></div>"
      ],
      "text/plain": [
       "<IPython.core.display.Markdown object>"
      ]
     },
     "metadata": {},
     "output_type": "display_data"
    }
   ],
   "source": [
    "display(Markdown('<div style=\"background-color: rgb(229, 106, 84, 0.3); padding: 5px; border-radius: 5px;\"><strong>More information about this dataset is available <a href=\"Understanding_noise_pollution.html\" target=\"_blank\">here.</a></strong></div>'))"
   ]
  },
  {
   "cell_type": "markdown",
   "id": "f5e5d145",
   "metadata": {},
   "source": [
    "## Common framework for noise assessment methods (CNOSSOS-EU) noise modelling\n",
    "\n",
    "Modelled road-transport noise estimates are calculated in accordance to the ‘Common framework for noise assessment methods’ (CNOSSOS-EU) framework, developed by the European Commission (2002/49/EC). \n",
    "\n",
    "Annual Average Daily Traffic (AADT) counts and traffic speeds across the UK road-network in 2013 enter the model, along with information relating to the surface roughness of land cover, building heights, wind profiles and average temperatures. \n",
    "\n",
    "\n",
    "## 1. Summary"
   ]
  },
  {
   "cell_type": "code",
   "execution_count": 4,
   "id": "6b0b317a",
   "metadata": {
    "tags": [
     "remove-input"
    ]
   },
   "outputs": [
    {
     "data": {
      "text/markdown": [
       "### traffic_noise_england_wales_hh"
      ],
      "text/plain": [
       "<IPython.core.display.Markdown object>"
      ]
     },
     "metadata": {},
     "output_type": "display_data"
    }
   ],
   "source": [
    "display(Markdown('### traffic_noise_england_wales_hh'))"
   ]
  },
  {
   "cell_type": "code",
   "execution_count": 5,
   "id": "a0e5b8ea",
   "metadata": {
    "tags": [
     "remove-input",
     "hide-cell"
    ]
   },
   "outputs": [
    {
     "data": {
      "text/html": [
       "<style type=\"text/css\">\n",
       "#T_9a127 th {\n",
       "  text-align: left;\n",
       "}\n",
       "#T_9a127_row0_col0, #T_9a127_row0_col1, #T_9a127_row1_col0, #T_9a127_row1_col1, #T_9a127_row2_col0, #T_9a127_row2_col1, #T_9a127_row3_col0, #T_9a127_row3_col1, #T_9a127_row4_col0, #T_9a127_row4_col1, #T_9a127_row5_col0, #T_9a127_row5_col1, #T_9a127_row6_col0, #T_9a127_row6_col1, #T_9a127_row7_col0, #T_9a127_row7_col1, #T_9a127_row8_col0, #T_9a127_row8_col1, #T_9a127_row9_col0, #T_9a127_row9_col1, #T_9a127_row10_col0, #T_9a127_row10_col1, #T_9a127_row11_col0, #T_9a127_row11_col1, #T_9a127_row12_col0, #T_9a127_row12_col1, #T_9a127_row13_col0, #T_9a127_row13_col1, #T_9a127_row14_col0, #T_9a127_row14_col1 {\n",
       "  text-align: left;\n",
       "}\n",
       "</style>\n",
       "<table id=\"T_9a127\" style=\"font-size: 14px\">\n",
       "  <thead>\n",
       "    <tr>\n",
       "      <th id=\"T_9a127_level0_col0\" class=\"col_heading level0 col0\" >Dataset Descriptor</th>\n",
       "      <th id=\"T_9a127_level0_col1\" class=\"col_heading level0 col1\" >Dataset-specific Information</th>\n",
       "    </tr>\n",
       "  </thead>\n",
       "  <tbody>\n",
       "    <tr>\n",
       "      <td id=\"T_9a127_row0_col0\" class=\"data row0 col0\" >Name of Dataset in TRE</td>\n",
       "      <td id=\"T_9a127_row0_col1\" class=\"data row0 col1\" >PLACE_traffic_noise_england_wales_hh</td>\n",
       "    </tr>\n",
       "    <tr>\n",
       "      <td id=\"T_9a127_row1_col0\" class=\"data row1 col0\" >Citation (APA)</td>\n",
       "      <td id=\"T_9a127_row1_col1\" class=\"data row1 col1\" >University of Leicester, Centre for Environmental Health and Sustainability and City St George's, University of London, Population Health Research Institute. (2025). <i>Place based data: Traffic Noise England Wales Household.</i> UK Longitudinal Linkage Collaboration (UK LLC).  <a href=\"https://doi.org/10.71760/ukllc-dataset-00428-01\" rel=\"noopener noreferrer\" target=\"_blank\">https://doi.org/10.71760/ukllc-dataset-00428-01</a></td>\n",
       "    </tr>\n",
       "    <tr>\n",
       "      <td id=\"T_9a127_row2_col0\" class=\"data row2 col0\" >Download Citation</td>\n",
       "      <td id=\"T_9a127_row2_col1\" class=\"data row2 col1\" > <a href=\"https://api.datacite.org/application/vnd.citationstyles.csl+json/10.71760/ukllc-dataset-00428-01\" rel=\"noopener noreferrer\" target=\"_blank\">Citeproc JSON</a>&nbsp;&nbsp;&nbsp;&nbsp; <a href=\"https://api.datacite.org/application/x-bibtex/10.71760/ukllc-dataset-00428-01\" rel=\"noopener noreferrer\" target=\"_blank\">BibTeX</a>&nbsp;&nbsp;&nbsp;&nbsp; <a href=\"https://api.datacite.org/application/x-research-info-systems/10.71760/ukllc-dataset-00428-01\" rel=\"noopener noreferrer\" target=\"_blank\">RIS</a></td>\n",
       "    </tr>\n",
       "    <tr>\n",
       "      <td id=\"T_9a127_row3_col0\" class=\"data row3 col0\" >Owner</td>\n",
       "      <td id=\"T_9a127_row3_col1\" class=\"data row3 col1\" >University of Leicester and St George's, University of London</td>\n",
       "    </tr>\n",
       "    <tr>\n",
       "      <td id=\"T_9a127_row4_col0\" class=\"data row4 col0\" >Authors</td>\n",
       "      <td id=\"T_9a127_row4_col1\" class=\"data row4 col1\" >Calvin Jephcote (University of Leicester) and John Gulliver (City St George's, University of London)</td>\n",
       "    </tr>\n",
       "    <tr>\n",
       "      <td id=\"T_9a127_row5_col0\" class=\"data row5 col0\" >Temporal Coverage</td>\n",
       "      <td id=\"T_9a127_row5_col1\" class=\"data row5 col1\" >01/2013 - 12/2013</td>\n",
       "    </tr>\n",
       "    <tr>\n",
       "      <td id=\"T_9a127_row6_col0\" class=\"data row6 col0\" >Geographical Coverage</td>\n",
       "      <td id=\"T_9a127_row6_col1\" class=\"data row6 col1\" >England and Wales</td>\n",
       "    </tr>\n",
       "    <tr>\n",
       "      <td id=\"T_9a127_row7_col0\" class=\"data row7 col0\" >Participant Count</td>\n",
       "      <td id=\"T_9a127_row7_col1\" class=\"data row7 col1\" >30470</td>\n",
       "    </tr>\n",
       "    <tr>\n",
       "      <td id=\"T_9a127_row8_col0\" class=\"data row8 col0\" >Number of Variables</td>\n",
       "      <td id=\"T_9a127_row8_col1\" class=\"data row8 col1\" >15</td>\n",
       "    </tr>\n",
       "    <tr>\n",
       "      <td id=\"T_9a127_row9_col0\" class=\"data row9 col0\" >Number of Observations</td>\n",
       "      <td id=\"T_9a127_row9_col1\" class=\"data row9 col1\" >89103</td>\n",
       "    </tr>\n",
       "    <tr>\n",
       "      <td id=\"T_9a127_row10_col0\" class=\"data row10 col0\" >Key Link</td>\n",
       "      <td id=\"T_9a127_row10_col1\" class=\"data row10 col1\" > <a href=\" https://guidebook.ukllc.ac.uk/docs/linked_geo_data/place_based_intro\" rel=\"noopener noreferrer\" target=\"_blank\"> https://guidebook.ukllc.ac.uk/docs/linked_geo_data/place_based_intro</a></td>\n",
       "    </tr>\n",
       "    <tr>\n",
       "      <td id=\"T_9a127_row11_col0\" class=\"data row11 col0\" >Keywords</td>\n",
       "      <td id=\"T_9a127_row11_col1\" class=\"data row11 col1\" >noise,pollution,geospatial,environmental,transport</td>\n",
       "    </tr>\n",
       "    <tr>\n",
       "      <td id=\"T_9a127_row12_col0\" class=\"data row12 col0\" >Latest Extract Date</td>\n",
       "      <td id=\"T_9a127_row12_col1\" class=\"data row12 col1\" >TBC</td>\n",
       "    </tr>\n",
       "    <tr>\n",
       "      <td id=\"T_9a127_row13_col0\" class=\"data row13 col0\" >Specific Restrictions to Data Use</td>\n",
       "      <td id=\"T_9a127_row13_col1\" class=\"data row13 col1\" >None</td>\n",
       "    </tr>\n",
       "    <tr>\n",
       "      <td id=\"T_9a127_row14_col0\" class=\"data row14 col0\" >Build a Data Request</td>\n",
       "      <td id=\"T_9a127_row14_col1\" class=\"data row14 col1\" > <a href=\"https://explore.ukllc.ac.uk/\" rel=\"noopener noreferrer\" target=\"_blank\">https://explore.ukllc.ac.uk/</a></td>\n",
       "    </tr>\n",
       "  </tbody>\n",
       "</table>\n"
      ],
      "text/plain": [
       "<pandas.io.formats.style.Styler at 0x1f4e35c9010>"
      ]
     },
     "execution_count": 5,
     "metadata": {},
     "output_type": "execute_result"
    }
   ],
   "source": [
    "DS(\"traffic_noise_england_wales_hh\").info_table()"
   ]
  },
  {
   "cell_type": "code",
   "execution_count": 6,
   "id": "749d3522",
   "metadata": {
    "tags": [
     "remove-input"
    ]
   },
   "outputs": [
    {
     "data": {
      "text/markdown": [
       "### traffic_noise_england_wales_pc"
      ],
      "text/plain": [
       "<IPython.core.display.Markdown object>"
      ]
     },
     "metadata": {},
     "output_type": "display_data"
    }
   ],
   "source": [
    "display(Markdown('### traffic_noise_england_wales_pc'))"
   ]
  },
  {
   "cell_type": "code",
   "execution_count": 7,
   "id": "dc35de10",
   "metadata": {
    "tags": [
     "remove-input",
     "hide-cell"
    ]
   },
   "outputs": [
    {
     "data": {
      "text/html": [
       "<style type=\"text/css\">\n",
       "#T_289ce th {\n",
       "  text-align: left;\n",
       "}\n",
       "#T_289ce_row0_col0, #T_289ce_row0_col1, #T_289ce_row1_col0, #T_289ce_row1_col1, #T_289ce_row2_col0, #T_289ce_row2_col1, #T_289ce_row3_col0, #T_289ce_row3_col1, #T_289ce_row4_col0, #T_289ce_row4_col1, #T_289ce_row5_col0, #T_289ce_row5_col1, #T_289ce_row6_col0, #T_289ce_row6_col1, #T_289ce_row7_col0, #T_289ce_row7_col1, #T_289ce_row8_col0, #T_289ce_row8_col1, #T_289ce_row9_col0, #T_289ce_row9_col1, #T_289ce_row10_col0, #T_289ce_row10_col1, #T_289ce_row11_col0, #T_289ce_row11_col1, #T_289ce_row12_col0, #T_289ce_row12_col1, #T_289ce_row13_col0, #T_289ce_row13_col1, #T_289ce_row14_col0, #T_289ce_row14_col1 {\n",
       "  text-align: left;\n",
       "}\n",
       "</style>\n",
       "<table id=\"T_289ce\" style=\"font-size: 14px\">\n",
       "  <thead>\n",
       "    <tr>\n",
       "      <th id=\"T_289ce_level0_col0\" class=\"col_heading level0 col0\" >Dataset Descriptor</th>\n",
       "      <th id=\"T_289ce_level0_col1\" class=\"col_heading level0 col1\" >Dataset-specific Information</th>\n",
       "    </tr>\n",
       "  </thead>\n",
       "  <tbody>\n",
       "    <tr>\n",
       "      <td id=\"T_289ce_row0_col0\" class=\"data row0 col0\" >Name of Dataset in TRE</td>\n",
       "      <td id=\"T_289ce_row0_col1\" class=\"data row0 col1\" >PLACE_traffic_noise_england_wales_pc</td>\n",
       "    </tr>\n",
       "    <tr>\n",
       "      <td id=\"T_289ce_row1_col0\" class=\"data row1 col0\" >Citation (APA)</td>\n",
       "      <td id=\"T_289ce_row1_col1\" class=\"data row1 col1\" >University of Leicester, Centre for Environmental Health and Sustainability and City St George's, University of London, Population Health Research Institute. (2025). <i>Place based data: Traffic Noise England Wales Postcode.</i> UK Longitudinal Linkage Collaboration (UK LLC).  <a href=\"https://doi.org/10.71760/ukllc-dataset-00429-01\" rel=\"noopener noreferrer\" target=\"_blank\">https://doi.org/10.71760/ukllc-dataset-00429-01</a></td>\n",
       "    </tr>\n",
       "    <tr>\n",
       "      <td id=\"T_289ce_row2_col0\" class=\"data row2 col0\" >Download Citation</td>\n",
       "      <td id=\"T_289ce_row2_col1\" class=\"data row2 col1\" > <a href=\"https://api.datacite.org/application/vnd.citationstyles.csl+json/10.71760/ukllc-dataset-00429-01\" rel=\"noopener noreferrer\" target=\"_blank\">Citeproc JSON</a>&nbsp;&nbsp;&nbsp;&nbsp; <a href=\"https://api.datacite.org/application/x-bibtex/10.71760/ukllc-dataset-00429-01\" rel=\"noopener noreferrer\" target=\"_blank\">BibTeX</a>&nbsp;&nbsp;&nbsp;&nbsp; <a href=\"https://api.datacite.org/application/x-research-info-systems/10.71760/ukllc-dataset-00429-01\" rel=\"noopener noreferrer\" target=\"_blank\">RIS</a></td>\n",
       "    </tr>\n",
       "    <tr>\n",
       "      <td id=\"T_289ce_row3_col0\" class=\"data row3 col0\" >Owner</td>\n",
       "      <td id=\"T_289ce_row3_col1\" class=\"data row3 col1\" >University of Leicester and St George's, University of London</td>\n",
       "    </tr>\n",
       "    <tr>\n",
       "      <td id=\"T_289ce_row4_col0\" class=\"data row4 col0\" >Authors</td>\n",
       "      <td id=\"T_289ce_row4_col1\" class=\"data row4 col1\" >Calvin Jephcote (University of Leicester) and John Gulliver (City St George's, University of London)</td>\n",
       "    </tr>\n",
       "    <tr>\n",
       "      <td id=\"T_289ce_row5_col0\" class=\"data row5 col0\" >Temporal Coverage</td>\n",
       "      <td id=\"T_289ce_row5_col1\" class=\"data row5 col1\" >01/2013 - 12/2013</td>\n",
       "    </tr>\n",
       "    <tr>\n",
       "      <td id=\"T_289ce_row6_col0\" class=\"data row6 col0\" >Geographical Coverage</td>\n",
       "      <td id=\"T_289ce_row6_col1\" class=\"data row6 col1\" >England and Wales</td>\n",
       "    </tr>\n",
       "    <tr>\n",
       "      <td id=\"T_289ce_row7_col0\" class=\"data row7 col0\" >Participant Count</td>\n",
       "      <td id=\"T_289ce_row7_col1\" class=\"data row7 col1\" >24036</td>\n",
       "    </tr>\n",
       "    <tr>\n",
       "      <td id=\"T_289ce_row8_col0\" class=\"data row8 col0\" >Number of Variables</td>\n",
       "      <td id=\"T_289ce_row8_col1\" class=\"data row8 col1\" >15</td>\n",
       "    </tr>\n",
       "    <tr>\n",
       "      <td id=\"T_289ce_row9_col0\" class=\"data row9 col0\" >Number of Observations</td>\n",
       "      <td id=\"T_289ce_row9_col1\" class=\"data row9 col1\" >38079</td>\n",
       "    </tr>\n",
       "    <tr>\n",
       "      <td id=\"T_289ce_row10_col0\" class=\"data row10 col0\" >Key Link</td>\n",
       "      <td id=\"T_289ce_row10_col1\" class=\"data row10 col1\" > <a href=\" https://guidebook.ukllc.ac.uk/docs/linked_geo_data/place_based_intro\" rel=\"noopener noreferrer\" target=\"_blank\"> https://guidebook.ukllc.ac.uk/docs/linked_geo_data/place_based_intro</a></td>\n",
       "    </tr>\n",
       "    <tr>\n",
       "      <td id=\"T_289ce_row11_col0\" class=\"data row11 col0\" >Keywords</td>\n",
       "      <td id=\"T_289ce_row11_col1\" class=\"data row11 col1\" >noise,pollution,geospatial,environmental,transport</td>\n",
       "    </tr>\n",
       "    <tr>\n",
       "      <td id=\"T_289ce_row12_col0\" class=\"data row12 col0\" >Latest Extract Date</td>\n",
       "      <td id=\"T_289ce_row12_col1\" class=\"data row12 col1\" >TBC</td>\n",
       "    </tr>\n",
       "    <tr>\n",
       "      <td id=\"T_289ce_row13_col0\" class=\"data row13 col0\" >Specific Restrictions to Data Use</td>\n",
       "      <td id=\"T_289ce_row13_col1\" class=\"data row13 col1\" >None</td>\n",
       "    </tr>\n",
       "    <tr>\n",
       "      <td id=\"T_289ce_row14_col0\" class=\"data row14 col0\" >Build a Data Request</td>\n",
       "      <td id=\"T_289ce_row14_col1\" class=\"data row14 col1\" > <a href=\"https://explore.ukllc.ac.uk/\" rel=\"noopener noreferrer\" target=\"_blank\">https://explore.ukllc.ac.uk/</a></td>\n",
       "    </tr>\n",
       "  </tbody>\n",
       "</table>\n"
      ],
      "text/plain": [
       "<pandas.io.formats.style.Styler at 0x1f4e362d310>"
      ]
     },
     "execution_count": 7,
     "metadata": {},
     "output_type": "execute_result"
    }
   ],
   "source": [
    "DS(\"traffic_noise_england_wales_pc\").info_table()"
   ]
  },
  {
   "cell_type": "code",
   "execution_count": 8,
   "id": "9bbe23fb",
   "metadata": {
    "tags": [
     "remove-input"
    ]
   },
   "outputs": [
    {
     "data": {
      "text/markdown": [
       "### traffic_noise_england_wales_hh"
      ],
      "text/plain": [
       "<IPython.core.display.Markdown object>"
      ]
     },
     "metadata": {},
     "output_type": "display_data"
    }
   ],
   "source": [
    "display(Markdown('### traffic_noise_england_wales_hh'))"
   ]
  },
  {
   "cell_type": "code",
   "execution_count": 9,
   "id": "702b666a",
   "metadata": {
    "tags": [
     "remove-input",
     "hide-cell"
    ]
   },
   "outputs": [
    {
     "data": {
      "text/html": [
       "<style type=\"text/css\">\n",
       "#T_53c46 th {\n",
       "  text-align: left;\n",
       "}\n",
       "#T_53c46_row0_col0, #T_53c46_row0_col1, #T_53c46_row1_col0, #T_53c46_row1_col1, #T_53c46_row2_col0, #T_53c46_row2_col1, #T_53c46_row3_col0, #T_53c46_row3_col1, #T_53c46_row4_col0, #T_53c46_row4_col1, #T_53c46_row5_col0, #T_53c46_row5_col1, #T_53c46_row6_col0, #T_53c46_row6_col1, #T_53c46_row7_col0, #T_53c46_row7_col1, #T_53c46_row8_col0, #T_53c46_row8_col1, #T_53c46_row9_col0, #T_53c46_row9_col1, #T_53c46_row10_col0, #T_53c46_row10_col1, #T_53c46_row11_col0, #T_53c46_row11_col1, #T_53c46_row12_col0, #T_53c46_row12_col1, #T_53c46_row13_col0, #T_53c46_row13_col1, #T_53c46_row14_col0, #T_53c46_row14_col1 {\n",
       "  text-align: left;\n",
       "}\n",
       "</style>\n",
       "<table id=\"T_53c46\" style=\"font-size: 14px\">\n",
       "  <thead>\n",
       "    <tr>\n",
       "      <th id=\"T_53c46_level0_col0\" class=\"col_heading level0 col0\" >Dataset Descriptor</th>\n",
       "      <th id=\"T_53c46_level0_col1\" class=\"col_heading level0 col1\" >Dataset-specific Information</th>\n",
       "    </tr>\n",
       "  </thead>\n",
       "  <tbody>\n",
       "    <tr>\n",
       "      <td id=\"T_53c46_row0_col0\" class=\"data row0 col0\" >Name of Dataset in TRE</td>\n",
       "      <td id=\"T_53c46_row0_col1\" class=\"data row0 col1\" >PLACE_traffic_noise_england_wales_hh</td>\n",
       "    </tr>\n",
       "    <tr>\n",
       "      <td id=\"T_53c46_row1_col0\" class=\"data row1 col0\" >Citation (APA)</td>\n",
       "      <td id=\"T_53c46_row1_col1\" class=\"data row1 col1\" >University of Leicester, Centre for Environmental Health and Sustainability and City St George's, University of London, Population Health Research Institute. (2025). <i>Place based data: Traffic Noise England Wales Household.</i> UK Longitudinal Linkage Collaboration (UK LLC).  <a href=\"https://doi.org/10.71760/ukllc-dataset-00428-01\" rel=\"noopener noreferrer\" target=\"_blank\">https://doi.org/10.71760/ukllc-dataset-00428-01</a></td>\n",
       "    </tr>\n",
       "    <tr>\n",
       "      <td id=\"T_53c46_row2_col0\" class=\"data row2 col0\" >Download Citation</td>\n",
       "      <td id=\"T_53c46_row2_col1\" class=\"data row2 col1\" > <a href=\"https://api.datacite.org/application/vnd.citationstyles.csl+json/10.71760/ukllc-dataset-00428-01\" rel=\"noopener noreferrer\" target=\"_blank\">Citeproc JSON</a>&nbsp;&nbsp;&nbsp;&nbsp; <a href=\"https://api.datacite.org/application/x-bibtex/10.71760/ukllc-dataset-00428-01\" rel=\"noopener noreferrer\" target=\"_blank\">BibTeX</a>&nbsp;&nbsp;&nbsp;&nbsp; <a href=\"https://api.datacite.org/application/x-research-info-systems/10.71760/ukllc-dataset-00428-01\" rel=\"noopener noreferrer\" target=\"_blank\">RIS</a></td>\n",
       "    </tr>\n",
       "    <tr>\n",
       "      <td id=\"T_53c46_row3_col0\" class=\"data row3 col0\" >Owner</td>\n",
       "      <td id=\"T_53c46_row3_col1\" class=\"data row3 col1\" >University of Leicester and St George's, University of London</td>\n",
       "    </tr>\n",
       "    <tr>\n",
       "      <td id=\"T_53c46_row4_col0\" class=\"data row4 col0\" >Authors</td>\n",
       "      <td id=\"T_53c46_row4_col1\" class=\"data row4 col1\" >Calvin Jephcote (University of Leicester) and John Gulliver (City St George's, University of London)</td>\n",
       "    </tr>\n",
       "    <tr>\n",
       "      <td id=\"T_53c46_row5_col0\" class=\"data row5 col0\" >Temporal Coverage</td>\n",
       "      <td id=\"T_53c46_row5_col1\" class=\"data row5 col1\" >01/2013 - 12/2013</td>\n",
       "    </tr>\n",
       "    <tr>\n",
       "      <td id=\"T_53c46_row6_col0\" class=\"data row6 col0\" >Geographical Coverage</td>\n",
       "      <td id=\"T_53c46_row6_col1\" class=\"data row6 col1\" >England and Wales</td>\n",
       "    </tr>\n",
       "    <tr>\n",
       "      <td id=\"T_53c46_row7_col0\" class=\"data row7 col0\" >Participant Count</td>\n",
       "      <td id=\"T_53c46_row7_col1\" class=\"data row7 col1\" >30470</td>\n",
       "    </tr>\n",
       "    <tr>\n",
       "      <td id=\"T_53c46_row8_col0\" class=\"data row8 col0\" >Number of Variables</td>\n",
       "      <td id=\"T_53c46_row8_col1\" class=\"data row8 col1\" >15</td>\n",
       "    </tr>\n",
       "    <tr>\n",
       "      <td id=\"T_53c46_row9_col0\" class=\"data row9 col0\" >Number of Observations</td>\n",
       "      <td id=\"T_53c46_row9_col1\" class=\"data row9 col1\" >89103</td>\n",
       "    </tr>\n",
       "    <tr>\n",
       "      <td id=\"T_53c46_row10_col0\" class=\"data row10 col0\" >Key Link</td>\n",
       "      <td id=\"T_53c46_row10_col1\" class=\"data row10 col1\" > <a href=\" https://guidebook.ukllc.ac.uk/docs/linked_geo_data/place_based_intro\" rel=\"noopener noreferrer\" target=\"_blank\"> https://guidebook.ukllc.ac.uk/docs/linked_geo_data/place_based_intro</a></td>\n",
       "    </tr>\n",
       "    <tr>\n",
       "      <td id=\"T_53c46_row11_col0\" class=\"data row11 col0\" >Keywords</td>\n",
       "      <td id=\"T_53c46_row11_col1\" class=\"data row11 col1\" >noise,pollution,geospatial,environmental,transport</td>\n",
       "    </tr>\n",
       "    <tr>\n",
       "      <td id=\"T_53c46_row12_col0\" class=\"data row12 col0\" >Latest Extract Date</td>\n",
       "      <td id=\"T_53c46_row12_col1\" class=\"data row12 col1\" >TBC</td>\n",
       "    </tr>\n",
       "    <tr>\n",
       "      <td id=\"T_53c46_row13_col0\" class=\"data row13 col0\" >Specific Restrictions to Data Use</td>\n",
       "      <td id=\"T_53c46_row13_col1\" class=\"data row13 col1\" >None</td>\n",
       "    </tr>\n",
       "    <tr>\n",
       "      <td id=\"T_53c46_row14_col0\" class=\"data row14 col0\" >Build a Data Request</td>\n",
       "      <td id=\"T_53c46_row14_col1\" class=\"data row14 col1\" > <a href=\"https://explore.ukllc.ac.uk/\" rel=\"noopener noreferrer\" target=\"_blank\">https://explore.ukllc.ac.uk/</a></td>\n",
       "    </tr>\n",
       "  </tbody>\n",
       "</table>\n"
      ],
      "text/plain": [
       "<pandas.io.formats.style.Styler at 0x1f4e362c690>"
      ]
     },
     "execution_count": 9,
     "metadata": {},
     "output_type": "execute_result"
    }
   ],
   "source": [
    "DS(\"traffic_noise_england_wales_hh\").info_table()"
   ]
  },
  {
   "cell_type": "markdown",
   "id": "10547426",
   "metadata": {},
   "source": [
    "## 2. Variables"
   ]
  },
  {
   "cell_type": "code",
   "execution_count": 10,
   "id": "35dfd0a3",
   "metadata": {
    "tags": [
     "remove-input"
    ]
   },
   "outputs": [
    {
     "data": {
      "text/markdown": [
       "### traffic_noise_england_wales_pc"
      ],
      "text/plain": [
       "<IPython.core.display.Markdown object>"
      ]
     },
     "metadata": {},
     "output_type": "display_data"
    }
   ],
   "source": [
    "display(Markdown('### traffic_noise_england_wales_pc'))"
   ]
  },
  {
   "cell_type": "code",
   "execution_count": 11,
   "id": "17887a22",
   "metadata": {
    "tags": [
     "remove-input",
     "hide-cell"
    ]
   },
   "outputs": [
    {
     "data": {
      "text/html": [
       "<style type=\"text/css\">\n",
       "#T_d2553 th {\n",
       "  text-align: left;\n",
       "}\n",
       "#T_d2553_row0_col0, #T_d2553_row0_col1, #T_d2553_row0_col2, #T_d2553_row0_col3, #T_d2553_row0_col4, #T_d2553_row1_col0, #T_d2553_row1_col1, #T_d2553_row1_col2, #T_d2553_row1_col3, #T_d2553_row1_col4, #T_d2553_row2_col0, #T_d2553_row2_col1, #T_d2553_row2_col2, #T_d2553_row2_col3, #T_d2553_row2_col4, #T_d2553_row3_col0, #T_d2553_row3_col1, #T_d2553_row3_col2, #T_d2553_row3_col3, #T_d2553_row3_col4, #T_d2553_row4_col0, #T_d2553_row4_col1, #T_d2553_row4_col2, #T_d2553_row4_col3, #T_d2553_row4_col4, #T_d2553_row5_col0, #T_d2553_row5_col1, #T_d2553_row5_col2, #T_d2553_row5_col3, #T_d2553_row5_col4, #T_d2553_row6_col0, #T_d2553_row6_col1, #T_d2553_row6_col2, #T_d2553_row6_col3, #T_d2553_row6_col4, #T_d2553_row7_col0, #T_d2553_row7_col1, #T_d2553_row7_col2, #T_d2553_row7_col3, #T_d2553_row7_col4, #T_d2553_row8_col0, #T_d2553_row8_col1, #T_d2553_row8_col2, #T_d2553_row8_col3, #T_d2553_row8_col4, #T_d2553_row9_col0, #T_d2553_row9_col1, #T_d2553_row9_col2, #T_d2553_row9_col3, #T_d2553_row9_col4, #T_d2553_row10_col0, #T_d2553_row10_col1, #T_d2553_row10_col2, #T_d2553_row10_col3, #T_d2553_row10_col4, #T_d2553_row11_col0, #T_d2553_row11_col1, #T_d2553_row11_col2, #T_d2553_row11_col3, #T_d2553_row11_col4, #T_d2553_row12_col0, #T_d2553_row12_col1, #T_d2553_row12_col2, #T_d2553_row12_col3, #T_d2553_row12_col4, #T_d2553_row13_col0, #T_d2553_row13_col1, #T_d2553_row13_col2, #T_d2553_row13_col3, #T_d2553_row13_col4, #T_d2553_row14_col0, #T_d2553_row14_col1, #T_d2553_row14_col2, #T_d2553_row14_col3, #T_d2553_row14_col4 {\n",
       "  text-align: left;\n",
       "}\n",
       "</style>\n",
       "<table id=\"T_d2553\" style=\"font-size: 14px\">\n",
       "  <thead>\n",
       "    <tr>\n",
       "      <th id=\"T_d2553_level0_col0\" class=\"col_heading level0 col0\" >Variable Group</th>\n",
       "      <th id=\"T_d2553_level0_col1\" class=\"col_heading level0 col1\" >Variable</th>\n",
       "      <th id=\"T_d2553_level0_col2\" class=\"col_heading level0 col2\" >Description</th>\n",
       "      <th id=\"T_d2553_level0_col3\" class=\"col_heading level0 col3\" >Source</th>\n",
       "      <th id=\"T_d2553_level0_col4\" class=\"col_heading level0 col4\" >Date range of data</th>\n",
       "    </tr>\n",
       "  </thead>\n",
       "  <tbody>\n",
       "    <tr>\n",
       "      <td id=\"T_d2553_row0_col0\" class=\"data row0 col0\" >Identifier</td>\n",
       "      <td id=\"T_d2553_row0_col1\" class=\"data row0 col1\" >cohortkey_e</td>\n",
       "      <td id=\"T_d2553_row0_col2\" class=\"data row0 col2\" >individual level id</td>\n",
       "      <td id=\"T_d2553_row0_col3\" class=\"data row0 col3\" >LPS</td>\n",
       "      <td id=\"T_d2553_row0_col4\" class=\"data row0 col4\" >None</td>\n",
       "    </tr>\n",
       "    <tr>\n",
       "      <td id=\"T_d2553_row1_col0\" class=\"data row1 col0\" >Geography</td>\n",
       "      <td id=\"T_d2553_row1_col1\" class=\"data row1 col1\" >address_start_date</td>\n",
       "      <td id=\"T_d2553_row1_col2\" class=\"data row1 col2\" >Address start date</td>\n",
       "      <td id=\"T_d2553_row1_col3\" class=\"data row1 col3\" >LPS</td>\n",
       "      <td id=\"T_d2553_row1_col4\" class=\"data row1 col4\" >None</td>\n",
       "    </tr>\n",
       "    <tr>\n",
       "      <td id=\"T_d2553_row2_col0\" class=\"data row2 col0\" >Geography</td>\n",
       "      <td id=\"T_d2553_row2_col1\" class=\"data row2 col1\" >address_end_date</td>\n",
       "      <td id=\"T_d2553_row2_col2\" class=\"data row2 col2\" >Address end date</td>\n",
       "      <td id=\"T_d2553_row2_col3\" class=\"data row2 col3\" >LPS</td>\n",
       "      <td id=\"T_d2553_row2_col4\" class=\"data row2 col4\" >None</td>\n",
       "    </tr>\n",
       "    <tr>\n",
       "      <td id=\"T_d2553_row3_col0\" class=\"data row3 col0\" >UK LLC</td>\n",
       "      <td id=\"T_d2553_row3_col1\" class=\"data row3 col1\" >avail_from_dt</td>\n",
       "      <td id=\"T_d2553_row3_col2\" class=\"data row3 col2\" >None</td>\n",
       "      <td id=\"T_d2553_row3_col3\" class=\"data row3 col3\" >UK LLC</td>\n",
       "      <td id=\"T_d2553_row3_col4\" class=\"data row3 col4\" >None</td>\n",
       "    </tr>\n",
       "    <tr>\n",
       "      <td id=\"T_d2553_row4_col0\" class=\"data row4 col0\" >Noise</td>\n",
       "      <td id=\"T_d2553_row4_col1\" class=\"data row4 col1\" >laeq16</td>\n",
       "      <td id=\"T_d2553_row4_col2\" class=\"data row4 col2\" >A-weighted equivalent noise level (Leq) over 16-hour day period (23:00-07:00)</td>\n",
       "      <td id=\"T_d2553_row4_col3\" class=\"data row4 col3\" >City St George's, University of London</td>\n",
       "      <td id=\"T_d2553_row4_col4\" class=\"data row4 col4\" >2013</td>\n",
       "    </tr>\n",
       "    <tr>\n",
       "      <td id=\"T_d2553_row5_col0\" class=\"data row5 col0\" >Noise</td>\n",
       "      <td id=\"T_d2553_row5_col1\" class=\"data row5 col1\" >lday</td>\n",
       "      <td id=\"T_d2553_row5_col2\" class=\"data row5 col2\" >A-weighted equivalent noise level (Leq) over 12-hour day period (07:00-19:00)</td>\n",
       "      <td id=\"T_d2553_row5_col3\" class=\"data row5 col3\" >City St George's, University of London</td>\n",
       "      <td id=\"T_d2553_row5_col4\" class=\"data row5 col4\" >2013</td>\n",
       "    </tr>\n",
       "    <tr>\n",
       "      <td id=\"T_d2553_row6_col0\" class=\"data row6 col0\" >Noise</td>\n",
       "      <td id=\"T_d2553_row6_col1\" class=\"data row6 col1\" >lden</td>\n",
       "      <td id=\"T_d2553_row6_col2\" class=\"data row6 col2\" >A-weighted equivalent noise level (Leq) over a whole day with a penalty of +10dB(A) for night and +5dB(A) for evening</td>\n",
       "      <td id=\"T_d2553_row6_col3\" class=\"data row6 col3\" >City St George's, University of London</td>\n",
       "      <td id=\"T_d2553_row6_col4\" class=\"data row6 col4\" >2013</td>\n",
       "    </tr>\n",
       "    <tr>\n",
       "      <td id=\"T_d2553_row7_col0\" class=\"data row7 col0\" >Noise</td>\n",
       "      <td id=\"T_d2553_row7_col1\" class=\"data row7 col1\" >leve</td>\n",
       "      <td id=\"T_d2553_row7_col2\" class=\"data row7 col2\" >A-weighted equivalent noise level (Leq) over 4-hour evening period (19:00-23:00)</td>\n",
       "      <td id=\"T_d2553_row7_col3\" class=\"data row7 col3\" >City St George's, University of London</td>\n",
       "      <td id=\"T_d2553_row7_col4\" class=\"data row7 col4\" >2013</td>\n",
       "    </tr>\n",
       "    <tr>\n",
       "      <td id=\"T_d2553_row8_col0\" class=\"data row8 col0\" >Noise</td>\n",
       "      <td id=\"T_d2553_row8_col1\" class=\"data row8 col1\" >lnight</td>\n",
       "      <td id=\"T_d2553_row8_col2\" class=\"data row8 col2\" >A-weighted equivalent noise level (Leq) over 8-hour night period (23:00-07:00)</td>\n",
       "      <td id=\"T_d2553_row8_col3\" class=\"data row8 col3\" >City St George's, University of London</td>\n",
       "      <td id=\"T_d2553_row8_col4\" class=\"data row8 col4\" >2013</td>\n",
       "    </tr>\n",
       "    <tr>\n",
       "      <td id=\"T_d2553_row9_col0\" class=\"data row9 col0\" >Geography</td>\n",
       "      <td id=\"T_d2553_row9_col1\" class=\"data row9 col1\" >lsoa11_e</td>\n",
       "      <td id=\"T_d2553_row9_col2\" class=\"data row9 col2\" >Lower layer super output area (LSOA) encrypted</td>\n",
       "      <td id=\"T_d2553_row9_col3\" class=\"data row9 col3\" >Office of National Statistics</td>\n",
       "      <td id=\"T_d2553_row9_col4\" class=\"data row9 col4\" >2011</td>\n",
       "    </tr>\n",
       "    <tr>\n",
       "      <td id=\"T_d2553_row10_col0\" class=\"data row10 col0\" >Geography</td>\n",
       "      <td id=\"T_d2553_row10_col1\" class=\"data row10 col1\" >matchcode</td>\n",
       "      <td id=\"T_d2553_row10_col2\" class=\"data row10 col2\" >Experian match code indicator</td>\n",
       "      <td id=\"T_d2553_row10_col3\" class=\"data row10 col3\" >University of Leicester</td>\n",
       "      <td id=\"T_d2553_row10_col4\" class=\"data row10 col4\" >None</td>\n",
       "    </tr>\n",
       "    <tr>\n",
       "      <td id=\"T_d2553_row11_col0\" class=\"data row11 col0\" >Geography</td>\n",
       "      <td id=\"T_d2553_row11_col1\" class=\"data row11 col1\" >msoa11_e</td>\n",
       "      <td id=\"T_d2553_row11_col2\" class=\"data row11 col2\" >Middle super output area (LSOA) encrypted</td>\n",
       "      <td id=\"T_d2553_row11_col3\" class=\"data row11 col3\" >Office of National Statistics</td>\n",
       "      <td id=\"T_d2553_row11_col4\" class=\"data row11 col4\" >2011</td>\n",
       "    </tr>\n",
       "    <tr>\n",
       "      <td id=\"T_d2553_row12_col0\" class=\"data row12 col0\" >Geography</td>\n",
       "      <td id=\"T_d2553_row12_col1\" class=\"data row12 col1\" >postcode_e</td>\n",
       "      <td id=\"T_d2553_row12_col2\" class=\"data row12 col2\" >Postcode encrypted</td>\n",
       "      <td id=\"T_d2553_row12_col3\" class=\"data row12 col3\" >LPS</td>\n",
       "      <td id=\"T_d2553_row12_col4\" class=\"data row12 col4\" >None</td>\n",
       "    </tr>\n",
       "    <tr>\n",
       "      <td id=\"T_d2553_row13_col0\" class=\"data row13 col0\" >Geography</td>\n",
       "      <td id=\"T_d2553_row13_col1\" class=\"data row13 col1\" >region</td>\n",
       "      <td id=\"T_d2553_row13_col2\" class=\"data row13 col2\" >UK Region </td>\n",
       "      <td id=\"T_d2553_row13_col3\" class=\"data row13 col3\" >Office of National Statistics</td>\n",
       "      <td id=\"T_d2553_row13_col4\" class=\"data row13 col4\" >2011</td>\n",
       "    </tr>\n",
       "    <tr>\n",
       "      <td id=\"T_d2553_row14_col0\" class=\"data row14 col0\" >Geography</td>\n",
       "      <td id=\"T_d2553_row14_col1\" class=\"data row14 col1\" >uprn_e</td>\n",
       "      <td id=\"T_d2553_row14_col2\" class=\"data row14 col2\" >Unique Property Reference Number (UPRN) encrypted</td>\n",
       "      <td id=\"T_d2553_row14_col3\" class=\"data row14 col3\" >University of Leicester</td>\n",
       "      <td id=\"T_d2553_row14_col4\" class=\"data row14 col4\" >None</td>\n",
       "    </tr>\n",
       "  </tbody>\n",
       "</table>\n"
      ],
      "text/plain": [
       "<pandas.io.formats.style.Styler at 0x1f4e362cf50>"
      ]
     },
     "execution_count": 11,
     "metadata": {},
     "output_type": "execute_result"
    }
   ],
   "source": [
    "DS(\"traffic_noise_england_wales_pc\").variable_table()"
   ]
  },
  {
   "cell_type": "code",
   "execution_count": 12,
   "id": "83766c0d",
   "metadata": {
    "tags": [
     "remove-input"
    ]
   },
   "outputs": [
    {
     "data": {
      "text/markdown": [
       "### traffic_noise_england_wales_hh"
      ],
      "text/plain": [
       "<IPython.core.display.Markdown object>"
      ]
     },
     "metadata": {},
     "output_type": "display_data"
    }
   ],
   "source": [
    "display(Markdown('### traffic_noise_england_wales_hh'))"
   ]
  },
  {
   "cell_type": "code",
   "execution_count": 13,
   "id": "20f3222a",
   "metadata": {
    "tags": [
     "remove-input",
     "hide-cell"
    ]
   },
   "outputs": [
    {
     "data": {
      "text/html": [
       "<style type=\"text/css\">\n",
       "#T_97f80 th {\n",
       "  text-align: left;\n",
       "}\n",
       "#T_97f80_row0_col0, #T_97f80_row0_col1, #T_97f80_row0_col2, #T_97f80_row0_col3, #T_97f80_row0_col4, #T_97f80_row1_col0, #T_97f80_row1_col1, #T_97f80_row1_col2, #T_97f80_row1_col3, #T_97f80_row1_col4, #T_97f80_row2_col0, #T_97f80_row2_col1, #T_97f80_row2_col2, #T_97f80_row2_col3, #T_97f80_row2_col4, #T_97f80_row3_col0, #T_97f80_row3_col1, #T_97f80_row3_col2, #T_97f80_row3_col3, #T_97f80_row3_col4, #T_97f80_row4_col0, #T_97f80_row4_col1, #T_97f80_row4_col2, #T_97f80_row4_col3, #T_97f80_row4_col4, #T_97f80_row5_col0, #T_97f80_row5_col1, #T_97f80_row5_col2, #T_97f80_row5_col3, #T_97f80_row5_col4, #T_97f80_row6_col0, #T_97f80_row6_col1, #T_97f80_row6_col2, #T_97f80_row6_col3, #T_97f80_row6_col4, #T_97f80_row7_col0, #T_97f80_row7_col1, #T_97f80_row7_col2, #T_97f80_row7_col3, #T_97f80_row7_col4, #T_97f80_row8_col0, #T_97f80_row8_col1, #T_97f80_row8_col2, #T_97f80_row8_col3, #T_97f80_row8_col4, #T_97f80_row9_col0, #T_97f80_row9_col1, #T_97f80_row9_col2, #T_97f80_row9_col3, #T_97f80_row9_col4, #T_97f80_row10_col0, #T_97f80_row10_col1, #T_97f80_row10_col2, #T_97f80_row10_col3, #T_97f80_row10_col4, #T_97f80_row11_col0, #T_97f80_row11_col1, #T_97f80_row11_col2, #T_97f80_row11_col3, #T_97f80_row11_col4, #T_97f80_row12_col0, #T_97f80_row12_col1, #T_97f80_row12_col2, #T_97f80_row12_col3, #T_97f80_row12_col4, #T_97f80_row13_col0, #T_97f80_row13_col1, #T_97f80_row13_col2, #T_97f80_row13_col3, #T_97f80_row13_col4, #T_97f80_row14_col0, #T_97f80_row14_col1, #T_97f80_row14_col2, #T_97f80_row14_col3, #T_97f80_row14_col4 {\n",
       "  text-align: left;\n",
       "}\n",
       "</style>\n",
       "<table id=\"T_97f80\" style=\"font-size: 14px\">\n",
       "  <thead>\n",
       "    <tr>\n",
       "      <th id=\"T_97f80_level0_col0\" class=\"col_heading level0 col0\" >Variable Group</th>\n",
       "      <th id=\"T_97f80_level0_col1\" class=\"col_heading level0 col1\" >Variable</th>\n",
       "      <th id=\"T_97f80_level0_col2\" class=\"col_heading level0 col2\" >Description</th>\n",
       "      <th id=\"T_97f80_level0_col3\" class=\"col_heading level0 col3\" >Source</th>\n",
       "      <th id=\"T_97f80_level0_col4\" class=\"col_heading level0 col4\" >Date range of data</th>\n",
       "    </tr>\n",
       "  </thead>\n",
       "  <tbody>\n",
       "    <tr>\n",
       "      <td id=\"T_97f80_row0_col0\" class=\"data row0 col0\" >Identifier</td>\n",
       "      <td id=\"T_97f80_row0_col1\" class=\"data row0 col1\" >cohortkey_e</td>\n",
       "      <td id=\"T_97f80_row0_col2\" class=\"data row0 col2\" >individual level id</td>\n",
       "      <td id=\"T_97f80_row0_col3\" class=\"data row0 col3\" >LPS</td>\n",
       "      <td id=\"T_97f80_row0_col4\" class=\"data row0 col4\" >None</td>\n",
       "    </tr>\n",
       "    <tr>\n",
       "      <td id=\"T_97f80_row1_col0\" class=\"data row1 col0\" >Geography</td>\n",
       "      <td id=\"T_97f80_row1_col1\" class=\"data row1 col1\" >address_start_date</td>\n",
       "      <td id=\"T_97f80_row1_col2\" class=\"data row1 col2\" >Address start date</td>\n",
       "      <td id=\"T_97f80_row1_col3\" class=\"data row1 col3\" >LPS</td>\n",
       "      <td id=\"T_97f80_row1_col4\" class=\"data row1 col4\" >None</td>\n",
       "    </tr>\n",
       "    <tr>\n",
       "      <td id=\"T_97f80_row2_col0\" class=\"data row2 col0\" >Geography</td>\n",
       "      <td id=\"T_97f80_row2_col1\" class=\"data row2 col1\" >address_end_date</td>\n",
       "      <td id=\"T_97f80_row2_col2\" class=\"data row2 col2\" >Address end date</td>\n",
       "      <td id=\"T_97f80_row2_col3\" class=\"data row2 col3\" >LPS</td>\n",
       "      <td id=\"T_97f80_row2_col4\" class=\"data row2 col4\" >None</td>\n",
       "    </tr>\n",
       "    <tr>\n",
       "      <td id=\"T_97f80_row3_col0\" class=\"data row3 col0\" >UK LLC</td>\n",
       "      <td id=\"T_97f80_row3_col1\" class=\"data row3 col1\" >avail_from_dt</td>\n",
       "      <td id=\"T_97f80_row3_col2\" class=\"data row3 col2\" >None</td>\n",
       "      <td id=\"T_97f80_row3_col3\" class=\"data row3 col3\" >UK LLC</td>\n",
       "      <td id=\"T_97f80_row3_col4\" class=\"data row3 col4\" >None</td>\n",
       "    </tr>\n",
       "    <tr>\n",
       "      <td id=\"T_97f80_row4_col0\" class=\"data row4 col0\" >Noise</td>\n",
       "      <td id=\"T_97f80_row4_col1\" class=\"data row4 col1\" >laeq16</td>\n",
       "      <td id=\"T_97f80_row4_col2\" class=\"data row4 col2\" >A-weighted equivalent noise level (Leq) over 16-hour day period (23:00-07:00)</td>\n",
       "      <td id=\"T_97f80_row4_col3\" class=\"data row4 col3\" >University of Leicester, City St George's, University of London</td>\n",
       "      <td id=\"T_97f80_row4_col4\" class=\"data row4 col4\" >2013</td>\n",
       "    </tr>\n",
       "    <tr>\n",
       "      <td id=\"T_97f80_row5_col0\" class=\"data row5 col0\" >Noise</td>\n",
       "      <td id=\"T_97f80_row5_col1\" class=\"data row5 col1\" >lday</td>\n",
       "      <td id=\"T_97f80_row5_col2\" class=\"data row5 col2\" >A-weighted equivalent noise level (Leq) over 12-hour day period (07:00-19:00)</td>\n",
       "      <td id=\"T_97f80_row5_col3\" class=\"data row5 col3\" >University of Leicester, City St George's, University of London</td>\n",
       "      <td id=\"T_97f80_row5_col4\" class=\"data row5 col4\" >2013</td>\n",
       "    </tr>\n",
       "    <tr>\n",
       "      <td id=\"T_97f80_row6_col0\" class=\"data row6 col0\" >Noise</td>\n",
       "      <td id=\"T_97f80_row6_col1\" class=\"data row6 col1\" >lden</td>\n",
       "      <td id=\"T_97f80_row6_col2\" class=\"data row6 col2\" >A-weighted equivalent noise level (Leq) over a whole day with a penalty of +10dB(A) for night and +5dB(A) for evening</td>\n",
       "      <td id=\"T_97f80_row6_col3\" class=\"data row6 col3\" >University of Leicester, City St George's, University of London</td>\n",
       "      <td id=\"T_97f80_row6_col4\" class=\"data row6 col4\" >2013</td>\n",
       "    </tr>\n",
       "    <tr>\n",
       "      <td id=\"T_97f80_row7_col0\" class=\"data row7 col0\" >Noise</td>\n",
       "      <td id=\"T_97f80_row7_col1\" class=\"data row7 col1\" >leve</td>\n",
       "      <td id=\"T_97f80_row7_col2\" class=\"data row7 col2\" >A-weighted equivalent noise level (Leq) over 4-hour evening period (19:00-23:00)</td>\n",
       "      <td id=\"T_97f80_row7_col3\" class=\"data row7 col3\" >University of Leicester, City St George's, University of London</td>\n",
       "      <td id=\"T_97f80_row7_col4\" class=\"data row7 col4\" >2013</td>\n",
       "    </tr>\n",
       "    <tr>\n",
       "      <td id=\"T_97f80_row8_col0\" class=\"data row8 col0\" >Noise</td>\n",
       "      <td id=\"T_97f80_row8_col1\" class=\"data row8 col1\" >lnight</td>\n",
       "      <td id=\"T_97f80_row8_col2\" class=\"data row8 col2\" >A-weighted equivalent noise level (Leq) over 8-hour night period (23:00-07:00)</td>\n",
       "      <td id=\"T_97f80_row8_col3\" class=\"data row8 col3\" >University of Leicester, City St George's, University of London</td>\n",
       "      <td id=\"T_97f80_row8_col4\" class=\"data row8 col4\" >2013</td>\n",
       "    </tr>\n",
       "    <tr>\n",
       "      <td id=\"T_97f80_row9_col0\" class=\"data row9 col0\" >Geography</td>\n",
       "      <td id=\"T_97f80_row9_col1\" class=\"data row9 col1\" >lsoa11_e</td>\n",
       "      <td id=\"T_97f80_row9_col2\" class=\"data row9 col2\" >Lower layer super output area (LSOA) encrypted</td>\n",
       "      <td id=\"T_97f80_row9_col3\" class=\"data row9 col3\" >Office of National Statistics</td>\n",
       "      <td id=\"T_97f80_row9_col4\" class=\"data row9 col4\" >2011</td>\n",
       "    </tr>\n",
       "    <tr>\n",
       "      <td id=\"T_97f80_row10_col0\" class=\"data row10 col0\" >Geography</td>\n",
       "      <td id=\"T_97f80_row10_col1\" class=\"data row10 col1\" >matchcode</td>\n",
       "      <td id=\"T_97f80_row10_col2\" class=\"data row10 col2\" >Experian match code indicator</td>\n",
       "      <td id=\"T_97f80_row10_col3\" class=\"data row10 col3\" >University of Leicester</td>\n",
       "      <td id=\"T_97f80_row10_col4\" class=\"data row10 col4\" >None</td>\n",
       "    </tr>\n",
       "    <tr>\n",
       "      <td id=\"T_97f80_row11_col0\" class=\"data row11 col0\" >Geography</td>\n",
       "      <td id=\"T_97f80_row11_col1\" class=\"data row11 col1\" >msoa11_e</td>\n",
       "      <td id=\"T_97f80_row11_col2\" class=\"data row11 col2\" >Middle super output area (LSOA) encrypted</td>\n",
       "      <td id=\"T_97f80_row11_col3\" class=\"data row11 col3\" >Office of National Statistics</td>\n",
       "      <td id=\"T_97f80_row11_col4\" class=\"data row11 col4\" >2011</td>\n",
       "    </tr>\n",
       "    <tr>\n",
       "      <td id=\"T_97f80_row12_col0\" class=\"data row12 col0\" >Geography</td>\n",
       "      <td id=\"T_97f80_row12_col1\" class=\"data row12 col1\" >postcode_e</td>\n",
       "      <td id=\"T_97f80_row12_col2\" class=\"data row12 col2\" >Postcode encrypted</td>\n",
       "      <td id=\"T_97f80_row12_col3\" class=\"data row12 col3\" >LPS</td>\n",
       "      <td id=\"T_97f80_row12_col4\" class=\"data row12 col4\" >None</td>\n",
       "    </tr>\n",
       "    <tr>\n",
       "      <td id=\"T_97f80_row13_col0\" class=\"data row13 col0\" >Geography</td>\n",
       "      <td id=\"T_97f80_row13_col1\" class=\"data row13 col1\" >region</td>\n",
       "      <td id=\"T_97f80_row13_col2\" class=\"data row13 col2\" >UK Region </td>\n",
       "      <td id=\"T_97f80_row13_col3\" class=\"data row13 col3\" >Office of National Statistics</td>\n",
       "      <td id=\"T_97f80_row13_col4\" class=\"data row13 col4\" >2011</td>\n",
       "    </tr>\n",
       "    <tr>\n",
       "      <td id=\"T_97f80_row14_col0\" class=\"data row14 col0\" >Geography</td>\n",
       "      <td id=\"T_97f80_row14_col1\" class=\"data row14 col1\" >uprn_e</td>\n",
       "      <td id=\"T_97f80_row14_col2\" class=\"data row14 col2\" >Unique Property Reference Number (UPRN) encrypted</td>\n",
       "      <td id=\"T_97f80_row14_col3\" class=\"data row14 col3\" >University of Leicester</td>\n",
       "      <td id=\"T_97f80_row14_col4\" class=\"data row14 col4\" >None</td>\n",
       "    </tr>\n",
       "  </tbody>\n",
       "</table>\n"
      ],
      "text/plain": [
       "<pandas.io.formats.style.Styler at 0x1f4e362ce10>"
      ]
     },
     "execution_count": 13,
     "metadata": {},
     "output_type": "execute_result"
    }
   ],
   "source": [
    "DS(\"traffic_noise_england_wales_hh\").variable_table()"
   ]
  },
  {
   "cell_type": "markdown",
   "id": "4705ea18",
   "metadata": {},
   "source": [
    "## 3. Metrics"
   ]
  },
  {
   "cell_type": "code",
   "execution_count": 14,
   "id": "66756281",
   "metadata": {
    "tags": [
     "remove-input"
    ]
   },
   "outputs": [
    {
     "data": {
      "text/markdown": [
       "TBC"
      ],
      "text/plain": [
       "<IPython.core.display.Markdown object>"
      ]
     },
     "metadata": {},
     "output_type": "display_data"
    }
   ],
   "source": [
    "display(Markdown('TBC'))"
   ]
  },
  {
   "cell_type": "markdown",
   "id": "992091a7",
   "metadata": {},
   "source": [
    "## 4. Version History"
   ]
  },
  {
   "cell_type": "code",
   "execution_count": 15,
   "id": "69571d0d",
   "metadata": {
    "tags": [
     "remove-input"
    ]
   },
   "outputs": [
    {
     "data": {
      "text/markdown": [
       "TBC"
      ],
      "text/plain": [
       "<IPython.core.display.Markdown object>"
      ]
     },
     "metadata": {},
     "output_type": "display_data"
    }
   ],
   "source": [
    "display(Markdown('TBC'))"
   ]
  },
  {
   "cell_type": "markdown",
   "id": "0acfb062",
   "metadata": {},
   "source": [
    "## 5. Documentation"
   ]
  },
  {
   "cell_type": "code",
   "execution_count": 16,
   "id": "b5a900e4",
   "metadata": {
    "tags": [
     "remove-input"
    ]
   },
   "outputs": [
    {
     "data": {
      "text/markdown": [
       "We are currently building a documentation storage system which will host useful documents related to datasets and data owners. We will surface these documents on Guidebook."
      ],
      "text/plain": [
       "<IPython.core.display.Markdown object>"
      ]
     },
     "metadata": {},
     "output_type": "display_data"
    }
   ],
   "source": [
    "DS(\"traffic_noise_england_wales_hh\").documentation()"
   ]
  },
  {
   "cell_type": "markdown",
   "id": "1cf8b659",
   "metadata": {},
   "source": [
    "## 5. Useful Syntax"
   ]
  },
  {
   "cell_type": "code",
   "execution_count": 17,
   "id": "c1392740",
   "metadata": {
    "tags": [
     "remove-input"
    ]
   },
   "outputs": [
    {
     "data": {
      "text/markdown": [
       "Below we will include syntax that may be helpful to other researchers in the UK LLC TRE. For longer scripts, we will include a snippet of the code plus a link to the [UK LLC GitHub](https://github.com/UKLLC) repository where you can find the full scripts."
      ],
      "text/plain": [
       "<IPython.core.display.Markdown object>"
      ]
     },
     "metadata": {},
     "output_type": "display_data"
    }
   ],
   "source": [
    "DS(\"traffic_noise_england_wales_hh\").useful_syntax()"
   ]
  }
 ],
 "metadata": {
  "kernelspec": {
   "display_name": "jupbook",
   "language": "python",
   "name": "python3"
  },
  "language_info": {
   "codemirror_mode": {
    "name": "ipython",
    "version": 3
   },
   "file_extension": ".py",
   "mimetype": "text/x-python",
   "name": "python",
   "nbconvert_exporter": "python",
   "pygments_lexer": "ipython3",
   "version": "3.13.2"
  },
  "mystnb": {
   "code_prompt_hide": "Hide Information",
   "code_prompt_show": "Show Information"
  }
 },
 "nbformat": 4,
 "nbformat_minor": 5
}
