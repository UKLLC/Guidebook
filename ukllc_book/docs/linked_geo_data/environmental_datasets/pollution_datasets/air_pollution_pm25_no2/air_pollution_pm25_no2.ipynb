{
 "cells": [
  {
   "cell_type": "markdown",
   "id": "ec4bdf5d",
   "metadata": {},
   "source": [
    "# Air pollution NO2 & PM"
   ]
  },
  {
   "cell_type": "code",
   "execution_count": null,
   "id": "0fe3ef05",
   "metadata": {
    "tags": [
     "remove-input"
    ]},
   "outputs": [
    {
     "data": {
      "text/markdown": [
       ">Last modified: 10 Jul 2025"
      ],
      "text/plain": [
       "<IPython.core.display.Markdown object>"
      ]
     },
     "metadata": {},
     "output_type": "display_data"
    }
   ],
   "source": [
    "import requests\n",
    "import json\n",
    "import os\n",
    "import sqlalchemy\n",
    "import pandas as pd\n",
    "import sys\n",
    "sys.path.insert(0,\"..\\\\..\\\\..\\\\..\\\\scripts\")\n",
    "import mdapi_functions as md\n",
    "from IPython.display import display, Markdown\n",
    "import markdown\n",
    "from bokeh.plotting import figure, show\n",
    "from bokeh.models import (Span, TabPanel, Tabs, ColumnDataSource, DataCube,\n",
    "                          GroupingInfo, StringFormatter, SumAggregator,\n",
    "                          TableColumn, HoverTool)\n",
    "from bokeh.palettes import Category20c\n",
    "from bokeh.transform import cumsum\n",
    "from bokeh.io import output_notebook\n",
    "from math import pi\n",
    "from datetime import datetime\n",
    "import datacite_api_functions as dcf\n",
    "import numpy as np\n",
    "import data_doc_helper as dh\n",
    "dh.last_modified()"
   ]
  },
  {
   "cell_type": "code",
   "execution_count": 13,
   "id": "389cd087",
   "metadata": {
    "tags": [
     "remove-input"
    ]
   },
   "outputs": [
    {
     "data": {
      "text/markdown": [
       "<div style=\"background-color: rgba(0, 178, 169, 0.3); padding: 5px; border-radius: 5px;\"><strong>UK LLC provides annual-average NO₂ and PM₂.₅ exposure data at high spatial resolution which can support health and environmental research.</strong></div>"
      ],
      "text/plain": [
       "<IPython.core.display.Markdown object>"
      ]
     },
     "metadata": {},
     "output_type": "display_data"
    }
   ],
   "source": [
    "display(Markdown('<div style=\"background-color: rgba(0, 178, 169, 0.3); padding: 5px; border-radius: 5px;\"><strong>UK LLC provides annual-average NO₂ and PM₂.₅ exposure data at high spatial resolution which can support health and environmental research.</strong></div>'))"
   ]
  },
  {
   "cell_type": "code",
   "execution_count": null,
   "id": "70a8c233",
   "metadata": {
    "tags": [
     "remove-input"
    ]
   },
   "outputs": [
    {
     "data": {
      "text/markdown": [
       "<div style=\"background-color: rgb(229, 106, 84, 0.3); padding: 5px; border-radius: 5px;\"><strong>More information about this dataset is available <a href=\"Understanding_air_pollution_pm25_no2.html\" target=\"_blank\">here.</a></strong></div>"
      ],
      "text/plain": [
       "<IPython.core.display.Markdown object>"
      ]
     },
     "metadata": {},
     "output_type": "display_data"
    }
   ],
   "source": [
    "display(Markdown('<div style=\"background-color: rgb(229, 106, 84, 0.3); padding: 5px; border-radius: 5px;\"><strong>More information about this dataset is available <a href=\"Understanding_air_pollution_pm25_no2.html\" target=\"_blank\">here.</a></strong></div>'))"
   ]
  },
  {
   "cell_type": "markdown",
   "id": "f5e5d145",
   "metadata": {},
   "source": [
    "## Annual-average Nitrogen Dioxide (NO2) and Fine particulate matter (PM2.5)\n",
    "\n",
    "The air pollution datasets modelled by University of Leicester/City St George's, University of London contain continuous annual-average **nitrogen dioxide (NO2)** and **fine particulate matter (PM2.5)** exposure data, covering the **years 2010-2019** for all residential address points where a UK LLC participant has permissions in place.\n",
    "\n",
    "\n",
    "## 1. Summary"
   ]
  },
  {
   "cell_type": "code",
   "execution_count": 16,
   "id": "6b0b317a",
   "metadata": {
    "tags": [
     "remove-input"
    ]
   },
   "outputs": [
    {
     "data": {
      "text/markdown": [
       "### air_polution_hh"
      ],
      "text/plain": [
       "<IPython.core.display.Markdown object>"
      ]
     },
     "metadata": {},
     "output_type": "display_data"
    }
   ],
   "source": [
    "display(Markdown('### air_polution_hh'))"
   ]
  },
  {
   "cell_type": "code",
   "execution_count": 20,
   "id": "a0e5b8ea",
   "metadata": {
    "tags": [
     "remove-input",
     "hide-cell"
    ]
   },
   "outputs": [
    {
     "data": {
      "text/html": [
       "<style type=\"text/css\">\n",
       "#T_be350 th {\n",
       "  text-align: left;\n",
       "}\n",
       "#T_be350_row0_col0, #T_be350_row0_col1, #T_be350_row1_col0, #T_be350_row1_col1, #T_be350_row2_col0, #T_be350_row2_col1, #T_be350_row3_col0, #T_be350_row3_col1, #T_be350_row4_col0, #T_be350_row4_col1, #T_be350_row5_col0, #T_be350_row5_col1, #T_be350_row6_col0, #T_be350_row6_col1, #T_be350_row7_col0, #T_be350_row7_col1, #T_be350_row8_col0, #T_be350_row8_col1, #T_be350_row9_col0, #T_be350_row9_col1, #T_be350_row10_col0, #T_be350_row10_col1, #T_be350_row11_col0, #T_be350_row11_col1, #T_be350_row12_col0, #T_be350_row12_col1 {\n",
       "  text-align: left;\n",
       "}\n",
       "</style>\n",
       "<table id=\"T_be350\" style=\"font-size: 14px\">\n",
       "  <thead>\n",
       "    <tr>\n",
       "      <th id=\"T_be350_level0_col0\" class=\"col_heading level0 col0\" >Series Descriptor</th>\n",
       "      <th id=\"T_be350_level0_col1\" class=\"col_heading level0 col1\" >Series-specific Information</th>\n",
       "    </tr>\n",
       "  </thead>\n",
       "  <tbody>\n",
       "    <tr>\n",
       "      <td id=\"T_be350_row0_col0\" class=\"data row0 col0\" >Citation (APA)</td>\n",
       "      <td id=\"T_be350_row0_col1\" class=\"data row0 col1\" >DOI and Citation TBC</td>\n",
       "    </tr>\n",
       "    <tr>\n",
       "      <td id=\"T_be350_row1_col0\" class=\"data row1 col0\" >Download Citation</td>\n",
       "      <td id=\"T_be350_row1_col1\" class=\"data row1 col1\" >DOI and Citation Downloads TBC</td>\n",
       "    </tr>\n",
       "    <tr>\n",
       "      <td id=\"T_be350_row2_col0\" class=\"data row2 col0\" >Owner</td>\n",
       "      <td id=\"T_be350_row2_col1\" class=\"data row2 col1\" >University of Bristol </td>\n",
       "    </tr>\n",
       "    <tr>\n",
       "      <td id=\"T_be350_row3_col0\" class=\"data row3 col0\" >Cohort</td>\n",
       "      <td id=\"T_be350_row3_col1\" class=\"data row3 col1\" >15,454 enrolled pregnancies <br>\r\n",
       "14,901 children (cohort members) alive at 1 year of age </td>\n",
       "    </tr>\n",
       "    <tr>\n",
       "      <td id=\"T_be350_row4_col0\" class=\"data row4 col0\" >Age at Recruitment</td>\n",
       "      <td id=\"T_be350_row4_col1\" class=\"data row4 col1\" >Birth</td>\n",
       "    </tr>\n",
       "    <tr>\n",
       "      <td id=\"T_be350_row5_col0\" class=\"data row5 col0\" >Geographical Coverage - Nations</td>\n",
       "      <td id=\"T_be350_row5_col1\" class=\"data row5 col1\" >England</td>\n",
       "    </tr>\n",
       "    <tr>\n",
       "      <td id=\"T_be350_row6_col0\" class=\"data row6 col0\" >Geographical Coverage - Regions</td>\n",
       "      <td id=\"T_be350_row6_col1\" class=\"data row6 col1\" >Bristol & District Health Authority (Former Avon Health Authority Area) </td>\n",
       "    </tr>\n",
       "    <tr>\n",
       "      <td id=\"T_be350_row7_col0\" class=\"data row7 col0\" >Start Date</td>\n",
       "      <td id=\"T_be350_row7_col1\" class=\"data row7 col1\" >1990</td>\n",
       "    </tr>\n",
       "    <tr>\n",
       "      <td id=\"T_be350_row8_col0\" class=\"data row8 col0\" >Permitted Linkages</td>\n",
       "      <td id=\"T_be350_row8_col1\" class=\"data row8 col1\" >See  <a href=\"https://guidebook.ukllc.ac.uk/docs/lps/linkages/lps_linkages\" rel=\"noopener noreferrer\" target=\"_blank\">here</a></td>\n",
       "    </tr>\n",
       "    <tr>\n",
       "      <td id=\"T_be350_row9_col0\" class=\"data row9 col0\" >Inclusion in Linkages</td>\n",
       "      <td id=\"T_be350_row9_col1\" class=\"data row9 col1\" >Consent and section 251</td>\n",
       "    </tr>\n",
       "    <tr>\n",
       "      <td id=\"T_be350_row10_col0\" class=\"data row10 col0\" >Cohort Profile</td>\n",
       "      <td id=\"T_be350_row10_col1\" class=\"data row10 col1\" > <a href=\"https://doi.org/10.1093/ije/dys064\" rel=\"noopener noreferrer\" target=\"_blank\">10.1093/ije/dys064</a></td>\n",
       "    </tr>\n",
       "    <tr>\n",
       "      <td id=\"T_be350_row11_col0\" class=\"data row11 col0\" >LPS Homepage</td>\n",
       "      <td id=\"T_be350_row11_col1\" class=\"data row11 col1\" ><p><a href=\"http://www.bristol.ac.uk/alspac/\">bristol.ac.uk</a></p></td>\n",
       "    </tr>\n",
       "    <tr>\n",
       "      <td id=\"T_be350_row12_col0\" class=\"data row12 col0\" >Build a Data Request</td>\n",
       "      <td id=\"T_be350_row12_col1\" class=\"data row12 col1\" > <a href=\"https://explore.ukllc.ac.uk/\" rel=\"noopener noreferrer\" target=\"_blank\">https://explore.ukllc.ac.uk/</a></td>\n",
       "    </tr>\n",
       "  </tbody>\n",
       "</table>\n"
      ],
      "text/plain": [
       "<pandas.io.formats.style.Styler at 0x14e67489310>"
      ]
     },
     "execution_count": 20,
     "metadata": {},
     "output_type": "execute_result"
    }
   ],
   "source": [
    "from data_doc_helper import LPSSource as SS, last_modified\n",
    "ss = SS(\"ALSPAC\")\n",
    "ss.info_table()"
   ]
  },
  {
   "cell_type": "code",
   "execution_count": 23,
   "id": "749d3522",
   "metadata": {
    "tags": [
     "remove-input"
    ]
   },
   "outputs": [
    {
     "data": {
      "text/markdown": [
       "### air_polution_pc"
      ],
      "text/plain": [
       "<IPython.core.display.Markdown object>"
      ]
     },
     "metadata": {},
     "output_type": "display_data"
    }
   ],
   "source": [
    "display(Markdown('### air_polution_pc'))"
   ]
  },
  {
   "cell_type": "code",
   "execution_count": 24,
   "id": "dc35de10",
   "metadata": {
    "tags": [
     "remove-input",
     "hide-cell"
    ]
   },
   "outputs": [
    {
     "data": {
      "text/html": [
       "<style type=\"text/css\">\n",
       "#T_33a96 th {\n",
       "  text-align: left;\n",
       "}\n",
       "#T_33a96_row0_col0, #T_33a96_row0_col1, #T_33a96_row1_col0, #T_33a96_row1_col1, #T_33a96_row2_col0, #T_33a96_row2_col1, #T_33a96_row3_col0, #T_33a96_row3_col1, #T_33a96_row4_col0, #T_33a96_row4_col1, #T_33a96_row5_col0, #T_33a96_row5_col1, #T_33a96_row6_col0, #T_33a96_row6_col1, #T_33a96_row7_col0, #T_33a96_row7_col1, #T_33a96_row8_col0, #T_33a96_row8_col1, #T_33a96_row9_col0, #T_33a96_row9_col1, #T_33a96_row10_col0, #T_33a96_row10_col1, #T_33a96_row11_col0, #T_33a96_row11_col1, #T_33a96_row12_col0, #T_33a96_row12_col1 {\n",
       "  text-align: left;\n",
       "}\n",
       "</style>\n",
       "<table id=\"T_33a96\" style=\"font-size: 14px\">\n",
       "  <thead>\n",
       "    <tr>\n",
       "      <th id=\"T_33a96_level0_col0\" class=\"col_heading level0 col0\" >Series Descriptor</th>\n",
       "      <th id=\"T_33a96_level0_col1\" class=\"col_heading level0 col1\" >Series-specific Information</th>\n",
       "    </tr>\n",
       "  </thead>\n",
       "  <tbody>\n",
       "    <tr>\n",
       "      <td id=\"T_33a96_row0_col0\" class=\"data row0 col0\" >Citation (APA)</td>\n",
       "      <td id=\"T_33a96_row0_col1\" class=\"data row0 col1\" >DOI and Citation TBC</td>\n",
       "    </tr>\n",
       "    <tr>\n",
       "      <td id=\"T_33a96_row1_col0\" class=\"data row1 col0\" >Download Citation</td>\n",
       "      <td id=\"T_33a96_row1_col1\" class=\"data row1 col1\" >DOI and Citation Downloads TBC</td>\n",
       "    </tr>\n",
       "    <tr>\n",
       "      <td id=\"T_33a96_row2_col0\" class=\"data row2 col0\" >Owner</td>\n",
       "      <td id=\"T_33a96_row2_col1\" class=\"data row2 col1\" >University of Bristol </td>\n",
       "    </tr>\n",
       "    <tr>\n",
       "      <td id=\"T_33a96_row3_col0\" class=\"data row3 col0\" >Cohort</td>\n",
       "      <td id=\"T_33a96_row3_col1\" class=\"data row3 col1\" >15,454 enrolled pregnancies <br>\r\n",
       "14,901 children (cohort members) alive at 1 year of age </td>\n",
       "    </tr>\n",
       "    <tr>\n",
       "      <td id=\"T_33a96_row4_col0\" class=\"data row4 col0\" >Age at Recruitment</td>\n",
       "      <td id=\"T_33a96_row4_col1\" class=\"data row4 col1\" >Birth</td>\n",
       "    </tr>\n",
       "    <tr>\n",
       "      <td id=\"T_33a96_row5_col0\" class=\"data row5 col0\" >Geographical Coverage - Nations</td>\n",
       "      <td id=\"T_33a96_row5_col1\" class=\"data row5 col1\" >England</td>\n",
       "    </tr>\n",
       "    <tr>\n",
       "      <td id=\"T_33a96_row6_col0\" class=\"data row6 col0\" >Geographical Coverage - Regions</td>\n",
       "      <td id=\"T_33a96_row6_col1\" class=\"data row6 col1\" >Bristol & District Health Authority (Former Avon Health Authority Area) </td>\n",
       "    </tr>\n",
       "    <tr>\n",
       "      <td id=\"T_33a96_row7_col0\" class=\"data row7 col0\" >Start Date</td>\n",
       "      <td id=\"T_33a96_row7_col1\" class=\"data row7 col1\" >1990</td>\n",
       "    </tr>\n",
       "    <tr>\n",
       "      <td id=\"T_33a96_row8_col0\" class=\"data row8 col0\" >Permitted Linkages</td>\n",
       "      <td id=\"T_33a96_row8_col1\" class=\"data row8 col1\" >See  <a href=\"https://guidebook.ukllc.ac.uk/docs/lps/linkages/lps_linkages\" rel=\"noopener noreferrer\" target=\"_blank\">here</a></td>\n",
       "    </tr>\n",
       "    <tr>\n",
       "      <td id=\"T_33a96_row9_col0\" class=\"data row9 col0\" >Inclusion in Linkages</td>\n",
       "      <td id=\"T_33a96_row9_col1\" class=\"data row9 col1\" >Consent and section 251</td>\n",
       "    </tr>\n",
       "    <tr>\n",
       "      <td id=\"T_33a96_row10_col0\" class=\"data row10 col0\" >Cohort Profile</td>\n",
       "      <td id=\"T_33a96_row10_col1\" class=\"data row10 col1\" > <a href=\"https://doi.org/10.1093/ije/dys064\" rel=\"noopener noreferrer\" target=\"_blank\">10.1093/ije/dys064</a></td>\n",
       "    </tr>\n",
       "    <tr>\n",
       "      <td id=\"T_33a96_row11_col0\" class=\"data row11 col0\" >LPS Homepage</td>\n",
       "      <td id=\"T_33a96_row11_col1\" class=\"data row11 col1\" ><p><a href=\"http://www.bristol.ac.uk/alspac/\">bristol.ac.uk</a></p></td>\n",
       "    </tr>\n",
       "    <tr>\n",
       "      <td id=\"T_33a96_row12_col0\" class=\"data row12 col0\" >Build a Data Request</td>\n",
       "      <td id=\"T_33a96_row12_col1\" class=\"data row12 col1\" > <a href=\"https://explore.ukllc.ac.uk/\" rel=\"noopener noreferrer\" target=\"_blank\">https://explore.ukllc.ac.uk/</a></td>\n",
       "    </tr>\n",
       "  </tbody>\n",
       "</table>\n"
      ],
      "text/plain": [
       "<pandas.io.formats.style.Styler at 0x14e6740a5d0>"
      ]
     },
     "execution_count": 24,
     "metadata": {},
     "output_type": "execute_result"
    }
   ],
   "source": [
    "from data_doc_helper import LPSSource as SS, last_modified\n",
    "ss = SS(\"ALSPAC\")\n",
    "ss.info_table()"
   ]
  },
  {
   "cell_type": "markdown",
   "id": "10547426",
   "metadata": {},
   "source": [
    "## 2. Variables"
   ]
  },
  {
   "cell_type": "code",
   "execution_count": 27,
   "id": "35dfd0a3",
   "metadata": {
    "tags": [
     "remove-input"
    ]
   },
   "outputs": [
    {
     "data": {
      "text/markdown": [
       "### air_polution_hh"
      ],
      "text/plain": [
       "<IPython.core.display.Markdown object>"
      ]
     },
     "metadata": {},
     "output_type": "display_data"
    }
   ],
   "source": [
    "display(Markdown('### air_polution_hh'))"
   ]
  },
  {
   "cell_type": "code",
   "execution_count": 26,
   "id": "bc866257",
   "metadata": {
    "tags": [
     "remove-input",
     "hide-cell"
    ]
   },
   "outputs": [
    {
     "data": {
      "text/html": [
       "<style type=\"text/css\">\n",
       "#T_a68b3 th {\n",
       "  text-align: left;\n",
       "}\n",
       "#T_a68b3_row0_col0, #T_a68b3_row0_col1, #T_a68b3_row1_col0, #T_a68b3_row1_col1, #T_a68b3_row2_col0, #T_a68b3_row2_col1, #T_a68b3_row3_col0, #T_a68b3_row3_col1, #T_a68b3_row4_col0, #T_a68b3_row4_col1, #T_a68b3_row5_col0, #T_a68b3_row5_col1, #T_a68b3_row6_col0, #T_a68b3_row6_col1, #T_a68b3_row7_col0, #T_a68b3_row7_col1, #T_a68b3_row8_col0, #T_a68b3_row8_col1, #T_a68b3_row9_col0, #T_a68b3_row9_col1, #T_a68b3_row10_col0, #T_a68b3_row10_col1, #T_a68b3_row11_col0, #T_a68b3_row11_col1, #T_a68b3_row12_col0, #T_a68b3_row12_col1 {\n",
       "  text-align: left;\n",
       "}\n",
       "</style>\n",
       "<table id=\"T_a68b3\" style=\"font-size: 14px\">\n",
       "  <thead>\n",
       "    <tr>\n",
       "      <th id=\"T_a68b3_level0_col0\" class=\"col_heading level0 col0\" >Series Descriptor</th>\n",
       "      <th id=\"T_a68b3_level0_col1\" class=\"col_heading level0 col1\" >Series-specific Information</th>\n",
       "    </tr>\n",
       "  </thead>\n",
       "  <tbody>\n",
       "    <tr>\n",
       "      <td id=\"T_a68b3_row0_col0\" class=\"data row0 col0\" >Citation (APA)</td>\n",
       "      <td id=\"T_a68b3_row0_col1\" class=\"data row0 col1\" >DOI and Citation TBC</td>\n",
       "    </tr>\n",
       "    <tr>\n",
       "      <td id=\"T_a68b3_row1_col0\" class=\"data row1 col0\" >Download Citation</td>\n",
       "      <td id=\"T_a68b3_row1_col1\" class=\"data row1 col1\" >DOI and Citation Downloads TBC</td>\n",
       "    </tr>\n",
       "    <tr>\n",
       "      <td id=\"T_a68b3_row2_col0\" class=\"data row2 col0\" >Owner</td>\n",
       "      <td id=\"T_a68b3_row2_col1\" class=\"data row2 col1\" >University of Bristol </td>\n",
       "    </tr>\n",
       "    <tr>\n",
       "      <td id=\"T_a68b3_row3_col0\" class=\"data row3 col0\" >Cohort</td>\n",
       "      <td id=\"T_a68b3_row3_col1\" class=\"data row3 col1\" >15,454 enrolled pregnancies <br>\r\n",
       "14,901 children (cohort members) alive at 1 year of age </td>\n",
       "    </tr>\n",
       "    <tr>\n",
       "      <td id=\"T_a68b3_row4_col0\" class=\"data row4 col0\" >Age at Recruitment</td>\n",
       "      <td id=\"T_a68b3_row4_col1\" class=\"data row4 col1\" >Birth</td>\n",
       "    </tr>\n",
       "    <tr>\n",
       "      <td id=\"T_a68b3_row5_col0\" class=\"data row5 col0\" >Geographical Coverage - Nations</td>\n",
       "      <td id=\"T_a68b3_row5_col1\" class=\"data row5 col1\" >England</td>\n",
       "    </tr>\n",
       "    <tr>\n",
       "      <td id=\"T_a68b3_row6_col0\" class=\"data row6 col0\" >Geographical Coverage - Regions</td>\n",
       "      <td id=\"T_a68b3_row6_col1\" class=\"data row6 col1\" >Bristol & District Health Authority (Former Avon Health Authority Area) </td>\n",
       "    </tr>\n",
       "    <tr>\n",
       "      <td id=\"T_a68b3_row7_col0\" class=\"data row7 col0\" >Start Date</td>\n",
       "      <td id=\"T_a68b3_row7_col1\" class=\"data row7 col1\" >1990</td>\n",
       "    </tr>\n",
       "    <tr>\n",
       "      <td id=\"T_a68b3_row8_col0\" class=\"data row8 col0\" >Permitted Linkages</td>\n",
       "      <td id=\"T_a68b3_row8_col1\" class=\"data row8 col1\" >See  <a href=\"https://guidebook.ukllc.ac.uk/docs/lps/linkages/lps_linkages\" rel=\"noopener noreferrer\" target=\"_blank\">here</a></td>\n",
       "    </tr>\n",
       "    <tr>\n",
       "      <td id=\"T_a68b3_row9_col0\" class=\"data row9 col0\" >Inclusion in Linkages</td>\n",
       "      <td id=\"T_a68b3_row9_col1\" class=\"data row9 col1\" >Consent and section 251</td>\n",
       "    </tr>\n",
       "    <tr>\n",
       "      <td id=\"T_a68b3_row10_col0\" class=\"data row10 col0\" >Cohort Profile</td>\n",
       "      <td id=\"T_a68b3_row10_col1\" class=\"data row10 col1\" > <a href=\"https://doi.org/10.1093/ije/dys064\" rel=\"noopener noreferrer\" target=\"_blank\">10.1093/ije/dys064</a></td>\n",
       "    </tr>\n",
       "    <tr>\n",
       "      <td id=\"T_a68b3_row11_col0\" class=\"data row11 col0\" >LPS Homepage</td>\n",
       "      <td id=\"T_a68b3_row11_col1\" class=\"data row11 col1\" ><p><a href=\"http://www.bristol.ac.uk/alspac/\">bristol.ac.uk</a></p></td>\n",
       "    </tr>\n",
       "    <tr>\n",
       "      <td id=\"T_a68b3_row12_col0\" class=\"data row12 col0\" >Build a Data Request</td>\n",
       "      <td id=\"T_a68b3_row12_col1\" class=\"data row12 col1\" > <a href=\"https://explore.ukllc.ac.uk/\" rel=\"noopener noreferrer\" target=\"_blank\">https://explore.ukllc.ac.uk/</a></td>\n",
       "    </tr>\n",
       "  </tbody>\n",
       "</table>\n"
      ],
      "text/plain": [
       "<pandas.io.formats.style.Styler at 0x14e6715e350>"
      ]
     },
     "execution_count": 26,
     "metadata": {},
     "output_type": "execute_result"
    }
   ],
   "source": [
    "from data_doc_helper import LPSSource as SS, last_modified\n",
    "ss = SS(\"ALSPAC\")\n",
    "ss.info_table()"
   ]
  },
  {
   "cell_type": "code",
   "execution_count": 28,
   "id": "83766c0d",
   "metadata": {
    "tags": [
     "remove-input"
    ]
   },
   "outputs": [
    {
     "data": {
      "text/markdown": [
       "### air_polution_pc"
      ],
      "text/plain": [
       "<IPython.core.display.Markdown object>"
      ]
     },
     "metadata": {},
     "output_type": "display_data"
    }
   ],
   "source": [
    "display(Markdown('### air_polution_pc'))"
   ]
  },
  {
   "cell_type": "code",
   "execution_count": 29,
   "id": "20f3222a",
   "metadata": {
    "tags": [
     "remove-input",
     "hide-cell"
    ]
   },
   "outputs": [
    {
     "data": {
      "text/html": [
       "<style type=\"text/css\">\n",
       "#T_2819f th {\n",
       "  text-align: left;\n",
       "}\n",
       "#T_2819f_row0_col0, #T_2819f_row0_col1, #T_2819f_row1_col0, #T_2819f_row1_col1, #T_2819f_row2_col0, #T_2819f_row2_col1, #T_2819f_row3_col0, #T_2819f_row3_col1, #T_2819f_row4_col0, #T_2819f_row4_col1, #T_2819f_row5_col0, #T_2819f_row5_col1, #T_2819f_row6_col0, #T_2819f_row6_col1, #T_2819f_row7_col0, #T_2819f_row7_col1, #T_2819f_row8_col0, #T_2819f_row8_col1, #T_2819f_row9_col0, #T_2819f_row9_col1, #T_2819f_row10_col0, #T_2819f_row10_col1, #T_2819f_row11_col0, #T_2819f_row11_col1, #T_2819f_row12_col0, #T_2819f_row12_col1 {\n",
       "  text-align: left;\n",
       "}\n",
       "</style>\n",
       "<table id=\"T_2819f\" style=\"font-size: 14px\">\n",
       "  <thead>\n",
       "    <tr>\n",
       "      <th id=\"T_2819f_level0_col0\" class=\"col_heading level0 col0\" >Series Descriptor</th>\n",
       "      <th id=\"T_2819f_level0_col1\" class=\"col_heading level0 col1\" >Series-specific Information</th>\n",
       "    </tr>\n",
       "  </thead>\n",
       "  <tbody>\n",
       "    <tr>\n",
       "      <td id=\"T_2819f_row0_col0\" class=\"data row0 col0\" >Citation (APA)</td>\n",
       "      <td id=\"T_2819f_row0_col1\" class=\"data row0 col1\" >DOI and Citation TBC</td>\n",
       "    </tr>\n",
       "    <tr>\n",
       "      <td id=\"T_2819f_row1_col0\" class=\"data row1 col0\" >Download Citation</td>\n",
       "      <td id=\"T_2819f_row1_col1\" class=\"data row1 col1\" >DOI and Citation Downloads TBC</td>\n",
       "    </tr>\n",
       "    <tr>\n",
       "      <td id=\"T_2819f_row2_col0\" class=\"data row2 col0\" >Owner</td>\n",
       "      <td id=\"T_2819f_row2_col1\" class=\"data row2 col1\" >University of Bristol </td>\n",
       "    </tr>\n",
       "    <tr>\n",
       "      <td id=\"T_2819f_row3_col0\" class=\"data row3 col0\" >Cohort</td>\n",
       "      <td id=\"T_2819f_row3_col1\" class=\"data row3 col1\" >15,454 enrolled pregnancies <br>\r\n",
       "14,901 children (cohort members) alive at 1 year of age </td>\n",
       "    </tr>\n",
       "    <tr>\n",
       "      <td id=\"T_2819f_row4_col0\" class=\"data row4 col0\" >Age at Recruitment</td>\n",
       "      <td id=\"T_2819f_row4_col1\" class=\"data row4 col1\" >Birth</td>\n",
       "    </tr>\n",
       "    <tr>\n",
       "      <td id=\"T_2819f_row5_col0\" class=\"data row5 col0\" >Geographical Coverage - Nations</td>\n",
       "      <td id=\"T_2819f_row5_col1\" class=\"data row5 col1\" >England</td>\n",
       "    </tr>\n",
       "    <tr>\n",
       "      <td id=\"T_2819f_row6_col0\" class=\"data row6 col0\" >Geographical Coverage - Regions</td>\n",
       "      <td id=\"T_2819f_row6_col1\" class=\"data row6 col1\" >Bristol & District Health Authority (Former Avon Health Authority Area) </td>\n",
       "    </tr>\n",
       "    <tr>\n",
       "      <td id=\"T_2819f_row7_col0\" class=\"data row7 col0\" >Start Date</td>\n",
       "      <td id=\"T_2819f_row7_col1\" class=\"data row7 col1\" >1990</td>\n",
       "    </tr>\n",
       "    <tr>\n",
       "      <td id=\"T_2819f_row8_col0\" class=\"data row8 col0\" >Permitted Linkages</td>\n",
       "      <td id=\"T_2819f_row8_col1\" class=\"data row8 col1\" >See  <a href=\"https://guidebook.ukllc.ac.uk/docs/lps/linkages/lps_linkages\" rel=\"noopener noreferrer\" target=\"_blank\">here</a></td>\n",
       "    </tr>\n",
       "    <tr>\n",
       "      <td id=\"T_2819f_row9_col0\" class=\"data row9 col0\" >Inclusion in Linkages</td>\n",
       "      <td id=\"T_2819f_row9_col1\" class=\"data row9 col1\" >Consent and section 251</td>\n",
       "    </tr>\n",
       "    <tr>\n",
       "      <td id=\"T_2819f_row10_col0\" class=\"data row10 col0\" >Cohort Profile</td>\n",
       "      <td id=\"T_2819f_row10_col1\" class=\"data row10 col1\" > <a href=\"https://doi.org/10.1093/ije/dys064\" rel=\"noopener noreferrer\" target=\"_blank\">10.1093/ije/dys064</a></td>\n",
       "    </tr>\n",
       "    <tr>\n",
       "      <td id=\"T_2819f_row11_col0\" class=\"data row11 col0\" >LPS Homepage</td>\n",
       "      <td id=\"T_2819f_row11_col1\" class=\"data row11 col1\" ><p><a href=\"http://www.bristol.ac.uk/alspac/\">bristol.ac.uk</a></p></td>\n",
       "    </tr>\n",
       "    <tr>\n",
       "      <td id=\"T_2819f_row12_col0\" class=\"data row12 col0\" >Build a Data Request</td>\n",
       "      <td id=\"T_2819f_row12_col1\" class=\"data row12 col1\" > <a href=\"https://explore.ukllc.ac.uk/\" rel=\"noopener noreferrer\" target=\"_blank\">https://explore.ukllc.ac.uk/</a></td>\n",
       "    </tr>\n",
       "  </tbody>\n",
       "</table>\n"
      ],
      "text/plain": [
       "<pandas.io.formats.style.Styler at 0x14e6740aad0>"
      ]
     },
     "execution_count": 29,
     "metadata": {},
     "output_type": "execute_result"
    }
   ],
   "source": [
    "from data_doc_helper import LPSSource as SS, last_modified\n",
    "ss = SS(\"ALSPAC\")\n",
    "ss.info_table()"
   ]
  },
  {
   "cell_type": "markdown",
   "id": "4705ea18",
   "metadata": {},
   "source": [
    "## 3. Metrics"
   ]
  },
  {
   "cell_type": "code",
   "execution_count": 30,
   "id": "66756281",
   "metadata": {
    "tags": [
     "remove-input"
    ]
   },
   "outputs": [
    {
     "data": {
      "application/javascript": "'use strict';\n(function(root) {\n  function now() {\n    return new Date();\n  }\n\n  const force = true;\n\n  if (typeof root._bokeh_onload_callbacks === \"undefined\" || force === true) {\n    root._bokeh_onload_callbacks = [];\n    root._bokeh_is_loading = undefined;\n  }\n\nconst JS_MIME_TYPE = 'application/javascript';\n  const HTML_MIME_TYPE = 'text/html';\n  const EXEC_MIME_TYPE = 'application/vnd.bokehjs_exec.v0+json';\n  const CLASS_NAME = 'output_bokeh rendered_html';\n\n  /**\n   * Render data to the DOM node\n   */\n  function render(props, node) {\n    const script = document.createElement(\"script\");\n    node.appendChild(script);\n  }\n\n  /**\n   * Handle when an output is cleared or removed\n   */\n  function handleClearOutput(event, handle) {\n    function drop(id) {\n      const view = Bokeh.index.get_by_id(id)\n      if (view != null) {\n        view.model.document.clear()\n        Bokeh.index.delete(view)\n      }\n    }\n\n    const cell = handle.cell;\n\n    const id = cell.output_area._bokeh_element_id;\n    const server_id = cell.output_area._bokeh_server_id;\n\n    // Clean up Bokeh references\n    if (id != null) {\n      drop(id)\n    }\n\n    if (server_id !== undefined) {\n      // Clean up Bokeh references\n      const cmd_clean = \"from bokeh.io.state import curstate; print(curstate().uuid_to_server['\" + server_id + \"'].get_sessions()[0].document.roots[0]._id)\";\n      cell.notebook.kernel.execute(cmd_clean, {\n        iopub: {\n          output: function(msg) {\n            const id = msg.content.text.trim()\n            drop(id)\n          }\n        }\n      });\n      // Destroy server and session\n      const cmd_destroy = \"import bokeh.io.notebook as ion; ion.destroy_server('\" + server_id + \"')\";\n      cell.notebook.kernel.execute(cmd_destroy);\n    }\n  }\n\n  /**\n   * Handle when a new output is added\n   */\n  function handleAddOutput(event, handle) {\n    const output_area = handle.output_area;\n    const output = handle.output;\n\n    // limit handleAddOutput to display_data with EXEC_MIME_TYPE content only\n    if ((output.output_type != \"display_data\") || (!Object.prototype.hasOwnProperty.call(output.data, EXEC_MIME_TYPE))) {\n      return\n    }\n\n    const toinsert = output_area.element.find(\".\" + CLASS_NAME.split(' ')[0]);\n\n    if (output.metadata[EXEC_MIME_TYPE][\"id\"] !== undefined) {\n      toinsert[toinsert.length - 1].firstChild.textContent = output.data[JS_MIME_TYPE];\n      // store reference to embed id on output_area\n      output_area._bokeh_element_id = output.metadata[EXEC_MIME_TYPE][\"id\"];\n    }\n    if (output.metadata[EXEC_MIME_TYPE][\"server_id\"] !== undefined) {\n      const bk_div = document.createElement(\"div\");\n      bk_div.innerHTML = output.data[HTML_MIME_TYPE];\n      const script_attrs = bk_div.children[0].attributes;\n      for (let i = 0; i < script_attrs.length; i++) {\n        toinsert[toinsert.length - 1].firstChild.setAttribute(script_attrs[i].name, script_attrs[i].value);\n        toinsert[toinsert.length - 1].firstChild.textContent = bk_div.children[0].textContent\n      }\n      // store reference to server id on output_area\n      output_area._bokeh_server_id = output.metadata[EXEC_MIME_TYPE][\"server_id\"];\n    }\n  }\n\n  function register_renderer(events, OutputArea) {\n\n    function append_mime(data, metadata, element) {\n      // create a DOM node to render to\n      const toinsert = this.create_output_subarea(\n        metadata,\n        CLASS_NAME,\n        EXEC_MIME_TYPE\n      );\n      this.keyboard_manager.register_events(toinsert);\n      // Render to node\n      const props = {data: data, metadata: metadata[EXEC_MIME_TYPE]};\n      render(props, toinsert[toinsert.length - 1]);\n      element.append(toinsert);\n      return toinsert\n    }\n\n    /* Handle when an output is cleared or removed */\n    events.on('clear_output.CodeCell', handleClearOutput);\n    events.on('delete.Cell', handleClearOutput);\n\n    /* Handle when a new output is added */\n    events.on('output_added.OutputArea', handleAddOutput);\n\n    /**\n     * Register the mime type and append_mime function with output_area\n     */\n    OutputArea.prototype.register_mime_type(EXEC_MIME_TYPE, append_mime, {\n      /* Is output safe? */\n      safe: true,\n      /* Index of renderer in `output_area.display_order` */\n      index: 0\n    });\n  }\n\n  // register the mime type if in Jupyter Notebook environment and previously unregistered\n  if (root.Jupyter !== undefined) {\n    const events = require('base/js/events');\n    const OutputArea = require('notebook/js/outputarea').OutputArea;\n\n    if (OutputArea.prototype.mime_types().indexOf(EXEC_MIME_TYPE) == -1) {\n      register_renderer(events, OutputArea);\n    }\n  }\n  if (typeof (root._bokeh_timeout) === \"undefined\" || force === true) {\n    root._bokeh_timeout = Date.now() + 5000;\n    root._bokeh_failed_load = false;\n  }\n\n  const NB_LOAD_WARNING = {'data': {'text/html':\n     \"<div style='background-color: #fdd'>\\n\"+\n     \"<p>\\n\"+\n     \"BokehJS does not appear to have successfully loaded. If loading BokehJS from CDN, this \\n\"+\n     \"may be due to a slow or bad network connection. Possible fixes:\\n\"+\n     \"</p>\\n\"+\n     \"<ul>\\n\"+\n     \"<li>re-rerun `output_notebook()` to attempt to load from CDN again, or</li>\\n\"+\n     \"<li>use INLINE resources instead, as so:</li>\\n\"+\n     \"</ul>\\n\"+\n     \"<code>\\n\"+\n     \"from bokeh.resources import INLINE\\n\"+\n     \"output_notebook(resources=INLINE)\\n\"+\n     \"</code>\\n\"+\n     \"</div>\"}};\n\n  function display_loaded(error = null) {\n    const el = document.getElementById(null);\n    if (el != null) {\n      const html = (() => {\n        if (typeof root.Bokeh === \"undefined\") {\n          if (error == null) {\n            return \"BokehJS is loading ...\";\n          } else {\n            return \"BokehJS failed to load.\";\n          }\n        } else {\n          const prefix = `BokehJS ${root.Bokeh.version}`;\n          if (error == null) {\n            return `${prefix} successfully loaded.`;\n          } else {\n            return `${prefix} <b>encountered errors</b> while loading and may not function as expected.`;\n          }\n        }\n      })();\n      el.innerHTML = html;\n\n      if (error != null) {\n        const wrapper = document.createElement(\"div\");\n        wrapper.style.overflow = \"auto\";\n        wrapper.style.height = \"5em\";\n        wrapper.style.resize = \"vertical\";\n        const content = document.createElement(\"div\");\n        content.style.fontFamily = \"monospace\";\n        content.style.whiteSpace = \"pre-wrap\";\n        content.style.backgroundColor = \"rgb(255, 221, 221)\";\n        content.textContent = error.stack ?? error.toString();\n        wrapper.append(content);\n        el.append(wrapper);\n      }\n    } else if (Date.now() < root._bokeh_timeout) {\n      setTimeout(() => display_loaded(error), 100);\n    }\n  }\n\n  function run_callbacks() {\n    try {\n      root._bokeh_onload_callbacks.forEach(function(callback) {\n        if (callback != null)\n          callback();\n      });\n    } finally {\n      delete root._bokeh_onload_callbacks\n    }\n    console.debug(\"Bokeh: all callbacks have finished\");\n  }\n\n  function load_libs(css_urls, js_urls, callback) {\n    if (css_urls == null) css_urls = [];\n    if (js_urls == null) js_urls = [];\n\n    root._bokeh_onload_callbacks.push(callback);\n    if (root._bokeh_is_loading > 0) {\n      console.debug(\"Bokeh: BokehJS is being loaded, scheduling callback at\", now());\n      return null;\n    }\n    if (js_urls == null || js_urls.length === 0) {\n      run_callbacks();\n      return null;\n    }\n    console.debug(\"Bokeh: BokehJS not loaded, scheduling load and callback at\", now());\n    root._bokeh_is_loading = css_urls.length + js_urls.length;\n\n    function on_load() {\n      root._bokeh_is_loading--;\n      if (root._bokeh_is_loading === 0) {\n        console.debug(\"Bokeh: all BokehJS libraries/stylesheets loaded\");\n        run_callbacks()\n      }\n    }\n\n    function on_error(url) {\n      console.error(\"failed to load \" + url);\n    }\n\n    for (let i = 0; i < css_urls.length; i++) {\n      const url = css_urls[i];\n      const element = document.createElement(\"link\");\n      element.onload = on_load;\n      element.onerror = on_error.bind(null, url);\n      element.rel = \"stylesheet\";\n      element.type = \"text/css\";\n      element.href = url;\n      console.debug(\"Bokeh: injecting link tag for BokehJS stylesheet: \", url);\n      document.body.appendChild(element);\n    }\n\n    for (let i = 0; i < js_urls.length; i++) {\n      const url = js_urls[i];\n      const element = document.createElement('script');\n      element.onload = on_load;\n      element.onerror = on_error.bind(null, url);\n      element.async = false;\n      element.src = url;\n      console.debug(\"Bokeh: injecting script tag for BokehJS library: \", url);\n      document.head.appendChild(element);\n    }\n  };\n\n  function inject_raw_css(css) {\n    const element = document.createElement(\"style\");\n    element.appendChild(document.createTextNode(css));\n    document.body.appendChild(element);\n  }\n\n  const js_urls = [\"https://cdn.bokeh.org/bokeh/release/bokeh-3.7.2.min.js\", \"https://cdn.bokeh.org/bokeh/release/bokeh-gl-3.7.2.min.js\", \"https://cdn.bokeh.org/bokeh/release/bokeh-widgets-3.7.2.min.js\", \"https://cdn.bokeh.org/bokeh/release/bokeh-tables-3.7.2.min.js\", \"https://cdn.bokeh.org/bokeh/release/bokeh-mathjax-3.7.2.min.js\"];\n  const css_urls = [];\n\n  const inline_js = [    function(Bokeh) {\n      Bokeh.set_log_level(\"info\");\n    },\nfunction(Bokeh) {\n    }\n  ];\n\n  function run_inline_js() {\n    if (root.Bokeh !== undefined || force === true) {\n      try {\n            for (let i = 0; i < inline_js.length; i++) {\n      inline_js[i].call(root, root.Bokeh);\n    }\n\n      } catch (error) {throw error;\n      }} else if (Date.now() < root._bokeh_timeout) {\n      setTimeout(run_inline_js, 100);\n    } else if (!root._bokeh_failed_load) {\n      console.log(\"Bokeh: BokehJS failed to load within specified timeout.\");\n      root._bokeh_failed_load = true;\n    } else if (force !== true) {\n      const cell = $(document.getElementById(null)).parents('.cell').data().cell;\n      cell.output_area.append_execute_result(NB_LOAD_WARNING)\n    }\n  }\n\n  if (root._bokeh_is_loading === 0) {\n    console.debug(\"Bokeh: BokehJS loaded, going straight to plotting\");\n    run_inline_js();\n  } else {\n    load_libs(css_urls, js_urls, function() {\n      console.debug(\"Bokeh: BokehJS plotting callback run at\", now());\n      run_inline_js();\n    });\n  }\n}(window));",
      "application/vnd.bokehjs_load.v0+json": ""
     },
     "metadata": {},
     "output_type": "display_data"
    },
    {
     "data": {
      "text/markdown": [
       "Click on the plus sign to see the number of participants represented in each dataset."
      ],
      "text/plain": [
       "<IPython.core.display.Markdown object>"
      ]
     },
     "metadata": {},
     "output_type": "display_data"
    },
    {
     "data": {
      "text/markdown": [
       "**Table 2:** Participants from each LPS represented in the IAPT dataset in the UK LLC TRE. **Note:** Individual cohort counts of less than 10 are suppressed to <10 and excluded from total participant counts for datasets."
      ],
      "text/plain": [
       "<IPython.core.display.Markdown object>"
      ]
     },
     "metadata": {},
     "output_type": "display_data"
    },
    {
     "data": {
      "text/html": [
       "\n",
       "  <div id=\"b7beed08-f4bf-4125-b1f3-97659d30709f\" data-root-id=\"p1066\" style=\"display: contents;\"></div>\n"
      ]
     },
     "metadata": {},
     "output_type": "display_data"
    },
    {
     "data": {
      "application/javascript": "(function(root) {\n  function embed_document(root) {\n  const docs_json = {\"f3e5b8c2-ceb9-479a-a700-58a8f923eb61\":{\"version\":\"3.7.2\",\"title\":\"Bokeh Application\",\"roots\":[{\"type\":\"object\",\"name\":\"DataCube\",\"id\":\"p1066\",\"attributes\":{\"source\":{\"type\":\"object\",\"name\":\"ColumnDataSource\",\"id\":\"p1050\",\"attributes\":{\"selected\":{\"type\":\"object\",\"name\":\"Selection\",\"id\":\"p1051\",\"attributes\":{\"indices\":[],\"line_indices\":[]}},\"selection_policy\":{\"type\":\"object\",\"name\":\"UnionRenderers\",\"id\":\"p1052\"},\"data\":{\"type\":\"map\",\"entries\":[[\"d0\",[\"IAPT_care_activities\",\"IAPT_care_activities\",\"IAPT_care_activities\",\"IAPT_care_activities\",\"IAPT_care_activities\",\"IAPT_care_activities\",\"IAPT_care_activities\",\"IAPT_care_activities\",\"IAPT_care_activities\",\"IAPT_care_activities\",\"IAPT_care_activities\",\"IAPT_care_activities\",\"IAPT_care_activities\",\"IAPT_care_activities\",\"IAPT_care_activities\",\"IAPT_care_activities\",\"IAPT_care_activities\",\"IAPT_care_cluster\",\"IAPT_care_cluster\",\"IAPT_care_cluster\",\"IAPT_care_cluster\",\"IAPT_care_cluster\",\"IAPT_care_cluster\",\"IAPT_care_cluster\",\"IAPT_care_cluster\",\"IAPT_care_cluster\",\"IAPT_care_cluster\",\"IAPT_care_cluster\",\"IAPT_care_cluster\",\"IAPT_care_cluster\",\"IAPT_care_cluster\",\"IAPT_care_cluster\",\"IAPT_care_cluster\",\"IAPT_care_cluster\",\"IAPT_coded_scored_assessments\",\"IAPT_coded_scored_assessments\",\"IAPT_coded_scored_assessments\",\"IAPT_coded_scored_assessments\",\"IAPT_coded_scored_assessments\",\"IAPT_coded_scored_assessments\",\"IAPT_coded_scored_assessments\",\"IAPT_coded_scored_assessments\",\"IAPT_coded_scored_assessments\",\"IAPT_coded_scored_assessments\",\"IAPT_coded_scored_assessments\",\"IAPT_coded_scored_assessments\",\"IAPT_coded_scored_assessments\",\"IAPT_coded_scored_assessments\",\"IAPT_coded_scored_assessments\",\"IAPT_coded_scored_assessments\",\"IAPT_coded_scored_assessments\",\"IAPT_demographics_and_referral\",\"IAPT_demographics_and_referral\",\"IAPT_demographics_and_referral\",\"IAPT_demographics_and_referral\",\"IAPT_demographics_and_referral\",\"IAPT_demographics_and_referral\",\"IAPT_demographics_and_referral\",\"IAPT_demographics_and_referral\",\"IAPT_demographics_and_referral\",\"IAPT_demographics_and_referral\",\"IAPT_demographics_and_referral\",\"IAPT_demographics_and_referral\",\"IAPT_demographics_and_referral\",\"IAPT_demographics_and_referral\",\"IAPT_demographics_and_referral\",\"IAPT_demographics_and_referral\",\"IAPT_demographics_and_referral\",\"IAPT_employment_status\",\"IAPT_employment_status\",\"IAPT_employment_status\",\"IAPT_employment_status\",\"IAPT_employment_status\",\"IAPT_employment_status\",\"IAPT_employment_status\",\"IAPT_employment_status\",\"IAPT_employment_status\",\"IAPT_employment_status\",\"IAPT_employment_status\",\"IAPT_employment_status\",\"IAPT_employment_status\",\"IAPT_employment_status\",\"IAPT_employment_status\",\"IAPT_employment_status\",\"IAPT_employment_status\",\"IAPT_internet_enabled_therapies\",\"IAPT_internet_enabled_therapies\",\"IAPT_internet_enabled_therapies\",\"IAPT_internet_enabled_therapies\",\"IAPT_internet_enabled_therapies\",\"IAPT_internet_enabled_therapies\",\"IAPT_internet_enabled_therapies\",\"IAPT_internet_enabled_therapies\",\"IAPT_internet_enabled_therapies\",\"IAPT_internet_enabled_therapies\",\"IAPT_internet_enabled_therapies\",\"IAPT_internet_enabled_therapies\",\"IAPT_internet_enabled_therapies\",\"IAPT_internet_enabled_therapies\",\"IAPT_internet_enabled_therapies\",\"IAPT_internet_enabled_therapies\",\"IAPT_internet_enabled_therapies\",\"IAPT_mental_and_physical_health_conditions\",\"IAPT_mental_and_physical_health_conditions\",\"IAPT_mental_and_physical_health_conditions\",\"IAPT_mental_and_physical_health_conditions\",\"IAPT_mental_and_physical_health_conditions\",\"IAPT_mental_and_physical_health_conditions\",\"IAPT_mental_and_physical_health_conditions\",\"IAPT_mental_and_physical_health_conditions\",\"IAPT_mental_and_physical_health_conditions\",\"IAPT_mental_and_physical_health_conditions\",\"IAPT_mental_and_physical_health_conditions\",\"IAPT_mental_and_physical_health_conditions\",\"IAPT_mental_and_physical_health_conditions\",\"IAPT_mental_and_physical_health_conditions\",\"IAPT_mental_and_physical_health_conditions\",\"IAPT_mental_and_physical_health_conditions\",\"IAPT_mental_and_physical_health_conditions\",\"IAPT_onward_referrals\",\"IAPT_onward_referrals\",\"IAPT_onward_referrals\",\"IAPT_onward_referrals\",\"IAPT_onward_referrals\",\"IAPT_onward_referrals\",\"IAPT_onward_referrals\",\"IAPT_onward_referrals\",\"IAPT_onward_referrals\",\"IAPT_onward_referrals\",\"IAPT_onward_referrals\",\"IAPT_onward_referrals\",\"IAPT_onward_referrals\",\"IAPT_onward_referrals\",\"IAPT_onward_referrals\",\"IAPT_onward_referrals\",\"IAPT_onward_referrals\",\"IAPT_waiting_time_pauses\",\"IAPT_waiting_time_pauses\",\"IAPT_waiting_time_pauses\",\"IAPT_waiting_time_pauses\",\"IAPT_waiting_time_pauses\",\"IAPT_waiting_time_pauses\",\"IAPT_waiting_time_pauses\",\"IAPT_waiting_time_pauses\",\"IAPT_waiting_time_pauses\",\"IAPT_waiting_time_pauses\",\"IAPT_waiting_time_pauses\",\"IAPT_waiting_time_pauses\",\"IAPT_waiting_time_pauses\",\"IAPT_waiting_time_pauses\",\"IAPT_waiting_time_pauses\",\"IAPT_waiting_time_pauses\",\"IAPT_waiting_time_pauses\"]],[\"d1\",[\"ALSPAC\",\"BCS70\",\"BIB\",\"ELSA\",\"EPICN\",\"EXCEED\",\"FENLAND\",\"GLAD\",\"MCS\",\"NCDS58\",\"NEXTSTEP\",\"NIHRBIO_COPING\",\"NSHD46\",\"TEDS\",\"TRACKC19\",\"TWINSUK\",\"UKHLS\",\"ALSPAC\",\"BCS70\",\"BIB\",\"ELSA\",\"EPICN\",\"EXCEED\",\"FENLAND\",\"GLAD\",\"MCS\",\"NCDS58\",\"NEXTSTEP\",\"NIHRBIO_COPING\",\"NSHD46\",\"TEDS\",\"TRACKC19\",\"TWINSUK\",\"UKHLS\",\"ALSPAC\",\"BCS70\",\"BIB\",\"ELSA\",\"EPICN\",\"EXCEED\",\"FENLAND\",\"GLAD\",\"MCS\",\"NCDS58\",\"NEXTSTEP\",\"NIHRBIO_COPING\",\"NSHD46\",\"TEDS\",\"TRACKC19\",\"TWINSUK\",\"UKHLS\",\"ALSPAC\",\"BCS70\",\"BIB\",\"ELSA\",\"EPICN\",\"EXCEED\",\"FENLAND\",\"GLAD\",\"MCS\",\"NCDS58\",\"NEXTSTEP\",\"NIHRBIO_COPING\",\"NSHD46\",\"TEDS\",\"TRACKC19\",\"TWINSUK\",\"UKHLS\",\"ALSPAC\",\"BCS70\",\"BIB\",\"ELSA\",\"EPICN\",\"EXCEED\",\"FENLAND\",\"GLAD\",\"MCS\",\"NCDS58\",\"NEXTSTEP\",\"NIHRBIO_COPING\",\"NSHD46\",\"TEDS\",\"TRACKC19\",\"TWINSUK\",\"UKHLS\",\"ALSPAC\",\"BCS70\",\"BIB\",\"ELSA\",\"EPICN\",\"EXCEED\",\"FENLAND\",\"GLAD\",\"MCS\",\"NCDS58\",\"NEXTSTEP\",\"NIHRBIO_COPING\",\"NSHD46\",\"TEDS\",\"TRACKC19\",\"TWINSUK\",\"UKHLS\",\"ALSPAC\",\"BCS70\",\"BIB\",\"ELSA\",\"EPICN\",\"EXCEED\",\"FENLAND\",\"GLAD\",\"MCS\",\"NCDS58\",\"NEXTSTEP\",\"NIHRBIO_COPING\",\"NSHD46\",\"TEDS\",\"TRACKC19\",\"TWINSUK\",\"UKHLS\",\"ALSPAC\",\"BCS70\",\"BIB\",\"ELSA\",\"EPICN\",\"EXCEED\",\"FENLAND\",\"GLAD\",\"MCS\",\"NCDS58\",\"NEXTSTEP\",\"NIHRBIO_COPING\",\"NSHD46\",\"TEDS\",\"TRACKC19\",\"TWINSUK\",\"UKHLS\",\"ALSPAC\",\"BCS70\",\"BIB\",\"ELSA\",\"EPICN\",\"EXCEED\",\"FENLAND\",\"GLAD\",\"MCS\",\"NCDS58\",\"NEXTSTEP\",\"NIHRBIO_COPING\",\"NSHD46\",\"TEDS\",\"TRACKC19\",\"TWINSUK\",\"UKHLS\"]],[\"px\",[951.0,420.0,1411.0,190.0,334.0,523.0,500.0,27050.0,1980.0,248.0,828.0,1372.0,58.0,1309.0,884.0,927.0,485.0,451.0,310.0,810.0,140.0,101.0,469.0,347.0,19561.0,1363.0,177.0,562.0,917.0,39.0,889.0,563.0,638.0,326.0,913.0,397.0,1184.0,179.0,264.0,513.0,465.0,25839.0,1812.0,234.0,765.0,1309.0,54.0,1236.0,837.0,876.0,467.0,1055.0,473.0,1576.0,216.0,368.0,588.0,538.0,30190.0,2261.0,286.0,915.0,1481.0,66.0,1496.0,944.0,1031.0,545.0,886.0,378.0,1157.0,168.0,267.0,516.0,465.0,23614.0,1725.0,227.0,687.0,1184.0,50.0,1165.0,776.0,797.0,436.0,85.0,18.0,36.0,{\"type\":\"number\",\"value\":\"nan\"},0.0,24.0,{\"type\":\"number\",\"value\":\"nan\"},1526.0,120.0,{\"type\":\"number\",\"value\":\"nan\"},56.0,72.0,{\"type\":\"number\",\"value\":\"nan\"},93.0,83.0,42.0,30.0,853.0,395.0,1447.0,182.0,269.0,524.0,487.0,25729.0,1826.0,248.0,754.0,1256.0,55.0,1225.0,784.0,852.0,472.0,{\"type\":\"number\",\"value\":\"nan\"},15.0,164.0,{\"type\":\"number\",\"value\":\"nan\"},{\"type\":\"number\",\"value\":\"nan\"},12.0,48.0,1206.0,81.0,{\"type\":\"number\",\"value\":\"nan\"},25.0,56.0,{\"type\":\"number\",\"value\":\"nan\"},47.0,33.0,23.0,17.0,{\"type\":\"number\",\"value\":\"nan\"},18.0,{\"type\":\"number\",\"value\":\"nan\"},{\"type\":\"number\",\"value\":\"nan\"},{\"type\":\"number\",\"value\":\"nan\"},{\"type\":\"number\",\"value\":\"nan\"},14.0,1522.0,94.0,13.0,43.0,59.0,{\"type\":\"number\",\"value\":\"nan\"},61.0,26.0,58.0,20.0]]]}}},\"view\":{\"type\":\"object\",\"name\":\"CDSView\",\"id\":\"p1070\",\"attributes\":{\"filter\":{\"type\":\"object\",\"name\":\"AllIndices\",\"id\":\"p1071\"}}},\"columns\":[{\"type\":\"object\",\"name\":\"TableColumn\",\"id\":\"p1057\",\"attributes\":{\"field\":\"d1\",\"title\":\"IAPT Dataset\",\"width\":80,\"formatter\":{\"type\":\"object\",\"name\":\"StringFormatter\",\"id\":\"p1056\",\"attributes\":{\"font_style\":{\"type\":\"value\",\"value\":\"bold\"}}},\"editor\":{\"type\":\"object\",\"name\":\"StringEditor\",\"id\":\"p1059\"},\"sortable\":false}},{\"type\":\"object\",\"name\":\"TableColumn\",\"id\":\"p1061\",\"attributes\":{\"field\":\"px\",\"title\":\"Participant Count\",\"width\":40,\"formatter\":{\"type\":\"object\",\"name\":\"StringFormatter\",\"id\":\"p1060\",\"attributes\":{\"text_align\":{\"type\":\"value\",\"value\":\"right\"},\"nan_format\":\"<10\"}},\"editor\":{\"type\":\"object\",\"name\":\"StringEditor\",\"id\":\"p1063\"},\"sortable\":false}}],\"grouping\":[{\"type\":\"object\",\"name\":\"GroupingInfo\",\"id\":\"p1065\",\"attributes\":{\"getter\":\"d0\",\"aggregators\":[{\"type\":\"object\",\"name\":\"SumAggregator\",\"id\":\"p1064\",\"attributes\":{\"field_\":\"px\"}}]}}],\"target\":{\"type\":\"object\",\"name\":\"ColumnDataSource\",\"id\":\"p1053\",\"attributes\":{\"selected\":{\"type\":\"object\",\"name\":\"Selection\",\"id\":\"p1054\",\"attributes\":{\"indices\":[],\"line_indices\":[]}},\"selection_policy\":{\"type\":\"object\",\"name\":\"UnionRenderers\",\"id\":\"p1055\"},\"data\":{\"type\":\"map\",\"entries\":[[\"row_indices\",[]],[\"labels\",[]]]}}}}}]}};\n  const render_items = [{\"docid\":\"f3e5b8c2-ceb9-479a-a700-58a8f923eb61\",\"roots\":{\"p1066\":\"b7beed08-f4bf-4125-b1f3-97659d30709f\"},\"root_ids\":[\"p1066\"]}];\n  void root.Bokeh.embed.embed_items_notebook(docs_json, render_items);\n  }\n  if (root.Bokeh !== undefined) {\n    embed_document(root);\n  } else {\n    let attempts = 0;\n    const timer = setInterval(function(root) {\n      if (root.Bokeh !== undefined) {\n        clearInterval(timer);\n        embed_document(root);\n      } else {\n        attempts++;\n        if (attempts > 100) {\n          clearInterval(timer);\n          console.log(\"Bokeh: ERROR: Unable to run BokehJS code because BokehJS library is missing\");\n        }\n      }\n    }, 10, root)\n  }\n})(window);",
      "application/vnd.bokehjs_exec.v0+json": ""
     },
     "metadata": {
      "application/vnd.bokehjs_exec.v0+json": {
       "id": "p1066"
      }
     },
     "output_type": "display_data"
    }
   ],
   "source": [
    "from data_doc_helper import NHSEDataSet as DS, last_modified\n",
    "ds = DS(\"IAPT\")\n",
    "ds.metrics()"
   ]
  },
  {
   "cell_type": "markdown",
   "id": "992091a7",
   "metadata": {},
   "source": [
    "## 4. Version History"
   ]
  },
  {
   "cell_type": "code",
   "execution_count": 31,
   "id": "69571d0d",
   "metadata": {
    "tags": [
     "remove-input"
    ]
   },
   "outputs": [
    {
     "data": {
      "text/html": [
       "<style type=\"text/css\">\n",
       "#T_09ef6 th {\n",
       "  text-align: left;\n",
       "}\n",
       "#T_09ef6_row0_col0, #T_09ef6_row0_col1, #T_09ef6_row0_col2, #T_09ef6_row1_col0, #T_09ef6_row1_col1, #T_09ef6_row1_col2, #T_09ef6_row2_col0, #T_09ef6_row2_col1, #T_09ef6_row2_col2, #T_09ef6_row3_col0, #T_09ef6_row3_col1, #T_09ef6_row3_col2, #T_09ef6_row4_col0, #T_09ef6_row4_col1, #T_09ef6_row4_col2, #T_09ef6_row5_col0, #T_09ef6_row5_col1, #T_09ef6_row5_col2, #T_09ef6_row6_col0, #T_09ef6_row6_col1, #T_09ef6_row6_col2 {\n",
       "  text-align: left;\n",
       "}\n",
       "</style>\n",
       "<table id=\"T_09ef6\" style=\"font-size: 14px\">\n",
       "  <thead>\n",
       "    <tr>\n",
       "      <th id=\"T_09ef6_level0_col0\" class=\"col_heading level0 col0\" >Version</th>\n",
       "      <th id=\"T_09ef6_level0_col1\" class=\"col_heading level0 col1\" >2</th>\n",
       "      <th id=\"T_09ef6_level0_col2\" class=\"col_heading level0 col2\" >3</th>\n",
       "    </tr>\n",
       "  </thead>\n",
       "  <tbody>\n",
       "    <tr>\n",
       "      <td id=\"T_09ef6_row0_col0\" class=\"data row0 col0\" >Name in TRE</td>\n",
       "      <td id=\"T_09ef6_row0_col1\" class=\"data row0 col1\" >NHSE_IAPT</td>\n",
       "      <td id=\"T_09ef6_row0_col2\" class=\"data row0 col2\" >NHSE_IAPT</td>\n",
       "    </tr>\n",
       "    <tr>\n",
       "      <td id=\"T_09ef6_row1_col0\" class=\"data row1 col0\" >Version Date</td>\n",
       "      <td id=\"T_09ef6_row1_col1\" class=\"data row1 col1\" >13 Apr 2023</td>\n",
       "      <td id=\"T_09ef6_row1_col2\" class=\"data row1 col2\" >26 Apr 2024</td>\n",
       "    </tr>\n",
       "    <tr>\n",
       "      <td id=\"T_09ef6_row2_col0\" class=\"data row2 col0\" >Participant Count</td>\n",
       "      <td id=\"T_09ef6_row2_col1\" class=\"data row2 col1\" >N/A</td>\n",
       "      <td id=\"T_09ef6_row2_col2\" class=\"data row2 col2\" >N/A</td>\n",
       "    </tr>\n",
       "    <tr>\n",
       "      <td id=\"T_09ef6_row3_col0\" class=\"data row3 col0\" >Number of Variables</td>\n",
       "      <td id=\"T_09ef6_row3_col1\" class=\"data row3 col1\" >192</td>\n",
       "      <td id=\"T_09ef6_row3_col2\" class=\"data row3 col2\" >226</td>\n",
       "    </tr>\n",
       "    <tr>\n",
       "      <td id=\"T_09ef6_row4_col0\" class=\"data row4 col0\" >Number of Observations</td>\n",
       "      <td id=\"T_09ef6_row4_col1\" class=\"data row4 col1\" >58680</td>\n",
       "      <td id=\"T_09ef6_row4_col2\" class=\"data row4 col2\" >117207</td>\n",
       "    </tr>\n",
       "    <tr>\n",
       "      <td id=\"T_09ef6_row5_col0\" class=\"data row5 col0\" >DOI</td>\n",
       "      <td id=\"T_09ef6_row5_col1\" class=\"data row5 col1\" > <a href=\"https://doi.org/10.83126/ukllc-dataset-00035-02\" rel=\"noopener noreferrer\" target=\"_blank\">10.83126/ukllc-dataset-00035-02</a></td>\n",
       "      <td id=\"T_09ef6_row5_col2\" class=\"data row5 col2\" > <a href=\"https://doi.org/10.83126/ukllc-dataset-00035-03\" rel=\"noopener noreferrer\" target=\"_blank\">10.83126/ukllc-dataset-00035-03</a></td>\n",
       "    </tr>\n",
       "    <tr>\n",
       "      <td id=\"T_09ef6_row6_col0\" class=\"data row6 col0\" >Change Log</td>\n",
       "      <td id=\"T_09ef6_row6_col1\" class=\"data row6 col1\" > <a href=\"https://api.test.datacite.org/dois/10.83126/ukllc-dataset-00035-02/activities\" rel=\"noopener noreferrer\" target=\"_blank\">10.83126/ukllc-dataset-00035-02/activities</a></td>\n",
       "      <td id=\"T_09ef6_row6_col2\" class=\"data row6 col2\" > <a href=\"https://api.test.datacite.org/dois/10.83126/ukllc-dataset-00035-03/activities\" rel=\"noopener noreferrer\" target=\"_blank\">10.83126/ukllc-dataset-00035-03/activities</a></td>\n",
       "    </tr>\n",
       "  </tbody>\n",
       "</table>\n"
      ],
      "text/plain": [
       "<pandas.io.formats.style.Styler at 0x14e6740a490>"
      ]
     },
     "execution_count": 31,
     "metadata": {},
     "output_type": "execute_result"
    }
   ],
   "source": [
    "ds.version_history()"
   ]
  },
  {
   "cell_type": "markdown",
   "id": "0acfb062",
   "metadata": {},
   "source": [
    "## 5. Documentation"
   ]
  },
  {
   "cell_type": "code",
   "execution_count": 32,
   "id": "b5a900e4",
   "metadata": {
    "tags": [
     "remove-input"
    ]
   },
   "outputs": [
    {
     "data": {
      "text/markdown": [
       "We are currently building a documentation storage system which will host useful documents related to datasets and data owners. We will surface these documents on Guidebook."
      ],
      "text/plain": [
       "<IPython.core.display.Markdown object>"
      ]
     },
     "metadata": {},
     "output_type": "display_data"
    }
   ],
   "source": [
    "ds.documentation()"
   ]
  },
  {
   "cell_type": "markdown",
   "id": "1cf8b659",
   "metadata": {},
   "source": [
    "## 5. Useful Syntax"
   ]
  },
  {
   "cell_type": "code",
   "execution_count": 33,
   "id": "c1392740",
   "metadata": {
    "tags": [
     "remove-input"
    ]
   },
   "outputs": [
    {
     "data": {
      "text/markdown": [
       "Below we will include syntax that may be helpful to other researchers in the UK LLC TRE. For longer scripts, we will include a snippet of the code plus a link to the [UK LLC GitHub](https://github.com/UKLLC) repository where you can find the full scripts."
      ],
      "text/plain": [
       "<IPython.core.display.Markdown object>"
      ]
     },
     "metadata": {},
     "output_type": "display_data"
    }
   ],
   "source": [
    "ds.useful_syntax()"
   ]
  }
 ],
 "metadata": {
  "kernelspec": {
   "display_name": "jupbook",
   "language": "python",
   "name": "python3"
  },
  "language_info": {
   "codemirror_mode": {
    "name": "ipython",
    "version": 3
   },
   "file_extension": ".py",
   "mimetype": "text/x-python",
   "name": "python",
   "nbconvert_exporter": "python",
   "pygments_lexer": "ipython3",
   "version": "3.13.2"
  },
  "mystnb": {
   "code_prompt_hide": "Hide Information",
   "code_prompt_show": "Show Information"
  }
 },
 "nbformat": 4,
 "nbformat_minor": 5
}
