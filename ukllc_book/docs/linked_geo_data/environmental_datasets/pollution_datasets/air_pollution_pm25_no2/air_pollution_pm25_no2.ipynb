{
 "cells": [
  {
   "cell_type": "markdown",
   "id": "ec4bdf5d",
   "metadata": {},
   "source": [
    "# Air pollution NO2 & PM"
   ]
  },
  {
   "cell_type": "code",
   "execution_count": 1,
   "id": "0fe3ef05",
   "metadata": {
    "tags": [
     "remove-input"
    ]
   },
   "outputs": [
    {
     "data": {
      "text/markdown": [
       ">Last modified: 14 Aug 2025"
      ],
      "text/plain": [
       "<IPython.core.display.Markdown object>"
      ]
     },
     "metadata": {},
     "output_type": "display_data"
    }
   ],
   "source": [
    "from IPython.display import display, Markdown\n",
    "import sys\n",
    "import os\n",
    "sys.path.append(os.path.abspath('../../../../scripts/'))\n",
    "from data_doc_helper import PlaceDataSet as DS, last_modified\n",
    "last_modified()"
   ]
  },
  {
   "cell_type": "code",
   "execution_count": 2,
   "id": "389cd087",
   "metadata": {
    "tags": [
     "remove-input"
    ]
   },
   "outputs": [
    {
     "data": {
      "text/markdown": [
       "<div style=\"background-color: rgba(0, 178, 169, 0.3); padding: 5px; border-radius: 5px;\"><strong>UK LLC provides annual-average NO₂ and PM₂.₅ exposure data at high spatial resolution which can support health and environmental research.</strong></div>"
      ],
      "text/plain": [
       "<IPython.core.display.Markdown object>"
      ]
     },
     "metadata": {},
     "output_type": "display_data"
    }
   ],
   "source": [
    "display(Markdown('<div style=\"background-color: rgba(0, 178, 169, 0.3); padding: 5px; border-radius: 5px;\"><strong>UK LLC provides annual-average NO₂ and PM₂.₅ exposure data at high spatial resolution which can support health and environmental research.</strong></div>'))"
   ]
  },
  {
   "cell_type": "code",
   "execution_count": 3,
   "id": "70a8c233",
   "metadata": {
    "tags": [
     "remove-input"
    ]
   },
   "outputs": [
    {
     "data": {
      "text/markdown": [
       "<div style=\"background-color: rgb(229, 106, 84, 0.3); padding: 5px; border-radius: 5px;\"><strong>More information about this dataset is available <a href=\"Understanding_air_pollution_pm25_no2.html\" target=\"_blank\">here.</a></strong></div>"
      ],
      "text/plain": [
       "<IPython.core.display.Markdown object>"
      ]
     },
     "metadata": {},
     "output_type": "display_data"
    }
   ],
   "source": [
    "display(Markdown('<div style=\"background-color: rgb(229, 106, 84, 0.3); padding: 5px; border-radius: 5px;\"><strong>More information about this dataset is available <a href=\"Understanding_air_pollution_pm25_no2.html\" target=\"_blank\">here.</a></strong></div>'))"
   ]
  },
  {
   "cell_type": "markdown",
   "id": "f5e5d145",
   "metadata": {},
   "source": [
    "## Annual-average Nitrogen Dioxide (NO2) and Fine particulate matter (PM2.5)\n",
    "\n",
    "The air pollution datasets modelled by University of Leicester/City St George's, University of London contain continuous annual-average **nitrogen dioxide (NO2)** and **fine particulate matter (PM2.5)** exposure data, covering the **years 2010-2019** for all residential address points where a UK LLC participant has permissions in place.\n",
    "\n",
    "\n",
    "## 1. Summary"
   ]
  },
  {
   "cell_type": "code",
   "execution_count": 4,
   "id": "6b0b317a",
   "metadata": {
    "tags": [
     "remove-input"
    ]
   },
   "outputs": [
    {
     "data": {
      "text/markdown": [
       "### air_pollution_no2_pm25_england_wales_hh"
      ],
      "text/plain": [
       "<IPython.core.display.Markdown object>"
      ]
     },
     "metadata": {},
     "output_type": "display_data"
    }
   ],
   "source": [
    "display(Markdown('### air_pollution_no2_pm25_england_wales_hh'))"
   ]
  },
  {
   "cell_type": "code",
   "execution_count": 5,
   "id": "a0e5b8ea",
   "metadata": {
    "tags": [
     "remove-input",
     "hide-cell"
    ]
   },
   "outputs": [
    {
     "data": {
      "text/html": [
       "<style type=\"text/css\">\n",
       "#T_4aed3 th {\n",
       "  text-align: left;\n",
       "}\n",
       "#T_4aed3_row0_col0, #T_4aed3_row0_col1, #T_4aed3_row1_col0, #T_4aed3_row1_col1, #T_4aed3_row2_col0, #T_4aed3_row2_col1, #T_4aed3_row3_col0, #T_4aed3_row3_col1, #T_4aed3_row4_col0, #T_4aed3_row4_col1, #T_4aed3_row5_col0, #T_4aed3_row5_col1, #T_4aed3_row6_col0, #T_4aed3_row6_col1, #T_4aed3_row7_col0, #T_4aed3_row7_col1, #T_4aed3_row8_col0, #T_4aed3_row8_col1, #T_4aed3_row9_col0, #T_4aed3_row9_col1, #T_4aed3_row10_col0, #T_4aed3_row10_col1, #T_4aed3_row11_col0, #T_4aed3_row11_col1, #T_4aed3_row12_col0, #T_4aed3_row12_col1, #T_4aed3_row13_col0, #T_4aed3_row13_col1, #T_4aed3_row14_col0, #T_4aed3_row14_col1 {\n",
       "  text-align: left;\n",
       "}\n",
       "</style>\n",
       "<table id=\"T_4aed3\" style=\"font-size: 14px\">\n",
       "  <thead>\n",
       "    <tr>\n",
       "      <th id=\"T_4aed3_level0_col0\" class=\"col_heading level0 col0\" >Dataset Descriptor</th>\n",
       "      <th id=\"T_4aed3_level0_col1\" class=\"col_heading level0 col1\" >Dataset-specific Information</th>\n",
       "    </tr>\n",
       "  </thead>\n",
       "  <tbody>\n",
       "    <tr>\n",
       "      <td id=\"T_4aed3_row0_col0\" class=\"data row0 col0\" >Name of Dataset in TRE</td>\n",
       "      <td id=\"T_4aed3_row0_col1\" class=\"data row0 col1\" >PLACE_air_pollution_no2_pm25_england_wales_hh</td>\n",
       "    </tr>\n",
       "    <tr>\n",
       "      <td id=\"T_4aed3_row1_col0\" class=\"data row1 col0\" >Citation (APA)</td>\n",
       "      <td id=\"T_4aed3_row1_col1\" class=\"data row1 col1\" >University of Leicester, Centre for Environmental Health and Sustainability and City St George's, University of London, Population Health Research Institute. (2024). <i>Place based data: Air Pollution Household England Wales.</i> UK Longitudinal Linkage Collaboration (UK LLC).  <a href=\"https://doi.org/10.71760/ukllc-dataset-00432-02\" rel=\"noopener noreferrer\" target=\"_blank\">https://doi.org/10.71760/ukllc-dataset-00432-02</a></td>\n",
       "    </tr>\n",
       "    <tr>\n",
       "      <td id=\"T_4aed3_row2_col0\" class=\"data row2 col0\" >Download Citation</td>\n",
       "      <td id=\"T_4aed3_row2_col1\" class=\"data row2 col1\" > <a href=\"https://api.datacite.org/application/vnd.citationstyles.csl+json/10.71760/ukllc-dataset-00432-02\" rel=\"noopener noreferrer\" target=\"_blank\">Citeproc JSON</a>&nbsp;&nbsp;&nbsp;&nbsp; <a href=\"https://api.datacite.org/application/x-bibtex/10.71760/ukllc-dataset-00432-02\" rel=\"noopener noreferrer\" target=\"_blank\">BibTeX</a>&nbsp;&nbsp;&nbsp;&nbsp; <a href=\"https://api.datacite.org/application/x-research-info-systems/10.71760/ukllc-dataset-00432-02\" rel=\"noopener noreferrer\" target=\"_blank\">RIS</a></td>\n",
       "    </tr>\n",
       "    <tr>\n",
       "      <td id=\"T_4aed3_row3_col0\" class=\"data row3 col0\" >Owner</td>\n",
       "      <td id=\"T_4aed3_row3_col1\" class=\"data row3 col1\" >University of Leicester and St George's, University of London</td>\n",
       "    </tr>\n",
       "    <tr>\n",
       "      <td id=\"T_4aed3_row4_col0\" class=\"data row4 col0\" >Authors</td>\n",
       "      <td id=\"T_4aed3_row4_col1\" class=\"data row4 col1\" >Calvin Jephcote, Kathryn Adams (University of Leicester) and John Gulliver (St George's, University of London) </td>\n",
       "    </tr>\n",
       "    <tr>\n",
       "      <td id=\"T_4aed3_row5_col0\" class=\"data row5 col0\" >Temporal Coverage</td>\n",
       "      <td id=\"T_4aed3_row5_col1\" class=\"data row5 col1\" >01/2010 - 12/2019</td>\n",
       "    </tr>\n",
       "    <tr>\n",
       "      <td id=\"T_4aed3_row6_col0\" class=\"data row6 col0\" >Geographical Coverage</td>\n",
       "      <td id=\"T_4aed3_row6_col1\" class=\"data row6 col1\" >England and Wales</td>\n",
       "    </tr>\n",
       "    <tr>\n",
       "      <td id=\"T_4aed3_row7_col0\" class=\"data row7 col0\" >Participant Count</td>\n",
       "      <td id=\"T_4aed3_row7_col1\" class=\"data row7 col1\" >52277</td>\n",
       "    </tr>\n",
       "    <tr>\n",
       "      <td id=\"T_4aed3_row8_col0\" class=\"data row8 col0\" >Number of Variables</td>\n",
       "      <td id=\"T_4aed3_row8_col1\" class=\"data row8 col1\" >30</td>\n",
       "    </tr>\n",
       "    <tr>\n",
       "      <td id=\"T_4aed3_row9_col0\" class=\"data row9 col0\" >Number of Observations</td>\n",
       "      <td id=\"T_4aed3_row9_col1\" class=\"data row9 col1\" >89103</td>\n",
       "    </tr>\n",
       "    <tr>\n",
       "      <td id=\"T_4aed3_row10_col0\" class=\"data row10 col0\" >Key Link</td>\n",
       "      <td id=\"T_4aed3_row10_col1\" class=\"data row10 col1\" > <a href=\"https://guidebook.ukllc.ac.uk/docs/linked_geo_data/place_based_intro\" rel=\"noopener noreferrer\" target=\"_blank\">https://guidebook.ukllc.ac.uk/docs/linked_geo_data/place_based_intro</a></td>\n",
       "    </tr>\n",
       "    <tr>\n",
       "      <td id=\"T_4aed3_row11_col0\" class=\"data row11 col0\" >Keywords</td>\n",
       "      <td id=\"T_4aed3_row11_col1\" class=\"data row11 col1\" >PM2.5,NO2,air pollution,geospatial,environmental</td>\n",
       "    </tr>\n",
       "    <tr>\n",
       "      <td id=\"T_4aed3_row12_col0\" class=\"data row12 col0\" >Latest Extract Date</td>\n",
       "      <td id=\"T_4aed3_row12_col1\" class=\"data row12 col1\" >TBC</td>\n",
       "    </tr>\n",
       "    <tr>\n",
       "      <td id=\"T_4aed3_row13_col0\" class=\"data row13 col0\" >Specific Restrictions to Data Use</td>\n",
       "      <td id=\"T_4aed3_row13_col1\" class=\"data row13 col1\" >None</td>\n",
       "    </tr>\n",
       "    <tr>\n",
       "      <td id=\"T_4aed3_row14_col0\" class=\"data row14 col0\" >Build a Data Request</td>\n",
       "      <td id=\"T_4aed3_row14_col1\" class=\"data row14 col1\" > <a href=\"https://explore.ukllc.ac.uk/\" rel=\"noopener noreferrer\" target=\"_blank\">https://explore.ukllc.ac.uk/</a></td>\n",
       "    </tr>\n",
       "  </tbody>\n",
       "</table>\n"
      ],
      "text/plain": [
       "<pandas.io.formats.style.Styler at 0x1aa7230ae40>"
      ]
     },
     "execution_count": 5,
     "metadata": {},
     "output_type": "execute_result"
    }
   ],
   "source": [
    "DS(\"air_pollution_no2_pm25_england_wales_hh\").info_table()"
   ]
  },
  {
   "cell_type": "code",
   "execution_count": 6,
   "id": "749d3522",
   "metadata": {
    "tags": [
     "remove-input"
    ]
   },
   "outputs": [
    {
     "data": {
      "text/markdown": [
       "### air_pollution_no2_pm25_england_wales_pc"
      ],
      "text/plain": [
       "<IPython.core.display.Markdown object>"
      ]
     },
     "metadata": {},
     "output_type": "display_data"
    }
   ],
   "source": [
    "display(Markdown('### air_pollution_no2_pm25_england_wales_pc'))"
   ]
  },
  {
   "cell_type": "code",
   "execution_count": 7,
   "id": "dc35de10",
   "metadata": {
    "tags": [
     "remove-input",
     "hide-cell"
    ]
   },
   "outputs": [
    {
     "data": {
      "text/html": [
       "<style type=\"text/css\">\n",
       "#T_1374d th {\n",
       "  text-align: left;\n",
       "}\n",
       "#T_1374d_row0_col0, #T_1374d_row0_col1, #T_1374d_row1_col0, #T_1374d_row1_col1, #T_1374d_row2_col0, #T_1374d_row2_col1, #T_1374d_row3_col0, #T_1374d_row3_col1, #T_1374d_row4_col0, #T_1374d_row4_col1, #T_1374d_row5_col0, #T_1374d_row5_col1, #T_1374d_row6_col0, #T_1374d_row6_col1, #T_1374d_row7_col0, #T_1374d_row7_col1, #T_1374d_row8_col0, #T_1374d_row8_col1, #T_1374d_row9_col0, #T_1374d_row9_col1, #T_1374d_row10_col0, #T_1374d_row10_col1, #T_1374d_row11_col0, #T_1374d_row11_col1, #T_1374d_row12_col0, #T_1374d_row12_col1, #T_1374d_row13_col0, #T_1374d_row13_col1, #T_1374d_row14_col0, #T_1374d_row14_col1 {\n",
       "  text-align: left;\n",
       "}\n",
       "</style>\n",
       "<table id=\"T_1374d\" style=\"font-size: 14px\">\n",
       "  <thead>\n",
       "    <tr>\n",
       "      <th id=\"T_1374d_level0_col0\" class=\"col_heading level0 col0\" >Dataset Descriptor</th>\n",
       "      <th id=\"T_1374d_level0_col1\" class=\"col_heading level0 col1\" >Dataset-specific Information</th>\n",
       "    </tr>\n",
       "  </thead>\n",
       "  <tbody>\n",
       "    <tr>\n",
       "      <td id=\"T_1374d_row0_col0\" class=\"data row0 col0\" >Name of Dataset in TRE</td>\n",
       "      <td id=\"T_1374d_row0_col1\" class=\"data row0 col1\" >PLACE_air_pollution_no2_pm25_england_wales_pc</td>\n",
       "    </tr>\n",
       "    <tr>\n",
       "      <td id=\"T_1374d_row1_col0\" class=\"data row1 col0\" >Citation (APA)</td>\n",
       "      <td id=\"T_1374d_row1_col1\" class=\"data row1 col1\" >University of Leicester, Centre for Environmental Health and Sustainability and City St George's, University of London, Population Health Research Institute. (2024). <i>Place based data: Air Pollution Postcode England Wales.</i> UK Longitudinal Linkage Collaboration (UK LLC).  <a href=\"https://doi.org/10.71760/ukllc-dataset-00433-03\" rel=\"noopener noreferrer\" target=\"_blank\">https://doi.org/10.71760/ukllc-dataset-00433-03</a></td>\n",
       "    </tr>\n",
       "    <tr>\n",
       "      <td id=\"T_1374d_row2_col0\" class=\"data row2 col0\" >Download Citation</td>\n",
       "      <td id=\"T_1374d_row2_col1\" class=\"data row2 col1\" > <a href=\"https://api.datacite.org/application/vnd.citationstyles.csl+json/10.71760/ukllc-dataset-00433-03\" rel=\"noopener noreferrer\" target=\"_blank\">Citeproc JSON</a>&nbsp;&nbsp;&nbsp;&nbsp; <a href=\"https://api.datacite.org/application/x-bibtex/10.71760/ukllc-dataset-00433-03\" rel=\"noopener noreferrer\" target=\"_blank\">BibTeX</a>&nbsp;&nbsp;&nbsp;&nbsp; <a href=\"https://api.datacite.org/application/x-research-info-systems/10.71760/ukllc-dataset-00433-03\" rel=\"noopener noreferrer\" target=\"_blank\">RIS</a></td>\n",
       "    </tr>\n",
       "    <tr>\n",
       "      <td id=\"T_1374d_row3_col0\" class=\"data row3 col0\" >Owner</td>\n",
       "      <td id=\"T_1374d_row3_col1\" class=\"data row3 col1\" >University of Leicester and St George's, University of London</td>\n",
       "    </tr>\n",
       "    <tr>\n",
       "      <td id=\"T_1374d_row4_col0\" class=\"data row4 col0\" >Authors</td>\n",
       "      <td id=\"T_1374d_row4_col1\" class=\"data row4 col1\" >Calvin Jephcote, Kathryn Adams (University of Leicester) and John Gulliver (St George's, University of London) </td>\n",
       "    </tr>\n",
       "    <tr>\n",
       "      <td id=\"T_1374d_row5_col0\" class=\"data row5 col0\" >Temporal Coverage</td>\n",
       "      <td id=\"T_1374d_row5_col1\" class=\"data row5 col1\" >01/2010 - 12/2019</td>\n",
       "    </tr>\n",
       "    <tr>\n",
       "      <td id=\"T_1374d_row6_col0\" class=\"data row6 col0\" >Geographical Coverage</td>\n",
       "      <td id=\"T_1374d_row6_col1\" class=\"data row6 col1\" >England and Wales</td>\n",
       "    </tr>\n",
       "    <tr>\n",
       "      <td id=\"T_1374d_row7_col0\" class=\"data row7 col0\" >Participant Count</td>\n",
       "      <td id=\"T_1374d_row7_col1\" class=\"data row7 col1\" >24401</td>\n",
       "    </tr>\n",
       "    <tr>\n",
       "      <td id=\"T_1374d_row8_col0\" class=\"data row8 col0\" >Number of Variables</td>\n",
       "      <td id=\"T_1374d_row8_col1\" class=\"data row8 col1\" >30</td>\n",
       "    </tr>\n",
       "    <tr>\n",
       "      <td id=\"T_1374d_row9_col0\" class=\"data row9 col0\" >Number of Observations</td>\n",
       "      <td id=\"T_1374d_row9_col1\" class=\"data row9 col1\" >38079</td>\n",
       "    </tr>\n",
       "    <tr>\n",
       "      <td id=\"T_1374d_row10_col0\" class=\"data row10 col0\" >Key Link</td>\n",
       "      <td id=\"T_1374d_row10_col1\" class=\"data row10 col1\" > <a href=\"https://guidebook.ukllc.ac.uk/docs/linked_geo_data/place_based_intro\" rel=\"noopener noreferrer\" target=\"_blank\">https://guidebook.ukllc.ac.uk/docs/linked_geo_data/place_based_intro</a></td>\n",
       "    </tr>\n",
       "    <tr>\n",
       "      <td id=\"T_1374d_row11_col0\" class=\"data row11 col0\" >Keywords</td>\n",
       "      <td id=\"T_1374d_row11_col1\" class=\"data row11 col1\" >PM2.5,NO2,air pollution,geospatial,environmental</td>\n",
       "    </tr>\n",
       "    <tr>\n",
       "      <td id=\"T_1374d_row12_col0\" class=\"data row12 col0\" >Latest Extract Date</td>\n",
       "      <td id=\"T_1374d_row12_col1\" class=\"data row12 col1\" >TBC</td>\n",
       "    </tr>\n",
       "    <tr>\n",
       "      <td id=\"T_1374d_row13_col0\" class=\"data row13 col0\" >Specific Restrictions to Data Use</td>\n",
       "      <td id=\"T_1374d_row13_col1\" class=\"data row13 col1\" >None</td>\n",
       "    </tr>\n",
       "    <tr>\n",
       "      <td id=\"T_1374d_row14_col0\" class=\"data row14 col0\" >Build a Data Request</td>\n",
       "      <td id=\"T_1374d_row14_col1\" class=\"data row14 col1\" > <a href=\"https://explore.ukllc.ac.uk/\" rel=\"noopener noreferrer\" target=\"_blank\">https://explore.ukllc.ac.uk/</a></td>\n",
       "    </tr>\n",
       "  </tbody>\n",
       "</table>\n"
      ],
      "text/plain": [
       "<pandas.io.formats.style.Styler at 0x1aa7236d450>"
      ]
     },
     "execution_count": 7,
     "metadata": {},
     "output_type": "execute_result"
    }
   ],
   "source": [
    "DS(\"air_pollution_no2_pm25_england_wales_pc\").info_table()"
   ]
  },
  {
   "cell_type": "code",
   "execution_count": 8,
   "id": "9bbe23fb",
   "metadata": {
    "tags": [
     "remove-input"
    ]
   },
   "outputs": [
    {
     "data": {
      "text/markdown": [
       "### air_pollution_no2_pm25_scotland_hh"
      ],
      "text/plain": [
       "<IPython.core.display.Markdown object>"
      ]
     },
     "metadata": {},
     "output_type": "display_data"
    }
   ],
   "source": [
    "display(Markdown('### air_pollution_no2_pm25_scotland_hh'))"
   ]
  },
  {
   "cell_type": "code",
   "execution_count": 9,
   "id": "702b666a",
   "metadata": {
    "tags": [
     "remove-input",
     "hide-cell"
    ]
   },
   "outputs": [
    {
     "data": {
      "text/html": [
       "<style type=\"text/css\">\n",
       "#T_89b30 th {\n",
       "  text-align: left;\n",
       "}\n",
       "#T_89b30_row0_col0, #T_89b30_row0_col1, #T_89b30_row1_col0, #T_89b30_row1_col1, #T_89b30_row2_col0, #T_89b30_row2_col1, #T_89b30_row3_col0, #T_89b30_row3_col1, #T_89b30_row4_col0, #T_89b30_row4_col1, #T_89b30_row5_col0, #T_89b30_row5_col1, #T_89b30_row6_col0, #T_89b30_row6_col1, #T_89b30_row7_col0, #T_89b30_row7_col1, #T_89b30_row8_col0, #T_89b30_row8_col1, #T_89b30_row9_col0, #T_89b30_row9_col1, #T_89b30_row10_col0, #T_89b30_row10_col1, #T_89b30_row11_col0, #T_89b30_row11_col1, #T_89b30_row12_col0, #T_89b30_row12_col1, #T_89b30_row13_col0, #T_89b30_row13_col1, #T_89b30_row14_col0, #T_89b30_row14_col1 {\n",
       "  text-align: left;\n",
       "}\n",
       "</style>\n",
       "<table id=\"T_89b30\" style=\"font-size: 14px\">\n",
       "  <thead>\n",
       "    <tr>\n",
       "      <th id=\"T_89b30_level0_col0\" class=\"col_heading level0 col0\" >Dataset Descriptor</th>\n",
       "      <th id=\"T_89b30_level0_col1\" class=\"col_heading level0 col1\" >Dataset-specific Information</th>\n",
       "    </tr>\n",
       "  </thead>\n",
       "  <tbody>\n",
       "    <tr>\n",
       "      <td id=\"T_89b30_row0_col0\" class=\"data row0 col0\" >Name of Dataset in TRE</td>\n",
       "      <td id=\"T_89b30_row0_col1\" class=\"data row0 col1\" >PLACE_air_pollution_no2_pm25_scotland_hh</td>\n",
       "    </tr>\n",
       "    <tr>\n",
       "      <td id=\"T_89b30_row1_col0\" class=\"data row1 col0\" >Citation (APA)</td>\n",
       "      <td id=\"T_89b30_row1_col1\" class=\"data row1 col1\" >University of Leicester, Centre for Environmental Health and Sustainability and City St George's, University of London, Population Health Research Institute. (2024). <i>Place based data: Air Pollution Household Scotland.</i> UK Longitudinal Linkage Collaboration (UK LLC).  <a href=\"https://doi.org/10.71760/ukllc-dataset-00434-02\" rel=\"noopener noreferrer\" target=\"_blank\">https://doi.org/10.71760/ukllc-dataset-00434-02</a></td>\n",
       "    </tr>\n",
       "    <tr>\n",
       "      <td id=\"T_89b30_row2_col0\" class=\"data row2 col0\" >Download Citation</td>\n",
       "      <td id=\"T_89b30_row2_col1\" class=\"data row2 col1\" > <a href=\"https://api.datacite.org/application/vnd.citationstyles.csl+json/10.71760/ukllc-dataset-00434-02\" rel=\"noopener noreferrer\" target=\"_blank\">Citeproc JSON</a>&nbsp;&nbsp;&nbsp;&nbsp; <a href=\"https://api.datacite.org/application/x-bibtex/10.71760/ukllc-dataset-00434-02\" rel=\"noopener noreferrer\" target=\"_blank\">BibTeX</a>&nbsp;&nbsp;&nbsp;&nbsp; <a href=\"https://api.datacite.org/application/x-research-info-systems/10.71760/ukllc-dataset-00434-02\" rel=\"noopener noreferrer\" target=\"_blank\">RIS</a></td>\n",
       "    </tr>\n",
       "    <tr>\n",
       "      <td id=\"T_89b30_row3_col0\" class=\"data row3 col0\" >Owner</td>\n",
       "      <td id=\"T_89b30_row3_col1\" class=\"data row3 col1\" >University of Leicester and St George's, University of London</td>\n",
       "    </tr>\n",
       "    <tr>\n",
       "      <td id=\"T_89b30_row4_col0\" class=\"data row4 col0\" >Authors</td>\n",
       "      <td id=\"T_89b30_row4_col1\" class=\"data row4 col1\" >Calvin Jephcote, Kathryn Adams (University of Leicester) and John Gulliver (St George's, University of London) </td>\n",
       "    </tr>\n",
       "    <tr>\n",
       "      <td id=\"T_89b30_row5_col0\" class=\"data row5 col0\" >Temporal Coverage</td>\n",
       "      <td id=\"T_89b30_row5_col1\" class=\"data row5 col1\" >01/2010 - 12/2019</td>\n",
       "    </tr>\n",
       "    <tr>\n",
       "      <td id=\"T_89b30_row6_col0\" class=\"data row6 col0\" >Geographical Coverage</td>\n",
       "      <td id=\"T_89b30_row6_col1\" class=\"data row6 col1\" >Scotland</td>\n",
       "    </tr>\n",
       "    <tr>\n",
       "      <td id=\"T_89b30_row7_col0\" class=\"data row7 col0\" >Participant Count</td>\n",
       "      <td id=\"T_89b30_row7_col1\" class=\"data row7 col1\" >52277</td>\n",
       "    </tr>\n",
       "    <tr>\n",
       "      <td id=\"T_89b30_row8_col0\" class=\"data row8 col0\" >Number of Variables</td>\n",
       "      <td id=\"T_89b30_row8_col1\" class=\"data row8 col1\" >30</td>\n",
       "    </tr>\n",
       "    <tr>\n",
       "      <td id=\"T_89b30_row9_col0\" class=\"data row9 col0\" >Number of Observations</td>\n",
       "      <td id=\"T_89b30_row9_col1\" class=\"data row9 col1\" >27550</td>\n",
       "    </tr>\n",
       "    <tr>\n",
       "      <td id=\"T_89b30_row10_col0\" class=\"data row10 col0\" >Key Link</td>\n",
       "      <td id=\"T_89b30_row10_col1\" class=\"data row10 col1\" > <a href=\"https://guidebook.ukllc.ac.uk/docs/linked_geo_data/place_based_intro\" rel=\"noopener noreferrer\" target=\"_blank\">https://guidebook.ukllc.ac.uk/docs/linked_geo_data/place_based_intro</a></td>\n",
       "    </tr>\n",
       "    <tr>\n",
       "      <td id=\"T_89b30_row11_col0\" class=\"data row11 col0\" >Keywords</td>\n",
       "      <td id=\"T_89b30_row11_col1\" class=\"data row11 col1\" >PM2.5,NO2,air pollution,geospatial,environmental</td>\n",
       "    </tr>\n",
       "    <tr>\n",
       "      <td id=\"T_89b30_row12_col0\" class=\"data row12 col0\" >Latest Extract Date</td>\n",
       "      <td id=\"T_89b30_row12_col1\" class=\"data row12 col1\" >TBC</td>\n",
       "    </tr>\n",
       "    <tr>\n",
       "      <td id=\"T_89b30_row13_col0\" class=\"data row13 col0\" >Specific Restrictions to Data Use</td>\n",
       "      <td id=\"T_89b30_row13_col1\" class=\"data row13 col1\" >None</td>\n",
       "    </tr>\n",
       "    <tr>\n",
       "      <td id=\"T_89b30_row14_col0\" class=\"data row14 col0\" >Build a Data Request</td>\n",
       "      <td id=\"T_89b30_row14_col1\" class=\"data row14 col1\" > <a href=\"https://explore.ukllc.ac.uk/\" rel=\"noopener noreferrer\" target=\"_blank\">https://explore.ukllc.ac.uk/</a></td>\n",
       "    </tr>\n",
       "  </tbody>\n",
       "</table>\n"
      ],
      "text/plain": [
       "<pandas.io.formats.style.Styler at 0x1aa7236d950>"
      ]
     },
     "execution_count": 9,
     "metadata": {},
     "output_type": "execute_result"
    }
   ],
   "source": [
    "DS(\"air_pollution_no2_pm25_scotland_hh\").info_table()"
   ]
  },
  {
   "cell_type": "code",
   "execution_count": 10,
   "id": "b9eaf950",
   "metadata": {
    "tags": [
     "remove-input"
    ]
   },
   "outputs": [
    {
     "data": {
      "text/markdown": [
       "### air_pollution_no2_pm25_scotland_pc"
      ],
      "text/plain": [
       "<IPython.core.display.Markdown object>"
      ]
     },
     "metadata": {},
     "output_type": "display_data"
    }
   ],
   "source": [
    "display(Markdown('### air_pollution_no2_pm25_scotland_pc'))"
   ]
  },
  {
   "cell_type": "code",
   "execution_count": 11,
   "id": "3111049d",
   "metadata": {
    "tags": [
     "remove-input",
     "hide-cell"
    ]
   },
   "outputs": [
    {
     "data": {
      "text/html": [
       "<style type=\"text/css\">\n",
       "#T_e8f7b th {\n",
       "  text-align: left;\n",
       "}\n",
       "#T_e8f7b_row0_col0, #T_e8f7b_row0_col1, #T_e8f7b_row1_col0, #T_e8f7b_row1_col1, #T_e8f7b_row2_col0, #T_e8f7b_row2_col1, #T_e8f7b_row3_col0, #T_e8f7b_row3_col1, #T_e8f7b_row4_col0, #T_e8f7b_row4_col1, #T_e8f7b_row5_col0, #T_e8f7b_row5_col1, #T_e8f7b_row6_col0, #T_e8f7b_row6_col1, #T_e8f7b_row7_col0, #T_e8f7b_row7_col1, #T_e8f7b_row8_col0, #T_e8f7b_row8_col1, #T_e8f7b_row9_col0, #T_e8f7b_row9_col1, #T_e8f7b_row10_col0, #T_e8f7b_row10_col1, #T_e8f7b_row11_col0, #T_e8f7b_row11_col1, #T_e8f7b_row12_col0, #T_e8f7b_row12_col1, #T_e8f7b_row13_col0, #T_e8f7b_row13_col1, #T_e8f7b_row14_col0, #T_e8f7b_row14_col1 {\n",
       "  text-align: left;\n",
       "}\n",
       "</style>\n",
       "<table id=\"T_e8f7b\" style=\"font-size: 14px\">\n",
       "  <thead>\n",
       "    <tr>\n",
       "      <th id=\"T_e8f7b_level0_col0\" class=\"col_heading level0 col0\" >Dataset Descriptor</th>\n",
       "      <th id=\"T_e8f7b_level0_col1\" class=\"col_heading level0 col1\" >Dataset-specific Information</th>\n",
       "    </tr>\n",
       "  </thead>\n",
       "  <tbody>\n",
       "    <tr>\n",
       "      <td id=\"T_e8f7b_row0_col0\" class=\"data row0 col0\" >Name of Dataset in TRE</td>\n",
       "      <td id=\"T_e8f7b_row0_col1\" class=\"data row0 col1\" >PLACE_air_pollution_no2_pm25_scotland_pc</td>\n",
       "    </tr>\n",
       "    <tr>\n",
       "      <td id=\"T_e8f7b_row1_col0\" class=\"data row1 col0\" >Citation (APA)</td>\n",
       "      <td id=\"T_e8f7b_row1_col1\" class=\"data row1 col1\" >University of Leicester, Centre for Environmental Health and Sustainability and City St George's, University of London, Population Health Research Institute. (2024). <i>Place based data: Air Pollution Postcode Scotland.</i> UK Longitudinal Linkage Collaboration (UK LLC).  <a href=\"https://doi.org/10.71760/ukllc-dataset-00435-02\" rel=\"noopener noreferrer\" target=\"_blank\">https://doi.org/10.71760/ukllc-dataset-00435-02</a></td>\n",
       "    </tr>\n",
       "    <tr>\n",
       "      <td id=\"T_e8f7b_row2_col0\" class=\"data row2 col0\" >Download Citation</td>\n",
       "      <td id=\"T_e8f7b_row2_col1\" class=\"data row2 col1\" > <a href=\"https://api.datacite.org/application/vnd.citationstyles.csl+json/10.71760/ukllc-dataset-00435-02\" rel=\"noopener noreferrer\" target=\"_blank\">Citeproc JSON</a>&nbsp;&nbsp;&nbsp;&nbsp; <a href=\"https://api.datacite.org/application/x-bibtex/10.71760/ukllc-dataset-00435-02\" rel=\"noopener noreferrer\" target=\"_blank\">BibTeX</a>&nbsp;&nbsp;&nbsp;&nbsp; <a href=\"https://api.datacite.org/application/x-research-info-systems/10.71760/ukllc-dataset-00435-02\" rel=\"noopener noreferrer\" target=\"_blank\">RIS</a></td>\n",
       "    </tr>\n",
       "    <tr>\n",
       "      <td id=\"T_e8f7b_row3_col0\" class=\"data row3 col0\" >Owner</td>\n",
       "      <td id=\"T_e8f7b_row3_col1\" class=\"data row3 col1\" >University of Leicester and St George's, University of London</td>\n",
       "    </tr>\n",
       "    <tr>\n",
       "      <td id=\"T_e8f7b_row4_col0\" class=\"data row4 col0\" >Authors</td>\n",
       "      <td id=\"T_e8f7b_row4_col1\" class=\"data row4 col1\" >Calvin Jephcote, Kathryn Adams (University of Leicester) and John Gulliver (St George's, University of London) </td>\n",
       "    </tr>\n",
       "    <tr>\n",
       "      <td id=\"T_e8f7b_row5_col0\" class=\"data row5 col0\" >Temporal Coverage</td>\n",
       "      <td id=\"T_e8f7b_row5_col1\" class=\"data row5 col1\" >01/2010 - 12/2019</td>\n",
       "    </tr>\n",
       "    <tr>\n",
       "      <td id=\"T_e8f7b_row6_col0\" class=\"data row6 col0\" >Geographical Coverage</td>\n",
       "      <td id=\"T_e8f7b_row6_col1\" class=\"data row6 col1\" >Scotland</td>\n",
       "    </tr>\n",
       "    <tr>\n",
       "      <td id=\"T_e8f7b_row7_col0\" class=\"data row7 col0\" >Participant Count</td>\n",
       "      <td id=\"T_e8f7b_row7_col1\" class=\"data row7 col1\" >24401</td>\n",
       "    </tr>\n",
       "    <tr>\n",
       "      <td id=\"T_e8f7b_row8_col0\" class=\"data row8 col0\" >Number of Variables</td>\n",
       "      <td id=\"T_e8f7b_row8_col1\" class=\"data row8 col1\" >30</td>\n",
       "    </tr>\n",
       "    <tr>\n",
       "      <td id=\"T_e8f7b_row9_col0\" class=\"data row9 col0\" >Number of Observations</td>\n",
       "      <td id=\"T_e8f7b_row9_col1\" class=\"data row9 col1\" >1018</td>\n",
       "    </tr>\n",
       "    <tr>\n",
       "      <td id=\"T_e8f7b_row10_col0\" class=\"data row10 col0\" >Key Link</td>\n",
       "      <td id=\"T_e8f7b_row10_col1\" class=\"data row10 col1\" > <a href=\"https://guidebook.ukllc.ac.uk/docs/linked_geo_data/place_based_intro\" rel=\"noopener noreferrer\" target=\"_blank\">https://guidebook.ukllc.ac.uk/docs/linked_geo_data/place_based_intro</a></td>\n",
       "    </tr>\n",
       "    <tr>\n",
       "      <td id=\"T_e8f7b_row11_col0\" class=\"data row11 col0\" >Keywords</td>\n",
       "      <td id=\"T_e8f7b_row11_col1\" class=\"data row11 col1\" >PM2.5,NO2,air pollution,geospatial,environmental</td>\n",
       "    </tr>\n",
       "    <tr>\n",
       "      <td id=\"T_e8f7b_row12_col0\" class=\"data row12 col0\" >Latest Extract Date</td>\n",
       "      <td id=\"T_e8f7b_row12_col1\" class=\"data row12 col1\" >TBC</td>\n",
       "    </tr>\n",
       "    <tr>\n",
       "      <td id=\"T_e8f7b_row13_col0\" class=\"data row13 col0\" >Specific Restrictions to Data Use</td>\n",
       "      <td id=\"T_e8f7b_row13_col1\" class=\"data row13 col1\" >None</td>\n",
       "    </tr>\n",
       "    <tr>\n",
       "      <td id=\"T_e8f7b_row14_col0\" class=\"data row14 col0\" >Build a Data Request</td>\n",
       "      <td id=\"T_e8f7b_row14_col1\" class=\"data row14 col1\" > <a href=\"https://explore.ukllc.ac.uk/\" rel=\"noopener noreferrer\" target=\"_blank\">https://explore.ukllc.ac.uk/</a></td>\n",
       "    </tr>\n",
       "  </tbody>\n",
       "</table>\n"
      ],
      "text/plain": [
       "<pandas.io.formats.style.Styler at 0x1aa7236d090>"
      ]
     },
     "execution_count": 11,
     "metadata": {},
     "output_type": "execute_result"
    }
   ],
   "source": [
    "DS(\"air_pollution_no2_pm25_scotland_pc\").info_table()"
   ]
  },
  {
   "cell_type": "markdown",
   "id": "10547426",
   "metadata": {},
   "source": [
    "## 2. Variables"
   ]
  },
  {
   "cell_type": "code",
   "execution_count": 12,
   "id": "35dfd0a3",
   "metadata": {
    "tags": [
     "remove-input"
    ]
   },
   "outputs": [
    {
     "data": {
      "text/markdown": [
       "### air_pollution_no2_pm25_england_wales_hh"
      ],
      "text/plain": [
       "<IPython.core.display.Markdown object>"
      ]
     },
     "metadata": {},
     "output_type": "display_data"
    }
   ],
   "source": [
    "display(Markdown('### air_pollution_no2_pm25_england_wales_hh'))"
   ]
  },
  {
   "cell_type": "code",
   "execution_count": 13,
   "id": "17887a22",
   "metadata": {
    "tags": [
     "remove-input",
     "hide-cell"
    ]
   },
   "outputs": [
    {
     "data": {
      "text/html": [
       "<style type=\"text/css\">\n",
       "#T_698e0 th {\n",
       "  text-align: left;\n",
       "}\n",
       "#T_698e0_row0_col0, #T_698e0_row0_col1, #T_698e0_row0_col2, #T_698e0_row0_col3, #T_698e0_row0_col4, #T_698e0_row1_col0, #T_698e0_row1_col1, #T_698e0_row1_col2, #T_698e0_row1_col3, #T_698e0_row1_col4, #T_698e0_row2_col0, #T_698e0_row2_col1, #T_698e0_row2_col2, #T_698e0_row2_col3, #T_698e0_row2_col4, #T_698e0_row3_col0, #T_698e0_row3_col1, #T_698e0_row3_col2, #T_698e0_row3_col3, #T_698e0_row3_col4, #T_698e0_row4_col0, #T_698e0_row4_col1, #T_698e0_row4_col2, #T_698e0_row4_col3, #T_698e0_row4_col4, #T_698e0_row5_col0, #T_698e0_row5_col1, #T_698e0_row5_col2, #T_698e0_row5_col3, #T_698e0_row5_col4, #T_698e0_row6_col0, #T_698e0_row6_col1, #T_698e0_row6_col2, #T_698e0_row6_col3, #T_698e0_row6_col4, #T_698e0_row7_col0, #T_698e0_row7_col1, #T_698e0_row7_col2, #T_698e0_row7_col3, #T_698e0_row7_col4, #T_698e0_row8_col0, #T_698e0_row8_col1, #T_698e0_row8_col2, #T_698e0_row8_col3, #T_698e0_row8_col4, #T_698e0_row9_col0, #T_698e0_row9_col1, #T_698e0_row9_col2, #T_698e0_row9_col3, #T_698e0_row9_col4, #T_698e0_row10_col0, #T_698e0_row10_col1, #T_698e0_row10_col2, #T_698e0_row10_col3, #T_698e0_row10_col4, #T_698e0_row11_col0, #T_698e0_row11_col1, #T_698e0_row11_col2, #T_698e0_row11_col3, #T_698e0_row11_col4, #T_698e0_row12_col0, #T_698e0_row12_col1, #T_698e0_row12_col2, #T_698e0_row12_col3, #T_698e0_row12_col4, #T_698e0_row13_col0, #T_698e0_row13_col1, #T_698e0_row13_col2, #T_698e0_row13_col3, #T_698e0_row13_col4, #T_698e0_row14_col0, #T_698e0_row14_col1, #T_698e0_row14_col2, #T_698e0_row14_col3, #T_698e0_row14_col4, #T_698e0_row15_col0, #T_698e0_row15_col1, #T_698e0_row15_col2, #T_698e0_row15_col3, #T_698e0_row15_col4, #T_698e0_row16_col0, #T_698e0_row16_col1, #T_698e0_row16_col2, #T_698e0_row16_col3, #T_698e0_row16_col4, #T_698e0_row17_col0, #T_698e0_row17_col1, #T_698e0_row17_col2, #T_698e0_row17_col3, #T_698e0_row17_col4, #T_698e0_row18_col0, #T_698e0_row18_col1, #T_698e0_row18_col2, #T_698e0_row18_col3, #T_698e0_row18_col4, #T_698e0_row19_col0, #T_698e0_row19_col1, #T_698e0_row19_col2, #T_698e0_row19_col3, #T_698e0_row19_col4, #T_698e0_row20_col0, #T_698e0_row20_col1, #T_698e0_row20_col2, #T_698e0_row20_col3, #T_698e0_row20_col4, #T_698e0_row21_col0, #T_698e0_row21_col1, #T_698e0_row21_col2, #T_698e0_row21_col3, #T_698e0_row21_col4, #T_698e0_row22_col0, #T_698e0_row22_col1, #T_698e0_row22_col2, #T_698e0_row22_col3, #T_698e0_row22_col4, #T_698e0_row23_col0, #T_698e0_row23_col1, #T_698e0_row23_col2, #T_698e0_row23_col3, #T_698e0_row23_col4, #T_698e0_row24_col0, #T_698e0_row24_col1, #T_698e0_row24_col2, #T_698e0_row24_col3, #T_698e0_row24_col4, #T_698e0_row25_col0, #T_698e0_row25_col1, #T_698e0_row25_col2, #T_698e0_row25_col3, #T_698e0_row25_col4, #T_698e0_row26_col0, #T_698e0_row26_col1, #T_698e0_row26_col2, #T_698e0_row26_col3, #T_698e0_row26_col4, #T_698e0_row27_col0, #T_698e0_row27_col1, #T_698e0_row27_col2, #T_698e0_row27_col3, #T_698e0_row27_col4, #T_698e0_row28_col0, #T_698e0_row28_col1, #T_698e0_row28_col2, #T_698e0_row28_col3, #T_698e0_row28_col4, #T_698e0_row29_col0, #T_698e0_row29_col1, #T_698e0_row29_col2, #T_698e0_row29_col3, #T_698e0_row29_col4 {\n",
       "  text-align: left;\n",
       "}\n",
       "</style>\n",
       "<table id=\"T_698e0\" style=\"font-size: 14px\">\n",
       "  <thead>\n",
       "    <tr>\n",
       "      <th id=\"T_698e0_level0_col0\" class=\"col_heading level0 col0\" >Variable Group</th>\n",
       "      <th id=\"T_698e0_level0_col1\" class=\"col_heading level0 col1\" >Variable</th>\n",
       "      <th id=\"T_698e0_level0_col2\" class=\"col_heading level0 col2\" >Description</th>\n",
       "      <th id=\"T_698e0_level0_col3\" class=\"col_heading level0 col3\" >Source</th>\n",
       "      <th id=\"T_698e0_level0_col4\" class=\"col_heading level0 col4\" >Date range of data</th>\n",
       "    </tr>\n",
       "  </thead>\n",
       "  <tbody>\n",
       "    <tr>\n",
       "      <td id=\"T_698e0_row0_col0\" class=\"data row0 col0\" >Geography</td>\n",
       "      <td id=\"T_698e0_row0_col1\" class=\"data row0 col1\" >address_start_date</td>\n",
       "      <td id=\"T_698e0_row0_col2\" class=\"data row0 col2\" >Address start date</td>\n",
       "      <td id=\"T_698e0_row0_col3\" class=\"data row0 col3\" >LPS</td>\n",
       "      <td id=\"T_698e0_row0_col4\" class=\"data row0 col4\" >None</td>\n",
       "    </tr>\n",
       "    <tr>\n",
       "      <td id=\"T_698e0_row1_col0\" class=\"data row1 col0\" >Geography</td>\n",
       "      <td id=\"T_698e0_row1_col1\" class=\"data row1 col1\" >address_end_date</td>\n",
       "      <td id=\"T_698e0_row1_col2\" class=\"data row1 col2\" >Address end date</td>\n",
       "      <td id=\"T_698e0_row1_col3\" class=\"data row1 col3\" >LPS</td>\n",
       "      <td id=\"T_698e0_row1_col4\" class=\"data row1 col4\" >None</td>\n",
       "    </tr>\n",
       "    <tr>\n",
       "      <td id=\"T_698e0_row2_col0\" class=\"data row2 col0\" >UK LLC</td>\n",
       "      <td id=\"T_698e0_row2_col1\" class=\"data row2 col1\" >avail_from_dt</td>\n",
       "      <td id=\"T_698e0_row2_col2\" class=\"data row2 col2\" >None</td>\n",
       "      <td id=\"T_698e0_row2_col3\" class=\"data row2 col3\" >UK LLC</td>\n",
       "      <td id=\"T_698e0_row2_col4\" class=\"data row2 col4\" >None</td>\n",
       "    </tr>\n",
       "    <tr>\n",
       "      <td id=\"T_698e0_row3_col0\" class=\"data row3 col0\" >Identifier</td>\n",
       "      <td id=\"T_698e0_row3_col1\" class=\"data row3 col1\" >cohortkey_e</td>\n",
       "      <td id=\"T_698e0_row3_col2\" class=\"data row3 col2\" >individual level id</td>\n",
       "      <td id=\"T_698e0_row3_col3\" class=\"data row3 col3\" >LPS</td>\n",
       "      <td id=\"T_698e0_row3_col4\" class=\"data row3 col4\" >None</td>\n",
       "    </tr>\n",
       "    <tr>\n",
       "      <td id=\"T_698e0_row4_col0\" class=\"data row4 col0\" >Geography</td>\n",
       "      <td id=\"T_698e0_row4_col1\" class=\"data row4 col1\" >lsoa11_e</td>\n",
       "      <td id=\"T_698e0_row4_col2\" class=\"data row4 col2\" >Lower layer super output area (LSOA) encrypted</td>\n",
       "      <td id=\"T_698e0_row4_col3\" class=\"data row4 col3\" >Office of National Statistics</td>\n",
       "      <td id=\"T_698e0_row4_col4\" class=\"data row4 col4\" >2011</td>\n",
       "    </tr>\n",
       "    <tr>\n",
       "      <td id=\"T_698e0_row5_col0\" class=\"data row5 col0\" >Geography</td>\n",
       "      <td id=\"T_698e0_row5_col1\" class=\"data row5 col1\" >matchcode</td>\n",
       "      <td id=\"T_698e0_row5_col2\" class=\"data row5 col2\" >Experian match code indicator</td>\n",
       "      <td id=\"T_698e0_row5_col3\" class=\"data row5 col3\" >University of Leicester</td>\n",
       "      <td id=\"T_698e0_row5_col4\" class=\"data row5 col4\" >None</td>\n",
       "    </tr>\n",
       "    <tr>\n",
       "      <td id=\"T_698e0_row6_col0\" class=\"data row6 col0\" >Geography</td>\n",
       "      <td id=\"T_698e0_row6_col1\" class=\"data row6 col1\" >msoa11_e</td>\n",
       "      <td id=\"T_698e0_row6_col2\" class=\"data row6 col2\" >Middle super output area (LSOA) encrypted</td>\n",
       "      <td id=\"T_698e0_row6_col3\" class=\"data row6 col3\" >Office of National Statistics</td>\n",
       "      <td id=\"T_698e0_row6_col4\" class=\"data row6 col4\" >2011</td>\n",
       "    </tr>\n",
       "    <tr>\n",
       "      <td id=\"T_698e0_row7_col0\" class=\"data row7 col0\" >Pollution</td>\n",
       "      <td id=\"T_698e0_row7_col1\" class=\"data row7 col1\" >no2_2010</td>\n",
       "      <td id=\"T_698e0_row7_col2\" class=\"data row7 col2\" >Annual average nitrogen dioxide (NO2) for year 2010</td>\n",
       "      <td id=\"T_698e0_row7_col3\" class=\"data row7 col3\" >City St George's, University of London</td>\n",
       "      <td id=\"T_698e0_row7_col4\" class=\"data row7 col4\" >2010</td>\n",
       "    </tr>\n",
       "    <tr>\n",
       "      <td id=\"T_698e0_row8_col0\" class=\"data row8 col0\" >Pollution</td>\n",
       "      <td id=\"T_698e0_row8_col1\" class=\"data row8 col1\" >no2_2011</td>\n",
       "      <td id=\"T_698e0_row8_col2\" class=\"data row8 col2\" >Annual average nitrogen dioxide (NO2) for year 2011</td>\n",
       "      <td id=\"T_698e0_row8_col3\" class=\"data row8 col3\" >City St George's, University of London</td>\n",
       "      <td id=\"T_698e0_row8_col4\" class=\"data row8 col4\" >2011</td>\n",
       "    </tr>\n",
       "    <tr>\n",
       "      <td id=\"T_698e0_row9_col0\" class=\"data row9 col0\" >Pollution</td>\n",
       "      <td id=\"T_698e0_row9_col1\" class=\"data row9 col1\" >no2_2012</td>\n",
       "      <td id=\"T_698e0_row9_col2\" class=\"data row9 col2\" >Annual average nitrogen dioxide (NO2) for year 2012</td>\n",
       "      <td id=\"T_698e0_row9_col3\" class=\"data row9 col3\" >City St George's, University of London</td>\n",
       "      <td id=\"T_698e0_row9_col4\" class=\"data row9 col4\" >2012</td>\n",
       "    </tr>\n",
       "    <tr>\n",
       "      <td id=\"T_698e0_row10_col0\" class=\"data row10 col0\" >Pollution</td>\n",
       "      <td id=\"T_698e0_row10_col1\" class=\"data row10 col1\" >no2_2013</td>\n",
       "      <td id=\"T_698e0_row10_col2\" class=\"data row10 col2\" >Annual average nitrogen dioxide (NO2) for year 2013</td>\n",
       "      <td id=\"T_698e0_row10_col3\" class=\"data row10 col3\" >City St George's, University of London</td>\n",
       "      <td id=\"T_698e0_row10_col4\" class=\"data row10 col4\" >2013</td>\n",
       "    </tr>\n",
       "    <tr>\n",
       "      <td id=\"T_698e0_row11_col0\" class=\"data row11 col0\" >Pollution</td>\n",
       "      <td id=\"T_698e0_row11_col1\" class=\"data row11 col1\" >no2_2014</td>\n",
       "      <td id=\"T_698e0_row11_col2\" class=\"data row11 col2\" >Annual average nitrogen dioxide (NO2) for year 2014</td>\n",
       "      <td id=\"T_698e0_row11_col3\" class=\"data row11 col3\" >City St George's, University of London</td>\n",
       "      <td id=\"T_698e0_row11_col4\" class=\"data row11 col4\" >2014</td>\n",
       "    </tr>\n",
       "    <tr>\n",
       "      <td id=\"T_698e0_row12_col0\" class=\"data row12 col0\" >Pollution</td>\n",
       "      <td id=\"T_698e0_row12_col1\" class=\"data row12 col1\" >no2_2015</td>\n",
       "      <td id=\"T_698e0_row12_col2\" class=\"data row12 col2\" >Annual average nitrogen dioxide (NO2) for year 2015</td>\n",
       "      <td id=\"T_698e0_row12_col3\" class=\"data row12 col3\" >City St George's, University of London</td>\n",
       "      <td id=\"T_698e0_row12_col4\" class=\"data row12 col4\" >2015</td>\n",
       "    </tr>\n",
       "    <tr>\n",
       "      <td id=\"T_698e0_row13_col0\" class=\"data row13 col0\" >Pollution</td>\n",
       "      <td id=\"T_698e0_row13_col1\" class=\"data row13 col1\" >no2_2016</td>\n",
       "      <td id=\"T_698e0_row13_col2\" class=\"data row13 col2\" >Annual average nitrogen dioxide (NO2) for year 2016</td>\n",
       "      <td id=\"T_698e0_row13_col3\" class=\"data row13 col3\" >City St George's, University of London</td>\n",
       "      <td id=\"T_698e0_row13_col4\" class=\"data row13 col4\" >2016</td>\n",
       "    </tr>\n",
       "    <tr>\n",
       "      <td id=\"T_698e0_row14_col0\" class=\"data row14 col0\" >Pollution</td>\n",
       "      <td id=\"T_698e0_row14_col1\" class=\"data row14 col1\" >no2_2017</td>\n",
       "      <td id=\"T_698e0_row14_col2\" class=\"data row14 col2\" >Annual average nitrogen dioxide (NO2) for year 2017</td>\n",
       "      <td id=\"T_698e0_row14_col3\" class=\"data row14 col3\" >City St George's, University of London</td>\n",
       "      <td id=\"T_698e0_row14_col4\" class=\"data row14 col4\" >2017</td>\n",
       "    </tr>\n",
       "    <tr>\n",
       "      <td id=\"T_698e0_row15_col0\" class=\"data row15 col0\" >Pollution</td>\n",
       "      <td id=\"T_698e0_row15_col1\" class=\"data row15 col1\" >no2_2018</td>\n",
       "      <td id=\"T_698e0_row15_col2\" class=\"data row15 col2\" >Annual average nitrogen dioxide (NO2) for year 2018</td>\n",
       "      <td id=\"T_698e0_row15_col3\" class=\"data row15 col3\" >City St George's, University of London</td>\n",
       "      <td id=\"T_698e0_row15_col4\" class=\"data row15 col4\" >2018</td>\n",
       "    </tr>\n",
       "    <tr>\n",
       "      <td id=\"T_698e0_row16_col0\" class=\"data row16 col0\" >Pollution</td>\n",
       "      <td id=\"T_698e0_row16_col1\" class=\"data row16 col1\" >no2_2019</td>\n",
       "      <td id=\"T_698e0_row16_col2\" class=\"data row16 col2\" >Annual average nitrogen dioxide (NO2) for year 2019</td>\n",
       "      <td id=\"T_698e0_row16_col3\" class=\"data row16 col3\" >City St George's, University of London</td>\n",
       "      <td id=\"T_698e0_row16_col4\" class=\"data row16 col4\" >2019</td>\n",
       "    </tr>\n",
       "    <tr>\n",
       "      <td id=\"T_698e0_row17_col0\" class=\"data row17 col0\" >Pollution</td>\n",
       "      <td id=\"T_698e0_row17_col1\" class=\"data row17 col1\" >pm_2010</td>\n",
       "      <td id=\"T_698e0_row17_col2\" class=\"data row17 col2\" >Annual average fine particulate matter (PM2.5) for year 2010</td>\n",
       "      <td id=\"T_698e0_row17_col3\" class=\"data row17 col3\" >City St George's, University of London</td>\n",
       "      <td id=\"T_698e0_row17_col4\" class=\"data row17 col4\" >2010</td>\n",
       "    </tr>\n",
       "    <tr>\n",
       "      <td id=\"T_698e0_row18_col0\" class=\"data row18 col0\" >Pollution</td>\n",
       "      <td id=\"T_698e0_row18_col1\" class=\"data row18 col1\" >pm_2011</td>\n",
       "      <td id=\"T_698e0_row18_col2\" class=\"data row18 col2\" >Annual average fine particulate matter (PM2.5) for year 2011</td>\n",
       "      <td id=\"T_698e0_row18_col3\" class=\"data row18 col3\" >City St George's, University of London</td>\n",
       "      <td id=\"T_698e0_row18_col4\" class=\"data row18 col4\" >2011</td>\n",
       "    </tr>\n",
       "    <tr>\n",
       "      <td id=\"T_698e0_row19_col0\" class=\"data row19 col0\" >Pollution</td>\n",
       "      <td id=\"T_698e0_row19_col1\" class=\"data row19 col1\" >pm_2012</td>\n",
       "      <td id=\"T_698e0_row19_col2\" class=\"data row19 col2\" >Annual average fine particulate matter (PM2.5) for year 2012</td>\n",
       "      <td id=\"T_698e0_row19_col3\" class=\"data row19 col3\" >City St George's, University of London</td>\n",
       "      <td id=\"T_698e0_row19_col4\" class=\"data row19 col4\" >2012</td>\n",
       "    </tr>\n",
       "    <tr>\n",
       "      <td id=\"T_698e0_row20_col0\" class=\"data row20 col0\" >Pollution</td>\n",
       "      <td id=\"T_698e0_row20_col1\" class=\"data row20 col1\" >pm_2013</td>\n",
       "      <td id=\"T_698e0_row20_col2\" class=\"data row20 col2\" >Annual average fine particulate matter (PM2.5) for year 2013</td>\n",
       "      <td id=\"T_698e0_row20_col3\" class=\"data row20 col3\" >City St George's, University of London</td>\n",
       "      <td id=\"T_698e0_row20_col4\" class=\"data row20 col4\" >2013</td>\n",
       "    </tr>\n",
       "    <tr>\n",
       "      <td id=\"T_698e0_row21_col0\" class=\"data row21 col0\" >Pollution</td>\n",
       "      <td id=\"T_698e0_row21_col1\" class=\"data row21 col1\" >pm_2014</td>\n",
       "      <td id=\"T_698e0_row21_col2\" class=\"data row21 col2\" >Annual average fine particulate matter (PM2.5) for year 2014</td>\n",
       "      <td id=\"T_698e0_row21_col3\" class=\"data row21 col3\" >City St George's, University of London</td>\n",
       "      <td id=\"T_698e0_row21_col4\" class=\"data row21 col4\" >2014</td>\n",
       "    </tr>\n",
       "    <tr>\n",
       "      <td id=\"T_698e0_row22_col0\" class=\"data row22 col0\" >Pollution</td>\n",
       "      <td id=\"T_698e0_row22_col1\" class=\"data row22 col1\" >pm_2015</td>\n",
       "      <td id=\"T_698e0_row22_col2\" class=\"data row22 col2\" >Annual average fine particulate matter (PM2.5) for year 2015</td>\n",
       "      <td id=\"T_698e0_row22_col3\" class=\"data row22 col3\" >City St George's, University of London</td>\n",
       "      <td id=\"T_698e0_row22_col4\" class=\"data row22 col4\" >2015</td>\n",
       "    </tr>\n",
       "    <tr>\n",
       "      <td id=\"T_698e0_row23_col0\" class=\"data row23 col0\" >Pollution</td>\n",
       "      <td id=\"T_698e0_row23_col1\" class=\"data row23 col1\" >pm_2016</td>\n",
       "      <td id=\"T_698e0_row23_col2\" class=\"data row23 col2\" >Annual average fine particulate matter (PM2.5) for year 2016</td>\n",
       "      <td id=\"T_698e0_row23_col3\" class=\"data row23 col3\" >City St George's, University of London</td>\n",
       "      <td id=\"T_698e0_row23_col4\" class=\"data row23 col4\" >2016</td>\n",
       "    </tr>\n",
       "    <tr>\n",
       "      <td id=\"T_698e0_row24_col0\" class=\"data row24 col0\" >Pollution</td>\n",
       "      <td id=\"T_698e0_row24_col1\" class=\"data row24 col1\" >pm_2017</td>\n",
       "      <td id=\"T_698e0_row24_col2\" class=\"data row24 col2\" >Annual average fine particulate matter (PM2.5) for year 2017</td>\n",
       "      <td id=\"T_698e0_row24_col3\" class=\"data row24 col3\" >City St George's, University of London</td>\n",
       "      <td id=\"T_698e0_row24_col4\" class=\"data row24 col4\" >2017</td>\n",
       "    </tr>\n",
       "    <tr>\n",
       "      <td id=\"T_698e0_row25_col0\" class=\"data row25 col0\" >Pollution</td>\n",
       "      <td id=\"T_698e0_row25_col1\" class=\"data row25 col1\" >pm_2018</td>\n",
       "      <td id=\"T_698e0_row25_col2\" class=\"data row25 col2\" >Annual average fine particulate matter (PM2.5) for year 2018</td>\n",
       "      <td id=\"T_698e0_row25_col3\" class=\"data row25 col3\" >City St George's, University of London</td>\n",
       "      <td id=\"T_698e0_row25_col4\" class=\"data row25 col4\" >2018</td>\n",
       "    </tr>\n",
       "    <tr>\n",
       "      <td id=\"T_698e0_row26_col0\" class=\"data row26 col0\" >Pollution</td>\n",
       "      <td id=\"T_698e0_row26_col1\" class=\"data row26 col1\" >pm_2019</td>\n",
       "      <td id=\"T_698e0_row26_col2\" class=\"data row26 col2\" >Annual average fine particulate matter (PM2.5) for year 2019</td>\n",
       "      <td id=\"T_698e0_row26_col3\" class=\"data row26 col3\" >City St George's, University of London</td>\n",
       "      <td id=\"T_698e0_row26_col4\" class=\"data row26 col4\" >2019</td>\n",
       "    </tr>\n",
       "    <tr>\n",
       "      <td id=\"T_698e0_row27_col0\" class=\"data row27 col0\" >Geography</td>\n",
       "      <td id=\"T_698e0_row27_col1\" class=\"data row27 col1\" >postcode_e</td>\n",
       "      <td id=\"T_698e0_row27_col2\" class=\"data row27 col2\" >Postcode encrypted</td>\n",
       "      <td id=\"T_698e0_row27_col3\" class=\"data row27 col3\" >LPS</td>\n",
       "      <td id=\"T_698e0_row27_col4\" class=\"data row27 col4\" >None</td>\n",
       "    </tr>\n",
       "    <tr>\n",
       "      <td id=\"T_698e0_row28_col0\" class=\"data row28 col0\" >Geography</td>\n",
       "      <td id=\"T_698e0_row28_col1\" class=\"data row28 col1\" >region</td>\n",
       "      <td id=\"T_698e0_row28_col2\" class=\"data row28 col2\" >UK Region </td>\n",
       "      <td id=\"T_698e0_row28_col3\" class=\"data row28 col3\" >Office of National Statistics</td>\n",
       "      <td id=\"T_698e0_row28_col4\" class=\"data row28 col4\" >2011</td>\n",
       "    </tr>\n",
       "    <tr>\n",
       "      <td id=\"T_698e0_row29_col0\" class=\"data row29 col0\" >Geography</td>\n",
       "      <td id=\"T_698e0_row29_col1\" class=\"data row29 col1\" >uprn_e</td>\n",
       "      <td id=\"T_698e0_row29_col2\" class=\"data row29 col2\" >Unique Property Reference Number (UPRN) encrypted</td>\n",
       "      <td id=\"T_698e0_row29_col3\" class=\"data row29 col3\" >University of Leicester</td>\n",
       "      <td id=\"T_698e0_row29_col4\" class=\"data row29 col4\" >None</td>\n",
       "    </tr>\n",
       "  </tbody>\n",
       "</table>\n"
      ],
      "text/plain": [
       "<pandas.io.formats.style.Styler at 0x1aa7236cf50>"
      ]
     },
     "execution_count": 13,
     "metadata": {},
     "output_type": "execute_result"
    }
   ],
   "source": [
    "DS(\"air_pollution_no2_pm25_england_wales_hh\").variable_table()"
   ]
  },
  {
   "cell_type": "code",
   "execution_count": 14,
   "id": "83766c0d",
   "metadata": {
    "tags": [
     "remove-input"
    ]
   },
   "outputs": [
    {
     "data": {
      "text/markdown": [
       "### air_pollution_no2_pm25_england_wales_pc"
      ],
      "text/plain": [
       "<IPython.core.display.Markdown object>"
      ]
     },
     "metadata": {},
     "output_type": "display_data"
    }
   ],
   "source": [
    "display(Markdown('### air_pollution_no2_pm25_england_wales_pc'))"
   ]
  },
  {
   "cell_type": "code",
   "execution_count": 15,
   "id": "20f3222a",
   "metadata": {
    "tags": [
     "remove-input",
     "hide-cell"
    ]
   },
   "outputs": [
    {
     "data": {
      "text/html": [
       "<style type=\"text/css\">\n",
       "#T_04289 th {\n",
       "  text-align: left;\n",
       "}\n",
       "#T_04289_row0_col0, #T_04289_row0_col1, #T_04289_row0_col2, #T_04289_row0_col3, #T_04289_row0_col4, #T_04289_row1_col0, #T_04289_row1_col1, #T_04289_row1_col2, #T_04289_row1_col3, #T_04289_row1_col4, #T_04289_row2_col0, #T_04289_row2_col1, #T_04289_row2_col2, #T_04289_row2_col3, #T_04289_row2_col4, #T_04289_row3_col0, #T_04289_row3_col1, #T_04289_row3_col2, #T_04289_row3_col3, #T_04289_row3_col4, #T_04289_row4_col0, #T_04289_row4_col1, #T_04289_row4_col2, #T_04289_row4_col3, #T_04289_row4_col4, #T_04289_row5_col0, #T_04289_row5_col1, #T_04289_row5_col2, #T_04289_row5_col3, #T_04289_row5_col4, #T_04289_row6_col0, #T_04289_row6_col1, #T_04289_row6_col2, #T_04289_row6_col3, #T_04289_row6_col4, #T_04289_row7_col0, #T_04289_row7_col1, #T_04289_row7_col2, #T_04289_row7_col3, #T_04289_row7_col4, #T_04289_row8_col0, #T_04289_row8_col1, #T_04289_row8_col2, #T_04289_row8_col3, #T_04289_row8_col4, #T_04289_row9_col0, #T_04289_row9_col1, #T_04289_row9_col2, #T_04289_row9_col3, #T_04289_row9_col4, #T_04289_row10_col0, #T_04289_row10_col1, #T_04289_row10_col2, #T_04289_row10_col3, #T_04289_row10_col4, #T_04289_row11_col0, #T_04289_row11_col1, #T_04289_row11_col2, #T_04289_row11_col3, #T_04289_row11_col4, #T_04289_row12_col0, #T_04289_row12_col1, #T_04289_row12_col2, #T_04289_row12_col3, #T_04289_row12_col4, #T_04289_row13_col0, #T_04289_row13_col1, #T_04289_row13_col2, #T_04289_row13_col3, #T_04289_row13_col4, #T_04289_row14_col0, #T_04289_row14_col1, #T_04289_row14_col2, #T_04289_row14_col3, #T_04289_row14_col4, #T_04289_row15_col0, #T_04289_row15_col1, #T_04289_row15_col2, #T_04289_row15_col3, #T_04289_row15_col4, #T_04289_row16_col0, #T_04289_row16_col1, #T_04289_row16_col2, #T_04289_row16_col3, #T_04289_row16_col4, #T_04289_row17_col0, #T_04289_row17_col1, #T_04289_row17_col2, #T_04289_row17_col3, #T_04289_row17_col4, #T_04289_row18_col0, #T_04289_row18_col1, #T_04289_row18_col2, #T_04289_row18_col3, #T_04289_row18_col4, #T_04289_row19_col0, #T_04289_row19_col1, #T_04289_row19_col2, #T_04289_row19_col3, #T_04289_row19_col4, #T_04289_row20_col0, #T_04289_row20_col1, #T_04289_row20_col2, #T_04289_row20_col3, #T_04289_row20_col4, #T_04289_row21_col0, #T_04289_row21_col1, #T_04289_row21_col2, #T_04289_row21_col3, #T_04289_row21_col4, #T_04289_row22_col0, #T_04289_row22_col1, #T_04289_row22_col2, #T_04289_row22_col3, #T_04289_row22_col4, #T_04289_row23_col0, #T_04289_row23_col1, #T_04289_row23_col2, #T_04289_row23_col3, #T_04289_row23_col4, #T_04289_row24_col0, #T_04289_row24_col1, #T_04289_row24_col2, #T_04289_row24_col3, #T_04289_row24_col4, #T_04289_row25_col0, #T_04289_row25_col1, #T_04289_row25_col2, #T_04289_row25_col3, #T_04289_row25_col4, #T_04289_row26_col0, #T_04289_row26_col1, #T_04289_row26_col2, #T_04289_row26_col3, #T_04289_row26_col4, #T_04289_row27_col0, #T_04289_row27_col1, #T_04289_row27_col2, #T_04289_row27_col3, #T_04289_row27_col4, #T_04289_row28_col0, #T_04289_row28_col1, #T_04289_row28_col2, #T_04289_row28_col3, #T_04289_row28_col4, #T_04289_row29_col0, #T_04289_row29_col1, #T_04289_row29_col2, #T_04289_row29_col3, #T_04289_row29_col4 {\n",
       "  text-align: left;\n",
       "}\n",
       "</style>\n",
       "<table id=\"T_04289\" style=\"font-size: 14px\">\n",
       "  <thead>\n",
       "    <tr>\n",
       "      <th id=\"T_04289_level0_col0\" class=\"col_heading level0 col0\" >Variable Group</th>\n",
       "      <th id=\"T_04289_level0_col1\" class=\"col_heading level0 col1\" >Variable</th>\n",
       "      <th id=\"T_04289_level0_col2\" class=\"col_heading level0 col2\" >Description</th>\n",
       "      <th id=\"T_04289_level0_col3\" class=\"col_heading level0 col3\" >Source</th>\n",
       "      <th id=\"T_04289_level0_col4\" class=\"col_heading level0 col4\" >Date range of data</th>\n",
       "    </tr>\n",
       "  </thead>\n",
       "  <tbody>\n",
       "    <tr>\n",
       "      <td id=\"T_04289_row0_col0\" class=\"data row0 col0\" >Geography</td>\n",
       "      <td id=\"T_04289_row0_col1\" class=\"data row0 col1\" >address_start_date</td>\n",
       "      <td id=\"T_04289_row0_col2\" class=\"data row0 col2\" >Address start date</td>\n",
       "      <td id=\"T_04289_row0_col3\" class=\"data row0 col3\" >LPS</td>\n",
       "      <td id=\"T_04289_row0_col4\" class=\"data row0 col4\" >None</td>\n",
       "    </tr>\n",
       "    <tr>\n",
       "      <td id=\"T_04289_row1_col0\" class=\"data row1 col0\" >Geography</td>\n",
       "      <td id=\"T_04289_row1_col1\" class=\"data row1 col1\" >address_end_date</td>\n",
       "      <td id=\"T_04289_row1_col2\" class=\"data row1 col2\" >Address end date</td>\n",
       "      <td id=\"T_04289_row1_col3\" class=\"data row1 col3\" >LPS</td>\n",
       "      <td id=\"T_04289_row1_col4\" class=\"data row1 col4\" >None</td>\n",
       "    </tr>\n",
       "    <tr>\n",
       "      <td id=\"T_04289_row2_col0\" class=\"data row2 col0\" >UK LLC</td>\n",
       "      <td id=\"T_04289_row2_col1\" class=\"data row2 col1\" >avail_from_dt</td>\n",
       "      <td id=\"T_04289_row2_col2\" class=\"data row2 col2\" >None</td>\n",
       "      <td id=\"T_04289_row2_col3\" class=\"data row2 col3\" >UK LLC</td>\n",
       "      <td id=\"T_04289_row2_col4\" class=\"data row2 col4\" >None</td>\n",
       "    </tr>\n",
       "    <tr>\n",
       "      <td id=\"T_04289_row3_col0\" class=\"data row3 col0\" >Identifier</td>\n",
       "      <td id=\"T_04289_row3_col1\" class=\"data row3 col1\" >cohortkey_e</td>\n",
       "      <td id=\"T_04289_row3_col2\" class=\"data row3 col2\" >individual level id</td>\n",
       "      <td id=\"T_04289_row3_col3\" class=\"data row3 col3\" >LPS</td>\n",
       "      <td id=\"T_04289_row3_col4\" class=\"data row3 col4\" >None</td>\n",
       "    </tr>\n",
       "    <tr>\n",
       "      <td id=\"T_04289_row4_col0\" class=\"data row4 col0\" >Geography</td>\n",
       "      <td id=\"T_04289_row4_col1\" class=\"data row4 col1\" >lsoa11_e</td>\n",
       "      <td id=\"T_04289_row4_col2\" class=\"data row4 col2\" >Lower layer super output area (LSOA) encrypted</td>\n",
       "      <td id=\"T_04289_row4_col3\" class=\"data row4 col3\" >Office of National Statistics</td>\n",
       "      <td id=\"T_04289_row4_col4\" class=\"data row4 col4\" >2011</td>\n",
       "    </tr>\n",
       "    <tr>\n",
       "      <td id=\"T_04289_row5_col0\" class=\"data row5 col0\" >Geography</td>\n",
       "      <td id=\"T_04289_row5_col1\" class=\"data row5 col1\" >matchcode</td>\n",
       "      <td id=\"T_04289_row5_col2\" class=\"data row5 col2\" >Experian match code indicator</td>\n",
       "      <td id=\"T_04289_row5_col3\" class=\"data row5 col3\" >University of Leicester</td>\n",
       "      <td id=\"T_04289_row5_col4\" class=\"data row5 col4\" >None</td>\n",
       "    </tr>\n",
       "    <tr>\n",
       "      <td id=\"T_04289_row6_col0\" class=\"data row6 col0\" >Geography</td>\n",
       "      <td id=\"T_04289_row6_col1\" class=\"data row6 col1\" >msoa11_e</td>\n",
       "      <td id=\"T_04289_row6_col2\" class=\"data row6 col2\" >Middle super output area (LSOA) encrypted</td>\n",
       "      <td id=\"T_04289_row6_col3\" class=\"data row6 col3\" >Office of National Statistics</td>\n",
       "      <td id=\"T_04289_row6_col4\" class=\"data row6 col4\" >2011</td>\n",
       "    </tr>\n",
       "    <tr>\n",
       "      <td id=\"T_04289_row7_col0\" class=\"data row7 col0\" >Pollution</td>\n",
       "      <td id=\"T_04289_row7_col1\" class=\"data row7 col1\" >no2_2010</td>\n",
       "      <td id=\"T_04289_row7_col2\" class=\"data row7 col2\" >Annual average nitrogen dioxide (NO2) for year 2010</td>\n",
       "      <td id=\"T_04289_row7_col3\" class=\"data row7 col3\" >City St George's, University of London</td>\n",
       "      <td id=\"T_04289_row7_col4\" class=\"data row7 col4\" >2010</td>\n",
       "    </tr>\n",
       "    <tr>\n",
       "      <td id=\"T_04289_row8_col0\" class=\"data row8 col0\" >Pollution</td>\n",
       "      <td id=\"T_04289_row8_col1\" class=\"data row8 col1\" >no2_2011</td>\n",
       "      <td id=\"T_04289_row8_col2\" class=\"data row8 col2\" >Annual average nitrogen dioxide (NO2) for year 2011</td>\n",
       "      <td id=\"T_04289_row8_col3\" class=\"data row8 col3\" >City St George's, University of London</td>\n",
       "      <td id=\"T_04289_row8_col4\" class=\"data row8 col4\" >2011</td>\n",
       "    </tr>\n",
       "    <tr>\n",
       "      <td id=\"T_04289_row9_col0\" class=\"data row9 col0\" >Pollution</td>\n",
       "      <td id=\"T_04289_row9_col1\" class=\"data row9 col1\" >no2_2012</td>\n",
       "      <td id=\"T_04289_row9_col2\" class=\"data row9 col2\" >Annual average nitrogen dioxide (NO2) for year 2012</td>\n",
       "      <td id=\"T_04289_row9_col3\" class=\"data row9 col3\" >City St George's, University of London</td>\n",
       "      <td id=\"T_04289_row9_col4\" class=\"data row9 col4\" >2012</td>\n",
       "    </tr>\n",
       "    <tr>\n",
       "      <td id=\"T_04289_row10_col0\" class=\"data row10 col0\" >Pollution</td>\n",
       "      <td id=\"T_04289_row10_col1\" class=\"data row10 col1\" >no2_2013</td>\n",
       "      <td id=\"T_04289_row10_col2\" class=\"data row10 col2\" >Annual average nitrogen dioxide (NO2) for year 2013</td>\n",
       "      <td id=\"T_04289_row10_col3\" class=\"data row10 col3\" >City St George's, University of London</td>\n",
       "      <td id=\"T_04289_row10_col4\" class=\"data row10 col4\" >2013</td>\n",
       "    </tr>\n",
       "    <tr>\n",
       "      <td id=\"T_04289_row11_col0\" class=\"data row11 col0\" >Pollution</td>\n",
       "      <td id=\"T_04289_row11_col1\" class=\"data row11 col1\" >no2_2014</td>\n",
       "      <td id=\"T_04289_row11_col2\" class=\"data row11 col2\" >Annual average nitrogen dioxide (NO2) for year 2014</td>\n",
       "      <td id=\"T_04289_row11_col3\" class=\"data row11 col3\" >City St George's, University of London</td>\n",
       "      <td id=\"T_04289_row11_col4\" class=\"data row11 col4\" >2014</td>\n",
       "    </tr>\n",
       "    <tr>\n",
       "      <td id=\"T_04289_row12_col0\" class=\"data row12 col0\" >Pollution</td>\n",
       "      <td id=\"T_04289_row12_col1\" class=\"data row12 col1\" >no2_2015</td>\n",
       "      <td id=\"T_04289_row12_col2\" class=\"data row12 col2\" >Annual average nitrogen dioxide (NO2) for year 2015</td>\n",
       "      <td id=\"T_04289_row12_col3\" class=\"data row12 col3\" >City St George's, University of London</td>\n",
       "      <td id=\"T_04289_row12_col4\" class=\"data row12 col4\" >2015</td>\n",
       "    </tr>\n",
       "    <tr>\n",
       "      <td id=\"T_04289_row13_col0\" class=\"data row13 col0\" >Pollution</td>\n",
       "      <td id=\"T_04289_row13_col1\" class=\"data row13 col1\" >no2_2016</td>\n",
       "      <td id=\"T_04289_row13_col2\" class=\"data row13 col2\" >Annual average nitrogen dioxide (NO2) for year 2016</td>\n",
       "      <td id=\"T_04289_row13_col3\" class=\"data row13 col3\" >City St George's, University of London</td>\n",
       "      <td id=\"T_04289_row13_col4\" class=\"data row13 col4\" >2016</td>\n",
       "    </tr>\n",
       "    <tr>\n",
       "      <td id=\"T_04289_row14_col0\" class=\"data row14 col0\" >Pollution</td>\n",
       "      <td id=\"T_04289_row14_col1\" class=\"data row14 col1\" >no2_2017</td>\n",
       "      <td id=\"T_04289_row14_col2\" class=\"data row14 col2\" >Annual average nitrogen dioxide (NO2) for year 2017</td>\n",
       "      <td id=\"T_04289_row14_col3\" class=\"data row14 col3\" >City St George's, University of London</td>\n",
       "      <td id=\"T_04289_row14_col4\" class=\"data row14 col4\" >2017</td>\n",
       "    </tr>\n",
       "    <tr>\n",
       "      <td id=\"T_04289_row15_col0\" class=\"data row15 col0\" >Pollution</td>\n",
       "      <td id=\"T_04289_row15_col1\" class=\"data row15 col1\" >no2_2018</td>\n",
       "      <td id=\"T_04289_row15_col2\" class=\"data row15 col2\" >Annual average nitrogen dioxide (NO2) for year 2018</td>\n",
       "      <td id=\"T_04289_row15_col3\" class=\"data row15 col3\" >City St George's, University of London</td>\n",
       "      <td id=\"T_04289_row15_col4\" class=\"data row15 col4\" >2018</td>\n",
       "    </tr>\n",
       "    <tr>\n",
       "      <td id=\"T_04289_row16_col0\" class=\"data row16 col0\" >Pollution</td>\n",
       "      <td id=\"T_04289_row16_col1\" class=\"data row16 col1\" >no2_2019</td>\n",
       "      <td id=\"T_04289_row16_col2\" class=\"data row16 col2\" >Annual average nitrogen dioxide (NO2) for year 2019</td>\n",
       "      <td id=\"T_04289_row16_col3\" class=\"data row16 col3\" >City St George's, University of London</td>\n",
       "      <td id=\"T_04289_row16_col4\" class=\"data row16 col4\" >2019</td>\n",
       "    </tr>\n",
       "    <tr>\n",
       "      <td id=\"T_04289_row17_col0\" class=\"data row17 col0\" >Pollution</td>\n",
       "      <td id=\"T_04289_row17_col1\" class=\"data row17 col1\" >pm_2010</td>\n",
       "      <td id=\"T_04289_row17_col2\" class=\"data row17 col2\" >Annual average fine particulate matter (PM2.5) for year 2010</td>\n",
       "      <td id=\"T_04289_row17_col3\" class=\"data row17 col3\" >City St George's, University of London</td>\n",
       "      <td id=\"T_04289_row17_col4\" class=\"data row17 col4\" >2010</td>\n",
       "    </tr>\n",
       "    <tr>\n",
       "      <td id=\"T_04289_row18_col0\" class=\"data row18 col0\" >Pollution</td>\n",
       "      <td id=\"T_04289_row18_col1\" class=\"data row18 col1\" >pm_2011</td>\n",
       "      <td id=\"T_04289_row18_col2\" class=\"data row18 col2\" >Annual average fine particulate matter (PM2.5) for year 2011</td>\n",
       "      <td id=\"T_04289_row18_col3\" class=\"data row18 col3\" >City St George's, University of London</td>\n",
       "      <td id=\"T_04289_row18_col4\" class=\"data row18 col4\" >2011</td>\n",
       "    </tr>\n",
       "    <tr>\n",
       "      <td id=\"T_04289_row19_col0\" class=\"data row19 col0\" >Pollution</td>\n",
       "      <td id=\"T_04289_row19_col1\" class=\"data row19 col1\" >pm_2012</td>\n",
       "      <td id=\"T_04289_row19_col2\" class=\"data row19 col2\" >Annual average fine particulate matter (PM2.5) for year 2012</td>\n",
       "      <td id=\"T_04289_row19_col3\" class=\"data row19 col3\" >City St George's, University of London</td>\n",
       "      <td id=\"T_04289_row19_col4\" class=\"data row19 col4\" >2012</td>\n",
       "    </tr>\n",
       "    <tr>\n",
       "      <td id=\"T_04289_row20_col0\" class=\"data row20 col0\" >Pollution</td>\n",
       "      <td id=\"T_04289_row20_col1\" class=\"data row20 col1\" >pm_2013</td>\n",
       "      <td id=\"T_04289_row20_col2\" class=\"data row20 col2\" >Annual average fine particulate matter (PM2.5) for year 2013</td>\n",
       "      <td id=\"T_04289_row20_col3\" class=\"data row20 col3\" >City St George's, University of London</td>\n",
       "      <td id=\"T_04289_row20_col4\" class=\"data row20 col4\" >2013</td>\n",
       "    </tr>\n",
       "    <tr>\n",
       "      <td id=\"T_04289_row21_col0\" class=\"data row21 col0\" >Pollution</td>\n",
       "      <td id=\"T_04289_row21_col1\" class=\"data row21 col1\" >pm_2014</td>\n",
       "      <td id=\"T_04289_row21_col2\" class=\"data row21 col2\" >Annual average fine particulate matter (PM2.5) for year 2014</td>\n",
       "      <td id=\"T_04289_row21_col3\" class=\"data row21 col3\" >City St George's, University of London</td>\n",
       "      <td id=\"T_04289_row21_col4\" class=\"data row21 col4\" >2014</td>\n",
       "    </tr>\n",
       "    <tr>\n",
       "      <td id=\"T_04289_row22_col0\" class=\"data row22 col0\" >Pollution</td>\n",
       "      <td id=\"T_04289_row22_col1\" class=\"data row22 col1\" >pm_2015</td>\n",
       "      <td id=\"T_04289_row22_col2\" class=\"data row22 col2\" >Annual average fine particulate matter (PM2.5) for year 2015</td>\n",
       "      <td id=\"T_04289_row22_col3\" class=\"data row22 col3\" >City St George's, University of London</td>\n",
       "      <td id=\"T_04289_row22_col4\" class=\"data row22 col4\" >2015</td>\n",
       "    </tr>\n",
       "    <tr>\n",
       "      <td id=\"T_04289_row23_col0\" class=\"data row23 col0\" >Pollution</td>\n",
       "      <td id=\"T_04289_row23_col1\" class=\"data row23 col1\" >pm_2016</td>\n",
       "      <td id=\"T_04289_row23_col2\" class=\"data row23 col2\" >Annual average fine particulate matter (PM2.5) for year 2016</td>\n",
       "      <td id=\"T_04289_row23_col3\" class=\"data row23 col3\" >City St George's, University of London</td>\n",
       "      <td id=\"T_04289_row23_col4\" class=\"data row23 col4\" >2016</td>\n",
       "    </tr>\n",
       "    <tr>\n",
       "      <td id=\"T_04289_row24_col0\" class=\"data row24 col0\" >Pollution</td>\n",
       "      <td id=\"T_04289_row24_col1\" class=\"data row24 col1\" >pm_2017</td>\n",
       "      <td id=\"T_04289_row24_col2\" class=\"data row24 col2\" >Annual average fine particulate matter (PM2.5) for year 2017</td>\n",
       "      <td id=\"T_04289_row24_col3\" class=\"data row24 col3\" >City St George's, University of London</td>\n",
       "      <td id=\"T_04289_row24_col4\" class=\"data row24 col4\" >2017</td>\n",
       "    </tr>\n",
       "    <tr>\n",
       "      <td id=\"T_04289_row25_col0\" class=\"data row25 col0\" >Pollution</td>\n",
       "      <td id=\"T_04289_row25_col1\" class=\"data row25 col1\" >pm_2018</td>\n",
       "      <td id=\"T_04289_row25_col2\" class=\"data row25 col2\" >Annual average fine particulate matter (PM2.5) for year 2018</td>\n",
       "      <td id=\"T_04289_row25_col3\" class=\"data row25 col3\" >City St George's, University of London</td>\n",
       "      <td id=\"T_04289_row25_col4\" class=\"data row25 col4\" >2018</td>\n",
       "    </tr>\n",
       "    <tr>\n",
       "      <td id=\"T_04289_row26_col0\" class=\"data row26 col0\" >Pollution</td>\n",
       "      <td id=\"T_04289_row26_col1\" class=\"data row26 col1\" >pm_2019</td>\n",
       "      <td id=\"T_04289_row26_col2\" class=\"data row26 col2\" >Annual average fine particulate matter (PM2.5) for year 2019</td>\n",
       "      <td id=\"T_04289_row26_col3\" class=\"data row26 col3\" >City St George's, University of London</td>\n",
       "      <td id=\"T_04289_row26_col4\" class=\"data row26 col4\" >2019</td>\n",
       "    </tr>\n",
       "    <tr>\n",
       "      <td id=\"T_04289_row27_col0\" class=\"data row27 col0\" >Geography</td>\n",
       "      <td id=\"T_04289_row27_col1\" class=\"data row27 col1\" >postcode_e</td>\n",
       "      <td id=\"T_04289_row27_col2\" class=\"data row27 col2\" >Postcode encrypted</td>\n",
       "      <td id=\"T_04289_row27_col3\" class=\"data row27 col3\" >LPS</td>\n",
       "      <td id=\"T_04289_row27_col4\" class=\"data row27 col4\" >None</td>\n",
       "    </tr>\n",
       "    <tr>\n",
       "      <td id=\"T_04289_row28_col0\" class=\"data row28 col0\" >Geography</td>\n",
       "      <td id=\"T_04289_row28_col1\" class=\"data row28 col1\" >region</td>\n",
       "      <td id=\"T_04289_row28_col2\" class=\"data row28 col2\" >UK Region </td>\n",
       "      <td id=\"T_04289_row28_col3\" class=\"data row28 col3\" >Office of National Statistics</td>\n",
       "      <td id=\"T_04289_row28_col4\" class=\"data row28 col4\" >2011</td>\n",
       "    </tr>\n",
       "    <tr>\n",
       "      <td id=\"T_04289_row29_col0\" class=\"data row29 col0\" >Geography</td>\n",
       "      <td id=\"T_04289_row29_col1\" class=\"data row29 col1\" >uprn_e</td>\n",
       "      <td id=\"T_04289_row29_col2\" class=\"data row29 col2\" >Unique Property Reference Number (UPRN) encrypted</td>\n",
       "      <td id=\"T_04289_row29_col3\" class=\"data row29 col3\" >University of Leicester</td>\n",
       "      <td id=\"T_04289_row29_col4\" class=\"data row29 col4\" >None</td>\n",
       "    </tr>\n",
       "  </tbody>\n",
       "</table>\n"
      ],
      "text/plain": [
       "<pandas.io.formats.style.Styler at 0x1aa7236ec10>"
      ]
     },
     "execution_count": 15,
     "metadata": {},
     "output_type": "execute_result"
    }
   ],
   "source": [
    "DS(\"air_pollution_no2_pm25_england_wales_pc\").variable_table()"
   ]
  },
  {
   "cell_type": "code",
   "execution_count": 16,
   "id": "e1e5c9bd",
   "metadata": {
    "tags": [
     "remove-input"
    ]
   },
   "outputs": [
    {
     "data": {
      "text/markdown": [
       "### air_pollution_no2_pm25_scotland_hh"
      ],
      "text/plain": [
       "<IPython.core.display.Markdown object>"
      ]
     },
     "metadata": {},
     "output_type": "display_data"
    }
   ],
   "source": [
    "display(Markdown('### air_pollution_no2_pm25_scotland_hh'))"
   ]
  },
  {
   "cell_type": "code",
   "execution_count": 17,
   "id": "15918248",
   "metadata": {
    "tags": [
     "remove-input",
     "hide-cell"
    ]
   },
   "outputs": [
    {
     "data": {
      "text/html": [
       "<style type=\"text/css\">\n",
       "#T_8cc1f th {\n",
       "  text-align: left;\n",
       "}\n",
       "#T_8cc1f_row0_col0, #T_8cc1f_row0_col1, #T_8cc1f_row0_col2, #T_8cc1f_row0_col3, #T_8cc1f_row0_col4, #T_8cc1f_row1_col0, #T_8cc1f_row1_col1, #T_8cc1f_row1_col2, #T_8cc1f_row1_col3, #T_8cc1f_row1_col4, #T_8cc1f_row2_col0, #T_8cc1f_row2_col1, #T_8cc1f_row2_col2, #T_8cc1f_row2_col3, #T_8cc1f_row2_col4, #T_8cc1f_row3_col0, #T_8cc1f_row3_col1, #T_8cc1f_row3_col2, #T_8cc1f_row3_col3, #T_8cc1f_row3_col4, #T_8cc1f_row4_col0, #T_8cc1f_row4_col1, #T_8cc1f_row4_col2, #T_8cc1f_row4_col3, #T_8cc1f_row4_col4, #T_8cc1f_row5_col0, #T_8cc1f_row5_col1, #T_8cc1f_row5_col2, #T_8cc1f_row5_col3, #T_8cc1f_row5_col4, #T_8cc1f_row6_col0, #T_8cc1f_row6_col1, #T_8cc1f_row6_col2, #T_8cc1f_row6_col3, #T_8cc1f_row6_col4, #T_8cc1f_row7_col0, #T_8cc1f_row7_col1, #T_8cc1f_row7_col2, #T_8cc1f_row7_col3, #T_8cc1f_row7_col4, #T_8cc1f_row8_col0, #T_8cc1f_row8_col1, #T_8cc1f_row8_col2, #T_8cc1f_row8_col3, #T_8cc1f_row8_col4, #T_8cc1f_row9_col0, #T_8cc1f_row9_col1, #T_8cc1f_row9_col2, #T_8cc1f_row9_col3, #T_8cc1f_row9_col4, #T_8cc1f_row10_col0, #T_8cc1f_row10_col1, #T_8cc1f_row10_col2, #T_8cc1f_row10_col3, #T_8cc1f_row10_col4, #T_8cc1f_row11_col0, #T_8cc1f_row11_col1, #T_8cc1f_row11_col2, #T_8cc1f_row11_col3, #T_8cc1f_row11_col4, #T_8cc1f_row12_col0, #T_8cc1f_row12_col1, #T_8cc1f_row12_col2, #T_8cc1f_row12_col3, #T_8cc1f_row12_col4, #T_8cc1f_row13_col0, #T_8cc1f_row13_col1, #T_8cc1f_row13_col2, #T_8cc1f_row13_col3, #T_8cc1f_row13_col4, #T_8cc1f_row14_col0, #T_8cc1f_row14_col1, #T_8cc1f_row14_col2, #T_8cc1f_row14_col3, #T_8cc1f_row14_col4, #T_8cc1f_row15_col0, #T_8cc1f_row15_col1, #T_8cc1f_row15_col2, #T_8cc1f_row15_col3, #T_8cc1f_row15_col4, #T_8cc1f_row16_col0, #T_8cc1f_row16_col1, #T_8cc1f_row16_col2, #T_8cc1f_row16_col3, #T_8cc1f_row16_col4, #T_8cc1f_row17_col0, #T_8cc1f_row17_col1, #T_8cc1f_row17_col2, #T_8cc1f_row17_col3, #T_8cc1f_row17_col4, #T_8cc1f_row18_col0, #T_8cc1f_row18_col1, #T_8cc1f_row18_col2, #T_8cc1f_row18_col3, #T_8cc1f_row18_col4, #T_8cc1f_row19_col0, #T_8cc1f_row19_col1, #T_8cc1f_row19_col2, #T_8cc1f_row19_col3, #T_8cc1f_row19_col4, #T_8cc1f_row20_col0, #T_8cc1f_row20_col1, #T_8cc1f_row20_col2, #T_8cc1f_row20_col3, #T_8cc1f_row20_col4, #T_8cc1f_row21_col0, #T_8cc1f_row21_col1, #T_8cc1f_row21_col2, #T_8cc1f_row21_col3, #T_8cc1f_row21_col4, #T_8cc1f_row22_col0, #T_8cc1f_row22_col1, #T_8cc1f_row22_col2, #T_8cc1f_row22_col3, #T_8cc1f_row22_col4, #T_8cc1f_row23_col0, #T_8cc1f_row23_col1, #T_8cc1f_row23_col2, #T_8cc1f_row23_col3, #T_8cc1f_row23_col4, #T_8cc1f_row24_col0, #T_8cc1f_row24_col1, #T_8cc1f_row24_col2, #T_8cc1f_row24_col3, #T_8cc1f_row24_col4, #T_8cc1f_row25_col0, #T_8cc1f_row25_col1, #T_8cc1f_row25_col2, #T_8cc1f_row25_col3, #T_8cc1f_row25_col4, #T_8cc1f_row26_col0, #T_8cc1f_row26_col1, #T_8cc1f_row26_col2, #T_8cc1f_row26_col3, #T_8cc1f_row26_col4, #T_8cc1f_row27_col0, #T_8cc1f_row27_col1, #T_8cc1f_row27_col2, #T_8cc1f_row27_col3, #T_8cc1f_row27_col4, #T_8cc1f_row28_col0, #T_8cc1f_row28_col1, #T_8cc1f_row28_col2, #T_8cc1f_row28_col3, #T_8cc1f_row28_col4, #T_8cc1f_row29_col0, #T_8cc1f_row29_col1, #T_8cc1f_row29_col2, #T_8cc1f_row29_col3, #T_8cc1f_row29_col4 {\n",
       "  text-align: left;\n",
       "}\n",
       "</style>\n",
       "<table id=\"T_8cc1f\" style=\"font-size: 14px\">\n",
       "  <thead>\n",
       "    <tr>\n",
       "      <th id=\"T_8cc1f_level0_col0\" class=\"col_heading level0 col0\" >Variable Group</th>\n",
       "      <th id=\"T_8cc1f_level0_col1\" class=\"col_heading level0 col1\" >Variable</th>\n",
       "      <th id=\"T_8cc1f_level0_col2\" class=\"col_heading level0 col2\" >Description</th>\n",
       "      <th id=\"T_8cc1f_level0_col3\" class=\"col_heading level0 col3\" >Source</th>\n",
       "      <th id=\"T_8cc1f_level0_col4\" class=\"col_heading level0 col4\" >Date range of data</th>\n",
       "    </tr>\n",
       "  </thead>\n",
       "  <tbody>\n",
       "    <tr>\n",
       "      <td id=\"T_8cc1f_row0_col0\" class=\"data row0 col0\" >Geography</td>\n",
       "      <td id=\"T_8cc1f_row0_col1\" class=\"data row0 col1\" >address_start_date</td>\n",
       "      <td id=\"T_8cc1f_row0_col2\" class=\"data row0 col2\" >Address start date</td>\n",
       "      <td id=\"T_8cc1f_row0_col3\" class=\"data row0 col3\" >LPS</td>\n",
       "      <td id=\"T_8cc1f_row0_col4\" class=\"data row0 col4\" >None</td>\n",
       "    </tr>\n",
       "    <tr>\n",
       "      <td id=\"T_8cc1f_row1_col0\" class=\"data row1 col0\" >Geography</td>\n",
       "      <td id=\"T_8cc1f_row1_col1\" class=\"data row1 col1\" >address_end_date</td>\n",
       "      <td id=\"T_8cc1f_row1_col2\" class=\"data row1 col2\" >Address end date</td>\n",
       "      <td id=\"T_8cc1f_row1_col3\" class=\"data row1 col3\" >LPS</td>\n",
       "      <td id=\"T_8cc1f_row1_col4\" class=\"data row1 col4\" >None</td>\n",
       "    </tr>\n",
       "    <tr>\n",
       "      <td id=\"T_8cc1f_row2_col0\" class=\"data row2 col0\" >UK LLC</td>\n",
       "      <td id=\"T_8cc1f_row2_col1\" class=\"data row2 col1\" >avail_from_dt</td>\n",
       "      <td id=\"T_8cc1f_row2_col2\" class=\"data row2 col2\" >None</td>\n",
       "      <td id=\"T_8cc1f_row2_col3\" class=\"data row2 col3\" >UK LLC</td>\n",
       "      <td id=\"T_8cc1f_row2_col4\" class=\"data row2 col4\" >None</td>\n",
       "    </tr>\n",
       "    <tr>\n",
       "      <td id=\"T_8cc1f_row3_col0\" class=\"data row3 col0\" >Identifier</td>\n",
       "      <td id=\"T_8cc1f_row3_col1\" class=\"data row3 col1\" >cohortkey_e</td>\n",
       "      <td id=\"T_8cc1f_row3_col2\" class=\"data row3 col2\" >individual level id</td>\n",
       "      <td id=\"T_8cc1f_row3_col3\" class=\"data row3 col3\" >LPS</td>\n",
       "      <td id=\"T_8cc1f_row3_col4\" class=\"data row3 col4\" >None</td>\n",
       "    </tr>\n",
       "    <tr>\n",
       "      <td id=\"T_8cc1f_row4_col0\" class=\"data row4 col0\" >Geography</td>\n",
       "      <td id=\"T_8cc1f_row4_col1\" class=\"data row4 col1\" >lsoa11_e</td>\n",
       "      <td id=\"T_8cc1f_row4_col2\" class=\"data row4 col2\" >Lower layer super output area (LSOA) encrypted</td>\n",
       "      <td id=\"T_8cc1f_row4_col3\" class=\"data row4 col3\" >Office of National Statistics</td>\n",
       "      <td id=\"T_8cc1f_row4_col4\" class=\"data row4 col4\" >2011</td>\n",
       "    </tr>\n",
       "    <tr>\n",
       "      <td id=\"T_8cc1f_row5_col0\" class=\"data row5 col0\" >Geography</td>\n",
       "      <td id=\"T_8cc1f_row5_col1\" class=\"data row5 col1\" >matchcode</td>\n",
       "      <td id=\"T_8cc1f_row5_col2\" class=\"data row5 col2\" >Experian match code indicator</td>\n",
       "      <td id=\"T_8cc1f_row5_col3\" class=\"data row5 col3\" >University of Leicester</td>\n",
       "      <td id=\"T_8cc1f_row5_col4\" class=\"data row5 col4\" >None</td>\n",
       "    </tr>\n",
       "    <tr>\n",
       "      <td id=\"T_8cc1f_row6_col0\" class=\"data row6 col0\" >Geography</td>\n",
       "      <td id=\"T_8cc1f_row6_col1\" class=\"data row6 col1\" >msoa11_e</td>\n",
       "      <td id=\"T_8cc1f_row6_col2\" class=\"data row6 col2\" >Middle super output area (LSOA) encrypted</td>\n",
       "      <td id=\"T_8cc1f_row6_col3\" class=\"data row6 col3\" >Office of National Statistics</td>\n",
       "      <td id=\"T_8cc1f_row6_col4\" class=\"data row6 col4\" >2011</td>\n",
       "    </tr>\n",
       "    <tr>\n",
       "      <td id=\"T_8cc1f_row7_col0\" class=\"data row7 col0\" >Pollution</td>\n",
       "      <td id=\"T_8cc1f_row7_col1\" class=\"data row7 col1\" >no2_2010</td>\n",
       "      <td id=\"T_8cc1f_row7_col2\" class=\"data row7 col2\" >Annual average nitrogen dioxide (NO2) for year 2010</td>\n",
       "      <td id=\"T_8cc1f_row7_col3\" class=\"data row7 col3\" >City St George's, University of London</td>\n",
       "      <td id=\"T_8cc1f_row7_col4\" class=\"data row7 col4\" >2010</td>\n",
       "    </tr>\n",
       "    <tr>\n",
       "      <td id=\"T_8cc1f_row8_col0\" class=\"data row8 col0\" >Pollution</td>\n",
       "      <td id=\"T_8cc1f_row8_col1\" class=\"data row8 col1\" >no2_2011</td>\n",
       "      <td id=\"T_8cc1f_row8_col2\" class=\"data row8 col2\" >Annual average nitrogen dioxide (NO2) for year 2011</td>\n",
       "      <td id=\"T_8cc1f_row8_col3\" class=\"data row8 col3\" >City St George's, University of London</td>\n",
       "      <td id=\"T_8cc1f_row8_col4\" class=\"data row8 col4\" >2011</td>\n",
       "    </tr>\n",
       "    <tr>\n",
       "      <td id=\"T_8cc1f_row9_col0\" class=\"data row9 col0\" >Pollution</td>\n",
       "      <td id=\"T_8cc1f_row9_col1\" class=\"data row9 col1\" >no2_2012</td>\n",
       "      <td id=\"T_8cc1f_row9_col2\" class=\"data row9 col2\" >Annual average nitrogen dioxide (NO2) for year 2012</td>\n",
       "      <td id=\"T_8cc1f_row9_col3\" class=\"data row9 col3\" >City St George's, University of London</td>\n",
       "      <td id=\"T_8cc1f_row9_col4\" class=\"data row9 col4\" >2012</td>\n",
       "    </tr>\n",
       "    <tr>\n",
       "      <td id=\"T_8cc1f_row10_col0\" class=\"data row10 col0\" >Pollution</td>\n",
       "      <td id=\"T_8cc1f_row10_col1\" class=\"data row10 col1\" >no2_2013</td>\n",
       "      <td id=\"T_8cc1f_row10_col2\" class=\"data row10 col2\" >Annual average nitrogen dioxide (NO2) for year 2013</td>\n",
       "      <td id=\"T_8cc1f_row10_col3\" class=\"data row10 col3\" >City St George's, University of London</td>\n",
       "      <td id=\"T_8cc1f_row10_col4\" class=\"data row10 col4\" >2013</td>\n",
       "    </tr>\n",
       "    <tr>\n",
       "      <td id=\"T_8cc1f_row11_col0\" class=\"data row11 col0\" >Pollution</td>\n",
       "      <td id=\"T_8cc1f_row11_col1\" class=\"data row11 col1\" >no2_2014</td>\n",
       "      <td id=\"T_8cc1f_row11_col2\" class=\"data row11 col2\" >Annual average nitrogen dioxide (NO2) for year 2014</td>\n",
       "      <td id=\"T_8cc1f_row11_col3\" class=\"data row11 col3\" >City St George's, University of London</td>\n",
       "      <td id=\"T_8cc1f_row11_col4\" class=\"data row11 col4\" >2014</td>\n",
       "    </tr>\n",
       "    <tr>\n",
       "      <td id=\"T_8cc1f_row12_col0\" class=\"data row12 col0\" >Pollution</td>\n",
       "      <td id=\"T_8cc1f_row12_col1\" class=\"data row12 col1\" >no2_2015</td>\n",
       "      <td id=\"T_8cc1f_row12_col2\" class=\"data row12 col2\" >Annual average nitrogen dioxide (NO2) for year 2015</td>\n",
       "      <td id=\"T_8cc1f_row12_col3\" class=\"data row12 col3\" >City St George's, University of London</td>\n",
       "      <td id=\"T_8cc1f_row12_col4\" class=\"data row12 col4\" >2015</td>\n",
       "    </tr>\n",
       "    <tr>\n",
       "      <td id=\"T_8cc1f_row13_col0\" class=\"data row13 col0\" >Pollution</td>\n",
       "      <td id=\"T_8cc1f_row13_col1\" class=\"data row13 col1\" >no2_2016</td>\n",
       "      <td id=\"T_8cc1f_row13_col2\" class=\"data row13 col2\" >Annual average nitrogen dioxide (NO2) for year 2016</td>\n",
       "      <td id=\"T_8cc1f_row13_col3\" class=\"data row13 col3\" >City St George's, University of London</td>\n",
       "      <td id=\"T_8cc1f_row13_col4\" class=\"data row13 col4\" >2016</td>\n",
       "    </tr>\n",
       "    <tr>\n",
       "      <td id=\"T_8cc1f_row14_col0\" class=\"data row14 col0\" >Pollution</td>\n",
       "      <td id=\"T_8cc1f_row14_col1\" class=\"data row14 col1\" >no2_2017</td>\n",
       "      <td id=\"T_8cc1f_row14_col2\" class=\"data row14 col2\" >Annual average nitrogen dioxide (NO2) for year 2017</td>\n",
       "      <td id=\"T_8cc1f_row14_col3\" class=\"data row14 col3\" >City St George's, University of London</td>\n",
       "      <td id=\"T_8cc1f_row14_col4\" class=\"data row14 col4\" >2017</td>\n",
       "    </tr>\n",
       "    <tr>\n",
       "      <td id=\"T_8cc1f_row15_col0\" class=\"data row15 col0\" >Pollution</td>\n",
       "      <td id=\"T_8cc1f_row15_col1\" class=\"data row15 col1\" >no2_2018</td>\n",
       "      <td id=\"T_8cc1f_row15_col2\" class=\"data row15 col2\" >Annual average nitrogen dioxide (NO2) for year 2018</td>\n",
       "      <td id=\"T_8cc1f_row15_col3\" class=\"data row15 col3\" >City St George's, University of London</td>\n",
       "      <td id=\"T_8cc1f_row15_col4\" class=\"data row15 col4\" >2018</td>\n",
       "    </tr>\n",
       "    <tr>\n",
       "      <td id=\"T_8cc1f_row16_col0\" class=\"data row16 col0\" >Pollution</td>\n",
       "      <td id=\"T_8cc1f_row16_col1\" class=\"data row16 col1\" >no2_2019</td>\n",
       "      <td id=\"T_8cc1f_row16_col2\" class=\"data row16 col2\" >Annual average nitrogen dioxide (NO2) for year 2019</td>\n",
       "      <td id=\"T_8cc1f_row16_col3\" class=\"data row16 col3\" >City St George's, University of London</td>\n",
       "      <td id=\"T_8cc1f_row16_col4\" class=\"data row16 col4\" >2019</td>\n",
       "    </tr>\n",
       "    <tr>\n",
       "      <td id=\"T_8cc1f_row17_col0\" class=\"data row17 col0\" >Pollution</td>\n",
       "      <td id=\"T_8cc1f_row17_col1\" class=\"data row17 col1\" >pm_2010</td>\n",
       "      <td id=\"T_8cc1f_row17_col2\" class=\"data row17 col2\" >Annual average fine particulate matter (PM2.5) for year 2010</td>\n",
       "      <td id=\"T_8cc1f_row17_col3\" class=\"data row17 col3\" >City St George's, University of London</td>\n",
       "      <td id=\"T_8cc1f_row17_col4\" class=\"data row17 col4\" >2010</td>\n",
       "    </tr>\n",
       "    <tr>\n",
       "      <td id=\"T_8cc1f_row18_col0\" class=\"data row18 col0\" >Pollution</td>\n",
       "      <td id=\"T_8cc1f_row18_col1\" class=\"data row18 col1\" >pm_2011</td>\n",
       "      <td id=\"T_8cc1f_row18_col2\" class=\"data row18 col2\" >Annual average fine particulate matter (PM2.5) for year 2011</td>\n",
       "      <td id=\"T_8cc1f_row18_col3\" class=\"data row18 col3\" >City St George's, University of London</td>\n",
       "      <td id=\"T_8cc1f_row18_col4\" class=\"data row18 col4\" >2011</td>\n",
       "    </tr>\n",
       "    <tr>\n",
       "      <td id=\"T_8cc1f_row19_col0\" class=\"data row19 col0\" >Pollution</td>\n",
       "      <td id=\"T_8cc1f_row19_col1\" class=\"data row19 col1\" >pm_2012</td>\n",
       "      <td id=\"T_8cc1f_row19_col2\" class=\"data row19 col2\" >Annual average fine particulate matter (PM2.5) for year 2012</td>\n",
       "      <td id=\"T_8cc1f_row19_col3\" class=\"data row19 col3\" >City St George's, University of London</td>\n",
       "      <td id=\"T_8cc1f_row19_col4\" class=\"data row19 col4\" >2012</td>\n",
       "    </tr>\n",
       "    <tr>\n",
       "      <td id=\"T_8cc1f_row20_col0\" class=\"data row20 col0\" >Pollution</td>\n",
       "      <td id=\"T_8cc1f_row20_col1\" class=\"data row20 col1\" >pm_2013</td>\n",
       "      <td id=\"T_8cc1f_row20_col2\" class=\"data row20 col2\" >Annual average fine particulate matter (PM2.5) for year 2013</td>\n",
       "      <td id=\"T_8cc1f_row20_col3\" class=\"data row20 col3\" >City St George's, University of London</td>\n",
       "      <td id=\"T_8cc1f_row20_col4\" class=\"data row20 col4\" >2013</td>\n",
       "    </tr>\n",
       "    <tr>\n",
       "      <td id=\"T_8cc1f_row21_col0\" class=\"data row21 col0\" >Pollution</td>\n",
       "      <td id=\"T_8cc1f_row21_col1\" class=\"data row21 col1\" >pm_2014</td>\n",
       "      <td id=\"T_8cc1f_row21_col2\" class=\"data row21 col2\" >Annual average fine particulate matter (PM2.5) for year 2014</td>\n",
       "      <td id=\"T_8cc1f_row21_col3\" class=\"data row21 col3\" >City St George's, University of London</td>\n",
       "      <td id=\"T_8cc1f_row21_col4\" class=\"data row21 col4\" >2014</td>\n",
       "    </tr>\n",
       "    <tr>\n",
       "      <td id=\"T_8cc1f_row22_col0\" class=\"data row22 col0\" >Pollution</td>\n",
       "      <td id=\"T_8cc1f_row22_col1\" class=\"data row22 col1\" >pm_2015</td>\n",
       "      <td id=\"T_8cc1f_row22_col2\" class=\"data row22 col2\" >Annual average fine particulate matter (PM2.5) for year 2015</td>\n",
       "      <td id=\"T_8cc1f_row22_col3\" class=\"data row22 col3\" >City St George's, University of London</td>\n",
       "      <td id=\"T_8cc1f_row22_col4\" class=\"data row22 col4\" >2015</td>\n",
       "    </tr>\n",
       "    <tr>\n",
       "      <td id=\"T_8cc1f_row23_col0\" class=\"data row23 col0\" >Pollution</td>\n",
       "      <td id=\"T_8cc1f_row23_col1\" class=\"data row23 col1\" >pm_2016</td>\n",
       "      <td id=\"T_8cc1f_row23_col2\" class=\"data row23 col2\" >Annual average fine particulate matter (PM2.5) for year 2016</td>\n",
       "      <td id=\"T_8cc1f_row23_col3\" class=\"data row23 col3\" >City St George's, University of London</td>\n",
       "      <td id=\"T_8cc1f_row23_col4\" class=\"data row23 col4\" >2016</td>\n",
       "    </tr>\n",
       "    <tr>\n",
       "      <td id=\"T_8cc1f_row24_col0\" class=\"data row24 col0\" >Pollution</td>\n",
       "      <td id=\"T_8cc1f_row24_col1\" class=\"data row24 col1\" >pm_2017</td>\n",
       "      <td id=\"T_8cc1f_row24_col2\" class=\"data row24 col2\" >Annual average fine particulate matter (PM2.5) for year 2017</td>\n",
       "      <td id=\"T_8cc1f_row24_col3\" class=\"data row24 col3\" >City St George's, University of London</td>\n",
       "      <td id=\"T_8cc1f_row24_col4\" class=\"data row24 col4\" >2017</td>\n",
       "    </tr>\n",
       "    <tr>\n",
       "      <td id=\"T_8cc1f_row25_col0\" class=\"data row25 col0\" >Pollution</td>\n",
       "      <td id=\"T_8cc1f_row25_col1\" class=\"data row25 col1\" >pm_2018</td>\n",
       "      <td id=\"T_8cc1f_row25_col2\" class=\"data row25 col2\" >Annual average fine particulate matter (PM2.5) for year 2018</td>\n",
       "      <td id=\"T_8cc1f_row25_col3\" class=\"data row25 col3\" >City St George's, University of London</td>\n",
       "      <td id=\"T_8cc1f_row25_col4\" class=\"data row25 col4\" >2018</td>\n",
       "    </tr>\n",
       "    <tr>\n",
       "      <td id=\"T_8cc1f_row26_col0\" class=\"data row26 col0\" >Pollution</td>\n",
       "      <td id=\"T_8cc1f_row26_col1\" class=\"data row26 col1\" >pm_2019</td>\n",
       "      <td id=\"T_8cc1f_row26_col2\" class=\"data row26 col2\" >Annual average fine particulate matter (PM2.5) for year 2019</td>\n",
       "      <td id=\"T_8cc1f_row26_col3\" class=\"data row26 col3\" >City St George's, University of London</td>\n",
       "      <td id=\"T_8cc1f_row26_col4\" class=\"data row26 col4\" >2019</td>\n",
       "    </tr>\n",
       "    <tr>\n",
       "      <td id=\"T_8cc1f_row27_col0\" class=\"data row27 col0\" >Geography</td>\n",
       "      <td id=\"T_8cc1f_row27_col1\" class=\"data row27 col1\" >postcode_e</td>\n",
       "      <td id=\"T_8cc1f_row27_col2\" class=\"data row27 col2\" >Postcode encrypted</td>\n",
       "      <td id=\"T_8cc1f_row27_col3\" class=\"data row27 col3\" >LPS</td>\n",
       "      <td id=\"T_8cc1f_row27_col4\" class=\"data row27 col4\" >None</td>\n",
       "    </tr>\n",
       "    <tr>\n",
       "      <td id=\"T_8cc1f_row28_col0\" class=\"data row28 col0\" >Geography</td>\n",
       "      <td id=\"T_8cc1f_row28_col1\" class=\"data row28 col1\" >region</td>\n",
       "      <td id=\"T_8cc1f_row28_col2\" class=\"data row28 col2\" >UK Region </td>\n",
       "      <td id=\"T_8cc1f_row28_col3\" class=\"data row28 col3\" >Office of National Statistics</td>\n",
       "      <td id=\"T_8cc1f_row28_col4\" class=\"data row28 col4\" >2011</td>\n",
       "    </tr>\n",
       "    <tr>\n",
       "      <td id=\"T_8cc1f_row29_col0\" class=\"data row29 col0\" >Geography</td>\n",
       "      <td id=\"T_8cc1f_row29_col1\" class=\"data row29 col1\" >uprn_e</td>\n",
       "      <td id=\"T_8cc1f_row29_col2\" class=\"data row29 col2\" >Unique Property Reference Number (UPRN) encrypted</td>\n",
       "      <td id=\"T_8cc1f_row29_col3\" class=\"data row29 col3\" >University of Leicester</td>\n",
       "      <td id=\"T_8cc1f_row29_col4\" class=\"data row29 col4\" >None</td>\n",
       "    </tr>\n",
       "  </tbody>\n",
       "</table>\n"
      ],
      "text/plain": [
       "<pandas.io.formats.style.Styler at 0x1aa7236ead0>"
      ]
     },
     "execution_count": 17,
     "metadata": {},
     "output_type": "execute_result"
    }
   ],
   "source": [
    "DS(\"air_pollution_no2_pm25_scotland_hh\").variable_table()"
   ]
  },
  {
   "cell_type": "code",
   "execution_count": 18,
   "id": "a9f37dce",
   "metadata": {
    "tags": [
     "remove-input"
    ]
   },
   "outputs": [
    {
     "data": {
      "text/markdown": [
       "### air_pollution_no2_pm25_scotland_pc"
      ],
      "text/plain": [
       "<IPython.core.display.Markdown object>"
      ]
     },
     "metadata": {},
     "output_type": "display_data"
    }
   ],
   "source": [
    "display(Markdown('### air_pollution_no2_pm25_scotland_pc'))"
   ]
  },
  {
   "cell_type": "code",
   "execution_count": 19,
   "id": "7c61f3f6",
   "metadata": {
    "tags": [
     "remove-input",
     "hide-cell"
    ]
   },
   "outputs": [
    {
     "data": {
      "text/html": [
       "<style type=\"text/css\">\n",
       "#T_2babd th {\n",
       "  text-align: left;\n",
       "}\n",
       "#T_2babd_row0_col0, #T_2babd_row0_col1, #T_2babd_row0_col2, #T_2babd_row0_col3, #T_2babd_row0_col4, #T_2babd_row1_col0, #T_2babd_row1_col1, #T_2babd_row1_col2, #T_2babd_row1_col3, #T_2babd_row1_col4, #T_2babd_row2_col0, #T_2babd_row2_col1, #T_2babd_row2_col2, #T_2babd_row2_col3, #T_2babd_row2_col4, #T_2babd_row3_col0, #T_2babd_row3_col1, #T_2babd_row3_col2, #T_2babd_row3_col3, #T_2babd_row3_col4, #T_2babd_row4_col0, #T_2babd_row4_col1, #T_2babd_row4_col2, #T_2babd_row4_col3, #T_2babd_row4_col4, #T_2babd_row5_col0, #T_2babd_row5_col1, #T_2babd_row5_col2, #T_2babd_row5_col3, #T_2babd_row5_col4, #T_2babd_row6_col0, #T_2babd_row6_col1, #T_2babd_row6_col2, #T_2babd_row6_col3, #T_2babd_row6_col4, #T_2babd_row7_col0, #T_2babd_row7_col1, #T_2babd_row7_col2, #T_2babd_row7_col3, #T_2babd_row7_col4, #T_2babd_row8_col0, #T_2babd_row8_col1, #T_2babd_row8_col2, #T_2babd_row8_col3, #T_2babd_row8_col4, #T_2babd_row9_col0, #T_2babd_row9_col1, #T_2babd_row9_col2, #T_2babd_row9_col3, #T_2babd_row9_col4, #T_2babd_row10_col0, #T_2babd_row10_col1, #T_2babd_row10_col2, #T_2babd_row10_col3, #T_2babd_row10_col4, #T_2babd_row11_col0, #T_2babd_row11_col1, #T_2babd_row11_col2, #T_2babd_row11_col3, #T_2babd_row11_col4, #T_2babd_row12_col0, #T_2babd_row12_col1, #T_2babd_row12_col2, #T_2babd_row12_col3, #T_2babd_row12_col4, #T_2babd_row13_col0, #T_2babd_row13_col1, #T_2babd_row13_col2, #T_2babd_row13_col3, #T_2babd_row13_col4, #T_2babd_row14_col0, #T_2babd_row14_col1, #T_2babd_row14_col2, #T_2babd_row14_col3, #T_2babd_row14_col4, #T_2babd_row15_col0, #T_2babd_row15_col1, #T_2babd_row15_col2, #T_2babd_row15_col3, #T_2babd_row15_col4, #T_2babd_row16_col0, #T_2babd_row16_col1, #T_2babd_row16_col2, #T_2babd_row16_col3, #T_2babd_row16_col4, #T_2babd_row17_col0, #T_2babd_row17_col1, #T_2babd_row17_col2, #T_2babd_row17_col3, #T_2babd_row17_col4, #T_2babd_row18_col0, #T_2babd_row18_col1, #T_2babd_row18_col2, #T_2babd_row18_col3, #T_2babd_row18_col4, #T_2babd_row19_col0, #T_2babd_row19_col1, #T_2babd_row19_col2, #T_2babd_row19_col3, #T_2babd_row19_col4, #T_2babd_row20_col0, #T_2babd_row20_col1, #T_2babd_row20_col2, #T_2babd_row20_col3, #T_2babd_row20_col4, #T_2babd_row21_col0, #T_2babd_row21_col1, #T_2babd_row21_col2, #T_2babd_row21_col3, #T_2babd_row21_col4, #T_2babd_row22_col0, #T_2babd_row22_col1, #T_2babd_row22_col2, #T_2babd_row22_col3, #T_2babd_row22_col4, #T_2babd_row23_col0, #T_2babd_row23_col1, #T_2babd_row23_col2, #T_2babd_row23_col3, #T_2babd_row23_col4, #T_2babd_row24_col0, #T_2babd_row24_col1, #T_2babd_row24_col2, #T_2babd_row24_col3, #T_2babd_row24_col4, #T_2babd_row25_col0, #T_2babd_row25_col1, #T_2babd_row25_col2, #T_2babd_row25_col3, #T_2babd_row25_col4, #T_2babd_row26_col0, #T_2babd_row26_col1, #T_2babd_row26_col2, #T_2babd_row26_col3, #T_2babd_row26_col4, #T_2babd_row27_col0, #T_2babd_row27_col1, #T_2babd_row27_col2, #T_2babd_row27_col3, #T_2babd_row27_col4, #T_2babd_row28_col0, #T_2babd_row28_col1, #T_2babd_row28_col2, #T_2babd_row28_col3, #T_2babd_row28_col4, #T_2babd_row29_col0, #T_2babd_row29_col1, #T_2babd_row29_col2, #T_2babd_row29_col3, #T_2babd_row29_col4 {\n",
       "  text-align: left;\n",
       "}\n",
       "</style>\n",
       "<table id=\"T_2babd\" style=\"font-size: 14px\">\n",
       "  <thead>\n",
       "    <tr>\n",
       "      <th id=\"T_2babd_level0_col0\" class=\"col_heading level0 col0\" >Variable Group</th>\n",
       "      <th id=\"T_2babd_level0_col1\" class=\"col_heading level0 col1\" >Variable</th>\n",
       "      <th id=\"T_2babd_level0_col2\" class=\"col_heading level0 col2\" >Description</th>\n",
       "      <th id=\"T_2babd_level0_col3\" class=\"col_heading level0 col3\" >Source</th>\n",
       "      <th id=\"T_2babd_level0_col4\" class=\"col_heading level0 col4\" >Date range of data</th>\n",
       "    </tr>\n",
       "  </thead>\n",
       "  <tbody>\n",
       "    <tr>\n",
       "      <td id=\"T_2babd_row0_col0\" class=\"data row0 col0\" >Geography</td>\n",
       "      <td id=\"T_2babd_row0_col1\" class=\"data row0 col1\" >address_start_date</td>\n",
       "      <td id=\"T_2babd_row0_col2\" class=\"data row0 col2\" >Address start date</td>\n",
       "      <td id=\"T_2babd_row0_col3\" class=\"data row0 col3\" >LPS</td>\n",
       "      <td id=\"T_2babd_row0_col4\" class=\"data row0 col4\" >None</td>\n",
       "    </tr>\n",
       "    <tr>\n",
       "      <td id=\"T_2babd_row1_col0\" class=\"data row1 col0\" >Geography</td>\n",
       "      <td id=\"T_2babd_row1_col1\" class=\"data row1 col1\" >address_end_date</td>\n",
       "      <td id=\"T_2babd_row1_col2\" class=\"data row1 col2\" >Address end date</td>\n",
       "      <td id=\"T_2babd_row1_col3\" class=\"data row1 col3\" >LPS</td>\n",
       "      <td id=\"T_2babd_row1_col4\" class=\"data row1 col4\" >None</td>\n",
       "    </tr>\n",
       "    <tr>\n",
       "      <td id=\"T_2babd_row2_col0\" class=\"data row2 col0\" >UK LLC </td>\n",
       "      <td id=\"T_2babd_row2_col1\" class=\"data row2 col1\" >avail_from_dt</td>\n",
       "      <td id=\"T_2babd_row2_col2\" class=\"data row2 col2\" >None</td>\n",
       "      <td id=\"T_2babd_row2_col3\" class=\"data row2 col3\" >UK LLC</td>\n",
       "      <td id=\"T_2babd_row2_col4\" class=\"data row2 col4\" >None</td>\n",
       "    </tr>\n",
       "    <tr>\n",
       "      <td id=\"T_2babd_row3_col0\" class=\"data row3 col0\" >Identifier</td>\n",
       "      <td id=\"T_2babd_row3_col1\" class=\"data row3 col1\" >cohortkey_e</td>\n",
       "      <td id=\"T_2babd_row3_col2\" class=\"data row3 col2\" >individual level id</td>\n",
       "      <td id=\"T_2babd_row3_col3\" class=\"data row3 col3\" >LPS</td>\n",
       "      <td id=\"T_2babd_row3_col4\" class=\"data row3 col4\" >None</td>\n",
       "    </tr>\n",
       "    <tr>\n",
       "      <td id=\"T_2babd_row4_col0\" class=\"data row4 col0\" >Geography</td>\n",
       "      <td id=\"T_2babd_row4_col1\" class=\"data row4 col1\" >lsoa11_e</td>\n",
       "      <td id=\"T_2babd_row4_col2\" class=\"data row4 col2\" >Lower layer super output area (LSOA) encrypted</td>\n",
       "      <td id=\"T_2babd_row4_col3\" class=\"data row4 col3\" >Office of National Statistics</td>\n",
       "      <td id=\"T_2babd_row4_col4\" class=\"data row4 col4\" >2011</td>\n",
       "    </tr>\n",
       "    <tr>\n",
       "      <td id=\"T_2babd_row5_col0\" class=\"data row5 col0\" >Geography</td>\n",
       "      <td id=\"T_2babd_row5_col1\" class=\"data row5 col1\" >matchcode</td>\n",
       "      <td id=\"T_2babd_row5_col2\" class=\"data row5 col2\" >Experian match code indicator</td>\n",
       "      <td id=\"T_2babd_row5_col3\" class=\"data row5 col3\" >University of Leicester</td>\n",
       "      <td id=\"T_2babd_row5_col4\" class=\"data row5 col4\" >None</td>\n",
       "    </tr>\n",
       "    <tr>\n",
       "      <td id=\"T_2babd_row6_col0\" class=\"data row6 col0\" >Geography</td>\n",
       "      <td id=\"T_2babd_row6_col1\" class=\"data row6 col1\" >msoa11_e</td>\n",
       "      <td id=\"T_2babd_row6_col2\" class=\"data row6 col2\" >Middle super output area (LSOA) encrypted</td>\n",
       "      <td id=\"T_2babd_row6_col3\" class=\"data row6 col3\" >Office of National Statistics</td>\n",
       "      <td id=\"T_2babd_row6_col4\" class=\"data row6 col4\" >2011</td>\n",
       "    </tr>\n",
       "    <tr>\n",
       "      <td id=\"T_2babd_row7_col0\" class=\"data row7 col0\" >Pollution</td>\n",
       "      <td id=\"T_2babd_row7_col1\" class=\"data row7 col1\" >no2_2010</td>\n",
       "      <td id=\"T_2babd_row7_col2\" class=\"data row7 col2\" >Annual average nitrogen dioxide (NO2) for year 2010</td>\n",
       "      <td id=\"T_2babd_row7_col3\" class=\"data row7 col3\" >City St George's, University of London</td>\n",
       "      <td id=\"T_2babd_row7_col4\" class=\"data row7 col4\" >2010</td>\n",
       "    </tr>\n",
       "    <tr>\n",
       "      <td id=\"T_2babd_row8_col0\" class=\"data row8 col0\" >Pollution</td>\n",
       "      <td id=\"T_2babd_row8_col1\" class=\"data row8 col1\" >no2_2011</td>\n",
       "      <td id=\"T_2babd_row8_col2\" class=\"data row8 col2\" >Annual average nitrogen dioxide (NO2) for year 2011</td>\n",
       "      <td id=\"T_2babd_row8_col3\" class=\"data row8 col3\" >City St George's, University of London</td>\n",
       "      <td id=\"T_2babd_row8_col4\" class=\"data row8 col4\" >2011</td>\n",
       "    </tr>\n",
       "    <tr>\n",
       "      <td id=\"T_2babd_row9_col0\" class=\"data row9 col0\" >Pollution</td>\n",
       "      <td id=\"T_2babd_row9_col1\" class=\"data row9 col1\" >no2_2012</td>\n",
       "      <td id=\"T_2babd_row9_col2\" class=\"data row9 col2\" >Annual average nitrogen dioxide (NO2) for year 2012</td>\n",
       "      <td id=\"T_2babd_row9_col3\" class=\"data row9 col3\" >City St George's, University of London</td>\n",
       "      <td id=\"T_2babd_row9_col4\" class=\"data row9 col4\" >2012</td>\n",
       "    </tr>\n",
       "    <tr>\n",
       "      <td id=\"T_2babd_row10_col0\" class=\"data row10 col0\" >Pollution</td>\n",
       "      <td id=\"T_2babd_row10_col1\" class=\"data row10 col1\" >no2_2013</td>\n",
       "      <td id=\"T_2babd_row10_col2\" class=\"data row10 col2\" >Annual average nitrogen dioxide (NO2) for year 2013</td>\n",
       "      <td id=\"T_2babd_row10_col3\" class=\"data row10 col3\" >City St George's, University of London</td>\n",
       "      <td id=\"T_2babd_row10_col4\" class=\"data row10 col4\" >2013</td>\n",
       "    </tr>\n",
       "    <tr>\n",
       "      <td id=\"T_2babd_row11_col0\" class=\"data row11 col0\" >Pollution</td>\n",
       "      <td id=\"T_2babd_row11_col1\" class=\"data row11 col1\" >no2_2014</td>\n",
       "      <td id=\"T_2babd_row11_col2\" class=\"data row11 col2\" >Annual average nitrogen dioxide (NO2) for year 2014</td>\n",
       "      <td id=\"T_2babd_row11_col3\" class=\"data row11 col3\" >City St George's, University of London</td>\n",
       "      <td id=\"T_2babd_row11_col4\" class=\"data row11 col4\" >2014</td>\n",
       "    </tr>\n",
       "    <tr>\n",
       "      <td id=\"T_2babd_row12_col0\" class=\"data row12 col0\" >Pollution</td>\n",
       "      <td id=\"T_2babd_row12_col1\" class=\"data row12 col1\" >no2_2015</td>\n",
       "      <td id=\"T_2babd_row12_col2\" class=\"data row12 col2\" >Annual average nitrogen dioxide (NO2) for year 2015</td>\n",
       "      <td id=\"T_2babd_row12_col3\" class=\"data row12 col3\" >City St George's, University of London</td>\n",
       "      <td id=\"T_2babd_row12_col4\" class=\"data row12 col4\" >2015</td>\n",
       "    </tr>\n",
       "    <tr>\n",
       "      <td id=\"T_2babd_row13_col0\" class=\"data row13 col0\" >Pollution</td>\n",
       "      <td id=\"T_2babd_row13_col1\" class=\"data row13 col1\" >no2_2016</td>\n",
       "      <td id=\"T_2babd_row13_col2\" class=\"data row13 col2\" >Annual average nitrogen dioxide (NO2) for year 2016</td>\n",
       "      <td id=\"T_2babd_row13_col3\" class=\"data row13 col3\" >City St George's, University of London</td>\n",
       "      <td id=\"T_2babd_row13_col4\" class=\"data row13 col4\" >2016</td>\n",
       "    </tr>\n",
       "    <tr>\n",
       "      <td id=\"T_2babd_row14_col0\" class=\"data row14 col0\" >Pollution</td>\n",
       "      <td id=\"T_2babd_row14_col1\" class=\"data row14 col1\" >no2_2017</td>\n",
       "      <td id=\"T_2babd_row14_col2\" class=\"data row14 col2\" >Annual average nitrogen dioxide (NO2) for year 2017</td>\n",
       "      <td id=\"T_2babd_row14_col3\" class=\"data row14 col3\" >City St George's, University of London</td>\n",
       "      <td id=\"T_2babd_row14_col4\" class=\"data row14 col4\" >2017</td>\n",
       "    </tr>\n",
       "    <tr>\n",
       "      <td id=\"T_2babd_row15_col0\" class=\"data row15 col0\" >Pollution</td>\n",
       "      <td id=\"T_2babd_row15_col1\" class=\"data row15 col1\" >no2_2018</td>\n",
       "      <td id=\"T_2babd_row15_col2\" class=\"data row15 col2\" >Annual average nitrogen dioxide (NO2) for year 2018</td>\n",
       "      <td id=\"T_2babd_row15_col3\" class=\"data row15 col3\" >City St George's, University of London</td>\n",
       "      <td id=\"T_2babd_row15_col4\" class=\"data row15 col4\" >2018</td>\n",
       "    </tr>\n",
       "    <tr>\n",
       "      <td id=\"T_2babd_row16_col0\" class=\"data row16 col0\" >Pollution</td>\n",
       "      <td id=\"T_2babd_row16_col1\" class=\"data row16 col1\" >no2_2019</td>\n",
       "      <td id=\"T_2babd_row16_col2\" class=\"data row16 col2\" >Annual average nitrogen dioxide (NO2) for year 2019</td>\n",
       "      <td id=\"T_2babd_row16_col3\" class=\"data row16 col3\" >City St George's, University of London</td>\n",
       "      <td id=\"T_2babd_row16_col4\" class=\"data row16 col4\" >2019</td>\n",
       "    </tr>\n",
       "    <tr>\n",
       "      <td id=\"T_2babd_row17_col0\" class=\"data row17 col0\" >Pollution</td>\n",
       "      <td id=\"T_2babd_row17_col1\" class=\"data row17 col1\" >pm_2010</td>\n",
       "      <td id=\"T_2babd_row17_col2\" class=\"data row17 col2\" >Annual average fine particulate matter (PM2.5) for year 2010</td>\n",
       "      <td id=\"T_2babd_row17_col3\" class=\"data row17 col3\" >City St George's, University of London</td>\n",
       "      <td id=\"T_2babd_row17_col4\" class=\"data row17 col4\" >2010</td>\n",
       "    </tr>\n",
       "    <tr>\n",
       "      <td id=\"T_2babd_row18_col0\" class=\"data row18 col0\" >Pollution</td>\n",
       "      <td id=\"T_2babd_row18_col1\" class=\"data row18 col1\" >pm_2011</td>\n",
       "      <td id=\"T_2babd_row18_col2\" class=\"data row18 col2\" >Annual average fine particulate matter (PM2.5) for year 2011</td>\n",
       "      <td id=\"T_2babd_row18_col3\" class=\"data row18 col3\" >City St George's, University of London</td>\n",
       "      <td id=\"T_2babd_row18_col4\" class=\"data row18 col4\" >2011</td>\n",
       "    </tr>\n",
       "    <tr>\n",
       "      <td id=\"T_2babd_row19_col0\" class=\"data row19 col0\" >Pollution</td>\n",
       "      <td id=\"T_2babd_row19_col1\" class=\"data row19 col1\" >pm_2012</td>\n",
       "      <td id=\"T_2babd_row19_col2\" class=\"data row19 col2\" >Annual average fine particulate matter (PM2.5) for year 2012</td>\n",
       "      <td id=\"T_2babd_row19_col3\" class=\"data row19 col3\" >City St George's, University of London</td>\n",
       "      <td id=\"T_2babd_row19_col4\" class=\"data row19 col4\" >2012</td>\n",
       "    </tr>\n",
       "    <tr>\n",
       "      <td id=\"T_2babd_row20_col0\" class=\"data row20 col0\" >Pollution</td>\n",
       "      <td id=\"T_2babd_row20_col1\" class=\"data row20 col1\" >pm_2013</td>\n",
       "      <td id=\"T_2babd_row20_col2\" class=\"data row20 col2\" >Annual average fine particulate matter (PM2.5) for year 2013</td>\n",
       "      <td id=\"T_2babd_row20_col3\" class=\"data row20 col3\" >City St George's, University of London</td>\n",
       "      <td id=\"T_2babd_row20_col4\" class=\"data row20 col4\" >2013</td>\n",
       "    </tr>\n",
       "    <tr>\n",
       "      <td id=\"T_2babd_row21_col0\" class=\"data row21 col0\" >Pollution</td>\n",
       "      <td id=\"T_2babd_row21_col1\" class=\"data row21 col1\" >pm_2014</td>\n",
       "      <td id=\"T_2babd_row21_col2\" class=\"data row21 col2\" >Annual average fine particulate matter (PM2.5) for year 2014</td>\n",
       "      <td id=\"T_2babd_row21_col3\" class=\"data row21 col3\" >City St George's, University of London</td>\n",
       "      <td id=\"T_2babd_row21_col4\" class=\"data row21 col4\" >2014</td>\n",
       "    </tr>\n",
       "    <tr>\n",
       "      <td id=\"T_2babd_row22_col0\" class=\"data row22 col0\" >Pollution</td>\n",
       "      <td id=\"T_2babd_row22_col1\" class=\"data row22 col1\" >pm_2015</td>\n",
       "      <td id=\"T_2babd_row22_col2\" class=\"data row22 col2\" >Annual average fine particulate matter (PM2.5) for year 2015</td>\n",
       "      <td id=\"T_2babd_row22_col3\" class=\"data row22 col3\" >City St George's, University of London</td>\n",
       "      <td id=\"T_2babd_row22_col4\" class=\"data row22 col4\" >2015</td>\n",
       "    </tr>\n",
       "    <tr>\n",
       "      <td id=\"T_2babd_row23_col0\" class=\"data row23 col0\" >Pollution</td>\n",
       "      <td id=\"T_2babd_row23_col1\" class=\"data row23 col1\" >pm_2016</td>\n",
       "      <td id=\"T_2babd_row23_col2\" class=\"data row23 col2\" >Annual average fine particulate matter (PM2.5) for year 2016</td>\n",
       "      <td id=\"T_2babd_row23_col3\" class=\"data row23 col3\" >City St George's, University of London</td>\n",
       "      <td id=\"T_2babd_row23_col4\" class=\"data row23 col4\" >2016</td>\n",
       "    </tr>\n",
       "    <tr>\n",
       "      <td id=\"T_2babd_row24_col0\" class=\"data row24 col0\" >Pollution</td>\n",
       "      <td id=\"T_2babd_row24_col1\" class=\"data row24 col1\" >pm_2017</td>\n",
       "      <td id=\"T_2babd_row24_col2\" class=\"data row24 col2\" >Annual average fine particulate matter (PM2.5) for year 2017</td>\n",
       "      <td id=\"T_2babd_row24_col3\" class=\"data row24 col3\" >City St George's, University of London</td>\n",
       "      <td id=\"T_2babd_row24_col4\" class=\"data row24 col4\" >2017</td>\n",
       "    </tr>\n",
       "    <tr>\n",
       "      <td id=\"T_2babd_row25_col0\" class=\"data row25 col0\" >Pollution</td>\n",
       "      <td id=\"T_2babd_row25_col1\" class=\"data row25 col1\" >pm_2018</td>\n",
       "      <td id=\"T_2babd_row25_col2\" class=\"data row25 col2\" >Annual average fine particulate matter (PM2.5) for year 2018</td>\n",
       "      <td id=\"T_2babd_row25_col3\" class=\"data row25 col3\" >City St George's, University of London</td>\n",
       "      <td id=\"T_2babd_row25_col4\" class=\"data row25 col4\" >2018</td>\n",
       "    </tr>\n",
       "    <tr>\n",
       "      <td id=\"T_2babd_row26_col0\" class=\"data row26 col0\" >Pollution</td>\n",
       "      <td id=\"T_2babd_row26_col1\" class=\"data row26 col1\" >pm_2019</td>\n",
       "      <td id=\"T_2babd_row26_col2\" class=\"data row26 col2\" >Annual average fine particulate matter (PM2.5) for year 2019</td>\n",
       "      <td id=\"T_2babd_row26_col3\" class=\"data row26 col3\" >City St George's, University of London</td>\n",
       "      <td id=\"T_2babd_row26_col4\" class=\"data row26 col4\" >2019</td>\n",
       "    </tr>\n",
       "    <tr>\n",
       "      <td id=\"T_2babd_row27_col0\" class=\"data row27 col0\" >Geography</td>\n",
       "      <td id=\"T_2babd_row27_col1\" class=\"data row27 col1\" >postcode_e</td>\n",
       "      <td id=\"T_2babd_row27_col2\" class=\"data row27 col2\" >Postcode encrypted</td>\n",
       "      <td id=\"T_2babd_row27_col3\" class=\"data row27 col3\" >LPS</td>\n",
       "      <td id=\"T_2babd_row27_col4\" class=\"data row27 col4\" >None</td>\n",
       "    </tr>\n",
       "    <tr>\n",
       "      <td id=\"T_2babd_row28_col0\" class=\"data row28 col0\" >Geography</td>\n",
       "      <td id=\"T_2babd_row28_col1\" class=\"data row28 col1\" >region</td>\n",
       "      <td id=\"T_2babd_row28_col2\" class=\"data row28 col2\" >UK Region </td>\n",
       "      <td id=\"T_2babd_row28_col3\" class=\"data row28 col3\" >Office of National Statistics</td>\n",
       "      <td id=\"T_2babd_row28_col4\" class=\"data row28 col4\" >2011</td>\n",
       "    </tr>\n",
       "    <tr>\n",
       "      <td id=\"T_2babd_row29_col0\" class=\"data row29 col0\" >Geography</td>\n",
       "      <td id=\"T_2babd_row29_col1\" class=\"data row29 col1\" >uprn_e</td>\n",
       "      <td id=\"T_2babd_row29_col2\" class=\"data row29 col2\" >Unique Property Reference Number (UPRN) encrypted</td>\n",
       "      <td id=\"T_2babd_row29_col3\" class=\"data row29 col3\" >University of Leicester</td>\n",
       "      <td id=\"T_2babd_row29_col4\" class=\"data row29 col4\" >None</td>\n",
       "    </tr>\n",
       "  </tbody>\n",
       "</table>\n"
      ],
      "text/plain": [
       "<pandas.io.formats.style.Styler at 0x1aa7236ee90>"
      ]
     },
     "execution_count": 19,
     "metadata": {},
     "output_type": "execute_result"
    }
   ],
   "source": [
    "DS(\"air_pollution_no2_pm25_scotland_pc\").variable_table()"
   ]
  },
  {
   "cell_type": "markdown",
   "id": "4705ea18",
   "metadata": {},
   "source": [
    "## 3. Metrics"
   ]
  },
  {
   "cell_type": "code",
   "execution_count": 20,
   "id": "66756281",
   "metadata": {
    "tags": [
     "remove-input"
    ]
   },
   "outputs": [
    {
     "data": {
      "text/markdown": [
       "TBC"
      ],
      "text/plain": [
       "<IPython.core.display.Markdown object>"
      ]
     },
     "metadata": {},
     "output_type": "display_data"
    }
   ],
   "source": [
    "display(Markdown('TBC'))"
   ]
  },
  {
   "cell_type": "markdown",
   "id": "992091a7",
   "metadata": {},
   "source": [
    "## 4. Version History"
   ]
  },
  {
   "cell_type": "code",
   "execution_count": 21,
   "id": "69571d0d",
   "metadata": {
    "tags": [
     "remove-input"
    ]
   },
   "outputs": [
    {
     "data": {
      "text/markdown": [
       "TBC"
      ],
      "text/plain": [
       "<IPython.core.display.Markdown object>"
      ]
     },
     "metadata": {},
     "output_type": "display_data"
    }
   ],
   "source": [
    "display(Markdown('TBC'))"
   ]
  },
  {
   "cell_type": "markdown",
   "id": "0acfb062",
   "metadata": {},
   "source": [
    "## 5. Documentation"
   ]
  },
  {
   "cell_type": "code",
   "execution_count": 22,
   "id": "b5a900e4",
   "metadata": {
    "tags": [
     "remove-input"
    ]
   },
   "outputs": [
    {
     "data": {
      "text/markdown": [
       "We are currently building a documentation storage system which will host useful documents related to datasets and data owners. We will surface these documents on Guidebook."
      ],
      "text/plain": [
       "<IPython.core.display.Markdown object>"
      ]
     },
     "metadata": {},
     "output_type": "display_data"
    }
   ],
   "source": [
    "DS(\"air_pollution_no2_pm25_england_wales_hh\").documentation()"
   ]
  },
  {
   "cell_type": "markdown",
   "id": "1cf8b659",
   "metadata": {},
   "source": [
    "## 5. Useful Syntax"
   ]
  },
  {
   "cell_type": "code",
   "execution_count": 23,
   "id": "c1392740",
   "metadata": {
    "tags": [
     "remove-input"
    ]
   },
   "outputs": [
    {
     "data": {
      "text/markdown": [
       "Below we will include syntax that may be helpful to other researchers in the UK LLC TRE. For longer scripts, we will include a snippet of the code plus a link to the [UK LLC GitHub](https://github.com/UKLLC) repository where you can find the full scripts."
      ],
      "text/plain": [
       "<IPython.core.display.Markdown object>"
      ]
     },
     "metadata": {},
     "output_type": "display_data"
    }
   ],
   "source": [
    "DS(\"air_pollution_no2_pm25_england_wales_hh\").useful_syntax()"
   ]
  }
 ],
 "metadata": {
  "kernelspec": {
   "display_name": "jupbook",
   "language": "python",
   "name": "python3"
  },
  "language_info": {
   "codemirror_mode": {
    "name": "ipython",
    "version": 3
   },
   "file_extension": ".py",
   "mimetype": "text/x-python",
   "name": "python",
   "nbconvert_exporter": "python",
   "pygments_lexer": "ipython3",
   "version": "3.13.2"
  },
  "mystnb": {
   "code_prompt_hide": "Hide Information",
   "code_prompt_show": "Show Information"
  }
 },
 "nbformat": 4,
 "nbformat_minor": 5
}
