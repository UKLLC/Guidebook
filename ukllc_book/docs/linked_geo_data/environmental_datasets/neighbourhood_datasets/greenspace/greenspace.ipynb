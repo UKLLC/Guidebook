{
 "cells": [
  {
   "cell_type": "markdown",
   "id": "ec4bdf5d",
   "metadata": {},
   "source": [
    "# Greenspace"
   ]
  },
  {
   "cell_type": "code",
   "execution_count": 1,
   "id": "0fe3ef05",
   "metadata": {
    "tags": [
     "remove-input"
    ]
   },
   "outputs": [
    {
     "data": {
      "text/markdown": [
       ">Last modified: 14 Aug 2025"
      ],
      "text/plain": [
       "<IPython.core.display.Markdown object>"
      ]
     },
     "metadata": {},
     "output_type": "display_data"
    }
   ],
   "source": [
    "from IPython.display import display, Markdown\n",
    "import sys\n",
    "import os\n",
    "sys.path.append(os.path.abspath('../../../../scripts/'))\n",
    "from data_doc_helper import PlaceDataSet as DS, last_modified\n",
    "last_modified()\n"
   ]
  },
  {
   "cell_type": "code",
   "execution_count": 2,
   "id": "389cd087",
   "metadata": {
    "tags": [
     "remove-input"
    ]
   },
   "outputs": [
    {
     "data": {
      "text/markdown": [
       "<div style=\"background-color: rgba(0, 178, 169, 0.3); padding: 5px; border-radius: 5px;\"><strong>The University of Leicester’s greenspace dataset covers vegetation, coverage, density, walkability and size.</strong></div>"
      ],
      "text/plain": [
       "<IPython.core.display.Markdown object>"
      ]
     },
     "metadata": {},
     "output_type": "display_data"
    }
   ],
   "source": [
    "display(Markdown('<div style=\"background-color: rgba(0, 178, 169, 0.3); padding: 5px; border-radius: 5px;\"><strong>The University of Leicester’s greenspace dataset covers vegetation, coverage, density, walkability and size.</strong></div>'))"
   ]
  },
  {
   "cell_type": "code",
   "execution_count": 3,
   "id": "70a8c233",
   "metadata": {
    "tags": [
     "remove-input"
    ]
   },
   "outputs": [
    {
     "data": {
      "text/markdown": [
       "<div style=\"background-color: rgb(229, 106, 84, 0.3); padding: 5px; border-radius: 5px;\"><strong>More information about this dataset is available <a href=\"Understanding_greenspace.html\" target=\"_blank\">here.</a></strong></div>"
      ],
      "text/plain": [
       "<IPython.core.display.Markdown object>"
      ]
     },
     "metadata": {},
     "output_type": "display_data"
    }
   ],
   "source": [
    "display(Markdown('<div style=\"background-color: rgb(229, 106, 84, 0.3); padding: 5px; border-radius: 5px;\"><strong>More information about this dataset is available <a href=\"Understanding_greenspace.html\" target=\"_blank\">here.</a></strong></div>'))"
   ]
  },
  {
   "cell_type": "markdown",
   "id": "f5e5d145",
   "metadata": {},
   "source": [
    "## Greenspace Metrics\n",
    "\n",
    "The greenspace metrics have been developed for residential addresses by University of Leicester/City St George’s, University of London. The greenspace datasets contain variables relating to: total amount of green vegetation, percentage of greenspace, largest greenspace area, number of greenspaces, tree cover density and walkability to greenspace. The data covers the year 2018 for all residential address points where a UK LLC participant has permissions in place.\n",
    "\n",
    "## 1. Summary"
   ]
  },
  {
   "cell_type": "code",
   "execution_count": 4,
   "id": "6b0b317a",
   "metadata": {
    "tags": [
     "remove-input"
    ]
   },
   "outputs": [
    {
     "data": {
      "text/markdown": [
       "### greenspace_circle_points_10000m_gb_hh"
      ],
      "text/plain": [
       "<IPython.core.display.Markdown object>"
      ]
     },
     "metadata": {},
     "output_type": "display_data"
    }
   ],
   "source": [
    "display(Markdown('### greenspace_circle_points_10000m_gb_hh'))"
   ]
  },
  {
   "cell_type": "code",
   "execution_count": 5,
   "id": "a0e5b8ea",
   "metadata": {
    "tags": [
     "remove-input",
     "hide-cell"
    ]
   },
   "outputs": [
    {
     "data": {
      "text/html": [
       "<style type=\"text/css\">\n",
       "#T_8adb2 th {\n",
       "  text-align: left;\n",
       "}\n",
       "#T_8adb2_row0_col0, #T_8adb2_row0_col1, #T_8adb2_row1_col0, #T_8adb2_row1_col1, #T_8adb2_row2_col0, #T_8adb2_row2_col1, #T_8adb2_row3_col0, #T_8adb2_row3_col1, #T_8adb2_row4_col0, #T_8adb2_row4_col1, #T_8adb2_row5_col0, #T_8adb2_row5_col1, #T_8adb2_row6_col0, #T_8adb2_row6_col1, #T_8adb2_row7_col0, #T_8adb2_row7_col1, #T_8adb2_row8_col0, #T_8adb2_row8_col1, #T_8adb2_row9_col0, #T_8adb2_row9_col1, #T_8adb2_row10_col0, #T_8adb2_row10_col1, #T_8adb2_row11_col0, #T_8adb2_row11_col1, #T_8adb2_row12_col0, #T_8adb2_row12_col1, #T_8adb2_row13_col0, #T_8adb2_row13_col1, #T_8adb2_row14_col0, #T_8adb2_row14_col1 {\n",
       "  text-align: left;\n",
       "}\n",
       "</style>\n",
       "<table id=\"T_8adb2\" style=\"font-size: 14px\">\n",
       "  <thead>\n",
       "    <tr>\n",
       "      <th id=\"T_8adb2_level0_col0\" class=\"col_heading level0 col0\" >Dataset Descriptor</th>\n",
       "      <th id=\"T_8adb2_level0_col1\" class=\"col_heading level0 col1\" >Dataset-specific Information</th>\n",
       "    </tr>\n",
       "  </thead>\n",
       "  <tbody>\n",
       "    <tr>\n",
       "      <td id=\"T_8adb2_row0_col0\" class=\"data row0 col0\" >Name of Dataset in TRE</td>\n",
       "      <td id=\"T_8adb2_row0_col1\" class=\"data row0 col1\" >PLACE_greenspace_circle_points_10000m_gb_hh</td>\n",
       "    </tr>\n",
       "    <tr>\n",
       "      <td id=\"T_8adb2_row1_col0\" class=\"data row1 col0\" >Citation (APA)</td>\n",
       "      <td id=\"T_8adb2_row1_col1\" class=\"data row1 col1\" >University of Leicester, Centre for Environmental Health and Sustainability. (2025). <i>Place based data: Greenspace Circle Points 10000m Household.</i> UK Longitudinal Linkage Collaboration (UK LLC).  <a href=\"https://doi.org/10.71760/ukllc-dataset-00402-01\" rel=\"noopener noreferrer\" target=\"_blank\">https://doi.org/10.71760/ukllc-dataset-00402-01</a></td>\n",
       "    </tr>\n",
       "    <tr>\n",
       "      <td id=\"T_8adb2_row2_col0\" class=\"data row2 col0\" >Download Citation</td>\n",
       "      <td id=\"T_8adb2_row2_col1\" class=\"data row2 col1\" > <a href=\"https://api.datacite.org/application/vnd.citationstyles.csl+json/10.71760/ukllc-dataset-00402-01\" rel=\"noopener noreferrer\" target=\"_blank\">Citeproc JSON</a>&nbsp;&nbsp;&nbsp;&nbsp; <a href=\"https://api.datacite.org/application/x-bibtex/10.71760/ukllc-dataset-00402-01\" rel=\"noopener noreferrer\" target=\"_blank\">BibTeX</a>&nbsp;&nbsp;&nbsp;&nbsp; <a href=\"https://api.datacite.org/application/x-research-info-systems/10.71760/ukllc-dataset-00402-01\" rel=\"noopener noreferrer\" target=\"_blank\">RIS</a></td>\n",
       "    </tr>\n",
       "    <tr>\n",
       "      <td id=\"T_8adb2_row3_col0\" class=\"data row3 col0\" >Owner</td>\n",
       "      <td id=\"T_8adb2_row3_col1\" class=\"data row3 col1\" >University of Leicester</td>\n",
       "    </tr>\n",
       "    <tr>\n",
       "      <td id=\"T_8adb2_row4_col0\" class=\"data row4 col0\" >Authors</td>\n",
       "      <td id=\"T_8adb2_row4_col1\" class=\"data row4 col1\" >Sarah Johnson (University of Leicester)</td>\n",
       "    </tr>\n",
       "    <tr>\n",
       "      <td id=\"T_8adb2_row5_col0\" class=\"data row5 col0\" >Temporal Coverage</td>\n",
       "      <td id=\"T_8adb2_row5_col1\" class=\"data row5 col1\" >01/1990 - 12/2020</td>\n",
       "    </tr>\n",
       "    <tr>\n",
       "      <td id=\"T_8adb2_row6_col0\" class=\"data row6 col0\" >Geographical Coverage</td>\n",
       "      <td id=\"T_8adb2_row6_col1\" class=\"data row6 col1\" >Great Britain</td>\n",
       "    </tr>\n",
       "    <tr>\n",
       "      <td id=\"T_8adb2_row7_col0\" class=\"data row7 col0\" >Participant Count</td>\n",
       "      <td id=\"T_8adb2_row7_col1\" class=\"data row7 col1\" >52277</td>\n",
       "    </tr>\n",
       "    <tr>\n",
       "      <td id=\"T_8adb2_row8_col0\" class=\"data row8 col0\" >Number of Variables</td>\n",
       "      <td id=\"T_8adb2_row8_col1\" class=\"data row8 col1\" >14</td>\n",
       "    </tr>\n",
       "    <tr>\n",
       "      <td id=\"T_8adb2_row9_col0\" class=\"data row9 col0\" >Number of Observations</td>\n",
       "      <td id=\"T_8adb2_row9_col1\" class=\"data row9 col1\" >116653</td>\n",
       "    </tr>\n",
       "    <tr>\n",
       "      <td id=\"T_8adb2_row10_col0\" class=\"data row10 col0\" >Key Link</td>\n",
       "      <td id=\"T_8adb2_row10_col1\" class=\"data row10 col1\" > <a href=\" https://guidebook.ukllc.ac.uk/docs/linked_geo_data/place_based_intro\" rel=\"noopener noreferrer\" target=\"_blank\"> https://guidebook.ukllc.ac.uk/docs/linked_geo_data/place_based_intro</a></td>\n",
       "    </tr>\n",
       "    <tr>\n",
       "      <td id=\"T_8adb2_row11_col0\" class=\"data row11 col0\" >Keywords</td>\n",
       "      <td id=\"T_8adb2_row11_col1\" class=\"data row11 col1\" >greenness,greenspace,NDVI,vegetation,geospatial,environmental</td>\n",
       "    </tr>\n",
       "    <tr>\n",
       "      <td id=\"T_8adb2_row12_col0\" class=\"data row12 col0\" >Latest Extract Date</td>\n",
       "      <td id=\"T_8adb2_row12_col1\" class=\"data row12 col1\" >TBC</td>\n",
       "    </tr>\n",
       "    <tr>\n",
       "      <td id=\"T_8adb2_row13_col0\" class=\"data row13 col0\" >Specific Restrictions to Data Use</td>\n",
       "      <td id=\"T_8adb2_row13_col1\" class=\"data row13 col1\" >None</td>\n",
       "    </tr>\n",
       "    <tr>\n",
       "      <td id=\"T_8adb2_row14_col0\" class=\"data row14 col0\" >Build a Data Request</td>\n",
       "      <td id=\"T_8adb2_row14_col1\" class=\"data row14 col1\" > <a href=\"https://explore.ukllc.ac.uk/\" rel=\"noopener noreferrer\" target=\"_blank\">https://explore.ukllc.ac.uk/</a></td>\n",
       "    </tr>\n",
       "  </tbody>\n",
       "</table>\n"
      ],
      "text/plain": [
       "<pandas.io.formats.style.Styler at 0x2677fc49550>"
      ]
     },
     "execution_count": 5,
     "metadata": {},
     "output_type": "execute_result"
    }
   ],
   "source": [
    "DS(\"greenspace_circle_points_10000m_gb_hh\").info_table()"
   ]
  },
  {
   "cell_type": "code",
   "execution_count": 6,
   "id": "a7c25893",
   "metadata": {
    "tags": [
     "remove-input"
    ]
   },
   "outputs": [
    {
     "data": {
      "text/markdown": [
       "### greenspace_circle_points_10000m_gb_pc"
      ],
      "text/plain": [
       "<IPython.core.display.Markdown object>"
      ]
     },
     "metadata": {},
     "output_type": "display_data"
    }
   ],
   "source": [
    "display(Markdown('### greenspace_circle_points_10000m_gb_pc'))"
   ]
  },
  {
   "cell_type": "code",
   "execution_count": 7,
   "id": "128d1c99",
   "metadata": {
    "tags": [
     "remove-input",
     "hide-cell"
    ]
   },
   "outputs": [
    {
     "data": {
      "text/html": [
       "<style type=\"text/css\">\n",
       "#T_34eb0 th {\n",
       "  text-align: left;\n",
       "}\n",
       "#T_34eb0_row0_col0, #T_34eb0_row0_col1, #T_34eb0_row1_col0, #T_34eb0_row1_col1, #T_34eb0_row2_col0, #T_34eb0_row2_col1, #T_34eb0_row3_col0, #T_34eb0_row3_col1, #T_34eb0_row4_col0, #T_34eb0_row4_col1, #T_34eb0_row5_col0, #T_34eb0_row5_col1, #T_34eb0_row6_col0, #T_34eb0_row6_col1, #T_34eb0_row7_col0, #T_34eb0_row7_col1, #T_34eb0_row8_col0, #T_34eb0_row8_col1, #T_34eb0_row9_col0, #T_34eb0_row9_col1, #T_34eb0_row10_col0, #T_34eb0_row10_col1, #T_34eb0_row11_col0, #T_34eb0_row11_col1, #T_34eb0_row12_col0, #T_34eb0_row12_col1, #T_34eb0_row13_col0, #T_34eb0_row13_col1, #T_34eb0_row14_col0, #T_34eb0_row14_col1 {\n",
       "  text-align: left;\n",
       "}\n",
       "</style>\n",
       "<table id=\"T_34eb0\" style=\"font-size: 14px\">\n",
       "  <thead>\n",
       "    <tr>\n",
       "      <th id=\"T_34eb0_level0_col0\" class=\"col_heading level0 col0\" >Dataset Descriptor</th>\n",
       "      <th id=\"T_34eb0_level0_col1\" class=\"col_heading level0 col1\" >Dataset-specific Information</th>\n",
       "    </tr>\n",
       "  </thead>\n",
       "  <tbody>\n",
       "    <tr>\n",
       "      <td id=\"T_34eb0_row0_col0\" class=\"data row0 col0\" >Name of Dataset in TRE</td>\n",
       "      <td id=\"T_34eb0_row0_col1\" class=\"data row0 col1\" >PLACE_greenspace_circle_points_10000m_gb_pc</td>\n",
       "    </tr>\n",
       "    <tr>\n",
       "      <td id=\"T_34eb0_row1_col0\" class=\"data row1 col0\" >Citation (APA)</td>\n",
       "      <td id=\"T_34eb0_row1_col1\" class=\"data row1 col1\" >University of Leicester, Centre for Environmental Health and Sustainability. (2025). <i>Place based data: Greenspace Circle Points 10000m Postcode.</i> UK Longitudinal Linkage Collaboration (UK LLC).  <a href=\"https://doi.org/10.71760/ukllc-dataset-00403-01\" rel=\"noopener noreferrer\" target=\"_blank\">https://doi.org/10.71760/ukllc-dataset-00403-01</a></td>\n",
       "    </tr>\n",
       "    <tr>\n",
       "      <td id=\"T_34eb0_row2_col0\" class=\"data row2 col0\" >Download Citation</td>\n",
       "      <td id=\"T_34eb0_row2_col1\" class=\"data row2 col1\" > <a href=\"https://api.datacite.org/application/vnd.citationstyles.csl+json/10.71760/ukllc-dataset-00403-01\" rel=\"noopener noreferrer\" target=\"_blank\">Citeproc JSON</a>&nbsp;&nbsp;&nbsp;&nbsp; <a href=\"https://api.datacite.org/application/x-bibtex/10.71760/ukllc-dataset-00403-01\" rel=\"noopener noreferrer\" target=\"_blank\">BibTeX</a>&nbsp;&nbsp;&nbsp;&nbsp; <a href=\"https://api.datacite.org/application/x-research-info-systems/10.71760/ukllc-dataset-00403-01\" rel=\"noopener noreferrer\" target=\"_blank\">RIS</a></td>\n",
       "    </tr>\n",
       "    <tr>\n",
       "      <td id=\"T_34eb0_row3_col0\" class=\"data row3 col0\" >Owner</td>\n",
       "      <td id=\"T_34eb0_row3_col1\" class=\"data row3 col1\" >University of Leicester</td>\n",
       "    </tr>\n",
       "    <tr>\n",
       "      <td id=\"T_34eb0_row4_col0\" class=\"data row4 col0\" >Authors</td>\n",
       "      <td id=\"T_34eb0_row4_col1\" class=\"data row4 col1\" >Sarah Johnson (University of Leicester)</td>\n",
       "    </tr>\n",
       "    <tr>\n",
       "      <td id=\"T_34eb0_row5_col0\" class=\"data row5 col0\" >Temporal Coverage</td>\n",
       "      <td id=\"T_34eb0_row5_col1\" class=\"data row5 col1\" >01/1990 - 12/2020</td>\n",
       "    </tr>\n",
       "    <tr>\n",
       "      <td id=\"T_34eb0_row6_col0\" class=\"data row6 col0\" >Geographical Coverage</td>\n",
       "      <td id=\"T_34eb0_row6_col1\" class=\"data row6 col1\" >Great Britain</td>\n",
       "    </tr>\n",
       "    <tr>\n",
       "      <td id=\"T_34eb0_row7_col0\" class=\"data row7 col0\" >Participant Count</td>\n",
       "      <td id=\"T_34eb0_row7_col1\" class=\"data row7 col1\" >24401</td>\n",
       "    </tr>\n",
       "    <tr>\n",
       "      <td id=\"T_34eb0_row8_col0\" class=\"data row8 col0\" >Number of Variables</td>\n",
       "      <td id=\"T_34eb0_row8_col1\" class=\"data row8 col1\" >14</td>\n",
       "    </tr>\n",
       "    <tr>\n",
       "      <td id=\"T_34eb0_row9_col0\" class=\"data row9 col0\" >Number of Observations</td>\n",
       "      <td id=\"T_34eb0_row9_col1\" class=\"data row9 col1\" >39097</td>\n",
       "    </tr>\n",
       "    <tr>\n",
       "      <td id=\"T_34eb0_row10_col0\" class=\"data row10 col0\" >Key Link</td>\n",
       "      <td id=\"T_34eb0_row10_col1\" class=\"data row10 col1\" > <a href=\" https://guidebook.ukllc.ac.uk/docs/linked_geo_data/place_based_intro\" rel=\"noopener noreferrer\" target=\"_blank\"> https://guidebook.ukllc.ac.uk/docs/linked_geo_data/place_based_intro</a></td>\n",
       "    </tr>\n",
       "    <tr>\n",
       "      <td id=\"T_34eb0_row11_col0\" class=\"data row11 col0\" >Keywords</td>\n",
       "      <td id=\"T_34eb0_row11_col1\" class=\"data row11 col1\" >greenness,greenspace,NDVI,vegetation,geospatial,environmental</td>\n",
       "    </tr>\n",
       "    <tr>\n",
       "      <td id=\"T_34eb0_row12_col0\" class=\"data row12 col0\" >Latest Extract Date</td>\n",
       "      <td id=\"T_34eb0_row12_col1\" class=\"data row12 col1\" >TBC</td>\n",
       "    </tr>\n",
       "    <tr>\n",
       "      <td id=\"T_34eb0_row13_col0\" class=\"data row13 col0\" >Specific Restrictions to Data Use</td>\n",
       "      <td id=\"T_34eb0_row13_col1\" class=\"data row13 col1\" >None</td>\n",
       "    </tr>\n",
       "    <tr>\n",
       "      <td id=\"T_34eb0_row14_col0\" class=\"data row14 col0\" >Build a Data Request</td>\n",
       "      <td id=\"T_34eb0_row14_col1\" class=\"data row14 col1\" > <a href=\"https://explore.ukllc.ac.uk/\" rel=\"noopener noreferrer\" target=\"_blank\">https://explore.ukllc.ac.uk/</a></td>\n",
       "    </tr>\n",
       "  </tbody>\n",
       "</table>\n"
      ],
      "text/plain": [
       "<pandas.io.formats.style.Styler at 0x2677fcace10>"
      ]
     },
     "execution_count": 7,
     "metadata": {},
     "output_type": "execute_result"
    }
   ],
   "source": [
    "DS(\"greenspace_circle_points_10000m_gb_pc\").info_table()"
   ]
  },
  {
   "cell_type": "code",
   "execution_count": 8,
   "id": "ef9c9c8a",
   "metadata": {
    "tags": [
     "remove-input"
    ]
   },
   "outputs": [
    {
     "data": {
      "text/markdown": [
       "### greenspace_circle_points_1000m_gb_hh"
      ],
      "text/plain": [
       "<IPython.core.display.Markdown object>"
      ]
     },
     "metadata": {},
     "output_type": "display_data"
    }
   ],
   "source": [
    "display(Markdown('### greenspace_circle_points_1000m_gb_hh'))"
   ]
  },
  {
   "cell_type": "code",
   "execution_count": 9,
   "id": "7a6b5ae5",
   "metadata": {
    "tags": [
     "remove-input",
     "hide-cell"
    ]
   },
   "outputs": [
    {
     "data": {
      "text/html": [
       "<style type=\"text/css\">\n",
       "#T_4133d th {\n",
       "  text-align: left;\n",
       "}\n",
       "#T_4133d_row0_col0, #T_4133d_row0_col1, #T_4133d_row1_col0, #T_4133d_row1_col1, #T_4133d_row2_col0, #T_4133d_row2_col1, #T_4133d_row3_col0, #T_4133d_row3_col1, #T_4133d_row4_col0, #T_4133d_row4_col1, #T_4133d_row5_col0, #T_4133d_row5_col1, #T_4133d_row6_col0, #T_4133d_row6_col1, #T_4133d_row7_col0, #T_4133d_row7_col1, #T_4133d_row8_col0, #T_4133d_row8_col1, #T_4133d_row9_col0, #T_4133d_row9_col1, #T_4133d_row10_col0, #T_4133d_row10_col1, #T_4133d_row11_col0, #T_4133d_row11_col1, #T_4133d_row12_col0, #T_4133d_row12_col1, #T_4133d_row13_col0, #T_4133d_row13_col1, #T_4133d_row14_col0, #T_4133d_row14_col1 {\n",
       "  text-align: left;\n",
       "}\n",
       "</style>\n",
       "<table id=\"T_4133d\" style=\"font-size: 14px\">\n",
       "  <thead>\n",
       "    <tr>\n",
       "      <th id=\"T_4133d_level0_col0\" class=\"col_heading level0 col0\" >Dataset Descriptor</th>\n",
       "      <th id=\"T_4133d_level0_col1\" class=\"col_heading level0 col1\" >Dataset-specific Information</th>\n",
       "    </tr>\n",
       "  </thead>\n",
       "  <tbody>\n",
       "    <tr>\n",
       "      <td id=\"T_4133d_row0_col0\" class=\"data row0 col0\" >Name of Dataset in TRE</td>\n",
       "      <td id=\"T_4133d_row0_col1\" class=\"data row0 col1\" >PLACE_greenspace_circle_points_1000m_gb_hh</td>\n",
       "    </tr>\n",
       "    <tr>\n",
       "      <td id=\"T_4133d_row1_col0\" class=\"data row1 col0\" >Citation (APA)</td>\n",
       "      <td id=\"T_4133d_row1_col1\" class=\"data row1 col1\" >University of Leicester, Centre for Environmental Health and Sustainability. (2025). <i>Place based data: Greenspace Circle Points 1000m Household.</i> UK Longitudinal Linkage Collaboration (UK LLC).  <a href=\"https://doi.org/10.71760/ukllc-dataset-00404-01\" rel=\"noopener noreferrer\" target=\"_blank\">https://doi.org/10.71760/ukllc-dataset-00404-01</a></td>\n",
       "    </tr>\n",
       "    <tr>\n",
       "      <td id=\"T_4133d_row2_col0\" class=\"data row2 col0\" >Download Citation</td>\n",
       "      <td id=\"T_4133d_row2_col1\" class=\"data row2 col1\" > <a href=\"https://api.datacite.org/application/vnd.citationstyles.csl+json/10.71760/ukllc-dataset-00404-01\" rel=\"noopener noreferrer\" target=\"_blank\">Citeproc JSON</a>&nbsp;&nbsp;&nbsp;&nbsp; <a href=\"https://api.datacite.org/application/x-bibtex/10.71760/ukllc-dataset-00404-01\" rel=\"noopener noreferrer\" target=\"_blank\">BibTeX</a>&nbsp;&nbsp;&nbsp;&nbsp; <a href=\"https://api.datacite.org/application/x-research-info-systems/10.71760/ukllc-dataset-00404-01\" rel=\"noopener noreferrer\" target=\"_blank\">RIS</a></td>\n",
       "    </tr>\n",
       "    <tr>\n",
       "      <td id=\"T_4133d_row3_col0\" class=\"data row3 col0\" >Owner</td>\n",
       "      <td id=\"T_4133d_row3_col1\" class=\"data row3 col1\" >University of Leicester</td>\n",
       "    </tr>\n",
       "    <tr>\n",
       "      <td id=\"T_4133d_row4_col0\" class=\"data row4 col0\" >Authors</td>\n",
       "      <td id=\"T_4133d_row4_col1\" class=\"data row4 col1\" >Sarah Johnson (University of Leicester)</td>\n",
       "    </tr>\n",
       "    <tr>\n",
       "      <td id=\"T_4133d_row5_col0\" class=\"data row5 col0\" >Temporal Coverage</td>\n",
       "      <td id=\"T_4133d_row5_col1\" class=\"data row5 col1\" >01/1990 - 12/2020</td>\n",
       "    </tr>\n",
       "    <tr>\n",
       "      <td id=\"T_4133d_row6_col0\" class=\"data row6 col0\" >Geographical Coverage</td>\n",
       "      <td id=\"T_4133d_row6_col1\" class=\"data row6 col1\" >Great Britain</td>\n",
       "    </tr>\n",
       "    <tr>\n",
       "      <td id=\"T_4133d_row7_col0\" class=\"data row7 col0\" >Participant Count</td>\n",
       "      <td id=\"T_4133d_row7_col1\" class=\"data row7 col1\" >52277</td>\n",
       "    </tr>\n",
       "    <tr>\n",
       "      <td id=\"T_4133d_row8_col0\" class=\"data row8 col0\" >Number of Variables</td>\n",
       "      <td id=\"T_4133d_row8_col1\" class=\"data row8 col1\" >26</td>\n",
       "    </tr>\n",
       "    <tr>\n",
       "      <td id=\"T_4133d_row9_col0\" class=\"data row9 col0\" >Number of Observations</td>\n",
       "      <td id=\"T_4133d_row9_col1\" class=\"data row9 col1\" >116653</td>\n",
       "    </tr>\n",
       "    <tr>\n",
       "      <td id=\"T_4133d_row10_col0\" class=\"data row10 col0\" >Key Link</td>\n",
       "      <td id=\"T_4133d_row10_col1\" class=\"data row10 col1\" > <a href=\" https://guidebook.ukllc.ac.uk/docs/linked_geo_data/place_based_intro\" rel=\"noopener noreferrer\" target=\"_blank\"> https://guidebook.ukllc.ac.uk/docs/linked_geo_data/place_based_intro</a></td>\n",
       "    </tr>\n",
       "    <tr>\n",
       "      <td id=\"T_4133d_row11_col0\" class=\"data row11 col0\" >Keywords</td>\n",
       "      <td id=\"T_4133d_row11_col1\" class=\"data row11 col1\" >greenness,greenspace,NDVI,vegetation,geospatial,environmental</td>\n",
       "    </tr>\n",
       "    <tr>\n",
       "      <td id=\"T_4133d_row12_col0\" class=\"data row12 col0\" >Latest Extract Date</td>\n",
       "      <td id=\"T_4133d_row12_col1\" class=\"data row12 col1\" >TBC</td>\n",
       "    </tr>\n",
       "    <tr>\n",
       "      <td id=\"T_4133d_row13_col0\" class=\"data row13 col0\" >Specific Restrictions to Data Use</td>\n",
       "      <td id=\"T_4133d_row13_col1\" class=\"data row13 col1\" >None</td>\n",
       "    </tr>\n",
       "    <tr>\n",
       "      <td id=\"T_4133d_row14_col0\" class=\"data row14 col0\" >Build a Data Request</td>\n",
       "      <td id=\"T_4133d_row14_col1\" class=\"data row14 col1\" > <a href=\"https://explore.ukllc.ac.uk/\" rel=\"noopener noreferrer\" target=\"_blank\">https://explore.ukllc.ac.uk/</a></td>\n",
       "    </tr>\n",
       "  </tbody>\n",
       "</table>\n"
      ],
      "text/plain": [
       "<pandas.io.formats.style.Styler at 0x2677fcad950>"
      ]
     },
     "execution_count": 9,
     "metadata": {},
     "output_type": "execute_result"
    }
   ],
   "source": [
    "DS(\"greenspace_circle_points_1000m_gb_hh\").info_table()"
   ]
  },
  {
   "cell_type": "code",
   "execution_count": 10,
   "id": "d3207341",
   "metadata": {
    "tags": [
     "remove-input"
    ]
   },
   "outputs": [
    {
     "data": {
      "text/markdown": [
       "### greenspace_circle_points_1000m_gb_pc"
      ],
      "text/plain": [
       "<IPython.core.display.Markdown object>"
      ]
     },
     "metadata": {},
     "output_type": "display_data"
    }
   ],
   "source": [
    "display(Markdown('### greenspace_circle_points_1000m_gb_pc'))"
   ]
  },
  {
   "cell_type": "code",
   "execution_count": 11,
   "id": "f1f93635",
   "metadata": {
    "tags": [
     "remove-input",
     "hide-cell"
    ]
   },
   "outputs": [
    {
     "data": {
      "text/html": [
       "<style type=\"text/css\">\n",
       "#T_c6352 th {\n",
       "  text-align: left;\n",
       "}\n",
       "#T_c6352_row0_col0, #T_c6352_row0_col1, #T_c6352_row1_col0, #T_c6352_row1_col1, #T_c6352_row2_col0, #T_c6352_row2_col1, #T_c6352_row3_col0, #T_c6352_row3_col1, #T_c6352_row4_col0, #T_c6352_row4_col1, #T_c6352_row5_col0, #T_c6352_row5_col1, #T_c6352_row6_col0, #T_c6352_row6_col1, #T_c6352_row7_col0, #T_c6352_row7_col1, #T_c6352_row8_col0, #T_c6352_row8_col1, #T_c6352_row9_col0, #T_c6352_row9_col1, #T_c6352_row10_col0, #T_c6352_row10_col1, #T_c6352_row11_col0, #T_c6352_row11_col1, #T_c6352_row12_col0, #T_c6352_row12_col1, #T_c6352_row13_col0, #T_c6352_row13_col1, #T_c6352_row14_col0, #T_c6352_row14_col1 {\n",
       "  text-align: left;\n",
       "}\n",
       "</style>\n",
       "<table id=\"T_c6352\" style=\"font-size: 14px\">\n",
       "  <thead>\n",
       "    <tr>\n",
       "      <th id=\"T_c6352_level0_col0\" class=\"col_heading level0 col0\" >Dataset Descriptor</th>\n",
       "      <th id=\"T_c6352_level0_col1\" class=\"col_heading level0 col1\" >Dataset-specific Information</th>\n",
       "    </tr>\n",
       "  </thead>\n",
       "  <tbody>\n",
       "    <tr>\n",
       "      <td id=\"T_c6352_row0_col0\" class=\"data row0 col0\" >Name of Dataset in TRE</td>\n",
       "      <td id=\"T_c6352_row0_col1\" class=\"data row0 col1\" >PLACE_greenspace_circle_points_1000m_gb_pc</td>\n",
       "    </tr>\n",
       "    <tr>\n",
       "      <td id=\"T_c6352_row1_col0\" class=\"data row1 col0\" >Citation (APA)</td>\n",
       "      <td id=\"T_c6352_row1_col1\" class=\"data row1 col1\" >University of Leicester, Centre for Environmental Health and Sustainability. (2025). <i>Place based data: Greenspace Circle Points 1000m Postcode.</i> UK Longitudinal Linkage Collaboration (UK LLC).  <a href=\"https://doi.org/10.71760/ukllc-dataset-00405-01\" rel=\"noopener noreferrer\" target=\"_blank\">https://doi.org/10.71760/ukllc-dataset-00405-01</a></td>\n",
       "    </tr>\n",
       "    <tr>\n",
       "      <td id=\"T_c6352_row2_col0\" class=\"data row2 col0\" >Download Citation</td>\n",
       "      <td id=\"T_c6352_row2_col1\" class=\"data row2 col1\" > <a href=\"https://api.datacite.org/application/vnd.citationstyles.csl+json/10.71760/ukllc-dataset-00405-01\" rel=\"noopener noreferrer\" target=\"_blank\">Citeproc JSON</a>&nbsp;&nbsp;&nbsp;&nbsp; <a href=\"https://api.datacite.org/application/x-bibtex/10.71760/ukllc-dataset-00405-01\" rel=\"noopener noreferrer\" target=\"_blank\">BibTeX</a>&nbsp;&nbsp;&nbsp;&nbsp; <a href=\"https://api.datacite.org/application/x-research-info-systems/10.71760/ukllc-dataset-00405-01\" rel=\"noopener noreferrer\" target=\"_blank\">RIS</a></td>\n",
       "    </tr>\n",
       "    <tr>\n",
       "      <td id=\"T_c6352_row3_col0\" class=\"data row3 col0\" >Owner</td>\n",
       "      <td id=\"T_c6352_row3_col1\" class=\"data row3 col1\" >University of Leicester</td>\n",
       "    </tr>\n",
       "    <tr>\n",
       "      <td id=\"T_c6352_row4_col0\" class=\"data row4 col0\" >Authors</td>\n",
       "      <td id=\"T_c6352_row4_col1\" class=\"data row4 col1\" >Sarah Johnson (University of Leicester)</td>\n",
       "    </tr>\n",
       "    <tr>\n",
       "      <td id=\"T_c6352_row5_col0\" class=\"data row5 col0\" >Temporal Coverage</td>\n",
       "      <td id=\"T_c6352_row5_col1\" class=\"data row5 col1\" >01/1990 - 12/2020</td>\n",
       "    </tr>\n",
       "    <tr>\n",
       "      <td id=\"T_c6352_row6_col0\" class=\"data row6 col0\" >Geographical Coverage</td>\n",
       "      <td id=\"T_c6352_row6_col1\" class=\"data row6 col1\" >Great Britain</td>\n",
       "    </tr>\n",
       "    <tr>\n",
       "      <td id=\"T_c6352_row7_col0\" class=\"data row7 col0\" >Participant Count</td>\n",
       "      <td id=\"T_c6352_row7_col1\" class=\"data row7 col1\" >24401</td>\n",
       "    </tr>\n",
       "    <tr>\n",
       "      <td id=\"T_c6352_row8_col0\" class=\"data row8 col0\" >Number of Variables</td>\n",
       "      <td id=\"T_c6352_row8_col1\" class=\"data row8 col1\" >26</td>\n",
       "    </tr>\n",
       "    <tr>\n",
       "      <td id=\"T_c6352_row9_col0\" class=\"data row9 col0\" >Number of Observations</td>\n",
       "      <td id=\"T_c6352_row9_col1\" class=\"data row9 col1\" >39097</td>\n",
       "    </tr>\n",
       "    <tr>\n",
       "      <td id=\"T_c6352_row10_col0\" class=\"data row10 col0\" >Key Link</td>\n",
       "      <td id=\"T_c6352_row10_col1\" class=\"data row10 col1\" > <a href=\" https://guidebook.ukllc.ac.uk/docs/linked_geo_data/place_based_intro\" rel=\"noopener noreferrer\" target=\"_blank\"> https://guidebook.ukllc.ac.uk/docs/linked_geo_data/place_based_intro</a></td>\n",
       "    </tr>\n",
       "    <tr>\n",
       "      <td id=\"T_c6352_row11_col0\" class=\"data row11 col0\" >Keywords</td>\n",
       "      <td id=\"T_c6352_row11_col1\" class=\"data row11 col1\" >greenness,greenspace,NDVI,vegetation,geospatial,environmental</td>\n",
       "    </tr>\n",
       "    <tr>\n",
       "      <td id=\"T_c6352_row12_col0\" class=\"data row12 col0\" >Latest Extract Date</td>\n",
       "      <td id=\"T_c6352_row12_col1\" class=\"data row12 col1\" >TBC</td>\n",
       "    </tr>\n",
       "    <tr>\n",
       "      <td id=\"T_c6352_row13_col0\" class=\"data row13 col0\" >Specific Restrictions to Data Use</td>\n",
       "      <td id=\"T_c6352_row13_col1\" class=\"data row13 col1\" >None</td>\n",
       "    </tr>\n",
       "    <tr>\n",
       "      <td id=\"T_c6352_row14_col0\" class=\"data row14 col0\" >Build a Data Request</td>\n",
       "      <td id=\"T_c6352_row14_col1\" class=\"data row14 col1\" > <a href=\"https://explore.ukllc.ac.uk/\" rel=\"noopener noreferrer\" target=\"_blank\">https://explore.ukllc.ac.uk/</a></td>\n",
       "    </tr>\n",
       "  </tbody>\n",
       "</table>\n"
      ],
      "text/plain": [
       "<pandas.io.formats.style.Styler at 0x2677fcae5d0>"
      ]
     },
     "execution_count": 11,
     "metadata": {},
     "output_type": "execute_result"
    }
   ],
   "source": [
    "DS(\"greenspace_circle_points_1000m_gb_pc\").info_table()"
   ]
  },
  {
   "cell_type": "code",
   "execution_count": 12,
   "id": "98c85bb5",
   "metadata": {
    "tags": [
     "remove-input"
    ]
   },
   "outputs": [
    {
     "data": {
      "text/markdown": [
       "### greenspace_circle_points_2000m_gb_hh"
      ],
      "text/plain": [
       "<IPython.core.display.Markdown object>"
      ]
     },
     "metadata": {},
     "output_type": "display_data"
    }
   ],
   "source": [
    "display(Markdown('### greenspace_circle_points_2000m_gb_hh'))"
   ]
  },
  {
   "cell_type": "code",
   "execution_count": 13,
   "id": "6a658a8c",
   "metadata": {
    "tags": [
     "remove-input",
     "hide-cell"
    ]
   },
   "outputs": [
    {
     "data": {
      "text/html": [
       "<style type=\"text/css\">\n",
       "#T_c7045 th {\n",
       "  text-align: left;\n",
       "}\n",
       "#T_c7045_row0_col0, #T_c7045_row0_col1, #T_c7045_row1_col0, #T_c7045_row1_col1, #T_c7045_row2_col0, #T_c7045_row2_col1, #T_c7045_row3_col0, #T_c7045_row3_col1, #T_c7045_row4_col0, #T_c7045_row4_col1, #T_c7045_row5_col0, #T_c7045_row5_col1, #T_c7045_row6_col0, #T_c7045_row6_col1, #T_c7045_row7_col0, #T_c7045_row7_col1, #T_c7045_row8_col0, #T_c7045_row8_col1, #T_c7045_row9_col0, #T_c7045_row9_col1, #T_c7045_row10_col0, #T_c7045_row10_col1, #T_c7045_row11_col0, #T_c7045_row11_col1, #T_c7045_row12_col0, #T_c7045_row12_col1, #T_c7045_row13_col0, #T_c7045_row13_col1, #T_c7045_row14_col0, #T_c7045_row14_col1 {\n",
       "  text-align: left;\n",
       "}\n",
       "</style>\n",
       "<table id=\"T_c7045\" style=\"font-size: 14px\">\n",
       "  <thead>\n",
       "    <tr>\n",
       "      <th id=\"T_c7045_level0_col0\" class=\"col_heading level0 col0\" >Dataset Descriptor</th>\n",
       "      <th id=\"T_c7045_level0_col1\" class=\"col_heading level0 col1\" >Dataset-specific Information</th>\n",
       "    </tr>\n",
       "  </thead>\n",
       "  <tbody>\n",
       "    <tr>\n",
       "      <td id=\"T_c7045_row0_col0\" class=\"data row0 col0\" >Name of Dataset in TRE</td>\n",
       "      <td id=\"T_c7045_row0_col1\" class=\"data row0 col1\" >PLACE_greenspace_circle_points_2000m_gb_hh</td>\n",
       "    </tr>\n",
       "    <tr>\n",
       "      <td id=\"T_c7045_row1_col0\" class=\"data row1 col0\" >Citation (APA)</td>\n",
       "      <td id=\"T_c7045_row1_col1\" class=\"data row1 col1\" >University of Leicester, Centre for Environmental Health and Sustainability. (2025). <i>Place based data: Greenspace Circle Points 2000m Household.</i> UK Longitudinal Linkage Collaboration (UK LLC).  <a href=\"https://doi.org/10.71760/ukllc-dataset-00406-01\" rel=\"noopener noreferrer\" target=\"_blank\">https://doi.org/10.71760/ukllc-dataset-00406-01</a></td>\n",
       "    </tr>\n",
       "    <tr>\n",
       "      <td id=\"T_c7045_row2_col0\" class=\"data row2 col0\" >Download Citation</td>\n",
       "      <td id=\"T_c7045_row2_col1\" class=\"data row2 col1\" > <a href=\"https://api.datacite.org/application/vnd.citationstyles.csl+json/10.71760/ukllc-dataset-00406-01\" rel=\"noopener noreferrer\" target=\"_blank\">Citeproc JSON</a>&nbsp;&nbsp;&nbsp;&nbsp; <a href=\"https://api.datacite.org/application/x-bibtex/10.71760/ukllc-dataset-00406-01\" rel=\"noopener noreferrer\" target=\"_blank\">BibTeX</a>&nbsp;&nbsp;&nbsp;&nbsp; <a href=\"https://api.datacite.org/application/x-research-info-systems/10.71760/ukllc-dataset-00406-01\" rel=\"noopener noreferrer\" target=\"_blank\">RIS</a></td>\n",
       "    </tr>\n",
       "    <tr>\n",
       "      <td id=\"T_c7045_row3_col0\" class=\"data row3 col0\" >Owner</td>\n",
       "      <td id=\"T_c7045_row3_col1\" class=\"data row3 col1\" >University of Leicester</td>\n",
       "    </tr>\n",
       "    <tr>\n",
       "      <td id=\"T_c7045_row4_col0\" class=\"data row4 col0\" >Authors</td>\n",
       "      <td id=\"T_c7045_row4_col1\" class=\"data row4 col1\" >Sarah Johnson (University of Leicester)</td>\n",
       "    </tr>\n",
       "    <tr>\n",
       "      <td id=\"T_c7045_row5_col0\" class=\"data row5 col0\" >Temporal Coverage</td>\n",
       "      <td id=\"T_c7045_row5_col1\" class=\"data row5 col1\" >01/1990 - 12/2020</td>\n",
       "    </tr>\n",
       "    <tr>\n",
       "      <td id=\"T_c7045_row6_col0\" class=\"data row6 col0\" >Geographical Coverage</td>\n",
       "      <td id=\"T_c7045_row6_col1\" class=\"data row6 col1\" >Great Britain</td>\n",
       "    </tr>\n",
       "    <tr>\n",
       "      <td id=\"T_c7045_row7_col0\" class=\"data row7 col0\" >Participant Count</td>\n",
       "      <td id=\"T_c7045_row7_col1\" class=\"data row7 col1\" >52277</td>\n",
       "    </tr>\n",
       "    <tr>\n",
       "      <td id=\"T_c7045_row8_col0\" class=\"data row8 col0\" >Number of Variables</td>\n",
       "      <td id=\"T_c7045_row8_col1\" class=\"data row8 col1\" >26</td>\n",
       "    </tr>\n",
       "    <tr>\n",
       "      <td id=\"T_c7045_row9_col0\" class=\"data row9 col0\" >Number of Observations</td>\n",
       "      <td id=\"T_c7045_row9_col1\" class=\"data row9 col1\" >116653</td>\n",
       "    </tr>\n",
       "    <tr>\n",
       "      <td id=\"T_c7045_row10_col0\" class=\"data row10 col0\" >Key Link</td>\n",
       "      <td id=\"T_c7045_row10_col1\" class=\"data row10 col1\" > <a href=\" https://guidebook.ukllc.ac.uk/docs/linked_geo_data/place_based_intro\" rel=\"noopener noreferrer\" target=\"_blank\"> https://guidebook.ukllc.ac.uk/docs/linked_geo_data/place_based_intro</a></td>\n",
       "    </tr>\n",
       "    <tr>\n",
       "      <td id=\"T_c7045_row11_col0\" class=\"data row11 col0\" >Keywords</td>\n",
       "      <td id=\"T_c7045_row11_col1\" class=\"data row11 col1\" >greenness,greenspace,NDVI,vegetation,geospatial,environmental</td>\n",
       "    </tr>\n",
       "    <tr>\n",
       "      <td id=\"T_c7045_row12_col0\" class=\"data row12 col0\" >Latest Extract Date</td>\n",
       "      <td id=\"T_c7045_row12_col1\" class=\"data row12 col1\" >TBC</td>\n",
       "    </tr>\n",
       "    <tr>\n",
       "      <td id=\"T_c7045_row13_col0\" class=\"data row13 col0\" >Specific Restrictions to Data Use</td>\n",
       "      <td id=\"T_c7045_row13_col1\" class=\"data row13 col1\" >None</td>\n",
       "    </tr>\n",
       "    <tr>\n",
       "      <td id=\"T_c7045_row14_col0\" class=\"data row14 col0\" >Build a Data Request</td>\n",
       "      <td id=\"T_c7045_row14_col1\" class=\"data row14 col1\" > <a href=\"https://explore.ukllc.ac.uk/\" rel=\"noopener noreferrer\" target=\"_blank\">https://explore.ukllc.ac.uk/</a></td>\n",
       "    </tr>\n",
       "  </tbody>\n",
       "</table>\n"
      ],
      "text/plain": [
       "<pandas.io.formats.style.Styler at 0x2677fcaca50>"
      ]
     },
     "execution_count": 13,
     "metadata": {},
     "output_type": "execute_result"
    }
   ],
   "source": [
    "DS(\"greenspace_circle_points_2000m_gb_hh\").info_table()"
   ]
  },
  {
   "cell_type": "code",
   "execution_count": 14,
   "id": "b87f6eea",
   "metadata": {
    "tags": [
     "remove-input"
    ]
   },
   "outputs": [
    {
     "data": {
      "text/markdown": [
       "### greenspace_circle_points_2000m_gb_pc"
      ],
      "text/plain": [
       "<IPython.core.display.Markdown object>"
      ]
     },
     "metadata": {},
     "output_type": "display_data"
    }
   ],
   "source": [
    "display(Markdown('### greenspace_circle_points_2000m_gb_pc'))"
   ]
  },
  {
   "cell_type": "code",
   "execution_count": 15,
   "id": "a5eeafd5",
   "metadata": {
    "tags": [
     "remove-input",
     "hide-cell"
    ]
   },
   "outputs": [
    {
     "data": {
      "text/html": [
       "<style type=\"text/css\">\n",
       "#T_48515 th {\n",
       "  text-align: left;\n",
       "}\n",
       "#T_48515_row0_col0, #T_48515_row0_col1, #T_48515_row1_col0, #T_48515_row1_col1, #T_48515_row2_col0, #T_48515_row2_col1, #T_48515_row3_col0, #T_48515_row3_col1, #T_48515_row4_col0, #T_48515_row4_col1, #T_48515_row5_col0, #T_48515_row5_col1, #T_48515_row6_col0, #T_48515_row6_col1, #T_48515_row7_col0, #T_48515_row7_col1, #T_48515_row8_col0, #T_48515_row8_col1, #T_48515_row9_col0, #T_48515_row9_col1, #T_48515_row10_col0, #T_48515_row10_col1, #T_48515_row11_col0, #T_48515_row11_col1, #T_48515_row12_col0, #T_48515_row12_col1, #T_48515_row13_col0, #T_48515_row13_col1, #T_48515_row14_col0, #T_48515_row14_col1 {\n",
       "  text-align: left;\n",
       "}\n",
       "</style>\n",
       "<table id=\"T_48515\" style=\"font-size: 14px\">\n",
       "  <thead>\n",
       "    <tr>\n",
       "      <th id=\"T_48515_level0_col0\" class=\"col_heading level0 col0\" >Dataset Descriptor</th>\n",
       "      <th id=\"T_48515_level0_col1\" class=\"col_heading level0 col1\" >Dataset-specific Information</th>\n",
       "    </tr>\n",
       "  </thead>\n",
       "  <tbody>\n",
       "    <tr>\n",
       "      <td id=\"T_48515_row0_col0\" class=\"data row0 col0\" >Name of Dataset in TRE</td>\n",
       "      <td id=\"T_48515_row0_col1\" class=\"data row0 col1\" >PLACE_greenspace_circle_points_2000m_gb_pc</td>\n",
       "    </tr>\n",
       "    <tr>\n",
       "      <td id=\"T_48515_row1_col0\" class=\"data row1 col0\" >Citation (APA)</td>\n",
       "      <td id=\"T_48515_row1_col1\" class=\"data row1 col1\" >University of Leicester, Centre for Environmental Health and Sustainability. (2025). <i>Place based data: Greenspace Circle Points 2000m Postcode.</i> UK Longitudinal Linkage Collaboration (UK LLC).  <a href=\"https://doi.org/10.71760/ukllc-dataset-00407-01\" rel=\"noopener noreferrer\" target=\"_blank\">https://doi.org/10.71760/ukllc-dataset-00407-01</a></td>\n",
       "    </tr>\n",
       "    <tr>\n",
       "      <td id=\"T_48515_row2_col0\" class=\"data row2 col0\" >Download Citation</td>\n",
       "      <td id=\"T_48515_row2_col1\" class=\"data row2 col1\" > <a href=\"https://api.datacite.org/application/vnd.citationstyles.csl+json/10.71760/ukllc-dataset-00407-01\" rel=\"noopener noreferrer\" target=\"_blank\">Citeproc JSON</a>&nbsp;&nbsp;&nbsp;&nbsp; <a href=\"https://api.datacite.org/application/x-bibtex/10.71760/ukllc-dataset-00407-01\" rel=\"noopener noreferrer\" target=\"_blank\">BibTeX</a>&nbsp;&nbsp;&nbsp;&nbsp; <a href=\"https://api.datacite.org/application/x-research-info-systems/10.71760/ukllc-dataset-00407-01\" rel=\"noopener noreferrer\" target=\"_blank\">RIS</a></td>\n",
       "    </tr>\n",
       "    <tr>\n",
       "      <td id=\"T_48515_row3_col0\" class=\"data row3 col0\" >Owner</td>\n",
       "      <td id=\"T_48515_row3_col1\" class=\"data row3 col1\" >University of Leicester</td>\n",
       "    </tr>\n",
       "    <tr>\n",
       "      <td id=\"T_48515_row4_col0\" class=\"data row4 col0\" >Authors</td>\n",
       "      <td id=\"T_48515_row4_col1\" class=\"data row4 col1\" >Sarah Johnson (University of Leicester)</td>\n",
       "    </tr>\n",
       "    <tr>\n",
       "      <td id=\"T_48515_row5_col0\" class=\"data row5 col0\" >Temporal Coverage</td>\n",
       "      <td id=\"T_48515_row5_col1\" class=\"data row5 col1\" >01/1990 - 12/2020</td>\n",
       "    </tr>\n",
       "    <tr>\n",
       "      <td id=\"T_48515_row6_col0\" class=\"data row6 col0\" >Geographical Coverage</td>\n",
       "      <td id=\"T_48515_row6_col1\" class=\"data row6 col1\" >Great Britain</td>\n",
       "    </tr>\n",
       "    <tr>\n",
       "      <td id=\"T_48515_row7_col0\" class=\"data row7 col0\" >Participant Count</td>\n",
       "      <td id=\"T_48515_row7_col1\" class=\"data row7 col1\" >24401</td>\n",
       "    </tr>\n",
       "    <tr>\n",
       "      <td id=\"T_48515_row8_col0\" class=\"data row8 col0\" >Number of Variables</td>\n",
       "      <td id=\"T_48515_row8_col1\" class=\"data row8 col1\" >26</td>\n",
       "    </tr>\n",
       "    <tr>\n",
       "      <td id=\"T_48515_row9_col0\" class=\"data row9 col0\" >Number of Observations</td>\n",
       "      <td id=\"T_48515_row9_col1\" class=\"data row9 col1\" >39097</td>\n",
       "    </tr>\n",
       "    <tr>\n",
       "      <td id=\"T_48515_row10_col0\" class=\"data row10 col0\" >Key Link</td>\n",
       "      <td id=\"T_48515_row10_col1\" class=\"data row10 col1\" > <a href=\" https://guidebook.ukllc.ac.uk/docs/linked_geo_data/place_based_intro\" rel=\"noopener noreferrer\" target=\"_blank\"> https://guidebook.ukllc.ac.uk/docs/linked_geo_data/place_based_intro</a></td>\n",
       "    </tr>\n",
       "    <tr>\n",
       "      <td id=\"T_48515_row11_col0\" class=\"data row11 col0\" >Keywords</td>\n",
       "      <td id=\"T_48515_row11_col1\" class=\"data row11 col1\" >greenness,greenspace,NDVI,vegetation,geospatial,environmental</td>\n",
       "    </tr>\n",
       "    <tr>\n",
       "      <td id=\"T_48515_row12_col0\" class=\"data row12 col0\" >Latest Extract Date</td>\n",
       "      <td id=\"T_48515_row12_col1\" class=\"data row12 col1\" >TBC</td>\n",
       "    </tr>\n",
       "    <tr>\n",
       "      <td id=\"T_48515_row13_col0\" class=\"data row13 col0\" >Specific Restrictions to Data Use</td>\n",
       "      <td id=\"T_48515_row13_col1\" class=\"data row13 col1\" >None</td>\n",
       "    </tr>\n",
       "    <tr>\n",
       "      <td id=\"T_48515_row14_col0\" class=\"data row14 col0\" >Build a Data Request</td>\n",
       "      <td id=\"T_48515_row14_col1\" class=\"data row14 col1\" > <a href=\"https://explore.ukllc.ac.uk/\" rel=\"noopener noreferrer\" target=\"_blank\">https://explore.ukllc.ac.uk/</a></td>\n",
       "    </tr>\n",
       "  </tbody>\n",
       "</table>\n"
      ],
      "text/plain": [
       "<pandas.io.formats.style.Styler at 0x2677fcacf50>"
      ]
     },
     "execution_count": 15,
     "metadata": {},
     "output_type": "execute_result"
    }
   ],
   "source": [
    "DS(\"greenspace_circle_points_2000m_gb_pc\").info_table()"
   ]
  },
  {
   "cell_type": "code",
   "execution_count": 16,
   "id": "8054d675",
   "metadata": {
    "tags": [
     "remove-input"
    ]
   },
   "outputs": [
    {
     "data": {
      "text/markdown": [
       "### greenspace_circle_points_300m_gb_hh"
      ],
      "text/plain": [
       "<IPython.core.display.Markdown object>"
      ]
     },
     "metadata": {},
     "output_type": "display_data"
    }
   ],
   "source": [
    "display(Markdown('### greenspace_circle_points_300m_gb_hh'))"
   ]
  },
  {
   "cell_type": "code",
   "execution_count": 17,
   "id": "4ce859a9",
   "metadata": {
    "tags": [
     "remove-input",
     "hide-cell"
    ]
   },
   "outputs": [
    {
     "data": {
      "text/html": [
       "<style type=\"text/css\">\n",
       "#T_1b113 th {\n",
       "  text-align: left;\n",
       "}\n",
       "#T_1b113_row0_col0, #T_1b113_row0_col1, #T_1b113_row1_col0, #T_1b113_row1_col1, #T_1b113_row2_col0, #T_1b113_row2_col1, #T_1b113_row3_col0, #T_1b113_row3_col1, #T_1b113_row4_col0, #T_1b113_row4_col1, #T_1b113_row5_col0, #T_1b113_row5_col1, #T_1b113_row6_col0, #T_1b113_row6_col1, #T_1b113_row7_col0, #T_1b113_row7_col1, #T_1b113_row8_col0, #T_1b113_row8_col1, #T_1b113_row9_col0, #T_1b113_row9_col1, #T_1b113_row10_col0, #T_1b113_row10_col1, #T_1b113_row11_col0, #T_1b113_row11_col1, #T_1b113_row12_col0, #T_1b113_row12_col1, #T_1b113_row13_col0, #T_1b113_row13_col1, #T_1b113_row14_col0, #T_1b113_row14_col1 {\n",
       "  text-align: left;\n",
       "}\n",
       "</style>\n",
       "<table id=\"T_1b113\" style=\"font-size: 14px\">\n",
       "  <thead>\n",
       "    <tr>\n",
       "      <th id=\"T_1b113_level0_col0\" class=\"col_heading level0 col0\" >Dataset Descriptor</th>\n",
       "      <th id=\"T_1b113_level0_col1\" class=\"col_heading level0 col1\" >Dataset-specific Information</th>\n",
       "    </tr>\n",
       "  </thead>\n",
       "  <tbody>\n",
       "    <tr>\n",
       "      <td id=\"T_1b113_row0_col0\" class=\"data row0 col0\" >Name of Dataset in TRE</td>\n",
       "      <td id=\"T_1b113_row0_col1\" class=\"data row0 col1\" >PLACE_greenspace_circle_points_300m_gb_hh</td>\n",
       "    </tr>\n",
       "    <tr>\n",
       "      <td id=\"T_1b113_row1_col0\" class=\"data row1 col0\" >Citation (APA)</td>\n",
       "      <td id=\"T_1b113_row1_col1\" class=\"data row1 col1\" >University of Leicester, Centre for Environmental Health and Sustainability. (2025). <i>Place based data: Greenspace Circle Points 300m Household.</i> UK Longitudinal Linkage Collaboration (UK LLC).  <a href=\"https://doi.org/10.71760/ukllc-dataset-00408-01\" rel=\"noopener noreferrer\" target=\"_blank\">https://doi.org/10.71760/ukllc-dataset-00408-01</a></td>\n",
       "    </tr>\n",
       "    <tr>\n",
       "      <td id=\"T_1b113_row2_col0\" class=\"data row2 col0\" >Download Citation</td>\n",
       "      <td id=\"T_1b113_row2_col1\" class=\"data row2 col1\" > <a href=\"https://api.datacite.org/application/vnd.citationstyles.csl+json/10.71760/ukllc-dataset-00408-01\" rel=\"noopener noreferrer\" target=\"_blank\">Citeproc JSON</a>&nbsp;&nbsp;&nbsp;&nbsp; <a href=\"https://api.datacite.org/application/x-bibtex/10.71760/ukllc-dataset-00408-01\" rel=\"noopener noreferrer\" target=\"_blank\">BibTeX</a>&nbsp;&nbsp;&nbsp;&nbsp; <a href=\"https://api.datacite.org/application/x-research-info-systems/10.71760/ukllc-dataset-00408-01\" rel=\"noopener noreferrer\" target=\"_blank\">RIS</a></td>\n",
       "    </tr>\n",
       "    <tr>\n",
       "      <td id=\"T_1b113_row3_col0\" class=\"data row3 col0\" >Owner</td>\n",
       "      <td id=\"T_1b113_row3_col1\" class=\"data row3 col1\" >University of Leicester</td>\n",
       "    </tr>\n",
       "    <tr>\n",
       "      <td id=\"T_1b113_row4_col0\" class=\"data row4 col0\" >Authors</td>\n",
       "      <td id=\"T_1b113_row4_col1\" class=\"data row4 col1\" >Sarah Johnson (University of Leicester)</td>\n",
       "    </tr>\n",
       "    <tr>\n",
       "      <td id=\"T_1b113_row5_col0\" class=\"data row5 col0\" >Temporal Coverage</td>\n",
       "      <td id=\"T_1b113_row5_col1\" class=\"data row5 col1\" >01/1990 - 12/2020</td>\n",
       "    </tr>\n",
       "    <tr>\n",
       "      <td id=\"T_1b113_row6_col0\" class=\"data row6 col0\" >Geographical Coverage</td>\n",
       "      <td id=\"T_1b113_row6_col1\" class=\"data row6 col1\" >Great Britain</td>\n",
       "    </tr>\n",
       "    <tr>\n",
       "      <td id=\"T_1b113_row7_col0\" class=\"data row7 col0\" >Participant Count</td>\n",
       "      <td id=\"T_1b113_row7_col1\" class=\"data row7 col1\" >52277</td>\n",
       "    </tr>\n",
       "    <tr>\n",
       "      <td id=\"T_1b113_row8_col0\" class=\"data row8 col0\" >Number of Variables</td>\n",
       "      <td id=\"T_1b113_row8_col1\" class=\"data row8 col1\" >26</td>\n",
       "    </tr>\n",
       "    <tr>\n",
       "      <td id=\"T_1b113_row9_col0\" class=\"data row9 col0\" >Number of Observations</td>\n",
       "      <td id=\"T_1b113_row9_col1\" class=\"data row9 col1\" >116653</td>\n",
       "    </tr>\n",
       "    <tr>\n",
       "      <td id=\"T_1b113_row10_col0\" class=\"data row10 col0\" >Key Link</td>\n",
       "      <td id=\"T_1b113_row10_col1\" class=\"data row10 col1\" > <a href=\" https://guidebook.ukllc.ac.uk/docs/linked_geo_data/place_based_intro\" rel=\"noopener noreferrer\" target=\"_blank\"> https://guidebook.ukllc.ac.uk/docs/linked_geo_data/place_based_intro</a></td>\n",
       "    </tr>\n",
       "    <tr>\n",
       "      <td id=\"T_1b113_row11_col0\" class=\"data row11 col0\" >Keywords</td>\n",
       "      <td id=\"T_1b113_row11_col1\" class=\"data row11 col1\" >greenness,greenspace,NDVI,vegetation,geospatial,environmental</td>\n",
       "    </tr>\n",
       "    <tr>\n",
       "      <td id=\"T_1b113_row12_col0\" class=\"data row12 col0\" >Latest Extract Date</td>\n",
       "      <td id=\"T_1b113_row12_col1\" class=\"data row12 col1\" >TBC</td>\n",
       "    </tr>\n",
       "    <tr>\n",
       "      <td id=\"T_1b113_row13_col0\" class=\"data row13 col0\" >Specific Restrictions to Data Use</td>\n",
       "      <td id=\"T_1b113_row13_col1\" class=\"data row13 col1\" >None</td>\n",
       "    </tr>\n",
       "    <tr>\n",
       "      <td id=\"T_1b113_row14_col0\" class=\"data row14 col0\" >Build a Data Request</td>\n",
       "      <td id=\"T_1b113_row14_col1\" class=\"data row14 col1\" > <a href=\"https://explore.ukllc.ac.uk/\" rel=\"noopener noreferrer\" target=\"_blank\">https://explore.ukllc.ac.uk/</a></td>\n",
       "    </tr>\n",
       "  </tbody>\n",
       "</table>\n"
      ],
      "text/plain": [
       "<pandas.io.formats.style.Styler at 0x2677fcad310>"
      ]
     },
     "execution_count": 17,
     "metadata": {},
     "output_type": "execute_result"
    }
   ],
   "source": [
    "DS(\"greenspace_circle_points_300m_gb_hh\").info_table()"
   ]
  },
  {
   "cell_type": "code",
   "execution_count": 18,
   "id": "28ef7a36",
   "metadata": {
    "tags": [
     "remove-input"
    ]
   },
   "outputs": [
    {
     "data": {
      "text/markdown": [
       "### greenspace_circle_points_300m_gb_pc"
      ],
      "text/plain": [
       "<IPython.core.display.Markdown object>"
      ]
     },
     "metadata": {},
     "output_type": "display_data"
    }
   ],
   "source": [
    "display(Markdown('### greenspace_circle_points_300m_gb_pc'))"
   ]
  },
  {
   "cell_type": "code",
   "execution_count": 19,
   "id": "7558e744",
   "metadata": {
    "tags": [
     "remove-input",
     "hide-cell"
    ]
   },
   "outputs": [
    {
     "data": {
      "text/html": [
       "<style type=\"text/css\">\n",
       "#T_8ed02 th {\n",
       "  text-align: left;\n",
       "}\n",
       "#T_8ed02_row0_col0, #T_8ed02_row0_col1, #T_8ed02_row1_col0, #T_8ed02_row1_col1, #T_8ed02_row2_col0, #T_8ed02_row2_col1, #T_8ed02_row3_col0, #T_8ed02_row3_col1, #T_8ed02_row4_col0, #T_8ed02_row4_col1, #T_8ed02_row5_col0, #T_8ed02_row5_col1, #T_8ed02_row6_col0, #T_8ed02_row6_col1, #T_8ed02_row7_col0, #T_8ed02_row7_col1, #T_8ed02_row8_col0, #T_8ed02_row8_col1, #T_8ed02_row9_col0, #T_8ed02_row9_col1, #T_8ed02_row10_col0, #T_8ed02_row10_col1, #T_8ed02_row11_col0, #T_8ed02_row11_col1, #T_8ed02_row12_col0, #T_8ed02_row12_col1, #T_8ed02_row13_col0, #T_8ed02_row13_col1, #T_8ed02_row14_col0, #T_8ed02_row14_col1 {\n",
       "  text-align: left;\n",
       "}\n",
       "</style>\n",
       "<table id=\"T_8ed02\" style=\"font-size: 14px\">\n",
       "  <thead>\n",
       "    <tr>\n",
       "      <th id=\"T_8ed02_level0_col0\" class=\"col_heading level0 col0\" >Dataset Descriptor</th>\n",
       "      <th id=\"T_8ed02_level0_col1\" class=\"col_heading level0 col1\" >Dataset-specific Information</th>\n",
       "    </tr>\n",
       "  </thead>\n",
       "  <tbody>\n",
       "    <tr>\n",
       "      <td id=\"T_8ed02_row0_col0\" class=\"data row0 col0\" >Name of Dataset in TRE</td>\n",
       "      <td id=\"T_8ed02_row0_col1\" class=\"data row0 col1\" >PLACE_greenspace_circle_points_300m_gb_pc</td>\n",
       "    </tr>\n",
       "    <tr>\n",
       "      <td id=\"T_8ed02_row1_col0\" class=\"data row1 col0\" >Citation (APA)</td>\n",
       "      <td id=\"T_8ed02_row1_col1\" class=\"data row1 col1\" >University of Leicester, Centre for Environmental Health and Sustainability. (2025). <i>Place based data: Greenspace Circle Points 300m Postcode.</i> UK Longitudinal Linkage Collaboration (UK LLC).  <a href=\"https://doi.org/10.71760/ukllc-dataset-00409-01\" rel=\"noopener noreferrer\" target=\"_blank\">https://doi.org/10.71760/ukllc-dataset-00409-01</a></td>\n",
       "    </tr>\n",
       "    <tr>\n",
       "      <td id=\"T_8ed02_row2_col0\" class=\"data row2 col0\" >Download Citation</td>\n",
       "      <td id=\"T_8ed02_row2_col1\" class=\"data row2 col1\" > <a href=\"https://api.datacite.org/application/vnd.citationstyles.csl+json/10.71760/ukllc-dataset-00409-01\" rel=\"noopener noreferrer\" target=\"_blank\">Citeproc JSON</a>&nbsp;&nbsp;&nbsp;&nbsp; <a href=\"https://api.datacite.org/application/x-bibtex/10.71760/ukllc-dataset-00409-01\" rel=\"noopener noreferrer\" target=\"_blank\">BibTeX</a>&nbsp;&nbsp;&nbsp;&nbsp; <a href=\"https://api.datacite.org/application/x-research-info-systems/10.71760/ukllc-dataset-00409-01\" rel=\"noopener noreferrer\" target=\"_blank\">RIS</a></td>\n",
       "    </tr>\n",
       "    <tr>\n",
       "      <td id=\"T_8ed02_row3_col0\" class=\"data row3 col0\" >Owner</td>\n",
       "      <td id=\"T_8ed02_row3_col1\" class=\"data row3 col1\" >University of Leicester</td>\n",
       "    </tr>\n",
       "    <tr>\n",
       "      <td id=\"T_8ed02_row4_col0\" class=\"data row4 col0\" >Authors</td>\n",
       "      <td id=\"T_8ed02_row4_col1\" class=\"data row4 col1\" >Sarah Johnson (University of Leicester)</td>\n",
       "    </tr>\n",
       "    <tr>\n",
       "      <td id=\"T_8ed02_row5_col0\" class=\"data row5 col0\" >Temporal Coverage</td>\n",
       "      <td id=\"T_8ed02_row5_col1\" class=\"data row5 col1\" >01/1990 - 12/2020</td>\n",
       "    </tr>\n",
       "    <tr>\n",
       "      <td id=\"T_8ed02_row6_col0\" class=\"data row6 col0\" >Geographical Coverage</td>\n",
       "      <td id=\"T_8ed02_row6_col1\" class=\"data row6 col1\" >Great Britain</td>\n",
       "    </tr>\n",
       "    <tr>\n",
       "      <td id=\"T_8ed02_row7_col0\" class=\"data row7 col0\" >Participant Count</td>\n",
       "      <td id=\"T_8ed02_row7_col1\" class=\"data row7 col1\" >24401</td>\n",
       "    </tr>\n",
       "    <tr>\n",
       "      <td id=\"T_8ed02_row8_col0\" class=\"data row8 col0\" >Number of Variables</td>\n",
       "      <td id=\"T_8ed02_row8_col1\" class=\"data row8 col1\" >26</td>\n",
       "    </tr>\n",
       "    <tr>\n",
       "      <td id=\"T_8ed02_row9_col0\" class=\"data row9 col0\" >Number of Observations</td>\n",
       "      <td id=\"T_8ed02_row9_col1\" class=\"data row9 col1\" >39097</td>\n",
       "    </tr>\n",
       "    <tr>\n",
       "      <td id=\"T_8ed02_row10_col0\" class=\"data row10 col0\" >Key Link</td>\n",
       "      <td id=\"T_8ed02_row10_col1\" class=\"data row10 col1\" > <a href=\" https://guidebook.ukllc.ac.uk/docs/linked_geo_data/place_based_intro\" rel=\"noopener noreferrer\" target=\"_blank\"> https://guidebook.ukllc.ac.uk/docs/linked_geo_data/place_based_intro</a></td>\n",
       "    </tr>\n",
       "    <tr>\n",
       "      <td id=\"T_8ed02_row11_col0\" class=\"data row11 col0\" >Keywords</td>\n",
       "      <td id=\"T_8ed02_row11_col1\" class=\"data row11 col1\" >greenness,greenspace,NDVI,vegetation,geospatial,environmental</td>\n",
       "    </tr>\n",
       "    <tr>\n",
       "      <td id=\"T_8ed02_row12_col0\" class=\"data row12 col0\" >Latest Extract Date</td>\n",
       "      <td id=\"T_8ed02_row12_col1\" class=\"data row12 col1\" >TBC</td>\n",
       "    </tr>\n",
       "    <tr>\n",
       "      <td id=\"T_8ed02_row13_col0\" class=\"data row13 col0\" >Specific Restrictions to Data Use</td>\n",
       "      <td id=\"T_8ed02_row13_col1\" class=\"data row13 col1\" >None</td>\n",
       "    </tr>\n",
       "    <tr>\n",
       "      <td id=\"T_8ed02_row14_col0\" class=\"data row14 col0\" >Build a Data Request</td>\n",
       "      <td id=\"T_8ed02_row14_col1\" class=\"data row14 col1\" > <a href=\"https://explore.ukllc.ac.uk/\" rel=\"noopener noreferrer\" target=\"_blank\">https://explore.ukllc.ac.uk/</a></td>\n",
       "    </tr>\n",
       "  </tbody>\n",
       "</table>\n"
      ],
      "text/plain": [
       "<pandas.io.formats.style.Styler at 0x2677fcaead0>"
      ]
     },
     "execution_count": 19,
     "metadata": {},
     "output_type": "execute_result"
    }
   ],
   "source": [
    "DS(\"greenspace_circle_points_300m_gb_pc\").info_table()"
   ]
  },
  {
   "cell_type": "code",
   "execution_count": 20,
   "id": "70927752",
   "metadata": {
    "tags": [
     "remove-input"
    ]
   },
   "outputs": [
    {
     "data": {
      "text/markdown": [
       "### greenspace_circle_points_5000m_gb_hh"
      ],
      "text/plain": [
       "<IPython.core.display.Markdown object>"
      ]
     },
     "metadata": {},
     "output_type": "display_data"
    }
   ],
   "source": [
    "display(Markdown('### greenspace_circle_points_5000m_gb_hh'))"
   ]
  },
  {
   "cell_type": "code",
   "execution_count": 21,
   "id": "c83e2266",
   "metadata": {
    "tags": [
     "remove-input",
     "hide-cell"
    ]
   },
   "outputs": [
    {
     "data": {
      "text/html": [
       "<style type=\"text/css\">\n",
       "#T_d7c58 th {\n",
       "  text-align: left;\n",
       "}\n",
       "#T_d7c58_row0_col0, #T_d7c58_row0_col1, #T_d7c58_row1_col0, #T_d7c58_row1_col1, #T_d7c58_row2_col0, #T_d7c58_row2_col1, #T_d7c58_row3_col0, #T_d7c58_row3_col1, #T_d7c58_row4_col0, #T_d7c58_row4_col1, #T_d7c58_row5_col0, #T_d7c58_row5_col1, #T_d7c58_row6_col0, #T_d7c58_row6_col1, #T_d7c58_row7_col0, #T_d7c58_row7_col1, #T_d7c58_row8_col0, #T_d7c58_row8_col1, #T_d7c58_row9_col0, #T_d7c58_row9_col1, #T_d7c58_row10_col0, #T_d7c58_row10_col1, #T_d7c58_row11_col0, #T_d7c58_row11_col1, #T_d7c58_row12_col0, #T_d7c58_row12_col1, #T_d7c58_row13_col0, #T_d7c58_row13_col1, #T_d7c58_row14_col0, #T_d7c58_row14_col1 {\n",
       "  text-align: left;\n",
       "}\n",
       "</style>\n",
       "<table id=\"T_d7c58\" style=\"font-size: 14px\">\n",
       "  <thead>\n",
       "    <tr>\n",
       "      <th id=\"T_d7c58_level0_col0\" class=\"col_heading level0 col0\" >Dataset Descriptor</th>\n",
       "      <th id=\"T_d7c58_level0_col1\" class=\"col_heading level0 col1\" >Dataset-specific Information</th>\n",
       "    </tr>\n",
       "  </thead>\n",
       "  <tbody>\n",
       "    <tr>\n",
       "      <td id=\"T_d7c58_row0_col0\" class=\"data row0 col0\" >Name of Dataset in TRE</td>\n",
       "      <td id=\"T_d7c58_row0_col1\" class=\"data row0 col1\" >PLACE_greenspace_circle_points_5000m_gb_hh</td>\n",
       "    </tr>\n",
       "    <tr>\n",
       "      <td id=\"T_d7c58_row1_col0\" class=\"data row1 col0\" >Citation (APA)</td>\n",
       "      <td id=\"T_d7c58_row1_col1\" class=\"data row1 col1\" >University of Leicester, Centre for Environmental Health and Sustainability. (2025). <i>Place based data: Greenspace Circle Points 5000m Household.</i> UK Longitudinal Linkage Collaboration (UK LLC).  <a href=\"https://doi.org/10.71760/ukllc-dataset-00410-01\" rel=\"noopener noreferrer\" target=\"_blank\">https://doi.org/10.71760/ukllc-dataset-00410-01</a></td>\n",
       "    </tr>\n",
       "    <tr>\n",
       "      <td id=\"T_d7c58_row2_col0\" class=\"data row2 col0\" >Download Citation</td>\n",
       "      <td id=\"T_d7c58_row2_col1\" class=\"data row2 col1\" > <a href=\"https://api.datacite.org/application/vnd.citationstyles.csl+json/10.71760/ukllc-dataset-00410-01\" rel=\"noopener noreferrer\" target=\"_blank\">Citeproc JSON</a>&nbsp;&nbsp;&nbsp;&nbsp; <a href=\"https://api.datacite.org/application/x-bibtex/10.71760/ukllc-dataset-00410-01\" rel=\"noopener noreferrer\" target=\"_blank\">BibTeX</a>&nbsp;&nbsp;&nbsp;&nbsp; <a href=\"https://api.datacite.org/application/x-research-info-systems/10.71760/ukllc-dataset-00410-01\" rel=\"noopener noreferrer\" target=\"_blank\">RIS</a></td>\n",
       "    </tr>\n",
       "    <tr>\n",
       "      <td id=\"T_d7c58_row3_col0\" class=\"data row3 col0\" >Owner</td>\n",
       "      <td id=\"T_d7c58_row3_col1\" class=\"data row3 col1\" >University of Leicester</td>\n",
       "    </tr>\n",
       "    <tr>\n",
       "      <td id=\"T_d7c58_row4_col0\" class=\"data row4 col0\" >Authors</td>\n",
       "      <td id=\"T_d7c58_row4_col1\" class=\"data row4 col1\" >Sarah Johnson (University of Leicester)</td>\n",
       "    </tr>\n",
       "    <tr>\n",
       "      <td id=\"T_d7c58_row5_col0\" class=\"data row5 col0\" >Temporal Coverage</td>\n",
       "      <td id=\"T_d7c58_row5_col1\" class=\"data row5 col1\" >01/1990 - 12/2020</td>\n",
       "    </tr>\n",
       "    <tr>\n",
       "      <td id=\"T_d7c58_row6_col0\" class=\"data row6 col0\" >Geographical Coverage</td>\n",
       "      <td id=\"T_d7c58_row6_col1\" class=\"data row6 col1\" >Great Britain</td>\n",
       "    </tr>\n",
       "    <tr>\n",
       "      <td id=\"T_d7c58_row7_col0\" class=\"data row7 col0\" >Participant Count</td>\n",
       "      <td id=\"T_d7c58_row7_col1\" class=\"data row7 col1\" >52277</td>\n",
       "    </tr>\n",
       "    <tr>\n",
       "      <td id=\"T_d7c58_row8_col0\" class=\"data row8 col0\" >Number of Variables</td>\n",
       "      <td id=\"T_d7c58_row8_col1\" class=\"data row8 col1\" >14</td>\n",
       "    </tr>\n",
       "    <tr>\n",
       "      <td id=\"T_d7c58_row9_col0\" class=\"data row9 col0\" >Number of Observations</td>\n",
       "      <td id=\"T_d7c58_row9_col1\" class=\"data row9 col1\" >116653</td>\n",
       "    </tr>\n",
       "    <tr>\n",
       "      <td id=\"T_d7c58_row10_col0\" class=\"data row10 col0\" >Key Link</td>\n",
       "      <td id=\"T_d7c58_row10_col1\" class=\"data row10 col1\" > <a href=\" https://guidebook.ukllc.ac.uk/docs/linked_geo_data/place_based_intro\" rel=\"noopener noreferrer\" target=\"_blank\"> https://guidebook.ukllc.ac.uk/docs/linked_geo_data/place_based_intro</a></td>\n",
       "    </tr>\n",
       "    <tr>\n",
       "      <td id=\"T_d7c58_row11_col0\" class=\"data row11 col0\" >Keywords</td>\n",
       "      <td id=\"T_d7c58_row11_col1\" class=\"data row11 col1\" >greenness,greenspace,NDVI,vegetation,geospatial,environmental</td>\n",
       "    </tr>\n",
       "    <tr>\n",
       "      <td id=\"T_d7c58_row12_col0\" class=\"data row12 col0\" >Latest Extract Date</td>\n",
       "      <td id=\"T_d7c58_row12_col1\" class=\"data row12 col1\" >TBC</td>\n",
       "    </tr>\n",
       "    <tr>\n",
       "      <td id=\"T_d7c58_row13_col0\" class=\"data row13 col0\" >Specific Restrictions to Data Use</td>\n",
       "      <td id=\"T_d7c58_row13_col1\" class=\"data row13 col1\" >None</td>\n",
       "    </tr>\n",
       "    <tr>\n",
       "      <td id=\"T_d7c58_row14_col0\" class=\"data row14 col0\" >Build a Data Request</td>\n",
       "      <td id=\"T_d7c58_row14_col1\" class=\"data row14 col1\" > <a href=\"https://explore.ukllc.ac.uk/\" rel=\"noopener noreferrer\" target=\"_blank\">https://explore.ukllc.ac.uk/</a></td>\n",
       "    </tr>\n",
       "  </tbody>\n",
       "</table>\n"
      ],
      "text/plain": [
       "<pandas.io.formats.style.Styler at 0x2677fcaec10>"
      ]
     },
     "execution_count": 21,
     "metadata": {},
     "output_type": "execute_result"
    }
   ],
   "source": [
    "DS(\"greenspace_circle_points_5000m_gb_hh\").info_table()"
   ]
  },
  {
   "cell_type": "code",
   "execution_count": 22,
   "id": "b477dfb0",
   "metadata": {
    "tags": [
     "remove-input"
    ]
   },
   "outputs": [
    {
     "data": {
      "text/markdown": [
       "### greenspace_circle_points_5000m_gb_pc"
      ],
      "text/plain": [
       "<IPython.core.display.Markdown object>"
      ]
     },
     "metadata": {},
     "output_type": "display_data"
    }
   ],
   "source": [
    "display(Markdown('### greenspace_circle_points_5000m_gb_pc'))"
   ]
  },
  {
   "cell_type": "code",
   "execution_count": 23,
   "id": "52c13ba4",
   "metadata": {
    "tags": [
     "remove-input",
     "hide-cell"
    ]
   },
   "outputs": [
    {
     "data": {
      "text/html": [
       "<style type=\"text/css\">\n",
       "#T_9826d th {\n",
       "  text-align: left;\n",
       "}\n",
       "#T_9826d_row0_col0, #T_9826d_row0_col1, #T_9826d_row1_col0, #T_9826d_row1_col1, #T_9826d_row2_col0, #T_9826d_row2_col1, #T_9826d_row3_col0, #T_9826d_row3_col1, #T_9826d_row4_col0, #T_9826d_row4_col1, #T_9826d_row5_col0, #T_9826d_row5_col1, #T_9826d_row6_col0, #T_9826d_row6_col1, #T_9826d_row7_col0, #T_9826d_row7_col1, #T_9826d_row8_col0, #T_9826d_row8_col1, #T_9826d_row9_col0, #T_9826d_row9_col1, #T_9826d_row10_col0, #T_9826d_row10_col1, #T_9826d_row11_col0, #T_9826d_row11_col1, #T_9826d_row12_col0, #T_9826d_row12_col1, #T_9826d_row13_col0, #T_9826d_row13_col1, #T_9826d_row14_col0, #T_9826d_row14_col1 {\n",
       "  text-align: left;\n",
       "}\n",
       "</style>\n",
       "<table id=\"T_9826d\" style=\"font-size: 14px\">\n",
       "  <thead>\n",
       "    <tr>\n",
       "      <th id=\"T_9826d_level0_col0\" class=\"col_heading level0 col0\" >Dataset Descriptor</th>\n",
       "      <th id=\"T_9826d_level0_col1\" class=\"col_heading level0 col1\" >Dataset-specific Information</th>\n",
       "    </tr>\n",
       "  </thead>\n",
       "  <tbody>\n",
       "    <tr>\n",
       "      <td id=\"T_9826d_row0_col0\" class=\"data row0 col0\" >Name of Dataset in TRE</td>\n",
       "      <td id=\"T_9826d_row0_col1\" class=\"data row0 col1\" >PLACE_greenspace_circle_points_5000m_gb_pc</td>\n",
       "    </tr>\n",
       "    <tr>\n",
       "      <td id=\"T_9826d_row1_col0\" class=\"data row1 col0\" >Citation (APA)</td>\n",
       "      <td id=\"T_9826d_row1_col1\" class=\"data row1 col1\" >University of Leicester, Centre for Environmental Health and Sustainability. (2025). <i>Place based data: Greenspace Circle Points 5000m Postcode.</i> UK Longitudinal Linkage Collaboration (UK LLC).  <a href=\"https://doi.org/10.71760/ukllc-dataset-00411-01\" rel=\"noopener noreferrer\" target=\"_blank\">https://doi.org/10.71760/ukllc-dataset-00411-01</a></td>\n",
       "    </tr>\n",
       "    <tr>\n",
       "      <td id=\"T_9826d_row2_col0\" class=\"data row2 col0\" >Download Citation</td>\n",
       "      <td id=\"T_9826d_row2_col1\" class=\"data row2 col1\" > <a href=\"https://api.datacite.org/application/vnd.citationstyles.csl+json/10.71760/ukllc-dataset-00411-01\" rel=\"noopener noreferrer\" target=\"_blank\">Citeproc JSON</a>&nbsp;&nbsp;&nbsp;&nbsp; <a href=\"https://api.datacite.org/application/x-bibtex/10.71760/ukllc-dataset-00411-01\" rel=\"noopener noreferrer\" target=\"_blank\">BibTeX</a>&nbsp;&nbsp;&nbsp;&nbsp; <a href=\"https://api.datacite.org/application/x-research-info-systems/10.71760/ukllc-dataset-00411-01\" rel=\"noopener noreferrer\" target=\"_blank\">RIS</a></td>\n",
       "    </tr>\n",
       "    <tr>\n",
       "      <td id=\"T_9826d_row3_col0\" class=\"data row3 col0\" >Owner</td>\n",
       "      <td id=\"T_9826d_row3_col1\" class=\"data row3 col1\" >University of Leicester</td>\n",
       "    </tr>\n",
       "    <tr>\n",
       "      <td id=\"T_9826d_row4_col0\" class=\"data row4 col0\" >Authors</td>\n",
       "      <td id=\"T_9826d_row4_col1\" class=\"data row4 col1\" >Sarah Johnson (University of Leicester)</td>\n",
       "    </tr>\n",
       "    <tr>\n",
       "      <td id=\"T_9826d_row5_col0\" class=\"data row5 col0\" >Temporal Coverage</td>\n",
       "      <td id=\"T_9826d_row5_col1\" class=\"data row5 col1\" >01/1990 - 12/2020</td>\n",
       "    </tr>\n",
       "    <tr>\n",
       "      <td id=\"T_9826d_row6_col0\" class=\"data row6 col0\" >Geographical Coverage</td>\n",
       "      <td id=\"T_9826d_row6_col1\" class=\"data row6 col1\" >Great Britain</td>\n",
       "    </tr>\n",
       "    <tr>\n",
       "      <td id=\"T_9826d_row7_col0\" class=\"data row7 col0\" >Participant Count</td>\n",
       "      <td id=\"T_9826d_row7_col1\" class=\"data row7 col1\" >24401</td>\n",
       "    </tr>\n",
       "    <tr>\n",
       "      <td id=\"T_9826d_row8_col0\" class=\"data row8 col0\" >Number of Variables</td>\n",
       "      <td id=\"T_9826d_row8_col1\" class=\"data row8 col1\" >14</td>\n",
       "    </tr>\n",
       "    <tr>\n",
       "      <td id=\"T_9826d_row9_col0\" class=\"data row9 col0\" >Number of Observations</td>\n",
       "      <td id=\"T_9826d_row9_col1\" class=\"data row9 col1\" >39097</td>\n",
       "    </tr>\n",
       "    <tr>\n",
       "      <td id=\"T_9826d_row10_col0\" class=\"data row10 col0\" >Key Link</td>\n",
       "      <td id=\"T_9826d_row10_col1\" class=\"data row10 col1\" > <a href=\" https://guidebook.ukllc.ac.uk/docs/linked_geo_data/place_based_intro\" rel=\"noopener noreferrer\" target=\"_blank\"> https://guidebook.ukllc.ac.uk/docs/linked_geo_data/place_based_intro</a></td>\n",
       "    </tr>\n",
       "    <tr>\n",
       "      <td id=\"T_9826d_row11_col0\" class=\"data row11 col0\" >Keywords</td>\n",
       "      <td id=\"T_9826d_row11_col1\" class=\"data row11 col1\" >greenness,greenspace,NDVI,vegetation,geospatial,environmental</td>\n",
       "    </tr>\n",
       "    <tr>\n",
       "      <td id=\"T_9826d_row12_col0\" class=\"data row12 col0\" >Latest Extract Date</td>\n",
       "      <td id=\"T_9826d_row12_col1\" class=\"data row12 col1\" >TBC</td>\n",
       "    </tr>\n",
       "    <tr>\n",
       "      <td id=\"T_9826d_row13_col0\" class=\"data row13 col0\" >Specific Restrictions to Data Use</td>\n",
       "      <td id=\"T_9826d_row13_col1\" class=\"data row13 col1\" >None</td>\n",
       "    </tr>\n",
       "    <tr>\n",
       "      <td id=\"T_9826d_row14_col0\" class=\"data row14 col0\" >Build a Data Request</td>\n",
       "      <td id=\"T_9826d_row14_col1\" class=\"data row14 col1\" > <a href=\"https://explore.ukllc.ac.uk/\" rel=\"noopener noreferrer\" target=\"_blank\">https://explore.ukllc.ac.uk/</a></td>\n",
       "    </tr>\n",
       "  </tbody>\n",
       "</table>\n"
      ],
      "text/plain": [
       "<pandas.io.formats.style.Styler at 0x2677fcaed50>"
      ]
     },
     "execution_count": 23,
     "metadata": {},
     "output_type": "execute_result"
    }
   ],
   "source": [
    "DS(\"greenspace_circle_points_5000m_gb_pc\").info_table()"
   ]
  },
  {
   "cell_type": "code",
   "execution_count": 24,
   "id": "2f374e3d",
   "metadata": {
    "tags": [
     "remove-input"
    ]
   },
   "outputs": [
    {
     "data": {
      "text/markdown": [
       "### greenspace_circle_points_500m_gb_hh"
      ],
      "text/plain": [
       "<IPython.core.display.Markdown object>"
      ]
     },
     "metadata": {},
     "output_type": "display_data"
    }
   ],
   "source": [
    "display(Markdown('### greenspace_circle_points_500m_gb_hh'))"
   ]
  },
  {
   "cell_type": "code",
   "execution_count": 25,
   "id": "d06c6abe",
   "metadata": {
    "tags": [
     "remove-input",
     "hide-cell"
    ]
   },
   "outputs": [
    {
     "data": {
      "text/html": [
       "<style type=\"text/css\">\n",
       "#T_43ba1 th {\n",
       "  text-align: left;\n",
       "}\n",
       "#T_43ba1_row0_col0, #T_43ba1_row0_col1, #T_43ba1_row1_col0, #T_43ba1_row1_col1, #T_43ba1_row2_col0, #T_43ba1_row2_col1, #T_43ba1_row3_col0, #T_43ba1_row3_col1, #T_43ba1_row4_col0, #T_43ba1_row4_col1, #T_43ba1_row5_col0, #T_43ba1_row5_col1, #T_43ba1_row6_col0, #T_43ba1_row6_col1, #T_43ba1_row7_col0, #T_43ba1_row7_col1, #T_43ba1_row8_col0, #T_43ba1_row8_col1, #T_43ba1_row9_col0, #T_43ba1_row9_col1, #T_43ba1_row10_col0, #T_43ba1_row10_col1, #T_43ba1_row11_col0, #T_43ba1_row11_col1, #T_43ba1_row12_col0, #T_43ba1_row12_col1, #T_43ba1_row13_col0, #T_43ba1_row13_col1, #T_43ba1_row14_col0, #T_43ba1_row14_col1 {\n",
       "  text-align: left;\n",
       "}\n",
       "</style>\n",
       "<table id=\"T_43ba1\" style=\"font-size: 14px\">\n",
       "  <thead>\n",
       "    <tr>\n",
       "      <th id=\"T_43ba1_level0_col0\" class=\"col_heading level0 col0\" >Dataset Descriptor</th>\n",
       "      <th id=\"T_43ba1_level0_col1\" class=\"col_heading level0 col1\" >Dataset-specific Information</th>\n",
       "    </tr>\n",
       "  </thead>\n",
       "  <tbody>\n",
       "    <tr>\n",
       "      <td id=\"T_43ba1_row0_col0\" class=\"data row0 col0\" >Name of Dataset in TRE</td>\n",
       "      <td id=\"T_43ba1_row0_col1\" class=\"data row0 col1\" >PLACE_greenspace_circle_points_500m_gb_hh</td>\n",
       "    </tr>\n",
       "    <tr>\n",
       "      <td id=\"T_43ba1_row1_col0\" class=\"data row1 col0\" >Citation (APA)</td>\n",
       "      <td id=\"T_43ba1_row1_col1\" class=\"data row1 col1\" >University of Leicester, Centre for Environmental Health and Sustainability. (2025). <i>Place based data: Greenspace Circle Points 500m Household.</i> UK Longitudinal Linkage Collaboration (UK LLC).  <a href=\"https://doi.org/10.71760/ukllc-dataset-00412-01\" rel=\"noopener noreferrer\" target=\"_blank\">https://doi.org/10.71760/ukllc-dataset-00412-01</a></td>\n",
       "    </tr>\n",
       "    <tr>\n",
       "      <td id=\"T_43ba1_row2_col0\" class=\"data row2 col0\" >Download Citation</td>\n",
       "      <td id=\"T_43ba1_row2_col1\" class=\"data row2 col1\" > <a href=\"https://api.datacite.org/application/vnd.citationstyles.csl+json/10.71760/ukllc-dataset-00412-01\" rel=\"noopener noreferrer\" target=\"_blank\">Citeproc JSON</a>&nbsp;&nbsp;&nbsp;&nbsp; <a href=\"https://api.datacite.org/application/x-bibtex/10.71760/ukllc-dataset-00412-01\" rel=\"noopener noreferrer\" target=\"_blank\">BibTeX</a>&nbsp;&nbsp;&nbsp;&nbsp; <a href=\"https://api.datacite.org/application/x-research-info-systems/10.71760/ukllc-dataset-00412-01\" rel=\"noopener noreferrer\" target=\"_blank\">RIS</a></td>\n",
       "    </tr>\n",
       "    <tr>\n",
       "      <td id=\"T_43ba1_row3_col0\" class=\"data row3 col0\" >Owner</td>\n",
       "      <td id=\"T_43ba1_row3_col1\" class=\"data row3 col1\" >University of Leicester</td>\n",
       "    </tr>\n",
       "    <tr>\n",
       "      <td id=\"T_43ba1_row4_col0\" class=\"data row4 col0\" >Authors</td>\n",
       "      <td id=\"T_43ba1_row4_col1\" class=\"data row4 col1\" >Sarah Johnson (University of Leicester)</td>\n",
       "    </tr>\n",
       "    <tr>\n",
       "      <td id=\"T_43ba1_row5_col0\" class=\"data row5 col0\" >Temporal Coverage</td>\n",
       "      <td id=\"T_43ba1_row5_col1\" class=\"data row5 col1\" >01/1990 - 12/2020</td>\n",
       "    </tr>\n",
       "    <tr>\n",
       "      <td id=\"T_43ba1_row6_col0\" class=\"data row6 col0\" >Geographical Coverage</td>\n",
       "      <td id=\"T_43ba1_row6_col1\" class=\"data row6 col1\" >Great Britain</td>\n",
       "    </tr>\n",
       "    <tr>\n",
       "      <td id=\"T_43ba1_row7_col0\" class=\"data row7 col0\" >Participant Count</td>\n",
       "      <td id=\"T_43ba1_row7_col1\" class=\"data row7 col1\" >52277</td>\n",
       "    </tr>\n",
       "    <tr>\n",
       "      <td id=\"T_43ba1_row8_col0\" class=\"data row8 col0\" >Number of Variables</td>\n",
       "      <td id=\"T_43ba1_row8_col1\" class=\"data row8 col1\" >26</td>\n",
       "    </tr>\n",
       "    <tr>\n",
       "      <td id=\"T_43ba1_row9_col0\" class=\"data row9 col0\" >Number of Observations</td>\n",
       "      <td id=\"T_43ba1_row9_col1\" class=\"data row9 col1\" >116653</td>\n",
       "    </tr>\n",
       "    <tr>\n",
       "      <td id=\"T_43ba1_row10_col0\" class=\"data row10 col0\" >Key Link</td>\n",
       "      <td id=\"T_43ba1_row10_col1\" class=\"data row10 col1\" > <a href=\" https://guidebook.ukllc.ac.uk/docs/linked_geo_data/place_based_intro\" rel=\"noopener noreferrer\" target=\"_blank\"> https://guidebook.ukllc.ac.uk/docs/linked_geo_data/place_based_intro</a></td>\n",
       "    </tr>\n",
       "    <tr>\n",
       "      <td id=\"T_43ba1_row11_col0\" class=\"data row11 col0\" >Keywords</td>\n",
       "      <td id=\"T_43ba1_row11_col1\" class=\"data row11 col1\" >greenness,greenspace,NDVI,vegetation,geospatial,environmental</td>\n",
       "    </tr>\n",
       "    <tr>\n",
       "      <td id=\"T_43ba1_row12_col0\" class=\"data row12 col0\" >Latest Extract Date</td>\n",
       "      <td id=\"T_43ba1_row12_col1\" class=\"data row12 col1\" >TBC</td>\n",
       "    </tr>\n",
       "    <tr>\n",
       "      <td id=\"T_43ba1_row13_col0\" class=\"data row13 col0\" >Specific Restrictions to Data Use</td>\n",
       "      <td id=\"T_43ba1_row13_col1\" class=\"data row13 col1\" >None</td>\n",
       "    </tr>\n",
       "    <tr>\n",
       "      <td id=\"T_43ba1_row14_col0\" class=\"data row14 col0\" >Build a Data Request</td>\n",
       "      <td id=\"T_43ba1_row14_col1\" class=\"data row14 col1\" > <a href=\"https://explore.ukllc.ac.uk/\" rel=\"noopener noreferrer\" target=\"_blank\">https://explore.ukllc.ac.uk/</a></td>\n",
       "    </tr>\n",
       "  </tbody>\n",
       "</table>\n"
      ],
      "text/plain": [
       "<pandas.io.formats.style.Styler at 0x2677fcaee90>"
      ]
     },
     "execution_count": 25,
     "metadata": {},
     "output_type": "execute_result"
    }
   ],
   "source": [
    "DS(\"greenspace_circle_points_500m_gb_hh\").info_table()"
   ]
  },
  {
   "cell_type": "code",
   "execution_count": 26,
   "id": "c4285f9b",
   "metadata": {
    "tags": [
     "remove-input"
    ]
   },
   "outputs": [
    {
     "data": {
      "text/markdown": [
       "### greenspace_circle_points_500m_gb_pc"
      ],
      "text/plain": [
       "<IPython.core.display.Markdown object>"
      ]
     },
     "metadata": {},
     "output_type": "display_data"
    }
   ],
   "source": [
    "display(Markdown('### greenspace_circle_points_500m_gb_pc'))"
   ]
  },
  {
   "cell_type": "code",
   "execution_count": 27,
   "id": "04a6984c",
   "metadata": {
    "tags": [
     "remove-input",
     "hide-cell"
    ]
   },
   "outputs": [
    {
     "data": {
      "text/html": [
       "<style type=\"text/css\">\n",
       "#T_3d4bd th {\n",
       "  text-align: left;\n",
       "}\n",
       "#T_3d4bd_row0_col0, #T_3d4bd_row0_col1, #T_3d4bd_row1_col0, #T_3d4bd_row1_col1, #T_3d4bd_row2_col0, #T_3d4bd_row2_col1, #T_3d4bd_row3_col0, #T_3d4bd_row3_col1, #T_3d4bd_row4_col0, #T_3d4bd_row4_col1, #T_3d4bd_row5_col0, #T_3d4bd_row5_col1, #T_3d4bd_row6_col0, #T_3d4bd_row6_col1, #T_3d4bd_row7_col0, #T_3d4bd_row7_col1, #T_3d4bd_row8_col0, #T_3d4bd_row8_col1, #T_3d4bd_row9_col0, #T_3d4bd_row9_col1, #T_3d4bd_row10_col0, #T_3d4bd_row10_col1, #T_3d4bd_row11_col0, #T_3d4bd_row11_col1, #T_3d4bd_row12_col0, #T_3d4bd_row12_col1, #T_3d4bd_row13_col0, #T_3d4bd_row13_col1, #T_3d4bd_row14_col0, #T_3d4bd_row14_col1 {\n",
       "  text-align: left;\n",
       "}\n",
       "</style>\n",
       "<table id=\"T_3d4bd\" style=\"font-size: 14px\">\n",
       "  <thead>\n",
       "    <tr>\n",
       "      <th id=\"T_3d4bd_level0_col0\" class=\"col_heading level0 col0\" >Dataset Descriptor</th>\n",
       "      <th id=\"T_3d4bd_level0_col1\" class=\"col_heading level0 col1\" >Dataset-specific Information</th>\n",
       "    </tr>\n",
       "  </thead>\n",
       "  <tbody>\n",
       "    <tr>\n",
       "      <td id=\"T_3d4bd_row0_col0\" class=\"data row0 col0\" >Name of Dataset in TRE</td>\n",
       "      <td id=\"T_3d4bd_row0_col1\" class=\"data row0 col1\" >PLACE_greenspace_circle_points_500m_gb_pc</td>\n",
       "    </tr>\n",
       "    <tr>\n",
       "      <td id=\"T_3d4bd_row1_col0\" class=\"data row1 col0\" >Citation (APA)</td>\n",
       "      <td id=\"T_3d4bd_row1_col1\" class=\"data row1 col1\" >University of Leicester, Centre for Environmental Health and Sustainability. (2025). <i>Place based data: Greenspace Circle Points 500m Postcode.</i> UK Longitudinal Linkage Collaboration (UK LLC).  <a href=\"https://doi.org/10.71760/ukllc-dataset-00413-01\" rel=\"noopener noreferrer\" target=\"_blank\">https://doi.org/10.71760/ukllc-dataset-00413-01</a></td>\n",
       "    </tr>\n",
       "    <tr>\n",
       "      <td id=\"T_3d4bd_row2_col0\" class=\"data row2 col0\" >Download Citation</td>\n",
       "      <td id=\"T_3d4bd_row2_col1\" class=\"data row2 col1\" > <a href=\"https://api.datacite.org/application/vnd.citationstyles.csl+json/10.71760/ukllc-dataset-00413-01\" rel=\"noopener noreferrer\" target=\"_blank\">Citeproc JSON</a>&nbsp;&nbsp;&nbsp;&nbsp; <a href=\"https://api.datacite.org/application/x-bibtex/10.71760/ukllc-dataset-00413-01\" rel=\"noopener noreferrer\" target=\"_blank\">BibTeX</a>&nbsp;&nbsp;&nbsp;&nbsp; <a href=\"https://api.datacite.org/application/x-research-info-systems/10.71760/ukllc-dataset-00413-01\" rel=\"noopener noreferrer\" target=\"_blank\">RIS</a></td>\n",
       "    </tr>\n",
       "    <tr>\n",
       "      <td id=\"T_3d4bd_row3_col0\" class=\"data row3 col0\" >Owner</td>\n",
       "      <td id=\"T_3d4bd_row3_col1\" class=\"data row3 col1\" >University of Leicester</td>\n",
       "    </tr>\n",
       "    <tr>\n",
       "      <td id=\"T_3d4bd_row4_col0\" class=\"data row4 col0\" >Authors</td>\n",
       "      <td id=\"T_3d4bd_row4_col1\" class=\"data row4 col1\" >Sarah Johnson (University of Leicester)</td>\n",
       "    </tr>\n",
       "    <tr>\n",
       "      <td id=\"T_3d4bd_row5_col0\" class=\"data row5 col0\" >Temporal Coverage</td>\n",
       "      <td id=\"T_3d4bd_row5_col1\" class=\"data row5 col1\" >01/1990 - 12/2020</td>\n",
       "    </tr>\n",
       "    <tr>\n",
       "      <td id=\"T_3d4bd_row6_col0\" class=\"data row6 col0\" >Geographical Coverage</td>\n",
       "      <td id=\"T_3d4bd_row6_col1\" class=\"data row6 col1\" >Great Britain</td>\n",
       "    </tr>\n",
       "    <tr>\n",
       "      <td id=\"T_3d4bd_row7_col0\" class=\"data row7 col0\" >Participant Count</td>\n",
       "      <td id=\"T_3d4bd_row7_col1\" class=\"data row7 col1\" >24401</td>\n",
       "    </tr>\n",
       "    <tr>\n",
       "      <td id=\"T_3d4bd_row8_col0\" class=\"data row8 col0\" >Number of Variables</td>\n",
       "      <td id=\"T_3d4bd_row8_col1\" class=\"data row8 col1\" >26</td>\n",
       "    </tr>\n",
       "    <tr>\n",
       "      <td id=\"T_3d4bd_row9_col0\" class=\"data row9 col0\" >Number of Observations</td>\n",
       "      <td id=\"T_3d4bd_row9_col1\" class=\"data row9 col1\" >39097</td>\n",
       "    </tr>\n",
       "    <tr>\n",
       "      <td id=\"T_3d4bd_row10_col0\" class=\"data row10 col0\" >Key Link</td>\n",
       "      <td id=\"T_3d4bd_row10_col1\" class=\"data row10 col1\" > <a href=\" https://guidebook.ukllc.ac.uk/docs/linked_geo_data/place_based_intro\" rel=\"noopener noreferrer\" target=\"_blank\"> https://guidebook.ukllc.ac.uk/docs/linked_geo_data/place_based_intro</a></td>\n",
       "    </tr>\n",
       "    <tr>\n",
       "      <td id=\"T_3d4bd_row11_col0\" class=\"data row11 col0\" >Keywords</td>\n",
       "      <td id=\"T_3d4bd_row11_col1\" class=\"data row11 col1\" >greenness,greenspace,NDVI,vegetation,geospatial,environmental</td>\n",
       "    </tr>\n",
       "    <tr>\n",
       "      <td id=\"T_3d4bd_row12_col0\" class=\"data row12 col0\" >Latest Extract Date</td>\n",
       "      <td id=\"T_3d4bd_row12_col1\" class=\"data row12 col1\" >TBC</td>\n",
       "    </tr>\n",
       "    <tr>\n",
       "      <td id=\"T_3d4bd_row13_col0\" class=\"data row13 col0\" >Specific Restrictions to Data Use</td>\n",
       "      <td id=\"T_3d4bd_row13_col1\" class=\"data row13 col1\" >None</td>\n",
       "    </tr>\n",
       "    <tr>\n",
       "      <td id=\"T_3d4bd_row14_col0\" class=\"data row14 col0\" >Build a Data Request</td>\n",
       "      <td id=\"T_3d4bd_row14_col1\" class=\"data row14 col1\" > <a href=\"https://explore.ukllc.ac.uk/\" rel=\"noopener noreferrer\" target=\"_blank\">https://explore.ukllc.ac.uk/</a></td>\n",
       "    </tr>\n",
       "  </tbody>\n",
       "</table>\n"
      ],
      "text/plain": [
       "<pandas.io.formats.style.Styler at 0x2677fcaefd0>"
      ]
     },
     "execution_count": 27,
     "metadata": {},
     "output_type": "execute_result"
    }
   ],
   "source": [
    "DS(\"greenspace_circle_points_500m_gb_pc\").info_table()"
   ]
  },
  {
   "cell_type": "code",
   "execution_count": 28,
   "id": "bbba7adb",
   "metadata": {
    "tags": [
     "remove-input"
    ]
   },
   "outputs": [
    {
     "data": {
      "text/markdown": [
       "### greenspace_polygon_points_1000m_gb_hh"
      ],
      "text/plain": [
       "<IPython.core.display.Markdown object>"
      ]
     },
     "metadata": {},
     "output_type": "display_data"
    }
   ],
   "source": [
    "display(Markdown('### greenspace_polygon_points_1000m_gb_hh'))"
   ]
  },
  {
   "cell_type": "code",
   "execution_count": 29,
   "id": "8578bde4",
   "metadata": {
    "tags": [
     "remove-input",
     "hide-cell"
    ]
   },
   "outputs": [
    {
     "data": {
      "text/html": [
       "<style type=\"text/css\">\n",
       "#T_1ed88 th {\n",
       "  text-align: left;\n",
       "}\n",
       "#T_1ed88_row0_col0, #T_1ed88_row0_col1, #T_1ed88_row1_col0, #T_1ed88_row1_col1, #T_1ed88_row2_col0, #T_1ed88_row2_col1, #T_1ed88_row3_col0, #T_1ed88_row3_col1, #T_1ed88_row4_col0, #T_1ed88_row4_col1, #T_1ed88_row5_col0, #T_1ed88_row5_col1, #T_1ed88_row6_col0, #T_1ed88_row6_col1, #T_1ed88_row7_col0, #T_1ed88_row7_col1, #T_1ed88_row8_col0, #T_1ed88_row8_col1, #T_1ed88_row9_col0, #T_1ed88_row9_col1, #T_1ed88_row10_col0, #T_1ed88_row10_col1, #T_1ed88_row11_col0, #T_1ed88_row11_col1, #T_1ed88_row12_col0, #T_1ed88_row12_col1, #T_1ed88_row13_col0, #T_1ed88_row13_col1, #T_1ed88_row14_col0, #T_1ed88_row14_col1 {\n",
       "  text-align: left;\n",
       "}\n",
       "</style>\n",
       "<table id=\"T_1ed88\" style=\"font-size: 14px\">\n",
       "  <thead>\n",
       "    <tr>\n",
       "      <th id=\"T_1ed88_level0_col0\" class=\"col_heading level0 col0\" >Dataset Descriptor</th>\n",
       "      <th id=\"T_1ed88_level0_col1\" class=\"col_heading level0 col1\" >Dataset-specific Information</th>\n",
       "    </tr>\n",
       "  </thead>\n",
       "  <tbody>\n",
       "    <tr>\n",
       "      <td id=\"T_1ed88_row0_col0\" class=\"data row0 col0\" >Name of Dataset in TRE</td>\n",
       "      <td id=\"T_1ed88_row0_col1\" class=\"data row0 col1\" >PLACE_greenspace_polygon_points_1000m_gb_hh</td>\n",
       "    </tr>\n",
       "    <tr>\n",
       "      <td id=\"T_1ed88_row1_col0\" class=\"data row1 col0\" >Citation (APA)</td>\n",
       "      <td id=\"T_1ed88_row1_col1\" class=\"data row1 col1\" >University of Leicester, Centre for Environmental Health and Sustainability. (2025). <i>Place based data: Greenspace Polygon Points 1000m Household.</i> UK Longitudinal Linkage Collaboration (UK LLC).  <a href=\"https://doi.org/10.71760/ukllc-dataset-00414-01\" rel=\"noopener noreferrer\" target=\"_blank\">https://doi.org/10.71760/ukllc-dataset-00414-01</a></td>\n",
       "    </tr>\n",
       "    <tr>\n",
       "      <td id=\"T_1ed88_row2_col0\" class=\"data row2 col0\" >Download Citation</td>\n",
       "      <td id=\"T_1ed88_row2_col1\" class=\"data row2 col1\" > <a href=\"https://api.datacite.org/application/vnd.citationstyles.csl+json/10.71760/ukllc-dataset-00414-01\" rel=\"noopener noreferrer\" target=\"_blank\">Citeproc JSON</a>&nbsp;&nbsp;&nbsp;&nbsp; <a href=\"https://api.datacite.org/application/x-bibtex/10.71760/ukllc-dataset-00414-01\" rel=\"noopener noreferrer\" target=\"_blank\">BibTeX</a>&nbsp;&nbsp;&nbsp;&nbsp; <a href=\"https://api.datacite.org/application/x-research-info-systems/10.71760/ukllc-dataset-00414-01\" rel=\"noopener noreferrer\" target=\"_blank\">RIS</a></td>\n",
       "    </tr>\n",
       "    <tr>\n",
       "      <td id=\"T_1ed88_row3_col0\" class=\"data row3 col0\" >Owner</td>\n",
       "      <td id=\"T_1ed88_row3_col1\" class=\"data row3 col1\" >University of Leicester</td>\n",
       "    </tr>\n",
       "    <tr>\n",
       "      <td id=\"T_1ed88_row4_col0\" class=\"data row4 col0\" >Authors</td>\n",
       "      <td id=\"T_1ed88_row4_col1\" class=\"data row4 col1\" >Sarah Johnson (University of Leicester)</td>\n",
       "    </tr>\n",
       "    <tr>\n",
       "      <td id=\"T_1ed88_row5_col0\" class=\"data row5 col0\" >Temporal Coverage</td>\n",
       "      <td id=\"T_1ed88_row5_col1\" class=\"data row5 col1\" >01/1990 - 12/2020</td>\n",
       "    </tr>\n",
       "    <tr>\n",
       "      <td id=\"T_1ed88_row6_col0\" class=\"data row6 col0\" >Geographical Coverage</td>\n",
       "      <td id=\"T_1ed88_row6_col1\" class=\"data row6 col1\" >Great Britain</td>\n",
       "    </tr>\n",
       "    <tr>\n",
       "      <td id=\"T_1ed88_row7_col0\" class=\"data row7 col0\" >Participant Count</td>\n",
       "      <td id=\"T_1ed88_row7_col1\" class=\"data row7 col1\" >52277</td>\n",
       "    </tr>\n",
       "    <tr>\n",
       "      <td id=\"T_1ed88_row8_col0\" class=\"data row8 col0\" >Number of Variables</td>\n",
       "      <td id=\"T_1ed88_row8_col1\" class=\"data row8 col1\" >26</td>\n",
       "    </tr>\n",
       "    <tr>\n",
       "      <td id=\"T_1ed88_row9_col0\" class=\"data row9 col0\" >Number of Observations</td>\n",
       "      <td id=\"T_1ed88_row9_col1\" class=\"data row9 col1\" >116653</td>\n",
       "    </tr>\n",
       "    <tr>\n",
       "      <td id=\"T_1ed88_row10_col0\" class=\"data row10 col0\" >Key Link</td>\n",
       "      <td id=\"T_1ed88_row10_col1\" class=\"data row10 col1\" > <a href=\" https://guidebook.ukllc.ac.uk/docs/linked_geo_data/place_based_intro\" rel=\"noopener noreferrer\" target=\"_blank\"> https://guidebook.ukllc.ac.uk/docs/linked_geo_data/place_based_intro</a></td>\n",
       "    </tr>\n",
       "    <tr>\n",
       "      <td id=\"T_1ed88_row11_col0\" class=\"data row11 col0\" >Keywords</td>\n",
       "      <td id=\"T_1ed88_row11_col1\" class=\"data row11 col1\" >greenness,greenspace,NDVI,vegetation,geospatial,environmental</td>\n",
       "    </tr>\n",
       "    <tr>\n",
       "      <td id=\"T_1ed88_row12_col0\" class=\"data row12 col0\" >Latest Extract Date</td>\n",
       "      <td id=\"T_1ed88_row12_col1\" class=\"data row12 col1\" >TBC</td>\n",
       "    </tr>\n",
       "    <tr>\n",
       "      <td id=\"T_1ed88_row13_col0\" class=\"data row13 col0\" >Specific Restrictions to Data Use</td>\n",
       "      <td id=\"T_1ed88_row13_col1\" class=\"data row13 col1\" >None</td>\n",
       "    </tr>\n",
       "    <tr>\n",
       "      <td id=\"T_1ed88_row14_col0\" class=\"data row14 col0\" >Build a Data Request</td>\n",
       "      <td id=\"T_1ed88_row14_col1\" class=\"data row14 col1\" > <a href=\"https://explore.ukllc.ac.uk/\" rel=\"noopener noreferrer\" target=\"_blank\">https://explore.ukllc.ac.uk/</a></td>\n",
       "    </tr>\n",
       "  </tbody>\n",
       "</table>\n"
      ],
      "text/plain": [
       "<pandas.io.formats.style.Styler at 0x2677fcaf110>"
      ]
     },
     "execution_count": 29,
     "metadata": {},
     "output_type": "execute_result"
    }
   ],
   "source": [
    "DS(\"greenspace_polygon_points_1000m_gb_hh\").info_table()"
   ]
  },
  {
   "cell_type": "code",
   "execution_count": 30,
   "id": "d3a47d7f",
   "metadata": {
    "tags": [
     "remove-input"
    ]
   },
   "outputs": [
    {
     "data": {
      "text/markdown": [
       "### greenspace_polygon_points_1000m_gb_pc"
      ],
      "text/plain": [
       "<IPython.core.display.Markdown object>"
      ]
     },
     "metadata": {},
     "output_type": "display_data"
    }
   ],
   "source": [
    "display(Markdown('### greenspace_polygon_points_1000m_gb_pc'))"
   ]
  },
  {
   "cell_type": "code",
   "execution_count": 31,
   "id": "efbd180b",
   "metadata": {
    "tags": [
     "remove-input",
     "hide-cell"
    ]
   },
   "outputs": [
    {
     "data": {
      "text/html": [
       "<style type=\"text/css\">\n",
       "#T_0967a th {\n",
       "  text-align: left;\n",
       "}\n",
       "#T_0967a_row0_col0, #T_0967a_row0_col1, #T_0967a_row1_col0, #T_0967a_row1_col1, #T_0967a_row2_col0, #T_0967a_row2_col1, #T_0967a_row3_col0, #T_0967a_row3_col1, #T_0967a_row4_col0, #T_0967a_row4_col1, #T_0967a_row5_col0, #T_0967a_row5_col1, #T_0967a_row6_col0, #T_0967a_row6_col1, #T_0967a_row7_col0, #T_0967a_row7_col1, #T_0967a_row8_col0, #T_0967a_row8_col1, #T_0967a_row9_col0, #T_0967a_row9_col1, #T_0967a_row10_col0, #T_0967a_row10_col1, #T_0967a_row11_col0, #T_0967a_row11_col1, #T_0967a_row12_col0, #T_0967a_row12_col1, #T_0967a_row13_col0, #T_0967a_row13_col1, #T_0967a_row14_col0, #T_0967a_row14_col1 {\n",
       "  text-align: left;\n",
       "}\n",
       "</style>\n",
       "<table id=\"T_0967a\" style=\"font-size: 14px\">\n",
       "  <thead>\n",
       "    <tr>\n",
       "      <th id=\"T_0967a_level0_col0\" class=\"col_heading level0 col0\" >Dataset Descriptor</th>\n",
       "      <th id=\"T_0967a_level0_col1\" class=\"col_heading level0 col1\" >Dataset-specific Information</th>\n",
       "    </tr>\n",
       "  </thead>\n",
       "  <tbody>\n",
       "    <tr>\n",
       "      <td id=\"T_0967a_row0_col0\" class=\"data row0 col0\" >Name of Dataset in TRE</td>\n",
       "      <td id=\"T_0967a_row0_col1\" class=\"data row0 col1\" >PLACE_greenspace_polygon_points_1000m_gb_pc</td>\n",
       "    </tr>\n",
       "    <tr>\n",
       "      <td id=\"T_0967a_row1_col0\" class=\"data row1 col0\" >Citation (APA)</td>\n",
       "      <td id=\"T_0967a_row1_col1\" class=\"data row1 col1\" >University of Leicester, Centre for Environmental Health and Sustainability. (2025). <i>Place based data: Greenspace Polygon Points 1000m Postcode.</i> UK Longitudinal Linkage Collaboration (UK LLC).  <a href=\"https://doi.org/10.71760/ukllc-dataset-00415-01\" rel=\"noopener noreferrer\" target=\"_blank\">https://doi.org/10.71760/ukllc-dataset-00415-01</a></td>\n",
       "    </tr>\n",
       "    <tr>\n",
       "      <td id=\"T_0967a_row2_col0\" class=\"data row2 col0\" >Download Citation</td>\n",
       "      <td id=\"T_0967a_row2_col1\" class=\"data row2 col1\" > <a href=\"https://api.datacite.org/application/vnd.citationstyles.csl+json/10.71760/ukllc-dataset-00415-01\" rel=\"noopener noreferrer\" target=\"_blank\">Citeproc JSON</a>&nbsp;&nbsp;&nbsp;&nbsp; <a href=\"https://api.datacite.org/application/x-bibtex/10.71760/ukllc-dataset-00415-01\" rel=\"noopener noreferrer\" target=\"_blank\">BibTeX</a>&nbsp;&nbsp;&nbsp;&nbsp; <a href=\"https://api.datacite.org/application/x-research-info-systems/10.71760/ukllc-dataset-00415-01\" rel=\"noopener noreferrer\" target=\"_blank\">RIS</a></td>\n",
       "    </tr>\n",
       "    <tr>\n",
       "      <td id=\"T_0967a_row3_col0\" class=\"data row3 col0\" >Owner</td>\n",
       "      <td id=\"T_0967a_row3_col1\" class=\"data row3 col1\" >University of Leicester</td>\n",
       "    </tr>\n",
       "    <tr>\n",
       "      <td id=\"T_0967a_row4_col0\" class=\"data row4 col0\" >Authors</td>\n",
       "      <td id=\"T_0967a_row4_col1\" class=\"data row4 col1\" >Sarah Johnson (University of Leicester)</td>\n",
       "    </tr>\n",
       "    <tr>\n",
       "      <td id=\"T_0967a_row5_col0\" class=\"data row5 col0\" >Temporal Coverage</td>\n",
       "      <td id=\"T_0967a_row5_col1\" class=\"data row5 col1\" >01/1990 - 12/2020</td>\n",
       "    </tr>\n",
       "    <tr>\n",
       "      <td id=\"T_0967a_row6_col0\" class=\"data row6 col0\" >Geographical Coverage</td>\n",
       "      <td id=\"T_0967a_row6_col1\" class=\"data row6 col1\" >Great Britain</td>\n",
       "    </tr>\n",
       "    <tr>\n",
       "      <td id=\"T_0967a_row7_col0\" class=\"data row7 col0\" >Participant Count</td>\n",
       "      <td id=\"T_0967a_row7_col1\" class=\"data row7 col1\" >24401</td>\n",
       "    </tr>\n",
       "    <tr>\n",
       "      <td id=\"T_0967a_row8_col0\" class=\"data row8 col0\" >Number of Variables</td>\n",
       "      <td id=\"T_0967a_row8_col1\" class=\"data row8 col1\" >26</td>\n",
       "    </tr>\n",
       "    <tr>\n",
       "      <td id=\"T_0967a_row9_col0\" class=\"data row9 col0\" >Number of Observations</td>\n",
       "      <td id=\"T_0967a_row9_col1\" class=\"data row9 col1\" >39097</td>\n",
       "    </tr>\n",
       "    <tr>\n",
       "      <td id=\"T_0967a_row10_col0\" class=\"data row10 col0\" >Key Link</td>\n",
       "      <td id=\"T_0967a_row10_col1\" class=\"data row10 col1\" > <a href=\" https://guidebook.ukllc.ac.uk/docs/linked_geo_data/place_based_intro\" rel=\"noopener noreferrer\" target=\"_blank\"> https://guidebook.ukllc.ac.uk/docs/linked_geo_data/place_based_intro</a></td>\n",
       "    </tr>\n",
       "    <tr>\n",
       "      <td id=\"T_0967a_row11_col0\" class=\"data row11 col0\" >Keywords</td>\n",
       "      <td id=\"T_0967a_row11_col1\" class=\"data row11 col1\" >greenness,greenspace,NDVI,vegetation,geospatial,environmental</td>\n",
       "    </tr>\n",
       "    <tr>\n",
       "      <td id=\"T_0967a_row12_col0\" class=\"data row12 col0\" >Latest Extract Date</td>\n",
       "      <td id=\"T_0967a_row12_col1\" class=\"data row12 col1\" >TBC</td>\n",
       "    </tr>\n",
       "    <tr>\n",
       "      <td id=\"T_0967a_row13_col0\" class=\"data row13 col0\" >Specific Restrictions to Data Use</td>\n",
       "      <td id=\"T_0967a_row13_col1\" class=\"data row13 col1\" >None</td>\n",
       "    </tr>\n",
       "    <tr>\n",
       "      <td id=\"T_0967a_row14_col0\" class=\"data row14 col0\" >Build a Data Request</td>\n",
       "      <td id=\"T_0967a_row14_col1\" class=\"data row14 col1\" > <a href=\"https://explore.ukllc.ac.uk/\" rel=\"noopener noreferrer\" target=\"_blank\">https://explore.ukllc.ac.uk/</a></td>\n",
       "    </tr>\n",
       "  </tbody>\n",
       "</table>\n"
      ],
      "text/plain": [
       "<pandas.io.formats.style.Styler at 0x2677fcaf250>"
      ]
     },
     "execution_count": 31,
     "metadata": {},
     "output_type": "execute_result"
    }
   ],
   "source": [
    "DS(\"greenspace_polygon_points_1000m_gb_pc\").info_table()"
   ]
  },
  {
   "cell_type": "code",
   "execution_count": 32,
   "id": "29538a43",
   "metadata": {
    "tags": [
     "remove-input"
    ]
   },
   "outputs": [
    {
     "data": {
      "text/markdown": [
       "### greenspace_polygon_points_2000m_gb_hh"
      ],
      "text/plain": [
       "<IPython.core.display.Markdown object>"
      ]
     },
     "metadata": {},
     "output_type": "display_data"
    }
   ],
   "source": [
    "display(Markdown('### greenspace_polygon_points_2000m_gb_hh'))"
   ]
  },
  {
   "cell_type": "code",
   "execution_count": 33,
   "id": "75b331ba",
   "metadata": {
    "tags": [
     "remove-input",
     "hide-cell"
    ]
   },
   "outputs": [
    {
     "data": {
      "text/html": [
       "<style type=\"text/css\">\n",
       "#T_f3cd5 th {\n",
       "  text-align: left;\n",
       "}\n",
       "#T_f3cd5_row0_col0, #T_f3cd5_row0_col1, #T_f3cd5_row1_col0, #T_f3cd5_row1_col1, #T_f3cd5_row2_col0, #T_f3cd5_row2_col1, #T_f3cd5_row3_col0, #T_f3cd5_row3_col1, #T_f3cd5_row4_col0, #T_f3cd5_row4_col1, #T_f3cd5_row5_col0, #T_f3cd5_row5_col1, #T_f3cd5_row6_col0, #T_f3cd5_row6_col1, #T_f3cd5_row7_col0, #T_f3cd5_row7_col1, #T_f3cd5_row8_col0, #T_f3cd5_row8_col1, #T_f3cd5_row9_col0, #T_f3cd5_row9_col1, #T_f3cd5_row10_col0, #T_f3cd5_row10_col1, #T_f3cd5_row11_col0, #T_f3cd5_row11_col1, #T_f3cd5_row12_col0, #T_f3cd5_row12_col1, #T_f3cd5_row13_col0, #T_f3cd5_row13_col1, #T_f3cd5_row14_col0, #T_f3cd5_row14_col1 {\n",
       "  text-align: left;\n",
       "}\n",
       "</style>\n",
       "<table id=\"T_f3cd5\" style=\"font-size: 14px\">\n",
       "  <thead>\n",
       "    <tr>\n",
       "      <th id=\"T_f3cd5_level0_col0\" class=\"col_heading level0 col0\" >Dataset Descriptor</th>\n",
       "      <th id=\"T_f3cd5_level0_col1\" class=\"col_heading level0 col1\" >Dataset-specific Information</th>\n",
       "    </tr>\n",
       "  </thead>\n",
       "  <tbody>\n",
       "    <tr>\n",
       "      <td id=\"T_f3cd5_row0_col0\" class=\"data row0 col0\" >Name of Dataset in TRE</td>\n",
       "      <td id=\"T_f3cd5_row0_col1\" class=\"data row0 col1\" >PLACE_greenspace_polygon_points_2000m_gb_hh</td>\n",
       "    </tr>\n",
       "    <tr>\n",
       "      <td id=\"T_f3cd5_row1_col0\" class=\"data row1 col0\" >Citation (APA)</td>\n",
       "      <td id=\"T_f3cd5_row1_col1\" class=\"data row1 col1\" >University of Leicester, Centre for Environmental Health and Sustainability. (2025). <i>Place based data: Greenspace Polygon Points 2000m Household.</i> UK Longitudinal Linkage Collaboration (UK LLC).  <a href=\"https://doi.org/10.71760/ukllc-dataset-00416-01\" rel=\"noopener noreferrer\" target=\"_blank\">https://doi.org/10.71760/ukllc-dataset-00416-01</a></td>\n",
       "    </tr>\n",
       "    <tr>\n",
       "      <td id=\"T_f3cd5_row2_col0\" class=\"data row2 col0\" >Download Citation</td>\n",
       "      <td id=\"T_f3cd5_row2_col1\" class=\"data row2 col1\" > <a href=\"https://api.datacite.org/application/vnd.citationstyles.csl+json/10.71760/ukllc-dataset-00416-01\" rel=\"noopener noreferrer\" target=\"_blank\">Citeproc JSON</a>&nbsp;&nbsp;&nbsp;&nbsp; <a href=\"https://api.datacite.org/application/x-bibtex/10.71760/ukllc-dataset-00416-01\" rel=\"noopener noreferrer\" target=\"_blank\">BibTeX</a>&nbsp;&nbsp;&nbsp;&nbsp; <a href=\"https://api.datacite.org/application/x-research-info-systems/10.71760/ukllc-dataset-00416-01\" rel=\"noopener noreferrer\" target=\"_blank\">RIS</a></td>\n",
       "    </tr>\n",
       "    <tr>\n",
       "      <td id=\"T_f3cd5_row3_col0\" class=\"data row3 col0\" >Owner</td>\n",
       "      <td id=\"T_f3cd5_row3_col1\" class=\"data row3 col1\" >University of Leicester</td>\n",
       "    </tr>\n",
       "    <tr>\n",
       "      <td id=\"T_f3cd5_row4_col0\" class=\"data row4 col0\" >Authors</td>\n",
       "      <td id=\"T_f3cd5_row4_col1\" class=\"data row4 col1\" >Sarah Johnson (University of Leicester)</td>\n",
       "    </tr>\n",
       "    <tr>\n",
       "      <td id=\"T_f3cd5_row5_col0\" class=\"data row5 col0\" >Temporal Coverage</td>\n",
       "      <td id=\"T_f3cd5_row5_col1\" class=\"data row5 col1\" >01/1990 - 12/2020</td>\n",
       "    </tr>\n",
       "    <tr>\n",
       "      <td id=\"T_f3cd5_row6_col0\" class=\"data row6 col0\" >Geographical Coverage</td>\n",
       "      <td id=\"T_f3cd5_row6_col1\" class=\"data row6 col1\" >Great Britain</td>\n",
       "    </tr>\n",
       "    <tr>\n",
       "      <td id=\"T_f3cd5_row7_col0\" class=\"data row7 col0\" >Participant Count</td>\n",
       "      <td id=\"T_f3cd5_row7_col1\" class=\"data row7 col1\" >52277</td>\n",
       "    </tr>\n",
       "    <tr>\n",
       "      <td id=\"T_f3cd5_row8_col0\" class=\"data row8 col0\" >Number of Variables</td>\n",
       "      <td id=\"T_f3cd5_row8_col1\" class=\"data row8 col1\" >26</td>\n",
       "    </tr>\n",
       "    <tr>\n",
       "      <td id=\"T_f3cd5_row9_col0\" class=\"data row9 col0\" >Number of Observations</td>\n",
       "      <td id=\"T_f3cd5_row9_col1\" class=\"data row9 col1\" >116653</td>\n",
       "    </tr>\n",
       "    <tr>\n",
       "      <td id=\"T_f3cd5_row10_col0\" class=\"data row10 col0\" >Key Link</td>\n",
       "      <td id=\"T_f3cd5_row10_col1\" class=\"data row10 col1\" > <a href=\" https://guidebook.ukllc.ac.uk/docs/linked_geo_data/place_based_intro\" rel=\"noopener noreferrer\" target=\"_blank\"> https://guidebook.ukllc.ac.uk/docs/linked_geo_data/place_based_intro</a></td>\n",
       "    </tr>\n",
       "    <tr>\n",
       "      <td id=\"T_f3cd5_row11_col0\" class=\"data row11 col0\" >Keywords</td>\n",
       "      <td id=\"T_f3cd5_row11_col1\" class=\"data row11 col1\" >greenness,greenspace,NDVI,vegetation,geospatial,environmental</td>\n",
       "    </tr>\n",
       "    <tr>\n",
       "      <td id=\"T_f3cd5_row12_col0\" class=\"data row12 col0\" >Latest Extract Date</td>\n",
       "      <td id=\"T_f3cd5_row12_col1\" class=\"data row12 col1\" >TBC</td>\n",
       "    </tr>\n",
       "    <tr>\n",
       "      <td id=\"T_f3cd5_row13_col0\" class=\"data row13 col0\" >Specific Restrictions to Data Use</td>\n",
       "      <td id=\"T_f3cd5_row13_col1\" class=\"data row13 col1\" >None</td>\n",
       "    </tr>\n",
       "    <tr>\n",
       "      <td id=\"T_f3cd5_row14_col0\" class=\"data row14 col0\" >Build a Data Request</td>\n",
       "      <td id=\"T_f3cd5_row14_col1\" class=\"data row14 col1\" > <a href=\"https://explore.ukllc.ac.uk/\" rel=\"noopener noreferrer\" target=\"_blank\">https://explore.ukllc.ac.uk/</a></td>\n",
       "    </tr>\n",
       "  </tbody>\n",
       "</table>\n"
      ],
      "text/plain": [
       "<pandas.io.formats.style.Styler at 0x2677fcaf9d0>"
      ]
     },
     "execution_count": 33,
     "metadata": {},
     "output_type": "execute_result"
    }
   ],
   "source": [
    "DS(\"greenspace_polygon_points_2000m_gb_hh\").info_table()"
   ]
  },
  {
   "cell_type": "code",
   "execution_count": 34,
   "id": "2ac83e16",
   "metadata": {
    "tags": [
     "remove-input"
    ]
   },
   "outputs": [
    {
     "data": {
      "text/markdown": [
       "### greenspace_polygon_points_2000m_gb_pc"
      ],
      "text/plain": [
       "<IPython.core.display.Markdown object>"
      ]
     },
     "metadata": {},
     "output_type": "display_data"
    }
   ],
   "source": [
    "display(Markdown('### greenspace_polygon_points_2000m_gb_pc'))"
   ]
  },
  {
   "cell_type": "code",
   "execution_count": 35,
   "id": "14369566",
   "metadata": {
    "tags": [
     "remove-input",
     "hide-cell"
    ]
   },
   "outputs": [
    {
     "data": {
      "text/html": [
       "<style type=\"text/css\">\n",
       "#T_f82ce th {\n",
       "  text-align: left;\n",
       "}\n",
       "#T_f82ce_row0_col0, #T_f82ce_row0_col1, #T_f82ce_row1_col0, #T_f82ce_row1_col1, #T_f82ce_row2_col0, #T_f82ce_row2_col1, #T_f82ce_row3_col0, #T_f82ce_row3_col1, #T_f82ce_row4_col0, #T_f82ce_row4_col1, #T_f82ce_row5_col0, #T_f82ce_row5_col1, #T_f82ce_row6_col0, #T_f82ce_row6_col1, #T_f82ce_row7_col0, #T_f82ce_row7_col1, #T_f82ce_row8_col0, #T_f82ce_row8_col1, #T_f82ce_row9_col0, #T_f82ce_row9_col1, #T_f82ce_row10_col0, #T_f82ce_row10_col1, #T_f82ce_row11_col0, #T_f82ce_row11_col1, #T_f82ce_row12_col0, #T_f82ce_row12_col1, #T_f82ce_row13_col0, #T_f82ce_row13_col1, #T_f82ce_row14_col0, #T_f82ce_row14_col1 {\n",
       "  text-align: left;\n",
       "}\n",
       "</style>\n",
       "<table id=\"T_f82ce\" style=\"font-size: 14px\">\n",
       "  <thead>\n",
       "    <tr>\n",
       "      <th id=\"T_f82ce_level0_col0\" class=\"col_heading level0 col0\" >Dataset Descriptor</th>\n",
       "      <th id=\"T_f82ce_level0_col1\" class=\"col_heading level0 col1\" >Dataset-specific Information</th>\n",
       "    </tr>\n",
       "  </thead>\n",
       "  <tbody>\n",
       "    <tr>\n",
       "      <td id=\"T_f82ce_row0_col0\" class=\"data row0 col0\" >Name of Dataset in TRE</td>\n",
       "      <td id=\"T_f82ce_row0_col1\" class=\"data row0 col1\" >PLACE_greenspace_polygon_points_2000m_gb_pc</td>\n",
       "    </tr>\n",
       "    <tr>\n",
       "      <td id=\"T_f82ce_row1_col0\" class=\"data row1 col0\" >Citation (APA)</td>\n",
       "      <td id=\"T_f82ce_row1_col1\" class=\"data row1 col1\" >University of Leicester, Centre for Environmental Health and Sustainability. (2025). <i>Place based data: Greenspace Polygon Points 2000m Postcode.</i> UK Longitudinal Linkage Collaboration (UK LLC).  <a href=\"https://doi.org/10.71760/ukllc-dataset-00417-01\" rel=\"noopener noreferrer\" target=\"_blank\">https://doi.org/10.71760/ukllc-dataset-00417-01</a></td>\n",
       "    </tr>\n",
       "    <tr>\n",
       "      <td id=\"T_f82ce_row2_col0\" class=\"data row2 col0\" >Download Citation</td>\n",
       "      <td id=\"T_f82ce_row2_col1\" class=\"data row2 col1\" > <a href=\"https://api.datacite.org/application/vnd.citationstyles.csl+json/10.71760/ukllc-dataset-00417-01\" rel=\"noopener noreferrer\" target=\"_blank\">Citeproc JSON</a>&nbsp;&nbsp;&nbsp;&nbsp; <a href=\"https://api.datacite.org/application/x-bibtex/10.71760/ukllc-dataset-00417-01\" rel=\"noopener noreferrer\" target=\"_blank\">BibTeX</a>&nbsp;&nbsp;&nbsp;&nbsp; <a href=\"https://api.datacite.org/application/x-research-info-systems/10.71760/ukllc-dataset-00417-01\" rel=\"noopener noreferrer\" target=\"_blank\">RIS</a></td>\n",
       "    </tr>\n",
       "    <tr>\n",
       "      <td id=\"T_f82ce_row3_col0\" class=\"data row3 col0\" >Owner</td>\n",
       "      <td id=\"T_f82ce_row3_col1\" class=\"data row3 col1\" >University of Leicester</td>\n",
       "    </tr>\n",
       "    <tr>\n",
       "      <td id=\"T_f82ce_row4_col0\" class=\"data row4 col0\" >Authors</td>\n",
       "      <td id=\"T_f82ce_row4_col1\" class=\"data row4 col1\" >Sarah Johnson (University of Leicester)</td>\n",
       "    </tr>\n",
       "    <tr>\n",
       "      <td id=\"T_f82ce_row5_col0\" class=\"data row5 col0\" >Temporal Coverage</td>\n",
       "      <td id=\"T_f82ce_row5_col1\" class=\"data row5 col1\" >01/1990 - 12/2020</td>\n",
       "    </tr>\n",
       "    <tr>\n",
       "      <td id=\"T_f82ce_row6_col0\" class=\"data row6 col0\" >Geographical Coverage</td>\n",
       "      <td id=\"T_f82ce_row6_col1\" class=\"data row6 col1\" >Great Britain</td>\n",
       "    </tr>\n",
       "    <tr>\n",
       "      <td id=\"T_f82ce_row7_col0\" class=\"data row7 col0\" >Participant Count</td>\n",
       "      <td id=\"T_f82ce_row7_col1\" class=\"data row7 col1\" >24401</td>\n",
       "    </tr>\n",
       "    <tr>\n",
       "      <td id=\"T_f82ce_row8_col0\" class=\"data row8 col0\" >Number of Variables</td>\n",
       "      <td id=\"T_f82ce_row8_col1\" class=\"data row8 col1\" >26</td>\n",
       "    </tr>\n",
       "    <tr>\n",
       "      <td id=\"T_f82ce_row9_col0\" class=\"data row9 col0\" >Number of Observations</td>\n",
       "      <td id=\"T_f82ce_row9_col1\" class=\"data row9 col1\" >39097</td>\n",
       "    </tr>\n",
       "    <tr>\n",
       "      <td id=\"T_f82ce_row10_col0\" class=\"data row10 col0\" >Key Link</td>\n",
       "      <td id=\"T_f82ce_row10_col1\" class=\"data row10 col1\" > <a href=\" https://guidebook.ukllc.ac.uk/docs/linked_geo_data/place_based_intro\" rel=\"noopener noreferrer\" target=\"_blank\"> https://guidebook.ukllc.ac.uk/docs/linked_geo_data/place_based_intro</a></td>\n",
       "    </tr>\n",
       "    <tr>\n",
       "      <td id=\"T_f82ce_row11_col0\" class=\"data row11 col0\" >Keywords</td>\n",
       "      <td id=\"T_f82ce_row11_col1\" class=\"data row11 col1\" >greenness,greenspace,NDVI,vegetation,geospatial,environmental</td>\n",
       "    </tr>\n",
       "    <tr>\n",
       "      <td id=\"T_f82ce_row12_col0\" class=\"data row12 col0\" >Latest Extract Date</td>\n",
       "      <td id=\"T_f82ce_row12_col1\" class=\"data row12 col1\" >TBC</td>\n",
       "    </tr>\n",
       "    <tr>\n",
       "      <td id=\"T_f82ce_row13_col0\" class=\"data row13 col0\" >Specific Restrictions to Data Use</td>\n",
       "      <td id=\"T_f82ce_row13_col1\" class=\"data row13 col1\" >None</td>\n",
       "    </tr>\n",
       "    <tr>\n",
       "      <td id=\"T_f82ce_row14_col0\" class=\"data row14 col0\" >Build a Data Request</td>\n",
       "      <td id=\"T_f82ce_row14_col1\" class=\"data row14 col1\" > <a href=\"https://explore.ukllc.ac.uk/\" rel=\"noopener noreferrer\" target=\"_blank\">https://explore.ukllc.ac.uk/</a></td>\n",
       "    </tr>\n",
       "  </tbody>\n",
       "</table>\n"
      ],
      "text/plain": [
       "<pandas.io.formats.style.Styler at 0x2677fcae350>"
      ]
     },
     "execution_count": 35,
     "metadata": {},
     "output_type": "execute_result"
    }
   ],
   "source": [
    "DS(\"greenspace_polygon_points_2000m_gb_pc\").info_table()"
   ]
  },
  {
   "cell_type": "code",
   "execution_count": 36,
   "id": "3cc1b11e",
   "metadata": {
    "tags": [
     "remove-input"
    ]
   },
   "outputs": [
    {
     "data": {
      "text/markdown": [
       "### greenspace_polygon_points_300m_gb_hh"
      ],
      "text/plain": [
       "<IPython.core.display.Markdown object>"
      ]
     },
     "metadata": {},
     "output_type": "display_data"
    }
   ],
   "source": [
    "display(Markdown('### greenspace_polygon_points_300m_gb_hh'))"
   ]
  },
  {
   "cell_type": "code",
   "execution_count": 37,
   "id": "4437e23a",
   "metadata": {
    "tags": [
     "remove-input",
     "hide-cell"
    ]
   },
   "outputs": [
    {
     "data": {
      "text/html": [
       "<style type=\"text/css\">\n",
       "#T_73a64 th {\n",
       "  text-align: left;\n",
       "}\n",
       "#T_73a64_row0_col0, #T_73a64_row0_col1, #T_73a64_row1_col0, #T_73a64_row1_col1, #T_73a64_row2_col0, #T_73a64_row2_col1, #T_73a64_row3_col0, #T_73a64_row3_col1, #T_73a64_row4_col0, #T_73a64_row4_col1, #T_73a64_row5_col0, #T_73a64_row5_col1, #T_73a64_row6_col0, #T_73a64_row6_col1, #T_73a64_row7_col0, #T_73a64_row7_col1, #T_73a64_row8_col0, #T_73a64_row8_col1, #T_73a64_row9_col0, #T_73a64_row9_col1, #T_73a64_row10_col0, #T_73a64_row10_col1, #T_73a64_row11_col0, #T_73a64_row11_col1, #T_73a64_row12_col0, #T_73a64_row12_col1, #T_73a64_row13_col0, #T_73a64_row13_col1, #T_73a64_row14_col0, #T_73a64_row14_col1 {\n",
       "  text-align: left;\n",
       "}\n",
       "</style>\n",
       "<table id=\"T_73a64\" style=\"font-size: 14px\">\n",
       "  <thead>\n",
       "    <tr>\n",
       "      <th id=\"T_73a64_level0_col0\" class=\"col_heading level0 col0\" >Dataset Descriptor</th>\n",
       "      <th id=\"T_73a64_level0_col1\" class=\"col_heading level0 col1\" >Dataset-specific Information</th>\n",
       "    </tr>\n",
       "  </thead>\n",
       "  <tbody>\n",
       "    <tr>\n",
       "      <td id=\"T_73a64_row0_col0\" class=\"data row0 col0\" >Name of Dataset in TRE</td>\n",
       "      <td id=\"T_73a64_row0_col1\" class=\"data row0 col1\" >PLACE_greenspace_polygon_points_300m_gb_hh</td>\n",
       "    </tr>\n",
       "    <tr>\n",
       "      <td id=\"T_73a64_row1_col0\" class=\"data row1 col0\" >Citation (APA)</td>\n",
       "      <td id=\"T_73a64_row1_col1\" class=\"data row1 col1\" >University of Leicester, Centre for Environmental Health and Sustainability. (2025). <i>Place based data: Greenspace Polygon Points 300m Household.</i> UK Longitudinal Linkage Collaboration (UK LLC).  <a href=\"https://doi.org/10.71760/ukllc-dataset-00418-01\" rel=\"noopener noreferrer\" target=\"_blank\">https://doi.org/10.71760/ukllc-dataset-00418-01</a></td>\n",
       "    </tr>\n",
       "    <tr>\n",
       "      <td id=\"T_73a64_row2_col0\" class=\"data row2 col0\" >Download Citation</td>\n",
       "      <td id=\"T_73a64_row2_col1\" class=\"data row2 col1\" > <a href=\"https://api.datacite.org/application/vnd.citationstyles.csl+json/10.71760/ukllc-dataset-00418-01\" rel=\"noopener noreferrer\" target=\"_blank\">Citeproc JSON</a>&nbsp;&nbsp;&nbsp;&nbsp; <a href=\"https://api.datacite.org/application/x-bibtex/10.71760/ukllc-dataset-00418-01\" rel=\"noopener noreferrer\" target=\"_blank\">BibTeX</a>&nbsp;&nbsp;&nbsp;&nbsp; <a href=\"https://api.datacite.org/application/x-research-info-systems/10.71760/ukllc-dataset-00418-01\" rel=\"noopener noreferrer\" target=\"_blank\">RIS</a></td>\n",
       "    </tr>\n",
       "    <tr>\n",
       "      <td id=\"T_73a64_row3_col0\" class=\"data row3 col0\" >Owner</td>\n",
       "      <td id=\"T_73a64_row3_col1\" class=\"data row3 col1\" >University of Leicester</td>\n",
       "    </tr>\n",
       "    <tr>\n",
       "      <td id=\"T_73a64_row4_col0\" class=\"data row4 col0\" >Authors</td>\n",
       "      <td id=\"T_73a64_row4_col1\" class=\"data row4 col1\" >Sarah Johnson (University of Leicester)</td>\n",
       "    </tr>\n",
       "    <tr>\n",
       "      <td id=\"T_73a64_row5_col0\" class=\"data row5 col0\" >Temporal Coverage</td>\n",
       "      <td id=\"T_73a64_row5_col1\" class=\"data row5 col1\" >01/1990 - 12/2020</td>\n",
       "    </tr>\n",
       "    <tr>\n",
       "      <td id=\"T_73a64_row6_col0\" class=\"data row6 col0\" >Geographical Coverage</td>\n",
       "      <td id=\"T_73a64_row6_col1\" class=\"data row6 col1\" >Great Britain</td>\n",
       "    </tr>\n",
       "    <tr>\n",
       "      <td id=\"T_73a64_row7_col0\" class=\"data row7 col0\" >Participant Count</td>\n",
       "      <td id=\"T_73a64_row7_col1\" class=\"data row7 col1\" >52277</td>\n",
       "    </tr>\n",
       "    <tr>\n",
       "      <td id=\"T_73a64_row8_col0\" class=\"data row8 col0\" >Number of Variables</td>\n",
       "      <td id=\"T_73a64_row8_col1\" class=\"data row8 col1\" >26</td>\n",
       "    </tr>\n",
       "    <tr>\n",
       "      <td id=\"T_73a64_row9_col0\" class=\"data row9 col0\" >Number of Observations</td>\n",
       "      <td id=\"T_73a64_row9_col1\" class=\"data row9 col1\" >116653</td>\n",
       "    </tr>\n",
       "    <tr>\n",
       "      <td id=\"T_73a64_row10_col0\" class=\"data row10 col0\" >Key Link</td>\n",
       "      <td id=\"T_73a64_row10_col1\" class=\"data row10 col1\" > <a href=\" https://guidebook.ukllc.ac.uk/docs/linked_geo_data/place_based_intro\" rel=\"noopener noreferrer\" target=\"_blank\"> https://guidebook.ukllc.ac.uk/docs/linked_geo_data/place_based_intro</a></td>\n",
       "    </tr>\n",
       "    <tr>\n",
       "      <td id=\"T_73a64_row11_col0\" class=\"data row11 col0\" >Keywords</td>\n",
       "      <td id=\"T_73a64_row11_col1\" class=\"data row11 col1\" >greenness,greenspace,NDVI,vegetation,geospatial,environmental</td>\n",
       "    </tr>\n",
       "    <tr>\n",
       "      <td id=\"T_73a64_row12_col0\" class=\"data row12 col0\" >Latest Extract Date</td>\n",
       "      <td id=\"T_73a64_row12_col1\" class=\"data row12 col1\" >TBC</td>\n",
       "    </tr>\n",
       "    <tr>\n",
       "      <td id=\"T_73a64_row13_col0\" class=\"data row13 col0\" >Specific Restrictions to Data Use</td>\n",
       "      <td id=\"T_73a64_row13_col1\" class=\"data row13 col1\" >None</td>\n",
       "    </tr>\n",
       "    <tr>\n",
       "      <td id=\"T_73a64_row14_col0\" class=\"data row14 col0\" >Build a Data Request</td>\n",
       "      <td id=\"T_73a64_row14_col1\" class=\"data row14 col1\" > <a href=\"https://explore.ukllc.ac.uk/\" rel=\"noopener noreferrer\" target=\"_blank\">https://explore.ukllc.ac.uk/</a></td>\n",
       "    </tr>\n",
       "  </tbody>\n",
       "</table>\n"
      ],
      "text/plain": [
       "<pandas.io.formats.style.Styler at 0x2677fcaf890>"
      ]
     },
     "execution_count": 37,
     "metadata": {},
     "output_type": "execute_result"
    }
   ],
   "source": [
    "DS(\"greenspace_polygon_points_300m_gb_hh\").info_table()"
   ]
  },
  {
   "cell_type": "code",
   "execution_count": 38,
   "id": "ee1e7985",
   "metadata": {
    "tags": [
     "remove-input"
    ]
   },
   "outputs": [
    {
     "data": {
      "text/markdown": [
       "### greenspace_polygon_points_300m_gb_pc"
      ],
      "text/plain": [
       "<IPython.core.display.Markdown object>"
      ]
     },
     "metadata": {},
     "output_type": "display_data"
    }
   ],
   "source": [
    "display(Markdown('### greenspace_polygon_points_300m_gb_pc'))"
   ]
  },
  {
   "cell_type": "code",
   "execution_count": 39,
   "id": "0609c0ee",
   "metadata": {
    "tags": [
     "remove-input",
     "hide-cell"
    ]
   },
   "outputs": [
    {
     "data": {
      "text/html": [
       "<style type=\"text/css\">\n",
       "#T_a9d46 th {\n",
       "  text-align: left;\n",
       "}\n",
       "#T_a9d46_row0_col0, #T_a9d46_row0_col1, #T_a9d46_row1_col0, #T_a9d46_row1_col1, #T_a9d46_row2_col0, #T_a9d46_row2_col1, #T_a9d46_row3_col0, #T_a9d46_row3_col1, #T_a9d46_row4_col0, #T_a9d46_row4_col1, #T_a9d46_row5_col0, #T_a9d46_row5_col1, #T_a9d46_row6_col0, #T_a9d46_row6_col1, #T_a9d46_row7_col0, #T_a9d46_row7_col1, #T_a9d46_row8_col0, #T_a9d46_row8_col1, #T_a9d46_row9_col0, #T_a9d46_row9_col1, #T_a9d46_row10_col0, #T_a9d46_row10_col1, #T_a9d46_row11_col0, #T_a9d46_row11_col1, #T_a9d46_row12_col0, #T_a9d46_row12_col1, #T_a9d46_row13_col0, #T_a9d46_row13_col1, #T_a9d46_row14_col0, #T_a9d46_row14_col1 {\n",
       "  text-align: left;\n",
       "}\n",
       "</style>\n",
       "<table id=\"T_a9d46\" style=\"font-size: 14px\">\n",
       "  <thead>\n",
       "    <tr>\n",
       "      <th id=\"T_a9d46_level0_col0\" class=\"col_heading level0 col0\" >Dataset Descriptor</th>\n",
       "      <th id=\"T_a9d46_level0_col1\" class=\"col_heading level0 col1\" >Dataset-specific Information</th>\n",
       "    </tr>\n",
       "  </thead>\n",
       "  <tbody>\n",
       "    <tr>\n",
       "      <td id=\"T_a9d46_row0_col0\" class=\"data row0 col0\" >Name of Dataset in TRE</td>\n",
       "      <td id=\"T_a9d46_row0_col1\" class=\"data row0 col1\" >PLACE_greenspace_polygon_points_300m_gb_pc</td>\n",
       "    </tr>\n",
       "    <tr>\n",
       "      <td id=\"T_a9d46_row1_col0\" class=\"data row1 col0\" >Citation (APA)</td>\n",
       "      <td id=\"T_a9d46_row1_col1\" class=\"data row1 col1\" >University of Leicester, Centre for Environmental Health and Sustainability. (2025). <i>Place based data: Greenspace Polygon Points 300m Postcode.</i> UK Longitudinal Linkage Collaboration (UK LLC).  <a href=\"https://doi.org/10.71760/ukllc-dataset-00419-01\" rel=\"noopener noreferrer\" target=\"_blank\">https://doi.org/10.71760/ukllc-dataset-00419-01</a></td>\n",
       "    </tr>\n",
       "    <tr>\n",
       "      <td id=\"T_a9d46_row2_col0\" class=\"data row2 col0\" >Download Citation</td>\n",
       "      <td id=\"T_a9d46_row2_col1\" class=\"data row2 col1\" > <a href=\"https://api.datacite.org/application/vnd.citationstyles.csl+json/10.71760/ukllc-dataset-00419-01\" rel=\"noopener noreferrer\" target=\"_blank\">Citeproc JSON</a>&nbsp;&nbsp;&nbsp;&nbsp; <a href=\"https://api.datacite.org/application/x-bibtex/10.71760/ukllc-dataset-00419-01\" rel=\"noopener noreferrer\" target=\"_blank\">BibTeX</a>&nbsp;&nbsp;&nbsp;&nbsp; <a href=\"https://api.datacite.org/application/x-research-info-systems/10.71760/ukllc-dataset-00419-01\" rel=\"noopener noreferrer\" target=\"_blank\">RIS</a></td>\n",
       "    </tr>\n",
       "    <tr>\n",
       "      <td id=\"T_a9d46_row3_col0\" class=\"data row3 col0\" >Owner</td>\n",
       "      <td id=\"T_a9d46_row3_col1\" class=\"data row3 col1\" >University of Leicester</td>\n",
       "    </tr>\n",
       "    <tr>\n",
       "      <td id=\"T_a9d46_row4_col0\" class=\"data row4 col0\" >Authors</td>\n",
       "      <td id=\"T_a9d46_row4_col1\" class=\"data row4 col1\" >Sarah Johnson (University of Leicester)</td>\n",
       "    </tr>\n",
       "    <tr>\n",
       "      <td id=\"T_a9d46_row5_col0\" class=\"data row5 col0\" >Temporal Coverage</td>\n",
       "      <td id=\"T_a9d46_row5_col1\" class=\"data row5 col1\" >01/1990 - 12/2020</td>\n",
       "    </tr>\n",
       "    <tr>\n",
       "      <td id=\"T_a9d46_row6_col0\" class=\"data row6 col0\" >Geographical Coverage</td>\n",
       "      <td id=\"T_a9d46_row6_col1\" class=\"data row6 col1\" >Great Britain</td>\n",
       "    </tr>\n",
       "    <tr>\n",
       "      <td id=\"T_a9d46_row7_col0\" class=\"data row7 col0\" >Participant Count</td>\n",
       "      <td id=\"T_a9d46_row7_col1\" class=\"data row7 col1\" >24401</td>\n",
       "    </tr>\n",
       "    <tr>\n",
       "      <td id=\"T_a9d46_row8_col0\" class=\"data row8 col0\" >Number of Variables</td>\n",
       "      <td id=\"T_a9d46_row8_col1\" class=\"data row8 col1\" >26</td>\n",
       "    </tr>\n",
       "    <tr>\n",
       "      <td id=\"T_a9d46_row9_col0\" class=\"data row9 col0\" >Number of Observations</td>\n",
       "      <td id=\"T_a9d46_row9_col1\" class=\"data row9 col1\" >39097</td>\n",
       "    </tr>\n",
       "    <tr>\n",
       "      <td id=\"T_a9d46_row10_col0\" class=\"data row10 col0\" >Key Link</td>\n",
       "      <td id=\"T_a9d46_row10_col1\" class=\"data row10 col1\" > <a href=\" https://guidebook.ukllc.ac.uk/docs/linked_geo_data/place_based_intro\" rel=\"noopener noreferrer\" target=\"_blank\"> https://guidebook.ukllc.ac.uk/docs/linked_geo_data/place_based_intro</a></td>\n",
       "    </tr>\n",
       "    <tr>\n",
       "      <td id=\"T_a9d46_row11_col0\" class=\"data row11 col0\" >Keywords</td>\n",
       "      <td id=\"T_a9d46_row11_col1\" class=\"data row11 col1\" >greenness,greenspace,NDVI,vegetation,geospatial,environmental</td>\n",
       "    </tr>\n",
       "    <tr>\n",
       "      <td id=\"T_a9d46_row12_col0\" class=\"data row12 col0\" >Latest Extract Date</td>\n",
       "      <td id=\"T_a9d46_row12_col1\" class=\"data row12 col1\" >TBC</td>\n",
       "    </tr>\n",
       "    <tr>\n",
       "      <td id=\"T_a9d46_row13_col0\" class=\"data row13 col0\" >Specific Restrictions to Data Use</td>\n",
       "      <td id=\"T_a9d46_row13_col1\" class=\"data row13 col1\" >None</td>\n",
       "    </tr>\n",
       "    <tr>\n",
       "      <td id=\"T_a9d46_row14_col0\" class=\"data row14 col0\" >Build a Data Request</td>\n",
       "      <td id=\"T_a9d46_row14_col1\" class=\"data row14 col1\" > <a href=\"https://explore.ukllc.ac.uk/\" rel=\"noopener noreferrer\" target=\"_blank\">https://explore.ukllc.ac.uk/</a></td>\n",
       "    </tr>\n",
       "  </tbody>\n",
       "</table>\n"
      ],
      "text/plain": [
       "<pandas.io.formats.style.Styler at 0x2677fcafb10>"
      ]
     },
     "execution_count": 39,
     "metadata": {},
     "output_type": "execute_result"
    }
   ],
   "source": [
    "DS(\"greenspace_polygon_points_300m_gb_pc\").info_table()"
   ]
  },
  {
   "cell_type": "code",
   "execution_count": 40,
   "id": "cc672dba",
   "metadata": {
    "tags": [
     "remove-input"
    ]
   },
   "outputs": [
    {
     "data": {
      "text/markdown": [
       "### greenspace_polygon_points_500m_gb_hh"
      ],
      "text/plain": [
       "<IPython.core.display.Markdown object>"
      ]
     },
     "metadata": {},
     "output_type": "display_data"
    }
   ],
   "source": [
    "display(Markdown('### greenspace_polygon_points_500m_gb_hh'))"
   ]
  },
  {
   "cell_type": "code",
   "execution_count": 41,
   "id": "28694577",
   "metadata": {
    "tags": [
     "remove-input",
     "hide-cell"
    ]
   },
   "outputs": [
    {
     "data": {
      "text/html": [
       "<style type=\"text/css\">\n",
       "#T_5f3cb th {\n",
       "  text-align: left;\n",
       "}\n",
       "#T_5f3cb_row0_col0, #T_5f3cb_row0_col1, #T_5f3cb_row1_col0, #T_5f3cb_row1_col1, #T_5f3cb_row2_col0, #T_5f3cb_row2_col1, #T_5f3cb_row3_col0, #T_5f3cb_row3_col1, #T_5f3cb_row4_col0, #T_5f3cb_row4_col1, #T_5f3cb_row5_col0, #T_5f3cb_row5_col1, #T_5f3cb_row6_col0, #T_5f3cb_row6_col1, #T_5f3cb_row7_col0, #T_5f3cb_row7_col1, #T_5f3cb_row8_col0, #T_5f3cb_row8_col1, #T_5f3cb_row9_col0, #T_5f3cb_row9_col1, #T_5f3cb_row10_col0, #T_5f3cb_row10_col1, #T_5f3cb_row11_col0, #T_5f3cb_row11_col1, #T_5f3cb_row12_col0, #T_5f3cb_row12_col1, #T_5f3cb_row13_col0, #T_5f3cb_row13_col1, #T_5f3cb_row14_col0, #T_5f3cb_row14_col1 {\n",
       "  text-align: left;\n",
       "}\n",
       "</style>\n",
       "<table id=\"T_5f3cb\" style=\"font-size: 14px\">\n",
       "  <thead>\n",
       "    <tr>\n",
       "      <th id=\"T_5f3cb_level0_col0\" class=\"col_heading level0 col0\" >Dataset Descriptor</th>\n",
       "      <th id=\"T_5f3cb_level0_col1\" class=\"col_heading level0 col1\" >Dataset-specific Information</th>\n",
       "    </tr>\n",
       "  </thead>\n",
       "  <tbody>\n",
       "    <tr>\n",
       "      <td id=\"T_5f3cb_row0_col0\" class=\"data row0 col0\" >Name of Dataset in TRE</td>\n",
       "      <td id=\"T_5f3cb_row0_col1\" class=\"data row0 col1\" >PLACE_greenspace_polygon_points_500m_gb_hh</td>\n",
       "    </tr>\n",
       "    <tr>\n",
       "      <td id=\"T_5f3cb_row1_col0\" class=\"data row1 col0\" >Citation (APA)</td>\n",
       "      <td id=\"T_5f3cb_row1_col1\" class=\"data row1 col1\" >University of Leicester, Centre for Environmental Health and Sustainability. (2025). <i>Place based data: Greenspace Polygon Points 500m Household.</i> UK Longitudinal Linkage Collaboration (UK LLC).  <a href=\"https://doi.org/10.71760/ukllc-dataset-00420-01\" rel=\"noopener noreferrer\" target=\"_blank\">https://doi.org/10.71760/ukllc-dataset-00420-01</a></td>\n",
       "    </tr>\n",
       "    <tr>\n",
       "      <td id=\"T_5f3cb_row2_col0\" class=\"data row2 col0\" >Download Citation</td>\n",
       "      <td id=\"T_5f3cb_row2_col1\" class=\"data row2 col1\" > <a href=\"https://api.datacite.org/application/vnd.citationstyles.csl+json/10.71760/ukllc-dataset-00420-01\" rel=\"noopener noreferrer\" target=\"_blank\">Citeproc JSON</a>&nbsp;&nbsp;&nbsp;&nbsp; <a href=\"https://api.datacite.org/application/x-bibtex/10.71760/ukllc-dataset-00420-01\" rel=\"noopener noreferrer\" target=\"_blank\">BibTeX</a>&nbsp;&nbsp;&nbsp;&nbsp; <a href=\"https://api.datacite.org/application/x-research-info-systems/10.71760/ukllc-dataset-00420-01\" rel=\"noopener noreferrer\" target=\"_blank\">RIS</a></td>\n",
       "    </tr>\n",
       "    <tr>\n",
       "      <td id=\"T_5f3cb_row3_col0\" class=\"data row3 col0\" >Owner</td>\n",
       "      <td id=\"T_5f3cb_row3_col1\" class=\"data row3 col1\" >University of Leicester</td>\n",
       "    </tr>\n",
       "    <tr>\n",
       "      <td id=\"T_5f3cb_row4_col0\" class=\"data row4 col0\" >Authors</td>\n",
       "      <td id=\"T_5f3cb_row4_col1\" class=\"data row4 col1\" >Sarah Johnson (University of Leicester)</td>\n",
       "    </tr>\n",
       "    <tr>\n",
       "      <td id=\"T_5f3cb_row5_col0\" class=\"data row5 col0\" >Temporal Coverage</td>\n",
       "      <td id=\"T_5f3cb_row5_col1\" class=\"data row5 col1\" >01/1990 - 12/2020</td>\n",
       "    </tr>\n",
       "    <tr>\n",
       "      <td id=\"T_5f3cb_row6_col0\" class=\"data row6 col0\" >Geographical Coverage</td>\n",
       "      <td id=\"T_5f3cb_row6_col1\" class=\"data row6 col1\" >Great Britain</td>\n",
       "    </tr>\n",
       "    <tr>\n",
       "      <td id=\"T_5f3cb_row7_col0\" class=\"data row7 col0\" >Participant Count</td>\n",
       "      <td id=\"T_5f3cb_row7_col1\" class=\"data row7 col1\" >52277</td>\n",
       "    </tr>\n",
       "    <tr>\n",
       "      <td id=\"T_5f3cb_row8_col0\" class=\"data row8 col0\" >Number of Variables</td>\n",
       "      <td id=\"T_5f3cb_row8_col1\" class=\"data row8 col1\" >26</td>\n",
       "    </tr>\n",
       "    <tr>\n",
       "      <td id=\"T_5f3cb_row9_col0\" class=\"data row9 col0\" >Number of Observations</td>\n",
       "      <td id=\"T_5f3cb_row9_col1\" class=\"data row9 col1\" >116653</td>\n",
       "    </tr>\n",
       "    <tr>\n",
       "      <td id=\"T_5f3cb_row10_col0\" class=\"data row10 col0\" >Key Link</td>\n",
       "      <td id=\"T_5f3cb_row10_col1\" class=\"data row10 col1\" > <a href=\" https://guidebook.ukllc.ac.uk/docs/linked_geo_data/place_based_intro\" rel=\"noopener noreferrer\" target=\"_blank\"> https://guidebook.ukllc.ac.uk/docs/linked_geo_data/place_based_intro</a></td>\n",
       "    </tr>\n",
       "    <tr>\n",
       "      <td id=\"T_5f3cb_row11_col0\" class=\"data row11 col0\" >Keywords</td>\n",
       "      <td id=\"T_5f3cb_row11_col1\" class=\"data row11 col1\" >greenness,greenspace,NDVI,vegetation,geospatial,environmental</td>\n",
       "    </tr>\n",
       "    <tr>\n",
       "      <td id=\"T_5f3cb_row12_col0\" class=\"data row12 col0\" >Latest Extract Date</td>\n",
       "      <td id=\"T_5f3cb_row12_col1\" class=\"data row12 col1\" >TBC</td>\n",
       "    </tr>\n",
       "    <tr>\n",
       "      <td id=\"T_5f3cb_row13_col0\" class=\"data row13 col0\" >Specific Restrictions to Data Use</td>\n",
       "      <td id=\"T_5f3cb_row13_col1\" class=\"data row13 col1\" >None</td>\n",
       "    </tr>\n",
       "    <tr>\n",
       "      <td id=\"T_5f3cb_row14_col0\" class=\"data row14 col0\" >Build a Data Request</td>\n",
       "      <td id=\"T_5f3cb_row14_col1\" class=\"data row14 col1\" > <a href=\"https://explore.ukllc.ac.uk/\" rel=\"noopener noreferrer\" target=\"_blank\">https://explore.ukllc.ac.uk/</a></td>\n",
       "    </tr>\n",
       "  </tbody>\n",
       "</table>\n"
      ],
      "text/plain": [
       "<pandas.io.formats.style.Styler at 0x2677fcaf390>"
      ]
     },
     "execution_count": 41,
     "metadata": {},
     "output_type": "execute_result"
    }
   ],
   "source": [
    "DS(\"greenspace_polygon_points_500m_gb_hh\").info_table()"
   ]
  },
  {
   "cell_type": "code",
   "execution_count": 42,
   "id": "aff4d0c8",
   "metadata": {
    "tags": [
     "remove-input"
    ]
   },
   "outputs": [
    {
     "data": {
      "text/markdown": [
       "### greenspace_polygon_points_500m_gb_pc"
      ],
      "text/plain": [
       "<IPython.core.display.Markdown object>"
      ]
     },
     "metadata": {},
     "output_type": "display_data"
    }
   ],
   "source": [
    "display(Markdown('### greenspace_polygon_points_500m_gb_pc'))"
   ]
  },
  {
   "cell_type": "code",
   "execution_count": 43,
   "id": "6d25cea2",
   "metadata": {
    "tags": [
     "remove-input",
     "hide-cell"
    ]
   },
   "outputs": [
    {
     "data": {
      "text/html": [
       "<style type=\"text/css\">\n",
       "#T_3fefe th {\n",
       "  text-align: left;\n",
       "}\n",
       "#T_3fefe_row0_col0, #T_3fefe_row0_col1, #T_3fefe_row1_col0, #T_3fefe_row1_col1, #T_3fefe_row2_col0, #T_3fefe_row2_col1, #T_3fefe_row3_col0, #T_3fefe_row3_col1, #T_3fefe_row4_col0, #T_3fefe_row4_col1, #T_3fefe_row5_col0, #T_3fefe_row5_col1, #T_3fefe_row6_col0, #T_3fefe_row6_col1, #T_3fefe_row7_col0, #T_3fefe_row7_col1, #T_3fefe_row8_col0, #T_3fefe_row8_col1, #T_3fefe_row9_col0, #T_3fefe_row9_col1, #T_3fefe_row10_col0, #T_3fefe_row10_col1, #T_3fefe_row11_col0, #T_3fefe_row11_col1, #T_3fefe_row12_col0, #T_3fefe_row12_col1, #T_3fefe_row13_col0, #T_3fefe_row13_col1, #T_3fefe_row14_col0, #T_3fefe_row14_col1 {\n",
       "  text-align: left;\n",
       "}\n",
       "</style>\n",
       "<table id=\"T_3fefe\" style=\"font-size: 14px\">\n",
       "  <thead>\n",
       "    <tr>\n",
       "      <th id=\"T_3fefe_level0_col0\" class=\"col_heading level0 col0\" >Dataset Descriptor</th>\n",
       "      <th id=\"T_3fefe_level0_col1\" class=\"col_heading level0 col1\" >Dataset-specific Information</th>\n",
       "    </tr>\n",
       "  </thead>\n",
       "  <tbody>\n",
       "    <tr>\n",
       "      <td id=\"T_3fefe_row0_col0\" class=\"data row0 col0\" >Name of Dataset in TRE</td>\n",
       "      <td id=\"T_3fefe_row0_col1\" class=\"data row0 col1\" >PLACE_greenspace_polygon_points_500m_gb_pc</td>\n",
       "    </tr>\n",
       "    <tr>\n",
       "      <td id=\"T_3fefe_row1_col0\" class=\"data row1 col0\" >Citation (APA)</td>\n",
       "      <td id=\"T_3fefe_row1_col1\" class=\"data row1 col1\" >University of Leicester, Centre for Environmental Health and Sustainability. (2025). <i>Place based data: Greenspace Polygon Points 500m Postcode.</i> UK Longitudinal Linkage Collaboration (UK LLC).  <a href=\"https://doi.org/10.71760/ukllc-dataset-00421-01\" rel=\"noopener noreferrer\" target=\"_blank\">https://doi.org/10.71760/ukllc-dataset-00421-01</a></td>\n",
       "    </tr>\n",
       "    <tr>\n",
       "      <td id=\"T_3fefe_row2_col0\" class=\"data row2 col0\" >Download Citation</td>\n",
       "      <td id=\"T_3fefe_row2_col1\" class=\"data row2 col1\" > <a href=\"https://api.datacite.org/application/vnd.citationstyles.csl+json/10.71760/ukllc-dataset-00421-01\" rel=\"noopener noreferrer\" target=\"_blank\">Citeproc JSON</a>&nbsp;&nbsp;&nbsp;&nbsp; <a href=\"https://api.datacite.org/application/x-bibtex/10.71760/ukllc-dataset-00421-01\" rel=\"noopener noreferrer\" target=\"_blank\">BibTeX</a>&nbsp;&nbsp;&nbsp;&nbsp; <a href=\"https://api.datacite.org/application/x-research-info-systems/10.71760/ukllc-dataset-00421-01\" rel=\"noopener noreferrer\" target=\"_blank\">RIS</a></td>\n",
       "    </tr>\n",
       "    <tr>\n",
       "      <td id=\"T_3fefe_row3_col0\" class=\"data row3 col0\" >Owner</td>\n",
       "      <td id=\"T_3fefe_row3_col1\" class=\"data row3 col1\" >University of Leicester</td>\n",
       "    </tr>\n",
       "    <tr>\n",
       "      <td id=\"T_3fefe_row4_col0\" class=\"data row4 col0\" >Authors</td>\n",
       "      <td id=\"T_3fefe_row4_col1\" class=\"data row4 col1\" >Sarah Johnson (University of Leicester)</td>\n",
       "    </tr>\n",
       "    <tr>\n",
       "      <td id=\"T_3fefe_row5_col0\" class=\"data row5 col0\" >Temporal Coverage</td>\n",
       "      <td id=\"T_3fefe_row5_col1\" class=\"data row5 col1\" >01/1990 - 12/2020</td>\n",
       "    </tr>\n",
       "    <tr>\n",
       "      <td id=\"T_3fefe_row6_col0\" class=\"data row6 col0\" >Geographical Coverage</td>\n",
       "      <td id=\"T_3fefe_row6_col1\" class=\"data row6 col1\" >Great Britain</td>\n",
       "    </tr>\n",
       "    <tr>\n",
       "      <td id=\"T_3fefe_row7_col0\" class=\"data row7 col0\" >Participant Count</td>\n",
       "      <td id=\"T_3fefe_row7_col1\" class=\"data row7 col1\" >24401</td>\n",
       "    </tr>\n",
       "    <tr>\n",
       "      <td id=\"T_3fefe_row8_col0\" class=\"data row8 col0\" >Number of Variables</td>\n",
       "      <td id=\"T_3fefe_row8_col1\" class=\"data row8 col1\" >26</td>\n",
       "    </tr>\n",
       "    <tr>\n",
       "      <td id=\"T_3fefe_row9_col0\" class=\"data row9 col0\" >Number of Observations</td>\n",
       "      <td id=\"T_3fefe_row9_col1\" class=\"data row9 col1\" >39097</td>\n",
       "    </tr>\n",
       "    <tr>\n",
       "      <td id=\"T_3fefe_row10_col0\" class=\"data row10 col0\" >Key Link</td>\n",
       "      <td id=\"T_3fefe_row10_col1\" class=\"data row10 col1\" > <a href=\" https://guidebook.ukllc.ac.uk/docs/linked_geo_data/place_based_intro\" rel=\"noopener noreferrer\" target=\"_blank\"> https://guidebook.ukllc.ac.uk/docs/linked_geo_data/place_based_intro</a></td>\n",
       "    </tr>\n",
       "    <tr>\n",
       "      <td id=\"T_3fefe_row11_col0\" class=\"data row11 col0\" >Keywords</td>\n",
       "      <td id=\"T_3fefe_row11_col1\" class=\"data row11 col1\" >greenness,greenspace,NDVI,vegetation,geospatial,environmental</td>\n",
       "    </tr>\n",
       "    <tr>\n",
       "      <td id=\"T_3fefe_row12_col0\" class=\"data row12 col0\" >Latest Extract Date</td>\n",
       "      <td id=\"T_3fefe_row12_col1\" class=\"data row12 col1\" >TBC</td>\n",
       "    </tr>\n",
       "    <tr>\n",
       "      <td id=\"T_3fefe_row13_col0\" class=\"data row13 col0\" >Specific Restrictions to Data Use</td>\n",
       "      <td id=\"T_3fefe_row13_col1\" class=\"data row13 col1\" >None</td>\n",
       "    </tr>\n",
       "    <tr>\n",
       "      <td id=\"T_3fefe_row14_col0\" class=\"data row14 col0\" >Build a Data Request</td>\n",
       "      <td id=\"T_3fefe_row14_col1\" class=\"data row14 col1\" > <a href=\"https://explore.ukllc.ac.uk/\" rel=\"noopener noreferrer\" target=\"_blank\">https://explore.ukllc.ac.uk/</a></td>\n",
       "    </tr>\n",
       "  </tbody>\n",
       "</table>\n"
      ],
      "text/plain": [
       "<pandas.io.formats.style.Styler at 0x2677fcac910>"
      ]
     },
     "execution_count": 43,
     "metadata": {},
     "output_type": "execute_result"
    }
   ],
   "source": [
    "DS(\"greenspace_polygon_points_500m_gb_pc\").info_table()"
   ]
  },
  {
   "cell_type": "markdown",
   "id": "10547426",
   "metadata": {},
   "source": [
    "## 2. Variables"
   ]
  },
  {
   "cell_type": "code",
   "execution_count": 44,
   "id": "35dfd0a3",
   "metadata": {
    "tags": [
     "remove-input"
    ]
   },
   "outputs": [
    {
     "data": {
      "text/markdown": [
       "### greenspace_circle_points_10000m_gb_hh"
      ],
      "text/plain": [
       "<IPython.core.display.Markdown object>"
      ]
     },
     "metadata": {},
     "output_type": "display_data"
    }
   ],
   "source": [
    "display(Markdown('### greenspace_circle_points_10000m_gb_hh'))"
   ]
  },
  {
   "cell_type": "code",
   "execution_count": 45,
   "id": "17887a22",
   "metadata": {
    "tags": [
     "remove-input",
     "hide-cell"
    ]
   },
   "outputs": [
    {
     "data": {
      "text/html": [
       "<style type=\"text/css\">\n",
       "#T_cc7ad th {\n",
       "  text-align: left;\n",
       "}\n",
       "#T_cc7ad_row0_col0, #T_cc7ad_row0_col1, #T_cc7ad_row0_col2, #T_cc7ad_row0_col3, #T_cc7ad_row0_col4, #T_cc7ad_row1_col0, #T_cc7ad_row1_col1, #T_cc7ad_row1_col2, #T_cc7ad_row1_col3, #T_cc7ad_row1_col4, #T_cc7ad_row2_col0, #T_cc7ad_row2_col1, #T_cc7ad_row2_col2, #T_cc7ad_row2_col3, #T_cc7ad_row2_col4, #T_cc7ad_row3_col0, #T_cc7ad_row3_col1, #T_cc7ad_row3_col2, #T_cc7ad_row3_col3, #T_cc7ad_row3_col4, #T_cc7ad_row4_col0, #T_cc7ad_row4_col1, #T_cc7ad_row4_col2, #T_cc7ad_row4_col3, #T_cc7ad_row4_col4, #T_cc7ad_row5_col0, #T_cc7ad_row5_col1, #T_cc7ad_row5_col2, #T_cc7ad_row5_col3, #T_cc7ad_row5_col4, #T_cc7ad_row6_col0, #T_cc7ad_row6_col1, #T_cc7ad_row6_col2, #T_cc7ad_row6_col3, #T_cc7ad_row6_col4, #T_cc7ad_row7_col0, #T_cc7ad_row7_col1, #T_cc7ad_row7_col2, #T_cc7ad_row7_col3, #T_cc7ad_row7_col4, #T_cc7ad_row8_col0, #T_cc7ad_row8_col1, #T_cc7ad_row8_col2, #T_cc7ad_row8_col3, #T_cc7ad_row8_col4, #T_cc7ad_row9_col0, #T_cc7ad_row9_col1, #T_cc7ad_row9_col2, #T_cc7ad_row9_col3, #T_cc7ad_row9_col4, #T_cc7ad_row10_col0, #T_cc7ad_row10_col1, #T_cc7ad_row10_col2, #T_cc7ad_row10_col3, #T_cc7ad_row10_col4, #T_cc7ad_row11_col0, #T_cc7ad_row11_col1, #T_cc7ad_row11_col2, #T_cc7ad_row11_col3, #T_cc7ad_row11_col4, #T_cc7ad_row12_col0, #T_cc7ad_row12_col1, #T_cc7ad_row12_col2, #T_cc7ad_row12_col3, #T_cc7ad_row12_col4, #T_cc7ad_row13_col0, #T_cc7ad_row13_col1, #T_cc7ad_row13_col2, #T_cc7ad_row13_col3, #T_cc7ad_row13_col4 {\n",
       "  text-align: left;\n",
       "}\n",
       "</style>\n",
       "<table id=\"T_cc7ad\" style=\"font-size: 14px\">\n",
       "  <thead>\n",
       "    <tr>\n",
       "      <th id=\"T_cc7ad_level0_col0\" class=\"col_heading level0 col0\" >Variable Group</th>\n",
       "      <th id=\"T_cc7ad_level0_col1\" class=\"col_heading level0 col1\" >Variable</th>\n",
       "      <th id=\"T_cc7ad_level0_col2\" class=\"col_heading level0 col2\" >Description</th>\n",
       "      <th id=\"T_cc7ad_level0_col3\" class=\"col_heading level0 col3\" >Source</th>\n",
       "      <th id=\"T_cc7ad_level0_col4\" class=\"col_heading level0 col4\" >Date range of data</th>\n",
       "    </tr>\n",
       "  </thead>\n",
       "  <tbody>\n",
       "    <tr>\n",
       "      <td id=\"T_cc7ad_row0_col0\" class=\"data row0 col0\" >Identifier</td>\n",
       "      <td id=\"T_cc7ad_row0_col1\" class=\"data row0 col1\" >cohortkey_e</td>\n",
       "      <td id=\"T_cc7ad_row0_col2\" class=\"data row0 col2\" >individual level id</td>\n",
       "      <td id=\"T_cc7ad_row0_col3\" class=\"data row0 col3\" >LPS</td>\n",
       "      <td id=\"T_cc7ad_row0_col4\" class=\"data row0 col4\" >None</td>\n",
       "    </tr>\n",
       "    <tr>\n",
       "      <td id=\"T_cc7ad_row1_col0\" class=\"data row1 col0\" >Geography</td>\n",
       "      <td id=\"T_cc7ad_row1_col1\" class=\"data row1 col1\" >address_start_date</td>\n",
       "      <td id=\"T_cc7ad_row1_col2\" class=\"data row1 col2\" >Address start date</td>\n",
       "      <td id=\"T_cc7ad_row1_col3\" class=\"data row1 col3\" >LPS</td>\n",
       "      <td id=\"T_cc7ad_row1_col4\" class=\"data row1 col4\" >None</td>\n",
       "    </tr>\n",
       "    <tr>\n",
       "      <td id=\"T_cc7ad_row2_col0\" class=\"data row2 col0\" >Geography</td>\n",
       "      <td id=\"T_cc7ad_row2_col1\" class=\"data row2 col1\" >address_end_date</td>\n",
       "      <td id=\"T_cc7ad_row2_col2\" class=\"data row2 col2\" >Address end date</td>\n",
       "      <td id=\"T_cc7ad_row2_col3\" class=\"data row2 col3\" >LPS</td>\n",
       "      <td id=\"T_cc7ad_row2_col4\" class=\"data row2 col4\" >None</td>\n",
       "    </tr>\n",
       "    <tr>\n",
       "      <td id=\"T_cc7ad_row3_col0\" class=\"data row3 col0\" >UK LLC</td>\n",
       "      <td id=\"T_cc7ad_row3_col1\" class=\"data row3 col1\" >avail_from_dt</td>\n",
       "      <td id=\"T_cc7ad_row3_col2\" class=\"data row3 col2\" >None</td>\n",
       "      <td id=\"T_cc7ad_row3_col3\" class=\"data row3 col3\" >UK LLC</td>\n",
       "      <td id=\"T_cc7ad_row3_col4\" class=\"data row3 col4\" >None</td>\n",
       "    </tr>\n",
       "    <tr>\n",
       "      <td id=\"T_cc7ad_row4_col0\" class=\"data row4 col0\" >Geography</td>\n",
       "      <td id=\"T_cc7ad_row4_col1\" class=\"data row4 col1\" >buf_area</td>\n",
       "      <td id=\"T_cc7ad_row4_col2\" class=\"data row4 col2\" >Buffer area</td>\n",
       "      <td id=\"T_cc7ad_row4_col3\" class=\"data row4 col3\" >University of Leicester</td>\n",
       "      <td id=\"T_cc7ad_row4_col4\" class=\"data row4 col4\" >2025</td>\n",
       "    </tr>\n",
       "    <tr>\n",
       "      <td id=\"T_cc7ad_row5_col0\" class=\"data row5 col0\" >Geography</td>\n",
       "      <td id=\"T_cc7ad_row5_col1\" class=\"data row5 col1\" >lsoa11_e</td>\n",
       "      <td id=\"T_cc7ad_row5_col2\" class=\"data row5 col2\" >Lower layer super output area (LSOA) encrypted</td>\n",
       "      <td id=\"T_cc7ad_row5_col3\" class=\"data row5 col3\" >Office of National Statistics</td>\n",
       "      <td id=\"T_cc7ad_row5_col4\" class=\"data row5 col4\" >2011</td>\n",
       "    </tr>\n",
       "    <tr>\n",
       "      <td id=\"T_cc7ad_row6_col0\" class=\"data row6 col0\" >Geography</td>\n",
       "      <td id=\"T_cc7ad_row6_col1\" class=\"data row6 col1\" >matchcode</td>\n",
       "      <td id=\"T_cc7ad_row6_col2\" class=\"data row6 col2\" >Experian match code indicator</td>\n",
       "      <td id=\"T_cc7ad_row6_col3\" class=\"data row6 col3\" >University of Leicester</td>\n",
       "      <td id=\"T_cc7ad_row6_col4\" class=\"data row6 col4\" >None</td>\n",
       "    </tr>\n",
       "    <tr>\n",
       "      <td id=\"T_cc7ad_row7_col0\" class=\"data row7 col0\" >Geography</td>\n",
       "      <td id=\"T_cc7ad_row7_col1\" class=\"data row7 col1\" >msoa11_e</td>\n",
       "      <td id=\"T_cc7ad_row7_col2\" class=\"data row7 col2\" >Middle super output area (LSOA) encrypted</td>\n",
       "      <td id=\"T_cc7ad_row7_col3\" class=\"data row7 col3\" >Office of National Statistics</td>\n",
       "      <td id=\"T_cc7ad_row7_col4\" class=\"data row7 col4\" >2011</td>\n",
       "    </tr>\n",
       "    <tr>\n",
       "      <td id=\"T_cc7ad_row8_col0\" class=\"data row8 col0\" >Greenspace</td>\n",
       "      <td id=\"T_cc7ad_row8_col1\" class=\"data row8 col1\" >osgs_area</td>\n",
       "      <td id=\"T_cc7ad_row8_col2\" class=\"data row8 col2\" >Total area of OS open greenspace falling within the buffer zone (m2)</td>\n",
       "      <td id=\"T_cc7ad_row8_col3\" class=\"data row8 col3\" >Ordnance Survey Open Greenspace</td>\n",
       "      <td id=\"T_cc7ad_row8_col4\" class=\"data row8 col4\" >2025</td>\n",
       "    </tr>\n",
       "    <tr>\n",
       "      <td id=\"T_cc7ad_row9_col0\" class=\"data row9 col0\" >Greenspace</td>\n",
       "      <td id=\"T_cc7ad_row9_col1\" class=\"data row9 col1\" >osgs_pct</td>\n",
       "      <td id=\"T_cc7ad_row9_col2\" class=\"data row9 col2\" >Percentage coverage of OS open greenspace falling within the buffer zone.</td>\n",
       "      <td id=\"T_cc7ad_row9_col3\" class=\"data row9 col3\" >Ordnance Survey Open Greenspace</td>\n",
       "      <td id=\"T_cc7ad_row9_col4\" class=\"data row9 col4\" >2025</td>\n",
       "    </tr>\n",
       "    <tr>\n",
       "      <td id=\"T_cc7ad_row10_col0\" class=\"data row10 col0\" >Geography</td>\n",
       "      <td id=\"T_cc7ad_row10_col1\" class=\"data row10 col1\" >postcode_e</td>\n",
       "      <td id=\"T_cc7ad_row10_col2\" class=\"data row10 col2\" >Postcode encrypted</td>\n",
       "      <td id=\"T_cc7ad_row10_col3\" class=\"data row10 col3\" >LPS</td>\n",
       "      <td id=\"T_cc7ad_row10_col4\" class=\"data row10 col4\" >None</td>\n",
       "    </tr>\n",
       "    <tr>\n",
       "      <td id=\"T_cc7ad_row11_col0\" class=\"data row11 col0\" >Geography</td>\n",
       "      <td id=\"T_cc7ad_row11_col1\" class=\"data row11 col1\" >region</td>\n",
       "      <td id=\"T_cc7ad_row11_col2\" class=\"data row11 col2\" >UK Region </td>\n",
       "      <td id=\"T_cc7ad_row11_col3\" class=\"data row11 col3\" >Office of National Statistics</td>\n",
       "      <td id=\"T_cc7ad_row11_col4\" class=\"data row11 col4\" >2011</td>\n",
       "    </tr>\n",
       "    <tr>\n",
       "      <td id=\"T_cc7ad_row12_col0\" class=\"data row12 col0\" >Green vegetation</td>\n",
       "      <td id=\"T_cc7ad_row12_col1\" class=\"data row12 col1\" >s2ndvi2020</td>\n",
       "      <td id=\"T_cc7ad_row12_col2\" class=\"data row12 col2\" >Mean value for Sentinel-2 2020 NDVI layer in the database calculated across buffer zone</td>\n",
       "      <td id=\"T_cc7ad_row12_col3\" class=\"data row12 col3\" >ESA Sentinel-2, USGS Landsat</td>\n",
       "      <td id=\"T_cc7ad_row12_col4\" class=\"data row12 col4\" >2020</td>\n",
       "    </tr>\n",
       "    <tr>\n",
       "      <td id=\"T_cc7ad_row13_col0\" class=\"data row13 col0\" >Geography</td>\n",
       "      <td id=\"T_cc7ad_row13_col1\" class=\"data row13 col1\" >uprn_e</td>\n",
       "      <td id=\"T_cc7ad_row13_col2\" class=\"data row13 col2\" >Unique Property Reference Number (UPRN) encrypted</td>\n",
       "      <td id=\"T_cc7ad_row13_col3\" class=\"data row13 col3\" >University of Leicester</td>\n",
       "      <td id=\"T_cc7ad_row13_col4\" class=\"data row13 col4\" >None</td>\n",
       "    </tr>\n",
       "  </tbody>\n",
       "</table>\n"
      ],
      "text/plain": [
       "<pandas.io.formats.style.Styler at 0x2677fcaf610>"
      ]
     },
     "execution_count": 45,
     "metadata": {},
     "output_type": "execute_result"
    }
   ],
   "source": [
    "DS(\"greenspace_circle_points_10000m_gb_hh\").variable_table()"
   ]
  },
  {
   "cell_type": "code",
   "execution_count": 46,
   "id": "df4a71e7",
   "metadata": {
    "tags": [
     "remove-input"
    ]
   },
   "outputs": [
    {
     "data": {
      "text/markdown": [
       "### greenspace_circle_points_10000m_gb_pc"
      ],
      "text/plain": [
       "<IPython.core.display.Markdown object>"
      ]
     },
     "metadata": {},
     "output_type": "display_data"
    }
   ],
   "source": [
    "display(Markdown('### greenspace_circle_points_10000m_gb_pc'))"
   ]
  },
  {
   "cell_type": "code",
   "execution_count": 47,
   "id": "9c992942",
   "metadata": {
    "tags": [
     "remove-input",
     "hide-cell"
    ]
   },
   "outputs": [
    {
     "data": {
      "text/html": [
       "<style type=\"text/css\">\n",
       "#T_e8efc th {\n",
       "  text-align: left;\n",
       "}\n",
       "#T_e8efc_row0_col0, #T_e8efc_row0_col1, #T_e8efc_row0_col2, #T_e8efc_row0_col3, #T_e8efc_row0_col4, #T_e8efc_row1_col0, #T_e8efc_row1_col1, #T_e8efc_row1_col2, #T_e8efc_row1_col3, #T_e8efc_row1_col4, #T_e8efc_row2_col0, #T_e8efc_row2_col1, #T_e8efc_row2_col2, #T_e8efc_row2_col3, #T_e8efc_row2_col4, #T_e8efc_row3_col0, #T_e8efc_row3_col1, #T_e8efc_row3_col2, #T_e8efc_row3_col3, #T_e8efc_row3_col4, #T_e8efc_row4_col0, #T_e8efc_row4_col1, #T_e8efc_row4_col2, #T_e8efc_row4_col3, #T_e8efc_row4_col4, #T_e8efc_row5_col0, #T_e8efc_row5_col1, #T_e8efc_row5_col2, #T_e8efc_row5_col3, #T_e8efc_row5_col4, #T_e8efc_row6_col0, #T_e8efc_row6_col1, #T_e8efc_row6_col2, #T_e8efc_row6_col3, #T_e8efc_row6_col4, #T_e8efc_row7_col0, #T_e8efc_row7_col1, #T_e8efc_row7_col2, #T_e8efc_row7_col3, #T_e8efc_row7_col4, #T_e8efc_row8_col0, #T_e8efc_row8_col1, #T_e8efc_row8_col2, #T_e8efc_row8_col3, #T_e8efc_row8_col4, #T_e8efc_row9_col0, #T_e8efc_row9_col1, #T_e8efc_row9_col2, #T_e8efc_row9_col3, #T_e8efc_row9_col4, #T_e8efc_row10_col0, #T_e8efc_row10_col1, #T_e8efc_row10_col2, #T_e8efc_row10_col3, #T_e8efc_row10_col4, #T_e8efc_row11_col0, #T_e8efc_row11_col1, #T_e8efc_row11_col2, #T_e8efc_row11_col3, #T_e8efc_row11_col4, #T_e8efc_row12_col0, #T_e8efc_row12_col1, #T_e8efc_row12_col2, #T_e8efc_row12_col3, #T_e8efc_row12_col4, #T_e8efc_row13_col0, #T_e8efc_row13_col1, #T_e8efc_row13_col2, #T_e8efc_row13_col3, #T_e8efc_row13_col4 {\n",
       "  text-align: left;\n",
       "}\n",
       "</style>\n",
       "<table id=\"T_e8efc\" style=\"font-size: 14px\">\n",
       "  <thead>\n",
       "    <tr>\n",
       "      <th id=\"T_e8efc_level0_col0\" class=\"col_heading level0 col0\" >Variable Group</th>\n",
       "      <th id=\"T_e8efc_level0_col1\" class=\"col_heading level0 col1\" >Variable</th>\n",
       "      <th id=\"T_e8efc_level0_col2\" class=\"col_heading level0 col2\" >Description</th>\n",
       "      <th id=\"T_e8efc_level0_col3\" class=\"col_heading level0 col3\" >Source</th>\n",
       "      <th id=\"T_e8efc_level0_col4\" class=\"col_heading level0 col4\" >Date range of data</th>\n",
       "    </tr>\n",
       "  </thead>\n",
       "  <tbody>\n",
       "    <tr>\n",
       "      <td id=\"T_e8efc_row0_col0\" class=\"data row0 col0\" >Identifier</td>\n",
       "      <td id=\"T_e8efc_row0_col1\" class=\"data row0 col1\" >cohortkey_e</td>\n",
       "      <td id=\"T_e8efc_row0_col2\" class=\"data row0 col2\" >individual level id</td>\n",
       "      <td id=\"T_e8efc_row0_col3\" class=\"data row0 col3\" >LPS</td>\n",
       "      <td id=\"T_e8efc_row0_col4\" class=\"data row0 col4\" >None</td>\n",
       "    </tr>\n",
       "    <tr>\n",
       "      <td id=\"T_e8efc_row1_col0\" class=\"data row1 col0\" >Geography</td>\n",
       "      <td id=\"T_e8efc_row1_col1\" class=\"data row1 col1\" >address_start_date</td>\n",
       "      <td id=\"T_e8efc_row1_col2\" class=\"data row1 col2\" >Address start date</td>\n",
       "      <td id=\"T_e8efc_row1_col3\" class=\"data row1 col3\" >LPS</td>\n",
       "      <td id=\"T_e8efc_row1_col4\" class=\"data row1 col4\" >None</td>\n",
       "    </tr>\n",
       "    <tr>\n",
       "      <td id=\"T_e8efc_row2_col0\" class=\"data row2 col0\" >Geography</td>\n",
       "      <td id=\"T_e8efc_row2_col1\" class=\"data row2 col1\" >address_end_date</td>\n",
       "      <td id=\"T_e8efc_row2_col2\" class=\"data row2 col2\" >Address end date</td>\n",
       "      <td id=\"T_e8efc_row2_col3\" class=\"data row2 col3\" >LPS</td>\n",
       "      <td id=\"T_e8efc_row2_col4\" class=\"data row2 col4\" >None</td>\n",
       "    </tr>\n",
       "    <tr>\n",
       "      <td id=\"T_e8efc_row3_col0\" class=\"data row3 col0\" >UK LLC</td>\n",
       "      <td id=\"T_e8efc_row3_col1\" class=\"data row3 col1\" >avail_from_dt</td>\n",
       "      <td id=\"T_e8efc_row3_col2\" class=\"data row3 col2\" >None</td>\n",
       "      <td id=\"T_e8efc_row3_col3\" class=\"data row3 col3\" >UK LLC</td>\n",
       "      <td id=\"T_e8efc_row3_col4\" class=\"data row3 col4\" >None</td>\n",
       "    </tr>\n",
       "    <tr>\n",
       "      <td id=\"T_e8efc_row4_col0\" class=\"data row4 col0\" >Geography</td>\n",
       "      <td id=\"T_e8efc_row4_col1\" class=\"data row4 col1\" >buf_area</td>\n",
       "      <td id=\"T_e8efc_row4_col2\" class=\"data row4 col2\" >Buffer area</td>\n",
       "      <td id=\"T_e8efc_row4_col3\" class=\"data row4 col3\" >University of Leicester</td>\n",
       "      <td id=\"T_e8efc_row4_col4\" class=\"data row4 col4\" >None</td>\n",
       "    </tr>\n",
       "    <tr>\n",
       "      <td id=\"T_e8efc_row5_col0\" class=\"data row5 col0\" >Geography</td>\n",
       "      <td id=\"T_e8efc_row5_col1\" class=\"data row5 col1\" >lsoa11_e</td>\n",
       "      <td id=\"T_e8efc_row5_col2\" class=\"data row5 col2\" >Lower layer super output area (LSOA) encrypted</td>\n",
       "      <td id=\"T_e8efc_row5_col3\" class=\"data row5 col3\" >Office of National Statistics</td>\n",
       "      <td id=\"T_e8efc_row5_col4\" class=\"data row5 col4\" >2011</td>\n",
       "    </tr>\n",
       "    <tr>\n",
       "      <td id=\"T_e8efc_row6_col0\" class=\"data row6 col0\" >Geography</td>\n",
       "      <td id=\"T_e8efc_row6_col1\" class=\"data row6 col1\" >matchcode</td>\n",
       "      <td id=\"T_e8efc_row6_col2\" class=\"data row6 col2\" >Experian match code indicator</td>\n",
       "      <td id=\"T_e8efc_row6_col3\" class=\"data row6 col3\" >University of Leicester</td>\n",
       "      <td id=\"T_e8efc_row6_col4\" class=\"data row6 col4\" >None</td>\n",
       "    </tr>\n",
       "    <tr>\n",
       "      <td id=\"T_e8efc_row7_col0\" class=\"data row7 col0\" >Geography</td>\n",
       "      <td id=\"T_e8efc_row7_col1\" class=\"data row7 col1\" >msoa11_e</td>\n",
       "      <td id=\"T_e8efc_row7_col2\" class=\"data row7 col2\" >Middle super output area (LSOA) encrypted</td>\n",
       "      <td id=\"T_e8efc_row7_col3\" class=\"data row7 col3\" >Office of National Statistics</td>\n",
       "      <td id=\"T_e8efc_row7_col4\" class=\"data row7 col4\" >2011</td>\n",
       "    </tr>\n",
       "    <tr>\n",
       "      <td id=\"T_e8efc_row8_col0\" class=\"data row8 col0\" >Greenspace</td>\n",
       "      <td id=\"T_e8efc_row8_col1\" class=\"data row8 col1\" >osgs_area</td>\n",
       "      <td id=\"T_e8efc_row8_col2\" class=\"data row8 col2\" >Total area of OS open greenspace falling within the buffer zone (m2)</td>\n",
       "      <td id=\"T_e8efc_row8_col3\" class=\"data row8 col3\" >Ordnance Survey Open Greenspace</td>\n",
       "      <td id=\"T_e8efc_row8_col4\" class=\"data row8 col4\" >None</td>\n",
       "    </tr>\n",
       "    <tr>\n",
       "      <td id=\"T_e8efc_row9_col0\" class=\"data row9 col0\" >Greenspace</td>\n",
       "      <td id=\"T_e8efc_row9_col1\" class=\"data row9 col1\" >osgs_pct</td>\n",
       "      <td id=\"T_e8efc_row9_col2\" class=\"data row9 col2\" >Percentage coverage of OS open greenspace falling within the buffer zone.</td>\n",
       "      <td id=\"T_e8efc_row9_col3\" class=\"data row9 col3\" >Ordnance Survey Open Greenspace</td>\n",
       "      <td id=\"T_e8efc_row9_col4\" class=\"data row9 col4\" >None</td>\n",
       "    </tr>\n",
       "    <tr>\n",
       "      <td id=\"T_e8efc_row10_col0\" class=\"data row10 col0\" >Geography</td>\n",
       "      <td id=\"T_e8efc_row10_col1\" class=\"data row10 col1\" >postcode_e</td>\n",
       "      <td id=\"T_e8efc_row10_col2\" class=\"data row10 col2\" >Postcode encrypted</td>\n",
       "      <td id=\"T_e8efc_row10_col3\" class=\"data row10 col3\" >LPS</td>\n",
       "      <td id=\"T_e8efc_row10_col4\" class=\"data row10 col4\" >None</td>\n",
       "    </tr>\n",
       "    <tr>\n",
       "      <td id=\"T_e8efc_row11_col0\" class=\"data row11 col0\" >Geography</td>\n",
       "      <td id=\"T_e8efc_row11_col1\" class=\"data row11 col1\" >region</td>\n",
       "      <td id=\"T_e8efc_row11_col2\" class=\"data row11 col2\" >UK Region </td>\n",
       "      <td id=\"T_e8efc_row11_col3\" class=\"data row11 col3\" >Office of National Statistics</td>\n",
       "      <td id=\"T_e8efc_row11_col4\" class=\"data row11 col4\" >2011</td>\n",
       "    </tr>\n",
       "    <tr>\n",
       "      <td id=\"T_e8efc_row12_col0\" class=\"data row12 col0\" >Green vegetation</td>\n",
       "      <td id=\"T_e8efc_row12_col1\" class=\"data row12 col1\" >s2ndvi2020</td>\n",
       "      <td id=\"T_e8efc_row12_col2\" class=\"data row12 col2\" >Mean value for Sentinel-2 2020 NDVI layer in the database calculated across buffer zone</td>\n",
       "      <td id=\"T_e8efc_row12_col3\" class=\"data row12 col3\" >ESA Sentinel-2, USGS Landsat</td>\n",
       "      <td id=\"T_e8efc_row12_col4\" class=\"data row12 col4\" >2020</td>\n",
       "    </tr>\n",
       "    <tr>\n",
       "      <td id=\"T_e8efc_row13_col0\" class=\"data row13 col0\" >Geography</td>\n",
       "      <td id=\"T_e8efc_row13_col1\" class=\"data row13 col1\" >uprn_e</td>\n",
       "      <td id=\"T_e8efc_row13_col2\" class=\"data row13 col2\" >Unique Property Reference Number (UPRN) encrypted</td>\n",
       "      <td id=\"T_e8efc_row13_col3\" class=\"data row13 col3\" >University of Leicester</td>\n",
       "      <td id=\"T_e8efc_row13_col4\" class=\"data row13 col4\" >None</td>\n",
       "    </tr>\n",
       "  </tbody>\n",
       "</table>\n"
      ],
      "text/plain": [
       "<pandas.io.formats.style.Styler at 0x2677fcaf750>"
      ]
     },
     "execution_count": 47,
     "metadata": {},
     "output_type": "execute_result"
    }
   ],
   "source": [
    "DS(\"greenspace_circle_points_10000m_gb_pc\").variable_table()"
   ]
  },
  {
   "cell_type": "code",
   "execution_count": 48,
   "id": "5251c2b6",
   "metadata": {
    "tags": [
     "remove-input"
    ]
   },
   "outputs": [
    {
     "data": {
      "text/markdown": [
       "### greenspace_circle_points_1000m_gb_hh"
      ],
      "text/plain": [
       "<IPython.core.display.Markdown object>"
      ]
     },
     "metadata": {},
     "output_type": "display_data"
    }
   ],
   "source": [
    "display(Markdown('### greenspace_circle_points_1000m_gb_hh'))"
   ]
  },
  {
   "cell_type": "code",
   "execution_count": 49,
   "id": "5d15a9ca",
   "metadata": {
    "tags": [
     "remove-input",
     "hide-cell"
    ]
   },
   "outputs": [
    {
     "data": {
      "text/html": [
       "<style type=\"text/css\">\n",
       "#T_4b707 th {\n",
       "  text-align: left;\n",
       "}\n",
       "#T_4b707_row0_col0, #T_4b707_row0_col1, #T_4b707_row0_col2, #T_4b707_row0_col3, #T_4b707_row0_col4, #T_4b707_row1_col0, #T_4b707_row1_col1, #T_4b707_row1_col2, #T_4b707_row1_col3, #T_4b707_row1_col4, #T_4b707_row2_col0, #T_4b707_row2_col1, #T_4b707_row2_col2, #T_4b707_row2_col3, #T_4b707_row2_col4, #T_4b707_row3_col0, #T_4b707_row3_col1, #T_4b707_row3_col2, #T_4b707_row3_col3, #T_4b707_row3_col4, #T_4b707_row4_col0, #T_4b707_row4_col1, #T_4b707_row4_col2, #T_4b707_row4_col3, #T_4b707_row4_col4, #T_4b707_row5_col0, #T_4b707_row5_col1, #T_4b707_row5_col2, #T_4b707_row5_col3, #T_4b707_row5_col4, #T_4b707_row6_col0, #T_4b707_row6_col1, #T_4b707_row6_col2, #T_4b707_row6_col3, #T_4b707_row6_col4, #T_4b707_row7_col0, #T_4b707_row7_col1, #T_4b707_row7_col2, #T_4b707_row7_col3, #T_4b707_row7_col4, #T_4b707_row8_col0, #T_4b707_row8_col1, #T_4b707_row8_col2, #T_4b707_row8_col3, #T_4b707_row8_col4, #T_4b707_row9_col0, #T_4b707_row9_col1, #T_4b707_row9_col2, #T_4b707_row9_col3, #T_4b707_row9_col4, #T_4b707_row10_col0, #T_4b707_row10_col1, #T_4b707_row10_col2, #T_4b707_row10_col3, #T_4b707_row10_col4, #T_4b707_row11_col0, #T_4b707_row11_col1, #T_4b707_row11_col2, #T_4b707_row11_col3, #T_4b707_row11_col4, #T_4b707_row12_col0, #T_4b707_row12_col1, #T_4b707_row12_col2, #T_4b707_row12_col3, #T_4b707_row12_col4, #T_4b707_row13_col0, #T_4b707_row13_col1, #T_4b707_row13_col2, #T_4b707_row13_col3, #T_4b707_row13_col4, #T_4b707_row14_col0, #T_4b707_row14_col1, #T_4b707_row14_col2, #T_4b707_row14_col3, #T_4b707_row14_col4, #T_4b707_row15_col0, #T_4b707_row15_col1, #T_4b707_row15_col2, #T_4b707_row15_col3, #T_4b707_row15_col4, #T_4b707_row16_col0, #T_4b707_row16_col1, #T_4b707_row16_col2, #T_4b707_row16_col3, #T_4b707_row16_col4, #T_4b707_row17_col0, #T_4b707_row17_col1, #T_4b707_row17_col2, #T_4b707_row17_col3, #T_4b707_row17_col4, #T_4b707_row18_col0, #T_4b707_row18_col1, #T_4b707_row18_col2, #T_4b707_row18_col3, #T_4b707_row18_col4, #T_4b707_row19_col0, #T_4b707_row19_col1, #T_4b707_row19_col2, #T_4b707_row19_col3, #T_4b707_row19_col4, #T_4b707_row20_col0, #T_4b707_row20_col1, #T_4b707_row20_col2, #T_4b707_row20_col3, #T_4b707_row20_col4, #T_4b707_row21_col0, #T_4b707_row21_col1, #T_4b707_row21_col2, #T_4b707_row21_col3, #T_4b707_row21_col4, #T_4b707_row22_col0, #T_4b707_row22_col1, #T_4b707_row22_col2, #T_4b707_row22_col3, #T_4b707_row22_col4, #T_4b707_row23_col0, #T_4b707_row23_col1, #T_4b707_row23_col2, #T_4b707_row23_col3, #T_4b707_row23_col4, #T_4b707_row24_col0, #T_4b707_row24_col1, #T_4b707_row24_col2, #T_4b707_row24_col3, #T_4b707_row24_col4, #T_4b707_row25_col0, #T_4b707_row25_col1, #T_4b707_row25_col2, #T_4b707_row25_col3, #T_4b707_row25_col4 {\n",
       "  text-align: left;\n",
       "}\n",
       "</style>\n",
       "<table id=\"T_4b707\" style=\"font-size: 14px\">\n",
       "  <thead>\n",
       "    <tr>\n",
       "      <th id=\"T_4b707_level0_col0\" class=\"col_heading level0 col0\" >Variable Group</th>\n",
       "      <th id=\"T_4b707_level0_col1\" class=\"col_heading level0 col1\" >Variable</th>\n",
       "      <th id=\"T_4b707_level0_col2\" class=\"col_heading level0 col2\" >Description</th>\n",
       "      <th id=\"T_4b707_level0_col3\" class=\"col_heading level0 col3\" >Source</th>\n",
       "      <th id=\"T_4b707_level0_col4\" class=\"col_heading level0 col4\" >Date range of data</th>\n",
       "    </tr>\n",
       "  </thead>\n",
       "  <tbody>\n",
       "    <tr>\n",
       "      <td id=\"T_4b707_row0_col0\" class=\"data row0 col0\" >Identifier</td>\n",
       "      <td id=\"T_4b707_row0_col1\" class=\"data row0 col1\" >cohortkey_e</td>\n",
       "      <td id=\"T_4b707_row0_col2\" class=\"data row0 col2\" >individual level id</td>\n",
       "      <td id=\"T_4b707_row0_col3\" class=\"data row0 col3\" >LPS</td>\n",
       "      <td id=\"T_4b707_row0_col4\" class=\"data row0 col4\" >None</td>\n",
       "    </tr>\n",
       "    <tr>\n",
       "      <td id=\"T_4b707_row1_col0\" class=\"data row1 col0\" >Geography</td>\n",
       "      <td id=\"T_4b707_row1_col1\" class=\"data row1 col1\" >address_start_date</td>\n",
       "      <td id=\"T_4b707_row1_col2\" class=\"data row1 col2\" >Address start date</td>\n",
       "      <td id=\"T_4b707_row1_col3\" class=\"data row1 col3\" >LPS</td>\n",
       "      <td id=\"T_4b707_row1_col4\" class=\"data row1 col4\" >None</td>\n",
       "    </tr>\n",
       "    <tr>\n",
       "      <td id=\"T_4b707_row2_col0\" class=\"data row2 col0\" >Geography</td>\n",
       "      <td id=\"T_4b707_row2_col1\" class=\"data row2 col1\" >address_end_date</td>\n",
       "      <td id=\"T_4b707_row2_col2\" class=\"data row2 col2\" >Address end date</td>\n",
       "      <td id=\"T_4b707_row2_col3\" class=\"data row2 col3\" >LPS</td>\n",
       "      <td id=\"T_4b707_row2_col4\" class=\"data row2 col4\" >None</td>\n",
       "    </tr>\n",
       "    <tr>\n",
       "      <td id=\"T_4b707_row3_col0\" class=\"data row3 col0\" >UK LLC</td>\n",
       "      <td id=\"T_4b707_row3_col1\" class=\"data row3 col1\" >avail_from_dt</td>\n",
       "      <td id=\"T_4b707_row3_col2\" class=\"data row3 col2\" >None</td>\n",
       "      <td id=\"T_4b707_row3_col3\" class=\"data row3 col3\" >UK LLC</td>\n",
       "      <td id=\"T_4b707_row3_col4\" class=\"data row3 col4\" >None</td>\n",
       "    </tr>\n",
       "    <tr>\n",
       "      <td id=\"T_4b707_row4_col0\" class=\"data row4 col0\" >Geography</td>\n",
       "      <td id=\"T_4b707_row4_col1\" class=\"data row4 col1\" >buf_area</td>\n",
       "      <td id=\"T_4b707_row4_col2\" class=\"data row4 col2\" >Buffer area</td>\n",
       "      <td id=\"T_4b707_row4_col3\" class=\"data row4 col3\" >University of Leicester</td>\n",
       "      <td id=\"T_4b707_row4_col4\" class=\"data row4 col4\" >None</td>\n",
       "    </tr>\n",
       "    <tr>\n",
       "      <td id=\"T_4b707_row5_col0\" class=\"data row5 col0\" >Geography</td>\n",
       "      <td id=\"T_4b707_row5_col1\" class=\"data row5 col1\" >eudist2nap</td>\n",
       "      <td id=\"T_4b707_row5_col2\" class=\"data row5 col2\" >Straight-line distance between address point and nearest OS open greenspace access point</td>\n",
       "      <td id=\"T_4b707_row5_col3\" class=\"data row5 col3\" >Ordnance Survey Open Greenspace</td>\n",
       "      <td id=\"T_4b707_row5_col4\" class=\"data row5 col4\" >None</td>\n",
       "    </tr>\n",
       "    <tr>\n",
       "      <td id=\"T_4b707_row6_col0\" class=\"data row6 col0\" >Imperviousness</td>\n",
       "      <td id=\"T_4b707_row6_col1\" class=\"data row6 col1\" >imd_mean</td>\n",
       "      <td id=\"T_4b707_row6_col2\" class=\"data row6 col2\" >Mean imperviousness degree value over each buffer zone</td>\n",
       "      <td id=\"T_4b707_row6_col3\" class=\"data row6 col3\" >Copernicus High Resolution Layer Imperviousness Degree</td>\n",
       "      <td id=\"T_4b707_row6_col4\" class=\"data row6 col4\" >None</td>\n",
       "    </tr>\n",
       "    <tr>\n",
       "      <td id=\"T_4b707_row7_col0\" class=\"data row7 col0\" >Imperviousness</td>\n",
       "      <td id=\"T_4b707_row7_col1\" class=\"data row7 col1\" >imd_pct</td>\n",
       "      <td id=\"T_4b707_row7_col2\" class=\"data row7 col2\" >Percentage of the number of pixels with a least some built up value</td>\n",
       "      <td id=\"T_4b707_row7_col3\" class=\"data row7 col3\" >Copernicus High Resolution Layer Imperviousness Degree</td>\n",
       "      <td id=\"T_4b707_row7_col4\" class=\"data row7 col4\" >None</td>\n",
       "    </tr>\n",
       "    <tr>\n",
       "      <td id=\"T_4b707_row8_col0\" class=\"data row8 col0\" >Green vegetation</td>\n",
       "      <td id=\"T_4b707_row8_col1\" class=\"data row8 col1\" >lsndvi1990</td>\n",
       "      <td id=\"T_4b707_row8_col2\" class=\"data row8 col2\" >Mean value for Landsat 1990 NDVI layer in the database calculated across buffer zone</td>\n",
       "      <td id=\"T_4b707_row8_col3\" class=\"data row8 col3\" >ESA Sentinel-2, USGS Landsat</td>\n",
       "      <td id=\"T_4b707_row8_col4\" class=\"data row8 col4\" >1990</td>\n",
       "    </tr>\n",
       "    <tr>\n",
       "      <td id=\"T_4b707_row9_col0\" class=\"data row9 col0\" >Green vegetation</td>\n",
       "      <td id=\"T_4b707_row9_col1\" class=\"data row9 col1\" >lsndvi2000</td>\n",
       "      <td id=\"T_4b707_row9_col2\" class=\"data row9 col2\" >Mean value for Landsat 2000 NDVI layer in the database calculated across buffer zone</td>\n",
       "      <td id=\"T_4b707_row9_col3\" class=\"data row9 col3\" >ESA Sentinel-2, USGS Landsat</td>\n",
       "      <td id=\"T_4b707_row9_col4\" class=\"data row9 col4\" >2000</td>\n",
       "    </tr>\n",
       "    <tr>\n",
       "      <td id=\"T_4b707_row10_col0\" class=\"data row10 col0\" >Green vegetation</td>\n",
       "      <td id=\"T_4b707_row10_col1\" class=\"data row10 col1\" >lsndvi2010</td>\n",
       "      <td id=\"T_4b707_row10_col2\" class=\"data row10 col2\" >Mean value for Landsat 2010 NDVI layer in the database calculated across buffer zone</td>\n",
       "      <td id=\"T_4b707_row10_col3\" class=\"data row10 col3\" >ESA Sentinel-2, USGS Landsat</td>\n",
       "      <td id=\"T_4b707_row10_col4\" class=\"data row10 col4\" >2010</td>\n",
       "    </tr>\n",
       "    <tr>\n",
       "      <td id=\"T_4b707_row11_col0\" class=\"data row11 col0\" >Green vegetation</td>\n",
       "      <td id=\"T_4b707_row11_col1\" class=\"data row11 col1\" >lsndvi2020</td>\n",
       "      <td id=\"T_4b707_row11_col2\" class=\"data row11 col2\" >Mean value for Landsat 2020 NDVI layer in the database calculated across buffer zone</td>\n",
       "      <td id=\"T_4b707_row11_col3\" class=\"data row11 col3\" >ESA Sentinel-2, USGS Landsat</td>\n",
       "      <td id=\"T_4b707_row11_col4\" class=\"data row11 col4\" >2020</td>\n",
       "    </tr>\n",
       "    <tr>\n",
       "      <td id=\"T_4b707_row12_col0\" class=\"data row12 col0\" >Geography</td>\n",
       "      <td id=\"T_4b707_row12_col1\" class=\"data row12 col1\" >lsoa11_e</td>\n",
       "      <td id=\"T_4b707_row12_col2\" class=\"data row12 col2\" >Lower layer super output area (LSOA) encrypted</td>\n",
       "      <td id=\"T_4b707_row12_col3\" class=\"data row12 col3\" >Office of National Statistics</td>\n",
       "      <td id=\"T_4b707_row12_col4\" class=\"data row12 col4\" >2011</td>\n",
       "    </tr>\n",
       "    <tr>\n",
       "      <td id=\"T_4b707_row13_col0\" class=\"data row13 col0\" >Geography</td>\n",
       "      <td id=\"T_4b707_row13_col1\" class=\"data row13 col1\" >matchcode</td>\n",
       "      <td id=\"T_4b707_row13_col2\" class=\"data row13 col2\" >Experian match code indicator</td>\n",
       "      <td id=\"T_4b707_row13_col3\" class=\"data row13 col3\" >University of Leicester</td>\n",
       "      <td id=\"T_4b707_row13_col4\" class=\"data row13 col4\" >None</td>\n",
       "    </tr>\n",
       "    <tr>\n",
       "      <td id=\"T_4b707_row14_col0\" class=\"data row14 col0\" >Geography</td>\n",
       "      <td id=\"T_4b707_row14_col1\" class=\"data row14 col1\" >msoa11_e</td>\n",
       "      <td id=\"T_4b707_row14_col2\" class=\"data row14 col2\" >Middle super output area (LSOA) encrypted</td>\n",
       "      <td id=\"T_4b707_row14_col3\" class=\"data row14 col3\" >Office of National Statistics</td>\n",
       "      <td id=\"T_4b707_row14_col4\" class=\"data row14 col4\" >2011</td>\n",
       "    </tr>\n",
       "    <tr>\n",
       "      <td id=\"T_4b707_row15_col0\" class=\"data row15 col0\" >Geography</td>\n",
       "      <td id=\"T_4b707_row15_col1\" class=\"data row15 col1\" >ntdist2nap</td>\n",
       "      <td id=\"T_4b707_row15_col2\" class=\"data row15 col2\" >Walking distance along the road and path network to nearest OS open greenspace access point</td>\n",
       "      <td id=\"T_4b707_row15_col3\" class=\"data row15 col3\" >Ordnance Survey Open Greenspace</td>\n",
       "      <td id=\"T_4b707_row15_col4\" class=\"data row15 col4\" >None</td>\n",
       "    </tr>\n",
       "    <tr>\n",
       "      <td id=\"T_4b707_row16_col0\" class=\"data row16 col0\" >Greenspace</td>\n",
       "      <td id=\"T_4b707_row16_col1\" class=\"data row16 col1\" >osgs_ap</td>\n",
       "      <td id=\"T_4b707_row16_col2\" class=\"data row16 col2\" >Total number of OS open greenspace access points falling within each buffer zone</td>\n",
       "      <td id=\"T_4b707_row16_col3\" class=\"data row16 col3\" >Ordnance Survey Open Greenspace</td>\n",
       "      <td id=\"T_4b707_row16_col4\" class=\"data row16 col4\" >None</td>\n",
       "    </tr>\n",
       "    <tr>\n",
       "      <td id=\"T_4b707_row17_col0\" class=\"data row17 col0\" >Greenspace</td>\n",
       "      <td id=\"T_4b707_row17_col1\" class=\"data row17 col1\" >osgs_area</td>\n",
       "      <td id=\"T_4b707_row17_col2\" class=\"data row17 col2\" >Total area of OS open greenspace falling within the buffer zone (m2)</td>\n",
       "      <td id=\"T_4b707_row17_col3\" class=\"data row17 col3\" >Ordnance Survey Open Greenspace</td>\n",
       "      <td id=\"T_4b707_row17_col4\" class=\"data row17 col4\" >None</td>\n",
       "    </tr>\n",
       "    <tr>\n",
       "      <td id=\"T_4b707_row18_col0\" class=\"data row18 col0\" >Greenspace</td>\n",
       "      <td id=\"T_4b707_row18_col1\" class=\"data row18 col1\" >osgs_cnt</td>\n",
       "      <td id=\"T_4b707_row18_col2\" class=\"data row18 col2\" >Number of OS open greenspace sites within the buffer zone</td>\n",
       "      <td id=\"T_4b707_row18_col3\" class=\"data row18 col3\" >Ordnance Survey Open Greenspace</td>\n",
       "      <td id=\"T_4b707_row18_col4\" class=\"data row18 col4\" >None</td>\n",
       "    </tr>\n",
       "    <tr>\n",
       "      <td id=\"T_4b707_row19_col0\" class=\"data row19 col0\" >Greenspace</td>\n",
       "      <td id=\"T_4b707_row19_col1\" class=\"data row19 col1\" >osgs_pct</td>\n",
       "      <td id=\"T_4b707_row19_col2\" class=\"data row19 col2\" >Percentage coverage of OS open greenspace falling within the buffer zone.</td>\n",
       "      <td id=\"T_4b707_row19_col3\" class=\"data row19 col3\" >Ordnance Survey Open Greenspace</td>\n",
       "      <td id=\"T_4b707_row19_col4\" class=\"data row19 col4\" >None</td>\n",
       "    </tr>\n",
       "    <tr>\n",
       "      <td id=\"T_4b707_row20_col0\" class=\"data row20 col0\" >Geography</td>\n",
       "      <td id=\"T_4b707_row20_col1\" class=\"data row20 col1\" >postcode_e</td>\n",
       "      <td id=\"T_4b707_row20_col2\" class=\"data row20 col2\" >Postcode encrypted</td>\n",
       "      <td id=\"T_4b707_row20_col3\" class=\"data row20 col3\" >LPS</td>\n",
       "      <td id=\"T_4b707_row20_col4\" class=\"data row20 col4\" >None</td>\n",
       "    </tr>\n",
       "    <tr>\n",
       "      <td id=\"T_4b707_row21_col0\" class=\"data row21 col0\" >Geography</td>\n",
       "      <td id=\"T_4b707_row21_col1\" class=\"data row21 col1\" >region</td>\n",
       "      <td id=\"T_4b707_row21_col2\" class=\"data row21 col2\" >UK Region </td>\n",
       "      <td id=\"T_4b707_row21_col3\" class=\"data row21 col3\" >Office of National Statistics</td>\n",
       "      <td id=\"T_4b707_row21_col4\" class=\"data row21 col4\" >2011</td>\n",
       "    </tr>\n",
       "    <tr>\n",
       "      <td id=\"T_4b707_row22_col0\" class=\"data row22 col0\" >Green vegetation</td>\n",
       "      <td id=\"T_4b707_row22_col1\" class=\"data row22 col1\" >s2ndvi2020</td>\n",
       "      <td id=\"T_4b707_row22_col2\" class=\"data row22 col2\" >Mean value for Sentinel-2 2020 NDVI layer in the database calculated across buffer zone</td>\n",
       "      <td id=\"T_4b707_row22_col3\" class=\"data row22 col3\" >ESA Sentinel-2, USGS Landsat</td>\n",
       "      <td id=\"T_4b707_row22_col4\" class=\"data row22 col4\" >2020</td>\n",
       "    </tr>\n",
       "    <tr>\n",
       "      <td id=\"T_4b707_row23_col0\" class=\"data row23 col0\" >Tree Cover</td>\n",
       "      <td id=\"T_4b707_row23_col1\" class=\"data row23 col1\" >tc_pct</td>\n",
       "      <td id=\"T_4b707_row23_col2\" class=\"data row23 col2\" >Percentage of the number of pixels with a least some tree cover</td>\n",
       "      <td id=\"T_4b707_row23_col3\" class=\"data row23 col3\" >Copernicus High Resolution Layer Tree Cover Density</td>\n",
       "      <td id=\"T_4b707_row23_col4\" class=\"data row23 col4\" >None</td>\n",
       "    </tr>\n",
       "    <tr>\n",
       "      <td id=\"T_4b707_row24_col0\" class=\"data row24 col0\" >Tree Cover</td>\n",
       "      <td id=\"T_4b707_row24_col1\" class=\"data row24 col1\" >tcd_mean</td>\n",
       "      <td id=\"T_4b707_row24_col2\" class=\"data row24 col2\" >Mean tree cover density value over each buffer zone is calculated</td>\n",
       "      <td id=\"T_4b707_row24_col3\" class=\"data row24 col3\" >Copernicus High Resolution Layer Tree Cover Density</td>\n",
       "      <td id=\"T_4b707_row24_col4\" class=\"data row24 col4\" >None</td>\n",
       "    </tr>\n",
       "    <tr>\n",
       "      <td id=\"T_4b707_row25_col0\" class=\"data row25 col0\" >Geography</td>\n",
       "      <td id=\"T_4b707_row25_col1\" class=\"data row25 col1\" >uprn_e</td>\n",
       "      <td id=\"T_4b707_row25_col2\" class=\"data row25 col2\" >Unique Property Reference Number (UPRN) encrypted</td>\n",
       "      <td id=\"T_4b707_row25_col3\" class=\"data row25 col3\" >University of Leicester</td>\n",
       "      <td id=\"T_4b707_row25_col4\" class=\"data row25 col4\" >None</td>\n",
       "    </tr>\n",
       "  </tbody>\n",
       "</table>\n"
      ],
      "text/plain": [
       "<pandas.io.formats.style.Styler at 0x2677fcafed0>"
      ]
     },
     "execution_count": 49,
     "metadata": {},
     "output_type": "execute_result"
    }
   ],
   "source": [
    "DS(\"greenspace_circle_points_1000m_gb_hh\").variable_table()"
   ]
  },
  {
   "cell_type": "code",
   "execution_count": 50,
   "id": "0e5059a4",
   "metadata": {
    "tags": [
     "remove-input"
    ]
   },
   "outputs": [
    {
     "data": {
      "text/markdown": [
       "### greenspace_circle_points_1000m_gb_pc"
      ],
      "text/plain": [
       "<IPython.core.display.Markdown object>"
      ]
     },
     "metadata": {},
     "output_type": "display_data"
    }
   ],
   "source": [
    "display(Markdown('### greenspace_circle_points_1000m_gb_pc'))"
   ]
  },
  {
   "cell_type": "code",
   "execution_count": 51,
   "id": "22a102cd",
   "metadata": {
    "tags": [
     "remove-input",
     "hide-cell"
    ]
   },
   "outputs": [
    {
     "data": {
      "text/html": [
       "<style type=\"text/css\">\n",
       "#T_be347 th {\n",
       "  text-align: left;\n",
       "}\n",
       "#T_be347_row0_col0, #T_be347_row0_col1, #T_be347_row0_col2, #T_be347_row0_col3, #T_be347_row0_col4, #T_be347_row1_col0, #T_be347_row1_col1, #T_be347_row1_col2, #T_be347_row1_col3, #T_be347_row1_col4, #T_be347_row2_col0, #T_be347_row2_col1, #T_be347_row2_col2, #T_be347_row2_col3, #T_be347_row2_col4, #T_be347_row3_col0, #T_be347_row3_col1, #T_be347_row3_col2, #T_be347_row3_col3, #T_be347_row3_col4, #T_be347_row4_col0, #T_be347_row4_col1, #T_be347_row4_col2, #T_be347_row4_col3, #T_be347_row4_col4, #T_be347_row5_col0, #T_be347_row5_col1, #T_be347_row5_col2, #T_be347_row5_col3, #T_be347_row5_col4, #T_be347_row6_col0, #T_be347_row6_col1, #T_be347_row6_col2, #T_be347_row6_col3, #T_be347_row6_col4, #T_be347_row7_col0, #T_be347_row7_col1, #T_be347_row7_col2, #T_be347_row7_col3, #T_be347_row7_col4, #T_be347_row8_col0, #T_be347_row8_col1, #T_be347_row8_col2, #T_be347_row8_col3, #T_be347_row8_col4, #T_be347_row9_col0, #T_be347_row9_col1, #T_be347_row9_col2, #T_be347_row9_col3, #T_be347_row9_col4, #T_be347_row10_col0, #T_be347_row10_col1, #T_be347_row10_col2, #T_be347_row10_col3, #T_be347_row10_col4, #T_be347_row11_col0, #T_be347_row11_col1, #T_be347_row11_col2, #T_be347_row11_col3, #T_be347_row11_col4, #T_be347_row12_col0, #T_be347_row12_col1, #T_be347_row12_col2, #T_be347_row12_col3, #T_be347_row12_col4, #T_be347_row13_col0, #T_be347_row13_col1, #T_be347_row13_col2, #T_be347_row13_col3, #T_be347_row13_col4, #T_be347_row14_col0, #T_be347_row14_col1, #T_be347_row14_col2, #T_be347_row14_col3, #T_be347_row14_col4, #T_be347_row15_col0, #T_be347_row15_col1, #T_be347_row15_col2, #T_be347_row15_col3, #T_be347_row15_col4, #T_be347_row16_col0, #T_be347_row16_col1, #T_be347_row16_col2, #T_be347_row16_col3, #T_be347_row16_col4, #T_be347_row17_col0, #T_be347_row17_col1, #T_be347_row17_col2, #T_be347_row17_col3, #T_be347_row17_col4, #T_be347_row18_col0, #T_be347_row18_col1, #T_be347_row18_col2, #T_be347_row18_col3, #T_be347_row18_col4, #T_be347_row19_col0, #T_be347_row19_col1, #T_be347_row19_col2, #T_be347_row19_col3, #T_be347_row19_col4, #T_be347_row20_col0, #T_be347_row20_col1, #T_be347_row20_col2, #T_be347_row20_col3, #T_be347_row20_col4, #T_be347_row21_col0, #T_be347_row21_col1, #T_be347_row21_col2, #T_be347_row21_col3, #T_be347_row21_col4, #T_be347_row22_col0, #T_be347_row22_col1, #T_be347_row22_col2, #T_be347_row22_col3, #T_be347_row22_col4, #T_be347_row23_col0, #T_be347_row23_col1, #T_be347_row23_col2, #T_be347_row23_col3, #T_be347_row23_col4, #T_be347_row24_col0, #T_be347_row24_col1, #T_be347_row24_col2, #T_be347_row24_col3, #T_be347_row24_col4, #T_be347_row25_col0, #T_be347_row25_col1, #T_be347_row25_col2, #T_be347_row25_col3, #T_be347_row25_col4 {\n",
       "  text-align: left;\n",
       "}\n",
       "</style>\n",
       "<table id=\"T_be347\" style=\"font-size: 14px\">\n",
       "  <thead>\n",
       "    <tr>\n",
       "      <th id=\"T_be347_level0_col0\" class=\"col_heading level0 col0\" >Variable Group</th>\n",
       "      <th id=\"T_be347_level0_col1\" class=\"col_heading level0 col1\" >Variable</th>\n",
       "      <th id=\"T_be347_level0_col2\" class=\"col_heading level0 col2\" >Description</th>\n",
       "      <th id=\"T_be347_level0_col3\" class=\"col_heading level0 col3\" >Source</th>\n",
       "      <th id=\"T_be347_level0_col4\" class=\"col_heading level0 col4\" >Date range of data</th>\n",
       "    </tr>\n",
       "  </thead>\n",
       "  <tbody>\n",
       "    <tr>\n",
       "      <td id=\"T_be347_row0_col0\" class=\"data row0 col0\" >Identifier</td>\n",
       "      <td id=\"T_be347_row0_col1\" class=\"data row0 col1\" >cohortkey_e</td>\n",
       "      <td id=\"T_be347_row0_col2\" class=\"data row0 col2\" >individual level id</td>\n",
       "      <td id=\"T_be347_row0_col3\" class=\"data row0 col3\" >LPS</td>\n",
       "      <td id=\"T_be347_row0_col4\" class=\"data row0 col4\" >None</td>\n",
       "    </tr>\n",
       "    <tr>\n",
       "      <td id=\"T_be347_row1_col0\" class=\"data row1 col0\" >Geography</td>\n",
       "      <td id=\"T_be347_row1_col1\" class=\"data row1 col1\" >address_start_date</td>\n",
       "      <td id=\"T_be347_row1_col2\" class=\"data row1 col2\" >Address start date</td>\n",
       "      <td id=\"T_be347_row1_col3\" class=\"data row1 col3\" >LPS</td>\n",
       "      <td id=\"T_be347_row1_col4\" class=\"data row1 col4\" >None</td>\n",
       "    </tr>\n",
       "    <tr>\n",
       "      <td id=\"T_be347_row2_col0\" class=\"data row2 col0\" >Geography</td>\n",
       "      <td id=\"T_be347_row2_col1\" class=\"data row2 col1\" >address_end_date</td>\n",
       "      <td id=\"T_be347_row2_col2\" class=\"data row2 col2\" >Address end date</td>\n",
       "      <td id=\"T_be347_row2_col3\" class=\"data row2 col3\" >LPS</td>\n",
       "      <td id=\"T_be347_row2_col4\" class=\"data row2 col4\" >None</td>\n",
       "    </tr>\n",
       "    <tr>\n",
       "      <td id=\"T_be347_row3_col0\" class=\"data row3 col0\" >UK LLC</td>\n",
       "      <td id=\"T_be347_row3_col1\" class=\"data row3 col1\" >avail_from_dt</td>\n",
       "      <td id=\"T_be347_row3_col2\" class=\"data row3 col2\" >None</td>\n",
       "      <td id=\"T_be347_row3_col3\" class=\"data row3 col3\" >UK LLC</td>\n",
       "      <td id=\"T_be347_row3_col4\" class=\"data row3 col4\" >None</td>\n",
       "    </tr>\n",
       "    <tr>\n",
       "      <td id=\"T_be347_row4_col0\" class=\"data row4 col0\" >Geography</td>\n",
       "      <td id=\"T_be347_row4_col1\" class=\"data row4 col1\" >buf_area</td>\n",
       "      <td id=\"T_be347_row4_col2\" class=\"data row4 col2\" >Buffer area</td>\n",
       "      <td id=\"T_be347_row4_col3\" class=\"data row4 col3\" >University of Leicester</td>\n",
       "      <td id=\"T_be347_row4_col4\" class=\"data row4 col4\" >None</td>\n",
       "    </tr>\n",
       "    <tr>\n",
       "      <td id=\"T_be347_row5_col0\" class=\"data row5 col0\" >Geography</td>\n",
       "      <td id=\"T_be347_row5_col1\" class=\"data row5 col1\" >eudist2nap</td>\n",
       "      <td id=\"T_be347_row5_col2\" class=\"data row5 col2\" >Straight-line distance between address point and nearest OS open greenspace access point</td>\n",
       "      <td id=\"T_be347_row5_col3\" class=\"data row5 col3\" >Ordnance Survey Open Greenspace</td>\n",
       "      <td id=\"T_be347_row5_col4\" class=\"data row5 col4\" >None</td>\n",
       "    </tr>\n",
       "    <tr>\n",
       "      <td id=\"T_be347_row6_col0\" class=\"data row6 col0\" >Imperviousness</td>\n",
       "      <td id=\"T_be347_row6_col1\" class=\"data row6 col1\" >imd_mean</td>\n",
       "      <td id=\"T_be347_row6_col2\" class=\"data row6 col2\" >Mean imperviousness degree value over each buffer zone</td>\n",
       "      <td id=\"T_be347_row6_col3\" class=\"data row6 col3\" >Copernicus High Resolution Layer Imperviousness Degree</td>\n",
       "      <td id=\"T_be347_row6_col4\" class=\"data row6 col4\" >None</td>\n",
       "    </tr>\n",
       "    <tr>\n",
       "      <td id=\"T_be347_row7_col0\" class=\"data row7 col0\" >Imperviousness</td>\n",
       "      <td id=\"T_be347_row7_col1\" class=\"data row7 col1\" >imd_pct</td>\n",
       "      <td id=\"T_be347_row7_col2\" class=\"data row7 col2\" >Percentage of the number of pixels with a least some built up value</td>\n",
       "      <td id=\"T_be347_row7_col3\" class=\"data row7 col3\" >Copernicus High Resolution Layer Imperviousness Degree</td>\n",
       "      <td id=\"T_be347_row7_col4\" class=\"data row7 col4\" >None</td>\n",
       "    </tr>\n",
       "    <tr>\n",
       "      <td id=\"T_be347_row8_col0\" class=\"data row8 col0\" >Green vegetation</td>\n",
       "      <td id=\"T_be347_row8_col1\" class=\"data row8 col1\" >lsndvi1990</td>\n",
       "      <td id=\"T_be347_row8_col2\" class=\"data row8 col2\" >Mean value for Landsat 1990 NDVI layer in the database calculated across buffer zone</td>\n",
       "      <td id=\"T_be347_row8_col3\" class=\"data row8 col3\" >ESA Sentinel-2, USGS Landsat</td>\n",
       "      <td id=\"T_be347_row8_col4\" class=\"data row8 col4\" >1990</td>\n",
       "    </tr>\n",
       "    <tr>\n",
       "      <td id=\"T_be347_row9_col0\" class=\"data row9 col0\" >Green vegetation</td>\n",
       "      <td id=\"T_be347_row9_col1\" class=\"data row9 col1\" >lsndvi2000</td>\n",
       "      <td id=\"T_be347_row9_col2\" class=\"data row9 col2\" >Mean value for Landsat 2000 NDVI layer in the database calculated across buffer zone</td>\n",
       "      <td id=\"T_be347_row9_col3\" class=\"data row9 col3\" >ESA Sentinel-2, USGS Landsat</td>\n",
       "      <td id=\"T_be347_row9_col4\" class=\"data row9 col4\" >2000</td>\n",
       "    </tr>\n",
       "    <tr>\n",
       "      <td id=\"T_be347_row10_col0\" class=\"data row10 col0\" >Green vegetation</td>\n",
       "      <td id=\"T_be347_row10_col1\" class=\"data row10 col1\" >lsndvi2010</td>\n",
       "      <td id=\"T_be347_row10_col2\" class=\"data row10 col2\" >Mean value for Landsat 2010 NDVI layer in the database calculated across buffer zone</td>\n",
       "      <td id=\"T_be347_row10_col3\" class=\"data row10 col3\" >ESA Sentinel-2, USGS Landsat</td>\n",
       "      <td id=\"T_be347_row10_col4\" class=\"data row10 col4\" >2010</td>\n",
       "    </tr>\n",
       "    <tr>\n",
       "      <td id=\"T_be347_row11_col0\" class=\"data row11 col0\" >Green vegetation</td>\n",
       "      <td id=\"T_be347_row11_col1\" class=\"data row11 col1\" >lsndvi2020</td>\n",
       "      <td id=\"T_be347_row11_col2\" class=\"data row11 col2\" >Mean value for Landsat 2020 NDVI layer in the database calculated across buffer zone</td>\n",
       "      <td id=\"T_be347_row11_col3\" class=\"data row11 col3\" >ESA Sentinel-2, USGS Landsat</td>\n",
       "      <td id=\"T_be347_row11_col4\" class=\"data row11 col4\" >2020</td>\n",
       "    </tr>\n",
       "    <tr>\n",
       "      <td id=\"T_be347_row12_col0\" class=\"data row12 col0\" >Geography</td>\n",
       "      <td id=\"T_be347_row12_col1\" class=\"data row12 col1\" >lsoa11_e</td>\n",
       "      <td id=\"T_be347_row12_col2\" class=\"data row12 col2\" >Lower layer super output area (LSOA) encrypted</td>\n",
       "      <td id=\"T_be347_row12_col3\" class=\"data row12 col3\" >Office of National Statistics</td>\n",
       "      <td id=\"T_be347_row12_col4\" class=\"data row12 col4\" >2011</td>\n",
       "    </tr>\n",
       "    <tr>\n",
       "      <td id=\"T_be347_row13_col0\" class=\"data row13 col0\" >Geography</td>\n",
       "      <td id=\"T_be347_row13_col1\" class=\"data row13 col1\" >matchcode</td>\n",
       "      <td id=\"T_be347_row13_col2\" class=\"data row13 col2\" >Experian match code indicator</td>\n",
       "      <td id=\"T_be347_row13_col3\" class=\"data row13 col3\" >University of Leicester</td>\n",
       "      <td id=\"T_be347_row13_col4\" class=\"data row13 col4\" >None</td>\n",
       "    </tr>\n",
       "    <tr>\n",
       "      <td id=\"T_be347_row14_col0\" class=\"data row14 col0\" >Geography</td>\n",
       "      <td id=\"T_be347_row14_col1\" class=\"data row14 col1\" >msoa11_e</td>\n",
       "      <td id=\"T_be347_row14_col2\" class=\"data row14 col2\" >Middle super output area (LSOA) encrypted</td>\n",
       "      <td id=\"T_be347_row14_col3\" class=\"data row14 col3\" >Office of National Statistics</td>\n",
       "      <td id=\"T_be347_row14_col4\" class=\"data row14 col4\" >2011</td>\n",
       "    </tr>\n",
       "    <tr>\n",
       "      <td id=\"T_be347_row15_col0\" class=\"data row15 col0\" >Geography</td>\n",
       "      <td id=\"T_be347_row15_col1\" class=\"data row15 col1\" >ntdist2nap</td>\n",
       "      <td id=\"T_be347_row15_col2\" class=\"data row15 col2\" >Walking distance along the road and path network to nearest OS open greenspace access point</td>\n",
       "      <td id=\"T_be347_row15_col3\" class=\"data row15 col3\" >Ordnance Survey Open Greenspace</td>\n",
       "      <td id=\"T_be347_row15_col4\" class=\"data row15 col4\" >None</td>\n",
       "    </tr>\n",
       "    <tr>\n",
       "      <td id=\"T_be347_row16_col0\" class=\"data row16 col0\" >Greenspace</td>\n",
       "      <td id=\"T_be347_row16_col1\" class=\"data row16 col1\" >osgs_ap</td>\n",
       "      <td id=\"T_be347_row16_col2\" class=\"data row16 col2\" >Total number of OS open greenspace access points falling within each buffer zone</td>\n",
       "      <td id=\"T_be347_row16_col3\" class=\"data row16 col3\" >Ordnance Survey Open Greenspace</td>\n",
       "      <td id=\"T_be347_row16_col4\" class=\"data row16 col4\" >None</td>\n",
       "    </tr>\n",
       "    <tr>\n",
       "      <td id=\"T_be347_row17_col0\" class=\"data row17 col0\" >Greenspace</td>\n",
       "      <td id=\"T_be347_row17_col1\" class=\"data row17 col1\" >osgs_area</td>\n",
       "      <td id=\"T_be347_row17_col2\" class=\"data row17 col2\" >Total area of OS open greenspace falling within the buffer zone (m2)</td>\n",
       "      <td id=\"T_be347_row17_col3\" class=\"data row17 col3\" >Ordnance Survey Open Greenspace</td>\n",
       "      <td id=\"T_be347_row17_col4\" class=\"data row17 col4\" >None</td>\n",
       "    </tr>\n",
       "    <tr>\n",
       "      <td id=\"T_be347_row18_col0\" class=\"data row18 col0\" >Greenspace</td>\n",
       "      <td id=\"T_be347_row18_col1\" class=\"data row18 col1\" >osgs_cnt</td>\n",
       "      <td id=\"T_be347_row18_col2\" class=\"data row18 col2\" >Number of OS open greenspace sites within the buffer zone</td>\n",
       "      <td id=\"T_be347_row18_col3\" class=\"data row18 col3\" >Ordnance Survey Open Greenspace</td>\n",
       "      <td id=\"T_be347_row18_col4\" class=\"data row18 col4\" >None</td>\n",
       "    </tr>\n",
       "    <tr>\n",
       "      <td id=\"T_be347_row19_col0\" class=\"data row19 col0\" >Greenspace</td>\n",
       "      <td id=\"T_be347_row19_col1\" class=\"data row19 col1\" >osgs_pct</td>\n",
       "      <td id=\"T_be347_row19_col2\" class=\"data row19 col2\" >Percentage coverage of OS open greenspace falling within the buffer zone.</td>\n",
       "      <td id=\"T_be347_row19_col3\" class=\"data row19 col3\" >Ordnance Survey Open Greenspace</td>\n",
       "      <td id=\"T_be347_row19_col4\" class=\"data row19 col4\" >None</td>\n",
       "    </tr>\n",
       "    <tr>\n",
       "      <td id=\"T_be347_row20_col0\" class=\"data row20 col0\" >Geography</td>\n",
       "      <td id=\"T_be347_row20_col1\" class=\"data row20 col1\" >postcode_e</td>\n",
       "      <td id=\"T_be347_row20_col2\" class=\"data row20 col2\" >Postcode encrypted</td>\n",
       "      <td id=\"T_be347_row20_col3\" class=\"data row20 col3\" >LPS</td>\n",
       "      <td id=\"T_be347_row20_col4\" class=\"data row20 col4\" >None</td>\n",
       "    </tr>\n",
       "    <tr>\n",
       "      <td id=\"T_be347_row21_col0\" class=\"data row21 col0\" >Geography</td>\n",
       "      <td id=\"T_be347_row21_col1\" class=\"data row21 col1\" >region</td>\n",
       "      <td id=\"T_be347_row21_col2\" class=\"data row21 col2\" >UK Region </td>\n",
       "      <td id=\"T_be347_row21_col3\" class=\"data row21 col3\" >Office of National Statistics</td>\n",
       "      <td id=\"T_be347_row21_col4\" class=\"data row21 col4\" >2011</td>\n",
       "    </tr>\n",
       "    <tr>\n",
       "      <td id=\"T_be347_row22_col0\" class=\"data row22 col0\" >Green vegetation</td>\n",
       "      <td id=\"T_be347_row22_col1\" class=\"data row22 col1\" >s2ndvi2020</td>\n",
       "      <td id=\"T_be347_row22_col2\" class=\"data row22 col2\" >Mean value for Sentinel-2 2020 NDVI layer in the database calculated across buffer zone</td>\n",
       "      <td id=\"T_be347_row22_col3\" class=\"data row22 col3\" >ESA Sentinel-2, USGS Landsat</td>\n",
       "      <td id=\"T_be347_row22_col4\" class=\"data row22 col4\" >2020</td>\n",
       "    </tr>\n",
       "    <tr>\n",
       "      <td id=\"T_be347_row23_col0\" class=\"data row23 col0\" >Tree Cover</td>\n",
       "      <td id=\"T_be347_row23_col1\" class=\"data row23 col1\" >tc_pct</td>\n",
       "      <td id=\"T_be347_row23_col2\" class=\"data row23 col2\" >Percentage of the number of pixels with a least some tree cover</td>\n",
       "      <td id=\"T_be347_row23_col3\" class=\"data row23 col3\" >Copernicus High Resolution Layer Tree Cover Density</td>\n",
       "      <td id=\"T_be347_row23_col4\" class=\"data row23 col4\" >None</td>\n",
       "    </tr>\n",
       "    <tr>\n",
       "      <td id=\"T_be347_row24_col0\" class=\"data row24 col0\" >Tree Cover</td>\n",
       "      <td id=\"T_be347_row24_col1\" class=\"data row24 col1\" >tcd_mean</td>\n",
       "      <td id=\"T_be347_row24_col2\" class=\"data row24 col2\" >Mean tree cover density value over each buffer zone is calculated</td>\n",
       "      <td id=\"T_be347_row24_col3\" class=\"data row24 col3\" >Copernicus High Resolution Layer Tree Cover Density</td>\n",
       "      <td id=\"T_be347_row24_col4\" class=\"data row24 col4\" >None</td>\n",
       "    </tr>\n",
       "    <tr>\n",
       "      <td id=\"T_be347_row25_col0\" class=\"data row25 col0\" >Geography</td>\n",
       "      <td id=\"T_be347_row25_col1\" class=\"data row25 col1\" >uprn_e</td>\n",
       "      <td id=\"T_be347_row25_col2\" class=\"data row25 col2\" >Unique Property Reference Number (UPRN) encrypted</td>\n",
       "      <td id=\"T_be347_row25_col3\" class=\"data row25 col3\" >University of Leicester</td>\n",
       "      <td id=\"T_be347_row25_col4\" class=\"data row25 col4\" >None</td>\n",
       "    </tr>\n",
       "  </tbody>\n",
       "</table>\n"
      ],
      "text/plain": [
       "<pandas.io.formats.style.Styler at 0x2677fcafc50>"
      ]
     },
     "execution_count": 51,
     "metadata": {},
     "output_type": "execute_result"
    }
   ],
   "source": [
    "DS(\"greenspace_circle_points_1000m_gb_pc\").variable_table()"
   ]
  },
  {
   "cell_type": "code",
   "execution_count": 52,
   "id": "d9ef1fa5",
   "metadata": {
    "tags": [
     "remove-input"
    ]
   },
   "outputs": [
    {
     "data": {
      "text/markdown": [
       "### greenspace_circle_points_2000m_gb_hh"
      ],
      "text/plain": [
       "<IPython.core.display.Markdown object>"
      ]
     },
     "metadata": {},
     "output_type": "display_data"
    }
   ],
   "source": [
    "display(Markdown('### greenspace_circle_points_2000m_gb_hh'))"
   ]
  },
  {
   "cell_type": "code",
   "execution_count": 53,
   "id": "82fff7e7",
   "metadata": {
    "tags": [
     "remove-input",
     "hide-cell"
    ]
   },
   "outputs": [
    {
     "data": {
      "text/html": [
       "<style type=\"text/css\">\n",
       "#T_46643 th {\n",
       "  text-align: left;\n",
       "}\n",
       "#T_46643_row0_col0, #T_46643_row0_col1, #T_46643_row0_col2, #T_46643_row0_col3, #T_46643_row0_col4, #T_46643_row1_col0, #T_46643_row1_col1, #T_46643_row1_col2, #T_46643_row1_col3, #T_46643_row1_col4, #T_46643_row2_col0, #T_46643_row2_col1, #T_46643_row2_col2, #T_46643_row2_col3, #T_46643_row2_col4, #T_46643_row3_col0, #T_46643_row3_col1, #T_46643_row3_col2, #T_46643_row3_col3, #T_46643_row3_col4, #T_46643_row4_col0, #T_46643_row4_col1, #T_46643_row4_col2, #T_46643_row4_col3, #T_46643_row4_col4, #T_46643_row5_col0, #T_46643_row5_col1, #T_46643_row5_col2, #T_46643_row5_col3, #T_46643_row5_col4, #T_46643_row6_col0, #T_46643_row6_col1, #T_46643_row6_col2, #T_46643_row6_col3, #T_46643_row6_col4, #T_46643_row7_col0, #T_46643_row7_col1, #T_46643_row7_col2, #T_46643_row7_col3, #T_46643_row7_col4, #T_46643_row8_col0, #T_46643_row8_col1, #T_46643_row8_col2, #T_46643_row8_col3, #T_46643_row8_col4, #T_46643_row9_col0, #T_46643_row9_col1, #T_46643_row9_col2, #T_46643_row9_col3, #T_46643_row9_col4, #T_46643_row10_col0, #T_46643_row10_col1, #T_46643_row10_col2, #T_46643_row10_col3, #T_46643_row10_col4, #T_46643_row11_col0, #T_46643_row11_col1, #T_46643_row11_col2, #T_46643_row11_col3, #T_46643_row11_col4, #T_46643_row12_col0, #T_46643_row12_col1, #T_46643_row12_col2, #T_46643_row12_col3, #T_46643_row12_col4, #T_46643_row13_col0, #T_46643_row13_col1, #T_46643_row13_col2, #T_46643_row13_col3, #T_46643_row13_col4, #T_46643_row14_col0, #T_46643_row14_col1, #T_46643_row14_col2, #T_46643_row14_col3, #T_46643_row14_col4, #T_46643_row15_col0, #T_46643_row15_col1, #T_46643_row15_col2, #T_46643_row15_col3, #T_46643_row15_col4, #T_46643_row16_col0, #T_46643_row16_col1, #T_46643_row16_col2, #T_46643_row16_col3, #T_46643_row16_col4, #T_46643_row17_col0, #T_46643_row17_col1, #T_46643_row17_col2, #T_46643_row17_col3, #T_46643_row17_col4, #T_46643_row18_col0, #T_46643_row18_col1, #T_46643_row18_col2, #T_46643_row18_col3, #T_46643_row18_col4, #T_46643_row19_col0, #T_46643_row19_col1, #T_46643_row19_col2, #T_46643_row19_col3, #T_46643_row19_col4, #T_46643_row20_col0, #T_46643_row20_col1, #T_46643_row20_col2, #T_46643_row20_col3, #T_46643_row20_col4, #T_46643_row21_col0, #T_46643_row21_col1, #T_46643_row21_col2, #T_46643_row21_col3, #T_46643_row21_col4, #T_46643_row22_col0, #T_46643_row22_col1, #T_46643_row22_col2, #T_46643_row22_col3, #T_46643_row22_col4, #T_46643_row23_col0, #T_46643_row23_col1, #T_46643_row23_col2, #T_46643_row23_col3, #T_46643_row23_col4, #T_46643_row24_col0, #T_46643_row24_col1, #T_46643_row24_col2, #T_46643_row24_col3, #T_46643_row24_col4, #T_46643_row25_col0, #T_46643_row25_col1, #T_46643_row25_col2, #T_46643_row25_col3, #T_46643_row25_col4 {\n",
       "  text-align: left;\n",
       "}\n",
       "</style>\n",
       "<table id=\"T_46643\" style=\"font-size: 14px\">\n",
       "  <thead>\n",
       "    <tr>\n",
       "      <th id=\"T_46643_level0_col0\" class=\"col_heading level0 col0\" >Variable Group</th>\n",
       "      <th id=\"T_46643_level0_col1\" class=\"col_heading level0 col1\" >Variable</th>\n",
       "      <th id=\"T_46643_level0_col2\" class=\"col_heading level0 col2\" >Description</th>\n",
       "      <th id=\"T_46643_level0_col3\" class=\"col_heading level0 col3\" >Source</th>\n",
       "      <th id=\"T_46643_level0_col4\" class=\"col_heading level0 col4\" >Date range of data</th>\n",
       "    </tr>\n",
       "  </thead>\n",
       "  <tbody>\n",
       "    <tr>\n",
       "      <td id=\"T_46643_row0_col0\" class=\"data row0 col0\" >Identifier</td>\n",
       "      <td id=\"T_46643_row0_col1\" class=\"data row0 col1\" >cohortkey_e</td>\n",
       "      <td id=\"T_46643_row0_col2\" class=\"data row0 col2\" >individual level id</td>\n",
       "      <td id=\"T_46643_row0_col3\" class=\"data row0 col3\" >LPS</td>\n",
       "      <td id=\"T_46643_row0_col4\" class=\"data row0 col4\" >None</td>\n",
       "    </tr>\n",
       "    <tr>\n",
       "      <td id=\"T_46643_row1_col0\" class=\"data row1 col0\" >Geography</td>\n",
       "      <td id=\"T_46643_row1_col1\" class=\"data row1 col1\" >address_start_date</td>\n",
       "      <td id=\"T_46643_row1_col2\" class=\"data row1 col2\" >Address start date</td>\n",
       "      <td id=\"T_46643_row1_col3\" class=\"data row1 col3\" >LPS</td>\n",
       "      <td id=\"T_46643_row1_col4\" class=\"data row1 col4\" >None</td>\n",
       "    </tr>\n",
       "    <tr>\n",
       "      <td id=\"T_46643_row2_col0\" class=\"data row2 col0\" >Geography</td>\n",
       "      <td id=\"T_46643_row2_col1\" class=\"data row2 col1\" >address_end_date</td>\n",
       "      <td id=\"T_46643_row2_col2\" class=\"data row2 col2\" >Address end date</td>\n",
       "      <td id=\"T_46643_row2_col3\" class=\"data row2 col3\" >LPS</td>\n",
       "      <td id=\"T_46643_row2_col4\" class=\"data row2 col4\" >None</td>\n",
       "    </tr>\n",
       "    <tr>\n",
       "      <td id=\"T_46643_row3_col0\" class=\"data row3 col0\" >UK LLC</td>\n",
       "      <td id=\"T_46643_row3_col1\" class=\"data row3 col1\" >avail_from_dt</td>\n",
       "      <td id=\"T_46643_row3_col2\" class=\"data row3 col2\" >None</td>\n",
       "      <td id=\"T_46643_row3_col3\" class=\"data row3 col3\" >UK LLC</td>\n",
       "      <td id=\"T_46643_row3_col4\" class=\"data row3 col4\" >None</td>\n",
       "    </tr>\n",
       "    <tr>\n",
       "      <td id=\"T_46643_row4_col0\" class=\"data row4 col0\" >Geography</td>\n",
       "      <td id=\"T_46643_row4_col1\" class=\"data row4 col1\" >buf_area</td>\n",
       "      <td id=\"T_46643_row4_col2\" class=\"data row4 col2\" >Buffer area</td>\n",
       "      <td id=\"T_46643_row4_col3\" class=\"data row4 col3\" >University of Leicester</td>\n",
       "      <td id=\"T_46643_row4_col4\" class=\"data row4 col4\" >None</td>\n",
       "    </tr>\n",
       "    <tr>\n",
       "      <td id=\"T_46643_row5_col0\" class=\"data row5 col0\" >Geography</td>\n",
       "      <td id=\"T_46643_row5_col1\" class=\"data row5 col1\" >eudist2nap</td>\n",
       "      <td id=\"T_46643_row5_col2\" class=\"data row5 col2\" >Straight-line distance between address point and nearest OS open greenspace access point</td>\n",
       "      <td id=\"T_46643_row5_col3\" class=\"data row5 col3\" >Ordnance Survey Open Greenspace</td>\n",
       "      <td id=\"T_46643_row5_col4\" class=\"data row5 col4\" >None</td>\n",
       "    </tr>\n",
       "    <tr>\n",
       "      <td id=\"T_46643_row6_col0\" class=\"data row6 col0\" >Imperviousness</td>\n",
       "      <td id=\"T_46643_row6_col1\" class=\"data row6 col1\" >imd_mean</td>\n",
       "      <td id=\"T_46643_row6_col2\" class=\"data row6 col2\" >Mean imperviousness degree value over each buffer zone</td>\n",
       "      <td id=\"T_46643_row6_col3\" class=\"data row6 col3\" >Copernicus High Resolution Layer Imperviousness Degree</td>\n",
       "      <td id=\"T_46643_row6_col4\" class=\"data row6 col4\" >None</td>\n",
       "    </tr>\n",
       "    <tr>\n",
       "      <td id=\"T_46643_row7_col0\" class=\"data row7 col0\" >Imperviousness</td>\n",
       "      <td id=\"T_46643_row7_col1\" class=\"data row7 col1\" >imd_pct</td>\n",
       "      <td id=\"T_46643_row7_col2\" class=\"data row7 col2\" >Percentage of the number of pixels with a least some built up value</td>\n",
       "      <td id=\"T_46643_row7_col3\" class=\"data row7 col3\" >Copernicus High Resolution Layer Imperviousness Degree</td>\n",
       "      <td id=\"T_46643_row7_col4\" class=\"data row7 col4\" >None</td>\n",
       "    </tr>\n",
       "    <tr>\n",
       "      <td id=\"T_46643_row8_col0\" class=\"data row8 col0\" >Green vegetation</td>\n",
       "      <td id=\"T_46643_row8_col1\" class=\"data row8 col1\" >lsndvi1990</td>\n",
       "      <td id=\"T_46643_row8_col2\" class=\"data row8 col2\" >Mean value for Landsat 1990 NDVI layer in the database calculated across buffer zone</td>\n",
       "      <td id=\"T_46643_row8_col3\" class=\"data row8 col3\" >ESA Sentinel-2, USGS Landsat</td>\n",
       "      <td id=\"T_46643_row8_col4\" class=\"data row8 col4\" >1990</td>\n",
       "    </tr>\n",
       "    <tr>\n",
       "      <td id=\"T_46643_row9_col0\" class=\"data row9 col0\" >Green vegetation</td>\n",
       "      <td id=\"T_46643_row9_col1\" class=\"data row9 col1\" >lsndvi2000</td>\n",
       "      <td id=\"T_46643_row9_col2\" class=\"data row9 col2\" >Mean value for Landsat 2000 NDVI layer in the database calculated across buffer zone</td>\n",
       "      <td id=\"T_46643_row9_col3\" class=\"data row9 col3\" >ESA Sentinel-2, USGS Landsat</td>\n",
       "      <td id=\"T_46643_row9_col4\" class=\"data row9 col4\" >2000</td>\n",
       "    </tr>\n",
       "    <tr>\n",
       "      <td id=\"T_46643_row10_col0\" class=\"data row10 col0\" >Green vegetation</td>\n",
       "      <td id=\"T_46643_row10_col1\" class=\"data row10 col1\" >lsndvi2010</td>\n",
       "      <td id=\"T_46643_row10_col2\" class=\"data row10 col2\" >Mean value for Landsat 2010 NDVI layer in the database calculated across buffer zone</td>\n",
       "      <td id=\"T_46643_row10_col3\" class=\"data row10 col3\" >ESA Sentinel-2, USGS Landsat</td>\n",
       "      <td id=\"T_46643_row10_col4\" class=\"data row10 col4\" >2010</td>\n",
       "    </tr>\n",
       "    <tr>\n",
       "      <td id=\"T_46643_row11_col0\" class=\"data row11 col0\" >Green vegetation</td>\n",
       "      <td id=\"T_46643_row11_col1\" class=\"data row11 col1\" >lsndvi2020</td>\n",
       "      <td id=\"T_46643_row11_col2\" class=\"data row11 col2\" >Mean value for Landsat 2020 NDVI layer in the database calculated across buffer zone</td>\n",
       "      <td id=\"T_46643_row11_col3\" class=\"data row11 col3\" >ESA Sentinel-2, USGS Landsat</td>\n",
       "      <td id=\"T_46643_row11_col4\" class=\"data row11 col4\" >2020</td>\n",
       "    </tr>\n",
       "    <tr>\n",
       "      <td id=\"T_46643_row12_col0\" class=\"data row12 col0\" >Geography</td>\n",
       "      <td id=\"T_46643_row12_col1\" class=\"data row12 col1\" >lsoa11_e</td>\n",
       "      <td id=\"T_46643_row12_col2\" class=\"data row12 col2\" >Lower layer super output area (LSOA) encrypted</td>\n",
       "      <td id=\"T_46643_row12_col3\" class=\"data row12 col3\" >Office of National Statistics</td>\n",
       "      <td id=\"T_46643_row12_col4\" class=\"data row12 col4\" >2011</td>\n",
       "    </tr>\n",
       "    <tr>\n",
       "      <td id=\"T_46643_row13_col0\" class=\"data row13 col0\" >Geography</td>\n",
       "      <td id=\"T_46643_row13_col1\" class=\"data row13 col1\" >matchcode</td>\n",
       "      <td id=\"T_46643_row13_col2\" class=\"data row13 col2\" >Experian match code indicator</td>\n",
       "      <td id=\"T_46643_row13_col3\" class=\"data row13 col3\" >University of Leicester</td>\n",
       "      <td id=\"T_46643_row13_col4\" class=\"data row13 col4\" >None</td>\n",
       "    </tr>\n",
       "    <tr>\n",
       "      <td id=\"T_46643_row14_col0\" class=\"data row14 col0\" >Geography</td>\n",
       "      <td id=\"T_46643_row14_col1\" class=\"data row14 col1\" >msoa11_e</td>\n",
       "      <td id=\"T_46643_row14_col2\" class=\"data row14 col2\" >Middle super output area (LSOA) encrypted</td>\n",
       "      <td id=\"T_46643_row14_col3\" class=\"data row14 col3\" >Office of National Statistics</td>\n",
       "      <td id=\"T_46643_row14_col4\" class=\"data row14 col4\" >2011</td>\n",
       "    </tr>\n",
       "    <tr>\n",
       "      <td id=\"T_46643_row15_col0\" class=\"data row15 col0\" >Geography</td>\n",
       "      <td id=\"T_46643_row15_col1\" class=\"data row15 col1\" >ntdist2nap</td>\n",
       "      <td id=\"T_46643_row15_col2\" class=\"data row15 col2\" >Walking distance along the road and path network to nearest OS open greenspace access point</td>\n",
       "      <td id=\"T_46643_row15_col3\" class=\"data row15 col3\" >Ordnance Survey Open Greenspace</td>\n",
       "      <td id=\"T_46643_row15_col4\" class=\"data row15 col4\" >None</td>\n",
       "    </tr>\n",
       "    <tr>\n",
       "      <td id=\"T_46643_row16_col0\" class=\"data row16 col0\" >Greenspace</td>\n",
       "      <td id=\"T_46643_row16_col1\" class=\"data row16 col1\" >osgs_ap</td>\n",
       "      <td id=\"T_46643_row16_col2\" class=\"data row16 col2\" >Total number of OS open greenspace access points falling within each buffer zone</td>\n",
       "      <td id=\"T_46643_row16_col3\" class=\"data row16 col3\" >Ordnance Survey Open Greenspace</td>\n",
       "      <td id=\"T_46643_row16_col4\" class=\"data row16 col4\" >None</td>\n",
       "    </tr>\n",
       "    <tr>\n",
       "      <td id=\"T_46643_row17_col0\" class=\"data row17 col0\" >Greenspace</td>\n",
       "      <td id=\"T_46643_row17_col1\" class=\"data row17 col1\" >osgs_area</td>\n",
       "      <td id=\"T_46643_row17_col2\" class=\"data row17 col2\" >Total area of OS open greenspace falling within the buffer zone (m2)</td>\n",
       "      <td id=\"T_46643_row17_col3\" class=\"data row17 col3\" >Ordnance Survey Open Greenspace</td>\n",
       "      <td id=\"T_46643_row17_col4\" class=\"data row17 col4\" >None</td>\n",
       "    </tr>\n",
       "    <tr>\n",
       "      <td id=\"T_46643_row18_col0\" class=\"data row18 col0\" >Greenspace</td>\n",
       "      <td id=\"T_46643_row18_col1\" class=\"data row18 col1\" >osgs_cnt</td>\n",
       "      <td id=\"T_46643_row18_col2\" class=\"data row18 col2\" >Number of OS open greenspace sites within the buffer zone</td>\n",
       "      <td id=\"T_46643_row18_col3\" class=\"data row18 col3\" >Ordnance Survey Open Greenspace</td>\n",
       "      <td id=\"T_46643_row18_col4\" class=\"data row18 col4\" >None</td>\n",
       "    </tr>\n",
       "    <tr>\n",
       "      <td id=\"T_46643_row19_col0\" class=\"data row19 col0\" >Greenspace</td>\n",
       "      <td id=\"T_46643_row19_col1\" class=\"data row19 col1\" >osgs_pct</td>\n",
       "      <td id=\"T_46643_row19_col2\" class=\"data row19 col2\" >Percentage coverage of OS open greenspace falling within the buffer zone.</td>\n",
       "      <td id=\"T_46643_row19_col3\" class=\"data row19 col3\" >Ordnance Survey Open Greenspace</td>\n",
       "      <td id=\"T_46643_row19_col4\" class=\"data row19 col4\" >None</td>\n",
       "    </tr>\n",
       "    <tr>\n",
       "      <td id=\"T_46643_row20_col0\" class=\"data row20 col0\" >Geography</td>\n",
       "      <td id=\"T_46643_row20_col1\" class=\"data row20 col1\" >postcode_e</td>\n",
       "      <td id=\"T_46643_row20_col2\" class=\"data row20 col2\" >Postcode encrypted</td>\n",
       "      <td id=\"T_46643_row20_col3\" class=\"data row20 col3\" >LPS</td>\n",
       "      <td id=\"T_46643_row20_col4\" class=\"data row20 col4\" >None</td>\n",
       "    </tr>\n",
       "    <tr>\n",
       "      <td id=\"T_46643_row21_col0\" class=\"data row21 col0\" >Geography</td>\n",
       "      <td id=\"T_46643_row21_col1\" class=\"data row21 col1\" >region</td>\n",
       "      <td id=\"T_46643_row21_col2\" class=\"data row21 col2\" >UK Region </td>\n",
       "      <td id=\"T_46643_row21_col3\" class=\"data row21 col3\" >Office of National Statistics</td>\n",
       "      <td id=\"T_46643_row21_col4\" class=\"data row21 col4\" >2011</td>\n",
       "    </tr>\n",
       "    <tr>\n",
       "      <td id=\"T_46643_row22_col0\" class=\"data row22 col0\" >Green vegetation</td>\n",
       "      <td id=\"T_46643_row22_col1\" class=\"data row22 col1\" >s2ndvi2020</td>\n",
       "      <td id=\"T_46643_row22_col2\" class=\"data row22 col2\" >Mean value for Sentinel-2 2020 NDVI layer in the database calculated across buffer zone</td>\n",
       "      <td id=\"T_46643_row22_col3\" class=\"data row22 col3\" >ESA Sentinel-2, USGS Landsat</td>\n",
       "      <td id=\"T_46643_row22_col4\" class=\"data row22 col4\" >2020</td>\n",
       "    </tr>\n",
       "    <tr>\n",
       "      <td id=\"T_46643_row23_col0\" class=\"data row23 col0\" >Tree Cover</td>\n",
       "      <td id=\"T_46643_row23_col1\" class=\"data row23 col1\" >tc_pct</td>\n",
       "      <td id=\"T_46643_row23_col2\" class=\"data row23 col2\" >Percentage of the number of pixels with a least some tree cover</td>\n",
       "      <td id=\"T_46643_row23_col3\" class=\"data row23 col3\" >Copernicus High Resolution Layer Tree Cover Density</td>\n",
       "      <td id=\"T_46643_row23_col4\" class=\"data row23 col4\" >None</td>\n",
       "    </tr>\n",
       "    <tr>\n",
       "      <td id=\"T_46643_row24_col0\" class=\"data row24 col0\" >Tree Cover</td>\n",
       "      <td id=\"T_46643_row24_col1\" class=\"data row24 col1\" >tcd_mean</td>\n",
       "      <td id=\"T_46643_row24_col2\" class=\"data row24 col2\" >Mean tree cover density value over each buffer zone is calculated</td>\n",
       "      <td id=\"T_46643_row24_col3\" class=\"data row24 col3\" >Copernicus High Resolution Layer Tree Cover Density</td>\n",
       "      <td id=\"T_46643_row24_col4\" class=\"data row24 col4\" >None</td>\n",
       "    </tr>\n",
       "    <tr>\n",
       "      <td id=\"T_46643_row25_col0\" class=\"data row25 col0\" >Geography</td>\n",
       "      <td id=\"T_46643_row25_col1\" class=\"data row25 col1\" >uprn_e</td>\n",
       "      <td id=\"T_46643_row25_col2\" class=\"data row25 col2\" >Unique Property Reference Number (UPRN) encrypted</td>\n",
       "      <td id=\"T_46643_row25_col3\" class=\"data row25 col3\" >University of Leicester</td>\n",
       "      <td id=\"T_46643_row25_col4\" class=\"data row25 col4\" >None</td>\n",
       "    </tr>\n",
       "  </tbody>\n",
       "</table>\n"
      ],
      "text/plain": [
       "<pandas.io.formats.style.Styler at 0x2677fcac690>"
      ]
     },
     "execution_count": 53,
     "metadata": {},
     "output_type": "execute_result"
    }
   ],
   "source": [
    "DS(\"greenspace_circle_points_2000m_gb_hh\").variable_table()"
   ]
  },
  {
   "cell_type": "code",
   "execution_count": 54,
   "id": "c40896fe",
   "metadata": {
    "tags": [
     "remove-input"
    ]
   },
   "outputs": [
    {
     "data": {
      "text/markdown": [
       "### greenspace_circle_points_2000m_gb_pc"
      ],
      "text/plain": [
       "<IPython.core.display.Markdown object>"
      ]
     },
     "metadata": {},
     "output_type": "display_data"
    }
   ],
   "source": [
    "display(Markdown('### greenspace_circle_points_2000m_gb_pc'))"
   ]
  },
  {
   "cell_type": "code",
   "execution_count": 55,
   "id": "45f41aae",
   "metadata": {
    "tags": [
     "remove-input",
     "hide-cell"
    ]
   },
   "outputs": [
    {
     "data": {
      "text/html": [
       "<style type=\"text/css\">\n",
       "#T_3902c th {\n",
       "  text-align: left;\n",
       "}\n",
       "#T_3902c_row0_col0, #T_3902c_row0_col1, #T_3902c_row0_col2, #T_3902c_row0_col3, #T_3902c_row0_col4, #T_3902c_row1_col0, #T_3902c_row1_col1, #T_3902c_row1_col2, #T_3902c_row1_col3, #T_3902c_row1_col4, #T_3902c_row2_col0, #T_3902c_row2_col1, #T_3902c_row2_col2, #T_3902c_row2_col3, #T_3902c_row2_col4, #T_3902c_row3_col0, #T_3902c_row3_col1, #T_3902c_row3_col2, #T_3902c_row3_col3, #T_3902c_row3_col4, #T_3902c_row4_col0, #T_3902c_row4_col1, #T_3902c_row4_col2, #T_3902c_row4_col3, #T_3902c_row4_col4, #T_3902c_row5_col0, #T_3902c_row5_col1, #T_3902c_row5_col2, #T_3902c_row5_col3, #T_3902c_row5_col4, #T_3902c_row6_col0, #T_3902c_row6_col1, #T_3902c_row6_col2, #T_3902c_row6_col3, #T_3902c_row6_col4, #T_3902c_row7_col0, #T_3902c_row7_col1, #T_3902c_row7_col2, #T_3902c_row7_col3, #T_3902c_row7_col4, #T_3902c_row8_col0, #T_3902c_row8_col1, #T_3902c_row8_col2, #T_3902c_row8_col3, #T_3902c_row8_col4, #T_3902c_row9_col0, #T_3902c_row9_col1, #T_3902c_row9_col2, #T_3902c_row9_col3, #T_3902c_row9_col4, #T_3902c_row10_col0, #T_3902c_row10_col1, #T_3902c_row10_col2, #T_3902c_row10_col3, #T_3902c_row10_col4, #T_3902c_row11_col0, #T_3902c_row11_col1, #T_3902c_row11_col2, #T_3902c_row11_col3, #T_3902c_row11_col4, #T_3902c_row12_col0, #T_3902c_row12_col1, #T_3902c_row12_col2, #T_3902c_row12_col3, #T_3902c_row12_col4, #T_3902c_row13_col0, #T_3902c_row13_col1, #T_3902c_row13_col2, #T_3902c_row13_col3, #T_3902c_row13_col4, #T_3902c_row14_col0, #T_3902c_row14_col1, #T_3902c_row14_col2, #T_3902c_row14_col3, #T_3902c_row14_col4, #T_3902c_row15_col0, #T_3902c_row15_col1, #T_3902c_row15_col2, #T_3902c_row15_col3, #T_3902c_row15_col4, #T_3902c_row16_col0, #T_3902c_row16_col1, #T_3902c_row16_col2, #T_3902c_row16_col3, #T_3902c_row16_col4, #T_3902c_row17_col0, #T_3902c_row17_col1, #T_3902c_row17_col2, #T_3902c_row17_col3, #T_3902c_row17_col4, #T_3902c_row18_col0, #T_3902c_row18_col1, #T_3902c_row18_col2, #T_3902c_row18_col3, #T_3902c_row18_col4, #T_3902c_row19_col0, #T_3902c_row19_col1, #T_3902c_row19_col2, #T_3902c_row19_col3, #T_3902c_row19_col4, #T_3902c_row20_col0, #T_3902c_row20_col1, #T_3902c_row20_col2, #T_3902c_row20_col3, #T_3902c_row20_col4, #T_3902c_row21_col0, #T_3902c_row21_col1, #T_3902c_row21_col2, #T_3902c_row21_col3, #T_3902c_row21_col4, #T_3902c_row22_col0, #T_3902c_row22_col1, #T_3902c_row22_col2, #T_3902c_row22_col3, #T_3902c_row22_col4, #T_3902c_row23_col0, #T_3902c_row23_col1, #T_3902c_row23_col2, #T_3902c_row23_col3, #T_3902c_row23_col4, #T_3902c_row24_col0, #T_3902c_row24_col1, #T_3902c_row24_col2, #T_3902c_row24_col3, #T_3902c_row24_col4, #T_3902c_row25_col0, #T_3902c_row25_col1, #T_3902c_row25_col2, #T_3902c_row25_col3, #T_3902c_row25_col4 {\n",
       "  text-align: left;\n",
       "}\n",
       "</style>\n",
       "<table id=\"T_3902c\" style=\"font-size: 14px\">\n",
       "  <thead>\n",
       "    <tr>\n",
       "      <th id=\"T_3902c_level0_col0\" class=\"col_heading level0 col0\" >Variable Group</th>\n",
       "      <th id=\"T_3902c_level0_col1\" class=\"col_heading level0 col1\" >Variable</th>\n",
       "      <th id=\"T_3902c_level0_col2\" class=\"col_heading level0 col2\" >Description</th>\n",
       "      <th id=\"T_3902c_level0_col3\" class=\"col_heading level0 col3\" >Source</th>\n",
       "      <th id=\"T_3902c_level0_col4\" class=\"col_heading level0 col4\" >Date range of data</th>\n",
       "    </tr>\n",
       "  </thead>\n",
       "  <tbody>\n",
       "    <tr>\n",
       "      <td id=\"T_3902c_row0_col0\" class=\"data row0 col0\" >Identifier</td>\n",
       "      <td id=\"T_3902c_row0_col1\" class=\"data row0 col1\" >cohortkey_e</td>\n",
       "      <td id=\"T_3902c_row0_col2\" class=\"data row0 col2\" >individual level id</td>\n",
       "      <td id=\"T_3902c_row0_col3\" class=\"data row0 col3\" >LPS</td>\n",
       "      <td id=\"T_3902c_row0_col4\" class=\"data row0 col4\" >None</td>\n",
       "    </tr>\n",
       "    <tr>\n",
       "      <td id=\"T_3902c_row1_col0\" class=\"data row1 col0\" >Geography</td>\n",
       "      <td id=\"T_3902c_row1_col1\" class=\"data row1 col1\" >address_start_date</td>\n",
       "      <td id=\"T_3902c_row1_col2\" class=\"data row1 col2\" >Address start date</td>\n",
       "      <td id=\"T_3902c_row1_col3\" class=\"data row1 col3\" >LPS</td>\n",
       "      <td id=\"T_3902c_row1_col4\" class=\"data row1 col4\" >None</td>\n",
       "    </tr>\n",
       "    <tr>\n",
       "      <td id=\"T_3902c_row2_col0\" class=\"data row2 col0\" >Geography</td>\n",
       "      <td id=\"T_3902c_row2_col1\" class=\"data row2 col1\" >address_end_date</td>\n",
       "      <td id=\"T_3902c_row2_col2\" class=\"data row2 col2\" >Address end date</td>\n",
       "      <td id=\"T_3902c_row2_col3\" class=\"data row2 col3\" >LPS</td>\n",
       "      <td id=\"T_3902c_row2_col4\" class=\"data row2 col4\" >None</td>\n",
       "    </tr>\n",
       "    <tr>\n",
       "      <td id=\"T_3902c_row3_col0\" class=\"data row3 col0\" >UK LLC</td>\n",
       "      <td id=\"T_3902c_row3_col1\" class=\"data row3 col1\" >avail_from_dt</td>\n",
       "      <td id=\"T_3902c_row3_col2\" class=\"data row3 col2\" >None</td>\n",
       "      <td id=\"T_3902c_row3_col3\" class=\"data row3 col3\" >UK LLC</td>\n",
       "      <td id=\"T_3902c_row3_col4\" class=\"data row3 col4\" >None</td>\n",
       "    </tr>\n",
       "    <tr>\n",
       "      <td id=\"T_3902c_row4_col0\" class=\"data row4 col0\" >Geography</td>\n",
       "      <td id=\"T_3902c_row4_col1\" class=\"data row4 col1\" >buf_area</td>\n",
       "      <td id=\"T_3902c_row4_col2\" class=\"data row4 col2\" >Buffer area</td>\n",
       "      <td id=\"T_3902c_row4_col3\" class=\"data row4 col3\" >University of Leicester</td>\n",
       "      <td id=\"T_3902c_row4_col4\" class=\"data row4 col4\" >None</td>\n",
       "    </tr>\n",
       "    <tr>\n",
       "      <td id=\"T_3902c_row5_col0\" class=\"data row5 col0\" >Geography</td>\n",
       "      <td id=\"T_3902c_row5_col1\" class=\"data row5 col1\" >eudist2nap</td>\n",
       "      <td id=\"T_3902c_row5_col2\" class=\"data row5 col2\" >Straight-line distance between address point and nearest OS open greenspace access point</td>\n",
       "      <td id=\"T_3902c_row5_col3\" class=\"data row5 col3\" >Ordnance Survey Open Greenspace</td>\n",
       "      <td id=\"T_3902c_row5_col4\" class=\"data row5 col4\" >None</td>\n",
       "    </tr>\n",
       "    <tr>\n",
       "      <td id=\"T_3902c_row6_col0\" class=\"data row6 col0\" >Imperviousness</td>\n",
       "      <td id=\"T_3902c_row6_col1\" class=\"data row6 col1\" >imd_mean</td>\n",
       "      <td id=\"T_3902c_row6_col2\" class=\"data row6 col2\" >Mean imperviousness degree value over each buffer zone</td>\n",
       "      <td id=\"T_3902c_row6_col3\" class=\"data row6 col3\" >Copernicus High Resolution Layer Imperviousness Degree</td>\n",
       "      <td id=\"T_3902c_row6_col4\" class=\"data row6 col4\" >None</td>\n",
       "    </tr>\n",
       "    <tr>\n",
       "      <td id=\"T_3902c_row7_col0\" class=\"data row7 col0\" >Imperviousness</td>\n",
       "      <td id=\"T_3902c_row7_col1\" class=\"data row7 col1\" >imd_pct</td>\n",
       "      <td id=\"T_3902c_row7_col2\" class=\"data row7 col2\" >Percentage of the number of pixels with a least some built up value</td>\n",
       "      <td id=\"T_3902c_row7_col3\" class=\"data row7 col3\" >Copernicus High Resolution Layer Imperviousness Degree</td>\n",
       "      <td id=\"T_3902c_row7_col4\" class=\"data row7 col4\" >None</td>\n",
       "    </tr>\n",
       "    <tr>\n",
       "      <td id=\"T_3902c_row8_col0\" class=\"data row8 col0\" >Green vegetation</td>\n",
       "      <td id=\"T_3902c_row8_col1\" class=\"data row8 col1\" >lsndvi1990</td>\n",
       "      <td id=\"T_3902c_row8_col2\" class=\"data row8 col2\" >Mean value for Landsat 1990 NDVI layer in the database calculated across buffer zone</td>\n",
       "      <td id=\"T_3902c_row8_col3\" class=\"data row8 col3\" >ESA Sentinel-2, USGS Landsat</td>\n",
       "      <td id=\"T_3902c_row8_col4\" class=\"data row8 col4\" >1990</td>\n",
       "    </tr>\n",
       "    <tr>\n",
       "      <td id=\"T_3902c_row9_col0\" class=\"data row9 col0\" >Green vegetation</td>\n",
       "      <td id=\"T_3902c_row9_col1\" class=\"data row9 col1\" >lsndvi2000</td>\n",
       "      <td id=\"T_3902c_row9_col2\" class=\"data row9 col2\" >Mean value for Landsat 2000 NDVI layer in the database calculated across buffer zone</td>\n",
       "      <td id=\"T_3902c_row9_col3\" class=\"data row9 col3\" >ESA Sentinel-2, USGS Landsat</td>\n",
       "      <td id=\"T_3902c_row9_col4\" class=\"data row9 col4\" >2000</td>\n",
       "    </tr>\n",
       "    <tr>\n",
       "      <td id=\"T_3902c_row10_col0\" class=\"data row10 col0\" >Green vegetation</td>\n",
       "      <td id=\"T_3902c_row10_col1\" class=\"data row10 col1\" >lsndvi2010</td>\n",
       "      <td id=\"T_3902c_row10_col2\" class=\"data row10 col2\" >Mean value for Landsat 2010 NDVI layer in the database calculated across buffer zone</td>\n",
       "      <td id=\"T_3902c_row10_col3\" class=\"data row10 col3\" >ESA Sentinel-2, USGS Landsat</td>\n",
       "      <td id=\"T_3902c_row10_col4\" class=\"data row10 col4\" >2010</td>\n",
       "    </tr>\n",
       "    <tr>\n",
       "      <td id=\"T_3902c_row11_col0\" class=\"data row11 col0\" >Green vegetation</td>\n",
       "      <td id=\"T_3902c_row11_col1\" class=\"data row11 col1\" >lsndvi2020</td>\n",
       "      <td id=\"T_3902c_row11_col2\" class=\"data row11 col2\" >Mean value for Landsat 2020 NDVI layer in the database calculated across buffer zone</td>\n",
       "      <td id=\"T_3902c_row11_col3\" class=\"data row11 col3\" >ESA Sentinel-2, USGS Landsat</td>\n",
       "      <td id=\"T_3902c_row11_col4\" class=\"data row11 col4\" >2010</td>\n",
       "    </tr>\n",
       "    <tr>\n",
       "      <td id=\"T_3902c_row12_col0\" class=\"data row12 col0\" >Geography</td>\n",
       "      <td id=\"T_3902c_row12_col1\" class=\"data row12 col1\" >lsoa11_e</td>\n",
       "      <td id=\"T_3902c_row12_col2\" class=\"data row12 col2\" >Lower layer super output area (LSOA) encrypted</td>\n",
       "      <td id=\"T_3902c_row12_col3\" class=\"data row12 col3\" >Office of National Statistics</td>\n",
       "      <td id=\"T_3902c_row12_col4\" class=\"data row12 col4\" >2011</td>\n",
       "    </tr>\n",
       "    <tr>\n",
       "      <td id=\"T_3902c_row13_col0\" class=\"data row13 col0\" >Geography</td>\n",
       "      <td id=\"T_3902c_row13_col1\" class=\"data row13 col1\" >matchcode</td>\n",
       "      <td id=\"T_3902c_row13_col2\" class=\"data row13 col2\" >Experian match code indicator</td>\n",
       "      <td id=\"T_3902c_row13_col3\" class=\"data row13 col3\" >University of Leicester</td>\n",
       "      <td id=\"T_3902c_row13_col4\" class=\"data row13 col4\" >None</td>\n",
       "    </tr>\n",
       "    <tr>\n",
       "      <td id=\"T_3902c_row14_col0\" class=\"data row14 col0\" >Geography</td>\n",
       "      <td id=\"T_3902c_row14_col1\" class=\"data row14 col1\" >msoa11_e</td>\n",
       "      <td id=\"T_3902c_row14_col2\" class=\"data row14 col2\" >Middle super output area (LSOA) encrypted</td>\n",
       "      <td id=\"T_3902c_row14_col3\" class=\"data row14 col3\" >Office of National Statistics</td>\n",
       "      <td id=\"T_3902c_row14_col4\" class=\"data row14 col4\" >2011</td>\n",
       "    </tr>\n",
       "    <tr>\n",
       "      <td id=\"T_3902c_row15_col0\" class=\"data row15 col0\" >Geography</td>\n",
       "      <td id=\"T_3902c_row15_col1\" class=\"data row15 col1\" >ntdist2nap</td>\n",
       "      <td id=\"T_3902c_row15_col2\" class=\"data row15 col2\" >Walking distance along the road and path network to nearest OS open greenspace access point</td>\n",
       "      <td id=\"T_3902c_row15_col3\" class=\"data row15 col3\" >Ordnance Survey Open Greenspace</td>\n",
       "      <td id=\"T_3902c_row15_col4\" class=\"data row15 col4\" >None</td>\n",
       "    </tr>\n",
       "    <tr>\n",
       "      <td id=\"T_3902c_row16_col0\" class=\"data row16 col0\" >Greenspace</td>\n",
       "      <td id=\"T_3902c_row16_col1\" class=\"data row16 col1\" >osgs_ap</td>\n",
       "      <td id=\"T_3902c_row16_col2\" class=\"data row16 col2\" >Total number of OS open greenspace access points falling within each buffer zone</td>\n",
       "      <td id=\"T_3902c_row16_col3\" class=\"data row16 col3\" >Ordnance Survey Open Greenspace</td>\n",
       "      <td id=\"T_3902c_row16_col4\" class=\"data row16 col4\" >None</td>\n",
       "    </tr>\n",
       "    <tr>\n",
       "      <td id=\"T_3902c_row17_col0\" class=\"data row17 col0\" >Greenspace</td>\n",
       "      <td id=\"T_3902c_row17_col1\" class=\"data row17 col1\" >osgs_area</td>\n",
       "      <td id=\"T_3902c_row17_col2\" class=\"data row17 col2\" >Total area of OS open greenspace falling within the buffer zone (m2)</td>\n",
       "      <td id=\"T_3902c_row17_col3\" class=\"data row17 col3\" >Ordnance Survey Open Greenspace</td>\n",
       "      <td id=\"T_3902c_row17_col4\" class=\"data row17 col4\" >None</td>\n",
       "    </tr>\n",
       "    <tr>\n",
       "      <td id=\"T_3902c_row18_col0\" class=\"data row18 col0\" >Greenspace</td>\n",
       "      <td id=\"T_3902c_row18_col1\" class=\"data row18 col1\" >osgs_cnt</td>\n",
       "      <td id=\"T_3902c_row18_col2\" class=\"data row18 col2\" >Number of OS open greenspace sites within the buffer zone</td>\n",
       "      <td id=\"T_3902c_row18_col3\" class=\"data row18 col3\" >Ordnance Survey Open Greenspace</td>\n",
       "      <td id=\"T_3902c_row18_col4\" class=\"data row18 col4\" >None</td>\n",
       "    </tr>\n",
       "    <tr>\n",
       "      <td id=\"T_3902c_row19_col0\" class=\"data row19 col0\" >Greenspace</td>\n",
       "      <td id=\"T_3902c_row19_col1\" class=\"data row19 col1\" >osgs_pct</td>\n",
       "      <td id=\"T_3902c_row19_col2\" class=\"data row19 col2\" >Percentage coverage of OS open greenspace falling within the buffer zone.</td>\n",
       "      <td id=\"T_3902c_row19_col3\" class=\"data row19 col3\" >Ordnance Survey Open Greenspace</td>\n",
       "      <td id=\"T_3902c_row19_col4\" class=\"data row19 col4\" >None</td>\n",
       "    </tr>\n",
       "    <tr>\n",
       "      <td id=\"T_3902c_row20_col0\" class=\"data row20 col0\" >Geography</td>\n",
       "      <td id=\"T_3902c_row20_col1\" class=\"data row20 col1\" >postcode_e</td>\n",
       "      <td id=\"T_3902c_row20_col2\" class=\"data row20 col2\" >Postcode encrypted</td>\n",
       "      <td id=\"T_3902c_row20_col3\" class=\"data row20 col3\" >LPS</td>\n",
       "      <td id=\"T_3902c_row20_col4\" class=\"data row20 col4\" >None</td>\n",
       "    </tr>\n",
       "    <tr>\n",
       "      <td id=\"T_3902c_row21_col0\" class=\"data row21 col0\" >Geography</td>\n",
       "      <td id=\"T_3902c_row21_col1\" class=\"data row21 col1\" >region</td>\n",
       "      <td id=\"T_3902c_row21_col2\" class=\"data row21 col2\" >UK Region </td>\n",
       "      <td id=\"T_3902c_row21_col3\" class=\"data row21 col3\" >Office of National Statistics</td>\n",
       "      <td id=\"T_3902c_row21_col4\" class=\"data row21 col4\" >2011</td>\n",
       "    </tr>\n",
       "    <tr>\n",
       "      <td id=\"T_3902c_row22_col0\" class=\"data row22 col0\" >Green vegetation</td>\n",
       "      <td id=\"T_3902c_row22_col1\" class=\"data row22 col1\" >s2ndvi2020</td>\n",
       "      <td id=\"T_3902c_row22_col2\" class=\"data row22 col2\" >Mean value for Sentinel-2 2020 NDVI layer in the database calculated across buffer zone</td>\n",
       "      <td id=\"T_3902c_row22_col3\" class=\"data row22 col3\" >ESA Sentinel-2, USGS Landsat</td>\n",
       "      <td id=\"T_3902c_row22_col4\" class=\"data row22 col4\" >2020</td>\n",
       "    </tr>\n",
       "    <tr>\n",
       "      <td id=\"T_3902c_row23_col0\" class=\"data row23 col0\" >Tree Cover</td>\n",
       "      <td id=\"T_3902c_row23_col1\" class=\"data row23 col1\" >tc_pct</td>\n",
       "      <td id=\"T_3902c_row23_col2\" class=\"data row23 col2\" >Percentage of the number of pixels with a least some tree cover</td>\n",
       "      <td id=\"T_3902c_row23_col3\" class=\"data row23 col3\" >Copernicus High Resolution Layer Tree Cover Density</td>\n",
       "      <td id=\"T_3902c_row23_col4\" class=\"data row23 col4\" >None</td>\n",
       "    </tr>\n",
       "    <tr>\n",
       "      <td id=\"T_3902c_row24_col0\" class=\"data row24 col0\" >Tree Cover</td>\n",
       "      <td id=\"T_3902c_row24_col1\" class=\"data row24 col1\" >tcd_mean</td>\n",
       "      <td id=\"T_3902c_row24_col2\" class=\"data row24 col2\" >Mean tree cover density value over each buffer zone is calculated</td>\n",
       "      <td id=\"T_3902c_row24_col3\" class=\"data row24 col3\" >Copernicus High Resolution Layer Tree Cover Density</td>\n",
       "      <td id=\"T_3902c_row24_col4\" class=\"data row24 col4\" >None</td>\n",
       "    </tr>\n",
       "    <tr>\n",
       "      <td id=\"T_3902c_row25_col0\" class=\"data row25 col0\" >Geography</td>\n",
       "      <td id=\"T_3902c_row25_col1\" class=\"data row25 col1\" >uprn_e</td>\n",
       "      <td id=\"T_3902c_row25_col2\" class=\"data row25 col2\" >Unique Property Reference Number (UPRN) encrypted</td>\n",
       "      <td id=\"T_3902c_row25_col3\" class=\"data row25 col3\" >University of Leicester</td>\n",
       "      <td id=\"T_3902c_row25_col4\" class=\"data row25 col4\" >None</td>\n",
       "    </tr>\n",
       "  </tbody>\n",
       "</table>\n"
      ],
      "text/plain": [
       "<pandas.io.formats.style.Styler at 0x2677fcae490>"
      ]
     },
     "execution_count": 55,
     "metadata": {},
     "output_type": "execute_result"
    }
   ],
   "source": [
    "DS(\"greenspace_circle_points_2000m_gb_pc\").variable_table()"
   ]
  },
  {
   "cell_type": "code",
   "execution_count": 56,
   "id": "e89b5460",
   "metadata": {
    "tags": [
     "remove-input"
    ]
   },
   "outputs": [
    {
     "data": {
      "text/markdown": [
       "### greenspace_circle_points_300m_gb_hh"
      ],
      "text/plain": [
       "<IPython.core.display.Markdown object>"
      ]
     },
     "metadata": {},
     "output_type": "display_data"
    }
   ],
   "source": [
    "display(Markdown('### greenspace_circle_points_300m_gb_hh'))"
   ]
  },
  {
   "cell_type": "code",
   "execution_count": 57,
   "id": "a66c42e5",
   "metadata": {
    "tags": [
     "remove-input",
     "hide-cell"
    ]
   },
   "outputs": [
    {
     "data": {
      "text/html": [
       "<style type=\"text/css\">\n",
       "#T_37804 th {\n",
       "  text-align: left;\n",
       "}\n",
       "#T_37804_row0_col0, #T_37804_row0_col1, #T_37804_row0_col2, #T_37804_row0_col3, #T_37804_row0_col4, #T_37804_row1_col0, #T_37804_row1_col1, #T_37804_row1_col2, #T_37804_row1_col3, #T_37804_row1_col4, #T_37804_row2_col0, #T_37804_row2_col1, #T_37804_row2_col2, #T_37804_row2_col3, #T_37804_row2_col4, #T_37804_row3_col0, #T_37804_row3_col1, #T_37804_row3_col2, #T_37804_row3_col3, #T_37804_row3_col4, #T_37804_row4_col0, #T_37804_row4_col1, #T_37804_row4_col2, #T_37804_row4_col3, #T_37804_row4_col4, #T_37804_row5_col0, #T_37804_row5_col1, #T_37804_row5_col2, #T_37804_row5_col3, #T_37804_row5_col4, #T_37804_row6_col0, #T_37804_row6_col1, #T_37804_row6_col2, #T_37804_row6_col3, #T_37804_row6_col4, #T_37804_row7_col0, #T_37804_row7_col1, #T_37804_row7_col2, #T_37804_row7_col3, #T_37804_row7_col4, #T_37804_row8_col0, #T_37804_row8_col1, #T_37804_row8_col2, #T_37804_row8_col3, #T_37804_row8_col4, #T_37804_row9_col0, #T_37804_row9_col1, #T_37804_row9_col2, #T_37804_row9_col3, #T_37804_row9_col4, #T_37804_row10_col0, #T_37804_row10_col1, #T_37804_row10_col2, #T_37804_row10_col3, #T_37804_row10_col4, #T_37804_row11_col0, #T_37804_row11_col1, #T_37804_row11_col2, #T_37804_row11_col3, #T_37804_row11_col4, #T_37804_row12_col0, #T_37804_row12_col1, #T_37804_row12_col2, #T_37804_row12_col3, #T_37804_row12_col4, #T_37804_row13_col0, #T_37804_row13_col1, #T_37804_row13_col2, #T_37804_row13_col3, #T_37804_row13_col4, #T_37804_row14_col0, #T_37804_row14_col1, #T_37804_row14_col2, #T_37804_row14_col3, #T_37804_row14_col4, #T_37804_row15_col0, #T_37804_row15_col1, #T_37804_row15_col2, #T_37804_row15_col3, #T_37804_row15_col4, #T_37804_row16_col0, #T_37804_row16_col1, #T_37804_row16_col2, #T_37804_row16_col3, #T_37804_row16_col4, #T_37804_row17_col0, #T_37804_row17_col1, #T_37804_row17_col2, #T_37804_row17_col3, #T_37804_row17_col4, #T_37804_row18_col0, #T_37804_row18_col1, #T_37804_row18_col2, #T_37804_row18_col3, #T_37804_row18_col4, #T_37804_row19_col0, #T_37804_row19_col1, #T_37804_row19_col2, #T_37804_row19_col3, #T_37804_row19_col4, #T_37804_row20_col0, #T_37804_row20_col1, #T_37804_row20_col2, #T_37804_row20_col3, #T_37804_row20_col4, #T_37804_row21_col0, #T_37804_row21_col1, #T_37804_row21_col2, #T_37804_row21_col3, #T_37804_row21_col4, #T_37804_row22_col0, #T_37804_row22_col1, #T_37804_row22_col2, #T_37804_row22_col3, #T_37804_row22_col4, #T_37804_row23_col0, #T_37804_row23_col1, #T_37804_row23_col2, #T_37804_row23_col3, #T_37804_row23_col4, #T_37804_row24_col0, #T_37804_row24_col1, #T_37804_row24_col2, #T_37804_row24_col3, #T_37804_row24_col4, #T_37804_row25_col0, #T_37804_row25_col1, #T_37804_row25_col2, #T_37804_row25_col3, #T_37804_row25_col4 {\n",
       "  text-align: left;\n",
       "}\n",
       "</style>\n",
       "<table id=\"T_37804\" style=\"font-size: 14px\">\n",
       "  <thead>\n",
       "    <tr>\n",
       "      <th id=\"T_37804_level0_col0\" class=\"col_heading level0 col0\" >Variable Group</th>\n",
       "      <th id=\"T_37804_level0_col1\" class=\"col_heading level0 col1\" >Variable</th>\n",
       "      <th id=\"T_37804_level0_col2\" class=\"col_heading level0 col2\" >Description</th>\n",
       "      <th id=\"T_37804_level0_col3\" class=\"col_heading level0 col3\" >Source</th>\n",
       "      <th id=\"T_37804_level0_col4\" class=\"col_heading level0 col4\" >Date range of data</th>\n",
       "    </tr>\n",
       "  </thead>\n",
       "  <tbody>\n",
       "    <tr>\n",
       "      <td id=\"T_37804_row0_col0\" class=\"data row0 col0\" >Identifier</td>\n",
       "      <td id=\"T_37804_row0_col1\" class=\"data row0 col1\" >cohortkey_e</td>\n",
       "      <td id=\"T_37804_row0_col2\" class=\"data row0 col2\" >individual level id</td>\n",
       "      <td id=\"T_37804_row0_col3\" class=\"data row0 col3\" >LPS</td>\n",
       "      <td id=\"T_37804_row0_col4\" class=\"data row0 col4\" >None</td>\n",
       "    </tr>\n",
       "    <tr>\n",
       "      <td id=\"T_37804_row1_col0\" class=\"data row1 col0\" >Geography</td>\n",
       "      <td id=\"T_37804_row1_col1\" class=\"data row1 col1\" >address_start_date</td>\n",
       "      <td id=\"T_37804_row1_col2\" class=\"data row1 col2\" >Address start date</td>\n",
       "      <td id=\"T_37804_row1_col3\" class=\"data row1 col3\" >LPS</td>\n",
       "      <td id=\"T_37804_row1_col4\" class=\"data row1 col4\" >None</td>\n",
       "    </tr>\n",
       "    <tr>\n",
       "      <td id=\"T_37804_row2_col0\" class=\"data row2 col0\" >Geography</td>\n",
       "      <td id=\"T_37804_row2_col1\" class=\"data row2 col1\" >address_end_date</td>\n",
       "      <td id=\"T_37804_row2_col2\" class=\"data row2 col2\" >Address end date</td>\n",
       "      <td id=\"T_37804_row2_col3\" class=\"data row2 col3\" >LPS</td>\n",
       "      <td id=\"T_37804_row2_col4\" class=\"data row2 col4\" >None</td>\n",
       "    </tr>\n",
       "    <tr>\n",
       "      <td id=\"T_37804_row3_col0\" class=\"data row3 col0\" >UK LLC</td>\n",
       "      <td id=\"T_37804_row3_col1\" class=\"data row3 col1\" >avail_from_dt</td>\n",
       "      <td id=\"T_37804_row3_col2\" class=\"data row3 col2\" >None</td>\n",
       "      <td id=\"T_37804_row3_col3\" class=\"data row3 col3\" >UK LLC</td>\n",
       "      <td id=\"T_37804_row3_col4\" class=\"data row3 col4\" >None</td>\n",
       "    </tr>\n",
       "    <tr>\n",
       "      <td id=\"T_37804_row4_col0\" class=\"data row4 col0\" >Geography</td>\n",
       "      <td id=\"T_37804_row4_col1\" class=\"data row4 col1\" >buf_area</td>\n",
       "      <td id=\"T_37804_row4_col2\" class=\"data row4 col2\" >Buffer area</td>\n",
       "      <td id=\"T_37804_row4_col3\" class=\"data row4 col3\" >University of Leicester</td>\n",
       "      <td id=\"T_37804_row4_col4\" class=\"data row4 col4\" >None</td>\n",
       "    </tr>\n",
       "    <tr>\n",
       "      <td id=\"T_37804_row5_col0\" class=\"data row5 col0\" >Geography</td>\n",
       "      <td id=\"T_37804_row5_col1\" class=\"data row5 col1\" >eudist2nap</td>\n",
       "      <td id=\"T_37804_row5_col2\" class=\"data row5 col2\" >Straight-line distance between address point and nearest OS open greenspace access point</td>\n",
       "      <td id=\"T_37804_row5_col3\" class=\"data row5 col3\" >Ordnance Survey Open Greenspace</td>\n",
       "      <td id=\"T_37804_row5_col4\" class=\"data row5 col4\" >None</td>\n",
       "    </tr>\n",
       "    <tr>\n",
       "      <td id=\"T_37804_row6_col0\" class=\"data row6 col0\" >Imperviousness</td>\n",
       "      <td id=\"T_37804_row6_col1\" class=\"data row6 col1\" >imd_mean</td>\n",
       "      <td id=\"T_37804_row6_col2\" class=\"data row6 col2\" >Mean imperviousness degree value over each buffer zone</td>\n",
       "      <td id=\"T_37804_row6_col3\" class=\"data row6 col3\" >Copernicus High Resolution Layer Imperviousness Degree</td>\n",
       "      <td id=\"T_37804_row6_col4\" class=\"data row6 col4\" >None</td>\n",
       "    </tr>\n",
       "    <tr>\n",
       "      <td id=\"T_37804_row7_col0\" class=\"data row7 col0\" >Imperviousness</td>\n",
       "      <td id=\"T_37804_row7_col1\" class=\"data row7 col1\" >imd_pct</td>\n",
       "      <td id=\"T_37804_row7_col2\" class=\"data row7 col2\" >Percentage of the number of pixels with a least some built up value</td>\n",
       "      <td id=\"T_37804_row7_col3\" class=\"data row7 col3\" >Copernicus High Resolution Layer Imperviousness Degree</td>\n",
       "      <td id=\"T_37804_row7_col4\" class=\"data row7 col4\" >None</td>\n",
       "    </tr>\n",
       "    <tr>\n",
       "      <td id=\"T_37804_row8_col0\" class=\"data row8 col0\" >Green vegetation</td>\n",
       "      <td id=\"T_37804_row8_col1\" class=\"data row8 col1\" >lsndvi1990</td>\n",
       "      <td id=\"T_37804_row8_col2\" class=\"data row8 col2\" >Mean value for Landsat 1990 NDVI layer in the database calculated across buffer zone</td>\n",
       "      <td id=\"T_37804_row8_col3\" class=\"data row8 col3\" >ESA Sentinel-2, USGS Landsat</td>\n",
       "      <td id=\"T_37804_row8_col4\" class=\"data row8 col4\" >1990</td>\n",
       "    </tr>\n",
       "    <tr>\n",
       "      <td id=\"T_37804_row9_col0\" class=\"data row9 col0\" >Green vegetation</td>\n",
       "      <td id=\"T_37804_row9_col1\" class=\"data row9 col1\" >lsndvi2000</td>\n",
       "      <td id=\"T_37804_row9_col2\" class=\"data row9 col2\" >Mean value for Landsat 2000 NDVI layer in the database calculated across buffer zone</td>\n",
       "      <td id=\"T_37804_row9_col3\" class=\"data row9 col3\" >ESA Sentinel-2, USGS Landsat</td>\n",
       "      <td id=\"T_37804_row9_col4\" class=\"data row9 col4\" >2000</td>\n",
       "    </tr>\n",
       "    <tr>\n",
       "      <td id=\"T_37804_row10_col0\" class=\"data row10 col0\" >Green vegetation</td>\n",
       "      <td id=\"T_37804_row10_col1\" class=\"data row10 col1\" >lsndvi2010</td>\n",
       "      <td id=\"T_37804_row10_col2\" class=\"data row10 col2\" >Mean value for Landsat 2010 NDVI layer in the database calculated across buffer zone</td>\n",
       "      <td id=\"T_37804_row10_col3\" class=\"data row10 col3\" >ESA Sentinel-2, USGS Landsat</td>\n",
       "      <td id=\"T_37804_row10_col4\" class=\"data row10 col4\" >2010</td>\n",
       "    </tr>\n",
       "    <tr>\n",
       "      <td id=\"T_37804_row11_col0\" class=\"data row11 col0\" >Green vegetation</td>\n",
       "      <td id=\"T_37804_row11_col1\" class=\"data row11 col1\" >lsndvi2020</td>\n",
       "      <td id=\"T_37804_row11_col2\" class=\"data row11 col2\" >Mean value for Landsat 2020 NDVI layer in the database calculated across buffer zone</td>\n",
       "      <td id=\"T_37804_row11_col3\" class=\"data row11 col3\" >ESA Sentinel-2, USGS Landsat</td>\n",
       "      <td id=\"T_37804_row11_col4\" class=\"data row11 col4\" >2010</td>\n",
       "    </tr>\n",
       "    <tr>\n",
       "      <td id=\"T_37804_row12_col0\" class=\"data row12 col0\" >Geography</td>\n",
       "      <td id=\"T_37804_row12_col1\" class=\"data row12 col1\" >lsoa11_e</td>\n",
       "      <td id=\"T_37804_row12_col2\" class=\"data row12 col2\" >Lower layer super output area (LSOA) encrypted</td>\n",
       "      <td id=\"T_37804_row12_col3\" class=\"data row12 col3\" >Office of National Statistics</td>\n",
       "      <td id=\"T_37804_row12_col4\" class=\"data row12 col4\" >2011</td>\n",
       "    </tr>\n",
       "    <tr>\n",
       "      <td id=\"T_37804_row13_col0\" class=\"data row13 col0\" >Geography</td>\n",
       "      <td id=\"T_37804_row13_col1\" class=\"data row13 col1\" >matchcode</td>\n",
       "      <td id=\"T_37804_row13_col2\" class=\"data row13 col2\" >Experian match code indicator</td>\n",
       "      <td id=\"T_37804_row13_col3\" class=\"data row13 col3\" >University of Leicester</td>\n",
       "      <td id=\"T_37804_row13_col4\" class=\"data row13 col4\" >None</td>\n",
       "    </tr>\n",
       "    <tr>\n",
       "      <td id=\"T_37804_row14_col0\" class=\"data row14 col0\" >Geography</td>\n",
       "      <td id=\"T_37804_row14_col1\" class=\"data row14 col1\" >msoa11_e</td>\n",
       "      <td id=\"T_37804_row14_col2\" class=\"data row14 col2\" >Middle super output area (LSOA) encrypted</td>\n",
       "      <td id=\"T_37804_row14_col3\" class=\"data row14 col3\" >Office of National Statistics</td>\n",
       "      <td id=\"T_37804_row14_col4\" class=\"data row14 col4\" >2011</td>\n",
       "    </tr>\n",
       "    <tr>\n",
       "      <td id=\"T_37804_row15_col0\" class=\"data row15 col0\" >Geography</td>\n",
       "      <td id=\"T_37804_row15_col1\" class=\"data row15 col1\" >ntdist2nap</td>\n",
       "      <td id=\"T_37804_row15_col2\" class=\"data row15 col2\" >Walking distance along the road and path network to nearest OS open greenspace access point</td>\n",
       "      <td id=\"T_37804_row15_col3\" class=\"data row15 col3\" >Ordnance Survey Open Greenspace</td>\n",
       "      <td id=\"T_37804_row15_col4\" class=\"data row15 col4\" >None</td>\n",
       "    </tr>\n",
       "    <tr>\n",
       "      <td id=\"T_37804_row16_col0\" class=\"data row16 col0\" >Greenspace</td>\n",
       "      <td id=\"T_37804_row16_col1\" class=\"data row16 col1\" >osgs_ap</td>\n",
       "      <td id=\"T_37804_row16_col2\" class=\"data row16 col2\" >Total number of OS open greenspace access points falling within each buffer zone</td>\n",
       "      <td id=\"T_37804_row16_col3\" class=\"data row16 col3\" >Ordnance Survey Open Greenspace</td>\n",
       "      <td id=\"T_37804_row16_col4\" class=\"data row16 col4\" >None</td>\n",
       "    </tr>\n",
       "    <tr>\n",
       "      <td id=\"T_37804_row17_col0\" class=\"data row17 col0\" >Greenspace</td>\n",
       "      <td id=\"T_37804_row17_col1\" class=\"data row17 col1\" >osgs_area</td>\n",
       "      <td id=\"T_37804_row17_col2\" class=\"data row17 col2\" >Total area of OS open greenspace falling within the buffer zone (m2)</td>\n",
       "      <td id=\"T_37804_row17_col3\" class=\"data row17 col3\" >Ordnance Survey Open Greenspace</td>\n",
       "      <td id=\"T_37804_row17_col4\" class=\"data row17 col4\" >None</td>\n",
       "    </tr>\n",
       "    <tr>\n",
       "      <td id=\"T_37804_row18_col0\" class=\"data row18 col0\" >Greenspace</td>\n",
       "      <td id=\"T_37804_row18_col1\" class=\"data row18 col1\" >osgs_cnt</td>\n",
       "      <td id=\"T_37804_row18_col2\" class=\"data row18 col2\" >Number of OS open greenspace sites within the buffer zone</td>\n",
       "      <td id=\"T_37804_row18_col3\" class=\"data row18 col3\" >Ordnance Survey Open Greenspace</td>\n",
       "      <td id=\"T_37804_row18_col4\" class=\"data row18 col4\" >None</td>\n",
       "    </tr>\n",
       "    <tr>\n",
       "      <td id=\"T_37804_row19_col0\" class=\"data row19 col0\" >Greenspace</td>\n",
       "      <td id=\"T_37804_row19_col1\" class=\"data row19 col1\" >osgs_pct</td>\n",
       "      <td id=\"T_37804_row19_col2\" class=\"data row19 col2\" >Percentage coverage of OS open greenspace falling within the buffer zone.</td>\n",
       "      <td id=\"T_37804_row19_col3\" class=\"data row19 col3\" >Ordnance Survey Open Greenspace</td>\n",
       "      <td id=\"T_37804_row19_col4\" class=\"data row19 col4\" >None</td>\n",
       "    </tr>\n",
       "    <tr>\n",
       "      <td id=\"T_37804_row20_col0\" class=\"data row20 col0\" >Geography</td>\n",
       "      <td id=\"T_37804_row20_col1\" class=\"data row20 col1\" >postcode_e</td>\n",
       "      <td id=\"T_37804_row20_col2\" class=\"data row20 col2\" >Postcode encrypted</td>\n",
       "      <td id=\"T_37804_row20_col3\" class=\"data row20 col3\" >LPS</td>\n",
       "      <td id=\"T_37804_row20_col4\" class=\"data row20 col4\" >None</td>\n",
       "    </tr>\n",
       "    <tr>\n",
       "      <td id=\"T_37804_row21_col0\" class=\"data row21 col0\" >Geography</td>\n",
       "      <td id=\"T_37804_row21_col1\" class=\"data row21 col1\" >region</td>\n",
       "      <td id=\"T_37804_row21_col2\" class=\"data row21 col2\" >UK Region </td>\n",
       "      <td id=\"T_37804_row21_col3\" class=\"data row21 col3\" >Office of National Statistics</td>\n",
       "      <td id=\"T_37804_row21_col4\" class=\"data row21 col4\" >2011</td>\n",
       "    </tr>\n",
       "    <tr>\n",
       "      <td id=\"T_37804_row22_col0\" class=\"data row22 col0\" >Green vegetation</td>\n",
       "      <td id=\"T_37804_row22_col1\" class=\"data row22 col1\" >s2ndvi2020</td>\n",
       "      <td id=\"T_37804_row22_col2\" class=\"data row22 col2\" >Mean value for Sentinel-2 2020 NDVI layer in the database calculated across buffer zone</td>\n",
       "      <td id=\"T_37804_row22_col3\" class=\"data row22 col3\" >ESA Sentinel-2, USGS Landsat</td>\n",
       "      <td id=\"T_37804_row22_col4\" class=\"data row22 col4\" >2020</td>\n",
       "    </tr>\n",
       "    <tr>\n",
       "      <td id=\"T_37804_row23_col0\" class=\"data row23 col0\" >Tree Cover</td>\n",
       "      <td id=\"T_37804_row23_col1\" class=\"data row23 col1\" >tc_pct</td>\n",
       "      <td id=\"T_37804_row23_col2\" class=\"data row23 col2\" >Percentage of the number of pixels with a least some tree cover</td>\n",
       "      <td id=\"T_37804_row23_col3\" class=\"data row23 col3\" >Copernicus High Resolution Layer Tree Cover Density</td>\n",
       "      <td id=\"T_37804_row23_col4\" class=\"data row23 col4\" >None</td>\n",
       "    </tr>\n",
       "    <tr>\n",
       "      <td id=\"T_37804_row24_col0\" class=\"data row24 col0\" >Tree Cover</td>\n",
       "      <td id=\"T_37804_row24_col1\" class=\"data row24 col1\" >tcd_mean</td>\n",
       "      <td id=\"T_37804_row24_col2\" class=\"data row24 col2\" >Mean tree cover density value over each buffer zone is calculated</td>\n",
       "      <td id=\"T_37804_row24_col3\" class=\"data row24 col3\" >Copernicus High Resolution Layer Tree Cover Density</td>\n",
       "      <td id=\"T_37804_row24_col4\" class=\"data row24 col4\" >None</td>\n",
       "    </tr>\n",
       "    <tr>\n",
       "      <td id=\"T_37804_row25_col0\" class=\"data row25 col0\" >Geography</td>\n",
       "      <td id=\"T_37804_row25_col1\" class=\"data row25 col1\" >uprn_e</td>\n",
       "      <td id=\"T_37804_row25_col2\" class=\"data row25 col2\" >Unique Property Reference Number (UPRN) encrypted</td>\n",
       "      <td id=\"T_37804_row25_col3\" class=\"data row25 col3\" >University of Leicester</td>\n",
       "      <td id=\"T_37804_row25_col4\" class=\"data row25 col4\" >None</td>\n",
       "    </tr>\n",
       "  </tbody>\n",
       "</table>\n"
      ],
      "text/plain": [
       "<pandas.io.formats.style.Styler at 0x2677fcac550>"
      ]
     },
     "execution_count": 57,
     "metadata": {},
     "output_type": "execute_result"
    }
   ],
   "source": [
    "DS(\"greenspace_circle_points_300m_gb_hh\").variable_table()"
   ]
  },
  {
   "cell_type": "code",
   "execution_count": 58,
   "id": "8ea65264",
   "metadata": {
    "tags": [
     "remove-input"
    ]
   },
   "outputs": [
    {
     "data": {
      "text/markdown": [
       "### greenspace_circle_points_300m_gb_pc"
      ],
      "text/plain": [
       "<IPython.core.display.Markdown object>"
      ]
     },
     "metadata": {},
     "output_type": "display_data"
    }
   ],
   "source": [
    "display(Markdown('### greenspace_circle_points_300m_gb_pc'))"
   ]
  },
  {
   "cell_type": "code",
   "execution_count": 59,
   "id": "37cf1518",
   "metadata": {
    "tags": [
     "remove-input",
     "hide-cell"
    ]
   },
   "outputs": [
    {
     "data": {
      "text/html": [
       "<style type=\"text/css\">\n",
       "#T_391cb th {\n",
       "  text-align: left;\n",
       "}\n",
       "#T_391cb_row0_col0, #T_391cb_row0_col1, #T_391cb_row0_col2, #T_391cb_row0_col3, #T_391cb_row0_col4, #T_391cb_row1_col0, #T_391cb_row1_col1, #T_391cb_row1_col2, #T_391cb_row1_col3, #T_391cb_row1_col4, #T_391cb_row2_col0, #T_391cb_row2_col1, #T_391cb_row2_col2, #T_391cb_row2_col3, #T_391cb_row2_col4, #T_391cb_row3_col0, #T_391cb_row3_col1, #T_391cb_row3_col2, #T_391cb_row3_col3, #T_391cb_row3_col4, #T_391cb_row4_col0, #T_391cb_row4_col1, #T_391cb_row4_col2, #T_391cb_row4_col3, #T_391cb_row4_col4, #T_391cb_row5_col0, #T_391cb_row5_col1, #T_391cb_row5_col2, #T_391cb_row5_col3, #T_391cb_row5_col4, #T_391cb_row6_col0, #T_391cb_row6_col1, #T_391cb_row6_col2, #T_391cb_row6_col3, #T_391cb_row6_col4, #T_391cb_row7_col0, #T_391cb_row7_col1, #T_391cb_row7_col2, #T_391cb_row7_col3, #T_391cb_row7_col4, #T_391cb_row8_col0, #T_391cb_row8_col1, #T_391cb_row8_col2, #T_391cb_row8_col3, #T_391cb_row8_col4, #T_391cb_row9_col0, #T_391cb_row9_col1, #T_391cb_row9_col2, #T_391cb_row9_col3, #T_391cb_row9_col4, #T_391cb_row10_col0, #T_391cb_row10_col1, #T_391cb_row10_col2, #T_391cb_row10_col3, #T_391cb_row10_col4, #T_391cb_row11_col0, #T_391cb_row11_col1, #T_391cb_row11_col2, #T_391cb_row11_col3, #T_391cb_row11_col4, #T_391cb_row12_col0, #T_391cb_row12_col1, #T_391cb_row12_col2, #T_391cb_row12_col3, #T_391cb_row12_col4, #T_391cb_row13_col0, #T_391cb_row13_col1, #T_391cb_row13_col2, #T_391cb_row13_col3, #T_391cb_row13_col4, #T_391cb_row14_col0, #T_391cb_row14_col1, #T_391cb_row14_col2, #T_391cb_row14_col3, #T_391cb_row14_col4, #T_391cb_row15_col0, #T_391cb_row15_col1, #T_391cb_row15_col2, #T_391cb_row15_col3, #T_391cb_row15_col4, #T_391cb_row16_col0, #T_391cb_row16_col1, #T_391cb_row16_col2, #T_391cb_row16_col3, #T_391cb_row16_col4, #T_391cb_row17_col0, #T_391cb_row17_col1, #T_391cb_row17_col2, #T_391cb_row17_col3, #T_391cb_row17_col4, #T_391cb_row18_col0, #T_391cb_row18_col1, #T_391cb_row18_col2, #T_391cb_row18_col3, #T_391cb_row18_col4, #T_391cb_row19_col0, #T_391cb_row19_col1, #T_391cb_row19_col2, #T_391cb_row19_col3, #T_391cb_row19_col4, #T_391cb_row20_col0, #T_391cb_row20_col1, #T_391cb_row20_col2, #T_391cb_row20_col3, #T_391cb_row20_col4, #T_391cb_row21_col0, #T_391cb_row21_col1, #T_391cb_row21_col2, #T_391cb_row21_col3, #T_391cb_row21_col4, #T_391cb_row22_col0, #T_391cb_row22_col1, #T_391cb_row22_col2, #T_391cb_row22_col3, #T_391cb_row22_col4, #T_391cb_row23_col0, #T_391cb_row23_col1, #T_391cb_row23_col2, #T_391cb_row23_col3, #T_391cb_row23_col4, #T_391cb_row24_col0, #T_391cb_row24_col1, #T_391cb_row24_col2, #T_391cb_row24_col3, #T_391cb_row24_col4, #T_391cb_row25_col0, #T_391cb_row25_col1, #T_391cb_row25_col2, #T_391cb_row25_col3, #T_391cb_row25_col4 {\n",
       "  text-align: left;\n",
       "}\n",
       "</style>\n",
       "<table id=\"T_391cb\" style=\"font-size: 14px\">\n",
       "  <thead>\n",
       "    <tr>\n",
       "      <th id=\"T_391cb_level0_col0\" class=\"col_heading level0 col0\" >Variable Group</th>\n",
       "      <th id=\"T_391cb_level0_col1\" class=\"col_heading level0 col1\" >Variable</th>\n",
       "      <th id=\"T_391cb_level0_col2\" class=\"col_heading level0 col2\" >Description</th>\n",
       "      <th id=\"T_391cb_level0_col3\" class=\"col_heading level0 col3\" >Source</th>\n",
       "      <th id=\"T_391cb_level0_col4\" class=\"col_heading level0 col4\" >Date range of data</th>\n",
       "    </tr>\n",
       "  </thead>\n",
       "  <tbody>\n",
       "    <tr>\n",
       "      <td id=\"T_391cb_row0_col0\" class=\"data row0 col0\" >Identifier</td>\n",
       "      <td id=\"T_391cb_row0_col1\" class=\"data row0 col1\" >cohortkey_e</td>\n",
       "      <td id=\"T_391cb_row0_col2\" class=\"data row0 col2\" >individual level id</td>\n",
       "      <td id=\"T_391cb_row0_col3\" class=\"data row0 col3\" >LPS</td>\n",
       "      <td id=\"T_391cb_row0_col4\" class=\"data row0 col4\" >None</td>\n",
       "    </tr>\n",
       "    <tr>\n",
       "      <td id=\"T_391cb_row1_col0\" class=\"data row1 col0\" >Geography</td>\n",
       "      <td id=\"T_391cb_row1_col1\" class=\"data row1 col1\" >address_start_date</td>\n",
       "      <td id=\"T_391cb_row1_col2\" class=\"data row1 col2\" >Address start date</td>\n",
       "      <td id=\"T_391cb_row1_col3\" class=\"data row1 col3\" >LPS</td>\n",
       "      <td id=\"T_391cb_row1_col4\" class=\"data row1 col4\" >None</td>\n",
       "    </tr>\n",
       "    <tr>\n",
       "      <td id=\"T_391cb_row2_col0\" class=\"data row2 col0\" >Geography</td>\n",
       "      <td id=\"T_391cb_row2_col1\" class=\"data row2 col1\" >address_end_date</td>\n",
       "      <td id=\"T_391cb_row2_col2\" class=\"data row2 col2\" >Address end date</td>\n",
       "      <td id=\"T_391cb_row2_col3\" class=\"data row2 col3\" >LPS</td>\n",
       "      <td id=\"T_391cb_row2_col4\" class=\"data row2 col4\" >None</td>\n",
       "    </tr>\n",
       "    <tr>\n",
       "      <td id=\"T_391cb_row3_col0\" class=\"data row3 col0\" >UK LLC</td>\n",
       "      <td id=\"T_391cb_row3_col1\" class=\"data row3 col1\" >avail_from_dt</td>\n",
       "      <td id=\"T_391cb_row3_col2\" class=\"data row3 col2\" >None</td>\n",
       "      <td id=\"T_391cb_row3_col3\" class=\"data row3 col3\" >UK LLC</td>\n",
       "      <td id=\"T_391cb_row3_col4\" class=\"data row3 col4\" >None</td>\n",
       "    </tr>\n",
       "    <tr>\n",
       "      <td id=\"T_391cb_row4_col0\" class=\"data row4 col0\" >Geography</td>\n",
       "      <td id=\"T_391cb_row4_col1\" class=\"data row4 col1\" >buf_area</td>\n",
       "      <td id=\"T_391cb_row4_col2\" class=\"data row4 col2\" >Buffer area</td>\n",
       "      <td id=\"T_391cb_row4_col3\" class=\"data row4 col3\" >University of Leicester</td>\n",
       "      <td id=\"T_391cb_row4_col4\" class=\"data row4 col4\" >None</td>\n",
       "    </tr>\n",
       "    <tr>\n",
       "      <td id=\"T_391cb_row5_col0\" class=\"data row5 col0\" >Geography</td>\n",
       "      <td id=\"T_391cb_row5_col1\" class=\"data row5 col1\" >eudist2nap</td>\n",
       "      <td id=\"T_391cb_row5_col2\" class=\"data row5 col2\" >Straight-line distance between address point and nearest OS open greenspace access point</td>\n",
       "      <td id=\"T_391cb_row5_col3\" class=\"data row5 col3\" >Ordnance Survey Open Greenspace</td>\n",
       "      <td id=\"T_391cb_row5_col4\" class=\"data row5 col4\" >None</td>\n",
       "    </tr>\n",
       "    <tr>\n",
       "      <td id=\"T_391cb_row6_col0\" class=\"data row6 col0\" >Imperviousness</td>\n",
       "      <td id=\"T_391cb_row6_col1\" class=\"data row6 col1\" >imd_mean</td>\n",
       "      <td id=\"T_391cb_row6_col2\" class=\"data row6 col2\" >Mean imperviousness degree value over each buffer zone</td>\n",
       "      <td id=\"T_391cb_row6_col3\" class=\"data row6 col3\" >Copernicus High Resolution Layer Imperviousness Degree</td>\n",
       "      <td id=\"T_391cb_row6_col4\" class=\"data row6 col4\" >None</td>\n",
       "    </tr>\n",
       "    <tr>\n",
       "      <td id=\"T_391cb_row7_col0\" class=\"data row7 col0\" >Imperviousness</td>\n",
       "      <td id=\"T_391cb_row7_col1\" class=\"data row7 col1\" >imd_pct</td>\n",
       "      <td id=\"T_391cb_row7_col2\" class=\"data row7 col2\" >Percentage of the number of pixels with a least some built up value</td>\n",
       "      <td id=\"T_391cb_row7_col3\" class=\"data row7 col3\" >Copernicus High Resolution Layer Imperviousness Degree</td>\n",
       "      <td id=\"T_391cb_row7_col4\" class=\"data row7 col4\" >None</td>\n",
       "    </tr>\n",
       "    <tr>\n",
       "      <td id=\"T_391cb_row8_col0\" class=\"data row8 col0\" >Green vegetation</td>\n",
       "      <td id=\"T_391cb_row8_col1\" class=\"data row8 col1\" >lsndvi1990</td>\n",
       "      <td id=\"T_391cb_row8_col2\" class=\"data row8 col2\" >Mean value for Landsat 1990 NDVI layer in the database calculated across buffer zone</td>\n",
       "      <td id=\"T_391cb_row8_col3\" class=\"data row8 col3\" >ESA Sentinel-2, USGS Landsat</td>\n",
       "      <td id=\"T_391cb_row8_col4\" class=\"data row8 col4\" >1990</td>\n",
       "    </tr>\n",
       "    <tr>\n",
       "      <td id=\"T_391cb_row9_col0\" class=\"data row9 col0\" >Green vegetation</td>\n",
       "      <td id=\"T_391cb_row9_col1\" class=\"data row9 col1\" >lsndvi2000</td>\n",
       "      <td id=\"T_391cb_row9_col2\" class=\"data row9 col2\" >Mean value for Landsat 2000 NDVI layer in the database calculated across buffer zone</td>\n",
       "      <td id=\"T_391cb_row9_col3\" class=\"data row9 col3\" >ESA Sentinel-2, USGS Landsat</td>\n",
       "      <td id=\"T_391cb_row9_col4\" class=\"data row9 col4\" >2000</td>\n",
       "    </tr>\n",
       "    <tr>\n",
       "      <td id=\"T_391cb_row10_col0\" class=\"data row10 col0\" >Green vegetation</td>\n",
       "      <td id=\"T_391cb_row10_col1\" class=\"data row10 col1\" >lsndvi2010</td>\n",
       "      <td id=\"T_391cb_row10_col2\" class=\"data row10 col2\" >Mean value for Landsat 2010 NDVI layer in the database calculated across buffer zone</td>\n",
       "      <td id=\"T_391cb_row10_col3\" class=\"data row10 col3\" >ESA Sentinel-2, USGS Landsat</td>\n",
       "      <td id=\"T_391cb_row10_col4\" class=\"data row10 col4\" >2010</td>\n",
       "    </tr>\n",
       "    <tr>\n",
       "      <td id=\"T_391cb_row11_col0\" class=\"data row11 col0\" >Green vegetation</td>\n",
       "      <td id=\"T_391cb_row11_col1\" class=\"data row11 col1\" >lsndvi2020</td>\n",
       "      <td id=\"T_391cb_row11_col2\" class=\"data row11 col2\" >Mean value for Landsat 2020 NDVI layer in the database calculated across buffer zone</td>\n",
       "      <td id=\"T_391cb_row11_col3\" class=\"data row11 col3\" >ESA Sentinel-2, USGS Landsat</td>\n",
       "      <td id=\"T_391cb_row11_col4\" class=\"data row11 col4\" >2010</td>\n",
       "    </tr>\n",
       "    <tr>\n",
       "      <td id=\"T_391cb_row12_col0\" class=\"data row12 col0\" >Geography</td>\n",
       "      <td id=\"T_391cb_row12_col1\" class=\"data row12 col1\" >lsoa11_e</td>\n",
       "      <td id=\"T_391cb_row12_col2\" class=\"data row12 col2\" >Lower layer super output area (LSOA) encrypted</td>\n",
       "      <td id=\"T_391cb_row12_col3\" class=\"data row12 col3\" >Office of National Statistics</td>\n",
       "      <td id=\"T_391cb_row12_col4\" class=\"data row12 col4\" >2011</td>\n",
       "    </tr>\n",
       "    <tr>\n",
       "      <td id=\"T_391cb_row13_col0\" class=\"data row13 col0\" >Geography</td>\n",
       "      <td id=\"T_391cb_row13_col1\" class=\"data row13 col1\" >matchcode</td>\n",
       "      <td id=\"T_391cb_row13_col2\" class=\"data row13 col2\" >Experian match code indicator</td>\n",
       "      <td id=\"T_391cb_row13_col3\" class=\"data row13 col3\" >University of Leicester</td>\n",
       "      <td id=\"T_391cb_row13_col4\" class=\"data row13 col4\" >None</td>\n",
       "    </tr>\n",
       "    <tr>\n",
       "      <td id=\"T_391cb_row14_col0\" class=\"data row14 col0\" >Geography</td>\n",
       "      <td id=\"T_391cb_row14_col1\" class=\"data row14 col1\" >msoa11_e</td>\n",
       "      <td id=\"T_391cb_row14_col2\" class=\"data row14 col2\" >Middle super output area (LSOA) encrypted</td>\n",
       "      <td id=\"T_391cb_row14_col3\" class=\"data row14 col3\" >Office of National Statistics</td>\n",
       "      <td id=\"T_391cb_row14_col4\" class=\"data row14 col4\" >2011</td>\n",
       "    </tr>\n",
       "    <tr>\n",
       "      <td id=\"T_391cb_row15_col0\" class=\"data row15 col0\" >Geography</td>\n",
       "      <td id=\"T_391cb_row15_col1\" class=\"data row15 col1\" >ntdist2nap</td>\n",
       "      <td id=\"T_391cb_row15_col2\" class=\"data row15 col2\" >Walking distance along the road and path network to nearest OS open greenspace access point</td>\n",
       "      <td id=\"T_391cb_row15_col3\" class=\"data row15 col3\" >Ordnance Survey Open Greenspace</td>\n",
       "      <td id=\"T_391cb_row15_col4\" class=\"data row15 col4\" >None</td>\n",
       "    </tr>\n",
       "    <tr>\n",
       "      <td id=\"T_391cb_row16_col0\" class=\"data row16 col0\" >Greenspace</td>\n",
       "      <td id=\"T_391cb_row16_col1\" class=\"data row16 col1\" >osgs_ap</td>\n",
       "      <td id=\"T_391cb_row16_col2\" class=\"data row16 col2\" >Total number of OS open greenspace access points falling within each buffer zone</td>\n",
       "      <td id=\"T_391cb_row16_col3\" class=\"data row16 col3\" >Ordnance Survey Open Greenspace</td>\n",
       "      <td id=\"T_391cb_row16_col4\" class=\"data row16 col4\" >None</td>\n",
       "    </tr>\n",
       "    <tr>\n",
       "      <td id=\"T_391cb_row17_col0\" class=\"data row17 col0\" >Greenspace</td>\n",
       "      <td id=\"T_391cb_row17_col1\" class=\"data row17 col1\" >osgs_area</td>\n",
       "      <td id=\"T_391cb_row17_col2\" class=\"data row17 col2\" >Total area of OS open greenspace falling within the buffer zone (m2)</td>\n",
       "      <td id=\"T_391cb_row17_col3\" class=\"data row17 col3\" >Ordnance Survey Open Greenspace</td>\n",
       "      <td id=\"T_391cb_row17_col4\" class=\"data row17 col4\" >None</td>\n",
       "    </tr>\n",
       "    <tr>\n",
       "      <td id=\"T_391cb_row18_col0\" class=\"data row18 col0\" >Greenspace</td>\n",
       "      <td id=\"T_391cb_row18_col1\" class=\"data row18 col1\" >osgs_cnt</td>\n",
       "      <td id=\"T_391cb_row18_col2\" class=\"data row18 col2\" >Number of OS open greenspace sites within the buffer zone</td>\n",
       "      <td id=\"T_391cb_row18_col3\" class=\"data row18 col3\" >Ordnance Survey Open Greenspace</td>\n",
       "      <td id=\"T_391cb_row18_col4\" class=\"data row18 col4\" >None</td>\n",
       "    </tr>\n",
       "    <tr>\n",
       "      <td id=\"T_391cb_row19_col0\" class=\"data row19 col0\" >Greenspace</td>\n",
       "      <td id=\"T_391cb_row19_col1\" class=\"data row19 col1\" >osgs_pct</td>\n",
       "      <td id=\"T_391cb_row19_col2\" class=\"data row19 col2\" >Percentage coverage of OS open greenspace falling within the buffer zone.</td>\n",
       "      <td id=\"T_391cb_row19_col3\" class=\"data row19 col3\" >Ordnance Survey Open Greenspace</td>\n",
       "      <td id=\"T_391cb_row19_col4\" class=\"data row19 col4\" >None</td>\n",
       "    </tr>\n",
       "    <tr>\n",
       "      <td id=\"T_391cb_row20_col0\" class=\"data row20 col0\" >Geography</td>\n",
       "      <td id=\"T_391cb_row20_col1\" class=\"data row20 col1\" >postcode_e</td>\n",
       "      <td id=\"T_391cb_row20_col2\" class=\"data row20 col2\" >Postcode encrypted</td>\n",
       "      <td id=\"T_391cb_row20_col3\" class=\"data row20 col3\" >LPS</td>\n",
       "      <td id=\"T_391cb_row20_col4\" class=\"data row20 col4\" >None</td>\n",
       "    </tr>\n",
       "    <tr>\n",
       "      <td id=\"T_391cb_row21_col0\" class=\"data row21 col0\" >Geography</td>\n",
       "      <td id=\"T_391cb_row21_col1\" class=\"data row21 col1\" >region</td>\n",
       "      <td id=\"T_391cb_row21_col2\" class=\"data row21 col2\" >UK Region </td>\n",
       "      <td id=\"T_391cb_row21_col3\" class=\"data row21 col3\" >Office of National Statistics</td>\n",
       "      <td id=\"T_391cb_row21_col4\" class=\"data row21 col4\" >2011</td>\n",
       "    </tr>\n",
       "    <tr>\n",
       "      <td id=\"T_391cb_row22_col0\" class=\"data row22 col0\" >Green vegetation</td>\n",
       "      <td id=\"T_391cb_row22_col1\" class=\"data row22 col1\" >s2ndvi2020</td>\n",
       "      <td id=\"T_391cb_row22_col2\" class=\"data row22 col2\" >Mean value for Sentinel-2 2020 NDVI layer in the database calculated across buffer zone</td>\n",
       "      <td id=\"T_391cb_row22_col3\" class=\"data row22 col3\" >ESA Sentinel-2, USGS Landsat</td>\n",
       "      <td id=\"T_391cb_row22_col4\" class=\"data row22 col4\" >2020</td>\n",
       "    </tr>\n",
       "    <tr>\n",
       "      <td id=\"T_391cb_row23_col0\" class=\"data row23 col0\" >Tree Cover</td>\n",
       "      <td id=\"T_391cb_row23_col1\" class=\"data row23 col1\" >tc_pct</td>\n",
       "      <td id=\"T_391cb_row23_col2\" class=\"data row23 col2\" >Percentage of the number of pixels with a least some tree cover</td>\n",
       "      <td id=\"T_391cb_row23_col3\" class=\"data row23 col3\" >Copernicus High Resolution Layer Tree Cover Density</td>\n",
       "      <td id=\"T_391cb_row23_col4\" class=\"data row23 col4\" >None</td>\n",
       "    </tr>\n",
       "    <tr>\n",
       "      <td id=\"T_391cb_row24_col0\" class=\"data row24 col0\" >Tree Cover</td>\n",
       "      <td id=\"T_391cb_row24_col1\" class=\"data row24 col1\" >tcd_mean</td>\n",
       "      <td id=\"T_391cb_row24_col2\" class=\"data row24 col2\" >Mean tree cover density value over each buffer zone is calculated</td>\n",
       "      <td id=\"T_391cb_row24_col3\" class=\"data row24 col3\" >Copernicus High Resolution Layer Tree Cover Density</td>\n",
       "      <td id=\"T_391cb_row24_col4\" class=\"data row24 col4\" >None</td>\n",
       "    </tr>\n",
       "    <tr>\n",
       "      <td id=\"T_391cb_row25_col0\" class=\"data row25 col0\" >Geography</td>\n",
       "      <td id=\"T_391cb_row25_col1\" class=\"data row25 col1\" >uprn_e</td>\n",
       "      <td id=\"T_391cb_row25_col2\" class=\"data row25 col2\" >Unique Property Reference Number (UPRN) encrypted</td>\n",
       "      <td id=\"T_391cb_row25_col3\" class=\"data row25 col3\" >University of Leicester</td>\n",
       "      <td id=\"T_391cb_row25_col4\" class=\"data row25 col4\" >None</td>\n",
       "    </tr>\n",
       "  </tbody>\n",
       "</table>\n"
      ],
      "text/plain": [
       "<pandas.io.formats.style.Styler at 0x2677fcaf4d0>"
      ]
     },
     "execution_count": 59,
     "metadata": {},
     "output_type": "execute_result"
    }
   ],
   "source": [
    "DS(\"greenspace_circle_points_300m_gb_pc\").variable_table()"
   ]
  },
  {
   "cell_type": "code",
   "execution_count": 60,
   "id": "53d0a828",
   "metadata": {
    "tags": [
     "remove-input"
    ]
   },
   "outputs": [
    {
     "data": {
      "text/markdown": [
       "### greenspace_circle_points_5000m_gb_hh"
      ],
      "text/plain": [
       "<IPython.core.display.Markdown object>"
      ]
     },
     "metadata": {},
     "output_type": "display_data"
    }
   ],
   "source": [
    "display(Markdown('### greenspace_circle_points_5000m_gb_hh'))"
   ]
  },
  {
   "cell_type": "code",
   "execution_count": 61,
   "id": "3e4fb1fc",
   "metadata": {
    "tags": [
     "remove-input",
     "hide-cell"
    ]
   },
   "outputs": [
    {
     "data": {
      "text/html": [
       "<style type=\"text/css\">\n",
       "#T_253ca th {\n",
       "  text-align: left;\n",
       "}\n",
       "#T_253ca_row0_col0, #T_253ca_row0_col1, #T_253ca_row0_col2, #T_253ca_row0_col3, #T_253ca_row0_col4, #T_253ca_row1_col0, #T_253ca_row1_col1, #T_253ca_row1_col2, #T_253ca_row1_col3, #T_253ca_row1_col4, #T_253ca_row2_col0, #T_253ca_row2_col1, #T_253ca_row2_col2, #T_253ca_row2_col3, #T_253ca_row2_col4, #T_253ca_row3_col0, #T_253ca_row3_col1, #T_253ca_row3_col2, #T_253ca_row3_col3, #T_253ca_row3_col4, #T_253ca_row4_col0, #T_253ca_row4_col1, #T_253ca_row4_col2, #T_253ca_row4_col3, #T_253ca_row4_col4, #T_253ca_row5_col0, #T_253ca_row5_col1, #T_253ca_row5_col2, #T_253ca_row5_col3, #T_253ca_row5_col4, #T_253ca_row6_col0, #T_253ca_row6_col1, #T_253ca_row6_col2, #T_253ca_row6_col3, #T_253ca_row6_col4, #T_253ca_row7_col0, #T_253ca_row7_col1, #T_253ca_row7_col2, #T_253ca_row7_col3, #T_253ca_row7_col4, #T_253ca_row8_col0, #T_253ca_row8_col1, #T_253ca_row8_col2, #T_253ca_row8_col3, #T_253ca_row8_col4, #T_253ca_row9_col0, #T_253ca_row9_col1, #T_253ca_row9_col2, #T_253ca_row9_col3, #T_253ca_row9_col4, #T_253ca_row10_col0, #T_253ca_row10_col1, #T_253ca_row10_col2, #T_253ca_row10_col3, #T_253ca_row10_col4, #T_253ca_row11_col0, #T_253ca_row11_col1, #T_253ca_row11_col2, #T_253ca_row11_col3, #T_253ca_row11_col4, #T_253ca_row12_col0, #T_253ca_row12_col1, #T_253ca_row12_col2, #T_253ca_row12_col3, #T_253ca_row12_col4, #T_253ca_row13_col0, #T_253ca_row13_col1, #T_253ca_row13_col2, #T_253ca_row13_col3, #T_253ca_row13_col4 {\n",
       "  text-align: left;\n",
       "}\n",
       "</style>\n",
       "<table id=\"T_253ca\" style=\"font-size: 14px\">\n",
       "  <thead>\n",
       "    <tr>\n",
       "      <th id=\"T_253ca_level0_col0\" class=\"col_heading level0 col0\" >Variable Group</th>\n",
       "      <th id=\"T_253ca_level0_col1\" class=\"col_heading level0 col1\" >Variable</th>\n",
       "      <th id=\"T_253ca_level0_col2\" class=\"col_heading level0 col2\" >Description</th>\n",
       "      <th id=\"T_253ca_level0_col3\" class=\"col_heading level0 col3\" >Source</th>\n",
       "      <th id=\"T_253ca_level0_col4\" class=\"col_heading level0 col4\" >Date range of data</th>\n",
       "    </tr>\n",
       "  </thead>\n",
       "  <tbody>\n",
       "    <tr>\n",
       "      <td id=\"T_253ca_row0_col0\" class=\"data row0 col0\" >Identifier</td>\n",
       "      <td id=\"T_253ca_row0_col1\" class=\"data row0 col1\" >cohortkey_e</td>\n",
       "      <td id=\"T_253ca_row0_col2\" class=\"data row0 col2\" >individual level id</td>\n",
       "      <td id=\"T_253ca_row0_col3\" class=\"data row0 col3\" >LPS</td>\n",
       "      <td id=\"T_253ca_row0_col4\" class=\"data row0 col4\" >None</td>\n",
       "    </tr>\n",
       "    <tr>\n",
       "      <td id=\"T_253ca_row1_col0\" class=\"data row1 col0\" >Geography</td>\n",
       "      <td id=\"T_253ca_row1_col1\" class=\"data row1 col1\" >address_start_date</td>\n",
       "      <td id=\"T_253ca_row1_col2\" class=\"data row1 col2\" >Address start date</td>\n",
       "      <td id=\"T_253ca_row1_col3\" class=\"data row1 col3\" >LPS</td>\n",
       "      <td id=\"T_253ca_row1_col4\" class=\"data row1 col4\" >None</td>\n",
       "    </tr>\n",
       "    <tr>\n",
       "      <td id=\"T_253ca_row2_col0\" class=\"data row2 col0\" >Geography</td>\n",
       "      <td id=\"T_253ca_row2_col1\" class=\"data row2 col1\" >address_end_date</td>\n",
       "      <td id=\"T_253ca_row2_col2\" class=\"data row2 col2\" >Address end date</td>\n",
       "      <td id=\"T_253ca_row2_col3\" class=\"data row2 col3\" >LPS</td>\n",
       "      <td id=\"T_253ca_row2_col4\" class=\"data row2 col4\" >None</td>\n",
       "    </tr>\n",
       "    <tr>\n",
       "      <td id=\"T_253ca_row3_col0\" class=\"data row3 col0\" >UK LLC</td>\n",
       "      <td id=\"T_253ca_row3_col1\" class=\"data row3 col1\" >avail_from_dt</td>\n",
       "      <td id=\"T_253ca_row3_col2\" class=\"data row3 col2\" >None</td>\n",
       "      <td id=\"T_253ca_row3_col3\" class=\"data row3 col3\" >UK LLC</td>\n",
       "      <td id=\"T_253ca_row3_col4\" class=\"data row3 col4\" >None</td>\n",
       "    </tr>\n",
       "    <tr>\n",
       "      <td id=\"T_253ca_row4_col0\" class=\"data row4 col0\" >Geography</td>\n",
       "      <td id=\"T_253ca_row4_col1\" class=\"data row4 col1\" >buf_area</td>\n",
       "      <td id=\"T_253ca_row4_col2\" class=\"data row4 col2\" >Buffer area</td>\n",
       "      <td id=\"T_253ca_row4_col3\" class=\"data row4 col3\" >University of Leicester</td>\n",
       "      <td id=\"T_253ca_row4_col4\" class=\"data row4 col4\" >None</td>\n",
       "    </tr>\n",
       "    <tr>\n",
       "      <td id=\"T_253ca_row5_col0\" class=\"data row5 col0\" >Geography</td>\n",
       "      <td id=\"T_253ca_row5_col1\" class=\"data row5 col1\" >lsoa11_e</td>\n",
       "      <td id=\"T_253ca_row5_col2\" class=\"data row5 col2\" >Lower layer super output area (LSOA) encrypted</td>\n",
       "      <td id=\"T_253ca_row5_col3\" class=\"data row5 col3\" >Office of National Statistics</td>\n",
       "      <td id=\"T_253ca_row5_col4\" class=\"data row5 col4\" >2011</td>\n",
       "    </tr>\n",
       "    <tr>\n",
       "      <td id=\"T_253ca_row6_col0\" class=\"data row6 col0\" >Geography</td>\n",
       "      <td id=\"T_253ca_row6_col1\" class=\"data row6 col1\" >matchcode</td>\n",
       "      <td id=\"T_253ca_row6_col2\" class=\"data row6 col2\" >Experian match code indicator</td>\n",
       "      <td id=\"T_253ca_row6_col3\" class=\"data row6 col3\" >University of Leicester</td>\n",
       "      <td id=\"T_253ca_row6_col4\" class=\"data row6 col4\" >None</td>\n",
       "    </tr>\n",
       "    <tr>\n",
       "      <td id=\"T_253ca_row7_col0\" class=\"data row7 col0\" >Geography</td>\n",
       "      <td id=\"T_253ca_row7_col1\" class=\"data row7 col1\" >msoa11_e</td>\n",
       "      <td id=\"T_253ca_row7_col2\" class=\"data row7 col2\" >Middle super output area (LSOA) encrypted</td>\n",
       "      <td id=\"T_253ca_row7_col3\" class=\"data row7 col3\" >Office of National Statistics</td>\n",
       "      <td id=\"T_253ca_row7_col4\" class=\"data row7 col4\" >2011</td>\n",
       "    </tr>\n",
       "    <tr>\n",
       "      <td id=\"T_253ca_row8_col0\" class=\"data row8 col0\" >Greenspace</td>\n",
       "      <td id=\"T_253ca_row8_col1\" class=\"data row8 col1\" >osgs_area</td>\n",
       "      <td id=\"T_253ca_row8_col2\" class=\"data row8 col2\" >Total area of OS open greenspace falling within the buffer zone (m2)</td>\n",
       "      <td id=\"T_253ca_row8_col3\" class=\"data row8 col3\" >Ordnance Survey Open Greenspace</td>\n",
       "      <td id=\"T_253ca_row8_col4\" class=\"data row8 col4\" >None</td>\n",
       "    </tr>\n",
       "    <tr>\n",
       "      <td id=\"T_253ca_row9_col0\" class=\"data row9 col0\" >Greenspace</td>\n",
       "      <td id=\"T_253ca_row9_col1\" class=\"data row9 col1\" >osgs_pct</td>\n",
       "      <td id=\"T_253ca_row9_col2\" class=\"data row9 col2\" >Percentage coverage of OS open greenspace falling within the buffer zone.</td>\n",
       "      <td id=\"T_253ca_row9_col3\" class=\"data row9 col3\" >Ordnance Survey Open Greenspace</td>\n",
       "      <td id=\"T_253ca_row9_col4\" class=\"data row9 col4\" >None</td>\n",
       "    </tr>\n",
       "    <tr>\n",
       "      <td id=\"T_253ca_row10_col0\" class=\"data row10 col0\" >Geography</td>\n",
       "      <td id=\"T_253ca_row10_col1\" class=\"data row10 col1\" >postcode_e</td>\n",
       "      <td id=\"T_253ca_row10_col2\" class=\"data row10 col2\" >Postcode encrypted</td>\n",
       "      <td id=\"T_253ca_row10_col3\" class=\"data row10 col3\" >LPS</td>\n",
       "      <td id=\"T_253ca_row10_col4\" class=\"data row10 col4\" >None</td>\n",
       "    </tr>\n",
       "    <tr>\n",
       "      <td id=\"T_253ca_row11_col0\" class=\"data row11 col0\" >Geography</td>\n",
       "      <td id=\"T_253ca_row11_col1\" class=\"data row11 col1\" >region</td>\n",
       "      <td id=\"T_253ca_row11_col2\" class=\"data row11 col2\" >UK Region </td>\n",
       "      <td id=\"T_253ca_row11_col3\" class=\"data row11 col3\" >Office of National Statistics</td>\n",
       "      <td id=\"T_253ca_row11_col4\" class=\"data row11 col4\" >2011</td>\n",
       "    </tr>\n",
       "    <tr>\n",
       "      <td id=\"T_253ca_row12_col0\" class=\"data row12 col0\" >Green vegetation</td>\n",
       "      <td id=\"T_253ca_row12_col1\" class=\"data row12 col1\" >s2ndvi2020</td>\n",
       "      <td id=\"T_253ca_row12_col2\" class=\"data row12 col2\" >Mean value for Sentinel-2 2020 NDVI layer in the database calculated across buffer zone</td>\n",
       "      <td id=\"T_253ca_row12_col3\" class=\"data row12 col3\" >ESA Sentinel-2, USGS Landsat</td>\n",
       "      <td id=\"T_253ca_row12_col4\" class=\"data row12 col4\" >2020</td>\n",
       "    </tr>\n",
       "    <tr>\n",
       "      <td id=\"T_253ca_row13_col0\" class=\"data row13 col0\" >Geography</td>\n",
       "      <td id=\"T_253ca_row13_col1\" class=\"data row13 col1\" >uprn_e</td>\n",
       "      <td id=\"T_253ca_row13_col2\" class=\"data row13 col2\" >Unique Property Reference Number (UPRN) encrypted</td>\n",
       "      <td id=\"T_253ca_row13_col3\" class=\"data row13 col3\" >University of Leicester</td>\n",
       "      <td id=\"T_253ca_row13_col4\" class=\"data row13 col4\" >None</td>\n",
       "    </tr>\n",
       "  </tbody>\n",
       "</table>\n"
      ],
      "text/plain": [
       "<pandas.io.formats.style.Styler at 0x2677fcac2d0>"
      ]
     },
     "execution_count": 61,
     "metadata": {},
     "output_type": "execute_result"
    }
   ],
   "source": [
    "DS(\"greenspace_circle_points_5000m_gb_hh\").variable_table()"
   ]
  },
  {
   "cell_type": "code",
   "execution_count": 62,
   "id": "c1bc91f4",
   "metadata": {
    "tags": [
     "remove-input"
    ]
   },
   "outputs": [
    {
     "data": {
      "text/markdown": [
       "### greenspace_circle_points_5000m_gb_pc"
      ],
      "text/plain": [
       "<IPython.core.display.Markdown object>"
      ]
     },
     "metadata": {},
     "output_type": "display_data"
    }
   ],
   "source": [
    "display(Markdown('### greenspace_circle_points_5000m_gb_pc'))"
   ]
  },
  {
   "cell_type": "code",
   "execution_count": 63,
   "id": "1327f32e",
   "metadata": {
    "tags": [
     "remove-input",
     "hide-cell"
    ]
   },
   "outputs": [
    {
     "data": {
      "text/html": [
       "<style type=\"text/css\">\n",
       "#T_dc178 th {\n",
       "  text-align: left;\n",
       "}\n",
       "#T_dc178_row0_col0, #T_dc178_row0_col1, #T_dc178_row0_col2, #T_dc178_row0_col3, #T_dc178_row0_col4, #T_dc178_row1_col0, #T_dc178_row1_col1, #T_dc178_row1_col2, #T_dc178_row1_col3, #T_dc178_row1_col4, #T_dc178_row2_col0, #T_dc178_row2_col1, #T_dc178_row2_col2, #T_dc178_row2_col3, #T_dc178_row2_col4, #T_dc178_row3_col0, #T_dc178_row3_col1, #T_dc178_row3_col2, #T_dc178_row3_col3, #T_dc178_row3_col4, #T_dc178_row4_col0, #T_dc178_row4_col1, #T_dc178_row4_col2, #T_dc178_row4_col3, #T_dc178_row4_col4, #T_dc178_row5_col0, #T_dc178_row5_col1, #T_dc178_row5_col2, #T_dc178_row5_col3, #T_dc178_row5_col4, #T_dc178_row6_col0, #T_dc178_row6_col1, #T_dc178_row6_col2, #T_dc178_row6_col3, #T_dc178_row6_col4, #T_dc178_row7_col0, #T_dc178_row7_col1, #T_dc178_row7_col2, #T_dc178_row7_col3, #T_dc178_row7_col4, #T_dc178_row8_col0, #T_dc178_row8_col1, #T_dc178_row8_col2, #T_dc178_row8_col3, #T_dc178_row8_col4, #T_dc178_row9_col0, #T_dc178_row9_col1, #T_dc178_row9_col2, #T_dc178_row9_col3, #T_dc178_row9_col4, #T_dc178_row10_col0, #T_dc178_row10_col1, #T_dc178_row10_col2, #T_dc178_row10_col3, #T_dc178_row10_col4, #T_dc178_row11_col0, #T_dc178_row11_col1, #T_dc178_row11_col2, #T_dc178_row11_col3, #T_dc178_row11_col4, #T_dc178_row12_col0, #T_dc178_row12_col1, #T_dc178_row12_col2, #T_dc178_row12_col3, #T_dc178_row12_col4, #T_dc178_row13_col0, #T_dc178_row13_col1, #T_dc178_row13_col2, #T_dc178_row13_col3, #T_dc178_row13_col4 {\n",
       "  text-align: left;\n",
       "}\n",
       "</style>\n",
       "<table id=\"T_dc178\" style=\"font-size: 14px\">\n",
       "  <thead>\n",
       "    <tr>\n",
       "      <th id=\"T_dc178_level0_col0\" class=\"col_heading level0 col0\" >Variable Group</th>\n",
       "      <th id=\"T_dc178_level0_col1\" class=\"col_heading level0 col1\" >Variable</th>\n",
       "      <th id=\"T_dc178_level0_col2\" class=\"col_heading level0 col2\" >Description</th>\n",
       "      <th id=\"T_dc178_level0_col3\" class=\"col_heading level0 col3\" >Source</th>\n",
       "      <th id=\"T_dc178_level0_col4\" class=\"col_heading level0 col4\" >Date range of data</th>\n",
       "    </tr>\n",
       "  </thead>\n",
       "  <tbody>\n",
       "    <tr>\n",
       "      <td id=\"T_dc178_row0_col0\" class=\"data row0 col0\" >Identifier</td>\n",
       "      <td id=\"T_dc178_row0_col1\" class=\"data row0 col1\" >cohortkey_e</td>\n",
       "      <td id=\"T_dc178_row0_col2\" class=\"data row0 col2\" >individual level id</td>\n",
       "      <td id=\"T_dc178_row0_col3\" class=\"data row0 col3\" >LPS</td>\n",
       "      <td id=\"T_dc178_row0_col4\" class=\"data row0 col4\" >None</td>\n",
       "    </tr>\n",
       "    <tr>\n",
       "      <td id=\"T_dc178_row1_col0\" class=\"data row1 col0\" >Geography</td>\n",
       "      <td id=\"T_dc178_row1_col1\" class=\"data row1 col1\" >address_start_date</td>\n",
       "      <td id=\"T_dc178_row1_col2\" class=\"data row1 col2\" >Address start date</td>\n",
       "      <td id=\"T_dc178_row1_col3\" class=\"data row1 col3\" >LPS</td>\n",
       "      <td id=\"T_dc178_row1_col4\" class=\"data row1 col4\" >None</td>\n",
       "    </tr>\n",
       "    <tr>\n",
       "      <td id=\"T_dc178_row2_col0\" class=\"data row2 col0\" >Geography</td>\n",
       "      <td id=\"T_dc178_row2_col1\" class=\"data row2 col1\" >address_end_date</td>\n",
       "      <td id=\"T_dc178_row2_col2\" class=\"data row2 col2\" >Address end date</td>\n",
       "      <td id=\"T_dc178_row2_col3\" class=\"data row2 col3\" >LPS</td>\n",
       "      <td id=\"T_dc178_row2_col4\" class=\"data row2 col4\" >None</td>\n",
       "    </tr>\n",
       "    <tr>\n",
       "      <td id=\"T_dc178_row3_col0\" class=\"data row3 col0\" >UK LLC</td>\n",
       "      <td id=\"T_dc178_row3_col1\" class=\"data row3 col1\" >avail_from_dt</td>\n",
       "      <td id=\"T_dc178_row3_col2\" class=\"data row3 col2\" >None</td>\n",
       "      <td id=\"T_dc178_row3_col3\" class=\"data row3 col3\" >UK LLC</td>\n",
       "      <td id=\"T_dc178_row3_col4\" class=\"data row3 col4\" >None</td>\n",
       "    </tr>\n",
       "    <tr>\n",
       "      <td id=\"T_dc178_row4_col0\" class=\"data row4 col0\" >Geography</td>\n",
       "      <td id=\"T_dc178_row4_col1\" class=\"data row4 col1\" >buf_area</td>\n",
       "      <td id=\"T_dc178_row4_col2\" class=\"data row4 col2\" >Buffer area</td>\n",
       "      <td id=\"T_dc178_row4_col3\" class=\"data row4 col3\" >University of Leicester</td>\n",
       "      <td id=\"T_dc178_row4_col4\" class=\"data row4 col4\" >None</td>\n",
       "    </tr>\n",
       "    <tr>\n",
       "      <td id=\"T_dc178_row5_col0\" class=\"data row5 col0\" >Geography</td>\n",
       "      <td id=\"T_dc178_row5_col1\" class=\"data row5 col1\" >lsoa11_e</td>\n",
       "      <td id=\"T_dc178_row5_col2\" class=\"data row5 col2\" >Lower layer super output area (LSOA) encrypted</td>\n",
       "      <td id=\"T_dc178_row5_col3\" class=\"data row5 col3\" >Office of National Statistics</td>\n",
       "      <td id=\"T_dc178_row5_col4\" class=\"data row5 col4\" >2011</td>\n",
       "    </tr>\n",
       "    <tr>\n",
       "      <td id=\"T_dc178_row6_col0\" class=\"data row6 col0\" >Geography</td>\n",
       "      <td id=\"T_dc178_row6_col1\" class=\"data row6 col1\" >matchcode</td>\n",
       "      <td id=\"T_dc178_row6_col2\" class=\"data row6 col2\" >Experian match code indicator</td>\n",
       "      <td id=\"T_dc178_row6_col3\" class=\"data row6 col3\" >University of Leicester</td>\n",
       "      <td id=\"T_dc178_row6_col4\" class=\"data row6 col4\" >None</td>\n",
       "    </tr>\n",
       "    <tr>\n",
       "      <td id=\"T_dc178_row7_col0\" class=\"data row7 col0\" >Geography</td>\n",
       "      <td id=\"T_dc178_row7_col1\" class=\"data row7 col1\" >msoa11_e</td>\n",
       "      <td id=\"T_dc178_row7_col2\" class=\"data row7 col2\" >Middle super output area (LSOA) encrypted</td>\n",
       "      <td id=\"T_dc178_row7_col3\" class=\"data row7 col3\" >Office of National Statistics</td>\n",
       "      <td id=\"T_dc178_row7_col4\" class=\"data row7 col4\" >2011</td>\n",
       "    </tr>\n",
       "    <tr>\n",
       "      <td id=\"T_dc178_row8_col0\" class=\"data row8 col0\" >Greenspace</td>\n",
       "      <td id=\"T_dc178_row8_col1\" class=\"data row8 col1\" >osgs_area</td>\n",
       "      <td id=\"T_dc178_row8_col2\" class=\"data row8 col2\" >Total area of OS open greenspace falling within the buffer zone (m2)</td>\n",
       "      <td id=\"T_dc178_row8_col3\" class=\"data row8 col3\" >Ordnance Survey Open Greenspace</td>\n",
       "      <td id=\"T_dc178_row8_col4\" class=\"data row8 col4\" >None</td>\n",
       "    </tr>\n",
       "    <tr>\n",
       "      <td id=\"T_dc178_row9_col0\" class=\"data row9 col0\" >Greenspace</td>\n",
       "      <td id=\"T_dc178_row9_col1\" class=\"data row9 col1\" >osgs_pct</td>\n",
       "      <td id=\"T_dc178_row9_col2\" class=\"data row9 col2\" >Percentage coverage of OS open greenspace falling within the buffer zone.</td>\n",
       "      <td id=\"T_dc178_row9_col3\" class=\"data row9 col3\" >Ordnance Survey Open Greenspace</td>\n",
       "      <td id=\"T_dc178_row9_col4\" class=\"data row9 col4\" >None</td>\n",
       "    </tr>\n",
       "    <tr>\n",
       "      <td id=\"T_dc178_row10_col0\" class=\"data row10 col0\" >Geography</td>\n",
       "      <td id=\"T_dc178_row10_col1\" class=\"data row10 col1\" >postcode_e</td>\n",
       "      <td id=\"T_dc178_row10_col2\" class=\"data row10 col2\" >Postcode encrypted</td>\n",
       "      <td id=\"T_dc178_row10_col3\" class=\"data row10 col3\" >LPS</td>\n",
       "      <td id=\"T_dc178_row10_col4\" class=\"data row10 col4\" >None</td>\n",
       "    </tr>\n",
       "    <tr>\n",
       "      <td id=\"T_dc178_row11_col0\" class=\"data row11 col0\" >Geography</td>\n",
       "      <td id=\"T_dc178_row11_col1\" class=\"data row11 col1\" >region</td>\n",
       "      <td id=\"T_dc178_row11_col2\" class=\"data row11 col2\" >UK Region </td>\n",
       "      <td id=\"T_dc178_row11_col3\" class=\"data row11 col3\" >Office of National Statistics</td>\n",
       "      <td id=\"T_dc178_row11_col4\" class=\"data row11 col4\" >2011</td>\n",
       "    </tr>\n",
       "    <tr>\n",
       "      <td id=\"T_dc178_row12_col0\" class=\"data row12 col0\" >Green vegetation</td>\n",
       "      <td id=\"T_dc178_row12_col1\" class=\"data row12 col1\" >s2ndvi2020</td>\n",
       "      <td id=\"T_dc178_row12_col2\" class=\"data row12 col2\" >Mean value for Sentinel-2 2020 NDVI layer in the database calculated across buffer zone</td>\n",
       "      <td id=\"T_dc178_row12_col3\" class=\"data row12 col3\" >ESA Sentinel-2, USGS Landsat</td>\n",
       "      <td id=\"T_dc178_row12_col4\" class=\"data row12 col4\" >2020</td>\n",
       "    </tr>\n",
       "    <tr>\n",
       "      <td id=\"T_dc178_row13_col0\" class=\"data row13 col0\" >Geography</td>\n",
       "      <td id=\"T_dc178_row13_col1\" class=\"data row13 col1\" >uprn_e</td>\n",
       "      <td id=\"T_dc178_row13_col2\" class=\"data row13 col2\" >Unique Property Reference Number (UPRN) encrypted</td>\n",
       "      <td id=\"T_dc178_row13_col3\" class=\"data row13 col3\" >University of Leicester</td>\n",
       "      <td id=\"T_dc178_row13_col4\" class=\"data row13 col4\" >None</td>\n",
       "    </tr>\n",
       "  </tbody>\n",
       "</table>\n"
      ],
      "text/plain": [
       "<pandas.io.formats.style.Styler at 0x2677fcafd90>"
      ]
     },
     "execution_count": 63,
     "metadata": {},
     "output_type": "execute_result"
    }
   ],
   "source": [
    "DS(\"greenspace_circle_points_5000m_gb_pc\").variable_table()"
   ]
  },
  {
   "cell_type": "code",
   "execution_count": 64,
   "id": "b74be25f",
   "metadata": {
    "tags": [
     "remove-input"
    ]
   },
   "outputs": [
    {
     "data": {
      "text/markdown": [
       "### greenspace_circle_points_500m_gb_hh"
      ],
      "text/plain": [
       "<IPython.core.display.Markdown object>"
      ]
     },
     "metadata": {},
     "output_type": "display_data"
    }
   ],
   "source": [
    "display(Markdown('### greenspace_circle_points_500m_gb_hh'))"
   ]
  },
  {
   "cell_type": "code",
   "execution_count": 65,
   "id": "b92805e3",
   "metadata": {
    "tags": [
     "remove-input",
     "hide-cell"
    ]
   },
   "outputs": [
    {
     "data": {
      "text/html": [
       "<style type=\"text/css\">\n",
       "#T_3b1c7 th {\n",
       "  text-align: left;\n",
       "}\n",
       "#T_3b1c7_row0_col0, #T_3b1c7_row0_col1, #T_3b1c7_row0_col2, #T_3b1c7_row0_col3, #T_3b1c7_row0_col4, #T_3b1c7_row1_col0, #T_3b1c7_row1_col1, #T_3b1c7_row1_col2, #T_3b1c7_row1_col3, #T_3b1c7_row1_col4, #T_3b1c7_row2_col0, #T_3b1c7_row2_col1, #T_3b1c7_row2_col2, #T_3b1c7_row2_col3, #T_3b1c7_row2_col4, #T_3b1c7_row3_col0, #T_3b1c7_row3_col1, #T_3b1c7_row3_col2, #T_3b1c7_row3_col3, #T_3b1c7_row3_col4, #T_3b1c7_row4_col0, #T_3b1c7_row4_col1, #T_3b1c7_row4_col2, #T_3b1c7_row4_col3, #T_3b1c7_row4_col4, #T_3b1c7_row5_col0, #T_3b1c7_row5_col1, #T_3b1c7_row5_col2, #T_3b1c7_row5_col3, #T_3b1c7_row5_col4, #T_3b1c7_row6_col0, #T_3b1c7_row6_col1, #T_3b1c7_row6_col2, #T_3b1c7_row6_col3, #T_3b1c7_row6_col4, #T_3b1c7_row7_col0, #T_3b1c7_row7_col1, #T_3b1c7_row7_col2, #T_3b1c7_row7_col3, #T_3b1c7_row7_col4, #T_3b1c7_row8_col0, #T_3b1c7_row8_col1, #T_3b1c7_row8_col2, #T_3b1c7_row8_col3, #T_3b1c7_row8_col4, #T_3b1c7_row9_col0, #T_3b1c7_row9_col1, #T_3b1c7_row9_col2, #T_3b1c7_row9_col3, #T_3b1c7_row9_col4, #T_3b1c7_row10_col0, #T_3b1c7_row10_col1, #T_3b1c7_row10_col2, #T_3b1c7_row10_col3, #T_3b1c7_row10_col4, #T_3b1c7_row11_col0, #T_3b1c7_row11_col1, #T_3b1c7_row11_col2, #T_3b1c7_row11_col3, #T_3b1c7_row11_col4, #T_3b1c7_row12_col0, #T_3b1c7_row12_col1, #T_3b1c7_row12_col2, #T_3b1c7_row12_col3, #T_3b1c7_row12_col4, #T_3b1c7_row13_col0, #T_3b1c7_row13_col1, #T_3b1c7_row13_col2, #T_3b1c7_row13_col3, #T_3b1c7_row13_col4, #T_3b1c7_row14_col0, #T_3b1c7_row14_col1, #T_3b1c7_row14_col2, #T_3b1c7_row14_col3, #T_3b1c7_row14_col4, #T_3b1c7_row15_col0, #T_3b1c7_row15_col1, #T_3b1c7_row15_col2, #T_3b1c7_row15_col3, #T_3b1c7_row15_col4, #T_3b1c7_row16_col0, #T_3b1c7_row16_col1, #T_3b1c7_row16_col2, #T_3b1c7_row16_col3, #T_3b1c7_row16_col4, #T_3b1c7_row17_col0, #T_3b1c7_row17_col1, #T_3b1c7_row17_col2, #T_3b1c7_row17_col3, #T_3b1c7_row17_col4, #T_3b1c7_row18_col0, #T_3b1c7_row18_col1, #T_3b1c7_row18_col2, #T_3b1c7_row18_col3, #T_3b1c7_row18_col4, #T_3b1c7_row19_col0, #T_3b1c7_row19_col1, #T_3b1c7_row19_col2, #T_3b1c7_row19_col3, #T_3b1c7_row19_col4, #T_3b1c7_row20_col0, #T_3b1c7_row20_col1, #T_3b1c7_row20_col2, #T_3b1c7_row20_col3, #T_3b1c7_row20_col4, #T_3b1c7_row21_col0, #T_3b1c7_row21_col1, #T_3b1c7_row21_col2, #T_3b1c7_row21_col3, #T_3b1c7_row21_col4, #T_3b1c7_row22_col0, #T_3b1c7_row22_col1, #T_3b1c7_row22_col2, #T_3b1c7_row22_col3, #T_3b1c7_row22_col4, #T_3b1c7_row23_col0, #T_3b1c7_row23_col1, #T_3b1c7_row23_col2, #T_3b1c7_row23_col3, #T_3b1c7_row23_col4, #T_3b1c7_row24_col0, #T_3b1c7_row24_col1, #T_3b1c7_row24_col2, #T_3b1c7_row24_col3, #T_3b1c7_row24_col4, #T_3b1c7_row25_col0, #T_3b1c7_row25_col1, #T_3b1c7_row25_col2, #T_3b1c7_row25_col3, #T_3b1c7_row25_col4 {\n",
       "  text-align: left;\n",
       "}\n",
       "</style>\n",
       "<table id=\"T_3b1c7\" style=\"font-size: 14px\">\n",
       "  <thead>\n",
       "    <tr>\n",
       "      <th id=\"T_3b1c7_level0_col0\" class=\"col_heading level0 col0\" >Variable Group</th>\n",
       "      <th id=\"T_3b1c7_level0_col1\" class=\"col_heading level0 col1\" >Variable</th>\n",
       "      <th id=\"T_3b1c7_level0_col2\" class=\"col_heading level0 col2\" >Description</th>\n",
       "      <th id=\"T_3b1c7_level0_col3\" class=\"col_heading level0 col3\" >Source</th>\n",
       "      <th id=\"T_3b1c7_level0_col4\" class=\"col_heading level0 col4\" >Date range of data</th>\n",
       "    </tr>\n",
       "  </thead>\n",
       "  <tbody>\n",
       "    <tr>\n",
       "      <td id=\"T_3b1c7_row0_col0\" class=\"data row0 col0\" >Identifier</td>\n",
       "      <td id=\"T_3b1c7_row0_col1\" class=\"data row0 col1\" >cohortkey_e</td>\n",
       "      <td id=\"T_3b1c7_row0_col2\" class=\"data row0 col2\" >individual level id</td>\n",
       "      <td id=\"T_3b1c7_row0_col3\" class=\"data row0 col3\" >LPS</td>\n",
       "      <td id=\"T_3b1c7_row0_col4\" class=\"data row0 col4\" >None</td>\n",
       "    </tr>\n",
       "    <tr>\n",
       "      <td id=\"T_3b1c7_row1_col0\" class=\"data row1 col0\" >Geography</td>\n",
       "      <td id=\"T_3b1c7_row1_col1\" class=\"data row1 col1\" >address_start_date</td>\n",
       "      <td id=\"T_3b1c7_row1_col2\" class=\"data row1 col2\" >Address start date</td>\n",
       "      <td id=\"T_3b1c7_row1_col3\" class=\"data row1 col3\" >LPS</td>\n",
       "      <td id=\"T_3b1c7_row1_col4\" class=\"data row1 col4\" >None</td>\n",
       "    </tr>\n",
       "    <tr>\n",
       "      <td id=\"T_3b1c7_row2_col0\" class=\"data row2 col0\" >Geography</td>\n",
       "      <td id=\"T_3b1c7_row2_col1\" class=\"data row2 col1\" >address_end_date</td>\n",
       "      <td id=\"T_3b1c7_row2_col2\" class=\"data row2 col2\" >Address end date</td>\n",
       "      <td id=\"T_3b1c7_row2_col3\" class=\"data row2 col3\" >LPS</td>\n",
       "      <td id=\"T_3b1c7_row2_col4\" class=\"data row2 col4\" >None</td>\n",
       "    </tr>\n",
       "    <tr>\n",
       "      <td id=\"T_3b1c7_row3_col0\" class=\"data row3 col0\" >UK LLC</td>\n",
       "      <td id=\"T_3b1c7_row3_col1\" class=\"data row3 col1\" >avail_from_dt</td>\n",
       "      <td id=\"T_3b1c7_row3_col2\" class=\"data row3 col2\" >None</td>\n",
       "      <td id=\"T_3b1c7_row3_col3\" class=\"data row3 col3\" >UK LLC</td>\n",
       "      <td id=\"T_3b1c7_row3_col4\" class=\"data row3 col4\" >None</td>\n",
       "    </tr>\n",
       "    <tr>\n",
       "      <td id=\"T_3b1c7_row4_col0\" class=\"data row4 col0\" >Geography</td>\n",
       "      <td id=\"T_3b1c7_row4_col1\" class=\"data row4 col1\" >buf_area</td>\n",
       "      <td id=\"T_3b1c7_row4_col2\" class=\"data row4 col2\" >Buffer area</td>\n",
       "      <td id=\"T_3b1c7_row4_col3\" class=\"data row4 col3\" >University of Leicester</td>\n",
       "      <td id=\"T_3b1c7_row4_col4\" class=\"data row4 col4\" >None</td>\n",
       "    </tr>\n",
       "    <tr>\n",
       "      <td id=\"T_3b1c7_row5_col0\" class=\"data row5 col0\" >Geography</td>\n",
       "      <td id=\"T_3b1c7_row5_col1\" class=\"data row5 col1\" >eudist2nap</td>\n",
       "      <td id=\"T_3b1c7_row5_col2\" class=\"data row5 col2\" >Straight-line distance between address point and nearest OS open greenspace access point</td>\n",
       "      <td id=\"T_3b1c7_row5_col3\" class=\"data row5 col3\" >Ordnance Survey Open Greenspace</td>\n",
       "      <td id=\"T_3b1c7_row5_col4\" class=\"data row5 col4\" >None</td>\n",
       "    </tr>\n",
       "    <tr>\n",
       "      <td id=\"T_3b1c7_row6_col0\" class=\"data row6 col0\" >Imperviousness</td>\n",
       "      <td id=\"T_3b1c7_row6_col1\" class=\"data row6 col1\" >imd_mean</td>\n",
       "      <td id=\"T_3b1c7_row6_col2\" class=\"data row6 col2\" >Mean imperviousness degree value over each buffer zone</td>\n",
       "      <td id=\"T_3b1c7_row6_col3\" class=\"data row6 col3\" >Copernicus High Resolution Layer Imperviousness Degree</td>\n",
       "      <td id=\"T_3b1c7_row6_col4\" class=\"data row6 col4\" >None</td>\n",
       "    </tr>\n",
       "    <tr>\n",
       "      <td id=\"T_3b1c7_row7_col0\" class=\"data row7 col0\" >Imperviousness</td>\n",
       "      <td id=\"T_3b1c7_row7_col1\" class=\"data row7 col1\" >imd_pct</td>\n",
       "      <td id=\"T_3b1c7_row7_col2\" class=\"data row7 col2\" >Percentage of the number of pixels with a least some built up value</td>\n",
       "      <td id=\"T_3b1c7_row7_col3\" class=\"data row7 col3\" >Copernicus High Resolution Layer Imperviousness Degree</td>\n",
       "      <td id=\"T_3b1c7_row7_col4\" class=\"data row7 col4\" >None</td>\n",
       "    </tr>\n",
       "    <tr>\n",
       "      <td id=\"T_3b1c7_row8_col0\" class=\"data row8 col0\" >Green vegetation</td>\n",
       "      <td id=\"T_3b1c7_row8_col1\" class=\"data row8 col1\" >lsndvi1990</td>\n",
       "      <td id=\"T_3b1c7_row8_col2\" class=\"data row8 col2\" >Mean value for Landsat 1990 NDVI layer in the database calculated across buffer zone</td>\n",
       "      <td id=\"T_3b1c7_row8_col3\" class=\"data row8 col3\" >ESA Sentinel-2, USGS Landsat</td>\n",
       "      <td id=\"T_3b1c7_row8_col4\" class=\"data row8 col4\" >1990</td>\n",
       "    </tr>\n",
       "    <tr>\n",
       "      <td id=\"T_3b1c7_row9_col0\" class=\"data row9 col0\" >Green vegetation</td>\n",
       "      <td id=\"T_3b1c7_row9_col1\" class=\"data row9 col1\" >lsndvi2000</td>\n",
       "      <td id=\"T_3b1c7_row9_col2\" class=\"data row9 col2\" >Mean value for Landsat 2000 NDVI layer in the database calculated across buffer zone</td>\n",
       "      <td id=\"T_3b1c7_row9_col3\" class=\"data row9 col3\" >ESA Sentinel-2, USGS Landsat</td>\n",
       "      <td id=\"T_3b1c7_row9_col4\" class=\"data row9 col4\" >2000</td>\n",
       "    </tr>\n",
       "    <tr>\n",
       "      <td id=\"T_3b1c7_row10_col0\" class=\"data row10 col0\" >Green vegetation</td>\n",
       "      <td id=\"T_3b1c7_row10_col1\" class=\"data row10 col1\" >lsndvi2010</td>\n",
       "      <td id=\"T_3b1c7_row10_col2\" class=\"data row10 col2\" >Mean value for Landsat 2010 NDVI layer in the database calculated across buffer zone</td>\n",
       "      <td id=\"T_3b1c7_row10_col3\" class=\"data row10 col3\" >ESA Sentinel-2, USGS Landsat</td>\n",
       "      <td id=\"T_3b1c7_row10_col4\" class=\"data row10 col4\" >2010</td>\n",
       "    </tr>\n",
       "    <tr>\n",
       "      <td id=\"T_3b1c7_row11_col0\" class=\"data row11 col0\" >Green vegetation</td>\n",
       "      <td id=\"T_3b1c7_row11_col1\" class=\"data row11 col1\" >lsndvi2020</td>\n",
       "      <td id=\"T_3b1c7_row11_col2\" class=\"data row11 col2\" >Mean value for Landsat 2020 NDVI layer in the database calculated across buffer zone</td>\n",
       "      <td id=\"T_3b1c7_row11_col3\" class=\"data row11 col3\" >ESA Sentinel-2, USGS Landsat</td>\n",
       "      <td id=\"T_3b1c7_row11_col4\" class=\"data row11 col4\" >2020</td>\n",
       "    </tr>\n",
       "    <tr>\n",
       "      <td id=\"T_3b1c7_row12_col0\" class=\"data row12 col0\" >Geography</td>\n",
       "      <td id=\"T_3b1c7_row12_col1\" class=\"data row12 col1\" >lsoa11_e</td>\n",
       "      <td id=\"T_3b1c7_row12_col2\" class=\"data row12 col2\" >Lower layer super output area (LSOA) encrypted</td>\n",
       "      <td id=\"T_3b1c7_row12_col3\" class=\"data row12 col3\" >Office of National Statistics</td>\n",
       "      <td id=\"T_3b1c7_row12_col4\" class=\"data row12 col4\" >2011</td>\n",
       "    </tr>\n",
       "    <tr>\n",
       "      <td id=\"T_3b1c7_row13_col0\" class=\"data row13 col0\" >Geography</td>\n",
       "      <td id=\"T_3b1c7_row13_col1\" class=\"data row13 col1\" >matchcode</td>\n",
       "      <td id=\"T_3b1c7_row13_col2\" class=\"data row13 col2\" >Experian match code indicator</td>\n",
       "      <td id=\"T_3b1c7_row13_col3\" class=\"data row13 col3\" >University of Leicester</td>\n",
       "      <td id=\"T_3b1c7_row13_col4\" class=\"data row13 col4\" >None</td>\n",
       "    </tr>\n",
       "    <tr>\n",
       "      <td id=\"T_3b1c7_row14_col0\" class=\"data row14 col0\" >Geography</td>\n",
       "      <td id=\"T_3b1c7_row14_col1\" class=\"data row14 col1\" >msoa11_e</td>\n",
       "      <td id=\"T_3b1c7_row14_col2\" class=\"data row14 col2\" >Middle super output area (LSOA) encrypted</td>\n",
       "      <td id=\"T_3b1c7_row14_col3\" class=\"data row14 col3\" >Office of National Statistics</td>\n",
       "      <td id=\"T_3b1c7_row14_col4\" class=\"data row14 col4\" >2011</td>\n",
       "    </tr>\n",
       "    <tr>\n",
       "      <td id=\"T_3b1c7_row15_col0\" class=\"data row15 col0\" >Geography</td>\n",
       "      <td id=\"T_3b1c7_row15_col1\" class=\"data row15 col1\" >ntdist2nap</td>\n",
       "      <td id=\"T_3b1c7_row15_col2\" class=\"data row15 col2\" >Walking distance along the road and path network to nearest OS open greenspace access point</td>\n",
       "      <td id=\"T_3b1c7_row15_col3\" class=\"data row15 col3\" >Ordnance Survey Open Greenspace</td>\n",
       "      <td id=\"T_3b1c7_row15_col4\" class=\"data row15 col4\" >None</td>\n",
       "    </tr>\n",
       "    <tr>\n",
       "      <td id=\"T_3b1c7_row16_col0\" class=\"data row16 col0\" >Greenspace</td>\n",
       "      <td id=\"T_3b1c7_row16_col1\" class=\"data row16 col1\" >osgs_ap</td>\n",
       "      <td id=\"T_3b1c7_row16_col2\" class=\"data row16 col2\" >Total number of OS open greenspace access points falling within each buffer zone</td>\n",
       "      <td id=\"T_3b1c7_row16_col3\" class=\"data row16 col3\" >Ordnance Survey Open Greenspace</td>\n",
       "      <td id=\"T_3b1c7_row16_col4\" class=\"data row16 col4\" >None</td>\n",
       "    </tr>\n",
       "    <tr>\n",
       "      <td id=\"T_3b1c7_row17_col0\" class=\"data row17 col0\" >Greenspace</td>\n",
       "      <td id=\"T_3b1c7_row17_col1\" class=\"data row17 col1\" >osgs_area</td>\n",
       "      <td id=\"T_3b1c7_row17_col2\" class=\"data row17 col2\" >Total area of OS open greenspace falling within the buffer zone (m2)</td>\n",
       "      <td id=\"T_3b1c7_row17_col3\" class=\"data row17 col3\" >Ordnance Survey Open Greenspace</td>\n",
       "      <td id=\"T_3b1c7_row17_col4\" class=\"data row17 col4\" >None</td>\n",
       "    </tr>\n",
       "    <tr>\n",
       "      <td id=\"T_3b1c7_row18_col0\" class=\"data row18 col0\" >Greenspace</td>\n",
       "      <td id=\"T_3b1c7_row18_col1\" class=\"data row18 col1\" >osgs_cnt</td>\n",
       "      <td id=\"T_3b1c7_row18_col2\" class=\"data row18 col2\" >Number of OS open greenspace sites within the buffer zone</td>\n",
       "      <td id=\"T_3b1c7_row18_col3\" class=\"data row18 col3\" >Ordnance Survey Open Greenspace</td>\n",
       "      <td id=\"T_3b1c7_row18_col4\" class=\"data row18 col4\" >None</td>\n",
       "    </tr>\n",
       "    <tr>\n",
       "      <td id=\"T_3b1c7_row19_col0\" class=\"data row19 col0\" >Greenspace</td>\n",
       "      <td id=\"T_3b1c7_row19_col1\" class=\"data row19 col1\" >osgs_pct</td>\n",
       "      <td id=\"T_3b1c7_row19_col2\" class=\"data row19 col2\" >Percentage coverage of OS open greenspace falling within the buffer zone.</td>\n",
       "      <td id=\"T_3b1c7_row19_col3\" class=\"data row19 col3\" >Ordnance Survey Open Greenspace</td>\n",
       "      <td id=\"T_3b1c7_row19_col4\" class=\"data row19 col4\" >None</td>\n",
       "    </tr>\n",
       "    <tr>\n",
       "      <td id=\"T_3b1c7_row20_col0\" class=\"data row20 col0\" >Geography</td>\n",
       "      <td id=\"T_3b1c7_row20_col1\" class=\"data row20 col1\" >postcode_e</td>\n",
       "      <td id=\"T_3b1c7_row20_col2\" class=\"data row20 col2\" >Postcode encrypted</td>\n",
       "      <td id=\"T_3b1c7_row20_col3\" class=\"data row20 col3\" >LPS</td>\n",
       "      <td id=\"T_3b1c7_row20_col4\" class=\"data row20 col4\" >None</td>\n",
       "    </tr>\n",
       "    <tr>\n",
       "      <td id=\"T_3b1c7_row21_col0\" class=\"data row21 col0\" >Geography</td>\n",
       "      <td id=\"T_3b1c7_row21_col1\" class=\"data row21 col1\" >region</td>\n",
       "      <td id=\"T_3b1c7_row21_col2\" class=\"data row21 col2\" >UK Region </td>\n",
       "      <td id=\"T_3b1c7_row21_col3\" class=\"data row21 col3\" >Office of National Statistics</td>\n",
       "      <td id=\"T_3b1c7_row21_col4\" class=\"data row21 col4\" >2011</td>\n",
       "    </tr>\n",
       "    <tr>\n",
       "      <td id=\"T_3b1c7_row22_col0\" class=\"data row22 col0\" >Green vegetation</td>\n",
       "      <td id=\"T_3b1c7_row22_col1\" class=\"data row22 col1\" >s2ndvi2020</td>\n",
       "      <td id=\"T_3b1c7_row22_col2\" class=\"data row22 col2\" >Mean value for Sentinel-2 2020 NDVI layer in the database calculated across buffer zone</td>\n",
       "      <td id=\"T_3b1c7_row22_col3\" class=\"data row22 col3\" >ESA Sentinel-2, USGS Landsat</td>\n",
       "      <td id=\"T_3b1c7_row22_col4\" class=\"data row22 col4\" >2020</td>\n",
       "    </tr>\n",
       "    <tr>\n",
       "      <td id=\"T_3b1c7_row23_col0\" class=\"data row23 col0\" >Tree Cover</td>\n",
       "      <td id=\"T_3b1c7_row23_col1\" class=\"data row23 col1\" >tc_pct</td>\n",
       "      <td id=\"T_3b1c7_row23_col2\" class=\"data row23 col2\" >Percentage of the number of pixels with a least some tree cover</td>\n",
       "      <td id=\"T_3b1c7_row23_col3\" class=\"data row23 col3\" >Copernicus High Resolution Layer Tree Cover Density</td>\n",
       "      <td id=\"T_3b1c7_row23_col4\" class=\"data row23 col4\" >None</td>\n",
       "    </tr>\n",
       "    <tr>\n",
       "      <td id=\"T_3b1c7_row24_col0\" class=\"data row24 col0\" >Tree Cover</td>\n",
       "      <td id=\"T_3b1c7_row24_col1\" class=\"data row24 col1\" >tcd_mean</td>\n",
       "      <td id=\"T_3b1c7_row24_col2\" class=\"data row24 col2\" >Mean tree cover density value over each buffer zone is calculated</td>\n",
       "      <td id=\"T_3b1c7_row24_col3\" class=\"data row24 col3\" >Copernicus High Resolution Layer Tree Cover Density</td>\n",
       "      <td id=\"T_3b1c7_row24_col4\" class=\"data row24 col4\" >None</td>\n",
       "    </tr>\n",
       "    <tr>\n",
       "      <td id=\"T_3b1c7_row25_col0\" class=\"data row25 col0\" >Geography</td>\n",
       "      <td id=\"T_3b1c7_row25_col1\" class=\"data row25 col1\" >uprn_e</td>\n",
       "      <td id=\"T_3b1c7_row25_col2\" class=\"data row25 col2\" >Unique Property Reference Number (UPRN) encrypted</td>\n",
       "      <td id=\"T_3b1c7_row25_col3\" class=\"data row25 col3\" >University of Leicester</td>\n",
       "      <td id=\"T_3b1c7_row25_col4\" class=\"data row25 col4\" >None</td>\n",
       "    </tr>\n",
       "  </tbody>\n",
       "</table>\n"
      ],
      "text/plain": [
       "<pandas.io.formats.style.Styler at 0x2677fcac410>"
      ]
     },
     "execution_count": 65,
     "metadata": {},
     "output_type": "execute_result"
    }
   ],
   "source": [
    "DS(\"greenspace_circle_points_500m_gb_hh\").variable_table()"
   ]
  },
  {
   "cell_type": "code",
   "execution_count": 66,
   "id": "2aa36be3",
   "metadata": {
    "tags": [
     "remove-input"
    ]
   },
   "outputs": [
    {
     "data": {
      "text/markdown": [
       "### greenspace_circle_points_500m_gb_pc"
      ],
      "text/plain": [
       "<IPython.core.display.Markdown object>"
      ]
     },
     "metadata": {},
     "output_type": "display_data"
    }
   ],
   "source": [
    "display(Markdown('### greenspace_circle_points_500m_gb_pc'))"
   ]
  },
  {
   "cell_type": "code",
   "execution_count": 67,
   "id": "83051132",
   "metadata": {
    "tags": [
     "remove-input",
     "hide-cell"
    ]
   },
   "outputs": [
    {
     "data": {
      "text/html": [
       "<style type=\"text/css\">\n",
       "#T_18889 th {\n",
       "  text-align: left;\n",
       "}\n",
       "#T_18889_row0_col0, #T_18889_row0_col1, #T_18889_row0_col2, #T_18889_row0_col3, #T_18889_row0_col4, #T_18889_row1_col0, #T_18889_row1_col1, #T_18889_row1_col2, #T_18889_row1_col3, #T_18889_row1_col4, #T_18889_row2_col0, #T_18889_row2_col1, #T_18889_row2_col2, #T_18889_row2_col3, #T_18889_row2_col4, #T_18889_row3_col0, #T_18889_row3_col1, #T_18889_row3_col2, #T_18889_row3_col3, #T_18889_row3_col4, #T_18889_row4_col0, #T_18889_row4_col1, #T_18889_row4_col2, #T_18889_row4_col3, #T_18889_row4_col4, #T_18889_row5_col0, #T_18889_row5_col1, #T_18889_row5_col2, #T_18889_row5_col3, #T_18889_row5_col4, #T_18889_row6_col0, #T_18889_row6_col1, #T_18889_row6_col2, #T_18889_row6_col3, #T_18889_row6_col4, #T_18889_row7_col0, #T_18889_row7_col1, #T_18889_row7_col2, #T_18889_row7_col3, #T_18889_row7_col4, #T_18889_row8_col0, #T_18889_row8_col1, #T_18889_row8_col2, #T_18889_row8_col3, #T_18889_row8_col4, #T_18889_row9_col0, #T_18889_row9_col1, #T_18889_row9_col2, #T_18889_row9_col3, #T_18889_row9_col4, #T_18889_row10_col0, #T_18889_row10_col1, #T_18889_row10_col2, #T_18889_row10_col3, #T_18889_row10_col4, #T_18889_row11_col0, #T_18889_row11_col1, #T_18889_row11_col2, #T_18889_row11_col3, #T_18889_row11_col4, #T_18889_row12_col0, #T_18889_row12_col1, #T_18889_row12_col2, #T_18889_row12_col3, #T_18889_row12_col4, #T_18889_row13_col0, #T_18889_row13_col1, #T_18889_row13_col2, #T_18889_row13_col3, #T_18889_row13_col4, #T_18889_row14_col0, #T_18889_row14_col1, #T_18889_row14_col2, #T_18889_row14_col3, #T_18889_row14_col4, #T_18889_row15_col0, #T_18889_row15_col1, #T_18889_row15_col2, #T_18889_row15_col3, #T_18889_row15_col4, #T_18889_row16_col0, #T_18889_row16_col1, #T_18889_row16_col2, #T_18889_row16_col3, #T_18889_row16_col4, #T_18889_row17_col0, #T_18889_row17_col1, #T_18889_row17_col2, #T_18889_row17_col3, #T_18889_row17_col4, #T_18889_row18_col0, #T_18889_row18_col1, #T_18889_row18_col2, #T_18889_row18_col3, #T_18889_row18_col4, #T_18889_row19_col0, #T_18889_row19_col1, #T_18889_row19_col2, #T_18889_row19_col3, #T_18889_row19_col4, #T_18889_row20_col0, #T_18889_row20_col1, #T_18889_row20_col2, #T_18889_row20_col3, #T_18889_row20_col4, #T_18889_row21_col0, #T_18889_row21_col1, #T_18889_row21_col2, #T_18889_row21_col3, #T_18889_row21_col4, #T_18889_row22_col0, #T_18889_row22_col1, #T_18889_row22_col2, #T_18889_row22_col3, #T_18889_row22_col4, #T_18889_row23_col0, #T_18889_row23_col1, #T_18889_row23_col2, #T_18889_row23_col3, #T_18889_row23_col4, #T_18889_row24_col0, #T_18889_row24_col1, #T_18889_row24_col2, #T_18889_row24_col3, #T_18889_row24_col4, #T_18889_row25_col0, #T_18889_row25_col1, #T_18889_row25_col2, #T_18889_row25_col3, #T_18889_row25_col4 {\n",
       "  text-align: left;\n",
       "}\n",
       "</style>\n",
       "<table id=\"T_18889\" style=\"font-size: 14px\">\n",
       "  <thead>\n",
       "    <tr>\n",
       "      <th id=\"T_18889_level0_col0\" class=\"col_heading level0 col0\" >Variable Group</th>\n",
       "      <th id=\"T_18889_level0_col1\" class=\"col_heading level0 col1\" >Variable</th>\n",
       "      <th id=\"T_18889_level0_col2\" class=\"col_heading level0 col2\" >Description</th>\n",
       "      <th id=\"T_18889_level0_col3\" class=\"col_heading level0 col3\" >Source</th>\n",
       "      <th id=\"T_18889_level0_col4\" class=\"col_heading level0 col4\" >Date range of data</th>\n",
       "    </tr>\n",
       "  </thead>\n",
       "  <tbody>\n",
       "    <tr>\n",
       "      <td id=\"T_18889_row0_col0\" class=\"data row0 col0\" >Identifier</td>\n",
       "      <td id=\"T_18889_row0_col1\" class=\"data row0 col1\" >cohortkey_e</td>\n",
       "      <td id=\"T_18889_row0_col2\" class=\"data row0 col2\" >individual level id</td>\n",
       "      <td id=\"T_18889_row0_col3\" class=\"data row0 col3\" >LPS</td>\n",
       "      <td id=\"T_18889_row0_col4\" class=\"data row0 col4\" >None</td>\n",
       "    </tr>\n",
       "    <tr>\n",
       "      <td id=\"T_18889_row1_col0\" class=\"data row1 col0\" >Geography</td>\n",
       "      <td id=\"T_18889_row1_col1\" class=\"data row1 col1\" >address_start_date</td>\n",
       "      <td id=\"T_18889_row1_col2\" class=\"data row1 col2\" >Address start date</td>\n",
       "      <td id=\"T_18889_row1_col3\" class=\"data row1 col3\" >LPS</td>\n",
       "      <td id=\"T_18889_row1_col4\" class=\"data row1 col4\" >None</td>\n",
       "    </tr>\n",
       "    <tr>\n",
       "      <td id=\"T_18889_row2_col0\" class=\"data row2 col0\" >Geography</td>\n",
       "      <td id=\"T_18889_row2_col1\" class=\"data row2 col1\" >address_end_date</td>\n",
       "      <td id=\"T_18889_row2_col2\" class=\"data row2 col2\" >Address end date</td>\n",
       "      <td id=\"T_18889_row2_col3\" class=\"data row2 col3\" >LPS</td>\n",
       "      <td id=\"T_18889_row2_col4\" class=\"data row2 col4\" >None</td>\n",
       "    </tr>\n",
       "    <tr>\n",
       "      <td id=\"T_18889_row3_col0\" class=\"data row3 col0\" >UK LLC</td>\n",
       "      <td id=\"T_18889_row3_col1\" class=\"data row3 col1\" >avail_from_dt</td>\n",
       "      <td id=\"T_18889_row3_col2\" class=\"data row3 col2\" >None</td>\n",
       "      <td id=\"T_18889_row3_col3\" class=\"data row3 col3\" >UK LLC</td>\n",
       "      <td id=\"T_18889_row3_col4\" class=\"data row3 col4\" >None</td>\n",
       "    </tr>\n",
       "    <tr>\n",
       "      <td id=\"T_18889_row4_col0\" class=\"data row4 col0\" >Geography</td>\n",
       "      <td id=\"T_18889_row4_col1\" class=\"data row4 col1\" >buf_area</td>\n",
       "      <td id=\"T_18889_row4_col2\" class=\"data row4 col2\" >Buffer area</td>\n",
       "      <td id=\"T_18889_row4_col3\" class=\"data row4 col3\" >University of Leicester</td>\n",
       "      <td id=\"T_18889_row4_col4\" class=\"data row4 col4\" >None</td>\n",
       "    </tr>\n",
       "    <tr>\n",
       "      <td id=\"T_18889_row5_col0\" class=\"data row5 col0\" >Geography</td>\n",
       "      <td id=\"T_18889_row5_col1\" class=\"data row5 col1\" >eudist2nap</td>\n",
       "      <td id=\"T_18889_row5_col2\" class=\"data row5 col2\" >Straight-line distance between address point and nearest OS open greenspace access point</td>\n",
       "      <td id=\"T_18889_row5_col3\" class=\"data row5 col3\" >Ordnance Survey Open Greenspace</td>\n",
       "      <td id=\"T_18889_row5_col4\" class=\"data row5 col4\" >None</td>\n",
       "    </tr>\n",
       "    <tr>\n",
       "      <td id=\"T_18889_row6_col0\" class=\"data row6 col0\" >Imperviousness</td>\n",
       "      <td id=\"T_18889_row6_col1\" class=\"data row6 col1\" >imd_mean</td>\n",
       "      <td id=\"T_18889_row6_col2\" class=\"data row6 col2\" >Mean imperviousness degree value over each buffer zone</td>\n",
       "      <td id=\"T_18889_row6_col3\" class=\"data row6 col3\" >Copernicus High Resolution Layer Imperviousness Degree</td>\n",
       "      <td id=\"T_18889_row6_col4\" class=\"data row6 col4\" >None</td>\n",
       "    </tr>\n",
       "    <tr>\n",
       "      <td id=\"T_18889_row7_col0\" class=\"data row7 col0\" >Imperviousness</td>\n",
       "      <td id=\"T_18889_row7_col1\" class=\"data row7 col1\" >imd_pct</td>\n",
       "      <td id=\"T_18889_row7_col2\" class=\"data row7 col2\" >Percentage of the number of pixels with a least some built up value</td>\n",
       "      <td id=\"T_18889_row7_col3\" class=\"data row7 col3\" >Copernicus High Resolution Layer Imperviousness Degree</td>\n",
       "      <td id=\"T_18889_row7_col4\" class=\"data row7 col4\" >None</td>\n",
       "    </tr>\n",
       "    <tr>\n",
       "      <td id=\"T_18889_row8_col0\" class=\"data row8 col0\" >Green vegetation</td>\n",
       "      <td id=\"T_18889_row8_col1\" class=\"data row8 col1\" >lsndvi1990</td>\n",
       "      <td id=\"T_18889_row8_col2\" class=\"data row8 col2\" >Mean value for Landsat 1990 NDVI layer in the database calculated across buffer zone</td>\n",
       "      <td id=\"T_18889_row8_col3\" class=\"data row8 col3\" >ESA Sentinel-2, USGS Landsat</td>\n",
       "      <td id=\"T_18889_row8_col4\" class=\"data row8 col4\" >1990</td>\n",
       "    </tr>\n",
       "    <tr>\n",
       "      <td id=\"T_18889_row9_col0\" class=\"data row9 col0\" >Green vegetation</td>\n",
       "      <td id=\"T_18889_row9_col1\" class=\"data row9 col1\" >lsndvi2000</td>\n",
       "      <td id=\"T_18889_row9_col2\" class=\"data row9 col2\" >Mean value for Landsat 2000 NDVI layer in the database calculated across buffer zone</td>\n",
       "      <td id=\"T_18889_row9_col3\" class=\"data row9 col3\" >ESA Sentinel-2, USGS Landsat</td>\n",
       "      <td id=\"T_18889_row9_col4\" class=\"data row9 col4\" >2000</td>\n",
       "    </tr>\n",
       "    <tr>\n",
       "      <td id=\"T_18889_row10_col0\" class=\"data row10 col0\" >Green vegetation</td>\n",
       "      <td id=\"T_18889_row10_col1\" class=\"data row10 col1\" >lsndvi2010</td>\n",
       "      <td id=\"T_18889_row10_col2\" class=\"data row10 col2\" >Mean value for Landsat 2010 NDVI layer in the database calculated across buffer zone</td>\n",
       "      <td id=\"T_18889_row10_col3\" class=\"data row10 col3\" >ESA Sentinel-2, USGS Landsat</td>\n",
       "      <td id=\"T_18889_row10_col4\" class=\"data row10 col4\" >2010</td>\n",
       "    </tr>\n",
       "    <tr>\n",
       "      <td id=\"T_18889_row11_col0\" class=\"data row11 col0\" >Green vegetation</td>\n",
       "      <td id=\"T_18889_row11_col1\" class=\"data row11 col1\" >lsndvi2020</td>\n",
       "      <td id=\"T_18889_row11_col2\" class=\"data row11 col2\" >Mean value for Landsat 2020 NDVI layer in the database calculated across buffer zone</td>\n",
       "      <td id=\"T_18889_row11_col3\" class=\"data row11 col3\" >ESA Sentinel-2, USGS Landsat</td>\n",
       "      <td id=\"T_18889_row11_col4\" class=\"data row11 col4\" >2020</td>\n",
       "    </tr>\n",
       "    <tr>\n",
       "      <td id=\"T_18889_row12_col0\" class=\"data row12 col0\" >Geography</td>\n",
       "      <td id=\"T_18889_row12_col1\" class=\"data row12 col1\" >lsoa11_e</td>\n",
       "      <td id=\"T_18889_row12_col2\" class=\"data row12 col2\" >Lower layer super output area (LSOA) encrypted</td>\n",
       "      <td id=\"T_18889_row12_col3\" class=\"data row12 col3\" >Office of National Statistics</td>\n",
       "      <td id=\"T_18889_row12_col4\" class=\"data row12 col4\" >2011</td>\n",
       "    </tr>\n",
       "    <tr>\n",
       "      <td id=\"T_18889_row13_col0\" class=\"data row13 col0\" >Geography</td>\n",
       "      <td id=\"T_18889_row13_col1\" class=\"data row13 col1\" >matchcode</td>\n",
       "      <td id=\"T_18889_row13_col2\" class=\"data row13 col2\" >Experian match code indicator</td>\n",
       "      <td id=\"T_18889_row13_col3\" class=\"data row13 col3\" >University of Leicester</td>\n",
       "      <td id=\"T_18889_row13_col4\" class=\"data row13 col4\" >None</td>\n",
       "    </tr>\n",
       "    <tr>\n",
       "      <td id=\"T_18889_row14_col0\" class=\"data row14 col0\" >Geography</td>\n",
       "      <td id=\"T_18889_row14_col1\" class=\"data row14 col1\" >msoa11_e</td>\n",
       "      <td id=\"T_18889_row14_col2\" class=\"data row14 col2\" >Middle super output area (LSOA) encrypted</td>\n",
       "      <td id=\"T_18889_row14_col3\" class=\"data row14 col3\" >Office of National Statistics</td>\n",
       "      <td id=\"T_18889_row14_col4\" class=\"data row14 col4\" >2011</td>\n",
       "    </tr>\n",
       "    <tr>\n",
       "      <td id=\"T_18889_row15_col0\" class=\"data row15 col0\" >Geography</td>\n",
       "      <td id=\"T_18889_row15_col1\" class=\"data row15 col1\" >ntdist2nap</td>\n",
       "      <td id=\"T_18889_row15_col2\" class=\"data row15 col2\" >Walking distance along the road and path network to nearest OS open greenspace access point</td>\n",
       "      <td id=\"T_18889_row15_col3\" class=\"data row15 col3\" >Ordnance Survey Open Greenspace</td>\n",
       "      <td id=\"T_18889_row15_col4\" class=\"data row15 col4\" >None</td>\n",
       "    </tr>\n",
       "    <tr>\n",
       "      <td id=\"T_18889_row16_col0\" class=\"data row16 col0\" >Greenspace</td>\n",
       "      <td id=\"T_18889_row16_col1\" class=\"data row16 col1\" >osgs_ap</td>\n",
       "      <td id=\"T_18889_row16_col2\" class=\"data row16 col2\" >Total number of OS open greenspace access points falling within each buffer zone</td>\n",
       "      <td id=\"T_18889_row16_col3\" class=\"data row16 col3\" >Ordnance Survey Open Greenspace</td>\n",
       "      <td id=\"T_18889_row16_col4\" class=\"data row16 col4\" >None</td>\n",
       "    </tr>\n",
       "    <tr>\n",
       "      <td id=\"T_18889_row17_col0\" class=\"data row17 col0\" >Greenspace</td>\n",
       "      <td id=\"T_18889_row17_col1\" class=\"data row17 col1\" >osgs_area</td>\n",
       "      <td id=\"T_18889_row17_col2\" class=\"data row17 col2\" >Total area of OS open greenspace falling within the buffer zone (m2)</td>\n",
       "      <td id=\"T_18889_row17_col3\" class=\"data row17 col3\" >Ordnance Survey Open Greenspace</td>\n",
       "      <td id=\"T_18889_row17_col4\" class=\"data row17 col4\" >None</td>\n",
       "    </tr>\n",
       "    <tr>\n",
       "      <td id=\"T_18889_row18_col0\" class=\"data row18 col0\" >Greenspace</td>\n",
       "      <td id=\"T_18889_row18_col1\" class=\"data row18 col1\" >osgs_cnt</td>\n",
       "      <td id=\"T_18889_row18_col2\" class=\"data row18 col2\" >Number of OS open greenspace sites within the buffer zone</td>\n",
       "      <td id=\"T_18889_row18_col3\" class=\"data row18 col3\" >Ordnance Survey Open Greenspace</td>\n",
       "      <td id=\"T_18889_row18_col4\" class=\"data row18 col4\" >None</td>\n",
       "    </tr>\n",
       "    <tr>\n",
       "      <td id=\"T_18889_row19_col0\" class=\"data row19 col0\" >Greenspace</td>\n",
       "      <td id=\"T_18889_row19_col1\" class=\"data row19 col1\" >osgs_pct</td>\n",
       "      <td id=\"T_18889_row19_col2\" class=\"data row19 col2\" >Percentage coverage of OS open greenspace falling within the buffer zone.</td>\n",
       "      <td id=\"T_18889_row19_col3\" class=\"data row19 col3\" >Ordnance Survey Open Greenspace</td>\n",
       "      <td id=\"T_18889_row19_col4\" class=\"data row19 col4\" >None</td>\n",
       "    </tr>\n",
       "    <tr>\n",
       "      <td id=\"T_18889_row20_col0\" class=\"data row20 col0\" >Geography</td>\n",
       "      <td id=\"T_18889_row20_col1\" class=\"data row20 col1\" >postcode_e</td>\n",
       "      <td id=\"T_18889_row20_col2\" class=\"data row20 col2\" >Postcode encrypted</td>\n",
       "      <td id=\"T_18889_row20_col3\" class=\"data row20 col3\" >LPS</td>\n",
       "      <td id=\"T_18889_row20_col4\" class=\"data row20 col4\" >None</td>\n",
       "    </tr>\n",
       "    <tr>\n",
       "      <td id=\"T_18889_row21_col0\" class=\"data row21 col0\" >Geography</td>\n",
       "      <td id=\"T_18889_row21_col1\" class=\"data row21 col1\" >region</td>\n",
       "      <td id=\"T_18889_row21_col2\" class=\"data row21 col2\" >UK Region </td>\n",
       "      <td id=\"T_18889_row21_col3\" class=\"data row21 col3\" >Office of National Statistics</td>\n",
       "      <td id=\"T_18889_row21_col4\" class=\"data row21 col4\" >2011</td>\n",
       "    </tr>\n",
       "    <tr>\n",
       "      <td id=\"T_18889_row22_col0\" class=\"data row22 col0\" >Green vegetation</td>\n",
       "      <td id=\"T_18889_row22_col1\" class=\"data row22 col1\" >s2ndvi2020</td>\n",
       "      <td id=\"T_18889_row22_col2\" class=\"data row22 col2\" >Mean value for Sentinel-2 2020 NDVI layer in the database calculated across buffer zone</td>\n",
       "      <td id=\"T_18889_row22_col3\" class=\"data row22 col3\" >ESA Sentinel-2, USGS Landsat</td>\n",
       "      <td id=\"T_18889_row22_col4\" class=\"data row22 col4\" >2020</td>\n",
       "    </tr>\n",
       "    <tr>\n",
       "      <td id=\"T_18889_row23_col0\" class=\"data row23 col0\" >Tree Cover</td>\n",
       "      <td id=\"T_18889_row23_col1\" class=\"data row23 col1\" >tc_pct</td>\n",
       "      <td id=\"T_18889_row23_col2\" class=\"data row23 col2\" >Percentage of the number of pixels with a least some tree cover</td>\n",
       "      <td id=\"T_18889_row23_col3\" class=\"data row23 col3\" >Copernicus High Resolution Layer Tree Cover Density</td>\n",
       "      <td id=\"T_18889_row23_col4\" class=\"data row23 col4\" >None</td>\n",
       "    </tr>\n",
       "    <tr>\n",
       "      <td id=\"T_18889_row24_col0\" class=\"data row24 col0\" >Tree Cover</td>\n",
       "      <td id=\"T_18889_row24_col1\" class=\"data row24 col1\" >tcd_mean</td>\n",
       "      <td id=\"T_18889_row24_col2\" class=\"data row24 col2\" >Mean tree cover density value over each buffer zone is calculated</td>\n",
       "      <td id=\"T_18889_row24_col3\" class=\"data row24 col3\" >Copernicus High Resolution Layer Tree Cover Density</td>\n",
       "      <td id=\"T_18889_row24_col4\" class=\"data row24 col4\" >None</td>\n",
       "    </tr>\n",
       "    <tr>\n",
       "      <td id=\"T_18889_row25_col0\" class=\"data row25 col0\" >Geography</td>\n",
       "      <td id=\"T_18889_row25_col1\" class=\"data row25 col1\" >uprn_e</td>\n",
       "      <td id=\"T_18889_row25_col2\" class=\"data row25 col2\" >Unique Property Reference Number (UPRN) encrypted</td>\n",
       "      <td id=\"T_18889_row25_col3\" class=\"data row25 col3\" >University of Leicester</td>\n",
       "      <td id=\"T_18889_row25_col4\" class=\"data row25 col4\" >None</td>\n",
       "    </tr>\n",
       "  </tbody>\n",
       "</table>\n"
      ],
      "text/plain": [
       "<pandas.io.formats.style.Styler at 0x2677fcad090>"
      ]
     },
     "execution_count": 67,
     "metadata": {},
     "output_type": "execute_result"
    }
   ],
   "source": [
    "DS(\"greenspace_circle_points_500m_gb_pc\").variable_table()"
   ]
  },
  {
   "cell_type": "code",
   "execution_count": 68,
   "id": "d8bcc31a",
   "metadata": {
    "tags": [
     "remove-input"
    ]
   },
   "outputs": [
    {
     "data": {
      "text/markdown": [
       "### greenspace_polygon_points_1000m_gb_hh"
      ],
      "text/plain": [
       "<IPython.core.display.Markdown object>"
      ]
     },
     "metadata": {},
     "output_type": "display_data"
    }
   ],
   "source": [
    "display(Markdown('### greenspace_polygon_points_1000m_gb_hh'))"
   ]
  },
  {
   "cell_type": "code",
   "execution_count": 69,
   "id": "f257d763",
   "metadata": {
    "tags": [
     "remove-input",
     "hide-cell"
    ]
   },
   "outputs": [
    {
     "data": {
      "text/html": [
       "<style type=\"text/css\">\n",
       "#T_f9536 th {\n",
       "  text-align: left;\n",
       "}\n",
       "#T_f9536_row0_col0, #T_f9536_row0_col1, #T_f9536_row0_col2, #T_f9536_row0_col3, #T_f9536_row0_col4, #T_f9536_row1_col0, #T_f9536_row1_col1, #T_f9536_row1_col2, #T_f9536_row1_col3, #T_f9536_row1_col4, #T_f9536_row2_col0, #T_f9536_row2_col1, #T_f9536_row2_col2, #T_f9536_row2_col3, #T_f9536_row2_col4, #T_f9536_row3_col0, #T_f9536_row3_col1, #T_f9536_row3_col2, #T_f9536_row3_col3, #T_f9536_row3_col4, #T_f9536_row4_col0, #T_f9536_row4_col1, #T_f9536_row4_col2, #T_f9536_row4_col3, #T_f9536_row4_col4, #T_f9536_row5_col0, #T_f9536_row5_col1, #T_f9536_row5_col2, #T_f9536_row5_col3, #T_f9536_row5_col4, #T_f9536_row6_col0, #T_f9536_row6_col1, #T_f9536_row6_col2, #T_f9536_row6_col3, #T_f9536_row6_col4, #T_f9536_row7_col0, #T_f9536_row7_col1, #T_f9536_row7_col2, #T_f9536_row7_col3, #T_f9536_row7_col4, #T_f9536_row8_col0, #T_f9536_row8_col1, #T_f9536_row8_col2, #T_f9536_row8_col3, #T_f9536_row8_col4, #T_f9536_row9_col0, #T_f9536_row9_col1, #T_f9536_row9_col2, #T_f9536_row9_col3, #T_f9536_row9_col4, #T_f9536_row10_col0, #T_f9536_row10_col1, #T_f9536_row10_col2, #T_f9536_row10_col3, #T_f9536_row10_col4, #T_f9536_row11_col0, #T_f9536_row11_col1, #T_f9536_row11_col2, #T_f9536_row11_col3, #T_f9536_row11_col4, #T_f9536_row12_col0, #T_f9536_row12_col1, #T_f9536_row12_col2, #T_f9536_row12_col3, #T_f9536_row12_col4, #T_f9536_row13_col0, #T_f9536_row13_col1, #T_f9536_row13_col2, #T_f9536_row13_col3, #T_f9536_row13_col4, #T_f9536_row14_col0, #T_f9536_row14_col1, #T_f9536_row14_col2, #T_f9536_row14_col3, #T_f9536_row14_col4, #T_f9536_row15_col0, #T_f9536_row15_col1, #T_f9536_row15_col2, #T_f9536_row15_col3, #T_f9536_row15_col4, #T_f9536_row16_col0, #T_f9536_row16_col1, #T_f9536_row16_col2, #T_f9536_row16_col3, #T_f9536_row16_col4, #T_f9536_row17_col0, #T_f9536_row17_col1, #T_f9536_row17_col2, #T_f9536_row17_col3, #T_f9536_row17_col4, #T_f9536_row18_col0, #T_f9536_row18_col1, #T_f9536_row18_col2, #T_f9536_row18_col3, #T_f9536_row18_col4, #T_f9536_row19_col0, #T_f9536_row19_col1, #T_f9536_row19_col2, #T_f9536_row19_col3, #T_f9536_row19_col4, #T_f9536_row20_col0, #T_f9536_row20_col1, #T_f9536_row20_col2, #T_f9536_row20_col3, #T_f9536_row20_col4, #T_f9536_row21_col0, #T_f9536_row21_col1, #T_f9536_row21_col2, #T_f9536_row21_col3, #T_f9536_row21_col4, #T_f9536_row22_col0, #T_f9536_row22_col1, #T_f9536_row22_col2, #T_f9536_row22_col3, #T_f9536_row22_col4, #T_f9536_row23_col0, #T_f9536_row23_col1, #T_f9536_row23_col2, #T_f9536_row23_col3, #T_f9536_row23_col4, #T_f9536_row24_col0, #T_f9536_row24_col1, #T_f9536_row24_col2, #T_f9536_row24_col3, #T_f9536_row24_col4, #T_f9536_row25_col0, #T_f9536_row25_col1, #T_f9536_row25_col2, #T_f9536_row25_col3, #T_f9536_row25_col4 {\n",
       "  text-align: left;\n",
       "}\n",
       "</style>\n",
       "<table id=\"T_f9536\" style=\"font-size: 14px\">\n",
       "  <thead>\n",
       "    <tr>\n",
       "      <th id=\"T_f9536_level0_col0\" class=\"col_heading level0 col0\" >Variable Group</th>\n",
       "      <th id=\"T_f9536_level0_col1\" class=\"col_heading level0 col1\" >Variable</th>\n",
       "      <th id=\"T_f9536_level0_col2\" class=\"col_heading level0 col2\" >Description</th>\n",
       "      <th id=\"T_f9536_level0_col3\" class=\"col_heading level0 col3\" >Source</th>\n",
       "      <th id=\"T_f9536_level0_col4\" class=\"col_heading level0 col4\" >Date range of data</th>\n",
       "    </tr>\n",
       "  </thead>\n",
       "  <tbody>\n",
       "    <tr>\n",
       "      <td id=\"T_f9536_row0_col0\" class=\"data row0 col0\" >Identifier</td>\n",
       "      <td id=\"T_f9536_row0_col1\" class=\"data row0 col1\" >cohortkey_e</td>\n",
       "      <td id=\"T_f9536_row0_col2\" class=\"data row0 col2\" >individual level id</td>\n",
       "      <td id=\"T_f9536_row0_col3\" class=\"data row0 col3\" >LPS</td>\n",
       "      <td id=\"T_f9536_row0_col4\" class=\"data row0 col4\" >None</td>\n",
       "    </tr>\n",
       "    <tr>\n",
       "      <td id=\"T_f9536_row1_col0\" class=\"data row1 col0\" >Geography</td>\n",
       "      <td id=\"T_f9536_row1_col1\" class=\"data row1 col1\" >address_start_date</td>\n",
       "      <td id=\"T_f9536_row1_col2\" class=\"data row1 col2\" >Address start date</td>\n",
       "      <td id=\"T_f9536_row1_col3\" class=\"data row1 col3\" >LPS</td>\n",
       "      <td id=\"T_f9536_row1_col4\" class=\"data row1 col4\" >None</td>\n",
       "    </tr>\n",
       "    <tr>\n",
       "      <td id=\"T_f9536_row2_col0\" class=\"data row2 col0\" >Geography</td>\n",
       "      <td id=\"T_f9536_row2_col1\" class=\"data row2 col1\" >address_end_date</td>\n",
       "      <td id=\"T_f9536_row2_col2\" class=\"data row2 col2\" >Address end date</td>\n",
       "      <td id=\"T_f9536_row2_col3\" class=\"data row2 col3\" >LPS</td>\n",
       "      <td id=\"T_f9536_row2_col4\" class=\"data row2 col4\" >None</td>\n",
       "    </tr>\n",
       "    <tr>\n",
       "      <td id=\"T_f9536_row3_col0\" class=\"data row3 col0\" >UK LLC</td>\n",
       "      <td id=\"T_f9536_row3_col1\" class=\"data row3 col1\" >avail_from_dt</td>\n",
       "      <td id=\"T_f9536_row3_col2\" class=\"data row3 col2\" >None</td>\n",
       "      <td id=\"T_f9536_row3_col3\" class=\"data row3 col3\" >UK LLC</td>\n",
       "      <td id=\"T_f9536_row3_col4\" class=\"data row3 col4\" >None</td>\n",
       "    </tr>\n",
       "    <tr>\n",
       "      <td id=\"T_f9536_row4_col0\" class=\"data row4 col0\" >Geography</td>\n",
       "      <td id=\"T_f9536_row4_col1\" class=\"data row4 col1\" >buf_area</td>\n",
       "      <td id=\"T_f9536_row4_col2\" class=\"data row4 col2\" >Buffer area</td>\n",
       "      <td id=\"T_f9536_row4_col3\" class=\"data row4 col3\" >University of Leicester</td>\n",
       "      <td id=\"T_f9536_row4_col4\" class=\"data row4 col4\" >None</td>\n",
       "    </tr>\n",
       "    <tr>\n",
       "      <td id=\"T_f9536_row5_col0\" class=\"data row5 col0\" >Geography</td>\n",
       "      <td id=\"T_f9536_row5_col1\" class=\"data row5 col1\" >eudist2nap</td>\n",
       "      <td id=\"T_f9536_row5_col2\" class=\"data row5 col2\" >Straight-line distance between address point and nearest OS open greenspace access point</td>\n",
       "      <td id=\"T_f9536_row5_col3\" class=\"data row5 col3\" >Ordnance Survey Open Greenspace</td>\n",
       "      <td id=\"T_f9536_row5_col4\" class=\"data row5 col4\" >None</td>\n",
       "    </tr>\n",
       "    <tr>\n",
       "      <td id=\"T_f9536_row6_col0\" class=\"data row6 col0\" >Imperviousness</td>\n",
       "      <td id=\"T_f9536_row6_col1\" class=\"data row6 col1\" >imd_mean</td>\n",
       "      <td id=\"T_f9536_row6_col2\" class=\"data row6 col2\" >Mean imperviousness degree value over each buffer zone</td>\n",
       "      <td id=\"T_f9536_row6_col3\" class=\"data row6 col3\" >Copernicus High Resolution Layer Imperviousness Degree</td>\n",
       "      <td id=\"T_f9536_row6_col4\" class=\"data row6 col4\" >None</td>\n",
       "    </tr>\n",
       "    <tr>\n",
       "      <td id=\"T_f9536_row7_col0\" class=\"data row7 col0\" >Imperviousness</td>\n",
       "      <td id=\"T_f9536_row7_col1\" class=\"data row7 col1\" >imd_pct</td>\n",
       "      <td id=\"T_f9536_row7_col2\" class=\"data row7 col2\" >Percentage of the number of pixels with a least some built up value</td>\n",
       "      <td id=\"T_f9536_row7_col3\" class=\"data row7 col3\" >Copernicus High Resolution Layer Imperviousness Degree</td>\n",
       "      <td id=\"T_f9536_row7_col4\" class=\"data row7 col4\" >None</td>\n",
       "    </tr>\n",
       "    <tr>\n",
       "      <td id=\"T_f9536_row8_col0\" class=\"data row8 col0\" >Green vegetation</td>\n",
       "      <td id=\"T_f9536_row8_col1\" class=\"data row8 col1\" >lsndvi1990</td>\n",
       "      <td id=\"T_f9536_row8_col2\" class=\"data row8 col2\" >Mean value for Landsat 1990 NDVI layer in the database calculated across buffer zone</td>\n",
       "      <td id=\"T_f9536_row8_col3\" class=\"data row8 col3\" >ESA Sentinel-2, USGS Landsat</td>\n",
       "      <td id=\"T_f9536_row8_col4\" class=\"data row8 col4\" >1990</td>\n",
       "    </tr>\n",
       "    <tr>\n",
       "      <td id=\"T_f9536_row9_col0\" class=\"data row9 col0\" >Green vegetation</td>\n",
       "      <td id=\"T_f9536_row9_col1\" class=\"data row9 col1\" >lsndvi2000</td>\n",
       "      <td id=\"T_f9536_row9_col2\" class=\"data row9 col2\" >Mean value for Landsat 2000 NDVI layer in the database calculated across buffer zone</td>\n",
       "      <td id=\"T_f9536_row9_col3\" class=\"data row9 col3\" >ESA Sentinel-2, USGS Landsat</td>\n",
       "      <td id=\"T_f9536_row9_col4\" class=\"data row9 col4\" >2000</td>\n",
       "    </tr>\n",
       "    <tr>\n",
       "      <td id=\"T_f9536_row10_col0\" class=\"data row10 col0\" >Green vegetation</td>\n",
       "      <td id=\"T_f9536_row10_col1\" class=\"data row10 col1\" >lsndvi2010</td>\n",
       "      <td id=\"T_f9536_row10_col2\" class=\"data row10 col2\" >Mean value for Landsat 2010 NDVI layer in the database calculated across buffer zone</td>\n",
       "      <td id=\"T_f9536_row10_col3\" class=\"data row10 col3\" >ESA Sentinel-2, USGS Landsat</td>\n",
       "      <td id=\"T_f9536_row10_col4\" class=\"data row10 col4\" >2010</td>\n",
       "    </tr>\n",
       "    <tr>\n",
       "      <td id=\"T_f9536_row11_col0\" class=\"data row11 col0\" >Green vegetation</td>\n",
       "      <td id=\"T_f9536_row11_col1\" class=\"data row11 col1\" >lsndvi2020</td>\n",
       "      <td id=\"T_f9536_row11_col2\" class=\"data row11 col2\" >Mean value for Landsat 2020 NDVI layer in the database calculated across buffer zone</td>\n",
       "      <td id=\"T_f9536_row11_col3\" class=\"data row11 col3\" >ESA Sentinel-2, USGS Landsat</td>\n",
       "      <td id=\"T_f9536_row11_col4\" class=\"data row11 col4\" >2020</td>\n",
       "    </tr>\n",
       "    <tr>\n",
       "      <td id=\"T_f9536_row12_col0\" class=\"data row12 col0\" >Geography</td>\n",
       "      <td id=\"T_f9536_row12_col1\" class=\"data row12 col1\" >lsoa11_e</td>\n",
       "      <td id=\"T_f9536_row12_col2\" class=\"data row12 col2\" >Lower layer super output area (LSOA) encrypted</td>\n",
       "      <td id=\"T_f9536_row12_col3\" class=\"data row12 col3\" >Office of National Statistics</td>\n",
       "      <td id=\"T_f9536_row12_col4\" class=\"data row12 col4\" >2011</td>\n",
       "    </tr>\n",
       "    <tr>\n",
       "      <td id=\"T_f9536_row13_col0\" class=\"data row13 col0\" >Geography</td>\n",
       "      <td id=\"T_f9536_row13_col1\" class=\"data row13 col1\" >matchcode</td>\n",
       "      <td id=\"T_f9536_row13_col2\" class=\"data row13 col2\" >Experian match code indicator</td>\n",
       "      <td id=\"T_f9536_row13_col3\" class=\"data row13 col3\" >University of Leicester</td>\n",
       "      <td id=\"T_f9536_row13_col4\" class=\"data row13 col4\" >None</td>\n",
       "    </tr>\n",
       "    <tr>\n",
       "      <td id=\"T_f9536_row14_col0\" class=\"data row14 col0\" >Geography</td>\n",
       "      <td id=\"T_f9536_row14_col1\" class=\"data row14 col1\" >msoa11_e</td>\n",
       "      <td id=\"T_f9536_row14_col2\" class=\"data row14 col2\" >Middle super output area (LSOA) encrypted</td>\n",
       "      <td id=\"T_f9536_row14_col3\" class=\"data row14 col3\" >Office of National Statistics</td>\n",
       "      <td id=\"T_f9536_row14_col4\" class=\"data row14 col4\" >2011</td>\n",
       "    </tr>\n",
       "    <tr>\n",
       "      <td id=\"T_f9536_row15_col0\" class=\"data row15 col0\" >Geography</td>\n",
       "      <td id=\"T_f9536_row15_col1\" class=\"data row15 col1\" >ntdist2nap</td>\n",
       "      <td id=\"T_f9536_row15_col2\" class=\"data row15 col2\" >Walking distance along the road and path network to nearest OS open greenspace access point</td>\n",
       "      <td id=\"T_f9536_row15_col3\" class=\"data row15 col3\" >Ordnance Survey Open Greenspace</td>\n",
       "      <td id=\"T_f9536_row15_col4\" class=\"data row15 col4\" >None</td>\n",
       "    </tr>\n",
       "    <tr>\n",
       "      <td id=\"T_f9536_row16_col0\" class=\"data row16 col0\" >Greenspace</td>\n",
       "      <td id=\"T_f9536_row16_col1\" class=\"data row16 col1\" >osgs_ap</td>\n",
       "      <td id=\"T_f9536_row16_col2\" class=\"data row16 col2\" >Total number of OS open greenspace access points falling within each buffer zone</td>\n",
       "      <td id=\"T_f9536_row16_col3\" class=\"data row16 col3\" >Ordnance Survey Open Greenspace</td>\n",
       "      <td id=\"T_f9536_row16_col4\" class=\"data row16 col4\" >None</td>\n",
       "    </tr>\n",
       "    <tr>\n",
       "      <td id=\"T_f9536_row17_col0\" class=\"data row17 col0\" >Greenspace</td>\n",
       "      <td id=\"T_f9536_row17_col1\" class=\"data row17 col1\" >osgs_area</td>\n",
       "      <td id=\"T_f9536_row17_col2\" class=\"data row17 col2\" >Total area of OS open greenspace falling within the buffer zone (m2)</td>\n",
       "      <td id=\"T_f9536_row17_col3\" class=\"data row17 col3\" >Ordnance Survey Open Greenspace</td>\n",
       "      <td id=\"T_f9536_row17_col4\" class=\"data row17 col4\" >None</td>\n",
       "    </tr>\n",
       "    <tr>\n",
       "      <td id=\"T_f9536_row18_col0\" class=\"data row18 col0\" >Greenspace</td>\n",
       "      <td id=\"T_f9536_row18_col1\" class=\"data row18 col1\" >osgs_cnt</td>\n",
       "      <td id=\"T_f9536_row18_col2\" class=\"data row18 col2\" >Number of OS open greenspace sites within the buffer zone</td>\n",
       "      <td id=\"T_f9536_row18_col3\" class=\"data row18 col3\" >Ordnance Survey Open Greenspace</td>\n",
       "      <td id=\"T_f9536_row18_col4\" class=\"data row18 col4\" >None</td>\n",
       "    </tr>\n",
       "    <tr>\n",
       "      <td id=\"T_f9536_row19_col0\" class=\"data row19 col0\" >Greenspace</td>\n",
       "      <td id=\"T_f9536_row19_col1\" class=\"data row19 col1\" >osgs_pct</td>\n",
       "      <td id=\"T_f9536_row19_col2\" class=\"data row19 col2\" >Percentage coverage of OS open greenspace falling within the buffer zone.</td>\n",
       "      <td id=\"T_f9536_row19_col3\" class=\"data row19 col3\" >Ordnance Survey Open Greenspace</td>\n",
       "      <td id=\"T_f9536_row19_col4\" class=\"data row19 col4\" >None</td>\n",
       "    </tr>\n",
       "    <tr>\n",
       "      <td id=\"T_f9536_row20_col0\" class=\"data row20 col0\" >Geography</td>\n",
       "      <td id=\"T_f9536_row20_col1\" class=\"data row20 col1\" >postcode_e</td>\n",
       "      <td id=\"T_f9536_row20_col2\" class=\"data row20 col2\" >Postcode encrypted</td>\n",
       "      <td id=\"T_f9536_row20_col3\" class=\"data row20 col3\" >LPS</td>\n",
       "      <td id=\"T_f9536_row20_col4\" class=\"data row20 col4\" >None</td>\n",
       "    </tr>\n",
       "    <tr>\n",
       "      <td id=\"T_f9536_row21_col0\" class=\"data row21 col0\" >Geography</td>\n",
       "      <td id=\"T_f9536_row21_col1\" class=\"data row21 col1\" >region</td>\n",
       "      <td id=\"T_f9536_row21_col2\" class=\"data row21 col2\" >UK Region </td>\n",
       "      <td id=\"T_f9536_row21_col3\" class=\"data row21 col3\" >Office of National Statistics</td>\n",
       "      <td id=\"T_f9536_row21_col4\" class=\"data row21 col4\" >2011</td>\n",
       "    </tr>\n",
       "    <tr>\n",
       "      <td id=\"T_f9536_row22_col0\" class=\"data row22 col0\" >Green vegetation</td>\n",
       "      <td id=\"T_f9536_row22_col1\" class=\"data row22 col1\" >s2ndvi2020</td>\n",
       "      <td id=\"T_f9536_row22_col2\" class=\"data row22 col2\" >Mean value for Sentinel-2 2020 NDVI layer in the database calculated across buffer zone</td>\n",
       "      <td id=\"T_f9536_row22_col3\" class=\"data row22 col3\" >ESA Sentinel-2, USGS Landsat</td>\n",
       "      <td id=\"T_f9536_row22_col4\" class=\"data row22 col4\" >2020</td>\n",
       "    </tr>\n",
       "    <tr>\n",
       "      <td id=\"T_f9536_row23_col0\" class=\"data row23 col0\" >Tree Cover</td>\n",
       "      <td id=\"T_f9536_row23_col1\" class=\"data row23 col1\" >tc_pct</td>\n",
       "      <td id=\"T_f9536_row23_col2\" class=\"data row23 col2\" >Percentage of the number of pixels with a least some tree cover</td>\n",
       "      <td id=\"T_f9536_row23_col3\" class=\"data row23 col3\" >Copernicus High Resolution Layer Tree Cover Density</td>\n",
       "      <td id=\"T_f9536_row23_col4\" class=\"data row23 col4\" >None</td>\n",
       "    </tr>\n",
       "    <tr>\n",
       "      <td id=\"T_f9536_row24_col0\" class=\"data row24 col0\" >Tree Cover</td>\n",
       "      <td id=\"T_f9536_row24_col1\" class=\"data row24 col1\" >tcd_mean</td>\n",
       "      <td id=\"T_f9536_row24_col2\" class=\"data row24 col2\" >Mean tree cover density value over each buffer zone is calculated</td>\n",
       "      <td id=\"T_f9536_row24_col3\" class=\"data row24 col3\" >Copernicus High Resolution Layer Tree Cover Density</td>\n",
       "      <td id=\"T_f9536_row24_col4\" class=\"data row24 col4\" >None</td>\n",
       "    </tr>\n",
       "    <tr>\n",
       "      <td id=\"T_f9536_row25_col0\" class=\"data row25 col0\" >Geography</td>\n",
       "      <td id=\"T_f9536_row25_col1\" class=\"data row25 col1\" >uprn_e</td>\n",
       "      <td id=\"T_f9536_row25_col2\" class=\"data row25 col2\" >Unique Property Reference Number (UPRN) encrypted</td>\n",
       "      <td id=\"T_f9536_row25_col3\" class=\"data row25 col3\" >University of Leicester</td>\n",
       "      <td id=\"T_f9536_row25_col4\" class=\"data row25 col4\" >None</td>\n",
       "    </tr>\n",
       "  </tbody>\n",
       "</table>\n"
      ],
      "text/plain": [
       "<pandas.io.formats.style.Styler at 0x2677fcad450>"
      ]
     },
     "execution_count": 69,
     "metadata": {},
     "output_type": "execute_result"
    }
   ],
   "source": [
    "DS(\"greenspace_polygon_points_1000m_gb_hh\").variable_table()"
   ]
  },
  {
   "cell_type": "code",
   "execution_count": 70,
   "id": "d9bf2fa3",
   "metadata": {
    "tags": [
     "remove-input"
    ]
   },
   "outputs": [
    {
     "data": {
      "text/markdown": [
       "### greenspace_polygon_points_1000m_gb_pc"
      ],
      "text/plain": [
       "<IPython.core.display.Markdown object>"
      ]
     },
     "metadata": {},
     "output_type": "display_data"
    }
   ],
   "source": [
    "display(Markdown('### greenspace_polygon_points_1000m_gb_pc'))"
   ]
  },
  {
   "cell_type": "code",
   "execution_count": 71,
   "id": "02e7b2d4",
   "metadata": {
    "tags": [
     "remove-input",
     "hide-cell"
    ]
   },
   "outputs": [
    {
     "data": {
      "text/html": [
       "<style type=\"text/css\">\n",
       "#T_2a2aa th {\n",
       "  text-align: left;\n",
       "}\n",
       "#T_2a2aa_row0_col0, #T_2a2aa_row0_col1, #T_2a2aa_row0_col2, #T_2a2aa_row0_col3, #T_2a2aa_row0_col4, #T_2a2aa_row1_col0, #T_2a2aa_row1_col1, #T_2a2aa_row1_col2, #T_2a2aa_row1_col3, #T_2a2aa_row1_col4, #T_2a2aa_row2_col0, #T_2a2aa_row2_col1, #T_2a2aa_row2_col2, #T_2a2aa_row2_col3, #T_2a2aa_row2_col4, #T_2a2aa_row3_col0, #T_2a2aa_row3_col1, #T_2a2aa_row3_col2, #T_2a2aa_row3_col3, #T_2a2aa_row3_col4, #T_2a2aa_row4_col0, #T_2a2aa_row4_col1, #T_2a2aa_row4_col2, #T_2a2aa_row4_col3, #T_2a2aa_row4_col4, #T_2a2aa_row5_col0, #T_2a2aa_row5_col1, #T_2a2aa_row5_col2, #T_2a2aa_row5_col3, #T_2a2aa_row5_col4, #T_2a2aa_row6_col0, #T_2a2aa_row6_col1, #T_2a2aa_row6_col2, #T_2a2aa_row6_col3, #T_2a2aa_row6_col4, #T_2a2aa_row7_col0, #T_2a2aa_row7_col1, #T_2a2aa_row7_col2, #T_2a2aa_row7_col3, #T_2a2aa_row7_col4, #T_2a2aa_row8_col0, #T_2a2aa_row8_col1, #T_2a2aa_row8_col2, #T_2a2aa_row8_col3, #T_2a2aa_row8_col4, #T_2a2aa_row9_col0, #T_2a2aa_row9_col1, #T_2a2aa_row9_col2, #T_2a2aa_row9_col3, #T_2a2aa_row9_col4, #T_2a2aa_row10_col0, #T_2a2aa_row10_col1, #T_2a2aa_row10_col2, #T_2a2aa_row10_col3, #T_2a2aa_row10_col4, #T_2a2aa_row11_col0, #T_2a2aa_row11_col1, #T_2a2aa_row11_col2, #T_2a2aa_row11_col3, #T_2a2aa_row11_col4, #T_2a2aa_row12_col0, #T_2a2aa_row12_col1, #T_2a2aa_row12_col2, #T_2a2aa_row12_col3, #T_2a2aa_row12_col4, #T_2a2aa_row13_col0, #T_2a2aa_row13_col1, #T_2a2aa_row13_col2, #T_2a2aa_row13_col3, #T_2a2aa_row13_col4, #T_2a2aa_row14_col0, #T_2a2aa_row14_col1, #T_2a2aa_row14_col2, #T_2a2aa_row14_col3, #T_2a2aa_row14_col4, #T_2a2aa_row15_col0, #T_2a2aa_row15_col1, #T_2a2aa_row15_col2, #T_2a2aa_row15_col3, #T_2a2aa_row15_col4, #T_2a2aa_row16_col0, #T_2a2aa_row16_col1, #T_2a2aa_row16_col2, #T_2a2aa_row16_col3, #T_2a2aa_row16_col4, #T_2a2aa_row17_col0, #T_2a2aa_row17_col1, #T_2a2aa_row17_col2, #T_2a2aa_row17_col3, #T_2a2aa_row17_col4, #T_2a2aa_row18_col0, #T_2a2aa_row18_col1, #T_2a2aa_row18_col2, #T_2a2aa_row18_col3, #T_2a2aa_row18_col4, #T_2a2aa_row19_col0, #T_2a2aa_row19_col1, #T_2a2aa_row19_col2, #T_2a2aa_row19_col3, #T_2a2aa_row19_col4, #T_2a2aa_row20_col0, #T_2a2aa_row20_col1, #T_2a2aa_row20_col2, #T_2a2aa_row20_col3, #T_2a2aa_row20_col4, #T_2a2aa_row21_col0, #T_2a2aa_row21_col1, #T_2a2aa_row21_col2, #T_2a2aa_row21_col3, #T_2a2aa_row21_col4, #T_2a2aa_row22_col0, #T_2a2aa_row22_col1, #T_2a2aa_row22_col2, #T_2a2aa_row22_col3, #T_2a2aa_row22_col4, #T_2a2aa_row23_col0, #T_2a2aa_row23_col1, #T_2a2aa_row23_col2, #T_2a2aa_row23_col3, #T_2a2aa_row23_col4, #T_2a2aa_row24_col0, #T_2a2aa_row24_col1, #T_2a2aa_row24_col2, #T_2a2aa_row24_col3, #T_2a2aa_row24_col4, #T_2a2aa_row25_col0, #T_2a2aa_row25_col1, #T_2a2aa_row25_col2, #T_2a2aa_row25_col3, #T_2a2aa_row25_col4 {\n",
       "  text-align: left;\n",
       "}\n",
       "</style>\n",
       "<table id=\"T_2a2aa\" style=\"font-size: 14px\">\n",
       "  <thead>\n",
       "    <tr>\n",
       "      <th id=\"T_2a2aa_level0_col0\" class=\"col_heading level0 col0\" >Variable Group</th>\n",
       "      <th id=\"T_2a2aa_level0_col1\" class=\"col_heading level0 col1\" >Variable</th>\n",
       "      <th id=\"T_2a2aa_level0_col2\" class=\"col_heading level0 col2\" >Description</th>\n",
       "      <th id=\"T_2a2aa_level0_col3\" class=\"col_heading level0 col3\" >Source</th>\n",
       "      <th id=\"T_2a2aa_level0_col4\" class=\"col_heading level0 col4\" >Date range of data</th>\n",
       "    </tr>\n",
       "  </thead>\n",
       "  <tbody>\n",
       "    <tr>\n",
       "      <td id=\"T_2a2aa_row0_col0\" class=\"data row0 col0\" >Identifier</td>\n",
       "      <td id=\"T_2a2aa_row0_col1\" class=\"data row0 col1\" >cohortkey_e</td>\n",
       "      <td id=\"T_2a2aa_row0_col2\" class=\"data row0 col2\" >individual level id</td>\n",
       "      <td id=\"T_2a2aa_row0_col3\" class=\"data row0 col3\" >LPS</td>\n",
       "      <td id=\"T_2a2aa_row0_col4\" class=\"data row0 col4\" >None</td>\n",
       "    </tr>\n",
       "    <tr>\n",
       "      <td id=\"T_2a2aa_row1_col0\" class=\"data row1 col0\" >Geography</td>\n",
       "      <td id=\"T_2a2aa_row1_col1\" class=\"data row1 col1\" >address_start_date</td>\n",
       "      <td id=\"T_2a2aa_row1_col2\" class=\"data row1 col2\" >Address start date</td>\n",
       "      <td id=\"T_2a2aa_row1_col3\" class=\"data row1 col3\" >LPS</td>\n",
       "      <td id=\"T_2a2aa_row1_col4\" class=\"data row1 col4\" >None</td>\n",
       "    </tr>\n",
       "    <tr>\n",
       "      <td id=\"T_2a2aa_row2_col0\" class=\"data row2 col0\" >Geography</td>\n",
       "      <td id=\"T_2a2aa_row2_col1\" class=\"data row2 col1\" >address_end_date</td>\n",
       "      <td id=\"T_2a2aa_row2_col2\" class=\"data row2 col2\" >Address end date</td>\n",
       "      <td id=\"T_2a2aa_row2_col3\" class=\"data row2 col3\" >LPS</td>\n",
       "      <td id=\"T_2a2aa_row2_col4\" class=\"data row2 col4\" >None</td>\n",
       "    </tr>\n",
       "    <tr>\n",
       "      <td id=\"T_2a2aa_row3_col0\" class=\"data row3 col0\" >UK LLC</td>\n",
       "      <td id=\"T_2a2aa_row3_col1\" class=\"data row3 col1\" >avail_from_dt</td>\n",
       "      <td id=\"T_2a2aa_row3_col2\" class=\"data row3 col2\" >None</td>\n",
       "      <td id=\"T_2a2aa_row3_col3\" class=\"data row3 col3\" >UK LLC</td>\n",
       "      <td id=\"T_2a2aa_row3_col4\" class=\"data row3 col4\" >None</td>\n",
       "    </tr>\n",
       "    <tr>\n",
       "      <td id=\"T_2a2aa_row4_col0\" class=\"data row4 col0\" >Geography</td>\n",
       "      <td id=\"T_2a2aa_row4_col1\" class=\"data row4 col1\" >buf_area</td>\n",
       "      <td id=\"T_2a2aa_row4_col2\" class=\"data row4 col2\" >Buffer area</td>\n",
       "      <td id=\"T_2a2aa_row4_col3\" class=\"data row4 col3\" >University of Leicester</td>\n",
       "      <td id=\"T_2a2aa_row4_col4\" class=\"data row4 col4\" >None</td>\n",
       "    </tr>\n",
       "    <tr>\n",
       "      <td id=\"T_2a2aa_row5_col0\" class=\"data row5 col0\" >Geography</td>\n",
       "      <td id=\"T_2a2aa_row5_col1\" class=\"data row5 col1\" >eudist2nap</td>\n",
       "      <td id=\"T_2a2aa_row5_col2\" class=\"data row5 col2\" >Straight-line distance between address point and nearest OS open greenspace access point</td>\n",
       "      <td id=\"T_2a2aa_row5_col3\" class=\"data row5 col3\" >Ordnance Survey Open Greenspace</td>\n",
       "      <td id=\"T_2a2aa_row5_col4\" class=\"data row5 col4\" >None</td>\n",
       "    </tr>\n",
       "    <tr>\n",
       "      <td id=\"T_2a2aa_row6_col0\" class=\"data row6 col0\" >Imperviousness</td>\n",
       "      <td id=\"T_2a2aa_row6_col1\" class=\"data row6 col1\" >imd_mean</td>\n",
       "      <td id=\"T_2a2aa_row6_col2\" class=\"data row6 col2\" >Mean imperviousness degree value over each buffer zone</td>\n",
       "      <td id=\"T_2a2aa_row6_col3\" class=\"data row6 col3\" >Copernicus High Resolution Layer Imperviousness Degree</td>\n",
       "      <td id=\"T_2a2aa_row6_col4\" class=\"data row6 col4\" >None</td>\n",
       "    </tr>\n",
       "    <tr>\n",
       "      <td id=\"T_2a2aa_row7_col0\" class=\"data row7 col0\" >Imperviousness</td>\n",
       "      <td id=\"T_2a2aa_row7_col1\" class=\"data row7 col1\" >imd_pct</td>\n",
       "      <td id=\"T_2a2aa_row7_col2\" class=\"data row7 col2\" >Percentage of the number of pixels with a least some built up value</td>\n",
       "      <td id=\"T_2a2aa_row7_col3\" class=\"data row7 col3\" >Copernicus High Resolution Layer Imperviousness Degree</td>\n",
       "      <td id=\"T_2a2aa_row7_col4\" class=\"data row7 col4\" >None</td>\n",
       "    </tr>\n",
       "    <tr>\n",
       "      <td id=\"T_2a2aa_row8_col0\" class=\"data row8 col0\" >Green vegetation</td>\n",
       "      <td id=\"T_2a2aa_row8_col1\" class=\"data row8 col1\" >lsndvi1990</td>\n",
       "      <td id=\"T_2a2aa_row8_col2\" class=\"data row8 col2\" >Mean value for Landsat 1990 NDVI layer in the database calculated across buffer zone</td>\n",
       "      <td id=\"T_2a2aa_row8_col3\" class=\"data row8 col3\" >ESA Sentinel-2, USGS Landsat</td>\n",
       "      <td id=\"T_2a2aa_row8_col4\" class=\"data row8 col4\" >1990</td>\n",
       "    </tr>\n",
       "    <tr>\n",
       "      <td id=\"T_2a2aa_row9_col0\" class=\"data row9 col0\" >Green vegetation</td>\n",
       "      <td id=\"T_2a2aa_row9_col1\" class=\"data row9 col1\" >lsndvi2000</td>\n",
       "      <td id=\"T_2a2aa_row9_col2\" class=\"data row9 col2\" >Mean value for Landsat 2000 NDVI layer in the database calculated across buffer zone</td>\n",
       "      <td id=\"T_2a2aa_row9_col3\" class=\"data row9 col3\" >ESA Sentinel-2, USGS Landsat</td>\n",
       "      <td id=\"T_2a2aa_row9_col4\" class=\"data row9 col4\" >2000</td>\n",
       "    </tr>\n",
       "    <tr>\n",
       "      <td id=\"T_2a2aa_row10_col0\" class=\"data row10 col0\" >Green vegetation</td>\n",
       "      <td id=\"T_2a2aa_row10_col1\" class=\"data row10 col1\" >lsndvi2010</td>\n",
       "      <td id=\"T_2a2aa_row10_col2\" class=\"data row10 col2\" >Mean value for Landsat 2010 NDVI layer in the database calculated across buffer zone</td>\n",
       "      <td id=\"T_2a2aa_row10_col3\" class=\"data row10 col3\" >ESA Sentinel-2, USGS Landsat</td>\n",
       "      <td id=\"T_2a2aa_row10_col4\" class=\"data row10 col4\" >2010</td>\n",
       "    </tr>\n",
       "    <tr>\n",
       "      <td id=\"T_2a2aa_row11_col0\" class=\"data row11 col0\" >Green vegetation</td>\n",
       "      <td id=\"T_2a2aa_row11_col1\" class=\"data row11 col1\" >lsndvi2020</td>\n",
       "      <td id=\"T_2a2aa_row11_col2\" class=\"data row11 col2\" >Mean value for Landsat 2020 NDVI layer in the database calculated across buffer zone</td>\n",
       "      <td id=\"T_2a2aa_row11_col3\" class=\"data row11 col3\" >ESA Sentinel-2, USGS Landsat</td>\n",
       "      <td id=\"T_2a2aa_row11_col4\" class=\"data row11 col4\" >2020</td>\n",
       "    </tr>\n",
       "    <tr>\n",
       "      <td id=\"T_2a2aa_row12_col0\" class=\"data row12 col0\" >Geography</td>\n",
       "      <td id=\"T_2a2aa_row12_col1\" class=\"data row12 col1\" >lsoa11_e</td>\n",
       "      <td id=\"T_2a2aa_row12_col2\" class=\"data row12 col2\" >Lower layer super output area (LSOA) encrypted</td>\n",
       "      <td id=\"T_2a2aa_row12_col3\" class=\"data row12 col3\" >Office of National Statistics</td>\n",
       "      <td id=\"T_2a2aa_row12_col4\" class=\"data row12 col4\" >2011</td>\n",
       "    </tr>\n",
       "    <tr>\n",
       "      <td id=\"T_2a2aa_row13_col0\" class=\"data row13 col0\" >Geography</td>\n",
       "      <td id=\"T_2a2aa_row13_col1\" class=\"data row13 col1\" >matchcode</td>\n",
       "      <td id=\"T_2a2aa_row13_col2\" class=\"data row13 col2\" >Experian match code indicator</td>\n",
       "      <td id=\"T_2a2aa_row13_col3\" class=\"data row13 col3\" >University of Leicester</td>\n",
       "      <td id=\"T_2a2aa_row13_col4\" class=\"data row13 col4\" >None</td>\n",
       "    </tr>\n",
       "    <tr>\n",
       "      <td id=\"T_2a2aa_row14_col0\" class=\"data row14 col0\" >Geography</td>\n",
       "      <td id=\"T_2a2aa_row14_col1\" class=\"data row14 col1\" >msoa11_e</td>\n",
       "      <td id=\"T_2a2aa_row14_col2\" class=\"data row14 col2\" >Middle super output area (LSOA) encrypted</td>\n",
       "      <td id=\"T_2a2aa_row14_col3\" class=\"data row14 col3\" >Office of National Statistics</td>\n",
       "      <td id=\"T_2a2aa_row14_col4\" class=\"data row14 col4\" >2011</td>\n",
       "    </tr>\n",
       "    <tr>\n",
       "      <td id=\"T_2a2aa_row15_col0\" class=\"data row15 col0\" >Geography</td>\n",
       "      <td id=\"T_2a2aa_row15_col1\" class=\"data row15 col1\" >ntdist2nap</td>\n",
       "      <td id=\"T_2a2aa_row15_col2\" class=\"data row15 col2\" >Walking distance along the road and path network to nearest OS open greenspace access point</td>\n",
       "      <td id=\"T_2a2aa_row15_col3\" class=\"data row15 col3\" >Ordnance Survey Open Greenspace</td>\n",
       "      <td id=\"T_2a2aa_row15_col4\" class=\"data row15 col4\" >None</td>\n",
       "    </tr>\n",
       "    <tr>\n",
       "      <td id=\"T_2a2aa_row16_col0\" class=\"data row16 col0\" >Greenspace</td>\n",
       "      <td id=\"T_2a2aa_row16_col1\" class=\"data row16 col1\" >osgs_ap</td>\n",
       "      <td id=\"T_2a2aa_row16_col2\" class=\"data row16 col2\" >Total number of OS open greenspace access points falling within each buffer zone</td>\n",
       "      <td id=\"T_2a2aa_row16_col3\" class=\"data row16 col3\" >Ordnance Survey Open Greenspace</td>\n",
       "      <td id=\"T_2a2aa_row16_col4\" class=\"data row16 col4\" >None</td>\n",
       "    </tr>\n",
       "    <tr>\n",
       "      <td id=\"T_2a2aa_row17_col0\" class=\"data row17 col0\" >Greenspace</td>\n",
       "      <td id=\"T_2a2aa_row17_col1\" class=\"data row17 col1\" >osgs_area</td>\n",
       "      <td id=\"T_2a2aa_row17_col2\" class=\"data row17 col2\" >Total area of OS open greenspace falling within the buffer zone (m2)</td>\n",
       "      <td id=\"T_2a2aa_row17_col3\" class=\"data row17 col3\" >Ordnance Survey Open Greenspace</td>\n",
       "      <td id=\"T_2a2aa_row17_col4\" class=\"data row17 col4\" >None</td>\n",
       "    </tr>\n",
       "    <tr>\n",
       "      <td id=\"T_2a2aa_row18_col0\" class=\"data row18 col0\" >Greenspace</td>\n",
       "      <td id=\"T_2a2aa_row18_col1\" class=\"data row18 col1\" >osgs_cnt</td>\n",
       "      <td id=\"T_2a2aa_row18_col2\" class=\"data row18 col2\" >Number of OS open greenspace sites within the buffer zone</td>\n",
       "      <td id=\"T_2a2aa_row18_col3\" class=\"data row18 col3\" >Ordnance Survey Open Greenspace</td>\n",
       "      <td id=\"T_2a2aa_row18_col4\" class=\"data row18 col4\" >None</td>\n",
       "    </tr>\n",
       "    <tr>\n",
       "      <td id=\"T_2a2aa_row19_col0\" class=\"data row19 col0\" >Greenspace</td>\n",
       "      <td id=\"T_2a2aa_row19_col1\" class=\"data row19 col1\" >osgs_pct</td>\n",
       "      <td id=\"T_2a2aa_row19_col2\" class=\"data row19 col2\" >Percentage coverage of OS open greenspace falling within the buffer zone.</td>\n",
       "      <td id=\"T_2a2aa_row19_col3\" class=\"data row19 col3\" >Ordnance Survey Open Greenspace</td>\n",
       "      <td id=\"T_2a2aa_row19_col4\" class=\"data row19 col4\" >None</td>\n",
       "    </tr>\n",
       "    <tr>\n",
       "      <td id=\"T_2a2aa_row20_col0\" class=\"data row20 col0\" >Geography</td>\n",
       "      <td id=\"T_2a2aa_row20_col1\" class=\"data row20 col1\" >postcode_e</td>\n",
       "      <td id=\"T_2a2aa_row20_col2\" class=\"data row20 col2\" >Postcode encrypted</td>\n",
       "      <td id=\"T_2a2aa_row20_col3\" class=\"data row20 col3\" >LPS</td>\n",
       "      <td id=\"T_2a2aa_row20_col4\" class=\"data row20 col4\" >None</td>\n",
       "    </tr>\n",
       "    <tr>\n",
       "      <td id=\"T_2a2aa_row21_col0\" class=\"data row21 col0\" >Geography</td>\n",
       "      <td id=\"T_2a2aa_row21_col1\" class=\"data row21 col1\" >region</td>\n",
       "      <td id=\"T_2a2aa_row21_col2\" class=\"data row21 col2\" >UK Region </td>\n",
       "      <td id=\"T_2a2aa_row21_col3\" class=\"data row21 col3\" >Office of National Statistics</td>\n",
       "      <td id=\"T_2a2aa_row21_col4\" class=\"data row21 col4\" >2011</td>\n",
       "    </tr>\n",
       "    <tr>\n",
       "      <td id=\"T_2a2aa_row22_col0\" class=\"data row22 col0\" >Green vegetation</td>\n",
       "      <td id=\"T_2a2aa_row22_col1\" class=\"data row22 col1\" >s2ndvi2020</td>\n",
       "      <td id=\"T_2a2aa_row22_col2\" class=\"data row22 col2\" >Mean value for Sentinel-2 2020 NDVI layer in the database calculated across buffer zone</td>\n",
       "      <td id=\"T_2a2aa_row22_col3\" class=\"data row22 col3\" >ESA Sentinel-2, USGS Landsat</td>\n",
       "      <td id=\"T_2a2aa_row22_col4\" class=\"data row22 col4\" >2020</td>\n",
       "    </tr>\n",
       "    <tr>\n",
       "      <td id=\"T_2a2aa_row23_col0\" class=\"data row23 col0\" >Tree Cover</td>\n",
       "      <td id=\"T_2a2aa_row23_col1\" class=\"data row23 col1\" >tc_pct</td>\n",
       "      <td id=\"T_2a2aa_row23_col2\" class=\"data row23 col2\" >Percentage of the number of pixels with a least some tree cover</td>\n",
       "      <td id=\"T_2a2aa_row23_col3\" class=\"data row23 col3\" >Copernicus High Resolution Layer Tree Cover Density</td>\n",
       "      <td id=\"T_2a2aa_row23_col4\" class=\"data row23 col4\" >None</td>\n",
       "    </tr>\n",
       "    <tr>\n",
       "      <td id=\"T_2a2aa_row24_col0\" class=\"data row24 col0\" >Tree Cover</td>\n",
       "      <td id=\"T_2a2aa_row24_col1\" class=\"data row24 col1\" >tcd_mean</td>\n",
       "      <td id=\"T_2a2aa_row24_col2\" class=\"data row24 col2\" >Mean tree cover density value over each buffer zone is calculated</td>\n",
       "      <td id=\"T_2a2aa_row24_col3\" class=\"data row24 col3\" >Copernicus High Resolution Layer Tree Cover Density</td>\n",
       "      <td id=\"T_2a2aa_row24_col4\" class=\"data row24 col4\" >None</td>\n",
       "    </tr>\n",
       "    <tr>\n",
       "      <td id=\"T_2a2aa_row25_col0\" class=\"data row25 col0\" >Geography</td>\n",
       "      <td id=\"T_2a2aa_row25_col1\" class=\"data row25 col1\" >uprn_e</td>\n",
       "      <td id=\"T_2a2aa_row25_col2\" class=\"data row25 col2\" >Unique Property Reference Number (UPRN) encrypted</td>\n",
       "      <td id=\"T_2a2aa_row25_col3\" class=\"data row25 col3\" >University of Leicester</td>\n",
       "      <td id=\"T_2a2aa_row25_col4\" class=\"data row25 col4\" >None</td>\n",
       "    </tr>\n",
       "  </tbody>\n",
       "</table>\n"
      ],
      "text/plain": [
       "<pandas.io.formats.style.Styler at 0x2677fcae710>"
      ]
     },
     "execution_count": 71,
     "metadata": {},
     "output_type": "execute_result"
    }
   ],
   "source": [
    "DS(\"greenspace_polygon_points_1000m_gb_pc\").variable_table()"
   ]
  },
  {
   "cell_type": "code",
   "execution_count": 72,
   "id": "2f07b9c8",
   "metadata": {
    "tags": [
     "remove-input"
    ]
   },
   "outputs": [
    {
     "data": {
      "text/markdown": [
       "### greenspace_polygon_points_2000m_gb_hh"
      ],
      "text/plain": [
       "<IPython.core.display.Markdown object>"
      ]
     },
     "metadata": {},
     "output_type": "display_data"
    }
   ],
   "source": [
    "display(Markdown('### greenspace_polygon_points_2000m_gb_hh'))"
   ]
  },
  {
   "cell_type": "code",
   "execution_count": 73,
   "id": "938baa42",
   "metadata": {
    "tags": [
     "remove-input",
     "hide-cell"
    ]
   },
   "outputs": [
    {
     "data": {
      "text/html": [
       "<style type=\"text/css\">\n",
       "#T_7af4b th {\n",
       "  text-align: left;\n",
       "}\n",
       "#T_7af4b_row0_col0, #T_7af4b_row0_col1, #T_7af4b_row0_col2, #T_7af4b_row0_col3, #T_7af4b_row0_col4, #T_7af4b_row1_col0, #T_7af4b_row1_col1, #T_7af4b_row1_col2, #T_7af4b_row1_col3, #T_7af4b_row1_col4, #T_7af4b_row2_col0, #T_7af4b_row2_col1, #T_7af4b_row2_col2, #T_7af4b_row2_col3, #T_7af4b_row2_col4, #T_7af4b_row3_col0, #T_7af4b_row3_col1, #T_7af4b_row3_col2, #T_7af4b_row3_col3, #T_7af4b_row3_col4, #T_7af4b_row4_col0, #T_7af4b_row4_col1, #T_7af4b_row4_col2, #T_7af4b_row4_col3, #T_7af4b_row4_col4, #T_7af4b_row5_col0, #T_7af4b_row5_col1, #T_7af4b_row5_col2, #T_7af4b_row5_col3, #T_7af4b_row5_col4, #T_7af4b_row6_col0, #T_7af4b_row6_col1, #T_7af4b_row6_col2, #T_7af4b_row6_col3, #T_7af4b_row6_col4, #T_7af4b_row7_col0, #T_7af4b_row7_col1, #T_7af4b_row7_col2, #T_7af4b_row7_col3, #T_7af4b_row7_col4, #T_7af4b_row8_col0, #T_7af4b_row8_col1, #T_7af4b_row8_col2, #T_7af4b_row8_col3, #T_7af4b_row8_col4, #T_7af4b_row9_col0, #T_7af4b_row9_col1, #T_7af4b_row9_col2, #T_7af4b_row9_col3, #T_7af4b_row9_col4, #T_7af4b_row10_col0, #T_7af4b_row10_col1, #T_7af4b_row10_col2, #T_7af4b_row10_col3, #T_7af4b_row10_col4, #T_7af4b_row11_col0, #T_7af4b_row11_col1, #T_7af4b_row11_col2, #T_7af4b_row11_col3, #T_7af4b_row11_col4, #T_7af4b_row12_col0, #T_7af4b_row12_col1, #T_7af4b_row12_col2, #T_7af4b_row12_col3, #T_7af4b_row12_col4, #T_7af4b_row13_col0, #T_7af4b_row13_col1, #T_7af4b_row13_col2, #T_7af4b_row13_col3, #T_7af4b_row13_col4, #T_7af4b_row14_col0, #T_7af4b_row14_col1, #T_7af4b_row14_col2, #T_7af4b_row14_col3, #T_7af4b_row14_col4, #T_7af4b_row15_col0, #T_7af4b_row15_col1, #T_7af4b_row15_col2, #T_7af4b_row15_col3, #T_7af4b_row15_col4, #T_7af4b_row16_col0, #T_7af4b_row16_col1, #T_7af4b_row16_col2, #T_7af4b_row16_col3, #T_7af4b_row16_col4, #T_7af4b_row17_col0, #T_7af4b_row17_col1, #T_7af4b_row17_col2, #T_7af4b_row17_col3, #T_7af4b_row17_col4, #T_7af4b_row18_col0, #T_7af4b_row18_col1, #T_7af4b_row18_col2, #T_7af4b_row18_col3, #T_7af4b_row18_col4, #T_7af4b_row19_col0, #T_7af4b_row19_col1, #T_7af4b_row19_col2, #T_7af4b_row19_col3, #T_7af4b_row19_col4, #T_7af4b_row20_col0, #T_7af4b_row20_col1, #T_7af4b_row20_col2, #T_7af4b_row20_col3, #T_7af4b_row20_col4, #T_7af4b_row21_col0, #T_7af4b_row21_col1, #T_7af4b_row21_col2, #T_7af4b_row21_col3, #T_7af4b_row21_col4, #T_7af4b_row22_col0, #T_7af4b_row22_col1, #T_7af4b_row22_col2, #T_7af4b_row22_col3, #T_7af4b_row22_col4, #T_7af4b_row23_col0, #T_7af4b_row23_col1, #T_7af4b_row23_col2, #T_7af4b_row23_col3, #T_7af4b_row23_col4, #T_7af4b_row24_col0, #T_7af4b_row24_col1, #T_7af4b_row24_col2, #T_7af4b_row24_col3, #T_7af4b_row24_col4, #T_7af4b_row25_col0, #T_7af4b_row25_col1, #T_7af4b_row25_col2, #T_7af4b_row25_col3, #T_7af4b_row25_col4 {\n",
       "  text-align: left;\n",
       "}\n",
       "</style>\n",
       "<table id=\"T_7af4b\" style=\"font-size: 14px\">\n",
       "  <thead>\n",
       "    <tr>\n",
       "      <th id=\"T_7af4b_level0_col0\" class=\"col_heading level0 col0\" >Variable Group</th>\n",
       "      <th id=\"T_7af4b_level0_col1\" class=\"col_heading level0 col1\" >Variable</th>\n",
       "      <th id=\"T_7af4b_level0_col2\" class=\"col_heading level0 col2\" >Description</th>\n",
       "      <th id=\"T_7af4b_level0_col3\" class=\"col_heading level0 col3\" >Source</th>\n",
       "      <th id=\"T_7af4b_level0_col4\" class=\"col_heading level0 col4\" >Date range of data</th>\n",
       "    </tr>\n",
       "  </thead>\n",
       "  <tbody>\n",
       "    <tr>\n",
       "      <td id=\"T_7af4b_row0_col0\" class=\"data row0 col0\" >Identifier</td>\n",
       "      <td id=\"T_7af4b_row0_col1\" class=\"data row0 col1\" >cohortkey_e</td>\n",
       "      <td id=\"T_7af4b_row0_col2\" class=\"data row0 col2\" >individual level id</td>\n",
       "      <td id=\"T_7af4b_row0_col3\" class=\"data row0 col3\" >LPS</td>\n",
       "      <td id=\"T_7af4b_row0_col4\" class=\"data row0 col4\" >None</td>\n",
       "    </tr>\n",
       "    <tr>\n",
       "      <td id=\"T_7af4b_row1_col0\" class=\"data row1 col0\" >Geography</td>\n",
       "      <td id=\"T_7af4b_row1_col1\" class=\"data row1 col1\" >address_start_date</td>\n",
       "      <td id=\"T_7af4b_row1_col2\" class=\"data row1 col2\" >Address start date</td>\n",
       "      <td id=\"T_7af4b_row1_col3\" class=\"data row1 col3\" >LPS</td>\n",
       "      <td id=\"T_7af4b_row1_col4\" class=\"data row1 col4\" >None</td>\n",
       "    </tr>\n",
       "    <tr>\n",
       "      <td id=\"T_7af4b_row2_col0\" class=\"data row2 col0\" >Geography</td>\n",
       "      <td id=\"T_7af4b_row2_col1\" class=\"data row2 col1\" >address_end_date</td>\n",
       "      <td id=\"T_7af4b_row2_col2\" class=\"data row2 col2\" >Address end date</td>\n",
       "      <td id=\"T_7af4b_row2_col3\" class=\"data row2 col3\" >LPS</td>\n",
       "      <td id=\"T_7af4b_row2_col4\" class=\"data row2 col4\" >None</td>\n",
       "    </tr>\n",
       "    <tr>\n",
       "      <td id=\"T_7af4b_row3_col0\" class=\"data row3 col0\" >UK LLC</td>\n",
       "      <td id=\"T_7af4b_row3_col1\" class=\"data row3 col1\" >avail_from_dt</td>\n",
       "      <td id=\"T_7af4b_row3_col2\" class=\"data row3 col2\" >None</td>\n",
       "      <td id=\"T_7af4b_row3_col3\" class=\"data row3 col3\" >UK LLC</td>\n",
       "      <td id=\"T_7af4b_row3_col4\" class=\"data row3 col4\" >None</td>\n",
       "    </tr>\n",
       "    <tr>\n",
       "      <td id=\"T_7af4b_row4_col0\" class=\"data row4 col0\" >Geography</td>\n",
       "      <td id=\"T_7af4b_row4_col1\" class=\"data row4 col1\" >buf_area</td>\n",
       "      <td id=\"T_7af4b_row4_col2\" class=\"data row4 col2\" >Buffer area</td>\n",
       "      <td id=\"T_7af4b_row4_col3\" class=\"data row4 col3\" >University of Leicester</td>\n",
       "      <td id=\"T_7af4b_row4_col4\" class=\"data row4 col4\" >None</td>\n",
       "    </tr>\n",
       "    <tr>\n",
       "      <td id=\"T_7af4b_row5_col0\" class=\"data row5 col0\" >Geography</td>\n",
       "      <td id=\"T_7af4b_row5_col1\" class=\"data row5 col1\" >eudist2nap</td>\n",
       "      <td id=\"T_7af4b_row5_col2\" class=\"data row5 col2\" >Straight-line distance between address point and nearest OS open greenspace access point</td>\n",
       "      <td id=\"T_7af4b_row5_col3\" class=\"data row5 col3\" >Ordnance Survey Open Greenspace</td>\n",
       "      <td id=\"T_7af4b_row5_col4\" class=\"data row5 col4\" >None</td>\n",
       "    </tr>\n",
       "    <tr>\n",
       "      <td id=\"T_7af4b_row6_col0\" class=\"data row6 col0\" >Imperviousness</td>\n",
       "      <td id=\"T_7af4b_row6_col1\" class=\"data row6 col1\" >imd_mean</td>\n",
       "      <td id=\"T_7af4b_row6_col2\" class=\"data row6 col2\" >Mean imperviousness degree value over each buffer zone</td>\n",
       "      <td id=\"T_7af4b_row6_col3\" class=\"data row6 col3\" >Copernicus High Resolution Layer Imperviousness Degree</td>\n",
       "      <td id=\"T_7af4b_row6_col4\" class=\"data row6 col4\" >None</td>\n",
       "    </tr>\n",
       "    <tr>\n",
       "      <td id=\"T_7af4b_row7_col0\" class=\"data row7 col0\" >Imperviousness</td>\n",
       "      <td id=\"T_7af4b_row7_col1\" class=\"data row7 col1\" >imd_pct</td>\n",
       "      <td id=\"T_7af4b_row7_col2\" class=\"data row7 col2\" >Percentage of the number of pixels with a least some built up value</td>\n",
       "      <td id=\"T_7af4b_row7_col3\" class=\"data row7 col3\" >Copernicus High Resolution Layer Imperviousness Degree</td>\n",
       "      <td id=\"T_7af4b_row7_col4\" class=\"data row7 col4\" >None</td>\n",
       "    </tr>\n",
       "    <tr>\n",
       "      <td id=\"T_7af4b_row8_col0\" class=\"data row8 col0\" >Green vegetation</td>\n",
       "      <td id=\"T_7af4b_row8_col1\" class=\"data row8 col1\" >lsndvi1990</td>\n",
       "      <td id=\"T_7af4b_row8_col2\" class=\"data row8 col2\" >Mean value for Landsat 1990 NDVI layer in the database calculated across buffer zone</td>\n",
       "      <td id=\"T_7af4b_row8_col3\" class=\"data row8 col3\" >ESA Sentinel-2, USGS Landsat</td>\n",
       "      <td id=\"T_7af4b_row8_col4\" class=\"data row8 col4\" >1990</td>\n",
       "    </tr>\n",
       "    <tr>\n",
       "      <td id=\"T_7af4b_row9_col0\" class=\"data row9 col0\" >Geography</td>\n",
       "      <td id=\"T_7af4b_row9_col1\" class=\"data row9 col1\" >lsndvi2000</td>\n",
       "      <td id=\"T_7af4b_row9_col2\" class=\"data row9 col2\" >Mean value for Landsat 2000 NDVI layer in the database calculated across buffer zone</td>\n",
       "      <td id=\"T_7af4b_row9_col3\" class=\"data row9 col3\" >University of Leicester</td>\n",
       "      <td id=\"T_7af4b_row9_col4\" class=\"data row9 col4\" >2000</td>\n",
       "    </tr>\n",
       "    <tr>\n",
       "      <td id=\"T_7af4b_row10_col0\" class=\"data row10 col0\" >Geography</td>\n",
       "      <td id=\"T_7af4b_row10_col1\" class=\"data row10 col1\" >lsndvi2010</td>\n",
       "      <td id=\"T_7af4b_row10_col2\" class=\"data row10 col2\" >Mean value for Landsat 2010 NDVI layer in the database calculated across buffer zone</td>\n",
       "      <td id=\"T_7af4b_row10_col3\" class=\"data row10 col3\" >University of Leicester</td>\n",
       "      <td id=\"T_7af4b_row10_col4\" class=\"data row10 col4\" >2010</td>\n",
       "    </tr>\n",
       "    <tr>\n",
       "      <td id=\"T_7af4b_row11_col0\" class=\"data row11 col0\" >Geography</td>\n",
       "      <td id=\"T_7af4b_row11_col1\" class=\"data row11 col1\" >lsndvi2020</td>\n",
       "      <td id=\"T_7af4b_row11_col2\" class=\"data row11 col2\" >Mean value for Landsat 2020 NDVI layer in the database calculated across buffer zone</td>\n",
       "      <td id=\"T_7af4b_row11_col3\" class=\"data row11 col3\" >University of Leicester</td>\n",
       "      <td id=\"T_7af4b_row11_col4\" class=\"data row11 col4\" >2020</td>\n",
       "    </tr>\n",
       "    <tr>\n",
       "      <td id=\"T_7af4b_row12_col0\" class=\"data row12 col0\" >Geography</td>\n",
       "      <td id=\"T_7af4b_row12_col1\" class=\"data row12 col1\" >lsoa11_e</td>\n",
       "      <td id=\"T_7af4b_row12_col2\" class=\"data row12 col2\" >Lower layer super output area (LSOA) encrypted</td>\n",
       "      <td id=\"T_7af4b_row12_col3\" class=\"data row12 col3\" >Office of National Statistics</td>\n",
       "      <td id=\"T_7af4b_row12_col4\" class=\"data row12 col4\" >2011</td>\n",
       "    </tr>\n",
       "    <tr>\n",
       "      <td id=\"T_7af4b_row13_col0\" class=\"data row13 col0\" >Geography</td>\n",
       "      <td id=\"T_7af4b_row13_col1\" class=\"data row13 col1\" >matchcode</td>\n",
       "      <td id=\"T_7af4b_row13_col2\" class=\"data row13 col2\" >Experian match code indicator</td>\n",
       "      <td id=\"T_7af4b_row13_col3\" class=\"data row13 col3\" >University of Leicester</td>\n",
       "      <td id=\"T_7af4b_row13_col4\" class=\"data row13 col4\" >None</td>\n",
       "    </tr>\n",
       "    <tr>\n",
       "      <td id=\"T_7af4b_row14_col0\" class=\"data row14 col0\" >Geography</td>\n",
       "      <td id=\"T_7af4b_row14_col1\" class=\"data row14 col1\" >msoa11_e</td>\n",
       "      <td id=\"T_7af4b_row14_col2\" class=\"data row14 col2\" >Middle super output area (LSOA) encrypted</td>\n",
       "      <td id=\"T_7af4b_row14_col3\" class=\"data row14 col3\" >Office of National Statistics</td>\n",
       "      <td id=\"T_7af4b_row14_col4\" class=\"data row14 col4\" >2011</td>\n",
       "    </tr>\n",
       "    <tr>\n",
       "      <td id=\"T_7af4b_row15_col0\" class=\"data row15 col0\" >Geography</td>\n",
       "      <td id=\"T_7af4b_row15_col1\" class=\"data row15 col1\" >ntdist2nap</td>\n",
       "      <td id=\"T_7af4b_row15_col2\" class=\"data row15 col2\" >Walking distance along the road and path network to nearest OS open greenspace access point</td>\n",
       "      <td id=\"T_7af4b_row15_col3\" class=\"data row15 col3\" >Ordnance Survey Open Greenspace</td>\n",
       "      <td id=\"T_7af4b_row15_col4\" class=\"data row15 col4\" >None</td>\n",
       "    </tr>\n",
       "    <tr>\n",
       "      <td id=\"T_7af4b_row16_col0\" class=\"data row16 col0\" >Greenspace</td>\n",
       "      <td id=\"T_7af4b_row16_col1\" class=\"data row16 col1\" >osgs_ap</td>\n",
       "      <td id=\"T_7af4b_row16_col2\" class=\"data row16 col2\" >Total number of OS open greenspace access points falling within each buffer zone</td>\n",
       "      <td id=\"T_7af4b_row16_col3\" class=\"data row16 col3\" >Ordnance Survey Open Greenspace</td>\n",
       "      <td id=\"T_7af4b_row16_col4\" class=\"data row16 col4\" >None</td>\n",
       "    </tr>\n",
       "    <tr>\n",
       "      <td id=\"T_7af4b_row17_col0\" class=\"data row17 col0\" >Greenspace</td>\n",
       "      <td id=\"T_7af4b_row17_col1\" class=\"data row17 col1\" >osgs_area</td>\n",
       "      <td id=\"T_7af4b_row17_col2\" class=\"data row17 col2\" >Total area of OS open greenspace falling within the buffer zone (m2)</td>\n",
       "      <td id=\"T_7af4b_row17_col3\" class=\"data row17 col3\" >Ordnance Survey Open Greenspace</td>\n",
       "      <td id=\"T_7af4b_row17_col4\" class=\"data row17 col4\" >None</td>\n",
       "    </tr>\n",
       "    <tr>\n",
       "      <td id=\"T_7af4b_row18_col0\" class=\"data row18 col0\" >Greenspace</td>\n",
       "      <td id=\"T_7af4b_row18_col1\" class=\"data row18 col1\" >osgs_cnt</td>\n",
       "      <td id=\"T_7af4b_row18_col2\" class=\"data row18 col2\" >Number of OS open greenspace sites within the buffer zone</td>\n",
       "      <td id=\"T_7af4b_row18_col3\" class=\"data row18 col3\" >Ordnance Survey Open Greenspace</td>\n",
       "      <td id=\"T_7af4b_row18_col4\" class=\"data row18 col4\" >None</td>\n",
       "    </tr>\n",
       "    <tr>\n",
       "      <td id=\"T_7af4b_row19_col0\" class=\"data row19 col0\" >Greenspace</td>\n",
       "      <td id=\"T_7af4b_row19_col1\" class=\"data row19 col1\" >osgs_pct</td>\n",
       "      <td id=\"T_7af4b_row19_col2\" class=\"data row19 col2\" >Percentage coverage of OS open greenspace falling within the buffer zone.</td>\n",
       "      <td id=\"T_7af4b_row19_col3\" class=\"data row19 col3\" >Ordnance Survey Open Greenspace</td>\n",
       "      <td id=\"T_7af4b_row19_col4\" class=\"data row19 col4\" >None</td>\n",
       "    </tr>\n",
       "    <tr>\n",
       "      <td id=\"T_7af4b_row20_col0\" class=\"data row20 col0\" >Geography</td>\n",
       "      <td id=\"T_7af4b_row20_col1\" class=\"data row20 col1\" >postcode_e</td>\n",
       "      <td id=\"T_7af4b_row20_col2\" class=\"data row20 col2\" >Postcode encrypted</td>\n",
       "      <td id=\"T_7af4b_row20_col3\" class=\"data row20 col3\" >LPS</td>\n",
       "      <td id=\"T_7af4b_row20_col4\" class=\"data row20 col4\" >None</td>\n",
       "    </tr>\n",
       "    <tr>\n",
       "      <td id=\"T_7af4b_row21_col0\" class=\"data row21 col0\" >Geography</td>\n",
       "      <td id=\"T_7af4b_row21_col1\" class=\"data row21 col1\" >region</td>\n",
       "      <td id=\"T_7af4b_row21_col2\" class=\"data row21 col2\" >UK Region </td>\n",
       "      <td id=\"T_7af4b_row21_col3\" class=\"data row21 col3\" >Office of National Statistics</td>\n",
       "      <td id=\"T_7af4b_row21_col4\" class=\"data row21 col4\" >2011</td>\n",
       "    </tr>\n",
       "    <tr>\n",
       "      <td id=\"T_7af4b_row22_col0\" class=\"data row22 col0\" >Green vegetation</td>\n",
       "      <td id=\"T_7af4b_row22_col1\" class=\"data row22 col1\" >s2ndvi2020</td>\n",
       "      <td id=\"T_7af4b_row22_col2\" class=\"data row22 col2\" >Mean value for Sentinel-2 2020 NDVI layer in the database calculated across buffer zone</td>\n",
       "      <td id=\"T_7af4b_row22_col3\" class=\"data row22 col3\" >ESA Sentinel-2, USGS Landsat</td>\n",
       "      <td id=\"T_7af4b_row22_col4\" class=\"data row22 col4\" >2020</td>\n",
       "    </tr>\n",
       "    <tr>\n",
       "      <td id=\"T_7af4b_row23_col0\" class=\"data row23 col0\" >Tree Cover</td>\n",
       "      <td id=\"T_7af4b_row23_col1\" class=\"data row23 col1\" >tc_pct</td>\n",
       "      <td id=\"T_7af4b_row23_col2\" class=\"data row23 col2\" >Percentage of the number of pixels with a least some tree cover</td>\n",
       "      <td id=\"T_7af4b_row23_col3\" class=\"data row23 col3\" >Copernicus High Resolution Layer Tree Cover Density</td>\n",
       "      <td id=\"T_7af4b_row23_col4\" class=\"data row23 col4\" >None</td>\n",
       "    </tr>\n",
       "    <tr>\n",
       "      <td id=\"T_7af4b_row24_col0\" class=\"data row24 col0\" >Tree Cover</td>\n",
       "      <td id=\"T_7af4b_row24_col1\" class=\"data row24 col1\" >tcd_mean</td>\n",
       "      <td id=\"T_7af4b_row24_col2\" class=\"data row24 col2\" >Mean tree cover density value over each buffer zone is calculated</td>\n",
       "      <td id=\"T_7af4b_row24_col3\" class=\"data row24 col3\" >Copernicus High Resolution Layer Tree Cover Density</td>\n",
       "      <td id=\"T_7af4b_row24_col4\" class=\"data row24 col4\" >None</td>\n",
       "    </tr>\n",
       "    <tr>\n",
       "      <td id=\"T_7af4b_row25_col0\" class=\"data row25 col0\" >Geography</td>\n",
       "      <td id=\"T_7af4b_row25_col1\" class=\"data row25 col1\" >uprn_e</td>\n",
       "      <td id=\"T_7af4b_row25_col2\" class=\"data row25 col2\" >Unique Property Reference Number (UPRN) encrypted</td>\n",
       "      <td id=\"T_7af4b_row25_col3\" class=\"data row25 col3\" >University of Leicester</td>\n",
       "      <td id=\"T_7af4b_row25_col4\" class=\"data row25 col4\" >None</td>\n",
       "    </tr>\n",
       "  </tbody>\n",
       "</table>\n"
      ],
      "text/plain": [
       "<pandas.io.formats.style.Styler at 0x2677fcad1d0>"
      ]
     },
     "execution_count": 73,
     "metadata": {},
     "output_type": "execute_result"
    }
   ],
   "source": [
    "DS(\"greenspace_polygon_points_2000m_gb_hh\").variable_table()"
   ]
  },
  {
   "cell_type": "code",
   "execution_count": 74,
   "id": "0042a465",
   "metadata": {
    "tags": [
     "remove-input"
    ]
   },
   "outputs": [
    {
     "data": {
      "text/markdown": [
       "### greenspace_polygon_points_2000m_gb_pc"
      ],
      "text/plain": [
       "<IPython.core.display.Markdown object>"
      ]
     },
     "metadata": {},
     "output_type": "display_data"
    }
   ],
   "source": [
    "display(Markdown('### greenspace_polygon_points_2000m_gb_pc'))"
   ]
  },
  {
   "cell_type": "code",
   "execution_count": 75,
   "id": "f49dd4b6",
   "metadata": {
    "tags": [
     "remove-input",
     "hide-cell"
    ]
   },
   "outputs": [
    {
     "data": {
      "text/html": [
       "<style type=\"text/css\">\n",
       "#T_33550 th {\n",
       "  text-align: left;\n",
       "}\n",
       "#T_33550_row0_col0, #T_33550_row0_col1, #T_33550_row0_col2, #T_33550_row0_col3, #T_33550_row0_col4, #T_33550_row1_col0, #T_33550_row1_col1, #T_33550_row1_col2, #T_33550_row1_col3, #T_33550_row1_col4, #T_33550_row2_col0, #T_33550_row2_col1, #T_33550_row2_col2, #T_33550_row2_col3, #T_33550_row2_col4, #T_33550_row3_col0, #T_33550_row3_col1, #T_33550_row3_col2, #T_33550_row3_col3, #T_33550_row3_col4, #T_33550_row4_col0, #T_33550_row4_col1, #T_33550_row4_col2, #T_33550_row4_col3, #T_33550_row4_col4, #T_33550_row5_col0, #T_33550_row5_col1, #T_33550_row5_col2, #T_33550_row5_col3, #T_33550_row5_col4, #T_33550_row6_col0, #T_33550_row6_col1, #T_33550_row6_col2, #T_33550_row6_col3, #T_33550_row6_col4, #T_33550_row7_col0, #T_33550_row7_col1, #T_33550_row7_col2, #T_33550_row7_col3, #T_33550_row7_col4, #T_33550_row8_col0, #T_33550_row8_col1, #T_33550_row8_col2, #T_33550_row8_col3, #T_33550_row8_col4, #T_33550_row9_col0, #T_33550_row9_col1, #T_33550_row9_col2, #T_33550_row9_col3, #T_33550_row9_col4, #T_33550_row10_col0, #T_33550_row10_col1, #T_33550_row10_col2, #T_33550_row10_col3, #T_33550_row10_col4, #T_33550_row11_col0, #T_33550_row11_col1, #T_33550_row11_col2, #T_33550_row11_col3, #T_33550_row11_col4, #T_33550_row12_col0, #T_33550_row12_col1, #T_33550_row12_col2, #T_33550_row12_col3, #T_33550_row12_col4, #T_33550_row13_col0, #T_33550_row13_col1, #T_33550_row13_col2, #T_33550_row13_col3, #T_33550_row13_col4, #T_33550_row14_col0, #T_33550_row14_col1, #T_33550_row14_col2, #T_33550_row14_col3, #T_33550_row14_col4, #T_33550_row15_col0, #T_33550_row15_col1, #T_33550_row15_col2, #T_33550_row15_col3, #T_33550_row15_col4, #T_33550_row16_col0, #T_33550_row16_col1, #T_33550_row16_col2, #T_33550_row16_col3, #T_33550_row16_col4, #T_33550_row17_col0, #T_33550_row17_col1, #T_33550_row17_col2, #T_33550_row17_col3, #T_33550_row17_col4, #T_33550_row18_col0, #T_33550_row18_col1, #T_33550_row18_col2, #T_33550_row18_col3, #T_33550_row18_col4, #T_33550_row19_col0, #T_33550_row19_col1, #T_33550_row19_col2, #T_33550_row19_col3, #T_33550_row19_col4, #T_33550_row20_col0, #T_33550_row20_col1, #T_33550_row20_col2, #T_33550_row20_col3, #T_33550_row20_col4, #T_33550_row21_col0, #T_33550_row21_col1, #T_33550_row21_col2, #T_33550_row21_col3, #T_33550_row21_col4, #T_33550_row22_col0, #T_33550_row22_col1, #T_33550_row22_col2, #T_33550_row22_col3, #T_33550_row22_col4, #T_33550_row23_col0, #T_33550_row23_col1, #T_33550_row23_col2, #T_33550_row23_col3, #T_33550_row23_col4, #T_33550_row24_col0, #T_33550_row24_col1, #T_33550_row24_col2, #T_33550_row24_col3, #T_33550_row24_col4, #T_33550_row25_col0, #T_33550_row25_col1, #T_33550_row25_col2, #T_33550_row25_col3, #T_33550_row25_col4 {\n",
       "  text-align: left;\n",
       "}\n",
       "</style>\n",
       "<table id=\"T_33550\" style=\"font-size: 14px\">\n",
       "  <thead>\n",
       "    <tr>\n",
       "      <th id=\"T_33550_level0_col0\" class=\"col_heading level0 col0\" >Variable Group</th>\n",
       "      <th id=\"T_33550_level0_col1\" class=\"col_heading level0 col1\" >Variable</th>\n",
       "      <th id=\"T_33550_level0_col2\" class=\"col_heading level0 col2\" >Description</th>\n",
       "      <th id=\"T_33550_level0_col3\" class=\"col_heading level0 col3\" >Source</th>\n",
       "      <th id=\"T_33550_level0_col4\" class=\"col_heading level0 col4\" >Date range of data</th>\n",
       "    </tr>\n",
       "  </thead>\n",
       "  <tbody>\n",
       "    <tr>\n",
       "      <td id=\"T_33550_row0_col0\" class=\"data row0 col0\" >Identifier</td>\n",
       "      <td id=\"T_33550_row0_col1\" class=\"data row0 col1\" >cohortkey_e</td>\n",
       "      <td id=\"T_33550_row0_col2\" class=\"data row0 col2\" >individual level id</td>\n",
       "      <td id=\"T_33550_row0_col3\" class=\"data row0 col3\" >LPS</td>\n",
       "      <td id=\"T_33550_row0_col4\" class=\"data row0 col4\" >None</td>\n",
       "    </tr>\n",
       "    <tr>\n",
       "      <td id=\"T_33550_row1_col0\" class=\"data row1 col0\" >Geography</td>\n",
       "      <td id=\"T_33550_row1_col1\" class=\"data row1 col1\" >address_start_date</td>\n",
       "      <td id=\"T_33550_row1_col2\" class=\"data row1 col2\" >Address start date</td>\n",
       "      <td id=\"T_33550_row1_col3\" class=\"data row1 col3\" >LPS</td>\n",
       "      <td id=\"T_33550_row1_col4\" class=\"data row1 col4\" >None</td>\n",
       "    </tr>\n",
       "    <tr>\n",
       "      <td id=\"T_33550_row2_col0\" class=\"data row2 col0\" >Geography</td>\n",
       "      <td id=\"T_33550_row2_col1\" class=\"data row2 col1\" >address_end_date</td>\n",
       "      <td id=\"T_33550_row2_col2\" class=\"data row2 col2\" >Address end date</td>\n",
       "      <td id=\"T_33550_row2_col3\" class=\"data row2 col3\" >LPS</td>\n",
       "      <td id=\"T_33550_row2_col4\" class=\"data row2 col4\" >None</td>\n",
       "    </tr>\n",
       "    <tr>\n",
       "      <td id=\"T_33550_row3_col0\" class=\"data row3 col0\" >UK LLC</td>\n",
       "      <td id=\"T_33550_row3_col1\" class=\"data row3 col1\" >avail_from_dt</td>\n",
       "      <td id=\"T_33550_row3_col2\" class=\"data row3 col2\" >None</td>\n",
       "      <td id=\"T_33550_row3_col3\" class=\"data row3 col3\" >UK LLC</td>\n",
       "      <td id=\"T_33550_row3_col4\" class=\"data row3 col4\" >None</td>\n",
       "    </tr>\n",
       "    <tr>\n",
       "      <td id=\"T_33550_row4_col0\" class=\"data row4 col0\" >Geography</td>\n",
       "      <td id=\"T_33550_row4_col1\" class=\"data row4 col1\" >buf_area</td>\n",
       "      <td id=\"T_33550_row4_col2\" class=\"data row4 col2\" >Buffer area</td>\n",
       "      <td id=\"T_33550_row4_col3\" class=\"data row4 col3\" >University of Leicester</td>\n",
       "      <td id=\"T_33550_row4_col4\" class=\"data row4 col4\" >None</td>\n",
       "    </tr>\n",
       "    <tr>\n",
       "      <td id=\"T_33550_row5_col0\" class=\"data row5 col0\" >Geography</td>\n",
       "      <td id=\"T_33550_row5_col1\" class=\"data row5 col1\" >eudist2nap</td>\n",
       "      <td id=\"T_33550_row5_col2\" class=\"data row5 col2\" >Straight-line distance between address point and nearest OS open greenspace access point</td>\n",
       "      <td id=\"T_33550_row5_col3\" class=\"data row5 col3\" >Ordnance Survey Open Greenspace</td>\n",
       "      <td id=\"T_33550_row5_col4\" class=\"data row5 col4\" >None</td>\n",
       "    </tr>\n",
       "    <tr>\n",
       "      <td id=\"T_33550_row6_col0\" class=\"data row6 col0\" >Imperviousness</td>\n",
       "      <td id=\"T_33550_row6_col1\" class=\"data row6 col1\" >imd_mean</td>\n",
       "      <td id=\"T_33550_row6_col2\" class=\"data row6 col2\" >Mean imperviousness degree value over each buffer zone</td>\n",
       "      <td id=\"T_33550_row6_col3\" class=\"data row6 col3\" >Copernicus High Resolution Layer Imperviousness Degree</td>\n",
       "      <td id=\"T_33550_row6_col4\" class=\"data row6 col4\" >None</td>\n",
       "    </tr>\n",
       "    <tr>\n",
       "      <td id=\"T_33550_row7_col0\" class=\"data row7 col0\" >Imperviousness</td>\n",
       "      <td id=\"T_33550_row7_col1\" class=\"data row7 col1\" >imd_pct</td>\n",
       "      <td id=\"T_33550_row7_col2\" class=\"data row7 col2\" >Percentage of the number of pixels with a least some built up value</td>\n",
       "      <td id=\"T_33550_row7_col3\" class=\"data row7 col3\" >Copernicus High Resolution Layer Imperviousness Degree</td>\n",
       "      <td id=\"T_33550_row7_col4\" class=\"data row7 col4\" >None</td>\n",
       "    </tr>\n",
       "    <tr>\n",
       "      <td id=\"T_33550_row8_col0\" class=\"data row8 col0\" >Green vegetation</td>\n",
       "      <td id=\"T_33550_row8_col1\" class=\"data row8 col1\" >lsndvi1990</td>\n",
       "      <td id=\"T_33550_row8_col2\" class=\"data row8 col2\" >Mean value for Landsat 1990 NDVI layer in the database calculated across buffer zone</td>\n",
       "      <td id=\"T_33550_row8_col3\" class=\"data row8 col3\" >ESA Sentinel-2, USGS Landsat</td>\n",
       "      <td id=\"T_33550_row8_col4\" class=\"data row8 col4\" >1990</td>\n",
       "    </tr>\n",
       "    <tr>\n",
       "      <td id=\"T_33550_row9_col0\" class=\"data row9 col0\" >Green vegetation</td>\n",
       "      <td id=\"T_33550_row9_col1\" class=\"data row9 col1\" >lsndvi2000</td>\n",
       "      <td id=\"T_33550_row9_col2\" class=\"data row9 col2\" >Mean value for Landsat 2000 NDVI layer in the database calculated across buffer zone</td>\n",
       "      <td id=\"T_33550_row9_col3\" class=\"data row9 col3\" >ESA Sentinel-2, USGS Landsat</td>\n",
       "      <td id=\"T_33550_row9_col4\" class=\"data row9 col4\" >2000</td>\n",
       "    </tr>\n",
       "    <tr>\n",
       "      <td id=\"T_33550_row10_col0\" class=\"data row10 col0\" >Green vegetation</td>\n",
       "      <td id=\"T_33550_row10_col1\" class=\"data row10 col1\" >lsndvi2010</td>\n",
       "      <td id=\"T_33550_row10_col2\" class=\"data row10 col2\" >Mean value for Landsat 2010 NDVI layer in the database calculated across buffer zone</td>\n",
       "      <td id=\"T_33550_row10_col3\" class=\"data row10 col3\" >ESA Sentinel-2, USGS Landsat</td>\n",
       "      <td id=\"T_33550_row10_col4\" class=\"data row10 col4\" >2010</td>\n",
       "    </tr>\n",
       "    <tr>\n",
       "      <td id=\"T_33550_row11_col0\" class=\"data row11 col0\" >Green vegetation</td>\n",
       "      <td id=\"T_33550_row11_col1\" class=\"data row11 col1\" >lsndvi2020</td>\n",
       "      <td id=\"T_33550_row11_col2\" class=\"data row11 col2\" >Mean value for Landsat 2020 NDVI layer in the database calculated across buffer zone</td>\n",
       "      <td id=\"T_33550_row11_col3\" class=\"data row11 col3\" >ESA Sentinel-2, USGS Landsat</td>\n",
       "      <td id=\"T_33550_row11_col4\" class=\"data row11 col4\" >2020</td>\n",
       "    </tr>\n",
       "    <tr>\n",
       "      <td id=\"T_33550_row12_col0\" class=\"data row12 col0\" >Geography</td>\n",
       "      <td id=\"T_33550_row12_col1\" class=\"data row12 col1\" >lsoa11_e</td>\n",
       "      <td id=\"T_33550_row12_col2\" class=\"data row12 col2\" >Lower layer super output area (LSOA) encrypted</td>\n",
       "      <td id=\"T_33550_row12_col3\" class=\"data row12 col3\" >Office of National Statistics</td>\n",
       "      <td id=\"T_33550_row12_col4\" class=\"data row12 col4\" >2011</td>\n",
       "    </tr>\n",
       "    <tr>\n",
       "      <td id=\"T_33550_row13_col0\" class=\"data row13 col0\" >Geography</td>\n",
       "      <td id=\"T_33550_row13_col1\" class=\"data row13 col1\" >matchcode</td>\n",
       "      <td id=\"T_33550_row13_col2\" class=\"data row13 col2\" >Experian match code indicator</td>\n",
       "      <td id=\"T_33550_row13_col3\" class=\"data row13 col3\" >University of Leicester</td>\n",
       "      <td id=\"T_33550_row13_col4\" class=\"data row13 col4\" >None</td>\n",
       "    </tr>\n",
       "    <tr>\n",
       "      <td id=\"T_33550_row14_col0\" class=\"data row14 col0\" >Geography</td>\n",
       "      <td id=\"T_33550_row14_col1\" class=\"data row14 col1\" >msoa11_e</td>\n",
       "      <td id=\"T_33550_row14_col2\" class=\"data row14 col2\" >Middle super output area (LSOA) encrypted</td>\n",
       "      <td id=\"T_33550_row14_col3\" class=\"data row14 col3\" >Office of National Statistics</td>\n",
       "      <td id=\"T_33550_row14_col4\" class=\"data row14 col4\" >2011</td>\n",
       "    </tr>\n",
       "    <tr>\n",
       "      <td id=\"T_33550_row15_col0\" class=\"data row15 col0\" >Geography</td>\n",
       "      <td id=\"T_33550_row15_col1\" class=\"data row15 col1\" >ntdist2nap</td>\n",
       "      <td id=\"T_33550_row15_col2\" class=\"data row15 col2\" >Walking distance along the road and path network to nearest OS open greenspace access point</td>\n",
       "      <td id=\"T_33550_row15_col3\" class=\"data row15 col3\" >Ordnance Survey Open Greenspace</td>\n",
       "      <td id=\"T_33550_row15_col4\" class=\"data row15 col4\" >None</td>\n",
       "    </tr>\n",
       "    <tr>\n",
       "      <td id=\"T_33550_row16_col0\" class=\"data row16 col0\" >Greenspace</td>\n",
       "      <td id=\"T_33550_row16_col1\" class=\"data row16 col1\" >osgs_ap</td>\n",
       "      <td id=\"T_33550_row16_col2\" class=\"data row16 col2\" >Total number of OS open greenspace access points falling within each buffer zone</td>\n",
       "      <td id=\"T_33550_row16_col3\" class=\"data row16 col3\" >Ordnance Survey Open Greenspace</td>\n",
       "      <td id=\"T_33550_row16_col4\" class=\"data row16 col4\" >None</td>\n",
       "    </tr>\n",
       "    <tr>\n",
       "      <td id=\"T_33550_row17_col0\" class=\"data row17 col0\" >Greenspace</td>\n",
       "      <td id=\"T_33550_row17_col1\" class=\"data row17 col1\" >osgs_area</td>\n",
       "      <td id=\"T_33550_row17_col2\" class=\"data row17 col2\" >Total area of OS open greenspace falling within the buffer zone (m2)</td>\n",
       "      <td id=\"T_33550_row17_col3\" class=\"data row17 col3\" >Ordnance Survey Open Greenspace</td>\n",
       "      <td id=\"T_33550_row17_col4\" class=\"data row17 col4\" >None</td>\n",
       "    </tr>\n",
       "    <tr>\n",
       "      <td id=\"T_33550_row18_col0\" class=\"data row18 col0\" >Greenspace</td>\n",
       "      <td id=\"T_33550_row18_col1\" class=\"data row18 col1\" >osgs_cnt</td>\n",
       "      <td id=\"T_33550_row18_col2\" class=\"data row18 col2\" >Number of OS open greenspace sites within the buffer zone</td>\n",
       "      <td id=\"T_33550_row18_col3\" class=\"data row18 col3\" >Ordnance Survey Open Greenspace</td>\n",
       "      <td id=\"T_33550_row18_col4\" class=\"data row18 col4\" >None</td>\n",
       "    </tr>\n",
       "    <tr>\n",
       "      <td id=\"T_33550_row19_col0\" class=\"data row19 col0\" >Greenspace</td>\n",
       "      <td id=\"T_33550_row19_col1\" class=\"data row19 col1\" >osgs_pct</td>\n",
       "      <td id=\"T_33550_row19_col2\" class=\"data row19 col2\" >Percentage coverage of OS open greenspace falling within the buffer zone.</td>\n",
       "      <td id=\"T_33550_row19_col3\" class=\"data row19 col3\" >Ordnance Survey Open Greenspace</td>\n",
       "      <td id=\"T_33550_row19_col4\" class=\"data row19 col4\" >None</td>\n",
       "    </tr>\n",
       "    <tr>\n",
       "      <td id=\"T_33550_row20_col0\" class=\"data row20 col0\" >Geography</td>\n",
       "      <td id=\"T_33550_row20_col1\" class=\"data row20 col1\" >postcode_e</td>\n",
       "      <td id=\"T_33550_row20_col2\" class=\"data row20 col2\" >Postcode encrypted</td>\n",
       "      <td id=\"T_33550_row20_col3\" class=\"data row20 col3\" >LPS</td>\n",
       "      <td id=\"T_33550_row20_col4\" class=\"data row20 col4\" >None</td>\n",
       "    </tr>\n",
       "    <tr>\n",
       "      <td id=\"T_33550_row21_col0\" class=\"data row21 col0\" >Geography</td>\n",
       "      <td id=\"T_33550_row21_col1\" class=\"data row21 col1\" >region</td>\n",
       "      <td id=\"T_33550_row21_col2\" class=\"data row21 col2\" >UK Region </td>\n",
       "      <td id=\"T_33550_row21_col3\" class=\"data row21 col3\" >Office of National Statistics</td>\n",
       "      <td id=\"T_33550_row21_col4\" class=\"data row21 col4\" >2011</td>\n",
       "    </tr>\n",
       "    <tr>\n",
       "      <td id=\"T_33550_row22_col0\" class=\"data row22 col0\" >Green vegetation</td>\n",
       "      <td id=\"T_33550_row22_col1\" class=\"data row22 col1\" >s2ndvi2020</td>\n",
       "      <td id=\"T_33550_row22_col2\" class=\"data row22 col2\" >Mean value for Sentinel-2 2020 NDVI layer in the database calculated across buffer zone</td>\n",
       "      <td id=\"T_33550_row22_col3\" class=\"data row22 col3\" >ESA Sentinel-2, USGS Landsat</td>\n",
       "      <td id=\"T_33550_row22_col4\" class=\"data row22 col4\" >2020</td>\n",
       "    </tr>\n",
       "    <tr>\n",
       "      <td id=\"T_33550_row23_col0\" class=\"data row23 col0\" >Tree Cover</td>\n",
       "      <td id=\"T_33550_row23_col1\" class=\"data row23 col1\" >tc_pct</td>\n",
       "      <td id=\"T_33550_row23_col2\" class=\"data row23 col2\" >Percentage of the number of pixels with a least some tree cover</td>\n",
       "      <td id=\"T_33550_row23_col3\" class=\"data row23 col3\" >Copernicus High Resolution Layer Tree Cover Density</td>\n",
       "      <td id=\"T_33550_row23_col4\" class=\"data row23 col4\" >None</td>\n",
       "    </tr>\n",
       "    <tr>\n",
       "      <td id=\"T_33550_row24_col0\" class=\"data row24 col0\" >Tree Cover</td>\n",
       "      <td id=\"T_33550_row24_col1\" class=\"data row24 col1\" >tcd_mean</td>\n",
       "      <td id=\"T_33550_row24_col2\" class=\"data row24 col2\" >Mean tree cover density value over each buffer zone is calculated</td>\n",
       "      <td id=\"T_33550_row24_col3\" class=\"data row24 col3\" >Copernicus High Resolution Layer Tree Cover Density</td>\n",
       "      <td id=\"T_33550_row24_col4\" class=\"data row24 col4\" >None</td>\n",
       "    </tr>\n",
       "    <tr>\n",
       "      <td id=\"T_33550_row25_col0\" class=\"data row25 col0\" >Geography</td>\n",
       "      <td id=\"T_33550_row25_col1\" class=\"data row25 col1\" >uprn_e</td>\n",
       "      <td id=\"T_33550_row25_col2\" class=\"data row25 col2\" >Unique Property Reference Number (UPRN) encrypted</td>\n",
       "      <td id=\"T_33550_row25_col3\" class=\"data row25 col3\" >University of Leicester</td>\n",
       "      <td id=\"T_33550_row25_col4\" class=\"data row25 col4\" >None</td>\n",
       "    </tr>\n",
       "  </tbody>\n",
       "</table>\n"
      ],
      "text/plain": [
       "<pandas.io.formats.style.Styler at 0x2677fcac7d0>"
      ]
     },
     "execution_count": 75,
     "metadata": {},
     "output_type": "execute_result"
    }
   ],
   "source": [
    "DS(\"greenspace_polygon_points_2000m_gb_pc\").variable_table()"
   ]
  },
  {
   "cell_type": "code",
   "execution_count": 76,
   "id": "f1094867",
   "metadata": {
    "tags": [
     "remove-input"
    ]
   },
   "outputs": [
    {
     "data": {
      "text/markdown": [
       "### greenspace_polygon_points_300m_gb_hh"
      ],
      "text/plain": [
       "<IPython.core.display.Markdown object>"
      ]
     },
     "metadata": {},
     "output_type": "display_data"
    }
   ],
   "source": [
    "display(Markdown('### greenspace_polygon_points_300m_gb_hh'))"
   ]
  },
  {
   "cell_type": "code",
   "execution_count": 77,
   "id": "7fae61d4",
   "metadata": {
    "tags": [
     "remove-input",
     "hide-cell"
    ]
   },
   "outputs": [
    {
     "data": {
      "text/html": [
       "<style type=\"text/css\">\n",
       "#T_6c9d6 th {\n",
       "  text-align: left;\n",
       "}\n",
       "#T_6c9d6_row0_col0, #T_6c9d6_row0_col1, #T_6c9d6_row0_col2, #T_6c9d6_row0_col3, #T_6c9d6_row0_col4, #T_6c9d6_row1_col0, #T_6c9d6_row1_col1, #T_6c9d6_row1_col2, #T_6c9d6_row1_col3, #T_6c9d6_row1_col4, #T_6c9d6_row2_col0, #T_6c9d6_row2_col1, #T_6c9d6_row2_col2, #T_6c9d6_row2_col3, #T_6c9d6_row2_col4, #T_6c9d6_row3_col0, #T_6c9d6_row3_col1, #T_6c9d6_row3_col2, #T_6c9d6_row3_col3, #T_6c9d6_row3_col4, #T_6c9d6_row4_col0, #T_6c9d6_row4_col1, #T_6c9d6_row4_col2, #T_6c9d6_row4_col3, #T_6c9d6_row4_col4, #T_6c9d6_row5_col0, #T_6c9d6_row5_col1, #T_6c9d6_row5_col2, #T_6c9d6_row5_col3, #T_6c9d6_row5_col4, #T_6c9d6_row6_col0, #T_6c9d6_row6_col1, #T_6c9d6_row6_col2, #T_6c9d6_row6_col3, #T_6c9d6_row6_col4, #T_6c9d6_row7_col0, #T_6c9d6_row7_col1, #T_6c9d6_row7_col2, #T_6c9d6_row7_col3, #T_6c9d6_row7_col4, #T_6c9d6_row8_col0, #T_6c9d6_row8_col1, #T_6c9d6_row8_col2, #T_6c9d6_row8_col3, #T_6c9d6_row8_col4, #T_6c9d6_row9_col0, #T_6c9d6_row9_col1, #T_6c9d6_row9_col2, #T_6c9d6_row9_col3, #T_6c9d6_row9_col4, #T_6c9d6_row10_col0, #T_6c9d6_row10_col1, #T_6c9d6_row10_col2, #T_6c9d6_row10_col3, #T_6c9d6_row10_col4, #T_6c9d6_row11_col0, #T_6c9d6_row11_col1, #T_6c9d6_row11_col2, #T_6c9d6_row11_col3, #T_6c9d6_row11_col4, #T_6c9d6_row12_col0, #T_6c9d6_row12_col1, #T_6c9d6_row12_col2, #T_6c9d6_row12_col3, #T_6c9d6_row12_col4, #T_6c9d6_row13_col0, #T_6c9d6_row13_col1, #T_6c9d6_row13_col2, #T_6c9d6_row13_col3, #T_6c9d6_row13_col4, #T_6c9d6_row14_col0, #T_6c9d6_row14_col1, #T_6c9d6_row14_col2, #T_6c9d6_row14_col3, #T_6c9d6_row14_col4, #T_6c9d6_row15_col0, #T_6c9d6_row15_col1, #T_6c9d6_row15_col2, #T_6c9d6_row15_col3, #T_6c9d6_row15_col4, #T_6c9d6_row16_col0, #T_6c9d6_row16_col1, #T_6c9d6_row16_col2, #T_6c9d6_row16_col3, #T_6c9d6_row16_col4, #T_6c9d6_row17_col0, #T_6c9d6_row17_col1, #T_6c9d6_row17_col2, #T_6c9d6_row17_col3, #T_6c9d6_row17_col4, #T_6c9d6_row18_col0, #T_6c9d6_row18_col1, #T_6c9d6_row18_col2, #T_6c9d6_row18_col3, #T_6c9d6_row18_col4, #T_6c9d6_row19_col0, #T_6c9d6_row19_col1, #T_6c9d6_row19_col2, #T_6c9d6_row19_col3, #T_6c9d6_row19_col4, #T_6c9d6_row20_col0, #T_6c9d6_row20_col1, #T_6c9d6_row20_col2, #T_6c9d6_row20_col3, #T_6c9d6_row20_col4, #T_6c9d6_row21_col0, #T_6c9d6_row21_col1, #T_6c9d6_row21_col2, #T_6c9d6_row21_col3, #T_6c9d6_row21_col4, #T_6c9d6_row22_col0, #T_6c9d6_row22_col1, #T_6c9d6_row22_col2, #T_6c9d6_row22_col3, #T_6c9d6_row22_col4, #T_6c9d6_row23_col0, #T_6c9d6_row23_col1, #T_6c9d6_row23_col2, #T_6c9d6_row23_col3, #T_6c9d6_row23_col4, #T_6c9d6_row24_col0, #T_6c9d6_row24_col1, #T_6c9d6_row24_col2, #T_6c9d6_row24_col3, #T_6c9d6_row24_col4, #T_6c9d6_row25_col0, #T_6c9d6_row25_col1, #T_6c9d6_row25_col2, #T_6c9d6_row25_col3, #T_6c9d6_row25_col4 {\n",
       "  text-align: left;\n",
       "}\n",
       "</style>\n",
       "<table id=\"T_6c9d6\" style=\"font-size: 14px\">\n",
       "  <thead>\n",
       "    <tr>\n",
       "      <th id=\"T_6c9d6_level0_col0\" class=\"col_heading level0 col0\" >Variable Group</th>\n",
       "      <th id=\"T_6c9d6_level0_col1\" class=\"col_heading level0 col1\" >Variable</th>\n",
       "      <th id=\"T_6c9d6_level0_col2\" class=\"col_heading level0 col2\" >Description</th>\n",
       "      <th id=\"T_6c9d6_level0_col3\" class=\"col_heading level0 col3\" >Source</th>\n",
       "      <th id=\"T_6c9d6_level0_col4\" class=\"col_heading level0 col4\" >Date range of data</th>\n",
       "    </tr>\n",
       "  </thead>\n",
       "  <tbody>\n",
       "    <tr>\n",
       "      <td id=\"T_6c9d6_row0_col0\" class=\"data row0 col0\" >Identifier</td>\n",
       "      <td id=\"T_6c9d6_row0_col1\" class=\"data row0 col1\" >cohortkey_e</td>\n",
       "      <td id=\"T_6c9d6_row0_col2\" class=\"data row0 col2\" >individual level id</td>\n",
       "      <td id=\"T_6c9d6_row0_col3\" class=\"data row0 col3\" >LPS</td>\n",
       "      <td id=\"T_6c9d6_row0_col4\" class=\"data row0 col4\" >None</td>\n",
       "    </tr>\n",
       "    <tr>\n",
       "      <td id=\"T_6c9d6_row1_col0\" class=\"data row1 col0\" >Geography</td>\n",
       "      <td id=\"T_6c9d6_row1_col1\" class=\"data row1 col1\" >address_start_date</td>\n",
       "      <td id=\"T_6c9d6_row1_col2\" class=\"data row1 col2\" >Address start date</td>\n",
       "      <td id=\"T_6c9d6_row1_col3\" class=\"data row1 col3\" >LPS</td>\n",
       "      <td id=\"T_6c9d6_row1_col4\" class=\"data row1 col4\" >None</td>\n",
       "    </tr>\n",
       "    <tr>\n",
       "      <td id=\"T_6c9d6_row2_col0\" class=\"data row2 col0\" >Geography</td>\n",
       "      <td id=\"T_6c9d6_row2_col1\" class=\"data row2 col1\" >address_end_date</td>\n",
       "      <td id=\"T_6c9d6_row2_col2\" class=\"data row2 col2\" >Address end date</td>\n",
       "      <td id=\"T_6c9d6_row2_col3\" class=\"data row2 col3\" >LPS</td>\n",
       "      <td id=\"T_6c9d6_row2_col4\" class=\"data row2 col4\" >None</td>\n",
       "    </tr>\n",
       "    <tr>\n",
       "      <td id=\"T_6c9d6_row3_col0\" class=\"data row3 col0\" >UK LLC</td>\n",
       "      <td id=\"T_6c9d6_row3_col1\" class=\"data row3 col1\" >avail_from_dt</td>\n",
       "      <td id=\"T_6c9d6_row3_col2\" class=\"data row3 col2\" >None</td>\n",
       "      <td id=\"T_6c9d6_row3_col3\" class=\"data row3 col3\" >UK LLC</td>\n",
       "      <td id=\"T_6c9d6_row3_col4\" class=\"data row3 col4\" >None</td>\n",
       "    </tr>\n",
       "    <tr>\n",
       "      <td id=\"T_6c9d6_row4_col0\" class=\"data row4 col0\" >Geography</td>\n",
       "      <td id=\"T_6c9d6_row4_col1\" class=\"data row4 col1\" >buf_area</td>\n",
       "      <td id=\"T_6c9d6_row4_col2\" class=\"data row4 col2\" >Buffer area</td>\n",
       "      <td id=\"T_6c9d6_row4_col3\" class=\"data row4 col3\" >University of Leicester</td>\n",
       "      <td id=\"T_6c9d6_row4_col4\" class=\"data row4 col4\" >None</td>\n",
       "    </tr>\n",
       "    <tr>\n",
       "      <td id=\"T_6c9d6_row5_col0\" class=\"data row5 col0\" >Geography</td>\n",
       "      <td id=\"T_6c9d6_row5_col1\" class=\"data row5 col1\" >eudist2nap</td>\n",
       "      <td id=\"T_6c9d6_row5_col2\" class=\"data row5 col2\" >Straight-line distance between address point and nearest OS open greenspace access point</td>\n",
       "      <td id=\"T_6c9d6_row5_col3\" class=\"data row5 col3\" >Ordnance Survey Open Greenspace</td>\n",
       "      <td id=\"T_6c9d6_row5_col4\" class=\"data row5 col4\" >None</td>\n",
       "    </tr>\n",
       "    <tr>\n",
       "      <td id=\"T_6c9d6_row6_col0\" class=\"data row6 col0\" >Imperviousness</td>\n",
       "      <td id=\"T_6c9d6_row6_col1\" class=\"data row6 col1\" >imd_mean</td>\n",
       "      <td id=\"T_6c9d6_row6_col2\" class=\"data row6 col2\" >Mean imperviousness degree value over each buffer zone</td>\n",
       "      <td id=\"T_6c9d6_row6_col3\" class=\"data row6 col3\" >Copernicus High Resolution Layer Imperviousness Degree</td>\n",
       "      <td id=\"T_6c9d6_row6_col4\" class=\"data row6 col4\" >None</td>\n",
       "    </tr>\n",
       "    <tr>\n",
       "      <td id=\"T_6c9d6_row7_col0\" class=\"data row7 col0\" >Imperviousness</td>\n",
       "      <td id=\"T_6c9d6_row7_col1\" class=\"data row7 col1\" >imd_pct</td>\n",
       "      <td id=\"T_6c9d6_row7_col2\" class=\"data row7 col2\" >Percentage of the number of pixels with a least some built up value</td>\n",
       "      <td id=\"T_6c9d6_row7_col3\" class=\"data row7 col3\" >Copernicus High Resolution Layer Imperviousness Degree</td>\n",
       "      <td id=\"T_6c9d6_row7_col4\" class=\"data row7 col4\" >None</td>\n",
       "    </tr>\n",
       "    <tr>\n",
       "      <td id=\"T_6c9d6_row8_col0\" class=\"data row8 col0\" >Green vegetation</td>\n",
       "      <td id=\"T_6c9d6_row8_col1\" class=\"data row8 col1\" >lsndvi1990</td>\n",
       "      <td id=\"T_6c9d6_row8_col2\" class=\"data row8 col2\" >Mean value for Landsat 1990 NDVI layer in the database calculated across buffer zone</td>\n",
       "      <td id=\"T_6c9d6_row8_col3\" class=\"data row8 col3\" >ESA Sentinel-2, USGS Landsat</td>\n",
       "      <td id=\"T_6c9d6_row8_col4\" class=\"data row8 col4\" >1990</td>\n",
       "    </tr>\n",
       "    <tr>\n",
       "      <td id=\"T_6c9d6_row9_col0\" class=\"data row9 col0\" >Green vegetation</td>\n",
       "      <td id=\"T_6c9d6_row9_col1\" class=\"data row9 col1\" >lsndvi2000</td>\n",
       "      <td id=\"T_6c9d6_row9_col2\" class=\"data row9 col2\" >Mean value for Landsat 2000 NDVI layer in the database calculated across buffer zone</td>\n",
       "      <td id=\"T_6c9d6_row9_col3\" class=\"data row9 col3\" >ESA Sentinel-2, USGS Landsat</td>\n",
       "      <td id=\"T_6c9d6_row9_col4\" class=\"data row9 col4\" >2000</td>\n",
       "    </tr>\n",
       "    <tr>\n",
       "      <td id=\"T_6c9d6_row10_col0\" class=\"data row10 col0\" >Green vegetation</td>\n",
       "      <td id=\"T_6c9d6_row10_col1\" class=\"data row10 col1\" >lsndvi2010</td>\n",
       "      <td id=\"T_6c9d6_row10_col2\" class=\"data row10 col2\" >Mean value for Landsat 2010 NDVI layer in the database calculated across buffer zone</td>\n",
       "      <td id=\"T_6c9d6_row10_col3\" class=\"data row10 col3\" >ESA Sentinel-2, USGS Landsat</td>\n",
       "      <td id=\"T_6c9d6_row10_col4\" class=\"data row10 col4\" >2010</td>\n",
       "    </tr>\n",
       "    <tr>\n",
       "      <td id=\"T_6c9d6_row11_col0\" class=\"data row11 col0\" >Green vegetation</td>\n",
       "      <td id=\"T_6c9d6_row11_col1\" class=\"data row11 col1\" >lsndvi2020</td>\n",
       "      <td id=\"T_6c9d6_row11_col2\" class=\"data row11 col2\" >Mean value for Landsat 2020 NDVI layer in the database calculated across buffer zone</td>\n",
       "      <td id=\"T_6c9d6_row11_col3\" class=\"data row11 col3\" >ESA Sentinel-2, USGS Landsat</td>\n",
       "      <td id=\"T_6c9d6_row11_col4\" class=\"data row11 col4\" >2020</td>\n",
       "    </tr>\n",
       "    <tr>\n",
       "      <td id=\"T_6c9d6_row12_col0\" class=\"data row12 col0\" >Geography</td>\n",
       "      <td id=\"T_6c9d6_row12_col1\" class=\"data row12 col1\" >lsoa11_e</td>\n",
       "      <td id=\"T_6c9d6_row12_col2\" class=\"data row12 col2\" >Lower layer super output area (LSOA) encrypted</td>\n",
       "      <td id=\"T_6c9d6_row12_col3\" class=\"data row12 col3\" >Office of National Statistics</td>\n",
       "      <td id=\"T_6c9d6_row12_col4\" class=\"data row12 col4\" >2011</td>\n",
       "    </tr>\n",
       "    <tr>\n",
       "      <td id=\"T_6c9d6_row13_col0\" class=\"data row13 col0\" >Geography</td>\n",
       "      <td id=\"T_6c9d6_row13_col1\" class=\"data row13 col1\" >matchcode</td>\n",
       "      <td id=\"T_6c9d6_row13_col2\" class=\"data row13 col2\" >Experian match code indicator</td>\n",
       "      <td id=\"T_6c9d6_row13_col3\" class=\"data row13 col3\" >University of Leicester</td>\n",
       "      <td id=\"T_6c9d6_row13_col4\" class=\"data row13 col4\" >None</td>\n",
       "    </tr>\n",
       "    <tr>\n",
       "      <td id=\"T_6c9d6_row14_col0\" class=\"data row14 col0\" >Geography</td>\n",
       "      <td id=\"T_6c9d6_row14_col1\" class=\"data row14 col1\" >msoa11_e</td>\n",
       "      <td id=\"T_6c9d6_row14_col2\" class=\"data row14 col2\" >Middle super output area (LSOA) encrypted</td>\n",
       "      <td id=\"T_6c9d6_row14_col3\" class=\"data row14 col3\" >Office of National Statistics</td>\n",
       "      <td id=\"T_6c9d6_row14_col4\" class=\"data row14 col4\" >2011</td>\n",
       "    </tr>\n",
       "    <tr>\n",
       "      <td id=\"T_6c9d6_row15_col0\" class=\"data row15 col0\" >Geography</td>\n",
       "      <td id=\"T_6c9d6_row15_col1\" class=\"data row15 col1\" >ntdist2nap</td>\n",
       "      <td id=\"T_6c9d6_row15_col2\" class=\"data row15 col2\" >Walking distance along the road and path network to nearest OS open greenspace access point</td>\n",
       "      <td id=\"T_6c9d6_row15_col3\" class=\"data row15 col3\" >Ordnance Survey Open Greenspace</td>\n",
       "      <td id=\"T_6c9d6_row15_col4\" class=\"data row15 col4\" >None</td>\n",
       "    </tr>\n",
       "    <tr>\n",
       "      <td id=\"T_6c9d6_row16_col0\" class=\"data row16 col0\" >Greenspace</td>\n",
       "      <td id=\"T_6c9d6_row16_col1\" class=\"data row16 col1\" >osgs_ap</td>\n",
       "      <td id=\"T_6c9d6_row16_col2\" class=\"data row16 col2\" >Total number of OS open greenspace access points falling within each buffer zone</td>\n",
       "      <td id=\"T_6c9d6_row16_col3\" class=\"data row16 col3\" >Ordnance Survey Open Greenspace</td>\n",
       "      <td id=\"T_6c9d6_row16_col4\" class=\"data row16 col4\" >None</td>\n",
       "    </tr>\n",
       "    <tr>\n",
       "      <td id=\"T_6c9d6_row17_col0\" class=\"data row17 col0\" >Greenspace</td>\n",
       "      <td id=\"T_6c9d6_row17_col1\" class=\"data row17 col1\" >osgs_area</td>\n",
       "      <td id=\"T_6c9d6_row17_col2\" class=\"data row17 col2\" >Total area of OS open greenspace falling within the buffer zone (m2)</td>\n",
       "      <td id=\"T_6c9d6_row17_col3\" class=\"data row17 col3\" >Ordnance Survey Open Greenspace</td>\n",
       "      <td id=\"T_6c9d6_row17_col4\" class=\"data row17 col4\" >None</td>\n",
       "    </tr>\n",
       "    <tr>\n",
       "      <td id=\"T_6c9d6_row18_col0\" class=\"data row18 col0\" >Greenspace</td>\n",
       "      <td id=\"T_6c9d6_row18_col1\" class=\"data row18 col1\" >osgs_cnt</td>\n",
       "      <td id=\"T_6c9d6_row18_col2\" class=\"data row18 col2\" >Number of OS open greenspace sites within the buffer zone</td>\n",
       "      <td id=\"T_6c9d6_row18_col3\" class=\"data row18 col3\" >Ordnance Survey Open Greenspace</td>\n",
       "      <td id=\"T_6c9d6_row18_col4\" class=\"data row18 col4\" >None</td>\n",
       "    </tr>\n",
       "    <tr>\n",
       "      <td id=\"T_6c9d6_row19_col0\" class=\"data row19 col0\" >Greenspace</td>\n",
       "      <td id=\"T_6c9d6_row19_col1\" class=\"data row19 col1\" >osgs_pct</td>\n",
       "      <td id=\"T_6c9d6_row19_col2\" class=\"data row19 col2\" >Percentage coverage of OS open greenspace falling within the buffer zone.</td>\n",
       "      <td id=\"T_6c9d6_row19_col3\" class=\"data row19 col3\" >Ordnance Survey Open Greenspace</td>\n",
       "      <td id=\"T_6c9d6_row19_col4\" class=\"data row19 col4\" >None</td>\n",
       "    </tr>\n",
       "    <tr>\n",
       "      <td id=\"T_6c9d6_row20_col0\" class=\"data row20 col0\" >Geography</td>\n",
       "      <td id=\"T_6c9d6_row20_col1\" class=\"data row20 col1\" >postcode_e</td>\n",
       "      <td id=\"T_6c9d6_row20_col2\" class=\"data row20 col2\" >Postcode encrypted</td>\n",
       "      <td id=\"T_6c9d6_row20_col3\" class=\"data row20 col3\" >LPS</td>\n",
       "      <td id=\"T_6c9d6_row20_col4\" class=\"data row20 col4\" >None</td>\n",
       "    </tr>\n",
       "    <tr>\n",
       "      <td id=\"T_6c9d6_row21_col0\" class=\"data row21 col0\" >Geography</td>\n",
       "      <td id=\"T_6c9d6_row21_col1\" class=\"data row21 col1\" >region</td>\n",
       "      <td id=\"T_6c9d6_row21_col2\" class=\"data row21 col2\" >UK Region </td>\n",
       "      <td id=\"T_6c9d6_row21_col3\" class=\"data row21 col3\" >Office of National Statistics</td>\n",
       "      <td id=\"T_6c9d6_row21_col4\" class=\"data row21 col4\" >2011</td>\n",
       "    </tr>\n",
       "    <tr>\n",
       "      <td id=\"T_6c9d6_row22_col0\" class=\"data row22 col0\" >Green vegetation</td>\n",
       "      <td id=\"T_6c9d6_row22_col1\" class=\"data row22 col1\" >s2ndvi2020</td>\n",
       "      <td id=\"T_6c9d6_row22_col2\" class=\"data row22 col2\" >Mean value for Sentinel-2 2020 NDVI layer in the database calculated across buffer zone</td>\n",
       "      <td id=\"T_6c9d6_row22_col3\" class=\"data row22 col3\" >ESA Sentinel-2, USGS Landsat</td>\n",
       "      <td id=\"T_6c9d6_row22_col4\" class=\"data row22 col4\" >2020</td>\n",
       "    </tr>\n",
       "    <tr>\n",
       "      <td id=\"T_6c9d6_row23_col0\" class=\"data row23 col0\" >Tree Cover</td>\n",
       "      <td id=\"T_6c9d6_row23_col1\" class=\"data row23 col1\" >tc_pct</td>\n",
       "      <td id=\"T_6c9d6_row23_col2\" class=\"data row23 col2\" >Percentage of the number of pixels with a least some tree cover</td>\n",
       "      <td id=\"T_6c9d6_row23_col3\" class=\"data row23 col3\" >Copernicus High Resolution Layer Tree Cover Density</td>\n",
       "      <td id=\"T_6c9d6_row23_col4\" class=\"data row23 col4\" >None</td>\n",
       "    </tr>\n",
       "    <tr>\n",
       "      <td id=\"T_6c9d6_row24_col0\" class=\"data row24 col0\" >Tree Cover</td>\n",
       "      <td id=\"T_6c9d6_row24_col1\" class=\"data row24 col1\" >tcd_mean</td>\n",
       "      <td id=\"T_6c9d6_row24_col2\" class=\"data row24 col2\" >Mean tree cover density value over each buffer zone is calculated</td>\n",
       "      <td id=\"T_6c9d6_row24_col3\" class=\"data row24 col3\" >Copernicus High Resolution Layer Tree Cover Density</td>\n",
       "      <td id=\"T_6c9d6_row24_col4\" class=\"data row24 col4\" >None</td>\n",
       "    </tr>\n",
       "    <tr>\n",
       "      <td id=\"T_6c9d6_row25_col0\" class=\"data row25 col0\" >Geography</td>\n",
       "      <td id=\"T_6c9d6_row25_col1\" class=\"data row25 col1\" >uprn_e</td>\n",
       "      <td id=\"T_6c9d6_row25_col2\" class=\"data row25 col2\" >Unique Property Reference Number (UPRN) encrypted</td>\n",
       "      <td id=\"T_6c9d6_row25_col3\" class=\"data row25 col3\" >University of Leicester</td>\n",
       "      <td id=\"T_6c9d6_row25_col4\" class=\"data row25 col4\" >None</td>\n",
       "    </tr>\n",
       "  </tbody>\n",
       "</table>\n"
      ],
      "text/plain": [
       "<pandas.io.formats.style.Styler at 0x2677fcae850>"
      ]
     },
     "execution_count": 77,
     "metadata": {},
     "output_type": "execute_result"
    }
   ],
   "source": [
    "DS(\"greenspace_polygon_points_300m_gb_hh\").variable_table()"
   ]
  },
  {
   "cell_type": "code",
   "execution_count": 78,
   "id": "e2d638f0",
   "metadata": {
    "tags": [
     "remove-input"
    ]
   },
   "outputs": [
    {
     "data": {
      "text/markdown": [
       "### greenspace_polygon_points_300m_gb_pc"
      ],
      "text/plain": [
       "<IPython.core.display.Markdown object>"
      ]
     },
     "metadata": {},
     "output_type": "display_data"
    }
   ],
   "source": [
    "display(Markdown('### greenspace_polygon_points_300m_gb_pc'))"
   ]
  },
  {
   "cell_type": "code",
   "execution_count": 79,
   "id": "fbcd32b1",
   "metadata": {
    "tags": [
     "remove-input",
     "hide-cell"
    ]
   },
   "outputs": [
    {
     "data": {
      "text/html": [
       "<style type=\"text/css\">\n",
       "#T_3d1c9 th {\n",
       "  text-align: left;\n",
       "}\n",
       "#T_3d1c9_row0_col0, #T_3d1c9_row0_col1, #T_3d1c9_row0_col2, #T_3d1c9_row0_col3, #T_3d1c9_row0_col4, #T_3d1c9_row1_col0, #T_3d1c9_row1_col1, #T_3d1c9_row1_col2, #T_3d1c9_row1_col3, #T_3d1c9_row1_col4, #T_3d1c9_row2_col0, #T_3d1c9_row2_col1, #T_3d1c9_row2_col2, #T_3d1c9_row2_col3, #T_3d1c9_row2_col4, #T_3d1c9_row3_col0, #T_3d1c9_row3_col1, #T_3d1c9_row3_col2, #T_3d1c9_row3_col3, #T_3d1c9_row3_col4, #T_3d1c9_row4_col0, #T_3d1c9_row4_col1, #T_3d1c9_row4_col2, #T_3d1c9_row4_col3, #T_3d1c9_row4_col4, #T_3d1c9_row5_col0, #T_3d1c9_row5_col1, #T_3d1c9_row5_col2, #T_3d1c9_row5_col3, #T_3d1c9_row5_col4, #T_3d1c9_row6_col0, #T_3d1c9_row6_col1, #T_3d1c9_row6_col2, #T_3d1c9_row6_col3, #T_3d1c9_row6_col4, #T_3d1c9_row7_col0, #T_3d1c9_row7_col1, #T_3d1c9_row7_col2, #T_3d1c9_row7_col3, #T_3d1c9_row7_col4, #T_3d1c9_row8_col0, #T_3d1c9_row8_col1, #T_3d1c9_row8_col2, #T_3d1c9_row8_col3, #T_3d1c9_row8_col4, #T_3d1c9_row9_col0, #T_3d1c9_row9_col1, #T_3d1c9_row9_col2, #T_3d1c9_row9_col3, #T_3d1c9_row9_col4, #T_3d1c9_row10_col0, #T_3d1c9_row10_col1, #T_3d1c9_row10_col2, #T_3d1c9_row10_col3, #T_3d1c9_row10_col4, #T_3d1c9_row11_col0, #T_3d1c9_row11_col1, #T_3d1c9_row11_col2, #T_3d1c9_row11_col3, #T_3d1c9_row11_col4, #T_3d1c9_row12_col0, #T_3d1c9_row12_col1, #T_3d1c9_row12_col2, #T_3d1c9_row12_col3, #T_3d1c9_row12_col4, #T_3d1c9_row13_col0, #T_3d1c9_row13_col1, #T_3d1c9_row13_col2, #T_3d1c9_row13_col3, #T_3d1c9_row13_col4, #T_3d1c9_row14_col0, #T_3d1c9_row14_col1, #T_3d1c9_row14_col2, #T_3d1c9_row14_col3, #T_3d1c9_row14_col4, #T_3d1c9_row15_col0, #T_3d1c9_row15_col1, #T_3d1c9_row15_col2, #T_3d1c9_row15_col3, #T_3d1c9_row15_col4, #T_3d1c9_row16_col0, #T_3d1c9_row16_col1, #T_3d1c9_row16_col2, #T_3d1c9_row16_col3, #T_3d1c9_row16_col4, #T_3d1c9_row17_col0, #T_3d1c9_row17_col1, #T_3d1c9_row17_col2, #T_3d1c9_row17_col3, #T_3d1c9_row17_col4, #T_3d1c9_row18_col0, #T_3d1c9_row18_col1, #T_3d1c9_row18_col2, #T_3d1c9_row18_col3, #T_3d1c9_row18_col4, #T_3d1c9_row19_col0, #T_3d1c9_row19_col1, #T_3d1c9_row19_col2, #T_3d1c9_row19_col3, #T_3d1c9_row19_col4, #T_3d1c9_row20_col0, #T_3d1c9_row20_col1, #T_3d1c9_row20_col2, #T_3d1c9_row20_col3, #T_3d1c9_row20_col4, #T_3d1c9_row21_col0, #T_3d1c9_row21_col1, #T_3d1c9_row21_col2, #T_3d1c9_row21_col3, #T_3d1c9_row21_col4, #T_3d1c9_row22_col0, #T_3d1c9_row22_col1, #T_3d1c9_row22_col2, #T_3d1c9_row22_col3, #T_3d1c9_row22_col4, #T_3d1c9_row23_col0, #T_3d1c9_row23_col1, #T_3d1c9_row23_col2, #T_3d1c9_row23_col3, #T_3d1c9_row23_col4, #T_3d1c9_row24_col0, #T_3d1c9_row24_col1, #T_3d1c9_row24_col2, #T_3d1c9_row24_col3, #T_3d1c9_row24_col4, #T_3d1c9_row25_col0, #T_3d1c9_row25_col1, #T_3d1c9_row25_col2, #T_3d1c9_row25_col3, #T_3d1c9_row25_col4 {\n",
       "  text-align: left;\n",
       "}\n",
       "</style>\n",
       "<table id=\"T_3d1c9\" style=\"font-size: 14px\">\n",
       "  <thead>\n",
       "    <tr>\n",
       "      <th id=\"T_3d1c9_level0_col0\" class=\"col_heading level0 col0\" >Variable Group</th>\n",
       "      <th id=\"T_3d1c9_level0_col1\" class=\"col_heading level0 col1\" >Variable</th>\n",
       "      <th id=\"T_3d1c9_level0_col2\" class=\"col_heading level0 col2\" >Description</th>\n",
       "      <th id=\"T_3d1c9_level0_col3\" class=\"col_heading level0 col3\" >Source</th>\n",
       "      <th id=\"T_3d1c9_level0_col4\" class=\"col_heading level0 col4\" >Date range of data</th>\n",
       "    </tr>\n",
       "  </thead>\n",
       "  <tbody>\n",
       "    <tr>\n",
       "      <td id=\"T_3d1c9_row0_col0\" class=\"data row0 col0\" >Identifier</td>\n",
       "      <td id=\"T_3d1c9_row0_col1\" class=\"data row0 col1\" >cohortkey_e</td>\n",
       "      <td id=\"T_3d1c9_row0_col2\" class=\"data row0 col2\" >individual level id</td>\n",
       "      <td id=\"T_3d1c9_row0_col3\" class=\"data row0 col3\" >LPS</td>\n",
       "      <td id=\"T_3d1c9_row0_col4\" class=\"data row0 col4\" >None</td>\n",
       "    </tr>\n",
       "    <tr>\n",
       "      <td id=\"T_3d1c9_row1_col0\" class=\"data row1 col0\" >Geography</td>\n",
       "      <td id=\"T_3d1c9_row1_col1\" class=\"data row1 col1\" >address_start_date</td>\n",
       "      <td id=\"T_3d1c9_row1_col2\" class=\"data row1 col2\" >Address start date</td>\n",
       "      <td id=\"T_3d1c9_row1_col3\" class=\"data row1 col3\" >LPS</td>\n",
       "      <td id=\"T_3d1c9_row1_col4\" class=\"data row1 col4\" >None</td>\n",
       "    </tr>\n",
       "    <tr>\n",
       "      <td id=\"T_3d1c9_row2_col0\" class=\"data row2 col0\" >Geography</td>\n",
       "      <td id=\"T_3d1c9_row2_col1\" class=\"data row2 col1\" >address_end_date</td>\n",
       "      <td id=\"T_3d1c9_row2_col2\" class=\"data row2 col2\" >Address end date</td>\n",
       "      <td id=\"T_3d1c9_row2_col3\" class=\"data row2 col3\" >LPS</td>\n",
       "      <td id=\"T_3d1c9_row2_col4\" class=\"data row2 col4\" >None</td>\n",
       "    </tr>\n",
       "    <tr>\n",
       "      <td id=\"T_3d1c9_row3_col0\" class=\"data row3 col0\" >UK LLC</td>\n",
       "      <td id=\"T_3d1c9_row3_col1\" class=\"data row3 col1\" >avail_from_dt</td>\n",
       "      <td id=\"T_3d1c9_row3_col2\" class=\"data row3 col2\" >None</td>\n",
       "      <td id=\"T_3d1c9_row3_col3\" class=\"data row3 col3\" >UK LLC</td>\n",
       "      <td id=\"T_3d1c9_row3_col4\" class=\"data row3 col4\" >None</td>\n",
       "    </tr>\n",
       "    <tr>\n",
       "      <td id=\"T_3d1c9_row4_col0\" class=\"data row4 col0\" >Geography</td>\n",
       "      <td id=\"T_3d1c9_row4_col1\" class=\"data row4 col1\" >buf_area</td>\n",
       "      <td id=\"T_3d1c9_row4_col2\" class=\"data row4 col2\" >Buffer area</td>\n",
       "      <td id=\"T_3d1c9_row4_col3\" class=\"data row4 col3\" >University of Leicester</td>\n",
       "      <td id=\"T_3d1c9_row4_col4\" class=\"data row4 col4\" >None</td>\n",
       "    </tr>\n",
       "    <tr>\n",
       "      <td id=\"T_3d1c9_row5_col0\" class=\"data row5 col0\" >Geography</td>\n",
       "      <td id=\"T_3d1c9_row5_col1\" class=\"data row5 col1\" >eudist2nap</td>\n",
       "      <td id=\"T_3d1c9_row5_col2\" class=\"data row5 col2\" >Straight-line distance between address point and nearest OS open greenspace access point</td>\n",
       "      <td id=\"T_3d1c9_row5_col3\" class=\"data row5 col3\" >Ordnance Survey Open Greenspace</td>\n",
       "      <td id=\"T_3d1c9_row5_col4\" class=\"data row5 col4\" >None</td>\n",
       "    </tr>\n",
       "    <tr>\n",
       "      <td id=\"T_3d1c9_row6_col0\" class=\"data row6 col0\" >Imperviousness</td>\n",
       "      <td id=\"T_3d1c9_row6_col1\" class=\"data row6 col1\" >imd_mean</td>\n",
       "      <td id=\"T_3d1c9_row6_col2\" class=\"data row6 col2\" >Mean imperviousness degree value over each buffer zone</td>\n",
       "      <td id=\"T_3d1c9_row6_col3\" class=\"data row6 col3\" >Copernicus High Resolution Layer Imperviousness Degree</td>\n",
       "      <td id=\"T_3d1c9_row6_col4\" class=\"data row6 col4\" >None</td>\n",
       "    </tr>\n",
       "    <tr>\n",
       "      <td id=\"T_3d1c9_row7_col0\" class=\"data row7 col0\" >Imperviousness</td>\n",
       "      <td id=\"T_3d1c9_row7_col1\" class=\"data row7 col1\" >imd_pct</td>\n",
       "      <td id=\"T_3d1c9_row7_col2\" class=\"data row7 col2\" >Percentage of the number of pixels with a least some built up value</td>\n",
       "      <td id=\"T_3d1c9_row7_col3\" class=\"data row7 col3\" >Copernicus High Resolution Layer Imperviousness Degree</td>\n",
       "      <td id=\"T_3d1c9_row7_col4\" class=\"data row7 col4\" >None</td>\n",
       "    </tr>\n",
       "    <tr>\n",
       "      <td id=\"T_3d1c9_row8_col0\" class=\"data row8 col0\" >Green vegetation</td>\n",
       "      <td id=\"T_3d1c9_row8_col1\" class=\"data row8 col1\" >lsndvi1990</td>\n",
       "      <td id=\"T_3d1c9_row8_col2\" class=\"data row8 col2\" >Mean value for Landsat 1990 NDVI layer in the database calculated across buffer zone</td>\n",
       "      <td id=\"T_3d1c9_row8_col3\" class=\"data row8 col3\" >ESA Sentinel-2, USGS Landsat</td>\n",
       "      <td id=\"T_3d1c9_row8_col4\" class=\"data row8 col4\" >1990</td>\n",
       "    </tr>\n",
       "    <tr>\n",
       "      <td id=\"T_3d1c9_row9_col0\" class=\"data row9 col0\" >Green vegetation</td>\n",
       "      <td id=\"T_3d1c9_row9_col1\" class=\"data row9 col1\" >lsndvi2000</td>\n",
       "      <td id=\"T_3d1c9_row9_col2\" class=\"data row9 col2\" >Mean value for Landsat 2000 NDVI layer in the database calculated across buffer zone</td>\n",
       "      <td id=\"T_3d1c9_row9_col3\" class=\"data row9 col3\" >ESA Sentinel-2, USGS Landsat</td>\n",
       "      <td id=\"T_3d1c9_row9_col4\" class=\"data row9 col4\" >2000</td>\n",
       "    </tr>\n",
       "    <tr>\n",
       "      <td id=\"T_3d1c9_row10_col0\" class=\"data row10 col0\" >Green vegetation</td>\n",
       "      <td id=\"T_3d1c9_row10_col1\" class=\"data row10 col1\" >lsndvi2010</td>\n",
       "      <td id=\"T_3d1c9_row10_col2\" class=\"data row10 col2\" >Mean value for Landsat 2010 NDVI layer in the database calculated across buffer zone</td>\n",
       "      <td id=\"T_3d1c9_row10_col3\" class=\"data row10 col3\" >ESA Sentinel-2, USGS Landsat</td>\n",
       "      <td id=\"T_3d1c9_row10_col4\" class=\"data row10 col4\" >2010</td>\n",
       "    </tr>\n",
       "    <tr>\n",
       "      <td id=\"T_3d1c9_row11_col0\" class=\"data row11 col0\" >Green vegetation</td>\n",
       "      <td id=\"T_3d1c9_row11_col1\" class=\"data row11 col1\" >lsndvi2020</td>\n",
       "      <td id=\"T_3d1c9_row11_col2\" class=\"data row11 col2\" >Mean value for Landsat 2020 NDVI layer in the database calculated across buffer zone</td>\n",
       "      <td id=\"T_3d1c9_row11_col3\" class=\"data row11 col3\" >ESA Sentinel-2, USGS Landsat</td>\n",
       "      <td id=\"T_3d1c9_row11_col4\" class=\"data row11 col4\" >2020</td>\n",
       "    </tr>\n",
       "    <tr>\n",
       "      <td id=\"T_3d1c9_row12_col0\" class=\"data row12 col0\" >Geography</td>\n",
       "      <td id=\"T_3d1c9_row12_col1\" class=\"data row12 col1\" >lsoa11_e</td>\n",
       "      <td id=\"T_3d1c9_row12_col2\" class=\"data row12 col2\" >Lower layer super output area (LSOA) encrypted</td>\n",
       "      <td id=\"T_3d1c9_row12_col3\" class=\"data row12 col3\" >Office of National Statistics</td>\n",
       "      <td id=\"T_3d1c9_row12_col4\" class=\"data row12 col4\" >2011</td>\n",
       "    </tr>\n",
       "    <tr>\n",
       "      <td id=\"T_3d1c9_row13_col0\" class=\"data row13 col0\" >Geography</td>\n",
       "      <td id=\"T_3d1c9_row13_col1\" class=\"data row13 col1\" >matchcode</td>\n",
       "      <td id=\"T_3d1c9_row13_col2\" class=\"data row13 col2\" >Experian match code indicator</td>\n",
       "      <td id=\"T_3d1c9_row13_col3\" class=\"data row13 col3\" >University of Leicester</td>\n",
       "      <td id=\"T_3d1c9_row13_col4\" class=\"data row13 col4\" >None</td>\n",
       "    </tr>\n",
       "    <tr>\n",
       "      <td id=\"T_3d1c9_row14_col0\" class=\"data row14 col0\" >Geography</td>\n",
       "      <td id=\"T_3d1c9_row14_col1\" class=\"data row14 col1\" >msoa11_e</td>\n",
       "      <td id=\"T_3d1c9_row14_col2\" class=\"data row14 col2\" >Middle super output area (LSOA) encrypted</td>\n",
       "      <td id=\"T_3d1c9_row14_col3\" class=\"data row14 col3\" >Office of National Statistics</td>\n",
       "      <td id=\"T_3d1c9_row14_col4\" class=\"data row14 col4\" >2011</td>\n",
       "    </tr>\n",
       "    <tr>\n",
       "      <td id=\"T_3d1c9_row15_col0\" class=\"data row15 col0\" >Geography</td>\n",
       "      <td id=\"T_3d1c9_row15_col1\" class=\"data row15 col1\" >ntdist2nap</td>\n",
       "      <td id=\"T_3d1c9_row15_col2\" class=\"data row15 col2\" >Walking distance along the road and path network to nearest OS open greenspace access point</td>\n",
       "      <td id=\"T_3d1c9_row15_col3\" class=\"data row15 col3\" >Ordnance Survey Open Greenspace</td>\n",
       "      <td id=\"T_3d1c9_row15_col4\" class=\"data row15 col4\" >None</td>\n",
       "    </tr>\n",
       "    <tr>\n",
       "      <td id=\"T_3d1c9_row16_col0\" class=\"data row16 col0\" >Greenspace</td>\n",
       "      <td id=\"T_3d1c9_row16_col1\" class=\"data row16 col1\" >osgs_ap</td>\n",
       "      <td id=\"T_3d1c9_row16_col2\" class=\"data row16 col2\" >Total number of OS open greenspace access points falling within each buffer zone</td>\n",
       "      <td id=\"T_3d1c9_row16_col3\" class=\"data row16 col3\" >Ordnance Survey Open Greenspace</td>\n",
       "      <td id=\"T_3d1c9_row16_col4\" class=\"data row16 col4\" >None</td>\n",
       "    </tr>\n",
       "    <tr>\n",
       "      <td id=\"T_3d1c9_row17_col0\" class=\"data row17 col0\" >Greenspace</td>\n",
       "      <td id=\"T_3d1c9_row17_col1\" class=\"data row17 col1\" >osgs_area</td>\n",
       "      <td id=\"T_3d1c9_row17_col2\" class=\"data row17 col2\" >Total area of OS open greenspace falling within the buffer zone (m2)</td>\n",
       "      <td id=\"T_3d1c9_row17_col3\" class=\"data row17 col3\" >Ordnance Survey Open Greenspace</td>\n",
       "      <td id=\"T_3d1c9_row17_col4\" class=\"data row17 col4\" >None</td>\n",
       "    </tr>\n",
       "    <tr>\n",
       "      <td id=\"T_3d1c9_row18_col0\" class=\"data row18 col0\" >Greenspace</td>\n",
       "      <td id=\"T_3d1c9_row18_col1\" class=\"data row18 col1\" >osgs_cnt</td>\n",
       "      <td id=\"T_3d1c9_row18_col2\" class=\"data row18 col2\" >Number of OS open greenspace sites within the buffer zone</td>\n",
       "      <td id=\"T_3d1c9_row18_col3\" class=\"data row18 col3\" >Ordnance Survey Open Greenspace</td>\n",
       "      <td id=\"T_3d1c9_row18_col4\" class=\"data row18 col4\" >None</td>\n",
       "    </tr>\n",
       "    <tr>\n",
       "      <td id=\"T_3d1c9_row19_col0\" class=\"data row19 col0\" >Greenspace</td>\n",
       "      <td id=\"T_3d1c9_row19_col1\" class=\"data row19 col1\" >osgs_pct</td>\n",
       "      <td id=\"T_3d1c9_row19_col2\" class=\"data row19 col2\" >Percentage coverage of OS open greenspace falling within the buffer zone.</td>\n",
       "      <td id=\"T_3d1c9_row19_col3\" class=\"data row19 col3\" >Ordnance Survey Open Greenspace</td>\n",
       "      <td id=\"T_3d1c9_row19_col4\" class=\"data row19 col4\" >None</td>\n",
       "    </tr>\n",
       "    <tr>\n",
       "      <td id=\"T_3d1c9_row20_col0\" class=\"data row20 col0\" >Geography</td>\n",
       "      <td id=\"T_3d1c9_row20_col1\" class=\"data row20 col1\" >postcode_e</td>\n",
       "      <td id=\"T_3d1c9_row20_col2\" class=\"data row20 col2\" >Postcode encrypted</td>\n",
       "      <td id=\"T_3d1c9_row20_col3\" class=\"data row20 col3\" >LPS</td>\n",
       "      <td id=\"T_3d1c9_row20_col4\" class=\"data row20 col4\" >None</td>\n",
       "    </tr>\n",
       "    <tr>\n",
       "      <td id=\"T_3d1c9_row21_col0\" class=\"data row21 col0\" >Geography</td>\n",
       "      <td id=\"T_3d1c9_row21_col1\" class=\"data row21 col1\" >region</td>\n",
       "      <td id=\"T_3d1c9_row21_col2\" class=\"data row21 col2\" >UK Region </td>\n",
       "      <td id=\"T_3d1c9_row21_col3\" class=\"data row21 col3\" >Office of National Statistics</td>\n",
       "      <td id=\"T_3d1c9_row21_col4\" class=\"data row21 col4\" >2011</td>\n",
       "    </tr>\n",
       "    <tr>\n",
       "      <td id=\"T_3d1c9_row22_col0\" class=\"data row22 col0\" >Green vegetation</td>\n",
       "      <td id=\"T_3d1c9_row22_col1\" class=\"data row22 col1\" >s2ndvi2020</td>\n",
       "      <td id=\"T_3d1c9_row22_col2\" class=\"data row22 col2\" >Mean value for Sentinel-2 2020 NDVI layer in the database calculated across buffer zone</td>\n",
       "      <td id=\"T_3d1c9_row22_col3\" class=\"data row22 col3\" >ESA Sentinel-2, USGS Landsat</td>\n",
       "      <td id=\"T_3d1c9_row22_col4\" class=\"data row22 col4\" >2020</td>\n",
       "    </tr>\n",
       "    <tr>\n",
       "      <td id=\"T_3d1c9_row23_col0\" class=\"data row23 col0\" >Tree Cover</td>\n",
       "      <td id=\"T_3d1c9_row23_col1\" class=\"data row23 col1\" >tc_pct</td>\n",
       "      <td id=\"T_3d1c9_row23_col2\" class=\"data row23 col2\" >Percentage of the number of pixels with a least some tree cover</td>\n",
       "      <td id=\"T_3d1c9_row23_col3\" class=\"data row23 col3\" >Copernicus High Resolution Layer Tree Cover Density</td>\n",
       "      <td id=\"T_3d1c9_row23_col4\" class=\"data row23 col4\" >None</td>\n",
       "    </tr>\n",
       "    <tr>\n",
       "      <td id=\"T_3d1c9_row24_col0\" class=\"data row24 col0\" >Tree Cover</td>\n",
       "      <td id=\"T_3d1c9_row24_col1\" class=\"data row24 col1\" >tcd_mean</td>\n",
       "      <td id=\"T_3d1c9_row24_col2\" class=\"data row24 col2\" >Mean tree cover density value over each buffer zone is calculated</td>\n",
       "      <td id=\"T_3d1c9_row24_col3\" class=\"data row24 col3\" >Copernicus High Resolution Layer Tree Cover Density</td>\n",
       "      <td id=\"T_3d1c9_row24_col4\" class=\"data row24 col4\" >None</td>\n",
       "    </tr>\n",
       "    <tr>\n",
       "      <td id=\"T_3d1c9_row25_col0\" class=\"data row25 col0\" >Geography</td>\n",
       "      <td id=\"T_3d1c9_row25_col1\" class=\"data row25 col1\" >uprn_e</td>\n",
       "      <td id=\"T_3d1c9_row25_col2\" class=\"data row25 col2\" >Unique Property Reference Number (UPRN) encrypted</td>\n",
       "      <td id=\"T_3d1c9_row25_col3\" class=\"data row25 col3\" >University of Leicester</td>\n",
       "      <td id=\"T_3d1c9_row25_col4\" class=\"data row25 col4\" >None</td>\n",
       "    </tr>\n",
       "  </tbody>\n",
       "</table>\n"
      ],
      "text/plain": [
       "<pandas.io.formats.style.Styler at 0x2677fcac050>"
      ]
     },
     "execution_count": 79,
     "metadata": {},
     "output_type": "execute_result"
    }
   ],
   "source": [
    "DS(\"greenspace_polygon_points_300m_gb_pc\").variable_table()"
   ]
  },
  {
   "cell_type": "code",
   "execution_count": 80,
   "id": "691361ae",
   "metadata": {
    "tags": [
     "remove-input"
    ]
   },
   "outputs": [
    {
     "data": {
      "text/markdown": [
       "### greenspace_polygon_points_500m_gb_hh"
      ],
      "text/plain": [
       "<IPython.core.display.Markdown object>"
      ]
     },
     "metadata": {},
     "output_type": "display_data"
    }
   ],
   "source": [
    "display(Markdown('### greenspace_polygon_points_500m_gb_hh'))"
   ]
  },
  {
   "cell_type": "code",
   "execution_count": 81,
   "id": "6d4ae990",
   "metadata": {
    "tags": [
     "remove-input",
     "hide-cell"
    ]
   },
   "outputs": [
    {
     "data": {
      "text/html": [
       "<style type=\"text/css\">\n",
       "#T_5b762 th {\n",
       "  text-align: left;\n",
       "}\n",
       "#T_5b762_row0_col0, #T_5b762_row0_col1, #T_5b762_row0_col2, #T_5b762_row0_col3, #T_5b762_row0_col4, #T_5b762_row1_col0, #T_5b762_row1_col1, #T_5b762_row1_col2, #T_5b762_row1_col3, #T_5b762_row1_col4, #T_5b762_row2_col0, #T_5b762_row2_col1, #T_5b762_row2_col2, #T_5b762_row2_col3, #T_5b762_row2_col4, #T_5b762_row3_col0, #T_5b762_row3_col1, #T_5b762_row3_col2, #T_5b762_row3_col3, #T_5b762_row3_col4, #T_5b762_row4_col0, #T_5b762_row4_col1, #T_5b762_row4_col2, #T_5b762_row4_col3, #T_5b762_row4_col4, #T_5b762_row5_col0, #T_5b762_row5_col1, #T_5b762_row5_col2, #T_5b762_row5_col3, #T_5b762_row5_col4, #T_5b762_row6_col0, #T_5b762_row6_col1, #T_5b762_row6_col2, #T_5b762_row6_col3, #T_5b762_row6_col4, #T_5b762_row7_col0, #T_5b762_row7_col1, #T_5b762_row7_col2, #T_5b762_row7_col3, #T_5b762_row7_col4, #T_5b762_row8_col0, #T_5b762_row8_col1, #T_5b762_row8_col2, #T_5b762_row8_col3, #T_5b762_row8_col4, #T_5b762_row9_col0, #T_5b762_row9_col1, #T_5b762_row9_col2, #T_5b762_row9_col3, #T_5b762_row9_col4, #T_5b762_row10_col0, #T_5b762_row10_col1, #T_5b762_row10_col2, #T_5b762_row10_col3, #T_5b762_row10_col4, #T_5b762_row11_col0, #T_5b762_row11_col1, #T_5b762_row11_col2, #T_5b762_row11_col3, #T_5b762_row11_col4, #T_5b762_row12_col0, #T_5b762_row12_col1, #T_5b762_row12_col2, #T_5b762_row12_col3, #T_5b762_row12_col4, #T_5b762_row13_col0, #T_5b762_row13_col1, #T_5b762_row13_col2, #T_5b762_row13_col3, #T_5b762_row13_col4, #T_5b762_row14_col0, #T_5b762_row14_col1, #T_5b762_row14_col2, #T_5b762_row14_col3, #T_5b762_row14_col4, #T_5b762_row15_col0, #T_5b762_row15_col1, #T_5b762_row15_col2, #T_5b762_row15_col3, #T_5b762_row15_col4, #T_5b762_row16_col0, #T_5b762_row16_col1, #T_5b762_row16_col2, #T_5b762_row16_col3, #T_5b762_row16_col4, #T_5b762_row17_col0, #T_5b762_row17_col1, #T_5b762_row17_col2, #T_5b762_row17_col3, #T_5b762_row17_col4, #T_5b762_row18_col0, #T_5b762_row18_col1, #T_5b762_row18_col2, #T_5b762_row18_col3, #T_5b762_row18_col4, #T_5b762_row19_col0, #T_5b762_row19_col1, #T_5b762_row19_col2, #T_5b762_row19_col3, #T_5b762_row19_col4, #T_5b762_row20_col0, #T_5b762_row20_col1, #T_5b762_row20_col2, #T_5b762_row20_col3, #T_5b762_row20_col4, #T_5b762_row21_col0, #T_5b762_row21_col1, #T_5b762_row21_col2, #T_5b762_row21_col3, #T_5b762_row21_col4, #T_5b762_row22_col0, #T_5b762_row22_col1, #T_5b762_row22_col2, #T_5b762_row22_col3, #T_5b762_row22_col4, #T_5b762_row23_col0, #T_5b762_row23_col1, #T_5b762_row23_col2, #T_5b762_row23_col3, #T_5b762_row23_col4, #T_5b762_row24_col0, #T_5b762_row24_col1, #T_5b762_row24_col2, #T_5b762_row24_col3, #T_5b762_row24_col4, #T_5b762_row25_col0, #T_5b762_row25_col1, #T_5b762_row25_col2, #T_5b762_row25_col3, #T_5b762_row25_col4 {\n",
       "  text-align: left;\n",
       "}\n",
       "</style>\n",
       "<table id=\"T_5b762\" style=\"font-size: 14px\">\n",
       "  <thead>\n",
       "    <tr>\n",
       "      <th id=\"T_5b762_level0_col0\" class=\"col_heading level0 col0\" >Variable Group</th>\n",
       "      <th id=\"T_5b762_level0_col1\" class=\"col_heading level0 col1\" >Variable</th>\n",
       "      <th id=\"T_5b762_level0_col2\" class=\"col_heading level0 col2\" >Description</th>\n",
       "      <th id=\"T_5b762_level0_col3\" class=\"col_heading level0 col3\" >Source</th>\n",
       "      <th id=\"T_5b762_level0_col4\" class=\"col_heading level0 col4\" >Date range of data</th>\n",
       "    </tr>\n",
       "  </thead>\n",
       "  <tbody>\n",
       "    <tr>\n",
       "      <td id=\"T_5b762_row0_col0\" class=\"data row0 col0\" >Identifier</td>\n",
       "      <td id=\"T_5b762_row0_col1\" class=\"data row0 col1\" >cohortkey_e</td>\n",
       "      <td id=\"T_5b762_row0_col2\" class=\"data row0 col2\" >individual level id</td>\n",
       "      <td id=\"T_5b762_row0_col3\" class=\"data row0 col3\" >LPS</td>\n",
       "      <td id=\"T_5b762_row0_col4\" class=\"data row0 col4\" >None</td>\n",
       "    </tr>\n",
       "    <tr>\n",
       "      <td id=\"T_5b762_row1_col0\" class=\"data row1 col0\" >Geography</td>\n",
       "      <td id=\"T_5b762_row1_col1\" class=\"data row1 col1\" >address_start_date</td>\n",
       "      <td id=\"T_5b762_row1_col2\" class=\"data row1 col2\" >Address start date</td>\n",
       "      <td id=\"T_5b762_row1_col3\" class=\"data row1 col3\" >LPS</td>\n",
       "      <td id=\"T_5b762_row1_col4\" class=\"data row1 col4\" >None</td>\n",
       "    </tr>\n",
       "    <tr>\n",
       "      <td id=\"T_5b762_row2_col0\" class=\"data row2 col0\" >Geography</td>\n",
       "      <td id=\"T_5b762_row2_col1\" class=\"data row2 col1\" >address_end_date</td>\n",
       "      <td id=\"T_5b762_row2_col2\" class=\"data row2 col2\" >Address end date</td>\n",
       "      <td id=\"T_5b762_row2_col3\" class=\"data row2 col3\" >LPS</td>\n",
       "      <td id=\"T_5b762_row2_col4\" class=\"data row2 col4\" >None</td>\n",
       "    </tr>\n",
       "    <tr>\n",
       "      <td id=\"T_5b762_row3_col0\" class=\"data row3 col0\" >UK LLC</td>\n",
       "      <td id=\"T_5b762_row3_col1\" class=\"data row3 col1\" >avail_from_dt</td>\n",
       "      <td id=\"T_5b762_row3_col2\" class=\"data row3 col2\" >None</td>\n",
       "      <td id=\"T_5b762_row3_col3\" class=\"data row3 col3\" >UK LLC</td>\n",
       "      <td id=\"T_5b762_row3_col4\" class=\"data row3 col4\" >None</td>\n",
       "    </tr>\n",
       "    <tr>\n",
       "      <td id=\"T_5b762_row4_col0\" class=\"data row4 col0\" >Geography</td>\n",
       "      <td id=\"T_5b762_row4_col1\" class=\"data row4 col1\" >buf_area</td>\n",
       "      <td id=\"T_5b762_row4_col2\" class=\"data row4 col2\" >Buffer area</td>\n",
       "      <td id=\"T_5b762_row4_col3\" class=\"data row4 col3\" >University of Leicester</td>\n",
       "      <td id=\"T_5b762_row4_col4\" class=\"data row4 col4\" >None</td>\n",
       "    </tr>\n",
       "    <tr>\n",
       "      <td id=\"T_5b762_row5_col0\" class=\"data row5 col0\" >Geography</td>\n",
       "      <td id=\"T_5b762_row5_col1\" class=\"data row5 col1\" >eudist2nap</td>\n",
       "      <td id=\"T_5b762_row5_col2\" class=\"data row5 col2\" >Straight-line distance between address point and nearest OS open greenspace access point</td>\n",
       "      <td id=\"T_5b762_row5_col3\" class=\"data row5 col3\" >Ordnance Survey Open Greenspace</td>\n",
       "      <td id=\"T_5b762_row5_col4\" class=\"data row5 col4\" >None</td>\n",
       "    </tr>\n",
       "    <tr>\n",
       "      <td id=\"T_5b762_row6_col0\" class=\"data row6 col0\" >Imperviousness</td>\n",
       "      <td id=\"T_5b762_row6_col1\" class=\"data row6 col1\" >imd_mean</td>\n",
       "      <td id=\"T_5b762_row6_col2\" class=\"data row6 col2\" >Mean imperviousness degree value over each buffer zone</td>\n",
       "      <td id=\"T_5b762_row6_col3\" class=\"data row6 col3\" >Copernicus High Resolution Layer Imperviousness Degree</td>\n",
       "      <td id=\"T_5b762_row6_col4\" class=\"data row6 col4\" >None</td>\n",
       "    </tr>\n",
       "    <tr>\n",
       "      <td id=\"T_5b762_row7_col0\" class=\"data row7 col0\" >Imperviousness</td>\n",
       "      <td id=\"T_5b762_row7_col1\" class=\"data row7 col1\" >imd_pct</td>\n",
       "      <td id=\"T_5b762_row7_col2\" class=\"data row7 col2\" >Percentage of the number of pixels with a least some built up value</td>\n",
       "      <td id=\"T_5b762_row7_col3\" class=\"data row7 col3\" >Copernicus High Resolution Layer Imperviousness Degree</td>\n",
       "      <td id=\"T_5b762_row7_col4\" class=\"data row7 col4\" >None</td>\n",
       "    </tr>\n",
       "    <tr>\n",
       "      <td id=\"T_5b762_row8_col0\" class=\"data row8 col0\" >Green vegetation</td>\n",
       "      <td id=\"T_5b762_row8_col1\" class=\"data row8 col1\" >lsndvi1990</td>\n",
       "      <td id=\"T_5b762_row8_col2\" class=\"data row8 col2\" >Mean value for Landsat 1990 NDVI layer in the database calculated across buffer zone</td>\n",
       "      <td id=\"T_5b762_row8_col3\" class=\"data row8 col3\" >ESA Sentinel-2, USGS Landsat</td>\n",
       "      <td id=\"T_5b762_row8_col4\" class=\"data row8 col4\" >1990</td>\n",
       "    </tr>\n",
       "    <tr>\n",
       "      <td id=\"T_5b762_row9_col0\" class=\"data row9 col0\" >Green vegetation</td>\n",
       "      <td id=\"T_5b762_row9_col1\" class=\"data row9 col1\" >lsndvi2000</td>\n",
       "      <td id=\"T_5b762_row9_col2\" class=\"data row9 col2\" >Mean value for Landsat 2000 NDVI layer in the database calculated across buffer zone</td>\n",
       "      <td id=\"T_5b762_row9_col3\" class=\"data row9 col3\" >ESA Sentinel-2, USGS Landsat</td>\n",
       "      <td id=\"T_5b762_row9_col4\" class=\"data row9 col4\" >2000</td>\n",
       "    </tr>\n",
       "    <tr>\n",
       "      <td id=\"T_5b762_row10_col0\" class=\"data row10 col0\" >Green vegetation</td>\n",
       "      <td id=\"T_5b762_row10_col1\" class=\"data row10 col1\" >lsndvi2010</td>\n",
       "      <td id=\"T_5b762_row10_col2\" class=\"data row10 col2\" >Mean value for Landsat 2010 NDVI layer in the database calculated across buffer zone</td>\n",
       "      <td id=\"T_5b762_row10_col3\" class=\"data row10 col3\" >ESA Sentinel-2, USGS Landsat</td>\n",
       "      <td id=\"T_5b762_row10_col4\" class=\"data row10 col4\" >2010</td>\n",
       "    </tr>\n",
       "    <tr>\n",
       "      <td id=\"T_5b762_row11_col0\" class=\"data row11 col0\" >Green vegetation</td>\n",
       "      <td id=\"T_5b762_row11_col1\" class=\"data row11 col1\" >lsndvi2020</td>\n",
       "      <td id=\"T_5b762_row11_col2\" class=\"data row11 col2\" >Mean value for Landsat 2020 NDVI layer in the database calculated across buffer zone</td>\n",
       "      <td id=\"T_5b762_row11_col3\" class=\"data row11 col3\" >ESA Sentinel-2, USGS Landsat</td>\n",
       "      <td id=\"T_5b762_row11_col4\" class=\"data row11 col4\" >2020</td>\n",
       "    </tr>\n",
       "    <tr>\n",
       "      <td id=\"T_5b762_row12_col0\" class=\"data row12 col0\" >Geography</td>\n",
       "      <td id=\"T_5b762_row12_col1\" class=\"data row12 col1\" >lsoa11_e</td>\n",
       "      <td id=\"T_5b762_row12_col2\" class=\"data row12 col2\" >Lower layer super output area (LSOA) encrypted</td>\n",
       "      <td id=\"T_5b762_row12_col3\" class=\"data row12 col3\" >Office of National Statistics</td>\n",
       "      <td id=\"T_5b762_row12_col4\" class=\"data row12 col4\" >2011</td>\n",
       "    </tr>\n",
       "    <tr>\n",
       "      <td id=\"T_5b762_row13_col0\" class=\"data row13 col0\" >Geography</td>\n",
       "      <td id=\"T_5b762_row13_col1\" class=\"data row13 col1\" >matchcode</td>\n",
       "      <td id=\"T_5b762_row13_col2\" class=\"data row13 col2\" >Experian match code indicator</td>\n",
       "      <td id=\"T_5b762_row13_col3\" class=\"data row13 col3\" >University of Leicester</td>\n",
       "      <td id=\"T_5b762_row13_col4\" class=\"data row13 col4\" >None</td>\n",
       "    </tr>\n",
       "    <tr>\n",
       "      <td id=\"T_5b762_row14_col0\" class=\"data row14 col0\" >Geography</td>\n",
       "      <td id=\"T_5b762_row14_col1\" class=\"data row14 col1\" >msoa11_e</td>\n",
       "      <td id=\"T_5b762_row14_col2\" class=\"data row14 col2\" >Middle super output area (LSOA) encrypted</td>\n",
       "      <td id=\"T_5b762_row14_col3\" class=\"data row14 col3\" >Office of National Statistics</td>\n",
       "      <td id=\"T_5b762_row14_col4\" class=\"data row14 col4\" >2011</td>\n",
       "    </tr>\n",
       "    <tr>\n",
       "      <td id=\"T_5b762_row15_col0\" class=\"data row15 col0\" >Geography</td>\n",
       "      <td id=\"T_5b762_row15_col1\" class=\"data row15 col1\" >ntdist2nap</td>\n",
       "      <td id=\"T_5b762_row15_col2\" class=\"data row15 col2\" >Walking distance along the road and path network to nearest OS open greenspace access point</td>\n",
       "      <td id=\"T_5b762_row15_col3\" class=\"data row15 col3\" >Ordnance Survey Open Greenspace</td>\n",
       "      <td id=\"T_5b762_row15_col4\" class=\"data row15 col4\" >None</td>\n",
       "    </tr>\n",
       "    <tr>\n",
       "      <td id=\"T_5b762_row16_col0\" class=\"data row16 col0\" >Greenspace</td>\n",
       "      <td id=\"T_5b762_row16_col1\" class=\"data row16 col1\" >osgs_ap</td>\n",
       "      <td id=\"T_5b762_row16_col2\" class=\"data row16 col2\" >Total number of OS open greenspace access points falling within each buffer zone</td>\n",
       "      <td id=\"T_5b762_row16_col3\" class=\"data row16 col3\" >Ordnance Survey Open Greenspace</td>\n",
       "      <td id=\"T_5b762_row16_col4\" class=\"data row16 col4\" >None</td>\n",
       "    </tr>\n",
       "    <tr>\n",
       "      <td id=\"T_5b762_row17_col0\" class=\"data row17 col0\" >Greenspace</td>\n",
       "      <td id=\"T_5b762_row17_col1\" class=\"data row17 col1\" >osgs_area</td>\n",
       "      <td id=\"T_5b762_row17_col2\" class=\"data row17 col2\" >Total area of OS open greenspace falling within the buffer zone (m2)</td>\n",
       "      <td id=\"T_5b762_row17_col3\" class=\"data row17 col3\" >Ordnance Survey Open Greenspace</td>\n",
       "      <td id=\"T_5b762_row17_col4\" class=\"data row17 col4\" >None</td>\n",
       "    </tr>\n",
       "    <tr>\n",
       "      <td id=\"T_5b762_row18_col0\" class=\"data row18 col0\" >Greenspace</td>\n",
       "      <td id=\"T_5b762_row18_col1\" class=\"data row18 col1\" >osgs_cnt</td>\n",
       "      <td id=\"T_5b762_row18_col2\" class=\"data row18 col2\" >Number of OS open greenspace sites within the buffer zone</td>\n",
       "      <td id=\"T_5b762_row18_col3\" class=\"data row18 col3\" >Ordnance Survey Open Greenspace</td>\n",
       "      <td id=\"T_5b762_row18_col4\" class=\"data row18 col4\" >None</td>\n",
       "    </tr>\n",
       "    <tr>\n",
       "      <td id=\"T_5b762_row19_col0\" class=\"data row19 col0\" >Greenspace</td>\n",
       "      <td id=\"T_5b762_row19_col1\" class=\"data row19 col1\" >osgs_pct</td>\n",
       "      <td id=\"T_5b762_row19_col2\" class=\"data row19 col2\" >Percentage coverage of OS open greenspace falling within the buffer zone.</td>\n",
       "      <td id=\"T_5b762_row19_col3\" class=\"data row19 col3\" >Ordnance Survey Open Greenspace</td>\n",
       "      <td id=\"T_5b762_row19_col4\" class=\"data row19 col4\" >None</td>\n",
       "    </tr>\n",
       "    <tr>\n",
       "      <td id=\"T_5b762_row20_col0\" class=\"data row20 col0\" >Geography</td>\n",
       "      <td id=\"T_5b762_row20_col1\" class=\"data row20 col1\" >postcode_e</td>\n",
       "      <td id=\"T_5b762_row20_col2\" class=\"data row20 col2\" >Postcode encrypted</td>\n",
       "      <td id=\"T_5b762_row20_col3\" class=\"data row20 col3\" >LPS</td>\n",
       "      <td id=\"T_5b762_row20_col4\" class=\"data row20 col4\" >None</td>\n",
       "    </tr>\n",
       "    <tr>\n",
       "      <td id=\"T_5b762_row21_col0\" class=\"data row21 col0\" >Geography</td>\n",
       "      <td id=\"T_5b762_row21_col1\" class=\"data row21 col1\" >region</td>\n",
       "      <td id=\"T_5b762_row21_col2\" class=\"data row21 col2\" >UK Region </td>\n",
       "      <td id=\"T_5b762_row21_col3\" class=\"data row21 col3\" >Office of National Statistics</td>\n",
       "      <td id=\"T_5b762_row21_col4\" class=\"data row21 col4\" >2011</td>\n",
       "    </tr>\n",
       "    <tr>\n",
       "      <td id=\"T_5b762_row22_col0\" class=\"data row22 col0\" >Green vegetation</td>\n",
       "      <td id=\"T_5b762_row22_col1\" class=\"data row22 col1\" >s2ndvi2020</td>\n",
       "      <td id=\"T_5b762_row22_col2\" class=\"data row22 col2\" >Mean value for Sentinel-2 2020 NDVI layer in the database calculated across buffer zone</td>\n",
       "      <td id=\"T_5b762_row22_col3\" class=\"data row22 col3\" >ESA Sentinel-2, USGS Landsat</td>\n",
       "      <td id=\"T_5b762_row22_col4\" class=\"data row22 col4\" >2020</td>\n",
       "    </tr>\n",
       "    <tr>\n",
       "      <td id=\"T_5b762_row23_col0\" class=\"data row23 col0\" >Tree Cover</td>\n",
       "      <td id=\"T_5b762_row23_col1\" class=\"data row23 col1\" >tc_pct</td>\n",
       "      <td id=\"T_5b762_row23_col2\" class=\"data row23 col2\" >Percentage of the number of pixels with a least some tree cover</td>\n",
       "      <td id=\"T_5b762_row23_col3\" class=\"data row23 col3\" >Copernicus High Resolution Layer Tree Cover Density</td>\n",
       "      <td id=\"T_5b762_row23_col4\" class=\"data row23 col4\" >None</td>\n",
       "    </tr>\n",
       "    <tr>\n",
       "      <td id=\"T_5b762_row24_col0\" class=\"data row24 col0\" >Tree Cover</td>\n",
       "      <td id=\"T_5b762_row24_col1\" class=\"data row24 col1\" >tcd_mean</td>\n",
       "      <td id=\"T_5b762_row24_col2\" class=\"data row24 col2\" >Mean tree cover density value over each buffer zone is calculated</td>\n",
       "      <td id=\"T_5b762_row24_col3\" class=\"data row24 col3\" >Copernicus High Resolution Layer Tree Cover Density</td>\n",
       "      <td id=\"T_5b762_row24_col4\" class=\"data row24 col4\" >None</td>\n",
       "    </tr>\n",
       "    <tr>\n",
       "      <td id=\"T_5b762_row25_col0\" class=\"data row25 col0\" >Geography</td>\n",
       "      <td id=\"T_5b762_row25_col1\" class=\"data row25 col1\" >uprn_e</td>\n",
       "      <td id=\"T_5b762_row25_col2\" class=\"data row25 col2\" >Unique Property Reference Number (UPRN) encrypted</td>\n",
       "      <td id=\"T_5b762_row25_col3\" class=\"data row25 col3\" >University of Leicester</td>\n",
       "      <td id=\"T_5b762_row25_col4\" class=\"data row25 col4\" >None</td>\n",
       "    </tr>\n",
       "  </tbody>\n",
       "</table>\n"
      ],
      "text/plain": [
       "<pandas.io.formats.style.Styler at 0x2677fcac190>"
      ]
     },
     "execution_count": 81,
     "metadata": {},
     "output_type": "execute_result"
    }
   ],
   "source": [
    "DS(\"greenspace_polygon_points_500m_gb_hh\").variable_table()"
   ]
  },
  {
   "cell_type": "code",
   "execution_count": 82,
   "id": "c7204d03",
   "metadata": {
    "tags": [
     "remove-input"
    ]
   },
   "outputs": [
    {
     "data": {
      "text/markdown": [
       "### greenspace_polygon_points_500m_gb_pc"
      ],
      "text/plain": [
       "<IPython.core.display.Markdown object>"
      ]
     },
     "metadata": {},
     "output_type": "display_data"
    }
   ],
   "source": [
    "display(Markdown('### greenspace_polygon_points_500m_gb_pc'))"
   ]
  },
  {
   "cell_type": "code",
   "execution_count": 83,
   "id": "4595b1d2",
   "metadata": {
    "tags": [
     "remove-input",
     "hide-cell"
    ]
   },
   "outputs": [
    {
     "data": {
      "text/html": [
       "<style type=\"text/css\">\n",
       "#T_6b258 th {\n",
       "  text-align: left;\n",
       "}\n",
       "#T_6b258_row0_col0, #T_6b258_row0_col1, #T_6b258_row0_col2, #T_6b258_row0_col3, #T_6b258_row0_col4, #T_6b258_row1_col0, #T_6b258_row1_col1, #T_6b258_row1_col2, #T_6b258_row1_col3, #T_6b258_row1_col4, #T_6b258_row2_col0, #T_6b258_row2_col1, #T_6b258_row2_col2, #T_6b258_row2_col3, #T_6b258_row2_col4, #T_6b258_row3_col0, #T_6b258_row3_col1, #T_6b258_row3_col2, #T_6b258_row3_col3, #T_6b258_row3_col4, #T_6b258_row4_col0, #T_6b258_row4_col1, #T_6b258_row4_col2, #T_6b258_row4_col3, #T_6b258_row4_col4, #T_6b258_row5_col0, #T_6b258_row5_col1, #T_6b258_row5_col2, #T_6b258_row5_col3, #T_6b258_row5_col4, #T_6b258_row6_col0, #T_6b258_row6_col1, #T_6b258_row6_col2, #T_6b258_row6_col3, #T_6b258_row6_col4, #T_6b258_row7_col0, #T_6b258_row7_col1, #T_6b258_row7_col2, #T_6b258_row7_col3, #T_6b258_row7_col4, #T_6b258_row8_col0, #T_6b258_row8_col1, #T_6b258_row8_col2, #T_6b258_row8_col3, #T_6b258_row8_col4, #T_6b258_row9_col0, #T_6b258_row9_col1, #T_6b258_row9_col2, #T_6b258_row9_col3, #T_6b258_row9_col4, #T_6b258_row10_col0, #T_6b258_row10_col1, #T_6b258_row10_col2, #T_6b258_row10_col3, #T_6b258_row10_col4, #T_6b258_row11_col0, #T_6b258_row11_col1, #T_6b258_row11_col2, #T_6b258_row11_col3, #T_6b258_row11_col4, #T_6b258_row12_col0, #T_6b258_row12_col1, #T_6b258_row12_col2, #T_6b258_row12_col3, #T_6b258_row12_col4, #T_6b258_row13_col0, #T_6b258_row13_col1, #T_6b258_row13_col2, #T_6b258_row13_col3, #T_6b258_row13_col4, #T_6b258_row14_col0, #T_6b258_row14_col1, #T_6b258_row14_col2, #T_6b258_row14_col3, #T_6b258_row14_col4, #T_6b258_row15_col0, #T_6b258_row15_col1, #T_6b258_row15_col2, #T_6b258_row15_col3, #T_6b258_row15_col4, #T_6b258_row16_col0, #T_6b258_row16_col1, #T_6b258_row16_col2, #T_6b258_row16_col3, #T_6b258_row16_col4, #T_6b258_row17_col0, #T_6b258_row17_col1, #T_6b258_row17_col2, #T_6b258_row17_col3, #T_6b258_row17_col4, #T_6b258_row18_col0, #T_6b258_row18_col1, #T_6b258_row18_col2, #T_6b258_row18_col3, #T_6b258_row18_col4, #T_6b258_row19_col0, #T_6b258_row19_col1, #T_6b258_row19_col2, #T_6b258_row19_col3, #T_6b258_row19_col4, #T_6b258_row20_col0, #T_6b258_row20_col1, #T_6b258_row20_col2, #T_6b258_row20_col3, #T_6b258_row20_col4, #T_6b258_row21_col0, #T_6b258_row21_col1, #T_6b258_row21_col2, #T_6b258_row21_col3, #T_6b258_row21_col4, #T_6b258_row22_col0, #T_6b258_row22_col1, #T_6b258_row22_col2, #T_6b258_row22_col3, #T_6b258_row22_col4, #T_6b258_row23_col0, #T_6b258_row23_col1, #T_6b258_row23_col2, #T_6b258_row23_col3, #T_6b258_row23_col4, #T_6b258_row24_col0, #T_6b258_row24_col1, #T_6b258_row24_col2, #T_6b258_row24_col3, #T_6b258_row24_col4, #T_6b258_row25_col0, #T_6b258_row25_col1, #T_6b258_row25_col2, #T_6b258_row25_col3, #T_6b258_row25_col4 {\n",
       "  text-align: left;\n",
       "}\n",
       "</style>\n",
       "<table id=\"T_6b258\" style=\"font-size: 14px\">\n",
       "  <thead>\n",
       "    <tr>\n",
       "      <th id=\"T_6b258_level0_col0\" class=\"col_heading level0 col0\" >Variable Group</th>\n",
       "      <th id=\"T_6b258_level0_col1\" class=\"col_heading level0 col1\" >Variable</th>\n",
       "      <th id=\"T_6b258_level0_col2\" class=\"col_heading level0 col2\" >Description</th>\n",
       "      <th id=\"T_6b258_level0_col3\" class=\"col_heading level0 col3\" >Source</th>\n",
       "      <th id=\"T_6b258_level0_col4\" class=\"col_heading level0 col4\" >Date range of data</th>\n",
       "    </tr>\n",
       "  </thead>\n",
       "  <tbody>\n",
       "    <tr>\n",
       "      <td id=\"T_6b258_row0_col0\" class=\"data row0 col0\" >Identifier</td>\n",
       "      <td id=\"T_6b258_row0_col1\" class=\"data row0 col1\" >cohortkey_e</td>\n",
       "      <td id=\"T_6b258_row0_col2\" class=\"data row0 col2\" >individual level id</td>\n",
       "      <td id=\"T_6b258_row0_col3\" class=\"data row0 col3\" >LPS</td>\n",
       "      <td id=\"T_6b258_row0_col4\" class=\"data row0 col4\" >None</td>\n",
       "    </tr>\n",
       "    <tr>\n",
       "      <td id=\"T_6b258_row1_col0\" class=\"data row1 col0\" >Geography</td>\n",
       "      <td id=\"T_6b258_row1_col1\" class=\"data row1 col1\" >address_start_date</td>\n",
       "      <td id=\"T_6b258_row1_col2\" class=\"data row1 col2\" >Address start date</td>\n",
       "      <td id=\"T_6b258_row1_col3\" class=\"data row1 col3\" >LPS</td>\n",
       "      <td id=\"T_6b258_row1_col4\" class=\"data row1 col4\" >None</td>\n",
       "    </tr>\n",
       "    <tr>\n",
       "      <td id=\"T_6b258_row2_col0\" class=\"data row2 col0\" >Geography</td>\n",
       "      <td id=\"T_6b258_row2_col1\" class=\"data row2 col1\" >address_end_date</td>\n",
       "      <td id=\"T_6b258_row2_col2\" class=\"data row2 col2\" >Address end date</td>\n",
       "      <td id=\"T_6b258_row2_col3\" class=\"data row2 col3\" >LPS</td>\n",
       "      <td id=\"T_6b258_row2_col4\" class=\"data row2 col4\" >None</td>\n",
       "    </tr>\n",
       "    <tr>\n",
       "      <td id=\"T_6b258_row3_col0\" class=\"data row3 col0\" >UK LLC</td>\n",
       "      <td id=\"T_6b258_row3_col1\" class=\"data row3 col1\" >avail_from_dt</td>\n",
       "      <td id=\"T_6b258_row3_col2\" class=\"data row3 col2\" >None</td>\n",
       "      <td id=\"T_6b258_row3_col3\" class=\"data row3 col3\" >UK LLC</td>\n",
       "      <td id=\"T_6b258_row3_col4\" class=\"data row3 col4\" >None</td>\n",
       "    </tr>\n",
       "    <tr>\n",
       "      <td id=\"T_6b258_row4_col0\" class=\"data row4 col0\" >Geography</td>\n",
       "      <td id=\"T_6b258_row4_col1\" class=\"data row4 col1\" >buf_area</td>\n",
       "      <td id=\"T_6b258_row4_col2\" class=\"data row4 col2\" >Buffer area</td>\n",
       "      <td id=\"T_6b258_row4_col3\" class=\"data row4 col3\" >University of Leicester</td>\n",
       "      <td id=\"T_6b258_row4_col4\" class=\"data row4 col4\" >None</td>\n",
       "    </tr>\n",
       "    <tr>\n",
       "      <td id=\"T_6b258_row5_col0\" class=\"data row5 col0\" >Geography</td>\n",
       "      <td id=\"T_6b258_row5_col1\" class=\"data row5 col1\" >eudist2nap</td>\n",
       "      <td id=\"T_6b258_row5_col2\" class=\"data row5 col2\" >Straight-line distance between address point and nearest OS open greenspace access point</td>\n",
       "      <td id=\"T_6b258_row5_col3\" class=\"data row5 col3\" >Ordnance Survey Open Greenspace</td>\n",
       "      <td id=\"T_6b258_row5_col4\" class=\"data row5 col4\" >None</td>\n",
       "    </tr>\n",
       "    <tr>\n",
       "      <td id=\"T_6b258_row6_col0\" class=\"data row6 col0\" >Imperviousness</td>\n",
       "      <td id=\"T_6b258_row6_col1\" class=\"data row6 col1\" >imd_mean</td>\n",
       "      <td id=\"T_6b258_row6_col2\" class=\"data row6 col2\" >Mean imperviousness degree value over each buffer zone</td>\n",
       "      <td id=\"T_6b258_row6_col3\" class=\"data row6 col3\" >Copernicus High Resolution Layer Imperviousness Degree</td>\n",
       "      <td id=\"T_6b258_row6_col4\" class=\"data row6 col4\" >None</td>\n",
       "    </tr>\n",
       "    <tr>\n",
       "      <td id=\"T_6b258_row7_col0\" class=\"data row7 col0\" >Imperviousness</td>\n",
       "      <td id=\"T_6b258_row7_col1\" class=\"data row7 col1\" >imd_pct</td>\n",
       "      <td id=\"T_6b258_row7_col2\" class=\"data row7 col2\" >Percentage of the number of pixels with a least some built up value</td>\n",
       "      <td id=\"T_6b258_row7_col3\" class=\"data row7 col3\" >Copernicus High Resolution Layer Imperviousness Degree</td>\n",
       "      <td id=\"T_6b258_row7_col4\" class=\"data row7 col4\" >None</td>\n",
       "    </tr>\n",
       "    <tr>\n",
       "      <td id=\"T_6b258_row8_col0\" class=\"data row8 col0\" >Green vegetation</td>\n",
       "      <td id=\"T_6b258_row8_col1\" class=\"data row8 col1\" >lsndvi1990</td>\n",
       "      <td id=\"T_6b258_row8_col2\" class=\"data row8 col2\" >Mean value for Landsat 1990 NDVI layer in the database calculated across buffer zone</td>\n",
       "      <td id=\"T_6b258_row8_col3\" class=\"data row8 col3\" >ESA Sentinel-2, USGS Landsat</td>\n",
       "      <td id=\"T_6b258_row8_col4\" class=\"data row8 col4\" >1990</td>\n",
       "    </tr>\n",
       "    <tr>\n",
       "      <td id=\"T_6b258_row9_col0\" class=\"data row9 col0\" >Green vegetation</td>\n",
       "      <td id=\"T_6b258_row9_col1\" class=\"data row9 col1\" >lsndvi2000</td>\n",
       "      <td id=\"T_6b258_row9_col2\" class=\"data row9 col2\" >Mean value for Landsat 2000 NDVI layer in the database calculated across buffer zone</td>\n",
       "      <td id=\"T_6b258_row9_col3\" class=\"data row9 col3\" >ESA Sentinel-2, USGS Landsat</td>\n",
       "      <td id=\"T_6b258_row9_col4\" class=\"data row9 col4\" >2000</td>\n",
       "    </tr>\n",
       "    <tr>\n",
       "      <td id=\"T_6b258_row10_col0\" class=\"data row10 col0\" >Green vegetation</td>\n",
       "      <td id=\"T_6b258_row10_col1\" class=\"data row10 col1\" >lsndvi2010</td>\n",
       "      <td id=\"T_6b258_row10_col2\" class=\"data row10 col2\" >Mean value for Landsat 2010 NDVI layer in the database calculated across buffer zone</td>\n",
       "      <td id=\"T_6b258_row10_col3\" class=\"data row10 col3\" >ESA Sentinel-2, USGS Landsat</td>\n",
       "      <td id=\"T_6b258_row10_col4\" class=\"data row10 col4\" >2010</td>\n",
       "    </tr>\n",
       "    <tr>\n",
       "      <td id=\"T_6b258_row11_col0\" class=\"data row11 col0\" >Green vegetation</td>\n",
       "      <td id=\"T_6b258_row11_col1\" class=\"data row11 col1\" >lsndvi2020</td>\n",
       "      <td id=\"T_6b258_row11_col2\" class=\"data row11 col2\" >Mean value for Landsat 2020 NDVI layer in the database calculated across buffer zone</td>\n",
       "      <td id=\"T_6b258_row11_col3\" class=\"data row11 col3\" >ESA Sentinel-2, USGS Landsat</td>\n",
       "      <td id=\"T_6b258_row11_col4\" class=\"data row11 col4\" >2020</td>\n",
       "    </tr>\n",
       "    <tr>\n",
       "      <td id=\"T_6b258_row12_col0\" class=\"data row12 col0\" >Geography</td>\n",
       "      <td id=\"T_6b258_row12_col1\" class=\"data row12 col1\" >lsoa11_e</td>\n",
       "      <td id=\"T_6b258_row12_col2\" class=\"data row12 col2\" >Lower layer super output area (LSOA) encrypted</td>\n",
       "      <td id=\"T_6b258_row12_col3\" class=\"data row12 col3\" >Office of National Statistics</td>\n",
       "      <td id=\"T_6b258_row12_col4\" class=\"data row12 col4\" >2011</td>\n",
       "    </tr>\n",
       "    <tr>\n",
       "      <td id=\"T_6b258_row13_col0\" class=\"data row13 col0\" >Geography</td>\n",
       "      <td id=\"T_6b258_row13_col1\" class=\"data row13 col1\" >matchcode</td>\n",
       "      <td id=\"T_6b258_row13_col2\" class=\"data row13 col2\" >Experian match code indicator</td>\n",
       "      <td id=\"T_6b258_row13_col3\" class=\"data row13 col3\" >University of Leicester</td>\n",
       "      <td id=\"T_6b258_row13_col4\" class=\"data row13 col4\" >None</td>\n",
       "    </tr>\n",
       "    <tr>\n",
       "      <td id=\"T_6b258_row14_col0\" class=\"data row14 col0\" >Geography</td>\n",
       "      <td id=\"T_6b258_row14_col1\" class=\"data row14 col1\" >msoa11_e</td>\n",
       "      <td id=\"T_6b258_row14_col2\" class=\"data row14 col2\" >Middle super output area (LSOA) encrypted</td>\n",
       "      <td id=\"T_6b258_row14_col3\" class=\"data row14 col3\" >Office of National Statistics</td>\n",
       "      <td id=\"T_6b258_row14_col4\" class=\"data row14 col4\" >2011</td>\n",
       "    </tr>\n",
       "    <tr>\n",
       "      <td id=\"T_6b258_row15_col0\" class=\"data row15 col0\" >Geography</td>\n",
       "      <td id=\"T_6b258_row15_col1\" class=\"data row15 col1\" >ntdist2nap</td>\n",
       "      <td id=\"T_6b258_row15_col2\" class=\"data row15 col2\" >Walking distance along the road and path network to nearest OS open greenspace access point</td>\n",
       "      <td id=\"T_6b258_row15_col3\" class=\"data row15 col3\" >Ordnance Survey Open Greenspace</td>\n",
       "      <td id=\"T_6b258_row15_col4\" class=\"data row15 col4\" >None</td>\n",
       "    </tr>\n",
       "    <tr>\n",
       "      <td id=\"T_6b258_row16_col0\" class=\"data row16 col0\" >Greenspace</td>\n",
       "      <td id=\"T_6b258_row16_col1\" class=\"data row16 col1\" >osgs_ap</td>\n",
       "      <td id=\"T_6b258_row16_col2\" class=\"data row16 col2\" >Total number of OS open greenspace access points falling within each buffer zone</td>\n",
       "      <td id=\"T_6b258_row16_col3\" class=\"data row16 col3\" >Ordnance Survey Open Greenspace</td>\n",
       "      <td id=\"T_6b258_row16_col4\" class=\"data row16 col4\" >None</td>\n",
       "    </tr>\n",
       "    <tr>\n",
       "      <td id=\"T_6b258_row17_col0\" class=\"data row17 col0\" >Greenspace</td>\n",
       "      <td id=\"T_6b258_row17_col1\" class=\"data row17 col1\" >osgs_area</td>\n",
       "      <td id=\"T_6b258_row17_col2\" class=\"data row17 col2\" >Total area of OS open greenspace falling within the buffer zone (m2)</td>\n",
       "      <td id=\"T_6b258_row17_col3\" class=\"data row17 col3\" >Ordnance Survey Open Greenspace</td>\n",
       "      <td id=\"T_6b258_row17_col4\" class=\"data row17 col4\" >None</td>\n",
       "    </tr>\n",
       "    <tr>\n",
       "      <td id=\"T_6b258_row18_col0\" class=\"data row18 col0\" >Greenspace</td>\n",
       "      <td id=\"T_6b258_row18_col1\" class=\"data row18 col1\" >osgs_cnt</td>\n",
       "      <td id=\"T_6b258_row18_col2\" class=\"data row18 col2\" >Number of OS open greenspace sites within the buffer zone</td>\n",
       "      <td id=\"T_6b258_row18_col3\" class=\"data row18 col3\" >Ordnance Survey Open Greenspace</td>\n",
       "      <td id=\"T_6b258_row18_col4\" class=\"data row18 col4\" >None</td>\n",
       "    </tr>\n",
       "    <tr>\n",
       "      <td id=\"T_6b258_row19_col0\" class=\"data row19 col0\" >Greenspace</td>\n",
       "      <td id=\"T_6b258_row19_col1\" class=\"data row19 col1\" >osgs_pct</td>\n",
       "      <td id=\"T_6b258_row19_col2\" class=\"data row19 col2\" >Percentage coverage of OS open greenspace falling within the buffer zone.</td>\n",
       "      <td id=\"T_6b258_row19_col3\" class=\"data row19 col3\" >Ordnance Survey Open Greenspace</td>\n",
       "      <td id=\"T_6b258_row19_col4\" class=\"data row19 col4\" >None</td>\n",
       "    </tr>\n",
       "    <tr>\n",
       "      <td id=\"T_6b258_row20_col0\" class=\"data row20 col0\" >Geography</td>\n",
       "      <td id=\"T_6b258_row20_col1\" class=\"data row20 col1\" >postcode_e</td>\n",
       "      <td id=\"T_6b258_row20_col2\" class=\"data row20 col2\" >Postcode encrypted</td>\n",
       "      <td id=\"T_6b258_row20_col3\" class=\"data row20 col3\" >LPS</td>\n",
       "      <td id=\"T_6b258_row20_col4\" class=\"data row20 col4\" >None</td>\n",
       "    </tr>\n",
       "    <tr>\n",
       "      <td id=\"T_6b258_row21_col0\" class=\"data row21 col0\" >Geography</td>\n",
       "      <td id=\"T_6b258_row21_col1\" class=\"data row21 col1\" >region</td>\n",
       "      <td id=\"T_6b258_row21_col2\" class=\"data row21 col2\" >UK Region </td>\n",
       "      <td id=\"T_6b258_row21_col3\" class=\"data row21 col3\" >Office of National Statistics</td>\n",
       "      <td id=\"T_6b258_row21_col4\" class=\"data row21 col4\" >2011</td>\n",
       "    </tr>\n",
       "    <tr>\n",
       "      <td id=\"T_6b258_row22_col0\" class=\"data row22 col0\" >Green vegetation</td>\n",
       "      <td id=\"T_6b258_row22_col1\" class=\"data row22 col1\" >s2ndvi2020</td>\n",
       "      <td id=\"T_6b258_row22_col2\" class=\"data row22 col2\" >Mean value for Sentinel-2 2020 NDVI layer in the database calculated across buffer zone</td>\n",
       "      <td id=\"T_6b258_row22_col3\" class=\"data row22 col3\" >ESA Sentinel-2, USGS Landsat</td>\n",
       "      <td id=\"T_6b258_row22_col4\" class=\"data row22 col4\" >2020</td>\n",
       "    </tr>\n",
       "    <tr>\n",
       "      <td id=\"T_6b258_row23_col0\" class=\"data row23 col0\" >Tree Cover</td>\n",
       "      <td id=\"T_6b258_row23_col1\" class=\"data row23 col1\" >tc_pct</td>\n",
       "      <td id=\"T_6b258_row23_col2\" class=\"data row23 col2\" >Percentage of the number of pixels with a least some tree cover</td>\n",
       "      <td id=\"T_6b258_row23_col3\" class=\"data row23 col3\" >Copernicus High Resolution Layer Tree Cover Density</td>\n",
       "      <td id=\"T_6b258_row23_col4\" class=\"data row23 col4\" >None</td>\n",
       "    </tr>\n",
       "    <tr>\n",
       "      <td id=\"T_6b258_row24_col0\" class=\"data row24 col0\" >Tree Cover</td>\n",
       "      <td id=\"T_6b258_row24_col1\" class=\"data row24 col1\" >tcd_mean</td>\n",
       "      <td id=\"T_6b258_row24_col2\" class=\"data row24 col2\" >Mean tree cover density value over each buffer zone is calculated</td>\n",
       "      <td id=\"T_6b258_row24_col3\" class=\"data row24 col3\" >Copernicus High Resolution Layer Tree Cover Density</td>\n",
       "      <td id=\"T_6b258_row24_col4\" class=\"data row24 col4\" >None</td>\n",
       "    </tr>\n",
       "    <tr>\n",
       "      <td id=\"T_6b258_row25_col0\" class=\"data row25 col0\" >Geography</td>\n",
       "      <td id=\"T_6b258_row25_col1\" class=\"data row25 col1\" >uprn_e</td>\n",
       "      <td id=\"T_6b258_row25_col2\" class=\"data row25 col2\" >Unique Property Reference Number (UPRN) encrypted</td>\n",
       "      <td id=\"T_6b258_row25_col3\" class=\"data row25 col3\" >University of Leicester</td>\n",
       "      <td id=\"T_6b258_row25_col4\" class=\"data row25 col4\" >None</td>\n",
       "    </tr>\n",
       "  </tbody>\n",
       "</table>\n"
      ],
      "text/plain": [
       "<pandas.io.formats.style.Styler at 0x2677fdc4050>"
      ]
     },
     "execution_count": 83,
     "metadata": {},
     "output_type": "execute_result"
    }
   ],
   "source": [
    "DS(\"greenspace_polygon_points_500m_gb_pc\").variable_table()"
   ]
  },
  {
   "cell_type": "markdown",
   "id": "4705ea18",
   "metadata": {},
   "source": [
    "## 3. Metrics"
   ]
  },
  {
   "cell_type": "code",
   "execution_count": 84,
   "id": "66756281",
   "metadata": {
    "tags": [
     "remove-input"
    ]
   },
   "outputs": [
    {
     "data": {
      "text/markdown": [
       "TBC"
      ],
      "text/plain": [
       "<IPython.core.display.Markdown object>"
      ]
     },
     "metadata": {},
     "output_type": "display_data"
    }
   ],
   "source": [
    "display(Markdown('TBC'))"
   ]
  },
  {
   "cell_type": "markdown",
   "id": "992091a7",
   "metadata": {},
   "source": [
    "## 4. Version History"
   ]
  },
  {
   "cell_type": "code",
   "execution_count": 85,
   "id": "69571d0d",
   "metadata": {
    "tags": [
     "remove-input"
    ]
   },
   "outputs": [
    {
     "data": {
      "text/markdown": [
       "TBC"
      ],
      "text/plain": [
       "<IPython.core.display.Markdown object>"
      ]
     },
     "metadata": {},
     "output_type": "display_data"
    }
   ],
   "source": [
    "display(Markdown('TBC'))"
   ]
  },
  {
   "cell_type": "markdown",
   "id": "0acfb062",
   "metadata": {},
   "source": [
    "## 5. Documentation"
   ]
  },
  {
   "cell_type": "code",
   "execution_count": 86,
   "id": "b5a900e4",
   "metadata": {
    "tags": [
     "remove-input"
    ]
   },
   "outputs": [
    {
     "data": {
      "text/markdown": [
       "We are currently building a documentation storage system which will host useful documents related to datasets and data owners. We will surface these documents on Guidebook."
      ],
      "text/plain": [
       "<IPython.core.display.Markdown object>"
      ]
     },
     "metadata": {},
     "output_type": "display_data"
    }
   ],
   "source": [
    "DS(\"townsend_england_wales\").documentation()"
   ]
  },
  {
   "cell_type": "markdown",
   "id": "1cf8b659",
   "metadata": {},
   "source": [
    "## 5. Useful Syntax"
   ]
  },
  {
   "cell_type": "code",
   "execution_count": 87,
   "id": "c1392740",
   "metadata": {
    "tags": [
     "remove-input"
    ]
   },
   "outputs": [
    {
     "data": {
      "text/markdown": [
       "Below we will include syntax that may be helpful to other researchers in the UK LLC TRE. For longer scripts, we will include a snippet of the code plus a link to the [UK LLC GitHub](https://github.com/UKLLC) repository where you can find the full scripts."
      ],
      "text/plain": [
       "<IPython.core.display.Markdown object>"
      ]
     },
     "metadata": {},
     "output_type": "display_data"
    }
   ],
   "source": [
    "DS(\"townsend_england_wales\").useful_syntax()"
   ]
  }
 ],
 "metadata": {
  "kernelspec": {
   "display_name": "jupbook",
   "language": "python",
   "name": "python3"
  },
  "language_info": {
   "codemirror_mode": {
    "name": "ipython",
    "version": 3
   },
   "file_extension": ".py",
   "mimetype": "text/x-python",
   "name": "python",
   "nbconvert_exporter": "python",
   "pygments_lexer": "ipython3",
   "version": "3.13.2"
  },
  "mystnb": {
   "code_prompt_hide": "Hide Information",
   "code_prompt_show": "Show Information"
  }
 },
 "nbformat": 4,
 "nbformat_minor": 5
}
