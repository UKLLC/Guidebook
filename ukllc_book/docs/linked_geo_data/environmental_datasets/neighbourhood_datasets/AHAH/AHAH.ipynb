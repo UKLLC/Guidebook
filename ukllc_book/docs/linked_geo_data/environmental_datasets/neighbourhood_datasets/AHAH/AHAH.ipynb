{
 "cells": [
  {
   "cell_type": "markdown",
   "id": "ec4bdf5d",
   "metadata": {},
   "source": [
    "# Access to Healthy Assets and Hazards (AHAH) "
   ]
  },
  {
   "cell_type": "code",
   "execution_count": 1,
   "id": "0fe3ef05",
   "metadata": {
    "tags": [
     "remove-input"
    ]
   },
   "outputs": [
    {
     "data": {
      "text/markdown": [
       ">Last modified: 12 Sep 2025"
      ],
      "text/plain": [
       "<IPython.core.display.Markdown object>"
      ]
     },
     "metadata": {},
     "output_type": "display_data"
    }
   ],
   "source": [
    "from IPython.display import display, Markdown\n",
    "import sys\n",
    "import os\n",
    "sys.path.append(os.path.abspath('../../../../scripts/'))\n",
    "from data_doc_helper import PlaceDataSet as DS, last_modified\n",
    "last_modified()\n"
   ]
  },
  {
   "cell_type": "code",
   "execution_count": 2,
   "id": "389cd087",
   "metadata": {
    "tags": [
     "remove-input"
    ]
   },
   "outputs": [
    {
     "data": {
      "text/markdown": [
       "<div style=\"background-color: rgba(0, 178, 169, 0.3); padding: 5px; border-radius: 5px;\"><strong>The Access to Healthy Assets and Hazards dataset is a multi-dimensional index which describes accessibility to certain environmental features relating to health and wellbeing.</strong></div>"
      ],
      "text/plain": [
       "<IPython.core.display.Markdown object>"
      ]
     },
     "metadata": {},
     "output_type": "display_data"
    }
   ],
   "source": [
    "display(Markdown('<div style=\"background-color: rgba(0, 178, 169, 0.3); padding: 5px; border-radius: 5px;\"><strong>The Access to Healthy Assets and Hazards dataset is a multi-dimensional index which describes accessibility to certain environmental features relating to health and wellbeing.</strong></div>'))"
   ]
  },
  {
   "cell_type": "code",
   "execution_count": 3,
   "id": "70a8c233",
   "metadata": {
    "tags": [
     "remove-input"
    ]
   },
   "outputs": [
    {
     "data": {
      "text/markdown": [
       "<div style=\"background-color: rgb(229, 106, 84, 0.3); padding: 5px; border-radius: 5px;\"><strong>More information about this dataset is available <a href=\"Understanding_AHAH.html\" target=\"_blank\">here.</a></strong></div>"
      ],
      "text/plain": [
       "<IPython.core.display.Markdown object>"
      ]
     },
     "metadata": {},
     "output_type": "display_data"
    }
   ],
   "source": [
    "display(Markdown('<div style=\"background-color: rgb(229, 106, 84, 0.3); padding: 5px; border-radius: 5px;\"><strong>More information about this dataset is available <a href=\"Understanding_AHAH.html\" target=\"_blank\">here.</a></strong></div>'))"
   ]
  },
  {
   "cell_type": "markdown",
   "id": "f5e5d145",
   "metadata": {},
   "source": [
    "AHAH (the index of ‘Access to Health Assets and Hazards’) is a multi-dimensional index developed by the [Geographic Data Service](https://data.geods.ac.uk/dataset/access-to-healthy-assets-hazards-ahah) for Great Britain measuring how ‘healthy’ neighbourhoods are. The AHAH index combines indicators under four different domains of accessibility: Retail environment (access to fast food outlets, pubs, tobacconists, gambling outlets), Health services (access to GPs, hospitals, pharmacies, dentists, leisure services), Physical environment (Blue Space, Green Space - Passive), and Air quality (NO₂, PM10, SO₂). Measurement data and deciles for the overall index, 4 domains and 14 inputs are produced for Lower Level Super Output Areas (LSOAs) for England and Wales, and Data Zones (DZ) for Scotland. Distances shown for some of the measurement data are means of the time (in minutes) for driving by car along the established road network, between the population weighted centroid of each postcode contained within each statistical geographical unit, and the actual location of the outlet/service. \n",
    "\n",
    "## 1. Summary"
   ]
  },
  {
   "cell_type": "code",
   "execution_count": 4,
   "id": "6b0b317a",
   "metadata": {
    "tags": [
     "remove-input"
    ]
   },
   "outputs": [
    {
     "data": {
      "text/markdown": [
       "### ahah_geo_indicators_england_wales"
      ],
      "text/plain": [
       "<IPython.core.display.Markdown object>"
      ]
     },
     "metadata": {},
     "output_type": "display_data"
    }
   ],
   "source": [
    "display(Markdown('### ahah_geo_indicators_england_wales'))"
   ]
  },
  {
   "cell_type": "code",
   "execution_count": 5,
   "id": "a0e5b8ea",
   "metadata": {
    "tags": [
     "remove-input",
     "hide-cell"
    ]
   },
   "outputs": [
    {
     "data": {
      "text/html": [
       "<style type=\"text/css\">\n",
       "#T_74067 th {\n",
       "  text-align: left;\n",
       "}\n",
       "#T_74067_row0_col0, #T_74067_row0_col1, #T_74067_row1_col0, #T_74067_row1_col1, #T_74067_row2_col0, #T_74067_row2_col1, #T_74067_row3_col0, #T_74067_row3_col1, #T_74067_row4_col0, #T_74067_row4_col1, #T_74067_row5_col0, #T_74067_row5_col1, #T_74067_row6_col0, #T_74067_row6_col1, #T_74067_row7_col0, #T_74067_row7_col1, #T_74067_row8_col0, #T_74067_row8_col1, #T_74067_row9_col0, #T_74067_row9_col1, #T_74067_row10_col0, #T_74067_row10_col1, #T_74067_row11_col0, #T_74067_row11_col1, #T_74067_row12_col0, #T_74067_row12_col1, #T_74067_row13_col0, #T_74067_row13_col1, #T_74067_row14_col0, #T_74067_row14_col1 {\n",
       "  text-align: left;\n",
       "}\n",
       "</style>\n",
       "<table id=\"T_74067\" style=\"font-size: 14px\">\n",
       "  <thead>\n",
       "    <tr>\n",
       "      <th id=\"T_74067_level0_col0\" class=\"col_heading level0 col0\" >Dataset Descriptor</th>\n",
       "      <th id=\"T_74067_level0_col1\" class=\"col_heading level0 col1\" >Dataset-specific Information</th>\n",
       "    </tr>\n",
       "  </thead>\n",
       "  <tbody>\n",
       "    <tr>\n",
       "      <td id=\"T_74067_row0_col0\" class=\"data row0 col0\" >Name of Dataset in TRE</td>\n",
       "      <td id=\"T_74067_row0_col1\" class=\"data row0 col1\" >PLACE_ahah_geo_indicators_england_wales</td>\n",
       "    </tr>\n",
       "    <tr>\n",
       "      <td id=\"T_74067_row1_col0\" class=\"data row1 col0\" >Citation (APA)</td>\n",
       "      <td id=\"T_74067_row1_col1\" class=\"data row1 col1\" >Geographic Data Service, Smart Data Research UK. (2025). <i>Place based data: AHAH Geo Indicators England Wales.</i> UK Longitudinal Linkage Collaboration (UK LLC).  <a href=\"https://doi.org/10.71760/ukllc-dataset-00430-01\" rel=\"noopener noreferrer\" target=\"_blank\">https://doi.org/10.71760/ukllc-dataset-00430-01</a></td>\n",
       "    </tr>\n",
       "    <tr>\n",
       "      <td id=\"T_74067_row2_col0\" class=\"data row2 col0\" >Download Citation</td>\n",
       "      <td id=\"T_74067_row2_col1\" class=\"data row2 col1\" > <a href=\"https://api.datacite.org/application/vnd.citationstyles.csl+json/10.71760/ukllc-dataset-00430-01\" rel=\"noopener noreferrer\" target=\"_blank\">Citeproc JSON</a>&nbsp;&nbsp;&nbsp;&nbsp; <a href=\"https://api.datacite.org/application/x-bibtex/10.71760/ukllc-dataset-00430-01\" rel=\"noopener noreferrer\" target=\"_blank\">BibTeX</a>&nbsp;&nbsp;&nbsp;&nbsp; <a href=\"https://api.datacite.org/application/x-research-info-systems/10.71760/ukllc-dataset-00430-01\" rel=\"noopener noreferrer\" target=\"_blank\">RIS</a></td>\n",
       "    </tr>\n",
       "    <tr>\n",
       "      <td id=\"T_74067_row3_col0\" class=\"data row3 col0\" >Owner</td>\n",
       "      <td id=\"T_74067_row3_col1\" class=\"data row3 col1\" >Geographic Data Service, Smart Data Research UK</td>\n",
       "    </tr>\n",
       "    <tr>\n",
       "      <td id=\"T_74067_row4_col0\" class=\"data row4 col0\" >Authors</td>\n",
       "      <td id=\"T_74067_row4_col1\" class=\"data row4 col1\" >Konstantinos Daras, Alec Davies, Mark Green, Alex  Singleton and Benjamin Barr (University of Liverpool)</td>\n",
       "    </tr>\n",
       "    <tr>\n",
       "      <td id=\"T_74067_row5_col0\" class=\"data row5 col0\" >Temporal Coverage</td>\n",
       "      <td id=\"T_74067_row5_col1\" class=\"data row5 col1\" >01/2019 - 02/2022</td>\n",
       "    </tr>\n",
       "    <tr>\n",
       "      <td id=\"T_74067_row6_col0\" class=\"data row6 col0\" >Geographical Coverage</td>\n",
       "      <td id=\"T_74067_row6_col1\" class=\"data row6 col1\" >England and Wales</td>\n",
       "    </tr>\n",
       "    <tr>\n",
       "      <td id=\"T_74067_row7_col0\" class=\"data row7 col0\" >Participant Count</td>\n",
       "      <td id=\"T_74067_row7_col1\" class=\"data row7 col1\" >None</td>\n",
       "    </tr>\n",
       "    <tr>\n",
       "      <td id=\"T_74067_row8_col0\" class=\"data row8 col0\" >Number of Variables</td>\n",
       "      <td id=\"T_74067_row8_col1\" class=\"data row8 col1\" >22</td>\n",
       "    </tr>\n",
       "    <tr>\n",
       "      <td id=\"T_74067_row9_col0\" class=\"data row9 col0\" >Number of Observations</td>\n",
       "      <td id=\"T_74067_row9_col1\" class=\"data row9 col1\" >34753</td>\n",
       "    </tr>\n",
       "    <tr>\n",
       "      <td id=\"T_74067_row10_col0\" class=\"data row10 col0\" >Key Link</td>\n",
       "      <td id=\"T_74067_row10_col1\" class=\"data row10 col1\" > <a href=\" https://data.geods.ac.uk/dataset/access-to-healthy-assets-hazards-ahah\" rel=\"noopener noreferrer\" target=\"_blank\"> https://data.geods.ac.uk/dataset/access-to-healthy-assets-hazards-ahah</a></td>\n",
       "    </tr>\n",
       "    <tr>\n",
       "      <td id=\"T_74067_row11_col0\" class=\"data row11 col0\" >Keywords</td>\n",
       "      <td id=\"T_74067_row11_col1\" class=\"data row11 col1\" >environmental,geospatial,health,retail,air pollution,greenspace</td>\n",
       "    </tr>\n",
       "    <tr>\n",
       "      <td id=\"T_74067_row12_col0\" class=\"data row12 col0\" >Latest Extract Date</td>\n",
       "      <td id=\"T_74067_row12_col1\" class=\"data row12 col1\" >TBC</td>\n",
       "    </tr>\n",
       "    <tr>\n",
       "      <td id=\"T_74067_row13_col0\" class=\"data row13 col0\" >Specific Restrictions to Data Use</td>\n",
       "      <td id=\"T_74067_row13_col1\" class=\"data row13 col1\" >None</td>\n",
       "    </tr>\n",
       "    <tr>\n",
       "      <td id=\"T_74067_row14_col0\" class=\"data row14 col0\" >Build a Data Request</td>\n",
       "      <td id=\"T_74067_row14_col1\" class=\"data row14 col1\" > <a href=\"https://explore.ukllc.ac.uk/\" rel=\"noopener noreferrer\" target=\"_blank\">https://explore.ukllc.ac.uk/</a></td>\n",
       "    </tr>\n",
       "  </tbody>\n",
       "</table>\n"
      ],
      "text/plain": [
       "<pandas.io.formats.style.Styler at 0x1acf0a09010>"
      ]
     },
     "execution_count": 5,
     "metadata": {},
     "output_type": "execute_result"
    }
   ],
   "source": [
    "DS(\"ahah_geo_indicators_england_wales\").info_table()"
   ]
  },
  {
   "cell_type": "code",
   "execution_count": 6,
   "id": "a7c25893",
   "metadata": {
    "tags": [
     "remove-input"
    ]
   },
   "outputs": [
    {
     "data": {
      "text/markdown": [
       "### ahah_geo_indicators_scotland"
      ],
      "text/plain": [
       "<IPython.core.display.Markdown object>"
      ]
     },
     "metadata": {},
     "output_type": "display_data"
    }
   ],
   "source": [
    "display(Markdown('### ahah_geo_indicators_scotland'))"
   ]
  },
  {
   "cell_type": "code",
   "execution_count": 7,
   "id": "128d1c99",
   "metadata": {
    "tags": [
     "remove-input",
     "hide-cell"
    ]
   },
   "outputs": [
    {
     "data": {
      "text/html": [
       "<style type=\"text/css\">\n",
       "#T_f6c0b th {\n",
       "  text-align: left;\n",
       "}\n",
       "#T_f6c0b_row0_col0, #T_f6c0b_row0_col1, #T_f6c0b_row1_col0, #T_f6c0b_row1_col1, #T_f6c0b_row2_col0, #T_f6c0b_row2_col1, #T_f6c0b_row3_col0, #T_f6c0b_row3_col1, #T_f6c0b_row4_col0, #T_f6c0b_row4_col1, #T_f6c0b_row5_col0, #T_f6c0b_row5_col1, #T_f6c0b_row6_col0, #T_f6c0b_row6_col1, #T_f6c0b_row7_col0, #T_f6c0b_row7_col1, #T_f6c0b_row8_col0, #T_f6c0b_row8_col1, #T_f6c0b_row9_col0, #T_f6c0b_row9_col1, #T_f6c0b_row10_col0, #T_f6c0b_row10_col1, #T_f6c0b_row11_col0, #T_f6c0b_row11_col1, #T_f6c0b_row12_col0, #T_f6c0b_row12_col1, #T_f6c0b_row13_col0, #T_f6c0b_row13_col1, #T_f6c0b_row14_col0, #T_f6c0b_row14_col1 {\n",
       "  text-align: left;\n",
       "}\n",
       "</style>\n",
       "<table id=\"T_f6c0b\" style=\"font-size: 14px\">\n",
       "  <thead>\n",
       "    <tr>\n",
       "      <th id=\"T_f6c0b_level0_col0\" class=\"col_heading level0 col0\" >Dataset Descriptor</th>\n",
       "      <th id=\"T_f6c0b_level0_col1\" class=\"col_heading level0 col1\" >Dataset-specific Information</th>\n",
       "    </tr>\n",
       "  </thead>\n",
       "  <tbody>\n",
       "    <tr>\n",
       "      <td id=\"T_f6c0b_row0_col0\" class=\"data row0 col0\" >Name of Dataset in TRE</td>\n",
       "      <td id=\"T_f6c0b_row0_col1\" class=\"data row0 col1\" >PLACE_ahah_geo_indicators_scotland</td>\n",
       "    </tr>\n",
       "    <tr>\n",
       "      <td id=\"T_f6c0b_row1_col0\" class=\"data row1 col0\" >Citation (APA)</td>\n",
       "      <td id=\"T_f6c0b_row1_col1\" class=\"data row1 col1\" >Geographic Data Service, Smart Data Research UK. (2025). <i>Place based data: AHAH Geo Indicators Scotland.</i> UK Longitudinal Linkage Collaboration (UK LLC).  <a href=\"https://doi.org/10.71760/ukllc-dataset-00431-01\" rel=\"noopener noreferrer\" target=\"_blank\">https://doi.org/10.71760/ukllc-dataset-00431-01</a></td>\n",
       "    </tr>\n",
       "    <tr>\n",
       "      <td id=\"T_f6c0b_row2_col0\" class=\"data row2 col0\" >Download Citation</td>\n",
       "      <td id=\"T_f6c0b_row2_col1\" class=\"data row2 col1\" > <a href=\"https://api.datacite.org/application/vnd.citationstyles.csl+json/10.71760/ukllc-dataset-00431-01\" rel=\"noopener noreferrer\" target=\"_blank\">Citeproc JSON</a>&nbsp;&nbsp;&nbsp;&nbsp; <a href=\"https://api.datacite.org/application/x-bibtex/10.71760/ukllc-dataset-00431-01\" rel=\"noopener noreferrer\" target=\"_blank\">BibTeX</a>&nbsp;&nbsp;&nbsp;&nbsp; <a href=\"https://api.datacite.org/application/x-research-info-systems/10.71760/ukllc-dataset-00431-01\" rel=\"noopener noreferrer\" target=\"_blank\">RIS</a></td>\n",
       "    </tr>\n",
       "    <tr>\n",
       "      <td id=\"T_f6c0b_row3_col0\" class=\"data row3 col0\" >Owner</td>\n",
       "      <td id=\"T_f6c0b_row3_col1\" class=\"data row3 col1\" >Geographic Data Service, Smart Data Research UK</td>\n",
       "    </tr>\n",
       "    <tr>\n",
       "      <td id=\"T_f6c0b_row4_col0\" class=\"data row4 col0\" >Authors</td>\n",
       "      <td id=\"T_f6c0b_row4_col1\" class=\"data row4 col1\" >Konstantinos Daras, Alec Davies, Mark Green, Alex  Singleton and Benjamin Barr (University of Liverpool)</td>\n",
       "    </tr>\n",
       "    <tr>\n",
       "      <td id=\"T_f6c0b_row5_col0\" class=\"data row5 col0\" >Temporal Coverage</td>\n",
       "      <td id=\"T_f6c0b_row5_col1\" class=\"data row5 col1\" >01/2019 - 01/2022</td>\n",
       "    </tr>\n",
       "    <tr>\n",
       "      <td id=\"T_f6c0b_row6_col0\" class=\"data row6 col0\" >Geographical Coverage</td>\n",
       "      <td id=\"T_f6c0b_row6_col1\" class=\"data row6 col1\" >Scotland</td>\n",
       "    </tr>\n",
       "    <tr>\n",
       "      <td id=\"T_f6c0b_row7_col0\" class=\"data row7 col0\" >Participant Count</td>\n",
       "      <td id=\"T_f6c0b_row7_col1\" class=\"data row7 col1\" >None</td>\n",
       "    </tr>\n",
       "    <tr>\n",
       "      <td id=\"T_f6c0b_row8_col0\" class=\"data row8 col0\" >Number of Variables</td>\n",
       "      <td id=\"T_f6c0b_row8_col1\" class=\"data row8 col1\" >22</td>\n",
       "    </tr>\n",
       "    <tr>\n",
       "      <td id=\"T_f6c0b_row9_col0\" class=\"data row9 col0\" >Number of Observations</td>\n",
       "      <td id=\"T_f6c0b_row9_col1\" class=\"data row9 col1\" >6976</td>\n",
       "    </tr>\n",
       "    <tr>\n",
       "      <td id=\"T_f6c0b_row10_col0\" class=\"data row10 col0\" >Key Link</td>\n",
       "      <td id=\"T_f6c0b_row10_col1\" class=\"data row10 col1\" > <a href=\" https://data.geods.ac.uk/dataset/access-to-healthy-assets-hazards-ahah\" rel=\"noopener noreferrer\" target=\"_blank\"> https://data.geods.ac.uk/dataset/access-to-healthy-assets-hazards-ahah</a></td>\n",
       "    </tr>\n",
       "    <tr>\n",
       "      <td id=\"T_f6c0b_row11_col0\" class=\"data row11 col0\" >Keywords</td>\n",
       "      <td id=\"T_f6c0b_row11_col1\" class=\"data row11 col1\" >environmental,geospatial,health,retail,air pollution,greenspace</td>\n",
       "    </tr>\n",
       "    <tr>\n",
       "      <td id=\"T_f6c0b_row12_col0\" class=\"data row12 col0\" >Latest Extract Date</td>\n",
       "      <td id=\"T_f6c0b_row12_col1\" class=\"data row12 col1\" >TBC</td>\n",
       "    </tr>\n",
       "    <tr>\n",
       "      <td id=\"T_f6c0b_row13_col0\" class=\"data row13 col0\" >Specific Restrictions to Data Use</td>\n",
       "      <td id=\"T_f6c0b_row13_col1\" class=\"data row13 col1\" >None</td>\n",
       "    </tr>\n",
       "    <tr>\n",
       "      <td id=\"T_f6c0b_row14_col0\" class=\"data row14 col0\" >Build a Data Request</td>\n",
       "      <td id=\"T_f6c0b_row14_col1\" class=\"data row14 col1\" > <a href=\"https://explore.ukllc.ac.uk/\" rel=\"noopener noreferrer\" target=\"_blank\">https://explore.ukllc.ac.uk/</a></td>\n",
       "    </tr>\n",
       "  </tbody>\n",
       "</table>\n"
      ],
      "text/plain": [
       "<pandas.io.formats.style.Styler at 0x1acf0a6ce10>"
      ]
     },
     "execution_count": 7,
     "metadata": {},
     "output_type": "execute_result"
    }
   ],
   "source": [
    "DS(\"ahah_geo_indicators_scotland\").info_table()"
   ]
  },
  {
   "cell_type": "markdown",
   "id": "10547426",
   "metadata": {},
   "source": [
    "## 2. Variables"
   ]
  },
  {
   "cell_type": "code",
   "execution_count": 8,
   "id": "35dfd0a3",
   "metadata": {
    "tags": [
     "remove-input"
    ]
   },
   "outputs": [
    {
     "data": {
      "text/markdown": [
       "### ahah_geo_indicators_england_wales"
      ],
      "text/plain": [
       "<IPython.core.display.Markdown object>"
      ]
     },
     "metadata": {},
     "output_type": "display_data"
    }
   ],
   "source": [
    "display(Markdown('### ahah_geo_indicators_england_wales'))"
   ]
  },
  {
   "cell_type": "code",
   "execution_count": 9,
   "id": "17887a22",
   "metadata": {
    "tags": [
     "remove-input",
     "hide-cell"
    ]
   },
   "outputs": [
    {
     "data": {
      "text/html": [
       "<style type=\"text/css\">\n",
       "#T_46449 th {\n",
       "  text-align: left;\n",
       "}\n",
       "#T_46449_row0_col0, #T_46449_row0_col1, #T_46449_row0_col2, #T_46449_row0_col3, #T_46449_row0_col4, #T_46449_row1_col0, #T_46449_row1_col1, #T_46449_row1_col2, #T_46449_row1_col3, #T_46449_row1_col4, #T_46449_row2_col0, #T_46449_row2_col1, #T_46449_row2_col2, #T_46449_row2_col3, #T_46449_row2_col4, #T_46449_row3_col0, #T_46449_row3_col1, #T_46449_row3_col2, #T_46449_row3_col3, #T_46449_row3_col4, #T_46449_row4_col0, #T_46449_row4_col1, #T_46449_row4_col2, #T_46449_row4_col3, #T_46449_row4_col4, #T_46449_row5_col0, #T_46449_row5_col1, #T_46449_row5_col2, #T_46449_row5_col3, #T_46449_row5_col4, #T_46449_row6_col0, #T_46449_row6_col1, #T_46449_row6_col2, #T_46449_row6_col3, #T_46449_row6_col4, #T_46449_row7_col0, #T_46449_row7_col1, #T_46449_row7_col2, #T_46449_row7_col3, #T_46449_row7_col4, #T_46449_row8_col0, #T_46449_row8_col1, #T_46449_row8_col2, #T_46449_row8_col3, #T_46449_row8_col4, #T_46449_row9_col0, #T_46449_row9_col1, #T_46449_row9_col2, #T_46449_row9_col3, #T_46449_row9_col4, #T_46449_row10_col0, #T_46449_row10_col1, #T_46449_row10_col2, #T_46449_row10_col3, #T_46449_row10_col4, #T_46449_row11_col0, #T_46449_row11_col1, #T_46449_row11_col2, #T_46449_row11_col3, #T_46449_row11_col4, #T_46449_row12_col0, #T_46449_row12_col1, #T_46449_row12_col2, #T_46449_row12_col3, #T_46449_row12_col4, #T_46449_row13_col0, #T_46449_row13_col1, #T_46449_row13_col2, #T_46449_row13_col3, #T_46449_row13_col4, #T_46449_row14_col0, #T_46449_row14_col1, #T_46449_row14_col2, #T_46449_row14_col3, #T_46449_row14_col4, #T_46449_row15_col0, #T_46449_row15_col1, #T_46449_row15_col2, #T_46449_row15_col3, #T_46449_row15_col4, #T_46449_row16_col0, #T_46449_row16_col1, #T_46449_row16_col2, #T_46449_row16_col3, #T_46449_row16_col4, #T_46449_row17_col0, #T_46449_row17_col1, #T_46449_row17_col2, #T_46449_row17_col3, #T_46449_row17_col4, #T_46449_row18_col0, #T_46449_row18_col1, #T_46449_row18_col2, #T_46449_row18_col3, #T_46449_row18_col4, #T_46449_row19_col0, #T_46449_row19_col1, #T_46449_row19_col2, #T_46449_row19_col3, #T_46449_row19_col4, #T_46449_row20_col0, #T_46449_row20_col1, #T_46449_row20_col2, #T_46449_row20_col3, #T_46449_row20_col4, #T_46449_row21_col0, #T_46449_row21_col1, #T_46449_row21_col2, #T_46449_row21_col3, #T_46449_row21_col4 {\n",
       "  text-align: left;\n",
       "}\n",
       "</style>\n",
       "<table id=\"T_46449\" style=\"font-size: 14px\">\n",
       "  <thead>\n",
       "    <tr>\n",
       "      <th id=\"T_46449_level0_col0\" class=\"col_heading level0 col0\" >Variable Group</th>\n",
       "      <th id=\"T_46449_level0_col1\" class=\"col_heading level0 col1\" >Variable</th>\n",
       "      <th id=\"T_46449_level0_col2\" class=\"col_heading level0 col2\" >Description</th>\n",
       "      <th id=\"T_46449_level0_col3\" class=\"col_heading level0 col3\" >Source</th>\n",
       "      <th id=\"T_46449_level0_col4\" class=\"col_heading level0 col4\" >Date range of data</th>\n",
       "    </tr>\n",
       "  </thead>\n",
       "  <tbody>\n",
       "    <tr>\n",
       "      <td id=\"T_46449_row0_col0\" class=\"data row0 col0\" >Geography</td>\n",
       "      <td id=\"T_46449_row0_col1\" class=\"data row0 col1\" >lsoa11cd_e</td>\n",
       "      <td id=\"T_46449_row0_col2\" class=\"data row0 col2\" >Geographical unit, Lower Super Output Area code (2011) for England and Wales </td>\n",
       "      <td id=\"T_46449_row0_col3\" class=\"data row0 col3\" >Office of National Statistics</td>\n",
       "      <td id=\"T_46449_row0_col4\" class=\"data row0 col4\" >2011</td>\n",
       "    </tr>\n",
       "    <tr>\n",
       "      <td id=\"T_46449_row1_col0\" class=\"data row1 col0\" >Health</td>\n",
       "      <td id=\"T_46449_row1_col1\" class=\"data row1 col1\" >health_domain</td>\n",
       "      <td id=\"T_46449_row1_col2\" class=\"data row1 col2\" >Health Domain Score presented as quintiles where 1=Best performing quintile, 5= Worst performing quintile.</td>\n",
       "      <td id=\"T_46449_row1_col3\" class=\"data row1 col3\" >Geographic Data Service </td>\n",
       "      <td id=\"T_46449_row1_col4\" class=\"data row1 col4\" >2022</td>\n",
       "    </tr>\n",
       "    <tr>\n",
       "      <td id=\"T_46449_row2_col0\" class=\"data row2 col0\" >Greenspace</td>\n",
       "      <td id=\"T_46449_row2_col1\" class=\"data row2 col1\" >greenspace_domain</td>\n",
       "      <td id=\"T_46449_row2_col2\" class=\"data row2 col2\" >Green/Bluespace Domain Score presented as quintiles where 1=Best performing quintile, 5= Worst performing quintile.</td>\n",
       "      <td id=\"T_46449_row2_col3\" class=\"data row2 col3\" >Geographic Data Service </td>\n",
       "      <td id=\"T_46449_row2_col4\" class=\"data row2 col4\" >2022</td>\n",
       "    </tr>\n",
       "    <tr>\n",
       "      <td id=\"T_46449_row3_col0\" class=\"data row3 col0\" >Air</td>\n",
       "      <td id=\"T_46449_row3_col1\" class=\"data row3 col1\" >air_domain</td>\n",
       "      <td id=\"T_46449_row3_col2\" class=\"data row3 col2\" >Air quality Domain Score presented as quintiles where 1=Best performing quintile, 5= Worst performing quintile.</td>\n",
       "      <td id=\"T_46449_row3_col3\" class=\"data row3 col3\" >Geographic Data Service </td>\n",
       "      <td id=\"T_46449_row3_col4\" class=\"data row3 col4\" >2022</td>\n",
       "    </tr>\n",
       "    <tr>\n",
       "      <td id=\"T_46449_row4_col0\" class=\"data row4 col0\" >Retail</td>\n",
       "      <td id=\"T_46449_row4_col1\" class=\"data row4 col1\" >retail_domain</td>\n",
       "      <td id=\"T_46449_row4_col2\" class=\"data row4 col2\" >Retail Domain Score presented as quintiles where 1=Best performing quintile, 5= Worst performing quintile.</td>\n",
       "      <td id=\"T_46449_row4_col3\" class=\"data row4 col3\" >Geographic Data Service </td>\n",
       "      <td id=\"T_46449_row4_col4\" class=\"data row4 col4\" >2022</td>\n",
       "    </tr>\n",
       "    <tr>\n",
       "      <td id=\"T_46449_row5_col0\" class=\"data row5 col0\" >Healthy Assets and Hazards</td>\n",
       "      <td id=\"T_46449_row5_col1\" class=\"data row5 col1\" >ahah_index</td>\n",
       "      <td id=\"T_46449_row5_col2\" class=\"data row5 col2\" >Access to Healthy Assets and Hazards index score presented as quintiles where 1=Best performing quintile, 5= Worst performing quintile.</td>\n",
       "      <td id=\"T_46449_row5_col3\" class=\"data row5 col3\" >Geographic Data Service </td>\n",
       "      <td id=\"T_46449_row5_col4\" class=\"data row5 col4\" >2022</td>\n",
       "    </tr>\n",
       "    <tr>\n",
       "      <td id=\"T_46449_row6_col0\" class=\"data row6 col0\" >Health</td>\n",
       "      <td id=\"T_46449_row6_col1\" class=\"data row6 col1\" >ah3gp</td>\n",
       "      <td id=\"T_46449_row6_col2\" class=\"data row6 col2\" >Distance to nearest GP Practice (minutes) presented as quintiles where 1=Best performing quintile, 5= Worst performing quintile.</td>\n",
       "      <td id=\"T_46449_row6_col3\" class=\"data row6 col3\" >NHS England</td>\n",
       "      <td id=\"T_46449_row6_col4\" class=\"data row6 col4\" >Feb-22</td>\n",
       "    </tr>\n",
       "    <tr>\n",
       "      <td id=\"T_46449_row7_col0\" class=\"data row7 col0\" >Health</td>\n",
       "      <td id=\"T_46449_row7_col1\" class=\"data row7 col1\" >ah3dent</td>\n",
       "      <td id=\"T_46449_row7_col2\" class=\"data row7 col2\" >Distance to nearest GP Dentist (minutes) presented as quintiles where 1=Best performing quintile, 5= Worst performing quintile.</td>\n",
       "      <td id=\"T_46449_row7_col3\" class=\"data row7 col3\" >NHS England</td>\n",
       "      <td id=\"T_46449_row7_col4\" class=\"data row7 col4\" >Jan-22</td>\n",
       "    </tr>\n",
       "    <tr>\n",
       "      <td id=\"T_46449_row8_col0\" class=\"data row8 col0\" >Health</td>\n",
       "      <td id=\"T_46449_row8_col1\" class=\"data row8 col1\" >ah3phar</td>\n",
       "      <td id=\"T_46449_row8_col2\" class=\"data row8 col2\" >Distance to nearest Pharmacy (minutes) presented as quintiles where 1=Best performing quintile, 5= Worst performing quintile.</td>\n",
       "      <td id=\"T_46449_row8_col3\" class=\"data row8 col3\" >NHS England/NHS Wales</td>\n",
       "      <td id=\"T_46449_row8_col4\" class=\"data row8 col4\" >Nov-21</td>\n",
       "    </tr>\n",
       "    <tr>\n",
       "      <td id=\"T_46449_row9_col0\" class=\"data row9 col0\" >Health</td>\n",
       "      <td id=\"T_46449_row9_col1\" class=\"data row9 col1\" >ah3hosp</td>\n",
       "      <td id=\"T_46449_row9_col2\" class=\"data row9 col2\" >Distance to nearest Hospital (minutes) presented as quintiles where 1=Best performing quintile, 5= Worst performing quintile.</td>\n",
       "      <td id=\"T_46449_row9_col3\" class=\"data row9 col3\" >NHS England</td>\n",
       "      <td id=\"T_46449_row9_col4\" class=\"data row9 col4\" >Feb-22</td>\n",
       "    </tr>\n",
       "    <tr>\n",
       "      <td id=\"T_46449_row10_col0\" class=\"data row10 col0\" >Environment</td>\n",
       "      <td id=\"T_46449_row10_col1\" class=\"data row10 col1\" >ah3blue</td>\n",
       "      <td id=\"T_46449_row10_col2\" class=\"data row10 col2\" >Distance to nearest Blue space (minutes) presented as quintiles where 1=Best performing quintile, 5= Worst performing quintile.</td>\n",
       "      <td id=\"T_46449_row10_col3\" class=\"data row10 col3\" >Open Street Map</td>\n",
       "      <td id=\"T_46449_row10_col4\" class=\"data row10 col4\" >2021</td>\n",
       "    </tr>\n",
       "    <tr>\n",
       "      <td id=\"T_46449_row11_col0\" class=\"data row11 col0\" >Environment</td>\n",
       "      <td id=\"T_46449_row11_col1\" class=\"data row11 col1\" >ah3gpas</td>\n",
       "      <td id=\"T_46449_row11_col2\" class=\"data row11 col2\" >NVDI value indicating Passive Green Space presented as quintiles where 1=Best performing quintile, 5= Worst performing quintile.</td>\n",
       "      <td id=\"T_46449_row11_col3\" class=\"data row11 col3\" >Sentinel Satellite</td>\n",
       "      <td id=\"T_46449_row11_col4\" class=\"data row11 col4\" >2021</td>\n",
       "    </tr>\n",
       "    <tr>\n",
       "      <td id=\"T_46449_row12_col0\" class=\"data row12 col0\" >Retail</td>\n",
       "      <td id=\"T_46449_row12_col1\" class=\"data row12 col1\" >ah3ffood</td>\n",
       "      <td id=\"T_46449_row12_col2\" class=\"data row12 col2\" >Distance to nearest Fast Food Outlet (minutes) presented as quintiles where 1=Best performing quintile, 5= Worst performing quintile.</td>\n",
       "      <td id=\"T_46449_row12_col3\" class=\"data row12 col3\" >Local Data Company</td>\n",
       "      <td id=\"T_46449_row12_col4\" class=\"data row12 col4\" >2019</td>\n",
       "    </tr>\n",
       "    <tr>\n",
       "      <td id=\"T_46449_row13_col0\" class=\"data row13 col0\" >Retail</td>\n",
       "      <td id=\"T_46449_row13_col1\" class=\"data row13 col1\" >ah3gamb</td>\n",
       "      <td id=\"T_46449_row13_col2\" class=\"data row13 col2\" >Distance to nearest Gambling Outlet (minutes) presented as quintiles where 1=Best performing quintile, 5= Worst performing quintile.</td>\n",
       "      <td id=\"T_46449_row13_col3\" class=\"data row13 col3\" >Local Data Company</td>\n",
       "      <td id=\"T_46449_row13_col4\" class=\"data row13 col4\" >2019</td>\n",
       "    </tr>\n",
       "    <tr>\n",
       "      <td id=\"T_46449_row14_col0\" class=\"data row14 col0\" >Retail</td>\n",
       "      <td id=\"T_46449_row14_col1\" class=\"data row14 col1\" >ah3leis</td>\n",
       "      <td id=\"T_46449_row14_col2\" class=\"data row14 col2\" >Distance to nearest Leisure Centre (minutes) presented as quintiles where 1=Best performing quintile, 5= Worst performing quintile.</td>\n",
       "      <td id=\"T_46449_row14_col3\" class=\"data row14 col3\" >Local Data Company</td>\n",
       "      <td id=\"T_46449_row14_col4\" class=\"data row14 col4\" >2019</td>\n",
       "    </tr>\n",
       "    <tr>\n",
       "      <td id=\"T_46449_row15_col0\" class=\"data row15 col0\" >Retail</td>\n",
       "      <td id=\"T_46449_row15_col1\" class=\"data row15 col1\" >ah3pubs</td>\n",
       "      <td id=\"T_46449_row15_col2\" class=\"data row15 col2\" >Distance to nearest Pubs/Bars/Nightclub (minutes)  presented as quintiles where 1=Best performing quintile, 5= Worst performing quintile.</td>\n",
       "      <td id=\"T_46449_row15_col3\" class=\"data row15 col3\" >Local Data Company</td>\n",
       "      <td id=\"T_46449_row15_col4\" class=\"data row15 col4\" >2019</td>\n",
       "    </tr>\n",
       "    <tr>\n",
       "      <td id=\"T_46449_row16_col0\" class=\"data row16 col0\" >Retail</td>\n",
       "      <td id=\"T_46449_row16_col1\" class=\"data row16 col1\" >ah3tob</td>\n",
       "      <td id=\"T_46449_row16_col2\" class=\"data row16 col2\" >Distance to nearest Tobacconists/Vape Store (minutes) presented as quintiles where 1=Best performing quintile, 5= Worst performing quintile.</td>\n",
       "      <td id=\"T_46449_row16_col3\" class=\"data row16 col3\" >Local Data Company</td>\n",
       "      <td id=\"T_46449_row16_col4\" class=\"data row16 col4\" >2019</td>\n",
       "    </tr>\n",
       "    <tr>\n",
       "      <td id=\"T_46449_row17_col0\" class=\"data row17 col0\" >Air</td>\n",
       "      <td id=\"T_46449_row17_col1\" class=\"data row17 col1\" >ah3no2</td>\n",
       "      <td id=\"T_46449_row17_col2\" class=\"data row17 col2\" >Annual mean Nitrogen Dioxide (?gm³) presented as quintiles where 1=Best performing quintile, 5= Worst performing quintile.</td>\n",
       "      <td id=\"T_46449_row17_col3\" class=\"data row17 col3\" >DEFRA</td>\n",
       "      <td id=\"T_46449_row17_col4\" class=\"data row17 col4\" >2019</td>\n",
       "    </tr>\n",
       "    <tr>\n",
       "      <td id=\"T_46449_row18_col0\" class=\"data row18 col0\" >Air</td>\n",
       "      <td id=\"T_46449_row18_col1\" class=\"data row18 col1\" >ah3so2</td>\n",
       "      <td id=\"T_46449_row18_col2\" class=\"data row18 col2\" >Annual mean Sulphur Dioxide (?gm³) presented as quintiles where 1=Best performing quintile, 5= Worst performing quintile.</td>\n",
       "      <td id=\"T_46449_row18_col3\" class=\"data row18 col3\" >DEFRA</td>\n",
       "      <td id=\"T_46449_row18_col4\" class=\"data row18 col4\" >2019</td>\n",
       "    </tr>\n",
       "    <tr>\n",
       "      <td id=\"T_46449_row19_col0\" class=\"data row19 col0\" >Air</td>\n",
       "      <td id=\"T_46449_row19_col1\" class=\"data row19 col1\" >ah3pm10</td>\n",
       "      <td id=\"T_46449_row19_col2\" class=\"data row19 col2\" >Annual mean Particulate Matter (?gm³) presented as quintiles where 1=Best performing quintile, 5= Worst performing quintile.</td>\n",
       "      <td id=\"T_46449_row19_col3\" class=\"data row19 col3\" >DEFRA</td>\n",
       "      <td id=\"T_46449_row19_col4\" class=\"data row19 col4\" >2019</td>\n",
       "    </tr>\n",
       "    <tr>\n",
       "      <td id=\"T_46449_row20_col0\" class=\"data row20 col0\" >Geography</td>\n",
       "      <td id=\"T_46449_row20_col1\" class=\"data row20 col1\" >rgn11nm</td>\n",
       "      <td id=\"T_46449_row20_col2\" class=\"data row20 col2\" >Nations within Great Britain: Scotland, Wales, and Regions within England</td>\n",
       "      <td id=\"T_46449_row20_col3\" class=\"data row20 col3\" >Office of National Statistics</td>\n",
       "      <td id=\"T_46449_row20_col4\" class=\"data row20 col4\" >2011</td>\n",
       "    </tr>\n",
       "    <tr>\n",
       "      <td id=\"T_46449_row21_col0\" class=\"data row21 col0\" >UK LLC</td>\n",
       "      <td id=\"T_46449_row21_col1\" class=\"data row21 col1\" >avail_from_dt</td>\n",
       "      <td id=\"T_46449_row21_col2\" class=\"data row21 col2\" >None</td>\n",
       "      <td id=\"T_46449_row21_col3\" class=\"data row21 col3\" >UK LLC</td>\n",
       "      <td id=\"T_46449_row21_col4\" class=\"data row21 col4\" >None</td>\n",
       "    </tr>\n",
       "  </tbody>\n",
       "</table>\n"
      ],
      "text/plain": [
       "<pandas.io.formats.style.Styler at 0x1acf0a6d950>"
      ]
     },
     "execution_count": 9,
     "metadata": {},
     "output_type": "execute_result"
    }
   ],
   "source": [
    "DS(\"ahah_geo_indicators_england_wales\").variable_table()"
   ]
  },
  {
   "cell_type": "code",
   "execution_count": 10,
   "id": "df4a71e7",
   "metadata": {
    "tags": [
     "remove-input"
    ]
   },
   "outputs": [
    {
     "data": {
      "text/markdown": [
       "### ahah_geo_indicators_scotland"
      ],
      "text/plain": [
       "<IPython.core.display.Markdown object>"
      ]
     },
     "metadata": {},
     "output_type": "display_data"
    }
   ],
   "source": [
    "display(Markdown('### ahah_geo_indicators_scotland'))"
   ]
  },
  {
   "cell_type": "code",
   "execution_count": 11,
   "id": "9c992942",
   "metadata": {
    "tags": [
     "remove-input",
     "hide-cell"
    ]
   },
   "outputs": [
    {
     "data": {
      "text/html": [
       "<style type=\"text/css\">\n",
       "#T_24188 th {\n",
       "  text-align: left;\n",
       "}\n",
       "#T_24188_row0_col0, #T_24188_row0_col1, #T_24188_row0_col2, #T_24188_row0_col3, #T_24188_row0_col4, #T_24188_row1_col0, #T_24188_row1_col1, #T_24188_row1_col2, #T_24188_row1_col3, #T_24188_row1_col4, #T_24188_row2_col0, #T_24188_row2_col1, #T_24188_row2_col2, #T_24188_row2_col3, #T_24188_row2_col4, #T_24188_row3_col0, #T_24188_row3_col1, #T_24188_row3_col2, #T_24188_row3_col3, #T_24188_row3_col4, #T_24188_row4_col0, #T_24188_row4_col1, #T_24188_row4_col2, #T_24188_row4_col3, #T_24188_row4_col4, #T_24188_row5_col0, #T_24188_row5_col1, #T_24188_row5_col2, #T_24188_row5_col3, #T_24188_row5_col4, #T_24188_row6_col0, #T_24188_row6_col1, #T_24188_row6_col2, #T_24188_row6_col3, #T_24188_row6_col4, #T_24188_row7_col0, #T_24188_row7_col1, #T_24188_row7_col2, #T_24188_row7_col3, #T_24188_row7_col4, #T_24188_row8_col0, #T_24188_row8_col1, #T_24188_row8_col2, #T_24188_row8_col3, #T_24188_row8_col4, #T_24188_row9_col0, #T_24188_row9_col1, #T_24188_row9_col2, #T_24188_row9_col3, #T_24188_row9_col4, #T_24188_row10_col0, #T_24188_row10_col1, #T_24188_row10_col2, #T_24188_row10_col3, #T_24188_row10_col4, #T_24188_row11_col0, #T_24188_row11_col1, #T_24188_row11_col2, #T_24188_row11_col3, #T_24188_row11_col4, #T_24188_row12_col0, #T_24188_row12_col1, #T_24188_row12_col2, #T_24188_row12_col3, #T_24188_row12_col4, #T_24188_row13_col0, #T_24188_row13_col1, #T_24188_row13_col2, #T_24188_row13_col3, #T_24188_row13_col4, #T_24188_row14_col0, #T_24188_row14_col1, #T_24188_row14_col2, #T_24188_row14_col3, #T_24188_row14_col4, #T_24188_row15_col0, #T_24188_row15_col1, #T_24188_row15_col2, #T_24188_row15_col3, #T_24188_row15_col4, #T_24188_row16_col0, #T_24188_row16_col1, #T_24188_row16_col2, #T_24188_row16_col3, #T_24188_row16_col4, #T_24188_row17_col0, #T_24188_row17_col1, #T_24188_row17_col2, #T_24188_row17_col3, #T_24188_row17_col4, #T_24188_row18_col0, #T_24188_row18_col1, #T_24188_row18_col2, #T_24188_row18_col3, #T_24188_row18_col4, #T_24188_row19_col0, #T_24188_row19_col1, #T_24188_row19_col2, #T_24188_row19_col3, #T_24188_row19_col4, #T_24188_row20_col0, #T_24188_row20_col1, #T_24188_row20_col2, #T_24188_row20_col3, #T_24188_row20_col4, #T_24188_row21_col0, #T_24188_row21_col1, #T_24188_row21_col2, #T_24188_row21_col3, #T_24188_row21_col4 {\n",
       "  text-align: left;\n",
       "}\n",
       "</style>\n",
       "<table id=\"T_24188\" style=\"font-size: 14px\">\n",
       "  <thead>\n",
       "    <tr>\n",
       "      <th id=\"T_24188_level0_col0\" class=\"col_heading level0 col0\" >Variable Group</th>\n",
       "      <th id=\"T_24188_level0_col1\" class=\"col_heading level0 col1\" >Variable</th>\n",
       "      <th id=\"T_24188_level0_col2\" class=\"col_heading level0 col2\" >Description</th>\n",
       "      <th id=\"T_24188_level0_col3\" class=\"col_heading level0 col3\" >Source</th>\n",
       "      <th id=\"T_24188_level0_col4\" class=\"col_heading level0 col4\" >Date range of data</th>\n",
       "    </tr>\n",
       "  </thead>\n",
       "  <tbody>\n",
       "    <tr>\n",
       "      <td id=\"T_24188_row0_col0\" class=\"data row0 col0\" >Geography</td>\n",
       "      <td id=\"T_24188_row0_col1\" class=\"data row0 col1\" >dz11cd_e</td>\n",
       "      <td id=\"T_24188_row0_col2\" class=\"data row0 col2\" >Geographical unit, Data Zones (2011) for Scotland</td>\n",
       "      <td id=\"T_24188_row0_col3\" class=\"data row0 col3\" >gov.scot</td>\n",
       "      <td id=\"T_24188_row0_col4\" class=\"data row0 col4\" >2011</td>\n",
       "    </tr>\n",
       "    <tr>\n",
       "      <td id=\"T_24188_row1_col0\" class=\"data row1 col0\" >Health</td>\n",
       "      <td id=\"T_24188_row1_col1\" class=\"data row1 col1\" >health_domain</td>\n",
       "      <td id=\"T_24188_row1_col2\" class=\"data row1 col2\" >Health Domain Score presented as quintiles where 1=Best performing quintile, 5= Worst performing quintile.</td>\n",
       "      <td id=\"T_24188_row1_col3\" class=\"data row1 col3\" >Geographic Data Service </td>\n",
       "      <td id=\"T_24188_row1_col4\" class=\"data row1 col4\" >2022</td>\n",
       "    </tr>\n",
       "    <tr>\n",
       "      <td id=\"T_24188_row2_col0\" class=\"data row2 col0\" >Greenspace</td>\n",
       "      <td id=\"T_24188_row2_col1\" class=\"data row2 col1\" >greenspace_domain</td>\n",
       "      <td id=\"T_24188_row2_col2\" class=\"data row2 col2\" >Green/Bluespace Domain Score presented as quintiles where 1=Best performing quintile, 5= Worst performing quintile.</td>\n",
       "      <td id=\"T_24188_row2_col3\" class=\"data row2 col3\" >Geographic Data Service </td>\n",
       "      <td id=\"T_24188_row2_col4\" class=\"data row2 col4\" >2022</td>\n",
       "    </tr>\n",
       "    <tr>\n",
       "      <td id=\"T_24188_row3_col0\" class=\"data row3 col0\" >Air</td>\n",
       "      <td id=\"T_24188_row3_col1\" class=\"data row3 col1\" >air_domain</td>\n",
       "      <td id=\"T_24188_row3_col2\" class=\"data row3 col2\" >Air quality Domain Score presented as quintiles where 1=Best performing quintile, 5= Worst performing quintile.</td>\n",
       "      <td id=\"T_24188_row3_col3\" class=\"data row3 col3\" >Geographic Data Service </td>\n",
       "      <td id=\"T_24188_row3_col4\" class=\"data row3 col4\" >2022</td>\n",
       "    </tr>\n",
       "    <tr>\n",
       "      <td id=\"T_24188_row4_col0\" class=\"data row4 col0\" >Retail</td>\n",
       "      <td id=\"T_24188_row4_col1\" class=\"data row4 col1\" >retail_domain</td>\n",
       "      <td id=\"T_24188_row4_col2\" class=\"data row4 col2\" >Retail Domain Score presented as quintiles where 1=Best performing quintile, 5= Worst performing quintile.</td>\n",
       "      <td id=\"T_24188_row4_col3\" class=\"data row4 col3\" >Geographic Data Service </td>\n",
       "      <td id=\"T_24188_row4_col4\" class=\"data row4 col4\" >2022</td>\n",
       "    </tr>\n",
       "    <tr>\n",
       "      <td id=\"T_24188_row5_col0\" class=\"data row5 col0\" >Healthy Assets and Hazards</td>\n",
       "      <td id=\"T_24188_row5_col1\" class=\"data row5 col1\" >ahah_index</td>\n",
       "      <td id=\"T_24188_row5_col2\" class=\"data row5 col2\" >Access to Healthy Assets and Hazards index score presented as quintiles where 1=Best performing quintile, 5= Worst performing quintile.</td>\n",
       "      <td id=\"T_24188_row5_col3\" class=\"data row5 col3\" >Geographic Data Service </td>\n",
       "      <td id=\"T_24188_row5_col4\" class=\"data row5 col4\" >2022</td>\n",
       "    </tr>\n",
       "    <tr>\n",
       "      <td id=\"T_24188_row6_col0\" class=\"data row6 col0\" >Health</td>\n",
       "      <td id=\"T_24188_row6_col1\" class=\"data row6 col1\" >ah3gp</td>\n",
       "      <td id=\"T_24188_row6_col2\" class=\"data row6 col2\" >Distance to nearest GP Practice (minutes) presented as quintiles where 1=Best performing quintile, 5= Worst performing quintile.</td>\n",
       "      <td id=\"T_24188_row6_col3\" class=\"data row6 col3\" >NHS Scotland</td>\n",
       "      <td id=\"T_24188_row6_col4\" class=\"data row6 col4\" >Jan-22</td>\n",
       "    </tr>\n",
       "    <tr>\n",
       "      <td id=\"T_24188_row7_col0\" class=\"data row7 col0\" >Health</td>\n",
       "      <td id=\"T_24188_row7_col1\" class=\"data row7 col1\" >ah3dent</td>\n",
       "      <td id=\"T_24188_row7_col2\" class=\"data row7 col2\" >Distance to nearest GP Dentist (minutes) presented as quintiles where 1=Best performing quintile, 5= Worst performing quintile.</td>\n",
       "      <td id=\"T_24188_row7_col3\" class=\"data row7 col3\" >NHS Scotland</td>\n",
       "      <td id=\"T_24188_row7_col4\" class=\"data row7 col4\" >Jun-21</td>\n",
       "    </tr>\n",
       "    <tr>\n",
       "      <td id=\"T_24188_row8_col0\" class=\"data row8 col0\" >Health</td>\n",
       "      <td id=\"T_24188_row8_col1\" class=\"data row8 col1\" >ah3phar</td>\n",
       "      <td id=\"T_24188_row8_col2\" class=\"data row8 col2\" >Distance to nearest Pharmacy (minutes) presented as quintiles where 1=Best performing quintile, 5= Worst performing quintile.</td>\n",
       "      <td id=\"T_24188_row8_col3\" class=\"data row8 col3\" >NHS Scotland</td>\n",
       "      <td id=\"T_24188_row8_col4\" class=\"data row8 col4\" >Oct-21</td>\n",
       "    </tr>\n",
       "    <tr>\n",
       "      <td id=\"T_24188_row9_col0\" class=\"data row9 col0\" >Health</td>\n",
       "      <td id=\"T_24188_row9_col1\" class=\"data row9 col1\" >ah3hosp</td>\n",
       "      <td id=\"T_24188_row9_col2\" class=\"data row9 col2\" >Distance to nearest Hospital (minutes) presented as quintiles where 1=Best performing quintile, 5= Worst performing quintile.</td>\n",
       "      <td id=\"T_24188_row9_col3\" class=\"data row9 col3\" >NHS Scotland</td>\n",
       "      <td id=\"T_24188_row9_col4\" class=\"data row9 col4\" >Dec-21</td>\n",
       "    </tr>\n",
       "    <tr>\n",
       "      <td id=\"T_24188_row10_col0\" class=\"data row10 col0\" >Environment</td>\n",
       "      <td id=\"T_24188_row10_col1\" class=\"data row10 col1\" >ah3blue</td>\n",
       "      <td id=\"T_24188_row10_col2\" class=\"data row10 col2\" >Distance to nearest Blue space (minutes) presented as quintiles where 1=Best performing quintile, 5= Worst performing quintile.</td>\n",
       "      <td id=\"T_24188_row10_col3\" class=\"data row10 col3\" >Open Street Map</td>\n",
       "      <td id=\"T_24188_row10_col4\" class=\"data row10 col4\" >2021</td>\n",
       "    </tr>\n",
       "    <tr>\n",
       "      <td id=\"T_24188_row11_col0\" class=\"data row11 col0\" >Environment</td>\n",
       "      <td id=\"T_24188_row11_col1\" class=\"data row11 col1\" >ah3gpas</td>\n",
       "      <td id=\"T_24188_row11_col2\" class=\"data row11 col2\" >NVDI value indicating Passive Green Space presented as quintiles where 1=Best performing quintile, 5= Worst performing quintile.</td>\n",
       "      <td id=\"T_24188_row11_col3\" class=\"data row11 col3\" >Sentinel Satellite</td>\n",
       "      <td id=\"T_24188_row11_col4\" class=\"data row11 col4\" >2021</td>\n",
       "    </tr>\n",
       "    <tr>\n",
       "      <td id=\"T_24188_row12_col0\" class=\"data row12 col0\" >Retail</td>\n",
       "      <td id=\"T_24188_row12_col1\" class=\"data row12 col1\" >ah3ffood</td>\n",
       "      <td id=\"T_24188_row12_col2\" class=\"data row12 col2\" >Distance to nearest Fast Food Outlet (minutes) presented as quintiles where 1=Best performing quintile, 5= Worst performing quintile.</td>\n",
       "      <td id=\"T_24188_row12_col3\" class=\"data row12 col3\" >Local Data Company</td>\n",
       "      <td id=\"T_24188_row12_col4\" class=\"data row12 col4\" >2019</td>\n",
       "    </tr>\n",
       "    <tr>\n",
       "      <td id=\"T_24188_row13_col0\" class=\"data row13 col0\" >Retail</td>\n",
       "      <td id=\"T_24188_row13_col1\" class=\"data row13 col1\" >ah3gamb</td>\n",
       "      <td id=\"T_24188_row13_col2\" class=\"data row13 col2\" >Distance to nearest Gambling Outlet (minutes) presented as quintiles where 1=Best performing quintile, 5= Worst performing quintile.</td>\n",
       "      <td id=\"T_24188_row13_col3\" class=\"data row13 col3\" >Local Data Company</td>\n",
       "      <td id=\"T_24188_row13_col4\" class=\"data row13 col4\" >2019</td>\n",
       "    </tr>\n",
       "    <tr>\n",
       "      <td id=\"T_24188_row14_col0\" class=\"data row14 col0\" >Retail</td>\n",
       "      <td id=\"T_24188_row14_col1\" class=\"data row14 col1\" >ah3leis</td>\n",
       "      <td id=\"T_24188_row14_col2\" class=\"data row14 col2\" >Distance to nearest Leisure Centre (minutes) presented as quintiles where 1=Best performing quintile, 5= Worst performing quintile.</td>\n",
       "      <td id=\"T_24188_row14_col3\" class=\"data row14 col3\" >Local Data Company</td>\n",
       "      <td id=\"T_24188_row14_col4\" class=\"data row14 col4\" >2019</td>\n",
       "    </tr>\n",
       "    <tr>\n",
       "      <td id=\"T_24188_row15_col0\" class=\"data row15 col0\" >Retail</td>\n",
       "      <td id=\"T_24188_row15_col1\" class=\"data row15 col1\" >ah3pubs</td>\n",
       "      <td id=\"T_24188_row15_col2\" class=\"data row15 col2\" >Distance to nearest Pubs/Bars/Nightclub (minutes)  presented as quintiles where 1=Best performing quintile, 5= Worst performing quintile.</td>\n",
       "      <td id=\"T_24188_row15_col3\" class=\"data row15 col3\" >Local Data Company</td>\n",
       "      <td id=\"T_24188_row15_col4\" class=\"data row15 col4\" >2019</td>\n",
       "    </tr>\n",
       "    <tr>\n",
       "      <td id=\"T_24188_row16_col0\" class=\"data row16 col0\" >Retail</td>\n",
       "      <td id=\"T_24188_row16_col1\" class=\"data row16 col1\" >ah3tob</td>\n",
       "      <td id=\"T_24188_row16_col2\" class=\"data row16 col2\" >Distance to nearest Tobacconists/Vape Store (minutes) presented as quintiles where 1=Best performing quintile, 5= Worst performing quintile.</td>\n",
       "      <td id=\"T_24188_row16_col3\" class=\"data row16 col3\" >Local Data Company</td>\n",
       "      <td id=\"T_24188_row16_col4\" class=\"data row16 col4\" >2019</td>\n",
       "    </tr>\n",
       "    <tr>\n",
       "      <td id=\"T_24188_row17_col0\" class=\"data row17 col0\" >Air</td>\n",
       "      <td id=\"T_24188_row17_col1\" class=\"data row17 col1\" >ah3no2</td>\n",
       "      <td id=\"T_24188_row17_col2\" class=\"data row17 col2\" >Annual mean Nitrogen Dioxide (?gm³) presented as quintiles where 1=Best performing quintile, 5= Worst performing quintile.</td>\n",
       "      <td id=\"T_24188_row17_col3\" class=\"data row17 col3\" >DEFRA</td>\n",
       "      <td id=\"T_24188_row17_col4\" class=\"data row17 col4\" >2019</td>\n",
       "    </tr>\n",
       "    <tr>\n",
       "      <td id=\"T_24188_row18_col0\" class=\"data row18 col0\" >Air</td>\n",
       "      <td id=\"T_24188_row18_col1\" class=\"data row18 col1\" >ah3so2</td>\n",
       "      <td id=\"T_24188_row18_col2\" class=\"data row18 col2\" >Annual mean Sulphur Dioxide (?gm³) presented as quintiles where 1=Best performing quintile, 5= Worst performing quintile.</td>\n",
       "      <td id=\"T_24188_row18_col3\" class=\"data row18 col3\" >DEFRA</td>\n",
       "      <td id=\"T_24188_row18_col4\" class=\"data row18 col4\" >2019</td>\n",
       "    </tr>\n",
       "    <tr>\n",
       "      <td id=\"T_24188_row19_col0\" class=\"data row19 col0\" >Air</td>\n",
       "      <td id=\"T_24188_row19_col1\" class=\"data row19 col1\" >ah3pm10</td>\n",
       "      <td id=\"T_24188_row19_col2\" class=\"data row19 col2\" >Annual mean Particulate Matter (?gm³) presented as quintiles where 1=Best performing quintile, 5= Worst performing quintile.</td>\n",
       "      <td id=\"T_24188_row19_col3\" class=\"data row19 col3\" >DEFRA</td>\n",
       "      <td id=\"T_24188_row19_col4\" class=\"data row19 col4\" >2019</td>\n",
       "    </tr>\n",
       "    <tr>\n",
       "      <td id=\"T_24188_row20_col0\" class=\"data row20 col0\" >Geography</td>\n",
       "      <td id=\"T_24188_row20_col1\" class=\"data row20 col1\" >rgn11nm</td>\n",
       "      <td id=\"T_24188_row20_col2\" class=\"data row20 col2\" >Nations within Great Britain: Scotland, Wales, and Regions within England</td>\n",
       "      <td id=\"T_24188_row20_col3\" class=\"data row20 col3\" >Office of National Statistics</td>\n",
       "      <td id=\"T_24188_row20_col4\" class=\"data row20 col4\" >2011</td>\n",
       "    </tr>\n",
       "    <tr>\n",
       "      <td id=\"T_24188_row21_col0\" class=\"data row21 col0\" >UK LLC</td>\n",
       "      <td id=\"T_24188_row21_col1\" class=\"data row21 col1\" >avail_from_dt</td>\n",
       "      <td id=\"T_24188_row21_col2\" class=\"data row21 col2\" >None</td>\n",
       "      <td id=\"T_24188_row21_col3\" class=\"data row21 col3\" >UK LLC</td>\n",
       "      <td id=\"T_24188_row21_col4\" class=\"data row21 col4\" >None</td>\n",
       "    </tr>\n",
       "  </tbody>\n",
       "</table>\n"
      ],
      "text/plain": [
       "<pandas.io.formats.style.Styler at 0x1acf0a6e5d0>"
      ]
     },
     "execution_count": 11,
     "metadata": {},
     "output_type": "execute_result"
    }
   ],
   "source": [
    "DS(\"ahah_geo_indicators_scotland\").variable_table()"
   ]
  },
  {
   "cell_type": "markdown",
   "id": "4705ea18",
   "metadata": {},
   "source": [
    "## 3. Metrics"
   ]
  },
  {
   "cell_type": "code",
   "execution_count": 12,
   "id": "66756281",
   "metadata": {
    "tags": [
     "remove-input"
    ]
   },
   "outputs": [
    {
     "data": {
      "text/markdown": [
       "TBC"
      ],
      "text/plain": [
       "<IPython.core.display.Markdown object>"
      ]
     },
     "metadata": {},
     "output_type": "display_data"
    }
   ],
   "source": [
    "display(Markdown('TBC'))"
   ]
  },
  {
   "cell_type": "markdown",
   "id": "992091a7",
   "metadata": {},
   "source": [
    "## 4. Version History"
   ]
  },
  {
   "cell_type": "code",
   "execution_count": 13,
   "id": "69571d0d",
   "metadata": {
    "tags": [
     "remove-input"
    ]
   },
   "outputs": [
    {
     "data": {
      "text/markdown": [
       "TBC"
      ],
      "text/plain": [
       "<IPython.core.display.Markdown object>"
      ]
     },
     "metadata": {},
     "output_type": "display_data"
    }
   ],
   "source": [
    "display(Markdown('TBC'))"
   ]
  },
  {
   "cell_type": "markdown",
   "id": "0acfb062",
   "metadata": {},
   "source": [
    "## 5. Documentation"
   ]
  },
  {
   "cell_type": "code",
   "execution_count": 14,
   "id": "b5a900e4",
   "metadata": {
    "tags": [
     "remove-input"
    ]
   },
   "outputs": [
    {
     "data": {
      "text/markdown": [
       "We are currently building a documentation storage system which will host useful documents related to datasets and data owners. We will surface these documents on Guidebook."
      ],
      "text/plain": [
       "<IPython.core.display.Markdown object>"
      ]
     },
     "metadata": {},
     "output_type": "display_data"
    }
   ],
   "source": [
    "DS(\"townsend_england_wales\").documentation()"
   ]
  },
  {
   "cell_type": "markdown",
   "id": "1cf8b659",
   "metadata": {},
   "source": [
    "## 6. Useful Syntax"
   ]
  },
  {
   "cell_type": "code",
   "execution_count": 15,
   "id": "c1392740",
   "metadata": {
    "tags": [
     "remove-input"
    ]
   },
   "outputs": [
    {
     "data": {
      "text/markdown": [
       "Below we will include syntax that may be helpful to other researchers in the UK LLC TRE. For longer scripts, we will include a snippet of the code plus a link to the [UK LLC GitHub](https://github.com/UKLLC) repository where you can find the full scripts."
      ],
      "text/plain": [
       "<IPython.core.display.Markdown object>"
      ]
     },
     "metadata": {},
     "output_type": "display_data"
    }
   ],
   "source": [
    "DS(\"townsend_england_wales\").useful_syntax()"
   ]
  }
 ],
 "metadata": {
  "kernelspec": {
   "display_name": "jupbook",
   "language": "python",
   "name": "python3"
  },
  "language_info": {
   "codemirror_mode": {
    "name": "ipython",
    "version": 3
   },
   "file_extension": ".py",
   "mimetype": "text/x-python",
   "name": "python",
   "nbconvert_exporter": "python",
   "pygments_lexer": "ipython3",
   "version": "3.13.2"
  },
  "mystnb": {
   "code_prompt_hide": "Hide Information",
   "code_prompt_show": "Show Information"
  }
 },
 "nbformat": 4,
 "nbformat_minor": 5
}
